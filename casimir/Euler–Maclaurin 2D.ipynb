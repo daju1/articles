{
 "cells": [
  {
   "cell_type": "code",
   "execution_count": 1,
   "metadata": {},
   "outputs": [],
   "source": [
    "def my_euler_maclaurin1(f,symb,a,b,p,calc_R_p=False, ):\n",
    "    print(\"f\", f)\n",
    "    print(\"symb,a,b\", symb, a, b)\n",
    "    print(\"\")\n",
    "    u, j = var(\"u, j\")\n",
    "\n",
    "    sum_dfdx_a_bernoullis = sum([(f.diff(symb,k-1))*(bernoulli(k)/factorial(k)) for k in range(1,1+p)])\n",
    "    print(\"sum_dfdx_a_bernoullis\", sum_dfdx_a_bernoullis)\n",
    "    print(\"sum_dfdx_a_bernoullis(a)\", sum_dfdx_a_bernoullis.subs(symb == a))\n",
    "    if Infinity != b:\n",
    "        print(\"sum_dfdx_a_bernoullis(b)\", sum_dfdx_a_bernoullis.subs(symb == b))\n",
    "\n",
    "    if True:\n",
    "        B = lambda x, _p : bernoulli_polynomial(x, _p)\n",
    "        fact = lambda n : factorial(n)\n",
    "    else:\n",
    "        B = function(\"B\")(x,p)\n",
    "        fact = function(\"fact\")(n)\n",
    "    if True == calc_R_p:\n",
    "        # Can't calculate derivative wrt j + u.\n",
    "        #int_R_p = lambda j : integral(f.diff(symb,p).subs(symb == u+j) * bernoulli_polynomial(u,p)/factorial(p), (u,0,1))\n",
    "        def int_R_p(j):\n",
    "            deriv = f.diff(symb,p)\n",
    "            print(\"deriv\", deriv)\n",
    "            deriv_s = deriv.subs(symb == u+j)\n",
    "            print(\"deriv_s\", deriv_s)\n",
    "            int_f_diff_B_fact = integral(deriv_s * bernoulli_polynomial(u,p)/factorial(p), (u,0,1))\n",
    "            print(\"int_f_diff_B_fact\", int_f_diff_B_fact)\n",
    "            return int_f_diff_B_fact\n",
    "        \n",
    "        #print(\"int_R_p(j)\", int_R_p(j))\n",
    "        print(\"int_R_p(j = a)\", int_R_p(j = a))\n",
    "        assume(j>0)\n",
    "        R_p = (-1)^(p+1)*sum(int_R_p(j=j), j, a, b-1)\n",
    "\n",
    "    int_fn_a_b = integral(f, (symb, a, b))\n",
    "    print(\"int_fn_a_b\", int_fn_a_b)\n",
    "    \n",
    "    #s = int_fn_a_b + sum_dfdx_a_bernoullis(b) - sum_dfdx_a_bernoullis(a) + R_p\n",
    "    s = int_fn_a_b - sum_dfdx_a_bernoullis.subs(symb == a)\n",
    "    if Infinity != b:\n",
    "        s += sum_dfdx_a_bernoullis.subs(symb == b)\n",
    "    if True == calc_R_p:\n",
    "        s += R_p\n",
    "        \n",
    "    if False:\n",
    "        print(\"int_fn_a_b\", int_fn_a_b)\n",
    "        print(\"sum_dfdx_a_bernoullis(a)\", sum_dfdx_a_bernoullis(a))\n",
    "        if Infinity != b:\n",
    "            print(\"sum_dfdx_a_bernoullis(b)\", sum_dfdx_a_bernoullis(b))\n",
    "        if True == calc_R_p:\n",
    "            print(\"int_R_p(j = a)\", int_R_p(j = a))\n",
    "            print(\"R_p\", R_p)\n",
    "        print(\"\")\n",
    "        print(\"s\",s)\n",
    "    return s"
   ]
  },
  {
   "cell_type": "code",
   "execution_count": 2,
   "metadata": {},
   "outputs": [],
   "source": [
    "from IPython.display import display, Math, Latex"
   ]
  },
  {
   "cell_type": "code",
   "execution_count": 3,
   "metadata": {},
   "outputs": [
    {
     "name": "stdout",
     "output_type": "stream",
     "text": [
      "F\n"
     ]
    }
   ],
   "source": [
    "a_x = var(\"n_x\")\n",
    "b_x = var(\"b_x\")\n",
    "a_y = var(\"n_y\")\n",
    "b_y = var(\"b_y\")\n",
    "\n",
    "assume(a_x, 'real')\n",
    "assume(b_x, 'real')\n",
    "assume(a_y, 'real')\n",
    "assume(b_y, 'real')\n",
    "\n",
    "assume(a_x, 'integer')\n",
    "assume(b_x, 'integer')\n",
    "assume(a_y, 'integer')\n",
    "assume(b_y, 'integer')\n",
    "\n",
    "assume(a_x > 0)\n",
    "assume(b_x > 0)\n",
    "assume(a_y > 0)\n",
    "assume(b_y > 0)\n",
    "\n",
    "x,y = var(\"x,y\")\n",
    "\n",
    "n = QQ['n'].0\n",
    "j = QQ['j'].0\n",
    "\n",
    "p = 4\n",
    "p = 2\n",
    "\n",
    "f = function(\"F\")(x, y)\n",
    "print(F)"
   ]
  },
  {
   "cell_type": "code",
   "execution_count": 4,
   "metadata": {},
   "outputs": [
    {
     "name": "stdout",
     "output_type": "stream",
     "text": [
      "f F(x, y)\n",
      "symb,a,b x n_x b_x\n",
      "\n",
      "sum_dfdx_a_bernoullis -1/2*F(x, y) + 1/12*diff(F(x, y), x)\n",
      "sum_dfdx_a_bernoullis(a) -1/2*F(n_x, y) + 1/12*diff(F(n_x, y), n_x)\n",
      "deriv diff(F(x, y), x, x)\n",
      "deriv_s D[0, 0](F)(n_x + u, y)\n",
      "int_f_diff_B_fact 1/12*integrate((6*u^2 - 6*u + 1)*D[0, 0](F)(n_x + u, y), u, 0, 1)\n",
      "int_R_p(j = a) 1/12*integrate((6*u^2 - 6*u + 1)*D[0, 0](F)(n_x + u, y), u, 0, 1)\n",
      "deriv diff(F(x, y), x, x)\n",
      "deriv_s D[0, 0](F)(j + u, y)\n",
      "int_f_diff_B_fact 1/12*integrate((6*u^2 - 6*u + 1)*D[0, 0](F)(j + u, y), u, 0, 1)\n",
      "int_fn_a_b integrate(F(x, y), x, n_x, b_x)\n"
     ]
    },
    {
     "data": {
      "text/plain": [
       "1/2*F(n_x, y) + integrate(F(x, y), x, n_x, b_x) - 1/12*sum(integrate(6*u^2*D[0, 0](F)(j + u, y) - 6*u*D[0, 0](F)(j + u, y) + D[0, 0](F)(j + u, y), u, 0, 1), j, n_x, b_x - 1) - 1/12*diff(F(n_x, y), n_x)"
      ]
     },
     "execution_count": 4,
     "metadata": {},
     "output_type": "execute_result"
    }
   ],
   "source": [
    "my_euler_maclaurin1(F(x,y),x,a_x,b_x,p, calc_R_p=True)"
   ]
  },
  {
   "cell_type": "code",
   "execution_count": 5,
   "metadata": {},
   "outputs": [
    {
     "name": "stdout",
     "output_type": "stream",
     "text": [
      "f F(x, y)\n",
      "symb,a,b x n_x b_x\n",
      "\n",
      "sum_dfdx_a_bernoullis -1/2*F(x, y) + 1/12*diff(F(x, y), x)\n",
      "sum_dfdx_a_bernoullis(a) -1/2*F(n_x, y) + 1/12*diff(F(n_x, y), n_x)\n",
      "int_fn_a_b integrate(F(x, y), x, n_x, b_x)\n"
     ]
    },
    {
     "data": {
      "text/plain": [
       "1/2*F(n_x, y) + integrate(F(x, y), x, n_x, b_x) - 1/12*diff(F(n_x, y), n_x)"
      ]
     },
     "execution_count": 5,
     "metadata": {},
     "output_type": "execute_result"
    }
   ],
   "source": [
    "my_euler_maclaurin1(f(x,y),x,a_x,b_x,p)"
   ]
  },
  {
   "cell_type": "code",
   "execution_count": 6,
   "metadata": {},
   "outputs": [],
   "source": [
    "#sxy2 = my_euler_maclaurin1(my_euler_maclaurin1(f(x,y),x,a_x,b_x,p, calc_R_p=True),y,a_y,b_y,p, calc_R_p=True)\n",
    "# Can't calculate derivative wrt j + u."
   ]
  },
  {
   "cell_type": "code",
   "execution_count": 7,
   "metadata": {},
   "outputs": [
    {
     "name": "stdout",
     "output_type": "stream",
     "text": [
      "f F(x, y)\n",
      "symb,a,b x n_x b_x\n",
      "\n",
      "sum_dfdx_a_bernoullis -1/2*F(x, y) + 1/12*diff(F(x, y), x)\n",
      "sum_dfdx_a_bernoullis(a) -1/2*F(n_x, y) + 1/12*diff(F(n_x, y), n_x)\n",
      "int_fn_a_b integrate(F(x, y), x, n_x, b_x)\n",
      "f 1/2*F(n_x, y) + integrate(F(x, y), x, n_x, b_x) - 1/12*diff(F(n_x, y), n_x)\n",
      "symb,a,b y n_y b_y\n",
      "\n",
      "sum_dfdx_a_bernoullis -1/4*F(n_x, y) - 1/2*integrate(F(x, y), x, n_x, b_x) + 1/12*integrate(diff(F(x, y), y), x, n_x, b_x) + 1/24*diff(F(n_x, y), n_x) - 1/144*diff(F(n_x, y), n_x, y) + 1/24*diff(F(n_x, y), y)\n",
      "sum_dfdx_a_bernoullis(a) -1/4*F(n_x, n_y) - 1/2*integrate(F(x, n_y), x, n_x, b_x) + 1/12*integrate(diff(F(x, n_y), n_y), x, n_x, b_x) + 1/24*diff(F(n_x, n_y), n_x) - 1/144*diff(F(n_x, n_y), n_x, n_y) + 1/24*diff(F(n_x, n_y), n_y)\n",
      "int_fn_a_b -1/12*integrate(-6*F(n_x, y), y, n_y, b_y) - 1/12*integrate(-12*integrate(F(x, y), x, n_x, b_x), y, n_y, b_y) - 1/12*integrate(diff(F(n_x, y), n_x), y, n_y, b_y)\n"
     ]
    }
   ],
   "source": [
    "sxy_symb = my_euler_maclaurin1(my_euler_maclaurin1(f(x,y),x,a_x,b_x,p),y,a_y,b_y,p)"
   ]
  },
  {
   "cell_type": "code",
   "execution_count": 8,
   "metadata": {},
   "outputs": [
    {
     "data": {
      "text/plain": [
       "1/4*F(n_x, n_y) - 1/12*integrate(-6*F(n_x, y), y, n_y, b_y) - 1/12*integrate(-12*integrate(F(x, y), x, n_x, b_x), y, n_y, b_y) + 1/2*integrate(F(x, n_y), x, n_x, b_x) - 1/12*integrate(diff(F(n_x, y), n_x), y, n_y, b_y) - 1/12*integrate(diff(F(x, n_y), n_y), x, n_x, b_x) - 1/24*diff(F(n_x, n_y), n_x) + 1/144*diff(F(n_x, n_y), n_x, n_y) - 1/24*diff(F(n_x, n_y), n_y)"
      ]
     },
     "execution_count": 8,
     "metadata": {},
     "output_type": "execute_result"
    }
   ],
   "source": [
    "sxy_symb"
   ]
  },
  {
   "cell_type": "code",
   "execution_count": 9,
   "metadata": {},
   "outputs": [
    {
     "data": {
      "text/plain": [
       "\\frac{1}{4} \\, F\\left(n_{x}, n_{y}\\right) - \\frac{1}{12} \\, \\int_{n_{y}}^{b_{y}} -6 \\, F\\left(n_{x}, y\\right)\\,{d y} - \\frac{1}{12} \\, \\int_{n_{y}}^{b_{y}} -12 \\, \\int_{n_{x}}^{b_{x}} F\\left(x, y\\right)\\,{d x}\\,{d y} + \\frac{1}{2} \\, \\int_{n_{x}}^{b_{x}} F\\left(x, n_{y}\\right)\\,{d x} - \\frac{1}{12} \\, \\int_{n_{y}}^{b_{y}} \\frac{\\partial}{\\partial n_{x}}F\\left(n_{x}, y\\right)\\,{d y} - \\frac{1}{12} \\, \\int_{n_{x}}^{b_{x}} \\frac{\\partial}{\\partial n_{y}}F\\left(x, n_{y}\\right)\\,{d x} - \\frac{1}{24} \\, \\frac{\\partial}{\\partial n_{x}}F\\left(n_{x}, n_{y}\\right) + \\frac{1}{144} \\, \\frac{\\partial^{2}}{\\partial n_{x}\\partial n_{y}}F\\left(n_{x}, n_{y}\\right) - \\frac{1}{24} \\, \\frac{\\partial}{\\partial n_{y}}F\\left(n_{x}, n_{y}\\right)"
      ]
     },
     "execution_count": 9,
     "metadata": {},
     "output_type": "execute_result"
    }
   ],
   "source": [
    "latex(sxy_symb)"
   ]
  },
  {
   "cell_type": "code",
   "execution_count": 10,
   "metadata": {},
   "outputs": [
    {
     "data": {
      "text/latex": [
       "$\\displaystyle \\frac{1}{4} \\, F\\left(n_{x}, n_{y}\\right) - \\frac{1}{12} \\, \\int_{n_{y}}^{b_{y}} -6 \\, F\\left(n_{x}, y\\right)\\,{d y} - \\frac{1}{12} \\, \\int_{n_{y}}^{b_{y}} -12 \\, \\int_{n_{x}}^{b_{x}} F\\left(x, y\\right)\\,{d x}\\,{d y} + \\frac{1}{2} \\, \\int_{n_{x}}^{b_{x}} F\\left(x, n_{y}\\right)\\,{d x} - \\frac{1}{12} \\, \\int_{n_{y}}^{b_{y}} \\frac{\\partial}{\\partial n_{x}}F\\left(n_{x}, y\\right)\\,{d y} - \\frac{1}{12} \\, \\int_{n_{x}}^{b_{x}} \\frac{\\partial}{\\partial n_{y}}F\\left(x, n_{y}\\right)\\,{d x} - \\frac{1}{24} \\, \\frac{\\partial}{\\partial n_{x}}F\\left(n_{x}, n_{y}\\right) + \\frac{1}{144} \\, \\frac{\\partial^{2}}{\\partial n_{x}\\partial n_{y}}F\\left(n_{x}, n_{y}\\right) - \\frac{1}{24} \\, \\frac{\\partial}{\\partial n_{y}}F\\left(n_{x}, n_{y}\\right)$"
      ],
      "text/plain": [
       "<IPython.core.display.Math object>"
      ]
     },
     "metadata": {},
     "output_type": "display_data"
    }
   ],
   "source": [
    "display(Math(latex(sxy_symb)))"
   ]
  },
  {
   "cell_type": "code",
   "execution_count": 11,
   "metadata": {},
   "outputs": [],
   "source": [
    "f(x,y)=1/(x^2)\n",
    "assume(y>0)\n",
    "assume(x>0)\n",
    "a_x = 1\n",
    "b_x = Infinity\n",
    "\n",
    "a_y = 1\n",
    "b_y = Infinity"
   ]
  },
  {
   "cell_type": "code",
   "execution_count": 12,
   "metadata": {},
   "outputs": [
    {
     "name": "stdout",
     "output_type": "stream",
     "text": [
      "f (x, y) |--> x^(-2)\n",
      "symb,a,b x 1 +Infinity\n",
      "\n",
      "sum_dfdx_a_bernoullis (x, y) |--> -1/2/x^2 - 1/6/x^3\n",
      "sum_dfdx_a_bernoullis(a) (x, y) |--> -2/3\n",
      "deriv (x, y) |--> 6/x^4\n",
      "deriv_s (x, y) |--> 6/(u + 1)^4\n",
      "int_f_diff_B_fact (x, y) |--> 1/48\n",
      "int_R_p(j = a) (x, y) |--> 1/48\n",
      "deriv (x, y) |--> 6/x^4\n",
      "deriv_s (x, y) |--> 6/(j + u)^4\n",
      "int_f_diff_B_fact (x, y) |--> -1/6*(6*j^2 + 15*j + 10)/(j^3 + 3*j^2 + 3*j + 1) + 1/6*(6*j^2 - 3*j + 1)/j^3\n",
      "int_fn_a_b y |--> 1\n"
     ]
    },
    {
     "data": {
      "text/plain": [
       "(x, y) |--> 1/6*pi^2"
      ]
     },
     "execution_count": 12,
     "metadata": {},
     "output_type": "execute_result"
    }
   ],
   "source": [
    "my_euler_maclaurin1(f,x,a_x,b_x,p, calc_R_p=True)"
   ]
  },
  {
   "cell_type": "code",
   "execution_count": 13,
   "metadata": {},
   "outputs": [
    {
     "name": "stdout",
     "output_type": "stream",
     "text": [
      "f (x, y) |--> x^(-2)\n",
      "symb,a,b x 1 +Infinity\n",
      "\n",
      "sum_dfdx_a_bernoullis (x, y) |--> -1/2/x^2 - 1/6/x^3\n",
      "sum_dfdx_a_bernoullis(a) (x, y) |--> -2/3\n",
      "int_fn_a_b y |--> 1\n"
     ]
    },
    {
     "data": {
      "text/plain": [
       "(x, y) |--> 5/3"
      ]
     },
     "execution_count": 13,
     "metadata": {},
     "output_type": "execute_result"
    }
   ],
   "source": [
    "my_euler_maclaurin1(f,x,a_x,b_x,p)"
   ]
  },
  {
   "cell_type": "code",
   "execution_count": 14,
   "metadata": {},
   "outputs": [],
   "source": [
    "f(x,y)=1/(x^2+y^2)\n",
    "assume(y>0)\n",
    "assume(x>0)"
   ]
  },
  {
   "cell_type": "code",
   "execution_count": 15,
   "metadata": {},
   "outputs": [
    {
     "name": "stdout",
     "output_type": "stream",
     "text": [
      "f (x, y) |--> 1/(x^2 + y^2)\n",
      "symb,a,b x 1 +Infinity\n",
      "\n",
      "sum_dfdx_a_bernoullis (x, y) |--> -1/2/(x^2 + y^2) - 1/6*x/(x^2 + y^2)^2\n",
      "sum_dfdx_a_bernoullis(a) (x, y) |--> -1/2/(y^2 + 1) - 1/6/(y^2 + 1)^2\n",
      "int_fn_a_b y |--> 1/2*pi/y - arctan(1/y)/y\n"
     ]
    },
    {
     "data": {
      "text/plain": [
       "(x, y) |--> 1/2*pi/y - arctan(1/y)/y + 1/2/(y^2 + 1) + 1/6/(y^2 + 1)^2"
      ]
     },
     "execution_count": 15,
     "metadata": {},
     "output_type": "execute_result"
    }
   ],
   "source": [
    "my_euler_maclaurin1(f,x,a_x,b_x,p)"
   ]
  },
  {
   "cell_type": "code",
   "execution_count": 16,
   "metadata": {},
   "outputs": [
    {
     "name": "stdout",
     "output_type": "stream",
     "text": [
      "f (x, y) |--> 1/(x^2 + y^2)\n",
      "symb,a,b y 1 +Infinity\n",
      "\n",
      "sum_dfdx_a_bernoullis (x, y) |--> -1/2/(x^2 + y^2) - 1/6*y/(x^2 + y^2)^2\n",
      "sum_dfdx_a_bernoullis(a) (x, y) |--> -1/2/(x^2 + 1) - 1/6/(x^2 + 1)^2\n",
      "int_fn_a_b x |--> 1/2*pi/x - arctan(1/x)/x\n"
     ]
    },
    {
     "data": {
      "text/plain": [
       "(x, y) |--> 1/2*pi/x - arctan(1/x)/x + 1/2/(x^2 + 1) + 1/6/(x^2 + 1)^2"
      ]
     },
     "execution_count": 16,
     "metadata": {},
     "output_type": "execute_result"
    }
   ],
   "source": [
    "my_euler_maclaurin1(f,y,a_y,b_y,p)"
   ]
  },
  {
   "cell_type": "code",
   "execution_count": 17,
   "metadata": {},
   "outputs": [
    {
     "name": "stdout",
     "output_type": "stream",
     "text": [
      "f (x, y) |--> 1/(x^2 + y^2)\n",
      "symb,a,b x 1 +Infinity\n",
      "\n",
      "sum_dfdx_a_bernoullis (x, y) |--> -1/2/(x^2 + y^2) - 1/6*x/(x^2 + y^2)^2\n",
      "sum_dfdx_a_bernoullis(a) (x, y) |--> -1/2/(y^2 + 1) - 1/6/(y^2 + 1)^2\n",
      "deriv (x, y) |--> 8*x^2/(x^2 + y^2)^3 - 2/(x^2 + y^2)^2\n",
      "deriv_s (x, y) |--> 8*(u + 1)^2/((u + 1)^2 + y^2)^3 - 2/((u + 1)^2 + y^2)^2\n",
      "int_f_diff_B_fact (x, y) |--> 1/6*(6*y^4*arctan(2/y) - 3*y^3 + 48*y^2*arctan(2/y) - 14*y + 96*arctan(2/y))/(y^5 + 8*y^3 + 16*y) - 1/6*(6*y^4*arctan(1/y) + 3*y^3 + 12*y^2*arctan(1/y) + 2*y + 6*arctan(1/y))/(y^5 + 2*y^3 + y)\n",
      "int_R_p(j = a) (x, y) |--> 1/6*(6*y^4*arctan(2/y) - 3*y^3 + 48*y^2*arctan(2/y) - 14*y + 96*arctan(2/y))/(y^5 + 8*y^3 + 16*y) - 1/6*(6*y^4*arctan(1/y) + 3*y^3 + 12*y^2*arctan(1/y) + 2*y + 6*arctan(1/y))/(y^5 + 2*y^3 + y)\n",
      "deriv (x, y) |--> 8*x^2/(x^2 + y^2)^3 - 2/(x^2 + y^2)^2\n",
      "deriv_s (x, y) |--> 8*(j + u)^2/((j + u)^2 + y^2)^3 - 2/((j + u)^2 + y^2)^2\n",
      "int_f_diff_B_fact (x, y) |--> 1/6*(6*y^4*arctan((j + 1)/y) + 12*(j^2 + 2*j + 1)*y^2*arctan((j + 1)/y) - 3*y^3 - (3*j^2 + 7*j + 4)*y + 6*(j^4 + 4*j^3 + 6*j^2 + 4*j + 1)*arctan((j + 1)/y))/(y^5 + 2*(j^2 + 2*j + 1)*y^3 + (j^4 + 4*j^3 + 6*j^2 + 4*j + 1)*y) - 1/6*(6*j^4*arctan(j/y) + 12*j^2*y^2*arctan(j/y) + 6*y^4*arctan(j/y) + 3*y^3 + (3*j^2 - j)*y)/(j^4*y + 2*j^2*y^3 + y^5)\n",
      "int_fn_a_b y |--> 1/2*pi/y - arctan(1/y)/y\n"
     ]
    },
    {
     "data": {
      "text/plain": [
       "(x, y) |--> 1/2*pi/y - arctan(1/y)/y + 1/2/(y^2 + 1) + 1/6/(y^2 + 1)^2 - sum(1/6*(6*y^8*(arctan((j + 1)/y) - arctan(j/y)) + 12*((2*j^2 + 2*j + 1)*arctan((j + 1)/y) - (2*j^2 + 2*j + 1)*arctan(j/y))*y^6 - 6*y^7 - 2*(9*j^2 + 9*j + 5)*y^5 + 6*((6*j^4 + 12*j^3 + 10*j^2 + 4*j + 1)*arctan((j + 1)/y) - (6*j^4 + 12*j^3 + 10*j^2 + 4*j + 1)*arctan(j/y))*y^4 - (18*j^4 + 36*j^3 + 28*j^2 + 10*j + 3)*y^3 + 12*((2*j^6 + 6*j^5 + 7*j^4 + 4*j^3 + j^2)*arctan((j + 1)/y) - (2*j^6 + 6*j^5 + 7*j^4 + 4*j^3 + j^2)*arctan(j/y))*y^2 - (6*j^6 + 18*j^5 + 18*j^4 + 6*j^3 - j^2 - j)*y + 6*(j^8 + 4*j^7 + 6*j^6 + 4*j^5 + j^4)*arctan((j + 1)/y) - 6*(j^8 + 4*j^7 + 6*j^6 + 4*j^5 + j^4)*arctan(j/y))/(y^9 + 2*(2*j^2 + 2*j + 1)*y^7 + (6*j^4 + 12*j^3 + 10*j^2 + 4*j + 1)*y^5 + 2*(2*j^6 + 6*j^5 + 7*j^4 + 4*j^3 + j^2)*y^3 + (j^8 + 4*j^7 + 6*j^6 + 4*j^5 + j^4)*y), j, 1, +Infinity)"
      ]
     },
     "execution_count": 17,
     "metadata": {},
     "output_type": "execute_result"
    }
   ],
   "source": [
    "my_euler_maclaurin1(f,x,a_x,b_x,p, calc_R_p=True)"
   ]
  },
  {
   "cell_type": "code",
   "execution_count": 18,
   "metadata": {},
   "outputs": [
    {
     "name": "stdout",
     "output_type": "stream",
     "text": [
      "f (x, y) |--> 1/(x^2 + y^2)\n",
      "symb,a,b y 1 +Infinity\n",
      "\n",
      "sum_dfdx_a_bernoullis (x, y) |--> -1/2/(x^2 + y^2) - 1/6*y/(x^2 + y^2)^2\n",
      "sum_dfdx_a_bernoullis(a) (x, y) |--> -1/2/(x^2 + 1) - 1/6/(x^2 + 1)^2\n",
      "deriv (x, y) |--> 8*y^2/(x^2 + y^2)^3 - 2/(x^2 + y^2)^2\n",
      "deriv_s (x, y) |--> 8*(u + 1)^2/((u + 1)^2 + x^2)^3 - 2/((u + 1)^2 + x^2)^2\n",
      "int_f_diff_B_fact (x, y) |--> 1/6*(6*x^4*arctan(2/x) - 3*x^3 + 48*x^2*arctan(2/x) - 14*x + 96*arctan(2/x))/(x^5 + 8*x^3 + 16*x) - 1/6*(6*x^4*arctan(1/x) + 3*x^3 + 12*x^2*arctan(1/x) + 2*x + 6*arctan(1/x))/(x^5 + 2*x^3 + x)\n",
      "int_R_p(j = a) (x, y) |--> 1/6*(6*x^4*arctan(2/x) - 3*x^3 + 48*x^2*arctan(2/x) - 14*x + 96*arctan(2/x))/(x^5 + 8*x^3 + 16*x) - 1/6*(6*x^4*arctan(1/x) + 3*x^3 + 12*x^2*arctan(1/x) + 2*x + 6*arctan(1/x))/(x^5 + 2*x^3 + x)\n",
      "deriv (x, y) |--> 8*y^2/(x^2 + y^2)^3 - 2/(x^2 + y^2)^2\n",
      "deriv_s (x, y) |--> 8*(j + u)^2/((j + u)^2 + x^2)^3 - 2/((j + u)^2 + x^2)^2\n",
      "int_f_diff_B_fact (x, y) |--> 1/6*(6*x^4*arctan((j + 1)/x) + 12*(j^2 + 2*j + 1)*x^2*arctan((j + 1)/x) - 3*x^3 - (3*j^2 + 7*j + 4)*x + 6*(j^4 + 4*j^3 + 6*j^2 + 4*j + 1)*arctan((j + 1)/x))/(x^5 + 2*(j^2 + 2*j + 1)*x^3 + (j^4 + 4*j^3 + 6*j^2 + 4*j + 1)*x) - 1/6*(6*j^4*arctan(j/x) + 12*j^2*x^2*arctan(j/x) + 6*x^4*arctan(j/x) + 3*x^3 + (3*j^2 - j)*x)/(j^4*x + 2*j^2*x^3 + x^5)\n",
      "int_fn_a_b x |--> 1/2*pi/x - arctan(1/x)/x\n"
     ]
    },
    {
     "data": {
      "text/plain": [
       "(x, y) |--> 1/2*pi/x - arctan(1/x)/x + 1/2/(x^2 + 1) + 1/6/(x^2 + 1)^2 - sum(1/6*(6*x^8*(arctan((j + 1)/x) - arctan(j/x)) + 12*((2*j^2 + 2*j + 1)*arctan((j + 1)/x) - (2*j^2 + 2*j + 1)*arctan(j/x))*x^6 - 6*x^7 - 2*(9*j^2 + 9*j + 5)*x^5 + 6*((6*j^4 + 12*j^3 + 10*j^2 + 4*j + 1)*arctan((j + 1)/x) - (6*j^4 + 12*j^3 + 10*j^2 + 4*j + 1)*arctan(j/x))*x^4 - (18*j^4 + 36*j^3 + 28*j^2 + 10*j + 3)*x^3 + 12*((2*j^6 + 6*j^5 + 7*j^4 + 4*j^3 + j^2)*arctan((j + 1)/x) - (2*j^6 + 6*j^5 + 7*j^4 + 4*j^3 + j^2)*arctan(j/x))*x^2 - (6*j^6 + 18*j^5 + 18*j^4 + 6*j^3 - j^2 - j)*x + 6*(j^8 + 4*j^7 + 6*j^6 + 4*j^5 + j^4)*arctan((j + 1)/x) - 6*(j^8 + 4*j^7 + 6*j^6 + 4*j^5 + j^4)*arctan(j/x))/(x^9 + 2*(2*j^2 + 2*j + 1)*x^7 + (6*j^4 + 12*j^3 + 10*j^2 + 4*j + 1)*x^5 + 2*(2*j^6 + 6*j^5 + 7*j^4 + 4*j^3 + j^2)*x^3 + (j^8 + 4*j^7 + 6*j^6 + 4*j^5 + j^4)*x), j, 1, +Infinity)"
      ]
     },
     "execution_count": 18,
     "metadata": {},
     "output_type": "execute_result"
    }
   ],
   "source": [
    "my_euler_maclaurin1(f,y,a_y,b_y,p, calc_R_p=True)"
   ]
  },
  {
   "cell_type": "code",
   "execution_count": 19,
   "metadata": {},
   "outputs": [
    {
     "name": "stdout",
     "output_type": "stream",
     "text": [
      "f (x, y) |--> 1/(x^2 + y^2)\n",
      "symb,a,b x 1 +Infinity\n",
      "\n",
      "sum_dfdx_a_bernoullis (x, y) |--> -1/2/(x^2 + y^2) - 1/6*x/(x^2 + y^2)^2\n",
      "sum_dfdx_a_bernoullis(a) (x, y) |--> -1/2/(y^2 + 1) - 1/6/(y^2 + 1)^2\n",
      "int_fn_a_b y |--> 1/2*pi/y - arctan(1/y)/y\n",
      "f (x, y) |--> 1/2*pi/y - arctan(1/y)/y + 1/2/(y^2 + 1) + 1/6/(y^2 + 1)^2\n",
      "symb,a,b y 1 +Infinity\n",
      "\n",
      "sum_dfdx_a_bernoullis (x, y) |--> -1/4*pi/y + 1/2*arctan(1/y)/y - 1/4/(y^2 + 1) - 1/24*pi/y^2 - 1/12*y/(y^2 + 1)^2 + 1/12*arctan(1/y)/y^2 - 1/12/(y^2 + 1)^2 - 1/18*y/(y^2 + 1)^3 + 1/12/(y^3*(1/y^2 + 1))\n",
      "sum_dfdx_a_bernoullis(a) (x, y) |--> -7/48*pi - 19/144\n",
      "int_fn_a_b x |--> -1/6*integrate(-3*pi*y^4/(y^5 + 2*y^3 + y), y, 1, +Infinity) - 1/6*integrate(6*y^4*arctan(1/y)/(y^5 + 2*y^3 + y), y, 1, +Infinity) - 1/6*integrate(-6*pi*y^2/(y^5 + 2*y^3 + y), y, 1, +Infinity) - 1/6*integrate(-3*y^3/(y^5 + 2*y^3 + y), y, 1, +Infinity) - 1/6*integrate(12*y^2*arctan(1/y)/(y^5 + 2*y^3 + y), y, 1, +Infinity) - 1/6*integrate(-3*pi/(y^5 + 2*y^3 + y), y, 1, +Infinity) - 1/6*integrate(-4*y/(y^5 + 2*y^3 + y), y, 1, +Infinity) - 1/6*integrate(6*arctan(1/y)/(y^5 + 2*y^3 + y), y, 1, +Infinity)\n"
     ]
    }
   ],
   "source": [
    "sxy1 = my_euler_maclaurin1(my_euler_maclaurin1(f,x,a_x,b_x,p),y,a_y,b_y,p)"
   ]
  },
  {
   "cell_type": "code",
   "execution_count": 20,
   "metadata": {},
   "outputs": [
    {
     "data": {
      "text/latex": [
       "$\\displaystyle \\left( x, y \\right) \\ {\\mapsto} \\ \\frac{7}{48} \\, \\pi - \\frac{1}{6} \\, \\int_{1}^{+\\infty} -\\frac{3 \\, \\pi y^{4}}{y^{5} + 2 \\, y^{3} + y}\\,{d y} - \\frac{1}{6} \\, \\int_{1}^{+\\infty} \\frac{6 \\, y^{4} \\arctan\\left(\\frac{1}{y}\\right)}{y^{5} + 2 \\, y^{3} + y}\\,{d y} - \\frac{1}{6} \\, \\int_{1}^{+\\infty} -\\frac{6 \\, \\pi y^{2}}{y^{5} + 2 \\, y^{3} + y}\\,{d y} - \\frac{1}{6} \\, \\int_{1}^{+\\infty} -\\frac{3 \\, y^{3}}{y^{5} + 2 \\, y^{3} + y}\\,{d y} - \\frac{1}{6} \\, \\int_{1}^{+\\infty} \\frac{12 \\, y^{2} \\arctan\\left(\\frac{1}{y}\\right)}{y^{5} + 2 \\, y^{3} + y}\\,{d y} - \\frac{1}{6} \\, \\int_{1}^{+\\infty} -\\frac{3 \\, \\pi}{y^{5} + 2 \\, y^{3} + y}\\,{d y} - \\frac{1}{6} \\, \\int_{1}^{+\\infty} -\\frac{4 \\, y}{y^{5} + 2 \\, y^{3} + y}\\,{d y} - \\frac{1}{6} \\, \\int_{1}^{+\\infty} \\frac{6 \\, \\arctan\\left(\\frac{1}{y}\\right)}{y^{5} + 2 \\, y^{3} + y}\\,{d y} + \\frac{19}{144}$"
      ],
      "text/plain": [
       "<IPython.core.display.Math object>"
      ]
     },
     "metadata": {},
     "output_type": "display_data"
    }
   ],
   "source": [
    "display(Math(latex(sxy1)))"
   ]
  },
  {
   "cell_type": "code",
   "execution_count": 21,
   "metadata": {},
   "outputs": [
    {
     "data": {
      "text/plain": [
       "103.683546015950"
      ]
     },
     "execution_count": 21,
     "metadata": {},
     "output_type": "execute_result"
    }
   ],
   "source": [
    "sxy1.n()"
   ]
  },
  {
   "cell_type": "code",
   "execution_count": null,
   "metadata": {},
   "outputs": [
    {
     "name": "stdout",
     "output_type": "stream",
     "text": [
      "f (x, y) |--> 1/(x^2 + y^2)\n",
      "symb,a,b x 1 +Infinity\n",
      "\n",
      "sum_dfdx_a_bernoullis (x, y) |--> -1/2/(x^2 + y^2) - 1/6*x/(x^2 + y^2)^2\n",
      "sum_dfdx_a_bernoullis(a) (x, y) |--> -1/2/(y^2 + 1) - 1/6/(y^2 + 1)^2\n",
      "deriv (x, y) |--> 8*x^2/(x^2 + y^2)^3 - 2/(x^2 + y^2)^2\n",
      "deriv_s (x, y) |--> 8*(u + 1)^2/((u + 1)^2 + y^2)^3 - 2/((u + 1)^2 + y^2)^2\n",
      "int_f_diff_B_fact (x, y) |--> 1/6*(6*y^4*arctan(2/y) - 3*y^3 + 48*y^2*arctan(2/y) - 14*y + 96*arctan(2/y))/(y^5 + 8*y^3 + 16*y) - 1/6*(6*y^4*arctan(1/y) + 3*y^3 + 12*y^2*arctan(1/y) + 2*y + 6*arctan(1/y))/(y^5 + 2*y^3 + y)\n",
      "int_R_p(j = a) (x, y) |--> 1/6*(6*y^4*arctan(2/y) - 3*y^3 + 48*y^2*arctan(2/y) - 14*y + 96*arctan(2/y))/(y^5 + 8*y^3 + 16*y) - 1/6*(6*y^4*arctan(1/y) + 3*y^3 + 12*y^2*arctan(1/y) + 2*y + 6*arctan(1/y))/(y^5 + 2*y^3 + y)\n",
      "deriv (x, y) |--> 8*x^2/(x^2 + y^2)^3 - 2/(x^2 + y^2)^2\n",
      "deriv_s (x, y) |--> 8*(j + u)^2/((j + u)^2 + y^2)^3 - 2/((j + u)^2 + y^2)^2\n"
     ]
    }
   ],
   "source": [
    "sxy2 = my_euler_maclaurin1(my_euler_maclaurin1(f,x,a_x,b_x,p, calc_R_p=True),y,a_y,b_y,p, calc_R_p=True)"
   ]
  },
  {
   "cell_type": "code",
   "execution_count": null,
   "metadata": {},
   "outputs": [],
   "source": [
    "display(Math(latex(sxy2)))"
   ]
  },
  {
   "cell_type": "code",
   "execution_count": null,
   "metadata": {},
   "outputs": [],
   "source": []
  },
  {
   "cell_type": "code",
   "execution_count": null,
   "metadata": {},
   "outputs": [],
   "source": []
  }
 ],
 "metadata": {
  "kernelspec": {
   "display_name": "SageMath 9.3",
   "language": "sage",
   "name": "sagemath"
  },
  "language_info": {
   "codemirror_mode": {
    "name": "ipython",
    "version": 3
   },
   "file_extension": ".py",
   "mimetype": "text/x-python",
   "name": "python",
   "nbconvert_exporter": "python",
   "pygments_lexer": "ipython3",
   "version": "3.9.2"
  }
 },
 "nbformat": 4,
 "nbformat_minor": 4
}
