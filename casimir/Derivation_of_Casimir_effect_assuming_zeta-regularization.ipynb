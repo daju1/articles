{
 "cells": [
  {
   "cell_type": "markdown",
   "metadata": {},
   "source": [
    "# Derivation of Casimir effect assuming zeta-regularization\n",
    "\n",
    "https://en.wikipedia.org/wiki/Casimir_effect#Derivation_of_Casimir_effect_assuming_zeta-regularization"
   ]
  },
  {
   "cell_type": "code",
   "execution_count": 1,
   "metadata": {},
   "outputs": [],
   "source": [
    "from IPython.display import display, Math, Latex\n",
    "\n",
    "n = var(\"n\")\n",
    "assume(n, 'real')\n",
    "assume(n, 'integer')\n",
    "\n",
    "\n",
    "d = var('d')\n",
    "assume(d, 'real')\n",
    "assume(d>0)\n",
    "\n",
    "a = var('a')\n",
    "assume(a, 'real')\n",
    "assume(a>0)\n",
    "\n",
    "L = var('L')\n",
    "assume(L, 'real')\n",
    "assume(L>0)\n",
    "\n",
    "assume(L>a)\n",
    "\n",
    "X = var('X')\n",
    "Y = var('Y')\n",
    "\n",
    "assume(X, 'real')\n",
    "assume(Y, 'real')\n",
    "assume(X>0)\n",
    "assume(Y>0)\n",
    "\n",
    "k_x = var ('k_x')\n",
    "k_y = var ('k_y')\n",
    "k_n = var ('k_n')\n",
    "\n",
    "assume(k_x, 'real')\n",
    "assume(k_y, 'real')\n",
    "assume(k_n, 'real')\n",
    "\n",
    "x = var('x')\n",
    "y = var('y')\n",
    "z = var('z')\n",
    "t = var('t')\n",
    "\n",
    "assume(x, 'real')\n",
    "assume(y, 'real')\n",
    "assume(z, 'real')\n",
    "assume(t, 'real')\n",
    "\n",
    "c = var('c')\n",
    "assume(c, 'real')\n",
    "assume(c>0)\n",
    "\n",
    "omega_n = var('omega_n')\n",
    "assume(omega_n, 'real')"
   ]
  },
  {
   "cell_type": "markdown",
   "metadata": {},
   "source": [
    "In the original calculation done by Casimir, he considered the space between a pair of conducting metal plates at distance ${\\displaystyle a}$ apart. In this case, the standing waves are particularly easy to calculate, because the transverse component of the electric field and the normal component of the magnetic field must vanish on the surface of a conductor. Assuming the plates lie parallel to the xy-plane, the standing waves are"
   ]
  },
  {
   "cell_type": "code",
   "execution_count": 2,
   "metadata": {},
   "outputs": [],
   "source": [
    "psi_n(x,y,z,t) = e^(-I*omega_n*t) * e^(I*k_x*x+I*k_y*y)*sin(k_n*z)"
   ]
  },
  {
   "cell_type": "code",
   "execution_count": 3,
   "metadata": {},
   "outputs": [
    {
     "data": {
      "text/latex": [
       "$\\displaystyle e^{\\left(-i \\, \\omega_{n} t + i \\, k_{x} x + i \\, k_{y} y\\right)} \\sin\\left(k_{n} z\\right)$"
      ],
      "text/plain": [
       "<IPython.core.display.Math object>"
      ]
     },
     "metadata": {},
     "output_type": "display_data"
    }
   ],
   "source": [
    "display(Math(latex(psi_n(x,y,z,t))))"
   ]
  },
  {
   "cell_type": "markdown",
   "metadata": {},
   "source": [
    "where ${\\displaystyle \\psi }$  stands for the electric component of the electromagnetic field, and, for brevity, the polarization and the magnetic components are ignored here. Here, ${\\displaystyle k_{x}}$ and ${\\displaystyle k_{y}}$ are the wave numbers in directions parallel to the plates, and"
   ]
  },
  {
   "cell_type": "code",
   "execution_count": 4,
   "metadata": {},
   "outputs": [],
   "source": [
    "k_n = n*pi/a"
   ]
  },
  {
   "cell_type": "code",
   "execution_count": 5,
   "metadata": {},
   "outputs": [
    {
     "data": {
      "text/latex": [
       "$\\displaystyle \\frac{\\pi n}{a}$"
      ],
      "text/plain": [
       "<IPython.core.display.Math object>"
      ]
     },
     "metadata": {},
     "output_type": "display_data"
    }
   ],
   "source": [
    "display(Math(latex(k_n)))"
   ]
  },
  {
   "cell_type": "markdown",
   "metadata": {},
   "source": [
    "is the wave-number perpendicular to the plates. Here, n is an integer, resulting from the requirement that ${\\displaystyle \\psi }$ vanish on the metal plates. The frequency of this wave is"
   ]
  },
  {
   "cell_type": "code",
   "execution_count": 6,
   "metadata": {},
   "outputs": [],
   "source": [
    "omega_n(n, k_x, k_y, d) = c * sqrt(k_x^2+k_y^2+(n*pi/d)^2)"
   ]
  },
  {
   "cell_type": "code",
   "execution_count": 7,
   "metadata": {},
   "outputs": [],
   "source": [
    "omega_n_a(n) = omega_n(n, k_x, k_y, a)"
   ]
  },
  {
   "cell_type": "code",
   "execution_count": 8,
   "metadata": {},
   "outputs": [],
   "source": [
    "omega_n_L(n) = omega_n(n, k_x, k_y, L)"
   ]
  },
  {
   "cell_type": "code",
   "execution_count": 9,
   "metadata": {},
   "outputs": [
    {
     "data": {
      "text/latex": [
       "$\\displaystyle n \\ {\\mapsto}\\ \\sqrt{k_{x}^{2} + k_{y}^{2} + \\frac{\\pi^{2} n^{2}}{a^{2}}} c$"
      ],
      "text/plain": [
       "<IPython.core.display.Math object>"
      ]
     },
     "metadata": {},
     "output_type": "display_data"
    }
   ],
   "source": [
    "display(Math(latex(omega_n_a)))"
   ]
  },
  {
   "cell_type": "code",
   "execution_count": 10,
   "metadata": {},
   "outputs": [
    {
     "data": {
      "text/latex": [
       "$\\displaystyle n \\ {\\mapsto}\\ \\sqrt{k_{x}^{2} + k_{y}^{2} + \\frac{\\pi^{2} n^{2}}{L^{2}}} c$"
      ],
      "text/plain": [
       "<IPython.core.display.Math object>"
      ]
     },
     "metadata": {},
     "output_type": "display_data"
    }
   ],
   "source": [
    "display(Math(latex(omega_n_L)))"
   ]
  },
  {
   "cell_type": "markdown",
   "metadata": {},
   "source": [
    "where c is the speed of light. The vacuum energy is then the sum over all possible excitation modes. Since the area of the plates is large, we may sum by integrating over two of the dimensions in k-space. The assumption of periodic boundary conditions yields,"
   ]
  },
  {
   "cell_type": "markdown",
   "metadata": {},
   "source": [
    "${\\displaystyle \\langle E\\rangle ={\\frac {\\hbar }{2}}\\cdot 2\\int {\\frac {Adk_{x}dk_{y}}{(2\\pi )^{2}}}\\sum _{n=1}^{\\infty }\\omega _{n}}$"
   ]
  },
  {
   "cell_type": "markdown",
   "metadata": {},
   "source": [
    "where A is the area of the metal plates, and a factor of 2 is introduced for the two possible polarizations of the wave. This expression is clearly infinite, and to proceed with the calculation, it is convenient to introduce a regulator (discussed in greater detail below). The regulator will serve to make the expression finite, and in the end will be removed. The zeta-regulated version of the energy per unit-area of the plate is"
   ]
  },
  {
   "cell_type": "markdown",
   "metadata": {},
   "source": [
    "${\\displaystyle {\\frac {\\langle E(s)\\rangle }{A}}=\\hbar \\int {\\frac {dk_{x}dk_{y}}{(2\\pi )^{2}}}\\sum _{n=1}^{\\infty }\\omega _{n}\\vert \\omega _{n}\\vert ^{-s}.}$"
   ]
  },
  {
   "cell_type": "markdown",
   "metadata": {},
   "source": [
    "In the end, the limit ${\\displaystyle s\\to 0}$ is to be taken. Here s is just a complex number, not to be confused with the shape discussed previously. This integral/sum is finite for s real and larger than 3. The sum has a pole at $s=3$, but may be analytically continued to $s=0$, where the expression is finite. The above expression simplifies to:"
   ]
  },
  {
   "cell_type": "markdown",
   "metadata": {},
   "source": [
    "${\\displaystyle {\\frac {\\langle E(s)\\rangle }{A}}={\\frac {\\hbar c^{1-s}}{4\\pi ^{2}}}\\sum _{n}\\int _{0}^{\\infty }2\\pi qdq\\left\\vert q^{2}+{\\frac {\\pi ^{2}n^{2}}{a^{2}}}\\right\\vert ^{(1-s)/2},}$"
   ]
  },
  {
   "cell_type": "code",
   "execution_count": 11,
   "metadata": {},
   "outputs": [
    {
     "data": {
      "text/latex": [
       "$\\displaystyle \\frac{\\sqrt{\\kappa^{2} + \\frac{\\pi^{2} n^{2}}{a^{2}}} \\kappa}{\\sqrt{\\kappa^{2} + \\frac{\\pi^{2} n^{2}}{a^{2}}}^{s}}$"
      ],
      "text/plain": [
       "<IPython.core.display.Math object>"
      ]
     },
     "metadata": {},
     "output_type": "display_data"
    }
   ],
   "source": [
    "s = var(\"s\")\n",
    "#kappa = sqrt(k_x^2+k_y^2)\n",
    "kappa = var(\"kappa\")\n",
    "integrand_zeta = kappa * sqrt(kappa^2+k_n^2)*(sqrt(kappa^2+k_n^2))^-s\n",
    "#integrand_zeta = sqrt(kappa^2+k_z^2)*(sqrt(kappa^2+k_z^2))^-s\n",
    "display(Math(latex(integrand_zeta)))"
   ]
  },
  {
   "cell_type": "code",
   "execution_count": 12,
   "metadata": {},
   "outputs": [
    {
     "data": {
      "text/latex": [
       "$\\displaystyle \\kappa {\\left| \\kappa^{2} + \\frac{\\pi^{2} n^{2}}{a^{2}} \\right|}^{-\\frac{1}{2} \\, s + \\frac{1}{2}}$"
      ],
      "text/plain": [
       "<IPython.core.display.Math object>"
      ]
     },
     "metadata": {},
     "output_type": "display_data"
    }
   ],
   "source": [
    "integrand_zeta = kappa * (abs(kappa^2+k_n^2))^((1-s)/2)\n",
    "\n",
    "display(Math(latex(integrand_zeta)))"
   ]
  },
  {
   "cell_type": "markdown",
   "metadata": {},
   "source": [
    "where polar coordinates ${\\displaystyle q^{2}=k_{x}^{2}+k_{y}^{2}}$ were introduced to turn the double integral into a single integral. The ${\\displaystyle q}$ in front is the Jacobian, and the ${\\displaystyle 2\\pi }$  comes from the angular integration. The integral converges if $Re[s] > 3$, resulting in"
   ]
  },
  {
   "cell_type": "markdown",
   "metadata": {},
   "source": [
    "${\\displaystyle {\\frac {\\langle E(s)\\rangle }{A}}=-{\\frac {\\hbar c^{1-s}\\pi ^{2-s}}{2a^{3-s}}}{\\frac {1}{3-s}}\\sum _{n}\\vert n\\vert ^{3-s}=-{\\frac {\\hbar c^{1-s}\\pi ^{2-s}}{2a^{3-s}(3-s)}}\\sum _{n}{\\frac {1}{\\left|n\\right|^{s-3}}}.}$"
   ]
  },
  {
   "cell_type": "code",
   "execution_count": 13,
   "metadata": {},
   "outputs": [
    {
     "name": "stdout",
     "output_type": "stream",
     "text": [
      "Computation failed since Maxima requested additional constraints; using the 'assume' command before evaluation *may* help (example of legal syntax is 'assume((s-1)/2>0)', see `assume?` for more details)\n",
      "Is (s-1)/2 an integer?\n"
     ]
    },
    {
     "data": {
      "text/latex": [
       "$\\displaystyle E_{n} = \\int_{0}^{+\\infty} \\kappa {\\left| \\kappa^{2} + \\frac{\\pi^{2} n^{2}}{a^{2}} \\right|}^{-\\frac{1}{2} \\, s + \\frac{1}{2}}\\,{d \\kappa}$"
      ],
      "text/plain": [
       "<IPython.core.display.Math object>"
      ]
     },
     "metadata": {},
     "output_type": "display_data"
    },
    {
     "data": {
      "text/latex": [
       "$\\displaystyle E_{n} = -\\frac{{\\left(\\kappa^{2} + \\frac{\\pi^{2} n^{2}}{a^{2}}\\right)}^{-\\frac{1}{2} \\, s + \\frac{3}{2}}}{s - 3}$"
      ],
      "text/plain": [
       "<IPython.core.display.Math object>"
      ]
     },
     "metadata": {},
     "output_type": "display_data"
    },
    {
     "data": {
      "text/latex": [
       "$\\displaystyle E_{n} = -\\frac{\\left(\\frac{\\pi^{2} n^{2}}{a^{2}}\\right)^{-\\frac{1}{2} \\, s + \\frac{3}{2}}}{s - 3}$"
      ],
      "text/plain": [
       "<IPython.core.display.Math object>"
      ]
     },
     "metadata": {},
     "output_type": "display_data"
    }
   ],
   "source": [
    "E_n = var(\"E_n\")\n",
    "forget()\n",
    "assume(s>3)\n",
    "assume(n, \"real\")\n",
    "assume(n > 0)\n",
    "display(Math(latex(E_n == integrate(integrand_zeta, kappa, 0, Infinity))))\n",
    "display(Math(latex(E_n == integrate(integrand_zeta, kappa))))\n",
    "display(Math(latex(E_n == integrate(integrand_zeta, kappa).subs(kappa == 0))))"
   ]
  },
  {
   "cell_type": "markdown",
   "metadata": {},
   "source": [
    "The sum diverges at s in the neighborhood of zero, but if the damping of large-frequency excitations corresponding to analytic continuation of the Riemann zeta function to s=0 is assumed to make sense physically in some way, then one has"
   ]
  },
  {
   "cell_type": "markdown",
   "metadata": {},
   "source": [
    "${\\displaystyle {\\frac {\\langle E\\rangle }{A}}=\\lim _{s\\to 0}{\\frac {\\langle E(s)\\rangle }{A}}=-{\\frac {\\hbar c\\pi ^{2}}{6a^{3}}}\\zeta (-3).}$"
   ]
  },
  {
   "cell_type": "markdown",
   "metadata": {},
   "source": [
    "But"
   ]
  },
  {
   "cell_type": "markdown",
   "metadata": {},
   "source": [
    "${\\displaystyle \\zeta (-3)={\\frac {1}{120}}}$"
   ]
  },
  {
   "cell_type": "code",
   "execution_count": 14,
   "metadata": {},
   "outputs": [
    {
     "data": {
      "text/plain": [
       "1/120"
      ]
     },
     "execution_count": 14,
     "metadata": {},
     "output_type": "execute_result"
    }
   ],
   "source": [
    "zeta(-3)"
   ]
  },
  {
   "cell_type": "markdown",
   "metadata": {},
   "source": [
    "and so one obtains"
   ]
  },
  {
   "cell_type": "markdown",
   "metadata": {},
   "source": [
    "${\\displaystyle {\\frac {\\langle E\\rangle }{A}}={\\frac {-\\hbar c\\pi ^{2}}{720a^{3}}}.}$"
   ]
  },
  {
   "cell_type": "markdown",
   "metadata": {},
   "source": [
    "The analytic continuation has evidently lost an additive positive infinity, somehow exactly accounting for the zero-point energy (not included above) outside the slot between the plates, but which changes upon plate movement within a closed system. The Casimir force per unit area ${\\displaystyle F_{c}/A}$ for idealized, perfectly conducting plates with vacuum between them is"
   ]
  },
  {
   "cell_type": "markdown",
   "metadata": {},
   "source": [
    "${\\displaystyle {F_{c} \\over A}=-{\\frac {d}{da}}{\\frac {\\langle E\\rangle }{A}}=-{\\frac {\\hbar c\\pi ^{2}}{240a^{4}}}}$"
   ]
  },
  {
   "cell_type": "markdown",
   "metadata": {},
   "source": [
    "where\n",
    "\n",
    "${\\displaystyle \\hbar }$  (hbar, ħ) is the reduced Planck constant,\n",
    "\n",
    "${\\displaystyle c}$ is the speed of light,\n",
    "\n",
    "${\\displaystyle a}$ is the distance between the two plates\n",
    "\n",
    "The force is negative, indicating that the force is attractive: by moving the two plates closer together, the energy is lowered. The presence of {\\displaystyle \\hbar }\\hbar  shows that the Casimir force per unit area ${\\displaystyle F_{c}/A}$ is very small, and that furthermore, the force is inherently of quantum-mechanical origin.\n",
    "\n",
    "By integrating the equation above it is possible to calculate the energy required to separate to infinity the two plates as:"
   ]
  },
  {
   "cell_type": "markdown",
   "metadata": {},
   "source": [
    "${\\displaystyle U_{E}(a)=\\int F(a)\\,da=\\int -\\hbar c\\pi ^{2}{\\frac {A}{240a^{4}}}\\,da}$"
   ]
  },
  {
   "cell_type": "markdown",
   "metadata": {},
   "source": [
    "${\\displaystyle U_{E}(a)=-\\hbar c\\pi ^{2}{\\frac {A}{720a^{3}}}}$"
   ]
  },
  {
   "cell_type": "markdown",
   "metadata": {},
   "source": [
    "where\n",
    "\n",
    "${\\displaystyle \\hbar }$  (hbar, ħ) is the reduced Planck constant,\n",
    "\n",
    "${\\displaystyle c}$ is the speed of light,\n",
    "\n",
    "${\\displaystyle A}$ is the area of one of the plates,\n",
    "\n",
    "${\\displaystyle a}$ is the distance between the two plates\n",
    "\n",
    "In Casimir's original derivation,[17] a moveable conductive plate is positioned at a short distance a from one of two widely separated plates (distance L apart). The 0-point energy on both sides of the plate is considered. Instead of the above ad hoc analytic continuation assumption, non-convergent sums and integrals are computed using Euler–Maclaurin summation with a regularizing function (e.g., exponential regularization) not so anomalous as ${\\displaystyle \\vert \\omega _{n}\\vert ^{-s}}$ in the above.[25]"
   ]
  },
  {
   "cell_type": "markdown",
   "metadata": {},
   "source": [
    "# Regularization"
   ]
  },
  {
   "cell_type": "markdown",
   "metadata": {},
   "source": [
    "In order to be able to perform calculations in the general case, it is convenient to introduce a regulator in the summations. This is an artificial device, used to make the sums finite so that they can be more easily manipulated, followed by the taking of a limit so as to remove the regulator.\n",
    "\n",
    "The heat kernel or exponentially regulated sum is"
   ]
  },
  {
   "cell_type": "markdown",
   "metadata": {},
   "source": [
    "${\\displaystyle \\langle E(t)\\rangle ={\\frac {1}{2}}\\sum _{n}\\hbar |\\omega _{n}|\\exp(-t|\\omega _{n}|)}$"
   ]
  },
  {
   "cell_type": "markdown",
   "metadata": {},
   "source": [
    "where the limit ${\\displaystyle t\\to 0^{+}}$ is taken in the end. The divergence of the sum is typically manifested as"
   ]
  },
  {
   "cell_type": "markdown",
   "metadata": {},
   "source": [
    "${\\displaystyle \\langle E(t)\\rangle ={\\frac {C}{t^{3}}}+{\\textrm {finite}}\\,}$"
   ]
  },
  {
   "cell_type": "markdown",
   "metadata": {},
   "source": [
    "for three-dimensional cavities. The infinite part of the sum is associated with the bulk constant C which does not depend on the shape of the cavity. The interesting part of the sum is the finite part, which is shape-dependent. The Gaussian regulator"
   ]
  },
  {
   "cell_type": "markdown",
   "metadata": {},
   "source": [
    "${\\displaystyle \\langle E(t)\\rangle ={\\frac {1}{2}}\\sum _{n}\\hbar |\\omega _{n}|\\exp(-t^{2}|\\omega _{n}|^{2})}$"
   ]
  },
  {
   "cell_type": "markdown",
   "metadata": {},
   "source": [
    "is better suited to numerical calculations because of its superior convergence properties, but is more difficult to use in theoretical calculations. Other, suitably smooth, regulators may be used as well. The zeta function regulator"
   ]
  },
  {
   "cell_type": "markdown",
   "metadata": {},
   "source": [
    "${\\displaystyle \\langle E(s)\\rangle ={\\frac {1}{2}}\\sum _{n}\\hbar |\\omega _{n}||\\omega _{n}|^{-s}}$"
   ]
  },
  {
   "cell_type": "markdown",
   "metadata": {},
   "source": [
    "is completely unsuited for numerical calculations, but is quite useful in theoretical calculations. In particular, divergences show up as poles in the complex s plane, with the bulk divergence at s=4. This sum may be analytically continued past this pole, to obtain a finite part at s=0.\n",
    "\n",
    "Not every cavity configuration necessarily leads to a finite part (the lack of a pole at s=0) or shape-independent infinite parts. In this case, it should be understood that additional physics has to be taken into account. In particular, at extremely large frequencies (above the plasma frequency), metals become transparent to photons (such as X-rays), and dielectrics show a frequency-dependent cutoff as well. This frequency dependence acts as a natural regulator. There are a variety of bulk effects in solid state physics, mathematically very similar to the Casimir effect, where the cutoff frequency comes into explicit play to keep expressions finite. (These are discussed in greater detail in Landau and Lifshitz, \"Theory of Continuous Media\".)"
   ]
  },
  {
   "cell_type": "code",
   "execution_count": null,
   "metadata": {},
   "outputs": [],
   "source": []
  }
 ],
 "metadata": {
  "kernelspec": {
   "display_name": "SageMath 9.3",
   "language": "sage",
   "name": "sagemath"
  },
  "language_info": {
   "codemirror_mode": {
    "name": "ipython",
    "version": 3
   },
   "file_extension": ".py",
   "mimetype": "text/x-python",
   "name": "python",
   "nbconvert_exporter": "python",
   "pygments_lexer": "ipython3",
   "version": "3.9.2"
  }
 },
 "nbformat": 4,
 "nbformat_minor": 2
}
