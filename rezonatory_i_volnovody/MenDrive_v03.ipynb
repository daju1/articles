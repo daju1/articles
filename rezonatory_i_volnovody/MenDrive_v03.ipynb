{
 "cells": [
  {
   "cell_type": "markdown",
   "metadata": {},
   "source": [
    "# Электродинамический расчёт волнового двигателя с внутренним расходом энергии Ф.Ф.Менде (MenDrive)\n",
    "\n",
    "А.Ю.Дроздов"
   ]
  },
  {
   "cell_type": "markdown",
   "metadata": {},
   "source": [
    "опираясь на выкладки из параграфа 20 Электродинамики Зоммерфельда"
   ]
  },
  {
   "cell_type": "markdown",
   "metadata": {},
   "source": [
    "рассчитаем тягу в\n",
    "\n",
    "http://fmnauka.narod.ru/dvigatel_emdrive.pdf\n",
    "\n",
    "Ф.Ф. МЕНДЕ, ВОЛНОВОЙ ДВИГАТЕЛЬ С ВНУТРЕННИМ РАСХОДОМ ЭНЕРГИИ ЭЛЕКТРОМАГНИТНЫХ КОЛЕБАНИЙ"
   ]
  },
  {
   "cell_type": "markdown",
   "metadata": {},
   "source": [
    "геометрия задачи следующая: \n",
    "\n",
    "поверхность идеального проводника $x<=-a$\n",
    "\n",
    "вакуум внутри резонатора заполняет область $-a<=x<=0$\n",
    "\n",
    "В области $x>0$ - плохой проводник"
   ]
  },
  {
   "cell_type": "markdown",
   "metadata": {},
   "source": [
    "$$rot\\,\\vec{E} = -\\frac{1}{c}\\frac{\\partial \\vec B}{\\partial t} = \\mu\\,\\frac{i\\,\\omega}{c}\\,\\vec{H}$$\n",
    "\n",
    "$$rot\\,\\vec{H} = \\frac{1}{c}\\frac{\\partial \\vec D}{\\partial t} + \\frac{4\\pi}{c} \\vec j = - \\frac{i\\,\\omega}{c} \\epsilon \\vec{E} + \\frac{4\\pi}{c}\\sigma \\vec E$$\n",
    "\n",
    "где \n",
    "\n",
    "$$\\vec{H}(t) = \\vec{H}\\,e^{-i\\,\\omega\\,t}$$\n",
    "\n",
    "$$\\vec{E}(t) = \\vec{E}\\,e^{-i\\,\\omega\\,t}$$\n",
    "\n",
    "$$rot\\,rot\\,\\vec{E} = \\mu\\,\\frac{i\\,\\omega}{c}rot\\,\\vec{H}$$\n",
    "\n",
    "$$rot\\,rot\\,\\vec{E} = \\mu\\,\\frac{i\\,\\omega}{c}\\left(- \\frac{i\\,\\omega}{c} \\epsilon \\vec{E} + \\frac{4\\pi}{c}\\sigma \\vec E\\right)$$\n",
    "\n",
    "$$rot\\,rot\\,\\vec{E} = \\epsilon \\mu\\,\\frac{\\omega^2}{c^2} \\vec{E} + i\\,\\omega\\,\\sigma\\,\\mu\\,\\frac{4\\pi}{c^2} \\vec E$$\n",
    "\n",
    "$$rot\\,rot\\,\\vec{E} = grad\\,div\\,\\vec{E} - Laplasian\\,\\vec{E}$$\n",
    "\n",
    "$$Laplasian\\,\\vec{E} + \\epsilon \\mu \\frac{\\omega^2}{c^2}\\,\\vec{E} + i\\,\\omega\\,\\sigma\\,\\mu\\,\\frac{4\\pi}{c^2} \\vec E - grad\\,div\\,\\vec{E} = 0$$\n"
   ]
  },
  {
   "cell_type": "markdown",
   "metadata": {},
   "source": [
    "$$div\\,\\vec{D} = 4\\pi\\rho$$\n"
   ]
  },
  {
   "cell_type": "markdown",
   "metadata": {},
   "source": [
    "$$div\\,\\epsilon\\vec{E} = 4\\pi\\rho$$\n"
   ]
  },
  {
   "cell_type": "markdown",
   "metadata": {},
   "source": [
    "$$div\\,\\vec{E} = - \\frac{\\vec{n}}{c} \\frac{\\partial \\vec E}{\\partial t}$$\n",
    "\n",
    "$$grad\\,div\\,\\vec{E} = - grad\\,\\frac{\\vec{n}}{c} \\frac{\\partial \\vec E}{\\partial t}$$\n",
    "\n",
    "для вакуума внутри резонатора ищем решение в виде\n",
    "\n",
    "$$\\vec{E}(t) = \\vec{E}(x)\\,e^{i\\,k\\,z}\\,e^{-i\\,\\omega\\,t}$$\n",
    "\n",
    "$$\\vec{E} = \\vec{E}(x)\\,e^{i\\,k\\,z}$$"
   ]
  },
  {
   "cell_type": "markdown",
   "metadata": {},
   "source": [
    "для проводящего металла с потерями ищем решение в виде\n",
    "\n",
    "$$\\vec{E}(t) = \\vec{E}_0\\,e^{i\\,k'_x\\,x}\\,e^{i\\,k'_z\\,z}\\,e^{-i\\,\\omega\\,t}$$\n",
    "\n",
    "$$\\vec{E} = \\vec{E}_0\\,e^{i\\,k'_x\\,x}\\,e^{i\\,k'_z\\,z}$$\n",
    "\n",
    "$$\\vec{E} = \\vec{E}(x)\\,e^{i\\,k'_z\\,z}$$\n",
    "\n",
    "в котором волновой вектор, направленный вдоль оси z комплексный $k'_z = k_z + i\\,s_z$, как и волновой вектор, направленный вдоль оси x может быть комплексным $k'_x = k_x + i\\,s_x$\n",
    "\n",
    "$$\\vec{E}(t) = \\vec{E}_0\\,e^{i\\,(k_x + i\\,s_x)\\,x}\\,e^{i\\,(k_z + i\\,s_z)\\,z}\\,e^{-i\\,\\omega\\,t}$$\n",
    "\n",
    "$$\\vec{E} = \\vec{E}_0\\,e^{i\\,(k_x + i\\,s_x)\\,x}\\,e^{i\\,(k_z + i\\,s_z)\\,z}$$\n",
    "\n",
    "$$\\vec{E} = \\vec{E}(x)\\,e^{i\\,(k_z + i\\,s_z)\\,z}$$"
   ]
  },
  {
   "cell_type": "markdown",
   "metadata": {},
   "source": [
    "подставляя в исходное уравнение приходим к обыкновенному дифференциальному уравнению\n",
    "\n",
    "$$\\frac{\\partial^{2}}{(\\partial {x})^{2}}\\vec{E}(x) + \\frac{\\partial^{2}}{(\\partial {y})^{2}}\\vec{E}(x) + \\left(\\epsilon  \\mu \\frac{\\omega^2}{c^2} + i\\,\\omega\\,\\sigma\\,\\mu\\,\\frac{4\\pi}{c^2} - {k'_z}^2\\right)\\,\\vec{E}(x) - grad\\,div\\,\\vec{E} = 0$$"
   ]
  },
  {
   "cell_type": "markdown",
   "metadata": {},
   "source": [
    "производим следующую замену переменных\n",
    "\n",
    "$$\\kappa^2 = \\epsilon \\mu \\frac{\\omega^2}{c^2} + i\\,\\omega\\,\\sigma\\,\\mu\\,\\frac{4\\pi}{c^2}$$\n",
    "\n",
    "$$\\kappa^2 = \\mu \\left(\\epsilon  + i\\,\\frac{4\\pi\\,\\sigma}{\\omega} \\right) \\frac{\\omega^2}{c^2}$$\n",
    "\n",
    "теперь получаем дифференциальное уравнение\n",
    "\n",
    "$$\\frac{\\partial^{2}}{(\\partial {x})^{2}}\\vec{E}(x) + \\frac{\\partial^{2}}{(\\partial {y})^{2}}\\vec{E}(x) + \\left(\\kappa^2 - {k'_z}^2\\right)\\,\\vec{E}(x) = 0$$"
   ]
  },
  {
   "cell_type": "code",
   "execution_count": null,
   "metadata": {},
   "outputs": [],
   "source": []
  },
  {
   "cell_type": "code",
   "execution_count": null,
   "metadata": {},
   "outputs": [],
   "source": []
  },
  {
   "cell_type": "markdown",
   "metadata": {},
   "source": [
    "принимая модель комплексного представления диэлектрической проницаемости $\\epsilon' = \\epsilon + \\frac{4\\pi\\,\\sigma}{\\omega}\\,i$ (плохой проводник)"
   ]
  },
  {
   "cell_type": "markdown",
   "metadata": {},
   "source": [
    "подставляем решение в\n",
    "\n",
    "$$Laplasian\\,\\vec{E} + \\frac{\\mu \\omega^2}{c^2}\\left(\\epsilon + \\frac{4\\pi\\,\\sigma}{\\omega}\\,i\\right)\\,\\vec{E} - grad\\,div\\,\\vec{E} = 0$$\n",
    "\n",
    "и принимая\n",
    "\n",
    "$$div\\,\\vec{E} = - \\frac{\\vec{n}}{c} \\frac{\\partial \\vec E}{\\partial t}$$"
   ]
  },
  {
   "cell_type": "markdown",
   "metadata": {},
   "source": [
    "приходим к\n",
    "\n",
    "$$\\frac{\\partial^{2}}{(\\partial {x})^{2}}\\vec{E}(x) + \\frac{\\partial^{2}}{(\\partial {y})^{2}}\\vec{E}(x) + \\left(\\frac{\\mu \\omega^2}{c^2}\\left(\\epsilon + \\frac{4\\pi\\,\\sigma}{\\omega}\\,i\\right)  - {k'_z}^2\\right)\\,\\vec{E} - grad\\, \\left(\\frac{\\vec{n}}{c} \\frac{\\partial \\vec E}{\\partial t} \\right) = 0$$"
   ]
  },
  {
   "cell_type": "markdown",
   "metadata": {},
   "source": [
    "$$ k = \\frac{\\omega}{c}\\,\\sqrt{\\mu\\,\\left(\\epsilon  + \\frac{4\\pi\\,\\sigma}{\\omega}\\,i\\right)}$$"
   ]
  },
  {
   "cell_type": "markdown",
   "metadata": {},
   "source": [
    "$${k'_z}^2=\\left(k_z + i\\,s_z \\right)^2 = k_z^2 - s_z^2 + 2\\,i\\,k_z\\,s_z$$"
   ]
  },
  {
   "cell_type": "markdown",
   "metadata": {},
   "source": [
    "приходим к\n",
    "\n",
    "$$\\frac{\\partial^{2}}{(\\partial {x})^{2}}\\vec{E}(x) + \\frac{\\partial^{2}}{(\\partial {y})^{2}}\\vec{E}(x) + \\left(\\frac{\\mu \\omega^2}{c^2}\\epsilon + \\frac{\\mu \\omega^2}{c^2}\\frac{4\\pi\\,\\sigma}{\\omega}\\,i - {k'_z}^{2}\\right) = 0$$\n"
   ]
  },
  {
   "cell_type": "code",
   "execution_count": 1,
   "metadata": {},
   "outputs": [],
   "source": [
    "from IPython.display import display, Math, Latex\n",
    "\n",
    "def disp(ex):\n",
    "    display(Math(latex(ex)))\n",
    "\n",
    "mu = var('mu')\n",
    "assume(mu, 'real')\n",
    "assume(mu>0)\n",
    "\n",
    "epsilon = var('epsilon')\n",
    "assume(epsilon, 'real')\n",
    "assume(epsilon>0)\n",
    "\n",
    "mu_0 = 1\n",
    "epsilon_0 = 1\n",
    "\n",
    "sigma = var('sigma')\n",
    "assume(sigma, 'real')\n",
    "assume(sigma>0)\n",
    "\n",
    "sx = var ('sx')\n",
    "assume(sx, 'real')\n",
    "assume(sx>0)\n",
    "\n",
    "sy = var ('sy')\n",
    "assume(sy, 'real')\n",
    "assume(sy>0)\n",
    "\n",
    "sz = var ('sz')\n",
    "assume(sz, 'real')\n",
    "assume(sz>0)\n",
    "\n",
    "kappa_vacuum = var ('kappa_vacuum')\n",
    "assume(kappa_vacuum, 'real')\n",
    "assume(kappa_vacuum>0)\n",
    "\n",
    "kappa = var('kappa')\n",
    "assume(kappa, 'complex')\n",
    "\n",
    "kx = var ('kx')\n",
    "assume(kx, 'real')\n",
    "\n",
    "ky = var ('ky')\n",
    "assume(ky, 'real')\n",
    "\n",
    "kz = var ('kz')\n",
    "assume(kz, 'real')\n",
    "\n",
    "k__x = var ('k__x')\n",
    "assume(k__x, 'complex')\n",
    "\n",
    "k__y = var ('k__y')\n",
    "assume(k__x, 'complex')\n",
    "\n",
    "k__z = var ('k__z')\n",
    "assume(k__z, 'complex')\n",
    "\n",
    "k_x = var ('k_x')\n",
    "assume(k_x, 'complex')\n",
    "\n",
    "k_y = var ('k_y')\n",
    "assume(k_x, 'complex')\n",
    "\n",
    "k_z = var ('k_z')\n",
    "assume(k_z, 'complex')\n",
    "\n",
    "\n",
    "a = var('a')\n",
    "assume(a, 'real')\n",
    "assume(a>0)\n",
    "\n",
    "x = var('x')\n",
    "y = var('y')\n",
    "z = var('z')\n",
    "\n",
    "assume(x, 'real')\n",
    "assume(y, 'real')\n",
    "assume(z, 'real')\n",
    "\n",
    "c = var('c')\n",
    "assume(c, 'real')\n",
    "assume(c>0)\n",
    "\n",
    "omega = var('omega')\n",
    "assume(omega, 'real')\n",
    "\n",
    "good_conductor = False"
   ]
  },
  {
   "cell_type": "markdown",
   "metadata": {},
   "source": [
    "$$\\kappa^2 = \\epsilon \\mu \\frac{\\omega^2}{c^2} + i\\,\\omega\\,\\sigma\\,\\mu\\,\\frac{4\\pi}{c^2}$$"
   ]
  },
  {
   "cell_type": "markdown",
   "metadata": {},
   "source": [
    "$$\\kappa^2 = \\mu \\left(\\epsilon  + i\\,\\frac{4\\pi\\,\\sigma}{\\omega} \\right) \\frac{\\omega^2}{c^2}$$"
   ]
  },
  {
   "cell_type": "code",
   "execution_count": 2,
   "metadata": {},
   "outputs": [
    {
     "name": "stdout",
     "output_type": "stream",
     "text": [
      "eq_kappa =\n"
     ]
    },
    {
     "data": {
      "text/latex": [
       "$\\displaystyle \\kappa^{2} = \\frac{\\epsilon \\mu \\omega^{2}}{c^{2}} + \\frac{4 i \\, \\pi \\mu \\omega \\sigma}{c^{2}}$"
      ],
      "text/plain": [
       "<IPython.core.display.Math object>"
      ]
     },
     "metadata": {},
     "output_type": "display_data"
    },
    {
     "name": "stdout",
     "output_type": "stream",
     "text": [
      "eq_kappa_inner_vacuum =\n"
     ]
    },
    {
     "data": {
      "text/latex": [
       "$\\displaystyle \\kappa_{\\mathit{vacuum}}^{2} = \\frac{\\omega^{2}}{c^{2}}$"
      ],
      "text/plain": [
       "<IPython.core.display.Math object>"
      ]
     },
     "metadata": {},
     "output_type": "display_data"
    }
   ],
   "source": [
    "# исходя из вида дифференциальных уравнений для вакуума внутри резонатора и проводящего металла с потерями\n",
    "# записываем соотнощения для волнового вектора в виде уравнений\n",
    "\n",
    "if good_conductor:\n",
    "    eq_kappa              = kappa^2 == I*omega*sigma*mu*4*pi/c^2\n",
    "else:\n",
    "    eq_kappa              = kappa^2 == mu * epsilon * omega^2 / c^2 + I*omega*sigma*mu*4*pi/c^2\n",
    "eq_kappa_inner_vacuum = kappa_vacuum^2 == omega^2 / c^2\n",
    "\n",
    "kappa_sol = solve(eq_kappa, kappa)[1]\n",
    "#kappa_vacuum_sol = omega / c\n",
    "\n",
    "print(\"eq_kappa =\")\n",
    "display(Math(latex(eq_kappa)))\n",
    "\n",
    "print(\"eq_kappa_inner_vacuum =\")\n",
    "display(Math(latex(eq_kappa_inner_vacuum)))"
   ]
  },
  {
   "cell_type": "code",
   "execution_count": null,
   "metadata": {},
   "outputs": [],
   "source": []
  },
  {
   "cell_type": "markdown",
   "metadata": {},
   "source": [
    "принимая модель комплексного представления диэлектрической проницаемости $\\epsilon' = \\epsilon + \\frac{4\\pi\\,\\sigma}{\\omega}\\,i$ (плохой проводник)"
   ]
  },
  {
   "cell_type": "code",
   "execution_count": 3,
   "metadata": {},
   "outputs": [],
   "source": [
    "if good_conductor:\n",
    "    epsilon_complex = + I * 4 * pi * sigma / omega\n",
    "else:\n",
    "    epsilon_complex = epsilon + I * 4 * pi * sigma / omega"
   ]
  },
  {
   "cell_type": "code",
   "execution_count": 4,
   "metadata": {},
   "outputs": [
    {
     "data": {
      "text/plain": [
       "(epsilon*mu*omega^2/c^2 + 4*I*pi*mu*omega*sigma/c^2,\n",
       " epsilon*mu*omega^2/c^2 + 4*I*pi*mu*omega*sigma/c^2)"
      ]
     },
     "execution_count": 4,
     "metadata": {},
     "output_type": "execute_result"
    }
   ],
   "source": [
    "tst_eq = (kappa == sqrt(epsilon_complex * mu) * omega/c).subs(kappa_sol)\n",
    "(tst_eq.lhs()^2).expand(), (tst_eq.rhs()^2).expand()"
   ]
  },
  {
   "cell_type": "code",
   "execution_count": null,
   "metadata": {},
   "outputs": [],
   "source": []
  },
  {
   "cell_type": "markdown",
   "metadata": {},
   "source": [
    "приходим к\n",
    "\n",
    "$$\\frac{\\partial^{2}}{(\\partial {x})^{2}}\\vec{E}(x) + \\frac{\\partial^{2}}{(\\partial {y})^{2}}\\vec{E}(x) +  \\left(\\frac{\\mu \\omega^2}{c^2}\\epsilon + \\frac{\\mu \\omega^2}{c^2}\\frac{4\\pi\\,\\sigma}{\\omega}\\,i - {k'_z}^{2}\\right) = 0$$\n"
   ]
  },
  {
   "cell_type": "markdown",
   "metadata": {},
   "source": [
    "$${k'_z}^2=\\left(k_z + i\\,s_z \\right)^2 = k_z^2 - s_z^2 + 2\\,i\\,k_z\\,s_z$$"
   ]
  },
  {
   "cell_type": "markdown",
   "metadata": {},
   "source": []
  },
  {
   "cell_type": "code",
   "execution_count": 5,
   "metadata": {},
   "outputs": [],
   "source": [
    "k__y_subs = k__y == 0 #ky + I * sy"
   ]
  },
  {
   "cell_type": "code",
   "execution_count": 6,
   "metadata": {},
   "outputs": [],
   "source": [
    "k__z_subs = k__z == kz + I * sz"
   ]
  },
  {
   "cell_type": "code",
   "execution_count": null,
   "metadata": {},
   "outputs": [],
   "source": []
  },
  {
   "cell_type": "markdown",
   "metadata": {},
   "source": [
    "$$\\frac{\\partial^{2}}{(\\partial {x})^{2}}\\vec{E}(x) + \\frac{\\partial^{2}}{(\\partial {y})^{2}}\\vec{E}(x) + \\left(\\frac{\\mu \\epsilon \\omega^2}{c^2} - {k'_z}^2\\right)\\,\\vec{E}(x) - grad\\,div\\,\\vec{E} = 0$$"
   ]
  },
  {
   "cell_type": "markdown",
   "metadata": {},
   "source": [
    "зависимость поля от $y$ отсутствует"
   ]
  },
  {
   "cell_type": "markdown",
   "metadata": {},
   "source": [
    "$$\\frac{\\partial^{2}}{(\\partial {x})^{2}}\\vec{E}(x) + \\left(\\frac{\\mu \\epsilon \\omega^2}{c^2} - {k'_z}^2\\right)\\,\\vec{E}(x) - grad\\,div\\,\\vec{E} = 0$$"
   ]
  },
  {
   "cell_type": "code",
   "execution_count": 7,
   "metadata": {},
   "outputs": [
    {
     "name": "stdout",
     "output_type": "stream",
     "text": [
      "de_inner_vacuum =\n"
     ]
    },
    {
     "data": {
      "text/latex": [
       "$\\displaystyle -{\\left(k_{z}^{2} - \\kappa^{2}\\right)} E\\left(x\\right) + \\frac{\\partial^{2}}{(\\partial x)^{2}}E\\left(x\\right) = 0$"
      ],
      "text/plain": [
       "<IPython.core.display.Math object>"
      ]
     },
     "metadata": {},
     "output_type": "display_data"
    }
   ],
   "source": [
    "# решаем полученные обыкновенные дифференциальные уравнения\n",
    "E = function('E')(x)\n",
    "\n",
    "\n",
    "de_inner_vacuum = diff (E, x, 2) + diff (E, y, 2) + (kappa^2 - k_z^2) * E == 0\n",
    "# diff (E, y, 2) == 0\n",
    "de_inner_vacuum = diff (E, x, 2) + (kappa^2 - k_z^2) * E == 0\n",
    "# получая таким образом выражения для электрического поля в вакуума внутри резонатора и внутри проводящего металла с потерями\n",
    "print(\"de_inner_vacuum =\")\n",
    "display(Math(latex(de_inner_vacuum)))"
   ]
  },
  {
   "cell_type": "code",
   "execution_count": 8,
   "metadata": {},
   "outputs": [
    {
     "name": "stdout",
     "output_type": "stream",
     "text": [
      "E_inner_vacuum =\n"
     ]
    },
    {
     "data": {
      "text/latex": [
       "$\\displaystyle K_{1} e^{\\left(i \\, \\sqrt{-k_{z}^{2} + \\kappa^{2}} x\\right)} + K_{2} e^{\\left(-i \\, \\sqrt{-k_{z}^{2} + \\kappa^{2}} x\\right)}$"
      ],
      "text/plain": [
       "<IPython.core.display.Math object>"
      ]
     },
     "metadata": {},
     "output_type": "display_data"
    }
   ],
   "source": [
    "assume(k_z^2-kappa^2 > 0)\n",
    "\n",
    "E_inner_vacuum = desolve(de_inner_vacuum, E, ivar = x)\n",
    "#E_inner_vacuum = desolve(de_inner_vacuum, E, ivar = [x, y], contrib_ode = True)\n",
    "\n",
    "# получая таким образом выражения для электрического поля в вакуума внутри резонатора и внутри проводящего металла с потерями\n",
    "print(\"E_inner_vacuum =\")\n",
    "display(Math(latex(E_inner_vacuum)))"
   ]
  },
  {
   "cell_type": "code",
   "execution_count": 9,
   "metadata": {},
   "outputs": [],
   "source": [
    "# eq_kx_vacuum = k_x = I*sqrt(kappa_vacuum^2-k_z^2)\n",
    "# eq_kx        = k_x = I*sqrt(kappa^2-k_z^2)"
   ]
  },
  {
   "cell_type": "code",
   "execution_count": null,
   "metadata": {},
   "outputs": [],
   "source": []
  },
  {
   "cell_type": "code",
   "execution_count": 10,
   "metadata": {},
   "outputs": [],
   "source": [
    "B1_x = var ('B1_x')\n",
    "B2_x = var ('B2_x')\n",
    "\n",
    "A1_x = var ('A1_x')\n",
    "A2_x = var ('A2_x')\n",
    "\n",
    "\n",
    "B1_y = var ('B1_y')\n",
    "B2_y = var ('B2_y')\n",
    "\n",
    "A1_y = var ('A1_y')\n",
    "A2_y = var ('A2_y')\n",
    "\n",
    "\n",
    "B1_z = var ('B1_z')\n",
    "B2_z = var ('B2_z')\n",
    "\n",
    "A1_z = var ('A1_z')\n",
    "A2_z = var ('A2_z')\n",
    "\n",
    "A1_x_re, A1_y_re, A1_z_re = var(\"A1_x_re, A1_y_re, A1_z_re\")\n",
    "A1_x_im, A1_y_im, A1_z_im = var(\"A1_x_im, A1_y_im, A1_z_im\")\n",
    "\n",
    "A2_x_re, A2_y_re, A2_z_re = var(\"A2_x_re, A2_y_re, A2_z_re\")\n",
    "A2_x_im, A2_y_im, A2_z_im = var(\"A2_x_im, A2_y_im, A2_z_im\")\n",
    "\n",
    "B1_x_re, B1_y_re, B1_z_re = var(\"B1_x_re, B1_y_re, B1_z_re\")\n",
    "B1_x_im, B1_y_im, B1_z_im = var(\"B1_x_im, B1_y_im, B1_z_im\")\n",
    "\n",
    "\n",
    "assume(A1_x_re, \"real\")\n",
    "assume(A1_x_im, \"real\")\n",
    "\n",
    "assume(A2_x_re, \"real\")\n",
    "assume(A2_x_im, \"real\")\n",
    "\n",
    "assume(A1_y_re, \"real\")\n",
    "assume(A1_y_im, \"real\")\n",
    "\n",
    "assume(A2_y_re, \"real\")\n",
    "assume(A2_y_im, \"real\")\n",
    "\n",
    "assume(A1_z_re, \"real\")\n",
    "assume(A1_z_im, \"real\")\n",
    "\n",
    "assume(A2_z_re, \"real\")\n",
    "assume(A2_z_im, \"real\")\n",
    "\n",
    "\n",
    "assume(B1_x_re, \"real\")\n",
    "assume(B1_x_im, \"real\")\n",
    "\n",
    "assume(B1_y_re, \"real\")\n",
    "assume(B1_y_im, \"real\")\n",
    "\n",
    "assume(B1_z_re, \"real\")\n",
    "assume(B1_z_im, \"real\")"
   ]
  },
  {
   "cell_type": "code",
   "execution_count": 11,
   "metadata": {},
   "outputs": [],
   "source": [
    "A1_x_re_im_subs = A1_x == A1_x_re + I * A1_x_im\n",
    "A2_x_re_im_subs = A2_x == A2_x_re + I * A2_x_im\n",
    "\n",
    "A1_y_re_im_subs = A1_y == A1_y_re + I * A1_y_im\n",
    "A2_y_re_im_subs = A2_y == A2_y_re + I * A2_y_im\n",
    "\n",
    "A1_z_re_im_subs = A1_z == A1_z_re + I * A1_z_im\n",
    "A2_z_re_im_subs = A2_z == A2_z_re + I * A2_z_im\n",
    "\n",
    "B1_x_re_im_subs = B1_x == B1_x_re + I * B1_x_im\n",
    "B1_y_re_im_subs = B1_y == B1_y_re + I * B1_y_im\n",
    "B1_z_re_im_subs = B1_z == B1_z_re + I * B1_z_im"
   ]
  },
  {
   "cell_type": "code",
   "execution_count": 12,
   "metadata": {},
   "outputs": [],
   "source": [
    "coefs_re_im_subs = [A1_x == A1_x_re + I * A1_x_im,\n",
    "                    A2_x == A2_x_re + I * A2_x_im,\n",
    "                    A1_y == A1_y_re + I * A1_y_im,\n",
    "                    A2_y == A2_y_re + I * A2_y_im,\n",
    "                    A1_z == A1_z_re + I * A1_z_im,\n",
    "                    A2_z == A2_z_re + I * A2_z_im,\n",
    "                    B1_x == B1_x_re + I * B1_x_im,\n",
    "                    B1_y == B1_y_re + I * B1_y_im,\n",
    "                    B1_z == B1_z_re + I * B1_z_im]"
   ]
  },
  {
   "cell_type": "code",
   "execution_count": 13,
   "metadata": {},
   "outputs": [],
   "source": [
    "# 2D\n",
    "# отсутсвие изменения поля вдоль оси y\n",
    "set_Ey_0 = False"
   ]
  },
  {
   "cell_type": "code",
   "execution_count": 14,
   "metadata": {},
   "outputs": [],
   "source": [
    "if set_Ey_0:\n",
    "    B1_y = 0\n",
    "    B2_y = 0\n",
    "\n",
    "    A1_y = 0\n",
    "    A2_y = 0\n",
    "\n",
    "    ky   = 0"
   ]
  },
  {
   "cell_type": "code",
   "execution_count": 15,
   "metadata": {},
   "outputs": [],
   "source": [
    "# K_vacuum = sqrt(kappa_vacuum^2-k_z^2)\n",
    "# K_conductor = sqrt(kappa^2-k_z^2)\n",
    "\n",
    "K_vacuum    = var(\"K_vacuum\")\n",
    "K_conductor = var(\"K_conductor\")"
   ]
  },
  {
   "cell_type": "code",
   "execution_count": 16,
   "metadata": {},
   "outputs": [
    {
     "name": "stdout",
     "output_type": "stream",
     "text": [
      "E_inner_vacuum_sol_z (x) \n"
     ]
    },
    {
     "data": {
      "text/latex": [
       "$\\displaystyle \\mathit{A2}_{z} e^{\\left(i \\, K_{\\mathit{vacuum}} x\\right)} + \\mathit{A1}_{z} e^{\\left(-i \\, K_{\\mathit{vacuum}} x\\right)}$"
      ],
      "text/plain": [
       "<IPython.core.display.Math object>"
      ]
     },
     "metadata": {},
     "output_type": "display_data"
    },
    {
     "name": "stdout",
     "output_type": "stream",
     "text": [
      "E_inner_vacuum_sol_x (x) =\n"
     ]
    },
    {
     "data": {
      "text/latex": [
       "$\\displaystyle \\mathit{A2}_{x} e^{\\left(i \\, K_{\\mathit{vacuum}} x\\right)} + \\mathit{A1}_{x} e^{\\left(-i \\, K_{\\mathit{vacuum}} x\\right)}$"
      ],
      "text/plain": [
       "<IPython.core.display.Math object>"
      ]
     },
     "metadata": {},
     "output_type": "display_data"
    },
    {
     "name": "stdout",
     "output_type": "stream",
     "text": [
      "E_inner_vacuum_sol_y (x) =\n"
     ]
    },
    {
     "data": {
      "text/latex": [
       "$\\displaystyle \\mathit{A2}_{y} e^{\\left(i \\, K_{\\mathit{vacuum}} x\\right)} + \\mathit{A1}_{y} e^{\\left(-i \\, K_{\\mathit{vacuum}} x\\right)}$"
      ],
      "text/plain": [
       "<IPython.core.display.Math object>"
      ]
     },
     "metadata": {},
     "output_type": "display_data"
    }
   ],
   "source": [
    "# выражения для электрического поля\n",
    "# в вакууме внутри резонатора\n",
    "\n",
    "# знак перед корнем (K_vacuum) будем выбирать всегда так чтобы корень имел положительную мнимую часть\n",
    "E_inner_vacuum_sol_z (x) = A1_z*exp(- I * K_vacuum*x) + A2_z*exp( I * K_vacuum*x)\n",
    "E_inner_vacuum_sol_x (x) = A1_x*exp(- I * K_vacuum*x) + A2_x*exp( I * K_vacuum*x)\n",
    "E_inner_vacuum_sol_y (x) = A1_y*exp(- I * K_vacuum*x) + A2_y*exp( I * K_vacuum*x)\n",
    "\n",
    "E_inner_vacuum_z = function(\"E_inner_vacuum_z\")\n",
    "E_inner_vacuum_x = function(\"E_inner_vacuum_x\")\n",
    "E_inner_vacuum_y = function(\"E_inner_vacuum_y\")\n",
    "\n",
    "\n",
    "\n",
    "print (\"E_inner_vacuum_sol_z (x) \")\n",
    "display(Math(latex(E_inner_vacuum_sol_z (x))))\n",
    "print (\"E_inner_vacuum_sol_x (x) =\")\n",
    "display(Math(latex(E_inner_vacuum_sol_x (x))))\n",
    "print (\"E_inner_vacuum_sol_y (x) =\")\n",
    "display(Math(latex(E_inner_vacuum_sol_y (x))))"
   ]
  },
  {
   "cell_type": "markdown",
   "metadata": {},
   "source": [
    "решение для проводящего металла с потерями\n",
    "\n",
    "$\\vec{E} = \\vec{E}\\,e^{i\\,k_x'\\,x}\\,e^{i\\,k_z\\,z}\\,e^{-i\\,\\omega\\,t}$\n",
    "\n",
    "$k_x' = k_x + i\\,s_x$\n",
    "\n",
    "$\\vec{E} = \\vec{E}\\,e^{-s_x\\,x}\\,e^{i\\,k_x\\,x}\\,e^{i\\,k_z\\,z}\\,e^{-i\\,\\omega\\,t}$"
   ]
  },
  {
   "cell_type": "code",
   "execution_count": 17,
   "metadata": {},
   "outputs": [
    {
     "name": "stdout",
     "output_type": "stream",
     "text": [
      "E_bad_conductor_sol_z (x) \n"
     ]
    },
    {
     "data": {
      "text/latex": [
       "$\\displaystyle \\mathit{B1}_{z} e^{\\left(i \\, K_{\\mathit{conductor}} x\\right)}$"
      ],
      "text/plain": [
       "<IPython.core.display.Math object>"
      ]
     },
     "metadata": {},
     "output_type": "display_data"
    },
    {
     "name": "stdout",
     "output_type": "stream",
     "text": [
      "E_bad_conductor_sol_x (x) =\n"
     ]
    },
    {
     "data": {
      "text/latex": [
       "$\\displaystyle \\mathit{B1}_{x} e^{\\left(i \\, K_{\\mathit{conductor}} x\\right)}$"
      ],
      "text/plain": [
       "<IPython.core.display.Math object>"
      ]
     },
     "metadata": {},
     "output_type": "display_data"
    },
    {
     "name": "stdout",
     "output_type": "stream",
     "text": [
      "E_bad_conductor_sol_y (x) =\n"
     ]
    },
    {
     "data": {
      "text/latex": [
       "$\\displaystyle \\mathit{B1}_{y} e^{\\left(i \\, K_{\\mathit{conductor}} x\\right)}$"
      ],
      "text/plain": [
       "<IPython.core.display.Math object>"
      ]
     },
     "metadata": {},
     "output_type": "display_data"
    }
   ],
   "source": [
    "# x > a-{k'_x}^{2}-{k'_y}^{2} +\n",
    "# в проводящем металле с потерями\n",
    "\n",
    "# знак перед корнем будем выбирать всегда так чтобы корень имел положительную мнимую часть\n",
    "E_bad_conductor_sol_z (x) = B1_z*exp(I * K_conductor*x)\n",
    "E_bad_conductor_sol_x (x) = B1_x*exp(I * K_conductor*x)\n",
    "E_bad_conductor_sol_y (x) = B1_y*exp(I * K_conductor*x)\n",
    "\n",
    "E_bad_conductor_z = function(\"E_bad_conductor_z\")\n",
    "E_bad_conductor_x = function(\"E_bad_conductor_x\")\n",
    "E_bad_conductor_y = function(\"E_bad_conductor_y\")\n",
    "\n",
    "\n",
    "print (\"E_bad_conductor_sol_z (x) \")\n",
    "display(Math(latex(E_bad_conductor_sol_z (x))))\n",
    "print (\"E_bad_conductor_sol_x (x) =\")\n",
    "display(Math(latex(E_bad_conductor_sol_x (x))))\n",
    "print (\"E_bad_conductor_sol_y (x) =\")\n",
    "display(Math(latex(E_bad_conductor_sol_y (x))))"
   ]
  },
  {
   "cell_type": "code",
   "execution_count": 18,
   "metadata": {},
   "outputs": [
    {
     "name": "stdout",
     "output_type": "stream",
     "text": [
      "H_inner_vacuum_s_y \n"
     ]
    },
    {
     "data": {
      "text/latex": [
       "$\\displaystyle x \\ {\\mapsto}\\ -\\frac{i \\, {\\left(i \\, k_{z} E_{{\\rm inner}_{{\\rm vacuum}_{x}}}\\left(x\\right) - \\frac{\\partial}{\\partial x}E_{{\\rm inner}_{{\\rm vacuum}_{z}}}\\left(x\\right)\\right)} c}{\\omega}$"
      ],
      "text/plain": [
       "<IPython.core.display.Math object>"
      ]
     },
     "metadata": {},
     "output_type": "display_data"
    },
    {
     "name": "stdout",
     "output_type": "stream",
     "text": [
      "H_bad_conductor_s_y =\n"
     ]
    },
    {
     "data": {
      "text/latex": [
       "$\\displaystyle x \\ {\\mapsto}\\ -\\frac{i \\, {\\left(i \\, k_{z} E_{{\\rm bad}_{{\\rm conductor}_{x}}}\\left(x\\right) - \\frac{\\partial}{\\partial x}E_{{\\rm bad}_{{\\rm conductor}_{z}}}\\left(x\\right)\\right)} c}{\\mu \\omega}$"
      ],
      "text/plain": [
       "<IPython.core.display.Math object>"
      ]
     },
     "metadata": {},
     "output_type": "display_data"
    },
    {
     "name": "stdout",
     "output_type": "stream",
     "text": [
      "H_inner_vacuum_sol_y (x) \n"
     ]
    },
    {
     "data": {
      "text/latex": [
       "$\\displaystyle -\\frac{i \\, {\\left(-i \\, \\mathit{A2}_{z} K_{\\mathit{vacuum}} e^{\\left(i \\, K_{\\mathit{vacuum}} x\\right)} + i \\, \\mathit{A1}_{z} K_{\\mathit{vacuum}} e^{\\left(-i \\, K_{\\mathit{vacuum}} x\\right)} + i \\, {\\left(\\mathit{A2}_{x} e^{\\left(i \\, K_{\\mathit{vacuum}} x\\right)} + \\mathit{A1}_{x} e^{\\left(-i \\, K_{\\mathit{vacuum}} x\\right)}\\right)} k_{z}\\right)} c}{\\omega}$"
      ],
      "text/plain": [
       "<IPython.core.display.Math object>"
      ]
     },
     "metadata": {},
     "output_type": "display_data"
    },
    {
     "name": "stdout",
     "output_type": "stream",
     "text": [
      "H_bad_conductor_sol_y (x) =\n"
     ]
    },
    {
     "data": {
      "text/latex": [
       "$\\displaystyle -\\frac{i \\, {\\left(-i \\, \\mathit{B1}_{z} K_{\\mathit{conductor}} e^{\\left(i \\, K_{\\mathit{conductor}} x\\right)} + i \\, \\mathit{B1}_{x} k_{z} e^{\\left(i \\, K_{\\mathit{conductor}} x\\right)}\\right)} c}{\\mu \\omega}$"
      ],
      "text/plain": [
       "<IPython.core.display.Math object>"
      ]
     },
     "metadata": {},
     "output_type": "display_data"
    }
   ],
   "source": [
    "# выражения для магнитного поля в вакууме внутри резонатора и в проводящем металле с потерями\n",
    "# rot E = -1/c dB/dt\n",
    "# H_y = c / (I * omega * mu) * (diff(E_x, z) - diff(E_z, x))\n",
    "\n",
    "# H_inner_vacuum_y  (x) = c / (I * omega)      * (I*k_z*E_inner_vacuum_x  (x) - diff(E_inner_vacuum_z  (x), x))\n",
    "# H_bad_conductor_y (x) = c / (I * omega * mu) * (I*k_z*E_bad_conductor_x (x) - diff(E_bad_conductor_z (x), x))\n",
    "\n",
    "H_inner_vacuum_y  = c/(I*omega)   *(I*k_z*E_inner_vacuum_x (x) - diff(E_inner_vacuum_z (x), x))\n",
    "H_bad_conductor_y = c/(I*omega*mu)*(I*k_z*E_bad_conductor_x(x) - diff(E_bad_conductor_z(x), x))\n",
    "\n",
    "H_inner_vacuum_f_y  = function(\"H_inner_vacuum_f_y\")\n",
    "H_bad_conductor_f_y = function(\"H_bad_conductor_f_y\")\n",
    "\n",
    "H_inner_vacuum_y  = var(\"H_inner_vacuum_y\")\n",
    "H_bad_conductor_y = var(\"H_bad_conductor_y\")\n",
    "\n",
    "H_inner_vacuum_s_y  (x) = c/(I*omega)   *(I*k_z*E_inner_vacuum_x (x) - diff(E_inner_vacuum_z (x), x))\n",
    "H_bad_conductor_s_y (x) = c/(I*omega*mu)*(I*k_z*E_bad_conductor_x(x) - diff(E_bad_conductor_z(x), x))\n",
    "\n",
    "H_inner_vacuum_sol_y  (x) = c/(I*omega)   *(I*k_z*E_inner_vacuum_sol_x (x) - diff(E_inner_vacuum_sol_z (x), x))\n",
    "H_bad_conductor_sol_y (x) = c/(I*omega*mu)*(I*k_z*E_bad_conductor_sol_x(x) - diff(E_bad_conductor_sol_z(x), x))\n",
    "\n",
    "print (\"H_inner_vacuum_s_y \")\n",
    "display(Math(latex(H_inner_vacuum_s_y.simplify())))\n",
    "print (\"H_bad_conductor_s_y =\")\n",
    "display(Math(latex(H_bad_conductor_s_y)))\n",
    "\n",
    "print (\"H_inner_vacuum_sol_y (x) \")\n",
    "display(Math(latex(H_inner_vacuum_sol_y (x).simplify())))\n",
    "print (\"H_bad_conductor_sol_y (x) =\")\n",
    "display(Math(latex(H_bad_conductor_sol_y (x))))"
   ]
  },
  {
   "cell_type": "code",
   "execution_count": 19,
   "metadata": {},
   "outputs": [
    {
     "name": "stdout",
     "output_type": "stream",
     "text": [
      "H_inner_vacuum_s_x \n"
     ]
    },
    {
     "data": {
      "text/latex": [
       "$\\displaystyle x \\ {\\mapsto}\\ -\\frac{i \\, {\\left(-i \\, k_{z} E_{{\\rm inner}_{{\\rm vacuum}_{y}}}\\left(x\\right) + i \\, k_{y} E_{{\\rm inner}_{{\\rm vacuum}_{z}}}\\left(x\\right)\\right)} c}{\\omega}$"
      ],
      "text/plain": [
       "<IPython.core.display.Math object>"
      ]
     },
     "metadata": {},
     "output_type": "display_data"
    },
    {
     "name": "stdout",
     "output_type": "stream",
     "text": [
      "H_bad_conductor_s_x (x) =\n"
     ]
    },
    {
     "data": {
      "text/latex": [
       "$\\displaystyle x \\ {\\mapsto}\\ -\\frac{i \\, {\\left(-i \\, k_{z} E_{{\\rm bad}_{{\\rm conductor}_{y}}}\\left(x\\right) + i \\, k_{y} E_{{\\rm bad}_{{\\rm conductor}_{z}}}\\left(x\\right)\\right)} c}{\\mu \\omega}$"
      ],
      "text/plain": [
       "<IPython.core.display.Math object>"
      ]
     },
     "metadata": {},
     "output_type": "display_data"
    },
    {
     "name": "stdout",
     "output_type": "stream",
     "text": [
      "H_inner_vacuum_sol_x (x) \n"
     ]
    },
    {
     "data": {
      "text/latex": [
       "$\\displaystyle -\\frac{i \\, {\\left(i \\, {\\left(\\mathit{A2}_{z} e^{\\left(i \\, K_{\\mathit{vacuum}} x\\right)} + \\mathit{A1}_{z} e^{\\left(-i \\, K_{\\mathit{vacuum}} x\\right)}\\right)} k_{y} - i \\, {\\left(\\mathit{A2}_{y} e^{\\left(i \\, K_{\\mathit{vacuum}} x\\right)} + \\mathit{A1}_{y} e^{\\left(-i \\, K_{\\mathit{vacuum}} x\\right)}\\right)} k_{z}\\right)} c}{\\omega}$"
      ],
      "text/plain": [
       "<IPython.core.display.Math object>"
      ]
     },
     "metadata": {},
     "output_type": "display_data"
    },
    {
     "name": "stdout",
     "output_type": "stream",
     "text": [
      "H_bad_conductor_sol_x (x) =\n"
     ]
    },
    {
     "data": {
      "text/latex": [
       "$\\displaystyle -\\frac{i \\, {\\left(i \\, \\mathit{B1}_{z} k_{y} e^{\\left(i \\, K_{\\mathit{conductor}} x\\right)} - i \\, \\mathit{B1}_{y} k_{z} e^{\\left(i \\, K_{\\mathit{conductor}} x\\right)}\\right)} c}{\\mu \\omega}$"
      ],
      "text/plain": [
       "<IPython.core.display.Math object>"
      ]
     },
     "metadata": {},
     "output_type": "display_data"
    }
   ],
   "source": [
    "# выражения для магнитного поля в вакууме внутри резонатора и в проводящем металле с потерями\n",
    "# rot E = -1/c dB/dt\n",
    "# H_x = c / (I * omega * mu) * (diff(E_z, y) - diff(E_y, z))\n",
    "\n",
    "H_inner_vacuum_f_x  = function(\"H_inner_vacuum_f_x\")\n",
    "H_bad_conductor_f_x = function(\"H_bad_conductor_f_x\")\n",
    "\n",
    "H_inner_vacuum_x  = var(\"H_inner_vacuum_x\")\n",
    "H_bad_conductor_x = var(\"H_bad_conductor_x\")\n",
    "\n",
    "H_inner_vacuum_s_x(x)  = c/(I*omega)   *(I*k_y*E_inner_vacuum_z (x) - I*k_z*E_inner_vacuum_y (x))\n",
    "H_bad_conductor_s_x(x) = c/(I*omega*mu)*(I*k_y*E_bad_conductor_z(x) - I*k_z*E_bad_conductor_y(x))\n",
    "\n",
    "H_inner_vacuum_sol_x (x) = c/(I*omega)   *(I*k_y*E_inner_vacuum_sol_z (x) - I*k_z*E_inner_vacuum_sol_y (x))\n",
    "H_bad_conductor_sol_x(x) = c/(I*omega*mu)*(I*k_y*E_bad_conductor_sol_z(x) - I*k_z*E_bad_conductor_sol_y(x))\n",
    "\n",
    "print (\"H_inner_vacuum_s_x \")\n",
    "display(Math(latex(H_inner_vacuum_s_x.simplify())))\n",
    "print (\"H_bad_conductor_s_x (x) =\")\n",
    "display(Math(latex(H_bad_conductor_s_x)))\n",
    "\n",
    "print (\"H_inner_vacuum_sol_x (x) \")\n",
    "display(Math(latex(H_inner_vacuum_sol_x (x).simplify())))\n",
    "print (\"H_bad_conductor_sol_x (x) =\")\n",
    "display(Math(latex(H_bad_conductor_sol_x (x))))"
   ]
  },
  {
   "cell_type": "code",
   "execution_count": 20,
   "metadata": {},
   "outputs": [
    {
     "name": "stdout",
     "output_type": "stream",
     "text": [
      "H_inner_vacuum_s_z \n"
     ]
    },
    {
     "data": {
      "text/latex": [
       "$\\displaystyle x \\ {\\mapsto}\\ -\\frac{i \\, {\\left(-i \\, k_{y} E_{{\\rm inner}_{{\\rm vacuum}_{x}}}\\left(x\\right) + \\frac{\\partial}{\\partial x}E_{{\\rm inner}_{{\\rm vacuum}_{y}}}\\left(x\\right)\\right)} c}{\\omega}$"
      ],
      "text/plain": [
       "<IPython.core.display.Math object>"
      ]
     },
     "metadata": {},
     "output_type": "display_data"
    },
    {
     "name": "stdout",
     "output_type": "stream",
     "text": [
      "H_bad_conductor_s_z =\n"
     ]
    },
    {
     "data": {
      "text/latex": [
       "$\\displaystyle x \\ {\\mapsto}\\ -\\frac{i \\, {\\left(-i \\, k_{y} E_{{\\rm bad}_{{\\rm conductor}_{x}}}\\left(x\\right) + \\frac{\\partial}{\\partial x}E_{{\\rm bad}_{{\\rm conductor}_{y}}}\\left(x\\right)\\right)} c}{\\mu \\omega}$"
      ],
      "text/plain": [
       "<IPython.core.display.Math object>"
      ]
     },
     "metadata": {},
     "output_type": "display_data"
    },
    {
     "name": "stdout",
     "output_type": "stream",
     "text": [
      "H_inner_vacuum_sol_z (x) \n"
     ]
    },
    {
     "data": {
      "text/latex": [
       "$\\displaystyle -\\frac{i \\, {\\left(i \\, \\mathit{A2}_{y} K_{\\mathit{vacuum}} e^{\\left(i \\, K_{\\mathit{vacuum}} x\\right)} - i \\, \\mathit{A1}_{y} K_{\\mathit{vacuum}} e^{\\left(-i \\, K_{\\mathit{vacuum}} x\\right)} - i \\, {\\left(\\mathit{A2}_{x} e^{\\left(i \\, K_{\\mathit{vacuum}} x\\right)} + \\mathit{A1}_{x} e^{\\left(-i \\, K_{\\mathit{vacuum}} x\\right)}\\right)} k_{y}\\right)} c}{\\omega}$"
      ],
      "text/plain": [
       "<IPython.core.display.Math object>"
      ]
     },
     "metadata": {},
     "output_type": "display_data"
    },
    {
     "name": "stdout",
     "output_type": "stream",
     "text": [
      "H_bad_conductor_sol_z (x) =\n"
     ]
    },
    {
     "data": {
      "text/latex": [
       "$\\displaystyle -\\frac{i \\, {\\left(i \\, \\mathit{B1}_{y} K_{\\mathit{conductor}} e^{\\left(i \\, K_{\\mathit{conductor}} x\\right)} - i \\, \\mathit{B1}_{x} k_{y} e^{\\left(i \\, K_{\\mathit{conductor}} x\\right)}\\right)} c}{\\mu \\omega}$"
      ],
      "text/plain": [
       "<IPython.core.display.Math object>"
      ]
     },
     "metadata": {},
     "output_type": "display_data"
    }
   ],
   "source": [
    "# выражения для магнитного поля в вакууме внутри резонатора и в проводящем металле с потерями\n",
    "# rot E = -1/c dB/dt\n",
    "# H_z = c / (I * omega * mu) * (diff(E_y, x) - diff(E_x, y))\n",
    "\n",
    "H_inner_vacuum_z  = c / (I*omega)   *(diff(E_inner_vacuum_y (x), x) - I*k_y*E_inner_vacuum_x (x))\n",
    "H_bad_conductor_z = c / (I*omega*mu)*(diff(E_bad_conductor_y(x), x) - I*k_y*E_bad_conductor_x(x))\n",
    "\n",
    "H_inner_vacuum_f_z  = function(\"H_inner_vacuum_f_z\")\n",
    "H_bad_conductor_f_z = function(\"H_bad_conductor_f_z\")\n",
    "\n",
    "H_inner_vacuum_z  = var(\"H_inner_vacuum_z\")\n",
    "H_bad_conductor_z = var(\"H_bad_conductor_z\")\n",
    "\n",
    "H_inner_vacuum_s_z(x)  = c / (I*omega)   * (diff(E_inner_vacuum_y (x), x) - I*k_y*E_inner_vacuum_x (x))\n",
    "H_bad_conductor_s_z(x) = c / (I*omega*mu)*(diff(E_bad_conductor_y(x), x) - I*k_y*E_bad_conductor_x(x))\n",
    "\n",
    "H_inner_vacuum_sol_z  (x) = c / (I*omega)   *(diff(E_inner_vacuum_sol_y (x), x) - I*k_y*E_inner_vacuum_sol_x (x))\n",
    "H_bad_conductor_sol_z (x) = c / (I*omega*mu)*(diff(E_bad_conductor_sol_y(x), x) - I*k_y*E_bad_conductor_sol_x(x))\n",
    "\n",
    "print (\"H_inner_vacuum_s_z \")\n",
    "display(Math(latex(H_inner_vacuum_s_z.simplify())))\n",
    "print (\"H_bad_conductor_s_z =\")\n",
    "display(Math(latex(H_bad_conductor_s_z)))\n",
    "\n",
    "print (\"H_inner_vacuum_sol_z (x) \")\n",
    "display(Math(latex(H_inner_vacuum_sol_z (x).simplify())))\n",
    "print (\"H_bad_conductor_sol_z (x) =\")\n",
    "display(Math(latex(H_bad_conductor_sol_z (x))))"
   ]
  },
  {
   "cell_type": "code",
   "execution_count": 21,
   "metadata": {},
   "outputs": [
    {
     "name": "stdout",
     "output_type": "stream",
     "text": [
      "rot_H_inner_vacuum_x =\n"
     ]
    },
    {
     "data": {
      "text/latex": [
       "$\\displaystyle -i \\, k_{z} H_{{\\rm inner}_{{\\rm vacuum}_{f_{y}}}}\\left(x\\right) + i \\, k_{y} H_{{\\rm inner}_{{\\rm vacuum}_{f_{z}}}}\\left(x\\right)$"
      ],
      "text/plain": [
       "<IPython.core.display.Math object>"
      ]
     },
     "metadata": {},
     "output_type": "display_data"
    },
    {
     "name": "stdout",
     "output_type": "stream",
     "text": [
      "rot_H_bad_conductor_x =\n"
     ]
    },
    {
     "data": {
      "text/latex": [
       "$\\displaystyle -i \\, k_{z} H_{{\\rm bad}_{{\\rm conductor}_{f_{y}}}}\\left(x\\right) + i \\, k_{y} H_{{\\rm bad}_{{\\rm conductor}_{f_{z}}}}\\left(x\\right)$"
      ],
      "text/plain": [
       "<IPython.core.display.Math object>"
      ]
     },
     "metadata": {},
     "output_type": "display_data"
    },
    {
     "name": "stdout",
     "output_type": "stream",
     "text": [
      "rot_H_inner_vacuum_y =\n"
     ]
    },
    {
     "data": {
      "text/latex": [
       "$\\displaystyle i \\, k_{z} H_{{\\rm inner}_{{\\rm vacuum}_{f_{x}}}}\\left(x\\right) - \\frac{\\partial}{\\partial x}H_{{\\rm inner}_{{\\rm vacuum}_{f_{z}}}}\\left(x\\right)$"
      ],
      "text/plain": [
       "<IPython.core.display.Math object>"
      ]
     },
     "metadata": {},
     "output_type": "display_data"
    },
    {
     "name": "stdout",
     "output_type": "stream",
     "text": [
      "rot_H_bad_conductor_y =\n"
     ]
    },
    {
     "data": {
      "text/latex": [
       "$\\displaystyle i \\, k_{z} H_{{\\rm bad}_{{\\rm conductor}_{f_{x}}}}\\left(x\\right) - \\frac{\\partial}{\\partial x}H_{{\\rm bad}_{{\\rm conductor}_{f_{z}}}}\\left(x\\right)$"
      ],
      "text/plain": [
       "<IPython.core.display.Math object>"
      ]
     },
     "metadata": {},
     "output_type": "display_data"
    },
    {
     "name": "stdout",
     "output_type": "stream",
     "text": [
      "rot_H_inner_vacuum_z =\n"
     ]
    },
    {
     "data": {
      "text/latex": [
       "$\\displaystyle -i \\, k_{y} H_{{\\rm inner}_{{\\rm vacuum}_{f_{x}}}}\\left(x\\right) + \\frac{\\partial}{\\partial x}H_{{\\rm inner}_{{\\rm vacuum}_{f_{y}}}}\\left(x\\right)$"
      ],
      "text/plain": [
       "<IPython.core.display.Math object>"
      ]
     },
     "metadata": {},
     "output_type": "display_data"
    },
    {
     "name": "stdout",
     "output_type": "stream",
     "text": [
      "rot_H_bad_conductor_z =\n"
     ]
    },
    {
     "data": {
      "text/latex": [
       "$\\displaystyle -i \\, k_{y} H_{{\\rm bad}_{{\\rm conductor}_{f_{x}}}}\\left(x\\right) + \\frac{\\partial}{\\partial x}H_{{\\rm bad}_{{\\rm conductor}_{f_{y}}}}\\left(x\\right)$"
      ],
      "text/plain": [
       "<IPython.core.display.Math object>"
      ]
     },
     "metadata": {},
     "output_type": "display_data"
    },
    {
     "name": "stdout",
     "output_type": "stream",
     "text": [
      "rot_H_inner_vacuum_s_x =\n"
     ]
    },
    {
     "data": {
      "text/latex": [
       "$\\displaystyle x \\ {\\mapsto}\\ \\frac{{\\left(-i \\, k_{y} E_{{\\rm inner}_{{\\rm vacuum}_{x}}}\\left(x\\right) + \\frac{\\partial}{\\partial x}E_{{\\rm inner}_{{\\rm vacuum}_{y}}}\\left(x\\right)\\right)} c k_{y}}{\\omega} - \\frac{{\\left(i \\, k_{z} E_{{\\rm inner}_{{\\rm vacuum}_{x}}}\\left(x\\right) - \\frac{\\partial}{\\partial x}E_{{\\rm inner}_{{\\rm vacuum}_{z}}}\\left(x\\right)\\right)} c k_{z}}{\\omega}$"
      ],
      "text/plain": [
       "<IPython.core.display.Math object>"
      ]
     },
     "metadata": {},
     "output_type": "display_data"
    },
    {
     "name": "stdout",
     "output_type": "stream",
     "text": [
      "rot_H_bad_conductor_s_x =\n"
     ]
    },
    {
     "data": {
      "text/latex": [
       "$\\displaystyle x \\ {\\mapsto}\\ \\frac{{\\left(-i \\, k_{y} E_{{\\rm bad}_{{\\rm conductor}_{x}}}\\left(x\\right) + \\frac{\\partial}{\\partial x}E_{{\\rm bad}_{{\\rm conductor}_{y}}}\\left(x\\right)\\right)} c k_{y}}{\\mu \\omega} - \\frac{{\\left(i \\, k_{z} E_{{\\rm bad}_{{\\rm conductor}_{x}}}\\left(x\\right) - \\frac{\\partial}{\\partial x}E_{{\\rm bad}_{{\\rm conductor}_{z}}}\\left(x\\right)\\right)} c k_{z}}{\\mu \\omega}$"
      ],
      "text/plain": [
       "<IPython.core.display.Math object>"
      ]
     },
     "metadata": {},
     "output_type": "display_data"
    },
    {
     "name": "stdout",
     "output_type": "stream",
     "text": [
      "rot_H_inner_vacuum_s_y =\n"
     ]
    },
    {
     "data": {
      "text/latex": [
       "$\\displaystyle x \\ {\\mapsto}\\ \\frac{{\\left(-i \\, k_{z} E_{{\\rm inner}_{{\\rm vacuum}_{y}}}\\left(x\\right) + i \\, k_{y} E_{{\\rm inner}_{{\\rm vacuum}_{z}}}\\left(x\\right)\\right)} c k_{z}}{\\omega} + \\frac{i \\, {\\left(-i \\, k_{y} \\frac{\\partial}{\\partial x}E_{{\\rm inner}_{{\\rm vacuum}_{x}}}\\left(x\\right) + \\frac{\\partial^{2}}{(\\partial x)^{2}}E_{{\\rm inner}_{{\\rm vacuum}_{y}}}\\left(x\\right)\\right)} c}{\\omega}$"
      ],
      "text/plain": [
       "<IPython.core.display.Math object>"
      ]
     },
     "metadata": {},
     "output_type": "display_data"
    },
    {
     "name": "stdout",
     "output_type": "stream",
     "text": [
      "rot_H_bad_conductor_s_y =\n"
     ]
    },
    {
     "data": {
      "text/latex": [
       "$\\displaystyle x \\ {\\mapsto}\\ \\frac{{\\left(-i \\, k_{z} E_{{\\rm bad}_{{\\rm conductor}_{y}}}\\left(x\\right) + i \\, k_{y} E_{{\\rm bad}_{{\\rm conductor}_{z}}}\\left(x\\right)\\right)} c k_{z}}{\\mu \\omega} + \\frac{i \\, {\\left(-i \\, k_{y} \\frac{\\partial}{\\partial x}E_{{\\rm bad}_{{\\rm conductor}_{x}}}\\left(x\\right) + \\frac{\\partial^{2}}{(\\partial x)^{2}}E_{{\\rm bad}_{{\\rm conductor}_{y}}}\\left(x\\right)\\right)} c}{\\mu \\omega}$"
      ],
      "text/plain": [
       "<IPython.core.display.Math object>"
      ]
     },
     "metadata": {},
     "output_type": "display_data"
    },
    {
     "name": "stdout",
     "output_type": "stream",
     "text": [
      "rot_H_inner_vacuum_s_z =\n"
     ]
    },
    {
     "data": {
      "text/latex": [
       "$\\displaystyle x \\ {\\mapsto}\\ -\\frac{{\\left(-i \\, k_{z} E_{{\\rm inner}_{{\\rm vacuum}_{y}}}\\left(x\\right) + i \\, k_{y} E_{{\\rm inner}_{{\\rm vacuum}_{z}}}\\left(x\\right)\\right)} c k_{y}}{\\omega} - \\frac{i \\, {\\left(i \\, k_{z} \\frac{\\partial}{\\partial x}E_{{\\rm inner}_{{\\rm vacuum}_{x}}}\\left(x\\right) - \\frac{\\partial^{2}}{(\\partial x)^{2}}E_{{\\rm inner}_{{\\rm vacuum}_{z}}}\\left(x\\right)\\right)} c}{\\omega}$"
      ],
      "text/plain": [
       "<IPython.core.display.Math object>"
      ]
     },
     "metadata": {},
     "output_type": "display_data"
    },
    {
     "name": "stdout",
     "output_type": "stream",
     "text": [
      "rot_H_bad_conductor_s_z =\n"
     ]
    },
    {
     "data": {
      "text/latex": [
       "$\\displaystyle x \\ {\\mapsto}\\ -\\frac{{\\left(-i \\, k_{z} E_{{\\rm bad}_{{\\rm conductor}_{y}}}\\left(x\\right) + i \\, k_{y} E_{{\\rm bad}_{{\\rm conductor}_{z}}}\\left(x\\right)\\right)} c k_{y}}{\\mu \\omega} - \\frac{i \\, {\\left(i \\, k_{z} \\frac{\\partial}{\\partial x}E_{{\\rm bad}_{{\\rm conductor}_{x}}}\\left(x\\right) - \\frac{\\partial^{2}}{(\\partial x)^{2}}E_{{\\rm bad}_{{\\rm conductor}_{z}}}\\left(x\\right)\\right)} c}{\\mu \\omega}$"
      ],
      "text/plain": [
       "<IPython.core.display.Math object>"
      ]
     },
     "metadata": {},
     "output_type": "display_data"
    },
    {
     "name": "stdout",
     "output_type": "stream",
     "text": [
      "rot_H_inner_vacuum_sol_x =\n"
     ]
    },
    {
     "data": {
      "text/latex": [
       "$\\displaystyle \\frac{{\\left(i \\, \\mathit{A2}_{y} K_{\\mathit{vacuum}} e^{\\left(i \\, K_{\\mathit{vacuum}} x\\right)} - i \\, \\mathit{A1}_{y} K_{\\mathit{vacuum}} e^{\\left(-i \\, K_{\\mathit{vacuum}} x\\right)} - i \\, {\\left(\\mathit{A2}_{x} e^{\\left(i \\, K_{\\mathit{vacuum}} x\\right)} + \\mathit{A1}_{x} e^{\\left(-i \\, K_{\\mathit{vacuum}} x\\right)}\\right)} k_{y}\\right)} c k_{y}}{\\omega} - \\frac{{\\left(-i \\, \\mathit{A2}_{z} K_{\\mathit{vacuum}} e^{\\left(i \\, K_{\\mathit{vacuum}} x\\right)} + i \\, \\mathit{A1}_{z} K_{\\mathit{vacuum}} e^{\\left(-i \\, K_{\\mathit{vacuum}} x\\right)} + i \\, {\\left(\\mathit{A2}_{x} e^{\\left(i \\, K_{\\mathit{vacuum}} x\\right)} + \\mathit{A1}_{x} e^{\\left(-i \\, K_{\\mathit{vacuum}} x\\right)}\\right)} k_{z}\\right)} c k_{z}}{\\omega}$"
      ],
      "text/plain": [
       "<IPython.core.display.Math object>"
      ]
     },
     "metadata": {},
     "output_type": "display_data"
    },
    {
     "name": "stdout",
     "output_type": "stream",
     "text": [
      "rot_H_bad_conductor_sol_x =\n"
     ]
    },
    {
     "data": {
      "text/latex": [
       "$\\displaystyle \\frac{{\\left(i \\, \\mathit{B1}_{y} K_{\\mathit{conductor}} e^{\\left(i \\, K_{\\mathit{conductor}} x\\right)} - i \\, \\mathit{B1}_{x} k_{y} e^{\\left(i \\, K_{\\mathit{conductor}} x\\right)}\\right)} c k_{y}}{\\mu \\omega} - \\frac{{\\left(-i \\, \\mathit{B1}_{z} K_{\\mathit{conductor}} e^{\\left(i \\, K_{\\mathit{conductor}} x\\right)} + i \\, \\mathit{B1}_{x} k_{z} e^{\\left(i \\, K_{\\mathit{conductor}} x\\right)}\\right)} c k_{z}}{\\mu \\omega}$"
      ],
      "text/plain": [
       "<IPython.core.display.Math object>"
      ]
     },
     "metadata": {},
     "output_type": "display_data"
    },
    {
     "name": "stdout",
     "output_type": "stream",
     "text": [
      "rot_H_inner_vacuum_sol_y =\n"
     ]
    },
    {
     "data": {
      "text/latex": [
       "$\\displaystyle \\frac{{\\left(i \\, {\\left(\\mathit{A2}_{z} e^{\\left(i \\, K_{\\mathit{vacuum}} x\\right)} + \\mathit{A1}_{z} e^{\\left(-i \\, K_{\\mathit{vacuum}} x\\right)}\\right)} k_{y} - i \\, {\\left(\\mathit{A2}_{y} e^{\\left(i \\, K_{\\mathit{vacuum}} x\\right)} + \\mathit{A1}_{y} e^{\\left(-i \\, K_{\\mathit{vacuum}} x\\right)}\\right)} k_{z}\\right)} c k_{z}}{\\omega} - \\frac{i \\, {\\left(\\mathit{A2}_{y} K_{\\mathit{vacuum}}^{2} e^{\\left(i \\, K_{\\mathit{vacuum}} x\\right)} + \\mathit{A1}_{y} K_{\\mathit{vacuum}}^{2} e^{\\left(-i \\, K_{\\mathit{vacuum}} x\\right)} + i \\, {\\left(i \\, \\mathit{A2}_{x} K_{\\mathit{vacuum}} e^{\\left(i \\, K_{\\mathit{vacuum}} x\\right)} - i \\, \\mathit{A1}_{x} K_{\\mathit{vacuum}} e^{\\left(-i \\, K_{\\mathit{vacuum}} x\\right)}\\right)} k_{y}\\right)} c}{\\omega}$"
      ],
      "text/plain": [
       "<IPython.core.display.Math object>"
      ]
     },
     "metadata": {},
     "output_type": "display_data"
    },
    {
     "name": "stdout",
     "output_type": "stream",
     "text": [
      "rot_H_bad_conductor_sol_y =\n"
     ]
    },
    {
     "data": {
      "text/latex": [
       "$\\displaystyle \\frac{{\\left(i \\, \\mathit{B1}_{z} k_{y} e^{\\left(i \\, K_{\\mathit{conductor}} x\\right)} - i \\, \\mathit{B1}_{y} k_{z} e^{\\left(i \\, K_{\\mathit{conductor}} x\\right)}\\right)} c k_{z}}{\\mu \\omega} - \\frac{i \\, {\\left(\\mathit{B1}_{y} K_{\\mathit{conductor}}^{2} e^{\\left(i \\, K_{\\mathit{conductor}} x\\right)} - \\mathit{B1}_{x} K_{\\mathit{conductor}} k_{y} e^{\\left(i \\, K_{\\mathit{conductor}} x\\right)}\\right)} c}{\\mu \\omega}$"
      ],
      "text/plain": [
       "<IPython.core.display.Math object>"
      ]
     },
     "metadata": {},
     "output_type": "display_data"
    },
    {
     "name": "stdout",
     "output_type": "stream",
     "text": [
      "rot_H_inner_vacuum_sol_z =\n"
     ]
    },
    {
     "data": {
      "text/latex": [
       "$\\displaystyle -\\frac{{\\left(i \\, {\\left(\\mathit{A2}_{z} e^{\\left(i \\, K_{\\mathit{vacuum}} x\\right)} + \\mathit{A1}_{z} e^{\\left(-i \\, K_{\\mathit{vacuum}} x\\right)}\\right)} k_{y} - i \\, {\\left(\\mathit{A2}_{y} e^{\\left(i \\, K_{\\mathit{vacuum}} x\\right)} + \\mathit{A1}_{y} e^{\\left(-i \\, K_{\\mathit{vacuum}} x\\right)}\\right)} k_{z}\\right)} c k_{y}}{\\omega} - \\frac{i \\, {\\left(\\mathit{A2}_{z} K_{\\mathit{vacuum}}^{2} e^{\\left(i \\, K_{\\mathit{vacuum}} x\\right)} + \\mathit{A1}_{z} K_{\\mathit{vacuum}}^{2} e^{\\left(-i \\, K_{\\mathit{vacuum}} x\\right)} + i \\, {\\left(i \\, \\mathit{A2}_{x} K_{\\mathit{vacuum}} e^{\\left(i \\, K_{\\mathit{vacuum}} x\\right)} - i \\, \\mathit{A1}_{x} K_{\\mathit{vacuum}} e^{\\left(-i \\, K_{\\mathit{vacuum}} x\\right)}\\right)} k_{z}\\right)} c}{\\omega}$"
      ],
      "text/plain": [
       "<IPython.core.display.Math object>"
      ]
     },
     "metadata": {},
     "output_type": "display_data"
    },
    {
     "name": "stdout",
     "output_type": "stream",
     "text": [
      "rot_H_bad_conductor_sol_z =\n"
     ]
    },
    {
     "data": {
      "text/latex": [
       "$\\displaystyle -\\frac{{\\left(i \\, \\mathit{B1}_{z} k_{y} e^{\\left(i \\, K_{\\mathit{conductor}} x\\right)} - i \\, \\mathit{B1}_{y} k_{z} e^{\\left(i \\, K_{\\mathit{conductor}} x\\right)}\\right)} c k_{y}}{\\mu \\omega} - \\frac{i \\, {\\left(\\mathit{B1}_{z} K_{\\mathit{conductor}}^{2} e^{\\left(i \\, K_{\\mathit{conductor}} x\\right)} - \\mathit{B1}_{x} K_{\\mathit{conductor}} k_{z} e^{\\left(i \\, K_{\\mathit{conductor}} x\\right)}\\right)} c}{\\mu \\omega}$"
      ],
      "text/plain": [
       "<IPython.core.display.Math object>"
      ]
     },
     "metadata": {},
     "output_type": "display_data"
    }
   ],
   "source": [
    "# уравнение Максвелла для тока смещения\n",
    "# rot_H   = - I * epsilon * omega / c * E\n",
    "# rot_H_x = diff(H_z, y) - diff(H_y, z)\n",
    "# rot_H_y = diff(H_x, z) - diff(H_z, x)\n",
    "# rot_H_z = diff(H_y, x) - diff(H_x, y)\n",
    "\n",
    "# rot_H_x = diff(H_z, y) - diff(H_y, z)\n",
    "rot_H_inner_vacuum_x  = I*k_y*H_inner_vacuum_f_z(x)  - I*k_z*H_inner_vacuum_f_y(x)\n",
    "rot_H_bad_conductor_x = I*k_y*H_bad_conductor_f_z(x) - I*k_z*H_bad_conductor_f_y(x)\n",
    "\n",
    "# rot_H_y = diff(H_x, z) - diff(H_z, x)\n",
    "rot_H_inner_vacuum_y  = I*k_z*H_inner_vacuum_f_x(x)  - diff(H_inner_vacuum_f_z(x), x)\n",
    "rot_H_bad_conductor_y = I*k_z*H_bad_conductor_f_x(x) - diff(H_bad_conductor_f_z(x), x)\n",
    "\n",
    "# rot_H_z = diff(H_y, x) - diff(H_x, y)\n",
    "rot_H_inner_vacuum_z  = diff(H_inner_vacuum_f_y(x) , x) - I*k_y*H_inner_vacuum_f_x(x)\n",
    "rot_H_bad_conductor_z = diff(H_bad_conductor_f_y(x), x) - I*k_y*H_bad_conductor_f_x(x)\n",
    "\n",
    "# rot_H_x = diff(H_z, y) - diff(H_y, z)\n",
    "rot_H_inner_vacuum_s_x  = I*k_y*H_inner_vacuum_s_z  - I*k_z*H_inner_vacuum_s_y\n",
    "rot_H_bad_conductor_s_x = I*k_y*H_bad_conductor_s_z - I*k_z*H_bad_conductor_s_y\n",
    "\n",
    "# rot_H_y = diff(H_x, z) - diff(H_z, x)\n",
    "rot_H_inner_vacuum_s_y  = I*k_z*H_inner_vacuum_s_x  - diff(H_inner_vacuum_s_z, x)\n",
    "rot_H_bad_conductor_s_y = I*k_z*H_bad_conductor_s_x - diff(H_bad_conductor_s_z, x)\n",
    "\n",
    "#H_inner_vacuum_s_z(x)  = c / (I*omega)   *(-I*sqrt(kappa_vacuum^2-k^2)*E_inner_vacuum_y (x) - I*k_y*E_inner_vacuum_x (x))\n",
    "#H_bad_conductor_s_z(x) = c / (I*omega*mu)*( I*sqrt(kappa       ^2-k^2)*E_bad_conductor_y(x) - I*k_y*E_bad_conductor_x(x))\n",
    "\n",
    "#print(diff(H_inner_vacuum_s_z, x) \\\n",
    "#      .substitute_function(diff(E_inner_vacuum_y(x), x), - I*sqrt(-k^2 + kappa_vacuum^2) * E_inner_vacuum_y(x)) \\\n",
    "#      .substitute_function(diff(E_inner_vacuum_x(x), x), - I*sqrt(-k^2 + kappa_vacuum^2) * E_inner_vacuum_x(x))) \\\n",
    "\n",
    "#rot_H_inner_vacuum_s_y  = I*k_z*H_inner_vacuum_s_x  - c / (I*omega)*(-I*sqrt(kappa_vacuum^2-k_z^2)*\n",
    "#                                                                     (-I*sqrt(kappa_vacuum^2-k_z^2))*\n",
    "#                                                                             E_inner_vacuum_y (x) \n",
    "#                                                                     - I*k_y*(-I*sqrt(kappa_vacuum^2-k_z^2))*\n",
    "#                                                                             E_inner_vacuum_x (x))\n",
    "#\n",
    "#rot_H_bad_conductor_s_y = I*k_z*H_bad_conductor_s_x - c / (I*omega*mu)*( I*sqrt(kappa^2-k_z^2)*\n",
    "#                                                                         I*sqrt(kappa^2-k_z^2)*\n",
    "#                                                                             E_bad_conductor_y(x) \n",
    "#                                                                       - I*k_y*\n",
    "#                                                                        I*sqrt(kappa^2-k_z^2)*\n",
    "#                                                                        E_bad_conductor_x(x))\n",
    "\n",
    "# rot_H_y = diff(H_x, z) - diff(H_z, x)\n",
    "rot_H_inner_vacuum_s_y  = I*k_z*H_inner_vacuum_s_x  - diff(H_inner_vacuum_s_z, x)\n",
    "rot_H_bad_conductor_s_y = I*k_z*H_bad_conductor_s_x - diff(H_bad_conductor_s_z, x)\n",
    "\n",
    "\n",
    "# rot_H_z = diff(H_y, x) - diff(H_x, y)\n",
    "rot_H_inner_vacuum_s_z  = diff(H_inner_vacuum_s_y , x) - I*k_y*H_inner_vacuum_s_x\n",
    "rot_H_bad_conductor_s_z = diff(H_bad_conductor_s_y, x) - I*k_y*H_bad_conductor_s_x\n",
    "\n",
    "rot_H_inner_vacuum_s_z  = diff(H_inner_vacuum_s_y, x)  - I*k_y*H_inner_vacuum_s_x\n",
    "rot_H_bad_conductor_s_z =  diff(H_bad_conductor_s_y, x) - I*k_y*H_bad_conductor_s_x\n",
    "\n",
    "\n",
    "# sol\n",
    "rot_H_inner_vacuum_sol_x  = I*k_y*H_inner_vacuum_sol_z (x) - I*k_z*H_inner_vacuum_sol_y (x)\n",
    "rot_H_bad_conductor_sol_x = I*k_y*H_bad_conductor_sol_z(x) - I*k_z*H_bad_conductor_sol_y(x)\n",
    "\n",
    "rot_H_inner_vacuum_sol_y  = I*k_z*H_inner_vacuum_sol_x (x) - diff(H_inner_vacuum_sol_z (x), x)\n",
    "rot_H_bad_conductor_sol_y = I*k_z*H_bad_conductor_sol_x(x) - diff(H_bad_conductor_sol_z(x), x)\n",
    "\n",
    "rot_H_inner_vacuum_sol_z  = diff(H_inner_vacuum_sol_y (x), x) - I*k_y*H_inner_vacuum_sol_x (x)\n",
    "rot_H_bad_conductor_sol_z = diff(H_bad_conductor_sol_y(x), x) - I*k_y*H_bad_conductor_sol_x(x)\n",
    "\n",
    "\n",
    "print (\"rot_H_inner_vacuum_x =\")\n",
    "display(Math(latex(rot_H_inner_vacuum_x)))\n",
    "print (\"rot_H_bad_conductor_x =\")\n",
    "display(Math(latex(rot_H_bad_conductor_x)))\n",
    "\n",
    "print (\"rot_H_inner_vacuum_y =\")\n",
    "display(Math(latex(rot_H_inner_vacuum_y)))\n",
    "print (\"rot_H_bad_conductor_y =\")\n",
    "display(Math(latex(rot_H_bad_conductor_y)))\n",
    "\n",
    "print (\"rot_H_inner_vacuum_z =\")\n",
    "display(Math(latex(rot_H_inner_vacuum_z)))\n",
    "print (\"rot_H_bad_conductor_z =\")\n",
    "display(Math(latex(rot_H_bad_conductor_z)))\n",
    "\n",
    "\n",
    "\n",
    "print (\"rot_H_inner_vacuum_s_x =\")\n",
    "display(Math(latex(rot_H_inner_vacuum_s_x)))\n",
    "print (\"rot_H_bad_conductor_s_x =\")\n",
    "display(Math(latex(rot_H_bad_conductor_s_x)))\n",
    "\n",
    "print (\"rot_H_inner_vacuum_s_y =\")\n",
    "display(Math(latex(rot_H_inner_vacuum_s_y)))\n",
    "print (\"rot_H_bad_conductor_s_y =\")\n",
    "display(Math(latex(rot_H_bad_conductor_s_y)))\n",
    "\n",
    "print (\"rot_H_inner_vacuum_s_z =\")\n",
    "display(Math(latex(rot_H_inner_vacuum_s_z)))\n",
    "print (\"rot_H_bad_conductor_s_z =\")\n",
    "display(Math(latex(rot_H_bad_conductor_s_z)))\n",
    "\n",
    "\n",
    "\n",
    "print (\"rot_H_inner_vacuum_sol_x =\")\n",
    "display(Math(latex(rot_H_inner_vacuum_sol_x)))\n",
    "print (\"rot_H_bad_conductor_sol_x =\")\n",
    "display(Math(latex(rot_H_bad_conductor_sol_x)))\n",
    "\n",
    "print (\"rot_H_inner_vacuum_sol_y =\")\n",
    "display(Math(latex(rot_H_inner_vacuum_sol_y)))\n",
    "print (\"rot_H_bad_conductor_sol_y =\")\n",
    "display(Math(latex(rot_H_bad_conductor_sol_y)))\n",
    "\n",
    "print (\"rot_H_inner_vacuum_sol_z =\")\n",
    "display(Math(latex(rot_H_inner_vacuum_sol_z)))\n",
    "print (\"rot_H_bad_conductor_sol_z =\")\n",
    "display(Math(latex(rot_H_bad_conductor_sol_z)))"
   ]
  },
  {
   "cell_type": "code",
   "execution_count": null,
   "metadata": {},
   "outputs": [],
   "source": []
  },
  {
   "cell_type": "markdown",
   "metadata": {},
   "source": [
    "$$rot\\,\\vec{H} = \\frac{1}{c}\\frac{\\partial \\vec E}{\\partial t} = - \\frac{i\\,\\omega}{c} \\vec{E}$$"
   ]
  },
  {
   "cell_type": "markdown",
   "metadata": {},
   "source": [
    "$$rot\\,\\vec{H} = \\frac{1}{c}\\frac{\\partial \\vec D}{\\partial t} + \\frac{4\\pi}{c} \\vec j = - \\frac{i\\,\\omega}{c} \\epsilon \\vec{E} + \\frac{4\\pi}{c}\\sigma \\vec E$$"
   ]
  },
  {
   "cell_type": "markdown",
   "metadata": {},
   "source": [
    "принимая модель комплексного представления диэлектрической проницаемости $\\epsilon' = \\epsilon + \\frac{4\\pi\\,\\sigma}{\\omega}\\,i$ (плохой проводник)"
   ]
  },
  {
   "cell_type": "markdown",
   "metadata": {},
   "source": [
    "$$rot\\,\\vec{H} = \\frac{1}{c}\\frac{\\partial \\vec D}{\\partial t} + \\frac{4\\pi}{c} \\vec j = - \\frac{i\\,\\omega}{c} \\epsilon \\vec{E} + \\frac{4\\pi}{c}\\sigma \\vec E  = - \\frac{i\\,\\omega}{c} \\epsilon' \\vec{E}$$"
   ]
  },
  {
   "cell_type": "code",
   "execution_count": 22,
   "metadata": {},
   "outputs": [],
   "source": [
    "eq_rot_H_inner_vacuum_sol_x  = rot_H_inner_vacuum_sol_x  == -I*omega/c*E_inner_vacuum_sol_x(x)\n",
    "eq_rot_H_inner_vacuum_sol_y  = rot_H_inner_vacuum_sol_y  == -I*omega/c*E_inner_vacuum_sol_y(x)\n",
    "eq_rot_H_inner_vacuum_sol_z  = rot_H_inner_vacuum_sol_z  == -I*omega/c*E_inner_vacuum_sol_z(x)\n",
    "\n",
    "eq_rot_H_bad_conductor_sol_x = rot_H_bad_conductor_sol_x == -I*omega/c*epsilon_complex*E_bad_conductor_sol_x(x)\n",
    "eq_rot_H_bad_conductor_sol_y = rot_H_bad_conductor_sol_y == -I*omega/c*epsilon_complex*E_bad_conductor_sol_y(x)\n",
    "eq_rot_H_bad_conductor_sol_z = rot_H_bad_conductor_sol_z == -I*omega/c*epsilon_complex*E_bad_conductor_sol_z(x)"
   ]
  },
  {
   "cell_type": "code",
   "execution_count": 23,
   "metadata": {},
   "outputs": [],
   "source": [
    "eq_rot_H_inner_vacuum_s_x  = rot_H_inner_vacuum_s_x  == -I*omega/c*E_inner_vacuum_x(x)\n",
    "eq_rot_H_inner_vacuum_s_y  = rot_H_inner_vacuum_s_y  == -I*omega/c*E_inner_vacuum_y(x)\n",
    "eq_rot_H_inner_vacuum_s_z  = rot_H_inner_vacuum_s_z  == -I*omega/c*E_inner_vacuum_z(x)\n",
    "\n",
    "eq_rot_H_bad_conductor_s_x = rot_H_bad_conductor_s_x == -I*omega/c*epsilon_complex*E_bad_conductor_x(x)\n",
    "eq_rot_H_bad_conductor_s_y = rot_H_bad_conductor_s_y == -I*omega/c*epsilon_complex*E_bad_conductor_y(x)\n",
    "eq_rot_H_bad_conductor_s_z = rot_H_bad_conductor_s_z == -I*omega/c*epsilon_complex*E_bad_conductor_z(x)"
   ]
  },
  {
   "cell_type": "code",
   "execution_count": 24,
   "metadata": {},
   "outputs": [],
   "source": [
    "eq_rot_H_inner_vacuum_x  = rot_H_inner_vacuum_x  == -I*omega/c*E_inner_vacuum_x(x)\n",
    "eq_rot_H_inner_vacuum_y  = rot_H_inner_vacuum_y  == -I*omega/c*E_inner_vacuum_y(x)\n",
    "eq_rot_H_inner_vacuum_z  = rot_H_inner_vacuum_z  == -I*omega/c*E_inner_vacuum_z(x)\n",
    "\n",
    "eq_rot_H_bad_conductor_x = rot_H_bad_conductor_x == -I*omega/c*epsilon_complex*E_bad_conductor_x(x)\n",
    "eq_rot_H_bad_conductor_y = rot_H_bad_conductor_y == -I*omega/c*epsilon_complex*E_bad_conductor_y(x)\n",
    "eq_rot_H_bad_conductor_z = rot_H_bad_conductor_z == -I*omega/c*epsilon_complex*E_bad_conductor_z(x)"
   ]
  },
  {
   "cell_type": "code",
   "execution_count": 25,
   "metadata": {},
   "outputs": [
    {
     "name": "stdout",
     "output_type": "stream",
     "text": [
      "eq_rot_H_inner_vacuum_s_x =\n"
     ]
    },
    {
     "data": {
      "text/latex": [
       "$\\displaystyle x \\ {\\mapsto}\\ \\frac{{\\left(-i \\, k_{y} E_{{\\rm inner}_{{\\rm vacuum}_{x}}}\\left(x\\right) + \\frac{\\partial}{\\partial x}E_{{\\rm inner}_{{\\rm vacuum}_{y}}}\\left(x\\right)\\right)} c k_{y}}{\\omega} - \\frac{{\\left(i \\, k_{z} E_{{\\rm inner}_{{\\rm vacuum}_{x}}}\\left(x\\right) - \\frac{\\partial}{\\partial x}E_{{\\rm inner}_{{\\rm vacuum}_{z}}}\\left(x\\right)\\right)} c k_{z}}{\\omega} = -\\frac{i \\, \\omega E_{{\\rm inner}_{{\\rm vacuum}_{x}}}\\left(x\\right)}{c}$"
      ],
      "text/plain": [
       "<IPython.core.display.Math object>"
      ]
     },
     "metadata": {},
     "output_type": "display_data"
    },
    {
     "name": "stdout",
     "output_type": "stream",
     "text": [
      "eq_rot_H_inner_vacuum_s_y =\n"
     ]
    },
    {
     "data": {
      "text/latex": [
       "$\\displaystyle x \\ {\\mapsto}\\ \\frac{{\\left(-i \\, k_{z} E_{{\\rm inner}_{{\\rm vacuum}_{y}}}\\left(x\\right) + i \\, k_{y} E_{{\\rm inner}_{{\\rm vacuum}_{z}}}\\left(x\\right)\\right)} c k_{z}}{\\omega} + \\frac{i \\, {\\left(-i \\, k_{y} \\frac{\\partial}{\\partial x}E_{{\\rm inner}_{{\\rm vacuum}_{x}}}\\left(x\\right) + \\frac{\\partial^{2}}{(\\partial x)^{2}}E_{{\\rm inner}_{{\\rm vacuum}_{y}}}\\left(x\\right)\\right)} c}{\\omega} = -\\frac{i \\, \\omega E_{{\\rm inner}_{{\\rm vacuum}_{y}}}\\left(x\\right)}{c}$"
      ],
      "text/plain": [
       "<IPython.core.display.Math object>"
      ]
     },
     "metadata": {},
     "output_type": "display_data"
    },
    {
     "name": "stdout",
     "output_type": "stream",
     "text": [
      "eq_rot_H_inner_vacuum_s_z =\n"
     ]
    },
    {
     "data": {
      "text/latex": [
       "$\\displaystyle x \\ {\\mapsto}\\ -\\frac{{\\left(-i \\, k_{z} E_{{\\rm inner}_{{\\rm vacuum}_{y}}}\\left(x\\right) + i \\, k_{y} E_{{\\rm inner}_{{\\rm vacuum}_{z}}}\\left(x\\right)\\right)} c k_{y}}{\\omega} - \\frac{i \\, {\\left(i \\, k_{z} \\frac{\\partial}{\\partial x}E_{{\\rm inner}_{{\\rm vacuum}_{x}}}\\left(x\\right) - \\frac{\\partial^{2}}{(\\partial x)^{2}}E_{{\\rm inner}_{{\\rm vacuum}_{z}}}\\left(x\\right)\\right)} c}{\\omega} = -\\frac{i \\, \\omega E_{{\\rm inner}_{{\\rm vacuum}_{z}}}\\left(x\\right)}{c}$"
      ],
      "text/plain": [
       "<IPython.core.display.Math object>"
      ]
     },
     "metadata": {},
     "output_type": "display_data"
    }
   ],
   "source": [
    "print (\"eq_rot_H_inner_vacuum_s_x =\")\n",
    "display(Math(latex(eq_rot_H_inner_vacuum_s_x.simplify())))\n",
    "\n",
    "print (\"eq_rot_H_inner_vacuum_s_y =\")\n",
    "display(Math(latex(eq_rot_H_inner_vacuum_s_y.simplify())))\n",
    "\n",
    "print (\"eq_rot_H_inner_vacuum_s_z =\")\n",
    "display(Math(latex(eq_rot_H_inner_vacuum_s_z.simplify())))"
   ]
  },
  {
   "cell_type": "code",
   "execution_count": 26,
   "metadata": {},
   "outputs": [
    {
     "name": "stdout",
     "output_type": "stream",
     "text": [
      "eq_rot_H_inner_vacuum_sol_x =\n"
     ]
    },
    {
     "data": {
      "text/latex": [
       "$\\displaystyle \\frac{{\\left(i \\, \\mathit{A2}_{y} K_{\\mathit{vacuum}} e^{\\left(i \\, K_{\\mathit{vacuum}} x\\right)} - i \\, \\mathit{A1}_{y} K_{\\mathit{vacuum}} e^{\\left(-i \\, K_{\\mathit{vacuum}} x\\right)} - i \\, {\\left(\\mathit{A2}_{x} e^{\\left(i \\, K_{\\mathit{vacuum}} x\\right)} + \\mathit{A1}_{x} e^{\\left(-i \\, K_{\\mathit{vacuum}} x\\right)}\\right)} k_{y}\\right)} c k_{y}}{\\omega} - \\frac{{\\left(-i \\, \\mathit{A2}_{z} K_{\\mathit{vacuum}} e^{\\left(i \\, K_{\\mathit{vacuum}} x\\right)} + i \\, \\mathit{A1}_{z} K_{\\mathit{vacuum}} e^{\\left(-i \\, K_{\\mathit{vacuum}} x\\right)} + i \\, {\\left(\\mathit{A2}_{x} e^{\\left(i \\, K_{\\mathit{vacuum}} x\\right)} + \\mathit{A1}_{x} e^{\\left(-i \\, K_{\\mathit{vacuum}} x\\right)}\\right)} k_{z}\\right)} c k_{z}}{\\omega} = -\\frac{i \\, {\\left(\\mathit{A2}_{x} e^{\\left(i \\, K_{\\mathit{vacuum}} x\\right)} + \\mathit{A1}_{x} e^{\\left(-i \\, K_{\\mathit{vacuum}} x\\right)}\\right)} \\omega}{c}$"
      ],
      "text/plain": [
       "<IPython.core.display.Math object>"
      ]
     },
     "metadata": {},
     "output_type": "display_data"
    },
    {
     "name": "stdout",
     "output_type": "stream",
     "text": [
      "eq_rot_H_inner_vacuum_sol_y =\n"
     ]
    },
    {
     "data": {
      "text/latex": [
       "$\\displaystyle \\frac{{\\left(i \\, {\\left(\\mathit{A2}_{z} e^{\\left(i \\, K_{\\mathit{vacuum}} x\\right)} + \\mathit{A1}_{z} e^{\\left(-i \\, K_{\\mathit{vacuum}} x\\right)}\\right)} k_{y} - i \\, {\\left(\\mathit{A2}_{y} e^{\\left(i \\, K_{\\mathit{vacuum}} x\\right)} + \\mathit{A1}_{y} e^{\\left(-i \\, K_{\\mathit{vacuum}} x\\right)}\\right)} k_{z}\\right)} c k_{z}}{\\omega} - \\frac{i \\, {\\left(\\mathit{A2}_{y} K_{\\mathit{vacuum}}^{2} e^{\\left(i \\, K_{\\mathit{vacuum}} x\\right)} + \\mathit{A1}_{y} K_{\\mathit{vacuum}}^{2} e^{\\left(-i \\, K_{\\mathit{vacuum}} x\\right)} + i \\, {\\left(i \\, \\mathit{A2}_{x} K_{\\mathit{vacuum}} e^{\\left(i \\, K_{\\mathit{vacuum}} x\\right)} - i \\, \\mathit{A1}_{x} K_{\\mathit{vacuum}} e^{\\left(-i \\, K_{\\mathit{vacuum}} x\\right)}\\right)} k_{y}\\right)} c}{\\omega} = -\\frac{i \\, {\\left(\\mathit{A2}_{y} e^{\\left(i \\, K_{\\mathit{vacuum}} x\\right)} + \\mathit{A1}_{y} e^{\\left(-i \\, K_{\\mathit{vacuum}} x\\right)}\\right)} \\omega}{c}$"
      ],
      "text/plain": [
       "<IPython.core.display.Math object>"
      ]
     },
     "metadata": {},
     "output_type": "display_data"
    },
    {
     "name": "stdout",
     "output_type": "stream",
     "text": [
      "eq_rot_H_inner_vacuum_sol_z =\n"
     ]
    },
    {
     "data": {
      "text/latex": [
       "$\\displaystyle -\\frac{{\\left(i \\, {\\left(\\mathit{A2}_{z} e^{\\left(i \\, K_{\\mathit{vacuum}} x\\right)} + \\mathit{A1}_{z} e^{\\left(-i \\, K_{\\mathit{vacuum}} x\\right)}\\right)} k_{y} - i \\, {\\left(\\mathit{A2}_{y} e^{\\left(i \\, K_{\\mathit{vacuum}} x\\right)} + \\mathit{A1}_{y} e^{\\left(-i \\, K_{\\mathit{vacuum}} x\\right)}\\right)} k_{z}\\right)} c k_{y}}{\\omega} - \\frac{i \\, {\\left(\\mathit{A2}_{z} K_{\\mathit{vacuum}}^{2} e^{\\left(i \\, K_{\\mathit{vacuum}} x\\right)} + \\mathit{A1}_{z} K_{\\mathit{vacuum}}^{2} e^{\\left(-i \\, K_{\\mathit{vacuum}} x\\right)} + i \\, {\\left(i \\, \\mathit{A2}_{x} K_{\\mathit{vacuum}} e^{\\left(i \\, K_{\\mathit{vacuum}} x\\right)} - i \\, \\mathit{A1}_{x} K_{\\mathit{vacuum}} e^{\\left(-i \\, K_{\\mathit{vacuum}} x\\right)}\\right)} k_{z}\\right)} c}{\\omega} = -\\frac{i \\, {\\left(\\mathit{A2}_{z} e^{\\left(i \\, K_{\\mathit{vacuum}} x\\right)} + \\mathit{A1}_{z} e^{\\left(-i \\, K_{\\mathit{vacuum}} x\\right)}\\right)} \\omega}{c}$"
      ],
      "text/plain": [
       "<IPython.core.display.Math object>"
      ]
     },
     "metadata": {},
     "output_type": "display_data"
    }
   ],
   "source": [
    "print (\"eq_rot_H_inner_vacuum_sol_x =\")\n",
    "display(Math(latex(eq_rot_H_inner_vacuum_sol_x.simplify())))\n",
    "\n",
    "print (\"eq_rot_H_inner_vacuum_sol_y =\")\n",
    "display(Math(latex(eq_rot_H_inner_vacuum_sol_y.simplify())))\n",
    "\n",
    "print (\"eq_rot_H_inner_vacuum_sol_z =\")\n",
    "display(Math(latex(eq_rot_H_inner_vacuum_sol_z.simplify())))"
   ]
  },
  {
   "cell_type": "raw",
   "metadata": {},
   "source": [
    "print (\"eq_rot_H_inner_vacuum_x =\")\n",
    "display(Math(latex(eq_rot_H_inner_vacuum_x.simplify())))\n",
    "\n",
    "print (\"eq_rot_H_inner_vacuum_y =\")\n",
    "display(Math(latex(eq_rot_H_inner_vacuum_y.simplify())))\n",
    "\n",
    "print (\"eq_rot_H_inner_vacuum_z =\")\n",
    "display(Math(latex(eq_rot_H_inner_vacuum_z.simplify())))"
   ]
  },
  {
   "cell_type": "raw",
   "metadata": {},
   "source": [
    "print (\"eq_rot_H_bad_conductor_sol_x =\")\n",
    "display(Math(latex(eq_rot_H_bad_conductor_sol_x.simplify())))\n",
    "\n",
    "print (\"eq_rot_H_bad_conductor_sol_y =\")\n",
    "display(Math(latex(eq_rot_H_bad_conductor_sol_y.simplify())))\n",
    "\n",
    "print (\"eq_rot_H_bad_conductor_sol_z =\")\n",
    "display(Math(latex(eq_rot_H_bad_conductor_sol_z.simplify())))"
   ]
  },
  {
   "cell_type": "raw",
   "metadata": {},
   "source": [
    "print (\"eq_rot_H_bad_conductor_x =\")\n",
    "display(Math(latex(eq_rot_H_bad_conductor_x.simplify())))\n",
    "\n",
    "print (\"eq_rot_H_bad_conductor_y =\")\n",
    "display(Math(latex(eq_rot_H_bad_conductor_y.simplify())))\n",
    "\n",
    "print (\"eq_rot_H_bad_conductor_z =\")\n",
    "display(Math(latex(eq_rot_H_bad_conductor_z.simplify())))"
   ]
  },
  {
   "cell_type": "raw",
   "metadata": {},
   "source": [
    "print (\"eq_rot_H_inner_vacuum_x =\")\n",
    "eq_rot_H_inner_vacuum_x_subs = eq_rot_H_inner_vacuum_x.subs(omega==c*kappa_vacuum/sqrt(epsilon_0*mu_0))\n",
    "eq_rot_H_inner_vacuum_x_subs_solve = solve(eq_rot_H_inner_vacuum_x_subs, E_inner_vacuum_x(x))\n",
    "display(Math(latex(eq_rot_H_inner_vacuum_x_subs_solve)))\n",
    "\n",
    "print (\"H_inner_vacuum_y  (x) =\")\n",
    "H_inner_vacuum_subs_y = H_inner_vacuum_y.subs(omega==c*kappa_vacuum/sqrt(epsilon_0*mu_0), eq_rot_H_inner_vacuum_x_subs_solve)\n",
    "display(Math(latex(H_inner_vacuum_subs_y)))\n",
    "\n",
    "print (\"eq_rot_H_bad_conductor_x =\")\n",
    "eq_rot_H_bad_conductor_x_subs = eq_rot_H_bad_conductor_x.subs(omega==c*kappa/sqrt(epsilon*mu))\n",
    "eq_rot_H_bad_conductor_x_subs_solve = solve(eq_rot_H_bad_conductor_x_subs, E_bad_conductor_x(x))\n",
    "display(Math(latex(eq_rot_H_bad_conductor_x_subs_solve)))\n",
    "\n",
    "print (\"H_bad_conductor_y (x) =\")\n",
    "H_bad_conductor_subs_y = H_bad_conductor_y.subs(omega==c*kappa/sqrt(epsilon*mu), eq_rot_H_bad_conductor_x_subs_solve)\n",
    "display(Math(latex(H_bad_conductor_subs_y)))"
   ]
  },
  {
   "cell_type": "raw",
   "metadata": {},
   "source": [
    "res = solve(eq_kappa_inner_vacuum, kappa_vacuum)\n",
    "display(Math(latex(res)))"
   ]
  },
  {
   "cell_type": "raw",
   "metadata": {},
   "source": [
    "E_inner_vacuum_sol_z(-a)"
   ]
  },
  {
   "cell_type": "code",
   "execution_count": null,
   "metadata": {},
   "outputs": [],
   "source": []
  },
  {
   "cell_type": "code",
   "execution_count": 27,
   "metadata": {},
   "outputs": [],
   "source": [
    "# выражения для электрического поля\n",
    "# в вакууме внутри резонатора \n",
    "#    E_inner_vacuum_z (x) = A1_z_re*cos(sqrt(kappa_vacuum^2-k_z^2)*x) + A1_z_im*sin(sqrt(kappa_vacuum^2-k_z^2)*x)\n",
    "#    E_inner_vacuum_x (x) = A1_x_re*cos(sqrt(kappa_vacuum^2-k_z^2)*x) + A1_x_im*sin(sqrt(kappa_vacuum^2-k_z^2)*x)\n",
    "#    E_inner_vacuum_y (x) = A1_y_re*cos(sqrt(kappa_vacuum^2-k_z^2)*x) + A1_y_im*sin(sqrt(kappa_vacuum^2-k_z^2)*x)\n"
   ]
  },
  {
   "cell_type": "code",
   "execution_count": 28,
   "metadata": {},
   "outputs": [],
   "source": [
    "# rename eqEz_0 -> eqEz__a"
   ]
  },
  {
   "cell_type": "code",
   "execution_count": 29,
   "metadata": {},
   "outputs": [
    {
     "name": "stdout",
     "output_type": "stream",
     "text": [
      "eqEz__a = \n"
     ]
    },
    {
     "data": {
      "text/latex": [
       "$\\displaystyle \\mathit{A1}_{z} e^{\\left(i \\, K_{\\mathit{vacuum}} a\\right)} + \\mathit{A2}_{z} e^{\\left(-i \\, K_{\\mathit{vacuum}} a\\right)} = 0$"
      ],
      "text/plain": [
       "<IPython.core.display.Math object>"
      ]
     },
     "metadata": {},
     "output_type": "display_data"
    },
    {
     "name": "stdout",
     "output_type": "stream",
     "text": [
      "eqEy__a = \n"
     ]
    },
    {
     "data": {
      "text/latex": [
       "$\\displaystyle \\mathit{A1}_{y} e^{\\left(i \\, K_{\\mathit{vacuum}} a\\right)} + \\mathit{A2}_{y} e^{\\left(-i \\, K_{\\mathit{vacuum}} a\\right)} = 0$"
      ],
      "text/plain": [
       "<IPython.core.display.Math object>"
      ]
     },
     "metadata": {},
     "output_type": "display_data"
    },
    {
     "name": "stdout",
     "output_type": "stream",
     "text": [
      "eqHz__a = \n"
     ]
    },
    {
     "data": {
      "text/latex": [
       "$\\displaystyle -\\frac{i \\, {\\left(-i \\, \\mathit{A1}_{y} K_{\\mathit{vacuum}} e^{\\left(i \\, K_{\\mathit{vacuum}} a\\right)} + i \\, \\mathit{A2}_{y} K_{\\mathit{vacuum}} e^{\\left(-i \\, K_{\\mathit{vacuum}} a\\right)} - i \\, {\\left(\\mathit{A1}_{x} e^{\\left(i \\, K_{\\mathit{vacuum}} a\\right)} + \\mathit{A2}_{x} e^{\\left(-i \\, K_{\\mathit{vacuum}} a\\right)}\\right)} k_{y}\\right)} c}{\\omega} = 0$"
      ],
      "text/plain": [
       "<IPython.core.display.Math object>"
      ]
     },
     "metadata": {},
     "output_type": "display_data"
    },
    {
     "name": "stdout",
     "output_type": "stream",
     "text": [
      "eqHy__a = \n"
     ]
    },
    {
     "data": {
      "text/latex": [
       "$\\displaystyle -\\frac{i \\, {\\left(i \\, \\mathit{A1}_{z} K_{\\mathit{vacuum}} e^{\\left(i \\, K_{\\mathit{vacuum}} a\\right)} - i \\, \\mathit{A2}_{z} K_{\\mathit{vacuum}} e^{\\left(-i \\, K_{\\mathit{vacuum}} a\\right)} + i \\, {\\left(\\mathit{A1}_{x} e^{\\left(i \\, K_{\\mathit{vacuum}} a\\right)} + \\mathit{A2}_{x} e^{\\left(-i \\, K_{\\mathit{vacuum}} a\\right)}\\right)} k_{z}\\right)} c}{\\omega} = 0$"
      ],
      "text/plain": [
       "<IPython.core.display.Math object>"
      ]
     },
     "metadata": {},
     "output_type": "display_data"
    }
   ],
   "source": [
    "# граничные условия на границе идеального проводника и вакуума внутри резонатора\n",
    "# тангенциальная компонента электрического поля\n",
    "# eqEz_0 = solve(E_inner_vacuum_sol_z(-a) == 0, A1_z)\n",
    "eqEz__a = E_inner_vacuum_sol_z(-a) == 0\n",
    "# E_inner_vacuum_z (x) = A1_z_re*cos(sqrt(kappa_vacuum^2-k_z^2)*x) + A1_z_im*sin(sqrt(kappa_vacuum^2-k^2)*x)\n",
    "# eqEz_0 = A1_z_re*cos(sqrt(kappa_vacuum^2-k_z^2)*x) + A1_z_im*sin(sqrt(kappa_vacuum^2-k_z^2)*x) == 0\n",
    "\n",
    "print (\"eqEz__a = \")\n",
    "display(Math(latex(eqEz__a)))\n",
    "\n",
    "if 0 != A1_y:\n",
    "    #eqEy_ _a = solve(E_inner_vacuum_sol_y(-a) == 0, A1_y)\n",
    "    eqEy__a = E_inner_vacuum_sol_y(-a) == 0\n",
    "    print (\"eqEy__a = \")\n",
    "    display(Math(latex(eqEy__a)))\n",
    "\n",
    "# тангенциальная компонента магнитного поля\n",
    "eqHy__a = H_inner_vacuum_sol_y(-a) == 0\n",
    "eqHz__a = H_inner_vacuum_sol_z(-a) == 0\n",
    "\n",
    "print (\"eqHz__a = \")\n",
    "disp(eqHz__a)\n",
    "print (\"eqHy__a = \")\n",
    "disp(eqHy__a)"
   ]
  },
  {
   "cell_type": "code",
   "execution_count": 30,
   "metadata": {},
   "outputs": [],
   "source": [
    "# rename eqEz_a -> eqEz__0"
   ]
  },
  {
   "cell_type": "code",
   "execution_count": 31,
   "metadata": {},
   "outputs": [
    {
     "name": "stdout",
     "output_type": "stream",
     "text": [
      "eqEz__0 = \n"
     ]
    },
    {
     "data": {
      "text/latex": [
       "$\\displaystyle \\mathit{B1}_{z} = \\mathit{A1}_{z} + \\mathit{A2}_{z}$"
      ],
      "text/plain": [
       "<IPython.core.display.Math object>"
      ]
     },
     "metadata": {},
     "output_type": "display_data"
    },
    {
     "name": "stdout",
     "output_type": "stream",
     "text": [
      "eqEy__0 = \n"
     ]
    },
    {
     "data": {
      "text/latex": [
       "$\\displaystyle \\mathit{B1}_{y} = \\mathit{A1}_{y} + \\mathit{A2}_{y}$"
      ],
      "text/plain": [
       "<IPython.core.display.Math object>"
      ]
     },
     "metadata": {},
     "output_type": "display_data"
    }
   ],
   "source": [
    "# граничные условия на границе вакуума внутри резонатора и проводящего металла с потерями\n",
    "# тангенциальная компонента электрического поля\n",
    "eqEz__0 = E_bad_conductor_sol_z(0) == E_inner_vacuum_sol_z(0)\n",
    "eqEy__0 = E_bad_conductor_sol_y(0) == E_inner_vacuum_sol_y(0)\n",
    "\n",
    "print (\"eqEz__0 = \")\n",
    "display(Math(latex(eqEz__0)))\n",
    "print (\"eqEy__0 = \")\n",
    "display(Math(latex(eqEy__0)))"
   ]
  },
  {
   "cell_type": "code",
   "execution_count": 32,
   "metadata": {},
   "outputs": [],
   "source": [
    "#rename eqDx_a -> eqDx__0"
   ]
  },
  {
   "cell_type": "code",
   "execution_count": 33,
   "metadata": {},
   "outputs": [
    {
     "name": "stdout",
     "output_type": "stream",
     "text": [
      "eqDx__0 =\n"
     ]
    },
    {
     "data": {
      "text/latex": [
       "$\\displaystyle \\mathit{A1}_{x} + \\mathit{A2}_{x} = \\mathit{B1}_{x} {\\left(\\epsilon + \\frac{4 i \\, \\pi \\sigma}{\\omega}\\right)}$"
      ],
      "text/plain": [
       "<IPython.core.display.Math object>"
      ]
     },
     "metadata": {},
     "output_type": "display_data"
    }
   ],
   "source": [
    "# граничные условия на границе вакуума внутри резонатора и проводящего металла с потерями\n",
    "# нормальная компонента электрического смещения\n",
    "eqDx__0 = E_inner_vacuum_sol_x(0) == E_bad_conductor_sol_x(0) * epsilon_complex\n",
    "\n",
    "print (\"eqDx__0 =\")\n",
    "display(Math(latex(eqDx__0)))"
   ]
  },
  {
   "cell_type": "code",
   "execution_count": 34,
   "metadata": {},
   "outputs": [],
   "source": [
    "#rename eqHz_a -> eqHz__0\n",
    "#rename eqHy_a -> eqHy__0"
   ]
  },
  {
   "cell_type": "code",
   "execution_count": 35,
   "metadata": {},
   "outputs": [
    {
     "name": "stdout",
     "output_type": "stream",
     "text": [
      "H_bad_conductor_sol_z (0), H_inner_vacuum_sol_z (x) =\n"
     ]
    },
    {
     "data": {
      "text/latex": [
       "$\\displaystyle \\left[-\\frac{i \\, {\\left(i \\, \\mathit{B1}_{y} K_{\\mathit{conductor}} e^{\\left(i \\, K_{\\mathit{conductor}} x\\right)} - i \\, \\mathit{B1}_{x} k_{y} e^{\\left(i \\, K_{\\mathit{conductor}} x\\right)}\\right)} c}{\\mu \\omega}, -\\frac{i \\, {\\left(i \\, \\mathit{A2}_{y} K_{\\mathit{vacuum}} e^{\\left(i \\, K_{\\mathit{vacuum}} x\\right)} - i \\, \\mathit{A1}_{y} K_{\\mathit{vacuum}} e^{\\left(-i \\, K_{\\mathit{vacuum}} x\\right)} - i \\, {\\left(\\mathit{A2}_{x} e^{\\left(i \\, K_{\\mathit{vacuum}} x\\right)} + \\mathit{A1}_{x} e^{\\left(-i \\, K_{\\mathit{vacuum}} x\\right)}\\right)} k_{y}\\right)} c}{\\omega}\\right]$"
      ],
      "text/plain": [
       "<IPython.core.display.Math object>"
      ]
     },
     "metadata": {},
     "output_type": "display_data"
    },
    {
     "name": "stdout",
     "output_type": "stream",
     "text": [
      "H_bad_conductor_sol_y (0), H_inner_vacuum_sol_y (x) =\n"
     ]
    },
    {
     "data": {
      "text/latex": [
       "$\\displaystyle \\left[-\\frac{i \\, {\\left(-i \\, \\mathit{B1}_{z} K_{\\mathit{conductor}} e^{\\left(i \\, K_{\\mathit{conductor}} x\\right)} + i \\, \\mathit{B1}_{x} k_{z} e^{\\left(i \\, K_{\\mathit{conductor}} x\\right)}\\right)} c}{\\mu \\omega}, -\\frac{i \\, {\\left(-i \\, \\mathit{A2}_{z} K_{\\mathit{vacuum}} e^{\\left(i \\, K_{\\mathit{vacuum}} x\\right)} + i \\, \\mathit{A1}_{z} K_{\\mathit{vacuum}} e^{\\left(-i \\, K_{\\mathit{vacuum}} x\\right)} + i \\, {\\left(\\mathit{A2}_{x} e^{\\left(i \\, K_{\\mathit{vacuum}} x\\right)} + \\mathit{A1}_{x} e^{\\left(-i \\, K_{\\mathit{vacuum}} x\\right)}\\right)} k_{z}\\right)} c}{\\omega}\\right]$"
      ],
      "text/plain": [
       "<IPython.core.display.Math object>"
      ]
     },
     "metadata": {},
     "output_type": "display_data"
    },
    {
     "name": "stdout",
     "output_type": "stream",
     "text": [
      "sqrt(mu/epsilon)*H_bad_conductor_sol_z (0), sqrt(mu/epsilon)*H_inner_vacuum_sol_z (x) =\n"
     ]
    },
    {
     "data": {
      "text/latex": [
       "$\\displaystyle \\left[-\\frac{i \\, {\\left(i \\, \\mathit{B1}_{y} K_{\\mathit{conductor}} e^{\\left(i \\, K_{\\mathit{conductor}} x\\right)} - i \\, \\mathit{B1}_{x} k_{y} e^{\\left(i \\, K_{\\mathit{conductor}} x\\right)}\\right)} c \\sqrt{\\frac{\\mu}{\\epsilon}}}{\\mu \\omega}, -\\frac{i \\, {\\left(i \\, \\mathit{A2}_{y} K_{\\mathit{vacuum}} e^{\\left(i \\, K_{\\mathit{vacuum}} x\\right)} - i \\, \\mathit{A1}_{y} K_{\\mathit{vacuum}} e^{\\left(-i \\, K_{\\mathit{vacuum}} x\\right)} - i \\, {\\left(\\mathit{A2}_{x} e^{\\left(i \\, K_{\\mathit{vacuum}} x\\right)} + \\mathit{A1}_{x} e^{\\left(-i \\, K_{\\mathit{vacuum}} x\\right)}\\right)} k_{y}\\right)} c}{\\omega}\\right]$"
      ],
      "text/plain": [
       "<IPython.core.display.Math object>"
      ]
     },
     "metadata": {},
     "output_type": "display_data"
    },
    {
     "name": "stdout",
     "output_type": "stream",
     "text": [
      "H_bad_conductor_y (0), H_inner_vacuum_y (0) =\n"
     ]
    },
    {
     "data": {
      "text/latex": [
       "$\\displaystyle \\left[-\\frac{i \\, {\\left(-i \\, \\mathit{B1}_{z} K_{\\mathit{conductor}} e^{\\left(i \\, K_{\\mathit{conductor}} x\\right)} + i \\, \\mathit{B1}_{x} k_{z} e^{\\left(i \\, K_{\\mathit{conductor}} x\\right)}\\right)} c \\sqrt{\\frac{\\mu}{\\epsilon}}}{\\mu \\omega}, -\\frac{i \\, {\\left(-i \\, \\mathit{A2}_{z} K_{\\mathit{vacuum}} e^{\\left(i \\, K_{\\mathit{vacuum}} x\\right)} + i \\, \\mathit{A1}_{z} K_{\\mathit{vacuum}} e^{\\left(-i \\, K_{\\mathit{vacuum}} x\\right)} + i \\, {\\left(\\mathit{A2}_{x} e^{\\left(i \\, K_{\\mathit{vacuum}} x\\right)} + \\mathit{A1}_{x} e^{\\left(-i \\, K_{\\mathit{vacuum}} x\\right)}\\right)} k_{z}\\right)} c}{\\omega}\\right]$"
      ],
      "text/plain": [
       "<IPython.core.display.Math object>"
      ]
     },
     "metadata": {},
     "output_type": "display_data"
    },
    {
     "name": "stdout",
     "output_type": "stream",
     "text": [
      "eqEz__0, eqEy__0 = \n"
     ]
    },
    {
     "data": {
      "text/latex": [
       "$\\displaystyle \\left[\\mathit{B1}_{z} = \\mathit{A1}_{z} + \\mathit{A2}_{z}, \\mathit{B1}_{y} = \\mathit{A1}_{y} + \\mathit{A2}_{y}\\right]$"
      ],
      "text/plain": [
       "<IPython.core.display.Math object>"
      ]
     },
     "metadata": {},
     "output_type": "display_data"
    },
    {
     "name": "stdout",
     "output_type": "stream",
     "text": [
      "eqHz__0 =\n"
     ]
    },
    {
     "data": {
      "text/latex": [
       "$\\displaystyle -\\frac{i \\, {\\left(i \\, {\\left(\\mathit{A1}_{y} + \\mathit{A2}_{y}\\right)} K_{\\mathit{conductor}} - i \\, \\mathit{B1}_{x} k_{y}\\right)} c}{\\mu \\omega} = -\\frac{i \\, {\\left(-i \\, \\mathit{A1}_{y} K_{\\mathit{vacuum}} + i \\, \\mathit{A2}_{y} K_{\\mathit{vacuum}} - i \\, {\\left(\\mathit{A1}_{x} + \\mathit{A2}_{x}\\right)} k_{y}\\right)} c}{\\omega}$"
      ],
      "text/plain": [
       "<IPython.core.display.Math object>"
      ]
     },
     "metadata": {},
     "output_type": "display_data"
    },
    {
     "name": "stdout",
     "output_type": "stream",
     "text": [
      "eqHy__0 =\n"
     ]
    },
    {
     "data": {
      "text/latex": [
       "$\\displaystyle -\\frac{i \\, {\\left(-i \\, {\\left(\\mathit{A1}_{z} + \\mathit{A2}_{z}\\right)} K_{\\mathit{conductor}} + i \\, \\mathit{B1}_{x} k_{z}\\right)} c}{\\mu \\omega} = -\\frac{i \\, {\\left(i \\, \\mathit{A1}_{z} K_{\\mathit{vacuum}} - i \\, \\mathit{A2}_{z} K_{\\mathit{vacuum}} + i \\, {\\left(\\mathit{A1}_{x} + \\mathit{A2}_{x}\\right)} k_{z}\\right)} c}{\\omega}$"
      ],
      "text/plain": [
       "<IPython.core.display.Math object>"
      ]
     },
     "metadata": {},
     "output_type": "display_data"
    }
   ],
   "source": [
    "# граничные условия на границе вакуума внутри резонатора и проводящего металла с потерями\n",
    "# тангенциальная компонента напряженности магнитного поля\n",
    "eqHz__0  = (H_bad_conductor_sol_z(0)  == H_inner_vacuum_sol_z(0)).subs(eqEz__0, eqEy__0)\n",
    "eqHy__0  = (H_bad_conductor_sol_y(0)  == H_inner_vacuum_sol_y(0)).subs(eqEy__0, eqEz__0)\n",
    "\n",
    "print (\"H_bad_conductor_sol_z (0), H_inner_vacuum_sol_z (x) =\")\n",
    "display(Math(latex([H_bad_conductor_sol_z (x), H_inner_vacuum_sol_z (x)])))\n",
    "\n",
    "print (\"H_bad_conductor_sol_y (0), H_inner_vacuum_sol_y (x) =\")\n",
    "display(Math(latex([H_bad_conductor_sol_y (x), H_inner_vacuum_sol_y (x)])))\n",
    "\n",
    "print (\"sqrt(mu/epsilon)*H_bad_conductor_sol_z (0), sqrt(mu/epsilon)*H_inner_vacuum_sol_z (x) =\")\n",
    "display(Math(latex([sqrt(mu/epsilon)*H_bad_conductor_sol_z (x), sqrt(1/epsilon_0)*H_inner_vacuum_sol_z (x)])))\n",
    "\n",
    "print (\"H_bad_conductor_y (0), H_inner_vacuum_y (0) =\")\n",
    "display(Math(latex([sqrt(mu/epsilon)*H_bad_conductor_sol_y (x), sqrt(1/epsilon_0)*H_inner_vacuum_sol_y (x)])))\n",
    "\n",
    "print (\"eqEz__0, eqEy__0 = \")\n",
    "display(Math(latex([eqEz__0, eqEy__0])))\n",
    "\n",
    "print (\"eqHz__0 =\")\n",
    "display(Math(latex(eqHz__0)))\n",
    "print (\"eqHy__0 =\")\n",
    "display(Math(latex(eqHy__0)))"
   ]
  },
  {
   "cell_type": "raw",
   "metadata": {},
   "source": [
    "# граничные условия на границе вакуума внутри резонатора и проводящего металла с потерями\n",
    "# нормальная компонента индукции магнитного поля\n",
    "eqBx__0  = mu * H_bad_conductor_sol_x (0)  == H_inner_vacuum_sol_x (0)\n",
    "\n",
    "print (\"eqBx__0 =\")\n",
    "display(Math(latex(eqBx__0)))"
   ]
  },
  {
   "cell_type": "code",
   "execution_count": 36,
   "metadata": {},
   "outputs": [
    {
     "name": "stdout",
     "output_type": "stream",
     "text": [
      "eq_rot_H_inner_vacuum_y rot H (E_y) =\n"
     ]
    },
    {
     "data": {
      "text/latex": [
       "$\\displaystyle i \\, k_{z} H_{{\\rm inner}_{{\\rm vacuum}_{f_{x}}}}\\left(x\\right) - \\frac{\\partial}{\\partial x}H_{{\\rm inner}_{{\\rm vacuum}_{f_{z}}}}\\left(x\\right) = -\\frac{i \\, \\omega E_{{\\rm inner}_{{\\rm vacuum}_{y}}}\\left(x\\right)}{c}$"
      ],
      "text/plain": [
       "<IPython.core.display.Math object>"
      ]
     },
     "metadata": {},
     "output_type": "display_data"
    },
    {
     "name": "stdout",
     "output_type": "stream",
     "text": [
      "eq_rot_H_inner_vacuum_y_subs_solve rot H (E_y) =\n"
     ]
    },
    {
     "data": {
      "text/latex": [
       "$\\displaystyle \\kappa_{\\mathit{vacuum}} E_{{\\rm inner}_{{\\rm vacuum}_{y}}}\\left(x\\right) = -k_{z} H_{{\\rm inner}_{{\\rm vacuum}_{f_{x}}}}\\left(x\\right) - i \\, \\frac{\\partial}{\\partial x}H_{{\\rm inner}_{{\\rm vacuum}_{f_{z}}}}\\left(x\\right)$"
      ],
      "text/plain": [
       "<IPython.core.display.Math object>"
      ]
     },
     "metadata": {},
     "output_type": "display_data"
    },
    {
     "name": "stdout",
     "output_type": "stream",
     "text": [
      "eq_rot_E_inner_vacuum_x_subs (x) rot E =\n"
     ]
    },
    {
     "data": {
      "text/latex": [
       "$\\displaystyle \\kappa_{\\mathit{vacuum}} H_{{\\rm inner}_{{\\rm vacuum}_{f_{x}}}}\\left(x\\right) = -k_{z} E_{{\\rm inner}_{{\\rm vacuum}_{y}}}\\left(x\\right) + k_{y} E_{{\\rm inner}_{{\\rm vacuum}_{z}}}\\left(x\\right)$"
      ],
      "text/plain": [
       "<IPython.core.display.Math object>"
      ]
     },
     "metadata": {},
     "output_type": "display_data"
    },
    {
     "name": "stdout",
     "output_type": "stream",
     "text": [
      "eq_rot_H_inner_vacuum_y_subs_solve_m =\n"
     ]
    },
    {
     "data": {
      "text/latex": [
       "$\\displaystyle \\kappa_{\\mathit{vacuum}} E_{{\\rm inner}_{{\\rm vacuum}_{y}}}\\left(x\\right) + k_{z} H_{{\\rm inner}_{{\\rm vacuum}_{f_{x}}}}\\left(x\\right) = -i \\, \\frac{\\partial}{\\partial x}H_{{\\rm inner}_{{\\rm vacuum}_{f_{z}}}}\\left(x\\right)$"
      ],
      "text/plain": [
       "<IPython.core.display.Math object>"
      ]
     },
     "metadata": {},
     "output_type": "display_data"
    },
    {
     "name": "stdout",
     "output_type": "stream",
     "text": [
      "eq_rot_E_inner_vacuum_x_subs_m =\n"
     ]
    },
    {
     "data": {
      "text/latex": [
       "$\\displaystyle k_{z} E_{{\\rm inner}_{{\\rm vacuum}_{y}}}\\left(x\\right) + \\kappa_{\\mathit{vacuum}} H_{{\\rm inner}_{{\\rm vacuum}_{f_{x}}}}\\left(x\\right) = k_{y} E_{{\\rm inner}_{{\\rm vacuum}_{z}}}\\left(x\\right)$"
      ],
      "text/plain": [
       "<IPython.core.display.Math object>"
      ]
     },
     "metadata": {},
     "output_type": "display_data"
    },
    {
     "name": "stdout",
     "output_type": "stream",
     "text": [
      "eq_1 =\n"
     ]
    },
    {
     "data": {
      "text/latex": [
       "$\\displaystyle -{\\left(k_{z}^{2} - \\kappa_{\\mathit{vacuum}}^{2}\\right)} E_{{\\rm inner}_{{\\rm vacuum}_{y}}}\\left(x\\right) = -k_{y} k_{z} E_{{\\rm inner}_{{\\rm vacuum}_{z}}}\\left(x\\right) - i \\, \\kappa_{\\mathit{vacuum}} \\frac{\\partial}{\\partial x}H_{{\\rm inner}_{{\\rm vacuum}_{f_{z}}}}\\left(x\\right)$"
      ],
      "text/plain": [
       "<IPython.core.display.Math object>"
      ]
     },
     "metadata": {},
     "output_type": "display_data"
    },
    {
     "name": "stdout",
     "output_type": "stream",
     "text": [
      "eq_2 =\n"
     ]
    },
    {
     "data": {
      "text/latex": [
       "$\\displaystyle {\\left(k_{z}^{2} - \\kappa_{\\mathit{vacuum}}^{2}\\right)} H_{{\\rm inner}_{{\\rm vacuum}_{f_{x}}}}\\left(x\\right) = -k_{y} \\kappa_{\\mathit{vacuum}} E_{{\\rm inner}_{{\\rm vacuum}_{z}}}\\left(x\\right) - i \\, k_{z} \\frac{\\partial}{\\partial x}H_{{\\rm inner}_{{\\rm vacuum}_{f_{z}}}}\\left(x\\right)$"
      ],
      "text/plain": [
       "<IPython.core.display.Math object>"
      ]
     },
     "metadata": {},
     "output_type": "display_data"
    }
   ],
   "source": [
    "eq_rot_H_inner_vacuum_y_subs       = eq_rot_H_inner_vacuum_y.subs(omega==c*kappa_vacuum/sqrt(epsilon_0*mu_0))\n",
    "print (\"eq_rot_H_inner_vacuum_y rot H (E_y) =\")\n",
    "# print(eq_rot_H_inner_vacuum_y)\n",
    "display(Math(latex(eq_rot_H_inner_vacuum_y)))\n",
    "\n",
    "eq_rot_H_inner_vacuum_y_subs_solve = solve(eq_rot_H_inner_vacuum_y_subs, E_inner_vacuum_y(x))[0] * kappa_vacuum\n",
    "print (\"eq_rot_H_inner_vacuum_y_subs_solve rot H (E_y) =\")\n",
    "# print(eq_rot_H_inner_vacuum_y_subs_solve)\n",
    "display(Math(latex(eq_rot_H_inner_vacuum_y_subs_solve)))\n",
    "\n",
    "eq_rot_E_inner_vacuum_x = H_inner_vacuum_f_x(x) == H_inner_vacuum_s_x(x)\n",
    "eq_rot_E_inner_vacuum_x_subs = eq_rot_E_inner_vacuum_x.subs(omega==c*kappa_vacuum/sqrt(epsilon_0*mu_0)) * kappa_vacuum\n",
    "print (\"eq_rot_E_inner_vacuum_x_subs (x) rot E =\")\n",
    "# print             (eq_rot_E_inner_vacuum_x_subs)\n",
    "display(Math(latex(eq_rot_E_inner_vacuum_x_subs)))\n",
    "\n",
    "eq_rot_H_inner_vacuum_y_subs_solve_m \\\n",
    "    =  eq_rot_H_inner_vacuum_y_subs_solve.lhs() \\\n",
    "    -  eq_rot_H_inner_vacuum_y_subs_solve.rhs().expand().operands()[0] \\\n",
    "    == eq_rot_H_inner_vacuum_y_subs_solve.rhs().expand().operands()[1]\n",
    "print (\"eq_rot_H_inner_vacuum_y_subs_solve_m =\")\n",
    "# print             (eq_rot_H_inner_vacuum_y_subs_solve_m)\n",
    "display(Math(latex(eq_rot_H_inner_vacuum_y_subs_solve_m)))\n",
    "\n",
    "eq_rot_E_inner_vacuum_x_subs_m \\\n",
    "    =  eq_rot_E_inner_vacuum_x_subs.lhs() \\\n",
    "    -  eq_rot_E_inner_vacuum_x_subs.rhs().expand().operands()[0] \\\n",
    "    == eq_rot_E_inner_vacuum_x_subs.rhs().expand().operands()[1]\n",
    "print (\"eq_rot_E_inner_vacuum_x_subs_m =\")\n",
    "# print             (eq_rot_E_inner_vacuum_x_subs_m)\n",
    "display(Math(latex(eq_rot_E_inner_vacuum_x_subs_m)))\n",
    "\n",
    "eq_1 = (eq_rot_H_inner_vacuum_y_subs_solve_m*kappa_vacuum - eq_rot_E_inner_vacuum_x_subs_m*k_z).full_simplify()\n",
    "print (\"eq_1 =\")\n",
    "# print             (eq_1)\n",
    "display(Math(latex(eq_1)))\n",
    "\n",
    "eq_2 = (eq_rot_H_inner_vacuum_y_subs_solve_m*k_z - eq_rot_E_inner_vacuum_x_subs_m*kappa_vacuum).full_simplify()\n",
    "print (\"eq_2 =\")\n",
    "# print             (eq_2)\n",
    "display(Math(latex(eq_2)))"
   ]
  },
  {
   "cell_type": "code",
   "execution_count": 37,
   "metadata": {},
   "outputs": [
    {
     "name": "stdout",
     "output_type": "stream",
     "text": [
      "eq_rot_H_bad_conductor_y rot_H = epsilon*d/dt(E_y) =\n"
     ]
    },
    {
     "data": {
      "text/latex": [
       "$\\displaystyle i \\, k_{z} H_{{\\rm bad}_{{\\rm conductor}_{f_{x}}}}\\left(x\\right) - \\frac{\\partial}{\\partial x}H_{{\\rm bad}_{{\\rm conductor}_{f_{z}}}}\\left(x\\right) = -\\frac{i \\, {\\left(\\epsilon + \\frac{4 i \\, \\pi \\sigma}{\\omega}\\right)} \\omega E_{{\\rm bad}_{{\\rm conductor}_{y}}}\\left(x\\right)}{c}$"
      ],
      "text/plain": [
       "<IPython.core.display.Math object>"
      ]
     },
     "metadata": {},
     "output_type": "display_data"
    },
    {
     "name": "stdout",
     "output_type": "stream",
     "text": [
      "eq_rot_H_bad_conductor_y_subs_solve rot H = epsilon*d/dt(E_y) =\n"
     ]
    },
    {
     "data": {
      "text/latex": [
       "$\\displaystyle \\kappa E_{{\\rm bad}_{{\\rm conductor}_{y}}}\\left(x\\right) = \\frac{{\\left(i \\, \\sqrt{\\epsilon \\mu} c k_{z} H_{{\\rm bad}_{{\\rm conductor}_{f_{x}}}}\\left(x\\right) - \\sqrt{\\epsilon \\mu} c \\frac{\\partial}{\\partial x}H_{{\\rm bad}_{{\\rm conductor}_{f_{z}}}}\\left(x\\right)\\right)} \\kappa}{-i \\, c \\epsilon \\kappa + 4 \\, \\pi \\sqrt{\\epsilon \\mu} \\sigma}$"
      ],
      "text/plain": [
       "<IPython.core.display.Math object>"
      ]
     },
     "metadata": {},
     "output_type": "display_data"
    },
    {
     "name": "stdout",
     "output_type": "stream",
     "text": [
      "eq_rot_E_bad_conductor_x_subs (x) rot E =\n"
     ]
    },
    {
     "data": {
      "text/latex": [
       "$\\displaystyle \\kappa H_{{\\rm bad}_{{\\rm conductor}_{f_{x}}}}\\left(x\\right) = -\\frac{i \\, \\sqrt{\\epsilon \\mu} {\\left(-i \\, k_{z} E_{{\\rm bad}_{{\\rm conductor}_{y}}}\\left(x\\right) + i \\, k_{y} E_{{\\rm bad}_{{\\rm conductor}_{z}}}\\left(x\\right)\\right)}}{\\mu}$"
      ],
      "text/plain": [
       "<IPython.core.display.Math object>"
      ]
     },
     "metadata": {},
     "output_type": "display_data"
    },
    {
     "name": "stdout",
     "output_type": "stream",
     "text": [
      "eq_rot_H_bad_conductor_y_subs_solve_m =\n"
     ]
    },
    {
     "data": {
      "text/latex": [
       "$\\displaystyle -\\frac{i \\, c \\sqrt{\\epsilon} k_{z} \\kappa \\sqrt{\\mu} H_{{\\rm bad}_{{\\rm conductor}_{f_{x}}}}\\left(x\\right)}{-i \\, c \\epsilon \\kappa + 4 \\, \\pi \\sqrt{\\epsilon} \\sqrt{\\mu} \\sigma} + \\kappa E_{{\\rm bad}_{{\\rm conductor}_{y}}}\\left(x\\right) = -\\frac{c \\sqrt{\\epsilon} \\kappa \\sqrt{\\mu} \\frac{\\partial}{\\partial x}H_{{\\rm bad}_{{\\rm conductor}_{f_{z}}}}\\left(x\\right)}{-i \\, c \\epsilon \\kappa + 4 \\, \\pi \\sqrt{\\epsilon} \\sqrt{\\mu} \\sigma}$"
      ],
      "text/plain": [
       "<IPython.core.display.Math object>"
      ]
     },
     "metadata": {},
     "output_type": "display_data"
    },
    {
     "name": "stdout",
     "output_type": "stream",
     "text": [
      "eq_rot_E_bad_conductor_x_subs_m =\n"
     ]
    },
    {
     "data": {
      "text/latex": [
       "$\\displaystyle \\frac{\\sqrt{\\epsilon} k_{z} E_{{\\rm bad}_{{\\rm conductor}_{y}}}\\left(x\\right)}{\\sqrt{\\mu}} + \\kappa H_{{\\rm bad}_{{\\rm conductor}_{f_{x}}}}\\left(x\\right) = \\frac{\\sqrt{\\epsilon} k_{y} E_{{\\rm bad}_{{\\rm conductor}_{z}}}\\left(x\\right)}{\\sqrt{\\mu}}$"
      ],
      "text/plain": [
       "<IPython.core.display.Math object>"
      ]
     },
     "metadata": {},
     "output_type": "display_data"
    },
    {
     "name": "stdout",
     "output_type": "stream",
     "text": [
      "eq_3 =\n"
     ]
    },
    {
     "data": {
      "text/latex": [
       "$\\displaystyle \\frac{4 \\, {\\left(\\pi \\epsilon k_{z}^{2} - \\pi \\epsilon \\kappa^{2}\\right)} \\mu \\sigma E_{{\\rm bad}_{{\\rm conductor}_{y}}}\\left(x\\right) + {\\left(4 \\, \\pi k_{z} \\kappa \\mu \\sigma H_{{\\rm bad}_{{\\rm conductor}_{f_{x}}}}\\left(x\\right) + {\\left(-i \\, c \\epsilon k_{z}^{2} \\kappa + i \\, c \\epsilon \\kappa^{3}\\right)} E_{{\\rm bad}_{{\\rm conductor}_{y}}}\\left(x\\right)\\right)} \\sqrt{\\epsilon} \\sqrt{\\mu}}{i \\, c \\epsilon^{\\frac{3}{2}} \\kappa \\sqrt{\\mu} - 4 \\, \\pi \\epsilon \\mu \\sigma} = \\frac{i \\, c \\epsilon k_{y} k_{z} \\kappa E_{{\\rm bad}_{{\\rm conductor}_{z}}}\\left(x\\right) - {\\left(4 \\, \\pi k_{y} k_{z} \\sigma E_{{\\rm bad}_{{\\rm conductor}_{z}}}\\left(x\\right) + c \\kappa^{2} \\frac{\\partial}{\\partial x}H_{{\\rm bad}_{{\\rm conductor}_{f_{z}}}}\\left(x\\right)\\right)} \\sqrt{\\epsilon} \\sqrt{\\mu}}{-i \\, c \\epsilon \\kappa + 4 \\, \\pi \\sqrt{\\epsilon} \\sqrt{\\mu} \\sigma}$"
      ],
      "text/plain": [
       "<IPython.core.display.Math object>"
      ]
     },
     "metadata": {},
     "output_type": "display_data"
    },
    {
     "name": "stdout",
     "output_type": "stream",
     "text": [
      "eq_4 =\n"
     ]
    },
    {
     "data": {
      "text/latex": [
       "$\\displaystyle \\frac{4 \\, \\pi \\sqrt{\\epsilon} \\kappa^{2} \\mu^{\\frac{3}{2}} \\sigma H_{{\\rm bad}_{{\\rm conductor}_{f_{x}}}}\\left(x\\right) + {\\left(i \\, c \\epsilon k_{z}^{2} \\kappa - i \\, c \\epsilon \\kappa^{3}\\right)} \\mu H_{{\\rm bad}_{{\\rm conductor}_{f_{x}}}}\\left(x\\right)}{i \\, c \\epsilon^{\\frac{3}{2}} \\kappa \\sqrt{\\mu} - 4 \\, \\pi \\epsilon \\mu \\sigma} = \\frac{i \\, c \\epsilon k_{y} \\kappa^{2} E_{{\\rm bad}_{{\\rm conductor}_{z}}}\\left(x\\right) - {\\left(4 \\, \\pi k_{y} \\kappa \\sigma E_{{\\rm bad}_{{\\rm conductor}_{z}}}\\left(x\\right) + c k_{z} \\kappa \\frac{\\partial}{\\partial x}H_{{\\rm bad}_{{\\rm conductor}_{f_{z}}}}\\left(x\\right)\\right)} \\sqrt{\\epsilon} \\sqrt{\\mu}}{-i \\, c \\epsilon \\kappa + 4 \\, \\pi \\sqrt{\\epsilon} \\sqrt{\\mu} \\sigma}$"
      ],
      "text/plain": [
       "<IPython.core.display.Math object>"
      ]
     },
     "metadata": {},
     "output_type": "display_data"
    }
   ],
   "source": [
    "eq_rot_H_bad_conductor_y_subs       = eq_rot_H_bad_conductor_y.subs(omega==c*kappa/sqrt(epsilon*mu))\n",
    "print (\"eq_rot_H_bad_conductor_y rot_H = epsilon*d/dt(E_y) =\")\n",
    "#print(eq_rot_H_bad_conductor_y)\n",
    "display(Math(latex(eq_rot_H_bad_conductor_y)))\n",
    "\n",
    "eq_rot_H_bad_conductor_y_subs_solve = solve(eq_rot_H_bad_conductor_y_subs, E_bad_conductor_y(x))[0] * kappa\n",
    "print (\"eq_rot_H_bad_conductor_y_subs_solve rot H = epsilon*d/dt(E_y) =\")\n",
    "#print(eq_rot_H_bad_conductor_y_subs_solve)\n",
    "display(Math(latex(eq_rot_H_bad_conductor_y_subs_solve)))\n",
    "\n",
    "eq_rot_E_bad_conductor_x = H_bad_conductor_f_x(x) == H_bad_conductor_s_x(x)\n",
    "eq_rot_E_bad_conductor_x_subs = eq_rot_E_bad_conductor_x.subs(omega==c*kappa/sqrt(epsilon*mu)) * kappa\n",
    "print (\"eq_rot_E_bad_conductor_x_subs (x) rot E =\")\n",
    "#print             (eq_rot_E_bad_conductor_x_subs)\n",
    "display(Math(latex(eq_rot_E_bad_conductor_x_subs)))\n",
    "\n",
    "eq_rot_H_bad_conductor_y_subs_solve_m \\\n",
    "    =  eq_rot_H_bad_conductor_y_subs_solve.lhs() \\\n",
    "    -  eq_rot_H_bad_conductor_y_subs_solve.rhs().expand().operands()[0] \\\n",
    "    == eq_rot_H_bad_conductor_y_subs_solve.rhs().expand().operands()[1]\n",
    "print (\"eq_rot_H_bad_conductor_y_subs_solve_m =\")\n",
    "#print             (eq_rot_H_bad_conductor_y_subs_solve_m)\n",
    "display(Math(latex(eq_rot_H_bad_conductor_y_subs_solve_m)))\n",
    "\n",
    "eq_rot_E_bad_conductor_x_subs_m \\\n",
    "    =  eq_rot_E_bad_conductor_x_subs.lhs() \\\n",
    "    -  eq_rot_E_bad_conductor_x_subs.rhs().expand().operands()[0] \\\n",
    "    == eq_rot_E_bad_conductor_x_subs.rhs().expand().operands()[1]\n",
    "print (\"eq_rot_E_bad_conductor_x_subs_m =\")\n",
    "#print             (eq_rot_E_bad_conductor_x_subs_m)\n",
    "display(Math(latex(eq_rot_E_bad_conductor_x_subs_m)))\n",
    "\n",
    "m3 = k_z*sqrt(mu)/sqrt(epsilon)\n",
    "m4 = sqrt(mu)*kappa/sqrt(epsilon)\n",
    "\n",
    "eq_3 = (eq_rot_H_bad_conductor_y_subs_solve_m*kappa - eq_rot_E_bad_conductor_x_subs_m * m3).full_simplify()\n",
    "print (\"eq_3 =\")\n",
    "#print             (eq_3)\n",
    "display(Math(latex(eq_3)))\n",
    "\n",
    "eq_4 = (eq_rot_H_bad_conductor_y_subs_solve_m*k_z - eq_rot_E_bad_conductor_x_subs_m * m4).full_simplify()\n",
    "print (\"eq_4 =\")\n",
    "#print             (eq_4)\n",
    "display(Math(latex(eq_4)))"
   ]
  },
  {
   "cell_type": "code",
   "execution_count": 38,
   "metadata": {},
   "outputs": [
    {
     "name": "stdout",
     "output_type": "stream",
     "text": [
      "eq_rot_H_inner_vacuum_y rot H (E_x) =\n"
     ]
    },
    {
     "data": {
      "text/latex": [
       "$\\displaystyle -i \\, k_{z} H_{{\\rm inner}_{{\\rm vacuum}_{f_{y}}}}\\left(x\\right) + i \\, k_{y} H_{{\\rm inner}_{{\\rm vacuum}_{f_{z}}}}\\left(x\\right) = -\\frac{i \\, \\omega E_{{\\rm inner}_{{\\rm vacuum}_{x}}}\\left(x\\right)}{c}$"
      ],
      "text/plain": [
       "<IPython.core.display.Math object>"
      ]
     },
     "metadata": {},
     "output_type": "display_data"
    },
    {
     "name": "stdout",
     "output_type": "stream",
     "text": [
      "eq_rot_H_inner_vacuum_x_subs_solve rot H (E_x) =\n"
     ]
    },
    {
     "data": {
      "text/latex": [
       "$\\displaystyle \\kappa_{\\mathit{vacuum}} E_{{\\rm inner}_{{\\rm vacuum}_{x}}}\\left(x\\right) = k_{z} H_{{\\rm inner}_{{\\rm vacuum}_{f_{y}}}}\\left(x\\right) - k_{y} H_{{\\rm inner}_{{\\rm vacuum}_{f_{z}}}}\\left(x\\right)$"
      ],
      "text/plain": [
       "<IPython.core.display.Math object>"
      ]
     },
     "metadata": {},
     "output_type": "display_data"
    },
    {
     "name": "stdout",
     "output_type": "stream",
     "text": [
      "eq_rot_E_inner_vacuum_y_subs (x) rot E =\n"
     ]
    },
    {
     "data": {
      "text/latex": [
       "$\\displaystyle \\kappa_{\\mathit{vacuum}} H_{{\\rm inner}_{{\\rm vacuum}_{f_{y}}}}\\left(x\\right) = k_{z} E_{{\\rm inner}_{{\\rm vacuum}_{x}}}\\left(x\\right) + i \\, \\frac{\\partial}{\\partial x}E_{{\\rm inner}_{{\\rm vacuum}_{z}}}\\left(x\\right)$"
      ],
      "text/plain": [
       "<IPython.core.display.Math object>"
      ]
     },
     "metadata": {},
     "output_type": "display_data"
    },
    {
     "name": "stdout",
     "output_type": "stream",
     "text": [
      "eq_rot_H_inner_vacuum_x_subs_solve_m =\n"
     ]
    },
    {
     "data": {
      "text/latex": [
       "$\\displaystyle \\kappa_{\\mathit{vacuum}} E_{{\\rm inner}_{{\\rm vacuum}_{x}}}\\left(x\\right) - k_{z} H_{{\\rm inner}_{{\\rm vacuum}_{f_{y}}}}\\left(x\\right) = -k_{y} H_{{\\rm inner}_{{\\rm vacuum}_{f_{z}}}}\\left(x\\right)$"
      ],
      "text/plain": [
       "<IPython.core.display.Math object>"
      ]
     },
     "metadata": {},
     "output_type": "display_data"
    },
    {
     "name": "stdout",
     "output_type": "stream",
     "text": [
      "eq_rot_E_inner_vacuum_y_subs_m =\n"
     ]
    },
    {
     "data": {
      "text/latex": [
       "$\\displaystyle -k_{z} E_{{\\rm inner}_{{\\rm vacuum}_{x}}}\\left(x\\right) + \\kappa_{\\mathit{vacuum}} H_{{\\rm inner}_{{\\rm vacuum}_{f_{y}}}}\\left(x\\right) = i \\, \\frac{\\partial}{\\partial x}E_{{\\rm inner}_{{\\rm vacuum}_{z}}}\\left(x\\right)$"
      ],
      "text/plain": [
       "<IPython.core.display.Math object>"
      ]
     },
     "metadata": {},
     "output_type": "display_data"
    },
    {
     "name": "stdout",
     "output_type": "stream",
     "text": [
      "eq_5 =\n"
     ]
    },
    {
     "data": {
      "text/latex": [
       "$\\displaystyle -{\\left(k_{z}^{2} - \\kappa_{\\mathit{vacuum}}^{2}\\right)} E_{{\\rm inner}_{{\\rm vacuum}_{x}}}\\left(x\\right) = -k_{y} \\kappa_{\\mathit{vacuum}} H_{{\\rm inner}_{{\\rm vacuum}_{f_{z}}}}\\left(x\\right) + i \\, k_{z} \\frac{\\partial}{\\partial x}E_{{\\rm inner}_{{\\rm vacuum}_{z}}}\\left(x\\right)$"
      ],
      "text/plain": [
       "<IPython.core.display.Math object>"
      ]
     },
     "metadata": {},
     "output_type": "display_data"
    },
    {
     "name": "stdout",
     "output_type": "stream",
     "text": [
      "eq_6 =\n"
     ]
    },
    {
     "data": {
      "text/latex": [
       "$\\displaystyle -{\\left(k_{z}^{2} - \\kappa_{\\mathit{vacuum}}^{2}\\right)} H_{{\\rm inner}_{{\\rm vacuum}_{f_{y}}}}\\left(x\\right) = -k_{y} k_{z} H_{{\\rm inner}_{{\\rm vacuum}_{f_{z}}}}\\left(x\\right) + i \\, \\kappa_{\\mathit{vacuum}} \\frac{\\partial}{\\partial x}E_{{\\rm inner}_{{\\rm vacuum}_{z}}}\\left(x\\right)$"
      ],
      "text/plain": [
       "<IPython.core.display.Math object>"
      ]
     },
     "metadata": {},
     "output_type": "display_data"
    }
   ],
   "source": [
    "eq_rot_H_inner_vacuum_x_subs       = eq_rot_H_inner_vacuum_x.subs(omega==c*kappa_vacuum/sqrt(epsilon_0*mu_0))\n",
    "print (\"eq_rot_H_inner_vacuum_y rot H (E_x) =\")\n",
    "#print(eq_rot_H_inner_vacuum_x)\n",
    "display(Math(latex(eq_rot_H_inner_vacuum_x)))\n",
    "\n",
    "eq_rot_H_inner_vacuum_x_subs_solve = solve(eq_rot_H_inner_vacuum_x_subs, E_inner_vacuum_x(x))[0] * kappa_vacuum\n",
    "print (\"eq_rot_H_inner_vacuum_x_subs_solve rot H (E_x) =\")\n",
    "#print(eq_rot_H_inner_vacuum_x_subs_solve)\n",
    "display(Math(latex(eq_rot_H_inner_vacuum_x_subs_solve)))\n",
    "\n",
    "eq_rot_E_inner_vacuum_y = H_inner_vacuum_f_y(x) == H_inner_vacuum_s_y(x)\n",
    "eq_rot_E_inner_vacuum_y_subs = eq_rot_E_inner_vacuum_y.subs(omega==c*kappa_vacuum/sqrt(epsilon_0*mu_0)) * kappa_vacuum\n",
    "print (\"eq_rot_E_inner_vacuum_y_subs (x) rot E =\")\n",
    "#print             (eq_rot_E_inner_vacuum_y_subs)\n",
    "display(Math(latex(eq_rot_E_inner_vacuum_y_subs)))\n",
    "\n",
    "eq_rot_H_inner_vacuum_x_subs_solve_m \\\n",
    "    =  eq_rot_H_inner_vacuum_x_subs_solve.lhs() \\\n",
    "    -  eq_rot_H_inner_vacuum_x_subs_solve.rhs().expand().operands()[0] \\\n",
    "    == eq_rot_H_inner_vacuum_x_subs_solve.rhs().expand().operands()[1]\n",
    "print (\"eq_rot_H_inner_vacuum_x_subs_solve_m =\")\n",
    "#print             (eq_rot_H_inner_vacuum_x_subs_solve_m)\n",
    "display(Math(latex(eq_rot_H_inner_vacuum_x_subs_solve_m)))\n",
    "\n",
    "eq_rot_E_inner_vacuum_y_subs_m \\\n",
    "    =  eq_rot_E_inner_vacuum_y_subs.lhs() \\\n",
    "    -  eq_rot_E_inner_vacuum_y_subs.rhs().expand().operands()[0] \\\n",
    "    == eq_rot_E_inner_vacuum_y_subs.rhs().expand().operands()[1]\n",
    "print (\"eq_rot_E_inner_vacuum_y_subs_m =\")\n",
    "#print             (eq_rot_E_inner_vacuum_y_subs_m)\n",
    "display(Math(latex(eq_rot_E_inner_vacuum_y_subs_m)))\n",
    "\n",
    "eq_5 = (eq_rot_H_inner_vacuum_x_subs_solve_m*kappa_vacuum + eq_rot_E_inner_vacuum_y_subs_m*k_z).full_simplify()\n",
    "print (\"eq_5 =\")\n",
    "#print             (eq_5)\n",
    "display(Math(latex(eq_5)))\n",
    "\n",
    "eq_6 = (eq_rot_H_inner_vacuum_x_subs_solve_m*k_z + eq_rot_E_inner_vacuum_y_subs_m*kappa_vacuum).full_simplify()\n",
    "print (\"eq_6 =\")\n",
    "#print             (eq_6)\n",
    "display(Math(latex(eq_6)))"
   ]
  },
  {
   "cell_type": "code",
   "execution_count": 39,
   "metadata": {},
   "outputs": [
    {
     "name": "stdout",
     "output_type": "stream",
     "text": [
      "eq_rot_H_bad_conductor_x rot_H = epsilon*d/dt(E_x) =\n"
     ]
    },
    {
     "data": {
      "text/latex": [
       "$\\displaystyle -i \\, k_{z} H_{{\\rm bad}_{{\\rm conductor}_{f_{y}}}}\\left(x\\right) + i \\, k_{y} H_{{\\rm bad}_{{\\rm conductor}_{f_{z}}}}\\left(x\\right) = -\\frac{i \\, {\\left(\\epsilon + \\frac{4 i \\, \\pi \\sigma}{\\omega}\\right)} \\omega E_{{\\rm bad}_{{\\rm conductor}_{x}}}\\left(x\\right)}{c}$"
      ],
      "text/plain": [
       "<IPython.core.display.Math object>"
      ]
     },
     "metadata": {},
     "output_type": "display_data"
    },
    {
     "name": "stdout",
     "output_type": "stream",
     "text": [
      "eq_rot_H_bad_conductor_x_subs rot_H = epsilon*d/dt(E_x) =\n"
     ]
    },
    {
     "data": {
      "text/latex": [
       "$\\displaystyle -i \\, k_{z} H_{{\\rm bad}_{{\\rm conductor}_{f_{y}}}}\\left(x\\right) + i \\, k_{y} H_{{\\rm bad}_{{\\rm conductor}_{f_{z}}}}\\left(x\\right) = -\\frac{i \\, {\\left(\\epsilon + \\frac{4 i \\, \\pi \\sqrt{\\epsilon \\mu} \\sigma}{c \\kappa}\\right)} \\kappa E_{{\\rm bad}_{{\\rm conductor}_{x}}}\\left(x\\right)}{\\sqrt{\\epsilon \\mu}}$"
      ],
      "text/plain": [
       "<IPython.core.display.Math object>"
      ]
     },
     "metadata": {},
     "output_type": "display_data"
    },
    {
     "name": "stdout",
     "output_type": "stream",
     "text": [
      "eq_rot_H_bad_conductor_x_subs_solve rot H = epsilon*d/dt(E_x) =\n"
     ]
    },
    {
     "data": {
      "text/latex": [
       "$\\displaystyle \\kappa E_{{\\rm bad}_{{\\rm conductor}_{x}}}\\left(x\\right) = \\frac{{\\left(\\sqrt{\\epsilon \\mu} c k_{z} H_{{\\rm bad}_{{\\rm conductor}_{f_{y}}}}\\left(x\\right) - \\sqrt{\\epsilon \\mu} c k_{y} H_{{\\rm bad}_{{\\rm conductor}_{f_{z}}}}\\left(x\\right)\\right)} \\kappa}{c \\epsilon \\kappa + 4 i \\, \\pi \\sqrt{\\epsilon \\mu} \\sigma}$"
      ],
      "text/plain": [
       "<IPython.core.display.Math object>"
      ]
     },
     "metadata": {},
     "output_type": "display_data"
    },
    {
     "name": "stdout",
     "output_type": "stream",
     "text": [
      "eq_rot_E_bad_conductor_y_subs (x) rot E =\n"
     ]
    },
    {
     "data": {
      "text/latex": [
       "$\\displaystyle \\kappa H_{{\\rm bad}_{{\\rm conductor}_{f_{y}}}}\\left(x\\right) = -\\frac{i \\, \\sqrt{\\epsilon \\mu} {\\left(i \\, k_{z} E_{{\\rm bad}_{{\\rm conductor}_{x}}}\\left(x\\right) - \\frac{\\partial}{\\partial x}E_{{\\rm bad}_{{\\rm conductor}_{z}}}\\left(x\\right)\\right)}}{\\mu}$"
      ],
      "text/plain": [
       "<IPython.core.display.Math object>"
      ]
     },
     "metadata": {},
     "output_type": "display_data"
    },
    {
     "name": "stdout",
     "output_type": "stream",
     "text": [
      "eq_rot_H_bad_conductor_x_subs_solve_m =\n"
     ]
    },
    {
     "data": {
      "text/latex": [
       "$\\displaystyle -\\frac{c \\sqrt{\\epsilon} k_{z} \\kappa \\sqrt{\\mu} H_{{\\rm bad}_{{\\rm conductor}_{f_{y}}}}\\left(x\\right)}{c \\epsilon \\kappa + 4 i \\, \\pi \\sqrt{\\epsilon} \\sqrt{\\mu} \\sigma} + \\kappa E_{{\\rm bad}_{{\\rm conductor}_{x}}}\\left(x\\right) = -\\frac{c \\sqrt{\\epsilon} k_{y} \\kappa \\sqrt{\\mu} H_{{\\rm bad}_{{\\rm conductor}_{f_{z}}}}\\left(x\\right)}{c \\epsilon \\kappa + 4 i \\, \\pi \\sqrt{\\epsilon} \\sqrt{\\mu} \\sigma}$"
      ],
      "text/plain": [
       "<IPython.core.display.Math object>"
      ]
     },
     "metadata": {},
     "output_type": "display_data"
    },
    {
     "name": "stdout",
     "output_type": "stream",
     "text": [
      "eq_rot_E_bad_conductor_y_subs_m =\n"
     ]
    },
    {
     "data": {
      "text/latex": [
       "$\\displaystyle -\\frac{\\sqrt{\\epsilon} k_{z} E_{{\\rm bad}_{{\\rm conductor}_{x}}}\\left(x\\right)}{\\sqrt{\\mu}} + \\kappa H_{{\\rm bad}_{{\\rm conductor}_{f_{y}}}}\\left(x\\right) = \\frac{i \\, \\sqrt{\\epsilon} \\frac{\\partial}{\\partial x}E_{{\\rm bad}_{{\\rm conductor}_{z}}}\\left(x\\right)}{\\sqrt{\\mu}}$"
      ],
      "text/plain": [
       "<IPython.core.display.Math object>"
      ]
     },
     "metadata": {},
     "output_type": "display_data"
    },
    {
     "name": "stdout",
     "output_type": "stream",
     "text": [
      "eq_7 =\n"
     ]
    },
    {
     "data": {
      "text/latex": [
       "$\\displaystyle \\frac{4 \\, {\\left(-i \\, \\pi \\epsilon k_{z}^{2} + i \\, \\pi \\epsilon \\kappa^{2}\\right)} \\mu \\sigma E_{{\\rm bad}_{{\\rm conductor}_{x}}}\\left(x\\right) + {\\left(4 i \\, \\pi k_{z} \\kappa \\mu \\sigma H_{{\\rm bad}_{{\\rm conductor}_{f_{y}}}}\\left(x\\right) - {\\left(c \\epsilon k_{z}^{2} \\kappa - c \\epsilon \\kappa^{3}\\right)} E_{{\\rm bad}_{{\\rm conductor}_{x}}}\\left(x\\right)\\right)} \\sqrt{\\epsilon} \\sqrt{\\mu}}{c \\epsilon^{\\frac{3}{2}} \\kappa \\sqrt{\\mu} + 4 i \\, \\pi \\epsilon \\mu \\sigma} = \\frac{i \\, c \\epsilon k_{z} \\kappa \\frac{\\partial}{\\partial x}E_{{\\rm bad}_{{\\rm conductor}_{z}}}\\left(x\\right) - {\\left(c k_{y} \\kappa^{2} H_{{\\rm bad}_{{\\rm conductor}_{f_{z}}}}\\left(x\\right) + 4 \\, \\pi k_{z} \\sigma \\frac{\\partial}{\\partial x}E_{{\\rm bad}_{{\\rm conductor}_{z}}}\\left(x\\right)\\right)} \\sqrt{\\epsilon} \\sqrt{\\mu}}{c \\epsilon \\kappa + 4 i \\, \\pi \\sqrt{\\epsilon} \\sqrt{\\mu} \\sigma}$"
      ],
      "text/plain": [
       "<IPython.core.display.Math object>"
      ]
     },
     "metadata": {},
     "output_type": "display_data"
    },
    {
     "name": "stdout",
     "output_type": "stream",
     "text": [
      "eq_8 =\n"
     ]
    },
    {
     "data": {
      "text/latex": [
       "$\\displaystyle \\frac{4 i \\, \\pi \\sqrt{\\epsilon} \\kappa^{2} \\mu^{\\frac{3}{2}} \\sigma H_{{\\rm bad}_{{\\rm conductor}_{f_{y}}}}\\left(x\\right) - {\\left(c \\epsilon k_{z}^{2} \\kappa - c \\epsilon \\kappa^{3}\\right)} \\mu H_{{\\rm bad}_{{\\rm conductor}_{f_{y}}}}\\left(x\\right)}{c \\epsilon^{\\frac{3}{2}} \\kappa \\sqrt{\\mu} + 4 i \\, \\pi \\epsilon \\mu \\sigma} = \\frac{i \\, c \\epsilon \\kappa^{2} \\frac{\\partial}{\\partial x}E_{{\\rm bad}_{{\\rm conductor}_{z}}}\\left(x\\right) - {\\left(c k_{y} k_{z} \\kappa H_{{\\rm bad}_{{\\rm conductor}_{f_{z}}}}\\left(x\\right) + 4 \\, \\pi \\kappa \\sigma \\frac{\\partial}{\\partial x}E_{{\\rm bad}_{{\\rm conductor}_{z}}}\\left(x\\right)\\right)} \\sqrt{\\epsilon} \\sqrt{\\mu}}{c \\epsilon \\kappa + 4 i \\, \\pi \\sqrt{\\epsilon} \\sqrt{\\mu} \\sigma}$"
      ],
      "text/plain": [
       "<IPython.core.display.Math object>"
      ]
     },
     "metadata": {},
     "output_type": "display_data"
    }
   ],
   "source": [
    "eq_rot_H_bad_conductor_x_subs       = eq_rot_H_bad_conductor_x.subs(omega==c*kappa/sqrt(epsilon*mu))\n",
    "print (\"eq_rot_H_bad_conductor_x rot_H = epsilon*d/dt(E_x) =\")\n",
    "#print(eq_rot_H_bad_conductor_x)\n",
    "display(Math(latex(eq_rot_H_bad_conductor_x)))\n",
    "\n",
    "print (\"eq_rot_H_bad_conductor_x_subs rot_H = epsilon*d/dt(E_x) =\")\n",
    "#print(eq_rot_H_bad_conductor_x_subs)\n",
    "display(Math(latex(eq_rot_H_bad_conductor_x_subs)))\n",
    "\n",
    "\n",
    "eq_rot_H_bad_conductor_x_subs_solve = solve(eq_rot_H_bad_conductor_x_subs, E_bad_conductor_x(x))[0] * kappa\n",
    "print (\"eq_rot_H_bad_conductor_x_subs_solve rot H = epsilon*d/dt(E_x) =\")\n",
    "#print(eq_rot_H_bad_conductor_x_subs_solve)\n",
    "display(Math(latex(eq_rot_H_bad_conductor_x_subs_solve)))\n",
    "\n",
    "eq_rot_E_bad_conductor_y = H_bad_conductor_f_y(x) == H_bad_conductor_s_y(x)\n",
    "eq_rot_E_bad_conductor_y_subs = eq_rot_E_bad_conductor_y.subs(omega==c*kappa/sqrt(epsilon*mu)) * kappa\n",
    "print (\"eq_rot_E_bad_conductor_y_subs (x) rot E =\")\n",
    "#print             (eq_rot_E_bad_conductor_y_subs)\n",
    "display(Math(latex(eq_rot_E_bad_conductor_y_subs)))\n",
    "\n",
    "eq_rot_H_bad_conductor_x_subs_solve_m \\\n",
    "    =  eq_rot_H_bad_conductor_x_subs_solve.lhs() \\\n",
    "    -  eq_rot_H_bad_conductor_x_subs_solve.rhs().expand().operands()[0] \\\n",
    "    == eq_rot_H_bad_conductor_x_subs_solve.rhs().expand().operands()[1]\n",
    "print (\"eq_rot_H_bad_conductor_x_subs_solve_m =\")\n",
    "#print             (eq_rot_H_bad_conductor_x_subs_solve_m)\n",
    "display(Math(latex(eq_rot_H_bad_conductor_x_subs_solve_m)))\n",
    "\n",
    "eq_rot_E_bad_conductor_y_subs_m \\\n",
    "    =  eq_rot_E_bad_conductor_y_subs.lhs() \\\n",
    "    -  eq_rot_E_bad_conductor_y_subs.rhs().expand().operands()[0] \\\n",
    "    == eq_rot_E_bad_conductor_y_subs.rhs().expand().operands()[1]\n",
    "print (\"eq_rot_E_bad_conductor_y_subs_m =\")\n",
    "#print             (eq_rot_E_bad_conductor_y_subs_m)\n",
    "display(Math(latex(eq_rot_E_bad_conductor_y_subs_m)))\n",
    "\n",
    "m3 = k_z*sqrt(mu)/sqrt(epsilon)\n",
    "m4 = sqrt(mu)*kappa/sqrt(epsilon)\n",
    "\n",
    "eq_7 = (eq_rot_H_bad_conductor_x_subs_solve_m*kappa + eq_rot_E_bad_conductor_y_subs_m * m3).full_simplify()\n",
    "print (\"eq_7 =\")\n",
    "#print             (eq_7)\n",
    "display(Math(latex(eq_7)))\n",
    "\n",
    "eq_8 = (eq_rot_H_bad_conductor_x_subs_solve_m*k_z + eq_rot_E_bad_conductor_y_subs_m * m4).full_simplify()\n",
    "print (\"eq_8 =\")\n",
    "#print             (eq_8)\n",
    "display(Math(latex(eq_8)))"
   ]
  },
  {
   "cell_type": "code",
   "execution_count": null,
   "metadata": {},
   "outputs": [],
   "source": []
  },
  {
   "cell_type": "code",
   "execution_count": 40,
   "metadata": {},
   "outputs": [],
   "source": [
    "K_vacuum_subs = K_vacuum == sqrt(kappa_vacuum^2-k_z^2)\n",
    "K_conductor_subs = K_conductor == sqrt(kappa^2-k_z^2)"
   ]
  },
  {
   "cell_type": "code",
   "execution_count": null,
   "metadata": {},
   "outputs": [],
   "source": []
  },
  {
   "cell_type": "code",
   "execution_count": 41,
   "metadata": {},
   "outputs": [
    {
     "name": "stdout",
     "output_type": "stream",
     "text": [
      "eq_1 =\n"
     ]
    },
    {
     "data": {
      "text/latex": [
       "$\\displaystyle -{\\left(k_{z}^{2} - \\kappa_{\\mathit{vacuum}}^{2}\\right)} E_{{\\rm inner}_{{\\rm vacuum}_{y}}}\\left(x\\right) = -k_{y} k_{z} E_{{\\rm inner}_{{\\rm vacuum}_{z}}}\\left(x\\right) - i \\, \\kappa_{\\mathit{vacuum}} \\frac{\\partial}{\\partial x}H_{{\\rm inner}_{{\\rm vacuum}_{f_{z}}}}\\left(x\\right)$"
      ],
      "text/plain": [
       "<IPython.core.display.Math object>"
      ]
     },
     "metadata": {},
     "output_type": "display_data"
    },
    {
     "name": "stdout",
     "output_type": "stream",
     "text": [
      "eq_2 =\n"
     ]
    },
    {
     "data": {
      "text/latex": [
       "$\\displaystyle {\\left(k_{z}^{2} - \\kappa_{\\mathit{vacuum}}^{2}\\right)} H_{{\\rm inner}_{{\\rm vacuum}_{f_{x}}}}\\left(x\\right) = -k_{y} \\kappa_{\\mathit{vacuum}} E_{{\\rm inner}_{{\\rm vacuum}_{z}}}\\left(x\\right) - i \\, k_{z} \\frac{\\partial}{\\partial x}H_{{\\rm inner}_{{\\rm vacuum}_{f_{z}}}}\\left(x\\right)$"
      ],
      "text/plain": [
       "<IPython.core.display.Math object>"
      ]
     },
     "metadata": {},
     "output_type": "display_data"
    }
   ],
   "source": [
    "print (\"eq_1 =\")\n",
    "#print             (eq_1)\n",
    "display(Math(latex(eq_1)))\n",
    "\n",
    "print (\"eq_2 =\")\n",
    "#print             (eq_2)\n",
    "display(Math(latex(eq_2)))\n"
   ]
  },
  {
   "cell_type": "raw",
   "metadata": {},
   "source": [
    "print (\"eq_3 =\")\n",
    "print             (eq_3)\n",
    "display(Math(latex(eq_3)))\n",
    "\n",
    "print (\"eq_4 =\")\n",
    "print             (eq_4)\n",
    "display(Math(latex(eq_4)))"
   ]
  },
  {
   "cell_type": "code",
   "execution_count": 42,
   "metadata": {},
   "outputs": [
    {
     "name": "stdout",
     "output_type": "stream",
     "text": [
      "eq_1 =\n"
     ]
    },
    {
     "data": {
      "text/latex": [
       "$\\displaystyle -{\\left(k_{z}^{2} - \\kappa_{\\mathit{vacuum}}^{2}\\right)} E_{{\\rm inner}_{{\\rm vacuum}_{y}}}\\left(x\\right) = -k_{y} k_{z} E_{{\\rm inner}_{{\\rm vacuum}_{z}}}\\left(x\\right) - i \\, \\kappa_{\\mathit{vacuum}} \\frac{\\partial}{\\partial x}H_{{\\rm inner}_{{\\rm vacuum}_{f_{z}}}}\\left(x\\right)$"
      ],
      "text/plain": [
       "<IPython.core.display.Math object>"
      ]
     },
     "metadata": {},
     "output_type": "display_data"
    }
   ],
   "source": [
    "print (\"eq_1 =\")\n",
    "#print             (eq_1)\n",
    "display(Math(latex(eq_1)))"
   ]
  },
  {
   "cell_type": "code",
   "execution_count": 43,
   "metadata": {
    "scrolled": true
   },
   "outputs": [
    {
     "data": {
      "text/latex": [
       "$\\displaystyle -{\\left(k_{z}^{2} - \\kappa_{\\mathit{vacuum}}^{2}\\right)} E_{{\\rm inner}_{{\\rm vacuum}_{y}}}\\left(x\\right) = -i \\, \\kappa_{\\mathit{vacuum}} \\frac{\\partial}{\\partial x}H_{{\\rm inner}_{{\\rm vacuum}_{f_{z}}}}\\left(x\\right)$"
      ],
      "text/plain": [
       "<IPython.core.display.Math object>"
      ]
     },
     "metadata": {},
     "output_type": "display_data"
    }
   ],
   "source": [
    "eq_1_subs1 = eq_1.subs(k_y == 0)\n",
    "#print             (eq_1_subs1)\n",
    "display(Math(latex(eq_1_subs1)))"
   ]
  },
  {
   "cell_type": "code",
   "execution_count": 44,
   "metadata": {
    "scrolled": true
   },
   "outputs": [
    {
     "data": {
      "text/latex": [
       "$\\displaystyle E_{{\\rm inner}_{{\\rm vacuum}_{y}}}\\left(x\\right) = \\frac{i \\, \\kappa_{\\mathit{vacuum}} \\frac{\\partial}{\\partial x}H_{{\\rm inner}_{{\\rm vacuum}_{f_{z}}}}\\left(x\\right)}{k_{z}^{2} - \\kappa_{\\mathit{vacuum}}^{2}}$"
      ],
      "text/plain": [
       "<IPython.core.display.Math object>"
      ]
     },
     "metadata": {},
     "output_type": "display_data"
    }
   ],
   "source": [
    "eq_1_subs2 = (eq_1_subs1/(kappa_vacuum^2 - k_z^2)).full_simplify()\n",
    "#print             (eq_1_subs2)\n",
    "display(Math(latex(eq_1_subs2)))"
   ]
  },
  {
   "cell_type": "code",
   "execution_count": 45,
   "metadata": {
    "scrolled": true
   },
   "outputs": [
    {
     "data": {
      "text/latex": [
       "$\\displaystyle E_{{\\rm inner}_{{\\rm vacuum}_{y}}}\\left(x\\right) = -\\frac{{\\left(\\mathit{A2}_{y} K_{\\mathit{vacuum}}^{2} e^{\\left(i \\, K_{\\mathit{vacuum}} x\\right)} + \\mathit{A1}_{y} K_{\\mathit{vacuum}}^{2} e^{\\left(-i \\, K_{\\mathit{vacuum}} x\\right)} + i \\, {\\left(i \\, \\mathit{A2}_{x} K_{\\mathit{vacuum}} e^{\\left(i \\, K_{\\mathit{vacuum}} x\\right)} - i \\, \\mathit{A1}_{x} K_{\\mathit{vacuum}} e^{\\left(-i \\, K_{\\mathit{vacuum}} x\\right)}\\right)} k_{y}\\right)} c \\kappa_{\\mathit{vacuum}}}{{\\left(k_{z}^{2} - \\kappa_{\\mathit{vacuum}}^{2}\\right)} \\omega}$"
      ],
      "text/plain": [
       "<IPython.core.display.Math object>"
      ]
     },
     "metadata": {},
     "output_type": "display_data"
    }
   ],
   "source": [
    "eq_1_subs3 = eq_1_subs2.substitute_function(H_inner_vacuum_f_z, H_inner_vacuum_sol_z)\n",
    "#print             (eq_1_subs3)\n",
    "display(Math(latex(eq_1_subs3)))"
   ]
  },
  {
   "cell_type": "code",
   "execution_count": 46,
   "metadata": {},
   "outputs": [
    {
     "data": {
      "text/latex": [
       "$\\displaystyle E_{{\\rm inner}_{{\\rm vacuum}_{y}}}\\left(x\\right) = -\\frac{\\mathit{A2}_{y} K_{\\mathit{vacuum}}^{2} e^{\\left(i \\, K_{\\mathit{vacuum}} x\\right)} + \\mathit{A1}_{y} K_{\\mathit{vacuum}}^{2} e^{\\left(-i \\, K_{\\mathit{vacuum}} x\\right)} + i \\, {\\left(i \\, \\mathit{A2}_{x} K_{\\mathit{vacuum}} e^{\\left(i \\, K_{\\mathit{vacuum}} x\\right)} - i \\, \\mathit{A1}_{x} K_{\\mathit{vacuum}} e^{\\left(-i \\, K_{\\mathit{vacuum}} x\\right)}\\right)} k_{y}}{k_{z}^{2} - \\kappa_{\\mathit{vacuum}}^{2}}$"
      ],
      "text/plain": [
       "<IPython.core.display.Math object>"
      ]
     },
     "metadata": {},
     "output_type": "display_data"
    }
   ],
   "source": [
    "eq_1_subs4 = eq_1_subs3.subs(omega==c*kappa_vacuum/sqrt(epsilon_0*mu_0))\n",
    "#print             (eq_1_subs4)\n",
    "display(Math(latex(eq_1_subs4)))"
   ]
  },
  {
   "cell_type": "code",
   "execution_count": null,
   "metadata": {},
   "outputs": [],
   "source": []
  },
  {
   "cell_type": "code",
   "execution_count": 47,
   "metadata": {},
   "outputs": [
    {
     "name": "stdout",
     "output_type": "stream",
     "text": [
      "eq_2 =\n"
     ]
    },
    {
     "data": {
      "text/latex": [
       "$\\displaystyle {\\left(k_{z}^{2} - \\kappa_{\\mathit{vacuum}}^{2}\\right)} H_{{\\rm inner}_{{\\rm vacuum}_{f_{x}}}}\\left(x\\right) = -k_{y} \\kappa_{\\mathit{vacuum}} E_{{\\rm inner}_{{\\rm vacuum}_{z}}}\\left(x\\right) - i \\, k_{z} \\frac{\\partial}{\\partial x}H_{{\\rm inner}_{{\\rm vacuum}_{f_{z}}}}\\left(x\\right)$"
      ],
      "text/plain": [
       "<IPython.core.display.Math object>"
      ]
     },
     "metadata": {},
     "output_type": "display_data"
    }
   ],
   "source": [
    "print (\"eq_2 =\")\n",
    "#print             (eq_2)\n",
    "display(Math(latex(eq_2)))"
   ]
  },
  {
   "cell_type": "code",
   "execution_count": 48,
   "metadata": {
    "scrolled": true
   },
   "outputs": [
    {
     "data": {
      "text/latex": [
       "$\\displaystyle {\\left(k_{z}^{2} - \\kappa_{\\mathit{vacuum}}^{2}\\right)} H_{{\\rm inner}_{{\\rm vacuum}_{f_{x}}}}\\left(x\\right) = -i \\, k_{z} \\frac{\\partial}{\\partial x}H_{{\\rm inner}_{{\\rm vacuum}_{f_{z}}}}\\left(x\\right)$"
      ],
      "text/plain": [
       "<IPython.core.display.Math object>"
      ]
     },
     "metadata": {},
     "output_type": "display_data"
    }
   ],
   "source": [
    "eq_2_subs1 = eq_2.subs(k_y == 0)\n",
    "#print             (eq_2_subs1)\n",
    "display(Math(latex(eq_2_subs1)))"
   ]
  },
  {
   "cell_type": "code",
   "execution_count": 49,
   "metadata": {
    "scrolled": true
   },
   "outputs": [
    {
     "data": {
      "text/latex": [
       "$\\displaystyle -H_{{\\rm inner}_{{\\rm vacuum}_{f_{x}}}}\\left(x\\right) = \\frac{i \\, k_{z} \\frac{\\partial}{\\partial x}H_{{\\rm inner}_{{\\rm vacuum}_{f_{z}}}}\\left(x\\right)}{k_{z}^{2} - \\kappa_{\\mathit{vacuum}}^{2}}$"
      ],
      "text/plain": [
       "<IPython.core.display.Math object>"
      ]
     },
     "metadata": {},
     "output_type": "display_data"
    }
   ],
   "source": [
    "eq_2_subs2 = (eq_2_subs1/(kappa_vacuum^2 - k_z^2)).full_simplify()\n",
    "#print             (eq_2_subs2)\n",
    "display(Math(latex(eq_2_subs2)))"
   ]
  },
  {
   "cell_type": "code",
   "execution_count": 50,
   "metadata": {
    "scrolled": true
   },
   "outputs": [
    {
     "data": {
      "text/latex": [
       "$\\displaystyle -H_{{\\rm inner}_{{\\rm vacuum}_{f_{x}}}}\\left(x\\right) = -\\frac{{\\left(\\mathit{A2}_{y} K_{\\mathit{vacuum}}^{2} e^{\\left(i \\, K_{\\mathit{vacuum}} x\\right)} + \\mathit{A1}_{y} K_{\\mathit{vacuum}}^{2} e^{\\left(-i \\, K_{\\mathit{vacuum}} x\\right)} + i \\, {\\left(i \\, \\mathit{A2}_{x} K_{\\mathit{vacuum}} e^{\\left(i \\, K_{\\mathit{vacuum}} x\\right)} - i \\, \\mathit{A1}_{x} K_{\\mathit{vacuum}} e^{\\left(-i \\, K_{\\mathit{vacuum}} x\\right)}\\right)} k_{y}\\right)} c k_{z}}{{\\left(k_{z}^{2} - \\kappa_{\\mathit{vacuum}}^{2}\\right)} \\omega}$"
      ],
      "text/plain": [
       "<IPython.core.display.Math object>"
      ]
     },
     "metadata": {},
     "output_type": "display_data"
    }
   ],
   "source": [
    "eq_2_subs3 = eq_2_subs2.substitute_function(H_inner_vacuum_f_z, H_inner_vacuum_sol_z)\n",
    "#print             (eq_2_subs3)\n",
    "display(Math(latex(eq_2_subs3)))"
   ]
  },
  {
   "cell_type": "code",
   "execution_count": 51,
   "metadata": {},
   "outputs": [
    {
     "data": {
      "text/latex": [
       "$\\displaystyle -H_{{\\rm inner}_{{\\rm vacuum}_{f_{x}}}}\\left(x\\right) = -\\frac{{\\left(\\mathit{A2}_{y} K_{\\mathit{vacuum}}^{2} e^{\\left(i \\, K_{\\mathit{vacuum}} x\\right)} + \\mathit{A1}_{y} K_{\\mathit{vacuum}}^{2} e^{\\left(-i \\, K_{\\mathit{vacuum}} x\\right)} + i \\, {\\left(i \\, \\mathit{A2}_{x} K_{\\mathit{vacuum}} e^{\\left(i \\, K_{\\mathit{vacuum}} x\\right)} - i \\, \\mathit{A1}_{x} K_{\\mathit{vacuum}} e^{\\left(-i \\, K_{\\mathit{vacuum}} x\\right)}\\right)} k_{y}\\right)} k_{z}}{{\\left(k_{z}^{2} - \\kappa_{\\mathit{vacuum}}^{2}\\right)} \\kappa_{\\mathit{vacuum}}}$"
      ],
      "text/plain": [
       "<IPython.core.display.Math object>"
      ]
     },
     "metadata": {},
     "output_type": "display_data"
    }
   ],
   "source": [
    "eq_2_subs4 = eq_2_subs3.subs(omega==c*kappa_vacuum/sqrt(epsilon_0*mu_0))\n",
    "#print             (eq_2_subs4)\n",
    "display(Math(latex(eq_2_subs4)))"
   ]
  },
  {
   "cell_type": "code",
   "execution_count": null,
   "metadata": {},
   "outputs": [],
   "source": []
  },
  {
   "cell_type": "raw",
   "metadata": {},
   "source": [
    "print (\"eq_3 =\")\n",
    "print             (eq_3)\n",
    "display(Math(latex(eq_3)))"
   ]
  },
  {
   "cell_type": "raw",
   "metadata": {
    "scrolled": true
   },
   "source": [
    "eq_3_subs1 = eq_3.subs(k_y == 0)\n",
    "print             (eq_3_subs1)\n",
    "display(Math(latex(eq_3_subs1)))"
   ]
  },
  {
   "cell_type": "raw",
   "metadata": {
    "scrolled": true
   },
   "source": [
    "eq_3_subs2 = (eq_3_subs1/(kappa^2 - k_z^2)).full_simplify()\n",
    "print             (eq_3_subs2)\n",
    "display(Math(latex(eq_3_subs2)))"
   ]
  },
  {
   "cell_type": "raw",
   "metadata": {
    "scrolled": true
   },
   "source": [
    "eq_3_subs3 = eq_3_subs2.substitute_function(H_bad_conductor_f_z, H_bad_conductor_sol_z)\n",
    "print             (eq_3_subs3)\n",
    "display(Math(latex(eq_3_subs3)))"
   ]
  },
  {
   "cell_type": "raw",
   "metadata": {},
   "source": [
    "eq_3_subs4 = eq_3_subs3.subs(omega==c*kappa/sqrt(epsilon*mu))\n",
    "print             (eq_3_subs4)\n",
    "display(Math(latex(eq_3_subs4)))"
   ]
  },
  {
   "cell_type": "code",
   "execution_count": null,
   "metadata": {},
   "outputs": [],
   "source": []
  },
  {
   "cell_type": "raw",
   "metadata": {},
   "source": [
    "print (\"eq_4 =\")\n",
    "print             (eq_4)\n",
    "display(Math(latex(eq_4)))"
   ]
  },
  {
   "cell_type": "raw",
   "metadata": {
    "scrolled": true
   },
   "source": [
    "eq_4_subs1 = eq_4.subs(k_y == 0)\n",
    "print             (eq_4_subs1)\n",
    "display(Math(latex(eq_4_subs1)))"
   ]
  },
  {
   "cell_type": "raw",
   "metadata": {
    "scrolled": true
   },
   "source": [
    "eq_4_subs2 = (eq_4_subs1/(kappa^2 - k_z^2)).full_simplify()\n",
    "print             (eq_4_subs2)\n",
    "display(Math(latex(eq_4_subs2)))"
   ]
  },
  {
   "cell_type": "raw",
   "metadata": {
    "scrolled": true
   },
   "source": [
    "eq_4_subs3 = eq_4_subs2.substitute_function(H_bad_conductor_f_z, H_bad_conductor_sol_z)\n",
    "print             (eq_4_subs3)\n",
    "display(Math(latex(eq_4_subs3)))"
   ]
  },
  {
   "cell_type": "raw",
   "metadata": {},
   "source": [
    "eq_4_subs4 = eq_4_subs3.subs(omega==c*kappa/sqrt(epsilon*mu))\n",
    "print             (eq_4_subs4)\n",
    "display(Math(latex(eq_4_subs4)))"
   ]
  },
  {
   "cell_type": "code",
   "execution_count": null,
   "metadata": {},
   "outputs": [],
   "source": []
  },
  {
   "cell_type": "code",
   "execution_count": 52,
   "metadata": {},
   "outputs": [
    {
     "name": "stdout",
     "output_type": "stream",
     "text": [
      "eq_5 =\n"
     ]
    },
    {
     "data": {
      "text/latex": [
       "$\\displaystyle -{\\left(k_{z}^{2} - \\kappa_{\\mathit{vacuum}}^{2}\\right)} E_{{\\rm inner}_{{\\rm vacuum}_{x}}}\\left(x\\right) = -k_{y} \\kappa_{\\mathit{vacuum}} H_{{\\rm inner}_{{\\rm vacuum}_{f_{z}}}}\\left(x\\right) + i \\, k_{z} \\frac{\\partial}{\\partial x}E_{{\\rm inner}_{{\\rm vacuum}_{z}}}\\left(x\\right)$"
      ],
      "text/plain": [
       "<IPython.core.display.Math object>"
      ]
     },
     "metadata": {},
     "output_type": "display_data"
    },
    {
     "name": "stdout",
     "output_type": "stream",
     "text": [
      "eq_6 =\n"
     ]
    },
    {
     "data": {
      "text/latex": [
       "$\\displaystyle -{\\left(k_{z}^{2} - \\kappa_{\\mathit{vacuum}}^{2}\\right)} H_{{\\rm inner}_{{\\rm vacuum}_{f_{y}}}}\\left(x\\right) = -k_{y} k_{z} H_{{\\rm inner}_{{\\rm vacuum}_{f_{z}}}}\\left(x\\right) + i \\, \\kappa_{\\mathit{vacuum}} \\frac{\\partial}{\\partial x}E_{{\\rm inner}_{{\\rm vacuum}_{z}}}\\left(x\\right)$"
      ],
      "text/plain": [
       "<IPython.core.display.Math object>"
      ]
     },
     "metadata": {},
     "output_type": "display_data"
    },
    {
     "name": "stdout",
     "output_type": "stream",
     "text": [
      "eq_7 =\n"
     ]
    },
    {
     "data": {
      "text/latex": [
       "$\\displaystyle \\frac{4 \\, {\\left(-i \\, \\pi \\epsilon k_{z}^{2} + i \\, \\pi \\epsilon \\kappa^{2}\\right)} \\mu \\sigma E_{{\\rm bad}_{{\\rm conductor}_{x}}}\\left(x\\right) + {\\left(4 i \\, \\pi k_{z} \\kappa \\mu \\sigma H_{{\\rm bad}_{{\\rm conductor}_{f_{y}}}}\\left(x\\right) - {\\left(c \\epsilon k_{z}^{2} \\kappa - c \\epsilon \\kappa^{3}\\right)} E_{{\\rm bad}_{{\\rm conductor}_{x}}}\\left(x\\right)\\right)} \\sqrt{\\epsilon} \\sqrt{\\mu}}{c \\epsilon^{\\frac{3}{2}} \\kappa \\sqrt{\\mu} + 4 i \\, \\pi \\epsilon \\mu \\sigma} = \\frac{i \\, c \\epsilon k_{z} \\kappa \\frac{\\partial}{\\partial x}E_{{\\rm bad}_{{\\rm conductor}_{z}}}\\left(x\\right) - {\\left(c k_{y} \\kappa^{2} H_{{\\rm bad}_{{\\rm conductor}_{f_{z}}}}\\left(x\\right) + 4 \\, \\pi k_{z} \\sigma \\frac{\\partial}{\\partial x}E_{{\\rm bad}_{{\\rm conductor}_{z}}}\\left(x\\right)\\right)} \\sqrt{\\epsilon} \\sqrt{\\mu}}{c \\epsilon \\kappa + 4 i \\, \\pi \\sqrt{\\epsilon} \\sqrt{\\mu} \\sigma}$"
      ],
      "text/plain": [
       "<IPython.core.display.Math object>"
      ]
     },
     "metadata": {},
     "output_type": "display_data"
    },
    {
     "name": "stdout",
     "output_type": "stream",
     "text": [
      "eq_8 =\n"
     ]
    },
    {
     "data": {
      "text/latex": [
       "$\\displaystyle \\frac{4 i \\, \\pi \\sqrt{\\epsilon} \\kappa^{2} \\mu^{\\frac{3}{2}} \\sigma H_{{\\rm bad}_{{\\rm conductor}_{f_{y}}}}\\left(x\\right) - {\\left(c \\epsilon k_{z}^{2} \\kappa - c \\epsilon \\kappa^{3}\\right)} \\mu H_{{\\rm bad}_{{\\rm conductor}_{f_{y}}}}\\left(x\\right)}{c \\epsilon^{\\frac{3}{2}} \\kappa \\sqrt{\\mu} + 4 i \\, \\pi \\epsilon \\mu \\sigma} = \\frac{i \\, c \\epsilon \\kappa^{2} \\frac{\\partial}{\\partial x}E_{{\\rm bad}_{{\\rm conductor}_{z}}}\\left(x\\right) - {\\left(c k_{y} k_{z} \\kappa H_{{\\rm bad}_{{\\rm conductor}_{f_{z}}}}\\left(x\\right) + 4 \\, \\pi \\kappa \\sigma \\frac{\\partial}{\\partial x}E_{{\\rm bad}_{{\\rm conductor}_{z}}}\\left(x\\right)\\right)} \\sqrt{\\epsilon} \\sqrt{\\mu}}{c \\epsilon \\kappa + 4 i \\, \\pi \\sqrt{\\epsilon} \\sqrt{\\mu} \\sigma}$"
      ],
      "text/plain": [
       "<IPython.core.display.Math object>"
      ]
     },
     "metadata": {},
     "output_type": "display_data"
    }
   ],
   "source": [
    "print (\"eq_5 =\")\n",
    "#print             (eq_5)\n",
    "display(Math(latex(eq_5)))\n",
    "\n",
    "print (\"eq_6 =\")\n",
    "#print             (eq_6)\n",
    "display(Math(latex(eq_6)))\n",
    "\n",
    "print (\"eq_7 =\")\n",
    "#print             (eq_7)\n",
    "display(Math(latex(eq_7)))\n",
    "\n",
    "print (\"eq_8 =\")\n",
    "#print             (eq_8)\n",
    "display(Math(latex(eq_8)))"
   ]
  },
  {
   "cell_type": "code",
   "execution_count": null,
   "metadata": {},
   "outputs": [],
   "source": []
  },
  {
   "cell_type": "code",
   "execution_count": 53,
   "metadata": {},
   "outputs": [
    {
     "name": "stdout",
     "output_type": "stream",
     "text": [
      "eq_5 =\n"
     ]
    },
    {
     "data": {
      "text/latex": [
       "$\\displaystyle -{\\left(k_{z}^{2} - \\kappa_{\\mathit{vacuum}}^{2}\\right)} E_{{\\rm inner}_{{\\rm vacuum}_{x}}}\\left(x\\right) = -k_{y} \\kappa_{\\mathit{vacuum}} H_{{\\rm inner}_{{\\rm vacuum}_{f_{z}}}}\\left(x\\right) + i \\, k_{z} \\frac{\\partial}{\\partial x}E_{{\\rm inner}_{{\\rm vacuum}_{z}}}\\left(x\\right)$"
      ],
      "text/plain": [
       "<IPython.core.display.Math object>"
      ]
     },
     "metadata": {},
     "output_type": "display_data"
    }
   ],
   "source": [
    "print (\"eq_5 =\")\n",
    "#print             (eq_5)\n",
    "display(Math(latex(eq_5)))"
   ]
  },
  {
   "cell_type": "code",
   "execution_count": 54,
   "metadata": {
    "scrolled": true
   },
   "outputs": [
    {
     "data": {
      "text/latex": [
       "$\\displaystyle -{\\left(k_{z}^{2} - \\kappa_{\\mathit{vacuum}}^{2}\\right)} E_{{\\rm inner}_{{\\rm vacuum}_{x}}}\\left(x\\right) = i \\, k_{z} \\frac{\\partial}{\\partial x}E_{{\\rm inner}_{{\\rm vacuum}_{z}}}\\left(x\\right)$"
      ],
      "text/plain": [
       "<IPython.core.display.Math object>"
      ]
     },
     "metadata": {},
     "output_type": "display_data"
    }
   ],
   "source": [
    "eq_5_subs1 = eq_5.subs(k_y == 0)\n",
    "#print             (eq_5_subs1)\n",
    "display(Math(latex(eq_5_subs1)))"
   ]
  },
  {
   "cell_type": "code",
   "execution_count": 55,
   "metadata": {
    "scrolled": true
   },
   "outputs": [
    {
     "data": {
      "text/latex": [
       "$\\displaystyle E_{{\\rm inner}_{{\\rm vacuum}_{x}}}\\left(x\\right) = -\\frac{i \\, k_{z} \\frac{\\partial}{\\partial x}E_{{\\rm inner}_{{\\rm vacuum}_{z}}}\\left(x\\right)}{k_{z}^{2} - \\kappa_{\\mathit{vacuum}}^{2}}$"
      ],
      "text/plain": [
       "<IPython.core.display.Math object>"
      ]
     },
     "metadata": {},
     "output_type": "display_data"
    }
   ],
   "source": [
    "eq_5_subs2 = (eq_5_subs1/(kappa_vacuum^2 - k_z^2)).full_simplify()\n",
    "#print             (eq_5_subs2)\n",
    "display(Math(latex(eq_5_subs2)))"
   ]
  },
  {
   "cell_type": "code",
   "execution_count": 56,
   "metadata": {
    "scrolled": true
   },
   "outputs": [
    {
     "data": {
      "text/latex": [
       "$\\displaystyle E_{{\\rm inner}_{{\\rm vacuum}_{x}}}\\left(x\\right) = -\\frac{i \\, {\\left(i \\, \\mathit{A2}_{z} K_{\\mathit{vacuum}} e^{\\left(i \\, K_{\\mathit{vacuum}} x\\right)} - i \\, \\mathit{A1}_{z} K_{\\mathit{vacuum}} e^{\\left(-i \\, K_{\\mathit{vacuum}} x\\right)}\\right)} k_{z}}{k_{z}^{2} - \\kappa_{\\mathit{vacuum}}^{2}}$"
      ],
      "text/plain": [
       "<IPython.core.display.Math object>"
      ]
     },
     "metadata": {},
     "output_type": "display_data"
    }
   ],
   "source": [
    "eq_5_subs3 = eq_5_subs2.substitute_function(E_inner_vacuum_z, E_inner_vacuum_sol_z)\n",
    "#print             (eq_5_subs3)\n",
    "display(Math(latex(eq_5_subs3)))"
   ]
  },
  {
   "cell_type": "code",
   "execution_count": 57,
   "metadata": {},
   "outputs": [
    {
     "data": {
      "text/latex": [
       "$\\displaystyle E_{{\\rm inner}_{{\\rm vacuum}_{x}}}\\left(x\\right) = -\\frac{{\\left(\\mathit{A2}_{z} k_{z} e^{\\left(2 i \\, \\sqrt{-k_{z}^{2} + \\kappa_{\\mathit{vacuum}}^{2}} x\\right)} - \\mathit{A1}_{z} k_{z}\\right)} e^{\\left(-i \\, \\sqrt{-k_{z}^{2} + \\kappa_{\\mathit{vacuum}}^{2}} x\\right)}}{\\sqrt{-k_{z}^{2} + \\kappa_{\\mathit{vacuum}}^{2}}}$"
      ],
      "text/plain": [
       "<IPython.core.display.Math object>"
      ]
     },
     "metadata": {},
     "output_type": "display_data"
    }
   ],
   "source": [
    "eq_5_subs4 = eq_5_subs3.subs(K_vacuum_subs).full_simplify()\n",
    "#print             (eq_5_subs4)\n",
    "display(Math(latex(eq_5_subs4)))"
   ]
  },
  {
   "cell_type": "code",
   "execution_count": null,
   "metadata": {},
   "outputs": [],
   "source": []
  },
  {
   "cell_type": "code",
   "execution_count": 58,
   "metadata": {},
   "outputs": [
    {
     "name": "stdout",
     "output_type": "stream",
     "text": [
      "eq_6 =\n"
     ]
    },
    {
     "data": {
      "text/latex": [
       "$\\displaystyle -{\\left(k_{z}^{2} - \\kappa_{\\mathit{vacuum}}^{2}\\right)} H_{{\\rm inner}_{{\\rm vacuum}_{f_{y}}}}\\left(x\\right) = -k_{y} k_{z} H_{{\\rm inner}_{{\\rm vacuum}_{f_{z}}}}\\left(x\\right) + i \\, \\kappa_{\\mathit{vacuum}} \\frac{\\partial}{\\partial x}E_{{\\rm inner}_{{\\rm vacuum}_{z}}}\\left(x\\right)$"
      ],
      "text/plain": [
       "<IPython.core.display.Math object>"
      ]
     },
     "metadata": {},
     "output_type": "display_data"
    }
   ],
   "source": [
    "print (\"eq_6 =\")\n",
    "#print             (eq_6)\n",
    "display(Math(latex(eq_6)))"
   ]
  },
  {
   "cell_type": "code",
   "execution_count": 59,
   "metadata": {
    "scrolled": true
   },
   "outputs": [
    {
     "data": {
      "text/latex": [
       "$\\displaystyle -{\\left(k_{z}^{2} - \\kappa_{\\mathit{vacuum}}^{2}\\right)} H_{{\\rm inner}_{{\\rm vacuum}_{f_{y}}}}\\left(x\\right) = i \\, \\kappa_{\\mathit{vacuum}} \\frac{\\partial}{\\partial x}E_{{\\rm inner}_{{\\rm vacuum}_{z}}}\\left(x\\right)$"
      ],
      "text/plain": [
       "<IPython.core.display.Math object>"
      ]
     },
     "metadata": {},
     "output_type": "display_data"
    }
   ],
   "source": [
    "eq_6_subs1 = eq_6.subs(k_y == 0)\n",
    "#print             (eq_6_subs1)\n",
    "display(Math(latex(eq_6_subs1)))"
   ]
  },
  {
   "cell_type": "code",
   "execution_count": 60,
   "metadata": {
    "scrolled": true
   },
   "outputs": [
    {
     "data": {
      "text/latex": [
       "$\\displaystyle H_{{\\rm inner}_{{\\rm vacuum}_{f_{y}}}}\\left(x\\right) = -\\frac{i \\, \\kappa_{\\mathit{vacuum}} \\frac{\\partial}{\\partial x}E_{{\\rm inner}_{{\\rm vacuum}_{z}}}\\left(x\\right)}{k_{z}^{2} - \\kappa_{\\mathit{vacuum}}^{2}}$"
      ],
      "text/plain": [
       "<IPython.core.display.Math object>"
      ]
     },
     "metadata": {},
     "output_type": "display_data"
    }
   ],
   "source": [
    "eq_6_subs2 = (eq_6_subs1/(kappa_vacuum^2 - k_z^2)).full_simplify()\n",
    "#print             (eq_6_subs2)\n",
    "display(Math(latex(eq_6_subs2)))"
   ]
  },
  {
   "cell_type": "code",
   "execution_count": 61,
   "metadata": {
    "scrolled": true
   },
   "outputs": [
    {
     "data": {
      "text/latex": [
       "$\\displaystyle H_{{\\rm inner}_{{\\rm vacuum}_{f_{y}}}}\\left(x\\right) = -\\frac{i \\, {\\left(i \\, \\mathit{A2}_{z} K_{\\mathit{vacuum}} e^{\\left(i \\, K_{\\mathit{vacuum}} x\\right)} - i \\, \\mathit{A1}_{z} K_{\\mathit{vacuum}} e^{\\left(-i \\, K_{\\mathit{vacuum}} x\\right)}\\right)} \\kappa_{\\mathit{vacuum}}}{k_{z}^{2} - \\kappa_{\\mathit{vacuum}}^{2}}$"
      ],
      "text/plain": [
       "<IPython.core.display.Math object>"
      ]
     },
     "metadata": {},
     "output_type": "display_data"
    }
   ],
   "source": [
    "eq_6_subs3 = eq_6_subs2.substitute_function(E_inner_vacuum_z, E_inner_vacuum_sol_z)\n",
    "#print             (eq_6_subs3)\n",
    "display(Math(latex(eq_6_subs3)))"
   ]
  },
  {
   "cell_type": "code",
   "execution_count": null,
   "metadata": {},
   "outputs": [],
   "source": []
  },
  {
   "cell_type": "code",
   "execution_count": 62,
   "metadata": {},
   "outputs": [
    {
     "name": "stdout",
     "output_type": "stream",
     "text": [
      "eq_7 =\n"
     ]
    },
    {
     "data": {
      "text/latex": [
       "$\\displaystyle \\frac{4 \\, {\\left(-i \\, \\pi \\epsilon k_{z}^{2} + i \\, \\pi \\epsilon \\kappa^{2}\\right)} \\mu \\sigma E_{{\\rm bad}_{{\\rm conductor}_{x}}}\\left(x\\right) + {\\left(4 i \\, \\pi k_{z} \\kappa \\mu \\sigma H_{{\\rm bad}_{{\\rm conductor}_{f_{y}}}}\\left(x\\right) - {\\left(c \\epsilon k_{z}^{2} \\kappa - c \\epsilon \\kappa^{3}\\right)} E_{{\\rm bad}_{{\\rm conductor}_{x}}}\\left(x\\right)\\right)} \\sqrt{\\epsilon} \\sqrt{\\mu}}{c \\epsilon^{\\frac{3}{2}} \\kappa \\sqrt{\\mu} + 4 i \\, \\pi \\epsilon \\mu \\sigma} = \\frac{i \\, c \\epsilon k_{z} \\kappa \\frac{\\partial}{\\partial x}E_{{\\rm bad}_{{\\rm conductor}_{z}}}\\left(x\\right) - {\\left(c k_{y} \\kappa^{2} H_{{\\rm bad}_{{\\rm conductor}_{f_{z}}}}\\left(x\\right) + 4 \\, \\pi k_{z} \\sigma \\frac{\\partial}{\\partial x}E_{{\\rm bad}_{{\\rm conductor}_{z}}}\\left(x\\right)\\right)} \\sqrt{\\epsilon} \\sqrt{\\mu}}{c \\epsilon \\kappa + 4 i \\, \\pi \\sqrt{\\epsilon} \\sqrt{\\mu} \\sigma}$"
      ],
      "text/plain": [
       "<IPython.core.display.Math object>"
      ]
     },
     "metadata": {},
     "output_type": "display_data"
    }
   ],
   "source": [
    "print (\"eq_7 =\")\n",
    "#print             (eq_7)\n",
    "display(Math(latex(eq_7)))"
   ]
  },
  {
   "cell_type": "code",
   "execution_count": 63,
   "metadata": {
    "scrolled": true
   },
   "outputs": [
    {
     "data": {
      "text/latex": [
       "$\\displaystyle \\frac{4 \\, {\\left(-i \\, \\pi \\epsilon k_{z}^{2} + i \\, \\pi \\epsilon \\kappa^{2}\\right)} \\mu \\sigma E_{{\\rm bad}_{{\\rm conductor}_{x}}}\\left(x\\right) + {\\left(4 i \\, \\pi k_{z} \\kappa \\mu \\sigma H_{{\\rm bad}_{{\\rm conductor}_{f_{y}}}}\\left(x\\right) - {\\left(c \\epsilon k_{z}^{2} \\kappa - c \\epsilon \\kappa^{3}\\right)} E_{{\\rm bad}_{{\\rm conductor}_{x}}}\\left(x\\right)\\right)} \\sqrt{\\epsilon} \\sqrt{\\mu}}{c \\epsilon^{\\frac{3}{2}} \\kappa \\sqrt{\\mu} + 4 i \\, \\pi \\epsilon \\mu \\sigma} = \\frac{i \\, c \\epsilon k_{z} \\kappa \\frac{\\partial}{\\partial x}E_{{\\rm bad}_{{\\rm conductor}_{z}}}\\left(x\\right) - 4 \\, \\pi \\sqrt{\\epsilon} k_{z} \\sqrt{\\mu} \\sigma \\frac{\\partial}{\\partial x}E_{{\\rm bad}_{{\\rm conductor}_{z}}}\\left(x\\right)}{c \\epsilon \\kappa + 4 i \\, \\pi \\sqrt{\\epsilon} \\sqrt{\\mu} \\sigma}$"
      ],
      "text/plain": [
       "<IPython.core.display.Math object>"
      ]
     },
     "metadata": {},
     "output_type": "display_data"
    }
   ],
   "source": [
    "eq_7_subs1 = eq_7.subs(k_y == 0)\n",
    "#print             (eq_7_subs1)\n",
    "display(Math(latex(eq_7_subs1)))"
   ]
  },
  {
   "cell_type": "code",
   "execution_count": 64,
   "metadata": {
    "scrolled": true
   },
   "outputs": [
    {
     "data": {
      "text/latex": [
       "$\\displaystyle \\frac{4 \\, {\\left(-i \\, \\pi \\epsilon k_{z}^{2} + i \\, \\pi \\epsilon \\kappa^{2}\\right)} \\mu \\sigma E_{{\\rm bad}_{{\\rm conductor}_{x}}}\\left(x\\right) + {\\left(4 i \\, \\pi k_{z} \\kappa \\mu \\sigma H_{{\\rm bad}_{{\\rm conductor}_{f_{y}}}}\\left(x\\right) - {\\left(c \\epsilon k_{z}^{2} \\kappa - c \\epsilon \\kappa^{3}\\right)} E_{{\\rm bad}_{{\\rm conductor}_{x}}}\\left(x\\right)\\right)} \\sqrt{\\epsilon} \\sqrt{\\mu}}{4 \\, {\\left(-i \\, \\pi \\epsilon k_{z}^{2} + i \\, \\pi \\epsilon \\kappa^{2}\\right)} \\mu \\sigma - {\\left(c \\epsilon k_{z}^{2} \\kappa - c \\epsilon \\kappa^{3}\\right)} \\sqrt{\\epsilon} \\sqrt{\\mu}} = \\frac{-i \\, c \\epsilon k_{z} \\kappa \\frac{\\partial}{\\partial x}E_{{\\rm bad}_{{\\rm conductor}_{z}}}\\left(x\\right) + 4 \\, \\pi \\sqrt{\\epsilon} k_{z} \\sqrt{\\mu} \\sigma \\frac{\\partial}{\\partial x}E_{{\\rm bad}_{{\\rm conductor}_{z}}}\\left(x\\right)}{c \\epsilon k_{z}^{2} \\kappa - c \\epsilon \\kappa^{3} + 4 \\, {\\left(i \\, \\pi k_{z}^{2} - i \\, \\pi \\kappa^{2}\\right)} \\sqrt{\\epsilon} \\sqrt{\\mu} \\sigma}$"
      ],
      "text/plain": [
       "<IPython.core.display.Math object>"
      ]
     },
     "metadata": {},
     "output_type": "display_data"
    }
   ],
   "source": [
    "eq_7_subs2 = (eq_7_subs1/(kappa^2 - k_z^2)).full_simplify()\n",
    "#print             (eq_7_subs2)\n",
    "display(Math(latex(eq_7_subs2)))"
   ]
  },
  {
   "cell_type": "code",
   "execution_count": 65,
   "metadata": {
    "scrolled": true
   },
   "outputs": [
    {
     "data": {
      "text/latex": [
       "$\\displaystyle \\frac{4 \\, {\\left(-i \\, \\pi \\epsilon k_{z}^{2} + i \\, \\pi \\epsilon \\kappa^{2}\\right)} \\mu \\sigma E_{{\\rm bad}_{{\\rm conductor}_{x}}}\\left(x\\right) + {\\left(4 i \\, \\pi k_{z} \\kappa \\mu \\sigma H_{{\\rm bad}_{{\\rm conductor}_{f_{y}}}}\\left(x\\right) - {\\left(c \\epsilon k_{z}^{2} \\kappa - c \\epsilon \\kappa^{3}\\right)} E_{{\\rm bad}_{{\\rm conductor}_{x}}}\\left(x\\right)\\right)} \\sqrt{\\epsilon} \\sqrt{\\mu}}{4 \\, {\\left(-i \\, \\pi \\epsilon k_{z}^{2} + i \\, \\pi \\epsilon \\kappa^{2}\\right)} \\mu \\sigma - {\\left(c \\epsilon k_{z}^{2} \\kappa - c \\epsilon \\kappa^{3}\\right)} \\sqrt{\\epsilon} \\sqrt{\\mu}} = \\frac{\\mathit{B1}_{z} K_{\\mathit{conductor}} c \\epsilon k_{z} \\kappa e^{\\left(i \\, K_{\\mathit{conductor}} x\\right)} + 4 i \\, \\pi \\mathit{B1}_{z} K_{\\mathit{conductor}} \\sqrt{\\epsilon} k_{z} \\sqrt{\\mu} \\sigma e^{\\left(i \\, K_{\\mathit{conductor}} x\\right)}}{c \\epsilon k_{z}^{2} \\kappa - c \\epsilon \\kappa^{3} + 4 \\, {\\left(i \\, \\pi k_{z}^{2} - i \\, \\pi \\kappa^{2}\\right)} \\sqrt{\\epsilon} \\sqrt{\\mu} \\sigma}$"
      ],
      "text/plain": [
       "<IPython.core.display.Math object>"
      ]
     },
     "metadata": {},
     "output_type": "display_data"
    }
   ],
   "source": [
    "eq_7_subs3 = eq_7_subs2.substitute_function(E_bad_conductor_z, E_bad_conductor_sol_z)\n",
    "#print             (eq_7_subs3)\n",
    "display(Math(latex(eq_7_subs3)))"
   ]
  },
  {
   "cell_type": "code",
   "execution_count": 66,
   "metadata": {},
   "outputs": [
    {
     "data": {
      "text/latex": [
       "$\\displaystyle \\frac{4 \\, {\\left(-i \\, \\pi \\epsilon k_{z}^{2} + i \\, \\pi \\epsilon \\kappa^{2}\\right)} \\mu \\sigma E_{{\\rm bad}_{{\\rm conductor}_{x}}}\\left(x\\right) + {\\left(4 i \\, \\pi k_{z} \\kappa \\mu \\sigma H_{{\\rm bad}_{{\\rm conductor}_{f_{y}}}}\\left(x\\right) - {\\left(c \\epsilon k_{z}^{2} \\kappa - c \\epsilon \\kappa^{3}\\right)} E_{{\\rm bad}_{{\\rm conductor}_{x}}}\\left(x\\right)\\right)} \\sqrt{\\epsilon} \\sqrt{\\mu}}{4 \\, {\\left(-i \\, \\pi \\epsilon k_{z}^{2} + i \\, \\pi \\epsilon \\kappa^{2}\\right)} \\mu \\sigma - {\\left(c \\epsilon k_{z}^{2} \\kappa - c \\epsilon \\kappa^{3}\\right)} \\sqrt{\\epsilon} \\sqrt{\\mu}} = -\\frac{\\mathit{B1}_{z} k_{z} e^{\\left(i \\, \\sqrt{-k_{z}^{2} + \\kappa^{2}} x\\right)}}{\\sqrt{-k_{z}^{2} + \\kappa^{2}}}$"
      ],
      "text/plain": [
       "<IPython.core.display.Math object>"
      ]
     },
     "metadata": {},
     "output_type": "display_data"
    }
   ],
   "source": [
    "eq_7_subs4 = eq_7_subs3.subs(K_conductor_subs).full_simplify()\n",
    "#print             (eq_7_subs4)\n",
    "display(Math(latex(eq_7_subs4)))"
   ]
  },
  {
   "cell_type": "code",
   "execution_count": null,
   "metadata": {},
   "outputs": [],
   "source": []
  },
  {
   "cell_type": "code",
   "execution_count": 67,
   "metadata": {},
   "outputs": [
    {
     "name": "stdout",
     "output_type": "stream",
     "text": [
      "eq_8 =\n"
     ]
    },
    {
     "data": {
      "text/latex": [
       "$\\displaystyle \\frac{4 i \\, \\pi \\sqrt{\\epsilon} \\kappa^{2} \\mu^{\\frac{3}{2}} \\sigma H_{{\\rm bad}_{{\\rm conductor}_{f_{y}}}}\\left(x\\right) - {\\left(c \\epsilon k_{z}^{2} \\kappa - c \\epsilon \\kappa^{3}\\right)} \\mu H_{{\\rm bad}_{{\\rm conductor}_{f_{y}}}}\\left(x\\right)}{c \\epsilon^{\\frac{3}{2}} \\kappa \\sqrt{\\mu} + 4 i \\, \\pi \\epsilon \\mu \\sigma} = \\frac{i \\, c \\epsilon \\kappa^{2} \\frac{\\partial}{\\partial x}E_{{\\rm bad}_{{\\rm conductor}_{z}}}\\left(x\\right) - {\\left(c k_{y} k_{z} \\kappa H_{{\\rm bad}_{{\\rm conductor}_{f_{z}}}}\\left(x\\right) + 4 \\, \\pi \\kappa \\sigma \\frac{\\partial}{\\partial x}E_{{\\rm bad}_{{\\rm conductor}_{z}}}\\left(x\\right)\\right)} \\sqrt{\\epsilon} \\sqrt{\\mu}}{c \\epsilon \\kappa + 4 i \\, \\pi \\sqrt{\\epsilon} \\sqrt{\\mu} \\sigma}$"
      ],
      "text/plain": [
       "<IPython.core.display.Math object>"
      ]
     },
     "metadata": {},
     "output_type": "display_data"
    }
   ],
   "source": [
    "print (\"eq_8 =\")\n",
    "#print             (eq_8)\n",
    "display(Math(latex(eq_8)))"
   ]
  },
  {
   "cell_type": "code",
   "execution_count": 68,
   "metadata": {
    "scrolled": true
   },
   "outputs": [
    {
     "data": {
      "text/latex": [
       "$\\displaystyle \\frac{4 i \\, \\pi \\sqrt{\\epsilon} \\kappa^{2} \\mu^{\\frac{3}{2}} \\sigma H_{{\\rm bad}_{{\\rm conductor}_{f_{y}}}}\\left(x\\right) - {\\left(c \\epsilon k_{z}^{2} \\kappa - c \\epsilon \\kappa^{3}\\right)} \\mu H_{{\\rm bad}_{{\\rm conductor}_{f_{y}}}}\\left(x\\right)}{c \\epsilon^{\\frac{3}{2}} \\kappa \\sqrt{\\mu} + 4 i \\, \\pi \\epsilon \\mu \\sigma} = \\frac{i \\, c \\epsilon \\kappa^{2} \\frac{\\partial}{\\partial x}E_{{\\rm bad}_{{\\rm conductor}_{z}}}\\left(x\\right) - 4 \\, \\pi \\sqrt{\\epsilon} \\kappa \\sqrt{\\mu} \\sigma \\frac{\\partial}{\\partial x}E_{{\\rm bad}_{{\\rm conductor}_{z}}}\\left(x\\right)}{c \\epsilon \\kappa + 4 i \\, \\pi \\sqrt{\\epsilon} \\sqrt{\\mu} \\sigma}$"
      ],
      "text/plain": [
       "<IPython.core.display.Math object>"
      ]
     },
     "metadata": {},
     "output_type": "display_data"
    }
   ],
   "source": [
    "eq_8_subs1 = eq_8.subs(k_y == 0)\n",
    "#print             (eq_8_subs1)\n",
    "display(Math(latex(eq_8_subs1)))"
   ]
  },
  {
   "cell_type": "code",
   "execution_count": 69,
   "metadata": {
    "scrolled": true
   },
   "outputs": [
    {
     "data": {
      "text/latex": [
       "$\\displaystyle -\\frac{-4 i \\, \\pi \\sqrt{\\epsilon} \\kappa^{2} \\mu^{\\frac{3}{2}} \\sigma H_{{\\rm bad}_{{\\rm conductor}_{f_{y}}}}\\left(x\\right) + {\\left(c \\epsilon k_{z}^{2} \\kappa - c \\epsilon \\kappa^{3}\\right)} \\mu H_{{\\rm bad}_{{\\rm conductor}_{f_{y}}}}\\left(x\\right)}{4 \\, {\\left(-i \\, \\pi \\epsilon k_{z}^{2} + i \\, \\pi \\epsilon \\kappa^{2}\\right)} \\mu \\sigma - {\\left(c \\epsilon k_{z}^{2} \\kappa - c \\epsilon \\kappa^{3}\\right)} \\sqrt{\\epsilon} \\sqrt{\\mu}} = \\frac{-i \\, c \\epsilon \\kappa^{2} \\frac{\\partial}{\\partial x}E_{{\\rm bad}_{{\\rm conductor}_{z}}}\\left(x\\right) + 4 \\, \\pi \\sqrt{\\epsilon} \\kappa \\sqrt{\\mu} \\sigma \\frac{\\partial}{\\partial x}E_{{\\rm bad}_{{\\rm conductor}_{z}}}\\left(x\\right)}{c \\epsilon k_{z}^{2} \\kappa - c \\epsilon \\kappa^{3} + 4 \\, {\\left(i \\, \\pi k_{z}^{2} - i \\, \\pi \\kappa^{2}\\right)} \\sqrt{\\epsilon} \\sqrt{\\mu} \\sigma}$"
      ],
      "text/plain": [
       "<IPython.core.display.Math object>"
      ]
     },
     "metadata": {},
     "output_type": "display_data"
    }
   ],
   "source": [
    "eq_8_subs2 = (eq_8_subs1/(kappa^2 - k_z^2)).full_simplify()\n",
    "#print             (eq_8_subs2)\n",
    "display(Math(latex(eq_8_subs2)))"
   ]
  },
  {
   "cell_type": "code",
   "execution_count": 70,
   "metadata": {
    "scrolled": true
   },
   "outputs": [
    {
     "data": {
      "text/latex": [
       "$\\displaystyle -\\frac{-4 i \\, \\pi \\sqrt{\\epsilon} \\kappa^{2} \\mu^{\\frac{3}{2}} \\sigma H_{{\\rm bad}_{{\\rm conductor}_{f_{y}}}}\\left(x\\right) + {\\left(c \\epsilon k_{z}^{2} \\kappa - c \\epsilon \\kappa^{3}\\right)} \\mu H_{{\\rm bad}_{{\\rm conductor}_{f_{y}}}}\\left(x\\right)}{4 \\, {\\left(-i \\, \\pi \\epsilon k_{z}^{2} + i \\, \\pi \\epsilon \\kappa^{2}\\right)} \\mu \\sigma - {\\left(c \\epsilon k_{z}^{2} \\kappa - c \\epsilon \\kappa^{3}\\right)} \\sqrt{\\epsilon} \\sqrt{\\mu}} = \\frac{\\mathit{B1}_{z} K_{\\mathit{conductor}} c \\epsilon \\kappa^{2} e^{\\left(i \\, K_{\\mathit{conductor}} x\\right)} + 4 i \\, \\pi \\mathit{B1}_{z} K_{\\mathit{conductor}} \\sqrt{\\epsilon} \\kappa \\sqrt{\\mu} \\sigma e^{\\left(i \\, K_{\\mathit{conductor}} x\\right)}}{c \\epsilon k_{z}^{2} \\kappa - c \\epsilon \\kappa^{3} + 4 \\, {\\left(i \\, \\pi k_{z}^{2} - i \\, \\pi \\kappa^{2}\\right)} \\sqrt{\\epsilon} \\sqrt{\\mu} \\sigma}$"
      ],
      "text/plain": [
       "<IPython.core.display.Math object>"
      ]
     },
     "metadata": {},
     "output_type": "display_data"
    }
   ],
   "source": [
    "eq_8_subs3 = eq_8_subs2.substitute_function(E_bad_conductor_z, E_bad_conductor_sol_z)\n",
    "#print             (eq_8_subs3)\n",
    "display(Math(latex(eq_8_subs3)))"
   ]
  },
  {
   "cell_type": "code",
   "execution_count": null,
   "metadata": {},
   "outputs": [],
   "source": []
  },
  {
   "cell_type": "code",
   "execution_count": 71,
   "metadata": {},
   "outputs": [
    {
     "data": {
      "text/latex": [
       "$\\displaystyle H_{{\\rm inner}_{{\\rm vacuum}_{f_{y}}}}\\left(x\\right) = -\\frac{i \\, {\\left(i \\, \\mathit{A2}_{z} K_{\\mathit{vacuum}} e^{\\left(i \\, K_{\\mathit{vacuum}} x\\right)} - i \\, \\mathit{A1}_{z} K_{\\mathit{vacuum}} e^{\\left(-i \\, K_{\\mathit{vacuum}} x\\right)}\\right)} \\kappa_{\\mathit{vacuum}}}{k_{z}^{2} - \\kappa_{\\mathit{vacuum}}^{2}}$"
      ],
      "text/plain": [
       "<IPython.core.display.Math object>"
      ]
     },
     "metadata": {},
     "output_type": "display_data"
    }
   ],
   "source": [
    "#eq_6_subs3 = eq_6_subs2.substitute_function(E_inner_vacuum_z, E_inner_vacuum_sol_z)\n",
    "#print             (eq_6_subs3)\n",
    "display(Math(latex(eq_6_subs3)))"
   ]
  },
  {
   "cell_type": "code",
   "execution_count": null,
   "metadata": {},
   "outputs": [],
   "source": []
  },
  {
   "cell_type": "code",
   "execution_count": 72,
   "metadata": {},
   "outputs": [
    {
     "data": {
      "text/latex": [
       "$\\displaystyle E_{{\\rm inner}_{{\\rm vacuum}_{x}}}\\left(0\\right) = \\frac{\\mathit{A1}_{z} k_{z} - \\mathit{A2}_{z} k_{z}}{\\sqrt{-k_{z}^{2} + \\kappa_{\\mathit{vacuum}}^{2}}}$"
      ],
      "text/plain": [
       "<IPython.core.display.Math object>"
      ]
     },
     "metadata": {},
     "output_type": "display_data"
    },
    {
     "name": "stdout",
     "output_type": "stream",
     "text": [
      "\n",
      "(4*(-I*pi*epsilon*k_z^2 + I*pi*epsilon*kappa^2)*mu*sigma*E_bad_conductor_x(0) + (4*I*pi*k_z*kappa*mu*sigma*H_bad_conductor_f_y(0) - (c*epsilon*k_z^2*kappa - c*epsilon*kappa^3)*E_bad_conductor_x(0))*sqrt(epsilon)*sqrt(mu))/(4*(-I*pi*epsilon*k_z^2 + I*pi*epsilon*kappa^2)*mu*sigma - (c*epsilon*k_z^2*kappa - c*epsilon*kappa^3)*sqrt(epsilon)*sqrt(mu)) == -B1_z*k_z/sqrt(-k_z^2 + kappa^2)\n"
     ]
    },
    {
     "data": {
      "text/latex": [
       "$\\displaystyle \\frac{4 \\, {\\left(-i \\, \\pi \\epsilon k_{z}^{2} + i \\, \\pi \\epsilon \\kappa^{2}\\right)} \\mu \\sigma E_{{\\rm bad}_{{\\rm conductor}_{x}}}\\left(0\\right) + {\\left(4 i \\, \\pi k_{z} \\kappa \\mu \\sigma H_{{\\rm bad}_{{\\rm conductor}_{f_{y}}}}\\left(0\\right) - {\\left(c \\epsilon k_{z}^{2} \\kappa - c \\epsilon \\kappa^{3}\\right)} E_{{\\rm bad}_{{\\rm conductor}_{x}}}\\left(0\\right)\\right)} \\sqrt{\\epsilon} \\sqrt{\\mu}}{4 \\, {\\left(-i \\, \\pi \\epsilon k_{z}^{2} + i \\, \\pi \\epsilon \\kappa^{2}\\right)} \\mu \\sigma - {\\left(c \\epsilon k_{z}^{2} \\kappa - c \\epsilon \\kappa^{3}\\right)} \\sqrt{\\epsilon} \\sqrt{\\mu}} = -\\frac{\\mathit{B1}_{z} k_{z}}{\\sqrt{-k_{z}^{2} + \\kappa^{2}}}$"
      ],
      "text/plain": [
       "<IPython.core.display.Math object>"
      ]
     },
     "metadata": {},
     "output_type": "display_data"
    },
    {
     "name": "stdout",
     "output_type": "stream",
     "text": [
      "\n"
     ]
    }
   ],
   "source": [
    "# нормальная компонента электрического смещения\n",
    "eq_5_subs4x0 = eq_5_subs4.subs(x == 0)\n",
    "#print(eq_5_subs4x0)\n",
    "display(Math(latex(eq_5_subs4x0)))\n",
    "\n",
    "print(\"\")\n",
    "\n",
    "eq_7_subs4x0 = eq_7_subs4.subs(x == 0)\n",
    "print(eq_7_subs4x0)\n",
    "display(Math(latex(eq_7_subs4x0)))\n",
    "print(\"\")"
   ]
  },
  {
   "cell_type": "code",
   "execution_count": 73,
   "metadata": {},
   "outputs": [],
   "source": [
    "fix_c_epsilon_complex = False"
   ]
  },
  {
   "cell_type": "code",
   "execution_count": 74,
   "metadata": {},
   "outputs": [
    {
     "data": {
      "text/latex": [
       "$\\displaystyle \\frac{{\\left(\\sqrt{-k_{z}^{2} + \\kappa^{2}} \\mathit{B1}_{z} c \\epsilon \\kappa^{2} + 4 i \\, \\pi \\sqrt{-k_{z}^{2} + \\kappa^{2}} \\mathit{B1}_{z} \\sqrt{\\epsilon} \\kappa \\sqrt{\\mu} \\sigma\\right)} \\kappa}{{\\left(c \\epsilon k_{z}^{2} \\kappa - c \\epsilon \\kappa^{3} + 4 \\, {\\left(i \\, \\pi k_{z}^{2} - i \\, \\pi \\kappa^{2}\\right)} \\sqrt{\\epsilon} \\sqrt{\\mu} \\sigma\\right)} \\mu} = -\\frac{i \\, {\\left(-i \\, \\sqrt{-k_{z}^{2} + \\kappa_{\\mathit{vacuum}}^{2}} \\mathit{A1}_{z} + i \\, \\sqrt{-k_{z}^{2} + \\kappa_{\\mathit{vacuum}}^{2}} \\mathit{A2}_{z}\\right)} \\kappa_{\\mathit{vacuum}}^{2}}{k_{z}^{2} - \\kappa_{\\mathit{vacuum}}^{2}}$"
      ],
      "text/plain": [
       "<IPython.core.display.Math object>"
      ]
     },
     "metadata": {},
     "output_type": "display_data"
    }
   ],
   "source": [
    "# тангенциальная компонента напряженности магнитного поля\n",
    "# eqHz_a  = (H_bad_conductor_sol_z(0)  == H_inner_vacuum_sol_z(0)).subs(eqEz_0, eqEy_0)\n",
    "# eqHy_a  = (H_bad_conductor_sol_y(0)  == H_inner_vacuum_sol_y(0)).subs(eqEy_0, eqEz_0)\n",
    "# print(eq_8_subs3)\n",
    "# print(\"\")\n",
    "# print(eq_6_subs3)\n",
    "# print(\"\")\n",
    "\n",
    "#8 sqrt(mu)*H_bad_conductor_f_y(x)/sqrt(epsilon) == B1_z*K_conductor*kappa*e^(I*K_conductor*x)/(k_z^2 - kappa^2)\n",
    "#6 H_inner_vacuum_f_y(x) == -I*(I*A2_z*K_vacuum*e^(I*K_vacuum*x) - I*A1_z*K_vacuum*e^(-I*K_vacuum*x))*kappa_vacuum/(k_z^2 - kappa_vacuum^2)\n",
    "\n",
    "# eq_Hy_0 = eq_8_subs3.rhs().subs(x == 0)*sqrt(epsilon_complex)/sqrt(mu) == eq_6_subs3.rhs().subs(x == 0)\n",
    "eq_Hy_0 = (eq_8_subs3.rhs().subs(x == 0).subs(K_conductor_subs)*sqrt(epsilon_complex)/sqrt(mu)) \\\n",
    "        == eq_6_subs3.rhs().subs(x == 0).subs(K_vacuum_subs)\n",
    "\n",
    "# sqrt(mu / epsilon_complex) = omega * mu / kappa\n",
    "# sqrt(mu / epsilon_complex) = omega * mu_rel * mu_0 / kappa\n",
    "\n",
    "# kappa/mu == omega * sqrt(epsilon_complex/mu)\n",
    "# sqrt(mu_0 / epsilon_0) = omega * mu_0 / kappa_vacuum\n",
    "\n",
    "# kappa_vacuum == omega/c\n",
    "# sqrt(mu_0 / epsilon_0) = c * mu_0\n",
    "# c = 1 / sqrt(mu_0 * epsilon_0)\n",
    "\n",
    "# kappa = omega * sqrt(epsilon_comlex*mu)\n",
    "# kappa_vacuum = omega * sqrt(epsilon_0*mu_0) = omega/c\n",
    "\n",
    "# sqrt(mu_0 / epsilon_0) = 1/(c*epsilon_0) = omega * mu_0 / kappa_vacuum\n",
    "# sqrt(mu / epsilon_complex) = 1/(c*epsilon_complex) = omega * mu / kappa\n",
    "\n",
    "# 1/mu_0 = c^2*epsolon_0\n",
    "\n",
    "#eq_Hy_0 = (eq_8_subs3.rhs().subs(x == 0).subs(K_conductor_subs)*kappa/(mu_rel * mu_0 * omega/c)) \\\n",
    "#        == eq_6_subs3.rhs().subs(x == 0).subs(K_vacuum_subs)*kappa_vacuum/(mu_0 * omega/c)\n",
    "\n",
    "# 1/mu_0 = c^2 * epsilon_0\n",
    "\n",
    "eq_Hy_0 =((eq_8_subs3.rhs().subs(x == 0).subs(K_conductor_subs)*kappa/(mu)) \\\n",
    "        == eq_6_subs3.rhs().subs(x == 0).subs(K_vacuum_subs)*kappa_vacuum/(mu_0))\n",
    "\n",
    "display(Math(latex(eq_Hy_0)))"
   ]
  },
  {
   "cell_type": "code",
   "execution_count": 75,
   "metadata": {},
   "outputs": [
    {
     "data": {
      "text/latex": [
       "$\\displaystyle -\\frac{{\\left(\\mathit{A1}_{z} + \\mathit{A2}_{z}\\right)} \\kappa^{2}}{\\sqrt{-k_{z}^{2} + \\kappa^{2}} \\mu} = \\frac{{\\left(\\mathit{A1}_{z} - \\mathit{A2}_{z}\\right)} \\kappa_{\\mathit{vacuum}}^{2}}{\\sqrt{-k_{z}^{2} + \\kappa_{\\mathit{vacuum}}^{2}}}$"
      ],
      "text/plain": [
       "<IPython.core.display.Math object>"
      ]
     },
     "metadata": {},
     "output_type": "display_data"
    }
   ],
   "source": [
    "eq_Hy_0 = eq_Hy_0.subs(eqEz__0).full_simplify()\n",
    "display(Math(latex(eq_Hy_0)))"
   ]
  },
  {
   "cell_type": "code",
   "execution_count": 76,
   "metadata": {},
   "outputs": [],
   "source": [
    "eq_Hy_0_lhs_num = eq_Hy_0.lhs().numerator()\n",
    "eq_Hy_0_lhs_den = eq_Hy_0.lhs().denominator()\n",
    "\n",
    "eq_Hy_0_rhs_num = eq_Hy_0.rhs().numerator()\n",
    "eq_Hy_0_rhs_den = eq_Hy_0.rhs().denominator()"
   ]
  },
  {
   "cell_type": "code",
   "execution_count": 77,
   "metadata": {},
   "outputs": [
    {
     "data": {
      "text/latex": [
       "$\\displaystyle -{\\left(\\mathit{A1}_{z} + \\mathit{A2}_{z}\\right)} \\kappa^{2}$"
      ],
      "text/plain": [
       "<IPython.core.display.Math object>"
      ]
     },
     "metadata": {},
     "output_type": "display_data"
    },
    {
     "data": {
      "text/latex": [
       "$\\displaystyle \\sqrt{-k_{z}^{2} + \\kappa^{2}} \\mu$"
      ],
      "text/plain": [
       "<IPython.core.display.Math object>"
      ]
     },
     "metadata": {},
     "output_type": "display_data"
    },
    {
     "data": {
      "text/latex": [
       "$\\displaystyle {\\left(\\mathit{A1}_{z} - \\mathit{A2}_{z}\\right)} \\kappa_{\\mathit{vacuum}}^{2}$"
      ],
      "text/plain": [
       "<IPython.core.display.Math object>"
      ]
     },
     "metadata": {},
     "output_type": "display_data"
    },
    {
     "data": {
      "text/latex": [
       "$\\displaystyle \\sqrt{-k_{z}^{2} + \\kappa_{\\mathit{vacuum}}^{2}}$"
      ],
      "text/plain": [
       "<IPython.core.display.Math object>"
      ]
     },
     "metadata": {},
     "output_type": "display_data"
    }
   ],
   "source": [
    "display(Math(latex(eq_Hy_0_lhs_num)))\n",
    "display(Math(latex(eq_Hy_0_lhs_den)))\n",
    "\n",
    "display(Math(latex(eq_Hy_0_rhs_num)))\n",
    "display(Math(latex(eq_Hy_0_rhs_den)))"
   ]
  },
  {
   "cell_type": "code",
   "execution_count": 78,
   "metadata": {},
   "outputs": [
    {
     "data": {
      "text/plain": [
       "kappa_vacuum^2 == omega^2/c^2"
      ]
     },
     "execution_count": 78,
     "metadata": {},
     "output_type": "execute_result"
    }
   ],
   "source": [
    "eq_kappa_inner_vacuum"
   ]
  },
  {
   "cell_type": "code",
   "execution_count": 79,
   "metadata": {},
   "outputs": [
    {
     "data": {
      "text/latex": [
       "$\\displaystyle -\\frac{\\sqrt{-k_{z}^{2} + \\kappa^{2}} \\mu}{{\\left(\\mathit{A1}_{z} + \\mathit{A2}_{z}\\right)} \\kappa^{2}} = \\frac{\\sqrt{-k_{z}^{2} + \\kappa_{\\mathit{vacuum}}^{2}}}{{\\left(\\mathit{A1}_{z} - \\mathit{A2}_{z}\\right)} \\kappa_{\\mathit{vacuum}}^{2}}$"
      ],
      "text/plain": [
       "<IPython.core.display.Math object>"
      ]
     },
     "metadata": {},
     "output_type": "display_data"
    }
   ],
   "source": [
    "eq_Hy_0_inv = eq_Hy_0_lhs_den / eq_Hy_0_lhs_num == eq_Hy_0_rhs_den / eq_Hy_0_rhs_num\n",
    "display(Math(latex(eq_Hy_0_inv)))"
   ]
  },
  {
   "cell_type": "code",
   "execution_count": 80,
   "metadata": {},
   "outputs": [
    {
     "data": {
      "text/latex": [
       "$\\displaystyle -\\frac{k_{z}^{2} \\mu^{2}}{{\\left(\\mathit{A1}_{z}^{2} + 2 \\, \\mathit{A1}_{z} \\mathit{A2}_{z} + \\mathit{A2}_{z}^{2}\\right)} \\kappa^{4}} + \\frac{\\mu^{2}}{{\\left(\\mathit{A1}_{z}^{2} + 2 \\, \\mathit{A1}_{z} \\mathit{A2}_{z} + \\mathit{A2}_{z}^{2}\\right)} \\kappa^{2}} = -\\frac{k_{z}^{2}}{{\\left(\\mathit{A1}_{z}^{2} - 2 \\, \\mathit{A1}_{z} \\mathit{A2}_{z} + \\mathit{A2}_{z}^{2}\\right)} \\kappa_{\\mathit{vacuum}}^{4}} + \\frac{1}{{\\left(\\mathit{A1}_{z}^{2} - 2 \\, \\mathit{A1}_{z} \\mathit{A2}_{z} + \\mathit{A2}_{z}^{2}\\right)} \\kappa_{\\mathit{vacuum}}^{2}}$"
      ],
      "text/plain": [
       "<IPython.core.display.Math object>"
      ]
     },
     "metadata": {},
     "output_type": "display_data"
    }
   ],
   "source": [
    "eq_Hy_0_inv_2 = (eq_Hy_0_inv.lhs()^2).expand() == (eq_Hy_0_inv.rhs()^2).expand()\n",
    "display(Math(latex(eq_Hy_0_inv_2)))"
   ]
  },
  {
   "cell_type": "code",
   "execution_count": 81,
   "metadata": {},
   "outputs": [
    {
     "data": {
      "text/latex": [
       "$\\displaystyle -k_{z}^{2} {\\left(\\frac{\\mu^{2}}{{\\left(\\mathit{A1}_{z}^{2} + 2 \\, \\mathit{A1}_{z} \\mathit{A2}_{z} + \\mathit{A2}_{z}^{2}\\right)} \\kappa^{4}} - \\frac{1}{{\\left(\\mathit{A1}_{z}^{2} - 2 \\, \\mathit{A1}_{z} \\mathit{A2}_{z} + \\mathit{A2}_{z}^{2}\\right)} \\kappa_{\\mathit{vacuum}}^{4}}\\right)} + \\frac{\\mu^{2}}{{\\left(\\mathit{A1}_{z}^{2} + 2 \\, \\mathit{A1}_{z} \\mathit{A2}_{z} + \\mathit{A2}_{z}^{2}\\right)} \\kappa^{2}} - \\frac{1}{{\\left(\\mathit{A1}_{z}^{2} - 2 \\, \\mathit{A1}_{z} \\mathit{A2}_{z} + \\mathit{A2}_{z}^{2}\\right)} \\kappa_{\\mathit{vacuum}}^{2}} = 0$"
      ],
      "text/plain": [
       "<IPython.core.display.Math object>"
      ]
     },
     "metadata": {},
     "output_type": "display_data"
    }
   ],
   "source": [
    "eq_Hy_0_inv_2_collect = (eq_Hy_0_inv_2.lhs() - eq_Hy_0_inv_2.rhs()).collect(k_z) == 0\n",
    "display(Math(latex(eq_Hy_0_inv_2_collect)))"
   ]
  },
  {
   "cell_type": "code",
   "execution_count": 82,
   "metadata": {},
   "outputs": [
    {
     "data": {
      "text/latex": [
       "$\\displaystyle \\frac{1}{k_{z}^{2}} = \\frac{{\\left(\\mathit{A1}_{z}^{2} - 2 \\, \\mathit{A1}_{z} \\mathit{A2}_{z} + \\mathit{A2}_{z}^{2}\\right)} \\kappa_{\\mathit{vacuum}}^{4} \\mu^{2} - {\\left(\\mathit{A1}_{z}^{2} + 2 \\, \\mathit{A1}_{z} \\mathit{A2}_{z} + \\mathit{A2}_{z}^{2}\\right)} \\kappa^{4}}{{\\left(\\mathit{A1}_{z}^{2} - 2 \\, \\mathit{A1}_{z} \\mathit{A2}_{z} + \\mathit{A2}_{z}^{2}\\right)} \\kappa^{2} \\kappa_{\\mathit{vacuum}}^{4} \\mu^{2} - {\\left(\\mathit{A1}_{z}^{2} + 2 \\, \\mathit{A1}_{z} \\mathit{A2}_{z} + \\mathit{A2}_{z}^{2}\\right)} \\kappa^{4} \\kappa_{\\mathit{vacuum}}^{2}}$"
      ],
      "text/plain": [
       "<IPython.core.display.Math object>"
      ]
     },
     "metadata": {},
     "output_type": "display_data"
    },
    {
     "data": {
      "text/latex": [
       "$\\displaystyle \\frac{1}{k_{z}^{2}} = \\frac{\\frac{\\mathit{A1}_{z}^{2} \\kappa_{\\mathit{vacuum}}^{2} \\mu^{2}}{\\kappa^{2}} - \\frac{2 \\, \\mathit{A1}_{z} \\mathit{A2}_{z} \\kappa_{\\mathit{vacuum}}^{2} \\mu^{2}}{\\kappa^{2}} + \\frac{\\mathit{A2}_{z}^{2} \\kappa_{\\mathit{vacuum}}^{2} \\mu^{2}}{\\kappa^{2}} - \\frac{\\mathit{A1}_{z}^{2} \\kappa^{2}}{\\kappa_{\\mathit{vacuum}}^{2}} - \\frac{2 \\, \\mathit{A1}_{z} \\mathit{A2}_{z} \\kappa^{2}}{\\kappa_{\\mathit{vacuum}}^{2}} - \\frac{\\mathit{A2}_{z}^{2} \\kappa^{2}}{\\kappa_{\\mathit{vacuum}}^{2}}}{\\mathit{A1}_{z}^{2} \\kappa_{\\mathit{vacuum}}^{2} \\mu^{2} - 2 \\, \\mathit{A1}_{z} \\mathit{A2}_{z} \\kappa_{\\mathit{vacuum}}^{2} \\mu^{2} + \\mathit{A2}_{z}^{2} \\kappa_{\\mathit{vacuum}}^{2} \\mu^{2} - \\mathit{A1}_{z}^{2} \\kappa^{2} - 2 \\, \\mathit{A1}_{z} \\mathit{A2}_{z} \\kappa^{2} - \\mathit{A2}_{z}^{2} \\kappa^{2}}$"
      ],
      "text/plain": [
       "<IPython.core.display.Math object>"
      ]
     },
     "metadata": {},
     "output_type": "display_data"
    }
   ],
   "source": [
    "one_per_k_z = var(\"one_per_k_z\")\n",
    "one_per_k_z_sol = solve(eq_Hy_0_inv_2_collect.subs(k_z == 1/one_per_k_z), one_per_k_z^2)[0].subs(one_per_k_z == 1/k_z)\n",
    "display(Math(latex(one_per_k_z_sol)))\n",
    "\n",
    "\n",
    "one_per_k_z_sol_num = one_per_k_z_sol.rhs().numerator()\n",
    "one_per_k_z_sol_den = one_per_k_z_sol.rhs().denominator()\n",
    "\n",
    "one_per_k_z_sol_2 = 1/k_z^2 == (one_per_k_z_sol_num/kappa^2/kappa_vacuum^2).expand() / \\\n",
    "                               (one_per_k_z_sol_den/kappa^2/kappa_vacuum^2).expand()\n",
    "\n",
    "display(Math(latex(one_per_k_z_sol_2)))"
   ]
  },
  {
   "cell_type": "code",
   "execution_count": null,
   "metadata": {},
   "outputs": [],
   "source": []
  },
  {
   "cell_type": "code",
   "execution_count": 83,
   "metadata": {},
   "outputs": [
    {
     "name": "stdout",
     "output_type": "stream",
     "text": [
      "kappa_vacuum == omega/c\n"
     ]
    }
   ],
   "source": [
    "kappa_vacuum_sol = solve(eq_kappa_inner_vacuum, kappa_vacuum)[1]\n",
    "print(kappa_vacuum_sol)"
   ]
  },
  {
   "cell_type": "code",
   "execution_count": 84,
   "metadata": {},
   "outputs": [
    {
     "name": "stdout",
     "output_type": "stream",
     "text": [
      "kappa == sqrt(epsilon*mu*omega^2 + 4*I*pi*mu*omega*sigma)/c\n"
     ]
    }
   ],
   "source": [
    "kappa_sol = solve(eq_kappa, kappa)[1]\n",
    "print(kappa_sol)"
   ]
  },
  {
   "cell_type": "code",
   "execution_count": 85,
   "metadata": {},
   "outputs": [],
   "source": [
    "# rename eq_Dx_a -> eq_Dx__0"
   ]
  },
  {
   "cell_type": "code",
   "execution_count": 86,
   "metadata": {},
   "outputs": [
    {
     "data": {
      "text/latex": [
       "$\\displaystyle E_{{\\rm inner}_{{\\rm vacuum}_{x}}}\\left(0\\right) = \\frac{\\mathit{A1}_{z} k_{z} - \\mathit{A2}_{z} k_{z}}{\\sqrt{-k_{z}^{2} + \\kappa_{\\mathit{vacuum}}^{2}}}$"
      ],
      "text/plain": [
       "<IPython.core.display.Math object>"
      ]
     },
     "metadata": {},
     "output_type": "display_data"
    },
    {
     "name": "stdout",
     "output_type": "stream",
     "text": [
      "\n"
     ]
    },
    {
     "data": {
      "text/latex": [
       "$\\displaystyle \\frac{4 \\, {\\left(-i \\, \\pi \\epsilon k_{z}^{2} + i \\, \\pi \\epsilon \\kappa^{2}\\right)} \\mu \\sigma E_{{\\rm bad}_{{\\rm conductor}_{x}}}\\left(0\\right) + {\\left(4 i \\, \\pi k_{z} \\kappa \\mu \\sigma H_{{\\rm bad}_{{\\rm conductor}_{f_{y}}}}\\left(0\\right) - {\\left(c \\epsilon k_{z}^{2} \\kappa - c \\epsilon \\kappa^{3}\\right)} E_{{\\rm bad}_{{\\rm conductor}_{x}}}\\left(0\\right)\\right)} \\sqrt{\\epsilon} \\sqrt{\\mu}}{4 \\, {\\left(-i \\, \\pi \\epsilon k_{z}^{2} + i \\, \\pi \\epsilon \\kappa^{2}\\right)} \\mu \\sigma - {\\left(c \\epsilon k_{z}^{2} \\kappa - c \\epsilon \\kappa^{3}\\right)} \\sqrt{\\epsilon} \\sqrt{\\mu}} = -\\frac{{\\left(\\mathit{A1}_{z} + \\mathit{A2}_{z}\\right)} k_{z}}{\\sqrt{-k_{z}^{2} + \\kappa^{2}}}$"
      ],
      "text/plain": [
       "<IPython.core.display.Math object>"
      ]
     },
     "metadata": {},
     "output_type": "display_data"
    },
    {
     "name": "stdout",
     "output_type": "stream",
     "text": [
      "\n",
      "eqDx__0 =\n"
     ]
    },
    {
     "data": {
      "text/latex": [
       "$\\displaystyle \\mathit{A1}_{x} + \\mathit{A2}_{x} = \\mathit{B1}_{x} {\\left(\\epsilon + \\frac{4 i \\, \\pi \\sigma}{\\omega}\\right)}$"
      ],
      "text/plain": [
       "<IPython.core.display.Math object>"
      ]
     },
     "metadata": {},
     "output_type": "display_data"
    },
    {
     "name": "stdout",
     "output_type": "stream",
     "text": [
      "eq_Dx__0 =\n"
     ]
    },
    {
     "data": {
      "text/latex": [
       "$\\displaystyle \\epsilon + \\frac{4 i \\, \\pi \\sigma}{\\omega} = -\\frac{\\sqrt{-k_{z}^{2} + \\kappa^{2}} {\\left(\\mathit{A1}_{z} - \\mathit{A2}_{z}\\right)}}{\\sqrt{-k_{z}^{2} + \\kappa_{\\mathit{vacuum}}^{2}} {\\left(\\mathit{A1}_{z} + \\mathit{A2}_{z}\\right)}}$"
      ],
      "text/plain": [
       "<IPython.core.display.Math object>"
      ]
     },
     "metadata": {},
     "output_type": "display_data"
    },
    {
     "name": "stdout",
     "output_type": "stream",
     "text": [
      "\n"
     ]
    }
   ],
   "source": [
    "# нормальная компонента электрического смещения\n",
    "eq_5_subs4x0 = eq_5_subs4.subs(x == 0)\n",
    "#print(eq_5_subs4x0)\n",
    "display(Math(latex(eq_5_subs4x0)))\n",
    "\n",
    "print(\"\")\n",
    "\n",
    "eq_7_subs4x0 = eq_7_subs4.subs(x == 0).subs(eqEz__0)\n",
    "#print(eq_7_subs4x0)\n",
    "display(Math(latex(eq_7_subs4x0)))\n",
    "print(\"\")\n",
    "\n",
    "# eqDx__0 = E_inner_vacuum_sol_x(0) == E_bad_conductor_sol_x(0) * epsilon_complex\n",
    "eq_Dx__0 = epsilon_complex == (eq_5_subs4x0.rhs() / eq_7_subs4x0.rhs()).full_simplify()\n",
    "\n",
    "print(\"eqDx__0 =\")\n",
    "display(Math(latex(eqDx__0)))\n",
    "print(\"eq_Dx__0 =\")\n",
    "display(Math(latex(eq_Dx__0)))\n",
    "print(\"\")"
   ]
  },
  {
   "cell_type": "raw",
   "metadata": {},
   "source": [
    "eq_Dx_a_subs = eq_Dx_a.subs(eq_kappa).subs(eq_kappa_inner_vacuum)\n",
    "\n",
    "print(eq_Dx_a_subs)\n",
    "display(Math(latex(eq_Dx_a_subs)))"
   ]
  },
  {
   "cell_type": "raw",
   "metadata": {},
   "source": [
    "eq_Dx_a_subs2 = eq_Dx_a_subs.lhs()^2 == eq_Dx_a_subs.rhs()^2\n",
    "\n",
    "print(eq_Dx_a_subs2)\n",
    "display(Math(latex(eq_Dx_a_subs2)))"
   ]
  },
  {
   "cell_type": "raw",
   "metadata": {},
   "source": [
    "sol_eq_Dx_a_subs2_kz = solve(eq_Dx_a_subs2, k_z)\n",
    "\n",
    "#print(sol_eq_Dx_a_subs2_kz)\n",
    "display(Math(latex(sol_eq_Dx_a_subs2_kz)))"
   ]
  },
  {
   "cell_type": "code",
   "execution_count": 87,
   "metadata": {},
   "outputs": [],
   "source": [
    "# renamed eqDx_a -> eqDx__0"
   ]
  },
  {
   "cell_type": "code",
   "execution_count": 88,
   "metadata": {},
   "outputs": [
    {
     "data": {
      "text/plain": [
       "A1_x + A2_x == B1_x*(epsilon + 4*I*pi*sigma/omega)"
      ]
     },
     "execution_count": 88,
     "metadata": {},
     "output_type": "execute_result"
    }
   ],
   "source": [
    "# нормальная компонента электрического смещения\n",
    "# eqDx__0 = E_inner_vacuum_sol_x(0) == E_bad_conductor_sol_x(0) * epsilon_complex\n",
    "eqDx__0"
   ]
  },
  {
   "cell_type": "raw",
   "metadata": {},
   "source": [
    "print             (eq_5_subs4)\n",
    "display(Math(latex(eq_5_subs4)))"
   ]
  },
  {
   "cell_type": "raw",
   "metadata": {},
   "source": [
    "print             (eq_7_subs4)\n",
    "display(Math(latex(eq_7_subs4)))"
   ]
  },
  {
   "cell_type": "code",
   "execution_count": 89,
   "metadata": {},
   "outputs": [
    {
     "data": {
      "text/latex": [
       "$\\displaystyle \\frac{\\mathit{A1}_{z} k_{z} - \\mathit{A2}_{z} k_{z}}{\\sqrt{-k_{z}^{2} + \\kappa_{\\mathit{vacuum}}^{2}}} = -\\frac{\\mathit{B1}_{z} {\\left(\\epsilon + \\frac{4 i \\, \\pi \\sigma}{\\omega}\\right)} k_{z}}{\\sqrt{-k_{z}^{2} + \\kappa^{2}}}$"
      ],
      "text/plain": [
       "<IPython.core.display.Math object>"
      ]
     },
     "metadata": {},
     "output_type": "display_data"
    }
   ],
   "source": [
    "eq_eqDx_a = eq_5_subs4.rhs().subs(x == 0).subs(K_vacuum_subs) \\\n",
    "         == (eq_7_subs4.rhs().subs(x == 0)*epsilon_complex).subs(K_conductor_subs)\n",
    "# print             (eq_eqDx_a)\n",
    "display(Math(latex(eq_eqDx_a)))"
   ]
  },
  {
   "cell_type": "code",
   "execution_count": null,
   "metadata": {},
   "outputs": [],
   "source": []
  },
  {
   "cell_type": "code",
   "execution_count": 90,
   "metadata": {},
   "outputs": [
    {
     "name": "stdout",
     "output_type": "stream",
     "text": [
      "eqEz__a = \n"
     ]
    },
    {
     "data": {
      "text/latex": [
       "$\\displaystyle \\mathit{A1}_{z} e^{\\left(i \\, K_{\\mathit{vacuum}} a\\right)} + \\mathit{A2}_{z} e^{\\left(-i \\, K_{\\mathit{vacuum}} a\\right)} = 0$"
      ],
      "text/plain": [
       "<IPython.core.display.Math object>"
      ]
     },
     "metadata": {},
     "output_type": "display_data"
    },
    {
     "name": "stdout",
     "output_type": "stream",
     "text": [
      "eqEz__a_ = \n"
     ]
    },
    {
     "data": {
      "text/latex": [
       "$\\displaystyle {\\left(i \\, \\mathit{A1}_{z_{\\mathit{im}}} + \\mathit{A1}_{z_{\\mathit{re}}}\\right)} e^{\\left(i \\, K_{\\mathit{vacuum}} a\\right)} + {\\left(i \\, \\mathit{A2}_{z_{\\mathit{im}}} + \\mathit{A2}_{z_{\\mathit{re}}}\\right)} e^{\\left(-i \\, K_{\\mathit{vacuum}} a\\right)} = 0$"
      ],
      "text/plain": [
       "<IPython.core.display.Math object>"
      ]
     },
     "metadata": {},
     "output_type": "display_data"
    },
    {
     "name": "stdout",
     "output_type": "stream",
     "text": [
      "eqEz__a, eqEy__a = \n"
     ]
    },
    {
     "data": {
      "text/latex": [
       "$\\displaystyle \\left[\\mathit{A1}_{z} e^{\\left(i \\, K_{\\mathit{vacuum}} a\\right)} + \\mathit{A2}_{z} e^{\\left(-i \\, K_{\\mathit{vacuum}} a\\right)} = 0, \\mathit{A1}_{y} e^{\\left(i \\, K_{\\mathit{vacuum}} a\\right)} + \\mathit{A2}_{y} e^{\\left(-i \\, K_{\\mathit{vacuum}} a\\right)} = 0\\right]$"
      ],
      "text/plain": [
       "<IPython.core.display.Math object>"
      ]
     },
     "metadata": {},
     "output_type": "display_data"
    },
    {
     "name": "stdout",
     "output_type": "stream",
     "text": [
      "eqHz__a =\n"
     ]
    },
    {
     "data": {
      "text/latex": [
       "$\\displaystyle -\\frac{i \\, {\\left(-i \\, \\mathit{A1}_{y} K_{\\mathit{vacuum}} e^{\\left(i \\, K_{\\mathit{vacuum}} a\\right)} + i \\, \\mathit{A2}_{y} K_{\\mathit{vacuum}} e^{\\left(-i \\, K_{\\mathit{vacuum}} a\\right)} - i \\, {\\left(\\mathit{A1}_{x} e^{\\left(i \\, K_{\\mathit{vacuum}} a\\right)} + \\mathit{A2}_{x} e^{\\left(-i \\, K_{\\mathit{vacuum}} a\\right)}\\right)} k_{y}\\right)} c}{\\omega} = 0$"
      ],
      "text/plain": [
       "<IPython.core.display.Math object>"
      ]
     },
     "metadata": {},
     "output_type": "display_data"
    },
    {
     "name": "stdout",
     "output_type": "stream",
     "text": [
      "eqHy__a =\n"
     ]
    },
    {
     "data": {
      "text/latex": [
       "$\\displaystyle -\\frac{i \\, {\\left(i \\, \\mathit{A1}_{z} K_{\\mathit{vacuum}} e^{\\left(i \\, K_{\\mathit{vacuum}} a\\right)} - i \\, \\mathit{A2}_{z} K_{\\mathit{vacuum}} e^{\\left(-i \\, K_{\\mathit{vacuum}} a\\right)} + i \\, {\\left(\\mathit{A1}_{x} e^{\\left(i \\, K_{\\mathit{vacuum}} a\\right)} + \\mathit{A2}_{x} e^{\\left(-i \\, K_{\\mathit{vacuum}} a\\right)}\\right)} k_{z}\\right)} c}{\\omega} = 0$"
      ],
      "text/plain": [
       "<IPython.core.display.Math object>"
      ]
     },
     "metadata": {},
     "output_type": "display_data"
    },
    {
     "name": "stdout",
     "output_type": "stream",
     "text": [
      "eqHz__a =\n"
     ]
    },
    {
     "data": {
      "text/latex": [
       "$\\displaystyle -\\frac{i \\, {\\left(-i \\, {\\left(i \\, \\mathit{A1}_{y_{\\mathit{im}}} + \\mathit{A1}_{y_{\\mathit{re}}}\\right)} K_{\\mathit{vacuum}} e^{\\left(i \\, K_{\\mathit{vacuum}} a\\right)} + i \\, {\\left(i \\, \\mathit{A2}_{y_{\\mathit{im}}} + \\mathit{A2}_{y_{\\mathit{re}}}\\right)} K_{\\mathit{vacuum}} e^{\\left(-i \\, K_{\\mathit{vacuum}} a\\right)} - i \\, {\\left({\\left(i \\, \\mathit{A1}_{x_{\\mathit{im}}} + \\mathit{A1}_{x_{\\mathit{re}}}\\right)} e^{\\left(i \\, K_{\\mathit{vacuum}} a\\right)} + {\\left(i \\, \\mathit{A2}_{x_{\\mathit{im}}} + \\mathit{A2}_{x_{\\mathit{re}}}\\right)} e^{\\left(-i \\, K_{\\mathit{vacuum}} a\\right)}\\right)} k_{y}\\right)} c}{\\omega} = 0$"
      ],
      "text/plain": [
       "<IPython.core.display.Math object>"
      ]
     },
     "metadata": {},
     "output_type": "display_data"
    },
    {
     "name": "stdout",
     "output_type": "stream",
     "text": [
      "eqHy__a =\n"
     ]
    },
    {
     "data": {
      "text/latex": [
       "$\\displaystyle -\\frac{i \\, {\\left(i \\, {\\left(i \\, \\mathit{A1}_{z_{\\mathit{im}}} + \\mathit{A1}_{z_{\\mathit{re}}}\\right)} K_{\\mathit{vacuum}} e^{\\left(i \\, K_{\\mathit{vacuum}} a\\right)} - i \\, {\\left(i \\, \\mathit{A2}_{z_{\\mathit{im}}} + \\mathit{A2}_{z_{\\mathit{re}}}\\right)} K_{\\mathit{vacuum}} e^{\\left(-i \\, K_{\\mathit{vacuum}} a\\right)} + i \\, {\\left({\\left(i \\, \\mathit{A1}_{x_{\\mathit{im}}} + \\mathit{A1}_{x_{\\mathit{re}}}\\right)} e^{\\left(i \\, K_{\\mathit{vacuum}} a\\right)} + {\\left(i \\, \\mathit{A2}_{x_{\\mathit{im}}} + \\mathit{A2}_{x_{\\mathit{re}}}\\right)} e^{\\left(-i \\, K_{\\mathit{vacuum}} a\\right)}\\right)} k_{z}\\right)} c}{\\omega} = 0$"
      ],
      "text/plain": [
       "<IPython.core.display.Math object>"
      ]
     },
     "metadata": {},
     "output_type": "display_data"
    },
    {
     "name": "stdout",
     "output_type": "stream",
     "text": [
      "eqEz__a = \n"
     ]
    },
    {
     "data": {
      "text/latex": [
       "$\\displaystyle \\mathit{A1}_{z} e^{\\left(i \\, K_{\\mathit{vacuum}} a\\right)} + \\mathit{A2}_{z} e^{\\left(-i \\, K_{\\mathit{vacuum}} a\\right)} = 0$"
      ],
      "text/plain": [
       "<IPython.core.display.Math object>"
      ]
     },
     "metadata": {},
     "output_type": "display_data"
    },
    {
     "name": "stdout",
     "output_type": "stream",
     "text": [
      "eqEy__a = \n"
     ]
    },
    {
     "data": {
      "text/latex": [
       "$\\displaystyle \\mathit{A1}_{y} e^{\\left(i \\, K_{\\mathit{vacuum}} a\\right)} + \\mathit{A2}_{y} e^{\\left(-i \\, K_{\\mathit{vacuum}} a\\right)} = 0$"
      ],
      "text/plain": [
       "<IPython.core.display.Math object>"
      ]
     },
     "metadata": {},
     "output_type": "display_data"
    }
   ],
   "source": [
    "# граничные условия на границе идеального проводника и вакуума внутри резонатора\n",
    "# тангенциальная компонента электрического поля\n",
    "\n",
    "print (\"eqEz__a = \")\n",
    "display(Math(latex(eqEz__a)))\n",
    "\n",
    "eqEz__a_ = eqEz__a.subs(A1_z_re_im_subs).subs(A2_z_re_im_subs)\n",
    "eqEy__a_ = eqEy__a.subs(A1_y_re_im_subs).subs(A2_y_re_im_subs)\n",
    "\n",
    "print (\"eqEz__a_ = \")\n",
    "display(Math(latex(eqEz__a_)))\n",
    "\n",
    "\n",
    "print (\"eqEz__a, eqEy__a = \")\n",
    "display(Math(latex([eqEz__a, eqEy__a])))\n",
    "\n",
    "# тангенциальная компонента напряженности магнитного поля\n",
    "print (\"eqHz__a =\")\n",
    "display(Math(latex(eqHz__a)))\n",
    "print (\"eqHy__a =\")\n",
    "display(Math(latex(eqHy__a)))\n",
    "\n",
    "eqHz__a_ = eqHz__a \\\n",
    "        .subs(coefs_re_im_subs)\n",
    "\n",
    "# eqHy__a_ = eqHy_a \\\n",
    "eqHy__a_ = eqHy__a.subs(kappa_vacuum_sol).subs(kappa_sol) \\\n",
    "        .subs(coefs_re_im_subs)\n",
    "\n",
    "print (\"eqHz__a =\")\n",
    "display(Math(latex(eqHz__a_)))\n",
    "print (\"eqHy__a =\")\n",
    "display(Math(latex(eqHy__a_)))\n",
    "\n",
    "# граничные условия на границе вакуума внутри резонатора и проводящего металла с потерями\n",
    "# тангенциальная компонента электрического поля\n",
    "print (\"eqEz__a = \")\n",
    "display(Math(latex(eqEz__a)))\n",
    "print (\"eqEy__a = \")\n",
    "display(Math(latex(eqEy__a)))\n",
    "\n",
    "eqEz__a_ = eqEz__a \\\n",
    "        .subs(A1_z_re_im_subs).subs(A2_z_re_im_subs) \\\n",
    "        .subs(B1_z_re_im_subs)\n",
    "\n",
    "eqEy__a_ = eqEy__a \\\n",
    "        .subs(A1_y_re_im_subs).subs(A2_y_re_im_subs) \\\n",
    "        .subs(B1_y_re_im_subs)\n",
    "\n",
    "# нормальная компонента индукции магнитного поля\n",
    "#eqBx_a  = mu * H_bad_conductor_sol_x (0)  == H_inner_vacuum_sol_x (0)\n",
    "\n",
    "#print (\"eqBx_a =\")\n",
    "#display(Math(latex(eqBx_a)))\n",
    "\n",
    "#eqBx_a_ = eqBx_a \\\n",
    "#        .subs(A1_x_re_im_subs).subs(A2_x_re_im_subs) \\\n",
    "#        .subs(A1_y_re_im_subs).subs(A2_y_re_im_subs) \\\n",
    "#        .subs(A1_z_re_im_subs).subs(A2_z_re_im_subs) \\\n",
    "#        .subs(B1_x_re_im_subs) \\\n",
    "#        .subs(B1_y_re_im_subs) \\\n",
    "#        .subs(B1_z_re_im_subs)\n",
    "\n",
    "#print (\"eqBx_a_ =\")\n",
    "#display(Math(latex(eqBx_a_)))\n",
    "\n",
    "# нормальная компонента электрического смещения\n",
    "# равна плотности электрического заряда на поверхности проводника\n",
    "\n",
    "#print (\"eqDx_a =\")\n",
    "#display(Math(latex(eqDx_a)))\n",
    "\n",
    "#eqDx_a_ = eqDx_a \\\n",
    "#        .subs(coefs_re_im_subs)\n",
    "\n",
    "#print (\"eqDx_a_ =\")\n",
    "#display(Math(latex(eqDx_a_)))"
   ]
  },
  {
   "cell_type": "code",
   "execution_count": 91,
   "metadata": {},
   "outputs": [],
   "source": [
    "# граничные условия на границе идеального проводника и вакуума внутри резонатора\n",
    "# тангенциальная компонента электрического поля"
   ]
  },
  {
   "cell_type": "code",
   "execution_count": 92,
   "metadata": {},
   "outputs": [],
   "source": [
    "eqEz_0_re = eqEz__0.lhs().real() == 0\n",
    "eqEz_0_im = eqEz__0.lhs().imag() == 0"
   ]
  },
  {
   "cell_type": "code",
   "execution_count": 93,
   "metadata": {},
   "outputs": [],
   "source": [
    "eqEy_0_re = eqEy__0.lhs().real() == 0\n",
    "eqEy_0_im = eqEy__0.lhs().imag() == 0"
   ]
  },
  {
   "cell_type": "code",
   "execution_count": 94,
   "metadata": {},
   "outputs": [],
   "source": [
    "# тангенциальная компонента напряженности магнитного поля"
   ]
  },
  {
   "cell_type": "code",
   "execution_count": 95,
   "metadata": {},
   "outputs": [],
   "source": [
    "#eqHz_a"
   ]
  },
  {
   "cell_type": "code",
   "execution_count": 96,
   "metadata": {},
   "outputs": [],
   "source": [
    "#eqHy_a"
   ]
  },
  {
   "cell_type": "code",
   "execution_count": 97,
   "metadata": {},
   "outputs": [],
   "source": [
    "eqHz_a_re = eqHz__a.lhs().real() == eqHz__a.rhs().real()\n",
    "eqHz_a_im = eqHz__a.lhs().imag() == eqHz__a.rhs().imag()"
   ]
  },
  {
   "cell_type": "code",
   "execution_count": 98,
   "metadata": {},
   "outputs": [],
   "source": [
    "eqHy_a_re = eqHy__a.lhs().real() == eqHy__a.rhs().real()\n",
    "eqHy_a_im = eqHy__a.lhs().imag() == eqHy__a.rhs().imag()"
   ]
  },
  {
   "cell_type": "code",
   "execution_count": 99,
   "metadata": {},
   "outputs": [],
   "source": [
    "# граничные условия на границе вакуума внутри резонатора и проводящего металла с потерями\n",
    "# тангенциальная компонента электрического поля"
   ]
  },
  {
   "cell_type": "code",
   "execution_count": 100,
   "metadata": {},
   "outputs": [],
   "source": [
    "#eqEz_a"
   ]
  },
  {
   "cell_type": "code",
   "execution_count": 101,
   "metadata": {},
   "outputs": [],
   "source": [
    "eqEz_a_re = eqEz__a_.lhs().real() == eqEz__a_.rhs().real()\n",
    "eqEz_a_im = eqEz__a_.lhs().imag() == eqEz__a_.rhs().imag()"
   ]
  },
  {
   "cell_type": "code",
   "execution_count": 102,
   "metadata": {},
   "outputs": [],
   "source": [
    "#eqEy_a"
   ]
  },
  {
   "cell_type": "code",
   "execution_count": 103,
   "metadata": {},
   "outputs": [],
   "source": [
    "eqEy_a_re = eqEy__a_.lhs().real() == eqEy__a_.rhs().real()\n",
    "eqEy_a_im = eqEy__a_.lhs().imag() == eqEy__a_.rhs().imag()"
   ]
  },
  {
   "cell_type": "code",
   "execution_count": 104,
   "metadata": {},
   "outputs": [],
   "source": [
    "# нормальная компонента индукции магнитного поля\n",
    "# на границе вакуума внутри резонатора и проводящего металла с потерями"
   ]
  },
  {
   "cell_type": "raw",
   "metadata": {},
   "source": [
    "#eqBx_a"
   ]
  },
  {
   "cell_type": "raw",
   "metadata": {},
   "source": [
    "eqBx_a_re = eqBx__a_.lhs().real() == eqBx__a_.rhs().real()\n",
    "eqBx_a_im = eqBx__a_.lhs().imag() == eqBx__a_.rhs().imag()"
   ]
  },
  {
   "cell_type": "code",
   "execution_count": 105,
   "metadata": {},
   "outputs": [],
   "source": [
    "# нормальная компонента электрического смещения\n",
    "# на границе вакуума внутри резонатора и проводящего металла с потерями"
   ]
  },
  {
   "cell_type": "code",
   "execution_count": 106,
   "metadata": {},
   "outputs": [],
   "source": [
    "#renamed eqDx_a -> eqDx__0"
   ]
  },
  {
   "cell_type": "code",
   "execution_count": 107,
   "metadata": {},
   "outputs": [],
   "source": [
    "eqDx__0_re = eqDx__0.lhs().real() == eqDx__0.rhs().real()\n",
    "eqDx__0_im = eqDx__0.lhs().imag() == eqDx__0.rhs().imag()"
   ]
  },
  {
   "cell_type": "raw",
   "metadata": {},
   "source": [
    "display(Math(latex(k_z_sol_subs)))"
   ]
  },
  {
   "cell_type": "raw",
   "metadata": {},
   "source": [
    "k_z_sol_subs = k_z_sol_subs.subs(K_vacuum_subs).subs(K_conductor_subs).subs(kappa_vacuum_sol).subs(kappa_sol) \\\n",
    "    .subs(A1_z == A1_z_re + I * A1_z_im) \\\n",
    "    .subs(A2_z == A2_z_re + I * A2_z_im)"
   ]
  },
  {
   "cell_type": "raw",
   "metadata": {},
   "source": [
    "display(Math(latex(k_z_sol_subs)))"
   ]
  },
  {
   "cell_type": "raw",
   "metadata": {},
   "source": [
    "K_vacuum_s = K_vacuum_subs.subs(k_z_sol_subs).subs(kappa_vacuum_sol).subs(kappa_sol)\n",
    "K_vacuum_s.rhs().variables()"
   ]
  },
  {
   "cell_type": "raw",
   "metadata": {},
   "source": [
    "K_conductor_s = K_conductor_subs.subs(k_z_sol_subs).subs(kappa_vacuum_sol).subs(kappa_sol)\n",
    "K_conductor_s.rhs().variables()"
   ]
  },
  {
   "cell_type": "code",
   "execution_count": 108,
   "metadata": {},
   "outputs": [],
   "source": [
    "#k_z_sol_subs"
   ]
  },
  {
   "cell_type": "raw",
   "metadata": {},
   "source": [
    "K_vacuum_s = K_vacuum_subs.subs(k_z_sol_subs).subs(kappa_vacuum_sol).subs(kappa_sol) \\\n",
    "    .subs(A1_z == A1_z_re + I * A1_z_im) \\\n",
    "    .subs(A2_z == A2_z_re + I * A2_z_im)\n",
    "\n",
    "K_vacuum_s.rhs().variables()"
   ]
  },
  {
   "cell_type": "raw",
   "metadata": {},
   "source": [
    "K_conductor_s = K_conductor_subs.subs(k_z_sol_subs).subs(kappa_vacuum_sol).subs(kappa_sol) \\\n",
    "    .subs(A1_z == A1_z_re + I * A1_z_im) \\\n",
    "    .subs(A2_z == A2_z_re + I * A2_z_im)\n",
    "\n",
    "K_conductor_s.rhs().variables()"
   ]
  },
  {
   "cell_type": "code",
   "execution_count": null,
   "metadata": {},
   "outputs": [],
   "source": []
  },
  {
   "cell_type": "code",
   "execution_count": 109,
   "metadata": {},
   "outputs": [
    {
     "data": {
      "text/plain": [
       "([mu == 1, c == 29979245800, sigma == 18000000000000000, epsilon == 1, a == 1],\n",
       " 2.98046134067857e7)"
      ]
     },
     "execution_count": 109,
     "metadata": {},
     "output_type": "execute_result"
    }
   ],
   "source": [
    "# sgs\n",
    "A = 1\n",
    "kappa_A_max = 13*pi.n()/2\n",
    "s_A_max = 20\n",
    "\n",
    "\n",
    "# на низких частотах\n",
    "# ферриты обладают высокой относительной\n",
    "# диэлектрической проницаемостью, примерно 10^5\n",
    "epsilon_d = 1000\n",
    "epsilon_d = 1\n",
    "\n",
    "sigma_d = 1000\n",
    "# https://ru.wikipedia.org/wiki/%D0%AD%D0%BB%D0%B5%D0%BA%D1%82%D1%80%D0%BE%D0%BF%D1%80%D0%BE%D0%B2%D0%BE%D0%B4%D0%BD%D0%BE%D1%81%D1%82%D1%8C\n",
    "# серебро    62 500 000\n",
    "# медь       59 500 000\n",
    "# константан  2 000 000\n",
    "\n",
    "# См/м\n",
    "# 1 См = 1 / Ом\n",
    "\n",
    "sigma_l_d = 62500000 * (9*10^9)\n",
    "sigma_r_d =  2000000 * (9*10^9)\n",
    "\n",
    "sigma_d = sigma_r_d\n",
    "\n",
    "lambda_d = 632*100*10^-9\n",
    "# 632 nm\n",
    "\n",
    "lambda_d = 632*100*10^-6\n",
    "# 0.632 mm\n",
    "\n",
    "lambda_d = 632*100*10^-4*1000\n",
    "# 63.2 mm\n",
    "# 6.32 sm\n",
    "\n",
    "c_value  = [ c == 299792458 * 100]\n",
    "omega_value = [ omega  == ((2*pi * c)/ lambda_d).subs (c_value) ]\n",
    "digit_values_init = [mu == 1, c == 299792458 * 100, sigma == sigma_d, epsilon == epsilon_d, a == A]\n",
    "digit_values = digit_values_init\n",
    "digit_values, omega_value[0].rhs().n()"
   ]
  },
  {
   "cell_type": "code",
   "execution_count": 110,
   "metadata": {},
   "outputs": [],
   "source": [
    "h_conductor = 0.2*A"
   ]
  },
  {
   "cell_type": "raw",
   "metadata": {},
   "source": [
    "K_vacuum_s_d = K_vacuum_s.subs(digit_values)\n",
    "K_vacuum_s_d.rhs().variables()"
   ]
  },
  {
   "cell_type": "raw",
   "metadata": {},
   "source": [
    "K_conductor_s_d = K_conductor_s.subs(digit_values)\n",
    "K_conductor_s_d.rhs().variables()"
   ]
  },
  {
   "cell_type": "code",
   "execution_count": 111,
   "metadata": {},
   "outputs": [
    {
     "name": "stdout",
     "output_type": "stream",
     "text": [
      "[mu == 1, c == 29979245800, sigma == 18000000000000000, epsilon == 1, a == 1, omega == 749481145/79*pi]\n"
     ]
    }
   ],
   "source": [
    "digit_values = digit_values_init\n",
    "digit_values += omega_value\n",
    "#digit_values += A1_z_subs\n",
    "print (digit_values)"
   ]
  },
  {
   "cell_type": "code",
   "execution_count": 112,
   "metadata": {},
   "outputs": [
    {
     "data": {
      "text/plain": [
       "[k_y == 0]"
      ]
     },
     "execution_count": 112,
     "metadata": {},
     "output_type": "execute_result"
    }
   ],
   "source": [
    "# отсутсвие изменения поля вдоль оси y\n",
    "k_y0_subs = [k_y == 0]\n",
    "\n",
    "#            A1_y_im == 0, \\\n",
    "#            A1_y_re == 0, \\\n",
    "#            A2_y_im == 0, \\\n",
    "#            A2_y_re == 0]\n",
    "k_y0_subs"
   ]
  },
  {
   "cell_type": "code",
   "execution_count": 113,
   "metadata": {},
   "outputs": [],
   "source": [
    "K_vacuum_subs_2 = K_vacuum_subs.subs(kappa_vacuum_sol)"
   ]
  },
  {
   "cell_type": "code",
   "execution_count": 114,
   "metadata": {},
   "outputs": [],
   "source": [
    "K_conductor_subs_2 = K_conductor_subs.subs(kappa_sol)"
   ]
  },
  {
   "cell_type": "code",
   "execution_count": 115,
   "metadata": {},
   "outputs": [],
   "source": [
    "K_vacuum_subs_3 = K_vacuum_subs.subs(kappa_vacuum_sol)"
   ]
  },
  {
   "cell_type": "code",
   "execution_count": 116,
   "metadata": {},
   "outputs": [],
   "source": [
    "K_conductor_subs_3 = K_conductor_subs.subs(kappa_sol)"
   ]
  },
  {
   "cell_type": "code",
   "execution_count": 117,
   "metadata": {},
   "outputs": [],
   "source": [
    "K_vacuum_subs_4 = K_vacuum_subs_3.subs(k_z = kz + I * sz)"
   ]
  },
  {
   "cell_type": "code",
   "execution_count": 118,
   "metadata": {},
   "outputs": [],
   "source": [
    "K_conductor_subs_4 = K_conductor_subs_3.subs(k_z = kz + I * sz)"
   ]
  },
  {
   "cell_type": "code",
   "execution_count": 119,
   "metadata": {},
   "outputs": [],
   "source": [
    "# граничные условия на границе идеального проводника и вакуума внутри резонатора\n",
    "# тангенциальная компонента электрического поля"
   ]
  },
  {
   "cell_type": "code",
   "execution_count": 120,
   "metadata": {},
   "outputs": [],
   "source": [
    "eqEz_0_subs = eqEz__0.subs(K_vacuum_subs_3)"
   ]
  },
  {
   "cell_type": "code",
   "execution_count": 121,
   "metadata": {},
   "outputs": [],
   "source": [
    "eqEz_0_re_subs = eqEz_0_re.subs(K_vacuum_subs_3)\n",
    "eqEz_0_im_subs = eqEz_0_im.subs(K_vacuum_subs_3)"
   ]
  },
  {
   "cell_type": "code",
   "execution_count": 122,
   "metadata": {},
   "outputs": [],
   "source": [
    "eqEy_0_re_subs = eqEy_0_re.subs(K_vacuum_subs_3)\n",
    "eqEy_0_im_subs = eqEy_0_im.subs(K_vacuum_subs_3)"
   ]
  },
  {
   "cell_type": "code",
   "execution_count": 123,
   "metadata": {},
   "outputs": [
    {
     "data": {
      "text/plain": [
       "(B1_z,)"
      ]
     },
     "execution_count": 123,
     "metadata": {},
     "output_type": "execute_result"
    }
   ],
   "source": [
    "eqEz_0_re_subs.variables()"
   ]
  },
  {
   "cell_type": "code",
   "execution_count": 124,
   "metadata": {},
   "outputs": [],
   "source": [
    "# тангенциальная компонента напряженности магнитного поля\n",
    "# на границе вакуума внутри резонатора и проводящего металла с потерями"
   ]
  },
  {
   "cell_type": "code",
   "execution_count": 125,
   "metadata": {},
   "outputs": [],
   "source": [
    "eqHy_a_subs = eqHy__a.subs(K_vacuum_subs_3).subs(K_conductor_subs_3)"
   ]
  },
  {
   "cell_type": "code",
   "execution_count": 126,
   "metadata": {},
   "outputs": [],
   "source": [
    "eqHy_a_re_subs = eqHy_a_re.subs(K_vacuum_subs_3).subs(K_conductor_subs_3)\n",
    "eqHy_a_im_subs = eqHy_a_im.subs(K_vacuum_subs_3).subs(K_conductor_subs_3)"
   ]
  },
  {
   "cell_type": "code",
   "execution_count": 127,
   "metadata": {},
   "outputs": [],
   "source": [
    "eqHz_a_re_subs = eqHz_a_re.subs(K_vacuum_subs_3).subs(K_conductor_subs_3)\n",
    "eqHz_a_im_subs = eqHz_a_im.subs(K_vacuum_subs_3).subs(K_conductor_subs_3)"
   ]
  },
  {
   "cell_type": "code",
   "execution_count": 128,
   "metadata": {},
   "outputs": [],
   "source": [
    "# граничные условия на границе идеального проводника и вакуума внутри резонатора\n",
    "# тангенциальная компонента электрического поля"
   ]
  },
  {
   "cell_type": "code",
   "execution_count": 129,
   "metadata": {},
   "outputs": [],
   "source": [
    "eqEz_a_subs = eqEz__a"
   ]
  },
  {
   "cell_type": "code",
   "execution_count": 130,
   "metadata": {},
   "outputs": [],
   "source": [
    "eqEz_a_re_subs = eqEz_a_re\n",
    "eqEz_a_im_subs = eqEz_a_im"
   ]
  },
  {
   "cell_type": "code",
   "execution_count": 131,
   "metadata": {},
   "outputs": [],
   "source": [
    "eqEy_a_re_subs = eqEy_a_re\n",
    "eqEy_a_im_subs = eqEy_a_im"
   ]
  },
  {
   "cell_type": "code",
   "execution_count": 132,
   "metadata": {},
   "outputs": [],
   "source": [
    "# нормальная компонента индукции магнитного поля\n",
    "# на границе вакуума внутри резонатора и проводящего металла с потерями"
   ]
  },
  {
   "cell_type": "raw",
   "metadata": {},
   "source": [
    "eqBx__0_re_subs = eqBx__0_re.subs(kappa_vacuum_sol)\n",
    "eqBx__0_im_subs = eqBx__0_im.subs(kappa_vacuum_sol)"
   ]
  },
  {
   "cell_type": "code",
   "execution_count": 133,
   "metadata": {},
   "outputs": [],
   "source": [
    "# нормальная компонента электрического смещения\n",
    "# на границе вакуума внутри резонатора и проводящего металла с потерями"
   ]
  },
  {
   "cell_type": "code",
   "execution_count": 134,
   "metadata": {},
   "outputs": [],
   "source": [
    "eqDx__0_re_subs = eqDx__0_re.subs(kappa_vacuum_sol)\n",
    "eqDx__0_im_subs = eqDx__0_im.subs(kappa_vacuum_sol)"
   ]
  },
  {
   "cell_type": "raw",
   "metadata": {},
   "source": [
    "print(eqEz_0_re)\n",
    "print(eqEz_0_im)\n",
    "\n",
    "print(eqEy_0_re)\n",
    "print(eqEy_0_im)\n",
    "\n",
    "print(eqHy_a_re)\n",
    "print(eqHy_a_im)\n",
    "\n",
    "print(eqHz_a_re)\n",
    "print(eqHz_a_im)\n",
    "\n",
    "print(eqEz_a_re)\n",
    "print(eqEz_a_im)\n",
    "\n",
    "print(eqEy_a_re)\n",
    "print(eqEy_a_im)\n",
    "\n",
    "#print(eqBx_a_re)\n",
    "#print(eqBx_a_im)\n",
    "\n",
    "#print(eqDx_a_re)\n",
    "#print(eqDx_a_im)"
   ]
  },
  {
   "cell_type": "code",
   "execution_count": 135,
   "metadata": {},
   "outputs": [],
   "source": [
    "def GenerateMatrix(equsys, vars):\n",
    "    A=matrix(SR, [[(equ.lhs() - equ.rhs()).coefficient(v) for v in vars] for equ in equsys])\n",
    "    return A"
   ]
  },
  {
   "cell_type": "code",
   "execution_count": 136,
   "metadata": {},
   "outputs": [],
   "source": [
    "def GenerateMatrixReIm(equsys, coefs_re_im_subs, vars):\n",
    "    A=matrix(SR, [[(equ.lhs().real() - equ.rhs().real()).subs(k_z == kz + I * sz).subs(coefs_re_im_subs).expand().coefficient(v) for v in vars] for equ in equsys] + \\\n",
    "                 [[(equ.lhs().imag() - equ.rhs().imag()).subs(k_z == kz + I * sz).subs(coefs_re_im_subs).expand().coefficient(v) for v in vars] for equ in equsys])\n",
    "    return A"
   ]
  },
  {
   "cell_type": "code",
   "execution_count": 137,
   "metadata": {},
   "outputs": [],
   "source": [
    "def GenerateMatrixNumeric(equsys, vars):\n",
    "    A=matrix(SR, [[(equ.lhs() - equ.rhs()).coefficient(v).n() for v in vars] for equ in equsys])\n",
    "    return A"
   ]
  },
  {
   "cell_type": "code",
   "execution_count": 138,
   "metadata": {},
   "outputs": [],
   "source": [
    "def reduceDependedRows(M):\n",
    "    #print (\"\")\n",
    "    #print (\"M.nrows()\", M.nrows())\n",
    "    #print (\"M.ncols()\", M.ncols())\n",
    "    #print (\"M.rank()\", M.rank())\n",
    "\n",
    "    M_pivot_rows = M.pivot_rows()\n",
    "    #print (\"M.pivot_rows() =\", M_pivot_rows)\n",
    "\n",
    "    M_rows = M.rows()\n",
    "    #for row in M_rows:\n",
    "    #    print (\"row =\", row)\n",
    "\n",
    "    reduced_list = []\n",
    "    for r in M_pivot_rows:\n",
    "        #print (\"M_rows[\", r, \"] =\")\n",
    "        #display(Math(latex(M_rows[r])))\n",
    "        reduced_list.append(M_rows[r])\n",
    "\n",
    "    reduced_M = matrix(SR, len(M_pivot_rows), M.ncols(), reduced_list)\n",
    "    #reduced_M_det = reduced_M.det()\n",
    "    \n",
    "    #print (\"reduced_M.nrows()\", reduced_M.nrows())\n",
    "    #print (\"reduced_M.ncols()\", reduced_M.ncols())\n",
    "    \n",
    "    #print (\"\")\n",
    "    #print(\"reduced_M.det() =\", reduced_M_det)\n",
    "    return reduced_M"
   ]
  },
  {
   "cell_type": "code",
   "execution_count": 139,
   "metadata": {},
   "outputs": [],
   "source": [
    "def reduceRows(M, M_pivot_rows):\n",
    "    print (\"\")\n",
    "    print (\"M.nrows()\", M.nrows())\n",
    "    print (\"M.ncols()\", M.ncols())\n",
    "    #print (\"M.rank()\", M.rank())\n",
    "\n",
    "    print (\"M.pivot_rows() =\", M_pivot_rows)\n",
    "\n",
    "    M_rows = M.rows()\n",
    "    for row in M_rows:\n",
    "        print (\"row =\", row)\n",
    "\n",
    "    reduced_list = []\n",
    "    for r in M_pivot_rows:\n",
    "        print (\"M_rows[\", r, \"] =\")\n",
    "        display(Math(latex(M_rows[r])))\n",
    "        reduced_list.append(M_rows[r])\n",
    "\n",
    "    reduced_M = matrix(SR, len(M_pivot_rows), M.ncols(), reduced_list)\n",
    "    #reduced_M_det = reduced_M.det()\n",
    "    #print (\"\")\n",
    "    #print(\"reduced_M.det() =\", reduced_M_det)\n",
    "    \n",
    "    print (\"reduced_M.nrows()\", reduced_M.nrows())\n",
    "    print (\"reduced_M.ncols()\", reduced_M.ncols())\n",
    "\n",
    "    return reduced_M"
   ]
  },
  {
   "cell_type": "code",
   "execution_count": null,
   "metadata": {},
   "outputs": [],
   "source": []
  },
  {
   "cell_type": "code",
   "execution_count": 140,
   "metadata": {},
   "outputs": [],
   "source": [
    "#Hy_bad_conductor = (eq_8_subs3.rhs()*sqrt(epsilon_complex)/sqrt(mu)).subs(K_conductor_subs_d).subs(kappa_vacuum_sol).subs(kappa_sol).subs(k_z_sol).subs(eqEz_a).subs(A1_x_re_im_subs, A2_x_re_im_subs)\n",
    "#Hy_vacuum        = (eq_6_subs3.rhs()).subs(K_vacuum_subs_d).subs(kappa_vacuum_sol).subs(kappa_sol).subs(k_z_sol).subs(eqEz_a).subs(A1_x_re_im_subs, A2_x_re_im_subs)"
   ]
  },
  {
   "cell_type": "code",
   "execution_count": 141,
   "metadata": {},
   "outputs": [],
   "source": [
    "# sqrt(mu / epsilon_complex) = omega/c * mu / kappa\n",
    "# sqrt(mu / epsilon_complex) = omega/c * mu_rel * mu_0 / kappa\n",
    "\n",
    "# kappa/mu == omega * sqrt(epsilon_complex/mu)\n",
    "# sqrt(mu_0 / epsilon_0) = omega * mu_0 / kappa_vacuum\n",
    "\n",
    "# kappa_vacuum == omega/c\n",
    "# sqrt(mu_0 / epsilon_0) = c * mu_0\n",
    "# c = 1 / sqrt(mu_0 * epsilon_0)\n",
    "\n",
    "# kappa = omega/c * sqrt(epsilon_comlex*mu)\n",
    "# kappa_vacuum = omega/c * sqrt(epsilon_0*mu_0) = omega/c\n",
    "\n",
    "# sqrt(mu_0 / epsilon_0) = 1/(c*epsilon_0) = omega/c * mu_0 / kappa_vacuum\n",
    "# sqrt(mu / epsilon_complex) = 1/(c*epsilon_complex) = omega/c * mu / kappa\n",
    "\n",
    "# 1/mu_0 = c^2*epsolon_0"
   ]
  },
  {
   "cell_type": "code",
   "execution_count": 142,
   "metadata": {},
   "outputs": [],
   "source": [
    "Ex_bad_conductor = (eq_7_subs3.rhs())\n",
    "Ex_vacuum        = (eq_5_subs3.rhs())"
   ]
  },
  {
   "cell_type": "code",
   "execution_count": 143,
   "metadata": {},
   "outputs": [],
   "source": [
    "Ez_vacuum        = E_inner_vacuum_sol_z(x)\n",
    "Ez_bad_conductor = E_bad_conductor_sol_z(x)"
   ]
  },
  {
   "cell_type": "code",
   "execution_count": 144,
   "metadata": {},
   "outputs": [],
   "source": [
    "Hy_bad_conductor = c * (eq_8_subs3.rhs()*kappa        / (mu  *omega))\n",
    "Hy_vacuum        = c * (eq_6_subs3.rhs()*kappa_vacuum / (mu_0*omega))"
   ]
  },
  {
   "cell_type": "code",
   "execution_count": 145,
   "metadata": {},
   "outputs": [],
   "source": [
    "rot_H_vacuum_x = - diff(Hy_vacuum(x=x)*e^(I*k_z*z), z)\n",
    "rot_H_vacuum_y =   0\n",
    "rot_H_vacuum_z =   diff(Hy_vacuum(x=x)*e^(I*k_z*z), x)"
   ]
  },
  {
   "cell_type": "code",
   "execution_count": 146,
   "metadata": {},
   "outputs": [],
   "source": [
    "eq_rot_H_vacuum_x = rot_H_vacuum_x == (-I*omega/c*Ex_vacuum(x=x)*e^(I*k_z*z))\n",
    "eq_rot_H_vacuum_z = rot_H_vacuum_z == (-I*omega/c*Ez_vacuum(x=x)*e^(I*k_z*z))"
   ]
  },
  {
   "cell_type": "code",
   "execution_count": 147,
   "metadata": {},
   "outputs": [],
   "source": [
    "rot_H_conductor_x = - diff(Hy_bad_conductor(x=x)*e^(I*k_z*z), z)\n",
    "rot_H_conductor_y =   0\n",
    "rot_H_conductor_z =   diff(Hy_bad_conductor(x=x)*e^(I*k_z*z), x)"
   ]
  },
  {
   "cell_type": "code",
   "execution_count": 148,
   "metadata": {},
   "outputs": [],
   "source": [
    "eq_rot_H_conductor_x = rot_H_conductor_x == ((-I*epsilon_complex*omega/c) * Ex_bad_conductor(x=x)*e^(I*k_z*z))\n",
    "eq_rot_H_conductor_z = rot_H_conductor_z == ((-I*epsilon_complex*omega/c) * Ez_bad_conductor(x=x)*e^(I*k_z*z))"
   ]
  },
  {
   "cell_type": "code",
   "execution_count": null,
   "metadata": {},
   "outputs": [],
   "source": []
  },
  {
   "cell_type": "code",
   "execution_count": 149,
   "metadata": {},
   "outputs": [],
   "source": [
    "sys_rot_H_vacuum = [\n",
    "    (eq_rot_H_vacuum_x.subs(K_vacuum_subs)/e^(I*k_z*z)/k_z*(k_z^2-kappa_vacuum^2)).subs(kappa_vacuum == omega/c).full_simplify().expand(),\n",
    "    (eq_rot_H_vacuum_z.subs(K_vacuum_subs)/e^(I*k_z*z)).subs(kappa_vacuum == omega/c).full_simplify().expand(),\n",
    "]\n",
    "\n",
    "# 2 equations"
   ]
  },
  {
   "cell_type": "code",
   "execution_count": 150,
   "metadata": {},
   "outputs": [
    {
     "data": {
      "text/latex": [
       "$\\displaystyle \\left(\\begin{array}{rr}\n",
       "0 & 0 \\\\\n",
       "0 & 0\n",
       "\\end{array}\\right)$"
      ],
      "text/plain": [
       "<IPython.core.display.Math object>"
      ]
     },
     "metadata": {},
     "output_type": "display_data"
    }
   ],
   "source": [
    "M2_sys_rot_H_vacuum = GenerateMatrix(sys_rot_H_vacuum, [A1_z, A2_z])\n",
    "display(Math(latex(M2_sys_rot_H_vacuum)))"
   ]
  },
  {
   "cell_type": "code",
   "execution_count": 151,
   "metadata": {},
   "outputs": [],
   "source": [
    "sys_rot_H_conductor = [\n",
    "    (eq_rot_H_conductor_x/B1_z*(k_z^2-kappa^2)/K_conductor/k_z).subs(eq_kappa),\n",
    "    (eq_rot_H_conductor_z/B1_z).subs(K_conductor_subs).subs(eq_kappa)\n",
    "]\n",
    "\n",
    "# 2 equations"
   ]
  },
  {
   "cell_type": "raw",
   "metadata": {},
   "source": [
    "(sys_rot_H_conductor[0].lhs()-sys_rot_H_conductor[0].rhs()).full_simplify()"
   ]
  },
  {
   "cell_type": "raw",
   "metadata": {},
   "source": [
    "(sys_rot_H_conductor[1].lhs()-sys_rot_H_conductor[1].rhs()).full_simplify()"
   ]
  },
  {
   "cell_type": "code",
   "execution_count": null,
   "metadata": {},
   "outputs": [],
   "source": []
  },
  {
   "cell_type": "code",
   "execution_count": 152,
   "metadata": {},
   "outputs": [],
   "source": [
    "eq_Dx_r = (Ex_vacuum == Ex_bad_conductor * epsilon_complex).subs(x == 0).subs(K_conductor_subs).subs(eq_kappa).subs(K_vacuum_subs).subs(kappa_vacuum == omega/c)"
   ]
  },
  {
   "cell_type": "code",
   "execution_count": 153,
   "metadata": {},
   "outputs": [],
   "source": [
    "eq_Dx_r_re = (eq_Dx_r.lhs().real() == eq_Dx_r.rhs().real()).subs(k_z = kz + I * sz).subs(B1_z == I * B1_z_im + B1_z_re, A2_z = I * A2_z_im + A2_z_re, A1_z = I * A1_z_im + A1_z_re)\n",
    "eq_Dx_r_im = (eq_Dx_r.lhs().imag() == eq_Dx_r.rhs().imag()).subs(k_z = kz + I * sz).subs(B1_z == I * B1_z_im + B1_z_re, A2_z = I * A2_z_im + A2_z_re, A1_z = I * A1_z_im + A1_z_re)"
   ]
  },
  {
   "cell_type": "code",
   "execution_count": 154,
   "metadata": {},
   "outputs": [],
   "source": [
    "eq_Dx_r_re_d = eq_Dx_r_re.subs(digit_values)\n",
    "eq_Dx_r_im_d = eq_Dx_r_im.subs(digit_values)"
   ]
  },
  {
   "cell_type": "raw",
   "metadata": {},
   "source": [
    "sys6_subs = [eqEz_0_re_subs.subs(k_z = kz + I * sz), \\\n",
    "             eqEz_0_im_subs.subs(k_z = kz + I * sz), \\\n",
    "             eqHy_a_re_subs.subs(k_z = kz + I * sz), \\\n",
    "             eqHy_a_im_subs.subs(k_z = kz + I * sz), \\\n",
    "             eqEz_a_re_subs.subs(k_z = kz + I * sz), \\\n",
    "             eqEz_a_im_subs.subs(k_z = kz + I * sz), \\\n",
    "            ]\n",
    "\n",
    "# 6 equations"
   ]
  },
  {
   "cell_type": "raw",
   "metadata": {},
   "source": [
    "sys6_2_subs = [eqEz_0_re_subs.subs(k_z = kz + I * sz), \\\n",
    "             eqEz_0_im_subs.subs(k_z = kz + I * sz), \\\n",
    "             eqHy_a_re_subs.subs(k_z = kz + I * sz), \\\n",
    "             eqHy_a_im_subs.subs(k_z = kz + I * sz), \\\n",
    "             eqEz_a_re_subs.subs(k_z = kz + I * sz), \\\n",
    "             eqEz_a_im_subs.subs(k_z = kz + I * sz), \\\n",
    "             eq_Dx_r_re, eq_Dx_r_im\n",
    "            ]\n",
    "\n",
    "# 6 equations"
   ]
  },
  {
   "cell_type": "raw",
   "metadata": {},
   "source": [
    "sys6 = [eqEz_0_re, eqEz_0_im, \\\n",
    "        eqHy_a_re, eqHy_a_im, \\\n",
    "        eqEz_a_re, eqEz_a_im, \\\n",
    "        ]\n",
    "\n",
    "# 6 equations"
   ]
  },
  {
   "cell_type": "raw",
   "metadata": {},
   "source": [
    "sys3_subs = [eqEz_0_subs, \\\n",
    "             eqHy_a_subs, \\\n",
    "             eqEz_a_subs, \\\n",
    "            ]\n",
    "\n",
    "# 3 equations"
   ]
  },
  {
   "cell_type": "raw",
   "metadata": {},
   "source": [
    "sys_subs_v = [eq.subs(digit_values) for eq in sys3_subs]\n",
    "\n",
    "vv = set()\n",
    "for eq in sys_subs_v:\n",
    "    print(eq.variables())\n",
    "    for variable in eq.variables():\n",
    "        vv.add(variable)\n",
    "vv"
   ]
  },
  {
   "cell_type": "code",
   "execution_count": 155,
   "metadata": {},
   "outputs": [
    {
     "data": {
      "text/plain": [
       "[B1_z == A1_z + A2_z,\n",
       " A1_z*e^(I*sqrt(-k_z^2 + omega^2/c^2)*a) + A2_z*e^(-I*sqrt(-k_z^2 + omega^2/c^2)*a) == 0,\n",
       " A1_x + A2_x == B1_x*(epsilon + 4*I*pi*sigma/omega),\n",
       " -I*(I*B1_x*k_z - I*sqrt(-k_z^2 + (epsilon*mu*omega^2 + 4*I*pi*mu*omega*sigma)/c^2)*(A1_z + A2_z))*c/(mu*omega) == -I*(I*(A1_x + A2_x)*k_z + I*sqrt(-k_z^2 + omega^2/c^2)*A1_z - I*sqrt(-k_z^2 + omega^2/c^2)*A2_z)*c/omega,\n",
       " -I*(I*sqrt(-k_z^2 + omega^2/c^2)*A1_z*e^(I*sqrt(-k_z^2 + omega^2/c^2)*a) - I*sqrt(-k_z^2 + omega^2/c^2)*A2_z*e^(-I*sqrt(-k_z^2 + omega^2/c^2)*a) + I*(A1_x*e^(I*sqrt(-k_z^2 + omega^2/c^2)*a) + A2_x*e^(-I*sqrt(-k_z^2 + omega^2/c^2)*a))*k_z)*c/omega == 0,\n",
       " -(epsilon*mu*omega^2 + 4*I*pi*mu*omega*sigma)*(A1_z + A2_z)/(sqrt(-k_z^2 + (epsilon*mu*omega^2 + 4*I*pi*mu*omega*sigma)/c^2)*c^2*mu) == (A1_z - A2_z)*omega^2/(sqrt(-k_z^2 + omega^2/c^2)*c^2)]"
      ]
     },
     "execution_count": 155,
     "metadata": {},
     "output_type": "execute_result"
    }
   ],
   "source": [
    "sys6 = [eqEz__0, \\\n",
    "        eqEz__a.subs(K_vacuum_subs).subs(kappa_vacuum_sol), \\\n",
    "        eqDx__0, \\\n",
    "        eqHy__0.subs(K_conductor_subs).subs(kappa_sol).subs(K_vacuum_subs).subs(kappa_vacuum_sol), \\\n",
    "        eqHy__a.subs(K_vacuum_subs).subs(kappa_vacuum_sol), \\\n",
    "        eq_Hy_0.subs(kappa_vacuum_sol).subs(kappa_sol), \\\n",
    "       ]\n",
    "sys6"
   ]
  },
  {
   "cell_type": "code",
   "execution_count": 156,
   "metadata": {},
   "outputs": [
    {
     "data": {
      "text/plain": [
       "kappa == sqrt(epsilon*mu*omega^2 + 4*I*pi*mu*omega*sigma)/c"
      ]
     },
     "execution_count": 156,
     "metadata": {},
     "output_type": "execute_result"
    }
   ],
   "source": [
    "kappa_sol"
   ]
  },
  {
   "cell_type": "code",
   "execution_count": 157,
   "metadata": {},
   "outputs": [
    {
     "name": "stdout",
     "output_type": "stream",
     "text": [
      "(A1_z, A2_z, B1_z)\n",
      "(A1_z, A2_z, k_z)\n",
      "(A1_x, A2_x, B1_x)\n",
      "(A1_x, A1_z, A2_x, A2_z, B1_x, k_z)\n",
      "(A1_x, A1_z, A2_x, A2_z, k_z)\n",
      "(A1_z, A2_z, k_z)\n"
     ]
    },
    {
     "data": {
      "text/plain": [
       "{A1_z, B1_z, A2_x, B1_x, A2_z, A1_x, k_z}"
      ]
     },
     "execution_count": 157,
     "metadata": {},
     "output_type": "execute_result"
    }
   ],
   "source": [
    "sys_subs_v = [eq.subs(digit_values) for eq in sys6]\n",
    "\n",
    "vv = set()\n",
    "for eq in sys_subs_v:\n",
    "    print(eq.variables())\n",
    "    for variable in eq.variables():\n",
    "        vv.add(variable)\n",
    "vv"
   ]
  },
  {
   "cell_type": "code",
   "execution_count": 158,
   "metadata": {},
   "outputs": [],
   "source": [
    "vars6 = [\n",
    "    A1_x,\n",
    "    A1_z,\n",
    "    A2_x,\n",
    "    A2_z,\n",
    "    B1_x,\n",
    "    B1_z,\n",
    "]\n",
    "# 3 variables"
   ]
  },
  {
   "cell_type": "code",
   "execution_count": 159,
   "metadata": {},
   "outputs": [],
   "source": [
    "vars6reim = [\n",
    "    A1_x_re, A1_x_im,\n",
    "    A1_z_re, A1_z_im,\n",
    "    A2_x_re, A2_x_im,\n",
    "    A2_z_re, A2_z_im,\n",
    "    B1_x_re, B1_x_im,\n",
    "    B1_z_re, B1_z_im,\n",
    "]\n",
    "# 3 variables"
   ]
  },
  {
   "cell_type": "code",
   "execution_count": 160,
   "metadata": {},
   "outputs": [],
   "source": [
    "M6 = GenerateMatrix(sys6, vars6)"
   ]
  },
  {
   "cell_type": "code",
   "execution_count": 161,
   "metadata": {},
   "outputs": [],
   "source": [
    "M6_ReIm = GenerateMatrixReIm(sys6, coefs_re_im_subs, vars6reim)"
   ]
  },
  {
   "cell_type": "code",
   "execution_count": 162,
   "metadata": {},
   "outputs": [
    {
     "data": {
      "text/plain": [
       "(6, 6)"
      ]
     },
     "execution_count": 162,
     "metadata": {},
     "output_type": "execute_result"
    }
   ],
   "source": [
    "M6.nrows(), M6.ncols()"
   ]
  },
  {
   "cell_type": "code",
   "execution_count": 163,
   "metadata": {},
   "outputs": [
    {
     "data": {
      "text/plain": [
       "(12, 12)"
      ]
     },
     "execution_count": 163,
     "metadata": {},
     "output_type": "execute_result"
    }
   ],
   "source": [
    "M6_ReIm.nrows(), M6_ReIm.ncols()"
   ]
  },
  {
   "cell_type": "code",
   "execution_count": 164,
   "metadata": {},
   "outputs": [
    {
     "data": {
      "text/plain": [
       "(a, c, epsilon, k_z, mu, omega, sigma)"
      ]
     },
     "execution_count": 164,
     "metadata": {},
     "output_type": "execute_result"
    }
   ],
   "source": [
    "M6.variables()"
   ]
  },
  {
   "cell_type": "code",
   "execution_count": 165,
   "metadata": {},
   "outputs": [
    {
     "data": {
      "text/latex": [
       "$\\displaystyle \\left(\\begin{array}{rrrrrr}\n",
       "0 & -1 & 0 & -1 & 0 & 1 \\\\\n",
       "0 & e^{\\left(i \\, \\sqrt{-k_{z}^{2} + \\frac{\\omega^{2}}{c^{2}}} a\\right)} & 0 & e^{\\left(-i \\, \\sqrt{-k_{z}^{2} + \\frac{\\omega^{2}}{c^{2}}} a\\right)} & 0 & 0 \\\\\n",
       "1 & 0 & 1 & 0 & -\\epsilon - \\frac{4 i \\, \\pi \\sigma}{\\omega} & 0 \\\\\n",
       "-\\frac{c k_{z}}{\\omega} & -\\frac{\\sqrt{-k_{z}^{2} + \\frac{\\omega^{2}}{c^{2}}} c}{\\omega} - \\frac{\\sqrt{-k_{z}^{2} + \\frac{\\epsilon \\mu \\omega^{2} + 4 i \\, \\pi \\mu \\omega \\sigma}{c^{2}}} c}{\\mu \\omega} & -\\frac{c k_{z}}{\\omega} & \\frac{\\sqrt{-k_{z}^{2} + \\frac{\\omega^{2}}{c^{2}}} c}{\\omega} - \\frac{\\sqrt{-k_{z}^{2} + \\frac{\\epsilon \\mu \\omega^{2} + 4 i \\, \\pi \\mu \\omega \\sigma}{c^{2}}} c}{\\mu \\omega} & \\frac{c k_{z}}{\\mu \\omega} & 0 \\\\\n",
       "\\frac{c k_{z} e^{\\left(i \\, \\sqrt{-k_{z}^{2} + \\frac{\\omega^{2}}{c^{2}}} a\\right)}}{\\omega} & \\frac{\\sqrt{-k_{z}^{2} + \\frac{\\omega^{2}}{c^{2}}} c e^{\\left(i \\, \\sqrt{-k_{z}^{2} + \\frac{\\omega^{2}}{c^{2}}} a\\right)}}{\\omega} & \\frac{c k_{z} e^{\\left(-i \\, \\sqrt{-k_{z}^{2} + \\frac{\\omega^{2}}{c^{2}}} a\\right)}}{\\omega} & -\\frac{\\sqrt{-k_{z}^{2} + \\frac{\\omega^{2}}{c^{2}}} c e^{\\left(-i \\, \\sqrt{-k_{z}^{2} + \\frac{\\omega^{2}}{c^{2}}} a\\right)}}{\\omega} & 0 & 0 \\\\\n",
       "0 & -\\frac{\\omega^{2}}{\\sqrt{-k_{z}^{2} + \\frac{\\omega^{2}}{c^{2}}} c^{2}} - \\frac{\\epsilon \\mu \\omega^{2} + 4 i \\, \\pi \\mu \\omega \\sigma}{\\sqrt{-k_{z}^{2} + \\frac{\\epsilon \\mu \\omega^{2} + 4 i \\, \\pi \\mu \\omega \\sigma}{c^{2}}} c^{2} \\mu} & 0 & \\frac{\\omega^{2}}{\\sqrt{-k_{z}^{2} + \\frac{\\omega^{2}}{c^{2}}} c^{2}} - \\frac{\\epsilon \\mu \\omega^{2} + 4 i \\, \\pi \\mu \\omega \\sigma}{\\sqrt{-k_{z}^{2} + \\frac{\\epsilon \\mu \\omega^{2} + 4 i \\, \\pi \\mu \\omega \\sigma}{c^{2}}} c^{2} \\mu} & 0 & 0\n",
       "\\end{array}\\right)$"
      ],
      "text/plain": [
       "<IPython.core.display.Math object>"
      ]
     },
     "metadata": {},
     "output_type": "display_data"
    }
   ],
   "source": [
    "disp(M6)"
   ]
  },
  {
   "cell_type": "code",
   "execution_count": 166,
   "metadata": {},
   "outputs": [
    {
     "data": {
      "text/plain": [
       "(a, c, epsilon, kz, mu, omega, sigma, sz)"
      ]
     },
     "execution_count": 166,
     "metadata": {},
     "output_type": "execute_result"
    }
   ],
   "source": [
    "M6_ReIm.variables()"
   ]
  },
  {
   "cell_type": "code",
   "execution_count": 167,
   "metadata": {},
   "outputs": [],
   "source": [
    "# M6.rank()\n",
    "# 6"
   ]
  },
  {
   "cell_type": "code",
   "execution_count": 168,
   "metadata": {},
   "outputs": [],
   "source": [
    "M6_det = M6.det()"
   ]
  },
  {
   "cell_type": "code",
   "execution_count": 169,
   "metadata": {},
   "outputs": [
    {
     "data": {
      "text/latex": [
       "$\\displaystyle -\\frac{\\epsilon^{2} k_{z}^{2} e^{\\left(2 i \\, \\sqrt{-k_{z}^{2} + \\frac{\\omega^{2}}{c^{2}}} a\\right)}}{\\sqrt{-k_{z}^{2} + \\frac{\\epsilon \\mu \\omega^{2}}{c^{2}} + \\frac{4 i \\, \\pi \\mu \\omega \\sigma}{c^{2}}}} - \\frac{8 i \\, \\pi \\epsilon k_{z}^{2} \\sigma e^{\\left(2 i \\, \\sqrt{-k_{z}^{2} + \\frac{\\omega^{2}}{c^{2}}} a\\right)}}{\\sqrt{-k_{z}^{2} + \\frac{\\epsilon \\mu \\omega^{2}}{c^{2}} + \\frac{4 i \\, \\pi \\mu \\omega \\sigma}{c^{2}}} \\omega} + \\frac{16 \\, \\pi^{2} k_{z}^{2} \\sigma^{2} e^{\\left(2 i \\, \\sqrt{-k_{z}^{2} + \\frac{\\omega^{2}}{c^{2}}} a\\right)}}{\\sqrt{-k_{z}^{2} + \\frac{\\epsilon \\mu \\omega^{2}}{c^{2}} + \\frac{4 i \\, \\pi \\mu \\omega \\sigma}{c^{2}}} \\omega^{2}} - \\frac{\\epsilon^{2} k_{z}^{2} e^{\\left(-2 i \\, \\sqrt{-k_{z}^{2} + \\frac{\\omega^{2}}{c^{2}}} a\\right)}}{\\sqrt{-k_{z}^{2} + \\frac{\\epsilon \\mu \\omega^{2}}{c^{2}} + \\frac{4 i \\, \\pi \\mu \\omega \\sigma}{c^{2}}}} - \\frac{8 i \\, \\pi \\epsilon k_{z}^{2} \\sigma e^{\\left(-2 i \\, \\sqrt{-k_{z}^{2} + \\frac{\\omega^{2}}{c^{2}}} a\\right)}}{\\sqrt{-k_{z}^{2} + \\frac{\\epsilon \\mu \\omega^{2}}{c^{2}} + \\frac{4 i \\, \\pi \\mu \\omega \\sigma}{c^{2}}} \\omega} + \\frac{16 \\, \\pi^{2} k_{z}^{2} \\sigma^{2} e^{\\left(-2 i \\, \\sqrt{-k_{z}^{2} + \\frac{\\omega^{2}}{c^{2}}} a\\right)}}{\\sqrt{-k_{z}^{2} + \\frac{\\epsilon \\mu \\omega^{2}}{c^{2}} + \\frac{4 i \\, \\pi \\mu \\omega \\sigma}{c^{2}}} \\omega^{2}} + \\frac{2 \\, \\epsilon^{2} k_{z}^{2}}{\\sqrt{-k_{z}^{2} + \\frac{\\epsilon \\mu \\omega^{2}}{c^{2}} + \\frac{4 i \\, \\pi \\mu \\omega \\sigma}{c^{2}}}} + \\frac{16 i \\, \\pi \\epsilon k_{z}^{2} \\sigma}{\\sqrt{-k_{z}^{2} + \\frac{\\epsilon \\mu \\omega^{2}}{c^{2}} + \\frac{4 i \\, \\pi \\mu \\omega \\sigma}{c^{2}}} \\omega} - \\frac{32 \\, \\pi^{2} k_{z}^{2} \\sigma^{2}}{\\sqrt{-k_{z}^{2} + \\frac{\\epsilon \\mu \\omega^{2}}{c^{2}} + \\frac{4 i \\, \\pi \\mu \\omega \\sigma}{c^{2}}} \\omega^{2}} + \\frac{\\epsilon k_{z}^{2} e^{\\left(2 i \\, \\sqrt{-k_{z}^{2} + \\frac{\\omega^{2}}{c^{2}}} a\\right)}}{\\sqrt{-k_{z}^{2} + \\frac{\\omega^{2}}{c^{2}}}} + \\frac{4 i \\, \\pi k_{z}^{2} \\sigma e^{\\left(2 i \\, \\sqrt{-k_{z}^{2} + \\frac{\\omega^{2}}{c^{2}}} a\\right)}}{\\sqrt{-k_{z}^{2} + \\frac{\\omega^{2}}{c^{2}}} \\omega} - \\frac{\\epsilon k_{z}^{2} e^{\\left(-2 i \\, \\sqrt{-k_{z}^{2} + \\frac{\\omega^{2}}{c^{2}}} a\\right)}}{\\sqrt{-k_{z}^{2} + \\frac{\\omega^{2}}{c^{2}}}} - \\frac{4 i \\, \\pi k_{z}^{2} \\sigma e^{\\left(-2 i \\, \\sqrt{-k_{z}^{2} + \\frac{\\omega^{2}}{c^{2}}} a\\right)}}{\\sqrt{-k_{z}^{2} + \\frac{\\omega^{2}}{c^{2}}} \\omega} + \\frac{\\epsilon k_{z}^{2} e^{\\left(2 i \\, \\sqrt{-k_{z}^{2} + \\frac{\\omega^{2}}{c^{2}}} a\\right)}}{\\sqrt{-k_{z}^{2} + \\frac{\\epsilon \\mu \\omega^{2}}{c^{2}} + \\frac{4 i \\, \\pi \\mu \\omega \\sigma}{c^{2}}} \\mu} + \\frac{4 i \\, \\pi k_{z}^{2} \\sigma e^{\\left(2 i \\, \\sqrt{-k_{z}^{2} + \\frac{\\omega^{2}}{c^{2}}} a\\right)}}{\\sqrt{-k_{z}^{2} + \\frac{\\epsilon \\mu \\omega^{2}}{c^{2}} + \\frac{4 i \\, \\pi \\mu \\omega \\sigma}{c^{2}}} \\mu \\omega} + \\frac{\\epsilon k_{z}^{2} e^{\\left(-2 i \\, \\sqrt{-k_{z}^{2} + \\frac{\\omega^{2}}{c^{2}}} a\\right)}}{\\sqrt{-k_{z}^{2} + \\frac{\\epsilon \\mu \\omega^{2}}{c^{2}} + \\frac{4 i \\, \\pi \\mu \\omega \\sigma}{c^{2}}} \\mu} + \\frac{4 i \\, \\pi k_{z}^{2} \\sigma e^{\\left(-2 i \\, \\sqrt{-k_{z}^{2} + \\frac{\\omega^{2}}{c^{2}}} a\\right)}}{\\sqrt{-k_{z}^{2} + \\frac{\\epsilon \\mu \\omega^{2}}{c^{2}} + \\frac{4 i \\, \\pi \\mu \\omega \\sigma}{c^{2}}} \\mu \\omega} - \\frac{2 \\, \\epsilon k_{z}^{2}}{\\sqrt{-k_{z}^{2} + \\frac{\\epsilon \\mu \\omega^{2}}{c^{2}} + \\frac{4 i \\, \\pi \\mu \\omega \\sigma}{c^{2}}} \\mu} - \\frac{8 i \\, \\pi k_{z}^{2} \\sigma}{\\sqrt{-k_{z}^{2} + \\frac{\\epsilon \\mu \\omega^{2}}{c^{2}} + \\frac{4 i \\, \\pi \\mu \\omega \\sigma}{c^{2}}} \\mu \\omega} - \\frac{k_{z}^{2} e^{\\left(2 i \\, \\sqrt{-k_{z}^{2} + \\frac{\\omega^{2}}{c^{2}}} a\\right)}}{\\sqrt{-k_{z}^{2} + \\frac{\\omega^{2}}{c^{2}}} \\mu} + \\frac{k_{z}^{2} e^{\\left(-2 i \\, \\sqrt{-k_{z}^{2} + \\frac{\\omega^{2}}{c^{2}}} a\\right)}}{\\sqrt{-k_{z}^{2} + \\frac{\\omega^{2}}{c^{2}}} \\mu}$"
      ],
      "text/plain": [
       "<IPython.core.display.Math object>"
      ]
     },
     "metadata": {},
     "output_type": "display_data"
    }
   ],
   "source": [
    "display(Math(latex(M6_det)))"
   ]
  },
  {
   "cell_type": "code",
   "execution_count": null,
   "metadata": {},
   "outputs": [],
   "source": []
  },
  {
   "cell_type": "code",
   "execution_count": null,
   "metadata": {},
   "outputs": [],
   "source": []
  },
  {
   "cell_type": "code",
   "execution_count": 171,
   "metadata": {},
   "outputs": [],
   "source": [
    "M6_det_kz_sz = M6_det.subs(k_z == kz + I * sz)"
   ]
  },
  {
   "cell_type": "raw",
   "metadata": {},
   "source": [
    "display(Math(latex(M6_det_kz_sz)))"
   ]
  },
  {
   "cell_type": "code",
   "execution_count": null,
   "metadata": {},
   "outputs": [],
   "source": []
  },
  {
   "cell_type": "code",
   "execution_count": 172,
   "metadata": {},
   "outputs": [],
   "source": [
    "make_investigation_plots = True"
   ]
  },
  {
   "cell_type": "code",
   "execution_count": 173,
   "metadata": {},
   "outputs": [],
   "source": [
    "M6_det_d = M6_det_kz_sz.subs(digit_values)"
   ]
  },
  {
   "cell_type": "code",
   "execution_count": 174,
   "metadata": {},
   "outputs": [
    {
     "data": {
      "text/latex": [
       "$\\displaystyle \\left(\\mathit{kz}, \\mathit{sz}\\right)$"
      ],
      "text/plain": [
       "<IPython.core.display.Math object>"
      ]
     },
     "metadata": {},
     "output_type": "display_data"
    }
   ],
   "source": [
    "display(Math(latex(M6_det_d.variables())))"
   ]
  },
  {
   "cell_type": "code",
   "execution_count": 175,
   "metadata": {},
   "outputs": [
    {
     "data": {
      "text/plain": [
       "3594816000000000000000/149896229*I*(kz + I*sz)^2*e^(1/1580*I*sqrt(pi^2 - 9985600*kz^2 - 19971200*I*kz*sz + 9985600*sz^2))/sqrt(pi^2 - 9985600*(kz + I*sz)^2) - (1137600000000000000/149896229*I - 1294133760000000000000000000000000000/22468879468420441)*(kz + I*sz)^2*e^(1/1580*I*sqrt(pi^2 - 9985600*kz^2 - 19971200*I*kz*sz + 9985600*sz^2))/sqrt((9000000000000/11841802091*I + 1/9985600)*pi^2 - (kz + I*sz)^2) - 3594816000000000000000/149896229*I*(kz + I*sz)^2*e^(-1/1580*I*sqrt(pi^2 - 9985600*kz^2 - 19971200*I*kz*sz + 9985600*sz^2))/sqrt(pi^2 - 9985600*(kz + I*sz)^2) - (1137600000000000000/149896229*I - 1294133760000000000000000000000000000/22468879468420441)*(kz + I*sz)^2*e^(-1/1580*I*sqrt(pi^2 - 9985600*kz^2 - 19971200*I*kz*sz + 9985600*sz^2))/sqrt((9000000000000/11841802091*I + 1/9985600)*pi^2 - (kz + I*sz)^2) + (2275200000000000000/149896229*I - 2588267520000000000000000000000000000/22468879468420441)*(kz + I*sz)^2/sqrt((9000000000000/11841802091*I + 1/9985600)*pi^2 - (kz + I*sz)^2)"
      ]
     },
     "execution_count": 175,
     "metadata": {},
     "output_type": "execute_result"
    }
   ],
   "source": [
    "M6_det_d"
   ]
  },
  {
   "cell_type": "code",
   "execution_count": 176,
   "metadata": {},
   "outputs": [],
   "source": [
    "def make_det_plot2d(M_d, kz_min, kz_max, nk, sz_min, sz_max, ns):\n",
    "    import numpy as np\n",
    "    import matplotlib.pyplot as plt\n",
    "    %matplotlib inline\n",
    "\n",
    "    kz_linspace = np.linspace(kz_min, kz_max, nk)\n",
    "    sz_linspace = np.linspace(sz_min, sz_max, ns)\n",
    "\n",
    "    kz_list = kz_linspace.tolist()\n",
    "    sz_list = sz_linspace.tolist()\n",
    "\n",
    "    kz_grid, sz_grid = np.meshgrid(kz_linspace, sz_linspace)\n",
    "\n",
    "    u = kz_grid * np.nan\n",
    "    v = sz_grid * np.nan\n",
    "\n",
    "    for ikz in np.arange(0, len(kz_linspace), 1):\n",
    "        # print(ikz, len(kz_linspace))\n",
    "        for isz in np.arange(0, len(sz_linspace), 1):\n",
    "            kz_i = kz_list[ikz]\n",
    "            sz_i = sz_list[isz]\n",
    "            try:\n",
    "                M_d_i = M_d.subs(kz == kz_i).subs(sz == sz_i)\n",
    "                u[isz][ikz] = M_d_i.real().n()\n",
    "                v[isz][ikz] = M_d_i.imag().n()\n",
    "                #print(kz_i, sz_i, u[isz][ikz], v[isz][ikz])\n",
    "            except Exception as ex:\n",
    "                print(ex)\n",
    "    return kz_grid, sz_grid, u, v"
   ]
  },
  {
   "cell_type": "code",
   "execution_count": 177,
   "metadata": {},
   "outputs": [],
   "source": [
    "kz_grid, sz_grid, u, v = make_det_plot2d(M6_det_d,\n",
    "                                         kz_min=-2e-3, kz_max=2e-3, nk=21,\n",
    "                                         sz_min=-1e-5, sz_max=3e-4, ns=21)"
   ]
  },
  {
   "cell_type": "code",
   "execution_count": 178,
   "metadata": {},
   "outputs": [],
   "source": [
    "make_investigation_plots = True"
   ]
  },
  {
   "cell_type": "code",
   "execution_count": 179,
   "metadata": {},
   "outputs": [
    {
     "data": {
      "image/png": "[encoded data removed]",
      "text/plain": [
       "<Figure size 432x288 with 2 Axes>"
      ]
     },
     "metadata": {
      "needs_background": "light"
     },
     "output_type": "display_data"
    }
   ],
   "source": [
    "if make_investigation_plots:\n",
    "    import matplotlib.pyplot as plt\n",
    "    \n",
    "    fig,ax=plt.subplots(1,1)\n",
    "\n",
    "    cp = ax.contourf(kz_grid,sz_grid, u)\n",
    "    fig.colorbar(cp) # Add a colorbar to a plot\n",
    "    ax.set_title('M3_subs_det_re')\n",
    "    ax.set_xlabel('kz')\n",
    "    ax.set_ylabel('sz')\n",
    "    plt.show()"
   ]
  },
  {
   "cell_type": "code",
   "execution_count": 180,
   "metadata": {},
   "outputs": [
    {
     "data": {
      "image/png": "[encoded data removed]",
      "text/plain": [
       "<Figure size 432x288 with 2 Axes>"
      ]
     },
     "metadata": {
      "needs_background": "light"
     },
     "output_type": "display_data"
    }
   ],
   "source": [
    "if make_investigation_plots:\n",
    "    import matplotlib.pyplot as plt    \n",
    "    fig,ax=plt.subplots(1,1)\n",
    "\n",
    "    cp = ax.contourf(kz_grid,sz_grid, v)\n",
    "    fig.colorbar(cp) # Add a colorbar to a plot\n",
    "    ax.set_title('M3_subs_det_im')\n",
    "    ax.set_xlabel('kz')\n",
    "    ax.set_ylabel('sz')\n",
    "    plt.show()"
   ]
  },
  {
   "cell_type": "markdown",
   "metadata": {},
   "source": [
    "Искомый волновой вектор можно найти графическим методом как точку пересечения двух нулевых изолиний на контурных графиках зависимости действительной и мнимой компонент детерминанта от действительной и мнимой компонент волнового вектора"
   ]
  },
  {
   "cell_type": "markdown",
   "metadata": {},
   "source": [
    "Get coordinates from a contour\n",
    "\n",
    "https://stackoverflow.com/questions/19418901/get-coordinates-from-a-contour"
   ]
  },
  {
   "cell_type": "code",
   "execution_count": 181,
   "metadata": {},
   "outputs": [
    {
     "data": {
      "image/png": "[encoded data removed]",
      "text/plain": [
       "<Figure size 432x288 with 1 Axes>"
      ]
     },
     "metadata": {
      "needs_background": "light"
     },
     "output_type": "display_data"
    }
   ],
   "source": [
    "# Get coordinates from a contour\n",
    "# https://stackoverflow.com/questions/19418901/get-coordinates-from-a-contour\n",
    "\n",
    "import matplotlib.pyplot as plt\n",
    "fig, ax=plt.subplots(1,1)\n",
    "cu = ax.contour(kz_grid,sz_grid, u)\n",
    "cv = ax.contour(kz_grid,sz_grid, v)\n",
    "plt.show()\n",
    "\n",
    "cu_index_of_zero_level=cu.levels.tolist().index(0.)\n",
    "cv_index_of_zero_level=cv.levels.tolist().index(0.)\n",
    "cu_zero_levels_number = len(cu.allsegs[cu_index_of_zero_level])\n",
    "cv_zero_levels_number = len(cv.allsegs[cv_index_of_zero_level])"
   ]
  },
  {
   "cell_type": "code",
   "execution_count": 182,
   "metadata": {},
   "outputs": [],
   "source": [
    "# https://stackoverflow.com/questions/8094374/python-matplotlib-find-intersection-of-lineplots\n",
    "def intersect_interp1d(M_d, x1, y1, x2, y2, ax, ds=0.1):\n",
    "    import numpy as np\n",
    "    from numpy.linalg import norm\n",
    "    from scipy.optimize import fsolve\n",
    "    from scipy.interpolate import interp1d\n",
    "    import matplotlib.pyplot as plt\n",
    "\n",
    "    x1_array = np.array(x1)\n",
    "    y1_array = np.array(y1)\n",
    "    x2_array = np.array(x2)\n",
    "    y2_array = np.array(y2)\n",
    "\n",
    "    s1_array = np.linspace(0,1,num=len(x1_array))\n",
    "    s2_array = np.linspace(0,1,num=len(x2_array))\n",
    "\n",
    "    # Arguments given to interp1d:\n",
    "    #  - extrapolate: to make sure we don't get a fatal value error when fsolve searches\n",
    "    #                 beyond the bounds of [0,1]\n",
    "    #  - copy: use refs to the arrays\n",
    "    #  - assume_sorted: because s_array ('x') increases monotonically across [0,1]\n",
    "    kwargs_ = dict(fill_value='extrapolate', copy=False, assume_sorted=True)\n",
    "    x1_interp = interp1d(s1_array,x1_array, **kwargs_)\n",
    "    y1_interp = interp1d(s1_array,y1_array, **kwargs_)\n",
    "    x2_interp = interp1d(s2_array,x2_array, **kwargs_)\n",
    "    y2_interp = interp1d(s2_array,y2_array, **kwargs_)\n",
    "    \n",
    "    xydiff_lambda = lambda s12: (np.abs(x1_interp(s12[0])-x2_interp(s12[1])),\n",
    "                                 np.abs(y1_interp(s12[0])-y2_interp(s12[1])))\n",
    "    \n",
    "    foundset = []\n",
    "    \n",
    "    for s1 in np.arange(ds, 1.0, ds):\n",
    "        for s2 in np.arange(ds, 1.0, ds):\n",
    "\n",
    "            s12_intercept, _, ier, mesg \\\n",
    "                = fsolve(xydiff_lambda, [s1, s2], full_output=True) \n",
    "\n",
    "            xy1_intercept = x1_interp(s12_intercept[0]),y1_interp(s12_intercept[0])\n",
    "            xy2_intercept = x2_interp(s12_intercept[1]),y2_interp(s12_intercept[1])\n",
    "            \n",
    "            is_intercept_really_good = s12_intercept[0]>=0 and s12_intercept[0]<=1 \\\n",
    "                  and s12_intercept[1]>=0 and s12_intercept[1]<=1 \\\n",
    "                  and np.isclose(0,norm(xydiff_lambda(s12_intercept)))\n",
    "            \n",
    "            if is_intercept_really_good:\n",
    "\n",
    "                found = (float(xy1_intercept[0]), float(xy1_intercept[1]))\n",
    "                \n",
    "                if found not in foundset:\n",
    "                    foundset += [found]\n",
    "                    \n",
    "                    fig, ax = plt.subplots(1,1)\n",
    "                \n",
    "                    ax.plot(x1_interp(s1_array),y1_interp(s1_array),'b.', ls='-', label='x1 data')\n",
    "                    ax.plot(x2_interp(s2_array),y2_interp(s2_array),'r.', ls='-', label='x2 data')\n",
    "                    if s12_intercept[0]>0 and s12_intercept[0]<1:\n",
    "                        \n",
    "                        #ax.plot(*xy1_intercept,'bo', ms=12, label='x1 intercept')\n",
    "                        #ax.plot(*xy2_intercept,'ro', ms=8, label='x2 intercept')\n",
    "                        #ax.legend()\n",
    "                        #plt.show()\n",
    "\n",
    "                        M_det = M_d \\\n",
    "                            .subs(kz == float(xy1_intercept[0])) \\\n",
    "                            .subs(sz == float(xy1_intercept[1])).n()\n",
    "\n",
    "                        print(\"M_det=\", M_det)\n",
    "                \n",
    "                        print('intercept @ s1={}, s2={}\\n'.format(s12_intercept[0],s12_intercept[1]), \n",
    "                              'intercept @ xy1={}\\n'.format(np.array(xy1_intercept)), \n",
    "                              'intercept @ xy2={}\\n'.format(np.array(xy2_intercept)), \n",
    "                              'fsolve apparent success? {}: \"{}\"\\n'.format(ier==1,mesg,), \n",
    "                              'is intercept really good? {}\\n'.format( is_intercept_really_good ))\n",
    "\n",
    "    return foundset"
   ]
  },
  {
   "cell_type": "code",
   "execution_count": 183,
   "metadata": {},
   "outputs": [],
   "source": [
    "def test_contour_line_intersection(M, i, j, cu, cv, cu_index, cv_index):\n",
    "    dat_u = cu.allsegs[cu_index][i]\n",
    "    dat_v = cv.allsegs[cv_index][j]\n",
    "    \n",
    "    xu = dat_u[:,0]\n",
    "    yu = dat_u[:,1]\n",
    "    xv = dat_v[:,0]\n",
    "    yv = dat_v[:,1]\n",
    "    \n",
    "    if len(xu) < 2:\n",
    "        return None\n",
    "    if len(xv) < 2:\n",
    "        return None\n",
    "    \n",
    "    return intersect_interp1d(M, xu, yu, xv, yv, ax)"
   ]
  },
  {
   "cell_type": "markdown",
   "metadata": {},
   "source": [
    "Искомый волновой вектор можно найти графическим методом как точку пересечения двух нулевых изолиний на контурных графиках зависимости действительной и мнимой компонент детерминанта от действительной и мнимой компонент волнового вектора\n",
    "\n",
    "Get coordinates from a contour\n",
    "\n",
    "https://stackoverflow.com/questions/19418901/get-coordinates-from-a-contour"
   ]
  },
  {
   "cell_type": "code",
   "execution_count": null,
   "metadata": {},
   "outputs": [],
   "source": [
    "k_z_graphic_solutions = []\n",
    "for i in range(0, cu_zero_levels_number):\n",
    "    for j in range(0, cv_zero_levels_number):\n",
    "        result = test_contour_line_intersection(M6_det_d,\n",
    "                                                i, j, cu, cv,\n",
    "                                                cu_index_of_zero_level,\n",
    "                                                cv_index_of_zero_level)\n",
    "        if None == result:\n",
    "            continue\n",
    "            \n",
    "        for found in result:\n",
    "            print(\"found\", found)\n",
    "            xy_intercept = found\n",
    "        \n",
    "            k_z_graphic_solutions += [xy_intercept]"
   ]
  },
  {
   "cell_type": "code",
   "execution_count": 185,
   "metadata": {},
   "outputs": [
    {
     "data": {
      "text/plain": [
       "[(-0.000997334859580884, -4.0248911942161326e-06),\n",
       " (-0.0009973348595808842, -4.024891194216024e-06),\n",
       " (-0.0009973348595808842, -4.024891194216076e-06),\n",
       " (-0.0009973348595419013, -4.024891218002081e-06),\n",
       " (-0.0009973348595808842, -4.024891194216028e-06),\n",
       " (-0.0009973348595759795, -4.02489119720872e-06),\n",
       " (-0.0009973348595808877, -4.0248911942139514e-06),\n",
       " (-0.0009973348595808842, -4.024891194216019e-06),\n",
       " (-0.0009973348595785747, -4.0248911956252125e-06),\n",
       " (-0.0009973348595808842, -4.024891194216083e-06),\n",
       " (-0.0009973348595808842, -4.024891194216027e-06),\n",
       " (-0.0009973348595808842, -4.024891194216074e-06),\n",
       " (-0.0009973348595808842, -4.02489119421608e-06),\n",
       " (-0.0009973348595808842, -4.024891194215962e-06),\n",
       " (-0.000997334859580857, -4.024891194232673e-06),\n",
       " (-0.0009973348595808842, -4.024891194216054e-06),\n",
       " (-0.0009973348595808842, -4.024891194215981e-06),\n",
       " (-0.0009973348596045927, -4.024891179749879e-06),\n",
       " (-0.0009973348595808842, -4.024891194216042e-06),\n",
       " (-0.0009973348595809694, -4.024891194164042e-06),\n",
       " (-0.0009973348595808953, -4.024891194209235e-06),\n",
       " (-0.0009973348595808842, -4.024891194216033e-06),\n",
       " (-0.0009973348595808357, -4.02489119424561e-06),\n",
       " (-0.0009973348595808842, -4.024891194216045e-06),\n",
       " (-0.0009973348595808842, -4.024891194216055e-06),\n",
       " (-0.0009973348595755922, -4.024891197444967e-06),\n",
       " (-0.0009973348595838302, -4.024891192418515e-06),\n",
       " (-0.0009973348595756397, -4.02489119741607e-06),\n",
       " (-0.0009973348595808586, -4.02489119423162e-06),\n",
       " (-0.0009973348595823147, -4.02489119334319e-06),\n",
       " (-0.000997334859581347, -4.024891193933703e-06),\n",
       " (-0.0009973348595807903, -4.0248911942733285e-06),\n",
       " (-0.0009973348595808842, -4.0248911942160385e-06),\n",
       " (-0.0009973348595808842, -4.0248911942160775e-06),\n",
       " (-0.0009973348595809194, -4.024891194194575e-06),\n",
       " (-0.000997334859580884, -4.0248911942160995e-06),\n",
       " (-0.0009973348595936054, -4.024891186454064e-06),\n",
       " (-0.000997334859573215, -4.024891198895558e-06),\n",
       " (-0.0009973348595637135, -4.024891204692949e-06),\n",
       " (-0.000997334859580884, -4.024891194216102e-06),\n",
       " (-0.0009973348595573792, -4.02489120855795e-06),\n",
       " (-0.0009973348595319106, -4.024891224098041e-06),\n",
       " (-0.0009973348595714018, -4.024891200001934e-06),\n",
       " (-0.0009973348595808842, -4.02489119421606e-06),\n",
       " (-0.000997334859579129, -4.024891195287091e-06),\n",
       " (-0.0009973348595808842, -4.024891194216043e-06),\n",
       " (-0.000997334859580884, -4.024891194216105e-06),\n",
       " (-0.0009973348595808842, -4.024891194216036e-06),\n",
       " (-0.0009973348595708408, -4.024891200344098e-06),\n",
       " (-0.000997334859580884, -4.024891194216143e-06),\n",
       " (-0.0009973348595805373, -4.0248911944277155e-06),\n",
       " (-0.0009973348595871334, -4.024891190402995e-06),\n",
       " (-0.0009973348595717886, -4.024891199765805e-06),\n",
       " (-0.000997334859834406, -4.024891039525735e-06),\n",
       " (-0.0009973348595798302, -4.024891194859112e-06),\n",
       " (-0.0009973348595808842, -4.024891194216078e-06),\n",
       " (-0.000997334859580885, -4.0248911942154905e-06),\n",
       " (-0.0009973348595808849, -4.024891194215567e-06),\n",
       " (-0.0009973348595808842, -4.024891194216006e-06),\n",
       " (-0.000997334859580884, -4.024891194216089e-06),\n",
       " (-0.0009973348595808842, -4.024891194215986e-06),\n",
       " (-0.000997334859947252, -4.024890970671108e-06),\n",
       " (-0.0009973348595808842, -4.024891194216068e-06),\n",
       " (-0.0009973348595846707, -4.0248911919056655e-06),\n",
       " (-0.0009973348595808842, -4.024891194216048e-06),\n",
       " (-0.0009973348595808842, -4.024891194216015e-06),\n",
       " (-0.0009973348595543384, -4.024891210413349e-06),\n",
       " (-0.0009973348595421695, -4.024891217838345e-06),\n",
       " (-0.0009973348595808842, -4.024891194216059e-06),\n",
       " (-0.0009973348595808842, -4.0248911942160445e-06),\n",
       " (-0.0009973348595808842, -4.024891194216069e-06),\n",
       " (-0.0009973348595977041, -4.024891183953092e-06),\n",
       " (2.1082017677281368e-07, 3.271456530330405e-06),\n",
       " (2.108201767728142e-07, 3.2714565303303865e-06),\n",
       " (2.1082017677281405e-07, 3.2714565303303933e-06),\n",
       " (2.1082017756203668e-07, 3.2714565015341767e-06),\n",
       " (2.108201767727528e-07, 3.2714565303326277e-06),\n",
       " (2.108201767399253e-07, 3.2714565315303984e-06),\n",
       " (2.108201767728185e-07, 3.271456530330229e-06),\n",
       " (2.1082017677282802e-07, 3.2714565303298833e-06),\n",
       " (2.108201767728141e-07, 3.27145653033039e-06),\n",
       " (2.1082017677281352e-07, 3.271456530330412e-06),\n",
       " (2.1082017677281484e-07, 3.2714565303303628e-06),\n",
       " (2.108201766174157e-07, 3.2714565360003827e-06),\n",
       " (2.1082017677281415e-07, 3.271456530330388e-06),\n",
       " (2.1082017676234e-07, 3.271456530712556e-06),\n",
       " (2.10820176772822e-07, 3.271456530330102e-06),\n",
       " (2.1082017677281045e-07, 3.2714565303305237e-06),\n",
       " (2.108201767728049e-07, 3.2714565303307253e-06),\n",
       " (2.1082017677281437e-07, 3.2714565303303797e-06),\n",
       " (2.1082017677281378e-07, 3.2714565303304017e-06),\n",
       " (2.108201767673284e-07, 3.2714565305305454e-06),\n",
       " (2.108201766448207e-07, 3.2714565350004603e-06),\n",
       " (2.1082017677436354e-07, 3.2714565302738555e-06),\n",
       " (2.1082017677281431e-07, 3.2714565303303814e-06),\n",
       " (2.108201765132398e-07, 3.2714565398014278e-06),\n",
       " (2.1082017677281453e-07, 3.2714565303303746e-06),\n",
       " (2.1082017677281463e-07, 3.2714565303303712e-06),\n",
       " (2.1082017677258106e-07, 3.271456530338894e-06),\n",
       " (2.1082017677281468e-07, 3.2714565303303695e-06),\n",
       " (2.1082017677279457e-07, 3.271456530331103e-06),\n",
       " (2.1082017693914347e-07, 3.2714565242615614e-06),\n",
       " (2.108201767728178e-07, 3.2714565303302543e-06),\n",
       " (2.1082017677281426e-07, 3.271456530330383e-06),\n",
       " (2.1082017676483685e-07, 3.271456530621454e-06),\n",
       " (2.1082017674329924e-07, 3.271456531407294e-06),\n",
       " (2.1082017677282008e-07, 3.2714565303301713e-06),\n",
       " (2.1082017677281606e-07, 3.2714565303303187e-06),\n",
       " (2.1082017647125486e-07, 3.271456541333324e-06),\n",
       " (2.108201767728133e-07, 3.2714565303304187e-06),\n",
       " (2.1082017677289605e-07, 3.2714565303274e-06),\n",
       " (2.108201767728392e-07, 3.2714565303294734e-06),\n",
       " (2.108201762079182e-07, 3.271456550941639e-06),\n",
       " (2.1082017677283978e-07, 3.271456530329453e-06),\n",
       " (2.1082017674226088e-07, 3.27145653144518e-06),\n",
       " (2.1082017670238432e-07, 3.271456532900149e-06),\n",
       " (2.1082017677224172e-07, 3.2714565303512743e-06),\n",
       " (2.1082017677185203e-07, 3.2714565303654926e-06),\n",
       " (2.1082017661795774e-07, 3.2714565359806045e-06),\n",
       " (2.1082017671115815e-07, 3.2714565325800196e-06),\n",
       " (2.108201767959346e-07, 3.2714565294867976e-06),\n",
       " (2.10820176772814e-07, 3.271456530330395e-06),\n",
       " (2.10820176773576e-07, 3.2714565303025902e-06),\n",
       " (2.1082017677338437e-07, 3.2714565303095833e-06),\n",
       " (2.1082017677283274e-07, 3.2714565303297105e-06),\n",
       " (2.1082017677281527e-07, 3.2714565303303475e-06),\n",
       " (2.1082017676685634e-07, 3.271456530547769e-06),\n",
       " (2.1082017674664317e-07, 3.271456531285284e-06),\n",
       " (2.108201767728652e-07, 3.2714565303285247e-06),\n",
       " (-2.0947663073360634e-07, 3.328257845833098e-06),\n",
       " (-2.0947663077088532e-07, 3.3282578439666306e-06),\n",
       " (-2.0947663059806789e-07, 3.3282578526191772e-06),\n",
       " (-2.0947663035182215e-07, 3.3282578649480967e-06),\n",
       " (-2.0947663062854755e-07, 3.3282578510931347e-06),\n",
       " (-2.094766307336071e-07, 3.32825784583306e-06),\n",
       " (-2.0947663040163282e-07, 3.328257862454199e-06),\n",
       " (-2.0947663071280615e-07, 3.3282578468745125e-06),\n",
       " (-2.0947663073360332e-07, 3.3282578458332494e-06),\n",
       " (-2.0947663145037356e-07, 3.32825780994632e-06),\n",
       " (-2.0947663065082676e-07, 3.3282578499776686e-06),\n",
       " (-2.0947663069985028e-07, 3.328257847523182e-06),\n",
       " (-2.094766307282475e-07, 3.328257846101402e-06),\n",
       " (-2.094766306985686e-07, 3.328257847587352e-06),\n",
       " (-2.0947663073363358e-07, 3.328257845831735e-06),\n",
       " (-2.0947663073360788e-07, 3.328257845833022e-06),\n",
       " (-2.0947663073360483e-07, 3.3282578458331736e-06),\n",
       " (-2.094766307205756e-07, 3.328257846485515e-06),\n",
       " (-2.0947663073364642e-07, 3.328257845831091e-06),\n",
       " (-2.0947663073354737e-07, 3.328257845836051e-06),\n",
       " (-2.0947663279381641e-07, 3.3282577426834287e-06),\n",
       " (-2.0947663073360406e-07, 3.3282578458332113e-06),\n",
       " (-2.0947663073362222e-07, 3.328257845832303e-06),\n",
       " (-2.0947663073357156e-07, 3.3282578458348393e-06),\n",
       " (-2.0947663073366608e-07, 3.328257845830107e-06),\n",
       " (-2.0947663073386495e-07, 3.32825784582015e-06),\n",
       " (-2.0947663073336438e-07, 3.3282578458452125e-06),\n",
       " (-2.094766307334264e-07, 3.328257845842108e-06),\n",
       " (-2.0947663073362373e-07, 3.328257845832227e-06),\n",
       " (-2.0947663073361619e-07, 3.3282578458326057e-06),\n",
       " (-2.0947663073361163e-07, 3.3282578458328327e-06),\n",
       " (-2.094766307328419e-07, 3.3282578458713727e-06),\n",
       " (-2.0947663073360862e-07, 3.3282578458329843e-06),\n",
       " (-2.094766307336003e-07, 3.3282578458334006e-06),\n",
       " (0.0009971668752830007, 3.988236455348145e-06),\n",
       " (0.0009971668752809715, 3.988236456525121e-06),\n",
       " (0.0009971668752830009, 3.98823645534802e-06),\n",
       " (0.000997166875289645, 3.988236451494449e-06),\n",
       " (0.0009971668752830009, 3.988236455348101e-06),\n",
       " (0.0009971668752803186, 3.988236456903809e-06),\n",
       " (0.0009971668752830041, 3.988236455346241e-06),\n",
       " (0.000997166875279495, 3.988236457381475e-06),\n",
       " (0.0009971668752726368, 3.988236461359248e-06),\n",
       " (0.000997166875283001, 3.988236455348013e-06),\n",
       " (0.0009971668752830009, 3.9882364553481305e-06),\n",
       " (0.0009971668752830007, 3.9882364553481746e-06),\n",
       " (0.000997166875283088, 3.988236455297516e-06),\n",
       " (0.000997166875283001, 3.988236455347998e-06),\n",
       " (0.0009971668752830009, 3.988236455348138e-06),\n",
       " (0.000997166875283111, 3.988236455284187e-06),\n",
       " (0.0009971668752828914, 3.988236455411633e-06),\n",
       " (0.0009971668752830007, 3.988236455348168e-06),\n",
       " (0.0009971668752828094, 3.9882364554591215e-06),\n",
       " (0.000997166875281826, 3.9882364560294694e-06),\n",
       " (0.0009971668752830009, 3.988236455348094e-06),\n",
       " (0.0009971668752799048, 3.988236457143812e-06),\n",
       " (0.0009971668752833628, 3.988236455138125e-06),\n",
       " (0.0009971668752756708, 3.988236459599537e-06),\n",
       " (0.0009971668752948345, 3.988236448484536e-06),\n",
       " (0.0009971668752826008, 3.988236455580182e-06),\n",
       " (0.0009971668752844164, 3.988236454527091e-06),\n",
       " (0.0009971668752830007, 3.98823645534816e-06),\n",
       " (0.0009971668752832804, 3.988236455186018e-06),\n",
       " (0.0009971668752824022, 3.988236455695299e-06),\n",
       " (0.0009971668752805146, 3.988236456790148e-06),\n",
       " (0.0009971668752958131, 3.9882364479169385e-06),\n",
       " (0.0009971668752885223, 3.988236452145652e-06),\n",
       " (0.0009971668752830009, 3.988236455348079e-06),\n",
       " (0.0009971668752603577, 3.988236468481161e-06),\n",
       " (0.0009971668752865742, 3.988236453275559e-06),\n",
       " (0.0009971668752836054, 3.9882364549973945e-06),\n",
       " (0.0009971668752830009, 3.9882364553481085e-06),\n",
       " (0.0009971668752830009, 3.988236455348035e-06),\n",
       " (0.0009971668752955449, 3.9882364480726e-06),\n",
       " (0.000997166875287321, 3.988236452842401e-06),\n",
       " (0.0009971668752762643, 3.988236459255281e-06),\n",
       " (0.0009971668752830009, 3.988236455348123e-06),\n",
       " (0.0009971668752792205, 3.988236457540727e-06),\n",
       " (0.0009971668752830258, 3.988236455333596e-06),\n",
       " (0.0009971668752830007, 3.988236455348182e-06),\n",
       " (0.0009971668752830007, 3.98823645534819e-06),\n",
       " (0.0009971668752869218, 3.988236453073908e-06),\n",
       " (0.0009971668752827175, 3.9882364555124575e-06),\n",
       " (0.0009971668752810931, 3.988236456454528e-06),\n",
       " (0.0009971668752830009, 3.988236455348116e-06),\n",
       " (0.0009971668752830009, 3.98823645534805e-06)]"
      ]
     },
     "execution_count": 185,
     "metadata": {},
     "output_type": "execute_result"
    }
   ],
   "source": [
    "k_z_graphic_solutions"
   ]
  },
  {
   "cell_type": "markdown",
   "metadata": {},
   "source": [
    "```\n",
    "знак перед корнем будем всегда выбирать так, чтобы корень имел положительнею мнимую часть (Зоммерфельд, Электродинамика, параграф 20, Б. Волновое поле и скин-эффект в полупространстве)\n",
    "```"
   ]
  },
  {
   "cell_type": "code",
   "execution_count": null,
   "metadata": {},
   "outputs": [],
   "source": [
    "max_abs_k_z_sol = 0\n",
    "for k_z_sol_i in k_z_graphic_solutions:\n",
    "    k_z_sol_i_kz = float(k_z_sol_i[0])\n",
    "    k_z_sol_i_sz = float(k_z_sol_i[1])\n",
    "    print(k_z_sol_i_kz, k_z_sol_i_sz)\n",
    "    # знак перед корнем K_conductor будем всегда выбирать так, чтобы корень имел положительнею мнимую часть (Зоммерфельд, Электродинамика, параграф 20, Б)\n",
    "    # потому что нужно обеспечить затухание поля в проводнике\n",
    "    # E_bad_conductor_sol_z (x) = B1_z*exp(I * K_conductor*x)\n",
    "    # E_bad_conductor_sol_x (x) = B1_x*exp(I * K_conductor*x)\n",
    "    K_ = K_conductor_subs \\\n",
    "        .subs(kappa_vacuum_sol) \\\n",
    "        .subs(kappa_sol) \\\n",
    "        .subs(digit_values) \\\n",
    "        .subs(k_z == k_z_sol_i_kz + I * k_z_sol_i_sz)\n",
    "    #show(K_)\n",
    "    show(K_.lhs() == K_.rhs().n())\n",
    "    #plot(E_bad_conductor_sol_z (x).subs(K_, B1_z == 1+I).real(), x, 0, h_conductor).show()\n",
    "    \n",
    "    abs_k_z_sol = k_z_sol_i_kz^2 + k_z_sol_i_sz^2\n",
    "    print(\"abs_k_z_sol,\", abs_k_z_sol)\n",
    "    if max_abs_k_z_sol < abs_k_z_sol:\n",
    "        max_abs_k_z_sol = abs_k_z_sol\n",
    "        # выберем решение с максимальным модулем\n",
    "        # для того чтобы обеспечить лучшую сходимость итерационной процедуры\n",
    "        \n",
    "        if k_z_sol_i_kz > 0:\n",
    "\n",
    "            k_z_sol_kz = k_z_sol_i_kz \n",
    "            k_z_sol_sz = k_z_sol_i_sz "
   ]
  },
  {
   "cell_type": "code",
   "execution_count": 194,
   "metadata": {},
   "outputs": [
    {
     "data": {
      "text/plain": [
       "(-0.000997334859947252, -4.024890970671108e-06)"
      ]
     },
     "execution_count": 194,
     "metadata": {},
     "output_type": "execute_result"
    }
   ],
   "source": [
    "k_z_sol_kz, k_z_sol_sz"
   ]
  },
  {
   "cell_type": "markdown",
   "metadata": {},
   "source": [
    "метод ньютона для комплексной функции от комплексного аргумента\n",
    "комплексная функция представляется в виде двух функций: ее действительной и мнимой частей\n",
    "также мы предварительно должны посчитать все четыре варианта первых производных: действительной компоненты функции от обоих компонент аргумента и также и для мнимой части\n",
    "\n",
    "на вход метода find_newton_complex_root() подается:\n",
    "\n",
    "- выражения для действительной и мнимой частей исследуемой комплексной функции\n",
    "\n",
    "- четыре выражения для отношения каждой компоненты комплексной функции к ее производной по каждой компоненте аргумента\n",
    "\n",
    "- символьное представление действительной и мнимой части аргумента\n",
    "\n",
    "- начальные значения действительной и мнимой части аргумента"
   ]
  },
  {
   "cell_type": "code",
   "execution_count": 747,
   "metadata": {},
   "outputs": [],
   "source": [
    "class newton_prec():\n",
    "    def __init__(self, M_det_kz_sz, xn_re, xn_im):\n",
    "        self.xn_re = xn_re\n",
    "        self.xn_im = xn_im\n",
    "        # выражения для действительной и мнимой частей исследуемой комплексной функции\n",
    "        self.M_det = M_det_kz_sz\n",
    "        self.M_det_d = self.M_det.subs(digit_values)\n",
    "\n",
    "        # четыре выражения для производной комплексной функции по каждой компоненте аргумента\n",
    "        self.M_det_diff_kz = self.M_det.diff(kz)\n",
    "        self.M_det_diff_sz = self.M_det.diff(sz)\n",
    "        \n",
    "        #self.grad = vector([self.M_det_diff_kz, self.M_det_diff_sz])\n",
    "\n",
    "        self.M_det_diff_kz_kz = self.M_det_diff_kz.diff(kz)\n",
    "        self.M_det_diff_kz_sz = self.M_det_diff_kz.diff(sz)\n",
    "        \n",
    "        self.M_det_diff_sz_kz = self.M_det_diff_sz.diff(kz)\n",
    "        self.M_det_diff_sz_sz = self.M_det_diff_sz.diff(sz)\n",
    "        \n",
    "        #self.gessian = matrix([[self.M_det_diff_kz_kz, self.M_det_diff_kz_sz],\n",
    "        #                       [self.M_det_diff_sz_kz, self.M_det_diff_sz_sz]])\n",
    "\n",
    "        # четыре выражения для отношения каждой компоненты комплексной функции к ее производной по каждой компоненте аргумента\n",
    "        self.M_det_div_diff_kz = (self.M_det / self.M_det_diff_kz)\n",
    "        self.M_det_div_diff_sz = (self.M_det / self.M_det_diff_sz)\n",
    "\n",
    "        self.M_det_div_diff_kz_d = self.M_det_div_diff_kz.subs(digit_values)\n",
    "        self.M_det_div_diff_sz_d = self.M_det_div_diff_sz.subs(digit_values)\n",
    "\n",
    "    # инициализируем метод ньютона значениями найденными графическим методом\n",
    "    def prec_root(self, nsteps = 100):\n",
    "        self.k_z_root = self.find_newton_complex_root(nsteps = nsteps)\n",
    "        self.xn_re = self.k_z_root[0]\n",
    "        self.xn_im = self.k_z_root[1]\n",
    "        return self.k_z_root\n",
    "\n",
    "    def find_newton_complex_root(self, nsteps):\n",
    "    \n",
    "        f = self.M_det_d\n",
    "        f_div_df_re = self.M_det_div_diff_kz_d\n",
    "        f_div_df_im = self.M_det_div_diff_sz_d\n",
    "        xre = kz\n",
    "        xim = sz\n",
    "        self.xn_re = self.xn_re\n",
    "        self.xn_im = self.xn_im\n",
    "        \n",
    "        def NewtonIt(f_div_df, x, xn, step, re):\n",
    "            #print(\"xn\", xn)\n",
    "            #print(\"(f/df)\", f_div_df)\n",
    "\n",
    "            #delta = (f/df).subs(x == xn)\n",
    "            if True == re:\n",
    "                delta = f_div_df.subs(x == xn).n().real()\n",
    "            else:\n",
    "                delta = f_div_df.subs(x == xn).n().imag()\n",
    "\n",
    "            #print(\"delta\", delta)\n",
    "            #print(\"step\", step)\n",
    "            step_delta = step*delta\n",
    "            print(\"step_delta\", step_delta)\n",
    "\n",
    "            res = xn-step_delta\n",
    "            #print (\"res\", res)\n",
    "            return res, step_delta\n",
    "\n",
    "        logging = False\n",
    "\n",
    "        if logging:\n",
    "            print (\"xre\", xre)\n",
    "            print (\"xim\", xim)\n",
    "            print (\"xn_re\", self.xn_re)\n",
    "            print (\"xn_im\", self.xn_im)\n",
    "            #print (\"f_div_df_re\", f_div_df_re)\n",
    "            #print (\"f_div_df_im\", f_div_df_im)\n",
    "\n",
    "        step_init = 0.95\n",
    "        step_init_im_re = 0.95\n",
    "        step_init_re_im = 0.95\n",
    "\n",
    "        step_re_im = step_init_re_im\n",
    "        step_im_im = step_init\n",
    "        step_re_re = step_init\n",
    "        step_im_re = step_init_im_re\n",
    "\n",
    "        step__m = 0.1\n",
    "        step_m = 0.9\n",
    "        abs_m = 1.0\n",
    "\n",
    "        delta_epsilon = 1e-32\n",
    "        f_abs_epsilon = 1e-32\n",
    "\n",
    "        f_new = f.subs(xre == self.xn_re).subs(xim == self.xn_im).n()\n",
    "        if logging:\n",
    "            print(\"\\nf_new = \", f_new)\n",
    "\n",
    "        f_abs = f.abs()\n",
    "\n",
    "        if logging:\n",
    "            print(\"\\nf_abs = \", f_abs)\n",
    "        N = 10\n",
    "\n",
    "        for i in range(nsteps):\n",
    "            n = N\n",
    "            while n > 0:\n",
    "                n = n-1\n",
    "                if logging:\n",
    "                    print(\"\\nre_d_re xn = \", self.xn_re, self.xn_im, \"step = \", step_re_re)\n",
    "\n",
    "                xn_re_new, delta_re_re = NewtonIt(f_div_df_re.subs(xim == self.xn_im), xre, self.xn_re, step_re_re, re=True)\n",
    "                f_new = f.subs(xre == xn_re_new).subs(xim == self.xn_im).n()\n",
    "                f_abs_new = f_new.abs()\n",
    "\n",
    "\n",
    "                if logging:\n",
    "                    print(\"f_abs_new\", f_abs_new)\n",
    "\n",
    "                if f_abs_new > abs_m*f_abs:\n",
    "                    step_re_re *= step__m\n",
    "                    continue\n",
    "                else:\n",
    "                    self.xn_re = xn_re_new\n",
    "                    f_abs = f_abs_new\n",
    "                    if step_re_re < 0.9:\n",
    "                        step_re_re /= step_m\n",
    "\n",
    "                    print (\"f_new\", f_new)\n",
    "                    print(\"f_abs_new\", f_abs_new)\n",
    "                    break\n",
    "\n",
    "            #except Exception as ex:\n",
    "            #    print(ex)\n",
    "\n",
    "            n = N\n",
    "            while n > 0:\n",
    "                n = n-1\n",
    "                if logging:\n",
    "                    print(\"\\nim_d_re xn = \", self.xn_re, self.xn_im, \"step = \", step_im_re)\n",
    "\n",
    "                xn_re_new, delta_im_re = NewtonIt(f_div_df_re.subs(xim == self.xn_im), xre, self.xn_re, step_im_re, re=False)\n",
    "                f_new = f.subs(xre == xn_re_new).subs(xim == self.xn_im).n()\n",
    "                f_abs_new = f_new.abs()\n",
    "\n",
    "                if logging:\n",
    "                    print(\"f_abs_new\", f_abs_new)\n",
    "\n",
    "                if f_abs_new > abs_m*f_abs:\n",
    "                    step_im_re *= step__m\n",
    "                    continue\n",
    "                else:\n",
    "                    self.xn_re = xn_re_new\n",
    "                    f_abs = f_abs_new\n",
    "                    if step_im_re < 0.9:\n",
    "                        step_im_re /= step_m\n",
    "\n",
    "                    print (\"f_new\", f_new)\n",
    "                    print(\"f_abs_new\", f_abs_new)\n",
    "                    break\n",
    "\n",
    "            #except Exception as ex:\n",
    "            #    print(ex)\n",
    "\n",
    "            n = N\n",
    "            while n > 0:\n",
    "                n = n-1\n",
    "                if logging:\n",
    "                    print(\"\\nre_d_im xn = \", self.xn_re, self.xn_im, \"step = \", step_re_im)\n",
    "\n",
    "                xn_im_new, delta_re_im = NewtonIt(f_div_df_im.subs(xre == self.xn_re), xim, self.xn_im, step_re_im, re=True)\n",
    "                f_new = f.subs(xre == self.xn_re).subs(xim == xn_im_new).n()\n",
    "                f_abs_new = f_new.abs()\n",
    "\n",
    "                if logging:\n",
    "                    print(\"f_abs_new\", f_abs_new)\n",
    "\n",
    "                if f_abs_new > abs_m*f_abs:\n",
    "                    step_re_im *= step__m\n",
    "                    continue\n",
    "                else:\n",
    "                    self.xn_im = xn_im_new\n",
    "                    f_abs = f_abs_new\n",
    "                    if step_re_im < 0.9:\n",
    "                        step_re_im /= step_m\n",
    "\n",
    "                    print (\"f_new\", f_new)\n",
    "                    print(\"f_abs_new\", f_abs_new)\n",
    "                    break\n",
    "\n",
    "            #except Exception as ex:\n",
    "            #    print(ex)\n",
    "\n",
    "            n = N\n",
    "            while n > 0:\n",
    "                n = n-1\n",
    "                if logging:\n",
    "                    print(\"\\nim_d_im xn = \", xn_re, xn_im, \"step = \", step_im_im)\n",
    "\n",
    "                xn_im_new, delta_im_im = NewtonIt(f_div_df_im.subs(xre == self.xn_re), xim, self.xn_im, step_im_im, re=False)\n",
    "                f_new = f.subs(xre == self.xn_re).subs(xim == xn_im_new).n()\n",
    "                f_abs_new = f_new.abs()\n",
    "\n",
    "                if logging:\n",
    "                    print(\"f_abs_new\", f_abs_new)\n",
    "\n",
    "                if f_abs_new > abs_m*f_abs:\n",
    "                    step_im_im *= step__m\n",
    "                    continue\n",
    "                else:\n",
    "                    self.xn_im = xn_im_new\n",
    "                    f_abs = f_abs_new\n",
    "                    if step_im_im < 0.9:\n",
    "                        step_im_im /= step_m\n",
    "\n",
    "                    print (\"f_new\", f_new)\n",
    "                    print(\"f_abs_new\", f_abs_new)\n",
    "                    break\n",
    "\n",
    "\n",
    "            #except Exception as ex:\n",
    "            #    print(ex)\n",
    "\n",
    "\n",
    "            if abs(delta_re_re) < delta_epsilon and \\\n",
    "               abs(delta_re_im) < delta_epsilon and \\\n",
    "               abs(delta_im_re) < delta_epsilon and \\\n",
    "               abs(delta_im_im) < delta_epsilon:\n",
    "                print(\"algorithm finished via delta_epsilon\",\n",
    "                      delta_re_re,\n",
    "                      delta_re_im,\n",
    "                      delta_im_re,\n",
    "                      delta_im_im\n",
    "                     )\n",
    "                break\n",
    "            if f_abs < f_abs_epsilon:\n",
    "                print(\"algorithm finished via f_abs_epsilon\",\n",
    "                      f_abs\n",
    "                     )\n",
    "                break\n",
    "                \n",
    "\n",
    "        return self.xn_re, self.xn_im, f_new"
   ]
  },
  {
   "cell_type": "code",
   "execution_count": 748,
   "metadata": {},
   "outputs": [
    {
     "data": {
      "text/plain": [
       "(-0.000997334859947252, -4.024890970671108e-06)"
      ]
     },
     "execution_count": 748,
     "metadata": {},
     "output_type": "execute_result"
    }
   ],
   "source": [
    "k_z_sol_kz, k_z_sol_sz"
   ]
  },
  {
   "cell_type": "code",
   "execution_count": 749,
   "metadata": {},
   "outputs": [],
   "source": [
    "use_newton_prec = True"
   ]
  },
  {
   "cell_type": "code",
   "execution_count": 750,
   "metadata": {},
   "outputs": [],
   "source": [
    "if use_newton_prec:\n",
    "    my_newton_prec = newton_prec(M_det_kz_sz = M6_det_d, xn_re = k_z_sol_kz, xn_im = k_z_sol_sz)"
   ]
  },
  {
   "cell_type": "code",
   "execution_count": 751,
   "metadata": {},
   "outputs": [
    {
     "name": "stdout",
     "output_type": "stream",
     "text": [
      "step_delta 8.55377343600856e-7\n",
      "f_new -225.696930177510 + 94.4720603302121*I\n",
      "f_abs_new 244.671360143738\n",
      "step_delta 1.61688713997256e-8\n",
      "f_new -164.476216524839 + 34.7109070308506*I\n",
      "f_abs_new 168.098997228509\n",
      "step_delta 1.61675713302944e-8\n",
      "f_new -104.720031738281 + 95.9312744140625*I\n",
      "f_abs_new 142.017937099413\n",
      "step_delta -2.54844582127540e-8\n",
      "step_delta -2.54844582127540e-9\n",
      "step_delta -2.54844582127540e-10\n",
      "step_delta -2.54844582127540e-11\n",
      "step_delta -2.54844582127540e-12\n",
      "step_delta -2.54844582127540e-13\n",
      "step_delta -2.54844582127540e-14\n",
      "step_delta -2.54844582127540e-15\n",
      "step_delta -2.54844582127540e-16\n",
      "step_delta -2.54844582127540e-17\n",
      "step_delta 2.54844582127540e-8\n",
      "f_new -8.21008300781250 + 1.73730468750000*I\n",
      "f_abs_new 8.39188242126765\n",
      "step_delta 8.06232642021042e-10\n",
      "f_new -5.15673828125000 - 1.24291992187500*I\n",
      "f_abs_new 5.30441322235579\n",
      "step_delta 8.06213472034749e-10\n",
      "f_new -2.17675781250000 + 1.81054687500000*I\n",
      "f_abs_new 2.83131675388891\n",
      "step_delta -5.06643475134347e-20\n",
      "step_delta -5.06643475134347e-21\n",
      "f_new -2.17675781250000 + 1.81054687500000*I\n",
      "f_abs_new 2.83131675388891\n",
      "step_delta 5.06655881013095e-10\n",
      "f_new -0.257812500000000 - 0.0622558593750000*I\n",
      "f_abs_new 0.265222693566689\n",
      "step_delta 4.03427089352010e-11\n",
      "f_new -0.104980468750000 - 0.211425781250000*I\n",
      "f_abs_new 0.236054569530316\n",
      "step_delta 4.03175592503740e-11\n",
      "f_new 0.0440673828125000 - 0.0585937500000000*I\n",
      "f_abs_new 0.0733154947265987\n",
      "step_delta 1.44652959171653e-22\n",
      "f_new 0.0440673828125000 - 0.0585937500000000*I\n",
      "f_abs_new 0.0733154947265987\n",
      "step_delta -1.30193619001795e-11\n",
      "f_new -0.00525563955307007 - 0.0104116946458817*I\n",
      "f_abs_new 0.0116629812874271\n",
      "step_delta 2.00864996269605e-12\n",
      "step_delta 2.00864996269605e-13\n",
      "step_delta 2.00864996269605e-14\n",
      "step_delta 2.00864996269605e-15\n",
      "step_delta 2.00864996269605e-16\n",
      "step_delta 2.00864996269605e-17\n",
      "step_delta 2.00864996269605e-18\n",
      "step_delta 2.00864996269605e-19\n",
      "step_delta 2.00864996269605e-20\n",
      "f_new -0.00525563955307007 - 0.0104116946458817*I\n",
      "f_abs_new 0.0116629812874271\n",
      "step_delta 2.00864996272324e-12\n",
      "f_new 0.00194700062274933 - 0.00284300372004509*I\n",
      "f_abs_new 0.00344579186504009\n",
      "step_delta 6.82184655114561e-24\n",
      "f_new 0.00194700062274933 - 0.00284300372004509*I\n",
      "f_abs_new 0.00344579186504009\n",
      "step_delta -5.52569570642794e-13\n",
      "f_new 0.000149436295032501 - 0.00107284635305405*I\n",
      "f_abs_new 0.00108320381440171\n",
      "step_delta 1.26751603884944e-21\n",
      "f_new 0.000149436295032501 - 0.00107284635305405*I\n",
      "f_abs_new 0.00108320381440171\n",
      "step_delta 1.14076443496449e-13\n",
      "f_new 0.000454641878604889 - 0.000408370047807693*I\n",
      "f_abs_new 0.000611118101292901\n",
      "step_delta 1.43987044082348e-24\n",
      "f_new 0.000454641878604889 - 0.000408370047807693*I\n",
      "f_abs_new 0.000611118101292901\n",
      "step_delta -1.04966555136031e-13\n",
      "f_new -0.000183105468750000\n",
      "f_abs_new 0.000183105468750000\n",
      "step_delta 2.98964445785184e-22\n",
      "f_new -0.000183105468750000\n",
      "f_abs_new 0.000183105468750000\n",
      "step_delta 2.42161201088573e-14\n",
      "f_new 0.000122070312500000\n",
      "f_abs_new 0.000122070312500000\n",
      "step_delta 9.07751682692594e-27\n",
      "f_new 0.000122070312500000\n",
      "f_abs_new 0.000122070312500000\n",
      "step_delta -5.95575879014611e-16\n",
      "step_delta -5.95575879014611e-17\n",
      "f_new 0.0000337734818458557 + 0.0000784657895565033*I\n",
      "f_abs_new 0.0000854255711524237\n",
      "step_delta -4.77605452153499e-22\n",
      "f_new 0.0000337734818458557 + 0.0000784657895565033*I\n",
      "f_abs_new 0.0000854255711524237\n",
      "step_delta -3.48174374619901e-14\n",
      "step_delta -3.48174374619901e-15\n",
      "f_new 0.0000610351562500000\n",
      "f_abs_new 0.0000610351562500000\n",
      "step_delta 4.05059055326352e-25\n",
      "f_new 0.0000610351562500000\n",
      "f_abs_new 0.0000610351562500000\n",
      "step_delta -2.65759246232616e-15\n",
      "step_delta -2.65759246232616e-16\n",
      "step_delta -2.65759246232616e-17\n",
      "step_delta -2.65759246232616e-18\n",
      "step_delta -2.65759246232616e-19\n",
      "f_new 0.000000000000000\n",
      "f_abs_new 0.000000000000000\n",
      "step_delta 7.51800091785545e-22\n",
      "f_new 0.000000000000000\n",
      "f_abs_new 0.000000000000000\n",
      "step_delta 5.48062266919155e-15\n",
      "step_delta 5.48062266919155e-16\n",
      "step_delta 5.48062266919155e-17\n",
      "step_delta 5.48062266919155e-18\n",
      "step_delta 5.48062266919155e-19\n",
      "step_delta 5.48062266919155e-20\n",
      "step_delta 5.48062266919155e-21\n",
      "step_delta 5.48062266919155e-22\n",
      "f_new 0.000000000000000\n",
      "f_abs_new 0.000000000000000\n",
      "step_delta 4.50065617139996e-25\n",
      "f_new 0.000000000000000\n",
      "f_abs_new 0.000000000000000\n",
      "algorithm finished via f_abs_epsilon 0.000000000000000\n"
     ]
    }
   ],
   "source": [
    "if use_newton_prec:\n",
    "    k_z_root = my_newton_prec.prec_root(nsteps = 500)\n",
    "    k_z_sol = [kz == k_z_root[0],   sz == k_z_root[1],\n",
    "               k_z == k_z_root[0] + I * k_z_root[1]]\n",
    "else:\n",
    "    k_z_sol = [kz  == k_z_sol_kz, sz == k_z_sol_sz,\n",
    "               k_z == k_z_sol_kz + I * k_z_sol_sz]"
   ]
  },
  {
   "cell_type": "code",
   "execution_count": 752,
   "metadata": {},
   "outputs": [
    {
     "name": "stdout",
     "output_type": "stream",
     "text": [
      "(-0.000998233230174740, -4.04190721649347e-6, 0.000000000000000)\n"
     ]
    }
   ],
   "source": [
    "if use_newton_prec:\n",
    "    print(k_z_root)"
   ]
  },
  {
   "cell_type": "code",
   "execution_count": 753,
   "metadata": {},
   "outputs": [
    {
     "data": {
      "text/plain": [
       "[kz == -0.000998233230174740,\n",
       " sz == (-4.04190721649347e-6),\n",
       " k_z == (-0.000998233230174740 - 4.04190721649347e-6*I)]"
      ]
     },
     "execution_count": 753,
     "metadata": {},
     "output_type": "execute_result"
    }
   ],
   "source": [
    "k_z_sol"
   ]
  },
  {
   "cell_type": "code",
   "execution_count": null,
   "metadata": {},
   "outputs": [],
   "source": []
  },
  {
   "cell_type": "code",
   "execution_count": 754,
   "metadata": {},
   "outputs": [
    {
     "data": {
      "text/latex": [
       "$\\displaystyle 0.000000000000000$"
      ],
      "text/plain": [
       "<IPython.core.display.Math object>"
      ]
     },
     "metadata": {},
     "output_type": "display_data"
    }
   ],
   "source": [
    "M6_subs_d = M6_det_d.subs(digit_values).subs(k_z_sol)\n",
    "disp(M6_subs_d.n())"
   ]
  },
  {
   "cell_type": "code",
   "execution_count": 755,
   "metadata": {},
   "outputs": [],
   "source": [
    "M6_ReIm_d = M6_ReIm.subs(digit_values).subs(k_z_sol).n()"
   ]
  },
  {
   "cell_type": "code",
   "execution_count": 756,
   "metadata": {},
   "outputs": [
    {
     "data": {
      "text/latex": [
       "$\\displaystyle \\left(\\begin{array}{rrrrrrrrrrrr}\n",
       "0.000000000000000 & 0.000000000000000 & -1.00000000000000 & 0.000000000000000 & 0.000000000000000 & 0.000000000000000 & -1.00000000000000 & 0.000000000000000 & 0.000000000000000 & 0.000000000000000 & 1.00000000000000 & 0.000000000000000 \\\\\n",
       "0.000000000000000 & 0.000000000000000 & 1.00009869946027 & -0.0000408850188436011 & 0.000000000000000 & 0.000000000000000 & 0.999901308609263 & 0.0000408769493113966 & 0.000000000000000 & 0.000000000000000 & 0.000000000000000 & 0.000000000000000 \\\\\n",
       "1.00000000000000 & 0.000000000000000 & 0.000000000000000 & 0.000000000000000 & 1.00000000000000 & 0.000000000000000 & 0.000000000000000 & 0.000000000000000 & -1.00000000000000 & 7.58925029394836 \\times 10^{9} & 0.000000000000000 & 0.000000000000000 \\\\\n",
       "1.00408211858649 & -0.00406558972231003 & -61600.5699085543 & 61600.4295143996 & 1.00408211858649 & -0.00406558972231003 & -61600.4876675235 & 61600.6280618108 & -1.00408211858649 & 0.00406558972231003 & 0.000000000000000 & 0.000000000000000 \\\\\n",
       "-1.00418105472794 & 0.00410704291016023 & 0.0411286327797590 & 0.0992818226910350 & -1.00398319051469 & 0.00402414466974023 & -0.0411123991526711 & -0.0992655890640663 & 0.000000000000000 & 0.000000000000000 & 0.000000000000000 & 0.000000000000000 \\\\\n",
       "0.000000000000000 & 0.000000000000000 & -61.2452396178016 & 61.2502468433464 & 0.000000000000000 & 0.000000000000000 & -61.2381583085691 & 61.2331510506144 & 0.000000000000000 & 0.000000000000000 & 0.000000000000000 & 0.000000000000000 \\\\\n",
       "0.000000000000000 & 0.000000000000000 & 0.000000000000000 & -1.00000000000000 & 0.000000000000000 & 0.000000000000000 & 0.000000000000000 & -1.00000000000000 & 0.000000000000000 & 0.000000000000000 & 0.000000000000000 & 1.00000000000000 \\\\\n",
       "0.000000000000000 & 0.000000000000000 & 0.0000408850188436011 & 1.00009869946027 & 0.000000000000000 & 0.000000000000000 & -0.0000408769493113966 & 0.999901308609263 & 0.000000000000000 & 0.000000000000000 & 0.000000000000000 & 0.000000000000000 \\\\\n",
       "0.000000000000000 & 1.00000000000000 & 0.000000000000000 & 0.000000000000000 & 0.000000000000000 & 1.00000000000000 & 0.000000000000000 & 0.000000000000000 & -7.58925029394836 \\times 10^{9} & -1.00000000000000 & 0.000000000000000 & 0.000000000000000 \\\\\n",
       "0.00406558972231003 & 1.00408211858649 & -61600.4295143996 & -61600.5699085543 & 0.00406558972231003 & 1.00408211858649 & -61600.6280618108 & -61600.4876675235 & -0.00406558972231003 & -1.00408211858649 & 0.000000000000000 & 0.000000000000000 \\\\\n",
       "-0.00410704291016023 & -1.00418105472794 & -0.0992818226910350 & 0.0411286327797590 & -0.00402414466974023 & -1.00398319051469 & 0.0992655890640663 & -0.0411123991526711 & 0.000000000000000 & 0.000000000000000 & 0.000000000000000 & 0.000000000000000 \\\\\n",
       "0.000000000000000 & 0.000000000000000 & -61.2502468433464 & -61.2452396178016 & 0.000000000000000 & 0.000000000000000 & -61.2331510506144 & -61.2381583085691 & 0.000000000000000 & 0.000000000000000 & 0.000000000000000 & 0.000000000000000\n",
       "\\end{array}\\right)$"
      ],
      "text/plain": [
       "<IPython.core.display.Math object>"
      ]
     },
     "metadata": {},
     "output_type": "display_data"
    }
   ],
   "source": [
    "disp(M6_ReIm_d.n())"
   ]
  },
  {
   "cell_type": "code",
   "execution_count": 226,
   "metadata": {},
   "outputs": [],
   "source": [
    "# M6_subs_d.rank() gives 6\n",
    "# but M6_subs_d.det().n() gives -2.66693594449750e-21\n",
    "# so real rank is 5"
   ]
  },
  {
   "cell_type": "code",
   "execution_count": 227,
   "metadata": {},
   "outputs": [
    {
     "name": "stdout",
     "output_type": "stream",
     "text": [
      "(A1_x_re, A1_x_im, A1_z_re, A1_z_im, A2_x_re, A2_x_im, A2_z_re, A2_z_im, B1_x_re, B1_x_im, B1_z_re, B1_z_im)\n"
     ]
    }
   ],
   "source": [
    "# искомые коэффициенты интенсивности полей\n",
    "X6_ReIm = vector(vars6reim)\n",
    "print(X6_ReIm)"
   ]
  },
  {
   "cell_type": "code",
   "execution_count": 228,
   "metadata": {},
   "outputs": [],
   "source": [
    "# умножая матрицу системы уравнений\n",
    "# на вектор искомых коэффициентов интенсивности полей\n",
    "# находим систему 12 уравнений для нахождения\n",
    "# коэффициентов интенсивности полей\n",
    "\n",
    "M6_ReIm_d_X = M6_ReIm_d * X6_ReIm\n",
    "# print(M6_ReIm_d_X)"
   ]
  },
  {
   "cell_type": "markdown",
   "metadata": {},
   "source": [
    "поскольку детерминант матрицы нулевой для нахождения нетривиального решения\n",
    "назначим числовое значение одному из 6-ти неизвестных коэффициентов"
   ]
  },
  {
   "cell_type": "code",
   "execution_count": 229,
   "metadata": {},
   "outputs": [],
   "source": [
    "# для решения системы уравнений\n",
    "# на вектор искомых коэффициентов интенсивности полей\n",
    "# устанавливаем один из 12 искомых коэффициентов в 1\n",
    "A1_x_re_d = 1"
   ]
  },
  {
   "cell_type": "code",
   "execution_count": 230,
   "metadata": {},
   "outputs": [
    {
     "data": {
      "text/plain": [
       "[1, 2, 3, 4, 5, 6, 7, 8, 9, 10, 11]"
      ]
     },
     "execution_count": 230,
     "metadata": {},
     "output_type": "execute_result"
    }
   ],
   "source": [
    "colomn_to_remove = 0\n",
    "columns = [0,1,2,3,4,5,6,7,8,9,10,11]\n",
    "columns.remove(colomn_to_remove)\n",
    "columns"
   ]
  },
  {
   "cell_type": "markdown",
   "metadata": {},
   "source": [
    "Вычеркивая из матрицы соответствующую переменной $A_{re}$ колонку получаем матрицу переопределённой системы уравнений"
   ]
  },
  {
   "cell_type": "code",
   "execution_count": 231,
   "metadata": {},
   "outputs": [
    {
     "data": {
      "text/html": [
       "<html>\\(\\displaystyle \\left(\\begin{array}{rrrrrrrrrrr}\n",
       "0.000000000000000 & -1.00000000000000 & 0.000000000000000 & 0.000000000000000 & 0.000000000000000 & -1.00000000000000 & 0.000000000000000 & 0.000000000000000 & 0.000000000000000 & 1.00000000000000 & 0.000000000000000 \\\\\n",
       "0.000000000000000 & 1.00009869946002 & -0.0000408850187605228 & 0.000000000000000 & 0.000000000000000 & 0.999901308609515 & 0.0000408769492283553 & 0.000000000000000 & 0.000000000000000 & 0.000000000000000 & 0.000000000000000 \\\\\n",
       "0.000000000000000 & 0.000000000000000 & 0.000000000000000 & 1.00000000000000 & 0.000000000000000 & 0.000000000000000 & 0.000000000000000 & -1.00000000000000 & 7.58925029394836 \\times 10^{9} & 0.000000000000000 & 0.000000000000000 \\\\\n",
       "-0.00406558970378207 & -61600.5699085543 & 61600.4295143998 & 1.00408211856483 & -0.00406558970378207 & -61600.4876675236 & 61600.6280618106 & -1.00408211856483 & 0.00406558970378207 & 0.000000000000000 & 0.000000000000000 \\\\\n",
       "0.00410704289154511 & 0.0411286326961753 & 0.0992818224381337 & -1.00398319049329 & 0.00402414465129939 & -0.0411123990691617 & -0.0992655888112512 & 0.000000000000000 & 0.000000000000000 & 0.000000000000000 & 0.000000000000000 \\\\\n",
       "0.000000000000000 & -61.2452396178119 & 61.2502468433669 & 0.000000000000000 & 0.000000000000000 & -61.2381583085588 & 61.2331510505939 & 0.000000000000000 & 0.000000000000000 & 0.000000000000000 & 0.000000000000000 \\\\\n",
       "0.000000000000000 & 0.000000000000000 & -1.00000000000000 & 0.000000000000000 & 0.000000000000000 & 0.000000000000000 & -1.00000000000000 & 0.000000000000000 & 0.000000000000000 & 0.000000000000000 & 1.00000000000000 \\\\\n",
       "0.000000000000000 & 0.0000408850187605228 & 1.00009869946002 & 0.000000000000000 & 0.000000000000000 & -0.0000408769492283553 & 0.999901308609515 & 0.000000000000000 & 0.000000000000000 & 0.000000000000000 & 0.000000000000000 \\\\\n",
       "1.00000000000000 & 0.000000000000000 & 0.000000000000000 & 0.000000000000000 & 1.00000000000000 & 0.000000000000000 & 0.000000000000000 & -7.58925029394836 \\times 10^{9} & -1.00000000000000 & 0.000000000000000 & 0.000000000000000 \\\\\n",
       "1.00408211856483 & -61600.4295143998 & -61600.5699085543 & 0.00406558970378207 & 1.00408211856483 & -61600.6280618106 & -61600.4876675236 & -0.00406558970378207 & -1.00408211856483 & 0.000000000000000 & 0.000000000000000 \\\\\n",
       "-1.00418105470604 & -0.0992818224381337 & 0.0411286326961753 & -0.00402414465129939 & -1.00398319049329 & 0.0992655888112512 & -0.0411123990691617 & 0.000000000000000 & 0.000000000000000 & 0.000000000000000 & 0.000000000000000 \\\\\n",
       "0.000000000000000 & -61.2502468433669 & -61.2452396178119 & 0.000000000000000 & 0.000000000000000 & -61.2331510505939 & -61.2381583085588 & 0.000000000000000 & 0.000000000000000 & 0.000000000000000 & 0.000000000000000\n",
       "\\end{array}\\right)\\)</html>"
      ],
      "text/latex": [
       "$\\displaystyle \\left(\\begin{array}{rrrrrrrrrrr}\n",
       "0.000000000000000 & -1.00000000000000 & 0.000000000000000 & 0.000000000000000 & 0.000000000000000 & -1.00000000000000 & 0.000000000000000 & 0.000000000000000 & 0.000000000000000 & 1.00000000000000 & 0.000000000000000 \\\\\n",
       "0.000000000000000 & 1.00009869946002 & -0.0000408850187605228 & 0.000000000000000 & 0.000000000000000 & 0.999901308609515 & 0.0000408769492283553 & 0.000000000000000 & 0.000000000000000 & 0.000000000000000 & 0.000000000000000 \\\\\n",
       "0.000000000000000 & 0.000000000000000 & 0.000000000000000 & 1.00000000000000 & 0.000000000000000 & 0.000000000000000 & 0.000000000000000 & -1.00000000000000 & 7.58925029394836 \\times 10^{9} & 0.000000000000000 & 0.000000000000000 \\\\\n",
       "-0.00406558970378207 & -61600.5699085543 & 61600.4295143998 & 1.00408211856483 & -0.00406558970378207 & -61600.4876675236 & 61600.6280618106 & -1.00408211856483 & 0.00406558970378207 & 0.000000000000000 & 0.000000000000000 \\\\\n",
       "0.00410704289154511 & 0.0411286326961753 & 0.0992818224381337 & -1.00398319049329 & 0.00402414465129939 & -0.0411123990691617 & -0.0992655888112512 & 0.000000000000000 & 0.000000000000000 & 0.000000000000000 & 0.000000000000000 \\\\\n",
       "0.000000000000000 & -61.2452396178119 & 61.2502468433669 & 0.000000000000000 & 0.000000000000000 & -61.2381583085588 & 61.2331510505939 & 0.000000000000000 & 0.000000000000000 & 0.000000000000000 & 0.000000000000000 \\\\\n",
       "0.000000000000000 & 0.000000000000000 & -1.00000000000000 & 0.000000000000000 & 0.000000000000000 & 0.000000000000000 & -1.00000000000000 & 0.000000000000000 & 0.000000000000000 & 0.000000000000000 & 1.00000000000000 \\\\\n",
       "0.000000000000000 & 0.0000408850187605228 & 1.00009869946002 & 0.000000000000000 & 0.000000000000000 & -0.0000408769492283553 & 0.999901308609515 & 0.000000000000000 & 0.000000000000000 & 0.000000000000000 & 0.000000000000000 \\\\\n",
       "1.00000000000000 & 0.000000000000000 & 0.000000000000000 & 0.000000000000000 & 1.00000000000000 & 0.000000000000000 & 0.000000000000000 & -7.58925029394836 \\times 10^{9} & -1.00000000000000 & 0.000000000000000 & 0.000000000000000 \\\\\n",
       "1.00408211856483 & -61600.4295143998 & -61600.5699085543 & 0.00406558970378207 & 1.00408211856483 & -61600.6280618106 & -61600.4876675236 & -0.00406558970378207 & -1.00408211856483 & 0.000000000000000 & 0.000000000000000 \\\\\n",
       "-1.00418105470604 & -0.0992818224381337 & 0.0411286326961753 & -0.00402414465129939 & -1.00398319049329 & 0.0992655888112512 & -0.0411123990691617 & 0.000000000000000 & 0.000000000000000 & 0.000000000000000 & 0.000000000000000 \\\\\n",
       "0.000000000000000 & -61.2502468433669 & -61.2452396178119 & 0.000000000000000 & 0.000000000000000 & -61.2331510505939 & -61.2381583085588 & 0.000000000000000 & 0.000000000000000 & 0.000000000000000 & 0.000000000000000\n",
       "\\end{array}\\right)$"
      ],
      "text/plain": [
       "[     0.000000000000000      -1.00000000000000      0.000000000000000      0.000000000000000      0.000000000000000      -1.00000000000000      0.000000000000000      0.000000000000000      0.000000000000000       1.00000000000000      0.000000000000000]\n",
       "[     0.000000000000000       1.00009869946002 -0.0000408850187605228      0.000000000000000      0.000000000000000      0.999901308609515  0.0000408769492283553      0.000000000000000      0.000000000000000      0.000000000000000      0.000000000000000]\n",
       "[     0.000000000000000      0.000000000000000      0.000000000000000       1.00000000000000      0.000000000000000      0.000000000000000      0.000000000000000      -1.00000000000000     7.58925029394836e9      0.000000000000000      0.000000000000000]\n",
       "[  -0.00406558970378207      -61600.5699085543       61600.4295143998       1.00408211856483   -0.00406558970378207      -61600.4876675236       61600.6280618106      -1.00408211856483    0.00406558970378207      0.000000000000000      0.000000000000000]\n",
       "[   0.00410704289154511     0.0411286326961753     0.0992818224381337      -1.00398319049329    0.00402414465129939    -0.0411123990691617    -0.0992655888112512      0.000000000000000      0.000000000000000      0.000000000000000      0.000000000000000]\n",
       "[     0.000000000000000      -61.2452396178119       61.2502468433669      0.000000000000000      0.000000000000000      -61.2381583085588       61.2331510505939      0.000000000000000      0.000000000000000      0.000000000000000      0.000000000000000]\n",
       "[     0.000000000000000      0.000000000000000      -1.00000000000000      0.000000000000000      0.000000000000000      0.000000000000000      -1.00000000000000      0.000000000000000      0.000000000000000      0.000000000000000       1.00000000000000]\n",
       "[     0.000000000000000  0.0000408850187605228       1.00009869946002      0.000000000000000      0.000000000000000 -0.0000408769492283553      0.999901308609515      0.000000000000000      0.000000000000000      0.000000000000000      0.000000000000000]\n",
       "[      1.00000000000000      0.000000000000000      0.000000000000000      0.000000000000000       1.00000000000000      0.000000000000000      0.000000000000000    -7.58925029394836e9      -1.00000000000000      0.000000000000000      0.000000000000000]\n",
       "[      1.00408211856483      -61600.4295143998      -61600.5699085543    0.00406558970378207       1.00408211856483      -61600.6280618106      -61600.4876675236   -0.00406558970378207      -1.00408211856483      0.000000000000000      0.000000000000000]\n",
       "[     -1.00418105470604    -0.0992818224381337     0.0411286326961753   -0.00402414465129939      -1.00398319049329     0.0992655888112512    -0.0411123990691617      0.000000000000000      0.000000000000000      0.000000000000000      0.000000000000000]\n",
       "[     0.000000000000000      -61.2502468433669      -61.2452396178119      0.000000000000000      0.000000000000000      -61.2331510505939      -61.2381583085588      0.000000000000000      0.000000000000000      0.000000000000000      0.000000000000000]"
      ]
     },
     "metadata": {},
     "output_type": "display_data"
    }
   ],
   "source": [
    "vM11 = M6_ReIm_d.delete_columns([colomn_to_remove])\n",
    "show(vM11)"
   ]
  },
  {
   "cell_type": "markdown",
   "metadata": {},
   "source": [
    "Создаем правую часть переопределённой системы уравнений"
   ]
  },
  {
   "cell_type": "code",
   "execution_count": 232,
   "metadata": {},
   "outputs": [
    {
     "data": {
      "text/plain": [
       "[  -0.000000000000000]\n",
       "[  -0.000000000000000]\n",
       "[   -1.00000000000000]\n",
       "[   -1.00408211856483]\n",
       "[    1.00418105470604]\n",
       "[  -0.000000000000000]\n",
       "[  -0.000000000000000]\n",
       "[  -0.000000000000000]\n",
       "[  -0.000000000000000]\n",
       "[-0.00406558970378207]\n",
       "[ 0.00410704289154511]\n",
       "[  -0.000000000000000]"
      ]
     },
     "execution_count": 232,
     "metadata": {},
     "output_type": "execute_result"
    }
   ],
   "source": [
    "Y12 = - A1_x_re_d * M6_ReIm_d.delete_columns(columns)\n",
    "Y12"
   ]
  },
  {
   "cell_type": "markdown",
   "metadata": {},
   "source": [
    "Решаем переопределённую систему уравнений"
   ]
  },
  {
   "cell_type": "code",
   "execution_count": 233,
   "metadata": {},
   "outputs": [
    {
     "data": {
      "text/plain": [
       "[     -2.10593419166237]\n",
       "[  -8.91078593750933e-6]\n",
       "[-0.0000253497173230482]\n",
       "[     -1.00037537110398]\n",
       "[      2.10626784812217]\n",
       "[   8.91047193701452e-6]\n",
       "[ 0.0000253554502416595]\n",
       "[  4.39643506151269e-14]\n",
       "[  4.94608939600754e-14]\n",
       "[ -3.14000494812218e-10]\n",
       "[   5.73291861130310e-9]"
      ]
     },
     "execution_count": 233,
     "metadata": {},
     "output_type": "execute_result"
    }
   ],
   "source": [
    "X11_solve_right = vM11.solve_right(Y12)\n",
    "X11_solve_right"
   ]
  },
  {
   "cell_type": "markdown",
   "metadata": {},
   "source": [
    "тестируем найденное решение"
   ]
  },
  {
   "cell_type": "code",
   "execution_count": 234,
   "metadata": {},
   "outputs": [
    {
     "data": {
      "text/plain": [
       "(\n",
       "[-3.60547349496551e-22]                     \n",
       "[ 1.37725571990079e-21]                     \n",
       "[    0.000000000000000]                     \n",
       "[ 3.99680288865056e-15]                     \n",
       "[-4.21884749357559e-15]                     \n",
       "[-4.33680868994202e-19]                     \n",
       "[ 2.82234025003093e-21]                     \n",
       "[ 3.38813178901720e-21]                     \n",
       "[-1.07790412080780e-12]                     \n",
       "[-1.03477382912276e-12]                     \n",
       "[ 9.65084782922343e-13]                     \n",
       "[-8.58688120608520e-17], 1.7787795225382e-12\n",
       ")"
      ]
     },
     "execution_count": 234,
     "metadata": {},
     "output_type": "execute_result"
    }
   ],
   "source": [
    "Err_12_solve_right = vM11*X11_solve_right-Y12\n",
    "sum_of_squares_solve_right = Err_12_solve_right.norm()\n",
    "Err_12_solve_right, sum_of_squares_solve_right"
   ]
  },
  {
   "cell_type": "markdown",
   "metadata": {},
   "source": [
    "Решаем переопределённую систему уравнений методом псевдообратной матрицы"
   ]
  },
  {
   "cell_type": "code",
   "execution_count": 235,
   "metadata": {},
   "outputs": [],
   "source": [
    "def pseudo_inverse(mat) :\n",
    "    from scipy import linalg\n",
    "    return matrix(linalg.pinv(mat))"
   ]
  },
  {
   "cell_type": "code",
   "execution_count": 236,
   "metadata": {},
   "outputs": [
    {
     "data": {
      "text/plain": [
       "[-2.2359618497003186e-12]\n",
       "[  8.182981616030102e-06]\n",
       "[ -8.116956523077746e-06]\n",
       "[    -1.0001983510261974]\n",
       "[ -8.405774698633543e-05]\n",
       "[ -8.185260777695137e-06]\n",
       "[   8.11788967735493e-06]\n",
       "[-1.1088733035360786e-14]\n",
       "[ 2.6095344065346646e-14]\n",
       "[-2.2768044415241475e-09]\n",
       "[  9.331520256802668e-10]"
      ]
     },
     "execution_count": 236,
     "metadata": {},
     "output_type": "execute_result"
    }
   ],
   "source": [
    "X11_pseudo_inverse = pseudo_inverse(vM11)*Y12\n",
    "X11_pseudo_inverse"
   ]
  },
  {
   "cell_type": "markdown",
   "metadata": {},
   "source": [
    "тестируем найденное решение"
   ]
  },
  {
   "cell_type": "code",
   "execution_count": 237,
   "metadata": {},
   "outputs": [
    {
     "data": {
      "text/plain": [
       "(\n",
       "[ 2.35722351028983e-12]                       \n",
       "[ 5.45334077459282e-15]                       \n",
       "[ -3.06928567672671e-7]                       \n",
       "[ 9.17865783378602e-12]                       \n",
       "[ 5.21804821573824e-14]                       \n",
       "[-3.90438441126573e-13]                       \n",
       "[-2.25150369678403e-15]                       \n",
       "[-9.22571345490439e-16]                       \n",
       "[  9.74211997340557e-8]                       \n",
       "[-8.67762372375180e-12]                       \n",
       "[-1.07619729100561e-12]                       \n",
       "[-2.77487993520509e-13], 3.220186888640406e-07\n",
       ")"
      ]
     },
     "execution_count": 237,
     "metadata": {},
     "output_type": "execute_result"
    }
   ],
   "source": [
    "Err_12_pseudo_inverse = vM11*X11_pseudo_inverse-Y12\n",
    "sum_of_squares_pseudo_inverse = Err_12_pseudo_inverse.norm()\n",
    "Err_12_pseudo_inverse, sum_of_squares_pseudo_inverse"
   ]
  },
  {
   "cell_type": "markdown",
   "metadata": {},
   "source": [
    "Выбираем решение с наименьшей ошибкой"
   ]
  },
  {
   "cell_type": "code",
   "execution_count": 238,
   "metadata": {},
   "outputs": [],
   "source": [
    "if sum_of_squares_pseudo_inverse < sum_of_squares_solve_right:\n",
    "    X11 = X11_pseudo_inverse\n",
    "else:\n",
    "    X11 = X11_solve_right"
   ]
  },
  {
   "cell_type": "markdown",
   "metadata": {},
   "source": [
    "вставляем в вектор найденного решения изначально назначенный коэффициент"
   ]
  },
  {
   "cell_type": "code",
   "execution_count": 239,
   "metadata": {},
   "outputs": [
    {
     "data": {
      "text/plain": [
       "(1.00000000000000, -2.10593419166237, -8.91078593750933e-6, -0.0000253497173230482, -1.00037537110398, 2.10626784812217, 8.91047193701452e-6, 0.0000253554502416595, 4.39643506151269e-14, 4.94608939600754e-14, -3.14000494812218e-10, 5.73291861130310e-9)"
      ]
     },
     "execution_count": 239,
     "metadata": {},
     "output_type": "execute_result"
    }
   ],
   "source": [
    "X11_list = X11.list()\n",
    "X11_list.insert(colomn_to_remove, A1_x_re_d)\n",
    "X12 = vector(X11_list)\n",
    "X12"
   ]
  },
  {
   "cell_type": "markdown",
   "metadata": {},
   "source": [
    "ещё раз тестируем найденное решение"
   ]
  },
  {
   "cell_type": "code",
   "execution_count": 240,
   "metadata": {},
   "outputs": [
    {
     "data": {
      "text/plain": [
       "([-3.60547349496551e-22,\n",
       "  1.37725571990079e-21,\n",
       "  -7.22078646875346e-17,\n",
       "  3.79685945314194e-15,\n",
       "  -4.30691774426636e-15,\n",
       "  -4.33680868994202e-19,\n",
       "  2.82234025003093e-21,\n",
       "  3.38813178901720e-21,\n",
       "  -1.07790412080780e-12,\n",
       "  -1.03483140765218e-12,\n",
       "  9.64911293845845e-13,\n",
       "  -8.58688120608520e-17],\n",
       " 1.77871867342165e-12)"
      ]
     },
     "execution_count": 240,
     "metadata": {},
     "output_type": "execute_result"
    }
   ],
   "source": [
    "Err_12 = M6_ReIm_d*X12\n",
    "sum_of_squares = Err_12.norm()\n",
    "Err_12.list(), sum_of_squares"
   ]
  },
  {
   "cell_type": "code",
   "execution_count": null,
   "metadata": {},
   "outputs": [],
   "source": []
  },
  {
   "cell_type": "code",
   "execution_count": 241,
   "metadata": {},
   "outputs": [
    {
     "data": {
      "text/plain": [
       "[A1_x_re == 1.00000000000000,\n",
       " A1_x_im == -2.10593419166237,\n",
       " A1_z_re == (-8.91078593750933e-6),\n",
       " A1_z_im == -0.0000253497173230482,\n",
       " A2_x_re == -1.00037537110398,\n",
       " A2_x_im == 2.10626784812217,\n",
       " A2_z_re == (8.91047193701452e-6),\n",
       " A2_z_im == 0.0000253554502416595,\n",
       " B1_x_re == (4.39643506151269e-14),\n",
       " B1_x_im == (4.94608939600754e-14),\n",
       " B1_z_re == (-3.14000494812218e-10),\n",
       " B1_z_im == (5.73291861130310e-9)]"
      ]
     },
     "execution_count": 241,
     "metadata": {},
     "output_type": "execute_result"
    }
   ],
   "source": [
    "# получаем значения оставшихся искомых коэффициентов интенсивности полей\n",
    "coeffs_subs = []\n",
    "for i in range(len(X12)):\n",
    "    coeffs_subs += [vars6reim[i] == X12[i]]\n",
    "coeffs_subs"
   ]
  },
  {
   "cell_type": "code",
   "execution_count": null,
   "metadata": {},
   "outputs": [],
   "source": []
  },
  {
   "cell_type": "code",
   "execution_count": 242,
   "metadata": {},
   "outputs": [
    {
     "data": {
      "text/plain": [
       "K_vacuum == 1/3160*sqrt(pi^2 - 9.95018352095852 - 0.0805791203031919*I)"
      ]
     },
     "execution_count": 242,
     "metadata": {},
     "output_type": "execute_result"
    }
   ],
   "source": [
    "K_vacuum_subs_d = K_vacuum_subs.subs(kappa_vacuum_sol).subs(kappa_sol).subs(k_z_sol) \\\n",
    "    .subs(digit_values)\n",
    "\n",
    "K_vacuum_subs_d"
   ]
  },
  {
   "cell_type": "code",
   "execution_count": 243,
   "metadata": {},
   "outputs": [
    {
     "data": {
      "text/plain": [
       "0.0000408809838067197 - 0.0000986954251734315*I"
      ]
     },
     "execution_count": 243,
     "metadata": {},
     "output_type": "execute_result"
    }
   ],
   "source": [
    "K_vacuum_subs_d.rhs().n()"
   ]
  },
  {
   "cell_type": "code",
   "execution_count": 244,
   "metadata": {},
   "outputs": [
    {
     "data": {
      "text/plain": [
       "K_conductor == sqrt((9000000000000/11841802091*I + 1/9985600)*pi^2 - 9.96453244768318e-7 - 8.06953215662473e-9*I)"
      ]
     },
     "execution_count": 244,
     "metadata": {},
     "output_type": "execute_result"
    }
   ],
   "source": [
    "K_conductor_subs_d = K_conductor_subs.subs(kappa_vacuum_sol).subs(kappa_sol).subs(k_z_sol) \\\n",
    "   .subs(digit_values)\n",
    "\n",
    "K_conductor_subs_d"
   ]
  },
  {
   "cell_type": "code",
   "execution_count": 245,
   "metadata": {},
   "outputs": [
    {
     "data": {
      "text/plain": [
       "61.2416989549841 + 61.2416989550499*I"
      ]
     },
     "execution_count": 245,
     "metadata": {},
     "output_type": "execute_result"
    }
   ],
   "source": [
    "K_conductor_subs_d.rhs().n()"
   ]
  },
  {
   "cell_type": "markdown",
   "metadata": {},
   "source": [
    "знак перед корнем будем всегда выбирать так, чтобы корень имел положительнею мнимую часть (Зоммерфельд, Электродинамика, параграф 20, Б)"
   ]
  },
  {
   "cell_type": "raw",
   "metadata": {},
   "source": [
    "if K_conductor_subs_d.rhs().n().imag() < 0:\n",
    "    K_conductor_subs_d = K_conductor_subs_d.lhs() == - K_conductor_subs_d.rhs()"
   ]
  },
  {
   "cell_type": "code",
   "execution_count": 246,
   "metadata": {},
   "outputs": [
    {
     "data": {
      "text/plain": [
       "61.2416989549841 + 61.2416989550499*I"
      ]
     },
     "execution_count": 246,
     "metadata": {},
     "output_type": "execute_result"
    }
   ],
   "source": [
    "K_conductor_subs_d.rhs().n()"
   ]
  },
  {
   "cell_type": "code",
   "execution_count": 247,
   "metadata": {},
   "outputs": [
    {
     "data": {
      "text/plain": [
       "0.0000408809838067197 - 0.0000986954251734315*I"
      ]
     },
     "execution_count": 247,
     "metadata": {},
     "output_type": "execute_result"
    }
   ],
   "source": [
    "K_vacuum_subs_d.rhs().n()"
   ]
  },
  {
   "cell_type": "raw",
   "metadata": {},
   "source": [
    "if K_vacuum_subs_d.rhs().n().imag() < 0:\n",
    "    K_vacuum_subs_d = K_vacuum_subs_d.lhs() == - K_vacuum_subs_d.rhs()"
   ]
  },
  {
   "cell_type": "code",
   "execution_count": 248,
   "metadata": {},
   "outputs": [],
   "source": [
    "Hy_bad_conductor_subs = Hy_bad_conductor.subs(K_conductor_subs_d) \\\n",
    "    .subs(kappa_vacuum_sol).subs(kappa_sol).subs(k_z_sol) \\\n",
    "    .subs(eqEz__0).subs(A1_z_re_im_subs, A2_z_re_im_subs)\n",
    "Hy_vacuum_subs        = Hy_vacuum       .subs(K_vacuum_subs_d) \\\n",
    "    .subs(kappa_vacuum_sol).subs(kappa_sol).subs(k_z_sol) \\\n",
    "    .subs(eqEz__0).subs(A1_z_re_im_subs, A2_z_re_im_subs)"
   ]
  },
  {
   "cell_type": "code",
   "execution_count": 249,
   "metadata": {},
   "outputs": [
    {
     "data": {
      "text/plain": [
       "(A1_z_im, A1_z_re, A2_z_im, A2_z_re, c, epsilon, mu, omega, sigma, x)"
      ]
     },
     "execution_count": 249,
     "metadata": {},
     "output_type": "execute_result"
    }
   ],
   "source": [
    "Hy_bad_conductor_subs.variables()"
   ]
  },
  {
   "cell_type": "code",
   "execution_count": 250,
   "metadata": {},
   "outputs": [
    {
     "data": {
      "text/plain": [
       "(A1_z_im, A1_z_re, A2_z_im, A2_z_re, c, omega, x)"
      ]
     },
     "execution_count": 250,
     "metadata": {},
     "output_type": "execute_result"
    }
   ],
   "source": [
    "Hy_vacuum_subs.variables()"
   ]
  },
  {
   "cell_type": "code",
   "execution_count": 251,
   "metadata": {},
   "outputs": [],
   "source": [
    "Dx_bad_conductor = Ex_bad_conductor * epsilon_complex\n",
    "Dx_vacuum        = Ex_vacuum"
   ]
  },
  {
   "cell_type": "code",
   "execution_count": 252,
   "metadata": {},
   "outputs": [],
   "source": [
    "Ex_bad_conductor_subs = Ex_bad_conductor \\\n",
    "    .subs(K_conductor_subs_d).subs(kappa_vacuum_sol).subs(kappa_sol).subs(k_z_sol) \\\n",
    "    .subs(eqEz__0).subs(A1_z_re_im_subs, A2_z_re_im_subs)\n",
    "Ex_vacuum_subs        = Ex_vacuum       \\\n",
    "    .subs(K_vacuum_subs_d)   .subs(kappa_vacuum_sol).subs(kappa_sol).subs(k_z_sol) \\\n",
    "    .subs(eqEz__0).subs(A1_z_re_im_subs, A2_z_re_im_subs)"
   ]
  },
  {
   "cell_type": "code",
   "execution_count": 253,
   "metadata": {},
   "outputs": [
    {
     "data": {
      "text/plain": [
       "(A1_z_im, A1_z_re, A2_z_im, A2_z_re, c, epsilon, mu, omega, sigma, x)"
      ]
     },
     "execution_count": 253,
     "metadata": {},
     "output_type": "execute_result"
    }
   ],
   "source": [
    "Ex_bad_conductor_subs.variables()"
   ]
  },
  {
   "cell_type": "code",
   "execution_count": 254,
   "metadata": {},
   "outputs": [],
   "source": [
    "Dx_bad_conductor_subs = Ex_bad_conductor_subs * epsilon_complex\n",
    "Dx_vacuum_subs        = Ex_vacuum_subs"
   ]
  },
  {
   "cell_type": "code",
   "execution_count": 255,
   "metadata": {},
   "outputs": [],
   "source": [
    "Ex_bad_conductor_d = Ex_bad_conductor_subs.subs(digit_values).subs(coefs_re_im_subs).subs(coeffs_subs)\n",
    "Ex_vacuum_d        = Ex_vacuum_subs       .subs(digit_values).subs(coefs_re_im_subs).subs(coeffs_subs)"
   ]
  },
  {
   "cell_type": "code",
   "execution_count": 256,
   "metadata": {},
   "outputs": [
    {
     "name": "stdout",
     "output_type": "stream",
     "text": [
      "((411949.490594656 + 24236.4710308846*I)*pi*sqrt((9000000000000/11841802091*I + 1/9985600)*pi^2 - 9.96453244768318e-7 - 8.06953215662473e-9*I)*e^(I*sqrt((9000000000000/11841802091*I + 1/9985600)*pi^2 - 9.96453244768318e-7 - 8.06953215662473e-9*I)*x) + (3.36617653206731e-13 - 5.72152070270356e-12*I)*sqrt((53962642440000000000000000/79*I + 561721986710511025/6241)*pi^2)*sqrt((9000000000000/11841802091*I + 1/9985600)*pi^2 - 9.96453244768318e-7 - 8.06953215662473e-9*I)*e^(I*sqrt((9000000000000/11841802091*I + 1/9985600)*pi^2 - 9.96453244768318e-7 - 8.06953215662473e-9*I)*x))/(-(5.81006315276980e8 - 7.17446336233189e10*I)*pi - (45000000000000/6241*I - 648000000000000000000000000000/11841802091)*pi^3 - 1/898755178736817640000*((53962642440000000000000000/79*I + 561721986710511025/6241)*pi^2)^(3/2) + (9.96453244768318e-7 + 8.06953215662473e-9*I)*sqrt((53962642440000000000000000/79*I + 561721986710511025/6241)*pi^2))\n"
     ]
    }
   ],
   "source": [
    "print             (Ex_bad_conductor_d)\n",
    "#display(Math(latex(Ex_bad_conductor_d)))"
   ]
  },
  {
   "cell_type": "code",
   "execution_count": 257,
   "metadata": {},
   "outputs": [],
   "source": [
    "Dx_bad_conductor_d = Dx_bad_conductor_subs.subs(digit_values).subs(coefs_re_im_subs).subs(coeffs_subs)\n",
    "Dx_vacuum_d        = Dx_vacuum_subs       .subs(digit_values).subs(coefs_re_im_subs).subs(coeffs_subs)"
   ]
  },
  {
   "cell_type": "code",
   "execution_count": 258,
   "metadata": {
    "scrolled": true
   },
   "outputs": [
    {
     "name": "stdout",
     "output_type": "stream",
     "text": [
      "-(0.0127724267459121 - 3.15441700728415*I)*((0.0000253554502416595 - 8.91047193701452e-6*I)*sqrt(pi^2 - 9.95018352095852 - 0.0805791203031919*I)*e^(1/3160*I*sqrt(pi^2 - 9.95018352095852 - 0.0805791203031919*I)*x) + (0.0000253497173230482 - 8.91078593750933e-6*I)*sqrt(pi^2 - 9.95018352095852 - 0.0805791203031919*I)*e^(-1/3160*I*sqrt(pi^2 - 9.95018352095852 - 0.0805791203031919*I)*x))/(pi^2 - 9.95018352095852 - 0.0805791203031919*I)\n"
     ]
    }
   ],
   "source": [
    "print             (Ex_vacuum_d)\n",
    "#display(Math(latex(Ex_vacuum_d)))"
   ]
  },
  {
   "cell_type": "code",
   "execution_count": null,
   "metadata": {},
   "outputs": [],
   "source": []
  },
  {
   "cell_type": "code",
   "execution_count": 259,
   "metadata": {},
   "outputs": [],
   "source": [
    "Hy_bad_conductor_d = Hy_bad_conductor_subs.subs(digit_values).subs(coefs_re_im_subs).subs(coeffs_subs)\n",
    "Hy_vacuum_d        = Hy_vacuum_subs.subs(digit_values).subs(coefs_re_im_subs).subs(coeffs_subs)"
   ]
  },
  {
   "cell_type": "code",
   "execution_count": 260,
   "metadata": {},
   "outputs": [
    {
     "name": "stdout",
     "output_type": "stream",
     "text": [
      "-1/71001659120208593560*((9.77588461430184e17 + 5.35439765821362e16*I)*pi^2*sqrt((9000000000000/11841802091*I + 1/9985600)*pi^2 - 9.96453244768318e-7 - 8.06953215662473e-9*I)*e^(I*sqrt((9000000000000/11841802091*I + 1/9985600)*pi^2 - 9.96453244768318e-7 - 8.06953215662473e-9*I)*x) + (1.03043937753000e11 + 5.64387001378791e9*I)*pi*sqrt((53962642440000000000000000/79*I + 561721986710511025/6241)*pi^2)*sqrt((9000000000000/11841802091*I + 1/9985600)*pi^2 - 9.96453244768318e-7 - 8.06953215662473e-9*I)*e^(I*sqrt((9000000000000/11841802091*I + 1/9985600)*pi^2 - 9.96453244768318e-7 - 8.06953215662473e-9*I)*x))*sqrt((53962642440000000000000000/79*I + 561721986710511025/6241)*pi^2)/(pi*(-(5.81006315276980e8 - 7.17446336233189e10*I)*pi - (45000000000000/6241*I - 648000000000000000000000000000/11841802091)*pi^3 - 1/898755178736817640000*((53962642440000000000000000/79*I + 561721986710511025/6241)*pi^2)^(3/2) + (9.96453244768318e-7 + 8.06953215662473e-9*I)*sqrt((53962642440000000000000000/79*I + 561721986710511025/6241)*pi^2)))\n"
     ]
    }
   ],
   "source": [
    "print             (Hy_bad_conductor_d)\n",
    "#display(Math(latex(Hy_bad_conductor_d)))"
   ]
  },
  {
   "cell_type": "code",
   "execution_count": 261,
   "metadata": {
    "scrolled": true
   },
   "outputs": [
    {
     "name": "stdout",
     "output_type": "stream",
     "text": [
      "-I*pi*((0.0000253554502416595 - 8.91047193701452e-6*I)*sqrt(pi^2 - 9.95018352095852 - 0.0805791203031919*I)*e^(1/3160*I*sqrt(pi^2 - 9.95018352095852 - 0.0805791203031919*I)*x) + (0.0000253497173230482 - 8.91078593750933e-6*I)*sqrt(pi^2 - 9.95018352095852 - 0.0805791203031919*I)*e^(-1/3160*I*sqrt(pi^2 - 9.95018352095852 - 0.0805791203031919*I)*x))/(pi^2 - 9.95018352095852 - 0.0805791203031919*I)\n"
     ]
    }
   ],
   "source": [
    "print             (Hy_vacuum_d)\n",
    "#display(Math(latex(Hy_vacuum_d)))"
   ]
  },
  {
   "cell_type": "code",
   "execution_count": null,
   "metadata": {},
   "outputs": [],
   "source": []
  },
  {
   "cell_type": "raw",
   "metadata": {},
   "source": [
    "E_inner_vacuum_sol_z(x).subs(K_vacuum_subs_d)"
   ]
  },
  {
   "cell_type": "code",
   "execution_count": 262,
   "metadata": {},
   "outputs": [],
   "source": [
    "Ez_vacuum        = E_inner_vacuum_sol_z(x).subs(K_vacuum_subs_d).subs(coefs_re_im_subs).subs(coeffs_subs)\n",
    "Ez_bad_conductor = E_bad_conductor_sol_z(x).subs(K_conductor_subs_d).subs(eqEz__0).subs(coefs_re_im_subs).subs(coeffs_subs)"
   ]
  },
  {
   "cell_type": "code",
   "execution_count": 263,
   "metadata": {},
   "outputs": [
    {
     "name": "stdout",
     "output_type": "stream",
     "text": [
      "(8.91047193701452e-6 + 0.0000253554502416595*I)*e^(1/3160*I*sqrt(pi^2 - 9.95018352095852 - 0.0805791203031919*I)*x) - (8.91078593750933e-6 + 0.0000253497173230482*I)*e^(-1/3160*I*sqrt(pi^2 - 9.95018352095852 - 0.0805791203031919*I)*x)\n"
     ]
    }
   ],
   "source": [
    "print             (Ez_vacuum)\n",
    "#display(Math(latex(Ez_vacuum)))"
   ]
  },
  {
   "cell_type": "code",
   "execution_count": 264,
   "metadata": {},
   "outputs": [],
   "source": [
    "Ez_bad_conductor_d = Ez_bad_conductor.subs(digit_values).subs(coefs_re_im_subs).subs(coeffs_subs)\n",
    "Ez_vacuum_d        = Ez_vacuum       .subs(digit_values).subs(coefs_re_im_subs).subs(coeffs_subs)"
   ]
  },
  {
   "cell_type": "code",
   "execution_count": 265,
   "metadata": {},
   "outputs": [
    {
     "name": "stdout",
     "output_type": "stream",
     "text": [
      "(8.91047193701452e-6 + 0.0000253554502416595*I)*e^(1/3160*I*sqrt(pi^2 - 9.95018352095852 - 0.0805791203031919*I)*x) - (8.91078593750933e-6 + 0.0000253497173230482*I)*e^(-1/3160*I*sqrt(pi^2 - 9.95018352095852 - 0.0805791203031919*I)*x)\n"
     ]
    }
   ],
   "source": [
    "print             (Ez_vacuum_d)\n",
    "#display(Math(latex(Ez_vacuum_d)))"
   ]
  },
  {
   "cell_type": "code",
   "execution_count": 266,
   "metadata": {},
   "outputs": [
    {
     "name": "stdout",
     "output_type": "stream",
     "text": [
      "-(3.14000494811858e-10 - 5.73291861130027e-9*I)*e^(I*sqrt((9000000000000/11841802091*I + 1/9985600)*pi^2 - 9.96453244768318e-7 - 8.06953215662473e-9*I)*x)\n"
     ]
    }
   ],
   "source": [
    "print             (Ez_bad_conductor_d)\n",
    "#display(Math(latex(Ez_bad_conductor_d)))"
   ]
  },
  {
   "cell_type": "code",
   "execution_count": 267,
   "metadata": {},
   "outputs": [
    {
     "data": {
      "text/plain": [
       "(3.38813178901720e-21 + 6.77626357803440e-21*I,\n",
       " -1.57000244356610e-10 + 2.86645930291422e-9*I,\n",
       " -3.14000494811858e-10 + 5.73291861130027e-9*I)"
      ]
     },
     "execution_count": 267,
     "metadata": {},
     "output_type": "execute_result"
    }
   ],
   "source": [
    "Ez_vacuum_d.subs(x == -A).n(), Ez_vacuum_d.subs(x == -A/2).n(), Ez_vacuum_d.subs(x == 0)"
   ]
  },
  {
   "cell_type": "code",
   "execution_count": 268,
   "metadata": {},
   "outputs": [
    {
     "data": {
      "text/plain": [
       "-(3.14000494811858e-10 - 5.73291861130027e-9*I)*e^(I*sqrt((9000000000000/11841802091*I + 1/9985600)*pi^2 - 9.96453244768318e-7 - 8.06953215662473e-9*I)*x)"
      ]
     },
     "execution_count": 268,
     "metadata": {},
     "output_type": "execute_result"
    }
   ],
   "source": [
    "Ez_bad_conductor"
   ]
  },
  {
   "cell_type": "code",
   "execution_count": null,
   "metadata": {},
   "outputs": [],
   "source": []
  },
  {
   "cell_type": "code",
   "execution_count": 269,
   "metadata": {},
   "outputs": [],
   "source": [
    "divE_vacuum = I*k_z * Ez_vacuum_d (x=x) + Ex_vacuum_d (x=x).diff(x)"
   ]
  },
  {
   "cell_type": "code",
   "execution_count": 270,
   "metadata": {
    "scrolled": false
   },
   "outputs": [],
   "source": [
    "divE_vacuum_d = divE_vacuum.subs(k_z_sol).subs(digit_values).subs(coeffs_subs)"
   ]
  },
  {
   "cell_type": "code",
   "execution_count": null,
   "metadata": {},
   "outputs": [],
   "source": []
  },
  {
   "cell_type": "code",
   "execution_count": 271,
   "metadata": {},
   "outputs": [],
   "source": [
    "divE_bad_conductor = I*k_z * Ez_bad_conductor_d (x=x) + Ex_bad_conductor_d (x=x).diff(x)"
   ]
  },
  {
   "cell_type": "code",
   "execution_count": 272,
   "metadata": {
    "scrolled": false
   },
   "outputs": [],
   "source": [
    "divE_bad_conductor_d = divE_bad_conductor.subs(k_z_sol).subs(digit_values).subs(coeffs_subs)"
   ]
  },
  {
   "cell_type": "code",
   "execution_count": null,
   "metadata": {},
   "outputs": [],
   "source": []
  },
  {
   "cell_type": "markdown",
   "metadata": {},
   "source": [
    "# test found solution with boundary conditions"
   ]
  },
  {
   "cell_type": "code",
   "execution_count": null,
   "metadata": {},
   "outputs": [],
   "source": []
  },
  {
   "cell_type": "code",
   "execution_count": 273,
   "metadata": {},
   "outputs": [
    {
     "name": "stdout",
     "output_type": "stream",
     "text": [
      "eqEz_0_d.real = \n"
     ]
    },
    {
     "data": {
      "text/latex": [
       "$\\displaystyle 3.10647679044290 \\times 10^{-21}$"
      ],
      "text/plain": [
       "<IPython.core.display.Math object>"
      ]
     },
     "metadata": {},
     "output_type": "display_data"
    },
    {
     "name": "stdout",
     "output_type": "stream",
     "text": [
      "eqEz_0_d.imag = \n"
     ]
    },
    {
     "data": {
      "text/latex": [
       "$\\displaystyle 3.23138106293840 \\times 10^{-21}$"
      ],
      "text/plain": [
       "<IPython.core.display.Math object>"
      ]
     },
     "metadata": {},
     "output_type": "display_data"
    }
   ],
   "source": [
    "# граничные условия на границе идеального проводника и вакуума внутри резонатора\n",
    "# тангенциальная компонента электрического поля\n",
    "eqEz_0_d  = Ez_vacuum_d (x=-A) == 0\n",
    "#eqEy_0_d  = even_E_inner_vacuum_y_d (0) == 0\n",
    "\n",
    "print (\"eqEz_0_d.real = \")\n",
    "display(Math(latex(eqEz_0_d.lhs().real().n())))\n",
    "print (\"eqEz_0_d.imag = \")\n",
    "display(Math(latex(eqEz_0_d.lhs().imag().n())))"
   ]
  },
  {
   "cell_type": "code",
   "execution_count": 274,
   "metadata": {},
   "outputs": [
    {
     "name": "stdout",
     "output_type": "stream",
     "text": [
      "eqEz_a_d = \n"
     ]
    },
    {
     "data": {
      "text/latex": [
       "$\\displaystyle \\left(-3.14000494811858 \\times 10^{-10} + 5.73291861130027 \\times 10^{-9}i\\right) = \\left(-3.14000494811858 \\times 10^{-10} + 5.73291861130027 \\times 10^{-9}i\\right)$"
      ],
      "text/plain": [
       "<IPython.core.display.Math object>"
      ]
     },
     "metadata": {},
     "output_type": "display_data"
    }
   ],
   "source": [
    "# граничные условия на границе вакуума внутри резонатора и проводящего металла с потерями\n",
    "# тангенциальная компонента электрического поля\n",
    "eqEz_a_d  = Ez_vacuum_d (x=0) == Ez_bad_conductor_d (x=0)\n",
    "#eqEy_a  = E_inner_vacuum_y (a) == E_bad_conductor_y (a)\n",
    "\n",
    "print (\"eqEz_a_d = \")\n",
    "display(Math(latex(eqEz_a_d)))"
   ]
  },
  {
   "cell_type": "code",
   "execution_count": 275,
   "metadata": {},
   "outputs": [
    {
     "name": "stdout",
     "output_type": "stream",
     "text": [
      "eqDx__0_d =\n"
     ]
    },
    {
     "data": {
      "text/latex": [
       "$\\displaystyle -0.000375371103982004 + 0.000333656460745290i$"
      ],
      "text/plain": [
       "<IPython.core.display.Math object>"
      ]
     },
     "metadata": {},
     "output_type": "display_data"
    },
    {
     "data": {
      "text/latex": [
       "$\\displaystyle -0.000375371103982074 + 0.000333656460832168i$"
      ],
      "text/plain": [
       "<IPython.core.display.Math object>"
      ]
     },
     "metadata": {},
     "output_type": "display_data"
    }
   ],
   "source": [
    "# нормальная компонента электрического смещения\n",
    "eqDx__0_d  = Ex_vacuum_d (x=0) == (Ex_bad_conductor_d (x=0) * epsilon_complex).subs(digit_values)\n",
    "\n",
    "print (\"eqDx__0_d =\")\n",
    "display(Math(latex(eqDx__0_d.lhs().n())))\n",
    "display(Math(latex(eqDx__0_d.rhs().n())))"
   ]
  },
  {
   "cell_type": "code",
   "execution_count": 276,
   "metadata": {},
   "outputs": [
    {
     "name": "stdout",
     "output_type": "stream",
     "text": [
      "eqHy_a_d =\n"
     ]
    },
    {
     "data": {
      "text/latex": [
       "$\\displaystyle 0.000372493414431441 - 0.000333808221484592i$"
      ],
      "text/plain": [
       "<IPython.core.display.Math object>"
      ]
     },
     "metadata": {},
     "output_type": "display_data"
    },
    {
     "data": {
      "text/latex": [
       "$\\displaystyle 0.000372493414431721 - 0.000333808221398068i$"
      ],
      "text/plain": [
       "<IPython.core.display.Math object>"
      ]
     },
     "metadata": {},
     "output_type": "display_data"
    }
   ],
   "source": [
    "# тангенциальная компонента напряженности магнитного поля\n",
    "#eqHz_a_d  = even_H_bad_conductor_z_d (A)  == even_H_inner_vacuum_z_d (A)\n",
    "eqHy_a_d  = Hy_bad_conductor_d (x=0)  == Hy_vacuum_d (x=0)\n",
    "\n",
    "print (\"eqHy_a_d =\")\n",
    "display(Math(latex(eqHy_a_d.lhs().n())))\n",
    "display(Math(latex(eqHy_a_d.rhs().n())))"
   ]
  },
  {
   "cell_type": "raw",
   "metadata": {},
   "source": [
    "# нормальная компонента индукции магнитного поля\n",
    "eqBx_a  = mu * Hx_bad_conductor_d (a)  == Hx_inner_vacuum_d (a)\n",
    "\n",
    "print (\"eqBx_a =\")\n",
    "display(Math(latex(eqBx_a)))"
   ]
  },
  {
   "cell_type": "code",
   "execution_count": null,
   "metadata": {},
   "outputs": [],
   "source": []
  },
  {
   "cell_type": "code",
   "execution_count": null,
   "metadata": {},
   "outputs": [],
   "source": []
  },
  {
   "cell_type": "code",
   "execution_count": 277,
   "metadata": {},
   "outputs": [
    {
     "data": {
      "text/plain": [
       "(0.000372493414431441 - 0.000333808221484592*I,\n",
       " 0.000372493414431721 - 0.000333808221398068*I)"
      ]
     },
     "execution_count": 277,
     "metadata": {},
     "output_type": "execute_result"
    }
   ],
   "source": [
    "eq_Hy_d = Hy_bad_conductor_d.subs(x == 0) == Hy_vacuum_d.subs(x == 0)\n",
    "\n",
    "eq_Hy_d.lhs().n(), eq_Hy_d.rhs().n()"
   ]
  },
  {
   "cell_type": "code",
   "execution_count": null,
   "metadata": {},
   "outputs": [],
   "source": []
  },
  {
   "cell_type": "code",
   "execution_count": 278,
   "metadata": {},
   "outputs": [
    {
     "data": {
      "text/plain": [
       "(-3.14000494811858e-10 + 5.73291861130027e-9*I) == (-3.14000494811858e-10 + 5.73291861130027e-9*I)"
      ]
     },
     "execution_count": 278,
     "metadata": {},
     "output_type": "execute_result"
    }
   ],
   "source": [
    "Ez_vacuum_d.subs(x == 0) == Ez_bad_conductor_d.subs(x == 0)"
   ]
  },
  {
   "cell_type": "code",
   "execution_count": 279,
   "metadata": {},
   "outputs": [
    {
     "data": {
      "text/plain": [
       "(-0.000375371103982004 + 0.000333656460745290*I,\n",
       " -0.000375371103982074 + 0.000333656460832168*I)"
      ]
     },
     "execution_count": 279,
     "metadata": {},
     "output_type": "execute_result"
    }
   ],
   "source": [
    "eq_Ex_d = Ex_vacuum_d.subs(x == 0) == epsilon_complex.subs(digit_values) * Ex_bad_conductor_d.subs(x == 0)\n",
    "eq_Ex_d.lhs().n(), eq_Ex_d.rhs().n()"
   ]
  },
  {
   "cell_type": "code",
   "execution_count": 280,
   "metadata": {},
   "outputs": [
    {
     "data": {
      "text/plain": [
       "(-0.000375371103982004 + 0.000333656460745290*I,\n",
       " -0.000375371103982074 + 0.000333656460832168*I)"
      ]
     },
     "execution_count": 280,
     "metadata": {},
     "output_type": "execute_result"
    }
   ],
   "source": [
    "eq_Ex_d = Ex_vacuum_d.subs(x == 0) == epsilon_complex.subs(digit_values) * Ex_bad_conductor_d.subs(x == 0)\n",
    "eq_Ex_d.lhs().n(), eq_Ex_d.rhs().n()"
   ]
  },
  {
   "cell_type": "code",
   "execution_count": 281,
   "metadata": {},
   "outputs": [
    {
     "data": {
      "image/png": "[encoded data removed]",
      "text/plain": [
       "Graphics object consisting of 2 graphics primitives"
      ]
     },
     "metadata": {},
     "output_type": "display_data"
    }
   ],
   "source": [
    "pl =  plot(Ez_vacuum_d.real(), (x, -A, 0))\n",
    "pl += plot(Ez_bad_conductor_d.real(), (x, 0, h_conductor))\n",
    "pl.show(title=\"График Re тангенциальной компоненты электрического поля\")"
   ]
  },
  {
   "cell_type": "code",
   "execution_count": 282,
   "metadata": {},
   "outputs": [
    {
     "data": {
      "image/png": "[encoded data removed]",
      "text/plain": [
       "Graphics object consisting of 2 graphics primitives"
      ]
     },
     "metadata": {},
     "output_type": "display_data"
    }
   ],
   "source": [
    "pl =  plot(Ez_vacuum_d.imag(), (x, -A, 0))\n",
    "pl += plot(Ez_bad_conductor_d.imag(), (x, 0, h_conductor))\n",
    "pl.show(title=\"График Im тангенциальной компоненты электрического поля\")"
   ]
  },
  {
   "cell_type": "code",
   "execution_count": 283,
   "metadata": {},
   "outputs": [
    {
     "data": {
      "image/png": "[encoded data removed]",
      "text/plain": [
       "Graphics object consisting of 2 graphics primitives"
      ]
     },
     "metadata": {},
     "output_type": "display_data"
    }
   ],
   "source": [
    "pl =  plot(Ez_vacuum_d.abs(), (x, -A, 0))\n",
    "pl += plot(Ez_bad_conductor_d.abs(), (x, 0, h_conductor))\n",
    "pl.show(title=\"График Abs тангенциальной компоненты электрического поля\")"
   ]
  },
  {
   "cell_type": "code",
   "execution_count": 284,
   "metadata": {},
   "outputs": [
    {
     "data": {
      "image/png": "[encoded data removed]",
      "text/plain": [
       "Graphics object consisting of 2 graphics primitives"
      ]
     },
     "metadata": {},
     "output_type": "display_data"
    }
   ],
   "source": [
    "pl =  plot(arg(Ez_vacuum_d)/pi, (x, -A, 0))\n",
    "pl += plot(arg(Ez_bad_conductor_d)/pi, (x, 0, h_conductor))\n",
    "pl.show(title=\"График Arg тангенциальной компоненты электрического поля\")"
   ]
  },
  {
   "cell_type": "code",
   "execution_count": 285,
   "metadata": {},
   "outputs": [],
   "source": [
    "def plot_bad_conductor(expression, re, color_re=\"blue\", color_im=\"blue\"):\n",
    "    v_re = []\n",
    "    v_im = []\n",
    "\n",
    "    mn = 0\n",
    "    mx = h_conductor\n",
    "    st = h_conductor / 100\n",
    "\n",
    "    import numpy as np\n",
    "    for vx in np.arange(mn, mx+st, st):\n",
    "        _Dx = (expression.subs(digit_values).subs(x == vx)).n()\n",
    "        #print(\"x =\", vx, \"_Dx =\", _Dx)\n",
    "        v_re += [(vx, _Dx.real())]\n",
    "        v_im += [(vx, _Dx.imag())]\n",
    "    if re:\n",
    "        return list_plot(v_re, color = color_re)\n",
    "    else:\n",
    "        return list_plot(v_im, color = color_im)"
   ]
  },
  {
   "cell_type": "code",
   "execution_count": 286,
   "metadata": {},
   "outputs": [
    {
     "data": {
      "image/png": "[encoded data removed]",
      "text/plain": [
       "Graphics object consisting of 2 graphics primitives"
      ]
     },
     "metadata": {},
     "output_type": "display_data"
    }
   ],
   "source": [
    "pl =  plot(Ex_vacuum_d.real(), (x, -A, 0))\n",
    "# pl += plot(((Ex_bad_conductor_d * epsilon_complex).subs(digit_values)).real(), (x, 0, h_conductor))\n",
    "pl += plot_bad_conductor((Ex_bad_conductor_d * epsilon_complex), re=True)\n",
    "pl.show(title=\"График Re нормальной компоненты электрического смещения\")"
   ]
  },
  {
   "cell_type": "code",
   "execution_count": 287,
   "metadata": {},
   "outputs": [
    {
     "data": {
      "image/png": "[encoded data removed]",
      "text/plain": [
       "Graphics object consisting of 2 graphics primitives"
      ]
     },
     "metadata": {},
     "output_type": "display_data"
    }
   ],
   "source": [
    "pl =  plot(Ex_vacuum_d.imag(), (x, -A, 0))\n",
    "#pl += plot((Ex_bad_conductor_d * epsilon_complex).subs(digit_values).imag(), (x, 0, h_conductor))\n",
    "pl += plot_bad_conductor((Ex_bad_conductor_d * epsilon_complex), re=False)\n",
    "pl.show(title=\"График Im нормальной компоненты электрического смещения\")"
   ]
  },
  {
   "cell_type": "code",
   "execution_count": 288,
   "metadata": {},
   "outputs": [
    {
     "data": {
      "image/png": "[encoded data removed]",
      "text/plain": [
       "Graphics object consisting of 2 graphics primitives"
      ]
     },
     "metadata": {},
     "output_type": "display_data"
    }
   ],
   "source": [
    "pl =  plot(Ex_vacuum_d.abs(), (x, -A, 0))\n",
    "pl += plot((Ex_bad_conductor_d * epsilon_complex).subs(digit_values).abs(), (x, 0, h_conductor))\n",
    "pl.show(title=\"График Abs нормальной компоненты электрического смещения\")"
   ]
  },
  {
   "cell_type": "code",
   "execution_count": 289,
   "metadata": {},
   "outputs": [
    {
     "data": {
      "image/png": "[encoded data removed]",
      "text/plain": [
       "Graphics object consisting of 2 graphics primitives"
      ]
     },
     "metadata": {},
     "output_type": "display_data"
    }
   ],
   "source": [
    "pl =  plot(arg(Ex_vacuum_d)/pi, (x, -A, 0))\n",
    "pl += plot(arg((Ex_bad_conductor_d * epsilon_complex).subs(digit_values))/pi, (x, 0, h_conductor))\n",
    "pl.show(title=\"График Arg нормальной компоненты электрического смещения\")"
   ]
  },
  {
   "cell_type": "code",
   "execution_count": null,
   "metadata": {},
   "outputs": [],
   "source": []
  },
  {
   "cell_type": "code",
   "execution_count": 290,
   "metadata": {},
   "outputs": [
    {
     "data": {
      "image/png": "[encoded data removed]",
      "text/plain": [
       "Graphics object consisting of 2 graphics primitives"
      ]
     },
     "metadata": {},
     "output_type": "display_data"
    }
   ],
   "source": [
    "pl =  plot(Hy_vacuum_d.real(), (x, -A, 0))\n",
    "# pl += plot(Hy_bad_conductor_d.real(), (x, 0, h_conductor))\n",
    "pl += plot_bad_conductor(Hy_bad_conductor_d, re=True)\n",
    "pl.show(title=\"График Re тангенциальной компоненты напряженности магнитного поля H\")"
   ]
  },
  {
   "cell_type": "code",
   "execution_count": 291,
   "metadata": {},
   "outputs": [
    {
     "data": {
      "image/png": "[encoded data removed]",
      "text/plain": [
       "Graphics object consisting of 2 graphics primitives"
      ]
     },
     "metadata": {},
     "output_type": "display_data"
    }
   ],
   "source": [
    "pl =  plot(Hy_vacuum_d.imag(), (x, -A, 0))\n",
    "#pl += plot(Hy_bad_conductor_d.imag(), (x, 0, h_conductor))\n",
    "pl += plot_bad_conductor(Hy_bad_conductor_d, re=False)\n",
    "pl.show(title=\"График Im тангенциальной компоненты напряженности магнитного поля H\")"
   ]
  },
  {
   "cell_type": "code",
   "execution_count": 292,
   "metadata": {},
   "outputs": [
    {
     "data": {
      "image/png": "[encoded data removed]",
      "text/plain": [
       "Graphics object consisting of 2 graphics primitives"
      ]
     },
     "metadata": {},
     "output_type": "display_data"
    }
   ],
   "source": [
    "pl =  plot(Hy_vacuum_d.abs(), (x, -A, 0))\n",
    "pl += plot(Hy_bad_conductor_d.abs(), (x, 0, h_conductor))\n",
    "pl.show(title=\"График Abs тангенциальной компоненты напряженности магнитного поля H\")"
   ]
  },
  {
   "cell_type": "code",
   "execution_count": 293,
   "metadata": {},
   "outputs": [
    {
     "data": {
      "image/png": "[encoded data removed]",
      "text/plain": [
       "Graphics object consisting of 2 graphics primitives"
      ]
     },
     "metadata": {},
     "output_type": "display_data"
    }
   ],
   "source": [
    "pl =  plot(arg(Hy_vacuum_d)/pi, (x, -A, 0))\n",
    "pl += plot(arg(Hy_bad_conductor_d)/pi, (x, 0, h_conductor))\n",
    "pl.show(title=\"График Arg тангенциальной компоненты напряженности магнитного поля H\")"
   ]
  },
  {
   "cell_type": "code",
   "execution_count": 294,
   "metadata": {},
   "outputs": [
    {
     "data": {
      "image/png": "[encoded data removed]",
      "text/plain": [
       "Graphics object consisting of 4 graphics primitives"
      ]
     },
     "metadata": {},
     "output_type": "display_data"
    }
   ],
   "source": [
    "pl =  plot(arg(Hy_vacuum_d)/pi, (x, -A, 0))\n",
    "pl += plot(arg(Hy_bad_conductor_d)/pi, (x, 0, h_conductor))\n",
    "pl +=  plot(arg(Ez_vacuum_d)/pi, (x, -A, 0), color=\"red\")\n",
    "pl += plot(arg(Ez_bad_conductor_d)/pi, (x, 0, h_conductor), color=\"red\")\n",
    "#pl.show(title=\"График Arg тангенциальной компоненты  поля\")\n",
    "pl.show(title=\"График Arg тангенциальной компоненты напряженности электрического магнитного поля H\")"
   ]
  },
  {
   "cell_type": "markdown",
   "metadata": {},
   "source": [
    "Решение получено."
   ]
  },
  {
   "cell_type": "markdown",
   "metadata": {},
   "source": [
    "# test found solution with Maxwell equations"
   ]
  },
  {
   "cell_type": "markdown",
   "metadata": {},
   "source": [
    "$$rot\\,\\vec{E} = \\mu\\,\\frac{i\\,\\omega}{c}\\,\\vec{H}$$\n",
    "\n",
    "$$rot\\,\\vec{H} = \\frac{1}{c}\\frac{\\partial \\vec D}{\\partial t} + \\frac{4\\pi}{c} \\vec j = - \\frac{i\\,\\omega}{c} \\epsilon \\vec{E} + \\frac{4\\pi}{c}\\sigma \\vec E$$\n",
    "\n",
    "$$rot\\,rot\\,\\vec{E} = \\mu\\,\\frac{i\\,\\omega}{c}rot\\,\\vec{H}$$\n",
    "\n",
    "$$rot\\,rot\\,\\vec{E} = \\mu\\,\\frac{i\\,\\omega}{c}\\left(- \\frac{i\\,\\omega}{c} \\epsilon \\vec{E} + \\frac{4\\pi}{c}\\sigma \\vec E\\right)$$\n",
    "\n",
    "$$rot\\,rot\\,\\vec{E} = \\epsilon \\mu\\,\\frac{\\omega^2}{c^2} \\vec{E} + i\\,\\omega\\,\\sigma\\,\\mu\\,\\frac{4\\pi}{c^2} \\vec E$$\n",
    "\n",
    "$$rot\\,rot\\,\\vec{E} = grad\\,div\\,\\vec{E} - Laplasian\\,\\vec{E}$$\n",
    "\n",
    "$$Laplasian\\,\\vec{E} + \\epsilon \\mu \\frac{\\omega^2}{c^2}\\,\\vec{E} + i\\,\\omega\\,\\sigma\\,\\mu\\,\\frac{4\\pi}{c^2} \\vec E - grad\\,div\\,\\vec{E} = 0$$"
   ]
  },
  {
   "cell_type": "code",
   "execution_count": 295,
   "metadata": {},
   "outputs": [],
   "source": [
    "# уравнение Максвелла для тока смещения\n",
    "# rot_H   = - I * epsilon * omega / c * E\n",
    "# rot_H_x = diff(H_z, y) - diff(H_y, z)\n",
    "# rot_H_y = diff(H_x, z) - diff(H_z, x)\n",
    "# rot_H_z = diff(H_y, x) - diff(H_x, y)"
   ]
  },
  {
   "cell_type": "code",
   "execution_count": 296,
   "metadata": {},
   "outputs": [],
   "source": [
    "rot_H_vacuum_x_d = - diff(Hy_vacuum_d(x=x)*e^(I*k_z*z), z).subs(k_z == kz + I * sz).subs(k_z_sol)\n",
    "rot_H_vacuum_y_d =   0\n",
    "rot_H_vacuum_z_d =   diff(Hy_vacuum_d(x=x)*e^(I*k_z*z), x).subs(k_z == kz + I * sz).subs(k_z_sol)"
   ]
  },
  {
   "cell_type": "code",
   "execution_count": 297,
   "metadata": {},
   "outputs": [],
   "source": [
    "eq_rot_H_vacuum_x_d = rot_H_vacuum_x_d == \\\n",
    "(-I*omega/c*Ex_vacuum_d(x=x)*e^(I*k_z*z)).subs(k_z == kz + I * sz).subs(k_z_sol).subs(digit_values)"
   ]
  },
  {
   "cell_type": "code",
   "execution_count": 298,
   "metadata": {},
   "outputs": [],
   "source": [
    "eq_rot_H_vacuum_z_d = rot_H_vacuum_z_d == \\\n",
    "(-I*omega/c*Ez_vacuum_d(x=x)*e^(I*k_z*z)).subs(k_z == kz + I * sz).subs(k_z_sol).subs(digit_values)"
   ]
  },
  {
   "cell_type": "code",
   "execution_count": 299,
   "metadata": {},
   "outputs": [
    {
     "data": {
      "text/plain": [
       "1.00000000000000"
      ]
     },
     "execution_count": 299,
     "metadata": {},
     "output_type": "execute_result"
    }
   ],
   "source": [
    "(eq_rot_H_vacuum_x_d.rhs() / eq_rot_H_vacuum_x_d.lhs()).n()"
   ]
  },
  {
   "cell_type": "code",
   "execution_count": 300,
   "metadata": {},
   "outputs": [
    {
     "data": {
      "text/plain": [
       "1.00000000000000"
      ]
     },
     "execution_count": 300,
     "metadata": {},
     "output_type": "execute_result"
    }
   ],
   "source": [
    "(eq_rot_H_vacuum_x_d.rhs() / eq_rot_H_vacuum_x_d.lhs()).n().abs()"
   ]
  },
  {
   "cell_type": "code",
   "execution_count": 301,
   "metadata": {},
   "outputs": [],
   "source": [
    "# too long time\n",
    "# plot((eq_rot_H_vacuum_z_d.rhs() / eq_rot_H_vacuum_z_d.lhs()).real(), (x, -A, 0))"
   ]
  },
  {
   "cell_type": "code",
   "execution_count": 302,
   "metadata": {},
   "outputs": [
    {
     "data": {
      "text/plain": [
       "1.94474685655192e-22 - 1.66950634474434e-22*I"
      ]
     },
     "execution_count": 302,
     "metadata": {},
     "output_type": "execute_result"
    }
   ],
   "source": [
    "eq_rot_H_vacuum_z_d.rhs().subs(z == 0, x == 0).n() - \\\n",
    "eq_rot_H_vacuum_z_d.lhs().subs(z == 0, x == 0).n()"
   ]
  },
  {
   "cell_type": "code",
   "execution_count": 303,
   "metadata": {},
   "outputs": [
    {
     "data": {
      "text/plain": [
       "-1.09052131537753e-24 - 1.63017790519560e-24*I"
      ]
     },
     "execution_count": 303,
     "metadata": {},
     "output_type": "execute_result"
    }
   ],
   "source": [
    "eq_rot_H_vacuum_z_d.rhs().subs(z == 1, x == -A/2).n() - \\\n",
    "eq_rot_H_vacuum_z_d.lhs().subs(z == 1, x == -A/2).n()"
   ]
  },
  {
   "cell_type": "code",
   "execution_count": 304,
   "metadata": {},
   "outputs": [
    {
     "data": {
      "text/plain": [
       "1.69775203526625e-24 - 4.37620334873112e-24*I"
      ]
     },
     "execution_count": 304,
     "metadata": {},
     "output_type": "execute_result"
    }
   ],
   "source": [
    "eq_rot_H_vacuum_z_d.rhs().subs(z == 0, x == -A).n() - \\\n",
    "eq_rot_H_vacuum_z_d.lhs().subs(z == 0, x == -A).n()"
   ]
  },
  {
   "cell_type": "code",
   "execution_count": 305,
   "metadata": {},
   "outputs": [],
   "source": [
    "# plot((eq_rot_H_vacuum_z_d.rhs() / eq_rot_H_vacuum_z_d.lhs()).imag(), (x, -A, 0))"
   ]
  },
  {
   "cell_type": "code",
   "execution_count": null,
   "metadata": {},
   "outputs": [],
   "source": []
  },
  {
   "cell_type": "markdown",
   "metadata": {},
   "source": [
    "$$rot\\,\\vec{H} = \\frac{1}{c}\\frac{\\partial \\vec D}{\\partial t} + \\frac{4\\pi}{c} \\vec j = - \\frac{i\\,\\omega}{c} \\epsilon \\vec{E} + \\frac{4\\pi}{c}\\sigma \\vec E$$"
   ]
  },
  {
   "cell_type": "code",
   "execution_count": 306,
   "metadata": {},
   "outputs": [],
   "source": [
    "# уравнение Максвелла для тока смещения\n",
    "# rot_H   = - I * epsilon * omega / c * E + 4 * pi / c * sigma * E\n",
    "# rot_H_x = diff(H_z, y) - diff(H_y, z)\n",
    "# rot_H_y = diff(H_x, z) - diff(H_z, x)\n",
    "# rot_H_z = diff(H_y, x) - diff(H_x, y)"
   ]
  },
  {
   "cell_type": "code",
   "execution_count": 307,
   "metadata": {},
   "outputs": [],
   "source": [
    "rot_H_conductor_x_d = - diff(Hy_bad_conductor_d(x=x)*e^(I*k_z*z), z).subs(k_z == kz + I * sz).subs(k_z_sol)\n",
    "rot_H_conductor_y_d =   0\n",
    "rot_H_conductor_z_d =   diff(Hy_bad_conductor_d(x=x)*e^(I*k_z*z), x).subs(k_z == kz + I * sz).subs(k_z_sol)"
   ]
  },
  {
   "cell_type": "code",
   "execution_count": 308,
   "metadata": {},
   "outputs": [],
   "source": [
    "eq_rot_H_conductor_x_d = rot_H_conductor_x_d == \\\n",
    "((-I*epsilon_complex*omega/c) * Ex_bad_conductor_d(x=x)*e^(I*k_z*z)).subs(k_z == kz + I * sz).subs(k_z_sol).subs(digit_values)"
   ]
  },
  {
   "cell_type": "code",
   "execution_count": 309,
   "metadata": {},
   "outputs": [],
   "source": [
    "eq_rot_H_conductor_z_d = rot_H_conductor_z_d == \\\n",
    "((-I*epsilon_complex*omega/c)*Ez_bad_conductor_d(x=x)*e^(I*k_z*z)).subs(k_z == kz + I * sz).subs(k_z_sol).subs(digit_values)"
   ]
  },
  {
   "cell_type": "code",
   "execution_count": 310,
   "metadata": {},
   "outputs": [
    {
     "data": {
      "text/plain": [
       "1.00000000000000 - 1.11022302462516e-16*I"
      ]
     },
     "execution_count": 310,
     "metadata": {},
     "output_type": "execute_result"
    }
   ],
   "source": [
    "(eq_rot_H_conductor_x.lhs() / eq_rot_H_conductor_x.rhs()).subs(kappa_sol).subs(digit_values).n()"
   ]
  },
  {
   "cell_type": "code",
   "execution_count": null,
   "metadata": {},
   "outputs": [],
   "source": []
  },
  {
   "cell_type": "code",
   "execution_count": 311,
   "metadata": {},
   "outputs": [
    {
     "data": {
      "text/plain": [
       "1.00000000000000 - 1.66533453693773e-16*I"
      ]
     },
     "execution_count": 311,
     "metadata": {},
     "output_type": "execute_result"
    }
   ],
   "source": [
    "(eq_rot_H_conductor_x_d.lhs() / eq_rot_H_conductor_x_d.rhs()).n()"
   ]
  },
  {
   "cell_type": "code",
   "execution_count": 312,
   "metadata": {},
   "outputs": [
    {
     "data": {
      "text/plain": [
       "1.00000000000000 - 1.11022302462516e-16*I"
      ]
     },
     "execution_count": 312,
     "metadata": {},
     "output_type": "execute_result"
    }
   ],
   "source": [
    "(eq_rot_H_conductor_z_d.lhs() / eq_rot_H_conductor_z_d.rhs()).n()"
   ]
  },
  {
   "cell_type": "code",
   "execution_count": null,
   "metadata": {},
   "outputs": [],
   "source": []
  },
  {
   "cell_type": "code",
   "execution_count": null,
   "metadata": {},
   "outputs": [],
   "source": []
  },
  {
   "cell_type": "markdown",
   "metadata": {},
   "source": [
    "$$rot\\,\\vec{E} = \\mu\\,\\frac{i\\,\\omega}{c}\\,\\vec{H}$$"
   ]
  },
  {
   "cell_type": "code",
   "execution_count": 313,
   "metadata": {},
   "outputs": [],
   "source": [
    "# уравнение Максвелла для\n",
    "# rot_E   = I * mu * omega / c * H\n",
    "# rot_E_x = diff(E_z, y) - diff(E_y, z)\n",
    "# rot_E_y = diff(E_x, z) - diff(E_z, x)\n",
    "# rot_E_z = diff(E_y, x) - diff(E_x, y)"
   ]
  },
  {
   "cell_type": "code",
   "execution_count": 314,
   "metadata": {},
   "outputs": [],
   "source": [
    "rot_E_vacuum_x_d = diff(Ez_vacuum_d(x=x)*e^(I*k_z*z), y)\n",
    "rot_E_vacuum_y_d = diff(Ex_vacuum_d(x=x)*e^(I*k_z*z), z) - diff(Ez_vacuum_d(x=x)*e^(I*k_z*z), x)\n",
    "rot_E_vacuum_z_d = - diff(Ex_vacuum_d(x=x)*e^(I*k_z*z), y)"
   ]
  },
  {
   "cell_type": "code",
   "execution_count": 315,
   "metadata": {},
   "outputs": [],
   "source": [
    "eq_rot_E_vacuum_x_d = rot_E_vacuum_x_d == \\\n",
    "(I * omega / c * 0)"
   ]
  },
  {
   "cell_type": "code",
   "execution_count": 316,
   "metadata": {},
   "outputs": [],
   "source": [
    "eq_rot_E_vacuum_y_d = (rot_E_vacuum_y_d == \\\n",
    "I * mu * omega / c * Hy_vacuum_d(x=x)*e^(I*k_z*z)).subs(k_z == kz + I * sz).subs(k_z_sol).subs(digit_values)"
   ]
  },
  {
   "cell_type": "code",
   "execution_count": 317,
   "metadata": {},
   "outputs": [],
   "source": [
    "eq_rot_E_vacuum_z_d = rot_E_vacuum_z_d == \\\n",
    "(I * mu * omega / c * 0)"
   ]
  },
  {
   "cell_type": "code",
   "execution_count": null,
   "metadata": {},
   "outputs": [],
   "source": []
  },
  {
   "cell_type": "code",
   "execution_count": 318,
   "metadata": {},
   "outputs": [
    {
     "data": {
      "text/plain": [
       "(x, z)"
      ]
     },
     "execution_count": 318,
     "metadata": {},
     "output_type": "execute_result"
    }
   ],
   "source": [
    "(eq_rot_E_vacuum_y_d.rhs() / eq_rot_E_vacuum_y_d.lhs()).variables()"
   ]
  },
  {
   "cell_type": "code",
   "execution_count": 319,
   "metadata": {},
   "outputs": [
    {
     "data": {
      "image/png": "[encoded data removed]",
      "text/plain": [
       "Graphics object consisting of 2 graphics primitives"
      ]
     },
     "metadata": {},
     "output_type": "display_data"
    }
   ],
   "source": [
    "pl = plot(eq_rot_E_vacuum_y_d.rhs().real().subs(z == 0), (x, -A, 0))\n",
    "pl += plot(eq_rot_E_vacuum_y_d.lhs().real().subs(z == 0), (x, -A, 0))\n",
    "pl.show()"
   ]
  },
  {
   "cell_type": "code",
   "execution_count": 320,
   "metadata": {},
   "outputs": [
    {
     "data": {
      "image/png": "[encoded data removed]",
      "text/plain": [
       "Graphics object consisting of 2 graphics primitives"
      ]
     },
     "metadata": {},
     "output_type": "display_data"
    }
   ],
   "source": [
    "pl = plot(eq_rot_E_vacuum_y_d.rhs().imag().subs(z == 0), (x, -A, 0))\n",
    "pl += plot(eq_rot_E_vacuum_y_d.lhs().imag().subs(z == 0), (x, -A, 0))\n",
    "pl.show()"
   ]
  },
  {
   "cell_type": "code",
   "execution_count": 321,
   "metadata": {},
   "outputs": [
    {
     "data": {
      "image/png": "[encoded data removed]",
      "text/plain": [
       "Graphics object consisting of 2 graphics primitives"
      ]
     },
     "metadata": {},
     "output_type": "display_data"
    }
   ],
   "source": [
    "pl = plot(eq_rot_E_vacuum_y_d.rhs().abs().subs(z == 0), (x, -A, 0))\n",
    "pl += plot(eq_rot_E_vacuum_y_d.lhs().abs().subs(z == 0), (x, -A, 0))\n",
    "pl.show()"
   ]
  },
  {
   "cell_type": "code",
   "execution_count": null,
   "metadata": {},
   "outputs": [],
   "source": []
  },
  {
   "cell_type": "code",
   "execution_count": 322,
   "metadata": {},
   "outputs": [],
   "source": [
    "# уравнение Максвелла для\n",
    "# rot_E   = I * mu * omega / c * H\n",
    "# rot_E_x = diff(E_z, y) - diff(E_y, z)\n",
    "# rot_E_y = diff(E_x, z) - diff(E_z, x)\n",
    "# rot_E_z = diff(E_y, x) - diff(E_x, y)"
   ]
  },
  {
   "cell_type": "code",
   "execution_count": 323,
   "metadata": {},
   "outputs": [],
   "source": [
    "rot_E_conductor_x_d = diff(Ez_bad_conductor_d(x=x)*e^(I*k_z*z), y)\n",
    "rot_E_conductor_y_d = diff(Ex_bad_conductor_d(x=x)*e^(I*k_z*z), z) - diff(Ez_bad_conductor_d(x=x)*e^(I*k_z*z), x)\n",
    "rot_E_conductor_z_d = - diff(Ex_bad_conductor_d(x=x)*e^(I*k_z*z), y)"
   ]
  },
  {
   "cell_type": "code",
   "execution_count": 324,
   "metadata": {},
   "outputs": [],
   "source": [
    "eq_rot_E_conductor_x_d = rot_E_conductor_x_d == \\\n",
    "(I * mu * omega / c * 0)"
   ]
  },
  {
   "cell_type": "code",
   "execution_count": 325,
   "metadata": {},
   "outputs": [],
   "source": [
    "eq_rot_E_conductor_y_d = (rot_E_conductor_y_d == \\\n",
    "I * mu * omega / c * Hy_bad_conductor_d(x=x)*e^(I*k_z*z)).subs(k_z == kz + I * sz).subs(k_z_sol).subs(digit_values)"
   ]
  },
  {
   "cell_type": "code",
   "execution_count": 326,
   "metadata": {},
   "outputs": [],
   "source": [
    "eq_rot_E_conductor_z_d = rot_E_conductor_z_d == \\\n",
    "(I * mu * omega / c * 0)"
   ]
  },
  {
   "cell_type": "code",
   "execution_count": null,
   "metadata": {},
   "outputs": [],
   "source": []
  },
  {
   "cell_type": "code",
   "execution_count": 327,
   "metadata": {},
   "outputs": [
    {
     "data": {
      "text/plain": [
       "(x, z)"
      ]
     },
     "execution_count": 327,
     "metadata": {},
     "output_type": "execute_result"
    }
   ],
   "source": [
    "(eq_rot_E_conductor_y_d.rhs() / eq_rot_E_conductor_y_d.lhs()).variables()"
   ]
  },
  {
   "cell_type": "code",
   "execution_count": 328,
   "metadata": {},
   "outputs": [
    {
     "data": {
      "text/plain": [
       "1.05879118406788e-21 + 1.11173074327127e-21*I"
      ]
     },
     "execution_count": 328,
     "metadata": {},
     "output_type": "execute_result"
    }
   ],
   "source": [
    "eq_rot_E_conductor_y_d.rhs().subs(z == 0, x == 0).n() - \\\n",
    "eq_rot_E_conductor_y_d.lhs().subs(z == 0, x == 0).n()"
   ]
  },
  {
   "cell_type": "code",
   "execution_count": 329,
   "metadata": {},
   "outputs": [],
   "source": [
    "#pl = plot(eq_rot_E_conductor_y_d.rhs().subs(z == 0).real(), (x, 0, A))\n",
    "#pl += plot(eq_rot_E_conductor_y_d.lhs().subs(z == 0).real(), (x, 0, A))\n",
    "#pl.show()"
   ]
  },
  {
   "cell_type": "code",
   "execution_count": 330,
   "metadata": {},
   "outputs": [],
   "source": [
    "#pl = plot(eq_rot_E_conductor_y_d.rhs().subs(z == 0).imag(), (x, 0, A))\n",
    "#pl += plot(eq_rot_E_conductor_y_d.lhs().subs(z == 0).imag(), (x, 0, A))\n",
    "#pl.show()"
   ]
  },
  {
   "cell_type": "code",
   "execution_count": null,
   "metadata": {},
   "outputs": [],
   "source": []
  },
  {
   "cell_type": "code",
   "execution_count": null,
   "metadata": {},
   "outputs": [],
   "source": []
  },
  {
   "cell_type": "markdown",
   "metadata": {},
   "source": [
    "Решение получено.\n",
    "\n",
    "Теперь посчитаем:\n",
    "\n",
    "1) пондеромоторную силу, приложенную к идеальному проводнику\n",
    "\n",
    "2) пондеромоторную силу, приложенную к границе диэлектрика и вакуума\n"
   ]
  },
  {
   "cell_type": "code",
   "execution_count": null,
   "metadata": {},
   "outputs": [],
   "source": []
  },
  {
   "cell_type": "markdown",
   "metadata": {},
   "source": [
    "1) пондеромоторная сила, приложенная к идеальному проводнику"
   ]
  },
  {
   "cell_type": "markdown",
   "metadata": {},
   "source": [
    "$$\\frac{1}{2}\\frac{H_{0}^{2}}{8 \\, \\pi}$$\n",
    "additional 1/2 arises as result of integration on period\n",
    "\n",
    "исходя из результатов\n",
    "\n",
    "https://nbviewer.org/github/daju1/articles/blob/master/rezonatory_i_volnovody/skin_force.ipynb\n",
    "\n",
    "эту силу можно интерпретировать как силу Ампера действующая на индуцированный ток проводимости Фуко со стороны магнитного поля проникающего в скин слой "
   ]
  },
  {
   "cell_type": "code",
   "execution_count": 331,
   "metadata": {},
   "outputs": [
    {
     "name": "stdout",
     "output_type": "stream",
     "text": [
      "pH_superconductor = -4.97715844388757e-9\n"
     ]
    }
   ],
   "source": [
    "# superconductor force\n",
    "# additional 1/2 arises as result of integration on period\n",
    "#f_superconductor = - abs((even_H_inner_vacuum_y (0)^2) / (2*8*pi))\n",
    "pH_superconductor = - (Hy_vacuum_d (x=-A).real()^2 + Hy_vacuum_d (x=-A).imag()^2) / (2*8*pi)\n",
    "print(\"pH_superconductor =\", pH_superconductor.n())"
   ]
  },
  {
   "cell_type": "code",
   "execution_count": 332,
   "metadata": {},
   "outputs": [
    {
     "name": "stdout",
     "output_type": "stream",
     "text": [
      "pH_superconductor = -4.97715844388757e-9\n"
     ]
    }
   ],
   "source": [
    "# superconductor force\n",
    "# additional 1/2 arises as result of integration on period\n",
    "#f_superconductor = - abs((even_H_inner_vacuum_y (0)^2) / (2*8*pi))\n",
    "pH_superconductor = - (Hy_vacuum_d (x=-A).abs()^2) / (2*8*pi)\n",
    "print(\"pH_superconductor =\", pH_superconductor.n())"
   ]
  },
  {
   "cell_type": "markdown",
   "metadata": {},
   "source": [
    "2) пондеромоторная сила, приложенная к плохому проводнику"
   ]
  },
  {
   "cell_type": "code",
   "execution_count": 333,
   "metadata": {},
   "outputs": [
    {
     "name": "stdout",
     "output_type": "stream",
     "text": [
      "pH_bad_conductor = 4.97715848405091e-9\n"
     ]
    }
   ],
   "source": [
    "# bad conductor force\n",
    "# additional 1/2 arises as result of integration on period\n",
    "#f_bad_conductor = abs((even_H_inner_vacuum_y (a)^2) / (2*8*pi))\n",
    "pH_bad_conductor = (Hy_vacuum_d (x=0).real()^2 + Hy_vacuum_d (x=0).imag()^2) / (2*8*pi)\n",
    "\n",
    "print(\"pH_bad_conductor =\", pH_bad_conductor.n())"
   ]
  },
  {
   "cell_type": "code",
   "execution_count": 334,
   "metadata": {},
   "outputs": [
    {
     "name": "stdout",
     "output_type": "stream",
     "text": [
      "pH_bad_conductor = 4.97715848405092e-9\n"
     ]
    }
   ],
   "source": [
    "# bad conductor force\n",
    "# additional 1/2 arises as result of integration on period\n",
    "#f_bad_conductor = abs((even_H_inner_vacuum_y (a)^2) / (2*8*pi))\n",
    "pH_bad_conductor = (Hy_vacuum_d (x=0).abs()^2) / (2*8*pi)\n",
    "\n",
    "print(\"pH_bad_conductor =\", pH_bad_conductor.n())"
   ]
  },
  {
   "cell_type": "code",
   "execution_count": 335,
   "metadata": {},
   "outputs": [
    {
     "name": "stdout",
     "output_type": "stream",
     "text": [
      "pH_bad_conductor_ = 4.97715848519595e-9\n"
     ]
    }
   ],
   "source": [
    "# bad conductor force\n",
    "# additional 1/2 arises as result of integration on period\n",
    "#f_bad_conductor = abs((even_H_inner_vacuum_y (a)^2) / (2*8*pi))\n",
    "#pH_bad_conductor_ = (Hy_bad_conductor_d (x=0).real()^2 + Hy_bad_conductor_d (x=0).imag()^2) / (2*8*pi)\n",
    "pH_bad_conductor_ = (Hy_bad_conductor_d (x=0).abs()^2) / (2*8*pi)\n",
    "\n",
    "print(\"pH_bad_conductor_ =\", pH_bad_conductor_.n())"
   ]
  },
  {
   "cell_type": "code",
   "execution_count": null,
   "metadata": {},
   "outputs": [],
   "source": []
  },
  {
   "cell_type": "code",
   "execution_count": 336,
   "metadata": {},
   "outputs": [
    {
     "data": {
      "text/plain": [
       "4.01633418793866e-17"
      ]
     },
     "execution_count": 336,
     "metadata": {},
     "output_type": "execute_result"
    }
   ],
   "source": [
    "(pH_superconductor + pH_bad_conductor).n()"
   ]
  },
  {
   "cell_type": "code",
   "execution_count": 337,
   "metadata": {},
   "outputs": [
    {
     "data": {
      "text/plain": [
       "4.13083732597580e-17"
      ]
     },
     "execution_count": 337,
     "metadata": {},
     "output_type": "execute_result"
    }
   ],
   "source": [
    "(pH_superconductor + pH_bad_conductor_).n()"
   ]
  },
  {
   "cell_type": "code",
   "execution_count": 338,
   "metadata": {},
   "outputs": [
    {
     "data": {
      "text/plain": [
       "-1.14503138037143e-18"
      ]
     },
     "execution_count": 338,
     "metadata": {},
     "output_type": "execute_result"
    }
   ],
   "source": [
    "(pH_bad_conductor - pH_bad_conductor_).n()"
   ]
  },
  {
   "cell_type": "code",
   "execution_count": 339,
   "metadata": {},
   "outputs": [
    {
     "data": {
      "image/png": "[encoded data removed]",
      "text/plain": [
       "Graphics object consisting of 2 graphics primitives"
      ]
     },
     "metadata": {},
     "output_type": "display_data"
    }
   ],
   "source": [
    "pl =  plot(arg(Ez_vacuum_d)/pi-arg(Hy_vacuum_d)/pi, (x, -A, 0))\n",
    "pl += plot(tan(arg(Ez_bad_conductor_d)/pi-arg(Hy_bad_conductor_d)/pi), (x, 0, h_conductor))\n",
    "pl.show(title=\"График разницы фаз тангенциальной компоненты электрического и магнитного полей\")"
   ]
  },
  {
   "cell_type": "code",
   "execution_count": 340,
   "metadata": {},
   "outputs": [
    {
     "data": {
      "text/plain": [
       "(0.466800726671330, -0.283199273370783)"
      ]
     },
     "execution_count": 340,
     "metadata": {},
     "output_type": "execute_result"
    }
   ],
   "source": [
    "(arg(Ez_bad_conductor_d(x=0.1))/pi).n(),(arg(Hy_bad_conductor_d(x=0.1))/pi).n()"
   ]
  },
  {
   "cell_type": "code",
   "execution_count": 341,
   "metadata": {},
   "outputs": [
    {
     "data": {
      "text/plain": [
       "0.750000000042114"
      ]
     },
     "execution_count": 341,
     "metadata": {},
     "output_type": "execute_result"
    }
   ],
   "source": [
    "(arg(Ez_bad_conductor_d(x=0.1))/pi).n()-(arg(Hy_bad_conductor_d(x=0.1))/pi).n()"
   ]
  },
  {
   "cell_type": "markdown",
   "metadata": {},
   "source": [
    "пондеромоторная сила, приложенная к границе диэлектрика и вакуума\n",
    "\n",
    "(здесь мы рассматриваем все же металл с невысокой проводимостью и с учетом его внутренней диэлектрической проницаемостью)\n",
    "\n",
    "компонента силы связанная с тангенциальной составляющей электрического поля\n",
    "\n",
    "$\\int\\limits_{T}^{}\\left(\\frac{D_t\\cdot E_t}{8\\pi}|_{dielectric} - \\frac{D_t \\cdot E_t}{8\\pi}|_{vacuum}\\right)dt$\n",
    "\n",
    "$\\int\\limits_{T}^{}\\left(\\frac{\\epsilon\\, E_t^2}{8\\pi}|_{dielectric} - \\frac{E_t^2}{8\\pi}|_{vacuum}\\right)dt$\n",
    "\n",
    "$E_t|_{dielectric} = E_t|_{vacuum}$\n",
    "\n",
    "$\\left(\\epsilon - 1\\right)\\int\\limits_{T}^{}\\frac{E_t^2}{8\\pi}|_{dielectric}dt$\n",
    "\n",
    "$\\left(\\epsilon - 1\\right)\\frac{E_t^2}{16\\pi}|_{dielectric}$"
   ]
  },
  {
   "cell_type": "markdown",
   "metadata": {},
   "source": [
    "как интерпретировать эту силу? Как силу, аналогичную силе Ампера, действующую со стороны электрического поля на магнитный ток смещения?\n",
    "\n",
    "$$rot\\,\\vec{E} = \\frac{1}{c}\\frac{\\partial \\vec B}{\\partial t} = \\frac{4\\pi}{c} \\vec {j_{см_m}}$$"
   ]
  },
  {
   "cell_type": "code",
   "execution_count": 342,
   "metadata": {},
   "outputs": [],
   "source": [
    "# Static and dynamic electricity by William R. Smythe, second edition, 1950\n",
    "# paragraph 18 formula 1.47\n",
    "# давление на границу равно разности давлений по обе стороны от нее\n",
    "# $$ P_n = \\frac{1}{2} \\epsilon'{{E'}_t}^2 - \\frac{1}{2} \\epsilon''{{E''}_t}^2 $$"
   ]
  },
  {
   "cell_type": "markdown",
   "metadata": {},
   "source": [
    "$$ P_n = \\frac{1}{2} \\epsilon'{{E'}_t}^2 - \\frac{1}{2} \\epsilon''{{E''}_t}^2 $$"
   ]
  },
  {
   "cell_type": "code",
   "execution_count": 343,
   "metadata": {},
   "outputs": [
    {
     "name": "stdout",
     "output_type": "stream",
     "text": [
      "pE_bad_conductor = -0.000000000000000\n"
     ]
    }
   ],
   "source": [
    "# bad conductor force\n",
    "# additional 1/2 arises as result of integration on period\n",
    "pE_bad_conductor = -(((1.0 - epsilon) * (Ez_vacuum_d (x=0)))*(Ez_vacuum_d (x=0)) / (2*8*pi)).subs(digit_values).abs()\n",
    "print(\"pE_bad_conductor =\", pE_bad_conductor.n())"
   ]
  },
  {
   "cell_type": "code",
   "execution_count": 344,
   "metadata": {},
   "outputs": [
    {
     "name": "stdout",
     "output_type": "stream",
     "text": [
      "p_bad_conductor_ = -4.97715848519058e-9\n"
     ]
    }
   ],
   "source": [
    "# bad conductor force\n",
    "# additional 1/2 arises as result of integration on period\n",
    "pE_bad_conductor_ = -(((1.0 - epsilon_complex) * (Ez_vacuum_d (x=0)))*(Ez_vacuum_d (x=0)) / (2*8*pi)).subs(digit_values).abs()\n",
    "print(\"p_bad_conductor_ =\", pE_bad_conductor_.n())"
   ]
  },
  {
   "cell_type": "code",
   "execution_count": null,
   "metadata": {},
   "outputs": [],
   "source": []
  },
  {
   "cell_type": "markdown",
   "metadata": {},
   "source": [
    "пондеромоторная сила, приложенная к границе диэлектрика и вакуума\n",
    "\n",
    "компонента силы связанная с нормальной составляющей электрического поля\n",
    "\n",
    "$\\int\\limits_{T}^{}\\left(\\frac{D_n\\cdot E_n}{8\\pi}|_{dielectric} - \\frac{D_n \\cdot E_n}{8\\pi}|_{vacuum}\\right)dt$\n",
    "\n",
    "$\\int\\limits_{T}^{}\\left(\\frac{\\epsilon\\, E_n^2}{8\\pi}|_{dielectric} - \\frac{E_n^2}{8\\pi}|_{vacuum}\\right)dt$\n",
    "\n",
    "$D_n|_{dielectric} = D_n|_{vacuum}$\n",
    "\n",
    "$\\epsilon\\,E_n|_{dielectric} = E_n|_{vacuum}$\n",
    "\n",
    "$\\int\\limits_{T}^{}\\left(\\frac{\\epsilon\\, E_n^2}{8\\pi}|_{dielectric} - \\frac{\\epsilon^2\\, E_n^2}{8\\pi}|_{dielectric}\\right)dt$\n",
    "\n",
    "$\\left(\\epsilon - \\epsilon^2\\right)\\int\\limits_{T}^{}\\frac{E_n^2}{8\\pi}|_{dielectric}dt$\n",
    "\n",
    "$\\frac{\\left(1 - \\epsilon\\right)\\,\\epsilon\\,E_n^2}{16\\pi}|_{dielectric}$"
   ]
  },
  {
   "cell_type": "code",
   "execution_count": 345,
   "metadata": {},
   "outputs": [],
   "source": [
    "# Static and dynamic electricity by William R. Smythe, second edition, 1950\n",
    "# paragraph 18 formula 1.45\n",
    "# натяжение на границе, созданное нормальными компонентами индукции\n",
    "# должно равняться разности натяжений по обе стороны от границы\n",
    "# $$ T_n = \\frac{{{D'}_n}^2}{2 \\epsilon'} - \\frac{{{D''}_n}^2}{2 \\epsilon''} $$"
   ]
  },
  {
   "cell_type": "markdown",
   "metadata": {},
   "source": [
    "$$ T_n = \\frac{{{D'}_n}^2}{2 \\epsilon'} - \\frac{{{D''}_n}^2}{2 \\epsilon''} $$"
   ]
  },
  {
   "cell_type": "code",
   "execution_count": 346,
   "metadata": {
    "scrolled": true
   },
   "outputs": [
    {
     "name": "stdout",
     "output_type": "stream",
     "text": [
      "tE_super_conductor = -5.01795835104027e-9\n"
     ]
    }
   ],
   "source": [
    "# super conductor tension\n",
    "# additional 1/2 arises as result of integration on period\n",
    "# epsilon_superconductor -> Infinity\n",
    "# 1 / epsilon_superconductor -> 0.0\n",
    "tE_super_conductor = (0.0 - 1/1.) *(Dx_vacuum_d (x=-A).imag()^2 + Dx_vacuum_d(x=-A).real()^2) / (2*8*pi)\n",
    "print(\"tE_super_conductor =\", tE_super_conductor.n())"
   ]
  },
  {
   "cell_type": "code",
   "execution_count": 347,
   "metadata": {},
   "outputs": [
    {
     "name": "stdout",
     "output_type": "stream",
     "text": [
      "tE_bad_conductor = 5.01795839153285e-9\n"
     ]
    }
   ],
   "source": [
    "# bad conductor force\n",
    "# additional 1/2 arises as result of integration on period\n",
    "tE_bad_conductor = (((1.0/1.0 - 1/epsilon_complex) * Dx_vacuum_d (x=0)) * Dx_vacuum_d(x=0) / (2*8*pi)).subs(digit_values).abs()\n",
    "print(\"tE_bad_conductor =\", tE_bad_conductor.n())"
   ]
  },
  {
   "cell_type": "code",
   "execution_count": 348,
   "metadata": {},
   "outputs": [
    {
     "name": "stdout",
     "output_type": "stream",
     "text": [
      "tE_bad_conductor = 0.000000000000000\n"
     ]
    }
   ],
   "source": [
    "# bad conductor force\n",
    "# additional 1/2 arises as result of integration on period\n",
    "tE_bad_conductor = (((1.0/1.0 - 1/epsilon) * Dx_vacuum_d (x=0)) * Dx_vacuum_d(x=0) / (2*8*pi)).subs(digit_values).abs()\n",
    "print(\"tE_bad_conductor =\", tE_bad_conductor.n())"
   ]
  },
  {
   "cell_type": "code",
   "execution_count": null,
   "metadata": {},
   "outputs": [],
   "source": []
  },
  {
   "cell_type": "markdown",
   "metadata": {},
   "source": [
    "Результаты вычислений показывают, что тяга в волновом двигателе с внутренним расходом энергии Ф.Ф.Менде (MenDrive) ненулевая и равна"
   ]
  },
  {
   "cell_type": "code",
   "execution_count": 349,
   "metadata": {},
   "outputs": [
    {
     "data": {
      "text/plain": [
       "-5.01795831087693e-9"
      ]
     },
     "execution_count": 349,
     "metadata": {},
     "output_type": "execute_result"
    }
   ],
   "source": [
    "(+ pH_superconductor + pH_bad_conductor\n",
    " + tE_super_conductor + tE_bad_conductor).n()"
   ]
  },
  {
   "cell_type": "code",
   "execution_count": 350,
   "metadata": {},
   "outputs": [],
   "source": [
    "f_superconductor = pH_superconductor\n",
    "f_bad_conductor  = pH_bad_conductor\n",
    "\n",
    "t_super_conductor = tE_super_conductor\n",
    "t_bad_conductor  = tE_bad_conductor\n",
    "\n",
    "p_bad_conductor = pE_bad_conductor_"
   ]
  },
  {
   "cell_type": "code",
   "execution_count": 351,
   "metadata": {},
   "outputs": [
    {
     "data": {
      "text/plain": [
       "-4.07998256863519e-11"
      ]
     },
     "execution_count": 351,
     "metadata": {},
     "output_type": "execute_result"
    }
   ],
   "source": [
    "(+ f_superconductor + f_bad_conductor\n",
    " + t_super_conductor + t_bad_conductor\n",
    " - p_bad_conductor).n()"
   ]
  },
  {
   "cell_type": "code",
   "execution_count": 352,
   "metadata": {},
   "outputs": [],
   "source": [
    "# H^2/8 pi"
   ]
  },
  {
   "cell_type": "code",
   "execution_count": 353,
   "metadata": {},
   "outputs": [
    {
     "data": {
      "text/plain": [
       "4.01633418793866e-17"
      ]
     },
     "execution_count": 353,
     "metadata": {},
     "output_type": "execute_result"
    }
   ],
   "source": [
    "(f_superconductor + f_bad_conductor).n()"
   ]
  },
  {
   "cell_type": "code",
   "execution_count": 354,
   "metadata": {},
   "outputs": [
    {
     "data": {
      "text/plain": [
       "-5.01795835104027e-9"
      ]
     },
     "execution_count": 354,
     "metadata": {},
     "output_type": "execute_result"
    }
   ],
   "source": [
    "(t_super_conductor + t_bad_conductor).n()"
   ]
  },
  {
   "cell_type": "code",
   "execution_count": 355,
   "metadata": {},
   "outputs": [
    {
     "data": {
      "text/plain": [
       "4.97715848519058e-9"
      ]
     },
     "execution_count": 355,
     "metadata": {},
     "output_type": "execute_result"
    }
   ],
   "source": [
    "(- p_bad_conductor).n()"
   ]
  },
  {
   "cell_type": "code",
   "execution_count": null,
   "metadata": {},
   "outputs": [],
   "source": []
  },
  {
   "cell_type": "code",
   "execution_count": 356,
   "metadata": {},
   "outputs": [
    {
     "data": {
      "text/plain": [
       "7.22010274382565e-10"
      ]
     },
     "execution_count": 356,
     "metadata": {},
     "output_type": "execute_result"
    }
   ],
   "source": [
    "field_energy = (A1_z_re^2 + A1_z_im^2).subs(coeffs_subs)\n",
    "field_energy"
   ]
  },
  {
   "cell_type": "code",
   "execution_count": null,
   "metadata": {},
   "outputs": [],
   "source": []
  },
  {
   "cell_type": "code",
   "execution_count": 357,
   "metadata": {},
   "outputs": [
    {
     "data": {
      "text/plain": [
       "5.56271057413036e-8"
      ]
     },
     "execution_count": 357,
     "metadata": {},
     "output_type": "execute_result"
    }
   ],
   "source": [
    "(f_superconductor + f_bad_conductor).n()/(field_energy)"
   ]
  },
  {
   "cell_type": "code",
   "execution_count": 358,
   "metadata": {},
   "outputs": [
    {
     "data": {
      "text/plain": [
       "-6.94998191726764"
      ]
     },
     "execution_count": 358,
     "metadata": {},
     "output_type": "execute_result"
    }
   ],
   "source": [
    "(t_super_conductor + t_bad_conductor).n()/(field_energy)"
   ]
  },
  {
   "cell_type": "code",
   "execution_count": 359,
   "metadata": {},
   "outputs": [
    {
     "data": {
      "text/plain": [
       "6.89347321192465"
      ]
     },
     "execution_count": 359,
     "metadata": {},
     "output_type": "execute_result"
    }
   ],
   "source": [
    "(- p_bad_conductor).n()/(field_energy)"
   ]
  },
  {
   "cell_type": "code",
   "execution_count": 360,
   "metadata": {},
   "outputs": [
    {
     "data": {
      "text/plain": [
       "-0.0565086497158816"
      ]
     },
     "execution_count": 360,
     "metadata": {},
     "output_type": "execute_result"
    }
   ],
   "source": [
    "(+ f_superconductor + f_bad_conductor \\\n",
    " + t_super_conductor + t_bad_conductor \\\n",
    " - p_bad_conductor).n()/(field_energy)"
   ]
  },
  {
   "cell_type": "markdown",
   "metadata": {},
   "source": [
    "Мощность тепловых потерь"
   ]
  },
  {
   "cell_type": "code",
   "execution_count": 361,
   "metadata": {},
   "outputs": [],
   "source": [
    "wr = lambda x : sigma_d * (Ez_bad_conductor_d(x=x).abs()^2 + Ex_bad_conductor_d(x=x).abs()^2)"
   ]
  },
  {
   "cell_type": "code",
   "execution_count": 362,
   "metadata": {},
   "outputs": [
    {
     "data": {
      "image/png": "[encoded data removed]",
      "text/plain": [
       "Graphics object consisting of 1 graphics primitive"
      ]
     },
     "execution_count": 362,
     "metadata": {},
     "output_type": "execute_result"
    }
   ],
   "source": [
    "plot(wr(x=x), (x, 0, h_conductor))"
   ]
  },
  {
   "cell_type": "code",
   "execution_count": 363,
   "metadata": {},
   "outputs": [],
   "source": [
    "Wr = (sigma * (Ez_bad_conductor.abs()^2 + Ex_bad_conductor_subs.abs()^2)).subs(coeffs_subs).subs(digit_values).expand()\n",
    "Wr_integrate_x = Wr.integrate(x)"
   ]
  },
  {
   "cell_type": "code",
   "execution_count": 364,
   "metadata": {
    "scrolled": true
   },
   "outputs": [
    {
     "data": {
      "image/png": "[encoded data removed]",
      "text/plain": [
       "Graphics object consisting of 1 graphics primitive"
      ]
     },
     "execution_count": 364,
     "metadata": {},
     "output_type": "execute_result"
    }
   ],
   "source": [
    "plot(Wr_integrate_x, (x, 0, h_conductor))"
   ]
  },
  {
   "cell_type": "code",
   "execution_count": 365,
   "metadata": {},
   "outputs": [
    {
     "data": {
      "text/plain": [
       "0.00484460501338924"
      ]
     },
     "execution_count": 365,
     "metadata": {},
     "output_type": "execute_result"
    }
   ],
   "source": [
    "W = Wr_integrate_x.subs(x == h_conductor).n() - Wr_integrate_x.subs(x == 0).n()\n",
    "W"
   ]
  },
  {
   "cell_type": "code",
   "execution_count": 366,
   "metadata": {},
   "outputs": [],
   "source": [
    "# F / P\n",
    "# dyne / (erg/s)\n",
    "\n",
    "# 1 erg  = 10^-7 joule\n",
    "# 1 dyne = 10^-5 N\n",
    "\n",
    "# 1 dyne / (erg/s) = 10^-5 / (10^-7) = 100 N/watt"
   ]
  },
  {
   "cell_type": "code",
   "execution_count": 367,
   "metadata": {},
   "outputs": [
    {
     "data": {
      "text/plain": [
       "8.29032331188723e-13"
      ]
     },
     "execution_count": 367,
     "metadata": {},
     "output_type": "execute_result"
    }
   ],
   "source": [
    "100 * (f_superconductor + f_bad_conductor).n()/(W)"
   ]
  },
  {
   "cell_type": "code",
   "execution_count": 368,
   "metadata": {},
   "outputs": [
    {
     "data": {
      "text/plain": [
       "-1.03578275982705e-6"
      ]
     },
     "execution_count": 368,
     "metadata": {},
     "output_type": "execute_result"
    }
   ],
   "source": [
    "(t_super_conductor + t_bad_conductor).n()/(W)"
   ]
  },
  {
   "cell_type": "code",
   "execution_count": 369,
   "metadata": {},
   "outputs": [
    {
     "data": {
      "text/plain": [
       "1.02736104830734e-6"
      ]
     },
     "execution_count": 369,
     "metadata": {},
     "output_type": "execute_result"
    }
   ],
   "source": [
    "(- p_bad_conductor).n()/(W)"
   ]
  },
  {
   "cell_type": "code",
   "execution_count": 370,
   "metadata": {},
   "outputs": [
    {
     "data": {
      "text/plain": [
       "-8.42171151970769e-7"
      ]
     },
     "execution_count": 370,
     "metadata": {},
     "output_type": "execute_result"
    }
   ],
   "source": [
    "100 * (t_super_conductor + t_bad_conductor - p_bad_conductor).n()/(W)"
   ]
  },
  {
   "cell_type": "code",
   "execution_count": 371,
   "metadata": {},
   "outputs": [],
   "source": [
    "# N/watt"
   ]
  },
  {
   "cell_type": "code",
   "execution_count": 372,
   "metadata": {},
   "outputs": [
    {
     "data": {
      "text/plain": [
       "-8.42170322938438e-7"
      ]
     },
     "execution_count": 372,
     "metadata": {},
     "output_type": "execute_result"
    }
   ],
   "source": [
    "100 * ( \\\n",
    " + f_superconductor + f_bad_conductor \\\n",
    " + t_super_conductor + t_bad_conductor \\\n",
    " - p_bad_conductor).n()/(W)"
   ]
  },
  {
   "cell_type": "code",
   "execution_count": 373,
   "metadata": {},
   "outputs": [],
   "source": [
    "# N/kwatt"
   ]
  },
  {
   "cell_type": "code",
   "execution_count": 374,
   "metadata": {},
   "outputs": [
    {
     "data": {
      "text/plain": [
       "-0.000842170322938438"
      ]
     },
     "execution_count": 374,
     "metadata": {},
     "output_type": "execute_result"
    }
   ],
   "source": [
    "10^5*( \\\n",
    " + f_superconductor + f_bad_conductor \\\n",
    " + t_super_conductor + t_bad_conductor \\\n",
    " - p_bad_conductor).n()/(W)"
   ]
  },
  {
   "cell_type": "markdown",
   "metadata": {},
   "source": [
    "положительный знак соответствует направлению тяги в сторону увеличения значений x"
   ]
  },
  {
   "cell_type": "markdown",
   "metadata": {},
   "source": [
    "Здесь нужно отметить, что формула\n",
    "\n",
    "```bash\n",
    "pH_bad_conductor = (Hy_vacuum_d (x=0).abs()^2) / (2*8*pi)\n",
    "```\n",
    "\n",
    "хотя и взята из справочников, ее вывод приводится в Ландау Лифшиц. Электродинамика сплошных сред параграфы 58 и 59\n",
    "\n",
    "и здесь вкратце я этот вывод повторил\n",
    "\n",
    "https://nbviewer.org/github/daju1/articles/blob/master/rezonatory_i_volnovody/skin_force_t.ipynb"
   ]
  },
  {
   "cell_type": "markdown",
   "metadata": {},
   "source": [
    "Но что интересно этот вывод сделан в предположении что фаза электрического поля отстает от фазы магнитного поля на величину $\\pi/4$\n",
    "\n",
    "\n",
    "Далее в работе \n",
    "\n",
    "https://nbviewer.org/github/daju1/articles/blob/master/rezonatory_i_volnovody/skin_force.ipynb\n",
    "\n",
    "Был рассмотрен вопрос\n",
    "\n",
    "```bash\n",
    "# а что если в данном расчете изменится сдвиг фаз между электрическим и магнитным полем?\n",
    "```\n"
   ]
  },
  {
   "cell_type": "code",
   "execution_count": 375,
   "metadata": {},
   "outputs": [
    {
     "data": {
      "image/png": "[encoded data removed]",
      "text/plain": [
       "Graphics object consisting of 4 graphics primitives"
      ]
     },
     "metadata": {},
     "output_type": "display_data"
    }
   ],
   "source": [
    "pl =  plot(arg(Hy_vacuum_d)/pi, (x, -A, 0))\n",
    "pl += plot(arg(Hy_bad_conductor_d)/pi, (x, 0, h_conductor))\n",
    "pl += plot(arg(Ez_vacuum_d)/pi, (x, -A, 0), color=\"red\")\n",
    "pl += plot(arg(Ez_bad_conductor_d)/pi, (x, 0, h_conductor), color=\"red\")\n",
    "pl.show(title=\"График Arg тангенциальной компоненты напряженности электрического магнитного поля H\")"
   ]
  },
  {
   "cell_type": "code",
   "execution_count": 376,
   "metadata": {
    "scrolled": true
   },
   "outputs": [
    {
     "data": {
      "image/png": "[encoded data removed]",
      "text/plain": [
       "Graphics object consisting of 2 graphics primitives"
      ]
     },
     "metadata": {},
     "output_type": "display_data"
    }
   ],
   "source": [
    "pl =  plot(arg(Hy_vacuum_d)/pi-arg(Ez_vacuum_d)/pi, (x, -A, 0))\n",
    "pl += plot(arg(Hy_bad_conductor_d)/pi-arg(Ez_bad_conductor_d)/pi, (x, 0, h_conductor))\n",
    "pl.show(title=\"График разности фаз тангенциальной компоненты напряженности электрического магнитного поля H\")"
   ]
  },
  {
   "cell_type": "code",
   "execution_count": null,
   "metadata": {},
   "outputs": [],
   "source": []
  },
  {
   "cell_type": "code",
   "execution_count": 377,
   "metadata": {},
   "outputs": [],
   "source": [
    "dphi_vacuum    = lambda x : arg(Ez_vacuum_d       (x=x))/pi - arg(Hy_vacuum_d       (x=x))/pi"
   ]
  },
  {
   "cell_type": "code",
   "execution_count": 378,
   "metadata": {},
   "outputs": [],
   "source": [
    "dphi_conductor = lambda x : arg(Ez_bad_conductor_d(x=x))/pi - arg(Hy_bad_conductor_d(x=x))/pi"
   ]
  },
  {
   "cell_type": "markdown",
   "metadata": {},
   "source": [
    "В данном расчёте оказалось что при заданных параметрах сдвиг фаз между электрическим и  магнитнымполем отличается от $-1.25 \\pi$ на величину\n"
   ]
  },
  {
   "cell_type": "code",
   "execution_count": 398,
   "metadata": {},
   "outputs": [
    {
     "data": {
      "text/plain": [
       "0.750000000042114"
      ]
     },
     "execution_count": 398,
     "metadata": {},
     "output_type": "execute_result"
    }
   ],
   "source": [
    "#1.25+\n",
    "dphi_conductor(h_conductor).n()"
   ]
  },
  {
   "cell_type": "code",
   "execution_count": 380,
   "metadata": {},
   "outputs": [
    {
     "data": {
      "text/plain": [
       "2.00000000004211"
      ]
     },
     "execution_count": 380,
     "metadata": {},
     "output_type": "execute_result"
    }
   ],
   "source": [
    "dphi_conductor(0).n()+1.25"
   ]
  },
  {
   "cell_type": "code",
   "execution_count": 381,
   "metadata": {},
   "outputs": [
    {
     "data": {
      "text/plain": [
       "2.00000000004211"
      ]
     },
     "execution_count": 381,
     "metadata": {},
     "output_type": "execute_result"
    }
   ],
   "source": [
    "dphi_conductor(0.001).n()+1.25"
   ]
  },
  {
   "cell_type": "code",
   "execution_count": 382,
   "metadata": {},
   "outputs": [
    {
     "data": {
      "text/plain": [
       "2.00000000000099"
      ]
     },
     "execution_count": 382,
     "metadata": {},
     "output_type": "execute_result"
    }
   ],
   "source": [
    "dphi_vacuum(0).n()+1.25"
   ]
  },
  {
   "cell_type": "code",
   "execution_count": 383,
   "metadata": {},
   "outputs": [
    {
     "data": {
      "text/plain": [
       "2.00000000064321"
      ]
     },
     "execution_count": 383,
     "metadata": {},
     "output_type": "execute_result"
    }
   ],
   "source": [
    "dphi_vacuum(-A/2).n()+1.25"
   ]
  },
  {
   "cell_type": "code",
   "execution_count": 384,
   "metadata": {},
   "outputs": [
    {
     "data": {
      "text/plain": [
       "1.83499947936983"
      ]
     },
     "execution_count": 384,
     "metadata": {},
     "output_type": "execute_result"
    }
   ],
   "source": [
    "dphi_vacuum(-A).n()+1.25"
   ]
  },
  {
   "cell_type": "code",
   "execution_count": 385,
   "metadata": {},
   "outputs": [
    {
     "data": {
      "image/png": "[encoded data removed]",
      "text/plain": [
       "Graphics object consisting of 2 graphics primitives"
      ]
     },
     "metadata": {},
     "output_type": "display_data"
    }
   ],
   "source": [
    "pl =  plot(dphi_vacuum, (x, -A*0.001, 0))\n",
    "pl += plot(dphi_conductor, (x, 0, h_conductor*0.001), color=\"red\")\n",
    "pl.show(title=\"delta Arg тангенциальных H и E\")"
   ]
  },
  {
   "cell_type": "markdown",
   "metadata": {},
   "source": [
    "небольная разница в сдвиге фаз между тангенциальным электрическим и тангенциальным магнитным полем на поверхности проводника в вакуумной фазе и в фазе поверхности является следствием, вероятно, ограниченной точностью сведения детерминанта к нулю на итерационной фазе вычислений"
   ]
  },
  {
   "cell_type": "code",
   "execution_count": 386,
   "metadata": {
    "scrolled": true
   },
   "outputs": [
    {
     "data": {
      "image/png": "[encoded data removed]",
      "text/plain": [
       "Graphics object consisting of 1 graphics primitive"
      ]
     },
     "metadata": {},
     "output_type": "display_data"
    }
   ],
   "source": [
    "pl =  plot(arg(Hy_vacuum_d)/pi - arg(Ez_vacuum_d)/pi - 1.25, (x, -A+0.01, 0))\n",
    "#pl += plot(arg(Hy_bad_conductor_d)/pi - arg(Ez_bad_conductor_d)/pi - 1.25, (x, 0, h_conductor))\n",
    "pl.show(title=\"График delta Arg тангенциальных компонент H и E\")"
   ]
  },
  {
   "cell_type": "markdown",
   "metadata": {},
   "source": [
    "Этот факт ставит отрытым вопрос об уточнении формулы для pH_bad_conductor"
   ]
  },
  {
   "cell_type": "markdown",
   "metadata": {},
   "source": [
    "В работе \n",
    "\n",
    "https://nbviewer.org/github/daju1/articles/blob/master/rezonatory_i_volnovody/skin_force_phi.ipynb\n",
    "\n",
    "был рассмотрен этот $-1.25 \\pi$ сдвиг фаз. Для этого случая сила действующая на проводник в скинслое равна\n",
    "\n",
    "$$-\\frac{H_{0}^{2}}{16 \\, \\pi}$$\n",
    "\n",
    "а также получена формула, которая говорит, что если реальный сдвиг фаз между электрическим и магнитным полем отличается на величину $\\phi$ тогда сила действующая на проводник в скинслое равна уже\n",
    "\n",
    "$$-\\frac{H_{0}^{2} \\cos\\left(\\phi\\right)}{16 \\, \\pi} - \\frac{H_{0}^{2} \\sin\\left(\\phi\\right)}{16 \\, \\pi}$$\n",
    "\n",
    "$$-\\frac{H_{0}^{2} }{16 \\, \\pi} (\\cos\\left(\\phi\\right) + \\sin\\left(\\phi\\right))$$"
   ]
  },
  {
   "cell_type": "code",
   "execution_count": 399,
   "metadata": {},
   "outputs": [
    {
     "data": {
      "text/plain": [
       "(4.21136459038962e-11)*pi"
      ]
     },
     "execution_count": 399,
     "metadata": {},
     "output_type": "execute_result"
    }
   ],
   "source": [
    "#phi = (1.25+dphi_conductor(0).n())*pi\n",
    "phi = (-0.75+dphi_conductor(0).n())*pi\n",
    "phi"
   ]
  },
  {
   "cell_type": "code",
   "execution_count": 400,
   "metadata": {},
   "outputs": [
    {
     "data": {
      "text/plain": [
       "0.999999999867696"
      ]
     },
     "execution_count": 400,
     "metadata": {},
     "output_type": "execute_result"
    }
   ],
   "source": [
    "(cos(phi) - sin(phi)).n()"
   ]
  },
  {
   "cell_type": "code",
   "execution_count": 401,
   "metadata": {},
   "outputs": [
    {
     "data": {
      "text/plain": [
       "-0.000842170309346026"
      ]
     },
     "execution_count": 401,
     "metadata": {},
     "output_type": "execute_result"
    }
   ],
   "source": [
    "# N/kwatt\n",
    "\n",
    "10^5*( \\\n",
    " + f_superconductor + f_bad_conductor * (cos(phi) + sin(phi)).n() \\\n",
    " + t_super_conductor + t_bad_conductor \\\n",
    " - p_bad_conductor).n()/(W)"
   ]
  },
  {
   "cell_type": "code",
   "execution_count": 402,
   "metadata": {},
   "outputs": [
    {
     "data": {
      "text/plain": [
       "-0.000842170322938438"
      ]
     },
     "execution_count": 402,
     "metadata": {},
     "output_type": "execute_result"
    }
   ],
   "source": [
    "# N/kwatt\n",
    "\n",
    "10^5 * ( \\\n",
    " + f_superconductor + f_bad_conductor \\\n",
    " + t_super_conductor + t_bad_conductor \\\n",
    " - p_bad_conductor).n()/(W)"
   ]
  },
  {
   "cell_type": "markdown",
   "metadata": {},
   "source": [
    "если предположить что формула \n",
    "\n",
    "$$-\\frac{H_{0}^{2} }{16 \\, \\pi} (\\cos\\left(\\phi\\right) + \\sin\\left(\\phi\\right))$$\n",
    "\n",
    "применима также и для вычисления пондеромоторной силы приложенной к идеальному проводнику"
   ]
  },
  {
   "cell_type": "code",
   "execution_count": 407,
   "metadata": {},
   "outputs": [
    {
     "data": {
      "text/plain": [
       "(9.88098491916389e-13)*pi"
      ]
     },
     "execution_count": 407,
     "metadata": {},
     "output_type": "execute_result"
    }
   ],
   "source": [
    "#phi_r = (1.25+dphi_vacuum(0).n())*pi\n",
    "phi_r = (-0.75+dphi_vacuum(0).n())*pi\n",
    "phi_r"
   ]
  },
  {
   "cell_type": "code",
   "execution_count": 408,
   "metadata": {},
   "outputs": [
    {
     "data": {
      "text/plain": [
       "-0.165000520630175*pi"
      ]
     },
     "execution_count": 408,
     "metadata": {},
     "output_type": "execute_result"
    }
   ],
   "source": [
    "phi_l = (-0.75+dphi_vacuum(-A).n())*pi\n",
    "phi_l"
   ]
  },
  {
   "cell_type": "code",
   "execution_count": 409,
   "metadata": {},
   "outputs": [
    {
     "data": {
      "text/plain": [
       "0.0635558385627664"
      ]
     },
     "execution_count": 409,
     "metadata": {},
     "output_type": "execute_result"
    }
   ],
   "source": [
    "# N/kwatt\n",
    "\n",
    "10^5*( \\\n",
    " + f_superconductor * (cos(phi_l) + sin(phi_l)).n() + f_bad_conductor * (cos(phi_r) + sin(phi_r)).n() \\\n",
    " + t_super_conductor + t_bad_conductor \\\n",
    " - p_bad_conductor).n()/(W)"
   ]
  },
  {
   "cell_type": "markdown",
   "metadata": {},
   "source": [
    "Но есть вопрос\n",
    "\n",
    "Исходя например из результатов опытов С.Б. Каравашкина по исследованию токов Фуко в разных материалах\n",
    "\n",
    "https://sbkaravashkin.blogspot.com/2014/10/1.html\n",
    "\n",
    "https://sbkaravashkin.blogspot.com/2014/10/2.html, изменится ли в данном расчете сдвиг фаз между электрическим и магнитным полем?"
   ]
  },
  {
   "cell_type": "code",
   "execution_count": 410,
   "metadata": {},
   "outputs": [],
   "source": [
    "# Пусть сдвиг фаз \n",
    "\n",
    "phi = pi/64"
   ]
  },
  {
   "cell_type": "code",
   "execution_count": 411,
   "metadata": {},
   "outputs": [
    {
     "data": {
      "text/plain": [
       "0.00407510127185896"
      ]
     },
     "execution_count": 411,
     "metadata": {},
     "output_type": "execute_result"
    }
   ],
   "source": [
    "# N/kwatt\n",
    "\n",
    "10^5*( \\\n",
    " + f_superconductor + f_bad_conductor * (cos(phi) + sin(phi)).n() \\\n",
    " + t_super_conductor + t_bad_conductor \\\n",
    " - p_bad_conductor).n()/(W)"
   ]
  },
  {
   "cell_type": "code",
   "execution_count": null,
   "metadata": {},
   "outputs": [],
   "source": []
  },
  {
   "cell_type": "code",
   "execution_count": 396,
   "metadata": {},
   "outputs": [],
   "source": [
    "#Propulsion and Energy Forum\n",
    "#July 28-30, 2014, Cleveland, OH\n",
    "#50th AIAA/ASME/SAE/ASEE Joint Propulsion Conference\n",
    "#Anomalous Thrust Production from an RF Test Device\n",
    "#Measured on a Low-Thrust Torsion Pendulum\n",
    "#David A. Brady * , Harold G. White † , Paul March ‡ , James T. Lawrence § , and Frank J. Davies **\n",
    "#NASA Lyndon B. Johnson Space Center, Houston, Texas 77058\n",
    "\n",
    "\n",
    "#Tapered Cavity RF Evaluation and Testing, TE012 mode\n",
    "#Prior to the TM211 evaluations, COMSOL® analysis indicated that the TE012 was an effective thrust generation\n",
    "#mode for the tapered cavity thruster being evaluated, so this mode was explored early in the evaluation process.\n",
    "#Figure 22 shows a test run at the TE012 mode with an operating frequency of 1880.4 MHz. The measured quality\n",
    "#factor was ~22,000, with a COMSOL prediction of 21,817. The measured power applied to the test article was\n",
    "#measured to be 2.6 watts, and the (net) measured thrust was 55.4 micronewtons. With an input power of 2.6 watts,\n",
    "#correcting for the quality factor, the predicted thrust is 50 micronewtons. However, since the TE012 mode had\n",
    "#numerous other RF modes in very close proximity, it was impractical to repeatedly operate the system in this mode,\n",
    "#so the decision was made to evaluate the TM211 modes instead.\n",
    "\n",
    "#E. Tapered Cavity Testing: Summary of Results\n",
    "# Mode \n",
    "# Frequency (MHz)\n",
    "# Quality Factor, Q \n",
    "\n",
    "# Input Power (W) \n",
    "# Peak Thrust (μN) \n",
    "# Mean Thrust (μN) \n",
    "# Number of Test Runs\n",
    "# TM211 1932.6   7320  16.9  116.0   91.2  5\n",
    "# TM211 1936.7 18,100  16.7   54.1   50.1  2\n",
    "# TE012 1880.4 22,000   2.6   55.4   55.4  1\n",
    "\n",
    "# Harrington, Roger F. (1961). Time-Harmonic Electromagnetic Fields. McGraw-Hill. ISBN 9780070267459.\n",
    "\n",
    "# EEE TRANSACTIONS ON MICROWAVE THEORY AND TECHNIQUES, VOL. 54, NO. 4, APRIL 2006\n",
    "# Two-Resonator Method for Measurement of Dielectric Anisotropy in Multilayer SamplesPlamen I. Dankov, Member, IEEE\n",
    "# https://www.researchgate.net/publication/3131333_Two-resonator_method_for_measurement_of_dielectric_anisotropy_in_multilayer_samples"
   ]
  },
  {
   "cell_type": "code",
   "execution_count": 397,
   "metadata": {},
   "outputs": [],
   "source": [
    "# they have obtained\n",
    "# 0,005396449704142\n",
    "# 0,003\n",
    "# 0,0213076923076923\n",
    "# N/kwatt"
   ]
  },
  {
   "cell_type": "code",
   "execution_count": null,
   "metadata": {},
   "outputs": [],
   "source": []
  }
 ],
 "metadata": {
  "kernelspec": {
   "display_name": "SageMath 9.6.beta7",
   "language": "sage",
   "name": "sagemath"
  },
  "language_info": {
   "codemirror_mode": {
    "name": "ipython",
    "version": 3
   },
   "file_extension": ".py",
   "mimetype": "text/x-python",
   "name": "python",
   "nbconvert_exporter": "python",
   "pygments_lexer": "ipython3",
   "version": "3.10.3"
  }
 },
 "nbformat": 4,
 "nbformat_minor": 4
}
