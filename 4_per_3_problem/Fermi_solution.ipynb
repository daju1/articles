{
 "cells": [
  {
   "cell_type": "markdown",
   "id": "e55ea274",
   "metadata": {},
   "source": [
    "# Рассмотрим решение задачи номер 689 из Батыгина Топтыгина (издание 1962 года)\n",
    "\n",
    "\n",
    "Найти силу $\\vec{F}$, с которой заряженная симметричная частица действует сама на себя (сила самодействия) при ускоренном поступательном движении с малой скоростью $v << c$. Запаздывание и лоренцево сокращение не учитывать.\n",
    "Указание. Вычислить равнодействующую сил, приложенных к малым элементам $de$ заряда частицы, воспользовавшись лиенар-вихертовым выражением напряжённости поля (XII. 25)  \n",
    "\n",
    "Под этим выражением Батыгин Топтыгин приводят выражение\n",
    "\n",
    "$\\vec{E}\\left(\\vec{r},t\\right) = e \\frac{\\left(1-\\beta^2\\right) \\left(\\vec{n}-\\vec{v}/c \\right)}{\\left(1-\\vec{n}\\cdot\\vec{v}/c\\right)^3\\,R^2} + e \\frac{ \\vec{n} \\times \\left[ \\left( \\vec{n}-\\vec{v}/c\\right) \\times \\vec{a}\\right]}{c^2 \\left(1-\\vec{n} \\cdot \\vec{v}/c \\right)^3 \\,R }$\n",
    "\n",
    "$\\vec{n}=\\frac{\\vec{R}}{R}$ $\\beta=\\frac{v}{c}$\n",
    "\n",
    "на странице 433 Батыгин Топтыгин интегрируют\n",
    "\n",
    "$d\\vec{F} = - d e_2 d\\vec{E} = \\frac{de_1 de_2}{c^2 r} \\left[ \\vec{a} - \\vec{r}/r\\left( \\vec{r}/r \\cdot \\vec{a}\\right) \\right]$\n",
    "\n",
    "и приводят результат \n",
    "\n",
    "$m =\\frac{1}{{{c}^{^{2}}}}\\frac{4}{3}\\int\\frac{de_1\\,de_2}{r}$ (сгс)\n"
   ]
  },
  {
   "cell_type": "markdown",
   "id": "35d13aab",
   "metadata": {},
   "source": [
    "# Постановка задачи\n",
    "\n",
    "Пусть частица с заданным распределением объёмной плотности электрического заряда $\\rho \\left( r \\right)$ приобретает ускорение $\\overrightarrow{a}$ . Найти силу, действующую на распределённый в объёме электрический заряд этой частицы со стороны электрического поля самоиндукции.\n",
    "\n",
    "Для решения этой задачи выразим электрическое поле исходя из выражения потенциалов Лиенара Вихерта \\cite{LL2}, как известно, дифференцированием скалярного потенциала ЛВ по координатам точки наблюдения $\\overrightarrow{E_1} = - \\nabla\\varphi$ и дифференцированием векторного потенциала по времени $\\overrightarrow{E_2}=-\\frac{1}{c}\\frac{\\partial \\overrightarrow{A}}{\\partial t}$, где\n",
    "$\\varphi=\\frac{q}{{{R}^{*}}}$\n",
    "и\n",
    "$\\overrightarrow{A}=\\frac{\\overrightarrow{v}}{c}\\frac{q}{{{R}^{*}}}$\n",
    "где ${{R}^{*}}=\\left( R-\\frac{\\overrightarrow{v}\\cdot \\overrightarrow{R}}{c} \\right)$ - радиус Лиенара Вихерта.\n"
   ]
  },
  {
   "cell_type": "markdown",
   "id": "7d8ce7c0",
   "metadata": {},
   "source": [
    "\n",
    "Назовём первую компоненту $\\overrightarrow{E_1}$ электрического поля градиентным полем, а вторую компоненту $\\overrightarrow{E_1}$ электрическим полем индукции или самоиндукции\n",
    "\n",
    "\n",
    "Опуская громоздкие промежуточные выкладки \\cite{rustot}, для градиента по координатам наблюдения скалярного потенциала ЛВ можно привести\n",
    "$$\\nabla \\varphi =\\nabla \\frac{dq}{{{R}^{*}}}=-\\frac{dq}{{{R}^{*}}^{2}}\\left\\{ \\frac{\\overrightarrow{R}}{{{R}^{*}}}\\left( 1+\\frac{\\overrightarrow{a}\\cdot \\overrightarrow{R}}{{{c}^{2}}}-\\frac{\\overrightarrow{v}\\cdot \\overrightarrow{v}}{{{c}^{2}}} \\right)-\\frac{\\overrightarrow{v}}{c} \\right\\}$$\n",
    "\n",
    "А для производной по времени наблюдения векторного потенциала \n",
    "$$\\frac{1}{c}\\frac{\\partial }{\\partial t}\\overrightarrow{A}=\\frac{1}{c}\\frac{\\partial }{\\partial t}\\frac{dq\\overrightarrow{v}}{c{{R}^{*}}}=\\frac{dq}{{{R}^{*}}^{2}}\\left\\{ \\frac{\\overrightarrow{a}R}{{{c}^{2}}}-\\frac{\\overrightarrow{v}}{c}\\left( \\frac{R}{{{R}^{*}}}\\left( -1-\\frac{\\overrightarrow{a}\\cdot \\overrightarrow{R}}{{{c}^{2}}}+\\frac{\\overrightarrow{v}\\cdot \\overrightarrow{v}}{{{c}^{2}}} \\right)+1 \\right) \\right\\}$$\n"
   ]
  },
  {
   "cell_type": "markdown",
   "id": "0563e541",
   "metadata": {},
   "source": [
    "Суммарное электрическое поле\n",
    "%  $\\vec{E} = \\frac{q}{k^3}((\\vec{r}-\\frac{r}{c}\\vec{v})(1 + \\frac{\\vec{r}\\vec{a}}{c^2} - \\frac{v^2}{c^2}) - \\vec{a}\\frac{kr}{c^2})$\n",
    "% http://www.sciteclibrary.ru/cgi-bin/yabb2/YaBB.pl?num=1528093569/415\\#415\n",
    "\n",
    "$$\\vec{dE} = \\frac{dq}{{{R}^{*}}^{3}}\\left( \\left(\\vec{R}-\\frac{R}{c}\\vec{v} \\right) \\left(1 + \\frac{\\vec{R}\\vec{a}}{c^2} - \\frac{v^2}{c^2} \\right) - \\vec{a}\\frac{{R}^{*}R}{c^2} \\right)$$\n",
    "\n",
    "Градиентное электрическое поле\n",
    "$$\\overrightarrow{dE}_{1}=\\frac{dq}{{{R}^{*}}^{2}}\\left\\{ \\frac{\\overrightarrow{R}}{{{R}^{*}}}\\left( 1+\\frac{\\overrightarrow{a}\\cdot \\overrightarrow{R}}{{{c}^{2}}}-\\frac{\\overrightarrow{v}\\cdot \\overrightarrow{v}}{{{c}^{2}}} \\right)-\\frac{\\overrightarrow{v}}{c} \\right\\}$$\n"
   ]
  },
  {
   "cell_type": "markdown",
   "id": "d3fde069",
   "metadata": {},
   "source": [
    "Электрическое поле самоиндукции\n",
    "\n",
    "$$\\overrightarrow{dE}_{2}=\\frac{dq}{{{R}^{*}}^{2}}\\left\\{ \\frac{\\overrightarrow{v}}{c}\\left( \\frac{R}{{{R}^{*}}}\\left( \\frac{{{v}^{2}}}{{{c}^{2}}}-\\frac{\\overrightarrow{a}\\cdot \\overrightarrow{R}}{{{c}^{2}}}-1 \\right)+1 \\right)-\\frac{\\overrightarrow{a}R}{{{c}^{2}}} \\right\\}$$\n",
    "\n",
    "В системе СИ перед этим выражением появляется множитель $\\frac{1}{4\\pi {{\\varepsilon }_{0}}}=\\frac{{{\\mu }_{0}}{{c}^{2}}}{4\\pi }=\\frac{{{c}^{2}}}{{{10}^{7}}}$\n"
   ]
  },
  {
   "cell_type": "markdown",
   "id": "4cac4891",
   "metadata": {},
   "source": [
    "Направляя в сферической системе координат вектор ускорения вдоль оси $z$  запишем\n",
    "\n",
    "${{R}^{*}}=R-\\frac{v}{c}\\left( {{z}_{a}}-{{z}_{q}} \\right)=R-\\frac{v}{c}\\left( {{r}_{a}}\\cos \\left( {{\\theta }_{a}} \\right)-{{r}_{q}}\\cos \\left( {{\\theta }_{q}} \\right) \\right)$\n",
    "\n",
    "$$\\overrightarrow{a}\\cdot \\overrightarrow{R}=a\\left( {{z}_{a}}-{{z}_{q}} \\right)=a\\left( {{r}_{a}}\\cos \\left( {{\\theta }_{a}} \\right)-{{r}_{q}}\\cos \\left( {{\\theta }_{q}} \\right) \\right)$$\n",
    "\n",
    "Где следуя Тамму \\cite{tamm}, индексом $q$ обозначены координаты заряда, а индексом $a$ обозначены координаты точки наблюдения, находим поле в точке наблюдения путём интегрирования по объёму зарядов - источников\n",
    "\n",
    "$$\\overrightarrow{E}_{a}=\\int\\limits_{{{V}_{q}}}\n",
    "{\\left(\\frac{\\overrightarrow{dE}_{1}}{dq}+\\frac{\\overrightarrow{dE}_{2}}{dq}\\right)\\rho \\left( {{r}_{q}} \\right) }d{{V }_{q}}$$"
   ]
  },
  {
   "cell_type": "markdown",
   "id": "1d7994ac",
   "metadata": {},
   "source": [
    "Действующая на заряд со стороны электрических полей (градиентного и самоиндукции) инерционная сила равна интегралу по от проекции поля на ось $z$ по тому же объёму того же заряда, но который теперь уже можно навать пробным \n",
    "\n",
    "$${F}_{z}=\\int\\limits_{{{r}_{a}}}\\int\\limits_{{{\\varphi}_{a}}}\\int\\limits_{{{\\theta}_{a}}}{{E}_{z}\\rho \\left( {{r}_{a}} \\right){{r}_{a}}^{2}\\sin \\left( {{\\theta }_{a}} \\right)}\\ d{{\\theta }_{a}}d{{\\varphi }_{a}}d{{r}_{a}}$$\n",
    "\n",
    "\n",
    "Из приведенных формул видно, что сила инерции электромагнитной массы зависит от вида функции распределения плотности заряда в пространстве, а также от скорости и ускорения заряда."
   ]
  },
  {
   "cell_type": "markdown",
   "id": "8ea1311e",
   "metadata": {},
   "source": [
    "# Приближение малых скоростей без учёта запаздывания\n",
    "\n",
    "В приближении малых скоростей ${}^{v}/{}_{c}\\ll 1$  и малых ускорений $a{{r}_{0}}\\ll {{c}^{2}}$ и при игнорировании запаздывания\n",
    "\n",
    "\n",
    "Градиентное электрическое поле ($z$ компонента)\n",
    "$${E}_{1}=\n",
    "\\int\\limits_{{{r}_{q}}}\\int\\limits_{{{\\varphi}_{q}}}\\int\\limits_{{{\\theta}_{q}}}\n",
    "\\left\\{ \\frac{z_a-z_q}{{{R}_{0}}}\\left( 1+\\frac{a\\left( {{z}_{a}}-{{z}_{q}} \\right)}{c^2} \\right)\n",
    " \\right\\}\n",
    "\\frac{\\rho \\left( {{r}_{q}} \\right){{r}_{q}}^{2}\\sin \\left( {{\\theta }_{q}} \\right)}{{{R}_{0}}^{2}}\n",
    "d{{\\theta }_{q}}d{{\\varphi }_{q}}d{{r}_{q}}$$\n",
    "\n",
    "Электрическое поле самоиндукции ($z$ компонента)\n",
    "$${E}_{2}=\n",
    "\\int\\limits_{{{r}_{q}}}\\int\\limits_{{{\\varphi}_{q}}}\\int\\limits_{{{\\theta}_{q}}}\n",
    "{\\left\\{ -\\frac{{a_z}R_{0}}{{{c}^{2}}} \\right\\}\n",
    "\\frac{\\rho \\left( {{r}_{q}} \\right){{r}_{q}}^{2}\\sin \\left( {{\\theta }_{q}} \\right)}{{{R}_{0}}^{2}}\\ }d{{\\theta }_{q}}d{{\\varphi }_{q}}d{{r}_{q}}$$\n",
    "где ${R}_{0}$ расстояние от точки источника заряда к точке наблюдения без учёта запаздывания.\n"
   ]
  },
  {
   "cell_type": "markdown",
   "id": "b28fca23",
   "metadata": {},
   "source": [
    "Градиентное электрическое поле ${E}_{1}$ можно разложить на чисто кулоновское слагаемое ${E}_{1q}$ и слагаемое зависящее от ускорения ${E}_{1a}$\n",
    "\n",
    "${E}_{1} = {E}_{1q} + {E}_{1a}$\n",
    "\n",
    "$${E}_{1q}=\n",
    "\\int\\limits_{{{r}_{q}}}\\int\\limits_{{{\\varphi}_{q}}}\\int\\limits_{{{\\theta}_{q}}}\n",
    "\\left\\{ \\frac{z_a-z_q}{{{R}_{0}}}\n",
    " \\right\\}\n",
    "\\frac{\\rho \\left( {{r}_{q}} \\right){{r}_{q}}^{2}\\sin \\left( {{\\theta }_{q}} \\right)}{{{R}_{0}}^{2}}\n",
    "d{{\\theta }_{q}}d{{\\varphi }_{q}}d{{r}_{q}}$$\n",
    "\n",
    "$${E}_{1a}=\n",
    "\\int\\limits_{{{r}_{q}}}\\int\\limits_{{{\\varphi}_{q}}}\\int\\limits_{{{\\theta}_{q}}}\n",
    "\\left( \\frac{a\\left( {{z}_{a}}-{{z}_{q}} \\right)^2}{c^2} \\right)\n",
    "\\frac{\\rho \\left( {{r}_{q}} \\right){{r}_{q}}^{2}\\sin \\left( {{\\theta }_{q}} \\right)}{{{R}_{0}}^{3}}\n",
    "d{{\\theta }_{q}}d{{\\varphi }_{q}}d{{r}_{q}}$$\n",
    "\n",
    "\n",
    "Откуда\n",
    "\n",
    "${{F}_{1}}=\\frac{\\overrightarrow{a}}{{{c}^{^{2}}}}\\int\\limits_{{{V}_{a}}}{\\int\\limits_{{{V}_{q}}}{\\left( {{z}_{a}}-{{z}_{q}} \\right)^2\\frac{\\rho \\left( {{r}_{q}} \\right)\\rho \\left( {{r}_{a}} \\right)}{R_{0}^3}}}\\ d{{V}_{q}}d{{V}_{a}}$\n",
    "\n",
    "\n",
    "${{F}_{2}}=-\\frac{\\overrightarrow{a}}{{{c}^{^{2}}}}\\int\\limits_{{{V}_{a}}}{\\int\\limits_{{{V}_{q}}}{\\frac{\\rho \\left( {{r}_{q}} \\right)\\rho \\left( {{r}_{a}} \\right)}{R_{0}}}}\\ d{{V}_{q}}d{{V}_{a}}$\n"
   ]
  },
  {
   "cell_type": "markdown",
   "id": "d151834b",
   "metadata": {},
   "source": [
    "Сопоставляя с законами Ньютона для электромагнитной массы получаем выражение\n",
    "\n",
    "$m_1= - \\frac{1}{{{c}^{^{2}}}}\\int\\limits_{{{V}_{a}}}{\\int\\limits_{{{V}_{q}}}{\\left( {{r}_{a}}\\cos \\left( {{\\theta }_{a}} \\right)-{{r}_{q}}\\cos \\left( {{\\theta }_{q}} \\right) \\right)^2\\frac{\\rho \\left( {{r}_{q}} \\right)\\rho \\left( {{r}_{a}} \\right)}{R_{0}^3}}}\\ d{{V}_{q}}d{{V}_{a}}$\n",
    "\n",
    "\n",
    "$m_2=\\frac{1}{{{c}^{^{2}}}}\\int\\limits_{{{V}_{a}}}{\\int\\limits_{{{V}_{q}}}{\\frac{\\rho \\left( {{r}_{q}} \\right)\\rho \\left( {{r}_{a}} \\right)}{R_{0}}}}\\ d{{V}_{q}}d{{V}_{a}}$\n",
    "\n",
    " (в системе сгс)\n",
    " и соответственно\n",
    "\n",
    "$m_1= - \\frac{{{\\mu }_{0}}}{4\\pi } \\int\\limits_{{{V}_{a}}}{\\int\\limits_{{{V}_{q}}}{\\left( {{r}_{a}}\\cos \\left( {{\\theta }_{a}} \\right)-{{r}_{q}}\\cos \\left( {{\\theta }_{q}} \\right) \\right)^2\\frac{\\rho \\left( {{r}_{q}} \\right)\\rho \\left( {{r}_{a}} \\right)}{R_{0}^3}}}\\ d{{V}_{q}}d{{V}_{a}}$\n",
    "\n",
    "\n",
    " $m_2=\\frac{{{\\mu }_{0}}}{4\\pi }\\int\\limits_{{{V}_{a}}}{\\int\\limits_{{{V}_{q}}}{\\frac{\\rho \\left( {{r}_{q}} \\right)\\rho \\left( {{r}_{a}} \\right)}{R_{0}}}}\\ d{{V}_{q}}d{{V}_{a}}$ в системе СИ"
   ]
  },
  {
   "cell_type": "markdown",
   "id": "cef6ef52",
   "metadata": {},
   "source": [
    "Рассчитаем теперь электромагнитную массу равномерно заряженной сферы радиуса ${{r}_{0}}$\n",
    "\n",
    "Поскольку расстояние между координатами заряда и точки наблюдения ${{R}_{0}}=\\left|\\overrightarrow{r_{q}} - \\overrightarrow{r_{a}}\\right|$ находится в знаменателе, то в сферической системе координат можно применить разложение по сферическим гармоникам следующего вида  \\cite{flugge} если $\\left( {{r}_{q}}<{{r}_{a}} \\right)$ то\n",
    "\n",
    "$\\frac{1}{\\left| \\overrightarrow{{{r}_{q}}}-\\overrightarrow{{{r}_{a}}} \\right|}=\\frac{1}{{{r}_{a}}}\\sum\\limits_{l=0}^{\\infty }{{{\\left( \\frac{{{r}_{q}}}{{{r}_{a}}} \\right)}^{l}}{{P}_{l}} \\cos \\left( \\gamma  \\right)}$\n",
    "\n",
    "и если $\\left( {{r}_{a}}<{{r}_{q}} \\right)$ то\n",
    "\n",
    "$\\frac{1}{\\left| \\overrightarrow{{{r}_{q}}}-\\overrightarrow{{{r}_{a}}} \\right|}=\\frac{1}{{{r}_{q}}}\\sum\\limits_{l=0}^{\\infty }{{{\\left( \\frac{{{r}_{a}}}{{{r}_{q}}} \\right)}^{l}}{{P}_{l}} \\cos \\left( \\gamma  \\right)}$\n",
    "\n",
    "В данной формуле ${{P}_{l}} \\cos \\left( \\gamma  \\right)$ это полиномы Лежандра аргумент которых $\\gamma$ есть угол между векторами ${{r}_{q}}$  и ${{r}_{a}}$. Применяя формулу, известную как теорему сложения\n",
    "\n",
    "${{P}_{l}}\\cos \\left( \\gamma  \\right)=\\frac{4\\pi }{2l+1}\\sum\\limits_{m=-l}^{l}{Y_{l,m}^{*}\\left( {{\\theta }_{a}},{{\\varphi }_{a}} \\right)}\\ {{Y}_{l,m}}\\left( {{\\theta }_{q}},{{\\varphi }_{q}} \\right)$\n",
    "\n",
    "получаем способ аналитического вычисления интеграла индукционной компоненты инертной электромагнитной массы."
   ]
  },
  {
   "cell_type": "markdown",
   "id": "80e68243",
   "metadata": {},
   "source": [
    "Пусть заряд представляет собой сферу, равномерно заряженную по всему объёму тогда плотность заряда составит $\\rho \\left( r \\right)=\\frac{e}{{}^{4}/{}_{3}\\pi {{r}_{0}}^{3}}$\n",
    "\n",
    "Производя вычисления для интеграла градиентной компоненты электромагнитной массы получено значение\n",
    "\n",
    "$m_1 =\\frac{1}{{{c}^{^{2}}}}\\frac{2}{5}\\frac{e^2}{{{r}_{0}}}$ (сгс) и\n",
    "$m_1 =\\frac{{{\\mu }_{0}}}{4\\pi }\\frac{2}{5}\\frac{e^2}{{{r}_{0}}}$ (СИ)\n",
    "\n",
    "Производя вычисления для интеграла индукционной компоненты электромагнитной массы получено значение\n",
    "\n",
    "$m_2 =\\frac{1}{{{c}^{^{2}}}}\\frac{6}{5}\\frac{e^2}{{{r}_{0}}}$ (сгс) и\n",
    "$m_2 =\\frac{{{\\mu }_{0}}}{4\\pi }\\frac{6}{5}\\frac{e^2}{{{r}_{0}}}$ (СИ)\n"
   ]
  },
  {
   "cell_type": "markdown",
   "id": "f8af11ae",
   "metadata": {},
   "source": [
    "Пусть заряд представляет собой сферическую поверхность с равномерным поверхностным распределением заряда по поверхности сферы, равным $\\sigma=\\frac{e}{4\\pi {{r}_{0}}^{2}}$ тогда для вычисления индукционной компоненты инертной электромагнитной массы потребуется формула\n",
    "$m_2=\\frac{1}{{{c}^{^{2}}}}\\int\\limits_{{{S}_{a}}}{\\int\\limits_{{{S}_{q}}}{\\frac{\\sigma \\left( {{r}_{q}} \\right)\\sigma \\left( {{r}_{a}} \\right)}{R}}}\\ d{{S}_{q}}d{{S}_{a}}$\n",
    "\n",
    "Вычисления по которой дают следующий результат\n",
    "\n",
    "$m_2 =\\frac{1}{{{c}^{^{2}}}}\\frac{e^2}{{{r}_{0}}}$ (сгс) и\n",
    "$m_2 =\\frac{{{\\mu }_{0}}}{4\\pi }\\frac{e^2}{{{r}_{0}}}$ (СИ)"
   ]
  },
  {
   "cell_type": "markdown",
   "id": "f3a8f5b1",
   "metadata": {},
   "source": [
    "Тамм \\cite{tamm} для собственной электрической энергии заряженного шара радиуса $a$ находит $W=\\frac{e^2}{2a}$ если заряд распределён на поверхности шара и $W=\\frac{3e^2}{5a}$ если заряд распределён по всему объёму шара. Появление коэффициента $\\frac{1}{2}$  в формуле энергии системы зарядов Тамм объясняет тем, что \"в сумму энергия каждой пары зарядов входит дважды, так, например, в ней встретится как член ${e_{1}}{e_{1}}/{R_{12}}$ так и равный ему член ${e_{2}}{e_{1}}/{R_{21}}$\".\n",
    "\n",
    "Однако в задаче, рассмотренной в самом начале данной работы при нахождении силы, действующей на распределённый в объёме электрический заряд этой частицы со стороны электрического поля самоиндукции, подобные рассуждения неприменимы. Поскольку хотя и каждая пара зарядов $d{e}_{1}$ и $d{e}_{2}$ при совместном поступательном движении создаёт две одинаковые как по виду формулы, так и по значинию силы самоиндукции, они обе должны быть включены в общую электромагнитную инерцию, поскольку одна из них - это сила самоиндукции действующая на заряд $d{e}_{1}$  со стороны поля заряда $d{e}_{2}$, а вторая это сила самоиндукции действующая на заряд $d{e}_{2}$  со стороны поля заряда $d{e}_{1}$.\n",
    "\n",
    "Таким образом потенциальная энергия электростатического поля модели электрона в виде полой сферы\n",
    "${U}_{0} =\\frac{1}{2}\\frac{e^2}{{{r}_{0}}}$ (сгс)\n",
    "при том что индукционной компонента инертной массы электрона этой модели равна\n",
    "$m_2 =\\frac{1}{{{c}^{^{2}}}}\\frac{e^2}{{{r}_{0}}}$ (сгс).\n",
    "\n",
    "В любой другой модели потенциальная энергия электростатического поля заряженной частицы равна\n",
    "${U}_{0}=\\frac{1}{2}\\int\\limits_{{{V}_{a}}}{\\int\\limits_{{{V}_{q}}}{\\frac{\\rho \\left( {{r}_{q}} \\right)\\rho \\left( {{r}_{a}} \\right)}{R_{0}}}}\\ d{{V}_{q}}d{{V}_{a}}$ (сгс)\n",
    "тогда как индукционной компонента инертной массы\n",
    "$m=\\frac{1}{{{c}^{^{2}}}}\\int\\limits_{{{V}_{a}}}{\\int\\limits_{{{V}_{q}}}{\\frac{\\rho \\left( {{r}_{q}} \\right)\\rho \\left( {{r}_{a}} \\right)}{R_{0}}}}\\ d{{V}_{q}}d{{V}_{a}}$ (сгс)."
   ]
  },
  {
   "cell_type": "markdown",
   "id": "4f47341b",
   "metadata": {},
   "source": [
    "Электромагнитная масса равномерно заряженной сферы с общим зарадом $e$ и радиусом $r_0$ равна $\\frac{8}{5} \\frac{e^2}{r_0 c^2}$; если же заметить, что электростатическая энергия $u = \\frac{3}{5} \\frac{e^2}{r_0}$, то для массы находим как раз $\\left(\\frac{4}{3}\\right) 2 \\frac{u}{c^2}$.\n",
    "\n",
    "Русская википедия в статье \"Классический радиус электрона\"  на момент написания данной работы даёт следующее определение:\n",
    "\n",
    "Классический радиус электрона равен радиусу полой сферы, на которой равномерно распределён заряд, если этот заряд равен заряду электрона, а потенциальная энергия электростатического поля ${U}_{0}$ полностью эквивалентна половине массы электрона (без учета квантовых эффектов):\n",
    "\n",
    "${\\displaystyle U_{0}={\\frac {1}{2}}{\\frac {1}{4\\pi \\varepsilon _{0}}}\\cdot {\\frac {e^{2}}{r_{0}}}={\\frac {1}{2}}m_{0}c^{2}}$."
   ]
  },
  {
   "cell_type": "markdown",
   "id": "23a17794",
   "metadata": {},
   "source": [
    "# Решение проблемы 4/3\n",
    "\n",
    "\n",
    "Энрико Ферми в статье \\cite{Fermi1923} 1923 года, \n",
    "https://github.com/daju1/articles/blob/master/4_per_3_problem/references/%D0%A4%D0%B5%D1%80%D0%BC%D0%B823.pdf\n",
    "\n",
    "https://github.com/daju1/articles/blob/master/4_per_3_problem/Fermi1923.ipynb\n",
    "\n",
    "предлагает метод решения проблемы 4/3."
   ]
  },
  {
   "cell_type": "markdown",
   "id": "7427be8d",
   "metadata": {},
   "source": [
    "Применяя Гамильтонов метод с использованием аппарата теории относительности следующим образом: для вычисления действия нужно использовать переменные границы интегрирования для времени $t_1$ и $t_2$ Ферми приходит к соотношению (третья без номера формуле сверху на странице 80)\n",
    "\n",
    "$$\\int \\vec E^{(i)} de + \\int \\vec E^{(i)}\\frac{\\vec a \\vec R}{c^2} de + e \\vec E^{(e)} + \\int \\vec E^{(e)}\\frac{\\vec a \\vec R}{c^2} de = 0$$"
   ]
  },
  {
   "cell_type": "markdown",
   "id": "c46e1ee9",
   "metadata": {},
   "source": [
    "Первое, он находит возможным пренебречь последним интегралом.\n",
    "\n",
    "Второе. Он пишет, что $E^{(i)}$ это сумма сил Кулона и члена, содержащего ускорение. Действительно, чтобы получить для электромагнитной массы значение 4/3 нужно как например Батыгин и Топтыгин вычисляют инертную массу (в задаче 689 их задачника 1962 года издания), в качестве $E^{(i)}$ нужно взять поле по Лиенару Вихерту (при том что Батыгин и Топтыгин в этой задаче пренебрегают как запаздываение так и лоренцевым сокращением).\n",
    "\n",
    "Если в качестве $E^{(i)}$ взять просто лишь кулоновское поле, как это сделал Ферми вычисляя интеграл в соотношении (4), то это только лишь потому что он пренебрёг слагаемыми интеграла которые содержат квадрат ускорения.\n",
    "\n",
    "Давайте посмотрим насколько оправдано это пренебрежение.\n",
    "\n",
    "\n",
    "В приближении малых скоростей ${}^{v} \\big / {}_{c}\\ll 1$  и малых ускорений $a{{r}_{0}}\\ll {{c}^{2}}$ и при игнорировании запаздывания\n",
    "\n",
    "Градиентное электрическое поле ($z$ компонента)\n",
    "$${E}_{1}=\n",
    "\\int\\limits_{{{r}_{q}}}\\int\\limits_{{{\\varphi}_{q}}}\\int\\limits_{{{\\theta}_{q}}}\n",
    "\\left\\{ \\frac{z_a-z_q}{{{R}_{0}}^3}\\left( 1+\\frac{a_z\\left( {{z}_{a}}-{{z}_{q}} \\right)}{c^2} \\right)\n",
    " \\right\\}\n",
    "{\\rho \\left( {{r}_{q}} \\right){{r}_{q}}^{2}\\sin \\left( {{\\theta }_{q}} \\right)}\n",
    "d{{\\theta }_{q}}d{{\\varphi }_{q}}d{{r}_{q}}$$\n",
    "\n",
    "Электрическое поле самоиндукции ($z$ компонента)\n",
    "$${E}_{2}=\n",
    "\\int\\limits_{{{r}_{q}}}\\int\\limits_{{{\\varphi}_{q}}}\\int\\limits_{{{\\theta}_{q}}}\n",
    "{\\left\\{ -\\frac{{a_z}}{{{c}^{2}}{{{R}_{0}}}} \\right\\}\n",
    "{\\rho \\left( {{r}_{q}} \\right){{r}_{q}}^{2}\\sin \\left( {{\\theta }_{q}} \\right)}\\ }d{{\\theta }_{q}}d{{\\varphi }_{q}}d{{r}_{q}}$$\n",
    "где ${R}_{0}$ расстояние от точки источника заряда к точке наблюдения без учёта запаздывания.\n",
    "\n",
    "Записывая в обозначениях близких к работе Ферми, обозначая как ${E}^{(i)}$ поле, обусловленное самой системой\n",
    "\n",
    "$${E}^{(i)}={E}_{1}+{E}_{2}=\n",
    "\\int\\left\\{ \\frac{z_a-z_q}{{{R}_{0}}^3}+\\frac{a_z\\left( {{z}_{a}}-{{z}_{q}} \\right)^2}{c^2{{{R}_{0}}^3}} - \\frac{{a_z}}{{{c}^{2}}{{{R}_{0}}}}\n",
    "\\right\\} de'$$\n"
   ]
  },
  {
   "cell_type": "markdown",
   "id": "a574c01e",
   "metadata": {},
   "source": [
    "Вычисляя инертную массу электрона с помощью потенциалов ЛВ, получаем вслед за Батыгиным-Топтыгиным 4/3\n",
    "%https://github.com/daju1/articles/blob/master/sagemath/inertial_mass_of_charged_particle/About_inertial_properties_of_electromagnetic_mass.01.pdf\n",
    "\n",
    "\n",
    "$$\\int {E}^{(i)} de = \\int\\int \\left\\{ \\frac{z_a-z_q}{{{R}_{0}}^3}+\\frac{a_z\\left( {{z}_{a}}-{{z}_{q}} \\right)^2}{c^2{{{R}_{0}}^3}}  -\\frac{{a_z}}{{{c}^{2}}{{{R}_{0}}}}\n",
    " \\right\\}\n",
    "de de'$$\n",
    "\n",
    "для равномерно по всему объёму заряженной сферы\n",
    "\n",
    "$$\\int {E}^{(i)} de = \\left\\{ 0 - \\frac{2}{5}  - \\frac{6}{5} \\right\\}\\frac{a_z e^2}{ c^2{{{R}}}}$$\n",
    "\n",
    "Учитывая что для равномерно заряженной по всему объему сферы\n",
    "\n",
    "$$u = \\frac{3}{5}\\frac{e^2}{R}$$\n",
    "\n",
    "находим\n",
    "\n",
    "$$\\int {E}^{(i)} de = -\\frac{4}{3} \\cdot 2\\frac{u}{c^2}\\,a_z.$$"
   ]
  },
  {
   "cell_type": "markdown",
   "id": "cb843580",
   "metadata": {},
   "source": [
    "Соотношение (4) из работы Ферми, если записать его в современных обозначениях будет выглядеть так:\n",
    "\n",
    "$$-\\frac{4}{3}\\cdot 2 \\,\\frac{u}{c^2} \\, a_z + \\int \\vec E^{(i)}\\frac{\\vec a \\vec R}{c^2} de + \\vec F = 0$$\n"
   ]
  },
  {
   "cell_type": "markdown",
   "id": "25cbb8cd",
   "metadata": {},
   "source": [
    "Подставляя выражение для ${E}^{(i)}$\n",
    "\n",
    "$$-\\frac{4}{3}\\cdot 2 \\,\\frac{u}{c^2} \\, a_z + \\int \\int\n",
    "\\left\\{ \\frac{z_a-z_q}{{{R}_{0}}^3}+\\frac{a_z\\left( {{z}_{a}}-{{z}_{q}} \\right)^2}{c^2{{{R}_{0}}^3}}  -\\frac{{a_z}}{{{c}^{2}}{{{R}_{0}}}}\n",
    " \\right\\}\n",
    "de'\\frac{\\vec a \\vec R}{c^2} de + \\vec F = 0$$"
   ]
  },
  {
   "cell_type": "markdown",
   "id": "579e76d9",
   "metadata": {},
   "source": [
    "и учитывая, что ускорение имеет только лишь $z$ компоненту\n",
    "\n",
    "$$-\\frac{4}{3}\\cdot 2 \\,\\frac{u}{c^2} \\, a_z + \\int \\int\n",
    "\\left\\{ \\frac{z_a-z_q}{{{R}_{0}}^3}+\\frac{a_z\\left( {{z}_{a}}-{{z}_{q}} \\right)^2}{c^2{{{R}_{0}}^3}}  -\\frac{{a_z}}{{{c}^{2}}{{{R}_{0}}}}\n",
    " \\right\\}\n",
    "de'\\frac{a_z \\left(z_a-z_q\\right)}{c^2} de + \\vec F = 0$$\n",
    "\n",
    "\n",
    "$$-\\frac{4}{3}\\cdot 2 \\,\\frac{u}{c^2} \\, a_z + \\int \\int\n",
    "\\left\\{ \\frac{a_z\\left(z_a-z_q\\right)^2}{{c}^{2}{{R}_{0}}^3}+\\frac{a_z^2\\left( {{z}_{a}}-{{z}_{q}} \\right)^3}{c^4{{{R}_{0}}^3}}  -\\frac{{a_z^2}\\left(z_a-z_q\\right)}{{{c}^{4}}{{{R}_{0}}}}\n",
    " \\right\\}\n",
    "de' de + \\vec F = 0$$"
   ]
  },
  {
   "cell_type": "markdown",
   "id": "cdcadab8",
   "metadata": {},
   "source": [
    "Учитывая численное значение первого интеграла для равномерно заряженной по объёму сферы\n",
    "\n",
    "$$-\\frac{4}{3}\\cdot 2 \\,\\frac{u}{c^2} \\, a_z + \\frac{2}{5} \\frac{a_z e^2}{c^2{R}} + \\int \\int \\left\\{\n",
    "\\frac{a_z^2\\left( {{z}_{a}}-{{z}_{q}} \\right)^3}{c^4{{{R}_{0}}^3}}  -\\frac{{a_z^2}\\left(z_a-z_q\\right)}{{{c}^{4}}{{{R}_{0}}}}\n",
    " \\right\\}\n",
    "de' de + \\vec F = 0$$\n",
    "\n",
    "И подставляя значение электростатической энергии\n",
    "\n",
    "$$-\\frac{4}{3}\\cdot 2 \\,\\frac{u}{c^2} \\, a_z + \\frac{1}{3} \\cdot 2 \\, \\frac{u}{c^2} a_z + \\int \\int \\left\\{\n",
    "\\frac{a_z^2\\left( {{z}_{a}}-{{z}_{q}} \\right)^3}{c^4{{{R}_{0}}^3}}  -\\frac{{a_z^2}\\left(z_a-z_q\\right)}{{{c}^{4}}{{{R}_{0}}}}\n",
    " \\right\\}\n",
    "de' de + \\vec F = 0$$"
   ]
  },
  {
   "cell_type": "markdown",
   "id": "ebf0241d",
   "metadata": {},
   "source": [
    "Приходим к выражению \n",
    "\n",
    "$$\\vec F =  2 \\,\\frac{u}{c^2} \\, a_z - \\int \\int \\left\\{\n",
    "\\frac{a_z^2\\left( {{z}_{a}}-{{z}_{q}} \\right)^3}{c^4{{{R}_{0}}^3}}  -\\frac{{a_z^2}\\left(z_a-z_q\\right)}{{{c}^{4}}{{{R}_{0}}}}\n",
    " \\right\\} de' de.$$"
   ]
  },
  {
   "cell_type": "markdown",
   "id": "07dc9951",
   "metadata": {},
   "source": [
    "В этом выражении множитель 2 перед ${u}/{c^2}$ соответствует определению классического радиуса электрона из Википедии, который <i>\"равен радиусу заряженной сферы (на которой равномерно распределён заряд), если этот заряд равен заряду электрона, а потенциальная энергия электростатического поля $\\textbf{u}$ полностью эквивалентна <b>половине</b> массы электрона\"</i>."
   ]
  },
  {
   "cell_type": "markdown",
   "id": "f83e2f8a",
   "metadata": {},
   "source": [
    "Ферми показал дополнительный интеграл (равный -1/3), имеющий отрицательный знак, который нужно использовать чтобы решить проблему 4/3.\n",
    "\n",
    "Исходя из формализма ЛВ этот дополнительный интеграл Ферми как раз равен половине градиентного интеграла который возникает при решении задачи об инертной массе электрона методом ЛВ. А градиентный интеграл это интеграл поля $E_1$ в обозначениях текущей работы. Знак компоненты поля $E_1$, полученный в данной работе, отрицательный. Если увеличить, вслед за Ферми, величину градиентного интеграла $E_1$ (Ферми его увеличил в полтора раза), то можно получить отрицательный знак электрического импульса центрально симметричного взрыва плазмы, как это показано в публикации Менде.\n",
    "\n",
    "И таким образом все сходится. По крайней мере получается качественное сходство теории и практики.\n",
    "\n",
    "Но теперь возникает вопрос: как на практике для точного решения практических задач использовать потенциалы Лиенара Вихерта с учётом ${}^{4}/{}_{3}$ поправки Энрико Ферми?\n",
    "\n",
    "% Каждый раз вводить поправку увеличивая градиентную компоненту поля? Тогда как эта поправка должна выглядеть....\n",
    "\n",
    "Суммарное электрическое поле по Лиенару Вихерту\n",
    "\n",
    "$$\\vec{E} = \\frac{q}{{{R}^{*}}^{3}}\\left( \\left(\\vec{R}-\\frac{R}{c}\\vec{v} \\right) \\left(1 + \\frac{\\vec{R}\\vec{a}}{c^2} - \\frac{v^2}{c^2} \\right) - \\vec{a}\\,\\frac{{R}^{*}R}{c^2} \\right)$$\n",
    "\n",
    "получено в электродинамике (см. например ЛЛ2, $\"$Теория поля$\"$, параграф 63, формула (63,8)) исходя из вариации действия типа А, противоречащей принципу относительности. Но для того, чтобы получить поле, соответствующее вариации типа В, необходимо поле Лиенара Вихерта дополнить множителем Ферми $\\left(1 + \\frac{\\vec{R}\\vec{a}}{c^2}\\right)$, возникшим благодаря искривлению мировой трубки в 4-пространстве при движении заряда с ускорением.\n",
    "\n",
    "Таким образом, новая формула поля, назовём ее поле Лиенара-Вихерта-Ферми, имеет вид:\n",
    "\n",
    "$$\\vec{E} = \\frac{q}{{{R}^{*}}^{3}}\\left( \\left(\\vec{R}-\\frac{R}{c}\\vec{v} \\right) \\left(1 + \\frac{\\vec{R}\\vec{a}}{c^2} - \\frac{v^2}{c^2} \\right) - \\vec{a}\\,\\frac{{R}^{*}R}{c^2} \\right) \\left(1 + \\frac{\\vec{R}\\vec{a}}{c^2}\\right).$$\n",
    "\n",
    "\n",
    "Суммарное магнитное поле по Лиенару Вихерту:\n",
    "\n",
    "$$\\vec{B} = -\\frac{q}{{{R}^{*}}^3}\\left(\\vec{R}\\times\\frac{\\vec{v}}{c}\\left(1 + \\frac{\\vec{R}\\vec{a}}{c^2} - \\frac{v^2}{c^2}\\right) + \\vec{R}\\times\\frac{\\vec{a}{{R}^{*}}}{c^2}\\right).$$\n",
    "\n",
    "И, соответственно, новая формула магнитного поля Лиенара-Вихерта-Ферми, имеет вид:\n",
    "\n",
    "$$\\vec{B} = -\\frac{q}{{{R}^{*}}^3}\\left(\\vec{R}\\times\\frac{\\vec{v}}{c}\\left(1 + \\frac{\\vec{R}\\vec{a}}{c^2} - \\frac{v^2}{c^2}\\right) + \\vec{R}\\times\\frac{\\vec{a}{{R}^{*}}}{c^2}\\right) \\left(1 + \\frac{\\vec{R}\\vec{a}}{c^2}\\right).$$"
   ]
  },
  {
   "cell_type": "markdown",
   "id": "9e847db4",
   "metadata": {},
   "source": [
    "# Импульс поля движущегося заряда"
   ]
  },
  {
   "cell_type": "markdown",
   "id": "80e3cb7b",
   "metadata": {},
   "source": [
    "Импульс поля движущейся частицы\n",
    "\n",
    "$$\\vec G = \\int \\vec g \\, dV$$\n",
    "\n",
    "где $\\vec g = \\frac{1}{4 \\pi c} \\vec E \\times \\vec B$.\n",
    "\n",
    "Здесь электрическое поле по Лиенару Вихерту\n",
    "\n",
    "$$\\vec{E} = \\frac{q}{{{R}^{*}}^{3}}\\left( \\left(\\vec{R}-\\frac{R}{c}\\vec{v} \\right) \\left(1 + \\frac{\\vec{R}\\vec{a}}{c^2} - \\frac{v^2}{c^2} \\right) - \\vec{a}\\,\\frac{{R}^{*}R}{c^2} \\right),$$"
   ]
  },
  {
   "cell_type": "markdown",
   "id": "64da3404",
   "metadata": {},
   "source": [
    "или покомпонентно"
   ]
  },
  {
   "cell_type": "markdown",
   "id": "00f26abb",
   "metadata": {},
   "source": [
    "$${E_x} = \\frac{q}{{{R}^{*}}^{3}}\\left( \\left({R_x}-\\frac{R}{c}{v_x} \\right) \\left(1 + \\frac{\\vec{R}\\vec{a}}{c^2} - \\frac{v^2}{c^2} \\right) - {a_x}\\,\\frac{{R}^{*}R}{c^2} \\right),$$"
   ]
  },
  {
   "cell_type": "markdown",
   "id": "27617e6d",
   "metadata": {},
   "source": [
    "$${E_y} = \\frac{q}{{{R}^{*}}^{3}}\\left( \\left({R_y}-\\frac{R}{c}{v_y} \\right) \\left(1 + \\frac{\\vec{R}\\vec{a}}{c^2} - \\frac{v^2}{c^2} \\right) - {a_y}\\,\\frac{{R}^{*}R}{c^2} \\right),$$"
   ]
  },
  {
   "cell_type": "markdown",
   "id": "21116e70",
   "metadata": {},
   "source": [
    "$${E_z} = \\frac{q}{{{R}^{*}}^{3}}\\left( \\left({R_z}-\\frac{R}{c}{v_z} \\right) \\left(1 + \\frac{\\vec{R}\\vec{a}}{c^2} - \\frac{v^2}{c^2} \\right) - {a_z}\\,\\frac{{R}^{*}R}{c^2} \\right).$$"
   ]
  },
  {
   "cell_type": "markdown",
   "id": "a79ef5c9",
   "metadata": {},
   "source": [
    "магнитное поле по Лиенару Вихерту"
   ]
  },
  {
   "cell_type": "markdown",
   "id": "f0a299f3",
   "metadata": {},
   "source": [
    "$$\\vec{B} = -\\frac{q}{{{R}^{*}}^3}\\left(\\left(\\vec{R}\\times\\frac{\\vec{v}}{c}\\right)\\left(1 + \\frac{\\vec{R}\\vec{a}}{c^2} - \\frac{v^2}{c^2}\\right) + \\left(\\vec{R}\\times\\vec{a}\\right)\\frac{{{R}^{*}}}{c^2}\\right).$$"
   ]
  },
  {
   "cell_type": "markdown",
   "id": "2dd5a600",
   "metadata": {},
   "source": [
    "или покомпонентно"
   ]
  },
  {
   "cell_type": "markdown",
   "id": "1e9dc614",
   "metadata": {},
   "source": [
    "$${B_x} = -\\frac{q}{{{R}^{*}}^3}\\left(\\left(R_y\\,\\frac{v_z}{c} -  R_z\\,\\frac{v_y}{c}\\right)\\left(1 + \\frac{\\vec{R}\\vec{a}}{c^2} - \\frac{v^2}{c^2}\\right) + \\left(R_y\\,a_z -  R_z\\,a_y\\right)\\frac{{{R}^{*}}}{c^2}\\right),$$"
   ]
  },
  {
   "cell_type": "markdown",
   "id": "fd00ffb8",
   "metadata": {},
   "source": [
    "$${B_y} = -\\frac{q}{{{R}^{*}}^3}\\left(\\left(R_z\\,\\frac{v_x}{c} -  R_x\\,\\frac{v_z}{c}\\right)\\left(1 + \\frac{\\vec{R}\\vec{a}}{c^2} - \\frac{v^2}{c^2}\\right) + \\left(R_z\\,a_x -  R_x\\,a_z\\right)\\frac{{{R}^{*}}}{c^2}\\right),$$"
   ]
  },
  {
   "cell_type": "markdown",
   "id": "75c96ee4",
   "metadata": {},
   "source": [
    "$${B_z} = -\\frac{q}{{{R}^{*}}^3}\\left(\\left(R_x\\,\\frac{v_y}{c} -  R_y\\,\\frac{v_x}{c}\\right)\\left(1 + \\frac{\\vec{R}\\vec{a}}{c^2} - \\frac{v^2}{c^2}\\right) + \\left(R_x\\,a_y -  R_y\\,a_x\\right)\\frac{{{R}^{*}}}{c^2}\\right).$$"
   ]
  },
  {
   "cell_type": "markdown",
   "id": "5c9b4c08",
   "metadata": {},
   "source": [
    "Если ускорение равно нулю"
   ]
  },
  {
   "cell_type": "markdown",
   "id": "8e171e37",
   "metadata": {},
   "source": [
    "\n",
    "$$\\vec{E} = \\frac{q}{{{R}^{*}}^{3}}\\left( \\left(\\vec{R}-\\frac{R}{c}\\vec{v} \\right) \\left(1 - \\frac{v^2}{c^2} \\right) \\right),$$\n"
   ]
  },
  {
   "cell_type": "markdown",
   "id": "99e96366",
   "metadata": {},
   "source": [
    "$$\\vec{B} = -\\frac{q}{{{R}^{*}}^3}\\left(\\left(\\vec{R}\\times\\frac{\\vec{v}}{c}\\right)\\left(1 - \\frac{v^2}{c^2}\\right) \\right).$$"
   ]
  },
  {
   "cell_type": "markdown",
   "id": "2ac82c66",
   "metadata": {},
   "source": [
    "$${B_x} = -\\frac{q}{{{R}^{*}}^3}\\left(\\left(R_y\\,\\frac{v_z}{c} -  R_z\\,\\frac{v_y}{c}\\right)\\left(1 - \\frac{v^2}{c^2}\\right)\\right),$$"
   ]
  },
  {
   "cell_type": "markdown",
   "id": "010692a9",
   "metadata": {},
   "source": [
    "$${B_y} = -\\frac{q}{{{R}^{*}}^3}\\left(\\left(R_z\\,\\frac{v_x}{c} -  R_x\\,\\frac{v_z}{c}\\right)\\left(1 - \\frac{v^2}{c^2}\\right) \\right),$$"
   ]
  },
  {
   "cell_type": "markdown",
   "id": "06708fa7",
   "metadata": {},
   "source": [
    "$${B_z} = -\\frac{q}{{{R}^{*}}^3}\\left(\\left(R_x\\,\\frac{v_y}{c} -  R_y\\,\\frac{v_x}{c}\\right)\\left(1 - \\frac{v^2}{c^2}\\right) \\right).$$"
   ]
  },
  {
   "cell_type": "markdown",
   "id": "df2c0284",
   "metadata": {},
   "source": [
    "$${q_z} = \\frac{1}{4 \\pi c} \\left(E_x\\,{B_y} -  E_y\\,{B_x}\\right).$$"
   ]
  },
  {
   "cell_type": "markdown",
   "id": "176db1e2",
   "metadata": {},
   "source": [
    "Если скорость имеет только лишь $z$ компоненту"
   ]
  },
  {
   "cell_type": "markdown",
   "id": "64ffd528",
   "metadata": {},
   "source": [
    "$${E_x} = \\frac{q}{{{R}^{*}}^{3}}\\left( {R_x} \\left(1 - \\frac{v^2}{c^2} \\right) \\right),$$"
   ]
  },
  {
   "cell_type": "markdown",
   "id": "33c05729",
   "metadata": {},
   "source": [
    "$${E_y} = \\frac{q}{{{R}^{*}}^{3}}\\left( {R_y} \\left(1 - \\frac{v^2}{c^2} \\right) \\right),$$"
   ]
  },
  {
   "cell_type": "markdown",
   "id": "93fa3b88",
   "metadata": {},
   "source": [
    "$${B_x} = -\\frac{q}{{{R}^{*}}^3}\\left(R_y\\,\\frac{v_z}{c} \\left(1 - \\frac{v^2}{c^2}\\right)\\right),$$"
   ]
  },
  {
   "cell_type": "markdown",
   "id": "287e18b0",
   "metadata": {},
   "source": [
    "$${B_y} = +\\frac{q}{{{R}^{*}}^3}\\left(R_x\\,\\frac{v_z}{c}\\left(1 - \\frac{v^2}{c^2}\\right) \\right),$$"
   ]
  },
  {
   "cell_type": "code",
   "execution_count": null,
   "id": "019c1577",
   "metadata": {},
   "outputs": [],
   "source": []
  },
  {
   "cell_type": "markdown",
   "id": "90bac150",
   "metadata": {},
   "source": [
    "$${q_z} = \\frac{1}{4 \\pi c} \\left(E_x\\,{B_y} -  E_y\\,{B_x}\\right).$$"
   ]
  },
  {
   "cell_type": "markdown",
   "id": "4ab59413",
   "metadata": {},
   "source": [
    "$${q_z} = \\frac{1}{4 \\pi c} \\left(\\frac{q}{{{R}^{*}}^{3}}\\left( {R_x} \\left(1 - \\frac{v^2}{c^2} \\right) \\right)\\,\\frac{q}{{{R}^{*}}^3}\\left(R_x\\,\\frac{v_z}{c}\\left(1 - \\frac{v^2}{c^2}\\right) \\right) + \\frac{q}{{{R}^{*}}^{3}}\\left( {R_y} \\left(1 - \\frac{v^2}{c^2} \\right) \\right)\\,\\frac{q}{{{R}^{*}}^3}\\left(R_y\\,\\frac{v_z}{c} \\left(1 - \\frac{v^2}{c^2}\\right)\\right)\\right).$$"
   ]
  },
  {
   "cell_type": "markdown",
   "id": "434dfdc2",
   "metadata": {},
   "source": [
    "$${q_z} = \\frac{1}{4 \\pi c}\\frac{q^2}{{{R}^{*}}^{6}} \\left(1 - \\frac{v^2}{c^2} \\right)^2\n",
    "\\left({R_x}^2 + {R_y}^2 \\right)\\frac{v_z}{c}.$$"
   ]
  },
  {
   "cell_type": "markdown",
   "id": "f55d2108",
   "metadata": {},
   "source": [
    "$${q_z} = \\frac{1}{4 \\pi c} \\left(E_x^2 + E_y^2\\right)\\frac{v_z}{c}.$$"
   ]
  },
  {
   "cell_type": "markdown",
   "id": "2e46cf33",
   "metadata": {},
   "source": [
    "Импульс поля движущейся частицы\n",
    "\n",
    "$$G_z = \\int g_z \\, dV = \\frac{v_z}{4 \\pi c^2} \\int \\left(E_x^2 + E_y^2\\right) = \\frac{v_z}{4 \\pi c^2} \\frac{2}{3}\\int \\left(E_x^2 + E_y^2 + E_z^2\\right) = \\frac{v_z}{4 \\pi c^2} \\frac{2}{3}\\int E^2 dV$$"
   ]
  },
  {
   "cell_type": "code",
   "execution_count": null,
   "id": "a502322c",
   "metadata": {},
   "outputs": [],
   "source": []
  },
  {
   "cell_type": "code",
   "execution_count": null,
   "id": "733e56f3",
   "metadata": {},
   "outputs": [],
   "source": []
  },
  {
   "cell_type": "markdown",
   "id": "84a5b1d7",
   "metadata": {},
   "source": [
    "\\bibitem{rustot}\n",
    "\\textit{Re: Как запаздывающий Лиенар-Вихерт становится \"незапаздывающим\". Визуализация}\n",
    "\\\\\\texttt{http://www.sciteclibrary.ru/cgi-bin/yabb2/YaBB.pl?num=1528093569/330\\#330}\n",
    "\n",
    "\\bibitem{Tamm1957}\n",
    "\\textit{Тамм, И. (1957). Основы теории электричества. Москва.}\n",
    "\n",
    "\\bibitem{Fermi1923}\n",
    "\\textit{Ферми, Энрико. (1923). Разрешение существующего противоречия между электродинамической и релятивистской теориями электромагнитной массы. Энрико Ферми, т.1 стр. 73}\n",
    "\n"
   ]
  },
  {
   "cell_type": "code",
   "execution_count": null,
   "id": "cbaaabc6",
   "metadata": {},
   "outputs": [],
   "source": []
  }
 ],
 "metadata": {
  "kernelspec": {
   "display_name": "SageMath 9.6.beta7",
   "language": "sage",
   "name": "sagemath"
  },
  "language_info": {
   "codemirror_mode": {
    "name": "ipython",
    "version": 3
   },
   "file_extension": ".py",
   "mimetype": "text/x-python",
   "name": "python",
   "nbconvert_exporter": "python",
   "pygments_lexer": "ipython3",
   "version": "3.10.3"
  }
 },
 "nbformat": 4,
 "nbformat_minor": 5
}
