{
 "cells": [
  {
   "cell_type": "markdown",
   "metadata": {},
   "source": [
    "https://www.dwc.knaw.nl/DL/publications/PU00018547.pdf\n",
    "\n",
    "Mathematics. - On the force to perfectly conducting honeycomb on a plates. By A. Ju. Drozdov\n",
    "\n",
    "(Feb 14. 2021.) "
   ]
  },
  {
   "cell_type": "markdown",
   "metadata": {},
   "source": [
    "Let us consider a cubic cavity of volume $L^3$ bounded by perfectly conducting walls and let a perfectly conducting square plate with side $L$ be\n",
    "placed in this cavity parallel to the $xy$ face and let us compare the\n",
    "situation in whieh this plate is at a very large, say $L/2$ distance a from the $xy$ face. \n",
    "\n",
    "One side of this perfectly conducting square plate is a pure plane and other is covered by perfectly conducting honeycomb.\n",
    "\n",
    "On both sided of the the plate\n",
    "expressions $\\frac{1}{2}\\sum\\,\\hbar\\omega$ where the summation extends over all possible\n",
    "resonance frequencies of the cavity $L/2\\times L\\times L$ (large cavity beetween pure plane and $xy$ face) and the cavity $L/2\\times a\\times a$ (small cavity, one honeycomb) are divergent and devoid of physical\n",
    "meaning but the difference between these sums on the opposite sides,\n",
    "$\\frac{1}{2\\,V_{I}}\\left(\\sum\\,\\,\\hbar\\omega\\right)_{I} - \\frac{1}{2\\,V_{II}}\\left(\\sum\\,\\,\\hbar\\omega\\right)_{II}$, will be shown to have a weIl defined value and this\n",
    "value will be interpreted as the interaction between the plate and the both\n",
    "$xy$ faces."
   ]
  },
  {
   "cell_type": "markdown",
   "metadata": {},
   "source": [
    "The possible vibrations of the cavities defined by "
   ]
  },
  {
   "cell_type": "markdown",
   "metadata": {},
   "source": [
    "$0<=x<=L$, $0<=y<=L$, $0<=z<=L/2$ (large cavity beetween pure plane and $xy$ face)"
   ]
  },
  {
   "cell_type": "markdown",
   "metadata": {},
   "source": [
    "and"
   ]
  },
  {
   "cell_type": "markdown",
   "metadata": {},
   "source": [
    "$0<=x<=a$, $0<=y<=a$, $0<=z<=L/2$ (small cavity, one honeycomb)"
   ]
  },
  {
   "cell_type": "markdown",
   "metadata": {},
   "source": [
    "have wave numbers "
   ]
  },
  {
   "cell_type": "markdown",
   "metadata": {},
   "source": [
    "$k_x = \\frac{\\pi}{L}\\,n_x$, $k_y = \\frac{\\pi}{L}\\,n_y$, $k_z = \\frac{\\pi}{L/2}\\,n_z$ (large cavity beetween pure plane and $xy$ face),"
   ]
  },
  {
   "cell_type": "markdown",
   "metadata": {},
   "source": [
    "and"
   ]
  },
  {
   "cell_type": "markdown",
   "metadata": {},
   "source": [
    "$k_x = \\frac{\\pi}{a}\\,n_x$, $k_y = \\frac{\\pi}{a}\\,n_y$, $k_z = \\frac{\\pi}{L/2}\\,n_z$ (small cavity, one honeycomb),\n",
    "\n",
    "where $n_x$. $n_y$, $n_z$:\n",
    "\n",
    "are positive integers;"
   ]
  },
  {
   "cell_type": "markdown",
   "metadata": {},
   "source": [
    "$k = \\sqrt{k_x^2+k_y^2+k_z^2} = \\sqrt{\\kappa^2+k_z^2}$. "
   ]
  },
  {
   "cell_type": "markdown",
   "metadata": {},
   "source": [
    "$E = \\frac{1}{2}\\sum\\,\\hbar\\omega = \\hbar\\,c\\frac{1}{2}\\sum\\limits_{n_x}^{}\\sum\\limits_{n_y}^{}\\sum\\limits_{n_z}^{}k$"
   ]
  },
  {
   "cell_type": "markdown",
   "metadata": {},
   "source": [
    "To every $k_x$, $k_y$, $k_z$ correspond two standing waves unless one of the $n_i$\n",
    "is zero, when there is only one."
   ]
  },
  {
   "cell_type": "markdown",
   "metadata": {},
   "source": [
    "In case of one honeycomb cavity for $k_z$ this is without importance since\n",
    "for very large $L/2$ we may regard $k_z$ as continuous variable. Thus we\n",
    "find "
   ]
  },
  {
   "cell_type": "markdown",
   "metadata": {},
   "source": [
    "$\\frac{1}{2}\\sum\\,\\hbar\\omega = \\hbar\\,c\\frac{1}{2}\\int\\limits_{0}^{\\infty}\\left[{\\sqrt{k_z^2}+2\\sum\\limits_{n_x=1}^{\\infty}\\sum\\limits_{n_y=1}^{\\infty}\\sqrt{n_x^2\\frac{\\pi^2}{a^2}+n_y^2\\frac{\\pi^2}{a^2}+k_z^2}}\\right]d{n_z}$  (small cavity, one honeycomb),"
   ]
  },
  {
   "cell_type": "markdown",
   "metadata": {},
   "source": [
    "$dn_z = \\frac{L/2}{\\pi}\\,dk_z$,"
   ]
  },
  {
   "cell_type": "markdown",
   "metadata": {},
   "source": [
    "$\\frac{1}{2\\,V}\\sum\\,\\hbar\\omega = \\frac{1}{a^2\\,L/2}\\hbar\\,c\\frac{1}{2}\\int\\limits_{0}^{\\infty}\\left[{\\sqrt{k_z^2}+2\\sum\\limits_{n_x=1}^{\\infty}\\sum\\limits_{n_y=1}^{\\infty}\\sqrt{n_x^2\\frac{\\pi^2}{a^2}+n_y^2\\frac{\\pi^2}{a^2}+k_z^2}}\\right]\\frac{L/2}{\\pi}\\,dk_z$  (small cavity, one honeycomb),"
   ]
  },
  {
   "cell_type": "markdown",
   "metadata": {},
   "source": [
    "$\\frac{1}{2\\,V}\\sum\\,\\hbar\\omega = \\frac{1}{a^2\\,\\pi}\\hbar\\,c\\int\\limits_{0}^{\\infty}\\left[{\\frac{1}{2}\\sqrt{k_z^2}+\\sum\\limits_{n_x=1}^{\\infty}\\sum\\limits_{n_y=1}^{\\infty}\\sqrt{n_x^2\\frac{\\pi^2}{a^2}+n_y^2\\frac{\\pi^2}{a^2}+k_z^2}}\\right]\\,dk_z$  (small cavity, one honeycomb),"
   ]
  },
  {
   "cell_type": "markdown",
   "metadata": {},
   "source": [
    "$\\frac{1}{2\\,V}\\sum\\,\\hbar\\omega = \\frac{1}{a^2\\,\\pi}\\hbar\\,c\\int\\limits_{0}^{\\infty}\\left[{\\sum\\limits_{n_x=(0)1}^{\\infty}\\sum\\limits_{n_y=(0)1}^{\\infty}\\sqrt{n_x^2\\frac{\\pi^2}{a^2}+n_y^2\\frac{\\pi^2}{a^2}+k_z^2}}\\right]\\,dk_z$  (small cavity, one honeycomb),"
   ]
  },
  {
   "cell_type": "markdown",
   "metadata": {},
   "source": [
    "where the notation $\\left(0\\right) 1$ is meant to indicate that the term with $n = 0$\n",
    "has to be multiplied by $\\frac{1}{2}$. "
   ]
  },
  {
   "cell_type": "markdown",
   "metadata": {},
   "source": [
    "$\\frac{1}{2\\,V}\\sum\\,\\hbar\\omega = \\frac{1}{a^2\\,\\pi}\\hbar\\,c\\sum\\limits_{n_x=(0)1}^{\\infty}\\sum\\limits_{n_y=(0)1}^{\\infty}\\left[\\int\\limits_{0}^{\\infty}\\sqrt{n_x^2\\frac{\\pi^2}{a^2}+n_y^2\\frac{\\pi^2}{a^2}+k_z^2}\\,dk_z\\right]$  (small cavity, one honeycomb),"
   ]
  },
  {
   "cell_type": "code",
   "execution_count": null,
   "metadata": {},
   "outputs": [],
   "source": []
  },
  {
   "cell_type": "markdown",
   "metadata": {},
   "source": [
    "And in case of large cavity for $k_x$, $k_y$ this is without importance since\n",
    "for very large $L$ we may regard $k_x$, $k_y$ as continuous variables. Thus we\n",
    "find "
   ]
  },
  {
   "cell_type": "markdown",
   "metadata": {},
   "source": [
    "$\\frac{1}{2}\\sum\\,\\hbar\\omega = \\hbar\\,c\\frac{1}{2}\\int\\limits_{0}^{\\infty}\\int\\limits_{0}^{\\infty}\\left[{\\sqrt{k_x^2+k_y^2}+2\\sum\\limits_{n_z=1}^{\\infty}\\sqrt{n_z^2\\frac{\\pi^2}{(L/2)^2}+k_x^2+k_y^2}}\\right]d{n_x}d{n_y}$ (large cavity beetween pure plane and $xy$ face),"
   ]
  },
  {
   "cell_type": "markdown",
   "metadata": {},
   "source": [
    "For very large $L/2$ also this last summation may\n",
    "be replaced by an integral and it is therefore easily seen that our interaction energy is given by "
   ]
  },
  {
   "cell_type": "markdown",
   "metadata": {},
   "source": [
    "$\\frac{1}{2}\\sum\\,\\hbar\\omega = \\hbar\\,c\\int\\limits_{0}^{\\infty}\\int\\limits_{0}^{\\infty}\\int\\limits_{0}^{\\infty}\\sqrt{k_z^2+k_x^2+k_y^2}\\,d{n_x}\\,d{n_y}\\,d{n_z}$ (large cavity beetween pure plane and $xy$ face),"
   ]
  },
  {
   "cell_type": "markdown",
   "metadata": {},
   "source": [
    "$dn_x = \\frac{L}{\\pi}\\,dk_x$, $dn_y = \\frac{L}{\\pi}\\,dk_y$, $dn_z = \\frac{L/2}{\\pi}\\,dk_z$,"
   ]
  },
  {
   "cell_type": "markdown",
   "metadata": {},
   "source": [
    "$\\frac{1}{2\\,V}\\sum\\,\\hbar\\omega = \\frac{1}{L^3/2}\\hbar\\,c\\int\\limits_{0}^{\\infty}\\int\\limits_{0}^{\\infty}\\int\\limits_{0}^{\\infty}\\sqrt{k_z^2+k_x^2+k_y^2}\\,dn_x\\,dn_y\\,\\frac{L/2}{\\pi}\\,dk_z$ (large cavity beetween pure plane and $xy$ face),"
   ]
  },
  {
   "cell_type": "markdown",
   "metadata": {},
   "source": [
    "$\\frac{1}{2\\,V}\\sum\\,\\hbar\\omega = \\frac{1}{L^2\\,\\pi}\\hbar\\,c\\int\\limits_{0}^{\\infty}\\int\\limits_{0}^{\\infty}\\left[\\,\\int\\limits_{0}^{\\infty}\\sqrt{k_z^2+k_x^2+k_y^2}\\,dk_z\\right]\\,dn_x\\,dn_y$ (large cavity beetween pure plane and $xy$ face),"
   ]
  },
  {
   "cell_type": "code",
   "execution_count": null,
   "metadata": {},
   "outputs": [],
   "source": []
  },
  {
   "cell_type": "markdown",
   "metadata": {},
   "source": [
    "$\\frac{1}{2\\,V}\\sum\\,\\hbar\\omega = \\frac{1}{a^2\\,\\pi}\\hbar\\,c\\sum\\limits_{n_x=(0)1}^{\\infty}\\sum\\limits_{n_y=(0)1}^{\\infty}\\left[\\,\\int\\limits_{0}^{\\infty}\\sqrt{n_x^2\\frac{\\pi^2}{a^2}+n_y^2\\frac{\\pi^2}{a^2}+k_z^2}\\,dk_z\\right]$  (small cavity, one honeycomb),"
   ]
  },
  {
   "cell_type": "markdown",
   "metadata": {},
   "source": [
    "$\\frac{1}{2\\,V}\\sum\\,\\hbar\\omega = \\frac{1}{L^2\\,\\pi}\\hbar\\,c\\int\\limits_{0}^{\\infty}\\int\\limits_{0}^{\\infty}\\left[\\,\\int\\limits_{0}^{\\infty}\\sqrt{k_x^2+k_y^2+k_z^2}\\,dk_z\\right]\\,dn_x\\,dn_y$ (large cavity beetween pure plane and $xy$ face),"
   ]
  },
  {
   "cell_type": "markdown",
   "metadata": {},
   "source": [
    "$\\frac{1}{2\\,V}\\sum\\,\\hbar\\omega = \\frac{1}{L^2\\,\\pi}\\hbar\\,c\\int\\limits_{0}^{\\infty}\\int\\limits_{0}^{\\infty}\\left[\\,\\int\\limits_{0}^{\\infty}\\sqrt{k_x^2+k_y^2+k_z^2}\\,dk_z\\right]\\,\\left(\\frac{L}{\\pi}dk_x\\right)\\,\\left(\\frac{L}{\\pi}dk_y\\right)$ (large cavity beetween pure plane and $xy$ face),"
   ]
  },
  {
   "cell_type": "markdown",
   "metadata": {},
   "source": [
    "$\\frac{a^2}{2\\,V}\\sum\\,\\hbar\\omega = \\frac{1}{\\pi}\\hbar\\,c\\int\\limits_{0}^{\\infty}\\int\\limits_{0}^{\\infty}\\left[\\,\\int\\limits_{0}^{\\infty}\\sqrt{k_x^2+k_y^2+k_z^2}\\,dk_z\\right]\\,\\left(\\frac{a}{\\pi}dk_x\\right)\\,\\left(\\frac{a}{\\pi}dk_y\\right)$ (large cavity beetween pure plane and $xy$ face),"
   ]
  },
  {
   "cell_type": "markdown",
   "metadata": {},
   "source": [
    "$\\frac{1}{2\\,V}\\sum\\,\\hbar\\omega = \\frac{1}{a^2\\,\\pi}\\hbar\\,c\\int\\limits_{0}^{\\infty}\\int\\limits_{0}^{\\infty}\\left[\\,\\int\\limits_{0}^{\\infty}\\sqrt{k_x^2+k_y^2+k_z^2}\\,dk_z\\right]\\,\\left(\\frac{a}{\\pi}dk_x\\right)\\,\\left(\\frac{a}{\\pi}dk_y\\right)$ (large cavity beetween pure plane and $xy$ face),"
   ]
  },
  {
   "cell_type": "markdown",
   "metadata": {},
   "source": [
    "it is therefore easily seen that our interaction energy is given by "
   ]
  },
  {
   "cell_type": "markdown",
   "metadata": {},
   "source": [
    "$\\delta\\,\\frac{E}{V} = \\frac{1}{a^2\\,\\pi}\\hbar\\,c\\left\\{\\sum\\limits_{n_x=(0)1}^{\\infty}\\sum\\limits_{n_y=(0)1}^{\\infty}\\left[\\,\\int\\limits_{0}^{\\infty}\\sqrt{n_x^2\\frac{\\pi^2}{a^2}+n_y^2\\frac{\\pi^2}{a^2}+k_z^2}\\,dk_z\\right] - \\int\\limits_{0}^{\\infty}\\int\\limits_{0}^{\\infty}\\left[\\,\\int\\limits_{0}^{\\infty}\\sqrt{k_x^2+k_y^2+k_z^2}\\,dk_z\\right]\\,\\left(\\frac{a}{\\pi}dk_x\\right)\\,\\left(\\frac{a}{\\pi}dk_y\\right)\\right\\}$"
   ]
  },
  {
   "cell_type": "markdown",
   "metadata": {},
   "source": [
    "$\\delta\\,\\frac{E}{V} = \\frac{1}{a^2\\,\\pi}\\hbar\\,c\\left\\{\\sum\\limits_{n_x=(0)1}^{\\infty}\\sum\\limits_{n_y=(0)1}^{\\infty}\\left[\\,\\int\\limits_{0}^{\\infty}\\sqrt{n_x^2\\frac{\\pi^2}{a^2}+n_y^2\\frac{\\pi^2}{a^2}+k_z^2}\\,dk_z\\right] - \\int\\limits_{0}^{\\infty}\\int\\limits_{0}^{\\infty}\\left[\\,\\int\\limits_{0}^{\\infty}\\sqrt{k_x^2+k_y^2+k_z^2}\\,dk_z\\right]\\,dn_x\\,dn_y\\right\\}$"
   ]
  },
  {
   "cell_type": "code",
   "execution_count": null,
   "metadata": {},
   "outputs": [],
   "source": []
  },
  {
   "cell_type": "markdown",
   "metadata": {},
   "source": [
    "${\\left(\\frac{E}{V}\\right)_{small\\,cavity} = \\frac{1}{a^2}\\hbar \\, \\sum\\limits_{n_x=(0)1}^{\\infty}\\sum\\limits_{n_y=(0)1}^{\\infty}\\,\\int\\limits_{0}^{\\infty} {\\frac {dk_{z}}{\\pi}}\\omega _{n_x,n_y}.}$"
   ]
  },
  {
   "cell_type": "markdown",
   "metadata": {},
   "source": [
    "This expression is clearly infinite, and to proceed with the calculation, it is convenient to introduce a regulator (discussed in greater detail below)."
   ]
  },
  {
   "cell_type": "markdown",
   "metadata": {},
   "source": [
    "In order to obtain a finite result it is necessary to multiply the integrands\n",
    "by a function $f(k/k_m)$ which is unity for $k << k_m$ but tends to zero sufficiently rapidly for $(k/k_m)\\, \\rightarrow\\,\\infty$. where km may be defined by $f(1) = \\frac{1}{2}$.\n",
    "The physical meaning is obvious: for very short waves (X~rays e.g.)\n",
    "our plate is hardly an obstacle at all and therefore the zero point energy\n",
    "of these waves will not be influenced by the position of this plate. "
   ]
  },
  {
   "cell_type": "markdown",
   "metadata": {},
   "source": [
    "The regulator will serve to make the expression finite, and in the end will be removed. The zeta-regulated version of the energy per unit-area of the plate is"
   ]
  },
  {
   "cell_type": "markdown",
   "metadata": {},
   "source": [
    "${\\left(\\frac{E}{V}\\right)_{small\\,cavity} = \\frac{1}{a^2}\\hbar \\, \\sum\\limits_{n_x=(0)1}^{\\infty}\\sum\\limits_{n_y=(0)1}^{\\infty}\\,\\int\\limits_{0}^{\\infty} {\\frac {dk_{z}}{\\pi}}\\omega _{n_x,n_y}\\vert \\omega _{n_x,n_y}\\vert ^{-s}.}$"
   ]
  },
  {
   "cell_type": "code",
   "execution_count": 1,
   "metadata": {},
   "outputs": [],
   "source": [
    "from IPython.display import display, Math, Latex"
   ]
  },
  {
   "cell_type": "code",
   "execution_count": 2,
   "metadata": {},
   "outputs": [],
   "source": [
    "c = var(\"c\")\n",
    "a = var(\"a\")\n",
    "L = var(\"L\")\n",
    "\n",
    "k_x = var(\"k_x\")\n",
    "k_y = var(\"k_y\")\n",
    "k_z = var(\"k_z\")\n",
    "\n",
    "n_x = var(\"n_x\")\n",
    "assume(n_x, \"real\")\n",
    "assume(n_x > 0)\n",
    "n_y = var(\"n_y\")\n",
    "assume(n_y, \"real\")\n",
    "assume(n_y > 0)\n",
    "n_z = var(\"n_z\")"
   ]
  },
  {
   "cell_type": "code",
   "execution_count": 3,
   "metadata": {},
   "outputs": [],
   "source": [
    "k_x = pi * n_x / a\n",
    "k_y = pi * n_y / a\n",
    "#k_z = pi * n_z / (L/2)\n",
    "k_z = var(\"k_z\")"
   ]
  },
  {
   "cell_type": "code",
   "execution_count": 4,
   "metadata": {},
   "outputs": [],
   "source": [
    "#kappa = sqrt(k_x^2+k_y^2)\n",
    "kappa = var(\"kappa\")"
   ]
  },
  {
   "cell_type": "code",
   "execution_count": 5,
   "metadata": {},
   "outputs": [
    {
     "data": {
      "text/latex": [
       "$\\displaystyle c^{-s + 1} {\\left| k_{z}^{2} + \\kappa^{2} \\right|}^{-\\frac{1}{2} \\, s + \\frac{1}{2}}$"
      ],
      "text/plain": [
       "<IPython.core.display.Math object>"
      ]
     },
     "metadata": {},
     "output_type": "display_data"
    }
   ],
   "source": [
    "s = var(\"s\")\n",
    "integrand_zeta_2d = c^(1-s) * (abs(kappa^2+k_z^2))^((1-s)/2)\n",
    "display(Math(latex(integrand_zeta_2d)))"
   ]
  },
  {
   "cell_type": "code",
   "execution_count": 6,
   "metadata": {},
   "outputs": [
    {
     "data": {
      "text/latex": [
       "$\\displaystyle E_{n} = \\int_{0}^{+\\infty} c^{-s + 1} {\\left| k_{z}^{2} + \\kappa^{2} \\right|}^{-\\frac{1}{2} \\, s + \\frac{1}{2}}\\,{d k_{z}}$"
      ],
      "text/plain": [
       "<IPython.core.display.Math object>"
      ]
     },
     "metadata": {},
     "output_type": "display_data"
    },
    {
     "data": {
      "text/latex": [
       "$\\displaystyle E_{n} = \\frac{1}{2} \\, c^{-s + 1} \\kappa^{-s + 2} \\operatorname{B}\\left(\\frac{1}{2}, \\frac{1}{2} \\, s - 1\\right)$"
      ],
      "text/plain": [
       "<IPython.core.display.Math object>"
      ]
     },
     "metadata": {},
     "output_type": "display_data"
    }
   ],
   "source": [
    "E_n = var(\"E_n\")\n",
    "forget()\n",
    "assume(s>3)\n",
    "assume(kappa, \"real\")\n",
    "assume(kappa > 0)\n",
    "display(Math(latex(E_n == integrate(integrand_zeta_2d, k_z, 0, Infinity, hold=True))))\n",
    "display(Math(latex(E_n == integrate(integrand_zeta_2d, k_z, 0, Infinity))))"
   ]
  },
  {
   "cell_type": "code",
   "execution_count": 7,
   "metadata": {},
   "outputs": [
    {
     "data": {
      "text/plain": [
       "1/2*c^(-s + 1)*kappa^(-s + 2)*beta(1/2, 1/2*s - 1)"
      ]
     },
     "execution_count": 7,
     "metadata": {},
     "output_type": "execute_result"
    }
   ],
   "source": [
    "E_n = integrate(integrand_zeta_2d, k_z, 0, Infinity)\n",
    "E_n"
   ]
  },
  {
   "cell_type": "code",
   "execution_count": 8,
   "metadata": {},
   "outputs": [
    {
     "data": {
      "text/plain": [
       "1/2*sqrt(pi^2*n_x^2/a^2 + pi^2*n_y^2/a^2)^(-s + 2)*c^(-s + 1)*beta(1/2, 1/2*s - 1)"
      ]
     },
     "execution_count": 8,
     "metadata": {},
     "output_type": "execute_result"
    }
   ],
   "source": [
    "E_n = E_n.subs(kappa == sqrt(k_x^2+k_y^2))\n",
    "E_n"
   ]
  },
  {
   "cell_type": "code",
   "execution_count": 9,
   "metadata": {},
   "outputs": [
    {
     "data": {
      "text/latex": [
       "$\\displaystyle \\frac{1}{2} \\, \\sqrt{\\frac{\\pi^{2} n_{x}^{2}}{a^{2}} + \\frac{\\pi^{2} n_{y}^{2}}{a^{2}}}^{-s + 2} c^{-s + 1} \\operatorname{B}\\left(\\frac{1}{2}, \\frac{1}{2} \\, s - 1\\right)$"
      ],
      "text/plain": [
       "<IPython.core.display.Math object>"
      ]
     },
     "metadata": {},
     "output_type": "display_data"
    }
   ],
   "source": [
    "display(Math(latex(E_n)))"
   ]
  },
  {
   "cell_type": "code",
   "execution_count": 10,
   "metadata": {},
   "outputs": [
    {
     "data": {
      "text/latex": [
       "$\\displaystyle \\frac{1}{2} \\, {\\left(\\frac{\\pi^{2} n_{x}^{2}}{a^{2}} + \\frac{\\pi^{2} n_{y}^{2}}{a^{2}}\\right)} c \\operatorname{B}\\left(\\frac{1}{2}, -1\\right)$"
      ],
      "text/plain": [
       "<IPython.core.display.Math object>"
      ]
     },
     "metadata": {},
     "output_type": "display_data"
    }
   ],
   "source": [
    "display(Math(latex(E_n.subs(s == 0))))"
   ]
  },
  {
   "cell_type": "markdown",
   "metadata": {},
   "source": [
    "${\\left(\\frac{E}{V}\\right)_{small\\,cavity} \\left(s\\right) = \\frac{1}{a^2}\\hbar \\,c^{-s + 1} \\operatorname{B}\\left(\\frac{1}{2}, \\frac{1}{2} \\, s - 1\\right) \\sum\\limits_{n_x=(0)1}^{\\infty}\\sum\\limits_{n_y=(0)1}^{\\infty}\\,\\frac{1}{2} \\, \\sqrt{\\frac{\\pi^{2} n_{x}^{2}}{a^{2}} + \\frac{\\pi^{2} n_{y}^{2}}{a^{2}}}^{-s + 2} .}$"
   ]
  },
  {
   "cell_type": "markdown",
   "metadata": {},
   "source": [
    "${\\left(\\frac{E}{V}\\right)_{small\\,cavity} \\left(s\\right) = \\frac{\\pi^{2-s} }{a^2}\\hbar \\,c^{-s + 1} \\operatorname{B}\\left(\\frac{1}{2}, \\frac{1}{2} \\, s - 1\\right) \\sum\\limits_{n_x=(0)1}^{\\infty}\\sum\\limits_{n_y=(0)1}^{\\infty}\\,\\frac{1}{2} \\, \\sqrt{\\frac{n_{x}^{2}}{a^{2}} + \\frac{n_{y}^{2}}{a^{2}}}^{-s + 2} .}$"
   ]
  },
  {
   "cell_type": "markdown",
   "metadata": {},
   "source": [
    "${\\left(\\frac{E}{V}\\right)_{small\\,cavity} \\left(s\\right) = \\frac{\\pi^{2-s} }{a^2} \\left(\\frac{1}{a}\\right)^{\\left(2-s\\right)}\\hbar \\,c^{-s + 1} \\operatorname{B}\\left(\\frac{1}{2}, \\frac{1}{2} \\, s - 1\\right) \\sum\\limits_{n_x=(0)1}^{\\infty}\\sum\\limits_{n_y=(0)1}^{\\infty}\\,\\frac{1}{2} \\, \\left(\\sqrt{n_{x}^{2} + n_{y}^{2}}\\right)^{-s + 2} .}$"
   ]
  },
  {
   "cell_type": "code",
   "execution_count": 11,
   "metadata": {},
   "outputs": [
    {
     "data": {
      "text/latex": [
       "$\\displaystyle ({1}/{a})^{(2-s)} = \\frac{1}{a^{2} \\frac{1}{a}^{s}}$"
      ],
      "text/plain": [
       "<IPython.core.display.Math object>"
      ]
     },
     "metadata": {},
     "output_type": "display_data"
    }
   ],
   "source": [
    "display(Math(\"({1}/{a})^{(2-s)} = \" + latex(((1/a)^(2-s)).full_simplify())))"
   ]
  },
  {
   "cell_type": "markdown",
   "metadata": {},
   "source": [
    "${\\left(\\frac{E}{V}\\right)_{small\\,cavity} \\left(s\\right) = \\frac{1}{2} \\,\\frac{\\pi^{2-s} }{a^\\left(4-s\\right)} \\hbar \\,c^{-s + 1} \\operatorname{B}\\left(\\frac{1}{2}, \\frac{1}{2} \\, s - 1\\right) \\sum\\limits_{n_x=(0)1}^{\\infty}\\sum\\limits_{n_y=(0)1}^{\\infty}\\, \\left(\\sqrt{n_{x}^{2} + n_{y}^{2}}\\right)^{-\\left(s - 2\\right)} .}$"
   ]
  },
  {
   "cell_type": "code",
   "execution_count": null,
   "metadata": {},
   "outputs": [],
   "source": []
  },
  {
   "cell_type": "markdown",
   "metadata": {},
   "source": [
    "https://core.ac.uk/download/pdf/82162715.pdf\n",
    "\n",
    "JOURNAL OF NUMBER THEORY 35, 62-71 (1990)\n",
    "\n",
    "Evaluation of Multidimensional Linear Zeta Functions\n",
    "\n",
    "ALFRED ACTOR*\n",
    "\n",
    "Department of Physics, The Pennsylvania State University,\n",
    "\n",
    "Fogelsville, Pennsylvania 18051\n",
    "\n",
    "Communicated by Hans Zassenhaus\n",
    "\n",
    "Received January 28, 1988; revised May 5, 1989"
   ]
  },
  {
   "cell_type": "code",
   "execution_count": null,
   "metadata": {},
   "outputs": [],
   "source": []
  },
  {
   "cell_type": "markdown",
   "metadata": {},
   "source": [
    "A prototypical formula of this type is [1] \n",
    "\n",
    "$\\sum\\limits_{m,n=-\\infty}^{\\infty} \\, \\left(m^{2} + n^{2}\\right)^{-S} = 4\\,\\zeta\\left(S\\right)\\,\\beta\\left(S\\right)$\n",
    "\n",
    "where of course, $\\zeta\\left(S\\right)$ is the Riemann $\\zeta$-function [2]\n",
    "\n",
    "while $\\beta\\left(S\\right) = \\sum\\limits_{n=0}^{\\infty}\\left( - \\right)^n \\left(2n + 1\\right)^{-S}$\n",
    "defines, for $Res > 0$, a function whose properties throughout the s-plane are\n",
    "well known [3].\n",
    "\n",
    "Thus Eq. (1) fully reveals the properties of the twodimensional Epstein $\\zeta$-function [4] on the left. \n",
    "\n",
    "\n",
    "\n",
    "1. G. H. HARDY, Notes on some points in the integral calculus LII, Mess. Math. 49 (1919),\n",
    "85-91.\n",
    "2. H. M. EDWARDS, “Riemann’s Zeta Function,” Academic Press, New York, 1974.\n",
    "3. A. ERDELYI, W. MAGNUS, F. OEERHETTINGER, AND F. G. TRICOMI (Eds.), “Higher Transcendental Functions,” Vol. 1, McGraw-Hill, New York, 1953. \n",
    "LINEAR ZETA FUNCTIONS 71\n",
    "4. P. EPSTEIN, Zur Theorie allgemeiner Zetafunctionen, Marh. Ann. 56 (1903), 615-645; Zur\n",
    "Theorie allgemeiner Zetafunctionen, II, Math. Ann. 63 (19071, 205-216. "
   ]
  },
  {
   "cell_type": "markdown",
   "metadata": {},
   "source": [
    "$\\sum\\limits_{m,n=(0)1}^{\\infty} \\, \\left(m^{2} + n^{2}\\right)^{-S} = \\zeta\\left(S\\right)\\,\\beta\\left(S\\right)$"
   ]
  },
  {
   "cell_type": "markdown",
   "metadata": {},
   "source": [
    "$\\sum\\limits_{m,n=(0)1}^{\\infty} \\, \\left(\\sqrt{m^{2} + n^{2}}\\right)^{-S} = \\sum\\limits_{m,n=(0)1}^{\\infty} \\, \\left(m^{2} + n^{2}\\right)^{-\\frac{S}{2}} = \\zeta\\left(\\frac{S}{2}\\right)\\,\\beta\\left(\\frac{S}{2}\\right)$"
   ]
  },
  {
   "cell_type": "markdown",
   "metadata": {},
   "source": [
    "$\\sum\\limits_{m,n=(0)1}^{\\infty} \\, \\left(\\sqrt{m^{2} + n^{2}}\\right)^{-\\left(s - 2\\right)} = \\sum\\limits_{m,n=(0)1}^{\\infty} \\, \\left(m^{2} + n^{2}\\right)^{-\\frac{s - 2}{2}} = \\zeta\\left(\\frac{s - 2}{2}\\right)\\,\\beta\\left(\\frac{s - 2}{2}\\right)$"
   ]
  },
  {
   "cell_type": "markdown",
   "metadata": {},
   "source": [
    "${\\left(\\frac{E}{V}\\right)_{small\\,cavity} \\left(s\\right) = \\frac{1}{2} \\,\\frac{\\pi^{2-s} }{a^\\left(4-s\\right)} \\hbar \\,c^{-s + 1} \\operatorname{B}\\left(\\frac{1}{2}, \\frac{1}{2} \\, s - 1\\right) \\sum\\limits_{n_x=(0)1}^{\\infty}\\sum\\limits_{n_y=(0)1}^{\\infty}\\, \\left(\\sqrt{n_{x}^{2} + n_{y}^{2}}\\right)^{-\\left(s - 2\\right)} .}$"
   ]
  },
  {
   "cell_type": "markdown",
   "metadata": {},
   "source": [
    "${\\left(\\frac{E}{V}\\right)_{small\\,cavity} \\left(s\\right) = \\frac{1}{2} \\,\\frac{\\pi^{2-s} }{a^\\left(4-s\\right)} \\hbar \\,c^{-s + 1} \\operatorname{B}\\left(\\frac{1}{2}, \\frac{1}{2} \\, s - 1\\right) \\zeta\\left(\\frac{s - 2}{2}\\right)\\,\\beta\\left(\\frac{s - 2}{2}\\right) .}$"
   ]
  },
  {
   "cell_type": "markdown",
   "metadata": {},
   "source": [
    "${ \\left(\\frac{E}{V}\\right)_{small\\,cavity} = \\lim _{s\\to 0}{ \\left\\{ \\left(\\frac{E}{V}\\right)_{small\\,cavity} \\left(s\\right) \\right\\}} = \\frac{1}{2} \\,\\frac{\\pi^{2} }{a^4} \\hbar \\,c \\operatorname{B}\\left(\\frac{1}{2}, - 1\\right) \\zeta\\left(-1\\right)\\,\\beta\\left(-1\\right).}$"
   ]
  },
  {
   "cell_type": "code",
   "execution_count": 12,
   "metadata": {},
   "outputs": [
    {
     "data": {
      "text/plain": [
       "-1/12"
      ]
     },
     "execution_count": 12,
     "metadata": {},
     "output_type": "execute_result"
    }
   ],
   "source": [
    "zeta(-1)"
   ]
  },
  {
   "cell_type": "code",
   "execution_count": 13,
   "metadata": {},
   "outputs": [
    {
     "data": {
      "image/png": "[encoded data removed]",
      "text/plain": [
       "Graphics object consisting of 1 graphics primitive"
      ]
     },
     "execution_count": 13,
     "metadata": {},
     "output_type": "execute_result"
    }
   ],
   "source": [
    "plot(beta(1/2, 1/2*s - 1),(s, 0.0001,0.01))"
   ]
  },
  {
   "cell_type": "code",
   "execution_count": 14,
   "metadata": {
    "scrolled": true
   },
   "outputs": [
    {
     "data": {
      "image/png": "[encoded data removed]",
      "text/plain": [
       "Graphics object consisting of 1 graphics primitive"
      ]
     },
     "execution_count": 14,
     "metadata": {},
     "output_type": "execute_result"
    }
   ],
   "source": [
    "plot(beta(1/2, 1/2*s - 1),(s, -0.01,-0.0001))"
   ]
  },
  {
   "cell_type": "code",
   "execution_count": 15,
   "metadata": {},
   "outputs": [],
   "source": [
    "from sage.calculus.calculus import symbolic_sum\n",
    "n = var(\"n\")\n",
    "S = var(\"S\")\n",
    "beta1_sym = lambda S : symbolic_sum((-1)^n * (2*n + 1)^(-S), n, 0, Infinity)\n",
    "beta1 = lambda S : sum((-1)^n * (2*n + 1)^(-S), n, 0, Infinity)\n",
    "\n",
    "def beta_dig(S,N):\n",
    "    Sum = 0\n",
    "    for n in range (N):\n",
    "        Sum += (-1)^n * (2*n + 1)^(-S)\n",
    "    return Sum"
   ]
  },
  {
   "cell_type": "code",
   "execution_count": 16,
   "metadata": {},
   "outputs": [
    {
     "data": {
      "text/plain": [
       "-99999.9999389667"
      ]
     },
     "execution_count": 16,
     "metadata": {},
     "output_type": "execute_result"
    }
   ],
   "source": [
    "beta_dig((0.0000000001-2)/2,100000).n()"
   ]
  },
  {
   "cell_type": "code",
   "execution_count": 17,
   "metadata": {},
   "outputs": [],
   "source": [
    "def beta_beta_dig(s,N):\n",
    "    return beta_dig((s-2)/2,N)*beta(1/2,(s-2)/2)"
   ]
  },
  {
   "cell_type": "code",
   "execution_count": 18,
   "metadata": {},
   "outputs": [
    {
     "data": {
      "text/plain": [
       "1.00000991666784e15"
      ]
     },
     "execution_count": 18,
     "metadata": {},
     "output_type": "execute_result"
    }
   ],
   "source": [
    "beta_beta_dig(0.0000000001, 100001)"
   ]
  },
  {
   "cell_type": "code",
   "execution_count": 19,
   "metadata": {},
   "outputs": [
    {
     "data": {
      "text/plain": [
       "-9.99999916668618e14"
      ]
     },
     "execution_count": 19,
     "metadata": {},
     "output_type": "execute_result"
    }
   ],
   "source": [
    "beta_beta_dig(0.0000000001, 100000)"
   ]
  },
  {
   "cell_type": "code",
   "execution_count": 20,
   "metadata": {},
   "outputs": [
    {
     "data": {
      "text/plain": [
       "9.99999917278951e9"
      ]
     },
     "execution_count": 20,
     "metadata": {},
     "output_type": "execute_result"
    }
   ],
   "source": [
    "beta(1/2, (0.0000000001-2)/2)"
   ]
  },
  {
   "cell_type": "code",
   "execution_count": 21,
   "metadata": {},
   "outputs": [
    {
     "data": {
      "text/plain": [
       "-9.99999917240321e9"
      ]
     },
     "execution_count": 21,
     "metadata": {},
     "output_type": "execute_result"
    }
   ],
   "source": [
    "beta(1/2, (-0.0000000001-2)/2)"
   ]
  },
  {
   "cell_type": "markdown",
   "metadata": {},
   "source": [
    "So zeta regularization for honeycomb leads to $+/- \\infty$ "
   ]
  },
  {
   "cell_type": "code",
   "execution_count": null,
   "metadata": {},
   "outputs": [],
   "source": []
  }
 ],
 "metadata": {
  "kernelspec": {
   "display_name": "SageMath 9.3",
   "language": "sage",
   "name": "sagemath"
  },
  "language_info": {
   "codemirror_mode": {
    "name": "ipython",
    "version": 3
   },
   "file_extension": ".py",
   "mimetype": "text/x-python",
   "name": "python",
   "nbconvert_exporter": "python",
   "pygments_lexer": "ipython3",
   "version": "3.9.2"
  }
 },
 "nbformat": 4,
 "nbformat_minor": 2
}
