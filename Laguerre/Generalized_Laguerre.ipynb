{
 "cells": [
  {
   "cell_type": "markdown",
   "metadata": {},
   "source": [
    "# Обобщения ортогональных функций и полиномов Чебышева-Лагерра"
   ]
  },
  {
   "cell_type": "markdown",
   "metadata": {},
   "source": [
    "В [9] разработан метод определения передаточных функций линейных динамических систем, который основан на взятии преобразований Лапласа от входных и выходных сигналов. В качестве основы для определения спектральной плотности используем указанный метод. При этом в качестве ортогональных функций, по которым раскладывается корреляционная функция $R(\\tau)$, возьмём обобщенные функции Чебышева –Лагерра: \n",
    "\n",
    "$${l}_{n}^{\\alpha, \\beta}\\left(t\\right)$$"
   ]
  },
  {
   "cell_type": "markdown",
   "metadata": {},
   "source": [
    "Явное выражение для ортонормированных в интервале $(0;\\infty)$ с весом $w(t) = e^{2 \\beta t}$ обобщенных функций Чебышева-Лагерра определяется формулой [9, 10]"
   ]
  },
  {
   "cell_type": "code",
   "execution_count": 1,
   "metadata": {},
   "outputs": [],
   "source": [
    "from IPython.display import display, Math, Latex"
   ]
  },
  {
   "cell_type": "code",
   "execution_count": 2,
   "metadata": {},
   "outputs": [],
   "source": [
    "k, s = var(\"k, s\")"
   ]
  },
  {
   "cell_type": "code",
   "execution_count": 3,
   "metadata": {},
   "outputs": [],
   "source": [
    "L(n,alpha,beta,t) = sqrt(2*alpha)*exp(-(alpha+beta)*t) * sum(factorial(n)*(-2*alpha*t)^k/factorial(n-k)/factorial(k)^2, k,0,n);"
   ]
  },
  {
   "cell_type": "code",
   "execution_count": 4,
   "metadata": {},
   "outputs": [
    {
     "data": {
      "text/plain": [
       "sqrt(2)*sqrt(alpha)*e^(-(alpha + beta)*t)*factorial(n)*sum((-2)^k*alpha^k*t^k/(factorial(k)^2*factorial(-k + n)), k, 0, n)"
      ]
     },
     "execution_count": 4,
     "metadata": {},
     "output_type": "execute_result"
    }
   ],
   "source": [
    "L(n,alpha,beta,t)"
   ]
  },
  {
   "cell_type": "code",
   "execution_count": 5,
   "metadata": {},
   "outputs": [],
   "source": [
    "w = lambda t, beta : exp(2*beta*t)"
   ]
  },
  {
   "cell_type": "code",
   "execution_count": 6,
   "metadata": {},
   "outputs": [],
   "source": [
    "N = integrate(L(n,alpha,beta,t)^2*w(t, beta), t, 0, Infinity)"
   ]
  },
  {
   "cell_type": "code",
   "execution_count": 7,
   "metadata": {},
   "outputs": [
    {
     "data": {
      "text/plain": [
       "\\sqrt{2} \\sqrt{\\alpha} e^{\\left(-{\\left(\\alpha + \\beta\\right)} t\\right)} n! {\\sum_{k=0}^{n} \\frac{\\left(-2\\right)^{k} \\alpha^{k} t^{k}}{k!^{2} \\left(-k + n\\right)!}}"
      ]
     },
     "execution_count": 7,
     "metadata": {},
     "output_type": "execute_result"
    }
   ],
   "source": [
    "latex(L(n,alpha,beta,t))"
   ]
  },
  {
   "cell_type": "code",
   "execution_count": 8,
   "metadata": {},
   "outputs": [
    {
     "data": {
      "text/latex": [
       "$\\displaystyle {l}_{n}^{\\alpha, \\beta} = \\sqrt{2} \\sqrt{\\alpha} e^{\\left(-{\\left(\\alpha + \\beta\\right)} t\\right)} n! {\\sum_{k=0}^{n} \\frac{\\left(-2\\right)^{k} \\alpha^{k} t^{k}}{k!^{2} \\left(-k + n\\right)!}} $"
      ],
      "text/plain": [
       "<IPython.core.display.Math object>"
      ]
     },
     "metadata": {},
     "output_type": "display_data"
    }
   ],
   "source": [
    "display(Math(\"$${l}_{n}^{\\\\alpha, \\\\beta} =\" + latex(L(n,alpha,beta,t)) + \"$$\"))"
   ]
  },
  {
   "cell_type": "markdown",
   "metadata": {},
   "source": [
    "где $\\alpha > 0$,  $\\alpha > \\beta > -\\alpha$,     $n=0,1..$"
   ]
  },
  {
   "cell_type": "code",
   "execution_count": 9,
   "metadata": {},
   "outputs": [],
   "source": [
    "assume(alpha>0)\n",
    "assume(alpha-beta>0)"
   ]
  },
  {
   "cell_type": "markdown",
   "metadata": {},
   "source": [
    "Первые три функции приведены ниже:\n",
    "\n",
    "${l}_{0}^{\\alpha, \\beta} = \\sqrt{2\\,\\alpha} e^{-{\\left(\\alpha + \\beta\\right)} t}$\n",
    "\n",
    "${l}_{1}^{\\alpha, \\beta} = \\sqrt{2\\,\\alpha} e^{-{\\left(\\alpha + \\beta\\right)} t} \\left(1 - 2\\,\\alpha\\,t\\right)$\n",
    "\n",
    "${l}_{2}^{\\alpha, \\beta} = \\sqrt{2\\,\\alpha} e^{-{\\left(\\alpha + \\beta\\right)} t} \\left(1 - 4\\,\\alpha\\,t + 2\\,\\alpha^2\\,t^2\\right)$"
   ]
  },
  {
   "cell_type": "markdown",
   "metadata": {},
   "source": [
    "Обобщая формулу Родрига (https://en.wikipedia.org/wiki/Rodrigues%27_formula), реккурентное соотношение и изображение по Лапласу имеют вид:"
   ]
  },
  {
   "cell_type": "markdown",
   "metadata": {},
   "source": [
    "${l}_{n}^{\\alpha, \\beta}\\left(t\\right) = \\frac{\\sqrt{2\\,\\alpha}}{n!} e^{\\left(\\alpha - \\beta\\right)t} \\frac{d^n}{dt^n}\\left(e^{-2\\,\\alpha\\,t}t^n\\right)$"
   ]
  },
  {
   "cell_type": "markdown",
   "metadata": {},
   "source": [
    "${l}_{n+2}^{\\alpha, \\beta}\\left(t\\right) = \\frac{2\\,n + 3 -2\\,\\alpha\\,t}{n+2} {l}_{n+1}^{\\alpha, \\beta}\\left(t\\right) - \\frac{n+1}{n+2} {l}_{n}^{\\alpha, \\beta}\\left(t\\right)$"
   ]
  },
  {
   "cell_type": "markdown",
   "metadata": {},
   "source": [
    "$L\\left({l}_{n}^{\\alpha, \\beta}\\left(t\\right)\\right) = \\sqrt{2 \\alpha} \\, \\frac{{\\left(S - \\alpha + \\beta\\right)}^{n}}{{\\left(S + \\alpha + \\beta\\right)}^{n + 1}}$ "
   ]
  },
  {
   "cell_type": "code",
   "execution_count": 10,
   "metadata": {},
   "outputs": [],
   "source": [
    "Generalized_Laguerre_Rodrigues = lambda n, alpha, beta, t : (sqrt(2*alpha) / factorial(n) * exp((alpha-beta)*t) * diff(exp(-2*alpha*t)*t^n, t, n)).factor()"
   ]
  },
  {
   "cell_type": "code",
   "execution_count": 11,
   "metadata": {},
   "outputs": [
    {
     "data": {
      "text/latex": [
       "$\\displaystyle \\sqrt{2} \\sqrt{\\alpha} e^{\\left(-\\alpha t - \\beta t\\right)}$"
      ],
      "text/plain": [
       "<IPython.core.display.Math object>"
      ]
     },
     "metadata": {},
     "output_type": "display_data"
    }
   ],
   "source": [
    "display(Math(latex(Generalized_Laguerre_Rodrigues(0, alpha, beta, t))))"
   ]
  },
  {
   "cell_type": "code",
   "execution_count": 12,
   "metadata": {},
   "outputs": [
    {
     "data": {
      "text/latex": [
       "$\\displaystyle -\\sqrt{2} {\\left(2 \\, \\alpha t - 1\\right)} \\sqrt{\\alpha} e^{\\left(-\\alpha t - \\beta t\\right)}$"
      ],
      "text/plain": [
       "<IPython.core.display.Math object>"
      ]
     },
     "metadata": {},
     "output_type": "display_data"
    }
   ],
   "source": [
    "display(Math(latex(Generalized_Laguerre_Rodrigues(1, alpha, beta, t))))"
   ]
  },
  {
   "cell_type": "code",
   "execution_count": 13,
   "metadata": {},
   "outputs": [
    {
     "data": {
      "text/latex": [
       "$\\displaystyle \\sqrt{2} {\\left(2 \\, \\alpha^{2} t^{2} - 4 \\, \\alpha t + 1\\right)} \\sqrt{\\alpha} e^{\\left(-\\alpha t - \\beta t\\right)}$"
      ],
      "text/plain": [
       "<IPython.core.display.Math object>"
      ]
     },
     "metadata": {},
     "output_type": "display_data"
    }
   ],
   "source": [
    "display(Math(latex(Generalized_Laguerre_Rodrigues(2, alpha, beta, t))))"
   ]
  },
  {
   "cell_type": "code",
   "execution_count": 14,
   "metadata": {},
   "outputs": [
    {
     "data": {
      "text/latex": [
       "$\\displaystyle \\frac{\\sqrt{2} \\sqrt{\\alpha}}{\\alpha + \\beta + s}$"
      ],
      "text/plain": [
       "<IPython.core.display.Math object>"
      ]
     },
     "metadata": {},
     "output_type": "display_data"
    }
   ],
   "source": [
    "display(Math(latex(laplace(Generalized_Laguerre_Rodrigues(0, alpha, beta, t), t, s))))"
   ]
  },
  {
   "cell_type": "code",
   "execution_count": 15,
   "metadata": {},
   "outputs": [
    {
     "data": {
      "text/latex": [
       "$\\displaystyle -\\frac{\\sqrt{2} {\\left(\\alpha - \\beta - s\\right)} \\sqrt{\\alpha}}{{\\left(\\alpha + \\beta + s\\right)}^{2}}$"
      ],
      "text/plain": [
       "<IPython.core.display.Math object>"
      ]
     },
     "metadata": {},
     "output_type": "display_data"
    }
   ],
   "source": [
    "display(Math(latex(laplace(Generalized_Laguerre_Rodrigues(1, alpha, beta, t), t, s).factor())))"
   ]
  },
  {
   "cell_type": "code",
   "execution_count": 16,
   "metadata": {},
   "outputs": [
    {
     "data": {
      "text/latex": [
       "$\\displaystyle \\frac{\\sqrt{2} {\\left(\\alpha - \\beta - s\\right)}^{2} \\sqrt{\\alpha}}{{\\left(\\alpha + \\beta + s\\right)}^{3}}$"
      ],
      "text/plain": [
       "<IPython.core.display.Math object>"
      ]
     },
     "metadata": {},
     "output_type": "display_data"
    }
   ],
   "source": [
    "display(Math(latex(laplace(Generalized_Laguerre_Rodrigues(2, alpha, beta, t), t, s).factor())))"
   ]
  },
  {
   "cell_type": "code",
   "execution_count": 17,
   "metadata": {},
   "outputs": [
    {
     "data": {
      "text/latex": [
       "$\\displaystyle -\\frac{\\sqrt{2} {\\left(\\alpha - \\beta - s\\right)}^{3} \\sqrt{\\alpha}}{{\\left(\\alpha + \\beta + s\\right)}^{4}}$"
      ],
      "text/plain": [
       "<IPython.core.display.Math object>"
      ]
     },
     "metadata": {},
     "output_type": "display_data"
    }
   ],
   "source": [
    "display(Math(latex(laplace(Generalized_Laguerre_Rodrigues(3, alpha, beta, t), t, s).factor())))"
   ]
  },
  {
   "cell_type": "code",
   "execution_count": 18,
   "metadata": {},
   "outputs": [],
   "source": [
    "assume(n>0)\n",
    "assume(k+1>0)\n",
    "assume(s+beta+alpha>0)\n",
    "LS(n,s,alpha,beta) = laplace(L(n,alpha,beta,t), t, s)"
   ]
  },
  {
   "cell_type": "code",
   "execution_count": 19,
   "metadata": {
    "scrolled": true
   },
   "outputs": [
    {
     "data": {
      "text/latex": [
       "$\\displaystyle \\sqrt{2} \\sqrt{\\alpha} n! {\\sum_{k=0}^{n} \\frac{\\left(-2\\right)^{k} {\\left(\\alpha + \\beta + s\\right)}^{-k - 1} \\alpha^{k} \\Gamma\\left(k + 1\\right)}{k!^{2} \\left(-k + n\\right)!}}$"
      ],
      "text/plain": [
       "<IPython.core.display.Math object>"
      ]
     },
     "metadata": {},
     "output_type": "display_data"
    }
   ],
   "source": [
    "display(Math(latex(LS(n,s,alpha,beta))))"
   ]
  },
  {
   "cell_type": "code",
   "execution_count": 20,
   "metadata": {},
   "outputs": [],
   "source": [
    "LS1(n,s,alpha,beta)=sqrt(2)*sqrt(alpha)*((s-alpha+beta)^(n))/(s+alpha+beta)^(n+1);"
   ]
  },
  {
   "cell_type": "code",
   "execution_count": 21,
   "metadata": {
    "scrolled": true
   },
   "outputs": [
    {
     "data": {
      "text/latex": [
       "$\\displaystyle \\frac{\\sqrt{2} \\sqrt{\\alpha} {\\left(-\\alpha + \\beta + s\\right)}^{n}}{{\\left(\\alpha + \\beta + s\\right)}^{n + 1}}$"
      ],
      "text/plain": [
       "<IPython.core.display.Math object>"
      ]
     },
     "metadata": {},
     "output_type": "display_data"
    }
   ],
   "source": [
    "display(Math(latex(LS1(n,s,alpha,beta))))"
   ]
  },
  {
   "cell_type": "markdown",
   "metadata": {},
   "source": [
    "Отметим, что обобщенные функции ${l}_{n}^{\\alpha, \\beta}$ включают в себя, как частные случаи, обычные функции Чебышева – Лагерра $l_n(t)$ (при $\\beta = 0$ ), обычные полиномы Чебышева – Лагерра $h_n(t)$ (при $\\alpha=-\\beta=\\frac{1}{2}$) и полиномы Чебышева – Лагерра $l_{jn}(t)$ (при $\\alpha=-\\beta$) с весом $t^{-jt}$ ( $j=2 \\alpha$ )."
   ]
  },
  {
   "cell_type": "markdown",
   "metadata": {},
   "source": [
    "Разложим функцию $R\\left(t\\right)$ в ряд по функциям ${l}_{n}^{\\alpha, \\beta}\\left(t\\right)$"
   ]
  },
  {
   "cell_type": "markdown",
   "metadata": {},
   "source": [
    "$R\\left(t\\right) = {\\sum_{k=0}^{\\infty} Q_{k}\\,{l}_{k}^{\\alpha, \\beta}\\left(t\\right)}$ (1.37)"
   ]
  },
  {
   "cell_type": "markdown",
   "metadata": {},
   "source": [
    "где $Q_k$ – коэффициент Фурье, определяемый по формуле:"
   ]
  },
  {
   "cell_type": "markdown",
   "metadata": {},
   "source": [
    "$Q_k = \\int_{0}^{\\infty} R\\left(t\\right)\\,{l}_{k}^{\\alpha, \\beta}\\left(t\\right)\\,e^{2 \\beta t} dt$ (1.38)"
   ]
  },
  {
   "cell_type": "markdown",
   "metadata": {},
   "source": [
    "Проверка ортонормированности в интервале $(0;\\infty)$ с весом $w(t) = e^{2 \\beta t}$ обобщенных функций Чебышева-Лагерра"
   ]
  },
  {
   "cell_type": "code",
   "execution_count": 22,
   "metadata": {},
   "outputs": [],
   "source": [
    "from sympy import integrate as sympy_integrate\n",
    "N = lambda n1, n2, alpha, beta : sympy_integrate(Generalized_Laguerre_Rodrigues(n1,alpha,beta,t)*Generalized_Laguerre_Rodrigues(n2,alpha,beta,t)*w(t, beta), (t, 0, Infinity))"
   ]
  },
  {
   "cell_type": "code",
   "execution_count": 23,
   "metadata": {},
   "outputs": [
    {
     "data": {
      "text/latex": [
       "$\\displaystyle 0$"
      ],
      "text/plain": [
       "0"
      ]
     },
     "execution_count": 23,
     "metadata": {},
     "output_type": "execute_result"
    }
   ],
   "source": [
    "N (0, 1, 2, 1)"
   ]
  },
  {
   "cell_type": "code",
   "execution_count": 24,
   "metadata": {},
   "outputs": [
    {
     "data": {
      "text/latex": [
       "$\\displaystyle 1$"
      ],
      "text/plain": [
       "1"
      ]
     },
     "execution_count": 24,
     "metadata": {},
     "output_type": "execute_result"
    }
   ],
   "source": [
    "N (1, 1, 2, 1)"
   ]
  },
  {
   "cell_type": "code",
   "execution_count": 25,
   "metadata": {},
   "outputs": [],
   "source": [
    "Q = lambda F, k, alpha, beta : sympy_integrate(F(t) * Generalized_Laguerre_Rodrigues(k,alpha,beta,t) * w(t, beta), (t, 0, Infinity))"
   ]
  },
  {
   "cell_type": "markdown",
   "metadata": {},
   "source": [
    "При этом предполагаем, что ряд (1.37) сходится к функциям $R(t)$, что обеспечивается при :"
   ]
  },
  {
   "cell_type": "markdown",
   "metadata": {},
   "source": [
    "$\\int_{0}^{\\infty} \\left|R\\left(t\\right)\\right|^2\\,e^{-\\left(\\alpha - \\beta\\right) t} dt$"
   ]
  },
  {
   "cell_type": "markdown",
   "metadata": {},
   "source": [
    "Изображение по Лапласу функции $R(t)$ будет иметь вид:"
   ]
  },
  {
   "cell_type": "markdown",
   "metadata": {},
   "source": [
    "$L(R(t)) = \\sqrt{2 \\alpha} \\sum_{k=0}^{\\infty} Q_{k}\\, \\frac{{\\left(-\\alpha + \\beta + s\\right)}^{k}}{{\\left(\\alpha + \\beta + s\\right)}^{k + 1}}$ (1.39)"
   ]
  },
  {
   "cell_type": "markdown",
   "metadata": {},
   "source": [
    "Будем искать $L(R(t))$ в виде дробно – рациональной функции $F(S)$ ."
   ]
  },
  {
   "cell_type": "markdown",
   "metadata": {},
   "source": [
    "$F(S) = \\frac{a_m S^m+...+a_1 S + a_0}{b_n S^n+...+b_1 S + 1} = \\sqrt{2 \\alpha} \\sum_{k=0}^{\\infty} Q_{k}\\, \\frac{{\\left(-\\alpha + \\beta + S\\right)}^{k}}{{\\left(\\alpha + \\beta + S\\right)}^{k + 1}}$"
   ]
  },
  {
   "cell_type": "markdown",
   "metadata": {},
   "source": [
    "Где $m < n$.\n",
    "Произведем в (1.40) замену комплексной переменной S с помощью дробно – линейного отображения: $\\delta = \\frac{S - \\alpha + \\beta}{S + \\alpha + \\beta}$ (1.41)\n"
   ]
  },
  {
   "cell_type": "markdown",
   "metadata": {},
   "source": [
    "которое устанавливает взаимно однозначное соответствие между точками $S-$ плоскости и $\\delta-$ плоскости.\n",
    "В результате замены получим:\n"
   ]
  },
  {
   "cell_type": "markdown",
   "metadata": {},
   "source": [
    "$F(\\delta) = \\frac{\\alpha_{n-1} \\delta^{n-1}+...+\\alpha_1 \\delta + \\alpha_0}{\\beta_n \\delta^n+...+\\beta_1 \\delta + \\beta_0} = \\sqrt{2 \\alpha} \\sum_{k=0}^{\\infty} Q_{k}\\, \\delta^k$"
   ]
  },
  {
   "cell_type": "markdown",
   "metadata": {},
   "source": [
    "$F(\\delta) = \\frac{\\alpha_{n-1} \\delta^{n-1}+...+\\alpha_1 \\delta + \\alpha_0}{\\beta_n \\delta^n+...+\\beta_1 \\delta + \\beta_0} = \\sqrt{2 \\alpha} \\left( Q_{0} + Q_1 \\delta + Q_2 \\delta^2 + ...\\right)$ (1.42)"
   ]
  },
  {
   "cell_type": "markdown",
   "metadata": {},
   "source": [
    "где $\\alpha_i=\\alpha_i(\\alpha_0, \\alpha_1, ... , \\alpha_m)$,   $i = 0...n-1$"
   ]
  },
  {
   "cell_type": "markdown",
   "metadata": {},
   "source": [
    "где $\\beta_i=\\beta_i(\\beta_0, \\beta_1, ... , \\beta_m)$,   $i = 0...n$"
   ]
  },
  {
   "cell_type": "markdown",
   "metadata": {},
   "source": [
    "Умножим знаменатель левой части (1.42) на правую часть приравняем коэффициенты при одинаковых степенях $\\delta$.В результате получим :"
   ]
  },
  {
   "cell_type": "markdown",
   "metadata": {},
   "source": [
    "$\\alpha_0 = \\sqrt{2 \\alpha}\\,Q_{0}\\,\\beta_0$"
   ]
  },
  {
   "cell_type": "markdown",
   "metadata": {},
   "source": [
    "$\\alpha_1 = \\sqrt{2 \\alpha} \\left( Q_{1} \\beta_{0} + Q_{0} \\beta_{1} \\right)$ (1.43)"
   ]
  },
  {
   "cell_type": "markdown",
   "metadata": {},
   "source": [
    "$\\alpha_{n-1} = \\sqrt{2 \\alpha} \\left( Q_{n-1} \\beta_{0} + Q_{n-2} \\beta_{1} + ... + Q_{0} \\beta_{n-1}\\right)$"
   ]
  },
  {
   "cell_type": "code",
   "execution_count": null,
   "metadata": {},
   "outputs": [],
   "source": []
  },
  {
   "cell_type": "markdown",
   "metadata": {},
   "source": [
    "$ Q_{n} \\beta_{0} + Q_{n-1} \\beta_{1} + ... + Q_{1} \\beta_{n-1} + Q_{0} \\beta_{n} = 0$"
   ]
  },
  {
   "cell_type": "markdown",
   "metadata": {},
   "source": [
    "$ Q_{n+1} \\beta_{0} + Q_{n} \\beta_{1} + ... + Q_{2} \\beta_{n-1} + Q_{1} \\beta_{n} = 0$ (1.44)"
   ]
  },
  {
   "cell_type": "markdown",
   "metadata": {},
   "source": [
    "$ Q_{2 n} \\beta_{0} + Q_{2 n - 1} \\beta_{1} + ... + Q_{n + 1} \\beta_{n-1} + Q_{n} \\beta_{n} = 0$"
   ]
  },
  {
   "cell_type": "markdown",
   "metadata": {},
   "source": [
    "Согласно линейной алгебре однозначная система $n + 1$ линейных уравнений, с $n + 1$ неизвестными имеет ненулевые решения, тогда и только тогда, когда её определитель равен нулю. Так как система уравнений (1.44) Имеет ненулевое решение, то её определитель порядка $n+1$ равен нулю."
   ]
  },
  {
   "cell_type": "markdown",
   "metadata": {},
   "source": [
    "Таким образом, при порядке полинома знаменателя $F(\\delta)$, равном $n$, определители вида:"
   ]
  },
  {
   "cell_type": "markdown",
   "metadata": {},
   "source": [
    "\\begin{bmatrix}\n",
    "    Q_{0}\n",
    "\\end{bmatrix}"
   ]
  },
  {
   "cell_type": "markdown",
   "metadata": {},
   "source": [
    "\\begin{bmatrix}\n",
    "    Q_{1} & Q_{0} \\\\\n",
    "    Q_{2} & Q_{1} \\\\\n",
    "\\end{bmatrix}"
   ]
  },
  {
   "cell_type": "markdown",
   "metadata": {},
   "source": [
    "\\begin{bmatrix}\n",
    "    Q_{2} & Q_{1} & Q_{0} \\\\\n",
    "    Q_{3} & Q_{2} & Q_{1} \\\\\n",
    "    Q_{4} & Q_{3} & Q_{2}\n",
    "\\end{bmatrix} (1.45)"
   ]
  },
  {
   "cell_type": "markdown",
   "metadata": {},
   "source": [
    "не равны нулю до определителя порядка $n$ включительно, а определитель порядка $n+1$ будет равен нулю."
   ]
  },
  {
   "cell_type": "markdown",
   "metadata": {},
   "source": [
    "Указанное обстоятельство является, по сути, признаком, по которому можно определять порядок полинома знаменателя $F(\\delta)$."
   ]
  },
  {
   "cell_type": "markdown",
   "metadata": {},
   "source": [
    "Произведя в выражении $\\frac{\\left(1-\\delta\\right) F\\left(\\delta\\right)}{2 \\alpha}$ обратную замену комплексной переменной $\\delta$ на $S$ с помощью соотношения (1.41), получим искомое изображение по Лапласу функции $F(S)$ рассмотренного вида."
   ]
  },
  {
   "cell_type": "markdown",
   "metadata": {},
   "source": [
    "Таким образом, процедура получения спектральной плотности $S(\\omega)$ стационарного случайного процесса в виде дробно – рациональной функции при разложении корреляционной функции $R(\\tau)$ по обобщенным функциям Чебышева – Лагерра ${l}_{n}^{\\alpha, \\beta}\\left(t\\right)$ будет заключатся в следующем:"
   ]
  },
  {
   "cell_type": "markdown",
   "metadata": {},
   "source": [
    "1.\tПо любой известной формуле определяется корреляционная функция $R(\\tau)$.\n",
    "2.\tПо формуле (1.38) находятся коэффициенты Фурье $Q_{k}$ разложения функции $R(\\tau)$ по обобщенным функциям ${l}_{n}^{\\alpha, \\beta}\\left(t\\right)$.\n",
    "3.\tОпределяется порядок полинома знаменателя функции $F(\\delta)$ вычислением определителя вида (1.45). Наибольший порядок неравного нулю определителя ряда(1.45) будет равен порядку полинома знаменателя изображения по Лапласу $F(S)$.\n",
    "4.\tНаходятся значения коэффициентов $\\alpha_i$ и $\\beta_i$ решением уравнений (1.43) и (1.44).\n",
    "Система уравнений (1.44) фундаментальной системой решений. Для нахождения коэффициентов $\\beta_i$ достаточно взять любое частное решение.\n",
    "5.\tИзображение по Лапласу $F(S)$ корреляционной функции находится заменой в выражении $\\frac{\\left(1-\\delta\\right) F\\left(\\delta\\right)}{2 \\alpha}$ переменной $\\delta$ на $S$ по формуле(1.41).\n",
    "6.\tСпектральная плотность $S(\\omega)$ вычисляется как удвоенная действительная часть изображения по Лапласу $F(S)$, в котором предварительно производится замена $S=j \\omega$ \n"
   ]
  },
  {
   "cell_type": "markdown",
   "metadata": {},
   "source": [
    "$S\\left(\\omega\\right) = 2\\,Re\\,F \\left( j \\omega \\right)$ (1.46)"
   ]
  },
  {
   "cell_type": "markdown",
   "metadata": {},
   "source": [
    "Приведём пример определения  $S(\\omega)$\n",
    "1.\tПусть $R\\left(\\tau\\right) = e^{-0.5 \\left|\\tau\\right|}$"
   ]
  },
  {
   "cell_type": "code",
   "execution_count": 26,
   "metadata": {},
   "outputs": [],
   "source": [
    "R = lambda t : exp(-0.5*abs(t))"
   ]
  },
  {
   "cell_type": "code",
   "execution_count": 27,
   "metadata": {},
   "outputs": [],
   "source": [
    "R = lambda t : exp(-0.5*(t))"
   ]
  },
  {
   "cell_type": "code",
   "execution_count": 28,
   "metadata": {},
   "outputs": [],
   "source": [
    "#R = lambda t : sin(-0.5*(t))"
   ]
  },
  {
   "cell_type": "code",
   "execution_count": 29,
   "metadata": {},
   "outputs": [],
   "source": [
    "#R = lambda t : sin(-0.5*(t))*exp(-0.5*(t))"
   ]
  },
  {
   "cell_type": "code",
   "execution_count": 30,
   "metadata": {},
   "outputs": [],
   "source": [
    "#R = lambda t : e^(-var(\"sigma\")*log(2) - I*t*log(2))"
   ]
  },
  {
   "cell_type": "code",
   "execution_count": 31,
   "metadata": {},
   "outputs": [],
   "source": [
    "#R = lambda t : e^(-0.5*log(2) - I*t*log(2))"
   ]
  },
  {
   "cell_type": "code",
   "execution_count": 32,
   "metadata": {},
   "outputs": [
    {
     "data": {
      "text/plain": [
       "e^(-0.500000000000000*t)"
      ]
     },
     "execution_count": 32,
     "metadata": {},
     "output_type": "execute_result"
    }
   ],
   "source": [
    "R(t)"
   ]
  },
  {
   "cell_type": "markdown",
   "metadata": {},
   "source": [
    "2.\tПри $\\alpha = 2$, $\\beta = 1$, $Q_0 = \\frac{4}{3}$; $Q_1 = -\\frac{20}{3^2}$; $Q_2 = \\frac{100}{3^3}$;\n"
   ]
  },
  {
   "cell_type": "code",
   "execution_count": 33,
   "metadata": {},
   "outputs": [],
   "source": [
    "alpha_d = 2\n",
    "beta_d = 1"
   ]
  },
  {
   "cell_type": "code",
   "execution_count": 34,
   "metadata": {},
   "outputs": [
    {
     "data": {
      "text/latex": [
       "$\\displaystyle 1.33333333333333$"
      ],
      "text/plain": [
       "1.33333333333333"
      ]
     },
     "execution_count": 34,
     "metadata": {},
     "output_type": "execute_result"
    }
   ],
   "source": [
    "Q(R, 0, alpha_d, beta_d)"
   ]
  },
  {
   "cell_type": "code",
   "execution_count": 35,
   "metadata": {},
   "outputs": [
    {
     "data": {
      "text/latex": [
       "$\\displaystyle -2.22222222222222$"
      ],
      "text/plain": [
       "-2.22222222222222"
      ]
     },
     "execution_count": 35,
     "metadata": {},
     "output_type": "execute_result"
    }
   ],
   "source": [
    "Q(R, 1, alpha_d, beta_d)"
   ]
  },
  {
   "cell_type": "code",
   "execution_count": 36,
   "metadata": {},
   "outputs": [
    {
     "data": {
      "text/latex": [
       "$\\displaystyle 3.7037037037037$"
      ],
      "text/plain": [
       "3.70370370370370"
      ]
     },
     "execution_count": 36,
     "metadata": {},
     "output_type": "execute_result"
    }
   ],
   "source": [
    "Q(R, 2, alpha_d, beta_d)"
   ]
  },
  {
   "cell_type": "markdown",
   "metadata": {},
   "source": [
    "3.\t $\\left|\\frac{4}{3}\\right| \\neq 0$"
   ]
  },
  {
   "cell_type": "code",
   "execution_count": 37,
   "metadata": {},
   "outputs": [],
   "source": [
    "def det_Q(F, n, alpha, beta):\n",
    "    m = [[Q(F, n+k1-k2, alpha, beta) for k2 in range (n+1)] for k1 in range (n+1)]\n",
    "    return matrix(SR, m)"
   ]
  },
  {
   "cell_type": "code",
   "execution_count": 38,
   "metadata": {},
   "outputs": [],
   "source": [
    "# https://www.pythonpool.com/gaussian-elimination-python/\n",
    "\n",
    "#gaussian elimination of M_Q in symbolic form\n",
    "def gaussian_elimination(n, M_Q):\n",
    "    rows = n\n",
    "    cols = n\n",
    "    ma = [[] for _ in range(n)]\n",
    "\n",
    "    for i in range(rows):# row\n",
    "        for j in range(cols): # col\n",
    "            ma[i] += [M_Q[i][j]]\n",
    "\n",
    "    for i in range(cols):\n",
    "        row_to_change = -1\n",
    "        #ii_abs = abs(ma[i][i].subs(digit_values).subs(k_z_sol).n())\n",
    "        ii_abs = abs(ma[i][i].n())\n",
    "\n",
    "        for r in range(i+1, rows):\n",
    "            #ri_abs = abs(ma[r][i].subs(digit_values).subs(k_z_sol).n())\n",
    "            ri_abs = abs(ma[r][i].n())\n",
    "            if ri_abs > ii_abs:\n",
    "                row_to_change = r\n",
    "                cur_abs = ri_abs\n",
    "                print(\"row_to_change\", row_to_change)\n",
    "\n",
    "        if row_to_change > -1:\n",
    "            for col in range(i, cols):#+1):\n",
    "                tmp = ma[i][col]\n",
    "                ma[i][col] = ma[row_to_change][col]\n",
    "                ma[row_to_change][col] = tmp\n",
    "\n",
    "        for j in range(i+1, rows):\n",
    "            ratio = ma[j][i]/ma[i][i]\n",
    "\n",
    "            for k in range(cols):#+1):\n",
    "                ma[j][k] = ma[j][k] - ratio * ma[i][k]\n",
    "\n",
    "    # Формирование верхнетреугольной матрицы\n",
    "    # RU - Right Upper\n",
    "    M_RU = matrix(ma)\n",
    "    return M_RU\n",
    "    "
   ]
  },
  {
   "cell_type": "markdown",
   "metadata": {},
   "source": [
    "Согласно линейной алгебре однозначная система $n + 1$ линейных уравнений, с $n + 1$ неизвестными имеет ненулевые решения, тогда и только тогда, когда её определитель равен нулю. Так как система уравнений (1.44) Имеет ненулевое решение, то её определитель порядка $n+1$ равен нулю."
   ]
  },
  {
   "cell_type": "markdown",
   "metadata": {},
   "source": [
    "2.\tПо формуле (1.38) находятся коэффициенты Фурье $Q_{k}$ разложения функции $R(\\tau)$ по обобщенным функциям ${l}_{n}^{\\alpha, \\beta}\\left(t\\right)$.\n",
    "3.\tОпределяется порядок полинома знаменателя функции $F(\\delta)$ вычислением определителя вида (1.45). Наибольший порядок неравного нулю определителя ряда(1.45) будет равен порядку полинома знаменателя изображения по Лапласу $F(S)$."
   ]
  },
  {
   "cell_type": "code",
   "execution_count": 39,
   "metadata": {},
   "outputs": [
    {
     "name": "stdout",
     "output_type": "stream",
     "text": [
      "n 0\n",
      "M_Q [1.33333333333333]\n",
      "det_M_Q 1.33333333333333\n"
     ]
    },
    {
     "data": {
      "text/latex": [
       "$\\displaystyle \\left(\\begin{array}{r}\n",
       "1.33333333333333\n",
       "\\end{array}\\right)$"
      ],
      "text/plain": [
       "<IPython.core.display.Math object>"
      ]
     },
     "metadata": {},
     "output_type": "display_data"
    },
    {
     "name": "stdout",
     "output_type": "stream",
     "text": [
      "n 1\n",
      "M_Q [-2.22222222222222  1.33333333333333]\n",
      "[ 3.70370370370370 -2.22222222222222]\n",
      "det_M_Q 7.99360577730113e-15\n",
      "row_to_change 1\n"
     ]
    },
    {
     "data": {
      "text/latex": [
       "$\\displaystyle \\left(\\begin{array}{rr}\n",
       "3.70370370370370 & -2.22222222222222 \\\\\n",
       "0.000000000000000 & -1.99840144432528 \\times 10^{-15}\n",
       "\\end{array}\\right)$"
      ],
      "text/plain": [
       "<IPython.core.display.Math object>"
      ]
     },
     "metadata": {},
     "output_type": "display_data"
    },
    {
     "data": {
      "text/plain": [
       "[-2.22222222222222  1.33333333333333]\n",
       "[ 3.70370370370370 -2.22222222222222]"
      ]
     },
     "execution_count": 39,
     "metadata": {},
     "output_type": "execute_result"
    }
   ],
   "source": [
    "n = 0\n",
    "\n",
    "while(true):\n",
    "    print(\"n\", n)\n",
    "    M_Q = det_Q(R, n, alpha_d, beta_d)\n",
    "    print(\"M_Q\", M_Q)\n",
    "    det_M_Q = M_Q.det()\n",
    "    print(\"det_M_Q\", det_M_Q)\n",
    "    M_Q_RU = gaussian_elimination(n+1, M_Q)\n",
    "    display(Math(latex(M_Q_RU)))\n",
    "    if abs(det_M_Q) < 1e-12:\n",
    "        break\n",
    "    n = n + 1\n",
    "M_Q"
   ]
  },
  {
   "cell_type": "code",
   "execution_count": 40,
   "metadata": {},
   "outputs": [
    {
     "data": {
      "text/plain": [
       "1"
      ]
     },
     "execution_count": 40,
     "metadata": {},
     "output_type": "execute_result"
    }
   ],
   "source": [
    "n"
   ]
  },
  {
   "cell_type": "markdown",
   "metadata": {},
   "source": [
    "4.\tНаходятся значения коэффициентов $\\alpha_i$ и $\\beta_i$ решением уравнений (1.43) и (1.44).\n",
    "Система уравнений (1.44) фундаментальной системой решений. Для нахождения коэффициентов $\\beta_i$ достаточно взять любое частное решение."
   ]
  },
  {
   "cell_type": "code",
   "execution_count": 41,
   "metadata": {},
   "outputs": [
    {
     "data": {
      "text/plain": [
       "[beta_i_0, beta_i_1]"
      ]
     },
     "execution_count": 41,
     "metadata": {},
     "output_type": "execute_result"
    }
   ],
   "source": [
    "beta_i = []\n",
    "for i in range(n+1):\n",
    "    exec(\"beta_i_\" + str(i) + \"= var('beta_i_\" + str(i) + \"')\")\n",
    "    exec(\"beta_i += [beta_i_\" + str(i) +\"]\")\n",
    "    \n",
    "beta_i"
   ]
  },
  {
   "cell_type": "code",
   "execution_count": 42,
   "metadata": {},
   "outputs": [
    {
     "data": {
      "text/plain": [
       "[alpha_i_0]"
      ]
     },
     "execution_count": 42,
     "metadata": {},
     "output_type": "execute_result"
    }
   ],
   "source": [
    "alpha_i = []\n",
    "for i in range(n):\n",
    "    exec(\"alpha_i_\" + str(i) + \"= var('alpha_i_\" + str(i) + \"')\")\n",
    "    exec(\"alpha_i += [alpha_i_\" + str(i) +\"]\")\n",
    "    \n",
    "alpha_i"
   ]
  },
  {
   "cell_type": "code",
   "execution_count": 43,
   "metadata": {},
   "outputs": [
    {
     "data": {
      "text/plain": [
       "[beta_i_1]"
      ]
     },
     "execution_count": 43,
     "metadata": {},
     "output_type": "execute_result"
    }
   ],
   "source": [
    "beta1_i = []\n",
    "for i in range(1, n+1):\n",
    "    exec(\"beta1_i += [beta_i_\" + str(i) +\"]\")\n",
    "    \n",
    "beta1_i"
   ]
  },
  {
   "cell_type": "code",
   "execution_count": 44,
   "metadata": {},
   "outputs": [
    {
     "data": {
      "text/plain": [
       "(beta_i_0, beta_i_1)"
      ]
     },
     "execution_count": 44,
     "metadata": {},
     "output_type": "execute_result"
    }
   ],
   "source": [
    "vbeta_i = vector(beta_i)\n",
    "vbeta_i"
   ]
  },
  {
   "cell_type": "code",
   "execution_count": 45,
   "metadata": {},
   "outputs": [
    {
     "data": {
      "text/plain": [
       "(beta_i_1)"
      ]
     },
     "execution_count": 45,
     "metadata": {},
     "output_type": "execute_result"
    }
   ],
   "source": [
    "vbeta1_i = vector(beta1_i)\n",
    "vbeta1_i"
   ]
  },
  {
   "cell_type": "code",
   "execution_count": 46,
   "metadata": {},
   "outputs": [
    {
     "data": {
      "text/plain": [
       "(3.70370370370370*beta_i_0 - 2.22222222222222*beta_i_1, -(1.99840144432528e-15)*beta_i_1)"
      ]
     },
     "execution_count": 46,
     "metadata": {},
     "output_type": "execute_result"
    }
   ],
   "source": [
    "M_Q_RU_X = M_Q_RU*vbeta_i\n",
    "M_Q_RU_X"
   ]
  },
  {
   "cell_type": "code",
   "execution_count": 47,
   "metadata": {},
   "outputs": [
    {
     "data": {
      "text/plain": [
       "(-2.22222222222222*beta_i_0 + 1.33333333333333*beta_i_1, 3.70370370370370*beta_i_0 - 2.22222222222222*beta_i_1)"
      ]
     },
     "execution_count": 47,
     "metadata": {},
     "output_type": "execute_result"
    }
   ],
   "source": [
    "M_Q_X = M_Q*vbeta_i\n",
    "M_Q_X"
   ]
  },
  {
   "cell_type": "code",
   "execution_count": 48,
   "metadata": {},
   "outputs": [],
   "source": [
    "beta_i_0_d = 1"
   ]
  },
  {
   "cell_type": "code",
   "execution_count": 49,
   "metadata": {},
   "outputs": [
    {
     "name": "stdout",
     "output_type": "stream",
     "text": [
      "-3.70370370370370\n",
      "-0.000000000000000\n"
     ]
    }
   ],
   "source": [
    "M_Q_RU_B = []\n",
    "eq_sys_RU = []\n",
    "for i in range(n+1):\n",
    "    M_Q_RU_B_i = - (M_Q_RU_X[i]).coefficient(beta_i_0).n() * beta_i_0_d\n",
    "    print(M_Q_RU_B_i)\n",
    "    M_Q_RU_B += [M_Q_RU_B_i]\n",
    "    eq_sys_RU += [M_Q_RU_X[i].subs(beta_i_0 == 0) == M_Q_RU_B_i]"
   ]
  },
  {
   "cell_type": "code",
   "execution_count": 50,
   "metadata": {},
   "outputs": [
    {
     "data": {
      "text/plain": [
       "[-2.22222222222222*beta_i_1 == -3.70370370370370,\n",
       " -(1.99840144432528e-15)*beta_i_1 == -0.000000000000000]"
      ]
     },
     "execution_count": 50,
     "metadata": {},
     "output_type": "execute_result"
    }
   ],
   "source": [
    "eq_sys_RU"
   ]
  },
  {
   "cell_type": "code",
   "execution_count": 51,
   "metadata": {},
   "outputs": [
    {
     "name": "stdout",
     "output_type": "stream",
     "text": [
      "2.22222222222222\n",
      "-3.70370370370370\n"
     ]
    }
   ],
   "source": [
    "M_Q_B = []\n",
    "eq_sys = []\n",
    "for i in range(n+1):\n",
    "    M_Q_B_i = - (M_Q_X[i]).coefficient(beta_i_0).n() * beta_i_0_d\n",
    "    print(M_Q_B_i)\n",
    "    M_Q_B += [M_Q_B_i]\n",
    "    eq_sys += [M_Q_X[i].subs(beta_i_0 == 0) == M_Q_B_i]"
   ]
  },
  {
   "cell_type": "code",
   "execution_count": 52,
   "metadata": {},
   "outputs": [
    {
     "data": {
      "text/plain": [
       "[1.33333333333333*beta_i_1 == 2.22222222222222,\n",
       " -2.22222222222222*beta_i_1 == -3.70370370370370]"
      ]
     },
     "execution_count": 52,
     "metadata": {},
     "output_type": "execute_result"
    }
   ],
   "source": [
    "eq_sys"
   ]
  },
  {
   "cell_type": "code",
   "execution_count": 53,
   "metadata": {},
   "outputs": [],
   "source": [
    "def GenerateMatrix(equsys, vars):\n",
    "    A=matrix(SR, [[(equ.lhs() - equ.rhs()).coefficient(v) for v in vars] for equ in equsys])\n",
    "    return A"
   ]
  },
  {
   "cell_type": "code",
   "execution_count": 54,
   "metadata": {},
   "outputs": [
    {
     "data": {
      "text/latex": [
       "$\\displaystyle \\left(\\begin{array}{r}\n",
       "-2.22222222222222 \\\\\n",
       "-1.99840144432528 \\times 10^{-15}\n",
       "\\end{array}\\right)$"
      ],
      "text/plain": [
       "<IPython.core.display.Math object>"
      ]
     },
     "metadata": {},
     "output_type": "display_data"
    }
   ],
   "source": [
    "eq_sys_RU_M = GenerateMatrix(eq_sys_RU, vbeta1_i)\n",
    "\n",
    "display(Math(latex(eq_sys_RU_M)))"
   ]
  },
  {
   "cell_type": "code",
   "execution_count": 55,
   "metadata": {},
   "outputs": [
    {
     "data": {
      "text/latex": [
       "$\\displaystyle \\left(\\begin{array}{r}\n",
       "1.33333333333333 \\\\\n",
       "-2.22222222222222\n",
       "\\end{array}\\right)$"
      ],
      "text/plain": [
       "<IPython.core.display.Math object>"
      ]
     },
     "metadata": {},
     "output_type": "display_data"
    }
   ],
   "source": [
    "eq_sys_M = GenerateMatrix(eq_sys, vbeta1_i)\n",
    "\n",
    "display(Math(latex(eq_sys_M)))"
   ]
  },
  {
   "cell_type": "code",
   "execution_count": 56,
   "metadata": {},
   "outputs": [],
   "source": [
    "eq_sys_RU_M_sol = eq_sys_RU_M.solve_right(vector(M_Q_RU_B))"
   ]
  },
  {
   "cell_type": "code",
   "execution_count": 57,
   "metadata": {},
   "outputs": [],
   "source": [
    "eq_sys_M_sol = eq_sys_M.solve_right(vector(M_Q_B))"
   ]
  },
  {
   "cell_type": "code",
   "execution_count": 58,
   "metadata": {},
   "outputs": [
    {
     "name": "stdout",
     "output_type": "stream",
     "text": [
      "1.66666666666667\n"
     ]
    }
   ],
   "source": [
    "coeffs_beta_i = [beta_i_0 == beta_i_0_d]\n",
    "for i in range(n):\n",
    "    eq_sys_RU_M_sol_i = eq_sys_RU_M_sol[i]\n",
    "    print(eq_sys_RU_M_sol_i)\n",
    "    coeffs_beta_i += [vbeta1_i[i] == eq_sys_RU_M_sol_i]"
   ]
  },
  {
   "cell_type": "code",
   "execution_count": 59,
   "metadata": {},
   "outputs": [
    {
     "name": "stdout",
     "output_type": "stream",
     "text": [
      "1.66666666666667\n"
     ]
    }
   ],
   "source": [
    "coeffs_beta_i = [beta_i_0 == beta_i_0_d]\n",
    "for i in range(n):\n",
    "    eq_sys_M_sol_i = eq_sys_M_sol[i]\n",
    "    print(eq_sys_M_sol_i)\n",
    "    coeffs_beta_i += [vbeta1_i[i] == eq_sys_M_sol_i]"
   ]
  },
  {
   "cell_type": "code",
   "execution_count": 60,
   "metadata": {},
   "outputs": [
    {
     "data": {
      "text/plain": [
       "[beta_i_0 == 1, beta_i_1 == 1.66666666666667]"
      ]
     },
     "execution_count": 60,
     "metadata": {},
     "output_type": "execute_result"
    }
   ],
   "source": [
    "coeffs_beta_i"
   ]
  },
  {
   "cell_type": "markdown",
   "metadata": {},
   "source": [
    "$\\alpha_0 = \\sqrt{2 \\alpha}\\,Q_{0}\\,\\beta_0$"
   ]
  },
  {
   "cell_type": "markdown",
   "metadata": {},
   "source": [
    "$\\alpha_1 = \\sqrt{2 \\alpha} \\left( Q_{1} \\beta_{0} + Q_{0} \\beta_{1} \\right)$ (1.43)"
   ]
  },
  {
   "cell_type": "markdown",
   "metadata": {},
   "source": [
    "$\\alpha_2 = \\sqrt{2 \\alpha} \\left( Q_{2} \\beta_{0} + Q_{1} \\beta_{1} + Q_{0} \\beta_{2} \\right)$ (1.43)"
   ]
  },
  {
   "cell_type": "markdown",
   "metadata": {},
   "source": [
    "$\\alpha_{n-1} = \\sqrt{2 \\alpha} \\left( Q_{n-1} \\beta_{0} + Q_{n-2} \\beta_{1} + ... + Q_{0} \\beta_{n-1}\\right)$"
   ]
  },
  {
   "cell_type": "code",
   "execution_count": 61,
   "metadata": {},
   "outputs": [
    {
     "data": {
      "text/plain": [
       "[-2.22222222222222  1.33333333333333]\n",
       "[ 3.70370370370370 -2.22222222222222]"
      ]
     },
     "execution_count": 61,
     "metadata": {},
     "output_type": "execute_result"
    }
   ],
   "source": [
    "M_Q"
   ]
  },
  {
   "cell_type": "markdown",
   "metadata": {},
   "source": [
    "\\begin{bmatrix}\n",
    "    Q_{2} & Q_{1} & Q_{0} \\\\\n",
    "    Q_{3} & Q_{2} & Q_{1} \\\\\n",
    "    Q_{4} & Q_{3} & Q_{2}\n",
    "\\end{bmatrix}"
   ]
  },
  {
   "cell_type": "code",
   "execution_count": 62,
   "metadata": {},
   "outputs": [
    {
     "data": {
      "text/plain": [
       "0"
      ]
     },
     "execution_count": 62,
     "metadata": {},
     "output_type": "execute_result"
    }
   ],
   "source": [
    "n-1"
   ]
  },
  {
   "cell_type": "code",
   "execution_count": 63,
   "metadata": {},
   "outputs": [
    {
     "data": {
      "text/plain": [
       "(-2.22222222222222, 1.33333333333333)"
      ]
     },
     "execution_count": 63,
     "metadata": {},
     "output_type": "execute_result"
    }
   ],
   "source": [
    "M_Q[0]"
   ]
  },
  {
   "cell_type": "code",
   "execution_count": 64,
   "metadata": {},
   "outputs": [
    {
     "name": "stdout",
     "output_type": "stream",
     "text": [
      "0\n",
      "0 1.33333333333333 0 beta_i_0\n"
     ]
    }
   ],
   "source": [
    "valpha_i = []\n",
    "for i in range(n):\n",
    "    alpha__i = 0\n",
    "    print(i)\n",
    "    for j in range(0,i+1):\n",
    "        print(j, M_Q[0][n-j], i-j, beta_i[i-j])\n",
    "        alpha__i += M_Q[0][n-j] * beta_i[i-j]\n",
    "    alpha__i *= sqrt(2 * alpha)\n",
    "    valpha_i += [alpha_i[i] == alpha__i]"
   ]
  },
  {
   "cell_type": "code",
   "execution_count": 65,
   "metadata": {},
   "outputs": [
    {
     "data": {
      "text/plain": [
       "[alpha_i_0 == 1.33333333333333*sqrt(2)*sqrt(alpha)*beta_i_0]"
      ]
     },
     "execution_count": 65,
     "metadata": {},
     "output_type": "execute_result"
    }
   ],
   "source": [
    "valpha_i"
   ]
  },
  {
   "cell_type": "code",
   "execution_count": 66,
   "metadata": {},
   "outputs": [
    {
     "data": {
      "text/plain": [
       "[alpha_i_0 == 2.66666666666666]"
      ]
     },
     "execution_count": 66,
     "metadata": {},
     "output_type": "execute_result"
    }
   ],
   "source": [
    "coeffs_alpha_i = []\n",
    "for i in range(n):\n",
    "    coeffs_alpha_i += [alpha_i[i] == valpha_i[i].rhs().subs(coeffs_beta_i).subs(alpha == alpha_d)]\n",
    "coeffs_alpha_i"
   ]
  },
  {
   "cell_type": "markdown",
   "metadata": {},
   "source": [
    " "
   ]
  },
  {
   "cell_type": "markdown",
   "metadata": {},
   "source": [
    "Произведя в выражении $\\frac{\\left(1-\\delta\\right) F\\left(\\delta\\right)}{2 \\alpha}$ обратную замену комплексной переменной $\\delta$ на $S$ с помощью соотношения (1.41), получим искомое изображение по Лапласу функции $F(S)$ рассмотренного вида."
   ]
  },
  {
   "cell_type": "code",
   "execution_count": 67,
   "metadata": {},
   "outputs": [],
   "source": [
    "delta, S = var(\"delta, S\")"
   ]
  },
  {
   "cell_type": "markdown",
   "metadata": {},
   "source": [
    "$F(\\delta) = \\frac{\\alpha_{n-1} \\delta^{n-1}+...+\\alpha_1 \\delta + \\alpha_0}{\\beta_n \\delta^n+...+\\beta_1 \\delta + \\beta_0} = \\sqrt{2 \\alpha} \\left( Q_{0} + Q_1 \\delta + Q_2 \\delta^2 + ...\\right)$ (1.42)"
   ]
  },
  {
   "cell_type": "code",
   "execution_count": 68,
   "metadata": {},
   "outputs": [],
   "source": [
    "F_delta = sum([alpha_i[i]*delta^i for i in range(n)])/sum([beta_i[i]*delta^i for i in range(n+1)])"
   ]
  },
  {
   "cell_type": "code",
   "execution_count": 69,
   "metadata": {},
   "outputs": [],
   "source": [
    "F_delta_d = F_delta.subs(coeffs_alpha_i).subs(coeffs_beta_i)"
   ]
  },
  {
   "cell_type": "code",
   "execution_count": 70,
   "metadata": {},
   "outputs": [],
   "source": [
    "F_delta_d_1_delta_2_alpha = (1 - delta)/(2*alpha)*F_delta_d"
   ]
  },
  {
   "cell_type": "code",
   "execution_count": 71,
   "metadata": {},
   "outputs": [],
   "source": [
    "F_delta_d_1_delta_2_alpha_d = F_delta_d_1_delta_2_alpha.subs(alpha == alpha_d)"
   ]
  },
  {
   "cell_type": "code",
   "execution_count": 72,
   "metadata": {},
   "outputs": [
    {
     "data": {
      "text/plain": [
       "-0.666666666666665*(delta - 1)/(1.66666666666667*delta + 1)"
      ]
     },
     "execution_count": 72,
     "metadata": {},
     "output_type": "execute_result"
    }
   ],
   "source": [
    "F_delta_d_1_delta_2_alpha_d"
   ]
  },
  {
   "cell_type": "markdown",
   "metadata": {},
   "source": [
    "$\\delta = \\frac{S - \\alpha + \\beta}{S + \\alpha + \\beta}$ (1.41)"
   ]
  },
  {
   "cell_type": "code",
   "execution_count": 73,
   "metadata": {},
   "outputs": [],
   "source": [
    "F_S = F_delta_d_1_delta_2_alpha.subs(delta == (S - alpha + beta) / (S + alpha + beta)).factor()"
   ]
  },
  {
   "cell_type": "code",
   "execution_count": 74,
   "metadata": {},
   "outputs": [
    {
     "data": {
      "text/plain": [
       "2.66666666666666/(2.66666666666667*S - 0.666666666666669*alpha + 2.66666666666667*beta)"
      ]
     },
     "execution_count": 74,
     "metadata": {},
     "output_type": "execute_result"
    }
   ],
   "source": [
    "F_S"
   ]
  },
  {
   "cell_type": "code",
   "execution_count": 75,
   "metadata": {},
   "outputs": [
    {
     "data": {
      "text/plain": [
       "2.66666666666666/(2.66666666666667*S + 1.33333333333333)"
      ]
     },
     "execution_count": 75,
     "metadata": {},
     "output_type": "execute_result"
    }
   ],
   "source": [
    "F_S_d = F_S.subs(alpha == alpha_d, beta == beta_d)\n",
    "F_S_d"
   ]
  },
  {
   "cell_type": "code",
   "execution_count": 76,
   "metadata": {},
   "outputs": [
    {
     "data": {
      "text/plain": [
       "1/(s + 0.5)"
      ]
     },
     "execution_count": 76,
     "metadata": {},
     "output_type": "execute_result"
    }
   ],
   "source": [
    "laplace(R(t), t, s)"
   ]
  },
  {
   "cell_type": "code",
   "execution_count": 77,
   "metadata": {},
   "outputs": [],
   "source": [
    "rec_R = lambda t : inverse_laplace(F_S_d, S, t)"
   ]
  },
  {
   "cell_type": "code",
   "execution_count": 78,
   "metadata": {},
   "outputs": [
    {
     "data": {
      "image/png": "[encoded data removed]",
      "text/plain": [
       "Graphics object consisting of 2 graphics primitives"
      ]
     },
     "execution_count": 78,
     "metadata": {},
     "output_type": "execute_result"
    }
   ],
   "source": [
    "plot([rec_R(t), R(t)],(t, 0, 10))"
   ]
  },
  {
   "cell_type": "markdown",
   "metadata": {},
   "source": [
    "Частное решение\n",
    "\n",
    "$\\beta_{0} = 1$; $\\beta_{1} = \\frac{5}{3}$; $\\alpha_{0} = \\frac{8}{3}$\n",
    "\n",
    "4. $\\alpha_{0} = 2 \\cdot \\frac{4}{3} \\beta_{0}$,\n",
    "\n",
    "$-\\frac{20}{3^2} \\beta_{1} = 0$\n",
    "\n",
    "$\\frac{100}{3^3}\\beta_{0}-\\frac{20}{3^2}\\beta_{1} = 0$\n",
    "\n",
    "5. $F\\left(S\\right) = \\frac{\\left(1-\\delta\\right) F\\left(\\delta\\right)}{2 \\alpha} = \\frac{1 - \\frac{S-1}{S+3}}{4} \\cdot \\frac {\\frac{8}{3}}{\\frac{5}{3}\\left(\\frac{S-1}{S+3}\\right)+1} = \\frac{2}{2 S + 1}$\n",
    "\n",
    "6. $F\\left(j\\,\\omega \\right) = \\frac{2}{2 j \\omega + 1} = \\frac{2-4 j \\omega}{1 + 4 \\omega^2}$;\n",
    "\n",
    "$S\\left(\\omega\\right) = 2\\,Re\\,F\\left(j\\omega\\right) = \\frac{4}{1+4\\omega^2}$."
   ]
  },
  {
   "cell_type": "markdown",
   "metadata": {},
   "source": [
    "Найдя непосредственно $S(\\omega)$ для $R\\left(\\tau\\right) = e^{-0.5 \\left|\\tau\\right|}$ (см. приложение 1) получим тот же результат"
   ]
  },
  {
   "cell_type": "markdown",
   "metadata": {},
   "source": [
    "Важным вопросом при определении спектральной плотности $S(\\omega)$ является оценка погрешности такого определения. Примем за погрешность определения спектральной плотности относительную среднеквадратичную погрешность аппроксимации корреляционной функции $R(\\tau)$"
   ]
  },
  {
   "cell_type": "markdown",
   "metadata": {},
   "source": [
    "$\\delta = \\frac{\\int_{0}^{T}\\left(R\\left(\\tau\\right)-R^{'}\\left(\\tau\\right)\\right)^2 d\\tau}{\\int_{0}^{T}R^2\\left(\\tau\\right) d\\tau}$ (1.47)"
   ]
  },
  {
   "cell_type": "markdown",
   "metadata": {},
   "source": [
    "где $R^{'}(\\tau)$ – корреляционная функция, полученная в результате обратного преобразования Лапласа;\n",
    "\n",
    "T – время наблюдения корреляционной функции."
   ]
  },
  {
   "cell_type": "markdown",
   "metadata": {},
   "source": [
    "На величину относительной среднеквадратичной погрешности $\\delta$ существенное влияние оказывает погрешность задания исходных данных, определения корреляционной функции $R(\\tau)$ исходного случайного процесса и значения параметров обобщенных функций Чебышева – Лагерра. Величина погрешности $\\delta$ зависит также от длительности реализации случайного процесса и по дискретизации по времени.\n",
    "Анализ погрешности $\\delta$  в общем виде представляет собой довольно сложную задачу из-за многовариационного характера зависимости погрешности $\\delta$ от её составляющих.\n"
   ]
  },
  {
   "cell_type": "markdown",
   "metadata": {},
   "source": [
    "Наличие в функциях ${l}_{n}^{\\alpha, \\beta}\\left(t\\right)$ параметров $\\alpha$ и $\\beta$ позволяет при прочих равных условиях путём их изменений минимизировать величину погрешности $\\delta$ при определении спектральной плотности. Будем называть значения этих параметров оптимальными, если они обеспечивают при прочих равных условиях минимум величины погрешности $\\delta$ .\n",
    "При реализации метода определения спектральной плотности на ЭВМ можно рекомендовать следующий способ определения значений параметров $\\alpha$ и $\\beta$ изменяющиеся с малым шагом.\n",
    "Практика изменения разработанного метода определения спектральной плотности показала, что относительная среднеквадратичная погрешность $\\delta$  для типовых корреляционных функций $R(\\tau)$ при табличном вводе исходного случайного процесса и оптимальных значений параметров $\\alpha$ и $\\beta$ не превышает величины 10 %, что представляется вполне допустимым при практическом  использовании метода. Указанная величина погрешности в основном определяется погрешностью задания исходных данных и определения корреляционной функции случайного процесса."
   ]
  },
  {
   "cell_type": "code",
   "execution_count": null,
   "metadata": {},
   "outputs": [],
   "source": []
  }
 ],
 "metadata": {
  "kernelspec": {
   "display_name": "SageMath 9.4.rc2",
   "language": "sage",
   "name": "sagemath"
  },
  "language_info": {
   "codemirror_mode": {
    "name": "ipython",
    "version": 3
   },
   "file_extension": ".py",
   "mimetype": "text/x-python",
   "name": "python",
   "nbconvert_exporter": "python",
   "pygments_lexer": "ipython3",
   "version": "3.9.5"
  }
 },
 "nbformat": 4,
 "nbformat_minor": 4
}
