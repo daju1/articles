{
 "cells": [
  {
   "cell_type": "markdown",
   "metadata": {},
   "source": [
    "https://www.dwc.knaw.nl/DL/publications/PU00018547.pdf\n",
    "\n",
    "Mathematics. - On the attraction between two perfectly conducting\n",
    "plates. By H . B. G. CASIMIR\n",
    "\n",
    "(Communicated at the meeting of May 29. 1948.) "
   ]
  },
  {
   "cell_type": "markdown",
   "metadata": {},
   "source": [
    "Let us consider a cubic cavity of volume $L^3$ bounded by perfectly conducting walls and let a perfectly conducting square plate with side $L$ be\n",
    "placed in this cavity parallel to the $xy$ face and let us compare the\n",
    "situation in whieh this plate is at a small distance a from the $xy$ face and the\n",
    "situation in which it is at a very large distance. say $L/2$. In both cases the\n",
    "expressions $\\frac{1}{2}\\sum\\,\\hbar\\omega$ where the summation extends over all possible\n",
    "resonance frequencies of the cavities are divergent and devoid of physical\n",
    "meaning but the difference between these sums in the two situations.\n",
    "$\\frac{1}{2\\,V_{I}}\\left(\\sum\\,\\,\\hbar\\omega\\right)_{I} - \\frac{1}{2\\,V_{II}}\\left(\\sum\\,\\,\\hbar\\omega\\right)_{II}$, will be shown to have a weIl defined value and this\n",
    "value will be interpreted as the interaction between the plate and the\n",
    "$xy$ face."
   ]
  },
  {
   "cell_type": "markdown",
   "metadata": {},
   "source": [
    "The possible vibrations of a cavity defined by "
   ]
  },
  {
   "cell_type": "markdown",
   "metadata": {},
   "source": [
    "$0<=x<=L$, $0<=y<=L$, $0<=z<=a$ "
   ]
  },
  {
   "cell_type": "markdown",
   "metadata": {},
   "source": [
    "have wave numbers "
   ]
  },
  {
   "cell_type": "markdown",
   "metadata": {},
   "source": [
    "$k_x = \\frac{\\pi}{L}\\,n_x$, $k_y = \\frac{\\pi}{L}\\,n_y$, $k_z = \\frac{\\pi}{a}\\,n_z$,\n",
    "\n",
    "where $n_x$. $n_y$, $n_z$:\n",
    "\n",
    "are positive integers;"
   ]
  },
  {
   "cell_type": "markdown",
   "metadata": {},
   "source": [
    "$k = \\sqrt{k_x^2+k_y^2+k_z^2} = \\sqrt{\\kappa^2+k_z^2}$. "
   ]
  },
  {
   "cell_type": "markdown",
   "metadata": {},
   "source": [
    "To every $k_x$, $k_y$, $k_z$ correspond two standing waves unless one of the $n_i$\n",
    "is zero. when th ere is only one. For $k_x$, $k_y$ there is is without importance since\n",
    "for very large $L$ we may regard $k_x$, $k_y$ as continuous variables. Thus we\n",
    "find "
   ]
  },
  {
   "cell_type": "markdown",
   "metadata": {},
   "source": [
    "$\\frac{1}{2}\\sum\\,\\hbar\\omega = \\hbar\\,c\\frac{L^2}{\\pi^2}\\int\\limits_{0}^{\\infty}\\int\\limits_{0}^{\\infty}\\left[{\\frac{1}{2}\\sqrt{k_x^2+k_y^2}+\\sum\\limits_{n=1}^{\\infty}\\sqrt{n^2\\frac{\\pi^2}{a^2}+k_x^2+k_y^2}}\\right]d{k_x}d{k_y}$"
   ]
  },
  {
   "cell_type": "markdown",
   "metadata": {},
   "source": [
    "or. introducing polar coordinates in the $k_x$, $k_y$ plane. "
   ]
  },
  {
   "cell_type": "markdown",
   "metadata": {},
   "source": [
    "$\\frac{1}{2}\\sum\\,\\hbar\\omega = \\hbar\\,c\\frac{L^2}{\\pi^2}\\cdot\\frac{\\pi}{2}\\sum\\limits_{\\left(0\\right)\\,1}^{\\infty}\\int\\limits_{0}^{\\infty}{\\sqrt{n^2\\frac{\\pi^2}{a^2}+\\kappa^2}}\\kappa\\,d{\\kappa}$"
   ]
  },
  {
   "cell_type": "markdown",
   "metadata": {},
   "source": [
    "wh ere the notation $\\left(0\\right) 1$ is meant to indicate that the term with $n = 0$\n",
    "has to be multiplied by $\\frac{1}{2}$. For very large $a$ also this last summation may\n",
    "be replaced by an integral and it is therefore easily seen that our interaction energy is given by "
   ]
  },
  {
   "cell_type": "markdown",
   "metadata": {},
   "source": [
    "$\\delta\\,E = \\hbar\\,c\\frac{L^2}{\\pi^2}\\cdot\\frac{\\pi}{2}\\left\\{\\sum\\limits_{\\left(0\\right)\\,1}^{\\infty}\\int\\limits_{0}^{\\infty}{\\sqrt{n^2\\frac{\\pi^2}{a^2}+\\kappa^2}}\\kappa\\,d{\\kappa}-\\int\\limits_{0}^{\\infty}\\int\\limits_{0}^{\\infty}{\\sqrt{k_z^2+\\kappa^2}}\\kappa\\,d{\\kappa}\\left(\\frac{a}{\\pi}d{k_z}\\right)\\right\\}$"
   ]
  },
  {
   "cell_type": "markdown",
   "metadata": {},
   "source": [
    "In order to obtain a finite result it is necessary to multiply the integrands\n",
    "by a function $f(k/k_m)$ which is unity for $k << k_m$ but tends to zero sufficiently rapidly for $(k/k_m)\\, \\rightarrow\\,\\infty$. where km may be defined by $f(1) = \\frac{1}{2}$.\n",
    "The physical meaning is obvious: for very short waves (X~rays e.g.)\n",
    "our plate is hardly an obstacle at all and therefore the zero point energy\n",
    "of these waves will not be influenced by the position of this plate. "
   ]
  },
  {
   "cell_type": "markdown",
   "metadata": {},
   "source": [
    "Introducing the variable $u = a^2\\,\\kappa^2/n^2$"
   ]
  },
  {
   "cell_type": "markdown",
   "metadata": {},
   "source": [
    "$\\delta\\,E = L^2\\,\\hbar\\,c\\frac{\\pi^2}{4\\,a^3}\\left\\{\\sum\\limits_{\\left(0\\right)\\,1}^{\\infty}\\int\\limits_{0}^{\\infty}{\\sqrt{n^2+u^2}}f(k/k_m)\\,d{\\kappa}-\\int\\limits_{0}^{\\infty}\\int\\limits_{0}^{\\infty}{\\sqrt{n^2+u^2}}f(k/k_m)\\,d{u}\\,d{n}\\right\\}$"
   ]
  },
  {
   "cell_type": "code",
   "execution_count": null,
   "metadata": {},
   "outputs": [],
   "source": []
  }
 ],
 "metadata": {
  "kernelspec": {
   "display_name": "SageMath 9.1",
   "language": "sage",
   "name": "sagemath"
  },
  "language_info": {
   "codemirror_mode": {
    "name": "ipython",
    "version": 3
   },
   "file_extension": ".py",
   "mimetype": "text/x-python",
   "name": "python",
   "nbconvert_exporter": "python",
   "pygments_lexer": "ipython3",
   "version": "3.7.9"
  }
 },
 "nbformat": 4,
 "nbformat_minor": 2
}
