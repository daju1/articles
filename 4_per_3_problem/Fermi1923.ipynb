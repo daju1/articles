{
 "cells": [
  {
   "cell_type": "markdown",
   "id": "b7f1f1ee",
   "metadata": {},
   "source": [
    "Противоречие между теориями электромагнитной массы"
   ]
  },
  {
   "cell_type": "markdown",
   "id": "1968de4b",
   "metadata": {},
   "source": [
    "РАЗРЕШЕНИЕ СУЩЕСТВУЮЩЕГО ПРОТИВОРЕЧИЯ\n",
    "МЕЖДУ ЭЛЕКТРОДИНАМИЧЕСКОЙ И РЕЛЯТИВИСТСКОЙ ТЕОРИЯМИ\n",
    "ЭЛЕКТРОМАГНИТНОЙ МАССЫ*$^1$"
   ]
  },
  {
   "cell_type": "markdown",
   "id": "503a1ff7",
   "metadata": {},
   "source": [
    "*Correzione di una contraddizione tra la teoria elettrodinamica e quella relativistica delle masse elettromagnetiche. Nuovo Cimento, 1923, 25, 159-170"
   ]
  },
  {
   "cell_type": "markdown",
   "id": "9d5b095a",
   "metadata": {},
   "source": [
    "$^1$ Относительно этого вопроса см. две работы: E. Fermi. Rend. Lincei (5), 1922, 31, 184, 306. [Статья Б5б]."
   ]
  },
  {
   "cell_type": "markdown",
   "id": "0186d679",
   "metadata": {},
   "source": [
    "§ 1. Теория электромагнитной массы впервые была развита М. Абрагамом$^2$ еще до открытия теории относительности. Поэтому Абрагам в своих расчетах, естественно, рассматривал массу системы электрических зарядов, жестко связанных между собой в смысле классической механики."
   ]
  },
  {
   "cell_type": "markdown",
   "id": "a6a9396a",
   "metadata": {},
   "source": [
    "$^2$ A b r a g a m. Theorie der Elektricitat; R i c h a r d s o n. Electron Theory of Matter, Chap. XI; L o r e n t z. The Theory of Electrons, p. 37."
   ]
  },
  {
   "cell_type": "markdown",
   "id": "8cafffa9",
   "metadata": {},
   "source": [
    "Он нашел, что при сферической симметрии системы ее масса зависит от скорости, причем для нулевых или очень малых скоростей она равна$^3$ $\\left(\\frac{4}{3}\\right) \\frac{u}{c^2}$ (где $u$ - электростатическая энергия системы и $c$ - скорость света). Для скоростей же $v$, сравнимых с $c$, появляются довольно сложные поправочные члены порядка $\\frac{v^2}{c^2}$. Еще до теории относительности Фицджеральд ввел гипотезу о том, что твердые тела испытывают сокращение в направлении их движения в отношении\n",
    "\n",
    "$$\\sqrt{1-\\frac{v^2}{c^2}}:1$$"
   ]
  },
  {
   "cell_type": "markdown",
   "id": "27f28cb5",
   "metadata": {},
   "source": [
    "и Лоренц переработал теорию электромагнитной массы Абрагама, рассмотрев теперь системы, испытывающие это сокращение, а не системы электрических зарядов, жестко связанных в смысле классической механики."
   ]
  },
  {
   "cell_type": "markdown",
   "id": "826216f4",
   "metadata": {},
   "source": [
    "$^3$ Обычно говорят, что электромагнитная масса равномерно заряженного сферического слоя с общим зарадом $e$ и радиусом $r$ равна $\\frac{2}{3} \\frac{e^2}{r c^2}$; если же заметить, что электростатическая энергия $u = \\frac{1}{2} \\frac{e^2}{r}$, то для массы находим как раз $\\left(\\frac{4}{3}\\right) \\frac{u}{c^2}$."
   ]
  },
  {
   "cell_type": "markdown",
   "id": "abd2a6e8",
   "metadata": {},
   "source": [
    "Лоренц нашел, что масса покоя (т. е. предел массы для нулевых скоростей) по-прежнему равна $\\left({}^{4}\\big/{}_{3}\\right) \\, \\frac{u}{c^2}$, а поправочные члены, зависящие от $\\frac{v^2}{c^2}$, изменились."
   ]
  },
  {
   "cell_type": "markdown",
   "id": "65849a8e",
   "metadata": {},
   "source": [
    "Опыты  Кауфмана, Бухерера и других, иследоваших массу частиц $\\alpha$-радиоактивных тел и катодных частиц большой скорости, определенно говорили в пользу так называемой теории «деформируемого» электрона Лоренца и против теории «твердого» электрона Абрагама. Вначале это интерпретировалось как доказательство исключительно электромагнитной природы массы электрона, так как счигалось, что иначе их масса должна была бы быть постоянна. Впоследствии появление теории относительности привело к тому взгляду, что все массы как электромагнитной, так и другой природы должны зависеть от скорости, равно как и масса деформируемого электрона Лоренца. Таким образом, указанные опыты\n",
    "оставляли открытым вопрос о том, полностью ли электромагнитна масса электрона, и представляли собой лишь подтверждение теории относительности. С другой стороны, специальная теория относительности, не говоря уже об общей теории относительности, привела к необходимости приписать системе с энергией $u$ массу $u/c^2$; итак, возникло серьезное разногласие между электродинамической теорией Лоренца, которая приписывает сферическому распределению электрического заряда массу покоя $\\left({}^{4}\\big/{}_{3}\\right) \\, u/c^2$, и теорией относительности, согласно которой соответствующая масса равна $u/c^2$. Такое разногласие$^4$  представляется особенно серьезным, если учесть большую важность понятия электромагнитной массы как основы электронной теории материи."
   ]
  },
  {
   "cell_type": "markdown",
   "id": "6b501a6b",
   "metadata": {},
   "source": [
    "$^4$ Опыты Кауфмана и других, естественно, не помогают решению вопроса о том, какой из двух результатов является правильным. На самом деле они позволяют определить только зависящие от скорости поправочные члены, которые одинаковы в обеих теориях (отличие же существует в значениях масс покоя)."
   ]
  },
  {
   "cell_type": "markdown",
   "id": "bcf838e1",
   "metadata": {},
   "source": [
    "Это разногласие показалось мне особенно острым в двух недавних работах$^5$, в одной из которых, рассматривая электромагнитные массы систем с произвольной симметрией на основании обычных электромагнитных теорий, я нашел, что вообще массы представляются не скалярами, а тензорами, естественно переходящими в $\\left({}^{4} \\big /{}_{3}\\right) \\, u/c^2$ при сферической симметрии. Исходя из общей теории относительности, в другой работе я рассмотрел вес тех же самых систем и нашел его во всех случаях равным $\\left(u/c^2\\right)G$ (где $G$ - гравитационное ускорение)."
   ]
  },
  {
   "cell_type": "markdown",
   "id": "80750767",
   "metadata": {},
   "source": [
    "$^5$ E. Fermi. Nuovo Cimento, 1921, VI, 22, 176, 199. (Статьи 2 и 1.)"
   ]
  },
  {
   "cell_type": "markdown",
   "id": "df274dd5",
   "metadata": {},
   "source": [
    "В настоящей работе мы покажем, что различие значений массы, полученных двумя способами, обусловлено противоречащим принципу относительности понятием жесткости, которое используется в электродинамической теории (даже в теории деформируемого электрона). Эта концепция приводит к массе $\\left({}^{4} \\big /{}_{3}\\right) \\, u/c^2$, в то время как более обоснованное, согласующееся с теорией относительности понятие абсолютно твердого тела приводит к значению $u/c^2$."
   ]
  },
  {
   "cell_type": "markdown",
   "id": "1e94491f",
   "metadata": {},
   "source": [
    "Заметим еще, что релятивистская динамика электрона была развита М. Борном $^6$, который, однако, воспользовавшись точкой зрения, по существу не отличающейся от обычной, естественно, нашел для массы покоя $\\left({}^{4} \\big /{}_{3}\\right) \\, u/c^2$"
   ]
  },
  {
   "cell_type": "markdown",
   "id": "c5f89eb2",
   "metadata": {},
   "source": [
    "$^6$ M. Born. Ann. d. Phys., 1909, 30, 1."
   ]
  },
  {
   "cell_type": "markdown",
   "id": "988cbee0",
   "metadata": {},
   "source": [
    "В наших рассуждениях мы берем за основу принцип Гамильтона как наиболее удобный для решения задачи, в которой связи довольно сложны. Действительно, наша система электрических зарядов должна иметь связи совсем иного типа, чем связи, рассматриваемые в обычной механике (вследствие принципа относительности система, в зависимости от своей\n",
    "скорости, будет испытывать лоренцово сокращение). Однако, во избежание недоразумений, сразу заметим, что хотя сокращение Лоренца имеет порядок ${v^2} \\big /{c^2}$, его влияние на электромагнитную массу касается ее основных членов (т. е. массы покоя). Поэтому оно ощутимо даже при очень низких скоростях."
   ]
  },
  {
   "cell_type": "markdown",
   "id": "8adf5ab8",
   "metadata": {},
   "source": [
    "§ 2. Итак, рассмотрим систему электрических зарядов, находящихся в абсолютно твердом диэлектрике. Предположим, что под действием электромагнитного поля, обусловленного частично самой системой, частично же внешними причинами, система находится в состоянии поступательного движения, описывая в пространстве-времени$^7$ мировую трубку."
   ]
  },
  {
   "cell_type": "markdown",
   "id": "762ab826",
   "metadata": {},
   "source": [
    "$^7$ Далее пространство - время считается эвклидовым, поскольку подразумевается, что рассматриваемые электромагнитные поля недостаточно сильны для того, чтобы заметно изменить его метрическую структуру."
   ]
  },
  {
   "cell_type": "markdown",
   "id": "52410545",
   "metadata": {},
   "source": [
    "Сформулируем точно, что именно следует понимать под поступательным движением абсолютно твердого тела. Для этого рассмотрим некоторую систему отсчета Лоренца - Эйнштейна и предположим, что в данный момент времени для нее одна точка системы зарядов имеет скорость, равную нулю; мы будем называть движение поступательным, если для этого момента времени в той же самой системе отсчета все точки нашей системы зарядов имеют скорость, равную нулю. Это равносильно утверждению, что мировые линии точек нашей системы суть трактории, ортогональные семейству линейных пространств. И действительно, в системе отсчета Лоренца - Эйнштейна, в которой пространство является одним из пространств семейства и временная ось, естественно, перпендикулярна ему вся система находится в покое в нулевой момент времени, поскольку пространство ортогонально пересекает мировые линии всех точек системы.\n",
    "При таком определении поступательного движения, по существу принятом М. Борном, жесткость системы выражается тем фактом, что ее форма в этих пространствах, перпендикулярных трубке остается неизменной т. е. все нормальные сечения трубки равны друг другу."
   ]
  },
  {
   "cell_type": "markdown",
   "id": "acfc9789",
   "metadata": {},
   "source": [
    "Чтобы применить к нашему случаю принцип Гамильтона, необходимо знать вариацию движения нашей системы, удовлетворяющую связям данной задачи, т. е. правильно интерпретируемой жесткости. Далее мы покажем, что для электромагнитной массы получается значение $\\left({}^{4} \\big /{}_{3}\\right) \\, u/c^2$ или $u/c^2$ в зависимости от того, какая из двух ниже иллюстрируемых и обозначенных буквами А и В) вариаций принимается. Сразу же будет видно, что вариацию А не следует принимать во внимание, поскольку она противоречит принципу относительности. Пусть Т - мировая трубка, описанная системой. На рисунке пространство $(х, у, z)$ представлено только одним и серением — осью $х$, и вместо времени $t$ используется $ict$, чтобы иметь определенную метрику."
   ]
  },
  {
   "cell_type": "markdown",
   "id": "a5adb2cc",
   "metadata": {},
   "source": [
    "<i>Вариация</i> А. В качестве вариации, удовлетворяющей жесткой связи, рассматривается бесконечно малое смещение, жесткое в обычном кинематическом смысле; это смещение каждого сечения трубки, параллельного пространству $(х, у, z)$, является параллельным этому пространству. Такую вариацию получим, смещая параллельно оси $х$ (см. рисунок) каждое сечение $t = const$ трубки на произвольный бесконечно малый отрезок. Если мы ограничимся трансляционными смещениями, то $\\delta х, \\deltaу, \\delta z$ — произвольные функции только времени, а $\\delta t = 0$."
   ]
  },
  {
   "attachments": {
    "Fermi1923.png": {
     "image/png": "[encoded data removed]"
    }
   },
   "cell_type": "markdown",
   "id": "2657bb81",
   "metadata": {},
   "source": [
    "![Fermi1923.png](attachment:Fermi1923.png)"
   ]
  },
  {
   "cell_type": "markdown",
   "id": "8d9f7e6e",
   "metadata": {},
   "source": [
    "<i>Вариация</i> В. В качестве вариации, удовлетворяющей жесткой связи рассматривается бесконечно малое и жесткое в обычном кинематическом смысле смещение каждого нормального сечения трубки, перпендикулярное самой трубке. На рисунке такую вариацию получим, смещая каждое нормальное сечение трубки параллельно самому себе на произвольный отрезок."
   ]
  },
  {
   "cell_type": "markdown",
   "id": "2940ba19",
   "metadata": {},
   "source": [
    "Из этих двух вариаций А <i>явно противоречит принципу относительности</i>; ее можно не принимать во внимание, поскольку она даже неинвариантна относительно преобразований Лоренца и на самом деле определяется самой выбранной системой отсчета $(х, у, z)$; она никак не может быть выражением физических понятий, таких, как понятие абсолютно\n",
    "твердого тела. Напротив, вариация В явно удовлетворяет указанному условию инвариантности; кроме того, поскольку она зависит только от элементов трубки Т, полностью независимых от положения осей системы отсчега, только она и будег естественной. Действительно, она основывается на соотвегствующем понятию абсолютно твердого тела виртуальном смещении в такой системе отсчета, по отношению к которой в рассматриваемый момент времени скорость системы зарядов равна нулю. Поверхностно рассуждая, можно было бы думать, что вариации А и В приводят к существенно различным следствиям только при больших скоростях, т. е. когда трубка Т составляет значительный угол с временной осью. Но расчеты, которые мы будем развивать, сразу покажут, что разница существенна уже для нулевых скоростей и что А дает для электромагнитной массы $\\left({}^{4} \\big /{}_{3}\\right) \\, u/c^2$, в то время как В дает $u/c^2$."
   ]
  },
  {
   "cell_type": "markdown",
   "id": "e7f46404",
   "metadata": {},
   "source": [
    "§ 3. Обозначим через $(t, х, у, z)$, или $(x_0, x_1, x_2, x_3)$, координаты времени и пространства; при этом выбор обозначений определяется только соображениями удобства. Пусть $\\varphi_i$ - четырехмерный потенциал и\n",
    "\n",
    "$$F_{ik}=\\frac{\\partial \\varphi_i}{\\partial x_k} - \\frac{\\partial \\varphi_k}{\\partial x_i}$$ -\n",
    "электромагнитное поле, а $Е$ и $Н$ - напряженности электрического и магнитного полей, соотвествующие ему."
   ]
  },
  {
   "cell_type": "markdown",
   "id": "60313aab",
   "metadata": {},
   "source": [
    "Принцип Гамильтона, суммирующий законы Максвелла - Лоренца и\n",
    "законы механики, гласит$^8$, что суммарное действие, т. е. сумма действий электромагнитного поля и «материальных» и электрических масс не меняется в результате произвольной вариации $\\varphi_i$ и координат точек мировых линий электрических зарядов, которая соответствует связям и равна нулю на границе области интегрирования. В нашем случае «материальных» масс нет, и единственные величины, которые подвергаются варьированию, суть координаты точек мировых линий зарядов; поэтому достаточно рассмотреть только действие электрических зарядов, т. е.\n",
    "\n",
    "$$W=\\sum_i\\int de \\int \\varphi_i dx_i.$$"
   ]
  },
  {
   "cell_type": "markdown",
   "id": "ef64bea8",
   "metadata": {},
   "source": [
    "Здесь $de$ — элемент электрического заряда, и второй интеграл должен быть взят по такому отрезку описанной $de$ мировой линии, который находится внутри четырехмерной области $G$ интегрирования.\n",
    "Поэтому для каждой системы вариаций $\\delta х_i$, соответствующих связям и обращающихся в нуль\n",
    "на границе $G$, должно быть $\\delta W = 0$,"
   ]
  },
  {
   "cell_type": "markdown",
   "id": "69aab989",
   "metadata": {},
   "source": [
    "т. е.\n",
    "\n",
    "$$\\sum_{ik} \\int \\int de F_{ik} \\delta x_i dx_{ik} = 0. \\,\\,\\,(1)$$"
   ]
  },
  {
   "cell_type": "markdown",
   "id": "97ce52f5",
   "metadata": {},
   "source": [
    "$^8$ W e y l. Raum, Zeit, Materie. Berlin, Springer, 1921, p. 194-196."
   ]
  },
  {
   "cell_type": "markdown",
   "id": "e21ad95d",
   "metadata": {},
   "source": [
    "Теперь необходимо рассмотреть по отдельности результаты, которые\n",
    "получаются при подсгановке значений $\\delta х_і$, следующих из вариаций типа\n",
    "А или В."
   ]
  },
  {
   "cell_type": "markdown",
   "id": "59de36e5",
   "metadata": {},
   "source": [
    "<b>4. Следствия вариаций типа А.</b> В этом случае область интегрирование сводится просто к ABCD. И действительно, области BCG, ADH не дают никакого вклада, поскольку поскольку все $\\delta x_i$ в них равны нулю; это происходит оттого, что на контуре $G$, и поэтому на пути BG, АН величины $\\delta x_i$ должны быть равны нулю, а для постоянного $t$, т. е. на линиях, параллельных оси $х$, они должны иметь постоянное значение.\n",
    "Если через $t_1$ и $t_2$ обозначить моменты времени, соответствующие А и В, то выражение (1) можно записать следующим образом:\n",
    "\n",
    "$$\\sum_{ik} \\int\\limits_{t_1}^{t_2} dt \\delta x_i \\int de F_{ik}  \\frac{dx_{k}}{dt} \\,\\,\\,(i = 1,2,3)\\,\\,\\,(k = 0,1,2,3)$$\n",
    "\n",
    "($\\delta t = 0$, а $\\delta х$, $\\delta у$, $\\delta z$ — функции только времени).\n",
    "Поскольку $\\delta х_i$ - произвольные функции $t$, получим три уравнения\n",
    "\n",
    "$$\\int de \\sum_{k} F_{ik}  \\frac{dx_{k}}{dt} = 0$$\n",
    "\n",
    "т. е.\n",
    "\n",
    "\n",
    "$$\\int de \\, \\left[ E_{x}  + \\frac{dy}{dt} H_{z} - \\frac{dz}{dt} H_{y} \\right]= 0$$\n",
    "\n",
    "\n",
    "и два аналогичных соотношения."
   ]
  },
  {
   "cell_type": "markdown",
   "id": "a79ce8a1",
   "metadata": {},
   "source": [
    "Если в рассматриваемый момент времени скорость нашей системы истеме отсчета $(t, х, у, z)$ равна нулю, то три соотношения сводятся к единственному векторному соотношению\n",
    "$$\\int \\vec E \\, de = 0. \\,\\,\\, (2)$$"
   ]
  },
  {
   "cell_type": "markdown",
   "id": "cb5e1009",
   "metadata": {},
   "source": [
    "К этому равенству мы пришли бы и без расчетов, если, как это делается при обычном подходе,\n",
    "а также по существу и в цитированной работе М. Борна, предположить априори, что полная сила, действующая на систему, равна нулю. Нам же хотелось получить равенство (2) из принципа Гамильтона, чтобы вскрыть его «врожденный» порок, обусловленный тем, что она следует из вариации типа А, которые противоречат принципу относительности. Из соотношения (2) сразу следует величина $\\left({}^{4} \\big /{}_{3}\\right) \\, u/c^2$ для електромагнитной массы. Дейсвительно, предположим, что $\\vec Е$ сумма поля $\\vec Е^{(i)}$, обусловленного самой системой, и однородного поля $\\vec Е^{(e)}$, обусловленного внешними причинами. Соотношение (2) дает\n",
    "\n",
    "$$\\int \\vec E^{(i)} \\, de +  \\vec E^{(e)} \\int\\, de= 0.$$"
   ]
  },
  {
   "cell_type": "markdown",
   "id": "0a491ab7",
   "metadata": {},
   "source": [
    "Здесь $\\int de = e$ - заряд, поэтому $\\vec E^{(e)} \\int\\, de = F$ - внешняя сила. С другой стороны, в случае сферической симметрии как прямые расчеты, так и хорошо известные рассуждения об электромагнитном импульсе $^{9}$ показывают что\n",
    "\n",
    "$$\\int \\vec E^{(i)} \\, de = - \\frac{4}{3} \\frac{u}{c^2} Г,$$\n",
    "\n",
    "где $Г$ - ускорение."
   ]
  },
  {
   "cell_type": "markdown",
   "id": "b7b3137a",
   "metadata": {},
   "source": [
    "$^{9}$ R i c h a r d s o n. Цит. соч."
   ]
  },
  {
   "cell_type": "markdown",
   "id": "3f5eb3f2",
   "metadata": {},
   "source": [
    "Предыдущее уравнение сводится тогда к\n",
    "\n",
    "$$F = \\frac{4}{3} \\frac{u}{c^2} Г;$$\n",
    "\n",
    "\n",
    "если сравнить это уравнение с основным законом динамики точки $F = m \\, Г$, получим\n",
    "\n",
    "\n",
    "$$m = \\frac{4}{3} \\frac{u}{c^2}.$$"
   ]
  },
  {
   "cell_type": "markdown",
   "id": "45264efc",
   "metadata": {},
   "source": [
    "<b>§ 5. Следствия вариаций типа В.</b> В этом случае рассуждения предыдущего параграфа показывают, что область интегрирования сводится к АВЕF, т. е. к области, заключенной между двумя нормальными сечениями трубки Т. Разложим эту область на бесконечное число слоев бесконечно малой толщины; чтобы рассчитать вклад одного из этих слоев в интеграл (1), воспользуемся его покоящейся системой отсчета, принимая пространство $(x,y,z)$ параллельным слою. Тогда для него $\\delta t = 0$, в то время как $\\delta х, \\delta у, \\delta z$ будут произвольными константами. Кроме того, $dх = dу = dz = 0$, поскольку скорость всех точек равна нулю, а $dt$, равное высоте слоя, будет изменяться от точки к точке, так как слой имеет в качестве оснований два нормальных, в общем случае не параллельных, сечения.\n",
    "Если $O$ — произвольная, но определенная точка слоя, например начало ксординат, где $dt$\n",
    "принимает значение $dt_0$, a $\\vec K$ - вектор, направленный по главной нормали к мировой линии, проходящей через $O$, и с модулем, равным ее кривизне, то ясно, что\n",
    "\n",
    "$$dt = dt_0 \\left[1 - \\vec K \\cdot \\overrightarrow{\\left(P - O\\right)}\\right],$$\n",
    "\n",
    "где $dt$ — толщина слоя в точке Р."
   ]
  },
  {
   "cell_type": "markdown",
   "id": "2e840b7a",
   "metadata": {},
   "source": [
    "Поскольку скорость равна нулю, имеем просто\n",
    "\n",
    "$$\\vec K = - \\vec Г/c^2$$\n",
    "\n",
    "и поэтому\n",
    "\n",
    "$$ dt = dt_0\\left (1 + \\frac{\\vec Г \\cdot \\overrightarrow{\\left(P - O\\right)}}{c^2}\\right).$$"
   ]
  },
  {
   "cell_type": "markdown",
   "id": "e35bd9e3",
   "metadata": {},
   "source": [
    "Подставляя эти значения, находим, что вклад такого слоя в интеграл\n",
    "(1) равен\n",
    "\n",
    "$$ - dt_0\\left\\{\n",
    "\\delta x \\int \\left (1 + \\frac{\\vec Г \\cdot \\overrightarrow{\\left(P - O\\right)}}{c^2}\\right)\\, E_x de\n",
    "+\n",
    "\\delta y \\int \\left (1 + \\frac{\\vec Г \\cdot \\overrightarrow{\\left(P - O\\right)}}{c^2}\\right)\\, E_y de\n",
    "+ \\\\ +\n",
    "\\delta z \\int \\left (1 + \\frac{\\vec Г \\cdot \\overrightarrow{\\left(P - O\\right)}}{c^2}\\right)\\, E_z de\n",
    "\\right\\}.$$\n",
    "\n",
    "Это выражение должно обращаться в нуль для всех значений $\\delta х, \\delta у, \\delta z$, и поэтому из него получаются три соотношения, которые сводятся к единственному векторному\n",
    "\n",
    "$$\\int \\left (1 + \\frac{\\vec Г \\cdot \\overrightarrow{\\left(P - O\\right)}}{c^2}\\right)\\, \\vec E de = 0.\\,\\,\\,(3)$$"
   ]
  },
  {
   "cell_type": "markdown",
   "id": "e1b0daac",
   "metadata": {},
   "source": [
    "Итак, правильное применение принципа Гамильтона привело нас к соотношению (3) вместо соотношения (2). Теперь очень легко проанализировать следствия. Полагая\n",
    "$$\\vec Е = \\vec Е^{(i)} + \\vec Е^{(e)},$$\n",
    "находим\n",
    "\n",
    "$$\n",
    "\\int \\vec E^{(i)} de +\n",
    "\\int \\vec E^{(i)} \\frac{\\vec Г \\cdot \\overrightarrow{\\left(P - O\\right)}}{c^2} \\, de +\n",
    "e \\vec E^{(e)} +\n",
    "\\vec E^{(e)} \\int \\frac{\\vec Г \\cdot \\overrightarrow{\\left(P - O\\right)}}{c^2} \\, de\n",
    "= 0.$$"
   ]
  },
  {
   "cell_type": "markdown",
   "id": "0a68a154",
   "metadata": {},
   "source": [
    "В случае сферической симметрии по-прежнему имеем\n",
    "\n",
    "$$\\int \\vec E^{(i)} \\, de = - \\, \\frac{4}{3} \\, \\frac{u}{c^2} \\, \\vec Г;$$\n",
    "\n",
    "подставляя это выражение в предыдущее, находим, что $Е(е)$ выражается олько через члены, содержащие $\\vec Г$. Поэтому, если пренебрегать членами $^{10}$, содержащими $\\vec Г^2$, то последним интегралом также можно пренебречь; так что получим\n",
    "\n",
    "$$- \\,\\frac{4}{3} \\,\\frac{u}{c^2} \\,\\vec Г +\n",
    "\\int \\vec E^{(i)} \\, \\frac{\\vec Г \\cdot \\overrightarrow{\\left(P - O\\right)}}{c^2} \\, de +\n",
    "\\vec F = 0. \\,\\,\\, (4)$$"
   ]
  },
  {
   "cell_type": "markdown",
   "id": "78c9ce73",
   "metadata": {},
   "source": [
    "$^{10}$ Точнее, число, квадратом которого пренебрегается, равно $\\vec Г l/c^2$, где $l$ - максимальная длина, существенная для данной задачи. Очевидно, что такое приближение в обычных случаях более чем оправдано."
   ]
  },
  {
   "cell_type": "markdown",
   "id": "b38022af",
   "metadata": {},
   "source": [
    "Чтобы вычислить интеграл в соотношении (4), заметим, что $ \\vec E^{(i)}$ суть\n",
    "сумма силы Кулона (\n",
    "\n",
    "$$\\int\\frac{\\overrightarrow{P-P'}}{r^3}\\,de'$$\n",
    "\n",
    "$Р'$ — точка с зарядом $de'$ и $г = PP'$) и члена, содержащего $\\vec Г$, которым можно пренебречь (поскольку он дал бы вклад порядка $\\vec Г^2$). Тогда наш интеграл становится:\n",
    "\n",
    "$$\\int \\int\\frac{\\overrightarrow{P-P'}}{r^3}\\,de' \\, \\frac{\\vec Г \\cdot \\overrightarrow{\\left(P - O\\right)}}{c^2} \\, de$$"
   ]
  },
  {
   "cell_type": "markdown",
   "id": "b5259f1c",
   "metadata": {},
   "source": [
    "или, заменив $O$ на $Р'$ (что ничего не изменяет) и взяв полусумму двух полученных таким образом значений,\n",
    "\n",
    "$$\\frac{1}{2} \\int \\int\\frac{\\overrightarrow{P-P'}}{r^3} \\, \\frac{\\vec Г \\cdot \\overrightarrow{\\left(P - P'\\right)}}{c^2} \\, de\\,de'.$$"
   ]
  },
  {
   "cell_type": "markdown",
   "id": "3de592e4",
   "metadata": {},
   "source": [
    "Заметим, что для всех точек в нашем приближении $\\vec Г$ - константа и поэтому ее можно вынести из-под знака интеграла. Следовательно, $х$-компонента предыдущего интеграла есть\n",
    "\n",
    "$$\\frac{1}{2 \\, c^2} \\left\\{\n",
    "Г_x \\, \\int \\int\\frac{{x-x'}}{r^3} \\, { {\\left(x - x'\\right)}} \\, de\\,de'\n",
    "+\n",
    "Г_y \\, \\int \\int\\frac{{x-x'}}{r^3} \\, { {\\left(y - y'\\right)}} \\, de\\,de'\n",
    "+ \\\\ +\n",
    "\\, Г_z \\, \\int \\int\\frac{{x-x'}}{r^3} \\, { {\\left(z - z'\\right)}} \\, de\\,de'\n",
    "\\right\\}.$$"
   ]
  },
  {
   "cell_type": "markdown",
   "id": "3a16699e",
   "metadata": {},
   "source": [
    "Далее, поскольку система обладает сферической симметрией, каждому отрезку $PP'$ соответствует бесконечное число других отрезков, отличающихся только ориентацией. Тогда в трех интегралах мы можем заменить\n",
    "\n",
    "$$\\left(x-x'\\right)^2, \\,\\,\\,\n",
    "\\left(x-x'\\right) \\, \\left(y - y'\\right), \\,\\,\\,\n",
    "\\left(x-x'\\right) \\, \\left(z - z'\\right)$$\n",
    "\n",
    "их средними значениями для всех возможных ориентаций $РР'$:\n",
    "\n",
    "$$\\frac{1}{3}r^2, \\,\\,\\,0, \\,\\,\\,0$$\n",
    "\n",
    "При этом $х$-компонента становится равной\n",
    "\n",
    "$$\\frac{Г_x}{3 \\, c^2}\\frac{1}{2} \\, \\int \\int\\frac{{de\\,de'}}{r}.$$\n",
    "\n",
    "Теперь заметим, что выражение\n",
    "\n",
    "$$\\frac{1}{2} \\, \\int \\int\\frac{{de\\,de'}}{r}.$$\n",
    "\n",
    "есть не что иное, как электростатическая энергия $u$; возвращаясь к векторным обозначениям, найдем, что интеграл, входящий в соотношение\n",
    "(4), равен $\\left(\\frac{u}{3 \\, c^2}\\right) \\vec Г$. Итак, соотношение (4) принимает вид\n",
    "\n",
    "$$\\frac{u}{c^2} \\,\\vec Г = \\vec F. \\,\\,\\, (5)$$\n",
    "\n",
    "Отсюда сразу видно, что электромагнитная масса равна $\\frac{u}{c^2}$."
   ]
  },
  {
   "cell_type": "code",
   "execution_count": null,
   "id": "36d34f61",
   "metadata": {},
   "outputs": [],
   "source": []
  },
  {
   "cell_type": "markdown",
   "id": "7888e192",
   "metadata": {},
   "source": [
    "Примечание. Рассмотрим более подробно Вывод Ферми начиная с \"достаточно рассмотреть только действие электрических зарядов, т. е\".\n",
    "\n",
    "$$W=\\sum_i\\int de \\int \\varphi_i dx_i.$$"
   ]
  },
  {
   "cell_type": "markdown",
   "id": "a0026548",
   "metadata": {},
   "source": [
    "В ЛЛ2 \"Теория поля\" есть аналогичная формула (16,1), отбросив от которой действие материальной массы можно записать\n",
    "\n",
    "$$S = \\int\\limits_{a}^{b} \\left(-\\frac{\\int de}{c}A_i d x^i\\right).\\,\\,\\,  (16,1)$$\n",
    "\n",
    "\n",
    "$$S = \\int\\limits_{a}^{b} \\left(\\frac{e}{c}\\vec A d\\vec r - e \\varphi dt \\right),$$\n",
    "\n",
    "где $x^i = \\left(ct, x, y, z\\right)$\n",
    "\n",
    "$$A^i=\\left(\\varphi, \\vec A\\right).\\,\\,\\, (16,2)$$\n",
    "\n"
   ]
  },
  {
   "cell_type": "markdown",
   "id": "6c013974",
   "metadata": {},
   "source": [
    "\n",
    "$$\\delta S = \\delta \\int\\limits_{a}^{b} \\left(-\\frac{e}{c}A_i d x^i\\right).\\,\\,\\,  (23,1)$$\n"
   ]
  },
  {
   "cell_type": "markdown",
   "id": "4503aae0",
   "metadata": {},
   "source": [
    "Изменение $S$ при замене $x^i$ на $x^i + \\delta x^i$ (или изменение $W$ при замене $x_i$ на $x_i + \\delta x_i$ в обозначениях Ферми)  и при замене $A_i$ на $A_i + \\delta A_i$  ($\\varphi_i$ на $\\varphi_i + \\delta \\varphi_i$ в обозначениях Ферми) даётся разностью\n",
    "\n",
    "Ландау:\n",
    "$$\n",
    "\\int de \\int\\limits_{a}^{b} (A_i(x^i + \\delta x^i)) \\, dx^i - \\int de \\int\\limits_{a}^{b} A_i(x^i) \\, dx^i\n",
    "+\\\\+\n",
    "\\int de \\int\\limits_{a}^{b} (A_i + \\delta A_i) \\, dx^i - \\int de \\int\\limits_{a}^{b} A_i(x^i) \\, dx^i\n",
    ".\n",
    "$$\n",
    "\n",
    "Ферми:\n",
    "$$\n",
    "\\sum_i\\int de \\int\\limits_{a}^{b} (\\varphi_i(x_i + \\delta x_i)) \\, dx_i - \\sum_i\\int de \\int\\limits_{a}^{b} \\varphi_i(x_i) \\, dx_i\n",
    "+\\\\+\n",
    "\\sum_i\\int de \\int\\limits_{a}^{b} (\\varphi_i + \\delta \\varphi_i) \\, dx_i - \\sum_i\\int de \\int\\limits_{a}^{b} \\varphi_i(x_i) \\, dx_i\n",
    ".\n",
    "$$\n",
    "\n",
    "разложение этой разности по степеням  $\\delta A_i$ и $\\delta x^i$ в подынтегральном выражении начинается с членов первого порядка. Необходимым условием минимальности $W$ является обращение в нуль совокупности этих членов. Такое разложение называют первой вариацией интеграла. Производя варьирование можно записать\n",
    "\n",
    "$$\\delta W =  \\sum\\limits_i \\int de \\int\\limits_{a}^{b}  \\varphi_i(x_0, x_1, x_2, x_3) \\,d \\delta x_i + \\sum\\limits_i \\int de \\int\\limits_{a}^{b} \\delta \\varphi_i(x_0, x_1, x_2, x_3) \\,d x_i$$"
   ]
  },
  {
   "cell_type": "markdown",
   "id": "58f7e00e",
   "metadata": {},
   "source": [
    "Ландау\n",
    "\n",
    "$$\\delta S = - \\int\\limits_{a}^{b} \\left(\\frac{\\int de}{c}A_i d \\delta x^i + \\frac{\\int de}{c}\\delta A_i d x^i\\right).$$"
   ]
  },
  {
   "cell_type": "markdown",
   "id": "e7682bde",
   "metadata": {},
   "source": [
    "Проинтегрировав по частям первое слагаемое\n",
    "\n",
    "$$\\delta S = \\int\\limits_{a}^{b} \\left(\\frac{\\int de}{c} \\delta x^i d A_i - \\frac{\\int de}{c}\\delta A_i d x^i\\right) -  \\left(\\frac{\\int de}{c}A_i \\delta x^i \\right) \\Bigg|_{a}^{b}.\\,\\,\\,  (23,2)$$\n"
   ]
  },
  {
   "cell_type": "markdown",
   "id": "03d2412c",
   "metadata": {},
   "source": [
    "Далее учитывая, что $\\delta A_i = \\frac{\\partial A_i}{\\partial x^k} \\delta x^k$,  $d A_i = \\frac{\\partial A_i}{\\partial x^k} d x^k$"
   ]
  },
  {
   "cell_type": "markdown",
   "id": "5f3fb261",
   "metadata": {},
   "source": [
    "\n",
    "$$\\delta S = \\int\\limits_{a}^{b} \\left(\\frac{\\int de}{c} \\delta x^i \\frac{\\partial A_i}{\\partial x^k} d x^k - \\frac{\\int de}{c}\\frac{\\partial A_i}{\\partial x^k} \\delta x^k d x^i\\right) - \\left(\\frac{\\int de}{c}A_i \\delta x^i \\right) \\Bigg|_{a}^{b}.$$\n"
   ]
  },
  {
   "cell_type": "markdown",
   "id": "9ce00b36",
   "metadata": {},
   "source": [
    "Во втором слагаемом поменяем индексы $i$ и $k$ местами, так как по этим индексам производится суммирование результат не изменится"
   ]
  },
  {
   "cell_type": "markdown",
   "id": "73a5f669",
   "metadata": {},
   "source": [
    "\n",
    "$$\\delta S = \\int\\limits_{a}^{b} \\left(\\frac{\\int de}{c} \\delta x^i \\frac{\\partial A_i}{\\partial x^k} d x^k - \\frac{\\int de}{c}\\frac{\\partial A_k}{\\partial x^i} \\delta x^i d x^k\\right) - \\left(\\frac{\\int de}{c}A_i \\delta x^i \\right) \\Bigg|_{a}^{b},$$\n"
   ]
  },
  {
   "cell_type": "markdown",
   "id": "679669e4",
   "metadata": {},
   "source": [
    "$$\\delta S = \\int\\limits_{a}^{b} \\left( - \\frac{\\int de}{c}\\left(\\frac{\\partial A_k}{\\partial x^i} -\\frac{\\partial A_i}{\\partial x^k}\\right) \\delta x^i d x^k\\right) - \\left(\\frac{\\int de}{c}A_i \\delta x^i \\right) \\Bigg|_{a}^{b}.$$"
   ]
  },
  {
   "cell_type": "markdown",
   "id": "3f477fc1",
   "metadata": {},
   "source": [
    "Исходя из этих выкладок в формуле (1) Ферми"
   ]
  },
  {
   "cell_type": "markdown",
   "id": "cfb26ea4",
   "metadata": {},
   "source": [
    "$$\\sum_{ik} \\int \\int de F_{ik} \\delta x_i dx_{ik} = 0, \\,\\,\\,(1)$$"
   ]
  },
  {
   "cell_type": "markdown",
   "id": "51d44051",
   "metadata": {},
   "source": [
    "вероятно, имеется опечатка. Правильно так:"
   ]
  },
  {
   "cell_type": "markdown",
   "id": "a7a78ab2",
   "metadata": {},
   "source": [
    "$$\\sum_{ik} \\int\\limits_{a}^{b} \\int de F_{ik} \\delta x_i dx_{k} = 0. \\,\\,\\,(1)$$"
   ]
  },
  {
   "cell_type": "markdown",
   "id": "34a09154",
   "metadata": {},
   "source": [
    "Откуда путём введения скоростей у Ферми прозводится переход к интегрированию по времени"
   ]
  },
  {
   "cell_type": "markdown",
   "id": "a3741883",
   "metadata": {},
   "source": [
    "$$\\sum_{ik} \\int\\limits_{t_1}^{t_2} dt \\, \\delta x_i \\int de F_{ik}  \\frac{dx_{k}}{dt} \\,\\,\\,(i = 1,2,3)\\,\\,\\,(k = 0,1,2,3),$$"
   ]
  },
  {
   "cell_type": "markdown",
   "id": "385a5a10",
   "metadata": {},
   "source": [
    "тогда как у Ландау путём введения 4-скорости происходит переход к интегрированию по интервалу"
   ]
  },
  {
   "cell_type": "markdown",
   "id": "41201257",
   "metadata": {},
   "source": [
    "\n",
    "$$\\sum_{ik} \\int\\limits_{s_1}^{s_2} ds \\, \\delta x_i \\int de F_{ik}  \\frac{dx_{k}}{ds} \\,\\,\\,(i = 1,2,3)\\,\\,\\,(k = 0,1,2,3).$$\n"
   ]
  },
  {
   "cell_type": "markdown",
   "id": "86ffeeb3",
   "metadata": {},
   "source": [
    "Здесь нужно отметить, что множитель Ферми $\\left( 1 + \\frac{\\vec a \\vec r}{c^2}\\right)$ был получен для случая когда скорость равна нулю. В общем случае ненулевой скорости множитель Ферми будет выглядеть\n",
    "\n",
    "$$\\left( 1 + \\frac{g_i r^i}{c^2}\\right),$$\n",
    "\n",
    "где $g_i$ - 4-ускорение, которое, как известно, является вектором кривизны мировой линии, $r^i$ - 4-радиус-вектор из точки источника поля (заряда) в точку наблючения поля."
   ]
  },
  {
   "cell_type": "code",
   "execution_count": null,
   "id": "82a1de57",
   "metadata": {},
   "outputs": [],
   "source": []
  },
  {
   "cell_type": "markdown",
   "id": "401ba29d",
   "metadata": {},
   "source": [
    "Надо отметить, что попытка применить подход Ферми к параграфу 16 Ландау Лифшица, где вводя скорость частицы $\\vec v = d \\vec r /d t$ и переходя к интегрированию по времени"
   ]
  },
  {
   "cell_type": "markdown",
   "id": "5c8f502c",
   "metadata": {},
   "source": [
    "$$S = \\int\\limits_{t_1}^{t_2} \\left(\\frac{e}{c}\\vec A \\vec v - e \\varphi \\right) dt. \\,\\,\\,  (16,3)$$\n",
    "\n",
    "$$L = \\left(\\frac{e}{c}\\vec A \\vec v - e \\varphi \\right). \\,\\,\\,  (16,4)$$\n",
    "\n",
    "Привела бы к уравнению\n",
    "\n",
    "$$S = \\int\\limits_{t_1}^{t_2} \\left(\\frac{e}{c}\\vec A \\vec v - e \\varphi \\right) \\left(1+\\frac{\\vec a \\vec r}{c^2}\\right) dt. \\,\\,\\,  (16,3)$$\n",
    "\n",
    "смысл которого не очень понятен. Если интерпретировать множитель $\\left(1+\\frac{\\vec a \\vec r}{c^2}\\right)$ как степень кривизны мировой трубки заряда, ускоряющегося с ускорением $\\vec a$, то при этом возникает вопрос, кк правильно интерпретиовать радиус вектор $\\vec r$. Проблема применения подхода Ферми к параграфу 16 возникает вероятно потому, что в этом параграфе варьированию подвергается только лишь координаты заряда, но не подвергается варьированию поле, на которое движущийся с ускорениям заряд тоже оказывает влияние."
   ]
  },
  {
   "cell_type": "code",
   "execution_count": null,
   "id": "f2c10a8f",
   "metadata": {},
   "outputs": [],
   "source": []
  }
 ],
 "metadata": {
  "kernelspec": {
   "display_name": "SageMath 9.6.beta7",
   "language": "sage",
   "name": "sagemath"
  },
  "language_info": {
   "codemirror_mode": {
    "name": "ipython",
    "version": 3
   },
   "file_extension": ".py",
   "mimetype": "text/x-python",
   "name": "python",
   "nbconvert_exporter": "python",
   "pygments_lexer": "ipython3",
   "version": "3.10.3"
  }
 },
 "nbformat": 4,
 "nbformat_minor": 5
}
