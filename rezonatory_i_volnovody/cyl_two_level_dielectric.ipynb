{
 "cells": [
  {
   "cell_type": "code",
   "execution_count": 1,
   "metadata": {},
   "outputs": [],
   "source": [
    "# %display latex"
   ]
  },
  {
   "cell_type": "code",
   "execution_count": 2,
   "metadata": {},
   "outputs": [],
   "source": [
    "from IPython.display import display, Math, Latex"
   ]
  },
  {
   "cell_type": "code",
   "execution_count": 3,
   "metadata": {},
   "outputs": [],
   "source": [
    "kappa = var(\"kappa\")\n",
    "\n",
    "z = var(\"z\")\n",
    "rh = var(\"rho\")\n",
    "ph = var(\"varphi\")\n",
    "\n",
    "c = var(\"c\")\n",
    "omega = var(\"omega\")\n",
    "\n",
    "h = var(\"h\")\n",
    "a = var(\"a\")\n",
    "\n",
    "m = var(\"m\")\n",
    "psi_m = var(\"psi_m\")\n",
    "\n",
    "m_val = 0"
   ]
  },
  {
   "cell_type": "code",
   "execution_count": 4,
   "metadata": {},
   "outputs": [],
   "source": [
    "def bessel_J_diff(m, arg):\n",
    "    return bessel_J(m, x).diff(x).subs(x == arg)"
   ]
  },
  {
   "cell_type": "code",
   "execution_count": 5,
   "metadata": {},
   "outputs": [],
   "source": [
    "exec(preparse(\"bessel_J_d = lambda m, x: \" + str(bessel_J(m,x).diff(x)) +\"\"))"
   ]
  },
  {
   "cell_type": "code",
   "execution_count": 6,
   "metadata": {},
   "outputs": [],
   "source": [
    "n_layers = 2"
   ]
  },
  {
   "cell_type": "code",
   "execution_count": 7,
   "metadata": {},
   "outputs": [],
   "source": [
    "mu = []\n",
    "for i in range(n_layers):\n",
    "    exec(\"mu_\" + str(i) + \"= var('mu_\" + str(i) + \"')\")\n",
    "    exec(\"mu += [mu_\" + str(i) +\"]\")"
   ]
  },
  {
   "cell_type": "code",
   "execution_count": 8,
   "metadata": {},
   "outputs": [],
   "source": [
    "epsilon = []\n",
    "for i in range(n_layers):\n",
    "    exec(\"epsilon_\" + str(i) + \"= var('epsilon_\" + str(i) + \"')\")\n",
    "    exec(\"epsilon += [epsilon_\" + str(i) +\"]\")"
   ]
  },
  {
   "cell_type": "code",
   "execution_count": 9,
   "metadata": {},
   "outputs": [],
   "source": [
    "A_z = []\n",
    "for i in range(n_layers):\n",
    "    exec(\"A_z_\" + str(i) + \"= var('A_z_\" + str(i) + \"')\")\n",
    "    exec(\"A_z += [A_z_\" + str(i) +\"]\")"
   ]
  },
  {
   "cell_type": "code",
   "execution_count": 10,
   "metadata": {},
   "outputs": [
    {
     "data": {
      "text/plain": [
       "[A_z_0, A_z_1]"
      ]
     },
     "execution_count": 10,
     "metadata": {},
     "output_type": "execute_result"
    }
   ],
   "source": [
    "A_z"
   ]
  },
  {
   "cell_type": "code",
   "execution_count": 11,
   "metadata": {},
   "outputs": [],
   "source": [
    "B_z = []\n",
    "for i in range(n_layers):\n",
    "    exec(\"B_z_\" + str(i) + \"= var('B_z_\" + str(i) + \"')\")\n",
    "    exec(\"B_z += [B_z_\" + str(i) +\"]\")"
   ]
  },
  {
   "cell_type": "code",
   "execution_count": 12,
   "metadata": {},
   "outputs": [
    {
     "data": {
      "text/plain": [
       "[B_z_0, B_z_1]"
      ]
     },
     "execution_count": 12,
     "metadata": {},
     "output_type": "execute_result"
    }
   ],
   "source": [
    "B_z"
   ]
  },
  {
   "cell_type": "code",
   "execution_count": 13,
   "metadata": {},
   "outputs": [],
   "source": [
    "k = []\n",
    "for i in range(n_layers):\n",
    "    exec(\"k_\" + str(i) + \"= var('k_\" + str(i) + \"')\")\n",
    "    exec(\"k += [k_\" + str(i) +\"]\")"
   ]
  },
  {
   "cell_type": "code",
   "execution_count": 14,
   "metadata": {},
   "outputs": [
    {
     "data": {
      "text/latex": [
       "$$\\left[-k_{0}^{2} + \\frac{\\epsilon_{0} \\mu_{0} \\omega^{2}}{c^{2}} = \\kappa^{2}, -k_{1}^{2} + \\frac{\\epsilon_{1} \\mu_{1} \\omega^{2}}{c^{2}} = \\kappa^{2}\\right]$$"
      ],
      "text/plain": [
       "<IPython.core.display.Math object>"
      ]
     },
     "metadata": {},
     "output_type": "display_data"
    }
   ],
   "source": [
    "# исходя из вида дифференциальных уравнений для диэлектрика\n",
    "# записываем соотнощения для волнового вектора в виде уравнений\n",
    "eq_kappa = []\n",
    "for i in range(n_layers):\n",
    "    eq_kappa += [mu[i] * epsilon[i] * omega^2 / c^2 - k[i]^2 == kappa^2]\n",
    "\n",
    "display(Math(latex(eq_kappa)))"
   ]
  },
  {
   "cell_type": "code",
   "execution_count": 15,
   "metadata": {},
   "outputs": [],
   "source": [
    "E_rh = []\n",
    "for i in range(n_layers):\n",
    "    E_rh += [lambda rh,ph,z, i=i: k[i]/kappa * bessel_J_d(m,kappa*rh)*(-A_z[i]*sin(k[i]*z) + B_z[i]*cos(k[i]*z)) * sin(m*ph + psi_m)]"
   ]
  },
  {
   "cell_type": "code",
   "execution_count": 16,
   "metadata": {},
   "outputs": [],
   "source": [
    "E_ph = []\n",
    "for i in range(n_layers):\n",
    "    E_ph += [lambda rh,ph,z, i=i: m*k[i]/(kappa^2*rh) * bessel_J  (m,kappa*rh)*(-A_z[i]*sin(k[i]*z) + B_z[i]*cos(k[i]*z)) * cos(m*ph + psi_m)]"
   ]
  },
  {
   "cell_type": "code",
   "execution_count": 17,
   "metadata": {},
   "outputs": [],
   "source": [
    "E_z = []\n",
    "for i in range(n_layers):\n",
    "    E_z += [lambda rh,ph,z, i=i: bessel_J  (m,kappa*rh)*( A_z[i]*cos(k[i]*z) + B_z[i]*sin(k[i]*z)) * sin(m*ph + psi_m)]"
   ]
  },
  {
   "cell_type": "code",
   "execution_count": 18,
   "metadata": {},
   "outputs": [],
   "source": [
    "H_rh = []\n",
    "for i in range(n_layers):\n",
    "    H_rh += [lambda rh,ph,z, i=i : I*m*omega*epsilon[i]/(kappa^2*c*rh) * bessel_J  (m,kappa*rh)*(-A_z[i]*cos(k[i]*z) - B_z[i]*sin(k[i]*z)) * cos(m*ph + psi_m)]"
   ]
  },
  {
   "cell_type": "code",
   "execution_count": 19,
   "metadata": {},
   "outputs": [],
   "source": [
    "H_ph = []\n",
    "for i in range(n_layers):\n",
    "    H_ph += [lambda rh,ph,z, i=i : I*omega*epsilon[i]/(kappa*c) * bessel_J_d(m,kappa*rh)*( A_z[i]*cos(k[i]*z) + B_z[i]*sin(k[i]*z)) * sin(m*ph + psi_m)]"
   ]
  },
  {
   "cell_type": "code",
   "execution_count": 20,
   "metadata": {},
   "outputs": [],
   "source": [
    "H_z = []\n",
    "for i in range(n_layers):\n",
    "    H_z += [lambda rh,ph,z, i=i : 0]"
   ]
  },
  {
   "cell_type": "code",
   "execution_count": 21,
   "metadata": {},
   "outputs": [
    {
     "data": {
      "text/plain": [
       "-1/2*(B_z_0*cos(k_0*z) - A_z_0*sin(k_0*z))*k_0*(bessel_J(m + 1, kappa*rho) - bessel_J(m - 1, kappa*rho))*sin(m*varphi + psi_m)/kappa"
      ]
     },
     "execution_count": 21,
     "metadata": {},
     "output_type": "execute_result"
    }
   ],
   "source": [
    "E_rh[0](rh,ph,z)"
   ]
  },
  {
   "cell_type": "code",
   "execution_count": 22,
   "metadata": {},
   "outputs": [
    {
     "data": {
      "text/plain": [
       "(B_z_0*cos(k_0*z) - A_z_0*sin(k_0*z))*k_0*m*bessel_J(m, kappa*rho)*cos(m*varphi + psi_m)/(kappa^2*rho)"
      ]
     },
     "execution_count": 22,
     "metadata": {},
     "output_type": "execute_result"
    }
   ],
   "source": [
    "E_ph[0](rh,ph,z)"
   ]
  },
  {
   "cell_type": "code",
   "execution_count": 23,
   "metadata": {},
   "outputs": [],
   "source": [
    "if 1 < n_layers:\n",
    "    E_rh[1](rh,ph,z)"
   ]
  },
  {
   "cell_type": "code",
   "execution_count": 24,
   "metadata": {},
   "outputs": [],
   "source": [
    "if 1 < n_layers:\n",
    "    E_ph[1](rh,ph,z)"
   ]
  },
  {
   "cell_type": "code",
   "execution_count": 25,
   "metadata": {},
   "outputs": [
    {
     "data": {
      "text/plain": [
       "(A_z_0*cos(k_0*z) + B_z_0*sin(k_0*z))*bessel_J(m, kappa*rho)*sin(m*varphi + psi_m)"
      ]
     },
     "execution_count": 25,
     "metadata": {},
     "output_type": "execute_result"
    }
   ],
   "source": [
    "E_z[0](rh,ph,z)"
   ]
  },
  {
   "cell_type": "code",
   "execution_count": 26,
   "metadata": {
    "scrolled": true
   },
   "outputs": [],
   "source": [
    "if 1 < n_layers:\n",
    "    E_z[1](rh,ph,z)"
   ]
  },
  {
   "cell_type": "code",
   "execution_count": 27,
   "metadata": {},
   "outputs": [],
   "source": [
    "rotE_rh = []\n",
    "for i in range(n_layers):\n",
    "    exec(preparse(\"rotE_rh += [lambda rh,ph,z, i=i: \" + str(E_z[i](rh,ph,z).diff(ph)/rh - E_ph[i](rh,ph,z).diff(z)) +\"]\"))"
   ]
  },
  {
   "cell_type": "code",
   "execution_count": 28,
   "metadata": {},
   "outputs": [],
   "source": [
    "rotE_ph = []\n",
    "for i in range(n_layers):\n",
    "    exec(preparse(\"rotE_ph += [lambda rh,ph,z, i=i: \" + str(E_rh[i](rh,ph,z).diff(z)-E_z[i](rh,ph,z).diff(rh)) +\"]\"))"
   ]
  },
  {
   "cell_type": "code",
   "execution_count": 29,
   "metadata": {},
   "outputs": [],
   "source": [
    "rotE_z = []\n",
    "for i in range(n_layers):\n",
    "    exec(preparse(\"rotE_z += [lambda rh,ph,z, i=i: \" + str(((rh*E_ph[i](rh,ph,z)).diff(rh) - E_rh[i](rh,ph,z).diff(ph))/rh) +\"]\"))"
   ]
  },
  {
   "cell_type": "code",
   "execution_count": 30,
   "metadata": {
    "scrolled": true
   },
   "outputs": [
    {
     "data": {
      "text/plain": [
       "1/2*(A_z_0*cos(k_0*z) + B_z_0*sin(k_0*z))*kappa*(bessel_J(m + 1, kappa*rho) - bessel_J(m - 1, kappa*rho))*sin(m*varphi + psi_m) + 1/2*(A_z_0*k_0*cos(k_0*z) + B_z_0*k_0*sin(k_0*z))*k_0*(bessel_J(m + 1, kappa*rho) - bessel_J(m - 1, kappa*rho))*sin(m*varphi + psi_m)/kappa"
      ]
     },
     "execution_count": 30,
     "metadata": {},
     "output_type": "execute_result"
    }
   ],
   "source": [
    "rotE_ph[0](rh,ph,z)"
   ]
  },
  {
   "cell_type": "code",
   "execution_count": 31,
   "metadata": {},
   "outputs": [],
   "source": [
    "if 1 < n_layers:\n",
    "    rotE_ph[1](rh,ph,z)"
   ]
  },
  {
   "cell_type": "code",
   "execution_count": 32,
   "metadata": {},
   "outputs": [
    {
     "data": {
      "text/plain": [
       "(A_z_0*cos(k_0*z) + B_z_0*sin(k_0*z))*m*bessel_J(m, kappa*rho)*cos(m*varphi + psi_m)/rho + (A_z_0*k_0*cos(k_0*z) + B_z_0*k_0*sin(k_0*z))*k_0*m*bessel_J(m, kappa*rho)*cos(m*varphi + psi_m)/(kappa^2*rho)"
      ]
     },
     "execution_count": 32,
     "metadata": {},
     "output_type": "execute_result"
    }
   ],
   "source": [
    "rotE_rh[0](rh,ph,z)"
   ]
  },
  {
   "cell_type": "code",
   "execution_count": 33,
   "metadata": {},
   "outputs": [
    {
     "data": {
      "text/plain": [
       "0"
      ]
     },
     "execution_count": 33,
     "metadata": {},
     "output_type": "execute_result"
    }
   ],
   "source": [
    "rotE_z[0](rh,ph,z)"
   ]
  },
  {
   "cell_type": "code",
   "execution_count": 34,
   "metadata": {},
   "outputs": [],
   "source": [
    "H_rh = []\n",
    "for i in range(n_layers):\n",
    "    H_rh += [lambda rh,ph,z, i=i : rotE_rh[i](rh,ph,z)*c/(I*omega *mu[i])]"
   ]
  },
  {
   "cell_type": "code",
   "execution_count": 35,
   "metadata": {},
   "outputs": [],
   "source": [
    "H_ph = []\n",
    "for i in range(n_layers):\n",
    "    H_ph += [lambda rh,ph,z, i=i : rotE_ph[i](rh,ph,z)*c/(I*omega *mu[i])]"
   ]
  },
  {
   "cell_type": "code",
   "execution_count": 36,
   "metadata": {},
   "outputs": [],
   "source": [
    "H_z = []\n",
    "for i in range(n_layers):\n",
    "    H_z += [lambda rh,ph,z, i=i : rotE_z[i](rh,ph,z)*c/(I*omega *mu[i])]"
   ]
  },
  {
   "cell_type": "code",
   "execution_count": 37,
   "metadata": {},
   "outputs": [
    {
     "data": {
      "text/plain": [
       "-I*(k_0^2 + kappa^2)*(A_z_0*cos(k_0*z) + B_z_0*sin(k_0*z))*c*m*bessel_J(m, kappa*rho)*cos(m*varphi + psi_m)/(kappa^2*mu_0*omega*rho)"
      ]
     },
     "execution_count": 37,
     "metadata": {},
     "output_type": "execute_result"
    }
   ],
   "source": [
    "H_rh[0](rh,ph,z).factor()"
   ]
  },
  {
   "cell_type": "code",
   "execution_count": 38,
   "metadata": {},
   "outputs": [],
   "source": [
    "if 1 < n_layers:\n",
    "    H_rh[1](rh,ph,z)"
   ]
  },
  {
   "cell_type": "code",
   "execution_count": 39,
   "metadata": {
    "scrolled": true
   },
   "outputs": [
    {
     "data": {
      "text/latex": [
       "$$-\\frac{i \\, {\\left(k_{0}^{2} + \\kappa^{2}\\right)} {\\left(A_{z_{0}} \\cos\\left(k_{0} z\\right) + B_{z_{0}} \\sin\\left(k_{0} z\\right)\\right)} c {\\left(J_{m + 1}(\\kappa \\rho) - J_{m - 1}(\\kappa \\rho)\\right)} \\sin\\left(m \\varphi + \\psi_{m}\\right)}{2 \\, \\kappa \\mu_{0} \\omega}$$"
      ],
      "text/plain": [
       "<IPython.core.display.Math object>"
      ]
     },
     "metadata": {},
     "output_type": "display_data"
    }
   ],
   "source": [
    "display(Math(latex(H_ph[0](rh,ph,z).factor())))"
   ]
  },
  {
   "cell_type": "code",
   "execution_count": 40,
   "metadata": {},
   "outputs": [
    {
     "data": {
      "text/plain": [
       "-1/2*I*(A_z_0*k_0^2*(bessel_J(1, kappa*rho) - bessel_J(-1, kappa*rho))*cos(k_0*z)*sin(psi_m)/kappa + A_z_0*kappa*(bessel_J(1, kappa*rho) - bessel_J(-1, kappa*rho))*cos(k_0*z)*sin(psi_m))*c/(mu_0*omega)"
      ]
     },
     "execution_count": 40,
     "metadata": {},
     "output_type": "execute_result"
    }
   ],
   "source": [
    "H_ph[0](rh,ph,z).subs(m == 0, B_z[0] == 0)"
   ]
  },
  {
   "cell_type": "code",
   "execution_count": 41,
   "metadata": {},
   "outputs": [],
   "source": [
    "if 1 < n_layers:\n",
    "    H_ph[1](rh,ph,z)"
   ]
  },
  {
   "cell_type": "code",
   "execution_count": 42,
   "metadata": {},
   "outputs": [
    {
     "data": {
      "text/plain": [
       "0"
      ]
     },
     "execution_count": 42,
     "metadata": {},
     "output_type": "execute_result"
    }
   ],
   "source": [
    "H_z[0](rh,ph,z)"
   ]
  },
  {
   "cell_type": "code",
   "execution_count": 43,
   "metadata": {},
   "outputs": [],
   "source": [
    "if 1 < n_layers:\n",
    "    H_z[1](rh,ph,z)"
   ]
  },
  {
   "cell_type": "code",
   "execution_count": 44,
   "metadata": {},
   "outputs": [
    {
     "data": {
      "text/latex": [
       "$$\\left[-\\frac{B_{z_{0}} k_{0} {\\left(J_{m + 1}(\\kappa \\rho) - J_{m - 1}(\\kappa \\rho)\\right)} \\sin\\left(m \\varphi + \\psi_{m}\\right)}{2 \\, \\kappa} = 0.000000000000000, -\\frac{{\\left(B_{z_{1}} \\cos\\left(2 \\, h k_{1}\\right) - A_{z_{1}} \\sin\\left(2 \\, h k_{1}\\right)\\right)} k_{1} {\\left(J_{m + 1}(\\kappa \\rho) - J_{m - 1}(\\kappa \\rho)\\right)} \\sin\\left(m \\varphi + \\psi_{m}\\right)}{2 \\, \\kappa} = 0.000000000000000\\right]$$"
      ],
      "text/plain": [
       "<IPython.core.display.Math object>"
      ]
     },
     "metadata": {},
     "output_type": "display_data"
    },
    {
     "data": {
      "text/latex": [
       "$$\\left[\\frac{B_{z_{0}} k_{0} m J_{m}(\\kappa \\rho) \\cos\\left(m \\varphi + \\psi_{m}\\right)}{\\kappa^{2} \\rho} = 0.000000000000000, \\frac{{\\left(B_{z_{1}} \\cos\\left(2 \\, h k_{1}\\right) - A_{z_{1}} \\sin\\left(2 \\, h k_{1}\\right)\\right)} k_{1} m J_{m}(\\kappa \\rho) \\cos\\left(m \\varphi + \\psi_{m}\\right)}{\\kappa^{2} \\rho} = 0.000000000000000\\right]$$"
      ],
      "text/plain": [
       "<IPython.core.display.Math object>"
      ]
     },
     "metadata": {},
     "output_type": "display_data"
    },
    {
     "data": {
      "text/latex": [
       "$$\\left[B_{z_{0}} = 0\\right]$$"
      ],
      "text/plain": [
       "<IPython.core.display.Math object>"
      ]
     },
     "metadata": {},
     "output_type": "display_data"
    },
    {
     "data": {
      "text/latex": [
       "$$\\left[B_{z_{1}} = \\frac{A_{z_{1}} \\sin\\left(2 \\, h k_{1}\\right)}{\\cos\\left(2 \\, h k_{1}\\right)}\\right]$$"
      ],
      "text/plain": [
       "<IPython.core.display.Math object>"
      ]
     },
     "metadata": {},
     "output_type": "display_data"
    },
    {
     "data": {
      "text/latex": [
       "$$\\left[B_{z_{0}} = 0\\right]$$"
      ],
      "text/plain": [
       "<IPython.core.display.Math object>"
      ]
     },
     "metadata": {},
     "output_type": "display_data"
    },
    {
     "data": {
      "text/latex": [
       "$$\\left[B_{z_{1}} = \\frac{A_{z_{1}} \\sin\\left(2 \\, h k_{1}\\right)}{\\cos\\left(2 \\, h k_{1}\\right)}\\right]$$"
      ],
      "text/plain": [
       "<IPython.core.display.Math object>"
      ]
     },
     "metadata": {},
     "output_type": "display_data"
    },
    {
     "data": {
      "text/latex": [
       "$$\\left[B_{z_{0}} = 0, B_{z_{1}} = \\frac{A_{z_{1}} \\sin\\left(2 \\, h k_{1}\\right)}{\\cos\\left(2 \\, h k_{1}\\right)}\\right]$$"
      ],
      "text/plain": [
       "<IPython.core.display.Math object>"
      ]
     },
     "metadata": {},
     "output_type": "display_data"
    }
   ],
   "source": [
    "# граничные условия\n",
    "# тангенциальная компонента электрического поля\n",
    "eq_Erh_superconductor_boundary_conditions = []\n",
    "eq_Erh_superconductor_boundary_conditions += [E_rh[0](rh,ph,0) == 0.0]\n",
    "eq_Erh_superconductor_boundary_conditions += [E_rh[n_layers - 1](rh,ph,h*n_layers) == 0.0]\n",
    "\n",
    "eq_Eph_superconductor_boundary_conditions = []\n",
    "eq_Eph_superconductor_boundary_conditions += [E_ph[0](rh,ph,0) == 0.0]\n",
    "eq_Eph_superconductor_boundary_conditions += [E_ph[n_layers - 1](rh,ph,h*n_layers) == 0.0]\n",
    "\n",
    "display(Math(latex(eq_Erh_superconductor_boundary_conditions)))\n",
    "display(Math(latex(eq_Eph_superconductor_boundary_conditions)))\n",
    "\n",
    "boundary_Erh_subs_begin = solve(eq_Erh_superconductor_boundary_conditions[0], B_z[0])\n",
    "boundary_Erh_subs_end = solve(eq_Erh_superconductor_boundary_conditions[1], B_z[n_layers - 1])\n",
    "\n",
    "boundary_Eph_subs_begin = solve(eq_Eph_superconductor_boundary_conditions[0], B_z[0])\n",
    "boundary_Eph_subs_end = solve(eq_Eph_superconductor_boundary_conditions[1], B_z[n_layers - 1])\n",
    "\n",
    "display(Math(latex(boundary_Erh_subs_begin)))\n",
    "display(Math(latex(boundary_Erh_subs_end)))\n",
    "\n",
    "display(Math(latex(boundary_Eph_subs_begin)))\n",
    "display(Math(latex(boundary_Eph_subs_end)))\n",
    "\n",
    "boundary_conductor = boundary_Erh_subs_begin + boundary_Erh_subs_end\n",
    "#boundary_conductor += boundary_Eph_subs_begin + boundary_Eph_subs_end\n",
    "display(Math(latex(boundary_conductor)))"
   ]
  },
  {
   "cell_type": "code",
   "execution_count": 45,
   "metadata": {},
   "outputs": [],
   "source": [
    "E_rho = []\n",
    "for i in range(n_layers):\n",
    "    exec(preparse(\"E_rho += [ lambda rh, ph, z, i=i : \" + str(E_rh[i](rh,ph,z).subs(boundary_conductor)) +\"]\"))"
   ]
  },
  {
   "cell_type": "code",
   "execution_count": 46,
   "metadata": {},
   "outputs": [],
   "source": [
    "E_phi = []\n",
    "for i in range(n_layers):\n",
    "    exec(preparse(\"E_phi += [ lambda rh, ph, z, i=i : \" + str(E_ph[i](rh,ph,z).subs(boundary_conductor)) +\"]\"))"
   ]
  },
  {
   "cell_type": "code",
   "execution_count": 47,
   "metadata": {},
   "outputs": [],
   "source": [
    "E_zz = []\n",
    "for i in range(n_layers):\n",
    "    exec(preparse(\"E_zz += [ lambda rh, ph, z, i=i : \" + str(E_z[i](rh,ph,z).subs(boundary_conductor)) +\"]\"))"
   ]
  },
  {
   "cell_type": "code",
   "execution_count": 48,
   "metadata": {},
   "outputs": [],
   "source": [
    "H_rho = []\n",
    "for i in range(n_layers):\n",
    "    exec(preparse(\"H_rho += [ lambda rh, ph, z, i=i : \" + str(H_rh[i](rh,ph,z).subs(boundary_conductor)) +\"]\"))"
   ]
  },
  {
   "cell_type": "code",
   "execution_count": 49,
   "metadata": {},
   "outputs": [],
   "source": [
    "H_phi = []\n",
    "for i in range(n_layers):\n",
    "    exec(preparse(\"H_phi += [ lambda rh, ph, z, i=i : \" + str(H_ph[i](rh,ph,z).subs(boundary_conductor)) +\"]\"))"
   ]
  },
  {
   "cell_type": "code",
   "execution_count": 50,
   "metadata": {},
   "outputs": [],
   "source": [
    "H_zz = []\n",
    "for i in range(n_layers):\n",
    "    exec(preparse(\"H_zz += [ lambda rh, ph, z, i=i : \" + str(H_z[i](rh,ph,z).subs(boundary_conductor)) +\"]\"))"
   ]
  },
  {
   "cell_type": "code",
   "execution_count": null,
   "metadata": {},
   "outputs": [],
   "source": []
  },
  {
   "cell_type": "code",
   "execution_count": null,
   "metadata": {},
   "outputs": [],
   "source": []
  },
  {
   "cell_type": "code",
   "execution_count": null,
   "metadata": {},
   "outputs": [],
   "source": []
  },
  {
   "cell_type": "code",
   "execution_count": 51,
   "metadata": {},
   "outputs": [],
   "source": [
    "# exclude_vars = [A_r[0], A_r[n_layers - 1], A_p[0], A_p[n_layers - 1]]\n",
    "exclude_vars = []"
   ]
  },
  {
   "cell_type": "code",
   "execution_count": 52,
   "metadata": {},
   "outputs": [],
   "source": [
    "def my_simplify(v):\n",
    "    print (\"v =\", v)\n",
    "    from sage.symbolic.operators import add_vararg, mul_vararg\n",
    "\n",
    "    operand_list1 = []\n",
    "    operand_list2 = []\n",
    "\n",
    "    if mul_vararg == v.operator():\n",
    "        for operand in v.operands():\n",
    "            op = operand.operator()\n",
    "            if op == add_vararg:\n",
    "                operand_list1 += [(op, operand)]\n",
    "            else:\n",
    "                operand_list2 += [(op, operand)]\n",
    "    res_list = ()\n",
    "    if len(operand_list1) == 1:\n",
    "        for (op1, operand1) in operand_list1:\n",
    "            print (op1, operand1)\n",
    "            print (\"\")\n",
    "            for operand1_operand in operand1.operands():\n",
    "                print(operand1_operand)\n",
    "                res1 = operand1_operand\n",
    "                for (op2, operand2) in operand_list2:\n",
    "                    print (op2, operand2)\n",
    "                    res1 = mul_vararg(res1, operand2)\n",
    "                print (\"\")\n",
    "                print (\"res1 = \", res1)\n",
    "                print (\"\")\n",
    "                res_list += (res1,)\n",
    "    print (res_list)\n",
    "    if len (res_list) > 0:\n",
    "        res = add_vararg(*res_list)\n",
    "    else:\n",
    "        res = v\n",
    "    print(res)\n",
    "    return res\n",
    "    "
   ]
  },
  {
   "cell_type": "code",
   "execution_count": 53,
   "metadata": {},
   "outputs": [],
   "source": [
    "def my_simp(i, ml, v):\n",
    "    print (\"v =\", v)\n",
    "    return my_simplify((v / ml).full_simplify() \\\n",
    "             .subs(2*sin(h*k[i])^2 - 1 == sin(h*k[i])^2 - cos(h*k[i])^2) \\\n",
    "             .subs(2*cos(h*k[i])^2 - 1 == cos(h*k[i])^2 - sin(h*k[i])^2)) \\\n",
    "             *ml"
   ]
  },
  {
   "cell_type": "code",
   "execution_count": 54,
   "metadata": {},
   "outputs": [],
   "source": [
    "def my_subs(i, ml, lm, v):\n",
    "    print (\"v =\", v)\n",
    "    vv = (v / ml).full_simplify()\n",
    "    vvv = vv.subs(2*sin(h*k[i])^2 - 1 == sin(h*k[i])^2 - cos(h*k[i])^2) \\\n",
    "            .subs(2*cos(h*k[i])^2 - 1 == cos(h*k[i])^2 - sin(h*k[i])^2)\n",
    "    for mm in lm:\n",
    "        vvv = vvv.subs(((2*sin(h*k[i])^2 - 1) * mm).expand() == (sin(h*k[i])^2 - cos(h*k[i])^2) * mm)\n",
    "        vvv = vvv.subs(((2*cos(h*k[i])^2 - 1) * mm).expand() == (cos(h*k[i])^2 - sin(h*k[i])^2) * mm)\n",
    "    return vvv * ml"
   ]
  },
  {
   "cell_type": "code",
   "execution_count": 55,
   "metadata": {},
   "outputs": [],
   "source": [
    "rotH_rh = []\n",
    "for i in range(n_layers):\n",
    "    exec(preparse(\"rotH_rh += [lambda rh,ph,z, i=i : \" + str(diff(H_z[i](rh,ph,z),ph)/rh - H_ph[i](rh,ph,z).diff(z)) + \"]\"))"
   ]
  },
  {
   "cell_type": "code",
   "execution_count": 56,
   "metadata": {},
   "outputs": [],
   "source": [
    "rotH_ph = []\n",
    "for i in range(n_layers):\n",
    "    exec(preparse(\"rotH_ph += [lambda rh,ph,z, i=i: \" + str(H_rh[i](rh,ph,z).diff(z)-diff(H_z[i](rh,ph,z),rh)) +\"]\"))"
   ]
  },
  {
   "cell_type": "code",
   "execution_count": 57,
   "metadata": {},
   "outputs": [],
   "source": [
    "rotH_z = []\n",
    "for i in range(n_layers):\n",
    "    exec(preparse(\"rotH_z += [lambda rh,ph,z, i=i : \"+ str(((rh * H_ph[i](rh,ph,z)).diff(rh) - H_rh[i](rh,ph,z).diff(ph))/rh) + \"]\"))"
   ]
  },
  {
   "cell_type": "code",
   "execution_count": 58,
   "metadata": {},
   "outputs": [],
   "source": [
    "eq_rotH_ph = []\n",
    "for i in range(n_layers):\n",
    "    eq_rotH_ph += [rotH_ph[i](rh,ph,z) == -I * omega / c * epsilon[i] * E_ph[i](rh,ph,z) ]"
   ]
  },
  {
   "cell_type": "code",
   "execution_count": 59,
   "metadata": {},
   "outputs": [],
   "source": [
    "eq_rotH_rh = []\n",
    "for i in range(n_layers):\n",
    "    eq_rotH_rh += [rotH_rh[i](rh,ph,z) == -I * omega / c * epsilon[i] * E_rh[i](rh,ph,z) ]"
   ]
  },
  {
   "cell_type": "code",
   "execution_count": 60,
   "metadata": {},
   "outputs": [],
   "source": [
    "eq_rotH_z = []\n",
    "for i in range(n_layers):\n",
    "    eq_rotH_z += [rotH_z[i](rh,ph,z) - I * omega / c * epsilon[i] * E_z[i](rh,ph,z) == 0]"
   ]
  },
  {
   "cell_type": "code",
   "execution_count": 61,
   "metadata": {},
   "outputs": [
    {
     "data": {
      "text/plain": [
       "(-I*(B_z_0*k_0*cos(k_0*z) - A_z_0*k_0*sin(k_0*z))*m*bessel_J(m, kappa*rho)*cos(m*varphi + psi_m)/rho - I*(B_z_0*k_0^2*cos(k_0*z) - A_z_0*k_0^2*sin(k_0*z))*k_0*m*bessel_J(m, kappa*rho)*cos(m*varphi + psi_m)/(kappa^2*rho))*c/(mu_0*omega)"
      ]
     },
     "execution_count": 61,
     "metadata": {},
     "output_type": "execute_result"
    }
   ],
   "source": [
    "rotH_ph[0](rh,ph,z)"
   ]
  },
  {
   "cell_type": "code",
   "execution_count": 62,
   "metadata": {},
   "outputs": [],
   "source": [
    "if 1 < n_layers:\n",
    "    rotH_ph[1](rh,ph,z)"
   ]
  },
  {
   "cell_type": "code",
   "execution_count": 63,
   "metadata": {},
   "outputs": [
    {
     "data": {
      "text/plain": [
       "-1/2*(-I*(B_z_0*k_0*cos(k_0*z) - A_z_0*k_0*sin(k_0*z))*kappa*(bessel_J(m + 1, kappa*rho) - bessel_J(m - 1, kappa*rho))*sin(m*varphi + psi_m) - I*(B_z_0*k_0^2*cos(k_0*z) - A_z_0*k_0^2*sin(k_0*z))*k_0*(bessel_J(m + 1, kappa*rho) - bessel_J(m - 1, kappa*rho))*sin(m*varphi + psi_m)/kappa)*c/(mu_0*omega)"
      ]
     },
     "execution_count": 63,
     "metadata": {},
     "output_type": "execute_result"
    }
   ],
   "source": [
    "rotH_rh[0](rh,ph,z)"
   ]
  },
  {
   "cell_type": "code",
   "execution_count": 64,
   "metadata": {},
   "outputs": [],
   "source": [
    "if 1 < n_layers:\n",
    "    rotH_rh[1](rh,ph,z)"
   ]
  },
  {
   "cell_type": "code",
   "execution_count": 65,
   "metadata": {},
   "outputs": [
    {
     "data": {
      "text/plain": [
       "-1/4*((-I*(kappa*(bessel_J(m + 2, kappa*rho) - bessel_J(m, kappa*rho)) + kappa*(bessel_J(m - 2, kappa*rho) - bessel_J(m, kappa*rho)))*(A_z_0*cos(k_0*z) + B_z_0*sin(k_0*z))*kappa*sin(m*varphi + psi_m) - I*(A_z_0*k_0*cos(k_0*z) + B_z_0*k_0*sin(k_0*z))*(kappa*(bessel_J(m + 2, kappa*rho) - bessel_J(m, kappa*rho)) + kappa*(bessel_J(m - 2, kappa*rho) - bessel_J(m, kappa*rho)))*k_0*sin(m*varphi + psi_m)/kappa)*c*rho/(mu_0*omega) + (2*I*(A_z_0*cos(k_0*z) + B_z_0*sin(k_0*z))*kappa*(bessel_J(m + 1, kappa*rho) - bessel_J(m - 1, kappa*rho))*sin(m*varphi + psi_m) + 2*I*(A_z_0*k_0*cos(k_0*z) + B_z_0*k_0*sin(k_0*z))*k_0*(bessel_J(m + 1, kappa*rho) - bessel_J(m - 1, kappa*rho))*sin(m*varphi + psi_m)/kappa)*c/(mu_0*omega) + (4*I*(A_z_0*cos(k_0*z) + B_z_0*sin(k_0*z))*m^2*bessel_J(m, kappa*rho)*sin(m*varphi + psi_m)/rho + 4*I*(A_z_0*k_0*cos(k_0*z) + B_z_0*k_0*sin(k_0*z))*k_0*m^2*bessel_J(m, kappa*rho)*sin(m*varphi + psi_m)/(kappa^2*rho))*c/(mu_0*omega))/rho"
      ]
     },
     "execution_count": 65,
     "metadata": {},
     "output_type": "execute_result"
    }
   ],
   "source": [
    "rotH_z[0](rh,ph,z)"
   ]
  },
  {
   "cell_type": "code",
   "execution_count": 66,
   "metadata": {},
   "outputs": [],
   "source": [
    "if 1 < n_layers:\n",
    "    rotH_z[1](rh,ph,z)"
   ]
  },
  {
   "cell_type": "code",
   "execution_count": 67,
   "metadata": {},
   "outputs": [
    {
     "data": {
      "text/plain": [
       "[-I*(A_z_0*cos(k_0*z) + B_z_0*sin(k_0*z))*epsilon_0*omega*bessel_J(m, kappa*rho)*sin(m*varphi + psi_m)/c - 1/4*((-I*(kappa*(bessel_J(m + 2, kappa*rho) - bessel_J(m, kappa*rho)) + kappa*(bessel_J(m - 2, kappa*rho) - bessel_J(m, kappa*rho)))*(A_z_0*cos(k_0*z) + B_z_0*sin(k_0*z))*kappa*sin(m*varphi + psi_m) - I*(A_z_0*k_0*cos(k_0*z) + B_z_0*k_0*sin(k_0*z))*(kappa*(bessel_J(m + 2, kappa*rho) - bessel_J(m, kappa*rho)) + kappa*(bessel_J(m - 2, kappa*rho) - bessel_J(m, kappa*rho)))*k_0*sin(m*varphi + psi_m)/kappa)*c*rho/(mu_0*omega) + (2*I*(A_z_0*cos(k_0*z) + B_z_0*sin(k_0*z))*kappa*(bessel_J(m + 1, kappa*rho) - bessel_J(m - 1, kappa*rho))*sin(m*varphi + psi_m) + 2*I*(A_z_0*k_0*cos(k_0*z) + B_z_0*k_0*sin(k_0*z))*k_0*(bessel_J(m + 1, kappa*rho) - bessel_J(m - 1, kappa*rho))*sin(m*varphi + psi_m)/kappa)*c/(mu_0*omega) + (4*I*(A_z_0*cos(k_0*z) + B_z_0*sin(k_0*z))*m^2*bessel_J(m, kappa*rho)*sin(m*varphi + psi_m)/rho + 4*I*(A_z_0*k_0*cos(k_0*z) + B_z_0*k_0*sin(k_0*z))*k_0*m^2*bessel_J(m, kappa*rho)*sin(m*varphi + psi_m)/(kappa^2*rho))*c/(mu_0*omega))/rho == 0,\n",
       " -I*(A_z_1*cos(k_1*z) + B_z_1*sin(k_1*z))*epsilon_1*omega*bessel_J(m, kappa*rho)*sin(m*varphi + psi_m)/c - 1/4*((-I*(kappa*(bessel_J(m + 2, kappa*rho) - bessel_J(m, kappa*rho)) + kappa*(bessel_J(m - 2, kappa*rho) - bessel_J(m, kappa*rho)))*(A_z_1*cos(k_1*z) + B_z_1*sin(k_1*z))*kappa*sin(m*varphi + psi_m) - I*(A_z_1*k_1*cos(k_1*z) + B_z_1*k_1*sin(k_1*z))*(kappa*(bessel_J(m + 2, kappa*rho) - bessel_J(m, kappa*rho)) + kappa*(bessel_J(m - 2, kappa*rho) - bessel_J(m, kappa*rho)))*k_1*sin(m*varphi + psi_m)/kappa)*c*rho/(mu_1*omega) + (2*I*(A_z_1*cos(k_1*z) + B_z_1*sin(k_1*z))*kappa*(bessel_J(m + 1, kappa*rho) - bessel_J(m - 1, kappa*rho))*sin(m*varphi + psi_m) + 2*I*(A_z_1*k_1*cos(k_1*z) + B_z_1*k_1*sin(k_1*z))*k_1*(bessel_J(m + 1, kappa*rho) - bessel_J(m - 1, kappa*rho))*sin(m*varphi + psi_m)/kappa)*c/(mu_1*omega) + (4*I*(A_z_1*cos(k_1*z) + B_z_1*sin(k_1*z))*m^2*bessel_J(m, kappa*rho)*sin(m*varphi + psi_m)/rho + 4*I*(A_z_1*k_1*cos(k_1*z) + B_z_1*k_1*sin(k_1*z))*k_1*m^2*bessel_J(m, kappa*rho)*sin(m*varphi + psi_m)/(kappa^2*rho))*c/(mu_1*omega))/rho == 0]"
      ]
     },
     "execution_count": 67,
     "metadata": {},
     "output_type": "execute_result"
    }
   ],
   "source": [
    "eq_rotH_z"
   ]
  },
  {
   "cell_type": "code",
   "execution_count": 68,
   "metadata": {},
   "outputs": [],
   "source": [
    "rotH_rho = []\n",
    "for i in range(n_layers):\n",
    "    exec(preparse(\"rotH_rho += [lambda rh,ph,z, i=i : \" + str(diff(H_zz[i](rh,ph,z),ph)/rh - H_phi[i](rh,ph,z).diff(z)) + \"]\"))"
   ]
  },
  {
   "cell_type": "code",
   "execution_count": 69,
   "metadata": {},
   "outputs": [],
   "source": [
    "rotH_phi = []\n",
    "for i in range(n_layers):\n",
    "    exec(preparse(\"rotH_phi += [lambda rh,ph,z, i=i: \" + str(H_rho[i](rh,ph,z).diff(z)-diff(H_zz[i](rh,ph,z),rh)) +\"]\"))"
   ]
  },
  {
   "cell_type": "code",
   "execution_count": 70,
   "metadata": {},
   "outputs": [],
   "source": [
    "rotH_zz = []\n",
    "for i in range(n_layers):\n",
    "    exec(preparse(\"rotH_zz += [lambda rh,ph,z, i=i : \"+ str(((rh * H_phi[i](rh,ph,z)).diff(rh) - H_rho[i](rh,ph,z).diff(ph))/rh) + \"]\"))"
   ]
  },
  {
   "cell_type": "code",
   "execution_count": 71,
   "metadata": {},
   "outputs": [],
   "source": [
    "eq_rotH_phi = []\n",
    "for i in range(n_layers):\n",
    "    eq_rotH_phi += [rotH_phi[i](rh,ph,z) == -I * omega / c * epsilon[i] * E_phi[i](rh,ph,z) ]"
   ]
  },
  {
   "cell_type": "code",
   "execution_count": 72,
   "metadata": {},
   "outputs": [],
   "source": [
    "eq_rotH_rho = []\n",
    "for i in range(n_layers):\n",
    "    eq_rotH_rho += [rotH_rho[i](rh,ph,z) == -I * omega / c * epsilon[i] * E_rho[i](rh,ph,z) ]"
   ]
  },
  {
   "cell_type": "code",
   "execution_count": 73,
   "metadata": {},
   "outputs": [],
   "source": [
    "eq_rotH_zz = []\n",
    "for i in range(n_layers):\n",
    "    eq_rotH_zz += [rotH_zz[i](rh,ph,z) - I * omega / c * epsilon[i] * E_z[i](rh,ph,z) == 0]"
   ]
  },
  {
   "cell_type": "code",
   "execution_count": 74,
   "metadata": {},
   "outputs": [
    {
     "data": {
      "text/latex": [
       "$$-\\frac{{\\left(B_{z_{0}} \\cos\\left(k_{0} z\\right) - A_{z_{0}} \\sin\\left(k_{0} z\\right)\\right)} k_{0} {\\left(J_{m + 1}(\\kappa \\rho) - J_{m - 1}(\\kappa \\rho)\\right)} \\sin\\left(m \\varphi + \\psi_{m}\\right)}{2 \\, \\kappa}$$"
      ],
      "text/plain": [
       "<IPython.core.display.Math object>"
      ]
     },
     "metadata": {},
     "output_type": "display_data"
    },
    {
     "data": {
      "text/latex": [
       "$$\\frac{A_{z_{0}} k_{0} {\\left(J_{m + 1}(\\kappa \\rho) - J_{m - 1}(\\kappa \\rho)\\right)} \\sin\\left(m \\varphi + \\psi_{m}\\right) \\sin\\left(k_{0} z\\right)}{2 \\, \\kappa}$$"
      ],
      "text/plain": [
       "<IPython.core.display.Math object>"
      ]
     },
     "metadata": {},
     "output_type": "display_data"
    }
   ],
   "source": [
    "if 0 < n_layers:\n",
    "    display(Math(latex(E_rh[0](rh,ph,z))))\n",
    "    display(Math(latex(E_rho[0](rh,ph,z))))"
   ]
  },
  {
   "cell_type": "code",
   "execution_count": 75,
   "metadata": {},
   "outputs": [
    {
     "data": {
      "text/latex": [
       "$$-\\frac{{\\left(B_{z_{1}} \\cos\\left(k_{1} z\\right) - A_{z_{1}} \\sin\\left(k_{1} z\\right)\\right)} k_{1} {\\left(J_{m + 1}(\\kappa \\rho) - J_{m - 1}(\\kappa \\rho)\\right)} \\sin\\left(m \\varphi + \\psi_{m}\\right)}{2 \\, \\kappa}$$"
      ],
      "text/plain": [
       "<IPython.core.display.Math object>"
      ]
     },
     "metadata": {},
     "output_type": "display_data"
    },
    {
     "data": {
      "text/latex": [
       "$$-\\frac{{\\left(\\frac{A_{z_{1}} \\cos\\left(k_{1} z\\right) \\sin\\left(2 \\, h k_{1}\\right)}{\\cos\\left(2 \\, h k_{1}\\right)} - A_{z_{1}} \\sin\\left(k_{1} z\\right)\\right)} k_{1} {\\left(J_{m + 1}(\\kappa \\rho) - J_{m - 1}(\\kappa \\rho)\\right)} \\sin\\left(m \\varphi + \\psi_{m}\\right)}{2 \\, \\kappa}$$"
      ],
      "text/plain": [
       "<IPython.core.display.Math object>"
      ]
     },
     "metadata": {},
     "output_type": "display_data"
    }
   ],
   "source": [
    "if 1 < n_layers:\n",
    "    display(Math(latex(E_rh[1](rh,ph,z))))\n",
    "    display(Math(latex(E_rho[1](rh,ph,z))))"
   ]
  },
  {
   "cell_type": "code",
   "execution_count": 76,
   "metadata": {},
   "outputs": [
    {
     "data": {
      "text/latex": [
       "$${\\left(A_{z_{0}} \\cos\\left(k_{0} z\\right) + B_{z_{0}} \\sin\\left(k_{0} z\\right)\\right)} J_{m}(\\kappa \\rho) \\sin\\left(m \\varphi + \\psi_{m}\\right)$$"
      ],
      "text/plain": [
       "<IPython.core.display.Math object>"
      ]
     },
     "metadata": {},
     "output_type": "display_data"
    },
    {
     "data": {
      "text/latex": [
       "$$A_{z_{0}} J_{m}(\\kappa \\rho) \\cos\\left(k_{0} z\\right) \\sin\\left(m \\varphi + \\psi_{m}\\right)$$"
      ],
      "text/plain": [
       "<IPython.core.display.Math object>"
      ]
     },
     "metadata": {},
     "output_type": "display_data"
    }
   ],
   "source": [
    "if 0 < n_layers:\n",
    "    display(Math(latex(E_z[0](rh,ph,z))))\n",
    "    display(Math(latex(E_zz[0](rh,ph,z))))"
   ]
  },
  {
   "cell_type": "code",
   "execution_count": 77,
   "metadata": {},
   "outputs": [
    {
     "data": {
      "text/latex": [
       "$${\\left(A_{z_{1}} \\cos\\left(k_{1} z\\right) + B_{z_{1}} \\sin\\left(k_{1} z\\right)\\right)} J_{m}(\\kappa \\rho) \\sin\\left(m \\varphi + \\psi_{m}\\right)$$"
      ],
      "text/plain": [
       "<IPython.core.display.Math object>"
      ]
     },
     "metadata": {},
     "output_type": "display_data"
    },
    {
     "data": {
      "text/latex": [
       "$${\\left(A_{z_{1}} \\cos\\left(k_{1} z\\right) + \\frac{A_{z_{1}} \\sin\\left(2 \\, h k_{1}\\right) \\sin\\left(k_{1} z\\right)}{\\cos\\left(2 \\, h k_{1}\\right)}\\right)} J_{m}(\\kappa \\rho) \\sin\\left(m \\varphi + \\psi_{m}\\right)$$"
      ],
      "text/plain": [
       "<IPython.core.display.Math object>"
      ]
     },
     "metadata": {},
     "output_type": "display_data"
    }
   ],
   "source": [
    "if 1 < n_layers:\n",
    "    display(Math(latex(E_z[1](rh,ph,z))))\n",
    "    display(Math(latex(E_zz[1](rh,ph,z))))"
   ]
  },
  {
   "cell_type": "code",
   "execution_count": 78,
   "metadata": {},
   "outputs": [
    {
     "data": {
      "text/latex": [
       "$$-\\frac{i \\, {\\left(\\frac{{\\left(A_{z_{0}} \\cos\\left(k_{0} z\\right) + B_{z_{0}} \\sin\\left(k_{0} z\\right)\\right)} m J_{m}(\\kappa \\rho) \\cos\\left(m \\varphi + \\psi_{m}\\right)}{\\rho} + \\frac{{\\left(A_{z_{0}} k_{0} \\cos\\left(k_{0} z\\right) + B_{z_{0}} k_{0} \\sin\\left(k_{0} z\\right)\\right)} k_{0} m J_{m}(\\kappa \\rho) \\cos\\left(m \\varphi + \\psi_{m}\\right)}{\\kappa^{2} \\rho}\\right)} c}{\\mu_{0} \\omega}$$"
      ],
      "text/plain": [
       "<IPython.core.display.Math object>"
      ]
     },
     "metadata": {},
     "output_type": "display_data"
    },
    {
     "data": {
      "text/latex": [
       "$$\\frac{{\\left(-\\frac{i \\, A_{z_{0}} m J_{m}(\\kappa \\rho) \\cos\\left(m \\varphi + \\psi_{m}\\right) \\cos\\left(k_{0} z\\right)}{\\rho} - \\frac{i \\, A_{z_{0}} k_{0}^{2} m J_{m}(\\kappa \\rho) \\cos\\left(m \\varphi + \\psi_{m}\\right) \\cos\\left(k_{0} z\\right)}{\\kappa^{2} \\rho}\\right)} c}{\\mu_{0} \\omega}$$"
      ],
      "text/plain": [
       "<IPython.core.display.Math object>"
      ]
     },
     "metadata": {},
     "output_type": "display_data"
    }
   ],
   "source": [
    "if 0 < n_layers:\n",
    "    display(Math(latex(H_rh[0](rh,ph,z))))\n",
    "    display(Math(latex(H_rho[0](rh,ph,z))))"
   ]
  },
  {
   "cell_type": "code",
   "execution_count": 79,
   "metadata": {},
   "outputs": [
    {
     "data": {
      "text/latex": [
       "$$-\\frac{i \\, {\\left(\\frac{{\\left(A_{z_{1}} \\cos\\left(k_{1} z\\right) + B_{z_{1}} \\sin\\left(k_{1} z\\right)\\right)} m J_{m}(\\kappa \\rho) \\cos\\left(m \\varphi + \\psi_{m}\\right)}{\\rho} + \\frac{{\\left(A_{z_{1}} k_{1} \\cos\\left(k_{1} z\\right) + B_{z_{1}} k_{1} \\sin\\left(k_{1} z\\right)\\right)} k_{1} m J_{m}(\\kappa \\rho) \\cos\\left(m \\varphi + \\psi_{m}\\right)}{\\kappa^{2} \\rho}\\right)} c}{\\mu_{1} \\omega}$$"
      ],
      "text/plain": [
       "<IPython.core.display.Math object>"
      ]
     },
     "metadata": {},
     "output_type": "display_data"
    },
    {
     "data": {
      "text/latex": [
       "$$\\frac{{\\left(-\\frac{i \\, {\\left(A_{z_{1}} \\cos\\left(k_{1} z\\right) + \\frac{A_{z_{1}} \\sin\\left(2 \\, h k_{1}\\right) \\sin\\left(k_{1} z\\right)}{\\cos\\left(2 \\, h k_{1}\\right)}\\right)} m J_{m}(\\kappa \\rho) \\cos\\left(m \\varphi + \\psi_{m}\\right)}{\\rho} - \\frac{i \\, {\\left(A_{z_{1}} k_{1} \\cos\\left(k_{1} z\\right) + \\frac{A_{z_{1}} k_{1} \\sin\\left(2 \\, h k_{1}\\right) \\sin\\left(k_{1} z\\right)}{\\cos\\left(2 \\, h k_{1}\\right)}\\right)} k_{1} m J_{m}(\\kappa \\rho) \\cos\\left(m \\varphi + \\psi_{m}\\right)}{\\kappa^{2} \\rho}\\right)} c}{\\mu_{1} \\omega}$$"
      ],
      "text/plain": [
       "<IPython.core.display.Math object>"
      ]
     },
     "metadata": {},
     "output_type": "display_data"
    }
   ],
   "source": [
    "if 1 < n_layers:\n",
    "    display(Math(latex(H_rh[1](rh,ph,z))))\n",
    "    display(Math(latex(H_rho[1](rh,ph,z))))"
   ]
  },
  {
   "cell_type": "code",
   "execution_count": 80,
   "metadata": {},
   "outputs": [
    {
     "data": {
      "text/latex": [
       "$$-\\frac{i \\, {\\left({\\left(A_{z_{0}} \\cos\\left(k_{0} z\\right) + B_{z_{0}} \\sin\\left(k_{0} z\\right)\\right)} \\kappa {\\left(J_{m + 1}(\\kappa \\rho) - J_{m - 1}(\\kappa \\rho)\\right)} \\sin\\left(m \\varphi + \\psi_{m}\\right) + \\frac{{\\left(A_{z_{0}} k_{0} \\cos\\left(k_{0} z\\right) + B_{z_{0}} k_{0} \\sin\\left(k_{0} z\\right)\\right)} k_{0} {\\left(J_{m + 1}(\\kappa \\rho) - J_{m - 1}(\\kappa \\rho)\\right)} \\sin\\left(m \\varphi + \\psi_{m}\\right)}{\\kappa}\\right)} c}{2 \\, \\mu_{0} \\omega}$$"
      ],
      "text/plain": [
       "<IPython.core.display.Math object>"
      ]
     },
     "metadata": {},
     "output_type": "display_data"
    },
    {
     "data": {
      "text/latex": [
       "$$-\\frac{{\\left(\\frac{i \\, A_{z_{0}} k_{0}^{2} {\\left(J_{m + 1}(\\kappa \\rho) - J_{m - 1}(\\kappa \\rho)\\right)} \\cos\\left(k_{0} z\\right) \\sin\\left(m \\varphi + \\psi_{m}\\right)}{\\kappa} + i \\, A_{z_{0}} \\kappa {\\left(J_{m + 1}(\\kappa \\rho) - J_{m - 1}(\\kappa \\rho)\\right)} \\cos\\left(k_{0} z\\right) \\sin\\left(m \\varphi + \\psi_{m}\\right)\\right)} c}{2 \\, \\mu_{0} \\omega}$$"
      ],
      "text/plain": [
       "<IPython.core.display.Math object>"
      ]
     },
     "metadata": {},
     "output_type": "display_data"
    }
   ],
   "source": [
    "if 0 < n_layers:\n",
    "    display(Math(latex(H_ph[0](rh,ph,z))))\n",
    "    display(Math(latex(H_phi[0](rh,ph,z))))"
   ]
  },
  {
   "cell_type": "code",
   "execution_count": 81,
   "metadata": {},
   "outputs": [
    {
     "data": {
      "text/latex": [
       "$$-\\frac{i \\, {\\left({\\left(A_{z_{1}} \\cos\\left(k_{1} z\\right) + B_{z_{1}} \\sin\\left(k_{1} z\\right)\\right)} \\kappa {\\left(J_{m + 1}(\\kappa \\rho) - J_{m - 1}(\\kappa \\rho)\\right)} \\sin\\left(m \\varphi + \\psi_{m}\\right) + \\frac{{\\left(A_{z_{1}} k_{1} \\cos\\left(k_{1} z\\right) + B_{z_{1}} k_{1} \\sin\\left(k_{1} z\\right)\\right)} k_{1} {\\left(J_{m + 1}(\\kappa \\rho) - J_{m - 1}(\\kappa \\rho)\\right)} \\sin\\left(m \\varphi + \\psi_{m}\\right)}{\\kappa}\\right)} c}{2 \\, \\mu_{1} \\omega}$$"
      ],
      "text/plain": [
       "<IPython.core.display.Math object>"
      ]
     },
     "metadata": {},
     "output_type": "display_data"
    },
    {
     "data": {
      "text/latex": [
       "$$-\\frac{{\\left(i \\, {\\left(A_{z_{1}} \\cos\\left(k_{1} z\\right) + \\frac{A_{z_{1}} \\sin\\left(2 \\, h k_{1}\\right) \\sin\\left(k_{1} z\\right)}{\\cos\\left(2 \\, h k_{1}\\right)}\\right)} \\kappa {\\left(J_{m + 1}(\\kappa \\rho) - J_{m - 1}(\\kappa \\rho)\\right)} \\sin\\left(m \\varphi + \\psi_{m}\\right) + \\frac{i \\, {\\left(A_{z_{1}} k_{1} \\cos\\left(k_{1} z\\right) + \\frac{A_{z_{1}} k_{1} \\sin\\left(2 \\, h k_{1}\\right) \\sin\\left(k_{1} z\\right)}{\\cos\\left(2 \\, h k_{1}\\right)}\\right)} k_{1} {\\left(J_{m + 1}(\\kappa \\rho) - J_{m - 1}(\\kappa \\rho)\\right)} \\sin\\left(m \\varphi + \\psi_{m}\\right)}{\\kappa}\\right)} c}{2 \\, \\mu_{1} \\omega}$$"
      ],
      "text/plain": [
       "<IPython.core.display.Math object>"
      ]
     },
     "metadata": {},
     "output_type": "display_data"
    }
   ],
   "source": [
    "if 1 < n_layers:\n",
    "    display(Math(latex(H_ph[1](rh,ph,z))))\n",
    "    display(Math(latex(H_phi[1](rh,ph,z))))"
   ]
  },
  {
   "cell_type": "code",
   "execution_count": 82,
   "metadata": {},
   "outputs": [
    {
     "data": {
      "text/latex": [
       "$$0$$"
      ],
      "text/plain": [
       "<IPython.core.display.Math object>"
      ]
     },
     "metadata": {},
     "output_type": "display_data"
    }
   ],
   "source": [
    "if 1 < n_layers:\n",
    "    display(Math(latex(H_zz[1](rh,ph,z))))"
   ]
  },
  {
   "cell_type": "code",
   "execution_count": 83,
   "metadata": {},
   "outputs": [
    {
     "data": {
      "text/plain": [
       "[(-I*(B_z_0*k_0*cos(k_0*z) - A_z_0*k_0*sin(k_0*z))*m*bessel_J(m, kappa*rho)*cos(m*varphi + psi_m)/rho - I*(B_z_0*k_0^2*cos(k_0*z) - A_z_0*k_0^2*sin(k_0*z))*k_0*m*bessel_J(m, kappa*rho)*cos(m*varphi + psi_m)/(kappa^2*rho))*c/(mu_0*omega) == -I*(B_z_0*cos(k_0*z) - A_z_0*sin(k_0*z))*epsilon_0*k_0*m*omega*bessel_J(m, kappa*rho)*cos(m*varphi + psi_m)/(c*kappa^2*rho),\n",
       " (-I*(B_z_1*k_1*cos(k_1*z) - A_z_1*k_1*sin(k_1*z))*m*bessel_J(m, kappa*rho)*cos(m*varphi + psi_m)/rho - I*(B_z_1*k_1^2*cos(k_1*z) - A_z_1*k_1^2*sin(k_1*z))*k_1*m*bessel_J(m, kappa*rho)*cos(m*varphi + psi_m)/(kappa^2*rho))*c/(mu_1*omega) == -I*(B_z_1*cos(k_1*z) - A_z_1*sin(k_1*z))*epsilon_1*k_1*m*omega*bessel_J(m, kappa*rho)*cos(m*varphi + psi_m)/(c*kappa^2*rho)]"
      ]
     },
     "execution_count": 83,
     "metadata": {},
     "output_type": "execute_result"
    }
   ],
   "source": [
    "eq_rotH_ph"
   ]
  },
  {
   "cell_type": "code",
   "execution_count": 84,
   "metadata": {},
   "outputs": [
    {
     "data": {
      "text/plain": [
       "[-1/2*(-I*(B_z_0*k_0*cos(k_0*z) - A_z_0*k_0*sin(k_0*z))*kappa*(bessel_J(m + 1, kappa*rho) - bessel_J(m - 1, kappa*rho))*sin(m*varphi + psi_m) - I*(B_z_0*k_0^2*cos(k_0*z) - A_z_0*k_0^2*sin(k_0*z))*k_0*(bessel_J(m + 1, kappa*rho) - bessel_J(m - 1, kappa*rho))*sin(m*varphi + psi_m)/kappa)*c/(mu_0*omega) == 1/2*I*(B_z_0*cos(k_0*z) - A_z_0*sin(k_0*z))*epsilon_0*k_0*omega*(bessel_J(m + 1, kappa*rho) - bessel_J(m - 1, kappa*rho))*sin(m*varphi + psi_m)/(c*kappa),\n",
       " -1/2*(-I*(B_z_1*k_1*cos(k_1*z) - A_z_1*k_1*sin(k_1*z))*kappa*(bessel_J(m + 1, kappa*rho) - bessel_J(m - 1, kappa*rho))*sin(m*varphi + psi_m) - I*(B_z_1*k_1^2*cos(k_1*z) - A_z_1*k_1^2*sin(k_1*z))*k_1*(bessel_J(m + 1, kappa*rho) - bessel_J(m - 1, kappa*rho))*sin(m*varphi + psi_m)/kappa)*c/(mu_1*omega) == 1/2*I*(B_z_1*cos(k_1*z) - A_z_1*sin(k_1*z))*epsilon_1*k_1*omega*(bessel_J(m + 1, kappa*rho) - bessel_J(m - 1, kappa*rho))*sin(m*varphi + psi_m)/(c*kappa)]"
      ]
     },
     "execution_count": 84,
     "metadata": {},
     "output_type": "execute_result"
    }
   ],
   "source": [
    "eq_rotH_rh"
   ]
  },
  {
   "cell_type": "code",
   "execution_count": 85,
   "metadata": {},
   "outputs": [
    {
     "data": {
      "text/plain": [
       "[-I*(A_z_0*cos(k_0*z) + B_z_0*sin(k_0*z))*epsilon_0*omega*bessel_J(m, kappa*rho)*sin(m*varphi + psi_m)/c - 1/4*((-I*(kappa*(bessel_J(m + 2, kappa*rho) - bessel_J(m, kappa*rho)) + kappa*(bessel_J(m - 2, kappa*rho) - bessel_J(m, kappa*rho)))*(A_z_0*cos(k_0*z) + B_z_0*sin(k_0*z))*kappa*sin(m*varphi + psi_m) - I*(A_z_0*k_0*cos(k_0*z) + B_z_0*k_0*sin(k_0*z))*(kappa*(bessel_J(m + 2, kappa*rho) - bessel_J(m, kappa*rho)) + kappa*(bessel_J(m - 2, kappa*rho) - bessel_J(m, kappa*rho)))*k_0*sin(m*varphi + psi_m)/kappa)*c*rho/(mu_0*omega) + (2*I*(A_z_0*cos(k_0*z) + B_z_0*sin(k_0*z))*kappa*(bessel_J(m + 1, kappa*rho) - bessel_J(m - 1, kappa*rho))*sin(m*varphi + psi_m) + 2*I*(A_z_0*k_0*cos(k_0*z) + B_z_0*k_0*sin(k_0*z))*k_0*(bessel_J(m + 1, kappa*rho) - bessel_J(m - 1, kappa*rho))*sin(m*varphi + psi_m)/kappa)*c/(mu_0*omega) + (4*I*(A_z_0*cos(k_0*z) + B_z_0*sin(k_0*z))*m^2*bessel_J(m, kappa*rho)*sin(m*varphi + psi_m)/rho + 4*I*(A_z_0*k_0*cos(k_0*z) + B_z_0*k_0*sin(k_0*z))*k_0*m^2*bessel_J(m, kappa*rho)*sin(m*varphi + psi_m)/(kappa^2*rho))*c/(mu_0*omega))/rho == 0,\n",
       " -I*(A_z_1*cos(k_1*z) + B_z_1*sin(k_1*z))*epsilon_1*omega*bessel_J(m, kappa*rho)*sin(m*varphi + psi_m)/c - 1/4*((-I*(kappa*(bessel_J(m + 2, kappa*rho) - bessel_J(m, kappa*rho)) + kappa*(bessel_J(m - 2, kappa*rho) - bessel_J(m, kappa*rho)))*(A_z_1*cos(k_1*z) + B_z_1*sin(k_1*z))*kappa*sin(m*varphi + psi_m) - I*(A_z_1*k_1*cos(k_1*z) + B_z_1*k_1*sin(k_1*z))*(kappa*(bessel_J(m + 2, kappa*rho) - bessel_J(m, kappa*rho)) + kappa*(bessel_J(m - 2, kappa*rho) - bessel_J(m, kappa*rho)))*k_1*sin(m*varphi + psi_m)/kappa)*c*rho/(mu_1*omega) + (2*I*(A_z_1*cos(k_1*z) + B_z_1*sin(k_1*z))*kappa*(bessel_J(m + 1, kappa*rho) - bessel_J(m - 1, kappa*rho))*sin(m*varphi + psi_m) + 2*I*(A_z_1*k_1*cos(k_1*z) + B_z_1*k_1*sin(k_1*z))*k_1*(bessel_J(m + 1, kappa*rho) - bessel_J(m - 1, kappa*rho))*sin(m*varphi + psi_m)/kappa)*c/(mu_1*omega) + (4*I*(A_z_1*cos(k_1*z) + B_z_1*sin(k_1*z))*m^2*bessel_J(m, kappa*rho)*sin(m*varphi + psi_m)/rho + 4*I*(A_z_1*k_1*cos(k_1*z) + B_z_1*k_1*sin(k_1*z))*k_1*m^2*bessel_J(m, kappa*rho)*sin(m*varphi + psi_m)/(kappa^2*rho))*c/(mu_1*omega))/rho == 0]"
      ]
     },
     "execution_count": 85,
     "metadata": {},
     "output_type": "execute_result"
    }
   ],
   "source": [
    "eq_rotH_z"
   ]
  },
  {
   "cell_type": "code",
   "execution_count": 86,
   "metadata": {},
   "outputs": [
    {
     "data": {
      "text/plain": [
       "[(I*A_z_0*k_0*m*bessel_J(m, kappa*rho)*cos(m*varphi + psi_m)*sin(k_0*z)/rho + I*A_z_0*k_0^3*m*bessel_J(m, kappa*rho)*cos(m*varphi + psi_m)*sin(k_0*z)/(kappa^2*rho))*c/(mu_0*omega) == I*A_z_0*epsilon_0*k_0*m*omega*bessel_J(m, kappa*rho)*cos(m*varphi + psi_m)*sin(k_0*z)/(c*kappa^2*rho),\n",
       " ((-I*A_z_1*k_1*cos(k_1*z)*sin(2*h*k_1)/cos(2*h*k_1) + I*A_z_1*k_1*sin(k_1*z))*m*bessel_J(m, kappa*rho)*cos(m*varphi + psi_m)/rho - (I*A_z_1*k_1^2*cos(k_1*z)*sin(2*h*k_1)/cos(2*h*k_1) - I*A_z_1*k_1^2*sin(k_1*z))*k_1*m*bessel_J(m, kappa*rho)*cos(m*varphi + psi_m)/(kappa^2*rho))*c/(mu_1*omega) == -I*(A_z_1*cos(k_1*z)*sin(2*h*k_1)/cos(2*h*k_1) - A_z_1*sin(k_1*z))*epsilon_1*k_1*m*omega*bessel_J(m, kappa*rho)*cos(m*varphi + psi_m)/(c*kappa^2*rho)]"
      ]
     },
     "execution_count": 86,
     "metadata": {},
     "output_type": "execute_result"
    }
   ],
   "source": [
    "eq_rotH_phi"
   ]
  },
  {
   "cell_type": "code",
   "execution_count": 87,
   "metadata": {},
   "outputs": [
    {
     "data": {
      "text/plain": [
       "[-1/2*(I*A_z_0*k_0^3*(bessel_J(m + 1, kappa*rho) - bessel_J(m - 1, kappa*rho))*sin(m*varphi + psi_m)*sin(k_0*z)/kappa + I*A_z_0*k_0*kappa*(bessel_J(m + 1, kappa*rho) - bessel_J(m - 1, kappa*rho))*sin(m*varphi + psi_m)*sin(k_0*z))*c/(mu_0*omega) == -1/2*I*A_z_0*epsilon_0*k_0*omega*(bessel_J(m + 1, kappa*rho) - bessel_J(m - 1, kappa*rho))*sin(m*varphi + psi_m)*sin(k_0*z)/(c*kappa),\n",
       " 1/2*((I*A_z_1*k_1*cos(k_1*z)*sin(2*h*k_1)/cos(2*h*k_1) - I*A_z_1*k_1*sin(k_1*z))*kappa*(bessel_J(m + 1, kappa*rho) - bessel_J(m - 1, kappa*rho))*sin(m*varphi + psi_m) + (I*A_z_1*k_1^2*cos(k_1*z)*sin(2*h*k_1)/cos(2*h*k_1) - I*A_z_1*k_1^2*sin(k_1*z))*k_1*(bessel_J(m + 1, kappa*rho) - bessel_J(m - 1, kappa*rho))*sin(m*varphi + psi_m)/kappa)*c/(mu_1*omega) == 1/2*I*(A_z_1*cos(k_1*z)*sin(2*h*k_1)/cos(2*h*k_1) - A_z_1*sin(k_1*z))*epsilon_1*k_1*omega*(bessel_J(m + 1, kappa*rho) - bessel_J(m - 1, kappa*rho))*sin(m*varphi + psi_m)/(c*kappa)]"
      ]
     },
     "execution_count": 87,
     "metadata": {},
     "output_type": "execute_result"
    }
   ],
   "source": [
    "eq_rotH_rho"
   ]
  },
  {
   "cell_type": "code",
   "execution_count": 88,
   "metadata": {},
   "outputs": [
    {
     "data": {
      "text/plain": [
       "[-I*(A_z_0*cos(k_0*z) + B_z_0*sin(k_0*z))*epsilon_0*omega*bessel_J(m, kappa*rho)*sin(m*varphi + psi_m)/c + 1/4*(((I*kappa*(bessel_J(m + 2, kappa*rho) - bessel_J(m, kappa*rho)) + I*kappa*(bessel_J(m - 2, kappa*rho) - bessel_J(m, kappa*rho)))*A_z_0*k_0^2*cos(k_0*z)*sin(m*varphi + psi_m)/kappa + (I*kappa*(bessel_J(m + 2, kappa*rho) - bessel_J(m, kappa*rho)) + I*kappa*(bessel_J(m - 2, kappa*rho) - bessel_J(m, kappa*rho)))*A_z_0*kappa*cos(k_0*z)*sin(m*varphi + psi_m))*c*rho/(mu_0*omega) - (2*I*A_z_0*k_0^2*(bessel_J(m + 1, kappa*rho) - bessel_J(m - 1, kappa*rho))*cos(k_0*z)*sin(m*varphi + psi_m)/kappa + 2*I*A_z_0*kappa*(bessel_J(m + 1, kappa*rho) - bessel_J(m - 1, kappa*rho))*cos(k_0*z)*sin(m*varphi + psi_m))*c/(mu_0*omega) - (4*I*A_z_0*m^2*bessel_J(m, kappa*rho)*cos(k_0*z)*sin(m*varphi + psi_m)/rho + 4*I*A_z_0*k_0^2*m^2*bessel_J(m, kappa*rho)*cos(k_0*z)*sin(m*varphi + psi_m)/(kappa^2*rho))*c/(mu_0*omega))/rho == 0,\n",
       " -I*(A_z_1*cos(k_1*z) + B_z_1*sin(k_1*z))*epsilon_1*omega*bessel_J(m, kappa*rho)*sin(m*varphi + psi_m)/c + 1/4*(((I*kappa*(bessel_J(m + 2, kappa*rho) - bessel_J(m, kappa*rho)) + I*kappa*(bessel_J(m - 2, kappa*rho) - bessel_J(m, kappa*rho)))*(A_z_1*cos(k_1*z) + A_z_1*sin(2*h*k_1)*sin(k_1*z)/cos(2*h*k_1))*kappa*sin(m*varphi + psi_m) + (I*A_z_1*k_1*cos(k_1*z) + I*A_z_1*k_1*sin(2*h*k_1)*sin(k_1*z)/cos(2*h*k_1))*(kappa*(bessel_J(m + 2, kappa*rho) - bessel_J(m, kappa*rho)) + kappa*(bessel_J(m - 2, kappa*rho) - bessel_J(m, kappa*rho)))*k_1*sin(m*varphi + psi_m)/kappa)*c*rho/(mu_1*omega) - 2*((I*A_z_1*cos(k_1*z) + I*A_z_1*sin(2*h*k_1)*sin(k_1*z)/cos(2*h*k_1))*kappa*(bessel_J(m + 1, kappa*rho) - bessel_J(m - 1, kappa*rho))*sin(m*varphi + psi_m) + (I*A_z_1*k_1*cos(k_1*z) + I*A_z_1*k_1*sin(2*h*k_1)*sin(k_1*z)/cos(2*h*k_1))*k_1*(bessel_J(m + 1, kappa*rho) - bessel_J(m - 1, kappa*rho))*sin(m*varphi + psi_m)/kappa)*c/(mu_1*omega) - 4*((I*A_z_1*cos(k_1*z) + I*A_z_1*sin(2*h*k_1)*sin(k_1*z)/cos(2*h*k_1))*m^2*bessel_J(m, kappa*rho)*sin(m*varphi + psi_m)/rho + (I*A_z_1*k_1*cos(k_1*z) + I*A_z_1*k_1*sin(2*h*k_1)*sin(k_1*z)/cos(2*h*k_1))*k_1*m^2*bessel_J(m, kappa*rho)*sin(m*varphi + psi_m)/(kappa^2*rho))*c/(mu_1*omega))/rho == 0]"
      ]
     },
     "execution_count": 88,
     "metadata": {},
     "output_type": "execute_result"
    }
   ],
   "source": [
    "eq_rotH_zz"
   ]
  },
  {
   "cell_type": "code",
   "execution_count": 89,
   "metadata": {},
   "outputs": [],
   "source": [
    "def rot_H_solve(M_rotH, vars, eq_kappa, k, vars_for_solve):\n",
    "    # print(\"M_rotH =\")\n",
    "    # display(Math(latex(M_rotH)))\n",
    "\n",
    "    if (M_rotH.ncols() != len(vars)):\n",
    "        return\n",
    "\n",
    "    n = M_rotH.nrows()\n",
    "\n",
    "    xx = vector(SR, vars)\n",
    "    yy = zero_vector(SR, n)\n",
    "    eqns = [(M_rotH*xx)[index] == yy[index] for index in range(n)]\n",
    "    # display(Math(latex(eqns)))\n",
    "    res = []\n",
    "\n",
    "    for index in range(n):\n",
    "        row_M = M_rotH[index]\n",
    "        # print(\"row_M =\")\n",
    "        # display(Math(latex(row_M)))\n",
    "        eq = eqns[index].full_simplify()\n",
    "        #print (\"eq =\")\n",
    "        #display(Math(latex(eq)))\n",
    "        #print (\"\")\n",
    "        \n",
    "        if 0 == eq.lhs() and 0 == eq.rhs():\n",
    "            continue\n",
    "        \n",
    "        for var in vars_for_solve:\n",
    "            # print (\"var =\")\n",
    "            # display(Math(latex(var)))\n",
    "            sol = solve(eq, var)\n",
    "            if len(sol) > 0:\n",
    "                print(\"sol=\")\n",
    "                display(Math(latex(sol[0])))\n",
    "                res += sol\n",
    "\n",
    "    # print (\"res=\", res)\n",
    "    return res"
   ]
  },
  {
   "cell_type": "code",
   "execution_count": 90,
   "metadata": {},
   "outputs": [],
   "source": [
    "def GenerateMatrix(equsys, vars):\n",
    "    A=matrix(SR, [[(equ.lhs() - equ.rhs()).coefficient(v) for v in vars] for equ in equsys])\n",
    "    return A"
   ]
  },
  {
   "cell_type": "code",
   "execution_count": 91,
   "metadata": {},
   "outputs": [
    {
     "data": {
      "text/latex": [
       "$$\\left[A_{z_{0}}, B_{z_{0}}\\right]$$"
      ],
      "text/plain": [
       "<IPython.core.display.Math object>"
      ]
     },
     "metadata": {},
     "output_type": "display_data"
    },
    {
     "name": "stdout",
     "output_type": "stream",
     "text": [
      "M_rotH.nrows = 3\n",
      "M_rotH.ncols = 2\n",
      "M_rotH.rank = 2\n",
      "sol=\n"
     ]
    },
    {
     "data": {
      "text/latex": [
       "$$B_{z_{0}} = \\frac{A_{z_{0}} \\sin\\left(k_{0} z\\right)}{\\cos\\left(k_{0} z\\right)}$$"
      ],
      "text/plain": [
       "<IPython.core.display.Math object>"
      ]
     },
     "metadata": {},
     "output_type": "display_data"
    },
    {
     "name": "stdout",
     "output_type": "stream",
     "text": [
      "sol=\n"
     ]
    },
    {
     "data": {
      "text/latex": [
       "$$B_{z_{0}} = \\frac{A_{z_{0}} \\sin\\left(k_{0} z\\right)}{\\cos\\left(k_{0} z\\right)}$$"
      ],
      "text/plain": [
       "<IPython.core.display.Math object>"
      ]
     },
     "metadata": {},
     "output_type": "display_data"
    },
    {
     "name": "stdout",
     "output_type": "stream",
     "text": [
      "sol=\n"
     ]
    },
    {
     "data": {
      "text/latex": [
       "$$B_{z_{0}} = -\\frac{A_{z_{0}} \\cos\\left(k_{0} z\\right)}{\\sin\\left(k_{0} z\\right)}$$"
      ],
      "text/plain": [
       "<IPython.core.display.Math object>"
      ]
     },
     "metadata": {},
     "output_type": "display_data"
    },
    {
     "data": {
      "text/latex": [
       "$$\\left[A_{z_{1}}, B_{z_{1}}\\right]$$"
      ],
      "text/plain": [
       "<IPython.core.display.Math object>"
      ]
     },
     "metadata": {},
     "output_type": "display_data"
    },
    {
     "name": "stdout",
     "output_type": "stream",
     "text": [
      "M_rotH.nrows = 3\n",
      "M_rotH.ncols = 2\n",
      "M_rotH.rank = 2\n",
      "sol=\n"
     ]
    },
    {
     "data": {
      "text/latex": [
       "$$B_{z_{1}} = \\frac{A_{z_{1}} \\sin\\left(k_{1} z\\right)}{\\cos\\left(k_{1} z\\right)}$$"
      ],
      "text/plain": [
       "<IPython.core.display.Math object>"
      ]
     },
     "metadata": {},
     "output_type": "display_data"
    },
    {
     "name": "stdout",
     "output_type": "stream",
     "text": [
      "sol=\n"
     ]
    },
    {
     "data": {
      "text/latex": [
       "$$B_{z_{1}} = \\frac{A_{z_{1}} \\sin\\left(k_{1} z\\right)}{\\cos\\left(k_{1} z\\right)}$$"
      ],
      "text/plain": [
       "<IPython.core.display.Math object>"
      ]
     },
     "metadata": {},
     "output_type": "display_data"
    },
    {
     "name": "stdout",
     "output_type": "stream",
     "text": [
      "sol=\n"
     ]
    },
    {
     "data": {
      "text/latex": [
       "$$B_{z_{1}} = -\\frac{A_{z_{1}} \\cos\\left(k_{1} z\\right)}{\\sin\\left(k_{1} z\\right)}$$"
      ],
      "text/plain": [
       "<IPython.core.display.Math object>"
      ]
     },
     "metadata": {},
     "output_type": "display_data"
    }
   ],
   "source": [
    "res_rot_H = []\n",
    "eqs_rot_H = []\n",
    "for i in range(n_layers):\n",
    "    eqs_rotH = [(eq_rotH_rh[i]*(-I)*omega/c).full_simplify(), # .subs(solve(eq_kappa[i], omega^2))\n",
    "                (eq_rotH_ph[i]*(-I)*omega/c).full_simplify(),\n",
    "                (eq_rotH_z [i]*(-I)*omega/c).full_simplify(),\n",
    "               ]\n",
    "    eqs_rot_H += eqs_rotH\n",
    "\n",
    "    vars_dielectric = [A_z[i], B_z[i]]\n",
    "    vars_for_solve = [B_z[i]]\n",
    "\n",
    "    vars_dielectric = [var for var in vars_dielectric if var not in exclude_vars]\n",
    "    display(Math(latex(vars_dielectric)))\n",
    "    M_rotH = GenerateMatrix(eqs_rotH, vars_dielectric)\n",
    "    #print (\"M_rotH =\")\n",
    "    #display(Math(latex(M_rotH)))\n",
    "    print (\"M_rotH.nrows =\", M_rotH.nrows())\n",
    "    print (\"M_rotH.ncols =\", M_rotH.ncols())\n",
    "    print (\"M_rotH.rank =\", M_rotH.rank())\n",
    "\n",
    "    res_rot_H += rot_H_solve(M_rotH, vars_dielectric, eq_kappa[i], k[i], vars_for_solve)"
   ]
  },
  {
   "cell_type": "code",
   "execution_count": 92,
   "metadata": {
    "scrolled": false
   },
   "outputs": [
    {
     "data": {
      "text/latex": [
       "$$\\left[B_{z_{0}} = \\frac{A_{z_{0}} \\sin\\left(k_{0} z\\right)}{\\cos\\left(k_{0} z\\right)}, B_{z_{0}} = \\frac{A_{z_{0}} \\sin\\left(k_{0} z\\right)}{\\cos\\left(k_{0} z\\right)}, B_{z_{0}} = -\\frac{A_{z_{0}} \\cos\\left(k_{0} z\\right)}{\\sin\\left(k_{0} z\\right)}, B_{z_{1}} = \\frac{A_{z_{1}} \\sin\\left(k_{1} z\\right)}{\\cos\\left(k_{1} z\\right)}, B_{z_{1}} = \\frac{A_{z_{1}} \\sin\\left(k_{1} z\\right)}{\\cos\\left(k_{1} z\\right)}, B_{z_{1}} = -\\frac{A_{z_{1}} \\cos\\left(k_{1} z\\right)}{\\sin\\left(k_{1} z\\right)}\\right]$$"
      ],
      "text/plain": [
       "<IPython.core.display.Math object>"
      ]
     },
     "metadata": {},
     "output_type": "display_data"
    }
   ],
   "source": [
    "display(Math(latex(res_rot_H)))"
   ]
  },
  {
   "cell_type": "code",
   "execution_count": 93,
   "metadata": {},
   "outputs": [
    {
     "data": {
      "text/plain": [
       "[A_z_0, B_z_0, A_z_1, B_z_1]"
      ]
     },
     "execution_count": 93,
     "metadata": {},
     "output_type": "execute_result"
    }
   ],
   "source": [
    "all_vars = []\n",
    "for i in range(n_layers):\n",
    "    all_vars += [A_z[i], B_z[i]]\n",
    "    \n",
    "all_vars = [var for var in all_vars if var not in exclude_vars]\n",
    "all_vars"
   ]
  },
  {
   "cell_type": "code",
   "execution_count": 94,
   "metadata": {},
   "outputs": [],
   "source": [
    "M_res_rot_H = GenerateMatrix(res_rot_H, all_vars)\n",
    "# display(Math(latex(M_res_rot_H)))"
   ]
  },
  {
   "cell_type": "code",
   "execution_count": 95,
   "metadata": {},
   "outputs": [],
   "source": [
    "def reduceDependedRows(M):\n",
    "    print (\"\")\n",
    "    print (\"M.nrows()\", M.nrows())\n",
    "    print (\"M.ncols()\", M.ncols())\n",
    "    print (\"M.rank()\", M.rank())\n",
    "\n",
    "    M_pivot_rows = M.pivot_rows()\n",
    "    print (\"M.pivot_rows() =\", M_pivot_rows)\n",
    "\n",
    "    M_rows = M.rows()\n",
    "    #for row in M_rows:\n",
    "    #    print(\"row =\")\n",
    "    #    display(Math(latex(row)))\n",
    "\n",
    "    reduced_list = []\n",
    "    for r in M_pivot_rows:\n",
    "        #print (\"M_rows[\", r, \"] =\")\n",
    "        #display(Math(latex(M_rows[r])))\n",
    "        reduced_list.append(M_rows[r])\n",
    "\n",
    "    reduced_M = matrix(SR, len(M_pivot_rows), M.ncols(), reduced_list)\n",
    "    #if reduced_M.nrows() == reduced_M.ncols():\n",
    "        #reduced_M_det = reduced_M.det()\n",
    "        #print (\"\")\n",
    "        #print (\"reduced_M.det() =\")\n",
    "        #display(Math(latex(reduced_M_det)))\n",
    "    return reduced_M"
   ]
  },
  {
   "cell_type": "code",
   "execution_count": 96,
   "metadata": {},
   "outputs": [
    {
     "name": "stdout",
     "output_type": "stream",
     "text": [
      "\n",
      "M.nrows() 6\n",
      "M.ncols() 4\n",
      "M.rank() 4\n",
      "M.pivot_rows() = (0, 2, 3, 5)\n"
     ]
    }
   ],
   "source": [
    "reduced_M_res_rot_H = reduceDependedRows(M_res_rot_H)"
   ]
  },
  {
   "cell_type": "code",
   "execution_count": 97,
   "metadata": {},
   "outputs": [
    {
     "data": {
      "text/plain": [
       "(4, 4, 4)"
      ]
     },
     "execution_count": 97,
     "metadata": {},
     "output_type": "execute_result"
    }
   ],
   "source": [
    "reduced_M_res_rot_H.nrows(), reduced_M_res_rot_H.ncols(), reduced_M_res_rot_H.rank()"
   ]
  },
  {
   "cell_type": "code",
   "execution_count": 98,
   "metadata": {},
   "outputs": [],
   "source": [
    "# display(Math(latex(reduced_M_res_rot_H)))"
   ]
  },
  {
   "cell_type": "code",
   "execution_count": 99,
   "metadata": {},
   "outputs": [
    {
     "data": {
      "text/plain": [
       "[-sin(k_0*z)/cos(k_0*z)                      1                      0                      0]\n",
       "[ cos(k_0*z)/sin(k_0*z)                      1                      0                      0]\n",
       "[                     0                      0 -sin(k_1*z)/cos(k_1*z)                      1]\n",
       "[                     0                      0  cos(k_1*z)/sin(k_1*z)                      1]"
      ]
     },
     "execution_count": 99,
     "metadata": {},
     "output_type": "execute_result"
    }
   ],
   "source": [
    "reduced_M_res_rot_H"
   ]
  },
  {
   "cell_type": "code",
   "execution_count": 100,
   "metadata": {},
   "outputs": [],
   "source": [
    "def make_eqsys_from_reduced_M(M_rotH, vars):\n",
    "    xx = vector(SR, vars)\n",
    "    # print(\"eqns =\")\n",
    "    eqns = [(M_rotH*xx)[index] == 0 for index in range(M_rotH.nrows())]\n",
    "    # display(Math(latex(eqns)))\n",
    "    return (eqns)"
   ]
  },
  {
   "cell_type": "code",
   "execution_count": 101,
   "metadata": {},
   "outputs": [],
   "source": [
    "eqsys_rotH_simplified = make_eqsys_from_reduced_M(reduced_M_res_rot_H, all_vars)"
   ]
  },
  {
   "cell_type": "code",
   "execution_count": 102,
   "metadata": {},
   "outputs": [
    {
     "data": {
      "text/plain": [
       "[B_z_0 - A_z_0*sin(k_0*z)/cos(k_0*z) == 0,\n",
       " B_z_0 + A_z_0*cos(k_0*z)/sin(k_0*z) == 0,\n",
       " B_z_1 - A_z_1*sin(k_1*z)/cos(k_1*z) == 0,\n",
       " B_z_1 + A_z_1*cos(k_1*z)/sin(k_1*z) == 0]"
      ]
     },
     "execution_count": 102,
     "metadata": {},
     "output_type": "execute_result"
    }
   ],
   "source": [
    "eqsys_rotH_simplified"
   ]
  },
  {
   "cell_type": "code",
   "execution_count": 103,
   "metadata": {},
   "outputs": [
    {
     "name": "stdout",
     "output_type": "stream",
     "text": [
      "B_z_0\n",
      "B_z_0\n",
      "(B_z_0,)\n",
      "B_z_1\n",
      "(B_z_0,)\n",
      "B_z_1\n",
      "(B_z_0,)\n",
      "(B_z_1,)\n"
     ]
    },
    {
     "data": {
      "text/latex": [
       "$$\\left[B_{z_{0}} = \\frac{A_{z_{0}} \\sin\\left(k_{0} z\\right)}{\\cos\\left(k_{0} z\\right)}, B_{z_{1}} = \\frac{A_{z_{1}} \\sin\\left(k_{1} z\\right)}{\\cos\\left(k_{1} z\\right)}\\right]$$"
      ],
      "text/plain": [
       "<IPython.core.display.Math object>"
      ]
     },
     "metadata": {},
     "output_type": "display_data"
    }
   ],
   "source": [
    "eqsys_rotH_subs = []\n",
    "for eq_rotH_simplified in eqsys_rotH_simplified:\n",
    "    for var in B_z:\n",
    "        if var in eq_rotH_simplified.variables():\n",
    "            print(var)\n",
    "            solve_current_var = True\n",
    "            for eqsys_rotH_subs_i in eqsys_rotH_subs:\n",
    "                print(eqsys_rotH_subs_i.lhs().variables())\n",
    "                if var in eqsys_rotH_subs_i.lhs().variables():\n",
    "                    solve_current_var = False\n",
    "            if solve_current_var:\n",
    "                eqsys_rotH_subs += solve (eq_rotH_simplified,var)\n",
    "\n",
    "display(Math(latex(eqsys_rotH_subs)))"
   ]
  },
  {
   "cell_type": "code",
   "execution_count": 104,
   "metadata": {},
   "outputs": [],
   "source": [
    "bch = []\n",
    "bc =  []\n",
    "for i  in range (n_layers-1):\n",
    "    bc += [(E_rho[i](rh,ph, (i + 1) * h) == E_rho[i+1](rh,ph,(i+1)*h)).subs(boundary_conductor)]\n",
    "    bc += [(E_phi[i](rh,ph, (i + 1) * h) == E_phi[i+1](rh,ph,(i+1)*h)).subs(boundary_conductor)]\n",
    "    bc += [(epsilon[i] * E_z[i](rh,ph,(i+1)*h) == epsilon[i+1]*E_z[i+1](rh,ph,(i+1)*h)).subs(boundary_conductor)]\n",
    "\n",
    "    bch += [(H_phi [i](rh,ph,(i+1)*h) == H_phi [i+1](rh,ph,(i+1)*h)).subs(boundary_conductor)]"
   ]
  },
  {
   "cell_type": "code",
   "execution_count": 105,
   "metadata": {},
   "outputs": [
    {
     "data": {
      "text/latex": [
       "$$\\left[\\frac{A_{z_{0}} k_{0} {\\left(J_{m + 1}(\\kappa \\rho) - J_{m - 1}(\\kappa \\rho)\\right)} \\sin\\left(h k_{0}\\right) \\sin\\left(m \\varphi + \\psi_{m}\\right)}{2 \\, \\kappa} = -\\frac{{\\left(\\frac{A_{z_{1}} \\cos\\left(h k_{1}\\right) \\sin\\left(2 \\, h k_{1}\\right)}{\\cos\\left(2 \\, h k_{1}\\right)} - A_{z_{1}} \\sin\\left(h k_{1}\\right)\\right)} k_{1} {\\left(J_{m + 1}(\\kappa \\rho) - J_{m - 1}(\\kappa \\rho)\\right)} \\sin\\left(m \\varphi + \\psi_{m}\\right)}{2 \\, \\kappa}, -\\frac{A_{z_{0}} k_{0} m J_{m}(\\kappa \\rho) \\cos\\left(m \\varphi + \\psi_{m}\\right) \\sin\\left(h k_{0}\\right)}{\\kappa^{2} \\rho} = \\frac{{\\left(\\frac{A_{z_{1}} \\cos\\left(h k_{1}\\right) \\sin\\left(2 \\, h k_{1}\\right)}{\\cos\\left(2 \\, h k_{1}\\right)} - A_{z_{1}} \\sin\\left(h k_{1}\\right)\\right)} k_{1} m J_{m}(\\kappa \\rho) \\cos\\left(m \\varphi + \\psi_{m}\\right)}{\\kappa^{2} \\rho}, A_{z_{0}} \\epsilon_{0} J_{m}(\\kappa \\rho) \\cos\\left(h k_{0}\\right) \\sin\\left(m \\varphi + \\psi_{m}\\right) = {\\left(A_{z_{1}} \\cos\\left(h k_{1}\\right) + \\frac{A_{z_{1}} \\sin\\left(2 \\, h k_{1}\\right) \\sin\\left(h k_{1}\\right)}{\\cos\\left(2 \\, h k_{1}\\right)}\\right)} \\epsilon_{1} J_{m}(\\kappa \\rho) \\sin\\left(m \\varphi + \\psi_{m}\\right)\\right]$$"
      ],
      "text/plain": [
       "<IPython.core.display.Math object>"
      ]
     },
     "metadata": {},
     "output_type": "display_data"
    }
   ],
   "source": [
    "display(Math(latex(bc)))"
   ]
  },
  {
   "cell_type": "code",
   "execution_count": 106,
   "metadata": {
    "scrolled": true
   },
   "outputs": [
    {
     "data": {
      "text/plain": [
       "[-1/2*(I*A_z_0*k_0^2*(bessel_J(m + 1, kappa*rho) - bessel_J(m - 1, kappa*rho))*cos(h*k_0)*sin(m*varphi + psi_m)/kappa + I*A_z_0*kappa*(bessel_J(m + 1, kappa*rho) - bessel_J(m - 1, kappa*rho))*cos(h*k_0)*sin(m*varphi + psi_m))*c/(mu_0*omega) == -1/2*(I*(A_z_1*cos(h*k_1) + A_z_1*sin(2*h*k_1)*sin(h*k_1)/cos(2*h*k_1))*kappa*(bessel_J(m + 1, kappa*rho) - bessel_J(m - 1, kappa*rho))*sin(m*varphi + psi_m) + I*(A_z_1*k_1*cos(h*k_1) + A_z_1*k_1*sin(2*h*k_1)*sin(h*k_1)/cos(2*h*k_1))*k_1*(bessel_J(m + 1, kappa*rho) - bessel_J(m - 1, kappa*rho))*sin(m*varphi + psi_m)/kappa)*c/(mu_1*omega)]"
      ]
     },
     "execution_count": 106,
     "metadata": {},
     "output_type": "execute_result"
    }
   ],
   "source": [
    "bch"
   ]
  },
  {
   "cell_type": "code",
   "execution_count": 107,
   "metadata": {},
   "outputs": [],
   "source": [
    "        # + bch \\\n",
    "all_eqs = bc \\\n",
    "        + boundary_conductor# \\\n",
    "        #+ eqsys_rotH_simplified\n",
    "\n",
    "#display(Math(latex(all_eqs)))"
   ]
  },
  {
   "cell_type": "code",
   "execution_count": 108,
   "metadata": {},
   "outputs": [],
   "source": [
    "M = GenerateMatrix(all_eqs, all_vars)"
   ]
  },
  {
   "cell_type": "code",
   "execution_count": 109,
   "metadata": {},
   "outputs": [
    {
     "data": {
      "text/latex": [
       "$$\\left(\\begin{array}{rrrr}\n",
       "\\frac{k_{0} {\\left(J_{m + 1}(\\kappa \\rho) - J_{m - 1}(\\kappa \\rho)\\right)} \\sin\\left(h k_{0}\\right) \\sin\\left(m \\varphi + \\psi_{m}\\right)}{2 \\, \\kappa} & 0 & \\frac{k_{1} {\\left(\\frac{\\cos\\left(h k_{1}\\right) \\sin\\left(2 \\, h k_{1}\\right)}{\\cos\\left(2 \\, h k_{1}\\right)} - \\sin\\left(h k_{1}\\right)\\right)} {\\left(J_{m + 1}(\\kappa \\rho) - J_{m - 1}(\\kappa \\rho)\\right)} \\sin\\left(m \\varphi + \\psi_{m}\\right)}{2 \\, \\kappa} & 0 \\\\\n",
       "-\\frac{k_{0} m J_{m}(\\kappa \\rho) \\cos\\left(m \\varphi + \\psi_{m}\\right) \\sin\\left(h k_{0}\\right)}{\\kappa^{2} \\rho} & 0 & -\\frac{k_{1} m {\\left(\\frac{\\cos\\left(h k_{1}\\right) \\sin\\left(2 \\, h k_{1}\\right)}{\\cos\\left(2 \\, h k_{1}\\right)} - \\sin\\left(h k_{1}\\right)\\right)} J_{m}(\\kappa \\rho) \\cos\\left(m \\varphi + \\psi_{m}\\right)}{\\kappa^{2} \\rho} & 0 \\\\\n",
       "\\epsilon_{0} J_{m}(\\kappa \\rho) \\cos\\left(h k_{0}\\right) \\sin\\left(m \\varphi + \\psi_{m}\\right) & 0 & -\\epsilon_{1} {\\left(\\frac{\\sin\\left(2 \\, h k_{1}\\right) \\sin\\left(h k_{1}\\right)}{\\cos\\left(2 \\, h k_{1}\\right)} + \\cos\\left(h k_{1}\\right)\\right)} J_{m}(\\kappa \\rho) \\sin\\left(m \\varphi + \\psi_{m}\\right) & 0 \\\\\n",
       "0 & 1 & 0 & 0 \\\\\n",
       "0 & 0 & -\\frac{\\sin\\left(2 \\, h k_{1}\\right)}{\\cos\\left(2 \\, h k_{1}\\right)} & 1\n",
       "\\end{array}\\right)$$"
      ],
      "text/plain": [
       "<IPython.core.display.Math object>"
      ]
     },
     "metadata": {},
     "output_type": "display_data"
    }
   ],
   "source": [
    "display(Math(latex(M)))"
   ]
  },
  {
   "cell_type": "code",
   "execution_count": 110,
   "metadata": {},
   "outputs": [
    {
     "data": {
      "text/plain": [
       "(5, 4, 4)"
      ]
     },
     "execution_count": 110,
     "metadata": {},
     "output_type": "execute_result"
    }
   ],
   "source": [
    "M.nrows(), M.ncols(), len(all_vars)"
   ]
  },
  {
   "cell_type": "code",
   "execution_count": 111,
   "metadata": {},
   "outputs": [
    {
     "data": {
      "text/plain": [
       "4"
      ]
     },
     "execution_count": 111,
     "metadata": {},
     "output_type": "execute_result"
    }
   ],
   "source": [
    "M.rank()"
   ]
  },
  {
   "cell_type": "code",
   "execution_count": 112,
   "metadata": {},
   "outputs": [
    {
     "name": "stdout",
     "output_type": "stream",
     "text": [
      "\n",
      "M.nrows() 5\n",
      "M.ncols() 4\n",
      "M.rank() 4\n",
      "M.pivot_rows() = (0, 2, 3, 4)\n"
     ]
    }
   ],
   "source": [
    "reduced_M = reduceDependedRows(M)"
   ]
  },
  {
   "cell_type": "code",
   "execution_count": 113,
   "metadata": {},
   "outputs": [
    {
     "data": {
      "text/plain": [
       "(4, 4)"
      ]
     },
     "execution_count": 113,
     "metadata": {},
     "output_type": "execute_result"
    }
   ],
   "source": [
    "reduced_M.nrows(), reduced_M.ncols(),"
   ]
  },
  {
   "cell_type": "code",
   "execution_count": 114,
   "metadata": {},
   "outputs": [
    {
     "data": {
      "text/plain": [
       "(0, 1, 2, 3)"
      ]
     },
     "execution_count": 114,
     "metadata": {},
     "output_type": "execute_result"
    }
   ],
   "source": [
    "reduced_M.pivots()"
   ]
  },
  {
   "cell_type": "code",
   "execution_count": 115,
   "metadata": {},
   "outputs": [],
   "source": [
    "def reduceEmptyCols(M, vars):\n",
    "    print (\"\")\n",
    "    print (\"M.nrows()\", M.nrows())\n",
    "    print (\"M.ncols()\", M.ncols())\n",
    "    print (\"M.rank()\", M.rank())\n",
    "    print (\"len(vars)\", len(vars))\n",
    "\n",
    "    M_pivots = M.pivots()\n",
    "    print (\"M.pivots() =\", M_pivots)\n",
    "    \n",
    "    M_transposed = M.transpose()\n",
    "\n",
    "    M_cols = M_transposed.rows()\n",
    "    #for col in M_cols:\n",
    "    #    print(\"col =\")\n",
    "    #    display(Math(latex(col)))\n",
    "\n",
    "    reduced_list = []\n",
    "    reduced_vars = []\n",
    "    for c in M_pivots:\n",
    "        #print (\"M_cols[\", c, \"] =\")\n",
    "        #display(Math(latex(M_cols[c])))\n",
    "        reduced_list.append(M_cols[c])\n",
    "        reduced_vars.append(vars[c])\n",
    "\n",
    "    reduced_M_transposed = matrix(SR, len(M_pivots), M.nrows(), reduced_list)\n",
    "    return reduced_vars, reduced_M_transposed.transpose()"
   ]
  },
  {
   "cell_type": "code",
   "execution_count": 116,
   "metadata": {},
   "outputs": [
    {
     "name": "stdout",
     "output_type": "stream",
     "text": [
      "\n",
      "M.nrows() 4\n",
      "M.ncols() 4\n",
      "M.rank() 4\n",
      "len(vars) 4\n",
      "M.pivots() = (0, 1, 2, 3)\n"
     ]
    }
   ],
   "source": [
    "reduced_vars, reduced_reduced_M = reduceEmptyCols(reduced_M, all_vars)"
   ]
  },
  {
   "cell_type": "code",
   "execution_count": 117,
   "metadata": {},
   "outputs": [
    {
     "data": {
      "text/plain": [
       "(4, 4, 4)"
      ]
     },
     "execution_count": 117,
     "metadata": {},
     "output_type": "execute_result"
    }
   ],
   "source": [
    "reduced_reduced_M.nrows(), reduced_reduced_M.ncols(), len(reduced_vars)"
   ]
  },
  {
   "cell_type": "code",
   "execution_count": 118,
   "metadata": {},
   "outputs": [
    {
     "data": {
      "text/plain": [
       "[A_z_0, B_z_0, A_z_1, B_z_1]"
      ]
     },
     "execution_count": 118,
     "metadata": {},
     "output_type": "execute_result"
    }
   ],
   "source": [
    "reduced_vars"
   ]
  },
  {
   "cell_type": "code",
   "execution_count": 119,
   "metadata": {},
   "outputs": [
    {
     "data": {
      "text/latex": [
       "$$\\left(\\begin{array}{rrrr}\n",
       "\\frac{k_{0} {\\left(J_{m + 1}(\\kappa \\rho) - J_{m - 1}(\\kappa \\rho)\\right)} \\sin\\left(h k_{0}\\right) \\sin\\left(m \\varphi + \\psi_{m}\\right)}{2 \\, \\kappa} & 0 & \\frac{k_{1} {\\left(\\frac{\\cos\\left(h k_{1}\\right) \\sin\\left(2 \\, h k_{1}\\right)}{\\cos\\left(2 \\, h k_{1}\\right)} - \\sin\\left(h k_{1}\\right)\\right)} {\\left(J_{m + 1}(\\kappa \\rho) - J_{m - 1}(\\kappa \\rho)\\right)} \\sin\\left(m \\varphi + \\psi_{m}\\right)}{2 \\, \\kappa} & 0 \\\\\n",
       "\\epsilon_{0} J_{m}(\\kappa \\rho) \\cos\\left(h k_{0}\\right) \\sin\\left(m \\varphi + \\psi_{m}\\right) & 0 & -\\epsilon_{1} {\\left(\\frac{\\sin\\left(2 \\, h k_{1}\\right) \\sin\\left(h k_{1}\\right)}{\\cos\\left(2 \\, h k_{1}\\right)} + \\cos\\left(h k_{1}\\right)\\right)} J_{m}(\\kappa \\rho) \\sin\\left(m \\varphi + \\psi_{m}\\right) & 0 \\\\\n",
       "0 & 1 & 0 & 0 \\\\\n",
       "0 & 0 & -\\frac{\\sin\\left(2 \\, h k_{1}\\right)}{\\cos\\left(2 \\, h k_{1}\\right)} & 1\n",
       "\\end{array}\\right)$$"
      ],
      "text/plain": [
       "<IPython.core.display.Math object>"
      ]
     },
     "metadata": {},
     "output_type": "display_data"
    }
   ],
   "source": [
    "display(Math(latex(reduced_reduced_M)))"
   ]
  },
  {
   "cell_type": "code",
   "execution_count": 120,
   "metadata": {},
   "outputs": [],
   "source": [
    "reduced_reduced_M_det = reduced_reduced_M.det()"
   ]
  },
  {
   "cell_type": "code",
   "execution_count": 121,
   "metadata": {},
   "outputs": [
    {
     "data": {
      "text/plain": [
       "1/2*epsilon_1*k_0*bessel_J(m + 1, kappa*rho)*bessel_J(m, kappa*rho)*cos(h*k_1)*sin(h*k_0)*sin(m*varphi + psi_m)^2/kappa - 1/2*epsilon_1*k_0*bessel_J(m - 1, kappa*rho)*bessel_J(m, kappa*rho)*cos(h*k_1)*sin(h*k_0)*sin(m*varphi + psi_m)^2/kappa + 1/2*epsilon_0*k_1*bessel_J(m + 1, kappa*rho)*bessel_J(m, kappa*rho)*cos(h*k_0)*cos(h*k_1)*sin(2*h*k_1)*sin(m*varphi + psi_m)^2/(kappa*cos(2*h*k_1)) - 1/2*epsilon_0*k_1*bessel_J(m - 1, kappa*rho)*bessel_J(m, kappa*rho)*cos(h*k_0)*cos(h*k_1)*sin(2*h*k_1)*sin(m*varphi + psi_m)^2/(kappa*cos(2*h*k_1)) - 1/2*epsilon_0*k_1*bessel_J(m + 1, kappa*rho)*bessel_J(m, kappa*rho)*cos(h*k_0)*sin(h*k_1)*sin(m*varphi + psi_m)^2/kappa + 1/2*epsilon_0*k_1*bessel_J(m - 1, kappa*rho)*bessel_J(m, kappa*rho)*cos(h*k_0)*sin(h*k_1)*sin(m*varphi + psi_m)^2/kappa + 1/2*epsilon_1*k_0*bessel_J(m + 1, kappa*rho)*bessel_J(m, kappa*rho)*sin(h*k_0)*sin(2*h*k_1)*sin(h*k_1)*sin(m*varphi + psi_m)^2/(kappa*cos(2*h*k_1)) - 1/2*epsilon_1*k_0*bessel_J(m - 1, kappa*rho)*bessel_J(m, kappa*rho)*sin(h*k_0)*sin(2*h*k_1)*sin(h*k_1)*sin(m*varphi + psi_m)^2/(kappa*cos(2*h*k_1))"
      ]
     },
     "execution_count": 121,
     "metadata": {},
     "output_type": "execute_result"
    }
   ],
   "source": [
    "reduced_reduced_M_det"
   ]
  },
  {
   "cell_type": "code",
   "execution_count": 122,
   "metadata": {},
   "outputs": [],
   "source": [
    "M_det  = reduced_reduced_M_det.subs(eqsys_rotH_subs)"
   ]
  },
  {
   "cell_type": "code",
   "execution_count": null,
   "metadata": {},
   "outputs": [],
   "source": []
  },
  {
   "cell_type": "code",
   "execution_count": 123,
   "metadata": {},
   "outputs": [
    {
     "data": {
      "text/plain": [
       "1/2*epsilon_1*k_0*bessel_J(m + 1, kappa*rho)*bessel_J(m, kappa*rho)*cos(h*k_1)*sin(h*k_0)*sin(m*varphi + psi_m)^2/kappa - 1/2*epsilon_1*k_0*bessel_J(m - 1, kappa*rho)*bessel_J(m, kappa*rho)*cos(h*k_1)*sin(h*k_0)*sin(m*varphi + psi_m)^2/kappa + 1/2*epsilon_0*k_1*bessel_J(m + 1, kappa*rho)*bessel_J(m, kappa*rho)*cos(h*k_0)*cos(h*k_1)*sin(2*h*k_1)*sin(m*varphi + psi_m)^2/(kappa*cos(2*h*k_1)) - 1/2*epsilon_0*k_1*bessel_J(m - 1, kappa*rho)*bessel_J(m, kappa*rho)*cos(h*k_0)*cos(h*k_1)*sin(2*h*k_1)*sin(m*varphi + psi_m)^2/(kappa*cos(2*h*k_1)) - 1/2*epsilon_0*k_1*bessel_J(m + 1, kappa*rho)*bessel_J(m, kappa*rho)*cos(h*k_0)*sin(h*k_1)*sin(m*varphi + psi_m)^2/kappa + 1/2*epsilon_0*k_1*bessel_J(m - 1, kappa*rho)*bessel_J(m, kappa*rho)*cos(h*k_0)*sin(h*k_1)*sin(m*varphi + psi_m)^2/kappa + 1/2*epsilon_1*k_0*bessel_J(m + 1, kappa*rho)*bessel_J(m, kappa*rho)*sin(h*k_0)*sin(2*h*k_1)*sin(h*k_1)*sin(m*varphi + psi_m)^2/(kappa*cos(2*h*k_1)) - 1/2*epsilon_1*k_0*bessel_J(m - 1, kappa*rho)*bessel_J(m, kappa*rho)*sin(h*k_0)*sin(2*h*k_1)*sin(h*k_1)*sin(m*varphi + psi_m)^2/(kappa*cos(2*h*k_1))"
      ]
     },
     "execution_count": 123,
     "metadata": {},
     "output_type": "execute_result"
    }
   ],
   "source": [
    "M_det"
   ]
  },
  {
   "cell_type": "code",
   "execution_count": 124,
   "metadata": {},
   "outputs": [],
   "source": [
    "# display(Math(latex(M_det)))"
   ]
  },
  {
   "cell_type": "code",
   "execution_count": 125,
   "metadata": {},
   "outputs": [],
   "source": [
    "M_det_num = M_det.numerator()"
   ]
  },
  {
   "cell_type": "code",
   "execution_count": 126,
   "metadata": {},
   "outputs": [
    {
     "data": {
      "text/plain": [
       "epsilon_1*k_0*bessel_J(m + 1, kappa*rho)*bessel_J(m, kappa*rho)*cos(2*h*k_1)*cos(h*k_1)*sin(h*k_0)*sin(m*varphi + psi_m)^2 - epsilon_1*k_0*bessel_J(m - 1, kappa*rho)*bessel_J(m, kappa*rho)*cos(2*h*k_1)*cos(h*k_1)*sin(h*k_0)*sin(m*varphi + psi_m)^2 + epsilon_0*k_1*bessel_J(m + 1, kappa*rho)*bessel_J(m, kappa*rho)*cos(h*k_0)*cos(h*k_1)*sin(2*h*k_1)*sin(m*varphi + psi_m)^2 - epsilon_0*k_1*bessel_J(m - 1, kappa*rho)*bessel_J(m, kappa*rho)*cos(h*k_0)*cos(h*k_1)*sin(2*h*k_1)*sin(m*varphi + psi_m)^2 - epsilon_0*k_1*bessel_J(m + 1, kappa*rho)*bessel_J(m, kappa*rho)*cos(h*k_0)*cos(2*h*k_1)*sin(h*k_1)*sin(m*varphi + psi_m)^2 + epsilon_0*k_1*bessel_J(m - 1, kappa*rho)*bessel_J(m, kappa*rho)*cos(h*k_0)*cos(2*h*k_1)*sin(h*k_1)*sin(m*varphi + psi_m)^2 + epsilon_1*k_0*bessel_J(m + 1, kappa*rho)*bessel_J(m, kappa*rho)*sin(h*k_0)*sin(2*h*k_1)*sin(h*k_1)*sin(m*varphi + psi_m)^2 - epsilon_1*k_0*bessel_J(m - 1, kappa*rho)*bessel_J(m, kappa*rho)*sin(h*k_0)*sin(2*h*k_1)*sin(h*k_1)*sin(m*varphi + psi_m)^2"
      ]
     },
     "execution_count": 126,
     "metadata": {},
     "output_type": "execute_result"
    }
   ],
   "source": [
    "M_det_num"
   ]
  },
  {
   "cell_type": "code",
   "execution_count": 127,
   "metadata": {},
   "outputs": [
    {
     "data": {
      "text/plain": [
       "(epsilon_0, epsilon_1, h, k_0, k_1, kappa, m, psi_m, rho, varphi)"
      ]
     },
     "execution_count": 127,
     "metadata": {},
     "output_type": "execute_result"
    }
   ],
   "source": [
    "M_det_num.variables()"
   ]
  },
  {
   "cell_type": "code",
   "execution_count": 128,
   "metadata": {},
   "outputs": [
    {
     "data": {
      "text/plain": [
       "-epsilon_1*k_0*bessel_J(m + 1, kappa*rho)*bessel_J(m, kappa*rho)*cos(h*k_1)*cos(psi_m)^2*sin(h*k_0)*sin(m*varphi)^2 + epsilon_1*k_0*bessel_J(m - 1, kappa*rho)*bessel_J(m, kappa*rho)*cos(h*k_1)*cos(psi_m)^2*sin(h*k_0)*sin(m*varphi)^2 - epsilon_0*k_1*bessel_J(m + 1, kappa*rho)*bessel_J(m, kappa*rho)*cos(h*k_0)*cos(psi_m)^2*sin(h*k_1)*sin(m*varphi)^2 + epsilon_0*k_1*bessel_J(m - 1, kappa*rho)*bessel_J(m, kappa*rho)*cos(h*k_0)*cos(psi_m)^2*sin(h*k_1)*sin(m*varphi)^2 - 2*epsilon_1*k_0*bessel_J(m + 1, kappa*rho)*bessel_J(m, kappa*rho)*cos(h*k_1)*cos(m*varphi)*cos(psi_m)*sin(h*k_0)*sin(m*varphi)*sin(psi_m) + 2*epsilon_1*k_0*bessel_J(m - 1, kappa*rho)*bessel_J(m, kappa*rho)*cos(h*k_1)*cos(m*varphi)*cos(psi_m)*sin(h*k_0)*sin(m*varphi)*sin(psi_m) - 2*epsilon_0*k_1*bessel_J(m + 1, kappa*rho)*bessel_J(m, kappa*rho)*cos(h*k_0)*cos(m*varphi)*cos(psi_m)*sin(h*k_1)*sin(m*varphi)*sin(psi_m) + 2*epsilon_0*k_1*bessel_J(m - 1, kappa*rho)*bessel_J(m, kappa*rho)*cos(h*k_0)*cos(m*varphi)*cos(psi_m)*sin(h*k_1)*sin(m*varphi)*sin(psi_m) - epsilon_1*k_0*bessel_J(m + 1, kappa*rho)*bessel_J(m, kappa*rho)*cos(h*k_1)*cos(m*varphi)^2*sin(h*k_0)*sin(psi_m)^2 + epsilon_1*k_0*bessel_J(m - 1, kappa*rho)*bessel_J(m, kappa*rho)*cos(h*k_1)*cos(m*varphi)^2*sin(h*k_0)*sin(psi_m)^2 - epsilon_0*k_1*bessel_J(m + 1, kappa*rho)*bessel_J(m, kappa*rho)*cos(h*k_0)*cos(m*varphi)^2*sin(h*k_1)*sin(psi_m)^2 + epsilon_0*k_1*bessel_J(m - 1, kappa*rho)*bessel_J(m, kappa*rho)*cos(h*k_0)*cos(m*varphi)^2*sin(h*k_1)*sin(psi_m)^2"
      ]
     },
     "execution_count": 128,
     "metadata": {},
     "output_type": "execute_result"
    }
   ],
   "source": [
    "M_det.full_simplify().numerator()"
   ]
  },
  {
   "cell_type": "code",
   "execution_count": 129,
   "metadata": {},
   "outputs": [],
   "source": [
    "M_det_num_expand = M_det_num.expand()"
   ]
  },
  {
   "cell_type": "code",
   "execution_count": 130,
   "metadata": {},
   "outputs": [
    {
     "data": {
      "text/plain": [
       "<function add_vararg at 0x6fb85d66510>"
      ]
     },
     "execution_count": 130,
     "metadata": {},
     "output_type": "execute_result"
    }
   ],
   "source": [
    "M_det_num_expand.operator()"
   ]
  },
  {
   "cell_type": "code",
   "execution_count": 131,
   "metadata": {},
   "outputs": [
    {
     "name": "stdout",
     "output_type": "stream",
     "text": [
      "epsilon_1*k_0*bessel_J(m + 1, kappa*rho)*bessel_J(m, kappa*rho)*cos(2*h*k_1)*cos(h*k_1)*sin(h*k_0)*sin(m*varphi + psi_m)^2\n",
      "\n",
      "-epsilon_1*k_0*bessel_J(m - 1, kappa*rho)*bessel_J(m, kappa*rho)*cos(2*h*k_1)*cos(h*k_1)*sin(h*k_0)*sin(m*varphi + psi_m)^2\n",
      "\n",
      "epsilon_0*k_1*bessel_J(m + 1, kappa*rho)*bessel_J(m, kappa*rho)*cos(h*k_0)*cos(h*k_1)*sin(2*h*k_1)*sin(m*varphi + psi_m)^2\n",
      "\n",
      "-epsilon_0*k_1*bessel_J(m - 1, kappa*rho)*bessel_J(m, kappa*rho)*cos(h*k_0)*cos(h*k_1)*sin(2*h*k_1)*sin(m*varphi + psi_m)^2\n",
      "\n",
      "-epsilon_0*k_1*bessel_J(m + 1, kappa*rho)*bessel_J(m, kappa*rho)*cos(h*k_0)*cos(2*h*k_1)*sin(h*k_1)*sin(m*varphi + psi_m)^2\n",
      "\n",
      "epsilon_0*k_1*bessel_J(m - 1, kappa*rho)*bessel_J(m, kappa*rho)*cos(h*k_0)*cos(2*h*k_1)*sin(h*k_1)*sin(m*varphi + psi_m)^2\n",
      "\n",
      "epsilon_1*k_0*bessel_J(m + 1, kappa*rho)*bessel_J(m, kappa*rho)*sin(h*k_0)*sin(2*h*k_1)*sin(h*k_1)*sin(m*varphi + psi_m)^2\n",
      "\n",
      "-epsilon_1*k_0*bessel_J(m - 1, kappa*rho)*bessel_J(m, kappa*rho)*sin(h*k_0)*sin(2*h*k_1)*sin(h*k_1)*sin(m*varphi + psi_m)^2\n",
      "\n"
     ]
    }
   ],
   "source": [
    "for operand in M_det_num_expand.operands():\n",
    "    print (operand)\n",
    "    print (\"\")"
   ]
  },
  {
   "cell_type": "markdown",
   "metadata": {},
   "source": [
    "for md in [0,1]:\n",
    "    M_det_num = (M_det_num/bessel_J(md,kappa * rh)).full_simplify().expand()"
   ]
  },
  {
   "cell_type": "code",
   "execution_count": 132,
   "metadata": {},
   "outputs": [
    {
     "data": {
      "text/plain": [
       "epsilon_1*k_0*bessel_J(m + 1, kappa*rho)*bessel_J(m, kappa*rho)*cos(2*h*k_1)*cos(h*k_1)*sin(h*k_0)*sin(m*varphi + psi_m)^2 - epsilon_1*k_0*bessel_J(m - 1, kappa*rho)*bessel_J(m, kappa*rho)*cos(2*h*k_1)*cos(h*k_1)*sin(h*k_0)*sin(m*varphi + psi_m)^2 + epsilon_0*k_1*bessel_J(m + 1, kappa*rho)*bessel_J(m, kappa*rho)*cos(h*k_0)*cos(h*k_1)*sin(2*h*k_1)*sin(m*varphi + psi_m)^2 - epsilon_0*k_1*bessel_J(m - 1, kappa*rho)*bessel_J(m, kappa*rho)*cos(h*k_0)*cos(h*k_1)*sin(2*h*k_1)*sin(m*varphi + psi_m)^2 - epsilon_0*k_1*bessel_J(m + 1, kappa*rho)*bessel_J(m, kappa*rho)*cos(h*k_0)*cos(2*h*k_1)*sin(h*k_1)*sin(m*varphi + psi_m)^2 + epsilon_0*k_1*bessel_J(m - 1, kappa*rho)*bessel_J(m, kappa*rho)*cos(h*k_0)*cos(2*h*k_1)*sin(h*k_1)*sin(m*varphi + psi_m)^2 + epsilon_1*k_0*bessel_J(m + 1, kappa*rho)*bessel_J(m, kappa*rho)*sin(h*k_0)*sin(2*h*k_1)*sin(h*k_1)*sin(m*varphi + psi_m)^2 - epsilon_1*k_0*bessel_J(m - 1, kappa*rho)*bessel_J(m, kappa*rho)*sin(h*k_0)*sin(2*h*k_1)*sin(h*k_1)*sin(m*varphi + psi_m)^2"
      ]
     },
     "execution_count": 132,
     "metadata": {},
     "output_type": "execute_result"
    }
   ],
   "source": [
    "M_det_num"
   ]
  },
  {
   "cell_type": "code",
   "execution_count": 133,
   "metadata": {},
   "outputs": [],
   "source": [
    "M_det_num_factor = M_det_num.factor()"
   ]
  },
  {
   "cell_type": "code",
   "execution_count": 134,
   "metadata": {},
   "outputs": [
    {
     "data": {
      "text/plain": [
       "<function mul_vararg at 0x6fb85d66620>"
      ]
     },
     "execution_count": 134,
     "metadata": {},
     "output_type": "execute_result"
    }
   ],
   "source": [
    "M_det_num_factor.operator()"
   ]
  },
  {
   "cell_type": "code",
   "execution_count": 135,
   "metadata": {},
   "outputs": [
    {
     "data": {
      "text/plain": [
       "[epsilon_1*k_0*cos(2*h*k_1)*cos(h*k_1)*sin(h*k_0) + epsilon_0*k_1*cos(h*k_0)*cos(h*k_1)*sin(2*h*k_1) - epsilon_0*k_1*cos(h*k_0)*cos(2*h*k_1)*sin(h*k_1) + epsilon_1*k_0*sin(h*k_0)*sin(2*h*k_1)*sin(h*k_1),\n",
       " bessel_J(m + 1, kappa*rho) - bessel_J(m - 1, kappa*rho),\n",
       " bessel_J(m, kappa*rho),\n",
       " sin(m*varphi + psi_m)^2]"
      ]
     },
     "execution_count": 135,
     "metadata": {},
     "output_type": "execute_result"
    }
   ],
   "source": [
    "M_det_num_factor.operands()"
   ]
  },
  {
   "cell_type": "code",
   "execution_count": 136,
   "metadata": {},
   "outputs": [
    {
     "name": "stdout",
     "output_type": "stream",
     "text": [
      "epsilon_1*k_0*cos(2*h*k_1)*cos(h*k_1)*sin(h*k_0) + epsilon_0*k_1*cos(h*k_0)*cos(h*k_1)*sin(2*h*k_1) - epsilon_0*k_1*cos(h*k_0)*cos(2*h*k_1)*sin(h*k_1) + epsilon_1*k_0*sin(h*k_0)*sin(2*h*k_1)*sin(h*k_1)\n",
      "(epsilon_0, epsilon_1, h, k_0, k_1)\n",
      "\n",
      "bessel_J(m + 1, kappa*rho) - bessel_J(m - 1, kappa*rho)\n",
      "(kappa, m, rho)\n",
      "\n",
      "bessel_J(m, kappa*rho)\n",
      "(kappa, m, rho)\n",
      "\n",
      "sin(m*varphi + psi_m)^2\n",
      "(m, psi_m, varphi)\n",
      "\n"
     ]
    }
   ],
   "source": [
    "M_det_num_factor_operands = ()\n",
    "for operand in M_det_num_factor.operands():\n",
    "    print (operand)\n",
    "    print (operand.variables())\n",
    "    if rh not in operand.variables() and ph not in operand.variables() and z not in operand.variables():\n",
    "        M_det_num_factor_operands += (operand,)\n",
    "    print (\"\")"
   ]
  },
  {
   "cell_type": "code",
   "execution_count": 137,
   "metadata": {},
   "outputs": [
    {
     "data": {
      "text/plain": [
       "(epsilon_1*k_0*cos(2*h*k_1)*cos(h*k_1)*sin(h*k_0) + epsilon_0*k_1*cos(h*k_0)*cos(h*k_1)*sin(2*h*k_1) - epsilon_0*k_1*cos(h*k_0)*cos(2*h*k_1)*sin(h*k_1) + epsilon_1*k_0*sin(h*k_0)*sin(2*h*k_1)*sin(h*k_1),)"
      ]
     },
     "execution_count": 137,
     "metadata": {},
     "output_type": "execute_result"
    }
   ],
   "source": [
    "M_det_num_factor_operands"
   ]
  },
  {
   "cell_type": "code",
   "execution_count": 138,
   "metadata": {},
   "outputs": [],
   "source": [
    "from sage.symbolic.operators import add_vararg, mul_vararg\n",
    "M_det_num = mul_vararg(*M_det_num_factor_operands)"
   ]
  },
  {
   "cell_type": "code",
   "execution_count": 139,
   "metadata": {},
   "outputs": [
    {
     "data": {
      "text/latex": [
       "$$\\epsilon_{1} k_{0} \\cos\\left(2 \\, h k_{1}\\right) \\cos\\left(h k_{1}\\right) \\sin\\left(h k_{0}\\right) + \\epsilon_{0} k_{1} \\cos\\left(h k_{0}\\right) \\cos\\left(h k_{1}\\right) \\sin\\left(2 \\, h k_{1}\\right) - \\epsilon_{0} k_{1} \\cos\\left(h k_{0}\\right) \\cos\\left(2 \\, h k_{1}\\right) \\sin\\left(h k_{1}\\right) + \\epsilon_{1} k_{0} \\sin\\left(h k_{0}\\right) \\sin\\left(2 \\, h k_{1}\\right) \\sin\\left(h k_{1}\\right)$$"
      ],
      "text/plain": [
       "<IPython.core.display.Math object>"
      ]
     },
     "metadata": {},
     "output_type": "display_data"
    }
   ],
   "source": [
    "display(Math(latex(M_det_num.factor())))"
   ]
  },
  {
   "cell_type": "code",
   "execution_count": 140,
   "metadata": {},
   "outputs": [
    {
     "data": {
      "text/plain": [
       "(epsilon_0, epsilon_1, h, k_0, k_1)"
      ]
     },
     "execution_count": 140,
     "metadata": {},
     "output_type": "execute_result"
    }
   ],
   "source": [
    "M_det_num.variables()"
   ]
  },
  {
   "cell_type": "code",
   "execution_count": 141,
   "metadata": {},
   "outputs": [],
   "source": [
    "for i in range(n_layers):\n",
    "    M_det_num = (M_det_num/(k [i]*sin(h*k[i]))).full_simplify().expand()"
   ]
  },
  {
   "cell_type": "code",
   "execution_count": 142,
   "metadata": {},
   "outputs": [
    {
     "data": {
      "text/plain": [
       "epsilon_0*cos(h*k_0)/(k_0*sin(h*k_0)) + epsilon_1*cos(h*k_1)/(k_1*sin(h*k_1))"
      ]
     },
     "execution_count": 142,
     "metadata": {},
     "output_type": "execute_result"
    }
   ],
   "source": [
    "M_det_num"
   ]
  },
  {
   "cell_type": "code",
   "execution_count": 143,
   "metadata": {},
   "outputs": [],
   "source": [
    "disp_eq = M_det_num == 0"
   ]
  },
  {
   "cell_type": "code",
   "execution_count": 144,
   "metadata": {},
   "outputs": [
    {
     "data": {
      "text/latex": [
       "$$\\frac{\\epsilon_{0} \\cos\\left(h k_{0}\\right)}{k_{0} \\sin\\left(h k_{0}\\right)} + \\frac{\\epsilon_{1} \\cos\\left(h k_{1}\\right)}{k_{1} \\sin\\left(h k_{1}\\right)} = 0$$"
      ],
      "text/plain": [
       "<IPython.core.display.Math object>"
      ]
     },
     "metadata": {},
     "output_type": "display_data"
    }
   ],
   "source": [
    "display(Math(latex(disp_eq)))"
   ]
  },
  {
   "cell_type": "code",
   "execution_count": 145,
   "metadata": {},
   "outputs": [
    {
     "data": {
      "text/plain": [
       "[-1/2*(I*A_z_0*k_0^2*(bessel_J(m + 1, kappa*rho) - bessel_J(m - 1, kappa*rho))*cos(h*k_0)*sin(m*varphi + psi_m)/kappa + I*A_z_0*kappa*(bessel_J(m + 1, kappa*rho) - bessel_J(m - 1, kappa*rho))*cos(h*k_0)*sin(m*varphi + psi_m))*c/(mu_0*omega) == -1/2*(I*(A_z_1*cos(h*k_1) + A_z_1*sin(2*h*k_1)*sin(h*k_1)/cos(2*h*k_1))*kappa*(bessel_J(m + 1, kappa*rho) - bessel_J(m - 1, kappa*rho))*sin(m*varphi + psi_m) + I*(A_z_1*k_1*cos(h*k_1) + A_z_1*k_1*sin(2*h*k_1)*sin(h*k_1)/cos(2*h*k_1))*k_1*(bessel_J(m + 1, kappa*rho) - bessel_J(m - 1, kappa*rho))*sin(m*varphi + psi_m)/kappa)*c/(mu_1*omega)]"
      ]
     },
     "execution_count": 145,
     "metadata": {},
     "output_type": "execute_result"
    }
   ],
   "source": [
    "bch"
   ]
  },
  {
   "cell_type": "code",
   "execution_count": 146,
   "metadata": {},
   "outputs": [],
   "source": [
    "bchs = []\n",
    "for i in range(n_layers-1):\n",
    "    bchs +=  [solve (bch, A_z[i+1])[0].full_simplify ().factor () ]"
   ]
  },
  {
   "cell_type": "code",
   "execution_count": 147,
   "metadata": {},
   "outputs": [
    {
     "data": {
      "text/latex": [
       "$$\\left[A_{z_{1}} = -\\frac{{\\left(k_{0}^{2} + \\kappa^{2}\\right)} {\\left(2 \\, \\sin\\left(h k_{1}\\right)^{2} - 1\\right)} A_{z_{0}} \\mu_{1} \\cos\\left(h k_{0}\\right)}{{\\left(k_{1}^{2} + \\kappa^{2}\\right)} \\mu_{0} \\cos\\left(h k_{1}\\right)}\\right]$$"
      ],
      "text/plain": [
       "<IPython.core.display.Math object>"
      ]
     },
     "metadata": {},
     "output_type": "display_data"
    }
   ],
   "source": [
    "display(Math(latex(bchs)))"
   ]
  },
  {
   "cell_type": "code",
   "execution_count": null,
   "metadata": {},
   "outputs": [],
   "source": []
  },
  {
   "cell_type": "code",
   "execution_count": 148,
   "metadata": {},
   "outputs": [],
   "source": [
    "E_rho_s = []\n",
    "for i in range(n_layers):\n",
    "    E_rho_s += [ lambda rh, ph, z, i=i : E_rho[i](rh,ph,z).subs(bchs).factor() ]"
   ]
  },
  {
   "cell_type": "code",
   "execution_count": 149,
   "metadata": {},
   "outputs": [],
   "source": [
    "E_phi_s = []\n",
    "for i in range(n_layers):\n",
    "    E_phi_s += [ lambda rh, ph, z, i=i : E_phi[i](rh,ph,z).subs(bchs).factor() ]"
   ]
  },
  {
   "cell_type": "code",
   "execution_count": 150,
   "metadata": {},
   "outputs": [],
   "source": [
    "E_z_s = []\n",
    "for i in range(n_layers):\n",
    "    E_z_s += [ lambda rh, ph, z, i=i : E_zz[i](rh,ph,z).subs(bchs).factor() ]"
   ]
  },
  {
   "cell_type": "code",
   "execution_count": 151,
   "metadata": {},
   "outputs": [],
   "source": [
    "H_rho_s = []\n",
    "for i in range(n_layers):\n",
    "    H_rho_s += [ lambda rh, ph, z, i=i : H_rho[i](rh,ph,z).subs(bchs).factor() ]\n"
   ]
  },
  {
   "cell_type": "code",
   "execution_count": 152,
   "metadata": {},
   "outputs": [],
   "source": [
    "H_phi_s = []\n",
    "for i in range(n_layers):\n",
    "    H_phi_s += [ lambda rh, ph, z, i=i : H_phi[i](rh,ph,z).subs(bchs).factor() ]\n"
   ]
  },
  {
   "cell_type": "code",
   "execution_count": 153,
   "metadata": {},
   "outputs": [
    {
     "data": {
      "text/latex": [
       "$$\\frac{A_{z_{0}} k_{0} {\\left(J_{m + 1}(\\kappa \\rho) - J_{m - 1}(\\kappa \\rho)\\right)} \\sin\\left(m \\varphi + \\psi_{m}\\right) \\sin\\left(k_{0} z\\right)}{2 \\, \\kappa}$$"
      ],
      "text/plain": [
       "<IPython.core.display.Math object>"
      ]
     },
     "metadata": {},
     "output_type": "display_data"
    }
   ],
   "source": [
    "if 0 < n_layers:\n",
    "    display(Math(latex(E_rho_s [0](rh,ph,z))))"
   ]
  },
  {
   "cell_type": "code",
   "execution_count": 154,
   "metadata": {},
   "outputs": [
    {
     "data": {
      "text/latex": [
       "$$\\frac{{\\left(k_{0}^{2} + \\kappa^{2}\\right)} {\\left(\\cos\\left(k_{1} z\\right) \\sin\\left(2 \\, h k_{1}\\right) - \\cos\\left(2 \\, h k_{1}\\right) \\sin\\left(k_{1} z\\right)\\right)} {\\left(2 \\, \\sin\\left(h k_{1}\\right)^{2} - 1\\right)} A_{z_{0}} k_{1} \\mu_{1} {\\left(J_{m + 1}(\\kappa \\rho) - J_{m - 1}(\\kappa \\rho)\\right)} \\cos\\left(h k_{0}\\right) \\sin\\left(m \\varphi + \\psi_{m}\\right)}{2 \\, {\\left(k_{1}^{2} + \\kappa^{2}\\right)} \\kappa \\mu_{0} \\cos\\left(2 \\, h k_{1}\\right) \\cos\\left(h k_{1}\\right)}$$"
      ],
      "text/plain": [
       "<IPython.core.display.Math object>"
      ]
     },
     "metadata": {},
     "output_type": "display_data"
    }
   ],
   "source": [
    "if 1 < n_layers:\n",
    "    display(Math(latex(E_rho_s [1](rh,ph,z))))"
   ]
  },
  {
   "cell_type": "code",
   "execution_count": 155,
   "metadata": {},
   "outputs": [
    {
     "data": {
      "text/latex": [
       "$$-\\frac{A_{z_{0}} k_{0} m J_{m}(\\kappa \\rho) \\cos\\left(m \\varphi + \\psi_{m}\\right) \\sin\\left(k_{0} z\\right)}{\\kappa^{2} \\rho}$$"
      ],
      "text/plain": [
       "<IPython.core.display.Math object>"
      ]
     },
     "metadata": {},
     "output_type": "display_data"
    }
   ],
   "source": [
    "if 0 < n_layers:\n",
    "    display(Math(latex(E_phi_s [0](rh,ph,z))))"
   ]
  },
  {
   "cell_type": "code",
   "execution_count": 156,
   "metadata": {},
   "outputs": [
    {
     "data": {
      "text/latex": [
       "$$-\\frac{{\\left(k_{0}^{2} + \\kappa^{2}\\right)} {\\left(\\cos\\left(k_{1} z\\right) \\sin\\left(2 \\, h k_{1}\\right) - \\cos\\left(2 \\, h k_{1}\\right) \\sin\\left(k_{1} z\\right)\\right)} {\\left(2 \\, \\sin\\left(h k_{1}\\right)^{2} - 1\\right)} A_{z_{0}} k_{1} m \\mu_{1} J_{m}(\\kappa \\rho) \\cos\\left(h k_{0}\\right) \\cos\\left(m \\varphi + \\psi_{m}\\right)}{{\\left(k_{1}^{2} + \\kappa^{2}\\right)} \\kappa^{2} \\mu_{0} \\rho \\cos\\left(2 \\, h k_{1}\\right) \\cos\\left(h k_{1}\\right)}$$"
      ],
      "text/plain": [
       "<IPython.core.display.Math object>"
      ]
     },
     "metadata": {},
     "output_type": "display_data"
    }
   ],
   "source": [
    "if 1 < n_layers:\n",
    "    display(Math(latex(E_phi_s [1](rh,ph,z))))"
   ]
  },
  {
   "cell_type": "code",
   "execution_count": 157,
   "metadata": {},
   "outputs": [
    {
     "data": {
      "text/latex": [
       "$$A_{z_{0}} J_{m}(\\kappa \\rho) \\cos\\left(k_{0} z\\right) \\sin\\left(m \\varphi + \\psi_{m}\\right)$$"
      ],
      "text/plain": [
       "<IPython.core.display.Math object>"
      ]
     },
     "metadata": {},
     "output_type": "display_data"
    }
   ],
   "source": [
    "if 0 < n_layers:\n",
    "    display(Math(latex(E_z_s[0](rh,ph,z))))"
   ]
  },
  {
   "cell_type": "code",
   "execution_count": 158,
   "metadata": {},
   "outputs": [
    {
     "data": {
      "text/latex": [
       "$$-\\frac{{\\left(k_{0}^{2} + \\kappa^{2}\\right)} {\\left(\\cos\\left(2 \\, h k_{1}\\right) \\cos\\left(k_{1} z\\right) + \\sin\\left(2 \\, h k_{1}\\right) \\sin\\left(k_{1} z\\right)\\right)} {\\left(2 \\, \\sin\\left(h k_{1}\\right)^{2} - 1\\right)} A_{z_{0}} \\mu_{1} J_{m}(\\kappa \\rho) \\cos\\left(h k_{0}\\right) \\sin\\left(m \\varphi + \\psi_{m}\\right)}{{\\left(k_{1}^{2} + \\kappa^{2}\\right)} \\mu_{0} \\cos\\left(2 \\, h k_{1}\\right) \\cos\\left(h k_{1}\\right)}$$"
      ],
      "text/plain": [
       "<IPython.core.display.Math object>"
      ]
     },
     "metadata": {},
     "output_type": "display_data"
    }
   ],
   "source": [
    "if 1 < n_layers:\n",
    "    display(Math(latex(E_z_s[1](rh,ph,z))))"
   ]
  },
  {
   "cell_type": "code",
   "execution_count": 159,
   "metadata": {},
   "outputs": [
    {
     "data": {
      "text/latex": [
       "$$-\\frac{i \\, {\\left(k_{0}^{2} + \\kappa^{2}\\right)} A_{z_{0}} c m J_{m}(\\kappa \\rho) \\cos\\left(m \\varphi + \\psi_{m}\\right) \\cos\\left(k_{0} z\\right)}{\\kappa^{2} \\mu_{0} \\omega \\rho}$$"
      ],
      "text/plain": [
       "<IPython.core.display.Math object>"
      ]
     },
     "metadata": {},
     "output_type": "display_data"
    }
   ],
   "source": [
    "if 0 < n_layers:\n",
    "    display(Math(latex(H_rho_s[0](rh,ph,z))))"
   ]
  },
  {
   "cell_type": "code",
   "execution_count": 160,
   "metadata": {},
   "outputs": [
    {
     "data": {
      "text/latex": [
       "$$\\frac{i \\, {\\left(k_{0}^{2} + \\kappa^{2}\\right)} {\\left(\\cos\\left(2 \\, h k_{1}\\right) \\cos\\left(k_{1} z\\right) + \\sin\\left(2 \\, h k_{1}\\right) \\sin\\left(k_{1} z\\right)\\right)} {\\left(2 \\, \\sin\\left(h k_{1}\\right)^{2} - 1\\right)} A_{z_{0}} c m J_{m}(\\kappa \\rho) \\cos\\left(h k_{0}\\right) \\cos\\left(m \\varphi + \\psi_{m}\\right)}{\\kappa^{2} \\mu_{0} \\omega \\rho \\cos\\left(2 \\, h k_{1}\\right) \\cos\\left(h k_{1}\\right)}$$"
      ],
      "text/plain": [
       "<IPython.core.display.Math object>"
      ]
     },
     "metadata": {},
     "output_type": "display_data"
    }
   ],
   "source": [
    "if 1 < n_layers:\n",
    "    display(Math(latex(H_rho_s[1](rh,ph,z))))"
   ]
  },
  {
   "cell_type": "code",
   "execution_count": 161,
   "metadata": {},
   "outputs": [
    {
     "data": {
      "text/latex": [
       "$$-\\frac{i \\, {\\left(k_{0}^{2} + \\kappa^{2}\\right)} A_{z_{0}} c {\\left(J_{m + 1}(\\kappa \\rho) - J_{m - 1}(\\kappa \\rho)\\right)} \\cos\\left(k_{0} z\\right) \\sin\\left(m \\varphi + \\psi_{m}\\right)}{2 \\, \\kappa \\mu_{0} \\omega}$$"
      ],
      "text/plain": [
       "<IPython.core.display.Math object>"
      ]
     },
     "metadata": {},
     "output_type": "display_data"
    }
   ],
   "source": [
    "if 0 < n_layers:\n",
    "    display(Math(latex(H_phi_s[0](rh,ph,z))))"
   ]
  },
  {
   "cell_type": "code",
   "execution_count": 162,
   "metadata": {},
   "outputs": [
    {
     "data": {
      "text/latex": [
       "$$\\frac{i \\, {\\left(k_{0}^{2} + \\kappa^{2}\\right)} {\\left(\\cos\\left(2 \\, h k_{1}\\right) \\cos\\left(k_{1} z\\right) + \\sin\\left(2 \\, h k_{1}\\right) \\sin\\left(k_{1} z\\right)\\right)} {\\left(2 \\, \\sin\\left(h k_{1}\\right)^{2} - 1\\right)} A_{z_{0}} c {\\left(J_{m + 1}(\\kappa \\rho) - J_{m - 1}(\\kappa \\rho)\\right)} \\cos\\left(h k_{0}\\right) \\sin\\left(m \\varphi + \\psi_{m}\\right)}{2 \\, \\kappa \\mu_{0} \\omega \\cos\\left(2 \\, h k_{1}\\right) \\cos\\left(h k_{1}\\right)}$$"
      ],
      "text/plain": [
       "<IPython.core.display.Math object>"
      ]
     },
     "metadata": {},
     "output_type": "display_data"
    }
   ],
   "source": [
    "if 1 < n_layers:\n",
    "    display(Math(latex(H_phi_s[1](rh,ph,z))))"
   ]
  },
  {
   "cell_type": "code",
   "execution_count": 163,
   "metadata": {},
   "outputs": [
    {
     "data": {
      "text/plain": [
       "[-k_0^2 + epsilon_0*mu_0*omega^2/c^2 == kappa^2,\n",
       " -k_1^2 + epsilon_1*mu_1*omega^2/c^2 == kappa^2]"
      ]
     },
     "execution_count": 163,
     "metadata": {},
     "output_type": "execute_result"
    }
   ],
   "source": [
    "eq_kappa"
   ]
  },
  {
   "cell_type": "code",
   "execution_count": 164,
   "metadata": {},
   "outputs": [
    {
     "data": {
      "text/plain": [
       "epsilon_0*cos(h*k_0)/(k_0*sin(h*k_0)) + epsilon_1*cos(h*k_1)/(k_1*sin(h*k_1)) == 0"
      ]
     },
     "execution_count": 164,
     "metadata": {},
     "output_type": "execute_result"
    }
   ],
   "source": [
    "disp_eq"
   ]
  },
  {
   "cell_type": "code",
   "execution_count": 165,
   "metadata": {},
   "outputs": [],
   "source": [
    "bessel_root_1 = find_root (bessel_J(0,x),  0, pi)"
   ]
  },
  {
   "cell_type": "code",
   "execution_count": 166,
   "metadata": {},
   "outputs": [],
   "source": [
    "bessel_root_2 =  find_root (bessel_J(0,x),  pi, pi*2)"
   ]
  },
  {
   "cell_type": "code",
   "execution_count": 167,
   "metadata": {
    "scrolled": true
   },
   "outputs": [],
   "source": [
    "kappa_d1 = bessel_root_1/a"
   ]
  },
  {
   "cell_type": "code",
   "execution_count": 168,
   "metadata": {},
   "outputs": [],
   "source": [
    "#sgs\n",
    "# https://technoinfo.ru/catalog/napylenie-oksida-titana-tio2/\n",
    "# https://technoinfo.ru/catalog/napylenie-oksida-alyuminiya-al2o3/\n",
    "lambda_d = 632*100*10^-9\n",
    "# 632 nm\n",
    "digit_values = [m == m_val, a == 12, mu[0] == 1,  epsilon[0] == 2.468^2]\n",
    "if 1 < n_layers:\n",
    "    digit_values += [mu[1] == 1, epsilon[1] == 1.67^2]\n",
    "c_value  = [ c == 299792458 * 100]\n",
    "\n",
    "omega_value = [ omega  == ((2*pi * c)/ lambda_d).subs (c_value) ]"
   ]
  },
  {
   "cell_type": "code",
   "execution_count": 169,
   "metadata": {},
   "outputs": [],
   "source": [
    "epsilon_d = []\n",
    "for i in range(n_layers):\n",
    "    epsilon_d += [epsilon[i].subs(digit_values)]"
   ]
  },
  {
   "cell_type": "code",
   "execution_count": 170,
   "metadata": {},
   "outputs": [],
   "source": [
    "eq_kappa_d = []\n",
    "for i in range(n_layers):\n",
    "    eq_kappa_d += [eq_kappa[i].subs(kappa == kappa_d1).subs(digit_values).subs (c_value).subs(omega_value)]"
   ]
  },
  {
   "cell_type": "code",
   "execution_count": 171,
   "metadata": {
    "scrolled": true
   },
   "outputs": [
    {
     "data": {
      "text/plain": [
       "[6.09980772312129e9*pi^2 - k_0^2 == 0.04016101363157489,\n",
       " 2.79292180740266e9*pi^2 - k_1^2 == 0.04016101363157489]"
      ]
     },
     "execution_count": 171,
     "metadata": {},
     "output_type": "execute_result"
    }
   ],
   "source": [
    "eq_kappa_d"
   ]
  },
  {
   "cell_type": "code",
   "execution_count": 172,
   "metadata": {},
   "outputs": [],
   "source": [
    "disp_eq_d = disp_eq.subs(digit_values).subs (c_value)"
   ]
  },
  {
   "cell_type": "code",
   "execution_count": 173,
   "metadata": {},
   "outputs": [
    {
     "data": {
      "text/plain": [
       "6.09102400000000*cos(h*k_0)/(k_0*sin(h*k_0)) + 2.78890000000000*cos(h*k_1)/(k_1*sin(h*k_1)) == 0"
      ]
     },
     "execution_count": 173,
     "metadata": {},
     "output_type": "execute_result"
    }
   ],
   "source": [
    "disp_eq_d"
   ]
  },
  {
   "cell_type": "code",
   "execution_count": 174,
   "metadata": {},
   "outputs": [],
   "source": [
    "k_values = []\n",
    "for i in range(n_layers):\n",
    "    assume (k [i] > 0)\n",
    "    k_values += solve (eq_kappa_d[i], k[i])"
   ]
  },
  {
   "cell_type": "code",
   "execution_count": 175,
   "metadata": {},
   "outputs": [
    {
     "data": {
      "text/plain": [
       "[k_0 == 1/39*sqrt(18555615093735/2*pi^2 - 926467802/15166887),\n",
       " k_1 == 1/3*sqrt(5680802956257/226*pi^2 - 5482058/15166887)]"
      ]
     },
     "execution_count": 175,
     "metadata": {},
     "output_type": "execute_result"
    }
   ],
   "source": [
    "k_values"
   ]
  },
  {
   "cell_type": "code",
   "execution_count": 176,
   "metadata": {},
   "outputs": [],
   "source": [
    "k_values_d = []\n",
    "for i in range(n_layers):\n",
    "    k_values_d += [k_values [i].lhs() == k_values [i].rhs().n() ]"
   ]
  },
  {
   "cell_type": "code",
   "execution_count": 177,
   "metadata": {},
   "outputs": [
    {
     "data": {
      "text/plain": [
       "[k_0 == 245362.362944843, k_1 == 166027.206692757]"
      ]
     },
     "execution_count": 177,
     "metadata": {},
     "output_type": "execute_result"
    }
   ],
   "source": [
    "k_values_d"
   ]
  },
  {
   "cell_type": "code",
   "execution_count": 178,
   "metadata": {},
   "outputs": [],
   "source": [
    "disp_eq_s = disp_eq_d.subs(k_values_d)"
   ]
  },
  {
   "cell_type": "code",
   "execution_count": 179,
   "metadata": {},
   "outputs": [
    {
     "data": {
      "text/plain": [
       "0.0000248246060516187*cos(245362.362944843*h)/sin(245362.362944843*h) + 0.0000167978493137033*cos(166027.206692757*h)/sin(166027.206692757*h) == 0"
      ]
     },
     "execution_count": 179,
     "metadata": {},
     "output_type": "execute_result"
    }
   ],
   "source": [
    "disp_eq_s"
   ]
  },
  {
   "cell_type": "code",
   "execution_count": 180,
   "metadata": {},
   "outputs": [
    {
     "name": "stdout",
     "output_type": "stream",
     "text": [
      "0.0000248246060516187*cos(245362.362944843*h)/sin(245362.362944843*h)\n",
      "(h,)\n",
      "sin(245362.362944843*h)\n",
      "1.2803889789309366e-05\n",
      "\n",
      "0.0000167978493137033*cos(166027.206692757*h)/sin(166027.206692757*h)\n",
      "(h,)\n",
      "sin(166027.206692757*h)\n",
      "1.892215568863932e-05\n",
      "\n"
     ]
    }
   ],
   "source": [
    "disp_eq_s_operands = ()\n",
    "for operand in disp_eq_s.lhs().operands():\n",
    "    print (operand)\n",
    "    print (operand.variables())\n",
    "    print (operand.denominator())\n",
    "    print(find_root( operand.denominator() == 0, lambda_d/32, lambda_d/3))\n",
    "    #if rh not in operand.variables() and ph not in operand.variables() and z not in operand.variables():\n",
    "    #    M_det_num_factor_operands += (operand,)\n",
    "    print (\"\")"
   ]
  },
  {
   "cell_type": "code",
   "execution_count": 181,
   "metadata": {},
   "outputs": [],
   "source": [
    "disp_eq_brakes = []\n",
    "for i in range(n_layers):\n",
    "    disp_eq_brake = find_root( sin(k_values_d[i].rhs()*x) == 0, lambda_d/32, lambda_d/3)\n",
    "    for j in range (3):\n",
    "        disp_eq_brakes += [ j * pi / k_values_d [i].rhs() + disp_eq_brake]"
   ]
  },
  {
   "cell_type": "code",
   "execution_count": 182,
   "metadata": {},
   "outputs": [
    {
     "data": {
      "text/plain": [
       "[1.2803889789309366e-05,\n",
       " (4.07560470154422e-6)*pi + 1.2803889789309366e-05,\n",
       " (8.15120940308844e-6)*pi + 1.2803889789309366e-05,\n",
       " 1.892215568863932e-05,\n",
       " (6.02310922360187e-6)*pi + 1.892215568863932e-05,\n",
       " 0.0000120462184472037*pi + 1.892215568863932e-05]"
      ]
     },
     "execution_count": 182,
     "metadata": {},
     "output_type": "execute_result"
    }
   ],
   "source": [
    "disp_eq_brakes"
   ]
  },
  {
   "cell_type": "code",
   "execution_count": null,
   "metadata": {},
   "outputs": [],
   "source": []
  },
  {
   "cell_type": "code",
   "execution_count": null,
   "metadata": {},
   "outputs": [],
   "source": []
  },
  {
   "cell_type": "code",
   "execution_count": 183,
   "metadata": {},
   "outputs": [
    {
     "data": {
      "image/png": "[encoded data removed]",
      "text/plain": [
       "Graphics object consisting of 2 graphics primitives"
      ]
     },
     "metadata": {},
     "output_type": "display_data"
    }
   ],
   "source": [
    "p = sage.plot.graphics.Graphics()\n",
    "for i in range(n_layers):\n",
    "    p += plot ( sin(k_values_d[i].rhs()* x), 0*lambda_d/32, lambda_d/3)\n",
    "\n",
    "p.show()"
   ]
  },
  {
   "cell_type": "code",
   "execution_count": 184,
   "metadata": {
    "scrolled": true
   },
   "outputs": [
    {
     "data": {
      "text/plain": [
       "[1.2803889789309366e-05,\n",
       " (4.07560470154422e-6)*pi + 1.2803889789309366e-05,\n",
       " (8.15120940308844e-6)*pi + 1.2803889789309366e-05,\n",
       " 1.892215568863932e-05,\n",
       " (6.02310922360187e-6)*pi + 1.892215568863932e-05,\n",
       " 0.0000120462184472037*pi + 1.892215568863932e-05]"
      ]
     },
     "execution_count": 184,
     "metadata": {},
     "output_type": "execute_result"
    }
   ],
   "source": [
    "disp_eq_brakes"
   ]
  },
  {
   "cell_type": "code",
   "execution_count": 185,
   "metadata": {},
   "outputs": [],
   "source": [
    "disp_eq_brakes.sort()"
   ]
  },
  {
   "cell_type": "code",
   "execution_count": 186,
   "metadata": {
    "scrolled": true
   },
   "outputs": [
    {
     "data": {
      "text/latex": [
       "$$0.0000128038897893094$$"
      ],
      "text/plain": [
       "<IPython.core.display.Math object>"
      ]
     },
     "metadata": {},
     "output_type": "display_data"
    },
    {
     "data": {
      "text/latex": [
       "$$0.0000189221556886393$$"
      ],
      "text/plain": [
       "<IPython.core.display.Math object>"
      ]
     },
     "metadata": {},
     "output_type": "display_data"
    },
    {
     "data": {
      "text/latex": [
       "$$0.0000256077795786167$$"
      ],
      "text/plain": [
       "<IPython.core.display.Math object>"
      ]
     },
     "metadata": {},
     "output_type": "display_data"
    },
    {
     "data": {
      "text/latex": [
       "$$0.0000378443113772759$$"
      ],
      "text/plain": [
       "<IPython.core.display.Math object>"
      ]
     },
     "metadata": {},
     "output_type": "display_data"
    },
    {
     "data": {
      "text/latex": [
       "$$0.0000384116693679241$$"
      ],
      "text/plain": [
       "<IPython.core.display.Math object>"
      ]
     },
     "metadata": {},
     "output_type": "display_data"
    },
    {
     "data": {
      "text/latex": [
       "$$0.0000567664670659124$$"
      ],
      "text/plain": [
       "<IPython.core.display.Math object>"
      ]
     },
     "metadata": {},
     "output_type": "display_data"
    }
   ],
   "source": [
    "for i in range(len(disp_eq_brakes)):\n",
    "    display(Math(latex(disp_eq_brakes [i].n())))"
   ]
  },
  {
   "cell_type": "code",
   "execution_count": 187,
   "metadata": {},
   "outputs": [
    {
     "data": {
      "text/plain": [
       "0.0000857414620708909"
      ]
     },
     "execution_count": 187,
     "metadata": {},
     "output_type": "execute_result"
    }
   ],
   "source": [
    "disp_eq_s.lhs ().subs(h  == disp_eq_brakes [0] + lambda_d/64)"
   ]
  },
  {
   "cell_type": "code",
   "execution_count": 188,
   "metadata": {},
   "outputs": [
    {
     "data": {
      "image/png": "[encoded data removed]",
      "text/plain": [
       "Graphics object consisting of 6 graphics primitives"
      ]
     },
     "metadata": {},
     "output_type": "display_data"
    }
   ],
   "source": [
    "p = sage.plot.graphics.Graphics()\n",
    "ylim = 5*10^-5\n",
    "xeps = lambda_d/1024\n",
    "p += plot(disp_eq_s.lhs(), xeps, disp_eq_brakes[0])\n",
    "for i in range(len(disp_eq_brakes)-1):\n",
    "    p += plot (disp_eq_s.lhs(), disp_eq_brakes[i] + xeps, disp_eq_brakes[i+1] - xeps, ymin = -ylim, ymax = ylim)\n",
    "\n",
    "p.show()"
   ]
  },
  {
   "cell_type": "code",
   "execution_count": 189,
   "metadata": {},
   "outputs": [],
   "source": [
    "h_lst = []\n",
    "\n",
    "xeps = lambda_d/1024\n",
    "for i in range(len(disp_eq_brakes)-1):\n",
    "    try:\n",
    "        \n",
    "        h_lst += [find_root (disp_eq_s.lhs(), disp_eq_brakes[i] + xeps, disp_eq_brakes[i+1] - xeps)]\n",
    "    except  Exception as ex:\n",
    "        print(str(ex))\n",
    "        print(disp_eq_brakes[i].n())\n",
    "        print(disp_eq_brakes [i+1].n())"
   ]
  },
  {
   "cell_type": "code",
   "execution_count": 190,
   "metadata": {},
   "outputs": [
    {
     "data": {
      "text/plain": [
       "[1.5720024693785074e-05,\n",
       " 2.2448399672557188e-05,\n",
       " 3.084688315441931e-05,\n",
       " 3.812811446043326e-05,\n",
       " 4.560398282749686e-05]"
      ]
     },
     "execution_count": 190,
     "metadata": {},
     "output_type": "execute_result"
    }
   ],
   "source": [
    "h_lst "
   ]
  },
  {
   "cell_type": "code",
   "execution_count": 191,
   "metadata": {},
   "outputs": [],
   "source": [
    "def find_newton_root(f,x,a,b):\n",
    "    df = f.diff(x)\n",
    "    NewtonIt(x)=x-(f/df)(x)\n",
    "    \n",
    "    xn=(a+b)/2;                      # initial guess\n",
    "\n",
    "    print (xn)\n",
    "    for i in range(10):\n",
    "        xn=N(NewtonIt(xn),digits=20)\n",
    "\n",
    "        \n",
    "        print (xn)\n",
    "\n",
    "    return xn"
   ]
  },
  {
   "cell_type": "code",
   "execution_count": 192,
   "metadata": {},
   "outputs": [
    {
     "name": "stdout",
     "output_type": "stream",
     "text": [
      "no canonical coercion from <class 'str'> to Symbolic Ring\n",
      "0.0000128038897893094\n",
      "0.0000189221556886393\n",
      "no canonical coercion from <class 'str'> to Symbolic Ring\n",
      "0.0000189221556886393\n",
      "0.0000256077795786167\n",
      "no canonical coercion from <class 'str'> to Symbolic Ring\n",
      "0.0000256077795786167\n",
      "0.0000378443113772759\n",
      "no canonical coercion from <class 'str'> to Symbolic Ring\n",
      "0.0000378443113772759\n",
      "0.0000384116693679241\n",
      "no canonical coercion from <class 'str'> to Symbolic Ring\n",
      "0.0000384116693679241\n",
      "0.0000567664670659124\n"
     ]
    },
    {
     "name": "stderr",
     "output_type": "stream",
     "text": [
      "/opt/sagemath-9.0/local/lib/python3.7/site-packages/sage/repl/ipython_kernel/__main__.py:6: DeprecationWarning: Substitution using function-call syntax and unnamed arguments is deprecated and will be removed from a future release of Sage; you can use named arguments instead, like EXPR(x=..., y=...)\n",
      "See http://trac.sagemath.org/5930 for details.\n"
     ]
    }
   ],
   "source": [
    "h_lst_ =[]\n",
    "\n",
    "xeps = lambda_d/1024\n",
    "for i in range(len(disp_eq_brakes)-1):\n",
    "    try:\n",
    "        h_lst_ += [find_newton_root (disp_eq_s.lhs(),h,disp_eq_brakes[i] + xeps, disp_eq_brakes[i+1] - xeps)]\n",
    "    except  Exception as ex:\n",
    "        print(str(ex))\n",
    "        print(disp_eq_brakes[i].n())\n",
    "        print(disp_eq_brakes [i+1].n())\n",
    "\n"
   ]
  },
  {
   "cell_type": "code",
   "execution_count": 193,
   "metadata": {},
   "outputs": [
    {
     "data": {
      "text/plain": [
       "[1.5720024693785074e-05,\n",
       " 2.2448399672557188e-05,\n",
       " 3.084688315441931e-05,\n",
       " 3.812811446043326e-05,\n",
       " 4.560398282749686e-05]"
      ]
     },
     "execution_count": 193,
     "metadata": {},
     "output_type": "execute_result"
    }
   ],
   "source": [
    "h_lst"
   ]
  },
  {
   "cell_type": "code",
   "execution_count": 194,
   "metadata": {},
   "outputs": [],
   "source": [
    "h_sol = h_lst[0]"
   ]
  },
  {
   "cell_type": "code",
   "execution_count": 195,
   "metadata": {},
   "outputs": [
    {
     "data": {
      "text/plain": [
       "1.5720024693785074e-05"
      ]
     },
     "execution_count": 195,
     "metadata": {},
     "output_type": "execute_result"
    }
   ],
   "source": [
    "h_sol"
   ]
  },
  {
   "cell_type": "code",
   "execution_count": 196,
   "metadata": {},
   "outputs": [],
   "source": [
    "E_rho_sol = []\n",
    "for i in range(n_layers):\n",
    "    E_rho_sol += [lambda rh,ph,z,  i=i: E_rho_s[i](rh,ph,z)\n",
    "                  .subs(digit_values)\n",
    "                  .subs(h == h_sol)\n",
    "                  .subs(omega_value)\n",
    "                  .subs(kappa == kappa_d1)\n",
    "                  .subs(c_value)\n",
    "                  .subs(k_values_d)\n",
    "                  .subs(digit_values)\n",
    "                  .subs(A_z[0] == 1)\n",
    "                  .subs(psi_m == pi/2)\n",
    "                 ]"
   ]
  },
  {
   "cell_type": "code",
   "execution_count": 197,
   "metadata": {},
   "outputs": [],
   "source": [
    "E_phi_sol = []\n",
    "for i in range(n_layers):\n",
    "    E_phi_sol += [lambda rh,ph,z,  i=i: E_phi_s[i](rh,ph,z)\n",
    "                  .subs(digit_values)\n",
    "                  .subs(h == h_sol)\n",
    "                  .subs(omega_value)\n",
    "                  .subs(kappa == kappa_d1)\n",
    "                  .subs(c_value)\n",
    "                  .subs(k_values_d)\n",
    "                  .subs(digit_values)\n",
    "                  .subs(A_z[0] == 1)\n",
    "                  .subs(psi_m == pi/2)\n",
    "                 ]"
   ]
  },
  {
   "cell_type": "code",
   "execution_count": 198,
   "metadata": {},
   "outputs": [],
   "source": [
    "E_z_sol = []\n",
    "for i in range(n_layers):\n",
    "    E_z_sol += [lambda rh,ph,z,  i=i: E_z_s[i](rh,ph,z)\n",
    "                .subs(digit_values)\n",
    "                .subs(h == h_sol)\n",
    "                .subs(omega_value)\n",
    "                .subs(kappa == kappa_d1)\n",
    "                .subs(c_value)\n",
    "                .subs(k_values_d)\n",
    "                .subs(digit_values)\n",
    "                .subs(A_z[0] == 1)\n",
    "                .subs(psi_m == pi/2)\n",
    "               ]"
   ]
  },
  {
   "cell_type": "code",
   "execution_count": 199,
   "metadata": {},
   "outputs": [],
   "source": [
    "H_rho_sol = []\n",
    "for i in range(n_layers):\n",
    "    H_rho_sol += [lambda rh,ph,z,  i=i: H_rho_s[i](rh,ph,z)\n",
    "                  .subs(digit_values)\n",
    "                  .subs(h == h_sol)\n",
    "                  .subs(omega_value)\n",
    "                  .subs(kappa == kappa_d1)\n",
    "                  .subs(c_value)\n",
    "                  .subs(k_values_d)\n",
    "                  .subs(digit_values)\n",
    "                  .subs(A_z[0] == 1)\n",
    "                  .subs(psi_m == pi/2)\n",
    "                 ]"
   ]
  },
  {
   "cell_type": "code",
   "execution_count": 200,
   "metadata": {},
   "outputs": [],
   "source": [
    "H_phi_sol = []\n",
    "for i in range(n_layers):\n",
    "    H_phi_sol += [lambda rh,ph,z,  i=i: H_phi_s[i](rh,ph,z)\n",
    "                  .subs(digit_values)\n",
    "                  .subs(h == h_sol)\n",
    "                  .subs(omega_value)\n",
    "                  .subs(kappa == kappa_d1)\n",
    "                  .subs(c_value)\n",
    "                  .subs(k_values_d)\n",
    "                  .subs(digit_values)\n",
    "                  .subs(A_z[0] == 1)\n",
    "                  .subs(psi_m == pi/2)\n",
    "                 ]"
   ]
  },
  {
   "cell_type": "code",
   "execution_count": 201,
   "metadata": {},
   "outputs": [
    {
     "data": {
      "text/plain": [
       "[792167.815520115*(bessel_J(1, 0.20040212980798106*rho) - bessel_J(-1, 0.20040212980798106*rho))*(0.873955127673043*cos(166027.206692757*z) + 0.486006620133919*sin(166027.206692757*z)),\n",
       " 792167.815520115*(bessel_J(1, 0.20040212980798106*rho) - bessel_J(-1, 0.20040212980798106*rho))*(0.873955127673043*cos(166027.206692757*z) + 0.486006620133919*sin(166027.206692757*z)),\n",
       " 792167.815520115*(bessel_J(1, 0.20040212980798106*rho) - bessel_J(-1, 0.20040212980798106*rho))*(0.873955127673043*cos(166027.206692757*z) + 0.486006620133919*sin(166027.206692757*z)),\n",
       " 792167.815520115*(bessel_J(1, 0.20040212980798106*rho) - bessel_J(-1, 0.20040212980798106*rho))*(0.873955127673043*cos(166027.206692757*z) + 0.486006620133919*sin(166027.206692757*z)),\n",
       " 792167.815520115*(bessel_J(1, 0.20040212980798106*rho) - bessel_J(-1, 0.20040212980798106*rho))*(0.873955127673043*cos(166027.206692757*z) + 0.486006620133919*sin(166027.206692757*z)),\n",
       " 792167.815520115*(bessel_J(1, 0.20040212980798106*rho) - bessel_J(-1, 0.20040212980798106*rho))*(0.873955127673043*cos(166027.206692757*z) + 0.486006620133919*sin(166027.206692757*z)),\n",
       " 792167.815520115*(bessel_J(1, 0.20040212980798106*rho) - bessel_J(-1, 0.20040212980798106*rho))*(0.873955127673043*cos(166027.206692757*z) + 0.486006620133919*sin(166027.206692757*z)),\n",
       " 792167.815520115*(bessel_J(1, 0.20040212980798106*rho) - bessel_J(-1, 0.20040212980798106*rho))*(0.873955127673043*cos(166027.206692757*z) + 0.486006620133919*sin(166027.206692757*z)),\n",
       " 792167.815520115*(bessel_J(1, 0.20040212980798106*rho) - bessel_J(-1, 0.20040212980798106*rho))*(0.873955127673043*cos(166027.206692757*z) + 0.486006620133919*sin(166027.206692757*z)),\n",
       " 792167.815520115*(bessel_J(1, 0.20040212980798106*rho) - bessel_J(-1, 0.20040212980798106*rho))*(0.873955127673043*cos(166027.206692757*z) + 0.486006620133919*sin(166027.206692757*z)),\n",
       " 792167.815520115*(bessel_J(1, 0.20040212980798106*rho) - bessel_J(-1, 0.20040212980798106*rho))*(0.873955127673043*cos(166027.206692757*z) + 0.486006620133919*sin(166027.206692757*z)),\n",
       " 792167.815520115*(bessel_J(1, 0.20040212980798106*rho) - bessel_J(-1, 0.20040212980798106*rho))*(0.873955127673043*cos(166027.206692757*z) + 0.486006620133919*sin(166027.206692757*z)),\n",
       " 792167.815520115*(bessel_J(1, 0.20040212980798106*rho) - bessel_J(-1, 0.20040212980798106*rho))*(0.873955127673043*cos(166027.206692757*z) + 0.486006620133919*sin(166027.206692757*z))]"
      ]
     },
     "execution_count": 201,
     "metadata": {},
     "output_type": "execute_result"
    }
   ],
   "source": [
    "[E_rho_sol [1](rho,ph,z) for rho in [0..12]]"
   ]
  },
  {
   "cell_type": "code",
   "execution_count": 202,
   "metadata": {},
   "outputs": [
    {
     "data": {
      "text/plain": [
       "[0, 0, 0, 0, 0, 0, 0, 0, 0, 0, 0, 0, 0]"
      ]
     },
     "execution_count": 202,
     "metadata": {},
     "output_type": "execute_result"
    }
   ],
   "source": [
    "[E_phi_sol [1](rho,ph,z) for rho in [0..12]]"
   ]
  },
  {
   "cell_type": "code",
   "execution_count": 203,
   "metadata": {},
   "outputs": [
    {
     "data": {
      "text/plain": [
       "[1.91236268510313*(0.486006620133919*cos(166027.206692757*z) - 0.873955127673043*sin(166027.206692757*z))*bessel_J(0, 0.20040212980798106*rho),\n",
       " 1.91236268510313*(0.486006620133919*cos(166027.206692757*z) - 0.873955127673043*sin(166027.206692757*z))*bessel_J(0, 0.20040212980798106*rho),\n",
       " 1.91236268510313*(0.486006620133919*cos(166027.206692757*z) - 0.873955127673043*sin(166027.206692757*z))*bessel_J(0, 0.20040212980798106*rho),\n",
       " 1.91236268510313*(0.486006620133919*cos(166027.206692757*z) - 0.873955127673043*sin(166027.206692757*z))*bessel_J(0, 0.20040212980798106*rho),\n",
       " 1.91236268510313*(0.486006620133919*cos(166027.206692757*z) - 0.873955127673043*sin(166027.206692757*z))*bessel_J(0, 0.20040212980798106*rho),\n",
       " 1.91236268510313*(0.486006620133919*cos(166027.206692757*z) - 0.873955127673043*sin(166027.206692757*z))*bessel_J(0, 0.20040212980798106*rho),\n",
       " 1.91236268510313*(0.486006620133919*cos(166027.206692757*z) - 0.873955127673043*sin(166027.206692757*z))*bessel_J(0, 0.20040212980798106*rho),\n",
       " 1.91236268510313*(0.486006620133919*cos(166027.206692757*z) - 0.873955127673043*sin(166027.206692757*z))*bessel_J(0, 0.20040212980798106*rho),\n",
       " 1.91236268510313*(0.486006620133919*cos(166027.206692757*z) - 0.873955127673043*sin(166027.206692757*z))*bessel_J(0, 0.20040212980798106*rho),\n",
       " 1.91236268510313*(0.486006620133919*cos(166027.206692757*z) - 0.873955127673043*sin(166027.206692757*z))*bessel_J(0, 0.20040212980798106*rho),\n",
       " 1.91236268510313*(0.486006620133919*cos(166027.206692757*z) - 0.873955127673043*sin(166027.206692757*z))*bessel_J(0, 0.20040212980798106*rho),\n",
       " 1.91236268510313*(0.486006620133919*cos(166027.206692757*z) - 0.873955127673043*sin(166027.206692757*z))*bessel_J(0, 0.20040212980798106*rho),\n",
       " 1.91236268510313*(0.486006620133919*cos(166027.206692757*z) - 0.873955127673043*sin(166027.206692757*z))*bessel_J(0, 0.20040212980798106*rho)]"
      ]
     },
     "execution_count": 203,
     "metadata": {},
     "output_type": "execute_result"
    }
   ],
   "source": [
    "[E_z_sol [1](rho,ph,z) for rho in [0..12]]"
   ]
  },
  {
   "cell_type": "code",
   "execution_count": 204,
   "metadata": {},
   "outputs": [
    {
     "data": {
      "text/plain": [
       "[0, 0, 0, 0, 0, 0, 0, 0, 0, 0, 0, 0, 0]"
      ]
     },
     "execution_count": 204,
     "metadata": {},
     "output_type": "execute_result"
    }
   ],
   "source": [
    "[H_rho_sol [1](rho,ph,z) for rho in [0..12]]"
   ]
  },
  {
   "cell_type": "code",
   "execution_count": 205,
   "metadata": {},
   "outputs": [
    {
     "data": {
      "text/plain": [
       "[-4156076.5447156313*I*(bessel_J(1, 0.20040212980798106*rho) - bessel_J(-1, 0.20040212980798106*rho))*(0.486006620133919*cos(166027.206692757*z) - 0.873955127673043*sin(166027.206692757*z))/pi,\n",
       " -4156076.5447156313*I*(bessel_J(1, 0.20040212980798106*rho) - bessel_J(-1, 0.20040212980798106*rho))*(0.486006620133919*cos(166027.206692757*z) - 0.873955127673043*sin(166027.206692757*z))/pi,\n",
       " -4156076.5447156313*I*(bessel_J(1, 0.20040212980798106*rho) - bessel_J(-1, 0.20040212980798106*rho))*(0.486006620133919*cos(166027.206692757*z) - 0.873955127673043*sin(166027.206692757*z))/pi,\n",
       " -4156076.5447156313*I*(bessel_J(1, 0.20040212980798106*rho) - bessel_J(-1, 0.20040212980798106*rho))*(0.486006620133919*cos(166027.206692757*z) - 0.873955127673043*sin(166027.206692757*z))/pi,\n",
       " -4156076.5447156313*I*(bessel_J(1, 0.20040212980798106*rho) - bessel_J(-1, 0.20040212980798106*rho))*(0.486006620133919*cos(166027.206692757*z) - 0.873955127673043*sin(166027.206692757*z))/pi,\n",
       " -4156076.5447156313*I*(bessel_J(1, 0.20040212980798106*rho) - bessel_J(-1, 0.20040212980798106*rho))*(0.486006620133919*cos(166027.206692757*z) - 0.873955127673043*sin(166027.206692757*z))/pi,\n",
       " -4156076.5447156313*I*(bessel_J(1, 0.20040212980798106*rho) - bessel_J(-1, 0.20040212980798106*rho))*(0.486006620133919*cos(166027.206692757*z) - 0.873955127673043*sin(166027.206692757*z))/pi,\n",
       " -4156076.5447156313*I*(bessel_J(1, 0.20040212980798106*rho) - bessel_J(-1, 0.20040212980798106*rho))*(0.486006620133919*cos(166027.206692757*z) - 0.873955127673043*sin(166027.206692757*z))/pi,\n",
       " -4156076.5447156313*I*(bessel_J(1, 0.20040212980798106*rho) - bessel_J(-1, 0.20040212980798106*rho))*(0.486006620133919*cos(166027.206692757*z) - 0.873955127673043*sin(166027.206692757*z))/pi,\n",
       " -4156076.5447156313*I*(bessel_J(1, 0.20040212980798106*rho) - bessel_J(-1, 0.20040212980798106*rho))*(0.486006620133919*cos(166027.206692757*z) - 0.873955127673043*sin(166027.206692757*z))/pi,\n",
       " -4156076.5447156313*I*(bessel_J(1, 0.20040212980798106*rho) - bessel_J(-1, 0.20040212980798106*rho))*(0.486006620133919*cos(166027.206692757*z) - 0.873955127673043*sin(166027.206692757*z))/pi,\n",
       " -4156076.5447156313*I*(bessel_J(1, 0.20040212980798106*rho) - bessel_J(-1, 0.20040212980798106*rho))*(0.486006620133919*cos(166027.206692757*z) - 0.873955127673043*sin(166027.206692757*z))/pi,\n",
       " -4156076.5447156313*I*(bessel_J(1, 0.20040212980798106*rho) - bessel_J(-1, 0.20040212980798106*rho))*(0.486006620133919*cos(166027.206692757*z) - 0.873955127673043*sin(166027.206692757*z))/pi]"
      ]
     },
     "execution_count": 205,
     "metadata": {},
     "output_type": "execute_result"
    }
   ],
   "source": [
    "[H_phi_sol [1](rho,ph,z) for rho in [0..12]]"
   ]
  },
  {
   "cell_type": "code",
   "execution_count": 206,
   "metadata": {},
   "outputs": [
    {
     "data": {
      "text/plain": [
       "[m == 0,\n",
       " a == 12,\n",
       " mu_0 == 1,\n",
       " epsilon_0 == 6.09102400000000,\n",
       " mu_1 == 1,\n",
       " epsilon_1 == 2.78890000000000]"
      ]
     },
     "execution_count": 206,
     "metadata": {},
     "output_type": "execute_result"
    }
   ],
   "source": [
    "digit_values"
   ]
  },
  {
   "cell_type": "code",
   "execution_count": 207,
   "metadata": {},
   "outputs": [
    {
     "data": {
      "image/png": "[encoded data removed]",
      "text/plain": [
       "Graphics object consisting of 26 graphics primitives"
      ]
     },
     "metadata": {},
     "output_type": "display_data"
    }
   ],
   "source": [
    "p = sage.plot.graphics.Graphics()\n",
    "\n",
    "for i in range(n_layers):\n",
    "    p += plot ([E_rho_sol[i](rh,ph,z).subs(rh == rho) for rho in [0..12]],(z, i*h_sol, (i+1)*h_sol))\n",
    "p.show ()"
   ]
  },
  {
   "cell_type": "code",
   "execution_count": 208,
   "metadata": {},
   "outputs": [
    {
     "data": {
      "image/png": "[encoded data removed]",
      "text/plain": [
       "Graphics object consisting of 26 graphics primitives"
      ]
     },
     "metadata": {},
     "output_type": "display_data"
    }
   ],
   "source": [
    "p = sage.plot.graphics.Graphics()\n",
    "\n",
    "for i in range(n_layers):\n",
    "    p += plot ([E_phi_sol[i](rh,ph,z).subs(rh == rho) for rho in [0..12]],(z, i*h_sol, (i+1)*h_sol))\n",
    "p.show ()"
   ]
  },
  {
   "cell_type": "code",
   "execution_count": 209,
   "metadata": {},
   "outputs": [
    {
     "data": {
      "image/png": "[encoded data removed]",
      "text/plain": [
       "Graphics object consisting of 26 graphics primitives"
      ]
     },
     "metadata": {},
     "output_type": "display_data"
    }
   ],
   "source": [
    "p = sage.plot.graphics.Graphics()\n",
    "\n",
    "for i in range(n_layers):\n",
    "    p += plot ([E_z_sol[i](rh,ph,z).subs(rh == rho) for rho in [0..12]],(z, i*h_sol, (i+1)*h_sol))\n",
    "p.show ()"
   ]
  },
  {
   "cell_type": "code",
   "execution_count": 210,
   "metadata": {},
   "outputs": [
    {
     "data": {
      "image/png": "[encoded data removed]",
      "text/plain": [
       "Graphics object consisting of 26 graphics primitives"
      ]
     },
     "metadata": {},
     "output_type": "display_data"
    }
   ],
   "source": [
    "p = sage.plot.graphics.Graphics()\n",
    "\n",
    "for i in range(n_layers):\n",
    "    p += plot ([epsilon_d[i]*E_z_sol[i](rh,ph,z).subs(rh == rho) for rho in [0..12]],(z, i*h_sol, (i+1)*h_sol))\n",
    "p.show ()"
   ]
  },
  {
   "cell_type": "code",
   "execution_count": 211,
   "metadata": {},
   "outputs": [
    {
     "data": {
      "image/png": "[encoded data removed]",
      "text/plain": [
       "Graphics object consisting of 26 graphics primitives"
      ]
     },
     "metadata": {},
     "output_type": "display_data"
    }
   ],
   "source": [
    "p = sage.plot.graphics.Graphics()\n",
    "\n",
    "for i in range(n_layers):\n",
    "    p += plot ([H_rho_sol[i](rh,ph,z).subs(rh == rho).imag_part() for rho in [0..12]],(z, i*h_sol, (i+1)*h_sol))\n",
    "p.show ()"
   ]
  },
  {
   "cell_type": "code",
   "execution_count": 212,
   "metadata": {},
   "outputs": [
    {
     "data": {
      "image/png": "[encoded data removed]",
      "text/plain": [
       "Graphics object consisting of 26 graphics primitives"
      ]
     },
     "metadata": {},
     "output_type": "display_data"
    }
   ],
   "source": [
    "p = sage.plot.graphics.Graphics()\n",
    "\n",
    "for i in range(n_layers):\n",
    "    p += plot ([H_phi_sol[i](rh,ph,z).subs(rh == rho).imag_part() for rho in [0..12]],(z, i*h_sol, (i+1)*h_sol))\n",
    "p.show ()"
   ]
  },
  {
   "cell_type": "code",
   "execution_count": null,
   "metadata": {},
   "outputs": [],
   "source": []
  },
  {
   "cell_type": "code",
   "execution_count": 213,
   "metadata": {},
   "outputs": [],
   "source": [
    "# E x H = (-E_z(rh, ph, z)*H_phi(rh, ph, z) + E_phi(rh, ph, z)*H_z(rh, ph, z)) e_rh \n",
    "#       + ( E_z(rh, ph, z)*H_rho(rh, ph, z) - E_rho(rh, ph, z)*H_z(rh, ph, z)) e_ph\n",
    "#       + (E_rho(rh, ph, z)*H_phi(rh, ph, z) - E_phi(rh, ph, z)*H_rho(rh, ph, z)) e_z"
   ]
  },
  {
   "cell_type": "code",
   "execution_count": 214,
   "metadata": {},
   "outputs": [],
   "source": [
    "# Abraham force\n",
    "# (epsilon * mu - 1) / (4 * pi * c) * ([E x H]).diff(t)\n",
    "# (epsilon * mu - 1) / (4 * pi * c) * ([E.diff(t) x H] + [E x H.diff(t)])\n",
    "# ([E x H])_z = E_rh * H_ph - E_ph * H_rh\n",
    "# ([E.diff(t) x H])_z = E_rh.diff(t) * H_ph - E_ph.diff(t) * H_rh\n",
    "# ([E x H.diff(t)])_z = E_rh * H_ph.diff(t) - E_ph * H_rh.diff(t)\n",
    "# f_z = (epsilon * mu - 1) / (4 * pi * c) * (\n",
    "#                      (E_rh.diff(t) * H_ph - E_ph.diff(t) * H_rh) +\n",
    "#                      (E_rh * H_ph.diff(t) - E_ph * H_rh.diff(t)) )\n",
    "# E_rh.diff(t) = -I * omega * E_rh\n",
    "# E_ph.diff(t) = -I * omega * E_ph\n",
    "# H_ph.diff(t) = -I * omega * H_ph\n",
    "# H_rh.diff(t) = -I * omega * H_rh\n",
    "# f_z = (epsilon * mu - 1) / (4 * pi * c) * (\n",
    "#                      -I * omega * (E_rh * H_ph - E_ph * H_rh) +\n",
    "#                      -I * omega * (E_rh * H_ph - E_ph * H_rh) )\n",
    "# f_z = -I * omega * (epsilon * mu - 1) / (2 * pi * c) * (E_rh * H_ph - E_ph * H_rh)"
   ]
  },
  {
   "cell_type": "code",
   "execution_count": 215,
   "metadata": {},
   "outputs": [],
   "source": [
    "Abraham_f_z = []\n",
    "for i in range(n_layers):\n",
    "    exec(preparse(\"Abraham_f_z += [lambda rh,ph,z,  i=i: \" + str(\n",
    "        -I * omega / (2 * pi * c) * (epsilon[i] * mu[i] - 1) \n",
    "        * (  E_rho[i](rh, ph, z) * H_phi[i](rh, ph, z) \n",
    "           - E_phi[i](rh, ph, z) * H_rho[i](rh, ph, z))\n",
    "    ) + \"]\"))"
   ]
  },
  {
   "cell_type": "code",
   "execution_count": 216,
   "metadata": {},
   "outputs": [
    {
     "data": {
      "text/latex": [
       "$$-\\frac{{\\left(-\\frac{i \\, {\\left(\\frac{i \\, A_{z_{0}} k_{0}^{2} {\\left(J_{m + 1}(\\kappa \\rho) - J_{m - 1}(\\kappa \\rho)\\right)} \\cos\\left(k_{0} z\\right) \\sin\\left(m \\varphi + \\psi_{m}\\right)}{\\kappa} + i \\, A_{z_{0}} \\kappa {\\left(J_{m + 1}(\\kappa \\rho) - J_{m - 1}(\\kappa \\rho)\\right)} \\cos\\left(k_{0} z\\right) \\sin\\left(m \\varphi + \\psi_{m}\\right)\\right)} A_{z_{0}} c k_{0} {\\left(J_{m + 1}(\\kappa \\rho) - J_{m - 1}(\\kappa \\rho)\\right)} \\sin\\left(m \\varphi + \\psi_{m}\\right) \\sin\\left(k_{0} z\\right)}{\\kappa \\mu_{0} \\omega} + \\frac{i \\, {\\left(-\\frac{4 i \\, A_{z_{0}} m J_{m}(\\kappa \\rho) \\cos\\left(m \\varphi + \\psi_{m}\\right) \\cos\\left(k_{0} z\\right)}{\\rho} - \\frac{4 i \\, A_{z_{0}} k_{0}^{2} m J_{m}(\\kappa \\rho) \\cos\\left(m \\varphi + \\psi_{m}\\right) \\cos\\left(k_{0} z\\right)}{\\kappa^{2} \\rho}\\right)} A_{z_{0}} c k_{0} m J_{m}(\\kappa \\rho) \\cos\\left(m \\varphi + \\psi_{m}\\right) \\sin\\left(k_{0} z\\right)}{\\kappa^{2} \\mu_{0} \\omega \\rho}\\right)} {\\left(\\epsilon_{0} \\mu_{0} - 1\\right)} \\omega}{8 \\, \\pi c}$$"
      ],
      "text/plain": [
       "<IPython.core.display.Math object>"
      ]
     },
     "metadata": {},
     "output_type": "display_data"
    }
   ],
   "source": [
    "display(Math(latex(Abraham_f_z[0](rh, ph, z))))"
   ]
  },
  {
   "cell_type": "code",
   "execution_count": 217,
   "metadata": {},
   "outputs": [
    {
     "data": {
      "text/latex": [
       "$$-\\frac{{\\left(\\frac{i \\, {\\left({\\left(i \\, A_{z_{1}} \\cos\\left(k_{1} z\\right) + \\frac{i \\, A_{z_{1}} \\sin\\left(2 \\, h k_{1}\\right) \\sin\\left(k_{1} z\\right)}{\\cos\\left(2 \\, h k_{1}\\right)}\\right)} \\kappa {\\left(J_{m + 1}(\\kappa \\rho) - J_{m - 1}(\\kappa \\rho)\\right)} \\sin\\left(m \\varphi + \\psi_{m}\\right) + \\frac{{\\left(i \\, A_{z_{1}} k_{1} \\cos\\left(k_{1} z\\right) + \\frac{i \\, A_{z_{1}} k_{1} \\sin\\left(2 \\, h k_{1}\\right) \\sin\\left(k_{1} z\\right)}{\\cos\\left(2 \\, h k_{1}\\right)}\\right)} k_{1} {\\left(J_{m + 1}(\\kappa \\rho) - J_{m - 1}(\\kappa \\rho)\\right)} \\sin\\left(m \\varphi + \\psi_{m}\\right)}{\\kappa}\\right)} {\\left(\\frac{A_{z_{1}} \\cos\\left(k_{1} z\\right) \\sin\\left(2 \\, h k_{1}\\right)}{\\cos\\left(2 \\, h k_{1}\\right)} - A_{z_{1}} \\sin\\left(k_{1} z\\right)\\right)} c k_{1} {\\left(J_{m + 1}(\\kappa \\rho) - J_{m - 1}(\\kappa \\rho)\\right)} \\sin\\left(m \\varphi + \\psi_{m}\\right)}{\\kappa \\mu_{1} \\omega} - \\frac{4 i \\, {\\left(\\frac{{\\left(-i \\, A_{z_{1}} \\cos\\left(k_{1} z\\right) - \\frac{i \\, A_{z_{1}} \\sin\\left(2 \\, h k_{1}\\right) \\sin\\left(k_{1} z\\right)}{\\cos\\left(2 \\, h k_{1}\\right)}\\right)} m J_{m}(\\kappa \\rho) \\cos\\left(m \\varphi + \\psi_{m}\\right)}{\\rho} - \\frac{{\\left(i \\, A_{z_{1}} k_{1} \\cos\\left(k_{1} z\\right) + \\frac{i \\, A_{z_{1}} k_{1} \\sin\\left(2 \\, h k_{1}\\right) \\sin\\left(k_{1} z\\right)}{\\cos\\left(2 \\, h k_{1}\\right)}\\right)} k_{1} m J_{m}(\\kappa \\rho) \\cos\\left(m \\varphi + \\psi_{m}\\right)}{\\kappa^{2} \\rho}\\right)} {\\left(\\frac{A_{z_{1}} \\cos\\left(k_{1} z\\right) \\sin\\left(2 \\, h k_{1}\\right)}{\\cos\\left(2 \\, h k_{1}\\right)} - A_{z_{1}} \\sin\\left(k_{1} z\\right)\\right)} c k_{1} m J_{m}(\\kappa \\rho) \\cos\\left(m \\varphi + \\psi_{m}\\right)}{\\kappa^{2} \\mu_{1} \\omega \\rho}\\right)} {\\left(\\epsilon_{1} \\mu_{1} - 1\\right)} \\omega}{8 \\, \\pi c}$$"
      ],
      "text/plain": [
       "<IPython.core.display.Math object>"
      ]
     },
     "metadata": {},
     "output_type": "display_data"
    }
   ],
   "source": [
    "display(Math(latex(Abraham_f_z[1](rh, ph, z))))"
   ]
  },
  {
   "cell_type": "code",
   "execution_count": 218,
   "metadata": {},
   "outputs": [],
   "source": [
    "Abraham_f_z_s = []\n",
    "for i in range(n_layers):\n",
    "    exec(preparse(\"Abraham_f_z_s += [lambda rh,ph,z,  i=i:\" + str(\n",
    "        -I * omega / (2 * pi.n() * c) * (epsilon[i] * mu[i] - 1)\n",
    "        * (  E_rho_s[i](rh, ph, z) * H_phi_s[i](rh, ph, z) \n",
    "           - E_phi_s[i](rh, ph, z) * H_rho_s[i](rh, ph, z))\n",
    "    ) + \"]\"))"
   ]
  },
  {
   "cell_type": "code",
   "execution_count": 219,
   "metadata": {},
   "outputs": [
    {
     "data": {
      "text/latex": [
       "$$\\frac{{\\left(\\frac{0.0397887357729738i \\, {\\left(i \\, k_{0}^{2} + i \\, \\kappa^{2}\\right)} A_{z_{0}}^{2} c k_{0} {\\left(J_{m + 1}(\\kappa \\rho) - J_{m - 1}(\\kappa \\rho)\\right)}^{2} \\cos\\left(k_{0} z\\right) \\sin\\left(m \\varphi + \\psi_{m}\\right)^{2} \\sin\\left(k_{0} z\\right)}{\\kappa^{2} \\mu_{0} \\omega} + \\frac{0.0397887357729738i \\, {\\left(4 i \\, k_{0}^{2} + 4 i \\, \\kappa^{2}\\right)} A_{z_{0}}^{2} c k_{0} m^{2} J_{m}(\\kappa \\rho)^{2} \\cos\\left(m \\varphi + \\psi_{m}\\right)^{2} \\cos\\left(k_{0} z\\right) \\sin\\left(k_{0} z\\right)}{\\kappa^{4} \\mu_{0} \\omega \\rho^{2}}\\right)} {\\left(\\epsilon_{0} \\mu_{0} - 1\\right)} \\omega}{c}$$"
      ],
      "text/plain": [
       "<IPython.core.display.Math object>"
      ]
     },
     "metadata": {},
     "output_type": "display_data"
    }
   ],
   "source": [
    "display(Math(latex(Abraham_f_z_s[0](rh, ph, z))))"
   ]
  },
  {
   "cell_type": "code",
   "execution_count": 220,
   "metadata": {},
   "outputs": [
    {
     "data": {
      "text/latex": [
       "$$\\frac{{\\left(\\frac{0.0397887357729738 \\, {\\left(k_{0}^{2} + \\kappa^{2}\\right)}^{2} {\\left(\\cos\\left(2 \\, h k_{1}\\right) \\cos\\left(k_{1} z\\right) + \\sin\\left(2 \\, h k_{1}\\right) \\sin\\left(k_{1} z\\right)\\right)} {\\left(\\cos\\left(k_{1} z\\right) \\sin\\left(2 \\, h k_{1}\\right) - \\cos\\left(2 \\, h k_{1}\\right) \\sin\\left(k_{1} z\\right)\\right)} {\\left(2 \\, \\sin\\left(h k_{1}\\right)^{2} - 1\\right)}^{2} A_{z_{0}}^{2} c k_{1} \\mu_{1} {\\left(J_{m + 1}(\\kappa \\rho) - J_{m - 1}(\\kappa \\rho)\\right)}^{2} \\cos\\left(h k_{0}\\right)^{2} \\sin\\left(m \\varphi + \\psi_{m}\\right)^{2}}{{\\left(k_{1}^{2} + \\kappa^{2}\\right)} \\kappa^{2} \\mu_{0}^{2} \\omega \\cos\\left(2 \\, h k_{1}\\right)^{2} \\cos\\left(h k_{1}\\right)^{2}} + \\frac{0.159154943091895 \\, {\\left(k_{0}^{2} + \\kappa^{2}\\right)}^{2} {\\left(\\cos\\left(2 \\, h k_{1}\\right) \\cos\\left(k_{1} z\\right) + \\sin\\left(2 \\, h k_{1}\\right) \\sin\\left(k_{1} z\\right)\\right)} {\\left(\\cos\\left(k_{1} z\\right) \\sin\\left(2 \\, h k_{1}\\right) - \\cos\\left(2 \\, h k_{1}\\right) \\sin\\left(k_{1} z\\right)\\right)} {\\left(2 \\, \\sin\\left(h k_{1}\\right)^{2} - 1\\right)}^{2} A_{z_{0}}^{2} c k_{1} m^{2} \\mu_{1} J_{m}(\\kappa \\rho)^{2} \\cos\\left(h k_{0}\\right)^{2} \\cos\\left(m \\varphi + \\psi_{m}\\right)^{2}}{{\\left(k_{1}^{2} + \\kappa^{2}\\right)} \\kappa^{4} \\mu_{0}^{2} \\omega \\rho^{2} \\cos\\left(2 \\, h k_{1}\\right)^{2} \\cos\\left(h k_{1}\\right)^{2}}\\right)} {\\left(\\epsilon_{1} \\mu_{1} - 1\\right)} \\omega}{c}$$"
      ],
      "text/plain": [
       "<IPython.core.display.Math object>"
      ]
     },
     "metadata": {},
     "output_type": "display_data"
    }
   ],
   "source": [
    "display(Math(latex(Abraham_f_z_s[1](rh, ph, z))))"
   ]
  },
  {
   "cell_type": "code",
   "execution_count": 221,
   "metadata": {},
   "outputs": [],
   "source": [
    "Abraham_f_z_sol = []\n",
    "for i in range(n_layers):\n",
    "    Abraham_f_z_sol += [lambda rh,ph,z,  i=i: Abraham_f_z_s[i](rh,ph,z)\n",
    "                  .subs(digit_values)\n",
    "                  .subs(h == h_sol)\n",
    "                  .subs(omega_value)\n",
    "                  .subs(kappa == kappa_d1)\n",
    "                  .subs(c_value)\n",
    "                  .subs(k_values_d)\n",
    "                  .subs(digit_values)\n",
    "                  .subs(A_z[0] == 1)\n",
    "                  .subs(psi_m == pi/2)\n",
    "                 ]"
   ]
  },
  {
   "cell_type": "code",
   "execution_count": 222,
   "metadata": {},
   "outputs": [
    {
     "data": {
      "text/plain": [
       "[-7.45048346975730e16*(bessel_J(1, 0.20040212980798106*rho) - bessel_J(-1, 0.20040212980798106*rho))^2*cos(245362.362944843*z)*sin(245362.362944843*z),\n",
       " -7.45048346975730e16*(bessel_J(1, 0.20040212980798106*rho) - bessel_J(-1, 0.20040212980798106*rho))^2*cos(245362.362944843*z)*sin(245362.362944843*z),\n",
       " -7.45048346975730e16*(bessel_J(1, 0.20040212980798106*rho) - bessel_J(-1, 0.20040212980798106*rho))^2*cos(245362.362944843*z)*sin(245362.362944843*z),\n",
       " -7.45048346975730e16*(bessel_J(1, 0.20040212980798106*rho) - bessel_J(-1, 0.20040212980798106*rho))^2*cos(245362.362944843*z)*sin(245362.362944843*z),\n",
       " -7.45048346975730e16*(bessel_J(1, 0.20040212980798106*rho) - bessel_J(-1, 0.20040212980798106*rho))^2*cos(245362.362944843*z)*sin(245362.362944843*z),\n",
       " -7.45048346975730e16*(bessel_J(1, 0.20040212980798106*rho) - bessel_J(-1, 0.20040212980798106*rho))^2*cos(245362.362944843*z)*sin(245362.362944843*z),\n",
       " -7.45048346975730e16*(bessel_J(1, 0.20040212980798106*rho) - bessel_J(-1, 0.20040212980798106*rho))^2*cos(245362.362944843*z)*sin(245362.362944843*z),\n",
       " -7.45048346975730e16*(bessel_J(1, 0.20040212980798106*rho) - bessel_J(-1, 0.20040212980798106*rho))^2*cos(245362.362944843*z)*sin(245362.362944843*z),\n",
       " -7.45048346975730e16*(bessel_J(1, 0.20040212980798106*rho) - bessel_J(-1, 0.20040212980798106*rho))^2*cos(245362.362944843*z)*sin(245362.362944843*z),\n",
       " -7.45048346975730e16*(bessel_J(1, 0.20040212980798106*rho) - bessel_J(-1, 0.20040212980798106*rho))^2*cos(245362.362944843*z)*sin(245362.362944843*z),\n",
       " -7.45048346975730e16*(bessel_J(1, 0.20040212980798106*rho) - bessel_J(-1, 0.20040212980798106*rho))^2*cos(245362.362944843*z)*sin(245362.362944843*z),\n",
       " -7.45048346975730e16*(bessel_J(1, 0.20040212980798106*rho) - bessel_J(-1, 0.20040212980798106*rho))^2*cos(245362.362944843*z)*sin(245362.362944843*z),\n",
       " -7.45048346975730e16*(bessel_J(1, 0.20040212980798106*rho) - bessel_J(-1, 0.20040212980798106*rho))^2*cos(245362.362944843*z)*sin(245362.362944843*z)]"
      ]
     },
     "execution_count": 222,
     "metadata": {},
     "output_type": "execute_result"
    }
   ],
   "source": [
    "[Abraham_f_z_sol [0](rho,ph,z) for rho in [0..12]]"
   ]
  },
  {
   "cell_type": "code",
   "execution_count": 223,
   "metadata": {},
   "outputs": [
    {
     "data": {
      "text/plain": [
       "[-2.96633259831550e16*(bessel_J(1, 0.20040212980798106*rho) - bessel_J(-1, 0.20040212980798106*rho))^2*(0.873955127673043*cos(166027.206692757*z) + 0.486006620133919*sin(166027.206692757*z))*(0.486006620133919*cos(166027.206692757*z) - 0.873955127673043*sin(166027.206692757*z)),\n",
       " -2.96633259831550e16*(bessel_J(1, 0.20040212980798106*rho) - bessel_J(-1, 0.20040212980798106*rho))^2*(0.873955127673043*cos(166027.206692757*z) + 0.486006620133919*sin(166027.206692757*z))*(0.486006620133919*cos(166027.206692757*z) - 0.873955127673043*sin(166027.206692757*z)),\n",
       " -2.96633259831550e16*(bessel_J(1, 0.20040212980798106*rho) - bessel_J(-1, 0.20040212980798106*rho))^2*(0.873955127673043*cos(166027.206692757*z) + 0.486006620133919*sin(166027.206692757*z))*(0.486006620133919*cos(166027.206692757*z) - 0.873955127673043*sin(166027.206692757*z)),\n",
       " -2.96633259831550e16*(bessel_J(1, 0.20040212980798106*rho) - bessel_J(-1, 0.20040212980798106*rho))^2*(0.873955127673043*cos(166027.206692757*z) + 0.486006620133919*sin(166027.206692757*z))*(0.486006620133919*cos(166027.206692757*z) - 0.873955127673043*sin(166027.206692757*z)),\n",
       " -2.96633259831550e16*(bessel_J(1, 0.20040212980798106*rho) - bessel_J(-1, 0.20040212980798106*rho))^2*(0.873955127673043*cos(166027.206692757*z) + 0.486006620133919*sin(166027.206692757*z))*(0.486006620133919*cos(166027.206692757*z) - 0.873955127673043*sin(166027.206692757*z)),\n",
       " -2.96633259831550e16*(bessel_J(1, 0.20040212980798106*rho) - bessel_J(-1, 0.20040212980798106*rho))^2*(0.873955127673043*cos(166027.206692757*z) + 0.486006620133919*sin(166027.206692757*z))*(0.486006620133919*cos(166027.206692757*z) - 0.873955127673043*sin(166027.206692757*z)),\n",
       " -2.96633259831550e16*(bessel_J(1, 0.20040212980798106*rho) - bessel_J(-1, 0.20040212980798106*rho))^2*(0.873955127673043*cos(166027.206692757*z) + 0.486006620133919*sin(166027.206692757*z))*(0.486006620133919*cos(166027.206692757*z) - 0.873955127673043*sin(166027.206692757*z)),\n",
       " -2.96633259831550e16*(bessel_J(1, 0.20040212980798106*rho) - bessel_J(-1, 0.20040212980798106*rho))^2*(0.873955127673043*cos(166027.206692757*z) + 0.486006620133919*sin(166027.206692757*z))*(0.486006620133919*cos(166027.206692757*z) - 0.873955127673043*sin(166027.206692757*z)),\n",
       " -2.96633259831550e16*(bessel_J(1, 0.20040212980798106*rho) - bessel_J(-1, 0.20040212980798106*rho))^2*(0.873955127673043*cos(166027.206692757*z) + 0.486006620133919*sin(166027.206692757*z))*(0.486006620133919*cos(166027.206692757*z) - 0.873955127673043*sin(166027.206692757*z)),\n",
       " -2.96633259831550e16*(bessel_J(1, 0.20040212980798106*rho) - bessel_J(-1, 0.20040212980798106*rho))^2*(0.873955127673043*cos(166027.206692757*z) + 0.486006620133919*sin(166027.206692757*z))*(0.486006620133919*cos(166027.206692757*z) - 0.873955127673043*sin(166027.206692757*z)),\n",
       " -2.96633259831550e16*(bessel_J(1, 0.20040212980798106*rho) - bessel_J(-1, 0.20040212980798106*rho))^2*(0.873955127673043*cos(166027.206692757*z) + 0.486006620133919*sin(166027.206692757*z))*(0.486006620133919*cos(166027.206692757*z) - 0.873955127673043*sin(166027.206692757*z)),\n",
       " -2.96633259831550e16*(bessel_J(1, 0.20040212980798106*rho) - bessel_J(-1, 0.20040212980798106*rho))^2*(0.873955127673043*cos(166027.206692757*z) + 0.486006620133919*sin(166027.206692757*z))*(0.486006620133919*cos(166027.206692757*z) - 0.873955127673043*sin(166027.206692757*z)),\n",
       " -2.96633259831550e16*(bessel_J(1, 0.20040212980798106*rho) - bessel_J(-1, 0.20040212980798106*rho))^2*(0.873955127673043*cos(166027.206692757*z) + 0.486006620133919*sin(166027.206692757*z))*(0.486006620133919*cos(166027.206692757*z) - 0.873955127673043*sin(166027.206692757*z))]"
      ]
     },
     "execution_count": 223,
     "metadata": {},
     "output_type": "execute_result"
    }
   ],
   "source": [
    "[Abraham_f_z_sol [1](rho,ph,z) for rho in [0..12]]"
   ]
  },
  {
   "cell_type": "code",
   "execution_count": 224,
   "metadata": {},
   "outputs": [
    {
     "data": {
      "image/png": "[encoded data removed]",
      "text/plain": [
       "Graphics object consisting of 26 graphics primitives"
      ]
     },
     "metadata": {},
     "output_type": "display_data"
    }
   ],
   "source": [
    "p = sage.plot.graphics.Graphics()\n",
    "\n",
    "for i in range(n_layers):\n",
    "    p += plot ([Abraham_f_z_sol[i](rh,ph,z).subs(rh == rho) for rho in [0..12]],(z, i*h_sol, (i+1)*h_sol))\n",
    "p.show ()"
   ]
  },
  {
   "cell_type": "code",
   "execution_count": 225,
   "metadata": {},
   "outputs": [],
   "source": [
    "Abraham_f_z_sol_rh = []\n",
    "for i in range(n_layers):\n",
    "    Abraham_f_z_sol_rh += [lambda rh,ph,z,  i=i: Abraham_f_z_sol[i](rh,ph,z) * rh]"
   ]
  },
  {
   "cell_type": "code",
   "execution_count": 226,
   "metadata": {},
   "outputs": [
    {
     "data": {
      "image/png": "[encoded data removed]",
      "text/plain": [
       "Graphics object consisting of 26 graphics primitives"
      ]
     },
     "metadata": {},
     "output_type": "display_data"
    }
   ],
   "source": [
    "p = sage.plot.graphics.Graphics()\n",
    "\n",
    "for i in range(n_layers):\n",
    "    p += plot ([Abraham_f_z_sol_rh[i](rh,ph,z).subs(rh == rho) for rho in [0..12]],(z, i*h_sol, (i+1)*h_sol))\n",
    "p.show ()"
   ]
  },
  {
   "cell_type": "code",
   "execution_count": 227,
   "metadata": {},
   "outputs": [],
   "source": [
    "def get_integrand_view(f):\n",
    "    return f(x)\n",
    "\n",
    "class my_dummy_integral:\n",
    "    f = None\n",
    "    a = None\n",
    "    b = None\n",
    "    def __init__(self, f, a, b):\n",
    "        print (\"my_dummy_integral \", f, a, b)\n",
    "        self.f = f\n",
    "        self.a = a\n",
    "        self.b = b\n",
    "\n",
    "def num_int(f, a, b):\n",
    "    from scipy import integrate\n",
    "\n",
    "    to_call_integration = True\n",
    "\n",
    "    if type(f) is my_dummy_integral:\n",
    "        to_call_integration = False\n",
    "\n",
    "    import inspect\n",
    "    stack = inspect.stack()\n",
    "    for frame in stack:\n",
    "        func_name = frame[3]\n",
    "        # print (\"func_name = \", func_name)\n",
    "        if ('get_integrand_view' == func_name):\n",
    "            to_call_integration = False\n",
    "            break;\n",
    "\n",
    "    if not to_call_integration:\n",
    "        return my_dummy_integral(f,a,b)\n",
    "\n",
    "    try:\n",
    "        #try:\n",
    "        #    print (\"integrand = \", get_integrand_view(f))\n",
    "        #except Exception as ex2:\n",
    "        #    print (\"Exception ex2 = \", ex2)\n",
    "        #print (\"a = \", a)\n",
    "        #print (\"b = \", b)\n",
    "        \n",
    "        integral = integrate.quad(f, a, b)\n",
    "\n",
    "        result = integral[0]\n",
    "        #print (\"result = \", result)\n",
    "        return result\n",
    "\n",
    "    except Exception as ex:\n",
    "\n",
    "        print (\"Exception ex = \", str(ex))\n",
    "        print (\"f = \", f)\n",
    "        try:\n",
    "            print (\"integrand = \", get_integrand_view(f))\n",
    "        except Exception as ex2:\n",
    "            print (\"Exception ex2 = \", ex2)\n",
    "        print (\"a = \", a)\n",
    "        print (\"b = \", b)\n",
    "\n",
    "        raise ex\n",
    "\n",
    "        integral = numerical_integral(f, a, b)\n",
    "\n",
    "        print (\"integral = \", integral)\n",
    "\n",
    "        result = integral[0]\n",
    "        print (\"result = \", result)\n",
    "        return result\n"
   ]
  },
  {
   "cell_type": "code",
   "execution_count": 228,
   "metadata": {},
   "outputs": [],
   "source": [
    "Abraham_f_z_sol_rh_int_ph = []\n",
    "for i in range(n_layers):\n",
    "    Abraham_f_z_sol_rh_int_ph += [lambda rho, z, i=i: \n",
    "                                  num_int(\n",
    "                                      lambda ph : Abraham_f_z_sol_rh[i](rh,ph,z).subs(rh == rho), \n",
    "                                      0, 2*pi)\n",
    "                                 ]"
   ]
  },
  {
   "cell_type": "code",
   "execution_count": 229,
   "metadata": {
    "scrolled": true
   },
   "outputs": [
    {
     "data": {
      "text/plain": [
       "[0.0,\n",
       " 6104923631015572.0,\n",
       " 4.738423026228102e+16,\n",
       " 1.5200721241244208e+17,\n",
       " 3.3534949512252646e+17,\n",
       " 5.964348484590675e+17,\n",
       " 9.172491303074949e+17,\n",
       " 1.2650873795164398e+18,\n",
       " 1.597584587807053e+18,\n",
       " 1.869624349920874e+18,\n",
       " 2.0409928417431465e+18,\n",
       " 2.08350301606755e+18,\n",
       " 1.986380384447679e+18]"
      ]
     },
     "execution_count": 229,
     "metadata": {},
     "output_type": "execute_result"
    }
   ],
   "source": [
    "[Abraham_f_z_sol_rh_int_ph [0](rho,h_sol/2) for rho in [0..12]]"
   ]
  },
  {
   "cell_type": "code",
   "execution_count": 230,
   "metadata": {},
   "outputs": [],
   "source": [
    "Abraham_f_z_sol_rh_int_ph_int_rh = []\n",
    "for i in range(n_layers):\n",
    "    Abraham_f_z_sol_rh_int_ph_int_rh += [lambda rh1, rh2, zz, i=i: \n",
    "                                         num_int(\n",
    "                                             lambda rh : Abraham_f_z_sol_rh_int_ph[i](rh,zz),\n",
    "                                             rh1, rh2)\n",
    "                                        ]"
   ]
  },
  {
   "cell_type": "code",
   "execution_count": 231,
   "metadata": {},
   "outputs": [
    {
     "data": {
      "text/plain": [
       "1.1918282306686073e+19"
      ]
     },
     "execution_count": 231,
     "metadata": {},
     "output_type": "execute_result"
    }
   ],
   "source": [
    "Abraham_f_z_sol_rh_int_ph_int_rh [0](0,12,h_sol/2)"
   ]
  },
  {
   "cell_type": "code",
   "execution_count": 232,
   "metadata": {},
   "outputs": [
    {
     "data": {
      "text/plain": [
       "[0.0,\n",
       " -1.2665935284376592e+19,\n",
       " -1.8160952484249686e+19,\n",
       " -1.3374004738213542e+19,\n",
       " -1.0152598618234856e+18,\n",
       " 1.1918282306686073e+19,\n",
       " 1.8104195957414216e+19,\n",
       " 1.4040277812731711e+19,\n",
       " 2.0273468381035215e+18,\n",
       " -1.113338236685748e+19,\n",
       " -1.7990860278985107e+19]"
      ]
     },
     "execution_count": 232,
     "metadata": {},
     "output_type": "execute_result"
    }
   ],
   "source": [
    "[Abraham_f_z_sol_rh_int_ph_int_rh [0](0,12, z) for z in [\n",
    "    0,        1*h_sol/10, 2*h_sol/10, 3*h_sol/10, 4*h_sol/10, 5*h_sol/10, \n",
    "              6*h_sol/10, 7*h_sol/10, 8*h_sol/10, 9*h_sol/10, h_sol\n",
    "]]"
   ]
  },
  {
   "cell_type": "code",
   "execution_count": 233,
   "metadata": {},
   "outputs": [
    {
     "data": {
      "text/plain": [
       "[-6.321685251799943e+18,\n",
       " -7.232663000804229e+18,\n",
       " -6.217271474268283e+18,\n",
       " -3.5459531135370476e+18,\n",
       " 6.980509316302074e+16,\n",
       " 3.666971200835311e+18,\n",
       " 6.287465140207412e+18,\n",
       " 7.233336652711424e+18,\n",
       " 6.252659467194682e+18,\n",
       " 3.6066301027252705e+18,\n",
       " 0.0]"
      ]
     },
     "execution_count": 233,
     "metadata": {},
     "output_type": "execute_result"
    }
   ],
   "source": [
    "[Abraham_f_z_sol_rh_int_ph_int_rh [1](0,12, z) for z in [\n",
    "    h_sol,    11*h_sol/10, 12*h_sol/10, 13*h_sol/10, 14*h_sol/10, 15*h_sol/10, \n",
    "              16*h_sol/10, 17*h_sol/10, 18*h_sol/10, 19*h_sol/10, 2*h_sol\n",
    "]]"
   ]
  },
  {
   "cell_type": "code",
   "execution_count": 234,
   "metadata": {},
   "outputs": [],
   "source": [
    "Abraham_f_z_sol_rh_int_ph_int_rh_int_z = []\n",
    "for i in range(n_layers):\n",
    "    Abraham_f_z_sol_rh_int_ph_int_rh_int_z += [lambda rh1, rh2, z1, z2, i=i: \n",
    "                                         num_int(\n",
    "                                             lambda zz : Abraham_f_z_sol_rh_int_ph_int_rh[i](rh1, rh2, zz),\n",
    "                                             z1, z2)\n",
    "                                        ]"
   ]
  },
  {
   "cell_type": "code",
   "execution_count": 235,
   "metadata": {},
   "outputs": [],
   "source": [
    "Abraham_f_z_0 = Abraham_f_z_sol_rh_int_ph_int_rh_int_z [0](0,12, 0, h_sol)"
   ]
  },
  {
   "cell_type": "code",
   "execution_count": 236,
   "metadata": {},
   "outputs": [],
   "source": [
    "Abraham_f_z_1 = Abraham_f_z_sol_rh_int_ph_int_rh_int_z [1](0,12, h_sol, 2*h_sol)"
   ]
  },
  {
   "cell_type": "code",
   "execution_count": 237,
   "metadata": {},
   "outputs": [
    {
     "data": {
      "text/plain": [
       "-31864788906907.723"
      ]
     },
     "execution_count": 237,
     "metadata": {},
     "output_type": "execute_result"
    }
   ],
   "source": [
    "Abraham_f_z_0"
   ]
  },
  {
   "cell_type": "code",
   "execution_count": 238,
   "metadata": {},
   "outputs": [
    {
     "data": {
      "text/plain": [
       "11196750551402.02"
      ]
     },
     "execution_count": 238,
     "metadata": {},
     "output_type": "execute_result"
    }
   ],
   "source": [
    "Abraham_f_z_1"
   ]
  },
  {
   "cell_type": "code",
   "execution_count": 239,
   "metadata": {},
   "outputs": [
    {
     "data": {
      "text/plain": [
       "-20668038355505.703"
      ]
     },
     "execution_count": 239,
     "metadata": {},
     "output_type": "execute_result"
    }
   ],
   "source": [
    "Abraham_f_z_0 + Abraham_f_z_1"
   ]
  },
  {
   "cell_type": "code",
   "execution_count": null,
   "metadata": {},
   "outputs": [],
   "source": []
  },
  {
   "cell_type": "code",
   "execution_count": 240,
   "metadata": {},
   "outputs": [],
   "source": [
    "H2_8pi_rho_s = []\n",
    "for i in range(n_layers):\n",
    "    exec(preparse(\"H2_8pi_rho_s += [lambda rh,ph,z,  i=i:\" + str(\n",
    "        (  H_rho_s[i](rh, ph, z) * H_rho_s[i](rh, ph, z) ) / (8*pi)\n",
    "    ) + \"]\"))"
   ]
  },
  {
   "cell_type": "code",
   "execution_count": 241,
   "metadata": {},
   "outputs": [],
   "source": [
    "H2_8pi_phi_s = []\n",
    "for i in range(n_layers):\n",
    "    exec(preparse(\"H2_8pi_phi_s += [lambda rh,ph,z,  i=i:\" + str(\n",
    "        (  H_phi_s[i](rh, ph, z) * H_phi_s[i](rh, ph, z) ) / (8*pi)\n",
    "    ) + \"]\"))"
   ]
  },
  {
   "cell_type": "code",
   "execution_count": 242,
   "metadata": {},
   "outputs": [
    {
     "data": {
      "text/plain": [
       "-1/8*(k_0^2 + kappa^2)^2*A_z_0^2*c^2*m^2*bessel_J(m, kappa*rho)^2*cos(m*varphi + psi_m)^2*cos(k_0*z)^2/(pi*kappa^4*mu_0^2*omega^2*rho^2)"
      ]
     },
     "execution_count": 242,
     "metadata": {},
     "output_type": "execute_result"
    }
   ],
   "source": [
    "H2_8pi_rho_s[0](rh,ph,z)"
   ]
  },
  {
   "cell_type": "code",
   "execution_count": 243,
   "metadata": {},
   "outputs": [
    {
     "data": {
      "text/plain": [
       "-1/32*(k_0^2 + kappa^2)^2*A_z_0^2*c^2*(bessel_J(m + 1, kappa*rho) - bessel_J(m - 1, kappa*rho))^2*cos(k_0*z)^2*sin(m*varphi + psi_m)^2/(pi*kappa^2*mu_0^2*omega^2)"
      ]
     },
     "execution_count": 243,
     "metadata": {},
     "output_type": "execute_result"
    }
   ],
   "source": [
    "H2_8pi_phi_s[0](rh,ph,z)"
   ]
  },
  {
   "cell_type": "code",
   "execution_count": 244,
   "metadata": {},
   "outputs": [],
   "source": [
    "H2_8pi_rho_sol = []\n",
    "for i in range(n_layers):\n",
    "    H2_8pi_rho_sol += [lambda rh,ph,z,  i=i: H2_8pi_rho_s[i](rh,ph,z)\n",
    "                  .subs(digit_values)\n",
    "                  .subs(h == h_sol)\n",
    "                  .subs(omega_value)\n",
    "                  .subs(kappa == kappa_d1)\n",
    "                  .subs(c_value)\n",
    "                  .subs(k_values_d)\n",
    "                  .subs(digit_values)\n",
    "                  .subs(A_z[0] == 1)\n",
    "                  .subs(psi_m == pi/2)\n",
    "                 ]"
   ]
  },
  {
   "cell_type": "code",
   "execution_count": 245,
   "metadata": {},
   "outputs": [],
   "source": [
    "H2_8pi_phi_sol = []\n",
    "for i in range(n_layers):\n",
    "    H2_8pi_phi_sol += [lambda rh,ph,z,  i=i: H2_8pi_phi_s[i](rh,ph,z)\n",
    "                  .subs(digit_values)\n",
    "                  .subs(h == h_sol)\n",
    "                  .subs(omega_value)\n",
    "                  .subs(kappa == kappa_d1)\n",
    "                  .subs(c_value)\n",
    "                  .subs(k_values_d)\n",
    "                  .subs(digit_values)\n",
    "                  .subs(A_z[0] == 1)\n",
    "                  .subs(psi_m == pi/2)\n",
    "                 ]"
   ]
  },
  {
   "cell_type": "code",
   "execution_count": 246,
   "metadata": {},
   "outputs": [
    {
     "data": {
      "text/plain": [
       "0"
      ]
     },
     "execution_count": 246,
     "metadata": {},
     "output_type": "execute_result"
    }
   ],
   "source": [
    "H2_8pi_rho_sol[0](rh,ph,z)"
   ]
  },
  {
   "cell_type": "code",
   "execution_count": 247,
   "metadata": {},
   "outputs": [
    {
     "data": {
      "text/plain": [
       "-2.81612094804024e12*(bessel_J(1, 0.20040212980798106*rho) - bessel_J(-1, 0.20040212980798106*rho))^2*cos(245362.362944843*z)^2/pi^3"
      ]
     },
     "execution_count": 247,
     "metadata": {},
     "output_type": "execute_result"
    }
   ],
   "source": [
    "H2_8pi_phi_sol[0](rh,ph,z)"
   ]
  },
  {
   "cell_type": "code",
   "execution_count": 248,
   "metadata": {},
   "outputs": [],
   "source": [
    "H2_8pi_rho_sol_rh = []\n",
    "for i in range(n_layers):\n",
    "    H2_8pi_rho_sol_rh += [lambda rh,ph,z,  i=i: H2_8pi_rho_sol[i](rh,ph,z) * rh]"
   ]
  },
  {
   "cell_type": "code",
   "execution_count": 249,
   "metadata": {},
   "outputs": [],
   "source": [
    "H2_8pi_phi_sol_rh = []\n",
    "for i in range(n_layers):\n",
    "    H2_8pi_phi_sol_rh += [lambda rh,ph,z,  i=i: H2_8pi_phi_sol[i](rh,ph,z) * rh]"
   ]
  },
  {
   "cell_type": "code",
   "execution_count": 250,
   "metadata": {},
   "outputs": [
    {
     "data": {
      "text/plain": [
       "-2.81612094804024e12*rho*(bessel_J(1, 0.20040212980798106*rho) - bessel_J(-1, 0.20040212980798106*rho))^2*cos(245362.362944843*z)^2/pi^3"
      ]
     },
     "execution_count": 250,
     "metadata": {},
     "output_type": "execute_result"
    }
   ],
   "source": [
    "H2_8pi_phi_sol_rh[0](rh,ph,z)"
   ]
  },
  {
   "cell_type": "code",
   "execution_count": 251,
   "metadata": {},
   "outputs": [],
   "source": [
    "H2_8pi_rho_sol_rh_int_ph = []\n",
    "for i in range(n_layers):\n",
    "    H2_8pi_rho_sol_rh_int_ph += [lambda rho, z, i=i: \n",
    "                                  num_int(\n",
    "                                      lambda ph : H2_8pi_rho_sol_rh[i](rh,ph,z).subs(rh == rho), \n",
    "                                      0, 2*pi)\n",
    "                                 ]"
   ]
  },
  {
   "cell_type": "code",
   "execution_count": 252,
   "metadata": {
    "scrolled": true
   },
   "outputs": [
    {
     "data": {
      "text/plain": [
       "[0.0, 0.0, 0.0, 0.0, 0.0, 0.0, 0.0, 0.0, 0.0, 0.0, 0.0, 0.0, 0.0]"
      ]
     },
     "execution_count": 252,
     "metadata": {},
     "output_type": "execute_result"
    }
   ],
   "source": [
    "[H2_8pi_rho_sol_rh_int_ph [0](rho,0) for rho in [0..12]]"
   ]
  },
  {
   "cell_type": "code",
   "execution_count": 253,
   "metadata": {},
   "outputs": [
    {
     "data": {
      "text/plain": [
       "[0.0, 0.0, 0.0, 0.0, 0.0, 0.0, 0.0, 0.0, 0.0, 0.0, 0.0, 0.0, 0.0]"
      ]
     },
     "execution_count": 253,
     "metadata": {},
     "output_type": "execute_result"
    }
   ],
   "source": [
    "[H2_8pi_rho_sol_rh_int_ph [1](rho,2*h_sol) for rho in [0..12]]"
   ]
  },
  {
   "cell_type": "code",
   "execution_count": 254,
   "metadata": {},
   "outputs": [],
   "source": [
    "H2_8pi_phi_sol_rh_int_ph = []\n",
    "for i in range(n_layers):\n",
    "    H2_8pi_phi_sol_rh_int_ph += [lambda rho, z, i=i: \n",
    "                                  num_int(\n",
    "                                      lambda ph : H2_8pi_phi_sol_rh[i](rh,ph,z).subs(rh == rho), \n",
    "                                      0, 2*pi)\n",
    "                                 ]"
   ]
  },
  {
   "cell_type": "code",
   "execution_count": 255,
   "metadata": {
    "scrolled": true
   },
   "outputs": [
    {
     "data": {
      "text/plain": [
       "[0.0,\n",
       " -22689354355.828716,\n",
       " -176106640521.59937,\n",
       " -564944906033.8008,\n",
       " -1246348683090.323,\n",
       " -2216689748271.523,\n",
       " -3409017345342.345,\n",
       " -4701781312890.931,\n",
       " -5937529282431.79,\n",
       " -6948583135770.335,\n",
       " -7585485523316.277,\n",
       " -7743477411056.566,\n",
       " -7382514696699.518]"
      ]
     },
     "execution_count": 255,
     "metadata": {},
     "output_type": "execute_result"
    }
   ],
   "source": [
    "[H2_8pi_phi_sol_rh_int_ph [0](rho,0) for rho in [0..12]]"
   ]
  },
  {
   "cell_type": "code",
   "execution_count": 256,
   "metadata": {},
   "outputs": [
    {
     "data": {
      "text/plain": [
       "[0.0,\n",
       " -17395940874.364883,\n",
       " -135021061333.54008,\n",
       " -433143580399.54333,\n",
       " -955576243372.1266,\n",
       " -1699537289294.2664,\n",
       " -2613695535326.032,\n",
       " -3604858403660.685,\n",
       " -4552307073932.207,\n",
       " -5327482637663.391,\n",
       " -5815796060017.112,\n",
       " -5936928530102.287,\n",
       " -5660178211942.952]"
      ]
     },
     "execution_count": 256,
     "metadata": {},
     "output_type": "execute_result"
    }
   ],
   "source": [
    "[H2_8pi_phi_sol_rh_int_ph [1](rho,2*h_sol) for rho in [0..12]]"
   ]
  },
  {
   "cell_type": "code",
   "execution_count": 257,
   "metadata": {},
   "outputs": [],
   "source": [
    "H2_8pi_rho_sol_rh_int_ph_int_rh = []\n",
    "for i in range(n_layers):\n",
    "    H2_8pi_rho_sol_rh_int_ph_int_rh += [lambda rh1, rh2, zz, i=i: \n",
    "                                         num_int(\n",
    "                                             lambda rh : H2_8pi_rho_sol_rh_int_ph[i](rh,zz),\n",
    "                                             rh1, rh2)\n",
    "                                        ]"
   ]
  },
  {
   "cell_type": "code",
   "execution_count": 258,
   "metadata": {},
   "outputs": [],
   "source": [
    "H2_8pi_phi_sol_rh_int_ph_int_rh = []\n",
    "for i in range(n_layers):\n",
    "    H2_8pi_phi_sol_rh_int_ph_int_rh += [lambda rh1, rh2, zz, i=i: \n",
    "                                         num_int(\n",
    "                                             lambda rh : H2_8pi_phi_sol_rh_int_ph[i](rh,zz),\n",
    "                                             rh1, rh2)\n",
    "                                        ]"
   ]
  },
  {
   "cell_type": "code",
   "execution_count": 259,
   "metadata": {},
   "outputs": [
    {
     "data": {
      "text/plain": [
       "0.0"
      ]
     },
     "execution_count": 259,
     "metadata": {},
     "output_type": "execute_result"
    }
   ],
   "source": [
    "H2_8pi_rho_sol_rh_int_ph_int_rh[0](0, 12, 0)"
   ]
  },
  {
   "cell_type": "code",
   "execution_count": 260,
   "metadata": {},
   "outputs": [
    {
     "data": {
      "text/plain": [
       "-44295088180197.11"
      ]
     },
     "execution_count": 260,
     "metadata": {},
     "output_type": "execute_result"
    }
   ],
   "source": [
    "H2_8pi_phi_sol_rh_int_ph_int_rh[0](0, 12, 0)"
   ]
  },
  {
   "cell_type": "code",
   "execution_count": 261,
   "metadata": {},
   "outputs": [
    {
     "data": {
      "text/plain": [
       "0.0"
      ]
     },
     "execution_count": 261,
     "metadata": {},
     "output_type": "execute_result"
    }
   ],
   "source": [
    "H2_8pi_rho_sol_rh_int_ph_int_rh[1](0, 12, 2*h_sol)"
   ]
  },
  {
   "cell_type": "code",
   "execution_count": 262,
   "metadata": {},
   "outputs": [
    {
     "data": {
      "text/plain": [
       "-33961069271657.71"
      ]
     },
     "execution_count": 262,
     "metadata": {},
     "output_type": "execute_result"
    }
   ],
   "source": [
    "H2_8pi_phi_sol_rh_int_ph_int_rh[1](0, 12, 2*h_sol)"
   ]
  },
  {
   "cell_type": "code",
   "execution_count": 263,
   "metadata": {},
   "outputs": [],
   "source": [
    "surf_f_z = H2_8pi_rho_sol_rh_int_ph_int_rh[0](0, 12, 0) + H2_8pi_phi_sol_rh_int_ph_int_rh[0](0, 12, 0) \\\n",
    "    -H2_8pi_rho_sol_rh_int_ph_int_rh[1](0, 12, 2*h_sol) - H2_8pi_phi_sol_rh_int_ph_int_rh[1](0, 12, 2*h_sol)"
   ]
  },
  {
   "cell_type": "code",
   "execution_count": 264,
   "metadata": {},
   "outputs": [
    {
     "data": {
      "text/plain": [
       "-10334018908539.398"
      ]
     },
     "execution_count": 264,
     "metadata": {},
     "output_type": "execute_result"
    }
   ],
   "source": [
    "surf_f_z"
   ]
  },
  {
   "cell_type": "code",
   "execution_count": 265,
   "metadata": {},
   "outputs": [
    {
     "data": {
      "text/plain": [
       "-20668038355505.703"
      ]
     },
     "execution_count": 265,
     "metadata": {},
     "output_type": "execute_result"
    }
   ],
   "source": [
    "Abraham_f_z_0 + Abraham_f_z_1"
   ]
  },
  {
   "cell_type": "code",
   "execution_count": 266,
   "metadata": {},
   "outputs": [],
   "source": [
    "sum_f_z = surf_f_z + Abraham_f_z_0 + Abraham_f_z_1"
   ]
  },
  {
   "cell_type": "code",
   "execution_count": 267,
   "metadata": {},
   "outputs": [
    {
     "data": {
      "text/plain": [
       "-31002057264045.105"
      ]
     },
     "execution_count": 267,
     "metadata": {},
     "output_type": "execute_result"
    }
   ],
   "source": [
    "sum_f_z"
   ]
  },
  {
   "cell_type": "code",
   "execution_count": 268,
   "metadata": {},
   "outputs": [],
   "source": [
    "H2_8pi_phi_sol_rh_int_ph_int_rh_int_z = []\n",
    "for i in range(n_layers):\n",
    "    H2_8pi_phi_sol_rh_int_ph_int_rh_int_z += [lambda rh1, rh2, z1, z2, i=i: \n",
    "                                         num_int(\n",
    "                                             lambda zz : H2_8pi_phi_sol_rh_int_ph_int_rh[i](rh1, rh2, zz),\n",
    "                                             z1, z2)\n",
    "                                        ]"
   ]
  },
  {
   "cell_type": "code",
   "execution_count": 269,
   "metadata": {},
   "outputs": [],
   "source": [
    "H2_8pi_phi_0 = H2_8pi_phi_sol_rh_int_ph_int_rh_int_z [0](0,12, 0, h_sol)"
   ]
  },
  {
   "cell_type": "code",
   "execution_count": 270,
   "metadata": {},
   "outputs": [],
   "source": [
    "H2_8pi_phi_1 = H2_8pi_phi_sol_rh_int_ph_int_rh_int_z [1](0,12, h_sol, 2*h_sol)"
   ]
  },
  {
   "cell_type": "code",
   "execution_count": 271,
   "metadata": {},
   "outputs": [
    {
     "data": {
      "text/plain": [
       "-615094361.8696234"
      ]
     },
     "execution_count": 271,
     "metadata": {},
     "output_type": "execute_result"
    }
   ],
   "source": [
    "H2_8pi_phi_0 + H2_8pi_phi_1"
   ]
  },
  {
   "cell_type": "code",
   "execution_count": 272,
   "metadata": {},
   "outputs": [
    {
     "data": {
      "text/plain": [
       "50402.11581490054"
      ]
     },
     "execution_count": 272,
     "metadata": {},
     "output_type": "execute_result"
    }
   ],
   "source": [
    "sum_f_z / (H2_8pi_phi_0 + H2_8pi_phi_1)"
   ]
  },
  {
   "cell_type": "code",
   "execution_count": 273,
   "metadata": {},
   "outputs": [
    {
     "data": {
      "text/plain": [
       "452.389342116930"
      ]
     },
     "execution_count": 273,
     "metadata": {},
     "output_type": "execute_result"
    }
   ],
   "source": [
    "S = pi.n() * 12^2\n",
    "S"
   ]
  },
  {
   "cell_type": "code",
   "execution_count": 274,
   "metadata": {},
   "outputs": [
    {
     "data": {
      "text/plain": [
       "0.0142231432585667"
      ]
     },
     "execution_count": 274,
     "metadata": {},
     "output_type": "execute_result"
    }
   ],
   "source": [
    "V = 2*h_sol * S\n",
    "V"
   ]
  },
  {
   "cell_type": "code",
   "execution_count": 275,
   "metadata": {},
   "outputs": [
    {
     "data": {
      "text/plain": [
       "0.15720024693785073"
      ]
     },
     "execution_count": 275,
     "metadata": {},
     "output_type": "execute_result"
    }
   ],
   "source": [
    "# мкм\n",
    "h_sol*10*1000 "
   ]
  },
  {
   "cell_type": "code",
   "execution_count": 276,
   "metadata": {},
   "outputs": [
    {
     "data": {
      "text/plain": [
       "-4.32460216906801e10"
      ]
     },
     "execution_count": 276,
     "metadata": {},
     "output_type": "execute_result"
    }
   ],
   "source": [
    "# эрг / куб см\n",
    "(H2_8pi_phi_0 + H2_8pi_phi_1)/V"
   ]
  },
  {
   "cell_type": "code",
   "execution_count": 277,
   "metadata": {},
   "outputs": [
    {
     "data": {
      "text/plain": [
       "0.524329625568014"
      ]
     },
     "execution_count": 277,
     "metadata": {},
     "output_type": "execute_result"
    }
   ],
   "source": [
    "# волоконная оптика 1 мВт / 9 мкм\n",
    "# 10^4 эрг в сек / 0.0009 см\n",
    "w = (10^4 /(pi.n()*0.00045^2*c)).subs(c_value)\n",
    "w # эрг в куб см"
   ]
  },
  {
   "cell_type": "code",
   "execution_count": 278,
   "metadata": {},
   "outputs": [
    {
     "data": {
      "text/plain": [
       "26427.3225130625"
      ]
     },
     "execution_count": 278,
     "metadata": {},
     "output_type": "execute_result"
    }
   ],
   "source": [
    "# дин\n",
    "F_z = sum_f_z / (H2_8pi_phi_0 + H2_8pi_phi_1) * w\n",
    "F_z"
   ]
  },
  {
   "cell_type": "code",
   "execution_count": 279,
   "metadata": {},
   "outputs": [
    {
     "data": {
      "text/plain": [
       "0.0660683062826562"
      ]
     },
     "execution_count": 279,
     "metadata": {},
     "output_type": "execute_result"
    }
   ],
   "source": [
    "# Ньютон\n",
    "F_z / 10^5/4"
   ]
  },
  {
   "cell_type": "code",
   "execution_count": 280,
   "metadata": {},
   "outputs": [
    {
     "data": {
      "text/plain": [
       "0.207373428709902"
      ]
     },
     "execution_count": 280,
     "metadata": {},
     "output_type": "execute_result"
    }
   ],
   "source": [
    "# Толщина серебряного слоя для всех зеркал должна быть не менее 0,15 мкм\n",
    "V/2 * 3.95 + V/2 * 4.23 + V * 10.49"
   ]
  },
  {
   "cell_type": "code",
   "execution_count": 281,
   "metadata": {},
   "outputs": [
    {
     "data": {
      "text/plain": [
       "2.98046134067856e15"
      ]
     },
     "execution_count": 281,
     "metadata": {},
     "output_type": "execute_result"
    }
   ],
   "source": [
    "omega_value[0].rhs().n()"
   ]
  },
  {
   "cell_type": "code",
   "execution_count": 282,
   "metadata": {},
   "outputs": [
    {
     "data": {
      "text/plain": [
       "2.20000000000000e-7"
      ]
     },
     "execution_count": 282,
     "metadata": {},
     "output_type": "execute_result"
    }
   ],
   "source": [
    "0.22/10^6"
   ]
  },
  {
   "cell_type": "code",
   "execution_count": null,
   "metadata": {},
   "outputs": [],
   "source": []
  }
 ],
 "metadata": {
  "kernelspec": {
   "display_name": "SageMath 9.0",
   "language": "sage",
   "name": "sagemath"
  },
  "language_info": {
   "codemirror_mode": {
    "name": "ipython",
    "version": 3
   },
   "file_extension": ".py",
   "mimetype": "text/x-python",
   "name": "python",
   "nbconvert_exporter": "python",
   "pygments_lexer": "ipython3",
   "version": "3.7.3"
  }
 },
 "nbformat": 4,
 "nbformat_minor": 4
}
