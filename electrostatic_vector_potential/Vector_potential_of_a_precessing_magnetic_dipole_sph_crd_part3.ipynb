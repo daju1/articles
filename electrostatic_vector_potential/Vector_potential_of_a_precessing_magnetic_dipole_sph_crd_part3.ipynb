{
 "cells": [
  {
   "cell_type": "markdown",
   "id": "4a4322e5",
   "metadata": {},
   "source": [
    "# Векторный потенциал прецессирующего магнитного диполя"
   ]
  },
  {
   "cell_type": "markdown",
   "id": "d4ed3de1",
   "metadata": {},
   "source": [
    "Предыстория вопроса состоит в том, что в работе \n",
    "\n",
    "https://nbviewer.org/github/daju1/articles/blob/master/electrostatic_vector_potential/Vector_potential_of_the_electrostatic_field_of_a_point_charge.ipynb\n",
    "\n",
    "мне удалось записать векторный потенциал для кулоновского поля точечного электрического заряда. Таким образом формула для векторного потенциала кулоновского заряда получена и проверка показала, что операция ротора примененная к этому векторнному потенциалу дает кулоновское электрическое поле точечного заряда.\n",
    "\n",
    "Полученный векторный потенциал по своей форме весьма интересный. Его вид как будто показал, что существование электростатического заряда не возможно без выделенной оси вращения.\n",
    "\n",
    "Поэтому в настоящей работе я задаюсь следующим вопросом: может ли векторный потенциал кулоновского поля электрона создаваться, например, с помощью прецессии дипольного момента магнетона Бора?\n",
    "\n",
    "Таким образом я рассматриваю далее следующую задачу: имеется магнитный диполь с двумя противоположно заряженными магнитными полюсами, который прецессирует вокруг оси проходящей через центр магнитного диполя. Более наглядно моделируемая в данной работе структура нарисована здесь\n",
    "\n",
    "https://nbviewer.org/github/daju1/articles/blob/master/electrostatic_vector_potential/Structure_of_electron.ipynb\n",
    "\n",
    "\n",
    "Таким образом создаётся симметричная пара кольцевых магнитных токов, которые текут во взаимно противоположных направлениях (потому как движение по окружности в одном и том же направлении, например по часовой стрелке, пары магнитных зарядов, имеющих противоположные знаки создает пару взаимно противоположных по направлению кольцевых магнитных токов).\n",
    "\n",
    "Для решения этой задачи в литературе был найден алгоритм расчета векторного потенциала для кольцевого тока, который сводится к эллиптическим интегралам. Таким образом трехмерное интегрирование сводится к двумерному.\n",
    "\n",
    "Однако работа в цилиндрической системе координат для целей настоящей работы оказалась неудобной. Потому что в цилиндрических координатах интегральное уравнение Фредгольма первого рода не удалось привести к интегральному уравнению Фредгольма второго рода.\n",
    "\n",
    "https://nbviewer.org/github/daju1/articles/blob/master/electrostatic_vector_potential/Vector_potential_of_a_precessing_magnetic_dipole.ipynb\n",
    "\n",
    "Поэтому в данной работе решается задача расчёта векторного потенциала кольцевого тока в сферической системе координат с последующим решением интегрального уравнения Фредгольма.\n",
    "\n",
    "Поскольку я рассматриваю не точечный магнитный заряд в составе прецессирующего диполя магнетона Бора, а распределенный в пространстве магнитный заряд, то в подынтегральном выражении моего интегрального уравнения есть два множителя: неизвестная функция плотности распределения магнитных токов в пространстве и так называемое ядро (или оператор) моего интегрального уравнения.\n",
    "\n",
    "Интегральное уравнение решается методом итераций. Из-за вычислительных сложностей многоитерационного интегирования в данной работе представлен результат лишь нулевого приближения неизвестной функции распределения магнитных токов прецессирующего магнетона Бора в пространстве."
   ]
  },
  {
   "cell_type": "code",
   "execution_count": 1,
   "id": "f92423f4",
   "metadata": {},
   "outputs": [],
   "source": [
    "from IPython.display import display, Math, Latex\n",
    "\n",
    "def disp(ex):\n",
    "    display(Math(latex(ex)))\n",
    "    \n",
    "def displ(tex):\n",
    "    display(Math(tex))"
   ]
  },
  {
   "cell_type": "code",
   "execution_count": 2,
   "id": "983748e7",
   "metadata": {},
   "outputs": [],
   "source": [
    "theta_m = var(\"theta_m\")\n",
    "theta_a = var(\"theta_a\")\n",
    "#assume (theta_a, \"real\")\n",
    "r_m = var(\"r_m\")\n",
    "r_a = var(\"r_a\")\n",
    "\n",
    "assume(r_m>0)\n",
    "assume(r_a>0)"
   ]
  },
  {
   "cell_type": "code",
   "execution_count": 3,
   "id": "c484c869",
   "metadata": {},
   "outputs": [
    {
     "data": {
      "text/latex": [
       "$\\displaystyle \\begin{cases}{-\\pi Y_{l}^{1}\\left(\\theta_{m}, 2 \\, \\pi\\right) + \\frac{1}{2} i \\, Y_{l}^{1}\\left(\\theta_{m}, 0\\right) - \\frac{1}{2} i \\, Y_{l}^{1}\\left(\\theta_{m}, 2 \\, \\pi\\right)} & {m = \\left(-1\\right)}\\\\{\\pi Y_{l}^{1}\\left(\\theta_{m}, 2 \\, \\pi\\right) + \\frac{1}{2} i \\, Y_{l}^{1}\\left(\\theta_{m}, 0\\right) - \\frac{1}{2} i \\, Y_{l}^{1}\\left(\\theta_{m}, 2 \\, \\pi\\right)} & {m = 1}\\\\{\\frac{i \\, m Y_{l}^{m}\\left(\\theta_{m}, 0\\right)}{m^{2} - 1} - \\frac{i \\, m Y_{l}^{m}\\left(\\theta_{m}, 2 \\, \\pi\\right)}{m^{2} - 1}} & {1}\\end{cases}$"
      ],
      "text/plain": [
       "<IPython.core.display.Math object>"
      ]
     },
     "metadata": {},
     "output_type": "display_data"
    }
   ],
   "source": [
    "from sage.functions.special import spherical_harmonic\n",
    "from sage.symbolic.integration.integral import definite_integral\n",
    "from sage.calculus.calculus import symbolic_sum\n",
    "\n",
    "l, m = var(\"l, m\")\n",
    "theta_m, phi_m = var (\"theta_m, phi_m\")\n",
    "theta_a, phi_a = var (\"theta_a, phi_a\")\n",
    "disp(integrate(spherical_harmonic(l, m, theta_m, phi_m)*cos(phi_m), phi_m, 0, 2*pi, algorithm=\"sympy\"))"
   ]
  },
  {
   "cell_type": "code",
   "execution_count": 4,
   "id": "65e699c1",
   "metadata": {},
   "outputs": [],
   "source": [
    "def sympy_sum(expression, v, a, b):\n",
    "    try:\n",
    "        expression,v,a,b = [expr._sympy_() for expr in (expression, v, a, b)]\n",
    "    except Exception as ex:\n",
    "        #print(\"warning:\", str(ex))\n",
    "        pass\n",
    "    from sympy import summation\n",
    "    from sage.interfaces.sympy import sympy_init\n",
    "    sympy_init()\n",
    "    result = summation(expression, (v, a, b))\n",
    "    \n",
    "    try:\n",
    "        return result._sage_()\n",
    "    except AttributeError:\n",
    "        #print(result)\n",
    "        return result\n",
    "        #raise AttributeError(\"Unable to convert SymPy result (={}) into\"\n",
    "        #        \" Sage\".format(result))\n",
    "    except NotImplementedError as err:\n",
    "        #print(result)\n",
    "        return result\n",
    "        #raise err"
   ]
  },
  {
   "cell_type": "markdown",
   "id": "116dec40",
   "metadata": {},
   "source": [
    "З.Флюгге Задачи по квантовой механике, том 2, стр. 299 формула (24)"
   ]
  },
  {
   "cell_type": "code",
   "execution_count": 5,
   "id": "453f47fb",
   "metadata": {},
   "outputs": [],
   "source": [
    "def legendre_sum_A_ring_sympy(l, theta_m, theta_a):\n",
    "    from sage.functions.special import spherical_harmonic\n",
    "    m = var(\"m\")\n",
    "    f = lambda l, m, theta_m, theta_a : \\\n",
    "        cases(((m == -1, -pi*spherical_harmonic(l, 1, theta_m, 2*pi)), \\\n",
    "               (m == 1, pi*spherical_harmonic(l, 1, theta_m, 2*pi)), \\\n",
    "               (1, I*m*spherical_harmonic(l, m, theta_m, 0)/(m^2 - 1) \\\n",
    "                 - I*m*spherical_harmonic(l, m, theta_m, 2*pi)/(m^2 - 1)))) \\\n",
    "                  * conjugate(spherical_harmonic(l, m, theta_a, 0))\n",
    "\n",
    "    return 4 * pi / (2*l + 1) * sympy_sum(f(l, m, theta_m, theta_a), m, -l, l)"
   ]
  },
  {
   "cell_type": "markdown",
   "id": "0b193704",
   "metadata": {},
   "source": [
    "если $\\left( {{r}_{q}}<{{r}_{a}} \\right)$ то\n",
    "\n",
    "$A_{\\varphi} = \\frac{\\mu \\, I}{4 \\pi}\\,r_q \\, sin \\theta_q \\,\\frac{1}{{{r}_{a}}}\\sum\\limits_{l=0}^{\\infty }{{{\\left( \\frac{{{r}_{q}}}{{{r}_{a}}} \\right)}^{l}}{\\frac{4\\pi }{2l+1}\\sum\\limits_{m=-l}^{l}{Y_{l,m}^{*}\\left( {{\\theta }_{a}},{{\\varphi }_{a}} \\right)}\\, \\int\\limits_{\\varphi_q}^{} cos\\,{\\varphi_q } \\, {{Y}_{l,m}}\\left( {{\\theta }_{q}},{{\\varphi }_{q}} \\right)}} \\, d \\varphi_q$\n",
    "\n",
    "и если $\\left( {{r}_{a}}<{{r}_{q}} \\right)$ то\n",
    "\n",
    "$A_{\\varphi} = \\frac{\\mu \\, I}{4 \\pi}\\,r_q \\, sin \\theta_q \\, \\frac{1}{{{r}_{q}}}\\sum\\limits_{l=0}^{\\infty }{{{\\left( \\frac{{{r}_{a}}}{{{r}_{q}}} \\right)}^{l}}{\\frac{4\\pi }{2l+1}\\sum\\limits_{m=-l}^{l}{Y_{l,m}^{*}\\left( {{\\theta }_{a}},{{\\varphi }_{a}} \\right)}\\,\\int\\limits_{\\varphi_q}^{} cos\\,{\\varphi_q } \\, {{Y}_{l,m}}\\left( {{\\theta }_{q}},{{\\varphi }_{q}} \\right)}} \\, d \\varphi_q$"
   ]
  },
  {
   "cell_type": "markdown",
   "id": "ed75fdd4",
   "metadata": {},
   "source": [
    "# Векторный потенциал электростатического поля точечного заряда\n",
    "\n",
    "https://nbviewer.org/github/daju1/articles/blob/master/electrostatic_vector_potential/Vector_potential_of_the_electrostatic_field_of_a_point_charge.ipynb\n",
    "\n",
    "в цилиндрической системе координат\n",
    "\n",
    "$$\\vec A = -\\frac{ z}{{\\rho}\\sqrt{\\rho^{2} + z^{2}} }\\,{\\vec {e}}_{\\varphi }$$"
   ]
  },
  {
   "cell_type": "markdown",
   "id": "87aeafb2",
   "metadata": {},
   "source": [
    "в сферической системе координат\n",
    "\n",
    "$$\\vec A = -\\frac{сtg \\, \\theta}{r}\\,{\\vec {e}}_{\\varphi }$$"
   ]
  },
  {
   "cell_type": "code",
   "execution_count": 6,
   "id": "d6a1c46e",
   "metadata": {},
   "outputs": [],
   "source": [
    "A_q = lambda ra, theta_a : cot(theta_a) / (ra)"
   ]
  },
  {
   "cell_type": "markdown",
   "id": "ed2a781f",
   "metadata": {},
   "source": [
    "# Интегральное уравнение для векторного потенциала кулоновского заряда "
   ]
  },
  {
   "cell_type": "markdown",
   "id": "39e4504a",
   "metadata": {},
   "source": [
    "Итак, для ответа на вопрос может ли векторный потенциал кулоновского поля электрона создаваться, например, с помощью прецессии дипольного момента магнетона Бора? - рассмотрим следующую задачу.\n",
    "\n",
    "Имеется магнитный диполь с двумя противоположно заряженными магнитными полюсами, который прецессирует вокруг оси проходящей через центр магнитного диполя. Таким образом создаётся симметричная пара кольцевых магнитных токов, которые текут во взаимно противоположных направлениях (потому как движение по окружности в одном и том же направлении, например по часовой стрелке, пары магнитных зарядов, имеющих противоположные знаки создает пару взаимно противоположных по направлению кольцевых магнитных токов).\n",
    "\n",
    "Составим теперь интегральное уравнение в левой части которого запишем векторный потенциал кулоновского поля покоящегося электростатического заряда (найденный в предыдущей работе) а в правой части запишем векторный потенциал прецессирующего магнитного диполя на основе данных об объемном распределении магнитных токов."
   ]
  },
  {
   "cell_type": "markdown",
   "id": "5ce5c4d2",
   "metadata": {},
   "source": [
    "\n",
    "в цилиндрической системе координат\n",
    "\n",
    "$\\rho_a$, $z_a$ - координаты наблюдения\n",
    "\n",
    "$\\rho_m$, $z_m$, $\\varphi_m$ - координаты интегрирования, координаты магнитных зарядов"
   ]
  },
  {
   "cell_type": "markdown",
   "id": "2a9e066a",
   "metadata": {},
   "source": [
    "$-\\frac{z_a}{{\\rho_a}\\sqrt{\\rho_a^{2} + z_a^{2}} } = \\int\\limits_{z_m=-\\infty}^{\\infty}\\,\\,\\int\\limits_{\\rho_m=0}^{\\infty}\\frac{j_m(\\rho_m, z_m) \\,\\rho_m}{c} \\left(\\int\\limits_{\\varphi_m=0}^{2\\pi}\\frac{cos\\,{\\varphi_m } \\, d \\varphi_m}{R}\\right)d \\rho_m \\, d z_m$"
   ]
  },
  {
   "cell_type": "markdown",
   "id": "dc4ab405",
   "metadata": {},
   "source": [
    "Неизвестные функции\n",
    "\n",
    "$q_m(r_m, \\theta_m)$ - плотность магнитного заряда в зависимости от цилиндрических координат\n",
    "\n",
    "$\\omega_m (r_m, \\theta_m)$ - круговая частота вращения\n",
    "\n",
    "$j_m(r_m, \\theta_m) = q_m(r_m, \\theta_m)\\, \\omega_m (r_m, \\theta_m) \\, r_m \\, \\sin \\theta_m$ - плотность магнитного тока"
   ]
  },
  {
   "cell_type": "markdown",
   "id": "9d38cffb",
   "metadata": {},
   "source": [
    "<p>Если заданы сферические координаты точки, то переход к цилиндрическим осуществляется по формулам:\n",
    "</p>"
   ]
  },
  {
   "cell_type": "markdown",
   "id": "7176b143",
   "metadata": {},
   "source": [
    "${\\displaystyle {\\begin{cases}\\rho =r\\sin \\theta ,\\\\\\varphi =\\varphi ,\\\\z=r\\cos \\theta .\\end{cases}}}$"
   ]
  },
  {
   "cell_type": "markdown",
   "id": "264bf0ea",
   "metadata": {},
   "source": [
    "<p>Обратно от цилиндрических к сферическим:\n",
    "</p>"
   ]
  },
  {
   "cell_type": "markdown",
   "id": "3890e69f",
   "metadata": {},
   "source": [
    "${\\displaystyle {\\begin{cases}r={\\sqrt {\\rho ^{2}+z^{2}}},\\\\\\theta =\\mathrm {arctg} {\\dfrac {\\rho }{z}},\\\\\\varphi =\\varphi .\\end{cases}}}$"
   ]
  },
  {
   "cell_type": "markdown",
   "id": "71d85735",
   "metadata": {},
   "source": [
    "в сферической системе координат\n",
    "\n",
    "$r_a$, $\\theta_a$ - координаты наблюдения\n",
    "\n",
    "$r_m$, $\\theta_m$, $\\varphi_m$ - координаты интегрирования, координаты магнитных зарядов"
   ]
  },
  {
   "cell_type": "markdown",
   "id": "dd45c00b",
   "metadata": {},
   "source": [
    "Итак, в исходном интегральном уравнении"
   ]
  },
  {
   "cell_type": "markdown",
   "id": "28b4e529",
   "metadata": {},
   "source": [
    "$-\\frac{сtg \\, \\theta_a}{r_a} = \\int\\limits_{\\theta_m=0}^{\\pi}\\,\\,\\int\\limits_{r_m=0}^{\\infty}\\frac{j_m(r_m, \\theta_m) \\,\\sin \\theta_m\\, r_m^2}{c} \\left(\\int\\limits_{\\varphi_m=0}^{2\\pi}\\frac{cos\\,{\\varphi_m } }{\\left| \\overrightarrow{{{r}_{m}}}-\\overrightarrow{{{r}_{a}}} \\right|}\\, d \\varphi_m\\right)d r_m \\, d \\theta_m$"
   ]
  },
  {
   "cell_type": "markdown",
   "id": "2c320045",
   "metadata": {},
   "source": [
    "в правой части уравнения второй интеграл по координате $r_m$ разбиваем на два интеграла от нуля до $r_a$ и от $r_a$ до бесконечности"
   ]
  },
  {
   "cell_type": "markdown",
   "id": "73c75a49",
   "metadata": {},
   "source": [
    "$-\\frac{сtg \\, \\theta_a}{r_a} = \\int\\limits_{\\theta_m=0}^{\\pi}\\,\\,\\int\\limits_{r_m=0}^{r_a}\\frac{j_m(r_m, \\theta_m) \\,\\sin \\theta_m\\, r_m^2}{c} \\left(\\int\\limits_{\\varphi_m=0}^{2\\pi}\\frac{cos\\,{\\varphi_m } }{\\left| \\overrightarrow{{{r}_{m}}}-\\overrightarrow{{{r}_{a}}} \\right|}\\, d \\varphi_m\\right)d r_m \\, d \\theta_m + \\int\\limits_{\\theta_m=0}^{\\pi}\\,\\,\\int\\limits_{r_m=r_a}^{\\infty}\\frac{j_m(r_m, \\theta_m) \\,\\sin \\theta_m\\, r_m^2}{c} \\left(\\int\\limits_{\\varphi_m=0}^{2\\pi}\\frac{cos\\,{\\varphi_m } }{\\left| \\overrightarrow{{{r}_{m}}}-\\overrightarrow{{{r}_{a}}} \\right|}\\, d \\varphi_m\\right)d r_m \\, d \\theta_m$"
   ]
  },
  {
   "cell_type": "markdown",
   "id": "144cbf86",
   "metadata": {},
   "source": [
    "Далее принимая во внимание, что"
   ]
  },
  {
   "cell_type": "markdown",
   "id": "5de1e8e3",
   "metadata": {},
   "source": [
    "если $\\left( {{r}_{m}}<{{r}_{a}} \\right)$ то\n",
    "\n",
    "$\\frac{1}{\\left| \\overrightarrow{{{r}_{m}}}-\\overrightarrow{{{r}_{a}}} \\right|}=\\frac{1}{{{r}_{a}}}\\sum\\limits_{l=0}^{\\infty }{{{\\left( \\frac{{{r}_{m}}}{{{r}_{a}}} \\right)}^{l}}{{P}_{l}} \\cos \\left( \\gamma  \\right)}$\n",
    "\n",
    "и если $\\left( {{r}_{a}}<{{r}_{m}} \\right)$ то\n",
    "\n",
    "$\\frac{1}{\\left| \\overrightarrow{{{r}_{m}}}-\\overrightarrow{{{r}_{a}}} \\right|}=\\frac{1}{{{r}_{q}}}\\sum\\limits_{l=0}^{\\infty }{{{\\left( \\frac{{{r}_{a}}}{{{r}_{m}}} \\right)}^{l}}{{P}_{l}} \\cos \\left( \\gamma  \\right)}$"
   ]
  },
  {
   "cell_type": "markdown",
   "id": "516bdfd7",
   "metadata": {},
   "source": [
    "делаем соотвествующие подстановки обратного расстояния между координатами заряда и точки наблюдения $\\frac{1}{{R}}=\\frac{1}{\\left|\\overrightarrow{r_{q}} - \\overrightarrow{r_{a}}\\right|}$"
   ]
  },
  {
   "cell_type": "markdown",
   "id": "ecd1e78a",
   "metadata": {},
   "source": [
    "\\begin{equation}\n",
    "\\begin{array}{c}\n",
    "-\\frac{сtg \\, \\theta_a}{r_a} = \n",
    "\\int\\limits_{\\theta_m=0}^{\\pi}\\,\\,\\int\\limits_{r_m=0}^{r_a}\\frac{j_m(r_m, \\theta_m) \\,\\sin \\theta_m\\, r_m^2}{c} \\left(\\int\\limits_{\\varphi_m=0}^{2\\pi}\\,\\frac{cos\\,{\\varphi_m } }{{{r}_{a}}}\\sum\\limits_{l=0}^{\\infty }{{\\left( \\frac{{{r}_{m}}}{{{r}_{a}}} \\right)}^{l}}{{P}_{l}} \\cos \\left( \\gamma  \\right)\\, d \\varphi_m\\right)d r_m \\, d \\theta_m \\\\ +\n",
    "\\int\\limits_{\\theta_m=0}^{\\pi}\\,\\,\\int\\limits_{r_m=r_a}^{\\infty}\\frac{j_m(r_m, \\theta_m) \\,\\sin \\theta_m\\, r_m^2}{c} \\left(\\int\\limits_{\\varphi_m=0}^{2\\pi}\\,\\frac{cos\\,{\\varphi_m }}{{{r}_{m}}}\\sum\\limits_{l=0}^{\\infty }{{\\left( \\frac{{{r}_{a}}}{{{r}_{m}}} \\right)}^{l}}{{P}_{l}} \\cos \\left( \\gamma  \\right)\\, d \\varphi_m\\right)d r_m \\, d \\theta_m\n",
    "\\end{array}\n",
    "\\end{equation}"
   ]
  },
  {
   "cell_type": "markdown",
   "id": "2130d1d4",
   "metadata": {},
   "source": [
    "Далее выносим операцию суммирования по $l$ отношения радиальных координат наблюдения и магнитных зарядов из внутреннего интеграла по $\\varphi_m$"
   ]
  },
  {
   "cell_type": "markdown",
   "id": "7e9da322",
   "metadata": {},
   "source": [
    "\\begin{equation}\n",
    "\\begin{array}{c}\n",
    "-\\frac{сtg \\, \\theta_a}{r_a} = \n",
    "\\int\\limits_{r_m=0}^{r_a}\\,\\int\\limits_{\\theta_m=0}^{\\pi}\\,\\frac{j_m(r_m, \\theta_m) \\,\\sin \\theta_m\\, r_m^2}{c} \\sum\\limits_{l=0}^{\\infty }{{\\left( \\frac{{{r}_{m}}}{{{r}_{a}}} \\right)}^{l}}\\left(\\int\\limits_{\\varphi_m=0}^{2\\pi}\\,\\frac{cos\\,{\\varphi_m } }{{{r}_{a}}}{{P}_{l}} \\cos \\left( \\gamma  \\right)\\, d \\varphi_m\\right) \\, d \\theta_m \\,d r_m  \\\\ +\n",
    "\\int\\limits_{r_m=r_a}^{\\infty}\\,\\int\\limits_{\\theta_m=0}^{\\pi}\\,\\frac{j_m(r_m, \\theta_m) \\,\\sin \\theta_m\\, r_m^2}{c} \\sum\\limits_{l=0}^{\\infty }{{\\left( \\frac{{{r}_{a}}}{{{r}_{m}}} \\right)}^{l}}\\left(\\int\\limits_{\\varphi_m=0}^{2\\pi}\\,\\frac{cos\\,{\\varphi_m }}{{{r}_{m}}}{{P}_{l}} \\cos \\left( \\gamma  \\right)\\, d \\varphi_m\\right) \\, d \\theta_m \\,d r_m\n",
    "\\end{array}\n",
    "\\end{equation}"
   ]
  },
  {
   "cell_type": "markdown",
   "id": "ede9b5d8",
   "metadata": {},
   "source": [
    "Теперь из под того же интеграла выносим радиальные координаты в знаменателе"
   ]
  },
  {
   "cell_type": "markdown",
   "id": "bd78f80b",
   "metadata": {},
   "source": [
    "\\begin{equation}\n",
    "\\begin{array}{c}\n",
    "-\\frac{сtg \\, \\theta_a}{r_a} = \n",
    "\\int\\limits_{r_m=0}^{r_a}\\,\\int\\limits_{\\theta_m=0}^{\\pi}\\,\\frac{j_m(r_m, \\theta_m) \\,\\sin \\theta_m\\, r_m^2}{c\\,r_a} \\sum\\limits_{l=0}^{\\infty }{{\\left( \\frac{r_m}{r_a} \\right)}^{l}}\\left(\\int\\limits_{\\varphi_m=0}^{2\\pi}\\,{cos\\,{\\varphi_m } }{P_l} \\cos \\left( \\gamma  \\right)\\, d \\varphi_m\\right) \\, d \\theta_m \\,d r_m \\\\ +\n",
    "\\int\\limits_{r_m=r_a}^{\\infty}\\,\\int\\limits_{\\theta_m=0}^{\\pi}\\,\\frac{j_m(r_m, \\theta_m) \\,\\sin \\theta_m\\, r_m^2}{c\\,r_m} \\sum\\limits_{l=0}^{\\infty }{{\\left( \\frac{r_a}{r_m} \\right)}^{l}}\\left(\\int\\limits_{\\varphi_m=0}^{2\\pi}\\,{cos\\,{\\varphi_m }}{P_l} \\cos \\left( \\gamma  \\right)\\, d \\varphi_m\\right) \\, d \\theta_m \\,d r_m\n",
    "\\end{array}\n",
    "\\end{equation}"
   ]
  },
  {
   "cell_type": "markdown",
   "id": "57edd60d",
   "metadata": {},
   "source": [
    "В данной формуле ${{P}_{l}} \\cos \\left( \\gamma  \\right)$ это полиномы Лежандра аргумент которых $\\gamma$ есть угол между векторами ${{r}_{q}}$  и ${{r}_{a}}$. Применяя формулу, известную как теорему сложения\n",
    "\n",
    "${{P}_{l}}\\cos \\left( \\gamma  \\right)=\\frac{4\\pi }{2l+1}\\sum\\limits_{m=-l}^{l}{Y_{l,m}^{*}\\left( {{\\theta }_{a}},{{\\varphi }_{a}} \\right)}\\ {{Y}_{l,m}}\\left( {{\\theta}_{m}},{{\\varphi }_{m}} \\right)$\n"
   ]
  },
  {
   "cell_type": "markdown",
   "id": "a660f1b1",
   "metadata": {},
   "source": [
    "Обозначим\n",
    "\n",
    "$S_{l}(\\theta_m, \\theta_a) = \\left(\\int\\limits_{{\\left(\\varphi_m - \\varphi_a\\right)}=0}^{2\\pi}\\,{cos\\,{{\\left(\\varphi_m - \\varphi_a\\right)} } }{P_l} \\cos \\left( \\gamma  \\right)\\, d {\\left(\\varphi_m - \\varphi_a\\right)}\\right)$"
   ]
  },
  {
   "cell_type": "code",
   "execution_count": 7,
   "id": "7463daaf",
   "metadata": {},
   "outputs": [],
   "source": [
    "S_l = function(\"S_l\")(l,theta_m, theta_a)\n",
    "j_m = function(\"j_m\")(r_m, theta_m)"
   ]
  },
  {
   "cell_type": "markdown",
   "id": "4fdb8453",
   "metadata": {},
   "source": [
    "теперь интегральное уравнение выглядит"
   ]
  },
  {
   "cell_type": "markdown",
   "id": "3701fc96",
   "metadata": {},
   "source": [
    "\\begin{equation}\n",
    "\\begin{array}{c}\n",
    "-\\frac{сtg \\, \\theta_a}{r_a} = \n",
    "\\int\\limits_{r_m=0}^{r_a}\\,\\int\\limits_{\\theta_m=0}^{\\pi}\\,\\frac{j_m(r_m, \\theta_m) \\,\\sin \\theta_m\\, r_m^2}{c\\,r_a} \\sum\\limits_{l=0}^{\\infty }{{\\left( \\frac{r_m}{r_a} \\right)}^{l}}S_{l}(\\theta_m, \\theta_a) \\, d \\theta_m \\,d r_m \\\\ +\n",
    "\\int\\limits_{r_m=r_a}^{\\infty}\\,\\int\\limits_{\\theta_m=0}^{\\pi}\\,\\frac{j_m(r_m, \\theta_m) \\,\\sin \\theta_m\\, r_m^2}{c\\,r_m} \\sum\\limits_{l=0}^{\\infty }{{\\left( \\frac{r_a}{r_m} \\right)}^{l}}S_{l}(\\theta_m, \\theta_a) \\, d \\theta_m \\,d r_m\n",
    "\\end{array}\n",
    "\\end{equation}"
   ]
  },
  {
   "cell_type": "code",
   "execution_count": 8,
   "id": "e2f85466",
   "metadata": {},
   "outputs": [
    {
     "data": {
      "text/latex": [
       "$\\displaystyle -\\frac{\\cot\\left(\\theta_{a}\\right)}{r_{a}} = \\int_{r_{a}}^{+\\infty} \\int_{0}^{\\pi} r_{m} j_{m}\\left(r_{m}, \\theta_{m}\\right) \\sin\\left(\\theta_{m}\\right) {\\sum_{l=0}^{+\\infty} \\frac{r_{a}^{l} S_{l}\\left(l, \\theta_{m}, \\theta_{a}\\right)}{r_{m}^{l}}}\\,{d \\theta_{m}}\\,{d r_{m}} + \\int_{0}^{r_{a}} \\int_{0}^{\\pi} \\frac{r_{m}^{2} j_{m}\\left(r_{m}, \\theta_{m}\\right) \\sin\\left(\\theta_{m}\\right) {\\sum_{l=0}^{+\\infty} \\frac{r_{m}^{l} S_{l}\\left(l, \\theta_{m}, \\theta_{a}\\right)}{r_{a}^{l}}}}{r_{a}}\\,{d \\theta_{m}}\\,{d r_{m}}$"
      ],
      "text/plain": [
       "<IPython.core.display.Math object>"
      ]
     },
     "metadata": {},
     "output_type": "display_data"
    }
   ],
   "source": [
    "eq1 = - A_q(r_a, theta_a) == \\\n",
    "    definite_integral( \\\n",
    "        definite_integral( j_m(r_m = r_m, theta_m = theta_m) * \\\n",
    "            (sin(theta_m)*r_m^2/r_a) * \\\n",
    "                symbolic_sum((r_m/r_a)^l * S_l(l=l, theta_m = theta_m, theta_a = theta_a), l, 0, Infinity)\\\n",
    "                , theta_m, 0, pi, hold=True) \\\n",
    "                    , r_m, 0, r_a, hold=True) + \\\n",
    "    definite_integral( \\\n",
    "        definite_integral( j_m(r_m = r_m, theta_m = theta_m) * \\\n",
    "            (sin(theta_m)*r_m) * \\\n",
    "                symbolic_sum((r_a/r_m)^l * S_l(l=l, theta_m = theta_m, theta_a = theta_a), l, 0, Infinity)\\\n",
    "                , theta_m, 0, pi, hold=True)\n",
    "                    , r_m, r_a, Infinity, hold=True)\n",
    "\n",
    "disp(eq1)"
   ]
  },
  {
   "cell_type": "markdown",
   "id": "4ead6cda",
   "metadata": {},
   "source": [
    "\\begin{equation}\n",
    "\\begin{array}{c}\n",
    "-\\frac{сtg \\, \\theta_a}{r_a} = \n",
    "\\int\\limits_{r_m=0}^{r_a}\\,\\int\\limits_{\\theta_m=0}^{\\pi}\\,\\frac{j_m(r_m, \\theta_m)}{c}\\,\\left(\\frac{\\sin \\theta_m\\, r_m^2}{r_a} \\sum\\limits_{l=0}^{\\infty }{{\\left( \\frac{r_m}{r_a} \\right)}^{l}}S_{l}(\\theta_m, \\theta_a) \\right)\\, d \\theta_m \\,d r_m \\\\ +\n",
    "\\int\\limits_{r_m=r_a}^{\\infty}\\,\\int\\limits_{\\theta_m=0}^{\\pi}\\,\\frac{j_m(r_m, \\theta_m)}{c} \\,\\left({\\sin \\theta_m\\, r_m} \\sum\\limits_{l=0}^{\\infty }{{\\left( \\frac{r_a}{r_m} \\right)}^{l}}S_{l}(\\theta_m, \\theta_a) \\right) \\, d \\theta_m \\,d r_m\n",
    "\\end{array}\n",
    "\\end{equation}"
   ]
  },
  {
   "cell_type": "markdown",
   "id": "8cd68402",
   "metadata": {},
   "source": [
    "ядро интегрального уравнения (в круглых скобках)"
   ]
  },
  {
   "cell_type": "markdown",
   "id": "e6c4baec",
   "metadata": {},
   "source": [
    "Это линейное интегральное уравнение Фредгольма первого рода."
   ]
  },
  {
   "cell_type": "markdown",
   "id": "42676147",
   "metadata": {},
   "source": [
    "Продифференцируем обе части интегрального уравнения по $r_a$.\n",
    "\n",
    "Поскольку переменная дифференцирования одновременно используется как верхний и нижний предел интегрирования, то в соответствии с правилом дифференцирования определённых интегралов в правой части число слагаемых увеличивается "
   ]
  },
  {
   "cell_type": "markdown",
   "id": "8a7c460b",
   "metadata": {},
   "source": [
    "\\begin{equation}\n",
    "\\begin{array}{c}\n",
    "\\frac{сtg \\, \\theta_a}{r_a^2} = \n",
    "\\int\\limits_{r_m=0}^{r_a}\\,\\int\\limits_{\\theta_m=0}^{\\pi}\\,\\frac{j_m(r_m, \\theta_m)}{c}\\,\\frac{d}{dr_a}\\left(\\frac{\\sin \\theta_m\\, r_m^2}{r_a} \\sum\\limits_{l=0}^{\\infty }{{\\left( \\frac{r_m}{r_a} \\right)}^{l}}S_{l}(\\theta_m, \\theta_a) \\right)\\, d \\theta_m \\,d r_m +\n",
    "\\int\\limits_{r_m=r_a}^{\\infty}\\,\\int\\limits_{\\theta_m=0}^{\\pi}\\,\\frac{j_m(r_m, \\theta_m)}{c} \\,\\frac{d}{dr_a}\\left({\\sin \\theta_m\\,r_m} \\sum\\limits_{l=0}^{\\infty }{{\\left( \\frac{r_a}{r_m} \\right)}^{l}}S_{l}(\\theta_m, \\theta_a) \\right) \\, d \\theta_m \\,d r_m \\\\\n",
    "+ \\int\\limits_{\\theta_m=0}^{\\pi}\\,\\frac{j_m(r_a, \\theta_m)}{c}\\,\\left(\\frac{\\sin \\theta_m\\, r_m^2}{r_a} \\sum\\limits_{l=0}^{\\infty }{{\\left( \\frac{r_m}{r_a} \\right)}^{l}}S_{l}(\\theta_m, \\theta_a) \\right)_{r_m = r_a}\\, d \\theta_m -\n",
    "\\int\\limits_{\\theta_m=0}^{\\pi}\\,\\frac{j_m(r_a, \\theta_m)}{c} \\,\\left({\\sin \\theta_m\\,r_m} \\sum\\limits_{l=0}^{\\infty }{{\\left( \\frac{r_a}{r_m} \\right)}^{l}}S_{l}(\\theta_m, \\theta_a) \\right)_{r_m = r_a} \\, d \\theta_m\n",
    "\\end{array}\n",
    "\\end{equation}"
   ]
  },
  {
   "cell_type": "markdown",
   "id": "cdbece05",
   "metadata": {},
   "source": [
    "Осуществляя теперь подстановку $r_m = r_a$ имеем"
   ]
  },
  {
   "cell_type": "markdown",
   "id": "d39a30e1",
   "metadata": {},
   "source": [
    "\\begin{equation}\n",
    "\\begin{array}{c}\n",
    "\\frac{сtg \\, \\theta_a}{r_a^2} = \n",
    "\\int\\limits_{r_m=0}^{r_a}\\,\\int\\limits_{\\theta_m=0}^{\\pi}\\,\\frac{j_m(r_m, \\theta_m)}{c}\\,\\frac{d}{dr_a}\\left(\\frac{\\sin \\theta_m\\, r_m^2}{r_a} \\sum\\limits_{l=0}^{\\infty }{{\\left( \\frac{r_m}{r_a} \\right)}^{l}}S_{l}(\\theta_m, \\theta_a) \\right)\\, d \\theta_m \\,d r_m \\\\\n",
    "+ \\int\\limits_{r_m=r_a}^{\\infty}\\,\\int\\limits_{\\theta_m=0}^{\\pi}\\,\\frac{j_m(r_m, \\theta_m)}{c} \\,\\frac{d}{dr_a}\\left({\\sin \\theta_m\\,r_m} \\sum\\limits_{l=0}^{\\infty }{{\\left( \\frac{r_a}{r_m} \\right)}^{l}}S_{l}(\\theta_m, \\theta_a) \\right) \\, d \\theta_m \\,d r_m \\\\\n",
    "+ \\int\\limits_{\\theta_m=0}^{\\pi}\\,\\frac{j_m(r_a, \\theta_m)}{c}\\,\\left({\\sin \\theta_m \\, r_a} \\sum\\limits_{l=0}^{\\infty} S_{l}\\left(\\theta_m, \\theta_a\\right) \\right)\\, d \\theta_m -\n",
    "\\int\\limits_{\\theta_m=0}^{\\pi}\\,\\frac{j_m(r_a, \\theta_m)}{c} \\,\\left({\\sin \\theta_m \\,r_a} \\sum\\limits_{l=0}^{\\infty} S_{l}(\\theta_m, \\theta_a) \\right) \\, d \\theta_m\n",
    "\\end{array}\n",
    "\\end{equation}"
   ]
  },
  {
   "cell_type": "markdown",
   "id": "147326cc",
   "metadata": {},
   "source": [
    "После указанной подстановки отношения радиальных координат наблюдения и магнитных зарядов стали равными единице и поэтому мы видим что два слагаемых в правой части взаимно сокращаются"
   ]
  },
  {
   "cell_type": "markdown",
   "id": "0dac78fa",
   "metadata": {},
   "source": [
    "$\\frac{сtg \\, \\theta_a}{r_a^2} = \n",
    "\\int\\limits_{r_m=0}^{r_a}\\,\\int\\limits_{\\theta_m=0}^{\\pi}\\,\\frac{j_m(r_m, \\theta_m)}{c}\\,\\frac{d}{dr_a}\\left(\\frac{\\sin \\theta_m\\, r_m^2}{r_a} \\sum\\limits_{l=0}^{\\infty }{{\\left( \\frac{r_m}{r_a} \\right)}^{l}}S_{l}(\\theta_m, \\theta_a) \\right)\\, d \\theta_m \\,d r_m +\n",
    "\\int\\limits_{r_m=r_a}^{\\infty}\\,\\int\\limits_{\\theta_m=0}^{\\pi}\\,\\frac{j_m(r_m, \\theta_m)}{c} \\,\\frac{d}{dr_a}\\left({\\sin \\theta_m\\,r_m} \\sum\\limits_{l=0}^{\\infty }{{\\left( \\frac{r_a}{r_m} \\right)}^{l}}S_{l}(\\theta_m, \\theta_a) \\right) \\, d \\theta_m \\,d r_m$"
   ]
  },
  {
   "cell_type": "markdown",
   "id": "98f6ffee",
   "metadata": {},
   "source": [
    "теперь собственно производим дифференцирование в подынтегральных выражениях"
   ]
  },
  {
   "cell_type": "markdown",
   "id": "424e9c3e",
   "metadata": {},
   "source": [
    "\\begin{equation}\n",
    "\\begin{array}{c}\n",
    "\\frac{сtg \\, \\theta_a}{r_a^2} = \n",
    "\\int\\limits_{r_m=0}^{r_a}\\,\\int\\limits_{\\theta_m=0}^{\\pi}\\,\\frac{j_m(r_m, \\theta_m)}{c}\\,\\left(\\frac{\\sin \\theta_m\\, r_m^2}{r_a} \\sum\\limits_{l=0}^{\\infty }-l{{\\left( \\frac{{r_m}^{l}}{{r_a}^{l+1}} \\right)}}S_{l}(\\theta_m, \\theta_a) - \\frac{\\sin \\theta_m\\, r_m^2}{r_a^2} \\sum\\limits_{l=0}^{\\infty }{{\\left( \\frac{r_m}{r_a} \\right)}^{l}}S_{l}(\\theta_m, \\theta_a)\\right)\\, d \\theta_m \\,d r_m  \\\\\n",
    "+\\int\\limits_{r_m=r_a}^{\\infty}\\,\\int\\limits_{\\theta_m=0}^{\\pi}\\,\\frac{j_m(r_m, \\theta_m)}{c} \\,\\left({\\sin \\theta_m\\,r_m} \\sum\\limits_{l=0}^{\\infty }l{{\\left( \\frac{{r_a}^{l-1}}{{r_m}^{l}} \\right)}}S_{l}(\\theta_m, \\theta_a) \\right) \\, d \\theta_m \\,d r_m\n",
    "\\end{array}\n",
    "\\end{equation}"
   ]
  },
  {
   "cell_type": "code",
   "execution_count": null,
   "id": "ad094097",
   "metadata": {},
   "outputs": [],
   "source": []
  },
  {
   "cell_type": "markdown",
   "id": "6551726e",
   "metadata": {},
   "source": [
    "\\begin{equation}\n",
    "\\begin{array}{c}\n",
    "\\frac{сtg \\, \\theta_a}{r_a^2} = \n",
    "-\\int\\limits_{r_m=0}^{r_a}\\,\\int\\limits_{\\theta_m=0}^{\\pi}\\,\\frac{j_m(r_m, \\theta_m)}{c}\\,\\left(\\frac{\\sin \\theta_m\\, r_m^2}{r_a} \\sum\\limits_{l=0}^{\\infty }l{{\\left( \\frac{{r_m}^{l}}{{r_a}^{l+1}} \\right)}}S_{l}(\\theta_m, \\theta_a) + \\frac{\\sin \\theta_m\\, r_m^2}{r_a^2} \\sum\\limits_{l=0}^{\\infty }{{\\left( \\frac{r_m}{r_a} \\right)}^{l}}S_{l}(\\theta_m, \\theta_a)\\right)\\, d \\theta_m \\,d r_m  \\\\\n",
    "+\\int\\limits_{r_m=r_a}^{\\infty}\\,\\int\\limits_{\\theta_m=0}^{\\pi}\\,\\frac{j_m(r_m, \\theta_m)}{c} \\,\\left({\\sin \\theta_m\\,r_m} \\sum\\limits_{l=0}^{\\infty }l{{\\left( \\frac{{r_a}^{l-1}}{{r_m}^{l}} \\right)}}S_{l}(\\theta_m, \\theta_a) \\right) \\, d \\theta_m \\,d r_m\n",
    "\\end{array}\n",
    "\\end{equation}"
   ]
  },
  {
   "cell_type": "code",
   "execution_count": null,
   "id": "0bbf36f6",
   "metadata": {},
   "outputs": [],
   "source": []
  },
  {
   "cell_type": "markdown",
   "id": "dfc2fe0c",
   "metadata": {},
   "source": [
    "\\begin{equation}\n",
    "\\begin{array}{c}\n",
    "\\frac{сtg \\, \\theta_a}{r_a^2} = \n",
    "-\\int\\limits_{r_m=0}^{r_a}\\,\\int\\limits_{\\theta_m=0}^{\\pi}\\,\\frac{j_m(r_m, \\theta_m)}{c}\\,\\left(\\frac{\\sin \\theta_m\\, r_m^2}{r_a^2} \\sum\\limits_{l=0}^{\\infty }l{{\\left( \\frac{{r_m}}{{r_a}} \\right)}^{l}}S_{l}(\\theta_m, \\theta_a) + \\frac{\\sin \\theta_m\\, r_m^2}{r_a^2} \\sum\\limits_{l=0}^{\\infty }{{\\left( \\frac{r_m}{r_a} \\right)}^{l}}S_{l}(\\theta_m, \\theta_a)\\right)\\, d \\theta_m \\,d r_m  \\\\\n",
    "+\\int\\limits_{r_m=r_a}^{\\infty}\\,\\int\\limits_{\\theta_m=0}^{\\pi}\\,\\frac{j_m(r_m, \\theta_m)}{c} \\,\\left({\\sin \\theta_m\\,r_m} \\sum\\limits_{l=0}^{\\infty }l{{\\left( \\frac{{r_a}^{l-1}}{{r_m}^{l}} \\right)}}S_{l}(\\theta_m, \\theta_a) \\right) \\, d \\theta_m \\,d r_m\n",
    "\\end{array}\n",
    "\\end{equation}"
   ]
  },
  {
   "cell_type": "code",
   "execution_count": 9,
   "id": "ae7a18a2",
   "metadata": {},
   "outputs": [
    {
     "data": {
      "text/latex": [
       "$\\displaystyle \\frac{\\cot\\left(\\theta_{a}\\right)}{r_{a}^{2}} = \\int_{r_{a}}^{+\\infty} \\int_{0}^{\\pi} r_{m} j_{m}\\left(r_{m}, \\theta_{m}\\right) \\sin\\left(\\theta_{m}\\right) {\\sum_{l=0}^{+\\infty} \\frac{l r_{a}^{l - 1} S_{l}\\left(l, \\theta_{m}, \\theta_{a}\\right)}{r_{m}^{l}}}\\,{d \\theta_{m}}\\,{d r_{m}} + \\int_{0}^{r_{a}} \\int_{0}^{\\pi} \\frac{r_{m}^{2} j_{m}\\left(r_{m}, \\theta_{m}\\right) \\sin\\left(\\theta_{m}\\right) {\\sum_{l=0}^{+\\infty} -\\frac{l r_{a}^{l - 1} r_{m}^{l} S_{l}\\left(l, \\theta_{m}, \\theta_{a}\\right)}{r_{a}^{2 \\, l}}}}{r_{a}} - \\frac{r_{m}^{2} j_{m}\\left(r_{m}, \\theta_{m}\\right) \\sin\\left(\\theta_{m}\\right) {\\sum_{l=0}^{+\\infty} \\frac{r_{m}^{l} S_{l}\\left(l, \\theta_{m}, \\theta_{a}\\right)}{r_{a}^{l}}}}{r_{a}^{2}}\\,{d \\theta_{m}}\\,{d r_{m}}$"
      ],
      "text/plain": [
       "<IPython.core.display.Math object>"
      ]
     },
     "metadata": {},
     "output_type": "display_data"
    }
   ],
   "source": [
    "eq1 = - A_q(r_a, theta_a).diff(r_a) == \\\n",
    "    definite_integral( \\\n",
    "        definite_integral( (j_m(r_m = r_m, theta_m = theta_m) * \\\n",
    "            (sin(theta_m)*r_m^2/r_a) * \\\n",
    "                symbolic_sum((r_m/r_a)^l * S_l(l=l, theta_m=theta_m, theta_a=theta_a), l, 0, Infinity)).diff(r_a)\\\n",
    "                    , theta_m, 0, pi, hold=True) \\\n",
    "                        , r_m, 0, r_a, hold=True) + \\\n",
    "    definite_integral( \\\n",
    "        definite_integral( (j_m(r_m = r_m, theta_m = theta_m) * \\\n",
    "            (sin(theta_m)*r_m) * \\\n",
    "                symbolic_sum((r_a/r_m)^l * S_l(l=l, theta_m=theta_m, theta_a=theta_a), l, 0, Infinity)).diff(r_a)\\\n",
    "                    , theta_m, 0, pi, hold=True)\n",
    "                        , r_m, r_a, Infinity, hold=True) + \\\n",
    "    definite_integral( (j_m(r_m = r_m, theta_m = theta_m) * \\\n",
    "        (sin(theta_m)*r_m^2/r_a) * \\\n",
    "            symbolic_sum((r_m/r_a)^l * S_l(l=l, theta_m=theta_m, theta_a=theta_a), l, 0, Infinity)).subs(r_m == r_a)\\\n",
    "                , theta_m, 0, pi, hold=True) - \\\n",
    "    definite_integral( (j_m(r_m = r_m, theta_m = theta_m) * \\\n",
    "        (sin(theta_m)*r_m) * \\\n",
    "            symbolic_sum((r_a/r_m)^l * S_l(l=l, theta_m=theta_m, theta_a=theta_a), l, 0, Infinity)).subs(r_m == r_a)\\\n",
    "                , theta_m, 0, pi, hold=True)\n",
    "\n",
    "disp(eq1)"
   ]
  },
  {
   "cell_type": "markdown",
   "id": "a4f79a28",
   "metadata": {},
   "source": [
    "\\begin{equation}\n",
    "\\begin{array}{c}\n",
    "\\frac{сtg \\, \\theta_a}{r_a^2} = \n",
    "-\\int\\limits_{r_m=0}^{r_a}\\,\\int\\limits_{\\theta_m=0}^{\\pi}\\,\\frac{j_m(r_m, \\theta_m)}{c}\\,\\left(\\frac{\\sin \\theta_m\\, r_m^2}{r_a^2} \\sum\\limits_{l=0}^{\\infty }\\left(l+1\\right){{\\left( \\frac{{r_m}}{{r_a}} \\right)}^{l}}S_{l}(\\theta_m, \\theta_a) \\right)\\, d \\theta_m \\,d r_m  \\\\\n",
    "+\\int\\limits_{r_m=r_a}^{\\infty}\\,\\int\\limits_{\\theta_m=0}^{\\pi}\\,\\frac{j_m(r_m, \\theta_m)}{c} \\,\\left(\\frac{\\sin \\theta_m\\,r_m}{r_a} \\sum\\limits_{l=0}^{\\infty }l{{\\left( \\frac{{r_a}}{{r_m}} \\right)}^{l}}S_{l}(\\theta_m, \\theta_a) \\right) \\, d \\theta_m \\,d r_m\n",
    "\\end{array}\n",
    "\\end{equation}"
   ]
  },
  {
   "cell_type": "code",
   "execution_count": 10,
   "id": "4bbd5228",
   "metadata": {},
   "outputs": [
    {
     "data": {
      "text/latex": [
       "$\\displaystyle \\frac{\\cot\\left(\\theta_{a}\\right)}{r_{a}^{2}} = \\int_{r_{a}}^{+\\infty} \\int_{0}^{\\pi} \\frac{r_{m} j_{m}\\left(r_{m}, \\theta_{m}\\right) \\sin\\left(\\theta_{m}\\right) {\\sum_{l=0}^{+\\infty} \\frac{l r_{a}^{l} S_{l}\\left(l, \\theta_{m}, \\theta_{a}\\right)}{r_{m}^{l}}}}{r_{a}}\\,{d \\theta_{m}}\\,{d r_{m}} - \\int_{0}^{r_{a}} \\int_{0}^{\\pi} \\frac{r_{m}^{2} j_{m}\\left(r_{m}, \\theta_{m}\\right) \\sin\\left(\\theta_{m}\\right) {\\sum_{l=0}^{+\\infty} \\frac{{\\left(l + 1\\right)} r_{m}^{l} S_{l}\\left(l, \\theta_{m}, \\theta_{a}\\right)}{r_{a}^{l}}}}{r_{a}^{2}}\\,{d \\theta_{m}}\\,{d r_{m}}$"
      ],
      "text/plain": [
       "<IPython.core.display.Math object>"
      ]
     },
     "metadata": {},
     "output_type": "display_data"
    }
   ],
   "source": [
    "eq1 = - A_q(r_a, theta_a).diff(r_a) == \\\n",
    "    definite_integral(definite_integral( \\\n",
    "        j_m(r_m=r_m, theta_m=theta_m) * \\\n",
    "        sin(theta_m)*r_m/r_a*sum(l*(r_a/r_m)^l*S_l(l=l, theta_m=theta_m, theta_a=theta_a), l, 0, +Infinity) \\\n",
    "            , theta_m, 0, pi, hold=True) \\\n",
    "                , r_m, r_a, +Infinity, hold=True) \\\n",
    "    - definite_integral(definite_integral( \\\n",
    "         r_m*j_m(r_m=r_m, theta_m=theta_m) * sin(theta_m)*r_m/r_a^2*\\\n",
    "            sum((l+1)*(r_m/r_a)^(l)*S_l(l=l, theta_m=theta_m, theta_a=theta_a), l, 0, +Infinity) \\\n",
    "                , theta_m, 0, pi, hold=True) \\\n",
    "                    , r_m, 0, r_a, hold=True)\n",
    "disp(eq1)"
   ]
  },
  {
   "cell_type": "markdown",
   "id": "21ed4e3d",
   "metadata": {},
   "source": [
    "Ещё раз дифференцируем обе части интегрального уравнения по $r_a$"
   ]
  },
  {
   "cell_type": "markdown",
   "id": "dd782c40",
   "metadata": {},
   "source": [
    "\\begin{equation}\n",
    "\\begin{array}{c}\n",
    "-\\,2\\,\\frac{сtg \\, \\theta_a}{r_a^3} = \n",
    "-\\int\\limits_{r_m=0}^{r_a}\\,\\int\\limits_{\\theta_m=0}^{\\pi}\\,\\frac{j_m(r_m, \\theta_m)}{c}\\,\\frac{d}{dr_a}\\left(\\frac{\\sin \\theta_m\\, r_m^2}{r_a^2} \\sum\\limits_{l=0}^{\\infty }\\left(l+1\\right){{\\left( \\frac{{r_m}}{{r_a}} \\right)}^{l}}S_{l}(\\theta_m, \\theta_a) \\right)\\, d \\theta_m \\,d r_m  \\\\\n",
    "+\\int\\limits_{r_m=r_a}^{\\infty}\\,\\int\\limits_{\\theta_m=0}^{\\pi}\\,\\frac{j_m(r_m, \\theta_m)}{c} \\,\\frac{d}{dr_a}\\left(\\frac{\\sin \\theta_m\\,r_m}{r_a} \\sum\\limits_{l=0}^{\\infty }l{{\\left( \\frac{{r_a}}{{r_m}} \\right)}^{l}}S_{l}(\\theta_m, \\theta_a) \\right) \\, d \\theta_m \\,d r_m \\\\\n",
    "-\\int\\limits_{\\theta_m=0}^{\\pi}\\,\\frac{j_m(r_a, \\theta_m)}{c}\\,\\left(\\frac{\\sin \\theta_m\\, r_m^2}{r_a^2} \\sum\\limits_{l=0}^{\\infty }\\left(l+1\\right){{\\left( \\frac{{r_m}}{{r_a}} \\right)}^{l}}S_{l}(\\theta_m, \\theta_a) \\right)_{r_m = r_a}\\, d \\theta_m  \\\\\n",
    "-\\int\\limits_{\\theta_m=0}^{\\pi}\\,\\frac{j_m(r_a, \\theta_m)}{c} \\,\\left(\\frac{\\sin \\theta_m\\,r_m}{r_a} \\sum\\limits_{l=0}^{\\infty }l{{\\left( \\frac{{r_a}}{{r_m}} \\right)}^{l}}S_{l}(\\theta_m, \\theta_a) \\right)_{r_m = r_a} \\, d \\theta_m\n",
    "\\end{array}\n",
    "\\end{equation}"
   ]
  },
  {
   "cell_type": "markdown",
   "id": "3328cf96",
   "metadata": {},
   "source": [
    "\\begin{equation}\n",
    "\\begin{array}{c}\n",
    "-\\,2\\,\\frac{сtg \\, \\theta_a}{r_a^3} = \n",
    "-\\int\\limits_{r_m=0}^{r_a}\\,\\int\\limits_{\\theta_m=0}^{\\pi}\\,\\frac{j_m(r_m, \\theta_m)}{c}\\,\\frac{d}{dr_a}\\left(\\frac{\\sin \\theta_m\\, r_m^2}{r_a^2} \\sum\\limits_{l=0}^{\\infty }\\left(l+1\\right){{\\left( \\frac{{r_m}}{{r_a}} \\right)}^{l}}S_{l}(\\theta_m, \\theta_a) \\right)\\, d \\theta_m \\,d r_m  \\\\\n",
    "+\\int\\limits_{r_m=r_a}^{\\infty}\\,\\int\\limits_{\\theta_m=0}^{\\pi}\\,\\frac{j_m(r_m, \\theta_m)}{c} \\,\\frac{d}{dr_a}\\left(\\frac{\\sin \\theta_m\\, r_m}{r_a} \\sum\\limits_{l=0}^{\\infty }l{{\\left( \\frac{{r_a}}{{r_m}} \\right)}^{l}}S_{l}(\\theta_m, \\theta_a) \\right) \\, d \\theta_m \\,d r_m \\\\\n",
    "-\\int\\limits_{\\theta_m=0}^{\\pi}\\,\\frac{j_m(r_a, \\theta_m)}{c}\\,\\left({\\sin \\theta_m} \\sum\\limits_{l=0}^{\\infty }\\left(l+1\\right)\\,S_{l}(\\theta_m, \\theta_a) \\right) \\, d \\theta_m  \\\\\n",
    "-\\int\\limits_{\\theta_m=0}^{\\pi}\\,\\frac{j_m(r_a, \\theta_m)}{c} \\,\\left({\\sin \\theta_m} \\sum\\limits_{l=0}^{\\infty }l\\,S_{l}(\\theta_m, \\theta_a) \\right) \\, d \\theta_m\n",
    "\\end{array}\n",
    "\\end{equation}"
   ]
  },
  {
   "cell_type": "markdown",
   "id": "3ab716f2",
   "metadata": {},
   "source": [
    "\\begin{equation}\n",
    "\\begin{array}{c}\n",
    "-\\,2\\,\\frac{сtg \\, \\theta_a}{r_a^3} = \n",
    "-\\int\\limits_{r_m=0}^{r_a}\\,\\int\\limits_{\\theta_m=0}^{\\pi}\\,\\frac{j_m(r_m, \\theta_m)}{c}\\,\\frac{d}{dr_a}\\left(\\frac{\\sin \\theta_m\\, r_m^2}{r_a^2} \\sum\\limits_{l=0}^{\\infty }\\left(l+1\\right){{\\left( \\frac{{r_m}}{{r_a}} \\right)}^{l}}S_{l}(\\theta_m, \\theta_a) \\right)\\, d \\theta_m \\,d r_m  \\\\\n",
    "+\\int\\limits_{r_m=r_a}^{\\infty}\\,\\int\\limits_{\\theta_m=0}^{\\pi}\\,\\frac{j_m(r_m, \\theta_m)}{c} \\,\\frac{d}{dr_a}\\left(\\frac{\\sin \\theta_m\\,r_m}{r_a} \\sum\\limits_{l=0}^{\\infty }l{{\\left( \\frac{{r_a}}{{r_m}} \\right)}^{l}}S_{l}(\\theta_m, \\theta_a) \\right) \\, d \\theta_m \\,d r_m \\\\\n",
    "-\\int\\limits_{\\theta_m=0}^{\\pi}\\,\\frac{j_m(r_a, \\theta_m)}{c}\\,\\left({\\sin \\theta_m} \\sum\\limits_{l=0}^{\\infty }\\left(2\\,l+1\\right)\\,S_{l}(\\theta_m, \\theta_a) \\right) \\, d \\theta_m\n",
    "\\end{array}\n",
    "\\end{equation}"
   ]
  },
  {
   "cell_type": "markdown",
   "id": "b4785159",
   "metadata": {},
   "source": [
    "\\begin{equation}\n",
    "\\begin{array}{c}\n",
    "-\\,c\\,\\frac{2 \\, ctg\\left(\\theta_{a}\\right)}{r_{a}^{3}} = \n",
    "-\\int\\limits_{0}^{\\pi} {j_{m}\\left(r_{a}, \\theta_{m}\\right) \\sin\\left(\\theta_{m}\\right) {\\sum\\limits_{l=0}^{+\\infty} {\\left(2 \\, l + 1\\right)} S_{l}\\left(l, \\theta_{m}, \\theta_{a}\\right)}}\\,{d \\theta_{m}} \\\\\n",
    "+ \\frac{1}{r_{a}^{3}}\\int\\limits_{0}^{r_{a}} \\int\\limits_{0}^{\\pi} {r_{m}^2 \\,j_{m}\\left(r_{m}, \\theta_{m}\\right) \\sin\\left(\\theta_{m}\\right) {\\sum\\limits_{l=0}^{+\\infty} {{\\left(l^{2} + 3 \\, l + 2\\right)} \\left(\\frac{r_{m}}{r_{a}}\\right)^{l} S_{l}\\left(l, \\theta_{m}, \\theta_{a}\\right)}}}\\,{d \\theta_{m}}\\,{d r_{m}} \\\\\n",
    "+ \\frac{1}{r_{a}^{2}}\\int\\limits_{r_{a}}^{+\\infty} \\int\\limits_{0}^{\\pi} {r_m \\,j_{m}\\left(r_{m}, \\theta_{m}\\right) \\sin\\left(\\theta_{m}\\right) {\\sum\\limits_{l=0}^{+\\infty} {{\\left(l^{2} - l\\right)} \\left(\\frac{r_{a}}{r_{m}}\\right)^{l} S_{l}\\left(l, \\theta_{m}, \\theta_{a}\\right)}{}}}\\,{d \\theta_{m}}\\,{d r_{m}} \n",
    "\\end{array}\n",
    "\\end{equation}"
   ]
  },
  {
   "cell_type": "markdown",
   "id": "9ea27182",
   "metadata": {},
   "source": [
    "Таким образом, с помощью двукратного дифференцирования удалось вытащить неизвестную функцию из под двукратного интеграла в однократный. "
   ]
  },
  {
   "cell_type": "markdown",
   "id": "f5279f25",
   "metadata": {},
   "source": [
    "Интегральное уравнение можно упростить введя выражение ядер интегрирования\n",
    "\n",
    "$K_1(\\theta_m, \\theta_a) = \\sin\\left(\\theta_{m}\\right) {\\sum\\limits_{l=0}^{+\\infty} {\\left(2 \\, l + 1\\right)} S_{l}\\left(l, \\theta_{m}, \\theta_{a}\\right)}$\n",
    "\n",
    "$K_2(r_m, r_a, \\theta_m, \\theta_a) = \\sin\\left(\\theta_{m}\\right) {\\sum\\limits_{l=0}^{+\\infty}{\\left(l^{2} + 3 \\, l + 2\\right)} \\left(\\frac{r_m}{r_a}\\right)^l} S_{l}\\left(l, \\theta_{m}, \\theta_{a}\\right)$\n",
    "\n",
    "$K_3(r_m, r_a, \\theta_m, \\theta_a) = \\sin\\left(\\theta_{m}\\right) {\\sum\\limits_{l=0}^{+\\infty} {\\left(l^{2} - l\\right)}\\left(\\frac{r_a}{r_m}\\right)^l}S_{l}\\left(l, \\theta_{m}, \\theta_{a}\\right)$\n"
   ]
  },
  {
   "cell_type": "markdown",
   "id": "9dc111d2",
   "metadata": {},
   "source": [
    "Обозначим\n",
    "\n",
    "\\begin{equation}\n",
    "\\begin{array}{rl}\n",
    "Q_{l}\\left(\\theta_m, \\theta_a\\right) = & \\\\\n",
    "& sin\\left(\\theta_m\\right)\\,S_{l}\\left(\\theta_m, \\theta_a\\right) = \\\\\n",
    "& \n",
    "\\begin{array}{ll}\n",
    "\\,\\,\\,\\,& sin\\left(\\theta_m\\right)\\,\\left(\\int\\limits_{{\\left(\\varphi_m - \\varphi_a\\right)}=0}^{2\\pi}\\,{cos\\,{{\\left(\\varphi_m - \\varphi_a\\right)} } }{P_l} \\cos \\left( \\gamma  \\right)\\, d {\\left(\\varphi_m - \\varphi_a\\right)}\\right)\n",
    "\\end{array}\n",
    "\\end{array}\n",
    "\\end{equation}"
   ]
  },
  {
   "cell_type": "code",
   "execution_count": 11,
   "id": "3baae13c",
   "metadata": {},
   "outputs": [],
   "source": [
    "def Q_l(l, theta_m, theta_a):\n",
    "    return sin(theta_m) * S_l(l=l, theta_m=theta_m, theta_a=theta_a)"
   ]
  },
  {
   "cell_type": "code",
   "execution_count": 12,
   "id": "72380cec",
   "metadata": {},
   "outputs": [],
   "source": [
    "def Kr2(l, r_m, r_a):\n",
    "    return (r_m/r_a)^l\n",
    "def Kr3(l, r_m, r_a):\n",
    "    return (r_a/r_m)^l"
   ]
  },
  {
   "cell_type": "code",
   "execution_count": 13,
   "id": "ce313a84",
   "metadata": {},
   "outputs": [],
   "source": [
    "def Kl1(l):\n",
    "    return (2*l + 1)\n",
    "def Kl2(l):\n",
    "    return (l^2 + 3*l + 2)\n",
    "def Kl3(l):\n",
    "    return (l^2 - l)"
   ]
  },
  {
   "cell_type": "code",
   "execution_count": 14,
   "id": "60825b8f",
   "metadata": {},
   "outputs": [],
   "source": [
    "def K1(l, theta_m, theta_a):\n",
    "    return Kl1(l) * Q_l(l, theta_m, theta_a)\n",
    "def K2(l, r_m, r_a, theta_m, theta_a):\n",
    "    return Kl2(l) * Kr2(l, r_m, r_a) * Q_l(l, theta_m, theta_a)\n",
    "def K3(l, r_m, r_a, theta_m, theta_a):\n",
    "    return Kl3(l) * Kr3(l, r_m, r_a) * Q_l(l, theta_m, theta_a)"
   ]
  },
  {
   "cell_type": "code",
   "execution_count": 15,
   "id": "8243d0f3",
   "metadata": {},
   "outputs": [],
   "source": [
    "K_1 = function(\"K_1\")(theta_m, theta_a)\n",
    "K_2 = function(\"K_2\")(r_m, r_a, theta_m, theta_a)\n",
    "K_3 = function(\"K_3\")(r_m, r_a, theta_m, theta_a)"
   ]
  },
  {
   "cell_type": "markdown",
   "id": "d542ced3",
   "metadata": {},
   "source": [
    "Таким образом краткая запись интегрального уравнения имеет вид\n",
    "\n",
    "\\begin{equation}\n",
    "\\begin{array}{c}\n",
    "-\\,c\\,\\frac{2 \\, \\cot\\left(\\theta_{a}\\right)}{r_{a}^{3}} = \n",
    "-\\,\\int\\limits_{0}^{\\pi} j_{m}\\left(r_{a}, \\theta_{m}\\right)\n",
    "K_1(\\theta_m, \\theta_a)\n",
    "\\,{d \\theta_{m}} \\\\\n",
    "+ \\frac{1}{r_a^3}\\int\\limits_{0}^{r_{a}} r_{m}^2 \\int\\limits_{0}^{\\pi}\n",
    "j_{m}\\left(r_{m}, \\theta_{m}\\right)\n",
    "K_2(r_m, r_a, \\theta_m, \\theta_a)\n",
    "\\,{d \\theta_{m}}\\,{d r_{m}} \\\\\n",
    "+ \\frac{1}{r_a^2}\\int\\limits_{r_{a}}^{+\\infty} r_m \\int\\limits_{0}^{\\pi}\n",
    "j_{m}\\left(r_{m}, \\theta_{m}\\right)\n",
    "K_3(r_m, r_a, \\theta_m, \\theta_a)\n",
    "\\,{d \\theta_{m}}\\,{d r_{m}} \n",
    "\\end{array}\n",
    "\\end{equation}"
   ]
  },
  {
   "cell_type": "markdown",
   "id": "2f040dfd",
   "metadata": {},
   "source": [
    "Теперь, поскольку ввиду симметричных свойств первого ядра интегрирования тем же самым приёмом вытащить неизвестную функцию из под полученного однократного интеграла не удаётся, можно попытаться разделить переменные в неизвестной функции"
   ]
  },
  {
   "cell_type": "markdown",
   "id": "ca5c8f2c",
   "metadata": {},
   "source": [
    "Неизвестные функции\n",
    "\n",
    "$j_m(r_m, \\theta_m) = j_r(r_m) \\, j_{\\theta}(\\theta_m) = q_r(r_m) \\, q_{\\theta}(\\theta_m)\\, \\omega_{r} (r_m)\\, \\omega_{\\theta} (\\theta_m) \\, r_m \\, \\sin \\theta_m$ - плотность магнитного тока"
   ]
  },
  {
   "cell_type": "code",
   "execution_count": 16,
   "id": "1fae2ffa",
   "metadata": {},
   "outputs": [],
   "source": [
    "j_r = function(\"j_r\")(r_m)\n",
    "j_t = function(\"j_theta\")(theta_m)\n",
    "c = var(\"c\")"
   ]
  },
  {
   "cell_type": "code",
   "execution_count": 17,
   "id": "bcdf338d",
   "metadata": {},
   "outputs": [
    {
     "data": {
      "text/latex": [
       "$\\displaystyle -\\frac{2 \\, c \\cot\\left(\\theta_{a}\\right)}{r_{a}^{3}} = -\\int_{0}^{\\pi} K_{1}\\left(\\theta_{m}, \\theta_{a}\\right) j_{\\theta}\\left(\\theta_{m}\\right)\\,{d \\theta_{m}} j_{r}\\left(r_{a}\\right) + \\frac{\\int_{r_{a}}^{+\\infty} r_{m} \\int_{0}^{\\pi} K_{3}\\left(r_{m}, r_{a}, \\theta_{m}, \\theta_{a}\\right) j_{\\theta}\\left(\\theta_{m}\\right)\\,{d \\theta_{m}} j_{r}\\left(r_{m}\\right)\\,{d r_{m}}}{r_{a}^{2}} + \\frac{\\int_{0}^{r_{a}} r_{m}^{2} \\int_{0}^{\\pi} K_{2}\\left(r_{m}, r_{a}, \\theta_{m}, \\theta_{a}\\right) j_{\\theta}\\left(\\theta_{m}\\right)\\,{d \\theta_{m}} j_{r}\\left(r_{m}\\right)\\,{d r_{m}}}{r_{a}^{3}}$"
      ],
      "text/plain": [
       "<IPython.core.display.Math object>"
      ]
     },
     "metadata": {},
     "output_type": "display_data"
    }
   ],
   "source": [
    "eq1 = - c * A_q(r_a, theta_a).diff(r_a).diff(r_a) == \\\n",
    "    -j_r(r_m=r_a) * integrate( \\\n",
    "        j_t(theta_m=theta_m)*K_1(theta_m=theta_m, theta_a=theta_a) \\\n",
    "                , theta_m, 0, pi, hold=True) \\\n",
    "    + (1/r_a^3) * integrate(r_m^2*j_r(r_m=r_m)*integrate( \\\n",
    "        j_t(theta_m=theta_m) * K_2(r_m=r_m, r_a=r_a, theta_m=theta_m, theta_a=theta_a) \\\n",
    "                , theta_m, 0, pi, hold=True) \\\n",
    "                    , r_m, 0, r_a, hold=True) \\\n",
    "    + (1/r_a^2)*integrate(r_m*j_r(r_m=r_m)*integrate( \\\n",
    "        j_t(theta_m=theta_m) * K_3(r_m=r_m, r_a=r_a, theta_m=theta_m, theta_a=theta_a) \\\n",
    "                , theta_m, 0, pi, hold=True) \\\n",
    "                    , r_m, r_a, +Infinity, hold=True)\n",
    "\n",
    "disp(eq1)"
   ]
  },
  {
   "cell_type": "markdown",
   "id": "54a2c6b7",
   "metadata": {},
   "source": [
    "\\begin{equation}\n",
    "\\begin{array}{c}\n",
    "-\\frac{2 \\, \\cot\\left(\\theta_{a}\\right)}{r_{a}^{3}} = \n",
    "-\\frac{j_r(r_a)}{c} \\, \\int\\limits_{0}^{\\pi} j_{\\theta}(\\theta_m)\n",
    "K_1(\\theta_m, \\theta_a)\n",
    "\\,{d \\theta_{m}} \\\\\n",
    "+ \\frac{1}{r_a^3}\\int\\limits_{0}^{r_{a}} r_m^2 \\,\\frac{j_r(r_m)}{c} \\, \\int\\limits_{0}^{\\pi}\n",
    "j_{\\theta}(\\theta_m)\n",
    "K_2(r_m, r_a, \\theta_m, \\theta_a)\n",
    "\\,{d \\theta_{m}}\\,{d r_{m}}\n",
    "+ \\frac{1}{r_a^2}\\int\\limits_{r_{a}}^{+\\infty} r_m\\,\\frac{j_r(r_m)}{c} \\, \\int\\limits_{0}^{\\pi}\n",
    "j_{\\theta}(\\theta_m)\n",
    "K_3(r_m, r_a, \\theta_m, \\theta_a)\n",
    "\\,{d \\theta_{m}}\\,{d r_{m}} \n",
    "\\end{array}\n",
    "\\end{equation}"
   ]
  },
  {
   "cell_type": "code",
   "execution_count": null,
   "id": "17ac07b1",
   "metadata": {},
   "outputs": [],
   "source": []
  },
  {
   "cell_type": "markdown",
   "id": "6df42835",
   "metadata": {},
   "source": [
    "$$\\begin{array}{c}\n",
    "\\frac{j_r(r_a)}{r} \\, \\int\\limits_{0}^{\\pi} j_{\\theta}(\\theta_m) K_1(\\theta_m, \\theta_a)\n",
    "\\,{d \\theta_{m}} = \\\\\n",
    "\\frac{2 \\, \\cot\\left(\\theta_{a}\\right)}{r_{a}^{3}}\n",
    "+ \\frac{1}{r_a^3}\\int\\limits_{0}^{r_{a}} r_m^2 \\,\\frac{j_r(r_m)}{r} \\, \\int\\limits_{0}^{\\pi}\n",
    "j_{\\theta}(\\theta_m)\n",
    "K_2(r_m, r_a, \\theta_m, \\theta_a)\n",
    "\\,{d \\theta_{m}}\\,{d r_{m}} \\\\\n",
    "+ \\frac{1}{r_a^2}\\int\\limits_{r_{a}}^{+\\infty} r_m \\, \\frac{j_r(r_m)}{c} \\, \\int\\limits_{0}^{\\pi}\n",
    "j_{\\theta}(\\theta_m)\n",
    "K_3(r_m, r_a, \\theta_m, \\theta_a)\n",
    "\\,{d \\theta_{m}}\\,{d r_{m}} \n",
    "\\end{array}$$"
   ]
  },
  {
   "cell_type": "markdown",
   "id": "c2eff014",
   "metadata": {},
   "source": [
    "Введя обозначение\n",
    "\n",
    "$$L\\left(j_{\\theta}, \\theta_a\\right)={\\int\\limits_{0}^{\\pi} j_{\\theta}(\\theta_m) K_1(\\theta_m, \\theta_a)\\,{d \\theta_{m}}}$$"
   ]
  },
  {
   "cell_type": "markdown",
   "id": "d7995a0b",
   "metadata": {},
   "source": [
    "$$L\\left(j_{\\theta}, \\theta_a\\right)={\\int\\limits_{0}^{\\pi} j_{\\theta}(\\theta_m) \\sin\\left(\\theta_{m}\\right) {\\sum\\limits_{l=0}^{+\\infty} {\\left(2 \\, l + 1\\right)} S_{l}\\left(l, \\theta_{m}, \\theta_{a}\\right)}\\,{d \\theta_{m}}}$$"
   ]
  },
  {
   "cell_type": "markdown",
   "id": "03523a8b",
   "metadata": {},
   "source": [
    "$$L\\left(j_{\\theta}, \\theta_a\\right)={\\sum\\limits_{l=0}^{+\\infty} {\\left(2 \\, l + 1\\right)}\\int\\limits_{0}^{\\pi} j_{\\theta}(\\theta_m) \\sin\\left(\\theta_{m}\\right) { S_{l}\\left(l, \\theta_{m}, \\theta_{a}\\right)}\\,{d \\theta_{m}}}$$"
   ]
  },
  {
   "cell_type": "markdown",
   "id": "98c76bf7",
   "metadata": {},
   "source": [
    "Введя также обозначение\n",
    "\n",
    "$$M_l\\left(j_{\\theta}, \\theta_a\\right)={\\int\\limits_{0}^{\\pi} j_{\\theta}(\\theta_m)\\,S_l(\\theta_m, \\theta_a)\\,sin\\left(\\theta_m\\right)\\,{d \\theta_{m}}}$$"
   ]
  },
  {
   "cell_type": "markdown",
   "id": "cc48b90f",
   "metadata": {},
   "source": [
    "$$M_l\\left(j_{\\theta}, \\theta_a\\right)={\\int\\limits_{0}^{\\pi} j_{\\theta}(\\theta_m)\\,Q_l(\\theta_m, \\theta_a)\\,{d \\theta_{m}}}$$"
   ]
  },
  {
   "cell_type": "markdown",
   "id": "8aac05df",
   "metadata": {},
   "source": [
    "$$m_l\\left(j_{\\theta}, \\theta_a\\right)= j_{\\theta}(\\theta_m)\\,Q_l(\\theta_m, \\theta_a)$$"
   ]
  },
  {
   "cell_type": "code",
   "execution_count": 18,
   "id": "e84d7bb2",
   "metadata": {},
   "outputs": [],
   "source": [
    "def ml(l, j_theta, theta_a):\n",
    "    # return j_theta(theta_m=theta_m) * Q_l(l, theta_m, theta_a)\n",
    "    return j_theta(theta_m=theta_m) * sin(theta_m) * legendre_sum_A_ring_sympy(l, theta_m, theta_a)\n",
    "\n",
    "def Ml(l, j_theta, theta_a):\n",
    "    return integrate(ml(l=l, j_theta=j_theta, theta_a=theta_a), theta_m, 0, pi, hold=False)"
   ]
  },
  {
   "cell_type": "markdown",
   "id": "7d369150",
   "metadata": {},
   "source": [
    "$$L\\left(j_{\\theta}, \\theta_a\\right)={\\sum\\limits_{l=0}^{+\\infty} {\\left(2 \\, l + 1\\right)}M_l\\left(j_{\\theta}, \\theta_a\\right)}$$"
   ]
  },
  {
   "cell_type": "code",
   "execution_count": 19,
   "id": "43c0cc2e",
   "metadata": {},
   "outputs": [],
   "source": [
    "L = var(\"L\")"
   ]
  },
  {
   "cell_type": "raw",
   "id": "adb53791",
   "metadata": {},
   "source": [
    "def Ll(L, j_theta, theta_a):\n",
    "    return (sum(Kl1(l) * integrate(j_theta(theta_m=theta_m) * Q_l(l, theta_m, theta_a), theta_m, 0, pi, hold=True)), l, 0, L)"
   ]
  },
  {
   "cell_type": "markdown",
   "id": "caa1db1d",
   "metadata": {},
   "source": [
    "Получаем интегральное уравнение, записанное в виде, пригодном для итерационной процедуры\n",
    "\n",
    "\\begin{equation}\n",
    "\\begin{array}{c}\n",
    "\\frac{j_r(r_a)}{c} = \n",
    "\\frac{2 \\, \\cot\\left(\\theta_{a}\\right)}{r_{a}^{3}}\\,\\frac{1}{L\\left(j_{\\theta}, \\theta_a\\right)}\n",
    "+ \\frac{1}{L\\left(j_{\\theta}, \\theta_a\\right)}\\frac{1}{r_a^3}\\int\\limits_{0}^{r_{a}} r_m^2 \\,\\frac{j_r(r_m)}{c} \\, \\int\\limits_{0}^{\\pi}\n",
    "j_{\\theta}(\\theta_m)\n",
    "K_2(r_m, r_a, \\theta_m, \\theta_a)\n",
    "\\,{d \\theta_{m}}\\,{d r_{m}} \\\\\n",
    "+ \\frac{1}{L\\left(j_{\\theta}, \\theta_a\\right)}\\frac{1}{r_a^2}\\int\\limits_{r_{a}}^{+\\infty} r_m\\,\\frac{j_r(r_m)}{c} \\, \\int\\limits_{0}^{\\pi}\n",
    "j_{\\theta}(\\theta_m)\n",
    "K_3(r_m, r_a, \\theta_m, \\theta_a)\n",
    "\\,{d \\theta_{m}}\\,{d r_{m}} \n",
    "\\end{array}\n",
    "\\end{equation}"
   ]
  },
  {
   "cell_type": "markdown",
   "id": "b67f94f9",
   "metadata": {},
   "source": [
    "Получаем интегральное уравнение, записанное в виде, пригодном для итерационной процедуры\n",
    "\n",
    "\\begin{equation}\n",
    "\\begin{array}{c}\n",
    "\\frac{j_r(r_a)}{c} = \\frac{1}{L\\left(j_{\\theta}, \\theta_a\\right)} \\left(\n",
    "\\frac{2 \\, \\cot\\left(\\theta_{a}\\right)}{r_{a}^{3}}\\,\n",
    "+ \\frac{1}{r_a^3}\\int\\limits_{0}^{r_{a}} r_m^2 \\,\\frac{j_r(r_m)}{c} \\, \\int\\limits_{0}^{\\pi}\n",
    "j_{\\theta}(\\theta_m)\n",
    "K_2(r_m, r_a, \\theta_m, \\theta_a)\n",
    "\\,{d \\theta_{m}}\\,{d r_{m}} \\\\\n",
    "+ \\frac{1}{r_a^2}\\int\\limits_{r_{a}}^{+\\infty} r_m\\,\\frac{j_r(r_m)}{r} \\, \\int\\limits_{0}^{\\pi}\n",
    "j_{\\theta}(\\theta_m)\n",
    "K_3(r_m, r_a, \\theta_m, \\theta_a)\n",
    "\\,{d \\theta_{m}}\\,{d r_{m}} \\right)\n",
    "\\end{array}\n",
    "\\end{equation}"
   ]
  },
  {
   "cell_type": "markdown",
   "id": "47442364",
   "metadata": {},
   "source": [
    "Подставляем ядра интегрирования\n",
    "\n",
    "\\begin{equation}\n",
    "\\begin{array}{c}\n",
    "\\frac{j_r(r_a)}{c} = \\frac{1}{L\\left(j_{\\theta}, \\theta_a\\right)} \\left(\n",
    "\\frac{2 \\, \\cot\\left(\\theta_{a}\\right)}{r_{a}^{3}}\\, +\\\\\n",
    "+ \\frac{1}{r_a^3}\\int\\limits_{0}^{r_{a}} r_m^2 \\,\\frac{j_r(r_m)}{c} \\, \\int\\limits_{0}^{\\pi}\n",
    "j_{\\theta}(\\theta_m)\n",
    "\\sin\\left(\\theta_{m}\\right) {\\sum\\limits_{l=0}^{+\\infty}{\\left(l^{2} + 3 \\, l + 2\\right)} \\left(\\frac{r_m}{r_a}\\right)^l} S_{l}\\left(l, \\theta_{m}, \\theta_{a}\\right)\n",
    "\\,{d \\theta_{m}}\\,{d r_{m}} \\\\\n",
    "+ \\frac{1}{r_a^2}\\int\\limits_{r_{a}}^{+\\infty} r_m\\,\\frac{j_r(r_m)}{c} \\, \\int\\limits_{0}^{\\pi}\n",
    "j_{\\theta}(\\theta_m)\n",
    "\\sin\\left(\\theta_{m}\\right) {\\sum\\limits_{l=0}^{+\\infty} {\\left(l^{2} - l\\right)}\\left(\\frac{r_a}{r_m}\\right)^l}S_{l}\\left(l, \\theta_{m}, \\theta_{a}\\right)\n",
    "\\,{d \\theta_{m}}\\,{d r_{m}} \\right)\n",
    "\\end{array}\n",
    "\\end{equation}"
   ]
  },
  {
   "cell_type": "markdown",
   "id": "f180d912",
   "metadata": {},
   "source": [
    "Меняем порядок интегрирования и суммирования\n",
    "\n",
    "\\begin{equation}\n",
    "\\begin{array}{c}\n",
    "\\frac{j_r(r_a)}{c} = \\frac{1}{L\\left(j_{\\theta}, \\theta_a\\right)} \\left(\n",
    "\\frac{2 \\, c\\,\\cot\\left(\\theta_{a}\\right)}{r_{a}^{3}}\\, +\\\\\n",
    "+ \\frac{1}{r_a^3}\\sum\\limits_{l=0}^{+\\infty}{\\left(l^{2} + 3 \\, l + 2\\right)} \\int\\limits_{0}^{r_{a}} r_m^2 \\,\\frac{j_r(r_m)}{c} \\, \\int\\limits_{0}^{\\pi}\n",
    "j_{\\theta}(\\theta_m)\n",
    "\\sin\\left(\\theta_{m}\\right) { \\left(\\frac{r_m}{r_a}\\right)^l} S_{l}\\left(l, \\theta_{m}, \\theta_{a}\\right)\n",
    "\\,{d \\theta_{m}}\\,{d r_{m}} \\\\\n",
    "+ \\frac{1}{r_a^2}\\sum\\limits_{l=0}^{+\\infty} {\\left(l^{2} - l\\right)}\\int\\limits_{r_{a}}^{+\\infty} r_m \\, \\frac{j_r(r_m)}{c} \\, \\int\\limits_{0}^{\\pi}\n",
    "j_{\\theta}(\\theta_m)\n",
    "\\sin\\left(\\theta_{m}\\right) {\\left(\\frac{r_a}{r_m}\\right)^l}S_{l}\\left(l, \\theta_{m}, \\theta_{a}\\right)\n",
    "\\,{d \\theta_{m}}\\,{d r_{m}} \\right)\n",
    "\\end{array}\n",
    "\\end{equation}"
   ]
  },
  {
   "cell_type": "markdown",
   "id": "67b27ac3",
   "metadata": {},
   "source": [
    "Выносим переменные связанные с радиусом из под интеграла по углам\n",
    "\n",
    "\\begin{equation}\n",
    "\\begin{array}{c}\n",
    "j_r(r_a) = \\frac{1}{L\\left(j_{\\theta}, \\theta_a\\right)} \\left(\n",
    "\\frac{2 \\, \\cot\\left(\\theta_{a}\\right)}{r_{a}^{3}}\\, +\\\\\n",
    "+ \\frac{1}{r_a^3}\\sum\\limits_{l=0}^{+\\infty}{\\left(l^{2} + 3 \\, l + 2\\right)} \\int\\limits_{0}^{r_{a}} r_m^2 \\,\\frac{j_r(r_m)}{c} { \\left(\\frac{r_m}{r_a}\\right)^l}\\,\n",
    "\\int\\limits_{0}^{\\pi}\n",
    "j_{\\theta}(\\theta_m)\n",
    "\\sin\\left(\\theta_{m}\\right)  S_{l}\\left(l, \\theta_{m}, \\theta_{a}\\right)\n",
    "\\,{d \\theta_{m}}\\,{d r_{m}} \\\\\n",
    "+ \\frac{1}{r_a^2}\\sum\\limits_{l=0}^{+\\infty} {\\left(l^{2} - l\\right)}\\int\\limits_{r_{a}}^{+\\infty} r_m \\, \\frac{j_r(r_m)}{c} {\\left(\\frac{r_a}{r_m}\\right)^l}\\,\n",
    "\\int\\limits_{0}^{\\pi}\n",
    "j_{\\theta}(\\theta_m)\n",
    "\\sin\\left(\\theta_{m}\\right)  S_{l}\\left(l, \\theta_{m}, \\theta_{a}\\right)\n",
    "\\,{d \\theta_{m}}\\,{d r_{m}} \\right)\n",
    "\\end{array}\n",
    "\\end{equation}"
   ]
  },
  {
   "cell_type": "markdown",
   "id": "ccbbc8cb",
   "metadata": {},
   "source": [
    "Теперь, поскольку интеграл по углам не зависит от радиуса, выносим этот интеграл целиком из под интеграла по радиусу в виде самостоятельного множителя\n",
    "\n",
    "\\begin{equation}\n",
    "\\begin{array}{c}\n",
    "\\frac{j_r(r_a)}{c} = \\frac{1}{L\\left(j_{\\theta}, \\theta_a\\right)} \\left(\n",
    "\\frac{2 \\, \\cot\\left(\\theta_{a}\\right)}{r_{a}^{3}}\\, +\\\\\n",
    "+ \\frac{1}{r_a^3}\\sum\\limits_{l=0}^{+\\infty}{\\left(l^{2} + 3 \\, l + 2\\right)} \\cdot\n",
    "\\int\\limits_{0}^{r_{a}} r_m^2 \\,\\frac{j_r(r_m)}{c} { \\left(\\frac{r_m}{r_a}\\right)^l}\\,\n",
    "\\,{d r_{m}} \\cdot\n",
    "\\int\\limits_{0}^{\\pi}\n",
    "j_{\\theta}(\\theta_m)\n",
    "\\sin\\left(\\theta_{m}\\right)  S_{l}\\left(l, \\theta_{m}, \\theta_{a}\\right)\n",
    "\\,{d \\theta_{m}}\\\\\n",
    "+ \\frac{1}{r_a^2}\\sum\\limits_{l=0}^{+\\infty} {\\left(l^{2} - l\\right)} \\cdot\n",
    "\\int\\limits_{r_{a}}^{+\\infty} r_m\\,\\frac{j_r(r_m)}{c} {\\left(\\frac{r_a}{r_m}\\right)^l}\\,\n",
    "\\,{d r_{m}} \\cdot\n",
    "\\int\\limits_{0}^{\\pi}\n",
    "j_{\\theta}(\\theta_m)\n",
    "\\sin\\left(\\theta_{m}\\right)  S_{l}\\left(l, \\theta_{m}, \\theta_{a}\\right)\n",
    "\\,{d \\theta_{m}}\n",
    "\\right)\n",
    "\\end{array}\n",
    "\\end{equation}"
   ]
  },
  {
   "cell_type": "markdown",
   "id": "5ad4d8dc",
   "metadata": {},
   "source": [
    "Выносим радиус координаты наблюдения за скобки\n",
    "\n",
    "\\begin{equation}\n",
    "\\begin{array}{c}\n",
    "\\frac{j_r(r_a)}{c} = \\frac{1}{L\\left(j_{\\theta}, \\theta_a\\right)}\\frac{1}{r_{a}^2} \\left(\n",
    "\\frac{2 \\, \\cot\\left(\\theta_{a}\\right)}{r_{a}}\\, +\\\\\n",
    "+ \\frac{1}{r_a}\\sum\\limits_{l=0}^{+\\infty}{\\left(l^{2} + 3 \\, l + 2\\right)} \\cdot\n",
    "\\int\\limits_{0}^{r_{a}} r_m^2 \\,\\frac{j_r(r_m)}{c} { \\left(\\frac{r_m}{r_a}\\right)^l}\\,\n",
    "\\,{d r_{m}} \\cdot\n",
    "\\int\\limits_{0}^{\\pi}\n",
    "j_{\\theta}(\\theta_m)\n",
    "\\sin\\left(\\theta_{m}\\right)  S_{l}\\left(l, \\theta_{m}, \\theta_{a}\\right)\n",
    "\\,{d \\theta_{m}}\\\\\n",
    "+ \\sum\\limits_{l=0}^{+\\infty} {\\left(l^{2} - l\\right)} \\cdot\n",
    "\\int\\limits_{r_{a}}^{+\\infty} r_m\\,\\frac{j_r(r_m)}{c} {\\left(\\frac{r_a}{r_m}\\right)^l}\\,\n",
    "\\,{d r_{m}} \\cdot\n",
    "\\int\\limits_{0}^{\\pi}\n",
    "j_{\\theta}(\\theta_m)\n",
    "\\sin\\left(\\theta_{m}\\right)  S_{l}\\left(l, \\theta_{m}, \\theta_{a}\\right)\n",
    "\\,{d \\theta_{m}}\n",
    "\\right)\n",
    "\\end{array}\n",
    "\\end{equation}"
   ]
  },
  {
   "cell_type": "markdown",
   "id": "f4de98aa",
   "metadata": {},
   "source": [
    "Вносим радиус координаты наблюдения во второй интеграл\n",
    "\n",
    "\\begin{equation}\n",
    "\\begin{array}{c}\n",
    "\\frac{j_r(r_a)}{c} = \\frac{1}{L\\left(j_{\\theta}, \\theta_a\\right)}\\frac{1}{r_{a}^2} \\left(\n",
    "\\frac{2 \\, \\cot\\left(\\theta_{a}\\right)}{r_{a}}\\, +\\\\\n",
    "+ \\sum\\limits_{l=0}^{+\\infty}{\\left(l^{2} + 3 \\, l + 2\\right)} \\cdot\n",
    "\\int\\limits_{0}^{r_{a}} r_m\\,\\frac{j_r(r_m)}{c} { \\left(\\frac{r_m}{r_a}\\right)^{l+1}}\\,\n",
    "\\,{d r_{m}} \\cdot\n",
    "\\int\\limits_{0}^{\\pi}\n",
    "j_{\\theta}(\\theta_m)\n",
    "\\sin\\left(\\theta_{m}\\right)  S_{l}\\left(l, \\theta_{m}, \\theta_{a}\\right)\n",
    "\\,{d \\theta_{m}}\\\\\n",
    "+ \\sum\\limits_{l=0}^{+\\infty} {\\left(l^{2} - l\\right)} \\cdot\n",
    "\\int\\limits_{r_{a}}^{+\\infty} r_m\\,\\frac{j_r(r_m)}{c} {\\left(\\frac{r_a}{r_m}\\right)^l}\\,\n",
    "\\,{d r_{m}} \\cdot\n",
    "\\int\\limits_{0}^{\\pi}\n",
    "j_{\\theta}(\\theta_m)\n",
    "\\sin\\left(\\theta_{m}\\right)  S_{l}\\left(l, \\theta_{m}, \\theta_{a}\\right)\n",
    "\\,{d \\theta_{m}}\n",
    "\\right)\n",
    "\\end{array}\n",
    "\\end{equation}"
   ]
  },
  {
   "cell_type": "markdown",
   "id": "b4e4d78c",
   "metadata": {},
   "source": [
    "Выносим интеграл по углу за скобки\n",
    "\n",
    "\\begin{equation}\n",
    "\\begin{array}{l}\n",
    "\\frac{j_r(r_a)}{c} = \\frac{1}{L\\left(j_{\\theta}, \\theta_a\\right)}\\frac{1}{r_{a}^2} \\left(\n",
    "\\frac{2 \\, \\cot\\left(\\theta_{a}\\right)}{r_{a}}\\, + \\\\\n",
    "+ \\sum\\limits_{l=0}^{+\\infty}\n",
    "\\left[\n",
    "\\left\\{\n",
    "{\\left(l^{2} + 3 \\, l + 2\\right)} \\cdot\n",
    "\\int\\limits_{0}^{r_{a}} r_m\\,\\frac{j_r(r_m)}{c} { \\left(\\frac{r_m}{r_a}\\right)^{l+1}}\\,\n",
    "\\,{d r_{m}}\n",
    "+ {\\left(l^{2} - l\\right)} \\cdot\n",
    "\\int\\limits_{r_{a}}^{+\\infty} r_m\\,\\frac{j_r(r_m)}{c} {\\left(\\frac{r_a}{r_m}\\right)^l}\\,\n",
    "\\,{d r_{m}}\n",
    "\\right\\} \\cdot\\\\\n",
    "\\cdot\n",
    "\\int\\limits_{0}^{\\pi}\n",
    "j_{\\theta}(\\theta_m)\n",
    "\\sin\\left(\\theta_{m}\\right)  S_{l}\\left(l, \\theta_{m}, \\theta_{a}\\right)\n",
    "\\,{d \\theta_{m}}\n",
    "\\right]\n",
    "\\right)\n",
    "\\end{array}\n",
    "\\end{equation}"
   ]
  },
  {
   "cell_type": "markdown",
   "id": "a92aea6e",
   "metadata": {},
   "source": [
    "\n",
    "Замечая, что мы уже ввели обозначение \n",
    "\n",
    "$$M_l\\left(j_{\\theta}, \\theta_a\\right)={\\int\\limits_{0}^{\\pi} j_{\\theta}(\\theta_m)\\,S_l(\\theta_m, \\theta_a)\\,sin\\left(\\theta_m\\right)\\,{d \\theta_{m}}}$$\n",
    "\n",
    "для интеграла по углу который был вынесен за скобки\n",
    "\n",
    "\\begin{equation}\n",
    "\\begin{array}{l}\n",
    "\\frac{j_r(r_a)}{c} = \\frac{1}{L\\left(j_{\\theta}, \\theta_a\\right)}\\frac{1}{r_{a}^2} \\left(\n",
    "\\frac{2 \\, \\cot\\left(\\theta_{a}\\right)}{r_{a}}\\, + \\\\\n",
    "+ \\sum\\limits_{l=0}^{+\\infty}\n",
    "\\left[\n",
    "\\left\\{\n",
    "{\\left(l^{2} + 3 \\, l + 2\\right)} \\cdot\n",
    "\\int\\limits_{0}^{r_{a}} r_m\\,\\frac{j_r(r_m)}{c} { \\left(\\frac{r_m}{r_a}\\right)^{l+1}}\\,\n",
    "\\,{d r_{m}}\n",
    "+ {\\left(l^{2} - l\\right)} \\cdot\n",
    "\\int\\limits_{r_{a}}^{+\\infty} r_m\\,\\frac{j_r(r_m)}{c} {\\left(\\frac{r_a}{r_m}\\right)^l}\\,\n",
    "\\,{d r_{m}}\n",
    "\\right\\}\n",
    "\\cdot\n",
    "M_l\\left(j_{\\theta}, \\theta_a\\right)\n",
    "\\right]\n",
    "\\right)\n",
    "\\end{array}\n",
    "\\end{equation}"
   ]
  },
  {
   "cell_type": "markdown",
   "id": "c3543d30",
   "metadata": {},
   "source": [
    "Вводим дополнительные обозначение\n",
    "\n",
    "$$R_2\\left(l, j_r, r_a\\right)=\\int\\limits_{0}^{r_{a}} r_m\\,\\frac{j_r(r_m)}{c} { \\left(\\frac{r_m}{r_a}\\right)^{l+1}}\\,\n",
    "\\,{d r_{m}}$$\n",
    "\n",
    "$$R_3\\left(l, j_r, r_a\\right)=\\int\\limits_{r_{a}}^{+\\infty} r_m\\,\\frac{j_r(r_m)}{c} {\\left(\\frac{r_a}{r_m}\\right)^l}\\,\n",
    "\\,{d r_{m}}$$\n",
    "\n",
    "и теперь\n",
    "\n",
    "\\begin{equation}\n",
    "\\begin{array}{l}\n",
    "\\frac{j_r(r_a)}{c} = \\frac{1}{L\\left(j_{\\theta}, \\theta_a\\right)}\\frac{1}{r_{a}^2} \\left(\n",
    "\\frac{2 \\,\\cot\\left(\\theta_{a}\\right)}{r_{a}}\\,\n",
    "+ \\sum\\limits_{l=0}^{+\\infty}\n",
    "\\left[\n",
    "\\left\\{\n",
    "{\\left(l^{2} + 3 \\, l + 2\\right)} \\cdot\n",
    "R_2\\left(l, j_r, r_a\\right)\n",
    "+ {\\left(l^{2} - l\\right)} \\cdot\n",
    "R_3\\left(l, j_r, r_a\\right)\n",
    "\\right\\}\n",
    "\\cdot\n",
    "M_l\\left(j_{\\theta}, \\theta_a\\right)\n",
    "\\right]\n",
    "\\right)\n",
    "\\end{array}\n",
    "\\end{equation}"
   ]
  },
  {
   "cell_type": "markdown",
   "id": "57dabe68",
   "metadata": {},
   "source": [
    "Теперь обозначим\n",
    "\n",
    "\\begin{equation}\n",
    "\\begin{array}{l}\n",
    "N\\left(j_r, j_{\\theta}, r_a, \\theta_a\\right) = \n",
    "\\sum\\limits_{l=0}^{+\\infty}\n",
    "\\left[\n",
    "\\left\\{\n",
    "{\\left(l^{2} + 3 \\, l + 2\\right)} \\cdot\n",
    "R_2\\left(l, j_r, r_a\\right)\n",
    "+ {\\left(l^{2} - l\\right)} \\cdot\n",
    "R_3\\left(l, j_r, r_a\\right)\n",
    "\\right\\}\n",
    "\\cdot\n",
    "M_l\\left(j_{\\theta}, \\theta_a\\right)\n",
    "\\right]\n",
    "\\end{array}\n",
    "\\end{equation}\n",
    "\n",
    "И теперь мы имеем\n",
    "\n",
    "# краткую запись интегрального уравнения\n",
    "\n",
    "\\begin{equation}\n",
    "\\begin{array}{l}\n",
    "\\frac{j_r(r_a)}{c} = \\frac{1}{L\\left(j_{\\theta}, \\theta_a\\right)}\\frac{1}{r_{a}^2} \\left(\n",
    "\\frac{2 \\, \\cot\\left(\\theta_{a}\\right)}{r_{a}}\\,\n",
    "+ N\\left(j_r, j_{\\theta}, r_a, \\theta_a\\right)\n",
    "\\right)\n",
    "\\end{array}\n",
    "\\end{equation}"
   ]
  },
  {
   "cell_type": "code",
   "execution_count": null,
   "id": "51615c1e",
   "metadata": {},
   "outputs": [],
   "source": []
  },
  {
   "cell_type": "markdown",
   "id": "43363977",
   "metadata": {},
   "source": [
    "Раскрывая в этом уравнении обозначение $L\\left(j_{\\theta}, \\theta_a\\right)$ имеем\n",
    "\n",
    "\\begin{equation}\n",
    "\\begin{array}{l}\n",
    "\\frac{j_r(r_a)}{c} = \\, \\frac{1}{r_{a}^2}\\frac {1}{\\sum\\limits_{l=0}^{+\\infty} {\\left(2 \\, l + 1\\right)}M_l\\left(j_{\\theta}, \\theta_a\\right)} \\cdot \\, \\cdot \\left(\n",
    "\\frac{2 \\, \\cot\\left(\\theta_{a}\\right)}{r_{a}} \\,\n",
    "+ \\sum\\limits_{l=0}^{+\\infty}\n",
    "\\left[\n",
    "\\left\\{\n",
    "{\\left(l^{2} + 3 \\, l + 2\\right)} \\cdot\n",
    "R_2\\left(l, r_a\\right)\n",
    "+ {\\left(l^{2} - l\\right)} \\cdot\n",
    "R_3\\left(l, r_a\\right)\n",
    "\\right\\}\n",
    "\\cdot\n",
    "M_l\\left(j_{\\theta}, \\theta_a\\right)\n",
    "\\right]\n",
    "\\right)\n",
    "\\end{array}\n",
    "\\end{equation}"
   ]
  },
  {
   "cell_type": "markdown",
   "id": "aa383dbe",
   "metadata": {},
   "source": [
    "Введя обозначения для полиномов"
   ]
  },
  {
   "cell_type": "markdown",
   "id": "6703a9ba",
   "metadata": {},
   "source": [
    "$K_1(l) = 2 \\, l + 1$\n",
    "\n",
    "$K_2(l) = l^{2} + 3 \\, l + 2$\n",
    "\n",
    "$K_3(l) = l^{2} - l$"
   ]
  },
  {
   "cell_type": "code",
   "execution_count": 20,
   "id": "c45ad4cb",
   "metadata": {},
   "outputs": [],
   "source": [
    "def Kl1(l):\n",
    "    return (2*l + 1)\n",
    "def Kl2(l):\n",
    "    return (l^2 + 3*l + 2)\n",
    "def Kl3(l):\n",
    "    return (l^2 - l)"
   ]
  },
  {
   "cell_type": "markdown",
   "id": "561cfd1e",
   "metadata": {},
   "source": [
    "получаем\n",
    "\n",
    "\\begin{equation}\n",
    "\\begin{array}{l}\n",
    "\\frac{j_r(r_a)}{c} = \\, \\frac{1}{r_{a}^2}\\frac {1}{\\sum\\limits_{l=0}^{+\\infty} {K_1(l)}M_l\\left(j_{\\theta}, \\theta_a\\right)} \\cdot \\, \\cdot  \\left(\n",
    "\\frac{2 \\, \\cot\\left(\\theta_{a}\\right)}{r_{a}}\\,\n",
    "+ \\sum\\limits_{l=0}^{+\\infty}\n",
    "\\left[\n",
    "\\left\\{\n",
    "{K_2(l)} \\cdot\n",
    "R_2\\left(l, r_a\\right)\n",
    "+ {K_3(l)} \\cdot\n",
    "R_3\\left(l, r_a\\right)\n",
    "\\right\\}\n",
    "\\cdot\n",
    "M_l\\left(j_{\\theta}, \\theta_a\\right)\n",
    "\\right]\n",
    "\\right)\n",
    "\\end{array}\n",
    "\\end{equation}"
   ]
  },
  {
   "cell_type": "code",
   "execution_count": null,
   "id": "076965d5",
   "metadata": {},
   "outputs": [],
   "source": []
  },
  {
   "cell_type": "markdown",
   "id": "9f532617",
   "metadata": {},
   "source": [
    "Производим инициализацию неизвестной функции магнитных токов для подстановки в уравнение \n",
    "\n",
    "$${{A^{*}}_E}_{\\varphi} = \\frac{1}{c}\\int\\limits_{V}^{}\\frac{{j_m}_{\\varphi}}{R} dV$$\n",
    "\n",
    "Ряд экспериментов показал целесообразность инициализации угловой части магнитного тока в виде\n",
    "\n",
    "$${{j_m}_{\\varphi}}  = {{\\rho_m}} \\cdot {{\\omega_m}} \\sim \\frac{cos(\\theta_m)^{2k+1}}{r^{3}}, k = 0,1,2,... $$\n",
    "\n",
    "where ${{j_m}_{\\varphi}}$ is density of magnetic current\n",
    "\n",
    "$${{\\rho_m}} \\sim \\frac{cos(\\theta_m)^{2k+1}}{r^{2}} $$\n",
    "\n",
    "where ${{\\rho_m}}$ is density of magnetic charge and\n",
    "\n",
    "$${{\\omega_m}} \\sim \\frac{1}{r} $$\n",
    "\n",
    "is angular frequency of magnetic charge\n",
    "\n",
    "Таким образом сохраняется условие нормируемости плотности магнитных зарядов благодаря их убыванию пропорционально $1/r^2$ а так же, вероятно, можно избежать проблемы превышения магнитными зарядами скорости света на больших $r$ благодаря тому что частота вращения магнитных зарядов спадает как $1/r$"
   ]
  },
  {
   "cell_type": "code",
   "execution_count": 21,
   "id": "706626e4",
   "metadata": {},
   "outputs": [],
   "source": [
    "# инициализируем неизвестную функцию распределения\n",
    "# плотности магнитного тока в объёме\n",
    "# прецессирующего магнитного диполя как\n",
    "\n",
    "#J_theta = lambda theta_m : cot(theta_m)\n",
    "# J_theta = lambda theta_m : cos(theta_m)/sin(theta_m)\n",
    "#J_theta = lambda theta_m : cos(theta_m)\n",
    "J_theta   = lambda theta_m : cos(theta_m)^9\n",
    "rho_theta = lambda theta_m : cos(theta_m)^9\n",
    "#J_r = lambda r_m : 1 / r_m^(3/2)\n",
    "#J_r = lambda r_m : 1 / r_m^(2)\n",
    "J_r   = lambda r_m : 1 / r_m^(3)\n",
    "rho_r = lambda r_m : 1 / r_m^(2)\n",
    "\n",
    "# J_r = lambda r_m : 1.1 / r_m^(3/2) + 0.15 / r_m^2\n",
    "\n",
    "# J_r = lambda r_m : exp(-r_m^(2))"
   ]
  },
  {
   "cell_type": "markdown",
   "id": "5686f8c9",
   "metadata": {},
   "source": [
    "Верхний предел суммирования"
   ]
  },
  {
   "cell_type": "code",
   "execution_count": 22,
   "id": "bc008481",
   "metadata": {},
   "outputs": [],
   "source": [
    "LL = 48"
   ]
  },
  {
   "cell_type": "markdown",
   "id": "f3f591ed",
   "metadata": {},
   "source": [
    "Для инициализированной выше пробной функции нулевого приближения решения интегрального уравнения находим основные слагаемые интегрального уравнения\n",
    "\n",
    "\\begin{equation}\n",
    "\\begin{array}{l}\n",
    "\\frac{j_r(r_a)}{c} = \\frac{1}{L\\left(j_{\\theta}, \\theta_a\\right)}\\frac{1}{r_{a}^2} \\left(\n",
    "\\frac{2 \\, \\cot\\left(\\theta_{a}\\right)}{r_{a}}\\,\n",
    "+ N\\left(j_r, j_{\\theta}, r_a, \\theta_a\\right)\n",
    "\\right)\n",
    "\\end{array}\n",
    "\\end{equation}\n",
    "\n",
    "в форме\n",
    "\n",
    "\n",
    "\\begin{equation}\n",
    "\\begin{array}{l}\n",
    "\\frac{j_r(r_a)}{c} = \\frac{1}{L\\_sum}\\frac{1}{r_{a}^2} \\left(\n",
    "\\frac{2 \\, \\cot\\left(\\theta_{a}\\right)}{r_{a}}\\,\n",
    "+ N\\_sum\n",
    "\\right)\n",
    "\\end{array}\n",
    "\\end{equation}\n",
    "\n",
    "где"
   ]
  },
  {
   "cell_type": "markdown",
   "id": "600400b0",
   "metadata": {},
   "source": [
    "$$L\\_sum={\\sum\\limits_{l=0}^{LL} {K_1(l)}\\,M_l\\left(j_{\\theta}, \\theta_a\\right)}$$"
   ]
  },
  {
   "cell_type": "markdown",
   "id": "13eab821",
   "metadata": {},
   "source": [
    "и"
   ]
  },
  {
   "cell_type": "markdown",
   "id": "314a0101",
   "metadata": {},
   "source": [
    "\\begin{equation}\n",
    "\\begin{array}{l}\n",
    "N\\_sum = \n",
    "\\sum\\limits_{l=0}^{LL}\n",
    "\\left[\n",
    "\\left\\{\n",
    "{K_2(l)} \\cdot\n",
    "R_2\\left(l, r_a\\right)\n",
    "+ {K_3(l)} \\cdot\n",
    "R_3\\left(l, r_a\\right)\n",
    "\\right\\}\n",
    "\\cdot\n",
    "M_l\\left(j_{\\theta}, \\theta_a\\right)\n",
    "\\right]\n",
    "\\end{array}\n",
    "\\end{equation}"
   ]
  },
  {
   "cell_type": "code",
   "execution_count": 23,
   "id": "dff3cc4d",
   "metadata": {},
   "outputs": [],
   "source": [
    "# Интеграл R2\n",
    "# Интеграл R3\n",
    "\n",
    "N_sum = 0\n",
    "L_sum = 0\n",
    "\n",
    "for ll in range(0,LL):\n",
    "    Mll = Ml(l=ll, j_theta=J_theta(theta_m), theta_a=theta_a)\n",
    "    if 0 == Mll:\n",
    "        continue\n",
    "    L_sum += Kl1(ll)*Mll\n",
    "    R2 = integrate(r_m * J_r (r_m) * (r_m / r_a)^(ll+1), r_m, 0, r_a)\n",
    "    R3 = integrate(r_m * J_r (r_m) * (r_a / r_m)^(ll), r_m, r_a, Infinity)\n",
    "    #print(Mll, \"|*|\", R2, \"|||\", R3)\n",
    "    R23 = Kl2(ll) * R2 + Kl3(ll) * R3\n",
    "    N_l = R23 * Mll\n",
    "    #print(\"N_l :\", N_l)\n",
    "    N_sum += N_l"
   ]
  },
  {
   "cell_type": "markdown",
   "id": "b454cf76",
   "metadata": {},
   "source": [
    "# Об аппроксимации угловой  части магнитного тока $j_{\\theta}(\\theta_m)$ суммой ряда L_sum"
   ]
  },
  {
   "cell_type": "markdown",
   "id": "0f98b7e9",
   "metadata": {},
   "source": [
    "Рассмотрим краткую сводку основных уравнений"
   ]
  },
  {
   "cell_type": "markdown",
   "id": "3e3e2ddf",
   "metadata": {},
   "source": [
    "Векторный потенциал электростатического поля точечного заряда в сферической системе координат"
   ]
  },
  {
   "cell_type": "markdown",
   "id": "7dcd241b",
   "metadata": {},
   "source": [
    "$$A_{\\varphi} = -\\frac{сtg \\, \\theta_a}{r_a}$$"
   ]
  },
  {
   "cell_type": "markdown",
   "id": "58d145f5",
   "metadata": {},
   "source": [
    "Исходное интегральное уравнение для этого векторного потенциала"
   ]
  },
  {
   "cell_type": "markdown",
   "id": "d93d29c5",
   "metadata": {},
   "source": [
    "$$-\\frac{сtg \\, \\theta_a}{r_a} = \\int\\limits_{\\theta_m=0}^{\\pi}\\,\\,\\int\\limits_{r_m=0}^{\\infty}\\frac{j_m(r_m, \\theta_m) \\,\\sin \\theta_m\\, r_m^2}{c} \\left(\\int\\limits_{\\varphi_m=0}^{2\\pi}\\frac{cos\\,{\\varphi_m } }{\\left| \\overrightarrow{{{r}_{m}}}-\\overrightarrow{{{r}_{a}}} \\right|}\\, d \\varphi_m\\right)d r_m \\, d \\theta_m$$"
   ]
  },
  {
   "cell_type": "markdown",
   "id": "8d1116e5",
   "metadata": {},
   "source": [
    "Преобразованное интегральное уравнение, пригодное для итеративной процедуры\n",
    "\n",
    "\\begin{equation}\n",
    "\\begin{array}{l}\n",
    "\\frac{j_r(r_a)}{c} = \\frac{1}{L\\_sum}\\frac{1}{r_{a}^2} \\left(\n",
    "\\frac{2 \\, \\cot\\left(\\theta_{a}\\right)}{r_{a}}\\,\n",
    "+ N\\_sum\n",
    "\\right)\n",
    "\\end{array}\n",
    "\\end{equation}"
   ]
  },
  {
   "cell_type": "markdown",
   "id": "9437c796",
   "metadata": {},
   "source": [
    "плотность магнитного тока\n",
    "\n",
    "$$j_m(r_m, \\theta_m) = j_r(r_m) \\, j_{\\theta}(\\theta_m)$$ "
   ]
  },
  {
   "cell_type": "markdown",
   "id": "c67eee9c",
   "metadata": {},
   "source": [
    "Замечая, что функция $j_{\\theta}(\\theta_m)$ помноженная на множитель $2 n_{JL}$ может быть приблизительно аппроксимирована суммой ряда $L\\_sum=\\sum_{l=0}^{LL}\\, {\\left(2 \\, l + 1\\right)}M_l\\left(j_{\\theta}, \\theta_a\\right)$\n",
    "\n",
    "$$2 \\, n_{JL} \\cdot j_{\\theta}(\\theta_m) \\approx L\\_sum$$\n",
    "\n",
    "найдем множитель $n_{JL}$ графическим методом и методом интегрирования"
   ]
  },
  {
   "cell_type": "code",
   "execution_count": 24,
   "id": "8be6b337",
   "metadata": {},
   "outputs": [],
   "source": [
    "L_sum_latex =\\\n",
    "    \"\\\\sum_{l=0}^{\"+str(LL)+\"}\\\\, {\\\\left(2 \\\\, l + 1\\\\right)}M_l\\\\left(j_{\\\\theta}, \\\\theta_a\\\\right)\""
   ]
  },
  {
   "cell_type": "code",
   "execution_count": 25,
   "id": "4a56fbf3",
   "metadata": {},
   "outputs": [],
   "source": [
    "L_latex =\\\n",
    "    \"\\\\sum_{l=0}^{\\\\infty}\\\\, {\\\\left(2 \\\\, l + 1\\\\right)}M_l\\\\left(j_{\\\\theta}, \\\\theta_a\\\\right)\""
   ]
  },
  {
   "cell_type": "code",
   "execution_count": 26,
   "id": "e6b0583e",
   "metadata": {},
   "outputs": [],
   "source": [
    "L_sum_per_J_theta_a = L_sum / (2*J_theta(theta_a))\n",
    "L_sum_per_J_theta_a_latex=\"\\\\frac{\"+L_sum_latex+\"}{{2\\\\,J_{\\\\theta}(\\\\theta_a)}}\""
   ]
  },
  {
   "cell_type": "code",
   "execution_count": 27,
   "id": "fdd9350f",
   "metadata": {},
   "outputs": [
    {
     "data": {
      "image/png": "[encoded data removed]",
      "text/plain": [
       "Graphics object consisting of 1 graphics primitive"
      ]
     },
     "metadata": {},
     "output_type": "display_data"
    }
   ],
   "source": [
    "plot(L_sum_per_J_theta_a, theta_a, 0.0, pi-0.0,ymin=-8,ymax=8).show(\n",
    "    title=\"$\"+L_sum_per_J_theta_a_latex+\"$\\n\")"
   ]
  },
  {
   "cell_type": "code",
   "execution_count": 28,
   "id": "f20b5d6a",
   "metadata": {},
   "outputs": [],
   "source": [
    "exec(preparse(\"LL_sum_per_J_theta_a = lambda theta_a : \"\n",
    "              + str(L_sum_per_J_theta_a)))"
   ]
  },
  {
   "cell_type": "code",
   "execution_count": 29,
   "id": "f8578dd0",
   "metadata": {},
   "outputs": [],
   "source": [
    "d = pi/6\n",
    "theta_1 = 0.2\n",
    "theta_2 = 1"
   ]
  },
  {
   "cell_type": "code",
   "execution_count": null,
   "id": "8fb1e018",
   "metadata": {},
   "outputs": [],
   "source": [
    "from scipy import integrate as scipy_integrate\n",
    "integral = scipy_integrate.quad(LL_sum_per_J_theta_a, theta_1, theta_2)\n",
    "integral"
   ]
  },
  {
   "cell_type": "markdown",
   "id": "25599503",
   "metadata": {},
   "source": [
    "Таким образом множитель $n_{JL}$ составляет"
   ]
  },
  {
   "cell_type": "code",
   "execution_count": null,
   "id": "2e55b5e7",
   "metadata": {},
   "outputs": [],
   "source": [
    "n_JL = (integral[0] / (theta_2 - theta_1)).n()\n",
    "n_JL"
   ]
  },
  {
   "cell_type": "markdown",
   "id": "23897d00",
   "metadata": {},
   "source": [
    "Теперь аппроксимация функции $2\\,n_J\\,j_{\\theta}(\\theta_m)$ суммой ряда $\\sum_{l=0}^{LL}\\, {\\left(2 \\, l + 1\\right)}M_l\\left(j_{\\theta}, \\theta_a\\right)$ может быть показана наглядно графически"
   ]
  },
  {
   "cell_type": "code",
   "execution_count": null,
   "id": "416efa95",
   "metadata": {},
   "outputs": [],
   "source": [
    "plot([L_sum, 2*J_theta(theta_a)*n_JL], theta_a, 0, pi).show(\n",
    "  title=\"$L\\\\_sum=\"+L_sum_latex+\"$\")"
   ]
  },
  {
   "cell_type": "markdown",
   "id": "0ef4df66",
   "metadata": {},
   "source": [
    "Аналогичным способом может быть найден обратный коэффициент $k_{JL}$"
   ]
  },
  {
   "cell_type": "code",
   "execution_count": null,
   "id": "9438f92a",
   "metadata": {},
   "outputs": [],
   "source": [
    "J_theta_a_per_L_sum = 2*J_theta(theta_a)/L_sum\n",
    "J_theta_a_per_L_sum_latex=\"{2\\\\,J_{\\\\theta}(\\\\theta_a)}/{\"+L_sum_latex+\"}\""
   ]
  },
  {
   "cell_type": "code",
   "execution_count": null,
   "id": "07765dd9",
   "metadata": {},
   "outputs": [],
   "source": [
    "plot(J_theta_a_per_L_sum, theta_a, 0.0, pi-0.0,ymin=-0.12,ymax=0.2).show(\n",
    "    title=\"$\"+J_theta_a_per_L_sum_latex+\"$\")"
   ]
  },
  {
   "cell_type": "code",
   "execution_count": null,
   "id": "2ac2086d",
   "metadata": {},
   "outputs": [],
   "source": [
    "exec(preparse(\"J_theta_a_per_M = lambda theta_a : \"\n",
    "              + str(J_theta_a_per_L_sum)))"
   ]
  },
  {
   "cell_type": "code",
   "execution_count": null,
   "id": "6d946bbf",
   "metadata": {},
   "outputs": [],
   "source": [
    "from scipy import integrate as scipy_integrate\n",
    "integral = scipy_integrate.quad(J_theta_a_per_M, theta_1, theta_2)\n",
    "integral"
   ]
  },
  {
   "cell_type": "code",
   "execution_count": null,
   "id": "429b83bf",
   "metadata": {},
   "outputs": [],
   "source": [
    "k_JL = (integral[0] / (theta_2 - theta_1)).n()\n",
    "k_JL"
   ]
  },
  {
   "cell_type": "code",
   "execution_count": null,
   "id": "d41fafb8",
   "metadata": {},
   "outputs": [],
   "source": [
    "L_approx_k = 2*J_theta(theta_a)/k_JL"
   ]
  },
  {
   "cell_type": "code",
   "execution_count": null,
   "id": "61b1fdcd",
   "metadata": {
    "scrolled": true
   },
   "outputs": [],
   "source": [
    "plot([L_sum, L_approx_k], theta_a, 0, pi).show(\n",
    "    title=\"$L\\\\_sum=\"+L_sum_latex+\"$\")"
   ]
  },
  {
   "cell_type": "markdown",
   "id": "50a1f485",
   "metadata": {},
   "source": [
    "Таким образом и выражение $L\\left(j_{\\theta}, \\theta_a\\right)={\\sum\\limits_{l=0}^{+\\infty} {\\left(2 \\, l + 1\\right)}M_l\\left(j_{\\theta}, \\theta_a\\right)}$ найденное численно суммированием ряда не до бесконечности а до числа $LL$ может быть аппроксимировано через $2\\,n_{JL}\\,j_{\\theta}(\\theta_m)$"
   ]
  },
  {
   "cell_type": "code",
   "execution_count": null,
   "id": "eb7703c1",
   "metadata": {},
   "outputs": [],
   "source": [
    "L_approx = 2*J_theta(theta_a)*n_JL\n",
    "L_approx_latex = latex(L_approx)"
   ]
  },
  {
   "cell_type": "code",
   "execution_count": null,
   "id": "34d99627",
   "metadata": {},
   "outputs": [],
   "source": [
    "plot(L_approx, theta_a, 0, pi-0).show(\n",
    "    title=\"$\"+ L_latex + \" \\\\approx \" + L_approx_latex+\"$\")"
   ]
  },
  {
   "cell_type": "markdown",
   "id": "2a4f33ce",
   "metadata": {},
   "source": [
    "Теперь рассмотрим слагаемое интегрального уравнения\n",
    "\n",
    "\n",
    "\\begin{equation}\n",
    "\\begin{array}{l}\n",
    "N\\left(j_r, j_{\\theta}, r_a, \\theta_a\\right) = \n",
    "\\sum\\limits_{l=0}^{+\\infty}\n",
    "\\left[\n",
    "\\left\\{\n",
    "{\\left(l^{2} + 3 \\, l + 2\\right)} \\cdot\n",
    "R_2\\left(l, j_r, r_a\\right)\n",
    "+ {\\left(l^{2} - l\\right)} \\cdot\n",
    "R_3\\left(l, j_r, r_a\\right)\n",
    "\\right\\}\n",
    "\\cdot\n",
    "M_l\\left(j_{\\theta}, \\theta_a\\right)\n",
    "\\right]\n",
    "\\end{array}\n",
    "\\end{equation}\n",
    "\n",
    "где\n",
    "\n",
    "$$R_2\\left(l, j_r, r_a\\right)=\\int\\limits_{0}^{r_{a}} r_m\\,\\frac{j_r(r_m)}{c} { \\left(\\frac{r_m}{r_a}\\right)^{l+1}}\\,\n",
    "\\,{d r_{m}}$$\n",
    "\n",
    "$$R_3\\left(l, j_r, r_a\\right)=\\int\\limits_{r_{a}}^{+\\infty} r_m\\,\\frac{j_r(r_m)}{c} {\\left(\\frac{r_a}{r_m}\\right)^l}\\,\n",
    "\\,{d r_{m}}$$"
   ]
  },
  {
   "cell_type": "code",
   "execution_count": null,
   "id": "0114b5c8",
   "metadata": {},
   "outputs": [],
   "source": [
    "N_sum_latex=\"\\\\sum_{l=0}^{\"+str(LL)+\"}\\\\,\\\\left[\\\\left\\\\{{\\\\left(l^{2} + 3 \\\\, l + 2\\\\right)} \\\\cdot R_2\\\\left(l, r_a\\\\right)+ {\\\\left(l^{2} - l\\\\right)} \\\\cdot R_3\\\\left(l, r_a\\\\right)\\\\right\\\\}\\\\cdot M_l\\\\left(j_{\\\\theta}, \\\\theta_a\\\\right)\\\\right]\"\n",
    "N_latex = \"N\\\\left(j_r, j_{\\\\theta}, r_a, \\\\theta_a\\\\right)\""
   ]
  },
  {
   "cell_type": "code",
   "execution_count": null,
   "id": "1d5136a1",
   "metadata": {},
   "outputs": [],
   "source": [
    "contour_plot(N_sum\n",
    "        , (theta_a,0,pi), (r_a,0.2,1), fill=False, cmap='hsv', labels=True, \n",
    "title = \"$\" + N_latex + \"=\"\n",
    "    +N_sum_latex+\"$\",\n",
    "axes_labels=[\"$\\\\theta_a$\", \"$r_a$\"])"
   ]
  },
  {
   "cell_type": "markdown",
   "id": "e07dfb5f",
   "metadata": {},
   "source": [
    "Мы можем найти множитель с помощью которого можно убрать зависимость $N\\left(j_r, j_{\\theta}, r_a, \\theta_a\\right)$ от $r_a$"
   ]
  },
  {
   "cell_type": "code",
   "execution_count": null,
   "id": "f3092ae3",
   "metadata": {},
   "outputs": [],
   "source": [
    "pra = 1/J_r(r_a)/r_a^2\n",
    "latex_pra=latex(pra)\n",
    "pra"
   ]
  },
  {
   "cell_type": "markdown",
   "id": "452acd3b",
   "metadata": {},
   "source": [
    "Умножая теперь $N\\left(j_r, j_{\\theta}, r_a, \\theta_a\\right)$ на этот множитель получаем новую функцию зависящую лишь от $\\left(j_r, j_{\\theta}, \\theta_a\\right)$"
   ]
  },
  {
   "cell_type": "code",
   "execution_count": null,
   "id": "e0be0278",
   "metadata": {},
   "outputs": [],
   "source": [
    "N_sum_pra = (N_sum * pra).full_simplify()\n",
    "N_sum_pra_latex = latex_pra + \"\\\\cdot\" + N_sum_latex\n",
    "N_pra_latex = latex_pra + \"\\\\cdot\" + N_latex"
   ]
  },
  {
   "cell_type": "markdown",
   "id": "9e6601ff",
   "metadata": {},
   "source": [
    "И что интересно, эта новая функция как-то очень уж близко походит по своей форме на сумму ряда $\\sum_{l=0}^{LL}\\, {\\left(2 \\, l + 1\\right)}M_l\\left(j_{\\theta}, \\theta_a\\right)$"
   ]
  },
  {
   "cell_type": "code",
   "execution_count": null,
   "id": "6f686603",
   "metadata": {
    "scrolled": true
   },
   "outputs": [],
   "source": [
    "plot([N_sum_pra, L_sum], theta_a, 0, pi).show(\n",
    "    title=\"$\"+N_sum_pra_latex+\", \" + L_sum_latex+\"$\")"
   ]
  },
  {
   "cell_type": "markdown",
   "id": "0a1eee24",
   "metadata": {},
   "source": [
    "А раз так, то имеет смысл найти для этой функции также найти аппроксимационный множитель\n",
    "\n",
    "$$2 \\, n_{JN} \\cdot j_{\\theta}(\\theta_m) \\approx N\\_sum \\cdot r_a$$\n"
   ]
  },
  {
   "cell_type": "code",
   "execution_count": null,
   "id": "c64c149d",
   "metadata": {},
   "outputs": [],
   "source": [
    "N_sum_pra_per_J_theta_a = N_sum_pra/(2*J_theta(theta_a))\n",
    "N_sum_pra_per_J_theta_a_latex=\"\\\\frac{\"+N_sum_pra_latex+\"}{{2\\\\,J_{\\\\theta}(\\\\theta_a)}}\""
   ]
  },
  {
   "cell_type": "code",
   "execution_count": null,
   "id": "df2c62fb",
   "metadata": {},
   "outputs": [],
   "source": [
    "plot(N_sum_pra_per_J_theta_a, theta_a, 0.0, pi-0.0,ymin=-5,ymax=12).show(\n",
    "    title=\"$\"+N_sum_pra_per_J_theta_a_latex+\"$\\n\")"
   ]
  },
  {
   "cell_type": "code",
   "execution_count": null,
   "id": "0e0dc5bb",
   "metadata": {},
   "outputs": [],
   "source": [
    "exec(preparse(\"NN_mra_per_J_theta_a = lambda theta_a : \"\n",
    "              + str(N_sum_pra_per_J_theta_a)))"
   ]
  },
  {
   "cell_type": "code",
   "execution_count": null,
   "id": "067cb1e4",
   "metadata": {},
   "outputs": [],
   "source": [
    "from scipy import integrate as scipy_integrate\n",
    "integral = scipy_integrate.quad(NN_mra_per_J_theta_a, 0.2, 0.4)\n",
    "integral"
   ]
  },
  {
   "cell_type": "code",
   "execution_count": null,
   "id": "07bbfa95",
   "metadata": {},
   "outputs": [],
   "source": [
    "n_JN = (integral[0] / (.2)).n()\n",
    "n_JN"
   ]
  },
  {
   "cell_type": "markdown",
   "id": "be8a8152",
   "metadata": {},
   "source": [
    "Для сравнения"
   ]
  },
  {
   "cell_type": "code",
   "execution_count": null,
   "id": "1fefe316",
   "metadata": {},
   "outputs": [],
   "source": [
    "n_JL"
   ]
  },
  {
   "cell_type": "code",
   "execution_count": null,
   "id": "9f297d9c",
   "metadata": {},
   "outputs": [],
   "source": [
    "N_approx = 2*J_theta(theta_a)*n_JN\n",
    "N_approx_latex = latex(N_approx)"
   ]
  },
  {
   "cell_type": "code",
   "execution_count": null,
   "id": "1f4ef728",
   "metadata": {
    "scrolled": true
   },
   "outputs": [],
   "source": [
    "plot([N_sum_pra, N_approx], theta_a, 0, pi).show(\n",
    "    title=\"$\"+N_sum_pra_latex+\"$\")"
   ]
  },
  {
   "cell_type": "code",
   "execution_count": null,
   "id": "2c74491d",
   "metadata": {},
   "outputs": [],
   "source": []
  },
  {
   "cell_type": "markdown",
   "id": "881bea89",
   "metadata": {},
   "source": [
    "Аналогичным способом может быть найден обратный коэффициент $k_{JN}$"
   ]
  },
  {
   "cell_type": "code",
   "execution_count": null,
   "id": "d46e0be8",
   "metadata": {},
   "outputs": [],
   "source": [
    "J_theta_a_per_N_sum_pra = 2*J_theta(theta_a)/N_sum_pra\n",
    "J_theta_a_per_N_sum_pra_latex=\"{2\\\\,J_{\\\\theta}(\\\\theta_a)}/{\"+N_sum_pra_latex+\"}\""
   ]
  },
  {
   "cell_type": "code",
   "execution_count": null,
   "id": "c60e86ef",
   "metadata": {},
   "outputs": [],
   "source": [
    "plot(J_theta_a_per_N_sum_pra, theta_a, 0.0, pi-0.0,ymin=-0.5,ymax=0.5).show(\n",
    "    title=\"$\"+J_theta_a_per_N_sum_pra_latex+\"$\")"
   ]
  },
  {
   "cell_type": "code",
   "execution_count": null,
   "id": "3df95efd",
   "metadata": {},
   "outputs": [],
   "source": [
    "exec(preparse(\"J_theta_a_per_N_pra = lambda theta_a : \"\n",
    "              + str(J_theta_a_per_N_sum_pra)))"
   ]
  },
  {
   "cell_type": "code",
   "execution_count": null,
   "id": "2e49e3a7",
   "metadata": {},
   "outputs": [],
   "source": [
    "theta_1 = 0.05\n",
    "theta_2 = 0.3"
   ]
  },
  {
   "cell_type": "code",
   "execution_count": null,
   "id": "6df713c7",
   "metadata": {},
   "outputs": [],
   "source": [
    "from scipy import integrate as scipy_integrate\n",
    "integral = scipy_integrate.quad( \\\n",
    "            J_theta_a_per_N_pra, theta_1, theta_2)\n",
    "integral"
   ]
  },
  {
   "cell_type": "code",
   "execution_count": null,
   "id": "d900292f",
   "metadata": {},
   "outputs": [],
   "source": [
    "k_JN = (integral[0] / (theta_2 - theta_1)).n()\n",
    "k_JN"
   ]
  },
  {
   "cell_type": "code",
   "execution_count": null,
   "id": "af4816d1",
   "metadata": {},
   "outputs": [],
   "source": [
    "N_approx_k = 2*J_theta(theta_a)/k_JN"
   ]
  },
  {
   "cell_type": "code",
   "execution_count": null,
   "id": "5168f6b8",
   "metadata": {
    "scrolled": true
   },
   "outputs": [],
   "source": [
    "plot([N_sum_pra, N_approx_k], theta_a, 0, pi).show(\n",
    "    title=\"$N\\\\_sum=\"+N_sum_pra_latex+\"$\")"
   ]
  },
  {
   "cell_type": "code",
   "execution_count": null,
   "id": "ec901fcd",
   "metadata": {},
   "outputs": [],
   "source": []
  },
  {
   "cell_type": "markdown",
   "id": "558a2710",
   "metadata": {},
   "source": [
    "Учитывая краткую запись интегрального уравнения\n",
    "\n",
    "\\begin{equation}\n",
    "\\begin{array}{l}\n",
    "\\frac{j_r(r_a)}{c} = \\frac{1}{L\\left(j_{\\theta}, \\theta_a\\right)}\\frac{1}{r_{a}^2} \\left(\n",
    "\\frac{2 \\, \\cot\\left(\\theta_{a}\\right)}{r_{a}}\\,\n",
    "+ N\\left(j_r, j_{\\theta}, r_a, \\theta_a\\right)\n",
    "\\right)\n",
    "\\end{array}\n",
    "\\end{equation}\n",
    "\n",
    "Производим следующую цепь преобразований\n",
    "\n",
    "\n",
    "\\begin{equation}\n",
    "\\begin{array}{l}\n",
    "\\frac{j_r(r_a)}{c} = \\frac{1}{L\\left(j_{\\theta}, \\theta_a\\right)}\\frac{1}{r_{a}^2} \\left(\n",
    "\\frac{2 \\,\\cot\\left(\\theta_{a}\\right)}{r_{a}}\\,\n",
    "+ \\frac{\\left(r_a \\cdot N\\right)\\left(j_r, j_{\\theta}, \\theta_a\\right)}{r_{a}}\n",
    "\\right)\n",
    "\\end{array}\n",
    "\\end{equation}\n",
    "\n",
    "\n",
    "\\begin{equation}\n",
    "\\begin{array}{l}\n",
    "\\frac{j_r(r_a)}{c} = \\frac{1}{r_{a}^3}\\frac{1}{L\\left(j_{\\theta}, \\theta_a\\right)} \\left(\n",
    "{2 \\, \\cot\\left(\\theta_{a}\\right)}\\,\n",
    "+ {\\left(r_a \\cdot N\\right)\\left(j_r, j_{\\theta}, \\theta_a\\right)}\n",
    "\\right)\n",
    "\\end{array}\n",
    "\\end{equation}\n",
    "\n",
    "\n",
    "\n",
    "\\begin{equation}\n",
    "\\begin{array}{l}\n",
    "\\frac{j_r(r_a)}{c}\\,{r_{a}^3} = \\frac{1}{L\\left(j_{\\theta}, \\theta_a\\right)} \\left(\n",
    "{2 \\, \\cot\\left(\\theta_{a}\\right)}\\,\n",
    "+ {\\left(r_a \\cdot N\\right)\\left(j_r, j_{\\theta}, \\theta_a\\right)}\n",
    "\\right)\n",
    "\\end{array}\n",
    "\\end{equation}\n",
    "\n",
    "\\begin{equation}\n",
    "\\begin{array}{l}\n",
    "\\frac{j_r(r_a)}{c}\\,{r_{a}^3} = \\frac{2 \\, \\cot\\left(\\theta_{a}\\right)}{L\\left(j_{\\theta}, \\theta_a\\right)} + \\frac{\\left(r_a \\cdot N\\right)\\left(j_r, j_{\\theta}, \\theta_a\\right)}{L\\left(j_{\\theta}, \\theta_a\\right)}\n",
    "\\end{array}\n",
    "\\end{equation}"
   ]
  },
  {
   "cell_type": "markdown",
   "id": "b4997db2",
   "metadata": {},
   "source": [
    "Учитывая ранее найденные выражения для аппроксимационных множителей\n",
    "\n",
    "$$2 \\, n_{JL} \\cdot j_{\\theta}(\\theta_m) \\approx L\\_sum$$\n"
   ]
  },
  {
   "cell_type": "markdown",
   "id": "aca6f2bb",
   "metadata": {},
   "source": [
    "$$2 \\, n_{JN} \\cdot j_{\\theta}(\\theta_m) \\approx N\\_sum \\cdot r_a$$\n",
    "\n",
    "находим далее"
   ]
  },
  {
   "cell_type": "markdown",
   "id": "9f923ebb",
   "metadata": {},
   "source": [
    "\\begin{equation}\n",
    "\\begin{array}{l}\n",
    "\\frac{j_r(r_a)}{c}\\,{r_{a}^3} = \\frac{2 \\, \\cot\\left(\\theta_{a}\\right)}{L\\left(j_{\\theta}, \\theta_a\\right)} + \\frac{2\\,J_{\\theta}(\\theta_a)\\cdot n_{JN}}{2\\,J_{\\theta}(\\theta_a)\\cdot n_{JL}}\n",
    "\\end{array}\n",
    "\\end{equation}\n",
    "\n",
    "\n",
    "\\begin{equation}\n",
    "\\begin{array}{l}\n",
    "\\frac{j_r(r_a)}{c}\\,{r_{a}^3} = \\frac{2 \\, \\cot\\left(\\theta_{a}\\right)}{L\\left(j_{\\theta}, \\theta_a\\right)} + \\frac{n_{JN}}{n_{JL}}\n",
    "\\end{array}\n",
    "\\end{equation}"
   ]
  },
  {
   "cell_type": "code",
   "execution_count": null,
   "id": "fd11f438",
   "metadata": {},
   "outputs": [],
   "source": [
    "n_JN/n_JL"
   ]
  },
  {
   "cell_type": "markdown",
   "id": "faa34e47",
   "metadata": {},
   "source": [
    "Теперь рассмотрим отношение $\\frac{2 \\, \\cot\\left(\\theta_{a}\\right)}{L\\left(j_{\\theta}, \\theta_a\\right)}$"
   ]
  },
  {
   "cell_type": "code",
   "execution_count": null,
   "id": "a05c98f5",
   "metadata": {},
   "outputs": [],
   "source": [
    "2*cot(theta_a)/L_approx"
   ]
  },
  {
   "cell_type": "code",
   "execution_count": null,
   "id": "d615b22a",
   "metadata": {},
   "outputs": [],
   "source": [
    "two_cot_theta_a_per_L_approx = 2*cot(theta_a)/L_approx\n",
    "plot(two_cot_theta_a_per_L_approx, theta_a, 0.2, 0.6).show(\n",
    "    title=\"2 cot_theta_a/L_approx\")"
   ]
  },
  {
   "cell_type": "markdown",
   "id": "d8a6c21a",
   "metadata": {},
   "source": [
    "Найдем для этого соотношения аппроксимационный множитель"
   ]
  },
  {
   "cell_type": "code",
   "execution_count": null,
   "id": "ff58d81e",
   "metadata": {},
   "outputs": [],
   "source": [
    "exec(preparse(\"two_cot_theta_a_per_L = lambda theta_a : \"\n",
    "              + str(two_cot_theta_a_per_L_approx)))"
   ]
  },
  {
   "cell_type": "code",
   "execution_count": null,
   "id": "59ba5439",
   "metadata": {},
   "outputs": [],
   "source": [
    "theta_1 = 0.3\n",
    "theta_2 = 0.4"
   ]
  },
  {
   "cell_type": "code",
   "execution_count": null,
   "id": "ec48353e",
   "metadata": {},
   "outputs": [],
   "source": [
    "from scipy import integrate as scipy_integrate\n",
    "integral = scipy_integrate.quad( \\\n",
    "            two_cot_theta_a_per_L, theta_1, theta_2)\n",
    "integral"
   ]
  },
  {
   "cell_type": "code",
   "execution_count": null,
   "id": "96223ba7",
   "metadata": {},
   "outputs": [],
   "source": [
    "n_Lcot = (integral[0] / (theta_2 - theta_1)).n()\n",
    "n_Lcot"
   ]
  },
  {
   "cell_type": "markdown",
   "id": "1453127c",
   "metadata": {},
   "source": [
    "Рассмотрим на графике точность аппроксимации"
   ]
  },
  {
   "cell_type": "code",
   "execution_count": null,
   "id": "db9eb685",
   "metadata": {},
   "outputs": [],
   "source": [
    "plot([2*cot(theta_a), L_approx*n_Lcot], theta_a, 0.1, pi-0.1).show(\n",
    "    title=\"2 cot_theta_a, L_approx*n_Lcot\")"
   ]
  },
  {
   "cell_type": "markdown",
   "id": "e13e6ff4",
   "metadata": {},
   "source": [
    "Теперь мы можем найти правую часть в уравнении\n",
    "\n",
    "\\begin{equation}\n",
    "\\begin{array}{l}\n",
    "\\frac{j_r(r_a)}{c}\\,{r_{a}^3} = \\frac{2 \\, \\cot\\left(\\theta_{a}\\right)}{L\\left(j_{\\theta}, \\theta_a\\right)} + \\frac{n_{JN}}{n_{JL}}\n",
    "\\end{array}\n",
    "\\end{equation}"
   ]
  },
  {
   "cell_type": "code",
   "execution_count": null,
   "id": "249101ca",
   "metadata": {},
   "outputs": [],
   "source": [
    "n_jr = n_Lcot + n_JN/n_JL"
   ]
  },
  {
   "cell_type": "code",
   "execution_count": null,
   "id": "14b2b207",
   "metadata": {},
   "outputs": [],
   "source": [
    "n_jr"
   ]
  },
  {
   "cell_type": "markdown",
   "id": "cf17c40e",
   "metadata": {},
   "source": [
    "# Сводка некоторых решений"
   ]
  },
  {
   "cell_type": "markdown",
   "id": "257bb013",
   "metadata": {},
   "source": [
    "Инициализировав\n",
    "\n",
    "$J_{\\theta} = cos(\\theta_m)$\n",
    "\n",
    "$J_r = \\frac{1}{r_m^{5/2}}$\n",
    "\n",
    "После первой итерации получено приблизительно (если отбросить уход на бесконечность в районе полюсов)\n",
    "\n",
    "\\begin{equation}\n",
    "\\begin{array}{l}\n",
    "j_r(r_a) = \\frac{1.04 ... 1.16}{r_{a}^{5/2}}  +  \\frac{0.15 ... 0.30}{r_{a}^3}\n",
    "\\end{array}\n",
    "\\end{equation}"
   ]
  },
  {
   "cell_type": "markdown",
   "id": "5a36270a",
   "metadata": {},
   "source": [
    "Инициализировав\n",
    "\n",
    "$J_{\\theta} = cos(\\theta_m)$\n",
    "\n",
    "$J_r = \\frac{1}{r_m^{3}}$\n",
    "\n",
    "После первой итерации получено приблизительно (если отбросить уход на бесконечность в районе полюсов)\n",
    "\n",
    "\\begin{equation}\n",
    "\\begin{array}{l}\n",
    "j_r(r_a) = \\frac{1.05 ... 1.4}{r_{a}^{3}}  +  \\frac{0.15 ... 0.30}{r_{a}^3} \\approx \\frac{1.58}{r_{a}^3}\n",
    "\\end{array}\n",
    "\\end{equation}\n",
    "\n",
    "1.58746627066120\n",
    "\n",
    "1.58696297034228"
   ]
  },
  {
   "cell_type": "markdown",
   "id": "df1696c7",
   "metadata": {},
   "source": [
    "Инициализировав\n",
    "\n",
    "$J_{\\theta} = cos^9(\\theta_m)$\n",
    "\n",
    "$J_r = \\frac{1}{r_m^{3}}$\n",
    "\n",
    "После первой итерации получено приблизительно\n",
    "\n",
    "\\begin{equation}\n",
    "\\begin{array}{l}\n",
    "j_r(r_a) = \\frac{1.099}{r_{a}^{3}}  +  \\frac{0.77}{r_{a}^3} \\approx \\frac{1.87}{r_{a}^3}\n",
    "\\end{array}\n",
    "\\end{equation}\n",
    "\n",
    "1.87252689112828"
   ]
  },
  {
   "cell_type": "raw",
   "id": "b918919d",
   "metadata": {},
   "source": []
  },
  {
   "cell_type": "markdown",
   "id": "79e6860b",
   "metadata": {},
   "source": [
    "Инициализировав\n",
    "\n",
    "$J_{\\theta} = cot(\\theta_m)$\n",
    "\n",
    "$J_r = \\frac{1}{r_m^{3}}$\n",
    "\n",
    "После первой итерации получено приблизительно (если отбросить уход на бесконечность в районе полюсов)\n",
    "\n",
    "\\begin{equation}\n",
    "\\begin{array}{l}\n",
    "j_r(r_a) \\approx \\frac{1..1.5}{r_{a}^3}\n",
    "\\end{array}\n",
    "\\end{equation}\n",
    "\n",
    "1.81479226773228"
   ]
  },
  {
   "cell_type": "markdown",
   "id": "5763b068",
   "metadata": {},
   "source": [
    "# Проверка найденного решения интегрального уравнения методом подстановки в формулу для вычисления векторного потенциала"
   ]
  },
  {
   "cell_type": "markdown",
   "id": "669d64ab",
   "metadata": {},
   "source": [
    "Рассмотрим формулу векторного потенциала для системы распределённых кольцевых магнитных токов"
   ]
  },
  {
   "cell_type": "markdown",
   "id": "67d983a2",
   "metadata": {},
   "source": [
    "\\begin{equation}\n",
    "\\begin{array}{c}\n",
    "A_q = \n",
    "\\int\\limits_{r_m=0}^{r_a}\\,\\int\\limits_{\\theta_m=0}^{\\pi}\\,\\frac{j_m(r_m, \\theta_m) \\,\\sin \\theta_m\\, r_m^2}{c\\,r_a} \\sum\\limits_{l=0}^{\\infty }{{\\left( \\frac{r_m}{r_a} \\right)}^{l}}\\left(\\int\\limits_{\\varphi_m=0}^{2\\pi}\\,{cos\\,{\\varphi_m } }{P_l} \\cos \\left( \\gamma  \\right)\\, d \\varphi_m\\right) \\, d \\theta_m \\,d r_m \\\\ +\n",
    "\\int\\limits_{r_m=r_a}^{\\infty}\\,\\int\\limits_{\\theta_m=0}^{\\pi}\\,\\frac{j_m(r_m, \\theta_m) \\,\\sin \\theta_m\\, r_m^2}{c\\,r_m} \\sum\\limits_{l=0}^{\\infty }{{\\left( \\frac{r_a}{r_m} \\right)}^{l}}\\left(\\int\\limits_{\\varphi_m=0}^{2\\pi}\\,{cos\\,{\\varphi_m }}{P_l} \\cos \\left( \\gamma  \\right)\\, d \\varphi_m\\right) \\, d \\theta_m \\,d r_m\n",
    "\\end{array}\n",
    "\\end{equation}"
   ]
  },
  {
   "cell_type": "markdown",
   "id": "679bcbc5",
   "metadata": {},
   "source": [
    "$j_m(r_m, \\theta_m) = j_r(r_m) \\, j_{\\theta}(\\theta_m) = q_r(r_m) \\, q_{\\theta}(\\theta_m)\\, \\omega_{r} (r_m)\\, \\omega_{\\theta} (\\theta_m)$ - плотность магнитного тока"
   ]
  },
  {
   "cell_type": "markdown",
   "id": "171f6cb9",
   "metadata": {},
   "source": [
    "\\begin{equation}\n",
    "\\begin{array}{c}\n",
    "A_q = \n",
    "\\int\\limits_{r_m=0}^{r_a}\\,\\int\\limits_{\\theta_m=0}^{\\pi}\\,\\frac{j_r(r_m) \\, j_{\\theta}(\\theta_m) \\,\\sin \\theta_m\\, r_m^2}{c\\,r_a} \\sum\\limits_{l=0}^{\\infty }{{\\left( \\frac{r_m}{r_a} \\right)}^{l}}\\left(\\int\\limits_{\\varphi_m=0}^{2\\pi}\\,{cos\\,{\\varphi_m } }{P_l} \\cos \\left( \\gamma  \\right)\\, d \\varphi_m\\right) \\, d \\theta_m \\,d r_m \\\\ +\n",
    "\\int\\limits_{r_m=r_a}^{\\infty}\\,\\int\\limits_{\\theta_m=0}^{\\pi}\\,\\frac{j_r(r_m) \\, j_{\\theta}(\\theta_m) \\,\\sin \\theta_m\\, r_m^2}{c\\,r_m} \\sum\\limits_{l=0}^{\\infty }{{\\left( \\frac{r_a}{r_m} \\right)}^{l}}\\left(\\int\\limits_{\\varphi_m=0}^{2\\pi}\\,{cos\\,{\\varphi_m }}{P_l} \\cos \\left( \\gamma  \\right)\\, d \\varphi_m\\right) \\, d \\theta_m \\,d r_m\n",
    "\\end{array}\n",
    "\\end{equation}"
   ]
  },
  {
   "cell_type": "markdown",
   "id": "90e20310",
   "metadata": {},
   "source": [
    "\\begin{equation}\n",
    "\\begin{array}{c}\n",
    "A_q = \n",
    "\\sum\\limits_{l=0}^{\\infty }\n",
    "\\int\\limits_{r_m=0}^{r_a}\\,\n",
    "\\int\\limits_{\\theta_m=0}^{\\pi}\\,\n",
    "\\frac{j_r(r_m) \\, j_{\\theta}(\\theta_m) \\,\\sin \\theta_m\\, r_m^2}{c\\,r_a}\n",
    "{{\\left( \\frac{r_m}{r_a} \\right)}^{l}}\n",
    "\\left(\\int\\limits_{\\varphi_m=0}^{2\\pi}\\,{cos\\,{\\varphi_m } }{P_l} \\cos \\left( \\gamma  \\right)\\, d \\varphi_m\\right) \\, d \\theta_m \\,d r_m \\\\ +\n",
    "\\sum\\limits_{l=0}^{\\infty }\n",
    "\\int\\limits_{r_m=r_a}^{\\infty}\\,\n",
    "\\int\\limits_{\\theta_m=0}^{\\pi}\\,\n",
    "\\frac{j_r(r_m) \\, j_{\\theta}(\\theta_m) \\,\\sin \\theta_m\\, r_m^2}{c\\,r_m}\n",
    "{{\\left( \\frac{r_a}{r_m} \\right)}^{l}}\n",
    "\\left(\\int\\limits_{\\varphi_m=0}^{2\\pi}\\,{cos\\,{\\varphi_m }}{P_l} \\cos \\left( \\gamma  \\right)\\, d \\varphi_m\\right) \\, d \\theta_m \\,d r_m\n",
    "\\end{array}\n",
    "\\end{equation}"
   ]
  },
  {
   "cell_type": "markdown",
   "id": "c59b680f",
   "metadata": {},
   "source": [
    "\\begin{equation}\n",
    "\\begin{array}{c}\n",
    "A_q = \n",
    "\\sum\\limits_{l=0}^{\\infty }\n",
    "\\int\\limits_{r_m=0}^{r_a}\\,\n",
    "j_r(r_m) \\,{{\\left( \\frac{r_m}{r_a} \\right)}^{l}}\n",
    "\\int\\limits_{\\theta_m=0}^{\\pi}\\,\n",
    "\\frac{ j_{\\theta}(\\theta_m) \\, r_m^2}{c\\,r_a}\\,\\sin \\theta_m\n",
    "\\left(\\int\\limits_{\\varphi_m=0}^{2\\pi}\\,{cos\\,{\\varphi_m } }{P_l} \\cos \\left( \\gamma  \\right)\\, d \\varphi_m\\right) \\, d \\theta_m \\,d r_m \\\\ +\n",
    "\\sum\\limits_{l=0}^{\\infty }\n",
    "\\int\\limits_{r_m=r_a}^{\\infty}\\,\n",
    "j_r(r_m) \\,{{\\left( \\frac{r_a}{r_m} \\right)}^{l}}\n",
    "\\int\\limits_{\\theta_m=0}^{\\pi}\\,\n",
    "\\frac{ j_{\\theta}(\\theta_m) \\, r_m^2}{c\\,r_m}\\,\\sin \\theta_m\n",
    "\\left(\\int\\limits_{\\varphi_m=0}^{2\\pi}\\,{cos\\,{\\varphi_m }}{P_l} \\cos \\left( \\gamma  \\right)\\, d \\varphi_m\\right) \\, d \\theta_m \\,d r_m\n",
    "\\end{array}\n",
    "\\end{equation}"
   ]
  },
  {
   "cell_type": "markdown",
   "id": "804007e6",
   "metadata": {},
   "source": [
    "\\begin{equation}\n",
    "\\begin{array}{c}\n",
    "A_q = \n",
    "\\sum\\limits_{l=0}^{\\infty }\n",
    "\\int\\limits_{r_m=0}^{r_a}\\,\n",
    "j_r(r_m) \\,{{\\left( \\frac{r_m}{r_a} \\right)}^{l}}\\,\\frac{ j_{\\theta}(\\theta_m) \\, r_m^2}{c\\,r_a}\n",
    "\\int\\limits_{\\theta_m=0}^{\\pi}\\,\n",
    "\\,\\sin \\theta_m\n",
    "\\left(\\int\\limits_{\\varphi_m=0}^{2\\pi}\\,{cos\\,{\\varphi_m } }{P_l} \\cos \\left( \\gamma  \\right)\\, d \\varphi_m\\right) \\, d \\theta_m \\,d r_m \\\\ +\n",
    "\\sum\\limits_{l=0}^{\\infty }\n",
    "\\int\\limits_{r_m=r_a}^{\\infty}\\,\n",
    "j_r(r_m) \\,{{\\left( \\frac{r_a}{r_m} \\right)}^{l}}\\,\\frac{ j_{\\theta}(\\theta_m) \\, r_m^2}{c\\,r_m}\n",
    "\\int\\limits_{\\theta_m=0}^{\\pi}\\,\n",
    "\\,\\sin \\theta_m\n",
    "\\left(\\int\\limits_{\\varphi_m=0}^{2\\pi}\\,{cos\\,{\\varphi_m }}{P_l} \\cos \\left( \\gamma  \\right)\\, d \\varphi_m\\right) \\, d \\theta_m \\,d r_m\n",
    "\\end{array}\n",
    "\\end{equation}"
   ]
  },
  {
   "cell_type": "markdown",
   "id": "c389fa69",
   "metadata": {},
   "source": [
    "\\begin{equation}\n",
    "\\begin{array}{c}\n",
    "A_q = \n",
    "\\sum\\limits_{l=0}^{\\infty }\n",
    "\\int\\limits_{r_m=0}^{r_a}\\,\n",
    "j_r(r_m) \\,{{\\left( \\frac{r_m}{r_a} \\right)}^{l}}\\,\\frac{ r_m^2}{c\\,r_a} \\,d r_m\n",
    "\\int\\limits_{\\theta_m=0}^{\\pi}\\,\n",
    "\\,j_{\\theta}(\\theta_m) \\, \\sin \\theta_m\n",
    "\\left(\\int\\limits_{\\varphi_m=0}^{2\\pi}\\,{cos\\,{\\varphi_m } }{P_l} \\cos \\left( \\gamma  \\right)\\, d \\varphi_m\\right) \\, d \\theta_m \\\\ +\n",
    "\\sum\\limits_{l=0}^{\\infty }\n",
    "\\int\\limits_{r_m=r_a}^{\\infty}\\,\n",
    "j_r(r_m) \\,{{\\left( \\frac{r_a}{r_m} \\right)}^{l}}\\,\\frac{ r_m^2}{c\\,r_m} \\,d r_m\n",
    "\\int\\limits_{\\theta_m=0}^{\\pi}\\,\n",
    "\\,j_{\\theta}(\\theta_m) \\, \\sin \\theta_m\n",
    "\\left(\\int\\limits_{\\varphi_m=0}^{2\\pi}\\,{cos\\,{\\varphi_m }}{P_l} \\cos \\left( \\gamma  \\right)\\, d \\varphi_m\\right) \\, d \\theta_m\n",
    "\\end{array}\n",
    "\\end{equation}"
   ]
  },
  {
   "cell_type": "markdown",
   "id": "109a0785",
   "metadata": {},
   "source": [
    "Обозначим\n",
    "\n",
    "$S_{l}(\\theta_m, \\theta_a) = \\left(\\int\\limits_{{\\left(\\varphi_m - \\varphi_a\\right)}=0}^{2\\pi}\\,{cos\\,{{\\left(\\varphi_m - \\varphi_a\\right)} } }{P_l} \\cos \\left( \\gamma  \\right)\\, d {\\left(\\varphi_m - \\varphi_a\\right)}\\right)$\n",
    "\n",
    "Введя обозначение\n",
    "\n",
    "$$M_l\\left(j_{\\theta}, \\theta_a\\right)={\\int\\limits_{0}^{\\pi} j_{\\theta}(\\theta_m)\\,S_l(\\theta_m, \\theta_a)\\,sin\\left(\\theta_m\\right)\\,{d \\theta_{m}}}$$"
   ]
  },
  {
   "cell_type": "markdown",
   "id": "7c2807e3",
   "metadata": {},
   "source": [
    "\\begin{equation}\n",
    "\\begin{array}{c}\n",
    "A_q = \n",
    "\\sum\\limits_{l=0}^{\\infty }\n",
    "\\int\\limits_{r_m=0}^{r_a}\\,\n",
    "j_r(r_m) \\,{{\\left( \\frac{r_m}{r_a} \\right)}^{l}}\\,\\frac{ r_m^2}{c\\,r_a} \\,d r_m\n",
    "M_l\\left(j_{\\theta}, \\theta_a\\right) \\\\ +\n",
    "\\sum\\limits_{l=0}^{\\infty }\n",
    "\\int\\limits_{r_m=r_a}^{\\infty}\\,\n",
    "j_r(r_m) \\,{{\\left( \\frac{r_a}{r_m} \\right)}^{l}}\\,\\frac{ r_m^2}{c\\,r_m} \\,d r_m\n",
    "M_l\\left(j_{\\theta}, \\theta_a\\right)\n",
    "\\end{array}\n",
    "\\end{equation}"
   ]
  },
  {
   "cell_type": "markdown",
   "id": "9b8048c9",
   "metadata": {},
   "source": [
    "\\begin{equation}\n",
    "\\begin{array}{c}\n",
    "A_q = \\Bigg\\{\n",
    "\\sum\\limits_{l=0}^{\\infty }\n",
    "\\int\\limits_{r_m=0}^{r_a}\\,\n",
    "j_r(r_m) \\,{{\\left( \\frac{r_m}{r_a} \\right)}^{l}}\\,\\frac{ r_m^2}{r_a} \\,d r_m +\n",
    "\\sum\\limits_{l=0}^{\\infty }\n",
    "\\int\\limits_{r_m=r_a}^{\\infty}\\,\n",
    "j_r(r_m) \\,{{\\left( \\frac{r_a}{r_m} \\right)}^{l}}\\,\\frac{ r_m^2}{r_m} \\,d r_m\n",
    "\\Bigg\\}\n",
    "\\frac{M_l\\left(j_{\\theta}, \\theta_a\\right)}{c}\n",
    "\\end{array}\n",
    "\\end{equation}\n",
    "\n",
    "Вводим дополнительные обозначение\n",
    "\n",
    "$$R_2\\left(l, j_r, r_a\\right)=\\int\\limits_{0}^{r_{a}} r_m\\,j_r(r_m) { \\left(\\frac{r_m}{r_a}\\right)^{l+1}}\\,\n",
    "\\,{d r_{m}}$$\n",
    "\n",
    "$$R_3\\left(l, j_r, r_a\\right)=\\int\\limits_{r_{a}}^{+\\infty} r_m\\,j_r(r_m) {\\left(\\frac{r_a}{r_m}\\right)^l}\\,\n",
    "\\,{d r_{m}}$$\n",
    "\n",
    "\n",
    "теперь мы получили формулу\n",
    "\n",
    "\\begin{equation}\n",
    "\\begin{array}{c}\n",
    "A_q = \\Bigg\\{\n",
    "\\sum\\limits_{l=0}^{\\infty }\n",
    "R_2\\left(l, j_r, r_a\\right) +\n",
    "\\sum\\limits_{l=0}^{\\infty }\n",
    "R_3\\left(l, j_r, r_a\\right)\n",
    "\\Bigg\\}\n",
    "\\frac{M_l\\left(j_{\\theta}, \\theta_a\\right)}{c}\n",
    "\\end{array}\n",
    "\\end{equation}\n",
    "\n",
    "расчёта векторного потенциала на основе заданного распределения магнитных токов"
   ]
  },
  {
   "cell_type": "code",
   "execution_count": null,
   "id": "636d2507",
   "metadata": {},
   "outputs": [],
   "source": []
  },
  {
   "cell_type": "markdown",
   "id": "7cf40e18",
   "metadata": {},
   "source": [
    "# Проверка найденного решения интегрального уравнения методом подстановки в формулу для вычисления скалярного магнитного кулоновского потенциала"
   ]
  },
  {
   "cell_type": "markdown",
   "id": "e2ecfa60",
   "metadata": {},
   "source": [
    "Рассмотрим формулу скалярного магнитного кулоновского потенциала для системы распределённых кольцевых магнитных зарядов"
   ]
  },
  {
   "cell_type": "markdown",
   "id": "9547d1fc",
   "metadata": {},
   "source": [
    "$$\\phi_m = \\int\\limits_{V}^{}\\frac{{\\rho_m}}{R} dV$$\n",
    "\n",
    "where ${{\\rho_m}}$ is density of magnetic charge\n",
    "\n",
    "$${{\\rho_m}} \\sim \\frac{cos(\\theta_m)^{2k+1}}{r^{2}} $$\n",
    "\n",
    "and\n",
    " \n",
    "$${{\\omega_m}} \\sim \\frac{1}{r} $$\n",
    "\n",
    "is angular frequency of magnetic charge"
   ]
  },
  {
   "cell_type": "markdown",
   "id": "6fdd8751",
   "metadata": {},
   "source": [
    "$j_m(r_m, \\theta_m) = j_r(r_m) \\, j_{\\theta}(\\theta_m) = \\rho_r(r_m) \\, \\rho_{\\theta}(\\theta_m)\\, \\omega_{r} (r_m)\\, \\omega_{\\theta} (\\theta_m)$ - плотность магнитного тока"
   ]
  },
  {
   "cell_type": "markdown",
   "id": "9de5d031",
   "metadata": {},
   "source": [
    "\\begin{equation}\n",
    "\\begin{array}{c}\n",
    "\\phi_m = \n",
    "\\int\\limits_{r_m=0}^{r_a}\\,\\int\\limits_{\\theta_m=0}^{\\pi}\\,\\frac{\\rho_m(r_m, \\theta_m) \\,\\sin \\theta_m\\, r_m^2}{r_a} \\sum\\limits_{l=0}^{\\infty }{{\\left( \\frac{r_m}{r_a} \\right)}^{l}}\\left(\\int\\limits_{\\varphi_m=0}^{2\\pi}\\,{cos\\,{\\varphi_m } }{P_l} \\cos \\left( \\gamma  \\right)\\, d \\varphi_m\\right) \\, d \\theta_m \\,d r_m \\\\ +\n",
    "\\int\\limits_{r_m=r_a}^{\\infty}\\,\\int\\limits_{\\theta_m=0}^{\\pi}\\,\\frac{\\rho_m(r_m, \\theta_m) \\,\\sin \\theta_m\\, r_m^2}{r_m} \\sum\\limits_{l=0}^{\\infty }{{\\left( \\frac{r_a}{r_m} \\right)}^{l}}\\left(\\int\\limits_{\\varphi_m=0}^{2\\pi}\\,{cos\\,{\\varphi_m }}{P_l} \\cos \\left( \\gamma  \\right)\\, d \\varphi_m\\right) \\, d \\theta_m \\,d r_m\n",
    "\\end{array}\n",
    "\\end{equation}"
   ]
  },
  {
   "cell_type": "markdown",
   "id": "011fb592",
   "metadata": {},
   "source": [
    "Произведя такие же преобразования которые были произведены для векторного потенциала мы получим формулу\n",
    "\n",
    "\\begin{equation}\n",
    "\\begin{array}{c}\n",
    "\\phi_m = \\Bigg\\{\n",
    "\\sum\\limits_{l=0}^{\\infty }\n",
    "R_2\\left(l, \\rho_r, r_a\\right) +\n",
    "\\sum\\limits_{l=0}^{\\infty }\n",
    "R_3\\left(l, \\rho_r, r_a\\right)\n",
    "\\Bigg\\}\n",
    "{M_l\\left(\\rho_{\\theta}, \\theta_a\\right)}\n",
    "\\end{array}\n",
    "\\end{equation}\n",
    "\n",
    "расчёта скалярного магнитного кулоновского потенциала на основе заданного распределения плотности магнитных зарядов"
   ]
  },
  {
   "cell_type": "code",
   "execution_count": null,
   "id": "94bcb5c0",
   "metadata": {},
   "outputs": [],
   "source": [
    "# Интеграл R2\n",
    "# Интеграл R3\n",
    "\n",
    "sum_cAm = 0\n",
    "sum_phi = 0\n",
    "\n",
    "for ll in range(0,LL):\n",
    "    Mll_j = Ml(l=ll, j_theta=J_theta(theta_m), theta_a=theta_a)\n",
    "    Mll_m = Ml(l=ll, j_theta=rho_theta(theta_m), theta_a=theta_a)\n",
    "    if Mll_j == 0:\n",
    "        continue\n",
    "\n",
    "    R2_j = integrate(r_m * J_r (r_m) * (r_m / r_a)^(ll+1), r_m, 0, r_a)\n",
    "    R3_j = integrate(r_m * J_r (r_m) * (r_a / r_m)^(ll), r_m, r_a, Infinity)\n",
    "    R2_m = integrate(r_m * rho_r (r_m) * (r_m / r_a)^(ll+1), r_m, 0, r_a)\n",
    "    R3_m = integrate(r_m * rho_r (r_m) * (r_a / r_m)^(ll), r_m, r_a, Infinity)\n",
    "\n",
    "    sum_cAm += n_jr * (R2_j + R3_j) * Mll_j\n",
    "    sum_phi += n_jr * (R2_m + R3_m) * Mll_m"
   ]
  },
  {
   "cell_type": "code",
   "execution_count": null,
   "id": "7f4ce003",
   "metadata": {},
   "outputs": [],
   "source": [
    "sum_cAm_latex=\"\\\\sum_{l=0}^{\"+str(LL)+\"}\\\\,\\\\left[\\\\left\\\\{ R_2\\\\left(l, r_a\\\\right)+ R_3\\\\left(l, r_a\\\\right)\\\\right\\\\}\\\\cdot M_l\\\\left(j_{\\\\theta}, \\\\theta_a\\\\right)\\\\right]\""
   ]
  },
  {
   "cell_type": "code",
   "execution_count": null,
   "id": "8aa804ab",
   "metadata": {},
   "outputs": [],
   "source": [
    "contour_plot(sum_cAm\n",
    "        , (theta_a,0,pi), (r_a,0.2,1), fill=False, cmap='hsv', labels=True, \n",
    "title = \"$\"+sum_cAm_latex+\"$\")"
   ]
  },
  {
   "cell_type": "code",
   "execution_count": null,
   "id": "6fcd1923",
   "metadata": {},
   "outputs": [],
   "source": [
    "contour_plot(sum_phi\n",
    "        , (theta_a,0,pi), (r_a,0.2,1), fill=False, cmap='hsv', labels=True, \n",
    "title = \"sum_phi\")"
   ]
  },
  {
   "cell_type": "code",
   "execution_count": null,
   "id": "f7dbf567",
   "metadata": {},
   "outputs": [],
   "source": [
    "sum_cAm_pra = (sum_cAm * pra).full_simplify()\n",
    "sum_cAm_pra_latex = latex_pra + \"\\\\cdot\" + sum_cAm_latex"
   ]
  },
  {
   "cell_type": "markdown",
   "id": "bf91b39a",
   "metadata": {},
   "source": [
    "Векторный потенциал электростатического поля точечного заряда в сферической системе координат"
   ]
  },
  {
   "cell_type": "markdown",
   "id": "e6ade116",
   "metadata": {},
   "source": [
    "$${r_a} A_{\\varphi} = - {сtg \\, \\theta_a}$$"
   ]
  },
  {
   "cell_type": "code",
   "execution_count": null,
   "id": "8a3a3138",
   "metadata": {
    "scrolled": true
   },
   "outputs": [],
   "source": [
    "plot([sum_cAm_pra, cot(theta_a)], theta_a, 0.25, pi-0.25).show(\n",
    "    title=\"$\"+sum_cAm_pra_latex+\"$\")"
   ]
  },
  {
   "cell_type": "markdown",
   "id": "f2ccf0c9",
   "metadata": {},
   "source": [
    "# Поиск решения в виде ряда"
   ]
  },
  {
   "cell_type": "markdown",
   "id": "18d3d4e0",
   "metadata": {},
   "source": [
    "Поскольку для любого значения $k$ используя следующую функцию инициализации решения\n",
    "$j_{\\theta} = cos(\\theta_m)^{2k+1}$\n",
    "для ряда $L\\left(j_{\\theta}, \\theta_a\\right)={\\sum\\limits_{l=0}^{+\\infty} {\\left(2 \\, l + 1\\right)}M_l\\left(j_{\\theta}, \\theta_a\\right)}$ можно найти аппроксимацию в виде $L\\left(j_{\\theta}, \\theta_a\\right) \\approx 2\\,n_{JL}\\,j_{\\theta}(\\theta_m)$ при этом для отношения $\\frac{2 \\, \\cot\\left(\\theta_{a}\\right)}{L\\left(j_{\\theta}, \\theta_a\\right)}$ получается\n",
    "\n",
    "$$\\frac{2 \\, \\cot\\left(\\theta_{a}\\right)}{L\\left(j_{\\theta}, \\theta_a\\right)} \\approx \\frac{2 \\, \\cot\\left(\\theta_{a}\\right)}{2\\,n_{JL}\\,j_{\\theta}(\\theta_m)} = \\frac{\\cot\\left(\\theta_{a}\\right)}{{n_{{JL}_k}}\\,cos(\\theta_m)^{2k+1}}$$\n"
   ]
  },
  {
   "cell_type": "code",
   "execution_count": null,
   "id": "52efac71",
   "metadata": {},
   "outputs": [],
   "source": [
    "from scipy import integrate as scipy_integrate\n",
    "integral = scipy_integrate.quad(NN_mra_per_J_theta_a, 0.2, 0.4)"
   ]
  },
  {
   "cell_type": "markdown",
   "id": "cb6b10e7",
   "metadata": {},
   "source": [
    "\\begin{equation}\n",
    "\\begin{array}{l}\n",
    "\\frac{j_r(r_a)}{c}\\,{r_{a}^3} = \\frac{\\cot\\left(\\theta_{a}\\right)}{n_{JL}\\,j_{\\theta}(\\theta_m))} + \\frac{n_{JN}}{n_{JL}}\n",
    "\\end{array}\n",
    "\\end{equation}"
   ]
  },
  {
   "cell_type": "markdown",
   "id": "47e6ffdc",
   "metadata": {},
   "source": [
    "Данные рассуждения приводят к мысли, что имеет смысл искать решение в виде суммы $j_{\\theta} = \\frac{1}{n}\\sum\\limits_{k} {n_{{JL}_k}} \\cdot cos(\\theta_m)^{2k+1}$ с целью улучшения аппроксимации функции котангенса в ее основной центральной части, исключая область полюсов"
   ]
  },
  {
   "cell_type": "markdown",
   "id": "59150da9",
   "metadata": {},
   "source": [
    "Прежде чем искать это общее решение найдём для начала коэффициенты ${n_{JN}}$ и ${n_{JL}}$ для разных $k$"
   ]
  },
  {
   "cell_type": "code",
   "execution_count": null,
   "id": "29fb2479",
   "metadata": {},
   "outputs": [],
   "source": [
    "k_mJ = []\n",
    "for k in range (0, 12):\n",
    "    print(\"k=\", k)\n",
    "    \n",
    "    d = pi/6\n",
    "    theta_1L = 0.2\n",
    "    theta_2L = 0.4\n",
    "\n",
    "    # инициализируем неизвестную функцию как\n",
    "    J_theta = lambda theta_m : cos(theta_m)^(2*k+1)\n",
    "    J_r = lambda r_m : 1 / r_m^(3)\n",
    "\n",
    "    #k_mJ += [iterate_integral_equation(k, J_theta, J_r, theta_1, theta_2)]\n",
    "    #def iterate_integral_equation(k, J_theta, J_r, theta_1, theta_2):\n",
    "    # находим основные слагаемые интегрального уравнения\n",
    "    from scipy import integrate as scipy_integrate\n",
    "    \n",
    "    N_sum = 0\n",
    "    L_sum = 0\n",
    "    cAm_sum = 0\n",
    "\n",
    "    for ll in range(0,LL):\n",
    "        Mll = Ml(l=ll, j_theta=J_theta(theta_m), theta_a=theta_a)\n",
    "        if 0 == Mll:\n",
    "            continue\n",
    "        L_sum += Kl1(ll)*Mll\n",
    "        R2 = integrate(r_m * J_r (r_m) * (r_m / r_a)^(ll+1), r_m, 0, r_a)\n",
    "        R3 = integrate(r_m * J_r (r_m) * (r_a / r_m)^(ll), r_m, r_a, Infinity)\n",
    "        #print(Mll, \"|*|\", int_R2, \"|||\", int_R3)\n",
    "        R23 = Kl2(ll) * R2 + Kl3(ll) * R3\n",
    "        N_l = R23 * Mll\n",
    "        #print(\"N_l :\", N_l)\n",
    "        N_sum += N_l\n",
    "        cAm_sum += (R2 + R3) * Mll\n",
    "\n",
    "    # Замечая, что функция $j_{\\theta}(\\theta_m)$\n",
    "    # помноженная на множитель $2 m_JL$\n",
    "    # может быть приблизительно аппроксимирована\n",
    "    # суммой ряда\n",
    "    # $\\sum_{l=0}^{LL}\\, {\\left(2 \\, l + 1\\right)}M_l\\left(j_{\\theta}, \\theta_a\\right)$\n",
    "    # найдем множитель $m_JL$ графическим методом\n",
    "    # и методом интегрирования\n",
    "    \n",
    "    L_sum_per_J_theta_a = L_sum/(2*J_theta(theta_a))\n",
    "    plot(L_sum_per_J_theta_a,\n",
    "         theta_a, 0.0, pi,\n",
    "         ymin=5,ymax=8).show(\n",
    "        title=\"$\"+L_sum_per_J_theta_a_latex+\"$\\n\")\n",
    "\n",
    "    exec(preparse(\"sum_of_LL_per_J_theta_a = lambda theta_a : \"\n",
    "              + str(L_sum_per_J_theta_a)))\n",
    "    \n",
    "    integral = scipy_integrate.quad(sum_of_LL_per_J_theta_a,\n",
    "                                    theta_1L, theta_2L)\n",
    "\n",
    "    # Таким образом множитель $m_{JL}$ составляет\n",
    "    n_JL = (integral[0] / (theta_2L - theta_1L)).n()\n",
    "    print(\"theta_1, theta_2=\", theta_1, theta_2)\n",
    "    print(\"integral=\", integral)\n",
    "    print(\"n_JL=\", n_JL)\n",
    "\n",
    "    # Теперь аппроксимация функции\n",
    "    # $2\\,m_J\\,j_{\\theta}(\\theta_m)$\n",
    "    # суммой ряда $\\sum_{l=0}^{LL}\\, {\\left(2 \\, l + 1\\right)}M_l\\left(j_{\\theta}, \\theta_a\\right)$\n",
    "    # может быть показана наглядно графически\n",
    "\n",
    "    # Таким образом и выражение\n",
    "    # $L\\left(j_{\\theta}, \\theta_a\\right)={\\sum\\limits_{l=0}^{+\\infty} {\\left(2 \\, l + 1\\right)}M_l\\left(j_{\\theta}, \\theta_a\\right)}$ найденное численно суммированием ряда не до бесконечности а до числа $LL$\n",
    "    # может быть аппроксимировано через\n",
    "    # $2\\,m_{JL}\\,j_{\\theta}(\\theta_m)$\n",
    "\n",
    "    L_approx = 2*J_theta(theta_a)*n_JL\n",
    "    L_approx_latex = latex(L_approx)\n",
    "\n",
    "    plot([L_sum, L_approx], theta_a, 0, pi).show(\n",
    "        title=\"$\"+L_sum_latex+\",\"+L_approx_latex+\"$\")\n",
    "    \n",
    "    # Аналогичным способом может быть найден обратный коэффициент $k_{JL}$\n",
    "\n",
    "    J_theta_a_per_L_sum = 2*J_theta(theta_a)/L_sum\n",
    "    J_theta_a_per_L_sum_latex=\"{2\\\\,J_{\\\\theta}(\\\\theta_a)}/{\"+L_sum_latex+\"}\"\n",
    "\n",
    "    plot(J_theta_a_per_L_sum, theta_a, 0.0, pi-0.0,ymin=0.12,ymax=0.2).show(\n",
    "        title=\"$\"+J_theta_a_per_L_sum_latex+\"$\")\n",
    "\n",
    "    exec(preparse(\"J_theta_a_per_LL = lambda theta_a : \"\n",
    "                  + str(J_theta_a_per_L_sum)))\n",
    "\n",
    "    from scipy import integrate as scipy_integrate\n",
    "    integral = scipy_integrate.quad(J_theta_a_per_LL,\n",
    "                                    theta_1L, theta_2L)\n",
    "\n",
    "    k_JL = (integral[0] / (theta_2L - theta_1L)).n()\n",
    "    print(\"integral=\", integral)\n",
    "    print(\"k_JL=\", k_JL)\n",
    "\n",
    "    L_approx_k = 2*J_theta(theta_a)/k_JL\n",
    "\n",
    "    plot([L_sum, L_approx_k], theta_a, 0, pi).show(\n",
    "        title=\"$L\\\\_sum=\"+L_sum_latex+\"$\")\n",
    "\n",
    "    # Теперь рассмотрим слагаемое интегрального уравнения\n",
    "    # N\\left(j_r, j_{\\theta}, r_a, \\theta_a\\right)\n",
    "\n",
    "    # Умножая теперь\n",
    "    # $N\\left(j_r, j_{\\theta}, r_a, \\theta_a\\right)$\n",
    "    # на этот множитель получаем новую функцию\n",
    "    # зависящую лишь от $\\left(j_r, j_{\\theta}, \\theta_a\\right)$\n",
    "\n",
    "    N_sum_pra = (N_sum * pra).full_simplify()\n",
    "\n",
    "    # имеет смысл найти для этой функции также\n",
    "    # найти аппроксимационный множитель\n",
    "\n",
    "    N_sum_pra_per_J_theta_a = N_sum_pra/(2*J_theta(theta_a))\n",
    "\n",
    "    plot(N_sum_pra_per_J_theta_a, theta_a, 0.0, pi-0.0,ymin=5,ymax=8).show(\n",
    "        title=\"$\"+N_sum_pra_per_J_theta_a_latex+\"$\\n\")\n",
    "\n",
    "    exec(preparse(\"sum_of_NN_pra_per_J_theta_a = lambda theta_a : \"\n",
    "                  + str(N_sum_pra_per_J_theta_a)))\n",
    "\n",
    "    integral = scipy_integrate.quad(sum_of_NN_pra_per_J_theta_a,\n",
    "                                    0.2, 0.4)\n",
    "\n",
    "    n_JN = (integral[0] / (.2)).n()\n",
    "    print(\"integral=\", integral)\n",
    "    print(\"n_JN=\", n_JN)\n",
    "\n",
    "    N_approx = 2*J_theta(theta_a)*n_JN\n",
    "    N_approx_latex = latex(N_approx)\n",
    "\n",
    "    plot([N_sum_pra, N_approx], theta_a, 0, pi).show(\n",
    "        title=\"$\"+N_sum_pra_latex+\",\"+N_approx_latex+\"$\")\n",
    "\n",
    "    # Аналогичным способом может быть найден обратный коэффициент $k_{JN}$\n",
    "\n",
    "    J_theta_a_per_N_sum_pra = 2*J_theta(theta_a)/N_sum_pra\n",
    "    J_theta_a_per_N_sum_pra_latex=\"{2\\\\,J_{\\\\theta}(\\\\theta_a)}/{\"+N_sum_pra_latex+\"}\"\n",
    "\n",
    "    plot(J_theta_a_per_N_sum_pra, theta_a, 0.0, pi-0.0,ymin=0.,ymax=0.2).show(\n",
    "        title=\"$\"+J_theta_a_per_N_sum_pra_latex+\"$\")\n",
    "\n",
    "    exec(preparse(\"J_theta_a_per_NN = lambda theta_a : \"\n",
    "                  + str(J_theta_a_per_N_sum_pra)))\n",
    "\n",
    "    theta_1 = 0.05\n",
    "    theta_2 = 0.3\n",
    "\n",
    "    from scipy import integrate as scipy_integrate\n",
    "    integral = scipy_integrate.quad( \\\n",
    "                J_theta_a_per_NN, theta_1, theta_2)\n",
    "\n",
    "    k_JN = (integral[0] / (theta_2 - theta_1)).n()\n",
    "\n",
    "    N_approx_k = 2*J_theta(theta_a)/k_JN\n",
    "    plot([N_sum_pra, N_approx_k], theta_a, 0, pi).show(\n",
    "        title=\"$N\\\\_sum=\"+N_sum_pra_latex+\"$\")\n",
    "    \n",
    "    \n",
    "    # Теперь рассмотрим отношение $\\frac{2 \\, \\cot\\left(\\theta_{a}\\right)}{L\\left(j_{\\theta}, \\theta_a\\right)}$\n",
    "\n",
    "    # 2*cot(theta_a)/L_approx\n",
    "\n",
    "    two_cot_theta_a_per_L_approx = 2*cot(theta_a)/L_approx\n",
    "    plot(two_cot_theta_a_per_L_approx, theta_a, 0.2, 0.6).show(\n",
    "        title=\"2 cot_theta_a/L_approx\")\n",
    "\n",
    "    # Найдем для этого соотношения аппроксимационный множитель\n",
    "\n",
    "    exec(preparse(\"two_cot_theta_a_per_L = lambda theta_a : \"\n",
    "                  + str(two_cot_theta_a_per_L_approx)))\n",
    "\n",
    "    theta1 = 0.3\n",
    "    theta2 = 0.4\n",
    "\n",
    "    integral = scipy_integrate.quad( \\\n",
    "                two_cot_theta_a_per_L, theta1, theta2)\n",
    "\n",
    "    n_Jcot = (integral[0] / (theta2 - theta1)).n()\n",
    "\n",
    "    # Рассмотрим на графике точность аппроксимации\n",
    "\n",
    "    plot([2*cot(theta_a), L_approx*n_Jcot], theta_a, 0.1, pi-0.1).show(\n",
    "        title=\"2 cot_theta_a/L_approx\")\n",
    "\n",
    "    # Теперь мы можем найти правую часть в уравнении\n",
    "    # \\frac{j_r(r_a)}{c}\\,{r_{a}^3} = \n",
    "    # \\frac{2 \\cot\\left(\\theta_{a}\\right)}{L\\left(j_{\\theta}, \\theta_a\\right)}\n",
    "    # + \\frac{n_{JN}}{n_{JL}}\n",
    "\n",
    "    # n_Jcot + n_JN/n_JL\n",
    "    n_jr = n_Lcot + n_JN/n_JL\n",
    "    k_mJ += [(k, n_JL, k_JL, n_JN, k_JN, n_Jcot, n_jr)]\n",
    "    \n",
    "    # Проверка найденного решения интегрального уравнения\n",
    "    # методом подстановки в формулу\n",
    "    # для вычисления векторного потенциала\n",
    "    \n",
    "    cAm_sum = 0\n",
    "\n",
    "    for ll in range(0,LL):\n",
    "        Mll = Ml(l=ll, j_theta=J_theta(theta_m), theta_a=theta_a)\n",
    "        if 0 == Mll:\n",
    "            continue\n",
    "        R2 = integrate(r_m * J_r (r_m) * (r_m / r_a)^(ll+1), r_m, 0, r_a)\n",
    "        R3 = integrate(r_m * J_r (r_m) * (r_a / r_m)^(ll), r_m, r_a, Infinity)\n",
    "        #print(Mll, \"|*|\", int_R2, \"|||\", int_R3)\n",
    "        R23 = n_jr * (R2 + R3)\n",
    "        R23_Ml = R23 * Mll\n",
    "        #print(\"R23_Ml :\", R23_Ml)\n",
    "        cAm_sum += R23_Ml\n",
    "    \n",
    "    cAm_sum_pra = (cAm_sum * pra).full_simplify()\n",
    "    plot([cAm_sum_pra, -cot(theta_a)], theta_a, 0.25, pi-0.25).show(\n",
    "        title=\"$\"+sum_cAm_pra_latex+\"$\")\n"
   ]
  },
  {
   "cell_type": "code",
   "execution_count": null,
   "id": "9ef3fcd0",
   "metadata": {},
   "outputs": [],
   "source": [
    "k_mJ"
   ]
  },
  {
   "cell_type": "code",
   "execution_count": null,
   "id": "d9259b9b",
   "metadata": {},
   "outputs": [],
   "source": [
    "def iterate_integral_equation(k, J_theta, J_r,\n",
    "                              theta_1L, theta_2L,\n",
    "                              theta_1N, theta_2N,\n",
    "                              theta_1c, theta_2c\n",
    "                             ):\n",
    "    # находим основные слагаемые интегрального уравнения\n",
    "    from scipy import integrate as scipy_integrate\n",
    "    \n",
    "    N_sum = 0\n",
    "    L_sum = 0\n",
    "    cAm_sum = 0\n",
    "\n",
    "    for ll in range(0,LL):\n",
    "        Mll = Ml(l=ll, j_theta=J_theta(theta_m), theta_a=theta_a)\n",
    "        if 0 == Mll:\n",
    "            continue\n",
    "        L_sum += Kl1(ll)*Mll\n",
    "        R2 = integrate(r_m * J_r (r_m) * (r_m / r_a)^(ll+1), r_m, 0, r_a)\n",
    "        R3 = integrate(r_m * J_r (r_m) * (r_a / r_m)^(ll), r_m, r_a, Infinity)\n",
    "        #print(Mll, \"|*|\", int_R2, \"|||\", int_R3)\n",
    "        R23 = Kl2(ll) * R2 + Kl3(ll) * R3\n",
    "        N_l = R23 * Mll\n",
    "        #print(\"N_l :\", N_l)\n",
    "        N_sum += N_l\n",
    "        cAm_sum += (R2 + R3) * Mll\n",
    "\n",
    "    # Замечая, что функция $j_{\\theta}(\\theta_m)$\n",
    "    # помноженная на множитель $2 m_JL$\n",
    "    # может быть приблизительно аппроксимирована\n",
    "    # суммой ряда\n",
    "    # $\\sum_{l=0}^{LL}\\, {\\left(2 \\, l + 1\\right)}M_l\\left(j_{\\theta}, \\theta_a\\right)$\n",
    "    # найдем множитель $m_JL$ графическим методом\n",
    "    # и методом интегрирования\n",
    "    \n",
    "    L_sum_per_J_theta_a = L_sum/(2*J_theta(theta_a))\n",
    "    plot(L_sum_per_J_theta_a,\n",
    "         theta_a, 0.0, pi,\n",
    "         ymin=5,ymax=8).show(\n",
    "        title=\"$\"+L_sum_per_J_theta_a_latex+\"$\\n\")\n",
    "\n",
    "    exec(preparse(\"LL_per_J_theta_a_\" + str(k) + \" = lambda theta_a : \"\n",
    "              + str(L_sum_per_J_theta_a)))\n",
    "    exec(preparse(\"LL_per_J_theta_a += [LL_per_J_theta_a_\" + str(k) + \"]\"))\n",
    "\n",
    "    integral = scipy_integrate.quad(LL_per_J_theta_a[k],\n",
    "                                    theta_1, theta_2)\n",
    "\n",
    "    # Таким образом множитель $m_{JL}$ составляет\n",
    "    n_JL = (integral[0] / (theta_2L - theta_1L)).n()\n",
    "    print(\"integral=\", integral)\n",
    "    print(\"n_JL=\", n_JL)\n",
    "\n",
    "    # Теперь аппроксимация функции\n",
    "    # $2\\,m_J\\,j_{\\theta}(\\theta_m)$\n",
    "    # суммой ряда $\\sum_{l=0}^{LL}\\, {\\left(2 \\, l + 1\\right)}M_l\\left(j_{\\theta}, \\theta_a\\right)$\n",
    "    # может быть показана наглядно графически\n",
    "\n",
    "    # Таким образом и выражение\n",
    "    # $L\\left(j_{\\theta}, \\theta_a\\right)={\\sum\\limits_{l=0}^{+\\infty} {\\left(2 \\, l + 1\\right)}M_l\\left(j_{\\theta}, \\theta_a\\right)}$ найденное численно суммированием ряда не до бесконечности а до числа $LL$\n",
    "    # может быть аппроксимировано через\n",
    "    # $2\\,m_{JL}\\,j_{\\theta}(\\theta_m)$\n",
    "\n",
    "    L_approx = 2*J_theta(theta_a)*n_JL\n",
    "    L_approx_latex = latex(L_approx)\n",
    "\n",
    "    plot([L_sum, L_approx], theta_a, 0, pi).show(\n",
    "        title=\"$\"+L_sum_latex+\",\"+L_approx_latex+\"$\")\n",
    "\n",
    "    # Аналогичным способом может быть найден обратный коэффициент $k_{JL}$\n",
    "\n",
    "    J_theta_a_per_L_sum = 2*J_theta(theta_a)/L_sum\n",
    "    J_theta_a_per_L_sum_latex=\"{2\\\\,J_{\\\\theta}(\\\\theta_a)}/{\"+L_sum_latex+\"}\"\n",
    "\n",
    "    plot(J_theta_a_per_L_sum, theta_a, 0.0, pi-0.0,ymin=0.12,ymax=0.2).show(\n",
    "        title=\"$\"+J_theta_a_per_L_sum_latex+\"$\")\n",
    "\n",
    "    exec(preparse(\"J_theta_a_per_LL_\" + str(k) + \" = lambda theta_a : \"\n",
    "                  + str(J_theta_a_per_L_sum)))\n",
    "    exec(preparse(\"J_theta_a_per_LL += [J_theta_a_per_LL_\" + str(k) + \"]\"))\n",
    "\n",
    "    from scipy import integrate as scipy_integrate\n",
    "    integral = scipy_integrate.quad(J_theta_a_per_LL[k],\n",
    "                                    theta_1L, theta_2L)\n",
    "\n",
    "    k_JL = (integral[0] / (theta_2L - theta_1L)).n()\n",
    "    print(\"integral=\", integral)\n",
    "    print(\"k_JL=\", k_JL)\n",
    "\n",
    "    L_approx_k = 2*J_theta(theta_a)/k_JL\n",
    "\n",
    "    plot([L_sum, L_approx_k], theta_a, 0, pi).show(\n",
    "        title=\"$L\\\\_sum=\"+L_sum_latex+\"$\")\n",
    "\n",
    "    # Теперь рассмотрим слагаемое интегрального уравнения\n",
    "    # N\\left(j_r, j_{\\theta}, r_a, \\theta_a\\right)\n",
    "\n",
    "    # Умножая теперь\n",
    "    # $N\\left(j_r, j_{\\theta}, r_a, \\theta_a\\right)$\n",
    "    # на этот множитель получаем новую функцию\n",
    "    # зависящую лишь от $\\left(j_r, j_{\\theta}, \\theta_a\\right)$\n",
    "\n",
    "    N_sum_pra = (N_sum * pra).full_simplify()\n",
    "\n",
    "    # имеет смысл найти для этой функции также\n",
    "    # найти аппроксимационный множитель\n",
    "\n",
    "    N_sum_pra_per_J_theta_a = N_sum_pra/(2*J_theta(theta_a))\n",
    "\n",
    "    plot(N_sum_pra_per_J_theta_a, theta_a, 0.0, pi-0.0,ymin=5,ymax=8).show(\n",
    "        title=\"$\"+N_sum_pra_per_J_theta_a_latex+\"$\\n\")\n",
    "\n",
    "    exec(preparse(\"NN_pra_per_J_theta_a_\" + str(k) + \" = lambda theta_a : \"\n",
    "                  + str(N_sum_pra_per_J_theta_a)))\n",
    "    exec(preparse(\"NN_pra_per_J_theta_a += [NN_pra_per_J_theta_a_\" + str(k) + \"]\"))\n",
    "\n",
    "    integral = scipy_integrate.quad(NN_pra_per_J_theta_a[k],\n",
    "                                    theta_1N, theta_2N)\n",
    "\n",
    "    n_JN = (integral[0] / (theta_2N-theta_1N)).n()\n",
    "    print(\"integral=\", integral)\n",
    "    print(\"n_JN=\", n_JN)\n",
    "\n",
    "    N_approx = 2*J_theta(theta_a)*n_JN\n",
    "    N_approx_latex = latex(N_approx)\n",
    "\n",
    "    plot([N_sum_pra, N_approx], theta_a, 0, pi).show(\n",
    "        title=\"$\"+N_sum_pra_latex+\",\"+N_approx_latex+\"$\")\n",
    "    \n",
    "    # Аналогичным способом может быть найден обратный коэффициент $k_{JN}$\n",
    "\n",
    "    J_theta_a_per_N_sum_pra = 2*J_theta(theta_a)/N_sum_pra\n",
    "    J_theta_a_per_N_sum_pra_latex=\"{2\\\\,J_{\\\\theta}(\\\\theta_a)}/{\"+N_sum_pra_latex+\"}\"\n",
    "\n",
    "    plot(J_theta_a_per_N_sum_pra, theta_a, 0.0, pi-0.0,ymin=0.,ymax=0.2).show(\n",
    "        title=\"$\"+J_theta_a_per_N_sum_pra_latex+\"$\")\n",
    "\n",
    "    exec(preparse(\"J_theta_a_per_NN_\" + str(k) + \" = lambda theta_a : \"\n",
    "                  + str(J_theta_a_per_N_sum_pra)))\n",
    "    exec(preparse(\"J_theta_a_per_NN += [J_theta_a_per_NN_\" + str(k) + \"]\"))\n",
    "\n",
    "    from scipy import integrate as scipy_integrate\n",
    "    integral = scipy_integrate.quad( \\\n",
    "                J_theta_a_per_NN[k], theta_1N, theta_2N)\n",
    "\n",
    "    k_JN = (integral[0] / (theta_2N - theta_1N)).n()\n",
    "\n",
    "    N_approx_k = 2*J_theta(theta_a)/k_JN\n",
    "    plot([N_sum_pra, N_approx_k], theta_a, 0, pi).show(\n",
    "        title=\"$N\\\\_sum=\"+N_sum_pra_latex+\"$\")\n",
    "\n",
    "\n",
    "    # Теперь рассмотрим отношение $\\frac{2 \\, \\cot\\left(\\theta_{a}\\right)}{L\\left(j_{\\theta}, \\theta_a\\right)}$\n",
    "\n",
    "    # 2*cot(theta_a)/L_approx\n",
    "\n",
    "    two_cot_theta_a_per_L_approx = 2*cot(theta_a)/L_approx\n",
    "    plot(two_cot_theta_a_per_L_approx, theta_a, 0.2, 0.6).show(\n",
    "        title=\"2 cot_theta_a/L_approx\")\n",
    "\n",
    "    # Найдем для этого соотношения аппроксимационный множитель\n",
    "\n",
    "    exec(preparse(\"two_cot_theta_a_per_L_\" + str(k) + \" = lambda theta_a : \"\n",
    "                  + str(two_cot_theta_a_per_L_approx)))\n",
    "    exec(preparse(\"two_cot_theta_a_per_LL += [two_cot_theta_a_per_L_\" + str(k) + \"]\"))\n",
    "\n",
    "\n",
    "    from scipy import integrate as scipy_integrate\n",
    "    integral = scipy_integrate.quad( \\\n",
    "                two_cot_theta_a_per_LL[k], theta_1c, theta_2c)\n",
    "\n",
    "    n_Jcot = (integral[0] / (theta_2c - theta_1c)).n()\n",
    "    print(\"integral=\", integral)\n",
    "    print(\"n_Jcot=\", n_Jcot)\n",
    "\n",
    "    # Рассмотрим на графике точность аппроксимации\n",
    "\n",
    "    plot([2*cot(theta_a), L_approx*n_Jcot], theta_a, 0.1, pi-0.1).show(\n",
    "        title=\"2 cot_theta_a/L_approx\")\n",
    "\n",
    "    # Теперь мы можем найти правую часть в уравнении\n",
    "    # \\frac{j_r(r_a)}{c}\\,{r_{a}^3} = \n",
    "    # \\frac{2 \\cot\\left(\\theta_{a}\\right)}{L\\left(j_{\\theta}, \\theta_a\\right)}\n",
    "    # + \\frac{n_{JN}}{n_{JL}}\n",
    "\n",
    "    n_jr = n_Lcot + n_JN/n_JL\n",
    "\n",
    "    return (k, n_JL, k_JL, n_JN, k_JN, n_Jcot, n_jr)"
   ]
  },
  {
   "cell_type": "code",
   "execution_count": null,
   "id": "eebd1f9d",
   "metadata": {},
   "outputs": [],
   "source": [
    "LL_per_J_theta_a = []\n",
    "J_theta_a_per_NN = []\n",
    "NN_pra_per_J_theta_a = []\n",
    "J_theta_a_per_LL = []\n",
    "two_cot_theta_a_per_LL = []\n",
    "\n",
    "k_nJ = []\n",
    "for k in range (0, 12):\n",
    "    print(\"k=\", k)\n",
    "\n",
    "    d = pi/6\n",
    "    theta_1L = 0.2\n",
    "    theta_2L = 0.4\n",
    "\n",
    "    theta_1N = 0.2\n",
    "    theta_2N = 0.4\n",
    "\n",
    "    theta_1c = 0.3\n",
    "    theta_2c = 0.4\n",
    "\n",
    "    # инициализируем неизвестную функцию как\n",
    "    J_theta = lambda theta_m : cos(theta_m)^(2*k+1)\n",
    "    J_r = lambda r_m : 1 / r_m^(3)\n",
    "\n",
    "    k_nJ += [iterate_integral_equation(k, J_theta, J_r,\n",
    "                                       theta_1L, theta_2L,\n",
    "                                       theta_1N, theta_2N,\n",
    "                                       theta_1c, theta_2c,\n",
    "                                      )]"
   ]
  },
  {
   "cell_type": "code",
   "execution_count": null,
   "id": "4cebd78d",
   "metadata": {},
   "outputs": [],
   "source": [
    "k_nJ"
   ]
  },
  {
   "cell_type": "markdown",
   "id": "b8b93240",
   "metadata": {},
   "source": [
    "Теперь оценим графически идею искать аппроксимацию функции котангенса в ее основной центральной части, исключая область полюсов виде суммы $\\cot\\left(\\theta_{a}\\right) \\approx j_{\\theta} = \\frac{1}{n}\\sum\\limits_{k} {n_{{JL}_k}} \\cdot cos(\\theta_m)^{2k+1}$ "
   ]
  },
  {
   "cell_type": "code",
   "execution_count": null,
   "id": "13b1d290",
   "metadata": {},
   "outputs": [],
   "source": [
    "sum_L_approx = 0\n",
    "for (k, n_JL, k_JL, n_JN, k_JN, n_Jcot, n_jr) in k_mJ:\n",
    "    J_theta = lambda theta_m : cos(theta_m)^(2*k+1)\n",
    "    J_r = lambda r_m : 1 / r_m^(3)\n",
    "    L_approx = 2*J_theta(theta_a)*n_JL\n",
    "    sum_L_approx += L_approx\n",
    "    # plot([L_approx, cot(theta_a)], theta_a, 0.05, pi-0.05).show(\n",
    "    #    title=\"L\\\\_approx,cot\\\\_theta\\\\_a\")\n",
    "    L_approx_per_cot_theta_a = L_approx/cot(theta_a)\n",
    "    #plot(L_approx_per_cot_theta_a, theta_a, 0.05, pi-0.05).show(\n",
    "    #    title=\"L_approx_per_cot_theta_a\")"
   ]
  },
  {
   "cell_type": "code",
   "execution_count": null,
   "id": "ff89d6f7",
   "metadata": {},
   "outputs": [],
   "source": [
    "plot([sum_L_approx, cot(theta_a)], theta_a, 0.05, pi-0.05).show(\n",
    "    title=\"sum_L_approx, cot_theta_a\")"
   ]
  },
  {
   "cell_type": "code",
   "execution_count": null,
   "id": "5dcdd132",
   "metadata": {},
   "outputs": [],
   "source": [
    "sum_L_approx_per_cot_theta_a = sum_L_approx/cot(theta_a)\n",
    "plot(sum_L_approx_per_cot_theta_a, theta_a, 0.05, pi-0.05).show(\n",
    "    title=\"sum_L_approx_per_cot_theta_a\")"
   ]
  },
  {
   "cell_type": "markdown",
   "id": "e37b025f",
   "metadata": {},
   "source": [
    "Теперь для этого соотношения найдем аппроксимационный множитель"
   ]
  },
  {
   "cell_type": "code",
   "execution_count": null,
   "id": "411cd6a3",
   "metadata": {},
   "outputs": [],
   "source": [
    "exec(preparse(\"sum_L_approx_per_cot = lambda theta_a : \"\n",
    "              + str(sum_L_approx_per_cot_theta_a)))"
   ]
  },
  {
   "cell_type": "code",
   "execution_count": null,
   "id": "b8a37f89",
   "metadata": {},
   "outputs": [],
   "source": [
    "theta_1 = 0.3\n",
    "theta_2 = 0.4"
   ]
  },
  {
   "cell_type": "code",
   "execution_count": null,
   "id": "78ed8395",
   "metadata": {},
   "outputs": [],
   "source": [
    "theta_1 = pi/2 - 1\n",
    "theta_2 = pi/2 + 1"
   ]
  },
  {
   "cell_type": "code",
   "execution_count": null,
   "id": "93303cc2",
   "metadata": {},
   "outputs": [],
   "source": [
    "theta_1 = pi/2 - 1.2\n",
    "theta_2 = pi/2 + 1.2"
   ]
  },
  {
   "cell_type": "code",
   "execution_count": null,
   "id": "37460bb6",
   "metadata": {},
   "outputs": [],
   "source": [
    "from scipy import integrate as scipy_integrate\n",
    "integral = scipy_integrate.quad( \\\n",
    "            sum_L_approx_per_cot, theta_1, theta_2)\n",
    "integral"
   ]
  },
  {
   "cell_type": "code",
   "execution_count": null,
   "id": "aa440358",
   "metadata": {},
   "outputs": [],
   "source": [
    "n_sumLcot = (integral[0] / (theta_2 - theta_1)).n()\n",
    "n_sumLcot"
   ]
  },
  {
   "cell_type": "markdown",
   "id": "8ce00a1e",
   "metadata": {},
   "source": [
    "Рассмотрим на графике точность аппроксимации"
   ]
  },
  {
   "cell_type": "code",
   "execution_count": null,
   "id": "6e3e2f06",
   "metadata": {},
   "outputs": [],
   "source": [
    "cot_approx = sum_L_approx/n_sumLcot"
   ]
  },
  {
   "cell_type": "code",
   "execution_count": null,
   "id": "d70bb4d9",
   "metadata": {},
   "outputs": [],
   "source": [
    "plot([cot(theta_a), cot_approx], theta_a, 0.025, pi-0.025).show(\n",
    "    title=\"cot_theta_a, cot_approx = sum_L_approx*n_sumLcot\")"
   ]
  },
  {
   "cell_type": "code",
   "execution_count": null,
   "id": "926173b4",
   "metadata": {},
   "outputs": [],
   "source": [
    "cot_approx_per_cot_theta_a = cot_approx/cot(theta_a)\n",
    "plot(cot_approx_per_cot_theta_a, theta_a, 0.05, pi-0.05).show(\n",
    "    title=\"cot_approx_per_cot_theta_a\")"
   ]
  },
  {
   "cell_type": "markdown",
   "id": "974bf198",
   "metadata": {},
   "source": [
    "Теперь рассмотрим ещё одну идею искать аппроксимацию функции котангенса в ее основной центральной части, исключая область полюсов виде суммы $\\cot\\left(\\theta_{a}\\right) \\approx j_{\\theta} = \\frac{1}{n_{S_{cot}}} \\cdot\\sum\\limits_{k} -2 \\,sin^{2k+1}\\left(\\frac{7}{8}\\left(\\theta_m - \\frac{\\pi}{2}\\right)\\right)$ "
   ]
  },
  {
   "cell_type": "code",
   "execution_count": null,
   "id": "dcb71abe",
   "metadata": {},
   "outputs": [],
   "source": [
    "sum_S_approx = 0\n",
    "for k in range (0, 20):\n",
    "    J_theta = lambda theta_m : -sin(7/8*(theta_m-pi/2))^(2*k+1)\n",
    "    J_r = lambda r_m : 1 / r_m^(3)\n",
    "    S_approx = 2*J_theta(theta_a)\n",
    "    sum_S_approx += L_approx\n",
    "    \n",
    "    L_approx_per_cot_theta_a = S_approx/cot(theta_a)\n",
    "    #plot(L_approx_per_cot_theta_a, theta_a, 0.05, pi-0.05).show(\n",
    "    #    title=\"L_approx_per_cot_theta_a\")"
   ]
  },
  {
   "cell_type": "code",
   "execution_count": null,
   "id": "54728ede",
   "metadata": {},
   "outputs": [],
   "source": [
    "exec(preparse(\"sum_S_approx_per_cot_theta = lambda theta_a : \"\n",
    "              + str(sum_S_approx_per_cot_theta_a)))"
   ]
  },
  {
   "cell_type": "code",
   "execution_count": null,
   "id": "3f93d328",
   "metadata": {},
   "outputs": [],
   "source": [
    "integral = scipy_integrate.quad(sum_S_approx_per_cot_theta,\n",
    "                                0.05, pi-0.05)\n",
    "integral"
   ]
  },
  {
   "cell_type": "code",
   "execution_count": null,
   "id": "ec15f280",
   "metadata": {},
   "outputs": [],
   "source": [
    "n_Scot = (integral[0] / (pi-0.01*2)).n()\n",
    "n_Scot"
   ]
  },
  {
   "cell_type": "code",
   "execution_count": null,
   "id": "14eb6706",
   "metadata": {},
   "outputs": [],
   "source": [
    "p = plot([cot(theta_a)],\n",
    "     theta_a, 0.02, pi-0.02, color = \"green\")\n",
    "p += plot([1/n_Scot*sum_S_approx(theta_a=theta_a)],\n",
    "     theta_a, 0.02, pi-0.02)\n",
    "p.show(title=\"cot, 1/n_Scot*sum_S_approx\")"
   ]
  },
  {
   "cell_type": "markdown",
   "id": "393407b1",
   "metadata": {},
   "source": [
    "Аппроксимация без весовых коеээфициентов выглядит хуже"
   ]
  },
  {
   "cell_type": "code",
   "execution_count": null,
   "id": "2eae3265",
   "metadata": {},
   "outputs": [],
   "source": []
  },
  {
   "cell_type": "markdown",
   "id": "b5690fd1",
   "metadata": {},
   "source": [
    "Таким образом получено решение в виде суммы $cot\\_approx = j_{\\theta} = \\frac{1}{n}\\sum\\limits_{k} 2{n_{{JL}_k}} \\cdot cos(\\theta_m)^{2k+1}$ с целью улучшения аппроксимации функции котангенса в ее основной центральной части"
   ]
  },
  {
   "cell_type": "markdown",
   "id": "1b621958",
   "metadata": {},
   "source": [
    "# Проверка найденного решения интегрального уравнения методом подстановки в формулу для вычисления векторного потенциала"
   ]
  },
  {
   "cell_type": "markdown",
   "id": "9441813f",
   "metadata": {},
   "source": [
    "Используем формулу\n",
    "\n",
    "\\begin{equation}\n",
    "\\begin{array}{c}\n",
    "A_q = \\Bigg\\{\n",
    "\\sum\\limits_{l=0}^{\\infty }\n",
    "R_2\\left(l, j_r, r_a\\right) +\n",
    "\\sum\\limits_{l=0}^{\\infty }\n",
    "R_3\\left(l, j_r, r_a\\right)\n",
    "\\Bigg\\}\n",
    "\\frac{M_l\\left(j_{\\theta}, \\theta_a\\right)}{c}\n",
    "\\end{array}\n",
    "\\end{equation}\n",
    "\n",
    "расчёта векторного потенциала на основе заданного распределения магнитных токов"
   ]
  },
  {
   "cell_type": "code",
   "execution_count": null,
   "id": "4dc8ce94",
   "metadata": {},
   "outputs": [],
   "source": []
  },
  {
   "cell_type": "code",
   "execution_count": null,
   "id": "b7d64b26",
   "metadata": {},
   "outputs": [],
   "source": [
    "# инициализируем функцию распределения магнитный токов\n",
    "J_theta = lambda theta_a : cot_approx\n",
    "J_r = lambda r_m : 1 / r_m^(3)\n",
    "\n",
    "sum_cAm = 0\n",
    "\n",
    "for ll in range(0,LL):\n",
    "    Mll = Ml(l=ll, j_theta=J_theta(theta_m), theta_a=theta_a)\n",
    "    if 0 == Mll:\n",
    "        continue\n",
    "    R2 = integrate(r_m * J_r (r_m) * (r_m / r_a)^(ll+1), r_m, 0, r_a)\n",
    "    R3 = integrate(r_m * J_r (r_m) * (r_a / r_m)^(ll), r_m, r_a, Infinity)\n",
    "    #print(Mll, \"|*|\", int_R2, \"|||\", int_R3)\n",
    "    R23 = n_jr * (R2 + R3)\n",
    "    R23_Ml = R23 * Mll\n",
    "    #print(\"R23_Ml :\", R23_Ml)\n",
    "    sum_cAm += R23_Ml"
   ]
  },
  {
   "cell_type": "code",
   "execution_count": null,
   "id": "623af6fa",
   "metadata": {},
   "outputs": [],
   "source": [
    "sum_cAm_latex=\"\\\\sum_{l=0}^{\"+str(LL)+\"}\\\\,\\\\left[\\\\left\\\\{ R_2\\\\left(l, r_a\\\\right)+ R_3\\\\left(l, r_a\\\\right)\\\\right\\\\}\\\\cdot M_l\\\\left(j_{\\\\theta}, \\\\theta_a\\\\right)\\\\right]\""
   ]
  },
  {
   "cell_type": "code",
   "execution_count": null,
   "id": "2c8d6209",
   "metadata": {},
   "outputs": [],
   "source": [
    "contour_plot(sum_cAm\n",
    "        , (theta_a,0,pi), (r_a,0.2,1), fill=False, cmap='hsv', labels=True, \n",
    "title = \"$\"+sum_cAm_latex+\"$\")"
   ]
  },
  {
   "cell_type": "code",
   "execution_count": null,
   "id": "82fc9bed",
   "metadata": {},
   "outputs": [],
   "source": [
    "sum_cAm_pra = (sum_cAm * pra).full_simplify()\n",
    "sum_cAm_pra_latex = latex_pra + \"\\\\cdot\" + sum_cAm_latex"
   ]
  },
  {
   "cell_type": "markdown",
   "id": "d6b6773d",
   "metadata": {},
   "source": [
    "Векторный потенциал электростатического поля точечного заряда в сферической системе координат"
   ]
  },
  {
   "cell_type": "markdown",
   "id": "c953c5de",
   "metadata": {},
   "source": [
    "$${r_a} A_{\\varphi} = - {сtg \\, \\theta_a}$$"
   ]
  },
  {
   "cell_type": "code",
   "execution_count": null,
   "id": "ad2539f8",
   "metadata": {
    "scrolled": true
   },
   "outputs": [],
   "source": [
    "plot([sum_cAm_pra, -cot(theta_a)], theta_a, 0, pi-0.05).show(\n",
    "    title=\"$\"+sum_cAm_pra_latex+\"$\")"
   ]
  },
  {
   "cell_type": "code",
   "execution_count": null,
   "id": "8e7b514a",
   "metadata": {},
   "outputs": [],
   "source": []
  }
 ],
 "metadata": {
  "kernelspec": {
   "display_name": "SageMath 9.6.beta7",
   "language": "sage",
   "name": "sagemath"
  },
  "language_info": {
   "codemirror_mode": {
    "name": "ipython",
    "version": 3
   },
   "file_extension": ".py",
   "mimetype": "text/x-python",
   "name": "python",
   "nbconvert_exporter": "python",
   "pygments_lexer": "ipython3",
   "version": "3.10.3"
  }
 },
 "nbformat": 4,
 "nbformat_minor": 5
}
