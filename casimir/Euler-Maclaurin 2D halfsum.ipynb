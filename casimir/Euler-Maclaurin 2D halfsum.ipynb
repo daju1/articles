{
 "cells": [
  {
   "cell_type": "markdown",
   "metadata": {},
   "source": [
    "# Euler–Maclaurin 2D formula (using halfsum)"
   ]
  },
  {
   "cell_type": "code",
   "execution_count": 1,
   "metadata": {},
   "outputs": [],
   "source": [
    "def num_int(f, a, b, v):\n",
    "    from scipy import integrate\n",
    "\n",
    "    try:\n",
    "        if logging:\n",
    "            try:\n",
    "                print (\"v = \", v, \"integrand = \", f(v))\n",
    "            except Exception as ex2:\n",
    "                print (\"Exception ex2 = \", ex2)\n",
    "            \n",
    "        integral = integrate.quad(f, a, b)\n",
    "\n",
    "        result = integral[0]\n",
    "        return result\n",
    "\n",
    "    except Exception as ex:\n",
    "\n",
    "        print (\"Exception ex = \", str(ex))\n",
    "        print (\"f = \", f)\n",
    "        try:\n",
    "            print (\"v = \", v, \"integrand = \", f(v))\n",
    "        except Exception as ex2:\n",
    "            print (\"Exception ex2 = \", ex2)\n",
    "\n",
    "        print (\"a, b = \", a, \",\", b)\n",
    "        try:\n",
    "            print (\"f(a) = \", f(a))\n",
    "        except:\n",
    "            pass\n",
    "        try:\n",
    "            print (\"f(b) = \", f(b))\n",
    "        except:\n",
    "            pass\n",
    "\n",
    "        import inspect\n",
    "        stack = inspect.stack()\n",
    "        for frame in stack:\n",
    "            func_name = frame[3]\n",
    "            print (\"func_name = \", func_name)\n",
    "\n",
    "        if True or \"unable to simplify to float approximation\" == str(ex):\n",
    "            from sage.symbolic.integration.integral import definite_integral\n",
    "            return definite_integral(f(v), v, a, b, hold=True)\n",
    "\n",
    "        raise ex\n",
    "\n",
    "def subs(ex, *argv):\n",
    "    if hasattr(ex, 'subs'):\n",
    "        return ex.subs(*argv)\n",
    "    return ex\n",
    "\n",
    "def e2n(ex):\n",
    "    if hasattr(ex, 'n'):\n",
    "        return ex.n()\n",
    "    return ex"
   ]
  },
  {
   "cell_type": "code",
   "execution_count": 2,
   "metadata": {},
   "outputs": [],
   "source": [
    "logging = False\n",
    "\n",
    "calc_R_p=True\n",
    "\n",
    "def my_euler_maclaurin1(f,symb,a,b,p, f_diff_symb_p=None):\n",
    "    if logging:\n",
    "        print(\"f\", f)\n",
    "        print(\"symb,a,b\", symb, a, b)\n",
    "        print(\"\")\n",
    "\n",
    "\n",
    "    sum_dfdx_a_bernoullis = sum([(diff(f,symb,2*k-1))*(bernoulli(2*k)/factorial(2*k)) for k in range(1,1+int(p/2))])\n",
    "    if logging:\n",
    "        print(\"sum_dfdx_a_bernoullis\", sum_dfdx_a_bernoullis)\n",
    "        print(\"sum_dfdx_a_bernoullis(a)\", sum_dfdx_a_bernoullis.subs(symb == a))\n",
    "        if Infinity != b:\n",
    "            print(\"sum_dfdx_a_bernoullis(b)\", sum_dfdx_a_bernoullis.subs(symb == b))\n",
    "\n",
    "    if True:\n",
    "        B = lambda x, p : bernoulli_polynomial(x, p)\n",
    "        P = lambda x, p : bernoulli_polynomial(x - floor(x), p)\n",
    "        fact = lambda n : factorial(n)\n",
    "    else:\n",
    "        B = function(\"B\")(x,p)\n",
    "        P = function(\"P\")(x,p)\n",
    "        fact = function(\"fact\")(n)\n",
    "        \n",
    "    if True == calc_R_p:\n",
    "        # Can't calculate derivative wrt j + u.\n",
    "        #int_R_p = lambda j : integral(f.diff(symb,p).subs(symb == u+j) * bernoulli_polynomial(u,p)/factorial(p), (u,0,1))\n",
    "        def int_R_p(f,symb,j):\n",
    "            v = var(\"v\")            \n",
    "            if None == f_diff_symb_p:\n",
    "                deriv = diff(f,symb,p)\n",
    "            else:\n",
    "                deriv = f_diff_symb_p\n",
    "            if logging:\n",
    "                print(\"deriv\", deriv)\n",
    "            deriv_s = deriv.subs(symb == v+j)\n",
    "            if logging:\n",
    "                print(\"deriv_s\", deriv_s)\n",
    "            int_f_diff_B_fact = integral(deriv_s * bernoulli_polynomial(v,p)/factorial(p), (v,0,1))\n",
    "            if logging:\n",
    "                print(\"int_f_diff_B_fact\", int_f_diff_B_fact)\n",
    "            return int_f_diff_B_fact\n",
    "        \n",
    "        def int_R_p_shifted_first(f,symb,j):\n",
    "            v = var(\"v\")\n",
    "            fn_shifted = f.subs(symb == v + j)\n",
    "            if logging:\n",
    "                print(\"fn_shifted\", fn_shifted)\n",
    "            deriv = fn_shifted.diff(v,p)\n",
    "            if logging:\n",
    "                print(\"deriv\", deriv)\n",
    "            int_f_diff_B_fact = integral(deriv * B(x=v,p=p)/fact(n=p), (v,0,1))\n",
    "    \n",
    "            if logging:\n",
    "                print(\"int_f_diff_B_fact\", int_f_diff_B_fact)\n",
    "\n",
    "            return int_f_diff_B_fact\n",
    "\n",
    "        if logging:\n",
    "            print(\"int_R_p(j = a)\", int_R_p(f,symb,j = a))\n",
    "            \n",
    "        if use_int_R_p_j:\n",
    "            v, j = var(\"v, j\")\n",
    "            assume(j>0)\n",
    "            from sage.calculus.calculus import symbolic_sum\n",
    "            if change_R_p_order:\n",
    "                # Change order of summation and integration\n",
    "                if use_int_R_p_shifted_first:\n",
    "                    R_p = (-1)^(p+1)*integral(symbolic_sum(f.subs(symb == v+j).diff(v,p)*B(x=v,p=p)/fact(n=p), \\\n",
    "                                                  j, a, b-1), \\\n",
    "                                              (v,0,1))\n",
    "                else:\n",
    "                    if None == f_diff_symb_p:\n",
    "                        f_diff_symb_p = diff(f, symb, p)\n",
    "                    R_p = (-1)^(p+1)*integral(symbolic_sum(f_diff_symb_p.subs(symb == v+j)*B(x=v,p=p)/fact(n=p), \\\n",
    "                                                  j, a, b-1), \\\n",
    "                                              (v,0,1))\n",
    "            else:\n",
    "                if use_int_R_p_shifted_first:\n",
    "                    R_p = (-1)^(p+1)*symbolic_sum(int_R_p_shifted_first(f,symb,j=j), j, a, b-1)\n",
    "                else:\n",
    "                    R_p = (-1)^(+1)*symbolic_sum(int_R_p(f,symb,j=j), j, a, b-1)\n",
    "                \n",
    "        else:\n",
    "            if None == f_diff_symb_p:\n",
    "                f_diff_symb_p = diff(f,symb,p)\n",
    "            if not use_num_int:\n",
    "                R_p = (-1)^(p+1)*integral(f_diff_symb_p * P(x=symb,p=p)/fact(n=p),(symb,a,b),hold=True)\n",
    "            else:\n",
    "                R_p = (-1)^(p+1)*num_int(lambda symb : f_diff_symb_p * P(x=symb,p=p)/fact(n=p), a, b, v=symb)\n",
    "                \n",
    "\n",
    "    int_fn_a_b = integral(f, (symb, a, b))\n",
    "    if logging:\n",
    "        print(\"int_fn_a_b\", int_fn_a_b)\n",
    "        \n",
    "    sum_fa_fb_2 = (subs(f, symb == a) + subs(f, symb == b))/2\n",
    "    \n",
    "    s = int_fn_a_b + sum_fa_fb_2 - subs(sum_dfdx_a_bernoullis, symb == a)\n",
    "    if Infinity != b:\n",
    "        s += sum_dfdx_a_bernoullis.subs(symb == b)\n",
    "    if True == calc_R_p:\n",
    "        s += R_p\n",
    "        \n",
    "    if False:\n",
    "        print(\"int_fn_a_b\", int_fn_a_b)\n",
    "        print(\"sum_dfdx_a_bernoullis(a)\", sum_dfdx_a_bernoullis(a))\n",
    "        if Infinity != b:\n",
    "            print(\"sum_dfdx_a_bernoullis(b)\", sum_dfdx_a_bernoullis(b))\n",
    "        if True == calc_R_p:\n",
    "            print(\"int_R_p(j = a)\", int_R_p(j = a))\n",
    "            print(\"R_p\", R_p)\n",
    "        print(\"\")\n",
    "        print(\"s\",s)\n",
    "    return s"
   ]
  },
  {
   "cell_type": "markdown",
   "metadata": {},
   "source": [
    "$${\\displaystyle \\sum _{i=a}^{b}f(i)=\\int _{a}^{b}f(x)\\,dx+{\\frac {f(a)+f(b)}{2}}+\\sum _{k=1}^{\\lfloor p/2\\rfloor }{\\frac {B_{2k}}{(2k)!}}(f^{(2k-1)}(b)-f^{(2k-1)}(a))+R_{p},}$$"
   ]
  },
  {
   "cell_type": "markdown",
   "metadata": {},
   "source": [
    "$${\\displaystyle \\sum _{i=a}^{b}f(i)=\\int _{a}^{b}f(x)\\,dx+\\sum _{k=1}^{\\lfloor p/2\\rfloor }{\\frac {B_{k}}{(k)!}}(f^{(k-1)}(b)-f^{(k-1)}(a))+R_{p},}$$"
   ]
  },
  {
   "cell_type": "markdown",
   "metadata": {},
   "source": [
    "$${\\displaystyle R_{p}=(-1)^{p+1}\\sum_{j=a}^{b-1} \\int _{0}^{1}f^{(p)}(v+j){\\frac {B_{p}(v)}{p!}}\\,dv.}$$"
   ]
  },
  {
   "cell_type": "markdown",
   "metadata": {},
   "source": [
    "$${\\displaystyle P_{k}(x)=B_{k}(x-\\lfloor x\\rfloor ),}$$\n",
    "\n",
    "$${\\displaystyle R_{p}=(-1)^{p+1}\\int _{a}^{b}f^{(p)}(x){\\frac {P_{p}(x)}{p!}}\\,dx.}$$"
   ]
  },
  {
   "cell_type": "code",
   "execution_count": 3,
   "metadata": {},
   "outputs": [],
   "source": [
    "# https://www.journals.vu.lt/LMJ/article/view/20600/19701\n",
    "# ФОРМУЛА СУММИРОВАНИЯ ЭЙЛЕРА—МАКЛОРЕНА ДЛЯ ФУНКЦИИ МНОГИХ ПЕРЕМЕННЫХ А.БИКЯЛИС\n",
    "# VIII LIETUVOS MATEMATIKOS RINKINYS 4\n",
    "# ЛИТОВСКИЙ МАТЕМАТИЧЕСКИЙ СБОРНИК\n",
    "# 1968\n",
    "\n",
    "# Далее,обе стороны этого равенства суммируем по всем целым m2 из интервала(z2,y2). Получаем\n",
    "\n",
    "if True:\n",
    "    B = lambda x, p : bernoulli_polynomial(x, p)\n",
    "    P = lambda x, p : bernoulli_polynomial(x - floor(x), p)\n",
    "    fact = lambda n : factorial(n)\n",
    "else:\n",
    "    B = function(\"B\")(x,p)\n",
    "    P = function(\"P\")(x,p)\n",
    "    fact = function(\"fact\")(n)\n",
    "\n",
    "def integral_R_p(f,symb,jx,hold, f_diff_symb_p=None):\n",
    "    vx = var(\"v_\"+str(symb))\n",
    "    if None == f_diff_symb_p:\n",
    "        deriv = diff(f, symb,p)\n",
    "    else:\n",
    "        deriv = f_diff_symb_p\n",
    "    if logging:\n",
    "        print(\"deriv\", deriv)\n",
    "\n",
    "    deriv_subs = deriv.subs(symb == vx+jx)\n",
    "    if logging:\n",
    "        print(\"deriv_subs\", deriv_subs)\n",
    "\n",
    "    int_f_diff_B_fact = integral(deriv_subs * bernoulli_polynomial(vx,p)/factorial(p), (vx,0,1), hold=hold)\n",
    "    if logging:\n",
    "        print(\"int_f_diff_B_fact\", int_f_diff_B_fact)\n",
    "\n",
    "    return int_f_diff_B_fact\n",
    "\n",
    "def integral_R_p_shifted_first(f,symb,jx,hold):\n",
    "    vx = var(\"v_\"+str(symb))\n",
    "    fn_shifted = f.subs(symb == vx + jx)\n",
    "    if logging:\n",
    "        print(\"fn_shifted\", fn_shifted)\n",
    "\n",
    "    deriv = fn_shifted.diff(vx,p)\n",
    "    if logging:\n",
    "        print(\"deriv\", deriv)\n",
    "\n",
    "    int_f_diff_B_fact = integral(deriv * B(x=vx,p=p)/fact(n=p), (vx, 0, 1), hold=hold)\n",
    "\n",
    "    if logging:\n",
    "        print(\"int_f_diff_B_fact\", int_f_diff_B_fact)\n",
    "\n",
    "    return int_f_diff_B_fact\n",
    "    \n",
    "    \n",
    "def euler_maclaurin_R_p(f,symb,a,b,p, f_diff_symb_p=None, hold_int=True, hold_sum=True):\n",
    "    if logging:\n",
    "        print(\"f\", f)\n",
    "        print(\"symb,a,b\", symb, a, b)\n",
    "        if f_diff_symb_p is not None:\n",
    "            print(\"f_diff_symb_p\", f_diff_symb_p)\n",
    "        print(\"\")\n",
    "    if use_int_R_p_j:\n",
    "        jx = var('j_'+str(symb))\n",
    "        assume(jx>0)\n",
    "        from sage.calculus.calculus import symbolic_sum\n",
    "        \n",
    "        if change_R_p_order:\n",
    "            vx = var(\"v_\"+str(symb))\n",
    "            # Change order of summation and integration\n",
    "            if use_int_R_p_shifted_first:\n",
    "                R_p = (-1)^(p+1)*integral(symbolic_sum(f.subs(symb == vx+jx).diff(vx,p)*B(x=vx,p=p)/fact(n=p), \\\n",
    "                                              jx, a, b-1, hold=hold_sum), \\\n",
    "                                          (vx,0,1), hold=hold_int)\n",
    "            else:\n",
    "                if None == f_diff_symb_p:\n",
    "                    f_diff_symb_p = diff(f,symb,p)\n",
    "                R_p = (-1)^(p+1)*integral(symbolic_sum(f_diff_symb_p.subs(symb == vx+jx)*B(x=vx,p=p)/fact(n=p), \\\n",
    "                                              jx, a, b-1, hold=hold_sum), \\\n",
    "                                          (vx,0,1), hold=hold_int)\n",
    "        else:       \n",
    "            if use_int_R_p_shifted_first:\n",
    "                term = (-1)^(p+1)*integral_R_p_shifted_first(f=f, symb=symb, jx=jx, hold=hold_int)\n",
    "                R_p = symbolic_sum(term, jx, a, b-1, hold=hold_sum)\n",
    "            else:\n",
    "                term = (-1)^(p+1)*integral_R_p(f=f, symb=symb, jx=jx, hold=hold_int, f_diff_symb_p=f_diff_symb_p)\n",
    "                R_p = symbolic_sum(term, jx, a, b-1, hold=hold_sum)\n",
    "            return R_p, term\n",
    "    else:\n",
    "        if None == f_diff_symb_p:\n",
    "            f_diff_symb_p = diff(f,symb,p)\n",
    "        if not use_num_int:\n",
    "            if logging:\n",
    "                print(\"(-1)^(p+1)*P(x=symb,p=p)/fact(n=p)\", (-1)^(p+1)*P(x=symb,p=p)/fact(n=p))\n",
    "            R_p = (-1)^(p+1)*integral(f_diff_symb_p * P(x=symb,p=p)/fact(n=p),(symb,a,b),hold=hold_int)\n",
    "        else:\n",
    "            R_p = (-1)^(p+1)*num_int(lambda symb: f_diff_symb_p * P(x=symb,p=p)/fact(n=p), a, b, v=symb)\n",
    "            \n",
    "    return R_p"
   ]
  },
  {
   "cell_type": "markdown",
   "metadata": {},
   "source": [
    "$$\\sum _{k=1}^{\\lfloor p/2\\rfloor }{\\frac {B_{k}}{(k)!}}(f^{(k-1)}(b)-f^{(k-1)}(a))$$"
   ]
  },
  {
   "cell_type": "code",
   "execution_count": 4,
   "metadata": {},
   "outputs": [],
   "source": [
    "def half_summa(f,symb,a,b):\n",
    "\n",
    "    if logging:\n",
    "        print(\"half_summa\", f,symb, a, b)\n",
    "        print(\"half_sum(a)\", f.subs(symb == a)/2)\n",
    "        if Infinity != b:\n",
    "            print(\"half_sum(b)\", f.subs(symb == b)/2)\n",
    "\n",
    "    s = subs(f, symb == a)/2\n",
    "    if Infinity != b:\n",
    "        s += f.subs(symb == b)/2\n",
    "    return s\n"
   ]
  },
  {
   "cell_type": "code",
   "execution_count": 5,
   "metadata": {},
   "outputs": [],
   "source": [
    "def sum_dfdx_bernoulis(f,symb,a,b,p):\n",
    "    dfdx_a_bernoullis = []\n",
    "    for k in range(1,1+int(p/2)):\n",
    "        dfdx_a_bernoullis += [(diff(f,symb,2*k-1))*(bernoulli(2*k)/factorial(2*k))]\n",
    "        \n",
    "    sum_dfdx_a_bernoullis = sum(dfdx_a_bernoullis)\n",
    "\n",
    "    if logging:\n",
    "        print(\"sum_dfdx_a_bernoullis\", sum_dfdx_a_bernoullis)\n",
    "        print(\"sum_dfdx_a_bernoullis(a)\", sum_dfdx_a_bernoullis.subs(symb == a))\n",
    "        if Infinity != b:\n",
    "            print(\"sum_dfdx_a_bernoullis(b)\", sum_dfdx_a_bernoullis.subs(symb == b))\n",
    "\n",
    "    s = - subs(sum_dfdx_a_bernoullis, symb == a)\n",
    "    if Infinity != b:\n",
    "        s += subs(sum_dfdx_a_bernoullis, symb == b)\n",
    "    return s"
   ]
  },
  {
   "cell_type": "raw",
   "metadata": {},
   "source": [
    "def sum_dfdx_bernoulis_str(f,symb,a,b,p):\n",
    "    sum_dfdx_a_bernoullis = \"\"\n",
    "    for k in range(1,1+int(p/2)):\n",
    "        if k - 1 > 0:\n",
    "            sum_dfdx_a_bernoullis += \" + (\" + str(bernoulli(2*k)/factorial(2*k)) + \") * (\" + str(f) + \").diff(\" + str(symb) + \", \" + str(2*k-1) + \")\"\n",
    "        else:\n",
    "            sum_dfdx_a_bernoullis += \" + (\" + str(bernoulli(2*k)/factorial(2*k)) + \") * (\" + str(f) + \")\"\n",
    "            \n",
    "\n",
    "    if logging:\n",
    "        print(\"sum_dfdx_a_bernoullis\", sum_dfdx_a_bernoullis)\n",
    "        print(\"sum_dfdx_a_bernoullis(a)\", \"(\" + sum_dfdx_a_bernoullis + \").subs(\" + str(symb) + \"==\" + str(a) + \")\")\n",
    "        if Infinity != b:\n",
    "            print(\"sum_dfdx_a_bernoullis(b)\", \"(\" + sum_dfdx_a_bernoullis + \").subs(\" + str(symb) + \"==\" + str(b) + \")\")\n",
    "    s = \"\"\n",
    "\n",
    "    s += \"- (\" + sum_dfdx_a_bernoullis + \").subs(\" + str(symb) + \"==\" + str(a) + \")\"\n",
    "    if Infinity != b:\n",
    "        s += \" + (\" + sum_dfdx_a_bernoullis + \").subs(\" + str(symb) + \"==\" + str(b) + \")\"\n",
    "    return s\n"
   ]
  },
  {
   "cell_type": "raw",
   "metadata": {},
   "source": [
    "# sumy_sumx = sum_dfdx_bernoulis(sum_dfdx_bernoulis (F(x,y), x, a_x, b_x,p), y, a_y, b_y, p)\n",
    "def sum_dfdy_bernoulis_sum_dfdx_bernoulis_str(f, x, a_x, b_x, y, a_y, b_y, p):\n",
    "    str_f = sum_dfdx_bernoulis_str(f(x=x,y=y), x, a_x, b_x, p)\n",
    "    sum_dfdx_a_bernoullis = \"\"\n",
    "    for k in range(1,1+int(p/2)):\n",
    "        if k - 1 > 0:\n",
    "            sum_dfdx_a_bernoullis += \" + (\" + str(bernoulli(2*k)/factorial(2*k)) + \") * (\" + str_f + \").diff(\" + str(y) + \", \" + str(2*k-1) + \")\"\n",
    "        else:\n",
    "            sum_dfdx_a_bernoullis += \" + (\" + str(bernoulli(2*k)/factorial(2*k)) + \") * (\" + str_f + \")\"\n",
    "\n",
    "    if logging:\n",
    "        print(\"sum_dfdx_a_bernoullis\", sum_dfdx_a_bernoullis)\n",
    "        print(\"sum_dfdx_a_bernoullis(a)\", \"(\" + sum_dfdx_a_bernoullis + \").subs(\" + str(y) + \"==\" + str(a_y) + \")\")\n",
    "        if Infinity != b:\n",
    "            print(\"sum_dfdx_a_bernoullis(b)\", \"(\" + sum_dfdx_a_bernoullis + \").subs(\" + str(y) + \"==\" + str(b_y) + \")\")\n",
    "    s = \"\"\n",
    "\n",
    "    s += \"- (\" + sum_dfdx_a_bernoullis + \").subs(\" + str(y) + \"==\" + str(a_y) + \")\"\n",
    "    if Infinity != b_y:\n",
    "        s += \" + (\" + sum_dfdx_a_bernoullis + \").subs(\" + str(y) + \"==\" + str(b_y) + \")\"\n",
    "    return s"
   ]
  },
  {
   "cell_type": "code",
   "execution_count": 6,
   "metadata": {},
   "outputs": [],
   "source": [
    "def definite_integral_derivative(f, x, a, b, diff_param, hold=True):\n",
    "    from sage.symbolic.integration.integral import definite_integral\n",
    "\n",
    "    if not x.has(diff_param):\n",
    "        # integration variable != differentiation variable\n",
    "        ans = definite_integral(f.diff(diff_param), x, a, b, hold=hold)\n",
    "    else:\n",
    "        ans = SR.zero()\n",
    "\n",
    "    if hasattr(b, 'diff'):\n",
    "        if b.diff(diff_param) != 0:\n",
    "            ans += f.subs(x == b) * b.diff(diff_param)\n",
    "    if hasattr(a, 'diff'):\n",
    "        if a.diff(diff_param) != 0:\n",
    "            ans -= f.subs(x == a) * a.diff(diff_param)\n",
    "\n",
    "    return ans\n"
   ]
  },
  {
   "cell_type": "code",
   "execution_count": 7,
   "metadata": {},
   "outputs": [],
   "source": [
    "def definite_integral_derivative_str(f, x, a, b, diff_param=None, hold=False, algorithm=None):\n",
    "\n",
    "    if not x.has(diff_param):\n",
    "        # integration variable != differentiation variable\n",
    "        if algorithm is not None:\n",
    "            ans = \"integrate((\" + str(f) + \").diff(\" + str(diff_param) + \"), \" + str(x) + \", \" + str(a) + \", \" + str(b) + \", algorithm = \"\\\"\"+ algorithm + \", hold = \" + str(hold) + \")\"\n",
    "        else:\n",
    "            ans = \"definite_integral((\" + str(f) + \").diff(\" + str(diff_param) + \"), \" + str(x) + \", \" + str(a) + \", \" + str(b) + \", hold = \" + str(hold) + \")\"\n",
    "    else:\n",
    "        ans = \"\"\n",
    "\n",
    "    if hasattr(b, 'diff'):\n",
    "        if b.diff(diff_param) != 0:\n",
    "            ans += \" + \" + str(f.subs(x == b) * b.diff(diff_param))\n",
    "    if hasattr(a, 'diff'):\n",
    "        if a.diff(diff_param) != 0:\n",
    "            ans += \" - \" + str(f.subs(x == a) * a.diff(diff_param))\n",
    "\n",
    "    return ans"
   ]
  },
  {
   "cell_type": "code",
   "execution_count": 8,
   "metadata": {},
   "outputs": [],
   "source": [
    "def definite_num_int_derivative_str(f, x, a, b, diff_param=None):\n",
    "\n",
    "    if not x.has(diff_param):\n",
    "        # integration variable != differentiation variable\n",
    "        ans = \"num_int(lambda \" + str(x)+ \" : \" + str(f.diff(diff_param)) + \", \" + str(a) + \", \" + str(b) + \", v = \" + str(x) + \")\"\n",
    "    else:\n",
    "        ans = \"\"\n",
    "\n",
    "    if hasattr(b, 'diff'):\n",
    "        if b.diff(diff_param) != 0:\n",
    "            ans += \" + \" + str(f.subs(x == b) * b.diff(diff_param))\n",
    "    if hasattr(a, 'diff'):\n",
    "        if a.diff(diff_param) != 0:\n",
    "            ans += \" - \" + str(f.subs(x == a) * a.diff(diff_param))\n",
    "\n",
    "    return ans"
   ]
  },
  {
   "cell_type": "markdown",
   "metadata": {},
   "source": [
    "$$\\sum _{k=1}^{\\lfloor p/2\\rfloor }{\\frac {B_{k}}{(k)!}}(g(y)^{(k-1)}(b_y)-g(y)^{(k-1)}(a_y))$$\n",
    "where "
   ]
  },
  {
   "cell_type": "markdown",
   "metadata": {},
   "source": [
    "$$g(y) = {\\displaystyle R_{p}(y)=(-1)^{p+1}\\sum_{j=a_x}^{b_x-1} \\int _{0}^{1}\\frac{\\partial^{p}}{\\partial x^{p}}f(v_x+j,y){\\frac {B_{p}(v_x)}{p!}}\\,dv_x.}$$\n",
    "or"
   ]
  },
  {
   "cell_type": "markdown",
   "metadata": {},
   "source": [
    "$${\\displaystyle P_{k}(x)=B_{k}(x-\\lfloor x\\rfloor ),}$$\n",
    "\n",
    "$$g(y) = {\\displaystyle R_{p}=(-1)^{p+1}\\int _{a_x}^{b_x}\\frac{\\partial^{p}}{\\partial x^{p}}f(x,y){\\frac {P_{p}(x)}{p!}}\\,dx.}$$"
   ]
  },
  {
   "cell_type": "code",
   "execution_count": 9,
   "metadata": {},
   "outputs": [],
   "source": [
    "#int_R_p = integral(euler_maclaurin_R_p(f(x,y), x, a_x, b_x,p), (y, a_y, b_y), hold=True)\n",
    "\n",
    "def integral_euler_maclaurin_R_p(f, x, a_x, b_x, y, a_y, b_y, p, f_diff_x_p, hold_int=True, hold_sum=True):\n",
    "    if logging:\n",
    "        print(\"f\", f)\n",
    "        print(\"f(x,y)\", f(x=x,y=y))\n",
    "        if None != f_diff_x_p:\n",
    "            print(\"f_diff_x_p\", f_diff_x_p)\n",
    "            print(\"f_diff_x_p(x,y)\", f_diff_x_p(x=x,y=y))\n",
    "        print(\"\")\n",
    "    if use_int_R_p_j:\n",
    "        jx = var('j_x')\n",
    "        assume(jx>0)\n",
    "        from sage.calculus.calculus import symbolic_sum\n",
    "        \n",
    "        if change_R_p_order:\n",
    "            vx = var(\"v_\"+str(x))\n",
    "            # Change order of summation and integration\n",
    "            if use_int_R_p_shifted_first:\n",
    "                int_R_p = (-1)^(p+1)*integral(integral(symbolic_sum(f.subs(x == vx+jx).diff(vx,p)*B(x=vx,p=p)/fact(n=p), \\\n",
    "                                              jx, a_x, b_x-1, hold=hold_sum), \\\n",
    "                                          (vx,0,1), hold=hold_int), y, a_y, b_y, hold=hold_int)\n",
    "            else:\n",
    "                if None == f_diff_x_p:\n",
    "                    f_diff_x_p = f.diff(x,p)\n",
    "                int_R_p = (-1)^(p+1)*integral(integral(symbolic_sum(f_diff_x_p.subs(x == vx+jx)*B(x=vx,p=p)/fact(n=p), \\\n",
    "                                              jx, a_x, b_x-1, hold=hold_sum), \\\n",
    "                                          (vx,0,1), hold=hold_int), y, a_y, b_y, hold=hold_int)\n",
    "        else:       \n",
    "            if use_int_R_p_shifted_first:\n",
    "                int_int = (-1)^(p+1)*integral(integral_R_p_shifted_first(f=f, symb=x, jx=jx, hold=hold_int), y, a_y, b_y, hold=hold_int)\n",
    "                int_R_p = symbolic_sum(int_int, jx, a_x, b_x-1, hold=hold_sum)\n",
    "            else:\n",
    "                int_int = (-1)^(p+1)*integral(integral_R_p(f=f, symb=x, jx=jx, hold=hold_int), y, a_y, b_y, hold=hold_int)\n",
    "                int_R_p = symbolic_sum(int_int, jx, a_x, b_x-1, hold=hold_sum)\n",
    "            return (int_R_p, int_int)\n",
    "    else:\n",
    "        if None == f_diff_x_p:\n",
    "            f_diff_x_p = f.diff(x,p)\n",
    "        integrand = lambda x, y, p : f_diff_x_p(x=x,y=y) * P(x=x,p=p)/fact(n=p)\n",
    "        if logging:\n",
    "            print(\"integrand\", integrand(x,y,p))\n",
    "        if not use_num_int:\n",
    "            int_R_p = (-1)^(p+1)*integral(integral(integrand(x,y,p),(x,a_x,b_x),hold=hold_int), y, a_y, b_y, hold=hold_int)\n",
    "        else:\n",
    "            int_R_p = (-1)^(p+1)*num_int(lambda y : num_int(lambda x : integrand(x,y,p), a_x, b_x, x), a_y, b_y, y)\n",
    "            \n",
    "    return int_R_p"
   ]
  },
  {
   "cell_type": "markdown",
   "metadata": {},
   "source": [
    "$${\\displaystyle R_{p}=(-1)^{p+1}\\sum_{j=a_y}^{b_y-1} \\int _{0}^{1}g^{(p)}(v_y+j){\\frac {B_{p}(v_y)}{p!}}\\,dv_y.}$$"
   ]
  },
  {
   "cell_type": "markdown",
   "metadata": {},
   "source": [
    "$${\\displaystyle P_{k}(y)=B_{k}(y-\\lfloor y\\rfloor ),}$$\n",
    "\n",
    "$${\\displaystyle R_{p}=(-1)^{p+1}\\int _{a_y}^{b_y}g^{(p)}(y){\\frac {P_{p}(y)}{p!}}\\,dy.}$$\n",
    "\n",
    "where"
   ]
  },
  {
   "cell_type": "markdown",
   "metadata": {},
   "source": [
    "$$g(y) = {\\displaystyle R_{p}(y)=(-1)^{p+1}\\sum_{j=a_x}^{b_x-1} \\int _{0}^{1}\\frac{\\partial^{p}}{\\partial x^{p}}f(v_x+j,y){\\frac {B_{p}(v_x)}{p!}}\\,dv_x.}$$\n",
    "or"
   ]
  },
  {
   "cell_type": "markdown",
   "metadata": {},
   "source": [
    "$${\\displaystyle P_{k}(x)=B_{k}(x-\\lfloor x\\rfloor ),}$$\n",
    "\n",
    "$$g(y) = {\\displaystyle R_{p}=(-1)^{p+1}\\int _{a_x}^{b_x}\\frac{\\partial^{p}}{\\partial x^{p}}f(x,y){\\frac {P_{p}(x)}{p!}}\\,dx.}$$"
   ]
  },
  {
   "cell_type": "code",
   "execution_count": 10,
   "metadata": {},
   "outputs": [],
   "source": [
    "#R_p_R_p = euler_maclaurin_R_p(euler_maclaurin_R_p(F(x,y), x, a_x, b_x,p), y, a_y, b_y, p)\n",
    "def euler_maclaurin_R_p_euler_maclaurin_R_p(f, x, a_x, b_x, y, a_y, b_y, p, f_diff_x_p_diff_y_p):\n",
    "\n",
    "    from sage.calculus.calculus import symbolic_sum\n",
    "    from sage.symbolic.integration.integral import definite_integral\n",
    "    if use_int_R_p_j:\n",
    "        vx,vy = var(\"v_x, v_y\")\n",
    "        jx,jy = var(\"j_x, j_y\")\n",
    "        assume(v_y+j_y>0)\n",
    "        \n",
    "        if None == f_diff_x_p_diff_y_p:\n",
    "            f_diff_x_p_diff_y_p = f.diff(x,p).diff(y,p)\n",
    "\n",
    "        R_p_R_p = (-1)^(p+1)*symbolic_sum(definite_integral( \\\n",
    "                               (-1)^(p+1)*symbolic_sum(definite_integral(f_diff_x_p_diff_y_p.subs(x == vx + jx)  \\\n",
    "                                                              * B(x=vx,p=p)/fact(n=p), \\\n",
    "                                 vx,0,1,hold=True), v=jx, a=a_x, b=b_x-1,hold=True) \\\n",
    "                                                                        .subs(y == vy + jy)  \\\n",
    "                                                              * B(x=vy,p=p)/fact(n=p), \\\n",
    "                                 vy,0,1,hold=True), v=jy, a=a_y, b=b_y-1,hold=True)\n",
    "    else:\n",
    "        if not use_num_int:\n",
    "\n",
    "            if None == f_diff_x_p_diff_y_p:\n",
    "                f_diff_x_p_diff_y_p = f.diff(x,p)\n",
    "\n",
    "            R_p_R_p = (-1)^(p+1)*definite_integral( \\\n",
    "                               (-1)^(p+1)*definite_integral(f_diff_x_p_diff_y_p  \\\n",
    "                                                              * P(x=x,p=p)/fact(n=p), \\\n",
    "                                 x, a_x, b_x, hold=True).diff(y,p)  \\\n",
    "                                                              * P(x=y,p=p)/fact(n=p), \\\n",
    "                                 y, a_y, b_y, hold=True)\n",
    "        else:\n",
    "            f_diff_x_p_diff_y_p_num_str = \"f_diff_x_diff_y_num = lambda \" + str(x) + \", \" + str(y) + \":\" + str(f(x,y).diff(x,p).diff(y,p))\n",
    "            print(\"f_diff_x_p_diff_y_p_num_str=\", f_diff_x_p_diff_y_p_num_str)                                                                          \n",
    "            exec(preparse(f_diff_x_p_diff_y_p_num_str))\n",
    "            R_p_R_p = (-1)^(p+1)*num_int(lambda y : \\\n",
    "                               (-1)^(p+1)*num_int(lambda x : f_diff_x_p_diff_y_p_num(x,y)  \\\n",
    "                                                              * P(x=x,p=p)/fact(n=p), \\\n",
    "                                 a_x, b_x, v=x)  \\\n",
    "                                                              * P(x=y,p=p)/fact(n=p), \\\n",
    "                                 a_y, b_y, v=y)\n",
    "        \n",
    "    return R_p_R_p"
   ]
  },
  {
   "cell_type": "code",
   "execution_count": 11,
   "metadata": {},
   "outputs": [],
   "source": [
    "#R_p_R_p = euler_maclaurin_R_p(euler_maclaurin_R_p(F(x,y), x, a_x, b_x,p), y, a_y, b_y, p)\n",
    "def euler_maclaurin_R_p_euler_maclaurin_R_p_num_int(f_diff_x_p_diff_y_p, x, a_x, b_x, y, a_y, b_y, p):\n",
    "    integrand = lambda x, y, p : f_diff_x_p_diff_y_p(x=x,y=y) * P(x=x,p=p)/fact(n=p)\n",
    "    if logging:\n",
    "        print(\"integrand =\", integrand(x,y,p))\n",
    "    R_p_R_p = (-1)^(p+1)*num_int(lambda y : \\\n",
    "              (-1)^(p+1)*num_int(lambda x : integrand(x,y,p), a_x, b_x, x) * P(x=y,p=p)/fact(n=p), a_y, b_y, y)\n",
    "    return R_p_R_p"
   ]
  },
  {
   "cell_type": "code",
   "execution_count": 12,
   "metadata": {},
   "outputs": [],
   "source": [
    "def euler_maclaurin1(f, symb, a, b, p, f_diff_symb_p=None, hold_int=True, hold_sum=True):\n",
    "    if logging:\n",
    "        print(\"f\", f)\n",
    "        print(\"symb,a,b\", symb, a, b)\n",
    "        print(\"\")\n",
    "    #u, j = var(\"u, j\")\n",
    "\n",
    "    int_fn_a_b = integral(f, (symb, a, b))\n",
    "    if logging:\n",
    "        print(\"int_fn_a_b\", int_fn_a_b)\n",
    "        \n",
    "    half = half_summa(f,symb,a,b)\n",
    "    if logging:\n",
    "        print(\"half\", half)\n",
    "    \n",
    "    #s = int_fn_a_b + sum_dfdx_a_bernoullis(b) - sum_dfdx_a_bernoullis(a) + R_p\n",
    "    s = int_fn_a_b + half + sum_dfdx_bernoulis(f,symb,a,b,p)\n",
    "    \n",
    "    if True == calc_R_p:\n",
    "        R_p = euler_maclaurin_R_p(f, symb, a, b, p, f_diff_symb_p=f_diff_symb_p,hold_int=hold_int, hold_sum=hold_sum)\n",
    "        if type(R_p) is tuple:\n",
    "            s += R_p[0]\n",
    "        else:\n",
    "            s += R_p\n",
    "\n",
    "    return s"
   ]
  },
  {
   "cell_type": "code",
   "execution_count": 13,
   "metadata": {},
   "outputs": [],
   "source": [
    "from IPython.display import display, Math, Latex"
   ]
  },
  {
   "cell_type": "code",
   "execution_count": 14,
   "metadata": {},
   "outputs": [
    {
     "name": "stdout",
     "output_type": "stream",
     "text": [
      "F(n_x, n_y)\n"
     ]
    }
   ],
   "source": [
    "a_x = var(\"a_x\")\n",
    "b_x = var(\"b_x\")\n",
    "a_y = var(\"a_y\")\n",
    "b_y = var(\"b_y\")\n",
    "\n",
    "assume(a_x, 'real')\n",
    "assume(b_x, 'real')\n",
    "assume(a_y, 'real')\n",
    "assume(b_y, 'real')\n",
    "\n",
    "assume(a_x, 'integer')\n",
    "assume(b_x, 'integer')\n",
    "assume(a_y, 'integer')\n",
    "assume(b_y, 'integer')\n",
    "\n",
    "assume(a_x > 0)\n",
    "assume(b_x > 0)\n",
    "assume(a_y > 0)\n",
    "assume(b_y > 0)\n",
    "\n",
    "n_x,n_y = var(\"n_x,n_y\")\n",
    "\n",
    "n = QQ['n'].0\n",
    "j = QQ['j'].0\n",
    "\n",
    "p = 4\n",
    "# p = 3\n",
    "# p = 2\n",
    "p = 1\n",
    "\n",
    "F = function(\"F\")(n_x, n_y)\n",
    "print(F)"
   ]
  },
  {
   "cell_type": "markdown",
   "metadata": {},
   "source": [
    "$${\\displaystyle R_{p}=(-1)^{p+1}\\sum_{j=a}^{b-1} \\int _{0}^{1}f^{(p)}(u+j){\\frac {B_{p}(u)}{p!}}\\,du.}$$"
   ]
  },
  {
   "cell_type": "code",
   "execution_count": 15,
   "metadata": {},
   "outputs": [],
   "source": [
    "use_int_R_p_j=True\n",
    "change_R_p_order=True\n",
    "use_int_R_p_shifted_first=True\n",
    "use_num_int = False\n",
    "logging = False"
   ]
  },
  {
   "cell_type": "code",
   "execution_count": 16,
   "metadata": {},
   "outputs": [
    {
     "name": "stdout",
     "output_type": "stream",
     "text": [
      "int_int= integrate(integrate(F(n_x, n_y), n_x, a_x, b_x), n_y, a_y, b_y)\n"
     ]
    },
    {
     "data": {
      "text/latex": [
       "$\\displaystyle \\int_{a_{y}}^{b_{y}} \\int_{a_{x}}^{b_{x}} F\\left(n_{x}, n_{y}\\right)\\,{d n_{x}}\\,{d n_{y}}$"
      ],
      "text/plain": [
       "<IPython.core.display.Math object>"
      ]
     },
     "metadata": {},
     "output_type": "display_data"
    }
   ],
   "source": [
    "int_int = integral(integral           (F,(n_x, a_x, b_x)),  (n_y, a_y, b_y))\n",
    "print(\"int_int=\", int_int)\n",
    "display(Math(latex(int_int)))"
   ]
  },
  {
   "cell_type": "code",
   "execution_count": 17,
   "metadata": {},
   "outputs": [
    {
     "name": "stdout",
     "output_type": "stream",
     "text": [
      "int_half= 1/2*integrate(F(a_x, n_y), n_y, a_y, b_y)\n"
     ]
    },
    {
     "data": {
      "text/latex": [
       "$\\displaystyle \\frac{1}{2} \\, \\int_{a_{y}}^{b_{y}} F\\left(a_{x}, n_{y}\\right)\\,{d n_{y}}$"
      ],
      "text/plain": [
       "<IPython.core.display.Math object>"
      ]
     },
     "metadata": {},
     "output_type": "display_data"
    }
   ],
   "source": [
    "int_half = integral (half_summa (F, n_x, a_x, b_x), (n_y, a_y, b_y))\n",
    "print(\"int_half=\", int_half)\n",
    "display(Math(latex(int_half)))"
   ]
  },
  {
   "cell_type": "code",
   "execution_count": 18,
   "metadata": {},
   "outputs": [
    {
     "name": "stdout",
     "output_type": "stream",
     "text": [
      "int_sum= 0\n"
     ]
    },
    {
     "data": {
      "text/latex": [
       "$\\displaystyle 0$"
      ],
      "text/plain": [
       "<IPython.core.display.Math object>"
      ]
     },
     "metadata": {},
     "output_type": "display_data"
    }
   ],
   "source": [
    "int_sum = integral(sum_dfdx_bernoulis (F, n_x, a_x, b_x,p), (n_y, a_y, b_y))\n",
    "print(\"int_sum=\", int_sum)\n",
    "display(Math(latex(int_sum.expand())))"
   ]
  },
  {
   "cell_type": "raw",
   "metadata": {},
   "source": [
    "try:\n",
    "    sumx_str = sum_dfdx_bernoulis_str (F, n_x, a_x, b_x, p)\n",
    "    inty_sumx_str = \"integral(\" + sumx_str + \", (n_y, a_y, b_y))\"\n",
    "    print(\"inty_sumx_str=\", inty_sumx_str)\n",
    "    exec(preparse(\"inty_sumx = lambda n_x, n_y :\" + inty_sumx_str))\n",
    "    print(preparse(\"inty_sumx=\" + inty_sumx_str))\n",
    "    display(Math(\"inty(sumx) = \" + latex(inty_sumx(n_x, n_y))))\n",
    "except Exception as ex:\n",
    "    print(ex)"
   ]
  },
  {
   "cell_type": "code",
   "execution_count": 19,
   "metadata": {},
   "outputs": [
    {
     "name": "stdout",
     "output_type": "stream",
     "text": [
      "inty_R_px= integrate(integrate(sum(1/2*(2*v_n_x - 1)*D[0](F)(j_n_x + v_n_x, n_y), j_n_x, a_x, b_x - 1), v_n_x, 0, 1), n_y, a_y, b_y)\n"
     ]
    },
    {
     "data": {
      "text/latex": [
       "$\\displaystyle \\int_{a_{y}}^{b_{y}} \\int_{0}^{1} {\\sum_{j_{n_{x}}=a_{x}}^{b_{x} - 1} \\frac{1}{2} \\, {\\left(2 \\, v_{n_{x}} - 1\\right)} \\mathrm{D}_{0}\\left(F\\right)\\left(j_{n_{x}} + v_{n_{x}}, n_{y}\\right)}\\,{d v_{n_{x}}}\\,{d n_{y}}$"
      ],
      "text/plain": [
       "<IPython.core.display.Math object>"
      ]
     },
     "metadata": {},
     "output_type": "display_data"
    },
    {
     "name": "stdout",
     "output_type": "stream",
     "text": [
      "inty_R_px= integrate(integrate(sum(1/2*(2*v_n_x - 1)*D[0](F)(j_x + v_n_x, n_y), j_x, a_x, b_x - 1), v_n_x, 0, 1), n_y, a_y, b_y)\n"
     ]
    },
    {
     "data": {
      "text/latex": [
       "$\\displaystyle \\int_{a_{y}}^{b_{y}} \\int_{0}^{1} {\\sum_{j_{x}=a_{x}}^{b_{x} - 1} \\frac{1}{2} \\, {\\left(2 \\, v_{n_{x}} - 1\\right)} \\mathrm{D}_{0}\\left(F\\right)\\left(j_{x} + v_{n_{x}}, n_{y}\\right)}\\,{d v_{n_{x}}}\\,{d n_{y}}$"
      ],
      "text/plain": [
       "<IPython.core.display.Math object>"
      ]
     },
     "metadata": {},
     "output_type": "display_data"
    }
   ],
   "source": [
    "R_px = euler_maclaurin_R_p(F, n_x, a_x, b_x,p)\n",
    "if type(R_px) is tuple:\n",
    "    inty_R_px = integral(R_px[0], (n_y, a_y, b_y), hold=True)\n",
    "else:\n",
    "    inty_R_px = integral(R_px, (n_y, a_y, b_y), hold=True)\n",
    "\n",
    "print(\"inty_R_px=\",inty_R_px)\n",
    "display(Math(latex(inty_R_px)))\n",
    "\n",
    "inty_R_px = integral_euler_maclaurin_R_p(F, n_x, a_x, b_x, n_y, a_y, b_y, p, diff(F,n_x,p), hold_int=True, hold_sum=True)\n",
    "print(\"inty_R_px=\",inty_R_px)\n",
    "display(Math(latex(inty_R_px)))\n"
   ]
  },
  {
   "cell_type": "code",
   "execution_count": 20,
   "metadata": {},
   "outputs": [
    {
     "name": "stdout",
     "output_type": "stream",
     "text": [
      "half_int= 1/2*integrate(F(n_x, a_y), n_x, a_x, b_x)\n"
     ]
    },
    {
     "data": {
      "text/latex": [
       "$\\displaystyle \\frac{1}{2} \\, \\int_{a_{x}}^{b_{x}} F\\left(n_{x}, a_{y}\\right)\\,{d n_{x}}$"
      ],
      "text/plain": [
       "<IPython.core.display.Math object>"
      ]
     },
     "metadata": {},
     "output_type": "display_data"
    }
   ],
   "source": [
    "half_int = half_summa(integral           (F,(n_x, a_x, b_x)),  n_y, a_y, b_y)\n",
    "print(\"half_int=\", half_int)\n",
    "display(Math(latex(half_int)))"
   ]
  },
  {
   "cell_type": "code",
   "execution_count": 21,
   "metadata": {},
   "outputs": [
    {
     "name": "stdout",
     "output_type": "stream",
     "text": [
      "half_half= 1/4*F(a_x, a_y)\n"
     ]
    },
    {
     "data": {
      "text/latex": [
       "$\\displaystyle \\frac{1}{4} \\, F\\left(a_{x}, a_{y}\\right)$"
      ],
      "text/plain": [
       "<IPython.core.display.Math object>"
      ]
     },
     "metadata": {},
     "output_type": "display_data"
    }
   ],
   "source": [
    "half_half = half_summa(half_summa(F, n_x, a_x, b_x), n_y, a_y, b_y)\n",
    "print(\"half_half=\", half_half)\n",
    "display(Math(latex(half_half)))"
   ]
  },
  {
   "cell_type": "code",
   "execution_count": 22,
   "metadata": {},
   "outputs": [
    {
     "name": "stdout",
     "output_type": "stream",
     "text": [
      "half_sum= 0\n"
     ]
    },
    {
     "data": {
      "text/latex": [
       "$\\displaystyle 0$"
      ],
      "text/plain": [
       "<IPython.core.display.Math object>"
      ]
     },
     "metadata": {},
     "output_type": "display_data"
    }
   ],
   "source": [
    "half_sum = half_summa(sum_dfdx_bernoulis (F, n_x, a_x, b_x,p), n_y, a_y, b_y)\n",
    "print(\"half_sum=\",half_sum)\n",
    "display(Math(latex(half_sum)))"
   ]
  },
  {
   "cell_type": "code",
   "execution_count": 23,
   "metadata": {},
   "outputs": [
    {
     "name": "stdout",
     "output_type": "stream",
     "text": [
      "half_R_px= -1/4*integrate(-2*n_x*diff(F(n_x, a_y), n_x), n_x, a_x, b_x) - 1/4*integrate(2*floor(n_x)*diff(F(n_x, a_y), n_x), n_x, a_x, b_x) - 1/4*integrate(diff(F(n_x, a_y), n_x), n_x, a_x, b_x)\n"
     ]
    },
    {
     "data": {
      "text/latex": [
       "$\\displaystyle -\\frac{1}{4} \\, \\int_{a_{x}}^{b_{x}} -2 \\, n_{x} \\frac{\\partial}{\\partial n_{x}}F\\left(n_{x}, a_{y}\\right)\\,{d n_{x}} - \\frac{1}{4} \\, \\int_{a_{x}}^{b_{x}} 2 \\, \\left \\lfloor n_{x} \\right \\rfloor \\frac{\\partial}{\\partial n_{x}}F\\left(n_{x}, a_{y}\\right)\\,{d n_{x}} - \\frac{1}{4} \\, \\int_{a_{x}}^{b_{x}} \\frac{\\partial}{\\partial n_{x}}F\\left(n_{x}, a_{y}\\right)\\,{d n_{x}}$"
      ],
      "text/plain": [
       "<IPython.core.display.Math object>"
      ]
     },
     "metadata": {},
     "output_type": "display_data"
    }
   ],
   "source": [
    "use_int_R_p_j=False\n",
    "\n",
    "# Sagemath 9.3 has bug diff of symbolic_sum\n",
    "# https://trac.sagemath.org/ticket/32161\n",
    "\n",
    "R_p = euler_maclaurin_R_p(F, n_x, a_x, b_x,p, f_diff_symb_p=F.diff(n_x,p))\n",
    "if type(R_p) is tuple:\n",
    "    (R_p, term) = R_p\n",
    "    print(\"term=\", term)\n",
    "    display(Math(latex(term)))\n",
    "\n",
    "half_R_p = half_summa(R_p, n_y, a_y, b_y)\n",
    "print(\"half_R_px=\",half_R_p)\n",
    "display(Math(latex(half_R_p)))"
   ]
  },
  {
   "cell_type": "code",
   "execution_count": 24,
   "metadata": {},
   "outputs": [
    {
     "name": "stdout",
     "output_type": "stream",
     "text": [
      "sum_int= 0\n"
     ]
    },
    {
     "data": {
      "text/latex": [
       "$\\displaystyle 0$"
      ],
      "text/plain": [
       "<IPython.core.display.Math object>"
      ]
     },
     "metadata": {},
     "output_type": "display_data"
    }
   ],
   "source": [
    "sum_int = sum_dfdx_bernoulis(integral           (F,(n_x, a_x, b_x)),  n_y, a_y, b_y, p)\n",
    "print(\"sum_int=\",sum_int)\n",
    "display(Math(latex(sum_int)))"
   ]
  },
  {
   "cell_type": "code",
   "execution_count": 25,
   "metadata": {},
   "outputs": [
    {
     "name": "stdout",
     "output_type": "stream",
     "text": [
      "sum_half= 0\n"
     ]
    },
    {
     "data": {
      "text/latex": [
       "$\\displaystyle 0$"
      ],
      "text/plain": [
       "<IPython.core.display.Math object>"
      ]
     },
     "metadata": {},
     "output_type": "display_data"
    }
   ],
   "source": [
    "sum_half = sum_dfdx_bernoulis(half_summa (F, n_x, a_x, b_x), n_y, a_y, b_y, p)\n",
    "print(\"sum_half=\", sum_half)\n",
    "display(Math(latex(sum_half)))"
   ]
  },
  {
   "cell_type": "code",
   "execution_count": 26,
   "metadata": {},
   "outputs": [
    {
     "name": "stdout",
     "output_type": "stream",
     "text": [
      "sum_sum= 0\n"
     ]
    },
    {
     "data": {
      "text/latex": [
       "$\\displaystyle 0$"
      ],
      "text/plain": [
       "<IPython.core.display.Math object>"
      ]
     },
     "metadata": {},
     "output_type": "display_data"
    }
   ],
   "source": [
    "sum_sum = sum_dfdx_bernoulis(sum_dfdx_bernoulis (F, n_x, a_x, b_x,p), n_y, a_y, b_y, p)\n",
    "print(\"sum_sum=\",sum_sum)\n",
    "display(Math(latex(sum_sum)))"
   ]
  },
  {
   "cell_type": "code",
   "execution_count": 27,
   "metadata": {},
   "outputs": [
    {
     "name": "stdout",
     "output_type": "stream",
     "text": [
      "sum_R_p= 0\n"
     ]
    },
    {
     "data": {
      "text/latex": [
       "$\\displaystyle 0$"
      ],
      "text/plain": [
       "<IPython.core.display.Math object>"
      ]
     },
     "metadata": {},
     "output_type": "display_data"
    }
   ],
   "source": [
    "use_int_R_p_j=True\n",
    "try:\n",
    "    sum_R_p = sum_dfdx_bernoulis(euler_maclaurin_R_p(F, n_x, a_x, b_x,p, f_diff_symb_p=F.diff(n_x,p)), n_y, a_y, b_y, p)\n",
    "    print(\"sum_R_p=\",sum_R_p)\n",
    "    display(Math(latex(sum_R_p)))\n",
    "except Exception as ex:\n",
    "    print(ex)"
   ]
  },
  {
   "cell_type": "code",
   "execution_count": 28,
   "metadata": {},
   "outputs": [
    {
     "name": "stdout",
     "output_type": "stream",
     "text": [
      "sumy_R_px= 0\n"
     ]
    },
    {
     "data": {
      "text/latex": [
       "$\\displaystyle 0$"
      ],
      "text/plain": [
       "<IPython.core.display.Math object>"
      ]
     },
     "metadata": {},
     "output_type": "display_data"
    }
   ],
   "source": [
    "use_int_R_p_j=True\n",
    "try:\n",
    "    # Sagemath 9.3 has bug diff of symbolic_sum\n",
    "    # https://trac.sagemath.org/ticket/32161\n",
    "\n",
    "    R_px = euler_maclaurin_R_p(F, n_x, a_x, b_x,p, f_diff_symb_p=F.diff(n_x,p))\n",
    "    if type(R_px) is tuple:\n",
    "        (R_px, term) = R_px\n",
    "        print(\"term=\", term)\n",
    "        display(Math(latex(term)))\n",
    "\n",
    "\n",
    "    sumy_R_px = sum_dfdx_bernoulis(R_px, n_y, a_y, b_y, p)\n",
    "    print(\"sumy_R_px=\",sumy_R_px)\n",
    "    display(Math(latex(sumy_R_px)))\n",
    "except Exception as ex:\n",
    "    print(ex)"
   ]
  },
  {
   "cell_type": "code",
   "execution_count": 29,
   "metadata": {},
   "outputs": [
    {
     "name": "stdout",
     "output_type": "stream",
     "text": [
      "sum_R_p= 0\n"
     ]
    },
    {
     "data": {
      "text/latex": [
       "$\\displaystyle 0$"
      ],
      "text/plain": [
       "<IPython.core.display.Math object>"
      ]
     },
     "metadata": {},
     "output_type": "display_data"
    }
   ],
   "source": [
    "try:\n",
    "    use_int_R_p_j=True\n",
    "    sum_R_p = sum_dfdx_bernoulis(euler_maclaurin_R_p(F, n_x, a_x, b_x,p, f_diff_symb_p=F.diff(n_x,p)), n_y, a_y, b_y, p)\n",
    "    print(\"sum_R_p=\",sum_R_p)\n",
    "    display(Math(latex(sum_R_p)))\n",
    "except Exception as ex:\n",
    "    print(ex)"
   ]
  },
  {
   "cell_type": "code",
   "execution_count": 30,
   "metadata": {},
   "outputs": [
    {
     "name": "stdout",
     "output_type": "stream",
     "text": [
      "R_px= integrate(sum(1/2*(2*v_n_x - 1)*D[0](F)(j_n_x + v_n_x, n_y), j_n_x, a_x, b_x - 1), v_n_x, 0, 1)\n"
     ]
    },
    {
     "data": {
      "text/latex": [
       "$\\displaystyle \\int_{0}^{1} {\\sum_{j_{n_{x}}=a_{x}}^{b_{x} - 1} \\frac{1}{2} \\, {\\left(2 \\, v_{n_{x}} - 1\\right)} \\mathrm{D}_{0}\\left(F\\right)\\left(j_{n_{x}} + v_{n_{x}}, n_{y}\\right)}\\,{d v_{n_{x}}}$"
      ],
      "text/plain": [
       "<IPython.core.display.Math object>"
      ]
     },
     "metadata": {},
     "output_type": "display_data"
    },
    {
     "name": "stdout",
     "output_type": "stream",
     "text": [
      "sumy_R_px= 0\n"
     ]
    },
    {
     "data": {
      "text/latex": [
       "$\\displaystyle 0$"
      ],
      "text/plain": [
       "<IPython.core.display.Math object>"
      ]
     },
     "metadata": {},
     "output_type": "display_data"
    },
    {
     "name": "stdout",
     "output_type": "stream",
     "text": [
      "sum_R_p= 0\n"
     ]
    },
    {
     "data": {
      "text/latex": [
       "$\\displaystyle 0$"
      ],
      "text/plain": [
       "<IPython.core.display.Math object>"
      ]
     },
     "metadata": {},
     "output_type": "display_data"
    }
   ],
   "source": [
    "try:\n",
    "    use_int_R_p_j=True\n",
    "    # Sagemath 9.3 has bug diff of symbolic_sum\n",
    "    # https://trac.sagemath.org/ticket/32161\n",
    "\n",
    "    R_px = euler_maclaurin_R_p(F, n_x, a_x, b_x,p, f_diff_symb_p=F.diff(n_x,p))\n",
    "    print(\"R_px=\", R_px)\n",
    "    display(Math(latex(R_px)))\n",
    "\n",
    "    sumy_R_px = sum_dfdx_bernoulis(R_px, n_y, a_y, b_y, p)\n",
    "    print(\"sumy_R_px=\",sumy_R_px)\n",
    "    display(Math(latex(sumy_R_px)))\n",
    "\n",
    "    sum_R_p = sum_dfdx_bernoulis(euler_maclaurin_R_p(F, n_x, a_x, b_x,p, f_diff_symb_p=F.diff(n_x,p)), n_y, a_y, b_y, p)\n",
    "    print(\"sum_R_p=\",sum_R_p)\n",
    "    display(Math(latex(sum_R_p)))\n",
    "except Exception as ex:\n",
    "    print(ex)"
   ]
  },
  {
   "cell_type": "code",
   "execution_count": 31,
   "metadata": {},
   "outputs": [
    {
     "name": "stdout",
     "output_type": "stream",
     "text": [
      "R_px= integrate(1/2*(2*n_x - 2*floor(n_x) - 1)*diff(F(n_x, n_y), n_x), n_x, a_x, b_x)\n",
      "sumy_R_px= 0\n"
     ]
    },
    {
     "data": {
      "text/latex": [
       "$\\displaystyle 0$"
      ],
      "text/plain": [
       "<IPython.core.display.Math object>"
      ]
     },
     "metadata": {},
     "output_type": "display_data"
    }
   ],
   "source": [
    "use_int_R_p_j=False\n",
    "\n",
    "R_px = euler_maclaurin_R_p(F, n_x, a_x, b_x,p, f_diff_symb_p=F.diff(n_x,p))\n",
    "print(\"R_px=\", R_px)\n",
    "\n",
    "sumy_R_px = sum_dfdx_bernoulis(R_px, n_y, a_y, b_y, p)\n",
    "print(\"sumy_R_px=\",sumy_R_px)\n",
    "display(Math(latex(sumy_R_px)))\n"
   ]
  },
  {
   "cell_type": "raw",
   "metadata": {},
   "source": [
    "# with p = 3 I had\n",
    "# bug with zeroing of array of lambdas\n",
    "# here (inside sum_dfdx_bernoulis_euler_maclaurin_R_p)\n",
    "# Fixed!!!\n",
    "use_int_R_p_j=False\n",
    "sum_R_p = sum_dfdx_bernoulis_euler_maclaurin_R_p(F, n_x, a_x, b_x,    n_y, a_y, b_y, p)\n",
    "\n",
    "if type(sum_R_p) is tuple:\n",
    "    print(\"sum_R_p=\",sum_R_p[0])\n",
    "    display(Math(latex(sum_R_p[0])))\n",
    "else:\n",
    "    print(\"sum_R_p=\",sum_R_p)\n",
    "    display(Math(latex(sum_R_p)))"
   ]
  },
  {
   "cell_type": "code",
   "execution_count": 32,
   "metadata": {},
   "outputs": [
    {
     "name": "stdout",
     "output_type": "stream",
     "text": [
      "int_F= integrate(F(n_x, n_y), n_x, a_x, b_x)\n"
     ]
    },
    {
     "data": {
      "text/latex": [
       "$\\displaystyle \\int_{a_{x}}^{b_{x}} F\\left(n_{x}, n_{y}\\right)\\,{d n_{x}}$"
      ],
      "text/plain": [
       "<IPython.core.display.Math object>"
      ]
     },
     "metadata": {},
     "output_type": "display_data"
    },
    {
     "name": "stdout",
     "output_type": "stream",
     "text": [
      "int_F_diff_y_p= integrate(diff(F(n_x, n_y), n_y), n_x, a_x, b_x)\n"
     ]
    },
    {
     "data": {
      "text/latex": [
       "$\\displaystyle \\int_{a_{x}}^{b_{x}} \\frac{\\partial}{\\partial n_{y}}F\\left(n_{x}, n_{y}\\right)\\,{d n_{x}}$"
      ],
      "text/plain": [
       "<IPython.core.display.Math object>"
      ]
     },
     "metadata": {},
     "output_type": "display_data"
    },
    {
     "name": "stdout",
     "output_type": "stream",
     "text": [
      "R_p_int= integrate(1/2*(2*n_y - 2*floor(n_y) - 1)*integrate(diff(F(n_x, n_y), n_y), n_x, a_x, b_x), n_y, a_y, b_y)\n"
     ]
    },
    {
     "data": {
      "text/latex": [
       "$\\displaystyle \\int_{a_{y}}^{b_{y}} \\frac{1}{2} \\, {\\left(2 \\, n_{y} - 2 \\, \\left \\lfloor n_{y} \\right \\rfloor - 1\\right)} \\int_{a_{x}}^{b_{x}} \\frac{\\partial}{\\partial n_{y}}F\\left(n_{x}, n_{y}\\right)\\,{d n_{x}}\\,{d n_{y}}$"
      ],
      "text/plain": [
       "<IPython.core.display.Math object>"
      ]
     },
     "metadata": {},
     "output_type": "display_data"
    }
   ],
   "source": [
    "int_F = integral           (F,(n_x, a_x, b_x), hold=True)\n",
    "print(\"int_F=\",int_F)\n",
    "display(Math(latex(int_F)))\n",
    "\n",
    "int_F_diff_y_p = int_F.diff(n_y,p)\n",
    "print(\"int_F_diff_y_p=\",int_F_diff_y_p)\n",
    "display(Math(latex(int_F_diff_y_p)))\n",
    "\n",
    "R_p_int = euler_maclaurin_R_p(int_F, n_y, a_y, b_y, p, f_diff_symb_p=int_F_diff_y_p)\n",
    "print(\"R_p_int=\",R_p_int)\n",
    "display(Math(latex(R_p_int)))"
   ]
  },
  {
   "cell_type": "code",
   "execution_count": 33,
   "metadata": {},
   "outputs": [
    {
     "name": "stdout",
     "output_type": "stream",
     "text": [
      "half_F= 1/2*F(a_x, n_y)\n"
     ]
    },
    {
     "data": {
      "text/latex": [
       "$\\displaystyle \\frac{1}{2} \\, F\\left(a_{x}, n_{y}\\right)$"
      ],
      "text/plain": [
       "<IPython.core.display.Math object>"
      ]
     },
     "metadata": {},
     "output_type": "display_data"
    },
    {
     "name": "stdout",
     "output_type": "stream",
     "text": [
      "half_F_diff_y_p= 1/2*diff(F(a_x, n_y), n_y)\n"
     ]
    },
    {
     "data": {
      "text/latex": [
       "$\\displaystyle \\frac{1}{2} \\, \\frac{\\partial}{\\partial n_{y}}F\\left(a_{x}, n_{y}\\right)$"
      ],
      "text/plain": [
       "<IPython.core.display.Math object>"
      ]
     },
     "metadata": {},
     "output_type": "display_data"
    },
    {
     "name": "stdout",
     "output_type": "stream",
     "text": [
      "R_p_half= integrate(1/4*(2*n_y - 2*floor(n_y) - 1)*diff(F(a_x, n_y), n_y), n_y, a_y, b_y)\n"
     ]
    },
    {
     "data": {
      "text/latex": [
       "$\\displaystyle \\int_{a_{y}}^{b_{y}} \\frac{1}{4} \\, {\\left(2 \\, n_{y} - 2 \\, \\left \\lfloor n_{y} \\right \\rfloor - 1\\right)} \\frac{\\partial}{\\partial n_{y}}F\\left(a_{x}, n_{y}\\right)\\,{d n_{y}}$"
      ],
      "text/plain": [
       "<IPython.core.display.Math object>"
      ]
     },
     "metadata": {},
     "output_type": "display_data"
    }
   ],
   "source": [
    "half_F = half_summa (F, n_x, a_x, b_x)\n",
    "print(\"half_F=\",half_F)\n",
    "display(Math(latex(half_F)))\n",
    "\n",
    "half_F_diff_y_p = half_F.diff(n_y,p)\n",
    "print(\"half_F_diff_y_p=\",half_F_diff_y_p)\n",
    "display(Math(latex(half_F_diff_y_p)))\n",
    "\n",
    "R_p_half = euler_maclaurin_R_p(half_F, n_y, a_y, b_y, p, f_diff_symb_p=half_F_diff_y_p)\n",
    "print(\"R_p_half=\",R_p_half)\n",
    "display(Math(latex(R_p_half)))"
   ]
  },
  {
   "cell_type": "code",
   "execution_count": 34,
   "metadata": {},
   "outputs": [
    {
     "name": "stdout",
     "output_type": "stream",
     "text": [
      "sum_F= 0\n"
     ]
    },
    {
     "data": {
      "text/latex": [
       "$\\displaystyle 0$"
      ],
      "text/plain": [
       "<IPython.core.display.Math object>"
      ]
     },
     "metadata": {},
     "output_type": "display_data"
    },
    {
     "name": "stdout",
     "output_type": "stream",
     "text": [
      "sum_F_diff_y_p= 0\n"
     ]
    },
    {
     "data": {
      "text/latex": [
       "$\\displaystyle 0$"
      ],
      "text/plain": [
       "<IPython.core.display.Math object>"
      ]
     },
     "metadata": {},
     "output_type": "display_data"
    },
    {
     "name": "stdout",
     "output_type": "stream",
     "text": [
      "R_p_sum= integrate(0, n_y, a_y, b_y)\n"
     ]
    },
    {
     "data": {
      "text/latex": [
       "$\\displaystyle \\int_{a_{y}}^{b_{y}} 0\\,{d n_{y}}$"
      ],
      "text/plain": [
       "<IPython.core.display.Math object>"
      ]
     },
     "metadata": {},
     "output_type": "display_data"
    }
   ],
   "source": [
    "sum_F = sum_dfdx_bernoulis (F, n_x, a_x, b_x,p)\n",
    "print(\"sum_F=\",sum_F)\n",
    "display(Math(latex(sum_F)))\n",
    "\n",
    "sum_F_diff_y_p = diff(sum_F,n_y,p)\n",
    "print(\"sum_F_diff_y_p=\",sum_F_diff_y_p)\n",
    "display(Math(latex(sum_F_diff_y_p)))\n",
    "\n",
    "R_p_sum = euler_maclaurin_R_p(sum_F, n_y, a_y, b_y, p, f_diff_symb_p=sum_F_diff_y_p)\n",
    "print(\"R_p_sum=\",R_p_sum)\n",
    "display(Math(latex(R_p_sum)))"
   ]
  },
  {
   "cell_type": "code",
   "execution_count": 35,
   "metadata": {},
   "outputs": [
    {
     "name": "stdout",
     "output_type": "stream",
     "text": [
      "R_px= integrate(sum(1/2*(2*v_n_x - 1)*D[0](F)(j_n_x + v_n_x, n_y), j_n_x, a_x, b_x - 1), v_n_x, 0, 1)\n"
     ]
    },
    {
     "data": {
      "text/latex": [
       "$\\displaystyle \\int_{0}^{1} {\\sum_{j_{n_{x}}=a_{x}}^{b_{x} - 1} \\frac{1}{2} \\, {\\left(2 \\, v_{n_{x}} - 1\\right)} \\mathrm{D}_{0}\\left(F\\right)\\left(j_{n_{x}} + v_{n_{x}}, n_{y}\\right)}\\,{d v_{n_{x}}}$"
      ],
      "text/plain": [
       "<IPython.core.display.Math object>"
      ]
     },
     "metadata": {},
     "output_type": "display_data"
    },
    {
     "name": "stdout",
     "output_type": "stream",
     "text": [
      "R_px_diff_y_p= integrate(sum(1/2*(2*v_n_x - 1)*D[0, 1](F)(j_n_x + v_n_x, n_y), j_n_x, a_x, b_x - 1), v_n_x, 0, 1)\n"
     ]
    },
    {
     "data": {
      "text/latex": [
       "$\\displaystyle \\int_{0}^{1} {\\sum_{j_{n_{x}}=a_{x}}^{b_{x} - 1} \\frac{1}{2} \\, {\\left(2 \\, v_{n_{x}} - 1\\right)} \\mathrm{D}_{0, 1}\\left(F\\right)\\left(j_{n_{x}} + v_{n_{x}}, n_{y}\\right)}\\,{d v_{n_{x}}}$"
      ],
      "text/plain": [
       "<IPython.core.display.Math object>"
      ]
     },
     "metadata": {},
     "output_type": "display_data"
    },
    {
     "name": "stdout",
     "output_type": "stream",
     "text": [
      "R_p_R_p= integrate(sum(1/2*(2*v_n_y - 1)*integrate(sum(1/2*(2*v_n_x - 1)*D[0, 1](F)(j_n_x + v_n_x, j_n_y + v_n_y), j_n_x, a_x, b_x - 1), v_n_x, 0, 1), j_n_y, a_y, b_y - 1), v_n_y, 0, 1)\n"
     ]
    },
    {
     "data": {
      "text/latex": [
       "$\\displaystyle \\int_{0}^{1} {\\sum_{j_{n_{y}}=a_{y}}^{b_{y} - 1} \\frac{1}{2} \\, {\\left(2 \\, v_{n_{y}} - 1\\right)} \\int_{0}^{1} {\\sum_{j_{n_{x}}=a_{x}}^{b_{x} - 1} \\frac{1}{2} \\, {\\left(2 \\, v_{n_{x}} - 1\\right)} \\mathrm{D}_{0, 1}\\left(F\\right)\\left(j_{n_{x}} + v_{n_{x}}, j_{n_{y}} + v_{n_{y}}\\right)}\\,{d v_{n_{x}}}}\\,{d v_{n_{y}}}$"
      ],
      "text/plain": [
       "<IPython.core.display.Math object>"
      ]
     },
     "metadata": {},
     "output_type": "display_data"
    }
   ],
   "source": [
    "try:\n",
    "    use_int_R_p_j = True\n",
    "    # Sagemath 9.3 had bug diff of symbolic_sum\n",
    "    # https://trac.sagemath.org/ticket/32161\n",
    "\n",
    "    R_px = euler_maclaurin_R_p(F, n_x, a_x, b_x,p, f_diff_symb_p=F.diff(n_x,p))\n",
    "\n",
    "    if type(R_px) is tuple:\n",
    "        R_px = R_px[0]\n",
    "\n",
    "    print(\"R_px=\",R_px)\n",
    "    display(Math(latex(R_px)))\n",
    "\n",
    "    # https://trac.sagemath.org/ticket/32394\n",
    "    # Can't calculate derivative exception while sympifying of two arguments function derivative\n",
    "    R_px_diff_y_p = R_px.diff(n_y,p)\n",
    "    print(\"R_px_diff_y_p=\", R_px_diff_y_p)\n",
    "    display(Math(latex(R_px_diff_y_p)))\n",
    "\n",
    "    R_p_R_p = euler_maclaurin_R_p(R_px, n_y, a_y, b_y, p, f_diff_symb_p=R_px_diff_y_p)\n",
    "\n",
    "    print(\"R_p_R_p=\",R_p_R_p)\n",
    "    display(Math(latex(R_p_R_p)))\n",
    "\n",
    "except Exception as ex:\n",
    "    print(ex)"
   ]
  },
  {
   "cell_type": "code",
   "execution_count": 36,
   "metadata": {},
   "outputs": [
    {
     "name": "stdout",
     "output_type": "stream",
     "text": [
      "R_px= integrate(1/2*(2*n_x - 2*floor(n_x) - 1)*diff(F(n_x, n_y), n_x), n_x, a_x, b_x)\n"
     ]
    },
    {
     "data": {
      "text/latex": [
       "$\\displaystyle \\int_{a_{x}}^{b_{x}} \\frac{1}{2} \\, {\\left(2 \\, n_{x} - 2 \\, \\left \\lfloor n_{x} \\right \\rfloor - 1\\right)} \\frac{\\partial}{\\partial n_{x}}F\\left(n_{x}, n_{y}\\right)\\,{d n_{x}}$"
      ],
      "text/plain": [
       "<IPython.core.display.Math object>"
      ]
     },
     "metadata": {},
     "output_type": "display_data"
    },
    {
     "name": "stdout",
     "output_type": "stream",
     "text": [
      "R_px_diff_y_p= 1/2*integrate((2*n_x - 2*floor(n_x) - 1)*diff(F(n_x, n_y), n_x, n_y), n_x, a_x, b_x)\n"
     ]
    },
    {
     "data": {
      "text/latex": [
       "$\\displaystyle \\frac{1}{2} \\, \\int_{a_{x}}^{b_{x}} {\\left(2 \\, n_{x} - 2 \\, \\left \\lfloor n_{x} \\right \\rfloor - 1\\right)} \\frac{\\partial^{2}}{\\partial n_{x}\\partial n_{y}}F\\left(n_{x}, n_{y}\\right)\\,{d n_{x}}$"
      ],
      "text/plain": [
       "<IPython.core.display.Math object>"
      ]
     },
     "metadata": {},
     "output_type": "display_data"
    },
    {
     "name": "stdout",
     "output_type": "stream",
     "text": [
      "R_p_R_p= integrate(1/4*(2*n_y - 2*floor(n_y) - 1)*integrate((2*n_x - 2*floor(n_x) - 1)*diff(F(n_x, n_y), n_x, n_y), n_x, a_x, b_x), n_y, a_y, b_y)\n"
     ]
    },
    {
     "data": {
      "text/latex": [
       "$\\displaystyle \\int_{a_{y}}^{b_{y}} \\frac{1}{4} \\, {\\left(2 \\, n_{y} - 2 \\, \\left \\lfloor n_{y} \\right \\rfloor - 1\\right)} \\int_{a_{x}}^{b_{x}} {\\left(2 \\, n_{x} - 2 \\, \\left \\lfloor n_{x} \\right \\rfloor - 1\\right)} \\frac{\\partial^{2}}{\\partial n_{x}\\partial n_{y}}F\\left(n_{x}, n_{y}\\right)\\,{d n_{x}}\\,{d n_{y}}$"
      ],
      "text/plain": [
       "<IPython.core.display.Math object>"
      ]
     },
     "metadata": {},
     "output_type": "display_data"
    }
   ],
   "source": [
    "try:\n",
    "    use_int_R_p_j = False\n",
    "        \n",
    "    R_px = euler_maclaurin_R_p(F, n_x, a_x, b_x,p, f_diff_symb_p=F.diff(n_x,p))\n",
    "    print(\"R_px=\",R_px)\n",
    "    display(Math(latex(R_px)))\n",
    "\n",
    "    R_px_diff_y_p = R_px.diff(n_y,p)\n",
    "    print(\"R_px_diff_y_p=\", R_px_diff_y_p)\n",
    "    display(Math(latex(R_px_diff_y_p)))\n",
    "\n",
    "    R_p_R_p = euler_maclaurin_R_p(R_px, n_y, a_y, b_y, p, f_diff_symb_p=R_px_diff_y_p)\n",
    "\n",
    "    print(\"R_p_R_p=\",R_p_R_p)\n",
    "    display(Math(latex(R_p_R_p)))\n",
    "\n",
    "except Exception as ex:\n",
    "    print(ex)"
   ]
  },
  {
   "cell_type": "code",
   "execution_count": 37,
   "metadata": {},
   "outputs": [
    {
     "name": "stdout",
     "output_type": "stream",
     "text": [
      "R_p_R_p= integrate(1/4*(2*n_y - 2*floor(n_y) - 1)*integrate((2*n_x - 2*floor(n_x) - 1)*diff(F(n_x, n_y), n_x, n_y), n_x, a_x, b_x), n_y, a_y, b_y)\n"
     ]
    },
    {
     "data": {
      "text/latex": [
       "$\\displaystyle \\int_{a_{y}}^{b_{y}} \\frac{1}{4} \\, {\\left(2 \\, n_{y} - 2 \\, \\left \\lfloor n_{y} \\right \\rfloor - 1\\right)} \\int_{a_{x}}^{b_{x}} {\\left(2 \\, n_{x} - 2 \\, \\left \\lfloor n_{x} \\right \\rfloor - 1\\right)} \\frac{\\partial^{2}}{\\partial n_{x}\\partial n_{y}}F\\left(n_{x}, n_{y}\\right)\\,{d n_{x}}\\,{d n_{y}}$"
      ],
      "text/plain": [
       "<IPython.core.display.Math object>"
      ]
     },
     "metadata": {},
     "output_type": "display_data"
    }
   ],
   "source": [
    "try:\n",
    "    R_p_R_p = euler_maclaurin_R_p_euler_maclaurin_R_p(F, n_x, a_x, b_x,    n_y, a_y, b_y, p, f_diff_x_p_diff_y_p=None)\n",
    "\n",
    "    print(\"R_p_R_p=\",R_p_R_p)\n",
    "    display(Math(latex(R_p_R_p)))\n",
    "except Exception as ex:\n",
    "    print(ex)"
   ]
  },
  {
   "cell_type": "code",
   "execution_count": 38,
   "metadata": {},
   "outputs": [],
   "source": [
    "sxy_symb = euler_maclaurin1(euler_maclaurin1(F,n_x,a_x,b_x,p,f_diff_symb_p=None), \\\n",
    "                            n_y,a_y,b_y,p,f_diff_symb_p=None)"
   ]
  },
  {
   "cell_type": "raw",
   "metadata": {},
   "source": [
    "sxy_symb"
   ]
  },
  {
   "cell_type": "raw",
   "metadata": {},
   "source": [
    "latex(sxy_symb)"
   ]
  },
  {
   "cell_type": "code",
   "execution_count": 39,
   "metadata": {},
   "outputs": [
    {
     "data": {
      "text/latex": [
       "$\\displaystyle \\frac{1}{4} \\, F\\left(a_{x}, a_{y}\\right) + \\int_{a_{y}}^{b_{y}} -\\frac{1}{4} \\, {\\left(2 \\, n_{y} - 2 \\, \\left \\lfloor n_{y} \\right \\rfloor - 1\\right)} {\\left(\\int_{a_{x}}^{b_{x}} -2 \\, n_{x} \\frac{\\partial^{2}}{\\partial n_{x}\\partial n_{y}}F\\left(n_{x}, n_{y}\\right)\\,{d n_{x}} + \\int_{a_{x}}^{b_{x}} 2 \\, \\left \\lfloor n_{x} \\right \\rfloor \\frac{\\partial^{2}}{\\partial n_{x}\\partial n_{y}}F\\left(n_{x}, n_{y}\\right)\\,{d n_{x}} + \\int_{a_{x}}^{b_{x}} \\frac{\\partial^{2}}{\\partial n_{x}\\partial n_{y}}F\\left(n_{x}, n_{y}\\right)\\,{d n_{x}} - 2 \\, \\int_{a_{x}}^{b_{x}} \\frac{\\partial}{\\partial n_{y}}F\\left(n_{x}, n_{y}\\right)\\,{d n_{x}} - \\frac{\\partial}{\\partial n_{y}}F\\left(a_{x}, n_{y}\\right)\\right)}\\,{d n_{y}} - \\frac{1}{4} \\, \\int_{a_{x}}^{b_{x}} -2 \\, n_{x} \\frac{\\partial}{\\partial n_{x}}F\\left(n_{x}, a_{y}\\right)\\,{d n_{x}} - \\frac{1}{4} \\, \\int_{a_{x}}^{b_{x}} 2 \\, \\left \\lfloor n_{x} \\right \\rfloor \\frac{\\partial}{\\partial n_{x}}F\\left(n_{x}, a_{y}\\right)\\,{d n_{x}} + \\frac{1}{2} \\, \\int_{a_{y}}^{b_{y}} 2 \\, \\int_{a_{x}}^{b_{x}} n_{x} \\frac{\\partial}{\\partial n_{x}}F\\left(n_{x}, n_{y}\\right)\\,{d n_{x}}\\,{d n_{y}} + \\frac{1}{2} \\, \\int_{a_{y}}^{b_{y}} 2 \\, \\int_{a_{x}}^{b_{x}} -\\left \\lfloor n_{x} \\right \\rfloor \\frac{\\partial}{\\partial n_{x}}F\\left(n_{x}, n_{y}\\right)\\,{d n_{x}}\\,{d n_{y}} + \\frac{1}{2} \\, \\int_{a_{y}}^{b_{y}} 2 \\, \\int_{a_{x}}^{b_{x}} -\\frac{1}{2} \\, \\frac{\\partial}{\\partial n_{x}}F\\left(n_{x}, n_{y}\\right)\\,{d n_{x}}\\,{d n_{y}} + \\frac{1}{2} \\, \\int_{a_{y}}^{b_{y}} 2 \\, \\int_{a_{x}}^{b_{x}} F\\left(n_{x}, n_{y}\\right)\\,{d n_{x}}\\,{d n_{y}} + \\frac{1}{2} \\, \\int_{a_{y}}^{b_{y}} F\\left(a_{x}, n_{y}\\right)\\,{d n_{y}} + \\frac{1}{2} \\, \\int_{a_{x}}^{b_{x}} F\\left(n_{x}, a_{y}\\right)\\,{d n_{x}} - \\frac{1}{4} \\, \\int_{a_{x}}^{b_{x}} \\frac{\\partial}{\\partial n_{x}}F\\left(n_{x}, a_{y}\\right)\\,{d n_{x}}$"
      ],
      "text/plain": [
       "<IPython.core.display.Math object>"
      ]
     },
     "metadata": {},
     "output_type": "display_data"
    }
   ],
   "source": [
    "display(Math(latex(sxy_symb)))"
   ]
  },
  {
   "cell_type": "code",
   "execution_count": 40,
   "metadata": {},
   "outputs": [],
   "source": [
    "f(n_x,n_y)=1/(n_x^2)\n",
    "assume(n_y>0)\n",
    "assume(n_x>0)\n",
    "a_x = 1\n",
    "b_x = Infinity\n",
    "\n",
    "a_y = 1\n",
    "b_y = Infinity"
   ]
  },
  {
   "cell_type": "code",
   "execution_count": 41,
   "metadata": {},
   "outputs": [],
   "source": [
    "calc_R_p=True\n",
    "use_int_R_p_j=False\n",
    "use_int_R_p_shifted_first=True\n",
    "change_R_p_order=True"
   ]
  },
  {
   "cell_type": "code",
   "execution_count": 42,
   "metadata": {},
   "outputs": [
    {
     "name": "stdout",
     "output_type": "stream",
     "text": [
      "integrate(-(2*n_x - 2*floor(n_x) - 1)/n_x^3, n_x, 1, +Infinity) + 3/2\n"
     ]
    },
    {
     "data": {
      "text/plain": [
       "1.64489926189016"
      ]
     },
     "execution_count": 42,
     "metadata": {},
     "output_type": "execute_result"
    }
   ],
   "source": [
    "ans = my_euler_maclaurin1(f(n_x, n_y), n_x, a_x, b_x, p, f_diff_symb_p=None)\n",
    "print(ans)\n",
    "e2n(ans)"
   ]
  },
  {
   "cell_type": "code",
   "execution_count": 43,
   "metadata": {},
   "outputs": [
    {
     "name": "stdout",
     "output_type": "stream",
     "text": [
      "integrate(-(2*n_x - 2*floor(n_x) - 1)/n_x^3, n_x, 1, +Infinity) + 3/2\n"
     ]
    },
    {
     "data": {
      "text/plain": [
       "1.64489926189016"
      ]
     },
     "execution_count": 43,
     "metadata": {},
     "output_type": "execute_result"
    }
   ],
   "source": [
    "ans = euler_maclaurin1(f(n_x, n_y), n_x, a_x, b_x, p, f_diff_symb_p=None)\n",
    "print(ans)\n",
    "ans.n()"
   ]
  },
  {
   "cell_type": "code",
   "execution_count": 44,
   "metadata": {},
   "outputs": [],
   "source": [
    "calc_R_p=True\n",
    "use_int_R_p_j=True\n",
    "use_int_R_p_shifted_first=True\n",
    "change_R_p_order=False"
   ]
  },
  {
   "cell_type": "code",
   "execution_count": 45,
   "metadata": {},
   "outputs": [
    {
     "name": "stdout",
     "output_type": "stream",
     "text": [
      "1/6*pi^2\n"
     ]
    },
    {
     "data": {
      "text/plain": [
       "1.64493406684823"
      ]
     },
     "execution_count": 45,
     "metadata": {},
     "output_type": "execute_result"
    }
   ],
   "source": [
    "ans = my_euler_maclaurin1(f(n_x, n_y),n_x,a_x,b_x,p, f_diff_symb_p=None)\n",
    "print(ans)\n",
    "ans.n()"
   ]
  },
  {
   "cell_type": "code",
   "execution_count": 46,
   "metadata": {},
   "outputs": [
    {
     "name": "stdout",
     "output_type": "stream",
     "text": [
      "sum(integrate(-(2*v_n_x - 1)/(j_n_x + v_n_x)^3, v_n_x, 0, 1), j_n_x, 1, +Infinity) + 3/2\n"
     ]
    }
   ],
   "source": [
    "ans = euler_maclaurin1(f(n_x, n_y),n_x,a_x,b_x,p, f_diff_symb_p=None)\n",
    "print(ans)\n",
    "#ans.n()"
   ]
  },
  {
   "cell_type": "code",
   "execution_count": 47,
   "metadata": {},
   "outputs": [],
   "source": [
    "calc_R_p=True\n",
    "use_int_R_p_j=True\n",
    "use_int_R_p_shifted_first=True\n",
    "change_R_p_order=True"
   ]
  },
  {
   "cell_type": "code",
   "execution_count": 48,
   "metadata": {},
   "outputs": [
    {
     "name": "stdout",
     "output_type": "stream",
     "text": [
      "integrate(2*v*(harmonic_number(v, 3) - zeta(3)) - harmonic_number(v, 3) + zeta(3), v, 0, 1) + 3/2\n"
     ]
    },
    {
     "data": {
      "text/plain": [
       "1.64493406684823"
      ]
     },
     "execution_count": 48,
     "metadata": {},
     "output_type": "execute_result"
    }
   ],
   "source": [
    "ans = my_euler_maclaurin1(f(n_x, n_y),n_x,a_x,b_x,p, f_diff_symb_p=None)\n",
    "print(ans)\n",
    "ans.n()"
   ]
  },
  {
   "cell_type": "code",
   "execution_count": 49,
   "metadata": {},
   "outputs": [
    {
     "name": "stdout",
     "output_type": "stream",
     "text": [
      "integrate(sum(-(2*v_n_x - 1)/(j_n_x + v_n_x)^3, j_n_x, 1, +Infinity), v_n_x, 0, 1) + 3/2\n"
     ]
    }
   ],
   "source": [
    "ans = euler_maclaurin1(f(n_x, n_y),n_x,a_x,b_x,p, f_diff_symb_p=None)\n",
    "print(ans)\n",
    "#ans.n()"
   ]
  },
  {
   "cell_type": "code",
   "execution_count": 50,
   "metadata": {},
   "outputs": [
    {
     "name": "stdout",
     "output_type": "stream",
     "text": [
      "integrate(sum(-(2*v_n_x - 1)/(j_n_x + v_n_x)^3, j_n_x, 1, +Infinity), v_n_x, 0, 1) + 3/2\n"
     ]
    }
   ],
   "source": [
    "ans = euler_maclaurin1(f(n_x, n_y),n_x,a_x,b_x,p, f_diff_symb_p=None, hold_int=False)\n",
    "print(ans)\n",
    "#ans.n()"
   ]
  },
  {
   "cell_type": "code",
   "execution_count": 51,
   "metadata": {},
   "outputs": [],
   "source": [
    "calc_R_p=True\n",
    "use_int_R_p_j=True\n",
    "use_int_R_p_shifted_first=True\n",
    "change_R_p_order=False"
   ]
  },
  {
   "cell_type": "code",
   "execution_count": 52,
   "metadata": {},
   "outputs": [
    {
     "name": "stdout",
     "output_type": "stream",
     "text": [
      "1/6*pi^2\n"
     ]
    },
    {
     "data": {
      "text/plain": [
       "1.64493406684823"
      ]
     },
     "execution_count": 52,
     "metadata": {},
     "output_type": "execute_result"
    }
   ],
   "source": [
    "ans = my_euler_maclaurin1(f(n_x, n_y),n_x,a_x,b_x,p, f_diff_symb_p=None)\n",
    "print(ans)\n",
    "ans.n()"
   ]
  },
  {
   "cell_type": "code",
   "execution_count": 53,
   "metadata": {},
   "outputs": [
    {
     "name": "stdout",
     "output_type": "stream",
     "text": [
      "sum(integrate(-(2*v_n_x - 1)/(j_n_x + v_n_x)^3, v_n_x, 0, 1), j_n_x, 1, +Infinity) + 3/2\n"
     ]
    }
   ],
   "source": [
    "ans = euler_maclaurin1(f(n_x, n_y),n_x,a_x,b_x,p, f_diff_symb_p=None)\n",
    "print(ans)\n",
    "#ans.n()"
   ]
  },
  {
   "cell_type": "code",
   "execution_count": 54,
   "metadata": {},
   "outputs": [
    {
     "name": "stdout",
     "output_type": "stream",
     "text": [
      "sum(1/2*(2*j_n_x + 3)/(j_n_x^2 + 2*j_n_x + 1) - 1/2*(2*j_n_x - 1)/j_n_x^2, j_n_x, 1, +Infinity) + 3/2\n"
     ]
    }
   ],
   "source": [
    "ans = euler_maclaurin1(f(n_x, n_y),n_x,a_x,b_x,p, f_diff_symb_p=None, hold_int=False)\n",
    "print(ans)\n",
    "#ans.n()"
   ]
  },
  {
   "cell_type": "code",
   "execution_count": 55,
   "metadata": {},
   "outputs": [],
   "source": [
    "f(n_x,n_y)=1/((n_x^2+n_y^2)^2)\n",
    "\n",
    "assume(n_y>0)\n",
    "assume(n_x>0)\n",
    "\n",
    "a_x = 1\n",
    "b_x = Infinity\n",
    "\n",
    "a_y = 1\n",
    "b_y = Infinity"
   ]
  },
  {
   "cell_type": "code",
   "execution_count": 56,
   "metadata": {},
   "outputs": [],
   "source": [
    "calc_R_p=True\n",
    "use_int_R_p_j=True\n",
    "use_int_R_p_shifted_first=False\n",
    "change_R_p_order=False"
   ]
  },
  {
   "cell_type": "code",
   "execution_count": 57,
   "metadata": {
    "scrolled": false
   },
   "outputs": [
    {
     "name": "stdout",
     "output_type": "stream",
     "text": [
      "int_int= 0.142699081698724\n"
     ]
    },
    {
     "data": {
      "text/latex": [
       "$\\displaystyle \\frac{1}{8} \\, \\pi - \\frac{1}{4}$"
      ],
      "text/plain": [
       "<IPython.core.display.Math object>"
      ]
     },
     "metadata": {},
     "output_type": "display_data"
    },
    {
     "name": "stdout",
     "output_type": "stream",
     "text": [
      "int_half= 0.0713495408493621\n"
     ]
    },
    {
     "data": {
      "text/latex": [
       "$\\displaystyle \\frac{1}{16} \\, \\pi - \\frac{1}{8}$"
      ],
      "text/plain": [
       "<IPython.core.display.Math object>"
      ]
     },
     "metadata": {},
     "output_type": "display_data"
    },
    {
     "name": "stdout",
     "output_type": "stream",
     "text": [
      "int_sum= 0.000000000000000\n"
     ]
    },
    {
     "data": {
      "text/latex": [
       "$\\displaystyle 0$"
      ],
      "text/plain": [
       "<IPython.core.display.Math object>"
      ]
     },
     "metadata": {},
     "output_type": "display_data"
    }
   ],
   "source": [
    "use_int_R_p_j = False\n",
    "#use_num_int = False\n",
    "\n",
    "int_int = integral(integral           (f,(n_x, a_x, b_x)),  (n_y, a_y, b_y)) \n",
    "print(\"int_int=\", int_int.n())\n",
    "display(Math(latex(int_int)))\n",
    "\n",
    "int_half = integral(half_summa(f(n_x, n_y), n_x, a_x, b_x), (n_y, a_y, b_y)) \n",
    "print(\"int_half=\", int_half.n())\n",
    "display(Math(latex(int_half.expand())))\n",
    "\n",
    "int_sum = integral(sum_dfdx_bernoulis (f(n_x, n_y), n_x, a_x, b_x, p), (n_y, a_y, b_y)) \n",
    "print(\"int_sum=\", int_sum.n())\n",
    "display(Math(latex(int_sum.expand())))"
   ]
  },
  {
   "cell_type": "code",
   "execution_count": 58,
   "metadata": {},
   "outputs": [
    {
     "name": "stdout",
     "output_type": "stream",
     "text": [
      "R_p= (sum(integrate(-2*(j_n_x + v_n_x)*(2*v_n_x - 1)/((j_n_x + v_n_x)^2 + n_y^2)^3, v_n_x, 0, 1), j_n_x, 1, +Infinity), integrate(-2*(j_n_x + v_n_x)*(2*v_n_x - 1)/((j_n_x + v_n_x)^2 + n_y^2)^3, v_n_x, 0, 1))\n"
     ]
    },
    {
     "data": {
      "text/latex": [
       "$\\displaystyle \\left({\\sum_{j_{n_{x}}=1}^{+\\infty} \\int_{0}^{1} -\\frac{2 \\, {\\left(j_{n_{x}} + v_{n_{x}}\\right)} {\\left(2 \\, v_{n_{x}} - 1\\right)}}{{\\left({\\left(j_{n_{x}} + v_{n_{x}}\\right)}^{2} + n_{y}^{2}\\right)}^{3}}\\,{d v_{n_{x}}}}, \\int_{0}^{1} -\\frac{2 \\, {\\left(j_{n_{x}} + v_{n_{x}}\\right)} {\\left(2 \\, v_{n_{x}} - 1\\right)}}{{\\left({\\left(j_{n_{x}} + v_{n_{x}}\\right)}^{2} + n_{y}^{2}\\right)}^{3}}\\,{d v_{n_{x}}}\\right)$"
      ],
      "text/plain": [
       "<IPython.core.display.Math object>"
      ]
     },
     "metadata": {},
     "output_type": "display_data"
    },
    {
     "name": "stdout",
     "output_type": "stream",
     "text": [
      "int_R_p= integrate(sum(integrate(-2*(j_n_x + v_n_x)*(2*v_n_x - 1)/((j_n_x + v_n_x)^2 + n_y^2)^3, v_n_x, 0, 1), j_n_x, 1, +Infinity), n_y, 1, +Infinity)\n"
     ]
    },
    {
     "data": {
      "text/latex": [
       "$\\displaystyle \\int_{1}^{+\\infty} {\\sum_{j_{n_{x}}=1}^{+\\infty} \\int_{0}^{1} -\\frac{2 \\, {\\left(j_{n_{x}} + v_{n_{x}}\\right)} {\\left(2 \\, v_{n_{x}} - 1\\right)}}{{\\left({\\left(j_{n_{x}} + v_{n_{x}}\\right)}^{2} + n_{y}^{2}\\right)}^{3}}\\,{d v_{n_{x}}}}\\,{d n_{y}}$"
      ],
      "text/plain": [
       "<IPython.core.display.Math object>"
      ]
     },
     "metadata": {},
     "output_type": "display_data"
    },
    {
     "name": "stdout",
     "output_type": "stream",
     "text": [
      "The function to be integrated depends on 3 variables (j_n_x, n_y, v_n_x), and so cannot be integrated in one dimension. Please fix additional variables with the 'params' argument\n"
     ]
    }
   ],
   "source": [
    "try:\n",
    "    use_num_int = False\n",
    "    use_int_R_p_j = True\n",
    "    R_p = euler_maclaurin_R_p(f(n_x, n_y), n_x, a_x, b_x, p, f_diff_symb_p=None)\n",
    "\n",
    "    print(\"R_p=\", R_p)\n",
    "    display(Math(latex(R_p)))\n",
    "\n",
    "    if type(R_p) is tuple:\n",
    "        int_R_p = integral(R_p[0], (n_y, a_y, b_y), hold=True)\n",
    "    else:\n",
    "        int_R_p = integral(R_p, (n_y, a_y, b_y), hold=True)\n",
    "\n",
    "    print(\"int_R_p=\", int_R_p)\n",
    "    display(Math(latex(int_R_p)))\n",
    "    display(Math(latex(int_R_p.n())))\n",
    "    # The function to be integrated depends on 3 variables (j_x, v_x, y), and so cannot be integrated in one dimension.\n",
    "    # Please fix additional variables with the 'params' argument\n",
    "except Exception as ex:\n",
    "    print(ex)"
   ]
  },
  {
   "cell_type": "code",
   "execution_count": 59,
   "metadata": {
    "scrolled": false
   },
   "outputs": [
    {
     "name": "stdout",
     "output_type": "stream",
     "text": [
      "f_diff_x_p_str= -4*x/(x^2 + y^2)^3\n"
     ]
    },
    {
     "name": "stderr",
     "output_type": "stream",
     "text": [
      "/tmp/ipykernel_1133/2434198373.py:11: IntegrationWarning: The maximum number of subdivisions (50) has been achieved.\n",
      "  If increasing the limit yields no improvement it is advised to analyze \n",
      "  the integrand in order to determine the difficulties.  If the position of a \n",
      "  local difficulty can be determined (singularity, discontinuity) one will \n",
      "  probably gain from splitting up the interval and calling the integrator \n",
      "  on the subranges.  Perhaps a special-purpose integrator should be used.\n",
      "  integral = integrate.quad(f, a, b)\n",
      "/tmp/ipykernel_1133/2434198373.py:11: IntegrationWarning: The integral is probably divergent, or slowly convergent.\n",
      "  integral = integrate.quad(f, a, b)\n"
     ]
    },
    {
     "name": "stdout",
     "output_type": "stream",
     "text": [
      "int_R_p= 0.014591148758590414\n"
     ]
    },
    {
     "data": {
      "text/latex": [
       "$\\displaystyle 0.014591148758590414$"
      ],
      "text/plain": [
       "<IPython.core.display.Math object>"
      ]
     },
     "metadata": {},
     "output_type": "display_data"
    }
   ],
   "source": [
    "use_num_int = True\n",
    "use_int_R_p_j = False\n",
    "\n",
    "f_diff_x_p_str = str(f(x, var(\"y\")).diff(x,p))\n",
    "print(\"f_diff_x_p_str=\", f_diff_x_p_str)\n",
    "exec(preparse(\"f_diff_x_p = lambda x, y :\" + f_diff_x_p_str))\n",
    "\n",
    "int_R_p_ans = integral_euler_maclaurin_R_p(f, n_x, a_x, b_x, n_y, a_y, b_y, p, f_diff_x_p=f_diff_x_p, hold_int=False)\n",
    "if type(int_R_p_ans) is tuple:\n",
    "    (int_R_p,int_int_R_p) = int_R_p_ans\n",
    "else:\n",
    "    int_R_p = int_R_p_ans\n",
    "\n",
    "print(\"int_R_p=\",int_R_p)\n",
    "display(Math(latex(int_R_p)))"
   ]
  },
  {
   "cell_type": "code",
   "execution_count": 60,
   "metadata": {},
   "outputs": [
    {
     "data": {
      "text/plain": [
       "1/8*pi - 1/4"
      ]
     },
     "execution_count": 60,
     "metadata": {},
     "output_type": "execute_result"
    }
   ],
   "source": [
    "int_int"
   ]
  },
  {
   "cell_type": "code",
   "execution_count": 61,
   "metadata": {},
   "outputs": [
    {
     "data": {
      "text/plain": [
       "0.142699081698724"
      ]
     },
     "execution_count": 61,
     "metadata": {},
     "output_type": "execute_result"
    }
   ],
   "source": [
    "int_int.n()"
   ]
  },
  {
   "cell_type": "code",
   "execution_count": 62,
   "metadata": {},
   "outputs": [
    {
     "data": {
      "text/plain": [
       "0"
      ]
     },
     "execution_count": 62,
     "metadata": {},
     "output_type": "execute_result"
    }
   ],
   "source": [
    "int_sum"
   ]
  },
  {
   "cell_type": "code",
   "execution_count": 63,
   "metadata": {},
   "outputs": [
    {
     "data": {
      "text/plain": [
       "0.000000000000000"
      ]
     },
     "execution_count": 63,
     "metadata": {},
     "output_type": "execute_result"
    }
   ],
   "source": [
    "int_sum.n()"
   ]
  },
  {
   "cell_type": "code",
   "execution_count": 64,
   "metadata": {},
   "outputs": [
    {
     "data": {
      "text/plain": [
       "1/16*pi - 1/8"
      ]
     },
     "execution_count": 64,
     "metadata": {},
     "output_type": "execute_result"
    }
   ],
   "source": [
    "int_half"
   ]
  },
  {
   "cell_type": "code",
   "execution_count": 65,
   "metadata": {},
   "outputs": [
    {
     "data": {
      "text/plain": [
       "0.0713495408493621"
      ]
     },
     "execution_count": 65,
     "metadata": {},
     "output_type": "execute_result"
    }
   ],
   "source": [
    "int_half.n()"
   ]
  },
  {
   "cell_type": "code",
   "execution_count": 66,
   "metadata": {},
   "outputs": [
    {
     "data": {
      "text/plain": [
       "0.014591148758590414"
      ]
     },
     "execution_count": 66,
     "metadata": {},
     "output_type": "execute_result"
    }
   ],
   "source": [
    "int_R_p"
   ]
  },
  {
   "cell_type": "code",
   "execution_count": 67,
   "metadata": {},
   "outputs": [
    {
     "name": "stdout",
     "output_type": "stream",
     "text": [
      "name 'int_int_R_p' is not defined\n"
     ]
    }
   ],
   "source": [
    "try:\n",
    "    print(sum(int_int_R_p, j_x, 1, +Infinity))\n",
    "except Exception as ex:\n",
    "    print(ex)"
   ]
  },
  {
   "cell_type": "code",
   "execution_count": 68,
   "metadata": {},
   "outputs": [
    {
     "name": "stdout",
     "output_type": "stream",
     "text": [
      "name 'int_int_R_p' is not defined\n",
      "0.014591148758590414\n"
     ]
    }
   ],
   "source": [
    "try:\n",
    "    int_R_p_s = 0\n",
    "    for j in range (1, 1000):\n",
    "        int_R_p_term = int_int_R_p.subs(var(\"j_x\") == j)\n",
    "        int_R_p_s += int_R_p_term\n",
    "    int_R_p_n = int_R_p_s.n()\n",
    "    print(int_R_p_n)\n",
    "except Exception as ex:\n",
    "    print(ex)\n",
    "    int_R_p_n = int_R_p\n",
    "    print(int_R_p_n)"
   ]
  },
  {
   "cell_type": "code",
   "execution_count": 69,
   "metadata": {},
   "outputs": [
    {
     "name": "stdout",
     "output_type": "stream",
     "text": [
      "half_int= 0.0713495408493621\n"
     ]
    },
    {
     "data": {
      "text/latex": [
       "$\\displaystyle \\frac{1}{16} \\, \\pi - \\frac{1}{8}$"
      ],
      "text/plain": [
       "<IPython.core.display.Math object>"
      ]
     },
     "metadata": {},
     "output_type": "display_data"
    },
    {
     "name": "stdout",
     "output_type": "stream",
     "text": [
      "half_half= 0.0625000000000000\n"
     ]
    },
    {
     "data": {
      "text/latex": [
       "$\\displaystyle \\frac{1}{16}$"
      ],
      "text/plain": [
       "<IPython.core.display.Math object>"
      ]
     },
     "metadata": {},
     "output_type": "display_data"
    },
    {
     "name": "stdout",
     "output_type": "stream",
     "text": [
      "half_sum= 0.000000000000000\n"
     ]
    },
    {
     "data": {
      "text/latex": [
       "$\\displaystyle 0$"
      ],
      "text/plain": [
       "<IPython.core.display.Math object>"
      ]
     },
     "metadata": {},
     "output_type": "display_data"
    },
    {
     "name": "stdout",
     "output_type": "stream",
     "text": [
      "f_diff_symb_p= -4*n_x/(n_x^2 + n_y^2)^3\n",
      "half_R_p= 0.01956886117074705\n"
     ]
    },
    {
     "data": {
      "text/latex": [
       "$\\displaystyle \\int_{1}^{+\\infty} -\\frac{2 \\, n_{x}^{2}}{n_{x}^{6} + 3 \\, n_{x}^{4} + 3 \\, n_{x}^{2} + 1}\\,{d n_{x}} + \\int_{1}^{+\\infty} \\frac{2 \\, n_{x} \\left \\lfloor n_{x} \\right \\rfloor}{n_{x}^{6} + 3 \\, n_{x}^{4} + 3 \\, n_{x}^{2} + 1}\\,{d n_{x}} + \\int_{1}^{+\\infty} \\frac{n_{x}}{n_{x}^{6} + 3 \\, n_{x}^{4} + 3 \\, n_{x}^{2} + 1}\\,{d n_{x}}$"
      ],
      "text/plain": [
       "<IPython.core.display.Math object>"
      ]
     },
     "metadata": {},
     "output_type": "display_data"
    }
   ],
   "source": [
    "half_int = half_summa(integral           (f(n_x,n_y),(n_x, a_x, b_x)),  n_y, a_y, b_y)\n",
    "print(\"half_int=\",half_int.n())\n",
    "display(Math(latex(half_int)))\n",
    "\n",
    "half_half = half_summa(half_summa (f(n_x,n_y), n_x, a_x, b_x), n_y, a_y, b_y)\n",
    "print(\"half_half=\", half_half.n())\n",
    "display(Math(latex(half_half)))\n",
    "\n",
    "half_sum = half_summa(sum_dfdx_bernoulis (f(n_x,n_y), n_x, a_x, b_x, p), n_y, a_y, b_y)\n",
    "print(\"half_sum=\", half_sum.n())\n",
    "display(Math(latex(half_sum)))\n",
    "\n",
    "use_num_int = False\n",
    "f_diff_symb_p = f(n_x, n_y).diff(n_x, p)\n",
    "print(\"f_diff_symb_p=\", f_diff_symb_p)\n",
    "R_p = euler_maclaurin_R_p(f(n_x, n_y), n_x, a_x, b_x, p, f_diff_symb_p=f_diff_symb_p)\n",
    "half_R_p = half_summa(R_p, n_y, a_y, b_y)\n",
    "\n",
    "half_R_p_n = half_R_p.n()\n",
    "print(\"half_R_p=\", half_R_p_n)\n",
    "display(Math(latex(half_R_p)))"
   ]
  },
  {
   "cell_type": "code",
   "execution_count": 70,
   "metadata": {},
   "outputs": [
    {
     "name": "stdout",
     "output_type": "stream",
     "text": [
      "sum_int= 0\n"
     ]
    },
    {
     "data": {
      "text/latex": [
       "$\\displaystyle 0$"
      ],
      "text/plain": [
       "<IPython.core.display.Math object>"
      ]
     },
     "metadata": {},
     "output_type": "display_data"
    },
    {
     "name": "stdout",
     "output_type": "stream",
     "text": [
      "sum_half= 0\n"
     ]
    },
    {
     "data": {
      "text/latex": [
       "$\\displaystyle 0$"
      ],
      "text/plain": [
       "<IPython.core.display.Math object>"
      ]
     },
     "metadata": {},
     "output_type": "display_data"
    },
    {
     "name": "stdout",
     "output_type": "stream",
     "text": [
      "sum_sum= 0\n"
     ]
    },
    {
     "data": {
      "text/latex": [
       "$\\displaystyle 0$"
      ],
      "text/plain": [
       "<IPython.core.display.Math object>"
      ]
     },
     "metadata": {},
     "output_type": "display_data"
    }
   ],
   "source": [
    "sum_int = sum_dfdx_bernoulis(integral           (f(n_x,n_y),(n_x, a_x, b_x)),  n_y, a_y, b_y, p)\n",
    "print(\"sum_int=\", e2n(sum_int))\n",
    "display(Math(latex(sum_int)))\n",
    "\n",
    "sum_half = sum_dfdx_bernoulis(half_summa (f(n_x,n_y), n_x, a_x, b_x), n_y, a_y, b_y, p)\n",
    "print(\"sum_half=\", e2n(sum_half))\n",
    "display(Math(latex(sum_half)))\n",
    "\n",
    "sum_sum = sum_dfdx_bernoulis(sum_dfdx_bernoulis (f(n_x,n_y), n_x, a_x, b_x,p), n_y, a_y, b_y, p)\n",
    "print(\"sum_sum=\", e2n(sum_sum))\n",
    "display(Math(latex(sum_sum)))"
   ]
  },
  {
   "cell_type": "code",
   "execution_count": 71,
   "metadata": {},
   "outputs": [
    {
     "name": "stdout",
     "output_type": "stream",
     "text": [
      "R_px= integrate(-2*(2*n_x - 2*floor(n_x) - 1)*n_x/(n_x^2 + n_y^2)^3, n_x, 1, +Infinity)\n"
     ]
    },
    {
     "data": {
      "text/latex": [
       "$\\displaystyle \\int_{1}^{+\\infty} -\\frac{2 \\, {\\left(2 \\, n_{x} - 2 \\, \\left \\lfloor n_{x} \\right \\rfloor - 1\\right)} n_{x}}{{\\left(n_{x}^{2} + n_{y}^{2}\\right)}^{3}}\\,{d n_{x}}$"
      ],
      "text/plain": [
       "<IPython.core.display.Math object>"
      ]
     },
     "metadata": {},
     "output_type": "display_data"
    },
    {
     "name": "stdout",
     "output_type": "stream",
     "text": [
      "sumy_R_px= 0\n"
     ]
    },
    {
     "data": {
      "text/latex": [
       "$\\displaystyle 0$"
      ],
      "text/plain": [
       "<IPython.core.display.Math object>"
      ]
     },
     "metadata": {},
     "output_type": "display_data"
    }
   ],
   "source": [
    "use_int_R_p_j=False\n",
    "\n",
    "R_px = euler_maclaurin_R_p(f(n_x,n_y), n_x, a_x, b_x, p, f_diff_symb_p=f(n_x,n_y).diff(n_x,p))\n",
    "print(\"R_px=\", R_px)\n",
    "display(Math(latex(R_px)))\n",
    "\n",
    "sumy_R_px = sum_dfdx_bernoulis(R_px, n_y, a_y, b_y, p)\n",
    "print(\"sumy_R_px=\",sumy_R_px)\n",
    "display(Math(latex(sumy_R_px)))"
   ]
  },
  {
   "cell_type": "code",
   "execution_count": 72,
   "metadata": {},
   "outputs": [
    {
     "data": {
      "text/plain": [
       "0"
      ]
     },
     "execution_count": 72,
     "metadata": {},
     "output_type": "execute_result"
    }
   ],
   "source": [
    "sumy_R_px_n = e2n(sumy_R_px)\n",
    "sumy_R_px_n"
   ]
  },
  {
   "cell_type": "code",
   "execution_count": 73,
   "metadata": {},
   "outputs": [],
   "source": [
    "if use_int_R_p_j:\n",
    "    print(dfdx_a_bernoullis_terms(j_x))"
   ]
  },
  {
   "cell_type": "code",
   "execution_count": 74,
   "metadata": {},
   "outputs": [],
   "source": [
    "if use_int_R_p_j:\n",
    "    sum_R_p_j_n = 0\n",
    "    for j_x in range(1,100):\n",
    "        term = dfdx_a_bernoullis_terms(j_x)\n",
    "        sum_R_p_j_n += term\n",
    "        #print(j_x, term.n(), sum_R_p_n)\n",
    "    print(sum_R_p_j_n.n())"
   ]
  },
  {
   "cell_type": "raw",
   "metadata": {},
   "source": [
    "(sum_R_p, dfdx_a_bernoullis_terms) = sum_dfdx_bernoulis_euler_maclaurin_R_p(f(n_x,n_y), n_x, a_x, b_x,    n_\n",
    "y, a_y, b_y, p)\n",
    "display(Math(latex(sum_R_p)))"
   ]
  },
  {
   "cell_type": "raw",
   "metadata": {},
   "source": [
    "sum_R_p"
   ]
  },
  {
   "cell_type": "raw",
   "metadata": {},
   "source": [
    "display(Math(latex(sum_R_p)))"
   ]
  },
  {
   "cell_type": "raw",
   "metadata": {},
   "source": [
    "sum_R_p_n = sum_R_p.n()\n",
    "sum_R_p_n"
   ]
  },
  {
   "cell_type": "code",
   "execution_count": 75,
   "metadata": {},
   "outputs": [
    {
     "name": "stdout",
     "output_type": "stream",
     "text": [
      "_int= n_y |--> -1/2*(n_y^2*arctan(1/n_y) + n_y + arctan(1/n_y))/(n_y^5 + n_y^3) + 1/4*pi/n_y^3\n",
      "R_p_int= integrate(1/8*(2*n_y - 2*floor(n_y) - 1)*(2*(5*n_y^4 + 3*n_y^2)*(n_y^2*arctan(1/n_y) + n_y + arctan(1/n_y))/(n_y^5 + n_y^3)^2 - 2*(2*n_y*arctan(1/n_y) - 1/(1/n_y^2 + 1) - 1/(n_y^2*(1/n_y^2 + 1)) + 1)/(n_y^5 + n_y^3) - 3*pi/n_y^4), n_y, 1, +Infinity)\n"
     ]
    },
    {
     "data": {
      "text/latex": [
       "$\\displaystyle \\int_{1}^{+\\infty} \\frac{1}{8} \\, {\\left(2 \\, n_{y} - 2 \\, \\left \\lfloor n_{y} \\right \\rfloor - 1\\right)} {\\left(\\frac{2 \\, {\\left(5 \\, n_{y}^{4} + 3 \\, n_{y}^{2}\\right)} {\\left(n_{y}^{2} \\arctan\\left(\\frac{1}{n_{y}}\\right) + n_{y} + \\arctan\\left(\\frac{1}{n_{y}}\\right)\\right)}}{{\\left(n_{y}^{5} + n_{y}^{3}\\right)}^{2}} - \\frac{2 \\, {\\left(2 \\, n_{y} \\arctan\\left(\\frac{1}{n_{y}}\\right) - \\frac{1}{\\frac{1}{n_{y}^{2}} + 1} - \\frac{1}{n_{y}^{2} {\\left(\\frac{1}{n_{y}^{2}} + 1\\right)}} + 1\\right)}}{n_{y}^{5} + n_{y}^{3}} - \\frac{3 \\, \\pi}{n_{y}^{4}}\\right)}\\,{d n_{y}}$"
      ],
      "text/plain": [
       "<IPython.core.display.Math object>"
      ]
     },
     "metadata": {},
     "output_type": "display_data"
    }
   ],
   "source": [
    "use_int_R_p_j = False\n",
    "use_num_int = False\n",
    "_int = integral           (f,(n_x, a_x, b_x), hold = False)\n",
    "print(\"_int=\", _int)\n",
    "R_p_int = euler_maclaurin_R_p(_int,  n_y, a_y, b_y, p, f_diff_symb_p=None)\n",
    "print(\"R_p_int=\", R_p_int)\n",
    "display(Math(latex(R_p_int)))"
   ]
  },
  {
   "cell_type": "code",
   "execution_count": 76,
   "metadata": {},
   "outputs": [
    {
     "data": {
      "text/plain": [
       "integrate(1/8*(2*n_y - 2*floor(n_y) - 1)*(2*(5*n_y^4 + 3*n_y^2)*(n_y^2*arctan(1/n_y) + n_y + arctan(1/n_y))/(n_y^5 + n_y^3)^2 - 2*(2*n_y*arctan(1/n_y) - 1/(1/n_y^2 + 1) - 1/(n_y^2*(1/n_y^2 + 1)) + 1)/(n_y^5 + n_y^3) - 3*pi/n_y^4), n_y, 1, +Infinity)"
      ]
     },
     "execution_count": 76,
     "metadata": {},
     "output_type": "execute_result"
    }
   ],
   "source": [
    "R_p_int"
   ]
  },
  {
   "cell_type": "code",
   "execution_count": 77,
   "metadata": {},
   "outputs": [
    {
     "data": {
      "text/plain": [
       "0.014593410520966651"
      ]
     },
     "execution_count": 77,
     "metadata": {},
     "output_type": "execute_result"
    }
   ],
   "source": [
    "R_p_int_n = R_p_int.n()\n",
    "R_p_int_n"
   ]
  },
  {
   "cell_type": "code",
   "execution_count": 78,
   "metadata": {},
   "outputs": [
    {
     "name": "stdout",
     "output_type": "stream",
     "text": [
      "R_p_half  = n_x |--> integrate(-(2*n_y - 2*floor(n_y) - 1)*n_y/(n_y^2 + 1)^3, n_y, 1, +Infinity)\n"
     ]
    },
    {
     "data": {
      "text/latex": [
       "$\\displaystyle n_{x} \\ {\\mapsto}\\ \\int_{1}^{+\\infty} -\\frac{{\\left(2 \\, n_{y} - 2 \\, \\left \\lfloor n_{y} \\right \\rfloor - 1\\right)} n_{y}}{{\\left(n_{y}^{2} + 1\\right)}^{3}}\\,{d n_{y}}$"
      ],
      "text/plain": [
       "<IPython.core.display.Math object>"
      ]
     },
     "metadata": {},
     "output_type": "display_data"
    }
   ],
   "source": [
    "use_int_R_p_j = False\n",
    "use_num_int = False\n",
    "\n",
    "R_p_half = euler_maclaurin_R_p(half_summa (f, n_x, a_x, b_x), n_y, a_y, b_y, p, f_diff_symb_p=None, hold_int=False)\n",
    "print(\"R_p_half  =\", R_p_half )\n",
    "display(Math(latex(R_p_half)))"
   ]
  },
  {
   "cell_type": "code",
   "execution_count": 79,
   "metadata": {},
   "outputs": [
    {
     "data": {
      "text/plain": [
       "0.019569055005268107"
      ]
     },
     "execution_count": 79,
     "metadata": {},
     "output_type": "execute_result"
    }
   ],
   "source": [
    "R_p_half_n = R_p_half.n()\n",
    "R_p_half_n"
   ]
  },
  {
   "cell_type": "code",
   "execution_count": 80,
   "metadata": {},
   "outputs": [
    {
     "name": "stdout",
     "output_type": "stream",
     "text": [
      "R_p_sum = 0\n"
     ]
    },
    {
     "data": {
      "text/latex": [
       "$\\displaystyle 0$"
      ],
      "text/plain": [
       "<IPython.core.display.Math object>"
      ]
     },
     "metadata": {},
     "output_type": "display_data"
    }
   ],
   "source": [
    "use_int_R_p_j = False\n",
    "use_num_int = False\n",
    "\n",
    "R_p_sum = euler_maclaurin_R_p(sum_dfdx_bernoulis (f, n_x, a_x, b_x,p), n_y, a_y, b_y, p, f_diff_symb_p=None, hold_int=False)\n",
    "print(\"R_p_sum =\",R_p_sum)\n",
    "display(Math(latex(R_p_sum)))"
   ]
  },
  {
   "cell_type": "code",
   "execution_count": 81,
   "metadata": {},
   "outputs": [
    {
     "data": {
      "text/plain": [
       "0.000000000000000"
      ]
     },
     "execution_count": 81,
     "metadata": {},
     "output_type": "execute_result"
    }
   ],
   "source": [
    "R_p_sum_n = R_p_sum.n()\n",
    "R_p_sum_n"
   ]
  },
  {
   "cell_type": "raw",
   "metadata": {},
   "source": [
    "display(Math(latex(sum_R_p)))"
   ]
  },
  {
   "cell_type": "code",
   "execution_count": 82,
   "metadata": {},
   "outputs": [],
   "source": [
    "#use_num_int = True\n",
    "\n",
    "#R_p_R_p = euler_maclaurin_R_p(euler_maclaurin_R_p(f(x,y), x, a_x, b_x,p), y, a_y, b_y, p)\n",
    "#R_p_R_p = euler_maclaurin_R_p_euler_maclaurin_R_p(f(x,y), x, a_x, b_x,    y, a_y, b_y, p)\n",
    "#print(\"R_p_R_p=$\", R_p_R_p.n())\n",
    "#display(Math(latex(R_p_R_p)))"
   ]
  },
  {
   "cell_type": "code",
   "execution_count": 83,
   "metadata": {},
   "outputs": [
    {
     "name": "stderr",
     "output_type": "stream",
     "text": [
      "/tmp/ipykernel_1133/2434198373.py:11: IntegrationWarning: The maximum number of subdivisions (50) has been achieved.\n",
      "  If increasing the limit yields no improvement it is advised to analyze \n",
      "  the integrand in order to determine the difficulties.  If the position of a \n",
      "  local difficulty can be determined (singularity, discontinuity) one will \n",
      "  probably gain from splitting up the interval and calling the integrator \n",
      "  on the subranges.  Perhaps a special-purpose integrator should be used.\n",
      "  integral = integrate.quad(f, a, b)\n",
      "/tmp/ipykernel_1133/2434198373.py:11: IntegrationWarning: The integral is probably divergent, or slowly convergent.\n",
      "  integral = integrate.quad(f, a, b)\n"
     ]
    }
   ],
   "source": [
    "f_diff_x_p_diff_y_p_ = f(x, y).diff(x,p).diff(y,p)\n",
    "exec(preparse(\"f_diff_x_p_diff_y_p = lambda x, y:\" + str(f_diff_x_p_diff_y_p_)))\n",
    "R_p_R_p = euler_maclaurin_R_p_euler_maclaurin_R_p_num_int(f_diff_x_p_diff_y_p, n_x, a_x, b_x, n_y, a_y, b_y, p)"
   ]
  },
  {
   "cell_type": "code",
   "execution_count": 84,
   "metadata": {},
   "outputs": [
    {
     "data": {
      "text/plain": [
       "0.008150899241692044"
      ]
     },
     "execution_count": 84,
     "metadata": {},
     "output_type": "execute_result"
    }
   ],
   "source": [
    "R_p_R_p"
   ]
  },
  {
   "cell_type": "markdown",
   "metadata": {},
   "source": [
    "# Summary Euler–Maclaurin 2D for ${\\displaystyle \\sum\\limits_{m,n=1}^{\\infty} \\, \\left(m^{2} + n^{2}\\right)^{-2} }$"
   ]
  },
  {
   "cell_type": "code",
   "execution_count": 85,
   "metadata": {},
   "outputs": [
    {
     "data": {
      "text/plain": [
       "(1/8*pi - 1/4, 1/16*pi - 1/8, 0, 0.014591148758590414)"
      ]
     },
     "execution_count": 85,
     "metadata": {},
     "output_type": "execute_result"
    }
   ],
   "source": [
    "int_int, int_half, int_sum, int_R_p"
   ]
  },
  {
   "cell_type": "code",
   "execution_count": 86,
   "metadata": {},
   "outputs": [
    {
     "data": {
      "text/plain": [
       "(1/16*pi - 1/8,\n",
       " 1/16,\n",
       " 0,\n",
       " integrate(-2*n_x^2/(n_x^6 + 3*n_x^4 + 3*n_x^2 + 1), n_x, 1, +Infinity) + integrate(2*n_x*floor(n_x)/(n_x^6 + 3*n_x^4 + 3*n_x^2 + 1), n_x, 1, +Infinity) + integrate(n_x/(n_x^6 + 3*n_x^4 + 3*n_x^2 + 1), n_x, 1, +Infinity))"
      ]
     },
     "execution_count": 86,
     "metadata": {},
     "output_type": "execute_result"
    }
   ],
   "source": [
    "half_int, half_half, half_sum, half_R_p"
   ]
  },
  {
   "cell_type": "code",
   "execution_count": 87,
   "metadata": {},
   "outputs": [
    {
     "data": {
      "text/plain": [
       "(0, 0, 0, 0)"
      ]
     },
     "execution_count": 87,
     "metadata": {},
     "output_type": "execute_result"
    }
   ],
   "source": [
    "sum_int, sum_half, sum_sum, sumy_R_px"
   ]
  },
  {
   "cell_type": "code",
   "execution_count": 88,
   "metadata": {},
   "outputs": [
    {
     "data": {
      "text/plain": [
       "(integrate(1/8*(2*n_y - 2*floor(n_y) - 1)*(2*(5*n_y^4 + 3*n_y^2)*(n_y^2*arctan(1/n_y) + n_y + arctan(1/n_y))/(n_y^5 + n_y^3)^2 - 2*(2*n_y*arctan(1/n_y) - 1/(1/n_y^2 + 1) - 1/(n_y^2*(1/n_y^2 + 1)) + 1)/(n_y^5 + n_y^3) - 3*pi/n_y^4), n_y, 1, +Infinity),\n",
       " n_x |--> integrate(-(2*n_y - 2*floor(n_y) - 1)*n_y/(n_y^2 + 1)^3, n_y, 1, +Infinity),\n",
       " 0,\n",
       " 0.008150899241692044)"
      ]
     },
     "execution_count": 88,
     "metadata": {},
     "output_type": "execute_result"
    }
   ],
   "source": [
    "R_p_int, R_p_half, R_p_sum, R_p_R_p"
   ]
  },
  {
   "cell_type": "markdown",
   "metadata": {},
   "source": [
    "Numerical Euler–Maclaurin 2D for $\\sum\\limits_{m,n=1}^{\\infty} \\, \\left(m^{2} + n^{2}\\right)^{-2}$"
   ]
  },
  {
   "cell_type": "code",
   "execution_count": 89,
   "metadata": {},
   "outputs": [
    {
     "data": {
      "text/plain": [
       "'0.142699 0.071350 0.000000 0.014591'"
      ]
     },
     "execution_count": 89,
     "metadata": {},
     "output_type": "execute_result"
    }
   ],
   "source": [
    "\"%f %f %f %f\" % (int_int.n(), int_half.n(), int_sum.n(), int_R_p_n)"
   ]
  },
  {
   "cell_type": "code",
   "execution_count": 90,
   "metadata": {},
   "outputs": [
    {
     "data": {
      "text/plain": [
       "'0.071350 0.062500 0.000000 0.019569'"
      ]
     },
     "execution_count": 90,
     "metadata": {},
     "output_type": "execute_result"
    }
   ],
   "source": [
    "\"%f %f %f %f\" % (half_int.n(), half_half.n(), half_sum.n(), half_R_p_n)"
   ]
  },
  {
   "cell_type": "code",
   "execution_count": 91,
   "metadata": {},
   "outputs": [
    {
     "data": {
      "text/plain": [
       "'0.000000 0.000000 0.000000 0.000000'"
      ]
     },
     "execution_count": 91,
     "metadata": {},
     "output_type": "execute_result"
    }
   ],
   "source": [
    "\"%f %f %f %f\" % (e2n(sum_int), e2n(sum_half), e2n(sum_sum), sumy_R_px_n)"
   ]
  },
  {
   "cell_type": "code",
   "execution_count": 92,
   "metadata": {},
   "outputs": [
    {
     "data": {
      "text/plain": [
       "'0.014593 0.019569 0.000000 0.008151'"
      ]
     },
     "execution_count": 92,
     "metadata": {},
     "output_type": "execute_result"
    }
   ],
   "source": [
    "\"%f %f %f %f\" % (R_p_int_n, R_p_half_n, R_p_sum_n, R_p_R_p)"
   ]
  },
  {
   "cell_type": "code",
   "execution_count": 93,
   "metadata": {},
   "outputs": [
    {
     "data": {
      "text/plain": [
       "0.424371538094713"
      ]
     },
     "execution_count": 93,
     "metadata": {},
     "output_type": "execute_result"
    }
   ],
   "source": [
    "int_int.n()  + int_half.n()  + int_sum.n()  + int_R_p_n    + \\\n",
    "half_int.n() + half_half.n() + half_sum.n() + half_R_p.n() + \\\n",
    "e2n(sum_int) + e2n(sum_half) + e2n(sum_sum) + sumy_R_px_n    + \\\n",
    "R_p_int_n    + R_p_half_n    + R_p_sum_n    + R_p_R_p"
   ]
  },
  {
   "cell_type": "markdown",
   "metadata": {},
   "source": [
    "$${\\displaystyle \\sum \\limits_{m,n=1}^{\\infty} \\, \\left(m^{2} + n^{2}\\right)^{-S} }$$"
   ]
  },
  {
   "cell_type": "code",
   "execution_count": 94,
   "metadata": {},
   "outputs": [],
   "source": [
    "def zeta_2D_1_1(S, N):\n",
    "    \n",
    "    def zeta_2D_row(S, first, N):\n",
    "        row_sum = 0\n",
    "        for m in range(first, N):\n",
    "            row_sum += (N^2+m^2)^(-S)\n",
    "        return row_sum\n",
    "\n",
    "    def zeta_2D_diag(S, N):\n",
    "        diag_elem = (2*N^2)^(-S)\n",
    "        return diag_elem\n",
    "    \n",
    "    zeta_2D_sum = 0\n",
    "    for n in range(1,N):\n",
    "        zeta_2D_add = 2 * zeta_2D_row(S, 1, n) + zeta_2D_diag(S, n)\n",
    "        zeta_2D_sum += zeta_2D_add\n",
    "        \n",
    "    return zeta_2D_sum"
   ]
  },
  {
   "cell_type": "code",
   "execution_count": 95,
   "metadata": {},
   "outputs": [
    {
     "data": {
      "text/plain": [
       "0.4243791332035987"
      ]
     },
     "execution_count": 95,
     "metadata": {},
     "output_type": "execute_result"
    }
   ],
   "source": [
    "zeta_2D_1_1(2, 1000)"
   ]
  },
  {
   "cell_type": "markdown",
   "metadata": {},
   "source": [
    "R_p=False (Euler–Maclaurin 2D without remainer part)"
   ]
  },
  {
   "cell_type": "code",
   "execution_count": 96,
   "metadata": {},
   "outputs": [
    {
     "data": {
      "text/plain": [
       "0.347898163397448"
      ]
     },
     "execution_count": 96,
     "metadata": {},
     "output_type": "execute_result"
    }
   ],
   "source": [
    "int_int.n()  + int_half.n()  + int_sum.n()  + \\\n",
    "half_int.n() + half_half.n() + half_sum.n() + \\\n",
    "e2n(sum_int) + e2n(sum_half) + e2n(sum_sum)"
   ]
  },
  {
   "cell_type": "markdown",
   "metadata": {},
   "source": [
    "# Two Dimensional Linear Zeta Function"
   ]
  },
  {
   "cell_type": "markdown",
   "metadata": {},
   "source": [
    "https://core.ac.uk/download/pdf/82162715.pdf\n",
    "\n",
    "JOURNAL OF NUMBER THEORY 35, 62-71 (1990)\n",
    "\n",
    "Evaluation of Multidimensional Linear Zeta Functions\n",
    "\n",
    "ALFRED ACTOR*\n",
    "\n",
    "Department of Physics, The Pennsylvania State University,\n",
    "\n",
    "Fogelsville, Pennsylvania 18051\n",
    "\n",
    "Communicated by Hans Zassenhaus\n",
    "\n",
    "Received January 28, 1988; revised May 5, 1989"
   ]
  },
  {
   "cell_type": "code",
   "execution_count": null,
   "metadata": {},
   "outputs": [],
   "source": []
  },
  {
   "cell_type": "markdown",
   "metadata": {},
   "source": [
    "A prototypical formula of this type is [1] \n",
    "\n",
    "$\\sum \\limits_{m,n=-\\infty}^{\\infty} \\, \\left(m^{2} + n^{2}\\right)^{-S} = 4 \\, \\zeta \\left(S\\right) \\, \\beta \\left(S\\right)$\n",
    "\n",
    "where the prime means that $n = m = 0$ is excluded from the sum. \n",
    "\n",
    "where of course, $\\zeta\\left(S\\right)$ is the Riemann $\\zeta$-function [2]\n",
    "\n",
    "while $\\beta\\left(S\\right) = \\sum \\limits_{n=0}^{\\infty}\\left( - \\right)^n \\left(2n + 1\\right)^{-S}$\n",
    "defines, for $Re S > 0$, a function whose properties throughout the s-plane are\n",
    "well known [3].\n",
    "\n",
    "Thus Eq. (1) fully reveals the properties of the twodimensional Epstein $\\zeta$-function [4] on the left. \n",
    "\n",
    "\n",
    "\n",
    "1. G. H. HARDY, Notes on some points in the integral calculus LII, Mess. Math. 49 (1919),\n",
    "85-91.\n",
    "2. H. M. EDWARDS, “Riemann’s Zeta Function,” Academic Press, New York, 1974.\n",
    "3. A. ERDELYI, W. MAGNUS, F. OEERHETTINGER, AND F. G. TRICOMI (Eds.), “Higher Transcendental Functions,” Vol. 1, McGraw-Hill, New York, 1953. \n",
    "LINEAR ZETA FUNCTIONS 71\n",
    "4. P. EPSTEIN, Zur Theorie allgemeiner Zetafunctionen, Marh. Ann. 56 (1903), 615-645; Zur\n",
    "Theorie allgemeiner Zetafunctionen, II, Math. Ann. 63 (19071, 205-216. "
   ]
  },
  {
   "cell_type": "markdown",
   "metadata": {},
   "source": [
    "$${\\displaystyle \\sum\\limits_{m,n=(0)1}^{\\infty} \\, \\left(m^{2} + n^{2}\\right)^{-S} = \\zeta\\left(S\\right)\\,\\beta\\left(S\\right) }$$"
   ]
  },
  {
   "cell_type": "markdown",
   "metadata": {},
   "source": [
    "$${\\displaystyle \\sum\\limits_{m,n=(0)1}^{\\infty} \\, \\left(\\sqrt{m^{2} + n^{2}}\\right)^{-S} = \\sum\\limits_{m,n=(0)1}^{\\infty} \\, \\left(m^{2} + n^{2}\\right)^{-\\frac{S}{2}} = \\zeta\\left(\\frac{S}{2}\\right)\\,\\beta\\left(\\frac{S}{2}\\right) }$$"
   ]
  },
  {
   "cell_type": "code",
   "execution_count": 97,
   "metadata": {},
   "outputs": [],
   "source": [
    "def zeta_2D(S, N):\n",
    "    \n",
    "    def zeta_2D_row(S, first, N):\n",
    "        row_sum = 0\n",
    "        for m in range(first, N):\n",
    "            row_sum += (N^2+m^2)^(-S)\n",
    "        return row_sum\n",
    "\n",
    "    def zeta_2D_diag(S, N):\n",
    "        diag_elem = (2*N^2)^(-S)\n",
    "        return diag_elem\n",
    "    \n",
    "    zeta_2D_sum = 0\n",
    "    for n in range(1,N):\n",
    "        zeta_2D_add = zeta_2D_row(S, 0, n) + zeta_2D_row(S, 1, n) + zeta_2D_diag(S, n)\n",
    "        zeta_2D_sum += zeta_2D_add\n",
    "        \n",
    "    return zeta_2D_sum"
   ]
  },
  {
   "cell_type": "markdown",
   "metadata": {},
   "source": [
    "$${\\displaystyle \\beta\\left(S\\right) = \\sum\\limits_{n=0}^{\\infty}\\left( - \\right)^n \\left(2n + 1\\right)^{-S} }$$"
   ]
  },
  {
   "cell_type": "markdown",
   "metadata": {},
   "source": [
    "$${\\displaystyle \\beta\\left(S\\right) = \\sum\\limits_{n=0}^{\\infty}\\left( - \\right)^{2n} \\left(2\\cdot2n + 1\\right)^{-S} +\\left( - \\right)^{(2n+1)} \\left(2(2n+1) + 1\\right)^{-S} }$$"
   ]
  },
  {
   "cell_type": "markdown",
   "metadata": {},
   "source": [
    "$${\\displaystyle \\beta\\left(S\\right) = \\sum\\limits_{n=0}^{\\infty}\\left( - \\right)^{2n} \\left(4n + 1\\right)^{-S} +\\left( - \\right)^{(2n+1)} \\left(4n+3\\right)^{-S} }$$"
   ]
  },
  {
   "cell_type": "markdown",
   "metadata": {},
   "source": [
    "$${\\displaystyle \\beta\\left(S\\right) = \\sum\\limits_{n=0}^{\\infty} \\left(4n + 1\\right)^{-S} - \\left(4n+3\\right)^{-S} }$$"
   ]
  },
  {
   "cell_type": "markdown",
   "metadata": {},
   "source": [
    "$${\\displaystyle \\beta\\left(S\\right) = \\sum\\limits_{n=0}^{\\infty} \\left(4n + 1\\right)^{-S} - \\sum\\limits_{n=0}^{\\infty}\\left(4n+3\\right)^{-S} }$$"
   ]
  },
  {
   "cell_type": "markdown",
   "metadata": {},
   "source": [
    "$${\\displaystyle \\beta\\left(S\\right) = 4^{-S}\\sum\\limits_{n=0}^{\\infty} \\left(n + \\frac{1}{4}\\right)^{-S} - 4^{-S}\\sum\\limits_{n=0}^{\\infty}\\left(n+\\frac{3}{4}\\right)^{-S} }$$"
   ]
  },
  {
   "cell_type": "code",
   "execution_count": 98,
   "metadata": {},
   "outputs": [],
   "source": [
    "from sage.calculus.calculus import symbolic_sum\n",
    "n = var(\"n\")\n",
    "S = var(\"S\")\n",
    "beta1_sym = lambda S : symbolic_sum((-1)^n * (2*n + 1)^(-S), n, 0, Infinity)\n",
    "beta1 = lambda S : sum((-1)^n * (2*n + 1)^(-S), n, 0, Infinity)\n",
    "\n",
    "def beta1_dig(S,N):\n",
    "    Sum = 0\n",
    "    for n in range (N):\n",
    "        Sum += (-1)^n * (2*n + 1)^(-S)\n",
    "    return Sum"
   ]
  },
  {
   "cell_type": "code",
   "execution_count": 99,
   "metadata": {},
   "outputs": [],
   "source": [
    "def beta2_dig(S,N):\n",
    "    Sum = 0\n",
    "    for n in range (N/2):\n",
    "        Sum += (-1)^(2*n)   * (2*(2*n)   + 1)^(-S)\n",
    "        Sum += (-1)^(2*n+1) * (2*(2*n+1) + 1)^(-S)\n",
    "    return Sum"
   ]
  },
  {
   "cell_type": "markdown",
   "metadata": {},
   "source": [
    "$${\\displaystyle \\beta\\left(S\\right) = \\sum\\limits_{n=0}^{\\infty} \\left(4n + 1\\right)^{-S} - \\sum\\limits_{n=0}^{\\infty}\\left(4n+3\\right)^{-S} }$$"
   ]
  },
  {
   "cell_type": "code",
   "execution_count": 100,
   "metadata": {},
   "outputs": [],
   "source": [
    "def beta2_dig_1(S,N):\n",
    "    Sum = 0\n",
    "    for n in range (N/2):\n",
    "        Sum += (-1)^(2*n)   * (2*(2*n)   + 1)^(-S)\n",
    "    return Sum"
   ]
  },
  {
   "cell_type": "code",
   "execution_count": 101,
   "metadata": {},
   "outputs": [],
   "source": [
    "def beta2_dig_2(S,N):\n",
    "    Sum = 0\n",
    "    for n in range (N/2):\n",
    "        Sum += (-1)^(2*n+1) * (2*(2*n+1) + 1)^(-S)\n",
    "    return Sum"
   ]
  },
  {
   "cell_type": "code",
   "execution_count": 102,
   "metadata": {},
   "outputs": [
    {
     "data": {
      "text/plain": [
       "0.653419394620402"
      ]
     },
     "execution_count": 102,
     "metadata": {},
     "output_type": "execute_result"
    }
   ],
   "source": [
    "(beta2_dig_1(2,100000)/zeta(2)).n()"
   ]
  },
  {
   "cell_type": "code",
   "execution_count": 103,
   "metadata": {},
   "outputs": [
    {
     "data": {
      "text/plain": [
       "-0.0965790855618431"
      ]
     },
     "execution_count": 103,
     "metadata": {},
     "output_type": "execute_result"
    }
   ],
   "source": [
    "(beta2_dig_2(2,100000)/zeta(2)).n()"
   ]
  },
  {
   "cell_type": "code",
   "execution_count": 104,
   "metadata": {},
   "outputs": [],
   "source": [
    "def beta3_dig(S,N):\n",
    "    Sum = 0\n",
    "    for n in range (N/2):\n",
    "        Sum += (4*n + 1)^(-S) - (4*n+3)^(-S)\n",
    "    return Sum"
   ]
  },
  {
   "cell_type": "code",
   "execution_count": 105,
   "metadata": {},
   "outputs": [],
   "source": [
    "def beta4_dig(S,N):\n",
    "    Sum = 0\n",
    "    for n in range (N/2):\n",
    "        Sum += (n + 1/4)^(-S) - (n+3/4)^(-S)\n",
    "    return Sum*4^(-S)"
   ]
  },
  {
   "cell_type": "markdown",
   "metadata": {},
   "source": [
    "$${\\displaystyle \\sum\\limits_{m,n=0,1}^{\\infty} \\, \\left(m^{2} + n^{2}\\right)^{-S}=\\sum\\limits_{m,n=1}^{\\infty} \\, \\left(m^{2} + n^{2}\\right)^{-S}+\\zeta(2 S) }$$"
   ]
  },
  {
   "cell_type": "markdown",
   "metadata": {},
   "source": [
    "$${\\displaystyle \\sum\\limits_{m,n=0,1}^{\\infty} \\, \\left(m^{2} + n^{2}\\right)^{-2}=\\sum\\limits_{m,n=1}^{\\infty} \\, \\left(m^{2} + n^{2}\\right)^{-2}+\\zeta(4) }$$"
   ]
  },
  {
   "cell_type": "code",
   "execution_count": 106,
   "metadata": {},
   "outputs": [
    {
     "data": {
      "text/plain": [
       "1.50669477180585"
      ]
     },
     "execution_count": 106,
     "metadata": {},
     "output_type": "execute_result"
    }
   ],
   "source": [
    "ans_euler_maclarin_2D = \\\n",
    "int_int.n()  + int_half.n()  + int_sum.n()  + int_R_p_n    + \\\n",
    "half_int.n() + half_half.n() + half_sum.n() + half_R_p.n() + \\\n",
    "e2n(sum_int) + e2n(sum_half) + e2n(sum_sum) + sumy_R_px_n  + \\\n",
    "R_p_int_n    + R_p_half_n    + R_p_sum_n    + R_p_R_p      + \\\n",
    "zeta(4).n()\n",
    "ans_euler_maclarin_2D"
   ]
  },
  {
   "cell_type": "markdown",
   "metadata": {},
   "source": [
    "Because resulting Matrix has some difference from simmetric one due difference between R_p_half and half_R_p , I will do some test"
   ]
  },
  {
   "cell_type": "code",
   "execution_count": 107,
   "metadata": {},
   "outputs": [
    {
     "data": {
      "text/plain": [
       "1.50669457797133"
      ]
     },
     "execution_count": 107,
     "metadata": {},
     "output_type": "execute_result"
    }
   ],
   "source": [
    "ans_euler_maclarin_2D_half_R_p = \\\n",
    "int_int.n()  + int_half.n()  + int_sum.n()  + int_R_p_n    + \\\n",
    "half_int.n() + half_half.n() + half_sum.n() + half_R_p.n() + \\\n",
    "e2n(sum_int) + e2n(sum_half) + e2n(sum_sum) + sumy_R_px_n  + \\\n",
    "R_p_int_n    + half_R_p.n()  + R_p_sum_n    + R_p_R_p      + \\\n",
    "zeta(4).n()\n",
    "ans_euler_maclarin_2D_half_R_p"
   ]
  },
  {
   "cell_type": "code",
   "execution_count": 108,
   "metadata": {},
   "outputs": [
    {
     "data": {
      "text/plain": [
       "1.50669496564037"
      ]
     },
     "execution_count": 108,
     "metadata": {},
     "output_type": "execute_result"
    }
   ],
   "source": [
    "ans_euler_maclarin_2D_R_p_half = \\\n",
    "int_int.n()  + int_half.n()  + int_sum.n()  + int_R_p_n   + \\\n",
    "half_int.n() + half_half.n() + half_sum.n() + R_p_half_n  + \\\n",
    "e2n(sum_int) + e2n(sum_half) + e2n(sum_sum) + sumy_R_px_n + \\\n",
    "R_p_int_n    + R_p_half_n    + R_p_sum_n    + R_p_R_p     + \\\n",
    "zeta(4).n()\n",
    "ans_euler_maclarin_2D_R_p_half"
   ]
  },
  {
   "cell_type": "markdown",
   "metadata": {},
   "source": [
    "$${\\displaystyle \\frac{1}{4}\\sum \\limits_{m,n=-\\infty}^{\\infty} \\left(m^{2} + n^{2}\\right)^{-S} = \\zeta \\left(S\\right)\\beta\\left(S\\right) }$$"
   ]
  },
  {
   "cell_type": "code",
   "execution_count": 109,
   "metadata": {},
   "outputs": [
    {
     "data": {
      "text/plain": [
       "1.50670280430638"
      ]
     },
     "execution_count": 109,
     "metadata": {},
     "output_type": "execute_result"
    }
   ],
   "source": [
    "beta1_dig(2,1000)*zeta(2).n()"
   ]
  },
  {
   "cell_type": "code",
   "execution_count": 110,
   "metadata": {},
   "outputs": [
    {
     "data": {
      "text/plain": [
       "1.50670280430638"
      ]
     },
     "execution_count": 110,
     "metadata": {},
     "output_type": "execute_result"
    }
   ],
   "source": [
    "beta2_dig(2,1000)*zeta(2).n()"
   ]
  },
  {
   "cell_type": "code",
   "execution_count": 111,
   "metadata": {},
   "outputs": [
    {
     "data": {
      "text/plain": [
       "1.50670280430638"
      ]
     },
     "execution_count": 111,
     "metadata": {},
     "output_type": "execute_result"
    }
   ],
   "source": [
    "beta3_dig(2,1000)*zeta(2).n()"
   ]
  },
  {
   "cell_type": "code",
   "execution_count": 112,
   "metadata": {},
   "outputs": [
    {
     "data": {
      "text/plain": [
       "1.50670280430638"
      ]
     },
     "execution_count": 112,
     "metadata": {},
     "output_type": "execute_result"
    }
   ],
   "source": [
    "beta3_dig(2,1000)*zeta(2).n()"
   ]
  },
  {
   "cell_type": "code",
   "execution_count": 113,
   "metadata": {},
   "outputs": [
    {
     "data": {
      "text/plain": [
       "1.50670280430638"
      ]
     },
     "execution_count": 113,
     "metadata": {},
     "output_type": "execute_result"
    }
   ],
   "source": [
    "beta4_dig(2,1000)*zeta(2).n()"
   ]
  },
  {
   "cell_type": "code",
   "execution_count": 114,
   "metadata": {
    "scrolled": true
   },
   "outputs": [
    {
     "data": {
      "text/plain": [
       "1.5067023665809038"
      ]
     },
     "execution_count": 114,
     "metadata": {},
     "output_type": "execute_result"
    }
   ],
   "source": [
    "zeta_2D(2, 1000)"
   ]
  },
  {
   "cell_type": "code",
   "execution_count": 115,
   "metadata": {
    "scrolled": true
   },
   "outputs": [
    {
     "data": {
      "text/plain": [
       "7.59477505352102e-6"
      ]
     },
     "execution_count": 115,
     "metadata": {},
     "output_type": "execute_result"
    }
   ],
   "source": [
    "zeta_2D(2, 1000) - ans_euler_maclarin_2D"
   ]
  },
  {
   "cell_type": "code",
   "execution_count": 116,
   "metadata": {
    "scrolled": true
   },
   "outputs": [
    {
     "data": {
      "text/plain": [
       "7.78860957439953e-6"
      ]
     },
     "execution_count": 116,
     "metadata": {},
     "output_type": "execute_result"
    }
   ],
   "source": [
    "zeta_2D(2, 1000) - ans_euler_maclarin_2D_half_R_p"
   ]
  },
  {
   "cell_type": "code",
   "execution_count": 117,
   "metadata": {
    "scrolled": true
   },
   "outputs": [
    {
     "data": {
      "text/plain": [
       "7.40094053219842e-6"
      ]
     },
     "execution_count": 117,
     "metadata": {},
     "output_type": "execute_result"
    }
   ],
   "source": [
    "zeta_2D(2, 1000) - ans_euler_maclarin_2D_R_p_half"
   ]
  },
  {
   "cell_type": "markdown",
   "metadata": {},
   "source": [
    "So I see that R_p_half is more accurate than half_R_p"
   ]
  },
  {
   "cell_type": "code",
   "execution_count": null,
   "metadata": {},
   "outputs": [],
   "source": []
  }
 ],
 "metadata": {
  "kernelspec": {
   "display_name": "SageMath 9.6.beta7",
   "language": "sage",
   "name": "sagemath"
  },
  "language_info": {
   "codemirror_mode": {
    "name": "ipython",
    "version": 3
   },
   "file_extension": ".py",
   "mimetype": "text/x-python",
   "name": "python",
   "nbconvert_exporter": "python",
   "pygments_lexer": "ipython3",
   "version": "3.10.3"
  }
 },
 "nbformat": 4,
 "nbformat_minor": 4
}
