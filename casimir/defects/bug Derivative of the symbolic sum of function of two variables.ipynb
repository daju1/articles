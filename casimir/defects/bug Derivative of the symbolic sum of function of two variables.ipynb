{
 "cells": [
  {
   "cell_type": "code",
   "execution_count": 1,
   "metadata": {},
   "outputs": [],
   "source": [
    "x,y = var(\"x,y\")\n",
    "a,b = var(\"a,b\")"
   ]
  },
  {
   "cell_type": "code",
   "execution_count": 2,
   "metadata": {},
   "outputs": [],
   "source": [
    "from IPython.display import display, Math, Latex"
   ]
  },
  {
   "cell_type": "code",
   "execution_count": 3,
   "metadata": {},
   "outputs": [
    {
     "name": "stdout",
     "output_type": "stream",
     "text": [
      "F(x, y)\n"
     ]
    }
   ],
   "source": [
    "F = function(\"F\")(x, y)\n",
    "print(F)"
   ]
  },
  {
   "cell_type": "code",
   "execution_count": 4,
   "metadata": {},
   "outputs": [],
   "source": [
    "from sage.calculus.calculus import symbolic_sum"
   ]
  },
  {
   "cell_type": "code",
   "execution_count": 5,
   "metadata": {},
   "outputs": [],
   "source": [
    "s = symbolic_sum(F(x, y), x, a, b, algorithm = 'giac')"
   ]
  },
  {
   "cell_type": "code",
   "execution_count": 6,
   "metadata": {},
   "outputs": [
    {
     "data": {
      "text/plain": [
       "sum(F(x, y), x, a, b)"
      ]
     },
     "execution_count": 6,
     "metadata": {},
     "output_type": "execute_result"
    }
   ],
   "source": [
    "s"
   ]
  },
  {
   "cell_type": "code",
   "execution_count": 7,
   "metadata": {},
   "outputs": [
    {
     "data": {
      "text/latex": [
       "$\\displaystyle {\\sum_{x=a}^{b} F\\left(x, y\\right)}$"
      ],
      "text/plain": [
       "<IPython.core.display.Math object>"
      ]
     },
     "metadata": {},
     "output_type": "display_data"
    }
   ],
   "source": [
    "display(Math(latex(s)))"
   ]
  },
  {
   "cell_type": "code",
   "execution_count": 8,
   "metadata": {},
   "outputs": [
    {
     "data": {
      "text/plain": [
       "diff(F(x, y), y)*D[0](sum)(F(x, y), x, a, b)"
      ]
     },
     "execution_count": 8,
     "metadata": {},
     "output_type": "execute_result"
    }
   ],
   "source": [
    "from sage.calculus.calculus import dummy_diff\n",
    "dummy_diff(s, y)"
   ]
  },
  {
   "cell_type": "code",
   "execution_count": 9,
   "metadata": {},
   "outputs": [
    {
     "data": {
      "text/plain": [
       "diff(F(x, y), y)*D[0](sum)(F(x, y), x, a, b)"
      ]
     },
     "execution_count": 9,
     "metadata": {},
     "output_type": "execute_result"
    }
   ],
   "source": [
    "s.diff(y)"
   ]
  },
  {
   "cell_type": "code",
   "execution_count": 10,
   "metadata": {},
   "outputs": [],
   "source": [
    "s_diff_y = s.diff(y)"
   ]
  },
  {
   "cell_type": "code",
   "execution_count": 11,
   "metadata": {},
   "outputs": [],
   "source": [
    "#"
   ]
  },
  {
   "cell_type": "code",
   "execution_count": 12,
   "metadata": {},
   "outputs": [
    {
     "data": {
      "text/plain": [
       "diff(F(x, y), y)*D[0](sum)(F(x, y), x, a, b)"
      ]
     },
     "execution_count": 12,
     "metadata": {},
     "output_type": "execute_result"
    }
   ],
   "source": [
    "s_diff_y"
   ]
  },
  {
   "cell_type": "code",
   "execution_count": 13,
   "metadata": {},
   "outputs": [
    {
     "data": {
      "text/latex": [
       "$\\displaystyle \\frac{\\partial}{\\partial y}F\\left(x, y\\right) \\mathrm{D}_{0}{\\sum_{x=a}^{b} F\\left(x, y\\right)}$"
      ],
      "text/plain": [
       "<IPython.core.display.Math object>"
      ]
     },
     "metadata": {},
     "output_type": "display_data"
    }
   ],
   "source": [
    "display(Math(latex(s_diff_y)))"
   ]
  },
  {
   "cell_type": "markdown",
   "metadata": {},
   "source": [
    "elif algorithm == 'giac':"
   ]
  },
  {
   "cell_type": "code",
   "execution_count": 14,
   "metadata": {},
   "outputs": [
    {
     "data": {
      "text/plain": [
       "sum((diff(F,1))(sageVARx,sageVARy),sageVARx,sageVARa,sageVARb)"
      ]
     },
     "execution_count": 14,
     "metadata": {},
     "output_type": "execute_result"
    }
   ],
   "source": [
    "#sum = \"sum(%s, %s, %s, %s)\" % tuple([repr(expr._giac_()) for expr in (F, x, a, b)])\n",
    "sum_str = \"sum(F(sageVARx,sageVARy), sageVARx, sageVARa, sageVARb)\"\n",
    "from sage.interfaces.giac import giac\n",
    "try:\n",
    "    result_giac = giac(sum_str)\n",
    "except TypeError:\n",
    "    raise ValueError(\"Giac cannot make sense of: %s\" % sum)\n",
    "result_giac.diff(y)"
   ]
  },
  {
   "cell_type": "markdown",
   "metadata": {},
   "source": [
    "elif algorithm == 'sympy':"
   ]
  },
  {
   "cell_type": "code",
   "execution_count": 15,
   "metadata": {},
   "outputs": [],
   "source": [
    "expression,v,a,b = [expr._sympy_() for expr in (F, x, a, b)]\n",
    "from sympy import summation\n",
    "from sage.interfaces.sympy import sympy_init\n",
    "sympy_init()\n",
    "result_sympy = summation(expression, (v, a, b)).diff(y)"
   ]
  },
  {
   "cell_type": "code",
   "execution_count": 16,
   "metadata": {},
   "outputs": [
    {
     "data": {
      "text/latex": [
       "$\\displaystyle \\sum_{x=a}^{b} \\frac{\\partial}{\\partial y} F{\\left(x,y \\right)}$"
      ],
      "text/plain": [
       "Sum(Derivative(F(x, y), y), (x, a, b))"
      ]
     },
     "execution_count": 16,
     "metadata": {},
     "output_type": "execute_result"
    }
   ],
   "source": [
    "result_sympy"
   ]
  },
  {
   "cell_type": "markdown",
   "metadata": {},
   "source": [
    "elif algorithm == 'maxima':"
   ]
  },
  {
   "cell_type": "code",
   "execution_count": 17,
   "metadata": {},
   "outputs": [
    {
     "data": {
      "text/plain": [
       "'sum(F(x,y),x,a,b)"
      ]
     },
     "execution_count": 17,
     "metadata": {},
     "output_type": "execute_result"
    }
   ],
   "source": [
    "s = maxima('sum(F(x,y),x,a,b)')\n",
    "s"
   ]
  },
  {
   "cell_type": "code",
   "execution_count": 18,
   "metadata": {},
   "outputs": [
    {
     "data": {
      "text/plain": [
       "<class 'sage.interfaces.maxima.MaximaElement'>"
      ]
     },
     "execution_count": 18,
     "metadata": {},
     "output_type": "execute_result"
    }
   ],
   "source": [
    "type(s)"
   ]
  },
  {
   "cell_type": "code",
   "execution_count": 19,
   "metadata": {},
   "outputs": [
    {
     "name": "stdout",
     "output_type": "stream",
     "text": [
      "maxima_absract.diff() self =\n",
      "                                  b\r\n",
      "                                 ====\r\n",
      "                                 \\\r\n",
      "                                  >    F(x, y)\r\n",
      "                                 /\r\n",
      "                                 ====\r\n",
      "                                 x = a\n",
      "var = y n = 1\n"
     ]
    },
    {
     "data": {
      "text/plain": [
       "'sum('diff(F(x,y),y,1),x,a,b)"
      ]
     },
     "execution_count": 19,
     "metadata": {},
     "output_type": "execute_result"
    }
   ],
   "source": [
    "s.diff('y')"
   ]
  },
  {
   "cell_type": "code",
   "execution_count": 20,
   "metadata": {},
   "outputs": [
    {
     "name": "stdout",
     "output_type": "stream",
     "text": [
      "maxima_absract.diff() self =\n",
      "                                  b\r\n",
      "                                 ====\r\n",
      "                                 \\\r\n",
      "                                  >    F(x, y)\r\n",
      "                                 /\r\n",
      "                                 ====\r\n",
      "                                 x = a\n",
      "var = y n = 1\n",
      "s sum(diff(F(x,y),y,1),x,a,b)\n",
      "parser_output sum(diff(F(x, y), y), x, a, b)\n"
     ]
    },
    {
     "data": {
      "text/plain": [
       "sum(diff(F(x, y), y), x, a, b)"
      ]
     },
     "execution_count": 20,
     "metadata": {},
     "output_type": "execute_result"
    }
   ],
   "source": [
    "s.diff('y').sage()"
   ]
  },
  {
   "cell_type": "code",
   "execution_count": null,
   "metadata": {},
   "outputs": [],
   "source": []
  },
  {
   "cell_type": "code",
   "execution_count": 21,
   "metadata": {},
   "outputs": [
    {
     "data": {
      "text/plain": [
       "sr_sum('F(_SAGE_VAR_x,_SAGE_VAR_y),_SAGE_VAR_x,a,b)"
      ]
     },
     "execution_count": 21,
     "metadata": {},
     "output_type": "execute_result"
    }
   ],
   "source": [
    "maxima.sr_sum(F,x,a,b)"
   ]
  },
  {
   "cell_type": "code",
   "execution_count": 22,
   "metadata": {},
   "outputs": [
    {
     "data": {
      "text/plain": [
       "<class 'sage.interfaces.maxima.MaximaElement'>"
      ]
     },
     "execution_count": 22,
     "metadata": {},
     "output_type": "execute_result"
    }
   ],
   "source": [
    "type(maxima.sr_sum(F,x,a,b))"
   ]
  },
  {
   "cell_type": "code",
   "execution_count": 23,
   "metadata": {},
   "outputs": [
    {
     "name": "stdout",
     "output_type": "stream",
     "text": [
      "maxima_absract.diff() self =\n",
      "            sr_sum(F(_SAGE_VAR_x, _SAGE_VAR_y), _SAGE_VAR_x, a, b)\n",
      "var = y n = 1\n"
     ]
    },
    {
     "data": {
      "text/plain": [
       "'diff(sr_sum('F(_SAGE_VAR_x,_SAGE_VAR_y),_SAGE_VAR_x,a,b),_SAGE_VAR_y,1)"
      ]
     },
     "execution_count": 23,
     "metadata": {},
     "output_type": "execute_result"
    }
   ],
   "source": [
    "maxima.sr_sum(F,x,a,b).diff(y)"
   ]
  },
  {
   "cell_type": "code",
   "execution_count": 24,
   "metadata": {},
   "outputs": [
    {
     "name": "stdout",
     "output_type": "stream",
     "text": [
      "maxima_absract.diff() self =\n",
      "            sr_sum(F(_SAGE_VAR_x, _SAGE_VAR_y), _SAGE_VAR_x, a, b)\n",
      "var = y n = 1\n",
      "s diff(sr_sum(F(_SAGE_VAR_x,_SAGE_VAR_y),_SAGE_VAR_x,a,b),_SAGE_VAR_y,1)\n",
      "parser_output diff(F(x, y), y)*D[0](sr_sum)(F(x, y), x, a, b)\n"
     ]
    },
    {
     "data": {
      "text/plain": [
       "diff(F(x, y), y)*D[0](sr_sum)(F(x, y), x, a, b)"
      ]
     },
     "execution_count": 24,
     "metadata": {},
     "output_type": "execute_result"
    }
   ],
   "source": [
    "maxima.sr_sum(F,x,a,b).diff(y).sage()"
   ]
  },
  {
   "cell_type": "code",
   "execution_count": 25,
   "metadata": {},
   "outputs": [
    {
     "name": "stdout",
     "output_type": "stream",
     "text": [
      "maxima_absract.diff() self =\n",
      "            sr_sum(F(_SAGE_VAR_x, _SAGE_VAR_y), _SAGE_VAR_x, a, b)\n",
      "var = y n = 1\n"
     ]
    },
    {
     "data": {
      "text/plain": [
       "sage_repr('diff(sr_sum('F(_SAGE_VAR_x,_SAGE_VAR_y),_SAGE_VAR_x,a,b),_SAGE_VAR_y,1))"
      ]
     },
     "execution_count": 25,
     "metadata": {},
     "output_type": "execute_result"
    }
   ],
   "source": [
    "maxima.sr_sum(F,x,a,b).diff(y).sage_repr()"
   ]
  },
  {
   "cell_type": "code",
   "execution_count": 26,
   "metadata": {},
   "outputs": [
    {
     "name": "stdout",
     "output_type": "stream",
     "text": [
      "maxima_absract.diff() self =\n",
      "            sr_sum(F(_SAGE_VAR_x, _SAGE_VAR_y), _SAGE_VAR_x, a, b)\n",
      "var = y n = 1\n"
     ]
    }
   ],
   "source": [
    "maxima_sum_F_diff_y = maxima.sr_sum(F,x,a,b).diff(y)"
   ]
  },
  {
   "cell_type": "code",
   "execution_count": 27,
   "metadata": {},
   "outputs": [
    {
     "data": {
      "text/plain": [
       "'diff(sr_sum('F(_SAGE_VAR_x,_SAGE_VAR_y),_SAGE_VAR_x,a,b),_SAGE_VAR_y,1)"
      ]
     },
     "execution_count": 27,
     "metadata": {},
     "output_type": "execute_result"
    }
   ],
   "source": [
    "maxima_sum_F_diff_y"
   ]
  },
  {
   "cell_type": "code",
   "execution_count": 28,
   "metadata": {},
   "outputs": [
    {
     "data": {
      "text/plain": [
       "<class 'sage.interfaces.maxima.MaximaElement'>"
      ]
     },
     "execution_count": 28,
     "metadata": {},
     "output_type": "execute_result"
    }
   ],
   "source": [
    "type(maxima_sum_F_diff_y)"
   ]
  },
  {
   "cell_type": "code",
   "execution_count": 29,
   "metadata": {},
   "outputs": [
    {
     "name": "stdout",
     "output_type": "stream",
     "text": [
      "s diff(sr_sum(F(_SAGE_VAR_x,_SAGE_VAR_y),_SAGE_VAR_x,a,b),_SAGE_VAR_y,1)\n",
      "parser_output diff(F(x, y), y)*D[0](sr_sum)(F(x, y), x, a, b)\n"
     ]
    },
    {
     "data": {
      "text/plain": [
       "diff(F(x, y), y)*D[0](sr_sum)(F(x, y), x, a, b)"
      ]
     },
     "execution_count": 29,
     "metadata": {},
     "output_type": "execute_result"
    }
   ],
   "source": [
    "maxima_sum_F_diff_y.sage()"
   ]
  },
  {
   "cell_type": "code",
   "execution_count": 30,
   "metadata": {},
   "outputs": [],
   "source": [
    "from sage.misc.parser import Parser, LookupNameMaker\n",
    "from sage.calculus.calculus import _find_var, _find_func\n",
    "from sage.libs.pynac.pynac import symbol_table\n",
    "from sage.calculus.calculus import _is_function\n",
    "\n",
    "parser_make_Mvar = LookupNameMaker({}, fallback=lambda x: _find_var(x, interface='maxima'))\n",
    "parser_make_function = LookupNameMaker({}, fallback=_find_func)\n",
    "SRM_parser = Parser(make_int      = lambda x: SR(Integer(x)),\n",
    "                    make_float    = lambda x: SR(RealDoubleElement(x)),\n",
    "                    make_var      = parser_make_Mvar,\n",
    "                    make_function = parser_make_function)\n",
    "\n",
    "var_syms = {k: v for k, v in symbol_table.get('maxima', {}).items()\n",
    "            if not _is_function(v)}\n",
    "function_syms = {k: v for k, v in symbol_table.get('maxima', {}).items()\n",
    "                 if _is_function(v)}\n",
    "\n",
    "#from sage.calculus.calculus import dummy_diff\n",
    "def dummy_diff(*args):\n",
    "    \"\"\"\n",
    "    This function is called when 'diff' appears in a Maxima string.\n",
    "\n",
    "    EXAMPLES::\n",
    "\n",
    "        sage: from sage.calculus.calculus import dummy_diff\n",
    "        sage: x,y = var('x,y')\n",
    "        sage: dummy_diff(sin(x*y), x, SR(2), y, SR(1))\n",
    "        -x*y^2*cos(x*y) - 2*y*sin(x*y)\n",
    "\n",
    "    Here the function is used implicitly::\n",
    "\n",
    "        sage: a = var('a')\n",
    "        sage: f = function('cr')(a)\n",
    "        sage: g = f.diff(a); g\n",
    "        diff(cr(a), a)\n",
    "    \"\"\"\n",
    "    print(\"args\", args)\n",
    "    f = args[0]\n",
    "    print(\"f\", f)\n",
    "    print(\"type(f)\", type(f))\n",
    "    from sage.cpython.debug import type_debug, shortrepr\n",
    "    print(shortrepr(f))\n",
    "    args = list(args[1:])\n",
    "    print(\"args\", args)\n",
    "    for i in range(1, len(args), 2):\n",
    "        args[i] = Integer(args[i])\n",
    "    print(\"args\", args)\n",
    "    print(\"args[0]\", args[0])\n",
    "    print(\"*args\", *args)\n",
    "\n",
    "    res = f.diff(args[0])\n",
    "    print(\"res\", res)\n",
    "    res = f.diff(*args)\n",
    "    print(\"res\", res)\n",
    "    res = diff(f, *args)\n",
    "    print(\"res\", res)\n",
    "\n",
    "    return res\n",
    "\n",
    "function_syms['diff'] = dummy_diff\n",
    "\n",
    "#print(\"var_syms\", var_syms)\n",
    "#print(\"function_syms\", function_syms)"
   ]
  },
  {
   "cell_type": "code",
   "execution_count": 31,
   "metadata": {},
   "outputs": [
    {
     "name": "stdout",
     "output_type": "stream",
     "text": [
      "args (sr_sum(F(x, y), x, a, b), y, 1)\n",
      "f sr_sum(F(x, y), x, a, b)\n",
      "type(f) <class 'sage.symbolic.expression.Expression'>\n",
      "sr_sum(F(x, y), x, a, b)\n",
      "args [y, 1]\n",
      "args [y, 1]\n",
      "args[0] y\n",
      "*args y 1\n",
      "res diff(F(x, y), y)*D[0](sr_sum)(F(x, y), x, a, b)\n",
      "res diff(F(x, y), y)*D[0](sr_sum)(F(x, y), x, a, b)\n",
      "res diff(F(x, y), y)*D[0](sr_sum)(F(x, y), x, a, b)\n",
      "parser_output diff(F(x, y), y)*D[0](sr_sum)(F(x, y), x, a, b)\n"
     ]
    }
   ],
   "source": [
    "s = \"diff(sr_sum(F(_SAGE_VAR_x,_SAGE_VAR_y),_SAGE_VAR_x,a,b),_SAGE_VAR_y,1)\"\n",
    "\n",
    "SRM_parser._variable_constructor().set_names(var_syms)\n",
    "SRM_parser._callable_constructor().set_names(function_syms)\n",
    "parser_output = SRM_parser.parse_sequence(s)\n",
    "print(\"parser_output\", parser_output)"
   ]
  },
  {
   "cell_type": "code",
   "execution_count": 32,
   "metadata": {},
   "outputs": [
    {
     "name": "stdout",
     "output_type": "stream",
     "text": [
      "args (sum(F(x, y), x, a, b), y, 1)\n",
      "f sum(F(x, y), x, a, b)\n",
      "type(f) <class 'sage.symbolic.expression.Expression'>\n",
      "sum(F(x, y), x, a, b)\n",
      "args [y, 1]\n",
      "args [y, 1]\n",
      "args[0] y\n",
      "*args y 1\n",
      "res diff(F(x, y), y)*D[0](sum)(F(x, y), x, a, b)\n",
      "res diff(F(x, y), y)*D[0](sum)(F(x, y), x, a, b)\n",
      "res diff(F(x, y), y)*D[0](sum)(F(x, y), x, a, b)\n",
      "parser_output diff(F(x, y), y)*D[0](sum)(F(x, y), x, a, b)\n"
     ]
    }
   ],
   "source": [
    "s = \"diff(sum(F(_SAGE_VAR_x,_SAGE_VAR_y),_SAGE_VAR_x,a,b),_SAGE_VAR_y,1)\"\n",
    "\n",
    "SRM_parser._variable_constructor().set_names(var_syms)\n",
    "SRM_parser._callable_constructor().set_names(function_syms)\n",
    "parser_output = SRM_parser.parse_sequence(s)\n",
    "print(\"parser_output\", parser_output)"
   ]
  },
  {
   "cell_type": "code",
   "execution_count": null,
   "metadata": {},
   "outputs": [],
   "source": []
  }
 ],
 "metadata": {
  "kernelspec": {
   "display_name": "SageMath 9.4.beta4",
   "language": "sage",
   "name": "sagemath"
  },
  "language_info": {
   "codemirror_mode": {
    "name": "ipython",
    "version": 3
   },
   "file_extension": ".py",
   "mimetype": "text/x-python",
   "name": "python",
   "nbconvert_exporter": "python",
   "pygments_lexer": "ipython3",
   "version": "3.9.5"
  }
 },
 "nbformat": 4,
 "nbformat_minor": 4
}
