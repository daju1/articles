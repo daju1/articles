{
 "cells": [
  {
   "cell_type": "markdown",
   "id": "1c8971d7",
   "metadata": {},
   "source": [
    "# Sonoluminescence as a source of squeezed light."
   ]
  },
  {
   "cell_type": "markdown",
   "id": "853ed49d",
   "metadata": {},
   "source": [
    "Let scalar field $\\Phi\\left(t\\right)$ be a solution of the following equation"
   ]
  },
  {
   "cell_type": "markdown",
   "id": "14402a1d",
   "metadata": {},
   "source": [
    "\\begin{equation}\n",
    "\\left(\n",
    "\\frac{1}{c^2}\\frac{\\partial^2}{\\partial t^2}\n",
    "- \\frac{1}{\\epsilon}\\Delta\n",
    "\\right)\\Phi\\left(t\\right) = 0\n",
    "\\end{equation}"
   ]
  },
  {
   "cell_type": "markdown",
   "id": "1538123e",
   "metadata": {},
   "source": [
    "where $\\epsilon$ is dielectric constatn of medium. Disregarding the spin of photons we suppose that the field $\\Phi\\left(t\\right)$ the light quanta. Let the solution of the equation (2) be plane wave"
   ]
  },
  {
   "cell_type": "markdown",
   "id": "0fba9e9c",
   "metadata": {},
   "source": [
    "\\begin{equation}\n",
    "\\Phi\\left(t\\right) = e^{i k x} \\psi\\left(t\\right)\n",
    "\\end{equation}"
   ]
  },
  {
   "cell_type": "markdown",
   "id": "2c38caf4",
   "metadata": {},
   "source": [
    "The function $\\psi\\left(t\\right)$ satisfy the equation"
   ]
  },
  {
   "cell_type": "markdown",
   "id": "cc68038c",
   "metadata": {},
   "source": [
    "\\begin{equation}\n",
    "\\ddot{\\psi} + \\omega^2\\left(t\\right) \\psi = 0\n",
    "\\end{equation}"
   ]
  },
  {
   "cell_type": "markdown",
   "id": "5db61c1f",
   "metadata": {},
   "source": [
    "where"
   ]
  },
  {
   "cell_type": "markdown",
   "id": "f4fe3bb6",
   "metadata": {},
   "source": [
    "\\begin{equation}\n",
    "\\omega^2\\left(t\\right) = \\frac{c^2 k^2}{\\epsilon\\left(t\\right)}\n",
    "\\end{equation}"
   ]
  },
  {
   "cell_type": "markdown",
   "id": "086a4fa5",
   "metadata": {},
   "source": [
    "According to Schwinger let us assume that the $\\epsilon\\left(t\\right)$ is jump function of time with the jump from $\\epsilon \\neq 1$ to  $\\epsilon = 1$. The jump of dielectric constant leads to the transition"
   ]
  },
  {
   "cell_type": "code",
   "execution_count": null,
   "id": "bbb6d27d",
   "metadata": {},
   "outputs": [],
   "source": []
  }
 ],
 "metadata": {
  "kernelspec": {
   "display_name": "SageMath 9.6.beta7",
   "language": "sage",
   "name": "sagemath"
  },
  "language_info": {
   "codemirror_mode": {
    "name": "ipython",
    "version": 3
   },
   "file_extension": ".py",
   "mimetype": "text/x-python",
   "name": "python",
   "nbconvert_exporter": "python",
   "pygments_lexer": "ipython3",
   "version": "3.10.3"
  }
 },
 "nbformat": 4,
 "nbformat_minor": 5
}
