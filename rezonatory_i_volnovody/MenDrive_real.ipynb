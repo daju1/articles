{
 "cells": [
  {
   "cell_type": "markdown",
   "metadata": {},
   "source": [
    "# Электродинамический расчёт волнового двигателя с внутренним расходом энергии Ф.Ф.Менде (MenDrive)\n",
    "\n",
    "А.Ю.Дроздов"
   ]
  },
  {
   "cell_type": "markdown",
   "metadata": {},
   "source": [
    "опираясь на выкладки из параграфа 20 Электродинамики Зоммерфельда"
   ]
  },
  {
   "cell_type": "markdown",
   "metadata": {},
   "source": [
    "рассчитаем тягу в\n",
    "\n",
    "http://fmnauka.narod.ru/dvigatel_emdrive.pdf\n",
    "\n",
    "Ф.Ф. МЕНДЕ, ВОЛНОВОЙ ДВИГАТЕЛЬ С ВНУТРЕННИМ РАСХОДОМ ЭНЕРГИИ ЭЛЕКТРОМАГНИТНЫХ КОЛЕБАНИЙ"
   ]
  },
  {
   "cell_type": "markdown",
   "metadata": {},
   "source": [
    "геометрия задачи следующая: \n",
    "\n",
    "поверхность хорошего проводника $x<=-a$\n",
    "\n",
    "вакуум внутри резонатора заполняет область $-a<=x<=a$\n",
    "\n",
    "В области $x>a$ - плохой проводник"
   ]
  },
  {
   "cell_type": "markdown",
   "metadata": {},
   "source": [
    "По признанию самого автора изложенному в сообщениях форума\n",
    "\n",
    "http://www.forum.za-nauku.ru/index.php/topic,4911.0.html\n",
    "\n",
    "в статье Менде \"есть скрытая ошибка\" и \"такой двигатель работать не будет\".\n",
    "\n",
    "```\n",
    "Найти ошибку в представленной мной работе нетрудно. Рассмотрите случай, когда из волновода выбрасываются в разные стороны не ЭМ волны, а два одинаковых шара с одинаковыми скоростями, положив, что от одной стенки шар упруго отражается, а по отношению к другой стенке удар является неупругим.\n",
    "```\n",
    "```\n",
    "Вы имеете в виду что на полностью поглощающую поверхность падают на самом деле две (а не одна, как в Вашей работе) падающие волны: одна суть отраженная от полностью отражающей поверхности, а другая от источника подводимой электромагнитной энергии?\n",
    "```\n",
    "\n",
    "```\n",
    "Вот именно.\n",
    "```"
   ]
  },
  {
   "cell_type": "markdown",
   "metadata": {},
   "source": [
    "В ходе нижеприведенного расчёта действительно было установлено, что если резонатор состоит из только лишь идеального проводника с одной стороны и обычного проводника с омическими потерями с другой стороны, то результирующая пондеромоторная очень и очень мало отличается от нуля.\n",
    "\n",
    "Но если вместо плохого проводника произвести моделирование с материалом который обладает не только лишь проводимостью, но также и достаточно заметной диэлетрической и магнитными проницаемостями тогда формируется конфигурация поля приводящая к заметным и весьма интересным с практической точки зрения значениям пондеромоторной силы имеющих в моих расчётах порядок несколько миллиньютонов на киловатт"
   ]
  },
  {
   "cell_type": "markdown",
   "metadata": {},
   "source": [
    "Итак начинаем расчёт с записи первой пары уравнений Максвелла"
   ]
  },
  {
   "cell_type": "markdown",
   "metadata": {},
   "source": [
    "$$rot\\,\\vec{E} = -\\frac{1}{c}\\frac{\\partial \\vec B}{\\partial t} - \\frac{4\\pi}{c}\\vec j_m = \\mu\\,\\frac{i\\,\\omega}{c}\\,\\vec{H} - \\frac{4\\pi}{c}\\sigma_m \\vec H $$\n",
    "\n",
    "$$rot\\,\\vec{H} = \\frac{1}{c}\\frac{\\partial \\vec D}{\\partial t} + \\frac{4\\pi}{c} \\vec j_e = - \\frac{i\\,\\omega}{c} \\epsilon \\vec{E} + \\frac{4\\pi}{c}\\sigma_e \\vec E$$"
   ]
  },
  {
   "cell_type": "markdown",
   "metadata": {},
   "source": [
    "ищем решение в виде позволяющем разделить переменные\n",
    "\n",
    "$$\\vec{E}(t) = \\vec{E}(x, y)\\,e^{i\\,K_z\\,z}\\,e^{-i\\,\\omega\\,t}$$\n",
    "\n",
    "$$\\vec{E} = \\vec{E}(x, y)\\,e^{i\\,K_z\\,z}$$"
   ]
  },
  {
   "cell_type": "markdown",
   "metadata": {},
   "source": [
    "$$\\vec{H}(t) = \\vec{H}(x, y)\\,e^{i\\,K_z\\,z}\\,e^{-i\\,\\omega\\,t}$$\n",
    "\n",
    "$$\\vec{H} = \\vec{H}(x, y)\\,e^{i\\,K_z\\,z}$$"
   ]
  },
  {
   "cell_type": "markdown",
   "metadata": {},
   "source": [
    "расписываем ротор через производные"
   ]
  },
  {
   "cell_type": "markdown",
   "metadata": {},
   "source": [
    "$$\\mu\\,\\frac{i\\,\\omega}{c}\\,\\vec{H} - \\frac{4\\pi}{c}\\sigma_m \\vec H = {\\displaystyle {\\text{rot}}\\vec {E} =\\left({\\frac {\\partial E_{z}}{\\partial y}}-{\\frac {\\partial E_{y}}{\\partial z}}\\right)\\mathbf {i} +\\left({\\frac {\\partial E_{x}}{\\partial z}}-{\\frac {\\partial E_{z}}{\\partial x}}\\right)\\mathbf {j} +\\left({\\frac {\\partial E_{y}}{\\partial x}}-{\\frac {\\partial E_{x}}{\\partial y}}\\right)\\mathbf {k} }$$"
   ]
  },
  {
   "cell_type": "markdown",
   "metadata": {},
   "source": [
    "$$ - \\frac{i\\,\\omega}{c} \\epsilon \\vec{E} + \\frac{4\\pi}{c}\\sigma_e \\vec E = {\\displaystyle {\\text{rot}}\\vec {H} =\\left({\\frac {\\partial H_{z}}{\\partial y}}-{\\frac {\\partial H_{y}}{\\partial z}}\\right)\\mathbf {i} +\\left({\\frac {\\partial H_{x}}{\\partial z}}-{\\frac {\\partial H_{z}}{\\partial x}}\\right)\\mathbf {j} +\\left({\\frac {\\partial H_{y}}{\\partial x}}-{\\frac {\\partial H_{x}}{\\partial y}}\\right)\\mathbf {k} }$$"
   ]
  },
  {
   "cell_type": "markdown",
   "metadata": {},
   "source": [
    "учитывая, что дифференцирование по $z$ приводит к умножению на $i K_z$"
   ]
  },
  {
   "cell_type": "markdown",
   "metadata": {},
   "source": [
    "$$\\left(\\mu\\,\\frac{i\\,\\omega}{c} - \\frac{4\\pi}{c}\\sigma_m \\right) \\vec H = { \\left({\\frac {\\partial E_{z}}{\\partial y}}-i K_z E_{y}\\right)\\mathbf {i} +\\left(i K_z E_{x}-{\\frac {\\partial E_{z}}{\\partial x}}\\right)\\mathbf {j} +\\left({\\frac {\\partial E_{y}}{\\partial x}}-{\\frac {\\partial E_{x}}{\\partial y}}\\right)\\mathbf {k} }$$"
   ]
  },
  {
   "cell_type": "markdown",
   "metadata": {},
   "source": [
    "$$ \\left(- \\frac{i\\,\\omega}{c} \\epsilon + \\frac{4\\pi}{c}\\sigma_e \\right) \\vec E = \\left({\\frac {\\partial H_{z}}{\\partial y}}-i K_z H_{y}\\right)\\mathbf {i} +\\left(i K_z H_{x}-{\\frac {\\partial H_{z}}{\\partial x}}\\right)\\mathbf {j} +\\left({\\frac {\\partial H_{y}}{\\partial x}}-{\\frac {\\partial H_{x}}{\\partial y}}\\right)\\mathbf {k} $$"
   ]
  },
  {
   "cell_type": "markdown",
   "metadata": {},
   "source": [
    "$$\\frac{i\\,\\omega}{c}\\left(\\mu + i \\frac{4\\pi}{\\omega}\\sigma_m \\right) \\vec H = { \\left({\\frac {\\partial E_{z}}{\\partial y}}-i K_z E_{y}\\right)\\mathbf {i} +\\left(i K_z E_{x}-{\\frac {\\partial E_{z}}{\\partial x}}\\right)\\mathbf {j} +\\left({\\frac {\\partial E_{y}}{\\partial x}}-{\\frac {\\partial E_{x}}{\\partial y}}\\right)\\mathbf {k} }$$"
   ]
  },
  {
   "cell_type": "markdown",
   "metadata": {},
   "source": [
    "$$ - \\frac{i\\,\\omega}{c}\\left( \\epsilon + i \\frac{4\\pi}{\\omega}\\sigma_e \\right) \\vec E = \\left({\\frac {\\partial H_{z}}{\\partial y}}-i K_z H_{y}\\right)\\mathbf {i} +\\left(i K_z H_{x}-{\\frac {\\partial H_{z}}{\\partial x}}\\right)\\mathbf {j} +\\left({\\frac {\\partial H_{y}}{\\partial x}}-{\\frac {\\partial H_{x}}{\\partial y}}\\right)\\mathbf {k} $$"
   ]
  },
  {
   "cell_type": "markdown",
   "metadata": {},
   "source": [
    "принимая модель комплексного представления магнитной проницаемости $\\mu' = \\mu + \\frac{4\\pi\\,\\sigma_m}{\\omega}\\,i$ (магнитный проводник)"
   ]
  },
  {
   "cell_type": "markdown",
   "metadata": {},
   "source": [
    "и комплексного представления диэлектрической проницаемости $\\epsilon' = \\epsilon + \\frac{4\\pi\\,\\sigma}{\\omega}\\,i$ (плохой проводник)"
   ]
  },
  {
   "cell_type": "markdown",
   "metadata": {},
   "source": [
    "$$\\frac{i\\,\\omega}{c}\\mu' \\vec H = { \\left({\\frac {\\partial E_{z}}{\\partial y}}-i K_z E_{y}\\right)\\mathbf {i} +\\left(i K_z E_{x}-{\\frac {\\partial E_{z}}{\\partial x}}\\right)\\mathbf {j} +\\left({\\frac {\\partial E_{y}}{\\partial x}}-{\\frac {\\partial E_{x}}{\\partial y}}\\right)\\mathbf {k} }$$"
   ]
  },
  {
   "cell_type": "markdown",
   "metadata": {},
   "source": [
    "$$ - \\frac{i\\,\\omega}{c} \\epsilon' \\vec E = \\left({\\frac {\\partial H_{z}}{\\partial y}}-i K_z H_{y}\\right)\\mathbf {i} +\\left(i K_z H_{x}-{\\frac {\\partial H_{z}}{\\partial x}}\\right)\\mathbf {j} +\\left({\\frac {\\partial H_{y}}{\\partial x}}-{\\frac {\\partial H_{x}}{\\partial y}}\\right)\\mathbf {k} $$"
   ]
  },
  {
   "cell_type": "markdown",
   "metadata": {},
   "source": [
    "Покомпонентно (если тензоры магнитной и электрической проницаемостей диагональны)"
   ]
  },
  {
   "cell_type": "markdown",
   "metadata": {},
   "source": [
    "$$\\frac{i\\,\\omega}{c}{{\\mu'}_{xx}} H_x = \\frac {\\partial E_{z}}{\\partial y}-i K_z E_{y}$$"
   ]
  },
  {
   "cell_type": "markdown",
   "metadata": {},
   "source": [
    "$$\\frac{i\\,\\omega}{c}{\\mu'}_{yy} H_y = i K_z E_{x}-{\\frac {\\partial E_{z}}{\\partial x}}$$"
   ]
  },
  {
   "cell_type": "markdown",
   "metadata": {},
   "source": [
    "$$\\frac{i\\,\\omega}{c}{\\mu'}_{zz} H_z = {\\frac {\\partial E_{y}}{\\partial x}}-{\\frac {\\partial E_{x}}{\\partial y}}$$"
   ]
  },
  {
   "cell_type": "markdown",
   "metadata": {},
   "source": [
    "и"
   ]
  },
  {
   "cell_type": "markdown",
   "metadata": {},
   "source": [
    "$$ - \\frac{i\\,\\omega}{c} {\\epsilon'}_{xx} E_x = {\\frac {\\partial H_{z}}{\\partial y}}-i K_z H_{y} $$"
   ]
  },
  {
   "cell_type": "markdown",
   "metadata": {},
   "source": [
    "$$ - \\frac{i\\,\\omega}{c} {\\epsilon'}_{yy} E_y = i K_z H_{x}-{\\frac {\\partial H_{z}}{\\partial x}}$$"
   ]
  },
  {
   "cell_type": "markdown",
   "metadata": {},
   "source": [
    "$$ - \\frac{i\\,\\omega}{c} {\\epsilon'}_{zz} E_z = {\\frac {\\partial H_{y}}{\\partial x}}-{\\frac {\\partial H_{x}}{\\partial y}}$$"
   ]
  },
  {
   "cell_type": "markdown",
   "metadata": {},
   "source": [
    "Группируем уравнения в пары, удобные для исключения переменных поля в левой части"
   ]
  },
  {
   "cell_type": "markdown",
   "metadata": {},
   "source": [
    "$$\\frac{i\\,\\omega}{c}{\\mu'}_{xx} H_x+i K_z E_{y} = \\frac {\\partial E_{z}}{\\partial y}$$"
   ]
  },
  {
   "cell_type": "markdown",
   "metadata": {},
   "source": [
    "$$ - \\frac{i\\,\\omega}{c} {\\epsilon'}_{yy} E_y - i K_z H_{x}= -{\\frac {\\partial H_{z}}{\\partial x}}$$"
   ]
  },
  {
   "cell_type": "markdown",
   "metadata": {},
   "source": [
    "и"
   ]
  },
  {
   "cell_type": "markdown",
   "metadata": {},
   "source": [
    "$$\\frac{i\\,\\omega}{c}{\\mu'}_{yy} H_y - i K_z E_{x} = -{\\frac {\\partial E_{z}}{\\partial x}}$$"
   ]
  },
  {
   "cell_type": "markdown",
   "metadata": {},
   "source": [
    "$$ i K_z H_{y}- \\frac{i\\,\\omega}{c} {\\epsilon'}_{xx} E_x = {\\frac {\\partial H_{z}}{\\partial y}} $$"
   ]
  },
  {
   "cell_type": "markdown",
   "metadata": {},
   "source": [
    "Производя исключение"
   ]
  },
  {
   "cell_type": "markdown",
   "metadata": {},
   "source": [
    "$$\\left(\\frac{i \\omega {\\mu'}_{xx}}{K_z c} - \\frac{i\\,K_z c}{\\omega {\\epsilon'}_{yy}}\\right) H_{x}= \\frac{1}{K_z }\\frac {\\partial E_{z}}{\\partial y}-\\frac{c}{\\omega {\\epsilon'}_{yy}}{\\frac {\\partial H_{z}}{\\partial x}}$$"
   ]
  },
  {
   "cell_type": "markdown",
   "metadata": {},
   "source": [
    "$$\\left(\\frac{i K_z c}{\\omega {\\mu'}_{xx}} - \\frac{i\\,\\omega {\\epsilon'}_{yy}}{K_z c}  \\right)E_y = \\frac{c}{\\omega {\\mu'}_{xx}} \\frac {\\partial E_{z}}{\\partial y}-\\frac{1}{K_z}{\\frac {\\partial H_{z}}{\\partial x}}$$"
   ]
  },
  {
   "cell_type": "markdown",
   "metadata": {},
   "source": [
    "и"
   ]
  },
  {
   "cell_type": "markdown",
   "metadata": {},
   "source": [
    "$$\\left(\\frac{i\\,\\omega}{K_z c}{\\mu'}_{yy}  - \\frac{i K_z c}{\\omega {\\epsilon'}_{xx}} \\right) H_{y} = -\\frac{1}{K_z}{\\frac {\\partial E_{z}}{\\partial x}} - \\frac{c}{\\omega {\\epsilon'}_{xx}} {\\frac {\\partial H_{z}}{\\partial y}}$$"
   ]
  },
  {
   "cell_type": "markdown",
   "metadata": {},
   "source": [
    "$$ \\left(\\frac{i K_z c}{\\omega{\\mu'}_{yy}} - \\frac{i\\,\\omega}{K_z c} {\\epsilon'}_{xx} \\right) E_x = \\frac{1}{K_z} {\\frac {\\partial H_{z}}{\\partial y}} + \\frac{c}{\\omega{\\mu'}_{yy}}{\\frac {\\partial E_{z}}{\\partial x}} $$"
   ]
  },
  {
   "cell_type": "markdown",
   "metadata": {},
   "source": [
    "Получаем выражение для поперечных (по отношению к оси волновода $z$ ) компонент поля через продольные"
   ]
  },
  {
   "cell_type": "markdown",
   "metadata": {},
   "source": [
    "Учитывая также запись третьего уравнения Максвелла в виде\n",
    "\n",
    "$$div\\,\\vec{D} = 4\\pi\\rho$$"
   ]
  },
  {
   "cell_type": "markdown",
   "metadata": {},
   "source": [
    "$$div\\,\\epsilon\\vec{E} = 4\\pi\\rho$$\n"
   ]
  },
  {
   "cell_type": "markdown",
   "metadata": {},
   "source": [
    "Итак начинаем расчёт с записи первой пары уравнений Максвелла"
   ]
  },
  {
   "cell_type": "markdown",
   "metadata": {},
   "source": [
    "$$rot\\,\\vec{E} = -\\frac{1}{c}\\frac{\\partial \\vec B}{\\partial t} - \\frac{4\\pi}{c}\\vec j_m = \\frac{i\\,\\omega}{c}\\mu'\\,\\vec{H}$$\n",
    "\n",
    "$$rot\\,\\vec{H} = \\frac{1}{c}\\frac{\\partial \\vec D}{\\partial t} + \\frac{4\\pi}{c} \\vec j_e = - \\frac{i\\,\\omega}{c} \\epsilon' \\vec{E}$$"
   ]
  },
  {
   "cell_type": "markdown",
   "metadata": {},
   "source": [
    "Применяя к первому уравнению из этой пары операцию ротора\n",
    "\n",
    "$$rot\\,rot\\,\\vec{E} =  \\frac{i\\,\\omega}{c} \\, rot\\left(\\mu'\\,\\vec{H}\\right)$$"
   ]
  },
  {
   "cell_type": "markdown",
   "metadata": {},
   "source": [
    "при условии диагональности тензора магнитной проницаемости"
   ]
  },
  {
   "cell_type": "markdown",
   "metadata": {},
   "source": [
    "$$ rot\\left(\\mu'\\,\\vec{H}\\right) =\n",
    "\\left({\\frac {\\partial \\left(\\mu'_{zz}H_{z}\\right)}{\\partial y}}-{\\frac {\\partial\\left( \\mu'_{yy} H_{y}\\right)}{\\partial z}}\\right)\\mathbf {i} +\\left({\\frac {\\partial \\left(\\mu'_{xx} H_{x}\\right)}{\\partial z}}-{\\frac {\\partial \\left(\\mu'_{zz} H_{z}\\right)}{\\partial x}}\\right)\\mathbf {j} +\\left({\\frac {\\partial \\left(\\mu'_{yy}H_{y}\\right)}{\\partial x}}-{\\frac {\\partial \\left(\\mu'_{xx} H_{x}\\right)}{\\partial y}}\\right)\\mathbf {k}$$"
   ]
  },
  {
   "cell_type": "markdown",
   "metadata": {},
   "source": [
    "Поскольку нам нужно получить дифференциальное уравнение для продольной (z) компоненты поля (ибо поперечные компоненты поля выше уже удалось выразить через продольные, мы далее пишем"
   ]
  },
  {
   "cell_type": "markdown",
   "metadata": {},
   "source": [
    "$$\\left(rot\\,rot\\,\\vec{E}\\right)_x = \\frac{i\\,\\omega}{c} \\, \\left({\\frac {\\partial \\left(\\mu'_{zz}H_{z}\\right)}{\\partial y}}-{\\frac {\\partial \\left(\\mu'_{yy} H_{y}\\right)}{\\partial z}}\\right)$$"
   ]
  },
  {
   "cell_type": "markdown",
   "metadata": {},
   "source": [
    "$$\\left(rot\\,rot\\,\\vec{E}\\right)_x = \\frac{i\\,\\omega}{c} \\, \\left({\\frac {\\partial \\left(\\left(\\mu'_{zz}-\\mu'_{yy}+\\mu'_{yy}\\right)H_{z}\\right)}{\\partial y}}-{\\frac {\\partial \\left(\\mu'_{yy} H_{y}\\right)}{\\partial z}}\\right)$$"
   ]
  },
  {
   "cell_type": "markdown",
   "metadata": {},
   "source": [
    "$$\\left(rot\\,rot\\,\\vec{E}\\right)_x = \\frac{i\\,\\omega}{c} \\, \\left({\\frac {\\partial \\left(\\left(\\mu'_{zz}-\\mu'_{yy}\\right)H_{z}\\right)}{\\partial y}}\\right) + \\frac{i\\,\\omega}{c} \\, \\left({\\frac {\\partial \\left(\\mu'_{yy} H_{z}\\right)}{\\partial y}}-{\\frac {\\partial \\left(\\mu'_{yy} H_{y}\\right)}{\\partial z}}\\right)$$"
   ]
  },
  {
   "cell_type": "markdown",
   "metadata": {},
   "source": [
    "$$\\left(rot\\,rot\\,\\vec{E}\\right)_x = \\left(\\mu'_{zz}-\\mu'_{yy}\\right) \\frac{i\\,\\omega}{c} \\, \\left({\\frac {\\partial H_{z}}{\\partial y}}\\right) + \\frac{i\\,\\omega}{c} \\, \\mu'_{yy}\\left(rot \\vec H\\right)_x$$"
   ]
  },
  {
   "cell_type": "markdown",
   "metadata": {},
   "source": [
    "$$\\left(rot\\,rot\\,\\vec{E}\\right)_x = \\left(\\mu'_{zz}-\\mu'_{yy}\\right) \\frac{i\\,\\omega}{c} \\, \\left({\\frac {\\partial H_{z}}{\\partial y}}\\right) + \\frac{i\\,\\omega}{c} \\, \\mu'_{yy}\\left(- \\frac{i\\,\\omega}{c} \\epsilon' \\vec{E}\\right)_x$$"
   ]
  },
  {
   "cell_type": "markdown",
   "metadata": {},
   "source": [
    "$$\\left(rot\\,rot\\,\\vec{E}\\right)_x = \\left(\\mu'_{zz}-\\mu'_{yy}\\right) \\frac{i\\,\\omega}{c} \\, \\left({\\frac {\\partial H_{z}}{\\partial y}}\\right) + \\frac{\\omega^2}{c^2} \\, \\mu'_{yy}\\epsilon'_{xx} {E_x}$$"
   ]
  },
  {
   "cell_type": "code",
   "execution_count": null,
   "metadata": {},
   "outputs": [],
   "source": []
  },
  {
   "cell_type": "markdown",
   "metadata": {},
   "source": [
    "\n",
    "$$\\left(rot\\,rot\\,\\vec{E}\\right)_y =  \\frac{i\\,\\omega}{c} \\, \\left({\\frac {\\partial \\left( \\mu'_{xx} H_{x}\\right)}{\\partial z}}-{\\frac {\\partial \\left(\\mu'_{zz} H_{z}\\right)}{\\partial x}}\\right)$$"
   ]
  },
  {
   "cell_type": "markdown",
   "metadata": {},
   "source": [
    "\n",
    "$$\\left(rot\\,rot\\,\\vec{E}\\right)_y =  \\frac{i\\,\\omega}{c} \\, \\left({\\frac {\\partial \\left( \\left(\\mu'_{xx} - \\mu'_{zz} + \\mu'_{zz}\\right) H_{x}\\right)}{\\partial z}}-{\\frac {\\partial \\left(\\mu'_{zz} H_{z}\\right)}{\\partial x}}\\right)$$"
   ]
  },
  {
   "cell_type": "markdown",
   "metadata": {},
   "source": [
    "$$\\left(rot\\,rot\\,\\vec{E}\\right)_y =  \\frac{i\\,\\omega}{c} \\, {\\frac {\\partial \\left( \\left(\\mu'_{xx} - \\mu'_{zz}\\right) H_{x}\\right)}{\\partial z}} + \\frac{i\\,\\omega}{c} \\, \\left({\\frac {\\partial \\left( \\mu'_{zz} H_{x}\\right)}{\\partial z}}-{\\frac {\\partial \\left(\\mu'_{zz} H_{z}\\right)}{\\partial x}}\\right)$$"
   ]
  },
  {
   "cell_type": "markdown",
   "metadata": {},
   "source": [
    "$$\\left(rot\\,rot\\,\\vec{E}\\right)_y = \\left(\\mu'_{xx} - \\mu'_{zz}\\right) \\frac{i\\,\\omega}{c} \\, {\\frac {\\partial   H_{x}}{\\partial z}} + \\frac{i\\,\\omega}{c} \\, \\mu'_{zz}\\left(rot \\vec H\\right)_y$$"
   ]
  },
  {
   "cell_type": "markdown",
   "metadata": {},
   "source": [
    "$$\\left(rot\\,rot\\,\\vec{E}\\right)_y = \\left(\\mu'_{xx} - \\mu'_{zz}\\right) \\frac{i\\,\\omega}{c} \\, {\\frac {\\partial   H_{x}}{\\partial z}} + \\frac{i\\,\\omega}{c} \\, \\mu'_{zz}\\left(- \\frac{i\\,\\omega}{c} \\epsilon' \\vec{E}\\right)_y$$"
   ]
  },
  {
   "cell_type": "markdown",
   "metadata": {},
   "source": [
    "$$\\left(rot\\,rot\\,\\vec{E}\\right)_y = \\left(\\mu'_{xx} - \\mu'_{zz}\\right) \\frac{i\\,\\omega}{c} \\, {\\frac {\\partial   H_{x}}{\\partial z}} + \\frac{\\omega^2}{c^2} \\, \\mu'_{zz} \\epsilon'_{yy} {E}_y$$"
   ]
  },
  {
   "cell_type": "code",
   "execution_count": null,
   "metadata": {},
   "outputs": [],
   "source": []
  },
  {
   "cell_type": "markdown",
   "metadata": {},
   "source": [
    "\n",
    "$$\\left(rot\\,rot\\,\\vec{E}\\right)_z =  \\frac{i\\,\\omega}{c} \\, \\left({\\frac {\\partial \\left(\\mu'_{yy}H_{y}\\right)}{\\partial x}}-{\\frac {\\partial \\left(\\mu'_{xx} H_{x}\\right)}{\\partial y}}\\right)$$"
   ]
  },
  {
   "cell_type": "markdown",
   "metadata": {},
   "source": [
    "$$\\left(rot\\,rot\\,\\vec{E}\\right)_z =  \\frac{i\\,\\omega}{c} \\, \\left({\\frac {\\partial \\left(\\left(\\mu'_{yy}-\\mu'_{xx}+\\mu'_{xx}\\right)H_{y}\\right)}{\\partial x}}-{\\frac {\\partial \\left(\\mu'_{xx} H_{x}\\right)}{\\partial y}}\\right)$$"
   ]
  },
  {
   "cell_type": "markdown",
   "metadata": {},
   "source": [
    "$$\\left(rot\\,rot\\,\\vec{E}\\right)_z =  \\frac{i\\,\\omega}{c} \\, {\\frac {\\partial \\left(\\left(\\mu'_{yy}-\\mu'_{xx}\\right)H_{y}\\right)}{\\partial x}} + \\frac{i\\,\\omega}{c} \\, \\left({\\frac {\\partial \\left(\\mu'_{xx}\\,H_{y}\\right)}{\\partial x}}-{\\frac {\\partial \\left(\\mu'_{xx}\\, H_{x}\\right)}{\\partial y}}\\right)$$"
   ]
  },
  {
   "cell_type": "markdown",
   "metadata": {},
   "source": [
    "$$\\left(rot\\,rot\\,\\vec{E}\\right)_z =  \\left(\\mu'_{yy}-\\mu'_{xx}\\right)\\frac{i\\,\\omega}{c} \\, {\\frac {\\partial H_{y}}{\\partial x}} + \\frac{i\\,\\omega}{c} \\, \\mu'_{xx}\\left(rot \\vec H\\right)_z$$"
   ]
  },
  {
   "cell_type": "markdown",
   "metadata": {},
   "source": [
    "$$\\left(rot\\,rot\\,\\vec{E}\\right)_z = \\left(\\mu'_{yy}-\\mu'_{xx}\\right) \\frac{i\\,\\omega}{c} \\, {\\frac {\\partial H_{y}}{\\partial x}} + \\frac{i\\,\\omega}{c} \\, \\mu'_{xx}\\left(- \\frac{i\\,\\omega}{c} \\epsilon' \\vec{E}\\right)_z$$"
   ]
  },
  {
   "cell_type": "markdown",
   "metadata": {},
   "source": [
    "$$\\left(rot\\,rot\\,\\vec{E}\\right)_z = \\left(\\mu'_{yy}-\\mu'_{xx}\\right) \\frac{i\\,\\omega}{c} \\, {\\frac {\\partial  H_{y}}{\\partial x}} + \\frac{\\omega^2}{c^2} \\, \\mu'_{xx}\\epsilon'_{zz} {E}_z$$"
   ]
  },
  {
   "cell_type": "markdown",
   "metadata": {},
   "source": [
    "$$rot\\,rot\\,\\vec{E} = grad\\,div\\,\\vec{E} - Laplasian\\,\\vec{E}$$"
   ]
  },
  {
   "cell_type": "markdown",
   "metadata": {},
   "source": [
    "$$\\left(Laplasian\\,\\vec{E}\\right)_z + \\left(\\mu'_{yy}-\\mu'_{xx}\\right) \\frac{i\\,\\omega}{c} \\, {\\frac {\\partial  H_{y}}{\\partial x}} + \\frac{\\omega^2}{c^2} \\, \\mu'_{xx}\\epsilon'_{zz} {E}_z - \\left(grad\\,div\\,\\vec{E} \\right)_z = 0$$"
   ]
  },
  {
   "cell_type": "markdown",
   "metadata": {},
   "source": [
    "Рассмотрим сейчас градиент дивергенции"
   ]
  },
  {
   "cell_type": "markdown",
   "metadata": {},
   "source": [
    "ищем решение в виде позволяющем разделить переменные\n",
    "\n",
    "$$\\vec{E}(t) = \\vec{E}(x, y)\\,e^{i\\,K_z\\,z}\\,e^{-i\\,\\omega\\,t}$$\n",
    "\n",
    "$$\\vec{E} = \\vec{E}(x, y)\\,e^{i\\,K_z\\,z}$$"
   ]
  },
  {
   "cell_type": "markdown",
   "metadata": {},
   "source": [
    "$$div = \\left(\\frac{\\partial}{\\partial x} \\hat i + \\frac{\\partial}{\\partial y} \\hat j+ \\frac{\\partial}{\\partial z} \\hat k\\right) \\cdot$$"
   ]
  },
  {
   "cell_type": "markdown",
   "metadata": {},
   "source": [
    "$$div\\,\\vec{E} = \\left(\\frac{\\partial E_x(x, y)\\,e^{i\\,K_z\\,z}}{\\partial x} + \\frac{\\partial E_y(x, y)\\,e^{i\\,K_z\\,z}}{\\partial y} + \\frac{\\partial E_z(x, y)\\,e^{i\\,K_z\\,z}}{\\partial z}\\right)\\,e^{-i\\,\\omega\\,t} $$"
   ]
  },
  {
   "cell_type": "markdown",
   "metadata": {},
   "source": [
    "$$div\\,\\vec{E} = \\left(\\frac{\\partial E_x(x, y)}{\\partial x} + \\frac{\\partial E_y(x, y)}{\\partial y} + i\\,K_z E_z(x, y)\\right)\\,e^{i\\,K_z\\,z} \\,e^{-i\\,\\omega\\,t}$$"
   ]
  },
  {
   "cell_type": "markdown",
   "metadata": {},
   "source": [
    "выберем решение для которого поле не изменяется вдоль y"
   ]
  },
  {
   "cell_type": "markdown",
   "metadata": {},
   "source": [
    "$$\\left(grad \\, div\\,\\vec{E}\\right)_x = \\frac{\\partial}{\\partial x}\\left(\\frac{\\partial E_x(x, y)}{\\partial x} +  i\\,K_z E_z(x, y)\\right)\\,e^{i\\,K_z\\,z} \\,e^{-i\\,\\omega\\,t}$$"
   ]
  },
  {
   "cell_type": "markdown",
   "metadata": {},
   "source": [
    "$$\\left(grad \\, div\\,\\vec{E}\\right)_x = \\left(\\frac{\\partial^2 E_x(x, y)}{\\partial x^2} +  i\\,K_z \\frac{\\partial E_z(x, y)}{\\partial x}\\right)\\,e^{i\\,K_z\\,z} \\,e^{-i\\,\\omega\\,t}$$"
   ]
  },
  {
   "cell_type": "markdown",
   "metadata": {},
   "source": [
    "$$\\left(grad \\, div\\,\\vec{E}\\right)_y = 0$$"
   ]
  },
  {
   "cell_type": "markdown",
   "metadata": {},
   "source": [
    "$$\\left(grad \\, div\\,\\vec{E}\\right)_z = \\frac{\\partial}{\\partial z}\\left\\{\\left(\\frac{\\partial E_x(x, y)}{\\partial x} +  i\\,K_z E_z(x, y)\\right)\\,e^{i\\,K_z\\,z}\\right\\} \\,e^{-i\\,\\omega\\,t}$$"
   ]
  },
  {
   "cell_type": "markdown",
   "metadata": {},
   "source": [
    "$$\\left(grad \\, div\\,\\vec{E}\\right)_z = i \\,K_z\\left(\\frac{\\partial E_x(x, y)}{\\partial x} + i\\,K_z E_z(x, y)\\right)\\,e^{i\\,K_z\\,z} \\,e^{-i\\,\\omega\\,t}$$"
   ]
  },
  {
   "cell_type": "markdown",
   "metadata": {},
   "source": [
    "$$\\left(grad \\, div\\,\\vec{E}\\right)_z = \\left(i \\,K_z\\,\\frac{\\partial E_x(x, y)}{\\partial x} -\\,K_z^2 E_z(x, y)\\right)\\,e^{i\\,K_z\\,z} \\,e^{-i\\,\\omega\\,t}$$"
   ]
  },
  {
   "cell_type": "markdown",
   "metadata": {},
   "source": [
    "С.Б. Каравашкин. ТРАНСФОРМАЦИЯ ТЕОРЕМЫ О ДИВЕРГЕНЦИИ ВЕКТОРА В ДИНАМИЧЕСКИХ ПОЛЯХ\n",
    "\n",
    "Впервые опубликовано:  Archivum mathematicum (BRNO), 37(2001) No 3, сс. 233 - 243\n",
    "В статье приводятся результаты исследования потока и дивергенции вектора в динамических полях, проведенного на основе стандартного определения дивергенции и с использованием стандартной методики определения потока вектора. Выявлено, что в динамических полях поток и дивергенция вектора не обращаются в ноль. Показано изменение в формализме ЕМ полей, обусловленное учетом динамических процессов в поле.\n",
    "\n",
    "https://selftrans.narod.ru/archive/div/divergence/div5/div5rus.html\n",
    "\n",
    "$$div\\,\\vec{E} = - \\frac{\\vec{n}}{c} \\frac{\\partial \\vec E}{\\partial t}$$\n",
    "\n",
    "\n",
    "где  $\\vec{n}$ направление распространения поля"
   ]
  },
  {
   "cell_type": "markdown",
   "metadata": {},
   "source": [
    "Анализ теоремы Каравашкина о дивергенции показал, что она применима к полям, для которых можно выделить трубку поля у которой поток через боковую поверхность равен нулю.\n",
    "\n",
    "Поскольку в резонаторе такую трубку поля можно выделить только лишь отдельно для каждой компоненты поля, то применяя теорему Каравашкина три раза последовательно к трём компонента вектора (например напряжённости электрического поля)  получаем"
   ]
  },
  {
   "cell_type": "markdown",
   "metadata": {},
   "source": [
    "$$div\\,\\vec{E} = - \\frac{1}{{v_{ф}}_z} \\frac{\\partial E_z}{\\partial t} - \\frac{1}{{v_{ф}}_y} \\frac{\\partial E_y}{\\partial t} - \\frac{1}{{v_{ф}}_x} \\frac{\\partial E_x}{\\partial t}$$\n",
    "\n",
    "Применение этой формулы, однако потребует знания фазовых скоростей в резонаторе которая не обязательно будет соответствовать скорости света"
   ]
  },
  {
   "cell_type": "markdown",
   "metadata": {},
   "source": [
    "Учитывая однотипность временного множителя для всех компонент поля\n",
    "\n",
    "$$div\\,\\vec{E} = i\\,\\omega \\left( \\frac{E_z}{{v_{ф}}_z} + \\frac{E_y}{{v_{ф}}_y} + \\frac{E_x}{{v_{ф}}_x} \\right)$$"
   ]
  },
  {
   "cell_type": "code",
   "execution_count": null,
   "metadata": {},
   "outputs": [],
   "source": []
  },
  {
   "cell_type": "markdown",
   "metadata": {},
   "source": [
    "$$grad\\,div\\,\\vec{E} = grad\\,\\left(i\\,\\omega \\left( \\frac{E_z}{{v_{ф}}_z} + \\frac{E_y}{{v_{ф}}_y} + \\frac{E_x}{{v_{ф}}_x} \\right)\\right)$$"
   ]
  },
  {
   "cell_type": "markdown",
   "metadata": {},
   "source": [
    "для проводящего металла с потерями ищем решение в виде\n",
    "\n",
    "$$\\vec{E} = \\vec{E}(x, y)\\,e^{i\\,k'_z\\,z}\\,e^{-i\\,\\omega\\,t}$$\n",
    "\n",
    "в котором волновой вектор, направленный вдоль оси z комплексный $k'_z = k_z + i\\,s_z$, как и волновой вектор, направленный вдоль оси x может быть комплексным $k'_x = k_x + i\\,s_x$\n",
    "\n",
    "$$\\vec{E}(t) = \\vec{E}_0\\,e^{i\\,(k_x + i\\,s_x)\\,x}\\,e^{i\\,(k_z + i\\,s_z)\\,z}\\,e^{-i\\,\\omega\\,t}$$\n",
    "\n",
    "$$\\vec{E} = \\vec{E}_0\\,e^{i\\,(k_x + i\\,s_x)\\,x}\\,e^{i\\,(k_z + i\\,s_z)\\,z}$$\n",
    "\n",
    "$$\\vec{E} = \\vec{E}(x, y)\\,e^{i\\,(k_z + i\\,s_z)\\,z}$$\n",
    "\n",
    "\n",
    "$\\vec {E} (x, y) = \\vec{E}_0\\,e^{i\\,(k_x + i\\,s_x)\\,x}$"
   ]
  },
  {
   "cell_type": "markdown",
   "metadata": {},
   "source": [
    "$$\\left(Laplasian\\,\\vec{E}\\right)_z + \\left(\\mu'_{yy}-\\mu'_{xx}\\right)\\frac{i\\,\\omega}{c} \\, {\\frac {\\partial H_{y}}{\\partial x}} + \\frac{\\omega^2}{c^2} \\, \\mu'_{xx}\\epsilon'_{zz} \\vec{E}_z - \\left(grad\\,div\\,\\vec{E} \\right)_z = 0$$"
   ]
  },
  {
   "cell_type": "markdown",
   "metadata": {},
   "source": [
    "подставляя в исходное уравнение приходим к обыкновенному дифференциальному уравнению\n",
    "\n",
    "$$\\frac{\\partial^{2}}{(\\partial {x})^{2}}{E_z}(x,y) + \\frac{\\partial^{2}}{(\\partial {y})^{2}}{E_z}(x,y) + \\left(\\mu'_{xx}\\epsilon'_{zz} \\frac{\\omega^2}{c^2} - {k'_z}^2\\right)\\,{E_z}(x,y)  + \\left(\\mu'_{yy}-\\mu'_{xx}\\right)\\frac{i\\,\\omega}{c} \\, {\\frac {\\partial H_{y}}{\\partial x}} - \\left(grad\\,div\\,\\vec{E}\\right)_z = 0$$"
   ]
  },
  {
   "cell_type": "markdown",
   "metadata": {},
   "source": [
    "производим следующую замену переменных\n",
    "\n",
    "$$\\kappa_z^2 = \\mu'_{xx}\\epsilon'_{zz} \\frac{\\omega^2}{c^2}$$"
   ]
  },
  {
   "cell_type": "markdown",
   "metadata": {},
   "source": [
    "$${k'_z}^2=\\left(k_z + i\\,s_z \\right)^2 = k_z^2 - s_z^2 + 2\\,i\\,k_z\\,s_z$$"
   ]
  },
  {
   "cell_type": "markdown",
   "metadata": {},
   "source": [
    "Выберем направлние распространения волны в промежутке между пластинами плоского резонатора $z$ \n",
    "\n",
    "$$k'_y = 0$$\n",
    "\n",
    "$$\\vec{k'} = \\hat{i} k'_x + \\hat{k} k'_z$$"
   ]
  },
  {
   "cell_type": "markdown",
   "metadata": {},
   "source": [
    "$$\\frac{\\partial^{2}}{(\\partial {x})^{2}}{E_z}(x,y) + \\frac{\\partial^{2}}{(\\partial {y})^{2}}{E_z}(x,y) + \\left(\\kappa^2 - {k'_z}^2\\right)\\,{E_z}(x,y)  + \\frac{i\\,\\omega}{c} \\, {\\frac {\\partial \\left( \\left(\\mu'_{yy}-\\mu'_{xx}\\right)H_{y}\\right)}{\\partial x}} - \\left(grad\\,div\\,\\vec{E}\\right)_z = 0$$"
   ]
  },
  {
   "cell_type": "markdown",
   "metadata": {},
   "source": [
    "выбирая решение для которого поле не изменяется вдоль y"
   ]
  },
  {
   "cell_type": "markdown",
   "metadata": {},
   "source": [
    "$$\\left(grad \\, div\\,\\vec{E}\\right)_x = \\left(\\frac{\\partial^2 E_x(x, y)}{\\partial x^2} +  i\\,k'_z \\frac{\\partial E_z(x, y)}{\\partial x}\\right)$$"
   ]
  },
  {
   "cell_type": "markdown",
   "metadata": {},
   "source": [
    "$$\\left(grad \\, div\\,\\vec{E}\\right)_y = 0$$"
   ]
  },
  {
   "cell_type": "markdown",
   "metadata": {},
   "source": [
    "$$\\left(grad \\, div\\,\\vec{E}\\right)_z = \\left(i \\,k'_z\\,\\frac{\\partial E_x(x, y)}{\\partial x} -\\,{k'_z}^2 E_z(x, y)\\right)$$"
   ]
  },
  {
   "cell_type": "markdown",
   "metadata": {},
   "source": [
    "получаем"
   ]
  },
  {
   "cell_type": "markdown",
   "metadata": {},
   "source": [
    "$$\\frac{\\partial^{2}}{(\\partial {x})^{2}}{E_x}(x,y) + \\frac{\\partial^{2}}{(\\partial {y})^{2}}{E_x}(x,y) + \\left( \\, \\mu'_{yy}\\epsilon'_{xx}\\frac{\\omega^2}{c^2} - {k'_z}^2\\right)\\,{E_x}(x,y) = \\left(\\frac{\\partial^2 E_x(x, y)}{\\partial x^2} +  i\\,k'_z \\frac{\\partial E_z(x, y)}{\\partial x}\\right)-\\left(\\mu'_{zz}-\\mu'_{yy}\\right) \\frac{i\\,\\omega}{c} \\, \\left({\\frac {\\partial H_{z}}{\\partial y}}\\right)$$"
   ]
  },
  {
   "cell_type": "markdown",
   "metadata": {},
   "source": [
    "$$\\frac{\\partial^{2}}{(\\partial {x})^{2}}{E_y}(x,y) + \\frac{\\partial^{2}}{(\\partial {y})^{2}}{E_y}(x,y) + \\left(\\mu'_{zz} \\epsilon'_{yy}\\frac{ \\omega^2}{c^2}- {k'_z}^2\\right)\\,{E_y}(x,y) = -\\left(\\mu'_{xx} - \\mu'_{zz}\\right) \\frac{i\\,\\omega}{c} \\, {\\frac {\\partial   H_{x}}{\\partial z}}$$"
   ]
  },
  {
   "cell_type": "markdown",
   "metadata": {},
   "source": [
    "$$\\frac{\\partial^{2}}{(\\partial {x})^{2}}{E_z}(x,y) + \\frac{\\partial^{2}}{(\\partial {y})^{2}}{E_z}(x,y) + \\left(\\mu'_{xx}\\epsilon'_{zz} \\frac{\\omega^2}{c^2} - {k'_z}^2\\right)\\,{E_z}(x,y) = \\left(i \\,k'_z\\,\\frac{\\partial E_x(x, y)}{\\partial x} -\\,{k'_z}^2 E_z(x, y)\\right)-\\left(\\mu'_{yy}-\\mu'_{xx}\\right)\\frac{i\\,\\omega}{c} \\, {\\frac {\\partial H_{y}}{\\partial x}}$$"
   ]
  },
  {
   "cell_type": "code",
   "execution_count": null,
   "metadata": {},
   "outputs": [],
   "source": []
  },
  {
   "cell_type": "markdown",
   "metadata": {},
   "source": [
    "$$\\frac{\\partial^{2}}{(\\partial {x})^{2}}{E_z}(x,y) + \\left(\\mu'_{xx}\\epsilon'_{zz} \\frac{\\omega^2}{c^2}\\right)\\,{E_z}(x,y) = \\left(i \\,k'_z\\,\\frac{\\partial E_x(x, y)}{\\partial x}\\right)-\\left(\\mu'_{yy}-\\mu'_{xx}\\right)\\frac{i\\,\\omega}{c} \\, {\\frac {\\partial H_{y}}{\\partial x}}$$"
   ]
  },
  {
   "cell_type": "markdown",
   "metadata": {},
   "source": [
    "Рассмотрим TM волну для которой $H_z = 0$. Для этой волны учитывая что $K_z = {k'_z}$"
   ]
  },
  {
   "cell_type": "markdown",
   "metadata": {},
   "source": [
    "$$\\left(\\frac{i\\,\\omega}{{k'_z} c}{\\mu'}_{yy}  - \\frac{i {k'_z} c}{\\omega {\\epsilon'}_{xx}} \\right) H_{y} = -\\frac{1}{{k'_z}}{\\frac {\\partial E_{z}}{\\partial x}}$$"
   ]
  },
  {
   "cell_type": "markdown",
   "metadata": {},
   "source": [
    "$$ \\left(\\frac{i {k'_z} c}{\\omega{\\mu'}_{yy}} - \\frac{i\\,\\omega}{{k'_z}c} {\\epsilon'}_{xx} \\right) E_x = \\frac{c}{\\omega{\\mu'}_{yy}}{\\frac {\\partial E_{z}}{\\partial x}} $$"
   ]
  },
  {
   "cell_type": "markdown",
   "metadata": {},
   "source": [
    "откуда"
   ]
  },
  {
   "cell_type": "markdown",
   "metadata": {},
   "source": [
    "$$ H_{y} = -\\frac{1}{{k'_z} \\left(\\frac{i\\,\\omega}{{k'_z} c}{\\mu'}_{yy}  - \\frac{i {k'_z} c}{\\omega {\\epsilon'}_{xx}} \\right)}{\\frac {\\partial E_{z}}{\\partial x}}$$"
   ]
  },
  {
   "cell_type": "markdown",
   "metadata": {},
   "source": [
    "$$  E_x = \\frac{c}{\\omega{\\mu'}_{yy}\\left(\\frac{i {k'_z} c}{\\omega{\\mu'}_{yy}} - \\frac{i\\,\\omega}{{k'_z}c} {\\epsilon'}_{xx} \\right)}{\\frac {\\partial E_{z}}{\\partial x}} $$"
   ]
  },
  {
   "cell_type": "markdown",
   "metadata": {},
   "source": [
    "упрощая"
   ]
  },
  {
   "cell_type": "markdown",
   "metadata": {},
   "source": [
    "$$ H_{y} = -\\frac{1}{\\left(\\frac{i\\,\\omega}{c}{\\mu'}_{yy}  - \\frac{i {k'_z}^2 c}{\\omega {\\epsilon'}_{xx}} \\right)}{\\frac {\\partial E_{z}}{\\partial x}}$$"
   ]
  },
  {
   "cell_type": "markdown",
   "metadata": {},
   "source": [
    "$$  E_x = \\frac{c}{\\left({i {k'_z} c} - \\frac{i\\,\\omega^2}{{k'_z}c} {\\mu'}_{yy} {\\epsilon'}_{xx} \\right)}{\\frac {\\partial E_{z}}{\\partial x}} $$"
   ]
  },
  {
   "cell_type": "markdown",
   "metadata": {},
   "source": [
    "дифференцируя по x"
   ]
  },
  {
   "cell_type": "markdown",
   "metadata": {},
   "source": [
    "$$ \\frac{\\partial H_{y}}{\\partial x} = -\\frac{1}{\\left(\\frac{i\\,\\omega}{c}{\\mu'}_{yy}  - \\frac{i {k'_z}^2 c}{\\omega {\\epsilon'}_{xx}} \\right)}{\\frac {\\partial^2 E_{z}}{\\partial x^2}}$$"
   ]
  },
  {
   "cell_type": "markdown",
   "metadata": {},
   "source": [
    "$$\\frac{\\partial E_x}{\\partial x} = \\frac{1}{\\left({i {k'_z}} - \\frac{i\\,\\omega^2}{{k'_z}c^2} {\\mu'}_{yy} {\\epsilon'}_{xx} \\right)}{\\frac {\\partial^2 E_{z}}{\\partial x^2}} $$"
   ]
  },
  {
   "cell_type": "markdown",
   "metadata": {},
   "source": [
    "подставляя в уравнение"
   ]
  },
  {
   "cell_type": "markdown",
   "metadata": {},
   "source": [
    "$$\\frac{\\partial^{2}}{(\\partial {x})^{2}}{E_z}(x,y) + \\left(\\mu'_{xx}\\epsilon'_{zz} \\frac{\\omega^2}{c^2}\\right)\\,{E_z}(x,y) = \\left(i \\,k'_z\\,\\frac{\\partial E_x(x, y)}{\\partial x}\\right)-\\left(\\mu'_{yy}-\\mu'_{xx}\\right)\\frac{i\\,\\omega}{c} \\, {\\frac {\\partial H_{y}}{\\partial x}}$$"
   ]
  },
  {
   "cell_type": "markdown",
   "metadata": {},
   "source": [
    "$$\\frac{\\partial^{2}}{(\\partial {x})^{2}}{E_z}(x,y) + \\left(\\mu'_{xx}\\epsilon'_{zz} \\frac{\\omega^2}{c^2}\\right)\\,{E_z}(x,y) = \\left(\\frac{k'_z}{\\left({ {k'_z}} - \\frac{\\omega^2}{{k'_z}c^2} {\\mu'}_{yy} {\\epsilon'}_{xx} \\right)}{\\frac {\\partial^2 E_{z}}{\\partial x^2}}\\right)+\\left(\\mu'_{yy}-\\mu'_{xx}\\right)\\frac{i\\,\\omega}{c} \\, \\frac{1}{\\left(\\frac{i\\,\\omega}{c}{\\mu'}_{yy}  - \\frac{i {k'_z}^2 c}{\\omega {\\epsilon'}_{xx}} \\right)}{\\frac {\\partial^2 E_{z}}{\\partial x^2}}$$"
   ]
  },
  {
   "cell_type": "markdown",
   "metadata": {},
   "source": [
    "$$\\frac{\\partial^{2}}{(\\partial {x})^{2}}{E_z}(x,y) + \\left(\\mu'_{xx}\\epsilon'_{zz} \\frac{\\omega^2}{c^2}\\right)\\,{E_z}(x,y) = \\left(\\frac{k'_z}{\\left({ {k'_z}} - \\frac{\\omega^2}{{k'_z}c^2} {\\mu'}_{yy} {\\epsilon'}_{xx} \\right)}{\\frac {\\partial^2 E_{z}}{\\partial x^2}}\\right)+ \\frac{\\left(\\mu'_{yy}-\\mu'_{xx}\\right)}{\\left({\\mu'}_{yy}  - \\frac{{k'_z}^2 c^2}{\\omega^2 {\\epsilon'}_{xx}} \\right)}{\\frac {\\partial^2 E_{z}}{\\partial x^2}}$$"
   ]
  },
  {
   "cell_type": "markdown",
   "metadata": {},
   "source": [
    "$$\\left(1 - \\frac{k'_z}{\\left({ {k'_z}} - \\frac{\\omega^2}{{k'_z}c^2} {\\mu'}_{yy} {\\epsilon'}_{xx} \\right)} - \\frac{\\left(\\mu'_{yy}-\\mu'_{xx}\\right)}{\\left({\\mu'}_{yy}  - \\frac{{k'_z}^2 c^2}{\\omega^2 {\\epsilon'}_{xx}} \\right)}\\right)\\frac{\\partial^{2}}{(\\partial {x})^{2}}{E_z}(x,y) + \\left(\\mu'_{xx}\\epsilon'_{zz} \\frac{\\omega^2}{c^2}\\right)\\,{E_z}(x,y) = 0$$"
   ]
  },
  {
   "cell_type": "markdown",
   "metadata": {},
   "source": [
    "$$\\frac{\\partial^{2}}{(\\partial {x})^{2}}{E_z}(x,y) + \\frac{ \\mu'_{xx}\\epsilon'_{zz} \\frac{\\omega^2}{c^2}}{\\left(1 - \\frac{k'_z}{\\left({ {k'_z}} - \\frac{\\omega^2}{{k'_z}c^2} {\\mu'}_{yy} {\\epsilon'}_{xx} \\right)} - \\frac{\\left(\\mu'_{yy}-\\mu'_{xx}\\right)}{\\left({\\mu'}_{yy}  - \\frac{{k'_z}^2 c^2}{\\omega^2 {\\epsilon'}_{xx}} \\right)}\\right)}\\,{E_z}(x,y) = 0$$"
   ]
  },
  {
   "cell_type": "markdown",
   "metadata": {},
   "source": [
    "$$K_x^2 = \\frac{ \\mu'_{xx}\\epsilon'_{zz} \\frac{\\omega^2}{c^2}}{\\left(1 - \\frac{k'_z}{\\left({ {k'_z}} - \\frac{\\omega^2}{{k'_z}c^2} {\\mu'}_{yy} {\\epsilon'}_{xx} \\right)} - \\frac{\\left(\\mu'_{yy}-\\mu'_{xx}\\right)}{\\left({\\mu'}_{yy}  - \\frac{{k'_z}^2 c^2}{\\omega^2 {\\epsilon'}_{xx}} \\right)}\\right)}$$"
   ]
  },
  {
   "cell_type": "markdown",
   "metadata": {},
   "source": [
    "$$\\frac{\\partial^{2}}{(\\partial {x})^{2}}{E_z}(x,y) + K_x^2\\,{E_z}(x,y) = 0$$"
   ]
  },
  {
   "cell_type": "markdown",
   "metadata": {},
   "source": [
    "Решение этого дифференциального уравнения для TM волны"
   ]
  },
  {
   "cell_type": "markdown",
   "metadata": {},
   "source": [
    "$${C_{0}} e^{i\\,K_x x} + {C_{1}} e^{-i\\, K_x x}$$"
   ]
  },
  {
   "cell_type": "markdown",
   "metadata": {},
   "source": [
    "В случае если $\\mu'_{yy}=\\mu'_{xx}$"
   ]
  },
  {
   "cell_type": "markdown",
   "metadata": {},
   "source": [
    "$$\\frac{\\partial^{2}}{(\\partial {x})^{2}}{E_z}(x,y) + \\frac{ \\mu'_{xx}\\epsilon'_{zz} \\frac{\\omega^2}{c^2}}{\\left(1 - \\frac{k'_z}{\\left({ {k'_z}} - \\frac{\\omega^2}{{k'_z}c^2} {\\mu'}_{yy} {\\epsilon'}_{xx} \\right)} \\right)}\\,{E_z}(x,y) = 0$$"
   ]
  },
  {
   "cell_type": "markdown",
   "metadata": {},
   "source": [
    "$$\\frac{\\partial^{2}}{(\\partial {x})^{2}}{E_z}(x,y) + \\left({ {k'_z}} - \\frac{\\omega^2}{{k'_z}c^2} {\\mu'}_{yy} {\\epsilon'}_{xx} \\right)\\frac{ \\mu'_{xx}\\epsilon'_{zz} \\frac{\\omega^2}{c^2}}{\\left(\\left({ {k'_z}} - \\frac{\\omega^2}{{k'_z}c^2} {\\mu'}_{yy} {\\epsilon'}_{xx} \\right) - k'_z \\right)}\\,{E_z}(x,y) = 0$$"
   ]
  },
  {
   "cell_type": "markdown",
   "metadata": {},
   "source": [
    "$$\\frac{\\partial^{2}}{(\\partial {x})^{2}}{E_z}(x,y) + \\left({ {k'_z}} - \\frac{\\omega^2}{{k'_z}c^2} {\\mu'}_{yy} {\\epsilon'}_{xx} \\right)\\frac{ \\mu'_{xx}\\epsilon'_{zz} \\frac{\\omega^2}{c^2}}{ - \\frac{\\omega^2}{{k'_z}c^2} {\\mu'}_{yy} {\\epsilon'}_{xx} }\\,{E_z}(x,y) = 0$$"
   ]
  },
  {
   "cell_type": "markdown",
   "metadata": {},
   "source": [
    "$$\\frac{\\partial^{2}}{(\\partial {x})^{2}}{E_z}(x,y) + \\left(\\frac{\\omega^2}{{k'_z}c^2} {\\mu'}_{yy} {\\epsilon'}_{xx} - { {k'_z}} \\right)\\frac{ \\mu'_{xx}\\epsilon'_{zz}}{ \\frac{1}{{k'_z}} {\\mu'}_{yy} {\\epsilon'}_{xx} }\\,{E_z}(x,y) = 0$$"
   ]
  },
  {
   "cell_type": "markdown",
   "metadata": {},
   "source": [
    "$$\\frac{\\partial^{2}}{(\\partial {x})^{2}}{E_z}(x,y) + \\left(\\frac{\\omega^2}{c^2} {\\mu'}_{yy} {\\epsilon'}_{xx} - { {k'_z}^2} \\right)\\frac{ \\epsilon'_{zz}}{ {\\epsilon'}_{xx} }\\,{E_z}(x,y) = 0$$"
   ]
  },
  {
   "cell_type": "markdown",
   "metadata": {},
   "source": [
    "$$\\frac{\\partial^{2}}{(\\partial {x})^{2}}{E_z}(x,y) + \\left(\\frac{\\omega^2}{c^2} {\\mu'}_{yy} {\\epsilon'}_{zz} - { {k'_z}^2} \\frac{ \\epsilon'_{zz}}{ {\\epsilon'}_{xx} }\\right)\\,{E_z}(x,y) = 0$$"
   ]
  },
  {
   "cell_type": "markdown",
   "metadata": {},
   "source": [
    "Имея теперь систему неоднородных дифференциальных уравнений с ненулевой правой частью будем искать решение как сумму общего решения однородной части этой системы дифференциального уравнения и частного решения"
   ]
  },
  {
   "cell_type": "markdown",
   "metadata": {},
   "source": [
    "Далее произведём преобразования со вторым уравнением Максвелла"
   ]
  },
  {
   "cell_type": "markdown",
   "metadata": {},
   "source": [
    "\n",
    "$$rot\\,\\vec{H} = \\frac{1}{c}\\frac{\\partial \\vec D}{\\partial t} + \\frac{4\\pi}{c} \\vec j = - \\frac{i\\,\\omega}{c} \\epsilon \\vec{E} + \\frac{4\\pi}{c}\\sigma \\vec E$$\n"
   ]
  },
  {
   "cell_type": "markdown",
   "metadata": {},
   "source": [
    "\n",
    "$$rot \\, rot\\,\\vec{H} = \\left( - \\frac{i\\,\\omega}{c} \\epsilon + \\frac{4\\pi}{c}\\sigma \\right) rot \\vec E$$\n"
   ]
  },
  {
   "cell_type": "markdown",
   "metadata": {},
   "source": [
    "$$rot\\,\\vec{E} = -\\frac{1}{c}\\frac{\\partial \\vec B}{\\partial t} = \\mu\\,\\frac{i\\,\\omega}{c}\\,\\vec{H}$$"
   ]
  },
  {
   "cell_type": "markdown",
   "metadata": {},
   "source": [
    "\n",
    "$$rot \\, rot\\,\\vec{H} = \\left( - \\frac{i\\,\\omega}{c} \\epsilon + \\frac{4\\pi}{c}\\sigma \\right)  \\mu\\,\\frac{i\\,\\omega}{c}\\,\\vec{H}$$\n"
   ]
  },
  {
   "cell_type": "markdown",
   "metadata": {},
   "source": [
    "$$rot \\, rot\\,\\vec{H} = \\left( - \\frac{i\\,\\omega}{c} \\epsilon \\mu\\,\\frac{i\\,\\omega}{c} + \\frac{4\\pi}{c}\\sigma \\mu\\,\\frac{i\\,\\omega}{c} \\right)  \\,\\vec{H}$$"
   ]
  },
  {
   "cell_type": "markdown",
   "metadata": {},
   "source": [
    "$$rot \\, rot\\,\\vec{H} = \\left( \\epsilon \\mu\\,\\frac{\\omega^2}{c^2} + i \\,4\\pi\\,\\sigma \\mu\\,\\frac{\\omega}{c^2} \\right)  \\,\\vec{H}$$"
   ]
  },
  {
   "cell_type": "markdown",
   "metadata": {},
   "source": [
    "$$rot\\,rot\\,\\vec{H} = grad\\,div\\,\\vec{H} - Laplasian\\,\\vec{H}$$"
   ]
  },
  {
   "cell_type": "markdown",
   "metadata": {},
   "source": [
    "$$ Laplasian\\,\\vec{H} + \\left( \\epsilon \\mu\\,\\frac{\\omega^2}{c^2} + i \\,4\\pi\\,\\sigma \\mu\\,\\frac{\\omega}{c^2} \\right)  \\,\\vec{H} - grad\\,div\\,\\vec{H} = 0$$"
   ]
  },
  {
   "cell_type": "markdown",
   "metadata": {},
   "source": [
    "для вакуума внутри резонатора ищем решение в виде\n",
    "\n",
    "$$\\vec{H}(t) = \\vec{H}(x, y)\\,e^{i\\,k\\,z}\\,e^{-i\\,\\omega\\,t}$$\n",
    "\n",
    "$$\\vec{H} = \\vec{H}(x, y)\\,e^{i\\,k\\,z}$$"
   ]
  },
  {
   "cell_type": "markdown",
   "metadata": {},
   "source": [
    "подставляя в исходное уравнение приходим к обыкновенному дифференциальному уравнению\n",
    "\n",
    "$$\\frac{\\partial^{2}}{(\\partial {x})^{2}}\\vec{H}(x,y) + \\frac{\\partial^{2}}{(\\partial {y})^{2}}\\vec{H}(x,y) + \\left(\\epsilon  \\mu \\frac{\\omega^2}{c^2} + i\\,\\omega\\,\\sigma\\,\\mu\\,\\frac{4\\pi}{c^2} - {k'_z}^2\\right)\\,\\vec{H}(x,y) - grad\\,div\\,\\vec{H} = 0$$"
   ]
  },
  {
   "cell_type": "markdown",
   "metadata": {},
   "source": [
    "покомпонентно"
   ]
  },
  {
   "cell_type": "markdown",
   "metadata": {},
   "source": [
    "$$\\frac{\\partial^{2}}{(\\partial {x})^{2}}{H_x}(x,y) + \\frac{\\partial^{2}}{(\\partial {y})^{2}}{H_x}(x,y) + \\left(\\kappa^2 - {k'_z}^2\\right)\\,{H_x}(x,y) - \\left(grad\\,div\\,\\vec{H}\\right)_x = 0$$"
   ]
  },
  {
   "cell_type": "markdown",
   "metadata": {},
   "source": [
    "$$\\frac{\\partial^{2}}{(\\partial {x})^{2}}{H_y}(x,y) + \\frac{\\partial^{2}}{(\\partial {y})^{2}}{H_y}(x,y) + \\left(\\kappa^2 - {k'_z}^2\\right)\\,{H_y}(x,y) - \\left(grad\\,div\\,\\vec{H}\\right)_y = 0$$"
   ]
  },
  {
   "cell_type": "markdown",
   "metadata": {},
   "source": [
    "$$\\frac{\\partial^{2}}{(\\partial {x})^{2}}{H_z}(x,y) + \\frac{\\partial^{2}}{(\\partial {y})^{2}}{H_z}(x,y) + \\left(\\kappa^2 - {k'_z}^2\\right)\\,{H_z}(x,y) - \\left(grad\\,div\\,\\vec{H}\\right)_z = 0$$"
   ]
  },
  {
   "cell_type": "markdown",
   "metadata": {},
   "source": [
    "Таким образом из этого уравнения можно вытащить $z$ компоненту электрического поля"
   ]
  },
  {
   "cell_type": "markdown",
   "metadata": {},
   "source": [
    "$$\\frac{\\partial^{2}}{(\\partial {x})^{2}}{H_z}(x,y) + \\frac{\\partial^{2}}{(\\partial {y})^{2}}{H_z}(x,y) + \\left(\\kappa^2 - {k'_z}^2\\right)\\,{H_z}(x,y) = \\left(grad\\,div\\,\\vec{H}\\right)_z$$"
   ]
  },
  {
   "cell_type": "code",
   "execution_count": 2,
   "metadata": {},
   "outputs": [],
   "source": [
    "import numpy as np\n",
    "\n",
    "sm = np.float128(1)\n",
    "# sgs\n",
    "A = np.float128(1) * sm\n",
    "\n",
    "# на низких частотах ферриты обладают высокой относительной диэлектрической проницаемостью, примерно 10^5\n",
    "#epsilon_l_d = np.float128(1000)\n",
    "#epsilon_r_d = np.float128(100)\n",
    "\n",
    "epsilon_l_xx_d = np.float128(1e+3)\n",
    "epsilon_r_xx_d = np.float128(1e+3)\n",
    "\n",
    "epsilon_l_yy_d = np.float128(1e+3)\n",
    "epsilon_r_yy_d = np.float128(1e+3)\n",
    "\n",
    "epsilon_l_zz_d = np.float128(1e+3)\n",
    "epsilon_r_zz_d = np.float128(1e+3)\n",
    "\n",
    "mu_l_xx_d = np.float128(1e+3)\n",
    "mu_r_xx_d = np.float128(1)\n",
    "\n",
    "mu_l_yy_d = np.float128(1e+3)\n",
    "mu_r_yy_d = np.float128(1)\n",
    "\n",
    "mu_l_zz_d = np.float128(1e+3)\n",
    "mu_r_zz_d = np.float128(1)\n",
    "\n",
    "\n",
    "sigma_e_l_xx_d = np.float128(1000)\n",
    "sigma_e_r_xx_d = np.float128(100)\n",
    "\n",
    "sigma_e_l_yy_d = np.float128(1000)\n",
    "sigma_e_r_yy_d = np.float128(100)\n",
    "\n",
    "sigma_e_l_zz_d = np.float128(1000)\n",
    "sigma_e_r_zz_d = np.float128(100)\n",
    "\n",
    "sigma_m_l_xx_d = np.float128(1000)\n",
    "sigma_m_r_xx_d = np.float128(100)\n",
    "\n",
    "sigma_m_l_yy_d = np.float128(1000)\n",
    "sigma_m_r_yy_d = np.float128(100)\n",
    "\n",
    "sigma_m_l_zz_d = np.float128(1000)\n",
    "sigma_m_r_zz_d = np.float128(100)\n",
    "\n",
    "# https://ru.wikipedia.org/wiki/%D0%AD%D0%BB%D0%B5%D0%BA%D1%82%D1%80%D0%BE%D0%BF%D1%80%D0%BE%D0%B2%D0%BE%D0%B4%D0%BD%D0%BE%D1%81%D1%82%D1%8C\n",
    "# В системе СИ удельная электропроводность измеряется в сименсах на метр (См/м) или в Ом−1·м−1.\n",
    "# В СГСЭ единицей удельной электропроводности является обратная секунда (с−1).\n",
    "# серебро    62 500 000\n",
    "# медь       59 500 000\n",
    "# константан  2 000 000\n",
    "\n",
    "# См/м\n",
    "# 1 См = 1 / Ом\n",
    "\n",
    "sigma_l_d = np.float128(62500000 * (9*10^9) * 1e-9)\n",
    "sigma_r_d =  np.float128(2000000 * (9*10^9) * 1e-9)\n",
    "\n",
    "sigma_l_d = sigma_l_d / 1000000\n",
    "sigma_r_d = sigma_r_d / 1000000\n",
    "\n",
    "lambda_d = np.float128(632*100*10^-9) * sm\n",
    "# 632 nm\n",
    "\n",
    "lambda_d = np.float128(632*100*10^-6) * sm\n",
    "# 0.632 mm\n",
    "\n",
    "lambda_d = np.float128(632*100*10^-4*1000) * sm\n",
    "# 63.2 mm\n",
    "# 6.32 sm\n"
   ]
  },
  {
   "cell_type": "code",
   "execution_count": 3,
   "metadata": {},
   "outputs": [],
   "source": [
    "from IPython.display import display, Math, Latex\n",
    "\n",
    "def disp(ex):\n",
    "    display(Math(latex(ex)))\n",
    "\n",
    "mu_l_xx = var('mu_l_xx')\n",
    "assume(mu_l_xx, 'real')\n",
    "assume(mu_l_xx>0)\n",
    "\n",
    "mu_l_yy = var('mu_l_yy')\n",
    "assume(mu_l_yy, 'real')\n",
    "assume(mu_l_yy>0)\n",
    "\n",
    "mu_l_zz = var('mu_l_zz')\n",
    "assume(mu_l_zz, 'real')\n",
    "assume(mu_l_zz>0)\n",
    "\n",
    "mu_r_xx = var('mu_r_xx')\n",
    "assume(mu_r_xx, 'real')\n",
    "assume(mu_r_xx>0)\n",
    "\n",
    "mu_r_yy = var('mu_r_yy')\n",
    "assume(mu_r_yy, 'real')\n",
    "assume(mu_r_yy>0)\n",
    "\n",
    "mu_r_zz = var('mu_r_zz')\n",
    "assume(mu_r_zz, 'real')\n",
    "assume(mu_r_zz>0)\n",
    "\n",
    "epsilon_l_xx = var('epsilon_l_xx')\n",
    "assume(epsilon_l_xx, 'real')\n",
    "assume(epsilon_l_xx>0)\n",
    "\n",
    "epsilon_l_yy = var('epsilon_l_yy')\n",
    "assume(epsilon_l_yy, 'real')\n",
    "assume(epsilon_l_yy>0)\n",
    "\n",
    "epsilon_l_zz = var('epsilon_l_zz')\n",
    "assume(epsilon_l_zz, 'real')\n",
    "assume(epsilon_l_zz>0)\n",
    "\n",
    "epsilon_r_xx = var('epsilon_r_xx')\n",
    "assume(epsilon_r_xx, 'real')\n",
    "assume(epsilon_r_xx>0)\n",
    "\n",
    "epsilon_r_yy = var('epsilon_r_yy')\n",
    "assume(epsilon_r_yy, 'real')\n",
    "assume(epsilon_r_yy>0)\n",
    "\n",
    "epsilon_r_zz = var('epsilon_r_zz')\n",
    "assume(epsilon_r_zz, 'real')\n",
    "assume(epsilon_r_zz>0)\n",
    "\n",
    "mu_0 = 1\n",
    "epsilon_0 = 1\n",
    "\n",
    "# left conductor\n",
    "sigma_e_l_xx = var('sigma_e_l_xx')\n",
    "assume(sigma_e_l_xx, 'real')\n",
    "assume(sigma_e_l_xx>0)\n",
    "\n",
    "sigma_e_l_yy = var('sigma_e_l_yy')\n",
    "assume(sigma_e_l_yy, 'real')\n",
    "assume(sigma_e_l_yy>0)\n",
    "\n",
    "sigma_e_l_zz = var('sigma_e_l_zz')\n",
    "assume(sigma_e_l_zz, 'real')\n",
    "assume(sigma_e_l_zz>0)\n",
    "\n",
    "# left conductor\n",
    "sigma_m_l_xx = var('sigma_m_l_xx')\n",
    "assume(sigma_m_l_xx, 'real')\n",
    "assume(sigma_m_l_xx>0)\n",
    "\n",
    "sigma_m_l_yy = var('sigma_m_l_yy')\n",
    "assume(sigma_m_l_yy, 'real')\n",
    "assume(sigma_m_l_yy>0)\n",
    "\n",
    "sigma_m_l_zz = var('sigma_m_l_zz')\n",
    "assume(sigma_m_l_zz, 'real')\n",
    "assume(sigma_m_l_zz>0)\n",
    "\n",
    "#right conductor\n",
    "sigma_e_r_xx = var('sigma_e_r_xx')\n",
    "assume(sigma_e_r_xx, 'real')\n",
    "assume(sigma_e_r_xx>0)\n",
    "\n",
    "sigma_e_r_yy = var('sigma_e_r_yy')\n",
    "assume(sigma_e_r_yy, 'real')\n",
    "assume(sigma_e_r_yy>0)\n",
    "\n",
    "sigma_e_r_zz = var('sigma_e_r_zz')\n",
    "assume(sigma_e_r_zz, 'real')\n",
    "assume(sigma_e_r_zz>0)\n",
    "\n",
    "#right conductor\n",
    "sigma_m_r_xx = var('sigma_m_r_xx')\n",
    "assume(sigma_m_r_xx, 'real')\n",
    "assume(sigma_m_r_xx>0)\n",
    "\n",
    "sigma_m_r_yy = var('sigma_m_r_yy')\n",
    "assume(sigma_m_r_yy, 'real')\n",
    "assume(sigma_m_r_yy>0)\n",
    "\n",
    "sigma_m_r_zz = var('sigma_m_r_zz')\n",
    "assume(sigma_m_r_zz, 'real')\n",
    "assume(sigma_m_r_zz>0)\n",
    "\n",
    "\n",
    "sx = var ('sx')\n",
    "assume(sx, 'real')\n",
    "assume(sx>0)\n",
    "\n",
    "sy = var ('sy')\n",
    "assume(sy, 'real')\n",
    "assume(sy>0)\n",
    "\n",
    "sz = var ('sz')\n",
    "assume(sz, 'real')\n",
    "assume(sz>0)\n",
    "\n",
    "kappa_vacuum = var ('kappa_vacuum')\n",
    "assume(kappa_vacuum, 'real')\n",
    "assume(kappa_vacuum>0)\n",
    "\n",
    "# left conductor\n",
    "kappa_l = var('kappa_l')\n",
    "assume(kappa_l, 'complex')\n",
    "\n",
    "# right conductor\n",
    "kappa_r = var('kappa_r')\n",
    "assume(kappa_r, 'complex')\n",
    "\n",
    "kx = var ('kx')\n",
    "assume(kx, 'real')\n",
    "\n",
    "ky = var ('ky')\n",
    "assume(ky, 'real')\n",
    "\n",
    "kz = var ('kz')\n",
    "assume(kz, 'real')\n",
    "\n",
    "k__x = var ('k__x')\n",
    "assume(k__x, 'complex')\n",
    "\n",
    "k__y = var ('k__y')\n",
    "assume(k__x, 'complex')\n",
    "\n",
    "k__z = var ('k__z')\n",
    "assume(k__z, 'complex')\n",
    "\n",
    "k_x = var ('k_x')\n",
    "assume(k_x, 'complex')\n",
    "\n",
    "k_y = var ('k_y')\n",
    "assume(k_x, 'complex')\n",
    "\n",
    "k_z = var ('k_z')\n",
    "assume(k_z, 'complex')\n",
    "\n",
    "\n",
    "a = var('a')\n",
    "assume(a, 'real')\n",
    "assume(a>0)\n",
    "\n",
    "x = var('x')\n",
    "y = var('y')\n",
    "z = var('z')\n",
    "\n",
    "assume(x, 'real')\n",
    "assume(y, 'real')\n",
    "assume(z, 'real')\n",
    "\n",
    "c = var('c')\n",
    "assume(c, 'real')\n",
    "assume(c>0)\n",
    "\n",
    "omega = var('omega')\n",
    "assume(omega, 'real')\n"
   ]
  },
  {
   "cell_type": "code",
   "execution_count": 5,
   "metadata": {},
   "outputs": [
    {
     "data": {
      "text/plain": [
       "([a == 1.0,\n",
       "  mu_l_xx == 1000.0,\n",
       "  mu_l_yy == 1000.0,\n",
       "  mu_l_zz == 1000.0,\n",
       "  mu_r_xx == 1.0,\n",
       "  mu_r_yy == 1.0,\n",
       "  mu_r_zz == 1.0,\n",
       "  sigma_e_l_xx == 1000.0,\n",
       "  sigma_e_l_yy == 1000.0,\n",
       "  sigma_e_l_zz == 1000.0,\n",
       "  sigma_e_r_xx == 100.0,\n",
       "  sigma_e_r_yy == 100.0,\n",
       "  sigma_e_r_zz == 100.0,\n",
       "  sigma_m_l_xx == 1000.0,\n",
       "  sigma_m_l_yy == 1000.0,\n",
       "  sigma_m_l_zz == 1000.0,\n",
       "  sigma_m_r_xx == 100.0,\n",
       "  sigma_m_r_yy == 100.0,\n",
       "  sigma_m_r_zz == 100.0,\n",
       "  epsilon_l_xx == 1000.0,\n",
       "  epsilon_l_yy == 1000.0,\n",
       "  epsilon_l_zz == 1000.0,\n",
       "  epsilon_r_xx == 1000.0,\n",
       "  epsilon_r_yy == 1000.0,\n",
       "  epsilon_r_zz == 1000.0,\n",
       "  c == 29.9792458],\n",
       " 0.0298046134067857,\n",
       " 6320.0)"
      ]
     },
     "execution_count": 5,
     "metadata": {},
     "output_type": "execute_result"
    }
   ],
   "source": [
    "c_sgs_value       = [ c == np.float128(299792458 * 100)]\n",
    "c_sgns_value      = [ c == np.float128(299792458 * 100 * 1e-9)]\n",
    "omega_value       = [ omega  == ((np.float128(2*pi) * c)/ lambda_d).subs (c_sgns_value) ]\n",
    "digit_values_init = [a == A,\n",
    "                     mu_l_xx == mu_l_xx_d,\n",
    "                     mu_l_yy == mu_l_yy_d,\n",
    "                     mu_l_zz == mu_l_zz_d,\n",
    "                     mu_r_xx == mu_r_xx_d,\n",
    "                     mu_r_yy == mu_r_yy_d,\n",
    "                     mu_r_zz == mu_r_zz_d,\n",
    "\n",
    "                     sigma_e_l_xx == sigma_e_l_xx_d,\n",
    "                     sigma_e_l_yy == sigma_e_l_yy_d,\n",
    "                     sigma_e_l_zz == sigma_e_l_zz_d,\n",
    "\n",
    "                     sigma_e_r_xx == sigma_e_r_xx_d, \n",
    "                     sigma_e_r_yy == sigma_e_r_yy_d, \n",
    "                     sigma_e_r_zz == sigma_e_r_zz_d, \n",
    "\n",
    "                     sigma_m_l_xx == sigma_m_l_xx_d,\n",
    "                     sigma_m_l_yy == sigma_m_l_yy_d,\n",
    "                     sigma_m_l_zz == sigma_m_l_zz_d,\n",
    "\n",
    "                     sigma_m_r_xx == sigma_m_r_xx_d, \n",
    "                     sigma_m_r_yy == sigma_m_r_yy_d, \n",
    "                     sigma_m_r_zz == sigma_m_r_zz_d,\n",
    "\n",
    "                     epsilon_l_xx == epsilon_l_xx_d,\n",
    "                     epsilon_l_yy == epsilon_l_yy_d,\n",
    "                     epsilon_l_zz == epsilon_l_zz_d,\n",
    "\n",
    "                     epsilon_r_xx == epsilon_r_xx_d,\n",
    "                     epsilon_r_yy == epsilon_r_yy_d,\n",
    "                     epsilon_r_zz == epsilon_r_zz_d,\n",
    "                    ] + c_sgns_value\n",
    "digit_values = digit_values_init\n",
    "digit_values, omega_value[0].rhs().n(), lambda_d"
   ]
  },
  {
   "cell_type": "code",
   "execution_count": 6,
   "metadata": {},
   "outputs": [
    {
     "name": "stdout",
     "output_type": "stream",
     "text": [
      "[a == 1.0, mu_l_xx == 1000.0, mu_l_yy == 1000.0, mu_l_zz == 1000.0, mu_r_xx == 1.0, mu_r_yy == 1.0, mu_r_zz == 1.0, sigma_e_l_xx == 1000.0, sigma_e_l_yy == 1000.0, sigma_e_l_zz == 1000.0, sigma_e_r_xx == 100.0, sigma_e_r_yy == 100.0, sigma_e_r_zz == 100.0, sigma_m_l_xx == 1000.0, sigma_m_l_yy == 1000.0, sigma_m_l_zz == 1000.0, sigma_m_r_xx == 100.0, sigma_m_r_yy == 100.0, sigma_m_r_zz == 100.0, epsilon_l_xx == 1000.0, epsilon_l_yy == 1000.0, epsilon_l_zz == 1000.0, epsilon_r_xx == 1000.0, epsilon_r_yy == 1000.0, epsilon_r_zz == 1000.0, c == 29.9792458, omega == 0.029804613406785654]\n"
     ]
    }
   ],
   "source": [
    "digit_values = digit_values_init\n",
    "digit_values += omega_value\n",
    "print (digit_values)"
   ]
  },
  {
   "cell_type": "markdown",
   "metadata": {},
   "source": [
    "$$\\kappa^2 = \\epsilon \\mu \\frac{\\omega^2}{c^2} + i\\,\\omega\\,\\sigma\\,\\mu\\,\\frac{4\\pi}{c^2}$$"
   ]
  },
  {
   "cell_type": "markdown",
   "metadata": {},
   "source": [
    "$$\\kappa^2 = \\mu \\left(\\epsilon  + i\\,\\frac{4\\pi\\,\\sigma}{\\omega} \\right) \\frac{\\omega^2}{c^2}$$"
   ]
  },
  {
   "cell_type": "code",
   "execution_count": 7,
   "metadata": {},
   "outputs": [
    {
     "name": "stdout",
     "output_type": "stream",
     "text": [
      "eq_kappa_inner_vacuum =\n"
     ]
    },
    {
     "data": {
      "text/latex": [
       "$\\displaystyle \\kappa_{\\mathit{vacuum}}^{2} = \\frac{\\omega^{2}}{c^{2}}$"
      ],
      "text/plain": [
       "<IPython.core.display.Math object>"
      ]
     },
     "metadata": {},
     "output_type": "display_data"
    }
   ],
   "source": [
    "# исходя из вида дифференциальных уравнений для вакуума внутри резонатора и проводящего металла с потерями\n",
    "# записываем соотнощения для волнового вектора в виде уравнений\n",
    "#eq_kappa_l              = kappa_l^2 == mu_l * epsilon_l * omega^2 / c^2 + I*omega*sigma_l*mu_l*4*pi/c^2\n",
    "#eq_kappa_r              = kappa_r^2 == mu_r * epsilon_r * omega^2 / c^2 + I*omega*sigma_r*mu_r*4*pi/c^2\n",
    "eq_kappa_inner_vacuum = kappa_vacuum^2 == omega^2 / c^2\n",
    "\n",
    "#kappa_sol_l = solve(eq_kappa_l, kappa_l)[1]\n",
    "#kappa_sol_r = solve(eq_kappa_r, kappa_r)[1]\n",
    "#kappa_vacuum_sol = omega / c\n",
    "\n",
    "#print(\"eq_kappa_l =\")\n",
    "#display(Math(latex(eq_kappa_l)))\n",
    "#print(\"eq_kappa_r =\")\n",
    "#display(Math(latex(eq_kappa_r)))\n",
    "\n",
    "print(\"eq_kappa_inner_vacuum =\")\n",
    "display(Math(latex(eq_kappa_inner_vacuum)))"
   ]
  },
  {
   "cell_type": "markdown",
   "metadata": {},
   "source": [
    "принимая модель комплексного представления диэлектрической проницаемости $\\epsilon' = \\epsilon + \\frac{4\\pi\\,\\sigma}{\\omega}\\,i$ (плохой проводник)"
   ]
  },
  {
   "cell_type": "code",
   "execution_count": 7,
   "metadata": {},
   "outputs": [],
   "source": [
    "epsilon_l_xx_complex = epsilon_l_xx + I * 4 * pi * sigma_l_xx / omega\n",
    "epsilon_l_yy_complex = epsilon_l_yy + I * 4 * pi * sigma_l_yy / omega\n",
    "epsilon_l_zz_complex = epsilon_l_zz + I * 4 * pi * sigma_l_zz / omega\n",
    "\n",
    "epsilon_r_xx_complex = epsilon_r_xx + I * 4 * pi * sigma_r_xx / omega\n",
    "epsilon_r_yy_complex = epsilon_r_yy + I * 4 * pi * sigma_r_yy / omega\n",
    "epsilon_r_zz_complex = epsilon_r_zz + I * 4 * pi * sigma_r_zz / omega"
   ]
  },
  {
   "cell_type": "code",
   "execution_count": null,
   "metadata": {},
   "outputs": [],
   "source": []
  },
  {
   "cell_type": "markdown",
   "metadata": {},
   "source": [
    "приходим к\n",
    "\n",
    "$$\\frac{\\partial^{2}}{(\\partial {x})^{2}}\\vec{E}(x) + \\frac{\\partial^{2}}{(\\partial {y})^{2}}\\vec{E}(x) +  \\left(\\frac{\\mu \\omega^2}{c^2}\\epsilon + \\frac{\\mu \\omega^2}{c^2}\\frac{4\\pi\\,\\sigma}{\\omega}\\,i - {k'_z}^{2}\\right) = 0$$\n"
   ]
  },
  {
   "cell_type": "markdown",
   "metadata": {},
   "source": [
    "$${k'_z}^2=\\left(k_z + i\\,s_z \\right)^2 = k_z^2 - s_z^2 + 2\\,i\\,k_z\\,s_z$$"
   ]
  },
  {
   "cell_type": "code",
   "execution_count": 10,
   "metadata": {},
   "outputs": [],
   "source": [
    "#k__y_subs = k__y == 0 #ky + I * sy"
   ]
  },
  {
   "cell_type": "code",
   "execution_count": 11,
   "metadata": {},
   "outputs": [],
   "source": [
    "#k__z_subs = k__z == kz + I * sz"
   ]
  },
  {
   "cell_type": "code",
   "execution_count": null,
   "metadata": {},
   "outputs": [],
   "source": []
  },
  {
   "cell_type": "markdown",
   "metadata": {},
   "source": [
    "зависимость поля от $y$ отсутствует"
   ]
  },
  {
   "cell_type": "raw",
   "metadata": {},
   "source": [
    "# решаем полученные обыкновенные дифференциальные уравнения\n",
    "E = function('E')(x)\n",
    "\n",
    "\n",
    "de_inner_vacuum_l = diff (E, x, 2) + diff (E, y, 2) + (kappa_l^2 - k_z^2) * E == 0\n",
    "de_inner_vacuum_r = diff (E, x, 2) + diff (E, y, 2) + (kappa_r^2 - k_z^2) * E == 0\n",
    "# diff (E, y, 2) == 0\n",
    "de_inner_vacuum_l = diff (E, x, 2) + (kappa_l^2 - k_z^2) * E == 0\n",
    "de_inner_vacuum_r = diff (E, x, 2) + (kappa_r^2 - k_z^2) * E == 0\n",
    "# получая таким образом выражения для электрического поля в вакуума внутри резонатора и внутри проводящего металла с потерями\n",
    "print(\"de_inner_vacuum =\")\n",
    "display(Math(latex(de_inner_vacuum_l)))\n",
    "display(Math(latex(de_inner_vacuum_r)))"
   ]
  },
  {
   "cell_type": "raw",
   "metadata": {},
   "source": [
    "assume(k_z^2-kappa_l^2 < 0)\n",
    "assume(k_z^2-kappa_r^2 < 0)\n",
    "\n",
    "E_inner_vacuum_l = desolve(de_inner_vacuum_l, E, ivar = x)\n",
    "E_inner_vacuum_r = desolve(de_inner_vacuum_r, E, ivar = x)\n",
    "#E_inner_vacuum = desolve(de_inner_vacuum, E, ivar = [x, y], contrib_ode = True)\n",
    "\n",
    "# получая таким образом выражения для электрического поля в вакуума внутри резонатора и внутри проводящего металла с потерями\n",
    "print(\"E_inner_vacuum =\")\n",
    "display(Math(latex(E_inner_vacuum_l)))\n",
    "display(Math(latex(E_inner_vacuum_r)))"
   ]
  },
  {
   "cell_type": "code",
   "execution_count": null,
   "metadata": {},
   "outputs": [],
   "source": []
  },
  {
   "cell_type": "code",
   "execution_count": 14,
   "metadata": {},
   "outputs": [],
   "source": [
    "B1_xl = var ('B1_xl')\n",
    "B2_xl = var ('B2_xl')\n",
    "\n",
    "B1_xr = var ('B1_xr')\n",
    "B2_xr = var ('B2_xr')\n",
    "\n",
    "\n",
    "A1_x = var ('A1_x')\n",
    "A2_x = var ('A2_x')\n",
    "\n",
    "\n",
    "B1_yl = var ('B1_yl')\n",
    "B2_yl = var ('B2_yl')\n",
    "\n",
    "B1_yr = var ('B1_yr')\n",
    "B2_yr = var ('B2_yr')\n",
    "\n",
    "A1_y = var ('A1_y')\n",
    "A2_y = var ('A2_y')\n",
    "\n",
    "\n",
    "B1_zl = var ('B1_zl')\n",
    "B2_zl = var ('B2_zl')\n",
    "\n",
    "B1_zr = var ('B1_zr')\n",
    "B2_zr = var ('B2_zr')\n",
    "\n",
    "A1_z = var ('A1_z')\n",
    "A2_z = var ('A2_z')\n",
    "\n",
    "A1_x_re, A1_y_re, A1_z_re = var(\"A1_x_re, A1_y_re, A1_z_re\")\n",
    "A1_x_im, A1_y_im, A1_z_im = var(\"A1_x_im, A1_y_im, A1_z_im\")\n",
    "\n",
    "A2_x_re, A2_y_re, A2_z_re = var(\"A2_x_re, A2_y_re, A2_z_re\")\n",
    "A2_x_im, A2_y_im, A2_z_im = var(\"A2_x_im, A2_y_im, A2_z_im\")\n",
    "\n",
    "B1_xl_re, B1_yl_re, B1_zl_re = var(\"B1_xl_re, B1_yl_re, B1_zl_re\")\n",
    "B1_xl_im, B1_yl_im, B1_zl_im = var(\"B1_xl_im, B1_yl_im, B1_zl_im\")\n",
    "\n",
    "B1_xr_re, B1_yr_re, B1_zr_re = var(\"B1_xr_re, B1_yr_re, B1_zr_re\")\n",
    "B1_xr_im, B1_yr_im, B1_zr_im = var(\"B1_xr_im, B1_yr_im, B1_zr_im\")\n",
    "\n",
    "\n",
    "assume(A1_x_re, \"real\")\n",
    "assume(A1_x_im, \"real\")\n",
    "\n",
    "assume(A2_x_re, \"real\")\n",
    "assume(A2_x_im, \"real\")\n",
    "\n",
    "assume(A1_y_re, \"real\")\n",
    "assume(A1_y_im, \"real\")\n",
    "\n",
    "assume(A2_y_re, \"real\")\n",
    "assume(A2_y_im, \"real\")\n",
    "\n",
    "assume(A1_z_re, \"real\")\n",
    "assume(A1_z_im, \"real\")\n",
    "\n",
    "assume(A2_z_re, \"real\")\n",
    "assume(A2_z_im, \"real\")\n",
    "\n",
    "\n",
    "assume(B1_xl_re, \"real\")\n",
    "assume(B1_xl_im, \"real\")\n",
    "\n",
    "assume(B1_xr_re, \"real\")\n",
    "assume(B1_xr_im, \"real\")\n",
    "\n",
    "assume(B1_yl_re, \"real\")\n",
    "assume(B1_yl_im, \"real\")\n",
    "\n",
    "assume(B1_yr_re, \"real\")\n",
    "assume(B1_yr_im, \"real\")\n",
    "\n",
    "assume(B1_zl_re, \"real\")\n",
    "assume(B1_zl_im, \"real\")\n",
    "\n",
    "assume(B1_zr_re, \"real\")\n",
    "assume(B1_zr_im, \"real\")"
   ]
  },
  {
   "cell_type": "code",
   "execution_count": 15,
   "metadata": {},
   "outputs": [],
   "source": [
    "A1_x_re_im_subs = A1_x == A1_x_re + I * A1_x_im\n",
    "A2_x_re_im_subs = A2_x == A2_x_re + I * A2_x_im\n",
    "\n",
    "A1_y_re_im_subs = A1_y == A1_y_re + I * A1_y_im\n",
    "A2_y_re_im_subs = A2_y == A2_y_re + I * A2_y_im\n",
    "\n",
    "A1_z_re_im_subs = A1_z == A1_z_re + I * A1_z_im\n",
    "A2_z_re_im_subs = A2_z == A2_z_re + I * A2_z_im\n",
    "\n",
    "B1_xl_re_im_subs = B1_xl == B1_xl_re + I * B1_xl_im\n",
    "B1_yl_re_im_subs = B1_yl == B1_yl_re + I * B1_yl_im\n",
    "B1_zl_re_im_subs = B1_zl == B1_zl_re + I * B1_zl_im\n",
    "\n",
    "B1_xr_re_im_subs = B1_xr == B1_xr_re + I * B1_xr_im\n",
    "B1_yr_re_im_subs = B1_yr == B1_yr_re + I * B1_yr_im\n",
    "B1_zr_re_im_subs = B1_zr == B1_zr_re + I * B1_zr_im"
   ]
  },
  {
   "cell_type": "code",
   "execution_count": 16,
   "metadata": {},
   "outputs": [],
   "source": [
    "coefs_re_im_subs = [A1_x == A1_x_re + I * A1_x_im,\n",
    "                    A2_x == A2_x_re + I * A2_x_im,\n",
    "                    A1_y == A1_y_re + I * A1_y_im,\n",
    "                    A2_y == A2_y_re + I * A2_y_im,\n",
    "                    A1_z == A1_z_re + I * A1_z_im,\n",
    "                    A2_z == A2_z_re + I * A2_z_im,\n",
    "                    B1_xl == B1_xl_re + I * B1_xl_im,\n",
    "                    B1_yl == B1_yl_re + I * B1_yl_im,\n",
    "                    B1_zl == B1_zl_re + I * B1_zl_im,\n",
    "                    B1_xr == B1_xr_re + I * B1_xr_im,\n",
    "                    B1_yr == B1_yr_re + I * B1_yr_im,\n",
    "                    B1_zr == B1_zr_re + I * B1_zr_im]"
   ]
  },
  {
   "cell_type": "code",
   "execution_count": 17,
   "metadata": {},
   "outputs": [],
   "source": [
    "# 2D\n",
    "# отсутсвие изменения поля вдоль оси y\n",
    "set_Ey_0 = False"
   ]
  },
  {
   "cell_type": "code",
   "execution_count": 18,
   "metadata": {},
   "outputs": [],
   "source": [
    "if set_Ey_0:\n",
    "    B1_yl = 0\n",
    "    B2_yl = 0\n",
    "    B1_yr = 0\n",
    "    B2_yr = 0\n",
    "\n",
    "    A1_y = 0\n",
    "    A2_y = 0\n",
    "\n",
    "    ky   = 0"
   ]
  },
  {
   "cell_type": "code",
   "execution_count": 19,
   "metadata": {},
   "outputs": [],
   "source": [
    "# K_vacuum = sqrt(kappa_vacuum^2-k_z^2)\n",
    "# K_conductor = sqrt(kappa^2-k_z^2)\n",
    "\n",
    "K_vacuum    = var(\"K_vacuum\")\n",
    "K_left_conductor = var(\"K_left_conductor\")\n",
    "K_right_conductor = var(\"K_right_conductor\")"
   ]
  },
  {
   "cell_type": "code",
   "execution_count": 20,
   "metadata": {},
   "outputs": [
    {
     "name": "stdout",
     "output_type": "stream",
     "text": [
      "E_inner_vacuum_sol_z (x) \n"
     ]
    },
    {
     "data": {
      "text/latex": [
       "$\\displaystyle \\mathit{A2}_{z} e^{\\left(i \\, K_{\\mathit{vacuum}} x\\right)} + \\mathit{A1}_{z} e^{\\left(-i \\, K_{\\mathit{vacuum}} x\\right)}$"
      ],
      "text/plain": [
       "<IPython.core.display.Math object>"
      ]
     },
     "metadata": {},
     "output_type": "display_data"
    },
    {
     "name": "stdout",
     "output_type": "stream",
     "text": [
      "E_inner_vacuum_sol_x (x) =\n"
     ]
    },
    {
     "data": {
      "text/latex": [
       "$\\displaystyle \\mathit{A2}_{x} e^{\\left(i \\, K_{\\mathit{vacuum}} x\\right)} + \\mathit{A1}_{x} e^{\\left(-i \\, K_{\\mathit{vacuum}} x\\right)}$"
      ],
      "text/plain": [
       "<IPython.core.display.Math object>"
      ]
     },
     "metadata": {},
     "output_type": "display_data"
    },
    {
     "name": "stdout",
     "output_type": "stream",
     "text": [
      "E_inner_vacuum_sol_y (x) =\n"
     ]
    },
    {
     "data": {
      "text/latex": [
       "$\\displaystyle \\mathit{A2}_{y} e^{\\left(i \\, K_{\\mathit{vacuum}} x\\right)} + \\mathit{A1}_{y} e^{\\left(-i \\, K_{\\mathit{vacuum}} x\\right)}$"
      ],
      "text/plain": [
       "<IPython.core.display.Math object>"
      ]
     },
     "metadata": {},
     "output_type": "display_data"
    }
   ],
   "source": [
    "# выражения для электрического поля\n",
    "# в вакууме внутри резонатора\n",
    "\n",
    "# знак перед корнем (K_vacuum) будем выбирать всегда так чтобы корень имел положительную мнимую часть\n",
    "E_inner_vacuum_sol_z (x) = A1_z*exp(- I * K_vacuum*x) + A2_z*exp( I * K_vacuum*x)\n",
    "E_inner_vacuum_sol_x (x) = A1_x*exp(- I * K_vacuum*x) + A2_x*exp( I * K_vacuum*x)\n",
    "E_inner_vacuum_sol_y (x) = A1_y*exp(- I * K_vacuum*x) + A2_y*exp( I * K_vacuum*x)\n",
    "\n",
    "E_inner_vacuum_z = function(\"E_inner_vacuum_z\")\n",
    "E_inner_vacuum_x = function(\"E_inner_vacuum_x\")\n",
    "E_inner_vacuum_y = function(\"E_inner_vacuum_y\")\n",
    "\n",
    "\n",
    "print (\"E_inner_vacuum_sol_z (x) \")\n",
    "display(Math(latex(E_inner_vacuum_sol_z (x))))\n",
    "print (\"E_inner_vacuum_sol_x (x) =\")\n",
    "display(Math(latex(E_inner_vacuum_sol_x (x))))\n",
    "print (\"E_inner_vacuum_sol_y (x) =\")\n",
    "display(Math(latex(E_inner_vacuum_sol_y (x))))"
   ]
  },
  {
   "cell_type": "markdown",
   "metadata": {},
   "source": [
    "решение для проводящего металла с потерями\n",
    "\n",
    "$\\vec{E} = \\vec{E}\\,e^{i\\,k_x'\\,x}\\,e^{i\\,k_z\\,z}\\,e^{-i\\,\\omega\\,t}$\n",
    "\n",
    "$k_x' = k_x + i\\,s_x$\n",
    "\n",
    "$\\vec{E} = \\vec{E}\\,e^{-s_x\\,x}\\,e^{i\\,k_x\\,x}\\,e^{i\\,k_z\\,z}\\,e^{-i\\,\\omega\\,t}$"
   ]
  },
  {
   "cell_type": "code",
   "execution_count": 21,
   "metadata": {},
   "outputs": [
    {
     "name": "stdout",
     "output_type": "stream",
     "text": [
      "E_left_conductor_sol_z (x) \n"
     ]
    },
    {
     "data": {
      "text/latex": [
       "$\\displaystyle \\mathit{B1}_{\\mathit{zl}} e^{\\left(-i \\, K_{\\mathit{left}_{\\mathit{conductor}}} {\\left(a + x\\right)}\\right)}$"
      ],
      "text/plain": [
       "<IPython.core.display.Math object>"
      ]
     },
     "metadata": {},
     "output_type": "display_data"
    },
    {
     "name": "stdout",
     "output_type": "stream",
     "text": [
      "E_left_conductor_sol_x (x) =\n"
     ]
    },
    {
     "data": {
      "text/latex": [
       "$\\displaystyle \\mathit{B1}_{\\mathit{xl}} e^{\\left(-i \\, K_{\\mathit{left}_{\\mathit{conductor}}} {\\left(a + x\\right)}\\right)}$"
      ],
      "text/plain": [
       "<IPython.core.display.Math object>"
      ]
     },
     "metadata": {},
     "output_type": "display_data"
    },
    {
     "name": "stdout",
     "output_type": "stream",
     "text": [
      "E_left_conductor_sol_y (x) =\n"
     ]
    },
    {
     "data": {
      "text/latex": [
       "$\\displaystyle \\mathit{B1}_{\\mathit{yl}} e^{\\left(-i \\, K_{\\mathit{left}_{\\mathit{conductor}}} {\\left(a + x\\right)}\\right)}$"
      ],
      "text/plain": [
       "<IPython.core.display.Math object>"
      ]
     },
     "metadata": {},
     "output_type": "display_data"
    }
   ],
   "source": [
    "# x > a-{k'_x}^{2}-{k'_y}^{2} +\n",
    "# в проводящем металле с потерями\n",
    "\n",
    "# знак перед корнем будем выбирать всегда так чтобы корень имел положительную мнимую часть\n",
    "E_left_conductor_sol_z (x) = B1_zl*exp(-I * K_left_conductor*(x+a))\n",
    "E_left_conductor_sol_x (x) = B1_xl*exp(-I * K_left_conductor*(x+a))\n",
    "E_left_conductor_sol_y (x) = B1_yl*exp(-I * K_left_conductor*(x+a))\n",
    "\n",
    "E_left_conductor_z = function(\"E_left_conductor_z\")\n",
    "E_left_conductor_x = function(\"E_left_conductor_x\")\n",
    "E_left_conductor_y = function(\"E_left_conductor_y\")\n",
    "\n",
    "\n",
    "print (\"E_left_conductor_sol_z (x) \")\n",
    "display(Math(latex(E_left_conductor_sol_z (x))))\n",
    "print (\"E_left_conductor_sol_x (x) =\")\n",
    "display(Math(latex(E_left_conductor_sol_x (x))))\n",
    "print (\"E_left_conductor_sol_y (x) =\")\n",
    "display(Math(latex(E_left_conductor_sol_y (x))))"
   ]
  },
  {
   "cell_type": "code",
   "execution_count": 22,
   "metadata": {},
   "outputs": [
    {
     "name": "stdout",
     "output_type": "stream",
     "text": [
      "E_right_conductor_sol_z (x) \n"
     ]
    },
    {
     "data": {
      "text/latex": [
       "$\\displaystyle \\mathit{B1}_{\\mathit{zr}} e^{\\left(-i \\, K_{\\mathit{right}_{\\mathit{conductor}}} {\\left(a - x\\right)}\\right)}$"
      ],
      "text/plain": [
       "<IPython.core.display.Math object>"
      ]
     },
     "metadata": {},
     "output_type": "display_data"
    },
    {
     "name": "stdout",
     "output_type": "stream",
     "text": [
      "E_right_conductor_sol_x (x) =\n"
     ]
    },
    {
     "data": {
      "text/latex": [
       "$\\displaystyle \\mathit{B1}_{\\mathit{xr}} e^{\\left(-i \\, K_{\\mathit{right}_{\\mathit{conductor}}} {\\left(a - x\\right)}\\right)}$"
      ],
      "text/plain": [
       "<IPython.core.display.Math object>"
      ]
     },
     "metadata": {},
     "output_type": "display_data"
    },
    {
     "name": "stdout",
     "output_type": "stream",
     "text": [
      "E_right_conductor_sol_y (x) =\n"
     ]
    },
    {
     "data": {
      "text/latex": [
       "$\\displaystyle \\mathit{B1}_{\\mathit{yr}} e^{\\left(-i \\, K_{\\mathit{right}_{\\mathit{conductor}}} {\\left(a - x\\right)}\\right)}$"
      ],
      "text/plain": [
       "<IPython.core.display.Math object>"
      ]
     },
     "metadata": {},
     "output_type": "display_data"
    }
   ],
   "source": [
    "# x > a-{k'_x}^{2}-{k'_y}^{2} +\n",
    "# в проводящем металле с потерями\n",
    "\n",
    "# знак перед корнем будем выбирать всегда так чтобы корень имел положительную мнимую часть\n",
    "E_right_conductor_sol_z (x) = B1_zr*exp(+I * K_right_conductor*(x-a))\n",
    "E_right_conductor_sol_x (x) = B1_xr*exp(+I * K_right_conductor*(x-a))\n",
    "E_right_conductor_sol_y (x) = B1_yr*exp(+I * K_right_conductor*(x-a))\n",
    "\n",
    "E_right_conductor_z = function(\"E_right_conductor_z\")\n",
    "E_right_conductor_x = function(\"E_right_conductor_x\")\n",
    "E_right_conductor_y = function(\"E_right_conductor_y\")\n",
    "\n",
    "\n",
    "print (\"E_right_conductor_sol_z (x) \")\n",
    "display(Math(latex(E_right_conductor_sol_z (x))))\n",
    "print (\"E_right_conductor_sol_x (x) =\")\n",
    "display(Math(latex(E_right_conductor_sol_x (x))))\n",
    "print (\"E_right_conductor_sol_y (x) =\")\n",
    "display(Math(latex(E_right_conductor_sol_y (x))))"
   ]
  },
  {
   "cell_type": "code",
   "execution_count": 23,
   "metadata": {},
   "outputs": [
    {
     "name": "stdout",
     "output_type": "stream",
     "text": [
      "H_inner_vacuum_s_y \n"
     ]
    },
    {
     "data": {
      "text/latex": [
       "$\\displaystyle x \\ {\\mapsto}\\ -\\frac{i \\, {\\left(i \\, k_{z} E_{{\\rm inner}_{{\\rm vacuum}_{x}}}\\left(x\\right) - \\frac{\\partial}{\\partial x}E_{{\\rm inner}_{{\\rm vacuum}_{z}}}\\left(x\\right)\\right)} c}{\\omega}$"
      ],
      "text/plain": [
       "<IPython.core.display.Math object>"
      ]
     },
     "metadata": {},
     "output_type": "display_data"
    },
    {
     "name": "stdout",
     "output_type": "stream",
     "text": [
      "H_left_conductor_s_y =\n"
     ]
    },
    {
     "data": {
      "text/latex": [
       "$\\displaystyle x \\ {\\mapsto}\\ -\\frac{i \\, {\\left(i \\, k_{z} E_{{\\rm left}_{{\\rm conductor}_{x}}}\\left(x\\right) - \\frac{\\partial}{\\partial x}E_{{\\rm left}_{{\\rm conductor}_{z}}}\\left(x\\right)\\right)} c}{\\mu_{l} \\omega}$"
      ],
      "text/plain": [
       "<IPython.core.display.Math object>"
      ]
     },
     "metadata": {},
     "output_type": "display_data"
    },
    {
     "name": "stdout",
     "output_type": "stream",
     "text": [
      "H_right_conductor_s_y =\n"
     ]
    },
    {
     "data": {
      "text/latex": [
       "$\\displaystyle x \\ {\\mapsto}\\ -\\frac{i \\, {\\left(i \\, k_{z} E_{{\\rm right}_{{\\rm conductor}_{x}}}\\left(x\\right) - \\frac{\\partial}{\\partial x}E_{{\\rm right}_{{\\rm conductor}_{z}}}\\left(x\\right)\\right)} c}{\\mu_{r} \\omega}$"
      ],
      "text/plain": [
       "<IPython.core.display.Math object>"
      ]
     },
     "metadata": {},
     "output_type": "display_data"
    },
    {
     "name": "stdout",
     "output_type": "stream",
     "text": [
      "H_inner_vacuum_sol_y (x) \n"
     ]
    },
    {
     "data": {
      "text/latex": [
       "$\\displaystyle -\\frac{i \\, {\\left(-i \\, \\mathit{A2}_{z} K_{\\mathit{vacuum}} e^{\\left(i \\, K_{\\mathit{vacuum}} x\\right)} + i \\, \\mathit{A1}_{z} K_{\\mathit{vacuum}} e^{\\left(-i \\, K_{\\mathit{vacuum}} x\\right)} + i \\, {\\left(\\mathit{A2}_{x} e^{\\left(i \\, K_{\\mathit{vacuum}} x\\right)} + \\mathit{A1}_{x} e^{\\left(-i \\, K_{\\mathit{vacuum}} x\\right)}\\right)} k_{z}\\right)} c}{\\omega}$"
      ],
      "text/plain": [
       "<IPython.core.display.Math object>"
      ]
     },
     "metadata": {},
     "output_type": "display_data"
    },
    {
     "name": "stdout",
     "output_type": "stream",
     "text": [
      "H_left_conductor_sol_y (x) =\n"
     ]
    },
    {
     "data": {
      "text/latex": [
       "$\\displaystyle -\\frac{i \\, {\\left(i \\, \\mathit{B1}_{\\mathit{zl}} K_{\\mathit{left}_{\\mathit{conductor}}} e^{\\left(-i \\, K_{\\mathit{left}_{\\mathit{conductor}}} {\\left(a + x\\right)}\\right)} + i \\, \\mathit{B1}_{\\mathit{xl}} k_{z} e^{\\left(-i \\, K_{\\mathit{left}_{\\mathit{conductor}}} {\\left(a + x\\right)}\\right)}\\right)} c}{\\mu_{l} \\omega}$"
      ],
      "text/plain": [
       "<IPython.core.display.Math object>"
      ]
     },
     "metadata": {},
     "output_type": "display_data"
    },
    {
     "name": "stdout",
     "output_type": "stream",
     "text": [
      "H_right_conductor_sol_y (x) =\n"
     ]
    },
    {
     "data": {
      "text/latex": [
       "$\\displaystyle -\\frac{i \\, {\\left(-i \\, \\mathit{B1}_{\\mathit{zr}} K_{\\mathit{right}_{\\mathit{conductor}}} e^{\\left(-i \\, K_{\\mathit{right}_{\\mathit{conductor}}} {\\left(a - x\\right)}\\right)} + i \\, \\mathit{B1}_{\\mathit{xr}} k_{z} e^{\\left(-i \\, K_{\\mathit{right}_{\\mathit{conductor}}} {\\left(a - x\\right)}\\right)}\\right)} c}{\\mu_{r} \\omega}$"
      ],
      "text/plain": [
       "<IPython.core.display.Math object>"
      ]
     },
     "metadata": {},
     "output_type": "display_data"
    }
   ],
   "source": [
    "# выражения для магнитного поля в вакууме внутри резонатора и в проводящем металле с потерями\n",
    "# rot E = -1/c dB/dt\n",
    "# H_y = c / (I * omega * mu) * (diff(E_x, z) - diff(E_z, x))\n",
    "\n",
    "# H_inner_vacuum_y  (x) = c / (I * omega)      * (I*k_z*E_inner_vacuum_x  (x) - diff(E_inner_vacuum_z  (x), x))\n",
    "# H_bad_conductor_y (x) = c / (I * omega * mu) * (I*k_z*E_bad_conductor_x (x) - diff(E_bad_conductor_z (x), x))\n",
    "\n",
    "H_inner_vacuum_y    = c/(I*omega)     *(I*k_z*E_inner_vacuum_x (x)   - diff(E_inner_vacuum_z (x), x))\n",
    "H_left_conductor_y  = c/(I*omega*mu_l)*(I*k_z*E_left_conductor_x(x)  - diff(E_left_conductor_z(x), x))\n",
    "H_right_conductor_y = c/(I*omega*mu_r)*(I*k_z*E_right_conductor_x(x) - diff(E_right_conductor_z(x), x))\n",
    "\n",
    "H_inner_vacuum_f_y    = function(\"H_inner_vacuum_f_y\")\n",
    "H_left_conductor_f_y  = function(\"H_left_conductor_f_y\")\n",
    "H_right_conductor_f_y = function(\"H_right_conductor_f_y\")\n",
    "\n",
    "H_inner_vacuum_y    = var(\"H_inner_vacuum_y\")\n",
    "H_left_conductor_y  = var(\"H_left_conductor_y\")\n",
    "H_right_conductor_y = var(\"H_right_conductor_y\")\n",
    "\n",
    "H_inner_vacuum_s_y  (x)   = c/(I*omega)     *(I*k_z*E_inner_vacuum_x (x) - diff(E_inner_vacuum_z (x), x))\n",
    "H_left_conductor_s_y (x)  = c/(I*omega*mu_l)*(I*k_z*E_left_conductor_x(x) - diff(E_left_conductor_z(x), x))\n",
    "H_right_conductor_s_y (x) = c/(I*omega*mu_r)*(I*k_z*E_right_conductor_x(x) - diff(E_right_conductor_z(x), x))\n",
    "\n",
    "H_inner_vacuum_sol_y  (x)   = c/(I*omega)     *(I*k_z*E_inner_vacuum_sol_x (x) - diff(E_inner_vacuum_sol_z (x), x))\n",
    "H_left_conductor_sol_y (x)  = c/(I*omega*mu_l)*(I*k_z*E_left_conductor_sol_x(x) - diff(E_left_conductor_sol_z(x), x))\n",
    "H_right_conductor_sol_y (x) = c/(I*omega*mu_r)*(I*k_z*E_right_conductor_sol_x(x) - diff(E_right_conductor_sol_z(x), x))\n",
    "\n",
    "print (\"H_inner_vacuum_s_y \")\n",
    "display(Math(latex(H_inner_vacuum_s_y.simplify())))\n",
    "print (\"H_left_conductor_s_y =\")\n",
    "display(Math(latex(H_left_conductor_s_y)))\n",
    "print (\"H_right_conductor_s_y =\")\n",
    "display(Math(latex(H_right_conductor_s_y)))\n",
    "\n",
    "print (\"H_inner_vacuum_sol_y (x) \")\n",
    "display(Math(latex(H_inner_vacuum_sol_y (x).simplify())))\n",
    "print (\"H_left_conductor_sol_y (x) =\")\n",
    "display(Math(latex(H_left_conductor_sol_y (x))))\n",
    "print (\"H_right_conductor_sol_y (x) =\")\n",
    "display(Math(latex(H_right_conductor_sol_y (x))))"
   ]
  },
  {
   "cell_type": "code",
   "execution_count": 24,
   "metadata": {},
   "outputs": [
    {
     "name": "stdout",
     "output_type": "stream",
     "text": [
      "H_inner_vacuum_s_x \n"
     ]
    },
    {
     "data": {
      "text/latex": [
       "$\\displaystyle x \\ {\\mapsto}\\ -\\frac{i \\, {\\left(-i \\, k_{z} E_{{\\rm inner}_{{\\rm vacuum}_{y}}}\\left(x\\right) + i \\, k_{y} E_{{\\rm inner}_{{\\rm vacuum}_{z}}}\\left(x\\right)\\right)} c}{\\omega}$"
      ],
      "text/plain": [
       "<IPython.core.display.Math object>"
      ]
     },
     "metadata": {},
     "output_type": "display_data"
    },
    {
     "name": "stdout",
     "output_type": "stream",
     "text": [
      "H_left_conductor_s_x (x) =\n"
     ]
    },
    {
     "data": {
      "text/latex": [
       "$\\displaystyle x \\ {\\mapsto}\\ -\\frac{i \\, {\\left(-i \\, k_{z} E_{{\\rm left}_{{\\rm conductor}_{y}}}\\left(x\\right) + i \\, k_{y} E_{{\\rm left}_{{\\rm conductor}_{z}}}\\left(x\\right)\\right)} c}{\\mu_{l} \\omega}$"
      ],
      "text/plain": [
       "<IPython.core.display.Math object>"
      ]
     },
     "metadata": {},
     "output_type": "display_data"
    },
    {
     "name": "stdout",
     "output_type": "stream",
     "text": [
      "H_right_conductor_s_x (x) =\n"
     ]
    },
    {
     "data": {
      "text/latex": [
       "$\\displaystyle x \\ {\\mapsto}\\ -\\frac{i \\, {\\left(-i \\, k_{z} E_{{\\rm right}_{{\\rm conductor}_{y}}}\\left(x\\right) + i \\, k_{y} E_{{\\rm right}_{{\\rm conductor}_{z}}}\\left(x\\right)\\right)} c}{\\mu_{r} \\omega}$"
      ],
      "text/plain": [
       "<IPython.core.display.Math object>"
      ]
     },
     "metadata": {},
     "output_type": "display_data"
    },
    {
     "name": "stdout",
     "output_type": "stream",
     "text": [
      "H_inner_vacuum_sol_x (x) \n"
     ]
    },
    {
     "data": {
      "text/latex": [
       "$\\displaystyle -\\frac{i \\, {\\left(i \\, {\\left(\\mathit{A2}_{z} e^{\\left(i \\, K_{\\mathit{vacuum}} x\\right)} + \\mathit{A1}_{z} e^{\\left(-i \\, K_{\\mathit{vacuum}} x\\right)}\\right)} k_{y} - i \\, {\\left(\\mathit{A2}_{y} e^{\\left(i \\, K_{\\mathit{vacuum}} x\\right)} + \\mathit{A1}_{y} e^{\\left(-i \\, K_{\\mathit{vacuum}} x\\right)}\\right)} k_{z}\\right)} c}{\\omega}$"
      ],
      "text/plain": [
       "<IPython.core.display.Math object>"
      ]
     },
     "metadata": {},
     "output_type": "display_data"
    },
    {
     "name": "stdout",
     "output_type": "stream",
     "text": [
      "H_left_conductor_sol_x (x) =\n"
     ]
    },
    {
     "data": {
      "text/latex": [
       "$\\displaystyle -\\frac{i \\, {\\left(i \\, \\mathit{B1}_{\\mathit{zl}} k_{y} e^{\\left(-i \\, K_{\\mathit{left}_{\\mathit{conductor}}} {\\left(a + x\\right)}\\right)} - i \\, \\mathit{B1}_{\\mathit{yl}} k_{z} e^{\\left(-i \\, K_{\\mathit{left}_{\\mathit{conductor}}} {\\left(a + x\\right)}\\right)}\\right)} c}{\\mu_{l} \\omega}$"
      ],
      "text/plain": [
       "<IPython.core.display.Math object>"
      ]
     },
     "metadata": {},
     "output_type": "display_data"
    },
    {
     "name": "stdout",
     "output_type": "stream",
     "text": [
      "H_right_conductor_sol_x (x) =\n"
     ]
    },
    {
     "data": {
      "text/latex": [
       "$\\displaystyle -\\frac{i \\, {\\left(i \\, \\mathit{B1}_{\\mathit{zr}} k_{y} e^{\\left(-i \\, K_{\\mathit{right}_{\\mathit{conductor}}} {\\left(a - x\\right)}\\right)} - i \\, \\mathit{B1}_{\\mathit{yr}} k_{z} e^{\\left(-i \\, K_{\\mathit{right}_{\\mathit{conductor}}} {\\left(a - x\\right)}\\right)}\\right)} c}{\\mu_{r} \\omega}$"
      ],
      "text/plain": [
       "<IPython.core.display.Math object>"
      ]
     },
     "metadata": {},
     "output_type": "display_data"
    }
   ],
   "source": [
    "# выражения для магнитного поля в вакууме внутри резонатора и в проводящем металле с потерями\n",
    "# rot E = -1/c dB/dt\n",
    "# H_x = c / (I * omega * mu) * (diff(E_z, y) - diff(E_y, z))\n",
    "\n",
    "H_inner_vacuum_f_x  = function(\"H_inner_vacuum_f_x\")\n",
    "H_left_conductor_f_x = function(\"H_left_conductor_f_x\")\n",
    "H_right_conductor_f_x = function(\"H_right_conductor_f_x\")\n",
    "\n",
    "H_inner_vacuum_x    = var(\"H_inner_vacuum_x\")\n",
    "H_left_conductor_x  = var(\"H_left_conductor_x\")\n",
    "H_right_conductor_x = var(\"H_right_conductor_x\")\n",
    "\n",
    "H_inner_vacuum_s_x(x)    = c/(I*omega)   *(I*k_y*E_inner_vacuum_z (x) - I*k_z*E_inner_vacuum_y (x))\n",
    "H_left_conductor_s_x(x)  = c/(I*omega*mu_l)*(I*k_y*E_left_conductor_z(x) - I*k_z*E_left_conductor_y(x))\n",
    "H_right_conductor_s_x(x) = c/(I*omega*mu_r)*(I*k_y*E_right_conductor_z(x) - I*k_z*E_right_conductor_y(x))\n",
    "\n",
    "H_inner_vacuum_sol_x (x)   = c/(I*omega)   *(I*k_y*E_inner_vacuum_sol_z (x) - I*k_z*E_inner_vacuum_sol_y (x))\n",
    "H_left_conductor_sol_x(x)  = c/(I*omega*mu_l)*(I*k_y*E_left_conductor_sol_z(x) - I*k_z*E_left_conductor_sol_y(x))\n",
    "H_right_conductor_sol_x(x) = c/(I*omega*mu_r)*(I*k_y*E_right_conductor_sol_z(x) - I*k_z*E_right_conductor_sol_y(x))\n",
    "\n",
    "print (\"H_inner_vacuum_s_x \")\n",
    "display(Math(latex(H_inner_vacuum_s_x.simplify())))\n",
    "print (\"H_left_conductor_s_x (x) =\")\n",
    "display(Math(latex(H_left_conductor_s_x)))\n",
    "print (\"H_right_conductor_s_x (x) =\")\n",
    "display(Math(latex(H_right_conductor_s_x)))\n",
    "\n",
    "print (\"H_inner_vacuum_sol_x (x) \")\n",
    "display(Math(latex(H_inner_vacuum_sol_x (x).simplify())))\n",
    "print (\"H_left_conductor_sol_x (x) =\")\n",
    "display(Math(latex(H_left_conductor_sol_x (x))))\n",
    "print (\"H_right_conductor_sol_x (x) =\")\n",
    "display(Math(latex(H_right_conductor_sol_x (x))))"
   ]
  },
  {
   "cell_type": "code",
   "execution_count": 25,
   "metadata": {},
   "outputs": [
    {
     "name": "stdout",
     "output_type": "stream",
     "text": [
      "H_inner_vacuum_s_z \n"
     ]
    },
    {
     "data": {
      "text/latex": [
       "$\\displaystyle x \\ {\\mapsto}\\ -\\frac{i \\, {\\left(-i \\, k_{y} E_{{\\rm inner}_{{\\rm vacuum}_{x}}}\\left(x\\right) + \\frac{\\partial}{\\partial x}E_{{\\rm inner}_{{\\rm vacuum}_{y}}}\\left(x\\right)\\right)} c}{\\omega}$"
      ],
      "text/plain": [
       "<IPython.core.display.Math object>"
      ]
     },
     "metadata": {},
     "output_type": "display_data"
    },
    {
     "name": "stdout",
     "output_type": "stream",
     "text": [
      "H_left_conductor_s_z =\n"
     ]
    },
    {
     "data": {
      "text/latex": [
       "$\\displaystyle x \\ {\\mapsto}\\ -\\frac{i \\, {\\left(-i \\, k_{y} E_{{\\rm left}_{{\\rm conductor}_{x}}}\\left(x\\right) + \\frac{\\partial}{\\partial x}E_{{\\rm left}_{{\\rm conductor}_{y}}}\\left(x\\right)\\right)} c}{\\mu_{l} \\omega}$"
      ],
      "text/plain": [
       "<IPython.core.display.Math object>"
      ]
     },
     "metadata": {},
     "output_type": "display_data"
    },
    {
     "name": "stdout",
     "output_type": "stream",
     "text": [
      "H_right_conductor_s_z =\n"
     ]
    },
    {
     "data": {
      "text/latex": [
       "$\\displaystyle x \\ {\\mapsto}\\ -\\frac{i \\, {\\left(-i \\, k_{y} E_{{\\rm right}_{{\\rm conductor}_{x}}}\\left(x\\right) + \\frac{\\partial}{\\partial x}E_{{\\rm right}_{{\\rm conductor}_{y}}}\\left(x\\right)\\right)} c}{\\mu_{r} \\omega}$"
      ],
      "text/plain": [
       "<IPython.core.display.Math object>"
      ]
     },
     "metadata": {},
     "output_type": "display_data"
    },
    {
     "name": "stdout",
     "output_type": "stream",
     "text": [
      "H_inner_vacuum_sol_z (x) \n"
     ]
    },
    {
     "data": {
      "text/latex": [
       "$\\displaystyle -\\frac{i \\, {\\left(i \\, \\mathit{A2}_{y} K_{\\mathit{vacuum}} e^{\\left(i \\, K_{\\mathit{vacuum}} x\\right)} - i \\, \\mathit{A1}_{y} K_{\\mathit{vacuum}} e^{\\left(-i \\, K_{\\mathit{vacuum}} x\\right)} - i \\, {\\left(\\mathit{A2}_{x} e^{\\left(i \\, K_{\\mathit{vacuum}} x\\right)} + \\mathit{A1}_{x} e^{\\left(-i \\, K_{\\mathit{vacuum}} x\\right)}\\right)} k_{y}\\right)} c}{\\omega}$"
      ],
      "text/plain": [
       "<IPython.core.display.Math object>"
      ]
     },
     "metadata": {},
     "output_type": "display_data"
    },
    {
     "name": "stdout",
     "output_type": "stream",
     "text": [
      "H_left_conductor_sol_z (x) =\n"
     ]
    },
    {
     "data": {
      "text/latex": [
       "$\\displaystyle -\\frac{i \\, {\\left(-i \\, \\mathit{B1}_{\\mathit{yl}} K_{\\mathit{left}_{\\mathit{conductor}}} e^{\\left(-i \\, K_{\\mathit{left}_{\\mathit{conductor}}} {\\left(a + x\\right)}\\right)} - i \\, \\mathit{B1}_{\\mathit{xl}} k_{y} e^{\\left(-i \\, K_{\\mathit{left}_{\\mathit{conductor}}} {\\left(a + x\\right)}\\right)}\\right)} c}{\\mu_{l} \\omega}$"
      ],
      "text/plain": [
       "<IPython.core.display.Math object>"
      ]
     },
     "metadata": {},
     "output_type": "display_data"
    },
    {
     "name": "stdout",
     "output_type": "stream",
     "text": [
      "H_right_conductor_sol_z (x) =\n"
     ]
    },
    {
     "data": {
      "text/latex": [
       "$\\displaystyle -\\frac{i \\, {\\left(i \\, \\mathit{B1}_{\\mathit{yr}} K_{\\mathit{right}_{\\mathit{conductor}}} e^{\\left(-i \\, K_{\\mathit{right}_{\\mathit{conductor}}} {\\left(a - x\\right)}\\right)} - i \\, \\mathit{B1}_{\\mathit{xr}} k_{y} e^{\\left(-i \\, K_{\\mathit{right}_{\\mathit{conductor}}} {\\left(a - x\\right)}\\right)}\\right)} c}{\\mu_{r} \\omega}$"
      ],
      "text/plain": [
       "<IPython.core.display.Math object>"
      ]
     },
     "metadata": {},
     "output_type": "display_data"
    }
   ],
   "source": [
    "# выражения для магнитного поля в вакууме внутри резонатора и в проводящем металле с потерями\n",
    "# rot E = -1/c dB/dt\n",
    "# H_z = c / (I * omega * mu) * (diff(E_y, x) - diff(E_x, y))\n",
    "\n",
    "H_inner_vacuum_z    = c / (I*omega)   *(diff(E_inner_vacuum_y (x), x) - I*k_y*E_inner_vacuum_x (x))\n",
    "H_left_conductor_z  = c / (I*omega*mu_l)*(diff(E_left_conductor_y(x), x) - I*k_y*E_left_conductor_x(x))\n",
    "H_right_conductor_z = c / (I*omega*mu_r)*(diff(E_right_conductor_y(x), x) - I*k_y*E_right_conductor_x(x))\n",
    "\n",
    "H_inner_vacuum_f_z    = function(\"H_inner_vacuum_f_z\")\n",
    "H_left_conductor_f_z  = function(\"H_left_conductor_f_z\")\n",
    "H_right_conductor_f_z = function(\"H_right_conductor_f_z\")\n",
    "\n",
    "H_inner_vacuum_z    = var(\"H_inner_vacuum_z\")\n",
    "H_left_conductor_z  = var(\"H_left_conductor_z\")\n",
    "H_right_conductor_z = var(\"H_right_conductor_z\")\n",
    "\n",
    "H_inner_vacuum_s_z(x)    = c / (I*omega)   * (diff(E_inner_vacuum_y (x), x) - I*k_y*E_inner_vacuum_x (x))\n",
    "H_left_conductor_s_z(x)  = c / (I*omega*mu_l)*(diff(E_left_conductor_y(x), x) - I*k_y*E_left_conductor_x(x))\n",
    "H_right_conductor_s_z(x) = c / (I*omega*mu_r)*(diff(E_right_conductor_y(x), x) - I*k_y*E_right_conductor_x(x))\n",
    "\n",
    "H_inner_vacuum_sol_z  (x) = c / (I*omega)   *(diff(E_inner_vacuum_sol_y (x), x) - I*k_y*E_inner_vacuum_sol_x (x))\n",
    "H_left_conductor_sol_z (x) = c / (I*omega*mu_l)*(diff(E_left_conductor_sol_y(x), x) - I*k_y*E_left_conductor_sol_x(x))\n",
    "H_right_conductor_sol_z (x) = c / (I*omega*mu_r)*(diff(E_right_conductor_sol_y(x), x) - I*k_y*E_right_conductor_sol_x(x))\n",
    "\n",
    "print (\"H_inner_vacuum_s_z \")\n",
    "display(Math(latex(H_inner_vacuum_s_z.simplify())))\n",
    "print (\"H_left_conductor_s_z =\")\n",
    "display(Math(latex(H_left_conductor_s_z)))\n",
    "print (\"H_right_conductor_s_z =\")\n",
    "display(Math(latex(H_right_conductor_s_z)))\n",
    "\n",
    "print (\"H_inner_vacuum_sol_z (x) \")\n",
    "display(Math(latex(H_inner_vacuum_sol_z (x))))\n",
    "print (\"H_left_conductor_sol_z (x) =\")\n",
    "display(Math(latex(H_left_conductor_sol_z (x))))\n",
    "print (\"H_right_conductor_sol_z (x) =\")\n",
    "display(Math(latex(H_right_conductor_sol_z (x))))"
   ]
  },
  {
   "cell_type": "code",
   "execution_count": 26,
   "metadata": {},
   "outputs": [
    {
     "data": {
      "text/plain": [
       "([x |--> A2_x*e^(I*K_vacuum*x) + A1_x*e^(-I*K_vacuum*x),\n",
       "  x |--> A2_y*e^(I*K_vacuum*x) + A1_y*e^(-I*K_vacuum*x),\n",
       "  x |--> A2_z*e^(I*K_vacuum*x) + A1_z*e^(-I*K_vacuum*x)],\n",
       " [x |--> B1_xl*e^(-I*K_left_conductor*(a + x)),\n",
       "  x |--> B1_yl*e^(-I*K_left_conductor*(a + x)),\n",
       "  x |--> B1_zl*e^(-I*K_left_conductor*(a + x))],\n",
       " [x |--> B1_xr*e^(-I*K_right_conductor*(a - x)),\n",
       "  x |--> B1_yr*e^(-I*K_right_conductor*(a - x)),\n",
       "  x |--> B1_zr*e^(-I*K_right_conductor*(a - x))])"
      ]
     },
     "execution_count": 26,
     "metadata": {},
     "output_type": "execute_result"
    }
   ],
   "source": [
    "E_inner_vacuum_sol = [\n",
    "    E_inner_vacuum_sol_x,\n",
    "    E_inner_vacuum_sol_y,\n",
    "    E_inner_vacuum_sol_z,\n",
    "]\n",
    "\n",
    "\n",
    "E_left_conductor_sol = [\n",
    "    E_left_conductor_sol_x,\n",
    "    E_left_conductor_sol_y,\n",
    "    E_left_conductor_sol_z,\n",
    "]\n",
    "\n",
    "\n",
    "\n",
    "E_right_conductor_sol = [\n",
    "    E_right_conductor_sol_x,\n",
    "    E_right_conductor_sol_y,\n",
    "    E_right_conductor_sol_z,\n",
    "]\n",
    "\n",
    "\n",
    "E_inner_vacuum_sol, E_left_conductor_sol, E_right_conductor_sol"
   ]
  },
  {
   "cell_type": "code",
   "execution_count": 27,
   "metadata": {},
   "outputs": [
    {
     "data": {
      "text/plain": [
       "([E_inner_vacuum_x, E_inner_vacuum_y, E_inner_vacuum_z],\n",
       " [E_left_conductor_x, E_left_conductor_y, E_left_conductor_z],\n",
       " [E_right_conductor_x, E_right_conductor_y, E_right_conductor_z])"
      ]
     },
     "execution_count": 27,
     "metadata": {},
     "output_type": "execute_result"
    }
   ],
   "source": [
    "E_inner_vacuum = [\n",
    "    E_inner_vacuum_x,\n",
    "    E_inner_vacuum_y,\n",
    "    E_inner_vacuum_z,\n",
    "]\n",
    "\n",
    "E_left_conductor = [\n",
    "    E_left_conductor_x,\n",
    "    E_left_conductor_y,\n",
    "    E_left_conductor_z,\n",
    "]\n",
    "\n",
    "\n",
    "E_right_conductor = [\n",
    "    E_right_conductor_x,\n",
    "    E_right_conductor_y,\n",
    "    E_right_conductor_z,\n",
    "]\n",
    "\n",
    "E_inner_vacuum, E_left_conductor, E_right_conductor"
   ]
  },
  {
   "cell_type": "code",
   "execution_count": 28,
   "metadata": {},
   "outputs": [
    {
     "data": {
      "text/plain": [
       "([H_inner_vacuum_f_x, H_inner_vacuum_f_y, H_inner_vacuum_f_z],\n",
       " [H_left_conductor_f_x, H_left_conductor_f_y, H_left_conductor_f_z],\n",
       " [H_right_conductor_f_x, H_right_conductor_f_y, H_right_conductor_f_z])"
      ]
     },
     "execution_count": 28,
     "metadata": {},
     "output_type": "execute_result"
    }
   ],
   "source": [
    "H_inner_vacuum_f = [\n",
    "    H_inner_vacuum_f_x,\n",
    "    H_inner_vacuum_f_y,\n",
    "    H_inner_vacuum_f_z,\n",
    "]\n",
    "\n",
    "H_left_conductor_f = [\n",
    "    H_left_conductor_f_x,\n",
    "    H_left_conductor_f_y,\n",
    "    H_left_conductor_f_z,\n",
    "]\n",
    "\n",
    "\n",
    "H_right_conductor_f = [\n",
    "    H_right_conductor_f_x,\n",
    "    H_right_conductor_f_y,\n",
    "    H_right_conductor_f_z,\n",
    "]\n",
    "\n",
    "\n",
    "H_inner_vacuum_f, H_left_conductor_f, H_right_conductor_f"
   ]
  },
  {
   "cell_type": "code",
   "execution_count": 29,
   "metadata": {},
   "outputs": [
    {
     "data": {
      "text/plain": [
       "([x |--> -I*(-I*k_z*E_inner_vacuum_y(x) + I*k_y*E_inner_vacuum_z(x))*c/omega,\n",
       "  x |--> -I*(I*k_z*E_inner_vacuum_x(x) - diff(E_inner_vacuum_z(x), x))*c/omega,\n",
       "  x |--> -I*(-I*k_y*E_inner_vacuum_x(x) + diff(E_inner_vacuum_y(x), x))*c/omega],\n",
       " [x |--> -I*(-I*k_z*E_left_conductor_y(x) + I*k_y*E_left_conductor_z(x))*c/(mu_l*omega),\n",
       "  x |--> -I*(I*k_z*E_left_conductor_x(x) - diff(E_left_conductor_z(x), x))*c/(mu_l*omega),\n",
       "  x |--> -I*(-I*k_y*E_left_conductor_x(x) + diff(E_left_conductor_y(x), x))*c/(mu_l*omega)],\n",
       " [x |--> -I*(-I*k_z*E_right_conductor_y(x) + I*k_y*E_right_conductor_z(x))*c/(mu_r*omega),\n",
       "  x |--> -I*(I*k_z*E_right_conductor_x(x) - diff(E_right_conductor_z(x), x))*c/(mu_r*omega),\n",
       "  x |--> -I*(-I*k_y*E_right_conductor_x(x) + diff(E_right_conductor_y(x), x))*c/(mu_r*omega)])"
      ]
     },
     "execution_count": 29,
     "metadata": {},
     "output_type": "execute_result"
    }
   ],
   "source": [
    "H_inner_vacuum_s = [\n",
    "    H_inner_vacuum_s_x,\n",
    "    H_inner_vacuum_s_y,\n",
    "    H_inner_vacuum_s_z,\n",
    "]\n",
    "\n",
    "H_left_conductor_s = [\n",
    "    H_left_conductor_s_x,\n",
    "    H_left_conductor_s_y,\n",
    "    H_left_conductor_s_z,\n",
    "]\n",
    "\n",
    "\n",
    "H_right_conductor_s = [\n",
    "    H_right_conductor_s_x,\n",
    "    H_right_conductor_s_y,\n",
    "    H_right_conductor_s_z,\n",
    "]\n",
    "\n",
    "H_inner_vacuum_s, H_left_conductor_s, H_right_conductor_s"
   ]
  },
  {
   "cell_type": "code",
   "execution_count": 30,
   "metadata": {},
   "outputs": [
    {
     "data": {
      "text/plain": [
       "([x |--> -I*(I*(A2_z*e^(I*K_vacuum*x) + A1_z*e^(-I*K_vacuum*x))*k_y - I*(A2_y*e^(I*K_vacuum*x) + A1_y*e^(-I*K_vacuum*x))*k_z)*c/omega,\n",
       "  x |--> -I*(-I*A2_z*K_vacuum*e^(I*K_vacuum*x) + I*A1_z*K_vacuum*e^(-I*K_vacuum*x) + I*(A2_x*e^(I*K_vacuum*x) + A1_x*e^(-I*K_vacuum*x))*k_z)*c/omega,\n",
       "  x |--> -I*(I*A2_y*K_vacuum*e^(I*K_vacuum*x) - I*A1_y*K_vacuum*e^(-I*K_vacuum*x) - I*(A2_x*e^(I*K_vacuum*x) + A1_x*e^(-I*K_vacuum*x))*k_y)*c/omega],\n",
       " [x |--> -I*(I*B1_zl*k_y*e^(-I*K_left_conductor*(a + x)) - I*B1_yl*k_z*e^(-I*K_left_conductor*(a + x)))*c/(mu_l*omega),\n",
       "  x |--> -I*(I*B1_zl*K_left_conductor*e^(-I*K_left_conductor*(a + x)) + I*B1_xl*k_z*e^(-I*K_left_conductor*(a + x)))*c/(mu_l*omega),\n",
       "  x |--> -I*(-I*B1_yl*K_left_conductor*e^(-I*K_left_conductor*(a + x)) - I*B1_xl*k_y*e^(-I*K_left_conductor*(a + x)))*c/(mu_l*omega)],\n",
       " [x |--> -I*(I*B1_zr*k_y*e^(-I*K_right_conductor*(a - x)) - I*B1_yr*k_z*e^(-I*K_right_conductor*(a - x)))*c/(mu_r*omega),\n",
       "  x |--> -I*(-I*B1_zr*K_right_conductor*e^(-I*K_right_conductor*(a - x)) + I*B1_xr*k_z*e^(-I*K_right_conductor*(a - x)))*c/(mu_r*omega),\n",
       "  x |--> -I*(I*B1_yr*K_right_conductor*e^(-I*K_right_conductor*(a - x)) - I*B1_xr*k_y*e^(-I*K_right_conductor*(a - x)))*c/(mu_r*omega)])"
      ]
     },
     "execution_count": 30,
     "metadata": {},
     "output_type": "execute_result"
    }
   ],
   "source": [
    "H_inner_vacuum_sol = [\n",
    "    H_inner_vacuum_sol_x,\n",
    "    H_inner_vacuum_sol_y,\n",
    "    H_inner_vacuum_sol_z,\n",
    "]\n",
    "\n",
    "H_left_conductor_sol = [\n",
    "    H_left_conductor_sol_x,\n",
    "    H_left_conductor_sol_y,\n",
    "    H_left_conductor_sol_z,\n",
    "]\n",
    "\n",
    "\n",
    "H_right_conductor_sol = [\n",
    "    H_right_conductor_sol_x,\n",
    "    H_right_conductor_sol_y,\n",
    "    H_right_conductor_sol_z,\n",
    "]\n",
    "\n",
    "H_inner_vacuum_sol, H_left_conductor_sol, H_right_conductor_sol"
   ]
  },
  {
   "cell_type": "code",
   "execution_count": 31,
   "metadata": {},
   "outputs": [
    {
     "name": "stdout",
     "output_type": "stream",
     "text": [
      "rot_H_inner_vacuum_x =\n"
     ]
    },
    {
     "data": {
      "text/latex": [
       "$\\displaystyle -i \\, k_{z} H_{{\\rm inner}_{{\\rm vacuum}_{f_{y}}}}\\left(x\\right) + i \\, k_{y} H_{{\\rm inner}_{{\\rm vacuum}_{f_{z}}}}\\left(x\\right)$"
      ],
      "text/plain": [
       "<IPython.core.display.Math object>"
      ]
     },
     "metadata": {},
     "output_type": "display_data"
    },
    {
     "name": "stdout",
     "output_type": "stream",
     "text": [
      "rot_H_left_conductor_x =\n"
     ]
    },
    {
     "data": {
      "text/latex": [
       "$\\displaystyle -i \\, k_{z} H_{{\\rm left}_{{\\rm conductor}_{f_{y}}}}\\left(x\\right) + i \\, k_{y} H_{{\\rm left}_{{\\rm conductor}_{f_{z}}}}\\left(x\\right)$"
      ],
      "text/plain": [
       "<IPython.core.display.Math object>"
      ]
     },
     "metadata": {},
     "output_type": "display_data"
    },
    {
     "name": "stdout",
     "output_type": "stream",
     "text": [
      "rot_H_right_conductor_x =\n"
     ]
    },
    {
     "data": {
      "text/latex": [
       "$\\displaystyle -i \\, k_{z} H_{{\\rm right}_{{\\rm conductor}_{f_{y}}}}\\left(x\\right) + i \\, k_{y} H_{{\\rm right}_{{\\rm conductor}_{f_{z}}}}\\left(x\\right)$"
      ],
      "text/plain": [
       "<IPython.core.display.Math object>"
      ]
     },
     "metadata": {},
     "output_type": "display_data"
    },
    {
     "name": "stdout",
     "output_type": "stream",
     "text": [
      "rot_H_inner_vacuum_y =\n"
     ]
    },
    {
     "data": {
      "text/latex": [
       "$\\displaystyle i \\, k_{z} H_{{\\rm inner}_{{\\rm vacuum}_{f_{x}}}}\\left(x\\right) - \\frac{\\partial}{\\partial x}H_{{\\rm inner}_{{\\rm vacuum}_{f_{z}}}}\\left(x\\right)$"
      ],
      "text/plain": [
       "<IPython.core.display.Math object>"
      ]
     },
     "metadata": {},
     "output_type": "display_data"
    },
    {
     "name": "stdout",
     "output_type": "stream",
     "text": [
      "rot_H_left_conductor_y =\n"
     ]
    },
    {
     "data": {
      "text/latex": [
       "$\\displaystyle i \\, k_{z} H_{{\\rm left}_{{\\rm conductor}_{f_{x}}}}\\left(x\\right) - \\frac{\\partial}{\\partial x}H_{{\\rm left}_{{\\rm conductor}_{f_{z}}}}\\left(x\\right)$"
      ],
      "text/plain": [
       "<IPython.core.display.Math object>"
      ]
     },
     "metadata": {},
     "output_type": "display_data"
    },
    {
     "name": "stdout",
     "output_type": "stream",
     "text": [
      "rot_H_right_conductor_y =\n"
     ]
    },
    {
     "data": {
      "text/latex": [
       "$\\displaystyle i \\, k_{z} H_{{\\rm right}_{{\\rm conductor}_{f_{x}}}}\\left(x\\right) - \\frac{\\partial}{\\partial x}H_{{\\rm right}_{{\\rm conductor}_{f_{z}}}}\\left(x\\right)$"
      ],
      "text/plain": [
       "<IPython.core.display.Math object>"
      ]
     },
     "metadata": {},
     "output_type": "display_data"
    },
    {
     "name": "stdout",
     "output_type": "stream",
     "text": [
      "rot_H_inner_vacuum_z =\n"
     ]
    },
    {
     "data": {
      "text/latex": [
       "$\\displaystyle -i \\, k_{y} H_{{\\rm inner}_{{\\rm vacuum}_{f_{x}}}}\\left(x\\right) + \\frac{\\partial}{\\partial x}H_{{\\rm inner}_{{\\rm vacuum}_{f_{y}}}}\\left(x\\right)$"
      ],
      "text/plain": [
       "<IPython.core.display.Math object>"
      ]
     },
     "metadata": {},
     "output_type": "display_data"
    },
    {
     "name": "stdout",
     "output_type": "stream",
     "text": [
      "rot_H_left_conductor_z =\n"
     ]
    },
    {
     "data": {
      "text/latex": [
       "$\\displaystyle -i \\, k_{y} H_{{\\rm left}_{{\\rm conductor}_{f_{x}}}}\\left(x\\right) + \\frac{\\partial}{\\partial x}H_{{\\rm left}_{{\\rm conductor}_{f_{y}}}}\\left(x\\right)$"
      ],
      "text/plain": [
       "<IPython.core.display.Math object>"
      ]
     },
     "metadata": {},
     "output_type": "display_data"
    },
    {
     "name": "stdout",
     "output_type": "stream",
     "text": [
      "rot_H_right_conductor_z =\n"
     ]
    },
    {
     "data": {
      "text/latex": [
       "$\\displaystyle -i \\, k_{y} H_{{\\rm right}_{{\\rm conductor}_{f_{x}}}}\\left(x\\right) + \\frac{\\partial}{\\partial x}H_{{\\rm right}_{{\\rm conductor}_{f_{y}}}}\\left(x\\right)$"
      ],
      "text/plain": [
       "<IPython.core.display.Math object>"
      ]
     },
     "metadata": {},
     "output_type": "display_data"
    },
    {
     "name": "stdout",
     "output_type": "stream",
     "text": [
      "rot_H_inner_vacuum_s_x =\n"
     ]
    },
    {
     "data": {
      "text/latex": [
       "$\\displaystyle x \\ {\\mapsto}\\ \\frac{{\\left(-i \\, k_{y} E_{{\\rm inner}_{{\\rm vacuum}_{x}}}\\left(x\\right) + \\frac{\\partial}{\\partial x}E_{{\\rm inner}_{{\\rm vacuum}_{y}}}\\left(x\\right)\\right)} c k_{y}}{\\omega} - \\frac{{\\left(i \\, k_{z} E_{{\\rm inner}_{{\\rm vacuum}_{x}}}\\left(x\\right) - \\frac{\\partial}{\\partial x}E_{{\\rm inner}_{{\\rm vacuum}_{z}}}\\left(x\\right)\\right)} c k_{z}}{\\omega}$"
      ],
      "text/plain": [
       "<IPython.core.display.Math object>"
      ]
     },
     "metadata": {},
     "output_type": "display_data"
    },
    {
     "name": "stdout",
     "output_type": "stream",
     "text": [
      "rot_H_left_conductor_s_x =\n"
     ]
    },
    {
     "data": {
      "text/latex": [
       "$\\displaystyle x \\ {\\mapsto}\\ \\frac{{\\left(-i \\, k_{y} E_{{\\rm left}_{{\\rm conductor}_{x}}}\\left(x\\right) + \\frac{\\partial}{\\partial x}E_{{\\rm left}_{{\\rm conductor}_{y}}}\\left(x\\right)\\right)} c k_{y}}{\\mu_{l} \\omega} - \\frac{{\\left(i \\, k_{z} E_{{\\rm left}_{{\\rm conductor}_{x}}}\\left(x\\right) - \\frac{\\partial}{\\partial x}E_{{\\rm left}_{{\\rm conductor}_{z}}}\\left(x\\right)\\right)} c k_{z}}{\\mu_{l} \\omega}$"
      ],
      "text/plain": [
       "<IPython.core.display.Math object>"
      ]
     },
     "metadata": {},
     "output_type": "display_data"
    },
    {
     "name": "stdout",
     "output_type": "stream",
     "text": [
      "rot_H_right_conductor_s_x =\n"
     ]
    },
    {
     "data": {
      "text/latex": [
       "$\\displaystyle x \\ {\\mapsto}\\ \\frac{{\\left(-i \\, k_{y} E_{{\\rm right}_{{\\rm conductor}_{x}}}\\left(x\\right) + \\frac{\\partial}{\\partial x}E_{{\\rm right}_{{\\rm conductor}_{y}}}\\left(x\\right)\\right)} c k_{y}}{\\mu_{r} \\omega} - \\frac{{\\left(i \\, k_{z} E_{{\\rm right}_{{\\rm conductor}_{x}}}\\left(x\\right) - \\frac{\\partial}{\\partial x}E_{{\\rm right}_{{\\rm conductor}_{z}}}\\left(x\\right)\\right)} c k_{z}}{\\mu_{r} \\omega}$"
      ],
      "text/plain": [
       "<IPython.core.display.Math object>"
      ]
     },
     "metadata": {},
     "output_type": "display_data"
    },
    {
     "name": "stdout",
     "output_type": "stream",
     "text": [
      "rot_H_inner_vacuum_s_y =\n"
     ]
    },
    {
     "data": {
      "text/latex": [
       "$\\displaystyle x \\ {\\mapsto}\\ \\frac{{\\left(-i \\, k_{z} E_{{\\rm inner}_{{\\rm vacuum}_{y}}}\\left(x\\right) + i \\, k_{y} E_{{\\rm inner}_{{\\rm vacuum}_{z}}}\\left(x\\right)\\right)} c k_{z}}{\\omega} + \\frac{i \\, {\\left(-i \\, k_{y} \\frac{\\partial}{\\partial x}E_{{\\rm inner}_{{\\rm vacuum}_{x}}}\\left(x\\right) + \\frac{\\partial^{2}}{(\\partial x)^{2}}E_{{\\rm inner}_{{\\rm vacuum}_{y}}}\\left(x\\right)\\right)} c}{\\omega}$"
      ],
      "text/plain": [
       "<IPython.core.display.Math object>"
      ]
     },
     "metadata": {},
     "output_type": "display_data"
    },
    {
     "name": "stdout",
     "output_type": "stream",
     "text": [
      "rot_H_left_conductor_s_y =\n"
     ]
    },
    {
     "data": {
      "text/latex": [
       "$\\displaystyle x \\ {\\mapsto}\\ \\frac{{\\left(-i \\, k_{z} E_{{\\rm left}_{{\\rm conductor}_{y}}}\\left(x\\right) + i \\, k_{y} E_{{\\rm left}_{{\\rm conductor}_{z}}}\\left(x\\right)\\right)} c k_{z}}{\\mu_{l} \\omega} + \\frac{i \\, {\\left(-i \\, k_{y} \\frac{\\partial}{\\partial x}E_{{\\rm left}_{{\\rm conductor}_{x}}}\\left(x\\right) + \\frac{\\partial^{2}}{(\\partial x)^{2}}E_{{\\rm left}_{{\\rm conductor}_{y}}}\\left(x\\right)\\right)} c}{\\mu_{l} \\omega}$"
      ],
      "text/plain": [
       "<IPython.core.display.Math object>"
      ]
     },
     "metadata": {},
     "output_type": "display_data"
    },
    {
     "name": "stdout",
     "output_type": "stream",
     "text": [
      "rot_H_right_conductor_s_y =\n"
     ]
    },
    {
     "data": {
      "text/latex": [
       "$\\displaystyle x \\ {\\mapsto}\\ \\frac{{\\left(-i \\, k_{z} E_{{\\rm right}_{{\\rm conductor}_{y}}}\\left(x\\right) + i \\, k_{y} E_{{\\rm right}_{{\\rm conductor}_{z}}}\\left(x\\right)\\right)} c k_{z}}{\\mu_{r} \\omega} + \\frac{i \\, {\\left(-i \\, k_{y} \\frac{\\partial}{\\partial x}E_{{\\rm right}_{{\\rm conductor}_{x}}}\\left(x\\right) + \\frac{\\partial^{2}}{(\\partial x)^{2}}E_{{\\rm right}_{{\\rm conductor}_{y}}}\\left(x\\right)\\right)} c}{\\mu_{r} \\omega}$"
      ],
      "text/plain": [
       "<IPython.core.display.Math object>"
      ]
     },
     "metadata": {},
     "output_type": "display_data"
    },
    {
     "name": "stdout",
     "output_type": "stream",
     "text": [
      "rot_H_inner_vacuum_s_z =\n"
     ]
    },
    {
     "data": {
      "text/latex": [
       "$\\displaystyle x \\ {\\mapsto}\\ -\\frac{{\\left(-i \\, k_{z} E_{{\\rm inner}_{{\\rm vacuum}_{y}}}\\left(x\\right) + i \\, k_{y} E_{{\\rm inner}_{{\\rm vacuum}_{z}}}\\left(x\\right)\\right)} c k_{y}}{\\omega} - \\frac{i \\, {\\left(i \\, k_{z} \\frac{\\partial}{\\partial x}E_{{\\rm inner}_{{\\rm vacuum}_{x}}}\\left(x\\right) - \\frac{\\partial^{2}}{(\\partial x)^{2}}E_{{\\rm inner}_{{\\rm vacuum}_{z}}}\\left(x\\right)\\right)} c}{\\omega}$"
      ],
      "text/plain": [
       "<IPython.core.display.Math object>"
      ]
     },
     "metadata": {},
     "output_type": "display_data"
    },
    {
     "name": "stdout",
     "output_type": "stream",
     "text": [
      "rot_H_left_conductor_s_z =\n"
     ]
    },
    {
     "data": {
      "text/latex": [
       "$\\displaystyle x \\ {\\mapsto}\\ -\\frac{{\\left(-i \\, k_{z} E_{{\\rm left}_{{\\rm conductor}_{y}}}\\left(x\\right) + i \\, k_{y} E_{{\\rm left}_{{\\rm conductor}_{z}}}\\left(x\\right)\\right)} c k_{y}}{\\mu_{l} \\omega} - \\frac{i \\, {\\left(i \\, k_{z} \\frac{\\partial}{\\partial x}E_{{\\rm left}_{{\\rm conductor}_{x}}}\\left(x\\right) - \\frac{\\partial^{2}}{(\\partial x)^{2}}E_{{\\rm left}_{{\\rm conductor}_{z}}}\\left(x\\right)\\right)} c}{\\mu_{l} \\omega}$"
      ],
      "text/plain": [
       "<IPython.core.display.Math object>"
      ]
     },
     "metadata": {},
     "output_type": "display_data"
    },
    {
     "name": "stdout",
     "output_type": "stream",
     "text": [
      "rot_H_right_conductor_s_z =\n"
     ]
    },
    {
     "data": {
      "text/latex": [
       "$\\displaystyle x \\ {\\mapsto}\\ -\\frac{{\\left(-i \\, k_{z} E_{{\\rm right}_{{\\rm conductor}_{y}}}\\left(x\\right) + i \\, k_{y} E_{{\\rm right}_{{\\rm conductor}_{z}}}\\left(x\\right)\\right)} c k_{y}}{\\mu_{r} \\omega} - \\frac{i \\, {\\left(i \\, k_{z} \\frac{\\partial}{\\partial x}E_{{\\rm right}_{{\\rm conductor}_{x}}}\\left(x\\right) - \\frac{\\partial^{2}}{(\\partial x)^{2}}E_{{\\rm right}_{{\\rm conductor}_{z}}}\\left(x\\right)\\right)} c}{\\mu_{r} \\omega}$"
      ],
      "text/plain": [
       "<IPython.core.display.Math object>"
      ]
     },
     "metadata": {},
     "output_type": "display_data"
    },
    {
     "name": "stdout",
     "output_type": "stream",
     "text": [
      "rot_H_inner_vacuum_sol_x =\n"
     ]
    },
    {
     "data": {
      "text/latex": [
       "$\\displaystyle \\frac{{\\left(i \\, \\mathit{A2}_{y} K_{\\mathit{vacuum}} e^{\\left(i \\, K_{\\mathit{vacuum}} x\\right)} - i \\, \\mathit{A1}_{y} K_{\\mathit{vacuum}} e^{\\left(-i \\, K_{\\mathit{vacuum}} x\\right)} - i \\, {\\left(\\mathit{A2}_{x} e^{\\left(i \\, K_{\\mathit{vacuum}} x\\right)} + \\mathit{A1}_{x} e^{\\left(-i \\, K_{\\mathit{vacuum}} x\\right)}\\right)} k_{y}\\right)} c k_{y}}{\\omega} - \\frac{{\\left(-i \\, \\mathit{A2}_{z} K_{\\mathit{vacuum}} e^{\\left(i \\, K_{\\mathit{vacuum}} x\\right)} + i \\, \\mathit{A1}_{z} K_{\\mathit{vacuum}} e^{\\left(-i \\, K_{\\mathit{vacuum}} x\\right)} + i \\, {\\left(\\mathit{A2}_{x} e^{\\left(i \\, K_{\\mathit{vacuum}} x\\right)} + \\mathit{A1}_{x} e^{\\left(-i \\, K_{\\mathit{vacuum}} x\\right)}\\right)} k_{z}\\right)} c k_{z}}{\\omega}$"
      ],
      "text/plain": [
       "<IPython.core.display.Math object>"
      ]
     },
     "metadata": {},
     "output_type": "display_data"
    },
    {
     "name": "stdout",
     "output_type": "stream",
     "text": [
      "rot_H_left_conductor_sol_x =\n"
     ]
    },
    {
     "data": {
      "text/latex": [
       "$\\displaystyle \\frac{{\\left(-i \\, \\mathit{B1}_{\\mathit{yl}} K_{\\mathit{left}_{\\mathit{conductor}}} e^{\\left(-i \\, K_{\\mathit{left}_{\\mathit{conductor}}} {\\left(a + x\\right)}\\right)} - i \\, \\mathit{B1}_{\\mathit{xl}} k_{y} e^{\\left(-i \\, K_{\\mathit{left}_{\\mathit{conductor}}} {\\left(a + x\\right)}\\right)}\\right)} c k_{y}}{\\mu_{l} \\omega} - \\frac{{\\left(i \\, \\mathit{B1}_{\\mathit{zl}} K_{\\mathit{left}_{\\mathit{conductor}}} e^{\\left(-i \\, K_{\\mathit{left}_{\\mathit{conductor}}} {\\left(a + x\\right)}\\right)} + i \\, \\mathit{B1}_{\\mathit{xl}} k_{z} e^{\\left(-i \\, K_{\\mathit{left}_{\\mathit{conductor}}} {\\left(a + x\\right)}\\right)}\\right)} c k_{z}}{\\mu_{l} \\omega}$"
      ],
      "text/plain": [
       "<IPython.core.display.Math object>"
      ]
     },
     "metadata": {},
     "output_type": "display_data"
    },
    {
     "name": "stdout",
     "output_type": "stream",
     "text": [
      "rot_H_right_conductor_sol_x =\n"
     ]
    },
    {
     "data": {
      "text/latex": [
       "$\\displaystyle \\frac{{\\left(i \\, \\mathit{B1}_{\\mathit{yr}} K_{\\mathit{right}_{\\mathit{conductor}}} e^{\\left(-i \\, K_{\\mathit{right}_{\\mathit{conductor}}} {\\left(a - x\\right)}\\right)} - i \\, \\mathit{B1}_{\\mathit{xr}} k_{y} e^{\\left(-i \\, K_{\\mathit{right}_{\\mathit{conductor}}} {\\left(a - x\\right)}\\right)}\\right)} c k_{y}}{\\mu_{r} \\omega} - \\frac{{\\left(-i \\, \\mathit{B1}_{\\mathit{zr}} K_{\\mathit{right}_{\\mathit{conductor}}} e^{\\left(-i \\, K_{\\mathit{right}_{\\mathit{conductor}}} {\\left(a - x\\right)}\\right)} + i \\, \\mathit{B1}_{\\mathit{xr}} k_{z} e^{\\left(-i \\, K_{\\mathit{right}_{\\mathit{conductor}}} {\\left(a - x\\right)}\\right)}\\right)} c k_{z}}{\\mu_{r} \\omega}$"
      ],
      "text/plain": [
       "<IPython.core.display.Math object>"
      ]
     },
     "metadata": {},
     "output_type": "display_data"
    },
    {
     "name": "stdout",
     "output_type": "stream",
     "text": [
      "rot_H_inner_vacuum_sol_y =\n"
     ]
    },
    {
     "data": {
      "text/latex": [
       "$\\displaystyle \\frac{{\\left(i \\, {\\left(\\mathit{A2}_{z} e^{\\left(i \\, K_{\\mathit{vacuum}} x\\right)} + \\mathit{A1}_{z} e^{\\left(-i \\, K_{\\mathit{vacuum}} x\\right)}\\right)} k_{y} - i \\, {\\left(\\mathit{A2}_{y} e^{\\left(i \\, K_{\\mathit{vacuum}} x\\right)} + \\mathit{A1}_{y} e^{\\left(-i \\, K_{\\mathit{vacuum}} x\\right)}\\right)} k_{z}\\right)} c k_{z}}{\\omega} - \\frac{i \\, {\\left(\\mathit{A2}_{y} K_{\\mathit{vacuum}}^{2} e^{\\left(i \\, K_{\\mathit{vacuum}} x\\right)} + \\mathit{A1}_{y} K_{\\mathit{vacuum}}^{2} e^{\\left(-i \\, K_{\\mathit{vacuum}} x\\right)} + i \\, {\\left(i \\, \\mathit{A2}_{x} K_{\\mathit{vacuum}} e^{\\left(i \\, K_{\\mathit{vacuum}} x\\right)} - i \\, \\mathit{A1}_{x} K_{\\mathit{vacuum}} e^{\\left(-i \\, K_{\\mathit{vacuum}} x\\right)}\\right)} k_{y}\\right)} c}{\\omega}$"
      ],
      "text/plain": [
       "<IPython.core.display.Math object>"
      ]
     },
     "metadata": {},
     "output_type": "display_data"
    },
    {
     "name": "stdout",
     "output_type": "stream",
     "text": [
      "rot_H_left_conductor_sol_y =\n"
     ]
    },
    {
     "data": {
      "text/latex": [
       "$\\displaystyle \\frac{{\\left(i \\, \\mathit{B1}_{\\mathit{zl}} k_{y} e^{\\left(-i \\, K_{\\mathit{left}_{\\mathit{conductor}}} {\\left(a + x\\right)}\\right)} - i \\, \\mathit{B1}_{\\mathit{yl}} k_{z} e^{\\left(-i \\, K_{\\mathit{left}_{\\mathit{conductor}}} {\\left(a + x\\right)}\\right)}\\right)} c k_{z}}{\\mu_{l} \\omega} - \\frac{i \\, {\\left(\\mathit{B1}_{\\mathit{yl}} K_{\\mathit{left}_{\\mathit{conductor}}}^{2} e^{\\left(-i \\, K_{\\mathit{left}_{\\mathit{conductor}}} {\\left(a + x\\right)}\\right)} + \\mathit{B1}_{\\mathit{xl}} K_{\\mathit{left}_{\\mathit{conductor}}} k_{y} e^{\\left(-i \\, K_{\\mathit{left}_{\\mathit{conductor}}} {\\left(a + x\\right)}\\right)}\\right)} c}{\\mu_{l} \\omega}$"
      ],
      "text/plain": [
       "<IPython.core.display.Math object>"
      ]
     },
     "metadata": {},
     "output_type": "display_data"
    },
    {
     "name": "stdout",
     "output_type": "stream",
     "text": [
      "rot_H_right_conductor_sol_y =\n"
     ]
    },
    {
     "data": {
      "text/latex": [
       "$\\displaystyle \\frac{{\\left(i \\, \\mathit{B1}_{\\mathit{zr}} k_{y} e^{\\left(-i \\, K_{\\mathit{right}_{\\mathit{conductor}}} {\\left(a - x\\right)}\\right)} - i \\, \\mathit{B1}_{\\mathit{yr}} k_{z} e^{\\left(-i \\, K_{\\mathit{right}_{\\mathit{conductor}}} {\\left(a - x\\right)}\\right)}\\right)} c k_{z}}{\\mu_{r} \\omega} - \\frac{i \\, {\\left(\\mathit{B1}_{\\mathit{yr}} K_{\\mathit{right}_{\\mathit{conductor}}}^{2} e^{\\left(-i \\, K_{\\mathit{right}_{\\mathit{conductor}}} {\\left(a - x\\right)}\\right)} - \\mathit{B1}_{\\mathit{xr}} K_{\\mathit{right}_{\\mathit{conductor}}} k_{y} e^{\\left(-i \\, K_{\\mathit{right}_{\\mathit{conductor}}} {\\left(a - x\\right)}\\right)}\\right)} c}{\\mu_{r} \\omega}$"
      ],
      "text/plain": [
       "<IPython.core.display.Math object>"
      ]
     },
     "metadata": {},
     "output_type": "display_data"
    },
    {
     "name": "stdout",
     "output_type": "stream",
     "text": [
      "rot_H_inner_vacuum_sol_z =\n"
     ]
    },
    {
     "data": {
      "text/latex": [
       "$\\displaystyle -\\frac{{\\left(i \\, {\\left(\\mathit{A2}_{z} e^{\\left(i \\, K_{\\mathit{vacuum}} x\\right)} + \\mathit{A1}_{z} e^{\\left(-i \\, K_{\\mathit{vacuum}} x\\right)}\\right)} k_{y} - i \\, {\\left(\\mathit{A2}_{y} e^{\\left(i \\, K_{\\mathit{vacuum}} x\\right)} + \\mathit{A1}_{y} e^{\\left(-i \\, K_{\\mathit{vacuum}} x\\right)}\\right)} k_{z}\\right)} c k_{y}}{\\omega} - \\frac{i \\, {\\left(\\mathit{A2}_{z} K_{\\mathit{vacuum}}^{2} e^{\\left(i \\, K_{\\mathit{vacuum}} x\\right)} + \\mathit{A1}_{z} K_{\\mathit{vacuum}}^{2} e^{\\left(-i \\, K_{\\mathit{vacuum}} x\\right)} + i \\, {\\left(i \\, \\mathit{A2}_{x} K_{\\mathit{vacuum}} e^{\\left(i \\, K_{\\mathit{vacuum}} x\\right)} - i \\, \\mathit{A1}_{x} K_{\\mathit{vacuum}} e^{\\left(-i \\, K_{\\mathit{vacuum}} x\\right)}\\right)} k_{z}\\right)} c}{\\omega}$"
      ],
      "text/plain": [
       "<IPython.core.display.Math object>"
      ]
     },
     "metadata": {},
     "output_type": "display_data"
    },
    {
     "name": "stdout",
     "output_type": "stream",
     "text": [
      "rot_H_left_conductor_sol_z =\n"
     ]
    },
    {
     "data": {
      "text/latex": [
       "$\\displaystyle -\\frac{{\\left(i \\, \\mathit{B1}_{\\mathit{zl}} k_{y} e^{\\left(-i \\, K_{\\mathit{left}_{\\mathit{conductor}}} {\\left(a + x\\right)}\\right)} - i \\, \\mathit{B1}_{\\mathit{yl}} k_{z} e^{\\left(-i \\, K_{\\mathit{left}_{\\mathit{conductor}}} {\\left(a + x\\right)}\\right)}\\right)} c k_{y}}{\\mu_{l} \\omega} - \\frac{i \\, {\\left(\\mathit{B1}_{\\mathit{zl}} K_{\\mathit{left}_{\\mathit{conductor}}}^{2} e^{\\left(-i \\, K_{\\mathit{left}_{\\mathit{conductor}}} {\\left(a + x\\right)}\\right)} + \\mathit{B1}_{\\mathit{xl}} K_{\\mathit{left}_{\\mathit{conductor}}} k_{z} e^{\\left(-i \\, K_{\\mathit{left}_{\\mathit{conductor}}} {\\left(a + x\\right)}\\right)}\\right)} c}{\\mu_{l} \\omega}$"
      ],
      "text/plain": [
       "<IPython.core.display.Math object>"
      ]
     },
     "metadata": {},
     "output_type": "display_data"
    },
    {
     "name": "stdout",
     "output_type": "stream",
     "text": [
      "rot_H_right_conductor_sol_z =\n"
     ]
    },
    {
     "data": {
      "text/latex": [
       "$\\displaystyle -\\frac{{\\left(i \\, \\mathit{B1}_{\\mathit{zr}} k_{y} e^{\\left(-i \\, K_{\\mathit{right}_{\\mathit{conductor}}} {\\left(a - x\\right)}\\right)} - i \\, \\mathit{B1}_{\\mathit{yr}} k_{z} e^{\\left(-i \\, K_{\\mathit{right}_{\\mathit{conductor}}} {\\left(a - x\\right)}\\right)}\\right)} c k_{y}}{\\mu_{r} \\omega} - \\frac{i \\, {\\left(\\mathit{B1}_{\\mathit{zr}} K_{\\mathit{right}_{\\mathit{conductor}}}^{2} e^{\\left(-i \\, K_{\\mathit{right}_{\\mathit{conductor}}} {\\left(a - x\\right)}\\right)} - \\mathit{B1}_{\\mathit{xr}} K_{\\mathit{right}_{\\mathit{conductor}}} k_{z} e^{\\left(-i \\, K_{\\mathit{right}_{\\mathit{conductor}}} {\\left(a - x\\right)}\\right)}\\right)} c}{\\mu_{r} \\omega}$"
      ],
      "text/plain": [
       "<IPython.core.display.Math object>"
      ]
     },
     "metadata": {},
     "output_type": "display_data"
    }
   ],
   "source": [
    "# уравнение Максвелла для тока смещения\n",
    "# rot_H   = - I * epsilon * omega / c * E\n",
    "# rot_H_x = diff(H_z, y) - diff(H_y, z)\n",
    "# rot_H_y = diff(H_x, z) - diff(H_z, x)\n",
    "# rot_H_z = diff(H_y, x) - diff(H_x, y)\n",
    "\n",
    "# rot_H_x = diff(H_z, y) - diff(H_y, z)\n",
    "rot_H_inner_vacuum_x    = I*k_y*H_inner_vacuum_f_z(x)  - I*k_z*H_inner_vacuum_f_y(x)\n",
    "rot_H_left_conductor_x  = I*k_y*H_left_conductor_f_z(x) - I*k_z*H_left_conductor_f_y(x)\n",
    "rot_H_right_conductor_x = I*k_y*H_right_conductor_f_z(x) - I*k_z*H_right_conductor_f_y(x)\n",
    "\n",
    "# rot_H_y = diff(H_x, z) - diff(H_z, x)\n",
    "rot_H_inner_vacuum_y  = I*k_z*H_inner_vacuum_f_x(x)  - diff(H_inner_vacuum_f_z(x), x)\n",
    "rot_H_left_conductor_y = I*k_z*H_left_conductor_f_x(x) - diff(H_left_conductor_f_z(x), x)\n",
    "rot_H_right_conductor_y = I*k_z*H_right_conductor_f_x(x) - diff(H_right_conductor_f_z(x), x)\n",
    "\n",
    "# rot_H_z = diff(H_y, x) - diff(H_x, y)\n",
    "rot_H_inner_vacuum_z    = diff(H_inner_vacuum_f_y(x) , x) - I*k_y*H_inner_vacuum_f_x(x)\n",
    "rot_H_left_conductor_z  = diff(H_left_conductor_f_y(x), x) - I*k_y*H_left_conductor_f_x(x)\n",
    "rot_H_right_conductor_z = diff(H_right_conductor_f_y(x), x) - I*k_y*H_right_conductor_f_x(x)\n",
    "\n",
    "# rot_H_x = diff(H_z, y) - diff(H_y, z)\n",
    "rot_H_inner_vacuum_s_x    = I*k_y*H_inner_vacuum_s_z  - I*k_z*H_inner_vacuum_s_y\n",
    "rot_H_left_conductor_s_x  = I*k_y*H_left_conductor_s_z - I*k_z*H_left_conductor_s_y\n",
    "rot_H_right_conductor_s_x = I*k_y*H_right_conductor_s_z - I*k_z*H_right_conductor_s_y\n",
    "\n",
    "# rot_H_y = diff(H_x, z) - diff(H_z, x)\n",
    "rot_H_inner_vacuum_s_y    = I*k_z*H_inner_vacuum_s_x  - diff(H_inner_vacuum_s_z, x)\n",
    "rot_H_left_conductor_s_y  = I*k_z*H_left_conductor_s_x - diff(H_left_conductor_s_z, x)\n",
    "rot_H_right_conductor_s_y = I*k_z*H_right_conductor_s_x - diff(H_right_conductor_s_z, x)\n",
    "\n",
    "#H_inner_vacuum_s_z(x)  = c / (I*omega)   *(-I*sqrt(kappa_vacuum^2-k^2)*E_inner_vacuum_y (x) - I*k_y*E_inner_vacuum_x (x))\n",
    "#H_bad_conductor_s_z(x) = c / (I*omega*mu)*( I*sqrt(kappa       ^2-k^2)*E_bad_conductor_y(x) - I*k_y*E_bad_conductor_x(x))\n",
    "\n",
    "#print(diff(H_inner_vacuum_s_z, x) \\\n",
    "#      .substitute_function(diff(E_inner_vacuum_y(x), x), - I*sqrt(-k^2 + kappa_vacuum^2) * E_inner_vacuum_y(x)) \\\n",
    "#      .substitute_function(diff(E_inner_vacuum_x(x), x), - I*sqrt(-k^2 + kappa_vacuum^2) * E_inner_vacuum_x(x))) \\\n",
    "\n",
    "#rot_H_inner_vacuum_s_y  = I*k_z*H_inner_vacuum_s_x  - c / (I*omega)*(-I*sqrt(kappa_vacuum^2-k_z^2)*\n",
    "#                                                                     (-I*sqrt(kappa_vacuum^2-k_z^2))*\n",
    "#                                                                             E_inner_vacuum_y (x) \n",
    "#                                                                     - I*k_y*(-I*sqrt(kappa_vacuum^2-k_z^2))*\n",
    "#                                                                             E_inner_vacuum_x (x))\n",
    "#\n",
    "#rot_H_bad_conductor_s_y = I*k_z*H_bad_conductor_s_x - c / (I*omega*mu)*( I*sqrt(kappa^2-k_z^2)*\n",
    "#                                                                         I*sqrt(kappa^2-k_z^2)*\n",
    "#                                                                             E_bad_conductor_y(x) \n",
    "#                                                                       - I*k_y*\n",
    "#                                                                        I*sqrt(kappa^2-k_z^2)*\n",
    "#                                                                        E_bad_conductor_x(x))\n",
    "\n",
    "# rot_H_y = diff(H_x, z) - diff(H_z, x)\n",
    "rot_H_inner_vacuum_s_y  = I*k_z*H_inner_vacuum_s_x  - diff(H_inner_vacuum_s_z, x)\n",
    "rot_H_left_conductor_s_y = I*k_z*H_left_conductor_s_x - diff(H_left_conductor_s_z, x)\n",
    "rot_H_right_conductor_s_y = I*k_z*H_right_conductor_s_x - diff(H_right_conductor_s_z, x)\n",
    "\n",
    "\n",
    "# rot_H_z = diff(H_y, x) - diff(H_x, y)\n",
    "rot_H_inner_vacuum_s_z    = diff(H_inner_vacuum_s_y , x) - I*k_y*H_inner_vacuum_s_x\n",
    "rot_H_left_conductor_s_z  = diff(H_left_conductor_s_y, x) - I*k_y*H_left_conductor_s_x\n",
    "rot_H_right_conductor_s_z = diff(H_right_conductor_s_y, x) - I*k_y*H_right_conductor_s_x\n",
    "\n",
    "rot_H_inner_vacuum_s_z    = diff(H_inner_vacuum_s_y, x)  - I*k_y*H_inner_vacuum_s_x\n",
    "rot_H_left_conductor_s_z  =  diff(H_left_conductor_s_y, x) - I*k_y*H_left_conductor_s_x\n",
    "rot_H_right_conductor_s_z =  diff(H_right_conductor_s_y, x) - I*k_y*H_right_conductor_s_x\n",
    "\n",
    "\n",
    "# sol\n",
    "rot_H_inner_vacuum_sol_x    = I*k_y*H_inner_vacuum_sol_z (x) - I*k_z*H_inner_vacuum_sol_y (x)\n",
    "rot_H_left_conductor_sol_x  = I*k_y*H_left_conductor_sol_z(x) - I*k_z*H_left_conductor_sol_y(x)\n",
    "rot_H_right_conductor_sol_x = I*k_y*H_right_conductor_sol_z(x) - I*k_z*H_right_conductor_sol_y(x)\n",
    "\n",
    "rot_H_inner_vacuum_sol_y    = I*k_z*H_inner_vacuum_sol_x (x) - diff(H_inner_vacuum_sol_z (x), x)\n",
    "rot_H_left_conductor_sol_y  = I*k_z*H_left_conductor_sol_x(x) - diff(H_left_conductor_sol_z(x), x)\n",
    "rot_H_right_conductor_sol_y = I*k_z*H_right_conductor_sol_x(x) - diff(H_right_conductor_sol_z(x), x)\n",
    "\n",
    "rot_H_inner_vacuum_sol_z    = diff(H_inner_vacuum_sol_y (x), x) - I*k_y*H_inner_vacuum_sol_x (x)\n",
    "rot_H_left_conductor_sol_z  = diff(H_left_conductor_sol_y(x), x) - I*k_y*H_left_conductor_sol_x(x)\n",
    "rot_H_right_conductor_sol_z = diff(H_right_conductor_sol_y(x), x) - I*k_y*H_right_conductor_sol_x(x)\n",
    "\n",
    "\n",
    "print (\"rot_H_inner_vacuum_x =\")\n",
    "display(Math(latex(rot_H_inner_vacuum_x)))\n",
    "print (\"rot_H_left_conductor_x =\")\n",
    "display(Math(latex(rot_H_left_conductor_x)))\n",
    "print (\"rot_H_right_conductor_x =\")\n",
    "display(Math(latex(rot_H_right_conductor_x)))\n",
    "\n",
    "print (\"rot_H_inner_vacuum_y =\")\n",
    "display(Math(latex(rot_H_inner_vacuum_y)))\n",
    "print (\"rot_H_left_conductor_y =\")\n",
    "display(Math(latex(rot_H_left_conductor_y)))\n",
    "print (\"rot_H_right_conductor_y =\")\n",
    "display(Math(latex(rot_H_right_conductor_y)))\n",
    "\n",
    "print (\"rot_H_inner_vacuum_z =\")\n",
    "display(Math(latex(rot_H_inner_vacuum_z)))\n",
    "print (\"rot_H_left_conductor_z =\")\n",
    "display(Math(latex(rot_H_left_conductor_z)))\n",
    "print (\"rot_H_right_conductor_z =\")\n",
    "display(Math(latex(rot_H_right_conductor_z)))\n",
    "\n",
    "\n",
    "\n",
    "print (\"rot_H_inner_vacuum_s_x =\")\n",
    "display(Math(latex(rot_H_inner_vacuum_s_x)))\n",
    "print (\"rot_H_left_conductor_s_x =\")\n",
    "display(Math(latex(rot_H_left_conductor_s_x)))\n",
    "print (\"rot_H_right_conductor_s_x =\")\n",
    "display(Math(latex(rot_H_right_conductor_s_x)))\n",
    "\n",
    "print (\"rot_H_inner_vacuum_s_y =\")\n",
    "display(Math(latex(rot_H_inner_vacuum_s_y)))\n",
    "print (\"rot_H_left_conductor_s_y =\")\n",
    "display(Math(latex(rot_H_left_conductor_s_y)))\n",
    "print (\"rot_H_right_conductor_s_y =\")\n",
    "display(Math(latex(rot_H_right_conductor_s_y)))\n",
    "\n",
    "print (\"rot_H_inner_vacuum_s_z =\")\n",
    "display(Math(latex(rot_H_inner_vacuum_s_z)))\n",
    "print (\"rot_H_left_conductor_s_z =\")\n",
    "display(Math(latex(rot_H_left_conductor_s_z)))\n",
    "print (\"rot_H_right_conductor_s_z =\")\n",
    "display(Math(latex(rot_H_right_conductor_s_z)))\n",
    "\n",
    "\n",
    "\n",
    "print (\"rot_H_inner_vacuum_sol_x =\")\n",
    "display(Math(latex(rot_H_inner_vacuum_sol_x)))\n",
    "print (\"rot_H_left_conductor_sol_x =\")\n",
    "display(Math(latex(rot_H_left_conductor_sol_x)))\n",
    "print (\"rot_H_right_conductor_sol_x =\")\n",
    "display(Math(latex(rot_H_right_conductor_sol_x)))\n",
    "\n",
    "print (\"rot_H_inner_vacuum_sol_y =\")\n",
    "display(Math(latex(rot_H_inner_vacuum_sol_y)))\n",
    "print (\"rot_H_left_conductor_sol_y =\")\n",
    "display(Math(latex(rot_H_left_conductor_sol_y)))\n",
    "print (\"rot_H_right_conductor_sol_y =\")\n",
    "display(Math(latex(rot_H_right_conductor_sol_y)))\n",
    "\n",
    "print (\"rot_H_inner_vacuum_sol_z =\")\n",
    "display(Math(latex(rot_H_inner_vacuum_sol_z)))\n",
    "print (\"rot_H_left_conductor_sol_z =\")\n",
    "display(Math(latex(rot_H_left_conductor_sol_z)))\n",
    "print (\"rot_H_right_conductor_sol_z =\")\n",
    "display(Math(latex(rot_H_right_conductor_sol_z)))"
   ]
  },
  {
   "cell_type": "code",
   "execution_count": null,
   "metadata": {},
   "outputs": [],
   "source": []
  },
  {
   "cell_type": "markdown",
   "metadata": {},
   "source": [
    "$$rot\\,\\vec{H} = \\frac{1}{c}\\frac{\\partial \\vec E}{\\partial t} = - \\frac{i\\,\\omega}{c} \\vec{E}$$"
   ]
  },
  {
   "cell_type": "markdown",
   "metadata": {},
   "source": [
    "$$rot\\,\\vec{H} = \\frac{1}{c}\\frac{\\partial \\vec D}{\\partial t} + \\frac{4\\pi}{c} \\vec j = - \\frac{i\\,\\omega}{c} \\epsilon \\vec{E} + \\frac{4\\pi}{c}\\sigma \\vec E$$"
   ]
  },
  {
   "cell_type": "markdown",
   "metadata": {},
   "source": [
    "принимая модель комплексного представления диэлектрической проницаемости $\\epsilon' = \\epsilon + \\frac{4\\pi\\,\\sigma}{\\omega}\\,i$ (плохой проводник)"
   ]
  },
  {
   "cell_type": "markdown",
   "metadata": {},
   "source": [
    "$$rot\\,\\vec{H} = \\frac{1}{c}\\frac{\\partial \\vec D}{\\partial t} + \\frac{4\\pi}{c} \\vec j = - \\frac{i\\,\\omega}{c} \\epsilon \\vec{E} + \\frac{4\\pi}{c}\\sigma \\vec E  = - \\frac{i\\,\\omega}{c} \\epsilon' \\vec{E}$$"
   ]
  },
  {
   "cell_type": "code",
   "execution_count": 32,
   "metadata": {},
   "outputs": [],
   "source": [
    "eq_rot_H_inner_vacuum_sol_x  = rot_H_inner_vacuum_sol_x  == -I*omega/c*E_inner_vacuum_sol_x(x)\n",
    "eq_rot_H_inner_vacuum_sol_y  = rot_H_inner_vacuum_sol_y  == -I*omega/c*E_inner_vacuum_sol_y(x)\n",
    "eq_rot_H_inner_vacuum_sol_z  = rot_H_inner_vacuum_sol_z  == -I*omega/c*E_inner_vacuum_sol_z(x)\n",
    "\n",
    "eq_rot_H_left_conductor_sol_x = rot_H_left_conductor_sol_x == -I*omega/c*epsilon_l_complex*E_left_conductor_sol_x(x)\n",
    "eq_rot_H_left_conductor_sol_y = rot_H_left_conductor_sol_y == -I*omega/c*epsilon_l_complex*E_left_conductor_sol_y(x)\n",
    "eq_rot_H_left_conductor_sol_z = rot_H_left_conductor_sol_z == -I*omega/c*epsilon_l_complex*E_left_conductor_sol_z(x)\n",
    "\n",
    "eq_rot_H_right_conductor_sol_x = rot_H_right_conductor_sol_x == -I*omega/c*epsilon_r_complex*E_right_conductor_sol_x(x)\n",
    "eq_rot_H_right_conductor_sol_y = rot_H_right_conductor_sol_y == -I*omega/c*epsilon_r_complex*E_right_conductor_sol_y(x)\n",
    "eq_rot_H_right_conductor_sol_z = rot_H_right_conductor_sol_z == -I*omega/c*epsilon_r_complex*E_right_conductor_sol_z(x)"
   ]
  },
  {
   "cell_type": "code",
   "execution_count": 33,
   "metadata": {},
   "outputs": [],
   "source": [
    "eq_rot_H_inner_vacuum_sol = [\n",
    "    eq_rot_H_inner_vacuum_sol_x,\n",
    "    eq_rot_H_inner_vacuum_sol_y,\n",
    "    eq_rot_H_inner_vacuum_sol_z,\n",
    "]"
   ]
  },
  {
   "cell_type": "code",
   "execution_count": 34,
   "metadata": {},
   "outputs": [],
   "source": [
    "eq_rot_H_left_conductor_sol = [\n",
    "    eq_rot_H_left_conductor_sol_x,\n",
    "    eq_rot_H_left_conductor_sol_y,\n",
    "    eq_rot_H_left_conductor_sol_z,\n",
    "]"
   ]
  },
  {
   "cell_type": "code",
   "execution_count": 35,
   "metadata": {},
   "outputs": [],
   "source": [
    "eq_rot_H_right_conductor_sol = [\n",
    "    eq_rot_H_right_conductor_sol_x,\n",
    "    eq_rot_H_right_conductor_sol_y,\n",
    "    eq_rot_H_right_conductor_sol_z,\n",
    "]"
   ]
  },
  {
   "cell_type": "code",
   "execution_count": 36,
   "metadata": {},
   "outputs": [],
   "source": [
    "eq_rot_H_inner_vacuum_s_x  = rot_H_inner_vacuum_s_x  == -I*omega/c*E_inner_vacuum_x(x)\n",
    "eq_rot_H_inner_vacuum_s_y  = rot_H_inner_vacuum_s_y  == -I*omega/c*E_inner_vacuum_y(x)\n",
    "eq_rot_H_inner_vacuum_s_z  = rot_H_inner_vacuum_s_z  == -I*omega/c*E_inner_vacuum_z(x)\n",
    "\n",
    "eq_rot_H_left_conductor_s_x = rot_H_left_conductor_s_x == -I*omega/c*epsilon_l_complex*E_left_conductor_x(x)\n",
    "eq_rot_H_left_conductor_s_y = rot_H_left_conductor_s_y == -I*omega/c*epsilon_l_complex*E_left_conductor_y(x)\n",
    "eq_rot_H_left_conductor_s_z = rot_H_left_conductor_s_z == -I*omega/c*epsilon_l_complex*E_left_conductor_z(x)\n",
    "\n",
    "eq_rot_H_right_conductor_s_x = rot_H_right_conductor_s_x == -I*omega/c*epsilon_r_complex*E_right_conductor_x(x)\n",
    "eq_rot_H_right_conductor_s_y = rot_H_right_conductor_s_y == -I*omega/c*epsilon_r_complex*E_right_conductor_y(x)\n",
    "eq_rot_H_right_conductor_s_z = rot_H_right_conductor_s_z == -I*omega/c*epsilon_r_complex*E_right_conductor_z(x)"
   ]
  },
  {
   "cell_type": "code",
   "execution_count": 37,
   "metadata": {},
   "outputs": [],
   "source": [
    "eq_rot_H_inner_vacuum_x  = rot_H_inner_vacuum_x  == -I*omega/c*E_inner_vacuum_x(x)\n",
    "eq_rot_H_inner_vacuum_y  = rot_H_inner_vacuum_y  == -I*omega/c*E_inner_vacuum_y(x)\n",
    "eq_rot_H_inner_vacuum_z  = rot_H_inner_vacuum_z  == -I*omega/c*E_inner_vacuum_z(x)\n",
    "\n",
    "eq_rot_H_left_conductor_x = rot_H_left_conductor_x == -I*omega/c*epsilon_l_complex*E_left_conductor_x(x)\n",
    "eq_rot_H_left_conductor_y = rot_H_left_conductor_y == -I*omega/c*epsilon_l_complex*E_left_conductor_y(x)\n",
    "eq_rot_H_left_conductor_z = rot_H_left_conductor_z == -I*omega/c*epsilon_l_complex*E_left_conductor_z(x)\n",
    "\n",
    "eq_rot_H_right_conductor_x = rot_H_right_conductor_x == -I*omega/c*epsilon_r_complex*E_right_conductor_x(x)\n",
    "eq_rot_H_right_conductor_y = rot_H_right_conductor_y == -I*omega/c*epsilon_r_complex*E_right_conductor_y(x)\n",
    "eq_rot_H_right_conductor_z = rot_H_right_conductor_z == -I*omega/c*epsilon_r_complex*E_right_conductor_z(x)"
   ]
  },
  {
   "cell_type": "code",
   "execution_count": 38,
   "metadata": {},
   "outputs": [],
   "source": [
    "eq_rot_H_inner_vacuum = [\n",
    "    eq_rot_H_inner_vacuum_x,\n",
    "    eq_rot_H_inner_vacuum_y,\n",
    "    eq_rot_H_inner_vacuum_z,\n",
    "]"
   ]
  },
  {
   "cell_type": "code",
   "execution_count": 39,
   "metadata": {},
   "outputs": [],
   "source": [
    "eq_rot_H_left_conductor_s = [\n",
    "    eq_rot_H_left_conductor_s_x,\n",
    "    eq_rot_H_left_conductor_s_y,\n",
    "    eq_rot_H_left_conductor_s_z,\n",
    "]"
   ]
  },
  {
   "cell_type": "code",
   "execution_count": 40,
   "metadata": {},
   "outputs": [],
   "source": [
    "eq_rot_H_right_conductor_s = [\n",
    "    eq_rot_H_right_conductor_s_x,\n",
    "    eq_rot_H_right_conductor_s_y,\n",
    "    eq_rot_H_right_conductor_s_z,\n",
    "]"
   ]
  },
  {
   "cell_type": "code",
   "execution_count": 41,
   "metadata": {},
   "outputs": [
    {
     "name": "stdout",
     "output_type": "stream",
     "text": [
      "eq_rot_H_inner_vacuum_s_x =\n"
     ]
    },
    {
     "data": {
      "text/latex": [
       "$\\displaystyle x \\ {\\mapsto}\\ \\frac{{\\left(-i \\, k_{y} E_{{\\rm inner}_{{\\rm vacuum}_{x}}}\\left(x\\right) + \\frac{\\partial}{\\partial x}E_{{\\rm inner}_{{\\rm vacuum}_{y}}}\\left(x\\right)\\right)} c k_{y}}{\\omega} - \\frac{{\\left(i \\, k_{z} E_{{\\rm inner}_{{\\rm vacuum}_{x}}}\\left(x\\right) - \\frac{\\partial}{\\partial x}E_{{\\rm inner}_{{\\rm vacuum}_{z}}}\\left(x\\right)\\right)} c k_{z}}{\\omega} = -\\frac{i \\, \\omega E_{{\\rm inner}_{{\\rm vacuum}_{x}}}\\left(x\\right)}{c}$"
      ],
      "text/plain": [
       "<IPython.core.display.Math object>"
      ]
     },
     "metadata": {},
     "output_type": "display_data"
    },
    {
     "name": "stdout",
     "output_type": "stream",
     "text": [
      "eq_rot_H_inner_vacuum_s_y =\n"
     ]
    },
    {
     "data": {
      "text/latex": [
       "$\\displaystyle x \\ {\\mapsto}\\ \\frac{{\\left(-i \\, k_{z} E_{{\\rm inner}_{{\\rm vacuum}_{y}}}\\left(x\\right) + i \\, k_{y} E_{{\\rm inner}_{{\\rm vacuum}_{z}}}\\left(x\\right)\\right)} c k_{z}}{\\omega} + \\frac{i \\, {\\left(-i \\, k_{y} \\frac{\\partial}{\\partial x}E_{{\\rm inner}_{{\\rm vacuum}_{x}}}\\left(x\\right) + \\frac{\\partial^{2}}{(\\partial x)^{2}}E_{{\\rm inner}_{{\\rm vacuum}_{y}}}\\left(x\\right)\\right)} c}{\\omega} = -\\frac{i \\, \\omega E_{{\\rm inner}_{{\\rm vacuum}_{y}}}\\left(x\\right)}{c}$"
      ],
      "text/plain": [
       "<IPython.core.display.Math object>"
      ]
     },
     "metadata": {},
     "output_type": "display_data"
    },
    {
     "name": "stdout",
     "output_type": "stream",
     "text": [
      "eq_rot_H_inner_vacuum_s_z =\n"
     ]
    },
    {
     "data": {
      "text/latex": [
       "$\\displaystyle x \\ {\\mapsto}\\ -\\frac{{\\left(-i \\, k_{z} E_{{\\rm inner}_{{\\rm vacuum}_{y}}}\\left(x\\right) + i \\, k_{y} E_{{\\rm inner}_{{\\rm vacuum}_{z}}}\\left(x\\right)\\right)} c k_{y}}{\\omega} - \\frac{i \\, {\\left(i \\, k_{z} \\frac{\\partial}{\\partial x}E_{{\\rm inner}_{{\\rm vacuum}_{x}}}\\left(x\\right) - \\frac{\\partial^{2}}{(\\partial x)^{2}}E_{{\\rm inner}_{{\\rm vacuum}_{z}}}\\left(x\\right)\\right)} c}{\\omega} = -\\frac{i \\, \\omega E_{{\\rm inner}_{{\\rm vacuum}_{z}}}\\left(x\\right)}{c}$"
      ],
      "text/plain": [
       "<IPython.core.display.Math object>"
      ]
     },
     "metadata": {},
     "output_type": "display_data"
    }
   ],
   "source": [
    "print (\"eq_rot_H_inner_vacuum_s_x =\")\n",
    "display(Math(latex(eq_rot_H_inner_vacuum_s_x.simplify())))\n",
    "\n",
    "print (\"eq_rot_H_inner_vacuum_s_y =\")\n",
    "display(Math(latex(eq_rot_H_inner_vacuum_s_y.simplify())))\n",
    "\n",
    "print (\"eq_rot_H_inner_vacuum_s_z =\")\n",
    "display(Math(latex(eq_rot_H_inner_vacuum_s_z.simplify())))"
   ]
  },
  {
   "cell_type": "code",
   "execution_count": 42,
   "metadata": {},
   "outputs": [
    {
     "name": "stdout",
     "output_type": "stream",
     "text": [
      "eq_rot_H_inner_vacuum_sol_x =\n"
     ]
    },
    {
     "data": {
      "text/latex": [
       "$\\displaystyle \\frac{{\\left(i \\, \\mathit{A2}_{y} K_{\\mathit{vacuum}} e^{\\left(i \\, K_{\\mathit{vacuum}} x\\right)} - i \\, \\mathit{A1}_{y} K_{\\mathit{vacuum}} e^{\\left(-i \\, K_{\\mathit{vacuum}} x\\right)} - i \\, {\\left(\\mathit{A2}_{x} e^{\\left(i \\, K_{\\mathit{vacuum}} x\\right)} + \\mathit{A1}_{x} e^{\\left(-i \\, K_{\\mathit{vacuum}} x\\right)}\\right)} k_{y}\\right)} c k_{y}}{\\omega} - \\frac{{\\left(-i \\, \\mathit{A2}_{z} K_{\\mathit{vacuum}} e^{\\left(i \\, K_{\\mathit{vacuum}} x\\right)} + i \\, \\mathit{A1}_{z} K_{\\mathit{vacuum}} e^{\\left(-i \\, K_{\\mathit{vacuum}} x\\right)} + i \\, {\\left(\\mathit{A2}_{x} e^{\\left(i \\, K_{\\mathit{vacuum}} x\\right)} + \\mathit{A1}_{x} e^{\\left(-i \\, K_{\\mathit{vacuum}} x\\right)}\\right)} k_{z}\\right)} c k_{z}}{\\omega} = -\\frac{i \\, {\\left(\\mathit{A2}_{x} e^{\\left(i \\, K_{\\mathit{vacuum}} x\\right)} + \\mathit{A1}_{x} e^{\\left(-i \\, K_{\\mathit{vacuum}} x\\right)}\\right)} \\omega}{c}$"
      ],
      "text/plain": [
       "<IPython.core.display.Math object>"
      ]
     },
     "metadata": {},
     "output_type": "display_data"
    },
    {
     "name": "stdout",
     "output_type": "stream",
     "text": [
      "eq_rot_H_inner_vacuum_sol_y =\n"
     ]
    },
    {
     "data": {
      "text/latex": [
       "$\\displaystyle \\frac{{\\left(i \\, {\\left(\\mathit{A2}_{z} e^{\\left(i \\, K_{\\mathit{vacuum}} x\\right)} + \\mathit{A1}_{z} e^{\\left(-i \\, K_{\\mathit{vacuum}} x\\right)}\\right)} k_{y} - i \\, {\\left(\\mathit{A2}_{y} e^{\\left(i \\, K_{\\mathit{vacuum}} x\\right)} + \\mathit{A1}_{y} e^{\\left(-i \\, K_{\\mathit{vacuum}} x\\right)}\\right)} k_{z}\\right)} c k_{z}}{\\omega} - \\frac{i \\, {\\left(\\mathit{A2}_{y} K_{\\mathit{vacuum}}^{2} e^{\\left(i \\, K_{\\mathit{vacuum}} x\\right)} + \\mathit{A1}_{y} K_{\\mathit{vacuum}}^{2} e^{\\left(-i \\, K_{\\mathit{vacuum}} x\\right)} + i \\, {\\left(i \\, \\mathit{A2}_{x} K_{\\mathit{vacuum}} e^{\\left(i \\, K_{\\mathit{vacuum}} x\\right)} - i \\, \\mathit{A1}_{x} K_{\\mathit{vacuum}} e^{\\left(-i \\, K_{\\mathit{vacuum}} x\\right)}\\right)} k_{y}\\right)} c}{\\omega} = -\\frac{i \\, {\\left(\\mathit{A2}_{y} e^{\\left(i \\, K_{\\mathit{vacuum}} x\\right)} + \\mathit{A1}_{y} e^{\\left(-i \\, K_{\\mathit{vacuum}} x\\right)}\\right)} \\omega}{c}$"
      ],
      "text/plain": [
       "<IPython.core.display.Math object>"
      ]
     },
     "metadata": {},
     "output_type": "display_data"
    },
    {
     "name": "stdout",
     "output_type": "stream",
     "text": [
      "eq_rot_H_inner_vacuum_sol_z =\n"
     ]
    },
    {
     "data": {
      "text/latex": [
       "$\\displaystyle -\\frac{{\\left(i \\, {\\left(\\mathit{A2}_{z} e^{\\left(i \\, K_{\\mathit{vacuum}} x\\right)} + \\mathit{A1}_{z} e^{\\left(-i \\, K_{\\mathit{vacuum}} x\\right)}\\right)} k_{y} - i \\, {\\left(\\mathit{A2}_{y} e^{\\left(i \\, K_{\\mathit{vacuum}} x\\right)} + \\mathit{A1}_{y} e^{\\left(-i \\, K_{\\mathit{vacuum}} x\\right)}\\right)} k_{z}\\right)} c k_{y}}{\\omega} - \\frac{i \\, {\\left(\\mathit{A2}_{z} K_{\\mathit{vacuum}}^{2} e^{\\left(i \\, K_{\\mathit{vacuum}} x\\right)} + \\mathit{A1}_{z} K_{\\mathit{vacuum}}^{2} e^{\\left(-i \\, K_{\\mathit{vacuum}} x\\right)} + i \\, {\\left(i \\, \\mathit{A2}_{x} K_{\\mathit{vacuum}} e^{\\left(i \\, K_{\\mathit{vacuum}} x\\right)} - i \\, \\mathit{A1}_{x} K_{\\mathit{vacuum}} e^{\\left(-i \\, K_{\\mathit{vacuum}} x\\right)}\\right)} k_{z}\\right)} c}{\\omega} = -\\frac{i \\, {\\left(\\mathit{A2}_{z} e^{\\left(i \\, K_{\\mathit{vacuum}} x\\right)} + \\mathit{A1}_{z} e^{\\left(-i \\, K_{\\mathit{vacuum}} x\\right)}\\right)} \\omega}{c}$"
      ],
      "text/plain": [
       "<IPython.core.display.Math object>"
      ]
     },
     "metadata": {},
     "output_type": "display_data"
    }
   ],
   "source": [
    "print (\"eq_rot_H_inner_vacuum_sol_x =\")\n",
    "display(Math(latex(eq_rot_H_inner_vacuum_sol_x.simplify())))\n",
    "\n",
    "print (\"eq_rot_H_inner_vacuum_sol_y =\")\n",
    "display(Math(latex(eq_rot_H_inner_vacuum_sol_y.simplify())))\n",
    "\n",
    "print (\"eq_rot_H_inner_vacuum_sol_z =\")\n",
    "display(Math(latex(eq_rot_H_inner_vacuum_sol_z.simplify())))"
   ]
  },
  {
   "cell_type": "code",
   "execution_count": null,
   "metadata": {},
   "outputs": [],
   "source": []
  },
  {
   "cell_type": "code",
   "execution_count": 43,
   "metadata": {},
   "outputs": [],
   "source": [
    "# выражения для электрического поля\n",
    "# в вакууме внутри резонатора \n",
    "#    E_inner_vacuum_z (x) = A1_z_re*cos(sqrt(kappa_vacuum^2-k_z^2)*x) + A1_z_im*sin(sqrt(kappa_vacuum^2-k_z^2)*x)\n",
    "#    E_inner_vacuum_x (x) = A1_x_re*cos(sqrt(kappa_vacuum^2-k_z^2)*x) + A1_x_im*sin(sqrt(kappa_vacuum^2-k_z^2)*x)\n",
    "#    E_inner_vacuum_y (x) = A1_y_re*cos(sqrt(kappa_vacuum^2-k_z^2)*x) + A1_y_im*sin(sqrt(kappa_vacuum^2-k_z^2)*x)\n"
   ]
  },
  {
   "cell_type": "code",
   "execution_count": null,
   "metadata": {},
   "outputs": [],
   "source": []
  },
  {
   "cell_type": "code",
   "execution_count": 44,
   "metadata": {},
   "outputs": [
    {
     "name": "stdout",
     "output_type": "stream",
     "text": [
      "eqEz_r = \n"
     ]
    },
    {
     "data": {
      "text/latex": [
       "$\\displaystyle \\mathit{B1}_{\\mathit{zr}} = \\mathit{A2}_{z} e^{\\left(i \\, K_{\\mathit{vacuum}} a\\right)} + \\mathit{A1}_{z} e^{\\left(-i \\, K_{\\mathit{vacuum}} a\\right)}$"
      ],
      "text/plain": [
       "<IPython.core.display.Math object>"
      ]
     },
     "metadata": {},
     "output_type": "display_data"
    },
    {
     "name": "stdout",
     "output_type": "stream",
     "text": [
      "eqEy_r = \n"
     ]
    },
    {
     "data": {
      "text/latex": [
       "$\\displaystyle \\mathit{B1}_{\\mathit{yr}} = \\mathit{A2}_{y} e^{\\left(i \\, K_{\\mathit{vacuum}} a\\right)} + \\mathit{A1}_{y} e^{\\left(-i \\, K_{\\mathit{vacuum}} a\\right)}$"
      ],
      "text/plain": [
       "<IPython.core.display.Math object>"
      ]
     },
     "metadata": {},
     "output_type": "display_data"
    }
   ],
   "source": [
    "# граничные условия на границе вакуума внутри резонатора и проводящего металла с потерями\n",
    "# тангенциальная компонента электрического поля\n",
    "eqEz_r = E_right_conductor_sol_z(a) == E_inner_vacuum_sol_z(a)\n",
    "eqEy_r = E_right_conductor_sol_y(a) == E_inner_vacuum_sol_y(a)\n",
    "\n",
    "print (\"eqEz_r = \")\n",
    "display(Math(latex(eqEz_r)))\n",
    "print (\"eqEy_r = \")\n",
    "display(Math(latex(eqEy_r)))"
   ]
  },
  {
   "cell_type": "code",
   "execution_count": 45,
   "metadata": {},
   "outputs": [
    {
     "name": "stdout",
     "output_type": "stream",
     "text": [
      "eqEz_l = \n"
     ]
    },
    {
     "data": {
      "text/latex": [
       "$\\displaystyle \\mathit{B1}_{\\mathit{zl}} = \\mathit{A1}_{z} e^{\\left(i \\, K_{\\mathit{vacuum}} a\\right)} + \\mathit{A2}_{z} e^{\\left(-i \\, K_{\\mathit{vacuum}} a\\right)}$"
      ],
      "text/plain": [
       "<IPython.core.display.Math object>"
      ]
     },
     "metadata": {},
     "output_type": "display_data"
    },
    {
     "name": "stdout",
     "output_type": "stream",
     "text": [
      "eqEy_l = \n"
     ]
    },
    {
     "data": {
      "text/latex": [
       "$\\displaystyle \\mathit{B1}_{\\mathit{yl}} = \\mathit{A1}_{y} e^{\\left(i \\, K_{\\mathit{vacuum}} a\\right)} + \\mathit{A2}_{y} e^{\\left(-i \\, K_{\\mathit{vacuum}} a\\right)}$"
      ],
      "text/plain": [
       "<IPython.core.display.Math object>"
      ]
     },
     "metadata": {},
     "output_type": "display_data"
    }
   ],
   "source": [
    "# граничные условия на границе вакуума внутри резонатора и проводящего металла с потерями\n",
    "# тангенциальная компонента электрического поля\n",
    "eqEz_l = E_left_conductor_sol_z(-a) == E_inner_vacuum_sol_z(-a)\n",
    "eqEy_l = E_left_conductor_sol_y(-a) == E_inner_vacuum_sol_y(-a)\n",
    "\n",
    "print (\"eqEz_l = \")\n",
    "display(Math(latex(eqEz_l)))\n",
    "print (\"eqEy_l = \")\n",
    "display(Math(latex(eqEy_l)))"
   ]
  },
  {
   "cell_type": "raw",
   "metadata": {},
   "source": [
    "# нормальная компонента электрического смещения\n",
    "eqDx_a = E_inner_vacuum_sol_x(0) == E_bad_conductor_sol_x(0) * epsilon_complex\n",
    "\n",
    "print (\"eqDx_a =\")\n",
    "display(Math(latex(eqDx_a)))"
   ]
  },
  {
   "cell_type": "raw",
   "metadata": {},
   "source": [
    "# нормальная компонента электрического смещения\n",
    "# численно равна заряду, \"накапливающемуся\" на поверхности раздела двух сред,\n",
    "# деленному на площадь этой поверхности.\n",
    "# Это связано с тем, что электрическое смещение связано с полным зарядом\n",
    "# (как свободным, так и связанным) в данной области\n",
    "\n",
    "# это уравнение исключаем так как поверхностная плотность свободных зарядов нам не известна\n",
    "eqDx__l = E_inner_vacuum_sol_x(-a) == E_left_conductor_sol_x(-a) * epsilon_l_complex\n",
    "\n",
    "print (\"eqDx__l =\")\n",
    "display(Math(latex(eqDx__l)))"
   ]
  },
  {
   "cell_type": "raw",
   "metadata": {},
   "source": [
    "# нормальная компонента электрического смещения\n",
    "eqDx__r = E_inner_vacuum_sol_x(a) == E_right_conductor_sol_x(a) * epsilon_r_complex\n",
    "\n",
    "print (\"eqDx__r =\")\n",
    "display(Math(latex(eqDx__r)))"
   ]
  },
  {
   "cell_type": "code",
   "execution_count": 46,
   "metadata": {},
   "outputs": [
    {
     "name": "stdout",
     "output_type": "stream",
     "text": [
      "eqHz_l =\n"
     ]
    },
    {
     "data": {
      "text/latex": [
       "$\\displaystyle -\\frac{i \\, {\\left(-i \\, \\mathit{B1}_{\\mathit{yl}} K_{\\mathit{left}_{\\mathit{conductor}}} - i \\, \\mathit{B1}_{\\mathit{xl}} k_{y}\\right)} c}{\\mu_{l} \\omega} = -\\frac{i \\, {\\left(-i \\, \\mathit{A1}_{y} K_{\\mathit{vacuum}} e^{\\left(i \\, K_{\\mathit{vacuum}} a\\right)} + i \\, \\mathit{A2}_{y} K_{\\mathit{vacuum}} e^{\\left(-i \\, K_{\\mathit{vacuum}} a\\right)} - i \\, {\\left(\\mathit{A1}_{x} e^{\\left(i \\, K_{\\mathit{vacuum}} a\\right)} + \\mathit{A2}_{x} e^{\\left(-i \\, K_{\\mathit{vacuum}} a\\right)}\\right)} k_{y}\\right)} c}{\\omega}$"
      ],
      "text/plain": [
       "<IPython.core.display.Math object>"
      ]
     },
     "metadata": {},
     "output_type": "display_data"
    },
    {
     "name": "stdout",
     "output_type": "stream",
     "text": [
      "eqHy_l =\n"
     ]
    },
    {
     "data": {
      "text/latex": [
       "$\\displaystyle -\\frac{i \\, {\\left(i \\, \\mathit{B1}_{\\mathit{zl}} K_{\\mathit{left}_{\\mathit{conductor}}} + i \\, \\mathit{B1}_{\\mathit{xl}} k_{z}\\right)} c}{\\mu_{l} \\omega} = -\\frac{i \\, {\\left(i \\, \\mathit{A1}_{z} K_{\\mathit{vacuum}} e^{\\left(i \\, K_{\\mathit{vacuum}} a\\right)} - i \\, \\mathit{A2}_{z} K_{\\mathit{vacuum}} e^{\\left(-i \\, K_{\\mathit{vacuum}} a\\right)} + i \\, {\\left(\\mathit{A1}_{x} e^{\\left(i \\, K_{\\mathit{vacuum}} a\\right)} + \\mathit{A2}_{x} e^{\\left(-i \\, K_{\\mathit{vacuum}} a\\right)}\\right)} k_{z}\\right)} c}{\\omega}$"
      ],
      "text/plain": [
       "<IPython.core.display.Math object>"
      ]
     },
     "metadata": {},
     "output_type": "display_data"
    }
   ],
   "source": [
    "# тангенциальная компонента напряженности магнитного поля\n",
    "eqHz_l  = (H_left_conductor_sol_z(-a)  == H_inner_vacuum_sol_z(-a))\n",
    "eqHy_l  = (H_left_conductor_sol_y(-a)  == H_inner_vacuum_sol_y(-a))\n",
    "\n",
    "print (\"eqHz_l =\")\n",
    "display(Math(latex(eqHz_l)))\n",
    "print (\"eqHy_l =\")\n",
    "display(Math(latex(eqHy_l)))"
   ]
  },
  {
   "cell_type": "code",
   "execution_count": 47,
   "metadata": {},
   "outputs": [
    {
     "name": "stdout",
     "output_type": "stream",
     "text": [
      "eqHz_r =\n"
     ]
    },
    {
     "data": {
      "text/latex": [
       "$\\displaystyle -\\frac{i \\, {\\left(i \\, \\mathit{B1}_{\\mathit{yr}} K_{\\mathit{right}_{\\mathit{conductor}}} - i \\, \\mathit{B1}_{\\mathit{xr}} k_{y}\\right)} c}{\\mu_{r} \\omega} = -\\frac{i \\, {\\left(i \\, \\mathit{A2}_{y} K_{\\mathit{vacuum}} e^{\\left(i \\, K_{\\mathit{vacuum}} a\\right)} - i \\, \\mathit{A1}_{y} K_{\\mathit{vacuum}} e^{\\left(-i \\, K_{\\mathit{vacuum}} a\\right)} - i \\, {\\left(\\mathit{A2}_{x} e^{\\left(i \\, K_{\\mathit{vacuum}} a\\right)} + \\mathit{A1}_{x} e^{\\left(-i \\, K_{\\mathit{vacuum}} a\\right)}\\right)} k_{y}\\right)} c}{\\omega}$"
      ],
      "text/plain": [
       "<IPython.core.display.Math object>"
      ]
     },
     "metadata": {},
     "output_type": "display_data"
    },
    {
     "name": "stdout",
     "output_type": "stream",
     "text": [
      "eqHy_r =\n"
     ]
    },
    {
     "data": {
      "text/latex": [
       "$\\displaystyle -\\frac{i \\, {\\left(-i \\, \\mathit{B1}_{\\mathit{zr}} K_{\\mathit{right}_{\\mathit{conductor}}} + i \\, \\mathit{B1}_{\\mathit{xr}} k_{z}\\right)} c}{\\mu_{r} \\omega} = -\\frac{i \\, {\\left(-i \\, \\mathit{A2}_{z} K_{\\mathit{vacuum}} e^{\\left(i \\, K_{\\mathit{vacuum}} a\\right)} + i \\, \\mathit{A1}_{z} K_{\\mathit{vacuum}} e^{\\left(-i \\, K_{\\mathit{vacuum}} a\\right)} + i \\, {\\left(\\mathit{A2}_{x} e^{\\left(i \\, K_{\\mathit{vacuum}} a\\right)} + \\mathit{A1}_{x} e^{\\left(-i \\, K_{\\mathit{vacuum}} a\\right)}\\right)} k_{z}\\right)} c}{\\omega}$"
      ],
      "text/plain": [
       "<IPython.core.display.Math object>"
      ]
     },
     "metadata": {},
     "output_type": "display_data"
    }
   ],
   "source": [
    "# тангенциальная компонента напряженности магнитного поля\n",
    "eqHz_r  = (H_right_conductor_sol_z(a)  == H_inner_vacuum_sol_z(a))\n",
    "eqHy_r  = (H_right_conductor_sol_y(a)  == H_inner_vacuum_sol_y(a))\n",
    "\n",
    "print (\"eqHz_r =\")\n",
    "display(Math(latex(eqHz_r)))\n",
    "print (\"eqHy_r =\")\n",
    "display(Math(latex(eqHy_r)))"
   ]
  },
  {
   "cell_type": "code",
   "execution_count": 49,
   "metadata": {},
   "outputs": [
    {
     "data": {
      "text/plain": [
       "[k_y == 0]"
      ]
     },
     "execution_count": 49,
     "metadata": {},
     "output_type": "execute_result"
    }
   ],
   "source": [
    "# отсутсвие изменения поля вдоль оси y\n",
    "k_y0_subs = [k_y == 0]\n",
    "\n",
    "#            A1_y_im == 0, \\\n",
    "#            A1_y_re == 0, \\\n",
    "#            A2_y_im == 0, \\\n",
    "#            A2_y_re == 0]\n",
    "k_y0_subs"
   ]
  },
  {
   "cell_type": "code",
   "execution_count": 50,
   "metadata": {},
   "outputs": [
    {
     "name": "stdout",
     "output_type": "stream",
     "text": [
      "eqBx_l =\n"
     ]
    },
    {
     "data": {
      "text/latex": [
       "$\\displaystyle -\\frac{i \\, {\\left(i \\, \\mathit{B1}_{\\mathit{zl}} k_{y} - i \\, \\mathit{B1}_{\\mathit{yl}} k_{z}\\right)} c}{\\omega} = -\\frac{i \\, {\\left(i \\, {\\left(\\mathit{A1}_{z} e^{\\left(i \\, K_{\\mathit{vacuum}} a\\right)} + \\mathit{A2}_{z} e^{\\left(-i \\, K_{\\mathit{vacuum}} a\\right)}\\right)} k_{y} - i \\, {\\left(\\mathit{A1}_{y} e^{\\left(i \\, K_{\\mathit{vacuum}} a\\right)} + \\mathit{A2}_{y} e^{\\left(-i \\, K_{\\mathit{vacuum}} a\\right)}\\right)} k_{z}\\right)} c}{\\omega}$"
      ],
      "text/plain": [
       "<IPython.core.display.Math object>"
      ]
     },
     "metadata": {},
     "output_type": "display_data"
    }
   ],
   "source": [
    "# нормальная компонента индукции магнитного поля\n",
    "eqBx_l  = mu_l * H_left_conductor_sol_x (-a)  == H_inner_vacuum_sol_x (-a)\n",
    "\n",
    "print (\"eqBx_l =\")\n",
    "display(Math(latex(eqBx_l)))"
   ]
  },
  {
   "cell_type": "code",
   "execution_count": 51,
   "metadata": {},
   "outputs": [
    {
     "name": "stdout",
     "output_type": "stream",
     "text": [
      "eqBx_l =\n"
     ]
    },
    {
     "data": {
      "text/latex": [
       "$\\displaystyle -\\frac{\\mathit{B1}_{\\mathit{yl}} c k_{z}}{\\omega} = -\\frac{{\\left(\\mathit{A1}_{y} e^{\\left(i \\, K_{\\mathit{vacuum}} a\\right)} + \\mathit{A2}_{y} e^{\\left(-i \\, K_{\\mathit{vacuum}} a\\right)}\\right)} c k_{z}}{\\omega}$"
      ],
      "text/plain": [
       "<IPython.core.display.Math object>"
      ]
     },
     "metadata": {},
     "output_type": "display_data"
    }
   ],
   "source": [
    "# отсутствие изменения поля вдоль оси y\n",
    "eqBx_l  = eqBx_l.subs(k_y0_subs)\n",
    "\n",
    "print (\"eqBx_l =\")\n",
    "display(Math(latex(eqBx_l)))"
   ]
  },
  {
   "cell_type": "code",
   "execution_count": 52,
   "metadata": {},
   "outputs": [
    {
     "name": "stdout",
     "output_type": "stream",
     "text": [
      "eqBx_r =\n"
     ]
    },
    {
     "data": {
      "text/latex": [
       "$\\displaystyle -\\frac{i \\, {\\left(i \\, \\mathit{B1}_{\\mathit{zr}} k_{y} - i \\, \\mathit{B1}_{\\mathit{yr}} k_{z}\\right)} c}{\\omega} = -\\frac{i \\, {\\left(i \\, {\\left(\\mathit{A2}_{z} e^{\\left(i \\, K_{\\mathit{vacuum}} a\\right)} + \\mathit{A1}_{z} e^{\\left(-i \\, K_{\\mathit{vacuum}} a\\right)}\\right)} k_{y} - i \\, {\\left(\\mathit{A2}_{y} e^{\\left(i \\, K_{\\mathit{vacuum}} a\\right)} + \\mathit{A1}_{y} e^{\\left(-i \\, K_{\\mathit{vacuum}} a\\right)}\\right)} k_{z}\\right)} c}{\\omega}$"
      ],
      "text/plain": [
       "<IPython.core.display.Math object>"
      ]
     },
     "metadata": {},
     "output_type": "display_data"
    }
   ],
   "source": [
    "# нормальная компонента индукции магнитного поля\n",
    "eqBx_r  = mu_r * H_right_conductor_sol_x (a)  == H_inner_vacuum_sol_x (a)\n",
    "\n",
    "print (\"eqBx_r =\")\n",
    "display(Math(latex(eqBx_r)))"
   ]
  },
  {
   "cell_type": "code",
   "execution_count": 53,
   "metadata": {},
   "outputs": [
    {
     "name": "stdout",
     "output_type": "stream",
     "text": [
      "eqBx_r =\n"
     ]
    },
    {
     "data": {
      "text/latex": [
       "$\\displaystyle -\\frac{\\mathit{B1}_{\\mathit{yr}} c k_{z}}{\\omega} = -\\frac{{\\left(\\mathit{A2}_{y} e^{\\left(i \\, K_{\\mathit{vacuum}} a\\right)} + \\mathit{A1}_{y} e^{\\left(-i \\, K_{\\mathit{vacuum}} a\\right)}\\right)} c k_{z}}{\\omega}$"
      ],
      "text/plain": [
       "<IPython.core.display.Math object>"
      ]
     },
     "metadata": {},
     "output_type": "display_data"
    }
   ],
   "source": [
    "# отсутствие изменения поля вдоль оси y\n",
    "eqBx_r  = eqBx_r.subs(k_y0_subs)\n",
    "\n",
    "print (\"eqBx_r =\")\n",
    "display(Math(latex(eqBx_r)))"
   ]
  },
  {
   "cell_type": "markdown",
   "metadata": {},
   "source": [
    "Из первой и второй троек уравнений Максвелла, учитывая зависимость фазового множителя от координаты и времени получаем"
   ]
  },
  {
   "cell_type": "markdown",
   "metadata": {},
   "source": [
    "$$rot\\,\\vec{H} = \\frac{1}{c}\\frac{\\partial \\vec E}{\\partial t} = - \\frac{i\\,\\omega}{c} \\vec{E} = - i\\,\\kappa \\vec{E}$$"
   ]
  },
  {
   "cell_type": "code",
   "execution_count": 54,
   "metadata": {},
   "outputs": [
    {
     "data": {
      "text/latex": [
       "$\\displaystyle i \\, k_{z} H_{{\\rm inner}_{{\\rm vacuum}_{f_{x}}}}\\left(x\\right) - \\frac{\\partial}{\\partial x}H_{{\\rm inner}_{{\\rm vacuum}_{f_{z}}}}\\left(x\\right) = -\\frac{i \\, \\omega E_{{\\rm inner}_{{\\rm vacuum}_{y}}}\\left(x\\right)}{c}$"
      ],
      "text/plain": [
       "<IPython.core.display.Math object>"
      ]
     },
     "metadata": {},
     "output_type": "display_data"
    },
    {
     "data": {
      "text/latex": [
       "$\\displaystyle \\kappa_{\\mathit{vacuum}} E_{{\\rm inner}_{{\\rm vacuum}_{y}}}\\left(x\\right) = -k_{z} H_{{\\rm inner}_{{\\rm vacuum}_{f_{x}}}}\\left(x\\right) - i \\, \\frac{\\partial}{\\partial x}H_{{\\rm inner}_{{\\rm vacuum}_{f_{z}}}}\\left(x\\right)$"
      ],
      "text/plain": [
       "<IPython.core.display.Math object>"
      ]
     },
     "metadata": {},
     "output_type": "display_data"
    }
   ],
   "source": [
    "display(Math(latex(eq_rot_H_inner_vacuum_y)))\n",
    "\n",
    "eq_rot_H_inner_vacuum_y_subs       = eq_rot_H_inner_vacuum_y.subs(omega==c*kappa_vacuum/sqrt(epsilon_0*mu_0))\n",
    "eq_rot_H_inner_vacuum_y_subs_solve = solve(eq_rot_H_inner_vacuum_y_subs, E_inner_vacuum_y(x))[0] * kappa_vacuum\n",
    "display(Math(latex(eq_rot_H_inner_vacuum_y_subs_solve)))"
   ]
  },
  {
   "cell_type": "markdown",
   "metadata": {},
   "source": [
    "$$rot\\,\\vec{E} = \\mu\\,\\frac{i\\,\\omega}{c}\\,\\vec{H}$$"
   ]
  },
  {
   "cell_type": "code",
   "execution_count": 55,
   "metadata": {},
   "outputs": [
    {
     "data": {
      "text/latex": [
       "$\\displaystyle H_{{\\rm inner}_{{\\rm vacuum}_{f_{x}}}}\\left(x\\right) = -\\frac{c k_{z} E_{{\\rm inner}_{{\\rm vacuum}_{y}}}\\left(x\\right)}{\\omega} + \\frac{c k_{y} E_{{\\rm inner}_{{\\rm vacuum}_{z}}}\\left(x\\right)}{\\omega}$"
      ],
      "text/plain": [
       "<IPython.core.display.Math object>"
      ]
     },
     "metadata": {},
     "output_type": "display_data"
    },
    {
     "data": {
      "text/latex": [
       "$\\displaystyle \\kappa_{\\mathit{vacuum}} H_{{\\rm inner}_{{\\rm vacuum}_{f_{x}}}}\\left(x\\right) = -k_{z} E_{{\\rm inner}_{{\\rm vacuum}_{y}}}\\left(x\\right) + k_{y} E_{{\\rm inner}_{{\\rm vacuum}_{z}}}\\left(x\\right)$"
      ],
      "text/plain": [
       "<IPython.core.display.Math object>"
      ]
     },
     "metadata": {},
     "output_type": "display_data"
    }
   ],
   "source": [
    "eq_rot_E_inner_vacuum_x = (H_inner_vacuum_f_x(x) == H_inner_vacuum_s_x(x)).expand()\n",
    "display(Math(latex(eq_rot_E_inner_vacuum_x)))\n",
    "\n",
    "eq_rot_E_inner_vacuum_x_subs \\\n",
    "    = (eq_rot_E_inner_vacuum_x.subs(omega==c*kappa_vacuum/sqrt(epsilon_0*mu_0)) * kappa_vacuum).expand()\n",
    "display(Math(latex(eq_rot_E_inner_vacuum_x_subs)))"
   ]
  },
  {
   "cell_type": "code",
   "execution_count": 56,
   "metadata": {},
   "outputs": [
    {
     "data": {
      "text/latex": [
       "$\\displaystyle \\kappa_{\\mathit{vacuum}} E_{{\\rm inner}_{{\\rm vacuum}_{y}}}\\left(x\\right) + k_{z} H_{{\\rm inner}_{{\\rm vacuum}_{f_{x}}}}\\left(x\\right) = -i \\, \\frac{\\partial}{\\partial x}H_{{\\rm inner}_{{\\rm vacuum}_{f_{z}}}}\\left(x\\right)$"
      ],
      "text/plain": [
       "<IPython.core.display.Math object>"
      ]
     },
     "metadata": {},
     "output_type": "display_data"
    },
    {
     "data": {
      "text/latex": [
       "$\\displaystyle k_{z} E_{{\\rm inner}_{{\\rm vacuum}_{y}}}\\left(x\\right) + \\kappa_{\\mathit{vacuum}} H_{{\\rm inner}_{{\\rm vacuum}_{f_{x}}}}\\left(x\\right) = k_{y} E_{{\\rm inner}_{{\\rm vacuum}_{z}}}\\left(x\\right)$"
      ],
      "text/plain": [
       "<IPython.core.display.Math object>"
      ]
     },
     "metadata": {},
     "output_type": "display_data"
    }
   ],
   "source": [
    "eq_rot_H_inner_vacuum_y_subs_solve_m \\\n",
    "    =  eq_rot_H_inner_vacuum_y_subs_solve.expand() \\\n",
    "    -  eq_rot_H_inner_vacuum_y_subs_solve.rhs().expand().operands()[0]\n",
    "display(Math(latex(eq_rot_H_inner_vacuum_y_subs_solve_m)))\n",
    "\n",
    "eq_rot_E_inner_vacuum_x_subs_m \\\n",
    "    =  eq_rot_E_inner_vacuum_x_subs.expand() \\\n",
    "    -  eq_rot_E_inner_vacuum_x_subs.rhs().operands()[0]\n",
    "display(Math(latex(eq_rot_E_inner_vacuum_x_subs_m)))"
   ]
  },
  {
   "cell_type": "code",
   "execution_count": 57,
   "metadata": {},
   "outputs": [
    {
     "name": "stdout",
     "output_type": "stream",
     "text": [
      "eq_1 =\n"
     ]
    },
    {
     "data": {
      "text/latex": [
       "$\\displaystyle -{\\left(k_{z}^{2} - \\kappa_{\\mathit{vacuum}}^{2}\\right)} E_{{\\rm inner}_{{\\rm vacuum}_{y}}}\\left(x\\right) = -k_{y} k_{z} E_{{\\rm inner}_{{\\rm vacuum}_{z}}}\\left(x\\right) - i \\, \\kappa_{\\mathit{vacuum}} \\frac{\\partial}{\\partial x}H_{{\\rm inner}_{{\\rm vacuum}_{f_{z}}}}\\left(x\\right)$"
      ],
      "text/plain": [
       "<IPython.core.display.Math object>"
      ]
     },
     "metadata": {},
     "output_type": "display_data"
    },
    {
     "name": "stdout",
     "output_type": "stream",
     "text": [
      "eq_2 =\n"
     ]
    },
    {
     "data": {
      "text/latex": [
       "$\\displaystyle {\\left(k_{z}^{2} - \\kappa_{\\mathit{vacuum}}^{2}\\right)} H_{{\\rm inner}_{{\\rm vacuum}_{f_{x}}}}\\left(x\\right) = -k_{y} \\kappa_{\\mathit{vacuum}} E_{{\\rm inner}_{{\\rm vacuum}_{z}}}\\left(x\\right) - i \\, k_{z} \\frac{\\partial}{\\partial x}H_{{\\rm inner}_{{\\rm vacuum}_{f_{z}}}}\\left(x\\right)$"
      ],
      "text/plain": [
       "<IPython.core.display.Math object>"
      ]
     },
     "metadata": {},
     "output_type": "display_data"
    }
   ],
   "source": [
    "# складываем два предыдущих уравения между собой предварительно перемножив каждое уравнение на множитель\n",
    "# позволяющий в левой части сократить компоненту магнитного или электрического поля\n",
    "# таким образом получаем два уравнения для оставшихся нескоращённых компонент электрического и магнитного поля\n",
    "\n",
    "# Аналог уравнения 20.6 - 20.6 Зоммерфельда Электродинамика\n",
    "\n",
    "eq_1 = (eq_rot_H_inner_vacuum_y_subs_solve_m*kappa_vacuum - eq_rot_E_inner_vacuum_x_subs_m*k_z).full_simplify()\n",
    "print (\"eq_1 =\")\n",
    "display(Math(latex(eq_1)))\n",
    "\n",
    "eq_2 = (eq_rot_H_inner_vacuum_y_subs_solve_m*k_z - eq_rot_E_inner_vacuum_x_subs_m*kappa_vacuum).full_simplify()\n",
    "print (\"eq_2 =\")\n",
    "display(Math(latex(eq_2)))"
   ]
  },
  {
   "cell_type": "code",
   "execution_count": 58,
   "metadata": {},
   "outputs": [
    {
     "data": {
      "text/latex": [
       "$\\displaystyle -i \\, k_{z} H_{{\\rm inner}_{{\\rm vacuum}_{f_{y}}}}\\left(x\\right) + i \\, k_{y} H_{{\\rm inner}_{{\\rm vacuum}_{f_{z}}}}\\left(x\\right) = -\\frac{i \\, \\omega E_{{\\rm inner}_{{\\rm vacuum}_{x}}}\\left(x\\right)}{c}$"
      ],
      "text/plain": [
       "<IPython.core.display.Math object>"
      ]
     },
     "metadata": {},
     "output_type": "display_data"
    },
    {
     "data": {
      "text/latex": [
       "$\\displaystyle \\kappa_{\\mathit{vacuum}} E_{{\\rm inner}_{{\\rm vacuum}_{x}}}\\left(x\\right) = k_{z} H_{{\\rm inner}_{{\\rm vacuum}_{f_{y}}}}\\left(x\\right) - k_{y} H_{{\\rm inner}_{{\\rm vacuum}_{f_{z}}}}\\left(x\\right)$"
      ],
      "text/plain": [
       "<IPython.core.display.Math object>"
      ]
     },
     "metadata": {},
     "output_type": "display_data"
    },
    {
     "data": {
      "text/latex": [
       "$\\displaystyle H_{{\\rm inner}_{{\\rm vacuum}_{f_{y}}}}\\left(x\\right) = -\\frac{i \\, {\\left(i \\, k_{z} E_{{\\rm inner}_{{\\rm vacuum}_{x}}}\\left(x\\right) - \\frac{\\partial}{\\partial x}E_{{\\rm inner}_{{\\rm vacuum}_{z}}}\\left(x\\right)\\right)} c}{\\omega}$"
      ],
      "text/plain": [
       "<IPython.core.display.Math object>"
      ]
     },
     "metadata": {},
     "output_type": "display_data"
    },
    {
     "data": {
      "text/latex": [
       "$\\displaystyle \\kappa_{\\mathit{vacuum}} H_{{\\rm inner}_{{\\rm vacuum}_{f_{y}}}}\\left(x\\right) = k_{z} E_{{\\rm inner}_{{\\rm vacuum}_{x}}}\\left(x\\right) + i \\, \\frac{\\partial}{\\partial x}E_{{\\rm inner}_{{\\rm vacuum}_{z}}}\\left(x\\right)$"
      ],
      "text/plain": [
       "<IPython.core.display.Math object>"
      ]
     },
     "metadata": {},
     "output_type": "display_data"
    },
    {
     "data": {
      "text/latex": [
       "$\\displaystyle \\kappa_{\\mathit{vacuum}} E_{{\\rm inner}_{{\\rm vacuum}_{x}}}\\left(x\\right) - k_{z} H_{{\\rm inner}_{{\\rm vacuum}_{f_{y}}}}\\left(x\\right) = -k_{y} H_{{\\rm inner}_{{\\rm vacuum}_{f_{z}}}}\\left(x\\right)$"
      ],
      "text/plain": [
       "<IPython.core.display.Math object>"
      ]
     },
     "metadata": {},
     "output_type": "display_data"
    },
    {
     "data": {
      "text/latex": [
       "$\\displaystyle -k_{z} E_{{\\rm inner}_{{\\rm vacuum}_{x}}}\\left(x\\right) + \\kappa_{\\mathit{vacuum}} H_{{\\rm inner}_{{\\rm vacuum}_{f_{y}}}}\\left(x\\right) = i \\, \\frac{\\partial}{\\partial x}E_{{\\rm inner}_{{\\rm vacuum}_{z}}}\\left(x\\right)$"
      ],
      "text/plain": [
       "<IPython.core.display.Math object>"
      ]
     },
     "metadata": {},
     "output_type": "display_data"
    },
    {
     "data": {
      "text/latex": [
       "$\\displaystyle -{\\left(k_{z}^{2} - \\kappa_{\\mathit{vacuum}}^{2}\\right)} E_{{\\rm inner}_{{\\rm vacuum}_{x}}}\\left(x\\right) = -k_{y} \\kappa_{\\mathit{vacuum}} H_{{\\rm inner}_{{\\rm vacuum}_{f_{z}}}}\\left(x\\right) + i \\, k_{z} \\frac{\\partial}{\\partial x}E_{{\\rm inner}_{{\\rm vacuum}_{z}}}\\left(x\\right)$"
      ],
      "text/plain": [
       "<IPython.core.display.Math object>"
      ]
     },
     "metadata": {},
     "output_type": "display_data"
    },
    {
     "data": {
      "text/latex": [
       "$\\displaystyle -{\\left(k_{z}^{2} - \\kappa_{\\mathit{vacuum}}^{2}\\right)} H_{{\\rm inner}_{{\\rm vacuum}_{f_{y}}}}\\left(x\\right) = -k_{y} k_{z} H_{{\\rm inner}_{{\\rm vacuum}_{f_{z}}}}\\left(x\\right) + i \\, \\kappa_{\\mathit{vacuum}} \\frac{\\partial}{\\partial x}E_{{\\rm inner}_{{\\rm vacuum}_{z}}}\\left(x\\right)$"
      ],
      "text/plain": [
       "<IPython.core.display.Math object>"
      ]
     },
     "metadata": {},
     "output_type": "display_data"
    }
   ],
   "source": [
    "eq_rot_H_inner_vacuum_x_subs       = eq_rot_H_inner_vacuum_x.subs(omega==c*kappa_vacuum/sqrt(epsilon_0*mu_0))\n",
    "display(Math(latex(eq_rot_H_inner_vacuum_x)))\n",
    "\n",
    "eq_rot_H_inner_vacuum_x_subs_solve = solve(eq_rot_H_inner_vacuum_x_subs, E_inner_vacuum_x(x))[0] * kappa_vacuum\n",
    "display(Math(latex(eq_rot_H_inner_vacuum_x_subs_solve)))\n",
    "\n",
    "eq_rot_E_inner_vacuum_y = H_inner_vacuum_f_y(x) == H_inner_vacuum_s_y(x)\n",
    "display(Math(latex(eq_rot_E_inner_vacuum_y)))\n",
    "\n",
    "eq_rot_E_inner_vacuum_y_subs = eq_rot_E_inner_vacuum_y.subs(omega==c*kappa_vacuum/sqrt(epsilon_0*mu_0)) * kappa_vacuum\n",
    "display(Math(latex(eq_rot_E_inner_vacuum_y_subs)))\n",
    "\n",
    "eq_rot_H_inner_vacuum_x_subs_solve_m \\\n",
    "    =  eq_rot_H_inner_vacuum_x_subs_solve.expand() \\\n",
    "    -  eq_rot_H_inner_vacuum_x_subs_solve.rhs().expand().operands()[0] \n",
    "display(Math(latex(eq_rot_H_inner_vacuum_x_subs_solve_m)))\n",
    "\n",
    "eq_rot_E_inner_vacuum_y_subs_m \\\n",
    "    =  eq_rot_E_inner_vacuum_y_subs.expand() \\\n",
    "    -  eq_rot_E_inner_vacuum_y_subs.rhs().expand().operands()[0] \n",
    "display(Math(latex(eq_rot_E_inner_vacuum_y_subs_m)))\n",
    "\n",
    "# складываем два предыдущих уравения между собой предварительно перемножив каждое уравнение на множитель\n",
    "# позволяющий в левой части сократить компоненту магнитного или электрического поля\n",
    "# таким образом получаем два уравнения для оставшихся нескоращённых компонент электрического и магнитного поля\n",
    "eq_5_Ex = (eq_rot_H_inner_vacuum_x_subs_solve_m*kappa_vacuum + eq_rot_E_inner_vacuum_y_subs_m*k_z).full_simplify()\n",
    "display(Math(latex(eq_5_Ex)))\n",
    "\n",
    "eq_6_Hy = (eq_rot_H_inner_vacuum_x_subs_solve_m*k_z + eq_rot_E_inner_vacuum_y_subs_m*kappa_vacuum).full_simplify()\n",
    "display(Math(latex(eq_6_Hy)))"
   ]
  },
  {
   "cell_type": "code",
   "execution_count": 59,
   "metadata": {},
   "outputs": [
    {
     "name": "stdout",
     "output_type": "stream",
     "text": [
      "eq_rot_H_left_conductor_x rot_H = epsilon_l*d/dt(E_x) =\n"
     ]
    },
    {
     "data": {
      "text/latex": [
       "$\\displaystyle -i \\, k_{z} H_{{\\rm left}_{{\\rm conductor}_{f_{y}}}}\\left(x\\right) + i \\, k_{y} H_{{\\rm left}_{{\\rm conductor}_{f_{z}}}}\\left(x\\right) = -\\frac{i \\, {\\left(\\epsilon_{l} + \\frac{4 i \\, \\pi \\sigma_{l}}{\\omega}\\right)} \\omega E_{{\\rm left}_{{\\rm conductor}_{x}}}\\left(x\\right)}{c}$"
      ],
      "text/plain": [
       "<IPython.core.display.Math object>"
      ]
     },
     "metadata": {},
     "output_type": "display_data"
    },
    {
     "name": "stdout",
     "output_type": "stream",
     "text": [
      "eq_rot_H_left_conductor_x_subs rot_H = epsilon_l*d/dt(E_x) =\n"
     ]
    },
    {
     "data": {
      "text/latex": [
       "$\\displaystyle -i \\, k_{z} H_{{\\rm left}_{{\\rm conductor}_{f_{y}}}}\\left(x\\right) + i \\, k_{y} H_{{\\rm left}_{{\\rm conductor}_{f_{z}}}}\\left(x\\right) = -\\frac{i \\, {\\left(\\epsilon_{l} + \\frac{4 i \\, \\pi \\sqrt{\\epsilon_{l} \\mu_{l}} \\sigma_{l}}{c \\kappa_{l}}\\right)} \\kappa_{l} E_{{\\rm left}_{{\\rm conductor}_{x}}}\\left(x\\right)}{\\sqrt{\\epsilon_{l} \\mu_{l}}}$"
      ],
      "text/plain": [
       "<IPython.core.display.Math object>"
      ]
     },
     "metadata": {},
     "output_type": "display_data"
    },
    {
     "name": "stdout",
     "output_type": "stream",
     "text": [
      "eq_rot_H_left_conductor_x_subs_solve rot H = epsilon_l*d/dt(E_x) =\n"
     ]
    },
    {
     "data": {
      "text/latex": [
       "$\\displaystyle \\kappa_{l} E_{{\\rm left}_{{\\rm conductor}_{x}}}\\left(x\\right) = \\frac{{\\left(\\sqrt{\\epsilon_{l} \\mu_{l}} c k_{z} H_{{\\rm left}_{{\\rm conductor}_{f_{y}}}}\\left(x\\right) - \\sqrt{\\epsilon_{l} \\mu_{l}} c k_{y} H_{{\\rm left}_{{\\rm conductor}_{f_{z}}}}\\left(x\\right)\\right)} \\kappa_{l}}{c \\epsilon_{l} \\kappa_{l} + 4 i \\, \\pi \\sqrt{\\epsilon_{l} \\mu_{l}} \\sigma_{l}}$"
      ],
      "text/plain": [
       "<IPython.core.display.Math object>"
      ]
     },
     "metadata": {},
     "output_type": "display_data"
    },
    {
     "name": "stdout",
     "output_type": "stream",
     "text": [
      "eq_rot_E_left_conductor_y_subs (x) rot E =\n"
     ]
    },
    {
     "data": {
      "text/latex": [
       "$\\displaystyle \\kappa_{l} H_{{\\rm left}_{{\\rm conductor}_{f_{y}}}}\\left(x\\right) = -\\frac{i \\, \\sqrt{\\epsilon_{l} \\mu_{l}} {\\left(i \\, k_{z} E_{{\\rm left}_{{\\rm conductor}_{x}}}\\left(x\\right) - \\frac{\\partial}{\\partial x}E_{{\\rm left}_{{\\rm conductor}_{z}}}\\left(x\\right)\\right)}}{\\mu_{l}}$"
      ],
      "text/plain": [
       "<IPython.core.display.Math object>"
      ]
     },
     "metadata": {},
     "output_type": "display_data"
    },
    {
     "name": "stdout",
     "output_type": "stream",
     "text": [
      "eq_rot_H_left_conductor_x_subs_solve_m_Exc1 =\n"
     ]
    },
    {
     "data": {
      "text/latex": [
       "$\\displaystyle -\\frac{c \\sqrt{\\epsilon_{l}} k_{z} \\sqrt{\\mu_{l}} H_{{\\rm left}_{{\\rm conductor}_{f_{y}}}}\\left(x\\right)}{c \\epsilon_{l} \\kappa_{l} + 4 i \\, \\pi \\sqrt{\\epsilon_{l}} \\sqrt{\\mu_{l}} \\sigma_{l}} + E_{{\\rm left}_{{\\rm conductor}_{x}}}\\left(x\\right) = -\\frac{c \\sqrt{\\epsilon_{l}} k_{y} \\sqrt{\\mu_{l}} H_{{\\rm left}_{{\\rm conductor}_{f_{z}}}}\\left(x\\right)}{c \\epsilon_{l} \\kappa_{l} + 4 i \\, \\pi \\sqrt{\\epsilon_{l}} \\sqrt{\\mu_{l}} \\sigma_{l}}$"
      ],
      "text/plain": [
       "<IPython.core.display.Math object>"
      ]
     },
     "metadata": {},
     "output_type": "display_data"
    },
    {
     "name": "stdout",
     "output_type": "stream",
     "text": [
      "eq_rot_E_left_conductor_y_subs_m_Hyc1 =\n"
     ]
    },
    {
     "data": {
      "text/latex": [
       "$\\displaystyle -\\frac{\\sqrt{\\epsilon_{l}} k_{z} E_{{\\rm left}_{{\\rm conductor}_{x}}}\\left(x\\right)}{\\kappa_{l} \\sqrt{\\mu_{l}}} + H_{{\\rm left}_{{\\rm conductor}_{f_{y}}}}\\left(x\\right) = \\frac{i \\, \\sqrt{\\epsilon_{l}} \\frac{\\partial}{\\partial x}E_{{\\rm left}_{{\\rm conductor}_{z}}}\\left(x\\right)}{\\kappa_{l} \\sqrt{\\mu_{l}}}$"
      ],
      "text/plain": [
       "<IPython.core.display.Math object>"
      ]
     },
     "metadata": {},
     "output_type": "display_data"
    }
   ],
   "source": [
    "eq_rot_H_left_conductor_x_subs       = eq_rot_H_left_conductor_x.subs(omega==c*kappa_l/sqrt(epsilon_l*mu_l))\n",
    "print (\"eq_rot_H_left_conductor_x rot_H = epsilon_l*d/dt(E_x) =\")\n",
    "display(Math(latex(eq_rot_H_left_conductor_x)))\n",
    "\n",
    "print (\"eq_rot_H_left_conductor_x_subs rot_H = epsilon_l*d/dt(E_x) =\")\n",
    "display(Math(latex(eq_rot_H_left_conductor_x_subs)))\n",
    "\n",
    "\n",
    "eq_rot_H_left_conductor_x_subs_solve = solve(eq_rot_H_left_conductor_x_subs, E_left_conductor_x(x))[0] * kappa_l\n",
    "print (\"eq_rot_H_left_conductor_x_subs_solve rot H = epsilon_l*d/dt(E_x) =\")\n",
    "display(Math(latex(eq_rot_H_left_conductor_x_subs_solve)))\n",
    "\n",
    "eq_rot_E_left_conductor_y = H_left_conductor_f_y(x) == H_left_conductor_s_y(x)\n",
    "eq_rot_E_left_conductor_y_subs = eq_rot_E_left_conductor_y.subs(omega==c*kappa_l/sqrt(epsilon_l*mu_l)) * kappa_l\n",
    "print (\"eq_rot_E_left_conductor_y_subs (x) rot E =\")\n",
    "display(Math(latex(eq_rot_E_left_conductor_y_subs)))\n",
    "\n",
    "eq_rot_H_left_conductor_x_subs_solve_m \\\n",
    "    =  eq_rot_H_left_conductor_x_subs_solve.expand() \\\n",
    "    -  eq_rot_H_left_conductor_x_subs_solve.rhs().expand().operands()[0]\n",
    "#print (\"eq_rot_H_left_conductor_x_subs_solve_m =\")\n",
    "#display(Math(latex(eq_rot_H_left_conductor_x_subs_solve_m)))\n",
    "\n",
    "eq_rot_H_left_conductor_x_subs_solve_m_Exc1 = (eq_rot_H_left_conductor_x_subs_solve_m / kappa_l).expand()\n",
    "print (\"eq_rot_H_left_conductor_x_subs_solve_m_Exc1 =\")\n",
    "display(Math(latex(eq_rot_H_left_conductor_x_subs_solve_m_Exc1)))\n",
    "\n",
    "eq_rot_E_left_conductor_y_subs_m \\\n",
    "    =  eq_rot_E_left_conductor_y_subs.expand() \\\n",
    "    -  eq_rot_E_left_conductor_y_subs.rhs().expand().operands()[0]\n",
    "#print (\"eq_rot_E_left_conductor_y_subs_m =\")\n",
    "#display(Math(latex(eq_rot_E_left_conductor_y_subs_m)))\n",
    "\n",
    "eq_rot_E_left_conductor_y_subs_m_Hyc1 = (eq_rot_E_left_conductor_y_subs_m / kappa_l).expand()\n",
    "print (\"eq_rot_E_left_conductor_y_subs_m_Hyc1 =\")\n",
    "display(Math(latex(eq_rot_E_left_conductor_y_subs_m_Hyc1)))"
   ]
  },
  {
   "cell_type": "code",
   "execution_count": 60,
   "metadata": {},
   "outputs": [],
   "source": [
    "# выделяем из левых частей множители\n",
    "# с помощью которых мы будем производить сокращение компонент полей при сложении уравнений"
   ]
  },
  {
   "cell_type": "code",
   "execution_count": 61,
   "metadata": {},
   "outputs": [
    {
     "data": {
      "text/latex": [
       "$\\displaystyle -\\frac{\\sqrt{\\epsilon_{l}} k_{z}}{\\kappa_{l} \\sqrt{\\mu_{l}}}$"
      ],
      "text/plain": [
       "<IPython.core.display.Math object>"
      ]
     },
     "metadata": {},
     "output_type": "display_data"
    }
   ],
   "source": [
    "Exlc = eq_rot_E_left_conductor_y_subs_m_Hyc1.lhs().coefficient(E_left_conductor_x(x))\n",
    "display(Math(latex(Exlc)))"
   ]
  },
  {
   "cell_type": "code",
   "execution_count": 62,
   "metadata": {},
   "outputs": [
    {
     "data": {
      "text/latex": [
       "$\\displaystyle -\\frac{c \\sqrt{\\epsilon_{l}} k_{z} \\sqrt{\\mu_{l}}}{c \\epsilon_{l} \\kappa_{l} + 4 i \\, \\pi \\sqrt{\\epsilon_{l}} \\sqrt{\\mu_{l}} \\sigma_{l}}$"
      ],
      "text/plain": [
       "<IPython.core.display.Math object>"
      ]
     },
     "metadata": {},
     "output_type": "display_data"
    }
   ],
   "source": [
    "Hylc = eq_rot_H_left_conductor_x_subs_solve_m_Exc1.lhs().coefficient(H_left_conductor_f_y(x))\n",
    "display(Math(latex(Hylc)))"
   ]
  },
  {
   "cell_type": "code",
   "execution_count": 63,
   "metadata": {},
   "outputs": [
    {
     "data": {
      "text/latex": [
       "$\\displaystyle -\\frac{\\sqrt{\\epsilon_{l}} \\kappa_{l} E_{{\\rm left}_{{\\rm conductor}_{x}}}\\left(x\\right)}{k_{z} \\sqrt{\\mu_{l}}} - \\frac{4 i \\, \\pi \\sigma_{l} E_{{\\rm left}_{{\\rm conductor}_{x}}}\\left(x\\right)}{c k_{z}} + H_{{\\rm left}_{{\\rm conductor}_{f_{y}}}}\\left(x\\right) = \\frac{k_{y} H_{{\\rm left}_{{\\rm conductor}_{f_{z}}}}\\left(x\\right)}{k_{z}}$"
      ],
      "text/plain": [
       "<IPython.core.display.Math object>"
      ]
     },
     "metadata": {},
     "output_type": "display_data"
    }
   ],
   "source": [
    "eq_rot_H_left_conductor_x_subs_solve_m_Hyc1 = (eq_rot_H_left_conductor_x_subs_solve_m_Exc1/Hylc).factor().expand()\n",
    "disp(eq_rot_H_left_conductor_x_subs_solve_m_Hyc1)"
   ]
  },
  {
   "cell_type": "code",
   "execution_count": 64,
   "metadata": {},
   "outputs": [
    {
     "data": {
      "text/latex": [
       "$\\displaystyle -\\frac{\\kappa_{l} \\sqrt{\\mu_{l}} H_{{\\rm left}_{{\\rm conductor}_{f_{y}}}}\\left(x\\right)}{\\sqrt{\\epsilon_{l}} k_{z}} + E_{{\\rm left}_{{\\rm conductor}_{x}}}\\left(x\\right) = -\\frac{i \\, \\frac{\\partial}{\\partial x}E_{{\\rm left}_{{\\rm conductor}_{z}}}\\left(x\\right)}{k_{z}}$"
      ],
      "text/plain": [
       "<IPython.core.display.Math object>"
      ]
     },
     "metadata": {},
     "output_type": "display_data"
    }
   ],
   "source": [
    "eq_rot_E_left_conductor_y_subs_m_Exc1 = (eq_rot_E_left_conductor_y_subs_m_Hyc1/Exlc).factor().expand()\n",
    "disp(eq_rot_E_left_conductor_y_subs_m_Exc1)"
   ]
  },
  {
   "cell_type": "code",
   "execution_count": 65,
   "metadata": {},
   "outputs": [
    {
     "name": "stdout",
     "output_type": "stream",
     "text": [
      "eq_7_l_ =\n"
     ]
    },
    {
     "data": {
      "text/latex": [
       "$\\displaystyle \\frac{\\sqrt{\\epsilon_{l}} k_{z} E_{{\\rm left}_{{\\rm conductor}_{x}}}\\left(x\\right)}{\\kappa_{l} \\sqrt{\\mu_{l}}} - \\frac{\\sqrt{\\epsilon_{l}} \\kappa_{l} E_{{\\rm left}_{{\\rm conductor}_{x}}}\\left(x\\right)}{k_{z} \\sqrt{\\mu_{l}}} - \\frac{4 i \\, \\pi \\sigma_{l} E_{{\\rm left}_{{\\rm conductor}_{x}}}\\left(x\\right)}{c k_{z}} = \\frac{k_{y} H_{{\\rm left}_{{\\rm conductor}_{f_{z}}}}\\left(x\\right)}{k_{z}} - \\frac{i \\, \\sqrt{\\epsilon_{l}} \\frac{\\partial}{\\partial x}E_{{\\rm left}_{{\\rm conductor}_{z}}}\\left(x\\right)}{\\kappa_{l} \\sqrt{\\mu_{l}}}$"
      ],
      "text/plain": [
       "<IPython.core.display.Math object>"
      ]
     },
     "metadata": {},
     "output_type": "display_data"
    },
    {
     "name": "stdout",
     "output_type": "stream",
     "text": [
      "eq_7_Ex_l_ =\n"
     ]
    },
    {
     "data": {
      "text/latex": [
       "$\\displaystyle {\\left(\\frac{\\sqrt{\\epsilon_{l}} k_{z}}{\\kappa_{l} \\sqrt{\\mu_{l}}} - \\frac{\\sqrt{\\epsilon_{l}} \\kappa_{l}}{k_{z} \\sqrt{\\mu_{l}}} - \\frac{4 i \\, \\pi \\sigma_{l}}{c k_{z}}\\right)} E_{{\\rm left}_{{\\rm conductor}_{x}}}\\left(x\\right) = \\frac{k_{y} H_{{\\rm left}_{{\\rm conductor}_{f_{z}}}}\\left(x\\right)}{k_{z}} - \\frac{i \\, \\sqrt{\\epsilon_{l}} \\frac{\\partial}{\\partial x}E_{{\\rm left}_{{\\rm conductor}_{z}}}\\left(x\\right)}{\\kappa_{l} \\sqrt{\\mu_{l}}}$"
      ],
      "text/plain": [
       "<IPython.core.display.Math object>"
      ]
     },
     "metadata": {},
     "output_type": "display_data"
    },
    {
     "name": "stdout",
     "output_type": "stream",
     "text": [
      "eq_7_Ex_l =\n"
     ]
    },
    {
     "data": {
      "text/latex": [
       "$\\displaystyle E_{{\\rm left}_{{\\rm conductor}_{x}}}\\left(x\\right) = \\frac{c k_{y} \\kappa_{l} \\sqrt{\\mu_{l}} H_{{\\rm left}_{{\\rm conductor}_{f_{z}}}}\\left(x\\right) - i \\, c \\sqrt{\\epsilon_{l}} k_{z} \\frac{\\partial}{\\partial x}E_{{\\rm left}_{{\\rm conductor}_{z}}}\\left(x\\right)}{c \\sqrt{\\epsilon_{l}} k_{z}^{2} - c \\sqrt{\\epsilon_{l}} \\kappa_{l}^{2} - 4 i \\, \\pi \\kappa_{l} \\sqrt{\\mu_{l}} \\sigma_{l}}$"
      ],
      "text/plain": [
       "<IPython.core.display.Math object>"
      ]
     },
     "metadata": {},
     "output_type": "display_data"
    },
    {
     "name": "stdout",
     "output_type": "stream",
     "text": [
      "eq_8_l_ =\n"
     ]
    },
    {
     "data": {
      "text/latex": [
       "$\\displaystyle -\\frac{c \\sqrt{\\epsilon_{l}} k_{z} \\sqrt{\\mu_{l}} H_{{\\rm left}_{{\\rm conductor}_{f_{y}}}}\\left(x\\right)}{c \\epsilon_{l} \\kappa_{l} + 4 i \\, \\pi \\sqrt{\\epsilon_{l}} \\sqrt{\\mu_{l}} \\sigma_{l}} + \\frac{\\kappa_{l} \\sqrt{\\mu_{l}} H_{{\\rm left}_{{\\rm conductor}_{f_{y}}}}\\left(x\\right)}{\\sqrt{\\epsilon_{l}} k_{z}} = -\\frac{c \\sqrt{\\epsilon_{l}} k_{y} \\sqrt{\\mu_{l}} H_{{\\rm left}_{{\\rm conductor}_{f_{z}}}}\\left(x\\right)}{c \\epsilon_{l} \\kappa_{l} + 4 i \\, \\pi \\sqrt{\\epsilon_{l}} \\sqrt{\\mu_{l}} \\sigma_{l}} + \\frac{i \\, \\frac{\\partial}{\\partial x}E_{{\\rm left}_{{\\rm conductor}_{z}}}\\left(x\\right)}{k_{z}}$"
      ],
      "text/plain": [
       "<IPython.core.display.Math object>"
      ]
     },
     "metadata": {},
     "output_type": "display_data"
    },
    {
     "name": "stdout",
     "output_type": "stream",
     "text": [
      "eq_8_Hy_l_ =\n"
     ]
    },
    {
     "data": {
      "text/latex": [
       "$\\displaystyle -{\\left(\\frac{c \\sqrt{\\epsilon_{l}} k_{z} \\sqrt{\\mu_{l}}}{c \\epsilon_{l} \\kappa_{l} + 4 i \\, \\pi \\sqrt{\\epsilon_{l}} \\sqrt{\\mu_{l}} \\sigma_{l}} - \\frac{\\kappa_{l} \\sqrt{\\mu_{l}}}{\\sqrt{\\epsilon_{l}} k_{z}}\\right)} H_{{\\rm left}_{{\\rm conductor}_{f_{y}}}}\\left(x\\right) = -\\frac{c \\sqrt{\\epsilon_{l}} k_{y} \\sqrt{\\mu_{l}} H_{{\\rm left}_{{\\rm conductor}_{f_{z}}}}\\left(x\\right)}{c \\epsilon_{l} \\kappa_{l} + 4 i \\, \\pi \\sqrt{\\epsilon_{l}} \\sqrt{\\mu_{l}} \\sigma_{l}} + \\frac{i \\, \\frac{\\partial}{\\partial x}E_{{\\rm left}_{{\\rm conductor}_{z}}}\\left(x\\right)}{k_{z}}$"
      ],
      "text/plain": [
       "<IPython.core.display.Math object>"
      ]
     },
     "metadata": {},
     "output_type": "display_data"
    },
    {
     "name": "stdout",
     "output_type": "stream",
     "text": [
      "eq_8_Hy_l =\n"
     ]
    },
    {
     "data": {
      "text/latex": [
       "$\\displaystyle H_{{\\rm left}_{{\\rm conductor}_{f_{y}}}}\\left(x\\right) = -\\frac{c \\epsilon_{l} k_{y} k_{z} \\sqrt{\\mu_{l}} H_{{\\rm left}_{{\\rm conductor}_{f_{z}}}}\\left(x\\right) - {\\left(i \\, c \\epsilon_{l}^{\\frac{3}{2}} \\kappa_{l} - 4 \\, \\pi \\epsilon_{l} \\sqrt{\\mu_{l}} \\sigma_{l}\\right)} \\frac{\\partial}{\\partial x}E_{{\\rm left}_{{\\rm conductor}_{z}}}\\left(x\\right)}{4 i \\, \\pi \\sqrt{\\epsilon_{l}} \\kappa_{l} \\mu_{l} \\sigma_{l} - {\\left(c \\epsilon_{l} k_{z}^{2} - c \\epsilon_{l} \\kappa_{l}^{2}\\right)} \\sqrt{\\mu_{l}}}$"
      ],
      "text/plain": [
       "<IPython.core.display.Math object>"
      ]
     },
     "metadata": {},
     "output_type": "display_data"
    }
   ],
   "source": [
    "# складываем два предыдущих уравения между собой предварительно перемножив каждое уравнение на множитель\n",
    "# позволяющий в левой части сократить компоненту магнитного или электрического поля\n",
    "# таким образом получаем два уравнения для оставшихся нескоращённых компонент электрического и магнитного поля\n",
    "\n",
    "# Ex\n",
    "eq_7_l_ = (eq_rot_H_left_conductor_x_subs_solve_m_Hyc1 - eq_rot_E_left_conductor_y_subs_m_Hyc1)\n",
    "print (\"eq_7_l_ =\")\n",
    "display(Math(latex(eq_7_l_)))\n",
    "\n",
    "eq_7_Ex_l_ = eq_7_l_.lhs().collect(E_left_conductor_x(x)) == eq_7_l_.rhs()\n",
    "print (\"eq_7_Ex_l_ =\")\n",
    "display(Math(latex(eq_7_Ex_l_)))\n",
    "\n",
    "eq_7_Ex_l = eq_7_Ex_l_.solve(E_left_conductor_x(x))[0]\n",
    "print (\"eq_7_Ex_l =\")\n",
    "display(Math(latex(eq_7_Ex_l)))\n",
    "\n",
    "# Hy\n",
    "eq_8_l_ = (eq_rot_H_left_conductor_x_subs_solve_m_Exc1 - eq_rot_E_left_conductor_y_subs_m_Exc1)\n",
    "print (\"eq_8_l_ =\")\n",
    "display(Math(latex(eq_8_l_)))\n",
    "\n",
    "eq_8_Hy_l_ = eq_8_l_.lhs().collect(H_left_conductor_f_y(x)) == eq_8_l_.rhs()\n",
    "print (\"eq_8_Hy_l_ =\")\n",
    "display(Math(latex(eq_8_Hy_l_)))\n",
    "\n",
    "eq_8_Hy_l = eq_8_Hy_l_.solve(H_left_conductor_f_y(x))[0]\n",
    "print (\"eq_8_Hy_l =\")\n",
    "display(Math(latex(eq_8_Hy_l)))"
   ]
  },
  {
   "cell_type": "code",
   "execution_count": 66,
   "metadata": {},
   "outputs": [
    {
     "name": "stdout",
     "output_type": "stream",
     "text": [
      "eq_rot_H_right_conductor_x rot_H = epsilon_r*d/dt(E_x) =\n"
     ]
    },
    {
     "data": {
      "text/latex": [
       "$\\displaystyle -i \\, k_{z} H_{{\\rm right}_{{\\rm conductor}_{f_{y}}}}\\left(x\\right) + i \\, k_{y} H_{{\\rm right}_{{\\rm conductor}_{f_{z}}}}\\left(x\\right) = -\\frac{i \\, {\\left(\\epsilon_{r} + \\frac{4 i \\, \\pi \\sigma_{r}}{\\omega}\\right)} \\omega E_{{\\rm right}_{{\\rm conductor}_{x}}}\\left(x\\right)}{c}$"
      ],
      "text/plain": [
       "<IPython.core.display.Math object>"
      ]
     },
     "metadata": {},
     "output_type": "display_data"
    },
    {
     "name": "stdout",
     "output_type": "stream",
     "text": [
      "eq_rot_H_right_conductor_x_subs rot_H = epsilon_r*d/dt(E_x) =\n"
     ]
    },
    {
     "data": {
      "text/latex": [
       "$\\displaystyle -i \\, k_{z} H_{{\\rm right}_{{\\rm conductor}_{f_{y}}}}\\left(x\\right) + i \\, k_{y} H_{{\\rm right}_{{\\rm conductor}_{f_{z}}}}\\left(x\\right) = -\\frac{i \\, {\\left(\\epsilon_{r} + \\frac{4 i \\, \\pi \\sqrt{\\epsilon_{r} \\mu_{r}} \\sigma_{r}}{c \\kappa_{r}}\\right)} \\kappa_{r} E_{{\\rm right}_{{\\rm conductor}_{x}}}\\left(x\\right)}{\\sqrt{\\epsilon_{r} \\mu_{r}}}$"
      ],
      "text/plain": [
       "<IPython.core.display.Math object>"
      ]
     },
     "metadata": {},
     "output_type": "display_data"
    },
    {
     "name": "stdout",
     "output_type": "stream",
     "text": [
      "eq_rot_H_right_conductor_x_subs_solve rot H = epsilon_r*d/dt(E_x) =\n"
     ]
    },
    {
     "data": {
      "text/latex": [
       "$\\displaystyle \\kappa_{r} E_{{\\rm right}_{{\\rm conductor}_{x}}}\\left(x\\right) = \\frac{{\\left(\\sqrt{\\epsilon_{r} \\mu_{r}} c k_{z} H_{{\\rm right}_{{\\rm conductor}_{f_{y}}}}\\left(x\\right) - \\sqrt{\\epsilon_{r} \\mu_{r}} c k_{y} H_{{\\rm right}_{{\\rm conductor}_{f_{z}}}}\\left(x\\right)\\right)} \\kappa_{r}}{c \\epsilon_{r} \\kappa_{r} + 4 i \\, \\pi \\sqrt{\\epsilon_{r} \\mu_{r}} \\sigma_{r}}$"
      ],
      "text/plain": [
       "<IPython.core.display.Math object>"
      ]
     },
     "metadata": {},
     "output_type": "display_data"
    },
    {
     "name": "stdout",
     "output_type": "stream",
     "text": [
      "eq_rot_E_right_conductor_y_subs (x) rot E =\n"
     ]
    },
    {
     "data": {
      "text/latex": [
       "$\\displaystyle \\kappa_{r} H_{{\\rm right}_{{\\rm conductor}_{f_{y}}}}\\left(x\\right) = -\\frac{i \\, \\sqrt{\\epsilon_{r} \\mu_{r}} {\\left(i \\, k_{z} E_{{\\rm right}_{{\\rm conductor}_{x}}}\\left(x\\right) - \\frac{\\partial}{\\partial x}E_{{\\rm right}_{{\\rm conductor}_{z}}}\\left(x\\right)\\right)}}{\\mu_{r}}$"
      ],
      "text/plain": [
       "<IPython.core.display.Math object>"
      ]
     },
     "metadata": {},
     "output_type": "display_data"
    },
    {
     "name": "stdout",
     "output_type": "stream",
     "text": [
      "eq_rot_H_right_conductor_x_subs_solve_m =\n"
     ]
    },
    {
     "data": {
      "text/latex": [
       "$\\displaystyle -\\frac{c \\sqrt{\\epsilon_{r}} k_{z} \\kappa_{r} \\sqrt{\\mu_{r}} H_{{\\rm right}_{{\\rm conductor}_{f_{y}}}}\\left(x\\right)}{c \\epsilon_{r} \\kappa_{r} + 4 i \\, \\pi \\sqrt{\\epsilon_{r}} \\sqrt{\\mu_{r}} \\sigma_{r}} + \\kappa_{r} E_{{\\rm right}_{{\\rm conductor}_{x}}}\\left(x\\right) = -\\frac{c \\sqrt{\\epsilon_{r}} k_{y} \\kappa_{r} \\sqrt{\\mu_{r}} H_{{\\rm right}_{{\\rm conductor}_{f_{z}}}}\\left(x\\right)}{c \\epsilon_{r} \\kappa_{r} + 4 i \\, \\pi \\sqrt{\\epsilon_{r}} \\sqrt{\\mu_{r}} \\sigma_{r}}$"
      ],
      "text/plain": [
       "<IPython.core.display.Math object>"
      ]
     },
     "metadata": {},
     "output_type": "display_data"
    },
    {
     "name": "stdout",
     "output_type": "stream",
     "text": [
      "eq_rot_H_right_conductor_x_subs_solve_m_Exc1 =\n"
     ]
    },
    {
     "data": {
      "text/latex": [
       "$\\displaystyle -\\frac{c \\sqrt{\\epsilon_{r}} k_{z} \\sqrt{\\mu_{r}} H_{{\\rm right}_{{\\rm conductor}_{f_{y}}}}\\left(x\\right)}{c \\epsilon_{r} \\kappa_{r} + 4 i \\, \\pi \\sqrt{\\epsilon_{r}} \\sqrt{\\mu_{r}} \\sigma_{r}} + E_{{\\rm right}_{{\\rm conductor}_{x}}}\\left(x\\right) = -\\frac{c \\sqrt{\\epsilon_{r}} k_{y} \\sqrt{\\mu_{r}} H_{{\\rm right}_{{\\rm conductor}_{f_{z}}}}\\left(x\\right)}{c \\epsilon_{r} \\kappa_{r} + 4 i \\, \\pi \\sqrt{\\epsilon_{r}} \\sqrt{\\mu_{r}} \\sigma_{r}}$"
      ],
      "text/plain": [
       "<IPython.core.display.Math object>"
      ]
     },
     "metadata": {},
     "output_type": "display_data"
    },
    {
     "name": "stdout",
     "output_type": "stream",
     "text": [
      "eq_rot_E_right_conductor_y_subs_m =\n"
     ]
    },
    {
     "data": {
      "text/latex": [
       "$\\displaystyle -\\frac{\\sqrt{\\epsilon_{r}} k_{z} E_{{\\rm right}_{{\\rm conductor}_{x}}}\\left(x\\right)}{\\sqrt{\\mu_{r}}} + \\kappa_{r} H_{{\\rm right}_{{\\rm conductor}_{f_{y}}}}\\left(x\\right) = \\frac{i \\, \\sqrt{\\epsilon_{r}} \\frac{\\partial}{\\partial x}E_{{\\rm right}_{{\\rm conductor}_{z}}}\\left(x\\right)}{\\sqrt{\\mu_{r}}}$"
      ],
      "text/plain": [
       "<IPython.core.display.Math object>"
      ]
     },
     "metadata": {},
     "output_type": "display_data"
    },
    {
     "name": "stdout",
     "output_type": "stream",
     "text": [
      "eq_rot_E_right_conductor_y_subs_m_Hyc1 =\n"
     ]
    },
    {
     "data": {
      "text/latex": [
       "$\\displaystyle -\\frac{\\sqrt{\\epsilon_{r}} k_{z} E_{{\\rm right}_{{\\rm conductor}_{x}}}\\left(x\\right)}{\\kappa_{r} \\sqrt{\\mu_{r}}} + H_{{\\rm right}_{{\\rm conductor}_{f_{y}}}}\\left(x\\right) = \\frac{i \\, \\sqrt{\\epsilon_{r}} \\frac{\\partial}{\\partial x}E_{{\\rm right}_{{\\rm conductor}_{z}}}\\left(x\\right)}{\\kappa_{r} \\sqrt{\\mu_{r}}}$"
      ],
      "text/plain": [
       "<IPython.core.display.Math object>"
      ]
     },
     "metadata": {},
     "output_type": "display_data"
    }
   ],
   "source": [
    "eq_rot_H_right_conductor_x_subs       = eq_rot_H_right_conductor_x.subs(omega==c*kappa_r/sqrt(epsilon_r*mu_r))\n",
    "print (\"eq_rot_H_right_conductor_x rot_H = epsilon_r*d/dt(E_x) =\")\n",
    "display(Math(latex(eq_rot_H_right_conductor_x)))\n",
    "\n",
    "print (\"eq_rot_H_right_conductor_x_subs rot_H = epsilon_r*d/dt(E_x) =\")\n",
    "display(Math(latex(eq_rot_H_right_conductor_x_subs)))\n",
    "\n",
    "\n",
    "eq_rot_H_right_conductor_x_subs_solve = solve(eq_rot_H_right_conductor_x_subs, E_right_conductor_x(x))[0] * kappa_r\n",
    "print (\"eq_rot_H_right_conductor_x_subs_solve rot H = epsilon_r*d/dt(E_x) =\")\n",
    "display(Math(latex(eq_rot_H_right_conductor_x_subs_solve)))\n",
    "\n",
    "eq_rot_E_right_conductor_y = H_right_conductor_f_y(x) == H_right_conductor_s_y(x)\n",
    "eq_rot_E_right_conductor_y_subs = eq_rot_E_right_conductor_y.subs(omega==c*kappa_r/sqrt(epsilon_r*mu_r)) * kappa_r\n",
    "print (\"eq_rot_E_right_conductor_y_subs (x) rot E =\")\n",
    "display(Math(latex(eq_rot_E_right_conductor_y_subs)))\n",
    "\n",
    "eq_rot_H_right_conductor_x_subs_solve_m \\\n",
    "    =  eq_rot_H_right_conductor_x_subs_solve.expand() \\\n",
    "    -  eq_rot_H_right_conductor_x_subs_solve.rhs().expand().operands()[0]\n",
    "print (\"eq_rot_H_right_conductor_x_subs_solve_m =\")\n",
    "display(Math(latex(eq_rot_H_right_conductor_x_subs_solve_m)))\n",
    "\n",
    "eq_rot_H_right_conductor_x_subs_solve_m_Exc1 = (eq_rot_H_right_conductor_x_subs_solve_m / kappa_r).expand()\n",
    "print (\"eq_rot_H_right_conductor_x_subs_solve_m_Exc1 =\")\n",
    "display(Math(latex(eq_rot_H_right_conductor_x_subs_solve_m_Exc1)))\n",
    "\n",
    "eq_rot_E_right_conductor_y_subs_m \\\n",
    "    =  eq_rot_E_right_conductor_y_subs.expand() \\\n",
    "    -  eq_rot_E_right_conductor_y_subs.rhs().expand().operands()[0]\n",
    "print (\"eq_rot_E_right_conductor_y_subs_m =\")\n",
    "display(Math(latex(eq_rot_E_right_conductor_y_subs_m)))\n",
    "\n",
    "eq_rot_E_right_conductor_y_subs_m_Hyc1 = (eq_rot_E_right_conductor_y_subs_m / kappa_r).expand()\n",
    "print (\"eq_rot_E_right_conductor_y_subs_m_Hyc1 =\")\n",
    "display(Math(latex(eq_rot_E_right_conductor_y_subs_m_Hyc1)))\n"
   ]
  },
  {
   "cell_type": "code",
   "execution_count": 67,
   "metadata": {},
   "outputs": [],
   "source": [
    "# выделяем из левых частей множители\n",
    "# с помощью которых мы будем производить сокращение компонент полей при сложении уравнений"
   ]
  },
  {
   "cell_type": "code",
   "execution_count": 68,
   "metadata": {},
   "outputs": [
    {
     "data": {
      "text/latex": [
       "$\\displaystyle -\\frac{\\sqrt{\\epsilon_{r}} k_{z}}{\\kappa_{r} \\sqrt{\\mu_{r}}}$"
      ],
      "text/plain": [
       "<IPython.core.display.Math object>"
      ]
     },
     "metadata": {},
     "output_type": "display_data"
    }
   ],
   "source": [
    "Exrc = eq_rot_E_right_conductor_y_subs_m_Hyc1.lhs().coefficient(E_right_conductor_x(x))\n",
    "display(Math(latex(Exrc)))"
   ]
  },
  {
   "cell_type": "code",
   "execution_count": 69,
   "metadata": {},
   "outputs": [
    {
     "data": {
      "text/latex": [
       "$\\displaystyle -\\frac{c \\sqrt{\\epsilon_{r}} k_{z} \\sqrt{\\mu_{r}}}{c \\epsilon_{r} \\kappa_{r} + 4 i \\, \\pi \\sqrt{\\epsilon_{r}} \\sqrt{\\mu_{r}} \\sigma_{r}}$"
      ],
      "text/plain": [
       "<IPython.core.display.Math object>"
      ]
     },
     "metadata": {},
     "output_type": "display_data"
    }
   ],
   "source": [
    "Hyrc = eq_rot_H_right_conductor_x_subs_solve_m_Exc1.lhs().coefficient(H_right_conductor_f_y(x))\n",
    "display(Math(latex(Hyrc)))"
   ]
  },
  {
   "cell_type": "code",
   "execution_count": 70,
   "metadata": {},
   "outputs": [
    {
     "data": {
      "text/latex": [
       "$\\displaystyle -\\frac{\\sqrt{\\epsilon_{r}} \\kappa_{r} E_{{\\rm right}_{{\\rm conductor}_{x}}}\\left(x\\right)}{k_{z} \\sqrt{\\mu_{r}}} - \\frac{4 i \\, \\pi \\sigma_{r} E_{{\\rm right}_{{\\rm conductor}_{x}}}\\left(x\\right)}{c k_{z}} + H_{{\\rm right}_{{\\rm conductor}_{f_{y}}}}\\left(x\\right) = \\frac{k_{y} H_{{\\rm right}_{{\\rm conductor}_{f_{z}}}}\\left(x\\right)}{k_{z}}$"
      ],
      "text/plain": [
       "<IPython.core.display.Math object>"
      ]
     },
     "metadata": {},
     "output_type": "display_data"
    }
   ],
   "source": [
    "eq_rot_H_right_conductor_x_subs_solve_m_Hyc1 = (eq_rot_H_right_conductor_x_subs_solve_m_Exc1/Hyrc).factor().expand()\n",
    "disp(eq_rot_H_right_conductor_x_subs_solve_m_Hyc1)"
   ]
  },
  {
   "cell_type": "code",
   "execution_count": 71,
   "metadata": {},
   "outputs": [
    {
     "data": {
      "text/latex": [
       "$\\displaystyle -\\frac{\\kappa_{r} \\sqrt{\\mu_{r}} H_{{\\rm right}_{{\\rm conductor}_{f_{y}}}}\\left(x\\right)}{\\sqrt{\\epsilon_{r}} k_{z}} + E_{{\\rm right}_{{\\rm conductor}_{x}}}\\left(x\\right) = -\\frac{i \\, \\frac{\\partial}{\\partial x}E_{{\\rm right}_{{\\rm conductor}_{z}}}\\left(x\\right)}{k_{z}}$"
      ],
      "text/plain": [
       "<IPython.core.display.Math object>"
      ]
     },
     "metadata": {},
     "output_type": "display_data"
    }
   ],
   "source": [
    "eq_rot_E_right_conductor_y_subs_m_Exc1 = (eq_rot_E_right_conductor_y_subs_m_Hyc1/Exrc).factor().expand()\n",
    "disp(eq_rot_E_right_conductor_y_subs_m_Exc1)"
   ]
  },
  {
   "cell_type": "code",
   "execution_count": 72,
   "metadata": {},
   "outputs": [
    {
     "name": "stdout",
     "output_type": "stream",
     "text": [
      "eq_7_Ex_r_ =\n"
     ]
    },
    {
     "data": {
      "text/latex": [
       "$\\displaystyle {\\left(\\frac{\\sqrt{\\epsilon_{r}} k_{z}}{\\kappa_{r} \\sqrt{\\mu_{r}}} - \\frac{\\sqrt{\\epsilon_{r}} \\kappa_{r}}{k_{z} \\sqrt{\\mu_{r}}} - \\frac{4 i \\, \\pi \\sigma_{r}}{c k_{z}}\\right)} E_{{\\rm right}_{{\\rm conductor}_{x}}}\\left(x\\right) = \\frac{k_{y} H_{{\\rm right}_{{\\rm conductor}_{f_{z}}}}\\left(x\\right)}{k_{z}} - \\frac{i \\, \\sqrt{\\epsilon_{r}} \\frac{\\partial}{\\partial x}E_{{\\rm right}_{{\\rm conductor}_{z}}}\\left(x\\right)}{\\kappa_{r} \\sqrt{\\mu_{r}}}$"
      ],
      "text/plain": [
       "<IPython.core.display.Math object>"
      ]
     },
     "metadata": {},
     "output_type": "display_data"
    },
    {
     "name": "stdout",
     "output_type": "stream",
     "text": [
      "eq_7_Ex_r =\n"
     ]
    },
    {
     "data": {
      "text/latex": [
       "$\\displaystyle E_{{\\rm right}_{{\\rm conductor}_{x}}}\\left(x\\right) = \\frac{c k_{y} \\kappa_{r} \\sqrt{\\mu_{r}} H_{{\\rm right}_{{\\rm conductor}_{f_{z}}}}\\left(x\\right) - i \\, c \\sqrt{\\epsilon_{r}} k_{z} \\frac{\\partial}{\\partial x}E_{{\\rm right}_{{\\rm conductor}_{z}}}\\left(x\\right)}{c \\sqrt{\\epsilon_{r}} k_{z}^{2} - c \\sqrt{\\epsilon_{r}} \\kappa_{r}^{2} - 4 i \\, \\pi \\kappa_{r} \\sqrt{\\mu_{r}} \\sigma_{r}}$"
      ],
      "text/plain": [
       "<IPython.core.display.Math object>"
      ]
     },
     "metadata": {},
     "output_type": "display_data"
    },
    {
     "name": "stdout",
     "output_type": "stream",
     "text": [
      "eq_8_Hy_r_ =\n"
     ]
    },
    {
     "data": {
      "text/latex": [
       "$\\displaystyle -{\\left(\\frac{c \\sqrt{\\epsilon_{r}} k_{z} \\sqrt{\\mu_{r}}}{c \\epsilon_{r} \\kappa_{r} + 4 i \\, \\pi \\sqrt{\\epsilon_{r}} \\sqrt{\\mu_{r}} \\sigma_{r}} - \\frac{\\kappa_{r} \\sqrt{\\mu_{r}}}{\\sqrt{\\epsilon_{r}} k_{z}}\\right)} H_{{\\rm right}_{{\\rm conductor}_{f_{y}}}}\\left(x\\right) = -\\frac{c \\sqrt{\\epsilon_{r}} k_{y} \\sqrt{\\mu_{r}} H_{{\\rm right}_{{\\rm conductor}_{f_{z}}}}\\left(x\\right)}{c \\epsilon_{r} \\kappa_{r} + 4 i \\, \\pi \\sqrt{\\epsilon_{r}} \\sqrt{\\mu_{r}} \\sigma_{r}} + \\frac{i \\, \\frac{\\partial}{\\partial x}E_{{\\rm right}_{{\\rm conductor}_{z}}}\\left(x\\right)}{k_{z}}$"
      ],
      "text/plain": [
       "<IPython.core.display.Math object>"
      ]
     },
     "metadata": {},
     "output_type": "display_data"
    },
    {
     "name": "stdout",
     "output_type": "stream",
     "text": [
      "eq_8_Hy_r =\n"
     ]
    },
    {
     "data": {
      "text/latex": [
       "$\\displaystyle H_{{\\rm right}_{{\\rm conductor}_{f_{y}}}}\\left(x\\right) = -\\frac{c \\epsilon_{r} k_{y} k_{z} \\sqrt{\\mu_{r}} H_{{\\rm right}_{{\\rm conductor}_{f_{z}}}}\\left(x\\right) - {\\left(i \\, c \\epsilon_{r}^{\\frac{3}{2}} \\kappa_{r} - 4 \\, \\pi \\epsilon_{r} \\sqrt{\\mu_{r}} \\sigma_{r}\\right)} \\frac{\\partial}{\\partial x}E_{{\\rm right}_{{\\rm conductor}_{z}}}\\left(x\\right)}{4 i \\, \\pi \\sqrt{\\epsilon_{r}} \\kappa_{r} \\mu_{r} \\sigma_{r} - {\\left(c \\epsilon_{r} k_{z}^{2} - c \\epsilon_{r} \\kappa_{r}^{2}\\right)} \\sqrt{\\mu_{r}}}$"
      ],
      "text/plain": [
       "<IPython.core.display.Math object>"
      ]
     },
     "metadata": {},
     "output_type": "display_data"
    }
   ],
   "source": [
    "# складываем два предыдущих уравения между собой предварительно перемножив каждое уравнение на множитель\n",
    "# позволяющий в левой части сократить компоненту магнитного или электрического поля\n",
    "# таким образом получаем два уравнения для оставшихся нескоращённых компонент электрического и магнитного поля\n",
    "\n",
    "# Ex\n",
    "eq_7_r_ = (eq_rot_H_right_conductor_x_subs_solve_m_Hyc1 - eq_rot_E_right_conductor_y_subs_m_Hyc1)\n",
    "#print (\"eq_7_r_ =\")\n",
    "#display(Math(latex(eq_7_r_)))\n",
    "\n",
    "eq_7_Ex_r_ = eq_7_r_.lhs().collect(E_right_conductor_x(x)) == eq_7_r_.rhs()\n",
    "print (\"eq_7_Ex_r_ =\")\n",
    "display(Math(latex(eq_7_Ex_r_)))\n",
    "\n",
    "eq_7_Ex_r = eq_7_Ex_r_.solve(E_right_conductor_x(x))[0]\n",
    "print (\"eq_7_Ex_r =\")\n",
    "display(Math(latex(eq_7_Ex_r)))\n",
    "\n",
    "# Hy\n",
    "eq_8_r_ = (eq_rot_H_right_conductor_x_subs_solve_m_Exc1 - eq_rot_E_right_conductor_y_subs_m_Exc1)\n",
    "#print (\"eq_8_r_ =\")\n",
    "#display(Math(latex(eq_8_r_)))\n",
    "\n",
    "eq_8_Hy_r_ = eq_8_r_.lhs().collect(H_right_conductor_f_y(x)) == eq_8_r_.rhs()\n",
    "print (\"eq_8_Hy_r_ =\")\n",
    "display(Math(latex(eq_8_Hy_r_)))\n",
    "\n",
    "eq_8_Hy_r = eq_8_Hy_r_.solve(H_right_conductor_f_y(x))[0]\n",
    "print (\"eq_8_Hy_r =\")\n",
    "display(Math(latex(eq_8_Hy_r)))"
   ]
  },
  {
   "cell_type": "code",
   "execution_count": null,
   "metadata": {},
   "outputs": [],
   "source": []
  },
  {
   "cell_type": "code",
   "execution_count": 79,
   "metadata": {},
   "outputs": [],
   "source": [
    "K_vacuum_subs = K_vacuum == sqrt(kappa_vacuum^2-k_z^2)\n",
    "K_left_conductor_subs = K_left_conductor == sqrt(kappa_l^2-k_z^2)\n",
    "K_right_conductor_subs = K_right_conductor == sqrt(kappa_r^2-k_z^2)"
   ]
  },
  {
   "cell_type": "code",
   "execution_count": null,
   "metadata": {},
   "outputs": [],
   "source": []
  },
  {
   "cell_type": "code",
   "execution_count": 80,
   "metadata": {},
   "outputs": [
    {
     "name": "stdout",
     "output_type": "stream",
     "text": [
      "eq_1 =\n"
     ]
    },
    {
     "data": {
      "text/latex": [
       "$\\displaystyle -{\\left(k_{z}^{2} - \\kappa_{\\mathit{vacuum}}^{2}\\right)} E_{{\\rm inner}_{{\\rm vacuum}_{y}}}\\left(x\\right) = -k_{y} k_{z} E_{{\\rm inner}_{{\\rm vacuum}_{z}}}\\left(x\\right) - i \\, \\kappa_{\\mathit{vacuum}} \\frac{\\partial}{\\partial x}H_{{\\rm inner}_{{\\rm vacuum}_{f_{z}}}}\\left(x\\right)$"
      ],
      "text/plain": [
       "<IPython.core.display.Math object>"
      ]
     },
     "metadata": {},
     "output_type": "display_data"
    },
    {
     "name": "stdout",
     "output_type": "stream",
     "text": [
      "eq_2 =\n"
     ]
    },
    {
     "data": {
      "text/latex": [
       "$\\displaystyle {\\left(k_{z}^{2} - \\kappa_{\\mathit{vacuum}}^{2}\\right)} H_{{\\rm inner}_{{\\rm vacuum}_{f_{x}}}}\\left(x\\right) = -k_{y} \\kappa_{\\mathit{vacuum}} E_{{\\rm inner}_{{\\rm vacuum}_{z}}}\\left(x\\right) - i \\, k_{z} \\frac{\\partial}{\\partial x}H_{{\\rm inner}_{{\\rm vacuum}_{f_{z}}}}\\left(x\\right)$"
      ],
      "text/plain": [
       "<IPython.core.display.Math object>"
      ]
     },
     "metadata": {},
     "output_type": "display_data"
    }
   ],
   "source": [
    "print (\"eq_1 =\")\n",
    "#print             (eq_1)\n",
    "display(Math(latex(eq_1)))\n",
    "\n",
    "print (\"eq_2 =\")\n",
    "#print             (eq_2)\n",
    "display(Math(latex(eq_2)))\n"
   ]
  },
  {
   "cell_type": "raw",
   "metadata": {},
   "source": [
    "print (\"eq_3 =\")\n",
    "print             (eq_3)\n",
    "display(Math(latex(eq_3)))\n",
    "\n",
    "print (\"eq_4 =\")\n",
    "print             (eq_4)\n",
    "display(Math(latex(eq_4)))"
   ]
  },
  {
   "cell_type": "code",
   "execution_count": 81,
   "metadata": {},
   "outputs": [
    {
     "name": "stdout",
     "output_type": "stream",
     "text": [
      "eq_1 =\n"
     ]
    },
    {
     "data": {
      "text/latex": [
       "$\\displaystyle -{\\left(k_{z}^{2} - \\kappa_{\\mathit{vacuum}}^{2}\\right)} E_{{\\rm inner}_{{\\rm vacuum}_{y}}}\\left(x\\right) = -k_{y} k_{z} E_{{\\rm inner}_{{\\rm vacuum}_{z}}}\\left(x\\right) - i \\, \\kappa_{\\mathit{vacuum}} \\frac{\\partial}{\\partial x}H_{{\\rm inner}_{{\\rm vacuum}_{f_{z}}}}\\left(x\\right)$"
      ],
      "text/plain": [
       "<IPython.core.display.Math object>"
      ]
     },
     "metadata": {},
     "output_type": "display_data"
    }
   ],
   "source": [
    "print (\"eq_1 =\")\n",
    "#print             (eq_1)\n",
    "display(Math(latex(eq_1)))"
   ]
  },
  {
   "cell_type": "code",
   "execution_count": 82,
   "metadata": {
    "scrolled": true
   },
   "outputs": [
    {
     "data": {
      "text/latex": [
       "$\\displaystyle -{\\left(k_{z}^{2} - \\kappa_{\\mathit{vacuum}}^{2}\\right)} E_{{\\rm inner}_{{\\rm vacuum}_{y}}}\\left(x\\right) = -i \\, \\kappa_{\\mathit{vacuum}} \\frac{\\partial}{\\partial x}H_{{\\rm inner}_{{\\rm vacuum}_{f_{z}}}}\\left(x\\right)$"
      ],
      "text/plain": [
       "<IPython.core.display.Math object>"
      ]
     },
     "metadata": {},
     "output_type": "display_data"
    }
   ],
   "source": [
    "eq_1_subs1 = eq_1.subs(k_y == 0)\n",
    "#print             (eq_1_subs1)\n",
    "display(Math(latex(eq_1_subs1)))"
   ]
  },
  {
   "cell_type": "code",
   "execution_count": 83,
   "metadata": {
    "scrolled": true
   },
   "outputs": [
    {
     "data": {
      "text/latex": [
       "$\\displaystyle E_{{\\rm inner}_{{\\rm vacuum}_{y}}}\\left(x\\right) = \\frac{i \\, \\kappa_{\\mathit{vacuum}} \\frac{\\partial}{\\partial x}H_{{\\rm inner}_{{\\rm vacuum}_{f_{z}}}}\\left(x\\right)}{k_{z}^{2} - \\kappa_{\\mathit{vacuum}}^{2}}$"
      ],
      "text/plain": [
       "<IPython.core.display.Math object>"
      ]
     },
     "metadata": {},
     "output_type": "display_data"
    }
   ],
   "source": [
    "eq_1_subs2 = (eq_1_subs1/(kappa_vacuum^2 - k_z^2)).full_simplify()\n",
    "#print             (eq_1_subs2)\n",
    "display(Math(latex(eq_1_subs2)))"
   ]
  },
  {
   "cell_type": "code",
   "execution_count": 84,
   "metadata": {
    "scrolled": true
   },
   "outputs": [
    {
     "name": "stdout",
     "output_type": "stream",
     "text": [
      "E_inner_vacuum_y(x) == -(A2_y*K_vacuum^2*e^(I*K_vacuum*x) + A1_y*K_vacuum^2*e^(-I*K_vacuum*x) + I*(I*A2_x*K_vacuum*e^(I*K_vacuum*x) - I*A1_x*K_vacuum*e^(-I*K_vacuum*x))*k_y)*c*kappa_vacuum/((k_z^2 - kappa_vacuum^2)*omega)\n"
     ]
    },
    {
     "data": {
      "text/latex": [
       "$\\displaystyle E_{{\\rm inner}_{{\\rm vacuum}_{y}}}\\left(x\\right) = -\\frac{{\\left(\\mathit{A2}_{y} K_{\\mathit{vacuum}}^{2} e^{\\left(i \\, K_{\\mathit{vacuum}} x\\right)} + \\mathit{A1}_{y} K_{\\mathit{vacuum}}^{2} e^{\\left(-i \\, K_{\\mathit{vacuum}} x\\right)} + i \\, {\\left(i \\, \\mathit{A2}_{x} K_{\\mathit{vacuum}} e^{\\left(i \\, K_{\\mathit{vacuum}} x\\right)} - i \\, \\mathit{A1}_{x} K_{\\mathit{vacuum}} e^{\\left(-i \\, K_{\\mathit{vacuum}} x\\right)}\\right)} k_{y}\\right)} c \\kappa_{\\mathit{vacuum}}}{{\\left(k_{z}^{2} - \\kappa_{\\mathit{vacuum}}^{2}\\right)} \\omega}$"
      ],
      "text/plain": [
       "<IPython.core.display.Math object>"
      ]
     },
     "metadata": {},
     "output_type": "display_data"
    }
   ],
   "source": [
    "eq_1_subs3 = eq_1_subs2.substitute_function(H_inner_vacuum_f_z, H_inner_vacuum_sol_z)\n",
    "print             (eq_1_subs3)\n",
    "display(Math(latex(eq_1_subs3)))"
   ]
  },
  {
   "cell_type": "code",
   "execution_count": 85,
   "metadata": {},
   "outputs": [
    {
     "data": {
      "text/latex": [
       "$\\displaystyle E_{{\\rm inner}_{{\\rm vacuum}_{y}}}\\left(x\\right) = -\\frac{\\mathit{A2}_{y} K_{\\mathit{vacuum}}^{2} e^{\\left(i \\, K_{\\mathit{vacuum}} x\\right)} + \\mathit{A1}_{y} K_{\\mathit{vacuum}}^{2} e^{\\left(-i \\, K_{\\mathit{vacuum}} x\\right)} + i \\, {\\left(i \\, \\mathit{A2}_{x} K_{\\mathit{vacuum}} e^{\\left(i \\, K_{\\mathit{vacuum}} x\\right)} - i \\, \\mathit{A1}_{x} K_{\\mathit{vacuum}} e^{\\left(-i \\, K_{\\mathit{vacuum}} x\\right)}\\right)} k_{y}}{k_{z}^{2} - \\kappa_{\\mathit{vacuum}}^{2}}$"
      ],
      "text/plain": [
       "<IPython.core.display.Math object>"
      ]
     },
     "metadata": {},
     "output_type": "display_data"
    }
   ],
   "source": [
    "eq_1_subs4 = eq_1_subs3.subs(omega==c*kappa_vacuum/sqrt(epsilon_0*mu_0))\n",
    "#print             (eq_1_subs4)\n",
    "display(Math(latex(eq_1_subs4)))"
   ]
  },
  {
   "cell_type": "code",
   "execution_count": null,
   "metadata": {},
   "outputs": [],
   "source": []
  },
  {
   "cell_type": "code",
   "execution_count": 86,
   "metadata": {},
   "outputs": [
    {
     "name": "stdout",
     "output_type": "stream",
     "text": [
      "eq_2 =\n"
     ]
    },
    {
     "data": {
      "text/latex": [
       "$\\displaystyle {\\left(k_{z}^{2} - \\kappa_{\\mathit{vacuum}}^{2}\\right)} H_{{\\rm inner}_{{\\rm vacuum}_{f_{x}}}}\\left(x\\right) = -k_{y} \\kappa_{\\mathit{vacuum}} E_{{\\rm inner}_{{\\rm vacuum}_{z}}}\\left(x\\right) - i \\, k_{z} \\frac{\\partial}{\\partial x}H_{{\\rm inner}_{{\\rm vacuum}_{f_{z}}}}\\left(x\\right)$"
      ],
      "text/plain": [
       "<IPython.core.display.Math object>"
      ]
     },
     "metadata": {},
     "output_type": "display_data"
    }
   ],
   "source": [
    "print (\"eq_2 =\")\n",
    "#print             (eq_2)\n",
    "display(Math(latex(eq_2)))"
   ]
  },
  {
   "cell_type": "code",
   "execution_count": 87,
   "metadata": {
    "scrolled": true
   },
   "outputs": [
    {
     "data": {
      "text/latex": [
       "$\\displaystyle {\\left(k_{z}^{2} - \\kappa_{\\mathit{vacuum}}^{2}\\right)} H_{{\\rm inner}_{{\\rm vacuum}_{f_{x}}}}\\left(x\\right) = -i \\, k_{z} \\frac{\\partial}{\\partial x}H_{{\\rm inner}_{{\\rm vacuum}_{f_{z}}}}\\left(x\\right)$"
      ],
      "text/plain": [
       "<IPython.core.display.Math object>"
      ]
     },
     "metadata": {},
     "output_type": "display_data"
    }
   ],
   "source": [
    "eq_2_subs1 = eq_2.subs(k_y == 0)\n",
    "#print             (eq_2_subs1)\n",
    "display(Math(latex(eq_2_subs1)))"
   ]
  },
  {
   "cell_type": "code",
   "execution_count": 88,
   "metadata": {
    "scrolled": true
   },
   "outputs": [
    {
     "data": {
      "text/latex": [
       "$\\displaystyle -H_{{\\rm inner}_{{\\rm vacuum}_{f_{x}}}}\\left(x\\right) = \\frac{i \\, k_{z} \\frac{\\partial}{\\partial x}H_{{\\rm inner}_{{\\rm vacuum}_{f_{z}}}}\\left(x\\right)}{k_{z}^{2} - \\kappa_{\\mathit{vacuum}}^{2}}$"
      ],
      "text/plain": [
       "<IPython.core.display.Math object>"
      ]
     },
     "metadata": {},
     "output_type": "display_data"
    }
   ],
   "source": [
    "eq_2_subs2 = (eq_2_subs1/(kappa_vacuum^2 - k_z^2)).full_simplify()\n",
    "#print             (eq_2_subs2)\n",
    "display(Math(latex(eq_2_subs2)))"
   ]
  },
  {
   "cell_type": "code",
   "execution_count": 89,
   "metadata": {
    "scrolled": true
   },
   "outputs": [
    {
     "data": {
      "text/latex": [
       "$\\displaystyle -H_{{\\rm inner}_{{\\rm vacuum}_{f_{x}}}}\\left(x\\right) = -\\frac{{\\left(\\mathit{A2}_{y} K_{\\mathit{vacuum}}^{2} e^{\\left(i \\, K_{\\mathit{vacuum}} x\\right)} + \\mathit{A1}_{y} K_{\\mathit{vacuum}}^{2} e^{\\left(-i \\, K_{\\mathit{vacuum}} x\\right)} + i \\, {\\left(i \\, \\mathit{A2}_{x} K_{\\mathit{vacuum}} e^{\\left(i \\, K_{\\mathit{vacuum}} x\\right)} - i \\, \\mathit{A1}_{x} K_{\\mathit{vacuum}} e^{\\left(-i \\, K_{\\mathit{vacuum}} x\\right)}\\right)} k_{y}\\right)} c k_{z}}{{\\left(k_{z}^{2} - \\kappa_{\\mathit{vacuum}}^{2}\\right)} \\omega}$"
      ],
      "text/plain": [
       "<IPython.core.display.Math object>"
      ]
     },
     "metadata": {},
     "output_type": "display_data"
    }
   ],
   "source": [
    "eq_2_subs3 = eq_2_subs2.substitute_function(H_inner_vacuum_f_z, H_inner_vacuum_sol_z)\n",
    "#print             (eq_2_subs3)\n",
    "display(Math(latex(eq_2_subs3)))"
   ]
  },
  {
   "cell_type": "code",
   "execution_count": 90,
   "metadata": {},
   "outputs": [
    {
     "data": {
      "text/latex": [
       "$\\displaystyle -H_{{\\rm inner}_{{\\rm vacuum}_{f_{x}}}}\\left(x\\right) = -\\frac{{\\left(\\mathit{A2}_{y} K_{\\mathit{vacuum}}^{2} e^{\\left(i \\, K_{\\mathit{vacuum}} x\\right)} + \\mathit{A1}_{y} K_{\\mathit{vacuum}}^{2} e^{\\left(-i \\, K_{\\mathit{vacuum}} x\\right)} + i \\, {\\left(i \\, \\mathit{A2}_{x} K_{\\mathit{vacuum}} e^{\\left(i \\, K_{\\mathit{vacuum}} x\\right)} - i \\, \\mathit{A1}_{x} K_{\\mathit{vacuum}} e^{\\left(-i \\, K_{\\mathit{vacuum}} x\\right)}\\right)} k_{y}\\right)} k_{z}}{{\\left(k_{z}^{2} - \\kappa_{\\mathit{vacuum}}^{2}\\right)} \\kappa_{\\mathit{vacuum}}}$"
      ],
      "text/plain": [
       "<IPython.core.display.Math object>"
      ]
     },
     "metadata": {},
     "output_type": "display_data"
    }
   ],
   "source": [
    "eq_2_subs4 = eq_2_subs3.subs(omega==c*kappa_vacuum/sqrt(epsilon_0*mu_0))\n",
    "#print             (eq_2_subs4)\n",
    "display(Math(latex(eq_2_subs4)))"
   ]
  },
  {
   "cell_type": "code",
   "execution_count": null,
   "metadata": {},
   "outputs": [],
   "source": []
  },
  {
   "cell_type": "raw",
   "metadata": {},
   "source": [
    "print (\"eq_3 =\")\n",
    "print             (eq_3)\n",
    "display(Math(latex(eq_3)))"
   ]
  },
  {
   "cell_type": "raw",
   "metadata": {
    "scrolled": true
   },
   "source": [
    "eq_3_subs1 = eq_3.subs(k_y == 0)\n",
    "print             (eq_3_subs1)\n",
    "display(Math(latex(eq_3_subs1)))"
   ]
  },
  {
   "cell_type": "raw",
   "metadata": {
    "scrolled": true
   },
   "source": [
    "eq_3_subs2 = (eq_3_subs1/(kappa^2 - k_z^2)).full_simplify()\n",
    "print             (eq_3_subs2)\n",
    "display(Math(latex(eq_3_subs2)))"
   ]
  },
  {
   "cell_type": "raw",
   "metadata": {
    "scrolled": true
   },
   "source": [
    "eq_3_subs3 = eq_3_subs2.substitute_function(H_bad_conductor_f_z, H_bad_conductor_sol_z)\n",
    "print             (eq_3_subs3)\n",
    "display(Math(latex(eq_3_subs3)))"
   ]
  },
  {
   "cell_type": "raw",
   "metadata": {},
   "source": [
    "eq_3_subs4 = eq_3_subs3.subs(omega==c*kappa/sqrt(epsilon*mu))\n",
    "print             (eq_3_subs4)\n",
    "display(Math(latex(eq_3_subs4)))"
   ]
  },
  {
   "cell_type": "code",
   "execution_count": null,
   "metadata": {},
   "outputs": [],
   "source": []
  },
  {
   "cell_type": "raw",
   "metadata": {},
   "source": [
    "print (\"eq_4 =\")\n",
    "print             (eq_4)\n",
    "display(Math(latex(eq_4)))"
   ]
  },
  {
   "cell_type": "raw",
   "metadata": {
    "scrolled": true
   },
   "source": [
    "eq_4_subs1 = eq_4.subs(k_y == 0)\n",
    "print             (eq_4_subs1)\n",
    "display(Math(latex(eq_4_subs1)))"
   ]
  },
  {
   "cell_type": "raw",
   "metadata": {
    "scrolled": true
   },
   "source": [
    "eq_4_subs2 = (eq_4_subs1/(kappa^2 - k_z^2)).full_simplify()\n",
    "print             (eq_4_subs2)\n",
    "display(Math(latex(eq_4_subs2)))"
   ]
  },
  {
   "cell_type": "raw",
   "metadata": {
    "scrolled": true
   },
   "source": [
    "eq_4_subs3 = eq_4_subs2.substitute_function(H_bad_conductor_f_z, H_bad_conductor_sol_z)\n",
    "print             (eq_4_subs3)\n",
    "display(Math(latex(eq_4_subs3)))"
   ]
  },
  {
   "cell_type": "raw",
   "metadata": {},
   "source": [
    "eq_4_subs4 = eq_4_subs3.subs(omega==c*kappa/sqrt(epsilon*mu))\n",
    "print             (eq_4_subs4)\n",
    "display(Math(latex(eq_4_subs4)))"
   ]
  },
  {
   "cell_type": "code",
   "execution_count": null,
   "metadata": {},
   "outputs": [],
   "source": []
  },
  {
   "cell_type": "code",
   "execution_count": 91,
   "metadata": {},
   "outputs": [
    {
     "name": "stdout",
     "output_type": "stream",
     "text": [
      "eq_5_Ex =\n"
     ]
    },
    {
     "data": {
      "text/latex": [
       "$\\displaystyle -{\\left(k_{z}^{2} - \\kappa_{\\mathit{vacuum}}^{2}\\right)} E_{{\\rm inner}_{{\\rm vacuum}_{x}}}\\left(x\\right) = -k_{y} \\kappa_{\\mathit{vacuum}} H_{{\\rm inner}_{{\\rm vacuum}_{f_{z}}}}\\left(x\\right) + i \\, k_{z} \\frac{\\partial}{\\partial x}E_{{\\rm inner}_{{\\rm vacuum}_{z}}}\\left(x\\right)$"
      ],
      "text/plain": [
       "<IPython.core.display.Math object>"
      ]
     },
     "metadata": {},
     "output_type": "display_data"
    },
    {
     "name": "stdout",
     "output_type": "stream",
     "text": [
      "eq_6_Hy =\n"
     ]
    },
    {
     "data": {
      "text/latex": [
       "$\\displaystyle -{\\left(k_{z}^{2} - \\kappa_{\\mathit{vacuum}}^{2}\\right)} H_{{\\rm inner}_{{\\rm vacuum}_{f_{y}}}}\\left(x\\right) = -k_{y} k_{z} H_{{\\rm inner}_{{\\rm vacuum}_{f_{z}}}}\\left(x\\right) + i \\, \\kappa_{\\mathit{vacuum}} \\frac{\\partial}{\\partial x}E_{{\\rm inner}_{{\\rm vacuum}_{z}}}\\left(x\\right)$"
      ],
      "text/plain": [
       "<IPython.core.display.Math object>"
      ]
     },
     "metadata": {},
     "output_type": "display_data"
    }
   ],
   "source": [
    "print (\"eq_5_Ex =\")\n",
    "#print             (eq_5_Ex)\n",
    "display(Math(latex(eq_5_Ex)))\n",
    "\n",
    "print (\"eq_6_Hy =\")\n",
    "#print             (eq_6_Hy)\n",
    "display(Math(latex(eq_6_Hy)))"
   ]
  },
  {
   "cell_type": "code",
   "execution_count": 92,
   "metadata": {},
   "outputs": [
    {
     "name": "stdout",
     "output_type": "stream",
     "text": [
      "eq_7_Ex_l =\n"
     ]
    },
    {
     "data": {
      "text/latex": [
       "$\\displaystyle E_{{\\rm left}_{{\\rm conductor}_{x}}}\\left(x\\right) = \\frac{c k_{y} \\kappa_{l} \\sqrt{\\mu_{l}} H_{{\\rm left}_{{\\rm conductor}_{f_{z}}}}\\left(x\\right) - i \\, c \\sqrt{\\epsilon_{l}} k_{z} \\frac{\\partial}{\\partial x}E_{{\\rm left}_{{\\rm conductor}_{z}}}\\left(x\\right)}{c \\sqrt{\\epsilon_{l}} k_{z}^{2} - c \\sqrt{\\epsilon_{l}} \\kappa_{l}^{2} - 4 i \\, \\pi \\kappa_{l} \\sqrt{\\mu_{l}} \\sigma_{l}}$"
      ],
      "text/plain": [
       "<IPython.core.display.Math object>"
      ]
     },
     "metadata": {},
     "output_type": "display_data"
    },
    {
     "name": "stdout",
     "output_type": "stream",
     "text": [
      "eq_8_Hy_l =\n"
     ]
    },
    {
     "data": {
      "text/latex": [
       "$\\displaystyle H_{{\\rm left}_{{\\rm conductor}_{f_{y}}}}\\left(x\\right) = -\\frac{c \\epsilon_{l} k_{y} k_{z} \\sqrt{\\mu_{l}} H_{{\\rm left}_{{\\rm conductor}_{f_{z}}}}\\left(x\\right) - {\\left(i \\, c \\epsilon_{l}^{\\frac{3}{2}} \\kappa_{l} - 4 \\, \\pi \\epsilon_{l} \\sqrt{\\mu_{l}} \\sigma_{l}\\right)} \\frac{\\partial}{\\partial x}E_{{\\rm left}_{{\\rm conductor}_{z}}}\\left(x\\right)}{4 i \\, \\pi \\sqrt{\\epsilon_{l}} \\kappa_{l} \\mu_{l} \\sigma_{l} - {\\left(c \\epsilon_{l} k_{z}^{2} - c \\epsilon_{l} \\kappa_{l}^{2}\\right)} \\sqrt{\\mu_{l}}}$"
      ],
      "text/plain": [
       "<IPython.core.display.Math object>"
      ]
     },
     "metadata": {},
     "output_type": "display_data"
    }
   ],
   "source": [
    "print (\"eq_7_Ex_l =\")\n",
    "#print             (eq_7_Ex_l)\n",
    "display(Math(latex(eq_7_Ex_l)))\n",
    "\n",
    "print (\"eq_8_Hy_l =\")\n",
    "#print             (eq_8_Hy_l)\n",
    "display(Math(latex(eq_8_Hy_l)))"
   ]
  },
  {
   "cell_type": "code",
   "execution_count": 93,
   "metadata": {},
   "outputs": [
    {
     "name": "stdout",
     "output_type": "stream",
     "text": [
      "eq_7_Ex_r =\n"
     ]
    },
    {
     "data": {
      "text/latex": [
       "$\\displaystyle E_{{\\rm right}_{{\\rm conductor}_{x}}}\\left(x\\right) = \\frac{c k_{y} \\kappa_{r} \\sqrt{\\mu_{r}} H_{{\\rm right}_{{\\rm conductor}_{f_{z}}}}\\left(x\\right) - i \\, c \\sqrt{\\epsilon_{r}} k_{z} \\frac{\\partial}{\\partial x}E_{{\\rm right}_{{\\rm conductor}_{z}}}\\left(x\\right)}{c \\sqrt{\\epsilon_{r}} k_{z}^{2} - c \\sqrt{\\epsilon_{r}} \\kappa_{r}^{2} - 4 i \\, \\pi \\kappa_{r} \\sqrt{\\mu_{r}} \\sigma_{r}}$"
      ],
      "text/plain": [
       "<IPython.core.display.Math object>"
      ]
     },
     "metadata": {},
     "output_type": "display_data"
    },
    {
     "name": "stdout",
     "output_type": "stream",
     "text": [
      "eq_8_Hy_r =\n"
     ]
    },
    {
     "data": {
      "text/latex": [
       "$\\displaystyle H_{{\\rm right}_{{\\rm conductor}_{f_{y}}}}\\left(x\\right) = -\\frac{c \\epsilon_{r} k_{y} k_{z} \\sqrt{\\mu_{r}} H_{{\\rm right}_{{\\rm conductor}_{f_{z}}}}\\left(x\\right) - {\\left(i \\, c \\epsilon_{r}^{\\frac{3}{2}} \\kappa_{r} - 4 \\, \\pi \\epsilon_{r} \\sqrt{\\mu_{r}} \\sigma_{r}\\right)} \\frac{\\partial}{\\partial x}E_{{\\rm right}_{{\\rm conductor}_{z}}}\\left(x\\right)}{4 i \\, \\pi \\sqrt{\\epsilon_{r}} \\kappa_{r} \\mu_{r} \\sigma_{r} - {\\left(c \\epsilon_{r} k_{z}^{2} - c \\epsilon_{r} \\kappa_{r}^{2}\\right)} \\sqrt{\\mu_{r}}}$"
      ],
      "text/plain": [
       "<IPython.core.display.Math object>"
      ]
     },
     "metadata": {},
     "output_type": "display_data"
    }
   ],
   "source": [
    "print (\"eq_7_Ex_r =\")\n",
    "#print             (eq_7_Ex_r)\n",
    "display(Math(latex(eq_7_Ex_r)))\n",
    "\n",
    "print (\"eq_8_Hy_r =\")\n",
    "#print             (eq_8_Hy_r)\n",
    "display(Math(latex(eq_8_Hy_r)))"
   ]
  },
  {
   "cell_type": "code",
   "execution_count": null,
   "metadata": {},
   "outputs": [],
   "source": []
  },
  {
   "cell_type": "code",
   "execution_count": 94,
   "metadata": {},
   "outputs": [
    {
     "name": "stdout",
     "output_type": "stream",
     "text": [
      "eq_5_Ex =\n"
     ]
    },
    {
     "data": {
      "text/latex": [
       "$\\displaystyle -{\\left(k_{z}^{2} - \\kappa_{\\mathit{vacuum}}^{2}\\right)} E_{{\\rm inner}_{{\\rm vacuum}_{x}}}\\left(x\\right) = -k_{y} \\kappa_{\\mathit{vacuum}} H_{{\\rm inner}_{{\\rm vacuum}_{f_{z}}}}\\left(x\\right) + i \\, k_{z} \\frac{\\partial}{\\partial x}E_{{\\rm inner}_{{\\rm vacuum}_{z}}}\\left(x\\right)$"
      ],
      "text/plain": [
       "<IPython.core.display.Math object>"
      ]
     },
     "metadata": {},
     "output_type": "display_data"
    }
   ],
   "source": [
    "print (\"eq_5_Ex =\")\n",
    "#print             (eq_5_Ex)\n",
    "display(Math(latex(eq_5_Ex)))"
   ]
  },
  {
   "cell_type": "code",
   "execution_count": 95,
   "metadata": {
    "scrolled": true
   },
   "outputs": [
    {
     "data": {
      "text/latex": [
       "$\\displaystyle -{\\left(k_{z}^{2} - \\kappa_{\\mathit{vacuum}}^{2}\\right)} E_{{\\rm inner}_{{\\rm vacuum}_{x}}}\\left(x\\right) = i \\, k_{z} \\frac{\\partial}{\\partial x}E_{{\\rm inner}_{{\\rm vacuum}_{z}}}\\left(x\\right)$"
      ],
      "text/plain": [
       "<IPython.core.display.Math object>"
      ]
     },
     "metadata": {},
     "output_type": "display_data"
    }
   ],
   "source": [
    "eq_5_Ex_subs1 = eq_5_Ex.subs(k_y == 0)\n",
    "#print             (eq_5_Ex_subs1)\n",
    "display(Math(latex(eq_5_Ex_subs1)))"
   ]
  },
  {
   "cell_type": "code",
   "execution_count": 96,
   "metadata": {
    "scrolled": true
   },
   "outputs": [
    {
     "data": {
      "text/latex": [
       "$\\displaystyle E_{{\\rm inner}_{{\\rm vacuum}_{x}}}\\left(x\\right) = -\\frac{i \\, k_{z} \\frac{\\partial}{\\partial x}E_{{\\rm inner}_{{\\rm vacuum}_{z}}}\\left(x\\right)}{k_{z}^{2} - \\kappa_{\\mathit{vacuum}}^{2}}$"
      ],
      "text/plain": [
       "<IPython.core.display.Math object>"
      ]
     },
     "metadata": {},
     "output_type": "display_data"
    }
   ],
   "source": [
    "eq_5_Ex_subs2 = (eq_5_Ex_subs1/(kappa_vacuum^2 - k_z^2)).full_simplify()\n",
    "#print             (eq_5_Ex_subs2)\n",
    "display(Math(latex(eq_5_Ex_subs2)))"
   ]
  },
  {
   "cell_type": "code",
   "execution_count": 97,
   "metadata": {
    "scrolled": true
   },
   "outputs": [
    {
     "data": {
      "text/latex": [
       "$\\displaystyle E_{{\\rm inner}_{{\\rm vacuum}_{x}}}\\left(x\\right) = -\\frac{i \\, {\\left(i \\, \\mathit{A2}_{z} K_{\\mathit{vacuum}} e^{\\left(i \\, K_{\\mathit{vacuum}} x\\right)} - i \\, \\mathit{A1}_{z} K_{\\mathit{vacuum}} e^{\\left(-i \\, K_{\\mathit{vacuum}} x\\right)}\\right)} k_{z}}{k_{z}^{2} - \\kappa_{\\mathit{vacuum}}^{2}}$"
      ],
      "text/plain": [
       "<IPython.core.display.Math object>"
      ]
     },
     "metadata": {},
     "output_type": "display_data"
    }
   ],
   "source": [
    "eq_5_Ex_subs3 = eq_5_Ex_subs2.substitute_function(E_inner_vacuum_z, E_inner_vacuum_sol_z)\n",
    "#print             (eq_5_Ex_subs3)\n",
    "display(Math(latex(eq_5_Ex_subs3)))"
   ]
  },
  {
   "cell_type": "code",
   "execution_count": 98,
   "metadata": {},
   "outputs": [
    {
     "data": {
      "text/latex": [
       "$\\displaystyle E_{{\\rm inner}_{{\\rm vacuum}_{x}}}\\left(x\\right) = -\\frac{{\\left(\\mathit{A2}_{z} k_{z} e^{\\left(2 i \\, \\sqrt{-k_{z}^{2} + \\kappa_{\\mathit{vacuum}}^{2}} x\\right)} - \\mathit{A1}_{z} k_{z}\\right)} e^{\\left(-i \\, \\sqrt{-k_{z}^{2} + \\kappa_{\\mathit{vacuum}}^{2}} x\\right)}}{\\sqrt{-k_{z}^{2} + \\kappa_{\\mathit{vacuum}}^{2}}}$"
      ],
      "text/plain": [
       "<IPython.core.display.Math object>"
      ]
     },
     "metadata": {},
     "output_type": "display_data"
    }
   ],
   "source": [
    "eq_5_Ex_subs4 = eq_5_Ex_subs3.subs(K_vacuum_subs).full_simplify()\n",
    "#print             (eq_5_Ex_subs4)\n",
    "display(Math(latex(eq_5_Ex_subs4)))"
   ]
  },
  {
   "cell_type": "code",
   "execution_count": null,
   "metadata": {},
   "outputs": [],
   "source": []
  },
  {
   "cell_type": "code",
   "execution_count": 99,
   "metadata": {},
   "outputs": [
    {
     "name": "stdout",
     "output_type": "stream",
     "text": [
      "eq_6_Hy =\n"
     ]
    },
    {
     "data": {
      "text/latex": [
       "$\\displaystyle -{\\left(k_{z}^{2} - \\kappa_{\\mathit{vacuum}}^{2}\\right)} H_{{\\rm inner}_{{\\rm vacuum}_{f_{y}}}}\\left(x\\right) = -k_{y} k_{z} H_{{\\rm inner}_{{\\rm vacuum}_{f_{z}}}}\\left(x\\right) + i \\, \\kappa_{\\mathit{vacuum}} \\frac{\\partial}{\\partial x}E_{{\\rm inner}_{{\\rm vacuum}_{z}}}\\left(x\\right)$"
      ],
      "text/plain": [
       "<IPython.core.display.Math object>"
      ]
     },
     "metadata": {},
     "output_type": "display_data"
    }
   ],
   "source": [
    "print (\"eq_6_Hy =\")\n",
    "#print             (eq_6_Hy)\n",
    "display(Math(latex(eq_6_Hy)))"
   ]
  },
  {
   "cell_type": "code",
   "execution_count": 100,
   "metadata": {
    "scrolled": true
   },
   "outputs": [
    {
     "data": {
      "text/latex": [
       "$\\displaystyle -{\\left(k_{z}^{2} - \\kappa_{\\mathit{vacuum}}^{2}\\right)} H_{{\\rm inner}_{{\\rm vacuum}_{f_{y}}}}\\left(x\\right) = i \\, \\kappa_{\\mathit{vacuum}} \\frac{\\partial}{\\partial x}E_{{\\rm inner}_{{\\rm vacuum}_{z}}}\\left(x\\right)$"
      ],
      "text/plain": [
       "<IPython.core.display.Math object>"
      ]
     },
     "metadata": {},
     "output_type": "display_data"
    }
   ],
   "source": [
    "eq_6_Hy_subs1 = eq_6_Hy.subs(k_y == 0)\n",
    "#print             (eq_6_Hy_subs1)\n",
    "display(Math(latex(eq_6_Hy_subs1)))"
   ]
  },
  {
   "cell_type": "code",
   "execution_count": 101,
   "metadata": {
    "scrolled": true
   },
   "outputs": [
    {
     "data": {
      "text/latex": [
       "$\\displaystyle H_{{\\rm inner}_{{\\rm vacuum}_{f_{y}}}}\\left(x\\right) = -\\frac{i \\, \\kappa_{\\mathit{vacuum}} \\frac{\\partial}{\\partial x}E_{{\\rm inner}_{{\\rm vacuum}_{z}}}\\left(x\\right)}{k_{z}^{2} - \\kappa_{\\mathit{vacuum}}^{2}}$"
      ],
      "text/plain": [
       "<IPython.core.display.Math object>"
      ]
     },
     "metadata": {},
     "output_type": "display_data"
    }
   ],
   "source": [
    "eq_6_Hy_subs2 = (eq_6_Hy_subs1/(kappa_vacuum^2 - k_z^2)).full_simplify()\n",
    "#print             (eq_6_Hy_subs2)\n",
    "display(Math(latex(eq_6_Hy_subs2)))"
   ]
  },
  {
   "cell_type": "code",
   "execution_count": 102,
   "metadata": {
    "scrolled": true
   },
   "outputs": [
    {
     "data": {
      "text/latex": [
       "$\\displaystyle H_{{\\rm inner}_{{\\rm vacuum}_{f_{y}}}}\\left(x\\right) = -\\frac{i \\, {\\left(i \\, \\mathit{A2}_{z} K_{\\mathit{vacuum}} e^{\\left(i \\, K_{\\mathit{vacuum}} x\\right)} - i \\, \\mathit{A1}_{z} K_{\\mathit{vacuum}} e^{\\left(-i \\, K_{\\mathit{vacuum}} x\\right)}\\right)} \\kappa_{\\mathit{vacuum}}}{k_{z}^{2} - \\kappa_{\\mathit{vacuum}}^{2}}$"
      ],
      "text/plain": [
       "<IPython.core.display.Math object>"
      ]
     },
     "metadata": {},
     "output_type": "display_data"
    }
   ],
   "source": [
    "eq_6_Hy_subs3 = eq_6_Hy_subs2.substitute_function(E_inner_vacuum_z, E_inner_vacuum_sol_z)\n",
    "#print             (eq_6_Hy_subs3)\n",
    "display(Math(latex(eq_6_Hy_subs3)))"
   ]
  },
  {
   "cell_type": "code",
   "execution_count": null,
   "metadata": {},
   "outputs": [],
   "source": []
  },
  {
   "cell_type": "code",
   "execution_count": 103,
   "metadata": {},
   "outputs": [
    {
     "name": "stdout",
     "output_type": "stream",
     "text": [
      "eq_7_Ex_l =\n"
     ]
    },
    {
     "data": {
      "text/latex": [
       "$\\displaystyle E_{{\\rm left}_{{\\rm conductor}_{x}}}\\left(x\\right) = \\frac{c k_{y} \\kappa_{l} \\sqrt{\\mu_{l}} H_{{\\rm left}_{{\\rm conductor}_{f_{z}}}}\\left(x\\right) - i \\, c \\sqrt{\\epsilon_{l}} k_{z} \\frac{\\partial}{\\partial x}E_{{\\rm left}_{{\\rm conductor}_{z}}}\\left(x\\right)}{c \\sqrt{\\epsilon_{l}} k_{z}^{2} - c \\sqrt{\\epsilon_{l}} \\kappa_{l}^{2} - 4 i \\, \\pi \\kappa_{l} \\sqrt{\\mu_{l}} \\sigma_{l}}$"
      ],
      "text/plain": [
       "<IPython.core.display.Math object>"
      ]
     },
     "metadata": {},
     "output_type": "display_data"
    }
   ],
   "source": [
    "print (\"eq_7_Ex_l =\")\n",
    "#print             (eq_7_Ex_l)\n",
    "display(Math(latex(eq_7_Ex_l)))"
   ]
  },
  {
   "cell_type": "code",
   "execution_count": 104,
   "metadata": {
    "scrolled": true
   },
   "outputs": [
    {
     "data": {
      "text/latex": [
       "$\\displaystyle E_{{\\rm left}_{{\\rm conductor}_{x}}}\\left(x\\right) = -\\frac{i \\, c \\sqrt{\\epsilon_{l}} k_{z} \\frac{\\partial}{\\partial x}E_{{\\rm left}_{{\\rm conductor}_{z}}}\\left(x\\right)}{c \\sqrt{\\epsilon_{l}} k_{z}^{2} - c \\sqrt{\\epsilon_{l}} \\kappa_{l}^{2} - 4 i \\, \\pi \\kappa_{l} \\sqrt{\\mu_{l}} \\sigma_{l}}$"
      ],
      "text/plain": [
       "<IPython.core.display.Math object>"
      ]
     },
     "metadata": {},
     "output_type": "display_data"
    }
   ],
   "source": [
    "eq_7_Ex_l_subs_1 = eq_7_Ex_l.subs(k_y == 0)\n",
    "#print             (eq_7_Ex_l_subs_1)\n",
    "display(Math(latex(eq_7_Ex_l_subs_1)))"
   ]
  },
  {
   "cell_type": "code",
   "execution_count": 105,
   "metadata": {},
   "outputs": [
    {
     "data": {
      "text/latex": [
       "$\\displaystyle E_{{\\rm left}_{{\\rm conductor}_{x}}}\\left(x\\right) = -\\frac{\\mathit{B1}_{\\mathit{zl}} K_{\\mathit{left}_{\\mathit{conductor}}} c \\sqrt{\\epsilon_{l}} k_{z} e^{\\left(-i \\, K_{\\mathit{left}_{\\mathit{conductor}}} {\\left(a + x\\right)}\\right)}}{c \\sqrt{\\epsilon_{l}} k_{z}^{2} - c \\sqrt{\\epsilon_{l}} \\kappa_{l}^{2} - 4 i \\, \\pi \\kappa_{l} \\sqrt{\\mu_{l}} \\sigma_{l}}$"
      ],
      "text/plain": [
       "<IPython.core.display.Math object>"
      ]
     },
     "metadata": {},
     "output_type": "display_data"
    }
   ],
   "source": [
    "eq_7_Ex_l_subs2 = eq_7_Ex_l_subs_1.substitute_function(E_left_conductor_z, E_left_conductor_sol_z)\n",
    "#print             (eq_7_Ex_subs2)\n",
    "display(Math(latex(eq_7_Ex_l_subs2)))"
   ]
  },
  {
   "cell_type": "code",
   "execution_count": null,
   "metadata": {},
   "outputs": [],
   "source": []
  },
  {
   "cell_type": "code",
   "execution_count": 106,
   "metadata": {},
   "outputs": [
    {
     "name": "stdout",
     "output_type": "stream",
     "text": [
      "eq_7_Ex_r =\n"
     ]
    },
    {
     "data": {
      "text/latex": [
       "$\\displaystyle E_{{\\rm right}_{{\\rm conductor}_{x}}}\\left(x\\right) = \\frac{c k_{y} \\kappa_{r} \\sqrt{\\mu_{r}} H_{{\\rm right}_{{\\rm conductor}_{f_{z}}}}\\left(x\\right) - i \\, c \\sqrt{\\epsilon_{r}} k_{z} \\frac{\\partial}{\\partial x}E_{{\\rm right}_{{\\rm conductor}_{z}}}\\left(x\\right)}{c \\sqrt{\\epsilon_{r}} k_{z}^{2} - c \\sqrt{\\epsilon_{r}} \\kappa_{r}^{2} - 4 i \\, \\pi \\kappa_{r} \\sqrt{\\mu_{r}} \\sigma_{r}}$"
      ],
      "text/plain": [
       "<IPython.core.display.Math object>"
      ]
     },
     "metadata": {},
     "output_type": "display_data"
    }
   ],
   "source": [
    "print (\"eq_7_Ex_r =\")\n",
    "#print             (eq_7_Ex_r)\n",
    "display(Math(latex(eq_7_Ex_r)))"
   ]
  },
  {
   "cell_type": "code",
   "execution_count": 107,
   "metadata": {
    "scrolled": true
   },
   "outputs": [
    {
     "data": {
      "text/latex": [
       "$\\displaystyle E_{{\\rm right}_{{\\rm conductor}_{x}}}\\left(x\\right) = -\\frac{i \\, c \\sqrt{\\epsilon_{r}} k_{z} \\frac{\\partial}{\\partial x}E_{{\\rm right}_{{\\rm conductor}_{z}}}\\left(x\\right)}{c \\sqrt{\\epsilon_{r}} k_{z}^{2} - c \\sqrt{\\epsilon_{r}} \\kappa_{r}^{2} - 4 i \\, \\pi \\kappa_{r} \\sqrt{\\mu_{r}} \\sigma_{r}}$"
      ],
      "text/plain": [
       "<IPython.core.display.Math object>"
      ]
     },
     "metadata": {},
     "output_type": "display_data"
    }
   ],
   "source": [
    "eq_7_Ex_r_subs_1 = eq_7_Ex_r.subs(k_y == 0)\n",
    "#print             (eq_7_Ex_r_subs_1)\n",
    "display(Math(latex(eq_7_Ex_r_subs_1)))"
   ]
  },
  {
   "cell_type": "code",
   "execution_count": 108,
   "metadata": {},
   "outputs": [
    {
     "data": {
      "text/latex": [
       "$\\displaystyle E_{{\\rm right}_{{\\rm conductor}_{x}}}\\left(x\\right) = \\frac{\\mathit{B1}_{\\mathit{zr}} K_{\\mathit{right}_{\\mathit{conductor}}} c \\sqrt{\\epsilon_{r}} k_{z} e^{\\left(-i \\, K_{\\mathit{right}_{\\mathit{conductor}}} {\\left(a - x\\right)}\\right)}}{c \\sqrt{\\epsilon_{r}} k_{z}^{2} - c \\sqrt{\\epsilon_{r}} \\kappa_{r}^{2} - 4 i \\, \\pi \\kappa_{r} \\sqrt{\\mu_{r}} \\sigma_{r}}$"
      ],
      "text/plain": [
       "<IPython.core.display.Math object>"
      ]
     },
     "metadata": {},
     "output_type": "display_data"
    }
   ],
   "source": [
    "eq_7_Ex_r_subs2 = eq_7_Ex_r_subs_1.substitute_function(E_right_conductor_z, E_right_conductor_sol_z)\n",
    "#print             (eq_7_Ex_subs2)\n",
    "display(Math(latex(eq_7_Ex_r_subs2)))"
   ]
  },
  {
   "cell_type": "code",
   "execution_count": null,
   "metadata": {},
   "outputs": [],
   "source": []
  },
  {
   "cell_type": "code",
   "execution_count": 109,
   "metadata": {},
   "outputs": [
    {
     "name": "stdout",
     "output_type": "stream",
     "text": [
      "eq_8_Hy_l =\n"
     ]
    },
    {
     "data": {
      "text/latex": [
       "$\\displaystyle H_{{\\rm left}_{{\\rm conductor}_{f_{y}}}}\\left(x\\right) = -\\frac{c \\epsilon_{l} k_{y} k_{z} \\sqrt{\\mu_{l}} H_{{\\rm left}_{{\\rm conductor}_{f_{z}}}}\\left(x\\right) - {\\left(i \\, c \\epsilon_{l}^{\\frac{3}{2}} \\kappa_{l} - 4 \\, \\pi \\epsilon_{l} \\sqrt{\\mu_{l}} \\sigma_{l}\\right)} \\frac{\\partial}{\\partial x}E_{{\\rm left}_{{\\rm conductor}_{z}}}\\left(x\\right)}{4 i \\, \\pi \\sqrt{\\epsilon_{l}} \\kappa_{l} \\mu_{l} \\sigma_{l} - {\\left(c \\epsilon_{l} k_{z}^{2} - c \\epsilon_{l} \\kappa_{l}^{2}\\right)} \\sqrt{\\mu_{l}}}$"
      ],
      "text/plain": [
       "<IPython.core.display.Math object>"
      ]
     },
     "metadata": {},
     "output_type": "display_data"
    }
   ],
   "source": [
    "print (\"eq_8_Hy_l =\")\n",
    "#print             (eq_8_Hy_l)\n",
    "display(Math(latex(eq_8_Hy_l)))"
   ]
  },
  {
   "cell_type": "code",
   "execution_count": 110,
   "metadata": {
    "scrolled": true
   },
   "outputs": [
    {
     "data": {
      "text/latex": [
       "$\\displaystyle H_{{\\rm left}_{{\\rm conductor}_{f_{y}}}}\\left(x\\right) = \\frac{{\\left(i \\, c \\epsilon_{l}^{\\frac{3}{2}} \\kappa_{l} - 4 \\, \\pi \\epsilon_{l} \\sqrt{\\mu_{l}} \\sigma_{l}\\right)} \\frac{\\partial}{\\partial x}E_{{\\rm left}_{{\\rm conductor}_{z}}}\\left(x\\right)}{4 i \\, \\pi \\sqrt{\\epsilon_{l}} \\kappa_{l} \\mu_{l} \\sigma_{l} - {\\left(c \\epsilon_{l} k_{z}^{2} - c \\epsilon_{l} \\kappa_{l}^{2}\\right)} \\sqrt{\\mu_{l}}}$"
      ],
      "text/plain": [
       "<IPython.core.display.Math object>"
      ]
     },
     "metadata": {},
     "output_type": "display_data"
    }
   ],
   "source": [
    "eq_8_Hy_l_subs_1 = eq_8_Hy_l.subs(k_y == 0)\n",
    "#print             (eq_8_l_subs_1)\n",
    "display(Math(latex(eq_8_Hy_l_subs_1)))"
   ]
  },
  {
   "cell_type": "code",
   "execution_count": 111,
   "metadata": {
    "scrolled": true
   },
   "outputs": [
    {
     "data": {
      "text/latex": [
       "$\\displaystyle H_{{\\rm left}_{{\\rm conductor}_{f_{y}}}}\\left(x\\right) = -\\frac{i \\, {\\left(i \\, c \\epsilon_{l}^{\\frac{3}{2}} \\kappa_{l} - 4 \\, \\pi \\epsilon_{l} \\sqrt{\\mu_{l}} \\sigma_{l}\\right)} \\mathit{B1}_{\\mathit{zl}} K_{\\mathit{left}_{\\mathit{conductor}}} e^{\\left(-i \\, K_{\\mathit{left}_{\\mathit{conductor}}} {\\left(a + x\\right)}\\right)}}{4 i \\, \\pi \\sqrt{\\epsilon_{l}} \\kappa_{l} \\mu_{l} \\sigma_{l} - {\\left(c \\epsilon_{l} k_{z}^{2} - c \\epsilon_{l} \\kappa_{l}^{2}\\right)} \\sqrt{\\mu_{l}}}$"
      ],
      "text/plain": [
       "<IPython.core.display.Math object>"
      ]
     },
     "metadata": {},
     "output_type": "display_data"
    }
   ],
   "source": [
    "eq_8_Hy_l_subs2 = eq_8_Hy_l_subs_1.substitute_function(E_left_conductor_z, E_left_conductor_sol_z)\n",
    "#print             (eq_8_l_subs2)\n",
    "display(Math(latex(eq_8_Hy_l_subs2)))"
   ]
  },
  {
   "cell_type": "code",
   "execution_count": null,
   "metadata": {},
   "outputs": [],
   "source": []
  },
  {
   "cell_type": "code",
   "execution_count": 112,
   "metadata": {},
   "outputs": [
    {
     "name": "stdout",
     "output_type": "stream",
     "text": [
      "eq_8_Hy_r =\n"
     ]
    },
    {
     "data": {
      "text/latex": [
       "$\\displaystyle H_{{\\rm right}_{{\\rm conductor}_{f_{y}}}}\\left(x\\right) = -\\frac{c \\epsilon_{r} k_{y} k_{z} \\sqrt{\\mu_{r}} H_{{\\rm right}_{{\\rm conductor}_{f_{z}}}}\\left(x\\right) - {\\left(i \\, c \\epsilon_{r}^{\\frac{3}{2}} \\kappa_{r} - 4 \\, \\pi \\epsilon_{r} \\sqrt{\\mu_{r}} \\sigma_{r}\\right)} \\frac{\\partial}{\\partial x}E_{{\\rm right}_{{\\rm conductor}_{z}}}\\left(x\\right)}{4 i \\, \\pi \\sqrt{\\epsilon_{r}} \\kappa_{r} \\mu_{r} \\sigma_{r} - {\\left(c \\epsilon_{r} k_{z}^{2} - c \\epsilon_{r} \\kappa_{r}^{2}\\right)} \\sqrt{\\mu_{r}}}$"
      ],
      "text/plain": [
       "<IPython.core.display.Math object>"
      ]
     },
     "metadata": {},
     "output_type": "display_data"
    }
   ],
   "source": [
    "print (\"eq_8_Hy_r =\")\n",
    "#print             (eq_8_Hy_r)\n",
    "display(Math(latex(eq_8_Hy_r)))"
   ]
  },
  {
   "cell_type": "code",
   "execution_count": 113,
   "metadata": {
    "scrolled": true
   },
   "outputs": [
    {
     "data": {
      "text/latex": [
       "$\\displaystyle H_{{\\rm right}_{{\\rm conductor}_{f_{y}}}}\\left(x\\right) = \\frac{{\\left(i \\, c \\epsilon_{r}^{\\frac{3}{2}} \\kappa_{r} - 4 \\, \\pi \\epsilon_{r} \\sqrt{\\mu_{r}} \\sigma_{r}\\right)} \\frac{\\partial}{\\partial x}E_{{\\rm right}_{{\\rm conductor}_{z}}}\\left(x\\right)}{4 i \\, \\pi \\sqrt{\\epsilon_{r}} \\kappa_{r} \\mu_{r} \\sigma_{r} - {\\left(c \\epsilon_{r} k_{z}^{2} - c \\epsilon_{r} \\kappa_{r}^{2}\\right)} \\sqrt{\\mu_{r}}}$"
      ],
      "text/plain": [
       "<IPython.core.display.Math object>"
      ]
     },
     "metadata": {},
     "output_type": "display_data"
    }
   ],
   "source": [
    "eq_8_Hy_r_subs_1 = eq_8_Hy_r.subs(k_y == 0)\n",
    "#print             (eq_8_Hy_r_subs_1)\n",
    "display(Math(latex(eq_8_Hy_r_subs_1)))"
   ]
  },
  {
   "cell_type": "code",
   "execution_count": 114,
   "metadata": {},
   "outputs": [
    {
     "data": {
      "text/latex": [
       "$\\displaystyle H_{{\\rm right}_{{\\rm conductor}_{f_{y}}}}\\left(x\\right) = \\frac{i \\, {\\left(i \\, c \\epsilon_{r}^{\\frac{3}{2}} \\kappa_{r} - 4 \\, \\pi \\epsilon_{r} \\sqrt{\\mu_{r}} \\sigma_{r}\\right)} \\mathit{B1}_{\\mathit{zr}} K_{\\mathit{right}_{\\mathit{conductor}}} e^{\\left(-i \\, K_{\\mathit{right}_{\\mathit{conductor}}} {\\left(a - x\\right)}\\right)}}{4 i \\, \\pi \\sqrt{\\epsilon_{r}} \\kappa_{r} \\mu_{r} \\sigma_{r} - {\\left(c \\epsilon_{r} k_{z}^{2} - c \\epsilon_{r} \\kappa_{r}^{2}\\right)} \\sqrt{\\mu_{r}}}$"
      ],
      "text/plain": [
       "<IPython.core.display.Math object>"
      ]
     },
     "metadata": {},
     "output_type": "display_data"
    }
   ],
   "source": [
    "eq_8_Hy_r_subs2 = eq_8_Hy_r_subs_1.substitute_function(E_right_conductor_z, E_right_conductor_sol_z)\n",
    "#print             (eq_8_r_subs2)\n",
    "display(Math(latex(eq_8_Hy_r_subs2)))"
   ]
  },
  {
   "cell_type": "raw",
   "metadata": {},
   "source": [
    "fix_c_epsilon_complex = False"
   ]
  },
  {
   "cell_type": "code",
   "execution_count": 115,
   "metadata": {},
   "outputs": [
    {
     "data": {
      "text/latex": [
       "$\\displaystyle -\\frac{i \\, {\\left(i \\, c \\epsilon_{l}^{\\frac{3}{2}} \\kappa_{l} - 4 \\, \\pi \\epsilon_{l} \\sqrt{\\mu_{l}} \\sigma_{l}\\right)} \\sqrt{-k_{z}^{2} + \\kappa_{l}^{2}} \\mathit{B1}_{\\mathit{zl}} \\kappa_{l}}{{\\left(4 i \\, \\pi \\sqrt{\\epsilon_{l}} \\kappa_{l} \\mu_{l} \\sigma_{l} - {\\left(c \\epsilon_{l} k_{z}^{2} - c \\epsilon_{l} \\kappa_{l}^{2}\\right)} \\sqrt{\\mu_{l}}\\right)} \\mu_{l}} = -\\frac{i \\, {\\left(-i \\, \\sqrt{-k_{z}^{2} + \\kappa_{\\mathit{vacuum}}^{2}} \\mathit{A1}_{z} e^{\\left(i \\, \\sqrt{-k_{z}^{2} + \\kappa_{\\mathit{vacuum}}^{2}} a\\right)} + i \\, \\sqrt{-k_{z}^{2} + \\kappa_{\\mathit{vacuum}}^{2}} \\mathit{A2}_{z} e^{\\left(-i \\, \\sqrt{-k_{z}^{2} + \\kappa_{\\mathit{vacuum}}^{2}} a\\right)}\\right)} \\kappa_{\\mathit{vacuum}}^{2}}{k_{z}^{2} - \\kappa_{\\mathit{vacuum}}^{2}}$"
      ],
      "text/plain": [
       "<IPython.core.display.Math object>"
      ]
     },
     "metadata": {},
     "output_type": "display_data"
    },
    {
     "data": {
      "text/latex": [
       "$\\displaystyle \\frac{i \\, {\\left(i \\, c \\epsilon_{r}^{\\frac{3}{2}} \\kappa_{r} - 4 \\, \\pi \\epsilon_{r} \\sqrt{\\mu_{r}} \\sigma_{r}\\right)} \\sqrt{-k_{z}^{2} + \\kappa_{r}^{2}} \\mathit{B1}_{\\mathit{zr}} \\kappa_{r}}{{\\left(4 i \\, \\pi \\sqrt{\\epsilon_{r}} \\kappa_{r} \\mu_{r} \\sigma_{r} - {\\left(c \\epsilon_{r} k_{z}^{2} - c \\epsilon_{r} \\kappa_{r}^{2}\\right)} \\sqrt{\\mu_{r}}\\right)} \\mu_{r}} = -\\frac{i \\, {\\left(i \\, \\sqrt{-k_{z}^{2} + \\kappa_{\\mathit{vacuum}}^{2}} \\mathit{A2}_{z} e^{\\left(i \\, \\sqrt{-k_{z}^{2} + \\kappa_{\\mathit{vacuum}}^{2}} a\\right)} - i \\, \\sqrt{-k_{z}^{2} + \\kappa_{\\mathit{vacuum}}^{2}} \\mathit{A1}_{z} e^{\\left(-i \\, \\sqrt{-k_{z}^{2} + \\kappa_{\\mathit{vacuum}}^{2}} a\\right)}\\right)} \\kappa_{\\mathit{vacuum}}^{2}}{k_{z}^{2} - \\kappa_{\\mathit{vacuum}}^{2}}$"
      ],
      "text/plain": [
       "<IPython.core.display.Math object>"
      ]
     },
     "metadata": {},
     "output_type": "display_data"
    }
   ],
   "source": [
    "# тангенциальная компонента напряженности магнитного поля\n",
    "# eqHz_a  = (H_bad_conductor_sol_z(0)  == H_inner_vacuum_sol_z(0)).subs(eqEz_0, eqEy_0)\n",
    "# eqHy_a  = (H_bad_conductor_sol_y(0)  == H_inner_vacuum_sol_y(0)).subs(eqEy_0, eqEz_0)\n",
    "\n",
    "#8 sqrt(mu)*H_bad_conductor_f_y(x)/sqrt(epsilon) == B1_z*K_conductor*kappa*e^(I*K_conductor*x)/(k_z^2 - kappa^2)\n",
    "#6 H_inner_vacuum_f_y(x) == -I*(I*A2_z*K_vacuum*e^(I*K_vacuum*x) - I*A1_z*K_vacuum*e^(-I*K_vacuum*x))*kappa_vacuum/(k_z^2 - kappa_vacuum^2)\n",
    "\n",
    "# eq_Hy_0 = eq_8_subs3.rhs().subs(x == 0)*sqrt(epsilon_complex)/sqrt(mu) == eq_6_subs3.rhs().subs(x == 0)\n",
    "# eq_Hy_0 = (eq_8_subs3.rhs().subs(x == 0).subs(K_conductor_subs)*sqrt(epsilon_complex)/sqrt(mu)) \\\n",
    "#         == eq_6_subs3.rhs().subs(x == 0).subs(K_vacuum_subs)\n",
    "\n",
    "# sqrt(mu / epsilon_complex) = omega * mu / kappa\n",
    "# sqrt(mu / epsilon_complex) = omega * mu_rel * mu_0 / kappa\n",
    "\n",
    "# kappa/mu == omega * sqrt(epsilon_complex/mu)\n",
    "# sqrt(mu_0 / epsilon_0) = omega * mu_0 / kappa_vacuum\n",
    "\n",
    "# kappa_vacuum == omega/c\n",
    "# sqrt(mu_0 / epsilon_0) = c * mu_0\n",
    "# c = 1 / sqrt(mu_0 * epsilon_0)\n",
    "\n",
    "# kappa = omega * sqrt(epsilon_comlex*mu)\n",
    "# kappa_vacuum = omega * sqrt(epsilon_0*mu_0) = omega/c\n",
    "\n",
    "# sqrt(mu_0 / epsilon_0) = 1/(c*epsilon_0) = omega * mu_0 / kappa_vacuum\n",
    "# sqrt(mu / epsilon_complex) = 1/(c*epsilon_complex) = omega * mu / kappa\n",
    "\n",
    "# 1/mu_0 = c^2*epsolon_0\n",
    "\n",
    "#eq_Hy_0 = (eq_8_subs3.rhs().subs(x == 0).subs(K_conductor_subs)*kappa/(mu_rel * mu_0 * omega/c)) \\\n",
    "#        == eq_6_subs3.rhs().subs(x == 0).subs(K_vacuum_subs)*kappa_vacuum/(mu_0 * omega/c)\n",
    "\n",
    "# 1/mu_0 = c^2 * epsilon_0\n",
    "\n",
    "eq_Hy_l = ((eq_8_Hy_l_subs2.rhs().subs(x == -a).subs(K_left_conductor_subs)*kappa_l/(mu_l)) \\\n",
    "        ==  eq_6_Hy_subs3.rhs().subs(x == -a).subs(K_vacuum_subs)*kappa_vacuum/(mu_0)) \n",
    "\n",
    "\n",
    "eq_Hy_r = ((eq_8_Hy_r_subs2.rhs().subs(x == a).subs(K_right_conductor_subs)*kappa_r/(mu_r)) \\\n",
    "        ==   eq_6_Hy_subs3.rhs().subs(x == a).subs(K_vacuum_subs)*kappa_vacuum/(mu_0)) \n",
    "\n",
    "\n",
    "display(Math(latex(eq_Hy_l)))\n",
    "display(Math(latex(eq_Hy_r)))"
   ]
  },
  {
   "cell_type": "code",
   "execution_count": 116,
   "metadata": {},
   "outputs": [
    {
     "data": {
      "text/latex": [
       "$\\displaystyle -\\frac{i \\, {\\left(i \\, c \\epsilon_{l}^{\\frac{3}{2}} \\kappa_{l} - 4 \\, \\pi \\epsilon_{l} \\sqrt{\\mu_{l}} \\sigma_{l}\\right)} \\sqrt{-k_{z}^{2} + \\kappa_{l}^{2}} {\\left(\\mathit{A1}_{z} e^{\\left(2 i \\, K_{\\mathit{vacuum}} a\\right)} + \\mathit{A2}_{z}\\right)} \\kappa_{l} e^{\\left(-i \\, K_{\\mathit{vacuum}} a\\right)}}{{\\left(4 i \\, \\pi \\sqrt{\\epsilon_{l}} \\kappa_{l} \\mu_{l} \\sigma_{l} - {\\left(c \\epsilon_{l} k_{z}^{2} - c \\epsilon_{l} \\kappa_{l}^{2}\\right)} \\sqrt{\\mu_{l}}\\right)} \\mu_{l}} = -\\frac{i \\, {\\left(-i \\, \\sqrt{-k_{z}^{2} + \\kappa_{\\mathit{vacuum}}^{2}} \\mathit{A1}_{z} e^{\\left(i \\, \\sqrt{-k_{z}^{2} + \\kappa_{\\mathit{vacuum}}^{2}} a\\right)} + i \\, \\sqrt{-k_{z}^{2} + \\kappa_{\\mathit{vacuum}}^{2}} \\mathit{A2}_{z} e^{\\left(-i \\, \\sqrt{-k_{z}^{2} + \\kappa_{\\mathit{vacuum}}^{2}} a\\right)}\\right)} \\kappa_{\\mathit{vacuum}}^{2}}{k_{z}^{2} - \\kappa_{\\mathit{vacuum}}^{2}}$"
      ],
      "text/plain": [
       "<IPython.core.display.Math object>"
      ]
     },
     "metadata": {},
     "output_type": "display_data"
    }
   ],
   "source": [
    "eq_Hy_ls = eq_Hy_l.subs(solve(eqEz_l,B1_zl))\n",
    "display(Math(latex(eq_Hy_ls)))"
   ]
  },
  {
   "cell_type": "code",
   "execution_count": 117,
   "metadata": {},
   "outputs": [
    {
     "data": {
      "text/latex": [
       "$\\displaystyle \\frac{i \\, {\\left(i \\, c \\epsilon_{r}^{\\frac{3}{2}} \\kappa_{r} - 4 \\, \\pi \\epsilon_{r} \\sqrt{\\mu_{r}} \\sigma_{r}\\right)} \\sqrt{-k_{z}^{2} + \\kappa_{r}^{2}} {\\left(\\mathit{A2}_{z} e^{\\left(i \\, K_{\\mathit{vacuum}} a\\right)} + \\mathit{A1}_{z} e^{\\left(-i \\, K_{\\mathit{vacuum}} a\\right)}\\right)} \\kappa_{r}}{{\\left(4 i \\, \\pi \\sqrt{\\epsilon_{r}} \\kappa_{r} \\mu_{r} \\sigma_{r} - {\\left(c \\epsilon_{r} k_{z}^{2} - c \\epsilon_{r} \\kappa_{r}^{2}\\right)} \\sqrt{\\mu_{r}}\\right)} \\mu_{r}} = -\\frac{i \\, {\\left(i \\, \\sqrt{-k_{z}^{2} + \\kappa_{\\mathit{vacuum}}^{2}} \\mathit{A2}_{z} e^{\\left(i \\, \\sqrt{-k_{z}^{2} + \\kappa_{\\mathit{vacuum}}^{2}} a\\right)} - i \\, \\sqrt{-k_{z}^{2} + \\kappa_{\\mathit{vacuum}}^{2}} \\mathit{A1}_{z} e^{\\left(-i \\, \\sqrt{-k_{z}^{2} + \\kappa_{\\mathit{vacuum}}^{2}} a\\right)}\\right)} \\kappa_{\\mathit{vacuum}}^{2}}{k_{z}^{2} - \\kappa_{\\mathit{vacuum}}^{2}}$"
      ],
      "text/plain": [
       "<IPython.core.display.Math object>"
      ]
     },
     "metadata": {},
     "output_type": "display_data"
    }
   ],
   "source": [
    "eq_Hy_rs = eq_Hy_r.subs(eqEz_r)\n",
    "display(Math(latex(eq_Hy_rs)))"
   ]
  },
  {
   "cell_type": "code",
   "execution_count": null,
   "metadata": {},
   "outputs": [],
   "source": []
  },
  {
   "cell_type": "code",
   "execution_count": 118,
   "metadata": {},
   "outputs": [
    {
     "name": "stdout",
     "output_type": "stream",
     "text": [
      "kappa_vacuum == omega/c\n"
     ]
    }
   ],
   "source": [
    "kappa_vacuum_sol = solve(eq_kappa_inner_vacuum, kappa_vacuum)[1]\n",
    "print(kappa_vacuum_sol)"
   ]
  },
  {
   "cell_type": "code",
   "execution_count": 119,
   "metadata": {},
   "outputs": [
    {
     "name": "stdout",
     "output_type": "stream",
     "text": [
      "kappa_l == sqrt(epsilon_l*mu_l*omega^2 + 4*I*pi*mu_l*omega*sigma_l)/c\n"
     ]
    }
   ],
   "source": [
    "kappa_l_sol = solve(eq_kappa_l, kappa_l)[1]\n",
    "print(kappa_l_sol)"
   ]
  },
  {
   "cell_type": "code",
   "execution_count": 120,
   "metadata": {},
   "outputs": [
    {
     "name": "stdout",
     "output_type": "stream",
     "text": [
      "kappa_r == sqrt(epsilon_r*mu_r*omega^2 + 4*I*pi*mu_r*omega*sigma_r)/c\n"
     ]
    }
   ],
   "source": [
    "kappa_r_sol = solve(eq_kappa_r, kappa_r)[1]\n",
    "print(kappa_r_sol)"
   ]
  },
  {
   "cell_type": "code",
   "execution_count": null,
   "metadata": {},
   "outputs": [],
   "source": []
  },
  {
   "cell_type": "code",
   "execution_count": 121,
   "metadata": {},
   "outputs": [],
   "source": [
    "#E_vacuum_z = A1_z_im*sin(sqrt(kappa_vacuum^2-k_z^2)*(x+a))\n",
    "#E_vacuum_z"
   ]
  },
  {
   "cell_type": "raw",
   "metadata": {},
   "source": [
    "E_inner_vacuum_sol_z(x)"
   ]
  },
  {
   "cell_type": "raw",
   "metadata": {},
   "source": [
    "eqEz_a.rhs() == eqEz_a.lhs()"
   ]
  },
  {
   "cell_type": "raw",
   "metadata": {},
   "source": [
    "eqEz_a"
   ]
  },
  {
   "cell_type": "raw",
   "metadata": {
    "scrolled": true
   },
   "source": [
    "k_z_sol_subs = k_z_sol[1].subs(eqEz_a).full_simplify()\n",
    "k_z_sol_subs.variables()"
   ]
  },
  {
   "cell_type": "code",
   "execution_count": 122,
   "metadata": {},
   "outputs": [],
   "source": [
    "# display(Math(latex(k_z_sol)))"
   ]
  },
  {
   "cell_type": "code",
   "execution_count": 123,
   "metadata": {},
   "outputs": [
    {
     "data": {
      "text/plain": [
       "E_left_conductor_x(x) == -B1_zl*K_left_conductor*c*sqrt(epsilon_l)*k_z*e^(-I*K_left_conductor*(a + x))/(c*sqrt(epsilon_l)*k_z^2 - c*sqrt(epsilon_l)*kappa_l^2 - 4*I*pi*kappa_l*sqrt(mu_l)*sigma_l)"
      ]
     },
     "execution_count": 123,
     "metadata": {},
     "output_type": "execute_result"
    }
   ],
   "source": [
    "eq_7_Ex_l_subs2"
   ]
  },
  {
   "cell_type": "code",
   "execution_count": 124,
   "metadata": {},
   "outputs": [
    {
     "data": {
      "text/latex": [
       "$\\displaystyle E_{{\\rm inner}_{{\\rm vacuum}_{x}}}\\left(-a\\right) = -\\frac{{\\left(\\mathit{A2}_{z} k_{z} e^{\\left(-2 i \\, \\sqrt{-k_{z}^{2} + \\kappa_{\\mathit{vacuum}}^{2}} a\\right)} - \\mathit{A1}_{z} k_{z}\\right)} e^{\\left(i \\, \\sqrt{-k_{z}^{2} + \\kappa_{\\mathit{vacuum}}^{2}} a\\right)}}{\\sqrt{-k_{z}^{2} + \\kappa_{\\mathit{vacuum}}^{2}}}$"
      ],
      "text/plain": [
       "<IPython.core.display.Math object>"
      ]
     },
     "metadata": {},
     "output_type": "display_data"
    },
    {
     "data": {
      "text/latex": [
       "$\\displaystyle E_{{\\rm inner}_{{\\rm vacuum}_{x}}}\\left(a\\right) = -\\frac{{\\left(\\mathit{A2}_{z} k_{z} e^{\\left(2 i \\, \\sqrt{-k_{z}^{2} + \\kappa_{\\mathit{vacuum}}^{2}} a\\right)} - \\mathit{A1}_{z} k_{z}\\right)} e^{\\left(-i \\, \\sqrt{-k_{z}^{2} + \\kappa_{\\mathit{vacuum}}^{2}} a\\right)}}{\\sqrt{-k_{z}^{2} + \\kappa_{\\mathit{vacuum}}^{2}}}$"
      ],
      "text/plain": [
       "<IPython.core.display.Math object>"
      ]
     },
     "metadata": {},
     "output_type": "display_data"
    },
    {
     "data": {
      "text/latex": [
       "$\\displaystyle E_{{\\rm left}_{{\\rm conductor}_{x}}}\\left(-a\\right) = -\\frac{\\mathit{B1}_{\\mathit{zl}} K_{\\mathit{left}_{\\mathit{conductor}}} c \\sqrt{\\epsilon_{l}} k_{z}}{c \\sqrt{\\epsilon_{l}} k_{z}^{2} - c \\sqrt{\\epsilon_{l}} \\kappa_{l}^{2} - 4 i \\, \\pi \\kappa_{l} \\sqrt{\\mu_{l}} \\sigma_{l}}$"
      ],
      "text/plain": [
       "<IPython.core.display.Math object>"
      ]
     },
     "metadata": {},
     "output_type": "display_data"
    },
    {
     "data": {
      "text/latex": [
       "$\\displaystyle E_{{\\rm right}_{{\\rm conductor}_{x}}}\\left(a\\right) = \\frac{\\mathit{B1}_{\\mathit{zr}} K_{\\mathit{right}_{\\mathit{conductor}}} c \\sqrt{\\epsilon_{r}} k_{z}}{c \\sqrt{\\epsilon_{r}} k_{z}^{2} - c \\sqrt{\\epsilon_{r}} \\kappa_{r}^{2} - 4 i \\, \\pi \\kappa_{r} \\sqrt{\\mu_{r}} \\sigma_{r}}$"
      ],
      "text/plain": [
       "<IPython.core.display.Math object>"
      ]
     },
     "metadata": {},
     "output_type": "display_data"
    }
   ],
   "source": [
    "# нормальная компонента электрического смещения\n",
    "eq_5_Ex_l_subs4xa = eq_5_Ex_subs4.subs(x == -a)\n",
    "#print(eq_5_Ex_l_subs4xa)\n",
    "display(Math(latex(eq_5_Ex_l_subs4xa)))\n",
    "\n",
    "eq_5_Ex_r_subs4x0 = eq_5_Ex_subs4.subs(x == a)\n",
    "#print(eq_5_Ex_r_subs4x0)\n",
    "display(Math(latex(eq_5_Ex_r_subs4x0)))\n",
    "\n",
    "\n",
    "eq_7_Ex_l_subs_xa = eq_7_Ex_l_subs2.subs(x == -a)\n",
    "#print(eq_7_Ex_l_subs_xa)\n",
    "display(Math(latex(eq_7_Ex_l_subs_xa)))\n",
    "\n",
    "eq_7_Ex_r_subs_x0 = eq_7_Ex_r_subs2.subs(x == a)\n",
    "#print(eq_7_Ex_r_subs_x0)\n",
    "display(Math(latex(eq_7_Ex_r_subs_x0)))\n",
    "\n",
    "\n",
    "# eqDx_a = E_inner_vacuum_sol_x(0) == E_bad_conductor_sol_x(0) * epsilon\n",
    "\n",
    "#eq_Dx_l = epsilon_l_complex == (eq_5_l_subs4xa.rhs() / eq_7_l_subs4xa.rhs()).full_simplify()\n",
    "#eq_Dx_r = epsilon_r_complex == (eq_5_r_subs4x0.rhs() / eq_7_r_subs4x0.rhs()).full_simplify()\n",
    "\n",
    "# это уравнение тоже исключаем так как поверхностная плотность свободжных зарядов нам не известна\n",
    "# eq_Dx_l = epsilon_l_complex * eq_7_Ex_l_subs_xa.rhs() == eq_5_Ex_l_subs4xa.rhs()\n",
    "# eq_Dx_r = epsilon_r_complex * eq_7_Ex_r_subs_x0.rhs() == eq_5_Ex_r_subs4x0.rhs()\n",
    "\n",
    "# print(\"eq_Dx_l\")\n",
    "# display(Math(latex(eq_Dx_l)))\n",
    "# print(\"eq_Dx_r\")\n",
    "# display(Math(latex(eq_Dx_r)))"
   ]
  },
  {
   "cell_type": "code",
   "execution_count": null,
   "metadata": {},
   "outputs": [],
   "source": []
  },
  {
   "cell_type": "code",
   "execution_count": 125,
   "metadata": {},
   "outputs": [
    {
     "name": "stdout",
     "output_type": "stream",
     "text": [
      "eqHz_l =\n"
     ]
    },
    {
     "data": {
      "text/latex": [
       "$\\displaystyle -\\frac{i \\, {\\left(-i \\, \\mathit{B1}_{\\mathit{yl}} K_{\\mathit{left}_{\\mathit{conductor}}} - i \\, \\mathit{B1}_{\\mathit{xl}} k_{y}\\right)} c}{\\mu_{l} \\omega} = -\\frac{i \\, {\\left(-i \\, \\mathit{A1}_{y} K_{\\mathit{vacuum}} e^{\\left(i \\, K_{\\mathit{vacuum}} a\\right)} + i \\, \\mathit{A2}_{y} K_{\\mathit{vacuum}} e^{\\left(-i \\, K_{\\mathit{vacuum}} a\\right)} - i \\, {\\left(\\mathit{A1}_{x} e^{\\left(i \\, K_{\\mathit{vacuum}} a\\right)} + \\mathit{A2}_{x} e^{\\left(-i \\, K_{\\mathit{vacuum}} a\\right)}\\right)} k_{y}\\right)} c}{\\omega}$"
      ],
      "text/plain": [
       "<IPython.core.display.Math object>"
      ]
     },
     "metadata": {},
     "output_type": "display_data"
    },
    {
     "name": "stdout",
     "output_type": "stream",
     "text": [
      "eqHz_r =\n"
     ]
    },
    {
     "data": {
      "text/latex": [
       "$\\displaystyle -\\frac{i \\, {\\left(i \\, \\mathit{B1}_{\\mathit{yr}} K_{\\mathit{right}_{\\mathit{conductor}}} - i \\, \\mathit{B1}_{\\mathit{xr}} k_{y}\\right)} c}{\\mu_{r} \\omega} = -\\frac{i \\, {\\left(i \\, \\mathit{A2}_{y} K_{\\mathit{vacuum}} e^{\\left(i \\, K_{\\mathit{vacuum}} a\\right)} - i \\, \\mathit{A1}_{y} K_{\\mathit{vacuum}} e^{\\left(-i \\, K_{\\mathit{vacuum}} a\\right)} - i \\, {\\left(\\mathit{A2}_{x} e^{\\left(i \\, K_{\\mathit{vacuum}} a\\right)} + \\mathit{A1}_{x} e^{\\left(-i \\, K_{\\mathit{vacuum}} a\\right)}\\right)} k_{y}\\right)} c}{\\omega}$"
      ],
      "text/plain": [
       "<IPython.core.display.Math object>"
      ]
     },
     "metadata": {},
     "output_type": "display_data"
    },
    {
     "name": "stdout",
     "output_type": "stream",
     "text": [
      "eqHy_l =\n"
     ]
    },
    {
     "data": {
      "text/latex": [
       "$\\displaystyle -\\frac{i \\, {\\left(i \\, \\mathit{B1}_{\\mathit{zl}} K_{\\mathit{left}_{\\mathit{conductor}}} + i \\, \\mathit{B1}_{\\mathit{xl}} k_{z}\\right)} c}{\\mu_{l} \\omega} = -\\frac{i \\, {\\left(i \\, \\mathit{A1}_{z} K_{\\mathit{vacuum}} e^{\\left(i \\, K_{\\mathit{vacuum}} a\\right)} - i \\, \\mathit{A2}_{z} K_{\\mathit{vacuum}} e^{\\left(-i \\, K_{\\mathit{vacuum}} a\\right)} + i \\, {\\left(\\mathit{A1}_{x} e^{\\left(i \\, K_{\\mathit{vacuum}} a\\right)} + \\mathit{A2}_{x} e^{\\left(-i \\, K_{\\mathit{vacuum}} a\\right)}\\right)} k_{z}\\right)} c}{\\omega}$"
      ],
      "text/plain": [
       "<IPython.core.display.Math object>"
      ]
     },
     "metadata": {},
     "output_type": "display_data"
    },
    {
     "name": "stdout",
     "output_type": "stream",
     "text": [
      "eqHy_r =\n"
     ]
    },
    {
     "data": {
      "text/latex": [
       "$\\displaystyle -\\frac{i \\, {\\left(-i \\, \\mathit{B1}_{\\mathit{zr}} K_{\\mathit{right}_{\\mathit{conductor}}} + i \\, \\mathit{B1}_{\\mathit{xr}} k_{z}\\right)} c}{\\mu_{r} \\omega} = -\\frac{i \\, {\\left(-i \\, \\mathit{A2}_{z} K_{\\mathit{vacuum}} e^{\\left(i \\, K_{\\mathit{vacuum}} a\\right)} + i \\, \\mathit{A1}_{z} K_{\\mathit{vacuum}} e^{\\left(-i \\, K_{\\mathit{vacuum}} a\\right)} + i \\, {\\left(\\mathit{A2}_{x} e^{\\left(i \\, K_{\\mathit{vacuum}} a\\right)} + \\mathit{A1}_{x} e^{\\left(-i \\, K_{\\mathit{vacuum}} a\\right)}\\right)} k_{z}\\right)} c}{\\omega}$"
      ],
      "text/plain": [
       "<IPython.core.display.Math object>"
      ]
     },
     "metadata": {},
     "output_type": "display_data"
    },
    {
     "name": "stdout",
     "output_type": "stream",
     "text": [
      "eqHz_l_ =\n"
     ]
    },
    {
     "data": {
      "text/latex": [
       "$\\displaystyle -\\frac{i \\, {\\left(-i \\, {\\left(i \\, \\mathit{B1}_{\\mathit{yl}_{\\mathit{im}}} + \\mathit{B1}_{\\mathit{yl}_{\\mathit{re}}}\\right)} K_{\\mathit{left}_{\\mathit{conductor}}} - i \\, {\\left(i \\, \\mathit{B1}_{\\mathit{xl}_{\\mathit{im}}} + \\mathit{B1}_{\\mathit{xl}_{\\mathit{re}}}\\right)} k_{y}\\right)} c}{\\mu_{l} \\omega} = -\\frac{i \\, {\\left(-i \\, {\\left(i \\, \\mathit{A1}_{y_{\\mathit{im}}} + \\mathit{A1}_{y_{\\mathit{re}}}\\right)} K_{\\mathit{vacuum}} e^{\\left(i \\, K_{\\mathit{vacuum}} a\\right)} + i \\, {\\left(i \\, \\mathit{A2}_{y_{\\mathit{im}}} + \\mathit{A2}_{y_{\\mathit{re}}}\\right)} K_{\\mathit{vacuum}} e^{\\left(-i \\, K_{\\mathit{vacuum}} a\\right)} - i \\, {\\left({\\left(i \\, \\mathit{A1}_{x_{\\mathit{im}}} + \\mathit{A1}_{x_{\\mathit{re}}}\\right)} e^{\\left(i \\, K_{\\mathit{vacuum}} a\\right)} + {\\left(i \\, \\mathit{A2}_{x_{\\mathit{im}}} + \\mathit{A2}_{x_{\\mathit{re}}}\\right)} e^{\\left(-i \\, K_{\\mathit{vacuum}} a\\right)}\\right)} k_{y}\\right)} c}{\\omega}$"
      ],
      "text/plain": [
       "<IPython.core.display.Math object>"
      ]
     },
     "metadata": {},
     "output_type": "display_data"
    },
    {
     "name": "stdout",
     "output_type": "stream",
     "text": [
      "eqHz_r_ =\n"
     ]
    },
    {
     "data": {
      "text/latex": [
       "$\\displaystyle -\\frac{i \\, {\\left(i \\, {\\left(i \\, \\mathit{B1}_{\\mathit{yr}_{\\mathit{im}}} + \\mathit{B1}_{\\mathit{yr}_{\\mathit{re}}}\\right)} K_{\\mathit{right}_{\\mathit{conductor}}} - i \\, {\\left(i \\, \\mathit{B1}_{\\mathit{xr}_{\\mathit{im}}} + \\mathit{B1}_{\\mathit{xr}_{\\mathit{re}}}\\right)} k_{y}\\right)} c}{\\mu_{r} \\omega} = -\\frac{i \\, {\\left(i \\, {\\left(i \\, \\mathit{A2}_{y_{\\mathit{im}}} + \\mathit{A2}_{y_{\\mathit{re}}}\\right)} K_{\\mathit{vacuum}} e^{\\left(i \\, K_{\\mathit{vacuum}} a\\right)} - i \\, {\\left(i \\, \\mathit{A1}_{y_{\\mathit{im}}} + \\mathit{A1}_{y_{\\mathit{re}}}\\right)} K_{\\mathit{vacuum}} e^{\\left(-i \\, K_{\\mathit{vacuum}} a\\right)} - i \\, {\\left({\\left(i \\, \\mathit{A2}_{x_{\\mathit{im}}} + \\mathit{A2}_{x_{\\mathit{re}}}\\right)} e^{\\left(i \\, K_{\\mathit{vacuum}} a\\right)} + {\\left(i \\, \\mathit{A1}_{x_{\\mathit{im}}} + \\mathit{A1}_{x_{\\mathit{re}}}\\right)} e^{\\left(-i \\, K_{\\mathit{vacuum}} a\\right)}\\right)} k_{y}\\right)} c}{\\omega}$"
      ],
      "text/plain": [
       "<IPython.core.display.Math object>"
      ]
     },
     "metadata": {},
     "output_type": "display_data"
    },
    {
     "name": "stdout",
     "output_type": "stream",
     "text": [
      "eqHy_l_ =\n"
     ]
    },
    {
     "data": {
      "text/latex": [
       "$\\displaystyle \\frac{i \\, \\sqrt{\\epsilon_{l} \\mu_{l} \\omega^{2} + 4 i \\, \\pi \\mu_{l} \\omega \\sigma_{l}} {\\left(4 \\, \\pi \\epsilon_{l} \\sqrt{\\mu_{l}} \\sigma_{l} - i \\, \\sqrt{\\epsilon_{l} \\mu_{l} \\omega^{2} + 4 i \\, \\pi \\mu_{l} \\omega \\sigma_{l}} \\epsilon_{l}^{\\frac{3}{2}}\\right)} \\sqrt{-k_{z}^{2} + \\frac{\\epsilon_{l} \\mu_{l} \\omega^{2} + 4 i \\, \\pi \\mu_{l} \\omega \\sigma_{l}}{c^{2}}} {\\left(i \\, \\mathit{B1}_{\\mathit{zl}_{\\mathit{im}}} + \\mathit{B1}_{\\mathit{zl}_{\\mathit{re}}}\\right)}}{{\\left(\\frac{4 i \\, \\pi \\sqrt{\\epsilon_{l} \\mu_{l} \\omega^{2} + 4 i \\, \\pi \\mu_{l} \\omega \\sigma_{l}} \\sqrt{\\epsilon_{l}} \\mu_{l} \\sigma_{l}}{c} - {\\left(c \\epsilon_{l} k_{z}^{2} - \\frac{{\\left(\\epsilon_{l} \\mu_{l} \\omega^{2} + 4 i \\, \\pi \\mu_{l} \\omega \\sigma_{l}\\right)} \\epsilon_{l}}{c}\\right)} \\sqrt{\\mu_{l}}\\right)} c \\mu_{l}} = -\\frac{i \\, {\\left(-i \\, \\sqrt{-k_{z}^{2} + \\frac{\\omega^{2}}{c^{2}}} {\\left(i \\, \\mathit{A1}_{z_{\\mathit{im}}} + \\mathit{A1}_{z_{\\mathit{re}}}\\right)} e^{\\left(i \\, \\sqrt{-k_{z}^{2} + \\frac{\\omega^{2}}{c^{2}}} a\\right)} + i \\, \\sqrt{-k_{z}^{2} + \\frac{\\omega^{2}}{c^{2}}} {\\left(i \\, \\mathit{A2}_{z_{\\mathit{im}}} + \\mathit{A2}_{z_{\\mathit{re}}}\\right)} e^{\\left(-i \\, \\sqrt{-k_{z}^{2} + \\frac{\\omega^{2}}{c^{2}}} a\\right)}\\right)} \\omega^{2}}{{\\left(k_{z}^{2} - \\frac{\\omega^{2}}{c^{2}}\\right)} c^{2}}$"
      ],
      "text/plain": [
       "<IPython.core.display.Math object>"
      ]
     },
     "metadata": {},
     "output_type": "display_data"
    },
    {
     "name": "stdout",
     "output_type": "stream",
     "text": [
      "eqHy_r_ =\n"
     ]
    },
    {
     "data": {
      "text/latex": [
       "$\\displaystyle -\\frac{i \\, \\sqrt{\\epsilon_{r} \\mu_{r} \\omega^{2} + 4 i \\, \\pi \\mu_{r} \\omega \\sigma_{r}} {\\left(4 \\, \\pi \\epsilon_{r} \\sqrt{\\mu_{r}} \\sigma_{r} - i \\, \\sqrt{\\epsilon_{r} \\mu_{r} \\omega^{2} + 4 i \\, \\pi \\mu_{r} \\omega \\sigma_{r}} \\epsilon_{r}^{\\frac{3}{2}}\\right)} \\sqrt{-k_{z}^{2} + \\frac{\\epsilon_{r} \\mu_{r} \\omega^{2} + 4 i \\, \\pi \\mu_{r} \\omega \\sigma_{r}}{c^{2}}} {\\left(i \\, \\mathit{B1}_{\\mathit{zr}_{\\mathit{im}}} + \\mathit{B1}_{\\mathit{zr}_{\\mathit{re}}}\\right)}}{{\\left(\\frac{4 i \\, \\pi \\sqrt{\\epsilon_{r} \\mu_{r} \\omega^{2} + 4 i \\, \\pi \\mu_{r} \\omega \\sigma_{r}} \\sqrt{\\epsilon_{r}} \\mu_{r} \\sigma_{r}}{c} - {\\left(c \\epsilon_{r} k_{z}^{2} - \\frac{{\\left(\\epsilon_{r} \\mu_{r} \\omega^{2} + 4 i \\, \\pi \\mu_{r} \\omega \\sigma_{r}\\right)} \\epsilon_{r}}{c}\\right)} \\sqrt{\\mu_{r}}\\right)} c \\mu_{r}} = -\\frac{i \\, {\\left(i \\, \\sqrt{-k_{z}^{2} + \\frac{\\omega^{2}}{c^{2}}} {\\left(i \\, \\mathit{A2}_{z_{\\mathit{im}}} + \\mathit{A2}_{z_{\\mathit{re}}}\\right)} e^{\\left(i \\, \\sqrt{-k_{z}^{2} + \\frac{\\omega^{2}}{c^{2}}} a\\right)} - i \\, \\sqrt{-k_{z}^{2} + \\frac{\\omega^{2}}{c^{2}}} {\\left(i \\, \\mathit{A1}_{z_{\\mathit{im}}} + \\mathit{A1}_{z_{\\mathit{re}}}\\right)} e^{\\left(-i \\, \\sqrt{-k_{z}^{2} + \\frac{\\omega^{2}}{c^{2}}} a\\right)}\\right)} \\omega^{2}}{{\\left(k_{z}^{2} - \\frac{\\omega^{2}}{c^{2}}\\right)} c^{2}}$"
      ],
      "text/plain": [
       "<IPython.core.display.Math object>"
      ]
     },
     "metadata": {},
     "output_type": "display_data"
    }
   ],
   "source": [
    "# тангенциальная компонента напряженности магнитного поля\n",
    "print (\"eqHz_l =\")\n",
    "display(Math(latex(eqHz_l)))\n",
    "print (\"eqHz_r =\")\n",
    "display(Math(latex(eqHz_r)))\n",
    "print (\"eqHy_l =\")\n",
    "display(Math(latex(eqHy_l)))\n",
    "print (\"eqHy_r =\")\n",
    "display(Math(latex(eqHy_r)))\n",
    "\n",
    "eqHz_l_ = eqHz_l \\\n",
    "        .subs(coefs_re_im_subs)\n",
    "\n",
    "eqHz_r_ = eqHz_r \\\n",
    "        .subs(coefs_re_im_subs)\n",
    "\n",
    "eqHy_l_ = eq_Hy_l.subs(kappa_vacuum_sol).subs(kappa_l_sol) \\\n",
    "        .subs(coefs_re_im_subs)\n",
    "\n",
    "eqHy_r_ = eq_Hy_r.subs(kappa_vacuum_sol).subs(kappa_r_sol) \\\n",
    "        .subs(coefs_re_im_subs)\n",
    "\n",
    "print (\"eqHz_l_ =\")\n",
    "display(Math(latex(eqHz_l_)))\n",
    "print (\"eqHz_r_ =\")\n",
    "display(Math(latex(eqHz_r_)))\n",
    "\n",
    "print (\"eqHy_l_ =\")\n",
    "display(Math(latex(eqHy_l_)))\n",
    "print (\"eqHy_r_ =\")\n",
    "display(Math(latex(eqHy_r_)))"
   ]
  },
  {
   "cell_type": "code",
   "execution_count": 126,
   "metadata": {},
   "outputs": [
    {
     "name": "stdout",
     "output_type": "stream",
     "text": [
      "eqEz_l = \n"
     ]
    },
    {
     "data": {
      "text/latex": [
       "$\\displaystyle \\mathit{B1}_{\\mathit{zl}} = \\mathit{A1}_{z} e^{\\left(i \\, K_{\\mathit{vacuum}} a\\right)} + \\mathit{A2}_{z} e^{\\left(-i \\, K_{\\mathit{vacuum}} a\\right)}$"
      ],
      "text/plain": [
       "<IPython.core.display.Math object>"
      ]
     },
     "metadata": {},
     "output_type": "display_data"
    },
    {
     "name": "stdout",
     "output_type": "stream",
     "text": [
      "eqEz_r = \n"
     ]
    },
    {
     "data": {
      "text/latex": [
       "$\\displaystyle \\mathit{B1}_{\\mathit{zr}} = \\mathit{A2}_{z} e^{\\left(i \\, K_{\\mathit{vacuum}} a\\right)} + \\mathit{A1}_{z} e^{\\left(-i \\, K_{\\mathit{vacuum}} a\\right)}$"
      ],
      "text/plain": [
       "<IPython.core.display.Math object>"
      ]
     },
     "metadata": {},
     "output_type": "display_data"
    },
    {
     "name": "stdout",
     "output_type": "stream",
     "text": [
      "eqEz_l_ = \n"
     ]
    },
    {
     "data": {
      "text/latex": [
       "$\\displaystyle i \\, \\mathit{B1}_{\\mathit{zl}_{\\mathit{im}}} + \\mathit{B1}_{\\mathit{zl}_{\\mathit{re}}} = {\\left(i \\, \\mathit{A1}_{z_{\\mathit{im}}} + \\mathit{A1}_{z_{\\mathit{re}}}\\right)} e^{\\left(i \\, K_{\\mathit{vacuum}} a\\right)} + {\\left(i \\, \\mathit{A2}_{z_{\\mathit{im}}} + \\mathit{A2}_{z_{\\mathit{re}}}\\right)} e^{\\left(-i \\, K_{\\mathit{vacuum}} a\\right)}$"
      ],
      "text/plain": [
       "<IPython.core.display.Math object>"
      ]
     },
     "metadata": {},
     "output_type": "display_data"
    },
    {
     "name": "stdout",
     "output_type": "stream",
     "text": [
      "eqEz_r_ = \n"
     ]
    },
    {
     "data": {
      "text/latex": [
       "$\\displaystyle i \\, \\mathit{B1}_{\\mathit{zr}_{\\mathit{im}}} + \\mathit{B1}_{\\mathit{zr}_{\\mathit{re}}} = {\\left(i \\, \\mathit{A2}_{z_{\\mathit{im}}} + \\mathit{A2}_{z_{\\mathit{re}}}\\right)} e^{\\left(i \\, K_{\\mathit{vacuum}} a\\right)} + {\\left(i \\, \\mathit{A1}_{z_{\\mathit{im}}} + \\mathit{A1}_{z_{\\mathit{re}}}\\right)} e^{\\left(-i \\, K_{\\mathit{vacuum}} a\\right)}$"
      ],
      "text/plain": [
       "<IPython.core.display.Math object>"
      ]
     },
     "metadata": {},
     "output_type": "display_data"
    }
   ],
   "source": [
    "# граничные условия на границе вакуума внутри резонатора и проводящего металла с потерями\n",
    "# тангенциальная компонента электрического поля\n",
    "\n",
    "print (\"eqEz_l = \")\n",
    "display(Math(latex(eqEz_l)))\n",
    "\n",
    "print (\"eqEz_r = \")\n",
    "display(Math(latex(eqEz_r)))\n",
    "\n",
    "eqEz_l_ = eqEz_l \\\n",
    "        .subs(coefs_re_im_subs)\n",
    "\n",
    "eqEz_r_ = eqEz_r \\\n",
    "        .subs(coefs_re_im_subs)\n",
    "\n",
    "eqEy_l_ = eqEy_l \\\n",
    "        .subs(coefs_re_im_subs)\n",
    "eqEy_r_ = eqEy_r \\\n",
    "        .subs(coefs_re_im_subs)\n",
    "\n",
    "print (\"eqEz_l_ = \")\n",
    "display(Math(latex(eqEz_l_)))\n",
    "print (\"eqEz_r_ = \")\n",
    "display(Math(latex(eqEz_r_)))"
   ]
  },
  {
   "cell_type": "code",
   "execution_count": 127,
   "metadata": {},
   "outputs": [
    {
     "name": "stdout",
     "output_type": "stream",
     "text": [
      "eqBx_l =\n"
     ]
    },
    {
     "data": {
      "text/latex": [
       "$\\displaystyle -\\frac{\\mathit{B1}_{\\mathit{yl}} c k_{z}}{\\omega} = -\\frac{{\\left(\\mathit{A1}_{y} e^{\\left(i \\, K_{\\mathit{vacuum}} a\\right)} + \\mathit{A2}_{y} e^{\\left(-i \\, K_{\\mathit{vacuum}} a\\right)}\\right)} c k_{z}}{\\omega}$"
      ],
      "text/plain": [
       "<IPython.core.display.Math object>"
      ]
     },
     "metadata": {},
     "output_type": "display_data"
    },
    {
     "name": "stdout",
     "output_type": "stream",
     "text": [
      "eqBx_r =\n"
     ]
    },
    {
     "data": {
      "text/latex": [
       "$\\displaystyle -\\frac{\\mathit{B1}_{\\mathit{yr}} c k_{z}}{\\omega} = -\\frac{{\\left(\\mathit{A2}_{y} e^{\\left(i \\, K_{\\mathit{vacuum}} a\\right)} + \\mathit{A1}_{y} e^{\\left(-i \\, K_{\\mathit{vacuum}} a\\right)}\\right)} c k_{z}}{\\omega}$"
      ],
      "text/plain": [
       "<IPython.core.display.Math object>"
      ]
     },
     "metadata": {},
     "output_type": "display_data"
    },
    {
     "name": "stdout",
     "output_type": "stream",
     "text": [
      "eqBx_l_ =\n"
     ]
    },
    {
     "data": {
      "text/latex": [
       "$\\displaystyle -\\frac{{\\left(i \\, \\mathit{B1}_{\\mathit{yl}_{\\mathit{im}}} + \\mathit{B1}_{\\mathit{yl}_{\\mathit{re}}}\\right)} c k_{z}}{\\omega} = -\\frac{{\\left({\\left(i \\, \\mathit{A1}_{y_{\\mathit{im}}} + \\mathit{A1}_{y_{\\mathit{re}}}\\right)} e^{\\left(i \\, K_{\\mathit{vacuum}} a\\right)} + {\\left(i \\, \\mathit{A2}_{y_{\\mathit{im}}} + \\mathit{A2}_{y_{\\mathit{re}}}\\right)} e^{\\left(-i \\, K_{\\mathit{vacuum}} a\\right)}\\right)} c k_{z}}{\\omega}$"
      ],
      "text/plain": [
       "<IPython.core.display.Math object>"
      ]
     },
     "metadata": {},
     "output_type": "display_data"
    },
    {
     "name": "stdout",
     "output_type": "stream",
     "text": [
      "eqBx_r_ =\n"
     ]
    },
    {
     "data": {
      "text/latex": [
       "$\\displaystyle -\\frac{{\\left(i \\, \\mathit{B1}_{\\mathit{yr}_{\\mathit{im}}} + \\mathit{B1}_{\\mathit{yr}_{\\mathit{re}}}\\right)} c k_{z}}{\\omega} = -\\frac{{\\left({\\left(i \\, \\mathit{A2}_{y_{\\mathit{im}}} + \\mathit{A2}_{y_{\\mathit{re}}}\\right)} e^{\\left(i \\, K_{\\mathit{vacuum}} a\\right)} + {\\left(i \\, \\mathit{A1}_{y_{\\mathit{im}}} + \\mathit{A1}_{y_{\\mathit{re}}}\\right)} e^{\\left(-i \\, K_{\\mathit{vacuum}} a\\right)}\\right)} c k_{z}}{\\omega}$"
      ],
      "text/plain": [
       "<IPython.core.display.Math object>"
      ]
     },
     "metadata": {},
     "output_type": "display_data"
    }
   ],
   "source": [
    "# нормальная компонента индукции магнитного поля\n",
    "#eqBx_a  = mu * H_bad_conductor_sol_x (0)  == H_inner_vacuum_sol_x (0)\n",
    "\n",
    "print (\"eqBx_l =\")\n",
    "display(Math(latex(eqBx_l)))\n",
    "print (\"eqBx_r =\")\n",
    "display(Math(latex(eqBx_r)))\n",
    "\n",
    "eqBx_l_ = eqBx_l \\\n",
    "        .subs(coefs_re_im_subs)\n",
    "\n",
    "eqBx_r_ = eqBx_r \\\n",
    "        .subs(coefs_re_im_subs)\n",
    "\n",
    "print (\"eqBx_l_ =\")\n",
    "display(Math(latex(eqBx_l_)))\n",
    "\n",
    "print (\"eqBx_r_ =\")\n",
    "display(Math(latex(eqBx_r_)))"
   ]
  },
  {
   "cell_type": "code",
   "execution_count": null,
   "metadata": {},
   "outputs": [],
   "source": []
  },
  {
   "cell_type": "code",
   "execution_count": null,
   "metadata": {},
   "outputs": [],
   "source": []
  },
  {
   "cell_type": "code",
   "execution_count": null,
   "metadata": {},
   "outputs": [],
   "source": []
  },
  {
   "cell_type": "code",
   "execution_count": 128,
   "metadata": {},
   "outputs": [],
   "source": [
    "def GenerateMatrix(equsys, vars):\n",
    "    A=matrix(SR, [[(equ.lhs() - equ.rhs()).expand().coefficient(v) for v in vars] for equ in equsys])\n",
    "    return A"
   ]
  },
  {
   "cell_type": "code",
   "execution_count": 129,
   "metadata": {},
   "outputs": [],
   "source": [
    "def GenerateMatrixReIm(equsys, coefs_re_im_subs, vars):\n",
    "    A=matrix(SR, [[(equ.lhs().real() - equ.rhs().real()).subs(k_z == kz + I * sz).subs(coefs_re_im_subs).expand().coefficient(v) for v in vars] for equ in equsys] + \\\n",
    "                 [[(equ.lhs().imag() - equ.rhs().imag()).subs(k_z == kz + I * sz).subs(coefs_re_im_subs).expand().coefficient(v) for v in vars] for equ in equsys])\n",
    "    return A"
   ]
  },
  {
   "cell_type": "code",
   "execution_count": 130,
   "metadata": {},
   "outputs": [],
   "source": [
    "def GenerateMatrixNumeric(equsys, vars):\n",
    "    A=matrix(SR, [[(equ.lhs() - equ.rhs()).coefficient(v).n() for v in vars] for equ in equsys])\n",
    "    return A"
   ]
  },
  {
   "cell_type": "code",
   "execution_count": 131,
   "metadata": {},
   "outputs": [],
   "source": [
    "def reduceDependedRows(M):\n",
    "    print (\"\")\n",
    "    print (\"M.nrows()\", M.nrows())\n",
    "    print (\"M.ncols()\", M.ncols())\n",
    "    #print (\"M.rank()\", M.rank())\n",
    "\n",
    "    M_pivot_rows = M.pivot_rows()\n",
    "    print (\"M.pivot_rows() =\", M_pivot_rows)\n",
    "\n",
    "    M_rows = M.rows()\n",
    "    for row in M_rows:\n",
    "        print (\"row =\", row)\n",
    "\n",
    "    reduced_list = []\n",
    "    for r in M_pivot_rows:\n",
    "        print (\"M_rows[\", r, \"] =\")\n",
    "        display(Math(latex(M_rows[r])))\n",
    "        reduced_list.append(M_rows[r])\n",
    "\n",
    "    reduced_M = matrix(SR, len(M_pivot_rows), M.ncols(), reduced_list)\n",
    "    #reduced_M_det = reduced_M.det()\n",
    "    \n",
    "    print (\"reduced_M.nrows()\", reduced_M.nrows())\n",
    "    print (\"reduced_M.ncols()\", reduced_M.ncols())\n",
    "    \n",
    "    #print (\"\")\n",
    "    #print(\"reduced_M.det() =\", reduced_M_det)\n",
    "    return reduced_M"
   ]
  },
  {
   "cell_type": "code",
   "execution_count": 132,
   "metadata": {},
   "outputs": [],
   "source": [
    "def reduceRows(M, M_pivot_rows):\n",
    "    print (\"\")\n",
    "    print (\"M.nrows()\", M.nrows())\n",
    "    print (\"M.ncols()\", M.ncols())\n",
    "    #print (\"M.rank()\", M.rank())\n",
    "\n",
    "    print (\"M.pivot_rows() =\", M_pivot_rows)\n",
    "\n",
    "    M_rows = M.rows()\n",
    "    for row in M_rows:\n",
    "        print (\"row =\", row)\n",
    "\n",
    "    reduced_list = []\n",
    "    for r in M_pivot_rows:\n",
    "        print (\"M_rows[\", r, \"] =\")\n",
    "        display(Math(latex(M_rows[r])))\n",
    "        reduced_list.append(M_rows[r])\n",
    "\n",
    "    reduced_M = matrix(SR, len(M_pivot_rows), M.ncols(), reduced_list)\n",
    "    #reduced_M_det = reduced_M.det()\n",
    "    #print (\"\")\n",
    "    #print(\"reduced_M.det() =\", reduced_M_det)\n",
    "    \n",
    "    print (\"reduced_M.nrows()\", reduced_M.nrows())\n",
    "    print (\"reduced_M.ncols()\", reduced_M.ncols())\n",
    "\n",
    "    return reduced_M"
   ]
  },
  {
   "cell_type": "code",
   "execution_count": 133,
   "metadata": {},
   "outputs": [],
   "source": [
    "# sqrt(mu / epsilon_complex) = omega/c * mu / kappa\n",
    "# sqrt(mu / epsilon_complex) = omega/c * mu_rel * mu_0 / kappa\n",
    "\n",
    "# kappa/mu == omega * sqrt(epsilon_complex/mu)\n",
    "# sqrt(mu_0 / epsilon_0) = omega * mu_0 / kappa_vacuum\n",
    "\n",
    "# kappa_vacuum == omega/c\n",
    "# sqrt(mu_0 / epsilon_0) = c * mu_0\n",
    "# c = 1 / sqrt(mu_0 * epsilon_0)\n",
    "\n",
    "# kappa = omega/c * sqrt(epsilon_comlex*mu)\n",
    "# kappa_vacuum = omega/c * sqrt(epsilon_0*mu_0) = omega/c\n",
    "\n",
    "# sqrt(mu_0 / epsilon_0) = 1/(c*epsilon_0) = omega/c * mu_0 / kappa_vacuum\n",
    "# sqrt(mu / epsilon_complex) = 1/(c*epsilon_complex) = omega/c * mu / kappa\n",
    "\n",
    "# 1/mu_0 = c^2*epsolon_0"
   ]
  },
  {
   "cell_type": "code",
   "execution_count": 134,
   "metadata": {},
   "outputs": [],
   "source": [
    "Ex_left_conductor  = (eq_7_Ex_l_subs2.rhs())\n",
    "Ex_vacuum          = (eq_5_Ex_subs3.rhs())\n",
    "Ex_right_conductor = (eq_7_Ex_r_subs2.rhs())"
   ]
  },
  {
   "cell_type": "code",
   "execution_count": 135,
   "metadata": {},
   "outputs": [
    {
     "data": {
      "text/latex": [
       "$\\displaystyle \\frac{\\mathit{B1}_{\\mathit{zr}} K_{\\mathit{right}_{\\mathit{conductor}}} c \\sqrt{\\epsilon_{r}} k_{z} e^{\\left(-i \\, K_{\\mathit{right}_{\\mathit{conductor}}} {\\left(a - x\\right)}\\right)}}{c \\sqrt{\\epsilon_{r}} k_{z}^{2} - c \\sqrt{\\epsilon_{r}} \\kappa_{r}^{2} - 4 i \\, \\pi \\kappa_{r} \\sqrt{\\mu_{r}} \\sigma_{r}}$"
      ],
      "text/plain": [
       "<IPython.core.display.Math object>"
      ]
     },
     "metadata": {},
     "output_type": "display_data"
    }
   ],
   "source": [
    "disp(Ex_right_conductor)"
   ]
  },
  {
   "cell_type": "code",
   "execution_count": 136,
   "metadata": {},
   "outputs": [],
   "source": [
    "Ez_left_conductor  = E_left_conductor_sol_z(x)\n",
    "Ez_vacuum          = E_inner_vacuum_sol_z(x)\n",
    "Ez_right_conductor = E_right_conductor_sol_z(x)"
   ]
  },
  {
   "cell_type": "code",
   "execution_count": 137,
   "metadata": {},
   "outputs": [
    {
     "data": {
      "text/latex": [
       "$\\displaystyle \\mathit{B1}_{\\mathit{zr}} e^{\\left(-i \\, K_{\\mathit{right}_{\\mathit{conductor}}} {\\left(a - x\\right)}\\right)}$"
      ],
      "text/plain": [
       "<IPython.core.display.Math object>"
      ]
     },
     "metadata": {},
     "output_type": "display_data"
    }
   ],
   "source": [
    "disp(Ez_right_conductor)"
   ]
  },
  {
   "cell_type": "code",
   "execution_count": 138,
   "metadata": {},
   "outputs": [],
   "source": [
    "Hy_left_conductor  = c * (eq_8_Hy_l_subs2.rhs()*kappa_l   / (mu_l*omega))\n",
    "Hy_vacuum          = c * (eq_6_Hy_subs3.rhs()*kappa_vacuum/ (mu_0*omega))\n",
    "Hy_right_conductor = c * (eq_8_Hy_r_subs2.rhs()*kappa_r   / (mu_r*omega))"
   ]
  },
  {
   "cell_type": "code",
   "execution_count": 139,
   "metadata": {},
   "outputs": [
    {
     "data": {
      "text/latex": [
       "$\\displaystyle \\frac{i \\, {\\left(i \\, c \\epsilon_{r}^{\\frac{3}{2}} \\kappa_{r} - 4 \\, \\pi \\epsilon_{r} \\sqrt{\\mu_{r}} \\sigma_{r}\\right)} \\mathit{B1}_{\\mathit{zr}} K_{\\mathit{right}_{\\mathit{conductor}}} c \\kappa_{r} e^{\\left(-i \\, K_{\\mathit{right}_{\\mathit{conductor}}} {\\left(a - x\\right)}\\right)}}{{\\left(4 i \\, \\pi \\sqrt{\\epsilon_{r}} \\kappa_{r} \\mu_{r} \\sigma_{r} - {\\left(c \\epsilon_{r} k_{z}^{2} - c \\epsilon_{r} \\kappa_{r}^{2}\\right)} \\sqrt{\\mu_{r}}\\right)} \\mu_{r} \\omega}$"
      ],
      "text/plain": [
       "<IPython.core.display.Math object>"
      ]
     },
     "metadata": {},
     "output_type": "display_data"
    }
   ],
   "source": [
    "disp(Hy_right_conductor)"
   ]
  },
  {
   "cell_type": "code",
   "execution_count": 140,
   "metadata": {},
   "outputs": [],
   "source": [
    "rot_H_vacuum_x = - diff(Hy_vacuum(x=x)*e^(I*k_z*z), z)\n",
    "rot_H_vacuum_y =   0\n",
    "rot_H_vacuum_z =   diff(Hy_vacuum(x=x)*e^(I*k_z*z), x)"
   ]
  },
  {
   "cell_type": "code",
   "execution_count": 141,
   "metadata": {},
   "outputs": [],
   "source": [
    "eq_rot_H_vacuum_x = rot_H_vacuum_x == (-I*omega/c*Ex_vacuum(x=x)*e^(I*k_z*z))\n",
    "eq_rot_H_vacuum_z = rot_H_vacuum_z == (-I*omega/c*Ez_vacuum(x=x)*e^(I*k_z*z))"
   ]
  },
  {
   "cell_type": "code",
   "execution_count": 142,
   "metadata": {},
   "outputs": [],
   "source": [
    "rot_H_left_conductor_x = - diff(Hy_left_conductor(x=x)*e^(I*k_z*z), z)\n",
    "rot_H_left_conductor_y =   0\n",
    "rot_H_left_conductor_z =   diff(Hy_left_conductor(x=x)*e^(I*k_z*z), x)"
   ]
  },
  {
   "cell_type": "code",
   "execution_count": 143,
   "metadata": {},
   "outputs": [],
   "source": [
    "eq_rot_H_left_conductor_x = rot_H_left_conductor_x == ((-I*epsilon_l_complex*omega/c) * Ex_left_conductor(x=x)*e^(I*k_z*z))\n",
    "eq_rot_H_left_conductor_z = rot_H_left_conductor_z == ((-I*epsilon_l_complex*omega/c) * Ez_left_conductor(x=x)*e^(I*k_z*z))"
   ]
  },
  {
   "cell_type": "code",
   "execution_count": 144,
   "metadata": {},
   "outputs": [
    {
     "data": {
      "text/latex": [
       "$\\displaystyle -\\frac{{\\left(i \\, c \\epsilon_{l}^{\\frac{3}{2}} \\kappa_{l} - 4 \\, \\pi \\epsilon_{l} \\sqrt{\\mu_{l}} \\sigma_{l}\\right)} \\mathit{B1}_{\\mathit{zl}} K_{\\mathit{left}_{\\mathit{conductor}}} c k_{z} \\kappa_{l} e^{\\left(-i \\, K_{\\mathit{left}_{\\mathit{conductor}}} {\\left(a + x\\right)} + i \\, k_{z} z\\right)}}{{\\left(4 i \\, \\pi \\sqrt{\\epsilon_{l}} \\kappa_{l} \\mu_{l} \\sigma_{l} - {\\left(c \\epsilon_{l} k_{z}^{2} - c \\epsilon_{l} \\kappa_{l}^{2}\\right)} \\sqrt{\\mu_{l}}\\right)} \\mu_{l} \\omega} = -\\frac{\\mathit{B1}_{\\mathit{zl}} K_{\\mathit{left}_{\\mathit{conductor}}} \\sqrt{\\epsilon_{l}} {\\left(-i \\, \\epsilon_{l} + \\frac{4 \\, \\pi \\sigma_{l}}{\\omega}\\right)} k_{z} \\omega e^{\\left(-i \\, K_{\\mathit{left}_{\\mathit{conductor}}} {\\left(a + x\\right)} + i \\, k_{z} z\\right)}}{c \\sqrt{\\epsilon_{l}} k_{z}^{2} - c \\sqrt{\\epsilon_{l}} \\kappa_{l}^{2} - 4 i \\, \\pi \\kappa_{l} \\sqrt{\\mu_{l}} \\sigma_{l}}$"
      ],
      "text/plain": [
       "<IPython.core.display.Math object>"
      ]
     },
     "metadata": {},
     "output_type": "display_data"
    }
   ],
   "source": [
    "disp(eq_rot_H_left_conductor_x)"
   ]
  },
  {
   "cell_type": "code",
   "execution_count": 145,
   "metadata": {},
   "outputs": [],
   "source": [
    "rot_H_right_conductor_x = - diff(Hy_right_conductor(x=x)*e^(I*k_z*z), z)\n",
    "rot_H_right_conductor_y =   0\n",
    "rot_H_right_conductor_z =   diff(Hy_right_conductor(x=x)*e^(I*k_z*z), x)"
   ]
  },
  {
   "cell_type": "code",
   "execution_count": 146,
   "metadata": {},
   "outputs": [],
   "source": [
    "eq_rot_H_right_conductor_x = rot_H_right_conductor_x == ((-I*epsilon_r_complex*omega/c) * Ex_right_conductor(x=x)*e^(I*k_z*z))\n",
    "eq_rot_H_right_conductor_z = rot_H_right_conductor_z == ((-I*epsilon_r_complex*omega/c) * Ez_right_conductor(x=x)*e^(I*k_z*z))"
   ]
  },
  {
   "cell_type": "code",
   "execution_count": null,
   "metadata": {},
   "outputs": [],
   "source": []
  },
  {
   "cell_type": "code",
   "execution_count": 147,
   "metadata": {},
   "outputs": [],
   "source": [
    "# eqDx__l,#_subs, # это уравнение исключаем так как поверхностная плотность свободных зарядов нам не известна\n",
    "# eqDx__r,#_subs,\n",
    "\n",
    "sys12 = [eq_Hy_l,#_subs,\n",
    "        eq_Hy_r,#_subs,\n",
    "        eqEz_l,#_subs,\n",
    "        eqEy_l,#_subs,\n",
    "        eqEz_r,#_subs,\n",
    "        eqEy_r,#_subs,\n",
    "        eqHy_l,#_subs,\n",
    "        eqHz_l,#_subs,\n",
    "        eqHy_r,#_subs,\n",
    "        eqHz_r,#_subs,\n",
    "        eq_rot_H_4_l,\n",
    "        eq_rot_H_4_r,\n",
    "        ]"
   ]
  },
  {
   "cell_type": "code",
   "execution_count": 148,
   "metadata": {},
   "outputs": [],
   "source": [
    "# eqDx__l,#_subs, # это уравнение исключаем так как поверхностная плотность свободных зарядов нам не известна\n",
    "# eqDx__r,#_subs,\n",
    "\n",
    "sys8 = [eq_Hy_l,#_subs,\n",
    "        eq_Hy_r,#_subs,\n",
    "        eqEz_l,#_subs,\n",
    "        eqEz_r,#_subs,\n",
    "        eqHy_l,#_subs,\n",
    "        eqHy_r,#_subs,\n",
    "        eq_rot_H_4_l,\n",
    "        eq_rot_H_4_r,\n",
    "        ]"
   ]
  },
  {
   "cell_type": "code",
   "execution_count": 149,
   "metadata": {},
   "outputs": [
    {
     "data": {
      "text/html": [
       "<html>\\(\\displaystyle -\\frac{i \\, {\\left(i \\, c \\epsilon_{l}^{\\frac{3}{2}} \\kappa_{l} - 4 \\, \\pi \\epsilon_{l} \\sqrt{\\mu_{l}} \\sigma_{l}\\right)} \\sqrt{-k_{z}^{2} + \\kappa_{l}^{2}} \\mathit{B1}_{\\mathit{zl}} \\kappa_{l}}{{\\left(4 i \\, \\pi \\sqrt{\\epsilon_{l}} \\kappa_{l} \\mu_{l} \\sigma_{l} - {\\left(c \\epsilon_{l} k_{z}^{2} - c \\epsilon_{l} \\kappa_{l}^{2}\\right)} \\sqrt{\\mu_{l}}\\right)} \\mu_{l}} = -\\frac{i \\, {\\left(-i \\, \\sqrt{-k_{z}^{2} + \\kappa_{\\mathit{vacuum}}^{2}} \\mathit{A1}_{z} e^{\\left(i \\, \\sqrt{-k_{z}^{2} + \\kappa_{\\mathit{vacuum}}^{2}} a\\right)} + i \\, \\sqrt{-k_{z}^{2} + \\kappa_{\\mathit{vacuum}}^{2}} \\mathit{A2}_{z} e^{\\left(-i \\, \\sqrt{-k_{z}^{2} + \\kappa_{\\mathit{vacuum}}^{2}} a\\right)}\\right)} \\kappa_{\\mathit{vacuum}}^{2}}{k_{z}^{2} - \\kappa_{\\mathit{vacuum}}^{2}}\\)</html>"
      ],
      "text/latex": [
       "$\\displaystyle -\\frac{i \\, {\\left(i \\, c \\epsilon_{l}^{\\frac{3}{2}} \\kappa_{l} - 4 \\, \\pi \\epsilon_{l} \\sqrt{\\mu_{l}} \\sigma_{l}\\right)} \\sqrt{-k_{z}^{2} + \\kappa_{l}^{2}} \\mathit{B1}_{\\mathit{zl}} \\kappa_{l}}{{\\left(4 i \\, \\pi \\sqrt{\\epsilon_{l}} \\kappa_{l} \\mu_{l} \\sigma_{l} - {\\left(c \\epsilon_{l} k_{z}^{2} - c \\epsilon_{l} \\kappa_{l}^{2}\\right)} \\sqrt{\\mu_{l}}\\right)} \\mu_{l}} = -\\frac{i \\, {\\left(-i \\, \\sqrt{-k_{z}^{2} + \\kappa_{\\mathit{vacuum}}^{2}} \\mathit{A1}_{z} e^{\\left(i \\, \\sqrt{-k_{z}^{2} + \\kappa_{\\mathit{vacuum}}^{2}} a\\right)} + i \\, \\sqrt{-k_{z}^{2} + \\kappa_{\\mathit{vacuum}}^{2}} \\mathit{A2}_{z} e^{\\left(-i \\, \\sqrt{-k_{z}^{2} + \\kappa_{\\mathit{vacuum}}^{2}} a\\right)}\\right)} \\kappa_{\\mathit{vacuum}}^{2}}{k_{z}^{2} - \\kappa_{\\mathit{vacuum}}^{2}}$"
      ],
      "text/plain": [
       "-I*(I*c*epsilon_l^(3/2)*kappa_l - 4*pi*epsilon_l*sqrt(mu_l)*sigma_l)*sqrt(-k_z^2 + kappa_l^2)*B1_zl*kappa_l/((4*I*pi*sqrt(epsilon_l)*kappa_l*mu_l*sigma_l - (c*epsilon_l*k_z^2 - c*epsilon_l*kappa_l^2)*sqrt(mu_l))*mu_l) == -I*(-I*sqrt(-k_z^2 + kappa_vacuum^2)*A1_z*e^(I*sqrt(-k_z^2 + kappa_vacuum^2)*a) + I*sqrt(-k_z^2 + kappa_vacuum^2)*A2_z*e^(-I*sqrt(-k_z^2 + kappa_vacuum^2)*a))*kappa_vacuum^2/(k_z^2 - kappa_vacuum^2)"
      ]
     },
     "metadata": {},
     "output_type": "display_data"
    },
    {
     "name": "stdout",
     "output_type": "stream",
     "text": [
      "\n"
     ]
    },
    {
     "data": {
      "text/html": [
       "<html>\\(\\displaystyle \\frac{i \\, {\\left(i \\, c \\epsilon_{r}^{\\frac{3}{2}} \\kappa_{r} - 4 \\, \\pi \\epsilon_{r} \\sqrt{\\mu_{r}} \\sigma_{r}\\right)} \\sqrt{-k_{z}^{2} + \\kappa_{r}^{2}} \\mathit{B1}_{\\mathit{zr}} \\kappa_{r}}{{\\left(4 i \\, \\pi \\sqrt{\\epsilon_{r}} \\kappa_{r} \\mu_{r} \\sigma_{r} - {\\left(c \\epsilon_{r} k_{z}^{2} - c \\epsilon_{r} \\kappa_{r}^{2}\\right)} \\sqrt{\\mu_{r}}\\right)} \\mu_{r}} = -\\frac{i \\, {\\left(i \\, \\sqrt{-k_{z}^{2} + \\kappa_{\\mathit{vacuum}}^{2}} \\mathit{A2}_{z} e^{\\left(i \\, \\sqrt{-k_{z}^{2} + \\kappa_{\\mathit{vacuum}}^{2}} a\\right)} - i \\, \\sqrt{-k_{z}^{2} + \\kappa_{\\mathit{vacuum}}^{2}} \\mathit{A1}_{z} e^{\\left(-i \\, \\sqrt{-k_{z}^{2} + \\kappa_{\\mathit{vacuum}}^{2}} a\\right)}\\right)} \\kappa_{\\mathit{vacuum}}^{2}}{k_{z}^{2} - \\kappa_{\\mathit{vacuum}}^{2}}\\)</html>"
      ],
      "text/latex": [
       "$\\displaystyle \\frac{i \\, {\\left(i \\, c \\epsilon_{r}^{\\frac{3}{2}} \\kappa_{r} - 4 \\, \\pi \\epsilon_{r} \\sqrt{\\mu_{r}} \\sigma_{r}\\right)} \\sqrt{-k_{z}^{2} + \\kappa_{r}^{2}} \\mathit{B1}_{\\mathit{zr}} \\kappa_{r}}{{\\left(4 i \\, \\pi \\sqrt{\\epsilon_{r}} \\kappa_{r} \\mu_{r} \\sigma_{r} - {\\left(c \\epsilon_{r} k_{z}^{2} - c \\epsilon_{r} \\kappa_{r}^{2}\\right)} \\sqrt{\\mu_{r}}\\right)} \\mu_{r}} = -\\frac{i \\, {\\left(i \\, \\sqrt{-k_{z}^{2} + \\kappa_{\\mathit{vacuum}}^{2}} \\mathit{A2}_{z} e^{\\left(i \\, \\sqrt{-k_{z}^{2} + \\kappa_{\\mathit{vacuum}}^{2}} a\\right)} - i \\, \\sqrt{-k_{z}^{2} + \\kappa_{\\mathit{vacuum}}^{2}} \\mathit{A1}_{z} e^{\\left(-i \\, \\sqrt{-k_{z}^{2} + \\kappa_{\\mathit{vacuum}}^{2}} a\\right)}\\right)} \\kappa_{\\mathit{vacuum}}^{2}}{k_{z}^{2} - \\kappa_{\\mathit{vacuum}}^{2}}$"
      ],
      "text/plain": [
       "I*(I*c*epsilon_r^(3/2)*kappa_r - 4*pi*epsilon_r*sqrt(mu_r)*sigma_r)*sqrt(-k_z^2 + kappa_r^2)*B1_zr*kappa_r/((4*I*pi*sqrt(epsilon_r)*kappa_r*mu_r*sigma_r - (c*epsilon_r*k_z^2 - c*epsilon_r*kappa_r^2)*sqrt(mu_r))*mu_r) == -I*(I*sqrt(-k_z^2 + kappa_vacuum^2)*A2_z*e^(I*sqrt(-k_z^2 + kappa_vacuum^2)*a) - I*sqrt(-k_z^2 + kappa_vacuum^2)*A1_z*e^(-I*sqrt(-k_z^2 + kappa_vacuum^2)*a))*kappa_vacuum^2/(k_z^2 - kappa_vacuum^2)"
      ]
     },
     "metadata": {},
     "output_type": "display_data"
    },
    {
     "name": "stdout",
     "output_type": "stream",
     "text": [
      "\n"
     ]
    },
    {
     "data": {
      "text/html": [
       "<html>\\(\\displaystyle \\mathit{B1}_{\\mathit{zl}} = \\mathit{A1}_{z} e^{\\left(i \\, K_{\\mathit{vacuum}} a\\right)} + \\mathit{A2}_{z} e^{\\left(-i \\, K_{\\mathit{vacuum}} a\\right)}\\)</html>"
      ],
      "text/latex": [
       "$\\displaystyle \\mathit{B1}_{\\mathit{zl}} = \\mathit{A1}_{z} e^{\\left(i \\, K_{\\mathit{vacuum}} a\\right)} + \\mathit{A2}_{z} e^{\\left(-i \\, K_{\\mathit{vacuum}} a\\right)}$"
      ],
      "text/plain": [
       "B1_zl == A1_z*e^(I*K_vacuum*a) + A2_z*e^(-I*K_vacuum*a)"
      ]
     },
     "metadata": {},
     "output_type": "display_data"
    },
    {
     "name": "stdout",
     "output_type": "stream",
     "text": [
      "\n"
     ]
    },
    {
     "data": {
      "text/html": [
       "<html>\\(\\displaystyle \\mathit{B1}_{\\mathit{zr}} = \\mathit{A2}_{z} e^{\\left(i \\, K_{\\mathit{vacuum}} a\\right)} + \\mathit{A1}_{z} e^{\\left(-i \\, K_{\\mathit{vacuum}} a\\right)}\\)</html>"
      ],
      "text/latex": [
       "$\\displaystyle \\mathit{B1}_{\\mathit{zr}} = \\mathit{A2}_{z} e^{\\left(i \\, K_{\\mathit{vacuum}} a\\right)} + \\mathit{A1}_{z} e^{\\left(-i \\, K_{\\mathit{vacuum}} a\\right)}$"
      ],
      "text/plain": [
       "B1_zr == A2_z*e^(I*K_vacuum*a) + A1_z*e^(-I*K_vacuum*a)"
      ]
     },
     "metadata": {},
     "output_type": "display_data"
    },
    {
     "name": "stdout",
     "output_type": "stream",
     "text": [
      "\n"
     ]
    },
    {
     "data": {
      "text/html": [
       "<html>\\(\\displaystyle -\\frac{i \\, {\\left(i \\, \\mathit{B1}_{\\mathit{zl}} K_{\\mathit{left}_{\\mathit{conductor}}} + i \\, \\mathit{B1}_{\\mathit{xl}} k_{z}\\right)} c}{\\mu_{l} \\omega} = -\\frac{i \\, {\\left(i \\, \\mathit{A1}_{z} K_{\\mathit{vacuum}} e^{\\left(i \\, K_{\\mathit{vacuum}} a\\right)} - i \\, \\mathit{A2}_{z} K_{\\mathit{vacuum}} e^{\\left(-i \\, K_{\\mathit{vacuum}} a\\right)} + i \\, {\\left(\\mathit{A1}_{x} e^{\\left(i \\, K_{\\mathit{vacuum}} a\\right)} + \\mathit{A2}_{x} e^{\\left(-i \\, K_{\\mathit{vacuum}} a\\right)}\\right)} k_{z}\\right)} c}{\\omega}\\)</html>"
      ],
      "text/latex": [
       "$\\displaystyle -\\frac{i \\, {\\left(i \\, \\mathit{B1}_{\\mathit{zl}} K_{\\mathit{left}_{\\mathit{conductor}}} + i \\, \\mathit{B1}_{\\mathit{xl}} k_{z}\\right)} c}{\\mu_{l} \\omega} = -\\frac{i \\, {\\left(i \\, \\mathit{A1}_{z} K_{\\mathit{vacuum}} e^{\\left(i \\, K_{\\mathit{vacuum}} a\\right)} - i \\, \\mathit{A2}_{z} K_{\\mathit{vacuum}} e^{\\left(-i \\, K_{\\mathit{vacuum}} a\\right)} + i \\, {\\left(\\mathit{A1}_{x} e^{\\left(i \\, K_{\\mathit{vacuum}} a\\right)} + \\mathit{A2}_{x} e^{\\left(-i \\, K_{\\mathit{vacuum}} a\\right)}\\right)} k_{z}\\right)} c}{\\omega}$"
      ],
      "text/plain": [
       "-I*(I*B1_zl*K_left_conductor + I*B1_xl*k_z)*c/(mu_l*omega) == -I*(I*A1_z*K_vacuum*e^(I*K_vacuum*a) - I*A2_z*K_vacuum*e^(-I*K_vacuum*a) + I*(A1_x*e^(I*K_vacuum*a) + A2_x*e^(-I*K_vacuum*a))*k_z)*c/omega"
      ]
     },
     "metadata": {},
     "output_type": "display_data"
    },
    {
     "name": "stdout",
     "output_type": "stream",
     "text": [
      "\n"
     ]
    },
    {
     "data": {
      "text/html": [
       "<html>\\(\\displaystyle -\\frac{i \\, {\\left(-i \\, \\mathit{B1}_{\\mathit{zr}} K_{\\mathit{right}_{\\mathit{conductor}}} + i \\, \\mathit{B1}_{\\mathit{xr}} k_{z}\\right)} c}{\\mu_{r} \\omega} = -\\frac{i \\, {\\left(-i \\, \\mathit{A2}_{z} K_{\\mathit{vacuum}} e^{\\left(i \\, K_{\\mathit{vacuum}} a\\right)} + i \\, \\mathit{A1}_{z} K_{\\mathit{vacuum}} e^{\\left(-i \\, K_{\\mathit{vacuum}} a\\right)} + i \\, {\\left(\\mathit{A2}_{x} e^{\\left(i \\, K_{\\mathit{vacuum}} a\\right)} + \\mathit{A1}_{x} e^{\\left(-i \\, K_{\\mathit{vacuum}} a\\right)}\\right)} k_{z}\\right)} c}{\\omega}\\)</html>"
      ],
      "text/latex": [
       "$\\displaystyle -\\frac{i \\, {\\left(-i \\, \\mathit{B1}_{\\mathit{zr}} K_{\\mathit{right}_{\\mathit{conductor}}} + i \\, \\mathit{B1}_{\\mathit{xr}} k_{z}\\right)} c}{\\mu_{r} \\omega} = -\\frac{i \\, {\\left(-i \\, \\mathit{A2}_{z} K_{\\mathit{vacuum}} e^{\\left(i \\, K_{\\mathit{vacuum}} a\\right)} + i \\, \\mathit{A1}_{z} K_{\\mathit{vacuum}} e^{\\left(-i \\, K_{\\mathit{vacuum}} a\\right)} + i \\, {\\left(\\mathit{A2}_{x} e^{\\left(i \\, K_{\\mathit{vacuum}} a\\right)} + \\mathit{A1}_{x} e^{\\left(-i \\, K_{\\mathit{vacuum}} a\\right)}\\right)} k_{z}\\right)} c}{\\omega}$"
      ],
      "text/plain": [
       "-I*(-I*B1_zr*K_right_conductor + I*B1_xr*k_z)*c/(mu_r*omega) == -I*(-I*A2_z*K_vacuum*e^(I*K_vacuum*a) + I*A1_z*K_vacuum*e^(-I*K_vacuum*a) + I*(A2_x*e^(I*K_vacuum*a) + A1_x*e^(-I*K_vacuum*a))*k_z)*c/omega"
      ]
     },
     "metadata": {},
     "output_type": "display_data"
    },
    {
     "name": "stdout",
     "output_type": "stream",
     "text": [
      "\n"
     ]
    },
    {
     "data": {
      "text/html": [
       "<html>\\(\\displaystyle \\mathit{B1}_{\\mathit{zl}} + \\frac{\\mathit{B1}_{\\mathit{xl}} k_{z}}{K_{\\mathit{left}_{\\mathit{conductor}}}} - \\frac{\\mathit{B1}_{\\mathit{xl}} \\kappa_{l}^{2}}{K_{\\mathit{left}_{\\mathit{conductor}}} k_{z}} - \\frac{4 i \\, \\pi \\mathit{B1}_{\\mathit{xl}} \\kappa_{l} \\sqrt{\\mu_{l}} \\sigma_{l}}{K_{\\mathit{left}_{\\mathit{conductor}}} c \\sqrt{\\epsilon_{l}} k_{z}} = 0\\)</html>"
      ],
      "text/latex": [
       "$\\displaystyle \\mathit{B1}_{\\mathit{zl}} + \\frac{\\mathit{B1}_{\\mathit{xl}} k_{z}}{K_{\\mathit{left}_{\\mathit{conductor}}}} - \\frac{\\mathit{B1}_{\\mathit{xl}} \\kappa_{l}^{2}}{K_{\\mathit{left}_{\\mathit{conductor}}} k_{z}} - \\frac{4 i \\, \\pi \\mathit{B1}_{\\mathit{xl}} \\kappa_{l} \\sqrt{\\mu_{l}} \\sigma_{l}}{K_{\\mathit{left}_{\\mathit{conductor}}} c \\sqrt{\\epsilon_{l}} k_{z}} = 0$"
      ],
      "text/plain": [
       "B1_zl + B1_xl*k_z/K_left_conductor - B1_xl*kappa_l^2/(K_left_conductor*k_z) - 4*I*pi*B1_xl*kappa_l*sqrt(mu_l)*sigma_l/(K_left_conductor*c*sqrt(epsilon_l)*k_z) == 0"
      ]
     },
     "metadata": {},
     "output_type": "display_data"
    },
    {
     "name": "stdout",
     "output_type": "stream",
     "text": [
      "\n"
     ]
    },
    {
     "data": {
      "text/html": [
       "<html>\\(\\displaystyle \\mathit{B1}_{\\mathit{zr}} - \\frac{\\mathit{B1}_{\\mathit{xr}} k_{z}}{K_{\\mathit{right}_{\\mathit{conductor}}}} + \\frac{\\mathit{B1}_{\\mathit{xr}} \\kappa_{r}^{2}}{K_{\\mathit{right}_{\\mathit{conductor}}} k_{z}} + \\frac{4 i \\, \\pi \\mathit{B1}_{\\mathit{xr}} \\kappa_{r} \\sqrt{\\mu_{r}} \\sigma_{r}}{K_{\\mathit{right}_{\\mathit{conductor}}} c \\sqrt{\\epsilon_{r}} k_{z}} = 0\\)</html>"
      ],
      "text/latex": [
       "$\\displaystyle \\mathit{B1}_{\\mathit{zr}} - \\frac{\\mathit{B1}_{\\mathit{xr}} k_{z}}{K_{\\mathit{right}_{\\mathit{conductor}}}} + \\frac{\\mathit{B1}_{\\mathit{xr}} \\kappa_{r}^{2}}{K_{\\mathit{right}_{\\mathit{conductor}}} k_{z}} + \\frac{4 i \\, \\pi \\mathit{B1}_{\\mathit{xr}} \\kappa_{r} \\sqrt{\\mu_{r}} \\sigma_{r}}{K_{\\mathit{right}_{\\mathit{conductor}}} c \\sqrt{\\epsilon_{r}} k_{z}} = 0$"
      ],
      "text/plain": [
       "B1_zr - B1_xr*k_z/K_right_conductor + B1_xr*kappa_r^2/(K_right_conductor*k_z) + 4*I*pi*B1_xr*kappa_r*sqrt(mu_r)*sigma_r/(K_right_conductor*c*sqrt(epsilon_r)*k_z) == 0"
      ]
     },
     "metadata": {},
     "output_type": "display_data"
    },
    {
     "name": "stdout",
     "output_type": "stream",
     "text": [
      "\n"
     ]
    }
   ],
   "source": [
    "for eq in sys8:\n",
    "    show(eq)\n",
    "    print(\"\")"
   ]
  },
  {
   "cell_type": "code",
   "execution_count": 150,
   "metadata": {},
   "outputs": [
    {
     "name": "stdout",
     "output_type": "stream",
     "text": [
      "(A1_z, A2_z, B1_zl, k_z, kappa_l, kappa_vacuum)\n",
      "(A1_z, A2_z, B1_zr, k_z, kappa_r, kappa_vacuum)\n",
      "(A1_z, A2_z, B1_zl, K_vacuum)\n",
      "(A1_z, A2_z, B1_zr, K_vacuum)\n",
      "(A1_x, A1_z, A2_x, A2_z, B1_xl, B1_zl, K_left_conductor, K_vacuum, k_z)\n",
      "(A1_x, A1_z, A2_x, A2_z, B1_xr, B1_zr, K_right_conductor, K_vacuum, k_z)\n",
      "(B1_xl, B1_zl, K_left_conductor, k_z, kappa_l)\n",
      "(B1_xr, B1_zr, K_right_conductor, k_z, kappa_r)\n"
     ]
    },
    {
     "data": {
      "text/plain": [
       "{k_z,\n",
       " B1_xr,\n",
       " A2_z,\n",
       " B1_xl,\n",
       " kappa_r,\n",
       " A1_x,\n",
       " K_vacuum,\n",
       " B1_zr,\n",
       " kappa_vacuum,\n",
       " B1_zl,\n",
       " K_right_conductor,\n",
       " A1_z,\n",
       " A2_x,\n",
       " kappa_l,\n",
       " K_left_conductor}"
      ]
     },
     "execution_count": 150,
     "metadata": {},
     "output_type": "execute_result"
    }
   ],
   "source": [
    "sys8_subs = [eq.subs(digit_values) for eq in sys8]\n",
    "\n",
    "vv = set()\n",
    "for eq in sys8_subs:\n",
    "    print(eq.variables())\n",
    "    for variable in eq.variables():\n",
    "        vv.add(variable)\n",
    "vv"
   ]
  },
  {
   "cell_type": "code",
   "execution_count": 151,
   "metadata": {},
   "outputs": [],
   "source": [
    "vars8 = [\n",
    "    B1_xl,\n",
    "#   B1_yl,\n",
    "    B1_zl,\n",
    "    A1_x,\n",
    "#   A1_y,\n",
    "    A1_z,\n",
    "    A2_x,\n",
    "#   A2_y,\n",
    "    A2_z,\n",
    "    B1_xr,\n",
    "#   B1_yr,\n",
    "    B1_zr,\n",
    "]"
   ]
  },
  {
   "cell_type": "code",
   "execution_count": 152,
   "metadata": {},
   "outputs": [],
   "source": [
    "vars8reim = [\n",
    "    B1_xl_re, B1_xl_im,\n",
    "#   B1_yl_re, B1_yl_im,\n",
    "    B1_zl_re, B1_zl_im,\n",
    "    A1_x_re,  A1_x_im,\n",
    "#   A1_y_re,  A1_y_im,\n",
    "    A1_z_re,  A1_z_im,\n",
    "    A2_x_re,  A2_x_im,\n",
    "#   A2_y_re,  A2_y_im,\n",
    "    A2_z_re,  A2_z_im,\n",
    "    B1_xr_re, B1_xr_im,\n",
    "#   B1_yr_re, B1_yr_im,\n",
    "    B1_zr_re, B1_zr_im,\n",
    "]"
   ]
  },
  {
   "cell_type": "code",
   "execution_count": 153,
   "metadata": {},
   "outputs": [],
   "source": [
    "M8 = GenerateMatrix(sys8, vars8)"
   ]
  },
  {
   "cell_type": "code",
   "execution_count": 154,
   "metadata": {},
   "outputs": [
    {
     "data": {
      "text/plain": [
       "(8, 8)"
      ]
     },
     "execution_count": 154,
     "metadata": {},
     "output_type": "execute_result"
    }
   ],
   "source": [
    "M8.nrows(), M8.ncols()"
   ]
  },
  {
   "cell_type": "raw",
   "metadata": {},
   "source": [
    "M8.variables()"
   ]
  },
  {
   "cell_type": "code",
   "execution_count": 155,
   "metadata": {},
   "outputs": [
    {
     "data": {
      "text/latex": [
       "$\\displaystyle \\left(\\begin{array}{rrrrrrrr}\n",
       "0 & -\\frac{\\sqrt{-k_{z}^{2} + \\kappa_{l}^{2}} c \\epsilon_{l}^{\\frac{3}{2}} \\kappa_{l}^{2}}{{\\left(c \\epsilon_{l} k_{z}^{2} \\sqrt{\\mu_{l}} - c \\epsilon_{l} \\kappa_{l}^{2} \\sqrt{\\mu_{l}} - 4 i \\, \\pi \\sqrt{\\epsilon_{l}} \\kappa_{l} \\mu_{l} \\sigma_{l}\\right)} \\mu_{l}} - \\frac{4 i \\, \\pi \\sqrt{-k_{z}^{2} + \\kappa_{l}^{2}} \\epsilon_{l} \\kappa_{l} \\sigma_{l}}{{\\left(c \\epsilon_{l} k_{z}^{2} \\sqrt{\\mu_{l}} - c \\epsilon_{l} \\kappa_{l}^{2} \\sqrt{\\mu_{l}} - 4 i \\, \\pi \\sqrt{\\epsilon_{l}} \\kappa_{l} \\mu_{l} \\sigma_{l}\\right)} \\sqrt{\\mu_{l}}} & 0 & \\frac{\\sqrt{-k_{z}^{2} + \\kappa_{\\mathit{vacuum}}^{2}} \\kappa_{\\mathit{vacuum}}^{2} e^{\\left(i \\, \\sqrt{-k_{z}^{2} + \\kappa_{\\mathit{vacuum}}^{2}} a\\right)}}{k_{z}^{2} - \\kappa_{\\mathit{vacuum}}^{2}} & 0 & -\\frac{\\sqrt{-k_{z}^{2} + \\kappa_{\\mathit{vacuum}}^{2}} \\kappa_{\\mathit{vacuum}}^{2} e^{\\left(-i \\, \\sqrt{-k_{z}^{2} + \\kappa_{\\mathit{vacuum}}^{2}} a\\right)}}{k_{z}^{2} - \\kappa_{\\mathit{vacuum}}^{2}} & 0 & 0 \\\\\n",
       "0 & 0 & 0 & \\frac{\\sqrt{-k_{z}^{2} + \\kappa_{\\mathit{vacuum}}^{2}} \\kappa_{\\mathit{vacuum}}^{2} e^{\\left(-i \\, \\sqrt{-k_{z}^{2} + \\kappa_{\\mathit{vacuum}}^{2}} a\\right)}}{k_{z}^{2} - \\kappa_{\\mathit{vacuum}}^{2}} & 0 & -\\frac{\\sqrt{-k_{z}^{2} + \\kappa_{\\mathit{vacuum}}^{2}} \\kappa_{\\mathit{vacuum}}^{2} e^{\\left(i \\, \\sqrt{-k_{z}^{2} + \\kappa_{\\mathit{vacuum}}^{2}} a\\right)}}{k_{z}^{2} - \\kappa_{\\mathit{vacuum}}^{2}} & 0 & \\frac{\\sqrt{-k_{z}^{2} + \\kappa_{r}^{2}} c \\epsilon_{r}^{\\frac{3}{2}} \\kappa_{r}^{2}}{{\\left(c \\epsilon_{r} k_{z}^{2} \\sqrt{\\mu_{r}} - c \\epsilon_{r} \\kappa_{r}^{2} \\sqrt{\\mu_{r}} - 4 i \\, \\pi \\sqrt{\\epsilon_{r}} \\kappa_{r} \\mu_{r} \\sigma_{r}\\right)} \\mu_{r}} + \\frac{4 i \\, \\pi \\sqrt{-k_{z}^{2} + \\kappa_{r}^{2}} \\epsilon_{r} \\kappa_{r} \\sigma_{r}}{{\\left(c \\epsilon_{r} k_{z}^{2} \\sqrt{\\mu_{r}} - c \\epsilon_{r} \\kappa_{r}^{2} \\sqrt{\\mu_{r}} - 4 i \\, \\pi \\sqrt{\\epsilon_{r}} \\kappa_{r} \\mu_{r} \\sigma_{r}\\right)} \\sqrt{\\mu_{r}}} \\\\\n",
       "0 & 1 & 0 & -e^{\\left(i \\, K_{\\mathit{vacuum}} a\\right)} & 0 & -e^{\\left(-i \\, K_{\\mathit{vacuum}} a\\right)} & 0 & 0 \\\\\n",
       "0 & 0 & 0 & -e^{\\left(-i \\, K_{\\mathit{vacuum}} a\\right)} & 0 & -e^{\\left(i \\, K_{\\mathit{vacuum}} a\\right)} & 0 & 1 \\\\\n",
       "\\frac{c k_{z}}{\\mu_{l} \\omega} & \\frac{K_{\\mathit{left}_{\\mathit{conductor}}} c}{\\mu_{l} \\omega} & -\\frac{c k_{z} e^{\\left(i \\, K_{\\mathit{vacuum}} a\\right)}}{\\omega} & -\\frac{K_{\\mathit{vacuum}} c e^{\\left(i \\, K_{\\mathit{vacuum}} a\\right)}}{\\omega} & -\\frac{c k_{z} e^{\\left(-i \\, K_{\\mathit{vacuum}} a\\right)}}{\\omega} & \\frac{K_{\\mathit{vacuum}} c e^{\\left(-i \\, K_{\\mathit{vacuum}} a\\right)}}{\\omega} & 0 & 0 \\\\\n",
       "0 & 0 & -\\frac{c k_{z} e^{\\left(-i \\, K_{\\mathit{vacuum}} a\\right)}}{\\omega} & -\\frac{K_{\\mathit{vacuum}} c e^{\\left(-i \\, K_{\\mathit{vacuum}} a\\right)}}{\\omega} & -\\frac{c k_{z} e^{\\left(i \\, K_{\\mathit{vacuum}} a\\right)}}{\\omega} & \\frac{K_{\\mathit{vacuum}} c e^{\\left(i \\, K_{\\mathit{vacuum}} a\\right)}}{\\omega} & \\frac{c k_{z}}{\\mu_{r} \\omega} & -\\frac{K_{\\mathit{right}_{\\mathit{conductor}}} c}{\\mu_{r} \\omega} \\\\\n",
       "\\frac{k_{z}}{K_{\\mathit{left}_{\\mathit{conductor}}}} - \\frac{\\kappa_{l}^{2}}{K_{\\mathit{left}_{\\mathit{conductor}}} k_{z}} - \\frac{4 i \\, \\pi \\kappa_{l} \\sqrt{\\mu_{l}} \\sigma_{l}}{K_{\\mathit{left}_{\\mathit{conductor}}} c \\sqrt{\\epsilon_{l}} k_{z}} & 1 & 0 & 0 & 0 & 0 & 0 & 0 \\\\\n",
       "0 & 0 & 0 & 0 & 0 & 0 & -\\frac{k_{z}}{K_{\\mathit{right}_{\\mathit{conductor}}}} + \\frac{\\kappa_{r}^{2}}{K_{\\mathit{right}_{\\mathit{conductor}}} k_{z}} + \\frac{4 i \\, \\pi \\kappa_{r} \\sqrt{\\mu_{r}} \\sigma_{r}}{K_{\\mathit{right}_{\\mathit{conductor}}} c \\sqrt{\\epsilon_{r}} k_{z}} & 1\n",
       "\\end{array}\\right)$"
      ],
      "text/plain": [
       "<IPython.core.display.Math object>"
      ]
     },
     "metadata": {},
     "output_type": "display_data"
    }
   ],
   "source": [
    "disp(M8)"
   ]
  },
  {
   "cell_type": "code",
   "execution_count": 156,
   "metadata": {},
   "outputs": [],
   "source": [
    "#M8.rank()"
   ]
  },
  {
   "cell_type": "code",
   "execution_count": 157,
   "metadata": {},
   "outputs": [],
   "source": [
    "M8_det = M8.det()"
   ]
  },
  {
   "cell_type": "code",
   "execution_count": 158,
   "metadata": {},
   "outputs": [
    {
     "data": {
      "text/plain": [
       "sqrt(-k_z^2 + kappa_l^2)*sqrt(-k_z^2 + kappa_r^2)*c^4*epsilon_l^(3/2)*epsilon_r^(3/2)*k_z^4*kappa_l^2*kappa_r^2*e^(4*I*K_vacuum*a)/((c*epsilon_l*k_z^2*sqrt(mu_l) - c*epsilon_l*kappa_l^2*sqrt(mu_l) - 4*I*pi*sqrt(epsilon_l)*kappa_l*mu_l*sigma_l)*(c*epsilon_r*k_z^2*sqrt(mu_r) - c*epsilon_r*kappa_r^2*sqrt(mu_r) - 4*I*pi*sqrt(epsilon_r)*kappa_r*mu_r*sigma_r)*K_left_conductor*K_right_conductor*mu_l*mu_r*omega^2) - sqrt(-k_z^2 + kappa_l^2)*sqrt(-k_z^2 + kappa_r^2)*c^4*epsilon_l^(3/2)*epsilon_r^(3/2)*k_z^2*kappa_l^4*kappa_r^2*e^(4*I*K_vacuum*a)/((c*epsilon_l*k_z^2*sqrt(mu_l) - c*epsilon_l*kappa_l^2*sqrt(mu_l) - 4*I*pi*sqrt(epsilon_l)*kappa_l*mu_l*sigma_l)*(c*epsilon_r*k_z^2*sqrt(mu_r) - c*epsilon_r*kappa_r^2*sqrt(mu_r) - 4*I*pi*sqrt(epsilon_r)*kappa_r*mu_r*sigma_r)*K_left_conductor*K_right_conductor*mu_l*mu_r*omega^2) - sqrt(-k_z^2 + kappa_l^2)*sqrt(-k_z^2 + kappa_r^2)*c^4*epsilon_l^(3/2)*epsilon_r^(3/2)*k_z^2*kappa_l^2*kappa_r^4*e^(4*I*K_vacuum*a)/((c*epsilon_l*k_z^2*sqrt(mu_l) - c*epsilon_l*kappa_l^2*sqrt(mu_l) - 4*I*pi*sqrt(epsilon_l)*kappa_l*mu_l*sigma_l)*(c*epsilon_r*k_z^2*sqrt(mu_r) - c*epsilon_r*kappa_r^2*sqrt(mu_r) - 4*I*pi*sqrt(epsilon_r)*kappa_r*mu_r*sigma_r)*K_left_conductor*K_right_conductor*mu_l*mu_r*omega^2) + sqrt(-k_z^2 + kappa_l^2)*sqrt(-k_z^2 + kappa_r^2)*c^4*epsilon_l^(3/2)*epsilon_r^(3/2)*kappa_l^4*kappa_r^4*e^(4*I*K_vacuum*a)/((c*epsilon_l*k_z^2*sqrt(mu_l) - c*epsilon_l*kappa_l^2*sqrt(mu_l) - 4*I*pi*sqrt(epsilon_l)*kappa_l*mu_l*sigma_l)*(c*epsilon_r*k_z^2*sqrt(mu_r) - c*epsilon_r*kappa_r^2*sqrt(mu_r) - 4*I*pi*sqrt(epsilon_r)*kappa_r*mu_r*sigma_r)*K_left_conductor*K_right_conductor*mu_l*mu_r*omega^2) + 4*I*pi*sqrt(-k_z^2 + kappa_l^2)*sqrt(-k_z^2 + kappa_r^2)*c^3*epsilon_l*epsilon_r^(3/2)*k_z^4*kappa_l*kappa_r^2*sigma_l*e^(4*I*K_vacuum*a)/((c*epsilon_l*k_z^2*sqrt(mu_l) - c*epsilon_l*kappa_l^2*sqrt(mu_l) - 4*I*pi*sqrt(epsilon_l)*kappa_l*mu_l*sigma_l)*(c*epsilon_r*k_z^2*sqrt(mu_r) - c*epsilon_r*kappa_r^2*sqrt(mu_r) - 4*I*pi*sqrt(epsilon_r)*kappa_r*mu_r*sigma_r)*K_left_conductor*K_right_conductor*sqrt(mu_l)*mu_r*omega^2) - 8*I*pi*sqrt(-k_z^2 + kappa_l^2)*sqrt(-k_z^2 + kappa_r^2)*c^3*epsilon_l*epsilon_r^(3/2)*k_z^2*kappa_l^3*kappa_r^2*sigma_l*e^(4*I*K_vacuum*a)/((c*epsilon_l*k_z^2*sqrt(mu_l) - c*epsilon_l*kappa_l^2*sqrt(mu_l) - 4*I*pi*sqrt(epsilon_l)*kappa_l*mu_l*sigma_l)*(c*epsilon_r*k_z^2*sqrt(mu_r) - c*epsilon_r*kappa_r^2*sqrt(mu_r) - 4*I*pi*sqrt(epsilon_r)*kappa_r*mu_r*sigma_r)*K_left_conductor*K_right_conductor*sqrt(mu_l)*mu_r*omega^2) - 4*I*pi*sqrt(-k_z^2 + kappa_l^2)*sqrt(-k_z^2 + kappa_r^2)*c^3*epsilon_l*epsilon_r^(3/2)*k_z^2*kappa_l*kappa_r^4*sigma_l*e^(4*I*K_vacuum*a)/((c*epsilon_l*k_z^2*sqrt(mu_l) - c*epsilon_l*kappa_l^2*sqrt(mu_l) - 4*I*pi*sqrt(epsilon_l)*kappa_l*mu_l*sigma_l)*(c*epsilon_r*k_z^2*sqrt(mu_r) - c*epsilon_r*kappa_r^2*sqrt(mu_r) - 4*I*pi*sqrt(epsilon_r)*kappa_r*mu_r*sigma_r)*K_left_conductor*K_right_conductor*sqrt(mu_l)*mu_r*omega^2) + 8*I*pi*sqrt(-k_z^2 + kappa_l^2)*sqrt(-k_z^2 + kappa_r^2)*c^3*epsilon_l*epsilon_r^(3/2)*kappa_l^3*kappa_r^4*sigma_l*e^(4*I*K_vacuum*a)/((c*epsilon_l*k_z^2*sqrt(mu_l) - c*epsilon_l*kappa_l^2*sqrt(mu_l) - 4*I*pi*sqrt(epsilon_l)*kappa_l*mu_l*sigma_l)*(c*epsilon_r*k_z^2*sqrt(mu_r) - c*epsilon_r*kappa_r^2*sqrt(mu_r) - 4*I*pi*sqrt(epsilon_r)*kappa_r*mu_r*sigma_r)*K_left_conductor*K_right_conductor*sqrt(mu_l)*mu_r*omega^2) + 16*pi^2*sqrt(-k_z^2 + kappa_l^2)*sqrt(-k_z^2 + kappa_r^2)*c^2*sqrt(epsilon_l)*epsilon_r^(3/2)*k_z^2*kappa_l^2*kappa_r^2*sigma_l^2*e^(4*I*K_vacuum*a)/((c*epsilon_l*k_z^2*sqrt(mu_l) - c*epsilon_l*kappa_l^2*sqrt(mu_l) - 4*I*pi*sqrt(epsilon_l)*kappa_l*mu_l*sigma_l)*(c*epsilon_r*k_z^2*sqrt(mu_r) - c*epsilon_r*kappa_r^2*sqrt(mu_r) - 4*I*pi*sqrt(epsilon_r)*kappa_r*mu_r*sigma_r)*K_left_conductor*K_right_conductor*mu_r*omega^2) - 16*pi^2*sqrt(-k_z^2 + kappa_l^2)*sqrt(-k_z^2 + kappa_r^2)*c^2*sqrt(epsilon_l)*epsilon_r^(3/2)*kappa_l^2*kappa_r^4*sigma_l^2*e^(4*I*K_vacuum*a)/((c*epsilon_l*k_z^2*sqrt(mu_l) - c*epsilon_l*kappa_l^2*sqrt(mu_l) - 4*I*pi*sqrt(epsilon_l)*kappa_l*mu_l*sigma_l)*(c*epsilon_r*k_z^2*sqrt(mu_r) - c*epsilon_r*kappa_r^2*sqrt(mu_r) - 4*I*pi*sqrt(epsilon_r)*kappa_r*mu_r*sigma_r)*K_left_conductor*K_right_conductor*mu_r*omega^2) + 4*I*pi*sqrt(-k_z^2 + kappa_l^2)*sqrt(-k_z^2 + kappa_r^2)*c^3*epsilon_l^(3/2)*epsilon_r*k_z^4*kappa_l^2*kappa_r*sigma_r*e^(4*I*K_vacuum*a)/((c*epsilon_l*k_z^2*sqrt(mu_l) - c*epsilon_l*kappa_l^2*sqrt(mu_l) - 4*I*pi*sqrt(epsilon_l)*kappa_l*mu_l*sigma_l)*(c*epsilon_r*k_z^2*sqrt(mu_r) - c*epsilon_r*kappa_r^2*sqrt(mu_r) - 4*I*pi*sqrt(epsilon_r)*kappa_r*mu_r*sigma_r)*K_left_conductor*K_right_conductor*mu_l*sqrt(mu_r)*omega^2) - 4*I*pi*sqrt(-k_z^2 + kappa_l^2)*sqrt(-k_z^2 + kappa_r^2)*c^3*epsilon_l^(3/2)*epsilon_r*k_z^2*kappa_l^4*kappa_r*sigma_r*e^(4*I*K_vacuum*a)/((c*epsilon_l*k_z^2*sqrt(mu_l) - c*epsilon_l*kappa_l^2*sqrt(mu_l) - 4*I*pi*sqrt(epsilon_l)*kappa_l*mu_l*sigma_l)*(c*epsilon_r*k_z^2*sqrt(mu_r) - c*epsilon_r*kappa_r^2*sqrt(mu_r) - 4*I*pi*sqrt(epsilon_r)*kappa_r*mu_r*sigma_r)*K_left_conductor*K_right_conductor*mu_l*sqrt(mu_r)*omega^2) - 8*I*pi*sqrt(-k_z^2 + kappa_l^2)*sqrt(-k_z^2 + kappa_r^2)*c^3*epsilon_l^(3/2)*epsilon_r*k_z^2*kappa_l^2*kappa_r^3*sigma_r*e^(4*I*K_vacuum*a)/((c*epsilon_l*k_z^2*sqrt(mu_l) - c*epsilon_l*kappa_l^2*sqrt(mu_l) - 4*I*pi*sqrt(epsilon_l)*kappa_l*mu_l*sigma_l)*(c*epsilon_r*k_z^2*sqrt(mu_r) - c*epsilon_r*kappa_r^2*sqrt(mu_r) - 4*I*pi*sqrt(epsilon_r)*kappa_r*mu_r*sigma_r)*K_left_conductor*K_right_conductor*mu_l*sqrt(mu_r)*omega^2) + 8*I*pi*sqrt(-k_z^2 + kappa_l^2)*sqrt(-k_z^2 + kappa_r^2)*c^3*epsilon_l^(3/2)*epsilon_r*kappa_l^4*kappa_r^3*sigma_r*e^(4*I*K_vacuum*a)/((c*epsilon_l*k_z^2*sqrt(mu_l) - c*epsilon_l*kappa_l^2*sqrt(mu_l) - 4*I*pi*sqrt(epsilon_l)*kappa_l*mu_l*sigma_l)*(c*epsilon_r*k_z^2*sqrt(mu_r) - c*epsilon_r*kappa_r^2*sqrt(mu_r) - 4*I*pi*sqrt(epsilon_r)*kappa_r*mu_r*sigma_r)*K_left_conductor*K_right_conductor*mu_l*sqrt(mu_r)*omega^2) - 16*pi^2*sqrt(-k_z^2 + kappa_l^2)*sqrt(-k_z^2 + kappa_r^2)*c^2*epsilon_l*epsilon_r*k_z^4*kappa_l*kappa_r*sigma_l*sigma_r*e^(4*I*K_vacuum*a)/((c*epsilon_l*k_z^2*sqrt(mu_l) - c*epsilon_l*kappa_l^2*sqrt(mu_l) - 4*I*pi*sqrt(epsilon_l)*kappa_l*mu_l*sigma_l)*(c*epsilon_r*k_z^2*sqrt(mu_r) - c*epsilon_r*kappa_r^2*sqrt(mu_r) - 4*I*pi*sqrt(epsilon_r)*kappa_r*mu_r*sigma_r)*K_left_conductor*K_right_conductor*sqrt(mu_l)*sqrt(mu_r)*omega^2) + 32*pi^2*sqrt(-k_z^2 + kappa_l^2)*sqrt(-k_z^2 + kappa_r^2)*c^2*epsilon_l*epsilon_r*k_z^2*kappa_l^3*kappa_r*sigma_l*sigma_r*e^(4*I*K_vacuum*a)/((c*epsilon_l*k_z^2*sqrt(mu_l) - c*epsilon_l*kappa_l^2*sqrt(mu_l) - 4*I*pi*sqrt(epsilon_l)*kappa_l*mu_l*sigma_l)*(c*epsilon_r*k_z^2*sqrt(mu_r) - c*epsilon_r*kappa_r^2*sqrt(mu_r) - 4*I*pi*sqrt(epsilon_r)*kappa_r*mu_r*sigma_r)*K_left_conductor*K_right_conductor*sqrt(mu_l)*sqrt(mu_r)*omega^2) + 32*pi^2*sqrt(-k_z^2 + kappa_l^2)*sqrt(-k_z^2 + kappa_r^2)*c^2*epsilon_l*epsilon_r*k_z^2*kappa_l*kappa_r^3*sigma_l*sigma_r*e^(4*I*K_vacuum*a)/((c*epsilon_l*k_z^2*sqrt(mu_l) - c*epsilon_l*kappa_l^2*sqrt(mu_l) - 4*I*pi*sqrt(epsilon_l)*kappa_l*mu_l*sigma_l)*(c*epsilon_r*k_z^2*sqrt(mu_r) - c*epsilon_r*kappa_r^2*sqrt(mu_r) - 4*I*pi*sqrt(epsilon_r)*kappa_r*mu_r*sigma_r)*K_left_conductor*K_right_conductor*sqrt(mu_l)*sqrt(mu_r)*omega^2) - 64*pi^2*sqrt(-k_z^2 + kappa_l^2)*sqrt(-k_z^2 + kappa_r^2)*c^2*epsilon_l*epsilon_r*kappa_l^3*kappa_r^3*sigma_l*sigma_r*e^(4*I*K_vacuum*a)/((c*epsilon_l*k_z^2*sqrt(mu_l) - c*epsilon_l*kappa_l^2*sqrt(mu_l) - 4*I*pi*sqrt(epsilon_l)*kappa_l*mu_l*sigma_l)*(c*epsilon_r*k_z^2*sqrt(mu_r) - c*epsilon_r*kappa_r^2*sqrt(mu_r) - 4*I*pi*sqrt(epsilon_r)*kappa_r*mu_r*sigma_r)*K_left_conductor*K_right_conductor*sqrt(mu_l)*sqrt(mu_r)*omega^2) + 64*I*pi^3*sqrt(-k_z^2 + kappa_l^2)*sqrt(-k_z^2 + kappa_r^2)*c*sqrt(epsilon_l)*epsilon_r*k_z^2*kappa_l^2*kappa_r*sigma_l^2*sigma_r*e^(4*I*K_vacuum*a)/((c*epsilon_l*k_z^2*sqrt(mu_l) - c*epsilon_l*kappa_l^2*sqrt(mu_l) - 4*I*pi*sqrt(epsilon_l)*kappa_l*mu_l*sigma_l)*(c*epsilon_r*k_z^2*sqrt(mu_r) - c*epsilon_r*kappa_r^2*sqrt(mu_r) - 4*I*pi*sqrt(epsilon_r)*kappa_r*mu_r*sigma_r)*K_left_conductor*K_right_conductor*sqrt(mu_r)*omega^2) - 128*I*pi^3*sqrt(-k_z^2 + kappa_l^2)*sqrt(-k_z^2 + kappa_r^2)*c*sqrt(epsilon_l)*epsilon_r*kappa_l^2*kappa_r^3*sigma_l^2*sigma_r*e^(4*I*K_vacuum*a)/((c*epsilon_l*k_z^2*sqrt(mu_l) - c*epsilon_l*kappa_l^2*sqrt(mu_l) - 4*I*pi*sqrt(epsilon_l)*kappa_l*mu_l*sigma_l)*(c*epsilon_r*k_z^2*sqrt(mu_r) - c*epsilon_r*kappa_r^2*sqrt(mu_r) - 4*I*pi*sqrt(epsilon_r)*kappa_r*mu_r*sigma_r)*K_left_conductor*K_right_conductor*sqrt(mu_r)*omega^2) + 16*pi^2*sqrt(-k_z^2 + kappa_l^2)*sqrt(-k_z^2 + kappa_r^2)*c^2*epsilon_l^(3/2)*sqrt(epsilon_r)*k_z^2*kappa_l^2*kappa_r^2*sigma_r^2*e^(4*I*K_vacuum*a)/((c*epsilon_l*k_z^2*sqrt(mu_l) - c*epsilon_l*kappa_l^2*sqrt(mu_l) - 4*I*pi*sqrt(epsilon_l)*kappa_l*mu_l*sigma_l)*(c*epsilon_r*k_z^2*sqrt(mu_r) - c*epsilon_r*kappa_r^2*sqrt(mu_r) - 4*I*pi*sqrt(epsilon_r)*kappa_r*mu_r*sigma_r)*K_left_conductor*K_right_conductor*mu_l*omega^2) - 16*pi^2*sqrt(-k_z^2 + kappa_l^2)*sqrt(-k_z^2 + kappa_r^2)*c^2*epsilon_l^(3/2)*sqrt(epsilon_r)*kappa_l^4*kappa_r^2*sigma_r^2*e^(4*I*K_vacuum*a)/((c*epsilon_l*k_z^2*sqrt(mu_l) - c*epsilon_l*kappa_l^2*sqrt(mu_l) - 4*I*pi*sqrt(epsilon_l)*kappa_l*mu_l*sigma_l)*(c*epsilon_r*k_z^2*sqrt(mu_r) - c*epsilon_r*kappa_r^2*sqrt(mu_r) - 4*I*pi*sqrt(epsilon_r)*kappa_r*mu_r*sigma_r)*K_left_conductor*K_right_conductor*mu_l*omega^2) + 64*I*pi^3*sqrt(-k_z^2 + kappa_l^2)*sqrt(-k_z^2 + kappa_r^2)*c*epsilon_l*sqrt(epsilon_r)*k_z^2*kappa_l*kappa_r^2*sigma_l*sigma_r^2*e^(4*I*K_vacuum*a)/((c*epsilon_l*k_z^2*sqrt(mu_l) - c*epsilon_l*kappa_l^2*sqrt(mu_l) - 4*I*pi*sqrt(epsilon_l)*kappa_l*mu_l*sigma_l)*(c*epsilon_r*k_z^2*sqrt(mu_r) - c*epsilon_r*kappa_r^2*sqrt(mu_r) - 4*I*pi*sqrt(epsilon_r)*kappa_r*mu_r*sigma_r)*K_left_conductor*K_right_conductor*sqrt(mu_l)*omega^2) - 128*I*pi^3*sqrt(-k_z^2 + kappa_l^2)*sqrt(-k_z^2 + kappa_r^2)*c*epsilon_l*sqrt(epsilon_r)*kappa_l^3*kappa_r^2*sigma_l*sigma_r^2*e^(4*I*K_vacuum*a)/((c*epsilon_l*k_z^2*sqrt(mu_l) - c*epsilon_l*kappa_l^2*sqrt(mu_l) - 4*I*pi*sqrt(epsilon_l)*kappa_l*mu_l*sigma_l)*(c*epsilon_r*k_z^2*sqrt(mu_r) - c*epsilon_r*kappa_r^2*sqrt(mu_r) - 4*I*pi*sqrt(epsilon_r)*kappa_r*mu_r*sigma_r)*K_left_conductor*K_right_conductor*sqrt(mu_l)*omega^2) + 256*pi^4*sqrt(-k_z^2 + kappa_l^2)*sqrt(-k_z^2 + kappa_r^2)*sqrt(epsilon_l)*sqrt(epsilon_r)*kappa_l^2*kappa_r^2*sigma_l^2*sigma_r^2*e^(4*I*K_vacuum*a)/((c*epsilon_l*k_z^2*sqrt(mu_l) - c*epsilon_l*kappa_l^2*sqrt(mu_l) - 4*I*pi*sqrt(epsilon_l)*kappa_l*mu_l*sigma_l)*(c*epsilon_r*k_z^2*sqrt(mu_r) - c*epsilon_r*kappa_r^2*sqrt(mu_r) - 4*I*pi*sqrt(epsilon_r)*kappa_r*mu_r*sigma_r)*K_left_conductor*K_right_conductor*omega^2) + sqrt(-k_z^2 + kappa_l^2)*sqrt(-k_z^2 + kappa_r^2)*c^4*epsilon_l^(3/2)*epsilon_r^(3/2)*k_z^4*kappa_l^2*kappa_r^2*e^(-4*I*K_vacuum*a)/((c*epsilon_l*k_z^2*sqrt(mu_l) - c*epsilon_l*kappa_l^2*sqrt(mu_l) - 4*I*pi*sqrt(epsilon_l)*kappa_l*mu_l*sigma_l)*(c*epsilon_r*k_z^2*sqrt(mu_r) - c*epsilon_r*kappa_r^2*sqrt(mu_r) - 4*I*pi*sqrt(epsilon_r)*kappa_r*mu_r*sigma_r)*K_left_conductor*K_right_conductor*mu_l*mu_r*omega^2) - sqrt(-k_z^2 + kappa_l^2)*sqrt(-k_z^2 + kappa_r^2)*c^4*epsilon_l^(3/2)*epsilon_r^(3/2)*k_z^2*kappa_l^4*kappa_r^2*e^(-4*I*K_vacuum*a)/((c*epsilon_l*k_z^2*sqrt(mu_l) - c*epsilon_l*kappa_l^2*sqrt(mu_l) - 4*I*pi*sqrt(epsilon_l)*kappa_l*mu_l*sigma_l)*(c*epsilon_r*k_z^2*sqrt(mu_r) - c*epsilon_r*kappa_r^2*sqrt(mu_r) - 4*I*pi*sqrt(epsilon_r)*kappa_r*mu_r*sigma_r)*K_left_conductor*K_right_conductor*mu_l*mu_r*omega^2) - sqrt(-k_z^2 + kappa_l^2)*sqrt(-k_z^2 + kappa_r^2)*c^4*epsilon_l^(3/2)*epsilon_r^(3/2)*k_z^2*kappa_l^2*kappa_r^4*e^(-4*I*K_vacuum*a)/((c*epsilon_l*k_z^2*sqrt(mu_l) - c*epsilon_l*kappa_l^2*sqrt(mu_l) - 4*I*pi*sqrt(epsilon_l)*kappa_l*mu_l*sigma_l)*(c*epsilon_r*k_z^2*sqrt(mu_r) - c*epsilon_r*kappa_r^2*sqrt(mu_r) - 4*I*pi*sqrt(epsilon_r)*kappa_r*mu_r*sigma_r)*K_left_conductor*K_right_conductor*mu_l*mu_r*omega^2) + sqrt(-k_z^2 + kappa_l^2)*sqrt(-k_z^2 + kappa_r^2)*c^4*epsilon_l^(3/2)*epsilon_r^(3/2)*kappa_l^4*kappa_r^4*e^(-4*I*K_vacuum*a)/((c*epsilon_l*k_z^2*sqrt(mu_l) - c*epsilon_l*kappa_l^2*sqrt(mu_l) - 4*I*pi*sqrt(epsilon_l)*kappa_l*mu_l*sigma_l)*(c*epsilon_r*k_z^2*sqrt(mu_r) - c*epsilon_r*kappa_r^2*sqrt(mu_r) - 4*I*pi*sqrt(epsilon_r)*kappa_r*mu_r*sigma_r)*K_left_conductor*K_right_conductor*mu_l*mu_r*omega^2) + 4*I*pi*sqrt(-k_z^2 + kappa_l^2)*sqrt(-k_z^2 + kappa_r^2)*c^3*epsilon_l*epsilon_r^(3/2)*k_z^4*kappa_l*kappa_r^2*sigma_l*e^(-4*I*K_vacuum*a)/((c*epsilon_l*k_z^2*sqrt(mu_l) - c*epsilon_l*kappa_l^2*sqrt(mu_l) - 4*I*pi*sqrt(epsilon_l)*kappa_l*mu_l*sigma_l)*(c*epsilon_r*k_z^2*sqrt(mu_r) - c*epsilon_r*kappa_r^2*sqrt(mu_r) - 4*I*pi*sqrt(epsilon_r)*kappa_r*mu_r*sigma_r)*K_left_conductor*K_right_conductor*sqrt(mu_l)*mu_r*omega^2) - 8*I*pi*sqrt(-k_z^2 + kappa_l^2)*sqrt(-k_z^2 + kappa_r^2)*c^3*epsilon_l*epsilon_r^(3/2)*k_z^2*kappa_l^3*kappa_r^2*sigma_l*e^(-4*I*K_vacuum*a)/((c*epsilon_l*k_z^2*sqrt(mu_l) - c*epsilon_l*kappa_l^2*sqrt(mu_l) - 4*I*pi*sqrt(epsilon_l)*kappa_l*mu_l*sigma_l)*(c*epsilon_r*k_z^2*sqrt(mu_r) - c*epsilon_r*kappa_r^2*sqrt(mu_r) - 4*I*pi*sqrt(epsilon_r)*kappa_r*mu_r*sigma_r)*K_left_conductor*K_right_conductor*sqrt(mu_l)*mu_r*omega^2) - 4*I*pi*sqrt(-k_z^2 + kappa_l^2)*sqrt(-k_z^2 + kappa_r^2)*c^3*epsilon_l*epsilon_r^(3/2)*k_z^2*kappa_l*kappa_r^4*sigma_l*e^(-4*I*K_vacuum*a)/((c*epsilon_l*k_z^2*sqrt(mu_l) - c*epsilon_l*kappa_l^2*sqrt(mu_l) - 4*I*pi*sqrt(epsilon_l)*kappa_l*mu_l*sigma_l)*(c*epsilon_r*k_z^2*sqrt(mu_r) - c*epsilon_r*kappa_r^2*sqrt(mu_r) - 4*I*pi*sqrt(epsilon_r)*kappa_r*mu_r*sigma_r)*K_left_conductor*K_right_conductor*sqrt(mu_l)*mu_r*omega^2) + 8*I*pi*sqrt(-k_z^2 + kappa_l^2)*sqrt(-k_z^2 + kappa_r^2)*c^3*epsilon_l*epsilon_r^(3/2)*kappa_l^3*kappa_r^4*sigma_l*e^(-4*I*K_vacuum*a)/((c*epsilon_l*k_z^2*sqrt(mu_l) - c*epsilon_l*kappa_l^2*sqrt(mu_l) - 4*I*pi*sqrt(epsilon_l)*kappa_l*mu_l*sigma_l)*(c*epsilon_r*k_z^2*sqrt(mu_r) - c*epsilon_r*kappa_r^2*sqrt(mu_r) - 4*I*pi*sqrt(epsilon_r)*kappa_r*mu_r*sigma_r)*K_left_conductor*K_right_conductor*sqrt(mu_l)*mu_r*omega^2) + 16*pi^2*sqrt(-k_z^2 + kappa_l^2)*sqrt(-k_z^2 + kappa_r^2)*c^2*sqrt(epsilon_l)*epsilon_r^(3/2)*k_z^2*kappa_l^2*kappa_r^2*sigma_l^2*e^(-4*I*K_vacuum*a)/((c*epsilon_l*k_z^2*sqrt(mu_l) - c*epsilon_l*kappa_l^2*sqrt(mu_l) - 4*I*pi*sqrt(epsilon_l)*kappa_l*mu_l*sigma_l)*(c*epsilon_r*k_z^2*sqrt(mu_r) - c*epsilon_r*kappa_r^2*sqrt(mu_r) - 4*I*pi*sqrt(epsilon_r)*kappa_r*mu_r*sigma_r)*K_left_conductor*K_right_conductor*mu_r*omega^2) - 16*pi^2*sqrt(-k_z^2 + kappa_l^2)*sqrt(-k_z^2 + kappa_r^2)*c^2*sqrt(epsilon_l)*epsilon_r^(3/2)*kappa_l^2*kappa_r^4*sigma_l^2*e^(-4*I*K_vacuum*a)/((c*epsilon_l*k_z^2*sqrt(mu_l) - c*epsilon_l*kappa_l^2*sqrt(mu_l) - 4*I*pi*sqrt(epsilon_l)*kappa_l*mu_l*sigma_l)*(c*epsilon_r*k_z^2*sqrt(mu_r) - c*epsilon_r*kappa_r^2*sqrt(mu_r) - 4*I*pi*sqrt(epsilon_r)*kappa_r*mu_r*sigma_r)*K_left_conductor*K_right_conductor*mu_r*omega^2) + 4*I*pi*sqrt(-k_z^2 + kappa_l^2)*sqrt(-k_z^2 + kappa_r^2)*c^3*epsilon_l^(3/2)*epsilon_r*k_z^4*kappa_l^2*kappa_r*sigma_r*e^(-4*I*K_vacuum*a)/((c*epsilon_l*k_z^2*sqrt(mu_l) - c*epsilon_l*kappa_l^2*sqrt(mu_l) - 4*I*pi*sqrt(epsilon_l)*kappa_l*mu_l*sigma_l)*(c*epsilon_r*k_z^2*sqrt(mu_r) - c*epsilon_r*kappa_r^2*sqrt(mu_r) - 4*I*pi*sqrt(epsilon_r)*kappa_r*mu_r*sigma_r)*K_left_conductor*K_right_conductor*mu_l*sqrt(mu_r)*omega^2) - 4*I*pi*sqrt(-k_z^2 + kappa_l^2)*sqrt(-k_z^2 + kappa_r^2)*c^3*epsilon_l^(3/2)*epsilon_r*k_z^2*kappa_l^4*kappa_r*sigma_r*e^(-4*I*K_vacuum*a)/((c*epsilon_l*k_z^2*sqrt(mu_l) - c*epsilon_l*kappa_l^2*sqrt(mu_l) - 4*I*pi*sqrt(epsilon_l)*kappa_l*mu_l*sigma_l)*(c*epsilon_r*k_z^2*sqrt(mu_r) - c*epsilon_r*kappa_r^2*sqrt(mu_r) - 4*I*pi*sqrt(epsilon_r)*kappa_r*mu_r*sigma_r)*K_left_conductor*K_right_conductor*mu_l*sqrt(mu_r)*omega^2) - 8*I*pi*sqrt(-k_z^2 + kappa_l^2)*sqrt(-k_z^2 + kappa_r^2)*c^3*epsilon_l^(3/2)*epsilon_r*k_z^2*kappa_l^2*kappa_r^3*sigma_r*e^(-4*I*K_vacuum*a)/((c*epsilon_l*k_z^2*sqrt(mu_l) - c*epsilon_l*kappa_l^2*sqrt(mu_l) - 4*I*pi*sqrt(epsilon_l)*kappa_l*mu_l*sigma_l)*(c*epsilon_r*k_z^2*sqrt(mu_r) - c*epsilon_r*kappa_r^2*sqrt(mu_r) - 4*I*pi*sqrt(epsilon_r)*kappa_r*mu_r*sigma_r)*K_left_conductor*K_right_conductor*mu_l*sqrt(mu_r)*omega^2) + 8*I*pi*sqrt(-k_z^2 + kappa_l^2)*sqrt(-k_z^2 + kappa_r^2)*c^3*epsilon_l^(3/2)*epsilon_r*kappa_l^4*kappa_r^3*sigma_r*e^(-4*I*K_vacuum*a)/((c*epsilon_l*k_z^2*sqrt(mu_l) - c*epsilon_l*kappa_l^2*sqrt(mu_l) - 4*I*pi*sqrt(epsilon_l)*kappa_l*mu_l*sigma_l)*(c*epsilon_r*k_z^2*sqrt(mu_r) - c*epsilon_r*kappa_r^2*sqrt(mu_r) - 4*I*pi*sqrt(epsilon_r)*kappa_r*mu_r*sigma_r)*K_left_conductor*K_right_conductor*mu_l*sqrt(mu_r)*omega^2) - 16*pi^2*sqrt(-k_z^2 + kappa_l^2)*sqrt(-k_z^2 + kappa_r^2)*c^2*epsilon_l*epsilon_r*k_z^4*kappa_l*kappa_r*sigma_l*sigma_r*e^(-4*I*K_vacuum*a)/((c*epsilon_l*k_z^2*sqrt(mu_l) - c*epsilon_l*kappa_l^2*sqrt(mu_l) - 4*I*pi*sqrt(epsilon_l)*kappa_l*mu_l*sigma_l)*(c*epsilon_r*k_z^2*sqrt(mu_r) - c*epsilon_r*kappa_r^2*sqrt(mu_r) - 4*I*pi*sqrt(epsilon_r)*kappa_r*mu_r*sigma_r)*K_left_conductor*K_right_conductor*sqrt(mu_l)*sqrt(mu_r)*omega^2) + 32*pi^2*sqrt(-k_z^2 + kappa_l^2)*sqrt(-k_z^2 + kappa_r^2)*c^2*epsilon_l*epsilon_r*k_z^2*kappa_l^3*kappa_r*sigma_l*sigma_r*e^(-4*I*K_vacuum*a)/((c*epsilon_l*k_z^2*sqrt(mu_l) - c*epsilon_l*kappa_l^2*sqrt(mu_l) - 4*I*pi*sqrt(epsilon_l)*kappa_l*mu_l*sigma_l)*(c*epsilon_r*k_z^2*sqrt(mu_r) - c*epsilon_r*kappa_r^2*sqrt(mu_r) - 4*I*pi*sqrt(epsilon_r)*kappa_r*mu_r*sigma_r)*K_left_conductor*K_right_conductor*sqrt(mu_l)*sqrt(mu_r)*omega^2) + 32*pi^2*sqrt(-k_z^2 + kappa_l^2)*sqrt(-k_z^2 + kappa_r^2)*c^2*epsilon_l*epsilon_r*k_z^2*kappa_l*kappa_r^3*sigma_l*sigma_r*e^(-4*I*K_vacuum*a)/((c*epsilon_l*k_z^2*sqrt(mu_l) - c*epsilon_l*kappa_l^2*sqrt(mu_l) - 4*I*pi*sqrt(epsilon_l)*kappa_l*mu_l*sigma_l)*(c*epsilon_r*k_z^2*sqrt(mu_r) - c*epsilon_r*kappa_r^2*sqrt(mu_r) - 4*I*pi*sqrt(epsilon_r)*kappa_r*mu_r*sigma_r)*K_left_conductor*K_right_conductor*sqrt(mu_l)*sqrt(mu_r)*omega^2) - 64*pi^2*sqrt(-k_z^2 + kappa_l^2)*sqrt(-k_z^2 + kappa_r^2)*c^2*epsilon_l*epsilon_r*kappa_l^3*kappa_r^3*sigma_l*sigma_r*e^(-4*I*K_vacuum*a)/((c*epsilon_l*k_z^2*sqrt(mu_l) - c*epsilon_l*kappa_l^2*sqrt(mu_l) - 4*I*pi*sqrt(epsilon_l)*kappa_l*mu_l*sigma_l)*(c*epsilon_r*k_z^2*sqrt(mu_r) - c*epsilon_r*kappa_r^2*sqrt(mu_r) - 4*I*pi*sqrt(epsilon_r)*kappa_r*mu_r*sigma_r)*K_left_conductor*K_right_conductor*sqrt(mu_l)*sqrt(mu_r)*omega^2) + 64*I*pi^3*sqrt(-k_z^2 + kappa_l^2)*sqrt(-k_z^2 + kappa_r^2)*c*sqrt(epsilon_l)*epsilon_r*k_z^2*kappa_l^2*kappa_r*sigma_l^2*sigma_r*e^(-4*I*K_vacuum*a)/((c*epsilon_l*k_z^2*sqrt(mu_l) - c*epsilon_l*kappa_l^2*sqrt(mu_l) - 4*I*pi*sqrt(epsilon_l)*kappa_l*mu_l*sigma_l)*(c*epsilon_r*k_z^2*sqrt(mu_r) - c*epsilon_r*kappa_r^2*sqrt(mu_r) - 4*I*pi*sqrt(epsilon_r)*kappa_r*mu_r*sigma_r)*K_left_conductor*K_right_conductor*sqrt(mu_r)*omega^2) - 128*I*pi^3*sqrt(-k_z^2 + kappa_l^2)*sqrt(-k_z^2 + kappa_r^2)*c*sqrt(epsilon_l)*epsilon_r*kappa_l^2*kappa_r^3*sigma_l^2*sigma_r*e^(-4*I*K_vacuum*a)/((c*epsilon_l*k_z^2*sqrt(mu_l) - c*epsilon_l*kappa_l^2*sqrt(mu_l) - 4*I*pi*sqrt(epsilon_l)*kappa_l*mu_l*sigma_l)*(c*epsilon_r*k_z^2*sqrt(mu_r) - c*epsilon_r*kappa_r^2*sqrt(mu_r) - 4*I*pi*sqrt(epsilon_r)*kappa_r*mu_r*sigma_r)*K_left_conductor*K_right_conductor*sqrt(mu_r)*omega^2) + 16*pi^2*sqrt(-k_z^2 + kappa_l^2)*sqrt(-k_z^2 + kappa_r^2)*c^2*epsilon_l^(3/2)*sqrt(epsilon_r)*k_z^2*kappa_l^2*kappa_r^2*sigma_r^2*e^(-4*I*K_vacuum*a)/((c*epsilon_l*k_z^2*sqrt(mu_l) - c*epsilon_l*kappa_l^2*sqrt(mu_l) - 4*I*pi*sqrt(epsilon_l)*kappa_l*mu_l*sigma_l)*(c*epsilon_r*k_z^2*sqrt(mu_r) - c*epsilon_r*kappa_r^2*sqrt(mu_r) - 4*I*pi*sqrt(epsilon_r)*kappa_r*mu_r*sigma_r)*K_left_conductor*K_right_conductor*mu_l*omega^2) - 16*pi^2*sqrt(-k_z^2 + kappa_l^2)*sqrt(-k_z^2 + kappa_r^2)*c^2*epsilon_l^(3/2)*sqrt(epsilon_r)*kappa_l^4*kappa_r^2*sigma_r^2*e^(-4*I*K_vacuum*a)/((c*epsilon_l*k_z^2*sqrt(mu_l) - c*epsilon_l*kappa_l^2*sqrt(mu_l) - 4*I*pi*sqrt(epsilon_l)*kappa_l*mu_l*sigma_l)*(c*epsilon_r*k_z^2*sqrt(mu_r) - c*epsilon_r*kappa_r^2*sqrt(mu_r) - 4*I*pi*sqrt(epsilon_r)*kappa_r*mu_r*sigma_r)*K_left_conductor*K_right_conductor*mu_l*omega^2) + 64*I*pi^3*sqrt(-k_z^2 + kappa_l^2)*sqrt(-k_z^2 + kappa_r^2)*c*epsilon_l*sqrt(epsilon_r)*k_z^2*kappa_l*kappa_r^2*sigma_l*sigma_r^2*e^(-4*I*K_vacuum*a)/((c*epsilon_l*k_z^2*sqrt(mu_l) - c*epsilon_l*kappa_l^2*sqrt(mu_l) - 4*I*pi*sqrt(epsilon_l)*kappa_l*mu_l*sigma_l)*(c*epsilon_r*k_z^2*sqrt(mu_r) - c*epsilon_r*kappa_r^2*sqrt(mu_r) - 4*I*pi*sqrt(epsilon_r)*kappa_r*mu_r*sigma_r)*K_left_conductor*K_right_conductor*sqrt(mu_l)*omega^2) - 128*I*pi^3*sqrt(-k_z^2 + kappa_l^2)*sqrt(-k_z^2 + kappa_r^2)*c*epsilon_l*sqrt(epsilon_r)*kappa_l^3*kappa_r^2*sigma_l*sigma_r^2*e^(-4*I*K_vacuum*a)/((c*epsilon_l*k_z^2*sqrt(mu_l) - c*epsilon_l*kappa_l^2*sqrt(mu_l) - 4*I*pi*sqrt(epsilon_l)*kappa_l*mu_l*sigma_l)*(c*epsilon_r*k_z^2*sqrt(mu_r) - c*epsilon_r*kappa_r^2*sqrt(mu_r) - 4*I*pi*sqrt(epsilon_r)*kappa_r*mu_r*sigma_r)*K_left_conductor*K_right_conductor*sqrt(mu_l)*omega^2) + 256*pi^4*sqrt(-k_z^2 + kappa_l^2)*sqrt(-k_z^2 + kappa_r^2)*sqrt(epsilon_l)*sqrt(epsilon_r)*kappa_l^2*kappa_r^2*sigma_l^2*sigma_r^2*e^(-4*I*K_vacuum*a)/((c*epsilon_l*k_z^2*sqrt(mu_l) - c*epsilon_l*kappa_l^2*sqrt(mu_l) - 4*I*pi*sqrt(epsilon_l)*kappa_l*mu_l*sigma_l)*(c*epsilon_r*k_z^2*sqrt(mu_r) - c*epsilon_r*kappa_r^2*sqrt(mu_r) - 4*I*pi*sqrt(epsilon_r)*kappa_r*mu_r*sigma_r)*K_left_conductor*K_right_conductor*omega^2) - 2*sqrt(-k_z^2 + kappa_l^2)*sqrt(-k_z^2 + kappa_r^2)*c^4*epsilon_l^(3/2)*epsilon_r^(3/2)*k_z^4*kappa_l^2*kappa_r^2/((c*epsilon_l*k_z^2*sqrt(mu_l) - c*epsilon_l*kappa_l^2*sqrt(mu_l) - 4*I*pi*sqrt(epsilon_l)*kappa_l*mu_l*sigma_l)*(c*epsilon_r*k_z^2*sqrt(mu_r) - c*epsilon_r*kappa_r^2*sqrt(mu_r) - 4*I*pi*sqrt(epsilon_r)*kappa_r*mu_r*sigma_r)*K_left_conductor*K_right_conductor*mu_l*mu_r*omega^2) + 2*sqrt(-k_z^2 + kappa_l^2)*sqrt(-k_z^2 + kappa_r^2)*c^4*epsilon_l^(3/2)*epsilon_r^(3/2)*k_z^2*kappa_l^4*kappa_r^2/((c*epsilon_l*k_z^2*sqrt(mu_l) - c*epsilon_l*kappa_l^2*sqrt(mu_l) - 4*I*pi*sqrt(epsilon_l)*kappa_l*mu_l*sigma_l)*(c*epsilon_r*k_z^2*sqrt(mu_r) - c*epsilon_r*kappa_r^2*sqrt(mu_r) - 4*I*pi*sqrt(epsilon_r)*kappa_r*mu_r*sigma_r)*K_left_conductor*K_right_conductor*mu_l*mu_r*omega^2) + 2*sqrt(-k_z^2 + kappa_l^2)*sqrt(-k_z^2 + kappa_r^2)*c^4*epsilon_l^(3/2)*epsilon_r^(3/2)*k_z^2*kappa_l^2*kappa_r^4/((c*epsilon_l*k_z^2*sqrt(mu_l) - c*epsilon_l*kappa_l^2*sqrt(mu_l) - 4*I*pi*sqrt(epsilon_l)*kappa_l*mu_l*sigma_l)*(c*epsilon_r*k_z^2*sqrt(mu_r) - c*epsilon_r*kappa_r^2*sqrt(mu_r) - 4*I*pi*sqrt(epsilon_r)*kappa_r*mu_r*sigma_r)*K_left_conductor*K_right_conductor*mu_l*mu_r*omega^2) - 2*sqrt(-k_z^2 + kappa_l^2)*sqrt(-k_z^2 + kappa_r^2)*c^4*epsilon_l^(3/2)*epsilon_r^(3/2)*kappa_l^4*kappa_r^4/((c*epsilon_l*k_z^2*sqrt(mu_l) - c*epsilon_l*kappa_l^2*sqrt(mu_l) - 4*I*pi*sqrt(epsilon_l)*kappa_l*mu_l*sigma_l)*(c*epsilon_r*k_z^2*sqrt(mu_r) - c*epsilon_r*kappa_r^2*sqrt(mu_r) - 4*I*pi*sqrt(epsilon_r)*kappa_r*mu_r*sigma_r)*K_left_conductor*K_right_conductor*mu_l*mu_r*omega^2) - 8*I*pi*sqrt(-k_z^2 + kappa_l^2)*sqrt(-k_z^2 + kappa_r^2)*c^3*epsilon_l*epsilon_r^(3/2)*k_z^4*kappa_l*kappa_r^2*sigma_l/((c*epsilon_l*k_z^2*sqrt(mu_l) - c*epsilon_l*kappa_l^2*sqrt(mu_l) - 4*I*pi*sqrt(epsilon_l)*kappa_l*mu_l*sigma_l)*(c*epsilon_r*k_z^2*sqrt(mu_r) - c*epsilon_r*kappa_r^2*sqrt(mu_r) - 4*I*pi*sqrt(epsilon_r)*kappa_r*mu_r*sigma_r)*K_left_conductor*K_right_conductor*sqrt(mu_l)*mu_r*omega^2) + 16*I*pi*sqrt(-k_z^2 + kappa_l^2)*sqrt(-k_z^2 + kappa_r^2)*c^3*epsilon_l*epsilon_r^(3/2)*k_z^2*kappa_l^3*kappa_r^2*sigma_l/((c*epsilon_l*k_z^2*sqrt(mu_l) - c*epsilon_l*kappa_l^2*sqrt(mu_l) - 4*I*pi*sqrt(epsilon_l)*kappa_l*mu_l*sigma_l)*(c*epsilon_r*k_z^2*sqrt(mu_r) - c*epsilon_r*kappa_r^2*sqrt(mu_r) - 4*I*pi*sqrt(epsilon_r)*kappa_r*mu_r*sigma_r)*K_left_conductor*K_right_conductor*sqrt(mu_l)*mu_r*omega^2) + 8*I*pi*sqrt(-k_z^2 + kappa_l^2)*sqrt(-k_z^2 + kappa_r^2)*c^3*epsilon_l*epsilon_r^(3/2)*k_z^2*kappa_l*kappa_r^4*sigma_l/((c*epsilon_l*k_z^2*sqrt(mu_l) - c*epsilon_l*kappa_l^2*sqrt(mu_l) - 4*I*pi*sqrt(epsilon_l)*kappa_l*mu_l*sigma_l)*(c*epsilon_r*k_z^2*sqrt(mu_r) - c*epsilon_r*kappa_r^2*sqrt(mu_r) - 4*I*pi*sqrt(epsilon_r)*kappa_r*mu_r*sigma_r)*K_left_conductor*K_right_conductor*sqrt(mu_l)*mu_r*omega^2) - 16*I*pi*sqrt(-k_z^2 + kappa_l^2)*sqrt(-k_z^2 + kappa_r^2)*c^3*epsilon_l*epsilon_r^(3/2)*kappa_l^3*kappa_r^4*sigma_l/((c*epsilon_l*k_z^2*sqrt(mu_l) - c*epsilon_l*kappa_l^2*sqrt(mu_l) - 4*I*pi*sqrt(epsilon_l)*kappa_l*mu_l*sigma_l)*(c*epsilon_r*k_z^2*sqrt(mu_r) - c*epsilon_r*kappa_r^2*sqrt(mu_r) - 4*I*pi*sqrt(epsilon_r)*kappa_r*mu_r*sigma_r)*K_left_conductor*K_right_conductor*sqrt(mu_l)*mu_r*omega^2) - 32*pi^2*sqrt(-k_z^2 + kappa_l^2)*sqrt(-k_z^2 + kappa_r^2)*c^2*sqrt(epsilon_l)*epsilon_r^(3/2)*k_z^2*kappa_l^2*kappa_r^2*sigma_l^2/((c*epsilon_l*k_z^2*sqrt(mu_l) - c*epsilon_l*kappa_l^2*sqrt(mu_l) - 4*I*pi*sqrt(epsilon_l)*kappa_l*mu_l*sigma_l)*(c*epsilon_r*k_z^2*sqrt(mu_r) - c*epsilon_r*kappa_r^2*sqrt(mu_r) - 4*I*pi*sqrt(epsilon_r)*kappa_r*mu_r*sigma_r)*K_left_conductor*K_right_conductor*mu_r*omega^2) + 32*pi^2*sqrt(-k_z^2 + kappa_l^2)*sqrt(-k_z^2 + kappa_r^2)*c^2*sqrt(epsilon_l)*epsilon_r^(3/2)*kappa_l^2*kappa_r^4*sigma_l^2/((c*epsilon_l*k_z^2*sqrt(mu_l) - c*epsilon_l*kappa_l^2*sqrt(mu_l) - 4*I*pi*sqrt(epsilon_l)*kappa_l*mu_l*sigma_l)*(c*epsilon_r*k_z^2*sqrt(mu_r) - c*epsilon_r*kappa_r^2*sqrt(mu_r) - 4*I*pi*sqrt(epsilon_r)*kappa_r*mu_r*sigma_r)*K_left_conductor*K_right_conductor*mu_r*omega^2) - 8*I*pi*sqrt(-k_z^2 + kappa_l^2)*sqrt(-k_z^2 + kappa_r^2)*c^3*epsilon_l^(3/2)*epsilon_r*k_z^4*kappa_l^2*kappa_r*sigma_r/((c*epsilon_l*k_z^2*sqrt(mu_l) - c*epsilon_l*kappa_l^2*sqrt(mu_l) - 4*I*pi*sqrt(epsilon_l)*kappa_l*mu_l*sigma_l)*(c*epsilon_r*k_z^2*sqrt(mu_r) - c*epsilon_r*kappa_r^2*sqrt(mu_r) - 4*I*pi*sqrt(epsilon_r)*kappa_r*mu_r*sigma_r)*K_left_conductor*K_right_conductor*mu_l*sqrt(mu_r)*omega^2) + 8*I*pi*sqrt(-k_z^2 + kappa_l^2)*sqrt(-k_z^2 + kappa_r^2)*c^3*epsilon_l^(3/2)*epsilon_r*k_z^2*kappa_l^4*kappa_r*sigma_r/((c*epsilon_l*k_z^2*sqrt(mu_l) - c*epsilon_l*kappa_l^2*sqrt(mu_l) - 4*I*pi*sqrt(epsilon_l)*kappa_l*mu_l*sigma_l)*(c*epsilon_r*k_z^2*sqrt(mu_r) - c*epsilon_r*kappa_r^2*sqrt(mu_r) - 4*I*pi*sqrt(epsilon_r)*kappa_r*mu_r*sigma_r)*K_left_conductor*K_right_conductor*mu_l*sqrt(mu_r)*omega^2) + 16*I*pi*sqrt(-k_z^2 + kappa_l^2)*sqrt(-k_z^2 + kappa_r^2)*c^3*epsilon_l^(3/2)*epsilon_r*k_z^2*kappa_l^2*kappa_r^3*sigma_r/((c*epsilon_l*k_z^2*sqrt(mu_l) - c*epsilon_l*kappa_l^2*sqrt(mu_l) - 4*I*pi*sqrt(epsilon_l)*kappa_l*mu_l*sigma_l)*(c*epsilon_r*k_z^2*sqrt(mu_r) - c*epsilon_r*kappa_r^2*sqrt(mu_r) - 4*I*pi*sqrt(epsilon_r)*kappa_r*mu_r*sigma_r)*K_left_conductor*K_right_conductor*mu_l*sqrt(mu_r)*omega^2) - 16*I*pi*sqrt(-k_z^2 + kappa_l^2)*sqrt(-k_z^2 + kappa_r^2)*c^3*epsilon_l^(3/2)*epsilon_r*kappa_l^4*kappa_r^3*sigma_r/((c*epsilon_l*k_z^2*sqrt(mu_l) - c*epsilon_l*kappa_l^2*sqrt(mu_l) - 4*I*pi*sqrt(epsilon_l)*kappa_l*mu_l*sigma_l)*(c*epsilon_r*k_z^2*sqrt(mu_r) - c*epsilon_r*kappa_r^2*sqrt(mu_r) - 4*I*pi*sqrt(epsilon_r)*kappa_r*mu_r*sigma_r)*K_left_conductor*K_right_conductor*mu_l*sqrt(mu_r)*omega^2) + 32*pi^2*sqrt(-k_z^2 + kappa_l^2)*sqrt(-k_z^2 + kappa_r^2)*c^2*epsilon_l*epsilon_r*k_z^4*kappa_l*kappa_r*sigma_l*sigma_r/((c*epsilon_l*k_z^2*sqrt(mu_l) - c*epsilon_l*kappa_l^2*sqrt(mu_l) - 4*I*pi*sqrt(epsilon_l)*kappa_l*mu_l*sigma_l)*(c*epsilon_r*k_z^2*sqrt(mu_r) - c*epsilon_r*kappa_r^2*sqrt(mu_r) - 4*I*pi*sqrt(epsilon_r)*kappa_r*mu_r*sigma_r)*K_left_conductor*K_right_conductor*sqrt(mu_l)*sqrt(mu_r)*omega^2) - 64*pi^2*sqrt(-k_z^2 + kappa_l^2)*sqrt(-k_z^2 + kappa_r^2)*c^2*epsilon_l*epsilon_r*k_z^2*kappa_l^3*kappa_r*sigma_l*sigma_r/((c*epsilon_l*k_z^2*sqrt(mu_l) - c*epsilon_l*kappa_l^2*sqrt(mu_l) - 4*I*pi*sqrt(epsilon_l)*kappa_l*mu_l*sigma_l)*(c*epsilon_r*k_z^2*sqrt(mu_r) - c*epsilon_r*kappa_r^2*sqrt(mu_r) - 4*I*pi*sqrt(epsilon_r)*kappa_r*mu_r*sigma_r)*K_left_conductor*K_right_conductor*sqrt(mu_l)*sqrt(mu_r)*omega^2) - 64*pi^2*sqrt(-k_z^2 + kappa_l^2)*sqrt(-k_z^2 + kappa_r^2)*c^2*epsilon_l*epsilon_r*k_z^2*kappa_l*kappa_r^3*sigma_l*sigma_r/((c*epsilon_l*k_z^2*sqrt(mu_l) - c*epsilon_l*kappa_l^2*sqrt(mu_l) - 4*I*pi*sqrt(epsilon_l)*kappa_l*mu_l*sigma_l)*(c*epsilon_r*k_z^2*sqrt(mu_r) - c*epsilon_r*kappa_r^2*sqrt(mu_r) - 4*I*pi*sqrt(epsilon_r)*kappa_r*mu_r*sigma_r)*K_left_conductor*K_right_conductor*sqrt(mu_l)*sqrt(mu_r)*omega^2) + 128*pi^2*sqrt(-k_z^2 + kappa_l^2)*sqrt(-k_z^2 + kappa_r^2)*c^2*epsilon_l*epsilon_r*kappa_l^3*kappa_r^3*sigma_l*sigma_r/((c*epsilon_l*k_z^2*sqrt(mu_l) - c*epsilon_l*kappa_l^2*sqrt(mu_l) - 4*I*pi*sqrt(epsilon_l)*kappa_l*mu_l*sigma_l)*(c*epsilon_r*k_z^2*sqrt(mu_r) - c*epsilon_r*kappa_r^2*sqrt(mu_r) - 4*I*pi*sqrt(epsilon_r)*kappa_r*mu_r*sigma_r)*K_left_conductor*K_right_conductor*sqrt(mu_l)*sqrt(mu_r)*omega^2) - 128*I*pi^3*sqrt(-k_z^2 + kappa_l^2)*sqrt(-k_z^2 + kappa_r^2)*c*sqrt(epsilon_l)*epsilon_r*k_z^2*kappa_l^2*kappa_r*sigma_l^2*sigma_r/((c*epsilon_l*k_z^2*sqrt(mu_l) - c*epsilon_l*kappa_l^2*sqrt(mu_l) - 4*I*pi*sqrt(epsilon_l)*kappa_l*mu_l*sigma_l)*(c*epsilon_r*k_z^2*sqrt(mu_r) - c*epsilon_r*kappa_r^2*sqrt(mu_r) - 4*I*pi*sqrt(epsilon_r)*kappa_r*mu_r*sigma_r)*K_left_conductor*K_right_conductor*sqrt(mu_r)*omega^2) + 256*I*pi^3*sqrt(-k_z^2 + kappa_l^2)*sqrt(-k_z^2 + kappa_r^2)*c*sqrt(epsilon_l)*epsilon_r*kappa_l^2*kappa_r^3*sigma_l^2*sigma_r/((c*epsilon_l*k_z^2*sqrt(mu_l) - c*epsilon_l*kappa_l^2*sqrt(mu_l) - 4*I*pi*sqrt(epsilon_l)*kappa_l*mu_l*sigma_l)*(c*epsilon_r*k_z^2*sqrt(mu_r) - c*epsilon_r*kappa_r^2*sqrt(mu_r) - 4*I*pi*sqrt(epsilon_r)*kappa_r*mu_r*sigma_r)*K_left_conductor*K_right_conductor*sqrt(mu_r)*omega^2) - 32*pi^2*sqrt(-k_z^2 + kappa_l^2)*sqrt(-k_z^2 + kappa_r^2)*c^2*epsilon_l^(3/2)*sqrt(epsilon_r)*k_z^2*kappa_l^2*kappa_r^2*sigma_r^2/((c*epsilon_l*k_z^2*sqrt(mu_l) - c*epsilon_l*kappa_l^2*sqrt(mu_l) - 4*I*pi*sqrt(epsilon_l)*kappa_l*mu_l*sigma_l)*(c*epsilon_r*k_z^2*sqrt(mu_r) - c*epsilon_r*kappa_r^2*sqrt(mu_r) - 4*I*pi*sqrt(epsilon_r)*kappa_r*mu_r*sigma_r)*K_left_conductor*K_right_conductor*mu_l*omega^2) + 32*pi^2*sqrt(-k_z^2 + kappa_l^2)*sqrt(-k_z^2 + kappa_r^2)*c^2*epsilon_l^(3/2)*sqrt(epsilon_r)*kappa_l^4*kappa_r^2*sigma_r^2/((c*epsilon_l*k_z^2*sqrt(mu_l) - c*epsilon_l*kappa_l^2*sqrt(mu_l) - 4*I*pi*sqrt(epsilon_l)*kappa_l*mu_l*sigma_l)*(c*epsilon_r*k_z^2*sqrt(mu_r) - c*epsilon_r*kappa_r^2*sqrt(mu_r) - 4*I*pi*sqrt(epsilon_r)*kappa_r*mu_r*sigma_r)*K_left_conductor*K_right_conductor*mu_l*omega^2) - 128*I*pi^3*sqrt(-k_z^2 + kappa_l^2)*sqrt(-k_z^2 + kappa_r^2)*c*epsilon_l*sqrt(epsilon_r)*k_z^2*kappa_l*kappa_r^2*sigma_l*sigma_r^2/((c*epsilon_l*k_z^2*sqrt(mu_l) - c*epsilon_l*kappa_l^2*sqrt(mu_l) - 4*I*pi*sqrt(epsilon_l)*kappa_l*mu_l*sigma_l)*(c*epsilon_r*k_z^2*sqrt(mu_r) - c*epsilon_r*kappa_r^2*sqrt(mu_r) - 4*I*pi*sqrt(epsilon_r)*kappa_r*mu_r*sigma_r)*K_left_conductor*K_right_conductor*sqrt(mu_l)*omega^2) + 256*I*pi^3*sqrt(-k_z^2 + kappa_l^2)*sqrt(-k_z^2 + kappa_r^2)*c*epsilon_l*sqrt(epsilon_r)*kappa_l^3*kappa_r^2*sigma_l*sigma_r^2/((c*epsilon_l*k_z^2*sqrt(mu_l) - c*epsilon_l*kappa_l^2*sqrt(mu_l) - 4*I*pi*sqrt(epsilon_l)*kappa_l*mu_l*sigma_l)*(c*epsilon_r*k_z^2*sqrt(mu_r) - c*epsilon_r*kappa_r^2*sqrt(mu_r) - 4*I*pi*sqrt(epsilon_r)*kappa_r*mu_r*sigma_r)*K_left_conductor*K_right_conductor*sqrt(mu_l)*omega^2) - 512*pi^4*sqrt(-k_z^2 + kappa_l^2)*sqrt(-k_z^2 + kappa_r^2)*sqrt(epsilon_l)*sqrt(epsilon_r)*kappa_l^2*kappa_r^2*sigma_l^2*sigma_r^2/((c*epsilon_l*k_z^2*sqrt(mu_l) - c*epsilon_l*kappa_l^2*sqrt(mu_l) - 4*I*pi*sqrt(epsilon_l)*kappa_l*mu_l*sigma_l)*(c*epsilon_r*k_z^2*sqrt(mu_r) - c*epsilon_r*kappa_r^2*sqrt(mu_r) - 4*I*pi*sqrt(epsilon_r)*kappa_r*mu_r*sigma_r)*K_left_conductor*K_right_conductor*omega^2) - sqrt(-k_z^2 + kappa_l^2)*sqrt(-k_z^2 + kappa_vacuum^2)*c^3*epsilon_l^(3/2)*k_z^4*kappa_l^2*kappa_vacuum^2*e^(3*I*K_vacuum*a + I*sqrt(-k_z^2 + kappa_vacuum^2)*a)/((c*epsilon_l*k_z^2*sqrt(mu_l) - c*epsilon_l*kappa_l^2*sqrt(mu_l) - 4*I*pi*sqrt(epsilon_l)*kappa_l*mu_l*sigma_l)*(k_z^2 - kappa_vacuum^2)*K_left_conductor*K_right_conductor*mu_l*omega^2) + sqrt(-k_z^2 + kappa_l^2)*sqrt(-k_z^2 + kappa_vacuum^2)*c^3*epsilon_l^(3/2)*k_z^2*kappa_l^4*kappa_vacuum^2*e^(3*I*K_vacuum*a + I*sqrt(-k_z^2 + kappa_vacuum^2)*a)/((c*epsilon_l*k_z^2*sqrt(mu_l) - c*epsilon_l*kappa_l^2*sqrt(mu_l) - 4*I*pi*sqrt(epsilon_l)*kappa_l*mu_l*sigma_l)*(k_z^2 - kappa_vacuum^2)*K_left_conductor*K_right_conductor*mu_l*omega^2) + sqrt(-k_z^2 + kappa_l^2)*sqrt(-k_z^2 + kappa_vacuum^2)*c^3*epsilon_l^(3/2)*k_z^2*kappa_l^2*kappa_r^2*kappa_vacuum^2*e^(3*I*K_vacuum*a + I*sqrt(-k_z^2 + kappa_vacuum^2)*a)/((c*epsilon_l*k_z^2*sqrt(mu_l) - c*epsilon_l*kappa_l^2*sqrt(mu_l) - 4*I*pi*sqrt(epsilon_l)*kappa_l*mu_l*sigma_l)*(k_z^2 - kappa_vacuum^2)*K_left_conductor*K_right_conductor*mu_l*omega^2) - sqrt(-k_z^2 + kappa_l^2)*sqrt(-k_z^2 + kappa_vacuum^2)*c^3*epsilon_l^(3/2)*kappa_l^4*kappa_r^2*kappa_vacuum^2*e^(3*I*K_vacuum*a + I*sqrt(-k_z^2 + kappa_vacuum^2)*a)/((c*epsilon_l*k_z^2*sqrt(mu_l) - c*epsilon_l*kappa_l^2*sqrt(mu_l) - 4*I*pi*sqrt(epsilon_l)*kappa_l*mu_l*sigma_l)*(k_z^2 - kappa_vacuum^2)*K_left_conductor*K_right_conductor*mu_l*omega^2) - sqrt(-k_z^2 + kappa_r^2)*sqrt(-k_z^2 + kappa_vacuum^2)*c^3*epsilon_r^(3/2)*k_z^4*kappa_r^2*kappa_vacuum^2*e^(3*I*K_vacuum*a + I*sqrt(-k_z^2 + kappa_vacuum^2)*a)/((c*epsilon_r*k_z^2*sqrt(mu_r) - c*epsilon_r*kappa_r^2*sqrt(mu_r) - 4*I*pi*sqrt(epsilon_r)*kappa_r*mu_r*sigma_r)*(k_z^2 - kappa_vacuum^2)*K_left_conductor*K_right_conductor*mu_r*omega^2) + sqrt(-k_z^2 + kappa_r^2)*sqrt(-k_z^2 + kappa_vacuum^2)*c^3*epsilon_r^(3/2)*k_z^2*kappa_l^2*kappa_r^2*kappa_vacuum^2*e^(3*I*K_vacuum*a + I*sqrt(-k_z^2 + kappa_vacuum^2)*a)/((c*epsilon_r*k_z^2*sqrt(mu_r) - c*epsilon_r*kappa_r^2*sqrt(mu_r) - 4*I*pi*sqrt(epsilon_r)*kappa_r*mu_r*sigma_r)*(k_z^2 - kappa_vacuum^2)*K_left_conductor*K_right_conductor*mu_r*omega^2) + sqrt(-k_z^2 + kappa_r^2)*sqrt(-k_z^2 + kappa_vacuum^2)*c^3*epsilon_r^(3/2)*k_z^2*kappa_r^4*kappa_vacuum^2*e^(3*I*K_vacuum*a + I*sqrt(-k_z^2 + kappa_vacuum^2)*a)/((c*epsilon_r*k_z^2*sqrt(mu_r) - c*epsilon_r*kappa_r^2*sqrt(mu_r) - 4*I*pi*sqrt(epsilon_r)*kappa_r*mu_r*sigma_r)*(k_z^2 - kappa_vacuum^2)*K_left_conductor*K_right_conductor*mu_r*omega^2) - sqrt(-k_z^2 + kappa_r^2)*sqrt(-k_z^2 + kappa_vacuum^2)*c^3*epsilon_r^(3/2)*kappa_l^2*kappa_r^4*kappa_vacuum^2*e^(3*I*K_vacuum*a + I*sqrt(-k_z^2 + kappa_vacuum^2)*a)/((c*epsilon_r*k_z^2*sqrt(mu_r) - c*epsilon_r*kappa_r^2*sqrt(mu_r) - 4*I*pi*sqrt(epsilon_r)*kappa_r*mu_r*sigma_r)*(k_z^2 - kappa_vacuum^2)*K_left_conductor*K_right_conductor*mu_r*omega^2) - 4*I*pi*sqrt(-k_z^2 + kappa_l^2)*sqrt(-k_z^2 + kappa_vacuum^2)*c^2*epsilon_l*k_z^4*kappa_l*kappa_vacuum^2*sigma_l*e^(3*I*K_vacuum*a + I*sqrt(-k_z^2 + kappa_vacuum^2)*a)/((c*epsilon_l*k_z^2*sqrt(mu_l) - c*epsilon_l*kappa_l^2*sqrt(mu_l) - 4*I*pi*sqrt(epsilon_l)*kappa_l*mu_l*sigma_l)*(k_z^2 - kappa_vacuum^2)*K_left_conductor*K_right_conductor*sqrt(mu_l)*omega^2) + 8*I*pi*sqrt(-k_z^2 + kappa_l^2)*sqrt(-k_z^2 + kappa_vacuum^2)*c^2*epsilon_l*k_z^2*kappa_l^3*kappa_vacuum^2*sigma_l*e^(3*I*K_vacuum*a + I*sqrt(-k_z^2 + kappa_vacuum^2)*a)/((c*epsilon_l*k_z^2*sqrt(mu_l) - c*epsilon_l*kappa_l^2*sqrt(mu_l) - 4*I*pi*sqrt(epsilon_l)*kappa_l*mu_l*sigma_l)*(k_z^2 - kappa_vacuum^2)*K_left_conductor*K_right_conductor*sqrt(mu_l)*omega^2) + 4*I*pi*sqrt(-k_z^2 + kappa_l^2)*sqrt(-k_z^2 + kappa_vacuum^2)*c^2*epsilon_l*k_z^2*kappa_l*kappa_r^2*kappa_vacuum^2*sigma_l*e^(3*I*K_vacuum*a + I*sqrt(-k_z^2 + kappa_vacuum^2)*a)/((c*epsilon_l*k_z^2*sqrt(mu_l) - c*epsilon_l*kappa_l^2*sqrt(mu_l) - 4*I*pi*sqrt(epsilon_l)*kappa_l*mu_l*sigma_l)*(k_z^2 - kappa_vacuum^2)*K_left_conductor*K_right_conductor*sqrt(mu_l)*omega^2) - 8*I*pi*sqrt(-k_z^2 + kappa_l^2)*sqrt(-k_z^2 + kappa_vacuum^2)*c^2*epsilon_l*kappa_l^3*kappa_r^2*kappa_vacuum^2*sigma_l*e^(3*I*K_vacuum*a + I*sqrt(-k_z^2 + kappa_vacuum^2)*a)/((c*epsilon_l*k_z^2*sqrt(mu_l) - c*epsilon_l*kappa_l^2*sqrt(mu_l) - 4*I*pi*sqrt(epsilon_l)*kappa_l*mu_l*sigma_l)*(k_z^2 - kappa_vacuum^2)*K_left_conductor*K_right_conductor*sqrt(mu_l)*omega^2) + 4*I*pi*sqrt(-k_z^2 + kappa_r^2)*sqrt(-k_z^2 + kappa_vacuum^2)*c^2*epsilon_r^(3/2)*k_z^2*kappa_l*kappa_r^2*kappa_vacuum^2*sqrt(mu_l)*sigma_l*e^(3*I*K_vacuum*a + I*sqrt(-k_z^2 + kappa_vacuum^2)*a)/((c*epsilon_r*k_z^2*sqrt(mu_r) - c*epsilon_r*kappa_r^2*sqrt(mu_r) - 4*I*pi*sqrt(epsilon_r)*kappa_r*mu_r*sigma_r)*(k_z^2 - kappa_vacuum^2)*K_left_conductor*K_right_conductor*sqrt(epsilon_l)*mu_r*omega^2) - 4*I*pi*sqrt(-k_z^2 + kappa_r^2)*sqrt(-k_z^2 + kappa_vacuum^2)*c^2*epsilon_r^(3/2)*kappa_l*kappa_r^4*kappa_vacuum^2*sqrt(mu_l)*sigma_l*e^(3*I*K_vacuum*a + I*sqrt(-k_z^2 + kappa_vacuum^2)*a)/((c*epsilon_r*k_z^2*sqrt(mu_r) - c*epsilon_r*kappa_r^2*sqrt(mu_r) - 4*I*pi*sqrt(epsilon_r)*kappa_r*mu_r*sigma_r)*(k_z^2 - kappa_vacuum^2)*K_left_conductor*K_right_conductor*sqrt(epsilon_l)*mu_r*omega^2) - 16*pi^2*sqrt(-k_z^2 + kappa_l^2)*sqrt(-k_z^2 + kappa_vacuum^2)*c*sqrt(epsilon_l)*k_z^2*kappa_l^2*kappa_vacuum^2*sigma_l^2*e^(3*I*K_vacuum*a + I*sqrt(-k_z^2 + kappa_vacuum^2)*a)/((c*epsilon_l*k_z^2*sqrt(mu_l) - c*epsilon_l*kappa_l^2*sqrt(mu_l) - 4*I*pi*sqrt(epsilon_l)*kappa_l*mu_l*sigma_l)*(k_z^2 - kappa_vacuum^2)*K_left_conductor*K_right_conductor*omega^2) + 16*pi^2*sqrt(-k_z^2 + kappa_l^2)*sqrt(-k_z^2 + kappa_vacuum^2)*c*sqrt(epsilon_l)*kappa_l^2*kappa_r^2*kappa_vacuum^2*sigma_l^2*e^(3*I*K_vacuum*a + I*sqrt(-k_z^2 + kappa_vacuum^2)*a)/((c*epsilon_l*k_z^2*sqrt(mu_l) - c*epsilon_l*kappa_l^2*sqrt(mu_l) - 4*I*pi*sqrt(epsilon_l)*kappa_l*mu_l*sigma_l)*(k_z^2 - kappa_vacuum^2)*K_left_conductor*K_right_conductor*omega^2) - 4*I*pi*sqrt(-k_z^2 + kappa_r^2)*sqrt(-k_z^2 + kappa_vacuum^2)*c^2*epsilon_r*k_z^4*kappa_r*kappa_vacuum^2*sigma_r*e^(3*I*K_vacuum*a + I*sqrt(-k_z^2 + kappa_vacuum^2)*a)/((c*epsilon_r*k_z^2*sqrt(mu_r) - c*epsilon_r*kappa_r^2*sqrt(mu_r) - 4*I*pi*sqrt(epsilon_r)*kappa_r*mu_r*sigma_r)*(k_z^2 - kappa_vacuum^2)*K_left_conductor*K_right_conductor*sqrt(mu_r)*omega^2) + 4*I*pi*sqrt(-k_z^2 + kappa_r^2)*sqrt(-k_z^2 + kappa_vacuum^2)*c^2*epsilon_r*k_z^2*kappa_l^2*kappa_r*kappa_vacuum^2*sigma_r*e^(3*I*K_vacuum*a + I*sqrt(-k_z^2 + kappa_vacuum^2)*a)/((c*epsilon_r*k_z^2*sqrt(mu_r) - c*epsilon_r*kappa_r^2*sqrt(mu_r) - 4*I*pi*sqrt(epsilon_r)*kappa_r*mu_r*sigma_r)*(k_z^2 - kappa_vacuum^2)*K_left_conductor*K_right_conductor*sqrt(mu_r)*omega^2) + 8*I*pi*sqrt(-k_z^2 + kappa_r^2)*sqrt(-k_z^2 + kappa_vacuum^2)*c^2*epsilon_r*k_z^2*kappa_r^3*kappa_vacuum^2*sigma_r*e^(3*I*K_vacuum*a + I*sqrt(-k_z^2 + kappa_vacuum^2)*a)/((c*epsilon_r*k_z^2*sqrt(mu_r) - c*epsilon_r*kappa_r^2*sqrt(mu_r) - 4*I*pi*sqrt(epsilon_r)*kappa_r*mu_r*sigma_r)*(k_z^2 - kappa_vacuum^2)*K_left_conductor*K_right_conductor*sqrt(mu_r)*omega^2) - 8*I*pi*sqrt(-k_z^2 + kappa_r^2)*sqrt(-k_z^2 + kappa_vacuum^2)*c^2*epsilon_r*kappa_l^2*kappa_r^3*kappa_vacuum^2*sigma_r*e^(3*I*K_vacuum*a + I*sqrt(-k_z^2 + kappa_vacuum^2)*a)/((c*epsilon_r*k_z^2*sqrt(mu_r) - c*epsilon_r*kappa_r^2*sqrt(mu_r) - 4*I*pi*sqrt(epsilon_r)*kappa_r*mu_r*sigma_r)*(k_z^2 - kappa_vacuum^2)*K_left_conductor*K_right_conductor*sqrt(mu_r)*omega^2) + 4*I*pi*sqrt(-k_z^2 + kappa_l^2)*sqrt(-k_z^2 + kappa_vacuum^2)*c^2*epsilon_l^(3/2)*k_z^2*kappa_l^2*kappa_r*kappa_vacuum^2*sqrt(mu_r)*sigma_r*e^(3*I*K_vacuum*a + I*sqrt(-k_z^2 + kappa_vacuum^2)*a)/((c*epsilon_l*k_z^2*sqrt(mu_l) - c*epsilon_l*kappa_l^2*sqrt(mu_l) - 4*I*pi*sqrt(epsilon_l)*kappa_l*mu_l*sigma_l)*(k_z^2 - kappa_vacuum^2)*K_left_conductor*K_right_conductor*sqrt(epsilon_r)*mu_l*omega^2) - 4*I*pi*sqrt(-k_z^2 + kappa_l^2)*sqrt(-k_z^2 + kappa_vacuum^2)*c^2*epsilon_l^(3/2)*kappa_l^4*kappa_r*kappa_vacuum^2*sqrt(mu_r)*sigma_r*e^(3*I*K_vacuum*a + I*sqrt(-k_z^2 + kappa_vacuum^2)*a)/((c*epsilon_l*k_z^2*sqrt(mu_l) - c*epsilon_l*kappa_l^2*sqrt(mu_l) - 4*I*pi*sqrt(epsilon_l)*kappa_l*mu_l*sigma_l)*(k_z^2 - kappa_vacuum^2)*K_left_conductor*K_right_conductor*sqrt(epsilon_r)*mu_l*omega^2) - 16*pi^2*sqrt(-k_z^2 + kappa_r^2)*sqrt(-k_z^2 + kappa_vacuum^2)*c*epsilon_r*k_z^2*kappa_l*kappa_r*kappa_vacuum^2*sqrt(mu_l)*sigma_l*sigma_r*e^(3*I*K_vacuum*a + I*sqrt(-k_z^2 + kappa_vacuum^2)*a)/((c*epsilon_r*k_z^2*sqrt(mu_r) - c*epsilon_r*kappa_r^2*sqrt(mu_r) - 4*I*pi*sqrt(epsilon_r)*kappa_r*mu_r*sigma_r)*(k_z^2 - kappa_vacuum^2)*K_left_conductor*K_right_conductor*sqrt(epsilon_l)*sqrt(mu_r)*omega^2) + 32*pi^2*sqrt(-k_z^2 + kappa_r^2)*sqrt(-k_z^2 + kappa_vacuum^2)*c*epsilon_r*kappa_l*kappa_r^3*kappa_vacuum^2*sqrt(mu_l)*sigma_l*sigma_r*e^(3*I*K_vacuum*a + I*sqrt(-k_z^2 + kappa_vacuum^2)*a)/((c*epsilon_r*k_z^2*sqrt(mu_r) - c*epsilon_r*kappa_r^2*sqrt(mu_r) - 4*I*pi*sqrt(epsilon_r)*kappa_r*mu_r*sigma_r)*(k_z^2 - kappa_vacuum^2)*K_left_conductor*K_right_conductor*sqrt(epsilon_l)*sqrt(mu_r)*omega^2) - 16*pi^2*sqrt(-k_z^2 + kappa_l^2)*sqrt(-k_z^2 + kappa_vacuum^2)*c*epsilon_l*k_z^2*kappa_l*kappa_r*kappa_vacuum^2*sqrt(mu_r)*sigma_l*sigma_r*e^(3*I*K_vacuum*a + I*sqrt(-k_z^2 + kappa_vacuum^2)*a)/((c*epsilon_l*k_z^2*sqrt(mu_l) - c*epsilon_l*kappa_l^2*sqrt(mu_l) - 4*I*pi*sqrt(epsilon_l)*kappa_l*mu_l*sigma_l)*(k_z^2 - kappa_vacuum^2)*K_left_conductor*K_right_conductor*sqrt(epsilon_r)*sqrt(mu_l)*omega^2) + 32*pi^2*sqrt(-k_z^2 + kappa_l^2)*sqrt(-k_z^2 + kappa_vacuum^2)*c*epsilon_l*kappa_l^3*kappa_r*kappa_vacuum^2*sqrt(mu_r)*sigma_l*sigma_r*e^(3*I*K_vacuum*a + I*sqrt(-k_z^2 + kappa_vacuum^2)*a)/((c*epsilon_l*k_z^2*sqrt(mu_l) - c*epsilon_l*kappa_l^2*sqrt(mu_l) - 4*I*pi*sqrt(epsilon_l)*kappa_l*mu_l*sigma_l)*(k_z^2 - kappa_vacuum^2)*K_left_conductor*K_right_conductor*sqrt(epsilon_r)*sqrt(mu_l)*omega^2) + 64*I*pi^3*sqrt(-k_z^2 + kappa_l^2)*sqrt(-k_z^2 + kappa_vacuum^2)*sqrt(epsilon_l)*kappa_l^2*kappa_r*kappa_vacuum^2*sqrt(mu_r)*sigma_l^2*sigma_r*e^(3*I*K_vacuum*a + I*sqrt(-k_z^2 + kappa_vacuum^2)*a)/((c*epsilon_l*k_z^2*sqrt(mu_l) - c*epsilon_l*kappa_l^2*sqrt(mu_l) - 4*I*pi*sqrt(epsilon_l)*kappa_l*mu_l*sigma_l)*(k_z^2 - kappa_vacuum^2)*K_left_conductor*K_right_conductor*sqrt(epsilon_r)*omega^2) - 16*pi^2*sqrt(-k_z^2 + kappa_r^2)*sqrt(-k_z^2 + kappa_vacuum^2)*c*sqrt(epsilon_r)*k_z^2*kappa_r^2*kappa_vacuum^2*sigma_r^2*e^(3*I*K_vacuum*a + I*sqrt(-k_z^2 + kappa_vacuum^2)*a)/((c*epsilon_r*k_z^2*sqrt(mu_r) - c*epsilon_r*kappa_r^2*sqrt(mu_r) - 4*I*pi*sqrt(epsilon_r)*kappa_r*mu_r*sigma_r)*(k_z^2 - kappa_vacuum^2)*K_left_conductor*K_right_conductor*omega^2) + 16*pi^2*sqrt(-k_z^2 + kappa_r^2)*sqrt(-k_z^2 + kappa_vacuum^2)*c*sqrt(epsilon_r)*kappa_l^2*kappa_r^2*kappa_vacuum^2*sigma_r^2*e^(3*I*K_vacuum*a + I*sqrt(-k_z^2 + kappa_vacuum^2)*a)/((c*epsilon_r*k_z^2*sqrt(mu_r) - c*epsilon_r*kappa_r^2*sqrt(mu_r) - 4*I*pi*sqrt(epsilon_r)*kappa_r*mu_r*sigma_r)*(k_z^2 - kappa_vacuum^2)*K_left_conductor*K_right_conductor*omega^2) + 64*I*pi^3*sqrt(-k_z^2 + kappa_r^2)*sqrt(-k_z^2 + kappa_vacuum^2)*sqrt(epsilon_r)*kappa_l*kappa_r^2*kappa_vacuum^2*sqrt(mu_l)*sigma_l*sigma_r^2*e^(3*I*K_vacuum*a + I*sqrt(-k_z^2 + kappa_vacuum^2)*a)/((c*epsilon_r*k_z^2*sqrt(mu_r) - c*epsilon_r*kappa_r^2*sqrt(mu_r) - 4*I*pi*sqrt(epsilon_r)*kappa_r*mu_r*sigma_r)*(k_z^2 - kappa_vacuum^2)*K_left_conductor*K_right_conductor*sqrt(epsilon_l)*omega^2) - sqrt(-k_z^2 + kappa_l^2)*sqrt(-k_z^2 + kappa_vacuum^2)*c^3*epsilon_l^(3/2)*k_z^4*kappa_l^2*kappa_vacuum^2*e^(I*K_vacuum*a - I*sqrt(-k_z^2 + kappa_vacuum^2)*a)/((c*epsilon_l*k_z^2*sqrt(mu_l) - c*epsilon_l*kappa_l^2*sqrt(mu_l) - 4*I*pi*sqrt(epsilon_l)*kappa_l*mu_l*sigma_l)*(k_z^2 - kappa_vacuum^2)*K_left_conductor*K_right_conductor*mu_l*omega^2) + sqrt(-k_z^2 + kappa_l^2)*sqrt(-k_z^2 + kappa_vacuum^2)*c^3*epsilon_l^(3/2)*k_z^2*kappa_l^4*kappa_vacuum^2*e^(I*K_vacuum*a - I*sqrt(-k_z^2 + kappa_vacuum^2)*a)/((c*epsilon_l*k_z^2*sqrt(mu_l) - c*epsilon_l*kappa_l^2*sqrt(mu_l) - 4*I*pi*sqrt(epsilon_l)*kappa_l*mu_l*sigma_l)*(k_z^2 - kappa_vacuum^2)*K_left_conductor*K_right_conductor*mu_l*omega^2) + sqrt(-k_z^2 + kappa_l^2)*sqrt(-k_z^2 + kappa_vacuum^2)*c^3*epsilon_l^(3/2)*k_z^2*kappa_l^2*kappa_r^2*kappa_vacuum^2*e^(I*K_vacuum*a - I*sqrt(-k_z^2 + kappa_vacuum^2)*a)/((c*epsilon_l*k_z^2*sqrt(mu_l) - c*epsilon_l*kappa_l^2*sqrt(mu_l) - 4*I*pi*sqrt(epsilon_l)*kappa_l*mu_l*sigma_l)*(k_z^2 - kappa_vacuum^2)*K_left_conductor*K_right_conductor*mu_l*omega^2) - sqrt(-k_z^2 + kappa_l^2)*sqrt(-k_z^2 + kappa_vacuum^2)*c^3*epsilon_l^(3/2)*kappa_l^4*kappa_r^2*kappa_vacuum^2*e^(I*K_vacuum*a - I*sqrt(-k_z^2 + kappa_vacuum^2)*a)/((c*epsilon_l*k_z^2*sqrt(mu_l) - c*epsilon_l*kappa_l^2*sqrt(mu_l) - 4*I*pi*sqrt(epsilon_l)*kappa_l*mu_l*sigma_l)*(k_z^2 - kappa_vacuum^2)*K_left_conductor*K_right_conductor*mu_l*omega^2) - sqrt(-k_z^2 + kappa_r^2)*sqrt(-k_z^2 + kappa_vacuum^2)*c^3*epsilon_r^(3/2)*k_z^4*kappa_r^2*kappa_vacuum^2*e^(I*K_vacuum*a - I*sqrt(-k_z^2 + kappa_vacuum^2)*a)/((c*epsilon_r*k_z^2*sqrt(mu_r) - c*epsilon_r*kappa_r^2*sqrt(mu_r) - 4*I*pi*sqrt(epsilon_r)*kappa_r*mu_r*sigma_r)*(k_z^2 - kappa_vacuum^2)*K_left_conductor*K_right_conductor*mu_r*omega^2) + sqrt(-k_z^2 + kappa_r^2)*sqrt(-k_z^2 + kappa_vacuum^2)*c^3*epsilon_r^(3/2)*k_z^2*kappa_l^2*kappa_r^2*kappa_vacuum^2*e^(I*K_vacuum*a - I*sqrt(-k_z^2 + kappa_vacuum^2)*a)/((c*epsilon_r*k_z^2*sqrt(mu_r) - c*epsilon_r*kappa_r^2*sqrt(mu_r) - 4*I*pi*sqrt(epsilon_r)*kappa_r*mu_r*sigma_r)*(k_z^2 - kappa_vacuum^2)*K_left_conductor*K_right_conductor*mu_r*omega^2) + sqrt(-k_z^2 + kappa_r^2)*sqrt(-k_z^2 + kappa_vacuum^2)*c^3*epsilon_r^(3/2)*k_z^2*kappa_r^4*kappa_vacuum^2*e^(I*K_vacuum*a - I*sqrt(-k_z^2 + kappa_vacuum^2)*a)/((c*epsilon_r*k_z^2*sqrt(mu_r) - c*epsilon_r*kappa_r^2*sqrt(mu_r) - 4*I*pi*sqrt(epsilon_r)*kappa_r*mu_r*sigma_r)*(k_z^2 - kappa_vacuum^2)*K_left_conductor*K_right_conductor*mu_r*omega^2) - sqrt(-k_z^2 + kappa_r^2)*sqrt(-k_z^2 + kappa_vacuum^2)*c^3*epsilon_r^(3/2)*kappa_l^2*kappa_r^4*kappa_vacuum^2*e^(I*K_vacuum*a - I*sqrt(-k_z^2 + kappa_vacuum^2)*a)/((c*epsilon_r*k_z^2*sqrt(mu_r) - c*epsilon_r*kappa_r^2*sqrt(mu_r) - 4*I*pi*sqrt(epsilon_r)*kappa_r*mu_r*sigma_r)*(k_z^2 - kappa_vacuum^2)*K_left_conductor*K_right_conductor*mu_r*omega^2) - 4*I*pi*sqrt(-k_z^2 + kappa_l^2)*sqrt(-k_z^2 + kappa_vacuum^2)*c^2*epsilon_l*k_z^4*kappa_l*kappa_vacuum^2*sigma_l*e^(I*K_vacuum*a - I*sqrt(-k_z^2 + kappa_vacuum^2)*a)/((c*epsilon_l*k_z^2*sqrt(mu_l) - c*epsilon_l*kappa_l^2*sqrt(mu_l) - 4*I*pi*sqrt(epsilon_l)*kappa_l*mu_l*sigma_l)*(k_z^2 - kappa_vacuum^2)*K_left_conductor*K_right_conductor*sqrt(mu_l)*omega^2) + 8*I*pi*sqrt(-k_z^2 + kappa_l^2)*sqrt(-k_z^2 + kappa_vacuum^2)*c^2*epsilon_l*k_z^2*kappa_l^3*kappa_vacuum^2*sigma_l*e^(I*K_vacuum*a - I*sqrt(-k_z^2 + kappa_vacuum^2)*a)/((c*epsilon_l*k_z^2*sqrt(mu_l) - c*epsilon_l*kappa_l^2*sqrt(mu_l) - 4*I*pi*sqrt(epsilon_l)*kappa_l*mu_l*sigma_l)*(k_z^2 - kappa_vacuum^2)*K_left_conductor*K_right_conductor*sqrt(mu_l)*omega^2) + 4*I*pi*sqrt(-k_z^2 + kappa_l^2)*sqrt(-k_z^2 + kappa_vacuum^2)*c^2*epsilon_l*k_z^2*kappa_l*kappa_r^2*kappa_vacuum^2*sigma_l*e^(I*K_vacuum*a - I*sqrt(-k_z^2 + kappa_vacuum^2)*a)/((c*epsilon_l*k_z^2*sqrt(mu_l) - c*epsilon_l*kappa_l^2*sqrt(mu_l) - 4*I*pi*sqrt(epsilon_l)*kappa_l*mu_l*sigma_l)*(k_z^2 - kappa_vacuum^2)*K_left_conductor*K_right_conductor*sqrt(mu_l)*omega^2) - 8*I*pi*sqrt(-k_z^2 + kappa_l^2)*sqrt(-k_z^2 + kappa_vacuum^2)*c^2*epsilon_l*kappa_l^3*kappa_r^2*kappa_vacuum^2*sigma_l*e^(I*K_vacuum*a - I*sqrt(-k_z^2 + kappa_vacuum^2)*a)/((c*epsilon_l*k_z^2*sqrt(mu_l) - c*epsilon_l*kappa_l^2*sqrt(mu_l) - 4*I*pi*sqrt(epsilon_l)*kappa_l*mu_l*sigma_l)*(k_z^2 - kappa_vacuum^2)*K_left_conductor*K_right_conductor*sqrt(mu_l)*omega^2) + 4*I*pi*sqrt(-k_z^2 + kappa_r^2)*sqrt(-k_z^2 + kappa_vacuum^2)*c^2*epsilon_r^(3/2)*k_z^2*kappa_l*kappa_r^2*kappa_vacuum^2*sqrt(mu_l)*sigma_l*e^(I*K_vacuum*a - I*sqrt(-k_z^2 + kappa_vacuum^2)*a)/((c*epsilon_r*k_z^2*sqrt(mu_r) - c*epsilon_r*kappa_r^2*sqrt(mu_r) - 4*I*pi*sqrt(epsilon_r)*kappa_r*mu_r*sigma_r)*(k_z^2 - kappa_vacuum^2)*K_left_conductor*K_right_conductor*sqrt(epsilon_l)*mu_r*omega^2) - 4*I*pi*sqrt(-k_z^2 + kappa_r^2)*sqrt(-k_z^2 + kappa_vacuum^2)*c^2*epsilon_r^(3/2)*kappa_l*kappa_r^4*kappa_vacuum^2*sqrt(mu_l)*sigma_l*e^(I*K_vacuum*a - I*sqrt(-k_z^2 + kappa_vacuum^2)*a)/((c*epsilon_r*k_z^2*sqrt(mu_r) - c*epsilon_r*kappa_r^2*sqrt(mu_r) - 4*I*pi*sqrt(epsilon_r)*kappa_r*mu_r*sigma_r)*(k_z^2 - kappa_vacuum^2)*K_left_conductor*K_right_conductor*sqrt(epsilon_l)*mu_r*omega^2) - 16*pi^2*sqrt(-k_z^2 + kappa_l^2)*sqrt(-k_z^2 + kappa_vacuum^2)*c*sqrt(epsilon_l)*k_z^2*kappa_l^2*kappa_vacuum^2*sigma_l^2*e^(I*K_vacuum*a - I*sqrt(-k_z^2 + kappa_vacuum^2)*a)/((c*epsilon_l*k_z^2*sqrt(mu_l) - c*epsilon_l*kappa_l^2*sqrt(mu_l) - 4*I*pi*sqrt(epsilon_l)*kappa_l*mu_l*sigma_l)*(k_z^2 - kappa_vacuum^2)*K_left_conductor*K_right_conductor*omega^2) + 16*pi^2*sqrt(-k_z^2 + kappa_l^2)*sqrt(-k_z^2 + kappa_vacuum^2)*c*sqrt(epsilon_l)*kappa_l^2*kappa_r^2*kappa_vacuum^2*sigma_l^2*e^(I*K_vacuum*a - I*sqrt(-k_z^2 + kappa_vacuum^2)*a)/((c*epsilon_l*k_z^2*sqrt(mu_l) - c*epsilon_l*kappa_l^2*sqrt(mu_l) - 4*I*pi*sqrt(epsilon_l)*kappa_l*mu_l*sigma_l)*(k_z^2 - kappa_vacuum^2)*K_left_conductor*K_right_conductor*omega^2) - 4*I*pi*sqrt(-k_z^2 + kappa_r^2)*sqrt(-k_z^2 + kappa_vacuum^2)*c^2*epsilon_r*k_z^4*kappa_r*kappa_vacuum^2*sigma_r*e^(I*K_vacuum*a - I*sqrt(-k_z^2 + kappa_vacuum^2)*a)/((c*epsilon_r*k_z^2*sqrt(mu_r) - c*epsilon_r*kappa_r^2*sqrt(mu_r) - 4*I*pi*sqrt(epsilon_r)*kappa_r*mu_r*sigma_r)*(k_z^2 - kappa_vacuum^2)*K_left_conductor*K_right_conductor*sqrt(mu_r)*omega^2) + 4*I*pi*sqrt(-k_z^2 + kappa_r^2)*sqrt(-k_z^2 + kappa_vacuum^2)*c^2*epsilon_r*k_z^2*kappa_l^2*kappa_r*kappa_vacuum^2*sigma_r*e^(I*K_vacuum*a - I*sqrt(-k_z^2 + kappa_vacuum^2)*a)/((c*epsilon_r*k_z^2*sqrt(mu_r) - c*epsilon_r*kappa_r^2*sqrt(mu_r) - 4*I*pi*sqrt(epsilon_r)*kappa_r*mu_r*sigma_r)*(k_z^2 - kappa_vacuum^2)*K_left_conductor*K_right_conductor*sqrt(mu_r)*omega^2) + 8*I*pi*sqrt(-k_z^2 + kappa_r^2)*sqrt(-k_z^2 + kappa_vacuum^2)*c^2*epsilon_r*k_z^2*kappa_r^3*kappa_vacuum^2*sigma_r*e^(I*K_vacuum*a - I*sqrt(-k_z^2 + kappa_vacuum^2)*a)/((c*epsilon_r*k_z^2*sqrt(mu_r) - c*epsilon_r*kappa_r^2*sqrt(mu_r) - 4*I*pi*sqrt(epsilon_r)*kappa_r*mu_r*sigma_r)*(k_z^2 - kappa_vacuum^2)*K_left_conductor*K_right_conductor*sqrt(mu_r)*omega^2) - 8*I*pi*sqrt(-k_z^2 + kappa_r^2)*sqrt(-k_z^2 + kappa_vacuum^2)*c^2*epsilon_r*kappa_l^2*kappa_r^3*kappa_vacuum^2*sigma_r*e^(I*K_vacuum*a - I*sqrt(-k_z^2 + kappa_vacuum^2)*a)/((c*epsilon_r*k_z^2*sqrt(mu_r) - c*epsilon_r*kappa_r^2*sqrt(mu_r) - 4*I*pi*sqrt(epsilon_r)*kappa_r*mu_r*sigma_r)*(k_z^2 - kappa_vacuum^2)*K_left_conductor*K_right_conductor*sqrt(mu_r)*omega^2) + 4*I*pi*sqrt(-k_z^2 + kappa_l^2)*sqrt(-k_z^2 + kappa_vacuum^2)*c^2*epsilon_l^(3/2)*k_z^2*kappa_l^2*kappa_r*kappa_vacuum^2*sqrt(mu_r)*sigma_r*e^(I*K_vacuum*a - I*sqrt(-k_z^2 + kappa_vacuum^2)*a)/((c*epsilon_l*k_z^2*sqrt(mu_l) - c*epsilon_l*kappa_l^2*sqrt(mu_l) - 4*I*pi*sqrt(epsilon_l)*kappa_l*mu_l*sigma_l)*(k_z^2 - kappa_vacuum^2)*K_left_conductor*K_right_conductor*sqrt(epsilon_r)*mu_l*omega^2) - 4*I*pi*sqrt(-k_z^2 + kappa_l^2)*sqrt(-k_z^2 + kappa_vacuum^2)*c^2*epsilon_l^(3/2)*kappa_l^4*kappa_r*kappa_vacuum^2*sqrt(mu_r)*sigma_r*e^(I*K_vacuum*a - I*sqrt(-k_z^2 + kappa_vacuum^2)*a)/((c*epsilon_l*k_z^2*sqrt(mu_l) - c*epsilon_l*kappa_l^2*sqrt(mu_l) - 4*I*pi*sqrt(epsilon_l)*kappa_l*mu_l*sigma_l)*(k_z^2 - kappa_vacuum^2)*K_left_conductor*K_right_conductor*sqrt(epsilon_r)*mu_l*omega^2) - 16*pi^2*sqrt(-k_z^2 + kappa_r^2)*sqrt(-k_z^2 + kappa_vacuum^2)*c*epsilon_r*k_z^2*kappa_l*kappa_r*kappa_vacuum^2*sqrt(mu_l)*sigma_l*sigma_r*e^(I*K_vacuum*a - I*sqrt(-k_z^2 + kappa_vacuum^2)*a)/((c*epsilon_r*k_z^2*sqrt(mu_r) - c*epsilon_r*kappa_r^2*sqrt(mu_r) - 4*I*pi*sqrt(epsilon_r)*kappa_r*mu_r*sigma_r)*(k_z^2 - kappa_vacuum^2)*K_left_conductor*K_right_conductor*sqrt(epsilon_l)*sqrt(mu_r)*omega^2) + 32*pi^2*sqrt(-k_z^2 + kappa_r^2)*sqrt(-k_z^2 + kappa_vacuum^2)*c*epsilon_r*kappa_l*kappa_r^3*kappa_vacuum^2*sqrt(mu_l)*sigma_l*sigma_r*e^(I*K_vacuum*a - I*sqrt(-k_z^2 + kappa_vacuum^2)*a)/((c*epsilon_r*k_z^2*sqrt(mu_r) - c*epsilon_r*kappa_r^2*sqrt(mu_r) - 4*I*pi*sqrt(epsilon_r)*kappa_r*mu_r*sigma_r)*(k_z^2 - kappa_vacuum^2)*K_left_conductor*K_right_conductor*sqrt(epsilon_l)*sqrt(mu_r)*omega^2) - 16*pi^2*sqrt(-k_z^2 + kappa_l^2)*sqrt(-k_z^2 + kappa_vacuum^2)*c*epsilon_l*k_z^2*kappa_l*kappa_r*kappa_vacuum^2*sqrt(mu_r)*sigma_l*sigma_r*e^(I*K_vacuum*a - I*sqrt(-k_z^2 + kappa_vacuum^2)*a)/((c*epsilon_l*k_z^2*sqrt(mu_l) - c*epsilon_l*kappa_l^2*sqrt(mu_l) - 4*I*pi*sqrt(epsilon_l)*kappa_l*mu_l*sigma_l)*(k_z^2 - kappa_vacuum^2)*K_left_conductor*K_right_conductor*sqrt(epsilon_r)*sqrt(mu_l)*omega^2) + 32*pi^2*sqrt(-k_z^2 + kappa_l^2)*sqrt(-k_z^2 + kappa_vacuum^2)*c*epsilon_l*kappa_l^3*kappa_r*kappa_vacuum^2*sqrt(mu_r)*sigma_l*sigma_r*e^(I*K_vacuum*a - I*sqrt(-k_z^2 + kappa_vacuum^2)*a)/((c*epsilon_l*k_z^2*sqrt(mu_l) - c*epsilon_l*kappa_l^2*sqrt(mu_l) - 4*I*pi*sqrt(epsilon_l)*kappa_l*mu_l*sigma_l)*(k_z^2 - kappa_vacuum^2)*K_left_conductor*K_right_conductor*sqrt(epsilon_r)*sqrt(mu_l)*omega^2) + 64*I*pi^3*sqrt(-k_z^2 + kappa_l^2)*sqrt(-k_z^2 + kappa_vacuum^2)*sqrt(epsilon_l)*kappa_l^2*kappa_r*kappa_vacuum^2*sqrt(mu_r)*sigma_l^2*sigma_r*e^(I*K_vacuum*a - I*sqrt(-k_z^2 + kappa_vacuum^2)*a)/((c*epsilon_l*k_z^2*sqrt(mu_l) - c*epsilon_l*kappa_l^2*sqrt(mu_l) - 4*I*pi*sqrt(epsilon_l)*kappa_l*mu_l*sigma_l)*(k_z^2 - kappa_vacuum^2)*K_left_conductor*K_right_conductor*sqrt(epsilon_r)*omega^2) - 16*pi^2*sqrt(-k_z^2 + kappa_r^2)*sqrt(-k_z^2 + kappa_vacuum^2)*c*sqrt(epsilon_r)*k_z^2*kappa_r^2*kappa_vacuum^2*sigma_r^2*e^(I*K_vacuum*a - I*sqrt(-k_z^2 + kappa_vacuum^2)*a)/((c*epsilon_r*k_z^2*sqrt(mu_r) - c*epsilon_r*kappa_r^2*sqrt(mu_r) - 4*I*pi*sqrt(epsilon_r)*kappa_r*mu_r*sigma_r)*(k_z^2 - kappa_vacuum^2)*K_left_conductor*K_right_conductor*omega^2) + 16*pi^2*sqrt(-k_z^2 + kappa_r^2)*sqrt(-k_z^2 + kappa_vacuum^2)*c*sqrt(epsilon_r)*kappa_l^2*kappa_r^2*kappa_vacuum^2*sigma_r^2*e^(I*K_vacuum*a - I*sqrt(-k_z^2 + kappa_vacuum^2)*a)/((c*epsilon_r*k_z^2*sqrt(mu_r) - c*epsilon_r*kappa_r^2*sqrt(mu_r) - 4*I*pi*sqrt(epsilon_r)*kappa_r*mu_r*sigma_r)*(k_z^2 - kappa_vacuum^2)*K_left_conductor*K_right_conductor*omega^2) + 64*I*pi^3*sqrt(-k_z^2 + kappa_r^2)*sqrt(-k_z^2 + kappa_vacuum^2)*sqrt(epsilon_r)*kappa_l*kappa_r^2*kappa_vacuum^2*sqrt(mu_l)*sigma_l*sigma_r^2*e^(I*K_vacuum*a - I*sqrt(-k_z^2 + kappa_vacuum^2)*a)/((c*epsilon_r*k_z^2*sqrt(mu_r) - c*epsilon_r*kappa_r^2*sqrt(mu_r) - 4*I*pi*sqrt(epsilon_r)*kappa_r*mu_r*sigma_r)*(k_z^2 - kappa_vacuum^2)*K_left_conductor*K_right_conductor*sqrt(epsilon_l)*omega^2) + sqrt(-k_z^2 + kappa_l^2)*sqrt(-k_z^2 + kappa_vacuum^2)*c^3*epsilon_l^(3/2)*k_z^4*kappa_l^2*kappa_vacuum^2*e^(-I*K_vacuum*a + I*sqrt(-k_z^2 + kappa_vacuum^2)*a)/((c*epsilon_l*k_z^2*sqrt(mu_l) - c*epsilon_l*kappa_l^2*sqrt(mu_l) - 4*I*pi*sqrt(epsilon_l)*kappa_l*mu_l*sigma_l)*(k_z^2 - kappa_vacuum^2)*K_left_conductor*K_right_conductor*mu_l*omega^2) - sqrt(-k_z^2 + kappa_l^2)*sqrt(-k_z^2 + kappa_vacuum^2)*c^3*epsilon_l^(3/2)*k_z^2*kappa_l^4*kappa_vacuum^2*e^(-I*K_vacuum*a + I*sqrt(-k_z^2 + kappa_vacuum^2)*a)/((c*epsilon_l*k_z^2*sqrt(mu_l) - c*epsilon_l*kappa_l^2*sqrt(mu_l) - 4*I*pi*sqrt(epsilon_l)*kappa_l*mu_l*sigma_l)*(k_z^2 - kappa_vacuum^2)*K_left_conductor*K_right_conductor*mu_l*omega^2) - sqrt(-k_z^2 + kappa_l^2)*sqrt(-k_z^2 + kappa_vacuum^2)*c^3*epsilon_l^(3/2)*k_z^2*kappa_l^2*kappa_r^2*kappa_vacuum^2*e^(-I*K_vacuum*a + I*sqrt(-k_z^2 + kappa_vacuum^2)*a)/((c*epsilon_l*k_z^2*sqrt(mu_l) - c*epsilon_l*kappa_l^2*sqrt(mu_l) - 4*I*pi*sqrt(epsilon_l)*kappa_l*mu_l*sigma_l)*(k_z^2 - kappa_vacuum^2)*K_left_conductor*K_right_conductor*mu_l*omega^2) + sqrt(-k_z^2 + kappa_l^2)*sqrt(-k_z^2 + kappa_vacuum^2)*c^3*epsilon_l^(3/2)*kappa_l^4*kappa_r^2*kappa_vacuum^2*e^(-I*K_vacuum*a + I*sqrt(-k_z^2 + kappa_vacuum^2)*a)/((c*epsilon_l*k_z^2*sqrt(mu_l) - c*epsilon_l*kappa_l^2*sqrt(mu_l) - 4*I*pi*sqrt(epsilon_l)*kappa_l*mu_l*sigma_l)*(k_z^2 - kappa_vacuum^2)*K_left_conductor*K_right_conductor*mu_l*omega^2) + sqrt(-k_z^2 + kappa_r^2)*sqrt(-k_z^2 + kappa_vacuum^2)*c^3*epsilon_r^(3/2)*k_z^4*kappa_r^2*kappa_vacuum^2*e^(-I*K_vacuum*a + I*sqrt(-k_z^2 + kappa_vacuum^2)*a)/((c*epsilon_r*k_z^2*sqrt(mu_r) - c*epsilon_r*kappa_r^2*sqrt(mu_r) - 4*I*pi*sqrt(epsilon_r)*kappa_r*mu_r*sigma_r)*(k_z^2 - kappa_vacuum^2)*K_left_conductor*K_right_conductor*mu_r*omega^2) - sqrt(-k_z^2 + kappa_r^2)*sqrt(-k_z^2 + kappa_vacuum^2)*c^3*epsilon_r^(3/2)*k_z^2*kappa_l^2*kappa_r^2*kappa_vacuum^2*e^(-I*K_vacuum*a + I*sqrt(-k_z^2 + kappa_vacuum^2)*a)/((c*epsilon_r*k_z^2*sqrt(mu_r) - c*epsilon_r*kappa_r^2*sqrt(mu_r) - 4*I*pi*sqrt(epsilon_r)*kappa_r*mu_r*sigma_r)*(k_z^2 - kappa_vacuum^2)*K_left_conductor*K_right_conductor*mu_r*omega^2) - sqrt(-k_z^2 + kappa_r^2)*sqrt(-k_z^2 + kappa_vacuum^2)*c^3*epsilon_r^(3/2)*k_z^2*kappa_r^4*kappa_vacuum^2*e^(-I*K_vacuum*a + I*sqrt(-k_z^2 + kappa_vacuum^2)*a)/((c*epsilon_r*k_z^2*sqrt(mu_r) - c*epsilon_r*kappa_r^2*sqrt(mu_r) - 4*I*pi*sqrt(epsilon_r)*kappa_r*mu_r*sigma_r)*(k_z^2 - kappa_vacuum^2)*K_left_conductor*K_right_conductor*mu_r*omega^2) + sqrt(-k_z^2 + kappa_r^2)*sqrt(-k_z^2 + kappa_vacuum^2)*c^3*epsilon_r^(3/2)*kappa_l^2*kappa_r^4*kappa_vacuum^2*e^(-I*K_vacuum*a + I*sqrt(-k_z^2 + kappa_vacuum^2)*a)/((c*epsilon_r*k_z^2*sqrt(mu_r) - c*epsilon_r*kappa_r^2*sqrt(mu_r) - 4*I*pi*sqrt(epsilon_r)*kappa_r*mu_r*sigma_r)*(k_z^2 - kappa_vacuum^2)*K_left_conductor*K_right_conductor*mu_r*omega^2) + 4*I*pi*sqrt(-k_z^2 + kappa_l^2)*sqrt(-k_z^2 + kappa_vacuum^2)*c^2*epsilon_l*k_z^4*kappa_l*kappa_vacuum^2*sigma_l*e^(-I*K_vacuum*a + I*sqrt(-k_z^2 + kappa_vacuum^2)*a)/((c*epsilon_l*k_z^2*sqrt(mu_l) - c*epsilon_l*kappa_l^2*sqrt(mu_l) - 4*I*pi*sqrt(epsilon_l)*kappa_l*mu_l*sigma_l)*(k_z^2 - kappa_vacuum^2)*K_left_conductor*K_right_conductor*sqrt(mu_l)*omega^2) - 8*I*pi*sqrt(-k_z^2 + kappa_l^2)*sqrt(-k_z^2 + kappa_vacuum^2)*c^2*epsilon_l*k_z^2*kappa_l^3*kappa_vacuum^2*sigma_l*e^(-I*K_vacuum*a + I*sqrt(-k_z^2 + kappa_vacuum^2)*a)/((c*epsilon_l*k_z^2*sqrt(mu_l) - c*epsilon_l*kappa_l^2*sqrt(mu_l) - 4*I*pi*sqrt(epsilon_l)*kappa_l*mu_l*sigma_l)*(k_z^2 - kappa_vacuum^2)*K_left_conductor*K_right_conductor*sqrt(mu_l)*omega^2) - 4*I*pi*sqrt(-k_z^2 + kappa_l^2)*sqrt(-k_z^2 + kappa_vacuum^2)*c^2*epsilon_l*k_z^2*kappa_l*kappa_r^2*kappa_vacuum^2*sigma_l*e^(-I*K_vacuum*a + I*sqrt(-k_z^2 + kappa_vacuum^2)*a)/((c*epsilon_l*k_z^2*sqrt(mu_l) - c*epsilon_l*kappa_l^2*sqrt(mu_l) - 4*I*pi*sqrt(epsilon_l)*kappa_l*mu_l*sigma_l)*(k_z^2 - kappa_vacuum^2)*K_left_conductor*K_right_conductor*sqrt(mu_l)*omega^2) + 8*I*pi*sqrt(-k_z^2 + kappa_l^2)*sqrt(-k_z^2 + kappa_vacuum^2)*c^2*epsilon_l*kappa_l^3*kappa_r^2*kappa_vacuum^2*sigma_l*e^(-I*K_vacuum*a + I*sqrt(-k_z^2 + kappa_vacuum^2)*a)/((c*epsilon_l*k_z^2*sqrt(mu_l) - c*epsilon_l*kappa_l^2*sqrt(mu_l) - 4*I*pi*sqrt(epsilon_l)*kappa_l*mu_l*sigma_l)*(k_z^2 - kappa_vacuum^2)*K_left_conductor*K_right_conductor*sqrt(mu_l)*omega^2) - 4*I*pi*sqrt(-k_z^2 + kappa_r^2)*sqrt(-k_z^2 + kappa_vacuum^2)*c^2*epsilon_r^(3/2)*k_z^2*kappa_l*kappa_r^2*kappa_vacuum^2*sqrt(mu_l)*sigma_l*e^(-I*K_vacuum*a + I*sqrt(-k_z^2 + kappa_vacuum^2)*a)/((c*epsilon_r*k_z^2*sqrt(mu_r) - c*epsilon_r*kappa_r^2*sqrt(mu_r) - 4*I*pi*sqrt(epsilon_r)*kappa_r*mu_r*sigma_r)*(k_z^2 - kappa_vacuum^2)*K_left_conductor*K_right_conductor*sqrt(epsilon_l)*mu_r*omega^2) + 4*I*pi*sqrt(-k_z^2 + kappa_r^2)*sqrt(-k_z^2 + kappa_vacuum^2)*c^2*epsilon_r^(3/2)*kappa_l*kappa_r^4*kappa_vacuum^2*sqrt(mu_l)*sigma_l*e^(-I*K_vacuum*a + I*sqrt(-k_z^2 + kappa_vacuum^2)*a)/((c*epsilon_r*k_z^2*sqrt(mu_r) - c*epsilon_r*kappa_r^2*sqrt(mu_r) - 4*I*pi*sqrt(epsilon_r)*kappa_r*mu_r*sigma_r)*(k_z^2 - kappa_vacuum^2)*K_left_conductor*K_right_conductor*sqrt(epsilon_l)*mu_r*omega^2) + 16*pi^2*sqrt(-k_z^2 + kappa_l^2)*sqrt(-k_z^2 + kappa_vacuum^2)*c*sqrt(epsilon_l)*k_z^2*kappa_l^2*kappa_vacuum^2*sigma_l^2*e^(-I*K_vacuum*a + I*sqrt(-k_z^2 + kappa_vacuum^2)*a)/((c*epsilon_l*k_z^2*sqrt(mu_l) - c*epsilon_l*kappa_l^2*sqrt(mu_l) - 4*I*pi*sqrt(epsilon_l)*kappa_l*mu_l*sigma_l)*(k_z^2 - kappa_vacuum^2)*K_left_conductor*K_right_conductor*omega^2) - 16*pi^2*sqrt(-k_z^2 + kappa_l^2)*sqrt(-k_z^2 + kappa_vacuum^2)*c*sqrt(epsilon_l)*kappa_l^2*kappa_r^2*kappa_vacuum^2*sigma_l^2*e^(-I*K_vacuum*a + I*sqrt(-k_z^2 + kappa_vacuum^2)*a)/((c*epsilon_l*k_z^2*sqrt(mu_l) - c*epsilon_l*kappa_l^2*sqrt(mu_l) - 4*I*pi*sqrt(epsilon_l)*kappa_l*mu_l*sigma_l)*(k_z^2 - kappa_vacuum^2)*K_left_conductor*K_right_conductor*omega^2) + 4*I*pi*sqrt(-k_z^2 + kappa_r^2)*sqrt(-k_z^2 + kappa_vacuum^2)*c^2*epsilon_r*k_z^4*kappa_r*kappa_vacuum^2*sigma_r*e^(-I*K_vacuum*a + I*sqrt(-k_z^2 + kappa_vacuum^2)*a)/((c*epsilon_r*k_z^2*sqrt(mu_r) - c*epsilon_r*kappa_r^2*sqrt(mu_r) - 4*I*pi*sqrt(epsilon_r)*kappa_r*mu_r*sigma_r)*(k_z^2 - kappa_vacuum^2)*K_left_conductor*K_right_conductor*sqrt(mu_r)*omega^2) - 4*I*pi*sqrt(-k_z^2 + kappa_r^2)*sqrt(-k_z^2 + kappa_vacuum^2)*c^2*epsilon_r*k_z^2*kappa_l^2*kappa_r*kappa_vacuum^2*sigma_r*e^(-I*K_vacuum*a + I*sqrt(-k_z^2 + kappa_vacuum^2)*a)/((c*epsilon_r*k_z^2*sqrt(mu_r) - c*epsilon_r*kappa_r^2*sqrt(mu_r) - 4*I*pi*sqrt(epsilon_r)*kappa_r*mu_r*sigma_r)*(k_z^2 - kappa_vacuum^2)*K_left_conductor*K_right_conductor*sqrt(mu_r)*omega^2) - 8*I*pi*sqrt(-k_z^2 + kappa_r^2)*sqrt(-k_z^2 + kappa_vacuum^2)*c^2*epsilon_r*k_z^2*kappa_r^3*kappa_vacuum^2*sigma_r*e^(-I*K_vacuum*a + I*sqrt(-k_z^2 + kappa_vacuum^2)*a)/((c*epsilon_r*k_z^2*sqrt(mu_r) - c*epsilon_r*kappa_r^2*sqrt(mu_r) - 4*I*pi*sqrt(epsilon_r)*kappa_r*mu_r*sigma_r)*(k_z^2 - kappa_vacuum^2)*K_left_conductor*K_right_conductor*sqrt(mu_r)*omega^2) + 8*I*pi*sqrt(-k_z^2 + kappa_r^2)*sqrt(-k_z^2 + kappa_vacuum^2)*c^2*epsilon_r*kappa_l^2*kappa_r^3*kappa_vacuum^2*sigma_r*e^(-I*K_vacuum*a + I*sqrt(-k_z^2 + kappa_vacuum^2)*a)/((c*epsilon_r*k_z^2*sqrt(mu_r) - c*epsilon_r*kappa_r^2*sqrt(mu_r) - 4*I*pi*sqrt(epsilon_r)*kappa_r*mu_r*sigma_r)*(k_z^2 - kappa_vacuum^2)*K_left_conductor*K_right_conductor*sqrt(mu_r)*omega^2) - 4*I*pi*sqrt(-k_z^2 + kappa_l^2)*sqrt(-k_z^2 + kappa_vacuum^2)*c^2*epsilon_l^(3/2)*k_z^2*kappa_l^2*kappa_r*kappa_vacuum^2*sqrt(mu_r)*sigma_r*e^(-I*K_vacuum*a + I*sqrt(-k_z^2 + kappa_vacuum^2)*a)/((c*epsilon_l*k_z^2*sqrt(mu_l) - c*epsilon_l*kappa_l^2*sqrt(mu_l) - 4*I*pi*sqrt(epsilon_l)*kappa_l*mu_l*sigma_l)*(k_z^2 - kappa_vacuum^2)*K_left_conductor*K_right_conductor*sqrt(epsilon_r)*mu_l*omega^2) + 4*I*pi*sqrt(-k_z^2 + kappa_l^2)*sqrt(-k_z^2 + kappa_vacuum^2)*c^2*epsilon_l^(3/2)*kappa_l^4*kappa_r*kappa_vacuum^2*sqrt(mu_r)*sigma_r*e^(-I*K_vacuum*a + I*sqrt(-k_z^2 + kappa_vacuum^2)*a)/((c*epsilon_l*k_z^2*sqrt(mu_l) - c*epsilon_l*kappa_l^2*sqrt(mu_l) - 4*I*pi*sqrt(epsilon_l)*kappa_l*mu_l*sigma_l)*(k_z^2 - kappa_vacuum^2)*K_left_conductor*K_right_conductor*sqrt(epsilon_r)*mu_l*omega^2) + 16*pi^2*sqrt(-k_z^2 + kappa_r^2)*sqrt(-k_z^2 + kappa_vacuum^2)*c*epsilon_r*k_z^2*kappa_l*kappa_r*kappa_vacuum^2*sqrt(mu_l)*sigma_l*sigma_r*e^(-I*K_vacuum*a + I*sqrt(-k_z^2 + kappa_vacuum^2)*a)/((c*epsilon_r*k_z^2*sqrt(mu_r) - c*epsilon_r*kappa_r^2*sqrt(mu_r) - 4*I*pi*sqrt(epsilon_r)*kappa_r*mu_r*sigma_r)*(k_z^2 - kappa_vacuum^2)*K_left_conductor*K_right_conductor*sqrt(epsilon_l)*sqrt(mu_r)*omega^2) - 32*pi^2*sqrt(-k_z^2 + kappa_r^2)*sqrt(-k_z^2 + kappa_vacuum^2)*c*epsilon_r*kappa_l*kappa_r^3*kappa_vacuum^2*sqrt(mu_l)*sigma_l*sigma_r*e^(-I*K_vacuum*a + I*sqrt(-k_z^2 + kappa_vacuum^2)*a)/((c*epsilon_r*k_z^2*sqrt(mu_r) - c*epsilon_r*kappa_r^2*sqrt(mu_r) - 4*I*pi*sqrt(epsilon_r)*kappa_r*mu_r*sigma_r)*(k_z^2 - kappa_vacuum^2)*K_left_conductor*K_right_conductor*sqrt(epsilon_l)*sqrt(mu_r)*omega^2) + 16*pi^2*sqrt(-k_z^2 + kappa_l^2)*sqrt(-k_z^2 + kappa_vacuum^2)*c*epsilon_l*k_z^2*kappa_l*kappa_r*kappa_vacuum^2*sqrt(mu_r)*sigma_l*sigma_r*e^(-I*K_vacuum*a + I*sqrt(-k_z^2 + kappa_vacuum^2)*a)/((c*epsilon_l*k_z^2*sqrt(mu_l) - c*epsilon_l*kappa_l^2*sqrt(mu_l) - 4*I*pi*sqrt(epsilon_l)*kappa_l*mu_l*sigma_l)*(k_z^2 - kappa_vacuum^2)*K_left_conductor*K_right_conductor*sqrt(epsilon_r)*sqrt(mu_l)*omega^2) - 32*pi^2*sqrt(-k_z^2 + kappa_l^2)*sqrt(-k_z^2 + kappa_vacuum^2)*c*epsilon_l*kappa_l^3*kappa_r*kappa_vacuum^2*sqrt(mu_r)*sigma_l*sigma_r*e^(-I*K_vacuum*a + I*sqrt(-k_z^2 + kappa_vacuum^2)*a)/((c*epsilon_l*k_z^2*sqrt(mu_l) - c*epsilon_l*kappa_l^2*sqrt(mu_l) - 4*I*pi*sqrt(epsilon_l)*kappa_l*mu_l*sigma_l)*(k_z^2 - kappa_vacuum^2)*K_left_conductor*K_right_conductor*sqrt(epsilon_r)*sqrt(mu_l)*omega^2) - 64*I*pi^3*sqrt(-k_z^2 + kappa_l^2)*sqrt(-k_z^2 + kappa_vacuum^2)*sqrt(epsilon_l)*kappa_l^2*kappa_r*kappa_vacuum^2*sqrt(mu_r)*sigma_l^2*sigma_r*e^(-I*K_vacuum*a + I*sqrt(-k_z^2 + kappa_vacuum^2)*a)/((c*epsilon_l*k_z^2*sqrt(mu_l) - c*epsilon_l*kappa_l^2*sqrt(mu_l) - 4*I*pi*sqrt(epsilon_l)*kappa_l*mu_l*sigma_l)*(k_z^2 - kappa_vacuum^2)*K_left_conductor*K_right_conductor*sqrt(epsilon_r)*omega^2) + 16*pi^2*sqrt(-k_z^2 + kappa_r^2)*sqrt(-k_z^2 + kappa_vacuum^2)*c*sqrt(epsilon_r)*k_z^2*kappa_r^2*kappa_vacuum^2*sigma_r^2*e^(-I*K_vacuum*a + I*sqrt(-k_z^2 + kappa_vacuum^2)*a)/((c*epsilon_r*k_z^2*sqrt(mu_r) - c*epsilon_r*kappa_r^2*sqrt(mu_r) - 4*I*pi*sqrt(epsilon_r)*kappa_r*mu_r*sigma_r)*(k_z^2 - kappa_vacuum^2)*K_left_conductor*K_right_conductor*omega^2) - 16*pi^2*sqrt(-k_z^2 + kappa_r^2)*sqrt(-k_z^2 + kappa_vacuum^2)*c*sqrt(epsilon_r)*kappa_l^2*kappa_r^2*kappa_vacuum^2*sigma_r^2*e^(-I*K_vacuum*a + I*sqrt(-k_z^2 + kappa_vacuum^2)*a)/((c*epsilon_r*k_z^2*sqrt(mu_r) - c*epsilon_r*kappa_r^2*sqrt(mu_r) - 4*I*pi*sqrt(epsilon_r)*kappa_r*mu_r*sigma_r)*(k_z^2 - kappa_vacuum^2)*K_left_conductor*K_right_conductor*omega^2) - 64*I*pi^3*sqrt(-k_z^2 + kappa_r^2)*sqrt(-k_z^2 + kappa_vacuum^2)*sqrt(epsilon_r)*kappa_l*kappa_r^2*kappa_vacuum^2*sqrt(mu_l)*sigma_l*sigma_r^2*e^(-I*K_vacuum*a + I*sqrt(-k_z^2 + kappa_vacuum^2)*a)/((c*epsilon_r*k_z^2*sqrt(mu_r) - c*epsilon_r*kappa_r^2*sqrt(mu_r) - 4*I*pi*sqrt(epsilon_r)*kappa_r*mu_r*sigma_r)*(k_z^2 - kappa_vacuum^2)*K_left_conductor*K_right_conductor*sqrt(epsilon_l)*omega^2) + sqrt(-k_z^2 + kappa_l^2)*sqrt(-k_z^2 + kappa_vacuum^2)*c^3*epsilon_l^(3/2)*k_z^4*kappa_l^2*kappa_vacuum^2*e^(-3*I*K_vacuum*a - I*sqrt(-k_z^2 + kappa_vacuum^2)*a)/((c*epsilon_l*k_z^2*sqrt(mu_l) - c*epsilon_l*kappa_l^2*sqrt(mu_l) - 4*I*pi*sqrt(epsilon_l)*kappa_l*mu_l*sigma_l)*(k_z^2 - kappa_vacuum^2)*K_left_conductor*K_right_conductor*mu_l*omega^2) - sqrt(-k_z^2 + kappa_l^2)*sqrt(-k_z^2 + kappa_vacuum^2)*c^3*epsilon_l^(3/2)*k_z^2*kappa_l^4*kappa_vacuum^2*e^(-3*I*K_vacuum*a - I*sqrt(-k_z^2 + kappa_vacuum^2)*a)/((c*epsilon_l*k_z^2*sqrt(mu_l) - c*epsilon_l*kappa_l^2*sqrt(mu_l) - 4*I*pi*sqrt(epsilon_l)*kappa_l*mu_l*sigma_l)*(k_z^2 - kappa_vacuum^2)*K_left_conductor*K_right_conductor*mu_l*omega^2) - sqrt(-k_z^2 + kappa_l^2)*sqrt(-k_z^2 + kappa_vacuum^2)*c^3*epsilon_l^(3/2)*k_z^2*kappa_l^2*kappa_r^2*kappa_vacuum^2*e^(-3*I*K_vacuum*a - I*sqrt(-k_z^2 + kappa_vacuum^2)*a)/((c*epsilon_l*k_z^2*sqrt(mu_l) - c*epsilon_l*kappa_l^2*sqrt(mu_l) - 4*I*pi*sqrt(epsilon_l)*kappa_l*mu_l*sigma_l)*(k_z^2 - kappa_vacuum^2)*K_left_conductor*K_right_conductor*mu_l*omega^2) + sqrt(-k_z^2 + kappa_l^2)*sqrt(-k_z^2 + kappa_vacuum^2)*c^3*epsilon_l^(3/2)*kappa_l^4*kappa_r^2*kappa_vacuum^2*e^(-3*I*K_vacuum*a - I*sqrt(-k_z^2 + kappa_vacuum^2)*a)/((c*epsilon_l*k_z^2*sqrt(mu_l) - c*epsilon_l*kappa_l^2*sqrt(mu_l) - 4*I*pi*sqrt(epsilon_l)*kappa_l*mu_l*sigma_l)*(k_z^2 - kappa_vacuum^2)*K_left_conductor*K_right_conductor*mu_l*omega^2) + sqrt(-k_z^2 + kappa_r^2)*sqrt(-k_z^2 + kappa_vacuum^2)*c^3*epsilon_r^(3/2)*k_z^4*kappa_r^2*kappa_vacuum^2*e^(-3*I*K_vacuum*a - I*sqrt(-k_z^2 + kappa_vacuum^2)*a)/((c*epsilon_r*k_z^2*sqrt(mu_r) - c*epsilon_r*kappa_r^2*sqrt(mu_r) - 4*I*pi*sqrt(epsilon_r)*kappa_r*mu_r*sigma_r)*(k_z^2 - kappa_vacuum^2)*K_left_conductor*K_right_conductor*mu_r*omega^2) - sqrt(-k_z^2 + kappa_r^2)*sqrt(-k_z^2 + kappa_vacuum^2)*c^3*epsilon_r^(3/2)*k_z^2*kappa_l^2*kappa_r^2*kappa_vacuum^2*e^(-3*I*K_vacuum*a - I*sqrt(-k_z^2 + kappa_vacuum^2)*a)/((c*epsilon_r*k_z^2*sqrt(mu_r) - c*epsilon_r*kappa_r^2*sqrt(mu_r) - 4*I*pi*sqrt(epsilon_r)*kappa_r*mu_r*sigma_r)*(k_z^2 - kappa_vacuum^2)*K_left_conductor*K_right_conductor*mu_r*omega^2) - sqrt(-k_z^2 + kappa_r^2)*sqrt(-k_z^2 + kappa_vacuum^2)*c^3*epsilon_r^(3/2)*k_z^2*kappa_r^4*kappa_vacuum^2*e^(-3*I*K_vacuum*a - I*sqrt(-k_z^2 + kappa_vacuum^2)*a)/((c*epsilon_r*k_z^2*sqrt(mu_r) - c*epsilon_r*kappa_r^2*sqrt(mu_r) - 4*I*pi*sqrt(epsilon_r)*kappa_r*mu_r*sigma_r)*(k_z^2 - kappa_vacuum^2)*K_left_conductor*K_right_conductor*mu_r*omega^2) + sqrt(-k_z^2 + kappa_r^2)*sqrt(-k_z^2 + kappa_vacuum^2)*c^3*epsilon_r^(3/2)*kappa_l^2*kappa_r^4*kappa_vacuum^2*e^(-3*I*K_vacuum*a - I*sqrt(-k_z^2 + kappa_vacuum^2)*a)/((c*epsilon_r*k_z^2*sqrt(mu_r) - c*epsilon_r*kappa_r^2*sqrt(mu_r) - 4*I*pi*sqrt(epsilon_r)*kappa_r*mu_r*sigma_r)*(k_z^2 - kappa_vacuum^2)*K_left_conductor*K_right_conductor*mu_r*omega^2) + 4*I*pi*sqrt(-k_z^2 + kappa_l^2)*sqrt(-k_z^2 + kappa_vacuum^2)*c^2*epsilon_l*k_z^4*kappa_l*kappa_vacuum^2*sigma_l*e^(-3*I*K_vacuum*a - I*sqrt(-k_z^2 + kappa_vacuum^2)*a)/((c*epsilon_l*k_z^2*sqrt(mu_l) - c*epsilon_l*kappa_l^2*sqrt(mu_l) - 4*I*pi*sqrt(epsilon_l)*kappa_l*mu_l*sigma_l)*(k_z^2 - kappa_vacuum^2)*K_left_conductor*K_right_conductor*sqrt(mu_l)*omega^2) - 8*I*pi*sqrt(-k_z^2 + kappa_l^2)*sqrt(-k_z^2 + kappa_vacuum^2)*c^2*epsilon_l*k_z^2*kappa_l^3*kappa_vacuum^2*sigma_l*e^(-3*I*K_vacuum*a - I*sqrt(-k_z^2 + kappa_vacuum^2)*a)/((c*epsilon_l*k_z^2*sqrt(mu_l) - c*epsilon_l*kappa_l^2*sqrt(mu_l) - 4*I*pi*sqrt(epsilon_l)*kappa_l*mu_l*sigma_l)*(k_z^2 - kappa_vacuum^2)*K_left_conductor*K_right_conductor*sqrt(mu_l)*omega^2) - 4*I*pi*sqrt(-k_z^2 + kappa_l^2)*sqrt(-k_z^2 + kappa_vacuum^2)*c^2*epsilon_l*k_z^2*kappa_l*kappa_r^2*kappa_vacuum^2*sigma_l*e^(-3*I*K_vacuum*a - I*sqrt(-k_z^2 + kappa_vacuum^2)*a)/((c*epsilon_l*k_z^2*sqrt(mu_l) - c*epsilon_l*kappa_l^2*sqrt(mu_l) - 4*I*pi*sqrt(epsilon_l)*kappa_l*mu_l*sigma_l)*(k_z^2 - kappa_vacuum^2)*K_left_conductor*K_right_conductor*sqrt(mu_l)*omega^2) + 8*I*pi*sqrt(-k_z^2 + kappa_l^2)*sqrt(-k_z^2 + kappa_vacuum^2)*c^2*epsilon_l*kappa_l^3*kappa_r^2*kappa_vacuum^2*sigma_l*e^(-3*I*K_vacuum*a - I*sqrt(-k_z^2 + kappa_vacuum^2)*a)/((c*epsilon_l*k_z^2*sqrt(mu_l) - c*epsilon_l*kappa_l^2*sqrt(mu_l) - 4*I*pi*sqrt(epsilon_l)*kappa_l*mu_l*sigma_l)*(k_z^2 - kappa_vacuum^2)*K_left_conductor*K_right_conductor*sqrt(mu_l)*omega^2) - 4*I*pi*sqrt(-k_z^2 + kappa_r^2)*sqrt(-k_z^2 + kappa_vacuum^2)*c^2*epsilon_r^(3/2)*k_z^2*kappa_l*kappa_r^2*kappa_vacuum^2*sqrt(mu_l)*sigma_l*e^(-3*I*K_vacuum*a - I*sqrt(-k_z^2 + kappa_vacuum^2)*a)/((c*epsilon_r*k_z^2*sqrt(mu_r) - c*epsilon_r*kappa_r^2*sqrt(mu_r) - 4*I*pi*sqrt(epsilon_r)*kappa_r*mu_r*sigma_r)*(k_z^2 - kappa_vacuum^2)*K_left_conductor*K_right_conductor*sqrt(epsilon_l)*mu_r*omega^2) + 4*I*pi*sqrt(-k_z^2 + kappa_r^2)*sqrt(-k_z^2 + kappa_vacuum^2)*c^2*epsilon_r^(3/2)*kappa_l*kappa_r^4*kappa_vacuum^2*sqrt(mu_l)*sigma_l*e^(-3*I*K_vacuum*a - I*sqrt(-k_z^2 + kappa_vacuum^2)*a)/((c*epsilon_r*k_z^2*sqrt(mu_r) - c*epsilon_r*kappa_r^2*sqrt(mu_r) - 4*I*pi*sqrt(epsilon_r)*kappa_r*mu_r*sigma_r)*(k_z^2 - kappa_vacuum^2)*K_left_conductor*K_right_conductor*sqrt(epsilon_l)*mu_r*omega^2) + 16*pi^2*sqrt(-k_z^2 + kappa_l^2)*sqrt(-k_z^2 + kappa_vacuum^2)*c*sqrt(epsilon_l)*k_z^2*kappa_l^2*kappa_vacuum^2*sigma_l^2*e^(-3*I*K_vacuum*a - I*sqrt(-k_z^2 + kappa_vacuum^2)*a)/((c*epsilon_l*k_z^2*sqrt(mu_l) - c*epsilon_l*kappa_l^2*sqrt(mu_l) - 4*I*pi*sqrt(epsilon_l)*kappa_l*mu_l*sigma_l)*(k_z^2 - kappa_vacuum^2)*K_left_conductor*K_right_conductor*omega^2) - 16*pi^2*sqrt(-k_z^2 + kappa_l^2)*sqrt(-k_z^2 + kappa_vacuum^2)*c*sqrt(epsilon_l)*kappa_l^2*kappa_r^2*kappa_vacuum^2*sigma_l^2*e^(-3*I*K_vacuum*a - I*sqrt(-k_z^2 + kappa_vacuum^2)*a)/((c*epsilon_l*k_z^2*sqrt(mu_l) - c*epsilon_l*kappa_l^2*sqrt(mu_l) - 4*I*pi*sqrt(epsilon_l)*kappa_l*mu_l*sigma_l)*(k_z^2 - kappa_vacuum^2)*K_left_conductor*K_right_conductor*omega^2) + 4*I*pi*sqrt(-k_z^2 + kappa_r^2)*sqrt(-k_z^2 + kappa_vacuum^2)*c^2*epsilon_r*k_z^4*kappa_r*kappa_vacuum^2*sigma_r*e^(-3*I*K_vacuum*a - I*sqrt(-k_z^2 + kappa_vacuum^2)*a)/((c*epsilon_r*k_z^2*sqrt(mu_r) - c*epsilon_r*kappa_r^2*sqrt(mu_r) - 4*I*pi*sqrt(epsilon_r)*kappa_r*mu_r*sigma_r)*(k_z^2 - kappa_vacuum^2)*K_left_conductor*K_right_conductor*sqrt(mu_r)*omega^2) - 4*I*pi*sqrt(-k_z^2 + kappa_r^2)*sqrt(-k_z^2 + kappa_vacuum^2)*c^2*epsilon_r*k_z^2*kappa_l^2*kappa_r*kappa_vacuum^2*sigma_r*e^(-3*I*K_vacuum*a - I*sqrt(-k_z^2 + kappa_vacuum^2)*a)/((c*epsilon_r*k_z^2*sqrt(mu_r) - c*epsilon_r*kappa_r^2*sqrt(mu_r) - 4*I*pi*sqrt(epsilon_r)*kappa_r*mu_r*sigma_r)*(k_z^2 - kappa_vacuum^2)*K_left_conductor*K_right_conductor*sqrt(mu_r)*omega^2) - 8*I*pi*sqrt(-k_z^2 + kappa_r^2)*sqrt(-k_z^2 + kappa_vacuum^2)*c^2*epsilon_r*k_z^2*kappa_r^3*kappa_vacuum^2*sigma_r*e^(-3*I*K_vacuum*a - I*sqrt(-k_z^2 + kappa_vacuum^2)*a)/((c*epsilon_r*k_z^2*sqrt(mu_r) - c*epsilon_r*kappa_r^2*sqrt(mu_r) - 4*I*pi*sqrt(epsilon_r)*kappa_r*mu_r*sigma_r)*(k_z^2 - kappa_vacuum^2)*K_left_conductor*K_right_conductor*sqrt(mu_r)*omega^2) + 8*I*pi*sqrt(-k_z^2 + kappa_r^2)*sqrt(-k_z^2 + kappa_vacuum^2)*c^2*epsilon_r*kappa_l^2*kappa_r^3*kappa_vacuum^2*sigma_r*e^(-3*I*K_vacuum*a - I*sqrt(-k_z^2 + kappa_vacuum^2)*a)/((c*epsilon_r*k_z^2*sqrt(mu_r) - c*epsilon_r*kappa_r^2*sqrt(mu_r) - 4*I*pi*sqrt(epsilon_r)*kappa_r*mu_r*sigma_r)*(k_z^2 - kappa_vacuum^2)*K_left_conductor*K_right_conductor*sqrt(mu_r)*omega^2) - 4*I*pi*sqrt(-k_z^2 + kappa_l^2)*sqrt(-k_z^2 + kappa_vacuum^2)*c^2*epsilon_l^(3/2)*k_z^2*kappa_l^2*kappa_r*kappa_vacuum^2*sqrt(mu_r)*sigma_r*e^(-3*I*K_vacuum*a - I*sqrt(-k_z^2 + kappa_vacuum^2)*a)/((c*epsilon_l*k_z^2*sqrt(mu_l) - c*epsilon_l*kappa_l^2*sqrt(mu_l) - 4*I*pi*sqrt(epsilon_l)*kappa_l*mu_l*sigma_l)*(k_z^2 - kappa_vacuum^2)*K_left_conductor*K_right_conductor*sqrt(epsilon_r)*mu_l*omega^2) + 4*I*pi*sqrt(-k_z^2 + kappa_l^2)*sqrt(-k_z^2 + kappa_vacuum^2)*c^2*epsilon_l^(3/2)*kappa_l^4*kappa_r*kappa_vacuum^2*sqrt(mu_r)*sigma_r*e^(-3*I*K_vacuum*a - I*sqrt(-k_z^2 + kappa_vacuum^2)*a)/((c*epsilon_l*k_z^2*sqrt(mu_l) - c*epsilon_l*kappa_l^2*sqrt(mu_l) - 4*I*pi*sqrt(epsilon_l)*kappa_l*mu_l*sigma_l)*(k_z^2 - kappa_vacuum^2)*K_left_conductor*K_right_conductor*sqrt(epsilon_r)*mu_l*omega^2) + 16*pi^2*sqrt(-k_z^2 + kappa_r^2)*sqrt(-k_z^2 + kappa_vacuum^2)*c*epsilon_r*k_z^2*kappa_l*kappa_r*kappa_vacuum^2*sqrt(mu_l)*sigma_l*sigma_r*e^(-3*I*K_vacuum*a - I*sqrt(-k_z^2 + kappa_vacuum^2)*a)/((c*epsilon_r*k_z^2*sqrt(mu_r) - c*epsilon_r*kappa_r^2*sqrt(mu_r) - 4*I*pi*sqrt(epsilon_r)*kappa_r*mu_r*sigma_r)*(k_z^2 - kappa_vacuum^2)*K_left_conductor*K_right_conductor*sqrt(epsilon_l)*sqrt(mu_r)*omega^2) - 32*pi^2*sqrt(-k_z^2 + kappa_r^2)*sqrt(-k_z^2 + kappa_vacuum^2)*c*epsilon_r*kappa_l*kappa_r^3*kappa_vacuum^2*sqrt(mu_l)*sigma_l*sigma_r*e^(-3*I*K_vacuum*a - I*sqrt(-k_z^2 + kappa_vacuum^2)*a)/((c*epsilon_r*k_z^2*sqrt(mu_r) - c*epsilon_r*kappa_r^2*sqrt(mu_r) - 4*I*pi*sqrt(epsilon_r)*kappa_r*mu_r*sigma_r)*(k_z^2 - kappa_vacuum^2)*K_left_conductor*K_right_conductor*sqrt(epsilon_l)*sqrt(mu_r)*omega^2) + 16*pi^2*sqrt(-k_z^2 + kappa_l^2)*sqrt(-k_z^2 + kappa_vacuum^2)*c*epsilon_l*k_z^2*kappa_l*kappa_r*kappa_vacuum^2*sqrt(mu_r)*sigma_l*sigma_r*e^(-3*I*K_vacuum*a - I*sqrt(-k_z^2 + kappa_vacuum^2)*a)/((c*epsilon_l*k_z^2*sqrt(mu_l) - c*epsilon_l*kappa_l^2*sqrt(mu_l) - 4*I*pi*sqrt(epsilon_l)*kappa_l*mu_l*sigma_l)*(k_z^2 - kappa_vacuum^2)*K_left_conductor*K_right_conductor*sqrt(epsilon_r)*sqrt(mu_l)*omega^2) - 32*pi^2*sqrt(-k_z^2 + kappa_l^2)*sqrt(-k_z^2 + kappa_vacuum^2)*c*epsilon_l*kappa_l^3*kappa_r*kappa_vacuum^2*sqrt(mu_r)*sigma_l*sigma_r*e^(-3*I*K_vacuum*a - I*sqrt(-k_z^2 + kappa_vacuum^2)*a)/((c*epsilon_l*k_z^2*sqrt(mu_l) - c*epsilon_l*kappa_l^2*sqrt(mu_l) - 4*I*pi*sqrt(epsilon_l)*kappa_l*mu_l*sigma_l)*(k_z^2 - kappa_vacuum^2)*K_left_conductor*K_right_conductor*sqrt(epsilon_r)*sqrt(mu_l)*omega^2) - 64*I*pi^3*sqrt(-k_z^2 + kappa_l^2)*sqrt(-k_z^2 + kappa_vacuum^2)*sqrt(epsilon_l)*kappa_l^2*kappa_r*kappa_vacuum^2*sqrt(mu_r)*sigma_l^2*sigma_r*e^(-3*I*K_vacuum*a - I*sqrt(-k_z^2 + kappa_vacuum^2)*a)/((c*epsilon_l*k_z^2*sqrt(mu_l) - c*epsilon_l*kappa_l^2*sqrt(mu_l) - 4*I*pi*sqrt(epsilon_l)*kappa_l*mu_l*sigma_l)*(k_z^2 - kappa_vacuum^2)*K_left_conductor*K_right_conductor*sqrt(epsilon_r)*omega^2) + 16*pi^2*sqrt(-k_z^2 + kappa_r^2)*sqrt(-k_z^2 + kappa_vacuum^2)*c*sqrt(epsilon_r)*k_z^2*kappa_r^2*kappa_vacuum^2*sigma_r^2*e^(-3*I*K_vacuum*a - I*sqrt(-k_z^2 + kappa_vacuum^2)*a)/((c*epsilon_r*k_z^2*sqrt(mu_r) - c*epsilon_r*kappa_r^2*sqrt(mu_r) - 4*I*pi*sqrt(epsilon_r)*kappa_r*mu_r*sigma_r)*(k_z^2 - kappa_vacuum^2)*K_left_conductor*K_right_conductor*omega^2) - 16*pi^2*sqrt(-k_z^2 + kappa_r^2)*sqrt(-k_z^2 + kappa_vacuum^2)*c*sqrt(epsilon_r)*kappa_l^2*kappa_r^2*kappa_vacuum^2*sigma_r^2*e^(-3*I*K_vacuum*a - I*sqrt(-k_z^2 + kappa_vacuum^2)*a)/((c*epsilon_r*k_z^2*sqrt(mu_r) - c*epsilon_r*kappa_r^2*sqrt(mu_r) - 4*I*pi*sqrt(epsilon_r)*kappa_r*mu_r*sigma_r)*(k_z^2 - kappa_vacuum^2)*K_left_conductor*K_right_conductor*omega^2) - 64*I*pi^3*sqrt(-k_z^2 + kappa_r^2)*sqrt(-k_z^2 + kappa_vacuum^2)*sqrt(epsilon_r)*kappa_l*kappa_r^2*kappa_vacuum^2*sqrt(mu_l)*sigma_l*sigma_r^2*e^(-3*I*K_vacuum*a - I*sqrt(-k_z^2 + kappa_vacuum^2)*a)/((c*epsilon_r*k_z^2*sqrt(mu_r) - c*epsilon_r*kappa_r^2*sqrt(mu_r) - 4*I*pi*sqrt(epsilon_r)*kappa_r*mu_r*sigma_r)*(k_z^2 - kappa_vacuum^2)*K_left_conductor*K_right_conductor*sqrt(epsilon_l)*omega^2) - c^2*k_z^4*kappa_vacuum^4*e^(2*I*K_vacuum*a + 2*I*sqrt(-k_z^2 + kappa_vacuum^2)*a)/((k_z^2 - kappa_vacuum^2)*K_left_conductor*K_right_conductor*omega^2) + c^2*k_z^2*kappa_l^2*kappa_vacuum^4*e^(2*I*K_vacuum*a + 2*I*sqrt(-k_z^2 + kappa_vacuum^2)*a)/((k_z^2 - kappa_vacuum^2)*K_left_conductor*K_right_conductor*omega^2) + c^2*k_z^2*kappa_r^2*kappa_vacuum^4*e^(2*I*K_vacuum*a + 2*I*sqrt(-k_z^2 + kappa_vacuum^2)*a)/((k_z^2 - kappa_vacuum^2)*K_left_conductor*K_right_conductor*omega^2) - c^2*kappa_l^2*kappa_r^2*kappa_vacuum^4*e^(2*I*K_vacuum*a + 2*I*sqrt(-k_z^2 + kappa_vacuum^2)*a)/((k_z^2 - kappa_vacuum^2)*K_left_conductor*K_right_conductor*omega^2) + 4*I*pi*c*k_z^2*kappa_l*kappa_vacuum^4*sqrt(mu_l)*sigma_l*e^(2*I*K_vacuum*a + 2*I*sqrt(-k_z^2 + kappa_vacuum^2)*a)/((k_z^2 - kappa_vacuum^2)*K_left_conductor*K_right_conductor*sqrt(epsilon_l)*omega^2) - 4*I*pi*c*kappa_l*kappa_r^2*kappa_vacuum^4*sqrt(mu_l)*sigma_l*e^(2*I*K_vacuum*a + 2*I*sqrt(-k_z^2 + kappa_vacuum^2)*a)/((k_z^2 - kappa_vacuum^2)*K_left_conductor*K_right_conductor*sqrt(epsilon_l)*omega^2) + 4*I*pi*c*k_z^2*kappa_r*kappa_vacuum^4*sqrt(mu_r)*sigma_r*e^(2*I*K_vacuum*a + 2*I*sqrt(-k_z^2 + kappa_vacuum^2)*a)/((k_z^2 - kappa_vacuum^2)*K_left_conductor*K_right_conductor*sqrt(epsilon_r)*omega^2) - 4*I*pi*c*kappa_l^2*kappa_r*kappa_vacuum^4*sqrt(mu_r)*sigma_r*e^(2*I*K_vacuum*a + 2*I*sqrt(-k_z^2 + kappa_vacuum^2)*a)/((k_z^2 - kappa_vacuum^2)*K_left_conductor*K_right_conductor*sqrt(epsilon_r)*omega^2) + 16*pi^2*kappa_l*kappa_r*kappa_vacuum^4*sqrt(mu_l)*sqrt(mu_r)*sigma_l*sigma_r*e^(2*I*K_vacuum*a + 2*I*sqrt(-k_z^2 + kappa_vacuum^2)*a)/((k_z^2 - kappa_vacuum^2)*K_left_conductor*K_right_conductor*sqrt(epsilon_l)*sqrt(epsilon_r)*omega^2) + c^2*k_z^4*kappa_vacuum^4*e^(2*I*K_vacuum*a - 2*I*sqrt(-k_z^2 + kappa_vacuum^2)*a)/((k_z^2 - kappa_vacuum^2)*K_left_conductor*K_right_conductor*omega^2) - c^2*k_z^2*kappa_l^2*kappa_vacuum^4*e^(2*I*K_vacuum*a - 2*I*sqrt(-k_z^2 + kappa_vacuum^2)*a)/((k_z^2 - kappa_vacuum^2)*K_left_conductor*K_right_conductor*omega^2) - c^2*k_z^2*kappa_r^2*kappa_vacuum^4*e^(2*I*K_vacuum*a - 2*I*sqrt(-k_z^2 + kappa_vacuum^2)*a)/((k_z^2 - kappa_vacuum^2)*K_left_conductor*K_right_conductor*omega^2) + c^2*kappa_l^2*kappa_r^2*kappa_vacuum^4*e^(2*I*K_vacuum*a - 2*I*sqrt(-k_z^2 + kappa_vacuum^2)*a)/((k_z^2 - kappa_vacuum^2)*K_left_conductor*K_right_conductor*omega^2) - 4*I*pi*c*k_z^2*kappa_l*kappa_vacuum^4*sqrt(mu_l)*sigma_l*e^(2*I*K_vacuum*a - 2*I*sqrt(-k_z^2 + kappa_vacuum^2)*a)/((k_z^2 - kappa_vacuum^2)*K_left_conductor*K_right_conductor*sqrt(epsilon_l)*omega^2) + 4*I*pi*c*kappa_l*kappa_r^2*kappa_vacuum^4*sqrt(mu_l)*sigma_l*e^(2*I*K_vacuum*a - 2*I*sqrt(-k_z^2 + kappa_vacuum^2)*a)/((k_z^2 - kappa_vacuum^2)*K_left_conductor*K_right_conductor*sqrt(epsilon_l)*omega^2) - 4*I*pi*c*k_z^2*kappa_r*kappa_vacuum^4*sqrt(mu_r)*sigma_r*e^(2*I*K_vacuum*a - 2*I*sqrt(-k_z^2 + kappa_vacuum^2)*a)/((k_z^2 - kappa_vacuum^2)*K_left_conductor*K_right_conductor*sqrt(epsilon_r)*omega^2) + 4*I*pi*c*kappa_l^2*kappa_r*kappa_vacuum^4*sqrt(mu_r)*sigma_r*e^(2*I*K_vacuum*a - 2*I*sqrt(-k_z^2 + kappa_vacuum^2)*a)/((k_z^2 - kappa_vacuum^2)*K_left_conductor*K_right_conductor*sqrt(epsilon_r)*omega^2) - 16*pi^2*kappa_l*kappa_r*kappa_vacuum^4*sqrt(mu_l)*sqrt(mu_r)*sigma_l*sigma_r*e^(2*I*K_vacuum*a - 2*I*sqrt(-k_z^2 + kappa_vacuum^2)*a)/((k_z^2 - kappa_vacuum^2)*K_left_conductor*K_right_conductor*sqrt(epsilon_l)*sqrt(epsilon_r)*omega^2) + c^2*k_z^4*kappa_vacuum^4*e^(-2*I*K_vacuum*a + 2*I*sqrt(-k_z^2 + kappa_vacuum^2)*a)/((k_z^2 - kappa_vacuum^2)*K_left_conductor*K_right_conductor*omega^2) - c^2*k_z^2*kappa_l^2*kappa_vacuum^4*e^(-2*I*K_vacuum*a + 2*I*sqrt(-k_z^2 + kappa_vacuum^2)*a)/((k_z^2 - kappa_vacuum^2)*K_left_conductor*K_right_conductor*omega^2) - c^2*k_z^2*kappa_r^2*kappa_vacuum^4*e^(-2*I*K_vacuum*a + 2*I*sqrt(-k_z^2 + kappa_vacuum^2)*a)/((k_z^2 - kappa_vacuum^2)*K_left_conductor*K_right_conductor*omega^2) + c^2*kappa_l^2*kappa_r^2*kappa_vacuum^4*e^(-2*I*K_vacuum*a + 2*I*sqrt(-k_z^2 + kappa_vacuum^2)*a)/((k_z^2 - kappa_vacuum^2)*K_left_conductor*K_right_conductor*omega^2) - 4*I*pi*c*k_z^2*kappa_l*kappa_vacuum^4*sqrt(mu_l)*sigma_l*e^(-2*I*K_vacuum*a + 2*I*sqrt(-k_z^2 + kappa_vacuum^2)*a)/((k_z^2 - kappa_vacuum^2)*K_left_conductor*K_right_conductor*sqrt(epsilon_l)*omega^2) + 4*I*pi*c*kappa_l*kappa_r^2*kappa_vacuum^4*sqrt(mu_l)*sigma_l*e^(-2*I*K_vacuum*a + 2*I*sqrt(-k_z^2 + kappa_vacuum^2)*a)/((k_z^2 - kappa_vacuum^2)*K_left_conductor*K_right_conductor*sqrt(epsilon_l)*omega^2) - 4*I*pi*c*k_z^2*kappa_r*kappa_vacuum^4*sqrt(mu_r)*sigma_r*e^(-2*I*K_vacuum*a + 2*I*sqrt(-k_z^2 + kappa_vacuum^2)*a)/((k_z^2 - kappa_vacuum^2)*K_left_conductor*K_right_conductor*sqrt(epsilon_r)*omega^2) + 4*I*pi*c*kappa_l^2*kappa_r*kappa_vacuum^4*sqrt(mu_r)*sigma_r*e^(-2*I*K_vacuum*a + 2*I*sqrt(-k_z^2 + kappa_vacuum^2)*a)/((k_z^2 - kappa_vacuum^2)*K_left_conductor*K_right_conductor*sqrt(epsilon_r)*omega^2) - 16*pi^2*kappa_l*kappa_r*kappa_vacuum^4*sqrt(mu_l)*sqrt(mu_r)*sigma_l*sigma_r*e^(-2*I*K_vacuum*a + 2*I*sqrt(-k_z^2 + kappa_vacuum^2)*a)/((k_z^2 - kappa_vacuum^2)*K_left_conductor*K_right_conductor*sqrt(epsilon_l)*sqrt(epsilon_r)*omega^2) - c^2*k_z^4*kappa_vacuum^4*e^(-2*I*K_vacuum*a - 2*I*sqrt(-k_z^2 + kappa_vacuum^2)*a)/((k_z^2 - kappa_vacuum^2)*K_left_conductor*K_right_conductor*omega^2) + c^2*k_z^2*kappa_l^2*kappa_vacuum^4*e^(-2*I*K_vacuum*a - 2*I*sqrt(-k_z^2 + kappa_vacuum^2)*a)/((k_z^2 - kappa_vacuum^2)*K_left_conductor*K_right_conductor*omega^2) + c^2*k_z^2*kappa_r^2*kappa_vacuum^4*e^(-2*I*K_vacuum*a - 2*I*sqrt(-k_z^2 + kappa_vacuum^2)*a)/((k_z^2 - kappa_vacuum^2)*K_left_conductor*K_right_conductor*omega^2) - c^2*kappa_l^2*kappa_r^2*kappa_vacuum^4*e^(-2*I*K_vacuum*a - 2*I*sqrt(-k_z^2 + kappa_vacuum^2)*a)/((k_z^2 - kappa_vacuum^2)*K_left_conductor*K_right_conductor*omega^2) + 4*I*pi*c*k_z^2*kappa_l*kappa_vacuum^4*sqrt(mu_l)*sigma_l*e^(-2*I*K_vacuum*a - 2*I*sqrt(-k_z^2 + kappa_vacuum^2)*a)/((k_z^2 - kappa_vacuum^2)*K_left_conductor*K_right_conductor*sqrt(epsilon_l)*omega^2) - 4*I*pi*c*kappa_l*kappa_r^2*kappa_vacuum^4*sqrt(mu_l)*sigma_l*e^(-2*I*K_vacuum*a - 2*I*sqrt(-k_z^2 + kappa_vacuum^2)*a)/((k_z^2 - kappa_vacuum^2)*K_left_conductor*K_right_conductor*sqrt(epsilon_l)*omega^2) + 4*I*pi*c*k_z^2*kappa_r*kappa_vacuum^4*sqrt(mu_r)*sigma_r*e^(-2*I*K_vacuum*a - 2*I*sqrt(-k_z^2 + kappa_vacuum^2)*a)/((k_z^2 - kappa_vacuum^2)*K_left_conductor*K_right_conductor*sqrt(epsilon_r)*omega^2) - 4*I*pi*c*kappa_l^2*kappa_r*kappa_vacuum^4*sqrt(mu_r)*sigma_r*e^(-2*I*K_vacuum*a - 2*I*sqrt(-k_z^2 + kappa_vacuum^2)*a)/((k_z^2 - kappa_vacuum^2)*K_left_conductor*K_right_conductor*sqrt(epsilon_r)*omega^2) + 16*pi^2*kappa_l*kappa_r*kappa_vacuum^4*sqrt(mu_l)*sqrt(mu_r)*sigma_l*sigma_r*e^(-2*I*K_vacuum*a - 2*I*sqrt(-k_z^2 + kappa_vacuum^2)*a)/((k_z^2 - kappa_vacuum^2)*K_left_conductor*K_right_conductor*sqrt(epsilon_l)*sqrt(epsilon_r)*omega^2)"
      ]
     },
     "execution_count": 158,
     "metadata": {},
     "output_type": "execute_result"
    }
   ],
   "source": [
    "M8_det"
   ]
  },
  {
   "cell_type": "code",
   "execution_count": 159,
   "metadata": {},
   "outputs": [
    {
     "data": {
      "text/plain": [
       "(K_left_conductor,\n",
       " K_right_conductor,\n",
       " K_vacuum,\n",
       " a,\n",
       " c,\n",
       " epsilon_l,\n",
       " epsilon_r,\n",
       " k_z,\n",
       " kappa_l,\n",
       " kappa_r,\n",
       " kappa_vacuum,\n",
       " mu_l,\n",
       " mu_r,\n",
       " omega,\n",
       " sigma_l,\n",
       " sigma_r)"
      ]
     },
     "execution_count": 159,
     "metadata": {},
     "output_type": "execute_result"
    }
   ],
   "source": [
    "M8_det.variables()"
   ]
  },
  {
   "cell_type": "code",
   "execution_count": 160,
   "metadata": {},
   "outputs": [],
   "source": [
    "M8_ReIm = GenerateMatrixReIm(sys8_subs, coefs_re_im_subs, vars8reim)"
   ]
  },
  {
   "cell_type": "code",
   "execution_count": 161,
   "metadata": {},
   "outputs": [
    {
     "data": {
      "text/plain": [
       "(16, 16)"
      ]
     },
     "execution_count": 161,
     "metadata": {},
     "output_type": "execute_result"
    }
   ],
   "source": [
    "M8_ReIm.nrows(), M8_ReIm.ncols()"
   ]
  },
  {
   "cell_type": "code",
   "execution_count": 162,
   "metadata": {},
   "outputs": [
    {
     "data": {
      "text/plain": [
       "(K_left_conductor,\n",
       " K_right_conductor,\n",
       " K_vacuum,\n",
       " kappa_l,\n",
       " kappa_r,\n",
       " kappa_vacuum,\n",
       " kz,\n",
       " sz)"
      ]
     },
     "execution_count": 162,
     "metadata": {},
     "output_type": "execute_result"
    }
   ],
   "source": [
    "M8_ReIm.variables()"
   ]
  },
  {
   "cell_type": "code",
   "execution_count": 163,
   "metadata": {},
   "outputs": [],
   "source": [
    "M8_det_subs = M8_det \\\n",
    "    .subs(K_vacuum_subs) \\\n",
    "    .subs(K_left_conductor_subs) \\\n",
    "    .subs(K_right_conductor_subs) \\\n",
    "    .subs(kappa_vacuum_sol) \\\n",
    "    .subs(kappa_l_sol)\\\n",
    "    .subs(kappa_r_sol)"
   ]
  },
  {
   "cell_type": "code",
   "execution_count": 164,
   "metadata": {},
   "outputs": [],
   "source": [
    "M8_det_subs_k_z = M8_det_subs.subs(k_z = kz + I * sz).expand()"
   ]
  },
  {
   "cell_type": "code",
   "execution_count": 165,
   "metadata": {},
   "outputs": [
    {
     "data": {
      "text/plain": [
       "(a, c, epsilon_l, epsilon_r, kz, mu_l, mu_r, omega, sigma_l, sigma_r, sz)"
      ]
     },
     "execution_count": 165,
     "metadata": {},
     "output_type": "execute_result"
    }
   ],
   "source": [
    "M8_det_subs_k_z.variables()"
   ]
  },
  {
   "cell_type": "code",
   "execution_count": 166,
   "metadata": {},
   "outputs": [
    {
     "data": {
      "text/plain": [
       "(kz, sz)"
      ]
     },
     "execution_count": 166,
     "metadata": {},
     "output_type": "execute_result"
    }
   ],
   "source": [
    "M8_det_subs_k_z_d = M8_det_subs_k_z.subs(digit_values)\n",
    "M8_det_subs_k_z_d.variables()"
   ]
  },
  {
   "cell_type": "code",
   "execution_count": 167,
   "metadata": {},
   "outputs": [],
   "source": [
    "make_investigation_plots = True"
   ]
  },
  {
   "cell_type": "code",
   "execution_count": 168,
   "metadata": {},
   "outputs": [],
   "source": [
    "def init_det_plot2d(kz_min, kz_max, nk, sz_min, sz_max, ns):\n",
    "    import numpy as np\n",
    "\n",
    "    kz_linspace = np.linspace(np.float128(kz_min), np.float128(kz_max), nk)\n",
    "    sz_linspace = np.linspace(np.float128(sz_min), np.float128(sz_max), ns)\n",
    "\n",
    "    kz_list = kz_linspace.tolist()\n",
    "    sz_list = sz_linspace.tolist()\n",
    "\n",
    "    kz_grid, sz_grid = np.meshgrid(kz_linspace, sz_linspace)\n",
    "\n",
    "    u = kz_grid * np.nan\n",
    "    v = sz_grid * np.nan\n",
    "    \n",
    "    return kz_grid, sz_grid, kz_list, sz_list, u, v\n",
    "\n",
    "def make_det_plot2d(M_d):\n",
    "    import numpy as np\n",
    "    for ikz in np.arange(0, len(kz_list), 1):\n",
    "        print(ikz, len(kz_list))\n",
    "        for isz in np.arange(0, len(sz_list), 1):\n",
    "            kz_i = kz_list[ikz]\n",
    "            sz_i = sz_list[isz]\n",
    "            try:\n",
    "                M_d_i = M_d.subs(kz == kz_i).subs(sz == sz_i)\n",
    "                u[isz][ikz] = M_d_i.real().n()\n",
    "                v[isz][ikz] = M_d_i.imag().n()\n",
    "                print(kz_i, sz_i, u[isz][ikz], v[isz][ikz])\n",
    "            except Exception as ex:\n",
    "                print(ex)"
   ]
  },
  {
   "cell_type": "code",
   "execution_count": 169,
   "metadata": {},
   "outputs": [],
   "source": [
    "if make_investigation_plots:\n",
    "    kz_grid, sz_grid, kz_list, sz_list, u, v = init_det_plot2d(\n",
    "                                         kz_min=-5e-1, kz_max=5e-1, nk=24,\n",
    "                                         sz_min=-5e+1, sz_max=5e+1, ns=24)\n",
    "    # if nk == 201 I have \n",
    "    # negative number cannot be raised to a fractional power"
   ]
  },
  {
   "cell_type": "code",
   "execution_count": null,
   "metadata": {},
   "outputs": [
    {
     "name": "stdout",
     "output_type": "stream",
     "text": [
      "0 24\n",
      "-0.5 -50.0 -20823923.90958283469 1500456.7367918777745\n",
      "-0.5 -45.65217391304347826 3356638.4143378944136 -17789005.777980294079\n",
      "-0.5 -41.30434782608695652 25235459.592431977391 5214509.581748352386\n",
      "-0.5 -36.956521739130434784 5969203.8839611262083 29670892.422011036426\n",
      "-0.5 -32.608695652173913044 -20237091.59988887608 12160641.342614047229\n",
      "-0.5 -28.260869565217391304 -6857155.68593631126 -16228787.431117027998\n",
      "-0.5 -23.913043478260869566 22354449.84281437099 -5095216.561483883299\n",
      "-0.5 -19.565217391304347828 15535860.848384916782 25794946.762420527637\n",
      "-0.5 -15.217391304347826088 -15207257.884362973273 21599733.265968427062\n",
      "-0.5 -10.869565217391304348 -15293964.804068909958 -10232683.03294913657\n",
      "-0.5 -6.521739130434782608 15429606.738525487483 -13187350.345616623759\n",
      "-0.5 -2.1739130434782608717 22416704.82875759527 17981270.470035430044\n",
      "-0.5 2.1739130434782608682 -6736291.5771529227495 27937634.310840371996\n",
      "-0.5 6.521739130434782608 -20273167.526024080813 -995333.4710661157733\n",
      "-0.5 10.8695652173913043445 5840611.321643665433 -17450135.734616026282\n",
      "-0.5 15.217391304347826088 25242530.462701559067 7786521.1450946936384\n",
      "-0.5 19.565217391304347824 3486770.1311172163114 29909679.445087447762\n",
      "-0.5 23.91304347826086956 -20801724.152446512133 9642239.428395703435\n",
      "-0.5 28.260869565217391304 -4501536.8025154117495 -17033231.969914346933\n",
      "-0.5 32.60869565217391304 23448188.504864837974 -2757505.4806061177514\n",
      "-0.5 36.956521739130434784 13425926.07379742153 27124483.949311718345\n",
      "-0.5 41.30434782608695652 -16774933.125431237742 19560693.227778505534\n",
      "-0.5 45.652173913043478257 -13536227.651719596237 -12020225.170742250979\n",
      "-0.5 50.0 17392085.434338979423 -11549971.420588770881\n",
      "1 24\n",
      "-0.45652173913043478262 -50.0 -17070050.824385423213 2111877.3722834009677\n",
      "-0.45652173913043478262 -45.65217391304347826 3049636.112314907834 -14099156.748208036646\n",
      "-0.45652173913043478262 -41.30434782608695652 21412629.959880404174 5431883.0092190615833\n",
      "-0.45652173913043478262 -36.956521739130434784 5417542.884979707189 26029869.554407667369\n",
      "-0.45652173913043478262 -32.608695652173913044 -16538174.285980286077 11125441.275583226234\n",
      "-0.45652173913043478262 -28.260869565217391304 -5474664.5819826899096 -12820287.328402739018\n",
      "-0.45652173913043478262 -23.913043478260869566 18966062.460169982165 -3294419.1381671605632\n",
      "-0.45652173913043478262 -19.565217391304347828 13392291.778223052621 22790935.165076814592\n",
      "-0.45652173913043478262 -15.217391304347826088 -12300350.702059568837 19124197.529580250382\n",
      "-0.45652173913043478262 -10.869565217391304348 -12497474.779524100944 -7784715.5033345697448\n",
      "-0.45652173913043478262 -6.521739130434782608 13150831.186689794064 -10161989.769023517147\n",
      "-0.45652173913043478262 -2.1739130434782608717 19108457.900261878967 16212853.9208698589355\n",
      "-0.45652173913043478262 2.1739130434782608682 -5200704.9902753746137 24514943.103141643107\n",
      "-0.45652173913043478262 6.521739130434782608 -16619846.639950959012 4294.5763202913867644\n",
      "-0.45652173913043478262 10.8695652173913043445 5125543.0805554101244 -13802971.615871874616\n",
      "-0.45652173913043478262 15.217391304347826088 21428612.34168003127 7606082.761007629335\n",
      "-0.45652173913043478262 19.565217391304347824 3345185.2642650250345 26221995.461174506694\n",
      "-0.45652173913043478262 23.91304347826086956 -17019613.683862823993 8994374.361232623458\n",
      "-0.45652173913043478262 28.260869565217391304 -3510437.2171183032915 -13491071.548726025969\n",
      "-0.45652173913043478262 32.60869565217391304 19888695.683987341821 -1314020.9335981134791\n",
      "-0.45652173913043478262 36.956521739130434784 11635313.468366719782 23906552.740288421512\n",
      "-0.45652173913043478262 41.30434782608695652 -13617639.006458558142 17394415.07791364938\n",
      "-0.45652173913043478262 45.652173913043478257 -11036441.2500070836395 -9288872.37235378474\n",
      "-0.45652173913043478262 50.0 14796280.319224270061 -8770191.990636024624\n",
      "2 24\n",
      "-0.41304347826086956522 -50.0 -13896245.293067814782 2604405.9976820899174\n",
      "-0.41304347826086956522 -45.65217391304347826 2772636.5520380232483 -11019751.639218959957\n",
      "-0.41304347826086956522 -41.30434782608695652 18176606.826838951558 5631033.815412652679\n",
      "-0.41304347826086956522 -36.956521739130434784 4967684.450122510083 22995197.399464547634\n",
      "-0.41304347826086956522 -32.608695652173913044 -13403196.9276597145945 10244659.010139631107\n",
      "-0.41304347826086956522 -28.260869565217391304 -4320645.0856549497694 -9983453.180214513093\n",
      "-0.41304347826086956522 -23.913043478260869566 16090296.5898393169045 -1776443.7888752564322\n",
      "-0.41304347826086956522 -19.565217391304347828 11592336.08852002956 20295063.070730973035\n",
      "-0.41304347826086956522 -15.217391304347826088 -9828883.841905746609 17045618.348319817334\n",
      "-0.41304347826086956522 -10.869565217391304348 -10142402.3908121697605 -5755724.839660569094\n",
      "-0.41304347826086956522 -6.521739130434782608 11208346.927683176473 -7627690.06115073245\n",
      "-0.41304347826086956522 -2.1739130434782608717 16317151.226082082838 14753112.127144275233\n",
      "-0.41304347826086956522 2.1739130434782608682 -3885280.6833054479212 21652663.628014210612\n",
      "-0.41304347826086956522 6.521739130434782608 -13532941.870231313631 821124.72299633396324\n",
      "-0.41304347826086956522 10.8695652173913043445 4503423.218030922115 -10757270.331499632448\n",
      "-0.41304347826086956522 15.217391304347826088 18201985.271042797714 7473347.891531283036\n",
      "-0.41304347826086956522 19.565217391304347824 3242564.8553575319238 23146487.806586697698\n",
      "-0.41304347826086956522 23.91304347826086956 -13816041.389552846551 8436308.778891278431\n",
      "-0.41304347826086956522 28.260869565217391304 -2688249.8239243929274 -10540916.639697436243\n",
      "-0.41304347826086956522 32.60869565217391304 16869800.531412132084 -93308.6986465487862\n",
      "-0.41304347826086956522 36.956521739130434784 10135039.02086846903 21230588.905537534505\n",
      "-0.41304347826086956522 41.30434782608695652 -10935728.205793837085 15572642.903707031161\n",
      "-0.41304347826086956522 45.652173913043478257 -8933770.949999462813 -7022105.7715260721743\n",
      "-0.41304347826086956522 50.0 12586660.367575874552 -6439271.309144015424\n",
      "3 24\n",
      "-0.36956521739130434781 -50.0 -11206271.002207554877 2992977.0934696104378\n",
      "-0.36956521739130434781 -45.65217391304347826 2517240.5379137983546 -8457416.552662597969\n",
      "-0.36956521739130434781 -41.30434782608695652 15429267.314471483231 5818000.6638294700533\n",
      "-0.36956521739130434781 -36.956521739130434784 4605987.9444082761183 20474858.454502660781\n",
      "-0.36956521739130434781 -32.608695652173913044 -10737100.562786674127 9491587.413429228589\n",
      "-0.36956521739130434781 -28.260869565217391304 -3360104.9483671179041 -7632266.340954477899\n",
      "-0.36956521739130434781 -23.913043478260869566 13639953.098763531074 -495262.37331890821224\n",
      "-0.36956521739130434781 -19.565217391304347828 10081415.4143592529 18231650.511596113443\n",
      "-0.36956521739130434781 -15.217391304347826088 -7717917.3623192394152 15300968.920100711286\n",
      "-0.36956521739130434781 -10.869565217391304348 -8157336.9989624684677 -4084187.902477750089\n",
      "-0.36956521739130434781 -6.521739130434782608 9543253.919550219551 -5507606.039990257472\n",
      "-0.36956521739130434781 -2.1739130434782608717 13958146.408213596791 13557783.26048701629\n",
      "-0.36956521739130434781 2.1739130434782608682 -2750132.5478142211214 19264006.22608295083\n",
      "-0.36956521739130434781 6.521739130434782608 -10918851.972225932404 1479924.8869422050193\n",
      "-0.36956521739130434781 10.8695652173913043445 3955387.8015403412282 -8220679.9743326026946\n",
      "-0.36956521739130434781 15.217391304347826088 15464811.291954822838 7384291.7550240615383\n",
      "-0.36956521739130434781 19.565217391304347824 3175797.23470466258 20589900.767775036395\n",
      "-0.36956521739130434781 23.91304347826086956 -11093868.370425913483 7951120.9797232309356\n",
      "-0.36956521739130434781 28.260869565217391304 -2010044.2066214589868 -8093312.4787181001157\n",
      "-0.36956521739130434781 32.60869565217391304 14299963.936845401302 941645.73273209505714\n",
      "-0.36956521739130434781 36.956521739130434784 8879611.322181941941 19015451.71738519147\n",
      "-0.36956521739130434781 41.30434782608695652 -8647879.671278115362 14040136.82387698628\n",
      "-0.36956521739130434781 45.652173913043478257 -7164459.46169648692 -5151192.342135281302\n",
      "-0.36956521739130434781 50.0 10696225.3571098558605 -4486531.065090963617\n",
      "4 24\n",
      "-0.32608695652173913044 -50.0 -8918562.3970231972635 3289372.934057019651\n"
     ]
    },
    {
     "name": "stdout",
     "output_type": "stream",
     "text": [
      "-0.32608695652173913044 -45.65217391304347826 2275703.9381482861936 -6334456.217062787153\n",
      "-0.32608695652173913044 -41.30434782608695652 13087306.4366963189095 5998452.775096557103\n",
      "-0.32608695652173913044 -36.956521739130434784 4321485.9842204526067 18392430.857855163515\n",
      "-0.32608695652173913044 -32.608695652173913044 -8459043.665439184755 8843391.803203968331\n",
      "-0.32608695652173913044 -28.260869565217391304 -2563918.6143189626746 -5695433.9902241081\n",
      "-0.32608695652173913044 -23.913043478260869566 11540732.534983986989 587973.16883927828167\n",
      "-0.32608695652173913044 -19.565217391304347828 8813715.5281240567565 16538130.581229453906\n",
      "-0.32608695652173913044 -15.217391304347826088 -5903442.4321202086285 13837347.88068690896\n",
      "-0.32608695652173913044 -10.869565217391304348 -6482087.338643253781 -2719420.2794153736904\n",
      "-0.32608695652173913044 -6.521739130434782608 8105063.1820622263476 -3737452.3955779331736\n",
      "-0.32608695652173913044 -2.1739130434782608717 11959913.389344589785 12590622.960231252015\n",
      "-0.32608695652173913044 2.1739130434782608682 -1760840.7999251154251 17276542.337726991624\n",
      "-0.32608695652173913044 6.521739130434782608 -8698312.41188217327 2000671.199874860933\n",
      "-0.32608695652173913044 10.8695652173913043445 3464819.2881183349527 -6116285.9240078898147\n",
      "-0.32608695652173913044 15.217391304347826088 13134093.6684901397675 7336213.996972105466\n",
      "-0.32608695652173913044 19.565217391304347824 3142857.8641689815558 18474713.370788507164\n",
      "-0.32608695652173913044 23.91304347826086956 -8770552.743259387091 7524099.06714625936\n",
      "-0.32608695652173913044 28.260869565217391304 -1455255.7730663188267 -6074042.6738899284974\n",
      "-0.32608695652173913044 32.60869565217391304 12101263.169087853283 1822224.3099518774543\n",
      "-0.32608695652173913044 36.956521739130434784 7830963.2205639891326 17193973.659965194762\n",
      "-0.32608695652173913044 41.30434782608695652 -6684721.1292372578755 12750428.100374942645\n",
      "-0.32608695652173913044 45.652173913043478257 -5674857.6202008174732 -3619402.1405070330948\n",
      "-0.32608695652173913044 50.0 9067653.409528005868 -2852760.1564352544956\n",
      "5 24\n",
      "-0.28260869565217391306 -50.0 -6963751.445944584906 3502580.8505848040804\n",
      "-0.28260869565217391306 -45.65217391304347826 2040702.866769836517 -4586498.1073376471177\n",
      "-0.28260869565217391306 -41.30434782608695652 11079711.121625715867 6177861.8294443208724\n",
      "-0.28260869565217391306 -36.956521739130434784 4105551.8836245918646 16684771.1208046115935\n",
      "-0.28260869565217391306 -32.608695652173913044 -6499950.8645581239834 8280417.5532009089366\n",
      "-0.28260869565217391306 -28.260869565217391304 -1907944.0736337953713 -4114227.3878874490038\n",
      "-0.28260869565217391306 -23.913043478260869566 9728982.215510312468 1506108.7712229804602\n",
      "-0.28260869565217391306 -19.565217391304347828 7750797.157714095898 15163152.277428191155\n",
      "-0.28260869565217391306 -15.217391304347826088 -4330440.451555092819 12610375.225333023816\n",
      "-0.28260869565217391306 -10.869565217391304348 -5065856.3951433543116 -1620039.4303265816998\n",
      "-0.28260869565217391306 -6.521739130434782608 6850165.868894425221 -2263554.4268557536416\n",
      "-0.28260869565217391306 -2.1739130434782608717 10261861.504668319598 11822305.338213087991\n",
      "-0.28260869565217391306 2.1739130434782608682 -887408.30176527565345 15630008.333235770464\n",
      "-0.28260869565217391306 6.521739130434782608 -6803991.903660485521 2399153.723523909226\n",
      "-0.28260869565217391306 10.8695652173913043445 3016842.6467739241198 -4380278.63801138103\n",
      "-0.28260869565217391306 15.217391304347826088 11139160.256175283343 7327656.809984413907\n",
      "-0.28260869565217391306 19.565217391304347824 3142747.948819407262 16736788.786012146622\n",
      "-0.28260869565217391306 23.91304347826086956 -6775646.8010840527713 7142294.8545439643785\n",
      "-0.28260869565217391306 28.260869565217391304 -1007062.19447452155873 -4421878.8118939334527\n",
      "-0.28260869565217391306 32.60869565217391304 10207029.098550675437 2575127.988669063896\n",
      "-0.28260869565217391306 36.956521739130434784 6957297.5472631305456 15710923.771980363876\n",
      "-0.28260869565217391306 41.30434782608695652 -4986725.5744410101324 11664410.110629349947\n",
      "-0.28260869565217391306 45.652173913043478257 -4419797.6326544610783 -2380288.136826004833\n",
      "-0.28260869565217391306 50.0 7651562.8732657143846 -1488419.2876596120186\n",
      "6 24\n",
      "-0.23913043478260869566 -50.0 -5282564.25917779468 3639065.7452656249516\n",
      "-0.23913043478260869566 -45.65217391304347826 1805111.6083598358091 -3160540.5374004985206\n",
      "-0.23913043478260869566 -41.30434782608695652 9345606.9491305835545 6361667.879329056479\n",
      "-0.23913043478260869566 -36.956521739130434784 3951638.07547014812 15300099.487104097381\n",
      "-0.23913043478260869566 -32.608695652173913044 -4800418.436605482362 7785594.1243889406323\n",
      "-0.23913043478260869566 -28.260869565217391304 -1372290.8268837449141 -2840701.0978845944628\n",
      "-0.23913043478260869566 -23.913043478260869566 8149766.146115174517 2286984.1971377381124\n",
      "-0.23913043478260869566 -19.565217391304347828 6860430.42861151509 14065023.434381918982\n",
      "-0.23913043478260869566 -15.217391304347826088 -2951214.7755599543452 11582846.615601034835\n",
      "-0.23913043478260869566 -10.869565217391304348 -3865701.1343741375022 -752709.8842020322336\n",
      "-0.23913043478260869566 -6.521739130434782608 5740510.9593403358012 -1041220.5140661103651\n",
      "-0.23913043478260869566 -2.1739130434782608717 8812502.240331757814 11229533.764759024605\n",
      "-0.23913043478260869566 2.1739130434782608682 -103350.98691897542449 14274478.206555813551\n",
      "-0.23913043478260869566 6.521739130434782608 -5178450.7888614051044 2687455.2358198123984\n",
      "-0.23913043478260869566 10.8695652173913043445 2597874.3173702615313 -2960018.8155395025387\n",
      "-0.23913043478260869566 15.217391304347826088 9419520.577455058694 7358360.7303319834173\n",
      "-0.23913043478260869566 19.565217391304347824 3175464.1512622069567 15323429.567668218166\n",
      "-0.23913043478260869566 23.91304347826086956 -5048660.8938595661893 6794131.2495059436187\n",
      "-0.23913043478260869566 28.260869565217391304 -651873.3177392294165 -3086723.8865796159953\n",
      "-0.23913043478260869566 32.60869565217391304 8559824.652125015855 3223186.3587424270809\n",
      "-0.23913043478260869566 36.956521739130434784 6232122.9609162695706 14521332.930354911834\n",
      "-0.23913043478260869566 41.30434782608695652 -3502406.2888619774021 10749152.554266458377\n",
      "-0.23913043478260869566 45.652173913043478257 -3361223.4978229608387 -1396277.8456494659185\n",
      "-0.23913043478260869566 50.0 6405014.9702263530344 -352138.83640963450307\n",
      "7 24\n"
     ]
    }
   ],
   "source": [
    "if make_investigation_plots:\n",
    "    make_det_plot2d(M8_det_subs_k_z_d)"
   ]
  },
  {
   "cell_type": "code",
   "execution_count": null,
   "metadata": {},
   "outputs": [],
   "source": [
    "if make_investigation_plots:\n",
    "    import matplotlib.pyplot as plt\n",
    "    fig,ax=plt.subplots(1,1)\n",
    "\n",
    "    cp = ax.contourf(kz_grid,sz_grid, u)\n",
    "    fig.colorbar(cp) # Add a colorbar to a plot\n",
    "    ax.set_title('M8_subs_det_re')\n",
    "    ax.set_xlabel('kz')\n",
    "    ax.set_ylabel('sz')\n",
    "    plt.show()"
   ]
  },
  {
   "cell_type": "code",
   "execution_count": null,
   "metadata": {},
   "outputs": [],
   "source": [
    "if make_investigation_plots:\n",
    "    import matplotlib.pyplot as plt\n",
    "    fig,ax=plt.subplots(1,1)\n",
    "\n",
    "    cp = ax.contourf(kz_grid,sz_grid, v)\n",
    "    fig.colorbar(cp) # Add a colorbar to a plot\n",
    "    ax.set_title('M8_subs_det_im')\n",
    "    ax.set_xlabel('kz')\n",
    "    ax.set_ylabel('sz')\n",
    "    plt.show()"
   ]
  },
  {
   "cell_type": "markdown",
   "metadata": {},
   "source": [
    "Искомый волновой вектор можно найти графическим методом как точку пересечения двух нулевых изолиний на контурных графиках зависимости действительной и мнимой компонент детерминанта от действительной и мнимой компонент волнового вектора"
   ]
  },
  {
   "cell_type": "code",
   "execution_count": null,
   "metadata": {},
   "outputs": [],
   "source": [
    "# Get coordinates from a contour\n",
    "# https://stackoverflow.com/questions/19418901/get-coordinates-from-a-contour\n",
    "\n",
    "import matplotlib.pyplot as plt\n",
    "fig, ax=plt.subplots(1,1)\n",
    "cu = ax.contour(kz_grid,sz_grid, u)\n",
    "cv = ax.contour(kz_grid,sz_grid, v)\n",
    "plt.show()"
   ]
  },
  {
   "cell_type": "code",
   "execution_count": null,
   "metadata": {},
   "outputs": [],
   "source": [
    "cu_index_of_zero_level=cu.levels.tolist().index(0.)\n",
    "cv_index_of_zero_level=cv.levels.tolist().index(0.)\n",
    "cu_zero_levels_number = len(cu.allsegs[cu_index_of_zero_level])\n",
    "cv_zero_levels_number = len(cv.allsegs[cv_index_of_zero_level])\n",
    "cu_zero_levels_number, cv_zero_levels_number"
   ]
  },
  {
   "cell_type": "markdown",
   "metadata": {},
   "source": [
    "Get coordinates from a contour\n",
    "\n",
    "https://stackoverflow.com/questions/19418901/get-coordinates-from-a-contour"
   ]
  },
  {
   "cell_type": "code",
   "execution_count": null,
   "metadata": {},
   "outputs": [],
   "source": [
    "pl = Graphics()\n",
    "for seg in cu.allsegs[cu_index_of_zero_level]:\n",
    "    #print(\"seg\", seg)\n",
    "    pl += list_plot(seg)\n",
    "    pl += line(seg)\n",
    "for seg in cv.allsegs[cv_index_of_zero_level]:\n",
    "    #print(\"seg\", seg)\n",
    "    pl += list_plot(seg, color=\"red\")\n",
    "    pl += line(seg, color=\"red\")\n",
    "pl.show()"
   ]
  },
  {
   "cell_type": "code",
   "execution_count": null,
   "metadata": {},
   "outputs": [],
   "source": [
    "# https://stackoverflow.com/questions/8094374/python-matplotlib-find-intersection-of-lineplots\n",
    "def intersect_interp1d(M_d, x1, y1, x2, y2, ax, ds=0.1):\n",
    "    import numpy as np\n",
    "    from numpy.linalg import norm\n",
    "    from scipy.optimize import fsolve\n",
    "    from scipy.interpolate import interp1d\n",
    "    import matplotlib.pyplot as plt\n",
    "\n",
    "    x1_array = np.array(x1)\n",
    "    y1_array = np.array(y1)\n",
    "    x2_array = np.array(x2)\n",
    "    y2_array = np.array(y2)\n",
    "\n",
    "    s1_array = np.linspace(0,1,num=len(x1_array))\n",
    "    s2_array = np.linspace(0,1,num=len(x2_array))\n",
    "\n",
    "    # Arguments given to interp1d:\n",
    "    #  - extrapolate: to make sure we don't get a fatal value error when fsolve searches\n",
    "    #                 beyond the bounds of [0,1]\n",
    "    #  - copy: use refs to the arrays\n",
    "    #  - assume_sorted: because s_array ('x') increases monotonically across [0,1]\n",
    "    kwargs_ = dict(fill_value='extrapolate', copy=False, assume_sorted=True)\n",
    "    x1_interp = interp1d(s1_array,x1_array, **kwargs_)\n",
    "    y1_interp = interp1d(s1_array,y1_array, **kwargs_)\n",
    "    x2_interp = interp1d(s2_array,x2_array, **kwargs_)\n",
    "    y2_interp = interp1d(s2_array,y2_array, **kwargs_)\n",
    "    \n",
    "    xydiff_lambda = lambda s12: (np.abs(x1_interp(s12[0])-x2_interp(s12[1])),\n",
    "                                 np.abs(y1_interp(s12[0])-y2_interp(s12[1])))\n",
    "    \n",
    "    foundset = []\n",
    "    \n",
    "    for s1 in np.arange(ds, 1.0, ds):\n",
    "        for s2 in np.arange(ds, 1.0, ds):\n",
    "\n",
    "            s12_intercept, _, ier, mesg \\\n",
    "                = fsolve(xydiff_lambda, [s1, s2], full_output=True) \n",
    "\n",
    "            xy1_intercept = x1_interp(s12_intercept[0]),y1_interp(s12_intercept[0])\n",
    "            xy2_intercept = x2_interp(s12_intercept[1]),y2_interp(s12_intercept[1])\n",
    "            \n",
    "            is_intercept_really_good = s12_intercept[0]>=0 and s12_intercept[0]<=1 \\\n",
    "                  and s12_intercept[1]>=0 and s12_intercept[1]<=1 \\\n",
    "                  and np.isclose(0,norm(xydiff_lambda(s12_intercept)))\n",
    "            \n",
    "            if is_intercept_really_good:\n",
    "\n",
    "                found = (float(xy1_intercept[0]), float(xy1_intercept[1]))\n",
    "                \n",
    "                if found not in foundset:\n",
    "                    foundset += [found]\n",
    "                    \n",
    "                    fig, ax = plt.subplots(1,1)\n",
    "                \n",
    "                    ax.plot(x1_interp(s1_array),y1_interp(s1_array),'b.', ls='-', label='x1 data')\n",
    "                    ax.plot(x2_interp(s2_array),y2_interp(s2_array),'r.', ls='-', label='x2 data')\n",
    "                    if s12_intercept[0]>0 and s12_intercept[0]<1:\n",
    "                        \n",
    "                        ax.plot(*xy1_intercept,'bo', ms=12, label='x1 intercept')\n",
    "                        ax.plot(*xy2_intercept,'ro', ms=8, label='x2 intercept')\n",
    "                        ax.legend()\n",
    "                        plt.show()\n",
    "\n",
    "                        M_det = M_d \\\n",
    "                            .subs(kz == float(xy1_intercept[0])) \\\n",
    "                            .subs(sz == float(xy1_intercept[1])).n()\n",
    "\n",
    "                        print(\"M_det=\", M_det)\n",
    "                \n",
    "                        print('intercept @ s1={}, s2={}\\n'.format(s12_intercept[0],s12_intercept[1]), \n",
    "                              'intercept @ xy1={}\\n'.format(np.array(xy1_intercept)), \n",
    "                              'intercept @ xy2={}\\n'.format(np.array(xy2_intercept)), \n",
    "                              'fsolve apparent success? {}: \"{}\"\\n'.format(ier==1,mesg,), \n",
    "                              'is intercept really good? {}\\n'.format( is_intercept_really_good ))\n",
    "\n",
    "                        return foundset\n",
    "    return foundset"
   ]
  },
  {
   "cell_type": "code",
   "execution_count": null,
   "metadata": {},
   "outputs": [],
   "source": [
    "def test_contour_line_intersection(M, i, j, cu, cv, cu_index, cv_index):\n",
    "    dat_u = cu.allsegs[cu_index][i]\n",
    "    dat_v = cv.allsegs[cv_index][j]\n",
    "    \n",
    "    xu = dat_u[:,0]\n",
    "    yu = dat_u[:,1]\n",
    "    xv = dat_v[:,0]\n",
    "    yv = dat_v[:,1]\n",
    "    \n",
    "    if len(xu) < 2:\n",
    "        return None\n",
    "    if len(xv) < 2:\n",
    "        return None\n",
    "    \n",
    "    return intersect_interp1d(M, xu, yu, xv, yv, ax)"
   ]
  },
  {
   "cell_type": "markdown",
   "metadata": {},
   "source": [
    "Искомый волновой вектор можно найти графическим методом как точку пересечения двух нулевых изолиний на контурных графиках зависимости действительной и мнимой компонент детерминанта от действительной и мнимой компонент волнового вектора\n",
    "\n",
    "Get coordinates from a contour\n",
    "\n",
    "https://stackoverflow.com/questions/19418901/get-coordinates-from-a-contour"
   ]
  },
  {
   "cell_type": "code",
   "execution_count": null,
   "metadata": {},
   "outputs": [],
   "source": [
    "k_z_graphic_solutions = []\n",
    "for i in range(0, cu_zero_levels_number):\n",
    "    for j in range(0, cv_zero_levels_number):\n",
    "        result = test_contour_line_intersection(M8_det_subs_k_z_d,\n",
    "                                                i, j, cu, cv,\n",
    "                                                cu_index_of_zero_level,\n",
    "                                                cv_index_of_zero_level)\n",
    "        if None == result:\n",
    "            continue\n",
    "            \n",
    "        for found in result:\n",
    "            print(\"found\", found)\n",
    "            xy_intercept = found\n",
    "        \n",
    "            k_z_graphic_solutions += [xy_intercept]"
   ]
  },
  {
   "cell_type": "code",
   "execution_count": null,
   "metadata": {},
   "outputs": [],
   "source": [
    "k_z_graphic_solutions"
   ]
  },
  {
   "cell_type": "markdown",
   "metadata": {},
   "source": [
    "```\n",
    "знак перед корнем будем всегда выбирать так, чтобы корень имел положительнею мнимую часть (Зоммерфельд, Электродинамика, параграф 20, Б. Волновое поле и скин-эффект в полупространстве)\n",
    "```"
   ]
  },
  {
   "cell_type": "code",
   "execution_count": null,
   "metadata": {},
   "outputs": [],
   "source": [
    "max_abs_k_z_sol = 0\n",
    "for k_z_sol_i in [k_z_graphic_solutions[5]]:\n",
    "    k_z_sol_i_kz = float(k_z_sol_i[0])\n",
    "    k_z_sol_i_sz = float(k_z_sol_i[1])\n",
    "    print(k_z_sol_i_kz, k_z_sol_i_sz)\n",
    "    # знак перед корнем будем всегда выбирать так, чтобы корень имел положительнею мнимую часть (Зоммерфельд, Электродинамика, параграф 20, Б)\n",
    "    # потому что нужно обеспечить затухание поля в проводнике\n",
    "    # E_right_conductor_sol_z (x) = B1_zr*exp(+I * K_right_conductor*(x-a))\n",
    "    # E_right_conductor_sol_x (x) = B1_xr*exp(+I * K_right_conductor*(x-a))\n",
    "    K_right = K_right_conductor_subs \\\n",
    "        .subs(kappa_vacuum_sol) \\\n",
    "        .subs(kappa_l_sol) \\\n",
    "        .subs(kappa_r_sol) \\\n",
    "        .subs(digit_values) \\\n",
    "        .subs(k_z == k_z_sol_i_kz + I * k_z_sol_i_sz)\n",
    "    #show(K_right)\n",
    "    show(K_right.lhs() == K_right.rhs().n())\n",
    "    #plot(E_right_conductor_sol_z (x).subs(K_right, a == A, B1_zr == 1+I).real(), x, 0, h_conductor).show()\n",
    "    \n",
    "    abs_k_z_sol = k_z_sol_i_kz^2 + k_z_sol_i_sz^2\n",
    "    print(\"abs_k_z_sol,\", abs_k_z_sol)\n",
    "    #if max_abs_k_z_sol < abs_k_z_sol:\n",
    "    #    max_abs_k_z_sol = abs_k_z_sol\n",
    "        # выберем решение с максимальным модулем\n",
    "        # для того чтобы обеспечить лучшую сходимость итерационной процедуры\n",
    "\n",
    "    k_z_sol_kz = k_z_sol_i_kz \n",
    "    k_z_sol_sz = k_z_sol_i_sz "
   ]
  },
  {
   "cell_type": "code",
   "execution_count": null,
   "metadata": {},
   "outputs": [],
   "source": [
    "k_z_sol_kz, k_z_sol_sz"
   ]
  },
  {
   "cell_type": "code",
   "execution_count": null,
   "metadata": {},
   "outputs": [],
   "source": [
    "if make_investigation_plots:\n",
    "    from mpl_toolkits import mplot3d\n",
    "    import numpy as np\n",
    "    import matplotlib.pyplot as plt\n",
    "    fig = plt.figure()\n",
    "\n",
    "    ax = plt.axes(projection='3d')\n",
    "    ax.set_xlabel('kz')\n",
    "    ax.set_ylabel('sz')\n",
    "    ax.plot_surface(kz_grid, sz_grid, u, cmap='viridis', edgecolor='none')\n",
    "    ax.set_title('M6_subs_det_re')\n",
    "    plt.show()"
   ]
  },
  {
   "cell_type": "code",
   "execution_count": null,
   "metadata": {},
   "outputs": [],
   "source": [
    "if make_investigation_plots:\n",
    "    from mpl_toolkits import mplot3d\n",
    "    import numpy as np\n",
    "    import matplotlib.pyplot as plt\n",
    "    fig = plt.figure()\n",
    "\n",
    "    ax = plt.axes(projection='3d')\n",
    "    ax.set_xlabel('kz')\n",
    "    ax.set_ylabel('sz')\n",
    "    ax.plot_surface(kz_grid, sz_grid, v, cmap='viridis', edgecolor='none')\n",
    "    ax.set_title('M6_subs_det_im')\n",
    "    plt.show()"
   ]
  },
  {
   "cell_type": "code",
   "execution_count": null,
   "metadata": {},
   "outputs": [],
   "source": [
    "#kz_init_a0_d = kz_init_a0[1].subs(digit_values).rhs()\n",
    "kz_init_a0_d = (omega/c).subs(digit_values)\n",
    "kz_init_a0_d"
   ]
  },
  {
   "cell_type": "code",
   "execution_count": null,
   "metadata": {},
   "outputs": [],
   "source": []
  },
  {
   "cell_type": "markdown",
   "metadata": {},
   "source": [
    "метод ньютона для комплексной функции от комплексного аргумента\n",
    "комплексная функция представляется в виде двух функций: ее действительной и мнимой частей\n",
    "также мы предварительно должны посчитать все четыре варианта первых производных: действительной компоненты функции от обоих компонент аргумента и также и для мнимой части\n",
    "\n",
    "на вход метода find_newton_complex_root() подается:\n",
    "\n",
    "- выражения для действительной и мнимой частей исследуемой комплексной функции\n",
    "\n",
    "- четыре выражения для отношения каждой компоненты комплексной функции к ее производной по каждой компоненте аргумента\n",
    "\n",
    "- символьное представление действительной и мнимой части аргумента\n",
    "\n",
    "- начальные значения действительной и мнимой части аргумента"
   ]
  },
  {
   "cell_type": "code",
   "execution_count": null,
   "metadata": {},
   "outputs": [],
   "source": [
    "class newton_prec():\n",
    "    def __init__(self, M_det_kz_sz, xn_re, xn_im):\n",
    "        self.xn_re = xn_re\n",
    "        self.xn_im = xn_im\n",
    "        # выражения для действительной и мнимой частей исследуемой комплексной функции\n",
    "        self.M_det = M_det_kz_sz\n",
    "\n",
    "        # четыре выражения для производной комплексной функции по каждой компоненте аргумента\n",
    "        self.M_det_diff_kz = self.M_det.diff(kz)\n",
    "        self.M_det_diff_sz = self.M_det.diff(sz)\n",
    "        \n",
    "        #self.grad = vector([self.M_det_diff_kz, self.M_det_diff_sz])\n",
    "\n",
    "        self.jac =  matrix([\n",
    "            [self.M_det_diff_kz.real(), self.M_det_diff_sz.real()],\n",
    "            [self.M_det_diff_kz.imag(), self.M_det_diff_sz.imag()],\n",
    "        ])\n",
    "\n",
    "        self.M_det_diff_kz_kz = self.M_det_diff_kz.diff(kz)\n",
    "        self.M_det_diff_kz_sz = self.M_det_diff_kz.diff(sz)\n",
    "        \n",
    "        self.M_det_diff_sz_kz = self.M_det_diff_sz.diff(kz)\n",
    "        self.M_det_diff_sz_sz = self.M_det_diff_sz.diff(sz)\n",
    "        \n",
    "        #self.gessian = matrix([[self.M_det_diff_kz_kz, self.M_det_diff_kz_sz],\n",
    "        #                       [self.M_det_diff_sz_kz, self.M_det_diff_sz_sz]])\n",
    "\n",
    "        # четыре выражения для отношения каждой компоненты комплексной функции к ее производной по каждой компоненте аргумента\n",
    "        self.M_det_div_diff_kz = (self.M_det / self.M_det_diff_kz)\n",
    "        self.M_det_div_diff_sz = (self.M_det / self.M_det_diff_sz)\n",
    "        \n",
    "        self.M_det_d = self.M_det.subs(digit_values)\n",
    "        \n",
    "        self.jac_d = self.jac.subs(digit_values)\n",
    "\n",
    "        self.M_det_div_diff_kz_d = self.M_det_div_diff_kz.subs(digit_values)\n",
    "        self.M_det_div_diff_sz_d = self.M_det_div_diff_sz.subs(digit_values)\n",
    "\n",
    "    def get_root(self):\n",
    "        return self.xn_re, self.xn_im\n",
    "\n",
    "    # инициализируем метод ньютона значениями найденными графическим методом\n",
    "    def prec_root(self, nsteps = 100):\n",
    "        self.find_newton_complex_root(nsteps = nsteps)\n",
    "\n",
    "    def find_newton_complex_root(self, nsteps):\n",
    "    \n",
    "        f = self.M_det_d\n",
    "        f_div_df_re = self.M_det_div_diff_kz_d\n",
    "        f_div_df_im = self.M_det_div_diff_sz_d\n",
    "        xre = kz\n",
    "        xim = sz\n",
    "        self.xn_re = self.xn_re\n",
    "        self.xn_im = self.xn_im\n",
    "        \n",
    "        def NewtonIt(f_div_df, x, xn, step, re):\n",
    "            print(\"xn\", xn)\n",
    "            #print(\"(f/df)\", f_div_df)\n",
    "\n",
    "            #delta = (f/df).subs(x == xn)\n",
    "            if True == re:\n",
    "                delta = f_div_df.subs(x == xn).n().real()\n",
    "            else:\n",
    "                delta = f_div_df.subs(x == xn).n().imag()\n",
    "\n",
    "            #print(\"delta\", delta)\n",
    "            #print(\"step\", step)\n",
    "            step_delta = step*delta\n",
    "            print(\"step_delta\", step_delta)\n",
    "\n",
    "            res = xn-step_delta\n",
    "            #print (\"res\", res)\n",
    "            return res, step_delta\n",
    "\n",
    "        logging = False\n",
    "\n",
    "        if logging:\n",
    "            print (\"xre\", xre)\n",
    "            print (\"xim\", xim)\n",
    "            print (\"xn_re\", self.xn_re)\n",
    "            print (\"xn_im\", self.xn_im)\n",
    "            #print (\"f_div_df_re\", f_div_df_re)\n",
    "            #print (\"f_div_df_im\", f_div_df_im)\n",
    "\n",
    "        step_init = np.float128(0.95)\n",
    "\n",
    "        step_re_im = step_init\n",
    "        step_im_im = step_init\n",
    "        step_re_re = step_init\n",
    "        step_im_re = step_init\n",
    "\n",
    "        step__m = np.float128(0.1)\n",
    "        step_m = np.float128(0.2)\n",
    "        abs_m = np.float128(1.0)\n",
    "\n",
    "        delta_epsilon = np.float128(1e-32)\n",
    "        f_abs_epsilon = np.float128(1e-16)\n",
    "\n",
    "        f_new = f.subs(xre == self.xn_re).subs(xim == self.xn_im).n()\n",
    "        if logging:\n",
    "            print(\"\\nf_new = \", f_new)\n",
    "\n",
    "        f_abs = f_new.abs()\n",
    "\n",
    "        if logging:\n",
    "            print(\"\\nf_abs = \", f_abs)\n",
    "        N = 10\n",
    "\n",
    "        for i in range(nsteps):\n",
    "            n = N\n",
    "            while n > 0:\n",
    "                n = n-1\n",
    "                if logging:\n",
    "                    print(\"\\nre_d_re xn = \", self.xn_re, self.xn_im, \"step = \", step_re_re)\n",
    "\n",
    "                xn_re_new, delta_re_re = NewtonIt(f_div_df_re.subs(xim == self.xn_im), xre, self.xn_re, step_re_re, re=True)\n",
    "                f_new = f.subs(xre == xn_re_new).subs(xim == self.xn_im).n()\n",
    "                f_abs_new = f_new.abs()\n",
    "\n",
    "\n",
    "                if logging:\n",
    "                    print(\"f_abs_new\", f_abs_new)\n",
    "\n",
    "                if f_abs_new > abs_m*f_abs:\n",
    "                    step_re_re *= step__m\n",
    "                    continue\n",
    "                else:\n",
    "                    self.xn_re = xn_re_new\n",
    "                    f_abs = f_abs_new\n",
    "                    if step_re_re < 0.9:\n",
    "                        step_re_re /= step_m\n",
    "\n",
    "                    print (\"f_new\", f_new)\n",
    "                    print(\"f_abs_new\", f_abs_new)\n",
    "                    break\n",
    "\n",
    "            n = N\n",
    "            while n > 0:\n",
    "                n = n-1\n",
    "                if logging:\n",
    "                    print(\"\\nim_d_re xn = \", self.xn_re, self.xn_im, \"step = \", step_im_re)\n",
    "\n",
    "                xn_re_new, delta_im_re = NewtonIt(f_div_df_re.subs(xim == self.xn_im), xre, self.xn_re, step_im_re, re=False)\n",
    "                f_new = f.subs(xre == xn_re_new).subs(xim == self.xn_im).n()\n",
    "                f_abs_new = f_new.abs()\n",
    "\n",
    "                if logging:\n",
    "                    print(\"f_abs_new\", f_abs_new)\n",
    "\n",
    "                if f_abs_new > abs_m*f_abs:\n",
    "                    step_im_re *= step__m\n",
    "                    continue\n",
    "                else:\n",
    "                    self.xn_re = xn_re_new\n",
    "                    f_abs = f_abs_new\n",
    "                    if step_im_re < 0.9:\n",
    "                        step_im_re /= step_m\n",
    "\n",
    "                    print (\"f_new\", f_new)\n",
    "                    print(\"f_abs_new\", f_abs_new)\n",
    "                    break\n",
    "\n",
    "            n = N\n",
    "            while n > 0:\n",
    "                n = n-1\n",
    "                if logging:\n",
    "                    print(\"\\nre_d_im xn = \", self.xn_re, self.xn_im, \"step = \", step_re_im)\n",
    "\n",
    "                xn_im_new, delta_re_im = NewtonIt(f_div_df_im.subs(xre == self.xn_re), xim, self.xn_im, step_re_im, re=True)\n",
    "                f_new = f.subs(xre == self.xn_re).subs(xim == xn_im_new).n()\n",
    "                f_abs_new = f_new.abs()\n",
    "\n",
    "                if logging:\n",
    "                    print(\"f_abs_new\", f_abs_new)\n",
    "\n",
    "                if f_abs_new > abs_m*f_abs:\n",
    "                    step_re_im *= step__m\n",
    "                    continue\n",
    "                else:\n",
    "                    self.xn_im = xn_im_new\n",
    "                    f_abs = f_abs_new\n",
    "                    if step_re_im < 0.9:\n",
    "                        step_re_im /= step_m\n",
    "\n",
    "                    print (\"f_new\", f_new)\n",
    "                    print(\"f_abs_new\", f_abs_new)\n",
    "                    break\n",
    "\n",
    "            n = N\n",
    "            while n > 0:\n",
    "                n = n-1\n",
    "                if logging:\n",
    "                    print(\"\\nim_d_im xn = \", xn_re, xn_im, \"step = \", step_im_im)\n",
    "\n",
    "                xn_im_new, delta_im_im = NewtonIt(f_div_df_im.subs(xre == self.xn_re), xim, self.xn_im, step_im_im, re=False)\n",
    "                f_new = f.subs(xre == self.xn_re).subs(xim == xn_im_new).n()\n",
    "                f_abs_new = f_new.abs()\n",
    "\n",
    "                if logging:\n",
    "                    print(\"f_abs_new\", f_abs_new)\n",
    "\n",
    "                if f_abs_new > abs_m*f_abs:\n",
    "                    step_im_im *= step__m\n",
    "                    continue\n",
    "                else:\n",
    "                    self.xn_im = xn_im_new\n",
    "                    f_abs = f_abs_new\n",
    "                    if step_im_im < 0.9:\n",
    "                        step_im_im /= step_m\n",
    "\n",
    "                    print (\"f_new\", f_new)\n",
    "                    print(\"f_abs_new\", f_abs_new)\n",
    "                    break\n",
    "\n",
    "            if abs(delta_re_re) < delta_epsilon and \\\n",
    "               abs(delta_re_im) < delta_epsilon and \\\n",
    "               abs(delta_im_re) < delta_epsilon and \\\n",
    "               abs(delta_im_im) < delta_epsilon:\n",
    "                print(\"algorithm finished via delta_epsilon\",\n",
    "                      delta_re_re,\n",
    "                      delta_re_im,\n",
    "                      delta_im_re,\n",
    "                      delta_im_im\n",
    "                     )\n",
    "                break\n",
    "            if f_abs < f_abs_epsilon:\n",
    "                print(\"algorithm finished via f_abs_epsilon\",\n",
    "                      f_abs\n",
    "                     )\n",
    "                break\n",
    "\n",
    "\n",
    "    def find_newton_root(self, nsteps):\n",
    "    \n",
    "        f = self.M_det_d\n",
    "        f_div_df_re = self.M_det_div_diff_kz_d\n",
    "        f_div_df_im = self.M_det_div_diff_sz_d\n",
    "        xre = kz\n",
    "        xim = sz\n",
    "        self.xn_re = self.xn_re\n",
    "        self.xn_im = self.xn_im\n",
    "        \n",
    "        def NewtonIt(f_div_df, x, xn, step):\n",
    "            print(\"xn\", xn)\n",
    "            #print(\"(f/df)\", f_div_df)\n",
    "\n",
    "            #delta = (f/df).subs(x == xn)\n",
    "            delta = f_div_df.subs(x == xn).n().abs()\n",
    "\n",
    "            #print(\"delta\", delta)\n",
    "            #print(\"step\", step)\n",
    "            step_delta = step*delta\n",
    "            print(\"step_delta\", step_delta)\n",
    "\n",
    "            res = xn-step_delta\n",
    "            #print (\"res\", res)\n",
    "            return res, step_delta\n",
    "\n",
    "        logging = False\n",
    "\n",
    "        if logging:\n",
    "            print (\"xre\", xre)\n",
    "            print (\"xim\", xim)\n",
    "            print (\"xn_re\", self.xn_re)\n",
    "            print (\"xn_im\", self.xn_im)\n",
    "            #print (\"f_div_df_re\", f_div_df_re)\n",
    "            #print (\"f_div_df_im\", f_div_df_im)\n",
    "\n",
    "        step_init = np.float128(0.095)\n",
    "\n",
    "        step_re_im = step_init\n",
    "        step_re_re = step_init\n",
    "\n",
    "        step__m = np.float128(0.1)\n",
    "        step_m = np.float128(0.2)\n",
    "        abs_m = np.float128(1.0)\n",
    "\n",
    "        delta_epsilon = np.float128(1e-32)\n",
    "        f_abs_epsilon = np.float128(1e-32)\n",
    "\n",
    "        f_new = f.subs(xre == self.xn_re).subs(xim == self.xn_im).n()\n",
    "        print(\"\\nf_new = \", f_new)\n",
    "\n",
    "        f_abs = f_new.abs()\n",
    "        print(\"\\nf_abs = \", f_abs)\n",
    "        \n",
    "        N = 10\n",
    "\n",
    "        for i in range(nsteps):\n",
    "            n = N\n",
    "            while n > 0:\n",
    "                n = n-1\n",
    "                if logging:\n",
    "                    print(\"\\nre_d_re xn = \", self.xn_re, self.xn_im, \"step = \", step_re_re)\n",
    "\n",
    "                xn_re_new, delta_re_re = NewtonIt(f_div_df_re.subs(xim == self.xn_im), xre, self.xn_re, step_re_re)\n",
    "                f_new = f.subs(xre == xn_re_new).subs(xim == self.xn_im).n()\n",
    "                f_abs_new = f_new.abs()\n",
    "\n",
    "\n",
    "                if logging:\n",
    "                    print(\"f_abs_new\", f_abs_new)\n",
    "\n",
    "                if f_abs_new > abs_m*f_abs:\n",
    "                    step_re_re *= step__m\n",
    "                    continue\n",
    "                else:\n",
    "                    self.xn_re = xn_re_new\n",
    "                    f_abs = f_abs_new\n",
    "                    if step_re_re < 0.9:\n",
    "                        step_re_re /= step_m\n",
    "\n",
    "                    print (\"f_new\", f_new)\n",
    "                    print(\"f_abs_new\", f_abs_new)\n",
    "                    break\n",
    "\n",
    "            n = N\n",
    "            while n > 0:\n",
    "                n = n-1\n",
    "                if logging:\n",
    "                    print(\"\\nre_d_im xn = \", self.xn_re, self.xn_im, \"step = \", step_re_im)\n",
    "\n",
    "                xn_im_new, delta_re_im = NewtonIt(f_div_df_im.subs(xre == self.xn_re), xim, self.xn_im, step_re_im)\n",
    "                f_new = f.subs(xre == self.xn_re).subs(xim == xn_im_new).n()\n",
    "                f_abs_new = f_new.abs()\n",
    "\n",
    "                if logging:\n",
    "                    print(\"f_abs_new\", f_abs_new)\n",
    "\n",
    "                if f_abs_new > abs_m*f_abs:\n",
    "                    step_re_im *= step__m\n",
    "                    continue\n",
    "                else:\n",
    "                    self.xn_im = xn_im_new\n",
    "                    f_abs = f_abs_new\n",
    "                    if step_re_im < 0.9:\n",
    "                        step_re_im /= step_m\n",
    "\n",
    "                    print (\"f_new\", f_new)\n",
    "                    print(\"f_abs_new\", f_abs_new)\n",
    "                    break\n",
    "\n",
    "            if abs(delta_re_re) < delta_epsilon and \\\n",
    "               abs(delta_re_im) < delta_epsilon:\n",
    "                print(\"algorithm finished via delta_epsilon\",\n",
    "                      delta_re_re,\n",
    "                      delta_re_im\n",
    "                     )\n",
    "                break\n",
    "            if f_abs < f_abs_epsilon:\n",
    "                print(\"algorithm finished via f_abs_epsilon\",\n",
    "                      f_abs\n",
    "                     )\n",
    "                break\n",
    "\n",
    "    def find_newton_grad_root(self, nsteps):\n",
    "    \n",
    "        f = self.M_det_d\n",
    "        f_div_df_re = self.M_det_div_diff_kz_d\n",
    "        f_div_df_im = self.M_det_div_diff_sz_d\n",
    "        xre = kz\n",
    "        xim = sz\n",
    "        self.xn_re = self.xn_re\n",
    "        self.xn_im = self.xn_im\n",
    "        \n",
    "        def NewtonIt(xre, xn_re, xim, xn_im, step):\n",
    "            print(\"xn\", xn_re, xn_im)\n",
    "            #print(\"(f/df)\", f_div_df)\n",
    "\n",
    "            #delta = (f/df).subs(x == xn)\n",
    "            delta_re = f_div_df_re.subs(xre == xn_re, xim == xn_im).n().abs()\n",
    "            delta_im = f_div_df_im.subs(xre == xn_re, xim == xn_im).n().abs()\n",
    "\n",
    "            #print(\"delta\", delta)\n",
    "            #print(\"step\", step)\n",
    "            step_delta_re = step*delta_re\n",
    "            step_delta_im = step*delta_im\n",
    "            print(\"step_delta\", step_delta_re, step_delta_im)\n",
    "\n",
    "            res_re = xn_re-step_delta_re\n",
    "            res_im = xn_im-step_delta_im\n",
    "            #print (\"res\", res)\n",
    "            return res_re, res_im, step_delta_re, step_delta_im\n",
    "\n",
    "        logging = False\n",
    "\n",
    "        if logging:\n",
    "            print (\"xre\", xre)\n",
    "            print (\"xim\", xim)\n",
    "            print (\"xn_re\", self.xn_re)\n",
    "            print (\"xn_im\", self.xn_im)\n",
    "            #print (\"f_div_df_re\", f_div_df_re)\n",
    "            #print (\"f_div_df_im\", f_div_df_im)\n",
    "\n",
    "        step_init = np.float128(0.095)\n",
    "\n",
    "        step_re_im = step_init\n",
    "        step_re_re = step_init\n",
    "\n",
    "        step__m = np.float128(0.1)\n",
    "        step_m = np.float128(0.2)\n",
    "        abs_m = np.float128(1.0)\n",
    "\n",
    "        delta_epsilon = np.float128(1e-32)\n",
    "        f_abs_epsilon = np.float128(1e-32)\n",
    "\n",
    "        f_new = f.subs(xre == self.xn_re).subs(xim == self.xn_im).n()\n",
    "        print(\"\\nf_new = \", f_new)\n",
    "\n",
    "        f_abs = f_new.abs()\n",
    "        print(\"\\nf_abs = \", f_abs)\n",
    "        \n",
    "        N = 10\n",
    "\n",
    "        for i in range(nsteps):\n",
    "            n = N\n",
    "            while n > 0:\n",
    "                n = n-1\n",
    "                if logging:\n",
    "                    print(\"\\nre_d_re xn = \", self.xn_re, self.xn_im, \"step = \", step_re_re)\n",
    "\n",
    "                xn_re_new, xn_im_new, delta_re_re, delta_re_im = \\\n",
    "                    NewtonIt(xre, self.xn_re, xim, self.xn_im, step_re_re)\n",
    "                f_new = f.subs(xre == xn_re_new).subs(xim == xn_im_new).n()\n",
    "                f_abs_new = f_new.abs()\n",
    "\n",
    "\n",
    "                if logging:\n",
    "                    print(\"f_abs_new\", f_abs_new)\n",
    "\n",
    "                if f_abs_new > abs_m*f_abs:\n",
    "                    step_re_re *= step__m\n",
    "                    continue\n",
    "                else:\n",
    "                    self.xn_re = xn_re_new\n",
    "                    self.xn_im = xn_im_new\n",
    "                    f_abs = f_abs_new\n",
    "                    if step_re_re < 0.9:\n",
    "                        step_re_re /= step_m\n",
    "\n",
    "                    print (\"f_new\", f_new)\n",
    "                    print(\"f_abs_new\", f_abs_new)\n",
    "                    break\n",
    "\n",
    "\n",
    "            if abs(delta_re_re) < delta_epsilon and \\\n",
    "               abs(delta_re_im) < delta_epsilon:\n",
    "                print(\"algorithm finished via delta_epsilon\",\n",
    "                      delta_re_re,\n",
    "                      delta_re_im\n",
    "                     )\n",
    "                break\n",
    "            if f_abs < f_abs_epsilon:\n",
    "                print(\"algorithm finished via f_abs_epsilon\",\n",
    "                      f_abs\n",
    "                     )\n",
    "                break\n"
   ]
  },
  {
   "cell_type": "code",
   "execution_count": null,
   "metadata": {},
   "outputs": [],
   "source": [
    "k_z_sol_kz, k_z_sol_sz"
   ]
  },
  {
   "cell_type": "markdown",
   "metadata": {},
   "source": [
    "инициализируем метод ньютона значениями найденными графическим методом"
   ]
  },
  {
   "cell_type": "code",
   "execution_count": null,
   "metadata": {},
   "outputs": [],
   "source": [
    "use_newton_prec = True"
   ]
  },
  {
   "cell_type": "code",
   "execution_count": null,
   "metadata": {},
   "outputs": [],
   "source": [
    "if use_newton_prec:\n",
    "    my_newton_prec = newton_prec(M_det_kz_sz = M8_det_subs_k_z_d, xn_re = k_z_sol_kz, xn_im = k_z_sol_sz)"
   ]
  },
  {
   "cell_type": "code",
   "execution_count": null,
   "metadata": {},
   "outputs": [],
   "source": [
    "if use_newton_prec:\n",
    "    my_newton_prec.find_newton_complex_root(nsteps = 100)"
   ]
  },
  {
   "cell_type": "raw",
   "metadata": {},
   "source": [
    "if use_newton_prec:\n",
    "    my_newton_prec.find_newton_root(nsteps = 100)"
   ]
  },
  {
   "cell_type": "raw",
   "metadata": {},
   "source": [
    "if use_newton_prec:\n",
    "    my_newton_prec.find_newton_grad_root(nsteps = 100)"
   ]
  },
  {
   "cell_type": "code",
   "execution_count": null,
   "metadata": {},
   "outputs": [],
   "source": [
    "if use_newton_prec:\n",
    "    k_z_root = my_newton_prec.get_root()\n",
    "    k_z_sol = [kz == k_z_root[0],   sz == k_z_root[1],\n",
    "               k_z == k_z_root[0] + I * k_z_root[1]]\n",
    "else:\n",
    "    k_z_sol = [kz  == k_z_sol_kz, sz == k_z_sol_sz,\n",
    "               k_z == k_z_sol_kz + I * k_z_sol_sz]"
   ]
  },
  {
   "cell_type": "code",
   "execution_count": null,
   "metadata": {},
   "outputs": [],
   "source": [
    "if use_newton_prec:\n",
    "    print(k_z_root)"
   ]
  },
  {
   "cell_type": "code",
   "execution_count": null,
   "metadata": {},
   "outputs": [],
   "source": [
    "k_z_sol"
   ]
  },
  {
   "cell_type": "markdown",
   "metadata": {},
   "source": [
    "Итак, графическим методом как точку пересечения двух нулевых изолиний на контурных графиках зависимости действительной и мнимой компонент детерминанта от действительной и мнимой компонент волнового вектора, были найдены приблизительные значения действительной и мнимой компонент волнового вектора, которые затем в итерационной процедуре были уточнены методом градиентного спуска Ньютона"
   ]
  },
  {
   "cell_type": "code",
   "execution_count": null,
   "metadata": {},
   "outputs": [],
   "source": []
  },
  {
   "cell_type": "code",
   "execution_count": null,
   "metadata": {
    "scrolled": true
   },
   "outputs": [],
   "source": [
    "M8_d = M8 \\\n",
    "    .subs(K_vacuum_subs) \\\n",
    "    .subs(K_left_conductor_subs) \\\n",
    "    .subs(K_right_conductor_subs) \\\n",
    "    .subs(kappa_vacuum_sol) \\\n",
    "    .subs(kappa_l_sol) \\\n",
    "    .subs(kappa_r_sol) \\\n",
    "    .subs(digit_values) \\\n",
    "    .subs(k_z_sol)"
   ]
  },
  {
   "cell_type": "code",
   "execution_count": null,
   "metadata": {},
   "outputs": [],
   "source": [
    "M8_d.variables()"
   ]
  },
  {
   "cell_type": "code",
   "execution_count": null,
   "metadata": {},
   "outputs": [],
   "source": [
    "M8_d.det().n()"
   ]
  },
  {
   "cell_type": "code",
   "execution_count": null,
   "metadata": {},
   "outputs": [],
   "source": [
    "M8_ReIm_d = M8_ReIm \\\n",
    "    .subs(K_vacuum_subs) \\\n",
    "    .subs(K_left_conductor_subs) \\\n",
    "    .subs(K_right_conductor_subs) \\\n",
    "    .subs(kappa_vacuum_sol) \\\n",
    "    .subs(kappa_l_sol) \\\n",
    "    .subs(kappa_r_sol) \\\n",
    "    .subs(digit_values) \\\n",
    "    .subs(k_z_sol).n()"
   ]
  },
  {
   "cell_type": "code",
   "execution_count": null,
   "metadata": {},
   "outputs": [],
   "source": [
    "disp(M8_ReIm_d.n())"
   ]
  },
  {
   "cell_type": "code",
   "execution_count": null,
   "metadata": {},
   "outputs": [],
   "source": []
  },
  {
   "cell_type": "code",
   "execution_count": null,
   "metadata": {},
   "outputs": [],
   "source": [
    "# искомые коэффициенты интенсивности полей\n",
    "X8_ReIm = vector(vars8reim)\n",
    "print(X8_ReIm)"
   ]
  },
  {
   "cell_type": "code",
   "execution_count": null,
   "metadata": {},
   "outputs": [],
   "source": [
    "# умножая матрицу системы уравнений\n",
    "# на вектор искомых коэффициентов интенсивности полей\n",
    "# находим систему 16 уравнений для нахождения\n",
    "# коэффициентов интенсивности полей\n",
    "\n",
    "M8_ReIm_d_X = M8_ReIm_d * X8_ReIm\n",
    "# print(M8_ReIm_d_X)"
   ]
  },
  {
   "cell_type": "markdown",
   "metadata": {},
   "source": [
    "поскольку детерминант матрицы нулевой для нахождения нетривиального решения назначим числовое значение одному из 6-ти неизвестных коэффициентов"
   ]
  },
  {
   "cell_type": "code",
   "execution_count": null,
   "metadata": {},
   "outputs": [],
   "source": [
    "# для решения системы уравнений\n",
    "# на вектор искомых коэффициентов интенсивности полей\n",
    "# устанавливаем один из 16 искомых коэффициентов в 1\n",
    "A1_x_re_d = np.float128(1)"
   ]
  },
  {
   "cell_type": "code",
   "execution_count": null,
   "metadata": {},
   "outputs": [],
   "source": [
    "colomn_to_remove = 4\n",
    "columns = [0,1,2,3,4,5,6,7,8,9,10,11,12,13,14,15]\n",
    "columns.remove(colomn_to_remove)\n",
    "columns"
   ]
  },
  {
   "cell_type": "markdown",
   "metadata": {},
   "source": [
    "Вычеркивая из матрицы соответствующую переменной $A_x_{re}$ колонку получаем матрицу переопределённой системы уравнений"
   ]
  },
  {
   "cell_type": "code",
   "execution_count": null,
   "metadata": {},
   "outputs": [],
   "source": [
    "vM15 = M8_ReIm_d.delete_columns([colomn_to_remove])\n",
    "show(vM15)"
   ]
  },
  {
   "cell_type": "markdown",
   "metadata": {},
   "source": [
    "Создаем правую часть переопределённой системы уравнений"
   ]
  },
  {
   "cell_type": "code",
   "execution_count": null,
   "metadata": {},
   "outputs": [],
   "source": [
    "Y16 = - A1_x_re_d * M8_ReIm_d.delete_columns(columns)\n",
    "Y16"
   ]
  },
  {
   "cell_type": "markdown",
   "metadata": {},
   "source": [
    "Решаем переопределённую систему уравнений"
   ]
  },
  {
   "cell_type": "code",
   "execution_count": null,
   "metadata": {},
   "outputs": [],
   "source": [
    "X15_solve_right = vM15.solve_right(Y16)\n",
    "X15_solve_right"
   ]
  },
  {
   "cell_type": "markdown",
   "metadata": {},
   "source": [
    "тестируем найденное решение"
   ]
  },
  {
   "cell_type": "code",
   "execution_count": null,
   "metadata": {},
   "outputs": [],
   "source": [
    "Err_16_solve_right = vM15*X15_solve_right-Y16\n",
    "sum_of_squares_solve_right = Err_16_solve_right.norm()\n",
    "Err_16_solve_right, sum_of_squares_solve_right"
   ]
  },
  {
   "cell_type": "markdown",
   "metadata": {},
   "source": [
    "Решаем переопределённую систему уравнений методом псевдообратной матрицы"
   ]
  },
  {
   "cell_type": "code",
   "execution_count": null,
   "metadata": {},
   "outputs": [],
   "source": [
    "def pseudo_inverse(mat) :\n",
    "    from scipy import linalg\n",
    "    return matrix(linalg.pinv(mat))"
   ]
  },
  {
   "cell_type": "code",
   "execution_count": null,
   "metadata": {},
   "outputs": [],
   "source": [
    "X15_pseudo_inverse = pseudo_inverse(vM15)*Y16\n",
    "X15_pseudo_inverse"
   ]
  },
  {
   "cell_type": "markdown",
   "metadata": {},
   "source": [
    "тестируем найденное решение"
   ]
  },
  {
   "cell_type": "code",
   "execution_count": null,
   "metadata": {},
   "outputs": [],
   "source": [
    "Err_16_pseudo_inverse = vM15*X15_pseudo_inverse-Y16\n",
    "sum_of_squares_pseudo_inverse = Err_16_pseudo_inverse.norm()\n",
    "Err_16_pseudo_inverse, sum_of_squares_pseudo_inverse"
   ]
  },
  {
   "cell_type": "markdown",
   "metadata": {},
   "source": [
    "Выбираем решение с наименьшей ошибкой"
   ]
  },
  {
   "cell_type": "code",
   "execution_count": null,
   "metadata": {},
   "outputs": [],
   "source": [
    "if sum_of_squares_pseudo_inverse < sum_of_squares_solve_right:\n",
    "    X15 = X15_pseudo_inverse\n",
    "else:\n",
    "    X15 = X15_solve_right"
   ]
  },
  {
   "cell_type": "markdown",
   "metadata": {},
   "source": [
    "вставляем в вектор найденного решения изначально назначенный коэффициент"
   ]
  },
  {
   "cell_type": "code",
   "execution_count": null,
   "metadata": {},
   "outputs": [],
   "source": [
    "X15_list = X15.list()\n",
    "X15_list.insert(colomn_to_remove, A1_x_re_d)\n",
    "X16 = vector(X15_list)\n",
    "X16"
   ]
  },
  {
   "cell_type": "markdown",
   "metadata": {},
   "source": [
    "ещё раз тестируем найденное решение"
   ]
  },
  {
   "cell_type": "code",
   "execution_count": null,
   "metadata": {},
   "outputs": [],
   "source": [
    "Err_16 = M8_ReIm_d*X16\n",
    "sum_of_squares = Err_16.norm()\n",
    "Err_16.list(), sum_of_squares"
   ]
  },
  {
   "cell_type": "code",
   "execution_count": null,
   "metadata": {},
   "outputs": [],
   "source": []
  },
  {
   "cell_type": "code",
   "execution_count": null,
   "metadata": {},
   "outputs": [],
   "source": [
    "# получаем значения оставшихся искомых коэффициентов интенсивности полей\n",
    "coeffs_subs = []\n",
    "for i in range(len(X16)):\n",
    "    coeffs_subs += [vars8reim[i] == X16[i]]\n",
    "coeffs_subs"
   ]
  },
  {
   "cell_type": "code",
   "execution_count": null,
   "metadata": {},
   "outputs": [],
   "source": []
  },
  {
   "cell_type": "code",
   "execution_count": null,
   "metadata": {},
   "outputs": [],
   "source": []
  },
  {
   "cell_type": "code",
   "execution_count": null,
   "metadata": {},
   "outputs": [],
   "source": [
    "K_vacuum_subs_d = K_vacuum_subs.subs(kappa_vacuum_sol).subs(k_z_sol).subs(digit_values)\n",
    "K_vacuum_subs_d"
   ]
  },
  {
   "cell_type": "code",
   "execution_count": null,
   "metadata": {},
   "outputs": [],
   "source": [
    "K_vacuum_subs_d.rhs().n()"
   ]
  },
  {
   "cell_type": "code",
   "execution_count": null,
   "metadata": {},
   "outputs": [],
   "source": [
    "K_left_conductor_subs_d = K_left_conductor_subs.subs(kappa_vacuum_sol).subs(kappa_l_sol).subs(k_z_sol).subs(digit_values)\n",
    "K_left_conductor_subs_d"
   ]
  },
  {
   "cell_type": "code",
   "execution_count": null,
   "metadata": {},
   "outputs": [],
   "source": [
    "K_right_conductor_subs_d = K_right_conductor_subs.subs(kappa_vacuum_sol).subs(kappa_r_sol).subs(k_z_sol).subs(digit_values)\n",
    "K_right_conductor_subs_d"
   ]
  },
  {
   "cell_type": "code",
   "execution_count": null,
   "metadata": {},
   "outputs": [],
   "source": [
    "K_left_conductor_subs_d.rhs().n()"
   ]
  },
  {
   "cell_type": "code",
   "execution_count": null,
   "metadata": {},
   "outputs": [],
   "source": [
    "K_right_conductor_subs_d.rhs().n()"
   ]
  },
  {
   "cell_type": "code",
   "execution_count": null,
   "metadata": {},
   "outputs": [],
   "source": [
    "K_vacuum_subs_d"
   ]
  },
  {
   "cell_type": "markdown",
   "metadata": {},
   "source": [
    "знак перед корнем будем всегда выбирать так, чтобы корень имел положительнею мнимую часть (Зоммерфельд, Электродинамика, параграф 20, Б)"
   ]
  },
  {
   "cell_type": "raw",
   "metadata": {},
   "source": [
    "if K_left_conductor_subs_d.rhs().n().imag() < 0:\n",
    "    K_left_conductor_subs_d = K_left_conductor_subs_d.lhs() == - K_left_conductor_subs_d.rhs()"
   ]
  },
  {
   "cell_type": "raw",
   "metadata": {},
   "source": [
    "if K_right_conductor_subs_d.rhs().n().imag() < 0:\n",
    "    K_right_conductor_subs_d = K_right_conductor_subs_d.lhs() == - K_right_conductor_subs_d.rhs()"
   ]
  },
  {
   "cell_type": "raw",
   "metadata": {},
   "source": [
    "if K_right_conductor_subs_d.rhs().n().imag() > 0:\n",
    "    K_right_conductor_subs_d = K_right_conductor_subs_d.lhs() == - K_right_conductor_subs_d.rhs()"
   ]
  },
  {
   "cell_type": "code",
   "execution_count": null,
   "metadata": {},
   "outputs": [],
   "source": [
    "K_right_conductor_subs_d.rhs().n()"
   ]
  },
  {
   "cell_type": "code",
   "execution_count": null,
   "metadata": {},
   "outputs": [],
   "source": [
    "if K_vacuum_subs_d.rhs().n().imag() < 0:\n",
    "    K_vacuum_subs_d = K_vacuum_subs_d.lhs() == - K_vacuum_subs_d.rhs()"
   ]
  },
  {
   "cell_type": "code",
   "execution_count": null,
   "metadata": {},
   "outputs": [],
   "source": [
    "K_vacuum_subs_d"
   ]
  },
  {
   "cell_type": "code",
   "execution_count": null,
   "metadata": {},
   "outputs": [],
   "source": [
    "eq_7_Ex_l"
   ]
  },
  {
   "cell_type": "raw",
   "metadata": {},
   "source": [
    "Ex_left_conductor  = (eq_7_Ex_l_subs2.rhs())\n",
    "Ex_right_conductor = (eq_7_Ex_r_subs2.rhs())\n",
    "Ex_vacuum          = (eq_5_subs3.rhs())"
   ]
  },
  {
   "cell_type": "code",
   "execution_count": null,
   "metadata": {},
   "outputs": [],
   "source": [
    "Dx_left_conductor  = Ex_left_conductor * epsilon_l_complex\n",
    "Dx_right_conductor = Ex_right_conductor * epsilon_r_complex\n",
    "Dx_vacuum          = Ex_vacuum"
   ]
  },
  {
   "cell_type": "code",
   "execution_count": null,
   "metadata": {},
   "outputs": [],
   "source": [
    "disp(Dx_right_conductor)"
   ]
  },
  {
   "cell_type": "code",
   "execution_count": null,
   "metadata": {},
   "outputs": [],
   "source": [
    "Ex_left_conductor_subs  = Ex_left_conductor.subs(K_left_conductor_subs_d).subs(kappa_vacuum_sol).subs(kappa_l_sol).subs(k_z_sol)\n",
    "Ex_right_conductor_subs = Ex_right_conductor.subs(K_right_conductor_subs_d).subs(kappa_vacuum_sol).subs(kappa_r_sol).subs(k_z_sol)\n",
    "Ex_vacuum_subs          = Ex_vacuum       .subs(K_vacuum_subs_d)   .subs(kappa_vacuum_sol).subs(kappa_l_sol).subs(k_z_sol)"
   ]
  },
  {
   "cell_type": "code",
   "execution_count": null,
   "metadata": {},
   "outputs": [],
   "source": [
    "Dx_left_conductor_subs  = Ex_left_conductor_subs * epsilon_l_complex\n",
    "Dx_right_conductor_subs = Ex_right_conductor_subs * epsilon_r_complex\n",
    "Dx_vacuum_subs          = Ex_vacuum_subs"
   ]
  },
  {
   "cell_type": "code",
   "execution_count": null,
   "metadata": {},
   "outputs": [],
   "source": []
  },
  {
   "cell_type": "raw",
   "metadata": {},
   "source": [
    "Hy_left_conductor  = c * (eq_8_l_subs3.rhs()*kappa_l    / (mu_l  *omega))\n",
    "Hy_right_conductor = c * (eq_8_r_subs3.rhs()*kappa_r    / (mu_r  *omega))\n",
    "Hy_vacuum          = c * (eq_6_subs3.rhs()*kappa_vacuum / (mu_0*omega))"
   ]
  },
  {
   "cell_type": "code",
   "execution_count": null,
   "metadata": {},
   "outputs": [],
   "source": [
    "Hy_left_conductor_subs  = Hy_left_conductor .subs(K_left_conductor_subs_d).subs(kappa_vacuum_sol).subs(kappa_l_sol).subs(k_z_sol)\n",
    "Hy_right_conductor_subs = Hy_right_conductor.subs(K_right_conductor_subs_d).subs(kappa_vacuum_sol).subs(kappa_r_sol).subs(k_z_sol)\n",
    "Hy_vacuum_subs          = Hy_vacuum         .subs(K_vacuum_subs_d)   .subs(kappa_vacuum_sol).subs(kappa_l_sol).subs(k_z_sol)"
   ]
  },
  {
   "cell_type": "code",
   "execution_count": null,
   "metadata": {},
   "outputs": [],
   "source": [
    "Ex_left_conductor_d  = Ex_left_conductor_subs .subs(digit_values).subs([B1_zl_re_im_subs]).subs(coeffs_subs)\n",
    "Ex_right_conductor_d = Ex_right_conductor_subs.subs(digit_values).subs([B1_zr_re_im_subs]).subs(coeffs_subs)\n",
    "Ex_vacuum_d          = Ex_vacuum_subs         .subs(digit_values).subs([A1_z_re_im_subs,A2_z_re_im_subs]).subs(coeffs_subs)"
   ]
  },
  {
   "cell_type": "code",
   "execution_count": null,
   "metadata": {},
   "outputs": [],
   "source": [
    "Dx_left_conductor_d  = Dx_left_conductor_subs .subs(digit_values).subs([B1_zl_re_im_subs]).subs(coeffs_subs)\n",
    "Dx_right_conductor_d = Dx_right_conductor_subs.subs(digit_values).subs([B1_zr_re_im_subs]).subs(coeffs_subs)\n",
    "Dx_vacuum_d          = Dx_vacuum_subs         .subs(digit_values).subs([A1_z_re_im_subs, A2_z_re_im_subs]).subs(coeffs_subs)"
   ]
  },
  {
   "cell_type": "code",
   "execution_count": null,
   "metadata": {},
   "outputs": [],
   "source": []
  },
  {
   "cell_type": "code",
   "execution_count": null,
   "metadata": {},
   "outputs": [],
   "source": [
    "Hy_left_conductor_d  = Hy_left_conductor_subs .subs(digit_values).subs([B1_zl_re_im_subs]).subs(coeffs_subs)\n",
    "Hy_right_conductor_d = Hy_right_conductor_subs.subs(digit_values).subs([B1_zr_re_im_subs]).subs(coeffs_subs)\n",
    "Hy_vacuum_d          = Hy_vacuum_subs         .subs(digit_values).subs([A1_z_re_im_subs,A2_z_re_im_subs]).subs(coeffs_subs)"
   ]
  },
  {
   "cell_type": "code",
   "execution_count": null,
   "metadata": {},
   "outputs": [],
   "source": [
    "K_vacuum_subs"
   ]
  },
  {
   "cell_type": "code",
   "execution_count": null,
   "metadata": {},
   "outputs": [],
   "source": [
    "Ez_vacuum          = E_inner_vacuum_sol_z   .subs(K_vacuum_subs).subs(kappa_vacuum_sol)\n",
    "Ez_left_conductor  = E_left_conductor_sol_z .subs(K_left_conductor_subs).subs(kappa_sol_l)\n",
    "Ez_right_conductor = E_right_conductor_sol_z.subs(K_right_conductor_subs).subs(kappa_sol_r)"
   ]
  },
  {
   "cell_type": "code",
   "execution_count": null,
   "metadata": {},
   "outputs": [],
   "source": [
    "coeffs_subs"
   ]
  },
  {
   "cell_type": "code",
   "execution_count": null,
   "metadata": {},
   "outputs": [],
   "source": [
    "Ez_left_conductor_d  = Ez_left_conductor .subs(k_z_sol).subs(digit_values).subs([B1_zl_re_im_subs]).subs(coeffs_subs)\n",
    "Ez_right_conductor_d = Ez_right_conductor.subs(k_z_sol).subs(digit_values).subs([B1_zr_re_im_subs]).subs(coeffs_subs)\n",
    "Ez_vacuum_d          = Ez_vacuum         .subs(k_z_sol).subs(digit_values).subs([A1_z_re_im_subs,A2_z_re_im_subs]).subs(coeffs_subs)"
   ]
  },
  {
   "cell_type": "code",
   "execution_count": null,
   "metadata": {},
   "outputs": [],
   "source": [
    "Ez_vacuum_d(x)"
   ]
  },
  {
   "cell_type": "code",
   "execution_count": null,
   "metadata": {},
   "outputs": [],
   "source": [
    "divE_vacuum = I*k_z * Ez_vacuum_d (x=x) + Ex_vacuum_d (x=x).diff(x)"
   ]
  },
  {
   "cell_type": "code",
   "execution_count": null,
   "metadata": {
    "scrolled": false
   },
   "outputs": [],
   "source": [
    "divE_vacuum_d = divE_vacuum.subs(k_z_sol).subs(digit_values).subs(coeffs_subs)"
   ]
  },
  {
   "cell_type": "code",
   "execution_count": null,
   "metadata": {},
   "outputs": [],
   "source": []
  },
  {
   "cell_type": "code",
   "execution_count": null,
   "metadata": {},
   "outputs": [],
   "source": [
    "divE_left_conductor  = I*k_z * Ez_left_conductor_d (x=x) + Ex_left_conductor_d (x=x).diff(x)\n",
    "divE_right_conductor = I*k_z * Ez_right_conductor_d (x=x) + Ex_right_conductor_d (x=x).diff(x)"
   ]
  },
  {
   "cell_type": "code",
   "execution_count": null,
   "metadata": {
    "scrolled": false
   },
   "outputs": [],
   "source": [
    "divE_left_conductor_d  = divE_left_conductor .subs(K_left_conductor_subs) .subs(kappa_sol_l).subs(k_z_sol).subs(digit_values).subs(coeffs_subs)\n",
    "divE_right_conductor_d = divE_right_conductor.subs(K_right_conductor_subs).subs(kappa_sol_r).subs(k_z_sol).subs(digit_values).subs(coeffs_subs)"
   ]
  },
  {
   "cell_type": "raw",
   "metadata": {},
   "source": []
  },
  {
   "cell_type": "code",
   "execution_count": null,
   "metadata": {},
   "outputs": [],
   "source": [
    "h_conductor = np.float128(0.05*A)"
   ]
  },
  {
   "cell_type": "code",
   "execution_count": null,
   "metadata": {},
   "outputs": [],
   "source": [
    "Ez_vacuum_d"
   ]
  },
  {
   "cell_type": "code",
   "execution_count": null,
   "metadata": {},
   "outputs": [],
   "source": [
    "pl  = plot(Ez_left_conductor_d(x=x).real(), (x, -A-h_conductor, -A))\n",
    "pl += plot(Ez_vacuum_d.real(), (x, -A, A))\n",
    "pl += plot(Ez_right_conductor_d.real(), (x, A, A+h_conductor))\n",
    "pl.show(title=\"График Re тангенциальной компоненты электрического поля\")"
   ]
  },
  {
   "cell_type": "code",
   "execution_count": null,
   "metadata": {},
   "outputs": [],
   "source": [
    "pl  = plot(Ez_left_conductor_d.imag(), (x, -A-h_conductor, -A))\n",
    "pl += plot(Ez_vacuum_d.imag(), (x, -A, A))\n",
    "pl += plot(Ez_right_conductor_d.imag(), (x, A, A+h_conductor))\n",
    "pl.show(title=\"График Im тангенциальной компоненты электрического поля\")"
   ]
  },
  {
   "cell_type": "code",
   "execution_count": null,
   "metadata": {},
   "outputs": [],
   "source": [
    "disp(Ez_right_conductor)"
   ]
  },
  {
   "cell_type": "code",
   "execution_count": null,
   "metadata": {},
   "outputs": [],
   "source": [
    "disp(Ez_vacuum)"
   ]
  },
  {
   "cell_type": "code",
   "execution_count": null,
   "metadata": {},
   "outputs": [],
   "source": [
    "pl  = plot(Ez_left_conductor_d.imag(), (x, -A-0.1*A, -A))\n",
    "pl += plot(Ez_vacuum_d.imag(), (x, -A, A))\n",
    "pl += plot(Ez_right_conductor_d.imag(), (x, A, A+0.1*A))\n",
    "pl.show(title=\"График Im тангенциальной компоненты электрического поля\")"
   ]
  },
  {
   "cell_type": "code",
   "execution_count": null,
   "metadata": {},
   "outputs": [],
   "source": [
    "pl =  plot(Ez_left_conductor_d.abs(), (x, -A-h_conductor, -A))\n",
    "pl += plot(Ez_vacuum_d.abs(), (x, -A, A))\n",
    "pl += plot(Ez_right_conductor_d.abs(), (x, A, A+h_conductor))\n",
    "pl.show(title=\"График Abs тангенциальной компоненты электрического поля\")"
   ]
  },
  {
   "cell_type": "code",
   "execution_count": null,
   "metadata": {},
   "outputs": [],
   "source": [
    "pl  = plot(arg(Ez_left_conductor_d(x=x))/pi, (x, -h_conductor-A, -A))\n",
    "pl += plot(arg(Ez_vacuum_d(x=x))/pi, (x, -A, A))\n",
    "pl += plot(arg(Ez_right_conductor_d(x=x))/pi, (x, A, A+h_conductor))\n",
    "pl.show(title=\"График Arg тангенциальной компоненты электрического поля\")"
   ]
  },
  {
   "cell_type": "code",
   "execution_count": null,
   "metadata": {},
   "outputs": [],
   "source": []
  },
  {
   "cell_type": "code",
   "execution_count": null,
   "metadata": {},
   "outputs": [],
   "source": [
    "pl  = plot((Ex_left_conductor_d * epsilon_l_complex).subs(digit_values).real(), (x, -A-h_conductor, -A))\n",
    "pl += plot(Ex_vacuum_d.real(), (x, -A, A))\n",
    "pl += plot((Ex_right_conductor_d * epsilon_r_complex).subs(digit_values).real(), (x, A, A+h_conductor))\n",
    "pl.show(title=\"График Re нормальной компоненты электрического смещения\")"
   ]
  },
  {
   "cell_type": "code",
   "execution_count": null,
   "metadata": {},
   "outputs": [],
   "source": [
    "pl  = plot((Ex_left_conductor_d * epsilon_l_complex).subs(digit_values).imag(), (x, -h_conductor-A, -A))\n",
    "pl += plot(Ex_vacuum_d.imag(), (x, -A, A))\n",
    "pl += plot((Ex_right_conductor_d * epsilon_r_complex).subs(digit_values).imag(), (x, A, A+h_conductor))\n",
    "pl.show(title=\"График Im нормальной компоненты электрического смещения\")"
   ]
  },
  {
   "cell_type": "code",
   "execution_count": null,
   "metadata": {},
   "outputs": [],
   "source": [
    "pl  = plot((Ex_left_conductor_d * epsilon_l_complex).subs(digit_values).abs(), (x, -h_conductor-A, -A))\n",
    "pl += plot(Ex_vacuum_d.abs(), (x, -A, A))\n",
    "pl += plot((Ex_right_conductor_d * epsilon_r_complex).subs(digit_values).abs(), (x, A, A+h_conductor))\n",
    "pl.show(title=\"График Abs нормальной компоненты электрического смещения\")"
   ]
  },
  {
   "cell_type": "code",
   "execution_count": null,
   "metadata": {},
   "outputs": [],
   "source": [
    "pl  = plot(arg((Ex_left_conductor_d * epsilon_l_complex).subs(digit_values))/pi, (x, -h_conductor-A, -A))\n",
    "pl += plot(arg(Ex_vacuum_d)/pi, (x, -A, A))\n",
    "pl += plot(arg((Ex_right_conductor_d * epsilon_r_complex).subs(digit_values))/pi, (x, A, A+h_conductor))\n",
    "pl.show(title=\"График Arg нормальной компоненты электрического смещения\")"
   ]
  },
  {
   "cell_type": "code",
   "execution_count": null,
   "metadata": {},
   "outputs": [],
   "source": [
    "pl  = plot(Hy_left_conductor_d.real(), (x, -h_conductor-A, -A))\n",
    "pl += plot(Hy_vacuum_d.real(), (x, -A, A))\n",
    "pl += plot(Hy_right_conductor_d.real(), (x, A, A+h_conductor))\n",
    "pl.show(title=\"График Re тангенциальной компоненты напряженности магнитного поля H\")"
   ]
  },
  {
   "cell_type": "code",
   "execution_count": null,
   "metadata": {},
   "outputs": [],
   "source": [
    "pl  = plot(Hy_left_conductor_d.imag(), (x, -h_conductor-A, -A))\n",
    "pl += plot(Hy_vacuum_d.imag(), (x, -A, A))\n",
    "pl += plot(Hy_right_conductor_d.imag(), (x, A, A+h_conductor))\n",
    "pl.show(title=\"График Im тангенциальной компоненты напряженности магнитного поля H\")"
   ]
  },
  {
   "cell_type": "code",
   "execution_count": null,
   "metadata": {},
   "outputs": [],
   "source": [
    "pl  = plot(Hy_left_conductor_d.abs(), (x, -h_conductor-A, -A))\n",
    "pl += plot(Hy_vacuum_d.abs(), (x, -A, A))\n",
    "pl += plot(Hy_right_conductor_d.abs(), (x, A, A+h_conductor))\n",
    "pl.show(title=\"График Abs тангенциальной компоненты напряженности магнитного поля H\")"
   ]
  },
  {
   "cell_type": "code",
   "execution_count": null,
   "metadata": {},
   "outputs": [],
   "source": [
    "Ez_vacuum"
   ]
  },
  {
   "cell_type": "code",
   "execution_count": null,
   "metadata": {},
   "outputs": [],
   "source": [
    "pl  = plot(arg(Hy_left_conductor_d)/pi, (x, -h_conductor-A, -A))\n",
    "pl += plot(arg(Hy_vacuum_d)/pi, (x, -A, A))\n",
    "pl += plot(arg(Hy_right_conductor_d)/pi, (x, A, A+h_conductor))\n",
    "pl.show(title=\"График Arg тангенциальной компоненты напряженности магнитного поля H\")"
   ]
  },
  {
   "cell_type": "code",
   "execution_count": null,
   "metadata": {},
   "outputs": [],
   "source": [
    "Ez_left_conductor"
   ]
  },
  {
   "cell_type": "code",
   "execution_count": null,
   "metadata": {},
   "outputs": [],
   "source": []
  },
  {
   "cell_type": "code",
   "execution_count": null,
   "metadata": {},
   "outputs": [],
   "source": [
    "pl  = plot(arg(Hy_left_conductor_d)/pi  - arg(Ez_left_conductor_d(x=x))/pi, (x, -h_conductor-A, -A))\n",
    "pl += plot(arg(Hy_vacuum_d)/pi          - arg(Ez_vacuum_d(x=x))/pi, (x, -A, A))\n",
    "pl += plot(arg(Hy_right_conductor_d)/pi - arg(Ez_right_conductor_d(x=x))/pi, (x, A, A+h_conductor))\n",
    "pl.show(title=\"График delta Arg тангенциальных компонент H и E\")"
   ]
  },
  {
   "cell_type": "code",
   "execution_count": null,
   "metadata": {},
   "outputs": [],
   "source": []
  },
  {
   "cell_type": "markdown",
   "metadata": {},
   "source": [
    "Решение получено.\n",
    "\n",
    "Теперь посчитаем:\n",
    "\n",
    "1) пондеромоторную силу, приложенную к идеальному проводнику\n",
    "\n",
    "2) пондеромоторную силу, приложенную к границе диэлектрика и вакуума\n"
   ]
  },
  {
   "cell_type": "code",
   "execution_count": null,
   "metadata": {},
   "outputs": [],
   "source": []
  },
  {
   "cell_type": "markdown",
   "metadata": {},
   "source": [
    "1) пондеромоторная сила, приложенная к идеальному проводнику"
   ]
  },
  {
   "cell_type": "code",
   "execution_count": null,
   "metadata": {},
   "outputs": [],
   "source": [
    "# superconductor force\n",
    "# additional 1/2 arises as result of integration on period\n",
    "#f_superconductor = - abs((even_H_inner_vacuum_y (0)^2) / (2*8*pi))\n",
    "p_Ht_left_conductor = - (\n",
    "    (Hy_vacuum_d (x=-A).real()^2\n",
    "     +\n",
    "     Hy_vacuum_d (x=-A).imag()^2\n",
    "    ) / (2*8*pi)\n",
    ").n()\n",
    "print(\"p_Ht_left_conductor =\", p_Ht_left_conductor)"
   ]
  },
  {
   "cell_type": "markdown",
   "metadata": {},
   "source": [
    "2) пондеромоторная сила, приложенная к плохому проводнику"
   ]
  },
  {
   "cell_type": "code",
   "execution_count": null,
   "metadata": {},
   "outputs": [],
   "source": [
    "# bad conductor force\n",
    "# additional 1/2 arises as result of integration on period\n",
    "#f_bad_conductor = abs((even_H_inner_vacuum_y (a)^2) / (2*8*pi))\n",
    "p_Ht_right_conductor = (\n",
    "    (Hy_vacuum_d (x=A).real()^2\n",
    "     +\n",
    "     Hy_vacuum_d (x=A).imag()^2\n",
    "    ) / (2*8*pi)\n",
    ").n()\n",
    "\n",
    "print(\"p_Ht_right_conductor =\", p_Ht_right_conductor)"
   ]
  },
  {
   "cell_type": "code",
   "execution_count": null,
   "metadata": {},
   "outputs": [],
   "source": [
    "p_Ht_left_conductor + p_Ht_right_conductor"
   ]
  },
  {
   "cell_type": "code",
   "execution_count": null,
   "metadata": {},
   "outputs": [],
   "source": []
  },
  {
   "cell_type": "code",
   "execution_count": null,
   "metadata": {},
   "outputs": [],
   "source": [
    "# Static and dynamic electricity by William R. Smythe, second edition, 1950\n",
    "# paragraph 18 formula 1.47\n",
    "# давление на границу равно разности давлений по обе стороны от нее\n",
    "# $$ P_n = \\frac{1}{2} \\epsilon'{{E'}_t}^2 - \\frac{1}{2} \\epsilon''{{E''}_t}^2 $$"
   ]
  },
  {
   "cell_type": "markdown",
   "metadata": {},
   "source": [
    "$$ P_n = \\frac{1}{2} \\epsilon'{{E'}_t}^2 - \\frac{1}{2} \\epsilon''{{E''}_t}^2 $$"
   ]
  },
  {
   "cell_type": "code",
   "execution_count": null,
   "metadata": {},
   "outputs": [],
   "source": [
    "# bad conductor force\n",
    "# additional 1/2 arises as result of integration on period\n",
    "p_Et_left_conductor = -(\n",
    "    ((epsilon_l_complex - 1.0)*Ez_vacuum_d(x=-A))\n",
    "    *\n",
    "    Ez_vacuum_d(x=-A)/(2*8*pi)\n",
    ").subs(digit_values).abs().n()\n",
    "print(\"p_Etleft_conductor =\", p_Et_left_conductor)"
   ]
  },
  {
   "cell_type": "code",
   "execution_count": null,
   "metadata": {},
   "outputs": [],
   "source": [
    "# bad conductor force\n",
    "# additional 1/2 arises as result of integration on period\n",
    "p_Et_right_conductor = (\n",
    "    ((1.0 - epsilon_r_complex)*Ez_vacuum_d(x=A))\n",
    "    *\n",
    "    Ez_vacuum_d(x=A)/(2*8*pi)).subs(digit_values).abs()\n",
    "print(\"p_Et_right_conductor =\", p_Et_right_conductor.n())"
   ]
  },
  {
   "cell_type": "code",
   "execution_count": null,
   "metadata": {},
   "outputs": [],
   "source": [
    "# Static and dynamic electricity by William R. Smythe, second edition, 1950\n",
    "# paragraph 18 formula 1.45\n",
    "# натяжение на границе, созданное нормальными компонентами индукции\n",
    "# должно равняться разности натяжений по обе стороны от границы\n",
    "# $$ T_n = \\frac{{{D'}_n}^2}{2 \\epsilon'} - \\frac{{{D''}_n}^2}{2 \\epsilon''} $$"
   ]
  },
  {
   "cell_type": "markdown",
   "metadata": {},
   "source": [
    "$$ T_n = \\frac{{{D'}_n}^2}{2 \\epsilon'} - \\frac{{{D''}_n}^2}{2 \\epsilon''} $$"
   ]
  },
  {
   "cell_type": "code",
   "execution_count": null,
   "metadata": {
    "scrolled": true
   },
   "outputs": [],
   "source": [
    "# super conductor tension\n",
    "# additional 1/2 arises as result of integration on period\n",
    "# epsilon_superconductor -> Infinity\n",
    "# 1 / epsilon_superconductor -> 0.0\n",
    "\n",
    "t_Dn_left_conductor = -(((1/epsilon_l_complex - 1/1.)*(Dx_vacuum_d (x=-A)))*Dx_vacuum_d(x=-A)/(2*8*pi)).subs(digit_values).abs() \n",
    "print(\"t_left_conductor =\", t_left_conductor.n())"
   ]
  },
  {
   "cell_type": "code",
   "execution_count": null,
   "metadata": {
    "scrolled": true
   },
   "outputs": [],
   "source": [
    "# super conductor tension\n",
    "# additional 1/2 arises as result of integration on period\n",
    "# epsilon_superconductor -> Infinity\n",
    "# 1 / epsilon_superconductor -> 0.0\n",
    "\n",
    "t_Dn_left_conductor = -(\n",
    "    (\n",
    "        (Dx_left_conductor_d(x=-A)/epsilon_l_complex) * Dx_left_conductor_d(x=-A)\n",
    "        -\n",
    "        (Dx_vacuum_d (x=-A)/1.) * Dx_vacuum_d(x=-A)\n",
    "    )/(2*8*pi)\n",
    ").subs(digit_values).abs() \n",
    "print(\"t_left_conductor =\", t_left_conductor.n())"
   ]
  },
  {
   "cell_type": "code",
   "execution_count": null,
   "metadata": {},
   "outputs": [],
   "source": [
    "# bad conductor force\n",
    "# additional 1/2 arises as result of integration on period\n",
    "t_Dn_right_conductor = (((1.0/1.0 - 1/epsilon_r_complex)*Dx_vacuum_d (x=A)) * Dx_vacuum_d(x=A)/(2*8*pi)).subs(digit_values).abs()\n",
    "print(\"t_Dn_right_conductor =\", t_Dn_right_conductor.n())"
   ]
  },
  {
   "cell_type": "code",
   "execution_count": null,
   "metadata": {},
   "outputs": [],
   "source": [
    "# bad conductor force\n",
    "# additional 1/2 arises as result of integration on period\n",
    "t_Dn_right_conductor = (\n",
    "    (\n",
    "        (Dx_vacuum_d(x=A)/1.0)*Dx_vacuum_d (x=A)\n",
    "        -\n",
    "        (Dx_right_conductor_d(x=A)/epsilon_r_complex) * Dx_right_conductor_d(x=A)\n",
    "    )/(2*8*pi)\n",
    ").subs(digit_values).abs()\n",
    "print(\"t_Dn_right_conductor =\", t_Dn_right_conductor.n())"
   ]
  },
  {
   "cell_type": "code",
   "execution_count": null,
   "metadata": {},
   "outputs": [],
   "source": []
  },
  {
   "cell_type": "markdown",
   "metadata": {},
   "source": [
    "Результаты вычислений показывают, что тяга в волновом двигателе с внутренним расходом энергии Ф.Ф.Менде (MenDrive) ненулевая и равна"
   ]
  },
  {
   "cell_type": "code",
   "execution_count": null,
   "metadata": {},
   "outputs": [],
   "source": [
    "((+ p_Ht_left_conductor + p_Ht_right_conductor).n() +\n",
    " (+ t_Dn_left_conductor + t_Dn_right_conductor).n() )"
   ]
  },
  {
   "cell_type": "code",
   "execution_count": null,
   "metadata": {},
   "outputs": [],
   "source": [
    "((+ p_Ht_left_conductor + p_Ht_right_conductor).n() +\n",
    " (+ t_Dn_left_conductor + t_Dn_right_conductor).n() +\n",
    " (- p_Et_left_conductor - p_Et_right_conductor).n() )"
   ]
  },
  {
   "cell_type": "raw",
   "metadata": {},
   "source": [
    "k_z_root[0] = k_z_root[0]\n",
    "k_z_root[1] = k_z_root[1]"
   ]
  },
  {
   "cell_type": "code",
   "execution_count": null,
   "metadata": {},
   "outputs": [],
   "source": [
    "# H^2/8 pi"
   ]
  },
  {
   "cell_type": "code",
   "execution_count": null,
   "metadata": {},
   "outputs": [],
   "source": [
    "(+ p_Ht_left_conductor + p_Ht_right_conductor).n()"
   ]
  },
  {
   "cell_type": "code",
   "execution_count": null,
   "metadata": {},
   "outputs": [],
   "source": [
    "(+ t_Dn_left_conductor + t_Dn_right_conductor).n()"
   ]
  },
  {
   "cell_type": "code",
   "execution_count": null,
   "metadata": {},
   "outputs": [],
   "source": [
    "(- p_Et_left_conductor - p_Et_right_conductor).n()"
   ]
  },
  {
   "cell_type": "code",
   "execution_count": null,
   "metadata": {},
   "outputs": [],
   "source": []
  },
  {
   "cell_type": "code",
   "execution_count": null,
   "metadata": {},
   "outputs": [],
   "source": [
    "#мощность выделения тепла в единице объёма\n",
    "#https://ru.wikipedia.org/wiki/%D0%97%D0%B0%D0%BA%D0%BE%D0%BD_%D0%94%D0%B6%D0%BE%D1%83%D0%BB%D1%8F_%E2%80%94_%D0%9B%D0%B5%D0%BD%D1%86%D0%B0\n",
    "# https://en.wikipedia.org/wiki/Joule_heating\n",
    "# additional 1/2 arises as result of integration on period\n",
    "# dPdV = E^2*sigma / 2\n",
    "# dPdS = integrate(E^2*sigma / 2, x)"
   ]
  },
  {
   "cell_type": "code",
   "execution_count": null,
   "metadata": {},
   "outputs": [],
   "source": [
    "wr = lambda x : sigma_r_d * (Ez_right_conductor_d(x=x).abs()^2 + Ex_right_conductor_d(x=x).abs()^2)"
   ]
  },
  {
   "cell_type": "code",
   "execution_count": null,
   "metadata": {},
   "outputs": [],
   "source": [
    "wl = lambda x : sigma_l_d * (Ez_left_conductor_d(x=x).abs()^2 + Ex_left_conductor_d(x=x).abs()^2)"
   ]
  },
  {
   "cell_type": "code",
   "execution_count": null,
   "metadata": {},
   "outputs": [],
   "source": [
    "plot(wr(x=x), (x, A, A+h_conductor))"
   ]
  },
  {
   "cell_type": "code",
   "execution_count": null,
   "metadata": {},
   "outputs": [],
   "source": [
    "plot(wl(x=x), (x, -A, -A-h_conductor))"
   ]
  },
  {
   "cell_type": "code",
   "execution_count": null,
   "metadata": {},
   "outputs": [],
   "source": [
    "Wr = (sigma * (Ez_right_conductor.abs()^2 + Ex_right_conductor_subs.abs()^2)).subs(coeffs_subs).subs(digit_values).expand()\n",
    "Wr_integrate_x = Wr.integrate(x)"
   ]
  },
  {
   "cell_type": "code",
   "execution_count": null,
   "metadata": {},
   "outputs": [],
   "source": [
    "Wl = (sigma * (Ez_left_conductor.abs()^2 + Ex_left_conductor_subs.abs()^2)).subs(coeffs_subs).subs(digit_values).expand()\n",
    "Wl_integrate_x = Wl.integrate(x)"
   ]
  },
  {
   "cell_type": "code",
   "execution_count": null,
   "metadata": {},
   "outputs": [],
   "source": [
    "plot(Wr_integrate_x, (x, A, A+h_conductor))"
   ]
  },
  {
   "cell_type": "code",
   "execution_count": null,
   "metadata": {},
   "outputs": [],
   "source": [
    "plot(Wl_integrate_x, (x, -A, -A-h_conductor))"
   ]
  },
  {
   "cell_type": "code",
   "execution_count": null,
   "metadata": {},
   "outputs": [],
   "source": [
    "W_r = Wr_integrate_x.subs(x == A+h_conductor).n() - Wr_integrate_x.subs(x == A+0).n()\n",
    "W_r"
   ]
  },
  {
   "cell_type": "code",
   "execution_count": null,
   "metadata": {},
   "outputs": [],
   "source": [
    "W_l = Wl_integrate_x.subs(x == -A-h_conductor).n() - Wr_integrate_x.subs(x == -A+0).n()\n",
    "W_l"
   ]
  },
  {
   "cell_type": "code",
   "execution_count": null,
   "metadata": {},
   "outputs": [],
   "source": [
    "W = W_r + W_l\n",
    "W"
   ]
  },
  {
   "cell_type": "code",
   "execution_count": null,
   "metadata": {},
   "outputs": [],
   "source": [
    "# F / P\n",
    "# dyne / (erg/s)\n",
    "\n",
    "# 1 erg  = 10^-7 joule\n",
    "# 1 dyne = 10^-5 N\n",
    "\n",
    "# 1 dyne / (erg/s) = 10^-5 / (10^-7) = 100 N/watt"
   ]
  },
  {
   "cell_type": "code",
   "execution_count": null,
   "metadata": {},
   "outputs": [],
   "source": [
    "(+ p_Ht_left_conductor + p_Ht_right_conductor).n()/(W)"
   ]
  },
  {
   "cell_type": "code",
   "execution_count": null,
   "metadata": {},
   "outputs": [],
   "source": [
    "(+ t_Dn_left_conductor + t_Dn_right_conductor).n()/(W)"
   ]
  },
  {
   "cell_type": "code",
   "execution_count": null,
   "metadata": {},
   "outputs": [],
   "source": [
    "(- p_Et_left_conductor - p_Et_right_conductor).n()/(W)"
   ]
  },
  {
   "cell_type": "code",
   "execution_count": null,
   "metadata": {},
   "outputs": [],
   "source": [
    "# N/watt"
   ]
  },
  {
   "cell_type": "code",
   "execution_count": null,
   "metadata": {},
   "outputs": [],
   "source": [
    "100*(+ p_Ht_left_conductor + p_Ht_right_conductor\n",
    " + t_Dn_left_conductor + t_Dn_right_conductor\n",
    " - p_Et_left_conductor - p_Et_right_conductor).n()/(W)"
   ]
  },
  {
   "cell_type": "code",
   "execution_count": null,
   "metadata": {},
   "outputs": [],
   "source": [
    "# N/kwatt"
   ]
  },
  {
   "cell_type": "code",
   "execution_count": null,
   "metadata": {},
   "outputs": [],
   "source": [
    "10^5*(+ p_Ht_left_conductor + p_Ht_right_conductor\n",
    " + t_Dn_left_conductor + t_Dn_right_conductor\n",
    " - p_Et_left_conductor - p_Et_right_conductor).n()/(W)"
   ]
  },
  {
   "cell_type": "markdown",
   "metadata": {},
   "source": [
    "положительный знак соответствует направлению тяги в сторону увеличения значений x"
   ]
  },
  {
   "cell_type": "code",
   "execution_count": null,
   "metadata": {},
   "outputs": [],
   "source": [
    "#Propulsion and Energy Forum\n",
    "#July 28-30, 2014, Cleveland, OH\n",
    "#50th AIAA/ASME/SAE/ASEE Joint Propulsion Conference\n",
    "#Anomalous Thrust Production from an RF Test Device\n",
    "#Measured on a Low-Thrust Torsion Pendulum\n",
    "#David A. Brady * , Harold G. White † , Paul March ‡ , James T. Lawrence § , and Frank J. Davies **\n",
    "#NASA Lyndon B. Johnson Space Center, Houston, Texas 77058\n",
    "\n",
    "\n",
    "#Tapered Cavity RF Evaluation and Testing, TE012 mode\n",
    "#Prior to the TM211 evaluations, COMSOL® analysis indicated that the TE012 was an effective thrust generation\n",
    "#mode for the tapered cavity thruster being evaluated, so this mode was explored early in the evaluation process.\n",
    "#Figure 22 shows a test run at the TE012 mode with an operating frequency of 1880.4 MHz. The measured quality\n",
    "#factor was ~22,000, with a COMSOL prediction of 21,817. The measured power applied to the test article was\n",
    "#measured to be 2.6 watts, and the (net) measured thrust was 55.4 micronewtons. With an input power of 2.6 watts,\n",
    "#correcting for the quality factor, the predicted thrust is 50 micronewtons. However, since the TE012 mode had\n",
    "#numerous other RF modes in very close proximity, it was impractical to repeatedly operate the system in this mode,\n",
    "#so the decision was made to evaluate the TM211 modes instead.\n",
    "\n",
    "#E. Tapered Cavity Testing: Summary of Results\n",
    "# Mode \n",
    "# Frequency (MHz)\n",
    "# Quality Factor, Q \n",
    "\n",
    "# Input Power (W) \n",
    "# Peak Thrust (μN) \n",
    "# Mean Thrust (μN) \n",
    "# Number of Test Runs\n",
    "# TM211 1932.6   7320  16.9  116.0   91.2  5\n",
    "# TM211 1936.7 18,100  16.7   54.1   50.1  2\n",
    "# TE012 1880.4 22,000   2.6   55.4   55.4  1\n",
    "\n",
    "# Harrington, Roger F. (1961). Time-Harmonic Electromagnetic Fields. McGraw-Hill. ISBN 9780070267459.\n",
    "\n",
    "# EEE TRANSACTIONS ON MICROWAVE THEORY AND TECHNIQUES, VOL. 54, NO. 4, APRIL 2006\n",
    "# Two-Resonator Method for Measurement of Dielectric Anisotropy in Multilayer SamplesPlamen I. Dankov, Member, IEEE\n",
    "# https://www.researchgate.net/publication/3131333_Two-resonator_method_for_measurement_of_dielectric_anisotropy_in_multilayer_samples"
   ]
  },
  {
   "cell_type": "code",
   "execution_count": null,
   "metadata": {},
   "outputs": [],
   "source": [
    "# they have obtained\n",
    "# 0,005396449704142\n",
    "# 0,003\n",
    "# 0,0213076923076923\n",
    "# N/kwatt"
   ]
  },
  {
   "cell_type": "code",
   "execution_count": null,
   "metadata": {},
   "outputs": [],
   "source": [
    "# test found solution with Maxwell equations"
   ]
  },
  {
   "cell_type": "markdown",
   "metadata": {},
   "source": [
    "$$rot\\,\\vec{E} = \\mu\\,\\frac{i\\,\\omega}{c}\\,\\vec{H}$$\n",
    "\n",
    "$$rot\\,\\vec{H} = \\frac{1}{c}\\frac{\\partial \\vec D}{\\partial t} + \\frac{4\\pi}{c} \\vec j = - \\frac{i\\,\\omega}{c} \\epsilon \\vec{E} + \\frac{4\\pi}{c}\\sigma \\vec E$$\n",
    "\n",
    "$$rot\\,rot\\,\\vec{E} = \\mu\\,\\frac{i\\,\\omega}{c}rot\\,\\vec{H}$$\n",
    "\n",
    "$$rot\\,rot\\,\\vec{E} = \\mu\\,\\frac{i\\,\\omega}{c}\\left(- \\frac{i\\,\\omega}{c} \\epsilon \\vec{E} + \\frac{4\\pi}{c}\\sigma \\vec E\\right)$$\n",
    "\n",
    "$$rot\\,rot\\,\\vec{E} = \\epsilon \\mu\\,\\frac{\\omega^2}{c^2} \\vec{E} + i\\,\\omega\\,\\sigma\\,\\mu\\,\\frac{4\\pi}{c^2} \\vec E$$\n",
    "\n",
    "$$rot\\,rot\\,\\vec{E} = grad\\,div\\,\\vec{E} - Laplasian\\,\\vec{E}$$\n",
    "\n",
    "$$Laplasian\\,\\vec{E} + \\epsilon \\mu \\frac{\\omega^2}{c^2}\\,\\vec{E} + i\\,\\omega\\,\\sigma\\,\\mu\\,\\frac{4\\pi}{c^2} \\vec E - grad\\,div\\,\\vec{E} = 0$$"
   ]
  },
  {
   "cell_type": "code",
   "execution_count": null,
   "metadata": {},
   "outputs": [],
   "source": [
    "# уравнение Максвелла для тока смещения\n",
    "# rot_H   = - I * epsilon * omega / c * E\n",
    "# rot_H_x = diff(H_z, y) - diff(H_y, z)\n",
    "# rot_H_y = diff(H_x, z) - diff(H_z, x)\n",
    "# rot_H_z = diff(H_y, x) - diff(H_x, y)"
   ]
  },
  {
   "cell_type": "code",
   "execution_count": null,
   "metadata": {},
   "outputs": [],
   "source": [
    "rot_H_vacuum_x_d = - diff(Hy_vacuum_d(x=x)*e^(I*k_z*z), z).subs(k_z == kz + I * sz).subs(k_z_sol)\n",
    "rot_H_vacuum_y_d =   0\n",
    "rot_H_vacuum_z_d =   diff(Hy_vacuum_d(x=x)*e^(I*k_z*z), x).subs(k_z == kz + I * sz).subs(k_z_sol)"
   ]
  },
  {
   "cell_type": "code",
   "execution_count": null,
   "metadata": {},
   "outputs": [],
   "source": [
    "eq_rot_H_vacuum_x_d = rot_H_vacuum_x_d == \\\n",
    "(-I*omega/c*Ex_vacuum_d(x=x)*e^(I*k_z*z)).subs(k_z==kz+I*sz).subs(k_z_sol).subs(digit_values)"
   ]
  },
  {
   "cell_type": "code",
   "execution_count": null,
   "metadata": {},
   "outputs": [],
   "source": [
    "eq_rot_H_vacuum_z_d = rot_H_vacuum_z_d == \\\n",
    "(-I*omega/c*Ez_vacuum_d(x=x)*e^(I*k_z*z)).subs(k_z==kz+I*sz).subs(k_z_sol).subs(digit_values)"
   ]
  },
  {
   "cell_type": "code",
   "execution_count": null,
   "metadata": {},
   "outputs": [],
   "source": []
  },
  {
   "cell_type": "code",
   "execution_count": null,
   "metadata": {},
   "outputs": [],
   "source": [
    "(eq_rot_H_vacuum_x_d.rhs() / eq_rot_H_vacuum_x_d.lhs())"
   ]
  },
  {
   "cell_type": "code",
   "execution_count": null,
   "metadata": {},
   "outputs": [],
   "source": [
    "(eq_rot_H_vacuum_x_d.rhs() / eq_rot_H_vacuum_x_d.lhs())"
   ]
  },
  {
   "cell_type": "code",
   "execution_count": null,
   "metadata": {},
   "outputs": [],
   "source": [
    "plot((eq_rot_H_vacuum_z_d.rhs() / eq_rot_H_vacuum_z_d.lhs()).real(), (x, -A, A))"
   ]
  },
  {
   "cell_type": "code",
   "execution_count": null,
   "metadata": {},
   "outputs": [],
   "source": [
    "plt  = plot(eq_rot_H_vacuum_z_d.rhs().real().subs(z == 0), (x, -A, A))\n",
    "plt += plot(eq_rot_H_vacuum_z_d.lhs().real().subs(z == 0), (x, -A, A))\n",
    "plt.show()"
   ]
  },
  {
   "cell_type": "code",
   "execution_count": null,
   "metadata": {},
   "outputs": [],
   "source": [
    "plot((eq_rot_H_vacuum_z_d.rhs() / eq_rot_H_vacuum_z_d.lhs()).imag(), (x, -A, A))"
   ]
  },
  {
   "cell_type": "code",
   "execution_count": null,
   "metadata": {},
   "outputs": [],
   "source": [
    "plt  = plot(eq_rot_H_vacuum_z_d.rhs().imag().subs(z == 0), (x, -A, A))\n",
    "plt += plot(eq_rot_H_vacuum_z_d.lhs().imag().subs(z == 0), (x, -A, A))\n",
    "plt.show()"
   ]
  },
  {
   "cell_type": "code",
   "execution_count": null,
   "metadata": {},
   "outputs": [],
   "source": []
  },
  {
   "cell_type": "markdown",
   "metadata": {},
   "source": [
    "$$rot\\,\\vec{H} = \\frac{1}{c}\\frac{\\partial \\vec D}{\\partial t} + \\frac{4\\pi}{c} \\vec j = - \\frac{i\\,\\omega}{c} \\epsilon \\vec{E} + \\frac{4\\pi}{c}\\sigma \\vec E$$"
   ]
  },
  {
   "cell_type": "code",
   "execution_count": null,
   "metadata": {},
   "outputs": [],
   "source": [
    "# уравнение Максвелла для тока смещения\n",
    "# rot_H   = - I * epsilon * omega / c * E + 4 * pi / c * sigma * E\n",
    "# rot_H_x = diff(H_z, y) - diff(H_y, z)\n",
    "# rot_H_y = diff(H_x, z) - diff(H_z, x)\n",
    "# rot_H_z = diff(H_y, x) - diff(H_x, y)"
   ]
  },
  {
   "cell_type": "code",
   "execution_count": null,
   "metadata": {},
   "outputs": [],
   "source": [
    "rot_H_left_conductor_x_d = - diff(Hy_left_conductor_d(x=x)*e^(I*k_z*z), z).subs(k_z == kz + I * sz).subs(k_z_sol)\n",
    "rot_H_left_conductor_y_d =   0\n",
    "rot_H_left_conductor_z_d =   diff(Hy_left_conductor_d(x=x)*e^(I*k_z*z), x).subs(k_z == kz + I * sz).subs(k_z_sol)"
   ]
  },
  {
   "cell_type": "code",
   "execution_count": null,
   "metadata": {},
   "outputs": [],
   "source": [
    "rot_H_right_conductor_x_d = - diff(Hy_right_conductor_d(x=x)*e^(I*k_z*z), z).subs(k_z == kz + I * sz).subs(k_z_sol)\n",
    "rot_H_right_conductor_y_d =   0\n",
    "rot_H_right_conductor_z_d =   diff(Hy_right_conductor_d(x=x)*e^(I*k_z*z), x).subs(k_z == kz + I * sz).subs(k_z_sol)"
   ]
  },
  {
   "cell_type": "raw",
   "metadata": {},
   "source": [
    "Hy_left_conductor  = c * (eq_8_l_subs3.rhs()*kappa_l    / (mu_l * omega))\n",
    "Hy_right_conductor = c * (eq_8_r_subs3.rhs()*kappa_r    / (mu_r * omega))\n",
    "Hy_vacuum          = c * (eq_6_subs3.rhs()*kappa_vacuum / (mu_0 * omega))"
   ]
  },
  {
   "cell_type": "code",
   "execution_count": null,
   "metadata": {},
   "outputs": [],
   "source": [
    "rot_H_left_conductor_x = - diff(Hy_left_conductor(x=x)*e^(I*k_z*z), z)\n",
    "rot_H_left_conductor_y =   0\n",
    "rot_H_left_conductor_z =   diff(Hy_left_conductor(x=x)*e^(I*k_z*z), x)"
   ]
  },
  {
   "cell_type": "code",
   "execution_count": null,
   "metadata": {},
   "outputs": [],
   "source": [
    "rot_H_right_conductor_x = - diff(Hy_right_conductor(x=x)*e^(I*k_z*z), z)\n",
    "rot_H_right_conductor_y =   0\n",
    "rot_H_right_conductor_z =   diff(Hy_right_conductor(x=x)*e^(I*k_z*z), x)"
   ]
  },
  {
   "cell_type": "code",
   "execution_count": null,
   "metadata": {},
   "outputs": [],
   "source": [
    "eq_rot_H_left_conductor_x_d = rot_H_left_conductor_x_d == \\\n",
    "    ((-I*epsilon_l_complex*omega/c) * Ex_left_conductor_d(x=x)*e^(I*k_z*z)) \\\n",
    "    .subs(k_z == kz + I * sz).subs(k_z_sol).subs(digit_values)"
   ]
  },
  {
   "cell_type": "code",
   "execution_count": null,
   "metadata": {},
   "outputs": [],
   "source": [
    "eq_rot_H_right_conductor_x_d = rot_H_right_conductor_x_d == \\\n",
    "    ((-I*epsilon_r_complex*omega/c) * Ex_right_conductor_d(x=x)*e^(I*k_z*z)) \\\n",
    "    .subs(k_z == kz + I * sz).subs(k_z_sol).subs(digit_values)"
   ]
  },
  {
   "cell_type": "code",
   "execution_count": null,
   "metadata": {},
   "outputs": [],
   "source": [
    "eq_rot_H_left_conductor_z_d = rot_H_left_conductor_z_d == \\\n",
    "    ((-I*epsilon_l_complex*omega/c) * Ez_left_conductor_d(x=x)*e^(I*k_z*z)) \\\n",
    "    .subs(k_z == kz + I * sz).subs(k_z_sol).subs(digit_values)"
   ]
  },
  {
   "cell_type": "code",
   "execution_count": null,
   "metadata": {},
   "outputs": [],
   "source": [
    "eq_rot_H_right_conductor_z_d = rot_H_right_conductor_z_d == \\\n",
    "    ((-I*epsilon_r_complex*omega/c) * Ez_right_conductor_d(x=x)*e^(I*k_z*z)) \\\n",
    "    .subs(k_z == kz + I * sz).subs(k_z_sol).subs(digit_values)"
   ]
  },
  {
   "cell_type": "code",
   "execution_count": null,
   "metadata": {},
   "outputs": [],
   "source": [
    "eq_rot_H_left_conductor_x = rot_H_left_conductor_x == \\\n",
    "((-I*epsilon_l_complex*omega/c) * Ex_left_conductor(x=x)*e^(I*k_z*z))"
   ]
  },
  {
   "cell_type": "code",
   "execution_count": null,
   "metadata": {},
   "outputs": [],
   "source": [
    "eq_rot_H_right_conductor_x = rot_H_right_conductor_x == \\\n",
    "((-I*epsilon_r_complex*omega/c) * Ex_right_conductor(x=x)*e^(I*k_z*z))"
   ]
  },
  {
   "cell_type": "code",
   "execution_count": null,
   "metadata": {},
   "outputs": [],
   "source": []
  },
  {
   "cell_type": "code",
   "execution_count": null,
   "metadata": {},
   "outputs": [],
   "source": [
    "(eq_rot_H_left_conductor_x_d.lhs() / eq_rot_H_left_conductor_x_d.rhs()).n()"
   ]
  },
  {
   "cell_type": "code",
   "execution_count": null,
   "metadata": {},
   "outputs": [],
   "source": [
    "(eq_rot_H_right_conductor_x_d.lhs() / eq_rot_H_right_conductor_x_d.rhs()).n()"
   ]
  },
  {
   "cell_type": "code",
   "execution_count": null,
   "metadata": {},
   "outputs": [],
   "source": [
    "(eq_rot_H_left_conductor_x_d.lhs() / eq_rot_H_left_conductor_x_d.rhs()).abs().n()"
   ]
  },
  {
   "cell_type": "code",
   "execution_count": null,
   "metadata": {},
   "outputs": [],
   "source": [
    "(eq_rot_H_left_conductor_z_d.lhs() / eq_rot_H_left_conductor_z_d.rhs()).n()"
   ]
  },
  {
   "cell_type": "code",
   "execution_count": null,
   "metadata": {},
   "outputs": [],
   "source": [
    "(eq_rot_H_right_conductor_z_d.lhs() / eq_rot_H_right_conductor_z_d.rhs()).n()"
   ]
  },
  {
   "cell_type": "code",
   "execution_count": null,
   "metadata": {},
   "outputs": [],
   "source": []
  },
  {
   "cell_type": "markdown",
   "metadata": {},
   "source": [
    "$$rot\\,\\vec{E} = \\mu\\,\\frac{i\\,\\omega}{c}\\,\\vec{H}$$"
   ]
  },
  {
   "cell_type": "code",
   "execution_count": null,
   "metadata": {},
   "outputs": [],
   "source": [
    "# уравнение Максвелла для\n",
    "# rot_E   = I * mu * omega / c * H\n",
    "# rot_E_x = diff(E_z, y) - diff(E_y, z)\n",
    "# rot_E_y = diff(E_x, z) - diff(E_z, x)\n",
    "# rot_E_z = diff(E_y, x) - diff(E_x, y)"
   ]
  },
  {
   "cell_type": "code",
   "execution_count": null,
   "metadata": {},
   "outputs": [],
   "source": [
    "rot_E_vacuum_x_d = diff(Ez_vacuum_d(x=x)*e^(I*k_z*z), y)\n",
    "rot_E_vacuum_y_d = diff(Ex_vacuum_d(x=x)*e^(I*k_z*z), z) - diff(Ez_vacuum_d(x=x)*e^(I*k_z*z), x)\n",
    "rot_E_vacuum_z_d = - diff(Ex_vacuum_d(x=x)*e^(I*k_z*z), y)"
   ]
  },
  {
   "cell_type": "code",
   "execution_count": null,
   "metadata": {},
   "outputs": [],
   "source": [
    "eq_rot_E_vacuum_x_d = rot_E_vacuum_x_d == \\\n",
    "(I * omega / c * 0)"
   ]
  },
  {
   "cell_type": "code",
   "execution_count": null,
   "metadata": {},
   "outputs": [],
   "source": [
    "eq_rot_E_vacuum_y_d = (rot_E_vacuum_y_d == \\\n",
    "I * omega / c * Hy_vacuum_d(x=x)*e^(I*k_z*z)).subs(k_z == kz + I * sz).subs(k_z_sol).subs(digit_values)"
   ]
  },
  {
   "cell_type": "code",
   "execution_count": null,
   "metadata": {},
   "outputs": [],
   "source": [
    "eq_rot_E_vacuum_z_d = rot_E_vacuum_z_d == \\\n",
    "(I * omega / c * 0)"
   ]
  },
  {
   "cell_type": "code",
   "execution_count": null,
   "metadata": {},
   "outputs": [],
   "source": []
  },
  {
   "cell_type": "code",
   "execution_count": null,
   "metadata": {},
   "outputs": [],
   "source": [
    "(eq_rot_E_vacuum_y_d.rhs() / eq_rot_E_vacuum_y_d.lhs()).variables()"
   ]
  },
  {
   "cell_type": "code",
   "execution_count": null,
   "metadata": {},
   "outputs": [],
   "source": [
    "pl = plot(eq_rot_E_vacuum_y_d.rhs().real().subs(z == 0), (x, -A, 0))\n",
    "pl += plot(eq_rot_E_vacuum_y_d.lhs().real().subs(z == 0), (x, -A, 0))\n",
    "pl.show()"
   ]
  },
  {
   "cell_type": "code",
   "execution_count": null,
   "metadata": {},
   "outputs": [],
   "source": [
    "pl = plot(eq_rot_E_vacuum_y_d.rhs().imag().subs(z == 0), (x, -A, 0))\n",
    "pl += plot(eq_rot_E_vacuum_y_d.lhs().imag().subs(z == 0), (x, -A, 0))\n",
    "pl.show()"
   ]
  },
  {
   "cell_type": "code",
   "execution_count": null,
   "metadata": {},
   "outputs": [],
   "source": [
    "pl = plot(eq_rot_E_vacuum_y_d.rhs().abs().subs(z == 0), (x, -A, 0))\n",
    "pl += plot(eq_rot_E_vacuum_y_d.lhs().abs().subs(z == 0), (x, -A, 0))\n",
    "pl.show()"
   ]
  },
  {
   "cell_type": "code",
   "execution_count": null,
   "metadata": {},
   "outputs": [],
   "source": []
  },
  {
   "cell_type": "code",
   "execution_count": null,
   "metadata": {},
   "outputs": [],
   "source": [
    "# уравнение Максвелла для\n",
    "# rot_E   = I * mu * omega / c * H\n",
    "# rot_E_x = diff(E_z, y) - diff(E_y, z)\n",
    "# rot_E_y = diff(E_x, z) - diff(E_z, x)\n",
    "# rot_E_z = diff(E_y, x) - diff(E_x, y)"
   ]
  },
  {
   "cell_type": "code",
   "execution_count": null,
   "metadata": {},
   "outputs": [],
   "source": [
    "rot_E_left_conductor_x_d = diff(Ez_left_conductor_d(x=x)*e^(I*k_z*z), y)\n",
    "rot_E_left_conductor_y_d = diff(Ex_left_conductor_d(x=x)*e^(I*k_z*z), z) - diff(Ez_left_conductor_d(x=x)*e^(I*k_z*z), x)\n",
    "rot_E_left_conductor_z_d = - diff(Ex_left_conductor_d(x=x)*e^(I*k_z*z), y)"
   ]
  },
  {
   "cell_type": "code",
   "execution_count": null,
   "metadata": {},
   "outputs": [],
   "source": [
    "rot_E_right_conductor_x_d = diff(Ez_right_conductor_d(x=x)*e^(I*k_z*z), y)\n",
    "rot_E_right_conductor_y_d = diff(Ex_right_conductor_d(x=x)*e^(I*k_z*z), z) - diff(Ez_right_conductor_d(x=x)*e^(I*k_z*z), x)\n",
    "rot_E_right_conductor_z_d = - diff(Ex_right_conductor_d(x=x)*e^(I*k_z*z), y)"
   ]
  },
  {
   "cell_type": "code",
   "execution_count": null,
   "metadata": {},
   "outputs": [],
   "source": [
    "eq_rot_E_left_conductor_x_d = rot_E_left_conductor_x_d == \\\n",
    "(I * mu_l * omega / c * 0)"
   ]
  },
  {
   "cell_type": "code",
   "execution_count": null,
   "metadata": {},
   "outputs": [],
   "source": [
    "eq_rot_E_right_conductor_x_d = rot_E_right_conductor_x_d == \\\n",
    "(I * mu_r * omega / c * 0)"
   ]
  },
  {
   "cell_type": "code",
   "execution_count": null,
   "metadata": {},
   "outputs": [],
   "source": [
    "eq_rot_E_left_conductor_y_d = (rot_E_left_conductor_y_d == \\\n",
    "I * mu_l * omega / c * Hy_left_conductor_d*e^(I*k_z*z)).subs(k_z_sol).subs(digit_values)"
   ]
  },
  {
   "cell_type": "code",
   "execution_count": null,
   "metadata": {},
   "outputs": [],
   "source": [
    "eq_rot_E_right_conductor_y_d = (rot_E_right_conductor_y_d == \\\n",
    "I * mu_r * omega / c * Hy_right_conductor_d*e^(I*k_z*z)).subs(k_z_sol).subs(digit_values)"
   ]
  },
  {
   "cell_type": "code",
   "execution_count": null,
   "metadata": {},
   "outputs": [],
   "source": [
    "eq_rot_E_left_conductor_z_d = rot_E_left_conductor_z_d == \\\n",
    "(I * mu_l * omega / c * 0)"
   ]
  },
  {
   "cell_type": "code",
   "execution_count": null,
   "metadata": {},
   "outputs": [],
   "source": [
    "eq_rot_E_right_conductor_z_d = rot_E_right_conductor_z_d == \\\n",
    "(I * mu_r * omega / c * 0)"
   ]
  },
  {
   "cell_type": "code",
   "execution_count": null,
   "metadata": {},
   "outputs": [],
   "source": []
  },
  {
   "cell_type": "code",
   "execution_count": null,
   "metadata": {},
   "outputs": [],
   "source": [
    "pl = plot(eq_rot_E_left_conductor_y_d.rhs().real().subs(z == 0), (x, -h_conductor-A, -A))\n",
    "pl += plot(eq_rot_E_left_conductor_y_d.lhs().real().subs(z == 0), (x, -h_conductor-A, -A))\n",
    "pl.show()"
   ]
  },
  {
   "cell_type": "code",
   "execution_count": null,
   "metadata": {},
   "outputs": [],
   "source": [
    "pl = plot(eq_rot_E_right_conductor_y_d.rhs().real().subs(z == 0), (x, 0, h_conductor))\n",
    "pl += plot(eq_rot_E_right_conductor_y_d.lhs().real().subs(z == 0), (x, 0, h_conductor))\n",
    "pl.show()"
   ]
  },
  {
   "cell_type": "code",
   "execution_count": null,
   "metadata": {},
   "outputs": [],
   "source": [
    "pl = plot(eq_rot_E_left_conductor_y_d.rhs().imag().subs(z == 0), (x, -h_conductor-A, -A))\n",
    "pl += plot(eq_rot_E_left_conductor_y_d.lhs().imag().subs(z == 0), (x, -h_conductor-A, -A))\n",
    "pl.show()"
   ]
  },
  {
   "cell_type": "code",
   "execution_count": null,
   "metadata": {},
   "outputs": [],
   "source": [
    "pl = plot(eq_rot_E_right_conductor_y_d.rhs().imag().subs(z == 0), (x, 0, h_conductor))\n",
    "pl += plot(eq_rot_E_right_conductor_y_d.lhs().imag().subs(z == 0), (x, 0, h_conductor))\n",
    "pl.show()"
   ]
  },
  {
   "cell_type": "code",
   "execution_count": null,
   "metadata": {},
   "outputs": [],
   "source": []
  },
  {
   "cell_type": "code",
   "execution_count": null,
   "metadata": {},
   "outputs": [],
   "source": [
    "#test found solution with boundary conditions"
   ]
  },
  {
   "cell_type": "code",
   "execution_count": null,
   "metadata": {},
   "outputs": [],
   "source": []
  },
  {
   "cell_type": "code",
   "execution_count": null,
   "metadata": {},
   "outputs": [],
   "source": [
    "# граничные условия на границе вакуума внутри резонатора и проводящего металла с потерями\n",
    "# тангенциальная компонента электрического поля\n",
    "eqEz_a_d = Ez_left_conductor_d(x=-A) == Ez_vacuum_d (x=-A)\n",
    "eqEz_0_d = Ez_vacuum_d (x=0) == Ez_right_conductor_d (x=0)\n",
    "\n",
    "print (\"eqEz_a_d = \")\n",
    "# display(Math(latex(eqEz_a_d)))\n",
    "display(Math(latex(eqEz_a_d.lhs().n())))\n",
    "display(Math(latex(eqEz_a_d.rhs().n())))\n",
    "\n",
    "print (\"eqEz_0_d = \")\n",
    "display(Math(latex(eqEz_0_d)))"
   ]
  },
  {
   "cell_type": "code",
   "execution_count": null,
   "metadata": {},
   "outputs": [],
   "source": [
    "# нормальная компонента электрического смещения\n",
    "\n",
    "eqDx_a_d = Ex_left_conductor_d (x=-A) * (epsilon_l_complex.subs(digit_values)) == Ex_vacuum_d (x=-A)\n",
    "\n",
    "print (\"eqDx_a_d =\")\n",
    "display(Math(latex(eqDx_a_d.lhs().n())))\n",
    "display(Math(latex(eqDx_a_d.rhs().n())))\n",
    "\n",
    "eqDx_0_d = Ex_vacuum_d (x=0) == Ex_right_conductor_d (x=0) * (epsilon_r_complex.subs(digit_values))\n",
    "print (\"eqDx_0_d =\")\n",
    "display(Math(latex(eqDx_0_d.lhs().n())))\n",
    "display(Math(latex(eqDx_0_d.rhs().n())))"
   ]
  },
  {
   "cell_type": "code",
   "execution_count": null,
   "metadata": {},
   "outputs": [],
   "source": [
    "# тангенциальная компонента напряженности магнитного поля\n",
    "\n",
    "eqHy_a_d = Hy_left_conductor_d(x=-A) == Hy_vacuum_d(x=-A)\n",
    "\n",
    "print (\"eqHy_a_d =\")\n",
    "display(Math(latex(eqHy_a_d.lhs().n())))\n",
    "display(Math(latex(eqHy_a_d.rhs().n())))\n",
    "\n",
    "\n",
    "eqHy_0_d = Hy_left_conductor_d(x=0) == Hy_vacuum_d(x=0)\n",
    "\n",
    "print (\"eqHy_0_d =\")\n",
    "display(Math(latex(eqHy_0_d.lhs().n())))\n",
    "display(Math(latex(eqHy_0_d.rhs().n())))"
   ]
  },
  {
   "cell_type": "raw",
   "metadata": {},
   "source": [
    "# нормальная компонента индукции магнитного поля\n",
    "eqBx_a  = mu * Hx_bad_conductor_d (a)  == Hx_inner_vacuum_d (a)\n",
    "\n",
    "print (\"eqBx_a =\")\n",
    "display(Math(latex(eqBx_a)))"
   ]
  }
 ],
 "metadata": {
  "kernelspec": {
   "display_name": "SageMath 9.6.beta7",
   "language": "sage",
   "name": "sagemath"
  },
  "language_info": {
   "codemirror_mode": {
    "name": "ipython",
    "version": 3
   },
   "file_extension": ".py",
   "mimetype": "text/x-python",
   "name": "python",
   "nbconvert_exporter": "python",
   "pygments_lexer": "ipython3",
   "version": "3.10.3"
  }
 },
 "nbformat": 4,
 "nbformat_minor": 4
}
