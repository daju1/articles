{
 "cells": [
  {
   "cell_type": "markdown",
   "id": "2a7b6dfb",
   "metadata": {},
   "source": [
    "# Perpetuum mobile of the second kind"
   ]
  },
  {
   "cell_type": "markdown",
   "id": "904063d9",
   "metadata": {},
   "source": [
    "Для оценки мощности\n",
    "\n",
    "# гравитационно адиабатического кольцара\n",
    "нам потребуется \n",
    "# формула плотности потока тепловой энергии в условиях гравитации"
   ]
  },
  {
   "cell_type": "markdown",
   "id": "646c5e66",
   "metadata": {},
   "source": [
    "В установившемся режиме плотность потока энергии, передающейся посредством теплопроводности, пропорциональна градиенту температуры:\n",
    "\n",
    "$\\displaystyle {\\vec {q}}=-\\varkappa \\mathop {\\mathrm {grad} } T$\n",
    "\n",
    "где ${\\displaystyle {\\vec {q}}}$ — вектор плотности теплового потока&nbsp;— количество энергии, проходящей в единицу времени через единицу площади, перпендикулярной каждой оси, ${\\displaystyle \\varkappa }$&nbsp;— коэффициент теплопроводности (удельная теплопроводность), ${\\displaystyle \\mathop {\\textrm {grad}} T}$ (то есть в сторону скорейшего убывания температуры). Это выражение известно как закон теплопроводности Фурье."
   ]
  },
  {
   "cell_type": "markdown",
   "id": "2000819c",
   "metadata": {},
   "source": [
    "Однако в присутствие гравитации в направлении сонаправленном вектору $\\vec{g}$ в законе теплопроводности необходимо учесть влияние градиента температуры, создаваемого движением молекул молекул идеального газа в поле сил тяжести следующим образом: \n",
    "\n",
    "$${\\vec {q}}=-\\varkappa \\left( \\frac{dT}{dz} + \\frac{M \\cdot \\vec{g}}{C_v} \\right)$$\n",
    "\n",
    "Обьяснение полученной формулы следующее: в присутствии гравитации в стационарном случае установившегося вертикального градиента, равного\n",
    "\n",
    "$$\\frac{dT}{dz} = -\\frac{M \\cdot g}{C_v}$$\n",
    "\n",
    "наличие данного температурного градиента не будет приводить к возникновению вертикального теплового потока в толще газа, потому как этот градиент уравновешен гравитационным полем\n",
    "\n",
    "Данная формула плотности потока тепловой энергии в условиях гравитации была получена в работе \n",
    "\n",
    "https://nbviewer.org/github/daju1/articles/blob/master/gas_temperature_gradient_engine/gas_temperature_gradient_engine.ipynb"
   ]
  },
  {
   "cell_type": "markdown",
   "id": "aae92181",
   "metadata": {},
   "source": [
    "# Система дифференциальных уравнений процесса температурного разделения в гравитационном поле применительно к гравитационно-адиабатическому кольцару"
   ]
  },
  {
   "cell_type": "markdown",
   "id": "9643c7b5",
   "metadata": {},
   "source": [
    "Составим систему дифференциальных уравнений\n",
    "\n",
    "плотность теплового потока ${q_z(z)}$ - количество энергии $Q(z)$, проходящей в единицу времени $dt$ через единицу площади $S(z)$ одного из колен кольцара\n",
    "\n",
    "$${q_z(z)} = \\frac{1}{S(z)} \\frac{Q(z)}{dt} $$\n",
    "\n",
    "$$q_z(z)\\,S(z) = \\frac{Q(z)}{dt} $$\n",
    "\n",
    "$$Q(z) = q_z(z)\\,S(z)\\,dt$$\n"
   ]
  },
  {
   "cell_type": "markdown",
   "id": "cca5741a",
   "metadata": {},
   "source": [
    "теплоёмкость при постоянном обьеме\n",
    "\n",
    "$$c_v = \\frac{\\Delta Q}{\\Delta \\nu\\,\\Delta T}$$\n",
    "\n",
    "$$\\Delta T = \\frac{1}{c_v}\\frac{\\Delta Q}{\\Delta \\nu}$$\n",
    "\n",
    "рассмотрим изменение температуры бесконечного тонкого слоя газа в колене кольцара толщиной $dz$ происходящее благодаря разнице тепловых потоков $dQ (z)$ и $dQ (z + dz)$ проходящих через внутреннюю и внешнюю границу этого тонкого слоя\n",
    "\n",
    "$$\\Delta T(z) = \\frac{1}{c_v}\\frac{\\Delta Q (z)}{\\Delta \\nu} = \\frac{1}{c_v}\\frac{Q (z) - Q (z + dz)}{\\Delta \\nu}$$"
   ]
  },
  {
   "cell_type": "markdown",
   "id": "e177f98d",
   "metadata": {},
   "source": [
    "$$dT = \\frac{1}{c_v}\\frac{dQ/dz}{d\\nu/dz}$$"
   ]
  },
  {
   "cell_type": "markdown",
   "id": "bdb59e43",
   "metadata": {},
   "source": [
    "найдем $d\\nu/dz$ для идеального газа исходя из уравнения Клайперона Менделеева\n",
    "\n",
    "$$n = \\frac{N_a p}{R T} = \\frac{N_a \\nu}{V} = \\frac{N_a d\\nu}{dV}$$\n",
    "\n",
    "$$dV = S(z)\\,dz$$\n",
    "\n",
    "$$n = \\frac{N_a d\\nu}{S(z)\\,dz}$$\n",
    "\n",
    "$$\\frac{d\\nu}{dz} = S(z)\\,\\frac{n}{N_a}$$"
   ]
  },
  {
   "cell_type": "markdown",
   "id": "38c41a66",
   "metadata": {},
   "source": [
    "таким образом для идеального газа\n",
    "\n",
    "$$dT = \\frac{N_a}{n\\,c_v}\\frac{dQ/dz}{S(z)}$$"
   ]
  },
  {
   "cell_type": "markdown",
   "id": "e4de6ba7",
   "metadata": {},
   "source": [
    "количество энергии $Q(z)$, проходящей за время $dt$ через площадь $S(z)$ колена, заданной высотой $z$ исходя из плотности теплового потока ${q_r(z)}$\n",
    "\n",
    "$$Q(z) = q_z(z)\\,S(z)\\,dt$$\n",
    "\n",
    "дифференцируем его по $z$ координате\n",
    "\n",
    "$$\\frac{d}{dz}Q(z) = \\frac{d}{dz}\\Big(q_r(z)\\,S(z)\\,dt\\Big)$$\n",
    "\n",
    "\n",
    "$$\\frac{dQ(z)}{dz} = \\Big(\\frac{dq_z(z)}{dz}\\, S(z) + q_z(z)\\,\\frac{dS_z(z)}{dz}\\Big)\\,dt$$\n",
    "\n",
    "\n",
    "Таким образом для идеального газа\n",
    "\n",
    "$$dT = \\frac{N_a}{n\\,c_v}\\frac{\\Big(\\frac{dq_z(z)}{dz}\\, S(z) + q_z(z)\\,\\frac{dS_z(z)}{dz}\\Big)\\,dt}{S(z)}$$\n",
    "\n",
    "$$\\frac{dT}{dt} = \\frac{N_a}{n\\,c_v}\\,\\Bigg(\\frac{dq_z(z)}{dz} + \\frac{q_z(z)}{S(z)}\\,\\frac{dS_z(z)}{dz}\\Bigg)$$"
   ]
  },
  {
   "cell_type": "markdown",
   "id": "7e399716",
   "metadata": {},
   "source": [
    "нужно также применить барометрическую формулу\n",
    "\n",
    "$${\\displaystyle {\\frac {dn}{dz}} = -\\,n\\,{\\frac {M\\,g}{R\\,T}}}$$"
   ]
  },
  {
   "cell_type": "markdown",
   "id": "764a52e5",
   "metadata": {},
   "source": [
    "# Решение дифференциального уравнения процесса температурного разделения в поле гравитации для стационарного случая $\\frac{dT}{dt} = 0$ "
   ]
  },
  {
   "cell_type": "markdown",
   "id": "9aa1ca6b",
   "metadata": {},
   "source": [
    "плотность потока тепловой энергии в условиях гравитации\n",
    "\n",
    "\n",
    "$${q_z}=-\\varkappa(z) \\left( \\frac{dT(z)}{dz} + \\frac{M \\cdot {g}}{C_v} \\right)$$\n"
   ]
  },
  {
   "cell_type": "markdown",
   "id": "5d1d7fcf",
   "metadata": {},
   "source": [
    "для стационарного случая $\\frac{dT}{dt} = 0$ означает\n",
    "\n",
    "$$0 = \\Bigg(\\frac{dq_z(z)}{dz} + \\frac{q_z(z)}{S(z)}\\,\\frac{dS_z(z)}{dz}\\Bigg)$$\n",
    "\n",
    "Пусть $S(z) = const$, тогда\n",
    "\n",
    "$$0 = \\frac{dq_z(z)}{dz}$$\n",
    "\n",
    "то есть $q_z(z) = const$"
   ]
  },
  {
   "cell_type": "markdown",
   "id": "6a08a3f2",
   "metadata": {},
   "source": [
    "плотность потока тепловой энергии элементов Пельтье\n",
    "\n",
    "$\\displaystyle {{q_P}} = -\\left({\\varkappa_P}/{l_P}\\right) \\mathop {\\mathrm {\\Delta} } T$\n",
    "\n",
    "где $\\varkappa_P$ коэффициент теплопроводности (удельная теплопроводность) элемента Пельтье, $l_P$ - толщина элемента Пельтье\n",
    "\n",
    "Разница температур на слое элементов Пельтье\n",
    "\n",
    "$\\mathop {\\mathrm {\\Delta} } T = - \\frac{\\displaystyle {{q_P}} }{\\left({\\varkappa_P}/{l_P}\\right)}$"
   ]
  },
  {
   "cell_type": "markdown",
   "id": "e981a77a",
   "metadata": {},
   "source": [
    "Пусть кольцар устроен таким образом, что площадь колен с газом равна площади элементов Пельтье, тогда $q_P = {q_z(z)}=const=-\\varkappa(z) \\left( \\frac{dT(z)}{dz} + \\frac{M \\cdot {g}}{C_v} \\right)$"
   ]
  },
  {
   "cell_type": "markdown",
   "id": "e1d353aa",
   "metadata": {},
   "source": [
    "Разница температур на верхнем слое элементов Пельтье\n",
    "\n",
    "$\\mathop {\\mathrm {\\Delta} } T_{up} = -\\frac{1}{\\left({\\varkappa_P}/{l_P}\\right)}\\,\\varkappa(z) \\left( \\frac{dT(z)}{dz} + \\frac{M \\cdot {g}}{C_v} \\right)$\n",
    "\n",
    "\n",
    "Разница температур на нижнем слое элементов Пельтье\n",
    "\n",
    "$\\mathop {\\mathrm {\\Delta} } T_{down} = -\\frac{1}{\\left({\\varkappa_P}/{l_P}\\right)}\\,\\varkappa(z) \\left( \\frac{dT(z)}{dz} + \\frac{M \\cdot {g}}{C_v} \\right)$\n"
   ]
  },
  {
   "cell_type": "markdown",
   "id": "c19dd7f5",
   "metadata": {},
   "source": [
    "Исходя из ${q_z}=-\\varkappa(z) \\left( \\frac{dT(z)}{dz} + \\frac{M \\cdot {g}}{C_v} \\right)$ имеем\n",
    "$$\\frac{dT(z)}{dz} = -\\frac{q_z}{\\varkappa(z)} - \\frac{M \\cdot {g}}{C_v} $$"
   ]
  },
  {
   "cell_type": "markdown",
   "id": "fa143cd8",
   "metadata": {},
   "source": [
    "Интегрируя\n",
    "$$T(z) = -\\frac{M g z}{C_{v}}- q_z \\int\\limits_{z_0}^{z} \\frac{d z}{\\varkappa\\left(z\\right)} + C$$"
   ]
  },
  {
   "cell_type": "markdown",
   "id": "66cf6520",
   "metadata": {},
   "source": [
    "# Пренебрегая зависимостью коэффициента теплопроводности от высоты"
   ]
  },
  {
   "cell_type": "markdown",
   "id": "2a25afe4",
   "metadata": {},
   "source": [
    "$$T(z) = -\\frac{M g z}{C_{v}} - \\frac{q_z z}{\\varkappa} + C$$"
   ]
  },
  {
   "cell_type": "markdown",
   "id": "80e0cddc",
   "metadata": {},
   "source": [
    "$$\\Delta T = T(z_2) - T(z_1) = -\\frac{M g\\,(z_2-z_1)}{C_{v}}- q_z\\frac{z_2-z_1}{\\varkappa}$$"
   ]
  },
  {
   "cell_type": "code",
   "execution_count": 1,
   "id": "5b589bba",
   "metadata": {},
   "outputs": [],
   "source": [
    "from IPython.display import display, Math, Latex\n",
    "\n",
    "def disp(ex):\n",
    "    display(Math(latex(ex)))\n",
    "\n",
    "t, z, z_1, z_2 = var(\"t, z, z_1, z_2\")\n",
    "M_A, M_B, g = var(\"M_A, M_B, g\")\n",
    "i_A, i_B, k, R, d = var(\"i_A, i_B, k, R, d\")\n",
    "C_v_A, C_v_B = var(\"C_v_A, C_v_B\")\n",
    "C_A, C_B = var(\"C_A, C_B\")\n",
    "kappa_A, kappa_B = var(\"kappa_A, kappa_B\")\n",
    "kappa_l_P = var(\"kappa_l_P\")\n",
    "#kappa = function(\"kappa\")(z)\n",
    "T = function('T')(z) \n",
    "S = function('S')(z)\n",
    "q = var(\"q\")"
   ]
  },
  {
   "cell_type": "markdown",
   "id": "b7e01a42",
   "metadata": {},
   "source": [
    "Для газа A в левом колене кольцара мы можем записать\n",
    "\n",
    "$$T_A(z) = -\\frac{M_A g z}{{C_{v}}_A} - \\frac{q_z z}{\\varkappa_A} + C_A$$\n",
    "\n",
    "$$\\Delta T_A = T_A(z_2) - T_A(z_1) = -\\frac{M_A g\\,(z_2-z_1)}{{C_{v}}_{A}}- q_z\\frac{z_2-z_1}{\\varkappa_A}$$"
   ]
  },
  {
   "cell_type": "markdown",
   "id": "5ffbf7db",
   "metadata": {},
   "source": [
    "Для газа B в левом колене кольцара мы можем записать\n",
    "\n",
    "$$T_B(z) = -\\frac{M_B g z}{{C_{v}}_B} - \\frac{q_z z}{\\varkappa_B} + C_B$$\n",
    "\n",
    "$$\\Delta T_B = T_B(z_2) - T_B(z_1) = -\\frac{M_B g\\,(z_2-z_1)}{{C_{v}}_{B}}- q_z\\frac{z_2-z_1}{\\varkappa_B}$$"
   ]
  },
  {
   "cell_type": "code",
   "execution_count": 2,
   "id": "f1b401f5",
   "metadata": {},
   "outputs": [],
   "source": [
    "T_A = lambda z : -(M_A * g * z)/(C_v_A) - (q * z)/(kappa_A) + C_A\n",
    "T_B = lambda z : -(M_B * g * z)/(C_v_B) - (q * z)/(kappa_B) + C_B"
   ]
  },
  {
   "cell_type": "code",
   "execution_count": 3,
   "id": "76bd23ad",
   "metadata": {},
   "outputs": [
    {
     "data": {
      "text/latex": [
       "$\\displaystyle -\\frac{M_{A} g z}{C_{v_{A}}} + C_{A} - \\frac{q z}{\\kappa_{A}}$"
      ],
      "text/plain": [
       "<IPython.core.display.Math object>"
      ]
     },
     "metadata": {},
     "output_type": "display_data"
    }
   ],
   "source": [
    "disp(T_A(z))"
   ]
  },
  {
   "cell_type": "code",
   "execution_count": 4,
   "id": "3761373c",
   "metadata": {},
   "outputs": [
    {
     "data": {
      "text/latex": [
       "$\\displaystyle -\\frac{M_{B} g z}{C_{v_{B}}} + C_{B} - \\frac{q z}{\\kappa_{B}}$"
      ],
      "text/plain": [
       "<IPython.core.display.Math object>"
      ]
     },
     "metadata": {},
     "output_type": "display_data"
    }
   ],
   "source": [
    "disp(T_B(z))"
   ]
  },
  {
   "cell_type": "markdown",
   "id": "07698f4e",
   "metadata": {},
   "source": [
    "Предполагаем, что в правой колонке газ B обладает более сильным температурным градиентом вследствие того что $\\frac{M_A}{{C_{v}}_A} < \\frac{M_B}{{C_{v}}_B}$, следовательно \n",
    "\n",
    "$T_A(z_2) > T_B(z_2)$\n",
    "\n",
    "$T_A(z_1) < T_B(z_1)$\n",
    "\n",
    "тепловой поток в кольцаре движется по часовой стрелке. Положительный знак теплового потока означает движение тепла вверх, а отрицательный знак теплового потока означает движение тепла вниз"
   ]
  },
  {
   "cell_type": "markdown",
   "id": "79861cd0",
   "metadata": {},
   "source": [
    "Разница температур на верхнем слое элементов Пельтье\n",
    "\n",
    "$\\mathop {\\mathrm {\\Delta} } T_{up} = T_B(z_2) - T_A(z_2) = -\\frac{q_z}{\\left({\\varkappa_P}/{l_P}\\right)}$\n",
    "\n",
    "\n",
    "Разница температур на нижнем слое элементов Пельтье\n",
    "\n",
    "$\\mathop {\\mathrm {\\Delta} } T_{down} = T_B(z_1) - T_A(z_1) = +\\frac{q_z}{\\left({\\varkappa_P}/{l_P}\\right)}$\n"
   ]
  },
  {
   "cell_type": "markdown",
   "id": "9eaaaf8a",
   "metadata": {},
   "source": [
    "Здесь нужно заметить, что разница температур на нижнем слое элементов Пельтье соответсвтует разнице постоянных интегрирования $C_B - C_A$\n",
    "\n",
    "$C_B - C_A = T_B(z_1) - T_A(z_1) = +\\frac{q_z}{\\left({\\varkappa_P}/{l_P}\\right)}$\n"
   ]
  },
  {
   "cell_type": "markdown",
   "id": "3d104c62",
   "metadata": {},
   "source": [
    "Составляем полученную систему уравнений"
   ]
  },
  {
   "cell_type": "code",
   "execution_count": 81,
   "id": "b454cbcb",
   "metadata": {},
   "outputs": [],
   "source": [
    "eq_Delta_T_up = T_B(z_2) - T_A(z_2) == - q / kappa_l_P\n",
    "eq_Delta_T_dw = T_B(z_1) - T_A(z_1) == + q / kappa_l_P\n",
    "eq_CA_CB = C_B == C_A + q / kappa_l_P"
   ]
  },
  {
   "cell_type": "code",
   "execution_count": 82,
   "id": "65140f64",
   "metadata": {},
   "outputs": [
    {
     "data": {
      "text/latex": [
       "$\\displaystyle \\frac{M_{A} g z_{2}}{C_{v_{A}}} - \\frac{M_{B} g z_{2}}{C_{v_{B}}} - C_{A} + C_{B} + \\frac{q z_{2}}{\\kappa_{A}} - \\frac{q z_{2}}{\\kappa_{B}} = -\\frac{q}{\\kappa_{l_{P}}}$"
      ],
      "text/plain": [
       "<IPython.core.display.Math object>"
      ]
     },
     "metadata": {},
     "output_type": "display_data"
    }
   ],
   "source": [
    "disp(eq_Delta_T_up)"
   ]
  },
  {
   "cell_type": "code",
   "execution_count": 83,
   "id": "61001d4b",
   "metadata": {},
   "outputs": [
    {
     "data": {
      "text/latex": [
       "$\\displaystyle \\frac{M_{A} g z_{2}}{C_{v_{A}}} - \\frac{M_{B} g z_{2}}{C_{v_{B}}} + \\frac{q z_{2}}{\\kappa_{A}} - \\frac{q z_{2}}{\\kappa_{B}} + \\frac{q}{\\kappa_{l_{P}}} = -\\frac{q}{\\kappa_{l_{P}}}$"
      ],
      "text/plain": [
       "<IPython.core.display.Math object>"
      ]
     },
     "metadata": {},
     "output_type": "display_data"
    }
   ],
   "source": [
    "disp(eq_Delta_T_up.subs(eq_CA_CB))"
   ]
  },
  {
   "cell_type": "code",
   "execution_count": 84,
   "id": "5cf927a7",
   "metadata": {},
   "outputs": [
    {
     "data": {
      "text/latex": [
       "$\\displaystyle \\frac{M_{A} g z_{1}}{C_{v_{A}}} - \\frac{M_{B} g z_{1}}{C_{v_{B}}} - C_{A} + C_{B} + \\frac{q z_{1}}{\\kappa_{A}} - \\frac{q z_{1}}{\\kappa_{B}} = \\frac{q}{\\kappa_{l_{P}}}$"
      ],
      "text/plain": [
       "<IPython.core.display.Math object>"
      ]
     },
     "metadata": {},
     "output_type": "display_data"
    }
   ],
   "source": [
    "disp(eq_Delta_T_dw)"
   ]
  },
  {
   "cell_type": "code",
   "execution_count": 85,
   "id": "38ebf99c",
   "metadata": {},
   "outputs": [
    {
     "data": {
      "text/latex": [
       "$\\displaystyle \\frac{M_{A} g z_{1}}{C_{v_{A}}} - \\frac{M_{B} g z_{1}}{C_{v_{B}}} + \\frac{q z_{1}}{\\kappa_{A}} - \\frac{q z_{1}}{\\kappa_{B}} + \\frac{q}{\\kappa_{l_{P}}} = \\frac{q}{\\kappa_{l_{P}}}$"
      ],
      "text/plain": [
       "<IPython.core.display.Math object>"
      ]
     },
     "metadata": {},
     "output_type": "display_data"
    }
   ],
   "source": [
    "disp(eq_Delta_T_dw.subs(eq_CA_CB))"
   ]
  },
  {
   "cell_type": "markdown",
   "id": "29a06cb1",
   "metadata": {},
   "source": [
    "И решая ее"
   ]
  },
  {
   "cell_type": "code",
   "execution_count": 86,
   "id": "47404f38",
   "metadata": {},
   "outputs": [],
   "source": [
    "sol_up_q = solve([eq_Delta_T_up.subs(eq_CA_CB)], q)[0]\n",
    "sol_dw_q = solve([eq_Delta_T_dw.subs(eq_CA_CB)], q)[0]"
   ]
  },
  {
   "cell_type": "code",
   "execution_count": 87,
   "id": "680e90f8",
   "metadata": {},
   "outputs": [
    {
     "data": {
      "text/latex": [
       "$\\displaystyle q = -\\frac{{\\left(C_{v_{B}} M_{A} - C_{v_{A}} M_{B}\\right)} g \\kappa_{A} \\kappa_{B} \\kappa_{l_{P}} z_{2}}{2 \\, C_{v_{A}} C_{v_{B}} \\kappa_{A} \\kappa_{B} - {\\left(C_{v_{A}} C_{v_{B}} \\kappa_{A} - C_{v_{A}} C_{v_{B}} \\kappa_{B}\\right)} \\kappa_{l_{P}} z_{2}}$"
      ],
      "text/plain": [
       "<IPython.core.display.Math object>"
      ]
     },
     "metadata": {},
     "output_type": "display_data"
    }
   ],
   "source": [
    "disp(sol_up_q)"
   ]
  },
  {
   "cell_type": "code",
   "execution_count": 88,
   "id": "e83e8fac",
   "metadata": {},
   "outputs": [
    {
     "data": {
      "text/latex": [
       "$\\displaystyle q = -\\frac{{\\left(C_{v_{B}} M_{A} - C_{v_{A}} M_{B}\\right)} g \\kappa_{A} \\kappa_{B} \\kappa_{l_{P}} z_{2}}{2 \\, C_{v_{A}} C_{v_{B}} \\kappa_{A} \\kappa_{B} - {\\left(C_{v_{A}} C_{v_{B}} \\kappa_{A} - C_{v_{A}} C_{v_{B}} \\kappa_{B}\\right)} \\kappa_{l_{P}} z_{2}}$"
      ],
      "text/plain": [
       "<IPython.core.display.Math object>"
      ]
     },
     "metadata": {},
     "output_type": "display_data"
    }
   ],
   "source": [
    "disp(sol_up_q.full_simplify())"
   ]
  },
  {
   "cell_type": "markdown",
   "id": "43b513d5",
   "metadata": {},
   "source": [
    "Получаем окончательную формулу плотности потока тепловой энергии в кольцаре"
   ]
  },
  {
   "cell_type": "code",
   "execution_count": 89,
   "id": "7f1415ac",
   "metadata": {},
   "outputs": [
    {
     "data": {
      "text/latex": [
       "$\\displaystyle q = \\frac{{\\left(C_{v_{B}} M_{A} - C_{v_{A}} M_{B}\\right)} g \\kappa_{A} \\kappa_{B}}{C_{v_{A}} C_{v_{B}} \\kappa_{A} - C_{v_{A}} C_{v_{B}} \\kappa_{B}}$"
      ],
      "text/plain": [
       "<IPython.core.display.Math object>"
      ]
     },
     "metadata": {},
     "output_type": "display_data"
    }
   ],
   "source": [
    "disp(sol_dw_q)"
   ]
  },
  {
   "cell_type": "markdown",
   "id": "b67bb17e",
   "metadata": {},
   "source": [
    "Подставляем численные значения"
   ]
  },
  {
   "cell_type": "code",
   "execution_count": 90,
   "id": "f9f98ed3",
   "metadata": {},
   "outputs": [],
   "source": [
    "# He\n",
    "values = [M_A == 0.004002602, # 4.002602\n",
    "          C_v_A == i_A * R,\n",
    "          i_A == 3,\n",
    "          kappa_A == 0.1513, # W/(m⋅K) # Thermal conductivity\n",
    "         ]"
   ]
  },
  {
   "cell_type": "code",
   "execution_count": 91,
   "id": "a40c31f3",
   "metadata": {},
   "outputs": [],
   "source": [
    "# Xe\n",
    "values += [M_B == 0.131, # Standard atomic weight 131.293\n",
    "          C_v_B == i_B * R,\n",
    "          i_B == 3,\n",
    "          kappa_B == 0.0057] # Thermal conductivity 5.65×10−3 W/(m⋅K)"
   ]
  },
  {
   "cell_type": "code",
   "execution_count": 92,
   "id": "b03d5620",
   "metadata": {},
   "outputs": [],
   "source": [
    "values += [R == 8.314,\n",
    "          z_1 == 0,\n",
    "          z_2 == 10,\n",
    "          kappa_l_P == 3000, # теплопроводность kappa/l, (Вт / (°С * м^2)) слоя элементов Пельтье\n",
    "          g == 9.8,\n",
    "          ]"
   ]
  },
  {
   "cell_type": "code",
   "execution_count": 93,
   "id": "0dac8dc7",
   "metadata": {},
   "outputs": [
    {
     "data": {
      "text/plain": [
       "q == -0.000295557532731422"
      ]
     },
     "execution_count": 93,
     "metadata": {},
     "output_type": "execute_result"
    }
   ],
   "source": [
    "sol_dw_q.subs(values).subs(values)"
   ]
  },
  {
   "cell_type": "code",
   "execution_count": 94,
   "id": "2699eb9d",
   "metadata": {},
   "outputs": [
    {
     "data": {
      "text/plain": [
       "q == -0.000295557649440154"
      ]
     },
     "execution_count": 94,
     "metadata": {},
     "output_type": "execute_result"
    }
   ],
   "source": [
    "sol_up_q.subs(values).subs(values)"
   ]
  },
  {
   "cell_type": "markdown",
   "id": "45fb4f12",
   "metadata": {},
   "source": [
    "Тут нужно отметить что в приведенном выводе не применялась формула для адиабатического градиента, а применялась формулу температурного градиента Циолковского. Поэтому представляет интерес показать какой градиент температур в данном решении\n",
    "\n",
    "\n",
    "$$\\frac{dT(z)}{dz} = -\\frac{q_z}{\\varkappa(z)} - \\frac{M \\cdot {g}}{C_v} $$"
   ]
  },
  {
   "cell_type": "code",
   "execution_count": 95,
   "id": "f9e8c53a",
   "metadata": {},
   "outputs": [
    {
     "data": {
      "text/latex": [
       "$\\displaystyle -\\frac{C_{v_{B}} M_{A} g \\kappa_{A} - C_{v_{A}} M_{B} g \\kappa_{B}}{C_{v_{A}} C_{v_{B}} \\kappa_{A} - C_{v_{A}} C_{v_{B}} \\kappa_{B}}$"
      ],
      "text/plain": [
       "<IPython.core.display.Math object>"
      ]
     },
     "metadata": {},
     "output_type": "display_data"
    }
   ],
   "source": [
    "dTdZ_A = - sol_dw_q.rhs() / kappa_A - M_A * g / C_v_A\n",
    "disp(dTdZ_A.full_simplify())"
   ]
  },
  {
   "cell_type": "code",
   "execution_count": 99,
   "id": "5301a8be",
   "metadata": {},
   "outputs": [
    {
     "data": {
      "text/latex": [
       "$\\displaystyle \\frac{C_{v_{A}} M_{B} g \\kappa_{B} + {\\left(C_{v_{B}} M_{A} - 2 \\, C_{v_{A}} M_{B}\\right)} g \\kappa_{A}}{C_{v_{A}} C_{v_{B}} \\kappa_{A} - C_{v_{A}} C_{v_{B}} \\kappa_{B}}$"
      ],
      "text/plain": [
       "<IPython.core.display.Math object>"
      ]
     },
     "metadata": {},
     "output_type": "display_data"
    }
   ],
   "source": [
    "dTdZ_B = + sol_dw_q.rhs() / kappa_B - M_B * g / C_v_B\n",
    "disp(dTdZ_B.full_simplify())"
   ]
  },
  {
   "cell_type": "code",
   "execution_count": 100,
   "id": "2ace0d78",
   "metadata": {},
   "outputs": [
    {
     "data": {
      "text/plain": [
       "0.000380785045073802"
      ]
     },
     "execution_count": 100,
     "metadata": {},
     "output_type": "execute_result"
    }
   ],
   "source": [
    "dTdZ_A.subs(values).subs(values)"
   ]
  },
  {
   "cell_type": "code",
   "execution_count": 101,
   "id": "1ea026c9",
   "metadata": {},
   "outputs": [
    {
     "data": {
      "text/plain": [
       "-0.103323612404548"
      ]
     },
     "execution_count": 101,
     "metadata": {},
     "output_type": "execute_result"
    }
   ],
   "source": [
    "dTdZ_B.subs(values).subs(values)"
   ]
  },
  {
   "cell_type": "code",
   "execution_count": null,
   "id": "862e0fb3",
   "metadata": {},
   "outputs": [],
   "source": []
  },
  {
   "cell_type": "code",
   "execution_count": null,
   "id": "2634a4df",
   "metadata": {},
   "outputs": [],
   "source": []
  },
  {
   "cell_type": "markdown",
   "id": "33734f27",
   "metadata": {},
   "source": [
    "# Не пренебрегая зависимостью коэффициента теплопроводности от высоты\n",
    "\n",
    "(этот расчёт пока не окончен)"
   ]
  },
  {
   "cell_type": "markdown",
   "id": "c385e233",
   "metadata": {},
   "source": [
    "Коэффициент теплопроводности идеального газа\n",
    "\n",
    "${\\displaystyle \\varkappa \\sim {\\frac {1}{3}}\\rho c_{v}\\lambda {\\bar {v}},}$"
   ]
  },
  {
   "cell_type": "markdown",
   "id": "8941ed3c",
   "metadata": {},
   "source": [
    "<p>где ${\\displaystyle \\rho }$&nbsp;— плотность газа, ${\\displaystyle c_{v}}$&nbsp;— удельная теплоёмкость при постоянном объёме, ${\\displaystyle \\lambda }$&nbsp;— средняя длина свободного пробега молекул газа, ${\\displaystyle {\\bar {v}}}$&nbsp;— средняя тепловая скорость. Эта же формула может быть записана как</p>"
   ]
  },
  {
   "cell_type": "markdown",
   "id": "3068c27b",
   "metadata": {},
   "source": [
    "$${\\displaystyle \\varkappa ={\\frac {ik}{3\\pi ^{3/2}d^{2}}}{\\sqrt {\\frac {RT}{M }}},}$$"
   ]
  },
  {
   "cell_type": "markdown",
   "id": "8110eada",
   "metadata": {},
   "source": [
    "длина свободного пробега\n",
    "\n",
    "${\\displaystyle \\lambda ={\\frac {1}{{\\sqrt {2}}\\sigma n}}}$, где ${\\displaystyle \\sigma }$ — эффективное сечение молекулы, равное ${\\displaystyle {\\pi d^{2}}}$\n",
    "\n",
    "${\\displaystyle d}$ — эффективный диаметр молекулы), а ${\\displaystyle n}$ концентрация молекул."
   ]
  },
  {
   "cell_type": "markdown",
   "id": "705d6789",
   "metadata": {},
   "source": [
    "Подставляя\n",
    "\n",
    "$$T(z) = -\\frac{M g z}{C_{v}}- q_z \\int\\limits_{z_0}^{z} \\frac{d z}{{\\frac {ik}{3\\pi ^{3/2}d^{2}}}{\\sqrt {\\frac {R T(z)}{M }}}} + C$$"
   ]
  },
  {
   "cell_type": "markdown",
   "id": "43dd22b6",
   "metadata": {},
   "source": [
    "$$\\Delta T = -\\frac{M g\\,(z_2-z_1)}{C_{v}}- q_z\\,\\frac{3\\pi^{3/2}d^{2}}{ik} \\sqrt {\\frac {M}{R}} \\int\\limits_{z_1}^{z_2} \\frac{d z}{{}{\\sqrt{T(z)}}}$$"
   ]
  },
  {
   "cell_type": "markdown",
   "id": "48c8d417",
   "metadata": {},
   "source": [
    "плотность потока тепловой энергии в условиях гравитации\n",
    "\n",
    "\n",
    "$${q_z}=-{\\frac {ik}{3\\pi ^{3/2}d^{2}}}{\\sqrt {\\frac {RT(z)}{M }}} \\left( \\frac{dT(z)}{dz} + \\frac{M \\cdot {g}}{C_v} \\right)$$\n"
   ]
  },
  {
   "cell_type": "code",
   "execution_count": 21,
   "id": "7552d935",
   "metadata": {},
   "outputs": [],
   "source": [
    "from IPython.display import display, Math, Latex\n",
    "\n",
    "t, z = var(\"t, z\")\n",
    "M, g = var(\"M, g\")\n",
    "i, k, R, d = var(\"i, k, R, d\")\n",
    "C_v = var(\"C_v\")\n",
    "kappa = var(\"kappa\")\n",
    "#kappa = function(\"kappa\")(z)\n",
    "T = function('T')(z)\n",
    "S = function('S')(z)\n",
    "q = var(\"q\")"
   ]
  },
  {
   "cell_type": "code",
   "execution_count": 22,
   "id": "13af2ef2",
   "metadata": {},
   "outputs": [
    {
     "data": {
      "text/latex": [
       "$\\displaystyle q = -{\\left(\\frac{M g}{C_{v}} + \\frac{\\partial}{\\partial z}T\\left(z\\right)\\right)} \\kappa$"
      ],
      "text/plain": [
       "<IPython.core.display.Math object>"
      ]
     },
     "metadata": {},
     "output_type": "display_data"
    }
   ],
   "source": [
    "kappa_z = i*k/(3*pi^(3/2)*d^2)*sqrt(R*T/M)\n",
    "q_z = - kappa*(diff(T, z) + M * g / (C_v))\n",
    "display(Math(latex(q == q_z)))"
   ]
  },
  {
   "cell_type": "markdown",
   "id": "636ccc55",
   "metadata": {},
   "source": [
    "решаем полученное дифференциальное уравнение относительно температуры"
   ]
  },
  {
   "cell_type": "code",
   "execution_count": 23,
   "id": "f49f16dc",
   "metadata": {},
   "outputs": [
    {
     "data": {
      "text/latex": [
       "$\\displaystyle C - \\frac{{\\left(M g \\kappa + C_{v} q\\right)} z}{C_{v} \\kappa}$"
      ],
      "text/plain": [
       "<IPython.core.display.Math object>"
      ]
     },
     "metadata": {},
     "output_type": "display_data"
    }
   ],
   "source": [
    "sol_T_z = desolve(q_z == q, T, ivar=z, contrib_ode=True, show_method=True)\n",
    "T_z     = sol_T_z[0]\n",
    "display(Math(latex(T_z)))"
   ]
  },
  {
   "cell_type": "markdown",
   "id": "735602b6",
   "metadata": {},
   "source": [
    "диффиренцируя решение по радиусу находим производную  $\\frac{dT(z)}{dz}$"
   ]
  },
  {
   "cell_type": "code",
   "execution_count": 24,
   "id": "edc59085",
   "metadata": {},
   "outputs": [
    {
     "data": {
      "text/latex": [
       "$\\displaystyle -\\frac{M g \\kappa + C_{v} q}{C_{v} \\kappa}$"
      ],
      "text/plain": [
       "<IPython.core.display.Math object>"
      ]
     },
     "metadata": {},
     "output_type": "display_data"
    }
   ],
   "source": [
    "display(Math(latex(diff(T_z, z))))"
   ]
  },
  {
   "cell_type": "code",
   "execution_count": 25,
   "id": "43228177",
   "metadata": {},
   "outputs": [
    {
     "data": {
      "text/latex": [
       "$\\displaystyle -\\frac{M g z}{C_{v}} - \\frac{q z}{\\kappa}$"
      ],
      "text/plain": [
       "<IPython.core.display.Math object>"
      ]
     },
     "metadata": {},
     "output_type": "display_data"
    }
   ],
   "source": [
    "display(Math(latex(diff(T_z, z).integrate(z).expand())))"
   ]
  },
  {
   "cell_type": "code",
   "execution_count": null,
   "id": "2f971b3a",
   "metadata": {},
   "outputs": [],
   "source": []
  },
  {
   "cell_type": "code",
   "execution_count": null,
   "id": "e0dae5b4",
   "metadata": {},
   "outputs": [],
   "source": []
  }
 ],
 "metadata": {
  "kernelspec": {
   "display_name": "SageMath 9.6.beta7",
   "language": "sage",
   "name": "sagemath"
  },
  "language_info": {
   "codemirror_mode": {
    "name": "ipython",
    "version": 3
   },
   "file_extension": ".py",
   "mimetype": "text/x-python",
   "name": "python",
   "nbconvert_exporter": "python",
   "pygments_lexer": "ipython3",
   "version": "3.10.3"
  }
 },
 "nbformat": 4,
 "nbformat_minor": 5
}
