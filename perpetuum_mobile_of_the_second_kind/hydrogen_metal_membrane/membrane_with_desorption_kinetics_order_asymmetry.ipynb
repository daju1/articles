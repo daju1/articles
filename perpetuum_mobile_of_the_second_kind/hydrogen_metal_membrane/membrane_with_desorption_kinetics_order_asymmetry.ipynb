{
 "cells": [
  {
   "cell_type": "markdown",
   "id": "c8bce2bc",
   "metadata": {},
   "source": [
    "# Мембрана с асимметрией порядка кинетики десорбции"
   ]
  },
  {
   "cell_type": "markdown",
   "id": "6af7889a",
   "metadata": {},
   "source": [
    "Я не рассматривал (пока что) теоретически такую несимметричную мембрану для которой одна поверхность характеризовалась бы (преимущественной) кинетикой десорбции первого порядка, а вторая поверхность характеризовалась бы преимущественной кинетикой второго порядка.\n",
    " \n",
    "Есть предположение, что мембрана с несимметрией также и порядка кинетики десорбции может оказаться перспективным объектом в плане установления самоподдерживающегося (за счет внутренней тепловой энергии) потока водорода"
   ]
  },
  {
   "cell_type": "markdown",
   "id": "0d46f35c",
   "metadata": {},
   "source": [
    " Кинетика растворения и выделения водорода металлами\n",
    "\n",
    "Растворение и выделение водорода металлами следует рассматривать как многоступенчатые процессы. \n",
    "\n",
    "В этом случае процесс тепловой эволюции имеет порядок $n$ по приповерхностной концентрации $c$ растворенного водорода, и вероятность термического растворения молекулы газообразного водорода при одном ударе о поверхность металла равна вероятности диссоциативного связывания молекулы, $\\alpha$. Соответственно, скорости термического растворения, $j_a$, и эволюции, $j_r$, даются (при условии, что покрытие поверхности водородом далеко от насыщения) следующими выражениями\n",
    "\n",
    "\\begin{equation}\n",
    "\\begin{array}{lr}\n",
    "\\begin{array}{ll}\n",
    "j_{a0} = \\alpha_0 Z p, & j_{r0} = k_{r_0} c_0^{n_0} , \\\\\\\\\n",
    "j_{aL} = \\alpha_L Z p, & j_{rL} = k_{r_L} c_L^{n_L} , \\\\\\\\\n",
    "\\end{array} & (1) \\\\\\\\\n",
    "\\end{array}\n",
    "\\end{equation}"
   ]
  },
  {
   "cell_type": "markdown",
   "id": "ef3ea6b2",
   "metadata": {},
   "source": [
    "где $p$ - давление водорода, $Z$ - коэффициент кинетической теории\n",
    "коэффициент ($Z = (2 \\pi m k T)^{-1/2}$, где $m$ - масса\n",
    "масса молекулы газа, а $k$ - постоянная Больцмана; $Z \\approx 1.2 \\times 10^{19} H_2 \\big /(см^2 \\, с \\, Па)$ при 20 $^{\\circ}C$), $k_{rO}$ и $k_{rL}$ - константы скорости эволюции, с индексами $0$ и $L$, относящимися к поверхностям входа (вверх по течению) и выхода (вниз по течению), соответственно. Вероятности $\\alpha$ могут быть представлены в виде\n",
    "\n",
    "\\begin{equation}\n",
    "\\begin{array}{l}\n",
    "\\begin{array}{lr}\n",
    "\\alpha_0 = \\alpha_{0}^{*}  \\sigma_0 \\, exp\\left[ -2 \\left(E_{a1}\\right)_0 \\right / RT], \\\\\\\\\n",
    "\\alpha_L = \\alpha_{L}^{*} \\sigma_L \\, exp\\left[ -2 \\left(E_{a1}\\right)_L\\right / RT], \\\\\\\\\n",
    "\\end{array} & (2)\\\\\\\\\n",
    "\\end{array}\n",
    "\\end{equation}"
   ]
  },
  {
   "cell_type": "markdown",
   "id": "43e3d421",
   "metadata": {},
   "source": [
    "барьеры $E_{a1}$ показаны на рис. 1. Величины $\\alpha_{0}^{*}$ и $\\alpha_{L}^{*}$ являются предэкспоненциалами порядка $0.1-1$, а $\\sigma_0$ и $\\sigma_L$ - доли поверхности, занятые центрами, активными в рассматриваемой кинетике растворения-эволюции # (для однородной поверхности $\\sigma = 1$).\n",
    "\n",
    "Оставшаяся часть поверхности $1 - \\sigma$ имеет больший барьер $E_{a1}$."
   ]
  },
  {
   "cell_type": "markdown",
   "id": "b230942a",
   "metadata": {},
   "source": [
    "барьеры $E_{a1}$ показаны на рис. 1. Величины $\\alpha_{0}^{*}$ и $\\alpha_{L}^{*}$ являются предэкспоненциалами порядка $0.1-1$, а $\\sigma_0$ и $\\sigma_L$ - доли поверхности, занятые центрами, активными в рассматриваемой кинетике растворения-эволюции # (для однородной поверхности $\\sigma = 1$).\n",
    "\n",
    "Оставшаяся часть поверхности $1 - \\sigma$ имеет больший барьер $E_{a1}$."
   ]
  },
  {
   "cell_type": "markdown",
   "id": "ce1eb266",
   "metadata": {},
   "source": [
    "Согласно закону Фика\n",
    "\n",
    "\\begin{equation}\n",
    "j = - D \\frac{dc_{ab}}{dx}\n",
    "\\end{equation}\n",
    "\n",
    "где $D$ - коэффициент диффузии газа в материале мембраны, а $c_{ab}(X)$ - стационарное распределение плотности газа в мембране"
   ]
  },
  {
   "cell_type": "markdown",
   "id": "00df5bf6",
   "metadata": {},
   "source": [
    "\\begin{equation}\n",
    "\\begin{array}{l}\n",
    "\\begin{array}{llr}\n",
    "x = 0 & -D\\frac{d c_{ab}}{dx} = j_{a0} - j_{r0}, \\\\\n",
    "x = l & -D\\frac{d c_{ab}}{dx} = j_{rL} - j_{aL}, \\\\\n",
    "\\end{array} & (5)\\\\\n",
    "\\end{array}\n",
    "\\end{equation}"
   ]
  },
  {
   "cell_type": "markdown",
   "id": "6085824c",
   "metadata": {},
   "source": [
    "\\begin{equation}\n",
    "\\begin{array}{l}\n",
    "\\begin{array}{llr}\n",
    "x = 0 & -D\\frac{d c_{ab}}{dx} = \\alpha_0 Z p_0 - k_{r_0} c_0^{n_0}, \\\\\n",
    "x = l & -D\\frac{d c_{ab}}{dx} = k_{r_L} c_L^{n_L} - \\alpha_L Z p_L, \\\\\n",
    "\\end{array} & (5)\\\\\n",
    "\\end{array}\n",
    "\\end{equation}"
   ]
  },
  {
   "cell_type": "markdown",
   "id": "6a9479ae",
   "metadata": {},
   "source": [
    "В уравнении (5) индексы «0» и «1» относятся, соответственно, к\n",
    "правой и левой сторонам мембраны (рис. 1). Из уравнений\n",
    "(3) и (5) и с учетом уравнения (4) получаем"
   ]
  },
  {
   "cell_type": "markdown",
   "id": "bb052e2e",
   "metadata": {},
   "source": [
    "\\begin{equation}\n",
    "\\begin{array}{l}\n",
    "\\begin{array}{llr}\n",
    "j = j_0 = j_l = \\alpha_0 Z p_0 - k_{r_0} c_0^{n_0} = k_{r_L} c_L^{n_L} - \\alpha_L Z p_L, \\\\\n",
    "\\end{array} & (5)\\\\\n",
    "\\end{array}\n",
    "\\end{equation}"
   ]
  },
  {
   "cell_type": "code",
   "execution_count": 1,
   "id": "a7a4eb55",
   "metadata": {},
   "outputs": [],
   "source": [
    "var(\"x,l,v, D, Z, alpha_0, p_0, k_0, c_0, n_0, alpha_l, p_l, k_l, c_l, n_l\")\n",
    "c = function(\"c\")(x)\n",
    "assume(n_0 > 0)\n",
    "assume(n_l > 0)\n",
    "from IPython.display import display, Math, Latex\n",
    "def disp(ex):\n",
    "    display(Math(latex(ex)))"
   ]
  },
  {
   "cell_type": "code",
   "execution_count": 2,
   "id": "5e2c73fd",
   "metadata": {},
   "outputs": [
    {
     "data": {
      "text/latex": [
       "$\\displaystyle Z \\alpha_{0} p_{0} - k_{0} c\\left(0\\right)^{n_{0}} = -Z \\alpha_{l} p_{l} + k_{l} c\\left(l\\right)^{n_{l}}$"
      ],
      "text/plain": [
       "<IPython.core.display.Math object>"
      ]
     },
     "metadata": {},
     "output_type": "display_data"
    }
   ],
   "source": [
    "eq_j = alpha_0 * Z * p_0 - k_0*c(x=0)^n_0 == k_l*c(x=l)^n_l - alpha_l * Z * p_l\n",
    "disp(eq_j)"
   ]
  },
  {
   "cell_type": "code",
   "execution_count": 3,
   "id": "dd1157cf",
   "metadata": {},
   "outputs": [
    {
     "data": {
      "text/latex": [
       "$\\displaystyle \\left[c\\left(0\\right)^{n_{0}} = \\frac{Z \\alpha_{0} p_{0} + Z \\alpha_{l} p_{l} - k_{l} c\\left(l\\right)^{n_{l}}}{k_{0}}\\right]$"
      ],
      "text/plain": [
       "<IPython.core.display.Math object>"
      ]
     },
     "metadata": {},
     "output_type": "display_data"
    }
   ],
   "source": [
    "c0n0_sol_j = solve(eq_j, c(x=0)^n_0)\n",
    "disp(c0n0_sol_j)"
   ]
  },
  {
   "cell_type": "code",
   "execution_count": 4,
   "id": "22a17cd4",
   "metadata": {},
   "outputs": [
    {
     "data": {
      "text/latex": [
       "$\\displaystyle \\left[c\\left(l\\right)^{n_{l}} = \\frac{Z \\alpha_{0} p_{0} + Z \\alpha_{l} p_{l} - k_{0} c\\left(0\\right)^{n_{0}}}{k_{l}}\\right]$"
      ],
      "text/plain": [
       "<IPython.core.display.Math object>"
      ]
     },
     "metadata": {},
     "output_type": "display_data"
    }
   ],
   "source": [
    "clnl_sol_j = solve(eq_j, c(x=l)^n_l)\n",
    "disp(clnl_sol_j)"
   ]
  },
  {
   "cell_type": "code",
   "execution_count": 5,
   "id": "f5374264",
   "metadata": {},
   "outputs": [
    {
     "data": {
      "text/latex": [
       "$\\displaystyle c\\left(0\\right) = \\left(\\frac{Z \\alpha_{0} p_{0} + Z \\alpha_{l} p_{l} - k_{l} c\\left(l\\right)^{n_{l}}}{k_{0}}\\right)^{\\left(\\frac{1}{n_{0}}\\right)}$"
      ],
      "text/plain": [
       "<IPython.core.display.Math object>"
      ]
     },
     "metadata": {},
     "output_type": "display_data"
    }
   ],
   "source": [
    "c0_sol_j = c(x=0) == c0n0_sol_j[0].rhs()^(1/n_0)\n",
    "disp(c0_sol_j)"
   ]
  },
  {
   "cell_type": "code",
   "execution_count": 6,
   "id": "441f933d",
   "metadata": {},
   "outputs": [
    {
     "data": {
      "text/latex": [
       "$\\displaystyle c\\left(l\\right) = \\left(\\frac{Z \\alpha_{0} p_{0} + Z \\alpha_{l} p_{l} - k_{0} c\\left(0\\right)^{n_{0}}}{k_{l}}\\right)^{\\left(\\frac{1}{n_{l}}\\right)}$"
      ],
      "text/plain": [
       "<IPython.core.display.Math object>"
      ]
     },
     "metadata": {},
     "output_type": "display_data"
    }
   ],
   "source": [
    "cl_sol_j = c(x=l) == clnl_sol_j[0].rhs()^(1/n_l)\n",
    "disp(cl_sol_j)"
   ]
  },
  {
   "cell_type": "markdown",
   "id": "01a9b471",
   "metadata": {},
   "source": [
    "\\begin{equation}\n",
    "\\begin{array}{l}\n",
    "\\begin{array}{llr}\n",
    "x = 0 & -D\\frac{d c_{ab}}{dx} = \\alpha_0 Z p_0 - k_{r_0} c_0^{n_0}, \\\\\n",
    "x = l & -D\\frac{d c_{ab}}{dx} = k_{r_L} c_L^{n_L} - \\alpha_L Z p_L, \\\\\n",
    "\\end{array} & (5)\\\\\n",
    "\\end{array}\n",
    "\\end{equation}"
   ]
  },
  {
   "cell_type": "markdown",
   "id": "1b28329f",
   "metadata": {},
   "source": [
    "интегрируем дифференциальные уравнения диффузии"
   ]
  },
  {
   "cell_type": "markdown",
   "id": "730d2e62",
   "metadata": {},
   "source": [
    "\\begin{equation}\n",
    "\\begin{array}{l}\n",
    "\\begin{array}{llr}\n",
    "x = 0 & -D\\,{d c} = \\left(\\alpha_0 Z p_0 - k_{r_0} c_0^{n_0}\\right){dx}, \\\\\n",
    "x = l & -D\\,{d c} = \\left(k_{r_L} c_L^{n_L} - \\alpha_L Z p_L\\right){dx}, \\\\\n",
    "\\end{array} & (5)\\\\\n",
    "\\end{array}\n",
    "\\end{equation}"
   ]
  },
  {
   "cell_type": "markdown",
   "id": "0471c45d",
   "metadata": {},
   "source": [
    "\\begin{equation}\n",
    "\\begin{array}{l}\n",
    "\\begin{array}{llr}\n",
    "x = 0 & -D \\int\\limits_{0}^{l}{d c} = \\left(\\alpha_0 Z p_0 - k_{r_0} c_0^{n_0}\\right)\\int\\limits_{0}^{l}{dx}, \\\\\n",
    "x = l & -D \\int\\limits_{0}^{l}{d c} = \\left(k_{r_L} c_L^{n_L} - \\alpha_L Z p_L\\right)\\int\\limits_{0}^{l}{dx}, \\\\\n",
    "\\end{array} & (5)\\\\\n",
    "\\end{array}\n",
    "\\end{equation}"
   ]
  },
  {
   "cell_type": "markdown",
   "id": "6e09d486",
   "metadata": {},
   "source": [
    "учитывая, что стационарное распределение плотности газа в мембране определяется из уравнения"
   ]
  },
  {
   "cell_type": "markdown",
   "id": "818388d5",
   "metadata": {},
   "source": [
    "\\begin{equation}\n",
    "\\frac{d^2 с}{dx^{2}} = 0\n",
    "\\end{equation}"
   ]
  },
  {
   "cell_type": "markdown",
   "id": "c2e65b45",
   "metadata": {},
   "source": [
    "получаем"
   ]
  },
  {
   "cell_type": "markdown",
   "id": "22a29292",
   "metadata": {},
   "source": [
    "\\begin{equation}\n",
    "\\begin{array}{l}\n",
    "\\begin{array}{llr}\n",
    "x = 0 & -D \\left(c_{{l}} - c_{{0}}\\right) = \\left(\\alpha_0 Z p_0 - k_{r_0} c_0^{n_0}\\right)\\, l, \\\\\n",
    "x = l & -D \\left(c_{{l}} - c_{{0}}\\right) = \\left(k_{r_L} c_L^{n_L} - \\alpha_L Z p_L\\right)\\,l\\\\\n",
    "\\end{array} & (5)\\\\\n",
    "\\end{array}\n",
    "\\end{equation}"
   ]
  },
  {
   "cell_type": "code",
   "execution_count": 7,
   "id": "725519f5",
   "metadata": {},
   "outputs": [],
   "source": [
    "eq_0_0l = - D * (c(x=l) - c(x=0)) == (alpha_0 * Z * p_0 - k_0*c(x=0)^n_0) * l\n",
    "eq_l_0l = - D * (c(x=l) - c(x=0)) == (k_l*c(x=l)^n_l - alpha_l * Z * p_l) * l"
   ]
  },
  {
   "cell_type": "code",
   "execution_count": 8,
   "id": "6d2cc4a0",
   "metadata": {},
   "outputs": [
    {
     "data": {
      "text/latex": [
       "$\\displaystyle D {\\left(c\\left(0\\right) - c\\left(l\\right)\\right)} = {\\left(Z \\alpha_{0} p_{0} - k_{0} c\\left(0\\right)^{n_{0}}\\right)} l$"
      ],
      "text/plain": [
       "<IPython.core.display.Math object>"
      ]
     },
     "metadata": {},
     "output_type": "display_data"
    },
    {
     "data": {
      "text/latex": [
       "$\\displaystyle D {\\left(c\\left(0\\right) - c\\left(l\\right)\\right)} = -{\\left(Z \\alpha_{l} p_{l} - k_{l} c\\left(l\\right)^{n_{l}}\\right)} l$"
      ],
      "text/plain": [
       "<IPython.core.display.Math object>"
      ]
     },
     "metadata": {},
     "output_type": "display_data"
    }
   ],
   "source": [
    "disp(eq_0_0l)\n",
    "disp(eq_l_0l)"
   ]
  },
  {
   "cell_type": "markdown",
   "id": "65df97d2",
   "metadata": {},
   "source": [
    "Итак мы имеем систему из трёх уравнений с двумя неизвестными"
   ]
  },
  {
   "cell_type": "code",
   "execution_count": 9,
   "id": "4fec7ad2",
   "metadata": {},
   "outputs": [
    {
     "data": {
      "text/latex": [
       "$\\displaystyle Z \\alpha_{0} p_{0} - k_{0} c\\left(0\\right)^{n_{0}} = -Z \\alpha_{l} p_{l} + k_{l} c\\left(l\\right)^{n_{l}}$"
      ],
      "text/plain": [
       "<IPython.core.display.Math object>"
      ]
     },
     "metadata": {},
     "output_type": "display_data"
    },
    {
     "data": {
      "text/latex": [
       "$\\displaystyle D {\\left(c\\left(0\\right) - c\\left(l\\right)\\right)} = {\\left(Z \\alpha_{0} p_{0} - k_{0} c\\left(0\\right)^{n_{0}}\\right)} l$"
      ],
      "text/plain": [
       "<IPython.core.display.Math object>"
      ]
     },
     "metadata": {},
     "output_type": "display_data"
    },
    {
     "data": {
      "text/latex": [
       "$\\displaystyle D {\\left(c\\left(0\\right) - c\\left(l\\right)\\right)} = -{\\left(Z \\alpha_{l} p_{l} - k_{l} c\\left(l\\right)^{n_{l}}\\right)} l$"
      ],
      "text/plain": [
       "<IPython.core.display.Math object>"
      ]
     },
     "metadata": {},
     "output_type": "display_data"
    }
   ],
   "source": [
    "disp(eq_j)\n",
    "disp(eq_0_0l)\n",
    "disp(eq_l_0l)"
   ]
  },
  {
   "cell_type": "markdown",
   "id": "13d7472c",
   "metadata": {},
   "source": [
    "произведя подстановку выражений для $c(0)$ и $c(l)$, полученных из первого уравнения во второе и третье, получаем два отдельных уравнения для $c(0)$ и $c(l)$"
   ]
  },
  {
   "cell_type": "code",
   "execution_count": 10,
   "id": "42064ff8",
   "metadata": {},
   "outputs": [
    {
     "data": {
      "text/latex": [
       "$\\displaystyle -D {\\left(\\left(\\frac{Z \\alpha_{0} p_{0} + Z \\alpha_{l} p_{l} - k_{0} c\\left(0\\right)^{n_{0}}}{k_{l}}\\right)^{\\left(\\frac{1}{n_{l}}\\right)} - c\\left(0\\right)\\right)} = {\\left(Z \\alpha_{0} p_{0} - k_{0} c\\left(0\\right)^{n_{0}}\\right)} l$"
      ],
      "text/plain": [
       "<IPython.core.display.Math object>"
      ]
     },
     "metadata": {},
     "output_type": "display_data"
    },
    {
     "data": {
      "text/latex": [
       "$\\displaystyle D {\\left(\\left(\\frac{Z \\alpha_{0} p_{0} + Z \\alpha_{l} p_{l} - k_{l} c\\left(l\\right)^{n_{l}}}{k_{0}}\\right)^{\\left(\\frac{1}{n_{0}}\\right)} - c\\left(l\\right)\\right)} = -{\\left(Z \\alpha_{l} p_{l} - k_{l} c\\left(l\\right)^{n_{l}}\\right)} l$"
      ],
      "text/plain": [
       "<IPython.core.display.Math object>"
      ]
     },
     "metadata": {},
     "output_type": "display_data"
    }
   ],
   "source": [
    "eq_c0 = eq_0_0l.subs(cl_sol_j)\n",
    "eq_cl = eq_l_0l.subs(c0_sol_j)\n",
    "disp(eq_c0)\n",
    "disp(eq_cl)"
   ]
  },
  {
   "cell_type": "markdown",
   "id": "bb8a5227",
   "metadata": {},
   "source": [
    "решая каждое из этих уравнений в отдельности находим решения относительно $c(0)$ и $c(l)$"
   ]
  },
  {
   "cell_type": "code",
   "execution_count": 11,
   "id": "879963fe",
   "metadata": {},
   "outputs": [
    {
     "data": {
      "text/latex": [
       "$\\displaystyle \\left[c\\left(0\\right) = \\frac{Z \\alpha_{0} l p_{0} - k_{0} l c\\left(0\\right)^{n_{0}} + D \\left(\\frac{Z \\alpha_{0} p_{0} + Z \\alpha_{l} p_{l} - k_{0} c\\left(0\\right)^{n_{0}}}{k_{l}}\\right)^{\\left(\\frac{1}{n_{l}}\\right)}}{D}\\right]$"
      ],
      "text/plain": [
       "<IPython.core.display.Math object>"
      ]
     },
     "metadata": {},
     "output_type": "display_data"
    }
   ],
   "source": [
    "c0_sol = solve([eq_c0],c(x=0))\n",
    "disp(c0_sol)"
   ]
  },
  {
   "cell_type": "code",
   "execution_count": 12,
   "id": "21eec42f",
   "metadata": {},
   "outputs": [
    {
     "data": {
      "text/latex": [
       "$\\displaystyle \\left[c\\left(l\\right) = \\frac{Z \\alpha_{l} l p_{l} - k_{l} l c\\left(l\\right)^{n_{l}} + D \\left(\\frac{Z \\alpha_{0} p_{0} + Z \\alpha_{l} p_{l} - k_{l} c\\left(l\\right)^{n_{l}}}{k_{0}}\\right)^{\\left(\\frac{1}{n_{0}}\\right)}}{D}\\right]$"
      ],
      "text/plain": [
       "<IPython.core.display.Math object>"
      ]
     },
     "metadata": {},
     "output_type": "display_data"
    }
   ],
   "source": [
    "cl_sol = solve([eq_cl],c(x=l))\n",
    "disp(cl_sol)"
   ]
  },
  {
   "cell_type": "markdown",
   "id": "9ed5e65d",
   "metadata": {},
   "source": [
    "Запишем теперь выражение для максимально возможной разности давлений при установлении нулевого потока через мембрану - это может произойти при равенстве концентраций растворенного в мембране водорода по обе стороны мембраны"
   ]
  },
  {
   "cell_type": "code",
   "execution_count": 35,
   "id": "5311e987",
   "metadata": {},
   "outputs": [],
   "source": [
    "eq_0_0l_j0 = 0 == (alpha_0 * Z * p_0 - k_0*c(x=0)^n_0) * l\n",
    "eq_l_0l_j0 = 0 == (k_l*c(x=l)^n_l - alpha_l * Z * p_l) * l"
   ]
  },
  {
   "cell_type": "markdown",
   "id": "be5253bd",
   "metadata": {},
   "source": [
    "Решаем относительно концентрации"
   ]
  },
  {
   "cell_type": "code",
   "execution_count": 40,
   "id": "f4935a87",
   "metadata": {},
   "outputs": [
    {
     "data": {
      "text/latex": [
       "$\\displaystyle \\left[c\\left(0\\right) = \\left(\\frac{Z \\alpha_{0} p_{0}}{k_{0}}\\right)^{\\left(\\frac{1}{n_{0}}\\right)}\\right]$"
      ],
      "text/plain": [
       "<IPython.core.display.Math object>"
      ]
     },
     "metadata": {},
     "output_type": "display_data"
    }
   ],
   "source": [
    "assume(n_0>0)\n",
    "assume(n_0, \"integer\")\n",
    "sol_c0_j0 = solve([eq_0_0l_j0],c(x=0))\n",
    "disp(sol_c0_j0)"
   ]
  },
  {
   "cell_type": "code",
   "execution_count": 41,
   "id": "b5a2ed5b",
   "metadata": {},
   "outputs": [
    {
     "data": {
      "text/latex": [
       "$\\displaystyle \\left[c\\left(l\\right) = \\left(\\frac{Z \\alpha_{l} p_{l}}{k_{l}}\\right)^{\\left(\\frac{1}{n_{l}}\\right)}\\right]$"
      ],
      "text/plain": [
       "<IPython.core.display.Math object>"
      ]
     },
     "metadata": {},
     "output_type": "display_data"
    }
   ],
   "source": [
    "assume(n_l>0)\n",
    "assume(n_l, \"integer\")\n",
    "sol_cl_j0 = solve([eq_l_0l_j0],c(x=l))\n",
    "disp(sol_cl_j0)"
   ]
  },
  {
   "cell_type": "markdown",
   "id": "1961f3dd",
   "metadata": {},
   "source": [
    "записываем уравнение связывающее давление по обе стороны мембраны при установлении нулевого потока "
   ]
  },
  {
   "cell_type": "code",
   "execution_count": 43,
   "id": "ed4e0274",
   "metadata": {},
   "outputs": [
    {
     "data": {
      "text/latex": [
       "$\\displaystyle \\left(\\frac{Z \\alpha_{0} p_{0}}{k_{0}}\\right)^{\\left(\\frac{1}{n_{0}}\\right)} = \\left(\\frac{Z \\alpha_{l} p_{l}}{k_{l}}\\right)^{\\left(\\frac{1}{n_{l}}\\right)}$"
      ],
      "text/plain": [
       "<IPython.core.display.Math object>"
      ]
     },
     "metadata": {},
     "output_type": "display_data"
    }
   ],
   "source": [
    "eq_p_0l_j0 = sol_c0_j0[0].rhs() == sol_cl_j0[0].rhs()\n",
    "disp(eq_p_0l_j0)"
   ]
  },
  {
   "cell_type": "markdown",
   "id": "2e10144a",
   "metadata": {},
   "source": [
    "Пусть порядок реакции десорбции 1 на обоих сторонах мембраны"
   ]
  },
  {
   "cell_type": "markdown",
   "id": "0dfb69d0",
   "metadata": {},
   "source": [
    "тогда соотношение давлений по обе стороны мембраны при установлении нулевого потока "
   ]
  },
  {
   "cell_type": "code",
   "execution_count": 45,
   "id": "8388213b",
   "metadata": {},
   "outputs": [
    {
     "data": {
      "text/latex": [
       "$\\displaystyle \\frac{Z \\alpha_{0} p_{0}}{k_{0}} = \\frac{Z \\alpha_{l} p_{l}}{k_{l}}$"
      ],
      "text/plain": [
       "<IPython.core.display.Math object>"
      ]
     },
     "metadata": {},
     "output_type": "display_data"
    }
   ],
   "source": [
    "eq_p_0l_j0_11 = eq_p_0l_j0.subs(n_0 == 1, n_l == 1)\n",
    "disp(eq_p_0l_j0_11)"
   ]
  },
  {
   "cell_type": "markdown",
   "id": "900360a7",
   "metadata": {},
   "source": [
    "Давление на выходной стороне мембраны"
   ]
  },
  {
   "cell_type": "code",
   "execution_count": 47,
   "id": "d1acb0ea",
   "metadata": {},
   "outputs": [
    {
     "data": {
      "text/latex": [
       "$\\displaystyle \\left[p_{l} = \\frac{\\alpha_{0} k_{l} p_{0}}{\\alpha_{l} k_{0}}\\right]$"
      ],
      "text/plain": [
       "<IPython.core.display.Math object>"
      ]
     },
     "metadata": {},
     "output_type": "display_data"
    }
   ],
   "source": [
    "sol_pl_eq_p_0l_j0_11 = eq_p_0l_j0_11.solve(p_l)\n",
    "disp(sol_pl_eq_p_0l_j0_11)"
   ]
  },
  {
   "cell_type": "markdown",
   "id": "c6790a70",
   "metadata": {},
   "source": [
    "Концентрация растворенного водорода на разных поверхностях мембраны"
   ]
  },
  {
   "cell_type": "code",
   "execution_count": 13,
   "id": "e47043e9",
   "metadata": {},
   "outputs": [
    {
     "data": {
      "text/latex": [
       "$\\displaystyle \\left[c\\left(0\\right) = \\frac{D Z \\alpha_{l} p_{l} + {\\left(Z \\alpha_{0} k_{l} l + D Z \\alpha_{0}\\right)} p_{0}}{k_{0} k_{l} l + D k_{0} + D k_{l}}\\right]$"
      ],
      "text/plain": [
       "<IPython.core.display.Math object>"
      ]
     },
     "metadata": {},
     "output_type": "display_data"
    }
   ],
   "source": [
    "c0_sol_11 = solve([eq_c0.subs(n_0 == 1, n_l == 1)],c(x=0))\n",
    "disp(c0_sol_11)"
   ]
  },
  {
   "cell_type": "code",
   "execution_count": 14,
   "id": "cdb05918",
   "metadata": {},
   "outputs": [
    {
     "data": {
      "text/latex": [
       "$\\displaystyle \\left[c\\left(l\\right) = \\frac{D Z \\alpha_{0} p_{0} + {\\left(Z \\alpha_{l} k_{0} l + D Z \\alpha_{l}\\right)} p_{l}}{k_{0} k_{l} l + D k_{0} + D k_{l}}\\right]$"
      ],
      "text/plain": [
       "<IPython.core.display.Math object>"
      ]
     },
     "metadata": {},
     "output_type": "display_data"
    }
   ],
   "source": [
    "cl_sol_11 = solve([eq_cl.subs(n_0 == 1, n_l == 1)],c(x=l))\n",
    "disp(cl_sol_11)"
   ]
  },
  {
   "cell_type": "markdown",
   "id": "0e329a35",
   "metadata": {},
   "source": [
    "Найдем теперь поток из закона Фика\n",
    "\n",
    "\\begin{equation}\n",
    "j = - D \\frac{d c}{dx} = -D \\frac{c_l-c_0}{l}\n",
    "\\end{equation}"
   ]
  },
  {
   "cell_type": "code",
   "execution_count": 15,
   "id": "99dad8c8",
   "metadata": {},
   "outputs": [
    {
     "data": {
      "text/latex": [
       "$\\displaystyle j = \\frac{D {\\left(c\\left(0\\right) - c\\left(l\\right)\\right)}}{l}$"
      ],
      "text/plain": [
       "<IPython.core.display.Math object>"
      ]
     },
     "metadata": {},
     "output_type": "display_data"
    }
   ],
   "source": [
    "var(\"j\")\n",
    "eq_jD = j == - D * (c(x=l) - c(x=0)) / l\n",
    "disp(eq_jD)"
   ]
  },
  {
   "cell_type": "markdown",
   "id": "e413c1a8",
   "metadata": {},
   "source": [
    "произведя подстановку выражений для $c(0)$ и $c(l)$"
   ]
  },
  {
   "cell_type": "code",
   "execution_count": 16,
   "id": "a550ab98",
   "metadata": {},
   "outputs": [
    {
     "data": {
      "text/latex": [
       "$\\displaystyle j = -\\frac{D {\\left(\\frac{D Z \\alpha_{0} p_{0} + {\\left(Z \\alpha_{l} k_{0} l + D Z \\alpha_{l}\\right)} p_{l}}{k_{0} k_{l} l + D k_{0} + D k_{l}} - \\frac{D Z \\alpha_{l} p_{l} + {\\left(Z \\alpha_{0} k_{l} l + D Z \\alpha_{0}\\right)} p_{0}}{k_{0} k_{l} l + D k_{0} + D k_{l}}\\right)}}{l}$"
      ],
      "text/plain": [
       "<IPython.core.display.Math object>"
      ]
     },
     "metadata": {},
     "output_type": "display_data"
    }
   ],
   "source": [
    "eq_J_11 = eq_jD.subs(c0_sol_11).subs(cl_sol_11)\n",
    "disp(eq_J_11)"
   ]
  },
  {
   "cell_type": "code",
   "execution_count": 65,
   "id": "24c799f2",
   "metadata": {},
   "outputs": [
    {
     "data": {
      "text/latex": [
       "$\\displaystyle j = \\frac{{\\left(\\alpha_{0} k_{l} p_{0} - \\alpha_{l} k_{0} p_{l}\\right)} D Z}{k_{0} k_{l} l + D k_{0} + D k_{l}}$"
      ],
      "text/plain": [
       "<IPython.core.display.Math object>"
      ]
     },
     "metadata": {},
     "output_type": "display_data"
    }
   ],
   "source": [
    "eq_J_11 = eq_jD.subs(c0_sol_11).subs(cl_sol_11).factor()\n",
    "disp(eq_J_11)"
   ]
  },
  {
   "cell_type": "markdown",
   "id": "1d54f97a",
   "metadata": {},
   "source": [
    "рассмотрим теперь несимметричную мембрану\n",
    "\n",
    "$\\alpha_0 \\neq \\alpha_l$\n",
    "\n",
    "$k_0 \\neq k_l$\n",
    "\n",
    "$n_0 = n_l = 1$\n",
    "\n",
    "в равновесных условиях\n",
    "\n",
    "$p_0 = p_l$\n",
    "\n",
    "\n",
    "$Z_0 = Z_l$\n"
   ]
  },
  {
   "cell_type": "markdown",
   "id": "1c5cf944",
   "metadata": {},
   "source": [
    "Максимально возможный поток, который устанавливается при отсуствии разности давлений"
   ]
  },
  {
   "cell_type": "code",
   "execution_count": 63,
   "id": "68ff8fe7",
   "metadata": {},
   "outputs": [
    {
     "data": {
      "text/latex": [
       "$\\displaystyle j = -\\frac{{\\left(\\alpha_{l} k_{0} - \\alpha_{0} k_{l}\\right)} D Z p_{0}}{k_{0} k_{l} l + D k_{0} + D k_{l}}$"
      ],
      "text/plain": [
       "<IPython.core.display.Math object>"
      ]
     },
     "metadata": {},
     "output_type": "display_data"
    }
   ],
   "source": [
    "J_equal_p = (eq_J_11.subs(p_l == p_0)).factor()\n",
    "disp(J_equal_p)"
   ]
  },
  {
   "cell_type": "markdown",
   "id": "36bf229a",
   "metadata": {},
   "source": [
    "Итак, рассмотрение кинетики десорбции первого порядка показало, что в данной теоретической постановке, стационарный неравновесный поток при равенстве давлений и температур в несимметричной мембране устанавливается при условии что\n",
    "\n",
    "$\\alpha_l \\zeta_0 - \\xi_0 k_l \\neq 0$,\n",
    "\n",
    "$\\alpha_l k_0 \\neq \\alpha_0 k_l$\n",
    "\n",
    "$\\frac{\\alpha_l}{k_l}  \\neq \\frac{\\alpha_0}{k_0} $."
   ]
  },
  {
   "cell_type": "markdown",
   "id": "2fce30bf",
   "metadata": {},
   "source": [
    "Рассмотрим теперь ситуацию, когда разность давлений на выходной и входной сторонах мембраны составляет половину максимальной разности давлений которая установилась бы при нулевом потоке\n",
    "\n",
    "Максимальная разность давлений"
   ]
  },
  {
   "cell_type": "code",
   "execution_count": 53,
   "id": "d30f73b0",
   "metadata": {},
   "outputs": [
    {
     "data": {
      "text/latex": [
       "$\\displaystyle \\frac{\\alpha_{0} k_{l} p_{0}}{\\alpha_{l} k_{0}} - p_{0}$"
      ],
      "text/plain": [
       "<IPython.core.display.Math object>"
      ]
     },
     "metadata": {},
     "output_type": "display_data"
    }
   ],
   "source": [
    "delta_p = (sol_pl_eq_p_0l_j0_11[0].rhs() - p_0)\n",
    "disp(delta_p)"
   ]
  },
  {
   "cell_type": "code",
   "execution_count": 55,
   "id": "cda53c49",
   "metadata": {},
   "outputs": [
    {
     "data": {
      "text/latex": [
       "$\\displaystyle -\\frac{{\\left(\\alpha_{l} k_{0} - \\alpha_{0} k_{l}\\right)} p_{0}}{\\alpha_{l} k_{0}}$"
      ],
      "text/plain": [
       "<IPython.core.display.Math object>"
      ]
     },
     "metadata": {},
     "output_type": "display_data"
    }
   ],
   "source": [
    "delta_p = delta_p.factor()\n",
    "disp(delta_p)"
   ]
  },
  {
   "cell_type": "markdown",
   "id": "b5a3ac99",
   "metadata": {},
   "source": [
    "Половина максимальной разности давлений"
   ]
  },
  {
   "cell_type": "code",
   "execution_count": 56,
   "id": "428648f4",
   "metadata": {},
   "outputs": [
    {
     "data": {
      "text/latex": [
       "$\\displaystyle -\\frac{{\\left(\\alpha_{l} k_{0} - \\alpha_{0} k_{l}\\right)} p_{0}}{2 \\, \\alpha_{l} k_{0}}$"
      ],
      "text/plain": [
       "<IPython.core.display.Math object>"
      ]
     },
     "metadata": {},
     "output_type": "display_data"
    }
   ],
   "source": [
    "halh_delta_p = delta_p / 2\n",
    "disp(halh_delta_p)"
   ]
  },
  {
   "cell_type": "markdown",
   "id": "4625d01c",
   "metadata": {},
   "source": [
    "Выходное давление котрое устанавливается при потоке соотвествующем половинной разности давлений"
   ]
  },
  {
   "cell_type": "code",
   "execution_count": 68,
   "id": "d3db793b",
   "metadata": {},
   "outputs": [
    {
     "data": {
      "text/latex": [
       "$\\displaystyle \\frac{{\\left(\\alpha_{l} k_{0} + \\alpha_{0} k_{l}\\right)} p_{0}}{2 \\, \\alpha_{l} k_{0}}$"
      ],
      "text/plain": [
       "<IPython.core.display.Math object>"
      ]
     },
     "metadata": {},
     "output_type": "display_data"
    }
   ],
   "source": [
    "halh_delta_p_p_l = (p_0 + halh_delta_p).factor()\n",
    "disp(halh_delta_p_p_l)"
   ]
  },
  {
   "cell_type": "markdown",
   "id": "ac9ad867",
   "metadata": {},
   "source": [
    "поток, который устанавливается при половинной разности давлений"
   ]
  },
  {
   "cell_type": "code",
   "execution_count": 69,
   "id": "3e251f7b",
   "metadata": {},
   "outputs": [
    {
     "data": {
      "text/latex": [
       "$\\displaystyle j = -\\frac{{\\left(\\alpha_{l} k_{0} - \\alpha_{0} k_{l}\\right)} D Z p_{0}}{2 \\, {\\left(k_{0} k_{l} l + D k_{0} + D k_{l}\\right)}}$"
      ],
      "text/plain": [
       "<IPython.core.display.Math object>"
      ]
     },
     "metadata": {},
     "output_type": "display_data"
    }
   ],
   "source": [
    "J_halh_delta_p = (eq_J_11.subs(p_l == halh_delta_p_p_l)).factor()\n",
    "disp(J_halh_delta_p)"
   ]
  },
  {
   "cell_type": "markdown",
   "id": "901316e2",
   "metadata": {},
   "source": [
    "этот поток равен половине максимального потока"
   ]
  },
  {
   "cell_type": "code",
   "execution_count": 70,
   "id": "1cd4899d",
   "metadata": {},
   "outputs": [
    {
     "data": {
      "text/latex": [
       "$\\displaystyle \\frac{1}{2}$"
      ],
      "text/plain": [
       "<IPython.core.display.Math object>"
      ]
     },
     "metadata": {},
     "output_type": "display_data"
    }
   ],
   "source": [
    "disp(J_halh_delta_p.rhs() / J_equal_p.rhs())"
   ]
  },
  {
   "cell_type": "code",
   "execution_count": null,
   "id": "b0e5f753",
   "metadata": {},
   "outputs": [],
   "source": []
  },
  {
   "cell_type": "markdown",
   "id": "0e0551bb",
   "metadata": {},
   "source": [
    "# Пусть порядок реакции десорбции 1, 2 на обоих сторонах мембраны"
   ]
  },
  {
   "cell_type": "code",
   "execution_count": 19,
   "id": "7ecbfef5",
   "metadata": {},
   "outputs": [
    {
     "data": {
      "text/latex": [
       "$\\displaystyle -D {\\left(\\sqrt{\\frac{Z \\alpha_{0} p_{0} + Z \\alpha_{l} p_{l} - k_{0} c\\left(0\\right)}{k_{l}}} - c\\left(0\\right)\\right)} = {\\left(Z \\alpha_{0} p_{0} - k_{0} c\\left(0\\right)\\right)} l$"
      ],
      "text/plain": [
       "<IPython.core.display.Math object>"
      ]
     },
     "metadata": {},
     "output_type": "display_data"
    }
   ],
   "source": [
    "eq_c0_12 = eq_c0.subs(n_0 == 1, n_l == 2)\n",
    "disp(eq_c0_12)"
   ]
  },
  {
   "cell_type": "code",
   "execution_count": 20,
   "id": "603e972c",
   "metadata": {},
   "outputs": [
    {
     "data": {
      "text/latex": [
       "$\\displaystyle \\sqrt{\\frac{Z \\alpha_{0} p_{0} + Z \\alpha_{l} p_{l} - k_{0} c\\left(0\\right)}{k_{l}}} - c\\left(0\\right) = -\\frac{{\\left(Z \\alpha_{0} p_{0} - k_{0} c\\left(0\\right)\\right)} l}{D}$"
      ],
      "text/plain": [
       "<IPython.core.display.Math object>"
      ]
     },
     "metadata": {},
     "output_type": "display_data"
    }
   ],
   "source": [
    "eq_c0_12 = eq_c0.subs(n_0 == 1, n_l == 2)/(-D)\n",
    "disp(eq_c0_12)"
   ]
  },
  {
   "cell_type": "code",
   "execution_count": 21,
   "id": "c79bc7b0",
   "metadata": {},
   "outputs": [
    {
     "data": {
      "text/latex": [
       "$\\displaystyle \\sqrt{\\frac{Z \\alpha_{0} p_{0} + Z \\alpha_{l} p_{l} - k_{0} c\\left(0\\right)}{k_{l}}} = -\\frac{{\\left(Z \\alpha_{0} p_{0} - k_{0} c\\left(0\\right)\\right)} l}{D} + c\\left(0\\right)$"
      ],
      "text/plain": [
       "<IPython.core.display.Math object>"
      ]
     },
     "metadata": {},
     "output_type": "display_data"
    }
   ],
   "source": [
    "eq_c0_12 = eq_c0.subs(n_0 == 1, n_l == 2)/(-D)+c(x=0)\n",
    "disp(eq_c0_12)"
   ]
  },
  {
   "cell_type": "code",
   "execution_count": 22,
   "id": "c105d307",
   "metadata": {},
   "outputs": [
    {
     "data": {
      "text/latex": [
       "$\\displaystyle \\frac{Z \\alpha_{0} p_{0} + Z \\alpha_{l} p_{l} - k_{0} c\\left(0\\right)}{k_{l}} = {\\left(\\frac{{\\left(Z \\alpha_{0} p_{0} - k_{0} c\\left(0\\right)\\right)} l}{D} - c\\left(0\\right)\\right)}^{2}$"
      ],
      "text/plain": [
       "<IPython.core.display.Math object>"
      ]
     },
     "metadata": {},
     "output_type": "display_data"
    }
   ],
   "source": [
    "eq_c0_12_ = eq_c0_12.lhs()^2 == eq_c0_12.rhs()^2\n",
    "disp(eq_c0_12_)"
   ]
  },
  {
   "cell_type": "code",
   "execution_count": 23,
   "id": "2c09cbe6",
   "metadata": {
    "scrolled": true
   },
   "outputs": [
    {
     "data": {
      "text/latex": [
       "$\\displaystyle D {\\left(\\frac{Z \\alpha_{0} p_{0} + Z \\alpha_{l} p_{l} - k_{l} c\\left(l\\right)^{2}}{k_{0}} - c\\left(l\\right)\\right)} = -{\\left(Z \\alpha_{l} p_{l} - k_{l} c\\left(l\\right)^{2}\\right)} l$"
      ],
      "text/plain": [
       "<IPython.core.display.Math object>"
      ]
     },
     "metadata": {},
     "output_type": "display_data"
    }
   ],
   "source": [
    "eq_cl_12 = eq_cl.subs(n_0 == 1, n_l == 2)\n",
    "disp(eq_cl_12)"
   ]
  },
  {
   "cell_type": "code",
   "execution_count": 24,
   "id": "029ef50c",
   "metadata": {},
   "outputs": [
    {
     "data": {
      "text/latex": [
       "$\\displaystyle \\left[c\\left(0\\right) = -\\frac{D^{2} k_{0} - 2 \\, {\\left(Z \\alpha_{0} k_{0} k_{l} l^{2} + D Z \\alpha_{0} k_{l} l\\right)} p_{0} + \\sqrt{D^{2} k_{0}^{2} + 4 \\, {\\left(D Z \\alpha_{0} k_{0} k_{l} l + D^{2} Z \\alpha_{0} k_{l}\\right)} p_{0} + 4 \\, {\\left(Z \\alpha_{l} k_{0}^{2} k_{l} l^{2} + 2 \\, D Z \\alpha_{l} k_{0} k_{l} l + D^{2} Z \\alpha_{l} k_{l}\\right)} p_{l}} D}{2 \\, {\\left(k_{0}^{2} k_{l} l^{2} + 2 \\, D k_{0} k_{l} l + D^{2} k_{l}\\right)}}, c\\left(0\\right) = -\\frac{D^{2} k_{0} - 2 \\, {\\left(Z \\alpha_{0} k_{0} k_{l} l^{2} + D Z \\alpha_{0} k_{l} l\\right)} p_{0} - \\sqrt{D^{2} k_{0}^{2} + 4 \\, {\\left(D Z \\alpha_{0} k_{0} k_{l} l + D^{2} Z \\alpha_{0} k_{l}\\right)} p_{0} + 4 \\, {\\left(Z \\alpha_{l} k_{0}^{2} k_{l} l^{2} + 2 \\, D Z \\alpha_{l} k_{0} k_{l} l + D^{2} Z \\alpha_{l} k_{l}\\right)} p_{l}} D}{2 \\, {\\left(k_{0}^{2} k_{l} l^{2} + 2 \\, D k_{0} k_{l} l + D^{2} k_{l}\\right)}}\\right]$"
      ],
      "text/plain": [
       "<IPython.core.display.Math object>"
      ]
     },
     "metadata": {},
     "output_type": "display_data"
    }
   ],
   "source": [
    "sol_c0_12 = eq_c0_12_.solve(c(x=0))\n",
    "disp(sol_c0_12)"
   ]
  },
  {
   "cell_type": "code",
   "execution_count": 25,
   "id": "8c1029ce",
   "metadata": {},
   "outputs": [
    {
     "data": {
      "text/latex": [
       "$\\displaystyle \\left[c\\left(l\\right) = -\\frac{D k_{0} + \\sqrt{D^{2} k_{0}^{2} + 4 \\, {\\left(D Z \\alpha_{0} k_{0} k_{l} l + D^{2} Z \\alpha_{0} k_{l}\\right)} p_{0} + 4 \\, {\\left(Z \\alpha_{l} k_{0}^{2} k_{l} l^{2} + 2 \\, D Z \\alpha_{l} k_{0} k_{l} l + D^{2} Z \\alpha_{l} k_{l}\\right)} p_{l}}}{2 \\, {\\left(k_{0} k_{l} l + D k_{l}\\right)}}, c\\left(l\\right) = -\\frac{D k_{0} - \\sqrt{D^{2} k_{0}^{2} + 4 \\, {\\left(D Z \\alpha_{0} k_{0} k_{l} l + D^{2} Z \\alpha_{0} k_{l}\\right)} p_{0} + 4 \\, {\\left(Z \\alpha_{l} k_{0}^{2} k_{l} l^{2} + 2 \\, D Z \\alpha_{l} k_{0} k_{l} l + D^{2} Z \\alpha_{l} k_{l}\\right)} p_{l}}}{2 \\, {\\left(k_{0} k_{l} l + D k_{l}\\right)}}\\right]$"
      ],
      "text/plain": [
       "<IPython.core.display.Math object>"
      ]
     },
     "metadata": {},
     "output_type": "display_data"
    }
   ],
   "source": [
    "sol_cl_12 = eq_cl_12.solve(c(x=l))\n",
    "disp(sol_cl_12)"
   ]
  },
  {
   "cell_type": "markdown",
   "id": "13d01f77",
   "metadata": {},
   "source": [
    "произведя подстановку выражений для $c(0)$ и $c(l)$"
   ]
  },
  {
   "cell_type": "code",
   "execution_count": 26,
   "id": "c04f0bea",
   "metadata": {},
   "outputs": [
    {
     "data": {
      "text/latex": [
       "$\\displaystyle j = \\frac{{\\left(2 \\, Z \\alpha_{0} k_{0} k_{l} l p_{0} + 2 \\, D Z \\alpha_{0} k_{l} p_{0} + D k_{0}^{2} - \\sqrt{D^{2} k_{0}^{2} + 4 \\, {\\left(D Z \\alpha_{0} k_{0} k_{l} l + D^{2} Z \\alpha_{0} k_{l}\\right)} p_{0} + 4 \\, {\\left(Z \\alpha_{l} k_{0}^{2} k_{l} l^{2} + 2 \\, D Z \\alpha_{l} k_{0} k_{l} l + D^{2} Z \\alpha_{l} k_{l}\\right)} p_{l}} k_{0}\\right)} D}{2 \\, {\\left(k_{0} l + D\\right)}^{2} k_{l}}$"
      ],
      "text/plain": [
       "<IPython.core.display.Math object>"
      ]
     },
     "metadata": {},
     "output_type": "display_data"
    }
   ],
   "source": [
    "eq_J_12 = eq_jD.subs(sol_c0_12[1]).subs(sol_cl_12[1]).factor()\n",
    "disp(eq_J_12)"
   ]
  },
  {
   "cell_type": "markdown",
   "id": "fee272ac",
   "metadata": {},
   "source": [
    "рассмотрим теперь несимметричную мембрану\n",
    "\n",
    "$\\alpha_0 \\neq \\alpha_l$\n",
    "\n",
    "$k_0 \\neq k_l$\n",
    "\n",
    "$n_0 = 1 \\neq n_l = 2$\n",
    "\n",
    "в равновесных условиях\n",
    "\n",
    "$p_0 = p_l$\n",
    "\n",
    "\n",
    "$Z_0 = Z_l$\n"
   ]
  },
  {
   "cell_type": "code",
   "execution_count": 27,
   "id": "986c2b25",
   "metadata": {},
   "outputs": [
    {
     "data": {
      "text/latex": [
       "$\\displaystyle j = \\frac{{\\left(2 \\, Z \\alpha_{0} k_{0} k_{l} l p_{0} + 2 \\, D Z \\alpha_{0} k_{l} p_{0} + D k_{0}^{2} - \\sqrt{D^{2} k_{0}^{2} + 4 \\, {\\left(Z \\alpha_{l} k_{0}^{2} k_{l} l^{2} + {\\left(D Z \\alpha_{0} + 2 \\, D Z \\alpha_{l}\\right)} k_{0} k_{l} l + {\\left(D^{2} Z \\alpha_{0} + D^{2} Z \\alpha_{l}\\right)} k_{l}\\right)} p_{0}} k_{0}\\right)} D}{2 \\, {\\left(k_{0} l + D\\right)}^{2} k_{l}}$"
      ],
      "text/plain": [
       "<IPython.core.display.Math object>"
      ]
     },
     "metadata": {},
     "output_type": "display_data"
    }
   ],
   "source": [
    "disp((eq_J_12.subs(p_l == p_0)).factor())"
   ]
  },
  {
   "cell_type": "code",
   "execution_count": 28,
   "id": "22b5d973",
   "metadata": {},
   "outputs": [
    {
     "data": {
      "text/plain": [
       "(D, Z, alpha_0, alpha_l, j, k_0, k_l, l, p_0)"
      ]
     },
     "execution_count": 28,
     "metadata": {},
     "output_type": "execute_result"
    }
   ],
   "source": [
    "((eq_J_12.subs(p_l == p_0)).factor()).variables()"
   ]
  },
  {
   "cell_type": "code",
   "execution_count": null,
   "id": "ad498e66",
   "metadata": {},
   "outputs": [],
   "source": []
  }
 ],
 "metadata": {
  "kernelspec": {
   "display_name": "SageMath 9.6.beta7",
   "language": "sage",
   "name": "sagemath"
  },
  "language_info": {
   "codemirror_mode": {
    "name": "ipython",
    "version": 3
   },
   "file_extension": ".py",
   "mimetype": "text/x-python",
   "name": "python",
   "nbconvert_exporter": "python",
   "pygments_lexer": "ipython3",
   "version": "3.10.3"
  }
 },
 "nbformat": 4,
 "nbformat_minor": 5
}
