{
 "cells": [
  {
   "cell_type": "markdown",
   "metadata": {},
   "source": [
    "# К вопросу о зависимости силы Казимира от толщины пластин"
   ]
  },
  {
   "cell_type": "markdown",
   "metadata": {},
   "source": [
    "By A. Ju. Drozdov\n",
    "\n",
    "(Feb 14. 2021. - Sept 16 2022)\n",
    "\n",
    "Kharkov"
   ]
  },
  {
   "cell_type": "markdown",
   "metadata": {},
   "source": [
    "В данной работе я хочу проанализировав статью Казимира показать что выведенная им формула силы Казимира может быть усовершенствована таким образом, что сила Казимира на самом деле должна зависеть не только от расстояния между пластинами но так же и от удельной массы каждой из пластин."
   ]
  },
  {
   "cell_type": "markdown",
   "metadata": {},
   "source": [
    "https://www.dwc.knaw.nl/DL/publications/PU00018547.pdf\n",
    "\n",
    "Mathematics. - On the attraction between two perfectly conducting\n",
    "plates. By H . B. G. CASIMIR\n",
    "\n",
    "(Communicated at the meeting of May 29. 1948.) "
   ]
  },
  {
   "cell_type": "markdown",
   "metadata": {},
   "source": [
    "Let us consider a cubic cavity of volume $L^3$ bounded by perfectly conducting walls and let a perfectly conducting square plate with side $L$ be\n",
    "placed in this cavity parallel to the $xy$ face and let us compare the\n",
    "situation in which this plate is at a small distance a from the $xy$ face and the\n",
    "situation in which it is at a very large distance. say $L/2$. In both cases the\n",
    "expressions $\\frac{1}{2}\\sum\\,\\hbar\\omega$ where the summation extends over all possible\n",
    "resonance frequencies of the cavities are divergent and devoid of physical\n",
    "meaning but the difference between these sums in the two situations,\n",
    "$\\frac{1}{2\\,V_{I}}\\left(\\sum\\,\\,\\hbar\\omega\\right)_{I} - \\frac{1}{2\\,V_{II}}\\left(\\sum\\,\\,\\hbar\\omega\\right)_{II}$, will be shown to have a weIl defined value and this\n",
    "value will be interpreted as the interaction between the plate and the\n",
    "$xy$ face."
   ]
  },
  {
   "cell_type": "markdown",
   "metadata": {},
   "source": [
    "The possible vibrations of a cavity defined by "
   ]
  },
  {
   "cell_type": "markdown",
   "metadata": {},
   "source": [
    "$0<=x<=L$, $0<=y<=L$, $0<=z<=a$ "
   ]
  },
  {
   "cell_type": "markdown",
   "metadata": {},
   "source": [
    "have wave numbers "
   ]
  },
  {
   "cell_type": "markdown",
   "metadata": {},
   "source": [
    "$k_x = \\frac{\\pi}{L}\\,n_x$, $k_y = \\frac{\\pi}{L}\\,n_y$, $k_z = \\frac{\\pi}{a}\\,n_z$,\n",
    "\n",
    "where $n_x$. $n_y$, $n_z$:\n",
    "\n",
    "are positive integers;"
   ]
  },
  {
   "cell_type": "markdown",
   "metadata": {},
   "source": [
    "$k = \\sqrt{k_x^2+k_y^2+k_z^2} = \\sqrt{\\kappa^2+k_z^2}$. "
   ]
  },
  {
   "cell_type": "markdown",
   "metadata": {},
   "source": [
    "To every $k_x$, $k_y$, $k_z$ correspond two standing waves unless one of the $n_i$\n",
    "is zero, when there is only one. For $k_x$, $k_y$ this is without importance since\n",
    "for very large $L$ we may regard $k_x$, $k_y$ as continuous variables. Thus we\n",
    "find "
   ]
  },
  {
   "cell_type": "markdown",
   "metadata": {},
   "source": [
    "$\\frac{1}{2}\\sum\\,\\hbar\\omega = \\hbar\\,c\\frac{L^2}{\\pi^2}\\int\\limits_{0}^{\\infty}\\int\\limits_{0}^{\\infty}\\left[{\\frac{1}{2}\\sqrt{k_x^2+k_y^2}+\\sum\\limits_{n=1}^{\\infty}\\sqrt{n^2\\frac{\\pi^2}{a^2}+k_x^2+k_y^2}}\\right]d{k_x}d{k_y}$"
   ]
  },
  {
   "cell_type": "markdown",
   "metadata": {},
   "source": [
    "or, introducing polar coordinates in the $k_x$, $k_y$ plane. "
   ]
  },
  {
   "cell_type": "markdown",
   "metadata": {},
   "source": [
    "$\\frac{1}{2}\\sum\\,\\hbar\\omega = \\hbar\\,c\\frac{L^2}{\\pi^2}\\cdot\\frac{\\pi}{2}\\sum\\limits_{\\left(0\\right)\\,1}^{\\infty}\\int\\limits_{0}^{\\infty}{\\sqrt{n^2\\frac{\\pi^2}{a^2}+\\kappa^2}}\\kappa\\,d{\\kappa}$"
   ]
  },
  {
   "cell_type": "markdown",
   "metadata": {},
   "source": [
    "where the notation $\\left(0\\right) 1$ is meant to indicate that the term with $n = 0$\n",
    "has to be multiplied by $\\frac{1}{2}$. For very large $a$ also this last summation may\n",
    "be replaced by an integral and it is therefore easily seen that our interaction energy is given by "
   ]
  },
  {
   "cell_type": "markdown",
   "metadata": {},
   "source": [
    "$\\delta\\,E = \\hbar\\,c\\frac{L^2}{\\pi^2}\\cdot\\frac{\\pi}{2}\\left\\{\\sum\\limits_{\\left(0\\right)\\,1}^{\\infty}\\int\\limits_{0}^{\\infty}{\\sqrt{n^2\\frac{\\pi^2}{a^2}+\\kappa^2}}\\kappa\\,d{\\kappa}-\\int\\limits_{0}^{\\infty}\\int\\limits_{0}^{\\infty}{\\sqrt{k_z^2+\\kappa^2}}\\kappa\\,d{\\kappa}\\left(\\frac{a}{\\pi}d{k_z}\\right)\\right\\}$"
   ]
  },
  {
   "cell_type": "markdown",
   "metadata": {},
   "source": [
    "In order to obtain a finite result it is necessary to multiply the integrands\n",
    "by a function $f(k/k_m)$ which is unity for $k << k_m$ but tends to zero sufficiently rapidly for $(k/k_m)\\, \\rightarrow\\,\\infty$. where km may be defined by $f(1) = \\frac{1}{2}$.\n",
    "The physical meaning is obvious: for very short waves (X~rays e.g.)\n",
    "our plate is hardly an obstacle at all and therefore the zero point energy\n",
    "of these waves will not be influenced by the position of this plate. "
   ]
  },
  {
   "cell_type": "markdown",
   "metadata": {},
   "source": [
    "Introducing the variable $u = a^2\\,\\kappa^2/\\pi^2$"
   ]
  },
  {
   "cell_type": "markdown",
   "metadata": {},
   "source": [
    "$du = a^2/\\pi^2\\,\\kappa\\,d\\kappa$"
   ]
  },
  {
   "cell_type": "markdown",
   "metadata": {},
   "source": [
    "$\\delta\\,E = L^2\\,\\hbar\\,c\\frac{\\pi^2}{4\\,a^3}\\left\\{\\sum\\limits_{\\left(0\\right)\\,1}^{\\infty}\\int\\limits_{0}^{\\infty}{\\sqrt{n^2+u}}f\\left(\\pi\\sqrt{n^2+u}/\\left(a\\,k_m\\right)\\right)\\,d{u}-\\int\\limits_{0}^{\\infty}\\int\\limits_{0}^{\\infty}{\\sqrt{n^2+u}}f\\left(\\pi\\sqrt{n^2+u}/\\left(a\\,k_m\\right)\\right)\\,d{u}\\,d{n}\\right\\}$"
   ]
  },
  {
   "cell_type": "markdown",
   "metadata": {},
   "source": [
    "We apply the EULER-MACLAURIN formula: "
   ]
  },
  {
   "cell_type": "markdown",
   "metadata": {},
   "source": [
    "$\\sum\\limits_{\\left(0\\right)\\,1}^{\\infty}{F\\left(n\\right)}-\\int\\limits_{0}^{\\infty}{F\\left(n\\right)} = -\\,\\frac{1}{12}F'\\left(0\\right)\\,+\\,\\frac{1}{24\\times30}F'''\\left(0\\right)\\,+\\,...$"
   ]
  },
  {
   "cell_type": "markdown",
   "metadata": {},
   "source": [
    "Introducing $w = u + n^2$ we have "
   ]
  },
  {
   "cell_type": "markdown",
   "metadata": {},
   "source": [
    "$F\\left(n\\right) = \\int\\limits_{n^2}^{\\infty}{\\sqrt{w}}f\\left(\\pi\\sqrt{w}/\\left(a\\,k_m\\right)\\right)\\,d{w}$"
   ]
  },
  {
   "cell_type": "markdown",
   "metadata": {},
   "source": [
    "whence"
   ]
  },
  {
   "cell_type": "markdown",
   "metadata": {},
   "source": [
    "$F'\\left(n\\right) = -2\\,n^2f\\left(\\pi\\,n/\\left(a\\,k_m\\right)\\right)$"
   ]
  },
  {
   "cell_type": "markdown",
   "metadata": {},
   "source": [
    "$F'\\left(0\\right) = 0$"
   ]
  },
  {
   "cell_type": "markdown",
   "metadata": {},
   "source": [
    "$F'''\\left(0\\right) = -4$"
   ]
  },
  {
   "cell_type": "markdown",
   "metadata": {},
   "source": [
    "The higher derivatives will contain powers of $(\\pi/(a\\,k_m))$ . Thus we find"
   ]
  },
  {
   "cell_type": "markdown",
   "metadata": {},
   "source": [
    "$\\delta\\,E/L^2 = \\hbar\\,c\\frac{\\pi^2}{4\\,a^3}\\left\\{\\frac{-4}{24\\times30}\\right\\}$"
   ]
  },
  {
   "cell_type": "markdown",
   "metadata": {},
   "source": [
    "a formula which holds as long as $a\\,k_m\\,»\\,1$. For the force per $cm^2$ we find"
   ]
  },
  {
   "cell_type": "markdown",
   "metadata": {},
   "source": [
    "$F = \\hbar\\,c\\frac{\\pi^2}{240}\\frac{1}{a^4}\\,=\\,0.013\\,\\frac{1}{a_{\\mu}^4}\\,dyne/cm^2$"
   ]
  },
  {
   "cell_type": "markdown",
   "metadata": {},
   "source": [
    "where $a_{\\mu}$ is the distance measured in microns. "
   ]
  },
  {
   "cell_type": "markdown",
   "metadata": {},
   "source": [
    "We are thus led to the following conclusions. There exists an attractive\n",
    "force between two metal plates which is independent of the material of\n",
    "the plates as long as the distance is so large that for wave . lengths\n",
    "comparable with that distance the penetration depth is small compared with\n",
    "the distance. This force may be interpreted as a zero point pressure of\n",
    "electromagnetic waves."
   ]
  },
  {
   "cell_type": "markdown",
   "metadata": {},
   "source": [
    "Although the effect is smalI, an experimental confirmation seems not\n",
    "unfeasable and might be of a certain interest. "
   ]
  },
  {
   "cell_type": "markdown",
   "metadata": {},
   "source": [
    "Natuurkundig Laboratorium der N.V. Philips'\n",
    "Gloeilampenfabrieken. Eindhoven .) "
   ]
  },
  {
   "cell_type": "code",
   "execution_count": null,
   "metadata": {},
   "outputs": [],
   "source": []
  },
  {
   "cell_type": "markdown",
   "metadata": {},
   "source": [
    "Таким образом мы видим, что Казимир, разлагая разность суммы и интеграла в ряд Эйлера Маклорена, ограничился только лишь третьей производной, отбросив высшие производные на том основании, что \"The higher derivatives will contain powers of $(\\pi/(a\\,k_m))$\" при том что \"a formula which holds as long as $a\\,k_m\\,»\\,1$\"\n",
    "\n",
    "Хотелось бы теперь исследовать какую информацию о силе Казимира можно получить если все же высшие производные не отбрасывать"
   ]
  },
  {
   "cell_type": "code",
   "execution_count": 1,
   "metadata": {},
   "outputs": [],
   "source": [
    "from IPython.display import display, Math, Latex\n",
    "\n",
    "def disp(ex):\n",
    "    display(Math(latex(ex)))"
   ]
  },
  {
   "cell_type": "code",
   "execution_count": 2,
   "metadata": {},
   "outputs": [],
   "source": [
    "a = var(\"a\")\n",
    "L = var(\"L\")\n",
    "\n",
    "k_x = var(\"k_x\")\n",
    "k_y = var(\"k_y\")\n",
    "k_z = var(\"k_z\")\n",
    "\n",
    "n_x = var(\"n_x\")\n",
    "n_y = var(\"n_y\")\n",
    "n_z = var(\"n_z\")"
   ]
  },
  {
   "cell_type": "code",
   "execution_count": 3,
   "metadata": {},
   "outputs": [],
   "source": [
    "k_x = pi * n_x / L\n",
    "k_y = pi * n_y / L\n",
    "k_z = pi * n_z / a"
   ]
  },
  {
   "cell_type": "code",
   "execution_count": 4,
   "metadata": {},
   "outputs": [],
   "source": [
    "#kappa = sqrt(k_x^2+k_y^2)\n",
    "kappa = var(\"kappa\")"
   ]
  },
  {
   "cell_type": "code",
   "execution_count": 5,
   "metadata": {},
   "outputs": [],
   "source": [
    "k = sqrt(kappa^2+k_z^2)"
   ]
  },
  {
   "cell_type": "code",
   "execution_count": 6,
   "metadata": {},
   "outputs": [
    {
     "data": {
      "text/plain": [
       "sqrt(kappa^2 + pi^2*n_z^2/a^2)"
      ]
     },
     "execution_count": 6,
     "metadata": {},
     "output_type": "execute_result"
    }
   ],
   "source": [
    "k"
   ]
  },
  {
   "cell_type": "code",
   "execution_count": 7,
   "metadata": {},
   "outputs": [],
   "source": [
    "#n = n_z\n",
    "n = var(\"n\")\n",
    "assume (n, \"real\")\n",
    "assume (n > 0)"
   ]
  },
  {
   "cell_type": "code",
   "execution_count": 8,
   "metadata": {},
   "outputs": [],
   "source": [
    "u = var(\"u\")\n",
    "#u = a^2*kappa^2/(n^2)"
   ]
  },
  {
   "cell_type": "code",
   "execution_count": 9,
   "metadata": {},
   "outputs": [],
   "source": [
    "w = var(\"w\")\n",
    "#w = u + n^2\n",
    "w = a^2*kappa^2/n^2 + n^2"
   ]
  },
  {
   "cell_type": "markdown",
   "metadata": {},
   "source": [
    "для дальнейших исследований нужно выбрать явный вид функции регуляризации"
   ]
  },
  {
   "cell_type": "code",
   "execution_count": 10,
   "metadata": {},
   "outputs": [],
   "source": [
    "m = 3\n",
    "\n",
    "f = function('f')(var(\"k_km\"))\n",
    "fn = lambda k, km : 1 / (1 + (k/km)^m)"
   ]
  },
  {
   "cell_type": "markdown",
   "metadata": {},
   "source": [
    "Проверяем, что выбранная функция регуляризации соответствует Казимировскому условию: \"$k_m$ may be defined by $f(1) = \\frac{1}{2}$\"."
   ]
  },
  {
   "cell_type": "code",
   "execution_count": 11,
   "metadata": {},
   "outputs": [
    {
     "data": {
      "text/plain": [
       "1/2"
      ]
     },
     "execution_count": 11,
     "metadata": {},
     "output_type": "execute_result"
    }
   ],
   "source": [
    "fn(1, 1)"
   ]
  },
  {
   "cell_type": "code",
   "execution_count": 12,
   "metadata": {},
   "outputs": [],
   "source": [
    "k_m = var(\"k_m\")"
   ]
  },
  {
   "cell_type": "code",
   "execution_count": 13,
   "metadata": {},
   "outputs": [
    {
     "data": {
      "image/png": "[encoded data removed]",
      "text/plain": [
       "Graphics object consisting of 2 graphics primitives"
      ]
     },
     "execution_count": 13,
     "metadata": {},
     "output_type": "execute_result"
    }
   ],
   "source": [
    "plot([fn(x, 1000), fn(x, 1000)], (x, 0, 2000))"
   ]
  },
  {
   "cell_type": "markdown",
   "metadata": {},
   "source": [
    "Поскольку частота выражается $\\omega = c\\,\\sqrt{n^2\\frac{\\pi^2}{a^2}+k_x^2+k_y^2} = c\\,\\sqrt{n^2\\frac{\\pi^2}{a^2}+\\kappa^2}$\n",
    "\n",
    "и\n",
    "\n",
    "$u = a^2\\,\\kappa^2/\\pi^2$\n",
    "\n",
    "$\\kappa^2 = u \\frac{\\pi^2}{a^2}$\n",
    "\n",
    "имеем\n",
    "\n",
    "$\\omega = c \\, \\frac{\\pi}{a} \\sqrt{n^2+u}$ \n",
    "\n",
    "Таким образом регуляризационная функция $f$ введённая Казимиром имеет вид\n",
    "\n",
    "$f\\left(\\frac{\\pi\\sqrt{n^2+u}}{a\\,k_m}\\right) = f\\left(\\frac{\\omega}{c\\,k_m}\\right)$\n",
    "\n",
    "и так называемая частота обрезания\n",
    "\n",
    "$\\omega_m = c\\,k_m$"
   ]
  },
  {
   "cell_type": "markdown",
   "metadata": {},
   "source": [
    "Физический смысл частоты обрезания Казимир определяет следующим образом\n",
    "\n",
    "The physical meaning is obvious: for very short waves (X~rays e.g.)\n",
    "our plate is hardly an obstacle at all and therefore the zero point energy\n",
    "of these waves will not be influenced by the position of this plate.\n",
    "\n",
    "Но что мы знаем про рентгеновские лучи из опыта рентгенографии: чем плотнее тело, через которое проходит рентгеновский луч, тем сильнее этот луч поглощается. Человеческая кость на рентгеновском снимке светлая, а мягкие ткани тёмные. \n",
    "\n",
    "Возвращаясь к эффекту Казимира мы можем сказать что частота обрезания для более плотной и массивной пластины будет выше. Иными слувами $k_m$ пропорционален удельной массе пластины"
   ]
  },
  {
   "cell_type": "code",
   "execution_count": 14,
   "metadata": {},
   "outputs": [
    {
     "data": {
      "image/png": "[encoded data removed]",
      "text/plain": [
       "Graphics object consisting of 2 graphics primitives"
      ]
     },
     "execution_count": 14,
     "metadata": {},
     "output_type": "execute_result"
    }
   ],
   "source": [
    "plot([fn(x, 1000), fn(x, 5000)], (x, 0, 10000))"
   ]
  },
  {
   "cell_type": "markdown",
   "metadata": {},
   "source": [
    "Теперь я попытаюсь оценить сумму ряда составленного из \"The higher derivatives will contain powers of $(\\pi/(a\\,k_m))$\""
   ]
  },
  {
   "cell_type": "code",
   "execution_count": 15,
   "metadata": {},
   "outputs": [],
   "source": [
    "integrand = sqrt(w)*fn(pi*sqrt(w)/(a),k_m)"
   ]
  },
  {
   "cell_type": "code",
   "execution_count": 16,
   "metadata": {},
   "outputs": [],
   "source": [
    "N = var (\"N\") # Infinity\n",
    "from sage.symbolic.integration.integral import definite_integral\n",
    "F(n) = definite_integral(integrand, w, n^2, N)"
   ]
  },
  {
   "cell_type": "code",
   "execution_count": 17,
   "metadata": {},
   "outputs": [
    {
     "data": {
      "text/latex": [
       "$\\displaystyle \\int_{n^{2}}^{N} \\frac{\\sqrt{\\frac{a^{2} \\kappa^{2}}{n^{2}} + n^{2}}}{\\frac{\\pi^{3} {\\left(\\frac{a^{2} \\kappa^{2}}{n^{2}} + n^{2}\\right)}^{\\frac{3}{2}}}{a^{3} k_{m}^{3}} + 1}\\,{d \\left(\\frac{a^{2} \\kappa^{2}}{n^{2}} + n^{2}\\right)}$"
      ],
      "text/plain": [
       "<IPython.core.display.Math object>"
      ]
     },
     "metadata": {},
     "output_type": "display_data"
    }
   ],
   "source": [
    "display(Math(latex(F(n))))"
   ]
  },
  {
   "cell_type": "markdown",
   "metadata": {},
   "source": [
    "Для этого нужно применить формулу Эйлера-Маклорена\n",
    "\n",
    "$${\\displaystyle \\sum _{i=a}^{b}f(i)=\\int _{a}^{b}f(x)\\,dx+{\\frac {f(a)+f(b)}{2}}+\\sum _{k=1}^{\\lfloor p/2\\rfloor }{\\frac {B_{2k}}{(2k)!}}(f^{(2k-1)}(b)-f^{(2k-1)}(a))+R_{p},}$$"
   ]
  },
  {
   "cell_type": "markdown",
   "metadata": {},
   "source": [
    "$${\\displaystyle P_{k}(x)=B_{k}(x-\\lfloor x\\rfloor ),}$$\n",
    "\n",
    "$${\\displaystyle R_{p}=(-1)^{p+1}\\int _{a}^{b}f^{(p)}(x){\\frac {P_{p}(x)}{p!}}\\,dx.}$$"
   ]
  },
  {
   "cell_type": "markdown",
   "metadata": {},
   "source": [
    "Для начала посмотрим чему равны производные $f^{(2k-1)}(0)$"
   ]
  },
  {
   "cell_type": "code",
   "execution_count": 18,
   "metadata": {},
   "outputs": [
    {
     "data": {
      "text/latex": [
       "$\\displaystyle -\\frac{2 \\, n^{2}}{\\frac{\\pi^{3} n^{3}}{a^{3} k_{m}^{3}} + 1}$"
      ],
      "text/plain": [
       "<IPython.core.display.Math object>"
      ]
     },
     "metadata": {},
     "output_type": "display_data"
    },
    {
     "data": {
      "text/latex": [
       "$\\displaystyle 0$"
      ],
      "text/plain": [
       "<IPython.core.display.Math object>"
      ]
     },
     "metadata": {},
     "output_type": "display_data"
    }
   ],
   "source": [
    "F1 = F(n).diff(n, 1).expand()\n",
    "display(Math(latex(F1)))\n",
    "display(Math(latex(F1.subs(n == 0))))"
   ]
  },
  {
   "cell_type": "code",
   "execution_count": 19,
   "metadata": {},
   "outputs": [
    {
     "data": {
      "text/latex": [
       "$\\displaystyle -\\frac{36 \\, \\pi^{6} n^{6}}{a^{6} k_{m}^{6} {\\left(\\frac{3 \\, \\pi^{3} n^{3}}{a^{3} k_{m}^{3}} + \\frac{3 \\, \\pi^{6} n^{6}}{a^{6} k_{m}^{6}} + \\frac{\\pi^{9} n^{9}}{a^{9} k_{m}^{9}} + 1\\right)}} + \\frac{36 \\, \\pi^{3} n^{3}}{a^{3} k_{m}^{3} {\\left(\\frac{2 \\, \\pi^{3} n^{3}}{a^{3} k_{m}^{3}} + \\frac{\\pi^{6} n^{6}}{a^{6} k_{m}^{6}} + 1\\right)}} - \\frac{4}{\\frac{\\pi^{3} n^{3}}{a^{3} k_{m}^{3}} + 1}$"
      ],
      "text/plain": [
       "<IPython.core.display.Math object>"
      ]
     },
     "metadata": {},
     "output_type": "display_data"
    },
    {
     "data": {
      "text/latex": [
       "$\\displaystyle -4$"
      ],
      "text/plain": [
       "<IPython.core.display.Math object>"
      ]
     },
     "metadata": {},
     "output_type": "display_data"
    }
   ],
   "source": [
    "F3 = F(n).diff(n, 3).expand()\n",
    "display(Math(latex(F3)))\n",
    "display(Math(latex(F3.subs(n == 0))))"
   ]
  },
  {
   "cell_type": "code",
   "execution_count": 20,
   "metadata": {},
   "outputs": [
    {
     "data": {
      "text/latex": [
       "$\\displaystyle 0$"
      ],
      "text/plain": [
       "<IPython.core.display.Math object>"
      ]
     },
     "metadata": {},
     "output_type": "display_data"
    }
   ],
   "source": [
    "F5 = F(n).diff(n, 5).expand()\n",
    "# display(Math(latex(F5)))\n",
    "display(Math(latex(F5.subs(n == 0))))"
   ]
  },
  {
   "cell_type": "code",
   "execution_count": 21,
   "metadata": {},
   "outputs": [
    {
     "data": {
      "text/latex": [
       "$\\displaystyle 0$"
      ],
      "text/plain": [
       "<IPython.core.display.Math object>"
      ]
     },
     "metadata": {},
     "output_type": "display_data"
    }
   ],
   "source": [
    "F7 = F(n).diff(n, 7).expand()\n",
    "# display(Math(latex(F7)))\n",
    "display(Math(latex(F7.subs(n == 0))))"
   ]
  },
  {
   "cell_type": "code",
   "execution_count": 22,
   "metadata": {},
   "outputs": [
    {
     "data": {
      "text/latex": [
       "$\\displaystyle -\\frac{80640 \\, \\pi^{6}}{a^{6} k_{m}^{6}}$"
      ],
      "text/plain": [
       "<IPython.core.display.Math object>"
      ]
     },
     "metadata": {},
     "output_type": "display_data"
    }
   ],
   "source": [
    "F9 = F(n).diff(n, 9).expand()\n",
    "display(Math(latex(F9.subs(n == 0))))"
   ]
  },
  {
   "cell_type": "code",
   "execution_count": 23,
   "metadata": {},
   "outputs": [
    {
     "data": {
      "text/latex": [
       "$\\displaystyle -\\frac{80640 \\, \\pi^{6}}{a^{6} k_{m}^{6}}$"
      ],
      "text/plain": [
       "<IPython.core.display.Math object>"
      ]
     },
     "metadata": {},
     "output_type": "display_data"
    }
   ],
   "source": [
    "F11 = F(n).diff(n, 11).expand()\n",
    "display(Math(latex(F9.subs(n == 0))))"
   ]
  },
  {
   "cell_type": "code",
   "execution_count": 24,
   "metadata": {},
   "outputs": [
    {
     "data": {
      "text/latex": [
       "$\\displaystyle 0$"
      ],
      "text/plain": [
       "<IPython.core.display.Math object>"
      ]
     },
     "metadata": {},
     "output_type": "display_data"
    }
   ],
   "source": [
    "F13 = F(n).diff(n, 13).expand()\n",
    "display(Math(latex(F13.subs(n == 0))))"
   ]
  },
  {
   "cell_type": "code",
   "execution_count": 25,
   "metadata": {},
   "outputs": [
    {
     "data": {
      "text/latex": [
       "$\\displaystyle -\\frac{174356582400 \\, \\pi^{12}}{a^{12} k_{m}^{12}}$"
      ],
      "text/plain": [
       "<IPython.core.display.Math object>"
      ]
     },
     "metadata": {},
     "output_type": "display_data"
    }
   ],
   "source": [
    "F15 = F(n).diff(n, 15).expand()\n",
    "display(Math(latex(F15.subs(n == 0))))"
   ]
  },
  {
   "cell_type": "markdown",
   "metadata": {},
   "source": [
    "Для численных оценок выбираю характерные для наблюдения эффекта Казимира значения зазора и волнового вектора обрезания"
   ]
  },
  {
   "cell_type": "code",
   "execution_count": 26,
   "metadata": {},
   "outputs": [
    {
     "data": {
      "text/plain": [
       "1/1000000"
      ]
     },
     "execution_count": 26,
     "metadata": {},
     "output_type": "execute_result"
    }
   ],
   "source": [
    "# На расстояниях порядка 10 нм — сотни размеров типичного атома — давление, создаваемое эффектом Казимира, оказывается сравнимым с атмосферным.\n",
    "a_f = 10 * 10^-9 * 100\n",
    "a_f"
   ]
  },
  {
   "cell_type": "code",
   "execution_count": 27,
   "metadata": {},
   "outputs": [
    {
     "data": {
      "text/plain": [
       "20000000*pi"
      ]
     },
     "execution_count": 27,
     "metadata": {},
     "output_type": "execute_result"
    }
   ],
   "source": [
    "# Most X-rays have a wavelength ranging from 10 picometers to 10 nanometers,\n",
    "k_mf = 2*pi/(10 * 10^-9 * 100 * 10^-1)\n",
    "k_mf"
   ]
  },
  {
   "cell_type": "markdown",
   "metadata": {},
   "source": [
    "\"a formula which holds as long as $a\\,k_m\\,»\\,1$\""
   ]
  },
  {
   "cell_type": "code",
   "execution_count": 28,
   "metadata": {},
   "outputs": [
    {
     "data": {
      "text/plain": [
       "20*pi"
      ]
     },
     "execution_count": 28,
     "metadata": {},
     "output_type": "execute_result"
    }
   ],
   "source": [
    "a_f*k_mf"
   ]
  },
  {
   "cell_type": "markdown",
   "metadata": {},
   "source": [
    "Представляет интерес рассмотреть остаточный член в формуле Эйлера Маклорена"
   ]
  },
  {
   "cell_type": "markdown",
   "metadata": {},
   "source": [
    "$${\\displaystyle P_{k}(x)=B_{k}(x-\\lfloor x\\rfloor ),}$$\n",
    "\n",
    "$${\\displaystyle R_{p}=(-1)^{p+1}\\int _{a}^{b}f^{(p)}(x){\\frac {P_{p}(x)}{p!}}\\,dx.}$$"
   ]
  },
  {
   "cell_type": "markdown",
   "metadata": {},
   "source": [
    "Если ограничиться, как и Казимир, только лишь третьим членом ряда, то $p=4$ и $f^{(p)}(x) = F4$. Но в случае, если мы выберем $p=3$, тогда остаточный член должен включать в себя множитель $-\\frac{1}{180} = \\frac{-4}{24\\times30} = -0.00555(5)$, найденный Казимиром, а выражение для вычисления остаточного члена будет попроще"
   ]
  },
  {
   "cell_type": "code",
   "execution_count": 29,
   "metadata": {},
   "outputs": [],
   "source": [
    "B = lambda x, p : bernoulli_polynomial(x, p)\n",
    "P = lambda x, p : bernoulli_polynomial(x - floor(x), p)\n",
    "fact = lambda n : factorial(n)"
   ]
  },
  {
   "cell_type": "code",
   "execution_count": 30,
   "metadata": {},
   "outputs": [],
   "source": [
    "ak_m = var(\"ak_m\")"
   ]
  },
  {
   "cell_type": "code",
   "execution_count": 31,
   "metadata": {},
   "outputs": [],
   "source": [
    "p = 3"
   ]
  },
  {
   "cell_type": "markdown",
   "metadata": {},
   "source": [
    "поскольку мы имеем дело с математически весьма сложной задачей численного интегрирования довольно непростой, часто осциллирующей и терпящей разрывы в точках каждого целого значения аргумента благодаря наличию множителя $(x-\\lfloor x\\rfloor )$ функции, для контроля полученных результатов воспользуемся тем, что остаточный член можно выразить также в виде\n",
    "$${\\displaystyle R_{p}=(-1)^{p+1}\\sum_{j=a}^{b-1} \\int _{0}^{1}f^{(p)}(v+j){\\frac {B_{p}(v)}{p!}}\\,dv.}$$\n",
    "\n",
    "Превращая интеграл в сумму интеграллов мы делим интервал интегрирования функции с разрывами на множество интервалов без разрывов"
   ]
  },
  {
   "cell_type": "code",
   "execution_count": 32,
   "metadata": {},
   "outputs": [],
   "source": [
    "j, v = var(\"j, v\")"
   ]
  },
  {
   "cell_type": "code",
   "execution_count": 33,
   "metadata": {},
   "outputs": [],
   "source": [
    "p = 3"
   ]
  },
  {
   "cell_type": "markdown",
   "metadata": {},
   "source": [
    "Полином Бернулли степени $p$"
   ]
  },
  {
   "cell_type": "code",
   "execution_count": 34,
   "metadata": {},
   "outputs": [
    {
     "data": {
      "text/latex": [
       "$\\displaystyle n^{3} - \\frac{3}{2} \\, n^{2} + \\frac{1}{2} \\, n$"
      ],
      "text/plain": [
       "<IPython.core.display.Math object>"
      ]
     },
     "metadata": {},
     "output_type": "display_data"
    }
   ],
   "source": [
    "disp(B(x=n, p=p))"
   ]
  },
  {
   "cell_type": "markdown",
   "metadata": {},
   "source": [
    "В выражении производной степени $p$ делаем замену переменной $a \\cdot k_m \\rightarrow ak_m$"
   ]
  },
  {
   "cell_type": "code",
   "execution_count": 35,
   "metadata": {},
   "outputs": [
    {
     "data": {
      "text/latex": [
       "$\\displaystyle -\\frac{36 \\, \\pi^{6} n^{6}}{{\\left(\\frac{\\pi^{9} n^{9}}{\\mathit{ak}_{m}^{9}} + \\frac{3 \\, \\pi^{6} n^{6}}{\\mathit{ak}_{m}^{6}} + \\frac{3 \\, \\pi^{3} n^{3}}{\\mathit{ak}_{m}^{3}} + 1\\right)} \\mathit{ak}_{m}^{6}} + \\frac{36 \\, \\pi^{3} n^{3}}{{\\left(\\frac{\\pi^{6} n^{6}}{\\mathit{ak}_{m}^{6}} + \\frac{2 \\, \\pi^{3} n^{3}}{\\mathit{ak}_{m}^{3}} + 1\\right)} \\mathit{ak}_{m}^{3}} - \\frac{4}{\\frac{\\pi^{3} n^{3}}{\\mathit{ak}_{m}^{3}} + 1}$"
      ],
      "text/plain": [
       "<IPython.core.display.Math object>"
      ]
     },
     "metadata": {},
     "output_type": "display_data"
    }
   ],
   "source": [
    "exec(preparse(\"Fp = \" + str(F(n).subs(a == ak_m/k_m).diff(n, p).expand())))\n",
    "disp(Fp)"
   ]
  },
  {
   "cell_type": "markdown",
   "metadata": {},
   "source": [
    "Формируем подынтегральное выражение: в выражении производной делаем замену переменной $n \\rightarrow v+j$. Умножаем на полином Бернулли, делим на факториал, учитываем знак. "
   ]
  },
  {
   "cell_type": "code",
   "execution_count": 36,
   "metadata": {},
   "outputs": [
    {
     "data": {
      "text/latex": [
       "$\\displaystyle -\\frac{1}{3} \\, {\\left(\\frac{9 \\, \\pi^{6} {\\left(j + v\\right)}^{6}}{{\\left(\\frac{\\pi^{9} {\\left(j + v\\right)}^{9}}{\\mathit{ak}_{m}^{9}} + \\frac{3 \\, \\pi^{6} {\\left(j + v\\right)}^{6}}{\\mathit{ak}_{m}^{6}} + \\frac{3 \\, \\pi^{3} {\\left(j + v\\right)}^{3}}{\\mathit{ak}_{m}^{3}} + 1\\right)} \\mathit{ak}_{m}^{6}} - \\frac{9 \\, \\pi^{3} {\\left(j + v\\right)}^{3}}{{\\left(\\frac{\\pi^{6} {\\left(j + v\\right)}^{6}}{\\mathit{ak}_{m}^{6}} + \\frac{2 \\, \\pi^{3} {\\left(j + v\\right)}^{3}}{\\mathit{ak}_{m}^{3}} + 1\\right)} \\mathit{ak}_{m}^{3}} + \\frac{1}{\\frac{\\pi^{3} {\\left(j + v\\right)}^{3}}{\\mathit{ak}_{m}^{3}} + 1}\\right)} {\\left(2 \\, v^{3} - 3 \\, v^{2} + v\\right)}$"
      ],
      "text/plain": [
       "<IPython.core.display.Math object>"
      ]
     },
     "metadata": {},
     "output_type": "display_data"
    }
   ],
   "source": [
    "exec(preparse(\"sign_Fp_Bp_fact = \" + str((-1)^(p+1)*(Fp.subs(n=v+j)*B(x=v, p=p)/fact(n=p)))))\n",
    "disp(sign_Fp_Bp_fact)"
   ]
  },
  {
   "cell_type": "markdown",
   "metadata": {},
   "source": [
    "А для облегчения задачи дальнейшего интегрирования разлагаем полученное выражение с помощью функции .expand() на правильные дроби"
   ]
  },
  {
   "cell_type": "code",
   "execution_count": 37,
   "metadata": {},
   "outputs": [],
   "source": [
    "exec(preparse(\"sign_Fp_Bp_fact = \" + str((-1)^(p+1)*(Fp.subs(n=v+j)*B(x=v, p=p)/fact(n=p)).expand())))\n",
    "# sign_Fp_Bp_fact"
   ]
  },
  {
   "cell_type": "markdown",
   "metadata": {},
   "source": [
    "Теперь собственно интегрирование по $v$. Получаем неопределённый интеграл"
   ]
  },
  {
   "cell_type": "code",
   "execution_count": 38,
   "metadata": {},
   "outputs": [],
   "source": [
    "exec(preparse(\"int_sign_Fp_Bp_fact_v = \" + str(integrate(sign_Fp_Bp_fact, v, algorithm='fricas'))))"
   ]
  },
  {
   "cell_type": "code",
   "execution_count": 39,
   "metadata": {},
   "outputs": [],
   "source": [
    "# int_sign_Fp_Bp_fact_v"
   ]
  },
  {
   "cell_type": "markdown",
   "metadata": {},
   "source": [
    "Теперь неопределённый интеграл превращаем в определённый интеграл по переменной $v$ на участке от 0 до 1"
   ]
  },
  {
   "cell_type": "code",
   "execution_count": 40,
   "metadata": {},
   "outputs": [],
   "source": [
    "exec(preparse(\"int_sign_Fp_Bp_fact_v_0_1=\"+str(int_sign_Fp_Bp_fact_v.subs(v=1)-int_sign_Fp_Bp_fact_v.subs(v=0))))"
   ]
  },
  {
   "cell_type": "markdown",
   "metadata": {},
   "source": [
    "Полученное выражение определённого интеграла имеет теперь две свободные переменные"
   ]
  },
  {
   "cell_type": "code",
   "execution_count": 41,
   "metadata": {},
   "outputs": [
    {
     "data": {
      "text/plain": [
       "(ak_m, j)"
      ]
     },
     "execution_count": 41,
     "metadata": {},
     "output_type": "execute_result"
    }
   ],
   "source": [
    "int_sign_Fp_Bp_fact_v_0_1.variables()"
   ]
  },
  {
   "cell_type": "markdown",
   "metadata": {},
   "source": [
    "По одной из них мы будем производить суммирование и при этом исследовать зависимость полученной суммы от второй"
   ]
  },
  {
   "cell_type": "code",
   "execution_count": 42,
   "metadata": {},
   "outputs": [],
   "source": [
    "# sum(int_sign_Fp_Bp_fact_v_0_1, j, 0, Infinity)"
   ]
  },
  {
   "cell_type": "markdown",
   "metadata": {},
   "source": [
    "Поскольку получить символьное выражение суммы по $j$ от нуля до бесконечности не удаётся используем несложную собственную функцию численного суммирования ограничиваясь числом слагаемых достаточных для достижении заданной точности. В качестве критерия используется скользящее среднее нескольких крайних с конца слагаемых. Кроме того задаваемую точность пришлось ступеньчато уменьшать при увеличении текущего номера слагаемых"
   ]
  },
  {
   "cell_type": "code",
   "execution_count": 43,
   "metadata": {},
   "outputs": [],
   "source": [
    "# Сумма слагаемых ряда в формуле Эйлера Маклорена в зависимости от произведения $a k_m$\n",
    "# при том что $k_m$ пропорциональна удельной массе пластины\n",
    "def calc_Rp(akm):\n",
    "\n",
    "    int_sign_Fp_Bp_fact_v_0_1_subs_akm = int_sign_Fp_Bp_fact_v_0_1.subs(ak_m=akm)\n",
    "    \n",
    "    criteria = [1,1,1,1,1,1,1]\n",
    "    len_criteria = len(criteria)\n",
    "    \n",
    "    _j = 0\n",
    "    epsilon = 1e-12\n",
    "    \n",
    "    Rp = 0\n",
    "    while(True):\n",
    "        dRpj = int_sign_Fp_Bp_fact_v_0_1_subs_akm.subs(j=_j).n()\n",
    "        ind = _j % len_criteria\n",
    "        criteria[ind] = abs(dRpj)\n",
    "        Rp += dRpj\n",
    "        \n",
    "        mean_criteria = sum(criteria)/len_criteria\n",
    "        \n",
    "        #print(_j, dRpj, Rp, mean_criteria)\n",
    "        _j += 1\n",
    "        \n",
    "        if _j == 200:\n",
    "            epsilon = 1e-11\n",
    "        if _j == 400:\n",
    "            epsilon = 1e-10\n",
    "        if _j == 800:\n",
    "            epsilon = 1e-9\n",
    "        \n",
    "        if mean_criteria < epsilon:\n",
    "            break\n",
    "\n",
    "        if _j > 1000:\n",
    "            break\n",
    "\n",
    "    if (0 == (int)(1000*nk)%100):\n",
    "        print(nk, akm, Rp, dRpj, mean_criteria, _j)\n",
    "    \n",
    "    return Rp\n"
   ]
  },
  {
   "cell_type": "markdown",
   "metadata": {},
   "source": [
    "Начинаем:"
   ]
  },
  {
   "cell_type": "code",
   "execution_count": 44,
   "metadata": {},
   "outputs": [
    {
     "name": "stdout",
     "output_type": "stream",
     "text": [
      "0.1 2.0*pi -0.00533399791266120 -1.45519152283669e-11 9.35480264680726e-12 315\n",
      "0.2 4.0*pi -0.00555511208283122 -2.32830643653870e-10 9.14691814354488e-11 400\n",
      "0.3 6.0*pi -0.00555550676889993 0.000000000000000 9.97845615659441e-11 468\n",
      "0.4 8.0*pi -0.00555552817579041 0.000000000000000 9.31322574615479e-10 809\n",
      "0.5 10.0*pi -0.00555544897815707 0.000000000000000 7.98276492527553e-10 955\n",
      "0.6 12.0*pi -0.00555549132286615 -1.49011611938477e-8 6.38621194022042e-9 1001\n",
      "0.7000000000000001 14.000000000000002*pi -0.00555551568322699 7.45058059692383e-9 1.06436865670340e-8 1001\n",
      "0.8 16.0*pi -0.00555544250164530 -1.49011611938477e-8 8.51494925362723e-9 1001\n",
      "0.9 18.0*pi -0.00555594304387341 0.000000000000000 2.34161104474749e-8 1001\n",
      "1.0 20.0*pi -0.00555554391030455 2.98023223876953e-8 2.12873731340681e-8 1001\n"
     ]
    }
   ],
   "source": [
    "v_Rp1 = []\n",
    "\n",
    "import numpy as np\n",
    "for nk in np.arange(0.005, 1.2, 0.005):\n",
    "    akm=a_f*nk*k_mf\n",
    "    Rp = calc_Rp(akm=akm)\n",
    "    v_Rp1 += [(akm, Rp)]"
   ]
  },
  {
   "cell_type": "code",
   "execution_count": 45,
   "metadata": {},
   "outputs": [
    {
     "data": {
      "image/png": "[encoded data removed]",
      "text/plain": [
       "Graphics object consisting of 1 graphics primitive"
      ]
     },
     "metadata": {},
     "output_type": "display_data"
    }
   ],
   "source": [
    "plt = sage.plot.graphics.Graphics()\n",
    "plt += list_plot (v_Rp1)\n",
    "plt.show (title=\"Остаточный член в формуле Эйлера Маклорена в зависимости от $a k_m$\")"
   ]
  },
  {
   "cell_type": "markdown",
   "metadata": {},
   "source": [
    "Таким образом мы видим, что данный подход разбиения интервала интегрирования в состоянии обеспечить гораздо большую точность вычислений, чем численное интегрирование с использованием библиотечной в Sagemath функции numerical_integral() на всем интервале интегрирования."
   ]
  },
  {
   "cell_type": "code",
   "execution_count": 46,
   "metadata": {},
   "outputs": [
    {
     "name": "stdout",
     "output_type": "stream",
     "text": [
      "0.1 2.0*pi -0.00533399791266120 -1.45519152283669e-11 9.35480264680726e-12 315\n"
     ]
    }
   ],
   "source": [
    "v_Rp1 = []\n",
    "\n",
    "import numpy as np\n",
    "for nk in np.arange(0.001, 0.15, 0.001):\n",
    "    akm=a_f*nk*k_mf\n",
    "    Rp = calc_Rp(akm=akm)\n",
    "    v_Rp1 += [(akm, Rp)]"
   ]
  },
  {
   "cell_type": "code",
   "execution_count": 47,
   "metadata": {},
   "outputs": [
    {
     "data": {
      "image/png": "[encoded data removed]",
      "text/plain": [
       "Graphics object consisting of 1 graphics primitive"
      ]
     },
     "metadata": {},
     "output_type": "display_data"
    }
   ],
   "source": [
    "plt = sage.plot.graphics.Graphics()\n",
    "plt += list_plot (v_Rp1)\n",
    "plt.show (title=\"Остаточный член в формуле Эйлера Маклорена в зависимости от $a k_m$\")"
   ]
  },
  {
   "cell_type": "markdown",
   "metadata": {},
   "source": [
    "Итак, Казимировская формула which holds as long as $a\\,k_m\\,»\\,1$ выполняется достаточно точно при $a\\,k_m\\,>\\,10$, но при меньших значениях $a\\,k_m$ коэффициент в выражении силы Казимира колеблется и даже меняет знак. \n",
    "\n",
    "При фиксированном расстоянии между пластинами $a$, сила Казимира должна таким образом зависеть от частоты опрезания $k_m$, пропорциональной удельной массе пластин"
   ]
  },
  {
   "cell_type": "code",
   "execution_count": null,
   "metadata": {},
   "outputs": [],
   "source": []
  }
 ],
 "metadata": {
  "kernelspec": {
   "display_name": "SageMath 9.6.beta7",
   "language": "sage",
   "name": "sagemath"
  },
  "language_info": {
   "codemirror_mode": {
    "name": "ipython",
    "version": 3
   },
   "file_extension": ".py",
   "mimetype": "text/x-python",
   "name": "python",
   "nbconvert_exporter": "python",
   "pygments_lexer": "ipython3",
   "version": "3.10.3"
  }
 },
 "nbformat": 4,
 "nbformat_minor": 2
}
