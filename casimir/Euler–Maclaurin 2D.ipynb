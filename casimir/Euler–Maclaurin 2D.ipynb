{
 "cells": [
  {
   "cell_type": "code",
   "execution_count": 1,
   "metadata": {},
   "outputs": [],
   "source": [
    "def num_int(f, a, b):\n",
    "    from scipy import integrate\n",
    "\n",
    "    try:\n",
    "        integral = integrate.quad(f, a, b)\n",
    "\n",
    "        result = integral[0]\n",
    "        return result\n",
    "\n",
    "    except Exception as ex:\n",
    "\n",
    "        print (\"Exception ex = \", str(ex))\n",
    "        print (\"f = \", f)\n",
    "        try:\n",
    "            #print (\"integrand = \", get_integrand_view(f))\n",
    "            print (\"integrand = \", f(x))\n",
    "        except Exception as ex2:\n",
    "            print (\"Exception ex2 = \", ex2)\n",
    "        print (\"a, b = \", a, b)\n",
    "\n",
    "        import inspect\n",
    "        stack = inspect.stack()\n",
    "        for frame in stack:\n",
    "            func_name = frame[3]\n",
    "            print (\"func_name = \", func_name)\n",
    "        \n",
    "        raise ex"
   ]
  },
  {
   "cell_type": "code",
   "execution_count": 2,
   "metadata": {},
   "outputs": [],
   "source": [
    "logging = False\n",
    "\n",
    "calc_R_p=True\n",
    "\n",
    "use_int_R_p_j=True\n",
    "change_R_p_order=True\n",
    "use_int_R_p_shifted_first=True\n",
    "use_num_int = False\n",
    "\n",
    "def my_euler_maclaurin1(f,symb,a,b,p, f_diff_symb_p=None):\n",
    "    if logging:\n",
    "        print(\"f\", f)\n",
    "        print(\"symb,a,b\", symb, a, b)\n",
    "        print(\"\")\n",
    "\n",
    "\n",
    "    sum_dfdx_a_bernoullis = sum([(f.diff(symb,k-1))*(bernoulli(k)/factorial(k)) for k in range(1,1+p)])\n",
    "    if logging:\n",
    "        print(\"sum_dfdx_a_bernoullis\", sum_dfdx_a_bernoullis)\n",
    "        print(\"sum_dfdx_a_bernoullis(a)\", sum_dfdx_a_bernoullis.subs(symb == a))\n",
    "        if Infinity != b:\n",
    "            print(\"sum_dfdx_a_bernoullis(b)\", sum_dfdx_a_bernoullis.subs(symb == b))\n",
    "\n",
    "    if True:\n",
    "        B = lambda x, p : bernoulli_polynomial(x, p)\n",
    "        P = lambda x, p : bernoulli_polynomial(x - floor(x), p)\n",
    "        fact = lambda n : factorial(n)\n",
    "    else:\n",
    "        B = function(\"B\")(x,p)\n",
    "        P = function(\"P\")(x,p)\n",
    "        fact = function(\"fact\")(n)\n",
    "        \n",
    "    if True == calc_R_p:\n",
    "        # Can't calculate derivative wrt j + u.\n",
    "        #int_R_p = lambda j : integral(f.diff(symb,p).subs(symb == u+j) * bernoulli_polynomial(u,p)/factorial(p), (u,0,1))\n",
    "        def int_R_p(f,symb,j):\n",
    "            v = var(\"v\")            \n",
    "            if None == f_diff_symb_p:\n",
    "                deriv = f.diff(symb,p)\n",
    "            else:\n",
    "                deriv = f_diff_symb_p\n",
    "            if logging:\n",
    "                print(\"deriv\", deriv)\n",
    "            deriv_s = deriv.subs(symb == v+j)\n",
    "            if logging:\n",
    "                print(\"deriv_s\", deriv_s)\n",
    "            int_f_diff_B_fact = integral(deriv_s * bernoulli_polynomial(v,p)/factorial(p), (v,0,1))\n",
    "            if logging:\n",
    "                print(\"int_f_diff_B_fact\", int_f_diff_B_fact)\n",
    "            return int_f_diff_B_fact\n",
    "        \n",
    "        def int_R_p_shifted_first(f,symb,j):\n",
    "            v = var(\"v\")\n",
    "            fn_shifted = f.subs(symb == v + j)\n",
    "            if logging:\n",
    "                print(\"fn_shifted\", fn_shifted)\n",
    "            deriv = fn_shifted.diff(v,p)\n",
    "            if logging:\n",
    "                print(\"deriv\", deriv)\n",
    "            int_f_diff_B_fact = integral(deriv * B(x=v,p=p)/fact(n=p), (v,0,1))\n",
    "    \n",
    "            if logging:\n",
    "                print(\"int_f_diff_B_fact\", int_f_diff_B_fact)\n",
    "\n",
    "            return int_f_diff_B_fact\n",
    "\n",
    "        if logging:\n",
    "            print(\"int_R_p(j = a)\", int_R_p(f,symb,j = a))\n",
    "            \n",
    "        if use_int_R_p_j:\n",
    "            v, j = var(\"v, j\")\n",
    "            assume(j>0)\n",
    "            if change_R_p_order:\n",
    "                # Change order of summation and integration\n",
    "                if use_int_R_p_shifted_first:\n",
    "                    R_p = (-1)^(p+1)*integral(sum(f.subs(symb == v+j).diff(v,p)*B(x=v,p=p)/fact(n=p), \\\n",
    "                                                  j, a, b-1), \\\n",
    "                                              (v,0,1))\n",
    "                else:\n",
    "                    if None == f_diff_symb_p:\n",
    "                        f_diff_symb_p = f.diff(symb,p)\n",
    "                    R_p = (-1)^(p+1)*integral(sum(f_diff_symb_p.subs(symb == v+j)*B(x=v,p=p)/fact(n=p), \\\n",
    "                                                  j, a, b-1), \\\n",
    "                                              (v,0,1))\n",
    "            else:\n",
    "                if use_int_R_p_shifted_first:\n",
    "                    R_p = (-1)^(p+1)*sum(int_R_p_shifted_first(f,symb,j=j), j, a, b-1)\n",
    "                else:\n",
    "                    R_p = (-1)^(+1)*sum(int_R_p(f,symb,j=j), j, a, b-1)\n",
    "                \n",
    "        else:\n",
    "            if None == f_diff_symb_p:\n",
    "                f_diff_symb_p = f.diff(symb,p)\n",
    "            if not use_num_int:\n",
    "                R_p = (-1)^(p+1)*integral(f_diff_symb_p * P(x=symb,p=p)/fact(n=p),(symb,a,b),hold=True)\n",
    "            else:\n",
    "                R_p = (-1)^(p+1)*num_int(lambda symb : f_diff_symb_p * P(x=symb,p=p)/fact(n=p), a, b)\n",
    "                \n",
    "\n",
    "    int_fn_a_b = integral(f, (symb, a, b))\n",
    "    if logging:\n",
    "        print(\"int_fn_a_b\", int_fn_a_b)\n",
    "    \n",
    "    s = int_fn_a_b - sum_dfdx_a_bernoullis.subs(symb == a)\n",
    "    if Infinity != b:\n",
    "        s += sum_dfdx_a_bernoullis.subs(symb == b)\n",
    "    if True == calc_R_p:\n",
    "        s += R_p\n",
    "        \n",
    "    if False:\n",
    "        print(\"int_fn_a_b\", int_fn_a_b)\n",
    "        print(\"sum_dfdx_a_bernoullis(a)\", sum_dfdx_a_bernoullis(a))\n",
    "        if Infinity != b:\n",
    "            print(\"sum_dfdx_a_bernoullis(b)\", sum_dfdx_a_bernoullis(b))\n",
    "        if True == calc_R_p:\n",
    "            print(\"int_R_p(j = a)\", int_R_p(j = a))\n",
    "            print(\"R_p\", R_p)\n",
    "        print(\"\")\n",
    "        print(\"s\",s)\n",
    "    return s"
   ]
  },
  {
   "cell_type": "markdown",
   "metadata": {},
   "source": [
    "$${\\displaystyle \\sum _{i=a}^{b}f(i)=\\int _{a}^{b}f(x)\\,dx+{\\frac {f(a)+f(b)}{2}}+\\sum _{k=1}^{\\lfloor p/2\\rfloor }{\\frac {B_{2k}}{(2k)!}}(f^{(2k-1)}(b)-f^{(2k-1)}(a))+R_{p},}$$"
   ]
  },
  {
   "cell_type": "markdown",
   "metadata": {},
   "source": [
    "$${\\displaystyle \\sum _{i=a}^{b}f(i)=\\int _{a}^{b}f(x)\\,dx+\\sum _{k=1}^{\\lfloor p/2\\rfloor }{\\frac {B_{k}}{(k)!}}(f^{(k-1)}(b)-f^{(k-1)}(a))+R_{p},}$$"
   ]
  },
  {
   "cell_type": "markdown",
   "metadata": {},
   "source": [
    "$${\\displaystyle R_{p}=(-1)^{p+1}\\sum_{j=a}^{b-1} \\int _{0}^{1}f^{(p)}(v+j){\\frac {B_{p}(v)}{p!}}\\,dv.}$$"
   ]
  },
  {
   "cell_type": "markdown",
   "metadata": {},
   "source": [
    "$${\\displaystyle P_{k}(x)=B_{k}(x-\\lfloor x\\rfloor ),}$$\n",
    "\n",
    "$${\\displaystyle R_{p}=(-1)^{p+1}\\int _{a}^{b}f^{(p)}(x){\\frac {P_{p}(x)}{p!}}\\,dx.}$$"
   ]
  },
  {
   "cell_type": "code",
   "execution_count": 3,
   "metadata": {},
   "outputs": [],
   "source": [
    "# https://www.journals.vu.lt/LMJ/article/view/20600/19701\n",
    "# ФОРМУЛА СУММИРОВАНИЯ ЭЙЛЕРА—МАКЛОРЕНА ДЛЯ ФУНКЦИИ МНОГИХ ПЕРЕМЕННЫХ А.БИКЯЛИС\n",
    "# VIII LIETUVOS MATEMATIKOS RINKINYS 4\n",
    "# ЛИТОВСКИЙ МАТЕМАТИЧЕСКИЙ СБОРНИК\n",
    "# 1968\n",
    "\n",
    "# Далее,обе стороны этого равенства суммируем по всем целым m2 из интервала(z2,y2). Получаем\n",
    "\n",
    "if True:\n",
    "    B = lambda x, p : bernoulli_polynomial(x, p)\n",
    "    P = lambda x, p : bernoulli_polynomial(x - floor(x), p)\n",
    "    fact = lambda n : factorial(n)\n",
    "else:\n",
    "    B = function(\"B\")(x,p)\n",
    "    P = function(\"P\")(x,p)\n",
    "    fact = function(\"fact\")(n)\n",
    "\n",
    "def integral_R_p(f,symb,jx,hold, f_diff_symb_p=None):\n",
    "    vx = var(\"v_\"+str(symb))\n",
    "    if None == f_diff_symb_p:\n",
    "        deriv = f.diff(symb,p)\n",
    "    else:\n",
    "        deriv = f_diff_symb_p\n",
    "    if logging:\n",
    "        print(\"deriv\", deriv)\n",
    "\n",
    "    deriv_subs = deriv.subs(symb == vx+jx)\n",
    "    if logging:\n",
    "        print(\"deriv_subs\", deriv_subs)\n",
    "\n",
    "    int_f_diff_B_fact = integral(deriv_subs * bernoulli_polynomial(vx,p)/factorial(p), (vx,0,1), hold=hold)\n",
    "    if logging:\n",
    "        print(\"int_f_diff_B_fact\", int_f_diff_B_fact)\n",
    "\n",
    "    return int_f_diff_B_fact\n",
    "\n",
    "def integral_R_p_shifted_first(f,symb,jx,hold):\n",
    "    vx = var(\"v_\"+str(symb))\n",
    "    fn_shifted = f.subs(symb == vx + jx)\n",
    "    if logging:\n",
    "        print(\"fn_shifted\", fn_shifted)\n",
    "\n",
    "    deriv = fn_shifted.diff(vx,p)\n",
    "    if logging:\n",
    "        print(\"deriv\", deriv)\n",
    "\n",
    "    int_f_diff_B_fact = integral(deriv * B(x=vx,p=p)/fact(n=p), (vx, 0, 1), hold=hold)\n",
    "\n",
    "    if logging:\n",
    "        print(\"int_f_diff_B_fact\", int_f_diff_B_fact)\n",
    "\n",
    "    return int_f_diff_B_fact\n",
    "    \n",
    "    \n",
    "def euler_maclaurin_R_p(f,symb,a,b,p, f_diff_symb_p=None, hold_int=True, hold_sum=True):\n",
    "    if logging:\n",
    "        print(\"f\", f)\n",
    "        print(\"symb,a,b\", symb, a, b)\n",
    "        print(\"\")\n",
    "    if use_int_R_p_j:\n",
    "        jx = var('j_'+str(symb))\n",
    "        assume(jx>0)\n",
    "        \n",
    "        if change_R_p_order:\n",
    "            # Change order of summation and integration\n",
    "            if use_int_R_p_shifted_first:\n",
    "                R_p = (-1)^(p+1)*integral(sum(f.subs(symb == v+j).diff(v,p)*B(x=v,p=p)/fact(n=p), \\\n",
    "                                              j, a, b-1, hold=hold_sum), \\\n",
    "                                          (v,0,1), hold=hold_int)\n",
    "            else:\n",
    "                if None == f_diff_symb_p:\n",
    "                    f_diff_symb_p = f.diff(symb,p)\n",
    "                R_p = (-1)^(p+1)*integral(sum(f_diff_symb_p.subs(symb == v+j)*B(x=v,p=p)/fact(n=p), \\\n",
    "                                              j, a, b-1, hold=hold_sum), \\\n",
    "                                          (v,0,1), hold=hold_int)\n",
    "        else:       \n",
    "            if use_int_R_p_shifted_first:\n",
    "                term = (-1)^(p+1)*integral_R_p_shifted_first(f=f, symb=symb, jx=jx, hold=hold_int)\n",
    "                R_p = sum(term, jx, a, b-1, hold=hold_sum)\n",
    "            else:\n",
    "                term = (-1)^(p+1)*integral_R_p(f=f, symb=symb, jx=jx, hold=hold_int, f_diff_symb_p=f_diff_symb_p)\n",
    "                R_p = sum(term, jx, a, b-1, hold=hold_sum)\n",
    "            return R_p, term\n",
    "    else:\n",
    "        if None == f_diff_symb_p:\n",
    "            f_diff_symb_p = f.diff(symb,p)\n",
    "        if not use_num_int:\n",
    "            R_p = (-1)^(p+1)*integral(f_diff_symb_p * P(x=symb,p=p)/fact(n=p),(symb,a,b),hold=hold_int)\n",
    "        else:\n",
    "            R_p = (-1)^(p+1)*num_int(lambda symb: f_diff_symb_p * P(x=symb,p=p)/fact(n=p), a, b)\n",
    "            \n",
    "    return R_p"
   ]
  },
  {
   "cell_type": "markdown",
   "metadata": {},
   "source": [
    "$$\\sum _{k=1}^{\\lfloor p/2\\rfloor }{\\frac {B_{k}}{(k)!}}(f^{(k-1)}(b)-f^{(k-1)}(a))$$"
   ]
  },
  {
   "cell_type": "code",
   "execution_count": 4,
   "metadata": {},
   "outputs": [],
   "source": [
    "def sum_dfdx_bernoulis(f,symb,a,b,p):\n",
    "    dfdx_a_bernoullis = []\n",
    "    for k in range(1,1+p):\n",
    "        dfdx_a_bernoullis += [(f.diff(symb,k-1))*(bernoulli(k)/factorial(k))]\n",
    "        \n",
    "    sum_dfdx_a_bernoullis = sum(dfdx_a_bernoullis)\n",
    "\n",
    "    if logging:\n",
    "        print(\"sum_dfdx_a_bernoullis\", sum_dfdx_a_bernoullis)\n",
    "        print(\"sum_dfdx_a_bernoullis(a)\", sum_dfdx_a_bernoullis.subs(symb == a))\n",
    "        if Infinity != b:\n",
    "            print(\"sum_dfdx_a_bernoullis(b)\", sum_dfdx_a_bernoullis.subs(symb == b))\n",
    "\n",
    "    s = - sum_dfdx_a_bernoullis.subs(symb == a)\n",
    "    if Infinity != b:\n",
    "        s += sum_dfdx_a_bernoullis.subs(symb == b)\n",
    "    return s\n",
    "\n",
    "def definite_integral_derivative(f, x, a, b, diff_param, hold=True):\n",
    "    from sage.symbolic.integration.integral import definite_integral\n",
    "\n",
    "    if not x.has(diff_param):\n",
    "        # integration variable != differentiation variable\n",
    "        ans = definite_integral(f.diff(diff_param), x, a, b, hold=hold)\n",
    "    else:\n",
    "        ans = SR.zero()\n",
    "\n",
    "    if hasattr(b, 'diff'):\n",
    "        if b.diff(diff_param) != 0:\n",
    "            ans += f.subs(x == b) * b.diff(diff_param)\n",
    "    if hasattr(a, 'diff'):\n",
    "        if a.diff(diff_param) != 0:\n",
    "            ans -= f.subs(x == a) * a.diff(diff_param)\n",
    "\n",
    "    return ans\n"
   ]
  },
  {
   "cell_type": "markdown",
   "metadata": {},
   "source": [
    "$$\\sum _{k=1}^{\\lfloor p/2\\rfloor }{\\frac {B_{k}}{(k)!}}(g(y)^{(k-1)}(b_y)-g(y)^{(k-1)}(a_y))$$\n",
    "where "
   ]
  },
  {
   "cell_type": "markdown",
   "metadata": {},
   "source": [
    "$$g(y) = {\\displaystyle R_{p}(y)=(-1)^{p+1}\\sum_{j=a_x}^{b_x-1} \\int _{0}^{1}\\frac{\\partial^{p}}{\\partial x^{p}}f(v_x+j,y){\\frac {B_{p}(v_x)}{p!}}\\,dv_x.}$$\n",
    "or"
   ]
  },
  {
   "cell_type": "markdown",
   "metadata": {},
   "source": [
    "$${\\displaystyle P_{k}(x)=B_{k}(x-\\lfloor x\\rfloor ),}$$\n",
    "\n",
    "$$g(y) = {\\displaystyle R_{p}=(-1)^{p+1}\\int _{a_x}^{b_x}\\frac{\\partial^{p}}{\\partial x^{p}}f(x,y){\\frac {P_{p}(x)}{p!}}\\,dx.}$$"
   ]
  },
  {
   "cell_type": "code",
   "execution_count": 5,
   "metadata": {},
   "outputs": [],
   "source": [
    "#int_R_p = integral(euler_maclaurin_R_p(f(x,y), x, a_x, b_x,p), (y, a_y, b_y), hold=True)\n",
    "\n",
    "def integral_euler_maclaurin_R_p(f, x, a_x, b_x, y, a_y, b_y, p, f_diff_x_p, hold_int=True, hold_sum=True):\n",
    "    if logging:\n",
    "        print(\"f\", f)\n",
    "        print(\"\")\n",
    "    if use_int_R_p_j:\n",
    "        jx = var('j_x')\n",
    "        assume(jx>0)\n",
    "        \n",
    "        if change_R_p_order:\n",
    "            # Change order of summation and integration\n",
    "            if use_int_R_p_shifted_first:\n",
    "                int_R_p = (-1)^(p+1)*integral(integral(sum(f.subs(x == v+j).diff(v,p)*B(x=v,p=p)/fact(n=p), \\\n",
    "                                              j, a_x, b_x-1, hold=hold_sum), \\\n",
    "                                          (v,0,1), hold=hold_int), y, a_y, b_y, hold=hold_int)\n",
    "            else:\n",
    "                if None == f_diff_x_p:\n",
    "                    f_diff_x_p = f.diff(x,p)\n",
    "                int_R_p = (-1)^(p+1)*integral(integral(sum(f_diff_x_p.subs(x == v+j)*B(x=v,p=p)/fact(n=p), \\\n",
    "                                              j, a_x, b_x-1, hold=hold_sum), \\\n",
    "                                          (v,0,1), hold=hold_int), y, a_y, b_y, hold=hold_int)\n",
    "        else:       \n",
    "            if use_int_R_p_shifted_first:\n",
    "                int_int = (-1)^(p+1)*integral(integral_R_p_shifted_first(f=f, symb=x, jx=jx, hold=hold_int), y, a_y, b_y, hold=hold_int)\n",
    "                int_R_p = sum(int_int, jx, a_x, b_x-1, hold=hold_sum)\n",
    "            else:\n",
    "                int_int = (-1)^(p+1)*integral(integral_R_p(f=f, symb=x, jx=jx, hold=hold_int), y, a_y, b_y, hold=hold_int)\n",
    "                int_R_p = sum(int_int, jx, a_x, b_x-1, hold=hold_sum)\n",
    "            return (int_R_p, int_int)\n",
    "    else:\n",
    "        if None == f_diff_x_p:\n",
    "            f_diff_x_p = f.diff(x,p)\n",
    "        if not use_num_int:\n",
    "            int_R_p = (-1)^(p+1)*integral(integral(f_diff_x_p * P(x=x,p=p)/fact(n=p),(x,a_x,b_x),hold=hold_int), y, a_y, b_y, hold=hold_int)\n",
    "        else:\n",
    "            int_R_p = (-1)^(p+1)*num_int(lambda y : num_int(lambda x : f_diff_x_p * P(x=x,p=p)/fact(n=p), a_x, b_x), a_y, b_y)\n",
    "            \n",
    "    return int_R_p"
   ]
  },
  {
   "cell_type": "code",
   "execution_count": 6,
   "metadata": {},
   "outputs": [],
   "source": [
    "#sum_R_p = sum_dfdx_bernoulis(euler_maclaurin_R_p(F(x,y), x, a_x, b_x,p), y, a_y, b_y, p)\n",
    "def sum_dfdx_bernoulis_euler_maclaurin_R_p(f, x, a_x, b_x, y, a_y, b_y, p):\n",
    "    if logging:\n",
    "        print(\"sum_dfdx_bernoulis_euler_maclaurin_R_p\", f, x, a_x, b_x, y, a_y, b_y, p)\n",
    "    dfdx_a_bernoullis = []\n",
    "    dfdx_a_bernoullis_terms = []\n",
    "    from sage.calculus.calculus import symbolic_sum\n",
    "    from sage.symbolic.integration.integral import definite_integral\n",
    "    \n",
    "    for k in range(1,1+p):\n",
    "        if 1 == k:\n",
    "            if use_int_R_p_j:\n",
    "                vx, jx = var(\"v_x, j_x\")\n",
    "                term_1 = lambda y_symb, y_val, jx : (-1)^(p+1)*definite_integral(f(x,y_symb).diff(x,p) \\\n",
    "                                                                                 .subs(x == vx + jx) \\\n",
    "                                                                      * B(x=vx,p=p)/fact(n=p),vx,0,1,hold=False) \\\n",
    "                                                                                .subs(y_symb == y_val)\n",
    "                \n",
    "                if logging:\n",
    "                    print(\"term_1(y_symb=y, y_val=a_y,jx=a_x) =\", term_1(y_symb=y, y_val=a_y,jx=a_x))\n",
    "                R_p = lambda y_symb, y_val : symbolic_sum(expression=term_1(y_symb=y_symb, y_val=y_val, jx=jx), \\\n",
    "                                                                     v=jx, a=a_x, b=b_x-1)\n",
    "                dfdx_a_bernoullis_terms += [lambda y_symb, y_val, jx, i=i : \\\n",
    "                                            term_1(y_symb=y_symb, y_val=y_val, jx=jx)*(bernoulli(k)/factorial(k))]\n",
    "            else:\n",
    "                term_1 = lambda y_symb, y_val : definite_integral(f(x,y_symb).diff(x,p) * P(x=x,p=p)/fact(n=p), \\\n",
    "                                                                  x, a_x, b_x, hold=True)\n",
    "                if logging:\n",
    "                    print(\"term_1(y_symb=y, y_val=a_y) =\", term_1(y_symb=y, y_val=a_y))\n",
    "                R_p = lambda y_symb, y_val : (-1)^(p+1)*term_1(y_symb, y_val)\n",
    "                \n",
    "            if logging:\n",
    "                print(\"R_p(y_symb=y, y_val=a_y) =\", R_p(y_symb=y, y_val=a_y))\n",
    "            dfdx_a_bernoullis += [lambda y_symb, y_val, i=i : R_p(y_symb, y_val)*(bernoulli(k)/factorial(k))]\n",
    "            \n",
    "        elif 2 == k:\n",
    "            if use_int_R_p_j:\n",
    "                vx, jx = var(\"v_x, j_x\")\n",
    "                term_2 = lambda y_symb, y_val, jx : (-1)^(p+1)*definite_integral_derivative(f=f(x,y_symb).diff(x,p) \\\n",
    "                                                                                 .subs(x == vx + jx) \\\n",
    "                                        * B(x=vx,p=p)/fact(n=p), x=vx, a=0, b=1, diff_param=y_symb, hold=False) \\\n",
    "                                                                                .subs(y_symb == y_val)\n",
    "\n",
    "                if logging:\n",
    "                    print(\"term_2(y_symb=y, y_val=a_y,jx=a_x) =\", term_2(y_symb=y, y_val=a_y,jx=a_x))\n",
    "\n",
    "                R_p = lambda y_symb, y_val : symbolic_sum(expression=term_2(y_symb=y_symb, y_val=y_val, jx=jx), \\\n",
    "                                                                 v=jx, a=a_x, b=b_x-1)\n",
    "                dfdx_a_bernoullis_terms += [lambda y_symb, y_val, jx, i=i : \\\n",
    "                                            term_2(y_symb=y_symb, y_val=y_val, jx=jx)*(bernoulli(k)/factorial(k))]\n",
    "            else:\n",
    "                term_2 = lambda y_symb, y_val : definite_integral_derivative(f=f(x,y_symb).diff(x,p) \\\n",
    "                                            * P(x=x,p=p)/fact(n=p), x=x, a=a_x, b=b_x, diff_param=y_symb)\n",
    "\n",
    "                if logging:\n",
    "                    print(\"term_2(y_symb=y, y_val=a_y) =\", term_2(y_symb=y, y_val=a_y))\n",
    "\n",
    "                R_p = lambda y_symb, y_val : (-1)^(p+1)*term_2(y_symb, y_val)\n",
    "                \n",
    "            if logging:\n",
    "                print(\"R_p(y_symb=y, y_val=a_y) =\", R_p(y_symb=y, y_val=a_y))\n",
    "            dfdx_a_bernoullis += [lambda y_symb, y_val, i=i : R_p(y_symb, y_val)*(bernoulli(k)/factorial(k))]\n",
    "        else:\n",
    "            if use_int_R_p_j:\n",
    "                vx, jx = var(\"v_x, j_x\")\n",
    "                term_3 = lambda y_symb, y_val, jx : (-1)^(p+1)*definite_integral_derivative(f=f(x,y_symb).diff(x,p) \\\n",
    "                                                                                 .subs(x == vx + jx) \\\n",
    "                                        * B(x=vx,p=p)/fact(n=p), x=vx, a=0, b=1, diff_param=y_symb, hold=False) \\\n",
    "                                            .diff(y_symb, k-2) .subs(y_symb == y_val)\n",
    "\n",
    "                if logging:\n",
    "                    print(\"term_3(y_symb=y, y_val=a_y,jx=a_x) =\", term_3(y_symb=y, y_val=a_y,jx=a_x))\n",
    "                R_p = lambda y_symb, y_val : symbolic_sum(expression=term_3(y_symb=y_symb, y_val=y_val, jx=jx), \\\n",
    "                                                                 v=jx, a=a_x, b=b_x-1)\n",
    "                dfdx_a_bernoullis_terms += [lambda y_symb, y_val, jx, i=i : \\\n",
    "                                            term_3(y_symb=y_symb, y_val=y_val, jx=jx)*(bernoulli(k)/factorial(k))]\n",
    "            else:\n",
    "                term_3 = lambda y_symb, y_val : definite_integral_derivative(f=f(x,y_symb).diff(x,p) \\\n",
    "                                                    * P(x=x,p=p)/fact(n=p), x=x, a=a_x, b=b_x, diff_param=y_symb) \\\n",
    "                                                    .diff(y_symb, k-2)\n",
    "\n",
    "                if logging:\n",
    "                    print(\"term_3(y_symb=y, y_val=a_y,jx=a_x) =\", term_3(y_symb=y, y_val=a_y,jx=a_x))\n",
    "                R_p = lambda y_symb, y_val : (-1)^(p+1)*term_3(y_symb, y_val)\n",
    "                \n",
    "            if logging:\n",
    "                print(\"R_p(y_symb=y, y_val=a_y) =\", R_p(y_symb=y, y_val=a_y))\n",
    "            dfdx_a_bernoullis += [lambda y_symb, y_val, i=i : R_p(y_symb, y_val)*(bernoulli(k)/factorial(k))]\n",
    "\n",
    "    if logging:\n",
    "        print(\"dfdx_a_bernoullis =\", dfdx_a_bernoullis)\n",
    "        print(\"len(dfdx_a_bernoullis) =\", len(dfdx_a_bernoullis))\n",
    "\n",
    "    sum_dfdx_a_bernoullis = lambda y_symb, y_val : sum([dfdx_a_bernoullis[i](y_symb, y_val) \\\n",
    "                                                      for i in range(len(dfdx_a_bernoullis))])\n",
    "    \n",
    "    sum_dfdx_a_bernoullis_terms = lambda y_symb, y_val, jx : sum([dfdx_a_bernoullis_terms[i](y_symb, y_val, jx) \\\n",
    "                                                               for i in range(len(dfdx_a_bernoullis_terms))])\n",
    "    \n",
    "    if logging:\n",
    "        print(\"sum_dfdx_a_bernoullis =\", sum_dfdx_a_bernoullis)\n",
    "        print(\"sum_dfdx_a_bernoullis(a_y) =\", sum_dfdx_a_bernoullis(y_symb=y, y_val=a_y))\n",
    "    \n",
    "    s = - sum_dfdx_a_bernoullis(y_symb=y, y_val=a_y)\n",
    "    if b_y is Infinity:\n",
    "        s_terms = lambda jx : - sum_dfdx_a_bernoullis_terms(y_symb=y, y_val=a_y, jx=jx)\n",
    "    else:\n",
    "        s += sum_dfdx_a_bernoullis(y_symb=y, y_val=b_y)\n",
    "        s_terms = lambda jx : sum_dfdx_a_bernoullis_terms(y_symb=y, y_val=b_y, jx=jx) - sum_dfdx_a_bernoullis_terms(y_symb=y, y_val=a_y, jx=jx)\n",
    "    return s, s_terms"
   ]
  },
  {
   "cell_type": "markdown",
   "metadata": {},
   "source": [
    "$${\\displaystyle R_{p}=(-1)^{p+1}\\sum_{j=a_y}^{b_y-1} \\int _{0}^{1}g^{(p)}(v_y+j){\\frac {B_{p}(v_y)}{p!}}\\,dv_y.}$$"
   ]
  },
  {
   "cell_type": "markdown",
   "metadata": {},
   "source": [
    "$${\\displaystyle P_{k}(y)=B_{k}(y-\\lfloor y\\rfloor ),}$$\n",
    "\n",
    "$${\\displaystyle R_{p}=(-1)^{p+1}\\int _{a_y}^{b_y}g^{(p)}(y){\\frac {P_{p}(y)}{p!}}\\,dy.}$$\n",
    "\n",
    "where"
   ]
  },
  {
   "cell_type": "markdown",
   "metadata": {},
   "source": [
    "$$g(y) = {\\displaystyle R_{p}(y)=(-1)^{p+1}\\sum_{j=a_x}^{b_x-1} \\int _{0}^{1}\\frac{\\partial^{p}}{\\partial x^{p}}f(v_x+j,y){\\frac {B_{p}(v_x)}{p!}}\\,dv_x.}$$\n",
    "or"
   ]
  },
  {
   "cell_type": "markdown",
   "metadata": {},
   "source": [
    "$${\\displaystyle P_{k}(x)=B_{k}(x-\\lfloor x\\rfloor ),}$$\n",
    "\n",
    "$$g(y) = {\\displaystyle R_{p}=(-1)^{p+1}\\int _{a_x}^{b_x}\\frac{\\partial^{p}}{\\partial x^{p}}f(x,y){\\frac {P_{p}(x)}{p!}}\\,dx.}$$"
   ]
  },
  {
   "cell_type": "code",
   "execution_count": 7,
   "metadata": {},
   "outputs": [],
   "source": [
    "#R_p_R_p = euler_maclaurin_R_p(euler_maclaurin_R_p(F(x,y), x, a_x, b_x,p), y, a_y, b_y, p)\n",
    "def euler_maclaurin_R_p_euler_maclaurin_R_p(f, x, a_x, b_x, y, a_y, b_y, p, f_diff_x_p_diff_y_p):\n",
    "\n",
    "    from sage.calculus.calculus import symbolic_sum\n",
    "    from sage.symbolic.integration.integral import definite_integral\n",
    "    if use_int_R_p_j:\n",
    "        vx,vy = var(\"v_x, v_y\")\n",
    "        jx,jy = var(\"j_x, j_y\")\n",
    "        assume(v_y+j_y>0)\n",
    "        \n",
    "        if None == f_diff_x_p_diff_y_p:\n",
    "            f_diff_x_p_diff_y_p = f.diff(x,p).diff(y,p)\n",
    "\n",
    "        R_p_R_p = (-1)^(p+1)*symbolic_sum(definite_integral( \\\n",
    "                               (-1)^(p+1)*symbolic_sum(definite_integral(f_diff_x_p_diff_y_p.subs(x == vx + jx)  \\\n",
    "                                                              * B(x=vx,p=p)/fact(n=p), \\\n",
    "                                 vx,0,1,hold=True), v=jx, a=a_x, b=b_x-1,hold=True) \\\n",
    "                                                                        .diff(y,p).subs(y == vy + jy)  \\\n",
    "                                                              * B(x=vy,p=p)/fact(n=p), \\\n",
    "                                 vy,0,1,hold=True), v=jy, a=a_y, b=b_y-1,hold=True)\n",
    "    else:\n",
    "        if not use_num_int:\n",
    "\n",
    "            if None == f_diff_x_p_diff_y_p:\n",
    "                f_diff_x_p_diff_y_p = f.diff(x,p)\n",
    "\n",
    "            R_p_R_p = (-1)^(p+1)*definite_integral( \\\n",
    "                               (-1)^(p+1)*definite_integral(f_diff_x_p_diff_y_p  \\\n",
    "                                                              * P(x=x,p=p)/fact(n=p), \\\n",
    "                                 x, a_x, b_x, hold=True).diff(y,p)  \\\n",
    "                                                              * P(x=y,p=p)/fact(n=p), \\\n",
    "                                 y, a_y, b_y, hold=True)\n",
    "        else:\n",
    "            f_diff_x_p_diff_y_p_num_str = \"f_diff_x_diff_y_num = lambda \" + str(x) + \", \" + str(y) + \":\" + str(f(x,y).diff(x,p).diff(y,p))\n",
    "            print(\"f_diff_x_p_diff_y_p_num_str=\", f_diff_x_p_diff_y_p_num_str)                                                                          \n",
    "            exec(preparse(f_diff_x_p_diff_y_p_num_str))\n",
    "            R_p_R_p = (-1)^(p+1)*num_int(lambda y : \\\n",
    "                               (-1)^(p+1)*num_int(lambda x : f_diff_x_p_diff_y_p_num(x,y)  \\\n",
    "                                                              * P(x=x,p=p)/fact(n=p), \\\n",
    "                                 a_x, b_x)  \\\n",
    "                                                              * P(x=y,p=p)/fact(n=p), \\\n",
    "                                 a_y, b_y)\n",
    "        \n",
    "    return R_p_R_p"
   ]
  },
  {
   "cell_type": "code",
   "execution_count": 8,
   "metadata": {},
   "outputs": [],
   "source": [
    "#R_p_R_p = euler_maclaurin_R_p(euler_maclaurin_R_p(F(x,y), x, a_x, b_x,p), y, a_y, b_y, p)\n",
    "def euler_maclaurin_R_p_euler_maclaurin_R_p_num_int(f_diff_x_p_diff_y_p, x, a_x, b_x, y, a_y, b_y, p):\n",
    "    R_p_R_p = (-1)^(p+1)*num_int(lambda y : \\\n",
    "                       (-1)^(p+1)*num_int(lambda x : f_diff_x_p_diff_y_p(x,y)  \\\n",
    "                                                      * P(x=x,p=p)/fact(n=p), \\\n",
    "                         a_x, b_x)  \\\n",
    "                                                      * P(x=y,p=p)/fact(n=p), \\\n",
    "                         a_y, b_y)\n",
    "    return R_p_R_p"
   ]
  },
  {
   "cell_type": "code",
   "execution_count": 9,
   "metadata": {},
   "outputs": [],
   "source": [
    "def euler_maclaurin1(f, symb, a, b, p, f_diff_symb_p=None, hold_int=True, hold_sum=True):\n",
    "    if logging:\n",
    "        print(\"f\", f)\n",
    "        print(\"symb,a,b\", symb, a, b)\n",
    "        print(\"\")\n",
    "    #u, j = var(\"u, j\")\n",
    "\n",
    "    int_fn_a_b = integral(f, (symb, a, b))\n",
    "    if logging:\n",
    "        print(\"int_fn_a_b\", int_fn_a_b)\n",
    "    \n",
    "    #s = int_fn_a_b + sum_dfdx_a_bernoullis(b) - sum_dfdx_a_bernoullis(a) + R_p\n",
    "    s = int_fn_a_b + sum_dfdx_bernoulis(f,symb,a,b,p)\n",
    "    \n",
    "    if True == calc_R_p:\n",
    "        R_p = euler_maclaurin_R_p(f, symb, a, b, p, f_diff_symb_p=f_diff_symb_p,hold_int=hold_int, hold_sum=hold_sum)\n",
    "        if type(R_p) is tuple:\n",
    "            s += R_p[0]\n",
    "        else:\n",
    "            s += R_p\n",
    "\n",
    "    return s"
   ]
  },
  {
   "cell_type": "code",
   "execution_count": 10,
   "metadata": {},
   "outputs": [],
   "source": [
    "from IPython.display import display, Math, Latex"
   ]
  },
  {
   "cell_type": "code",
   "execution_count": 11,
   "metadata": {},
   "outputs": [
    {
     "name": "stdout",
     "output_type": "stream",
     "text": [
      "F(x, y)\n"
     ]
    }
   ],
   "source": [
    "a_x = var(\"n_x\")\n",
    "b_x = var(\"b_x\")\n",
    "a_y = var(\"n_y\")\n",
    "b_y = var(\"b_y\")\n",
    "\n",
    "assume(a_x, 'real')\n",
    "assume(b_x, 'real')\n",
    "assume(a_y, 'real')\n",
    "assume(b_y, 'real')\n",
    "\n",
    "assume(a_x, 'integer')\n",
    "assume(b_x, 'integer')\n",
    "assume(a_y, 'integer')\n",
    "assume(b_y, 'integer')\n",
    "\n",
    "assume(a_x > 0)\n",
    "assume(b_x > 0)\n",
    "assume(a_y > 0)\n",
    "assume(b_y > 0)\n",
    "\n",
    "x,y = var(\"x,y\")\n",
    "\n",
    "n = QQ['n'].0\n",
    "j = QQ['j'].0\n",
    "\n",
    "p = 4\n",
    "p = 2\n",
    "p = 1\n",
    "\n",
    "F = function(\"F\")(x, y)\n",
    "print(F)"
   ]
  },
  {
   "cell_type": "code",
   "execution_count": 12,
   "metadata": {},
   "outputs": [
    {
     "name": "stdout",
     "output_type": "stream",
     "text": [
      "\n",
      "Can't calculate derivative wrt j + v.\n"
     ]
    },
    {
     "data": {
      "text/latex": [
       "$\\displaystyle \\frac{1}{2} \\, F\\left(n_{x}, y\\right) + \\int_{0}^{1} v {\\sum_{j=n_{x}}^{b_{x} - 1} \\mathrm{D}_{0}\\left(F\\right)\\left(j + v, y\\right)} - \\frac{1}{2} \\, {\\sum_{j=n_{x}}^{b_{x} - 1} \\mathrm{D}_{0}\\left(F\\right)\\left(j + v, y\\right)}\\,{d v} + \\int_{n_{x}}^{b_{x}} F\\left(x, y\\right)\\,{d x}$"
      ],
      "text/plain": [
       "<IPython.core.display.Math object>"
      ]
     },
     "metadata": {},
     "output_type": "display_data"
    }
   ],
   "source": [
    "ans = my_euler_maclaurin1(F(x,y),x,a_x,b_x,p, diff(F(x,y),x,p))\n",
    "display(Math(latex(ans)))"
   ]
  },
  {
   "cell_type": "code",
   "execution_count": 13,
   "metadata": {},
   "outputs": [
    {
     "data": {
      "text/latex": [
       "$\\displaystyle \\frac{1}{2} \\, F\\left(n_{x}, y\\right) + \\int_{n_{x}}^{b_{x}} F\\left(x, y\\right)\\,{d x} + \\int_{0}^{1} {\\sum_{j=n_{x}}^{b_{x} - 1} \\frac{1}{2} \\, {\\left(2 \\, v - 1\\right)} \\mathrm{D}_{0}\\left(F\\right)\\left(j + v, y\\right)}\\,{d v}$"
      ],
      "text/plain": [
       "<IPython.core.display.Math object>"
      ]
     },
     "metadata": {},
     "output_type": "display_data"
    }
   ],
   "source": [
    "ans = euler_maclaurin1(F(x,y),x,a_x,b_x,p, diff(F(x,y),x,p))\n",
    "display(Math(latex(ans)))"
   ]
  },
  {
   "cell_type": "code",
   "execution_count": 14,
   "metadata": {},
   "outputs": [
    {
     "name": "stdout",
     "output_type": "stream",
     "text": [
      "\n",
      "Can't calculate derivative wrt j + v.\n"
     ]
    },
    {
     "data": {
      "text/latex": [
       "$\\displaystyle \\frac{1}{2} \\, F\\left(n_{x}, y\\right) + \\int_{0}^{1} v {\\sum_{j=n_{x}}^{b_{x} - 1} \\mathrm{D}_{0}\\left(F\\right)\\left(j + v, y\\right)} - \\frac{1}{2} \\, {\\sum_{j=n_{x}}^{b_{x} - 1} \\mathrm{D}_{0}\\left(F\\right)\\left(j + v, y\\right)}\\,{d v} + \\int_{n_{x}}^{b_{x}} F\\left(x, y\\right)\\,{d x}$"
      ],
      "text/plain": [
       "<IPython.core.display.Math object>"
      ]
     },
     "metadata": {},
     "output_type": "display_data"
    }
   ],
   "source": [
    "ans = my_euler_maclaurin1(F(x,y),x,a_x,b_x,p, diff(F(x,y),x,p))\n",
    "display(Math(latex(ans)))"
   ]
  },
  {
   "cell_type": "code",
   "execution_count": 15,
   "metadata": {},
   "outputs": [
    {
     "data": {
      "text/latex": [
       "$\\displaystyle \\frac{1}{2} \\, F\\left(n_{x}, y\\right) + \\int_{n_{x}}^{b_{x}} F\\left(x, y\\right)\\,{d x} + \\int_{0}^{1} {\\sum_{j=n_{x}}^{b_{x} - 1} \\frac{1}{2} \\, {\\left(2 \\, v - 1\\right)} \\mathrm{D}_{0}\\left(F\\right)\\left(j + v, y\\right)}\\,{d v}$"
      ],
      "text/plain": [
       "<IPython.core.display.Math object>"
      ]
     },
     "metadata": {},
     "output_type": "display_data"
    }
   ],
   "source": [
    "ans = euler_maclaurin1(F(x,y),x,a_x,b_x,p, diff(F(x,y),x,p))\n",
    "display(Math(latex(ans)))"
   ]
  },
  {
   "cell_type": "markdown",
   "metadata": {},
   "source": [
    "$${\\displaystyle R_{p}=(-1)^{p+1}\\sum_{j=a}^{b-1} \\int _{0}^{1}f^{(p)}(u+j){\\frac {B_{p}(u)}{p!}}\\,du.}$$"
   ]
  },
  {
   "cell_type": "code",
   "execution_count": 16,
   "metadata": {},
   "outputs": [
    {
     "name": "stdout",
     "output_type": "stream",
     "text": [
      "y_int=$ \\int_{n_{y}}^{b_{y}} F\\left(x, y\\right)\\,{d y} $\n"
     ]
    },
    {
     "data": {
      "text/latex": [
       "$\\displaystyle \\int_{n_{y}}^{b_{y}} F\\left(x, y\\right)\\,{d y}$"
      ],
      "text/plain": [
       "<IPython.core.display.Math object>"
      ]
     },
     "metadata": {},
     "output_type": "display_data"
    },
    {
     "name": "stdout",
     "output_type": "stream",
     "text": [
      "y_sum=$ \\frac{1}{2} \\, F\\left(x, n_{y}\\right) $\n"
     ]
    },
    {
     "data": {
      "text/latex": [
       "$\\displaystyle \\frac{1}{2} \\, F\\left(x, n_{y}\\right)$"
      ],
      "text/plain": [
       "<IPython.core.display.Math object>"
      ]
     },
     "metadata": {},
     "output_type": "display_data"
    },
    {
     "name": "stdout",
     "output_type": "stream",
     "text": [
      "y_R_p=$ \\int_{0}^{1} {\\sum_{j=n_{y}}^{b_{y} - 1} \\frac{1}{2} \\, {\\left(2 \\, v - 1\\right)} \\mathrm{D}_{1}\\left(F\\right)\\left(x, j + v\\right)}\\,{d v} $\n"
     ]
    },
    {
     "data": {
      "text/latex": [
       "$\\displaystyle \\int_{0}^{1} {\\sum_{j=n_{y}}^{b_{y} - 1} \\frac{1}{2} \\, {\\left(2 \\, v - 1\\right)} \\mathrm{D}_{1}\\left(F\\right)\\left(x, j + v\\right)}\\,{d v}$"
      ],
      "text/plain": [
       "<IPython.core.display.Math object>"
      ]
     },
     "metadata": {},
     "output_type": "display_data"
    }
   ],
   "source": [
    "y_int = integral           (F(x,y),(y, a_y, b_y))\n",
    "print(\"y_int=$\", latex(y_int),\"$\")\n",
    "display(Math(latex(y_int)))\n",
    "\n",
    "y_sum = sum_dfdx_bernoulis (F(x,y), y, a_y, b_y,p)\n",
    "print(\"y_sum=$\", latex(y_sum),\"$\")\n",
    "display(Math(latex(y_sum)))\n",
    "\n",
    "y_R_p = euler_maclaurin_R_p(F(x,y), y, a_y, b_y,p, diff(F(x,y),y,p))\n",
    "print(\"y_R_p=$\", latex(y_R_p),\"$\")\n",
    "display(Math(latex(y_R_p)))"
   ]
  },
  {
   "cell_type": "code",
   "execution_count": 17,
   "metadata": {},
   "outputs": [
    {
     "name": "stdout",
     "output_type": "stream",
     "text": [
      "x_int=$ \\int_{n_{x}}^{b_{x}} F\\left(x, y\\right)\\,{d x} $\n"
     ]
    },
    {
     "data": {
      "text/latex": [
       "$\\displaystyle \\int_{n_{x}}^{b_{x}} F\\left(x, y\\right)\\,{d x}$"
      ],
      "text/plain": [
       "<IPython.core.display.Math object>"
      ]
     },
     "metadata": {},
     "output_type": "display_data"
    },
    {
     "name": "stdout",
     "output_type": "stream",
     "text": [
      "x_sum=$ \\frac{1}{2} \\, F\\left(n_{x}, y\\right) $\n"
     ]
    },
    {
     "data": {
      "text/latex": [
       "$\\displaystyle \\frac{1}{2} \\, F\\left(n_{x}, y\\right)$"
      ],
      "text/plain": [
       "<IPython.core.display.Math object>"
      ]
     },
     "metadata": {},
     "output_type": "display_data"
    },
    {
     "name": "stdout",
     "output_type": "stream",
     "text": [
      "x_R_p=$ \\int_{0}^{1} {\\sum_{j=n_{x}}^{b_{x} - 1} \\frac{1}{2} \\, {\\left(2 \\, v - 1\\right)} \\mathrm{D}_{0}\\left(F\\right)\\left(j + v, y\\right)}\\,{d v} $\n"
     ]
    },
    {
     "data": {
      "text/latex": [
       "$\\displaystyle \\int_{0}^{1} {\\sum_{j=n_{x}}^{b_{x} - 1} \\frac{1}{2} \\, {\\left(2 \\, v - 1\\right)} \\mathrm{D}_{0}\\left(F\\right)\\left(j + v, y\\right)}\\,{d v}$"
      ],
      "text/plain": [
       "<IPython.core.display.Math object>"
      ]
     },
     "metadata": {},
     "output_type": "display_data"
    }
   ],
   "source": [
    "x_int = integral           (F(x,y),(x, a_x, b_x))\n",
    "print(\"x_int=$\", latex(x_int),\"$\")\n",
    "display(Math(latex(x_int)))\n",
    "\n",
    "x_sum = sum_dfdx_bernoulis (F(x,y), x, a_x, b_x,p)\n",
    "print(\"x_sum=$\", latex(x_sum),\"$\")\n",
    "display(Math(latex(x_sum)))\n",
    "\n",
    "x_R_p = euler_maclaurin_R_p(F(x,y), x, a_x, b_x,p, diff(F(x,y),x,p))\n",
    "print(\"x_R_p=$\", latex(x_R_p),\"$\")\n",
    "display(Math(latex(x_R_p)))"
   ]
  },
  {
   "cell_type": "code",
   "execution_count": 18,
   "metadata": {},
   "outputs": [
    {
     "name": "stdout",
     "output_type": "stream",
     "text": [
      "int_int= integrate(integrate(F(x, y), x, n_x, b_x), y, n_y, b_y)\n",
      "int_int=$ \\int_{n_{y}}^{b_{y}} \\int_{n_{x}}^{b_{x}} F\\left(x, y\\right)\\,{d x}\\,{d y} $\n"
     ]
    },
    {
     "data": {
      "text/latex": [
       "$\\displaystyle \\int_{n_{y}}^{b_{y}} \\int_{n_{x}}^{b_{x}} F\\left(x, y\\right)\\,{d x}\\,{d y}$"
      ],
      "text/plain": [
       "<IPython.core.display.Math object>"
      ]
     },
     "metadata": {},
     "output_type": "display_data"
    },
    {
     "name": "stdout",
     "output_type": "stream",
     "text": [
      "int_sum= 1/2*integrate(F(n_x, y), y, n_y, b_y)\n",
      "int_sum=$ \\frac{1}{2} \\, \\int_{n_{y}}^{b_{y}} F\\left(n_{x}, y\\right)\\,{d y} $\n"
     ]
    },
    {
     "data": {
      "text/latex": [
       "$\\displaystyle \\frac{1}{2} \\, \\int_{n_{y}}^{b_{y}} F\\left(n_{x}, y\\right)\\,{d y}$"
      ],
      "text/plain": [
       "<IPython.core.display.Math object>"
      ]
     },
     "metadata": {},
     "output_type": "display_data"
    },
    {
     "name": "stdout",
     "output_type": "stream",
     "text": [
      "inty_R_px= integrate(integrate(sum(1/2*(2*v - 1)*D[0](F)(j + v, y), j, n_x, b_x - 1), v, 0, 1), y, n_y, b_y)\n",
      "inty_R_px=$ \\int_{n_{y}}^{b_{y}} \\int_{0}^{1} {\\sum_{j=n_{x}}^{b_{x} - 1} \\frac{1}{2} \\, {\\left(2 \\, v - 1\\right)} \\mathrm{D}_{0}\\left(F\\right)\\left(j + v, y\\right)}\\,{d v}\\,{d y} $\n"
     ]
    },
    {
     "data": {
      "text/latex": [
       "$\\displaystyle \\int_{n_{y}}^{b_{y}} \\int_{0}^{1} {\\sum_{j=n_{x}}^{b_{x} - 1} \\frac{1}{2} \\, {\\left(2 \\, v - 1\\right)} \\mathrm{D}_{0}\\left(F\\right)\\left(j + v, y\\right)}\\,{d v}\\,{d y}$"
      ],
      "text/plain": [
       "<IPython.core.display.Math object>"
      ]
     },
     "metadata": {},
     "output_type": "display_data"
    },
    {
     "name": "stdout",
     "output_type": "stream",
     "text": [
      "inty_R_px= integrate(integrate(sum(1/2*(2*v - 1)*D[0](F)(j + v, y), j, n_x, b_x - 1), v, 0, 1), y, n_y, b_y)\n",
      "inty_R_px=$ \\int_{n_{y}}^{b_{y}} \\int_{0}^{1} {\\sum_{j=n_{x}}^{b_{x} - 1} \\frac{1}{2} \\, {\\left(2 \\, v - 1\\right)} \\mathrm{D}_{0}\\left(F\\right)\\left(j + v, y\\right)}\\,{d v}\\,{d y} $\n"
     ]
    },
    {
     "data": {
      "text/latex": [
       "$\\displaystyle \\int_{n_{y}}^{b_{y}} \\int_{0}^{1} {\\sum_{j=n_{x}}^{b_{x} - 1} \\frac{1}{2} \\, {\\left(2 \\, v - 1\\right)} \\mathrm{D}_{0}\\left(F\\right)\\left(j + v, y\\right)}\\,{d v}\\,{d y}$"
      ],
      "text/plain": [
       "<IPython.core.display.Math object>"
      ]
     },
     "metadata": {},
     "output_type": "display_data"
    }
   ],
   "source": [
    "int_int = integral(integral           (F(x,y),(x, a_x, b_x)),  (y, a_y, b_y))\n",
    "print(\"int_int=\", int_int)\n",
    "print(\"int_int=$\", latex(int_int),\"$\")\n",
    "display(Math(latex(int_int)))\n",
    "\n",
    "int_sum = integral(sum_dfdx_bernoulis (F(x,y), x, a_x, b_x,p), (y, a_y, b_y))\n",
    "print(\"int_sum=\", int_sum)\n",
    "print(\"int_sum=$\", latex(int_sum.expand()),\"$\")\n",
    "display(Math(latex(int_sum.expand())))\n",
    "\n",
    "R_px = euler_maclaurin_R_p(F(x,y), x, a_x, b_x, p, diff(F(x,y),x,p))\n",
    "if type(R_px) is tuple:\n",
    "    inty_R_px = integral(R_px[0], (y, a_y, b_y), hold=True)\n",
    "else:\n",
    "    inty_R_px = integral(R_px, (y, a_y, b_y), hold=True)\n",
    "\n",
    "print(\"inty_R_px=\",inty_R_px)\n",
    "print(\"inty_R_px=$\",latex(inty_R_px),\"$\")\n",
    "display(Math(latex(inty_R_px)))\n",
    "\n",
    "inty_R_px = integral_euler_maclaurin_R_p(F(x,y), x, a_x, b_x, y, a_y, b_y, p, diff(F(x,y),x,p), hold_int=True, hold_sum=True)\n",
    "print(\"inty_R_px=\",inty_R_px)\n",
    "print(\"inty_R_px=$\",latex(inty_R_px),\"$\")\n",
    "display(Math(latex(inty_R_px)))\n"
   ]
  },
  {
   "cell_type": "code",
   "execution_count": 19,
   "metadata": {},
   "outputs": [
    {
     "name": "stdout",
     "output_type": "stream",
     "text": [
      "sum_int= 1/2*integrate(F(x, n_y), x, n_x, b_x)\n",
      "sum_int=$ \\frac{1}{2} \\, \\int_{n_{x}}^{b_{x}} F\\left(x, n_{y}\\right)\\,{d x} $\n"
     ]
    },
    {
     "data": {
      "text/latex": [
       "$\\displaystyle \\frac{1}{2} \\, \\int_{n_{x}}^{b_{x}} F\\left(x, n_{y}\\right)\\,{d x}$"
      ],
      "text/plain": [
       "<IPython.core.display.Math object>"
      ]
     },
     "metadata": {},
     "output_type": "display_data"
    },
    {
     "name": "stdout",
     "output_type": "stream",
     "text": [
      "sum_sum= 1/4*F(n_x, n_y)\n",
      "sum_sum=$ \\frac{1}{4} \\, F\\left(n_{x}, n_{y}\\right) $\n"
     ]
    },
    {
     "data": {
      "text/latex": [
       "$\\displaystyle \\frac{1}{4} \\, F\\left(n_{x}, n_{y}\\right)$"
      ],
      "text/plain": [
       "<IPython.core.display.Math object>"
      ]
     },
     "metadata": {},
     "output_type": "display_data"
    },
    {
     "name": "stdout",
     "output_type": "stream",
     "text": [
      "R_px= integrate(sum(1/2*(2*v - 1)*D[0](F)(j + v, y), j, n_x, b_x - 1), v, 0, 1)\n",
      "R_px=$ \\int_{0}^{1} {\\sum_{j=n_{x}}^{b_{x} - 1} \\frac{1}{2} \\, {\\left(2 \\, v - 1\\right)} \\mathrm{D}_{0}\\left(F\\right)\\left(j + v, y\\right)}\\,{d v} $\n"
     ]
    },
    {
     "data": {
      "text/latex": [
       "$\\displaystyle \\int_{0}^{1} {\\sum_{j=n_{x}}^{b_{x} - 1} \\frac{1}{2} \\, {\\left(2 \\, v - 1\\right)} \\mathrm{D}_{0}\\left(F\\right)\\left(j + v, y\\right)}\\,{d v}$"
      ],
      "text/plain": [
       "<IPython.core.display.Math object>"
      ]
     },
     "metadata": {},
     "output_type": "display_data"
    },
    {
     "name": "stdout",
     "output_type": "stream",
     "text": [
      "sumy_R_px= 1/4*integrate((2*v - 1)*sum(D[0](F)(j + v, n_y), j, n_x, b_x - 1), v, 0, 1)\n",
      "sumy_R_px=$ \\frac{1}{4} \\, \\int_{0}^{1} {\\left(2 \\, v - 1\\right)} {\\sum_{j=n_{x}}^{b_{x} - 1} \\mathrm{D}_{0}\\left(F\\right)\\left(j + v, n_{y}\\right)}\\,{d v} $\n"
     ]
    },
    {
     "data": {
      "text/latex": [
       "$\\displaystyle \\frac{1}{4} \\, \\int_{0}^{1} {\\left(2 \\, v - 1\\right)} {\\sum_{j=n_{x}}^{b_{x} - 1} \\mathrm{D}_{0}\\left(F\\right)\\left(j + v, n_{y}\\right)}\\,{d v}$"
      ],
      "text/plain": [
       "<IPython.core.display.Math object>"
      ]
     },
     "metadata": {},
     "output_type": "display_data"
    },
    {
     "name": "stdout",
     "output_type": "stream",
     "text": [
      "sum_R_p= 1/4*integrate((2*v - 1)*sum(D[0](F)(j + v, n_y), j, n_x, b_x - 1), v, 0, 1)\n",
      "sum_R_p=$ \\frac{1}{4} \\, \\int_{0}^{1} {\\left(2 \\, v - 1\\right)} {\\sum_{j=n_{x}}^{b_{x} - 1} \\mathrm{D}_{0}\\left(F\\right)\\left(j + v, n_{y}\\right)}\\,{d v} $\n"
     ]
    },
    {
     "data": {
      "text/latex": [
       "$\\displaystyle \\frac{1}{4} \\, \\int_{0}^{1} {\\left(2 \\, v - 1\\right)} {\\sum_{j=n_{x}}^{b_{x} - 1} \\mathrm{D}_{0}\\left(F\\right)\\left(j + v, n_{y}\\right)}\\,{d v}$"
      ],
      "text/plain": [
       "<IPython.core.display.Math object>"
      ]
     },
     "metadata": {},
     "output_type": "display_data"
    },
    {
     "name": "stdout",
     "output_type": "stream",
     "text": [
      "\n",
      "Can't calculate derivative wrt j_x + v_x.\n",
      "\n",
      "Can't calculate derivative wrt j_x + v_x.\n",
      "sum_R_p= -1/4*sum(integrate(2*v_x*D[0](F)(j_x + v_x, b_y) - D[0](F)(j_x + v_x, b_y), v_x, 0, 1), j_x, n_x, b_x - 1) + 1/4*sum(integrate(2*v_x*D[0](F)(j_x + v_x, n_y) - D[0](F)(j_x + v_x, n_y), v_x, 0, 1), j_x, n_x, b_x - 1)\n",
      "sum_R_p=$ -\\frac{1}{4} \\, {\\sum_{j_{x}=n_{x}}^{b_{x} - 1} \\int_{0}^{1} 2 \\, v_{x} \\mathrm{D}_{0}\\left(F\\right)\\left(j_{x} + v_{x}, b_{y}\\right) - \\mathrm{D}_{0}\\left(F\\right)\\left(j_{x} + v_{x}, b_{y}\\right)\\,{d v_{x}}} + \\frac{1}{4} \\, {\\sum_{j_{x}=n_{x}}^{b_{x} - 1} \\int_{0}^{1} 2 \\, v_{x} \\mathrm{D}_{0}\\left(F\\right)\\left(j_{x} + v_{x}, n_{y}\\right) - \\mathrm{D}_{0}\\left(F\\right)\\left(j_{x} + v_{x}, n_{y}\\right)\\,{d v_{x}}} $\n"
     ]
    },
    {
     "name": "stderr",
     "output_type": "stream",
     "text": [
      "<ipython-input-6-f26b663f2464>:18: DeprecationWarning: Substitution using function-call syntax and unnamed arguments is deprecated and will be removed from a future release of Sage; you can use named arguments instead, like EXPR(x=..., y=...)\n",
      "See http://trac.sagemath.org/5930 for details.\n",
      "  R_p = lambda y_symb, y_val : symbolic_sum(expression=term_1(y_symb=y_symb, y_val=y_val, jx=jx),                                                                      v=jx, a=a_x, b=b_x-Integer(1))\n"
     ]
    },
    {
     "data": {
      "text/latex": [
       "$\\displaystyle -\\frac{1}{4} \\, {\\sum_{j_{x}=n_{x}}^{b_{x} - 1} \\int_{0}^{1} 2 \\, v_{x} \\mathrm{D}_{0}\\left(F\\right)\\left(j_{x} + v_{x}, b_{y}\\right) - \\mathrm{D}_{0}\\left(F\\right)\\left(j_{x} + v_{x}, b_{y}\\right)\\,{d v_{x}}} + \\frac{1}{4} \\, {\\sum_{j_{x}=n_{x}}^{b_{x} - 1} \\int_{0}^{1} 2 \\, v_{x} \\mathrm{D}_{0}\\left(F\\right)\\left(j_{x} + v_{x}, n_{y}\\right) - \\mathrm{D}_{0}\\left(F\\right)\\left(j_{x} + v_{x}, n_{y}\\right)\\,{d v_{x}}}$"
      ],
      "text/plain": [
       "<IPython.core.display.Math object>"
      ]
     },
     "metadata": {},
     "output_type": "display_data"
    }
   ],
   "source": [
    "sum_int = sum_dfdx_bernoulis(integral           (F(x,y),(x, a_x, b_x)),  y, a_y, b_y, p)\n",
    "print(\"sum_int=\",sum_int)\n",
    "print(\"sum_int=$\",latex(sum_int),\"$\")\n",
    "display(Math(latex(sum_int)))\n",
    "\n",
    "sum_sum = sum_dfdx_bernoulis(sum_dfdx_bernoulis (F(x,y), x, a_x, b_x,p), y, a_y, b_y, p)\n",
    "print(\"sum_sum=\",sum_sum)\n",
    "print(\"sum_sum=$\",latex(sum_sum),\"$\")\n",
    "display(Math(latex(sum_sum)))\n",
    "\n",
    "R_px = euler_maclaurin_R_p(F(x,y), x, a_x, b_x,p, f_diff_symb_p=F(x,y).diff(x,p))\n",
    "print(\"R_px=\", R_px)\n",
    "print(\"R_px=$\",latex(R_px),\"$\")\n",
    "display(Math(latex(R_px)))\n",
    "\n",
    "sumy_R_px = sum_dfdx_bernoulis(R_px, y, a_y, b_y, p)\n",
    "print(\"sumy_R_px=\",sumy_R_px)\n",
    "print(\"sumy_R_px=$\",latex(sumy_R_px),\"$\")\n",
    "display(Math(latex(sumy_R_px)))\n",
    "\n",
    "sum_R_p = sum_dfdx_bernoulis(euler_maclaurin_R_p(F(x,y), x, a_x, b_x,p, f_diff_symb_p=F(x,y).diff(x,p)), y, a_y, b_y, p)\n",
    "print(\"sum_R_p=\",sum_R_p)\n",
    "print(\"sum_R_p=$\",latex(sum_R_p),\"$\")\n",
    "display(Math(latex(sum_R_p)))\n",
    "\n",
    "sum_R_p = sum_dfdx_bernoulis_euler_maclaurin_R_p(F(x,y), x, a_x, b_x,    y, a_y, b_y, p)\n",
    "\n",
    "if type(sum_R_p) is tuple:\n",
    "    print(\"sum_R_p=\",sum_R_p[0])\n",
    "    print(\"sum_R_p=$\",latex(sum_R_p[0]),\"$\")\n",
    "    display(Math(latex(sum_R_p[0])))\n",
    "else:\n",
    "    print(\"sum_R_p=\",sum_R_p)\n",
    "    print(\"sum_R_p=$\",latex(sum_R_p),\"$\")\n",
    "    display(Math(latex(sum_R_p)))"
   ]
  },
  {
   "cell_type": "code",
   "execution_count": 20,
   "metadata": {},
   "outputs": [
    {
     "name": "stdout",
     "output_type": "stream",
     "text": [
      "\n",
      "Can't calculate derivative wrt j + v.\n",
      "R_p_int= integrate(sum(1/2*(2*v - 1)*integrate(D[1](F)(x, j + v), x, n_x, b_x), j, n_y, b_y - 1), v, 0, 1)\n",
      "R_p_int=$ \\int_{0}^{1} {\\sum_{j=n_{y}}^{b_{y} - 1} \\frac{1}{2} \\, {\\left(2 \\, v - 1\\right)} \\int_{n_{x}}^{b_{x}} \\mathrm{D}_{1}\\left(F\\right)\\left(x, j + v\\right)\\,{d x}}\\,{d v} $\n"
     ]
    },
    {
     "data": {
      "text/latex": [
       "$\\displaystyle \\int_{0}^{1} {\\sum_{j=n_{y}}^{b_{y} - 1} \\frac{1}{2} \\, {\\left(2 \\, v - 1\\right)} \\int_{n_{x}}^{b_{x}} \\mathrm{D}_{1}\\left(F\\right)\\left(x, j + v\\right)\\,{d x}}\\,{d v}$"
      ],
      "text/plain": [
       "<IPython.core.display.Math object>"
      ]
     },
     "metadata": {},
     "output_type": "display_data"
    },
    {
     "name": "stdout",
     "output_type": "stream",
     "text": [
      "R_p_sum= integrate(sum(1/4*(2*v - 1)*D[1](F)(n_x, j + v), j, n_y, b_y - 1), v, 0, 1)\n",
      "R_p_sum=$ \\int_{0}^{1} {\\sum_{j=n_{y}}^{b_{y} - 1} \\frac{1}{4} \\, {\\left(2 \\, v - 1\\right)} \\mathrm{D}_{1}\\left(F\\right)\\left(n_{x}, j + v\\right)}\\,{d v} $\n"
     ]
    },
    {
     "data": {
      "text/latex": [
       "$\\displaystyle \\int_{0}^{1} {\\sum_{j=n_{y}}^{b_{y} - 1} \\frac{1}{4} \\, {\\left(2 \\, v - 1\\right)} \\mathrm{D}_{1}\\left(F\\right)\\left(n_{x}, j + v\\right)}\\,{d v}$"
      ],
      "text/plain": [
       "<IPython.core.display.Math object>"
      ]
     },
     "metadata": {},
     "output_type": "display_data"
    },
    {
     "name": "stdout",
     "output_type": "stream",
     "text": [
      "R_px= integrate(sum(1/2*(2*v - 1)*D[0](F)(j + v, y), j, n_x, b_x - 1), v, 0, 1)\n",
      "R_px=$ \\int_{0}^{1} {\\sum_{j=n_{x}}^{b_{x} - 1} \\frac{1}{2} \\, {\\left(2 \\, v - 1\\right)} \\mathrm{D}_{0}\\left(F\\right)\\left(j + v, y\\right)}\\,{d v} $\n"
     ]
    },
    {
     "data": {
      "text/latex": [
       "$\\displaystyle \\int_{0}^{1} {\\sum_{j=n_{x}}^{b_{x} - 1} \\frac{1}{2} \\, {\\left(2 \\, v - 1\\right)} \\mathrm{D}_{0}\\left(F\\right)\\left(j + v, y\\right)}\\,{d v}$"
      ],
      "text/plain": [
       "<IPython.core.display.Math object>"
      ]
     },
     "metadata": {},
     "output_type": "display_data"
    },
    {
     "name": "stdout",
     "output_type": "stream",
     "text": [
      "R_px_diff_y_p= 1/2*integrate((b_x - n_x)*(2*v - 1)*D[0, 1](F)(j + v, y), v, 0, 1)\n",
      "R_px_diff_y_p=$ \\frac{1}{2} \\, \\int_{0}^{1} {\\left(b_{x} - n_{x}\\right)} {\\left(2 \\, v - 1\\right)} \\mathrm{D}_{0, 1}\\left(F\\right)\\left(j + v, y\\right)\\,{d v} $\n"
     ]
    },
    {
     "data": {
      "text/latex": [
       "$\\displaystyle \\frac{1}{2} \\, \\int_{0}^{1} {\\left(b_{x} - n_{x}\\right)} {\\left(2 \\, v - 1\\right)} \\mathrm{D}_{0, 1}\\left(F\\right)\\left(j + v, y\\right)\\,{d v}$"
      ],
      "text/plain": [
       "<IPython.core.display.Math object>"
      ]
     },
     "metadata": {},
     "output_type": "display_data"
    },
    {
     "name": "stdout",
     "output_type": "stream",
     "text": [
      "f integrate(sum(1/2*(2*v - 1)*D[0](F)(j + v, y), j, n_x, b_x - 1), v, 0, 1)\n",
      "symb,a,b y n_y b_y\n",
      "\n",
      "R_p_R_p= integrate(sum(0, j, n_y, b_y - 1), v, 0, 1)\n",
      "R_p_R_p=$ \\int_{0}^{1} {\\sum_{j=n_{y}}^{b_{y} - 1} 0}\\,{d v} $\n"
     ]
    },
    {
     "data": {
      "text/latex": [
       "$\\displaystyle \\int_{0}^{1} {\\sum_{j=n_{y}}^{b_{y} - 1} 0}\\,{d v}$"
      ],
      "text/plain": [
       "<IPython.core.display.Math object>"
      ]
     },
     "metadata": {},
     "output_type": "display_data"
    },
    {
     "name": "stdout",
     "output_type": "stream",
     "text": [
      "\n",
      "Can't calculate derivative wrt j_x + v_x.\n",
      "R_p_R_p= sum(integrate(1/4*(2*v_y - 1)*integrate((2*v_x - 1)*D[0, 1, 1](F)(j_x + v_x, j_y + v_y), v_x, 0, 1)*D[0](sum)(1/2*integrate((2*v_x - 1)*D[0, 1](F)(j_x + v_x, j_y + v_y), v_x, 0, 1), j_x, n_x, b_x - 1), v_y, 0, 1), j_y, n_y, b_y - 1)\n",
      "R_p_R_p=$ {\\sum_{j_{y}=n_{y}}^{b_{y} - 1} \\int_{0}^{1} \\frac{1}{4} \\, {\\left(2 \\, v_{y} - 1\\right)} \\int_{0}^{1} {\\left(2 \\, v_{x} - 1\\right)} \\mathrm{D}_{0, 1, 1}\\left(F\\right)\\left(j_{x} + v_{x}, j_{y} + v_{y}\\right)\\,{d v_{x}} \\mathrm{D}_{0}{\\sum_{j_{x}=n_{x}}^{b_{x} - 1} \\frac{1}{2} \\, \\int_{0}^{1} {\\left(2 \\, v_{x} - 1\\right)} \\mathrm{D}_{0, 1}\\left(F\\right)\\left(j_{x} + v_{x}, j_{y} + v_{y}\\right)\\,{d v_{x}}}\\,{d v_{y}}} $\n"
     ]
    },
    {
     "data": {
      "text/latex": [
       "$\\displaystyle {\\sum_{j_{y}=n_{y}}^{b_{y} - 1} \\int_{0}^{1} \\frac{1}{4} \\, {\\left(2 \\, v_{y} - 1\\right)} \\int_{0}^{1} {\\left(2 \\, v_{x} - 1\\right)} \\mathrm{D}_{0, 1, 1}\\left(F\\right)\\left(j_{x} + v_{x}, j_{y} + v_{y}\\right)\\,{d v_{x}} \\mathrm{D}_{0}{\\sum_{j_{x}=n_{x}}^{b_{x} - 1} \\frac{1}{2} \\, \\int_{0}^{1} {\\left(2 \\, v_{x} - 1\\right)} \\mathrm{D}_{0, 1}\\left(F\\right)\\left(j_{x} + v_{x}, j_{y} + v_{y}\\right)\\,{d v_{x}}}\\,{d v_{y}}}$"
      ],
      "text/plain": [
       "<IPython.core.display.Math object>"
      ]
     },
     "metadata": {},
     "output_type": "display_data"
    }
   ],
   "source": [
    "R_p_int = euler_maclaurin_R_p(integral           (F(x,y),(x, a_x, b_x), hold=True), \\\n",
    "                              y, a_y, b_y, p,f_diff_symb_p=F(x,y).diff(y,p))\n",
    "print(\"R_p_int=\",R_p_int)\n",
    "print(\"R_p_int=$\",latex(R_p_int),\"$\")\n",
    "display(Math(latex(R_p_int)))\n",
    "\n",
    "R_p_sum = euler_maclaurin_R_p(sum_dfdx_bernoulis (F(x,y), x, a_x, b_x,p), \\\n",
    "                              y, a_y, b_y, p, f_diff_symb_p=F(x,y).diff(y,p))\n",
    "print(\"R_p_sum=\",R_p_sum)\n",
    "print(\"R_p_sum=$\",latex(R_p_sum),\"$\")\n",
    "display(Math(latex(R_p_sum)))\n",
    "\n",
    "try:\n",
    "    R_px = euler_maclaurin_R_p(F(x,y), x, a_x, b_x,p, f_diff_symb_p=F(x,y).diff(x,p))\n",
    "    print(\"R_px=\",R_px)\n",
    "    print(\"R_px=$\",latex(R_px),\"$\")\n",
    "    display(Math(latex(R_px)))\n",
    "    \n",
    "    R_px_diff_y_p = R_px.diff(y,p)\n",
    "    print(\"R_px_diff_y_p=\", R_px_diff_y_p)\n",
    "    print(\"R_px_diff_y_p=$\", latex(R_px_diff_y_p),\"$\")\n",
    "    display(Math(latex(R_px_diff_y_p)))\n",
    "    \n",
    "    logging = True\n",
    "\n",
    "    R_p_R_p = euler_maclaurin_R_p(R_px, \\\n",
    "                                  y, a_y, b_y, p, f_diff_symb_p=R_px_diff_y_p)\n",
    "    #R_p_R_p = euler_maclaurin_R_p_euler_maclaurin_R_p(F(x,y), x, a_x, b_x,    y, a_y, b_y, p)\n",
    "    \n",
    "    logging = False\n",
    "\n",
    "    print(\"R_p_R_p=\",R_p_R_p)\n",
    "    print(\"R_p_R_p=$\",latex(R_p_R_p),\"$\")\n",
    "    display(Math(latex(R_p_R_p)))\n",
    "except Exception as ex:\n",
    "    print(ex)\n",
    "\n",
    "\n",
    "try:\n",
    "    #R_p_R_p = euler_maclaurin_R_p(euler_maclaurin_R_p(F(x,y), x, a_x, b_x,p), y, a_y, b_y, p)\n",
    "    R_p_R_p = euler_maclaurin_R_p_euler_maclaurin_R_p(F(x,y), x, a_x, b_x,    y, a_y, b_y, p, f_diff_x_p_diff_y_p=None)\n",
    "\n",
    "    print(\"R_p_R_p=\",R_p_R_p)\n",
    "    print(\"R_p_R_p=$\",latex(R_p_R_p),\"$\")\n",
    "    display(Math(latex(R_p_R_p)))\n",
    "except Exception as ex:\n",
    "    print(ex)"
   ]
  },
  {
   "cell_type": "code",
   "execution_count": 21,
   "metadata": {},
   "outputs": [
    {
     "name": "stdout",
     "output_type": "stream",
     "text": [
      "\n",
      "Can't calculate derivative wrt j + v.\n",
      "\n",
      "Can't calculate derivative wrt j + v.\n"
     ]
    }
   ],
   "source": [
    "sxy_symb = euler_maclaurin1(euler_maclaurin1(F(x,y),x,a_x,b_x,p,f_diff_symb_p=None),\\\n",
    "                            y,a_y,b_y,p,f_diff_symb_p=None)"
   ]
  },
  {
   "cell_type": "code",
   "execution_count": 22,
   "metadata": {},
   "outputs": [
    {
     "data": {
      "text/plain": [
       "1/4*F(n_x, n_y) + 1/4*integrate((2*v - 1)*sum(D[0](F)(j + v, n_y), j, n_x, b_x - 1), v, 0, 1) + integrate(1/2*F(n_x, y) + 1/2*integrate((2*v - 1)*sum(D[0](F)(j + v, y), j, n_x, b_x - 1), v, 0, 1) + integrate(F(x, y), x, n_x, b_x), y, n_y, b_y) + 1/2*integrate(F(x, n_y), x, n_x, b_x) + integrate(sum(1/4*(2*v - 1)*(2*integrate(D[1](F)(x, j + v), x, n_x, b_x) + D[1](F)(n_x, j + v)), j, n_y, b_y - 1), v, 0, 1)"
      ]
     },
     "execution_count": 22,
     "metadata": {},
     "output_type": "execute_result"
    }
   ],
   "source": [
    "sxy_symb"
   ]
  },
  {
   "cell_type": "code",
   "execution_count": 23,
   "metadata": {},
   "outputs": [
    {
     "data": {
      "text/plain": [
       "\\frac{1}{4} \\, F\\left(n_{x}, n_{y}\\right) + \\frac{1}{4} \\, \\int_{0}^{1} {\\left(2 \\, v - 1\\right)} {\\sum_{j=n_{x}}^{b_{x} - 1} \\mathrm{D}_{0}\\left(F\\right)\\left(j + v, n_{y}\\right)}\\,{d v} + \\int_{n_{y}}^{b_{y}} \\frac{1}{2} \\, F\\left(n_{x}, y\\right) + \\frac{1}{2} \\, \\int_{0}^{1} {\\left(2 \\, v - 1\\right)} {\\sum_{j=n_{x}}^{b_{x} - 1} \\mathrm{D}_{0}\\left(F\\right)\\left(j + v, y\\right)}\\,{d v} + \\int_{n_{x}}^{b_{x}} F\\left(x, y\\right)\\,{d x}\\,{d y} + \\frac{1}{2} \\, \\int_{n_{x}}^{b_{x}} F\\left(x, n_{y}\\right)\\,{d x} + \\int_{0}^{1} {\\sum_{j=n_{y}}^{b_{y} - 1} \\frac{1}{4} \\, {\\left(2 \\, v - 1\\right)} {\\left(2 \\, \\int_{n_{x}}^{b_{x}} \\mathrm{D}_{1}\\left(F\\right)\\left(x, j + v\\right)\\,{d x} + \\mathrm{D}_{1}\\left(F\\right)\\left(n_{x}, j + v\\right)\\right)}}\\,{d v}"
      ]
     },
     "execution_count": 23,
     "metadata": {},
     "output_type": "execute_result"
    }
   ],
   "source": [
    "latex(sxy_symb)"
   ]
  },
  {
   "cell_type": "code",
   "execution_count": 24,
   "metadata": {},
   "outputs": [
    {
     "data": {
      "text/latex": [
       "$\\displaystyle \\frac{1}{4} \\, F\\left(n_{x}, n_{y}\\right) + \\frac{1}{4} \\, \\int_{0}^{1} {\\left(2 \\, v - 1\\right)} {\\sum_{j=n_{x}}^{b_{x} - 1} \\mathrm{D}_{0}\\left(F\\right)\\left(j + v, n_{y}\\right)}\\,{d v} + \\int_{n_{y}}^{b_{y}} \\frac{1}{2} \\, F\\left(n_{x}, y\\right) + \\frac{1}{2} \\, \\int_{0}^{1} {\\left(2 \\, v - 1\\right)} {\\sum_{j=n_{x}}^{b_{x} - 1} \\mathrm{D}_{0}\\left(F\\right)\\left(j + v, y\\right)}\\,{d v} + \\int_{n_{x}}^{b_{x}} F\\left(x, y\\right)\\,{d x}\\,{d y} + \\frac{1}{2} \\, \\int_{n_{x}}^{b_{x}} F\\left(x, n_{y}\\right)\\,{d x} + \\int_{0}^{1} {\\sum_{j=n_{y}}^{b_{y} - 1} \\frac{1}{4} \\, {\\left(2 \\, v - 1\\right)} {\\left(2 \\, \\int_{n_{x}}^{b_{x}} \\mathrm{D}_{1}\\left(F\\right)\\left(x, j + v\\right)\\,{d x} + \\mathrm{D}_{1}\\left(F\\right)\\left(n_{x}, j + v\\right)\\right)}}\\,{d v}$"
      ],
      "text/plain": [
       "<IPython.core.display.Math object>"
      ]
     },
     "metadata": {},
     "output_type": "display_data"
    }
   ],
   "source": [
    "display(Math(latex(sxy_symb)))"
   ]
  },
  {
   "cell_type": "code",
   "execution_count": 25,
   "metadata": {},
   "outputs": [],
   "source": [
    "f(x,y)=1/(x^2)\n",
    "assume(y>0)\n",
    "assume(x>0)\n",
    "a_x = 1\n",
    "b_x = Infinity\n",
    "\n",
    "a_y = 1\n",
    "b_y = Infinity"
   ]
  },
  {
   "cell_type": "code",
   "execution_count": 26,
   "metadata": {},
   "outputs": [],
   "source": [
    "calc_R_p=True\n",
    "use_int_R_p_j=False\n",
    "use_int_R_p_shifted_first=True\n",
    "change_R_p_order=True"
   ]
  },
  {
   "cell_type": "code",
   "execution_count": 27,
   "metadata": {},
   "outputs": [
    {
     "data": {
      "text/plain": [
       "integrate(-(2*x - 2*floor(x) - 1)/x^3, x, 1, +Infinity) + 3/2"
      ]
     },
     "execution_count": 27,
     "metadata": {},
     "output_type": "execute_result"
    }
   ],
   "source": [
    "ans = my_euler_maclaurin1(f(x,y), x, a_x, b_x, p, f_diff_symb_p=None)\n",
    "ans"
   ]
  },
  {
   "cell_type": "code",
   "execution_count": 28,
   "metadata": {},
   "outputs": [
    {
     "data": {
      "text/plain": [
       "integrate(-(2*x - 2*floor(x) - 1)/x^3, x, 1, +Infinity) + 3/2"
      ]
     },
     "execution_count": 28,
     "metadata": {},
     "output_type": "execute_result"
    }
   ],
   "source": [
    "ans = euler_maclaurin1(f(x,y), x, a_x, b_x, p, f_diff_symb_p=None)\n",
    "ans"
   ]
  },
  {
   "cell_type": "code",
   "execution_count": 29,
   "metadata": {},
   "outputs": [
    {
     "data": {
      "text/plain": [
       "1.64489926189016"
      ]
     },
     "execution_count": 29,
     "metadata": {},
     "output_type": "execute_result"
    }
   ],
   "source": [
    "ans.n()"
   ]
  },
  {
   "cell_type": "code",
   "execution_count": 30,
   "metadata": {},
   "outputs": [],
   "source": [
    "calc_R_p=True\n",
    "use_int_R_p_j=True\n",
    "use_int_R_p_shifted_first=True\n",
    "change_R_p_order=False"
   ]
  },
  {
   "cell_type": "code",
   "execution_count": 31,
   "metadata": {},
   "outputs": [
    {
     "data": {
      "text/plain": [
       "(x, y) |--> 1/6*pi^2"
      ]
     },
     "execution_count": 31,
     "metadata": {},
     "output_type": "execute_result"
    }
   ],
   "source": [
    "ans = my_euler_maclaurin1(f,x,a_x,b_x,p, f_diff_symb_p=None)\n",
    "ans"
   ]
  },
  {
   "cell_type": "code",
   "execution_count": 32,
   "metadata": {},
   "outputs": [
    {
     "data": {
      "text/plain": [
       "sum(integrate(-(2*v_x - 1)/(j_x + v_x)^3, v_x, 0, 1), j_x, 1, +Infinity) + 3/2"
      ]
     },
     "execution_count": 32,
     "metadata": {},
     "output_type": "execute_result"
    }
   ],
   "source": [
    "ans = euler_maclaurin1(f(x,y),x,a_x,b_x,p, f_diff_symb_p=None)\n",
    "ans"
   ]
  },
  {
   "cell_type": "code",
   "execution_count": 33,
   "metadata": {},
   "outputs": [],
   "source": [
    "calc_R_p=True\n",
    "use_int_R_p_j=True\n",
    "use_int_R_p_shifted_first=True\n",
    "change_R_p_order=True"
   ]
  },
  {
   "cell_type": "code",
   "execution_count": 34,
   "metadata": {},
   "outputs": [
    {
     "data": {
      "text/plain": [
       "(x, y) |--> integrate(2*v*(harmonic_number(v, 3) - zeta(3)) - harmonic_number(v, 3) + zeta(3), v, 0, 1) + 3/2"
      ]
     },
     "execution_count": 34,
     "metadata": {},
     "output_type": "execute_result"
    }
   ],
   "source": [
    "ans = my_euler_maclaurin1(f,x,a_x,b_x,p, f_diff_symb_p=None)\n",
    "ans"
   ]
  },
  {
   "cell_type": "code",
   "execution_count": 35,
   "metadata": {},
   "outputs": [
    {
     "data": {
      "text/plain": [
       "integrate(sum(-(2*v - 1)/(j + v)^3, j, 1, +Infinity), v, 0, 1) + 3/2"
      ]
     },
     "execution_count": 35,
     "metadata": {},
     "output_type": "execute_result"
    }
   ],
   "source": [
    "ans = euler_maclaurin1(f(x,y),x,a_x,b_x,p, f_diff_symb_p=None)\n",
    "ans"
   ]
  },
  {
   "cell_type": "code",
   "execution_count": 36,
   "metadata": {},
   "outputs": [
    {
     "data": {
      "text/plain": [
       "integrate(sum(-(2*v - 1)/(j + v)^3, j, 1, +Infinity), v, 0, 1) + 3/2"
      ]
     },
     "execution_count": 36,
     "metadata": {},
     "output_type": "execute_result"
    }
   ],
   "source": [
    "ans = euler_maclaurin1(f(x,y),x,a_x,b_x,p, f_diff_symb_p=None, hold_int=False)\n",
    "ans"
   ]
  },
  {
   "cell_type": "code",
   "execution_count": 37,
   "metadata": {},
   "outputs": [],
   "source": [
    "calc_R_p=True\n",
    "use_int_R_p_j=True\n",
    "use_int_R_p_shifted_first=True\n",
    "change_R_p_order=False"
   ]
  },
  {
   "cell_type": "code",
   "execution_count": 38,
   "metadata": {},
   "outputs": [
    {
     "data": {
      "text/plain": [
       "(x, y) |--> 1/6*pi^2"
      ]
     },
     "execution_count": 38,
     "metadata": {},
     "output_type": "execute_result"
    }
   ],
   "source": [
    "ans = my_euler_maclaurin1(f,x,a_x,b_x,p, f_diff_symb_p=None)\n",
    "ans"
   ]
  },
  {
   "cell_type": "code",
   "execution_count": 39,
   "metadata": {},
   "outputs": [
    {
     "data": {
      "text/plain": [
       "sum(integrate(-(2*v_x - 1)/(j_x + v_x)^3, v_x, 0, 1), j_x, 1, +Infinity) + 3/2"
      ]
     },
     "execution_count": 39,
     "metadata": {},
     "output_type": "execute_result"
    }
   ],
   "source": [
    "ans = euler_maclaurin1(f(x,y),x,a_x,b_x,p, f_diff_symb_p=None)\n",
    "ans"
   ]
  },
  {
   "cell_type": "code",
   "execution_count": 40,
   "metadata": {},
   "outputs": [
    {
     "data": {
      "text/plain": [
       "sum(1/2*(2*j_x + 3)/(j_x^2 + 2*j_x + 1) - 1/2*(2*j_x - 1)/j_x^2, j_x, 1, +Infinity) + 3/2"
      ]
     },
     "execution_count": 40,
     "metadata": {},
     "output_type": "execute_result"
    }
   ],
   "source": [
    "ans = euler_maclaurin1(f(x,y),x,a_x,b_x,p, f_diff_symb_p=None, hold_int=False)\n",
    "ans"
   ]
  },
  {
   "cell_type": "code",
   "execution_count": 41,
   "metadata": {},
   "outputs": [],
   "source": [
    "f(x,y)=1/((x^2+y^2)^2)\n",
    "#f(x,y)=x^2+y^2\n",
    "assume(y>0)\n",
    "assume(x>0)"
   ]
  },
  {
   "cell_type": "markdown",
   "metadata": {},
   "source": [
    "https://core.ac.uk/download/pdf/82162715.pdf\n",
    "\n",
    "JOURNAL OF NUMBER THEORY 35, 62-71 (1990)\n",
    "\n",
    "Evaluation of Multidimensional Linear Zeta Functions\n",
    "\n",
    "ALFRED ACTOR*\n",
    "\n",
    "Department of Physics, The Pennsylvania State University,\n",
    "\n",
    "Fogelsville, Pennsylvania 18051\n",
    "\n",
    "Communicated by Hans Zassenhaus\n",
    "\n",
    "Received January 28, 1988; revised May 5, 1989"
   ]
  },
  {
   "cell_type": "code",
   "execution_count": null,
   "metadata": {},
   "outputs": [],
   "source": []
  },
  {
   "cell_type": "markdown",
   "metadata": {},
   "source": [
    "A prototypical formula of this type is [1] \n",
    "\n",
    "$\\sum\\limits_{m,n=-\\infty}^{\\infty} \\, \\left(m^{2} + n^{2}\\right)^{-S} = 4\\,\\zeta\\left(S\\right)\\,\\beta\\left(S\\right)$\n",
    "\n",
    "where of course, $\\zeta\\left(S\\right)$ is the Riemann $\\zeta$-function [2]\n",
    "\n",
    "while $\\beta\\left(S\\right) = \\sum\\limits_{n=0}^{\\infty}\\left( - \\right)^n \\left(2n + 1\\right)^{-S}$\n",
    "defines, for $Res > 0$, a function whose properties throughout the s-plane are\n",
    "well known [3].\n",
    "\n",
    "Thus Eq. (1) fully reveals the properties of the twodimensional Epstein $\\zeta$-function [4] on the left. \n",
    "\n",
    "\n",
    "\n",
    "1. G. H. HARDY, Notes on some points in the integral calculus LII, Mess. Math. 49 (1919),\n",
    "85-91.\n",
    "2. H. M. EDWARDS, “Riemann’s Zeta Function,” Academic Press, New York, 1974.\n",
    "3. A. ERDELYI, W. MAGNUS, F. OEERHETTINGER, AND F. G. TRICOMI (Eds.), “Higher Transcendental Functions,” Vol. 1, McGraw-Hill, New York, 1953. \n",
    "LINEAR ZETA FUNCTIONS 71\n",
    "4. P. EPSTEIN, Zur Theorie allgemeiner Zetafunctionen, Marh. Ann. 56 (1903), 615-645; Zur\n",
    "Theorie allgemeiner Zetafunctionen, II, Math. Ann. 63 (19071, 205-216. "
   ]
  },
  {
   "cell_type": "markdown",
   "metadata": {},
   "source": [
    "$\\sum\\limits_{m,n=(0)1}^{\\infty} \\, \\left(m^{2} + n^{2}\\right)^{-S} = \\zeta\\left(S\\right)\\,\\beta\\left(S\\right)$"
   ]
  },
  {
   "cell_type": "markdown",
   "metadata": {},
   "source": [
    "$\\sum\\limits_{m,n=(0)1}^{\\infty} \\, \\left(\\sqrt{m^{2} + n^{2}}\\right)^{-S} = \\sum\\limits_{m,n=(0)1}^{\\infty} \\, \\left(m^{2} + n^{2}\\right)^{-\\frac{S}{2}} = \\zeta\\left(\\frac{S}{2}\\right)\\,\\beta\\left(\\frac{S}{2}\\right)$"
   ]
  },
  {
   "cell_type": "code",
   "execution_count": 42,
   "metadata": {},
   "outputs": [],
   "source": [
    "def zeta_2D(S, N):\n",
    "    \n",
    "    def zeta_2D_row(S, first, N):\n",
    "        #print(\"N\", N, [m for m in range(0,N)])\n",
    "        row_sum = 0\n",
    "        for m in range(first, N):\n",
    "            row_sum += (N^2+m^2)^(-S)\n",
    "            #print(\"m\", m, \"row_sum=\", row_sum)\n",
    "        return row_sum\n",
    "\n",
    "    def zeta_2D_diag(S, N):\n",
    "        diag_elem = (2*N^2)^(-S)\n",
    "        #print(\"N\", N, \"diag_elem=\", diag_elem)\n",
    "        return diag_elem\n",
    "    \n",
    "    zeta_2D_sum = 0\n",
    "    for n in range(1,N):\n",
    "        zeta_2D_add = zeta_2D_row(S, 0, n) + zeta_2D_row(S, 1, n) + zeta_2D_diag(S, n)\n",
    "        zeta_2D_sum += zeta_2D_add\n",
    "        \n",
    "        #print(n, zeta_2D_add, zeta_2D_sum)\n",
    "    return zeta_2D_sum"
   ]
  },
  {
   "cell_type": "code",
   "execution_count": 43,
   "metadata": {},
   "outputs": [
    {
     "data": {
      "text/plain": [
       "1.5067023665809038"
      ]
     },
     "execution_count": 43,
     "metadata": {},
     "output_type": "execute_result"
    }
   ],
   "source": [
    "zeta_2D(2, 1000)"
   ]
  },
  {
   "cell_type": "code",
   "execution_count": 44,
   "metadata": {},
   "outputs": [],
   "source": [
    "from sage.calculus.calculus import symbolic_sum\n",
    "n = var(\"n\")\n",
    "S = var(\"S\")\n",
    "beta1_sym = lambda S : symbolic_sum((-1)^n * (2*n + 1)^(-S), n, 0, Infinity)\n",
    "beta1 = lambda S : sum((-1)^n * (2*n + 1)^(-S), n, 0, Infinity)\n",
    "\n",
    "def beta1_dig(S,N):\n",
    "    Sum = 0\n",
    "    for n in range (N):\n",
    "        Sum += (-1)^n * (2*n + 1)^(-S)\n",
    "    return Sum"
   ]
  },
  {
   "cell_type": "code",
   "execution_count": 45,
   "metadata": {},
   "outputs": [
    {
     "data": {
      "text/plain": [
       "0.915965469177313"
      ]
     },
     "execution_count": 45,
     "metadata": {},
     "output_type": "execute_result"
    }
   ],
   "source": [
    "beta1_dig(2,1000).n()"
   ]
  },
  {
   "cell_type": "code",
   "execution_count": 46,
   "metadata": {},
   "outputs": [
    {
     "data": {
      "text/plain": [
       "1/6*pi^2"
      ]
     },
     "execution_count": 46,
     "metadata": {},
     "output_type": "execute_result"
    }
   ],
   "source": [
    "zeta(2)"
   ]
  },
  {
   "cell_type": "code",
   "execution_count": 47,
   "metadata": {},
   "outputs": [
    {
     "data": {
      "text/plain": [
       "1.64493406684823"
      ]
     },
     "execution_count": 47,
     "metadata": {},
     "output_type": "execute_result"
    }
   ],
   "source": [
    "zeta(2).n()"
   ]
  },
  {
   "cell_type": "code",
   "execution_count": 48,
   "metadata": {},
   "outputs": [
    {
     "data": {
      "text/plain": [
       "1.5067023665809038"
      ]
     },
     "execution_count": 48,
     "metadata": {},
     "output_type": "execute_result"
    }
   ],
   "source": [
    "zeta_2D(2, 1000)"
   ]
  },
  {
   "cell_type": "code",
   "execution_count": 49,
   "metadata": {},
   "outputs": [
    {
     "data": {
      "text/plain": [
       "1.50670280430638"
      ]
     },
     "execution_count": 49,
     "metadata": {},
     "output_type": "execute_result"
    }
   ],
   "source": [
    "beta1_dig(2,1000)*zeta(2).n()"
   ]
  },
  {
   "cell_type": "code",
   "execution_count": 50,
   "metadata": {},
   "outputs": [
    {
     "data": {
      "text/plain": [
       "1.5067023665809038"
      ]
     },
     "execution_count": 50,
     "metadata": {},
     "output_type": "execute_result"
    }
   ],
   "source": [
    "zeta_2D(2, 1000)"
   ]
  },
  {
   "cell_type": "code",
   "execution_count": 51,
   "metadata": {},
   "outputs": [],
   "source": [
    "calc_R_p=True\n",
    "use_int_R_p_j=True\n",
    "use_int_R_p_shifted_first=False\n",
    "change_R_p_order=False"
   ]
  },
  {
   "cell_type": "code",
   "execution_count": 52,
   "metadata": {},
   "outputs": [],
   "source": [
    "#sxy1 = euler_maclaurin1(euler_maclaurin1(f(x,y),x,a_x,b_x,p),y,a_y,b_y,p)"
   ]
  },
  {
   "cell_type": "code",
   "execution_count": 53,
   "metadata": {},
   "outputs": [],
   "source": [
    "#display(Math(latex(my_sxy1)))"
   ]
  },
  {
   "cell_type": "code",
   "execution_count": 54,
   "metadata": {},
   "outputs": [],
   "source": [
    "#display(Math(latex(sxy1)))"
   ]
  },
  {
   "cell_type": "code",
   "execution_count": 55,
   "metadata": {},
   "outputs": [],
   "source": [
    "#my_sxy1.n()"
   ]
  },
  {
   "cell_type": "code",
   "execution_count": 56,
   "metadata": {},
   "outputs": [],
   "source": [
    "#sxy1.n()"
   ]
  },
  {
   "cell_type": "code",
   "execution_count": 57,
   "metadata": {},
   "outputs": [],
   "source": [
    "#display(Math(latex(sum(1/(x^2+y^2)^2,x,1,Infinity))))"
   ]
  },
  {
   "cell_type": "code",
   "execution_count": 58,
   "metadata": {},
   "outputs": [],
   "source": [
    "#display(Math(latex(sum(sum(1/(x^2+y^2)^2,x,1,Infinity),y,1,Infinity))))"
   ]
  },
  {
   "cell_type": "code",
   "execution_count": 59,
   "metadata": {},
   "outputs": [
    {
     "name": "stdout",
     "output_type": "stream",
     "text": [
      "int_int=$ \\frac{1}{8} \\, \\pi - \\frac{1}{4} $\n",
      "int_int= 0.142699081698724\n"
     ]
    },
    {
     "data": {
      "text/latex": [
       "$\\displaystyle \\frac{1}{8} \\, \\pi - \\frac{1}{4}$"
      ],
      "text/plain": [
       "<IPython.core.display.Math object>"
      ]
     },
     "metadata": {},
     "output_type": "display_data"
    },
    {
     "name": "stdout",
     "output_type": "stream",
     "text": [
      "int_sum=$ \\frac{1}{16} \\, \\pi - \\frac{1}{8} $\n",
      "int_sum= 0.0713495408493621\n"
     ]
    },
    {
     "data": {
      "text/latex": [
       "$\\displaystyle \\frac{1}{16} \\, \\pi - \\frac{1}{8}$"
      ],
      "text/plain": [
       "<IPython.core.display.Math object>"
      ]
     },
     "metadata": {},
     "output_type": "display_data"
    },
    {
     "name": "stdout",
     "output_type": "stream",
     "text": [
      "int_R_p=$ \\int_{1}^{+\\infty} {\\sum_{j_{x}=1}^{+\\infty} \\int_{0}^{1} -\\frac{2 \\, {\\left(j_{x} + v_{x}\\right)} {\\left(2 \\, v_{x} - 1\\right)}}{{\\left({\\left(j_{x} + v_{x}\\right)}^{2} + y^{2}\\right)}^{3}}\\,{d v_{x}}}\\,{d y} $\n"
     ]
    },
    {
     "data": {
      "text/latex": [
       "$\\displaystyle \\int_{1}^{+\\infty} {\\sum_{j_{x}=1}^{+\\infty} \\int_{0}^{1} -\\frac{2 \\, {\\left(j_{x} + v_{x}\\right)} {\\left(2 \\, v_{x} - 1\\right)}}{{\\left({\\left(j_{x} + v_{x}\\right)}^{2} + y^{2}\\right)}^{3}}\\,{d v_{x}}}\\,{d y}$"
      ],
      "text/plain": [
       "<IPython.core.display.Math object>"
      ]
     },
     "metadata": {},
     "output_type": "display_data"
    },
    {
     "name": "stdout",
     "output_type": "stream",
     "text": [
      "int_R_p=$ {\\sum_{j_{x}=1}^{+\\infty} \\frac{j_{x}^{8} + 4 \\, j_{x}^{7} + 6 \\, j_{x}^{6} + 4 \\, j_{x}^{5} - 3 \\, j_{x}^{4} - 8 \\, j_{x}^{3} - 6 \\, j_{x}^{2} - {\\left(j_{x}^{10} + 5 \\, j_{x}^{9} + 11 \\, j_{x}^{8} + 14 \\, j_{x}^{7} + 12 \\, j_{x}^{6} + 7 \\, j_{x}^{5} + 2 \\, j_{x}^{4} - 2 \\, j_{x}^{3}\\right)} \\arctan\\left(j_{x} + 1\\right) + {\\left(j_{x}^{10} + 5 \\, j_{x}^{9} + 11 \\, j_{x}^{8} + 14 \\, j_{x}^{7} + 12 \\, j_{x}^{6} + 9 \\, j_{x}^{5} + 7 \\, j_{x}^{4} + 6 \\, j_{x}^{3} + 7 \\, j_{x}^{2} + 6 \\, j_{x} + 2\\right)} \\arctan\\left(j_{x}\\right) - 2 \\, j_{x}}{4 \\, {\\left(j_{x}^{10} + 5 \\, j_{x}^{9} + 12 \\, j_{x}^{8} + 18 \\, j_{x}^{7} + 19 \\, j_{x}^{6} + 15 \\, j_{x}^{5} + 8 \\, j_{x}^{4} + 2 \\, j_{x}^{3}\\right)}}} $\n",
      "int_R_p= sum(1/4*(j_x^8 + 4*j_x^7 + 6*j_x^6 + 4*j_x^5 - 3*j_x^4 - 8*j_x^3 - 6*j_x^2 - (j_x^10 + 5*j_x^9 + 11*j_x^8 + 14*j_x^7 + 12*j_x^6 + 7*j_x^5 + 2*j_x^4 - 2*j_x^3)*arctan(j_x + 1) + (j_x^10 + 5*j_x^9 + 11*j_x^8 + 14*j_x^7 + 12*j_x^6 + 9*j_x^5 + 7*j_x^4 + 6*j_x^3 + 7*j_x^2 + 6*j_x + 2)*arctan(j_x) - 2*j_x)/(j_x^10 + 5*j_x^9 + 12*j_x^8 + 18*j_x^7 + 19*j_x^6 + 15*j_x^5 + 8*j_x^4 + 2*j_x^3), j_x, 1, +Infinity)\n"
     ]
    },
    {
     "data": {
      "text/latex": [
       "$\\displaystyle {\\sum_{j_{x}=1}^{+\\infty} \\frac{j_{x}^{8} + 4 \\, j_{x}^{7} + 6 \\, j_{x}^{6} + 4 \\, j_{x}^{5} - 3 \\, j_{x}^{4} - 8 \\, j_{x}^{3} - 6 \\, j_{x}^{2} - {\\left(j_{x}^{10} + 5 \\, j_{x}^{9} + 11 \\, j_{x}^{8} + 14 \\, j_{x}^{7} + 12 \\, j_{x}^{6} + 7 \\, j_{x}^{5} + 2 \\, j_{x}^{4} - 2 \\, j_{x}^{3}\\right)} \\arctan\\left(j_{x} + 1\\right) + {\\left(j_{x}^{10} + 5 \\, j_{x}^{9} + 11 \\, j_{x}^{8} + 14 \\, j_{x}^{7} + 12 \\, j_{x}^{6} + 9 \\, j_{x}^{5} + 7 \\, j_{x}^{4} + 6 \\, j_{x}^{3} + 7 \\, j_{x}^{2} + 6 \\, j_{x} + 2\\right)} \\arctan\\left(j_{x}\\right) - 2 \\, j_{x}}{4 \\, {\\left(j_{x}^{10} + 5 \\, j_{x}^{9} + 12 \\, j_{x}^{8} + 18 \\, j_{x}^{7} + 19 \\, j_{x}^{6} + 15 \\, j_{x}^{5} + 8 \\, j_{x}^{4} + 2 \\, j_{x}^{3}\\right)}}}$"
      ],
      "text/plain": [
       "<IPython.core.display.Math object>"
      ]
     },
     "metadata": {},
     "output_type": "display_data"
    }
   ],
   "source": [
    "calc_R_p=True\n",
    "use_int_R_p_j=True\n",
    "use_int_R_p_shifted_first=False\n",
    "change_R_p_order=False\n",
    "\n",
    "\n",
    "int_int = integral(integral           (f(x,y),(x, a_x, b_x)),  (y, a_y, b_y)) \n",
    "print(\"int_int=$\", latex(int_int),\"$\")\n",
    "print(\"int_int=\", int_int.n())\n",
    "display(Math(latex(int_int)))\n",
    "\n",
    "int_sum = integral(sum_dfdx_bernoulis (f(x,y), x, a_x, b_x,p), (y, a_y, b_y)) \n",
    "print(\"int_sum=$\", latex(int_sum.expand()),\"$\")\n",
    "print(\"int_sum=\", int_sum.n())\n",
    "display(Math(latex(int_sum.expand())))\n",
    "\n",
    "R_p = euler_maclaurin_R_p(f(x,y), x, a_x, b_x,p, f_diff_symb_p=None)\n",
    "if type(R_p) is tuple:\n",
    "    int_R_p = integral(R_p[0], (y, a_y, b_y), hold=True)\n",
    "else:\n",
    "    int_R_p = integral(R_p, (y, a_y, b_y), hold=True)\n",
    "\n",
    "print(\"int_R_p=$\",latex(int_R_p),\"$\")\n",
    "#print(\"int_R_p=\", int_R_p.n())\n",
    "display(Math(latex(int_R_p)))\n",
    "\n",
    "int_R_p_ans = integral_euler_maclaurin_R_p(f(x,y), x, a_x, b_x, y, a_y, b_y, p, f_diff_x_p=None, hold_int=False)\n",
    "if type(R_p) is tuple:\n",
    "    (int_R_p,int_int_R_p) = int_R_p_ans\n",
    "else:\n",
    "    int_R_p = int_R_p_ans\n",
    "\n",
    "print(\"int_R_p=$\",latex(int_R_p),\"$\")\n",
    "print(\"int_R_p=\",int_R_p)\n",
    "#print(\"int_R_p=\", int_R_p.n())\n",
    "display(Math(latex(int_R_p)))"
   ]
  },
  {
   "cell_type": "code",
   "execution_count": 60,
   "metadata": {},
   "outputs": [
    {
     "data": {
      "text/plain": [
       "1/8*pi - 1/4"
      ]
     },
     "execution_count": 60,
     "metadata": {},
     "output_type": "execute_result"
    }
   ],
   "source": [
    "int_int"
   ]
  },
  {
   "cell_type": "code",
   "execution_count": 61,
   "metadata": {},
   "outputs": [
    {
     "data": {
      "text/plain": [
       "0.142699081698724"
      ]
     },
     "execution_count": 61,
     "metadata": {},
     "output_type": "execute_result"
    }
   ],
   "source": [
    "int_int.n()"
   ]
  },
  {
   "cell_type": "code",
   "execution_count": 62,
   "metadata": {},
   "outputs": [
    {
     "data": {
      "text/plain": [
       "1/16*pi - 1/8"
      ]
     },
     "execution_count": 62,
     "metadata": {},
     "output_type": "execute_result"
    }
   ],
   "source": [
    "int_sum"
   ]
  },
  {
   "cell_type": "code",
   "execution_count": 63,
   "metadata": {},
   "outputs": [
    {
     "data": {
      "text/plain": [
       "0.0713495408493621"
      ]
     },
     "execution_count": 63,
     "metadata": {},
     "output_type": "execute_result"
    }
   ],
   "source": [
    "int_sum.n()"
   ]
  },
  {
   "cell_type": "code",
   "execution_count": 64,
   "metadata": {},
   "outputs": [
    {
     "data": {
      "text/plain": [
       "sum(1/4*(j_x^8 + 4*j_x^7 + 6*j_x^6 + 4*j_x^5 - 3*j_x^4 - 8*j_x^3 - 6*j_x^2 - (j_x^10 + 5*j_x^9 + 11*j_x^8 + 14*j_x^7 + 12*j_x^6 + 7*j_x^5 + 2*j_x^4 - 2*j_x^3)*arctan(j_x + 1) + (j_x^10 + 5*j_x^9 + 11*j_x^8 + 14*j_x^7 + 12*j_x^6 + 9*j_x^5 + 7*j_x^4 + 6*j_x^3 + 7*j_x^2 + 6*j_x + 2)*arctan(j_x) - 2*j_x)/(j_x^10 + 5*j_x^9 + 12*j_x^8 + 18*j_x^7 + 19*j_x^6 + 15*j_x^5 + 8*j_x^4 + 2*j_x^3), j_x, 1, +Infinity)"
      ]
     },
     "execution_count": 64,
     "metadata": {},
     "output_type": "execute_result"
    }
   ],
   "source": [
    "int_R_p"
   ]
  },
  {
   "cell_type": "code",
   "execution_count": 65,
   "metadata": {},
   "outputs": [
    {
     "name": "stdout",
     "output_type": "stream",
     "text": [
      "-1/4*sum(-(j_x^8 + 4*j_x^7 + 6*j_x^6 + 4*j_x^5 - 3*j_x^4 - 8*j_x^3 - 6*j_x^2 - (j_x^10 + 5*j_x^9 + 11*j_x^8 + 14*j_x^7 + 12*j_x^6 + 7*j_x^5 + 2*j_x^4 - 2*j_x^3)*arctan(j_x + 1) + (j_x^10 + 5*j_x^9 + 11*j_x^8 + 14*j_x^7 + 12*j_x^6 + 9*j_x^5 + 7*j_x^4 + 6*j_x^3 + 7*j_x^2 + 6*j_x + 2)*arctan(j_x) - 2*j_x)/(j_x^10 + 5*j_x^9 + 12*j_x^8 + 18*j_x^7 + 19*j_x^6 + 15*j_x^5 + 8*j_x^4 + 2*j_x^3), j_x, 1, +Infinity)\n"
     ]
    }
   ],
   "source": [
    "try:\n",
    "    print(sum(int_int_R_p, j_x, 1, +Infinity))\n",
    "except Exception as ex:\n",
    "    print(ex)"
   ]
  },
  {
   "cell_type": "code",
   "execution_count": 66,
   "metadata": {},
   "outputs": [],
   "source": [
    "int_R_p_n = 0\n",
    "for j in range (1, 1000):\n",
    "    int_R_p_term = int_int_R_p.subs(var(\"j_x\") == j)\n",
    "    int_R_p_n += int_R_p_term\n",
    "    #print(j, int_R_p_term.n(), int_R_p_n.n())"
   ]
  },
  {
   "cell_type": "code",
   "execution_count": 67,
   "metadata": {},
   "outputs": [
    {
     "name": "stdout",
     "output_type": "stream",
     "text": [
      "0.0145963980962299\n"
     ]
    }
   ],
   "source": [
    "try:\n",
    "    int_R_p_n = 0\n",
    "    for j in range (1, 1000):\n",
    "        int_R_p_term = int_int_R_p.subs(var(\"j_x\") == j)\n",
    "        int_R_p_n += int_R_p_term\n",
    "        #print(j, int_R_p_term.n(), int_R_p_n.n())\n",
    "    print(int_R_p_n.n())\n",
    "except Exception as ex:\n",
    "    print(ex)"
   ]
  },
  {
   "cell_type": "code",
   "execution_count": 68,
   "metadata": {},
   "outputs": [],
   "source": [
    "#int_R_p_n = 0.0\n",
    "#for j_x in range(1,10):\n",
    "#    expr = 1/6*(6*y^8*(arctan((j_x + 1)/y) - arctan(j_x/y)) + 12*((2*j_x^2 + 2*j_x + 1)*arctan((j_x + 1)/y) - (2*j_x^2 + 2*j_x + 1)*arctan(j_x/y))*y^6 - 6*y^7 - 2*(9*j_x^2 + 9*j_x + 5)*y^5 + 6*((6*j_x^4 + 12*j_x^3 + 10*j_x^2 + 4*j_x + 1)*arctan((j_x + 1)/y) - (6*j_x^4 + 12*j_x^3 + 10*j_x^2 + 4*j_x + 1)*arctan(j_x/y))*y^4 - (18*j_x^4 + 36*j_x^3 + 28*j_x^2 + 10*j_x + 3)*y^3 + 12*((2*j_x^6 + 6*j_x^5 + 7*j_x^4 + 4*j_x^3 + j_x^2)*arctan((j_x + 1)/y) - (2*j_x^6 + 6*j_x^5 + 7*j_x^4 + 4*j_x^3 + j_x^2)*arctan(j_x/y))*y^2 - (6*j_x^6 + 18*j_x^5 + 18*j_x^4 + 6*j_x^3 - j_x^2 - j_x)*y + 6*(j_x^8 + 4*j_x^7 + 6*j_x^6 + 4*j_x^5 + j_x^4)*arctan((j_x + 1)/y) - 6*(j_x^8 + 4*j_x^7 + 6*j_x^6 + 4*j_x^5 + j_x^4)*arctan(j_x/y))/(y^9 + 2*(2*j_x^2 + 2*j_x + 1)*y^7 + (6*j_x^4 + 12*j_x^3 + 10*j_x^2 + 4*j_x + 1)*y^5 + 2*(2*j_x^6 + 6*j_x^5 + 7*j_x^4 + 4*j_x^3 + j_x^2)*y^3 + (j_x^8 + 4*j_x^7 + 6*j_x^6 + 4*j_x^5 + j_x^4)*y)\n",
    "#    term = num_int(expr(y), 1, +Infinity)\n",
    "#    int_R_p_n += term\n",
    "#    print(j_x, term, int_R_p_n)\n"
   ]
  },
  {
   "cell_type": "code",
   "execution_count": 69,
   "metadata": {},
   "outputs": [
    {
     "name": "stdout",
     "output_type": "stream",
     "text": [
      "sum_dfdx_a_bernoullis 1/4*(y^2*arctan(1/y) + y + arctan(1/y))/(y^5 + y^3) - 1/8*pi/y^3\n",
      "sum_dfdx_a_bernoullis(a) -1/16*pi + 1/8\n",
      "sum_int=$ \\frac{1}{16} \\, \\pi - \\frac{1}{8} $\n",
      "sum_int= 0.0713495408493621\n"
     ]
    },
    {
     "data": {
      "text/latex": [
       "$\\displaystyle \\frac{1}{16} \\, \\pi - \\frac{1}{8}$"
      ],
      "text/plain": [
       "<IPython.core.display.Math object>"
      ]
     },
     "metadata": {},
     "output_type": "display_data"
    },
    {
     "name": "stdout",
     "output_type": "stream",
     "text": [
      "sum_dfdx_a_bernoullis -1/2/(x^2 + y^2)^2\n",
      "sum_dfdx_a_bernoullis(a) -1/2/(y^2 + 1)^2\n",
      "sum_dfdx_a_bernoullis -1/4/(y^2 + 1)^2\n",
      "sum_dfdx_a_bernoullis(a) -1/16\n",
      "sum_sum=$ \\frac{1}{16} $\n",
      "sum_sum= 0.0625000000000000\n"
     ]
    },
    {
     "data": {
      "text/latex": [
       "$\\displaystyle \\frac{1}{16}$"
      ],
      "text/plain": [
       "<IPython.core.display.Math object>"
      ]
     },
     "metadata": {},
     "output_type": "display_data"
    },
    {
     "name": "stdout",
     "output_type": "stream",
     "text": [
      "sum_dfdx_bernoulis_euler_maclaurin_R_p (x^2 + y^2)^(-2) x 1 +Infinity y 1 +Infinity 1\n",
      "term_1(y_symb=y, y_val=a_y,jx=a_x) = 1/8*pi - 1/2*arctan(2) + 39/200\n",
      "R_p(y_symb=y, y_val=a_y) = -sum(-1/2*(j_x^6 + 3*j_x^5 + 6*j_x^4 + 7*j_x^3 + 11*j_x^2 - (j_x^8 + 4*j_x^7 + 10*j_x^6 + 16*j_x^5 + 21*j_x^4 + 20*j_x^3 + 16*j_x^2 + 8*j_x + 4)*arctan(j_x + 1) + (j_x^8 + 4*j_x^7 + 10*j_x^6 + 16*j_x^5 + 21*j_x^4 + 20*j_x^3 + 16*j_x^2 + 8*j_x + 4)*arctan(j_x) + 8*j_x + 3)/(j_x^8 + 4*j_x^7 + 10*j_x^6 + 16*j_x^5 + 21*j_x^4 + 20*j_x^3 + 16*j_x^2 + 8*j_x + 4), j_x, 1, +Infinity)\n",
      "dfdx_a_bernoullis = [<function sum_dfdx_bernoulis_euler_maclaurin_R_p.<locals>.<lambda> at 0x7f54baa7c160>]\n",
      "len(dfdx_a_bernoullis) = 1\n",
      "sum_dfdx_a_bernoullis = <function sum_dfdx_bernoulis_euler_maclaurin_R_p.<locals>.<lambda> at 0x7f54bbc03b80>\n",
      "sum_dfdx_a_bernoullis(a_y) = 1/2*sum(-1/2*(j_x^6 + 3*j_x^5 + 6*j_x^4 + 7*j_x^3 + 11*j_x^2 - (j_x^8 + 4*j_x^7 + 10*j_x^6 + 16*j_x^5 + 21*j_x^4 + 20*j_x^3 + 16*j_x^2 + 8*j_x + 4)*arctan(j_x + 1) + (j_x^8 + 4*j_x^7 + 10*j_x^6 + 16*j_x^5 + 21*j_x^4 + 20*j_x^3 + 16*j_x^2 + 8*j_x + 4)*arctan(j_x) + 8*j_x + 3)/(j_x^8 + 4*j_x^7 + 10*j_x^6 + 16*j_x^5 + 21*j_x^4 + 20*j_x^3 + 16*j_x^2 + 8*j_x + 4), j_x, 1, +Infinity)\n"
     ]
    },
    {
     "name": "stderr",
     "output_type": "stream",
     "text": [
      "<ipython-input-6-f26b663f2464>:17: DeprecationWarning: Substitution using function-call syntax and unnamed arguments is deprecated and will be removed from a future release of Sage; you can use named arguments instead, like EXPR(x=..., y=...)\n",
      "See http://trac.sagemath.org/5930 for details.\n",
      "  print(\"term_1(y_symb=y, y_val=a_y,jx=a_x) =\", term_1(y_symb=y, y_val=a_y,jx=a_x))\n",
      "<ipython-input-6-f26b663f2464>:18: DeprecationWarning: Substitution using function-call syntax and unnamed arguments is deprecated and will be removed from a future release of Sage; you can use named arguments instead, like EXPR(x=..., y=...)\n",
      "See http://trac.sagemath.org/5930 for details.\n",
      "  R_p = lambda y_symb, y_val : symbolic_sum(expression=term_1(y_symb=y_symb, y_val=y_val, jx=jx),                                                                      v=jx, a=a_x, b=b_x-Integer(1))\n"
     ]
    },
    {
     "name": "stdout",
     "output_type": "stream",
     "text": [
      "sum_R_p=$ -\\frac{1}{2} \\, {\\sum_{j_{x}=1}^{+\\infty} -\\frac{j_{x}^{6} + 3 \\, j_{x}^{5} + 6 \\, j_{x}^{4} + 7 \\, j_{x}^{3} + 11 \\, j_{x}^{2} - {\\left(j_{x}^{8} + 4 \\, j_{x}^{7} + 10 \\, j_{x}^{6} + 16 \\, j_{x}^{5} + 21 \\, j_{x}^{4} + 20 \\, j_{x}^{3} + 16 \\, j_{x}^{2} + 8 \\, j_{x} + 4\\right)} \\arctan\\left(j_{x} + 1\\right) + {\\left(j_{x}^{8} + 4 \\, j_{x}^{7} + 10 \\, j_{x}^{6} + 16 \\, j_{x}^{5} + 21 \\, j_{x}^{4} + 20 \\, j_{x}^{3} + 16 \\, j_{x}^{2} + 8 \\, j_{x} + 4\\right)} \\arctan\\left(j_{x}\\right) + 8 \\, j_{x} + 3}{2 \\, {\\left(j_{x}^{8} + 4 \\, j_{x}^{7} + 10 \\, j_{x}^{6} + 16 \\, j_{x}^{5} + 21 \\, j_{x}^{4} + 20 \\, j_{x}^{3} + 16 \\, j_{x}^{2} + 8 \\, j_{x} + 4\\right)}}} $\n"
     ]
    },
    {
     "data": {
      "text/latex": [
       "$\\displaystyle -\\frac{1}{2} \\, {\\sum_{j_{x}=1}^{+\\infty} -\\frac{j_{x}^{6} + 3 \\, j_{x}^{5} + 6 \\, j_{x}^{4} + 7 \\, j_{x}^{3} + 11 \\, j_{x}^{2} - {\\left(j_{x}^{8} + 4 \\, j_{x}^{7} + 10 \\, j_{x}^{6} + 16 \\, j_{x}^{5} + 21 \\, j_{x}^{4} + 20 \\, j_{x}^{3} + 16 \\, j_{x}^{2} + 8 \\, j_{x} + 4\\right)} \\arctan\\left(j_{x} + 1\\right) + {\\left(j_{x}^{8} + 4 \\, j_{x}^{7} + 10 \\, j_{x}^{6} + 16 \\, j_{x}^{5} + 21 \\, j_{x}^{4} + 20 \\, j_{x}^{3} + 16 \\, j_{x}^{2} + 8 \\, j_{x} + 4\\right)} \\arctan\\left(j_{x}\\right) + 8 \\, j_{x} + 3}{2 \\, {\\left(j_{x}^{8} + 4 \\, j_{x}^{7} + 10 \\, j_{x}^{6} + 16 \\, j_{x}^{5} + 21 \\, j_{x}^{4} + 20 \\, j_{x}^{3} + 16 \\, j_{x}^{2} + 8 \\, j_{x} + 4\\right)}}}$"
      ],
      "text/plain": [
       "<IPython.core.display.Math object>"
      ]
     },
     "metadata": {},
     "output_type": "display_data"
    }
   ],
   "source": [
    "logging = True\n",
    "sum_int = sum_dfdx_bernoulis(integral           (f(x,y),(x, a_x, b_x)),  y, a_y, b_y, p)\n",
    "print(\"sum_int=$\",latex(sum_int),\"$\")\n",
    "print(\"sum_int=\",sum_int.n())\n",
    "display(Math(latex(sum_int)))\n",
    "\n",
    "sum_sum = sum_dfdx_bernoulis(sum_dfdx_bernoulis (f(x,y), x, a_x, b_x,p), y, a_y, b_y, p)\n",
    "print(\"sum_sum=$\",latex(sum_sum),\"$\")\n",
    "print(\"sum_sum=\", sum_sum.n())\n",
    "\n",
    "display(Math(latex(sum_sum)))\n",
    "\n",
    "#sum_R_p = sum_dfdx_bernoulis(euler_maclaurin_R_p(f(x,y), x, a_x, b_x,p), y, a_y, b_y, p)\n",
    "(sum_R_p,dfdx_a_bernoullis_terms) = sum_dfdx_bernoulis_euler_maclaurin_R_p(f(x,y), x, a_x, b_x,    y, a_y, b_y, p)\n",
    "print(\"sum_R_p=$\",latex(sum_R_p),\"$\")\n",
    "#print(\"sum_R_p=$\",sum_R_p.n())\n",
    "display(Math(latex(sum_R_p)))"
   ]
  },
  {
   "cell_type": "code",
   "execution_count": 70,
   "metadata": {},
   "outputs": [
    {
     "data": {
      "text/plain": [
       "-1/2*sum(-1/2*(j_x^6 + 3*j_x^5 + 6*j_x^4 + 7*j_x^3 + 11*j_x^2 - (j_x^8 + 4*j_x^7 + 10*j_x^6 + 16*j_x^5 + 21*j_x^4 + 20*j_x^3 + 16*j_x^2 + 8*j_x + 4)*arctan(j_x + 1) + (j_x^8 + 4*j_x^7 + 10*j_x^6 + 16*j_x^5 + 21*j_x^4 + 20*j_x^3 + 16*j_x^2 + 8*j_x + 4)*arctan(j_x) + 8*j_x + 3)/(j_x^8 + 4*j_x^7 + 10*j_x^6 + 16*j_x^5 + 21*j_x^4 + 20*j_x^3 + 16*j_x^2 + 8*j_x + 4), j_x, 1, +Infinity)"
      ]
     },
     "execution_count": 70,
     "metadata": {},
     "output_type": "execute_result"
    }
   ],
   "source": [
    "sum_R_p"
   ]
  },
  {
   "cell_type": "code",
   "execution_count": 71,
   "metadata": {},
   "outputs": [
    {
     "name": "stderr",
     "output_type": "stream",
     "text": [
      "<ipython-input-6-f26b663f2464>:19: DeprecationWarning: Substitution using function-call syntax and unnamed arguments is deprecated and will be removed from a future release of Sage; you can use named arguments instead, like EXPR(x=..., y=...)\n",
      "See http://trac.sagemath.org/5930 for details.\n",
      "  dfdx_a_bernoullis_terms += [lambda y_symb, y_val, jx, i=i :                                             term_1(y_symb=y_symb, y_val=y_val, jx=jx)*(bernoulli(k)/factorial(k))]\n"
     ]
    },
    {
     "data": {
      "text/plain": [
       "1/4*(j_x^4*arctan(j_x) + j_x^3 + 2*j_x^2*arctan(j_x) + j_x + arctan(j_x) + 1)/(j_x^4 + 2*j_x^2 + 1) - 1/4*(j_x^3 + 3*j_x^2 + (j_x^4 + 4*j_x^3 + 6*j_x^2 + 4*j_x + 1)*arctan(j_x + 1) + 2*(j_x^2 + 2*j_x + 1)*arctan(j_x + 1) + 4*j_x + arctan(j_x + 1) + 1)/(j_x^4 + 4*j_x^3 + 8*j_x^2 + 8*j_x + 4)"
      ]
     },
     "execution_count": 71,
     "metadata": {},
     "output_type": "execute_result"
    }
   ],
   "source": [
    "dfdx_a_bernoullis_terms(j_x)"
   ]
  },
  {
   "cell_type": "code",
   "execution_count": 72,
   "metadata": {},
   "outputs": [
    {
     "name": "stderr",
     "output_type": "stream",
     "text": [
      "<ipython-input-6-f26b663f2464>:19: DeprecationWarning: Substitution using function-call syntax and unnamed arguments is deprecated and will be removed from a future release of Sage; you can use named arguments instead, like EXPR(x=..., y=...)\n",
      "See http://trac.sagemath.org/5930 for details.\n",
      "  dfdx_a_bernoullis_terms += [lambda y_symb, y_val, jx, i=i :                                             term_1(y_symb=y_symb, y_val=y_val, jx=jx)*(bernoulli(k)/factorial(k))]\n"
     ]
    }
   ],
   "source": [
    "sum_R_p_n = 0\n",
    "for j_x in range(1,100):\n",
    "    term = dfdx_a_bernoullis_terms(j_x)\n",
    "    sum_R_p_n += term\n",
    "    #print(j_x, term.n(), sum_R_p_n)"
   ]
  },
  {
   "cell_type": "code",
   "execution_count": 73,
   "metadata": {},
   "outputs": [
    {
     "data": {
      "text/plain": [
       "0.0195689468454314"
      ]
     },
     "execution_count": 73,
     "metadata": {},
     "output_type": "execute_result"
    }
   ],
   "source": [
    "sum_R_p_n.n()"
   ]
  },
  {
   "cell_type": "code",
   "execution_count": 74,
   "metadata": {},
   "outputs": [
    {
     "name": "stdout",
     "output_type": "stream",
     "text": [
      "f -1/2*(y^2*arctan(1/y) + y + arctan(1/y))/(y^5 + y^3) + 1/4*pi/y^3\n",
      "symb,a,b y 1 +Infinity\n",
      "\n",
      "R_p_int=$ \\int_{1}^{+\\infty} \\frac{1}{8} \\, {\\left(2 \\, y - 2 \\, \\left \\lfloor y \\right \\rfloor - 1\\right)} {\\left(\\frac{2 \\, {\\left(5 \\, y^{4} + 3 \\, y^{2}\\right)} {\\left(y^{2} \\arctan\\left(\\frac{1}{y}\\right) + y + \\arctan\\left(\\frac{1}{y}\\right)\\right)}}{{\\left(y^{5} + y^{3}\\right)}^{2}} - \\frac{2 \\, {\\left(2 \\, y \\arctan\\left(\\frac{1}{y}\\right) - \\frac{1}{\\frac{1}{y^{2}} + 1} - \\frac{1}{y^{2} {\\left(\\frac{1}{y^{2}} + 1\\right)}} + 1\\right)}}{y^{5} + y^{3}} - \\frac{3 \\, \\pi}{y^{4}}\\right)}\\,{d y} $\n"
     ]
    },
    {
     "data": {
      "text/latex": [
       "$\\displaystyle \\int_{1}^{+\\infty} \\frac{1}{8} \\, {\\left(2 \\, y - 2 \\, \\left \\lfloor y \\right \\rfloor - 1\\right)} {\\left(\\frac{2 \\, {\\left(5 \\, y^{4} + 3 \\, y^{2}\\right)} {\\left(y^{2} \\arctan\\left(\\frac{1}{y}\\right) + y + \\arctan\\left(\\frac{1}{y}\\right)\\right)}}{{\\left(y^{5} + y^{3}\\right)}^{2}} - \\frac{2 \\, {\\left(2 \\, y \\arctan\\left(\\frac{1}{y}\\right) - \\frac{1}{\\frac{1}{y^{2}} + 1} - \\frac{1}{y^{2} {\\left(\\frac{1}{y^{2}} + 1\\right)}} + 1\\right)}}{y^{5} + y^{3}} - \\frac{3 \\, \\pi}{y^{4}}\\right)}\\,{d y}$"
      ],
      "text/plain": [
       "<IPython.core.display.Math object>"
      ]
     },
     "metadata": {},
     "output_type": "display_data"
    },
    {
     "name": "stdout",
     "output_type": "stream",
     "text": [
      "sum_dfdx_a_bernoullis -1/2/(x^2 + y^2)^2\n",
      "sum_dfdx_a_bernoullis(a) -1/2/(y^2 + 1)^2\n",
      "f 1/2/(y^2 + 1)^2\n",
      "symb,a,b y 1 +Infinity\n",
      "\n",
      "R_p_sum=$ -\\int_{1}^{+\\infty} \\frac{{\\left(2 \\, y - 2 \\, \\left \\lfloor y \\right \\rfloor - 1\\right)} y}{{\\left(y^{2} + 1\\right)}^{3}}\\,{d y} $\n"
     ]
    },
    {
     "data": {
      "text/latex": [
       "$\\displaystyle -\\int_{1}^{+\\infty} \\frac{{\\left(2 \\, y - 2 \\, \\left \\lfloor y \\right \\rfloor - 1\\right)} y}{{\\left(y^{2} + 1\\right)}^{3}}\\,{d y}$"
      ],
      "text/plain": [
       "<IPython.core.display.Math object>"
      ]
     },
     "metadata": {},
     "output_type": "display_data"
    }
   ],
   "source": [
    "use_int_R_p_j = False\n",
    "use_num_int = False\n",
    "R_p_int = euler_maclaurin_R_p(integral           (f(x,y),(x, a_x, b_x), hold = False),  y, a_y, b_y, p, f_diff_symb_p=None)\n",
    "print(\"R_p_int=$\",latex(R_p_int),\"$\")\n",
    "#print(\"R_p_int=\", R_p_int.n())\n",
    "display(Math(latex(R_p_int)))\n",
    "\n",
    "R_p_sum = euler_maclaurin_R_p(sum_dfdx_bernoulis (f(x,y), x, a_x, b_x,p), y, a_y, b_y, p, f_diff_symb_p=None, hold_int=False)\n",
    "print(\"R_p_sum=$\",latex(R_p_sum),\"$\")\n",
    "#print(\"R_p_sum=$\",R_p_sum.n())\n",
    "display(Math(latex(R_p_sum)))\n"
   ]
  },
  {
   "cell_type": "code",
   "execution_count": 75,
   "metadata": {},
   "outputs": [
    {
     "data": {
      "text/plain": [
       "integrate(1/8*(2*y - 2*floor(y) - 1)*(2*(5*y^4 + 3*y^2)*(y^2*arctan(1/y) + y + arctan(1/y))/(y^5 + y^3)^2 - 2*(2*y*arctan(1/y) - 1/(1/y^2 + 1) - 1/(y^2*(1/y^2 + 1)) + 1)/(y^5 + y^3) - 3*pi/y^4), y, 1, +Infinity)"
      ]
     },
     "execution_count": 75,
     "metadata": {},
     "output_type": "execute_result"
    }
   ],
   "source": [
    "R_p_int"
   ]
  },
  {
   "cell_type": "code",
   "execution_count": 76,
   "metadata": {},
   "outputs": [
    {
     "data": {
      "text/plain": [
       "-1/2*(y^2*arctan(1/y) + y + arctan(1/y))/(y^5 + y^3) + 1/4*pi/y^3"
      ]
     },
     "execution_count": 76,
     "metadata": {},
     "output_type": "execute_result"
    }
   ],
   "source": [
    "integral           (f(x,y),(x, a_x, b_x), hold = False)"
   ]
  },
  {
   "cell_type": "code",
   "execution_count": 77,
   "metadata": {},
   "outputs": [
    {
     "data": {
      "text/plain": [
       "0.014593410520966658"
      ]
     },
     "execution_count": 77,
     "metadata": {},
     "output_type": "execute_result"
    }
   ],
   "source": [
    "R_p_int.n()"
   ]
  },
  {
   "cell_type": "code",
   "execution_count": 78,
   "metadata": {},
   "outputs": [
    {
     "data": {
      "text/plain": [
       "-integrate((2*y - 2*floor(y) - 1)*y/(y^2 + 1)^3, y, 1, +Infinity)"
      ]
     },
     "execution_count": 78,
     "metadata": {},
     "output_type": "execute_result"
    }
   ],
   "source": [
    "R_p_sum"
   ]
  },
  {
   "cell_type": "code",
   "execution_count": 79,
   "metadata": {},
   "outputs": [
    {
     "data": {
      "text/plain": [
       "0.0195690550052681"
      ]
     },
     "execution_count": 79,
     "metadata": {},
     "output_type": "execute_result"
    }
   ],
   "source": [
    "R_p_sum.n()"
   ]
  },
  {
   "cell_type": "code",
   "execution_count": 80,
   "metadata": {},
   "outputs": [],
   "source": [
    "#use_num_int = True\n",
    "\n",
    "#R_p_R_p = euler_maclaurin_R_p(euler_maclaurin_R_p(f(x,y), x, a_x, b_x,p), y, a_y, b_y, p)\n",
    "#R_p_R_p = euler_maclaurin_R_p_euler_maclaurin_R_p(f(x,y), x, a_x, b_x,    y, a_y, b_y, p)\n",
    "#print(\"R_p_R_p=$\",latex(R_p_R_p),\"$\")\n",
    "#print(\"R_p_R_p=$\", R_p_R_p.n())\n",
    "#display(Math(latex(R_p_R_p)))"
   ]
  },
  {
   "cell_type": "code",
   "execution_count": 81,
   "metadata": {},
   "outputs": [
    {
     "name": "stdout",
     "output_type": "stream",
     "text": [
      "f_diff_x_p_diff_y_p 24*x*y/(x^2 + y^2)^4\n"
     ]
    },
    {
     "name": "stderr",
     "output_type": "stream",
     "text": [
      "<ipython-input-1-7c10f773b426>:5: IntegrationWarning: The maximum number of subdivisions (50) has been achieved.\n",
      "  If increasing the limit yields no improvement it is advised to analyze \n",
      "  the integrand in order to determine the difficulties.  If the position of a \n",
      "  local difficulty can be determined (singularity, discontinuity) one will \n",
      "  probably gain from splitting up the interval and calling the integrator \n",
      "  on the subranges.  Perhaps a special-purpose integrator should be used.\n",
      "  integral = integrate.quad(f, a, b)\n",
      "<ipython-input-1-7c10f773b426>:5: IntegrationWarning: The integral is probably divergent, or slowly convergent.\n",
      "  integral = integrate.quad(f, a, b)\n"
     ]
    }
   ],
   "source": [
    "exec(preparse(\"f_diff_x_p_diff_y_p = lambda x,y:\" + str(f(x,y).diff(x,p).diff(y,p))))\n",
    "print(\"f_diff_x_p_diff_y_p\", f_diff_x_p_diff_y_p(x,y))\n",
    "R_p_R_p = euler_maclaurin_R_p_euler_maclaurin_R_p_num_int(f_diff_x_p_diff_y_p, x, a_x, b_x, y, a_y, b_y, p)"
   ]
  },
  {
   "cell_type": "code",
   "execution_count": 82,
   "metadata": {},
   "outputs": [
    {
     "data": {
      "text/plain": [
       "0.008150899241692044"
      ]
     },
     "execution_count": 82,
     "metadata": {},
     "output_type": "execute_result"
    }
   ],
   "source": [
    "R_p_R_p"
   ]
  },
  {
   "cell_type": "markdown",
   "metadata": {},
   "source": [
    "# Summary"
   ]
  },
  {
   "cell_type": "code",
   "execution_count": 83,
   "metadata": {},
   "outputs": [
    {
     "data": {
      "text/plain": [
       "(1/8*pi - 1/4,\n",
       " 1/16*pi - 1/8,\n",
       " 1/16*pi - 999998999/4000000000*arctan(1000) + 1/1994005998*arctan(999) + 1/1988023984*arctan(998) + 1/1982053946*arctan(997) + 1/1976095872*arctan(996) + 1/1970149750*arctan(995) + 1/1964215568*arctan(994) + 1/1958293314*arctan(993) + 1/1952382976*arctan(992) + 1/1946484542*arctan(991) + 1/1940598000*arctan(990) + 1/1934723338*arctan(989) + 1/1928860544*arctan(988) + 1/1923009606*arctan(987) + 1/1917170512*arctan(986) + 1/1911343250*arctan(985) + 1/1905527808*arctan(984) + 1/1899724174*arctan(983) + 1/1893932336*arctan(982) + 1/1888152282*arctan(981) + 1/1882384000*arctan(980) + 1/1876627478*arctan(979) + 1/1870882704*arctan(978) + 1/1865149666*arctan(977) + 1/1859428352*arctan(976) + 1/1853718750*arctan(975) + 1/1848020848*arctan(974) + 1/1842334634*arctan(973) + 1/1836660096*arctan(972) + 1/1830997222*arctan(971) + 1/1825346000*arctan(970) + 1/1819706418*arctan(969) + 1/1814078464*arctan(968) + 1/1808462126*arctan(967) + 1/1802857392*arctan(966) + 1/1797264250*arctan(965) + 1/1791682688*arctan(964) + 1/1786112694*arctan(963) + 1/1780554256*arctan(962) + 1/1775007362*arctan(961) + 1/1769472000*arctan(960) + 1/1763948158*arctan(959) + 1/1758435824*arctan(958) + 1/1752934986*arctan(957) + 1/1747445632*arctan(956) + 1/1741967750*arctan(955) + 1/1736501328*arctan(954) + 1/1731046354*arctan(953) + 1/1725602816*arctan(952) + 1/1720170702*arctan(951) + 1/1714750000*arctan(950) + 1/1709340698*arctan(949) + 1/1703942784*arctan(948) + 1/1698556246*arctan(947) + 1/1693181072*arctan(946) + 1/1687817250*arctan(945) + 1/1682464768*arctan(944) + 1/1677123614*arctan(943) + 1/1671793776*arctan(942) + 1/1666475242*arctan(941) + 1/1661168000*arctan(940) + 1/1655872038*arctan(939) + 1/1650587344*arctan(938) + 1/1645313906*arctan(937) + 1/1640051712*arctan(936) + 1/1634800750*arctan(935) + 1/1629561008*arctan(934) + 1/1624332474*arctan(933) + 1/1619115136*arctan(932) + 1/1613908982*arctan(931) + 1/1608714000*arctan(930) + 1/1603530178*arctan(929) + 1/1598357504*arctan(928) + 1/1593195966*arctan(927) + 1/1588045552*arctan(926) + 1/1582906250*arctan(925) + 1/1577778048*arctan(924) + 1/1572660934*arctan(923) + 1/1567554896*arctan(922) + 1/1562459922*arctan(921) + 1/1557376000*arctan(920) + 1/1552303118*arctan(919) + 1/1547241264*arctan(918) + 1/1542190426*arctan(917) + 1/1537150592*arctan(916) + 1/1532121750*arctan(915) + 1/1527103888*arctan(914) + 1/1522096994*arctan(913) + 1/1517101056*arctan(912) + 1/1512116062*arctan(911) + 1/1507142000*arctan(910) + 1/1502178858*arctan(909) + 1/1497226624*arctan(908) + 1/1492285286*arctan(907) + 1/1487354832*arctan(906) + 1/1482435250*arctan(905) + 1/1477526528*arctan(904) + 1/1472628654*arctan(903) + 1/1467741616*arctan(902) + 1/1462865402*arctan(901) + 1/1458000000*arctan(900) + 1/1453145398*arctan(899) + 1/1448301584*arctan(898) + 1/1443468546*arctan(897) + 1/1438646272*arctan(896) + 1/1433834750*arctan(895) + 1/1429033968*arctan(894) + 1/1424243914*arctan(893) + 1/1419464576*arctan(892) + 1/1414695942*arctan(891) + 1/1409938000*arctan(890) + 1/1405190738*arctan(889) + 1/1400454144*arctan(888) + 1/1395728206*arctan(887) + 1/1391012912*arctan(886) + 1/1386308250*arctan(885) + 1/1381614208*arctan(884) + 1/1376930774*arctan(883) + 1/1372257936*arctan(882) + 1/1367595682*arctan(881) + 1/1362944000*arctan(880) + 1/1358302878*arctan(879) + 1/1353672304*arctan(878) + 1/1349052266*arctan(877) + 1/1344442752*arctan(876) + 1/1339843750*arctan(875) + 1/1335255248*arctan(874) + 1/1330677234*arctan(873) + 1/1326109696*arctan(872) + 1/1321552622*arctan(871) + 1/1317006000*arctan(870) + 1/1312469818*arctan(869) + 1/1307944064*arctan(868) + 1/1303428726*arctan(867) + 1/1298923792*arctan(866) + 1/1294429250*arctan(865) + 1/1289945088*arctan(864) + 1/1285471294*arctan(863) + 1/1281007856*arctan(862) + 1/1276554762*arctan(861) + 1/1272112000*arctan(860) + 1/1267679558*arctan(859) + 1/1263257424*arctan(858) + 1/1258845586*arctan(857) + 1/1254444032*arctan(856) + 1/1250052750*arctan(855) + 1/1245671728*arctan(854) + 1/1241300954*arctan(853) + 1/1236940416*arctan(852) + 1/1232590102*arctan(851) + 1/1228250000*arctan(850) + 1/1223920098*arctan(849) + 1/1219600384*arctan(848) + 1/1215290846*arctan(847) + 1/1210991472*arctan(846) + 1/1206702250*arctan(845) + 1/1202423168*arctan(844) + 1/1198154214*arctan(843) + 1/1193895376*arctan(842) + 1/1189646642*arctan(841) + 1/1185408000*arctan(840) + 1/1181179438*arctan(839) + 1/1176960944*arctan(838) + 1/1172752506*arctan(837) + 1/1168554112*arctan(836) + 1/1164365750*arctan(835) + 1/1160187408*arctan(834) + 1/1156019074*arctan(833) + 1/1151860736*arctan(832) + 1/1147712382*arctan(831) + 1/1143574000*arctan(830) + 1/1139445578*arctan(829) + 1/1135327104*arctan(828) + 1/1131218566*arctan(827) + 1/1127119952*arctan(826) + 1/1123031250*arctan(825) + 1/1118952448*arctan(824) + 1/1114883534*arctan(823) + 1/1110824496*arctan(822) + 1/1106775322*arctan(821) + 1/1102736000*arctan(820) + 1/1098706518*arctan(819) + 1/1094686864*arctan(818) + 1/1090677026*arctan(817) + 1/1086676992*arctan(816) + 1/1082686750*arctan(815) + 1/1078706288*arctan(814) + 1/1074735594*arctan(813) + 1/1070774656*arctan(812) + 1/1066823462*arctan(811) + 1/1062882000*arctan(810) + 1/1058950258*arctan(809) + 1/1055028224*arctan(808) + 1/1051115886*arctan(807) + 1/1047213232*arctan(806) + 1/1043320250*arctan(805) + 1/1039436928*arctan(804) + 1/1035563254*arctan(803) + 1/1031699216*arctan(802) + 1/1027844802*arctan(801) + 1/1024000000*arctan(800) + 1/1020164798*arctan(799) + 1/1016339184*arctan(798) + 1/1012523146*arctan(797) + 1/1008716672*arctan(796) + 1/1004919750*arctan(795) + 1/1001132368*arctan(794) + 1/997354514*arctan(793) + 1/993586176*arctan(792) + 1/989827342*arctan(791) + 1/986078000*arctan(790) + 1/982338138*arctan(789) + 1/978607744*arctan(788) + 1/974886806*arctan(787) + 1/971175312*arctan(786) + 1/967473250*arctan(785) + 1/963780608*arctan(784) + 1/960097374*arctan(783) + 1/956423536*arctan(782) + 1/952759082*arctan(781) + 1/949104000*arctan(780) + 1/945458278*arctan(779) + 1/941821904*arctan(778) + 1/938194866*arctan(777) + 1/934577152*arctan(776) + 1/930968750*arctan(775) + 1/927369648*arctan(774) + 1/923779834*arctan(773) + 1/920199296*arctan(772) + 1/916628022*arctan(771) + 1/913066000*arctan(770) + 1/909513218*arctan(769) + 1/905969664*arctan(768) + 1/902435326*arctan(767) + 1/898910192*arctan(766) + 1/895394250*arctan(765) + 1/891887488*arctan(764) + 1/888389894*arctan(763) + 1/884901456*arctan(762) + 1/881422162*arctan(761) + 1/877952000*arctan(760) + 1/874490958*arctan(759) + 1/871039024*arctan(758) + 1/867596186*arctan(757) + 1/864162432*arctan(756) + 1/860737750*arctan(755) + 1/857322128*arctan(754) + 1/853915554*arctan(753) + 1/850518016*arctan(752) + 1/847129502*arctan(751) + 1/843750000*arctan(750) + 1/840379498*arctan(749) + 1/837017984*arctan(748) + 1/833665446*arctan(747) + 1/830321872*arctan(746) + 1/826987250*arctan(745) + 1/823661568*arctan(744) + 1/820344814*arctan(743) + 1/817036976*arctan(742) + 1/813738042*arctan(741) + 1/810448000*arctan(740) + 1/807166838*arctan(739) + 1/803894544*arctan(738) + 1/800631106*arctan(737) + 1/797376512*arctan(736) + 1/794130750*arctan(735) + 1/790893808*arctan(734) + 1/787665674*arctan(733) + 1/784446336*arctan(732) + 1/781235782*arctan(731) + 1/778034000*arctan(730) + 1/774840978*arctan(729) + 1/771656704*arctan(728) + 1/768481166*arctan(727) + 1/765314352*arctan(726) + 1/762156250*arctan(725) + 1/759006848*arctan(724) + 1/755866134*arctan(723) + 1/752734096*arctan(722) + 1/749610722*arctan(721) + 1/746496000*arctan(720) + 1/743389918*arctan(719) + 1/740292464*arctan(718) + 1/737203626*arctan(717) + 1/734123392*arctan(716) + 1/731051750*arctan(715) + 1/727988688*arctan(714) + 1/724934194*arctan(713) + 1/721888256*arctan(712) + 1/718850862*arctan(711) + 1/715822000*arctan(710) + 1/712801658*arctan(709) + 1/709789824*arctan(708) + 1/706786486*arctan(707) + 1/703791632*arctan(706) + 1/700805250*arctan(705) + 1/697827328*arctan(704) + 1/694857854*arctan(703) + 1/691896816*arctan(702) + 1/688944202*arctan(701) + 1/686000000*arctan(700) + 1/683064198*arctan(699) + 1/680136784*arctan(698) + 1/677217746*arctan(697) + 1/674307072*arctan(696) + 1/671404750*arctan(695) + 1/668510768*arctan(694) + 1/665625114*arctan(693) + 1/662747776*arctan(692) + 1/659878742*arctan(691) + 1/657018000*arctan(690) + 1/654165538*arctan(689) + 1/651321344*arctan(688) + 1/648485406*arctan(687) + 1/645657712*arctan(686) + 1/642838250*arctan(685) + 1/640027008*arctan(684) + 1/637223974*arctan(683) + 1/634429136*arctan(682) + 1/631642482*arctan(681) + 1/628864000*arctan(680) + 1/626093678*arctan(679) + 1/623331504*arctan(678) + 1/620577466*arctan(677) + 1/617831552*arctan(676) + 1/615093750*arctan(675) + 1/612364048*arctan(674) + 1/609642434*arctan(673) + 1/606928896*arctan(672) + 1/604223422*arctan(671) + 1/601526000*arctan(670) + 1/598836618*arctan(669) + 1/596155264*arctan(668) + 1/593481926*arctan(667) + 1/590816592*arctan(666) + 1/588159250*arctan(665) + 1/585509888*arctan(664) + 1/582868494*arctan(663) + 1/580235056*arctan(662) + 1/577609562*arctan(661) + 1/574992000*arctan(660) + 1/572382358*arctan(659) + 1/569780624*arctan(658) + 1/567186786*arctan(657) + 1/564600832*arctan(656) + 1/562022750*arctan(655) + 1/559452528*arctan(654) + 1/556890154*arctan(653) + 1/554335616*arctan(652) + 1/551788902*arctan(651) + 1/549250000*arctan(650) + 1/546718898*arctan(649) + 1/544195584*arctan(648) + 1/541680046*arctan(647) + 1/539172272*arctan(646) + 1/536672250*arctan(645) + 1/534179968*arctan(644) + 1/531695414*arctan(643) + 1/529218576*arctan(642) + 1/526749442*arctan(641) + 1/524288000*arctan(640) + 1/521834238*arctan(639) + 1/519388144*arctan(638) + 1/516949706*arctan(637) + 1/514518912*arctan(636) + 1/512095750*arctan(635) + 1/509680208*arctan(634) + 1/507272274*arctan(633) + 1/504871936*arctan(632) + 1/502479182*arctan(631) + 1/500094000*arctan(630) + 1/497716378*arctan(629) + 1/495346304*arctan(628) + 1/492983766*arctan(627) + 1/490628752*arctan(626) + 1/488281250*arctan(625) + 1/485941248*arctan(624) + 1/483608734*arctan(623) + 1/481283696*arctan(622) + 1/478966122*arctan(621) + 1/476656000*arctan(620) + 1/474353318*arctan(619) + 1/472058064*arctan(618) + 1/469770226*arctan(617) + 1/467489792*arctan(616) + 1/465216750*arctan(615) + 1/462951088*arctan(614) + 1/460692794*arctan(613) + 1/458441856*arctan(612) + 1/456198262*arctan(611) + 1/453962000*arctan(610) + 1/451733058*arctan(609) + 1/449511424*arctan(608) + 1/447297086*arctan(607) + 1/445090032*arctan(606) + 1/442890250*arctan(605) + 1/440697728*arctan(604) + 1/438512454*arctan(603) + 1/436334416*arctan(602) + 1/434163602*arctan(601) + 1/432000000*arctan(600) + 1/429843598*arctan(599) + 1/427694384*arctan(598) + 1/425552346*arctan(597) + 1/423417472*arctan(596) + 1/421289750*arctan(595) + 1/419169168*arctan(594) + 1/417055714*arctan(593) + 1/414949376*arctan(592) + 1/412850142*arctan(591) + 1/410758000*arctan(590) + 1/408672938*arctan(589) + 1/406594944*arctan(588) + 1/404524006*arctan(587) + 1/402460112*arctan(586) + 1/400403250*arctan(585) + 1/398353408*arctan(584) + 1/396310574*arctan(583) + 1/394274736*arctan(582) + 1/392245882*arctan(581) + 1/390224000*arctan(580) + 1/388209078*arctan(579) + 1/386201104*arctan(578) + 1/384200066*arctan(577) + 1/382205952*arctan(576) + 1/380218750*arctan(575) + 1/378238448*arctan(574) + 1/376265034*arctan(573) + 1/374298496*arctan(572) + 1/372338822*arctan(571) + 1/370386000*arctan(570) + 1/368440018*arctan(569) + 1/366500864*arctan(568) + 1/364568526*arctan(567) + 1/362642992*arctan(566) + 1/360724250*arctan(565) + 1/358812288*arctan(564) + 1/356907094*arctan(563) + 1/355008656*arctan(562) + 1/353116962*arctan(561) + 1/351232000*arctan(560) + 1/349353758*arctan(559) + 1/347482224*arctan(558) + 1/345617386*arctan(557) + 1/343759232*arctan(556) + 1/341907750*arctan(555) + 1/340062928*arctan(554) + 1/338224754*arctan(553) + 1/336393216*arctan(552) + 1/334568302*arctan(551) + 1/332750000*arctan(550) + 1/330938298*arctan(549) + 1/329133184*arctan(548) + 1/327334646*arctan(547) + 1/325542672*arctan(546) + 1/323757250*arctan(545) + 1/321978368*arctan(544) + 1/320206014*arctan(543) + 1/318440176*arctan(542) + 1/316680842*arctan(541) + 1/314928000*arctan(540) + 1/313181638*arctan(539) + 1/311441744*arctan(538) + 1/309708306*arctan(537) + 1/307981312*arctan(536) + 1/306260750*arctan(535) + 1/304546608*arctan(534) + 1/302838874*arctan(533) + 1/301137536*arctan(532) + 1/299442582*arctan(531) + 1/297754000*arctan(530) + 1/296071778*arctan(529) + 1/294395904*arctan(528) + 1/292726366*arctan(527) + 1/291063152*arctan(526) + 1/289406250*arctan(525) + 1/287755648*arctan(524) + 1/286111334*arctan(523) + 1/284473296*arctan(522) + 1/282841522*arctan(521) + 1/281216000*arctan(520) + 1/279596718*arctan(519) + 1/277983664*arctan(518) + 1/276376826*arctan(517) + 1/274776192*arctan(516) + 1/273181750*arctan(515) + 1/271593488*arctan(514) + 1/270011394*arctan(513) + 1/268435456*arctan(512) + 1/266865662*arctan(511) + 1/265302000*arctan(510) + 1/263744458*arctan(509) + 1/262193024*arctan(508) + 1/260647686*arctan(507) + 1/259108432*arctan(506) + 1/257575250*arctan(505) + 1/256048128*arctan(504) + 1/254527054*arctan(503) + 1/253012016*arctan(502) + 1/251503002*arctan(501) + 1/250000000*arctan(500) + 1/248502998*arctan(499) + 1/247011984*arctan(498) + 1/245526946*arctan(497) + 1/244047872*arctan(496) + 1/242574750*arctan(495) + 1/241107568*arctan(494) + 1/239646314*arctan(493) + 1/238190976*arctan(492) + 1/236741542*arctan(491) + 1/235298000*arctan(490) + 1/233860338*arctan(489) + 1/232428544*arctan(488) + 1/231002606*arctan(487) + 1/229582512*arctan(486) + 1/228168250*arctan(485) + 1/226759808*arctan(484) + 1/225357174*arctan(483) + 1/223960336*arctan(482) + 1/222569282*arctan(481) + 1/221184000*arctan(480) + 1/219804478*arctan(479) + 1/218430704*arctan(478) + 1/217062666*arctan(477) + 1/215700352*arctan(476) + 1/214343750*arctan(475) + 1/212992848*arctan(474) + 1/211647634*arctan(473) + 1/210308096*arctan(472) + 1/208974222*arctan(471) + 1/207646000*arctan(470) + 1/206323418*arctan(469) + 1/205006464*arctan(468) + 1/203695126*arctan(467) + 1/202389392*arctan(466) + 1/201089250*arctan(465) + 1/199794688*arctan(464) + 1/198505694*arctan(463) + 1/197222256*arctan(462) + 1/195944362*arctan(461) + 1/194672000*arctan(460) + 1/193405158*arctan(459) + 1/192143824*arctan(458) + 1/190887986*arctan(457) + 1/189637632*arctan(456) + 1/188392750*arctan(455) + 1/187153328*arctan(454) + 1/185919354*arctan(453) + 1/184690816*arctan(452) + 1/183467702*arctan(451) + 1/182250000*arctan(450) + 1/181037698*arctan(449) + 1/179830784*arctan(448) + 1/178629246*arctan(447) + 1/177433072*arctan(446) + 1/176242250*arctan(445) + 1/175056768*arctan(444) + 1/173876614*arctan(443) + 1/172701776*arctan(442) + 1/171532242*arctan(441) + 1/170368000*arctan(440) + 1/169209038*arctan(439) + 1/168055344*arctan(438) + 1/166906906*arctan(437) + 1/165763712*arctan(436) + 1/164625750*arctan(435) + 1/163493008*arctan(434) + 1/162365474*arctan(433) + 1/161243136*arctan(432) + 1/160125982*arctan(431) + 1/159014000*arctan(430) + 1/157907178*arctan(429) + 1/156805504*arctan(428) + 1/155708966*arctan(427) + 1/154617552*arctan(426) + 1/153531250*arctan(425) + 1/152450048*arctan(424) + 1/151373934*arctan(423) + 1/150302896*arctan(422) + 1/149236922*arctan(421) + 1/148176000*arctan(420) + 1/147120118*arctan(419) + 1/146069264*arctan(418) + 1/145023426*arctan(417) + 1/143982592*arctan(416) + 1/142946750*arctan(415) + 1/141915888*arctan(414) + 1/140889994*arctan(413) + 1/139869056*arctan(412) + 1/138853062*arctan(411) + 1/137842000*arctan(410) + 1/136835858*arctan(409) + 1/135834624*arctan(408) + 1/134838286*arctan(407) + 1/133846832*arctan(406) + 1/132860250*arctan(405) + 1/131878528*arctan(404) + 1/130901654*arctan(403) + 1/129929616*arctan(402) + 1/128962402*arctan(401) + 1/128000000*arctan(400) + 1/127042398*arctan(399) + 1/126089584*arctan(398) + 1/125141546*arctan(397) + 1/124198272*arctan(396) + 1/123259750*arctan(395) + 1/122325968*arctan(394) + 1/121396914*arctan(393) + 1/120472576*arctan(392) + 1/119552942*arctan(391) + 1/118638000*arctan(390) + 1/117727738*arctan(389) + 1/116822144*arctan(388) + 1/115921206*arctan(387) + 1/115024912*arctan(386) + 1/114133250*arctan(385) + 1/113246208*arctan(384) + 1/112363774*arctan(383) + 1/111485936*arctan(382) + 1/110612682*arctan(381) + 1/109744000*arctan(380) + 1/108879878*arctan(379) + 1/108020304*arctan(378) + 1/107165266*arctan(377) + 1/106314752*arctan(376) + 1/105468750*arctan(375) + 1/104627248*arctan(374) + 1/103790234*arctan(373) + 1/102957696*arctan(372) + 1/102129622*arctan(371) + 1/101306000*arctan(370) + 1/100486818*arctan(369) + 1/99672064*arctan(368) + 1/98861726*arctan(367) + 1/98055792*arctan(366) + 1/97254250*arctan(365) + 1/96457088*arctan(364) + 1/95664294*arctan(363) + 1/94875856*arctan(362) + 1/94091762*arctan(361) + 1/93312000*arctan(360) + 1/92536558*arctan(359) + 1/91765424*arctan(358) + 1/90998586*arctan(357) + 1/90236032*arctan(356) + 1/89477750*arctan(355) + 1/88723728*arctan(354) + 1/87973954*arctan(353) + 1/87228416*arctan(352) + 1/86487102*arctan(351) + 1/85750000*arctan(350) + 1/85017098*arctan(349) + 1/84288384*arctan(348) + 1/83563846*arctan(347) + 1/82843472*arctan(346) + 1/82127250*arctan(345) + 1/81415168*arctan(344) + 1/80707214*arctan(343) + 1/80003376*arctan(342) + 1/79303642*arctan(341) + 1/78608000*arctan(340) + 1/77916438*arctan(339) + 1/77228944*arctan(338) + 1/76545506*arctan(337) + 1/75866112*arctan(336) + 1/75190750*arctan(335) + 1/74519408*arctan(334) + 1/73852074*arctan(333) + 1/73188736*arctan(332) + 1/72529382*arctan(331) + 1/71874000*arctan(330) + 1/71222578*arctan(329) + 1/70575104*arctan(328) + 1/69931566*arctan(327) + 1/69291952*arctan(326) + 1/68656250*arctan(325) + 1/68024448*arctan(324) + 1/67396534*arctan(323) + 1/66772496*arctan(322) + 1/66152322*arctan(321) + 1/65536000*arctan(320) + 1/64923518*arctan(319) + 1/64314864*arctan(318) + 1/63710026*arctan(317) + 1/63108992*arctan(316) + 1/62511750*arctan(315) + 1/61918288*arctan(314) + 1/61328594*arctan(313) + 1/60742656*arctan(312) + 1/60160462*arctan(311) + 1/59582000*arctan(310) + 1/59007258*arctan(309) + 1/58436224*arctan(308) + 1/57868886*arctan(307) + 1/57305232*arctan(306) + 1/56745250*arctan(305) + 1/56188928*arctan(304) + 1/55636254*arctan(303) + 1/55087216*arctan(302) + 1/54541802*arctan(301) + 1/54000000*arctan(300) + 1/53461798*arctan(299) + 1/52927184*arctan(298) + 1/52396146*arctan(297) + 1/51868672*arctan(296) + 1/51344750*arctan(295) + 1/50824368*arctan(294) + 1/50307514*arctan(293) + 1/49794176*arctan(292) + 1/49284342*arctan(291) + 1/48778000*arctan(290) + 1/48275138*arctan(289) + 1/47775744*arctan(288) + 1/47279806*arctan(287) + 1/46787312*arctan(286) + 1/46298250*arctan(285) + 1/45812608*arctan(284) + 1/45330374*arctan(283) + 1/44851536*arctan(282) + 1/44376082*arctan(281) + 1/43904000*arctan(280) + 1/43435278*arctan(279) + 1/42969904*arctan(278) + 1/42507866*arctan(277) + 1/42049152*arctan(276) + 1/41593750*arctan(275) + 1/41141648*arctan(274) + 1/40692834*arctan(273) + 1/40247296*arctan(272) + 1/39805022*arctan(271) + 1/39366000*arctan(270) + 1/38930218*arctan(269) + 1/38497664*arctan(268) + 1/38068326*arctan(267) + 1/37642192*arctan(266) + 1/37219250*arctan(265) + 1/36799488*arctan(264) + 1/36382894*arctan(263) + 1/35969456*arctan(262) + 1/35559162*arctan(261) + 1/35152000*arctan(260) + 1/34747958*arctan(259) + 1/34347024*arctan(258) + 1/33949186*arctan(257) + 1/33554432*arctan(256) + 1/33162750*arctan(255) + 1/32774128*arctan(254) + 1/32388554*arctan(253) + 1/32006016*arctan(252) + 1/31626502*arctan(251) + 1/31250000*arctan(250) + 1/30876498*arctan(249) + 1/30505984*arctan(248) + 1/30138446*arctan(247) + 1/29773872*arctan(246) + 1/29412250*arctan(245) + 1/29053568*arctan(244) + 1/28697814*arctan(243) + 1/28344976*arctan(242) + 1/27995042*arctan(241) + 1/27648000*arctan(240) + 1/27303838*arctan(239) + 1/26962544*arctan(238) + 1/26624106*arctan(237) + 1/26288512*arctan(236) + 1/25955750*arctan(235) + 1/25625808*arctan(234) + 1/25298674*arctan(233) + 1/24974336*arctan(232) + 1/24652782*arctan(231) + 1/24334000*arctan(230) + 1/24017978*arctan(229) + 1/23704704*arctan(228) + 1/23394166*arctan(227) + 1/23086352*arctan(226) + 1/22781250*arctan(225) + 1/22478848*arctan(224) + 1/22179134*arctan(223) + 1/21882096*arctan(222) + 1/21587722*arctan(221) + 1/21296000*arctan(220) + 1/21006918*arctan(219) + 1/20720464*arctan(218) + 1/20436626*arctan(217) + 1/20155392*arctan(216) + 1/19876750*arctan(215) + 1/19600688*arctan(214) + 1/19327194*arctan(213) + 1/19056256*arctan(212) + 1/18787862*arctan(211) + 1/18522000*arctan(210) + 1/18258658*arctan(209) + 1/17997824*arctan(208) + 1/17739486*arctan(207) + 1/17483632*arctan(206) + 1/17230250*arctan(205) + 1/16979328*arctan(204) + 1/16730854*arctan(203) + 1/16484816*arctan(202) + 1/16241202*arctan(201) + 1/16000000*arctan(200) + 1/15761198*arctan(199) + 1/15524784*arctan(198) + 1/15290746*arctan(197) + 1/15059072*arctan(196) + 1/14829750*arctan(195) + 1/14602768*arctan(194) + 1/14378114*arctan(193) + 1/14155776*arctan(192) + 1/13935742*arctan(191) + 1/13718000*arctan(190) + 1/13502538*arctan(189) + 1/13289344*arctan(188) + 1/13078406*arctan(187) + 1/12869712*arctan(186) + 1/12663250*arctan(185) + 1/12459008*arctan(184) + 1/12256974*arctan(183) + 1/12057136*arctan(182) + 1/11859482*arctan(181) + 1/11664000*arctan(180) + 1/11470678*arctan(179) + 1/11279504*arctan(178) + 1/11090466*arctan(177) + 1/10903552*arctan(176) + 1/10718750*arctan(175) + 1/10536048*arctan(174) + 1/10355434*arctan(173) + 1/10176896*arctan(172) + 1/10000422*arctan(171) + 1/9826000*arctan(170) + 1/9653618*arctan(169) + 1/9483264*arctan(168) + 1/9314926*arctan(167) + 1/9148592*arctan(166) + 1/8984250*arctan(165) + 1/8821888*arctan(164) + 1/8661494*arctan(163) + 1/8503056*arctan(162) + 1/8346562*arctan(161) + 1/8192000*arctan(160) + 1/8039358*arctan(159) + 1/7888624*arctan(158) + 1/7739786*arctan(157) + 1/7592832*arctan(156) + 1/7447750*arctan(155) + 1/7304528*arctan(154) + 1/7163154*arctan(153) + 1/7023616*arctan(152) + 1/6885902*arctan(151) + 1/6750000*arctan(150) + 1/6615898*arctan(149) + 1/6483584*arctan(148) + 1/6353046*arctan(147) + 1/6224272*arctan(146) + 1/6097250*arctan(145) + 1/5971968*arctan(144) + 1/5848414*arctan(143) + 1/5726576*arctan(142) + 1/5606442*arctan(141) + 1/5488000*arctan(140) + 1/5371238*arctan(139) + 1/5256144*arctan(138) + 1/5142706*arctan(137) + 1/5030912*arctan(136) + 1/4920750*arctan(135) + 1/4812208*arctan(134) + 1/4705274*arctan(133) + 1/4599936*arctan(132) + 1/4496182*arctan(131) + 1/4394000*arctan(130) + 1/4293378*arctan(129) + 1/4194304*arctan(128) + 1/4096766*arctan(127) + 1/4000752*arctan(126) + 1/3906250*arctan(125) + 1/3813248*arctan(124) + 1/3721734*arctan(123) + 1/3631696*arctan(122) + 1/3543122*arctan(121) + 1/3456000*arctan(120) + 1/3370318*arctan(119) + 1/3286064*arctan(118) + 1/3203226*arctan(117) + 1/3121792*arctan(116) + 1/3041750*arctan(115) + 1/2963088*arctan(114) + 1/2885794*arctan(113) + 1/2809856*arctan(112) + 1/2735262*arctan(111) + 1/2662000*arctan(110) + 1/2590058*arctan(109) + 1/2519424*arctan(108) + 1/2450086*arctan(107) + 1/2382032*arctan(106) + 1/2315250*arctan(105) + 1/2249728*arctan(104) + 1/2185454*arctan(103) + 1/2122416*arctan(102) + 1/2060602*arctan(101) + 1/2000000*arctan(100) + 1/1940598*arctan(99) + 1/1882384*arctan(98) + 1/1825346*arctan(97) + 1/1769472*arctan(96) + 1/1714750*arctan(95) + 1/1661168*arctan(94) + 1/1608714*arctan(93) + 1/1557376*arctan(92) + 1/1507142*arctan(91) + 1/1458000*arctan(90) + 1/1409938*arctan(89) + 1/1362944*arctan(88) + 1/1317006*arctan(87) + 1/1272112*arctan(86) + 1/1228250*arctan(85) + 1/1185408*arctan(84) + 1/1143574*arctan(83) + 1/1102736*arctan(82) + 1/1062882*arctan(81) + 1/1024000*arctan(80) + 1/986078*arctan(79) + 1/949104*arctan(78) + 1/913066*arctan(77) + 1/877952*arctan(76) + 1/843750*arctan(75) + 1/810448*arctan(74) + 1/778034*arctan(73) + 1/746496*arctan(72) + 1/715822*arctan(71) + 1/686000*arctan(70) + 1/657018*arctan(69) + 1/628864*arctan(68) + 1/601526*arctan(67) + 1/574992*arctan(66) + 1/549250*arctan(65) + 1/524288*arctan(64) + 1/500094*arctan(63) + 1/476656*arctan(62) + 1/453962*arctan(61) + 1/432000*arctan(60) + 1/410758*arctan(59) + 1/390224*arctan(58) + 1/370386*arctan(57) + 1/351232*arctan(56) + 1/332750*arctan(55) + 1/314928*arctan(54) + 1/297754*arctan(53) + 1/281216*arctan(52) + 1/265302*arctan(51) + 1/250000*arctan(50) + 1/235298*arctan(49) + 1/221184*arctan(48) + 1/207646*arctan(47) + 1/194672*arctan(46) + 1/182250*arctan(45) + 1/170368*arctan(44) + 1/159014*arctan(43) + 1/148176*arctan(42) + 1/137842*arctan(41) + 1/128000*arctan(40) + 1/118638*arctan(39) + 1/109744*arctan(38) + 1/101306*arctan(37) + 1/93312*arctan(36) + 1/85750*arctan(35) + 1/78608*arctan(34) + 1/71874*arctan(33) + 1/65536*arctan(32) + 1/59582*arctan(31) + 1/54000*arctan(30) + 1/48778*arctan(29) + 1/43904*arctan(28) + 1/39366*arctan(27) + 1/35152*arctan(26) + 1/31250*arctan(25) + 1/27648*arctan(24) + 1/24334*arctan(23) + 1/21296*arctan(22) + 1/18522*arctan(21) + 1/16000*arctan(20) + 1/13718*arctan(19) + 1/11664*arctan(18) + 1/9826*arctan(17) + 1/8192*arctan(16) + 1/6750*arctan(15) + 1/5488*arctan(14) + 1/4394*arctan(13) + 1/3456*arctan(12) + 1/2662*arctan(11) + 1/2000*arctan(10) + 1/1458*arctan(9) + 1/1024*arctan(8) + 1/686*arctan(7) + 1/432*arctan(6) + 1/250*arctan(5) + 1/128*arctan(4) + 1/54*arctan(3) + 1/16*arctan(2) + 92389882233810655153296873764395156516373889058143129259249092867783216594199278689182289060469411203926949419848041793720710750711550285976310272630124137842543932581151841869273630952668673126638474506672765105308242157524650451927364151273805571322120077587101719477768973369434145356174316660265509724401582334700529523322942248487662300269834618787724538737817611271141385628760627465426783311493280510507027867402779488968051695088346639170388855065466593519376108996918638631796881135620738193553033518376147891590265980863986434154568136721159466337058935591854467316286772654438309188114944306862008037639291765218116825673708057337784781239123745844646986880733872017860763830526870220944892330006865375868880244573847709506402071288533945456729616890843407967565289890913809256149536822390418698744210896652570528661743162336968792773721456284993053334439170607880306025859432721281399867141311915340654343682440079355141265336143042968478196299323218862921149582720884475068471391702133999867143404738927509069975477633606504355430780628732919942709322121789733175415147580764255045053858209791116857876757269008185325067057488208439981180188962030495916124908743604596045861941119334230699038704249547825356788548156179366249190311624603013699217408815718126904792555417455496475218087946547998484243329036545573051526707489929779084610952248235944159588940816315177062170200899013568411072630727438160440131583264297685727936673629111541778402269991353594532027914972361109000831211142296208931347117340647324180107299251269088947372962467880231265372288974425069163890964748055951584004840616453872899364186507322318293198535558784414756399824485272812350109881308708151544441868155215792267165536529275393749109517732227371641138974445370039524122658240254295715350598564092418895079030093435532858533308515453407949754232837123404425174396565318156671135755779141526861100714883752746264731993076693148491195358740885826568112170620574958559965361022942257404373228297559331237551831207326805348686104111793528712322205773585634269638871515596159228389863303655886569556691901579805843898995096900229545757486897584111398531039078952580225637919356483414977675328142174489335880560578230676476669793768870163296971824474398923280722198800798995845453513131817993861553660847000279707888778432321638616128178342339080595922138480884261317169256252302436029615290573286720677154870250194817723322207456995247897400714266960121372831329499951185298889041694222524057631452053045358300454474579620358395314186778752996440708912808282881480115487692459917187780679050682172666489345090057691978228233119151485793324804299510571129887999047053394964749601157134842819341344720425397446161987106165266041286970962254729656932274620189569739072720561688700130410367264819534969642771439646965283841189938810176972273109566771631481673988698486761887850940450686997155933460921264005081305821962974852936665460903415796396324889763051294051633086909377585002692823079860293412259700650634575011818917468951888579867721791309678475205875239923976582571941152070353308375784984260115964638593544466964747501103068144151182045375897029545233531344334648587543348220118941363850723987483658278843049483819383093063144177332588634983758720051763550520854137825436350102655936263151979277597759640007180722973575253731597318058335941914928962008556746098076887816832238451685324474851119023481877096648934414568628072243420599002805061780933988720977882935199799214415045127034004443618519894308095288118507470594629333942165602840547298382817071312661303385195631570087831458025728967058796841846942912658137350572183/1019530919697225183118529019190448666066463144596925911277751088915066754413979573160784494572212719284682620370951233970365060509889768550020752348212190824338151668056726797642581618704277118004991074888182417472777166302975730369247775528528519434132034315398710918874789610537057904720769110291288962797602271140507028851243195519350549663000446347082333521135423240571126988357729635068056365660705952211241957507633567422206022866682131652246989833841822261790102442805861308200339770468003270184265542237918675267216825648499306204473577330853427298681003874833569250112705012295995635535398895379132201675380712682861880502454590507349183957973307229930718018358005658572645288837930146226331764888457709424796496346620646793598567117586824324019416296431635417792194802834839499900090708439923995913842101603851166830003697899435314588832555599926572869941712630949646536751536819345771095682053921362379361393334332512236199314620084941565751229118363444776805418316436217143527840401551763397600683267113131468254202554956039818290598131733761153815821334384615198132015986787167856965079534778021569969633984729653442439709954724316149226617960276922984560061399724064780694858734126243105976175975463187271006425280927634859339204873644672827615925837159547816459723293559283104697433143266646211551581536743735751307816712012911446627306166735542690218663469289365626271275346771505003390386984371420429889760734692173226685684595422899579768308657853319691601518313309595405435085371533314862125980333345830345293570211141111256697962247705833091188368907970234710279374494921617186608103468833300558370842699533966889545917839812251045533748913826089223160505431356576112727360035783531946428772577575048784821752295741190457620937404557893424560722345522707203563561953210850629400799713287927956383773675173014788572462880192187999150827647478479724439163212229503999066683466111293046235062089289537955065481139000657219389579434319091850583994434130283976926155041209224708830222310512212399248027999034255822960176735207200509142355016663796700637765674451616800966377573474525813460356755661767506527767127732802044544835519706296272696249979138208654678779488223758225834842465801673156024095631831535147124382330166164081043839307933883807034509425680910609920950671293562971754603446159364153215022538853916893913850471086094954810651965604271471005171950229589477962467192678835861130927682527508303702351759630146334762311737190885763342295589263756301123339655717075475541105368379550476657902416255323627609686309235986293265296018263561324802386168595234764869673179502751503180327216657136702761597831003124035632955138215235480356913592744868326197066315427222810533802300458743776174623561120138913919317123101559051037411544364895174679577207059213529503729949594645304082031321729578824870081372531896971421614334159146024478871590130864592761645019001606555947598434258715881269818333117268126639280674978010804881366005081297971000701821973541257141910465011013387020674243655468981508298180507970300441411630805743435557399117841807058226144387818141908552100631317023328639860599852981413273640503773733666389660696934316328313781729257041614004821405581826878258403344444594568406572668608638276354844044559429895386607503452526734621853099548109060361715753467994724098606158389629922302064872538495273343421960657383801140781359492889737000325471279925751714335163424331361236376163585889994174932028165257869389116676943670647798212767078908636310490495948555559742842770522412494059196695143860369428045462596696001793079017467154013944238276657667361231862788041808486400000000)"
      ]
     },
     "execution_count": 83,
     "metadata": {},
     "output_type": "execute_result"
    }
   ],
   "source": [
    "int_int, int_sum, int_R_p_n"
   ]
  },
  {
   "cell_type": "code",
   "execution_count": 84,
   "metadata": {},
   "outputs": [
    {
     "data": {
      "text/plain": [
       "(1/16*pi - 1/8,\n",
       " 1/16,\n",
       " 1/16*pi - 1/4*arctan(100) + 367996905579446728025403515053613724213663335131027349173987864727644486939901887445263427707925061891783126123812946179219654937915832779570562267562918219328077368574432793694804961433513350432901608900496051811871564997720263425615449040621833654374508124818638322966014392040544808418061839734863459931250328851036391681632719638607655508220685810621332051838572493139693237/1724296549336227036046381105426480527162826203594584308459995751633621016629645342414168507751024208136393388825757695609274545839755868779776565243997822558570238583919496755520699547230610492101128795572587973226719651227674012703039695267910719191903165353023476238132895529646693548708127237548673984547558228066463503501098851240640172776453634842320527265562611944570450000)"
      ]
     },
     "execution_count": 84,
     "metadata": {},
     "output_type": "execute_result"
    }
   ],
   "source": [
    "sum_int, sum_sum, sum_R_p_n"
   ]
  },
  {
   "cell_type": "code",
   "execution_count": 85,
   "metadata": {},
   "outputs": [
    {
     "data": {
      "text/plain": [
       "(integrate(1/8*(2*y - 2*floor(y) - 1)*(2*(5*y^4 + 3*y^2)*(y^2*arctan(1/y) + y + arctan(1/y))/(y^5 + y^3)^2 - 2*(2*y*arctan(1/y) - 1/(1/y^2 + 1) - 1/(y^2*(1/y^2 + 1)) + 1)/(y^5 + y^3) - 3*pi/y^4), y, 1, +Infinity),\n",
       " -integrate((2*y - 2*floor(y) - 1)*y/(y^2 + 1)^3, y, 1, +Infinity),\n",
       " 0.008150899241692044)"
      ]
     },
     "execution_count": 85,
     "metadata": {},
     "output_type": "execute_result"
    }
   ],
   "source": [
    "R_p_int, R_p_sum, R_p_R_p"
   ]
  },
  {
   "cell_type": "markdown",
   "metadata": {},
   "source": [
    "Numerical"
   ]
  },
  {
   "cell_type": "code",
   "execution_count": 86,
   "metadata": {},
   "outputs": [
    {
     "data": {
      "text/plain": [
       "(0.142699081698724, 0.0713495408493621, 0.0145963980962299)"
      ]
     },
     "execution_count": 86,
     "metadata": {},
     "output_type": "execute_result"
    }
   ],
   "source": [
    "int_int.n(), int_sum.n(), int_R_p_n.n()"
   ]
  },
  {
   "cell_type": "code",
   "execution_count": 87,
   "metadata": {},
   "outputs": [
    {
     "data": {
      "text/plain": [
       "(0.0713495408493621, 0.0625000000000000, 0.0195689468454314)"
      ]
     },
     "execution_count": 87,
     "metadata": {},
     "output_type": "execute_result"
    }
   ],
   "source": [
    "sum_int.n(), sum_sum.n(), sum_R_p_n.n()"
   ]
  },
  {
   "cell_type": "code",
   "execution_count": 88,
   "metadata": {},
   "outputs": [
    {
     "data": {
      "text/plain": [
       "(0.014593410520966658, 0.0195690550052681, 0.008150899241692044)"
      ]
     },
     "execution_count": 88,
     "metadata": {},
     "output_type": "execute_result"
    }
   ],
   "source": [
    "R_p_int.n(), R_p_sum.n(), R_p_R_p"
   ]
  },
  {
   "cell_type": "code",
   "execution_count": 89,
   "metadata": {},
   "outputs": [
    {
     "data": {
      "text/plain": [
       "0.424376873107036"
      ]
     },
     "execution_count": 89,
     "metadata": {},
     "output_type": "execute_result"
    }
   ],
   "source": [
    "int_int.n() + int_sum.n() + int_R_p_n.n() + \\\n",
    "sum_int.n() + sum_sum.n() + sum_R_p_n.n() + \\\n",
    "R_p_int.n() + R_p_sum.n() + R_p_R_p"
   ]
  },
  {
   "cell_type": "markdown",
   "metadata": {},
   "source": [
    "R_p=False"
   ]
  },
  {
   "cell_type": "code",
   "execution_count": 90,
   "metadata": {},
   "outputs": [
    {
     "data": {
      "text/plain": [
       "0.347898163397448"
      ]
     },
     "execution_count": 90,
     "metadata": {},
     "output_type": "execute_result"
    }
   ],
   "source": [
    "int_int.n() + int_sum.n() + \\\n",
    "sum_int.n() + sum_sum.n()"
   ]
  },
  {
   "cell_type": "code",
   "execution_count": null,
   "metadata": {},
   "outputs": [],
   "source": []
  }
 ],
 "metadata": {
  "kernelspec": {
   "display_name": "SageMath 9.3",
   "language": "sage",
   "name": "sagemath"
  },
  "language_info": {
   "codemirror_mode": {
    "name": "ipython",
    "version": 3
   },
   "file_extension": ".py",
   "mimetype": "text/x-python",
   "name": "python",
   "nbconvert_exporter": "python",
   "pygments_lexer": "ipython3",
   "version": "3.9.2"
  }
 },
 "nbformat": 4,
 "nbformat_minor": 4
}
