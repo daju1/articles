{
 "cells": [
  {
   "cell_type": "markdown",
   "metadata": {},
   "source": [
    "В данной работе я, развивая подход Казимира, показываю что по аналогии с обычным эффектом Казимира, когда на каждую из двух пластин действует приталкивающая сила Казимира как разность электромагнитных давлений квантовых колебаний вакуума нулевой температуры по разные стороны каждой из пластин, за счет того, что геометрия вакуумного резонатора во внутренней и во внешней области различна, можно попытаться создать разность электромагнитных давлений квантовых колебаний вакуума по разные стороны только лишь одной пластины за счет различия геометрии вакуумных резонаторов по обе ее стороны. Для этого на одной из поверхностей гладкой металлической пластины нужно вырастить наносоты.\n",
    "\n",
    "В данной работе для простоты расчётов я анализирую наносоты квадратной формы. Результат моего расчёта может быть с некоторой неизвестной пока поправкой использован для оценки эффекта Казимира в сотах например шестигранной формы, изготовление которых является более простой задачей, однако строгий расчёт полей для шестигранной формы сот весьма затруднителен."
   ]
  },
  {
   "cell_type": "markdown",
   "metadata": {},
   "source": [
    "https://www.dwc.knaw.nl/DL/publications/PU00018547.pdf\n",
    "\n",
    "Mathematics.\n",
    "\n",
    "# On the specific energy density difference on different sides of perfectly conducting honeycomb on a plate.\n",
    "\n",
    "By A. Ju. Drozdov\n",
    "\n",
    "(Feb 14. 2021. - Feb 09. 2022 - July 20 2022 - Sept 1 2022) "
   ]
  },
  {
   "cell_type": "markdown",
   "metadata": {},
   "source": [
    "Let us consider a cubic cavity of volume $L^3$ bounded by perfectly conducting walls and let a perfectly conducting square plate with side $L$ be\n",
    "placed in this cavity parallel to the $xy$ face and let us compare the\n",
    "situation in whieh this plate is at a very large, say $L/2$ distance a from the $xy$ face. \n",
    "\n",
    "One side of this perfectly conducting square plate is a pure plane and other is covered by perfectly conducting honeycomb.\n",
    "\n",
    "On both sided of the the plate\n",
    "expressions $\\frac{1}{2}\\sum\\,\\hbar\\omega$ where the summation extends over all possible\n",
    "resonance frequencies of the cavity $L/2\\times L\\times L$ (large cavity beetween pure plane and $xy$ face) and the cavity $L/2\\times a\\times a$ (small cavity, one honeycomb) are divergent and devoid of physical\n",
    "meaning but the difference between these sums on the opposite sides,\n",
    "$\\frac{1}{2\\,V_{I}}\\left(\\sum\\,\\,\\hbar\\omega\\right)_{I} - \\frac{1}{2\\,V_{II}}\\left(\\sum\\,\\,\\hbar\\omega\\right)_{II}$, will be shown to have a weIl defined value and this\n",
    "value will be interpreted as the interaction between the plate and the both\n",
    "$xy$ faces."
   ]
  },
  {
   "cell_type": "markdown",
   "metadata": {},
   "source": [
    "The possible vibrations of the cavities defined by "
   ]
  },
  {
   "cell_type": "markdown",
   "metadata": {},
   "source": [
    "$0<=x<=L$, $0<=y<=L$, $0<=z<=L/2$ (large cavity beetween pure plane and $xy$ face)"
   ]
  },
  {
   "cell_type": "markdown",
   "metadata": {},
   "source": [
    "and"
   ]
  },
  {
   "cell_type": "markdown",
   "metadata": {},
   "source": [
    "$0<=x<=a$, $0<=y<=a$, $0<=z<=L/2$ (small cavity, one honeycomb)"
   ]
  },
  {
   "cell_type": "markdown",
   "metadata": {},
   "source": [
    "have wave vectors"
   ]
  },
  {
   "cell_type": "markdown",
   "metadata": {},
   "source": [
    "$k_x = \\frac{\\pi}{L}\\,n_x$, $k_y = \\frac{\\pi}{L}\\,n_y$, $k_z = \\frac{\\pi}{L/2}\\,n_z$ (large cavity beetween pure plane and $xy$ face),"
   ]
  },
  {
   "cell_type": "markdown",
   "metadata": {},
   "source": [
    "and"
   ]
  },
  {
   "cell_type": "markdown",
   "metadata": {},
   "source": [
    "$k_x = \\frac{\\pi}{a}\\,n_x$, $k_y = \\frac{\\pi}{a}\\,n_y$, $k_z = \\frac{\\pi}{L/2}\\,n_z$ (small cavity, one honeycomb),\n",
    "\n",
    "where $n_x$. $n_y$, $n_z$:\n",
    "\n",
    "are positive integers;"
   ]
  },
  {
   "cell_type": "markdown",
   "metadata": {},
   "source": [
    "$k = \\sqrt{k_x^2+k_y^2+k_z^2} = \\sqrt{\\kappa^2+k_z^2}$. "
   ]
  },
  {
   "cell_type": "markdown",
   "metadata": {},
   "source": [
    "$E = \\frac{1}{2}\\sum\\,\\hbar\\omega = \\hbar\\,c\\frac{1}{2}\\sum\\limits_{n_x}^{}\\sum\\limits_{n_y}^{}\\sum\\limits_{n_z}^{}k$"
   ]
  },
  {
   "cell_type": "markdown",
   "metadata": {},
   "source": [
    "To every $k_x$, $k_y$, $k_z$ correspond two standing waves unless one of the $n_i$\n",
    "is zero, when there is only one."
   ]
  },
  {
   "cell_type": "markdown",
   "metadata": {},
   "source": [
    "In case of one honeycomb cavity for $k_z$ this is without importance since\n",
    "for very large $L/2$ we may regard $k_z$ as continuous variable. Thus we\n",
    "find "
   ]
  },
  {
   "cell_type": "markdown",
   "metadata": {},
   "source": [
    "$\\frac{1}{2}\\sum\\,\\hbar\\omega = \\hbar\\,c\\frac{1}{2}\\int\\limits_{0}^{\\infty}\\left[{\\sqrt{k_z^2}+2\\sum\\limits_{n_x=1}^{\\infty}\\sum\\limits_{n_y=1}^{\\infty}\\sqrt{n_x^2\\frac{\\pi^2}{a^2}+n_y^2\\frac{\\pi^2}{a^2}+k_z^2}}\\right]d{n_z}$  (small cavity, one honeycomb),"
   ]
  },
  {
   "cell_type": "markdown",
   "metadata": {},
   "source": [
    "$dn_z = \\frac{L/2}{\\pi}\\,dk_z$,"
   ]
  },
  {
   "cell_type": "markdown",
   "metadata": {},
   "source": [
    "Now we can find the specific energy density $E/V$, where $V = V_{small} = L/2 a^2$:"
   ]
  },
  {
   "cell_type": "markdown",
   "metadata": {},
   "source": [
    "$\\frac{1}{2\\,V}\\sum\\,\\hbar\\omega = \\frac{1}{a^2\\,L/2}\\hbar\\,c\\frac{1}{2}\\int\\limits_{0}^{\\infty}\\left[{\\sqrt{k_z^2}+2\\sum\\limits_{n_x=1}^{\\infty}\\sum\\limits_{n_y=1}^{\\infty}\\sqrt{n_x^2\\frac{\\pi^2}{a^2}+n_y^2\\frac{\\pi^2}{a^2}+k_z^2}}\\right]\\frac{L/2}{\\pi}\\,dk_z$  (small cavity, one honeycomb),"
   ]
  },
  {
   "cell_type": "markdown",
   "metadata": {},
   "source": [
    "$\\frac{1}{2\\,V}\\sum\\,\\hbar\\omega = \\frac{1}{a^2\\,\\pi}\\hbar\\,c\\int\\limits_{0}^{\\infty}\\left[{\\frac{1}{2}\\sqrt{k_z^2}+\\sum\\limits_{n_x=1}^{\\infty}\\sum\\limits_{n_y=1}^{\\infty}\\sqrt{n_x^2\\frac{\\pi^2}{a^2}+n_y^2\\frac{\\pi^2}{a^2}+k_z^2}}\\right]\\,dk_z$  (small cavity, one honeycomb),"
   ]
  },
  {
   "cell_type": "markdown",
   "metadata": {},
   "source": [
    "$\\frac{1}{2\\,V}\\sum\\,\\hbar\\omega = \\frac{1}{a^2\\,\\pi}\\hbar\\,c\\int\\limits_{0}^{\\infty}\\left[{\\sum\\limits_{n_x=(0)1}^{\\infty}\\sum\\limits_{n_y=(0)1}^{\\infty}\\sqrt{n_x^2\\frac{\\pi^2}{a^2}+n_y^2\\frac{\\pi^2}{a^2}+k_z^2}}\\right]\\,dk_z$  (small cavity, one honeycomb),"
   ]
  },
  {
   "cell_type": "markdown",
   "metadata": {},
   "source": [
    "where the notation $\\left(0\\right) 1$ is meant to indicate that the term with $n_x = 0$ and $n_y = 0$\n",
    "has to be multiplied by $\\frac{1}{2}$. "
   ]
  },
  {
   "cell_type": "markdown",
   "metadata": {},
   "source": [
    "$\\frac{1}{2\\,V}\\sum\\,\\hbar\\omega = \\frac{1}{a^2\\,\\pi}\\hbar\\,c\\sum\\limits_{n_x=(0)1}^{\\infty}\\sum\\limits_{n_y=(0)1}^{\\infty}\\left[\\int\\limits_{0}^{\\infty}\\sqrt{n_x^2\\frac{\\pi^2}{a^2}+n_y^2\\frac{\\pi^2}{a^2}+k_z^2}\\,dk_z\\right]$  (small cavity, one honeycomb),"
   ]
  },
  {
   "cell_type": "raw",
   "metadata": {},
   "source": []
  },
  {
   "cell_type": "markdown",
   "metadata": {},
   "source": [
    "And in case of large cavity for $k_x$, $k_y$ this is without importance since\n",
    "for very large $L$ we may regard $k_x$, $k_y$ as continuous variables. Thus we\n",
    "find "
   ]
  },
  {
   "cell_type": "markdown",
   "metadata": {},
   "source": [
    "$\\frac{1}{2}\\sum\\,\\hbar\\omega = \\hbar\\,c\\frac{1}{2}\\int\\limits_{0}^{\\infty}\\int\\limits_{0}^{\\infty}\\left[{\\sqrt{k_x^2+k_y^2}+2\\sum\\limits_{n_z=1}^{\\infty}\\sqrt{n_z^2\\frac{\\pi^2}{(L/2)^2}+k_x^2+k_y^2}}\\right]d{n_x}d{n_y}$ (large cavity beetween pure plane and $xy$ face),"
   ]
  },
  {
   "cell_type": "markdown",
   "metadata": {},
   "source": [
    "For very large $L/2$ also this last summation may\n",
    "be replaced by an integral and it is therefore easily seen that our interaction energy is given by "
   ]
  },
  {
   "cell_type": "markdown",
   "metadata": {},
   "source": [
    "$\\frac{1}{2}\\sum\\,\\hbar\\omega = \\hbar\\,c\\int\\limits_{0}^{\\infty}\\int\\limits_{0}^{\\infty}\\int\\limits_{0}^{\\infty}\\sqrt{k_z^2+k_x^2+k_y^2}\\,d{n_x}\\,d{n_y}\\,d{n_z}$ (large cavity beetween pure plane and $xy$ face),"
   ]
  },
  {
   "cell_type": "markdown",
   "metadata": {},
   "source": [
    "$dn_x = \\frac{L}{\\pi}\\,dk_x$, $dn_y = \\frac{L}{\\pi}\\,dk_y$, $dn_z = \\frac{L/2}{\\pi}\\,dk_z$,"
   ]
  },
  {
   "cell_type": "markdown",
   "metadata": {},
   "source": [
    "Now we can find the specific energy density $E/V$, where $V = V_{large} = L^3/2$ :"
   ]
  },
  {
   "cell_type": "markdown",
   "metadata": {},
   "source": [
    "$\\frac{1}{2\\,V}\\sum\\,\\hbar\\omega = \\frac{1}{L^3/2}\\hbar\\,c\\int\\limits_{0}^{\\infty}\\int\\limits_{0}^{\\infty}\\int\\limits_{0}^{\\infty}\\sqrt{k_z^2+k_x^2+k_y^2}\\,dn_x\\,dn_y\\,\\frac{L/2}{\\pi}\\,dk_z$ (large cavity beetween pure plane and $xy$ face),"
   ]
  },
  {
   "cell_type": "markdown",
   "metadata": {},
   "source": [
    "$\\frac{1}{2\\,V}\\sum\\,\\hbar\\omega = \\frac{1}{L^2\\,\\pi}\\hbar\\,c\\int\\limits_{0}^{\\infty}\\int\\limits_{0}^{\\infty}\\left[\\,\\int\\limits_{0}^{\\infty}\\sqrt{k_z^2+k_x^2+k_y^2}\\,dk_z\\right]\\,dn_x\\,dn_y$ (large cavity beetween pure plane and $xy$ face),"
   ]
  },
  {
   "cell_type": "raw",
   "metadata": {},
   "source": []
  },
  {
   "cell_type": "markdown",
   "metadata": {},
   "source": [
    "$\\frac{1}{2\\,V}\\sum\\,\\hbar\\omega = \\frac{1}{a^2\\,\\pi}\\hbar\\,c\\sum\\limits_{n_x=(0)1}^{\\infty}\\sum\\limits_{n_y=(0)1}^{\\infty}\\left[\\,\\int\\limits_{0}^{\\infty}\\sqrt{n_x^2\\frac{\\pi^2}{a^2}+n_y^2\\frac{\\pi^2}{a^2}+k_z^2}\\,dk_z\\right]$  (small cavity, one honeycomb),"
   ]
  },
  {
   "cell_type": "markdown",
   "metadata": {},
   "source": [
    "$\\frac{1}{2\\,V}\\sum\\,\\hbar\\omega = \\frac{1}{L^2\\,\\pi}\\hbar\\,c\\int\\limits_{0}^{\\infty}\\int\\limits_{0}^{\\infty}\\left[\\,\\int\\limits_{0}^{\\infty}\\sqrt{k_x^2+k_y^2+k_z^2}\\,dk_z\\right]\\,dn_x\\,dn_y$ (large cavity beetween pure plane and $xy$ face),"
   ]
  },
  {
   "cell_type": "markdown",
   "metadata": {},
   "source": [
    "$\\frac{1}{2\\,V}\\sum\\,\\hbar\\omega = \\frac{1}{L^2\\,\\pi}\\hbar\\,c\\int\\limits_{0}^{\\infty}\\int\\limits_{0}^{\\infty}\\left[\\,\\int\\limits_{0}^{\\infty}\\sqrt{k_x^2+k_y^2+k_z^2}\\,dk_z\\right]\\,\\left(\\frac{L}{\\pi}dk_x\\right)\\,\\left(\\frac{L}{\\pi}dk_y\\right)$ (large cavity beetween pure plane and $xy$ face),"
   ]
  },
  {
   "cell_type": "markdown",
   "metadata": {},
   "source": [
    "$\\frac{a^2}{2\\,V}\\sum\\,\\hbar\\omega = \\frac{1}{\\pi}\\hbar\\,c\\int\\limits_{0}^{\\infty}\\int\\limits_{0}^{\\infty}\\left[\\,\\int\\limits_{0}^{\\infty}\\sqrt{k_x^2+k_y^2+k_z^2}\\,dk_z\\right]\\,\\left(\\frac{a}{\\pi}dk_x\\right)\\,\\left(\\frac{a}{\\pi}dk_y\\right)$ (large cavity beetween pure plane and $xy$ face),"
   ]
  },
  {
   "cell_type": "markdown",
   "metadata": {},
   "source": [
    "$\\frac{1}{2\\,V}\\sum\\,\\hbar\\omega = \\frac{1}{a^2\\,\\pi}\\hbar\\,c\\int\\limits_{0}^{\\infty}\\int\\limits_{0}^{\\infty}\\left[\\,\\int\\limits_{0}^{\\infty}\\sqrt{k_x^2+k_y^2+k_z^2}\\,dk_z\\right]\\,\\left(\\frac{a}{\\pi}dk_x\\right)\\,\\left(\\frac{a}{\\pi}dk_y\\right)$ (large cavity beetween pure plane and $xy$ face),"
   ]
  },
  {
   "cell_type": "markdown",
   "metadata": {},
   "source": [
    "it is therefore easily seen that our interaction energy is given by "
   ]
  },
  {
   "cell_type": "markdown",
   "metadata": {},
   "source": [
    "$\\delta\\,\\frac{E}{V} = \\frac{1}{a^2\\,\\pi}\\hbar\\,c\\left\\{\\sum\\limits_{n_x=(0)1}^{\\infty}\\sum\\limits_{n_y=(0)1}^{\\infty}\\left[\\,\\int\\limits_{0}^{\\infty}\\sqrt{n_x^2\\frac{\\pi^2}{a^2}+n_y^2\\frac{\\pi^2}{a^2}+k_z^2}\\,dk_z\\right] - \\int\\limits_{0}^{\\infty}\\int\\limits_{0}^{\\infty}\\left[\\,\\int\\limits_{0}^{\\infty}\\sqrt{k_x^2+k_y^2+k_z^2}\\,dk_z\\right]\\,\\left(\\frac{a}{\\pi}dk_x\\right)\\,\\left(\\frac{a}{\\pi}dk_y\\right)\\right\\}$"
   ]
  },
  {
   "cell_type": "markdown",
   "metadata": {},
   "source": [
    "$\\delta\\,\\frac{E}{V} = \\frac{1}{a^2\\,\\pi}\\hbar\\,c\\left\\{\\sum\\limits_{n_x=(0)1}^{\\infty}\\sum\\limits_{n_y=(0)1}^{\\infty}\\left[\\,\\int\\limits_{0}^{\\infty}\\sqrt{n_x^2\\frac{\\pi^2}{a^2}+n_y^2\\frac{\\pi^2}{a^2}+k_z^2}\\,dk_z\\right] - \\int\\limits_{0}^{\\infty}\\int\\limits_{0}^{\\infty}\\left[\\,\\int\\limits_{0}^{\\infty}\\sqrt{k_x^2+k_y^2+k_z^2}\\,dk_z\\right]\\,dn_x\\,dn_y\\right\\}$"
   ]
  },
  {
   "cell_type": "raw",
   "metadata": {},
   "source": []
  },
  {
   "cell_type": "markdown",
   "metadata": {},
   "source": [
    "${\\left(\\frac{E}{V}\\right)_{small\\,cavity} = \\frac{1}{a^2}\\hbar \\, \\sum\\limits_{n_x=(0)1}^{\\infty}\\sum\\limits_{n_y=(0)1}^{\\infty}\\,\\int\\limits_{0}^{\\infty} {\\frac {dk_{z}}{\\pi}}\\omega _{n_x,n_y}.}$"
   ]
  },
  {
   "cell_type": "markdown",
   "metadata": {},
   "source": [
    "where $\\omega _{n_x,n_y} = c\\,\\sqrt{n_x^2\\frac{\\pi^2}{a^2}+n_y^2\\frac{\\pi^2}{a^2}+k_z^2}$"
   ]
  },
  {
   "cell_type": "markdown",
   "metadata": {},
   "source": [
    "This expression is clearly infinite, and to proceed with the calculation, it is convenient to introduce a regulator."
   ]
  },
  {
   "cell_type": "markdown",
   "metadata": {},
   "source": [
    "In order to obtain a finite result it is necessary to multiply the integrands\n",
    "by a function $f(k/k_m)$ which is unity for $k << k_m$ but tends to zero sufficiently rapidly for $(k/k_m)\\, \\rightarrow\\,\\infty$. where $k_m$ may be defined by $f(1) = \\frac{1}{2}$.\n",
    "The physical meaning is obvious: for very short waves (X~rays e.g.)\n",
    "our plate is hardly an obstacle at all and therefore the zero point energy\n",
    "of these waves will not be influenced by the position of this plate. "
   ]
  },
  {
   "cell_type": "markdown",
   "metadata": {},
   "source": [
    "The regulator will serve to make the expression finite, and in the end will be removed. The regulated version of the energy per unit-area of the plate is"
   ]
  },
  {
   "cell_type": "markdown",
   "metadata": {},
   "source": [
    "Introducing the variable $u^2 = a^2\\,k_z^2/\\pi^2$, $du = a/\\pi\\,dk_z$, we have:"
   ]
  },
  {
   "cell_type": "markdown",
   "metadata": {},
   "source": [
    "\\begin{equation}\n",
    "\\delta\\,\\frac{E}{V} = \\frac{\\hbar\\,c\\,\\pi}{a^4}\\left\\{\n",
    "\\sum\\limits_{n_x=\\left(0\\right)\\,1}^{\\infty}\n",
    "\\sum\\limits_{n_y=\\left(0\\right)\\,1}^{\\infty}\n",
    "\\int\\limits_{0}^{\\infty}\n",
    "{\\sqrt{n_x^2 + n_y^2 + u^2}}\n",
    "f\\left(\\frac{\\pi\\sqrt{n_x^2 + n_y^2 + u^2}}{a\\,k_m}\\right)\n",
    "\\,d{u} \\\\\n",
    "- \\int\\limits_{0}^{\\infty}\n",
    "\\int\\limits_{0}^{\\infty}\n",
    "\\int\\limits_{0}^{\\infty}\n",
    "{\\sqrt{n_x^2 + n_y^2 + u^2}}\n",
    "f\\left(\\frac{\\pi\\sqrt{n_x^2 + n_y^2 + u^2}}{a\\,k_m}\\right)\n",
    "\\,d{u}\\,d{n_x}\\,d{n_y}\n",
    "\\right\\}\n",
    "\\end{equation}"
   ]
  },
  {
   "cell_type": "markdown",
   "metadata": {},
   "source": [
    "\\begin{equation}\n",
    "\\delta\\,\\frac{E}{V} = \\frac{\\hbar\\,c\\,\\pi}{a^4}\n",
    "\\int\\limits_{0}^{\\infty}\n",
    "\\left\\{\n",
    "\\sum\\limits_{n_x=\\left(0\\right)\\,1}^{\\infty}\n",
    "\\sum\\limits_{n_y=\\left(0\\right)\\,1}^{\\infty}\n",
    "{\\sqrt{n_x^2 + n_y^2 + u^2}}\n",
    "f\\left(\\frac{\\pi\\sqrt{n_x^2 + n_y^2 + u^2}}{a\\,k_m}\\right) \\\\\n",
    "- \\int\\limits_{0}^{\\infty}\n",
    "\\int\\limits_{0}^{\\infty}\n",
    "{\\sqrt{n_x^2 + n_y^2 + u^2}}\n",
    "f\\left(\\frac{\\pi\\sqrt{n_x^2 + n_y^2 + u^2}}{a\\,k_m}\\right)\n",
    "\\,d{n_x}\\,d{n_y}\n",
    "\\right\\}\n",
    "\\,d{u}\n",
    "\\end{equation}"
   ]
  },
  {
   "cell_type": "markdown",
   "metadata": {},
   "source": [
    "Introdusing function:"
   ]
  },
  {
   "cell_type": "markdown",
   "metadata": {},
   "source": [
    "\\begin{equation}\n",
    "F\\left(u, n_x, n_y\\right) = \n",
    "\\sqrt{n_x^2 + n_y^2+u^2}\\,\n",
    "f\\left(\\frac{\\pi\\sqrt{n_x^2 + n_y^2+u^2}}{a\\,k_m}\\right)\n",
    "\\end{equation}"
   ]
  },
  {
   "cell_type": "markdown",
   "metadata": {},
   "source": [
    "we can write:"
   ]
  },
  {
   "cell_type": "markdown",
   "metadata": {},
   "source": [
    "\\begin{equation}\n",
    "\\delta\\,\\frac{E}{V} = \\frac{\\hbar\\,c\\,\\pi}{a^4}\n",
    "\\int\\limits_{0}^{\\infty}{\n",
    "\\left\\{\n",
    "\\sum\\limits_{n_x=\\left(0\\right)\\,1}^{\\infty}\n",
    "\\sum\\limits_{n_y=\\left(0\\right)\\,1}^{\\infty}\n",
    "F\\left(u, n_x, n_y\\right)\n",
    "-\n",
    "\\int\\limits_{0}^{\\infty}\n",
    "\\int\\limits_{0}^{\\infty}\n",
    "F\\left(u, n_x, n_y\\right)\\,d{n_x}\\,d{n_y}\n",
    "\\right\\}\n",
    "}\\,d{u}\n",
    "\\end{equation}"
   ]
  },
  {
   "cell_type": "markdown",
   "metadata": {},
   "source": [
    "\\begin{equation}\n",
    "\\delta\\,\\frac{E}{V} = \\frac{\\hbar\\,c\\,\\pi}{a^4}\n",
    "\\left\\{\n",
    "\\sum\\limits_{n_x=\\left(0\\right)\\,1}^{\\infty}\n",
    "\\sum\\limits_{n_y=\\left(0\\right)\\,1}^{\\infty}\n",
    "\\left(\\int\\limits_{0}^{\\infty}F\\left(u, n_x, n_y\\right)\\,d{u}\\right)\n",
    "-\n",
    "\\int\\limits_{0}^{\\infty}\n",
    "\\int\\limits_{0}^{\\infty}\n",
    "\\left(\\int\\limits_{0}^{\\infty}F\\left(u, n_x, n_y\\right)\\,d{u}\\right)\n",
    "\\,d{n_x}\\,d{n_y}\n",
    "\\right\\}\n",
    "\\end{equation}"
   ]
  },
  {
   "cell_type": "markdown",
   "metadata": {},
   "source": [
    "And at least, introdusing"
   ]
  },
  {
   "cell_type": "markdown",
   "metadata": {},
   "source": [
    "\\begin{equation}\n",
    "G\\left(n_x, n_y\\right) = \\left(\\int\\limits_{0}^{\\infty}F\\left(u, n_x, n_y\\right)\\,d{u}\\right)\n",
    "\\end{equation}"
   ]
  },
  {
   "cell_type": "markdown",
   "metadata": {},
   "source": [
    "We have"
   ]
  },
  {
   "cell_type": "markdown",
   "metadata": {},
   "source": [
    "\\begin{equation}\n",
    "\\delta\\,\\frac{E}{V} = \\frac{\\hbar\\,c\\,\\pi}{a^4}\n",
    "\\left\\{\n",
    "\\sum\\limits_{n_x=\\left(0\\right)\\,1}^{\\infty}\n",
    "\\sum\\limits_{n_y=\\left(0\\right)\\,1}^{\\infty}\n",
    "G\\left(n_x, n_y\\right)\n",
    "-\n",
    "\\int\\limits_{0}^{\\infty}\n",
    "\\int\\limits_{0}^{\\infty}\n",
    "G\\left(n_x, n_y\\right)\n",
    "\\,d{n_x}\\,d{n_y}\n",
    "\\right\\}\n",
    "\\end{equation}"
   ]
  },
  {
   "cell_type": "code",
   "execution_count": 1,
   "metadata": {},
   "outputs": [],
   "source": [
    "from IPython.display import display, Math, Latex\n",
    "\n",
    "def disp(ex):\n",
    "    display(Math(latex(ex)))\n",
    "\n",
    "def subs(ex, *argv):\n",
    "    if hasattr(ex, 'subs'):\n",
    "        return ex.subs(*argv)\n",
    "    return ex\n",
    "\n",
    "def e2n(ex):\n",
    "    if hasattr(ex, 'n'):\n",
    "        return ex.n()\n",
    "    return ex"
   ]
  },
  {
   "cell_type": "code",
   "execution_count": 2,
   "metadata": {},
   "outputs": [],
   "source": [
    "def num_int(f, a, b, v, logging=False, print_tolerance=False):\n",
    "    from scipy import integrate\n",
    "\n",
    "    try:\n",
    "        if logging:\n",
    "            try:\n",
    "                print (\"v = \", v, f(v).variables(), \"integrand = \", f(v))\n",
    "            except Exception as ex2:\n",
    "                print (\"Exception ex2 = \", ex2)\n",
    "            \n",
    "        integral = integrate.quad(f, a, b)\n",
    "\n",
    "        result = integral[0]\n",
    "        if (print_tolerance):\n",
    "            print(\"tolerance =\", integral[1])\n",
    "        return result\n",
    "\n",
    "    except Exception as ex:\n",
    "\n",
    "        if \"unable to simplify to float approximation\" == str(ex):\n",
    "            from sage.symbolic.integration.integral import definite_integral\n",
    "            return definite_integral(f(v), v, a, b, hold=True)\n",
    "\n",
    "        print (\"Exception ex = \", str(ex))\n",
    "        print (\"f = \", f)\n",
    "        try:\n",
    "            print (\"v = \", v, \"integrand = \", f(v))\n",
    "        except Exception as ex2:\n",
    "            print (\"Exception ex2 = \", ex2)\n",
    "\n",
    "        print (\"a, b = \", a, \",\", b)\n",
    "        try:\n",
    "            print (\"f(a) = \", f(a))\n",
    "        except:\n",
    "            pass\n",
    "        try:\n",
    "            print (\"f(b) = \", f(b))\n",
    "        except:\n",
    "            pass\n",
    "\n",
    "        import inspect\n",
    "        stack = inspect.stack()\n",
    "        for frame in stack:\n",
    "            func_name = frame[3]\n",
    "            print (\"func_name = \", func_name)\n",
    "\n",
    "        raise ex"
   ]
  },
  {
   "cell_type": "code",
   "execution_count": 3,
   "metadata": {},
   "outputs": [],
   "source": [
    "from sage.symbolic.integration.integral import definite_integral, available_integrators\n",
    "if 'definite_integral_integrators' not in globals():\n",
    "    definite_integral_integrators = definite_integral.integrators\n",
    "\n",
    "# workaround for reducing calculation time: remove maxima and giac from integrators\n",
    "definite_integral.integrators = []\n",
    "definite_integral.integrators += [definite_integral_integrators[2]]"
   ]
  },
  {
   "cell_type": "raw",
   "metadata": {},
   "source": []
  },
  {
   "cell_type": "code",
   "execution_count": 4,
   "metadata": {},
   "outputs": [],
   "source": [
    "n_x = var(\"n_x\")\n",
    "assume(n_x, \"real\")\n",
    "assume(n_x > 0)\n",
    "n_y = var(\"n_y\")\n",
    "assume(n_y, \"real\")\n",
    "assume(n_y > 0)"
   ]
  },
  {
   "cell_type": "code",
   "execution_count": 5,
   "metadata": {},
   "outputs": [],
   "source": [
    "#u = a*k_z/(pi)\n",
    "u = var(\"u\")\n",
    "assume(u, \"real\")\n",
    "assume(u > 0)"
   ]
  },
  {
   "cell_type": "code",
   "execution_count": 6,
   "metadata": {},
   "outputs": [],
   "source": [
    "a = var(\"a\")\n",
    "assume(a, 'real')\n",
    "assume(a>0)"
   ]
  },
  {
   "cell_type": "code",
   "execution_count": 7,
   "metadata": {},
   "outputs": [],
   "source": [
    "k = var(\"k\")\n",
    "k_m = var(\"k_m\")\n",
    "assume(k_m, 'real')\n",
    "assume(k_m > 0)"
   ]
  },
  {
   "cell_type": "markdown",
   "metadata": {},
   "source": [
    "Let's use the following regulator function"
   ]
  },
  {
   "cell_type": "code",
   "execution_count": 8,
   "metadata": {},
   "outputs": [
    {
     "data": {
      "text/latex": [
       "$\\displaystyle f\\left(\\frac{k}{k_m}\\right) = \\frac{1}{\\frac{k^{4}}{k_{m}^{4}} + 1}$"
      ],
      "text/plain": [
       "<IPython.core.display.Math object>"
      ]
     },
     "metadata": {},
     "output_type": "display_data"
    }
   ],
   "source": [
    "f = function('f')(var(\"k_km\"))\n",
    "fn = lambda k_km : 1 / (1 + (k_km)^4)\n",
    "display(Math(\"f\\\\left(\\\\frac{k}{k_m}\\\\right) = \" + latex(fn(k/k_m))))"
   ]
  },
  {
   "cell_type": "markdown",
   "metadata": {},
   "source": [
    "$k_m$ may be defined by $f(1) = \\frac{1}{2}$."
   ]
  },
  {
   "cell_type": "code",
   "execution_count": 9,
   "metadata": {},
   "outputs": [
    {
     "data": {
      "text/plain": [
       "0.500000000000000"
      ]
     },
     "execution_count": 9,
     "metadata": {},
     "output_type": "execute_result"
    }
   ],
   "source": [
    "e2n(fn(1))"
   ]
  },
  {
   "cell_type": "markdown",
   "metadata": {},
   "source": [
    "which is unity for $k << k_m$ but tends to zero sufficiently rapidly for $(k/k_m)\\, \\rightarrow\\,\\infty$. "
   ]
  },
  {
   "cell_type": "code",
   "execution_count": 10,
   "metadata": {},
   "outputs": [
    {
     "data": {
      "image/png": "[encoded data removed]",
      "text/plain": [
       "Graphics object consisting of 1 graphics primitive"
      ]
     },
     "execution_count": 10,
     "metadata": {},
     "output_type": "execute_result"
    }
   ],
   "source": [
    "plot(fn(x), (x, 0, 3))"
   ]
  },
  {
   "cell_type": "code",
   "execution_count": 11,
   "metadata": {},
   "outputs": [
    {
     "data": {
      "text/plain": [
       "(1.00000000000000, 0)"
      ]
     },
     "execution_count": 11,
     "metadata": {},
     "output_type": "execute_result"
    }
   ],
   "source": [
    "e2n(fn(0)), limit(fn(k_km), k_km=Infinity)"
   ]
  },
  {
   "cell_type": "markdown",
   "metadata": {},
   "source": [
    "Integral of regulator function"
   ]
  },
  {
   "cell_type": "code",
   "execution_count": 12,
   "metadata": {},
   "outputs": [
    {
     "data": {
      "text/latex": [
       "$\\displaystyle \\int{f(k/k_m)d(k/k_m)}= \\frac{1}{4} \\, \\sqrt{2} \\arctan\\left(\\frac{1}{2} \\, \\sqrt{2} {\\left(\\sqrt{2} + \\frac{2 \\, k}{k_{m}}\\right)}\\right) + \\frac{1}{4} \\, \\sqrt{2} \\arctan\\left(-\\frac{1}{2} \\, \\sqrt{2} {\\left(\\sqrt{2} - \\frac{2 \\, k}{k_{m}}\\right)}\\right) + \\frac{1}{8} \\, \\sqrt{2} \\log\\left(\\frac{\\sqrt{2} k}{k_{m}} + \\frac{k^{2}}{k_{m}^{2}} + 1\\right) - \\frac{1}{8} \\, \\sqrt{2} \\log\\left(-\\frac{\\sqrt{2} k}{k_{m}} + \\frac{k^{2}}{k_{m}^{2}} + 1\\right)$"
      ],
      "text/plain": [
       "<IPython.core.display.Math object>"
      ]
     },
     "metadata": {},
     "output_type": "display_data"
    }
   ],
   "source": [
    "Jfn = integrate(fn(k_km), k_km)\n",
    "display(Math(\"\\\\int{f(k/k_m)d(k/k_m)}=\" + latex(Jfn.subs(k_km == k/k_m))))"
   ]
  },
  {
   "cell_type": "markdown",
   "metadata": {},
   "source": [
    "The limit of regulator function integral at Infinity has finite value:"
   ]
  },
  {
   "cell_type": "code",
   "execution_count": 13,
   "metadata": {},
   "outputs": [
    {
     "data": {
      "text/latex": [
       "$\\displaystyle \\frac{1}{4} \\, \\sqrt{2} \\pi$"
      ],
      "text/plain": [
       "<IPython.core.display.Math object>"
      ]
     },
     "metadata": {},
     "output_type": "display_data"
    }
   ],
   "source": [
    "disp(limit(Jfn, k_km = Infinity))"
   ]
  },
  {
   "cell_type": "code",
   "execution_count": 14,
   "metadata": {},
   "outputs": [
    {
     "data": {
      "image/png": "[encoded data removed]",
      "text/plain": [
       "Graphics object consisting of 1 graphics primitive"
      ]
     },
     "execution_count": 14,
     "metadata": {},
     "output_type": "execute_result"
    }
   ],
   "source": [
    "plot(Jfn, k_km, 0, 100)"
   ]
  },
  {
   "cell_type": "markdown",
   "metadata": {},
   "source": [
    "If $\\omega _{n_x,n_y} = c\\,\\sqrt{n_x^2\\frac{\\pi^2}{a^2}+n_y^2\\frac{\\pi^2}{a^2}+k_z^2}$ and $k_z^2 = u^2 \\frac{\\pi^2}{a^2}$ we have $\\omega _{n_x,n_y} = c \\, \\frac{\\pi}{a} \\sqrt{n_x^2+n_y^2+u^2}$ so $f\\left(\\frac{\\pi\\sqrt{n_x^2 + n_y^2+u^2}}{a\\,k_m}\\right) = f\\left(\\frac{\\omega _{n_x,n_y}}{c\\,k_m}\\right)$\n",
    "where the cutting frequency is\n",
    "$\\omega_m = c\\,k_m$"
   ]
  },
  {
   "cell_type": "markdown",
   "metadata": {},
   "source": [
    "Starting from"
   ]
  },
  {
   "cell_type": "code",
   "execution_count": 15,
   "metadata": {},
   "outputs": [
    {
     "data": {
      "text/latex": [
       "$\\displaystyle F\\left(u, n_x, n_y, a, k_m\\right) = \\sqrt{n_{x}^{2} + n_{y}^{2} + u^{2}} f\\left(\\frac{\\pi \\sqrt{n_{x}^{2} + n_{y}^{2} + u^{2}}}{a k_{m}}\\right)$"
      ],
      "text/plain": [
       "<IPython.core.display.Math object>"
      ]
     },
     "metadata": {},
     "output_type": "display_data"
    }
   ],
   "source": [
    "Fu = lambda u, n_x, n_y, a, k_m : sqrt(n_x^2 + n_y^2 + u^2)*f(k_km=pi*sqrt(n_x^2 + n_y^2 + u^2)/(a*k_m))\n",
    "display(Math(\"F\\\\left(u, n_x, n_y, a, k_m\\\\right) = \" + latex(Fu(u, n_x, n_y, a, k_m))))"
   ]
  },
  {
   "cell_type": "code",
   "execution_count": 16,
   "metadata": {},
   "outputs": [
    {
     "data": {
      "text/latex": [
       "$\\displaystyle F\\left(u, n_x, n_y, a, k_m\\right) = \\frac{\\sqrt{n_{x}^{2} + n_{y}^{2} + u^{2}}}{\\frac{\\pi^{4} {\\left(n_{x}^{2} + n_{y}^{2} + u^{2}\\right)}^{2}}{a^{4} k_{m}^{4}} + 1}$"
      ],
      "text/plain": [
       "<IPython.core.display.Math object>"
      ]
     },
     "metadata": {},
     "output_type": "display_data"
    }
   ],
   "source": [
    "Fn = lambda u, n_x, n_y, a, k_m : sqrt(n_x^2 + n_y^2 + u^2)*fn(k_km=pi*sqrt(n_x^2 + n_y^2 + u^2)/(a*k_m))\n",
    "display(Math(\"F\\\\left(u, n_x, n_y, a, k_m\\\\right) = \" + latex(Fn(u, n_x, n_y, a, k_m))))"
   ]
  },
  {
   "cell_type": "markdown",
   "metadata": {},
   "source": [
    "Introducing the variable \n",
    "\n",
    "$n_{xy} = \\sqrt{n_x^2 + n_y^2}$"
   ]
  },
  {
   "cell_type": "code",
   "execution_count": 17,
   "metadata": {},
   "outputs": [
    {
     "data": {
      "text/latex": [
       "$\\displaystyle F\\left(u, n_{xy}, ak_m\\right) = \\frac{\\sqrt{n_{\\mathit{xy}}^{2} + u^{2}}}{\\frac{\\pi^{4} {\\left(n_{\\mathit{xy}}^{2} + u^{2}\\right)}^{2}}{\\mathit{ak}_{m}^{4}} + 1}$"
      ],
      "text/plain": [
       "<IPython.core.display.Math object>"
      ]
     },
     "metadata": {},
     "output_type": "display_data"
    }
   ],
   "source": [
    "ak_m, n_xy = var(\"ak_m, n_xy\")\n",
    "assume(n_xy>0, ak_m > 1)\n",
    "\n",
    "Fnu = lambda u, n_xy, ak_m : sqrt(n_xy^2 + u^2)*fn(k_km=pi*sqrt(n_xy^2 + u^2)/(ak_m))\n",
    "display(Math(\"F\\\\left(u, n_{xy}, ak_m\\\\right) = \" + latex(Fnu(u, n_xy, ak_m))))"
   ]
  },
  {
   "cell_type": "markdown",
   "metadata": {},
   "source": [
    "we have\n",
    "\n",
    "$n = \\sqrt{n_x^2 + n_y^2 + u^2} = \\sqrt{n_{xy}^2 + u^2}$\n",
    "\n",
    "And using this variable we can make the following substitution\n",
    "\n",
    "$u = \\sqrt{n^2 - n_x^2 - n_y^2} = \\sqrt{n^2 - n_{xy}^2}$\n",
    "\n",
    "$\\frac{du}{dn} = \\frac{n}{\\sqrt{n^{2} - \\mathit{n_{xy}}^{2}}}$\n",
    "\n",
    "$d{u}= \\frac{n\\,d{n}}{\\sqrt{n^{2} - \\mathit{n_{xy}}^{2}}}$"
   ]
  },
  {
   "cell_type": "markdown",
   "metadata": {},
   "source": [
    "And now we can rewrite our integral"
   ]
  },
  {
   "cell_type": "markdown",
   "metadata": {},
   "source": [
    "\\begin{equation}\n",
    "G\\left(n_x, n_y\\right) = \\int\\limits_{0}^{\\infty}\\sqrt{n_x^2 + n_y^2+u^2}\\,\n",
    "f\\left(\\frac{\\pi\\sqrt{n_x^2 + n_y^2+u^2}}{a\\,k_m}\\right)\\,d{u}, \n",
    "\\end{equation}\n",
    "changing integration variable from $u$ into $n$"
   ]
  },
  {
   "cell_type": "markdown",
   "metadata": {},
   "source": [
    "\\begin{equation}\n",
    "G\\left(n_x, n_y\\right) = \\int\\limits_{\\sqrt{n_x^2 + n_y^2}}^{\\infty}\\sqrt{n_x^2 + n_y^2+u^2}\\,\n",
    "f\\left(\\frac{\\pi\\sqrt{n_x^2 + n_y^2+u^2}}{a\\,k_m}\\right)\\,dn{\\frac{n}{\\sqrt{n^{2} - n_{x}^{2} - n_{y}^{2}}}}\n",
    "\\end{equation}"
   ]
  },
  {
   "cell_type": "markdown",
   "metadata": {},
   "source": [
    "\\begin{equation}\n",
    "G\\left(n_x, n_y\\right) = \\int\\limits_{n_{xy}}^{\\infty}n\\,\n",
    "f\\left(\\frac{\\pi\\,n}{a\\,k_m}\\right)\\,dn{\\frac{n}{\\sqrt{n^{2} - n_{xy}^{2}}}}\n",
    "\\end{equation}"
   ]
  },
  {
   "cell_type": "markdown",
   "metadata": {},
   "source": [
    "Because in this form that integral can be taken analitically. So we have the following integrand:"
   ]
  },
  {
   "cell_type": "code",
   "execution_count": 18,
   "metadata": {},
   "outputs": [
    {
     "data": {
      "text/latex": [
       "$\\displaystyle F\\left(n, n_{xy}, ak_m\\right) = \\frac{n^{2}}{{\\left(\\frac{\\pi^{4} n^{4}}{\\mathit{ak}_{m}^{4}} + 1\\right)} \\sqrt{n^{2} - n_{\\mathit{xy}}^{2}}}$"
      ],
      "text/plain": [
       "<IPython.core.display.Math object>"
      ]
     },
     "metadata": {},
     "output_type": "display_data"
    },
    {
     "name": "stdout",
     "output_type": "stream",
     "text": [
      "F\\left(n, n_{xy}, ak_m\\right) = \\frac{n^{2}}{{\\left(\\frac{\\pi^{4} n^{4}}{\\mathit{ak}_{m}^{4}} + 1\\right)} \\sqrt{n^{2} - n_{\\mathit{xy}}^{2}}}\n"
     ]
    }
   ],
   "source": [
    "ak_m, n = var(\"ak_m, n\")\n",
    "assume(n > 0, ak_m > 1)\n",
    "\n",
    "Fnn = lambda n, n_xy, ak_m : n^2*fn(k_km=pi*n/(ak_m))/sqrt(n^2-n_xy^2)\n",
    "display(Math(\"F\\\\left(n, n_{xy}, ak_m\\\\right) = \" + latex(Fnn(n, n_xy, ak_m))))\n",
    "print(\"F\\\\left(n, n_{xy}, ak_m\\\\right) = \" + latex(Fnn(n, n_xy, ak_m)))"
   ]
  },
  {
   "cell_type": "markdown",
   "metadata": {},
   "source": [
    "$$F\\left(n, n_{xy}, ak_m\\right) = \\frac{n^{2}}{{\\left(\\frac{\\pi^{4} n^{4}}{\\mathit{ak}_{m}^{4}} + 1\\right)} \\sqrt{n^{2} - n_{\\mathit{xy}}^{2}}}$$"
   ]
  },
  {
   "cell_type": "markdown",
   "metadata": {},
   "source": [
    "and the following limits of integration by $n$: $n_a = n_{xy}$, $n_b = \\infty$"
   ]
  },
  {
   "cell_type": "code",
   "execution_count": 19,
   "metadata": {},
   "outputs": [],
   "source": [
    "n_a = n_xy\n",
    "n_b = Infinity"
   ]
  },
  {
   "cell_type": "markdown",
   "metadata": {},
   "source": [
    "Lets use Abel substitution:\n",
    "\n",
    "$$t = \\left(\\sqrt{n^2-n_{xy}^2}\\right)'$$"
   ]
  },
  {
   "cell_type": "code",
   "execution_count": 20,
   "metadata": {},
   "outputs": [
    {
     "data": {
      "text/latex": [
       "$\\displaystyle t = \\frac{n}{\\sqrt{n^{2} - n_{\\mathit{xy}}^{2}}}$"
      ],
      "text/plain": [
       "<IPython.core.display.Math object>"
      ]
     },
     "metadata": {},
     "output_type": "display_data"
    },
    {
     "data": {
      "text/plain": [
       "t = \\frac{n}{\\sqrt{n^{2} - n_{\\mathit{xy}}^{2}}}"
      ]
     },
     "execution_count": 20,
     "metadata": {},
     "output_type": "execute_result"
    }
   ],
   "source": [
    "t = var(\"t\")\n",
    "exec(preparse(\"abel_subs_t = t == \" + str(sqrt(n^2-n_xy^2).diff(n))))\n",
    "disp(abel_subs_t)\n",
    "latex(abel_subs_t)"
   ]
  },
  {
   "cell_type": "markdown",
   "metadata": {},
   "source": [
    "$$t = \\frac{n}{\\sqrt{n^{2} - n_{\\mathit{xy}}^{2}}}$$"
   ]
  },
  {
   "cell_type": "markdown",
   "metadata": {},
   "source": [
    "and the following limits of integration by $t$: $t_a = +\\infty$, $t_b = +1$"
   ]
  },
  {
   "cell_type": "code",
   "execution_count": 21,
   "metadata": {},
   "outputs": [
    {
     "data": {
      "text/plain": [
       "limit(n/sqrt(n^2 - n_xy^2), n, n_xy)"
      ]
     },
     "execution_count": 21,
     "metadata": {},
     "output_type": "execute_result"
    }
   ],
   "source": [
    "t_a = limit(abel_subs_t.rhs(), n = n_a)\n",
    "t_a"
   ]
  },
  {
   "cell_type": "code",
   "execution_count": 22,
   "metadata": {},
   "outputs": [
    {
     "data": {
      "image/png": "[encoded data removed]",
      "text/plain": [
       "Graphics object consisting of 1 graphics primitive"
      ]
     },
     "execution_count": 22,
     "metadata": {},
     "output_type": "execute_result"
    }
   ],
   "source": [
    "plot(abel_subs_t.rhs().subs(n_xy = 2), n, 2.01, 3)"
   ]
  },
  {
   "cell_type": "code",
   "execution_count": 23,
   "metadata": {},
   "outputs": [],
   "source": [
    "t_a = +Infinity"
   ]
  },
  {
   "cell_type": "code",
   "execution_count": 24,
   "metadata": {},
   "outputs": [
    {
     "data": {
      "text/plain": [
       "1"
      ]
     },
     "execution_count": 24,
     "metadata": {},
     "output_type": "execute_result"
    }
   ],
   "source": [
    "t_b = limit(abel_subs_t.rhs(), n = n_b)\n",
    "t_b"
   ]
  },
  {
   "cell_type": "markdown",
   "metadata": {},
   "source": [
    "Let's write dependency of $n$ from $t$"
   ]
  },
  {
   "cell_type": "code",
   "execution_count": 25,
   "metadata": {},
   "outputs": [
    {
     "data": {
      "text/latex": [
       "$\\displaystyle n^{2} = \\frac{n_{\\mathit{xy}}^{2} t^{2}}{t^{2} - 1}$"
      ],
      "text/plain": [
       "<IPython.core.display.Math object>"
      ]
     },
     "metadata": {},
     "output_type": "display_data"
    },
    {
     "data": {
      "text/plain": [
       "n^{2} = \\frac{n_{\\mathit{xy}}^{2} t^{2}}{t^{2} - 1}"
      ]
     },
     "execution_count": 25,
     "metadata": {},
     "output_type": "execute_result"
    }
   ],
   "source": [
    "abel_subs_n = abel_subs_t.solve(n)[0]\n",
    "abel_subs_n2 = abel_subs_n.lhs()^2 == abel_subs_n.rhs()^2\n",
    "abel_subs_n2_solve_n2 = abel_subs_n2.solve(n^2)[0]\n",
    "disp(abel_subs_n2_solve_n2)\n",
    "latex(abel_subs_n2_solve_n2)"
   ]
  },
  {
   "cell_type": "markdown",
   "metadata": {},
   "source": [
    "$$n^{2} = \\frac{n_{\\mathit{xy}}^{2} t^{2}}{t^{2} - 1}$$"
   ]
  },
  {
   "cell_type": "code",
   "execution_count": 26,
   "metadata": {},
   "outputs": [
    {
     "data": {
      "text/latex": [
       "$\\displaystyle n = n_{\\mathit{xy}} \\sqrt{\\frac{t^{2}}{t^{2} - 1}}$"
      ],
      "text/plain": [
       "<IPython.core.display.Math object>"
      ]
     },
     "metadata": {},
     "output_type": "display_data"
    },
    {
     "data": {
      "text/plain": [
       "n = n_{\\mathit{xy}} \\sqrt{\\frac{t^{2}}{t^{2} - 1}}"
      ]
     },
     "execution_count": 26,
     "metadata": {},
     "output_type": "execute_result"
    }
   ],
   "source": [
    "abel_subs_n2_solve_n1 = (abel_subs_n2_solve_n2.lhs()^(1/2)) == abel_subs_n2_solve_n2.rhs()^(1/2)\n",
    "disp(abel_subs_n2_solve_n1)\n",
    "latex(abel_subs_n2_solve_n1)"
   ]
  },
  {
   "cell_type": "markdown",
   "metadata": {},
   "source": [
    "$$n = n_{\\mathit{xy}} \\sqrt{\\frac{t^{2}}{t^{2} - 1}}$$"
   ]
  },
  {
   "cell_type": "code",
   "execution_count": 27,
   "metadata": {},
   "outputs": [
    {
     "data": {
      "text/latex": [
       "$\\displaystyle n^{4} = \\frac{n_{\\mathit{xy}}^{4} t^{4}}{{\\left(t^{2} - 1\\right)}^{2}}$"
      ],
      "text/plain": [
       "<IPython.core.display.Math object>"
      ]
     },
     "metadata": {},
     "output_type": "display_data"
    }
   ],
   "source": [
    "abel_subs_n2_solve_n4 = abel_subs_n2_solve_n2.lhs()^2 == abel_subs_n2_solve_n2.rhs()^2\n",
    "disp(abel_subs_n2_solve_n4)"
   ]
  },
  {
   "cell_type": "markdown",
   "metadata": {},
   "source": [
    "and derivatives:"
   ]
  },
  {
   "cell_type": "code",
   "execution_count": 28,
   "metadata": {},
   "outputs": [
    {
     "data": {
      "text/latex": [
       "$\\displaystyle \\frac{dt}{dn} = \\frac{d}{dn} \\left( \\frac{n}{\\sqrt{n^{2} - n_{\\mathit{xy}}^{2}}} \\right)= -\\frac{n^{2}}{{\\left(n^{2} - n_{\\mathit{xy}}^{2}\\right)}^{\\frac{3}{2}}} + \\frac{1}{\\sqrt{n^{2} - n_{\\mathit{xy}}^{2}}}$"
      ],
      "text/plain": [
       "<IPython.core.display.Math object>"
      ]
     },
     "metadata": {},
     "output_type": "display_data"
    },
    {
     "name": "stdout",
     "output_type": "stream",
     "text": [
      "\\frac{dt}{dn} = \\frac{d}{dn} \\left( \\frac{n}{\\sqrt{n^{2} - n_{\\mathit{xy}}^{2}}} \\right)= -\\frac{n^{2}}{{\\left(n^{2} - n_{\\mathit{xy}}^{2}\\right)}^{\\frac{3}{2}}} + \\frac{1}{\\sqrt{n^{2} - n_{\\mathit{xy}}^{2}}}\n"
     ]
    }
   ],
   "source": [
    "dtdn = abel_subs_t.rhs().diff(n)\n",
    "display(Math(\"\\\\frac{dt}{dn} = \\\\frac{d}{dn} \\\\left(\" + latex(abel_subs_t.rhs()) + \" \\\\right)=\" + latex(dtdn)))\n",
    "print(\"\\\\frac{dt}{dn} = \\\\frac{d}{dn} \\\\left(\" + latex(abel_subs_t.rhs()) + \" \\\\right)=\" + latex(dtdn))"
   ]
  },
  {
   "cell_type": "markdown",
   "metadata": {},
   "source": [
    "$$\\frac{dt}{dn} = \\frac{d}{dn} \\left( \\frac{n}{\\sqrt{n^{2} - n_{\\mathit{xy}}^{2}}} \\right)= -\\frac{n^{2}}{{\\left(n^{2} - n_{\\mathit{xy}}^{2}\\right)}^{\\frac{3}{2}}} + \\frac{1}{\\sqrt{n^{2} - n_{\\mathit{xy}}^{2}}}$$"
   ]
  },
  {
   "cell_type": "code",
   "execution_count": 29,
   "metadata": {},
   "outputs": [
    {
     "data": {
      "text/latex": [
       "$\\displaystyle \\frac{dn}{dt} = -\\frac{n^{4} - 2 \\, n^{2} n_{\\mathit{xy}}^{2} + n_{\\mathit{xy}}^{4}}{\\sqrt{n^{2} - n_{\\mathit{xy}}^{2}} n_{\\mathit{xy}}^{2}}$"
      ],
      "text/plain": [
       "<IPython.core.display.Math object>"
      ]
     },
     "metadata": {},
     "output_type": "display_data"
    },
    {
     "name": "stdout",
     "output_type": "stream",
     "text": [
      "\\frac{dn}{dt} = -\\frac{n^{4} - 2 \\, n^{2} n_{\\mathit{xy}}^{2} + n_{\\mathit{xy}}^{4}}{\\sqrt{n^{2} - n_{\\mathit{xy}}^{2}} n_{\\mathit{xy}}^{2}}\n"
     ]
    }
   ],
   "source": [
    "dndt = (1/dtdn).full_simplify()\n",
    "display(Math(\"\\\\frac{dn}{dt} = \" + latex(dndt)))\n",
    "print(\"\\\\frac{dn}{dt} = \" + latex(dndt))"
   ]
  },
  {
   "cell_type": "markdown",
   "metadata": {},
   "source": [
    "$$\\frac{dn}{dt} = -\\frac{n^{4} - 2 \\, n^{2} n_{\\mathit{xy}}^{2} + n_{\\mathit{xy}}^{4}}{\\sqrt{n^{2} - n_{\\mathit{xy}}^{2}} n_{\\mathit{xy}}^{2}}$$"
   ]
  },
  {
   "cell_type": "markdown",
   "metadata": {},
   "source": [
    "Now we can rewrite the integrand making it depending from $t$"
   ]
  },
  {
   "cell_type": "code",
   "execution_count": 30,
   "metadata": {},
   "outputs": [
    {
     "data": {
      "text/latex": [
       "$\\displaystyle F\\left(t, n_{xy}, ak_m\\right) = F\\left(n, n_{xy}, ak_m\\right) \\cdot \\frac{dn}{dt} \\, \\Bigg\\rvert_{ n = n_{\\mathit{xy}} \\sqrt{\\frac{t^{2}}{t^{2} - 1}} }$"
      ],
      "text/plain": [
       "<IPython.core.display.Math object>"
      ]
     },
     "metadata": {},
     "output_type": "display_data"
    },
    {
     "name": "stdout",
     "output_type": "stream",
     "text": [
      "F\\left(t, n_{xy}, ak_m\\right) = F\\left(n, n_{xy}, ak_m\\right) \\cdot \\frac{dn}{dt} \\, \\Bigg\\rvert_{ n = n_{\\mathit{xy}} \\sqrt{\\frac{t^{2}}{t^{2} - 1}} }\n"
     ]
    },
    {
     "data": {
      "text/latex": [
       "$\\displaystyle F\\left(n, n_{xy}, ak_m\\right) \\cdot \\frac{dn}{dt} = -\\frac{{\\left(n^{4} - 2 \\, n^{2} n_{\\mathit{xy}}^{2} + n_{\\mathit{xy}}^{4}\\right)} n^{2}}{{\\left(\\frac{\\pi^{4} n^{4}}{\\mathit{ak}_{m}^{4}} + 1\\right)} {\\left(n^{2} - n_{\\mathit{xy}}^{2}\\right)} n_{\\mathit{xy}}^{2}}$"
      ],
      "text/plain": [
       "<IPython.core.display.Math object>"
      ]
     },
     "metadata": {},
     "output_type": "display_data"
    },
    {
     "name": "stdout",
     "output_type": "stream",
     "text": [
      "F\\left(n, n_{xy}, ak_m\\right) \\cdot \\frac{dn}{dt} = -\\frac{{\\left(n^{4} - 2 \\, n^{2} n_{\\mathit{xy}}^{2} + n_{\\mathit{xy}}^{4}\\right)} n^{2}}{{\\left(\\frac{\\pi^{4} n^{4}}{\\mathit{ak}_{m}^{4}} + 1\\right)} {\\left(n^{2} - n_{\\mathit{xy}}^{2}\\right)} n_{\\mathit{xy}}^{2}}\n"
     ]
    },
    {
     "data": {
      "text/latex": [
       "$\\displaystyle F\\left(t, n_{xy}, ak_m\\right) = -\\frac{{\\left(\\frac{n_{\\mathit{xy}}^{4} t^{4}}{{\\left(t^{2} - 1\\right)}^{2}} - \\frac{2 \\, n_{\\mathit{xy}}^{4} t^{2}}{t^{2} - 1} + n_{\\mathit{xy}}^{4}\\right)} t^{2}}{{\\left(\\frac{\\pi^{4} n_{\\mathit{xy}}^{4} t^{4}}{{\\left(t^{2} - 1\\right)}^{2} \\mathit{ak}_{m}^{4}} + 1\\right)} {\\left(\\frac{n_{\\mathit{xy}}^{2} t^{2}}{t^{2} - 1} - n_{\\mathit{xy}}^{2}\\right)} {\\left(t^{2} - 1\\right)}}$"
      ],
      "text/plain": [
       "<IPython.core.display.Math object>"
      ]
     },
     "metadata": {},
     "output_type": "display_data"
    },
    {
     "name": "stdout",
     "output_type": "stream",
     "text": [
      "F\\left(t, n_{xy}, ak_m\\right) = -\\frac{{\\left(\\frac{n_{\\mathit{xy}}^{4} t^{4}}{{\\left(t^{2} - 1\\right)}^{2}} - \\frac{2 \\, n_{\\mathit{xy}}^{4} t^{2}}{t^{2} - 1} + n_{\\mathit{xy}}^{4}\\right)} t^{2}}{{\\left(\\frac{\\pi^{4} n_{\\mathit{xy}}^{4} t^{4}}{{\\left(t^{2} - 1\\right)}^{2} \\mathit{ak}_{m}^{4}} + 1\\right)} {\\left(\\frac{n_{\\mathit{xy}}^{2} t^{2}}{t^{2} - 1} - n_{\\mathit{xy}}^{2}\\right)} {\\left(t^{2} - 1\\right)}}\n"
     ]
    },
    {
     "data": {
      "text/latex": [
       "$\\displaystyle F\\left(t, n_{xy}, ak_m\\right) = \\frac{\\mathit{ak}_{m}^{4} n_{\\mathit{xy}}^{2} t^{2}}{2 \\, \\mathit{ak}_{m}^{4} t^{2} - {\\left(\\pi^{4} n_{\\mathit{xy}}^{4} + \\mathit{ak}_{m}^{4}\\right)} t^{4} - \\mathit{ak}_{m}^{4}}$"
      ],
      "text/plain": [
       "<IPython.core.display.Math object>"
      ]
     },
     "metadata": {},
     "output_type": "display_data"
    },
    {
     "name": "stdout",
     "output_type": "stream",
     "text": [
      "F\\left(t, n_{xy}, ak_m\\right) = \\frac{\\mathit{ak}_{m}^{4} n_{\\mathit{xy}}^{2} t^{2}}{2 \\, \\mathit{ak}_{m}^{4} t^{2} - {\\left(\\pi^{4} n_{\\mathit{xy}}^{4} + \\mathit{ak}_{m}^{4}\\right)} t^{4} - \\mathit{ak}_{m}^{4}}\n"
     ]
    }
   ],
   "source": [
    "display(Math(\"F\\\\left(t, n_{xy}, ak_m\\\\right) = F\\\\left(n, n_{xy}, ak_m\\\\right) \\\\cdot \\\\frac{dn}{dt} \\\\, \\\\Bigg\\\\rvert_{\" + latex(abel_subs_n2_solve_n1) + \"}\"))\n",
    "print(\"F\\\\left(t, n_{xy}, ak_m\\\\right) = F\\\\left(n, n_{xy}, ak_m\\\\right) \\\\cdot \\\\frac{dn}{dt} \\\\, \\\\Bigg\\\\rvert_{\" + latex(abel_subs_n2_solve_n1) + \"}\")\n",
    "\n",
    "integrand_tn = Fnn(n, n_xy, ak_m)*dndt\n",
    "display(Math(\"F\\\\left(n, n_{xy}, ak_m\\\\right) \\\\cdot \\\\frac{dn}{dt} = \" + latex(integrand_tn)))\n",
    "print(\"F\\\\left(n, n_{xy}, ak_m\\\\right) \\\\cdot \\\\frac{dn}{dt} = \" + latex(integrand_tn))\n",
    "\n",
    "integrand_t = integrand_tn.subs(abel_subs_n2_solve_n2).subs(abel_subs_n2_solve_n4)\n",
    "display(Math(\"F\\\\left(t, n_{xy}, ak_m\\\\right) = \" + latex(integrand_t)))\n",
    "print(\"F\\\\left(t, n_{xy}, ak_m\\\\right) = \" + latex(integrand_t))\n",
    "\n",
    "integrand_t = integrand_t.full_simplify()\n",
    "display(Math(\"F\\\\left(t, n_{xy}, ak_m\\\\right) = \" + latex(integrand_t)))\n",
    "print(\"F\\\\left(t, n_{xy}, ak_m\\\\right) = \" + latex(integrand_t))"
   ]
  },
  {
   "cell_type": "markdown",
   "metadata": {},
   "source": [
    "$$F\\left(t, n_{xy}, ak_m\\right) = F\\left(n, n_{xy}, ak_m\\right) \\cdot \\frac{dn}{dt} \\, \\Bigg\\rvert_{ n = n_{\\mathit{xy}} \\sqrt{\\frac{t^{2}}{t^{2} - 1}} }$$\n",
    "\n",
    "$$F\\left(n, n_{xy}, ak_m\\right) \\cdot \\frac{dn}{dt} = -\\frac{{\\left(n^{4} - 2 \\, n^{2} n_{\\mathit{xy}}^{2} + n_{\\mathit{xy}}^{4}\\right)} n^{2}}{{\\left(\\frac{\\pi^{4} n^{4}}{\\mathit{ak}_{m}^{4}} + 1\\right)} {\\left(n^{2} - n_{\\mathit{xy}}^{2}\\right)} n_{\\mathit{xy}}^{2}}$$\n",
    "\n",
    "$$F\\left(t, n_{xy}, ak_m\\right) = -\\frac{{\\left(\\frac{n_{\\mathit{xy}}^{4} t^{4}}{{\\left(t^{2} - 1\\right)}^{2}} - \\frac{2 \\, n_{\\mathit{xy}}^{4} t^{2}}{t^{2} - 1} + n_{\\mathit{xy}}^{4}\\right)} t^{2}}{{\\left(\\frac{\\pi^{4} n_{\\mathit{xy}}^{4} t^{4}}{{\\left(t^{2} - 1\\right)}^{2} \\mathit{ak}_{m}^{4}} + 1\\right)} {\\left(\\frac{n_{\\mathit{xy}}^{2} t^{2}}{t^{2} - 1} - n_{\\mathit{xy}}^{2}\\right)} {\\left(t^{2} - 1\\right)}}$$\n",
    "\n",
    "$$F\\left(t, n_{xy}, ak_m\\right) = \\frac{\\mathit{ak}_{m}^{4} n_{\\mathit{xy}}^{2} t^{2}}{2 \\, \\mathit{ak}_{m}^{4} t^{2} - {\\left(\\pi^{4} n_{\\mathit{xy}}^{4} + \\mathit{ak}_{m}^{4}\\right)} t^{4} - \\mathit{ak}_{m}^{4}}$$"
   ]
  },
  {
   "cell_type": "markdown",
   "metadata": {},
   "source": [
    "Numerator is:"
   ]
  },
  {
   "cell_type": "code",
   "execution_count": 31,
   "metadata": {},
   "outputs": [
    {
     "data": {
      "text/latex": [
       "$\\displaystyle -\\mathit{ak}_{m}^{4} n_{\\mathit{xy}}^{2} t^{2}$"
      ],
      "text/plain": [
       "<IPython.core.display.Math object>"
      ]
     },
     "metadata": {},
     "output_type": "display_data"
    }
   ],
   "source": [
    "integrand_t_num = integrand_t.numerator()\n",
    "disp(integrand_t_num)"
   ]
  },
  {
   "cell_type": "markdown",
   "metadata": {},
   "source": [
    "denominator is:"
   ]
  },
  {
   "cell_type": "code",
   "execution_count": 32,
   "metadata": {},
   "outputs": [
    {
     "data": {
      "text/latex": [
       "$\\displaystyle -2 \\, \\mathit{ak}_{m}^{4} t^{2} + {\\left(\\pi^{4} n_{\\mathit{xy}}^{4} + \\mathit{ak}_{m}^{4}\\right)} t^{4} + \\mathit{ak}_{m}^{4}$"
      ],
      "text/plain": [
       "<IPython.core.display.Math object>"
      ]
     },
     "metadata": {},
     "output_type": "display_data"
    }
   ],
   "source": [
    "integrand_t_den = integrand_t.denominator().collect(t^4)\n",
    "disp(integrand_t_den)"
   ]
  },
  {
   "cell_type": "markdown",
   "metadata": {},
   "source": [
    "Let's extract coefficient near $t^4$ from the denominator"
   ]
  },
  {
   "cell_type": "code",
   "execution_count": 33,
   "metadata": {},
   "outputs": [
    {
     "data": {
      "text/latex": [
       "$\\displaystyle \\pi^{4} n_{\\mathit{xy}}^{4} + \\mathit{ak}_{m}^{4}$"
      ],
      "text/plain": [
       "<IPython.core.display.Math object>"
      ]
     },
     "metadata": {},
     "output_type": "display_data"
    }
   ],
   "source": [
    "integrand_t_den_coef_t4 = integrand_t_den.coefficient(t,4)\n",
    "disp(integrand_t_den_coef_t4)"
   ]
  },
  {
   "cell_type": "markdown",
   "metadata": {},
   "source": [
    "Now let's move the above coefficient up to the numerator. So new numerator will be:"
   ]
  },
  {
   "cell_type": "code",
   "execution_count": 34,
   "metadata": {},
   "outputs": [
    {
     "data": {
      "text/latex": [
       "$\\displaystyle -\\frac{\\mathit{ak}_{m}^{4} n_{\\mathit{xy}}^{2} t^{2}}{\\pi^{4} n_{\\mathit{xy}}^{4} + \\mathit{ak}_{m}^{4}}$"
      ],
      "text/plain": [
       "<IPython.core.display.Math object>"
      ]
     },
     "metadata": {},
     "output_type": "display_data"
    },
    {
     "name": "stdout",
     "output_type": "stream",
     "text": [
      "-\\frac{\\mathit{ak}_{m}^{4} n_{\\mathit{xy}}^{2} t^{2}}{\\pi^{4} n_{\\mathit{xy}}^{4} + \\mathit{ak}_{m}^{4}}\n"
     ]
    }
   ],
   "source": [
    "integrand_t_num2 = integrand_t_num / integrand_t_den_coef_t4\n",
    "disp(integrand_t_num2)\n",
    "print(latex(integrand_t_num2))"
   ]
  },
  {
   "cell_type": "markdown",
   "metadata": {},
   "source": [
    "$$-\\frac{\\mathit{ak}_{m}^{4} n_{\\mathit{xy}}^{2} t^{2}}{\\pi^{4} n_{\\mathit{xy}}^{4} + \\mathit{ak}_{m}^{4}}$$"
   ]
  },
  {
   "cell_type": "markdown",
   "metadata": {},
   "source": [
    "And so new denominator will be:"
   ]
  },
  {
   "cell_type": "code",
   "execution_count": 35,
   "metadata": {},
   "outputs": [
    {
     "data": {
      "text/latex": [
       "$\\displaystyle -\\frac{2 \\, \\mathit{ak}_{m}^{4} t^{2}}{\\pi^{4} n_{\\mathit{xy}}^{4} + \\mathit{ak}_{m}^{4}} + {\\left(\\frac{\\pi^{4} n_{\\mathit{xy}}^{4}}{\\pi^{4} n_{\\mathit{xy}}^{4} + \\mathit{ak}_{m}^{4}} + \\frac{\\mathit{ak}_{m}^{4}}{\\pi^{4} n_{\\mathit{xy}}^{4} + \\mathit{ak}_{m}^{4}}\\right)} t^{4} + \\frac{\\mathit{ak}_{m}^{4}}{\\pi^{4} n_{\\mathit{xy}}^{4} + \\mathit{ak}_{m}^{4}}$"
      ],
      "text/plain": [
       "<IPython.core.display.Math object>"
      ]
     },
     "metadata": {},
     "output_type": "display_data"
    },
    {
     "name": "stdout",
     "output_type": "stream",
     "text": [
      "-\\frac{2 \\, \\mathit{ak}_{m}^{4} t^{2}}{\\pi^{4} n_{\\mathit{xy}}^{4} + \\mathit{ak}_{m}^{4}} + {\\left(\\frac{\\pi^{4} n_{\\mathit{xy}}^{4}}{\\pi^{4} n_{\\mathit{xy}}^{4} + \\mathit{ak}_{m}^{4}} + \\frac{\\mathit{ak}_{m}^{4}}{\\pi^{4} n_{\\mathit{xy}}^{4} + \\mathit{ak}_{m}^{4}}\\right)} t^{4} + \\frac{\\mathit{ak}_{m}^{4}}{\\pi^{4} n_{\\mathit{xy}}^{4} + \\mathit{ak}_{m}^{4}}\n"
     ]
    }
   ],
   "source": [
    "integrand_t_den2 = (integrand_t_den/integrand_t_den_coef_t4).expand().collect(t^4)\n",
    "disp(integrand_t_den2)\n",
    "print(latex(integrand_t_den2))"
   ]
  },
  {
   "cell_type": "markdown",
   "metadata": {},
   "source": [
    "$$-\\frac{2 \\, \\mathit{ak}_{m}^{4} t^{2}}{\\pi^{4} n_{\\mathit{xy}}^{4} + \\mathit{ak}_{m}^{4}} + {\\left(\\frac{\\pi^{4} n_{\\mathit{xy}}^{4}}{\\pi^{4} n_{\\mathit{xy}}^{4} + \\mathit{ak}_{m}^{4}} + \\frac{\\mathit{ak}_{m}^{4}}{\\pi^{4} n_{\\mathit{xy}}^{4} + \\mathit{ak}_{m}^{4}}\\right)} t^{4} + \\frac{\\mathit{ak}_{m}^{4}}{\\pi^{4} n_{\\mathit{xy}}^{4} + \\mathit{ak}_{m}^{4}}$$"
   ]
  },
  {
   "cell_type": "code",
   "execution_count": 36,
   "metadata": {
    "scrolled": true
   },
   "outputs": [
    {
     "data": {
      "text/latex": [
       "$\\displaystyle -\\frac{2 \\, \\mathit{ak}_{m}^{4} t^{2}}{\\pi^{4} n_{\\mathit{xy}}^{4} + \\mathit{ak}_{m}^{4}} + t^{4} + \\frac{\\mathit{ak}_{m}^{4}}{\\pi^{4} n_{\\mathit{xy}}^{4} + \\mathit{ak}_{m}^{4}}$"
      ],
      "text/plain": [
       "<IPython.core.display.Math object>"
      ]
     },
     "metadata": {},
     "output_type": "display_data"
    },
    {
     "name": "stdout",
     "output_type": "stream",
     "text": [
      "-\\frac{2 \\, \\mathit{ak}_{m}^{4} t^{2}}{\\pi^{4} n_{\\mathit{xy}}^{4} + \\mathit{ak}_{m}^{4}} + t^{4} + \\frac{\\mathit{ak}_{m}^{4}}{\\pi^{4} n_{\\mathit{xy}}^{4} + \\mathit{ak}_{m}^{4}}\n"
     ]
    }
   ],
   "source": [
    "integrand_t_den_2 = 0\n",
    "for c, pw in integrand_t_den2.coefficients(t):\n",
    "    integrand_t_den_2 += c.full_simplify() * t^pw\n",
    "disp(integrand_t_den_2)\n",
    "print(latex(integrand_t_den_2))"
   ]
  },
  {
   "cell_type": "markdown",
   "metadata": {},
   "source": [
    "$$-\\frac{2 \\, \\mathit{ak}_{m}^{4} t^{2}}{\\pi^{4} n_{\\mathit{xy}}^{4} + \\mathit{ak}_{m}^{4}} + t^{4} + \\frac{\\mathit{ak}_{m}^{4}}{\\pi^{4} n_{\\mathit{xy}}^{4} + \\mathit{ak}_{m}^{4}}$$"
   ]
  },
  {
   "cell_type": "markdown",
   "metadata": {},
   "source": [
    "Now we should convert this denominator into the following form:"
   ]
  },
  {
   "cell_type": "code",
   "execution_count": 37,
   "metadata": {},
   "outputs": [
    {
     "data": {
      "text/latex": [
       "$\\displaystyle -{\\left(\\alpha_{1} t + t^{2} + \\beta_{1}\\right)} {\\left(\\alpha_{1} t - t^{2} - \\beta_{1}\\right)}$"
      ],
      "text/plain": [
       "<IPython.core.display.Math object>"
      ]
     },
     "metadata": {},
     "output_type": "display_data"
    },
    {
     "name": "stdout",
     "output_type": "stream",
     "text": [
      "-{\\left(\\alpha_{1} t + t^{2} + \\beta_{1}\\right)} {\\left(\\alpha_{1} t - t^{2} - \\beta_{1}\\right)}\n"
     ]
    },
    {
     "data": {
      "text/latex": [
       "$\\displaystyle t^{4} - {\\left(\\alpha_{1}^{2} - 2 \\, \\beta_{1}\\right)} t^{2} + \\beta_{1}^{2}$"
      ],
      "text/plain": [
       "<IPython.core.display.Math object>"
      ]
     },
     "metadata": {},
     "output_type": "display_data"
    },
    {
     "name": "stdout",
     "output_type": "stream",
     "text": [
      "t^{4} - {\\left(\\alpha_{1}^{2} - 2 \\, \\beta_{1}\\right)} t^{2} + \\beta_{1}^{2}\n"
     ]
    }
   ],
   "source": [
    "alpha_1, beta_1 = var(\"alpha_1, beta_1\")\n",
    "integrand_t_den_alpha_beta = (t^2+alpha_1*t+beta_1)*(t^2-alpha_1*t+beta_1)\n",
    "disp(integrand_t_den_alpha_beta)\n",
    "print(latex(integrand_t_den_alpha_beta))\n",
    "\n",
    "integrand_t_den_alpha_beta_expanded = integrand_t_den_alpha_beta.expand().collect(t^3).collect(t^2).collect(t)\n",
    "disp(integrand_t_den_alpha_beta_expanded)\n",
    "print(latex(integrand_t_den_alpha_beta_expanded))"
   ]
  },
  {
   "cell_type": "markdown",
   "metadata": {},
   "source": [
    "$$-{\\left(\\alpha_{1} t + t^{2} + \\beta_{1}\\right)} {\\left(\\alpha_{1} t - t^{2} - \\beta_{1}\\right)}$$\n",
    "\n",
    "$$t^{4} - {\\left(\\alpha_{1}^{2} - 2 \\, \\beta_{1}\\right)} t^{2} + \\beta_{1}^{2}$$"
   ]
  },
  {
   "cell_type": "markdown",
   "metadata": {},
   "source": [
    "Begin:"
   ]
  },
  {
   "cell_type": "code",
   "execution_count": 38,
   "metadata": {},
   "outputs": [
    {
     "data": {
      "text/latex": [
       "$\\displaystyle -\\frac{2 \\, \\mathit{ak}_{m}^{4} t^{2}}{\\pi^{4} n_{\\mathit{xy}}^{4} + \\mathit{ak}_{m}^{4}} + t^{4} + \\frac{\\mathit{ak}_{m}^{4}}{\\pi^{4} n_{\\mathit{xy}}^{4} + \\mathit{ak}_{m}^{4}} = t^{4} - {\\left(\\alpha_{1}^{2} - 2 \\, \\beta_{1}\\right)} t^{2} + \\beta_{1}^{2}$"
      ],
      "text/plain": [
       "<IPython.core.display.Math object>"
      ]
     },
     "metadata": {},
     "output_type": "display_data"
    },
    {
     "name": "stdout",
     "output_type": "stream",
     "text": [
      "-\\frac{2 \\, \\mathit{ak}_{m}^{4} t^{2}}{\\pi^{4} n_{\\mathit{xy}}^{4} + \\mathit{ak}_{m}^{4}} + t^{4} + \\frac{\\mathit{ak}_{m}^{4}}{\\pi^{4} n_{\\mathit{xy}}^{4} + \\mathit{ak}_{m}^{4}} = t^{4} - {\\left(\\alpha_{1}^{2} - 2 \\, \\beta_{1}\\right)} t^{2} + \\beta_{1}^{2}\n",
      "\\left[\\beta_{1} = \\frac{\\mathit{ak}_{m}^{2}}{\\sqrt{\\pi^{4} n_{\\mathit{xy}}^{4} + \\mathit{ak}_{m}^{4}}}, \\alpha_{1} = \\sqrt{2} \\mathit{ak}_{m} \\sqrt{\\frac{\\mathit{ak}_{m}^{2} + \\sqrt{\\pi^{4} n_{\\mathit{xy}}^{4} + \\mathit{ak}_{m}^{4}}}{\\pi^{4} n_{\\mathit{xy}}^{4} + \\mathit{ak}_{m}^{4}}}\\right]\n"
     ]
    },
    {
     "data": {
      "text/latex": [
       "$\\displaystyle \\left[\\beta_{1} = \\frac{\\mathit{ak}_{m}^{2}}{\\sqrt{\\pi^{4} n_{\\mathit{xy}}^{4} + \\mathit{ak}_{m}^{4}}}, \\alpha_{1} = \\sqrt{2} \\mathit{ak}_{m} \\sqrt{\\frac{\\mathit{ak}_{m}^{2} + \\sqrt{\\pi^{4} n_{\\mathit{xy}}^{4} + \\mathit{ak}_{m}^{4}}}{\\pi^{4} n_{\\mathit{xy}}^{4} + \\mathit{ak}_{m}^{4}}}\\right]$"
      ],
      "text/plain": [
       "<IPython.core.display.Math object>"
      ]
     },
     "metadata": {},
     "output_type": "display_data"
    }
   ],
   "source": [
    "eq_integrand_t_den = integrand_t_den_2 == integrand_t_den_alpha_beta_expanded\n",
    "disp(eq_integrand_t_den)\n",
    "print(latex(eq_integrand_t_den))\n",
    "\n",
    "eq_t0 = eq_integrand_t_den.lhs().coefficient(t,0) == eq_integrand_t_den.rhs().coefficient(t,0)\n",
    "#disp(eq_t0)\n",
    "\n",
    "sol_beta1 = solve(eq_t0, beta_1)\n",
    "#disp(sol_beta1)\n",
    "\n",
    "if 2 == len(sol_beta1):\n",
    "    sol_beta1 = [sol_beta1[1]]\n",
    "\n",
    "eq_t2 = eq_integrand_t_den.lhs().coefficient(t,2) == eq_integrand_t_den.rhs().coefficient(t,2)\n",
    "#disp(eq_t2)\n",
    "\n",
    "eq_t2_sub = eq_t2.subs(sol_beta1)\n",
    "#disp(eq_t2_sub)\n",
    "\n",
    "sol_alpha1 = solve(eq_t2_sub, alpha_1)\n",
    "#disp(sol_alpha1)\n",
    "\n",
    "alpha1_beta1_subs = sol_beta1 + [sol_alpha1[1].full_simplify()]\n",
    "print(latex(alpha1_beta1_subs))\n",
    "disp(alpha1_beta1_subs)\n"
   ]
  },
  {
   "cell_type": "markdown",
   "metadata": {},
   "source": [
    "So we have the following equation\n",
    "$$-\\frac{2 \\, \\mathit{ak}_{m}^{4} t^{2}}{\\pi^{4} n_{\\mathit{xy}}^{4} + \\mathit{ak}_{m}^{4}} + t^{4} + \\frac{\\mathit{ak}_{m}^{4}}{\\pi^{4} n_{\\mathit{xy}}^{4} + \\mathit{ak}_{m}^{4}} = t^{4} - {\\left(\\alpha_{1}^{2} - 2 \\, \\beta_{1}\\right)} t^{2} + \\beta_{1}^{2}$$\n",
    "and its solution\n",
    "$$\\beta_{1} = \\frac{\\mathit{ak}_{m}^{2}}{\\sqrt{\\pi^{4} n_{\\mathit{xy}}^{4} + \\mathit{ak}_{m}^{4}}}, \\alpha_{1} = \\sqrt{2} \\mathit{ak}_{m} \\sqrt{\\frac{\\mathit{ak}_{m}^{2} + \\sqrt{\\pi^{4} n_{\\mathit{xy}}^{4} + \\mathit{ak}_{m}^{4}}}{\\pi^{4} n_{\\mathit{xy}}^{4} + \\mathit{ak}_{m}^{4}}}$$"
   ]
  },
  {
   "cell_type": "markdown",
   "metadata": {},
   "source": [
    "After above determined conversion the integrand can be written as:"
   ]
  },
  {
   "cell_type": "code",
   "execution_count": 39,
   "metadata": {},
   "outputs": [
    {
     "data": {
      "text/latex": [
       "$\\displaystyle \\frac{\\mathit{ak}_{m}^{4} n_{\\mathit{xy}}^{2} t^{2}}{{\\left(\\pi^{4} n_{\\mathit{xy}}^{4} + \\mathit{ak}_{m}^{4}\\right)} {\\left(\\alpha_{1} t + t^{2} + \\beta_{1}\\right)} {\\left(\\alpha_{1} t - t^{2} - \\beta_{1}\\right)}}$"
      ],
      "text/plain": [
       "<IPython.core.display.Math object>"
      ]
     },
     "metadata": {},
     "output_type": "display_data"
    },
    {
     "name": "stdout",
     "output_type": "stream",
     "text": [
      "\\frac{\\mathit{ak}_{m}^{4} n_{\\mathit{xy}}^{2} t^{2}}{{\\left(\\pi^{4} n_{\\mathit{xy}}^{4} + \\mathit{ak}_{m}^{4}\\right)} {\\left(\\alpha_{1} t + t^{2} + \\beta_{1}\\right)} {\\left(\\alpha_{1} t - t^{2} - \\beta_{1}\\right)}}\n"
     ]
    }
   ],
   "source": [
    "integrand_t_alpha_beta = integrand_t_num2 / integrand_t_den_alpha_beta\n",
    "disp(integrand_t_alpha_beta)\n",
    "print(latex(integrand_t_alpha_beta))"
   ]
  },
  {
   "cell_type": "markdown",
   "metadata": {},
   "source": [
    "$$\\frac{\\mathit{ak}_{m}^{4} n_{\\mathit{xy}}^{2} t^{2}}{{\\left(\\pi^{4} n_{\\mathit{xy}}^{4} + \\mathit{ak}_{m}^{4}\\right)} {\\left(\\alpha_{1} t + t^{2} + \\beta_{1}\\right)} {\\left(\\alpha_{1} t - t^{2} - \\beta_{1}\\right)}}$$"
   ]
  },
  {
   "cell_type": "markdown",
   "metadata": {},
   "source": [
    "Let's check determinant $\\alpha_1^2 - 4\\beta_1$ using above found expression of $\\alpha_1$ and $\\beta_1$:"
   ]
  },
  {
   "cell_type": "code",
   "execution_count": 40,
   "metadata": {},
   "outputs": [],
   "source": [
    "D = alpha_1^2 - 4*beta_1 "
   ]
  },
  {
   "cell_type": "code",
   "execution_count": 41,
   "metadata": {},
   "outputs": [],
   "source": [
    "D_subs = D.subs(alpha1_beta1_subs).full_simplify()"
   ]
  },
  {
   "cell_type": "code",
   "execution_count": 42,
   "metadata": {},
   "outputs": [
    {
     "data": {
      "text/latex": [
       "$\\displaystyle -\\frac{2 \\, {\\left(\\pi^{4} \\mathit{ak}_{m}^{2} n_{\\mathit{xy}}^{4} + \\mathit{ak}_{m}^{6} - \\sqrt{\\pi^{4} n_{\\mathit{xy}}^{4} + \\mathit{ak}_{m}^{4}} \\mathit{ak}_{m}^{4}\\right)}}{{\\left(\\pi^{4} n_{\\mathit{xy}}^{4} + \\mathit{ak}_{m}^{4}\\right)}^{\\frac{3}{2}}}$"
      ],
      "text/plain": [
       "<IPython.core.display.Math object>"
      ]
     },
     "metadata": {},
     "output_type": "display_data"
    }
   ],
   "source": [
    "disp(D_subs)"
   ]
  },
  {
   "cell_type": "code",
   "execution_count": 43,
   "metadata": {},
   "outputs": [
    {
     "data": {
      "text/plain": [
       "(ak_m, n_xy)"
      ]
     },
     "execution_count": 43,
     "metadata": {},
     "output_type": "execute_result"
    }
   ],
   "source": [
    "D_subs.variables()"
   ]
  },
  {
   "cell_type": "code",
   "execution_count": 44,
   "metadata": {},
   "outputs": [
    {
     "data": {
      "image/png": "[encoded data removed]",
      "text/plain": [
       "Graphics object consisting of 1 graphics primitive"
      ]
     },
     "execution_count": 44,
     "metadata": {},
     "output_type": "execute_result"
    }
   ],
   "source": [
    "plot(D_subs.subs(ak_m = 0.1), n_xy)"
   ]
  },
  {
   "cell_type": "code",
   "execution_count": 45,
   "metadata": {},
   "outputs": [
    {
     "data": {
      "image/png": "[encoded data removed]",
      "text/plain": [
       "Graphics object consisting of 1 graphics primitive"
      ]
     },
     "execution_count": 45,
     "metadata": {},
     "output_type": "execute_result"
    }
   ],
   "source": [
    "plot(D_subs.subs(n_xy = 0.1), ak_m)"
   ]
  },
  {
   "cell_type": "markdown",
   "metadata": {},
   "source": [
    "Determinant is negative. So the integral can be easily taken:"
   ]
  },
  {
   "cell_type": "code",
   "execution_count": 46,
   "metadata": {},
   "outputs": [
    {
     "data": {
      "text/latex": [
       "$\\displaystyle \\int F\\left(t, n_{xy}, ak_m\\right) dt = -\\frac{\\mathit{ak}_{m}^{4} n_{\\mathit{xy}}^{2} {\\left(\\frac{2 \\, \\arctan\\left(\\frac{\\alpha_{1} + 2 \\, t}{\\sqrt{-\\alpha_{1}^{2} + 4 \\, \\beta_{1}}}\\right)}{\\sqrt{-\\alpha_{1}^{2} + 4 \\, \\beta_{1}}} + \\frac{2 \\, \\arctan\\left(-\\frac{\\alpha_{1} - 2 \\, t}{\\sqrt{-\\alpha_{1}^{2} + 4 \\, \\beta_{1}}}\\right)}{\\sqrt{-\\alpha_{1}^{2} + 4 \\, \\beta_{1}}} - \\frac{\\log\\left(\\alpha_{1} t + t^{2} + \\beta_{1}\\right)}{\\alpha_{1}} + \\frac{\\log\\left(-\\alpha_{1} t + t^{2} + \\beta_{1}\\right)}{\\alpha_{1}}\\right)}}{4 \\, {\\left(\\pi^{4} n_{\\mathit{xy}}^{4} + \\mathit{ak}_{m}^{4}\\right)}}$"
      ],
      "text/plain": [
       "<IPython.core.display.Math object>"
      ]
     },
     "metadata": {},
     "output_type": "display_data"
    },
    {
     "name": "stdout",
     "output_type": "stream",
     "text": [
      "\\int F\\left(t, n_{xy}, ak_m\\right) dt = -\\frac{\\mathit{ak}_{m}^{4} n_{\\mathit{xy}}^{2} {\\left(\\frac{2 \\, \\arctan\\left(\\frac{\\alpha_{1} + 2 \\, t}{\\sqrt{-\\alpha_{1}^{2} + 4 \\, \\beta_{1}}}\\right)}{\\sqrt{-\\alpha_{1}^{2} + 4 \\, \\beta_{1}}} + \\frac{2 \\, \\arctan\\left(-\\frac{\\alpha_{1} - 2 \\, t}{\\sqrt{-\\alpha_{1}^{2} + 4 \\, \\beta_{1}}}\\right)}{\\sqrt{-\\alpha_{1}^{2} + 4 \\, \\beta_{1}}} - \\frac{\\log\\left(\\alpha_{1} t + t^{2} + \\beta_{1}\\right)}{\\alpha_{1}} + \\frac{\\log\\left(-\\alpha_{1} t + t^{2} + \\beta_{1}\\right)}{\\alpha_{1}}\\right)}}{4 \\, {\\left(\\pi^{4} n_{\\mathit{xy}}^{4} + \\mathit{ak}_{m}^{4}\\right)}}\n"
     ]
    }
   ],
   "source": [
    "assume(D<0)\n",
    "exec(preparse(\"integrand_t_alpha_beta_int_t = \" + str(integrate(integrand_t_alpha_beta, t))))\n",
    "display(Math(\"\\\\int F\\\\left(t, n_{xy}, ak_m\\\\right) dt = \" + latex(integrand_t_alpha_beta_int_t)))\n",
    "print(latex(\"\\\\int F\\\\left(t, n_{xy}, ak_m\\\\right) dt = \" + latex(integrand_t_alpha_beta_int_t)))"
   ]
  },
  {
   "cell_type": "markdown",
   "metadata": {},
   "source": [
    "$$\\int F\\left(t, n_{xy}, ak_m\\right) dt = -\\frac{\\mathit{ak}_{m}^{4} n_{\\mathit{xy}}^{2} {\\left(\\frac{2 \\, \\arctan\\left(\\frac{\\alpha_{1} + 2 \\, t}{\\sqrt{-\\alpha_{1}^{2} + 4 \\, \\beta_{1}}}\\right)}{\\sqrt{-\\alpha_{1}^{2} + 4 \\, \\beta_{1}}} + \\frac{2 \\, \\arctan\\left(-\\frac{\\alpha_{1} - 2 \\, t}{\\sqrt{-\\alpha_{1}^{2} + 4 \\, \\beta_{1}}}\\right)}{\\sqrt{-\\alpha_{1}^{2} + 4 \\, \\beta_{1}}} - \\frac{\\log\\left(\\alpha_{1} t + t^{2} + \\beta_{1}\\right)}{\\alpha_{1}} + \\frac{\\log\\left(-\\alpha_{1} t + t^{2} + \\beta_{1}\\right)}{\\alpha_{1}}\\right)}}{4 \\, {\\left(\\pi^{4} n_{\\mathit{xy}}^{4} + \\mathit{ak}_{m}^{4}\\right)}}$$"
   ]
  },
  {
   "cell_type": "markdown",
   "metadata": {},
   "source": [
    "And after substitution of $t$ value $\\int F\\left(n, n_{xy}, ak_m\\right) dn$ is:"
   ]
  },
  {
   "cell_type": "code",
   "execution_count": 47,
   "metadata": {},
   "outputs": [
    {
     "data": {
      "text/latex": [
       "$\\displaystyle \\int F\\left(n, n_{xy}, ak_m\\right) dn = -\\frac{\\mathit{ak}_{m}^{4} n_{\\mathit{xy}}^{2} {\\left(\\frac{2 \\, \\arctan\\left(\\frac{\\alpha_{1} + \\frac{2 \\, n}{\\sqrt{n^{2} - n_{\\mathit{xy}}^{2}}}}{\\sqrt{-\\alpha_{1}^{2} + 4 \\, \\beta_{1}}}\\right)}{\\sqrt{-\\alpha_{1}^{2} + 4 \\, \\beta_{1}}} + \\frac{2 \\, \\arctan\\left(-\\frac{\\alpha_{1} - \\frac{2 \\, n}{\\sqrt{n^{2} - n_{\\mathit{xy}}^{2}}}}{\\sqrt{-\\alpha_{1}^{2} + 4 \\, \\beta_{1}}}\\right)}{\\sqrt{-\\alpha_{1}^{2} + 4 \\, \\beta_{1}}} - \\frac{\\log\\left(\\frac{\\alpha_{1} n}{\\sqrt{n^{2} - n_{\\mathit{xy}}^{2}}} + \\beta_{1} + \\frac{n^{2}}{n^{2} - n_{\\mathit{xy}}^{2}}\\right)}{\\alpha_{1}} + \\frac{\\log\\left(-\\frac{\\alpha_{1} n}{\\sqrt{n^{2} - n_{\\mathit{xy}}^{2}}} + \\beta_{1} + \\frac{n^{2}}{n^{2} - n_{\\mathit{xy}}^{2}}\\right)}{\\alpha_{1}}\\right)}}{4 \\, {\\left(\\pi^{4} n_{\\mathit{xy}}^{4} + \\mathit{ak}_{m}^{4}\\right)}}$"
      ],
      "text/plain": [
       "<IPython.core.display.Math object>"
      ]
     },
     "metadata": {},
     "output_type": "display_data"
    },
    {
     "name": "stdout",
     "output_type": "stream",
     "text": [
      "\\int F\\left(n, n_{xy}, ak_m\\right) dn = -\\frac{\\mathit{ak}_{m}^{4} n_{\\mathit{xy}}^{2} {\\left(\\frac{2 \\, \\arctan\\left(\\frac{\\alpha_{1} + \\frac{2 \\, n}{\\sqrt{n^{2} - n_{\\mathit{xy}}^{2}}}}{\\sqrt{-\\alpha_{1}^{2} + 4 \\, \\beta_{1}}}\\right)}{\\sqrt{-\\alpha_{1}^{2} + 4 \\, \\beta_{1}}} + \\frac{2 \\, \\arctan\\left(-\\frac{\\alpha_{1} - \\frac{2 \\, n}{\\sqrt{n^{2} - n_{\\mathit{xy}}^{2}}}}{\\sqrt{-\\alpha_{1}^{2} + 4 \\, \\beta_{1}}}\\right)}{\\sqrt{-\\alpha_{1}^{2} + 4 \\, \\beta_{1}}} - \\frac{\\log\\left(\\frac{\\alpha_{1} n}{\\sqrt{n^{2} - n_{\\mathit{xy}}^{2}}} + \\beta_{1} + \\frac{n^{2}}{n^{2} - n_{\\mathit{xy}}^{2}}\\right)}{\\alpha_{1}} + \\frac{\\log\\left(-\\frac{\\alpha_{1} n}{\\sqrt{n^{2} - n_{\\mathit{xy}}^{2}}} + \\beta_{1} + \\frac{n^{2}}{n^{2} - n_{\\mathit{xy}}^{2}}\\right)}{\\alpha_{1}}\\right)}}{4 \\, {\\left(\\pi^{4} n_{\\mathit{xy}}^{4} + \\mathit{ak}_{m}^{4}\\right)}}\n"
     ]
    }
   ],
   "source": [
    "exec(preparse(\"integrand_n_alpha_beta_int_n = \" + str(integrand_t_alpha_beta_int_t.subs(abel_subs_t))))\n",
    "#disp(integrand_n_alpha_beta_int_n)\n",
    "display(Math(\"\\\\int F\\\\left(n, n_{xy}, ak_m\\\\right) dn = \" + latex(integrand_n_alpha_beta_int_n)))\n",
    "print(latex(\"\\\\int F\\\\left(n, n_{xy}, ak_m\\\\right) dn = \" + latex(integrand_n_alpha_beta_int_n)))"
   ]
  },
  {
   "cell_type": "markdown",
   "metadata": {},
   "source": [
    "$$\\int F\\left(n, n_{xy}, ak_m\\right) dn = -\\frac{\\mathit{ak}_{m}^{4} n_{\\mathit{xy}}^{2} {\\left(\\frac{2 \\, \\arctan\\left(\\frac{\\alpha_{1} + \\frac{2 \\, n}{\\sqrt{n^{2} - n_{\\mathit{xy}}^{2}}}}{\\sqrt{-\\alpha_{1}^{2} + 4 \\, \\beta_{1}}}\\right)}{\\sqrt{-\\alpha_{1}^{2} + 4 \\, \\beta_{1}}} + \\frac{2 \\, \\arctan\\left(-\\frac{\\alpha_{1} - \\frac{2 \\, n}{\\sqrt{n^{2} - n_{\\mathit{xy}}^{2}}}}{\\sqrt{-\\alpha_{1}^{2} + 4 \\, \\beta_{1}}}\\right)}{\\sqrt{-\\alpha_{1}^{2} + 4 \\, \\beta_{1}}} - \\frac{\\log\\left(\\frac{\\alpha_{1} n}{\\sqrt{n^{2} - n_{\\mathit{xy}}^{2}}} + \\beta_{1} + \\frac{n^{2}}{n^{2} - n_{\\mathit{xy}}^{2}}\\right)}{\\alpha_{1}} + \\frac{\\log\\left(-\\frac{\\alpha_{1} n}{\\sqrt{n^{2} - n_{\\mathit{xy}}^{2}}} + \\beta_{1} + \\frac{n^{2}}{n^{2} - n_{\\mathit{xy}}^{2}}\\right)}{\\alpha_{1}}\\right)}}{4 \\, {\\left(\\pi^{4} n_{\\mathit{xy}}^{4} + \\mathit{ak}_{m}^{4}\\right)}}$$"
   ]
  },
  {
   "cell_type": "markdown",
   "metadata": {},
   "source": [
    "And after substitution of $\\alpha_1$ and, $\\beta_1$ values $\\int F\\left(n, n_{xy}, ak_m\\right) dn$ is:"
   ]
  },
  {
   "cell_type": "code",
   "execution_count": 48,
   "metadata": {},
   "outputs": [
    {
     "data": {
      "text/latex": [
       "$\\displaystyle -\\frac{\\mathit{ak}_{m}^{4} n_{\\mathit{xy}}^{2} {\\left(\\frac{4 \\, \\arctan\\left(\\frac{\\sqrt{2} \\mathit{ak}_{m} \\sqrt{\\frac{\\mathit{ak}_{m}^{2} + \\sqrt{\\pi^{4} n_{\\mathit{xy}}^{4} + \\mathit{ak}_{m}^{4}}}{\\pi^{4} n_{\\mathit{xy}}^{4} + \\mathit{ak}_{m}^{4}}} + \\frac{2 \\, n}{\\sqrt{n^{2} - n_{\\mathit{xy}}^{2}}}}{\\sqrt{-\\frac{2 \\, {\\left(\\mathit{ak}_{m}^{2} + \\sqrt{\\pi^{4} n_{\\mathit{xy}}^{4} + \\mathit{ak}_{m}^{4}}\\right)} \\mathit{ak}_{m}^{2}}{\\pi^{4} n_{\\mathit{xy}}^{4} + \\mathit{ak}_{m}^{4}} + \\frac{4 \\, \\mathit{ak}_{m}^{2}}{\\sqrt{\\pi^{4} n_{\\mathit{xy}}^{4} + \\mathit{ak}_{m}^{4}}}}}\\right)}{\\sqrt{-\\frac{2 \\, {\\left(\\mathit{ak}_{m}^{2} + \\sqrt{\\pi^{4} n_{\\mathit{xy}}^{4} + \\mathit{ak}_{m}^{4}}\\right)} \\mathit{ak}_{m}^{2}}{\\pi^{4} n_{\\mathit{xy}}^{4} + \\mathit{ak}_{m}^{4}} + \\frac{4 \\, \\mathit{ak}_{m}^{2}}{\\sqrt{\\pi^{4} n_{\\mathit{xy}}^{4} + \\mathit{ak}_{m}^{4}}}}} + \\frac{4 \\, \\arctan\\left(-\\frac{\\sqrt{2} \\mathit{ak}_{m} \\sqrt{\\frac{\\mathit{ak}_{m}^{2} + \\sqrt{\\pi^{4} n_{\\mathit{xy}}^{4} + \\mathit{ak}_{m}^{4}}}{\\pi^{4} n_{\\mathit{xy}}^{4} + \\mathit{ak}_{m}^{4}}} - \\frac{2 \\, n}{\\sqrt{n^{2} - n_{\\mathit{xy}}^{2}}}}{\\sqrt{-\\frac{2 \\, {\\left(\\mathit{ak}_{m}^{2} + \\sqrt{\\pi^{4} n_{\\mathit{xy}}^{4} + \\mathit{ak}_{m}^{4}}\\right)} \\mathit{ak}_{m}^{2}}{\\pi^{4} n_{\\mathit{xy}}^{4} + \\mathit{ak}_{m}^{4}} + \\frac{4 \\, \\mathit{ak}_{m}^{2}}{\\sqrt{\\pi^{4} n_{\\mathit{xy}}^{4} + \\mathit{ak}_{m}^{4}}}}}\\right)}{\\sqrt{-\\frac{2 \\, {\\left(\\mathit{ak}_{m}^{2} + \\sqrt{\\pi^{4} n_{\\mathit{xy}}^{4} + \\mathit{ak}_{m}^{4}}\\right)} \\mathit{ak}_{m}^{2}}{\\pi^{4} n_{\\mathit{xy}}^{4} + \\mathit{ak}_{m}^{4}} + \\frac{4 \\, \\mathit{ak}_{m}^{2}}{\\sqrt{\\pi^{4} n_{\\mathit{xy}}^{4} + \\mathit{ak}_{m}^{4}}}}} - \\frac{\\sqrt{2} \\log\\left(\\frac{\\sqrt{2} \\mathit{ak}_{m} n \\sqrt{\\frac{\\mathit{ak}_{m}^{2} + \\sqrt{\\pi^{4} n_{\\mathit{xy}}^{4} + \\mathit{ak}_{m}^{4}}}{\\pi^{4} n_{\\mathit{xy}}^{4} + \\mathit{ak}_{m}^{4}}}}{\\sqrt{n^{2} - n_{\\mathit{xy}}^{2}}} + \\frac{\\mathit{ak}_{m}^{2}}{\\sqrt{\\pi^{4} n_{\\mathit{xy}}^{4} + \\mathit{ak}_{m}^{4}}} + \\frac{n^{2}}{n^{2} - n_{\\mathit{xy}}^{2}}\\right)}{\\mathit{ak}_{m} \\sqrt{\\frac{\\mathit{ak}_{m}^{2} + \\sqrt{\\pi^{4} n_{\\mathit{xy}}^{4} + \\mathit{ak}_{m}^{4}}}{\\pi^{4} n_{\\mathit{xy}}^{4} + \\mathit{ak}_{m}^{4}}}} + \\frac{\\sqrt{2} \\log\\left(-\\frac{\\sqrt{2} \\mathit{ak}_{m} n \\sqrt{\\frac{\\mathit{ak}_{m}^{2} + \\sqrt{\\pi^{4} n_{\\mathit{xy}}^{4} + \\mathit{ak}_{m}^{4}}}{\\pi^{4} n_{\\mathit{xy}}^{4} + \\mathit{ak}_{m}^{4}}}}{\\sqrt{n^{2} - n_{\\mathit{xy}}^{2}}} + \\frac{\\mathit{ak}_{m}^{2}}{\\sqrt{\\pi^{4} n_{\\mathit{xy}}^{4} + \\mathit{ak}_{m}^{4}}} + \\frac{n^{2}}{n^{2} - n_{\\mathit{xy}}^{2}}\\right)}{\\mathit{ak}_{m} \\sqrt{\\frac{\\mathit{ak}_{m}^{2} + \\sqrt{\\pi^{4} n_{\\mathit{xy}}^{4} + \\mathit{ak}_{m}^{4}}}{\\pi^{4} n_{\\mathit{xy}}^{4} + \\mathit{ak}_{m}^{4}}}}\\right)}}{8 \\, {\\left(\\pi^{4} n_{\\mathit{xy}}^{4} + \\mathit{ak}_{m}^{4}\\right)}}$"
      ],
      "text/plain": [
       "<IPython.core.display.Math object>"
      ]
     },
     "metadata": {},
     "output_type": "display_data"
    }
   ],
   "source": [
    "exec(preparse(\"integrand_n_int_n = \" + str(integrand_n_alpha_beta_int_n.subs(alpha1_beta1_subs))))\n",
    "disp(integrand_n_int_n)"
   ]
  },
  {
   "cell_type": "markdown",
   "metadata": {},
   "source": [
    "And after substitution of $\\alpha_1$ and, $\\beta_1$ values $\\int F\\left(t, n_{xy}, ak_m\\right) dt$ is:"
   ]
  },
  {
   "cell_type": "code",
   "execution_count": 49,
   "metadata": {},
   "outputs": [
    {
     "data": {
      "text/latex": [
       "$\\displaystyle -\\frac{\\mathit{ak}_{m}^{4} n_{\\mathit{xy}}^{2} {\\left(\\frac{4 \\, \\arctan\\left(\\frac{\\sqrt{2} \\mathit{ak}_{m} \\sqrt{\\frac{\\mathit{ak}_{m}^{2} + \\sqrt{\\pi^{4} n_{\\mathit{xy}}^{4} + \\mathit{ak}_{m}^{4}}}{\\pi^{4} n_{\\mathit{xy}}^{4} + \\mathit{ak}_{m}^{4}}} + 2 \\, t}{\\sqrt{-\\frac{2 \\, {\\left(\\mathit{ak}_{m}^{2} + \\sqrt{\\pi^{4} n_{\\mathit{xy}}^{4} + \\mathit{ak}_{m}^{4}}\\right)} \\mathit{ak}_{m}^{2}}{\\pi^{4} n_{\\mathit{xy}}^{4} + \\mathit{ak}_{m}^{4}} + \\frac{4 \\, \\mathit{ak}_{m}^{2}}{\\sqrt{\\pi^{4} n_{\\mathit{xy}}^{4} + \\mathit{ak}_{m}^{4}}}}}\\right)}{\\sqrt{-\\frac{2 \\, {\\left(\\mathit{ak}_{m}^{2} + \\sqrt{\\pi^{4} n_{\\mathit{xy}}^{4} + \\mathit{ak}_{m}^{4}}\\right)} \\mathit{ak}_{m}^{2}}{\\pi^{4} n_{\\mathit{xy}}^{4} + \\mathit{ak}_{m}^{4}} + \\frac{4 \\, \\mathit{ak}_{m}^{2}}{\\sqrt{\\pi^{4} n_{\\mathit{xy}}^{4} + \\mathit{ak}_{m}^{4}}}}} + \\frac{4 \\, \\arctan\\left(-\\frac{\\sqrt{2} \\mathit{ak}_{m} \\sqrt{\\frac{\\mathit{ak}_{m}^{2} + \\sqrt{\\pi^{4} n_{\\mathit{xy}}^{4} + \\mathit{ak}_{m}^{4}}}{\\pi^{4} n_{\\mathit{xy}}^{4} + \\mathit{ak}_{m}^{4}}} - 2 \\, t}{\\sqrt{-\\frac{2 \\, {\\left(\\mathit{ak}_{m}^{2} + \\sqrt{\\pi^{4} n_{\\mathit{xy}}^{4} + \\mathit{ak}_{m}^{4}}\\right)} \\mathit{ak}_{m}^{2}}{\\pi^{4} n_{\\mathit{xy}}^{4} + \\mathit{ak}_{m}^{4}} + \\frac{4 \\, \\mathit{ak}_{m}^{2}}{\\sqrt{\\pi^{4} n_{\\mathit{xy}}^{4} + \\mathit{ak}_{m}^{4}}}}}\\right)}{\\sqrt{-\\frac{2 \\, {\\left(\\mathit{ak}_{m}^{2} + \\sqrt{\\pi^{4} n_{\\mathit{xy}}^{4} + \\mathit{ak}_{m}^{4}}\\right)} \\mathit{ak}_{m}^{2}}{\\pi^{4} n_{\\mathit{xy}}^{4} + \\mathit{ak}_{m}^{4}} + \\frac{4 \\, \\mathit{ak}_{m}^{2}}{\\sqrt{\\pi^{4} n_{\\mathit{xy}}^{4} + \\mathit{ak}_{m}^{4}}}}} - \\frac{\\sqrt{2} \\log\\left(\\sqrt{2} \\mathit{ak}_{m} t \\sqrt{\\frac{\\mathit{ak}_{m}^{2} + \\sqrt{\\pi^{4} n_{\\mathit{xy}}^{4} + \\mathit{ak}_{m}^{4}}}{\\pi^{4} n_{\\mathit{xy}}^{4} + \\mathit{ak}_{m}^{4}}} + t^{2} + \\frac{\\mathit{ak}_{m}^{2}}{\\sqrt{\\pi^{4} n_{\\mathit{xy}}^{4} + \\mathit{ak}_{m}^{4}}}\\right)}{\\mathit{ak}_{m} \\sqrt{\\frac{\\mathit{ak}_{m}^{2} + \\sqrt{\\pi^{4} n_{\\mathit{xy}}^{4} + \\mathit{ak}_{m}^{4}}}{\\pi^{4} n_{\\mathit{xy}}^{4} + \\mathit{ak}_{m}^{4}}}} + \\frac{\\sqrt{2} \\log\\left(-\\sqrt{2} \\mathit{ak}_{m} t \\sqrt{\\frac{\\mathit{ak}_{m}^{2} + \\sqrt{\\pi^{4} n_{\\mathit{xy}}^{4} + \\mathit{ak}_{m}^{4}}}{\\pi^{4} n_{\\mathit{xy}}^{4} + \\mathit{ak}_{m}^{4}}} + t^{2} + \\frac{\\mathit{ak}_{m}^{2}}{\\sqrt{\\pi^{4} n_{\\mathit{xy}}^{4} + \\mathit{ak}_{m}^{4}}}\\right)}{\\mathit{ak}_{m} \\sqrt{\\frac{\\mathit{ak}_{m}^{2} + \\sqrt{\\pi^{4} n_{\\mathit{xy}}^{4} + \\mathit{ak}_{m}^{4}}}{\\pi^{4} n_{\\mathit{xy}}^{4} + \\mathit{ak}_{m}^{4}}}}\\right)}}{8 \\, {\\left(\\pi^{4} n_{\\mathit{xy}}^{4} + \\mathit{ak}_{m}^{4}\\right)}}$"
      ],
      "text/plain": [
       "<IPython.core.display.Math object>"
      ]
     },
     "metadata": {},
     "output_type": "display_data"
    }
   ],
   "source": [
    "exec(preparse(\"integrand_t_int_t = \" + str(integrand_t_alpha_beta_int_t.subs(alpha1_beta1_subs))))\n",
    "disp(integrand_t_int_t)"
   ]
  },
  {
   "cell_type": "markdown",
   "metadata": {},
   "source": [
    "And after substitution of $t$ value $\\int F\\left(n, n_{xy}, ak_m\\right) dn$ is:"
   ]
  },
  {
   "cell_type": "code",
   "execution_count": 50,
   "metadata": {},
   "outputs": [
    {
     "data": {
      "text/latex": [
       "$\\displaystyle -\\frac{\\mathit{ak}_{m}^{4} n_{\\mathit{xy}}^{2} {\\left(\\frac{4 \\, \\arctan\\left(\\frac{\\sqrt{2} \\mathit{ak}_{m} \\sqrt{\\frac{\\mathit{ak}_{m}^{2} + \\sqrt{\\pi^{4} n_{\\mathit{xy}}^{4} + \\mathit{ak}_{m}^{4}}}{\\pi^{4} n_{\\mathit{xy}}^{4} + \\mathit{ak}_{m}^{4}}} + \\frac{2 \\, n}{\\sqrt{n^{2} - n_{\\mathit{xy}}^{2}}}}{\\sqrt{-\\frac{2 \\, {\\left(\\mathit{ak}_{m}^{2} + \\sqrt{\\pi^{4} n_{\\mathit{xy}}^{4} + \\mathit{ak}_{m}^{4}}\\right)} \\mathit{ak}_{m}^{2}}{\\pi^{4} n_{\\mathit{xy}}^{4} + \\mathit{ak}_{m}^{4}} + \\frac{4 \\, \\mathit{ak}_{m}^{2}}{\\sqrt{\\pi^{4} n_{\\mathit{xy}}^{4} + \\mathit{ak}_{m}^{4}}}}}\\right)}{\\sqrt{-\\frac{2 \\, {\\left(\\mathit{ak}_{m}^{2} + \\sqrt{\\pi^{4} n_{\\mathit{xy}}^{4} + \\mathit{ak}_{m}^{4}}\\right)} \\mathit{ak}_{m}^{2}}{\\pi^{4} n_{\\mathit{xy}}^{4} + \\mathit{ak}_{m}^{4}} + \\frac{4 \\, \\mathit{ak}_{m}^{2}}{\\sqrt{\\pi^{4} n_{\\mathit{xy}}^{4} + \\mathit{ak}_{m}^{4}}}}} + \\frac{4 \\, \\arctan\\left(-\\frac{\\sqrt{2} \\mathit{ak}_{m} \\sqrt{\\frac{\\mathit{ak}_{m}^{2} + \\sqrt{\\pi^{4} n_{\\mathit{xy}}^{4} + \\mathit{ak}_{m}^{4}}}{\\pi^{4} n_{\\mathit{xy}}^{4} + \\mathit{ak}_{m}^{4}}} - \\frac{2 \\, n}{\\sqrt{n^{2} - n_{\\mathit{xy}}^{2}}}}{\\sqrt{-\\frac{2 \\, {\\left(\\mathit{ak}_{m}^{2} + \\sqrt{\\pi^{4} n_{\\mathit{xy}}^{4} + \\mathit{ak}_{m}^{4}}\\right)} \\mathit{ak}_{m}^{2}}{\\pi^{4} n_{\\mathit{xy}}^{4} + \\mathit{ak}_{m}^{4}} + \\frac{4 \\, \\mathit{ak}_{m}^{2}}{\\sqrt{\\pi^{4} n_{\\mathit{xy}}^{4} + \\mathit{ak}_{m}^{4}}}}}\\right)}{\\sqrt{-\\frac{2 \\, {\\left(\\mathit{ak}_{m}^{2} + \\sqrt{\\pi^{4} n_{\\mathit{xy}}^{4} + \\mathit{ak}_{m}^{4}}\\right)} \\mathit{ak}_{m}^{2}}{\\pi^{4} n_{\\mathit{xy}}^{4} + \\mathit{ak}_{m}^{4}} + \\frac{4 \\, \\mathit{ak}_{m}^{2}}{\\sqrt{\\pi^{4} n_{\\mathit{xy}}^{4} + \\mathit{ak}_{m}^{4}}}}} - \\frac{\\sqrt{2} \\log\\left(\\frac{\\sqrt{2} \\mathit{ak}_{m} n \\sqrt{\\frac{\\mathit{ak}_{m}^{2} + \\sqrt{\\pi^{4} n_{\\mathit{xy}}^{4} + \\mathit{ak}_{m}^{4}}}{\\pi^{4} n_{\\mathit{xy}}^{4} + \\mathit{ak}_{m}^{4}}}}{\\sqrt{n^{2} - n_{\\mathit{xy}}^{2}}} + \\frac{\\mathit{ak}_{m}^{2}}{\\sqrt{\\pi^{4} n_{\\mathit{xy}}^{4} + \\mathit{ak}_{m}^{4}}} + \\frac{n^{2}}{n^{2} - n_{\\mathit{xy}}^{2}}\\right)}{\\mathit{ak}_{m} \\sqrt{\\frac{\\mathit{ak}_{m}^{2} + \\sqrt{\\pi^{4} n_{\\mathit{xy}}^{4} + \\mathit{ak}_{m}^{4}}}{\\pi^{4} n_{\\mathit{xy}}^{4} + \\mathit{ak}_{m}^{4}}}} + \\frac{\\sqrt{2} \\log\\left(-\\frac{\\sqrt{2} \\mathit{ak}_{m} n \\sqrt{\\frac{\\mathit{ak}_{m}^{2} + \\sqrt{\\pi^{4} n_{\\mathit{xy}}^{4} + \\mathit{ak}_{m}^{4}}}{\\pi^{4} n_{\\mathit{xy}}^{4} + \\mathit{ak}_{m}^{4}}}}{\\sqrt{n^{2} - n_{\\mathit{xy}}^{2}}} + \\frac{\\mathit{ak}_{m}^{2}}{\\sqrt{\\pi^{4} n_{\\mathit{xy}}^{4} + \\mathit{ak}_{m}^{4}}} + \\frac{n^{2}}{n^{2} - n_{\\mathit{xy}}^{2}}\\right)}{\\mathit{ak}_{m} \\sqrt{\\frac{\\mathit{ak}_{m}^{2} + \\sqrt{\\pi^{4} n_{\\mathit{xy}}^{4} + \\mathit{ak}_{m}^{4}}}{\\pi^{4} n_{\\mathit{xy}}^{4} + \\mathit{ak}_{m}^{4}}}}\\right)}}{8 \\, {\\left(\\pi^{4} n_{\\mathit{xy}}^{4} + \\mathit{ak}_{m}^{4}\\right)}}$"
      ],
      "text/plain": [
       "<IPython.core.display.Math object>"
      ]
     },
     "metadata": {},
     "output_type": "display_data"
    },
    {
     "data": {
      "text/plain": [
       "(ak_m, n, n_xy)"
      ]
     },
     "execution_count": 50,
     "metadata": {},
     "output_type": "execute_result"
    }
   ],
   "source": [
    "exec(preparse(\"integrand_n_int_n = \" + str(integrand_t_int_t.subs(abel_subs_t))))\n",
    "disp(integrand_n_int_n)\n",
    "integrand_n_int_n.variables()"
   ]
  },
  {
   "cell_type": "markdown",
   "metadata": {},
   "source": [
    "Checking that found integral is true by differentiation:"
   ]
  },
  {
   "cell_type": "code",
   "execution_count": 51,
   "metadata": {},
   "outputs": [
    {
     "data": {
      "text/latex": [
       "$\\displaystyle \\left( \\int F\\left(n, n_{xy}, ak_m\\right) dn \\right)'= \\frac{\\sqrt{n^{2} - n_{\\mathit{xy}}^{2}} \\mathit{ak}_{m}^{4} n^{2}}{\\pi^{4} n^{6} + \\mathit{ak}_{m}^{4} n^{2} - {\\left(\\pi^{4} n^{4} + \\mathit{ak}_{m}^{4}\\right)} n_{\\mathit{xy}}^{2}}$"
      ],
      "text/plain": [
       "<IPython.core.display.Math object>"
      ]
     },
     "metadata": {},
     "output_type": "display_data"
    }
   ],
   "source": [
    "display(Math(\"\\\\left( \\\\int F\\\\left(n, n_{xy}, ak_m\\\\right) dn \\\\right)'=\" + latex(integrand_n_int_n.diff(n).full_simplify())))"
   ]
  },
  {
   "cell_type": "code",
   "execution_count": 52,
   "metadata": {},
   "outputs": [
    {
     "name": "stdout",
     "output_type": "stream",
     "text": [
      "\\left( \\int F\\left(n, n_{xy}, ak_m\\right) dn \\right)'= \\frac{\\sqrt{n^{2} - n_{\\mathit{xy}}^{2}} \\mathit{ak}_{m}^{4} n^{2}}{\\pi^{4} n^{6} + \\mathit{ak}_{m}^{4} n^{2} - {\\left(\\pi^{4} n^{4} + \\mathit{ak}_{m}^{4}\\right)} n_{\\mathit{xy}}^{2}}\n"
     ]
    }
   ],
   "source": [
    "print(\"\\\\left( \\\\int F\\\\left(n, n_{xy}, ak_m\\\\right) dn \\\\right)'=\" + latex(integrand_n_int_n.diff(n).full_simplify()))"
   ]
  },
  {
   "cell_type": "code",
   "execution_count": 53,
   "metadata": {},
   "outputs": [
    {
     "data": {
      "text/latex": [
       "$\\displaystyle F\\left(n, n_{xy}, ak_m\\right)= \\frac{n^{2}}{{\\left(\\frac{\\pi^{4} n^{4}}{\\mathit{ak}_{m}^{4}} + 1\\right)} \\sqrt{n^{2} - n_{\\mathit{xy}}^{2}}}$"
      ],
      "text/plain": [
       "<IPython.core.display.Math object>"
      ]
     },
     "metadata": {},
     "output_type": "display_data"
    }
   ],
   "source": [
    "display(Math(\"F\\\\left(n, n_{xy}, ak_m\\\\right)=\" + latex(Fnn(n, n_xy, ak_m))))"
   ]
  },
  {
   "cell_type": "code",
   "execution_count": 54,
   "metadata": {},
   "outputs": [
    {
     "name": "stdout",
     "output_type": "stream",
     "text": [
      "F\\left(n, n_{xy}, ak_m\\right)= \\frac{n^{2}}{{\\left(\\frac{\\pi^{4} n^{4}}{\\mathit{ak}_{m}^{4}} + 1\\right)} \\sqrt{n^{2} - n_{\\mathit{xy}}^{2}}}\n"
     ]
    }
   ],
   "source": [
    "print(\"F\\\\left(n, n_{xy}, ak_m\\\\right)=\" + latex(Fnn(n, n_xy, ak_m)))"
   ]
  },
  {
   "cell_type": "code",
   "execution_count": 55,
   "metadata": {},
   "outputs": [
    {
     "data": {
      "text/latex": [
       "$\\displaystyle \\left( \\int F\\left(n, n_{xy}, ak_m\\right) dn \\right)'-F\\left(n, n_{xy}, ak_m\\right) = 0$"
      ],
      "text/plain": [
       "<IPython.core.display.Math object>"
      ]
     },
     "metadata": {},
     "output_type": "display_data"
    }
   ],
   "source": [
    "display(Math(\"\\\\left( \\\\int F\\\\left(n, n_{xy}, ak_m\\\\right) dn \\\\right)'-\" +\n",
    "             \"F\\\\left(n, n_{xy}, ak_m\\\\right) = \" +\n",
    "             latex((integrand_n_int_n.diff(n).full_simplify() - Fnn(n, n_xy, ak_m)).full_simplify())))"
   ]
  },
  {
   "cell_type": "code",
   "execution_count": 56,
   "metadata": {},
   "outputs": [
    {
     "name": "stdout",
     "output_type": "stream",
     "text": [
      "\\left( \\int F\\left(n, n_{xy}, ak_m\\right) dn \\right)'-F\\left(n, n_{xy}, ak_m\\right) = 0\n"
     ]
    }
   ],
   "source": [
    "print(\"\\\\left( \\\\int F\\\\left(n, n_{xy}, ak_m\\\\right) dn \\\\right)'-\" +\n",
    "             \"F\\\\left(n, n_{xy}, ak_m\\\\right) = \" +\n",
    "             latex((integrand_n_int_n.diff(n).full_simplify() - Fnn(n, n_xy, ak_m)).full_simplify()))"
   ]
  },
  {
   "cell_type": "markdown",
   "metadata": {},
   "source": [
    "$$\\left( \\int F\\left(n, n_{xy}, ak_m\\right) dn \\right)' = \\frac{\\sqrt{n^{2} - n_{\\mathit{xy}}^{2}} \\mathit{ak}_{m}^{4} n^{2}}{\\pi^{4} n^{6} + \\mathit{ak}_{m}^{4} n^{2} - {\\left(\\pi^{4} n^{4} + \\mathit{ak}_{m}^{4}\\right)} n_{\\mathit{xy}}^{2}}$$\n",
    "\n",
    "$$F\\left(n, n_{xy}, ak_m\\right)= \\frac{n^{2}}{{\\left(\\frac{\\pi^{4} n^{4}}{\\mathit{ak}_{m}^{4}} + 1\\right)} \\sqrt{n^{2} - n_{\\mathit{xy}}^{2}}}$$\n",
    "\n",
    "$$\\left( \\int F\\left(n, n_{xy}, ak_m\\right) dn \\right)'-F\\left(n, n_{xy}, ak_m\\right) = 0$$\n"
   ]
  },
  {
   "cell_type": "markdown",
   "metadata": {},
   "source": [
    "Ok, we received true expression of integral $\\int F\\left(n, n_{xy}, ak_m\\right) dn$\n",
    "\n",
    "Now using its $t_a$ and $t_b$ limits we  "
   ]
  },
  {
   "cell_type": "code",
   "execution_count": 57,
   "metadata": {},
   "outputs": [
    {
     "data": {
      "text/latex": [
       "$\\displaystyle -\\frac{\\pi \\mathit{ak}_{m}^{4} n_{\\mathit{xy}}^{2}}{2 \\, {\\left(\\pi^{4} \\sqrt{-\\alpha_{1}^{2} + 4 \\, \\beta_{1}} n_{\\mathit{xy}}^{4} + \\sqrt{-\\alpha_{1}^{2} + 4 \\, \\beta_{1}} \\mathit{ak}_{m}^{4}\\right)}}$"
      ],
      "text/plain": [
       "<IPython.core.display.Math object>"
      ]
     },
     "metadata": {},
     "output_type": "display_data"
    }
   ],
   "source": [
    "exec(preparse(\"integrand_t_alpha_beta_int_t_a = \" + str(limit(integrand_t_alpha_beta_int_t, t = t_a))))\n",
    "disp(integrand_t_alpha_beta_int_t_a)"
   ]
  },
  {
   "cell_type": "code",
   "execution_count": 58,
   "metadata": {},
   "outputs": [
    {
     "data": {
      "text/latex": [
       "$\\displaystyle -\\frac{\\mathit{ak}_{m}^{4} n_{\\mathit{xy}}^{2} {\\left(\\frac{2 \\, \\arctan\\left(\\frac{\\alpha_{1} + 2}{\\sqrt{-\\alpha_{1}^{2} + 4 \\, \\beta_{1}}}\\right)}{\\sqrt{-\\alpha_{1}^{2} + 4 \\, \\beta_{1}}} + \\frac{2 \\, \\arctan\\left(-\\frac{\\alpha_{1} - 2}{\\sqrt{-\\alpha_{1}^{2} + 4 \\, \\beta_{1}}}\\right)}{\\sqrt{-\\alpha_{1}^{2} + 4 \\, \\beta_{1}}} - \\frac{\\log\\left(\\alpha_{1} + \\beta_{1} + 1\\right)}{\\alpha_{1}} + \\frac{\\log\\left(-\\alpha_{1} + \\beta_{1} + 1\\right)}{\\alpha_{1}}\\right)}}{4 \\, {\\left(\\pi^{4} n_{\\mathit{xy}}^{4} + \\mathit{ak}_{m}^{4}\\right)}}$"
      ],
      "text/plain": [
       "<IPython.core.display.Math object>"
      ]
     },
     "metadata": {},
     "output_type": "display_data"
    }
   ],
   "source": [
    "exec(preparse(\"integrand_t_alpha_beta_int_t_b = \" + str(integrand_t_alpha_beta_int_t.subs(t = t_b))))\n",
    "disp(integrand_t_alpha_beta_int_t_b)"
   ]
  },
  {
   "cell_type": "code",
   "execution_count": 59,
   "metadata": {},
   "outputs": [
    {
     "data": {
      "text/latex": [
       "$\\displaystyle \\frac{{\\left(\\mathit{ak}_{m}^{4} \\log\\left(\\alpha_{1} + \\beta_{1} + 1\\right) - \\mathit{ak}_{m}^{4} \\log\\left(-\\alpha_{1} + \\beta_{1} + 1\\right)\\right)} \\sqrt{-\\alpha_{1}^{2} + 4 \\, \\beta_{1}} n_{\\mathit{xy}}^{2} + 2 \\, {\\left(\\pi \\mathit{ak}_{m}^{4} \\alpha_{1} - \\mathit{ak}_{m}^{4} \\alpha_{1} \\arctan\\left(\\frac{\\alpha_{1} + 2}{\\sqrt{-\\alpha_{1}^{2} + 4 \\, \\beta_{1}}}\\right) + \\mathit{ak}_{m}^{4} \\alpha_{1} \\arctan\\left(\\frac{\\alpha_{1} - 2}{\\sqrt{-\\alpha_{1}^{2} + 4 \\, \\beta_{1}}}\\right)\\right)} n_{\\mathit{xy}}^{2}}{4 \\, {\\left(\\pi^{4} \\alpha_{1} n_{\\mathit{xy}}^{4} + \\mathit{ak}_{m}^{4} \\alpha_{1}\\right)} \\sqrt{-\\alpha_{1}^{2} + 4 \\, \\beta_{1}}}$"
      ],
      "text/plain": [
       "<IPython.core.display.Math object>"
      ]
     },
     "metadata": {},
     "output_type": "display_data"
    }
   ],
   "source": [
    "integrand_t_alpha_beta_int_t_a_b = integrand_t_alpha_beta_int_t_b - integrand_t_alpha_beta_int_t_a\n",
    "disp(integrand_t_alpha_beta_int_t_a_b.full_simplify())"
   ]
  },
  {
   "cell_type": "code",
   "execution_count": null,
   "metadata": {},
   "outputs": [],
   "source": []
  },
  {
   "cell_type": "code",
   "execution_count": 60,
   "metadata": {},
   "outputs": [
    {
     "data": {
      "text/latex": [
       "$\\displaystyle \\frac{2 \\, \\pi \\mathit{ak}_{m}^{4} n_{\\mathit{xy}}^{2} \\sqrt{\\frac{\\mathit{ak}_{m}^{2} + \\sqrt{\\pi^{4} n_{\\mathit{xy}}^{4} + \\mathit{ak}_{m}^{4}}}{\\pi^{4} n_{\\mathit{xy}}^{4} + \\mathit{ak}_{m}^{4}}} - 2 \\, \\mathit{ak}_{m}^{4} n_{\\mathit{xy}}^{2} \\sqrt{\\frac{\\mathit{ak}_{m}^{2} + \\sqrt{\\pi^{4} n_{\\mathit{xy}}^{4} + \\mathit{ak}_{m}^{4}}}{\\pi^{4} n_{\\mathit{xy}}^{4} + \\mathit{ak}_{m}^{4}}} \\arctan\\left(\\frac{\\sqrt{2} {\\left(\\sqrt{2} \\mathit{ak}_{m} \\sqrt{\\frac{\\mathit{ak}_{m}^{2} + \\sqrt{\\pi^{4} n_{\\mathit{xy}}^{4} + \\mathit{ak}_{m}^{4}}}{\\pi^{4} n_{\\mathit{xy}}^{4} + \\mathit{ak}_{m}^{4}}} + 2\\right)}}{2 \\, \\sqrt{\\frac{\\pi^{4} \\mathit{ak}_{m}^{2} n_{\\mathit{xy}}^{4} + \\mathit{ak}_{m}^{6} - \\sqrt{\\pi^{4} n_{\\mathit{xy}}^{4} + \\mathit{ak}_{m}^{4}} \\mathit{ak}_{m}^{4}}{{\\left(\\pi^{4} n_{\\mathit{xy}}^{4} + \\mathit{ak}_{m}^{4}\\right)}^{\\frac{3}{2}}}}}\\right) + 2 \\, \\mathit{ak}_{m}^{4} n_{\\mathit{xy}}^{2} \\sqrt{\\frac{\\mathit{ak}_{m}^{2} + \\sqrt{\\pi^{4} n_{\\mathit{xy}}^{4} + \\mathit{ak}_{m}^{4}}}{\\pi^{4} n_{\\mathit{xy}}^{4} + \\mathit{ak}_{m}^{4}}} \\arctan\\left(\\frac{\\sqrt{2} {\\left(\\sqrt{2} \\mathit{ak}_{m} \\sqrt{\\frac{\\mathit{ak}_{m}^{2} + \\sqrt{\\pi^{4} n_{\\mathit{xy}}^{4} + \\mathit{ak}_{m}^{4}}}{\\pi^{4} n_{\\mathit{xy}}^{4} + \\mathit{ak}_{m}^{4}}} - 2\\right)}}{2 \\, \\sqrt{\\frac{\\pi^{4} \\mathit{ak}_{m}^{2} n_{\\mathit{xy}}^{4} + \\mathit{ak}_{m}^{6} - \\sqrt{\\pi^{4} n_{\\mathit{xy}}^{4} + \\mathit{ak}_{m}^{4}} \\mathit{ak}_{m}^{4}}{{\\left(\\pi^{4} n_{\\mathit{xy}}^{4} + \\mathit{ak}_{m}^{4}\\right)}^{\\frac{3}{2}}}}}\\right) + \\mathit{ak}_{m}^{3} n_{\\mathit{xy}}^{2} \\sqrt{\\frac{\\pi^{4} \\mathit{ak}_{m}^{2} n_{\\mathit{xy}}^{4} + \\mathit{ak}_{m}^{6} - \\sqrt{\\pi^{4} n_{\\mathit{xy}}^{4} + \\mathit{ak}_{m}^{4}} \\mathit{ak}_{m}^{4}}{{\\left(\\pi^{4} n_{\\mathit{xy}}^{4} + \\mathit{ak}_{m}^{4}\\right)}^{\\frac{3}{2}}}} \\log\\left(\\frac{\\sqrt{2} \\sqrt{\\pi^{4} n_{\\mathit{xy}}^{4} + \\mathit{ak}_{m}^{4}} \\mathit{ak}_{m} \\sqrt{\\frac{\\mathit{ak}_{m}^{2} + \\sqrt{\\pi^{4} n_{\\mathit{xy}}^{4} + \\mathit{ak}_{m}^{4}}}{\\pi^{4} n_{\\mathit{xy}}^{4} + \\mathit{ak}_{m}^{4}}} + \\mathit{ak}_{m}^{2} + \\sqrt{\\pi^{4} n_{\\mathit{xy}}^{4} + \\mathit{ak}_{m}^{4}}}{\\sqrt{\\pi^{4} n_{\\mathit{xy}}^{4} + \\mathit{ak}_{m}^{4}}}\\right) - \\mathit{ak}_{m}^{3} n_{\\mathit{xy}}^{2} \\sqrt{\\frac{\\pi^{4} \\mathit{ak}_{m}^{2} n_{\\mathit{xy}}^{4} + \\mathit{ak}_{m}^{6} - \\sqrt{\\pi^{4} n_{\\mathit{xy}}^{4} + \\mathit{ak}_{m}^{4}} \\mathit{ak}_{m}^{4}}{{\\left(\\pi^{4} n_{\\mathit{xy}}^{4} + \\mathit{ak}_{m}^{4}\\right)}^{\\frac{3}{2}}}} \\log\\left(-\\frac{\\sqrt{2} \\sqrt{\\pi^{4} n_{\\mathit{xy}}^{4} + \\mathit{ak}_{m}^{4}} \\mathit{ak}_{m} \\sqrt{\\frac{\\mathit{ak}_{m}^{2} + \\sqrt{\\pi^{4} n_{\\mathit{xy}}^{4} + \\mathit{ak}_{m}^{4}}}{\\pi^{4} n_{\\mathit{xy}}^{4} + \\mathit{ak}_{m}^{4}}} - \\mathit{ak}_{m}^{2} - \\sqrt{\\pi^{4} n_{\\mathit{xy}}^{4} + \\mathit{ak}_{m}^{4}}}{\\sqrt{\\pi^{4} n_{\\mathit{xy}}^{4} + \\mathit{ak}_{m}^{4}}}\\right)}{4 \\, {\\left(\\sqrt{2} \\pi^{4} n_{\\mathit{xy}}^{4} + \\sqrt{2} \\mathit{ak}_{m}^{4}\\right)} \\sqrt{\\frac{\\mathit{ak}_{m}^{2} + \\sqrt{\\pi^{4} n_{\\mathit{xy}}^{4} + \\mathit{ak}_{m}^{4}}}{\\pi^{4} n_{\\mathit{xy}}^{4} + \\mathit{ak}_{m}^{4}}} \\sqrt{\\frac{\\pi^{4} \\mathit{ak}_{m}^{2} n_{\\mathit{xy}}^{4} + \\mathit{ak}_{m}^{6} - \\sqrt{\\pi^{4} n_{\\mathit{xy}}^{4} + \\mathit{ak}_{m}^{4}} \\mathit{ak}_{m}^{4}}{{\\left(\\pi^{4} n_{\\mathit{xy}}^{4} + \\mathit{ak}_{m}^{4}\\right)}^{\\frac{3}{2}}}}}$"
      ],
      "text/plain": [
       "<IPython.core.display.Math object>"
      ]
     },
     "metadata": {},
     "output_type": "display_data"
    }
   ],
   "source": [
    "exec(preparse(\"integrand_t_int_t_a_b = \" + str(integrand_t_alpha_beta_int_t_a_b. \\\n",
    "                                               subs(alpha1_beta1_subs).full_simplify())))\n",
    "disp(integrand_t_int_t_a_b)"
   ]
  },
  {
   "cell_type": "markdown",
   "metadata": {},
   "source": [
    "So we just found the following integral:"
   ]
  },
  {
   "cell_type": "markdown",
   "metadata": {},
   "source": [
    "\\begin{equation}\n",
    "G\\left(n_x, n_y\\right) = \\int\\limits_{0}^{\\infty}\\sqrt{n_x^2 + n_y^2+u^2}\\,\n",
    "f\\left(\\frac{\\pi\\sqrt{n_x^2 + n_y^2+u^2}}{a\\,k_m}\\right)\\,d{u}\n",
    "\\end{equation}"
   ]
  },
  {
   "cell_type": "markdown",
   "metadata": {},
   "source": [
    "\\begin{equation}\n",
    "G\\left(n_x, n_y\\right) = \\int\\limits_{\\sqrt{n_x^2 + n_y^2}}^{\\infty}\\sqrt{n_x^2 + n_y^2+u^2}\\,\n",
    "f\\left(\\frac{\\pi\\sqrt{n_x^2 + n_y^2+u^2}}{a\\,k_m}\\right)\\,dn{\\frac{n}{\\sqrt{n^{2} - n_{x}^{2} - n_{y}^{2}}}}\n",
    "\\end{equation}"
   ]
  },
  {
   "cell_type": "markdown",
   "metadata": {},
   "source": [
    "\\begin{equation}\n",
    "G\\left(n_x, n_y\\right) = \\int\\limits_{n_{xy}}^{\\infty}n\\,\n",
    "f\\left(\\frac{\\pi\\,n}{a\\,k_m}\\right)\\,dn{\\frac{n}{\\sqrt{n^{2} - n_{xy}^{2}}}}\n",
    "\\end{equation}"
   ]
  },
  {
   "cell_type": "code",
   "execution_count": 61,
   "metadata": {},
   "outputs": [],
   "source": [
    "exec(preparse(\"G = lambda n_x, n_y, ak_m : \" + str(integrand_t_int_t_a_b.full_simplify().subs(n_xy = sqrt(n_x^2+n_y^2)))))"
   ]
  },
  {
   "cell_type": "code",
   "execution_count": 62,
   "metadata": {},
   "outputs": [
    {
     "data": {
      "text/plain": [
       "1/4*(2*pi*(n_x^2 + n_y^2)*ak_m^4*sqrt((ak_m^2 + sqrt(pi^4*(n_x^2 + n_y^2)^2 + ak_m^4))/(pi^4*(n_x^2 + n_y^2)^2 + ak_m^4)) - 2*(n_x^2 + n_y^2)*ak_m^4*sqrt((ak_m^2 + sqrt(pi^4*(n_x^2 + n_y^2)^2 + ak_m^4))/(pi^4*(n_x^2 + n_y^2)^2 + ak_m^4))*arctan(1/2*sqrt(2)*(sqrt(2)*ak_m*sqrt((ak_m^2 + sqrt(pi^4*(n_x^2 + n_y^2)^2 + ak_m^4))/(pi^4*(n_x^2 + n_y^2)^2 + ak_m^4)) + 2)/sqrt((pi^4*(n_x^2 + n_y^2)^2*ak_m^2 + ak_m^6 - sqrt(pi^4*(n_x^2 + n_y^2)^2 + ak_m^4)*ak_m^4)/(pi^4*(n_x^2 + n_y^2)^2 + ak_m^4)^(3/2))) + 2*(n_x^2 + n_y^2)*ak_m^4*sqrt((ak_m^2 + sqrt(pi^4*(n_x^2 + n_y^2)^2 + ak_m^4))/(pi^4*(n_x^2 + n_y^2)^2 + ak_m^4))*arctan(1/2*sqrt(2)*(sqrt(2)*ak_m*sqrt((ak_m^2 + sqrt(pi^4*(n_x^2 + n_y^2)^2 + ak_m^4))/(pi^4*(n_x^2 + n_y^2)^2 + ak_m^4)) - 2)/sqrt((pi^4*(n_x^2 + n_y^2)^2*ak_m^2 + ak_m^6 - sqrt(pi^4*(n_x^2 + n_y^2)^2 + ak_m^4)*ak_m^4)/(pi^4*(n_x^2 + n_y^2)^2 + ak_m^4)^(3/2))) + (n_x^2 + n_y^2)*ak_m^3*sqrt((pi^4*(n_x^2 + n_y^2)^2*ak_m^2 + ak_m^6 - sqrt(pi^4*(n_x^2 + n_y^2)^2 + ak_m^4)*ak_m^4)/(pi^4*(n_x^2 + n_y^2)^2 + ak_m^4)^(3/2))*log((sqrt(2)*sqrt(pi^4*(n_x^2 + n_y^2)^2 + ak_m^4)*ak_m*sqrt((ak_m^2 + sqrt(pi^4*(n_x^2 + n_y^2)^2 + ak_m^4))/(pi^4*(n_x^2 + n_y^2)^2 + ak_m^4)) + ak_m^2 + sqrt(pi^4*(n_x^2 + n_y^2)^2 + ak_m^4))/sqrt(pi^4*(n_x^2 + n_y^2)^2 + ak_m^4)) - (n_x^2 + n_y^2)*ak_m^3*sqrt((pi^4*(n_x^2 + n_y^2)^2*ak_m^2 + ak_m^6 - sqrt(pi^4*(n_x^2 + n_y^2)^2 + ak_m^4)*ak_m^4)/(pi^4*(n_x^2 + n_y^2)^2 + ak_m^4)^(3/2))*log(-(sqrt(2)*sqrt(pi^4*(n_x^2 + n_y^2)^2 + ak_m^4)*ak_m*sqrt((ak_m^2 + sqrt(pi^4*(n_x^2 + n_y^2)^2 + ak_m^4))/(pi^4*(n_x^2 + n_y^2)^2 + ak_m^4)) - ak_m^2 - sqrt(pi^4*(n_x^2 + n_y^2)^2 + ak_m^4))/sqrt(pi^4*(n_x^2 + n_y^2)^2 + ak_m^4)))/((sqrt(2)*pi^4*(n_x^2 + n_y^2)^2 + sqrt(2)*ak_m^4)*sqrt((ak_m^2 + sqrt(pi^4*(n_x^2 + n_y^2)^2 + ak_m^4))/(pi^4*(n_x^2 + n_y^2)^2 + ak_m^4))*sqrt((pi^4*(n_x^2 + n_y^2)^2*ak_m^2 + ak_m^6 - sqrt(pi^4*(n_x^2 + n_y^2)^2 + ak_m^4)*ak_m^4)/(pi^4*(n_x^2 + n_y^2)^2 + ak_m^4)^(3/2)))"
      ]
     },
     "execution_count": 62,
     "metadata": {},
     "output_type": "execute_result"
    }
   ],
   "source": [
    "G(n_x, n_y, ak_m)"
   ]
  },
  {
   "cell_type": "code",
   "execution_count": 63,
   "metadata": {},
   "outputs": [
    {
     "data": {
      "image/png": "[encoded data removed]",
      "text/plain": [
       "Graphics object consisting of 1 graphics primitive"
      ]
     },
     "execution_count": 63,
     "metadata": {},
     "output_type": "execute_result"
    }
   ],
   "source": [
    "plot(G(n_x=1, n_y=1, ak_m=ak_m), ak_m,0,10)"
   ]
  },
  {
   "cell_type": "markdown",
   "metadata": {},
   "source": [
    "Now aiming to receive a way of calculating $\\delta\\,\\frac{E}{V}$ we should consider \n",
    "\n",
    "# Euler–Maclaurin 2D formula\n",
    "\n",
    "Reading in\n",
    "\n",
    "https://www.journals.vu.lt/LMJ/article/view/20600/19701\n",
    "ФОРМУЛА СУММИРОВАНИЯ ЭЙЛЕРА—МАКЛОРЕНА ДЛЯ ФУНКЦИИ МНОГИХ ПЕРЕМЕННЫХ А.БИКЯЛИС\n",
    "VIII LIETUVOS MATEMATIKOS RINKINYS 4\n",
    "ЛИТОВСКИЙ МАТЕМАТИЧЕСКИЙ СБОРНИК\n",
    "1968\n",
    "\n",
    "The following:\n",
    "\"Далее,обе стороны этого равенства суммируем по всем целым m2 из интервала(z2,y2). Получаем\"\n",
    "\n",
    "We just apply Euler–Maclaurin formula twice on $n_x$ and on $n_y$\n",
    "\n",
    "Starting from the following form of this formula\n",
    "\n",
    "$${\\displaystyle \\sum _{i=a}^{b}f(i)=\\int _{a}^{b}f(x)\\,dx+{\\frac {f(a)+f(b)}{2}}+\\sum _{k=1}^{\\lfloor p/2\\rfloor }{\\frac {B_{2k}}{(2k)!}}(f^{(2k-1)}(b)-f^{(2k-1)}(a))+R_{p},}$$\n",
    "\n",
    "$${\\displaystyle P_{k}(x)=B_{k}(x-\\lfloor x\\rfloor ),}$$\n",
    "\n",
    "$${\\displaystyle R_{p}=(-1)^{p+1}\\int _{a}^{b}f^{(p)}(x){\\frac {P_{p}(x)}{p!}}\\,dx.}$$\n",
    "\n",
    "or better use\n",
    "\n",
    " поскольку мы имеем дело с математически весьма сложной задачей интегрирования довольно непростой, часто осциллирующей и терпящей разрывы в точках каждого целого значения аргумента благодаря наличию множителя $(x-\\lfloor x\\rfloor )$ функции, воспользуемся тем, что остаточный член можно выразить также в виде\n",
    "\n",
    "$${\\displaystyle R_{p}=(-1)^{p+1}\\sum_{j=a}^{b-1} \\int _{0}^{1}f^{(p)}(v+j){\\frac {B_{p}(v)}{p!}}\\,dv.}$$\n",
    "\n",
    "we see that it consists from 4 terms: intergal (int), half sum (half), sum of Bernoulli polynomials (sum) and Remained part (Rp). When applying it to $F$ twice on $n_x$ and on $n_y$ we should have the following terms which can be represented in the table form:\n",
    "\n",
    "$\\begin{array}{rrrr}\n",
    " inty\\_intx\\_F  &  inty\\_halfx\\_F  &  inty\\_sumx\\_F  &  inty\\_Rpx\\_F  \\\\\n",
    " halfy\\_intx\\_F &  halfy\\_halfx\\_F &  halfy\\_sumx\\_F &  halfy\\_Rpx\\_F \\\\\n",
    " sumy\\_intx\\_F  &  sumy\\_halfx\\_F  &  sumy\\_sumx\\_F  &  sumy\\_Rpx\\_F  \\\\\n",
    " Rpy\\_intx\\_F   &  Rpy\\_halfx\\_F   &  Rpy\\_sumx\\_F   &  Rpy\\_Rpx\\_F\n",
    "\\end{array}$\n",
    "\n",
    "And taking on account that we have function $F$ which is symmertic on its  $n_x$ and $n_y$ arguments, so above marix is symmetric too."
   ]
  },
  {
   "cell_type": "code",
   "execution_count": 64,
   "metadata": {},
   "outputs": [],
   "source": [
    "logging = False\n",
    "\n",
    "calc_R_p=True\n",
    "\n",
    "def my_euler_maclaurin1(f,symb,a,b,p, f_diff_symb_p=None):\n",
    "    if logging:\n",
    "        print(\"f\", f)\n",
    "        print(\"symb,a,b\", symb, a, b)\n",
    "        print(\"\")\n",
    "\n",
    "\n",
    "    sum_dfdx_a_bernoullis = sum([(diff(f,symb,2*k-1))*(bernoulli(2*k)/factorial(2*k)) for k in range(1,1+int(p/2))])\n",
    "    if logging:\n",
    "        print(\"sum_dfdx_a_bernoullis\", sum_dfdx_a_bernoullis)\n",
    "        print(\"sum_dfdx_a_bernoullis(a)\", sum_dfdx_a_bernoullis.subs(symb == a))\n",
    "        if Infinity != b:\n",
    "            print(\"sum_dfdx_a_bernoullis(b)\", sum_dfdx_a_bernoullis.subs(symb == b))\n",
    "\n",
    "    if True:\n",
    "        B = lambda x, p : bernoulli_polynomial(x, p)\n",
    "        P = lambda x, p : bernoulli_polynomial(x - floor(x), p)\n",
    "        fact = lambda n : factorial(n)\n",
    "    else:\n",
    "        B = function(\"B\")(x,p)\n",
    "        P = function(\"P\")(x,p)\n",
    "        fact = function(\"fact\")(n)\n",
    "        \n",
    "    if True == calc_R_p:\n",
    "        # Can't calculate derivative wrt j + u.\n",
    "        #int_R_p = lambda j : integral(f.diff(symb,p).subs(symb == u+j) * bernoulli_polynomial(u,p)/factorial(p), (u,0,1))\n",
    "        def int_R_p(f,symb,j):\n",
    "            v = var(\"v\")            \n",
    "            if None == f_diff_symb_p:\n",
    "                deriv = diff(f,symb,p)\n",
    "            else:\n",
    "                deriv = f_diff_symb_p\n",
    "            if logging:\n",
    "                print(\"deriv\", deriv)\n",
    "            deriv_s = deriv.subs(symb == v+j)\n",
    "            if logging:\n",
    "                print(\"deriv_s\", deriv_s)\n",
    "            int_f_diff_B_fact = integral(deriv_s * bernoulli_polynomial(v,p)/factorial(p), (v,0,1))\n",
    "            if logging:\n",
    "                print(\"int_f_diff_B_fact\", int_f_diff_B_fact)\n",
    "            return int_f_diff_B_fact\n",
    "        \n",
    "        def int_R_p_shifted_first(f,symb,j):\n",
    "            v = var(\"v\")\n",
    "            fn_shifted = f.subs(symb == v + j)\n",
    "            if logging:\n",
    "                print(\"fn_shifted\", fn_shifted)\n",
    "            deriv = fn_shifted.diff(v,p)\n",
    "            if logging:\n",
    "                print(\"deriv\", deriv)\n",
    "            int_f_diff_B_fact = integral(deriv * B(x=v,p=p)/fact(n=p), (v,0,1))\n",
    "    \n",
    "            if logging:\n",
    "                print(\"int_f_diff_B_fact\", int_f_diff_B_fact)\n",
    "\n",
    "            return int_f_diff_B_fact\n",
    "\n",
    "        if logging:\n",
    "            print(\"int_R_p(j = a)\", int_R_p(f,symb,j = a))\n",
    "            \n",
    "        if use_int_R_p_j:\n",
    "            v, j = var(\"v, j\")\n",
    "            assume(j>0)\n",
    "            from sage.calculus.calculus import symbolic_sum\n",
    "            if change_R_p_order:\n",
    "                # Change order of summation and integration\n",
    "                if use_int_R_p_shifted_first:\n",
    "                    R_p = (-1)^(p+1)*integral(symbolic_sum(f.subs(symb == v+j).diff(v,p)*B(x=v,p=p)/fact(n=p), \\\n",
    "                                                  j, a, b-1), \\\n",
    "                                              (v,0,1))\n",
    "                else:\n",
    "                    if None == f_diff_symb_p:\n",
    "                        f_diff_symb_p = diff(f, symb, p)\n",
    "                    R_p = (-1)^(p+1)*integral(symbolic_sum(f_diff_symb_p.subs(symb == v+j)*B(x=v,p=p)/fact(n=p), \\\n",
    "                                                  j, a, b-1), \\\n",
    "                                              (v,0,1))\n",
    "            else:\n",
    "                if use_int_R_p_shifted_first:\n",
    "                    R_p = (-1)^(p+1)*symbolic_sum(int_R_p_shifted_first(f,symb,j=j), j, a, b-1)\n",
    "                else:\n",
    "                    R_p = (-1)^(+1)*symbolic_sum(int_R_p(f,symb,j=j), j, a, b-1)\n",
    "                \n",
    "        else:\n",
    "            if None == f_diff_symb_p:\n",
    "                f_diff_symb_p = diff(f,symb,p)\n",
    "            if not use_num_int:\n",
    "                R_p = (-1)^(p+1)*integral(f_diff_symb_p * P(x=symb,p=p)/fact(n=p),(symb,a,b),hold=True)\n",
    "            else:\n",
    "                R_p = (-1)^(p+1)*num_int(lambda symb : f_diff_symb_p * P(x=symb,p=p)/fact(n=p), a, b, v=symb)\n",
    "                \n",
    "\n",
    "    int_fn_a_b = integral(f, (symb, a, b))\n",
    "    if logging:\n",
    "        print(\"int_fn_a_b\", int_fn_a_b)\n",
    "        \n",
    "    sum_fa_fb_2 = (subs(f, symb == a) + subs(f, symb == b))/2\n",
    "    \n",
    "    s = int_fn_a_b + sum_fa_fb_2 - subs(sum_dfdx_a_bernoullis, symb == a)\n",
    "    if Infinity != b:\n",
    "        s += sum_dfdx_a_bernoullis.subs(symb == b)\n",
    "    if True == calc_R_p:\n",
    "        s += R_p\n",
    "        \n",
    "    if False:\n",
    "        print(\"int_fn_a_b\", int_fn_a_b)\n",
    "        print(\"sum_dfdx_a_bernoullis(a)\", sum_dfdx_a_bernoullis(a))\n",
    "        if Infinity != b:\n",
    "            print(\"sum_dfdx_a_bernoullis(b)\", sum_dfdx_a_bernoullis(b))\n",
    "        if True == calc_R_p:\n",
    "            print(\"int_R_p(j = a)\", int_R_p(j = a))\n",
    "            print(\"R_p\", R_p)\n",
    "        print(\"\")\n",
    "        print(\"s\",s)\n",
    "    return s"
   ]
  },
  {
   "cell_type": "markdown",
   "metadata": {},
   "source": [
    "$${\\displaystyle \\sum _{i=a}^{b}f(i)=\\int _{a}^{b}f(x)\\,dx+{\\frac {f(a)+f(b)}{2}}+\\sum _{k=1}^{\\lfloor p/2\\rfloor }{\\frac {B_{2k}}{(2k)!}}(f^{(2k-1)}(b)-f^{(2k-1)}(a))+R_{p},}$$"
   ]
  },
  {
   "cell_type": "markdown",
   "metadata": {},
   "source": [
    "$${\\displaystyle \\sum _{i=a}^{b}f(i)=\\int _{a}^{b}f(x)\\,dx+\\sum _{k=1}^{\\lfloor p/2\\rfloor }{\\frac {B_{k}}{(k)!}}(f^{(k-1)}(b)-f^{(k-1)}(a))+R_{p},}$$"
   ]
  },
  {
   "cell_type": "markdown",
   "metadata": {},
   "source": [
    "$${\\displaystyle R_{p}=(-1)^{p+1}\\sum_{j=a}^{b-1} \\int _{0}^{1}f^{(p)}(v+j){\\frac {B_{p}(v)}{p!}}\\,dv.}$$"
   ]
  },
  {
   "cell_type": "markdown",
   "metadata": {},
   "source": [
    "$${\\displaystyle P_{k}(x)=B_{k}(x-\\lfloor x\\rfloor ),}$$\n",
    "\n",
    "$${\\displaystyle R_{p}=(-1)^{p+1}\\int _{a}^{b}f^{(p)}(x){\\frac {P_{p}(x)}{p!}}\\,dx.}$$"
   ]
  },
  {
   "cell_type": "code",
   "execution_count": 65,
   "metadata": {},
   "outputs": [],
   "source": [
    "if True:\n",
    "    B = lambda x, p : bernoulli_polynomial(x, p)\n",
    "    P = lambda x, p : bernoulli_polynomial(x - floor(x), p)\n",
    "    fact = lambda n : factorial(n)\n",
    "else:\n",
    "    B = function(\"B\")(x,p)\n",
    "    P = function(\"P\")(x,p)\n",
    "    fact = function(\"fact\")(n)\n",
    "\n",
    "def integral_R_p(f,symb,jx,hold, f_diff_symb_p=None):\n",
    "    vx = var(\"v_\"+str(symb))\n",
    "    if None == f_diff_symb_p:\n",
    "        deriv = diff(f, symb,p)\n",
    "    else:\n",
    "        deriv = f_diff_symb_p\n",
    "    if logging:\n",
    "        print(\"deriv\", deriv)\n",
    "\n",
    "    deriv_subs = deriv.subs(symb == vx+jx)\n",
    "    if logging:\n",
    "        print(\"deriv_subs\", deriv_subs)\n",
    "\n",
    "    int_f_diff_B_fact = integral(deriv_subs * bernoulli_polynomial(vx,p)/factorial(p), (vx,0,1), hold=hold)\n",
    "    if logging:\n",
    "        print(\"int_f_diff_B_fact\", int_f_diff_B_fact)\n",
    "\n",
    "    return int_f_diff_B_fact\n",
    "\n",
    "def integral_R_p_shifted_first(f,symb,jx,hold):\n",
    "    vx = var(\"v_\"+str(symb))\n",
    "    fn_shifted = f.subs(symb == vx + jx)\n",
    "    if logging:\n",
    "        print(\"fn_shifted\", fn_shifted)\n",
    "\n",
    "    deriv = fn_shifted.diff(vx,p)\n",
    "    if logging:\n",
    "        print(\"deriv\", deriv)\n",
    "\n",
    "    int_f_diff_B_fact = integral(deriv * B(x=vx,p=p)/fact(n=p), (vx, 0, 1), hold=hold)\n",
    "\n",
    "    if logging:\n",
    "        print(\"int_f_diff_B_fact\", int_f_diff_B_fact)\n",
    "\n",
    "    return int_f_diff_B_fact\n",
    "    \n",
    "    \n",
    "def euler_maclaurin_R_p(f,symb,a,b,p, f_diff_symb_p=None, hold_int=True, hold_sum=True):\n",
    "    if logging:\n",
    "        print(\"f\", f)\n",
    "        print(\"symb,a,b\", symb, a, b)\n",
    "        if f_diff_symb_p is not None:\n",
    "            print(\"f_diff_symb_p\", f_diff_symb_p)\n",
    "        print(\"\")\n",
    "    if use_int_R_p_j:\n",
    "        jx = var('j_'+str(symb))\n",
    "        assume(jx>0)\n",
    "        from sage.calculus.calculus import symbolic_sum\n",
    "        \n",
    "        if change_R_p_order:\n",
    "            vx = var(\"v_\"+str(symb))\n",
    "            # Change order of summation and integration\n",
    "            if use_int_R_p_shifted_first:\n",
    "                R_p = (-1)^(p+1)*integral(symbolic_sum(f.subs(symb == vx+jx).diff(vx,p)*B(x=vx,p=p)/fact(n=p), \\\n",
    "                                              jx, a, b-1, hold=hold_sum), \\\n",
    "                                          (vx,0,1), hold=hold_int)\n",
    "            else:\n",
    "                if None == f_diff_symb_p:\n",
    "                    f_diff_symb_p = diff(f,symb,p)\n",
    "                R_p = (-1)^(p+1)*integral(symbolic_sum(f_diff_symb_p.subs(symb == vx+jx)*B(x=vx,p=p)/fact(n=p), \\\n",
    "                                              jx, a, b-1, hold=hold_sum), \\\n",
    "                                          (vx,0,1), hold=hold_int)\n",
    "        else:       \n",
    "            if use_int_R_p_shifted_first:\n",
    "                term = (-1)^(p+1)*integral_R_p_shifted_first(f=f, symb=symb, jx=jx, hold=hold_int)\n",
    "                R_p = symbolic_sum(term, jx, a, b-1, hold=hold_sum)\n",
    "            else:\n",
    "                term = (-1)^(p+1)*integral_R_p(f=f, symb=symb, jx=jx, hold=hold_int, f_diff_symb_p=f_diff_symb_p)\n",
    "                R_p = symbolic_sum(term, jx, a, b-1, hold=hold_sum)\n",
    "            return R_p, term\n",
    "    else:\n",
    "        if None == f_diff_symb_p:\n",
    "            f_diff_symb_p = diff(f,symb,p)\n",
    "        if not use_num_int:\n",
    "            if logging:\n",
    "                print(\"(-1)^(p+1)*P(x=symb,p=p)/fact(n=p)\", (-1)^(p+1)*P(x=symb,p=p)/fact(n=p))\n",
    "            R_p = (-1)^(p+1)*integral(f_diff_symb_p * P(x=symb,p=p)/fact(n=p),(symb,a,b),hold=hold_int)\n",
    "        else:\n",
    "            R_p = (-1)^(p+1)*num_int(lambda symb: f_diff_symb_p * P(x=symb,p=p)/fact(n=p), a, b, v=symb)\n",
    "            \n",
    "    return R_p"
   ]
  },
  {
   "cell_type": "markdown",
   "metadata": {},
   "source": [
    "$$\\sum _{k=1}^{\\lfloor p/2\\rfloor }{\\frac {B_{k}}{(k)!}}(f^{(k-1)}(b)-f^{(k-1)}(a))$$"
   ]
  },
  {
   "cell_type": "code",
   "execution_count": 66,
   "metadata": {},
   "outputs": [],
   "source": [
    "def half_summa(f,symb,a,b):\n",
    "\n",
    "    if logging:\n",
    "        print(\"half_summa\", f,symb, a, b)\n",
    "        print(\"half_sum(a)\", f.subs(symb == a)/2)\n",
    "        if Infinity != b:\n",
    "            print(\"half_sum(b)\", f.subs(symb == b)/2)\n",
    "\n",
    "    s = subs(f, symb == a)/2\n",
    "    if Infinity != b:\n",
    "        s += f.subs(symb == b)/2\n",
    "    return s\n"
   ]
  },
  {
   "cell_type": "code",
   "execution_count": 67,
   "metadata": {},
   "outputs": [],
   "source": [
    "def sum_dfdx_bernoulis(f,symb,a,b,p):\n",
    "    dfdx_a_bernoullis = []\n",
    "    for k in range(1,1+int(p/2)):\n",
    "        dfdx_a_bernoullis += [(diff(f,symb,2*k-1))*(bernoulli(2*k)/factorial(2*k))]\n",
    "        \n",
    "    sum_dfdx_a_bernoullis = sum(dfdx_a_bernoullis)\n",
    "\n",
    "    if logging:\n",
    "        print(\"sum_dfdx_a_bernoullis\", sum_dfdx_a_bernoullis)\n",
    "        print(\"sum_dfdx_a_bernoullis(a)\", sum_dfdx_a_bernoullis.subs(symb == a))\n",
    "        if Infinity != b:\n",
    "            print(\"sum_dfdx_a_bernoullis(b)\", sum_dfdx_a_bernoullis.subs(symb == b))\n",
    "\n",
    "    s = - subs(sum_dfdx_a_bernoullis, symb == a)\n",
    "    if Infinity != b:\n",
    "        s += subs(sum_dfdx_a_bernoullis, symb == b)\n",
    "    return s"
   ]
  },
  {
   "cell_type": "code",
   "execution_count": 68,
   "metadata": {},
   "outputs": [],
   "source": [
    "def sum_dfdx_bernoulis_str(f,symb,a,b,p):\n",
    "    sum_dfdx_a_bernoullis = \"\"\n",
    "    for k in range(1,1+int(p/2)):\n",
    "        if k - 1 > 0:\n",
    "            sum_dfdx_a_bernoullis += \" + (\" + str(bernoulli(2*k)/factorial(2*k)) + \") * (\" + str(f) + \").diff(\" + str(symb) + \", \" + str(2*k-1) + \")\"\n",
    "        else:\n",
    "            sum_dfdx_a_bernoullis += \" + (\" + str(bernoulli(2*k)/factorial(2*k)) + \") * (\" + str(f) + \")\"\n",
    "            \n",
    "\n",
    "    if logging:\n",
    "        print(\"sum_dfdx_a_bernoullis\", sum_dfdx_a_bernoullis)\n",
    "        print(\"sum_dfdx_a_bernoullis(a)\", \"(\" + sum_dfdx_a_bernoullis + \").subs(\" + str(symb) + \"==\" + str(a) + \")\")\n",
    "        if Infinity != b:\n",
    "            print(\"sum_dfdx_a_bernoullis(b)\", \"(\" + sum_dfdx_a_bernoullis + \").subs(\" + str(symb) + \"==\" + str(b) + \")\")\n",
    "    s = \"\"\n",
    "\n",
    "    s += \"- (\" + sum_dfdx_a_bernoullis + \").subs(\" + str(symb) + \"==\" + str(a) + \")\"\n",
    "    if Infinity != b:\n",
    "        s += \" + (\" + sum_dfdx_a_bernoullis + \").subs(\" + str(symb) + \"==\" + str(b) + \")\"\n",
    "    return s"
   ]
  },
  {
   "cell_type": "code",
   "execution_count": 69,
   "metadata": {},
   "outputs": [],
   "source": [
    "def sum_dfdy_bernoulis_sum_dfdx_bernoulis_str(f, x, a_x, b_x, y, a_y, b_y, p):\n",
    "    str_f = sum_dfdx_bernoulis_str(f(x=x,y=y), x, a_x, b_x, p)\n",
    "    sum_dfdx_a_bernoullis = \"\"\n",
    "    for k in range(1,1+int(p/2)):\n",
    "        if k - 1 > 0:\n",
    "            sum_dfdx_a_bernoullis += \" + (\" + str(bernoulli(2*k)/factorial(2*k)) + \") * (\" + str_f + \").diff(\" + str(y) + \", \" + str(2*k-1) + \")\"\n",
    "        else:\n",
    "            sum_dfdx_a_bernoullis += \" + (\" + str(bernoulli(2*k)/factorial(2*k)) + \") * (\" + str_f + \")\"\n",
    "\n",
    "    if logging:\n",
    "        print(\"sum_dfdx_a_bernoullis\", sum_dfdx_a_bernoullis)\n",
    "        print(\"sum_dfdx_a_bernoullis(a)\", \"(\" + sum_dfdx_a_bernoullis + \").subs(\" + str(y) + \"==\" + str(a_y) + \")\")\n",
    "        if Infinity != b:\n",
    "            print(\"sum_dfdx_a_bernoullis(b)\", \"(\" + sum_dfdx_a_bernoullis + \").subs(\" + str(y) + \"==\" + str(b_y) + \")\")\n",
    "    s = \"\"\n",
    "\n",
    "    s += \"- (\" + sum_dfdx_a_bernoullis + \").subs(\" + str(y) + \"==\" + str(a_y) + \")\"\n",
    "    if Infinity != b_y:\n",
    "        s += \" + (\" + sum_dfdx_a_bernoullis + \").subs(\" + str(y) + \"==\" + str(b_y) + \")\"\n",
    "    return s"
   ]
  },
  {
   "cell_type": "code",
   "execution_count": 70,
   "metadata": {},
   "outputs": [],
   "source": [
    "def definite_integral_derivative(f, x, a, b, diff_param, hold=True):\n",
    "    from sage.symbolic.integration.integral import definite_integral\n",
    "\n",
    "    if not x.has(diff_param):\n",
    "        # integration variable != differentiation variable\n",
    "        ans = definite_integral(f.diff(diff_param), x, a, b, hold=hold)\n",
    "    else:\n",
    "        ans = SR.zero()\n",
    "\n",
    "    if hasattr(b, 'diff'):\n",
    "        if b.diff(diff_param) != 0:\n",
    "            ans += f.subs(x == b) * b.diff(diff_param)\n",
    "    if hasattr(a, 'diff'):\n",
    "        if a.diff(diff_param) != 0:\n",
    "            ans -= f.subs(x == a) * a.diff(diff_param)\n",
    "\n",
    "    return ans\n"
   ]
  },
  {
   "cell_type": "code",
   "execution_count": 71,
   "metadata": {},
   "outputs": [],
   "source": [
    "def definite_integral_derivative_str(f, x, a, b, diff_param=None, hold=False, algorithm=None):\n",
    "\n",
    "    if not x.has(diff_param):\n",
    "        # integration variable != differentiation variable\n",
    "        if algorithm is not None:\n",
    "            ans = \"integrate((\" + str(f) + \").diff(\" + str(diff_param) + \"), \" + str(x) + \", \" + str(a) + \", \" + str(b) + \", algorithm = \"\\\"\"+ algorithm + \", hold = \" + str(hold) + \")\"\n",
    "        else:\n",
    "            ans = \"definite_integral((\" + str(f) + \").diff(\" + str(diff_param) + \"), \" + str(x) + \", \" + str(a) + \", \" + str(b) + \", hold = \" + str(hold) + \")\"\n",
    "    else:\n",
    "        ans = \"\"\n",
    "\n",
    "    if hasattr(b, 'diff'):\n",
    "        if b.diff(diff_param) != 0:\n",
    "            ans += \" + \" + str(f.subs(x == b) * b.diff(diff_param))\n",
    "    if hasattr(a, 'diff'):\n",
    "        if a.diff(diff_param) != 0:\n",
    "            ans += \" - \" + str(f.subs(x == a) * a.diff(diff_param))\n",
    "\n",
    "    return ans"
   ]
  },
  {
   "cell_type": "code",
   "execution_count": 72,
   "metadata": {},
   "outputs": [],
   "source": [
    "def definite_num_int_derivative_str(f, x, a, b, diff_param=None):\n",
    "\n",
    "    if not x.has(diff_param):\n",
    "        # integration variable != differentiation variable\n",
    "        ans = \"num_int(lambda \" + str(x)+ \" : \" + str(f.diff(diff_param)) + \", \" + str(a) + \", \" + str(b) + \", v = \" + str(x) + \")\"\n",
    "    else:\n",
    "        ans = \"\"\n",
    "\n",
    "    if hasattr(b, 'diff'):\n",
    "        if b.diff(diff_param) != 0:\n",
    "            ans += \" + \" + str(f.subs(x == b) * b.diff(diff_param))\n",
    "    if hasattr(a, 'diff'):\n",
    "        if a.diff(diff_param) != 0:\n",
    "            ans += \" - \" + str(f.subs(x == a) * a.diff(diff_param))\n",
    "\n",
    "    return ans"
   ]
  },
  {
   "cell_type": "markdown",
   "metadata": {},
   "source": [
    "$$\\sum _{k=1}^{\\lfloor p/2\\rfloor }{\\frac {B_{k}}{(k)!}}(g(y)^{(k-1)}(b_y)-g(y)^{(k-1)}(a_y))$$\n",
    "where "
   ]
  },
  {
   "cell_type": "markdown",
   "metadata": {},
   "source": [
    "$$g(y) = {\\displaystyle R_{p}(y)=(-1)^{p+1}\\sum_{j=a_x}^{b_x-1} \\int _{0}^{1}\\frac{\\partial^{p}}{\\partial x^{p}}f(v_x+j,y){\\frac {B_{p}(v_x)}{p!}}\\,dv_x.}$$\n",
    "or"
   ]
  },
  {
   "cell_type": "markdown",
   "metadata": {},
   "source": [
    "$${\\displaystyle P_{k}(x)=B_{k}(x-\\lfloor x\\rfloor ),}$$\n",
    "\n",
    "$$g(y) = {\\displaystyle R_{p}=(-1)^{p+1}\\int _{a_x}^{b_x}\\frac{\\partial^{p}}{\\partial x^{p}}f(x,y){\\frac {P_{p}(x)}{p!}}\\,dx.}$$"
   ]
  },
  {
   "cell_type": "code",
   "execution_count": 73,
   "metadata": {},
   "outputs": [],
   "source": [
    "def integral_euler_maclaurin_R_p(f, x, a_x, b_x, y, a_y, b_y, p, f_diff_x_p, hold_int=True, hold_sum=True):\n",
    "    if logging:\n",
    "        print(\"f\", f)\n",
    "        print(\"f(x,y)\", f(x=x,y=y))\n",
    "        if None != f_diff_x_p:\n",
    "            print(\"f_diff_x_p\", f_diff_x_p)\n",
    "            print(\"f_diff_x_p(x,y)\", f_diff_x_p(x=x,y=y))\n",
    "        print(\"\")\n",
    "    if use_int_R_p_j:\n",
    "        jx = var('j_x')\n",
    "        assume(jx>0)\n",
    "        from sage.calculus.calculus import symbolic_sum\n",
    "        \n",
    "        if change_R_p_order:\n",
    "            vx = var(\"v_\"+str(x))\n",
    "            # Change order of summation and integration\n",
    "            if use_int_R_p_shifted_first:\n",
    "                int_R_p = (-1)^(p+1)*integral(integral(symbolic_sum(f.subs(x == vx+jx).diff(vx,p)*B(x=vx,p=p)/fact(n=p), \\\n",
    "                                              jx, a_x, b_x-1, hold=hold_sum), \\\n",
    "                                          (vx,0,1), hold=hold_int), y, a_y, b_y, hold=hold_int)\n",
    "            else:\n",
    "                if None == f_diff_x_p:\n",
    "                    f_diff_x_p = f.diff(x,p)\n",
    "                int_R_p = (-1)^(p+1)*integral(integral(symbolic_sum(f_diff_x_p.subs(x == vx+jx)*B(x=vx,p=p)/fact(n=p), \\\n",
    "                                              jx, a_x, b_x-1, hold=hold_sum), \\\n",
    "                                          (vx,0,1), hold=hold_int), y, a_y, b_y, hold=hold_int)\n",
    "        else:       \n",
    "            if use_int_R_p_shifted_first:\n",
    "                int_int = (-1)^(p+1)*integral(integral_R_p_shifted_first(f=f, symb=x, jx=jx, hold=hold_int), y, a_y, b_y, hold=hold_int)\n",
    "                int_R_p = symbolic_sum(int_int, jx, a_x, b_x-1, hold=hold_sum)\n",
    "            else:\n",
    "                int_int = (-1)^(p+1)*integral(integral_R_p(f=f, symb=x, jx=jx, hold=hold_int), y, a_y, b_y, hold=hold_int)\n",
    "                int_R_p = symbolic_sum(int_int, jx, a_x, b_x-1, hold=hold_sum)\n",
    "            return (int_R_p, int_int)\n",
    "    else:\n",
    "        if None == f_diff_x_p:\n",
    "            f_diff_x_p = f.diff(x,p)\n",
    "        integrand = lambda x, y, p : f_diff_x_p(x=x,y=y) * P(x=x,p=p)/fact(n=p)\n",
    "        if logging:\n",
    "            print(\"integrand\", integrand(x,y,p))\n",
    "        if not use_num_int:\n",
    "            int_R_p = (-1)^(p+1)*integral(integral(integrand(x,y,p),(x,a_x,b_x),hold=hold_int), y, a_y, b_y, hold=hold_int)\n",
    "        else:\n",
    "            int_R_p = (-1)^(p+1)*num_int(lambda y : num_int(lambda x : integrand(x,y,p), a_x, b_x, x), a_y, b_y, y)\n",
    "            \n",
    "    return int_R_p"
   ]
  },
  {
   "cell_type": "markdown",
   "metadata": {},
   "source": [
    "$${\\displaystyle R_{p}=(-1)^{p+1}\\sum_{j=a_y}^{b_y-1} \\int _{0}^{1}g^{(p)}(v_y+j){\\frac {B_{p}(v_y)}{p!}}\\,dv_y.}$$"
   ]
  },
  {
   "cell_type": "markdown",
   "metadata": {},
   "source": [
    "$${\\displaystyle P_{k}(y)=B_{k}(y-\\lfloor y\\rfloor ),}$$\n",
    "\n",
    "$${\\displaystyle R_{p}=(-1)^{p+1}\\int _{a_y}^{b_y}g^{(p)}(y){\\frac {P_{p}(y)}{p!}}\\,dy.}$$\n",
    "\n",
    "where"
   ]
  },
  {
   "cell_type": "markdown",
   "metadata": {},
   "source": [
    "$$g(y) = {\\displaystyle R_{p}(y)=(-1)^{p+1}\\sum_{j=a_x}^{b_x-1} \\int _{0}^{1}\\frac{\\partial^{p}}{\\partial x^{p}}f(v_x+j,y){\\frac {B_{p}(v_x)}{p!}}\\,dv_x.}$$\n",
    "or"
   ]
  },
  {
   "cell_type": "markdown",
   "metadata": {},
   "source": [
    "$${\\displaystyle P_{k}(x)=B_{k}(x-\\lfloor x\\rfloor ),}$$\n",
    "\n",
    "$$g(y) = {\\displaystyle R_{p}=(-1)^{p+1}\\int _{a_x}^{b_x}\\frac{\\partial^{p}}{\\partial x^{p}}f(x,y){\\frac {P_{p}(x)}{p!}}\\,dx.}$$"
   ]
  },
  {
   "cell_type": "code",
   "execution_count": 74,
   "metadata": {},
   "outputs": [],
   "source": [
    "def euler_maclaurin_R_p_euler_maclaurin_R_p(f, x, a_x, b_x, y, a_y, b_y, p, f_diff_x_p_diff_y_p):\n",
    "\n",
    "    from sage.calculus.calculus import symbolic_sum\n",
    "    from sage.symbolic.integration.integral import definite_integral\n",
    "    if use_int_R_p_j:\n",
    "        vx,vy = var(\"v_x, v_y\")\n",
    "        jx,jy = var(\"j_x, j_y\")\n",
    "        assume(v_y+j_y>0)\n",
    "        \n",
    "        if None == f_diff_x_p_diff_y_p:\n",
    "            f_diff_x_p_diff_y_p = f.diff(x,p).diff(y,p)\n",
    "\n",
    "        R_p_R_p = (-1)^(p+1)*symbolic_sum(definite_integral( \\\n",
    "                               (-1)^(p+1)*symbolic_sum(definite_integral(f_diff_x_p_diff_y_p.subs(x == vx + jx)  \\\n",
    "                                                              * B(x=vx,p=p)/fact(n=p), \\\n",
    "                                 vx,0,1,hold=True), v=jx, a=a_x, b=b_x-1,hold=True) \\\n",
    "                                                                        .subs(y == vy + jy)  \\\n",
    "                                                              * B(x=vy,p=p)/fact(n=p), \\\n",
    "                                 vy,0,1,hold=True), v=jy, a=a_y, b=b_y-1,hold=True)\n",
    "    else:\n",
    "        if not use_num_int:\n",
    "\n",
    "            if None == f_diff_x_p_diff_y_p:\n",
    "                f_diff_x_p_diff_y_p = f.diff(x,p)\n",
    "\n",
    "            R_p_R_p = (-1)^(p+1)*definite_integral( \\\n",
    "                               (-1)^(p+1)*definite_integral(f_diff_x_p_diff_y_p  \\\n",
    "                                                              * P(x=x,p=p)/fact(n=p), \\\n",
    "                                 x, a_x, b_x, hold=True).diff(y,p)  \\\n",
    "                                                              * P(x=y,p=p)/fact(n=p), \\\n",
    "                                 y, a_y, b_y, hold=True)\n",
    "        else:\n",
    "            f_diff_x_p_diff_y_p_num_str = \"f_diff_x_diff_y_num = lambda \" + str(x) + \", \" + str(y) + \":\" + str(f(x,y).diff(x,p).diff(y,p))\n",
    "            print(\"f_diff_x_p_diff_y_p_num_str=\", f_diff_x_p_diff_y_p_num_str)                                                                          \n",
    "            exec(preparse(f_diff_x_p_diff_y_p_num_str))\n",
    "            R_p_R_p = (-1)^(p+1)*num_int(lambda y : \\\n",
    "                               (-1)^(p+1)*num_int(lambda x : f_diff_x_p_diff_y_p_num(x,y)  \\\n",
    "                                                              * P(x=x,p=p)/fact(n=p), \\\n",
    "                                 a_x, b_x, v=x)  \\\n",
    "                                                              * P(x=y,p=p)/fact(n=p), \\\n",
    "                                 a_y, b_y, v=y)\n",
    "        \n",
    "    return R_p_R_p"
   ]
  },
  {
   "cell_type": "code",
   "execution_count": 75,
   "metadata": {},
   "outputs": [],
   "source": [
    "def euler_maclaurin_R_p_euler_maclaurin_R_p_num_int(f_diff_x_p_diff_y_p, x, a_x, b_x, y, a_y, b_y, p):\n",
    "    integrand = lambda x, y, p : f_diff_x_p_diff_y_p(x=x,y=y) * P(x=x,p=p)/fact(n=p)\n",
    "    if logging:\n",
    "        print(\"integrand =\", integrand(x,y,p))\n",
    "    R_p_R_p = (-1)^(p+1)*num_int(lambda y : \\\n",
    "              (-1)^(p+1)*num_int(lambda x : integrand(x,y,p), a_x, b_x, x) * P(x=y,p=p)/fact(n=p), a_y, b_y, y)\n",
    "    return R_p_R_p"
   ]
  },
  {
   "cell_type": "code",
   "execution_count": 76,
   "metadata": {},
   "outputs": [],
   "source": [
    "def euler_maclaurin1(f, symb, a, b, p, f_diff_symb_p=None, hold_int=True, hold_sum=True):\n",
    "    if logging:\n",
    "        print(\"f\", f)\n",
    "        print(\"symb,a,b\", symb, a, b)\n",
    "        print(\"\")\n",
    "    #u, j = var(\"u, j\")\n",
    "\n",
    "    int_fn_a_b = integral(f, (symb, a, b))\n",
    "    if logging:\n",
    "        print(\"int_fn_a_b\", int_fn_a_b)\n",
    "        \n",
    "    half = half_summa(f,symb,a,b)\n",
    "    if logging:\n",
    "        print(\"half\", half)\n",
    "    \n",
    "    #s = int_fn_a_b + sum_dfdx_a_bernoullis(b) - sum_dfdx_a_bernoullis(a) + R_p\n",
    "    s = int_fn_a_b + half + sum_dfdx_bernoulis(f,symb,a,b,p)\n",
    "    \n",
    "    if True == calc_R_p:\n",
    "        R_p = euler_maclaurin_R_p(f, symb, a, b, p, f_diff_symb_p=f_diff_symb_p,hold_int=hold_int, hold_sum=hold_sum)\n",
    "        if type(R_p) is tuple:\n",
    "            s += R_p[0]\n",
    "        else:\n",
    "            s += R_p\n",
    "\n",
    "    return s"
   ]
  },
  {
   "cell_type": "code",
   "execution_count": 77,
   "metadata": {},
   "outputs": [],
   "source": [
    "from IPython.display import display, Math, Latex"
   ]
  },
  {
   "cell_type": "code",
   "execution_count": 78,
   "metadata": {},
   "outputs": [
    {
     "name": "stdout",
     "output_type": "stream",
     "text": [
      "F(n_x, n_y)\n"
     ]
    }
   ],
   "source": [
    "a_x = var(\"a_x\")\n",
    "b_x = var(\"b_x\")\n",
    "a_y = var(\"a_y\")\n",
    "b_y = var(\"b_y\")\n",
    "\n",
    "assume(a_x, 'real')\n",
    "assume(b_x, 'real')\n",
    "assume(a_y, 'real')\n",
    "assume(b_y, 'real')\n",
    "\n",
    "assume(a_x, 'integer')\n",
    "assume(b_x, 'integer')\n",
    "assume(a_y, 'integer')\n",
    "assume(b_y, 'integer')\n",
    "\n",
    "assume(a_x > 0)\n",
    "assume(b_x > 0)\n",
    "assume(a_y > 0)\n",
    "assume(b_y > 0)\n",
    "\n",
    "v_x,v_y = var(\"v_x, v_y\")\n",
    "j_x,j_y = var(\"j_x, j_y\")\n",
    "\n",
    "assume(j_x, 'integer')\n",
    "assume(j_y, 'integer')\n",
    "assume(v_x, 'real')\n",
    "assume(v_y, 'real')\n",
    "\n",
    "assume(j_x >= 0)\n",
    "assume(v_x >= 0, v_x <= 1)\n",
    "assume(j_y >= 0)\n",
    "assume(v_y >= 0, v_y <= 1)\n",
    "\n",
    "n = QQ['n'].0\n",
    "j = QQ['j'].0\n",
    "\n",
    "#p = 4\n",
    "#p = 3\n",
    "#p = 2\n",
    "p = 1\n",
    "\n",
    "F = function(\"F\")(n_x, n_y)\n",
    "print(F)"
   ]
  },
  {
   "cell_type": "markdown",
   "metadata": {},
   "source": [
    "$${\\displaystyle R_{p}=(-1)^{p+1}\\sum_{j=a}^{b-1} \\int _{0}^{1}f^{(p)}(u+j){\\frac {B_{p}(u)}{p!}}\\,du.}$$"
   ]
  },
  {
   "cell_type": "code",
   "execution_count": 79,
   "metadata": {},
   "outputs": [],
   "source": [
    "use_int_R_p_j=False\n",
    "change_R_p_order=True\n",
    "\n",
    "use_int_R_p_shifted_first=True\n",
    "use_num_int = False\n",
    "logging = False"
   ]
  },
  {
   "cell_type": "code",
   "execution_count": 80,
   "metadata": {},
   "outputs": [
    {
     "data": {
      "text/latex": [
       "$\\displaystyle \\int_{a_{y}}^{b_{y}} \\int_{a_{x}}^{b_{x}} F\\left(n_{x}, n_{y}\\right)\\,{d n_{x}}\\,{d n_{y}}$"
      ],
      "text/plain": [
       "<IPython.core.display.Math object>"
      ]
     },
     "metadata": {},
     "output_type": "display_data"
    }
   ],
   "source": [
    "inty_intx_F = integral(integral(F,(n_x, a_x, b_x)),  (n_y, a_y, b_y))\n",
    "display(Math(latex(inty_intx_F)))"
   ]
  },
  {
   "cell_type": "code",
   "execution_count": 81,
   "metadata": {},
   "outputs": [
    {
     "data": {
      "text/latex": [
       "$\\displaystyle \\frac{1}{2} \\, \\int_{a_{y}}^{b_{y}} F\\left(a_{x}, n_{y}\\right)\\,{d n_{y}}$"
      ],
      "text/plain": [
       "<IPython.core.display.Math object>"
      ]
     },
     "metadata": {},
     "output_type": "display_data"
    }
   ],
   "source": [
    "inty_halfx_F = integral (half_summa (F, n_x, a_x, b_x), (n_y, a_y, b_y))\n",
    "display(Math(latex(inty_halfx_F)))"
   ]
  },
  {
   "cell_type": "code",
   "execution_count": 82,
   "metadata": {},
   "outputs": [
    {
     "data": {
      "text/latex": [
       "$\\displaystyle \\int_{0}^{+\\infty} \\frac{1}{2} \\, \\sqrt{n_{y}^{2} + u^{2}} f\\left(\\frac{\\pi \\sqrt{n_{y}^{2} + u^{2}}}{a k_{m}}\\right)\\,{d n_{y}}$"
      ],
      "text/plain": [
       "<IPython.core.display.Math object>"
      ]
     },
     "metadata": {},
     "output_type": "display_data"
    }
   ],
   "source": [
    "inty_halfx_Fu = lambda u, a, k_m : num_int(lambda n_y : half_summa (Fu(u, n_x, n_y, a, k_m), n_x, 0, Infinity), 0, Infinity, v = n_y)\n",
    "display(Math(latex(inty_halfx_Fu(u, a, k_m))))"
   ]
  },
  {
   "cell_type": "code",
   "execution_count": 83,
   "metadata": {},
   "outputs": [
    {
     "data": {
      "text/latex": [
       "$\\displaystyle \\int_{0}^{+\\infty} \\frac{\\sqrt{n_{y}^{2} + u^{2}}}{2 \\, {\\left(\\frac{\\pi^{4} {\\left(n_{y}^{2} + u^{2}\\right)}^{2}}{a^{4} k_{m}^{4}} + 1\\right)}}\\,{d n_{y}}$"
      ],
      "text/plain": [
       "<IPython.core.display.Math object>"
      ]
     },
     "metadata": {},
     "output_type": "display_data"
    }
   ],
   "source": [
    "inty_halfx_Fn = lambda u, a, k_m : num_int(lambda n_y : half_summa (Fn(u, n_x, n_y, a, k_m), n_x, 0, Infinity), 0, Infinity, v = n_y)\n",
    "display(Math(latex(inty_halfx_Fn(u, a, k_m))))"
   ]
  },
  {
   "cell_type": "code",
   "execution_count": 84,
   "metadata": {},
   "outputs": [
    {
     "data": {
      "text/latex": [
       "$\\displaystyle 0$"
      ],
      "text/plain": [
       "<IPython.core.display.Math object>"
      ]
     },
     "metadata": {},
     "output_type": "display_data"
    }
   ],
   "source": [
    "inty_sumx_F = integral(sum_dfdx_bernoulis (F, n_x, a_x, b_x,p), (n_y, a_y, b_y)).expand()\n",
    "display(Math(latex(inty_sumx_F)))"
   ]
  },
  {
   "cell_type": "code",
   "execution_count": 85,
   "metadata": {},
   "outputs": [
    {
     "data": {
      "text/latex": [
       "$\\displaystyle 0.0$"
      ],
      "text/plain": [
       "<IPython.core.display.Math object>"
      ]
     },
     "metadata": {},
     "output_type": "display_data"
    }
   ],
   "source": [
    "inty_sumx_Fu = lambda u, a, k_m : num_int(lambda n_y : sum_dfdx_bernoulis (Fu(u, n_x, n_y, a, k_m), n_x, 0, Infinity,p), 0, Infinity, v = n_y)\n",
    "display(Math(latex(inty_sumx_Fu(u, a, k_m))))"
   ]
  },
  {
   "cell_type": "code",
   "execution_count": 86,
   "metadata": {},
   "outputs": [
    {
     "data": {
      "text/latex": [
       "$\\displaystyle 0.0$"
      ],
      "text/plain": [
       "<IPython.core.display.Math object>"
      ]
     },
     "metadata": {},
     "output_type": "display_data"
    }
   ],
   "source": [
    "inty_sumx_Fn = lambda u, a, k_m : num_int(lambda n_y : sum_dfdx_bernoulis (Fn(u, n_x, n_y, a, k_m), n_x, 0, Infinity,p), 0, Infinity, v = n_y)\n",
    "display(Math(latex(inty_sumx_Fn(u, a, k_m))))"
   ]
  },
  {
   "cell_type": "code",
   "execution_count": 87,
   "metadata": {},
   "outputs": [
    {
     "data": {
      "text/latex": [
       "$\\displaystyle \\int_{a_{x}}^{b_{x}} \\frac{1}{2} \\, {\\left(2 \\, n_{x} - 2 \\, \\left \\lfloor n_{x} \\right \\rfloor - 1\\right)} \\frac{\\partial}{\\partial n_{x}}F\\left(n_{x}, n_{y}\\right)\\,{d n_{x}}$"
      ],
      "text/plain": [
       "<IPython.core.display.Math object>"
      ]
     },
     "metadata": {},
     "output_type": "display_data"
    }
   ],
   "source": [
    "Rpx_F = euler_maclaurin_R_p(F, n_x, a_x, b_x,p)\n",
    "if type(Rpx_F) is tuple:\n",
    "    Rpx_F = Rpx_F[0]\n",
    "\n",
    "disp(Rpx_F)"
   ]
  },
  {
   "cell_type": "code",
   "execution_count": 88,
   "metadata": {},
   "outputs": [
    {
     "data": {
      "text/latex": [
       "$\\displaystyle \\int_{a_{y}}^{b_{y}} \\frac{1}{2} \\, {\\left(2 \\, n_{y} - 2 \\, \\left \\lfloor n_{y} \\right \\rfloor - 1\\right)} \\frac{\\partial}{\\partial n_{y}}F\\left(n_{x}, n_{y}\\right)\\,{d n_{y}}$"
      ],
      "text/plain": [
       "<IPython.core.display.Math object>"
      ]
     },
     "metadata": {},
     "output_type": "display_data"
    }
   ],
   "source": [
    "Rpy_F = euler_maclaurin_R_p(F, n_y, a_y, b_y,p)\n",
    "if type(Rpy_F) is tuple:\n",
    "    Rpy_F = Rpy_F[0]\n",
    "\n",
    "disp(Rpy_F)"
   ]
  },
  {
   "cell_type": "code",
   "execution_count": 89,
   "metadata": {},
   "outputs": [
    {
     "data": {
      "text/latex": [
       "$\\displaystyle \\int_{a_{y}}^{b_{y}} \\int_{a_{x}}^{b_{x}} \\frac{1}{2} \\, {\\left(2 \\, n_{x} - 2 \\, \\left \\lfloor n_{x} \\right \\rfloor - 1\\right)} \\frac{\\partial}{\\partial n_{x}}F\\left(n_{x}, n_{y}\\right)\\,{d n_{x}}\\,{d n_{y}}$"
      ],
      "text/plain": [
       "<IPython.core.display.Math object>"
      ]
     },
     "metadata": {},
     "output_type": "display_data"
    }
   ],
   "source": [
    "inty_Rpx_F = integral(Rpx_F, (n_y, a_y, b_y), hold=True)\n",
    "disp(inty_Rpx_F)"
   ]
  },
  {
   "cell_type": "code",
   "execution_count": 90,
   "metadata": {},
   "outputs": [
    {
     "data": {
      "text/latex": [
       "$\\displaystyle \\int_{a_{y}}^{b_{y}} \\int_{a_{x}}^{b_{x}} \\frac{1}{2} \\, {\\left(2 \\, n_{x} - 2 \\, \\left \\lfloor n_{x} \\right \\rfloor - 1\\right)} \\frac{\\partial}{\\partial n_{x}}F\\left(n_{x}, n_{y}\\right)\\,{d n_{x}}\\,{d n_{y}}$"
      ],
      "text/plain": [
       "<IPython.core.display.Math object>"
      ]
     },
     "metadata": {},
     "output_type": "display_data"
    }
   ],
   "source": [
    "inty_Rpx_F = integral_euler_maclaurin_R_p(F, n_x, a_x, b_x, n_y, a_y, b_y, p, diff(F,n_x,p), hold_int=True, hold_sum=True)\n",
    "disp(inty_Rpx_F)"
   ]
  },
  {
   "cell_type": "code",
   "execution_count": 91,
   "metadata": {},
   "outputs": [
    {
     "data": {
      "text/latex": [
       "$\\displaystyle \\int_{0}^{+\\infty} \\int_{0}^{+\\infty} \\frac{1}{2} \\, {\\left(\\frac{n_{x} f\\left(\\frac{\\pi \\sqrt{n_{x}^{2} + n_{y}^{2} + u^{2}}}{a k_{m}}\\right)}{\\sqrt{n_{x}^{2} + n_{y}^{2} + u^{2}}} + \\frac{\\pi n_{x} \\mathrm{D}_{0}\\left(f\\right)\\left(\\frac{\\pi \\sqrt{n_{x}^{2} + n_{y}^{2} + u^{2}}}{a k_{m}}\\right)}{a k_{m}}\\right)} {\\left(2 \\, n_{x} - 2 \\, \\left \\lfloor n_{x} \\right \\rfloor - 1\\right)}\\,{d n_{x}}\\,{d n_{y}}$"
      ],
      "text/plain": [
       "<IPython.core.display.Math object>"
      ]
     },
     "metadata": {},
     "output_type": "display_data"
    }
   ],
   "source": [
    "Rpx_Fu = euler_maclaurin_R_p(Fu(u, n_x, n_y, a, k_m), n_x, 0, Infinity,p)\n",
    "if type(Rpx_Fu) is tuple:\n",
    "    Rpx_Fu = Rpx_Fu[0]\n",
    "\n",
    "inty_Rpx_Fu = integral(Rpx_Fu, (n_y, 0, Infinity), hold=True)\n",
    "display(Math(latex(inty_Rpx_Fu)))"
   ]
  },
  {
   "cell_type": "code",
   "execution_count": 92,
   "metadata": {},
   "outputs": [
    {
     "data": {
      "text/latex": [
       "$\\displaystyle \\int_{0}^{+\\infty} \\int_{0}^{+\\infty} \\frac{1}{2} \\, {\\left(2 \\, n_{x} - 2 \\, \\left \\lfloor n_{x} \\right \\rfloor - 1\\right)} {\\left(\\frac{n_{x}}{\\sqrt{n_{x}^{2} + n_{y}^{2} + u^{2}} {\\left(\\frac{\\pi^{4} {\\left(n_{x}^{2} + n_{y}^{2} + u^{2}\\right)}^{2}}{a^{4} k_{m}^{4}} + 1\\right)}} - \\frac{4 \\, \\pi^{4} {\\left(n_{x}^{2} + n_{y}^{2} + u^{2}\\right)}^{\\frac{3}{2}} n_{x}}{a^{4} k_{m}^{4} {\\left(\\frac{\\pi^{4} {\\left(n_{x}^{2} + n_{y}^{2} + u^{2}\\right)}^{2}}{a^{4} k_{m}^{4}} + 1\\right)}^{2}}\\right)}\\,{d n_{x}}\\,{d n_{y}}$"
      ],
      "text/plain": [
       "<IPython.core.display.Math object>"
      ]
     },
     "metadata": {},
     "output_type": "display_data"
    }
   ],
   "source": [
    "Rpx_Fn = euler_maclaurin_R_p(Fn(u, n_x, n_y, a, k_m), n_x, 0, Infinity,p)\n",
    "if type(Rpx_Fn) is tuple:\n",
    "    Rpx_Fn = R_p_Fn[0]\n",
    "\n",
    "inty_Rpx_Fn = integral(Rpx_Fn, (n_y, 0, Infinity), hold=True)\n",
    "display(Math(latex(inty_Rpx_Fn)))"
   ]
  },
  {
   "cell_type": "markdown",
   "metadata": {},
   "source": [
    "$${\\displaystyle P_{k}(x)=B_{k}(x-\\lfloor x\\rfloor ),}$$\n",
    "\n",
    "$${\\displaystyle R_{p}=(-1)^{p+1}\\int _{a}^{b}f^{(p)}(x){\\frac {P_{p}(x)}{p!}}\\,dx.}$$"
   ]
  },
  {
   "cell_type": "code",
   "execution_count": 93,
   "metadata": {},
   "outputs": [
    {
     "name": "stdout",
     "output_type": "stream",
     "text": [
      "Rpx_Fn_integrand =\n"
     ]
    },
    {
     "data": {
      "text/latex": [
       "$\\displaystyle \\frac{1}{2} \\, {\\left(2 \\, n_{x} - 2 \\, \\left \\lfloor n_{x} \\right \\rfloor - 1\\right)} {\\left(\\frac{n_{x}}{\\sqrt{n_{x}^{2} + n_{y}^{2} + u^{2}} {\\left(\\frac{\\pi^{4} {\\left(n_{x}^{2} + n_{y}^{2} + u^{2}\\right)}^{2}}{a^{4} k_{m}^{4}} + 1\\right)}} - \\frac{4 \\, \\pi^{4} {\\left(n_{x}^{2} + n_{y}^{2} + u^{2}\\right)}^{\\frac{3}{2}} n_{x}}{a^{4} k_{m}^{4} {\\left(\\frac{\\pi^{4} {\\left(n_{x}^{2} + n_{y}^{2} + u^{2}\\right)}^{2}}{a^{4} k_{m}^{4}} + 1\\right)}^{2}}\\right)}$"
      ],
      "text/plain": [
       "<IPython.core.display.Math object>"
      ]
     },
     "metadata": {},
     "output_type": "display_data"
    }
   ],
   "source": [
    "exec(preparse(\"Fn_diff_x_p = lambda u, n_x, n_y, a, k_m : \" + \\\n",
    "              str(diff(Fn(u, n_x, n_y, a, k_m),n_x,p))))\n",
    "exec(preparse(\"Rpx_Fn_integrand = lambda u, n_x, n_y, a, k_m : \" + \\\n",
    "              str((-1)^(p+1)*Fn_diff_x_p(u, n_x, n_y, a, k_m) * P(x=n_x,p=p)/fact(n=p))))\n",
    "\n",
    "print(\"Rpx_Fn_integrand =\")\n",
    "disp(Rpx_Fn_integrand(u, n_x, n_y, a, k_m))\n",
    "\n",
    "inty_Rpx_Fn_num = lambda u, a, k_m : num_int(lambda n_y : num_int(lambda n_x : Rpx_Fn_integrand(u, n_x, n_y, a, k_m), 0, Infinity, n_x), 0, Infinity, n_y)\n",
    "# inty_Rpx_Fn_num (1,1,1)"
   ]
  },
  {
   "cell_type": "code",
   "execution_count": 94,
   "metadata": {},
   "outputs": [
    {
     "name": "stdout",
     "output_type": "stream",
     "text": [
      "Rpx_Fn_j_integrand =\n"
     ]
    },
    {
     "data": {
      "text/latex": [
       "$\\displaystyle \\frac{1}{2} \\, {\\left(2 \\, v_{x} - 1\\right)} {\\left(\\frac{j_{x} + v_{x}}{\\sqrt{{\\left(j_{x} + v_{x}\\right)}^{2} + n_{y}^{2} + u^{2}} {\\left(\\frac{\\pi^{4} {\\left({\\left(j_{x} + v_{x}\\right)}^{2} + n_{y}^{2} + u^{2}\\right)}^{2}}{a^{4} k_{m}^{4}} + 1\\right)}} - \\frac{4 \\, \\pi^{4} {\\left({\\left(j_{x} + v_{x}\\right)}^{2} + n_{y}^{2} + u^{2}\\right)}^{\\frac{3}{2}} {\\left(j_{x} + v_{x}\\right)}}{a^{4} k_{m}^{4} {\\left(\\frac{\\pi^{4} {\\left({\\left(j_{x} + v_{x}\\right)}^{2} + n_{y}^{2} + u^{2}\\right)}^{2}}{a^{4} k_{m}^{4}} + 1\\right)}^{2}}\\right)}$"
      ],
      "text/plain": [
       "<IPython.core.display.Math object>"
      ]
     },
     "metadata": {},
     "output_type": "display_data"
    },
    {
     "name": "stdout",
     "output_type": "stream",
     "text": [
      "0.00028855983129961966\n"
     ]
    }
   ],
   "source": [
    "exec(preparse(\"Fn_diff_x_p = lambda u, n_x, n_y, a, k_m : \" + \\\n",
    "              str(diff(Fn(u, n_x, n_y, a, k_m),n_x,p))))\n",
    "exec(preparse(\"Rpx_Fn_j_integrand = lambda u, j_x, v_x, n_y, a, k_m : \" + \\\n",
    "              str((-1)^(p+1)*Fn_diff_x_p(u, n_x=j_x+v_x, n_y=n_y, a=a, k_m=k_m) * B(x=v_x,p=p)/fact(n=p))))\n",
    "\n",
    "print(\"Rpx_Fn_j_integrand =\")\n",
    "disp(Rpx_Fn_j_integrand(u, j_x, v_x, n_y, a, k_m))\n",
    "\n",
    "inty_Rpx_Fn_j_num = lambda u, j_x, a, k_m : num_int(lambda n_y : \\\n",
    "                                                    num_int(lambda v_x : \\\n",
    "                                                            Rpx_Fn_j_integrand(u, j_x, v_x, n_y, a, k_m), \\\n",
    "                                                            0, 1, v_x), \\\n",
    "                                                    0, Infinity, n_y)\n",
    "print(inty_Rpx_Fn_j_num (u = 1, j_x = 1, a = 1, k_m = 1))\n",
    "\n",
    "intu_inty_Rpx_Fn_j_num = lambda j_x, a, k_m : num_int(lambda u : \\\n",
    "                                                      inty_Rpx_Fn_j_num (u, j_x, a, k_m), \\\n",
    "                                                      0, Infinity, u, print_tolerance = False)"
   ]
  },
  {
   "cell_type": "code",
   "execution_count": 95,
   "metadata": {},
   "outputs": [
    {
     "name": "stdout",
     "output_type": "stream",
     "text": [
      "lim_Rpx_Fn_j_integrand =\n"
     ]
    },
    {
     "data": {
      "text/latex": [
       "$\\displaystyle \\frac{{\\left(j_{x} + v_{x}\\right)} {\\left(2 \\, v_{x} - 1\\right)}}{2 \\, \\sqrt{j_{x}^{2} + n_{y}^{2} + u^{2} + 2 \\, j_{x} v_{x} + v_{x}^{2}}}$"
      ],
      "text/plain": [
       "<IPython.core.display.Math object>"
      ]
     },
     "metadata": {},
     "output_type": "display_data"
    }
   ],
   "source": [
    "exec(preparse(\"lim_Rpx_Fn_j_integrand = lambda u, j_x, v_x, n_y : \" + \\\n",
    "              str(limit(Rpx_Fn_j_integrand(u, j_x, v_x, n_y, a, k_m), k_m=Infinity, algorithm=\"sympy\"))))\n",
    "\n",
    "print(\"lim_Rpx_Fn_j_integrand =\")\n",
    "disp(lim_Rpx_Fn_j_integrand(u, j_x, v_x, n_y))\n",
    "\n",
    "inty_lim_Rpx_Fn_j_num__= lambda u, j_x :  num_int(lambda v_x : \\\n",
    "                                                    num_int(lambda n_y : \\\n",
    "                                                            lim_Rpx_Fn_j_integrand(u, j_x, v_x, n_y), \\\n",
    "                                                            0, Infinity, n_y), \\\n",
    "                                                    0, 1, v_x), \\\n",
    "\n",
    "lim_Rpx_Fn_j_num = lambda u, j_x, n_y: num_int(lambda v_x : \\\n",
    "                                                            lim_Rpx_Fn_j_integrand(u, j_x, v_x, n_y), \\\n",
    "                                                            0, 1, v_x)\n",
    "\n",
    "inty_lim_Rpx_Fn_j_num = lambda u, j_x : num_int(lambda n_y : \\\n",
    "                                                    lim_Rpx_Fn_j_num(u, j_x, n_y), \\\n",
    "                                                    0, Infinity, n_y)\n",
    "\n",
    "inty_lim_Rpx_Fn_j_num_ = lambda u, j_x : num_int(lambda n_y : \\\n",
    "                                                    num_int(lambda v_x : \\\n",
    "                                                            lim_Rpx_Fn_j_integrand(u, j_x, v_x, n_y), \\\n",
    "                                                            0, 1, v_x), \\\n",
    "                                                    0, Infinity, n_y)\n",
    "\n",
    "intu_inty_lim_Rpx_Fn_j_num = lambda j_x : num_int(lambda u : \\\n",
    "                                                      inty_lim_Rpx_Fn_j_num (u, j_x), \\\n",
    "                                                      0, Infinity, u, print_tolerance = False)"
   ]
  },
  {
   "cell_type": "code",
   "execution_count": 96,
   "metadata": {},
   "outputs": [
    {
     "data": {
      "text/plain": [
       "0.01956904985910776"
      ]
     },
     "execution_count": 96,
     "metadata": {},
     "output_type": "execute_result"
    }
   ],
   "source": [
    "lim_Rpx_Fn_j_num(u=1, j_x=1, n_y=1)"
   ]
  },
  {
   "cell_type": "code",
   "execution_count": 97,
   "metadata": {},
   "outputs": [
    {
     "data": {
      "image/png": "[encoded data removed]",
      "text/plain": [
       "Graphics object consisting of 1 graphics primitive"
      ]
     },
     "execution_count": 97,
     "metadata": {},
     "output_type": "execute_result"
    }
   ],
   "source": [
    "v_tst = []\n",
    "\n",
    "import numpy as np\n",
    "for ny in np.arange(0, 100, 0.5):\n",
    "    val = lim_Rpx_Fn_j_num(u=1, j_x=2, n_y=ny)\n",
    "    v_tst += [(ny, val)]\n",
    "list_plot(v_tst)"
   ]
  },
  {
   "cell_type": "code",
   "execution_count": 98,
   "metadata": {},
   "outputs": [
    {
     "name": "stderr",
     "output_type": "stream",
     "text": [
      "/tmp/ipykernel_6827/2501467018.py:11: IntegrationWarning: The maximum number of subdivisions (50) has been achieved.\n",
      "  If increasing the limit yields no improvement it is advised to analyze \n",
      "  the integrand in order to determine the difficulties.  If the position of a \n",
      "  local difficulty can be determined (singularity, discontinuity) one will \n",
      "  probably gain from splitting up the interval and calling the integrator \n",
      "  on the subranges.  Perhaps a special-purpose integrator should be used.\n",
      "  integral = integrate.quad(f, a, b)\n"
     ]
    },
    {
     "data": {
      "text/plain": [
       "3.3682343097959446"
      ]
     },
     "execution_count": 98,
     "metadata": {},
     "output_type": "execute_result"
    }
   ],
   "source": [
    "inty_lim_Rpx_Fn_j_num (u = 1, j_x = 1)"
   ]
  },
  {
   "cell_type": "code",
   "execution_count": 99,
   "metadata": {},
   "outputs": [
    {
     "name": "stderr",
     "output_type": "stream",
     "text": [
      "/tmp/ipykernel_6827/2501467018.py:11: IntegrationWarning: The maximum number of subdivisions (50) has been achieved.\n",
      "  If increasing the limit yields no improvement it is advised to analyze \n",
      "  the integrand in order to determine the difficulties.  If the position of a \n",
      "  local difficulty can be determined (singularity, discontinuity) one will \n",
      "  probably gain from splitting up the interval and calling the integrator \n",
      "  on the subranges.  Perhaps a special-purpose integrator should be used.\n",
      "  integral = integrate.quad(f, a, b)\n"
     ]
    },
    {
     "name": "stdout",
     "output_type": "stream",
     "text": [
      "(0.0, 3.3579235046085425)\n",
      "(0.25, 3.3591060849801626)\n",
      "(0.5, 3.362046187846809)\n",
      "(0.75, 3.3654538048354343)\n",
      "(1.0, 3.3682343097959446)\n",
      "(1.25, 3.3698480573660516)\n",
      "(1.5, 3.3702062122772762)\n",
      "(1.75, 3.3694556070721324)\n",
      "(2.0, 3.3678220585377447)\n",
      "(2.25, 3.3655295378426113)\n",
      "(2.5, 3.362768712433618)\n",
      "(2.75, 3.3596902946187406)\n",
      "(3.0, 3.3564086112278346)\n",
      "(3.25, 3.353008247411053)\n",
      "(3.5, 3.3495507384893344)\n",
      "(3.75, 3.346080261981772)\n",
      "(4.0, 3.3426281322999256)\n",
      "(4.25, 3.3392162180654896)\n",
      "(4.5, 3.3358594882017907)\n",
      "(4.75, 3.3325678886975303)\n"
     ]
    },
    {
     "data": {
      "image/png": "[encoded data removed]",
      "text/plain": [
       "Graphics object consisting of 1 graphics primitive"
      ]
     },
     "execution_count": 99,
     "metadata": {},
     "output_type": "execute_result"
    }
   ],
   "source": [
    "v_tst = []\n",
    "\n",
    "import numpy as np\n",
    "for _u in np.arange(0, 5, 0.25):\n",
    "    val = inty_lim_Rpx_Fn_j_num(u=_u, j_x=1)\n",
    "    print((_u, val))\n",
    "    v_tst += [(_u, val)]\n",
    "list_plot(v_tst)"
   ]
  },
  {
   "cell_type": "code",
   "execution_count": 100,
   "metadata": {},
   "outputs": [
    {
     "data": {
      "text/plain": [
       "-0.00511198153682636"
      ]
     },
     "execution_count": 100,
     "metadata": {},
     "output_type": "execute_result"
    }
   ],
   "source": [
    "exec(preparse(\"G_diff_x_p = lambda n_x, n_y, ak_m : \" + str(diff(G(n_x, n_y, ak_m),n_x,p))))\n",
    "G_diff_x_p(n_x = 1.0, n_y = 1.0, ak_m = 1.0).n()"
   ]
  },
  {
   "cell_type": "code",
   "execution_count": 101,
   "metadata": {},
   "outputs": [],
   "source": [
    "exec(preparse(\"Rpx_G_j_integrand = lambda j_x, v_x, n_y, ak_m : \" + \\\n",
    "              str((-1)^(p+1)*G_diff_x_p(n_x=j_x+v_x, n_y=n_y, ak_m=ak_m) * B(x=v_x,p=p)/fact(n=p))))\n",
    "\n",
    "#print(\"Rpx_G_j_integrand =\")\n",
    "#print(Rpx_G_j_integrand(j_x, v_x, n_y, ak_m))\n",
    "\n",
    "inty_Rpx_G_j_num__ = lambda j_x, ak_m : num_int(lambda n_y : \\\n",
    "                                              num_int(lambda v_x : \\\n",
    "                                                      Rpx_G_j_integrand(j_x, v_x, n_y, ak_m), \\\n",
    "                                                      0, 1, v_x), \\\n",
    "                                              0, Infinity, n_y, print_tolerance=False)\n",
    "\n",
    "inty_Rpx_G_j_num = lambda j_x, ak_m : num_int(lambda v_x : \\\n",
    "                                              num_int(lambda n_y : \\\n",
    "                                                      Rpx_G_j_integrand(j_x, v_x, n_y, ak_m), \\\n",
    "                                                      0, Infinity, n_y), \\\n",
    "                                              0, 1, v_x, print_tolerance=False)\n",
    "\n",
    "\n",
    "\n",
    "inty_Rpx_G_j_numerical__ = lambda j_x, ak_m : numerical_integral(lambda n_y : \\\n",
    "                                              numerical_integral(lambda v_x : \\\n",
    "                                                      Rpx_G_j_integrand(j_x, v_x, n_y, ak_m), \\\n",
    "                                                      0, 1)[0], \\\n",
    "                                              0, Infinity)\n",
    "\n",
    "inty_Rpx_G_j_numerical = lambda j_x, ak_m : numerical_integral(lambda v_x : \\\n",
    "                                              numerical_integral(lambda n_y : \\\n",
    "                                                      Rpx_G_j_integrand(j_x, v_x, n_y, ak_m), \\\n",
    "                                                      0, Infinity)[0], \\\n",
    "                                              0, 1)"
   ]
  },
  {
   "cell_type": "code",
   "execution_count": 102,
   "metadata": {},
   "outputs": [],
   "source": [
    "# intu_inty_Rpx_Fn_j_num (j_x = 1, a = 1, k_m = 1)\n",
    "#tolerance = 1.4682711718525036e-10\n",
    "# 0.0009075537649605833"
   ]
  },
  {
   "cell_type": "code",
   "execution_count": 103,
   "metadata": {},
   "outputs": [],
   "source": [
    "# inty_Rpx_G_j_num__ (j_x = 1, ak_m = 1)\n",
    "# tolerance = 3.240539011216428e-11\n",
    "# 0.0009075538565536652"
   ]
  },
  {
   "cell_type": "code",
   "execution_count": 104,
   "metadata": {},
   "outputs": [],
   "source": [
    "# inty_Rpx_G_j_num (j_x = 1, ak_m = 1)\n",
    "# tolerance = 6.531660275535699e-16\n",
    "# 0.0009075538565049214"
   ]
  },
  {
   "cell_type": "code",
   "execution_count": 105,
   "metadata": {},
   "outputs": [],
   "source": [
    "# inty_Rpx_G_j_numerical__( j_x = 1, ak_m = 1)\n",
    "# (0.0009075538565536651, 3.240538963486121e-11)"
   ]
  },
  {
   "cell_type": "code",
   "execution_count": 106,
   "metadata": {},
   "outputs": [],
   "source": [
    "# inty_Rpx_G_j_numerical( j_x = 1, ak_m = 1)\n",
    "# (0.0009075538566075704, 2.3219957403971827e-16)"
   ]
  },
  {
   "cell_type": "code",
   "execution_count": 107,
   "metadata": {},
   "outputs": [
    {
     "data": {
      "text/latex": [
       "$\\displaystyle \\frac{1}{2} \\, \\int_{a_{x}}^{b_{x}} F\\left(n_{x}, a_{y}\\right)\\,{d n_{x}}$"
      ],
      "text/plain": [
       "<IPython.core.display.Math object>"
      ]
     },
     "metadata": {},
     "output_type": "display_data"
    }
   ],
   "source": [
    "halfy_intx_F = half_summa(integral           (F,(n_x, a_x, b_x)),  n_y, a_y, b_y)\n",
    "display(Math(latex(halfy_intx_F)))"
   ]
  },
  {
   "cell_type": "code",
   "execution_count": 108,
   "metadata": {},
   "outputs": [
    {
     "data": {
      "text/latex": [
       "$\\displaystyle \\frac{1}{2} \\, \\int_{0}^{+\\infty} \\sqrt{n_{x}^{2} + u^{2}} f\\left(\\frac{\\pi \\sqrt{n_{x}^{2} + u^{2}}}{a k_{m}}\\right)\\,{d n_{x}}$"
      ],
      "text/plain": [
       "<IPython.core.display.Math object>"
      ]
     },
     "metadata": {},
     "output_type": "display_data"
    }
   ],
   "source": [
    "halfy_intx_Fu = half_summa(integrate(Fu(u, n_x, n_y, a, k_m),(n_x, 0, Infinity), algorithm=\"sympy\"),  n_y, 0, Infinity)\n",
    "display(Math(latex(halfy_intx_Fu)))"
   ]
  },
  {
   "cell_type": "code",
   "execution_count": 109,
   "metadata": {},
   "outputs": [
    {
     "data": {
      "text/latex": [
       "$\\displaystyle \\int_{0}^{+\\infty} \\frac{\\sqrt{n_{y}^{2} + u^{2}}}{2 \\, {\\left(\\frac{\\pi^{4} {\\left(n_{y}^{2} + u^{2}\\right)}^{2}}{a^{4} k_{m}^{4}} + 1\\right)}}\\,{d n_{y}}$"
      ],
      "text/plain": [
       "<IPython.core.display.Math object>"
      ]
     },
     "metadata": {},
     "output_type": "display_data"
    }
   ],
   "source": [
    "disp(inty_halfx_Fn(u, a, k_m))"
   ]
  },
  {
   "cell_type": "code",
   "execution_count": 110,
   "metadata": {},
   "outputs": [],
   "source": [
    "# too long time\n",
    "# Interrupting Giac...\n",
    "halfy_intx_Fn = inty_halfx_Fn(u, a, k_m).subs(n_y == n_x)"
   ]
  },
  {
   "cell_type": "code",
   "execution_count": 111,
   "metadata": {},
   "outputs": [
    {
     "data": {
      "text/latex": [
       "$\\displaystyle \\frac{1}{2} \\, a^{4} k_{m}^{4} \\int_{0}^{+\\infty} \\frac{\\sqrt{n_{x}^{2} + u^{2}}}{a^{4} k_{m}^{4} + \\pi^{4} n_{x}^{4} + 2 \\, \\pi^{4} n_{x}^{2} u^{2} + \\pi^{4} u^{4}}\\,{d n_{x}}$"
      ],
      "text/plain": [
       "<IPython.core.display.Math object>"
      ]
     },
     "metadata": {},
     "output_type": "display_data"
    }
   ],
   "source": [
    "disp(halfy_intx_Fn)"
   ]
  },
  {
   "cell_type": "code",
   "execution_count": 112,
   "metadata": {},
   "outputs": [
    {
     "data": {
      "text/latex": [
       "$\\displaystyle \\frac{1}{4} \\, F\\left(a_{x}, a_{y}\\right)$"
      ],
      "text/plain": [
       "<IPython.core.display.Math object>"
      ]
     },
     "metadata": {},
     "output_type": "display_data"
    }
   ],
   "source": [
    "halfy_halfx_F = half_summa(half_summa(F, n_x, a_x, b_x), n_y, a_y, b_y)\n",
    "display(Math(latex(halfy_halfx_F)))"
   ]
  },
  {
   "cell_type": "code",
   "execution_count": 113,
   "metadata": {},
   "outputs": [
    {
     "data": {
      "text/latex": [
       "$\\displaystyle \\frac{1}{4} \\, u f\\left(\\frac{\\pi u}{a k_{m}}\\right)$"
      ],
      "text/plain": [
       "<IPython.core.display.Math object>"
      ]
     },
     "metadata": {},
     "output_type": "display_data"
    }
   ],
   "source": [
    "halfy_halfx_Fu = half_summa(half_summa(Fu(u, n_x, n_y, a, k_m), n_x, 0, Infinity), n_y, 0, Infinity)\n",
    "display(Math(latex(halfy_halfx_Fu)))"
   ]
  },
  {
   "cell_type": "code",
   "execution_count": 114,
   "metadata": {},
   "outputs": [
    {
     "data": {
      "text/latex": [
       "$\\displaystyle \\frac{u}{4 \\, {\\left(\\frac{\\pi^{4} u^{4}}{a^{4} k_{m}^{4}} + 1\\right)}}$"
      ],
      "text/plain": [
       "<IPython.core.display.Math object>"
      ]
     },
     "metadata": {},
     "output_type": "display_data"
    }
   ],
   "source": [
    "halfy_halfx_Fn = half_summa(half_summa(Fn(u, n_x, n_y, a, k_m), n_x, 0, Infinity), n_y, 0, Infinity)\n",
    "display(Math(latex(halfy_halfx_Fn)))"
   ]
  },
  {
   "cell_type": "code",
   "execution_count": 115,
   "metadata": {},
   "outputs": [
    {
     "data": {
      "text/latex": [
       "$\\displaystyle 0$"
      ],
      "text/plain": [
       "<IPython.core.display.Math object>"
      ]
     },
     "metadata": {},
     "output_type": "display_data"
    }
   ],
   "source": [
    "halfy_sumx_F = half_summa(sum_dfdx_bernoulis (F, n_x, a_x, b_x,p), n_y, a_y, b_y)\n",
    "display(Math(latex(halfy_sumx_F)))"
   ]
  },
  {
   "cell_type": "code",
   "execution_count": 116,
   "metadata": {},
   "outputs": [
    {
     "data": {
      "text/latex": [
       "$\\displaystyle 0$"
      ],
      "text/plain": [
       "<IPython.core.display.Math object>"
      ]
     },
     "metadata": {},
     "output_type": "display_data"
    }
   ],
   "source": [
    "halfy_sumx_Fu = half_summa(sum_dfdx_bernoulis (Fu(u, n_x, n_y, a, k_m), n_x, 0, Infinity,p), n_y, 0, Infinity)\n",
    "display(Math(latex(halfy_sumx_Fu)))"
   ]
  },
  {
   "cell_type": "code",
   "execution_count": 117,
   "metadata": {},
   "outputs": [
    {
     "data": {
      "text/latex": [
       "$\\displaystyle 0$"
      ],
      "text/plain": [
       "<IPython.core.display.Math object>"
      ]
     },
     "metadata": {},
     "output_type": "display_data"
    }
   ],
   "source": [
    "halfy_sumx_Fn = half_summa(sum_dfdx_bernoulis (Fn(u, n_x, n_y, a, k_m), n_x, 0, Infinity,p), n_y, 0, Infinity)\n",
    "display(Math(latex(halfy_sumx_Fn)))"
   ]
  },
  {
   "cell_type": "code",
   "execution_count": 118,
   "metadata": {},
   "outputs": [
    {
     "data": {
      "text/latex": [
       "$\\displaystyle -\\frac{1}{4} \\, \\int_{a_{x}}^{b_{x}} -2 \\, n_{x} \\frac{\\partial}{\\partial n_{x}}F\\left(n_{x}, a_{y}\\right)\\,{d n_{x}} - \\frac{1}{4} \\, \\int_{a_{x}}^{b_{x}} 2 \\, \\left \\lfloor n_{x} \\right \\rfloor \\frac{\\partial}{\\partial n_{x}}F\\left(n_{x}, a_{y}\\right)\\,{d n_{x}} - \\frac{1}{4} \\, \\int_{a_{x}}^{b_{x}} \\frac{\\partial}{\\partial n_{x}}F\\left(n_{x}, a_{y}\\right)\\,{d n_{x}}$"
      ],
      "text/plain": [
       "<IPython.core.display.Math object>"
      ]
     },
     "metadata": {},
     "output_type": "display_data"
    }
   ],
   "source": [
    "halfy_Rpx_F = half_summa(Rpx_F, n_y, a_y, b_y)\n",
    "display(Math(latex(halfy_Rpx_F)))"
   ]
  },
  {
   "cell_type": "raw",
   "metadata": {},
   "source": [
    "#too long time\n",
    "halfy_Rpx_Fu = half_summa(Rpx_Fu, n_y, 0, Infinity)\n",
    "display(Math(latex(halfy_Rpx_Fu)))"
   ]
  },
  {
   "cell_type": "raw",
   "metadata": {},
   "source": [
    "assume(u>0)\n",
    "half_R_p_Fn = half_summa(R_p_Fn, n_y, 0, Infinity)\n",
    "display(Math(latex(half_R_p_Fn)))"
   ]
  },
  {
   "cell_type": "code",
   "execution_count": 119,
   "metadata": {},
   "outputs": [
    {
     "data": {
      "text/latex": [
       "$\\displaystyle 0$"
      ],
      "text/plain": [
       "<IPython.core.display.Math object>"
      ]
     },
     "metadata": {},
     "output_type": "display_data"
    }
   ],
   "source": [
    "sumy_intx_F = sum_dfdx_bernoulis(integrate           (F,(n_x, a_x, b_x)),  n_y, a_y, b_y, p)\n",
    "display(Math(latex(sumy_intx_F)))"
   ]
  },
  {
   "cell_type": "code",
   "execution_count": 120,
   "metadata": {},
   "outputs": [
    {
     "data": {
      "text/latex": [
       "$\\displaystyle 0$"
      ],
      "text/plain": [
       "<IPython.core.display.Math object>"
      ]
     },
     "metadata": {},
     "output_type": "display_data"
    }
   ],
   "source": [
    "sumy_intx_Fu = sum_dfdx_bernoulis(integrate(Fu(u, n_x, n_y, a, k_m),(n_x, 0, Infinity), algorithm=\"sympy\"),  n_y, 0, Infinity, p)\n",
    "display(Math(latex(sumy_intx_Fu)))"
   ]
  },
  {
   "cell_type": "raw",
   "metadata": {},
   "source": [
    "#try:\n",
    "sum_int_Fn = sum_dfdx_bernoulis(integrate(Fn(u, n_x, n_y, a, k_m),(n_x, 0, Infinity), algorithm=\"sympy\"),  n_y, 0, Infinity, p)\n",
    "print(\"sum_int_Fn=\",sum_int_Fn)\n",
    "display(Math(latex(sum_int)))\n",
    "#except Exception as ex:\n",
    "#    print(ex)"
   ]
  },
  {
   "cell_type": "code",
   "execution_count": 121,
   "metadata": {},
   "outputs": [
    {
     "data": {
      "text/latex": [
       "$\\displaystyle 0$"
      ],
      "text/plain": [
       "<IPython.core.display.Math object>"
      ]
     },
     "metadata": {},
     "output_type": "display_data"
    }
   ],
   "source": [
    "sumy_halfx_F = sum_dfdx_bernoulis(half_summa (F, n_x, a_x, b_x), n_y, a_y, b_y, p)\n",
    "display(Math(latex(sumy_halfx_F)))"
   ]
  },
  {
   "cell_type": "code",
   "execution_count": 122,
   "metadata": {},
   "outputs": [
    {
     "data": {
      "text/latex": [
       "$\\displaystyle 0$"
      ],
      "text/plain": [
       "<IPython.core.display.Math object>"
      ]
     },
     "metadata": {},
     "output_type": "display_data"
    }
   ],
   "source": [
    "sumy_halfx_Fu = sum_dfdx_bernoulis(half_summa (Fu(u, n_x, n_y, a, k_m), n_x, 0, Infinity), n_y, 0, Infinity, p)\n",
    "display(Math(latex(sumy_halfx_Fu)))"
   ]
  },
  {
   "cell_type": "code",
   "execution_count": 123,
   "metadata": {},
   "outputs": [
    {
     "data": {
      "text/latex": [
       "$\\displaystyle 0$"
      ],
      "text/plain": [
       "<IPython.core.display.Math object>"
      ]
     },
     "metadata": {},
     "output_type": "display_data"
    }
   ],
   "source": [
    "sumy_halfx_Fn = sum_dfdx_bernoulis(half_summa (Fn(u, n_x, n_y, a, k_m), n_x, 0, Infinity), n_y, 0, Infinity, p)\n",
    "display(Math(latex(sumy_halfx_Fn)))"
   ]
  },
  {
   "cell_type": "code",
   "execution_count": 124,
   "metadata": {},
   "outputs": [
    {
     "data": {
      "text/latex": [
       "$\\displaystyle 0$"
      ],
      "text/plain": [
       "<IPython.core.display.Math object>"
      ]
     },
     "metadata": {},
     "output_type": "display_data"
    }
   ],
   "source": [
    "sumy_sumx_F = sum_dfdx_bernoulis(sum_dfdx_bernoulis (F, n_x, a_x, b_x,p), n_y, a_y, b_y, p)\n",
    "display(Math(latex(sumy_sumx_F)))"
   ]
  },
  {
   "cell_type": "code",
   "execution_count": 125,
   "metadata": {},
   "outputs": [
    {
     "data": {
      "text/latex": [
       "$\\displaystyle 0$"
      ],
      "text/plain": [
       "<IPython.core.display.Math object>"
      ]
     },
     "metadata": {},
     "output_type": "display_data"
    }
   ],
   "source": [
    "sumy_sumx_Fu = lambda u, a, k_m : sum_dfdx_bernoulis(sum_dfdx_bernoulis (Fu(u, n_x, n_y, a, k_m), n_x, 0, Infinity, p), n_y, 0, Infinity, p)\n",
    "display(Math(latex(sumy_sumx_Fu(u, a, k_m))))"
   ]
  },
  {
   "cell_type": "code",
   "execution_count": 126,
   "metadata": {},
   "outputs": [
    {
     "data": {
      "text/latex": [
       "$\\displaystyle 0$"
      ],
      "text/plain": [
       "<IPython.core.display.Math object>"
      ]
     },
     "metadata": {},
     "output_type": "display_data"
    }
   ],
   "source": [
    "sumy_sumx_Fn = lambda u, a, k_m : sum_dfdx_bernoulis(sum_dfdx_bernoulis (Fn(u, n_x, n_y, a, k_m), n_x, 0, Infinity, p), n_y, 0, Infinity, p)\n",
    "display(Math(latex(sumy_sumx_Fn(u, a, k_m))))"
   ]
  },
  {
   "cell_type": "code",
   "execution_count": 127,
   "metadata": {},
   "outputs": [
    {
     "data": {
      "text/latex": [
       "$\\displaystyle 0$"
      ],
      "text/plain": [
       "<IPython.core.display.Math object>"
      ]
     },
     "metadata": {},
     "output_type": "display_data"
    }
   ],
   "source": [
    "sumy_Rpx_F = sum_dfdx_bernoulis(Rpx_F, n_y, a_y, b_y, p)\n",
    "display(Math(latex(sumy_Rpx_F)))"
   ]
  },
  {
   "cell_type": "code",
   "execution_count": 128,
   "metadata": {},
   "outputs": [
    {
     "name": "stdout",
     "output_type": "stream",
     "text": [
      "halfx_F=\n"
     ]
    },
    {
     "data": {
      "text/latex": [
       "$\\displaystyle \\frac{1}{2} \\, F\\left(a_{x}, n_{y}\\right)$"
      ],
      "text/plain": [
       "<IPython.core.display.Math object>"
      ]
     },
     "metadata": {},
     "output_type": "display_data"
    },
    {
     "name": "stdout",
     "output_type": "stream",
     "text": [
      "halfx_F_diff_y_p=\n"
     ]
    },
    {
     "data": {
      "text/latex": [
       "$\\displaystyle \\frac{1}{2} \\, \\frac{\\partial}{\\partial n_{y}}F\\left(a_{x}, n_{y}\\right)$"
      ],
      "text/plain": [
       "<IPython.core.display.Math object>"
      ]
     },
     "metadata": {},
     "output_type": "display_data"
    },
    {
     "name": "stdout",
     "output_type": "stream",
     "text": [
      "Rpy_halfx_F=\n"
     ]
    },
    {
     "data": {
      "text/latex": [
       "$\\displaystyle \\int_{a_{y}}^{b_{y}} \\frac{1}{4} \\, {\\left(2 \\, n_{y} - 2 \\, \\left \\lfloor n_{y} \\right \\rfloor - 1\\right)} \\frac{\\partial}{\\partial n_{y}}F\\left(a_{x}, n_{y}\\right)\\,{d n_{y}}$"
      ],
      "text/plain": [
       "<IPython.core.display.Math object>"
      ]
     },
     "metadata": {},
     "output_type": "display_data"
    }
   ],
   "source": [
    "halfx_F = half_summa (F, n_x, a_x, b_x)\n",
    "print(\"halfx_F=\")\n",
    "display(Math(latex(halfx_F)))\n",
    "\n",
    "halfx_F_diff_y_p = halfx_F.diff(n_y,p)\n",
    "print(\"halfx_F_diff_y_p=\")\n",
    "display(Math(latex(halfx_F_diff_y_p)))\n",
    "\n",
    "Rpy_halfx_F = euler_maclaurin_R_p(halfx_F, n_y, a_y, b_y, p, f_diff_symb_p=halfx_F_diff_y_p)\n",
    "print(\"Rpy_halfx_F=\")\n",
    "display(Math(latex(Rpy_halfx_F)))"
   ]
  },
  {
   "cell_type": "code",
   "execution_count": 129,
   "metadata": {},
   "outputs": [
    {
     "name": "stdout",
     "output_type": "stream",
     "text": [
      "halfx_Fu=\n"
     ]
    },
    {
     "data": {
      "text/latex": [
       "$\\displaystyle \\frac{1}{2} \\, \\sqrt{n_{y}^{2} + u^{2}} f\\left(\\frac{\\pi \\sqrt{n_{y}^{2} + u^{2}}}{a k_{m}}\\right)$"
      ],
      "text/plain": [
       "<IPython.core.display.Math object>"
      ]
     },
     "metadata": {},
     "output_type": "display_data"
    },
    {
     "name": "stdout",
     "output_type": "stream",
     "text": [
      "halfx_Fu_diff_y_p=\n"
     ]
    },
    {
     "data": {
      "text/latex": [
       "$\\displaystyle \\frac{n_{y} f\\left(\\frac{\\pi \\sqrt{n_{y}^{2} + u^{2}}}{a k_{m}}\\right)}{2 \\, \\sqrt{n_{y}^{2} + u^{2}}} + \\frac{\\pi n_{y} \\mathrm{D}_{0}\\left(f\\right)\\left(\\frac{\\pi \\sqrt{n_{y}^{2} + u^{2}}}{a k_{m}}\\right)}{2 \\, a k_{m}}$"
      ],
      "text/plain": [
       "<IPython.core.display.Math object>"
      ]
     },
     "metadata": {},
     "output_type": "display_data"
    },
    {
     "name": "stdout",
     "output_type": "stream",
     "text": [
      "Rpy_half_Fu=\n"
     ]
    },
    {
     "data": {
      "text/latex": [
       "$\\displaystyle \\int_{0}^{+\\infty} \\frac{1}{4} \\, {\\left(\\frac{n_{y} f\\left(\\frac{\\pi \\sqrt{n_{y}^{2} + u^{2}}}{a k_{m}}\\right)}{\\sqrt{n_{y}^{2} + u^{2}}} + \\frac{\\pi n_{y} \\mathrm{D}_{0}\\left(f\\right)\\left(\\frac{\\pi \\sqrt{n_{y}^{2} + u^{2}}}{a k_{m}}\\right)}{a k_{m}}\\right)} {\\left(2 \\, n_{y} - 2 \\, \\left \\lfloor n_{y} \\right \\rfloor - 1\\right)}\\,{d n_{y}}$"
      ],
      "text/plain": [
       "<IPython.core.display.Math object>"
      ]
     },
     "metadata": {},
     "output_type": "display_data"
    }
   ],
   "source": [
    "halfx_Fu = half_summa (Fu(u, n_x, n_y, a, k_m), n_x, 0, Infinity)\n",
    "print(\"halfx_Fu=\")\n",
    "display(Math(latex(halfx_Fu)))\n",
    "\n",
    "halfx_Fu_diff_y_p = halfx_Fu.diff(n_y,p)\n",
    "print(\"halfx_Fu_diff_y_p=\")\n",
    "display(Math(latex(halfx_Fu_diff_y_p)))\n",
    "\n",
    "Rpy_halfx_Fu = euler_maclaurin_R_p(halfx_Fu, n_y, 0, Infinity, p, f_diff_symb_p=halfx_Fu_diff_y_p)\n",
    "print(\"Rpy_half_Fu=\")\n",
    "display(Math(latex(Rpy_halfx_Fu)))"
   ]
  },
  {
   "cell_type": "code",
   "execution_count": 130,
   "metadata": {},
   "outputs": [
    {
     "name": "stdout",
     "output_type": "stream",
     "text": [
      "halfx_Fn=\n"
     ]
    },
    {
     "data": {
      "text/latex": [
       "$\\displaystyle \\frac{\\sqrt{n_{y}^{2} + u^{2}}}{2 \\, {\\left(\\frac{\\pi^{4} {\\left(n_{y}^{2} + u^{2}\\right)}^{2}}{a^{4} k_{m}^{4}} + 1\\right)}}$"
      ],
      "text/plain": [
       "<IPython.core.display.Math object>"
      ]
     },
     "metadata": {},
     "output_type": "display_data"
    },
    {
     "name": "stdout",
     "output_type": "stream",
     "text": [
      "halfx_Fn_diff_y_p=\n"
     ]
    },
    {
     "data": {
      "text/latex": [
       "$\\displaystyle \\frac{n_{y}}{2 \\, \\sqrt{n_{y}^{2} + u^{2}} {\\left(\\frac{\\pi^{4} {\\left(n_{y}^{2} + u^{2}\\right)}^{2}}{a^{4} k_{m}^{4}} + 1\\right)}} - \\frac{2 \\, \\pi^{4} {\\left(n_{y}^{2} + u^{2}\\right)}^{\\frac{3}{2}} n_{y}}{a^{4} k_{m}^{4} {\\left(\\frac{\\pi^{4} {\\left(n_{y}^{2} + u^{2}\\right)}^{2}}{a^{4} k_{m}^{4}} + 1\\right)}^{2}}$"
      ],
      "text/plain": [
       "<IPython.core.display.Math object>"
      ]
     },
     "metadata": {},
     "output_type": "display_data"
    },
    {
     "name": "stdout",
     "output_type": "stream",
     "text": [
      "Rpy_half_Fn=\n"
     ]
    },
    {
     "data": {
      "text/latex": [
       "$\\displaystyle \\int_{0}^{+\\infty} \\frac{1}{4} \\, {\\left(2 \\, n_{y} - 2 \\, \\left \\lfloor n_{y} \\right \\rfloor - 1\\right)} {\\left(\\frac{n_{y}}{\\sqrt{n_{y}^{2} + u^{2}} {\\left(\\frac{\\pi^{4} {\\left(n_{y}^{2} + u^{2}\\right)}^{2}}{a^{4} k_{m}^{4}} + 1\\right)}} - \\frac{4 \\, \\pi^{4} {\\left(n_{y}^{2} + u^{2}\\right)}^{\\frac{3}{2}} n_{y}}{a^{4} k_{m}^{4} {\\left(\\frac{\\pi^{4} {\\left(n_{y}^{2} + u^{2}\\right)}^{2}}{a^{4} k_{m}^{4}} + 1\\right)}^{2}}\\right)}\\,{d n_{y}}$"
      ],
      "text/plain": [
       "<IPython.core.display.Math object>"
      ]
     },
     "metadata": {},
     "output_type": "display_data"
    }
   ],
   "source": [
    "halfx_Fn = half_summa (Fn(u, n_x, n_y, a, k_m), n_x, 0, Infinity)\n",
    "print(\"halfx_Fn=\")\n",
    "display(Math(latex(halfx_Fn)))\n",
    "\n",
    "halfx_Fn_diff_y_p = halfx_Fn.diff(n_y,p)\n",
    "print(\"halfx_Fn_diff_y_p=\")\n",
    "display(Math(latex(halfx_Fn_diff_y_p)))\n",
    "\n",
    "Rpy_halfx_Fn = euler_maclaurin_R_p(halfx_Fn, n_y, 0, Infinity, p, f_diff_symb_p=halfx_Fn_diff_y_p)\n",
    "print(\"Rpy_half_Fn=\")\n",
    "display(Math(latex(Rpy_halfx_Fn)))"
   ]
  },
  {
   "cell_type": "code",
   "execution_count": 131,
   "metadata": {},
   "outputs": [
    {
     "data": {
      "text/latex": [
       "$\\displaystyle 0$"
      ],
      "text/plain": [
       "<IPython.core.display.Math object>"
      ]
     },
     "metadata": {},
     "output_type": "display_data"
    }
   ],
   "source": [
    "sumx_F = sum_dfdx_bernoulis (F, n_x, a_x, b_x,p)\n",
    "display(Math(latex(sumx_F)))"
   ]
  },
  {
   "cell_type": "code",
   "execution_count": 132,
   "metadata": {},
   "outputs": [
    {
     "data": {
      "text/latex": [
       "$\\displaystyle 0$"
      ],
      "text/plain": [
       "<IPython.core.display.Math object>"
      ]
     },
     "metadata": {},
     "output_type": "display_data"
    }
   ],
   "source": [
    "sumy_F = sum_dfdx_bernoulis (F, n_y, a_y, b_y,p)\n",
    "display(Math(latex(sumy_F)))"
   ]
  },
  {
   "cell_type": "code",
   "execution_count": 133,
   "metadata": {},
   "outputs": [
    {
     "data": {
      "text/latex": [
       "$\\displaystyle \\int_{a_{y}}^{b_{y}} 0\\,{d n_{y}}$"
      ],
      "text/plain": [
       "<IPython.core.display.Math object>"
      ]
     },
     "metadata": {},
     "output_type": "display_data"
    }
   ],
   "source": [
    "sumx_F_diff_y_p = diff(sumx_F, n_y, p)\n",
    "Rpy_sumx_F = euler_maclaurin_R_p(sumx_F, n_y, a_y, b_y, p, f_diff_symb_p=sumx_F_diff_y_p)\n",
    "display(Math(latex(Rpy_sumx_F)))"
   ]
  },
  {
   "cell_type": "code",
   "execution_count": 134,
   "metadata": {},
   "outputs": [
    {
     "name": "stdout",
     "output_type": "stream",
     "text": [
      "sumx_Fu=\n"
     ]
    },
    {
     "data": {
      "text/latex": [
       "$\\displaystyle 0$"
      ],
      "text/plain": [
       "<IPython.core.display.Math object>"
      ]
     },
     "metadata": {},
     "output_type": "display_data"
    },
    {
     "data": {
      "text/latex": [
       "$\\displaystyle \\int_{0}^{+\\infty} 0\\,{d n_{y}}$"
      ],
      "text/plain": [
       "<IPython.core.display.Math object>"
      ]
     },
     "metadata": {},
     "output_type": "display_data"
    }
   ],
   "source": [
    "sumx_Fu = sum_dfdx_bernoulis (Fu(u, n_x, n_y, a, k_m), n_x, 0, Infinity, p)\n",
    "print(\"sumx_Fu=\")\n",
    "display(Math(latex(sumx_Fu)))\n",
    "\n",
    "sumx_Fu_diff_y_p = diff(sumx_Fu,n_y,p)\n",
    "\n",
    "Rpy_sumx_Fu = euler_maclaurin_R_p(sumx_Fu, n_y, 0, Infinity, p, f_diff_symb_p=sumx_Fu_diff_y_p)\n",
    "display(Math(latex(Rpy_sumx_Fu)))"
   ]
  },
  {
   "cell_type": "code",
   "execution_count": 135,
   "metadata": {},
   "outputs": [
    {
     "name": "stdout",
     "output_type": "stream",
     "text": [
      "sumx_Fn=\n"
     ]
    },
    {
     "data": {
      "text/latex": [
       "$\\displaystyle 0$"
      ],
      "text/plain": [
       "<IPython.core.display.Math object>"
      ]
     },
     "metadata": {},
     "output_type": "display_data"
    },
    {
     "data": {
      "text/latex": [
       "$\\displaystyle \\int_{0}^{+\\infty} 0\\,{d n_{y}}$"
      ],
      "text/plain": [
       "<IPython.core.display.Math object>"
      ]
     },
     "metadata": {},
     "output_type": "display_data"
    }
   ],
   "source": [
    "sumx_Fn = sum_dfdx_bernoulis (Fn(u, n_x, n_y, a, k_m), n_x, 0, Infinity, p)\n",
    "print(\"sumx_Fn=\")\n",
    "display(Math(latex(sumx_Fn)))\n",
    "\n",
    "sumx_Fn_diff_y_p = diff(sumx_Fn,n_y,p)\n",
    "\n",
    "Rpy_sumx_Fn = euler_maclaurin_R_p(sumx_Fn, n_y, 0, Infinity, p, f_diff_symb_p=sumx_Fn_diff_y_p)\n",
    "display(Math(latex(Rpy_sumx_Fn)))"
   ]
  },
  {
   "cell_type": "code",
   "execution_count": 136,
   "metadata": {},
   "outputs": [
    {
     "data": {
      "text/latex": [
       "$\\displaystyle \\int_{a_{x}}^{b_{x}} \\frac{1}{2} \\, {\\left(2 \\, n_{x} - 2 \\, \\left \\lfloor n_{x} \\right \\rfloor - 1\\right)} \\frac{\\partial}{\\partial n_{x}}F\\left(n_{x}, n_{y}\\right)\\,{d n_{x}}$"
      ],
      "text/plain": [
       "<IPython.core.display.Math object>"
      ]
     },
     "metadata": {},
     "output_type": "display_data"
    }
   ],
   "source": [
    "disp(Rpx_F)"
   ]
  },
  {
   "cell_type": "code",
   "execution_count": 137,
   "metadata": {},
   "outputs": [
    {
     "data": {
      "text/latex": [
       "$\\displaystyle \\int_{a_{x}}^{b_{x}} \\frac{1}{2} \\, {\\left(2 \\, n_{x} - 2 \\, \\left \\lfloor n_{x} \\right \\rfloor - 1\\right)} \\frac{\\partial^{2}}{\\partial n_{x}\\partial n_{y}}F\\left(n_{x}, n_{y}\\right)\\,{d n_{x}}$"
      ],
      "text/plain": [
       "<IPython.core.display.Math object>"
      ]
     },
     "metadata": {},
     "output_type": "display_data"
    }
   ],
   "source": [
    "Rpx_F_diff_y_p = Rpx_F.diff(n_y,p)\n",
    "disp(Rpx_F_diff_y_p)"
   ]
  },
  {
   "cell_type": "code",
   "execution_count": 138,
   "metadata": {},
   "outputs": [
    {
     "data": {
      "text/latex": [
       "$\\displaystyle \\int_{a_{y}}^{b_{y}} \\frac{1}{2} \\, {\\left(2 \\, n_{y} - 2 \\, \\left \\lfloor n_{y} \\right \\rfloor - 1\\right)} \\int_{a_{x}}^{b_{x}} \\frac{1}{2} \\, {\\left(2 \\, n_{x} - 2 \\, \\left \\lfloor n_{x} \\right \\rfloor - 1\\right)} \\frac{\\partial^{2}}{\\partial n_{x}\\partial n_{y}}F\\left(n_{x}, n_{y}\\right)\\,{d n_{x}}\\,{d n_{y}}$"
      ],
      "text/plain": [
       "<IPython.core.display.Math object>"
      ]
     },
     "metadata": {},
     "output_type": "display_data"
    }
   ],
   "source": [
    "Rpy_Rpx_F = euler_maclaurin_R_p(Rpx_F, n_y, a_y, b_y, p, f_diff_symb_p=Rpx_F_diff_y_p)\n",
    "disp(Rpy_Rpx_F)"
   ]
  },
  {
   "cell_type": "code",
   "execution_count": 139,
   "metadata": {},
   "outputs": [
    {
     "data": {
      "text/latex": [
       "$\\displaystyle \\int_{a_{y}}^{b_{y}} \\frac{1}{2} \\, {\\left(2 \\, n_{y} - 2 \\, \\left \\lfloor n_{y} \\right \\rfloor - 1\\right)} \\int_{a_{x}}^{b_{x}} \\frac{1}{2} \\, {\\left(2 \\, n_{x} - 2 \\, \\left \\lfloor n_{x} \\right \\rfloor - 1\\right)} \\frac{\\partial^{2}}{\\partial n_{x}\\partial n_{y}}F\\left(n_{x}, n_{y}\\right)\\,{d n_{x}}\\,{d n_{y}}$"
      ],
      "text/plain": [
       "<IPython.core.display.Math object>"
      ]
     },
     "metadata": {},
     "output_type": "display_data"
    }
   ],
   "source": [
    "Rpy_Rpx__F = euler_maclaurin_R_p_euler_maclaurin_R_p(F, n_x, a_x, b_x,    n_y, a_y, b_y, p, f_diff_x_p_diff_y_p=None)\n",
    "display(Math(latex(Rpy_Rpx__F)))"
   ]
  },
  {
   "cell_type": "code",
   "execution_count": 140,
   "metadata": {},
   "outputs": [
    {
     "data": {
      "text/latex": [
       "$\\displaystyle {\\sum_{j_{y}=a_{y}}^{b_{y} - 1} \\int_{0}^{1} \\frac{1}{2} \\, {\\left(2 \\, v_{y} - 1\\right)} {\\sum_{j_{x}=a_{x}}^{b_{x} - 1} \\int_{0}^{1} \\frac{1}{2} \\, {\\left(2 \\, v_{x} - 1\\right)} \\mathrm{D}_{0, 1}\\left(F\\right)\\left(j_{x} + v_{x}, j_{y} + v_{y}\\right)\\,{d v_{x}}}\\,{d v_{y}}}$"
      ],
      "text/plain": [
       "<IPython.core.display.Math object>"
      ]
     },
     "metadata": {},
     "output_type": "display_data"
    }
   ],
   "source": [
    "use_int_R_p_j=True\n",
    "change_R_p_order=True\n",
    "\n",
    "Rpy_Rpx_j_F = euler_maclaurin_R_p_euler_maclaurin_R_p(F, n_x, a_x, b_x,    n_y, a_y, b_y, p, f_diff_x_p_diff_y_p=None)\n",
    "display(Math(latex(Rpy_Rpx_j_F)))"
   ]
  },
  {
   "cell_type": "code",
   "execution_count": 141,
   "metadata": {},
   "outputs": [
    {
     "data": {
      "text/latex": [
       "$\\displaystyle \\int_{0}^{+\\infty} \\frac{1}{2} \\, {\\left(2 \\, n_{x} - 2 \\, \\left \\lfloor n_{x} \\right \\rfloor - 1\\right)} {\\left(\\frac{n_{x}}{\\sqrt{n_{x}^{2} + n_{y}^{2} + u^{2}} {\\left(\\frac{\\pi^{4} {\\left(n_{x}^{2} + n_{y}^{2} + u^{2}\\right)}^{2}}{a^{4} k_{m}^{4}} + 1\\right)}} - \\frac{4 \\, \\pi^{4} {\\left(n_{x}^{2} + n_{y}^{2} + u^{2}\\right)}^{\\frac{3}{2}} n_{x}}{a^{4} k_{m}^{4} {\\left(\\frac{\\pi^{4} {\\left(n_{x}^{2} + n_{y}^{2} + u^{2}\\right)}^{2}}{a^{4} k_{m}^{4}} + 1\\right)}^{2}}\\right)}\\,{d n_{x}}$"
      ],
      "text/plain": [
       "<IPython.core.display.Math object>"
      ]
     },
     "metadata": {},
     "output_type": "display_data"
    }
   ],
   "source": [
    "disp(Rpx_Fn)"
   ]
  },
  {
   "cell_type": "code",
   "execution_count": 142,
   "metadata": {},
   "outputs": [
    {
     "data": {
      "text/latex": [
       "$\\displaystyle -\\frac{n_{x} n_{y}}{{\\left(n_{x}^{2} + n_{y}^{2} + u^{2}\\right)}^{\\frac{3}{2}} {\\left(\\frac{\\pi^{4} {\\left(n_{x}^{2} + n_{y}^{2} + u^{2}\\right)}^{2}}{a^{4} k_{m}^{4}} + 1\\right)}} - \\frac{16 \\, \\pi^{4} \\sqrt{n_{x}^{2} + n_{y}^{2} + u^{2}} n_{x} n_{y}}{a^{4} k_{m}^{4} {\\left(\\frac{\\pi^{4} {\\left(n_{x}^{2} + n_{y}^{2} + u^{2}\\right)}^{2}}{a^{4} k_{m}^{4}} + 1\\right)}^{2}} + \\frac{32 \\, \\pi^{8} {\\left(n_{x}^{2} + n_{y}^{2} + u^{2}\\right)}^{\\frac{5}{2}} n_{x} n_{y}}{a^{8} k_{m}^{8} {\\left(\\frac{\\pi^{4} {\\left(n_{x}^{2} + n_{y}^{2} + u^{2}\\right)}^{2}}{a^{4} k_{m}^{4}} + 1\\right)}^{3}}$"
      ],
      "text/plain": [
       "<IPython.core.display.Math object>"
      ]
     },
     "metadata": {},
     "output_type": "display_data"
    }
   ],
   "source": [
    "Fn_diff_x_p_diff_y_p_ = Fn(u, n_x, n_y, a, k_m).diff(n_x, p).diff(n_y,p)\n",
    "disp(Fn_diff_x_p_diff_y_p_)"
   ]
  },
  {
   "cell_type": "markdown",
   "metadata": {},
   "source": [
    "$${\\displaystyle P_{k}(x)=B_{k}(x-\\lfloor x\\rfloor ),}$$\n",
    "\n",
    "$${\\displaystyle R_{p}=(-1)^{p+1}\\int _{a}^{b}f^{(p)}(x){\\frac {P_{p}(x)}{p!}}\\,dx.}$$"
   ]
  },
  {
   "cell_type": "code",
   "execution_count": 143,
   "metadata": {},
   "outputs": [
    {
     "name": "stdout",
     "output_type": "stream",
     "text": [
      "Rpy_Rpx_Fn_integrand =\n"
     ]
    },
    {
     "data": {
      "text/latex": [
       "$\\displaystyle -\\frac{1}{4} \\, {\\left(2 \\, n_{x} - 2 \\, \\left \\lfloor n_{x} \\right \\rfloor - 1\\right)} {\\left(2 \\, n_{y} - 2 \\, \\left \\lfloor n_{y} \\right \\rfloor - 1\\right)} {\\left(\\frac{n_{x} n_{y}}{{\\left(n_{x}^{2} + n_{y}^{2} + u^{2}\\right)}^{\\frac{3}{2}} {\\left(\\frac{\\pi^{4} {\\left(n_{x}^{2} + n_{y}^{2} + u^{2}\\right)}^{2}}{a^{4} k_{m}^{4}} + 1\\right)}} + \\frac{16 \\, \\pi^{4} \\sqrt{n_{x}^{2} + n_{y}^{2} + u^{2}} n_{x} n_{y}}{a^{4} k_{m}^{4} {\\left(\\frac{\\pi^{4} {\\left(n_{x}^{2} + n_{y}^{2} + u^{2}\\right)}^{2}}{a^{4} k_{m}^{4}} + 1\\right)}^{2}} - \\frac{32 \\, \\pi^{8} {\\left(n_{x}^{2} + n_{y}^{2} + u^{2}\\right)}^{\\frac{5}{2}} n_{x} n_{y}}{a^{8} k_{m}^{8} {\\left(\\frac{\\pi^{4} {\\left(n_{x}^{2} + n_{y}^{2} + u^{2}\\right)}^{2}}{a^{4} k_{m}^{4}} + 1\\right)}^{3}}\\right)}$"
      ],
      "text/plain": [
       "<IPython.core.display.Math object>"
      ]
     },
     "metadata": {},
     "output_type": "display_data"
    }
   ],
   "source": [
    "exec(preparse(\"Fn_diff_x_p_diff_y_p = lambda u, n_x, n_y, a, k_m : \" + str(Fn_diff_x_p_diff_y_p_)))\n",
    "exec(preparse(\"Rpy_Rpx_Fn_integrand = lambda u, n_x, n_y, a, k_m : \" + str(\n",
    "                                                   (-1)^(p+1)*(-1)^(p+1) \\\n",
    "                                                 * Fn_diff_x_p_diff_y_p(u, n_x, n_y, a, k_m) \\\n",
    "                                                 * (P(x=n_y,p=p)/fact(n=p)) \\\n",
    "                                                 * (P(x=n_x,p=p)/fact(n=p)))))\n",
    "\n",
    "print(\"Rpy_Rpx_Fn_integrand =\")\n",
    "disp(Rpy_Rpx_Fn_integrand(u, n_x, n_y, a, k_m))\n",
    "\n",
    "Rpy_Rpx_Fn_num = lambda u, a, k_m : num_int(lambda n_y : num_int(lambda n_x : Rpy_Rpx_Fn_integrand(u, n_x, n_y, a, k_m), 0, Infinity, n_x), 0, Infinity, n_y)\n",
    "\n",
    "# too long\n",
    "# The maximum number of subdivisions (50) has been achieved.\n",
    "# The integral is probably divergent, or slowly convergent.\n",
    "# Rpy_Rpx_Fn_num (1,1,1)"
   ]
  },
  {
   "cell_type": "code",
   "execution_count": 144,
   "metadata": {},
   "outputs": [
    {
     "name": "stdout",
     "output_type": "stream",
     "text": [
      "Rpy_Rpx_Fn_j_integrand =\n"
     ]
    },
    {
     "data": {
      "text/latex": [
       "$\\displaystyle -\\frac{1}{4} \\, {\\left(2 \\, v_{x} - 1\\right)} {\\left(2 \\, v_{y} - 1\\right)} {\\left(\\frac{{\\left(j_{x} + v_{x}\\right)} {\\left(j_{y} + v_{y}\\right)}}{{\\left({\\left(j_{x} + v_{x}\\right)}^{2} + {\\left(j_{y} + v_{y}\\right)}^{2} + u^{2}\\right)}^{\\frac{3}{2}} {\\left(\\frac{\\pi^{4} {\\left({\\left(j_{x} + v_{x}\\right)}^{2} + {\\left(j_{y} + v_{y}\\right)}^{2} + u^{2}\\right)}^{2}}{a^{4} k_{m}^{4}} + 1\\right)}} + \\frac{16 \\, \\pi^{4} \\sqrt{{\\left(j_{x} + v_{x}\\right)}^{2} + {\\left(j_{y} + v_{y}\\right)}^{2} + u^{2}} {\\left(j_{x} + v_{x}\\right)} {\\left(j_{y} + v_{y}\\right)}}{a^{4} k_{m}^{4} {\\left(\\frac{\\pi^{4} {\\left({\\left(j_{x} + v_{x}\\right)}^{2} + {\\left(j_{y} + v_{y}\\right)}^{2} + u^{2}\\right)}^{2}}{a^{4} k_{m}^{4}} + 1\\right)}^{2}} - \\frac{32 \\, \\pi^{8} {\\left({\\left(j_{x} + v_{x}\\right)}^{2} + {\\left(j_{y} + v_{y}\\right)}^{2} + u^{2}\\right)}^{\\frac{5}{2}} {\\left(j_{x} + v_{x}\\right)} {\\left(j_{y} + v_{y}\\right)}}{a^{8} k_{m}^{8} {\\left(\\frac{\\pi^{4} {\\left({\\left(j_{x} + v_{x}\\right)}^{2} + {\\left(j_{y} + v_{y}\\right)}^{2} + u^{2}\\right)}^{2}}{a^{4} k_{m}^{4}} + 1\\right)}^{3}}\\right)}$"
      ],
      "text/plain": [
       "<IPython.core.display.Math object>"
      ]
     },
     "metadata": {},
     "output_type": "display_data"
    }
   ],
   "source": [
    "exec(preparse(\"Rpy_Rpx_Fn_j_integrand = lambda u, j_x, j_y, v_x, v_y, a, k_m : \" + str(\n",
    "                                    (-1)^(p+1)*(-1)^(p+1) \\\n",
    "                                    * Fn_diff_x_p_diff_y_p(u, n_x=v_x + j_x, n_y = v_y + j_y, a=a, k_m=k_m) \\\n",
    "                                    * (B(x=v_y,p=p)/fact(n=p)) \\\n",
    "                                    * (B(x=v_x,p=p)/fact(n=p)))))\n",
    "\n",
    "print(\"Rpy_Rpx_Fn_j_integrand =\")\n",
    "disp(Rpy_Rpx_Fn_j_integrand(u, j_x, j_y, v_x, v_y, a, k_m))\n",
    "\n",
    "Rpy_Rpx_Fn_j_num = lambda u, j_x, j_y, a, k_m : num_int(lambda v_y : \\\n",
    "                                                        num_int(lambda v_x : \\\n",
    "                                                                Rpy_Rpx_Fn_j_integrand(u,j_x,j_y,v_x,v_y,a,k_m),\\\n",
    "                                                                0, 1, v_x), \\\n",
    "                                                        0, 1, v_y)\n",
    "\n",
    "intu_Rpy_Rpx_Fn_j_num = lambda j_x, j_y, a, k_m : num_int(lambda u : \\\n",
    "                                                          Rpy_Rpx_Fn_j_num (u, j_x, j_y, a, k_m), \\\n",
    "                                                          0, Infinity, u, print_tolerance=False)"
   ]
  },
  {
   "cell_type": "code",
   "execution_count": 145,
   "metadata": {},
   "outputs": [
    {
     "name": "stdout",
     "output_type": "stream",
     "text": [
      "lim__Rpy_Rpx_Fn_j_integrand =\n"
     ]
    },
    {
     "data": {
      "text/latex": [
       "$\\displaystyle -\\frac{{\\left(j_{x} + v_{x}\\right)} {\\left(j_{y} + v_{y}\\right)} {\\left(2 \\, v_{x} - 1\\right)} {\\left(2 \\, v_{y} - 1\\right)}}{4 \\, {\\left(\\sqrt{j_{x}^{2} + j_{y}^{2} + u^{2} + 2 \\, j_{x} v_{x} + v_{x}^{2} + 2 \\, j_{y} v_{y} + v_{y}^{2}} j_{x}^{2} + \\sqrt{j_{x}^{2} + j_{y}^{2} + u^{2} + 2 \\, j_{x} v_{x} + v_{x}^{2} + 2 \\, j_{y} v_{y} + v_{y}^{2}} j_{y}^{2} + \\sqrt{j_{x}^{2} + j_{y}^{2} + u^{2} + 2 \\, j_{x} v_{x} + v_{x}^{2} + 2 \\, j_{y} v_{y} + v_{y}^{2}} u^{2} + 2 \\, \\sqrt{j_{x}^{2} + j_{y}^{2} + u^{2} + 2 \\, j_{x} v_{x} + v_{x}^{2} + 2 \\, j_{y} v_{y} + v_{y}^{2}} j_{x} v_{x} + \\sqrt{j_{x}^{2} + j_{y}^{2} + u^{2} + 2 \\, j_{x} v_{x} + v_{x}^{2} + 2 \\, j_{y} v_{y} + v_{y}^{2}} v_{x}^{2} + 2 \\, \\sqrt{j_{x}^{2} + j_{y}^{2} + u^{2} + 2 \\, j_{x} v_{x} + v_{x}^{2} + 2 \\, j_{y} v_{y} + v_{y}^{2}} j_{y} v_{y} + \\sqrt{j_{x}^{2} + j_{y}^{2} + u^{2} + 2 \\, j_{x} v_{x} + v_{x}^{2} + 2 \\, j_{y} v_{y} + v_{y}^{2}} v_{y}^{2}\\right)}}$"
      ],
      "text/plain": [
       "<IPython.core.display.Math object>"
      ]
     },
     "metadata": {},
     "output_type": "display_data"
    }
   ],
   "source": [
    "exec(preparse(\"lim__Rpy_Rpx_Fn_j_integrand = lambda u, j_x, j_y, v_x, v_y : \" + \\\n",
    "              str(limit(Rpy_Rpx_Fn_j_integrand(u, j_x, j_y, v_x, v_y, a, k_m), k_m=Infinity, algorithm=\"sympy\"))))\n",
    "\n",
    "print(\"lim__Rpy_Rpx_Fn_j_integrand =\")\n",
    "disp(lim__Rpy_Rpx_Fn_j_integrand(u, j_x, j_y, v_x, v_y))"
   ]
  },
  {
   "cell_type": "code",
   "execution_count": 146,
   "metadata": {},
   "outputs": [
    {
     "data": {
      "text/latex": [
       "$\\displaystyle -{\\left(j_{x} + v_{x}\\right)} {\\left(j_{y} + v_{y}\\right)} {\\left(2 \\, v_{x} - 1\\right)} {\\left(2 \\, v_{y} - 1\\right)}$"
      ],
      "text/plain": [
       "<IPython.core.display.Math object>"
      ]
     },
     "metadata": {},
     "output_type": "display_data"
    }
   ],
   "source": [
    "disp(lim__Rpy_Rpx_Fn_j_integrand(u, j_x, j_y, v_x, v_y).numerator())"
   ]
  },
  {
   "cell_type": "code",
   "execution_count": 147,
   "metadata": {},
   "outputs": [
    {
     "data": {
      "text/latex": [
       "$\\displaystyle 4 \\, {\\left(j_{x}^{2} + j_{y}^{2} + u^{2} + 2 \\, j_{x} v_{x} + v_{x}^{2} + 2 \\, j_{y} v_{y} + v_{y}^{2}\\right)}^{\\frac{3}{2}}$"
      ],
      "text/plain": [
       "<IPython.core.display.Math object>"
      ]
     },
     "metadata": {},
     "output_type": "display_data"
    }
   ],
   "source": [
    "disp(lim__Rpy_Rpx_Fn_j_integrand(u, j_x, j_y, v_x, v_y).denominator().factor())"
   ]
  },
  {
   "cell_type": "code",
   "execution_count": 148,
   "metadata": {},
   "outputs": [
    {
     "name": "stdout",
     "output_type": "stream",
     "text": [
      "lim_Rpy_Rpx_Fn_j_integrand =\n"
     ]
    },
    {
     "data": {
      "text/latex": [
       "$\\displaystyle -\\frac{{\\left(j_{x} + v_{x}\\right)} {\\left(j_{y} + v_{y}\\right)} {\\left(2 \\, v_{x} - 1\\right)} {\\left(2 \\, v_{y} - 1\\right)}}{4 \\, {\\left(j_{x}^{2} + j_{y}^{2} + u^{2} + 2 \\, j_{x} v_{x} + v_{x}^{2} + 2 \\, j_{y} v_{y} + v_{y}^{2}\\right)}^{\\frac{3}{2}}}$"
      ],
      "text/plain": [
       "<IPython.core.display.Math object>"
      ]
     },
     "metadata": {},
     "output_type": "display_data"
    }
   ],
   "source": [
    "exec(preparse(\"lim_Rpy_Rpx_Fn_j_integrand = lambda u, j_x, j_y, v_x, v_y : \" + \\\n",
    "              str(lim__Rpy_Rpx_Fn_j_integrand(u, j_x, j_y, v_x, v_y).numerator() / \\\n",
    "                 lim__Rpy_Rpx_Fn_j_integrand(u, j_x, j_y, v_x, v_y).denominator().factor())))\n",
    "\n",
    "print(\"lim_Rpy_Rpx_Fn_j_integrand =\")\n",
    "disp(lim_Rpy_Rpx_Fn_j_integrand(u, j_x, j_y, v_x, v_y))"
   ]
  },
  {
   "cell_type": "code",
   "execution_count": 149,
   "metadata": {},
   "outputs": [],
   "source": [
    "lim_Rpy_Rpx_Fn_j_num = lambda u, j_x, j_y : num_int(lambda v_y : \\\n",
    "                                                    num_int(lambda v_x : \\\n",
    "                                                            lim_Rpy_Rpx_Fn_j_integrand(u,j_x,j_y,v_x,v_y),\\\n",
    "                                                            0, 1, v_x), \\\n",
    "                                                    0, 1, v_y)\n",
    "\n",
    "intu_lim_Rpy_Rpx_Fn_j_num = lambda j_x, j_y : num_int(lambda u : \\\n",
    "                                                        lim_Rpy_Rpx_Fn_j_num (u, j_x, j_y), \\\n",
    "                                                    0, Infinity, u, print_tolerance=False)"
   ]
  },
  {
   "cell_type": "code",
   "execution_count": 150,
   "metadata": {},
   "outputs": [],
   "source": [
    "# Rpy_Rpx_Fn_j_num (u = 1, j_x = 1, j_y = 1, a = 1, k_m = 1)\n",
    "# 1.625324062828027e-05"
   ]
  },
  {
   "cell_type": "code",
   "execution_count": 151,
   "metadata": {},
   "outputs": [],
   "source": [
    "G_diff_x_p_diff_y_p_ = G(n_x, n_y, ak_m).diff(n_x, p).diff(n_y,p)\n",
    "# G_diff_x_p_diff_y_p_"
   ]
  },
  {
   "cell_type": "code",
   "execution_count": 152,
   "metadata": {},
   "outputs": [],
   "source": [
    "exec(preparse(\"G_diff_x_p_diff_y_p = lambda n_x, n_y, ak_m : \" + str(G_diff_x_p_diff_y_p_)))\n",
    "# G_diff_x_p_diff_y_p(n_x, n_y, ak_m)"
   ]
  },
  {
   "cell_type": "code",
   "execution_count": 153,
   "metadata": {},
   "outputs": [],
   "source": [
    "exec(preparse(\"Rpy_Rpx_G_j_integrand = lambda j_x, j_y, v_x, v_y, ak_m : \" + str(\n",
    "                                    (-1)^(p+1)*(-1)^(p+1) \\\n",
    "                                    * G_diff_x_p_diff_y_p(n_x=v_x + j_x, n_y = v_y + j_y, ak_m=ak_m) \\\n",
    "                                    * (B(x=v_y,p=p)/fact(n=p)) \\\n",
    "                                    * (B(x=v_x,p=p)/fact(n=p)))))\n",
    "\n",
    "# print(\"Rpy_Rpx_G_j_integrand =\")\n",
    "# Rpy_Rpx_G_j_integrand(j_x, j_y, v_x, v_y, ak_m)\n",
    "\n",
    "Rpy_Rpx_G_j_num = lambda j_x, j_y, ak_m : num_int(lambda v_y : \\\n",
    "                                                        num_int(lambda v_x : \\\n",
    "                                                                Rpy_Rpx_G_j_integrand(j_x,j_y,v_x,v_y,ak_m),\\\n",
    "                                                                0, 1, v_x), \\\n",
    "                                                        0, 1, v_y, print_tolerance=False)\n",
    "\n",
    "\n",
    "Rpy_Rpx_G_j_numerical = lambda j_x, j_y, ak_m : numerical_integral(lambda v_y : \\\n",
    "                                                        numerical_integral(lambda v_x : \\\n",
    "                                                                Rpy_Rpx_G_j_integrand(j_x,j_y,v_x,v_y,ak_m),\\\n",
    "                                                                0, 1)[0], \\\n",
    "                                                        0, 1)"
   ]
  },
  {
   "cell_type": "code",
   "execution_count": 154,
   "metadata": {},
   "outputs": [],
   "source": [
    "# intu_Rpy_Rpx_Fn_j_num (j_x = 1, j_y = 1, a = 1, k_m = 1)\n",
    "# tolerance = 2.9807678498332586e-09\n",
    "# 5.024819475680203e-05"
   ]
  },
  {
   "cell_type": "code",
   "execution_count": 155,
   "metadata": {},
   "outputs": [
    {
     "data": {
      "text/plain": [
       "-0.001444830003199765"
      ]
     },
     "execution_count": 155,
     "metadata": {},
     "output_type": "execute_result"
    }
   ],
   "source": [
    "intu_lim_Rpy_Rpx_Fn_j_num(j_x=1, j_y=1)"
   ]
  },
  {
   "cell_type": "code",
   "execution_count": 156,
   "metadata": {},
   "outputs": [],
   "source": [
    "# Rpy_Rpx_G_j_num (j_x = 1, j_y = 1, ak_m = 1)\n",
    "# tolerance = 8.259283274519223e-19\n",
    "# 5.024819475691701e-05"
   ]
  },
  {
   "cell_type": "code",
   "execution_count": 157,
   "metadata": {},
   "outputs": [],
   "source": [
    "# Rpy_Rpx_G_j_numerical (j_x = 1, j_y = 1, ak_m = 1)\n",
    "# tolerance = 8.259283274519223e-19\n",
    "# 5.024819475691701e-05\n",
    "# (5.0248194756917e-05, 8.279219731316479e-19)"
   ]
  },
  {
   "cell_type": "markdown",
   "metadata": {},
   "source": [
    "# Summary Euler–Maclaurin 2D \n",
    "\n",
    "Taking value of parameter $p = 1$ we have:"
   ]
  },
  {
   "cell_type": "code",
   "execution_count": 158,
   "metadata": {},
   "outputs": [
    {
     "data": {
      "text/latex": [
       "$\\displaystyle \\int_{a_{y}}^{b_{y}} \\int_{a_{x}}^{b_{x}} F\\left(n_{x}, n_{y}\\right)\\,{d n_{x}}\\,{d n_{y}}$"
      ],
      "text/plain": [
       "<IPython.core.display.Math object>"
      ]
     },
     "metadata": {},
     "output_type": "display_data"
    },
    {
     "data": {
      "text/latex": [
       "$\\displaystyle \\frac{1}{2} \\, \\int_{a_{y}}^{b_{y}} F\\left(a_{x}, n_{y}\\right)\\,{d n_{y}}$"
      ],
      "text/plain": [
       "<IPython.core.display.Math object>"
      ]
     },
     "metadata": {},
     "output_type": "display_data"
    },
    {
     "data": {
      "text/latex": [
       "$\\displaystyle 0$"
      ],
      "text/plain": [
       "<IPython.core.display.Math object>"
      ]
     },
     "metadata": {},
     "output_type": "display_data"
    },
    {
     "data": {
      "text/latex": [
       "$\\displaystyle \\int_{a_{y}}^{b_{y}} \\int_{a_{x}}^{b_{x}} \\frac{1}{2} \\, {\\left(2 \\, n_{x} - 2 \\, \\left \\lfloor n_{x} \\right \\rfloor - 1\\right)} \\frac{\\partial}{\\partial n_{x}}F\\left(n_{x}, n_{y}\\right)\\,{d n_{x}}\\,{d n_{y}}$"
      ],
      "text/plain": [
       "<IPython.core.display.Math object>"
      ]
     },
     "metadata": {},
     "output_type": "display_data"
    },
    {
     "data": {
      "text/plain": [
       "(None, None, None, None)"
      ]
     },
     "execution_count": 158,
     "metadata": {},
     "output_type": "execute_result"
    }
   ],
   "source": [
    "disp(inty_intx_F), disp(inty_halfx_F), disp(inty_sumx_F), disp(inty_Rpx_F)"
   ]
  },
  {
   "cell_type": "code",
   "execution_count": 159,
   "metadata": {},
   "outputs": [
    {
     "data": {
      "text/latex": [
       "$\\displaystyle \\frac{1}{2} \\, \\int_{a_{x}}^{b_{x}} F\\left(n_{x}, a_{y}\\right)\\,{d n_{x}}$"
      ],
      "text/plain": [
       "<IPython.core.display.Math object>"
      ]
     },
     "metadata": {},
     "output_type": "display_data"
    },
    {
     "data": {
      "text/latex": [
       "$\\displaystyle \\frac{1}{4} \\, F\\left(a_{x}, a_{y}\\right)$"
      ],
      "text/plain": [
       "<IPython.core.display.Math object>"
      ]
     },
     "metadata": {},
     "output_type": "display_data"
    },
    {
     "data": {
      "text/latex": [
       "$\\displaystyle 0$"
      ],
      "text/plain": [
       "<IPython.core.display.Math object>"
      ]
     },
     "metadata": {},
     "output_type": "display_data"
    },
    {
     "data": {
      "text/latex": [
       "$\\displaystyle -\\frac{1}{4} \\, \\int_{a_{x}}^{b_{x}} -2 \\, n_{x} \\frac{\\partial}{\\partial n_{x}}F\\left(n_{x}, a_{y}\\right)\\,{d n_{x}} - \\frac{1}{4} \\, \\int_{a_{x}}^{b_{x}} 2 \\, \\left \\lfloor n_{x} \\right \\rfloor \\frac{\\partial}{\\partial n_{x}}F\\left(n_{x}, a_{y}\\right)\\,{d n_{x}} - \\frac{1}{4} \\, \\int_{a_{x}}^{b_{x}} \\frac{\\partial}{\\partial n_{x}}F\\left(n_{x}, a_{y}\\right)\\,{d n_{x}}$"
      ],
      "text/plain": [
       "<IPython.core.display.Math object>"
      ]
     },
     "metadata": {},
     "output_type": "display_data"
    },
    {
     "data": {
      "text/plain": [
       "(None, None, None, None)"
      ]
     },
     "execution_count": 159,
     "metadata": {},
     "output_type": "execute_result"
    }
   ],
   "source": [
    "disp(halfy_intx_F), disp(halfy_halfx_F), disp(halfy_sumx_F), disp(halfy_Rpx_F)"
   ]
  },
  {
   "cell_type": "code",
   "execution_count": 160,
   "metadata": {},
   "outputs": [
    {
     "data": {
      "text/latex": [
       "$\\displaystyle 0$"
      ],
      "text/plain": [
       "<IPython.core.display.Math object>"
      ]
     },
     "metadata": {},
     "output_type": "display_data"
    },
    {
     "data": {
      "text/latex": [
       "$\\displaystyle 0$"
      ],
      "text/plain": [
       "<IPython.core.display.Math object>"
      ]
     },
     "metadata": {},
     "output_type": "display_data"
    },
    {
     "data": {
      "text/latex": [
       "$\\displaystyle 0$"
      ],
      "text/plain": [
       "<IPython.core.display.Math object>"
      ]
     },
     "metadata": {},
     "output_type": "display_data"
    },
    {
     "data": {
      "text/latex": [
       "$\\displaystyle 0$"
      ],
      "text/plain": [
       "<IPython.core.display.Math object>"
      ]
     },
     "metadata": {},
     "output_type": "display_data"
    },
    {
     "data": {
      "text/plain": [
       "(None, None, None, None)"
      ]
     },
     "execution_count": 160,
     "metadata": {},
     "output_type": "execute_result"
    }
   ],
   "source": [
    "disp(sumy_intx_F), disp(sumy_halfx_F), disp(sumy_sumx_F), disp(sumy_Rpx_F)"
   ]
  },
  {
   "cell_type": "code",
   "execution_count": 161,
   "metadata": {},
   "outputs": [],
   "source": [
    "Rpy_intx_F=inty_Rpx_F\n",
    "Rpy_intx_Fu=inty_Rpx_Fu\n",
    "Rpy_intx_Fn=inty_Rpx_Fn"
   ]
  },
  {
   "cell_type": "code",
   "execution_count": 162,
   "metadata": {
    "scrolled": true
   },
   "outputs": [
    {
     "data": {
      "text/latex": [
       "$\\displaystyle \\int_{a_{y}}^{b_{y}} \\int_{a_{x}}^{b_{x}} \\frac{1}{2} \\, {\\left(2 \\, n_{x} - 2 \\, \\left \\lfloor n_{x} \\right \\rfloor - 1\\right)} \\frac{\\partial}{\\partial n_{x}}F\\left(n_{x}, n_{y}\\right)\\,{d n_{x}}\\,{d n_{y}}$"
      ],
      "text/plain": [
       "<IPython.core.display.Math object>"
      ]
     },
     "metadata": {},
     "output_type": "display_data"
    },
    {
     "data": {
      "text/latex": [
       "$\\displaystyle \\int_{a_{y}}^{b_{y}} \\frac{1}{4} \\, {\\left(2 \\, n_{y} - 2 \\, \\left \\lfloor n_{y} \\right \\rfloor - 1\\right)} \\frac{\\partial}{\\partial n_{y}}F\\left(a_{x}, n_{y}\\right)\\,{d n_{y}}$"
      ],
      "text/plain": [
       "<IPython.core.display.Math object>"
      ]
     },
     "metadata": {},
     "output_type": "display_data"
    },
    {
     "data": {
      "text/latex": [
       "$\\displaystyle \\int_{a_{y}}^{b_{y}} 0\\,{d n_{y}}$"
      ],
      "text/plain": [
       "<IPython.core.display.Math object>"
      ]
     },
     "metadata": {},
     "output_type": "display_data"
    },
    {
     "data": {
      "text/latex": [
       "$\\displaystyle \\int_{a_{y}}^{b_{y}} \\frac{1}{2} \\, {\\left(2 \\, n_{y} - 2 \\, \\left \\lfloor n_{y} \\right \\rfloor - 1\\right)} \\int_{a_{x}}^{b_{x}} \\frac{1}{2} \\, {\\left(2 \\, n_{x} - 2 \\, \\left \\lfloor n_{x} \\right \\rfloor - 1\\right)} \\frac{\\partial^{2}}{\\partial n_{x}\\partial n_{y}}F\\left(n_{x}, n_{y}\\right)\\,{d n_{x}}\\,{d n_{y}}$"
      ],
      "text/plain": [
       "<IPython.core.display.Math object>"
      ]
     },
     "metadata": {},
     "output_type": "display_data"
    },
    {
     "data": {
      "text/plain": [
       "(None, None, None, None)"
      ]
     },
     "execution_count": 162,
     "metadata": {},
     "output_type": "execute_result"
    }
   ],
   "source": [
    "disp(Rpy_intx_F), disp(Rpy_halfx_F), disp(Rpy_sumx_F), disp(Rpy_Rpx_F)"
   ]
  },
  {
   "cell_type": "code",
   "execution_count": null,
   "metadata": {},
   "outputs": [],
   "source": []
  },
  {
   "cell_type": "code",
   "execution_count": 163,
   "metadata": {},
   "outputs": [
    {
     "data": {
      "text/latex": [
       "$\\displaystyle \\int_{a_{y}}^{b_{y}} \\int_{a_{x}}^{b_{x}} F\\left(n_{x}, n_{y}\\right)\\,{d n_{x}}\\,{d n_{y}}$"
      ],
      "text/plain": [
       "<IPython.core.display.Math object>"
      ]
     },
     "metadata": {},
     "output_type": "display_data"
    },
    {
     "data": {
      "text/latex": [
       "$\\displaystyle \\int_{0}^{+\\infty} \\frac{1}{2} \\, \\sqrt{n_{y}^{2} + u^{2}} f\\left(\\frac{\\pi \\sqrt{n_{y}^{2} + u^{2}}}{a k_{m}}\\right)\\,{d n_{y}}$"
      ],
      "text/plain": [
       "<IPython.core.display.Math object>"
      ]
     },
     "metadata": {},
     "output_type": "display_data"
    },
    {
     "data": {
      "text/latex": [
       "$\\displaystyle 0.0$"
      ],
      "text/plain": [
       "<IPython.core.display.Math object>"
      ]
     },
     "metadata": {},
     "output_type": "display_data"
    },
    {
     "data": {
      "text/latex": [
       "$\\displaystyle \\int_{0}^{+\\infty} \\int_{0}^{+\\infty} \\frac{1}{2} \\, {\\left(\\frac{n_{x} f\\left(\\frac{\\pi \\sqrt{n_{x}^{2} + n_{y}^{2} + u^{2}}}{a k_{m}}\\right)}{\\sqrt{n_{x}^{2} + n_{y}^{2} + u^{2}}} + \\frac{\\pi n_{x} \\mathrm{D}_{0}\\left(f\\right)\\left(\\frac{\\pi \\sqrt{n_{x}^{2} + n_{y}^{2} + u^{2}}}{a k_{m}}\\right)}{a k_{m}}\\right)} {\\left(2 \\, n_{x} - 2 \\, \\left \\lfloor n_{x} \\right \\rfloor - 1\\right)}\\,{d n_{x}}\\,{d n_{y}}$"
      ],
      "text/plain": [
       "<IPython.core.display.Math object>"
      ]
     },
     "metadata": {},
     "output_type": "display_data"
    },
    {
     "data": {
      "text/plain": [
       "(None, None, None, None)"
      ]
     },
     "execution_count": 163,
     "metadata": {},
     "output_type": "execute_result"
    }
   ],
   "source": [
    "disp(inty_intx_F), disp(inty_halfx_Fu(u, a, k_m)), disp(inty_sumx_Fu(u, a, k_m)), disp(inty_Rpx_Fu)"
   ]
  },
  {
   "cell_type": "code",
   "execution_count": 164,
   "metadata": {},
   "outputs": [
    {
     "data": {
      "text/latex": [
       "$\\displaystyle \\int_{a_{y}}^{b_{y}} \\int_{a_{x}}^{b_{x}} F\\left(n_{x}, n_{y}\\right)\\,{d n_{x}}\\,{d n_{y}}$"
      ],
      "text/plain": [
       "<IPython.core.display.Math object>"
      ]
     },
     "metadata": {},
     "output_type": "display_data"
    },
    {
     "data": {
      "text/latex": [
       "$\\displaystyle \\int_{0}^{+\\infty} \\frac{\\sqrt{n_{y}^{2} + u^{2}}}{2 \\, {\\left(\\frac{\\pi^{4} {\\left(n_{y}^{2} + u^{2}\\right)}^{2}}{a^{4} k_{m}^{4}} + 1\\right)}}\\,{d n_{y}}$"
      ],
      "text/plain": [
       "<IPython.core.display.Math object>"
      ]
     },
     "metadata": {},
     "output_type": "display_data"
    },
    {
     "data": {
      "text/latex": [
       "$\\displaystyle 0.0$"
      ],
      "text/plain": [
       "<IPython.core.display.Math object>"
      ]
     },
     "metadata": {},
     "output_type": "display_data"
    },
    {
     "data": {
      "text/latex": [
       "$\\displaystyle \\int_{0}^{+\\infty} \\int_{0}^{+\\infty} \\frac{1}{2} \\, {\\left(2 \\, n_{x} - 2 \\, \\left \\lfloor n_{x} \\right \\rfloor - 1\\right)} {\\left(\\frac{n_{x}}{\\sqrt{n_{x}^{2} + n_{y}^{2} + u^{2}} {\\left(\\frac{\\pi^{4} {\\left(n_{x}^{2} + n_{y}^{2} + u^{2}\\right)}^{2}}{a^{4} k_{m}^{4}} + 1\\right)}} - \\frac{4 \\, \\pi^{4} {\\left(n_{x}^{2} + n_{y}^{2} + u^{2}\\right)}^{\\frac{3}{2}} n_{x}}{a^{4} k_{m}^{4} {\\left(\\frac{\\pi^{4} {\\left(n_{x}^{2} + n_{y}^{2} + u^{2}\\right)}^{2}}{a^{4} k_{m}^{4}} + 1\\right)}^{2}}\\right)}\\,{d n_{x}}\\,{d n_{y}}$"
      ],
      "text/plain": [
       "<IPython.core.display.Math object>"
      ]
     },
     "metadata": {},
     "output_type": "display_data"
    },
    {
     "data": {
      "text/plain": [
       "(None, None, None, None)"
      ]
     },
     "execution_count": 164,
     "metadata": {},
     "output_type": "execute_result"
    }
   ],
   "source": [
    "disp(inty_intx_F), disp(inty_halfx_Fn(u, a, k_m)), disp(inty_sumx_Fn(u, a, k_m)), disp(inty_Rpx_Fn)"
   ]
  },
  {
   "cell_type": "code",
   "execution_count": null,
   "metadata": {},
   "outputs": [],
   "source": []
  },
  {
   "cell_type": "code",
   "execution_count": 165,
   "metadata": {},
   "outputs": [
    {
     "data": {
      "text/latex": [
       "$\\displaystyle \\frac{1}{2} \\, \\int_{0}^{+\\infty} \\sqrt{n_{x}^{2} + u^{2}} f\\left(\\frac{\\pi \\sqrt{n_{x}^{2} + u^{2}}}{a k_{m}}\\right)\\,{d n_{x}}$"
      ],
      "text/plain": [
       "<IPython.core.display.Math object>"
      ]
     },
     "metadata": {},
     "output_type": "display_data"
    },
    {
     "data": {
      "text/latex": [
       "$\\displaystyle \\frac{1}{4} \\, u f\\left(\\frac{\\pi u}{a k_{m}}\\right)$"
      ],
      "text/plain": [
       "<IPython.core.display.Math object>"
      ]
     },
     "metadata": {},
     "output_type": "display_data"
    },
    {
     "data": {
      "text/latex": [
       "$\\displaystyle 0$"
      ],
      "text/plain": [
       "<IPython.core.display.Math object>"
      ]
     },
     "metadata": {},
     "output_type": "display_data"
    },
    {
     "data": {
      "text/latex": [
       "$\\displaystyle -\\frac{1}{4} \\, \\int_{a_{x}}^{b_{x}} -2 \\, n_{x} \\frac{\\partial}{\\partial n_{x}}F\\left(n_{x}, a_{y}\\right)\\,{d n_{x}} - \\frac{1}{4} \\, \\int_{a_{x}}^{b_{x}} 2 \\, \\left \\lfloor n_{x} \\right \\rfloor \\frac{\\partial}{\\partial n_{x}}F\\left(n_{x}, a_{y}\\right)\\,{d n_{x}} - \\frac{1}{4} \\, \\int_{a_{x}}^{b_{x}} \\frac{\\partial}{\\partial n_{x}}F\\left(n_{x}, a_{y}\\right)\\,{d n_{x}}$"
      ],
      "text/plain": [
       "<IPython.core.display.Math object>"
      ]
     },
     "metadata": {},
     "output_type": "display_data"
    },
    {
     "data": {
      "text/plain": [
       "(None, None, None, None)"
      ]
     },
     "execution_count": 165,
     "metadata": {},
     "output_type": "execute_result"
    }
   ],
   "source": [
    "disp(halfy_intx_Fu), disp(halfy_halfx_Fu), disp(halfy_sumx_Fu), disp(halfy_Rpx_F)"
   ]
  },
  {
   "cell_type": "code",
   "execution_count": 166,
   "metadata": {},
   "outputs": [
    {
     "data": {
      "text/latex": [
       "$\\displaystyle \\frac{1}{2} \\, a^{4} k_{m}^{4} \\int_{0}^{+\\infty} \\frac{\\sqrt{n_{x}^{2} + u^{2}}}{a^{4} k_{m}^{4} + \\pi^{4} n_{x}^{4} + 2 \\, \\pi^{4} n_{x}^{2} u^{2} + \\pi^{4} u^{4}}\\,{d n_{x}}$"
      ],
      "text/plain": [
       "<IPython.core.display.Math object>"
      ]
     },
     "metadata": {},
     "output_type": "display_data"
    },
    {
     "data": {
      "text/latex": [
       "$\\displaystyle \\frac{u}{4 \\, {\\left(\\frac{\\pi^{4} u^{4}}{a^{4} k_{m}^{4}} + 1\\right)}}$"
      ],
      "text/plain": [
       "<IPython.core.display.Math object>"
      ]
     },
     "metadata": {},
     "output_type": "display_data"
    },
    {
     "data": {
      "text/latex": [
       "$\\displaystyle 0$"
      ],
      "text/plain": [
       "<IPython.core.display.Math object>"
      ]
     },
     "metadata": {},
     "output_type": "display_data"
    },
    {
     "data": {
      "text/latex": [
       "$\\displaystyle -\\frac{1}{4} \\, \\int_{a_{x}}^{b_{x}} -2 \\, n_{x} \\frac{\\partial}{\\partial n_{x}}F\\left(n_{x}, a_{y}\\right)\\,{d n_{x}} - \\frac{1}{4} \\, \\int_{a_{x}}^{b_{x}} 2 \\, \\left \\lfloor n_{x} \\right \\rfloor \\frac{\\partial}{\\partial n_{x}}F\\left(n_{x}, a_{y}\\right)\\,{d n_{x}} - \\frac{1}{4} \\, \\int_{a_{x}}^{b_{x}} \\frac{\\partial}{\\partial n_{x}}F\\left(n_{x}, a_{y}\\right)\\,{d n_{x}}$"
      ],
      "text/plain": [
       "<IPython.core.display.Math object>"
      ]
     },
     "metadata": {},
     "output_type": "display_data"
    },
    {
     "data": {
      "text/plain": [
       "(None, None, None, None)"
      ]
     },
     "execution_count": 166,
     "metadata": {},
     "output_type": "execute_result"
    }
   ],
   "source": [
    "disp(halfy_intx_Fn), disp(halfy_halfx_Fn), disp(halfy_sumx_Fn), disp(halfy_Rpx_F)"
   ]
  },
  {
   "cell_type": "code",
   "execution_count": null,
   "metadata": {},
   "outputs": [],
   "source": []
  },
  {
   "cell_type": "code",
   "execution_count": 167,
   "metadata": {},
   "outputs": [
    {
     "data": {
      "text/latex": [
       "$\\displaystyle 0$"
      ],
      "text/plain": [
       "<IPython.core.display.Math object>"
      ]
     },
     "metadata": {},
     "output_type": "display_data"
    },
    {
     "data": {
      "text/latex": [
       "$\\displaystyle 0$"
      ],
      "text/plain": [
       "<IPython.core.display.Math object>"
      ]
     },
     "metadata": {},
     "output_type": "display_data"
    },
    {
     "data": {
      "text/latex": [
       "$\\displaystyle 0$"
      ],
      "text/plain": [
       "<IPython.core.display.Math object>"
      ]
     },
     "metadata": {},
     "output_type": "display_data"
    },
    {
     "data": {
      "text/latex": [
       "$\\displaystyle 0$"
      ],
      "text/plain": [
       "<IPython.core.display.Math object>"
      ]
     },
     "metadata": {},
     "output_type": "display_data"
    },
    {
     "data": {
      "text/plain": [
       "(None, None, None, None)"
      ]
     },
     "execution_count": 167,
     "metadata": {},
     "output_type": "execute_result"
    }
   ],
   "source": [
    "disp(sumy_intx_Fu), disp(sumy_halfx_Fu), disp(sumy_sumx_Fu(u, a, k_m)), disp(sumy_Rpx_F)"
   ]
  },
  {
   "cell_type": "code",
   "execution_count": null,
   "metadata": {},
   "outputs": [],
   "source": []
  },
  {
   "cell_type": "code",
   "execution_count": 168,
   "metadata": {
    "scrolled": true
   },
   "outputs": [
    {
     "data": {
      "text/latex": [
       "$\\displaystyle \\int_{0}^{+\\infty} \\int_{0}^{+\\infty} \\frac{1}{2} \\, {\\left(\\frac{n_{x} f\\left(\\frac{\\pi \\sqrt{n_{x}^{2} + n_{y}^{2} + u^{2}}}{a k_{m}}\\right)}{\\sqrt{n_{x}^{2} + n_{y}^{2} + u^{2}}} + \\frac{\\pi n_{x} \\mathrm{D}_{0}\\left(f\\right)\\left(\\frac{\\pi \\sqrt{n_{x}^{2} + n_{y}^{2} + u^{2}}}{a k_{m}}\\right)}{a k_{m}}\\right)} {\\left(2 \\, n_{x} - 2 \\, \\left \\lfloor n_{x} \\right \\rfloor - 1\\right)}\\,{d n_{x}}\\,{d n_{y}}$"
      ],
      "text/plain": [
       "<IPython.core.display.Math object>"
      ]
     },
     "metadata": {},
     "output_type": "display_data"
    },
    {
     "data": {
      "text/latex": [
       "$\\displaystyle \\int_{0}^{+\\infty} \\frac{1}{4} \\, {\\left(\\frac{n_{y} f\\left(\\frac{\\pi \\sqrt{n_{y}^{2} + u^{2}}}{a k_{m}}\\right)}{\\sqrt{n_{y}^{2} + u^{2}}} + \\frac{\\pi n_{y} \\mathrm{D}_{0}\\left(f\\right)\\left(\\frac{\\pi \\sqrt{n_{y}^{2} + u^{2}}}{a k_{m}}\\right)}{a k_{m}}\\right)} {\\left(2 \\, n_{y} - 2 \\, \\left \\lfloor n_{y} \\right \\rfloor - 1\\right)}\\,{d n_{y}}$"
      ],
      "text/plain": [
       "<IPython.core.display.Math object>"
      ]
     },
     "metadata": {},
     "output_type": "display_data"
    },
    {
     "data": {
      "text/latex": [
       "$\\displaystyle \\int_{0}^{+\\infty} 0\\,{d n_{y}}$"
      ],
      "text/plain": [
       "<IPython.core.display.Math object>"
      ]
     },
     "metadata": {},
     "output_type": "display_data"
    },
    {
     "data": {
      "text/latex": [
       "$\\displaystyle \\int_{a_{y}}^{b_{y}} \\frac{1}{2} \\, {\\left(2 \\, n_{y} - 2 \\, \\left \\lfloor n_{y} \\right \\rfloor - 1\\right)} \\int_{a_{x}}^{b_{x}} \\frac{1}{2} \\, {\\left(2 \\, n_{x} - 2 \\, \\left \\lfloor n_{x} \\right \\rfloor - 1\\right)} \\frac{\\partial^{2}}{\\partial n_{x}\\partial n_{y}}F\\left(n_{x}, n_{y}\\right)\\,{d n_{x}}\\,{d n_{y}}$"
      ],
      "text/plain": [
       "<IPython.core.display.Math object>"
      ]
     },
     "metadata": {},
     "output_type": "display_data"
    },
    {
     "data": {
      "text/plain": [
       "(None, None, None, None)"
      ]
     },
     "execution_count": 168,
     "metadata": {},
     "output_type": "execute_result"
    }
   ],
   "source": [
    "disp(Rpy_intx_Fu), disp(Rpy_halfx_Fu), disp(Rpy_sumx_Fu), disp(Rpy_Rpx_F)"
   ]
  },
  {
   "cell_type": "code",
   "execution_count": 169,
   "metadata": {
    "scrolled": true
   },
   "outputs": [
    {
     "data": {
      "text/latex": [
       "$\\displaystyle \\int_{0}^{+\\infty} \\int_{0}^{+\\infty} \\frac{1}{2} \\, {\\left(2 \\, n_{x} - 2 \\, \\left \\lfloor n_{x} \\right \\rfloor - 1\\right)} {\\left(\\frac{n_{x}}{\\sqrt{n_{x}^{2} + n_{y}^{2} + u^{2}} {\\left(\\frac{\\pi^{4} {\\left(n_{x}^{2} + n_{y}^{2} + u^{2}\\right)}^{2}}{a^{4} k_{m}^{4}} + 1\\right)}} - \\frac{4 \\, \\pi^{4} {\\left(n_{x}^{2} + n_{y}^{2} + u^{2}\\right)}^{\\frac{3}{2}} n_{x}}{a^{4} k_{m}^{4} {\\left(\\frac{\\pi^{4} {\\left(n_{x}^{2} + n_{y}^{2} + u^{2}\\right)}^{2}}{a^{4} k_{m}^{4}} + 1\\right)}^{2}}\\right)}\\,{d n_{x}}\\,{d n_{y}}$"
      ],
      "text/plain": [
       "<IPython.core.display.Math object>"
      ]
     },
     "metadata": {},
     "output_type": "display_data"
    },
    {
     "data": {
      "text/latex": [
       "$\\displaystyle \\int_{0}^{+\\infty} \\frac{1}{4} \\, {\\left(2 \\, n_{y} - 2 \\, \\left \\lfloor n_{y} \\right \\rfloor - 1\\right)} {\\left(\\frac{n_{y}}{\\sqrt{n_{y}^{2} + u^{2}} {\\left(\\frac{\\pi^{4} {\\left(n_{y}^{2} + u^{2}\\right)}^{2}}{a^{4} k_{m}^{4}} + 1\\right)}} - \\frac{4 \\, \\pi^{4} {\\left(n_{y}^{2} + u^{2}\\right)}^{\\frac{3}{2}} n_{y}}{a^{4} k_{m}^{4} {\\left(\\frac{\\pi^{4} {\\left(n_{y}^{2} + u^{2}\\right)}^{2}}{a^{4} k_{m}^{4}} + 1\\right)}^{2}}\\right)}\\,{d n_{y}}$"
      ],
      "text/plain": [
       "<IPython.core.display.Math object>"
      ]
     },
     "metadata": {},
     "output_type": "display_data"
    },
    {
     "data": {
      "text/latex": [
       "$\\displaystyle \\int_{0}^{+\\infty} 0\\,{d n_{y}}$"
      ],
      "text/plain": [
       "<IPython.core.display.Math object>"
      ]
     },
     "metadata": {},
     "output_type": "display_data"
    },
    {
     "data": {
      "text/latex": [
       "$\\displaystyle \\int_{a_{y}}^{b_{y}} \\frac{1}{2} \\, {\\left(2 \\, n_{y} - 2 \\, \\left \\lfloor n_{y} \\right \\rfloor - 1\\right)} \\int_{a_{x}}^{b_{x}} \\frac{1}{2} \\, {\\left(2 \\, n_{x} - 2 \\, \\left \\lfloor n_{x} \\right \\rfloor - 1\\right)} \\frac{\\partial^{2}}{\\partial n_{x}\\partial n_{y}}F\\left(n_{x}, n_{y}\\right)\\,{d n_{x}}\\,{d n_{y}}$"
      ],
      "text/plain": [
       "<IPython.core.display.Math object>"
      ]
     },
     "metadata": {},
     "output_type": "display_data"
    },
    {
     "data": {
      "text/plain": [
       "(None, None, None, None)"
      ]
     },
     "execution_count": 169,
     "metadata": {},
     "output_type": "execute_result"
    }
   ],
   "source": [
    "disp(Rpy_intx_Fn), disp(Rpy_halfx_Fn), disp(Rpy_sumx_Fn), disp(Rpy_Rpx_F)"
   ]
  },
  {
   "cell_type": "markdown",
   "metadata": {},
   "source": [
    "# A way of calculating $\\delta\\,\\frac{E}{V}$"
   ]
  },
  {
   "cell_type": "markdown",
   "metadata": {},
   "source": [
    "Let's consider\n",
    "\n",
    "\\begin{equation}\n",
    "\\sum\\limits_{n_x=\\left(0\\right)\\,1}^{\\infty}\n",
    "\\sum\\limits_{n_y=\\left(0\\right)\\,1}^{\\infty}\n",
    "F\\left(n_x, n_y\\right)\n",
    "-\n",
    "\\int\\limits_{0}^{\\infty}\n",
    "\\int\\limits_{0}^{\\infty}\n",
    "F\\left(n_x, n_y\\right)\\,d{n_x}\\,d{n_y}\n",
    "\\end{equation}"
   ]
  },
  {
   "cell_type": "markdown",
   "metadata": {},
   "source": [
    "First we see, that"
   ]
  },
  {
   "cell_type": "markdown",
   "metadata": {},
   "source": [
    "\\begin{equation}\n",
    "\\sum\\limits_{n_x=\\left(0\\right)\\,1}^{\\infty}\n",
    "\\sum\\limits_{n_y=\\left(0\\right)\\,1}^{\\infty}\n",
    "{F\\left(n_x, n_y\\right)}\n",
    "= \\sum\\limits_{n_x=\\left(0\\right)\\,1}^{\\infty}\n",
    "\\left(\n",
    "-\\frac{1}{2}F\\left(n_x, 0\\right) + \\sum\\limits_{n_y=0}^{\\infty}{F\\left(n_x, n_y\\right)}\n",
    "\\right)\n",
    "= -\\frac{1}{2}\n",
    "\\left(\n",
    "-\\frac{1}{2}F\\left(0, 0\\right) + \\sum\\limits_{n_y=0}^{\\infty}{F\\left(0, n_y\\right)}\n",
    "\\right)\n",
    "+\\sum\\limits_{n_x=0}^{\\infty}\n",
    "\\left(\n",
    "-\\frac{1}{2}F\\left(n_x, 0\\right) + \\sum\\limits_{n_y=0}^{\\infty}{F\\left(n_x, n_y\\right)}\n",
    "\\right)\n",
    "= \\frac{1}{4}F\\left(0, 0\\right)\n",
    "- \\frac{1}{2}\\sum\\limits_{n_y=0}^{\\infty}{F\\left(0, n_y\\right)}\n",
    "- \\frac{1}{2}\\sum\\limits_{n_x=0}^{\\infty}{F\\left(n_x, 0\\right)}\n",
    "+ \\sum\\limits_{n_x=0}^{\\infty}\\sum\\limits_{n_y=0}^{\\infty}{F\\left(n_x, n_y\\right)}\n",
    "\\end{equation}"
   ]
  },
  {
   "cell_type": "markdown",
   "metadata": {},
   "source": [
    "So we have\n",
    "\\begin{equation}\n",
    "\\sum\\limits_{n_x=\\left(0\\right)\\,1}^{\\infty}\n",
    "\\sum\\limits_{n_y=\\left(0\\right)\\,1}^{\\infty}\n",
    "{F\\left(n_x, n_y\\right)}\n",
    "=\\frac{1}{4}F\\left(0, 0\\right)\n",
    "-\\frac{1}{2}\\sum\\limits_{n_y=0}^{\\infty}{F\\left(0, n_y\\right)}\n",
    "-\\frac{1}{2}\\sum\\limits_{n_x=0}^{\\infty}{F\\left(n_x, 0\\right)}\n",
    "+\\sum\\limits_{n_x=0}^{\\infty}\\sum\\limits_{n_y=0}^{\\infty}{F\\left(n_x, n_y\\right)}\n",
    "\\end{equation}"
   ]
  },
  {
   "cell_type": "markdown",
   "metadata": {},
   "source": [
    "And\n",
    "\n",
    "\\begin{equation}\n",
    "\\sum\\limits_{n_x=\\left(0\\right)\\,1}^{\\infty}\n",
    "\\sum\\limits_{n_y=\\left(0\\right)\\,1}^{\\infty}\n",
    "F\\left(n_x, n_y\\right)\n",
    "-\n",
    "\\int\\limits_{0}^{\\infty}\n",
    "\\int\\limits_{0}^{\\infty}\n",
    "F\\left(n_x, n_y\\right)\\,d{n_x}\\,d{n_y} =\n",
    "\\end{equation}"
   ]
  },
  {
   "cell_type": "markdown",
   "metadata": {},
   "source": [
    "\\begin{equation}\n",
    "=\\frac{1}{4}F\\left(0, 0\\right)\n",
    "-\\frac{1}{2}\\sum\\limits_{n_y=0}^{\\infty}{F\\left(0, n_y\\right)}\n",
    "-\\frac{1}{2}\\sum\\limits_{n_x=0}^{\\infty}{F\\left(n_x, 0\\right)}\n",
    "+\\sum\\limits_{n_x=0}^{\\infty}\\sum\\limits_{n_y=0}^{\\infty}{F\\left(n_x, n_y\\right)}\n",
    "-\n",
    "\\int\\limits_{0}^{\\infty}\n",
    "\\int\\limits_{0}^{\\infty}\n",
    "F\\left(n_x, n_y\\right)\\,d{n_x}\\,d{n_y}\n",
    "\\end{equation}"
   ]
  },
  {
   "cell_type": "markdown",
   "metadata": {},
   "source": [
    "On the other hand we have found that\n",
    "\\begin{equation}\n",
    "\\sum\\limits_{n_x=0}^{\\infty}\n",
    "\\sum\\limits_{n_y=0}^{\\infty}\n",
    "F\\left(n_x, n_y\\right)\n",
    "-\\int\\limits_{0}^{\\infty}\n",
    "\\int\\limits_{0}^{\\infty}\n",
    "F\\left(n_x, n_y\\right)\\,d{n_x}\\,d{n_y}\n",
    "\\end{equation}\n",
    "is"
   ]
  },
  {
   "cell_type": "markdown",
   "metadata": {},
   "source": [
    "$\\begin{array}{rrrr}\n",
    "                 & + inty\\_halfx\\_F  & + inty\\_sumx\\_F  & + inty\\_Rpx\\_F  \\\\\n",
    "+ halfy\\_intx\\_F & + halfy\\_halfx\\_F & + halfy\\_sumx\\_F & + halfy\\_Rpx\\_F \\\\\n",
    "+ sumy\\_intx\\_F  & + sumy\\_halfx\\_F  & + sumy\\_sumx\\_F  & + sumy\\_Rpx\\_F  \\\\\n",
    "+ Rpy\\_intx\\_F   & + Rpy\\_halfx\\_F   & + Rpy\\_sumx\\_F   & + Rpy\\_Rpx\\_F\n",
    "\\end{array}$"
   ]
  },
  {
   "cell_type": "markdown",
   "metadata": {},
   "source": [
    "where $halfy\\_halfx\\_F$, $inty\\_halfx\\_F$ and $halfy\\_intx\\_F$ are:"
   ]
  },
  {
   "cell_type": "code",
   "execution_count": 170,
   "metadata": {},
   "outputs": [
    {
     "data": {
      "text/latex": [
       "$\\displaystyle \\frac{1}{4} \\, F\\left(a_{x}, a_{y}\\right)$"
      ],
      "text/plain": [
       "<IPython.core.display.Math object>"
      ]
     },
     "metadata": {},
     "output_type": "display_data"
    },
    {
     "data": {
      "text/latex": [
       "$\\displaystyle \\frac{1}{2} \\, \\int_{a_{y}}^{b_{y}} F\\left(a_{x}, n_{y}\\right)\\,{d n_{y}}$"
      ],
      "text/plain": [
       "<IPython.core.display.Math object>"
      ]
     },
     "metadata": {},
     "output_type": "display_data"
    },
    {
     "data": {
      "text/latex": [
       "$\\displaystyle \\frac{1}{2} \\, \\int_{a_{x}}^{b_{x}} F\\left(n_{x}, a_{y}\\right)\\,{d n_{x}}$"
      ],
      "text/plain": [
       "<IPython.core.display.Math object>"
      ]
     },
     "metadata": {},
     "output_type": "display_data"
    },
    {
     "data": {
      "text/plain": [
       "(None, None, None)"
      ]
     },
     "execution_count": 170,
     "metadata": {},
     "output_type": "execute_result"
    }
   ],
   "source": [
    "disp(halfy_halfx_F), disp(inty_halfx_F), disp(halfy_intx_F)"
   ]
  },
  {
   "cell_type": "markdown",
   "metadata": {},
   "source": [
    "Now using 1D EULER-MACLAURIN formula in form:"
   ]
  },
  {
   "cell_type": "markdown",
   "metadata": {},
   "source": [
    "$${\\displaystyle \\sum _{i=a}^{b}f(i)=\\int _{a}^{b}f(x)\\,dx+{\\frac {f(a)+f(b)}{2}}+\\sum _{k=1}^{\\lfloor p/2\\rfloor }{\\frac {B_{2k}}{(2k)!}}(f^{(2k-1)}(b)-f^{(2k-1)}(a))+R_{p},}$$"
   ]
  },
  {
   "cell_type": "markdown",
   "metadata": {},
   "source": [
    "we can see that"
   ]
  },
  {
   "cell_type": "markdown",
   "metadata": {},
   "source": [
    "$$\n",
    "\\frac{1}{4}F\\left(0, 0\\right)\n",
    "- \\frac{1}{2}\\sum\\limits_{n_y=0}^{\\infty}{F\\left(0, n_y\\right)}\n",
    "- \\frac{1}{2}\\sum\\limits_{n_x=0}^{\\infty}{F\\left(n_x, 0\\right)}\n",
    "$$"
   ]
  },
  {
   "cell_type": "markdown",
   "metadata": {},
   "source": [
    "will be equial to"
   ]
  },
  {
   "cell_type": "code",
   "execution_count": 171,
   "metadata": {},
   "outputs": [
    {
     "data": {
      "text/latex": [
       "$\\displaystyle -\\frac{1}{4} \\, F\\left(a_{x}, a_{y}\\right) - \\frac{1}{2} \\, \\int_{a_{x}}^{b_{x}} \\frac{1}{2} \\, {\\left(2 \\, n_{x} - 2 \\, \\left \\lfloor n_{x} \\right \\rfloor - 1\\right)} \\frac{\\partial}{\\partial n_{x}}F\\left(n_{x}, n_{y}\\right)\\,{d n_{x}} - \\frac{1}{2} \\, \\int_{a_{y}}^{b_{y}} \\frac{1}{2} \\, {\\left(2 \\, n_{y} - 2 \\, \\left \\lfloor n_{y} \\right \\rfloor - 1\\right)} \\frac{\\partial}{\\partial n_{y}}F\\left(n_{x}, n_{y}\\right)\\,{d n_{y}} - \\frac{1}{2} \\, \\int_{a_{y}}^{b_{y}} F\\left(a_{x}, n_{y}\\right)\\,{d n_{y}} - \\frac{1}{2} \\, \\int_{a_{x}}^{b_{x}} F\\left(n_{x}, a_{y}\\right)\\,{d n_{x}}$"
      ],
      "text/plain": [
       "<IPython.core.display.Math object>"
      ]
     },
     "metadata": {},
     "output_type": "display_data"
    }
   ],
   "source": [
    "disp((halfy_halfx_F) \n",
    "     - (inty_halfx_F + halfy_halfx_F + sumy_F/2 + Rpy_F/2)\n",
    "     - (halfy_intx_F + halfy_halfx_F + sumx_F/2 + Rpx_F/2))"
   ]
  },
  {
   "cell_type": "markdown",
   "metadata": {},
   "source": [
    "So we can find\n",
    "\n",
    "\\begin{equation}\n",
    "\\sum\\limits_{n_x=\\left(0\\right)\\,1}^{\\infty}\n",
    "\\sum\\limits_{n_y=\\left(0\\right)\\,1}^{\\infty}\n",
    "F\\left(n_x, n_y\\right)\n",
    "-\n",
    "\\int\\limits_{0}^{\\infty}\n",
    "\\int\\limits_{0}^{\\infty}\n",
    "F\\left(n_x, n_y\\right)\\,d{n_x}\\,d{n_y}\n",
    "\\end{equation}\n",
    "\n",
    "using the following formula:"
   ]
  },
  {
   "cell_type": "code",
   "execution_count": 172,
   "metadata": {},
   "outputs": [],
   "source": [
    "result_F = \\\n",
    "                             + inty_sumx_F  + inty_Rpx_F  + \\\n",
    "                             + halfy_sumx_F + halfy_Rpx_F + \\\n",
    "sumy_intx_F  + sumy_halfx_F  + sumy_sumx_F  + sumy_Rpx_F + \\\n",
    "Rpy_intx_F   + Rpy_halfx_F   + Rpy_sumx_F   + Rpy_Rpx_F \\\n",
    "- (sumy_F/2 + Rpy_F/2) \\\n",
    "- (sumx_F/2 + Rpx_F/2)"
   ]
  },
  {
   "cell_type": "code",
   "execution_count": 173,
   "metadata": {},
   "outputs": [
    {
     "data": {
      "text/latex": [
       "$\\displaystyle \\int_{a_{y}}^{b_{y}} 0\\,{d n_{y}} + \\int_{a_{y}}^{b_{y}} \\frac{1}{2} \\, {\\left(2 \\, n_{y} - 2 \\, \\left \\lfloor n_{y} \\right \\rfloor - 1\\right)} \\int_{a_{x}}^{b_{x}} \\frac{1}{2} \\, {\\left(2 \\, n_{x} - 2 \\, \\left \\lfloor n_{x} \\right \\rfloor - 1\\right)} \\frac{\\partial^{2}}{\\partial n_{x}\\partial n_{y}}F\\left(n_{x}, n_{y}\\right)\\,{d n_{x}}\\,{d n_{y}} + \\int_{a_{y}}^{b_{y}} \\frac{1}{4} \\, {\\left(2 \\, n_{y} - 2 \\, \\left \\lfloor n_{y} \\right \\rfloor - 1\\right)} \\frac{\\partial}{\\partial n_{y}}F\\left(a_{x}, n_{y}\\right)\\,{d n_{y}} - \\frac{1}{4} \\, \\int_{a_{x}}^{b_{x}} -2 \\, n_{x} \\frac{\\partial}{\\partial n_{x}}F\\left(n_{x}, a_{y}\\right)\\,{d n_{x}} - \\frac{1}{4} \\, \\int_{a_{x}}^{b_{x}} 2 \\, \\left \\lfloor n_{x} \\right \\rfloor \\frac{\\partial}{\\partial n_{x}}F\\left(n_{x}, a_{y}\\right)\\,{d n_{x}} - \\frac{1}{2} \\, \\int_{a_{x}}^{b_{x}} \\frac{1}{2} \\, {\\left(2 \\, n_{x} - 2 \\, \\left \\lfloor n_{x} \\right \\rfloor - 1\\right)} \\frac{\\partial}{\\partial n_{x}}F\\left(n_{x}, n_{y}\\right)\\,{d n_{x}} - \\frac{1}{2} \\, \\int_{a_{y}}^{b_{y}} \\frac{1}{2} \\, {\\left(2 \\, n_{y} - 2 \\, \\left \\lfloor n_{y} \\right \\rfloor - 1\\right)} \\frac{\\partial}{\\partial n_{y}}F\\left(n_{x}, n_{y}\\right)\\,{d n_{y}} + 2 \\, \\int_{a_{y}}^{b_{y}} \\int_{a_{x}}^{b_{x}} \\frac{1}{2} \\, {\\left(2 \\, n_{x} - 2 \\, \\left \\lfloor n_{x} \\right \\rfloor - 1\\right)} \\frac{\\partial}{\\partial n_{x}}F\\left(n_{x}, n_{y}\\right)\\,{d n_{x}}\\,{d n_{y}} - \\frac{1}{4} \\, \\int_{a_{x}}^{b_{x}} \\frac{\\partial}{\\partial n_{x}}F\\left(n_{x}, a_{y}\\right)\\,{d n_{x}}$"
      ],
      "text/plain": [
       "<IPython.core.display.Math object>"
      ]
     },
     "metadata": {},
     "output_type": "display_data"
    }
   ],
   "source": [
    "disp(result_F)"
   ]
  },
  {
   "cell_type": "markdown",
   "metadata": {},
   "source": [
    "Without remainer part:"
   ]
  },
  {
   "cell_type": "code",
   "execution_count": 174,
   "metadata": {},
   "outputs": [],
   "source": [
    "result_F_without_Rp = \\\n",
    "                             + inty_sumx_F  + \\\n",
    "                             + halfy_sumx_F + \\\n",
    "sumy_intx_F  + sumy_halfx_F  + sumy_sumx_F  + \\\n",
    "- (sumy_F/2) \\\n",
    "- (sumx_F/2)"
   ]
  },
  {
   "cell_type": "code",
   "execution_count": 175,
   "metadata": {},
   "outputs": [
    {
     "data": {
      "text/latex": [
       "$\\displaystyle 0$"
      ],
      "text/plain": [
       "<IPython.core.display.Math object>"
      ]
     },
     "metadata": {},
     "output_type": "display_data"
    }
   ],
   "source": [
    "disp(result_F_without_Rp)"
   ]
  },
  {
   "cell_type": "markdown",
   "metadata": {},
   "source": [
    "Here is my earlier result for comparing: We apply the EULER-MACLAURIN 2D formula:"
   ]
  },
  {
   "cell_type": "markdown",
   "metadata": {},
   "source": [
    "(without remainer part)"
   ]
  },
  {
   "cell_type": "markdown",
   "metadata": {},
   "source": [
    "\\begin{equation}\n",
    "\\sum\\limits_{\\left(0\\right)\\,1}^{\\infty}\\sum\\limits_{\\left(0\\right)\\,1}^{\\infty}{F\\left(n_x, n_y\\right)}\n",
    "- \\int\\limits_{0}^{\\infty}\\int\\limits_{0}^{\\infty}{F\\left(n_x, n_y\\right)} \n",
    "= - \\frac{1}{12} \\, \\int_{0}^{\\infty} \\frac{\\partial}{\\partial n_{x}}F\\left(0, n_y\\right)\\,{d n_y}\n",
    "- \\frac{1}{12} \\, \\int_{0}^{\\infty} \\frac{\\partial}{\\partial n_{y}}F\\left(n_x, 0\\right)\\,{d n_x}\n",
    "+ \\frac{1}{144} \\, \\frac{\\partial^{2}}{\\partial n_{x}\\partial n_{y}}F\\left(0, 0\\right)\n",
    "\\,+\\,...\n",
    "\\end{equation}"
   ]
  },
  {
   "cell_type": "markdown",
   "metadata": {},
   "source": [
    "or using more terms in the EULER-MACLAURIN 2D formula:"
   ]
  },
  {
   "cell_type": "markdown",
   "metadata": {},
   "source": [
    "\\begin{equation}\n",
    "\\sum\\limits_{\\left(0\\right)\\,1}^{\\infty}\\sum\\limits_{\\left(0\\right)\\,1}^{\\infty}{F\\left(n_x, n_y\\right)}\n",
    "-\\int\\limits_{0}^{\\infty}\\int\\limits_{0}^{\\infty}{F\\left(n_x, n_y\\right)}\n",
    "= - \\frac{1}{12} \\, \\int_{0}^{\\infty}  \\, \\frac{\\partial}{\\partial n_{x}}F\\left(0, n_y\\right)\\,{d n_y}\n",
    "+ \\frac{1}{720} \\, \\int_{0}^{\\infty} \\frac{\\partial^{3}}{(\\partial n_{x})^{3}}F\\left(0, y\\right)\\,{d n_y}\n",
    "- \\frac{1}{12} \\, \\int_{0}^{\\infty} \\frac{\\partial}{\\partial n_{y}}F\\left(n_x, 0\\right)\\,{d n_x}\n",
    "+ \\frac{1}{720} \\, \\int_{0}^{\\infty} \\frac{\\partial^{3}}{(\\partial n_{y})^{3}}F\\left(n_x, 0\\right)\\,{d n_x}\n",
    "- \\frac{1}{8640} \\, \\frac{\\partial^{4}}{(\\partial n_{x})^{3}\\partial n_{y}}F\\left(0, 0\\right)\n",
    "+ \\frac{1}{518400} \\, \\frac{\\partial^{6}}{(\\partial n_{x})^{3}(\\partial n_{y})^{3}}F\\left(0, 0\\right)\n",
    "+ \\frac{1}{144} \\, \\frac{\\partial^{2}}{\\partial n_{x}\\partial n_{y}}F\\left(0, 0\\right)\n",
    "- \\frac{1}{8640} \\, \\frac{\\partial^{4}}{\\partial n_{x}(\\partial n_{y})^{3}}F\\left(0, 0\\right)\n",
    "\\,+\\,...\n",
    "\\end{equation}"
   ]
  },
  {
   "cell_type": "code",
   "execution_count": null,
   "metadata": {},
   "outputs": [],
   "source": []
  },
  {
   "cell_type": "markdown",
   "metadata": {},
   "source": [
    "\\begin{equation}\n",
    "F\\left(u, n_x, n_y\\right) = \n",
    "\\sqrt{n_x^2 + n_y^2+u^2}\\,\n",
    "f\\left(\\frac{\\pi\\sqrt{n_x^2 + n_y^2+u^2}}{a\\,k_m}\\right)\n",
    "\\end{equation}"
   ]
  },
  {
   "cell_type": "code",
   "execution_count": 176,
   "metadata": {},
   "outputs": [
    {
     "data": {
      "text/plain": [
       "0"
      ]
     },
     "execution_count": 176,
     "metadata": {},
     "output_type": "execute_result"
    }
   ],
   "source": [
    "Fu(u, n_x, n_y, a, k_m).diff(n_x).subs(n_x==0)"
   ]
  },
  {
   "cell_type": "markdown",
   "metadata": {},
   "source": [
    "So we see that all terms without remainer part are 0. And so any potencial non zero result should be related with remainer part:"
   ]
  },
  {
   "cell_type": "code",
   "execution_count": 177,
   "metadata": {},
   "outputs": [],
   "source": [
    "result_energy_density_difference_F = \\\n",
    "                                            + inty_Rpx_F  + \\\n",
    "                                            + halfy_Rpx_F + \\\n",
    "                                            + sumy_Rpx_F + \\\n",
    "Rpy_intx_F   + Rpy_halfx_F   + Rpy_sumx_F   + Rpy_Rpx_F \\\n",
    "- (Rpy_F/2) \\\n",
    "- (Rpx_F/2)"
   ]
  },
  {
   "cell_type": "markdown",
   "metadata": {},
   "source": [
    "Or using simmetric properties we can:"
   ]
  },
  {
   "cell_type": "code",
   "execution_count": 178,
   "metadata": {},
   "outputs": [],
   "source": [
    "result_energy_density_difference_F = 2 * Rpy_intx_F + 2 * Rpy_halfx_F + 2 * Rpy_sumx_F + Rpy_Rpx_F - Rpy_F"
   ]
  },
  {
   "cell_type": "code",
   "execution_count": 179,
   "metadata": {},
   "outputs": [
    {
     "data": {
      "text/latex": [
       "$\\displaystyle 2 \\, \\int_{a_{y}}^{b_{y}} \\int_{a_{x}}^{b_{x}} \\frac{1}{2} \\, {\\left(2 \\, n_{x} - 2 \\, \\left \\lfloor n_{x} \\right \\rfloor - 1\\right)} \\frac{\\partial}{\\partial n_{x}}F\\left(n_{x}, n_{y}\\right)\\,{d n_{x}}\\,{d n_{y}}$"
      ],
      "text/plain": [
       "<IPython.core.display.Math object>"
      ]
     },
     "metadata": {},
     "output_type": "display_data"
    },
    {
     "data": {
      "text/latex": [
       "$\\displaystyle 2 \\, \\int_{a_{y}}^{b_{y}} \\frac{1}{4} \\, {\\left(2 \\, n_{y} - 2 \\, \\left \\lfloor n_{y} \\right \\rfloor - 1\\right)} \\frac{\\partial}{\\partial n_{y}}F\\left(a_{x}, n_{y}\\right)\\,{d n_{y}}$"
      ],
      "text/plain": [
       "<IPython.core.display.Math object>"
      ]
     },
     "metadata": {},
     "output_type": "display_data"
    },
    {
     "data": {
      "text/latex": [
       "$\\displaystyle 2 \\, \\int_{a_{y}}^{b_{y}} 0\\,{d n_{y}}$"
      ],
      "text/plain": [
       "<IPython.core.display.Math object>"
      ]
     },
     "metadata": {},
     "output_type": "display_data"
    },
    {
     "data": {
      "text/latex": [
       "$\\displaystyle \\int_{a_{y}}^{b_{y}} \\frac{1}{2} \\, {\\left(2 \\, n_{y} - 2 \\, \\left \\lfloor n_{y} \\right \\rfloor - 1\\right)} \\int_{a_{x}}^{b_{x}} \\frac{1}{2} \\, {\\left(2 \\, n_{x} - 2 \\, \\left \\lfloor n_{x} \\right \\rfloor - 1\\right)} \\frac{\\partial^{2}}{\\partial n_{x}\\partial n_{y}}F\\left(n_{x}, n_{y}\\right)\\,{d n_{x}}\\,{d n_{y}}$"
      ],
      "text/plain": [
       "<IPython.core.display.Math object>"
      ]
     },
     "metadata": {},
     "output_type": "display_data"
    },
    {
     "data": {
      "text/latex": [
       "$\\displaystyle -\\int_{a_{y}}^{b_{y}} \\frac{1}{2} \\, {\\left(2 \\, n_{y} - 2 \\, \\left \\lfloor n_{y} \\right \\rfloor - 1\\right)} \\frac{\\partial}{\\partial n_{y}}F\\left(n_{x}, n_{y}\\right)\\,{d n_{y}}$"
      ],
      "text/plain": [
       "<IPython.core.display.Math object>"
      ]
     },
     "metadata": {},
     "output_type": "display_data"
    },
    {
     "data": {
      "text/plain": [
       "(None, None, None, None, None)"
      ]
     },
     "execution_count": 179,
     "metadata": {},
     "output_type": "execute_result"
    }
   ],
   "source": [
    "disp(2 * Rpy_intx_F ), disp(2 * Rpy_halfx_F), disp (2 * Rpy_sumx_F), disp(Rpy_Rpx_F), disp(- Rpy_F)"
   ]
  },
  {
   "cell_type": "markdown",
   "metadata": {},
   "source": [
    "Rpy_sumx_F should be 0, bacause derivative by n_x when n_x = 0 gives 0.\n",
    "\n",
    "2 * Rpy_halfx_F - Rpy_F gives 0 in summation.\n",
    "\n",
    "So "
   ]
  },
  {
   "cell_type": "code",
   "execution_count": 180,
   "metadata": {},
   "outputs": [],
   "source": [
    "result_energy_density_difference_F = 2 * Rpy_intx_F + Rpy_Rpx_F"
   ]
  },
  {
   "cell_type": "code",
   "execution_count": 181,
   "metadata": {},
   "outputs": [
    {
     "data": {
      "text/latex": [
       "$\\displaystyle \\int_{a_{y}}^{b_{y}} \\frac{1}{2} \\, {\\left(2 \\, n_{y} - 2 \\, \\left \\lfloor n_{y} \\right \\rfloor - 1\\right)} \\int_{a_{x}}^{b_{x}} \\frac{1}{2} \\, {\\left(2 \\, n_{x} - 2 \\, \\left \\lfloor n_{x} \\right \\rfloor - 1\\right)} \\frac{\\partial^{2}}{\\partial n_{x}\\partial n_{y}}F\\left(n_{x}, n_{y}\\right)\\,{d n_{x}}\\,{d n_{y}} + 2 \\, \\int_{a_{y}}^{b_{y}} \\int_{a_{x}}^{b_{x}} \\frac{1}{2} \\, {\\left(2 \\, n_{x} - 2 \\, \\left \\lfloor n_{x} \\right \\rfloor - 1\\right)} \\frac{\\partial}{\\partial n_{x}}F\\left(n_{x}, n_{y}\\right)\\,{d n_{x}}\\,{d n_{y}}$"
      ],
      "text/plain": [
       "<IPython.core.display.Math object>"
      ]
     },
     "metadata": {},
     "output_type": "display_data"
    }
   ],
   "source": [
    "disp(result_energy_density_difference_F)"
   ]
  },
  {
   "cell_type": "code",
   "execution_count": 182,
   "metadata": {},
   "outputs": [
    {
     "data": {
      "text/latex": [
       "$\\displaystyle 2 \\, \\int_{0}^{+\\infty} \\int_{0}^{+\\infty} \\frac{1}{2} \\, {\\left(\\frac{n_{x} f\\left(\\frac{\\pi \\sqrt{n_{x}^{2} + n_{y}^{2} + u^{2}}}{a k_{m}}\\right)}{\\sqrt{n_{x}^{2} + n_{y}^{2} + u^{2}}} + \\frac{\\pi n_{x} \\mathrm{D}_{0}\\left(f\\right)\\left(\\frac{\\pi \\sqrt{n_{x}^{2} + n_{y}^{2} + u^{2}}}{a k_{m}}\\right)}{a k_{m}}\\right)} {\\left(2 \\, n_{x} - 2 \\, \\left \\lfloor n_{x} \\right \\rfloor - 1\\right)}\\,{d n_{x}}\\,{d n_{y}}$"
      ],
      "text/plain": [
       "<IPython.core.display.Math object>"
      ]
     },
     "metadata": {},
     "output_type": "display_data"
    }
   ],
   "source": [
    "disp(2 * Rpy_intx_Fu)"
   ]
  },
  {
   "cell_type": "code",
   "execution_count": 183,
   "metadata": {},
   "outputs": [
    {
     "data": {
      "text/latex": [
       "$\\displaystyle \\int_{0}^{+\\infty} \\int_{0}^{+\\infty} -\\frac{1}{4} \\, {\\left(2 \\, n_{x} - 2 \\, \\left \\lfloor n_{x} \\right \\rfloor - 1\\right)} {\\left(2 \\, n_{y} - 2 \\, \\left \\lfloor n_{y} \\right \\rfloor - 1\\right)} {\\left(\\frac{n_{x} n_{y}}{{\\left(n_{x}^{2} + n_{y}^{2} + u^{2}\\right)}^{\\frac{3}{2}} {\\left(\\frac{\\pi^{4} {\\left(n_{x}^{2} + n_{y}^{2} + u^{2}\\right)}^{2}}{a^{4} k_{m}^{4}} + 1\\right)}} + \\frac{16 \\, \\pi^{4} \\sqrt{n_{x}^{2} + n_{y}^{2} + u^{2}} n_{x} n_{y}}{a^{4} k_{m}^{4} {\\left(\\frac{\\pi^{4} {\\left(n_{x}^{2} + n_{y}^{2} + u^{2}\\right)}^{2}}{a^{4} k_{m}^{4}} + 1\\right)}^{2}} - \\frac{32 \\, \\pi^{8} {\\left(n_{x}^{2} + n_{y}^{2} + u^{2}\\right)}^{\\frac{5}{2}} n_{x} n_{y}}{a^{8} k_{m}^{8} {\\left(\\frac{\\pi^{4} {\\left(n_{x}^{2} + n_{y}^{2} + u^{2}\\right)}^{2}}{a^{4} k_{m}^{4}} + 1\\right)}^{3}}\\right)}\\,{d n_{y}}\\,{d n_{x}} + 2 \\, \\int_{0}^{+\\infty} \\int_{0}^{+\\infty} \\frac{1}{2} \\, {\\left(2 \\, n_{x} - 2 \\, \\left \\lfloor n_{x} \\right \\rfloor - 1\\right)} {\\left(\\frac{n_{x}}{\\sqrt{n_{x}^{2} + n_{y}^{2} + u^{2}} {\\left(\\frac{\\pi^{4} {\\left(n_{x}^{2} + n_{y}^{2} + u^{2}\\right)}^{2}}{a^{4} k_{m}^{4}} + 1\\right)}} - \\frac{4 \\, \\pi^{4} {\\left(n_{x}^{2} + n_{y}^{2} + u^{2}\\right)}^{\\frac{3}{2}} n_{x}}{a^{4} k_{m}^{4} {\\left(\\frac{\\pi^{4} {\\left(n_{x}^{2} + n_{y}^{2} + u^{2}\\right)}^{2}}{a^{4} k_{m}^{4}} + 1\\right)}^{2}}\\right)}\\,{d n_{x}}\\,{d n_{y}}$"
      ],
      "text/plain": [
       "<IPython.core.display.Math object>"
      ]
     },
     "metadata": {},
     "output_type": "display_data"
    }
   ],
   "source": [
    "disp(2 * inty_Rpx_Fn + integrate(integrate(Rpy_Rpx_Fn_integrand(u, n_x, n_y, a, k_m), n_y, 0, Infinity, hold=True), n_x, 0, Infinity, hold=True))"
   ]
  },
  {
   "cell_type": "code",
   "execution_count": null,
   "metadata": {},
   "outputs": [],
   "source": []
  },
  {
   "cell_type": "markdown",
   "metadata": {},
   "source": [
    "# Let's investigate behaviour of result energy_density_difference integrand"
   ]
  },
  {
   "cell_type": "code",
   "execution_count": 184,
   "metadata": {},
   "outputs": [
    {
     "data": {
      "text/latex": [
       "$\\displaystyle \\frac{1}{4} \\, {\\left({\\left(\\frac{32 \\, \\pi^{8} {\\left(n_{x}^{2} + n_{y}^{2} + u^{2}\\right)}^{\\frac{5}{2}} n_{x} n_{y}}{{\\left(\\frac{\\pi^{4} {\\left(n_{x}^{2} + n_{y}^{2} + u^{2}\\right)}^{2}}{k_{m}^{4}} + 1\\right)}^{3} k_{m}^{8}} - \\frac{16 \\, \\pi^{4} \\sqrt{n_{x}^{2} + n_{y}^{2} + u^{2}} n_{x} n_{y}}{{\\left(\\frac{\\pi^{4} {\\left(n_{x}^{2} + n_{y}^{2} + u^{2}\\right)}^{2}}{k_{m}^{4}} + 1\\right)}^{2} k_{m}^{4}} - \\frac{n_{x} n_{y}}{{\\left(\\frac{\\pi^{4} {\\left(n_{x}^{2} + n_{y}^{2} + u^{2}\\right)}^{2}}{k_{m}^{4}} + 1\\right)} {\\left(n_{x}^{2} + n_{y}^{2} + u^{2}\\right)}^{\\frac{3}{2}}}\\right)} {\\left(2 \\, n_{y} - 2 \\, \\left \\lfloor n_{y} \\right \\rfloor - 1\\right)} - \\frac{16 \\, \\pi^{4} {\\left(n_{x}^{2} + n_{y}^{2} + u^{2}\\right)}^{\\frac{3}{2}} n_{x}}{{\\left(\\frac{\\pi^{4} {\\left(n_{x}^{2} + n_{y}^{2} + u^{2}\\right)}^{2}}{k_{m}^{4}} + 1\\right)}^{2} k_{m}^{4}} + \\frac{4 \\, n_{x}}{{\\left(\\frac{\\pi^{4} {\\left(n_{x}^{2} + n_{y}^{2} + u^{2}\\right)}^{2}}{k_{m}^{4}} + 1\\right)} \\sqrt{n_{x}^{2} + n_{y}^{2} + u^{2}}}\\right)} {\\left(2 \\, n_{x} - 2 \\, \\left \\lfloor n_{x} \\right \\rfloor - 1\\right)}$"
      ],
      "text/plain": [
       "<IPython.core.display.Math object>"
      ]
     },
     "metadata": {},
     "output_type": "display_data"
    }
   ],
   "source": [
    "exec(preparse(\"result_energy_density_difference_Fn_integrand = lambda u, n_x, n_y, a, k_m :\" + str(\n",
    "    (\n",
    "        (-1)^(p+1) * Fn_diff_x_p_diff_y_p(u, n_x, n_y, a, k_m) * (P(x=n_y,p=p)/fact(n=p))\n",
    "        + 2 * Fn_diff_x_p(u, n_x, n_y, a, k_m)\n",
    "    )\n",
    "    * (-1)^(p+1)*P(x=n_x,p=p)/fact(n=p)\n",
    ")))\n",
    "disp(result_energy_density_difference_Fn_integrand(u, n_x, n_y, 1, k_m))"
   ]
  },
  {
   "cell_type": "code",
   "execution_count": 185,
   "metadata": {},
   "outputs": [
    {
     "data": {
      "text/latex": [
       "$\\displaystyle -\\frac{1}{4} \\, {\\left({\\left(2 \\, n_{y} - 2 \\, \\left \\lfloor n_{y} \\right \\rfloor - 1\\right)} {\\left(\\frac{n_{x} n_{y}}{{\\left(n_{x}^{2} + n_{y}^{2} + u^{2}\\right)}^{\\frac{3}{2}} {\\left(\\frac{\\pi^{4} {\\left(n_{x}^{2} + n_{y}^{2} + u^{2}\\right)}^{2}}{a^{4} k_{m}^{4}} + 1\\right)}} + \\frac{16 \\, \\pi^{4} \\sqrt{n_{x}^{2} + n_{y}^{2} + u^{2}} n_{x} n_{y}}{a^{4} k_{m}^{4} {\\left(\\frac{\\pi^{4} {\\left(n_{x}^{2} + n_{y}^{2} + u^{2}\\right)}^{2}}{a^{4} k_{m}^{4}} + 1\\right)}^{2}} - \\frac{32 \\, \\pi^{8} {\\left(n_{x}^{2} + n_{y}^{2} + u^{2}\\right)}^{\\frac{5}{2}} n_{x} n_{y}}{a^{8} k_{m}^{8} {\\left(\\frac{\\pi^{4} {\\left(n_{x}^{2} + n_{y}^{2} + u^{2}\\right)}^{2}}{a^{4} k_{m}^{4}} + 1\\right)}^{3}}\\right)} - \\frac{4 \\, n_{x}}{\\sqrt{n_{x}^{2} + n_{y}^{2} + u^{2}} {\\left(\\frac{\\pi^{4} {\\left(n_{x}^{2} + n_{y}^{2} + u^{2}\\right)}^{2}}{a^{4} k_{m}^{4}} + 1\\right)}} + \\frac{16 \\, \\pi^{4} {\\left(n_{x}^{2} + n_{y}^{2} + u^{2}\\right)}^{\\frac{3}{2}} n_{x}}{a^{4} k_{m}^{4} {\\left(\\frac{\\pi^{4} {\\left(n_{x}^{2} + n_{y}^{2} + u^{2}\\right)}^{2}}{a^{4} k_{m}^{4}} + 1\\right)}^{2}}\\right)} {\\left(2 \\, n_{x} - 2 \\, \\left \\lfloor n_{x} \\right \\rfloor - 1\\right)}$"
      ],
      "text/plain": [
       "<IPython.core.display.Math object>"
      ]
     },
     "metadata": {},
     "output_type": "display_data"
    }
   ],
   "source": [
    "disp(result_energy_density_difference_Fn_integrand(u, n_x, n_y, a, k_m))"
   ]
  },
  {
   "cell_type": "code",
   "execution_count": 186,
   "metadata": {},
   "outputs": [
    {
     "data": {
      "text/plain": [
       "(2*n_x^2 - 2*n_x*floor(n_x) - n_x)/sqrt(n_x^2 + n_y^2 + u^2)"
      ]
     },
     "execution_count": 186,
     "metadata": {},
     "output_type": "execute_result"
    }
   ],
   "source": [
    "lim_2_Rpx_Fn_integrand=limit(2*Rpx_Fn_integrand(u, n_x, n_y, a, k_m), k_m=Infinity)\n",
    "lim_2_Rpx_Fn_integrand"
   ]
  },
  {
   "cell_type": "code",
   "execution_count": 187,
   "metadata": {},
   "outputs": [
    {
     "data": {
      "text/plain": [
       "(2*n_x - 2*floor(n_x) - 1)*n_x/sqrt(n_x^2 + n_y^2 + u^2)"
      ]
     },
     "execution_count": 187,
     "metadata": {},
     "output_type": "execute_result"
    }
   ],
   "source": [
    "lim_2_Rpx_Fn_integrand=limit(2*Rpx_Fn_integrand(u, n_x, n_y, a, k_m), k_m=Infinity, algorithm='sympy')\n",
    "lim_2_Rpx_Fn_integrand"
   ]
  },
  {
   "cell_type": "code",
   "execution_count": 188,
   "metadata": {},
   "outputs": [
    {
     "data": {
      "text/plain": [
       "(2*n_x - 2*floor(n_x) - 1)*n_x/sqrt(n_x^2 + n_y^2 + u^2)"
      ]
     },
     "execution_count": 188,
     "metadata": {},
     "output_type": "execute_result"
    }
   ],
   "source": [
    "exec(preparse(\"result_energy_density_difference_Fn_limited_integrand = lambda u, n_x, n_y :\" + str(lim_2_Rpx_Fn_integrand)))\n",
    "result_energy_density_difference_Fn_limited_integrand(u, n_x, n_y)"
   ]
  },
  {
   "cell_type": "code",
   "execution_count": 189,
   "metadata": {},
   "outputs": [
    {
     "data": {
      "text/plain": [
       "-1/4*(2*n_x - 2*floor(n_x) - 1)*n_x*(2*n_y - 2*floor(n_y) - 1)*n_y/(sqrt(n_x^2 + n_y^2 + u^2)*n_x^2 + sqrt(n_x^2 + n_y^2 + u^2)*n_y^2 + sqrt(n_x^2 + n_y^2 + u^2)*u^2)"
      ]
     },
     "execution_count": 189,
     "metadata": {},
     "output_type": "execute_result"
    }
   ],
   "source": [
    "limit(Rpy_Rpx_Fn_integrand(u, n_x, n_y, a, k_m), k_m=Infinity, algorithm='sympy')"
   ]
  },
  {
   "cell_type": "code",
   "execution_count": 190,
   "metadata": {},
   "outputs": [
    {
     "data": {
      "text/latex": [
       "$\\displaystyle \\frac{{\\left(4 \\, n_{x}^{2} + 2 \\, n_{y}^{2} + 4 \\, u^{2} + 2 \\, n_{y} \\left \\lfloor n_{y} \\right \\rfloor + n_{y}\\right)} {\\left(2 \\, n_{x} - 2 \\, \\left \\lfloor n_{x} \\right \\rfloor - 1\\right)} n_{x}}{4 \\, {\\left(\\sqrt{n_{x}^{2} + n_{y}^{2} + u^{2}} n_{x}^{2} + \\sqrt{n_{x}^{2} + n_{y}^{2} + u^{2}} n_{y}^{2} + \\sqrt{n_{x}^{2} + n_{y}^{2} + u^{2}} u^{2}\\right)}}$"
      ],
      "text/plain": [
       "<IPython.core.display.Math object>"
      ]
     },
     "metadata": {},
     "output_type": "display_data"
    }
   ],
   "source": [
    "exec(preparse(\"result_energy_density_difference_Fn_lim_km_Inf_integrand = lambda u, n_x, n_y :\" + \\\n",
    "              str(limit(result_energy_density_difference_Fn_integrand(u, n_x, n_y, a, k_m), k_m=Infinity, algorithm='sympy'))))\n",
    "disp(result_energy_density_difference_Fn_lim_km_Inf_integrand(u, n_x, n_y))"
   ]
  },
  {
   "cell_type": "code",
   "execution_count": 191,
   "metadata": {},
   "outputs": [
    {
     "data": {
      "image/png": "[encoded data removed]",
      "text/plain": [
       "Graphics object consisting of 1 graphics primitive"
      ]
     },
     "execution_count": 191,
     "metadata": {},
     "output_type": "execute_result"
    }
   ],
   "source": [
    "plot(Rpy_Rpx_Fn_integrand(1, 10, 3, 1, k_m), (k_m, 0, 1000 ))"
   ]
  },
  {
   "cell_type": "code",
   "execution_count": 192,
   "metadata": {},
   "outputs": [
    {
     "data": {
      "image/png": "[encoded data removed]",
      "text/plain": [
       "Graphics object consisting of 2 graphics primitives"
      ]
     },
     "execution_count": 192,
     "metadata": {},
     "output_type": "execute_result"
    }
   ],
   "source": [
    "plot([result_energy_density_difference_Fn_integrand(1, 2, 3, 1, k_m), 2 * Rpx_Fn_integrand(1, 2, 3, 1, k_m)], (k_m, 0, 100 ))"
   ]
  },
  {
   "cell_type": "code",
   "execution_count": 193,
   "metadata": {},
   "outputs": [
    {
     "data": {
      "image/png": "[encoded data removed]",
      "text/plain": [
       "Graphics object consisting of 2 graphics primitives"
      ]
     },
     "execution_count": 193,
     "metadata": {},
     "output_type": "execute_result"
    }
   ],
   "source": [
    "plot([result_energy_density_difference_Fn_integrand(10, 2, 3, 1, k_m), 2 * Rpx_Fn_integrand(10, 2, 3, 1, k_m)], (k_m, 0, 100 ))"
   ]
  },
  {
   "cell_type": "code",
   "execution_count": 194,
   "metadata": {},
   "outputs": [
    {
     "data": {
      "image/png": "[encoded data removed]",
      "text/plain": [
       "Graphics object consisting of 2 graphics primitives"
      ]
     },
     "execution_count": 194,
     "metadata": {},
     "output_type": "execute_result"
    }
   ],
   "source": [
    "plot([result_energy_density_difference_Fn_integrand(1, 20, 3, 1, k_m), 2 * Rpx_Fn_integrand(1, 20, 3, 1, k_m)], (k_m, 0, 1000 ))"
   ]
  },
  {
   "cell_type": "code",
   "execution_count": 195,
   "metadata": {},
   "outputs": [
    {
     "data": {
      "image/png": "[encoded data removed]",
      "text/plain": [
       "Graphics object consisting of 1 graphics primitive"
      ]
     },
     "execution_count": 195,
     "metadata": {},
     "output_type": "execute_result"
    }
   ],
   "source": [
    "plot(result_energy_density_difference_Fn_integrand(1, 10, 3, 1, k_m), (k_m, 0, 1000 ))"
   ]
  },
  {
   "cell_type": "code",
   "execution_count": 196,
   "metadata": {},
   "outputs": [
    {
     "data": {
      "image/png": "[encoded data removed]",
      "text/plain": [
       "Graphics object consisting of 2 graphics primitives"
      ]
     },
     "execution_count": 196,
     "metadata": {},
     "output_type": "execute_result"
    }
   ],
   "source": [
    "plot([result_energy_density_difference_Fn_integrand(1, n_x, 3, 1, 1000), result_energy_density_difference_Fn_limited_integrand(1, n_x, 3)], (n_x, 1000, 1025 ))"
   ]
  },
  {
   "cell_type": "code",
   "execution_count": 197,
   "metadata": {},
   "outputs": [
    {
     "data": {
      "image/png": "[encoded data removed]",
      "text/plain": [
       "Graphics object consisting of 2 graphics primitives"
      ]
     },
     "execution_count": 197,
     "metadata": {},
     "output_type": "execute_result"
    }
   ],
   "source": [
    "plot([result_energy_density_difference_Fn_integrand(u, 100, 3, 1, 1000000), result_energy_density_difference_Fn_limited_integrand(u, 100, 3)], (u, 0, 10000 ))"
   ]
  },
  {
   "cell_type": "code",
   "execution_count": 198,
   "metadata": {},
   "outputs": [
    {
     "data": {
      "image/png": "[encoded data removed]",
      "text/plain": [
       "Graphics object consisting of 1 graphics primitive"
      ]
     },
     "execution_count": 198,
     "metadata": {},
     "output_type": "execute_result"
    }
   ],
   "source": [
    "plot(result_energy_density_difference_Fn_limited_integrand(1000, n_x, 3), (n_x, 1000000000000, 1000000000050 ))"
   ]
  },
  {
   "cell_type": "code",
   "execution_count": 199,
   "metadata": {},
   "outputs": [
    {
     "data": {
      "image/png": "[encoded data removed]",
      "text/plain": [
       "Graphics object consisting of 1 graphics primitive"
      ]
     },
     "execution_count": 199,
     "metadata": {},
     "output_type": "execute_result"
    }
   ],
   "source": [
    "plot(result_energy_density_difference_Fn_integrand(1, n_x, 3, 1, 1000), (n_x, 1000, 10000 ))"
   ]
  },
  {
   "cell_type": "markdown",
   "metadata": {},
   "source": [
    "# Result_energy_density_difference calculation via Euler–Maclaurin 2D"
   ]
  },
  {
   "cell_type": "code",
   "execution_count": 200,
   "metadata": {},
   "outputs": [],
   "source": [
    "def calc_result_energy_density_difference_add_Fn(jx, akm):\n",
    "    result_energy_density_difference_add = 0\n",
    "    \n",
    "    add = 2*intu_inty_Rpx_Fn_j_num( j_x = jx, a=1, k_m = akm)\n",
    "    result_energy_density_difference_add += add\n",
    "    #print (jx, \"2*inty_Rpx(jx)\", add, result_energy_density_difference_add)\n",
    "    \n",
    "    add = intu_Rpy_Rpx_Fn_j_num (j_x = jx, j_y = jx, a=1, k_m = akm)   \n",
    "    result_energy_density_difference_add += add\n",
    "    #print (jx, \"Rpy_Rpx(jx,jx)\", add, result_energy_density_difference_add)\n",
    "    \n",
    "    for jy in range(0, jx):\n",
    "        add = 2 * intu_Rpy_Rpx_Fn_j_num (j_x = jx, j_y = jy, a=1, k_m = akm)\n",
    "        result_energy_density_difference_add += add\n",
    "        #print (jx, jy, \"2 * Rpy_Rpx(jx,jy)\", add, result_energy_density_difference_add)\n",
    "        \n",
    "    # print (jx, result_energy_density_difference_add)\n",
    "\n",
    "    return result_energy_density_difference_add    "
   ]
  },
  {
   "cell_type": "code",
   "execution_count": 201,
   "metadata": {},
   "outputs": [],
   "source": [
    "def calc_limit_energy_density_difference_add_Fn(jx):\n",
    "    result_energy_density_difference_add = 0\n",
    "    \n",
    "    add = 2*intu_inty_lim_Rpx_Fn_j_num( j_x = jx)\n",
    "    result_energy_density_difference_add += add\n",
    "    #print (jx, \"2*inty_Rpx(jx)\", add, result_energy_density_difference_add)\n",
    "    \n",
    "    add = intu_lim_Rpy_Rpx_Fn_j_num (j_x = jx, j_y = jx)   \n",
    "    result_energy_density_difference_add += add\n",
    "    #print (jx, \"Rpy_Rpx(jx,jx)\", add, result_energy_density_difference_add)\n",
    "    \n",
    "    for jy in range(0, jx):\n",
    "        add = 2 * intu_lim_Rpy_Rpx_Fn_j_num (j_x = jx, j_y = jy)\n",
    "        result_energy_density_difference_add += add\n",
    "        #print (jx, jy, \"2 * Rpy_Rpx(jx,jy)\", add, result_energy_density_difference_add)\n",
    "        \n",
    "    # print (jx, result_energy_density_difference_add)\n",
    "\n",
    "    return result_energy_density_difference_add    "
   ]
  },
  {
   "cell_type": "code",
   "execution_count": 202,
   "metadata": {},
   "outputs": [],
   "source": [
    "#intu_Rpy_Rpx_Fn_j_num (j_x = 0, j_y = 0, a = 1, k_m = 1)\n",
    "#tolerance = 9.474727462869584e-09\n",
    "#-0.002569089149475086"
   ]
  },
  {
   "cell_type": "code",
   "execution_count": 203,
   "metadata": {},
   "outputs": [],
   "source": [
    "def calc_result_energy_density_difference_add_G(jx, akm):\n",
    "    result_energy_density_difference_add = 0\n",
    "    \n",
    "    add = inty_Rpx_G_j_numerical( j_x = jx, ak_m = akm)\n",
    "    result_energy_density_difference_add += 2*add[0]\n",
    "    print (jx, \"2*inty_Rpx(jx)\", add, result_energy_density_difference_add)\n",
    "    \n",
    "    add = Rpy_Rpx_G_j_numerical(j_x = jx, j_y = jx, ak_m = akm)\n",
    "    result_energy_density_difference_add += add[0]\n",
    "    print (jx, \"Rpy_Rpx(jx,jx)\", add, result_energy_density_difference_add)\n",
    "    \n",
    "    for jy in range(0, jx):\n",
    "        add = Rpy_Rpx_G_j_numerical (j_x = jx, j_y = jy, ak_m = akm)\n",
    "        result_energy_density_difference_add += 2*add[0]\n",
    "        print (jx, jy, \"2 * Rpy_Rpx(jx,jy)\", add, result_energy_density_difference_add)\n",
    "        \n",
    "    print (jx, result_energy_density_difference_add)\n",
    "\n",
    "    return result_energy_density_difference_add    "
   ]
  },
  {
   "cell_type": "code",
   "execution_count": 204,
   "metadata": {},
   "outputs": [],
   "source": [
    "def calc_result_energy_density_difference_add(jx, akm):\n",
    "    return calc_result_energy_density_difference_add_Fn(jx, akm)   "
   ]
  },
  {
   "cell_type": "code",
   "execution_count": 205,
   "metadata": {},
   "outputs": [],
   "source": [
    "def calc_limit_energy_density_difference_add(jx):\n",
    "    return calc_limit_energy_density_difference_add_Fn(jx)   "
   ]
  },
  {
   "cell_type": "code",
   "execution_count": 206,
   "metadata": {},
   "outputs": [],
   "source": [
    "def calc_result_energy_density_difference(N, akm, N_0 = 0, energy_density_difference_0 = 0):\n",
    "    result_energy_density_difference = energy_density_difference_0\n",
    "    result_energy_density_difference_plot_energy_density_difference_data = []\n",
    "    result_energy_density_difference_plot_add_data = []\n",
    "    for jx in range(N_0, N+1):\n",
    "        add = calc_result_energy_density_difference_add(jx, akm)\n",
    "        result_energy_density_difference += add\n",
    "        result_energy_density_difference_plot_energy_density_difference_data += [(jx, result_energy_density_difference)]\n",
    "        result_energy_density_difference_plot_add_data += [(jx, add)]\n",
    "        print (jx, add, result_energy_density_difference)\n",
    "    return result_energy_density_difference, result_energy_density_difference_plot_energy_density_difference_data, result_energy_density_difference_plot_add_data"
   ]
  },
  {
   "cell_type": "code",
   "execution_count": 207,
   "metadata": {},
   "outputs": [],
   "source": [
    "def calc_limit_energy_density_difference(N, N_0 = 0, energy_density_difference_0 = 0):\n",
    "    result_energy_density_difference = energy_density_difference_0\n",
    "    result_energy_density_difference_plot_energy_density_difference_data = []\n",
    "    result_energy_density_difference_plot_add_data = []\n",
    "    for jx in range(N_0, N+1):\n",
    "        add = calc_limit_energy_density_difference_add(jx)\n",
    "        result_energy_density_difference += add\n",
    "        result_energy_density_difference_plot_energy_density_difference_data += [(jx, result_energy_density_difference)]\n",
    "        result_energy_density_difference_plot_add_data += [(jx, add)]\n",
    "        print (jx, add, result_energy_density_difference)\n",
    "    return result_energy_density_difference, result_energy_density_difference_plot_energy_density_difference_data, result_energy_density_difference_plot_add_data"
   ]
  },
  {
   "cell_type": "code",
   "execution_count": 208,
   "metadata": {},
   "outputs": [],
   "source": [
    "def list_plot_str(str1, title_d, title_f, plot_d = True, plot_f = True):\n",
    "    lst = str1.split(\"\\n\")\n",
    "    data_f = []\n",
    "    data_d = []\n",
    "    for row in lst:\n",
    "        if len(row) > 0:\n",
    "            splitted_row = row.split(\" \")\n",
    "            try:\n",
    "                N = int(splitted_row[0])\n",
    "            except:\n",
    "                N = float(splitted_row[0])\n",
    "            d = float(splitted_row[1])\n",
    "            f = float(splitted_row[2])\n",
    "            data_d += [(N, d)]\n",
    "            data_f += [(N, f)]\n",
    "    if plot_d:\n",
    "        list_plot(data_d).show(title=title_d)\n",
    "    if plot_f:\n",
    "        list_plot(data_f).show(title=title_f)"
   ]
  },
  {
   "cell_type": "raw",
   "metadata": {},
   "source": [
    "26 2.8919355367709493e-07 0.0030521250616033615\n",
    "27 2.588291409228736e-07 0.0030523838907442844\n",
    "28 2.325689954440146e-07 0.0030526164597397282\n",
    "29 2.0973868119740283e-07 0.0030528261984209258\n",
    "30 1.8979289639058487e-07 0.0030530159913173165\n",
    "31 1.7228985609844344e-07 0.003053188281173415\n",
    "32 1.5686119813373244e-07 0.003053345142371549\n",
    "33 1.4338501326615822e-07 0.003053488527384815\n",
    "34 1.3108364660302253e-07 0.003053619611031418\n",
    "35 1.2041292696876326e-07 0.003053740023958387\n",
    "36 1.1061631735931385e-07 0.0030538506402757464\n",
    "37 1.0213900501314245e-07 0.0030539527792807597\n",
    "38 9.422207002695633e-08 0.0030540470013507865\n",
    "39 8.717997188395283e-08 0.0030541341813226704\n",
    "40 8.190528201498716e-08 0.0030542160866046855\n",
    "41 7.507802147236051e-08 0.003054291164626158\n",
    "42 6.992982141603731e-08 0.003054361094447574\n",
    "43 6.505042645995223e-08 0.003054426144874034\n",
    "44 6.071581946749412e-08 0.0030544868606935016\n",
    "45 5.675623650037818e-08 0.003054543616930002\n",
    "46 5.3170333530302065e-08 0.0030545967872635323\n",
    "47 4.9810964223396824e-08 0.003054646598227756\n",
    "48 4.6760847526554185e-08 0.0030546933590752823\n",
    "49 4.3955678298020916e-08 0.0030547373147535805\n",
    "50 4.13718307494964e-08 0.00305477868658433\n",
    "result_energy_density_difference, result_energy_density_difference_plot_energy_density_difference_data, result_energy_density_difference_plot_add_data = calc_result_energy_density_difference(N=25, akm=1)"
   ]
  },
  {
   "cell_type": "code",
   "execution_count": 209,
   "metadata": {},
   "outputs": [],
   "source": [
    "str_energy_density_difference_akm1 = \"\"\"\n",
    "0 0.0006061883111035354 0.0006061883111035354\n",
    "1 0.0017975635908745761 0.0024037519019781115\n",
    "2 0.00035749773184259783 0.0027612496338207094\n",
    "3 0.00012788697859491643 0.0028891366124156256\n",
    "4 5.9705484001188586e-05 0.0029488420964168143\n",
    "5 3.257148744888141e-05 0.002981413583865696\n",
    "6 1.968745192542542e-05 0.0030011010357911213\n",
    "7 1.2797274646692704e-05 0.003013898310437814\n",
    "8 8.782630461354662e-06 0.0030226809408991687\n",
    "9 6.286568945150221e-06 0.003028967509844319\n",
    "10 4.653726092487851e-06 0.003033621235936807\n",
    "11 3.5410584083251118e-06 0.003037162294345132\n",
    "12 2.75679543325626e-06 0.003039919089778388\n",
    "13 2.1876911407025913e-06 0.003042106780919091\n",
    "14 1.7653796431461397e-06 0.003043872160562237\n",
    "15 1.4449179129158848e-06 0.003045317078475153\n",
    "16 1.1976496673269677e-06 0.00304651472814248\n",
    "17 1.0037556551007683e-06 0.003047518483797581\n",
    "18 8.495559555607291e-07 0.003048368039753142\n",
    "19 7.253977933560336e-07 0.003049093437546498\n",
    "20 6.243082554640035e-07 0.003049717745801962\n",
    "21 5.411649832104003e-07 0.0030502589107851722\n",
    "22 4.721552783665532e-07 0.003050731066063539\n",
    "23 4.144594797762564e-07 0.003051145525543315\n",
    "24 3.6583976909206116e-07 0.003051511365312407\n",
    "25 3.2450273727752887e-07 0.0030518358680496844\n",
    "26 2.8919355367709493e-07 0.0030521250616033615\n",
    "27 2.588291409228736e-07 0.0030523838907442844\n",
    "28 2.325689954440146e-07 0.0030526164597397282\n",
    "29 2.0973868119740283e-07 0.0030528261984209258\n",
    "30 1.8979289639058487e-07 0.0030530159913173165\n",
    "31 1.7228985609844344e-07 0.003053188281173415\n",
    "32 1.5686119813373244e-07 0.003053345142371549\n",
    "33 1.4338501326615822e-07 0.003053488527384815\n",
    "34 1.3108364660302253e-07 0.003053619611031418\n",
    "35 1.2041292696876326e-07 0.003053740023958387\n",
    "36 1.1061631735931385e-07 0.0030538506402757464\n",
    "37 1.0213900501314245e-07 0.0030539527792807597\n",
    "38 9.422207002695633e-08 0.0030540470013507865\n",
    "39 8.717997188395283e-08 0.0030541341813226704\n",
    "40 8.190528201498716e-08 0.0030542160866046855\n",
    "41 7.507802147236051e-08 0.003054291164626158\n",
    "42 6.992982141603731e-08 0.003054361094447574\n",
    "43 6.505042645995223e-08 0.003054426144874034\n",
    "44 6.071581946749412e-08 0.0030544868606935016\n",
    "45 5.675623650037818e-08 0.003054543616930002\n",
    "46 5.3170333530302065e-08 0.0030545967872635323\n",
    "47 4.9810964223396824e-08 0.003054646598227756\n",
    "48 4.6760847526554185e-08 0.0030546933590752823\n",
    "49 4.3955678298020916e-08 0.0030547373147535805\n",
    "50 4.13718307494964e-08 0.00305477868658433\n",
    "\"\"\""
   ]
  },
  {
   "cell_type": "raw",
   "metadata": {},
   "source": [
    "list_plot(result_energy_density_difference_plot_energy_density_difference_data+result_energy_density_difference_plot_energy_density_difference_data_2).show(title=\"result_energy_density_difference_Fn plot_energy_density_difference_data\")"
   ]
  },
  {
   "cell_type": "raw",
   "metadata": {},
   "source": [
    "list_plot(result_energy_density_difference_plot_add_data+result_energy_density_difference_plot_add_data_2).show(title=\"result_energy_density_difference_Fn plot_add_data\")"
   ]
  },
  {
   "cell_type": "code",
   "execution_count": 210,
   "metadata": {},
   "outputs": [],
   "source": [
    "def latex_arr_str(str1, titles, indexes):\n",
    "    lst = str1.split(\"\\n\")\n",
    "    ltx = \"\\\\begin{array}\"\n",
    "    ltx += \" \"\n",
    "    ititle = 0\n",
    "    for title in titles:\n",
    "        ltx += title\n",
    "        if ititle < len(titles) - 1:\n",
    "            ltx += \" & \"\n",
    "        else:\n",
    "            ltx += \" \\\\\\\\\"\n",
    "        ititle += 1\n",
    "    for row in lst:\n",
    "        if len(row) > 0:\n",
    "            splitted_row = row.split(\" \")\n",
    "            ltx += \" \"\n",
    "            ititle = 0\n",
    "            for index in indexes:\n",
    "                ltx += splitted_row[index]\n",
    "                if ititle < len(titles) - 1:\n",
    "                    ltx += \" & \"\n",
    "                else:\n",
    "                    ltx += \" \\\\\\\\\"\n",
    "                ititle += 1                \n",
    "    ltx += \"\\\\end{array}\"\n",
    "    return ltx"
   ]
  },
  {
   "cell_type": "code",
   "execution_count": 211,
   "metadata": {},
   "outputs": [
    {
     "data": {
      "text/latex": [
       "$\\displaystyle \\begin{array} \\,j & \\,\\Delta\\,\\delta\\,\\frac{E}{V} & \\delta\\,\\frac{E}{V} \\\\ 0 & 0.0006061883111035354 & 0.0006061883111035354 \\\\ 1 & 0.0017975635908745761 & 0.0024037519019781115 \\\\ 2 & 0.00035749773184259783 & 0.0027612496338207094 \\\\ 3 & 0.00012788697859491643 & 0.0028891366124156256 \\\\ 4 & 5.9705484001188586e-05 & 0.0029488420964168143 \\\\ 5 & 3.257148744888141e-05 & 0.002981413583865696 \\\\ 6 & 1.968745192542542e-05 & 0.0030011010357911213 \\\\ 7 & 1.2797274646692704e-05 & 0.003013898310437814 \\\\ 8 & 8.782630461354662e-06 & 0.0030226809408991687 \\\\ 9 & 6.286568945150221e-06 & 0.003028967509844319 \\\\ 10 & 4.653726092487851e-06 & 0.003033621235936807 \\\\ 11 & 3.5410584083251118e-06 & 0.003037162294345132 \\\\ 12 & 2.75679543325626e-06 & 0.003039919089778388 \\\\ 13 & 2.1876911407025913e-06 & 0.003042106780919091 \\\\ 14 & 1.7653796431461397e-06 & 0.003043872160562237 \\\\ 15 & 1.4449179129158848e-06 & 0.003045317078475153 \\\\ 16 & 1.1976496673269677e-06 & 0.00304651472814248 \\\\ 17 & 1.0037556551007683e-06 & 0.003047518483797581 \\\\ 18 & 8.495559555607291e-07 & 0.003048368039753142 \\\\ 19 & 7.253977933560336e-07 & 0.003049093437546498 \\\\ 20 & 6.243082554640035e-07 & 0.003049717745801962 \\\\ 21 & 5.411649832104003e-07 & 0.0030502589107851722 \\\\ 22 & 4.721552783665532e-07 & 0.003050731066063539 \\\\ 23 & 4.144594797762564e-07 & 0.003051145525543315 \\\\ 24 & 3.6583976909206116e-07 & 0.003051511365312407 \\\\ 25 & 3.2450273727752887e-07 & 0.0030518358680496844 \\\\ 26 & 2.8919355367709493e-07 & 0.0030521250616033615 \\\\ 27 & 2.588291409228736e-07 & 0.0030523838907442844 \\\\ 28 & 2.325689954440146e-07 & 0.0030526164597397282 \\\\ 29 & 2.0973868119740283e-07 & 0.0030528261984209258 \\\\ 30 & 1.8979289639058487e-07 & 0.0030530159913173165 \\\\ 31 & 1.7228985609844344e-07 & 0.003053188281173415 \\\\ 32 & 1.5686119813373244e-07 & 0.003053345142371549 \\\\ 33 & 1.4338501326615822e-07 & 0.003053488527384815 \\\\ 34 & 1.3108364660302253e-07 & 0.003053619611031418 \\\\ 35 & 1.2041292696876326e-07 & 0.003053740023958387 \\\\ 36 & 1.1061631735931385e-07 & 0.0030538506402757464 \\\\ 37 & 1.0213900501314245e-07 & 0.0030539527792807597 \\\\ 38 & 9.422207002695633e-08 & 0.0030540470013507865 \\\\ 39 & 8.717997188395283e-08 & 0.0030541341813226704 \\\\ 40 & 8.190528201498716e-08 & 0.0030542160866046855 \\\\ 41 & 7.507802147236051e-08 & 0.003054291164626158 \\\\ 42 & 6.992982141603731e-08 & 0.003054361094447574 \\\\ 43 & 6.505042645995223e-08 & 0.003054426144874034 \\\\ 44 & 6.071581946749412e-08 & 0.0030544868606935016 \\\\ 45 & 5.675623650037818e-08 & 0.003054543616930002 \\\\ 46 & 5.3170333530302065e-08 & 0.0030545967872635323 \\\\ 47 & 4.9810964223396824e-08 & 0.003054646598227756 \\\\ 48 & 4.6760847526554185e-08 & 0.0030546933590752823 \\\\ 49 & 4.3955678298020916e-08 & 0.0030547373147535805 \\\\ 50 & 4.13718307494964e-08 & 0.00305477868658433 \\\\\\end{array}$"
      ],
      "text/plain": [
       "<IPython.core.display.Math object>"
      ]
     },
     "metadata": {},
     "output_type": "display_data"
    }
   ],
   "source": [
    "display(Math(latex_arr_str(str_energy_density_difference_akm1, \\\n",
    "                           titles = [\"\\\\,j\", \"\\\\,\\\\Delta\\\\,\\\\delta\\\\,\\\\frac{E}{V}\", \\\n",
    "                           \"\\\\delta\\\\,\\\\frac{E}{V}\"], \n",
    "                          indexes = [0,1,2])))"
   ]
  },
  {
   "cell_type": "code",
   "execution_count": 212,
   "metadata": {},
   "outputs": [
    {
     "data": {
      "image/png": "[encoded data removed]",
      "text/plain": [
       "Graphics object consisting of 1 graphics primitive"
      ]
     },
     "metadata": {},
     "output_type": "display_data"
    },
    {
     "data": {
      "image/png": "[encoded data removed]",
      "text/plain": [
       "Graphics object consisting of 1 graphics primitive"
      ]
     },
     "metadata": {},
     "output_type": "display_data"
    }
   ],
   "source": [
    "list_plot_str(str_energy_density_difference_akm1, \"add energy_density_difference $a k_m = 1$\", \"energy_density_difference $a k_m = 1$\")"
   ]
  },
  {
   "cell_type": "raw",
   "metadata": {},
   "source": [
    "def calc_result_energy_density_difference_add(jx, akm):\n",
    "    if 0 == jx:\n",
    "        return calc_result_energy_density_difference_add_Fn(jx, akm)\n",
    "    return calc_result_energy_density_difference_add_G(jx, akm)   "
   ]
  },
  {
   "cell_type": "raw",
   "metadata": {},
   "source": [
    "result_energy_density_difference, result_energy_density_difference_plot_energy_density_difference_data, result_energy_density_difference_plot_add_data = calc_result_energy_density_difference(N=25, akm=1)"
   ]
  },
  {
   "cell_type": "raw",
   "metadata": {},
   "source": [
    "list_plot(result_energy_density_difference_plot_energy_density_difference_data).show(title=\"result_energy_density_difference_G plot_energy_density_difference_data\")"
   ]
  },
  {
   "cell_type": "raw",
   "metadata": {},
   "source": [
    "list_plot(result_energy_density_difference_plot_add_data).show(title=\"result_energy_density_difference_G plot_add_data\")"
   ]
  },
  {
   "cell_type": "markdown",
   "metadata": {},
   "source": [
    "Now we should understood can received coefficient be reduced to zero when N will be Infinity? So we try to recalc this coefficient with ..."
   ]
  },
  {
   "cell_type": "markdown",
   "metadata": {},
   "source": [
    "# Just numerical summation of"
   ]
  },
  {
   "cell_type": "markdown",
   "metadata": {},
   "source": [
    "\\begin{equation}\n",
    "\\sum\\limits_{n_x=\\left(0\\right)\\,1}^{\\infty}\n",
    "\\sum\\limits_{n_y=\\left(0\\right)\\,1}^{\\infty}\n",
    "G\\left(n_x, n_y\\right)\n",
    "-\n",
    "\\int\\limits_{0}^{\\infty}\n",
    "\\int\\limits_{0}^{\\infty}\n",
    "G\\left(n_x, n_y\\right)\\,d{n_x}\\,d{n_y}\n",
    "\\end{equation}\n",
    "\n",
    "assuming that $a \\cdot k_m = 1$ "
   ]
  },
  {
   "cell_type": "code",
   "execution_count": 213,
   "metadata": {},
   "outputs": [],
   "source": [
    "intu_Fn = lambda n_x, n_y, a, k_m : numerical_integral(lambda u: Fn(u, n_x, n_y, a, k_m), 0, Infinity)"
   ]
  },
  {
   "cell_type": "code",
   "execution_count": 214,
   "metadata": {},
   "outputs": [],
   "source": [
    "intx_intu_Fn = lambda n_y, a, k_m : numerical_integral(lambda n_x: intu_Fn(n_x, n_y, a, k_m)[0], 0, Infinity)"
   ]
  },
  {
   "cell_type": "code",
   "execution_count": 215,
   "metadata": {},
   "outputs": [],
   "source": [
    "inty_intx_intu_Fn = lambda a, k_m : numerical_integral(lambda n_y: intx_intu_Fn(n_y, a, k_m)[0], 0, Infinity)"
   ]
  },
  {
   "cell_type": "code",
   "execution_count": 216,
   "metadata": {},
   "outputs": [],
   "source": [
    "def sumx_intu_Fn(n_y, a, k_m, N):\n",
    "    S = 0.5 * intu_Fn(n_x=0, n_y=n_y, a=a, k_m=k_m)[0]\n",
    "    for i in range(1,N+1):\n",
    "        S += intu_Fn(n_x=i, n_y=n_y, a=a, k_m=k_m)[0]\n",
    "    return S"
   ]
  },
  {
   "cell_type": "code",
   "execution_count": 217,
   "metadata": {},
   "outputs": [],
   "source": [
    "def dsumx_intu_Fn(n_y, a, k_m, N1, N2):\n",
    "    S = 0\n",
    "    for i in range(N1,N2+1):\n",
    "        # print(\"dsumx_intu_Fn\", \"n_x=\", i, \"n_y=\", n_y)\n",
    "        S += intu_Fn(n_x=i, n_y=n_y, a=a, k_m=k_m)[0]\n",
    "    return S"
   ]
  },
  {
   "cell_type": "code",
   "execution_count": 218,
   "metadata": {},
   "outputs": [],
   "source": [
    "def dsumy_intu_Fn(n_x, a, k_m, N1, N2):\n",
    "    S = 0\n",
    "    for i in range(N1,N2+1):\n",
    "        # print(\"dsumy_intu_Fn\", \"n_x=\", n_x, \"n_y=\", i)\n",
    "        S += intu_Fn(n_x=n_x, n_y=i, a=a, k_m=k_m)[0]\n",
    "    return S"
   ]
  },
  {
   "cell_type": "code",
   "execution_count": 219,
   "metadata": {},
   "outputs": [
    {
     "data": {
      "text/plain": [
       "0.0156504026561215"
      ]
     },
     "execution_count": 219,
     "metadata": {},
     "output_type": "execute_result"
    }
   ],
   "source": [
    "sumx_intu_Fn(n_y = 1, a = 1, k_m = 1, N = 20)"
   ]
  },
  {
   "cell_type": "code",
   "execution_count": 220,
   "metadata": {},
   "outputs": [
    {
     "data": {
      "text/plain": [
       "0.0156504026561215"
      ]
     },
     "execution_count": 220,
     "metadata": {},
     "output_type": "execute_result"
    }
   ],
   "source": [
    "sumx_intu_Fn(n_y = 1, a = 1, k_m = 1, N = 10) + dsumx_intu_Fn(n_y = 1, a = 1, k_m = 1, N1 = 11, N2=20)"
   ]
  },
  {
   "cell_type": "code",
   "execution_count": 221,
   "metadata": {},
   "outputs": [],
   "source": [
    "def sumy_sumx_intu_Fn(a, k_m, N):\n",
    "    S = 0.5 * sumx_intu_Fn(n_y=0, a=a, k_m=k_m, N = N)\n",
    "    for j in range(1,N+1):\n",
    "        S += sumx_intu_Fn(n_y=j, a=a, k_m=k_m, N = N)\n",
    "    return S"
   ]
  },
  {
   "cell_type": "code",
   "execution_count": 222,
   "metadata": {},
   "outputs": [],
   "source": [
    "def dsumy_sum_intu_Fn(a, k_m, N1, N2):\n",
    "    S = 0\n",
    "    S += 0.5*dsumy_intu_Fn(n_x=0, a=a, k_m=k_m, N1=N1, N2 = N2)\n",
    "    for i in range(1,N1):\n",
    "        S += dsumy_intu_Fn(n_x=i, a=a, k_m=k_m, N1=N1, N2 = N2)\n",
    "\n",
    "    S += 0.5*dsumx_intu_Fn(n_y=0, a=a, k_m=k_m, N1=N1, N2 = N2)\n",
    "    for i in range(N1,N2+1):\n",
    "        S += dsumy_intu_Fn(n_x=i, a=a, k_m=k_m, N1=1, N2 = N2)\n",
    "\n",
    "    return S"
   ]
  },
  {
   "cell_type": "code",
   "execution_count": 223,
   "metadata": {},
   "outputs": [],
   "source": [
    "def dsumx_sum_intu_Fn(a, k_m, N1, N2):\n",
    "    S = 0\n",
    "    S += 0.5*dsumx_intu_Fn(n_y=0, a=a, k_m=k_m, N1=N1, N2 = N2)\n",
    "    for i in range(1,N1):\n",
    "        S += dsumx_intu_Fn(n_y=i, a=a, k_m=k_m, N1=N1, N2 = N2)\n",
    "\n",
    "    S += 0.5*dsumy_intu_Fn(n_x=0, a=a, k_m=k_m, N1=N1, N2 = N2)\n",
    "    for i in range(N1,N2+1):\n",
    "        S += dsumx_intu_Fn(n_y=i, a=a, k_m=k_m, N1=1, N2 = N2)\n",
    "\n",
    "    return S"
   ]
  },
  {
   "cell_type": "code",
   "execution_count": 224,
   "metadata": {},
   "outputs": [
    {
     "data": {
      "text/plain": [
       "0.0557644370467145"
      ]
     },
     "execution_count": 224,
     "metadata": {},
     "output_type": "execute_result"
    }
   ],
   "source": [
    "sumy_sumx_intu_Fn(a = 1, k_m = 1, N = 5)"
   ]
  },
  {
   "cell_type": "code",
   "execution_count": 225,
   "metadata": {},
   "outputs": [
    {
     "data": {
      "text/plain": [
       "0.0557644370467145"
      ]
     },
     "execution_count": 225,
     "metadata": {},
     "output_type": "execute_result"
    }
   ],
   "source": [
    "sumy_sumx_intu_Fn(a = 1, k_m = 1, N = 2) + dsumy_sum_intu_Fn(a = 1, k_m = 1, N1 = 2+1, N2=5)"
   ]
  },
  {
   "cell_type": "code",
   "execution_count": 226,
   "metadata": {},
   "outputs": [
    {
     "data": {
      "text/plain": [
       "0.0557644370467145"
      ]
     },
     "execution_count": 226,
     "metadata": {},
     "output_type": "execute_result"
    }
   ],
   "source": [
    "sumy_sumx_intu_Fn(a = 1, k_m = 1, N = 2) + dsumx_sum_intu_Fn(a = 1, k_m = 1, N1 = 2+1, N2=5)"
   ]
  },
  {
   "cell_type": "code",
   "execution_count": 227,
   "metadata": {},
   "outputs": [],
   "source": [
    "def plot_sum_minus_int(km, N_list, sumsum_0 = 0):\n",
    "    if 1 == km:\n",
    "        # sagemath 9.2 on Windows 7 result (using num_int as integrator):\n",
    "        # km = 1 inty_intx_intu_Fn = 0.15423588786395817\n",
    "        iii = (0.15423588786395817, 0)\n",
    "    else:\n",
    "        iii = inty_intx_intu_Fn (a=1, k_m=km)\n",
    "    print(\"km=\", km, \"inty_intx_intu_Fn = \", iii)\n",
    "    \n",
    "    plot_data_dsum_sum_intu_Fn = []\n",
    "    plot_data_dsum_per_dN = []\n",
    "    plot_data_sum_sum_intu_Fn = []\n",
    "    plot_data_sum_sum_intu_Fn_iii = []\n",
    "    \n",
    "    i_point = 0\n",
    "\n",
    "    for N in N_list:\n",
    "        if 0 == i_point:\n",
    "            if 0 == sumsum_0:\n",
    "                sumsum = sumy_sumx_intu_Fn (a = 1, k_m = km, N = N)\n",
    "            else:\n",
    "                sumsum = sumsum_0\n",
    "            dsum = sumsum\n",
    "            dN = N\n",
    "        else:\n",
    "            dsum = dsumy_sum_intu_Fn (a = 1, k_m = km, N1 = N_stored+1, N2 = N)\n",
    "            sumsum += dsum\n",
    "            dN = N - N_stored\n",
    "            \n",
    "        print (N, \"dsum=\", dsum, \"dsum/dN\", dsum/dN, \"sum=\", sumsum, \"sum-iii=\", sumsum-iii[0])\n",
    "        plot_data_dsum_sum_intu_Fn += [(N, dsum)]\n",
    "        plot_data_dsum_per_dN += [(N, dsum/dN)]\n",
    "        plot_data_sum_sum_intu_Fn += [(N, sumsum)]\n",
    "        plot_data_sum_sum_intu_Fn_iii += [(N, sumsum-iii[0])]\n",
    "        \n",
    "        N_stored = N\n",
    "        i_point += 1\n",
    "\n",
    "    list_plot(plot_data_dsum_sum_intu_Fn).show(title=\"dsum_sum_intu_Fn\")\n",
    "    #list_plot(plot_data_dsum_per_dN).show(title=\"dsum_per_dN\")\n",
    "    list_plot(plot_data_sum_sum_intu_Fn).show(title=\"sum_sum_intu_Fn\")\n",
    "    list_plot(plot_data_sum_sum_intu_Fn_iii).show(title=\"sum_sum_intu_Fn-inty_intx_intu_Fn\")\n",
    "    \n",
    "    return plot_data_sum_sum_intu_Fn_iii"
   ]
  },
  {
   "cell_type": "raw",
   "metadata": {},
   "source": [
    "data1 = plot_sum_minus_int(km=1, N_list=range(0,1000))"
   ]
  },
  {
   "cell_type": "raw",
   "metadata": {},
   "source": [
    "data2 = plot_sum_minus_int(km=1, N_list=range(999,2001), sumsum_0 = 0.143440735414735)\n",
    "# 999 dsum= 0.0000162622875582972 dsum/dN 0.0000162622875582972 sum= 0.143440735414735 sum-iii= -0.0107951524492234"
   ]
  },
  {
   "cell_type": "raw",
   "metadata": {},
   "source": [
    "data3 = plot_sum_minus_int(km=1, N_list=range(1859,3001), sumsum_0 = 0.151606012797086)\n",
    "# 1859 dsum= 5.47453880093039e-6 dsum/dN 5.47453880093039e-6 sum= 0.151606012797086 sum-iii= -0.00262987506687248"
   ]
  },
  {
   "cell_type": "raw",
   "metadata": {},
   "source": [
    "data4 = plot_sum_minus_int(km=1, N_list=range(2698,5001), sumsum_0 = 0.154829813494710)\n",
    "# 2698 dsum= 2.69355043336757e-6 dsum/dN 2.69355043336757e-6 sum= 0.154829813494710 sum-iii= 0.000593925630751363"
   ]
  },
  {
   "cell_type": "raw",
   "metadata": {},
   "source": [
    "plot_sum_minus_int(km=1, \n",
    "                   N_list=(4100, 4150, 4200, 4250, 4300, 4350, 4400, 4450, 4500, 4550, 4600, 4650, 4700, 4750, 4800, 4850, 4900, 4950, 5000),\n",
    "                   sumsum_0 = 0.157339086256704)\n",
    "# 1800 -0.00296255355639888\n",
    "# 2600  0.000320450205087364\n",
    "# 3200  0.00173917997571374\n",
    "# 3700  0.00257740417696789\n",
    "# 4100 dsum= 0.000121743385850995 dsum/dN 1.21743385850995e-6 sum= 0.157339086256704 sum-iii= 0.00310319839274553"
   ]
  },
  {
   "cell_type": "code",
   "execution_count": 228,
   "metadata": {},
   "outputs": [],
   "source": [
    "#km= 1 inty_intx_intu_Fn =  (0.1542358878639582, 0)\n",
    "str1 = \"\"\"\n",
    "0 dsum= 0.0198943678864859 dsum/dN +infinity sum= 0.0198943678864859 sum-iii= -0.134341519977472\n",
    "1 dsum= 0.0352305566330501 dsum/dN 0.0352305566330501 sum= 0.0352305566330501 sum-iii= -0.119005331230908\n",
    "5 dsum= 0.0205338804136644 dsum/dN 0.00513347010341610 sum= 0.0557644370467145 sum-iii= -0.0984714508172436\n",
    "10 dsum= 0.0104011881525500 dsum/dN 0.00208023763050999 sum= 0.0661656251992645 sum-iii= -0.0880702626646937\n",
    "20 dsum= 0.0107815429480582 dsum/dN 0.00107815429480582 sum= 0.0769471681473227 sum-iii= -0.0772887197166355\n",
    "30 dsum= 0.00640533503238599 dsum/dN 0.000640533503238599 sum= 0.0833525031797086 sum-iii= -0.0708833846842495\n",
    "40 dsum= 0.00457232481780638 dsum/dN 0.000457232481780638 sum= 0.0879248279975150 sum-iii= -0.0663110598664431\n",
    "50 dsum= 0.00355823432941396 dsum/dN 0.000355823432941396 sum= 0.0914830623269290 sum-iii= -0.0627528255370292\n",
    "\"\"\"\n",
    "\"\"\"\n",
    "60 dsum= 0.00291324567109136 dsum/dN 0.000291324567109136 sum= 0.0943963079980203 sum-iii= -0.0598395798659378\n",
    "70 dsum= 0.00246607902755200 dsum/dN 0.000246607902755200 sum= 0.0968623870255723 sum-iii= -0.0573735008383858\n",
    "80 dsum= 0.00213755399769267 dsum/dN 0.000213755399769267 sum= 0.0989999410232650 sum-iii= -0.0552359468406931\n",
    "90 dsum= 0.00188588682799802 dsum/dN 0.000188588682799802 sum= 0.100885827851263 sum-iii= -0.0533500600126951\n",
    "\"\"\"\n",
    "str1 += \"\"\"\n",
    "100 dsum= 0.00168218102905312 dsum/dN 0.000168218102905312 sum= 0.102568008880316 sum-iii= -0.0516678789836420\n",
    "\"\"\"\n",
    "\"\"\"\n",
    "110 dsum= 0.00151579857856997 dsum/dN 0.000151579857856997 sum= 0.104083807458886 sum-iii= -0.0501520804050720\n",
    "120 dsum= 0.00137420314877361 dsum/dN 0.000137420314877361 sum= 0.105458010607660 sum-iii= -0.0487778772562984\n",
    "130 dsum= 0.00124870468734300 dsum/dN 0.000124870468734300 sum= 0.106706715295003 sum-iii= -0.0475291725689554\n",
    "140 dsum= 0.00115420307976286 dsum/dN 0.000115420307976286 sum= 0.107860918374766 sum-iii= -0.0463749694891926\n",
    "150 dsum= 0.00107592899833926 dsum/dN 0.000107592899833926 sum= 0.108936847373105 sum-iii= -0.0452990404908533\n",
    "\"\"\"\n",
    "str1 += \"\"\"\n",
    "200 dsum= 0.00456227662966188 dsum/dN 0.0000912455325932376 sum= 0.113499124002767 sum-iii= -0.0407367638611914\n",
    "300 dsum= 0.00696745140300445 dsum/dN 0.0000696745140300445 sum= 0.120466575405771 sum-iii= -0.0337693124581870\n",
    "400 dsum= 0.00548862501748618 dsum/dN 0.0000548862501748618 sum= 0.125955200423257 sum-iii= -0.0282806874407008\n",
    "500 dsum= 0.00447437280661616 dsum/dN 0.0000447437280661616 sum= 0.130429573229874 sum-iii= -0.0238063146340846\n",
    "\"\"\"\n",
    "\n",
    "\"\"\"\n",
    "600 dsum= 0.00366495364599495 dsum/dN 0.0000366495364599495 sum= 0.134094526875869 sum-iii= -0.0201413609880897\n",
    "700 dsum= 0.00301484382418922 dsum/dN 0.0000301484382418922 sum= 0.137109370700058 sum-iii= -0.0171265171639005\n",
    "800 dsum= 0.00249769518000750 dsum/dN 0.0000249769518000750 sum= 0.139607065880065 sum-iii= -0.0146288219838930\n",
    "900 dsum= 0.00208781147706876 dsum/dN 0.0000208781147706876 sum= 0.141694877357134 sum-iii= -0.0125410105068242\n",
    "\"\"\"\n",
    "\n",
    "str1 += \"\"\"\n",
    "1000 dsum= 0.00176209435879926 dsum/dN 0.0000176209435879926 sum= 0.143456971715933 sum-iii= -0.0107789161480249\n",
    "\"\"\"\n",
    "\n",
    "\"\"\"\n",
    "1100 dsum= 0.00150157172140458 dsum/dN 0.0000150157172140458 sum= 0.144958543437338 sum-iii= -0.00927734442662034\n",
    "1200 dsum= 0.00129141221826351 dsum/dN 0.0000129141221826351 sum= 0.146249955655601 sum-iii= -0.00798593220835683\n",
    "1300 dsum= 0.00112028756255747 dsum/dN 0.0000112028756255747 sum= 0.147370243218159 sum-iii= -0.00686564464579936\n",
    "1400 dsum= 0.000979617855017924 dsum/dN 9.79617855017924e-6 sum= 0.148349861073177 sum-iii= -0.00588602679078143\n",
    "\"\"\"\n",
    "\n",
    "str1 += \"\"\"\n",
    "1500 dsum= 0.000862906224947237 dsum/dN 8.62906224947237e-6 sum= 0.149212767298124 sum-iii= -0.00502312056583420\n",
    "\"\"\"\n",
    "\n",
    "\"\"\"\n",
    "1600 dsum= 0.000765211747012566 dsum/dN 7.65211747012565e-6 sum= 0.149977979045137 sum-iii= -0.00425790881882163\n",
    "1700 dsum= 0.000682751149806610 dsum/dN 6.82751149806610e-6 sum= 0.150660730194943 sum-iii= -0.00357515766901501\n",
    "1800 dsum= 0.000612604112616117 dsum/dN 6.12604112616117e-6 sum= 0.151273334307559 sum-iii= -0.00296255355639888\n",
    "1900 dsum= 0.000552496910736090 dsum/dN 5.52496910736090e-6 sum= 0.151825831218295 sum-iii= -0.00241005664566310\n",
    "\"\"\"\n",
    "\n",
    "str1 += \"\"\"\n",
    "2000 dsum= 0.000500643683209297 dsum/dN 5.00643683209297e-6 sum= 0.152326474901504 sum-iii= -0.00190941296245381\n",
    "\"\"\"\n",
    "\n",
    "\"\"\"\n",
    "2100 dsum= 0.000455629578886566 dsum/dN 4.55629578886566e-6 sum= 0.152782104480391 sum-iii= -0.00145378338356725\n",
    "2200 dsum= 0.000416324238790998 dsum/dN 4.16324238790998e-6 sum= 0.153198428719182 sum-iii= -0.00103745914477624\n",
    "2300 dsum= 0.000381817288792229 dsum/dN 3.81817288792229e-6 sum= 0.153580246007974 sum-iii= -0.000655641855984018\n",
    "2400 dsum= 0.000351369872403857 dsum/dN 3.51369872403857e-6 sum= 0.153931615880378 sum-iii= -0.000304271983580157\n",
    "\"\"\"\n",
    "\n",
    "str1 += \"\"\"\n",
    "2500 dsum= 0.000324377943951202 dsum/dN 3.24377943951202e-6 sum= 0.154255993824329 sum-iii= 0.0000201059603710529\n",
    "\"\"\"\n",
    "\n",
    "\"\"\"\"\n",
    "2600 dsum= 0.000300344244716323 dsum/dN 3.00344244716323e-6 sum= 0.154556338069046 sum-iii= 0.000320450205087364\n",
    "2700 dsum= 0.000278856737998353 dsum/dN 2.78856737998353e-6 sum= 0.154835194807044 sum-iii= 0.000599306943086186\n",
    "2800 dsum= 0.000259571885673236 dsum/dN 2.59571885673236e-6 sum= 0.155094766692718 sum-iii= 0.000858878828759430\n",
    "2900 dsum= 0.000242201581855405 dsum/dN 2.42201581855405e-6 sum= 0.155336968274573 sum-iii= 0.00110108041061482\n",
    "\"\"\"\n",
    "\n",
    "str1 += \"\"\"\n",
    "3000 dsum= 0.000226502870041521 dsum/dN 2.26502870041521e-6 sum= 0.155563471144615 sum-iii= 0.00132758328065635\n",
    "\"\"\"\n",
    "\n",
    "\"\"\"\n",
    "3100 dsum= 0.000212269794574291 dsum/dN 2.12269794574291e-6 sum= 0.155775740939189 sum-iii= 0.00153985307523063\n",
    "3200 dsum= 0.000199326900483113 dsum/dN 1.99326900483113e-6 sum= 0.155975067839672 sum-iii= 0.00173917997571374\n",
    "3300 dsum= 0.000187524015283643 dsum/dN 1.87524015283643e-6 sum= 0.156162591854956 sum-iii= 0.00192670399099745\n",
    "3400 dsum= 0.000176732034471598 dsum/dN 1.76732034471598e-6 sum= 0.156339323889427 sum-iii= 0.00210343602546906\n",
    "\"\"\"\n",
    "\n",
    "str1 += \"\"\"\n",
    "3500 dsum= 0.000166839497923727 dsum/dN 1.66839497923727e-6 sum= 0.156506163387351 sum-iii= 0.00227027552339279\n",
    "\"\"\"\n",
    "\n",
    "\"\"\"\n",
    "3600 dsum= 0.000157749793394469 dsum/dN 1.57749793394468e-6 sum= 0.156663913180745 sum-iii= 0.00242802531678726\n",
    "3700 dsum= 0.000149378860180625 dsum/dN 1.49378860180625e-6 sum= 0.156813292040926 sum-iii= 0.00257740417696789\n",
    "3800 dsum= 0.000141653293989460 dsum/dN 1.41653293989460e-6 sum= 0.156954945334915 sum-iii= 0.00271905747095730\n",
    "3900 dsum= 0.000134508775382901 dsum/dN 1.34508775382901e-6 sum= 0.157089454110298 sum-iii= 0.00285356624634020\n",
    "\"\"\"\n",
    "str1 += \"\"\"\n",
    "4000 dsum= 0.000127888760554336 dsum/dN 1.27888760554336e-6 sum= 0.157217342870853 sum-iii= 0.00298145500689453\n",
    "\"\"\"\n",
    "\n",
    "\"\"\"\n",
    "4100 dsum= 0.000121743385850995 dsum/dN 1.21743385850995e-6 sum= 0.157339086256704 sum-iii= 0.00310319839274553\n",
    "4150 dsum= 0.0000587033017550138 dsum/dN 1.17406603510028e-6 sum= 0.157397789558459 sum-iii= 0.00316190169450084\n",
    "4200 dsum= 0.0000573252455343998 dsum/dN 1.14650491068800e-6 sum= 0.157455114803993 sum-iii= 0.00321922694003524\n",
    "4250 dsum= 0.0000559949323027917 dsum/dN 1.11989864605583e-6 sum= 0.157511109736296 sum-iii= 0.00327522187233803\n",
    "4300 dsum= 0.0000547101916934751 dsum/dN 1.09420383386950e-6 sum= 0.157565819927990 sum-iii= 0.00332993206403151\n",
    "\"\"\"\n",
    "\n",
    "str1 += \"\"\"\n",
    "4350 dsum= 0.0000534689747315329 dsum/dN 1.06937949463066e-6 sum= 0.157619288902721 sum-iii= 0.00338340103876306\n",
    "\"\"\""
   ]
  },
  {
   "cell_type": "code",
   "execution_count": 229,
   "metadata": {},
   "outputs": [
    {
     "data": {
      "text/latex": [
       "$\\displaystyle \\begin{array} \\,N & \\sum\\limits_{n_x=\\left(0\\right)\\,1}^{\\infty}\\sum\\limits_{n_y=\\left(0\\right)\\,1}^{\\infty}G-\\int\\limits_{0}^{\\infty}\\int\\limits_{0}^{\\infty}G \\\\ 0 & -0.134341519977472 \\\\ 1 & -0.119005331230908 \\\\ 5 & -0.0984714508172436 \\\\ 10 & -0.0880702626646937 \\\\ 20 & -0.0772887197166355 \\\\ 30 & -0.0708833846842495 \\\\ 40 & -0.0663110598664431 \\\\ 50 & -0.0627528255370292 \\\\ 100 & -0.0516678789836420 \\\\ 200 & -0.0407367638611914 \\\\ 300 & -0.0337693124581870 \\\\ 400 & -0.0282806874407008 \\\\ 500 & -0.0238063146340846 \\\\ 1000 & -0.0107789161480249 \\\\ 1500 & -0.00502312056583420 \\\\ 2000 & -0.00190941296245381 \\\\ 2500 & 0.0000201059603710529 \\\\ 3000 & 0.00132758328065635 \\\\ 3500 & 0.00227027552339279 \\\\ 4000 & 0.00298145500689453 \\\\ 4350 & 0.00338340103876306 \\\\\\end{array}$"
      ],
      "text/plain": [
       "<IPython.core.display.Math object>"
      ]
     },
     "metadata": {},
     "output_type": "display_data"
    }
   ],
   "source": [
    "display(Math(latex_arr_str(str1, \\\n",
    "                           titles = [\"\\\\,N\", \"\\\\sum\\\\limits_{n_x=\\\\left(0\\\\right)\\\\,1}^{\\\\infty}\\\\sum\\\\limits_{n_y=\\\\left(0\\\\right)\\\\,1}^{\\\\infty}G-\\\\int\\\\limits_{0}^{\\\\infty}\\\\int\\\\limits_{0}^{\\\\infty}G\"], \n",
    "                          indexes = [0,8])))"
   ]
  },
  {
   "cell_type": "code",
   "execution_count": 230,
   "metadata": {},
   "outputs": [],
   "source": [
    "lst = str1.split(\"\\n\")"
   ]
  },
  {
   "cell_type": "code",
   "execution_count": 231,
   "metadata": {},
   "outputs": [],
   "source": [
    "data_sum_sum_intu_Fn_inty_intx_intu_Fn = []\n",
    "for row in lst:\n",
    "    if len(row) > 0:\n",
    "        sub_row = row.split(\" dsum= \")\n",
    "        sub_row2 = sub_row[1].split(\" sum-iii= \")\n",
    "        # print(sub_row[0], sub_row2[1])\n",
    "        N = int(sub_row[0])\n",
    "        sum_minus_iii = float(sub_row2[1])\n",
    "        data_sum_sum_intu_Fn_inty_intx_intu_Fn += [(N, sum_minus_iii)]"
   ]
  },
  {
   "cell_type": "code",
   "execution_count": 232,
   "metadata": {
    "scrolled": true
   },
   "outputs": [
    {
     "data": {
      "image/png": "[encoded data removed]",
      "text/plain": [
       "Graphics object consisting of 1 graphics primitive"
      ]
     },
     "metadata": {},
     "output_type": "display_data"
    }
   ],
   "source": [
    "list_plot(data_sum_sum_intu_Fn_inty_intx_intu_Fn).show(title=\"sum_sum_intu_Fn-inty_intx_intu_Fn\")"
   ]
  },
  {
   "cell_type": "markdown",
   "metadata": {},
   "source": [
    "Here while make summation of non negative terms we receive very similar positive result. So result energy_density_difference calculation via Euler–Maclaurin 2D is not zero!"
   ]
  },
  {
   "cell_type": "markdown",
   "metadata": {},
   "source": [
    "# Let's investigate how result energy_density_difference depends on $a k_m$"
   ]
  },
  {
   "cell_type": "markdown",
   "metadata": {},
   "source": [
    "Casimir in his original work has provided his formula in assumption when as $a\\,k_m\\,»\\,1$. "
   ]
  },
  {
   "cell_type": "markdown",
   "metadata": {},
   "source": [
    "as long as $a\\,k_m\\,»\\,1$:"
   ]
  },
  {
   "cell_type": "raw",
   "metadata": {},
   "source": [
    "energy_density_difference_akm2, energy_density_difference_akm2_plot_energy_density_difference_data, energy_density_difference_akm2_plot_add_data = calc_result_energy_density_difference(N=30, akm=2)"
   ]
  },
  {
   "cell_type": "code",
   "execution_count": 233,
   "metadata": {},
   "outputs": [],
   "source": [
    "str_energy_density_difference_akm2 = \"\"\"\n",
    "0 -0.05996028222416172 -0.05996028222416172\n",
    "1 0.024539222150671832 -0.035421060073489885\n",
    "2 0.005639411614792769 -0.029781648458697116\n",
    "3 0.0020392976904987357 -0.02774235076819838\n",
    "4 0.0009541507416831796 -0.026788200026515198\n",
    "5 0.0005208708022612559 -0.02626732922425394\n",
    "6 0.0003149145406791334 -0.025952414683574808\n",
    "7 0.00020472576398981193 -0.025747688919584996\n",
    "8 0.00014050937425319937 -0.025607179545331798\n",
    "9 0.00010057985834294597 -0.025506599686988853\n",
    "10 7.445739423254275e-05 -0.02543214229275631\n",
    "11 5.6653455453183104e-05 -0.025375488837303128\n",
    "12 4.4103328984881344e-05 -0.025331385508318247\n",
    "13 3.500307096797009e-05 -0.025296382437350277\n",
    "14 2.824426976725542e-05 -0.025268138167583023\n",
    "15 2.3119612369213385e-05 -0.02524501855521381\n",
    "16 1.9163563566507357e-05 -0.0252258549916473\n",
    "17 1.6061098717150794e-05 -0.02520979389293015\n",
    "18 1.359386328060319e-05 -0.02519620002964955\n",
    "19 1.1607080214578524e-05 -0.02518459294943497\n",
    "20 9.989436530283013e-06 -0.025174603512904688\n",
    "21 8.658950511749063e-06 -0.02516594456239294\n",
    "22 7.55460981015221e-06 -0.025158389952582787\n",
    "23 6.63032979957735e-06 -0.02515175962278321\n",
    "24 5.851370933742723e-06 -0.025145908251849466\n",
    "25 5.188850624530136e-06 -0.025140719401224938\n",
    "26 4.6232051557052585e-06 -0.025136096196069234\n",
    "27 4.136684885215379e-06 -0.025131959511184018\n",
    "28 3.7161369322954248e-06 -0.02512824337425172\n",
    "29 3.3505848335170074e-06 -0.025124892789418204\n",
    "30 3.0317873816871993e-06 -0.025121861002036516\n",
    "\"\"\""
   ]
  },
  {
   "cell_type": "raw",
   "metadata": {},
   "source": [
    "list_plot(energy_density_difference_akm2_plot_energy_density_difference_data).show(title=\"energy_density_difference_akm2_plot_energy_density_difference_data\")"
   ]
  },
  {
   "cell_type": "code",
   "execution_count": 234,
   "metadata": {},
   "outputs": [
    {
     "data": {
      "image/png": "[encoded data removed]",
      "text/plain": [
       "Graphics object consisting of 1 graphics primitive"
      ]
     },
     "metadata": {},
     "output_type": "display_data"
    },
    {
     "data": {
      "image/png": "[encoded data removed]",
      "text/plain": [
       "Graphics object consisting of 1 graphics primitive"
      ]
     },
     "metadata": {},
     "output_type": "display_data"
    }
   ],
   "source": [
    "list_plot_str(str_energy_density_difference_akm2, \"add energy_density_difference $a k_m = 2$\", \"energy_density_difference $a k_m = 2$\")"
   ]
  },
  {
   "cell_type": "raw",
   "metadata": {},
   "source": [
    "energy_density_difference_akm3, energy_density_difference_akm3_plot_energy_density_difference_data, energy_density_difference_akm3_plot_add_data = calc_result_energy_density_difference(N=30, akm=3)"
   ]
  },
  {
   "cell_type": "code",
   "execution_count": 235,
   "metadata": {},
   "outputs": [],
   "source": [
    "str_energy_density_difference_akm3=\"\"\"\n",
    "0 -0.14848189482012514 -0.14848189482012514\n",
    "1 0.06934784962127681 -0.07913404519884833\n",
    "2 0.026862890168592227 -0.0522711550302561\n",
    "3 0.010174261460488802 -0.0420968935697673\n",
    "4 0.004805527749031329 -0.03729136582073597\n",
    "5 0.002630928726441265 -0.034660437094294706\n",
    "6 0.0015924160358821962 -0.03306802105841251\n",
    "7 0.0010357514820083806 -0.03203226957640413\n",
    "8 0.0007110478586196078 -0.03132122171778452\n",
    "9 0.0005090546947920826 -0.03081216702299244\n",
    "10 0.0003768734500366555 -0.030435293572955782\n",
    "11 0.00028677052415295405 -0.03014852304880283\n",
    "12 0.00022324927632751766 -0.02992527377247531\n",
    "13 0.000177186957657927 -0.029748086814817384\n",
    "14 0.00014297410942937182 -0.02960511270538801\n",
    "15 0.00011703194223279611 -0.029488080763155216\n",
    "16 9.700544092999369e-05 -0.02939107532222522\n",
    "17 8.129944080568106e-05 -0.02930977588141954\n",
    "18 6.881106918486147e-05 -0.02924096481223468\n",
    "19 5.875565027424786e-05 -0.029182209161960432\n",
    "20 5.0565919963952715e-05 -0.02913164324199648\n",
    "21 4.383085608520854e-05 -0.029087812385911273\n",
    "22 3.823976676564969e-05 -0.029049572619145623\n",
    "23 3.356101082496821e-05 -0.029016011608320656\n",
    "24 2.961508478431949e-05 -0.028986396523536337\n",
    "25 2.6263908600335753e-05 -0.028960132614936\n",
    "\"\"\""
   ]
  },
  {
   "cell_type": "markdown",
   "metadata": {},
   "source": [
    "list_plot(energy_density_difference_akm3_plot_energy_density_difference_data).show(title=\"energy_density_difference_akm3_plot_energy_density_difference_data\")"
   ]
  },
  {
   "cell_type": "code",
   "execution_count": 236,
   "metadata": {},
   "outputs": [
    {
     "data": {
      "image/png": "[encoded data removed]",
      "text/plain": [
       "Graphics object consisting of 1 graphics primitive"
      ]
     },
     "metadata": {},
     "output_type": "display_data"
    },
    {
     "data": {
      "image/png": "[encoded data removed]",
      "text/plain": [
       "Graphics object consisting of 1 graphics primitive"
      ]
     },
     "metadata": {},
     "output_type": "display_data"
    }
   ],
   "source": [
    "list_plot_str(str_energy_density_difference_akm3, \"add energy_density_difference $a k_m = 3$\", \"energy_density_difference $a k_m = 3$\")"
   ]
  },
  {
   "cell_type": "code",
   "execution_count": null,
   "metadata": {},
   "outputs": [],
   "source": []
  },
  {
   "cell_type": "code",
   "execution_count": 237,
   "metadata": {},
   "outputs": [],
   "source": [
    "def calc_energy_density_difference(akm, jx_0 = 0, f_0 = 0):\n",
    "    result_energy_density_difference = f_0\n",
    "    epsilon = 1e-6\n",
    "    jx = jx_0\n",
    "    while(True):\n",
    "        add = calc_result_energy_density_difference_add(jx, akm)\n",
    "        result_energy_density_difference += add\n",
    "\n",
    "        if jx == 20:\n",
    "            epsilon = 1e-5\n",
    "        if jx == 25:\n",
    "            epsilon = 1e-4\n",
    "\n",
    "        print (\"jx=\", jx, add, result_energy_density_difference)\n",
    "\n",
    "        if abs(add) < epsilon:\n",
    "            break\n",
    "\n",
    "        if jx > 100:\n",
    "            break\n",
    "\n",
    "        jx += 1\n",
    "    return result_energy_density_difference, add, jx"
   ]
  },
  {
   "cell_type": "code",
   "execution_count": 238,
   "metadata": {},
   "outputs": [],
   "source": [
    "def calc_limit_energy_density_difference(jx_0 = 0, f_0 = 0):\n",
    "    result_energy_density_difference = f_0\n",
    "    epsilon = 1e-6\n",
    "    jx = jx_0\n",
    "    while(True):\n",
    "        add = calc_limit_energy_density_difference_add(jx)\n",
    "        result_energy_density_difference += add\n",
    "\n",
    "        if jx == 20:\n",
    "            epsilon = 1e-5\n",
    "        if jx == 25:\n",
    "            epsilon = 1e-4\n",
    "\n",
    "        print (\"jx=\", jx, add, result_energy_density_difference)\n",
    "\n",
    "        if abs(add) < epsilon:\n",
    "            break\n",
    "\n",
    "        if jx > 50:\n",
    "            break\n",
    "\n",
    "        jx += 1\n",
    "    return result_energy_density_difference, add, jx"
   ]
  },
  {
   "cell_type": "raw",
   "metadata": {},
   "source": [
    "energy_density_difference, add = calc_limit_energy_density_difference()\n",
    "print (\"akm=Infinity\", energy_density_difference, add)\n",
    "\n",
    "jx= 0 -6.391259264790445 -6.391259264790445\n",
    "jx= 1 101609.88469825489 101603.49343899009\n",
    "jx= 2 101609.36119093825 203212.85462992833\n",
    "jx= 3 101608.83764330632 304821.69227323466\n",
    "jx= 4 -8.478090617644165 304813.214182617\n",
    "jx= 5 -9.00169056437429 304804.21249205264\n",
    "jx= 6 101607.26714578757 406411.4796378402\n",
    "jx= 7 -10.048889062068701 406401.4307487781\n",
    "jx= 8 96092.0387880738 502493.4695368519\n",
    "jx= 9 96091.51539884272 598584.9849356946\n",
    "jx= 10 96090.9920329436 694675.9769686382\n",
    "jx= 11 145601.5347862636 840277.5117549018\n",
    "jx= 12 -12.779311583632325 840264.7324433182\n",
    "jx= 13 -13.30202667105243 840251.4304166472\n",
    "jx= 14 -13.825408974172587 840237.605007673\n",
    "jx= 15 -14.350020390187556 840223.2549872828\n",
    "jx= 16 96087.85232701067 936311.1073142935\n",
    "jx= 17 -15.284999080401215 936295.8223152132\n",
    "jx= 18 -15.808508146457305 936280.0138070667\n",
    "jx= 19 -16.33190764051395 936263.6818994262\n",
    "jx= 20 -16.8551744321196 936246.826724994\n",
    "jx= 21 -17.378301064098764 936229.4484239299\n",
    "jx= 22 -17.901300341768223 936211.547123588\n",
    "jx= 23 -18.424207714104373 936193.1229158739\n",
    "jx= 24 -18.947081404044216 936174.1758344698\n",
    "jx= 25 -19.470000507546498 936154.7058339623\n",
    "jx= 26 -19.993061462982993 936134.7127724993\n",
    "jx= 27 -20.516373335929732 936114.1963991633\n",
    "jx= 28 -21.04005238124201 936093.1563467821\n",
    "jx= 29 -21.564216294100174 936071.592130488\n",
    "jx= 30 -22.088978505392813 936049.5031519827\n",
    "jx= 31 -22.614442796320734 936026.8887091863\n",
    "jx= 32 -23.222191923047784 936003.6665172633\n",
    "jx= 33 -23.696881061514222 935979.9696362017\n",
    "jx= 34 -24.19584403108547 935955.7737921707\n",
    "jx= 35 -24.72480618650933 935931.0489859842\n",
    "jx= 36 -25.254699668256034 935905.7942863159\n",
    "jx= 37 -25.785494035287623 935880.0087922806\n",
    "jx= 38 -26.317130913915257 935853.6916613666\n",
    "jx= 39 -26.84952428904177 935826.8421370776\n",
    "jx= 40 -27.38256150222996 935799.4595755753\n",
    "jx= 41 -27.916104589103853 935771.5434709862\n",
    "jx= 42 -28.44999216601436 935743.0934788202\n",
    "jx= 43 -28.984041598997067 935714.1094372212\n",
    "jx= 44 -29.518051443324506 935684.5913857779\n",
    "jx= 45 -30.051804070384158 935654.5395817076\n",
    "jx= 46 -30.585068408655705 935623.9545132989\n",
    "jx= 47 -31.117602736442137 935592.8369105625\n",
    "jx= 48 -31.64915748137476 935561.1877530811\n",
    "jx= 49 -32.17947796522338 935529.0082751159\n",
    "jx= 50 -32.70830706716932 935496.2999680487\n",
    "jx= 51 -33.23538776851644 935463.0645802802\n",
    "akm=Infinity 935463.0645802802 -33.23538776851644"
   ]
  },
  {
   "cell_type": "raw",
   "metadata": {},
   "source": [
    "v_energy_density_difference = []\n",
    "\n",
    "import numpy as np\n",
    "for akm in np.arange(0.25, 10, 0.25):\n",
    "    energy_density_difference, add = calc_energy_density_difference(akm=akm)\n",
    "    print (\"akm=\", akm, energy_density_difference, add)\n",
    "    v_energy_density_difference += [(akm, energy_density_difference)]\n",
    "    \n",
    "    \n",
    "jx= 1 0.001080902553579505 0.001080902553579505\n",
    "jx= 2 7.099785456379644e-06 0.0010880023390358847\n",
    "jx= 3 1.3977939348750638e-06 0.0010894001329707598\n",
    "akm= 0.25 0.0010898998026781217 4.996697073620143e-07\n",
    "jx= 1 0.0030720963877399897 0.0030720963877399897\n",
    "jx= 2 0.00011352247600714233 0.003185618863747132\n",
    "jx= 3 2.2363461740466336e-05 0.003207982325487598\n",
    "jx= 4 7.994609158041522e-06 0.0032159769346456397\n",
    "jx= 5 3.7318590490695797e-06 0.0032197087936947093\n",
    "jx= 6 2.0357844393102504e-06 0.0032217445781340197\n",
    "jx= 7 1.230487865819301e-06 0.003222975065999839\n",
    "akm= 0.5 0.0032237749029524953 7.998369526561223e-07\n",
    "jx= 1 0.0036294672770583424 0.0036294672770583424\n",
    "jx= 2 0.0005730871716259157 0.004202554448684258\n",
    "jx= 3 0.0001131877936593608 0.004315742242343619\n",
    "jx= 4 4.0470469042081525e-05 0.0043562127113857\n",
    "jx= 5 1.8892156225941676e-05 0.004375104867611642\n",
    "jx= 6 1.0306067727799557e-05 0.0043854109353394415\n",
    "jx= 7 6.229308343914969e-06 0.004391640243683356\n",
    "jx= 8 4.04916640639693e-06 0.004395689410089753\n",
    "jx= 9 2.7788933774320315e-06 0.004398468303467185\n",
    "jx= 10 1.9891295891002445e-06 0.004400457433056285\n",
    "jx= 11 1.4724855976568366e-06 0.004401929918653942\n",
    "jx= 12 1.1204921148472312e-06 0.004403050410768789\n",
    "akm= 0.75 0.004403922584267899 8.721734991096397e-07\n",
    "jx= 1 0.0006061883111035354 0.0006061883111035354\n",
    "jx= 2 0.0017975635908745761 0.0024037519019781115\n",
    "jx= 3 0.00035749773184259783 0.0027612496338207094\n",
    "jx= 4 0.00012788697859491643 0.0028891366124156256\n",
    "jx= 5 5.9705484001188586e-05 0.0029488420964168143\n",
    "jx= 6 3.257148744888141e-05 0.002981413583865696\n",
    "jx= 7 1.968745192542542e-05 0.0030011010357911213\n",
    "jx= 8 1.2797274646692704e-05 0.003013898310437814\n",
    "jx= 9 8.782630461354662e-06 0.0030226809408991687\n",
    "jx= 10 6.286568945150221e-06 0.003028967509844319\n",
    "jx= 11 4.653726092487851e-06 0.003033621235936807\n",
    "jx= 12 3.5410584083251118e-06 0.003037162294345132\n",
    "jx= 13 2.75679543325626e-06 0.003039919089778388\n",
    "jx= 14 2.1876911407025913e-06 0.003042106780919091\n",
    "jx= 15 1.7653796431461397e-06 0.003043872160562237\n",
    "jx= 16 1.4449179129158848e-06 0.003045317078475153\n",
    "jx= 17 1.1976496673269677e-06 0.00304651472814248\n",
    "jx= 18 1.0037556551007683e-06 0.003047518483797581\n",
    "akm= 1.0 0.003048368039753142 8.495559555607291e-07\n"
   ]
  },
  {
   "cell_type": "code",
   "execution_count": 239,
   "metadata": {},
   "outputs": [],
   "source": [
    "str_energy_density_difference_depending_on_akm = \"\"\"\n",
    "0.25 0.0010898998026781217 4.996697073620143e-07\n",
    "0.5 0.0032237749029524953 7.998369526561223e-07\n",
    "0.75 0.004403922584267899 8.721734991096397e-07\n",
    "1.0 0.003048368039753142 8.495559555607291e-07\n",
    "1.25 -0.0014811539004775248 1.7711588730298828e-06\n",
    "1.5 -0.008708226320289525 3.6727148564415e-06\n",
    "1.75 -0.01722786703218093 6.80405403998826e-06\n",
    "2.0 -0.025174603512904688 9.989436530283013e-06\n",
    "2.25 -0.030834142522710325 9.370330676246764e-06\n",
    "2.5 -0.03328670643720081 1.4281938944775391e-05\n",
    "2.75 -0.03243630208049284 2.091015549165456e-05\n",
    "3.0 -0.028986396523536337 2.961508478431949e-05\n",
    "3.25 -0.024047951283080123 4.0789713256873105e-05\n",
    "3.5 -0.018714969156221863 4.8655469165263e-05\n",
    "3.75 -0.013989569010672758 6.411919749415085e-05\n",
    "4.0 -0.010423767489065656 8.30044022793454e-05\n",
    "4.25 -0.008178055421486956 9.426047181031493e-05\n",
    "4.5 -0.007193884048542008 9.52314944927027e-05\n",
    "4.75 -0.007332665464974667 9.643849822254043e-05\n",
    "5 -0.008473209162937152 0.00011844032478033679\n",
    "5 -0.007323343929996339 2.3242272627768528e-05 52\n",
    "5.25 -0.01010637485582903 0.00014397879515633646\n",
    "5.5 -0.01192446632714947 0.00017341677938113108\n",
    "5.75 -0.013697176515721627 0.0002071614647900619\n",
    "6 -0.01528559035759333 0.0002456065660432048\n",
    "6.25 -0.016636604048237844 0.0002891753264144723\n",
    "6.5 -0.01776511838855004 0.0003382916236615607\n",
    "6.75 -0.018729740588144923 0.00039341124855553925\n",
    "7.0 -0.019609329497582085 0.0004550083692779921\n",
    "7 -0.015695088430745897 0.00012050949809828933 47 \n",
    "7.25 -0.02048454809560672 0.0005235670625174755\n",
    "7.5 -0.021425344750511447 0.0005995933336979223\n",
    "7.75 -0.022484996436335912 0.0006836130503522742\n",
    "8.0 -0.023699429165583825 0.00077616588130116\n",
    "8.0 -0.0150161521782361 9.032691401525282e-05 62\n",
    "8.25 -0.016737920404792408 0.00018246116258620196\n",
    "8.25 -0.01507840802437145 9.296425703841505e-05 64\n",
    "\"\"\""
   ]
  },
  {
   "cell_type": "code",
   "execution_count": 240,
   "metadata": {},
   "outputs": [
    {
     "data": {
      "text/latex": [
       "$\\displaystyle \\begin{array} \\,a \\cdot k_m & \\delta\\,\\frac{E}{V} \\\\ 0.25 & 0.0010898998026781217 \\\\ 0.5 & 0.0032237749029524953 \\\\ 0.75 & 0.004403922584267899 \\\\ 1.0 & 0.003048368039753142 \\\\ 1.25 & -0.0014811539004775248 \\\\ 1.5 & -0.008708226320289525 \\\\ 1.75 & -0.01722786703218093 \\\\ 2.0 & -0.025174603512904688 \\\\ 2.25 & -0.030834142522710325 \\\\ 2.5 & -0.03328670643720081 \\\\ 2.75 & -0.03243630208049284 \\\\ 3.0 & -0.028986396523536337 \\\\ 3.25 & -0.024047951283080123 \\\\ 3.5 & -0.018714969156221863 \\\\ 3.75 & -0.013989569010672758 \\\\ 4.0 & -0.010423767489065656 \\\\ 4.25 & -0.008178055421486956 \\\\ 4.5 & -0.007193884048542008 \\\\ 4.75 & -0.007332665464974667 \\\\ 5 & -0.008473209162937152 \\\\ 5 & -0.007323343929996339 \\\\ 5.25 & -0.01010637485582903 \\\\ 5.5 & -0.01192446632714947 \\\\ 5.75 & -0.013697176515721627 \\\\ 6 & -0.01528559035759333 \\\\ 6.25 & -0.016636604048237844 \\\\ 6.5 & -0.01776511838855004 \\\\ 6.75 & -0.018729740588144923 \\\\ 7.0 & -0.019609329497582085 \\\\ 7 & -0.015695088430745897 \\\\ 7.25 & -0.02048454809560672 \\\\ 7.5 & -0.021425344750511447 \\\\ 7.75 & -0.022484996436335912 \\\\ 8.0 & -0.023699429165583825 \\\\ 8.0 & -0.0150161521782361 \\\\ 8.25 & -0.016737920404792408 \\\\ 8.25 & -0.01507840802437145 \\\\\\end{array}$"
      ],
      "text/plain": [
       "<IPython.core.display.Math object>"
      ]
     },
     "metadata": {},
     "output_type": "display_data"
    }
   ],
   "source": [
    "display(Math(latex_arr_str(str_energy_density_difference_depending_on_akm, \\\n",
    "                           titles = [\"\\\\,a \\\\cdot k_m\", \"\\\\delta\\\\,\\\\frac{E}{V}\"], \n",
    "                          indexes = [0,1])))"
   ]
  },
  {
   "cell_type": "code",
   "execution_count": 241,
   "metadata": {},
   "outputs": [
    {
     "data": {
      "image/png": "[encoded data removed]",
      "text/plain": [
       "Graphics object consisting of 1 graphics primitive"
      ]
     },
     "metadata": {},
     "output_type": "display_data"
    }
   ],
   "source": [
    "list_plot_str(str_energy_density_difference_depending_on_akm, \"energy_density_difference depending on $a k_m$\", \"last add energy_density_difference depending on $a k_m$\", plot_f = False)"
   ]
  },
  {
   "cell_type": "raw",
   "metadata": {},
   "source": [
    "v_force = []\n",
    "\n",
    "import numpy as np\n",
    "for akm in np.arange(1.25, 10, 0.25):\n",
    "    force, add = calc_force(akm=akm)\n",
    "    print (\"akm=\", akm, force, add)\n",
    "    v_force += [(akm, force)]\n",
    "    \n",
    "jx= 1 -0.007374856010899784 -0.007374856010899784\n",
    "jx= 2 0.0043194752921410515 -0.003055380718758732\n",
    "jx= 3 0.0008716068488189407 -0.002183773869939791\n",
    "jx= 4 0.0003121227985046011 -0.00187165107143519\n",
    "jx= 5 0.0001457486751688943 -0.0017259023962662957\n",
    "jx= 6 7.951620530223718e-05 -0.0016463861909640585\n",
    "jx= 7 4.806381102545633e-05 -0.0015983223799386022\n",
    "jx= 8 3.124286719633647e-05 -0.0015670795127422656\n",
    "jx= 9 2.144175434637702e-05 -0.0015456377583958885\n",
    "jx= 10 1.5347971824433702e-05 -0.0015302897865714549\n",
    "jx= 11 1.1361590652268218e-05 -0.0015189281959191866\n",
    "jx= 12 8.644996596337133e-06 -0.0015102831993228495\n",
    "jx= 13 6.729836711302205e-06 -0.0015035533626115473\n",
    "jx= 14 5.341496564351284e-06 -0.001498211866047196\n",
    "jx= 15 4.310110237735547e-06 -0.0014939017558094603\n",
    "jx= 16 3.5276901292366028e-06 -0.0014903740656802237\n",
    "jx= 17 2.92406053746188e-06 -0.0014874500051427618\n",
    "jx= 18 2.4506899257315695e-06 -0.0014849993152170303\n",
    "jx= 19 2.0742558664754243e-06 -0.0014829250593505548\n",
    "akm= 1.25 -0.0014811539004775248 1.7711588730298828e-06\n",
    "jx= 1 -0.020672784419832158 -0.020672784419832158\n",
    "jx= 2 0.008705188885239527 -0.011967595534592632\n",
    "jx= 3 0.0018028851560291837 -0.010164710378563448\n",
    "jx= 4 0.0006468360855516393 -0.009517874293011808\n",
    "jx= 5 0.00030216155234131316 -0.009215712740670495\n",
    "jx= 6 0.0001648697673141419 -0.009050842973356352\n",
    "jx= 7 9.966058308110238e-05 -0.00895118239027525\n",
    "jx= 8 6.478364999154688e-05 -0.008886398740283703\n",
    "jx= 9 4.44610848667652e-05 -0.008841937655416937\n",
    "jx= 10 3.182527738946126e-05 -0.008810112378027476\n",
    "jx= 11 2.3559307532559944e-05 -0.008786553070494916\n",
    "jx= 12 1.792574601281779e-05 -0.008768627324482099\n",
    "jx= 13 1.3954640272929477e-05 -0.008754672684209168\n",
    "jx= 14 1.1075216441706116e-05 -0.008743597467767462\n",
    "jx= 15 8.936676687445499e-06 -0.008734660791080017\n",
    "jx= 16 7.315163998085889e-06 -0.00872734562708193\n",
    "jx= 17 6.06346900411898e-06 -0.008721282158077812\n",
    "jx= 18 5.081864749556162e-06 -0.008716200293328256\n",
    "jx= 19 4.301258182289043e-06 -0.008711899035145966\n",
    "akm= 1.5 -0.008708226320289525 3.6727148564415e-06\n",
    "jx= 1 -0.03865399367132921 -0.03865399367132921\n",
    "jx= 2 0.015402775391405242 -0.02325121827992397\n",
    "jx= 3 0.0033264590706445136 -0.019924759209279455\n",
    "jx= 4 0.0011971801030493828 -0.01872757910623007\n",
    "jx= 5 0.0005595997842949099 -0.01816797932193516\n",
    "jx= 6 0.00030539554272416804 -0.017862583779210992\n",
    "jx= 7 0.00018461941312831892 -0.017677964366082672\n",
    "jx= 8 0.000120014566797904 -0.017557949799284767\n",
    "jx= 9 8.236729053212412e-05 -0.017475582508752644\n",
    "jx= 10 5.895951662482399e-05 -0.01741662299212782\n",
    "jx= 11 4.364629631385403e-05 -0.017372976695813967\n",
    "jx= 12 3.320940305541668e-05 -0.01733976729275855\n",
    "jx= 13 2.585252829033788e-05 -0.01731391476446821\n",
    "jx= 14 2.0518314627703342e-05 -0.017293396449840508\n",
    "jx= 15 1.655639905724139e-05 -0.017276840050783265\n",
    "jx= 16 1.3552346710381987e-05 -0.017263287704072882\n",
    "jx= 17 1.1233368407358352e-05 -0.017252054335665522\n",
    "jx= 18 9.414751506672501e-06 -0.01724263958415885\n",
    "jx= 19 7.968497937933789e-06 -0.017234671086220916\n",
    "akm= 1.75 -0.01722786703218093 6.80405403998826e-06\n",
    "jx= 1 -0.05996028222416172 -0.05996028222416172\n",
    "jx= 2 0.024539222150671832 -0.035421060073489885\n",
    "jx= 3 0.005639411614792769 -0.029781648458697116\n",
    "jx= 4 0.0020392976904987357 -0.02774235076819838\n",
    "jx= 5 0.0009541507416831796 -0.026788200026515198\n",
    "jx= 6 0.0005208708022612559 -0.02626732922425394\n",
    "jx= 7 0.0003149145406791334 -0.025952414683574808\n",
    "jx= 8 0.00020472576398981193 -0.025747688919584996\n",
    "jx= 9 0.00014050937425319937 -0.025607179545331798\n",
    "jx= 10 0.00010057985834294597 -0.025506599686988853\n",
    "jx= 11 7.445739423254275e-05 -0.02543214229275631\n",
    "jx= 12 5.6653455453183104e-05 -0.025375488837303128\n",
    "jx= 13 4.4103328984881344e-05 -0.025331385508318247\n",
    "jx= 14 3.500307096797009e-05 -0.025296382437350277\n",
    "jx= 15 2.824426976725542e-05 -0.025268138167583023\n",
    "jx= 16 2.3119612369213385e-05 -0.02524501855521381\n",
    "jx= 17 1.9163563566507357e-05 -0.0252258549916473\n",
    "jx= 18 1.6061098717150794e-05 -0.02520979389293015\n",
    "jx= 19 1.359386328060319e-05 -0.02519620002964955\n",
    "jx= 20 1.1607080214578524e-05 -0.02518459294943497\n",
    "akm= 2.0 -0.025174603512904688 9.989436530283013e-06\n",
    "jx= 1 -0.08293091021880569 -0.08293091021880569\n",
    "jx= 2 0.03572826921502188 -0.04720264100378381\n",
    "jx= 3 0.008951614919450566 -0.03825102608433324\n",
    "jx= 4 0.003259493068560413 -0.03499153301577283\n",
    "jx= 5 0.001527197018257112 -0.03346433599751572\n",
    "jx= 6 0.0008340537221293986 -0.03263028227538632\n",
    "jx= 7 0.0005043449051290794 -0.03212593737025724\n",
    "jx= 8 0.00032789845862947877 -0.03179803891162776\n",
    "jx= 9 0.00022505454734479699 -0.03157298436428296\n",
    "jx= 10 0.000161102200840672 -0.03141188216344229\n",
    "jx= 11 0.00011926282807737353 -0.03129261933536492\n",
    "jx= 12 9.074597096263512e-05 -0.03120187336440228\n",
    "jx= 13 7.064342425858827e-05 -0.031131229940143692\n",
    "jx= 14 5.606751599303079e-05 -0.031075162424150662\n",
    "jx= 15 4.524152263646248e-05 -0.0310299209015142\n",
    "jx= 16 3.7032958004242044e-05 -0.030992887943509958\n",
    "jx= 17 3.0696200061634806e-05 -0.030962191743448324\n",
    "jx= 18 2.572669294090597e-05 -0.030936465050507417\n",
    "jx= 19 2.1773744310511113e-05 -0.030914691306196906\n",
    "jx= 20 1.8590875042390557e-05 -0.030896100431154514\n",
    "jx= 21 1.5999645980523576e-05 -0.03088010078517399\n",
    "jx= 22 1.3868989480682164e-05 -0.030866231795693307\n",
    "jx= 23 1.2100019331864859e-05 -0.030854131776361444\n",
    "jx= 24 1.0618922974870952e-05 -0.030843512853386573\n",
    "akm= 2.25 -0.030834142522710325 9.370330676246764e-06\n",
    "jx= 1 -0.10602633306463709 -0.10602633306463709\n",
    "jx= 2 0.04798107280069183 -0.058045260263945256\n",
    "jx= 3 0.013472426665516093 -0.04457283359842916"
   ]
  },
  {
   "cell_type": "raw",
   "metadata": {},
   "source": [
    "v_force = []\n",
    "\n",
    "import numpy as np\n",
    "for akm in np.arange(2.25, 10, 0.25):\n",
    "    force, add = calc_force(akm=akm)\n",
    "    print (\"akm=\", akm, force, add)\n",
    "    v_force += [(akm, force)]\n",
    "    \n",
    "jx= 1 -0.08293091021880569 -0.08293091021880569\n",
    "jx= 2 0.03572826921502188 -0.04720264100378381\n",
    "jx= 3 0.008951614919450566 -0.03825102608433324\n",
    "jx= 4 0.003259493068560413 -0.03499153301577283\n",
    "jx= 5 0.001527197018257112 -0.03346433599751572\n",
    "jx= 6 0.0008340537221293986 -0.03263028227538632\n",
    "jx= 7 0.0005043449051290794 -0.03212593737025724\n",
    "jx= 8 0.00032789845862947877 -0.03179803891162776\n",
    "jx= 9 0.00022505454734479699 -0.03157298436428296\n",
    "jx= 10 0.000161102200840672 -0.03141188216344229\n",
    "jx= 11 0.00011926282807737353 -0.03129261933536492\n",
    "jx= 12 9.074597096263512e-05 -0.03120187336440228\n",
    "jx= 13 7.064342425858827e-05 -0.031131229940143692\n",
    "jx= 14 5.606751599303079e-05 -0.031075162424150662\n",
    "jx= 15 4.524152263646248e-05 -0.0310299209015142\n",
    "jx= 16 3.7032958004242044e-05 -0.030992887943509958\n",
    "jx= 17 3.0696200061634806e-05 -0.030962191743448324\n",
    "jx= 18 2.572669294090597e-05 -0.030936465050507417\n",
    "jx= 19 2.1773744310511113e-05 -0.030914691306196906\n",
    "jx= 20 1.8590875042390557e-05 -0.030896100431154514\n",
    "jx= 21 1.5999645980523576e-05 -0.03088010078517399\n",
    "jx= 22 1.3868989480682164e-05 -0.030866231795693307\n",
    "jx= 23 1.2100019331864859e-05 -0.030854131776361444\n",
    "jx= 24 1.0618922974870952e-05 -0.030843512853386573\n",
    "akm= 2.25 -0.030834142522710325 9.370330676246764e-06\n",
    "jx= 1 -0.10602633306463709 -0.10602633306463709\n",
    "jx= 2 0.04798107280069183 -0.058045260263945256\n",
    "jx= 3 0.013472426665516093 -0.04457283359842916\n",
    "jx= 4 0.00495299971952078 -0.03961983387890838\n",
    "jx= 5 0.002325208441381915 -0.037294625437526464\n",
    "jx= 6 0.0012706332055495962 -0.036023992231976866\n",
    "jx= 7 0.0007685183555734126 -0.03525547387640345\n",
    "jx= 8 0.0004997023985203175 -0.034755771477883134\n",
    "jx= 9 0.00034299120805589273 -0.03441278026982724\n",
    "jx= 10 0.00024553256193207506 -0.034167247707895164\n",
    "jx= 11 0.00018176788650797385 -0.03398547982138719\n",
    "jx= 12 0.000138306271606456 -0.033847173549780736\n",
    "jx= 13 0.00010766830375918634 -0.033739505246021546\n",
    "jx= 14 8.545321328797991e-05 -0.03365405203273357\n",
    "jx= 15 6.895248330334517e-05 -0.033585099549430224\n",
    "jx= 16 5.6442856535983734e-05 -0.03352865669289424\n",
    "jx= 17 4.67845772696364e-05 -0.0334818721156246\n",
    "jx= 18 3.921012086929548e-05 -0.033442661994755304\n",
    "jx= 19 3.31857307363237e-05 -0.03340947626401898\n",
    "jx= 20 2.8335347637082487e-05 -0.0333811409163819\n",
    "jx= 21 2.4385944611762784e-05 -0.03335675497177013\n",
    "jx= 22 2.1138501923059315e-05 -0.03333561646984707\n",
    "jx= 23 1.844231710885442e-05 -0.033317174152738216\n",
    "jx= 24 1.618577659262901e-05 -0.033300988376145584\n",
    "akm= 2.5 -0.03328670643720081 1.4281938944775391e-05\n",
    "jx= 1 -0.1281035125883631 -0.1281035125883631\n",
    "jx= 2 0.05978656636420368 -0.06831694622415943\n",
    "jx= 3 0.019392795311934635 -0.048924150912224795\n",
    "jx= 4 0.007222207862530514 -0.04170194304969428\n",
    "jx= 5 0.003399439427864092 -0.038302503621830186\n",
    "jx= 6 0.0018591564930829484 -0.036443347128747236\n",
    "jx= 7 0.0011248263714019136 -0.035318520757345324\n",
    "jx= 8 0.0007314825881445995 -0.03458703816920072\n",
    "jx= 9 0.0005021188778477136 -0.03408491929135301\n",
    "jx= 10 0.00035945935544180486 -0.0337254599359112\n",
    "jx= 11 0.00026611401873594326 -0.03345934591717526\n",
    "jx= 12 0.0002024876917398718 -0.033256858225435386\n",
    "jx= 13 0.00015763365820428436 -0.0330992245672311\n",
    "jx= 14 0.0001251087596454469 -0.03297411580758565\n",
    "jx= 15 0.00010095058591304616 -0.03287316522167261\n",
    "jx= 16 8.263323840604925e-05 -0.032790531983266556\n",
    "jx= 17 6.849280085510753e-05 -0.03272203918241145\n",
    "jx= 18 5.740719488533224e-05 -0.032664631987526116\n",
    "jx= 19 4.85869959764725e-05 -0.032616044991549645\n",
    "jx= 20 4.148562168403639e-05 -0.032574559369865606\n",
    "jx= 21 3.570360846988823e-05 -0.032538855761395716\n",
    "jx= 22 3.094748232792572e-05 -0.03250790827906779\n",
    "jx= 23 2.699988513190432e-05 -0.03248090839393589\n",
    "jx= 24 2.3696157951392252e-05 -0.032457212235984495\n",
    "akm= 2.75 -0.03243630208049284 2.091015549165456e-05\n",
    "jx= 1 -0.14848189482012514 -0.14848189482012514\n",
    "jx= 2 0.06934784962127681 -0.07913404519884833\n",
    "jx= 3 0.026862890168592227 -0.0522711550302561\n",
    "jx= 4 0.010174261460488804 -0.0420968935697673\n",
    "jx= 5 0.0048055277490313296 -0.03729136582073597\n",
    "jx= 6 0.002630928726441265 -0.034660437094294706\n",
    "jx= 7 0.0015924160358821962 -0.03306802105841251\n",
    "jx= 8 0.0010357514820083806 -0.03203226957640413\n",
    "jx= 9 0.0007110478586196078 -0.03132122171778452\n",
    "jx= 10 0.0005090546947920826 -0.03081216702299244\n",
    "jx= 11 0.00037687345003665563 -0.030435293572955782\n",
    "jx= 12 0.00028677052415295405 -0.03014852304880283\n",
    "jx= 13 0.00022324927632751766 -0.02992527377247531\n",
    "jx= 14 0.00017718695765792702 -0.029748086814817384\n",
    "jx= 15 0.00014297410942937182 -0.02960511270538801\n",
    "jx= 16 0.00011703194223279612 -0.029488080763155216\n",
    "jx= 17 9.700544092999371e-05 -0.02939107532222522\n",
    "jx= 18 8.129944080568106e-05 -0.02930977588141954"
   ]
  },
  {
   "cell_type": "raw",
   "metadata": {},
   "source": [
    "v_force = []\n",
    "\n",
    "import numpy as np\n",
    "for akm in np.arange(3, 10, 0.25):\n",
    "    force, add = calc_force(akm=akm)\n",
    "    print (\"akm=\", akm, force, add)\n",
    "    v_force += [(akm, force)]\n",
    "    \n",
    "jx= 1 -0.14848189482012514 -0.14848189482012514\n",
    "jx= 2 0.06934784962127681 -0.07913404519884833\n",
    "jx= 3 0.026862890168592227 -0.0522711550302561\n",
    "jx= 4 0.010174261460488804 -0.0420968935697673\n",
    "jx= 5 0.0048055277490313296 -0.03729136582073597\n",
    "jx= 6 0.002630928726441265 -0.034660437094294706\n",
    "jx= 7 0.0015924160358821962 -0.03306802105841251\n",
    "jx= 8 0.0010357514820083806 -0.03203226957640413\n",
    "jx= 9 0.0007110478586196078 -0.03132122171778452\n",
    "jx= 10 0.0005090546947920826 -0.03081216702299244\n",
    "jx= 11 0.00037687345003665563 -0.030435293572955782\n",
    "jx= 12 0.00028677052415295405 -0.03014852304880283\n",
    "jx= 13 0.00022324927632751766 -0.02992527377247531\n",
    "jx= 14 0.00017718695765792702 -0.029748086814817384\n",
    "jx= 15 0.00014297410942937182 -0.02960511270538801\n",
    "jx= 16 0.00011703194223279612 -0.029488080763155216\n",
    "jx= 17 9.700544092999371e-05 -0.02939107532222522\n",
    "jx= 18 8.129944080568106e-05 -0.02930977588141954\n",
    "jx= 19 6.88110691848615e-05 -0.02924096481223468\n",
    "jx= 20 5.875565027424787e-05 -0.029182209161960432\n",
    "jx= 21 5.0565919963952715e-05 -0.02913164324199648\n",
    "jx= 22 4.3830856085208554e-05 -0.029087812385911273\n",
    "jx= 23 3.82397667656497e-05 -0.029049572619145623\n",
    "jx= 24 3.356101082496821e-05 -0.029016011608320656\n",
    "akm= 3.0 -0.028986396523536337 2.961508478431949e-05\n",
    "jx= 1 -0.1668531726200029 -0.1668531726200029\n",
    "jx= 2 0.07488507136947403 -0.09196810125052887\n",
    "jx= 3 0.03596620930215396 -0.05600189194837491\n",
    "jx= 4 0.013917913421295261 -0.04208397852707965\n",
    "jx= 5 0.006602927376380893 -0.03548105115069876\n",
    "jx= 6 0.0036198708701006698 -0.03186118028059809\n",
    "jx= 7 0.002192146830226502 -0.029669033450371588\n",
    "jx= 8 0.0014261722230848942 -0.028242861227286694\n",
    "jx= 9 0.000979191090562197 -0.027263670136724497\n",
    "jx= 10 0.0007010710755401562 -0.02656259906118434\n",
    "jx= 11 0.0005190509506747493 -0.02604354811050959\n",
    "jx= 12 0.00039496570399958725 -0.025648582406510002\n",
    "jx= 13 0.00030748335976717677 -0.025341099046742827\n",
    "jx= 14 0.00024404355907584573 -0.025097055487666983\n",
    "jx= 15 0.00019692268324764716 -0.024900132804419335\n",
    "jx= 16 0.00016119345755570696 -0.02473893934686363\n",
    "jx= 17 0.0001336100051737591 -0.02460532934168987\n",
    "jx= 18 0.00011197812998251227 -0.024493351211707357\n",
    "jx= 19 9.477566494618756e-05 -0.02439857554676117\n",
    "jx= 20 8.092315489778534e-05 -0.024317652391863384\n",
    "jx= 21 6.964636443577244e-05 -0.02424800602742761\n",
    "jx= 22 6.036961653328071e-05 -0.02418763641089433\n",
    "jx= 23 5.266978460310134e-05 -0.024134966626291228\n",
    "jx= 24 4.6225629954232223e-05 -0.024088740996336996\n",
    "akm= 3.25 -0.024047951283080123 4.0789713256873105e-05\n",
    "jx= 1 -0.18314040387705163 -0.18314040387705163\n",
    "jx= 2 0.07490258089963847 -0.10823782297741316\n",
    "jx= 3 0.046692160777933936 -0.061545662199479226\n",
    "jx= 4 0.018559602057892748 -0.04298606014158648\n",
    "jx= 5 0.008854204958499994 -0.034131855183086486\n",
    "jx= 6 0.004862372272467485 -0.029269482910619\n",
    "jx= 7 0.002946540267770079 -0.026322942642848922\n",
    "jx= 8 0.0019175424219681862 -0.024405400220880735\n",
    "jx= 9 0.0013167590611247045 -0.02308864115975603\n",
    "jx= 10 0.0009428376758546323 -0.0221458034839014\n",
    "jx= 11 0.0006980869800780321 -0.021447716503823367\n",
    "jx= 12 0.000531214399575639 -0.02091650210424773\n",
    "jx= 13 0.0004135623612816747 -0.020502939742966055\n",
    "jx= 14 0.00032824019257802545 -0.020174699550388028\n",
    "jx= 15 0.0002648640242870606 -0.019909835526100966\n",
    "jx= 16 0.00021680893834902842 -0.019693026587751936\n",
    "jx= 17 0.0001797093793599989 -0.019513317208391938\n",
    "jx= 18 0.0001506143809862602 -0.019362702827405678\n",
    "jx= 19 0.00012747772568019825 -0.01923522510172548\n",
    "jx= 20 0.00010884655583165065 -0.01912637854589383\n",
    "jx= 21 9.367658657567901e-05 -0.019032701959318152"
   ]
  },
  {
   "cell_type": "raw",
   "metadata": {},
   "source": [
    "force, add = calc_force(akm=3.5, jx_0=21, f_0=-0.019032701959318152)\n",
    "print (\"akm=\", 3.5, force, add)"
   ]
  },
  {
   "cell_type": "raw",
   "metadata": {},
   "source": [
    "v_force = []\n",
    "\n",
    "import numpy as np\n",
    "for akm in np.arange(3.5, 10, 0.25):\n",
    "    force, add = calc_force(akm=akm)\n",
    "    print (\"akm=\", akm, force, add)\n",
    "    v_force += [(akm, force)]\n",
    "    \n",
    "jx= 0 -0.18314040387705163 -0.18314040387705163\n",
    "jx= 1 0.07490258089963847 -0.10823782297741316\n",
    "jx= 2 0.046692160777933936 -0.061545662199479226\n",
    "jx= 3 0.018559602057892748 -0.04298606014158648\n",
    "jx= 4 0.008854204958499994 -0.034131855183086486\n",
    "jx= 5 0.004862372272467485 -0.029269482910619\n",
    "jx= 6 0.002946540267770079 -0.026322942642848922\n",
    "jx= 7 0.0019175424219681862 -0.024405400220880735\n",
    "jx= 8 0.0013167590611247045 -0.02308864115975603\n",
    "jx= 9 0.0009428376758546323 -0.0221458034839014\n",
    "jx= 10 0.0006980869800780321 -0.021447716503823367\n",
    "jx= 11 0.000531214399575639 -0.02091650210424773\n",
    "jx= 12 0.0004135623612816747 -0.020502939742966055\n",
    "jx= 13 0.00032824019257802545 -0.020174699550388028\n",
    "jx= 14 0.0002648640242870606 -0.019909835526100966\n",
    "jx= 15 0.00021680893834902842 -0.019693026587751936\n",
    "jx= 16 0.0001797093793599989 -0.019513317208391938\n",
    "jx= 17 0.0001506143809862602 -0.019362702827405678\n",
    "jx= 18 0.00012747772568019825 -0.01923522510172548\n",
    "jx= 19 0.00010884655583165065 -0.01912637854589383\n",
    "jx= 20 9.367658657567901e-05 -0.019032701959318152\n",
    "jx= 21 8.119671531675623e-05 -0.018951505244001396\n",
    "jx= 22 7.08426473278782e-05 -0.01888066259667352\n",
    "jx= 23 6.217484964964355e-05 -0.018818487747023875\n",
    "jx= 24 5.4863121636747034e-05 -0.018763624625387127\n",
    "jx= 25 4.8655469165263e-05 -0.018714969156221863\n",
    "akm= 3.5 -0.018714969156221863 4.8655469165263e-05\n",
    "jx= 0 -0.19738616942714782 -0.19738616942714782\n",
    "jx= 1 0.06836323294992 -0.12902293647722782\n",
    "jx= 2 0.05891013732027894 -0.07011279915694887\n",
    "jx= 3 0.024198633681235534 -0.04591416547571334\n",
    "jx= 4 0.01162414866715233 -0.034290016808561\n",
    "jx= 5 0.006397026034689937 -0.027892990773871064\n",
    "jx= 6 0.003879702340222662 -0.024013288433648403\n",
    "jx= 7 0.0025257601099237747 -0.02148752832372463\n",
    "jx= 8 0.0017347438063273425 -0.019752784517397287\n",
    "jx= 9 0.0012422560813089628 -0.018510528436088323\n",
    "jx= 10 0.0009198338378696113 -0.01759069459821871\n",
    "jx= 11 0.0006999804126423026 -0.01689071418557641\n",
    "jx= 12 0.0005449635918728444 -0.016345750593703565\n",
    "jx= 13 0.0004325402193638425 -0.015913210374339723\n",
    "jx= 14 0.00034903140585439553 -0.015564178968485328\n",
    "jx= 15 0.00028570802340771465 -0.015278470945077614\n",
    "jx= 16 0.00023682253610199532 -0.015041648408975618\n",
    "jx= 17 0.00019848296511888654 -0.014843165443856731\n",
    "jx= 18 0.00016799262166745008 -0.01467517282218928\n",
    "jx= 19 0.00014344164058396075 -0.01453173118160532\n",
    "jx= 20 0.00012344751057649894 -0.014408283671028822\n",
    "jx= 21 0.00010700550933092551 -0.014301278161697897\n",
    "jx= 22 9.335927122421155e-05 -0.014207918890473686\n",
    "jx= 23 8.193281473213447e-05 -0.014125986075741552"
   ]
  },
  {
   "cell_type": "raw",
   "metadata": {},
   "source": [
    "force, add = calc_force(akm=3.75, jx_0=24, f_0=-0.014125986075741552)\n",
    "print (\"akm=\", 3.75, force, add)\n",
    "\n",
    "jx= 24 7.229786757464338e-05 -0.014053688208166909\n",
    "jx= 25 6.411919749415085e-05 -0.013989569010672758\n",
    "akm= 3.75000000000000 -0.013989569010672758 6.411919749415085e-05"
   ]
  },
  {
   "cell_type": "raw",
   "metadata": {},
   "source": [
    "v_force = []\n",
    "\n",
    "import numpy as np\n",
    "for akm in np.arange(4, 10, 0.25):\n",
    "    force, add = calc_force(akm=akm)\n",
    "    print (\"akm=\", akm, force, add)\n",
    "    v_force += [(akm, force)]\n",
    "    \n",
    "jx= 0 -0.2096915637850529 -0.2096915637850529\n",
    "jx= 1 0.05476414797743635 -0.15492741580761654\n",
    "jx= 2 0.07234905608345246 -0.08257835972416408\n",
    "jx= 3 0.03092158305172818 -0.0516567766724359\n",
    "jx= 4 0.014978654773177426 -0.036678121899258474\n",
    "jx= 5 0.008264387168788575 -0.0284137347304699\n",
    "jx= 6 0.005017247751007263 -0.023396486979462637\n",
    "jx= 7 0.003267810779924186 -0.02012867619953845\n",
    "jx= 8 0.0022449154763926906 -0.01788376072314576\n",
    "jx= 9 0.0016077948973262511 -0.01627596582581951\n",
    "jx= 10 0.001190589017859826 -0.015085376807959685\n",
    "jx= 11 0.0009060577127564839 -0.0141793190952032\n",
    "jx= 12 0.0007054274845937747 -0.013473891610609426\n",
    "jx= 13 0.0005599155128488875 -0.012913976097760538\n",
    "jx= 14 0.0004518194567219136 -0.012462156641038625\n",
    "jx= 15 0.00036985532734222965 -0.012092301313696395\n",
    "jx= 16 0.00030656813847153844 -0.011785733175224857\n",
    "jx= 17 0.00025693856949230717 -0.01152879460573255\n",
    "jx= 18 0.00021746921371367293 -0.011311325392018876\n",
    "jx= 19 0.00018568878864499614 -0.01112563660337388\n",
    "jx= 20 0.0001598107896113546 -0.010965825813762525\n",
    "jx= 21 0.00013852443236760914 -0.010827301381394915\n",
    "jx= 22 0.00012085747553476716 -0.010706443905860149\n",
    "jx= 23 0.00010607083153092747 -0.010600373074329221\n",
    "jx= 24 9.360118298422006e-05 -0.010506771891345001\n",
    "jx= 25 8.30044022793454e-05 -0.010423767489065656\n",
    "akm= 4.0 -0.010423767489065656 8.30044022793454e-05\n",
    "jx= 0 -0.2201922775859357 -0.2201922775859357\n",
    "jx= 1 0.03413382141276128 -0.18605845617317443\n",
    "jx= 2 0.08658639101873052 -0.09947206515444391\n",
    "jx= 3 0.038795936793206295 -0.06067612836123762\n",
    "jx= 4 0.01898340202567961 -0.04169272633555801\n",
    "jx= 5 0.010506596868540717 -0.031186129467017293\n",
    "jx= 6 0.006386185341520348 -0.024799944125496944\n",
    "jx= 7 0.004161692572145827 -0.020638251553351118\n",
    "jx= 8 0.0028597835080052697 -0.017778468045345847\n",
    "jx= 9 0.0020484717701403643 -0.015729996275205483\n",
    "jx= 10 0.0015170464568412467 -0.014212949818364237\n",
    "jx= 11 0.0011545739715074005 -0.013058375846856835\n",
    "jx= 12 0.0008989445851298205 -0.012159431261727015\n",
    "jx= 13 0.0007135297295824679 -0.011445901532144547\n",
    "jx= 14 0.0005757905973191314 -0.010870110934825416"
   ]
  },
  {
   "cell_type": "code",
   "execution_count": null,
   "metadata": {},
   "outputs": [
    {
     "name": "stdout",
     "output_type": "stream",
     "text": [
      "jx= 26 7.395317324012231e-05 -0.010349814315825535\n",
      "jx= 27 6.617163837117671e-05 -0.010283642677454357\n",
      "jx= 28 5.944637970750781e-05 -0.01022419629774685\n",
      "jx= 29 5.360202068757615e-05 -0.010170594277059273\n",
      "jx= 30 4.8499847735573184e-05 -0.0101220944293237\n",
      "jx= 31 4.4021803810858366e-05 -0.010078072625512842\n",
      "jx= 32 4.008018660065634e-05 -0.010037992438912185\n",
      "jx= 33 3.662390734158919e-05 -0.010001368531570597\n",
      "jx= 34 3.3502814998255256e-05 -0.00996786571657234\n",
      "jx= 35 3.0748698992119636e-05 -0.00993711701758022\n",
      "jx= 36 2.8290353917462738e-05 -0.009908826663662757\n",
      "jx= 37 2.6086171494380065e-05 -0.009882740492168378\n",
      "jx= 38 2.41052180693763e-05 -0.009858635274099001\n",
      "jx= 39 2.2320455458495944e-05 -0.009836314818640505\n",
      "jx= 40 2.0707964758496297e-05 -0.009815606853882008\n",
      "jx= 41 1.9246040787689847e-05 -0.009796360813094318\n",
      "jx= 42 1.7920178264333583e-05 -0.009778440634829985\n",
      "jx= 43 1.671208367329332e-05 -0.009761728551156692\n",
      "jx= 44 1.5610781505572734e-05 -0.00974611776965112\n",
      "jx= 45 1.4610545561998458e-05 -0.009731507224089121\n"
     ]
    }
   ],
   "source": [
    "energy_density_difference, add, jx = calc_energy_density_difference(akm=4, jx_0=26, f_0=-0.010423767489065656)\n",
    "print (\"akm=\", 4, energy_density_difference, add, jx)"
   ]
  },
  {
   "cell_type": "raw",
   "metadata": {},
   "source": [
    "force, add = calc_force(akm=4.25, jx_0=15, f_0=-0.010870110934825416)\n",
    "print (\"akm=\", 4.25, force, add)\n",
    "\n",
    "v_force = []\n",
    "\n",
    "import numpy as np\n",
    "for akm in np.arange(5, 10, 0.25):\n",
    "    force, add = calc_force(akm=akm)\n",
    "    print (\"akm=\", akm, force, add)\n",
    "    v_force += [(akm, force)]\n",
    "    \n",
    "jx= 15 0.0004713345324008544 -0.010398776402424561\n",
    "jx= 16 0.00039070242175184063 -0.01000807398067272\n",
    "jx= 17 0.0003274550441651854 -0.009680618936507533\n",
    "jx= 18 0.00027715423264279023 -0.009403464703864743\n",
    "jx= 19 0.00023664254346845537 -0.009166822160396288\n",
    "jx= 20 0.00020366726313920347 -0.008963154897257084\n",
    "jx= 21 0.00017654075483318748 -0.008786614142423897\n",
    "jx= 22 0.00015402586577341825 -0.008632588276650479\n",
    "jx= 23 0.0001351834131078041 -0.008497404863542675\n",
    "jx= 24 0.00011929193642295844 -0.008378112927119716\n",
    "jx= 25 0.00010579703382244513 -0.008272315893297272\n",
    "jx= 26 9.426047181031493e-05 -0.008178055421486956\n",
    "akm= 4.25000000000000 -0.008178055421486956 9.426047181031493e-05\n",
    "jx= 0 -0.24255382833724923 -0.24255382833724923\n",
    "jx= 1 -0.06320064334461968 -0.3057544716818689\n",
    "jx= 2 0.1277494410137167 -0.1780050306681522\n",
    "jx= 3 0.06956967480376812 -0.10843535586438409\n",
    "jx= 4 0.03551834311812971 -0.07291701274625438\n",
    "jx= 5 0.019918839355750055 -0.052998173390504326\n",
    "jx= 6 0.012169403861559782 -0.04082876952894454\n",
    "jx= 7 0.007948892747527503 -0.03287987678141704\n",
    "jx= 8 0.005468650369726126 -0.02741122641169091\n",
    "jx= 9 0.0039197416709156425 -0.023491484740775267\n",
    "jx= 10 0.0029039533818528353 -0.020587531358922433\n",
    "jx= 11 0.0022106268049607793 -0.018376904553961654\n",
    "jx= 12 0.001721436470349738 -0.016655468083611916\n",
    "jx= 13 0.001366515570042871 -0.015288952513569045\n",
    "jx= 14 0.0011028008948591426 -0.014186151618709902\n",
    "jx= 15 0.0009027899772451567 -0.013283361641464745\n",
    "jx= 16 0.0007483616619648976 -0.012534999979499847\n",
    "jx= 17 0.0006272348920133734 -0.011907765087486474\n",
    "jx= 18 0.0005308979983080019 -0.011376867089178472\n",
    "jx= 19 0.00045332168935189297 -0.01092354539982658"
   ]
  },
  {
   "cell_type": "raw",
   "metadata": {},
   "source": [
    "force, add = calc_force(akm=5, jx_0=20, f_0=-0.01092354539982658)\n",
    "print (\"akm=\", 5, force, add)\n",
    "\n",
    "v_force = []\n",
    "\n",
    "import numpy as np\n",
    "for akm in np.arange(4.5, 10, 0.25):\n",
    "    force, add = calc_force(akm=akm)\n",
    "    print (\"akm=\", akm, force, add)\n",
    "    v_force += [(akm, force)]\n",
    "    \n",
    "jx= 20 0.00039015202411665545 -0.010533393375709924\n",
    "jx= 21 0.000338194746204038 -0.010195198629505886\n",
    "jx= 22 0.00029508017388103856 -0.009900118455624846\n",
    "jx= 23 0.00025897327432303316 -0.009641145181301812\n",
    "jx= 24 0.00022853480317405392 -0.009412610378127758\n",
    "jx= 25 0.000202684075133313 -0.009209926302994446\n",
    "jx= 26 0.00018059351286497138 -0.009029332790129475\n",
    "jx= 27 0.00016160119269027602 -0.008867731597439199\n",
    "jx= 28 0.00014517988767810656 -0.008722551709761092\n",
    "jx= 29 0.00013090222204360335 -0.00859164948771749\n",
    "jx= 30 0.00011844032478033679 -0.008473209162937152\n",
    "akm= 5 -0.008473209162937152 0.00011844032478033679\n",
    "jx= 0 -0.22904924337793298 -0.22904924337793298\n",
    "jx= 1 0.0069724267942145556 -0.22207681658371842\n",
    "jx= 2 0.1010505164790582 -0.12102630010466021\n",
    "jx= 3 0.04786320121644568 -0.07316309888821454\n",
    "jx= 4 0.023702302937942166 -0.049460795950272377\n",
    "jx= 5 0.013167006980701897 -0.03629378896957048\n",
    "jx= 6 0.008014776560762356 -0.028279012408808125\n",
    "jx= 7 0.005226404392267316 -0.02305260801654081\n",
    "jx= 8 0.0035926041397518382 -0.01946000387678897\n",
    "jx= 9 0.0025738591922661027 -0.016886144684522868\n",
    "jx= 10 0.0019063348663933954 -0.014979809818129472\n",
    "jx= 11 0.0014509451883512876 -0.013528864629778184\n",
    "jx= 12 0.0011297446922434462 -0.012399119937534737\n",
    "jx= 13 0.0008967506276203452 -0.011502369309914393\n",
    "jx= 14 0.0007236570137903509 -0.010778712296124041\n",
    "jx= 15 0.0005923924367741087 -0.010186319859349932\n",
    "jx= 16 0.000491044959702331 -0.009695274899647601\n",
    "jx= 17 0.0004115588941655795 -0.009283716005482022\n",
    "jx= 18 0.00034834382318486314 -0.008935372182297159\n",
    "jx= 19 0.000297439555030651 -0.008637932627266507\n",
    "jx= 20 0.000255989980936181 -0.008381942646330326\n",
    "jx= 21 0.00022189746967591506 -0.008160045176654411"
   ]
  },
  {
   "cell_type": "raw",
   "metadata": {},
   "source": [
    "energy_density_difference, add, jx = calc_energy_density_difference(akm=5, jx_0=31, f_0=-0.008473209162937152)\n",
    "print (\"akm=\", 5, energy_density_difference, add, jx)\n",
    "\n",
    "jx= 31 0.000107513829443556 -0.008365695333493597\n",
    "jx= 32 9.787027749618235e-05 -0.008267825055997415\n",
    "jx= 33 8.939954946502139e-05 -0.008178425506532394\n",
    "jx= 34 8.181667108365087e-05 -0.008096608835448743\n",
    "jx= 35 7.509659305329031e-05 -0.008021512242395452\n",
    "jx= 36 6.90906431546712e-05 -0.007952421599240781\n",
    "jx= 37 6.370869326589607e-05 -0.007888712905974885\n",
    "jx= 38 5.887090206884393e-05 -0.00782984200390604\n",
    "jx= 39 5.451538896927733e-05 -0.007775326614936763\n",
    "jx= 40 5.0580612041201323e-05 -0.007724746002895562\n",
    "jx= 41 4.701103409974184e-05 -0.00767773496879582\n",
    "jx= 42 4.3778207478832766e-05 -0.007633956761316987\n",
    "jx= 43 4.082720691924956e-05 -0.0075931295543977375\n",
    "jx= 44 3.813838199572475e-05 -0.007554991172402012\n",
    "jx= 45 3.568316526025052e-05 -0.007519308007141762\n",
    "jx= 46 3.344068959708186e-05 -0.00748586731754468\n",
    "jx= 47 3.136468351748257e-05 -0.007454502634027197\n",
    "jx= 48 2.9468565892191264e-05 -0.007425034068135006\n",
    "jx= 49 2.7721958766138287e-05 -0.007397312109368868\n",
    "jx= 50 2.610837405605163e-05 -0.0073712037353128165\n",
    "jx= 51 2.4617532688709235e-05 -0.007346586202624107\n",
    "jx= 52 2.3242272627768528e-05 -0.007323343929996339"
   ]
  },
  {
   "cell_type": "raw",
   "metadata": {},
   "source": [
    "force, add = calc_force(akm=4.5, jx_0=22, f_0=-0.008160045176654411)\n",
    "print (\"akm=\", 4.5, force, add)\n",
    "\n",
    "v_force = []\n",
    "\n",
    "import numpy as np\n",
    "for akm in np.arange(4.75):\n",
    "    force, add = calc_force(akm=akm)\n",
    "    print (\"akm=\", akm, force, add)\n",
    "    v_force += [(akm, force)]\n",
    "    \n",
    "jx= 22 0.00019359666686514238 -0.007966448509789269\n",
    "jx= 23 0.00016991772909697098 -0.0077965307806922984\n",
    "jx= 24 0.00014993835473173922 -0.007646592425960559\n",
    "jx= 25 0.0001329796143720599 -0.007513612811588499\n",
    "jx= 26 0.00011848034029205925 -0.00739513247129644\n",
    "jx= 27 0.0001060169282617295 -0.007289115543034711\n",
    "jx= 28 9.52314944927027e-05 -0.007193884048542008\n",
    "akm= 4.50000000000000 -0.007193884048542008 9.52314944927027e-05\n",
    "Exception ex =  symbolic division by zero"
   ]
  },
  {
   "cell_type": "raw",
   "metadata": {},
   "source": [
    "force, add = calc_force(akm=4.75)\n",
    "print (\"akm=\", 4.75, force, add)\n",
    "\n",
    "jx= 0 -0.23644095850837976 -0.23644095850837976\n",
    "jx= 1 -0.025847067025253277 -0.26228802553363306\n",
    "jx= 2 0.11503850716847458 -0.14724951836515848\n",
    "jx= 3 0.05813173753301275 -0.08911778083214573\n",
    "jx= 4 0.029195702561088627 -0.05992207827105711\n",
    "jx= 5 0.01628968386386486 -0.04363239440719225\n",
    "jx= 6 0.00993241200173609 -0.03369998240545616\n",
    "jx= 7 0.006481875039619083 -0.027218107365837074\n",
    "jx= 8 0.004457344233377274 -0.0227607631324598\n",
    "jx= 9 0.0031940711377752857 -0.019566691994684512\n",
    "jx= 10 0.002365990067037515 -0.017200701927646996\n",
    "jx= 11 0.0018009391707047824 -0.015399762756942215\n",
    "jx= 12 0.0014023294834609266 -0.013997433273481288\n",
    "jx= 13 0.001113155817356637 -0.012884277456124651\n",
    "jx= 14 0.0008983111270960063 -0.011985966329028645\n",
    "jx= 15 0.0007353736827235336 -0.011250592646305112\n",
    "jx= 16 0.0006095745988361981 -0.010641018047468915\n",
    "jx= 17 0.0005109062603586619 -0.010130111787110253\n",
    "jx= 18 0.00043243296230329375 -0.009697678824806958\n",
    "jx= 19 0.0003692427475869567 -0.009328436077220002\n",
    "jx= 20 0.0003177879243820572 -0.009010648152837945\n",
    "jx= 21 0.0002754723746280825 -0.008735175778209862\n",
    "jx= 22 0.00024033537692406807 -0.008494840401285795"
   ]
  },
  {
   "cell_type": "raw",
   "metadata": {},
   "source": [
    "force, add = calc_force(akm=4.75, jx_0=23, f_0=-0.008494840401285795)\n",
    "print (\"akm=\", 4.75, force, add)\n",
    "\n",
    "jx= 23 0.00021093526816450163 -0.008283905133121295\n",
    "jx= 24 0.0001861482035313059 -0.00809775692958999\n",
    "jx= 25 0.0001650867898571423 -0.007932670139732848\n",
    "jx= 26 0.00014708661765524617 -0.007785583522077602\n",
    "jx= 27 0.00013162111390328766 -0.007653962408174314\n",
    "jx= 28 0.00011824138033962378 -0.00753572102783469\n",
    "jx= 29 0.0001066170646374827 -0.007429103963197207\n",
    "jx= 30 9.643849822254043e-05 -0.007332665464974667\n",
    "akm= 4.75000000000000 -0.007332665464974667 9.643849822254043e-05"
   ]
  },
  {
   "cell_type": "raw",
   "metadata": {},
   "source": [
    "v_force = []\n",
    "\n",
    "import numpy as np\n",
    "for akm in np.arange(5.25, 10, 0.25):\n",
    "    force, add = calc_force(akm=akm)\n",
    "    print (\"akm=\", akm, force, add)\n",
    "    v_force += [(akm, force)]\n",
    "    \n",
    "jx= 0 -0.24757187236608305 -0.24757187236608305\n",
    "jx= 1 -0.10384079072743137 -0.35141266309351443\n",
    "jx= 2 0.13833091283088933 -0.2130817502626251\n",
    "jx= 3 0.08209840777348427 -0.13098334248914084\n",
    "jx= 4 0.04271711867144246 -0.08826622381769839\n",
    "jx= 5 0.02409818932758252 -0.06416803449011586\n",
    "jx= 6 0.01475678106468357 -0.049411253425432296\n",
    "jx= 7 0.009649025175966573 -0.03976222824946572\n",
    "jx= 8 0.0066418228217445035 -0.03312040542772122\n",
    "jx= 9 0.004762014948302934 -0.028358390479418284\n",
    "jx= 10 0.003528552205058933 -0.02482983827435935\n",
    "jx= 11 0.0026863826308811635 -0.022143455643478187\n",
    "jx= 12 0.0020920580626714955 -0.020051397580806693"
   ]
  },
  {
   "cell_type": "raw",
   "metadata": {},
   "source": [
    "force, add = calc_force(akm=5.25, jx_0=13, f_0=-0.020051397580806693)\n",
    "print (\"akm=\", 5.25, force, add)\n",
    "\n",
    "jx= 13 0.0016607957175028972 -0.018390601863303796\n",
    "jx= 14 0.0013403349289390152 -0.01705026693436478\n",
    "jx= 15 0.0010972671686040564 -0.015952999765760725\n",
    "jx= 16 0.0009095871091711717 -0.015043412656589553\n",
    "jx= 17 0.0007623743370799768 -0.014281038319509576\n",
    "jx= 18 0.0006452869079776752 -0.0136357514115319\n",
    "jx= 19 0.0005509994584548296 -0.01308475195307707\n",
    "jx= 20 0.00047422094406055436 -0.012610531009016516\n",
    "jx= 21 0.00041106982813735157 -0.012199461180879164\n",
    "jx= 22 0.0003586659778270741 -0.01184079520305209\n",
    "jx= 23 0.0003147799376856128 -0.011526015265366478\n",
    "jx= 24 0.0002777846513390377 -0.01124823061402744\n",
    "jx= 25 0.00024636430892088497 -0.011001866305106555\n",
    "jx= 26 0.00021951012648674376 -0.010782356178619812\n",
    "jx= 27 0.00019642127468718175 -0.01058593490393263\n",
    "jx= 28 0.00017646295819140296 -0.010409471945741227\n",
    "jx= 29 0.0001591182947558597 -0.010250353650985367\n",
    "jx= 30 0.00014397879515633646 -0.01010637485582903\n",
    "akm= 5.25000000000000 -0.01010637485582903 0.00014397879515633646"
   ]
  },
  {
   "cell_type": "raw",
   "metadata": {},
   "source": [
    "v_force = []\n",
    "\n",
    "import numpy as np\n",
    "for akm in np.arange(5.5, 10, 0.25):\n",
    "    force, add = calc_force(akm=akm)\n",
    "    print (\"akm=\", akm, force, add)\n",
    "    v_force += [(akm, force)]\n",
    "    \n",
    "jx= 0 -0.25166808094585746 -0.25166808094585746\n",
    "jx= 1 -0.14651339047687403 -0.3981814714227315\n",
    "jx= 2 0.14593394221965975 -0.2522475292030718\n",
    "jx= 3 0.09558720020562637 -0.15666032899744542\n",
    "jx= 4 0.05082866131206032 -0.1058316676853851\n",
    "jx= 5 0.028870225334182296 -0.07696144235120281\n",
    "jx= 6 0.017726053835523493 -0.05923538851567932\n",
    "jx= 7 0.011604539882029665 -0.04763084863364965\n",
    "jx= 8 0.007992763619295509 -0.03963808501435414\n",
    "jx= 9 0.00573253873012311 -0.03390554628423103\n",
    "jx= 10 0.00424853337130576 -0.02965701291292527\n",
    "jx= 11 0.003234920750342294 -0.026422092162582976\n",
    "jx= 12 0.0025194403543660313 -0.023902651808216945\n",
    "jx= 13 0.0020001838690441288 -0.021902467939172818\n",
    "jx= 14 0.0016142924580593025 -0.020288175481113516"
   ]
  },
  {
   "cell_type": "raw",
   "metadata": {},
   "source": [
    "force, add = calc_force(akm=5.5, jx_0=15, f_0=-0.020288175481113516)\n",
    "print (\"akm=\", 5.5, force, add)\n",
    "\n",
    "jx= 15 0.0013215821962492614 -0.018966593284864254\n",
    "jx= 16 0.0010955436823914574 -0.017871049602472797\n",
    "jx= 17 0.0009182470643955034 -0.016952802538077294\n",
    "jx= 18 0.0007772282823015108 -0.016175574255775784\n",
    "jx= 19 0.0006636671194384689 -0.015511907136337315\n",
    "jx= 20 0.0005711924621004248 -0.01494071467423689\n",
    "jx= 21 0.0004951323993148074 -0.014445582274922082\n",
    "jx= 22 0.0004319983732408033 -0.014013583901681278\n",
    "jx= 23 0.0003791569183131066 -0.013634426983368171\n",
    "jx= 24 0.0003345938069261319 -0.01329983317644204\n",
    "jx= 25 0.0002967497808417117 -0.013003083395600329\n",
    "jx= 26 0.00026440083851133353 -0.012738682557088996\n",
    "jx= 27 0.00023659129706403236 -0.012502091260024963\n",
    "jx= 28 0.0002125492557548364 -0.012289542004270126\n",
    "jx= 29 0.00019165889773952471 -0.012097883106530602\n",
    "jx= 30 0.00017341677938113108 -0.01192446632714947\n",
    "akm= 5.50000000000000 -0.01192446632714947 0.00017341677938113108"
   ]
  },
  {
   "cell_type": "raw",
   "metadata": {},
   "source": [
    "v_force = []\n",
    "\n",
    "import numpy as np\n",
    "for akm in np.arange(5.75, 10, 0.25):\n",
    "    force, add = calc_force(akm=akm)\n",
    "    print (\"akm=\", akm, force, add)\n",
    "    v_force += [(akm, force)]\n",
    "    \n",
    "jx= 0 -0.25499853427162206 -0.25499853427162206\n",
    "jx= 1 -0.1900519691137097 -0.44505050338533175\n",
    "jx= 2 0.1497700912486924 -0.29528041213663936\n",
    "jx= 3 0.10984938594209281 -0.18543102619454654\n",
    "jx= 4 0.05987674723550951 -0.12555427895903704\n",
    "jx= 5 0.034275360662719905 -0.09127891829631712\n",
    "jx= 6 0.021108898879889263 -0.07017001941642786\n",
    "jx= 7 0.013838265069842806 -0.05633175434658506\n",
    "jx= 8 0.009537940331071857 -0.0467938140155132\n",
    "jx= 9 0.006843397015332864 -0.03995041700018034\n",
    "jx= 10 0.005072966324226076 -0.03487745067595426\n",
    "jx= 11 0.0038632004392247558 -0.031014250236729508\n",
    "jx= 12 0.003009031205760161 -0.028005219030969346\n",
    "jx= 13 0.0023890128632249336 -0.02561620616774441\n",
    "jx= 14 0.0019281846080808787 -0.02368802155966353\n",
    "jx= 15 0.0015786039185492397 -0.022109417641114293\n",
    "jx= 16 0.0013086435295173128 -0.02080077411159698\n",
    "jx= 17 0.0010968793211988185 -0.01970389479039816\n",
    "jx= 18 0.0009284394777852043 -0.018775455312612956\n",
    "jx= 19 0.0007927959550856994 -0.017982659357527256\n",
    "jx= 20 0.000682332513796295 -0.01730032684373096\n",
    "jx= 21 0.000591472178841881 -0.01670885466488908\n",
    "jx= 22 0.0005160548759623054 -0.016192799788926775\n",
    "jx= 23 0.0004529329420110391 -0.015739866846915737\n",
    "jx= 24 0.0003997007536401484 -0.01534016609327559\n",
    "jx= 25 0.0003544930542198587 -0.01498567303905573\n",
    "jx= 26 0.0003158483496037066 -0.014669824689452025\n",
    "jx= 27 0.0002826277447141971 -0.014387196944737828\n",
    "jx= 28 0.00025390785897814815 -0.01413328908575968\n",
    "jx= 29 0.00022895110524799022 -0.013904337980511688\n",
    "jx= 30 0.0002071614647900619 -0.013697176515721627\n",
    "akm= 5.75 -0.013697176515721627 0.0002071614647900619\n",
    "jx= 0 -0.25769955661821414 -0.25769955661821414\n",
    "jx= 1 -0.23344219287344853 -0.49114174949166267\n",
    "jx= 2 0.14916435145090204 -0.34197739804076066\n",
    "jx= 3 0.12464087369718661 -0.21733652434357403\n",
    "jx= 4 0.0698696885805208 -0.14746683576305325\n",
    "jx= 5 0.04035105234444529 -0.10711578341860796\n",
    "jx= 6 0.024936886332369852 -0.0821788970862381\n",
    "jx= 7 0.01637350193070385 -0.06580539515553425\n",
    "jx= 8 0.01129433323042876 -0.05451106192510549\n",
    "jx= 9 0.008107141127365138 -0.046403920797740354"
   ]
  },
  {
   "cell_type": "raw",
   "metadata": {},
   "source": [
    "force, add = calc_force(akm=6, jx_0=10, f_0=-0.046403920797740354)\n",
    "print (\"akm=\", 6, force, add)\n",
    "\n",
    "jx= 10 0.006011320777360414 -0.04039260002037994\n",
    "jx= 11 0.0045785092744763615 -0.03581409074590358\n",
    "jx= 12 0.003566536526183691 -0.03224755421971989\n",
    "jx= 13 0.002831834487851854 -0.02941571973186804\n",
    "jx= 14 0.0022856938440161383 -0.027130025887851898\n",
    "jx= 15 0.0018713707340376727 -0.025258655153814227\n",
    "jx= 16 0.0015513817539668858 -0.02370727339984734\n",
    "jx= 17 0.0013003596251298306 -0.02240691377471751\n",
    "jx= 18 0.0011006882335955527 -0.021306225541121958\n",
    "jx= 19 0.0009398873011251223 -0.020366338239996836\n",
    "jx= 20 0.0008089354389188632 -0.019557402801077973\n",
    "jx= 21 0.0007012229941817119 -0.018856179806896262\n",
    "jx= 22 0.000611814517583275 -0.01824436528931299\n",
    "jx= 23 0.0005369820403671322 -0.017707383248945857\n",
    "jx= 24 0.0004738719018288839 -0.017233511347116974\n",
    "jx= 25 0.00042027839396978784 -0.016813232953147187\n",
    "jx= 26 0.0003744695926689787 -0.01643876336047821\n",
    "jx= 27 0.0003350849942428729 -0.016103678366235337\n",
    "jx= 28 0.0003010349718483679 -0.01580264339438697\n",
    "jx= 29 0.0002714464707504354 -0.015531196923636534\n",
    "jx= 30 0.0002456065660432048 -0.01528559035759333\n",
    "akm= 6 -0.01528559035759333 0.0002456065660432048"
   ]
  },
  {
   "cell_type": "code",
   "execution_count": null,
   "metadata": {},
   "outputs": [],
   "source": [
    "energy_density_difference, add, jx = calc_energy_density_difference(akm=6, jx_0=31, f_0=-0.01528559035759333)\n",
    "print (\"akm=\", 6, energy_density_difference, add, jx)"
   ]
  },
  {
   "cell_type": "raw",
   "metadata": {},
   "source": [
    "v_force = []\n",
    "\n",
    "import numpy as np\n",
    "for akm in np.arange(6.25, 10, 0.25):\n",
    "    force, add = calc_force(akm=akm)\n",
    "    print (\"akm=\", akm, force, add)\n",
    "    v_force += [(akm, force)]\n",
    "    \n",
    "jx= 0 -0.2598872029512377 -0.2598872029512377\n",
    "jx= 1 -0.2758566939600233 -0.535743896911261\n",
    "jx= 2 0.14359791216916729 -0.3921459847420937\n",
    "jx= 3 0.13966124199704263 -0.25248474274505106\n",
    "jx= 4 0.08079773858686803 -0.17168700415818303\n",
    "jx= 5 0.04713083795050196 -0.12455616620768106\n",
    "jx= 6 0.029241118788726435 -0.09531504741895463\n",
    "jx= 7 0.019233884504429626 -0.076081162914525\n",
    "jx= 8 0.013279388519257097 -0.0628017743952679\n",
    "jx= 9 0.009536760487143784 -0.053265013908124124\n",
    "jx= 10 0.0070734231202352164 -0.04619159078788891\n",
    "\n",
    "jx= 10 0.007073423120235221 -0.0461915907878893"
   ]
  },
  {
   "cell_type": "raw",
   "metadata": {},
   "source": [
    "v_force = []\n",
    "\n",
    "import numpy as np\n",
    "for akm in np.arange(6.25, 10, 0.25):\n",
    "    force, add = calc_force(akm=akm)\n",
    "    print (\"akm=\", akm, force, add)\n",
    "    v_force += [(akm, force)]\n",
    "    \n",
    "jx= 0 -0.2598872029512382 -0.2598872029512382\n",
    "jx= 1 -0.27585669396002344 -0.5357438969112616\n",
    "jx= 2 0.14359791216916737 -0.39214598474209417\n",
    "jx= 3 0.1396612419970427 -0.2524847427450515\n",
    "jx= 4 0.08079773858686808 -0.17168700415818344\n",
    "jx= 5 0.04713083795050198 -0.12455616620768147\n",
    "jx= 6 0.029241118788726445 -0.09531504741895502\n",
    "jx= 7 0.019233884504429623 -0.07608116291452541\n",
    "jx= 8 0.013279388519257094 -0.06280177439526831\n",
    "jx= 9 0.00953676048714379 -0.05326501390812452\n",
    "jx= 10 0.007073423120235221 -0.0461915907878893\n",
    "jx= 11 0.005388430173040118 -0.040803160614849183\n",
    "jx= 12 0.004197928930136558 -0.03660523168471262\n",
    "jx= 13 0.0033334182259579298 -0.03327181345875469\n",
    "jx= 14 0.002690687156921141 -0.03058112630183355\n",
    "jx= 15 0.0022030358446735224 -0.02837809045716003\n",
    "jx= 16 0.0018263847563057172 -0.026551705700854314\n",
    "jx= 17 0.0015308965586481103 -0.025020809142206203\n",
    "jx= 18 0.001295845522408093 -0.02372496361979811\n",
    "jx= 19 0.0011065435756253208 -0.02261842004417279\n",
    "jx= 20 0.0009523827382392968 -0.021666037305933493\n",
    "jx= 21 0.0008255755175449278 -0.020840461788388564\n",
    "jx= 22 0.0007203169769096441 -0.02012014481147892\n",
    "jx= 23 0.0006322149143974278 -0.01948792989708149\n",
    "jx= 24 0.0005579149088815151 -0.018930014988199975\n",
    "jx= 25 0.00049481714277081 -0.018435197845429165\n",
    "jx= 26 0.00044088466216643974 -0.017994313183262726\n",
    "jx= 27 0.0003945147166781705 -0.017599798466584556\n",
    "jx= 28 0.0003544276395122067 -0.017245370827072348\n",
    "jx= 29 0.0003195914524200315 -0.016925779374652315\n",
    "jx= 30 0.0002891753264144723 -0.016636604048237844\n",
    "akm= 6.25 -0.016636604048237844 0.0002891753264144723\n",
    "jx= 0 -0.2616584229425511 -0.2616584229425511\n",
    "jx= 1 -0.31666388094845815 -0.5783223038910092\n",
    "jx= 2 0.1327366328955273 -0.44558567099548196\n",
    "jx= 3 0.15455777258993775 -0.2910278984055442\n",
    "jx= 4 0.09263052813473305 -0.19839737027081117\n",
    "jx= 5 0.05464322019782254 -0.14375415007298864\n",
    "jx= 6 0.03405182043296992 -0.10970232964001872\n",
    "jx= 7 0.02244320464113206 -0.08725912499888666\n",
    "jx= 8 0.015510929555245592 -0.07174819544364107\n",
    "jx= 9 0.011145618038952108 -0.06060257740468896\n",
    "jx= 10 0.008269421968843407 -0.05233315543584555\n",
    "jx= 11 0.006300801151154673 -0.04603235428469088\n",
    "jx= 12 0.004909366479575091 -0.041122987805115786\n",
    "jx= 13 0.0038987055258187216 -0.03722428227929706\n",
    "jx= 14 0.0031471520838830948 -0.03407713019541397\n",
    "jx= 15 0.002576881249928544 -0.03150024894548542\n",
    "jx= 16 0.002136379957257757 -0.029363868988227664\n",
    "jx= 17 0.0017907790922060446 -0.02757308989602162\n",
    "jx= 18 0.0015158523564140752 -0.026057237539607543\n",
    "jx= 19 0.0012944276723753935 -0.02476280986723215\n",
    "jx= 20 0.0011141027102905137 -0.023648707156941638\n",
    "jx= 21 0.0009657692003584763 -0.02268293795658316\n",
    "jx= 22 0.000842641228772829 -0.02184029672781033\n",
    "jx= 23 0.0007395827215921072 -0.021100714006218223\n",
    "jx= 24 0.000652666959391785 -0.02044804704682644\n",
    "jx= 25 0.0005788551032172069 -0.019869191943609234\n",
    "jx= 26 0.0005157642374746269 -0.01935342770613461\n",
    "jx= 27 0.00046152008743450076 -0.018891907618700108\n",
    "jx= 28 0.00041462406762580816 -0.0184772835510743\n",
    "jx= 29 0.0003738735388626997 -0.0181034100122116\n",
    "jx= 30 0.0003382916236615607 -0.01776511838855004\n",
    "akm= 6.5 -0.01776511838855004 0.0003382916236615607\n",
    "jx= 0 -0.2630930006777796 -0.2630930006777796\n",
    "jx= 1 -0.3554176071395204 -0.6185106078172999\n",
    "jx= 2 0.11644374018490584 -0.502066867632394\n",
    "jx= 3 0.16893260843179211 -0.3331342592006019\n",
    "jx= 4 0.10531482068656596 -0.22781943851403597\n",
    "jx= 5 0.06291060140513609 -0.16490883710889986\n",
    "jx= 6 0.03939792230802608 -0.12551091480087379\n",
    "jx= 7 0.026025258162171255 -0.09948565663870253\n",
    "jx= 8 0.01800709129200997 -0.08147856534669255\n",
    "jx= 9 0.012947401967896286 -0.06853116337879626\n",
    "jx= 10 0.009609785517496102 -0.05892137786130016\n",
    "jx= 11 0.007323745437853075 -0.05159763242344709"
   ]
  },
  {
   "cell_type": "raw",
   "metadata": {},
   "source": [
    "force, add = calc_force(akm=6.75, jx_0=12, f_0=-0.05159763242344709)\n",
    "print (\"akm=\", 6.75, force, add)"
   ]
  },
  {
   "cell_type": "raw",
   "metadata": {},
   "source": [
    "v_force = []\n",
    "\n",
    "import numpy as np\n",
    "for akm in np.arange(7, 10, 0.25):\n",
    "    force, add = calc_force(akm=akm)\n",
    "    print (\"akm=\", akm, force, add)\n",
    "    v_force += [(akm, force)]\n",
    "    \n",
    "jx= 0 -0.26425594984922357 -0.26425594984922357\n",
    "jx= 1 -0.39183448902754364 -0.6560904388767672\n",
    "jx= 2 0.0947766780546085 -0.5613137608221587\n",
    "jx= 3 0.1823529070069875 -0.3789608538151712\n",
    "jx= 4 0.11877254404292106 -0.26018830977225016\n",
    "jx= 5 0.0719480802712109 -0.18824022950103925\n",
    "jx= 6 0.04530660030083178 -0.14293362920020747\n",
    "jx= 7 0.030003647116639443 -0.11292998208356803\n",
    "jx= 8 0.02078624272965625 -0.09214373935391178\n",
    "jx= 9 0.014956146783750037 -0.07718759257016174\n",
    "jx= 10 0.011105281945014337 -0.0660823106251474\n",
    "jx= 11 0.008465636960254786 -0.05761667366489261\n",
    "jx= 12 0.006598184357776844 -0.05101848930711577\n",
    "jx= 13 0.005240945280297927 -0.04577754402681784\n",
    "jx= 14 0.004231282073696856 -0.041546261953120986\n",
    "jx= 15 0.0034648907061509125 -0.03808137124697007\n",
    "jx= 16 0.0028727997822101496 -0.03520857146475992\n",
    "jx= 17 0.0024081979985808967 -0.03280037346617902\n",
    "jx= 18 0.0020385647060281466 -0.030761808760150874\n",
    "jx= 19 0.001740840670081996 -0.029020968090068877\n",
    "jx= 20 0.0014983626314084267 -0.027522605458660452\n",
    "jx= 21 0.001298894354277437 -0.026223711104383016\n",
    "jx= 22 0.0011333135890411363 -0.02509039751534188\n",
    "jx= 23 0.00099471264884786 -0.02409568486649402\n",
    "jx= 24 0.0008778219455937982 -0.023217862920900223\n",
    "jx= 25 0.0007785502778706793 -0.022439312643029542\n",
    "jx= 26 0.0006936995937707217 -0.02174561304925882\n",
    "jx= 27 0.0006207451247911054 -0.021124867924467713\n",
    "jx= 28 0.0005576650973085157 -0.0205672028271592\n",
    "jx= 29 0.000502864960299121 -0.02006433786686008\n",
    "jx= 30 0.0004550083692779921 -0.019609329497582085\n",
    "akm= 7.0 -0.019609329497582085 0.0004550083692779921\n",
    "jx= 0 -0.26519985623152964 -0.26519985623152964\n",
    "jx= 1 -0.42576553043960746 -0.6909653866711372\n",
    "jx= 2 0.06797056086843485 -0.6229948258027023\n",
    "jx= 3 0.1943635094154926 -0.42863131638720964\n",
    "jx= 4 0.13289931143878675 -0.2957320049484229\n",
    "jx= 5 0.08176231489809527 -0.21396969005032762\n",
    "jx= 6 0.0518027768840723 -0.1621669131662553\n",
    "jx= 7 0.034401581038452894 -0.12776533212780242\n",
    "jx= 8 0.02386689681125709 -0.10389843531654533\n",
    "jx= 9 0.01718615167013465 -0.08671228364641068\n",
    "jx= 10 0.012766959980130558 -0.07394532366628012\n",
    "jx= 11 0.009735102482889852 -0.06421022118339027\n",
    "jx= 12 0.007589003149993165 -0.056621218033397105\n",
    "jx= 13 0.006028689112457255 -0.05059252892093985"
   ]
  },
  {
   "cell_type": "raw",
   "metadata": {},
   "source": [
    "energy_density_difference, add, jx = calc_energy_density_difference(akm=7, jx_0=31, f_0=-0.019609329497582085)\n",
    "print (\"akm=\", 7, energy_density_difference, add, jx)\n",
    "\n",
    "jx= 31 0.00041303727924585083 -0.019196292218336235\n",
    "jx= 32 0.0003760735212802494 -0.018820218697055986\n",
    "jx= 33 0.00034339317855814407 -0.01847682551849784\n",
    "jx= 34 0.0003143921470581991 -0.01816243337143964\n",
    "jx= 35 0.00028857265860625543 -0.017873860712833388\n",
    "jx= 36 0.00026549919343413317 -0.017608361519399256\n",
    "jx= 37 0.00024482348667635153 -0.017363538032722906\n",
    "jx= 38 0.0002262404194810445 -0.01713729761324186\n",
    "jx= 39 0.00020949732544197649 -0.016927800287799884\n",
    "jx= 40 0.00019435684436273288 -0.016733443443437152\n",
    "jx= 41 0.00018065134595764517 -0.016552792097479507\n",
    "jx= 42 0.00016820650600752712 -0.01638458559147198\n",
    "jx= 43 0.0001568741243140224 -0.016227711467157957\n",
    "jx= 44 0.00014654515667977876 -0.01608116631047818\n",
    "jx= 45 0.000137120438108451 -0.01594404587236973\n",
    "jx= 46 0.00012844794352554316 -0.015815597928844186\n",
    "jx= 47 0.00012050949809828933 -0.015695088430745897"
   ]
  },
  {
   "cell_type": "code",
   "execution_count": null,
   "metadata": {},
   "outputs": [],
   "source": [
    "energy_density_difference, add, jx = calc_energy_density_difference(akm=7, jx_0=48, f_0=-0.015695088430745897)\n",
    "print (\"akm=\", 7, energy_density_difference, add, jx)"
   ]
  },
  {
   "cell_type": "raw",
   "metadata": {},
   "source": [
    "force, add = calc_force(akm=7.25, jx_0=14, f_0=-0.05059252892093985)\n",
    "print (\"akm=\", 7.25, force, add)\n",
    "\n",
    "jx= 14 0.004867676501823282 -0.04572485241911657\n",
    "jx= 15 0.003986255679866668 -0.0417385967392499\n",
    "jx= 16 0.0033052148290009494 -0.03843338191024895\n",
    "jx= 17 0.0027707680945663468 -0.0356626138156826\n",
    "jx= 18 0.0023455377367398718 -0.03331707607894273\n",
    "jx= 19 0.002003020899086077 -0.03131405517985665\n",
    "jx= 20 0.0017240455405497944 -0.029590009639306858\n",
    "jx= 21 0.0014945530507967963 -0.02809545658851006\n",
    "jx= 22 0.0013040335107951818 -0.026791423077714878\n",
    "jx= 23 0.0011445679095870892 -0.02564685516812779\n",
    "jx= 24 0.001010075956855549 -0.02463677921127224\n",
    "jx= 25 0.0008958468710542827 -0.023740932340217957\n",
    "jx= 26 0.0007982161010831437 -0.022942716239134815\n",
    "jx= 27 0.000714270875017014 -0.0222284453641178\n",
    "jx= 28 0.0006416969766690451 -0.021586748387448756\n",
    "jx= 29 0.0005786332293245605 -0.021008115158124195\n",
    "jx= 30 0.0005235670625174755 -0.02048454809560672\n",
    "akm= 7.25000000000000 -0.02048454809560672 0.0005235670625174755"
   ]
  },
  {
   "cell_type": "raw",
   "metadata": {},
   "source": [
    "v_energy_density_difference = []\n",
    "\n",
    "import numpy as np\n",
    "for akm in np.arange(7.5, 10, 0.25):\n",
    "    energy_density_difference, add = calc_energy_density_difference(akm=akm)\n",
    "    print (\"akm=\", akm, energy_density_difference, add)\n",
    "    v_energy_density_difference += [(akm, energy_density_difference)]\n",
    "    \n",
    "jx= 0 -0.26596706628095734 -0.26596706628095734\n",
    "jx= 1 -0.4571665063328974 -0.7231335726138548\n",
    "jx= 2 0.036411505808576224 -0.6867220668052786"
   ]
  },
  {
   "cell_type": "raw",
   "metadata": {},
   "source": [
    "energy_density_difference, add = calc_energy_density_difference(akm=7.5, jx_0=3, f_0=-0.6867220668052786)\n",
    "print (\"akm=\", 7.5, energy_density_difference, add)\n",
    "\n",
    "jx= 3 0.2045016553497808 -0.48222041145549777\n",
    "jx= 4 0.14756352405630474 -0.334656887399193\n",
    "jx= 5 0.09235031619316197 -0.24230657120603105\n",
    "jx= 6 0.05890858349405181 -0.18339798771197924\n",
    "jx= 7 0.03924164243908663 -0.14415634527289262\n",
    "jx= 8 0.027267600103096073 -0.11688874516979654\n",
    "jx= 9 0.019651934996534337 -0.0972368101732622\n",
    "jx= 10 0.014606118369066654 -0.08263069180419555\n",
    "jx= 11 0.011141001136227053 -0.0714896906679685\n",
    "jx= 12 0.008686732424394857 -0.06280295824357364\n",
    "jx= 13 0.006901655106684409 -0.05590130313688923\n",
    "jx= 14 0.0055730448177713585 -0.05032825831911787\n",
    "jx= 15 0.00456419815971816 -0.04576406015939971\n",
    "jx= 16 0.003784597668130509 -0.0419794624912692\n",
    "jx= 17 0.0031727486763212017 -0.038806713814948\n",
    "jx= 18 0.0026858985809473743 -0.036120815234000625\n",
    "jx= 19 0.0022937216061912186 -0.033827093627809404\n",
    "jx= 20 0.0019742894538468513 -0.03185280417396255\n",
    "jx= 21 0.0017115091532893898 -0.030141295020673163\n",
    "jx= 22 0.00149334843880904 -0.028647946581864123\n",
    "jx= 23 0.0013107373522747592 -0.027337209229589363\n",
    "jx= 24 0.0011567222277268272 -0.026180487001862537\n",
    "jx= 25 0.0010259186008086593 -0.025154568401053876\n",
    "jx= 26 0.0009141152455668141 -0.024240453155487063\n",
    "jx= 27 0.0008179839896504992 -0.023422469165836565"
   ]
  },
  {
   "cell_type": "raw",
   "metadata": {},
   "source": [
    "energy_density_difference, add = calc_energy_density_difference(akm=7.5, jx_0=28, f_0=-0.023422469165836565)\n",
    "print (\"akm=\", 7.5, energy_density_difference, add)\n",
    "\n",
    "jx= 28 0.0007348762030956874 -0.022687592962740876\n",
    "jx= 29 0.0006626548785315083 -0.02202493808420937\n",
    "jx= 30 0.0005995933336979223 -0.021425344750511447\n",
    "akm= 7.50000000000000 -0.021425344750511447 0.0005995933336979223"
   ]
  },
  {
   "cell_type": "raw",
   "metadata": {},
   "source": [
    "v_energy_density_difference = []\n",
    "\n",
    "import numpy as np\n",
    "for akm in np.arange(7.75, 10, 0.25):\n",
    "    energy_density_difference, add = calc_energy_density_difference(akm=akm)\n",
    "    print (\"akm=\", akm, energy_density_difference, add)\n",
    "    v_energy_density_difference += [(akm, energy_density_difference)]\n",
    "    \n",
    "jx= 0 -0.266591563059243 -0.266591563059243\n",
    "jx= 1 -0.4860706348126242 -0.7526621978718672\n",
    "jx= 2 0.0006036516789353474 -0.7520585461929318\n",
    "jx= 3 0.21231281344386127 -0.5397457327490705\n",
    "jx= 4 0.1626062234698514 -0.377139509279219\n",
    "jx= 5 0.10369832439223856 -0.27344118488698044\n",
    "jx= 6 0.06664280629615979 -0.20679837859082065\n",
    "jx= 7 0.044545547768911835 -0.1622528308219088\n",
    "jx= 8 0.031006828489012508 -0.1312460023328963\n",
    "jx= 9 0.0223681875402215 -0.10887781479267479\n",
    "jx= 10 0.016634257472311103 -0.09224355732036368\n",
    "jx= 11 0.012692386894717758 -0.07955117042564593\n",
    "jx= 12 0.009898596531405322 -0.06965257389424061\n",
    "jx= 13 0.007865664305179093 -0.061786909589061516\n",
    "jx= 14 0.006352130801646962 -0.055434778787414554\n",
    "jx= 15 0.005202625333102442 -0.05023215345431211\n",
    "jx= 16 0.004314202841106692 -0.045917950613205416\n",
    "jx= 17 0.0036168713365815753 -0.04230107927662384\n",
    "jx= 18 0.0030619604934119396 -0.0392391187832119\n",
    "jx= 19 0.002614930507043744 -0.03662418827616816\n",
    "jx= 20 0.002250803924692069 -0.03437338435147609\n",
    "jx= 21 0.001951250425815961 -0.03242213392566013"
   ]
  },
  {
   "cell_type": "raw",
   "metadata": {},
   "source": [
    "energy_density_difference, add = calc_energy_density_difference(akm=7.75, jx_0=22, f_0=-0.03242213392566013)\n",
    "print (\"akm=\", 7.75, energy_density_difference, add)\n",
    "\n",
    "jx= 22 0.0017025573628475271 -0.030719576562812604\n",
    "jx= 23 0.0014943652757129292 -0.029225211287099675\n",
    "jx= 24 0.0013187840579488175 -0.027906427229150856"
   ]
  },
  {
   "cell_type": "raw",
   "metadata": {},
   "source": [
    "energy_density_difference, add = calc_energy_density_difference(akm=7.75, jx_0=25, f_0=-0.027906427229150856)\n",
    "print (\"akm=\", 7.75, energy_density_difference, add)\n",
    "\n",
    "jx= 25 0.0011696615720012938 -0.026736765657149563\n",
    "jx= 26 0.0010421987467809641 -0.0256945669103686\n",
    "jx= 27 0.0009326010417663623 -0.024761965868602236\n",
    "jx= 28 0.0008378464451470088 -0.023924119423455226\n",
    "jx= 29 0.000755509936767039 -0.023168609486688186\n",
    "jx= 30 0.0006836130503522742 -0.022484996436335912\n",
    "akm= 7.75000000000000 -0.022484996436335912 0.0006836130503522742"
   ]
  },
  {
   "cell_type": "raw",
   "metadata": {},
   "source": [
    "v_energy_density_difference = []\n",
    "\n",
    "import numpy as np\n",
    "for akm in np.arange(8, 10, 0.25):\n",
    "    energy_density_difference, add = calc_energy_density_difference(akm=akm)\n",
    "    print (\"akm=\", akm, energy_density_difference, add)\n",
    "    v_energy_density_difference += [(akm, energy_density_difference)]\n",
    "    \n",
    "jx= 0 -0.26710061232962445 -0.26710061232962445\n",
    "jx= 1 -0.5125652916534408 -0.7796659039830652\n",
    "jx= 2 -0.03886627434437205 -0.8185321783274373\n",
    "jx= 3 0.2173668162444744 -0.6011653620829629\n",
    "jx= 4 0.17784161261244608 -0.4233237494705168\n",
    "jx= 5 0.11578068324039675 -0.30754306623012007\n",
    "jx= 6 0.07502031234515671 -0.23252275388496335\n",
    "jx= 7 0.050333888708684174 -0.1821888651762792\n",
    "jx= 8 0.03510287371401217 -0.14708599146226703\n",
    "jx= 9 0.025349695212630786 -0.12173629624963625\n",
    "jx= 10 0.018863150589366065 -0.10287314566027018\n",
    "jx= 11 0.01439859456769932 -0.08847455109257087\n",
    "jx= 12 0.011232006731105238 -0.07724254436146563\n",
    "jx= 13 0.008926669282713974 -0.06831587507875166\n",
    "jx= 14 0.007209787722596911 -0.06110608735615475\n",
    "jx= 15 0.0059055744081302295 -0.05520051294802452\n",
    "jx= 16 0.004897397225056203 -0.05030311572296832\n",
    "jx= 17 0.004105951149690476 -0.04619716457327784\n",
    "jx= 18 0.0034761362942202917 -0.04272102827905755\n",
    "jx= 19 0.0029686832638842688 -0.03975234501517328\n",
    "jx= 20 0.002555345842218234 -0.03719699917295505\n",
    "jx= 21 0.0022152838871998767 -0.03498171528575517\n",
    "jx= 22 0.0019329888441722309 -0.033048726441582944\n",
    "jx= 23 0.0016966345104043703 -0.03135209193117858\n",
    "jx= 24 0.0014972970121200089 -0.02985479491905857\n",
    "jx= 25 0.0013279932623643225 -0.028526801656694245\n",
    "jx= 26 0.0011832818635952157 -0.027343519793099028\n",
    "jx= 27 0.0010588542102332092 -0.026284665582865817\n",
    "jx= 28 0.0009512764126715195 -0.025333389170194297\n",
    "jx= 29 0.000857794123309313 -0.024475595046884985\n",
    "jx= 30 0.00077616588130116 -0.023699429165583825\n",
    "akm= 8.0 -0.023699429165583825 0.00077616588130116\n",
    "jx= 0 -0.26751608239750163 -0.26751608239750163\n",
    "jx= 1 -0.5367726311269665 -0.8042887135244681\n",
    "jx= 2 -0.08136371610589749 -0.8856524296303656\n",
    "jx= 3 0.2192732377128795 -0.6663791919174862\n",
    "jx= 4 0.19305857351830932 -0.47332061839917683\n",
    "jx= 5 0.1285588627528186 -0.34476175564635825\n",
    "jx= 6 0.0840514063209371 -0.26071034932542114"
   ]
  },
  {
   "cell_type": "raw",
   "metadata": {},
   "source": [
    "energy_density_difference, add, jx = calc_energy_density_difference(akm=8, jx_0=31, f_0=-0.023699429165583825)\n",
    "print (\"akm=\", 8, energy_density_difference, add, jx)\n",
    "\n",
    "jx= 31 0.000704574243369438 -0.022994854922214387\n",
    "jx= 32 0.0006415220925190883 -0.0223533328296953\n",
    "jx= 33 0.000585777860067655 -0.021767554969627644\n",
    "jx= 34 0.0005363143173632576 -0.021231240652264387\n",
    "jx= 35 0.0004922546542998844 -0.020738985997964504\n",
    "jx= 36 0.0004528997534832633 -0.020286086244481243\n",
    "jx= 37 0.0004176470233203847 -0.01986843922116086\n",
    "jx= 38 0.0003859469164264738 -0.019482492304734384\n",
    "jx= 39 0.0003573760178527669 -0.019125116286881617\n",
    "jx= 40 0.0003315575350361049 -0.01879355875184551\n",
    "jx= 41 0.00030816785400184665 -0.018485390897843665\n",
    "jx= 42 0.0002869311536314627 -0.018198459744212202\n",
    "jx= 43 0.00026758146231648563 -0.017930878281895716\n",
    "jx= 44 0.00024996196393933166 -0.017680916317956385\n",
    "jx= 45 0.00023386435532240417 -0.01744705196263398\n",
    "jx= 46 0.00021914914414496403 -0.017227902818489016\n",
    "jx= 47 0.00020554232018788472 -0.01702236049830113\n",
    "jx= 48 0.000193095828193529 -0.0168292646701076\n",
    "jx= 49 0.0001816396305910272 -0.016647625039516573"
   ]
  },
  {
   "cell_type": "raw",
   "metadata": {},
   "source": [
    "energy_density_difference, add, jx = calc_energy_density_difference(akm=8, jx_0=50, f_0=-0.016647625039516573)\n",
    "print (\"akm=\", 8, energy_density_difference, add, jx)\n",
    "\n",
    "jx= 50 0.0001711027494998919 -0.01647652229001668\n",
    "jx= 51 0.00016133017735208183 -0.0163151921126646\n",
    "jx= 52 0.00015230235213667168 -0.01616288976052793\n",
    "jx= 53 0.00014393014492561514 -0.016018959615602315\n",
    "jx= 54 0.00013616235360788757 -0.015882797261994427\n",
    "jx= 55 0.000128943610559201 -0.015753853651435227\n",
    "jx= 56 0.00012222841602840066 -0.015631625235406826\n",
    "jx= 57 0.0001159696261677407 -0.015515655609239084\n",
    "jx= 58 0.00011013297317084542 -0.01540552263606824\n",
    "jx= 59 0.00010467073816674916 -0.01530085189790149\n",
    "jx= 60 9.957139191063418e-05 -0.015201280505990856\n",
    "jx= 61 9.480141373950297e-05 -0.015106479092251353\n",
    "jx= 62 9.032691401525282e-05 -0.0150161521782361"
   ]
  },
  {
   "cell_type": "raw",
   "metadata": {},
   "source": [
    "energy_density_difference, add = calc_energy_density_difference(akm=8.25, jx_0=7, f_0=-0.26071034932542114)\n",
    "print (\"akm=\", 8.25, energy_density_difference, add)\n",
    "\n",
    "jx= 7 0.05662582300989994 -0.2040845263155212\n",
    "jx= 8 0.03957367309557594 -0.16451085321994527\n",
    "jx= 9 0.02861134101593868 -0.1358995122040066\n",
    "jx= 10 0.021304645696890657 -0.11459486650711594\n",
    "jx= 11 0.016269056132725165 -0.09832581037439077\n",
    "jx= 12 0.01269455091254829 -0.08563125946184248\n",
    "jx= 13 0.010090849799914411 -0.07554040966192807\n",
    "jx= 14 0.008151074293689348 -0.06738933536823873\n",
    "jx= 15 0.006677172747288559 -0.060712162620950166\n",
    "jx= 16 0.00553762454195414 -0.05517453807899603\n",
    "jx= 17 0.004642960524789483 -0.05053157755420654\n",
    "jx= 18 0.003930887511255404 -0.046600690042951136\n",
    "jx= 19 0.0033571687245888306 -0.0432435213183623\n",
    "jx= 20 0.0028898024935070108 -0.04035371882485529\n",
    "jx= 21 0.002505262373588075 -0.03784845645126722\n",
    "jx= 22 0.0021860090339620815 -0.03566244741730514\n",
    "jx= 23 0.0019187529836187202 -0.033743694433686425\n",
    "jx= 24 0.0016933330658322916 -0.032050361367854135\n",
    "jx= 25 0.0015018780935795411 -0.030548483274274594\n",
    "jx= 26 0.001338225058437835 -0.029210258215836758\n",
    "jx= 27 0.0011975067690859736 -0.028012751446750785\n",
    "jx= 28 0.0010758445107593227 -0.02693690693599146\n",
    "jx= 29 0.0009700856415663463 -0.025966821294425114\n",
    "jx= 30 0.0008777722702986406 -0.025089049024126474\n",
    "akm= 8.25000000000000 -0.025089049024126474 0.0008777722702986406"
   ]
  },
  {
   "cell_type": "raw",
   "metadata": {},
   "source": [
    "energy_density_difference, add = calc_energy_density_difference(akm=8.25, jx_0=31, f_0=-0.025089049024126474)\n",
    "print (\"akm=\", 8.25, energy_density_difference, add)\n",
    "\n",
    "jx= 31 0.0007968081450710093 -0.024292240879055464\n",
    "jx= 32 0.0007255021004922656 -0.023566738778563197\n",
    "jx= 33 0.000662489396630356 -0.02290424938193284\n",
    "jx= 34 0.0006065430422940968 -0.022297706339638745\n",
    "jx= 35 0.0005567219563900103 -0.021740984383248733\n",
    "jx= 36 0.000512205656043809 -0.021228778727204925\n",
    "jx= 37 0.0004723474367545786 -0.020756431290450347\n",
    "jx= 38 0.000436495837525537 -0.02031993545292481\n",
    "jx= 39 0.0004041831931064811 -0.01991575225981833\n",
    "jx= 40 0.0003749834324785671 -0.019540768827339763\n",
    "jx= 41 0.0003485226582577993 -0.019192246169081963\n",
    "jx= 42 0.00032450951036898243 -0.01886773665871298\n",
    "jx= 43 0.00030262811361714986 -0.01856510854509583\n",
    "jx= 44 0.0002826987510578893 -0.01828240979403794\n",
    "jx= 45 0.0002644937202212089 -0.01801791607381673\n",
    "jx= 46 0.0002478166030335792 -0.01777009947078315\n",
    "jx= 47 0.00023245601755604491 -0.017537643453227104\n",
    "jx= 48 0.00021837644884093967 -0.017319267004386164\n",
    "jx= 49 0.00020541857348345242 -0.01711384843090271\n",
    "jx= 50 0.00019346686352409803 -0.01692038156737861\n",
    "jx= 51 0.00018246116258620196 -0.016737920404792408\n",
    "akm= 8.25000000000000 -0.016737920404792408 0.00018246116258620196"
   ]
  },
  {
   "cell_type": "raw",
   "metadata": {},
   "source": [
    "energy_density_difference, add, jx = calc_energy_density_difference(akm=8.25, jx_0=52, f_0=-0.016737920404792408)\n",
    "print (\"akm=\", 8.25, energy_density_difference, add, jx)\n",
    "\n",
    "jx= 52 0.00017224904049974594 -0.016565671364292663\n",
    "jx= 53 0.00016278114566755506 -0.016402890218625107\n",
    "jx= 54 0.00015399560809744401 -0.016248894610527663\n",
    "jx= 55 0.00014583308546284383 -0.01610306152506482\n",
    "jx= 56 0.00013822906920729297 -0.015964832455857527\n",
    "jx= 57 0.00013114209522982226 -0.015833690360627706\n",
    "jx= 58 0.00012453993548359457 -0.015709150425144112\n",
    "jx= 59 0.00011837441455634321 -0.01559077601058777\n",
    "jx= 60 0.00011261335370856519 -0.015478162656879204\n",
    "jx= 61 0.00010721762189668842 -0.015370945034982516\n",
    "jx= 62 0.0001021578124794701 -0.015268787222503046\n",
    "jx= 63 9.74149410931802e-05 -0.015171372281409867\n",
    "jx= 64 9.296425703841505e-05 -0.01507840802437145"
   ]
  },
  {
   "cell_type": "code",
   "execution_count": null,
   "metadata": {},
   "outputs": [],
   "source": [
    "energy_density_difference, add, jx = calc_energy_density_difference(akm=8.25, jx_0=65, f_0=-0.01507840802437145)\n",
    "print (\"akm=\", 8.25, energy_density_difference, add, jx)\n"
   ]
  },
  {
   "cell_type": "raw",
   "metadata": {},
   "source": [
    "v_energy_density_difference = []\n",
    "\n",
    "import numpy as np\n",
    "for akm in np.arange(8.5, 10, 0.25):\n",
    "    energy_density_difference, add = calc_energy_density_difference(akm=akm)\n",
    "    print (\"akm=\", akm, energy_density_difference, add)\n",
    "    v_energy_density_difference += [(akm, energy_density_difference)]\n",
    "    \n",
    "jx= 0 -0.26785552504652643 -0.26785552504652643\n",
    "jx= 1 -0.5588355053729671 -0.8266910304194935\n",
    "jx= 2 -0.1262378804621373 -0.9529289108816308\n",
    "jx= 3 0.21769517069675182 -0.735233740184879\n",
    "jx= 4 0.20802300807766747 -0.5272107321072115\n",
    "jx= 5 0.14198070199658863 -0.38523003011062285\n",
    "jx= 6 0.0937413405374343 -0.2914886895731885\n",
    "jx= 7 0.06343887420953136 -0.22804981536365715"
   ]
  },
  {
   "cell_type": "raw",
   "metadata": {},
   "source": [
    "plt = sage.plot.graphics.Graphics()\n",
    "plt += list_plot (v_energy_density_difference)\n",
    "plt.show (title=\"Honeycomb Casimir energy_density_difference depending on $a k_m$\")"
   ]
  },
  {
   "cell_type": "code",
   "execution_count": null,
   "metadata": {},
   "outputs": [],
   "source": []
  },
  {
   "cell_type": "markdown",
   "metadata": {},
   "source": [
    "Thus for the energy_density_difference per $cm^2$ we find"
   ]
  },
  {
   "cell_type": "markdown",
   "metadata": {},
   "source": [
    "\\begin{equation}\n",
    "\\delta\\,\\frac{E}{V} = \\frac{\\hbar\\,c\\,\\pi}{a^4}\n",
    "\\int\\limits_{0}^{\\infty}{\n",
    "\\left\\{\n",
    "\\sum\\limits_{n_x=\\left(0\\right)\\,1}^{\\infty}\n",
    "\\sum\\limits_{n_y=\\left(0\\right)\\,1}^{\\infty}\n",
    "F\\left(n_x, n_y\\right)\n",
    "-\n",
    "\\int\\limits_{0}^{\\infty}\n",
    "\\int\\limits_{0}^{\\infty}\n",
    "F\\left(n_x, n_y\\right)\\,d{n_x}\\,d{n_y}\n",
    "\\right\\}\n",
    "}\\,d{u}\n",
    "\\end{equation}"
   ]
  },
  {
   "cell_type": "markdown",
   "metadata": {},
   "source": [
    "According to our calculation we can see that "
   ]
  },
  {
   "cell_type": "markdown",
   "metadata": {},
   "source": [
    "\\begin{equation}\n",
    "\\int\\limits_{0}^{\\infty}{\n",
    "\\left\\{\n",
    "\\sum\\limits_{n_x=\\left(0\\right)\\,1}^{\\infty}\n",
    "\\sum\\limits_{n_y=\\left(0\\right)\\,1}^{\\infty}\n",
    "F\\left(n_x, n_y\\right)\n",
    "-\n",
    "\\int\\limits_{0}^{\\infty}\n",
    "\\int\\limits_{0}^{\\infty}\n",
    "F\\left(n_x, n_y\\right)\\,d{n_x}\\,d{n_y}\n",
    "\\right\\}\n",
    "}\\,d{u} \\approx R\\left(a k_m\\right)\n",
    "\\end{equation}"
   ]
  },
  {
   "cell_type": "markdown",
   "metadata": {},
   "source": [
    "Where $R\\left(a k_m\\right)$ is some material specific value. So"
   ]
  },
  {
   "cell_type": "markdown",
   "metadata": {},
   "source": [
    "$\\delta\\,\\frac{E}{V} \\approx R\\left(a k_m\\right)\\,\\frac{\\hbar\\,c\\,\\pi}{a^4}$"
   ]
  },
  {
   "cell_type": "markdown",
   "metadata": {},
   "source": [
    "For the energy_density_difference per $cm^2$ we find"
   ]
  },
  {
   "cell_type": "markdown",
   "metadata": {},
   "source": [
    "$\\delta\\,\\frac{E}{V} = \\hbar\\,c\\, \\pi\\frac{R}{a^4}\\,=\\,0.02\\,\\frac{1}{a_{\\mu}^4}\\,dyne/cm^2$"
   ]
  },
  {
   "cell_type": "markdown",
   "metadata": {},
   "source": [
    "where $a_{\\mu}$ is the distance measured in microns. "
   ]
  },
  {
   "cell_type": "code",
   "execution_count": null,
   "metadata": {},
   "outputs": [],
   "source": [
    "# https://en.wikipedia.org/wiki/Planck_constant\n",
    "hbar_c = 3.16152677*10^(-26) # J⋅m"
   ]
  },
  {
   "cell_type": "raw",
   "metadata": {},
   "source": [
    "1 Joule = 10^7 erg\n",
    "1 Dyne = 10^-5 Newton\n",
    "1 m = 100 sm\n",
    "1 sm = 10^4 microns"
   ]
  },
  {
   "cell_type": "code",
   "execution_count": null,
   "metadata": {},
   "outputs": [],
   "source": [
    "hbar_c_sgs = hbar_c * 10^7 * 10^2 # erg * sm\n",
    "one_microns_as_sm = 10^-4"
   ]
  },
  {
   "cell_type": "code",
   "execution_count": null,
   "metadata": {},
   "outputs": [],
   "source": [
    "(hbar_c_sgs*pi*0.021425344750511447).n() / (one_microns_as_sm)^4"
   ]
  },
  {
   "cell_type": "markdown",
   "metadata": {},
   "source": [
    "Can this difference of specific energy density $\\delta\\,\\frac{E}{V}$ be interpreted as the cause of the force $F$ applied to perfectly conducting honeycomb on a plate? For example my investigations of the original Casimir's configuration shown that in geometric configuration of two perfectly conducting plates $F = -3 \\cdot \\delta\\,\\frac{E}{V}$. But what about honeycomb configutation?"
   ]
  },
  {
   "cell_type": "markdown",
   "metadata": {},
   "source": [
    "Let's consider rectangular resonator."
   ]
  },
  {
   "cell_type": "markdown",
   "metadata": {},
   "source": [
    "In electric mode $\\nabla\\,\\vec{E} + \\frac{\\omega^2}{c^2}\\,\\vec{E} = 0$ we have the following \n",
    "\n",
    "$$E_{x} = A_{x} \\cos\\left(\\frac{\\pi n_{x} x}{a}\\right) \\sin\\left(\\frac{\\pi n_{y} y}{b}\\right) \\sin\\left(k_{z} z\\right)$$\n",
    "$$E_{y} = A_{y} \\cos\\left(\\frac{\\pi n_{y} y}{b}\\right) \\sin\\left(\\frac{\\pi n_{x} x}{a}\\right) \\sin\\left(k_{z} z\\right)$$\n",
    "$$E_{z} = A_{z} \\cos\\left(k_{z} z\\right) \\sin\\left(\\frac{\\pi n_{x} x}{a}\\right) \\sin\\left(\\frac{\\pi n_{y} y}{b}\\right)$$\n",
    "\n",
    "and \n",
    "\n",
    "$$H_{x} = \\frac{i \\, {\\left(A_{y} b k_{z} - \\pi A_{z} n_{y}\\right)} c \\cos\\left(\\frac{\\pi n_{y} y}{b}\\right) \\cos\\left(k_{z} z\\right) \\sin\\left(\\frac{\\pi n_{x} x}{a}\\right)}{b \\mu \\omega}$$\n",
    "$$H_{y} = -\\frac{i \\, {\\left(A_{x} k_{z} - \\frac{\\pi A_{z} n_{x}}{a}\\right)} c \\cos\\left(\\frac{\\pi n_{x} x}{a}\\right) \\cos\\left(k_{z} z\\right) \\sin\\left(\\frac{\\pi n_{y} y}{b}\\right)}{\\mu \\omega}$$\n",
    "$$H_{z} = -\\frac{i \\, {\\left(\\frac{\\pi A_{y} n_{x}}{a} - \\frac{\\pi A_{x} n_{y}}{b}\\right)} c \\cos\\left(\\frac{\\pi n_{x} x}{a}\\right) \\cos\\left(\\frac{\\pi n_{y} y}{b}\\right) \\sin\\left(k_{z} z\\right)}{\\mu \\omega}$$\n",
    "\n",
    "with\n",
    "\n",
    "$$k_{z}^{2} + \\frac{\\pi^{2} n_{x}^{2}}{a^{2}} + \\frac{\\pi^{2} n_{y}^{2}}{a^{2}} - \\frac{\\omega^{2}}{c^{2}} = 0$$\n",
    "\n",
    "\n",
    "using $div\\,\\vec{E} = 0$ we have\n",
    "\n",
    "$$A_{z} k_{z} + \\frac{\\pi A_{x} n_{x}}{a} + \\frac{\\pi A_{y} n_{y}}{a} = 0$$\n",
    "\n",
    "Field energy density $\\frac{\\int \\frac{E_x^2+E_y^2+E_z^2}{8 \\pi}dV}{V}$ is\n",
    "\n",
    "$$\\frac{E}{V} = \\frac{{\\left(A_{x}^{2} + A_{y}^{2} + A_{z}^{2}\\right)} a b h}{64 \\, \\pi}$$"
   ]
  },
  {
   "cell_type": "code",
   "execution_count": null,
   "metadata": {},
   "outputs": [],
   "source": []
  },
  {
   "cell_type": "markdown",
   "metadata": {},
   "source": [
    "In magnetic mode $\\nabla\\,\\vec{H} + \\frac{\\omega^2}{c^2}\\,\\vec{H} = 0$ we have the following solution\n",
    "\n",
    "$$H_{x} = B_{1} \\cos\\left(\\frac{\\pi n_{y} y}{b}\\right) \\cos\\left(k_{z} z\\right) \\sin\\left(\\frac{\\pi n_{x} x}{a}\\right)$$\n",
    "$$H_{y} = B_{2} \\cos\\left(\\frac{\\pi n_{x} x}{a}\\right) \\cos\\left(k_{z} z\\right) \\sin\\left(\\frac{\\pi n_{y} y}{b}\\right)$$\n",
    "$$H_{z} = B_{3} \\cos\\left(\\frac{\\pi n_{x} x}{a}\\right) \\cos\\left(\\frac{\\pi n_{y} y}{b}\\right) \\sin\\left(k_{z} z\\right)$$\n",
    "\n",
    "and \n",
    "\n",
    "$$E_{x} = \\frac{i \\, {\\left(B_{2} k_{z} - \\frac{\\pi B_{3} n_{y}}{b}\\right)} c \\cos\\left(\\frac{\\pi n_{x} x}{a}\\right) \\sin\\left(\\frac{\\pi n_{y} y}{b}\\right) \\sin\\left(k_{z} z\\right)}{\\mu \\omega}$$\n",
    "$$E_{y} = -\\frac{i \\, {\\left(B_{1} k_{z} - \\frac{\\pi B_{3} n_{x}}{a}\\right)} c \\cos\\left(\\frac{\\pi n_{y} y}{b}\\right) \\sin\\left(\\frac{\\pi n_{x} x}{a}\\right) \\sin\\left(k_{z} z\\right)}{\\mu \\omega}$$\n",
    "$$E_{z} = -\\frac{i \\, {\\left(\\frac{\\pi B_{2} n_{x}}{a} - \\frac{\\pi B_{1} n_{y}}{b}\\right)} c \\cos\\left(k_{z} z\\right) \\sin\\left(\\frac{\\pi n_{x} x}{a}\\right) \\sin\\left(\\frac{\\pi n_{y} y}{b}\\right)}{\\mu \\omega}$$\n",
    "\n",
    "with\n",
    "\n",
    "$$k_{z}^{2} + \\frac{\\pi^{2} n_{x}^{2}}{a^{2}} + \\frac{\\pi^{2} n_{y}^{2}}{a^{2}} - \\frac{\\omega^{2}}{c^{2}} = 0$$\n",
    "\n",
    "using $div\\,\\vec{H} = 0$ we have\n",
    "\n",
    "$$B_{3} k_{z} + \\frac{\\pi B_{1} n_{x}}{a} + \\frac{\\pi B_{2} n_{y}}{a} = 0$$\n",
    "\n",
    "Field energy density $\\frac{\\int \\frac{H_x^2+H_y^2+H_z^2}{8 \\pi}dV}{V}$ is\n",
    "\n",
    "$$\\frac{E}{V} = \\frac{{\\left(B_{1}^{2} + B_{2}^{2} + B_{3}^{2}\\right)}}{64 \\, \\pi}$$\n",
    "\n",
    "Electromagnetic pressure on $xy$ plate $\\frac{\\int \\frac {H_x^2+H_y^2}{8 \\pi} dS}{S}$ is\n",
    "\n",
    "$$\\frac{f_z}{S}=\\frac{{\\left(B_{1}^{2} + B_{2}^{2}\\right)}}{32 \\, \\pi}$$\n",
    "\n",
    "Their relation $\\frac{f_z/S}{E/V}$ is\n",
    "\n",
    "$$\\frac{f_z/S}{E/V} = 2 \\, \\frac{{\\left(B_{1}^{2} + B_{2}^{2}\\right)}}{B_{1}^{2} + B_{2}^{2} + B_{3}^{2}}$$\n",
    "\n",
    "Considering terms with wave propagation in $z$ direction we have $E_z = 0$ which give:\n",
    "\n",
    "$$\\frac{\\pi B_{2} n_{x}}{a} - \\frac{\\pi B_{1} n_{y}}{a} = 0$$\n",
    "\n",
    "$$B_1 = -\\frac{B_{3} a k_{z} n_{x}}{\\pi n_{x}^{2} + \\pi n_{y}^{2}}$$\n",
    "$$B_2 = -\\frac{B_{3} a k_{z} n_{y}}{\\pi n_{x}^{2} + \\pi n_{y}^{2}}$$\n",
    "\n",
    "Relation of electromagnetic pressure per field energy density in this case is\n",
    "\n",
    "$$\\frac{f_z/S}{E/V} = \\frac{2 \\, a^{2} k_{z}^{2}}{a^{2} k_{z}^{2} + \\pi^{2} n_{x}^{2} + \\pi^{2} n_{y}^{2}}$$\n",
    "\n",
    "Considering terms with wave propagation in $x$ direction we have $E_x = 0$ which give:\n",
    "\n",
    "$$B_3 = -\\frac{\\pi B_{1} a k_{z} n_{x}}{a^{2} k_{z}^{2} + \\pi^{2} n_{y}^{2}}$$\n",
    "$$B_2 = -\\frac{\\pi^{2} B_{1} n_{x} n_{y}}{a^{2} k_{z}^{2} + \\pi^{2} n_{y}^{2}}$$\n",
    "\n",
    "Relation of electromagnetic pressure per field energy density in this case is\n",
    "\n",
    "$$\\frac{f_z/S}{E/V} = 2 \\, \\frac{ {\\left(a^{4} k_{z}^{4} + 2 \\, \\pi^{2} a^{2} k_{z}^{2} n_{y}^{2} + \\pi^{4} n_{x}^{2} n_{y}^{2} + \\pi^{4} n_{y}^{4}\\right)}}{a^{4} k_{z}^{4} + \\pi^{2} a^{2} k_{z}^{2} n_{x}^{2} + 2 \\, \\pi^{2} a^{2} k_{z}^{2} n_{y}^{2} + \\pi^{4} n_{x}^{2} n_{y}^{2} + \\pi^{4} n_{y}^{4}}$$\n",
    "\n",
    "Considering terms with wave propagation in $y$ direction is similar to them in $x$ direction"
   ]
  },
  {
   "cell_type": "markdown",
   "metadata": {},
   "source": [
    "So we see that task of precise calculation of electromagnetic force in the honeycomb configuration is not easy, because seems like we should apply to $\\frac{f_z/S}{E/V}$ both regulator function and Euler–Maclaurin 2D approach. So this is the task for next investigation.\n",
    "\n",
    "But it is clear that this force is nonzero and should correspond to the difference of specific energy density found in this work."
   ]
  },
  {
   "cell_type": "markdown",
   "metadata": {},
   "source": [
    "We are thus led to the following conclusions. There exists force to perfectly conducting honeycomb on a plate as result of a difference of specific energy density on its different sides. This force is dependent of the material of the plate. This force may be interpreted as a zero point pressure of electromagnetic waves."
   ]
  },
  {
   "cell_type": "markdown",
   "metadata": {},
   "source": [
    "Although the effect is smalI, an experimental confirmation seems not\n",
    "unfeasable and might be of a certain interest. "
   ]
  },
  {
   "cell_type": "markdown",
   "metadata": {},
   "source": [
    "Kharkov"
   ]
  },
  {
   "cell_type": "code",
   "execution_count": null,
   "metadata": {},
   "outputs": [],
   "source": [
    "# below are usefull reference"
   ]
  },
  {
   "cell_type": "markdown",
   "metadata": {},
   "source": [
    "30 January 2019\n",
    "\n",
    "Metal nano-honeycomb fabricated by colloidal assembly and femtosecond-laser annealing\n",
    "\n",
    "https://www.spiedigitallibrary.org/conference-proceedings-of-spie/10841/108410A/Metal-nano-honeycomb-fabricated-by-colloidal-assembly-and-femtosecond-laser/10.1117/12.2508593.full?SSO=1"
   ]
  },
  {
   "cell_type": "markdown",
   "metadata": {},
   "source": [
    "Bio-Inspired Engineering of Honeycomb Structure - Using Nature to Inspire Human Innovation\n",
    "\n",
    "https://www.researchgate.net/figure/Mechanical-behavior-of-micro-and-nano-honeycomb-materials_tbl1_280239925"
   ]
  },
  {
   "cell_type": "markdown",
   "metadata": {},
   "source": [
    "Nano-honeycomb structures for optimal energy absorption: numerical analysis and experiments\n",
    "\n",
    "https://www.alliedacademies.org/articles/nanohoneycomb-structures-for-optimal-energy-absorption-numerical-analysisand-experiments-8375.html"
   ]
  },
  {
   "cell_type": "code",
   "execution_count": null,
   "metadata": {},
   "outputs": [],
   "source": []
  },
  {
   "cell_type": "markdown",
   "metadata": {},
   "source": [
    "Уже практически при подготовке данного моего расчета к релизу я обнаружил, что уже предложена идея использования силы Казимира для создания тяги в устройстве:"
   ]
  },
  {
   "cell_type": "markdown",
   "metadata": {},
   "source": [
    "Антипин Александр Вениаминович"
   ]
  },
  {
   "cell_type": "markdown",
   "metadata": {},
   "source": [
    "СПОСОБ ПРИВЕДЕНИЯ В ДВИЖЕНИЕ ТЕЛ ПРИ ПОМОЩИ ЭФФЕКТА КАЗИМИРА И/ИЛИ\n",
    "ЕГО АНАЛОГОВ\n",
    "\n",
    "https://rusneb.ru/catalog/000224_000128_0002610018_20170207_C2_RU/"
   ]
  },
  {
   "cell_type": "markdown",
   "metadata": {},
   "source": [
    "ДВИГАТЕЛЬ НА ЭНЕРГИИ ВАКУУМА\n",
    "\n",
    "https://www.youtube.com/watch?v=YvDlQnpodeU"
   ]
  },
  {
   "cell_type": "markdown",
   "metadata": {},
   "source": [
    "11-23 Зигелевские чтения 47 - Антипин - Доступ к энергии нулевой точки - Глобальная Волна\n",
    "\n",
    "https://www.youtube.com/watch?v=HtyEOxpFMPk"
   ]
  },
  {
   "cell_type": "markdown",
   "metadata": {},
   "source": [
    "А.В. Антипин. Доступ к энергии нулевой точки\n",
    "\n",
    "https://www.youtube.com/watch?v=2-Cw9oBFHNM"
   ]
  },
  {
   "cell_type": "markdown",
   "metadata": {},
   "source": [
    "ИСПОЛЬЗОВАНИЕ СИЛЫ КАЗИМИРА ДЛЯ УПРАВЛЯЕМОГО ДВИЖЕНИЯ МАКРОТЕЛ\n",
    "\n",
    "https://science.snauka.ru/2014/03/6710"
   ]
  },
  {
   "cell_type": "markdown",
   "metadata": {},
   "source": [
    "Автор справедливо предполагает возможность возникновения силы тяги вследствие эффекта Казимира в геометрии плоских, но не параллельных пластин.\n",
    "\n",
    "В качестве рабочего элемента автор предлагает «уголок» в виде буквы V, которые можно собирать в панели, которые в плане будет выглядеть как сборка уголков: «VVV…VVV».\n",
    "\n",
    "Автор приводит оценочный расчёт силы тяги «уголка» при помощи формулы Казимира, «при самых общих и естественных приближениях, известных, как PFA (Proximity Force Approximation), или PAA (Pairwise Additive Approximation), способ расчёта [5], [6]».\n",
    "\n",
    "$$F_{тяги} = - \\frac {\\pi^2 \\hbar c b}{1440} \\frac{cos 2 \\alpha}{\\left( cos \\alpha \\right)^4} \\left(\\frac{1}{L_{min}^3}-\\frac{1}{L_{max}^3}\\right)$$\n",
    "\n",
    "Fтяги [дин] ~ 217 * b / (Lmin)^3, где b измеряется в [см], а Lmin в [нм].\n",
    "\n",
    "где b – «длина» уголка (буквы V «вглубь» страницы), Lmin - расстояние между сторонами уголка по уровню Zmin, Lmax - расстояние между сторонами уголка по уровню Zmax.\n"
   ]
  },
  {
   "cell_type": "code",
   "execution_count": null,
   "metadata": {},
   "outputs": [],
   "source": [
    "L = 2\n",
    "l = 1\n",
    "dy = 0.05\n",
    "\n",
    "def draw_V(x0):\n",
    "    arrowsize = 2.5\n",
    "\n",
    "    # tangent alpha\n",
    "    tn = l/L\n",
    "\n",
    "    tn2 = tan(atan(tn)/2) \n",
    "    \n",
    "    # V\n",
    "    p = line ([[x0+l,L], [x0,0]],   color = \"green\")\n",
    "    p += line ([[x0,0],   [x0-l,L]], color = \"green\")\n",
    "\n",
    "    p += line ([[x0+l*0.9,L*0.9],   [x0-l*0.9,L*0.9]], linestyle=\"dashed\")\n",
    "    p += text(\"$a$\", [x0,0+L*0.95], fontsize=14)\n",
    "\n",
    "    # V force\n",
    "    p += arrow ([x0-l/2,L/2], [x0,L/2+l/2*tn], color = \"green\", arrowsize=arrowsize)\n",
    "    p += arrow ([x0-l/2,L/2], [x0,L/2], color = \"green\", arrowsize=arrowsize)\n",
    "    p += arrow ([x0-l/2,L/2], [x0-l/2,L/2+l/2*tn+dy], color = \"green\", arrowsize=arrowsize)\n",
    "    p += text(\"$F_c$\", [x0+dy,L/2+l/2*tn+dy], color = \"green\", fontsize=14)\n",
    "    p += text(\"$F_{тяги}$\", [x0-l/2+dy,L/2+l/2*tn+2*dy], color = \"green\", fontsize=14)\n",
    "    \n",
    "    p += line ([[x0, 0],[x0,L/3]], linestyle=\"dashed\")\n",
    "    p += text(\"$\\\\alpha$\", [x0-l/2*tn2,0+l/2], fontsize=14)\n",
    "    p += text(\"$l$\", [x0+l/2+2*dy, L/2], fontsize=14)\n",
    "\n",
    "    return p\n",
    "\n",
    "p = draw_V(x0 = 0)\n",
    "\n",
    "p.show(aspect_ratio = 1, axes=False)"
   ]
  },
  {
   "cell_type": "markdown",
   "metadata": {},
   "source": [
    "Автор не приводит вывода формулы тяги для уголка, поэтому пытаюсь его воспроизвести\n",
    "\n",
    "Casimir's interaction energy is given by\n",
    "$$\\delta\\,E/L^2 = \\hbar\\,c\\frac{\\pi^2}{4\\,a^3}\\left\\{\\frac{-4}{24\\times30}\\right\\}$$\n",
    "\n",
    "For the force per $cm^2$ we find\n",
    "$$F = \\hbar\\,c\\frac{-3\\,\\pi^2}{4\\,a^4}\\left\\{\\frac{-4}{24\\times30}\\right\\}$$\n",
    "\n",
    "В дальнейших моих выкладках я оставлю величину в фигурных скобках из оригинальной работы Казимира не сокращаемой, потому как при более аккуратном (с учётом остаточного члена) выводе формулы силы Казимира эта величина на самом деле не константа, а величина переменная, зависящая от $a\\,k_m$\n",
    "\n",
    "$$F_{c} = \\frac {\\pi^2}{240} \\frac { \\hbar c}{a^4}$$\n",
    "\n",
    "$$F_{тяги} = 2 \\int F_{c} \\, sin\\, \\alpha \\,dS$$\n",
    "\n",
    "$$dS = b\\,dz$$\n",
    "\n",
    "$$F_{тяги} = 2\\, \\frac{-3\\,\\pi^2\\hbar c b}{4}\\int\\limits_{z_{min}}^{z_{max}} \\left\\{\\frac{-4}{24\\times30}\\right\\}\\frac{sin\\, \\alpha}{\\left(a\\left(z\\right)\\right)^4}dz$$\n",
    "\n",
    "делаем подстановку\n",
    "\n",
    "$$a\\left(z\\right) = 2\\,z\\,tg\\, \\alpha$$\n",
    "\n",
    "$$F_{тяги} = 2\\, \\frac{-3\\,\\pi^2\\hbar c b}{4}\\int\\limits_{z_{min}}^{z_{max}} \\left\\{\\frac{-4}{24\\times30}\\right\\}\\frac{sin\\, \\alpha}{\\left(2\\,z\\,tg \\alpha\\right)^4}dz$$\n",
    "\n",
    "$$F_{тяги} = 2\\, \\frac{-3\\,\\pi^2\\hbar c b}{4} \\frac{sin\\, \\alpha}{\\left(2\\,tg\\, \\alpha\\right)^4} \\int\\limits_{z_{min}}^{z_{max}} \\left\\{\\frac{-4}{24\\times30}\\right\\} \\frac{dz}{z^4}$$\n",
    "\n",
    "$$F_{тяги} = -2\\cdot3\\, \\frac{\\pi^2\\hbar c b}{240} \\frac{sin\\, \\alpha}{\\left(2\\,tg\\, \\alpha\\right)^4} \\left(\\frac{1}{z^3}\\right)\\Bigg\\rvert_{\\,z_{min}}^{\\,z_{max}} $$\n",
    "\n",
    "делаем обратную подстановку\n",
    "\n",
    "$$\\left(2\\,tg\\,\\alpha\\right)^3\\,z^3 = a^3$$\n",
    "\n",
    "или\n",
    "\n",
    "$$z_{min} = \\frac{a_{min}}{2\\,tg\\, \\alpha}$$\n",
    "\n",
    "$$z_{max} = \\frac{a_{max}}{2\\,tg\\, \\alpha}$$\n",
    "\n",
    "\n",
    "$$F_{тяги} = -2\\cdot3\\, \\frac{\\pi^2\\hbar c b}{240} \\frac{sin\\, \\alpha}{\\left(2\\,tg\\, \\alpha\\right)} \\left(\\frac{1}{a^3}\\right)\\Bigg\\rvert_{\\,a_{min}}^{\\,a_{max}} $$\n",
    "\n",
    "$$F_{тяги} = -3\\, \\frac{\\pi^2\\hbar c b}{240} cos\\, \\alpha \\left(\\frac{1}{a^3}\\right)\\Bigg\\rvert_{\\,a_{min}}^{\\,a_{max}} $$\n",
    "\n",
    "$$F_{тяги} = \\frac{\\pi^2\\hbar c b}{80} cos\\, \\alpha \\left(\\frac{1}{a_{min}^3} - \\frac{1}{a_{max}^3}\\right) $$\n",
    "\n",
    "Таким образом получена формула тяги уголка исходя из зазора между его крыльями "
   ]
  },
  {
   "cell_type": "markdown",
   "metadata": {},
   "source": [
    "Или исходя из\n",
    "\n",
    "$$F_{тяги} = -2\\cdot3\\, \\frac{\\pi^2\\hbar c b}{240} \\frac{sin\\, \\alpha}{\\left(2\\,tg\\,\\alpha\\right)^4} \\left(\\frac{1}{z^3}\\right)\\Bigg\\rvert_{\\,z_{min}}^{\\,z_{max}} $$\n",
    "\n",
    "Можно сделать другую подстановку\n",
    "$$z = l\\, cos\\, \\alpha$$\n",
    "\n",
    "$$F_{тяги} = -2\\cdot3\\, \\frac{\\pi^2\\hbar c b}{240} \\frac{sin\\, \\alpha}{\\left(2\\,tg\\,\\alpha\\right)^4\\left(cos\\, \\alpha\\right)^3} \\left(\\frac{1}{l^3}\\right)\\Bigg\\rvert_{\\,l_{min}}^{\\,l_{max}} $$\n",
    "\n",
    "\n",
    "$$F_{тяги} = -2\\cdot3\\, \\frac{\\pi^2\\hbar c b}{240} \\frac{sin\\, \\alpha}{2^4\\left(tg\\,\\alpha\\right)^4\\left(cos\\, \\alpha\\right)^3} \\left(\\frac{1}{l^3}\\right)\\Bigg\\rvert_{\\,l_{min}}^{\\,l_{max}} $$\n",
    "\n",
    "$$F_{тяги} = -2\\cdot3\\, \\frac{\\pi^2\\hbar c b}{240} \\frac{sin\\, \\alpha}{2^4\\left(tg\\,\\alpha\\right)\\left(sin\\, \\alpha\\right)^3} \\left(\\frac{1}{l^3}\\right)\\Bigg\\rvert_{\\,l_{min}}^{\\,l_{max}} $$\n",
    "\n",
    "$$F_{тяги} = -2\\cdot3\\, \\frac{\\pi^2\\hbar c b}{240} \\frac{cos\\, \\alpha}{2^4\\left(sin\\, \\alpha\\right)^4} \\left(\\frac{1}{l^3}\\right)\\Bigg\\rvert_{\\,l_{min}}^{\\,l_{max}} $$\n",
    "\n",
    "$$F_{тяги} = \\frac{\\pi^2\\hbar c b}{640} \\frac{cos\\, \\alpha}{\\left(sin\\, \\alpha\\right)^4} \\left(\\frac{1}{l_{min}^3} - \\frac{1}{l_{max}^3}\\right)$$\n",
    "\n",
    "Таким образом получена формула тяги уголка исходя из длины его крыльев.\n",
    "\n",
    "Данная формула больше всего похожу на формулу, данную Антипиным, хотя не соотвентствует ей полностью."
   ]
  },
  {
   "cell_type": "markdown",
   "metadata": {},
   "source": [
    "Исследуя зависимость коэффициента в форме тяги уголка, зависящего от половинного угла раствора $\\alpha$ можно видеть, что при заданной длине крыльев уголка выгоднее делать минимально возможный угол раствора. Однако для целей настоящей работы (исследование возможности получения тяги с помощью наносот) важно заметить что для уголка с прямым углом $\\alpha = \\frac{\\pi}{4}$ коэффициент $\\frac{cos\\, \\alpha}{\\left(sin\\, \\alpha\\right)^4} = 2\\sqrt{2}$. Таким образом  составляя из множества прямоугольных уголков конструкцию в виде сот показывается, что тяга панели состоящей из прямоугольных сот не нулевая.\n",
    "\n",
    "Действительно, прямоугольную соту с размером ячейки $b \\times b$ и с такой же самой  высотой ребра равной $b = l_{max}$   можно представить себе как комбинацию четырёх уголков с половинным углом расвора равным $\\alpha = \\frac{\\pi}{4}$. Тягу каждого уголка \n",
    "\n",
    "$$F_{тяги} = - \\frac{\\pi^2\\hbar c l_{max}}{640} 2\\sqrt{2} \\left(\\frac{1}{l_{min}^3} - \\frac{1}{l_{max}^3}\\right)$$\n",
    "\n",
    "направленную вдоль биссектрисы каждого угла нужно умножить на $sin\\,\\frac{\\pi}{4}=\\frac{\\sqrt{2}}{2}$ и при умножении на 4 тяга одной квадратной \"распечатанной\" соты будет равна \n",
    "\n",
    "$$F_{тяги} = - \\frac{\\pi^2\\hbar c b}{640} 2\\sqrt{2}\\cdot4\\,\\frac{\\sqrt{2}}{2} \\left(\\frac{1}{l_{min}^3} - \\frac{1}{b^3}\\right)$$\n",
    "\n",
    "$$F_{тяги} = - \\frac{\\pi^2\\hbar c b}{640} 2\\cdot4\\,\\left(\\frac{1}{l_{min}^3} - \\frac{1}{b^3}\\right)$$\n",
    "\n",
    "$$F_{тяги} = - \\frac{\\pi^2\\hbar c b}{80} \\left(\\frac{1}{l_{min}^3} - \\frac{1}{b^3}\\right)$$\n",
    "\n",
    "\n",
    "Что в принципе соответствует расчётам величины эффекта Казимира на сотах в лоб, произведённым в первой части данной работы.\n",
    "\n",
    "$$\\delta\\,\\frac{E}{V} \\approx R\\left(a k_m\\right)\\,\\frac{\\hbar\\,c\\,\\pi}{a^4}$$\n",
    "$$\\delta\\,\\frac{E}{V} \\approx −0.02\\,\\frac{\\hbar\\,c\\,\\pi}{a^4}$$\n",
    "\n",
    "И хотя с помощью панели из остроугольных уголков можно теоретически добываться бОльшей величины тяги, но технологически производство панелей из сот представляется более простым, чем производство панелей из уголков"
   ]
  },
  {
   "cell_type": "code",
   "execution_count": null,
   "metadata": {},
   "outputs": [],
   "source": [
    "plot([cos(x)/(sin(x)^4)], x, pi/8, pi/4)"
   ]
  },
  {
   "cell_type": "markdown",
   "metadata": {},
   "source": [
    "При сборке V-образных уголков в панели автор рисует примыкание угла в основании буквы V на плоскость, но в своих расчетах автор не учитывает влияние плоскости основания на результирующие поля. Исходя из вида зависимости силы тяги от угла раствора понять почему автор пренебрегает влиянием основания можно.\n",
    "\n",
    "\n",
    "Однако, строго говоря, если предположить, что основание будет выполнено из того же материала что и уголки, тогда конструкция Антипина отдаленно напоминает наносоты выращенные на плоской поверхности металла, проанализированные мною в данной работе.\n",
    "\n",
    "С другой стороны автор указывает, что величина Lmin ограничена снизу уровнем «обрезания», который определяется технологически:\n",
    "\n",
    "- точностью изготовления пластин (их шероховатостью, степенью плоскостности), а также\n",
    "\n",
    "- МИНИМАЛЬНОЙ длиной волны фотонов, которые может эффективно отражать вещество, из которого изготовлен уголок.\n",
    "\n",
    "В этой связи автор указывает, что в его конструкции нужно добиваться увеличения коэффициента отражения поверхностей и/или расширения диапазона эффективности отражателя в область высоких частот.\n",
    "\n",
    "В текущей работе показано что в случае наносот результирующая сила Казимировской тяги хотя и зависит от частоты обрезания, но для стабилизации коэффициента тяги достаточно добиться того чтобы произведение внутреннего размера ячейки сот на волновой вектор обрезания $a \\cdot k_m$ было не меньше $7$."
   ]
  },
  {
   "cell_type": "markdown",
   "metadata": {},
   "source": [
    "5. F. Intravaia et al., Strong Casimir force reduction through metallic surface nanostructuring // Nature Comm, art. 2515, 4 (Sep. 2013) pp. 1-20\n",
    "\n",
    "6. A.W. Rodriguez, F. Capasso, S.G. Johnson, The Casimir effect in microstructured geometries // Nature Photonics, V.5, (Apr. 2011), p.211-221"
   ]
  },
  {
   "cell_type": "markdown",
   "metadata": {},
   "source": [
    "В текущем расчёте получается, что разница плотностей казимировских электромагнитных энергий будет равна $\\delta\\,\\frac{E}{V} = 0.02\\,\\frac{1}{a_{\\mu}^4}\\,dyne/cm^2$ где $a_{\\mu}$ измеряется в микронах. Чтобы сопоставить данный результат с результатом Антипина, я перепишу свою формулу так: $\\delta\\,\\frac{E}{V} = 0.02 \\cdot 10^{12} \\,\\frac{1}{a_{nm}^4}\\,dyne/cm^2$ где $a_{nm}$ измеряется в нанометрах. Если теперь я из одного квадратного сантиметра выделяю (вдоль направления $x$ или $y$ один столбик с квадратными сотами, то  разница плотностей казимировских электромагнитных энегрий приходящаяся на погонный сантиметр такого столбика $\\delta\\,\\frac{E}{V} = 2 \\cdot 10^{10} \\,\\frac{1}{a_{nm}^3}\\,dyne/cm$. То есть получается, что мой расчет дал результат более завышенный, чем расчёт Антипина для панели из V-образных уголков. Это не удивительно потому что Антипин хотя и нарисовал примыкание угла в основании буквы V на плоскость, но в своих расчетах он никак не учитывает влияние плоскости основания на результирующие поля. И кроме того результат моего расчёта это все таки не сила, а величина  $\\delta\\,\\frac{E}{V}$, которая должна соответствать этой силе по порядку величины."
   ]
  },
  {
   "cell_type": "markdown",
   "metadata": {},
   "source": [
    "Антипин в своей работе показывает что для его панелей при Lmin = 200 [нм], Fтяги~ 10 [дин].\n",
    "Но мне не понятно, что на самом деле в расчётах Антипина представляет собой величина Lmin?\n",
    "\n",
    "Он хотя и пишет, что это Lmin - расстояние между сторонами уголка по уровню Zmin, Lmax - расстояние между сторонами уголка по уровню Zmax. Но исходя из моей попытки перевывести его формулу я в этом сомневаюсь.\n",
    "\n",
    "Однако нужно учесть, что формулы Антипина справедливы при сборке панелей методом крепления уголков торцами к двум параллельным рейкам без какой либо несущей плоскости в основании уголков."
   ]
  },
  {
   "cell_type": "markdown",
   "metadata": {},
   "source": [
    "Но в работе Антипина на рисунке номер 8 с названием \"Конструкция панели из уголков\" V образные уголки собраны в панели способом установки V уголков на плоскость методом \\__V______V______V__.\n",
    "\n",
    "При наличии несущей плоскости в основании V образных уголков формул Антипина основанных на вычислении равнодействующих двух направленных под углом сил Казимира приложенных к крыльям V образного уголка уже не достаточно по той причине, что из-за появления с внешеней стороны от уголка плоскости отрезающей большой, удалённый в бесконечность резонатор, сила Казимира, приложенная к плоскостям самого уголка снижается, но взамен появляется сила приложенная к самой плоскости"
   ]
  },
  {
   "cell_type": "code",
   "execution_count": null,
   "metadata": {},
   "outputs": [],
   "source": [
    "L = 2\n",
    "l = 0.75\n",
    "\n",
    "def draw_V_(p, x0):\n",
    "    arrowsize = 2.5\n",
    "\n",
    "    # tangent alpha\n",
    "    tn = l/L\n",
    "\n",
    "    tn2 = tan((pi/2-atan(tn))/2) # bissectrice between bottom plate and V\n",
    "    \n",
    "    sn2 = sin((pi/2-atan(tn)))\n",
    "    cs2 = cos((pi/2-atan(tn)))\n",
    "    \n",
    "    # V\n",
    "    p += line ([[x0+l,L], [x0,0]],   color = \"green\")\n",
    "    p += line ([[x0,0],   [x0-l,L]], color = \"green\")\n",
    "\n",
    "    # V force\n",
    "    p += arrow ([x0-l/3,L/3], [x0,L/3+l/3*tn], color = \"green\", arrowsize=arrowsize)\n",
    "    p += arrow ([x0+l/3,L/3], [x0,L/3+l/3*tn], color = \"green\", arrowsize=arrowsize)\n",
    "\n",
    "    # bottom plate left force\n",
    "    p += arrow ([x0-l/2,0],           [x0-l/2,l/2*tn2], color = \"green\", arrowsize=arrowsize)\n",
    "    p += arrow ([x0-(l/2)*cs2, (l/2)*sn2],[x0-l/2,l/2*tn2], color = \"green\", arrowsize=arrowsize)\n",
    "\n",
    "    # bottom plate right force\n",
    "    p += arrow ([x0+l/2,0],           [x0+l/2,l/2*tn2], color = \"green\", arrowsize=arrowsize)\n",
    "    p += arrow ([x0+l/2*cs2, l/2*sn2],[x0+l/2,l/2*tn2], color = \"green\", arrowsize=arrowsize)\n",
    "    \n",
    "    return p\n",
    "\n",
    "# bottom plate\n",
    "p = line ([[-l,0],[4+l,0]], color = \"green\", thickness=3)\n",
    "p = draw_V_(p, x0 = 0)\n",
    "p = draw_V_(p, x0 = 4)\n",
    "p.show(aspect_ratio = 1, axes=False)"
   ]
  },
  {
   "cell_type": "markdown",
   "metadata": {},
   "source": [
    "Используя приближения PFA или PAA можно модифицировать формулы Антипина для случая панели типа V образные уголок на плоскости. Из рисунка видно, что при внесении плоскости основания в такую панель уточненный расчет должен дать значения тяги несколько большие чем по первоначальным формулам Антипина."
   ]
  },
  {
   "cell_type": "markdown",
   "metadata": {},
   "source": [
    "Еще одно важное на мой скромный взгляд замечание относительно формулы Антипина для тяги V образного уголка: она содержит достаточно искусственный параметр Lmin, т.н. уровень «обрезания». Причина введения этого параметра понятна, так при выводе формулы приходилось брать интеграл $\\int a^{-4} da$. И если этот интеграл брать от нуля то получилась бы бесконечность. Есть идея в том что этот интеграл таки можно взять от нуля если при уточнённом выводе формулы для силы Казимира принять явный вид регуляризационной функции и частоту обрезания $ c \\cdot k_m$. Дело в том что в работе \"К вопросу о зависимости силы Казимира от толщины пластин\" https://nbviewer.org/github/daju1/articles/blob/master/casimir/Casimir_original_work-rework1.ipynb было установлено что коэффициент пропорциональности в формуле силы Казимира $a = 0$ также ноль. Поэтому можно интегрируя от нуля получить конечное значение силы тяги V образного уголка зависящее от частоты обрезания $ c \\cdot k_m$.\n",
    "\n",
    "Из рисунка также видно, что устремляя раствор уголков к нулю можно прийти к панели выполненной посредством нанесения на плоскость не сот, как я рассчитывал в данной работе, а просто перпендикулярных ей длинных рёбер. Можно назвать такой вариант Ш панелью за сходство ее профиля с этой буквой.\n",
    "\n",
    "Работоспособность Ш панели может быть с одной стороны также рассчитана в приближении приближения PFA или PAA. А с другой стороны она может быть обьяснена разностью плотностей электромагнитной эненргии нулевой точки со стороны гладкой поверхности плоскости и со стороны поверхности покрытой ребрами.\n",
    "\n",
    "Интересно бы ло бы сравнить работоспособность Ш панели и работоспособность панели, выполненной по принципу сот. Расчёт разности плотностей электромагнитной энергии для Ш панелей с ребрами более прост, чем расчёт выполненный в данной работе для сот, потому как для Ш панели нужно будет применять не двумерную а одномерную формулу Эйлера Маклорена. Но это тема уже для отдельной работы."
   ]
  },
  {
   "cell_type": "markdown",
   "metadata": {},
   "source": [
    "Представляется возможным ещё один способ установки уголков на плоскость: не устанавливать их на вершину угла, а прикреплять лежа на одном из крыльев:"
   ]
  },
  {
   "cell_type": "code",
   "execution_count": null,
   "metadata": {},
   "outputs": [],
   "source": [
    "L = 1\n",
    "l = 3\n",
    "\n",
    "def draw_less(p, x0):\n",
    "    arrowsize = 2\n",
    "\n",
    "    # tangent alpha\n",
    "    tn = l/L\n",
    "\n",
    "    tn2 = tan((pi/2-atan(tn))/2) # bissectrice between bottom plate and V\n",
    "    \n",
    "    sn2 = sin((pi/2-atan(tn)))\n",
    "    cs2 = cos((pi/2-atan(tn)))\n",
    "\n",
    "    # <\n",
    "    p += line ([[x0+l,L],[x0,0]], color = \"green\")\n",
    "\n",
    "    # bottom plate right force\n",
    "    p += arrow ([x0+l/2,0],           [x0+l/2,l/2*tn2], color = \"green\", arrowsize=arrowsize)\n",
    "    p += arrow ([x0+l/2*cs2, l/2*sn2],[x0+l/2,l/2*tn2], color = \"green\", arrowsize=arrowsize)\n",
    "    \n",
    "    return p\n",
    "\n",
    "\n",
    "# bottom plate\n",
    "p = line ([[-l/3,0],[4+l,0]], color = \"green\", thickness=3)\n",
    "p = draw_less(p, x0 = 0)\n",
    "p = draw_less(p, x0 = 4)\n",
    "p.show(aspect_ratio = 1, axes=False)"
   ]
  },
  {
   "cell_type": "markdown",
   "metadata": {},
   "source": [
    "Если такие лежачие уголки прикрепить радиально концентрическим способом на диске, диск может прийти во вращение. Такая конфигурация может служить альтернативным способом постановки подтверждающего эксперимента, без использования крутильных весов. Поскольку диск с уголками может плавать на поверхности жидкости, а жидкость, как известно, не обладает трением покоя"
   ]
  },
  {
   "cell_type": "markdown",
   "metadata": {},
   "source": [
    "В работе \"Metal nano-honeycomb fabricated by colloidal assembly and femtosecond-laser annealing\" было сообщено о получении наносот из золота с размером ячейки порядка 2 микрон. Такие соты должны обладать разницей плотностей казимировских электромагнитных энергий $\\delta\\,\\frac{E}{V} = 0.02\\,\\frac{1}{2^4} = 0.0012\\,dyne/cm^2 = 0.0012 \\cdot 10^4 = 12\\,dyne/m^2$, то есть 12 дин на квадратный метр панели, что уже является вполне приемлимой величиной для практического использования предполагаемого эффекта для корректировки орбит спутников.\n",
    "\n",
    "Единственно нужно указать, что в согласно моёму способу расчёта полученная формула даёт $\\delta\\,\\frac{E}{V}$ в расчёте не на общую площадь поверхности сот, а на ту часть площади панели, занятую углублениями за вычетом части площади сот занятой стенками. \n",
    "\n",
    "Это не означает необходимости стремиться делать очень уж тонкие стенки сот, потому как при уменьшении толщины стенки уменьшится также и величина $k_m$."
   ]
  },
  {
   "cell_type": "markdown",
   "metadata": {},
   "source": [
    "Будет нелишним также заметить, что применение мною формулы вида"
   ]
  },
  {
   "cell_type": "markdown",
   "metadata": {},
   "source": [
    "\\begin{equation}\n",
    "\\delta\\,\\frac{E}{V} = \\frac{\\hbar\\,c\\,\\pi}{a^4}\n",
    "\\int\\limits_{0}^{\\infty}\n",
    "\\left\\{\n",
    "\\sum\\limits_{n_x=\\left(0\\right)\\,1}^{\\infty}\n",
    "\\sum\\limits_{n_y=\\left(0\\right)\\,1}^{\\infty}\n",
    "{\\sqrt{n_x^2 + n_y^2 + u^2}}\n",
    "f\\left(\\frac{\\pi\\sqrt{n_x^2 + n_y^2 + u^2}}{a\\,k_m}\\right)\n",
    "-\n",
    "\\int\\limits_{0}^{\\infty}\n",
    "\\int\\limits_{0}^{\\infty}\n",
    "{\\sqrt{n_x^2 + n_y^2 + u^2}}\n",
    "f\\left(\\frac{\\pi\\sqrt{n_x^2 + n_y^2 + u^2}}{a\\,k_m}\\right)\n",
    "\\,d{n_x}\\,d{n_y}\n",
    "\\right\\}\n",
    "\\,d{u}\n",
    "\\end{equation}"
   ]
  },
  {
   "cell_type": "markdown",
   "metadata": {},
   "source": [
    "неявно подразумевает, что приведенный в данной работе расчёт справедлив при условии, что величина $k_m$ одинакова для всех трёх направлений волнового вектора. Данное условие может быть нарушено, если толщина стенок и толщина самой пластины, на которой выращены соты будет отличаться. Однако теоретический учет этого обстоятельства многократно усложнил бы громоздкость формул."
   ]
  },
  {
   "cell_type": "markdown",
   "metadata": {},
   "source": [
    "Кроме того слабым местом моего расчёта является неявное допущение бесконечной величины высоты стенок сот тогда как реальная высота стенок будет конечно. Однако целью данной работы было принципиальное исследование вопроса. По моему мнению конечная фактическая высота стенок внесёт некоторую поправку в величину полученного результат (что может быть темой дальнейших исследований), но принципиальный вывод не изменит."
   ]
  },
  {
   "cell_type": "markdown",
   "metadata": {},
   "source": [
    "В данной работе я рассчитал разность плотностей электромагнитной энегрии по разные стороны от материала плоскости с наносотами. Теперь предстоит исследовать задачу вычисления соотношения этой разностей плотностей электромагнитной энергии и силы тяги в геометри наносот."
   ]
  },
  {
   "cell_type": "markdown",
   "metadata": {},
   "source": [
    "В отношении критики: многие авторы рассматривают эффект Казимира не как следствие существования виртуальных квантовых фотонов, а как только лишь проявление дисперсионных сил Лондона - Ван-дер-Ваальса.\n",
    "\n",
    "В свою очередь хочу отметить, что постановка эксперимента по измерению силы тяги производимой наносотами выращенными на металле могла бы служить в некотором роде критическим экспериментом для выяснения того какая из точек зрения на природу сил Казимира соответсвует действительности"
   ]
  },
  {
   "cell_type": "code",
   "execution_count": null,
   "metadata": {},
   "outputs": [],
   "source": []
  }
 ],
 "metadata": {
  "kernelspec": {
   "display_name": "SageMath 9.6.beta7",
   "language": "sage",
   "name": "sagemath"
  },
  "language_info": {
   "codemirror_mode": {
    "name": "ipython",
    "version": 3
   },
   "file_extension": ".py",
   "mimetype": "text/x-python",
   "name": "python",
   "nbconvert_exporter": "python",
   "pygments_lexer": "ipython3",
   "version": "3.10.3"
  }
 },
 "nbformat": 4,
 "nbformat_minor": 2
}
