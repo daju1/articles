{
 "cells": [
  {
   "cell_type": "markdown",
   "metadata": {},
   "source": [
    "Batygin_Toptygin_task_480.sage\n",
    "\n",
    "В. В. БАТЫГИН, И. Н. ТОПТЫГИН\n",
    "СБОРНИК ЗАДАЧ\n",
    "по\n",
    "ЭЛЕКТРОДИНАМИКЕ\n",
    "МОСКВА 1970\n",
    "\n",
    "529. Определить собственные частоты колебаний и нормированные собственные функции полого резонатора с идеально проводящими стенками. Резонатор имеет форму прямоугольного\n",
    "паралелепипеда, его размеры $а\\,\\cdot\\,b\\,\\cdot\\,h$. Собственные функции выбрать таким образом, чтобы все они были взаимно ортогональны.\n",
    "\n",
    "В издании 1962 года номера этих задач 480"
   ]
  },
  {
   "cell_type": "markdown",
   "metadata": {},
   "source": [
    "https://emineter.files.wordpress.com/2018/12/v-v-batygin-i-n-toptygin-d-ter-haar-problems-in-electrodynamics-second-edition-academic-press-inc-1978.pdf\n",
    "\n",
    "task 9.20\n",
    "\n",
    "page 409"
   ]
  },
  {
   "cell_type": "code",
   "execution_count": 452,
   "metadata": {},
   "outputs": [],
   "source": [
    "from IPython.display import display, Math, Latex\n",
    "\n",
    "mu = var('mu')\n",
    "assume(mu, 'real')\n",
    "assume(mu>0)\n",
    "\n",
    "epsilon = var('epsilon')\n",
    "assume(epsilon, 'real')\n",
    "assume(epsilon>0)\n",
    "\n",
    "k_1 = var ('k_x')\n",
    "assume(k_1, 'real')\n",
    "\n",
    "k_2 = var ('k_y')\n",
    "assume(k_2, 'real')\n",
    "\n",
    "k_3 = var ('k_z')\n",
    "assume(k_3, 'real')\n",
    "\n",
    "n_1 = var ('n_x')\n",
    "assume(n_1, 'real')\n",
    "assume(n_1, 'integer')\n",
    "\n",
    "n_2 = var ('n_y')\n",
    "assume(n_2, 'real')\n",
    "assume(n_2, 'integer')\n",
    "\n",
    "n_3 = var ('n_z')\n",
    "assume(n_3, 'real')\n",
    "assume(n_3, 'integer')\n",
    "\n",
    "a = var('a')\n",
    "assume(a, 'real')\n",
    "assume(a>0)\n",
    "\n",
    "b = var('b')\n",
    "assume(b, 'real')\n",
    "assume(b>0)\n",
    "\n",
    "h = var('h')\n",
    "assume(h, 'real')\n",
    "assume(h>0)\n",
    "\n",
    "x = var('x')\n",
    "y = var('y')\n",
    "z = var('z')\n",
    "\n",
    "assume(x, 'real')\n",
    "assume(y, 'real')\n",
    "assume(z, 'real')\n",
    "\n",
    "c = var('c')\n",
    "assume(c, 'real')\n",
    "assume(c>0)\n",
    "\n",
    "omega = var('omega')\n",
    "assume(omega, 'real')"
   ]
  },
  {
   "cell_type": "markdown",
   "metadata": {},
   "source": [
    "$rot\\,\\vec{E} = \\mu\\,\\frac{i\\,\\omega}{c}\\,\\vec{H}$\n",
    "\n",
    "$rot\\,\\vec{H} = - \\frac{i\\,\\omega}{c} \\epsilon \\vec{E}$\n",
    "\n",
    "$rot\\,rot\\,\\vec{E} = \\mu\\,\\frac{i\\,\\omega}{c}rot\\,\\vec{H}$\n",
    "\n",
    "$rot\\,rot\\,\\vec{E} = \\mu\\,\\frac{i\\,\\omega}{c}\\left(- \\frac{i\\,\\omega}{c} \\epsilon \\vec{E}\\right)$\n",
    "\n",
    "$rot\\,rot\\,\\vec{E} = \\mu\\,\\frac{\\omega^2}{c^2} \\epsilon \\vec{E}$\n",
    "\n",
    "$rot\\,rot\\,\\vec{E} = grad\\,div\\,\\vec{E} - Laplasian\\,\\vec{E}$\n",
    "\n",
    "$Laplasian\\,\\vec{E} + \\frac{\\mu \\epsilon \\omega^2}{c^2}\\,\\vec{E} - grad\\,div\\,\\vec{E} = 0$"
   ]
  },
  {
   "cell_type": "markdown",
   "metadata": {},
   "source": [
    "$div\\,\\vec{E} = 0$\n",
    "\n",
    "Ищем решение в виде\n",
    "\n",
    "$E_x = A_1\\,cos\\left(k_1\\,x\\right)\\,sin\\left(k_2\\,y\\right)\\,sin\\left(k_3\\,z\\right)\\,e^{-i\\,\\omega\\,t}$\n",
    "\n",
    "$E_y = A_2\\,sin\\left(k_1\\,x\\right)\\,cos\\left(k_2\\,y\\right)\\,sin\\left(k_3\\,z\\right)\\,e^{-i\\,\\omega\\,t}$\n",
    "\n",
    "$E_z = A_3\\,sin\\left(k_1\\,x\\right)\\,sin\\left(k_2\\,y\\right)\\,cos\\left(k_3\\,z\\right)\\,e^{-i\\,\\omega\\,t}$\n",
    "\n",
    "\n",
    "$k_1 = \\frac{n_1 \\pi}{a}$\n",
    "\n",
    "$k_2 = \\frac{n_2 \\pi}{b}$\n",
    "\n",
    "$k_3 = \\frac{n_3 \\pi}{h}$"
   ]
  },
  {
   "cell_type": "code",
   "execution_count": 453,
   "metadata": {},
   "outputs": [],
   "source": [
    "A_1 = var ('A_x')\n",
    "A_2 = var ('A_y')\n",
    "A_3 = var ('A_z')"
   ]
  },
  {
   "cell_type": "code",
   "execution_count": 454,
   "metadata": {},
   "outputs": [],
   "source": [
    "# выражения для электрического поля\n",
    "\n",
    "E_x = A_1*cos(k_1*x)*sin(k_2*y)*sin(k_3*z)\n",
    "E_y = A_2*sin(k_1*x)*cos(k_2*y)*sin(k_3*z)\n",
    "E_z = A_3*sin(k_1*x)*sin(k_2*y)*cos(k_3*z)"
   ]
  },
  {
   "cell_type": "markdown",
   "metadata": {},
   "source": [
    "подставляя в исходное уравнение приходим к обыкновенному дифференциальному уравнению\n",
    "\n",
    "$\\frac{\\partial^2 \\vec E(x,y,z)}{\\partial x^2} + \\frac{\\partial^2 \\vec E(x,y,z)}{\\partial y^2} + \\frac{\\partial^2 \\vec E(x,y,z)}{\\partial z^2} + \\frac{\\mu\\, \\epsilon \\, \\omega^2}{c^2} \\vec E(x,y,z) = 0$"
   ]
  },
  {
   "cell_type": "markdown",
   "metadata": {},
   "source": [
    "$\\frac{\\partial^2 E_x(x,y,z)}{\\partial x^2} + \\frac{\\partial^2 E_x(x,y,z)}{\\partial y^2} + \\frac{\\partial^2 E_x(x,y,z)}{\\partial z^2} + \\frac{\\mu\\, \\epsilon \\, \\omega^2}{c^2} E_x(x,y,z) = 0$"
   ]
  },
  {
   "cell_type": "markdown",
   "metadata": {},
   "source": [
    "$\\frac{\\partial^2 E_y(x,y,z)}{\\partial x^2} + \\frac{\\partial^2 E_y(x,y,z)}{\\partial y^2} + \\frac{\\partial^2 E_y(x,y,z)}{\\partial z^2} + \\frac{\\mu\\, \\epsilon \\, \\omega^2}{c^2} E_y(x,y,z) = 0$"
   ]
  },
  {
   "cell_type": "markdown",
   "metadata": {},
   "source": [
    "$\\frac{\\partial^2 E_z(x,y,z)}{\\partial x^2} + \\frac{\\partial^2 E_z(x,y,z)}{\\partial y^2} + \\frac{\\partial^2 E_z(x,y,z)}{\\partial z^2} + \\frac{\\mu\\, \\epsilon \\, \\omega^2}{c^2} E_z(x,y,z) = 0$"
   ]
  },
  {
   "cell_type": "code",
   "execution_count": 455,
   "metadata": {},
   "outputs": [],
   "source": [
    "eq_x = E_x.diff(x,2) + E_x.diff(y,2) + E_x.diff(z,2) + mu*epsilon*omega^2/c^2 * E_x == 0\n",
    "eq_y = E_y.diff(x,2) + E_y.diff(y,2) + E_y.diff(z,2) + mu*epsilon*omega^2/c^2 * E_y == 0\n",
    "eq_z = E_z.diff(x,2) + E_z.diff(y,2) + E_z.diff(z,2) + mu*epsilon*omega^2/c^2 * E_z == 0"
   ]
  },
  {
   "cell_type": "code",
   "execution_count": 456,
   "metadata": {},
   "outputs": [
    {
     "data": {
      "text/latex": [
       "$\\displaystyle -\\frac{{\\left(c^{2} k_{x}^{2} + c^{2} k_{y}^{2} + c^{2} k_{z}^{2} - \\epsilon \\mu \\omega^{2}\\right)} A_{x} \\cos\\left(k_{x} x\\right) \\sin\\left(k_{y} y\\right) \\sin\\left(k_{z} z\\right)}{c^{2}} = 0$"
      ],
      "text/plain": [
       "<IPython.core.display.Math object>"
      ]
     },
     "metadata": {},
     "output_type": "display_data"
    },
    {
     "data": {
      "text/latex": [
       "$\\displaystyle -\\frac{{\\left(c^{2} k_{x}^{2} + c^{2} k_{y}^{2} + c^{2} k_{z}^{2} - \\epsilon \\mu \\omega^{2}\\right)} A_{y} \\cos\\left(k_{y} y\\right) \\sin\\left(k_{x} x\\right) \\sin\\left(k_{z} z\\right)}{c^{2}} = 0$"
      ],
      "text/plain": [
       "<IPython.core.display.Math object>"
      ]
     },
     "metadata": {},
     "output_type": "display_data"
    },
    {
     "data": {
      "text/latex": [
       "$\\displaystyle -\\frac{{\\left(c^{2} k_{x}^{2} + c^{2} k_{y}^{2} + c^{2} k_{z}^{2} - \\epsilon \\mu \\omega^{2}\\right)} A_{z} \\cos\\left(k_{z} z\\right) \\sin\\left(k_{x} x\\right) \\sin\\left(k_{y} y\\right)}{c^{2}} = 0$"
      ],
      "text/plain": [
       "<IPython.core.display.Math object>"
      ]
     },
     "metadata": {},
     "output_type": "display_data"
    }
   ],
   "source": [
    "display(Math(latex(eq_x.full_simplify().factor())))\n",
    "display(Math(latex(eq_y.full_simplify().factor())))\n",
    "display(Math(latex(eq_z.full_simplify().factor())))"
   ]
  },
  {
   "cell_type": "code",
   "execution_count": 457,
   "metadata": {},
   "outputs": [
    {
     "data": {
      "text/latex": [
       "$\\displaystyle \\left[\\omega^{2} = \\frac{c^{2} k_{x}^{2} + c^{2} k_{y}^{2} + c^{2} k_{z}^{2}}{\\epsilon \\mu}\\right]$"
      ],
      "text/plain": [
       "<IPython.core.display.Math object>"
      ]
     },
     "metadata": {},
     "output_type": "display_data"
    }
   ],
   "source": [
    "display(Math(latex(solve(eq_x, omega^2))))"
   ]
  },
  {
   "cell_type": "code",
   "execution_count": 458,
   "metadata": {},
   "outputs": [
    {
     "data": {
      "text/latex": [
       "$\\displaystyle \\left[\\omega^{2} = \\frac{c^{2} k_{x}^{2} + c^{2} k_{y}^{2} + c^{2} k_{z}^{2}}{\\epsilon \\mu}\\right]$"
      ],
      "text/plain": [
       "<IPython.core.display.Math object>"
      ]
     },
     "metadata": {},
     "output_type": "display_data"
    }
   ],
   "source": [
    "display(Math(latex(solve(eq_y, omega^2))))"
   ]
  },
  {
   "cell_type": "code",
   "execution_count": 459,
   "metadata": {},
   "outputs": [
    {
     "data": {
      "text/latex": [
       "$\\displaystyle \\left[\\omega^{2} = \\frac{c^{2} k_{x}^{2} + c^{2} k_{y}^{2} + c^{2} k_{z}^{2}}{\\epsilon \\mu}\\right]$"
      ],
      "text/plain": [
       "<IPython.core.display.Math object>"
      ]
     },
     "metadata": {},
     "output_type": "display_data"
    }
   ],
   "source": [
    "display(Math(latex(solve(eq_z, omega^2))))"
   ]
  },
  {
   "cell_type": "code",
   "execution_count": 460,
   "metadata": {},
   "outputs": [],
   "source": [
    "omega_2 = solve(eq_x, omega^2)[0]"
   ]
  },
  {
   "cell_type": "code",
   "execution_count": 461,
   "metadata": {},
   "outputs": [
    {
     "data": {
      "text/latex": [
       "$\\displaystyle \\omega^{2} = \\frac{c^{2} k_{x}^{2} + c^{2} k_{y}^{2} + c^{2} k_{z}^{2}}{\\epsilon \\mu}$"
      ],
      "text/plain": [
       "<IPython.core.display.Math object>"
      ]
     },
     "metadata": {},
     "output_type": "display_data"
    }
   ],
   "source": [
    "display(Math(latex(omega_2)))"
   ]
  },
  {
   "cell_type": "markdown",
   "metadata": {},
   "source": [
    "$rot\\,\\vec{E} = \\mu\\,\\frac{i\\,\\omega}{c}\\,\\vec{H}$"
   ]
  },
  {
   "cell_type": "code",
   "execution_count": 462,
   "metadata": {},
   "outputs": [],
   "source": [
    "rotE_x = E_z.diff(y) - E_y.diff(z)\n",
    "rotE_y = E_x.diff(z) - E_z.diff(x)\n",
    "rotE_z = E_y.diff(x) - E_x.diff(y)"
   ]
  },
  {
   "cell_type": "code",
   "execution_count": 463,
   "metadata": {},
   "outputs": [],
   "source": [
    "H_x = c / (I * omega * mu) * rotE_x\n",
    "H_y = c / (I * omega * mu) * rotE_y\n",
    "H_z = c / (I * omega * mu) * rotE_z"
   ]
  },
  {
   "cell_type": "code",
   "execution_count": 464,
   "metadata": {},
   "outputs": [
    {
     "data": {
      "text/latex": [
       "$\\displaystyle -\\frac{i \\, {\\left(A_{z} k_{y} - A_{y} k_{z}\\right)} c \\cos\\left(k_{y} y\\right) \\cos\\left(k_{z} z\\right) \\sin\\left(k_{x} x\\right)}{\\mu \\omega}$"
      ],
      "text/plain": [
       "<IPython.core.display.Math object>"
      ]
     },
     "metadata": {},
     "output_type": "display_data"
    },
    {
     "data": {
      "text/latex": [
       "$\\displaystyle \\frac{i \\, {\\left(A_{z} k_{x} - A_{x} k_{z}\\right)} c \\cos\\left(k_{x} x\\right) \\cos\\left(k_{z} z\\right) \\sin\\left(k_{y} y\\right)}{\\mu \\omega}$"
      ],
      "text/plain": [
       "<IPython.core.display.Math object>"
      ]
     },
     "metadata": {},
     "output_type": "display_data"
    },
    {
     "data": {
      "text/latex": [
       "$\\displaystyle -\\frac{i \\, {\\left(A_{y} k_{x} - A_{x} k_{y}\\right)} c \\cos\\left(k_{x} x\\right) \\cos\\left(k_{y} y\\right) \\sin\\left(k_{z} z\\right)}{\\mu \\omega}$"
      ],
      "text/plain": [
       "<IPython.core.display.Math object>"
      ]
     },
     "metadata": {},
     "output_type": "display_data"
    }
   ],
   "source": [
    "display(Math(latex(H_x.full_simplify().factor())))\n",
    "display(Math(latex(H_y.full_simplify().factor())))\n",
    "display(Math(latex(H_z.full_simplify().factor())))"
   ]
  },
  {
   "cell_type": "markdown",
   "metadata": {},
   "source": [
    "$div\\,\\vec{E} = 0$"
   ]
  },
  {
   "cell_type": "code",
   "execution_count": 465,
   "metadata": {},
   "outputs": [],
   "source": [
    "div_E = E_x.diff(x) + E_y.diff(y) + E_z.diff(z)"
   ]
  },
  {
   "cell_type": "code",
   "execution_count": 466,
   "metadata": {},
   "outputs": [
    {
     "data": {
      "text/plain": [
       "-(A_x*k_x + A_y*k_y + A_z*k_z)*sin(k_x*x)*sin(k_y*y)*sin(k_z*z)"
      ]
     },
     "execution_count": 466,
     "metadata": {},
     "output_type": "execute_result"
    }
   ],
   "source": [
    "div_E.full_simplify()"
   ]
  },
  {
   "cell_type": "code",
   "execution_count": 467,
   "metadata": {},
   "outputs": [
    {
     "data": {
      "text/latex": [
       "$\\displaystyle -{\\left(A_{x} k_{x} + A_{y} k_{y} + A_{z} k_{z}\\right)} \\sin\\left(k_{x} x\\right) \\sin\\left(k_{y} y\\right) \\sin\\left(k_{z} z\\right) = 0$"
      ],
      "text/plain": [
       "<IPython.core.display.Math object>"
      ]
     },
     "metadata": {},
     "output_type": "display_data"
    }
   ],
   "source": [
    "display(Math(latex(div_E.full_simplify().factor() == 0)))"
   ]
  },
  {
   "cell_type": "code",
   "execution_count": 468,
   "metadata": {
    "scrolled": false
   },
   "outputs": [
    {
     "data": {
      "text/plain": [
       "0"
      ]
     },
     "execution_count": 468,
     "metadata": {},
     "output_type": "execute_result"
    }
   ],
   "source": [
    "E_x.subs(k_1 == 0, k_2 == 0)"
   ]
  },
  {
   "cell_type": "code",
   "execution_count": 469,
   "metadata": {},
   "outputs": [
    {
     "data": {
      "text/plain": [
       "0"
      ]
     },
     "execution_count": 469,
     "metadata": {},
     "output_type": "execute_result"
    }
   ],
   "source": [
    "E_y.subs(k_1 == 0, k_2 == 0)"
   ]
  },
  {
   "cell_type": "code",
   "execution_count": 470,
   "metadata": {},
   "outputs": [
    {
     "data": {
      "text/plain": [
       "0"
      ]
     },
     "execution_count": 470,
     "metadata": {},
     "output_type": "execute_result"
    }
   ],
   "source": [
    "E_z.subs(k_1 == 0, k_2 == 0)"
   ]
  },
  {
   "cell_type": "code",
   "execution_count": 471,
   "metadata": {},
   "outputs": [
    {
     "data": {
      "text/plain": [
       "0"
      ]
     },
     "execution_count": 471,
     "metadata": {},
     "output_type": "execute_result"
    }
   ],
   "source": [
    "H_x.subs(k_1 == 0, k_2 == 0)"
   ]
  },
  {
   "cell_type": "code",
   "execution_count": 472,
   "metadata": {},
   "outputs": [
    {
     "data": {
      "text/plain": [
       "0"
      ]
     },
     "execution_count": 472,
     "metadata": {},
     "output_type": "execute_result"
    }
   ],
   "source": [
    "H_y.subs(k_1 == 0, k_2 == 0)"
   ]
  },
  {
   "cell_type": "code",
   "execution_count": 473,
   "metadata": {},
   "outputs": [
    {
     "data": {
      "text/plain": [
       "0"
      ]
     },
     "execution_count": 473,
     "metadata": {},
     "output_type": "execute_result"
    }
   ],
   "source": [
    "H_z.subs(k_1 == 0, k_2 == 0)"
   ]
  },
  {
   "cell_type": "code",
   "execution_count": null,
   "metadata": {},
   "outputs": [],
   "source": []
  },
  {
   "cell_type": "code",
   "execution_count": 474,
   "metadata": {
    "scrolled": false
   },
   "outputs": [
    {
     "data": {
      "text/latex": [
       "$\\displaystyle A_{x} \\sin\\left(k_{y} y\\right) \\sin\\left(k_{z} z\\right)$"
      ],
      "text/plain": [
       "<IPython.core.display.Math object>"
      ]
     },
     "metadata": {},
     "output_type": "display_data"
    }
   ],
   "source": [
    "display(Math(latex(E_x.subs(k_1 == 0))))"
   ]
  },
  {
   "cell_type": "code",
   "execution_count": 475,
   "metadata": {},
   "outputs": [
    {
     "data": {
      "text/plain": [
       "0"
      ]
     },
     "execution_count": 475,
     "metadata": {},
     "output_type": "execute_result"
    }
   ],
   "source": [
    "E_y.subs(k_1 == 0)"
   ]
  },
  {
   "cell_type": "code",
   "execution_count": 476,
   "metadata": {},
   "outputs": [
    {
     "data": {
      "text/plain": [
       "0"
      ]
     },
     "execution_count": 476,
     "metadata": {},
     "output_type": "execute_result"
    }
   ],
   "source": [
    "E_z.subs(k_1 == 0)"
   ]
  },
  {
   "cell_type": "code",
   "execution_count": 477,
   "metadata": {},
   "outputs": [
    {
     "data": {
      "text/plain": [
       "0"
      ]
     },
     "execution_count": 477,
     "metadata": {},
     "output_type": "execute_result"
    }
   ],
   "source": [
    "H_x.subs(k_1 == 0)"
   ]
  },
  {
   "cell_type": "code",
   "execution_count": 478,
   "metadata": {},
   "outputs": [
    {
     "data": {
      "text/latex": [
       "$\\displaystyle -\\frac{i \\, A_{x} c k_{z} \\cos\\left(k_{z} z\\right) \\sin\\left(k_{y} y\\right)}{\\mu \\omega}$"
      ],
      "text/plain": [
       "<IPython.core.display.Math object>"
      ]
     },
     "metadata": {},
     "output_type": "display_data"
    }
   ],
   "source": [
    "display(Math(latex(H_y.subs(k_1 == 0))))"
   ]
  },
  {
   "cell_type": "code",
   "execution_count": 479,
   "metadata": {
    "scrolled": true
   },
   "outputs": [
    {
     "data": {
      "text/latex": [
       "$\\displaystyle \\frac{i \\, A_{x} c k_{y} \\cos\\left(k_{y} y\\right) \\sin\\left(k_{z} z\\right)}{\\mu \\omega}$"
      ],
      "text/plain": [
       "<IPython.core.display.Math object>"
      ]
     },
     "metadata": {},
     "output_type": "display_data"
    }
   ],
   "source": [
    "display(Math(latex(H_z.subs(k_1 == 0))))"
   ]
  },
  {
   "cell_type": "markdown",
   "metadata": {},
   "source": [
    "$k_1 = \\frac{n_1 \\pi}{a}$ $k_2 = \\frac{n_2 \\pi}{b}$ $k_3 = \\frac{n_3 \\pi}{h}$"
   ]
  },
  {
   "cell_type": "code",
   "execution_count": 480,
   "metadata": {},
   "outputs": [
    {
     "data": {
      "text/latex": [
       "$\\displaystyle \\frac{A_{x} n_{x}}{a} + \\frac{A_{y} n_{y}}{b} + \\frac{A_{z} n_{z}}{h} = 0$"
      ],
      "text/plain": [
       "<IPython.core.display.Math object>"
      ]
     },
     "metadata": {},
     "output_type": "display_data"
    }
   ],
   "source": [
    "eq_A = (A_1*k_1 + A_2*k_2 + A_3*k_3).subs(k_1 == n_1 / a, k_2 == n_2 / b, k_3 == n_3 / h) == 0\n",
    "display(Math(latex(eq_A)))"
   ]
  },
  {
   "cell_type": "code",
   "execution_count": 481,
   "metadata": {},
   "outputs": [
    {
     "data": {
      "text/latex": [
       "$\\displaystyle \\left[A_{x} = -\\frac{A_{y} a h n_{y} + A_{z} a b n_{z}}{b h n_{x}}\\right]$"
      ],
      "text/plain": [
       "<IPython.core.display.Math object>"
      ]
     },
     "metadata": {},
     "output_type": "display_data"
    }
   ],
   "source": [
    "display(Math(latex(solve(eq_A, A_1))))"
   ]
  },
  {
   "cell_type": "code",
   "execution_count": 482,
   "metadata": {},
   "outputs": [
    {
     "data": {
      "text/plain": [
       "pi*(A_x*b*h*n_x + A_y*a*h*n_y + A_z*a*b*n_z)/(a*b*h)"
      ]
     },
     "execution_count": 482,
     "metadata": {},
     "output_type": "execute_result"
    }
   ],
   "source": [
    "(A_1*k_1 + A_2*k_2 + A_3*k_3).subs(k_1 == n_1 * pi / a, k_2 == n_2 * pi / b, k_3 == n_3 * pi / h).factor()"
   ]
  },
  {
   "cell_type": "code",
   "execution_count": 483,
   "metadata": {},
   "outputs": [
    {
     "data": {
      "text/latex": [
       "$\\displaystyle A_{x} b h n_{x} + A_{y} a h n_{y} + A_{z} a b n_{z} = 0$"
      ],
      "text/plain": [
       "<IPython.core.display.Math object>"
      ]
     },
     "metadata": {},
     "output_type": "display_data"
    }
   ],
   "source": [
    "display(Math(latex(A_1*b*h*n_1 + A_2*a*h*n_2 + A_3*a*b*n_3 == 0)))"
   ]
  },
  {
   "cell_type": "code",
   "execution_count": null,
   "metadata": {},
   "outputs": [],
   "source": []
  },
  {
   "cell_type": "markdown",
   "metadata": {},
   "source": [
    "$rot\\,\\vec{H} = - \\frac{i\\,\\omega}{c} \\epsilon \\vec{E}$"
   ]
  },
  {
   "cell_type": "code",
   "execution_count": 484,
   "metadata": {},
   "outputs": [],
   "source": [
    "rotH_x = H_z.diff(y) - H_y.diff(z)\n",
    "rotH_y = H_x.diff(z) - H_z.diff(x)\n",
    "rotH_z = H_y.diff(x) - H_x.diff(y)"
   ]
  },
  {
   "cell_type": "code",
   "execution_count": 485,
   "metadata": {},
   "outputs": [],
   "source": [
    "E_x = - c / (I * omega * epsilon) * rotH_x\n",
    "E_y = - c / (I * omega * epsilon) * rotH_y\n",
    "E_z = - c / (I * omega * epsilon) * rotH_z"
   ]
  },
  {
   "cell_type": "code",
   "execution_count": 486,
   "metadata": {},
   "outputs": [
    {
     "data": {
      "text/latex": [
       "$\\displaystyle -\\frac{{\\left(A_{y} k_{x} k_{y} - A_{x} k_{y}^{2} + A_{z} k_{x} k_{z} - A_{x} k_{z}^{2}\\right)} c^{2} \\cos\\left(k_{x} x\\right) \\sin\\left(k_{y} y\\right) \\sin\\left(k_{z} z\\right)}{\\epsilon \\mu \\omega^{2}}$"
      ],
      "text/plain": [
       "<IPython.core.display.Math object>"
      ]
     },
     "metadata": {},
     "output_type": "display_data"
    },
    {
     "data": {
      "text/latex": [
       "$\\displaystyle \\frac{{\\left(A_{y} k_{x}^{2} - A_{x} k_{x} k_{y} - A_{z} k_{y} k_{z} + A_{y} k_{z}^{2}\\right)} c^{2} \\cos\\left(k_{y} y\\right) \\sin\\left(k_{x} x\\right) \\sin\\left(k_{z} z\\right)}{\\epsilon \\mu \\omega^{2}}$"
      ],
      "text/plain": [
       "<IPython.core.display.Math object>"
      ]
     },
     "metadata": {},
     "output_type": "display_data"
    },
    {
     "data": {
      "text/latex": [
       "$\\displaystyle \\frac{{\\left(A_{z} k_{x}^{2} + A_{z} k_{y}^{2} - A_{x} k_{x} k_{z} - A_{y} k_{y} k_{z}\\right)} c^{2} \\cos\\left(k_{z} z\\right) \\sin\\left(k_{x} x\\right) \\sin\\left(k_{y} y\\right)}{\\epsilon \\mu \\omega^{2}}$"
      ],
      "text/plain": [
       "<IPython.core.display.Math object>"
      ]
     },
     "metadata": {},
     "output_type": "display_data"
    }
   ],
   "source": [
    "display(Math(latex(E_x.full_simplify().factor())))\n",
    "display(Math(latex(E_y.full_simplify().factor())))\n",
    "display(Math(latex(E_z.full_simplify().factor())))"
   ]
  },
  {
   "cell_type": "code",
   "execution_count": 487,
   "metadata": {},
   "outputs": [],
   "source": [
    "# выражения для электрического поля\n",
    "\n",
    "eq_x = (E_x - A_1*cos(k_1*x)*sin(k_2*y)*sin(k_3*z))/(cos(k_1*x)*sin(k_2*y)*sin(k_3*z)) == 0\n",
    "eq_y = (E_y - A_2*sin(k_1*x)*cos(k_2*y)*sin(k_3*z))/(sin(k_1*x)*cos(k_2*y)*sin(k_3*z)) == 0\n",
    "eq_z = (E_z - A_3*sin(k_1*x)*sin(k_2*y)*cos(k_3*z))/(sin(k_1*x)*sin(k_2*y)*cos(k_3*z)) == 0"
   ]
  },
  {
   "cell_type": "code",
   "execution_count": 488,
   "metadata": {},
   "outputs": [
    {
     "data": {
      "text/latex": [
       "$\\displaystyle -\\frac{A_{x} \\cos\\left(k_{x} x\\right) \\sin\\left(k_{y} y\\right) \\sin\\left(k_{z} z\\right) - \\frac{i \\, c {\\left(\\frac{i \\, {\\left(A_{y} k_{x} k_{y} \\cos\\left(k_{x} x\\right) \\sin\\left(k_{y} y\\right) \\sin\\left(k_{z} z\\right) - A_{x} k_{y}^{2} \\cos\\left(k_{x} x\\right) \\sin\\left(k_{y} y\\right) \\sin\\left(k_{z} z\\right)\\right)} c}{\\mu \\omega} + \\frac{i \\, {\\left(A_{z} k_{x} k_{z} \\cos\\left(k_{x} x\\right) \\sin\\left(k_{y} y\\right) \\sin\\left(k_{z} z\\right) - A_{x} k_{z}^{2} \\cos\\left(k_{x} x\\right) \\sin\\left(k_{y} y\\right) \\sin\\left(k_{z} z\\right)\\right)} c}{\\mu \\omega}\\right)}}{\\epsilon \\omega}}{\\cos\\left(k_{x} x\\right) \\sin\\left(k_{y} y\\right) \\sin\\left(k_{z} z\\right)} = 0$"
      ],
      "text/plain": [
       "<IPython.core.display.Math object>"
      ]
     },
     "metadata": {},
     "output_type": "display_data"
    },
    {
     "data": {
      "text/latex": [
       "$\\displaystyle -\\frac{A_{y} \\cos\\left(k_{y} y\\right) \\sin\\left(k_{x} x\\right) \\sin\\left(k_{z} z\\right) - \\frac{i \\, c {\\left(-\\frac{i \\, {\\left(A_{y} k_{x}^{2} \\cos\\left(k_{y} y\\right) \\sin\\left(k_{x} x\\right) \\sin\\left(k_{z} z\\right) - A_{x} k_{x} k_{y} \\cos\\left(k_{y} y\\right) \\sin\\left(k_{x} x\\right) \\sin\\left(k_{z} z\\right)\\right)} c}{\\mu \\omega} + \\frac{i \\, {\\left(A_{z} k_{y} k_{z} \\cos\\left(k_{y} y\\right) \\sin\\left(k_{x} x\\right) \\sin\\left(k_{z} z\\right) - A_{y} k_{z}^{2} \\cos\\left(k_{y} y\\right) \\sin\\left(k_{x} x\\right) \\sin\\left(k_{z} z\\right)\\right)} c}{\\mu \\omega}\\right)}}{\\epsilon \\omega}}{\\cos\\left(k_{y} y\\right) \\sin\\left(k_{x} x\\right) \\sin\\left(k_{z} z\\right)} = 0$"
      ],
      "text/plain": [
       "<IPython.core.display.Math object>"
      ]
     },
     "metadata": {},
     "output_type": "display_data"
    },
    {
     "data": {
      "text/latex": [
       "$\\displaystyle -\\frac{A_{z} \\cos\\left(k_{z} z\\right) \\sin\\left(k_{x} x\\right) \\sin\\left(k_{y} y\\right) - \\frac{i \\, c {\\left(-\\frac{i \\, {\\left(A_{z} k_{x}^{2} \\cos\\left(k_{z} z\\right) \\sin\\left(k_{x} x\\right) \\sin\\left(k_{y} y\\right) - A_{x} k_{x} k_{z} \\cos\\left(k_{z} z\\right) \\sin\\left(k_{x} x\\right) \\sin\\left(k_{y} y\\right)\\right)} c}{\\mu \\omega} - \\frac{i \\, {\\left(A_{z} k_{y}^{2} \\cos\\left(k_{z} z\\right) \\sin\\left(k_{x} x\\right) \\sin\\left(k_{y} y\\right) - A_{y} k_{y} k_{z} \\cos\\left(k_{z} z\\right) \\sin\\left(k_{x} x\\right) \\sin\\left(k_{y} y\\right)\\right)} c}{\\mu \\omega}\\right)}}{\\epsilon \\omega}}{\\cos\\left(k_{z} z\\right) \\sin\\left(k_{x} x\\right) \\sin\\left(k_{y} y\\right)} = 0$"
      ],
      "text/plain": [
       "<IPython.core.display.Math object>"
      ]
     },
     "metadata": {},
     "output_type": "display_data"
    }
   ],
   "source": [
    "display(Math(latex(eq_x)))\n",
    "display(Math(latex(eq_y)))\n",
    "display(Math(latex(eq_z)))"
   ]
  },
  {
   "cell_type": "code",
   "execution_count": 489,
   "metadata": {},
   "outputs": [
    {
     "data": {
      "text/latex": [
       "$\\displaystyle -\\frac{A_{y} c^{2} k_{x} k_{y} - A_{x} c^{2} k_{y}^{2} + A_{z} c^{2} k_{x} k_{z} - A_{x} c^{2} k_{z}^{2} + A_{x} \\epsilon \\mu \\omega^{2}}{\\epsilon \\mu \\omega^{2}} = 0$"
      ],
      "text/plain": [
       "<IPython.core.display.Math object>"
      ]
     },
     "metadata": {},
     "output_type": "display_data"
    },
    {
     "data": {
      "text/latex": [
       "$\\displaystyle \\frac{A_{y} c^{2} k_{x}^{2} - A_{x} c^{2} k_{x} k_{y} - A_{z} c^{2} k_{y} k_{z} + A_{y} c^{2} k_{z}^{2} - A_{y} \\epsilon \\mu \\omega^{2}}{\\epsilon \\mu \\omega^{2}} = 0$"
      ],
      "text/plain": [
       "<IPython.core.display.Math object>"
      ]
     },
     "metadata": {},
     "output_type": "display_data"
    },
    {
     "data": {
      "text/latex": [
       "$\\displaystyle \\frac{A_{z} c^{2} k_{x}^{2} + A_{z} c^{2} k_{y}^{2} - A_{x} c^{2} k_{x} k_{z} - A_{y} c^{2} k_{y} k_{z} - A_{z} \\epsilon \\mu \\omega^{2}}{\\epsilon \\mu \\omega^{2}} = 0$"
      ],
      "text/plain": [
       "<IPython.core.display.Math object>"
      ]
     },
     "metadata": {},
     "output_type": "display_data"
    }
   ],
   "source": [
    "display(Math(latex(eq_x.full_simplify().factor())))\n",
    "display(Math(latex(eq_y.full_simplify().factor())))\n",
    "display(Math(latex(eq_z.full_simplify().factor())))"
   ]
  },
  {
   "cell_type": "code",
   "execution_count": 490,
   "metadata": {},
   "outputs": [
    {
     "data": {
      "text/latex": [
       "$\\displaystyle -A_{y} c^{2} k_{x} k_{y} + A_{x} c^{2} k_{y}^{2} - A_{z} c^{2} k_{x} k_{z} + A_{x} c^{2} k_{z}^{2} - A_{x} \\epsilon \\mu \\omega^{2} = 0$"
      ],
      "text/plain": [
       "<IPython.core.display.Math object>"
      ]
     },
     "metadata": {},
     "output_type": "display_data"
    },
    {
     "data": {
      "text/latex": [
       "$\\displaystyle A_{y} c^{2} k_{x}^{2} - A_{x} c^{2} k_{x} k_{y} - A_{z} c^{2} k_{y} k_{z} + A_{y} c^{2} k_{z}^{2} - A_{y} \\epsilon \\mu \\omega^{2} = 0$"
      ],
      "text/plain": [
       "<IPython.core.display.Math object>"
      ]
     },
     "metadata": {},
     "output_type": "display_data"
    },
    {
     "data": {
      "text/latex": [
       "$\\displaystyle A_{z} c^{2} k_{x}^{2} + A_{z} c^{2} k_{y}^{2} - A_{x} c^{2} k_{x} k_{z} - A_{y} c^{2} k_{y} k_{z} - A_{z} \\epsilon \\mu \\omega^{2} = 0$"
      ],
      "text/plain": [
       "<IPython.core.display.Math object>"
      ]
     },
     "metadata": {},
     "output_type": "display_data"
    }
   ],
   "source": [
    "eq_x = eq_x.full_simplify().factor().lhs().numerator() == 0\n",
    "eq_y = eq_y.full_simplify().factor().lhs().numerator() == 0\n",
    "eq_z = eq_z.full_simplify().factor().lhs().numerator() == 0\n",
    "\n",
    "display(Math(latex(eq_x)))\n",
    "display(Math(latex(eq_y)))\n",
    "display(Math(latex(eq_z)))"
   ]
  },
  {
   "cell_type": "code",
   "execution_count": 491,
   "metadata": {},
   "outputs": [
    {
     "data": {
      "text/latex": [
       "$\\displaystyle \\omega^{2} = \\frac{\\frac{\\pi^{2} c^{2} n_{x}^{2}}{a^{2}} + \\frac{\\pi^{2} c^{2} n_{y}^{2}}{b^{2}} + \\frac{\\pi^{2} c^{2} n_{z}^{2}}{h^{2}}}{\\epsilon \\mu}$"
      ],
      "text/plain": [
       "<IPython.core.display.Math object>"
      ]
     },
     "metadata": {},
     "output_type": "display_data"
    }
   ],
   "source": [
    "omega_2 = omega_2.subs(k_1 == n_1 * pi / a, k_2 == n_2 * pi / b, k_3 == n_3 * pi / h)\n",
    "display(Math(latex(omega_2)))"
   ]
  },
  {
   "cell_type": "code",
   "execution_count": 492,
   "metadata": {},
   "outputs": [],
   "source": [
    "if False:\n",
    "    omega_2 = omega_2.subs(b == a)"
   ]
  },
  {
   "cell_type": "code",
   "execution_count": 493,
   "metadata": {},
   "outputs": [],
   "source": [
    "eq_x = eq_x.subs(k_1 == n_1 * pi / a, k_2 == n_2 * pi / b, k_3 == n_3 * pi / h).subs(omega_2)\n",
    "eq_y = eq_y.subs(k_1 == n_1 * pi / a, k_2 == n_2 * pi / b, k_3 == n_3 * pi / h).subs(omega_2)\n",
    "eq_z = eq_z.subs(k_1 == n_1 * pi / a, k_2 == n_2 * pi / b, k_3 == n_3 * pi / h).subs(omega_2)"
   ]
  },
  {
   "cell_type": "code",
   "execution_count": 494,
   "metadata": {},
   "outputs": [],
   "source": [
    "eq_x = eq_x / (pi^2*c^2)\n",
    "eq_y = eq_y / (pi^2*c^2)\n",
    "eq_z = eq_z / (pi^2*c^2)"
   ]
  },
  {
   "cell_type": "code",
   "execution_count": 495,
   "metadata": {},
   "outputs": [],
   "source": [
    "if False:\n",
    "    eq_x = eq_x.subs(b == a)\n",
    "    eq_y = eq_y.subs(b == a)\n",
    "    eq_z = eq_z.subs(b == a)\n",
    "    eq_A = eq_A.subs(b == a)"
   ]
  },
  {
   "cell_type": "code",
   "execution_count": 496,
   "metadata": {},
   "outputs": [],
   "source": [
    "eq_x = eq_x.full_simplify().expand()\n",
    "eq_y = eq_y.full_simplify().expand()\n",
    "eq_z = eq_z.full_simplify().expand()"
   ]
  },
  {
   "cell_type": "code",
   "execution_count": 497,
   "metadata": {},
   "outputs": [
    {
     "data": {
      "text/latex": [
       "$\\displaystyle -\\frac{A_{x} n_{x}^{2}}{a^{2}} - \\frac{A_{y} n_{x} n_{y}}{a b} - \\frac{A_{z} n_{x} n_{z}}{a h} = 0$"
      ],
      "text/plain": [
       "<IPython.core.display.Math object>"
      ]
     },
     "metadata": {},
     "output_type": "display_data"
    },
    {
     "data": {
      "text/latex": [
       "$\\displaystyle -\\frac{A_{x} n_{x} n_{y}}{a b} - \\frac{A_{y} n_{y}^{2}}{b^{2}} - \\frac{A_{z} n_{y} n_{z}}{b h} = 0$"
      ],
      "text/plain": [
       "<IPython.core.display.Math object>"
      ]
     },
     "metadata": {},
     "output_type": "display_data"
    },
    {
     "data": {
      "text/latex": [
       "$\\displaystyle -\\frac{A_{x} n_{x} n_{z}}{a h} - \\frac{A_{y} n_{y} n_{z}}{b h} - \\frac{A_{z} n_{z}^{2}}{h^{2}} = 0$"
      ],
      "text/plain": [
       "<IPython.core.display.Math object>"
      ]
     },
     "metadata": {},
     "output_type": "display_data"
    },
    {
     "data": {
      "text/latex": [
       "$\\displaystyle \\frac{A_{x} n_{x}}{a} + \\frac{A_{y} n_{y}}{b} + \\frac{A_{z} n_{z}}{h} = 0$"
      ],
      "text/plain": [
       "<IPython.core.display.Math object>"
      ]
     },
     "metadata": {},
     "output_type": "display_data"
    }
   ],
   "source": [
    "display(Math(latex(eq_x)))\n",
    "display(Math(latex(eq_y)))\n",
    "display(Math(latex(eq_z)))\n",
    "display(Math(latex(eq_A)))"
   ]
  },
  {
   "cell_type": "code",
   "execution_count": null,
   "metadata": {},
   "outputs": [],
   "source": []
  },
  {
   "cell_type": "code",
   "execution_count": 508,
   "metadata": {},
   "outputs": [
    {
     "data": {
      "text/latex": [
       "$\\displaystyle A_{x} + A_{y} + \\frac{1}{10} \\, A_{z} = 0$"
      ],
      "text/plain": [
       "<IPython.core.display.Math object>"
      ]
     },
     "metadata": {},
     "output_type": "display_data"
    }
   ],
   "source": [
    "display(Math(latex(eq_A.subs(b == 1, a == 1, h == 10, n_1 == 1, n_2 == 1, n_3 == 1))))"
   ]
  },
  {
   "cell_type": "code",
   "execution_count": null,
   "metadata": {},
   "outputs": [],
   "source": []
  },
  {
   "cell_type": "code",
   "execution_count": 498,
   "metadata": {},
   "outputs": [],
   "source": [
    "def GenerateMatrix(equsys, vars):\n",
    "    A=matrix(SR, [[(equ.lhs() - equ.rhs()).coefficient(v) for v in vars] for equ in equsys])\n",
    "    return A"
   ]
  },
  {
   "cell_type": "code",
   "execution_count": 499,
   "metadata": {},
   "outputs": [],
   "source": [
    "vars = [A_1, A_2, A_3]"
   ]
  },
  {
   "cell_type": "code",
   "execution_count": 500,
   "metadata": {},
   "outputs": [],
   "source": [
    "eqs3 = [eq_x, eq_y, eq_z]"
   ]
  },
  {
   "cell_type": "code",
   "execution_count": 501,
   "metadata": {},
   "outputs": [],
   "source": [
    "eqs4 = [eq_x, eq_y, eq_z, eq_A]"
   ]
  },
  {
   "cell_type": "code",
   "execution_count": 502,
   "metadata": {},
   "outputs": [],
   "source": [
    "M = GenerateMatrix(eqs3, vars)"
   ]
  },
  {
   "cell_type": "code",
   "execution_count": 503,
   "metadata": {},
   "outputs": [
    {
     "data": {
      "text/latex": [
       "$\\displaystyle \\left(\\begin{array}{rrr}\n",
       "-\\frac{n_{x}^{2}}{a^{2}} & -\\frac{n_{x} n_{y}}{a b} & -\\frac{n_{x} n_{z}}{a h} \\\\\n",
       "-\\frac{n_{x} n_{y}}{a b} & -\\frac{n_{y}^{2}}{b^{2}} & -\\frac{n_{y} n_{z}}{b h} \\\\\n",
       "-\\frac{n_{x} n_{z}}{a h} & -\\frac{n_{y} n_{z}}{b h} & -\\frac{n_{z}^{2}}{h^{2}}\n",
       "\\end{array}\\right)$"
      ],
      "text/plain": [
       "<IPython.core.display.Math object>"
      ]
     },
     "metadata": {},
     "output_type": "display_data"
    }
   ],
   "source": [
    "display(Math(latex(M)))"
   ]
  },
  {
   "cell_type": "code",
   "execution_count": 504,
   "metadata": {},
   "outputs": [
    {
     "data": {
      "text/latex": [
       "$\\displaystyle 0$"
      ],
      "text/plain": [
       "<IPython.core.display.Math object>"
      ]
     },
     "metadata": {},
     "output_type": "display_data"
    }
   ],
   "source": [
    "display(Math(latex(M.determinant())))"
   ]
  },
  {
   "cell_type": "code",
   "execution_count": 505,
   "metadata": {},
   "outputs": [
    {
     "data": {
      "text/plain": [
       "(pi^2*c^2*n_x^2/a^2 + pi^2*c^2*n_y^2/b^2 + pi^2*c^2*n_z^2/h^2)/(epsilon*mu)"
      ]
     },
     "execution_count": 505,
     "metadata": {},
     "output_type": "execute_result"
    }
   ],
   "source": [
    "omega_2.rhs()"
   ]
  },
  {
   "cell_type": "code",
   "execution_count": 506,
   "metadata": {},
   "outputs": [
    {
     "data": {
      "text/latex": [
       "$\\displaystyle -\\frac{{\\left(A_{x} b h n_{x} + A_{y} a h n_{y} + A_{z} a b n_{z}\\right)} n_{x}}{a^{2} b h} = 0$"
      ],
      "text/plain": [
       "<IPython.core.display.Math object>"
      ]
     },
     "metadata": {},
     "output_type": "display_data"
    },
    {
     "data": {
      "text/latex": [
       "$\\displaystyle -\\frac{{\\left(A_{x} b h n_{x} + A_{y} a h n_{y} + A_{z} a b n_{z}\\right)} n_{y}}{a b^{2} h} = 0$"
      ],
      "text/plain": [
       "<IPython.core.display.Math object>"
      ]
     },
     "metadata": {},
     "output_type": "display_data"
    },
    {
     "data": {
      "text/latex": [
       "$\\displaystyle -\\frac{{\\left(A_{x} b h n_{x} + A_{y} a h n_{y} + A_{z} a b n_{z}\\right)} n_{z}}{a b h^{2}} = 0$"
      ],
      "text/plain": [
       "<IPython.core.display.Math object>"
      ]
     },
     "metadata": {},
     "output_type": "display_data"
    },
    {
     "data": {
      "text/latex": [
       "$\\displaystyle \\frac{A_{x} b h n_{x} + A_{y} a h n_{y} + A_{z} a b n_{z}}{a b h} = 0$"
      ],
      "text/plain": [
       "<IPython.core.display.Math object>"
      ]
     },
     "metadata": {},
     "output_type": "display_data"
    }
   ],
   "source": [
    "display(Math(latex(eq_x.subs(omega_2).full_simplify().factor())))\n",
    "display(Math(latex(eq_y.subs(omega_2).full_simplify().factor())))\n",
    "display(Math(latex(eq_z.subs(omega_2).full_simplify().factor())))\n",
    "display(Math(latex(eq_A.full_simplify().factor())))"
   ]
  },
  {
   "cell_type": "code",
   "execution_count": null,
   "metadata": {},
   "outputs": [],
   "source": []
  },
  {
   "cell_type": "code",
   "execution_count": 507,
   "metadata": {},
   "outputs": [
    {
     "data": {
      "text/latex": [
       "$\\displaystyle -\\frac{A_{x}}{a^{2}} - \\frac{A_{y}}{a b} - \\frac{A_{z}}{a h} = 0$"
      ],
      "text/plain": [
       "<IPython.core.display.Math object>"
      ]
     },
     "metadata": {},
     "output_type": "display_data"
    },
    {
     "data": {
      "text/latex": [
       "$\\displaystyle -\\frac{A_{y}}{b^{2}} - \\frac{A_{x}}{a b} - \\frac{A_{z}}{b h} = 0$"
      ],
      "text/plain": [
       "<IPython.core.display.Math object>"
      ]
     },
     "metadata": {},
     "output_type": "display_data"
    },
    {
     "data": {
      "text/latex": [
       "$\\displaystyle -\\frac{A_{z}}{h^{2}} - \\frac{A_{x}}{a h} - \\frac{A_{y}}{b h} = 0$"
      ],
      "text/plain": [
       "<IPython.core.display.Math object>"
      ]
     },
     "metadata": {},
     "output_type": "display_data"
    },
    {
     "data": {
      "text/latex": [
       "$\\displaystyle \\frac{A_{x}}{a} + \\frac{A_{y}}{b} + \\frac{A_{z}}{h} = 0$"
      ],
      "text/plain": [
       "<IPython.core.display.Math object>"
      ]
     },
     "metadata": {},
     "output_type": "display_data"
    }
   ],
   "source": [
    "display(Math(latex(eq_x.subs(n_1 == 1, n_2 == 1, n_3 == 1))))\n",
    "display(Math(latex(eq_y.subs(n_1 == 1, n_2 == 1, n_3 == 1))))\n",
    "display(Math(latex(eq_z.subs(n_1 == 1, n_2 == 1, n_3 == 1))))\n",
    "display(Math(latex(eq_A.subs(n_1 == 1, n_2 == 1, n_3 == 1))))"
   ]
  },
  {
   "cell_type": "code",
   "execution_count": null,
   "metadata": {},
   "outputs": [],
   "source": []
  },
  {
   "cell_type": "markdown",
   "metadata": {},
   "source": [
    "$rot\\,rot\\,\\vec{H} = - \\frac{i\\,\\omega}{c} \\epsilon_{\\alpha\\,\\beta} rot\\, \\vec{E}  + \\frac{4\\pi}{c} \\sigma rot\\,\\vec{E}$\n",
    "\n",
    "$rot\\,rot\\,\\vec{H} = \\left(- \\frac{i\\,\\omega}{c} \\epsilon_{\\alpha\\,\\beta} + \\frac{4\\pi}{c} \\sigma \\right) rot\\,\\vec{E}$\n",
    "\n",
    "$rot\\,rot\\,\\vec{H} = \\left(- \\frac{i\\,\\omega}{c} \\epsilon_{\\alpha\\,\\beta} + \\frac{4\\pi}{c} \\sigma \\right) \\mu\\,\\frac{i\\,\\omega}{c}\\,\\vec{H}$\n",
    "\n",
    "$rot\\,rot\\,\\vec{H} = \\mu\\,\\left(\\frac{\\omega^2}{c^2} \\epsilon_{\\alpha\\,\\beta} + i\\,\\frac{4\\pi\\omega}{c^2} \\sigma \\right)\\,\\vec{H}$\n",
    "\n",
    "$rot\\,rot\\,\\vec{H} = \\mu\\,\\frac{\\omega^2}{c^2}\\left(\\epsilon_{\\alpha\\,\\beta} + 4\\pi\\,i\\,\\frac{\\sigma}{\\omega}  \\right)\\,\\vec{H}$\n",
    "\n",
    "$rot\\,rot\\,\\vec{H} = grad\\,div\\,\\vec{H} - Laplasian\\,\\vec{H}$\n",
    "\n",
    "$Laplasian\\,\\vec{H} + \\frac{\\mu \\epsilon \\omega^2}{c^2}\\,\\vec{H} - grad\\,div\\,\\vec{H} = 0$"
   ]
  },
  {
   "cell_type": "code",
   "execution_count": 23,
   "metadata": {},
   "outputs": [],
   "source": [
    "B_1 = var ('B_1')\n",
    "B_2 = var ('B_2')\n",
    "B_3 = var ('B_3')"
   ]
  },
  {
   "cell_type": "code",
   "execution_count": 24,
   "metadata": {},
   "outputs": [],
   "source": [
    "# выражения для электрического поля\n",
    "\n",
    "H_x = B_1*sin(k_1*x)*cos(k_2*y)*cos(k_3*z)\n",
    "H_y = B_2*cos(k_1*x)*sin(k_2*y)*cos(k_3*z)\n",
    "H_z = B_3*cos(k_1*x)*cos(k_2*y)*sin(k_3*z)"
   ]
  },
  {
   "cell_type": "markdown",
   "metadata": {},
   "source": [
    "подставляя в исходное уравнение приходим к обыкновенному дифференциальному уравнению\n",
    "\n",
    "$\\frac{\\partial^2 \\vec H(x,y,z)}{\\partial x^2} + \\frac{\\partial^2 \\vec H(x,y,z)}{\\partial y^2} + \\frac{\\partial^2 \\vec H(x,y,z)}{\\partial z^2} + \\frac{\\mu\\, \\epsilon \\, \\omega^2}{c^2} \\vec H(x,y,z) = 0$"
   ]
  },
  {
   "cell_type": "code",
   "execution_count": 25,
   "metadata": {},
   "outputs": [],
   "source": [
    "eq_x = H_x.diff(x,2) + H_x.diff(y,2) + H_x.diff(z,2) + mu*epsilon*omega^2/c^2 * H_x == 0\n",
    "eq_y = H_y.diff(x,2) + H_y.diff(y,2) + H_y.diff(z,2) + mu*epsilon*omega^2/c^2 * H_y == 0\n",
    "eq_z = H_z.diff(x,2) + H_z.diff(y,2) + H_z.diff(z,2) + mu*epsilon*omega^2/c^2 * H_z == 0"
   ]
  },
  {
   "cell_type": "code",
   "execution_count": 26,
   "metadata": {},
   "outputs": [
    {
     "data": {
      "text/latex": [
       "$\\displaystyle -\\frac{{\\left(c^{2} k_{1}^{2} + c^{2} k_{2}^{2} + c^{2} k_{3}^{2} - \\epsilon \\mu \\omega^{2}\\right)} B_{1} \\cos\\left(k_{2} y\\right) \\cos\\left(k_{3} z\\right) \\sin\\left(k_{1} x\\right)}{c^{2}} = 0$"
      ],
      "text/plain": [
       "<IPython.core.display.Math object>"
      ]
     },
     "metadata": {},
     "output_type": "display_data"
    },
    {
     "data": {
      "text/latex": [
       "$\\displaystyle -\\frac{{\\left(c^{2} k_{1}^{2} + c^{2} k_{2}^{2} + c^{2} k_{3}^{2} - \\epsilon \\mu \\omega^{2}\\right)} B_{2} \\cos\\left(k_{1} x\\right) \\cos\\left(k_{3} z\\right) \\sin\\left(k_{2} y\\right)}{c^{2}} = 0$"
      ],
      "text/plain": [
       "<IPython.core.display.Math object>"
      ]
     },
     "metadata": {},
     "output_type": "display_data"
    },
    {
     "data": {
      "text/latex": [
       "$\\displaystyle -\\frac{{\\left(c^{2} k_{1}^{2} + c^{2} k_{2}^{2} + c^{2} k_{3}^{2} - \\epsilon \\mu \\omega^{2}\\right)} B_{3} \\cos\\left(k_{1} x\\right) \\cos\\left(k_{2} y\\right) \\sin\\left(k_{3} z\\right)}{c^{2}} = 0$"
      ],
      "text/plain": [
       "<IPython.core.display.Math object>"
      ]
     },
     "metadata": {},
     "output_type": "display_data"
    }
   ],
   "source": [
    "display(Math(latex(eq_x.full_simplify().factor())))\n",
    "display(Math(latex(eq_y.full_simplify().factor())))\n",
    "display(Math(latex(eq_z.full_simplify().factor())))"
   ]
  },
  {
   "cell_type": "markdown",
   "metadata": {},
   "source": [
    "$div\\,\\vec{H} = 0$"
   ]
  },
  {
   "cell_type": "code",
   "execution_count": 27,
   "metadata": {},
   "outputs": [],
   "source": [
    "div_H = H_x.diff(x) + H_y.diff(y) + H_z.diff(z)"
   ]
  },
  {
   "cell_type": "code",
   "execution_count": 28,
   "metadata": {},
   "outputs": [
    {
     "data": {
      "text/latex": [
       "$\\displaystyle {\\left(B_{1} k_{1} + B_{2} k_{2} + B_{3} k_{3}\\right)} \\cos\\left(k_{1} x\\right) \\cos\\left(k_{2} y\\right) \\cos\\left(k_{3} z\\right) = 0$"
      ],
      "text/plain": [
       "<IPython.core.display.Math object>"
      ]
     },
     "metadata": {},
     "output_type": "display_data"
    }
   ],
   "source": [
    "display(Math(latex(div_H.full_simplify().factor() == 0)))"
   ]
  },
  {
   "cell_type": "markdown",
   "metadata": {},
   "source": [
    "$rot\\,\\vec{H} = - \\frac{i\\,\\omega}{c} \\epsilon \\vec{E}$"
   ]
  },
  {
   "cell_type": "code",
   "execution_count": 29,
   "metadata": {},
   "outputs": [],
   "source": [
    "rotH_x = H_z.diff(y) - H_y.diff(z)\n",
    "rotH_y = H_x.diff(z) - H_z.diff(x)\n",
    "rotH_z = H_y.diff(x) - H_x.diff(y)"
   ]
  },
  {
   "cell_type": "code",
   "execution_count": 30,
   "metadata": {},
   "outputs": [],
   "source": [
    "E_x = - c / (I * omega * mu) * rotH_x\n",
    "E_y = - c / (I * omega * mu) * rotH_y\n",
    "E_z = - c / (I * omega * mu) * rotH_z"
   ]
  },
  {
   "cell_type": "code",
   "execution_count": 31,
   "metadata": {},
   "outputs": [
    {
     "data": {
      "text/latex": [
       "$\\displaystyle -\\frac{i \\, {\\left(B_{3} k_{2} - B_{2} k_{3}\\right)} c \\cos\\left(k_{1} x\\right) \\sin\\left(k_{2} y\\right) \\sin\\left(k_{3} z\\right)}{\\mu \\omega}$"
      ],
      "text/plain": [
       "<IPython.core.display.Math object>"
      ]
     },
     "metadata": {},
     "output_type": "display_data"
    },
    {
     "data": {
      "text/latex": [
       "$\\displaystyle \\frac{i \\, {\\left(B_{3} k_{1} - B_{1} k_{3}\\right)} c \\cos\\left(k_{2} y\\right) \\sin\\left(k_{1} x\\right) \\sin\\left(k_{3} z\\right)}{\\mu \\omega}$"
      ],
      "text/plain": [
       "<IPython.core.display.Math object>"
      ]
     },
     "metadata": {},
     "output_type": "display_data"
    },
    {
     "data": {
      "text/latex": [
       "$\\displaystyle -\\frac{i \\, {\\left(B_{2} k_{1} - B_{1} k_{2}\\right)} c \\cos\\left(k_{3} z\\right) \\sin\\left(k_{1} x\\right) \\sin\\left(k_{2} y\\right)}{\\mu \\omega}$"
      ],
      "text/plain": [
       "<IPython.core.display.Math object>"
      ]
     },
     "metadata": {},
     "output_type": "display_data"
    }
   ],
   "source": [
    "display(Math(latex(E_x.full_simplify().factor())))\n",
    "display(Math(latex(E_y.full_simplify().factor())))\n",
    "display(Math(latex(E_z.full_simplify().factor())))"
   ]
  },
  {
   "cell_type": "code",
   "execution_count": null,
   "metadata": {},
   "outputs": [],
   "source": []
  },
  {
   "cell_type": "code",
   "execution_count": 32,
   "metadata": {
    "scrolled": false
   },
   "outputs": [
    {
     "data": {
      "text/plain": [
       "0"
      ]
     },
     "execution_count": 32,
     "metadata": {},
     "output_type": "execute_result"
    }
   ],
   "source": [
    "E_x.subs(k_1 == 0, k_2 == 0)"
   ]
  },
  {
   "cell_type": "code",
   "execution_count": 33,
   "metadata": {},
   "outputs": [
    {
     "data": {
      "text/plain": [
       "0"
      ]
     },
     "execution_count": 33,
     "metadata": {},
     "output_type": "execute_result"
    }
   ],
   "source": [
    "E_y.subs(k_1 == 0, k_2 == 0)"
   ]
  },
  {
   "cell_type": "code",
   "execution_count": 34,
   "metadata": {},
   "outputs": [
    {
     "data": {
      "text/plain": [
       "0"
      ]
     },
     "execution_count": 34,
     "metadata": {},
     "output_type": "execute_result"
    }
   ],
   "source": [
    "E_z.subs(k_1 == 0, k_2 == 0)"
   ]
  },
  {
   "cell_type": "code",
   "execution_count": 35,
   "metadata": {},
   "outputs": [
    {
     "data": {
      "text/plain": [
       "0"
      ]
     },
     "execution_count": 35,
     "metadata": {},
     "output_type": "execute_result"
    }
   ],
   "source": [
    "H_x.subs(k_1 == 0, k_2 == 0)"
   ]
  },
  {
   "cell_type": "code",
   "execution_count": 36,
   "metadata": {},
   "outputs": [
    {
     "data": {
      "text/plain": [
       "0"
      ]
     },
     "execution_count": 36,
     "metadata": {},
     "output_type": "execute_result"
    }
   ],
   "source": [
    "H_y.subs(k_1 == 0, k_2 == 0)"
   ]
  },
  {
   "cell_type": "code",
   "execution_count": 37,
   "metadata": {},
   "outputs": [
    {
     "data": {
      "text/plain": [
       "B_3*sin(k_3*z)"
      ]
     },
     "execution_count": 37,
     "metadata": {},
     "output_type": "execute_result"
    }
   ],
   "source": [
    "H_z.subs(k_1 == 0, k_2 == 0)"
   ]
  },
  {
   "cell_type": "code",
   "execution_count": null,
   "metadata": {},
   "outputs": [],
   "source": []
  },
  {
   "cell_type": "code",
   "execution_count": 38,
   "metadata": {
    "scrolled": false
   },
   "outputs": [
    {
     "data": {
      "text/latex": [
       "$\\displaystyle -\\frac{i \\, {\\left(B_{3} k_{2} \\sin\\left(k_{2} y\\right) \\sin\\left(k_{3} z\\right) - B_{2} k_{3} \\sin\\left(k_{2} y\\right) \\sin\\left(k_{3} z\\right)\\right)} c}{\\mu \\omega}$"
      ],
      "text/plain": [
       "<IPython.core.display.Math object>"
      ]
     },
     "metadata": {},
     "output_type": "display_data"
    }
   ],
   "source": [
    "display(Math(latex(E_x.subs(k_1 == 0))))"
   ]
  },
  {
   "cell_type": "code",
   "execution_count": 39,
   "metadata": {},
   "outputs": [
    {
     "data": {
      "text/plain": [
       "0"
      ]
     },
     "execution_count": 39,
     "metadata": {},
     "output_type": "execute_result"
    }
   ],
   "source": [
    "E_y.subs(k_1 == 0)"
   ]
  },
  {
   "cell_type": "code",
   "execution_count": 40,
   "metadata": {},
   "outputs": [
    {
     "data": {
      "text/plain": [
       "0"
      ]
     },
     "execution_count": 40,
     "metadata": {},
     "output_type": "execute_result"
    }
   ],
   "source": [
    "E_z.subs(k_1 == 0)"
   ]
  },
  {
   "cell_type": "code",
   "execution_count": 41,
   "metadata": {},
   "outputs": [
    {
     "data": {
      "text/plain": [
       "0"
      ]
     },
     "execution_count": 41,
     "metadata": {},
     "output_type": "execute_result"
    }
   ],
   "source": [
    "H_x.subs(k_1 == 0)"
   ]
  },
  {
   "cell_type": "code",
   "execution_count": 42,
   "metadata": {},
   "outputs": [
    {
     "data": {
      "text/latex": [
       "$\\displaystyle B_{2} \\cos\\left(k_{3} z\\right) \\sin\\left(k_{2} y\\right)$"
      ],
      "text/plain": [
       "<IPython.core.display.Math object>"
      ]
     },
     "metadata": {},
     "output_type": "display_data"
    }
   ],
   "source": [
    "display(Math(latex(H_y.subs(k_1 == 0))))"
   ]
  },
  {
   "cell_type": "code",
   "execution_count": 43,
   "metadata": {
    "scrolled": true
   },
   "outputs": [
    {
     "data": {
      "text/latex": [
       "$\\displaystyle B_{3} \\cos\\left(k_{2} y\\right) \\sin\\left(k_{3} z\\right)$"
      ],
      "text/plain": [
       "<IPython.core.display.Math object>"
      ]
     },
     "metadata": {},
     "output_type": "display_data"
    }
   ],
   "source": [
    "display(Math(latex(H_z.subs(k_1 == 0))))"
   ]
  },
  {
   "cell_type": "code",
   "execution_count": null,
   "metadata": {},
   "outputs": [],
   "source": []
  }
 ],
 "metadata": {
  "kernelspec": {
   "display_name": "SageMath 9.4.rc2",
   "language": "sage",
   "name": "sagemath"
  },
  "language_info": {
   "codemirror_mode": {
    "name": "ipython",
    "version": 3
   },
   "file_extension": ".py",
   "mimetype": "text/x-python",
   "name": "python",
   "nbconvert_exporter": "python",
   "pygments_lexer": "ipython3",
   "version": "3.9.5"
  }
 },
 "nbformat": 4,
 "nbformat_minor": 2
}
