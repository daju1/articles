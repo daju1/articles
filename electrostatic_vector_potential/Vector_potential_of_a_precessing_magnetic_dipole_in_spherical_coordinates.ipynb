{
 "cells": [
  {
   "cell_type": "markdown",
   "id": "d4ed3de1",
   "metadata": {},
   "source": [
    "Предыстория вопроса состоит в том, что в работе \n",
    "\n",
    "https://nbviewer.org/github/daju1/articles/blob/master/electrostatic_vector_potential/Vector_potential_of_the_electrostatic_field_of_a_point_charge.ipynb\n",
    "\n",
    "мне удалось записать векторный потенциал для кулоновского поля точечного электрического заряда. Таким образом формула для векторного потенциала кулоновского заряда получена и проверка показала, что операция ротора примененная к этому векторнному потенциалу дает кулоновское электрическое поле точечного заряда.\n",
    "\n",
    "Полученный векторный потенциал по своей форме весьма интересный. Его вид как будто показал, что существование электростатического заряда не возможно без выделенной оси вращения.\n",
    "\n",
    "Поэтому в настоящей работе я задаюсь следующим вопросом: может ли векторный потенциал кулоновского поля электрона создаваться, например, с помощью прецессии дипольного момента магнетона Бора?\n",
    "\n",
    "Таким образом я рассматриваю далее следующую задачу: имеется магнитный диполь с двумя противоположно заряженными магнитными полюсами, который прецессирует вокруг оси проходящей через центр магнитного диполя. Таким образом создаётся симметричная пара кольцевых магнитных токов, которые текут во взаимно противоположных направлениях (потому как движение по окружности в одном и том же направлении, например по часовой стрелке, пары магнитных зарядов, имеющих противоположные знаки создает пару взаимно противоположных по направлению кольцевых магнитных токов).\n",
    "\n",
    "Для решения этой задачи в литературе был найден алгоритм расчета векторного потенциала для кольцевого тока, который сводится к эллиптическим интегралам. Таким образом трехмерное интегрирование сводится к двумерному.\n",
    "\n",
    "И теперь я записываю интегральное уравнение, которое выглядит следующим образом: в левой части формула векторного потенциала кулоновского заряда, а в правой части двойной интеграл по пространственным координатам (в цилиндрической системе координат) источников магнитного тока по объему.\n",
    "\n",
    "Поскольку я рассматриваю не точечный магнитный заряд в составе прецессирующего диполя магнетона Бора, а распределенный в пространстве магнитный заряд, то в подынтегральном выражении моего интегрального уравнения есть два множителя: неизвестная функция плотности распределения магнитных токов в пространстве и так называемое ядро (или оператор) моего интегрального уравнения.\n",
    "\n",
    "Интегральное уравнение решается методом итераций. Из-за вычислительных сложностей многоитерационного интегирования в данной работе представлен результат лишь нулевого приближения неизвестной функции распределения магнитных токов прецессирующего магнетона Бора в пространстве."
   ]
  },
  {
   "cell_type": "markdown",
   "id": "f9050cb8",
   "metadata": {},
   "source": [
    "# Векторный потенциал кольцевого тока"
   ]
  },
  {
   "cell_type": "markdown",
   "id": "346301d7",
   "metadata": {},
   "source": [
    "Выберем ортогональную сферическую систему координат. Вектор тока в этой системе\n",
    "имеет только одну альфовую проекцию. Такую же составляющую должен иметь\n",
    "и вектор А\n",
    "\n",
    "$d\\vec{A} = \\frac{\\mu}{4 \\pi}\\int\\limits_{\\varphi}^{}\\frac{d\\vec{I}}{R}$\n",
    "\n",
    "Элемент интегрирования\n",
    "\n",
    "$d\\vec{l} = r\\, sin \\theta \\, d \\varphi \\,{\\vec {e}}_{\\varphi }$\n",
    "\n",
    "Его проекция на направление ${\\vec {e}}_{\\varphi }$: \n",
    "\n",
    "$dl_{\\varphi} = r\\, sin \\theta  \\, d \\varphi \\,cos\\,{\\varphi }$\n",
    "\n",
    "\n",
    "Поскольку расстояние между координатами заряда и точки наблюдения ${{R}}=\\left|\\overrightarrow{r_{q}} - \\overrightarrow{r_{a}}\\right|$ находится в знаменателе, то в сферической системе координат можно применить разложение по сферическим гармоникам следующего вида  \\cite{flugge}\n",
    "\n",
    "если $\\left( {{r}_{q}}<{{r}_{a}} \\right)$ то\n",
    "\n",
    "$\\frac{1}{\\left| \\overrightarrow{{{r}_{q}}}-\\overrightarrow{{{r}_{a}}} \\right|}=\\frac{1}{{{r}_{a}}}\\sum\\limits_{l=0}^{\\infty }{{{\\left( \\frac{{{r}_{q}}}{{{r}_{a}}} \\right)}^{l}}{{P}_{l}} \\cos \\left( \\gamma  \\right)}$\n",
    "\n",
    "и если $\\left( {{r}_{a}}<{{r}_{q}} \\right)$ то\n",
    "\n",
    "$\\frac{1}{\\left| \\overrightarrow{{{r}_{q}}}-\\overrightarrow{{{r}_{a}}} \\right|}=\\frac{1}{{{r}_{q}}}\\sum\\limits_{l=0}^{\\infty }{{{\\left( \\frac{{{r}_{a}}}{{{r}_{q}}} \\right)}^{l}}{{P}_{l}} \\cos \\left( \\gamma  \\right)}$\n",
    "\n",
    "В данной формуле ${{P}_{l}} \\cos \\left( \\gamma  \\right)$ это полиномы Лежандра аргумент которых $\\gamma$ есть угол между векторами ${{r}_{q}}$  и ${{r}_{a}}$. Применяя формулу, известную как теорему сложения\n",
    "\n",
    "${{P}_{l}}\\cos \\left( \\gamma  \\right)=\\frac{4\\pi }{2l+1}\\sum\\limits_{m=-l}^{l}{Y_{l,m}^{*}\\left( {{\\theta }_{a}},{{\\varphi }_{a}} \\right)}\\ {{Y}_{l,m}}\\left( {{\\theta }_{q}},{{\\varphi }_{q}} \\right)$\n",
    "\n",
    "получаем способ аналитического вычисления векторного потенциала кольцевого тока\n",
    "\n",
    "$\\vec{A} = \\frac{\\mu \\, I}{4 \\pi}\\int\\limits_{\\varphi}^{}\\frac{r_j \\, sin \\theta_j \\, d \\varphi \\,{\\vec {e}}_{\\varphi }}{R}$\n",
    "\n",
    "$dl_{\\varphi} = r_j \\, sin \\theta_j \\, d {\\left(\\varphi_j - \\varphi_a\\right)} \\,cos\\,{\\left(\\varphi_j - \\varphi_a\\right)}$"
   ]
  },
  {
   "cell_type": "markdown",
   "id": "3fefd08b",
   "metadata": {},
   "source": [
    "$A_{\\varphi} = \\frac{\\mu \\, I}{4 \\pi}\\int\\limits_{\\varphi}^{}\\frac{r_j \\, sin \\theta_j \\,cos\\,{\\left(\\varphi_j - \\varphi_a\\right)}}{R} \\, d {\\left(\\varphi_j - \\varphi_a\\right)}$"
   ]
  },
  {
   "cell_type": "markdown",
   "id": "60557f69",
   "metadata": {},
   "source": [
    "$A_{\\varphi} = \\frac{\\mu \\, I}{4 \\pi}r_j \\, sin \\theta_j \\,\\int\\limits_{{\\left(\\varphi_j - \\varphi_a\\right)}=0}^{2\\pi}\\frac{cos\\,{\\left(\\varphi_j - \\varphi_a\\right)}}{R} \\, d {\\left(\\varphi_j - \\varphi_a\\right)}$"
   ]
  },
  {
   "cell_type": "markdown",
   "id": "689cdd9f",
   "metadata": {},
   "source": [
    "Перепишем разложение по сферическим гармоникам как\n",
    "\n",
    "если $\\left( {{r}_{q}}<{{r}_{a}} \\right)$ то\n",
    "\n",
    "$\\frac{1}{R} = \\frac{1}{\\left| \\overrightarrow{{{r}_{q}}}-\\overrightarrow{{{r}_{a}}} \\right|}=\\frac{1}{{{r}_{a}}}\\sum\\limits_{l=0}^{\\infty }{{{\\left( \\frac{{{r}_{q}}}{{{r}_{a}}} \\right)}^{l}}{\\frac{4\\pi }{2l+1}\\sum\\limits_{m=-l}^{l}{Y_{l,m}^{*}\\left( {{\\theta }_{a}},{{\\varphi }_{a}} \\right)}\\, {{Y}_{l,m}}\\left( {{\\theta }_{q}},{{\\varphi }_{q}} \\right)}}$\n",
    "\n",
    "и если $\\left( {{r}_{a}}<{{r}_{q}} \\right)$ то\n",
    "\n",
    "$\\frac{1}{R} = \\frac{1}{\\left| \\overrightarrow{{{r}_{q}}}-\\overrightarrow{{{r}_{a}}} \\right|}=\\frac{1}{{{r}_{q}}}\\sum\\limits_{l=0}^{\\infty }{{{\\left( \\frac{{{r}_{a}}}{{{r}_{q}}} \\right)}^{l}}{\\frac{4\\pi }{2l+1}\\sum\\limits_{m=-l}^{l}{Y_{l,m}^{*}\\left( {{\\theta }_{a}},{{\\varphi }_{a}} \\right)}\\, {{Y}_{l,m}}\\left( {{\\theta }_{q}},{{\\varphi }_{q}} \\right)}}$\n"
   ]
  },
  {
   "cell_type": "markdown",
   "id": "fd2809ac",
   "metadata": {},
   "source": [
    "Векторный потенциал кольцевого тока с учётом этого разложения\n",
    "\n",
    "если $\\left( {{r}_{q}}<{{r}_{a}} \\right)$ то\n",
    "\n",
    "$A_{\\varphi} = \\frac{\\mu \\, I}{4 \\pi}\\,r_q \\, sin \\theta_q \\,\\int\\limits_{{\\left(\\varphi_q - \\varphi_a\\right)}}^{} cos\\,{{\\left(\\varphi_q - \\varphi_a\\right)} } \\,\\frac{1}{{{r}_{a}}}\\sum\\limits_{l=0}^{\\infty }{{{\\left( \\frac{{{r}_{q}}}{{{r}_{a}}} \\right)}^{l}}{\\frac{4\\pi }{2l+1}\\sum\\limits_{m=-l}^{l}{Y_{l,m}^{*}\\left( {{\\theta }_{a}},{{\\varphi }_{a}} \\right)}\\, {{Y}_{l,m}}\\left( {{\\theta }_{q}},{{\\varphi }_{q}} \\right)}} \\, d {\\left(\\varphi_q - \\varphi_a\\right)}$\n",
    "\n",
    "и если $\\left( {{r}_{a}}<{{r}_{q}} \\right)$ то\n",
    "\n",
    "$A_{\\varphi} = \\frac{\\mu \\, I}{4 \\pi}\\,r_q \\, sin \\theta_q \\,\\int\\limits_{{\\left(\\varphi_q - \\varphi_a\\right)}}^{} cos\\,{{\\left(\\varphi_q - \\varphi_a\\right)} } \\, \\frac{1}{{{r}_{q}}}\\sum\\limits_{l=0}^{\\infty }{{{\\left( \\frac{{{r}_{a}}}{{{r}_{q}}} \\right)}^{l}}{\\frac{4\\pi }{2l+1}\\sum\\limits_{m=-l}^{l}{Y_{l,m}^{*}\\left( {{\\theta }_{a}},{{\\varphi }_{a}} \\right)}\\, {{Y}_{l,m}}\\left( {{\\theta }_{q}},{{\\varphi }_{q}} \\right)}} \\, d {\\left(\\varphi_q - \\varphi_a\\right)}$"
   ]
  },
  {
   "cell_type": "markdown",
   "id": "2f5ff65f",
   "metadata": {},
   "source": [
    "Исходя из симметричности задачи относительно поворота вокруг угла $\\varphi$ в дальнейших рассуждениях мы можем пойти двумя путями - либо положить $\\varphi_q=0$ либо положить $\\varphi_a = 0$"
   ]
  },
  {
   "cell_type": "markdown",
   "id": "2652adea",
   "metadata": {},
   "source": [
    "Перенеся операцию интегрирования получаем\n",
    "\n",
    "если $\\left( {{r}_{q}}<{{r}_{a}} \\right)$ то\n",
    "\n",
    "$A_{\\varphi} = \\frac{\\mu \\, I}{4 \\pi}\\,r_q \\, sin \\theta_q \\,\\frac{1}{{{r}_{a}}}\\sum\\limits_{l=0}^{\\infty }{{{\\left( \\frac{{{r}_{q}}}{{{r}_{a}}} \\right)}^{l}}{\\frac{4\\pi }{2l+1}\\sum\\limits_{m=-l}^{l}{Y_{l,m}^{*}\\left( {{\\theta }_{a}},{{\\varphi }_{a}} \\right)}\\, \\int\\limits_{\\varphi_q}^{} cos\\,{\\varphi_q } \\, {{Y}_{l,m}}\\left( {{\\theta }_{q}},{{\\varphi }_{q}} \\right)}} \\, d \\varphi_q$\n",
    "\n",
    "и если $\\left( {{r}_{a}}<{{r}_{q}} \\right)$ то\n",
    "\n",
    "$A_{\\varphi} = \\frac{\\mu \\, I}{4 \\pi}\\,r_q \\, sin \\theta_q \\, \\frac{1}{{{r}_{q}}}\\sum\\limits_{l=0}^{\\infty }{{{\\left( \\frac{{{r}_{a}}}{{{r}_{q}}} \\right)}^{l}}{\\frac{4\\pi }{2l+1}\\sum\\limits_{m=-l}^{l}{Y_{l,m}^{*}\\left( {{\\theta }_{a}},{{\\varphi }_{a}} \\right)}\\,\\int\\limits_{\\varphi_q}^{} cos\\,{\\varphi_q } \\, {{Y}_{l,m}}\\left( {{\\theta }_{q}},{{\\varphi }_{q}} \\right)}} \\, d \\varphi_q$"
   ]
  },
  {
   "cell_type": "code",
   "execution_count": 1,
   "id": "f92423f4",
   "metadata": {},
   "outputs": [],
   "source": [
    "from IPython.display import display, Math, Latex\n",
    "\n",
    "def disp(ex):\n",
    "    display(Math(latex(ex)))\n",
    "    \n",
    "def displ(tex):\n",
    "    display(Math(tex))"
   ]
  },
  {
   "cell_type": "code",
   "execution_count": 2,
   "id": "983748e7",
   "metadata": {},
   "outputs": [],
   "source": [
    "theta_m = var(\"theta_m\")\n",
    "theta_a = var(\"theta_a\")\n",
    "#assume (theta_a, \"real\")\n",
    "r_m = var(\"r_m\")\n",
    "r_a = var(\"r_a\")\n",
    "\n",
    "assume(r_m>0)\n",
    "assume(r_a>0)"
   ]
  },
  {
   "cell_type": "code",
   "execution_count": 3,
   "id": "f68c72e8",
   "metadata": {},
   "outputs": [
    {
     "data": {
      "text/latex": [
       "$\\displaystyle \\begin{cases}{-\\pi Y_{l}^{1}\\left(\\theta_{m}, 2 \\, \\pi\\right)} & {m = \\left(-1\\right)}\\\\{\\pi Y_{l}^{1}\\left(\\theta_{m}, 2 \\, \\pi\\right)} & {m = 1}\\\\{\\frac{i \\, m Y_{l}^{m}\\left(\\theta_{m}, 0\\right)}{m^{2} - 1} - \\frac{i \\, m Y_{l}^{m}\\left(\\theta_{m}, 2 \\, \\pi\\right)}{m^{2} - 1}} & {1}\\end{cases}$"
      ],
      "text/plain": [
       "<IPython.core.display.Math object>"
      ]
     },
     "metadata": {},
     "output_type": "display_data"
    }
   ],
   "source": [
    "from sage.functions.special import spherical_harmonic\n",
    "from sage.symbolic.integration.integral import definite_integral\n",
    "from sage.calculus.calculus import symbolic_sum\n",
    "\n",
    "l, m = var(\"l, m\")\n",
    "theta_m, phi_m = var (\"theta_m, phi_m\")\n",
    "theta_a, phi_a = var (\"theta_a, phi_a\")\n",
    "disp(integrate(spherical_harmonic(l, m, theta_m, phi_m)*cos(phi_m), phi_m, 0, 2*pi, algorithm=\"sympy\"))"
   ]
  },
  {
   "cell_type": "code",
   "execution_count": 4,
   "id": "422fe6b5",
   "metadata": {},
   "outputs": [
    {
     "data": {
      "text/latex": [
       "$\\displaystyle \\begin{cases}{-\\pi Y_{l}^{1}\\left(\\theta_{a}, 2 \\, \\pi\\right) + \\frac{1}{2} i \\, Y_{l}^{1}\\left(\\theta_{a}, 0\\right) - \\frac{1}{2} i \\, Y_{l}^{1}\\left(\\theta_{a}, 2 \\, \\pi\\right)} & {m = \\left(-1\\right)}\\\\{\\pi Y_{l}^{1}\\left(\\theta_{a}, 2 \\, \\pi\\right) + \\frac{1}{2} i \\, Y_{l}^{1}\\left(\\theta_{a}, 0\\right) - \\frac{1}{2} i \\, Y_{l}^{1}\\left(\\theta_{a}, 2 \\, \\pi\\right)} & {m = 1}\\\\{-\\frac{i \\, m e^{\\left(-4 i \\, \\pi m\\right)} Y_{l}^{m}\\left(\\theta_{a}, 2 \\, \\pi\\right)}{m^{2} e^{\\left(-4 i \\, \\pi m\\right)} - e^{\\left(-4 i \\, \\pi m\\right)}} + \\frac{i \\, m Y_{l}^{m}\\left(\\theta_{a}, 0\\right)}{m^{2} - 1}} & {1}\\end{cases}$"
      ],
      "text/plain": [
       "<IPython.core.display.Math object>"
      ]
     },
     "metadata": {},
     "output_type": "display_data"
    }
   ],
   "source": [
    "disp(integrate(spherical_harmonic(l, m, theta_a, -phi_a)*cos(phi_a), phi_a, -2*pi, 0, algorithm=\"sympy\"))"
   ]
  },
  {
   "cell_type": "code",
   "execution_count": 5,
   "id": "9bd34bd7",
   "metadata": {},
   "outputs": [
    {
     "data": {
      "text/latex": [
       "$\\displaystyle \\begin{cases}{\\pi Y_{l}^{1}\\left(\\theta_{a}, 2 \\, \\pi\\right) - \\frac{1}{2} i \\, Y_{l}^{1}\\left(\\theta_{a}, 0\\right) + \\frac{1}{2} i \\, Y_{l}^{1}\\left(\\theta_{a}, 2 \\, \\pi\\right)} & {m = \\left(-1\\right)}\\\\{-\\pi Y_{l}^{1}\\left(\\theta_{a}, 2 \\, \\pi\\right) - \\frac{1}{2} i \\, Y_{l}^{1}\\left(\\theta_{a}, 0\\right) + \\frac{1}{2} i \\, Y_{l}^{1}\\left(\\theta_{a}, 2 \\, \\pi\\right)} & {m = 1}\\\\{-\\frac{i \\, m Y_{l}^{m}\\left(\\theta_{a}, 0\\right)}{m^{2} - 1} + \\frac{i \\, m Y_{l}^{m}\\left(\\theta_{a}, 2 \\, \\pi\\right)}{m^{2} - 1}} & {1}\\end{cases}$"
      ],
      "text/plain": [
       "<IPython.core.display.Math object>"
      ]
     },
     "metadata": {},
     "output_type": "display_data"
    }
   ],
   "source": [
    "disp(integrate(spherical_harmonic(l, m, theta_a, phi_a)*cos(-phi_a), -phi_a, 0, 2*pi))"
   ]
  },
  {
   "cell_type": "code",
   "execution_count": 6,
   "id": "b8d50f58",
   "metadata": {},
   "outputs": [
    {
     "data": {
      "text/latex": [
       "$\\displaystyle \\begin{cases}{-\\pi Y_{l}^{1}\\left(\\theta_{a}, 2 \\, \\pi\\right)} & {m = \\left(-1\\right)}\\\\{\\pi Y_{l}^{1}\\left(\\theta_{a}, 2 \\, \\pi\\right)} & {m = 1}\\\\{\\frac{i \\, m Y_{l}^{m}\\left(\\theta_{a}, 0\\right)}{m^{2} - 1} - \\frac{i \\, m Y_{l}^{m}\\left(\\theta_{a}, 2 \\, \\pi\\right)}{m^{2} - 1}} & {1}\\end{cases}$"
      ],
      "text/plain": [
       "<IPython.core.display.Math object>"
      ]
     },
     "metadata": {},
     "output_type": "display_data"
    }
   ],
   "source": [
    "disp(integrate(spherical_harmonic(l, m, theta_a, phi_a)*cos(phi_a), phi_a, 0, 2*pi))"
   ]
  },
  {
   "cell_type": "code",
   "execution_count": 7,
   "id": "ebba7322",
   "metadata": {},
   "outputs": [
    {
     "data": {
      "text/latex": [
       "$\\displaystyle \\begin{cases}{-\\pi Y_{l}^{1}\\left(\\theta_{m}, 2 \\, \\pi\\right) + \\frac{1}{2} i \\, Y_{l}^{1}\\left(\\theta_{m}, 0\\right) - \\frac{1}{2} i \\, Y_{l}^{1}\\left(\\theta_{m}, 2 \\, \\pi\\right)} & {m = \\left(-1\\right)}\\\\{\\pi Y_{l}^{1}\\left(\\theta_{m}, 2 \\, \\pi\\right) + \\frac{1}{2} i \\, Y_{l}^{1}\\left(\\theta_{m}, 0\\right) - \\frac{1}{2} i \\, Y_{l}^{1}\\left(\\theta_{m}, 2 \\, \\pi\\right)} & {m = 1}\\\\{\\frac{i \\, m Y_{l}^{m}\\left(\\theta_{m}, 0\\right)}{m^{2} - 1} - \\frac{i \\, m Y_{l}^{m}\\left(\\theta_{m}, 2 \\, \\pi\\right)}{m^{2} - 1}} & {1}\\end{cases}$"
      ],
      "text/plain": [
       "<IPython.core.display.Math object>"
      ]
     },
     "metadata": {},
     "output_type": "display_data"
    }
   ],
   "source": [
    "disp(integrate(spherical_harmonic(l, m, theta_m, phi_m)*cos(phi_m), phi_m, 0, 2*pi))"
   ]
  },
  {
   "cell_type": "code",
   "execution_count": 8,
   "id": "881cabbd",
   "metadata": {},
   "outputs": [
    {
     "data": {
      "text/latex": [
       "$\\displaystyle \\int_{0}^{2 \\, \\pi} \\cos\\left(\\phi_{m}\\right) Y_{l}^{m}\\left(\\theta_{m}, \\phi_{m}\\right)\\,{d \\phi_{m}}$"
      ],
      "text/plain": [
       "<IPython.core.display.Math object>"
      ]
     },
     "metadata": {},
     "output_type": "display_data"
    }
   ],
   "source": [
    "disp(integrate(spherical_harmonic(l, m, theta_m, phi_m)*cos(phi_m), phi_m, 0, 2*pi, hold=True))"
   ]
  },
  {
   "cell_type": "code",
   "execution_count": 9,
   "id": "0d0e6fa2",
   "metadata": {},
   "outputs": [
    {
     "data": {
      "text/latex": [
       "$\\displaystyle \\int_{0}^{2 \\, \\pi} \\cos\\left(-\\phi_{a}\\right) Y_{l}^{m}\\left(\\theta_{a}, \\phi_{a}\\right)\\,{d \\left(-\\phi_{a}\\right)}$"
      ],
      "text/plain": [
       "<IPython.core.display.Math object>"
      ]
     },
     "metadata": {},
     "output_type": "display_data"
    }
   ],
   "source": [
    "disp(integrate(spherical_harmonic(l, m, theta_a, phi_a)*cos(-phi_a), -phi_a, 0, 2*pi, hold=True))"
   ]
  },
  {
   "cell_type": "code",
   "execution_count": 10,
   "id": "536438c7",
   "metadata": {},
   "outputs": [
    {
     "data": {
      "text/plain": [
       "cases(((m == -1, -pi*spherical_harmonic(l, 1, theta_m, 2*pi) + 1/2*I*spherical_harmonic(l, 1, theta_m, 0) - 1/2*I*spherical_harmonic(l, 1, theta_m, 2*pi)), (m == 1, pi*spherical_harmonic(l, 1, theta_m, 2*pi) + 1/2*I*spherical_harmonic(l, 1, theta_m, 0) - 1/2*I*spherical_harmonic(l, 1, theta_m, 2*pi)), (1, I*m*spherical_harmonic(l, m, theta_m, 0)/(m^2 - 1) - I*m*spherical_harmonic(l, m, theta_m, 2*pi)/(m^2 - 1))))"
      ]
     },
     "execution_count": 10,
     "metadata": {},
     "output_type": "execute_result"
    }
   ],
   "source": [
    "integrate(spherical_harmonic(l, m, theta_m, phi_m)*cos(phi_m), phi_m, 0, 2*pi)"
   ]
  },
  {
   "cell_type": "code",
   "execution_count": 11,
   "id": "bfbbbadb",
   "metadata": {},
   "outputs": [
    {
     "data": {
      "text/plain": [
       "cases(((m == -1, pi*spherical_harmonic(l, 1, theta_a, 2*pi) - 1/2*I*spherical_harmonic(l, 1, theta_a, 0) + 1/2*I*spherical_harmonic(l, 1, theta_a, 2*pi)), (m == 1, -pi*spherical_harmonic(l, 1, theta_a, 2*pi) - 1/2*I*spherical_harmonic(l, 1, theta_a, 0) + 1/2*I*spherical_harmonic(l, 1, theta_a, 2*pi)), (1, -I*m*spherical_harmonic(l, m, theta_a, 0)/(m^2 - 1) + I*m*spherical_harmonic(l, m, theta_a, 2*pi)/(m^2 - 1))))"
      ]
     },
     "execution_count": 11,
     "metadata": {},
     "output_type": "execute_result"
    }
   ],
   "source": [
    "integrate(spherical_harmonic(l, m, theta_a, phi_a)*cos(-phi_a), -phi_a, 0, 2*pi)"
   ]
  },
  {
   "cell_type": "code",
   "execution_count": 12,
   "id": "b9d98d6d",
   "metadata": {},
   "outputs": [
    {
     "data": {
      "text/plain": [
       "cases(((m == -1, -pi*spherical_harmonic(l, 1, theta_a, 2*pi)), (m == 1, pi*spherical_harmonic(l, 1, theta_a, 2*pi) + 1/2*I*spherical_harmonic(l, 1, theta_a, 0) - 1/2*I*spherical_harmonic(l, 1, theta_a, 2*pi)), (1, I*m*spherical_harmonic(l, m, theta_a, 0)/(m^2 - 1) - I*m*spherical_harmonic(l, m, theta_a, 2*pi)/(m^2 - 1))))"
      ]
     },
     "execution_count": 12,
     "metadata": {},
     "output_type": "execute_result"
    }
   ],
   "source": [
    "integrate(spherical_harmonic(l, m, theta_a, phi_a)*cos(phi_a), phi_a, 0, 2*pi)"
   ]
  },
  {
   "cell_type": "code",
   "execution_count": 13,
   "id": "6331aaf7",
   "metadata": {},
   "outputs": [],
   "source": [
    "def sympy_sum(expression, v, a, b):\n",
    "    try:\n",
    "        expression,v,a,b = [expr._sympy_() for expr in (expression, v, a, b)]\n",
    "    except Exception as ex:\n",
    "        #print(\"warning:\", str(ex))\n",
    "        pass\n",
    "    from sympy import summation\n",
    "    from sage.interfaces.sympy import sympy_init\n",
    "    sympy_init()\n",
    "    result = summation(expression, (v, a, b))\n",
    "    \n",
    "    try:\n",
    "        return result._sage_()\n",
    "    except AttributeError:\n",
    "        #print(result)\n",
    "        return result\n",
    "        #raise AttributeError(\"Unable to convert SymPy result (={}) into\"\n",
    "        #        \" Sage\".format(result))\n",
    "    except NotImplementedError as err:\n",
    "        #print(result)\n",
    "        return result\n",
    "        #raise err"
   ]
  },
  {
   "cell_type": "code",
   "execution_count": 14,
   "id": "17b4914a",
   "metadata": {},
   "outputs": [],
   "source": [
    "# З.Флюгге Задачи по квантовой механике, том 2, стр. 299 формула (24)\n",
    "def legendre_sum_A_ring_int_phi_q_hold(l, theta_m, theta_a, hold=True):\n",
    "    from sage.functions.special import spherical_harmonic\n",
    "    m = var(\"m\")\n",
    "    f = lambda l, m, theta_m, theta_a : \\\n",
    "        integrate(spherical_harmonic(l, m, theta_m, phi_m)*cos(phi_m), phi_m, 0, 2*pi, hold=hold) \\\n",
    "                  * conjugate(spherical_harmonic(l, m, theta_a, 0))\n",
    "    return 4 * pi / (2*l + 1) * symbolic_sum(f(l, m, theta_m, theta_a), m, -l, l, hold=hold)\n",
    "\n",
    "def legendre_sum_A_ring_hold(l, theta_m, theta_a, hold=True):\n",
    "    return legendre_sum_A_ring_int_phi_q_hold(l, theta_m, theta_a, hold=hold)"
   ]
  },
  {
   "cell_type": "code",
   "execution_count": 15,
   "id": "76b1246c",
   "metadata": {},
   "outputs": [],
   "source": [
    "# З.Флюгге Задачи по квантовой механике, том 2, стр. 299 формула (24)\n",
    "def legendre_sum_A_ring_int_phi_a_hold(l, theta_m, theta_a, hold=True):\n",
    "    from sage.functions.special import spherical_harmonic\n",
    "    m = var(\"m\")\n",
    "    f = lambda l, m, theta_m, theta_a : \\\n",
    "        spherical_harmonic(l, m, theta_m, 0) \\\n",
    "                  * conjugate(integrate(spherical_harmonic(l, m, theta_a, phi_a)*cos(phi_a), phi_a, 0, 2*pi, hold=hold))\n",
    "    return 4 * pi / (2*l + 1) * symbolic_sum(f(l, m, theta_m, theta_a), m, -l, l, hold=hold)"
   ]
  },
  {
   "cell_type": "code",
   "execution_count": 16,
   "id": "92fee826",
   "metadata": {},
   "outputs": [],
   "source": [
    "# З.Флюгге Задачи по квантовой механике, том 2, стр. 299 формула (24)\n",
    "def legendre_sum_A_ring_int_phi_a(l, theta_m, theta_a):\n",
    "    from sage.functions.special import spherical_harmonic\n",
    "    m = var(\"m\")\n",
    "    f = lambda l, m, theta_m, theta_a : \\\n",
    "        spherical_harmonic(l, m, theta_m, 0) \\\n",
    "                  * conjugate( \\\n",
    "                        cases(((m == -1, -pi*spherical_harmonic(l, 1, theta_a, 2*pi)), \\\n",
    "                               (m == 1, pi*spherical_harmonic(l, 1, theta_a, 2*pi)), \\\n",
    "                               (1, I*m*spherical_harmonic(l, m, theta_a, 0)/(m^2 - 1) \\\n",
    "                                 - I*m*spherical_harmonic(l, m, theta_a, 2*pi)/(m^2 - 1)))) \\\n",
    "                             )\n",
    "    return 4 * pi / (2*l + 1) * symbolic_sum(f(l, m, theta_m, theta_a), m, -l, l, hold=True)"
   ]
  },
  {
   "cell_type": "code",
   "execution_count": 17,
   "id": "fcdd0384",
   "metadata": {},
   "outputs": [],
   "source": [
    "# З.Флюгге Задачи по квантовой механике, том 2, стр. 299 формула (24)\n",
    "def legendre_sum_A_ring_int_phi_a_sympy(l, theta_m, theta_a):\n",
    "    from sage.functions.special import spherical_harmonic\n",
    "    m = var(\"m\")\n",
    "    f = lambda l, m, theta_m, theta_a : \\\n",
    "        spherical_harmonic(l, m, theta_m, 0) \\\n",
    "                  * conjugate( \\\n",
    "                        cases(((m == -1, -pi*spherical_harmonic(l, 1, theta_a, 2*pi)), \\\n",
    "                               (m == 1, pi*spherical_harmonic(l, 1, theta_a, 2*pi)), \\\n",
    "                               (1, I*m*spherical_harmonic(l, m, theta_a, 0)/(m^2 - 1) \\\n",
    "                                 - I*m*spherical_harmonic(l, m, theta_a, 2*pi)/(m^2 - 1)))) \\\n",
    "                             )\n",
    "    return 4 * pi / (2*l + 1) * sympy_sum(f(l, m, theta_m, theta_a), m, -l, l)"
   ]
  },
  {
   "cell_type": "code",
   "execution_count": 18,
   "id": "e775c7cd",
   "metadata": {},
   "outputs": [],
   "source": [
    "# З.Флюгге Задачи по квантовой механике, том 2, стр. 299 формула (24)\n",
    "def legendre_sum_A_ring_int_phi_a_sympy_diff_theta_a(l, theta_m, theta_a):\n",
    "    from sage.functions.special import spherical_harmonic\n",
    "    m = var(\"m\")\n",
    "    f = lambda l, m, theta_m, theta_a : \\\n",
    "        spherical_harmonic(l, m, theta_m, 0) \\\n",
    "                  * conjugate( \\\n",
    "                        cases(((m == -1, -pi*spherical_harmonic(l, 1, theta_a, 2*pi).diff(theta_a)), \\\n",
    "                               (m == 1, pi*spherical_harmonic(l, 1, theta_a, 2*pi).diff(theta_a)), \\\n",
    "                               (1, I*m*spherical_harmonic(l, m, theta_a, 0).diff(theta_a)/(m^2 - 1) \\\n",
    "                                 - I*m*spherical_harmonic(l, m, theta_a, 2*pi).diff(theta_a)/(m^2 - 1)))) \\\n",
    "                             )\n",
    "    return 4 * pi / (2*l + 1) * sympy_sum(f(l, m, theta_m, theta_a), m, -l, l)"
   ]
  },
  {
   "cell_type": "code",
   "execution_count": 19,
   "id": "11762afe",
   "metadata": {},
   "outputs": [
    {
     "data": {
      "text/latex": [
       "$\\displaystyle \\frac{4 \\, \\pi {\\sum_{m=-l}^{l} \\overline{Y_{l}^{m}\\left(\\theta_{a}, 0\\right)} \\int_{0}^{2 \\, \\pi} \\cos\\left(\\phi_{m}\\right) Y_{l}^{m}\\left(\\theta_{m}, \\phi_{m}\\right)\\,{d \\phi_{m}}}}{2 \\, l + 1}$"
      ],
      "text/plain": [
       "<IPython.core.display.Math object>"
      ]
     },
     "metadata": {},
     "output_type": "display_data"
    }
   ],
   "source": [
    "disp(legendre_sum_A_ring_int_phi_q_hold(l, theta_m, theta_a))"
   ]
  },
  {
   "cell_type": "code",
   "execution_count": 21,
   "id": "250200b9",
   "metadata": {},
   "outputs": [
    {
     "data": {
      "text/latex": [
       "$\\displaystyle \\frac{4 \\, \\pi {\\sum_{m=-l}^{l} \\overline{\\int_{0}^{2 \\, \\pi} \\cos\\left(\\phi_{a}\\right) Y_{l}^{m}\\left(\\theta_{a}, \\phi_{a}\\right)\\,{d \\phi_{a}}} Y_{l}^{m}\\left(\\theta_{m}, 0\\right)}}{2 \\, l + 1}$"
      ],
      "text/plain": [
       "<IPython.core.display.Math object>"
      ]
     },
     "metadata": {},
     "output_type": "display_data"
    }
   ],
   "source": [
    "disp(legendre_sum_A_ring_int_phi_a_hold(l, theta_m, theta_a))"
   ]
  },
  {
   "cell_type": "code",
   "execution_count": 22,
   "id": "c699cb85",
   "metadata": {},
   "outputs": [],
   "source": [
    "# З.Флюгге Задачи по квантовой механике, том 2, стр. 299 формула (24)\n",
    "def legendre_sum_A_ring(l, theta_m, theta_a):\n",
    "    from sage.functions.special import spherical_harmonic\n",
    "    m = var(\"m\")\n",
    "    f = lambda l, m, theta_m, theta_a : \\\n",
    "        cases(((m == -1, -pi*spherical_harmonic(l, 1, theta_m, 2*pi)), \\\n",
    "               (m == 1, pi*spherical_harmonic(l, 1, theta_m, 2*pi)), \\\n",
    "               (1, I*m*spherical_harmonic(l, m, theta_m, 0)/(m^2 - 1) \\\n",
    "                 - I*m*spherical_harmonic(l, m, theta_m, 2*pi)/(m^2 - 1)))) \\\n",
    "                  * conjugate(spherical_harmonic(l, m, theta_a, 0))\n",
    "    return 4 * pi / (2*l + 1) * symbolic_sum(f(l, m, theta_m, theta_a), m, -l, l)"
   ]
  },
  {
   "cell_type": "code",
   "execution_count": 23,
   "id": "3b09f748",
   "metadata": {},
   "outputs": [],
   "source": [
    "# З.Флюгге Задачи по квантовой механике, том 2, стр. 299 формула (24)\n",
    "def legendre_sum_A_ring_sympy(l, theta_m, theta_a):\n",
    "    from sage.functions.special import spherical_harmonic\n",
    "    m = var(\"m\")\n",
    "    f = lambda l, m, theta_m, theta_a : \\\n",
    "        cases(((m == -1, -pi*spherical_harmonic(l, 1, theta_m, 2*pi)), \\\n",
    "               (m == 1, pi*spherical_harmonic(l, 1, theta_m, 2*pi)), \\\n",
    "               (1, I*m*spherical_harmonic(l, m, theta_m, 0)/(m^2 - 1) \\\n",
    "                 - I*m*spherical_harmonic(l, m, theta_m, 2*pi)/(m^2 - 1)))) \\\n",
    "                  * conjugate(spherical_harmonic(l, m, theta_a, 0))\n",
    "\n",
    "    return 4 * pi / (2*l + 1) * sympy_sum(f(l, m, theta_m, theta_a), m, -l, l)"
   ]
  },
  {
   "cell_type": "code",
   "execution_count": 24,
   "id": "bbcacfcb",
   "metadata": {},
   "outputs": [],
   "source": [
    "# З.Флюгге Задачи по квантовой механике, том 2, стр. 299 формула (24)\n",
    "def legendre_sum_A_ring_sympy_diff_theta_a(l, theta_m, theta_a):\n",
    "    from sage.functions.special import spherical_harmonic\n",
    "    m = var(\"m\")\n",
    "    f = lambda l, m, theta_m, theta_a : \\\n",
    "        cases(((m == -1, -pi*spherical_harmonic(l, 1, theta_m, 2*pi)), \\\n",
    "               (m == 1, pi*spherical_harmonic(l, 1, theta_m, 2*pi)), \\\n",
    "               (1, I*m*spherical_harmonic(l, m, theta_m, 0)/(m^2 - 1) \\\n",
    "                 - I*m*spherical_harmonic(l, m, theta_m, 2*pi)/(m^2 - 1)))) \\\n",
    "                  * conjugate(spherical_harmonic(l, m, theta_a, 0).diff(theta_a))\n",
    "\n",
    "    return 4 * pi / (2*l + 1) * sympy_sum(f(l, m, theta_m, theta_a), m, -l, l)"
   ]
  },
  {
   "cell_type": "raw",
   "id": "b06d9a37",
   "metadata": {},
   "source": [
    "# З.Флюгге Задачи по квантовой механике, том 2, стр. 299 формула (24)\n",
    "def legendre_sum_A_ring(l, theta_q, theta_a):\n",
    "    from sage.functions.special import spherical_harmonic\n",
    "    m = var(\"m\")\n",
    "    f = lambda l, m, theta_q, theta_a : \\\n",
    "        cases(((m == -1, -pi*spherical_harmonic(l, 1, theta_q, 2*pi) \\\n",
    "                + 1/2*I*spherical_harmonic(l, 1, theta_q, 0) \\\n",
    "                - 1/2*I*spherical_harmonic(l, 1, theta_q, 2*pi)), \\\n",
    "               (m == 1, pi*spherical_harmonic(l, 1, theta_q, 2*pi) \\\n",
    "                + 1/2*I*spherical_harmonic(l, 1, theta_q, 0) \\\n",
    "                - 1/2*I*spherical_harmonic(l, 1, theta_q, 2*pi)), \\\n",
    "               (1, I*m*spherical_harmonic(l, m, theta_q, 0)/(m^2 - 1) \\\n",
    "                - I*m*spherical_harmonic(l, m, theta_q, 2*pi)/(m^2 - 1)))) \\\n",
    "                  * conjugate(spherical_harmonic(l, m, theta_a, 0))\n",
    "    return 4 * pi / (2*l + 1) * symbolic_sum(f(l, m, theta_q, theta_a), m, -l, l)\n",
    "    # return 4 * pi / (2*l + 1) * sympy_sum(f(l, m, theta_q, theta_a), m, -l, l)"
   ]
  },
  {
   "cell_type": "markdown",
   "id": "ebf21b19",
   "metadata": {},
   "source": [
    "если $\\left( {{r}_{q}}<{{r}_{a}} \\right)$ то\n",
    "\n",
    "$A_{\\varphi} = \\frac{\\mu \\, I}{4 \\pi}\\,r_q \\, sin \\theta_q \\,\\frac{1}{{{r}_{a}}}\\sum\\limits_{l=0}^{\\infty }{{{\\left( \\frac{{{r}_{q}}}{{{r}_{a}}} \\right)}^{l}}{\\frac{4\\pi }{2l+1}\\sum\\limits_{m=-l}^{l}{Y_{l,m}^{*}\\left( {{\\theta }_{a}},{{\\varphi }_{a}} \\right)}\\, \\int\\limits_{\\varphi_q}^{} cos\\,{\\varphi_q } \\, {{Y}_{l,m}}\\left( {{\\theta }_{q}},{{\\varphi }_{q}} \\right)}} \\, d \\varphi_q$\n",
    "\n",
    "и если $\\left( {{r}_{a}}<{{r}_{q}} \\right)$ то\n",
    "\n",
    "$A_{\\varphi} = \\frac{\\mu \\, I}{4 \\pi}\\,r_q \\, sin \\theta_q \\, \\frac{1}{{{r}_{q}}}\\sum\\limits_{l=0}^{\\infty }{{{\\left( \\frac{{{r}_{a}}}{{{r}_{q}}} \\right)}^{l}}{\\frac{4\\pi }{2l+1}\\sum\\limits_{m=-l}^{l}{Y_{l,m}^{*}\\left( {{\\theta }_{a}},{{\\varphi }_{a}} \\right)}\\,\\int\\limits_{\\varphi_q}^{} cos\\,{\\varphi_q } \\, {{Y}_{l,m}}\\left( {{\\theta }_{q}},{{\\varphi }_{q}} \\right)}} \\, d \\varphi_q$"
   ]
  },
  {
   "cell_type": "code",
   "execution_count": 25,
   "id": "59ae1b8c",
   "metadata": {},
   "outputs": [],
   "source": [
    "# З.Флюгге Задачи по квантовой механике, том 2, стр. 300 формула (29)\n",
    "def a_ring_rq_less_than_ra(l, r_m, theta_m, r_a, theta_a):\n",
    "    #if r_m < r_a:\n",
    "    return r_m * sin(theta_m) * ((1/r_a)*((r_m/r_a)^l)*legendre_sum_A_ring(l, theta_m, theta_a))\n",
    "def a_ring_ra_less_than_rq(l, r_m, theta_m, r_a, theta_a):\n",
    "    # if r_a < r_m\n",
    "    return r_m * sin(theta_m) * ((1/r_m)*((r_a/r_m)^l)*legendre_sum_A_ring(l, theta_m, theta_a))"
   ]
  },
  {
   "cell_type": "code",
   "execution_count": 26,
   "id": "6c8b8882",
   "metadata": {},
   "outputs": [],
   "source": [
    "# З.Флюгге Задачи по квантовой механике, том 2, стр. 300 формула (29)\n",
    "def a_ring_rq_less_than_ra_sympy(l, r_m, theta_m, r_a, theta_a):\n",
    "    #if r_m < r_a:\n",
    "    return r_m * sin(theta_m) * ((1/r_a)*((r_m/r_a)^l)*legendre_sum_A_ring_sympy(l, theta_m, theta_a))\n",
    "def a_ring_ra_less_than_rq_sympy(l, r_m, theta_m, r_a, theta_a):\n",
    "    # if r_a < r_m\n",
    "    return r_m * sin(theta_m) * ((1/r_m)*((r_a/r_m)^l)*legendre_sum_A_ring_sympy(l, theta_m, theta_a))"
   ]
  },
  {
   "cell_type": "code",
   "execution_count": 27,
   "id": "455d75f1",
   "metadata": {},
   "outputs": [],
   "source": [
    "# З.Флюгге Задачи по квантовой механике, том 2, стр. 300 формула (29)\n",
    "def a_ring(l, r_m, theta_m, r_a, theta_a):\n",
    "    if r_m < r_a:\n",
    "        return a_ring_rq_less_than_ra(l, r_m, theta_m, r_a, theta_a)\n",
    "    else:\n",
    "        # if r_a < r_m\n",
    "        return a_ring_ra_less_than_rq(l, r_m, theta_m, r_a, theta_a)"
   ]
  },
  {
   "cell_type": "code",
   "execution_count": 28,
   "id": "83f0f764",
   "metadata": {},
   "outputs": [],
   "source": [
    "# З.Флюгге Задачи по квантовой механике, том 2, стр. 300 формула (29)\n",
    "def a_ring_sympy(l, r_m, theta_m, r_a, theta_a):\n",
    "    if r_m < r_a:\n",
    "        return a_ring_rq_less_than_ra_sympy(l, r_m, theta_m, r_a, theta_a)\n",
    "    else:\n",
    "        # if r_a < r_m\n",
    "        return a_ring_ra_less_than_rq_sympy(l, r_m, theta_m, r_a, theta_a)"
   ]
  },
  {
   "cell_type": "code",
   "execution_count": 29,
   "id": "3e0a3e33",
   "metadata": {},
   "outputs": [],
   "source": [
    "def a_dipol_rq_less_than_ra(l, r_m, theta_m, r_a, theta_a):\n",
    "    return a_ring_rq_less_than_ra(l, r_m, theta_m, r_a, theta_a) \\\n",
    "         - a_ring_rq_less_than_ra(l, r_m, pi - theta_m, r_a, theta_a)"
   ]
  },
  {
   "cell_type": "code",
   "execution_count": 30,
   "id": "f35fb578",
   "metadata": {},
   "outputs": [],
   "source": [
    "def a_dipol_rq_less_than_ra_sympy(l, r_m, theta_m, r_a, theta_a):\n",
    "    return a_ring_rq_less_than_ra_sympy(l, r_m, theta_m, r_a, theta_a) \\\n",
    "         - a_ring_rq_less_than_ra_sympy(l, r_m, pi - theta_m, r_a, theta_a)"
   ]
  },
  {
   "cell_type": "code",
   "execution_count": 31,
   "id": "9d307f0b",
   "metadata": {},
   "outputs": [],
   "source": [
    "def a_dipol_ra_less_than_rq(l, r_m, theta_m, r_a, theta_a):\n",
    "    return a_ring_ra_less_than_rq(l, r_m, theta_m, r_a, theta_a) \\\n",
    "         - a_ring_ra_less_than_rq(l, r_m, pi - theta_m, r_a, theta_a)"
   ]
  },
  {
   "cell_type": "code",
   "execution_count": 32,
   "id": "970fa2f3",
   "metadata": {},
   "outputs": [],
   "source": [
    "def a_dipol_ra_less_than_rq_sympy(l, r_m, theta_m, r_a, theta_a):\n",
    "    return a_ring_ra_less_than_rq_sympy(l, r_m, theta_m, r_a, theta_a) \\\n",
    "         - a_ring_ra_less_than_rq_sympy(l, r_m, pi - theta_m, r_a, theta_a)"
   ]
  },
  {
   "cell_type": "raw",
   "id": "a3157262",
   "metadata": {},
   "source": [
    "legendre_sum_A_ring(5, theta_m, theta_a)"
   ]
  },
  {
   "cell_type": "raw",
   "id": "c7c7df16",
   "metadata": {},
   "source": [
    "L = 10\n",
    "sympy_sum(A_ring_rq_less_than_ra(l=l, r_q=1, theta_q=pi/3, r_a=2, theta_a=pi/4), l, 0, L)"
   ]
  },
  {
   "cell_type": "code",
   "execution_count": 33,
   "id": "f21786ff",
   "metadata": {},
   "outputs": [],
   "source": [
    "def A_ring_rq_less_than_ra(L, r_m, theta_m, r_a, theta_a):\n",
    "    A_ring = 0\n",
    "    for l in range(0, L):\n",
    "        A_ring += a_ring_rq_less_than_ra(l, r_m, theta_m, r_a, theta_a)\n",
    "    return A_ring\n",
    "\n",
    "def A_ring_rq_less_than_ra_sympy(L, r_m, theta_m, r_a, theta_a):\n",
    "    A_ring = 0\n",
    "    for l in range(0, L):\n",
    "        A_ring += a_ring_rq_less_than_ra_sympy(l, r_m, theta_m, r_a, theta_a)\n",
    "    return A_ring\n",
    "\n",
    "def A_ring_rq_less_than_ra_cyl(L, rq, zq, ra, za):\n",
    "    r_q = sqrt(rq^2 + zq^2)\n",
    "    r_a = sqrt(ra^2 + za^2)\n",
    "    theta_q = atan2(rq, zq)\n",
    "    theta_a = atan2(ra, za)\n",
    "    return A_ring_rq_less_than_ra(L, r_q, theta_q, r_a, theta_a)"
   ]
  },
  {
   "cell_type": "code",
   "execution_count": 34,
   "id": "2cfb184b",
   "metadata": {},
   "outputs": [],
   "source": [
    "def A_dipol_rq_less_than_ra(L, r_m, theta_m, r_a, theta_a):\n",
    "    A_dipol = 0\n",
    "    for l in range(0, L):\n",
    "        A_dipol += a_dipol_rq_less_than_ra(l, r_m, theta_m, r_a, theta_a)\n",
    "    return A_dipol\n",
    "\n",
    "def A_dipol_rq_less_than_ra_sympy(L, r_m, theta_m, r_a, theta_a):\n",
    "    A_dipol = 0\n",
    "    for l in range(0, L):\n",
    "        A_dipol += a_dipol_rq_less_than_ra_sympy(l, r_m, theta_m, r_a, theta_a)\n",
    "    return A_dipol\n",
    "\n",
    "def A_dipol_rq_less_than_ra_cyl(L, rq, zq, ra, za):\n",
    "    r_q = sqrt(rq^2 + zq^2)\n",
    "    r_a = sqrt(ra^2 + za^2)\n",
    "    theta_q = atan2(rq, zq)\n",
    "    theta_a = atan2(ra, za)\n",
    "    return A_dipol_rq_less_than_ra(L, r_q, theta_q, r_a, theta_a)"
   ]
  },
  {
   "cell_type": "code",
   "execution_count": 35,
   "id": "13e6f938",
   "metadata": {},
   "outputs": [],
   "source": [
    "def A_ring_ra_less_than_rq(L, r_m, theta_m, r_a, theta_a):\n",
    "    A_ring = 0\n",
    "    for l in range(0, L):\n",
    "        A_ring += a_ring_ra_less_than_rq(l, r_m, theta_m, r_a, theta_a)\n",
    "    return A_ring\n",
    "\n",
    "def A_ring_ra_less_than_rq_sympy(L, r_m, theta_m, r_a, theta_a):\n",
    "    A_ring = 0\n",
    "    for l in range(0, L):\n",
    "        A_ring += a_ring_ra_less_than_rq_sympy(l, r_m, theta_m, r_a, theta_a)\n",
    "    return A_ring\n",
    "\n",
    "def A_ring_ra_less_than_rq_cyl(L, rq, zq, ra, za):\n",
    "    r_q = sqrt(rq^2 + zq^2)\n",
    "    r_a = sqrt(ra^2 + za^2)\n",
    "    theta_q = atan2(rq, zq)\n",
    "    theta_a = atan2(ra, za)\n",
    "    return A_ring_ra_less_than_rq(L, r_q, theta_q, r_a, theta_a)"
   ]
  },
  {
   "cell_type": "code",
   "execution_count": 36,
   "id": "3d7229d9",
   "metadata": {},
   "outputs": [],
   "source": [
    "def A_dipol_ra_less_than_rq(L, r_m, theta_m, r_a, theta_a):\n",
    "    A_dipol = 0\n",
    "    for l in range(0, L):\n",
    "        A_dipol += a_dipol_ra_less_than_rq(l, r_m, theta_m, r_a, theta_a)\n",
    "    return A_dipol\n",
    "\n",
    "def A_dipol_ra_less_than_rq_sympy(L, r_m, theta_m, r_a, theta_a):\n",
    "    A_dipol = 0\n",
    "    for l in range(0, L):\n",
    "        A_dipol += a_dipol_ra_less_than_rq_sympy(l, r_m, theta_m, r_a, theta_a)\n",
    "    return A_dipol\n",
    "\n",
    "def A_dipol_ra_less_than_rq_cyl(L, rq, zq, ra, za):\n",
    "    r_q = sqrt(rq^2 + zq^2)\n",
    "    r_a = sqrt(ra^2 + za^2)\n",
    "    theta_q = atan2(rq, zq)\n",
    "    theta_a = atan2(ra, za)\n",
    "    return A_dipol_ra_less_than_rq(L, r_q, theta_q, r_a, theta_a)"
   ]
  },
  {
   "cell_type": "code",
   "execution_count": 37,
   "id": "2e0b1418",
   "metadata": {},
   "outputs": [],
   "source": [
    "def A_ring(L, r_m, theta_m, r_a, theta_a):\n",
    "    if r_m < r_a:\n",
    "        return A_ring_rq_less_than_ra(L, r_m, theta_m, r_a, theta_a)\n",
    "    else:\n",
    "        # if r_a < r_q\n",
    "        return A_ring_ra_less_than_rq(L, r_m, theta_m, r_a, theta_a)"
   ]
  },
  {
   "cell_type": "code",
   "execution_count": 38,
   "id": "caee1925",
   "metadata": {},
   "outputs": [],
   "source": [
    "def A_ring_sympy(L, r_m, theta_m, r_a, theta_a):\n",
    "    if r_m < r_a:\n",
    "        return A_ring_rq_less_than_ra_sympy(L, r_m, theta_m, r_a, theta_a)\n",
    "    else:\n",
    "        # if r_a < r_q\n",
    "        return A_ring_ra_less_than_rq_sympy(L, r_m, theta_m, r_a, theta_a)"
   ]
  },
  {
   "cell_type": "code",
   "execution_count": 39,
   "id": "3cf46898",
   "metadata": {},
   "outputs": [],
   "source": [
    "def A_dipol(L, r_m, theta_m, r_a, theta_a):\n",
    "    if r_m < r_a:\n",
    "        return A_dipol_rq_less_than_ra(L, r_m, theta_m, r_a, theta_a)\n",
    "    else:\n",
    "        # if r_a < r_q\n",
    "        return A_dipol_ra_less_than_rq(L, r_m, theta_m, r_a, theta_a)"
   ]
  },
  {
   "cell_type": "code",
   "execution_count": 40,
   "id": "fbace76a",
   "metadata": {},
   "outputs": [],
   "source": [
    "def A_dipol_sympy(L, r_m, theta_m, r_a, theta_a):\n",
    "    if r_m < r_a:\n",
    "        return A_dipol_rq_less_than_ra_sympy(L, r_m, theta_m, r_a, theta_a)\n",
    "    else:\n",
    "        # if r_a < r_q\n",
    "        return A_dipol_ra_less_than_rq_sympy(L, r_m, theta_m, r_a, theta_a)"
   ]
  },
  {
   "cell_type": "code",
   "execution_count": 41,
   "id": "cb51c02a",
   "metadata": {},
   "outputs": [],
   "source": [
    "def A_ring_cyl(L, rq, zq, ra, za):\n",
    "    r_q = sqrt(rq^2 + zq^2)\n",
    "    r_a = sqrt(ra^2 + za^2)\n",
    "    theta_q = atan2(rq, zq)\n",
    "    theta_a = atan2(ra, za)\n",
    "    return A_ring_sympy(L, r_q, theta_q, r_a, theta_a)"
   ]
  },
  {
   "cell_type": "code",
   "execution_count": 42,
   "id": "310a3c42",
   "metadata": {},
   "outputs": [],
   "source": [
    "def A_dipol_cyl(L, rq, zq, ra, za):\n",
    "    r_q = sqrt(rq^2 + zq^2)\n",
    "    r_a = sqrt(ra^2 + za^2)\n",
    "    theta_q = atan2(rq, zq)\n",
    "    theta_a = atan2(ra, za)\n",
    "    return A_dipol_sympy(L, r_q, theta_q, r_a, theta_a)"
   ]
  },
  {
   "cell_type": "code",
   "execution_count": 43,
   "id": "824b8805",
   "metadata": {},
   "outputs": [],
   "source": [
    "# a and b for ring\n",
    "a = lambda rj, ra, zj, za : 1 + (ra/rj)^2 + ((zj-za)/rj)^2\n",
    "b = lambda rj, ra : 2 * (ra/rj)\n",
    "# m for ring\n",
    "M = lambda rj, ra, zj, za : 2 * b (rj, ra) / (a(rj, ra, zj, za) + b(rj, ra))\n",
    "# k_K and k_E for ring\n",
    "k_K = lambda rj, ra, zj, za : 2 * a(rj, ra, zj, za) / b(rj, ra) / sqrt(a(rj, ra, zj, za) + b(rj, ra))\n",
    "k_E = lambda rj, ra, zj, za : 2 * sqrt(a(rj, ra, zj, za) + b(rj, ra)) / b(rj, ra)\n",
    "A_ring_elliptic = lambda rj, ra, zj, za : \\\n",
    "       + k_K(rj, ra, zj, za) * elliptic_kc(M(rj, ra, zj, za)) \\\n",
    "       - k_E(rj, ra, zj, za) * elliptic_ec(M(rj, ra, zj, za))"
   ]
  },
  {
   "cell_type": "markdown",
   "id": "c12a4925",
   "metadata": {},
   "source": [
    "Векторный потенциал токового кольца на высоте $z = 0.2 r$"
   ]
  },
  {
   "cell_type": "code",
   "execution_count": 44,
   "id": "65ba3bef",
   "metadata": {},
   "outputs": [],
   "source": [
    "plot_data_A_ring_r_L10 = []\n",
    "for ir in range(1,20):\n",
    "    # Расстояние от оси R/r (лин шкала)\n",
    "    ra = 0.1 * ir\n",
    "    A_phi_ring = A_ring_cyl(L=10, rq = 1, zq = 0, ra = ra, za = 0.2)\n",
    "    plot_data_A_ring_r_L10 += [(ra, A_phi_ring)]"
   ]
  },
  {
   "cell_type": "code",
   "execution_count": 45,
   "id": "4b7b7009",
   "metadata": {},
   "outputs": [],
   "source": [
    "plot_data_A_ring_r_L20 = []\n",
    "for ir in range(1,20):\n",
    "    # Расстояние от оси R/r (лин шкала)\n",
    "    ra = 0.1 * ir\n",
    "    A_phi_ring = A_ring_cyl(L=20, rq = 1, zq = 0, ra = ra, za = 0.2)\n",
    "    plot_data_A_ring_r_L20 += [(ra, A_phi_ring)]"
   ]
  },
  {
   "cell_type": "code",
   "execution_count": 46,
   "id": "79a8c379",
   "metadata": {},
   "outputs": [],
   "source": [
    "plot_data_A_ring_r_L30 = []\n",
    "for ir in range(1,20):\n",
    "    # Расстояние от оси R/r (лин шкала)\n",
    "    ra = 0.1 * ir\n",
    "    A_phi_ring = A_ring_cyl(L=30, rq = 1, zq = 0, ra = ra, za = 0.2)\n",
    "    plot_data_A_ring_r_L30 += [(ra, A_phi_ring)]"
   ]
  },
  {
   "cell_type": "code",
   "execution_count": 47,
   "id": "e8b0ba8c",
   "metadata": {},
   "outputs": [],
   "source": [
    "plot_data_A_ring_r_L40 = []\n",
    "for ir in range(1,20):\n",
    "    # Расстояние от оси R/r (лин шкала)\n",
    "    ra = 0.1 * ir\n",
    "    A_phi_ring = A_ring_cyl(L=40, rq = 1, zq = 0, ra = ra, za = 0.2)\n",
    "    plot_data_A_ring_r_L40 += [(ra, A_phi_ring)]"
   ]
  },
  {
   "cell_type": "code",
   "execution_count": 48,
   "id": "891c8891",
   "metadata": {},
   "outputs": [],
   "source": [
    "p  = list_plot(plot_data_A_ring_r_L10, color = \"red\")\n",
    "p += list_plot(plot_data_A_ring_r_L20, color = \"green\")\n",
    "p += list_plot(plot_data_A_ring_r_L30, color = \"blue\")\n",
    "p += list_plot(plot_data_A_ring_r_L40, color = \"yellow\")"
   ]
  },
  {
   "cell_type": "code",
   "execution_count": 49,
   "id": "f9a61b21",
   "metadata": {},
   "outputs": [
    {
     "data": {
      "image/png": "[encoded data removed]",
      "text/plain": [
       "Graphics object consisting of 5 graphics primitives"
      ]
     },
     "metadata": {},
     "output_type": "display_data"
    }
   ],
   "source": [
    "p += plot(A_ring_elliptic(rj = 1, ra = r_a, zj = 0, za = 0.2), (r_a, 0, 2))\n",
    "p.show(title=\"Векторный потенциал токового кольца на высоте $z_a=0.2r_j$\",\n",
    "       axes_labels=[\"Расстояние от оси $r_a$\", \"\"])"
   ]
  },
  {
   "cell_type": "code",
   "execution_count": 50,
   "id": "7cc231fe",
   "metadata": {},
   "outputs": [
    {
     "data": {
      "image/png": "[encoded data removed]",
      "text/plain": [
       "Graphics object consisting of 6 graphics primitives"
      ]
     },
     "metadata": {},
     "output_type": "display_data"
    }
   ],
   "source": [
    "# как видно путём сравнения эллиптического подхода\n",
    "# в циллиндрической системе координат\n",
    "# и разложения через сферические функции\n",
    "# в сферической системе координат где-то в выкладках потеряна двойка\n",
    "\n",
    "p += plot(2*A_ring_elliptic(rj = 1, ra = r_a, zj = 0, za = 0.2), (r_a, 0, 2))\n",
    "p.show(title=\"Векторный потенциал токового кольца на высоте za=0.2rj\",\n",
    "       axes_labels=[\"Расстояние от оси ra\", \"\"])"
   ]
  },
  {
   "cell_type": "code",
   "execution_count": 51,
   "id": "41c995f6",
   "metadata": {},
   "outputs": [
    {
     "data": {
      "image/png": "[encoded data removed]",
      "text/plain": [
       "Graphics object consisting of 1 graphics primitive"
      ]
     },
     "metadata": {},
     "output_type": "display_data"
    }
   ],
   "source": [
    "plot_data_A_ring_r = []\n",
    "for ir in range(1,50):\n",
    "    # Расстояние от оси R/r (лин шкала)\n",
    "    ra = 0.1 * ir\n",
    "    A_phi_ring = A_ring_cyl(L=40, rq = 1, zq = 0, ra = ra, za = 0.2)\n",
    "    plot_data_A_ring_r += [(ra, A_phi_ring)]\n",
    "\n",
    "p = list_plot(plot_data_A_ring_r)\n",
    "p.show(title=\"Векторный потенциал токового кольца на высоте za=0.2rj\",\n",
    "       axes_labels=[\"Расстояние от оси ra\", \"\"])"
   ]
  },
  {
   "cell_type": "code",
   "execution_count": 52,
   "id": "3a363780",
   "metadata": {},
   "outputs": [
    {
     "data": {
      "image/png": "[encoded data removed]",
      "text/plain": [
       "Graphics object consisting of 1 graphics primitive"
      ]
     },
     "metadata": {},
     "output_type": "display_data"
    }
   ],
   "source": [
    "p = plot(A_ring_cyl(L=30, rq = 1, zq = 0, ra = r_a, za = 0.2), (r_a, 0, 1))\n",
    "p.show(title=\"Векторный потенциал токового кольца на высоте za=0.2rj\",\n",
    "       axes_labels=[\"Расстояние от оси ra\", \"\"])"
   ]
  },
  {
   "cell_type": "markdown",
   "id": "f6214390",
   "metadata": {},
   "source": [
    "Измерительный контур равного с кольцом диаметра приподнятый на $z/r$"
   ]
  },
  {
   "cell_type": "code",
   "execution_count": 53,
   "id": "1e647a17",
   "metadata": {},
   "outputs": [],
   "source": [
    "z_a = var(\"z_a\")"
   ]
  },
  {
   "cell_type": "code",
   "execution_count": 54,
   "id": "2bfd04af",
   "metadata": {},
   "outputs": [],
   "source": [
    "plot_data_A_ring_z_L10 = []\n",
    "for iz in range(1,20):\n",
    "    za = 0.05 * iz\n",
    "    A_phi_ring = A_ring_cyl(L=10, rq = 1, zq = 0, ra = 1, za = za)\n",
    "    plot_data_A_ring_z_L10 += [(za, A_phi_ring)]"
   ]
  },
  {
   "cell_type": "code",
   "execution_count": 55,
   "id": "ce49ef20",
   "metadata": {},
   "outputs": [],
   "source": [
    "plot_data_A_ring_z_L20 = []\n",
    "for iz in range(1,20):\n",
    "    za = 0.05 * iz\n",
    "    A_phi_ring = A_ring_cyl(L=20, rq = 1, zq = 0, ra = 1, za = za)\n",
    "    plot_data_A_ring_z_L20 += [(za, A_phi_ring)]"
   ]
  },
  {
   "cell_type": "code",
   "execution_count": 56,
   "id": "68790748",
   "metadata": {},
   "outputs": [],
   "source": [
    "plot_data_A_ring_z_L30 = []\n",
    "for iz in range(1,40):\n",
    "    za = 0.025 * iz\n",
    "    A_phi_ring = A_ring_cyl(L=30, rq = 1, zq = 0, ra = 1, za = za)\n",
    "    plot_data_A_ring_z_L30 += [(za, A_phi_ring)]"
   ]
  },
  {
   "cell_type": "code",
   "execution_count": 57,
   "id": "0c4224b7",
   "metadata": {},
   "outputs": [
    {
     "data": {
      "image/png": "[encoded data removed]",
      "text/plain": [
       "Graphics object consisting of 3 graphics primitives"
      ]
     },
     "metadata": {},
     "output_type": "display_data"
    }
   ],
   "source": [
    "p  = list_plot(plot_data_A_ring_z_L10, color = \"red\")\n",
    "p += list_plot(plot_data_A_ring_z_L20, color = \"green\")\n",
    "p += list_plot(plot_data_A_ring_z_L30, color = \"blue\")\n",
    "p.show(title=\"Векторный потенциал Измерительного контура равного с токовым кольцом диаметра приподнятого на z/r\",\n",
    "       axes_labels=[\"Высота подъема za\", \"\"])"
   ]
  },
  {
   "cell_type": "code",
   "execution_count": 58,
   "id": "4f529a81",
   "metadata": {},
   "outputs": [
    {
     "data": {
      "image/png": "[encoded data removed]",
      "text/plain": [
       "Graphics object consisting of 4 graphics primitives"
      ]
     },
     "metadata": {},
     "output_type": "display_data"
    }
   ],
   "source": [
    "p += plot(A_ring_elliptic(rj = 1, ra = 1, zj = 0, za = z_a), (z_a, 0, 1))\n",
    "p.show(title=\"Векторный потенциал Измерительного контура равного с токовым кольцом диаметра приподнятого на z/r\",\n",
    "       axes_labels=[\"Высота подъема za\", \"\"])"
   ]
  },
  {
   "cell_type": "code",
   "execution_count": 59,
   "id": "d355f0c2",
   "metadata": {},
   "outputs": [
    {
     "data": {
      "image/png": "[encoded data removed]",
      "text/plain": [
       "Graphics object consisting of 5 graphics primitives"
      ]
     },
     "metadata": {},
     "output_type": "display_data"
    }
   ],
   "source": [
    "z_a = var(\"z_a\")\n",
    "p += plot(2*A_ring_elliptic(rj = 1, ra = 1, zj = 0, za = z_a), (z_a, 0, 1))\n",
    "p.show(title=\"Векторный потенциал Измерительного контура равного с токовым кольцом диаметра приподнятого на z/r\",\n",
    "       axes_labels=[\"Высота подъема za\", \"\"])"
   ]
  },
  {
   "cell_type": "markdown",
   "id": "ed75fdd4",
   "metadata": {},
   "source": [
    "# Векторный потенциал электростатического поля точечного заряда\n",
    "\n",
    "$$\\vec A = -\\frac{ z}{{\\rho}\\sqrt{\\rho^{2} + z^{2}} }\\,{\\vec {e}}_{\\varphi }$$"
   ]
  },
  {
   "cell_type": "markdown",
   "id": "412d520d",
   "metadata": {},
   "source": [
    "$$\\vec A = -\\frac{сtg \\, \\theta}{r}\\,{\\vec {e}}_{\\varphi }$$"
   ]
  },
  {
   "cell_type": "raw",
   "id": "11920a84",
   "metadata": {},
   "source": [
    "A_q = lambda ra, za : za / (ra * sqrt(ra^2 + za^2))"
   ]
  },
  {
   "cell_type": "code",
   "execution_count": 60,
   "id": "a44e1117",
   "metadata": {},
   "outputs": [],
   "source": [
    "A_q = lambda ra, theta_a : cot(theta_a) / (ra)"
   ]
  },
  {
   "cell_type": "raw",
   "id": "4e712a2e",
   "metadata": {},
   "source": [
    "p = plot(A_q(ra = r_a, za = 1), (r_a, 0.05, 5))\n",
    "p.show(title=\"Векторный потенциал электростатического поля точечного заряда на высоте za=1\",\n",
    "       axes_labels=[\"Расстояние от оси ra\", \"\"])"
   ]
  },
  {
   "cell_type": "markdown",
   "id": "b30977ed",
   "metadata": {},
   "source": [
    "Измерительный контур заданного диаметра приподнятый на высоту z"
   ]
  },
  {
   "cell_type": "raw",
   "id": "1942068d",
   "metadata": {},
   "source": [
    "p = plot(A_q(ra = 1, za = z_a), (z_a, 0.05, 10))\n",
    "p.show(title=\"Векторный потенциал электростатического поля точечного заряда Измерительного контура заданного диаметра приподнятого на высоту z\",\n",
    "       axes_labels=[\"Высота подъема za\", \"\"])"
   ]
  },
  {
   "cell_type": "raw",
   "id": "5c1a02fe",
   "metadata": {},
   "source": [
    "contour_plot(A_q(ra=r_a, za=z_a), (r_a,0.2,4), (z_a,0,4), fill=False, cmap='hsv', labels=True)"
   ]
  },
  {
   "cell_type": "raw",
   "id": "e1a18e0e",
   "metadata": {},
   "source": [
    "contour_plot(A_q(ra=r_a, za=z_a), (r_a,0.2,2), (z_a,0,4), fill=False, cmap='hsv', labels=True)"
   ]
  },
  {
   "cell_type": "markdown",
   "id": "8269b53d",
   "metadata": {},
   "source": [
    "# Векторный потенциал прецессирующего магнитного диполя"
   ]
  },
  {
   "cell_type": "code",
   "execution_count": 61,
   "id": "c2c7cdb6",
   "metadata": {},
   "outputs": [],
   "source": [
    "A_dipol_elliptic = lambda rj, ra, zj, za : \\\n",
    "        + A_ring_elliptic(rj, ra, +zj, za) \\\n",
    "        - A_ring_elliptic(rj, ra, -zj, za)"
   ]
  },
  {
   "cell_type": "markdown",
   "id": "e543ef67",
   "metadata": {},
   "source": [
    "Векторный потенциал прецессирующего магнитного диполя на высоте za в зависимости от Расстояние от оси ra"
   ]
  },
  {
   "cell_type": "code",
   "execution_count": 62,
   "id": "181084e8",
   "metadata": {},
   "outputs": [],
   "source": [
    "plot_data_A_dipol_r_L10 = []\n",
    "for ir in range(1,20):\n",
    "    # Расстояние от оси R/r (лин шкала)\n",
    "    ra = 0.1 * ir\n",
    "    d = .1\n",
    "    A_phi_dipol = A_dipol_cyl(L=10, rq = 1*d, zq = d, ra = ra, za = 1)\n",
    "    plot_data_A_dipol_r_L10 += [(ra, A_phi_dipol)]"
   ]
  },
  {
   "cell_type": "code",
   "execution_count": 63,
   "id": "11c1e16c",
   "metadata": {},
   "outputs": [
    {
     "data": {
      "image/png": "[encoded data removed]",
      "text/plain": [
       "Graphics object consisting of 1 graphics primitive"
      ]
     },
     "metadata": {},
     "output_type": "display_data"
    }
   ],
   "source": [
    "p = plot(A_dipol_elliptic(rj = 1*d, ra = r_a, zj = d, za = 1), (r_a, 0, 10))\n",
    "p.show(title=\"Векторный потенциал прецессирующего магнитного диполя на высоте za\",\n",
    "       axes_labels=[\"Расстояние от оси ra\", \"\"])"
   ]
  },
  {
   "cell_type": "markdown",
   "id": "600bbb0a",
   "metadata": {},
   "source": [
    "Измерительный контур равного с кольцом диаметра приподнятый на z/r"
   ]
  },
  {
   "cell_type": "code",
   "execution_count": 64,
   "id": "f86c9be6",
   "metadata": {},
   "outputs": [],
   "source": [
    "plot_data_A_dipol_z_L10 = []\n",
    "for iz in range(1,20):\n",
    "    za = 0.1 * iz\n",
    "    d=1\n",
    "    if (za != 1):\n",
    "        A_phi_dipol = A_dipol_cyl(L=10, rq = 1*d, zq = 1*d, ra = 2, za = za)\n",
    "        #print(za, A_phi_dipol)\n",
    "        plot_data_A_dipol_z_L10 += [(za, A_phi_dipol)]"
   ]
  },
  {
   "cell_type": "code",
   "execution_count": 65,
   "id": "557b5946",
   "metadata": {},
   "outputs": [],
   "source": [
    "p = list_plot(plot_data_A_dipol_z_L10)"
   ]
  },
  {
   "cell_type": "code",
   "execution_count": 66,
   "id": "7afe76ab",
   "metadata": {},
   "outputs": [
    {
     "data": {
      "image/png": "[encoded data removed]",
      "text/plain": [
       "Graphics object consisting of 2 graphics primitives"
      ]
     },
     "metadata": {},
     "output_type": "display_data"
    }
   ],
   "source": [
    "p += plot(A_dipol_elliptic(rj = 1*d, ra = 2, zj = 1*d, za = z_a), (z_a, 0, 10))\n",
    "p.show(title=\"Векторный потенциал Измерительного контура равного с прецессирующего магнитного диполя диаметра приподнятого на z/r\",\n",
    "       axes_labels=[\"Высота подъема za\", \"\"])"
   ]
  },
  {
   "cell_type": "code",
   "execution_count": 77,
   "id": "8c2bc212",
   "metadata": {},
   "outputs": [
    {
     "data": {
      "image/png": "[encoded data removed]",
      "text/plain": [
       "Graphics object consisting of 1 graphics primitive"
      ]
     },
     "execution_count": 77,
     "metadata": {},
     "output_type": "execute_result"
    }
   ],
   "source": [
    "contour_plot(A_dipol_sympy(L = 10, r_m = 1, theta_m = pi/4, r_a=r_a, theta_a=theta_a)\n",
    "             , (theta_a,0,pi), (r_a,0.2,2), fill=False, cmap='hsv', labels=True)"
   ]
  },
  {
   "cell_type": "markdown",
   "id": "ed2a781f",
   "metadata": {},
   "source": [
    "# Интегральное уравнение для векторного потенциала кулоновского заряда "
   ]
  },
  {
   "cell_type": "markdown",
   "id": "4fa4de58",
   "metadata": {},
   "source": [
    "\n",
    "в цилиндрической системе координат\n",
    "\n",
    "$\\rho_a$, $z_a$ - координаты наблюдения\n",
    "\n",
    "$\\rho_m$, $z_m$, $\\varphi_m$ - координаты интегрирования, координаты магнитных зарядов"
   ]
  },
  {
   "cell_type": "markdown",
   "id": "032ae24d",
   "metadata": {},
   "source": [
    "$-\\frac{z_a}{{\\rho_a}\\sqrt{\\rho_a^{2} + z_a^{2}} } = \\int\\limits_{z_m=-\\infty}^{\\infty}\\,\\,\\int\\limits_{\\rho_m=0}^{\\infty}\\frac{j_m(\\rho_m, z_m) \\,\\rho_m}{c} \\left(\\int\\limits_{\\varphi_m=0}^{2\\pi}\\frac{cos\\,{\\varphi_m } \\, d \\varphi_m}{R}\\right)d \\rho_m \\, d z_m$"
   ]
  },
  {
   "cell_type": "markdown",
   "id": "dc4ab405",
   "metadata": {},
   "source": [
    "Неизвестные функции\n",
    "\n",
    "$q_m(r_m, \\theta_m)$ - плотность магнитного заряда в зависимости от цилиндрических координат\n",
    "\n",
    "$\\omega_m (r_m, \\theta_m)$ - круговая частота вращения\n",
    "\n",
    "$j_m(r_m, \\theta_m) = q_m(r_m, \\theta_m)\\, \\omega_m (r_m, \\theta_m) \\, r_m \\, \\sin \\theta_m$ - плотность магнитного тока"
   ]
  },
  {
   "cell_type": "markdown",
   "id": "3272346b",
   "metadata": {},
   "source": [
    "<p>Если заданы сферические координаты точки, то переход к цилиндрическим осуществляется по формулам:\n",
    "</p>"
   ]
  },
  {
   "cell_type": "markdown",
   "id": "7eac4a2c",
   "metadata": {},
   "source": [
    "${\\displaystyle {\\begin{cases}\\rho =r\\sin \\theta ,\\\\\\varphi =\\varphi ,\\\\z=r\\cos \\theta .\\end{cases}}}$"
   ]
  },
  {
   "cell_type": "markdown",
   "id": "9842ef11",
   "metadata": {},
   "source": [
    "<p>Обратно от цилиндрических к сферическим:\n",
    "</p>"
   ]
  },
  {
   "cell_type": "markdown",
   "id": "65ab2a8b",
   "metadata": {},
   "source": [
    "${\\displaystyle {\\begin{cases}r={\\sqrt {\\rho ^{2}+z^{2}}},\\\\\\theta =\\mathrm {arctg} {\\dfrac {\\rho }{z}},\\\\\\varphi =\\varphi .\\end{cases}}}$"
   ]
  },
  {
   "cell_type": "markdown",
   "id": "83731ce7",
   "metadata": {},
   "source": [
    "в сферической системе координат\n",
    "\n",
    "$r_a$, $\\theta_a$ - координаты наблюдения\n",
    "\n",
    "$r_m$, $\\theta_m$, $\\varphi_m$ - координаты интегрирования, координаты магнитных зарядов"
   ]
  },
  {
   "cell_type": "markdown",
   "id": "22fd8969",
   "metadata": {},
   "source": [
    "$-\\frac{сtg \\, \\theta_a}{r_a} = \\int\\limits_{\\theta_m=0}^{\\pi}\\,\\,\\int\\limits_{r_m=0}^{\\infty}\\frac{j_m(r_m, \\theta_m) \\,\\sin \\theta_m\\, r_m}{c} \\left(\\int\\limits_{\\varphi_m=0}^{2\\pi}\\frac{cos\\,{\\varphi_m } }{\\left| \\overrightarrow{{{r}_{m}}}-\\overrightarrow{{{r}_{a}}} \\right|}\\, d \\varphi_m\\right)d r_m \\, d \\theta_m$"
   ]
  },
  {
   "cell_type": "markdown",
   "id": "129025df",
   "metadata": {},
   "source": [
    "$-\\frac{сtg \\, \\theta_a}{r_a} = \\int\\limits_{\\theta_m=0}^{\\pi}\\,\\,\\int\\limits_{r_m=0}^{r_a}\\frac{j_m(r_m, \\theta_m) \\,\\sin \\theta_m\\, r_m}{c} \\left(\\int\\limits_{\\varphi_m=0}^{2\\pi}\\frac{cos\\,{\\varphi_m } }{\\left| \\overrightarrow{{{r}_{m}}}-\\overrightarrow{{{r}_{a}}} \\right|}\\, d \\varphi_m\\right)d r_m \\, d \\theta_m + \\int\\limits_{\\theta_m=0}^{\\pi}\\,\\,\\int\\limits_{r_m=r_a}^{\\infty}\\frac{j_m(r_m, \\theta_m) \\,\\sin \\theta_m\\, r_m}{c} \\left(\\int\\limits_{\\varphi_m=0}^{2\\pi}\\frac{cos\\,{\\varphi_m } }{\\left| \\overrightarrow{{{r}_{m}}}-\\overrightarrow{{{r}_{a}}} \\right|}\\, d \\varphi_m\\right)d r_m \\, d \\theta_m$"
   ]
  },
  {
   "cell_type": "markdown",
   "id": "33e710e5",
   "metadata": {},
   "source": [
    "если $\\left( {{r}_{m}}<{{r}_{a}} \\right)$ то\n",
    "\n",
    "$\\frac{1}{\\left| \\overrightarrow{{{r}_{m}}}-\\overrightarrow{{{r}_{a}}} \\right|}=\\frac{1}{{{r}_{a}}}\\sum\\limits_{l=0}^{\\infty }{{{\\left( \\frac{{{r}_{m}}}{{{r}_{a}}} \\right)}^{l}}{{P}_{l}} \\cos \\left( \\gamma  \\right)}$\n",
    "\n",
    "и если $\\left( {{r}_{a}}<{{r}_{m}} \\right)$ то\n",
    "\n",
    "$\\frac{1}{\\left| \\overrightarrow{{{r}_{m}}}-\\overrightarrow{{{r}_{a}}} \\right|}=\\frac{1}{{{r}_{q}}}\\sum\\limits_{l=0}^{\\infty }{{{\\left( \\frac{{{r}_{a}}}{{{r}_{m}}} \\right)}^{l}}{{P}_{l}} \\cos \\left( \\gamma  \\right)}$"
   ]
  },
  {
   "cell_type": "markdown",
   "id": "bfa36fcc",
   "metadata": {},
   "source": [
    "\\begin{equation}\n",
    "\\begin{array}{c}\n",
    "-\\frac{сtg \\, \\theta_a}{r_a} = \n",
    "\\int\\limits_{\\theta_m=0}^{\\pi}\\,\\,\\int\\limits_{r_m=0}^{r_a}\\frac{j_m(r_m, \\theta_m) \\,\\sin \\theta_m\\, r_m}{c} \\left(\\int\\limits_{\\varphi_m=0}^{2\\pi}\\,\\frac{cos\\,{\\varphi_m } }{{{r}_{a}}}\\sum\\limits_{l=0}^{\\infty }{{\\left( \\frac{{{r}_{m}}}{{{r}_{a}}} \\right)}^{l}}{{P}_{l}} \\cos \\left( \\gamma  \\right)\\, d \\varphi_m\\right)d r_m \\, d \\theta_m \\\\ +\n",
    "\\int\\limits_{\\theta_m=0}^{\\pi}\\,\\,\\int\\limits_{r_m=r_a}^{\\infty}\\frac{j_m(r_m, \\theta_m) \\,\\sin \\theta_m\\, r_m}{c} \\left(\\int\\limits_{\\varphi_m=0}^{2\\pi}\\,\\frac{cos\\,{\\varphi_m }}{{{r}_{m}}}\\sum\\limits_{l=0}^{\\infty }{{\\left( \\frac{{{r}_{a}}}{{{r}_{m}}} \\right)}^{l}}{{P}_{l}} \\cos \\left( \\gamma  \\right)\\, d \\varphi_m\\right)d r_m \\, d \\theta_m\n",
    "\\end{array}\n",
    "\\end{equation}"
   ]
  },
  {
   "cell_type": "markdown",
   "id": "3c7e0518",
   "metadata": {},
   "source": [
    "\\begin{equation}\n",
    "\\begin{array}{c}\n",
    "-\\frac{сtg \\, \\theta_a}{r_a} = \n",
    "\\int\\limits_{r_m=0}^{r_a}\\,\\int\\limits_{\\theta_m=0}^{\\pi}\\,\\frac{j_m(r_m, \\theta_m) \\,\\sin \\theta_m\\, r_m}{c} \\sum\\limits_{l=0}^{\\infty }{{\\left( \\frac{{{r}_{m}}}{{{r}_{a}}} \\right)}^{l}}\\left(\\int\\limits_{\\varphi_m=0}^{2\\pi}\\,\\frac{cos\\,{\\varphi_m } }{{{r}_{a}}}{{P}_{l}} \\cos \\left( \\gamma  \\right)\\, d \\varphi_m\\right) \\, d \\theta_m \\,d r_m  \\\\ +\n",
    "\\int\\limits_{r_m=r_a}^{\\infty}\\,\\int\\limits_{\\theta_m=0}^{\\pi}\\,\\frac{j_m(r_m, \\theta_m) \\,\\sin \\theta_m\\, r_m}{c} \\sum\\limits_{l=0}^{\\infty }{{\\left( \\frac{{{r}_{a}}}{{{r}_{m}}} \\right)}^{l}}\\left(\\int\\limits_{\\varphi_m=0}^{2\\pi}\\,\\frac{cos\\,{\\varphi_m }}{{{r}_{m}}}{{P}_{l}} \\cos \\left( \\gamma  \\right)\\, d \\varphi_m\\right) \\, d \\theta_m \\,d r_m\n",
    "\\end{array}\n",
    "\\end{equation}"
   ]
  },
  {
   "cell_type": "markdown",
   "id": "ca3b429c",
   "metadata": {},
   "source": [
    "\\begin{equation}\n",
    "\\begin{array}{c}\n",
    "-\\frac{сtg \\, \\theta_a}{r_a} = \n",
    "\\int\\limits_{r_m=0}^{r_a}\\,\\int\\limits_{\\theta_m=0}^{\\pi}\\,\\frac{j_m(r_m, \\theta_m) \\,\\sin \\theta_m\\, r_m}{c\\,r_a} \\sum\\limits_{l=0}^{\\infty }{{\\left( \\frac{r_m}{r_a} \\right)}^{l}}\\left(\\int\\limits_{\\varphi_m=0}^{2\\pi}\\,{cos\\,{\\varphi_m } }{P_l} \\cos \\left( \\gamma  \\right)\\, d \\varphi_m\\right) \\, d \\theta_m \\,d r_m \\\\ +\n",
    "\\int\\limits_{r_m=r_a}^{\\infty}\\,\\int\\limits_{\\theta_m=0}^{\\pi}\\,\\frac{j_m(r_m, \\theta_m) \\,\\sin \\theta_m\\, r_m}{c\\,r_m} \\sum\\limits_{l=0}^{\\infty }{{\\left( \\frac{r_a}{r_m} \\right)}^{l}}\\left(\\int\\limits_{\\varphi_m=0}^{2\\pi}\\,{cos\\,{\\varphi_m }}{P_l} \\cos \\left( \\gamma  \\right)\\, d \\varphi_m\\right) \\, d \\theta_m \\,d r_m\n",
    "\\end{array}\n",
    "\\end{equation}"
   ]
  },
  {
   "cell_type": "markdown",
   "id": "4a124f31",
   "metadata": {},
   "source": [
    "В данной формуле ${{P}_{l}} \\cos \\left( \\gamma  \\right)$ это полиномы Лежандра аргумент которых $\\gamma$ есть угол между векторами ${{r}_{q}}$  и ${{r}_{a}}$. Применяя формулу, известную как теорему сложения\n",
    "\n",
    "${{P}_{l}}\\cos \\left( \\gamma  \\right)=\\frac{4\\pi }{2l+1}\\sum\\limits_{m=-l}^{l}{Y_{l,m}^{*}\\left( {{\\theta }_{a}},{{\\varphi }_{a}} \\right)}\\ {{Y}_{l,m}}\\left( {{\\theta}_{m}},{{\\varphi }_{m}} \\right)$\n"
   ]
  },
  {
   "cell_type": "markdown",
   "id": "505a9874",
   "metadata": {},
   "source": [
    "Обозначим\n",
    "\n",
    "$S_{l}(\\theta_m, \\theta_a) = \\left(\\int\\limits_{{\\left(\\varphi_m - \\varphi_a\\right)}=0}^{2\\pi}\\,{cos\\,{{\\left(\\varphi_m - \\varphi_a\\right)} } }{P_l} \\cos \\left( \\gamma  \\right)\\, d {\\left(\\varphi_m - \\varphi_a\\right)}\\right)$"
   ]
  },
  {
   "cell_type": "code",
   "execution_count": 78,
   "id": "53eff52f",
   "metadata": {},
   "outputs": [],
   "source": [
    "S_l = function(\"S_l\")(l,theta_m, theta_a)\n",
    "j_m = function(\"j_m\")(r_m, theta_m)\n"
   ]
  },
  {
   "cell_type": "markdown",
   "id": "e112fa1e",
   "metadata": {},
   "source": [
    "теперь интегральное уравнение выглядит"
   ]
  },
  {
   "cell_type": "markdown",
   "id": "bdf52994",
   "metadata": {},
   "source": [
    "\\begin{equation}\n",
    "\\begin{array}{c}\n",
    "-\\frac{сtg \\, \\theta_a}{r_a} = \n",
    "\\int\\limits_{r_m=0}^{r_a}\\,\\int\\limits_{\\theta_m=0}^{\\pi}\\,\\frac{j_m(r_m, \\theta_m) \\,\\sin \\theta_m\\, r_m}{c\\,r_a} \\sum\\limits_{l=0}^{\\infty }{{\\left( \\frac{r_m}{r_a} \\right)}^{l}}S_{l}(\\theta_m, \\theta_a) \\, d \\theta_m \\,d r_m \\\\ +\n",
    "\\int\\limits_{r_m=r_a}^{\\infty}\\,\\int\\limits_{\\theta_m=0}^{\\pi}\\,\\frac{j_m(r_m, \\theta_m) \\,\\sin \\theta_m\\, r_m}{c\\,r_m} \\sum\\limits_{l=0}^{\\infty }{{\\left( \\frac{r_a}{r_m} \\right)}^{l}}S_{l}(\\theta_m, \\theta_a) \\, d \\theta_m \\,d r_m\n",
    "\\end{array}\n",
    "\\end{equation}"
   ]
  },
  {
   "cell_type": "code",
   "execution_count": 79,
   "id": "86ca2c40",
   "metadata": {},
   "outputs": [
    {
     "data": {
      "text/latex": [
       "$\\displaystyle -\\frac{\\cot\\left(\\theta_{a}\\right)}{r_{a}} = \\int_{r_{a}}^{+\\infty} \\int_{0}^{\\pi} j_{m}\\left(r_{m}, \\theta_{m}\\right) \\sin\\left(\\theta_{m}\\right) {\\sum_{l=0}^{+\\infty} \\frac{r_{a}^{l} S_{l}\\left(l, \\theta_{m}, \\theta_{a}\\right)}{r_{m}^{l}}}\\,{d \\theta_{m}}\\,{d r_{m}} + \\int_{0}^{r_{a}} \\int_{0}^{\\pi} \\frac{r_{m} j_{m}\\left(r_{m}, \\theta_{m}\\right) \\sin\\left(\\theta_{m}\\right) {\\sum_{l=0}^{+\\infty} \\frac{r_{m}^{l} S_{l}\\left(l, \\theta_{m}, \\theta_{a}\\right)}{r_{a}^{l}}}}{r_{a}}\\,{d \\theta_{m}}\\,{d r_{m}}$"
      ],
      "text/plain": [
       "<IPython.core.display.Math object>"
      ]
     },
     "metadata": {},
     "output_type": "display_data"
    }
   ],
   "source": [
    "eq1 = - A_q(r_a, theta_a) == \\\n",
    "    definite_integral( \\\n",
    "        definite_integral( j_m(r_m = r_m, theta_m = theta_m) * \\\n",
    "            (sin(theta_m)*r_m/r_a) * \\\n",
    "                symbolic_sum((r_m/r_a)^l * S_l(l=l, theta_m = theta_m, theta_a = theta_a), l, 0, Infinity)\\\n",
    "                , theta_m, 0, pi, hold=True) \\\n",
    "                    , r_m, 0, r_a, hold=True) + \\\n",
    "    definite_integral( \\\n",
    "        definite_integral( j_m(r_m = r_m, theta_m = theta_m) * \\\n",
    "            (sin(theta_m)) * \\\n",
    "                symbolic_sum((r_a/r_m)^l * S_l(l=l, theta_m = theta_m, theta_a = theta_a), l, 0, Infinity)\\\n",
    "                , theta_m, 0, pi, hold=True)\n",
    "                    , r_m, r_a, Infinity, hold=True)\n",
    "\n",
    "disp(eq1)"
   ]
  },
  {
   "cell_type": "markdown",
   "id": "063dfdff",
   "metadata": {},
   "source": [
    "\\begin{equation}\n",
    "\\begin{array}{c}\n",
    "-\\frac{сtg \\, \\theta_a}{r_a} = \n",
    "\\int\\limits_{r_m=0}^{r_a}\\,\\int\\limits_{\\theta_m=0}^{\\pi}\\,\\frac{j_m(r_m, \\theta_m)}{c}\\,\\left(\\frac{\\sin \\theta_m\\, r_m}{r_a} \\sum\\limits_{l=0}^{\\infty }{{\\left( \\frac{r_m}{r_a} \\right)}^{l}}S_{l}(\\theta_m, \\theta_a) \\right)\\, d \\theta_m \\,d r_m \\\\ +\n",
    "\\int\\limits_{r_m=r_a}^{\\infty}\\,\\int\\limits_{\\theta_m=0}^{\\pi}\\,\\frac{j_m(r_m, \\theta_m)}{c} \\,\\left({\\sin \\theta_m} \\sum\\limits_{l=0}^{\\infty }{{\\left( \\frac{r_a}{r_m} \\right)}^{l}}S_{l}(\\theta_m, \\theta_a) \\right) \\, d \\theta_m \\,d r_m\n",
    "\\end{array}\n",
    "\\end{equation}"
   ]
  },
  {
   "cell_type": "markdown",
   "id": "8cd68402",
   "metadata": {},
   "source": [
    "ядро интегрального уравнения (в круглых скобках)"
   ]
  },
  {
   "cell_type": "markdown",
   "id": "e6c4baec",
   "metadata": {},
   "source": [
    "Это линейное интегральное уравнение Фредгольма первого рода."
   ]
  },
  {
   "cell_type": "markdown",
   "id": "42676147",
   "metadata": {},
   "source": [
    "Продифференцируем обе части интегрального уравнения по $r_a$"
   ]
  },
  {
   "cell_type": "markdown",
   "id": "5ee8fbe7",
   "metadata": {},
   "source": [
    "\\begin{equation}\n",
    "\\begin{array}{c}\n",
    "\\frac{сtg \\, \\theta_a}{r_a^2} = \n",
    "\\int\\limits_{r_m=0}^{r_a}\\,\\int\\limits_{\\theta_m=0}^{\\pi}\\,\\frac{j_m(r_m, \\theta_m)}{c}\\,\\frac{d}{dr_a}\\left(\\frac{\\sin \\theta_m\\, r_m}{r_a} \\sum\\limits_{l=0}^{\\infty }{{\\left( \\frac{r_m}{r_a} \\right)}^{l}}S_{l}(\\theta_m, \\theta_a) \\right)\\, d \\theta_m \\,d r_m +\n",
    "\\int\\limits_{r_m=r_a}^{\\infty}\\,\\int\\limits_{\\theta_m=0}^{\\pi}\\,\\frac{j_m(r_m, \\theta_m)}{c} \\,\\frac{d}{dr_a}\\left({\\sin \\theta_m} \\sum\\limits_{l=0}^{\\infty }{{\\left( \\frac{r_a}{r_m} \\right)}^{l}}S_{l}(\\theta_m, \\theta_a) \\right) \\, d \\theta_m \\,d r_m \\\\\n",
    "+ \\int\\limits_{\\theta_m=0}^{\\pi}\\,\\frac{j_m(r_a, \\theta_m)}{c}\\,\\left(\\frac{\\sin \\theta_m\\, r_m}{r_a} \\sum\\limits_{l=0}^{\\infty }{{\\left( \\frac{r_m}{r_a} \\right)}^{l}}S_{l}(\\theta_m, \\theta_a) \\right)_{r_m = r_a}\\, d \\theta_m -\n",
    "\\int\\limits_{\\theta_m=0}^{\\pi}\\,\\frac{j_m(r_a, \\theta_m)}{c} \\,\\left({\\sin \\theta_m} \\sum\\limits_{l=0}^{\\infty }{{\\left( \\frac{r_a}{r_m} \\right)}^{l}}S_{l}(\\theta_m, \\theta_a) \\right)_{r_m = r_a} \\, d \\theta_m\n",
    "\\end{array}\n",
    "\\end{equation}"
   ]
  },
  {
   "cell_type": "code",
   "execution_count": null,
   "id": "1c467823",
   "metadata": {},
   "outputs": [],
   "source": []
  },
  {
   "cell_type": "markdown",
   "id": "c3bae054",
   "metadata": {},
   "source": [
    "\\begin{equation}\n",
    "\\begin{array}{c}\n",
    "\\frac{сtg \\, \\theta_a}{r_a^2} = \n",
    "\\int\\limits_{r_m=0}^{r_a}\\,\\int\\limits_{\\theta_m=0}^{\\pi}\\,\\frac{j_m(r_m, \\theta_m)}{c}\\,\\frac{d}{dr_a}\\left(\\frac{\\sin \\theta_m\\, r_m}{r_a} \\sum\\limits_{l=0}^{\\infty }{{\\left( \\frac{r_m}{r_a} \\right)}^{l}}S_{l}(\\theta_m, \\theta_a) \\right)\\, d \\theta_m \\,d r_m \\\\\n",
    "+ \\int\\limits_{r_m=r_a}^{\\infty}\\,\\int\\limits_{\\theta_m=0}^{\\pi}\\,\\frac{j_m(r_m, \\theta_m)}{c} \\,\\frac{d}{dr_a}\\left({\\sin \\theta_m} \\sum\\limits_{l=0}^{\\infty }{{\\left( \\frac{r_a}{r_m} \\right)}^{l}}S_{l}(\\theta_m, \\theta_a) \\right) \\, d \\theta_m \\,d r_m \\\\\n",
    "+ \\int\\limits_{\\theta_m=0}^{\\pi}\\,\\frac{j_m(r_a, \\theta_m)}{c}\\,\\left({\\sin \\theta_m} \\sum\\limits_{l=0}^{\\infty} S_{l}\\left(\\theta_m, \\theta_a\\right) \\right)\\, d \\theta_m -\n",
    "\\int\\limits_{\\theta_m=0}^{\\pi}\\,\\frac{j_m(r_a, \\theta_m)}{c} \\,\\left({\\sin \\theta_m} \\sum\\limits_{l=0}^{\\infty} S_{l}(\\theta_m, \\theta_a) \\right) \\, d \\theta_m\n",
    "\\end{array}\n",
    "\\end{equation}"
   ]
  },
  {
   "cell_type": "code",
   "execution_count": null,
   "id": "4d0898b9",
   "metadata": {},
   "outputs": [],
   "source": []
  },
  {
   "cell_type": "markdown",
   "id": "53d95642",
   "metadata": {},
   "source": [
    "$\\frac{сtg \\, \\theta_a}{r_a^2} = \n",
    "\\int\\limits_{r_m=0}^{r_a}\\,\\int\\limits_{\\theta_m=0}^{\\pi}\\,\\frac{j_m(r_m, \\theta_m)}{c}\\,\\frac{d}{dr_a}\\left(\\frac{\\sin \\theta_m\\, r_m}{r_a} \\sum\\limits_{l=0}^{\\infty }{{\\left( \\frac{r_m}{r_a} \\right)}^{l}}S_{l}(\\theta_m, \\theta_a) \\right)\\, d \\theta_m \\,d r_m +\n",
    "\\int\\limits_{r_m=r_a}^{\\infty}\\,\\int\\limits_{\\theta_m=0}^{\\pi}\\,\\frac{j_m(r_m, \\theta_m)}{c} \\,\\frac{d}{dr_a}\\left({\\sin \\theta_m} \\sum\\limits_{l=0}^{\\infty }{{\\left( \\frac{r_a}{r_m} \\right)}^{l}}S_{l}(\\theta_m, \\theta_a) \\right) \\, d \\theta_m \\,d r_m$"
   ]
  },
  {
   "cell_type": "code",
   "execution_count": null,
   "id": "e118538b",
   "metadata": {},
   "outputs": [],
   "source": []
  },
  {
   "cell_type": "markdown",
   "id": "cb0292c8",
   "metadata": {},
   "source": [
    "\\begin{equation}\n",
    "\\begin{array}{c}\n",
    "\\frac{сtg \\, \\theta_a}{r_a^2} = \n",
    "\\int\\limits_{r_m=0}^{r_a}\\,\\int\\limits_{\\theta_m=0}^{\\pi}\\,\\frac{j_m(r_m, \\theta_m)}{c}\\,\\left(\\frac{\\sin \\theta_m\\, r_m}{r_a} \\sum\\limits_{l=0}^{\\infty }-l{{\\left( \\frac{{r_m}^{l}}{{r_a}^{l+1}} \\right)}}S_{l}(\\theta_m, \\theta_a) - \\frac{\\sin \\theta_m\\, r_m}{r_a^2} \\sum\\limits_{l=0}^{\\infty }{{\\left( \\frac{r_m}{r_a} \\right)}^{l}}S_{l}(\\theta_m, \\theta_a)\\right)\\, d \\theta_m \\,d r_m  \\\\\n",
    "+\\int\\limits_{r_m=r_a}^{\\infty}\\,\\int\\limits_{\\theta_m=0}^{\\pi}\\,\\frac{j_m(r_m, \\theta_m)}{c} \\,\\left({\\sin \\theta_m} \\sum\\limits_{l=0}^{\\infty }l{{\\left( \\frac{{r_a}^{l-1}}{{r_m}^{l}} \\right)}}S_{l}(\\theta_m, \\theta_a) \\right) \\, d \\theta_m \\,d r_m\n",
    "\\end{array}\n",
    "\\end{equation}"
   ]
  },
  {
   "cell_type": "code",
   "execution_count": null,
   "id": "f7e1c78d",
   "metadata": {},
   "outputs": [],
   "source": []
  },
  {
   "cell_type": "markdown",
   "id": "eba9e785",
   "metadata": {},
   "source": [
    "\\begin{equation}\n",
    "\\begin{array}{c}\n",
    "\\frac{сtg \\, \\theta_a}{r_a^2} = \n",
    "-\\int\\limits_{r_m=0}^{r_a}\\,\\int\\limits_{\\theta_m=0}^{\\pi}\\,\\frac{j_m(r_m, \\theta_m)}{c}\\,\\left(\\frac{\\sin \\theta_m\\, r_m}{r_a} \\sum\\limits_{l=0}^{\\infty }l{{\\left( \\frac{{r_m}^{l}}{{r_a}^{l+1}} \\right)}}S_{l}(\\theta_m, \\theta_a) + \\frac{\\sin \\theta_m\\, r_m}{r_a^2} \\sum\\limits_{l=0}^{\\infty }{{\\left( \\frac{r_m}{r_a} \\right)}^{l}}S_{l}(\\theta_m, \\theta_a)\\right)\\, d \\theta_m \\,d r_m  \\\\\n",
    "+\\int\\limits_{r_m=r_a}^{\\infty}\\,\\int\\limits_{\\theta_m=0}^{\\pi}\\,\\frac{j_m(r_m, \\theta_m)}{c} \\,\\left({\\sin \\theta_m} \\sum\\limits_{l=0}^{\\infty }l{{\\left( \\frac{{r_a}^{l-1}}{{r_m}^{l}} \\right)}}S_{l}(\\theta_m, \\theta_a) \\right) \\, d \\theta_m \\,d r_m\n",
    "\\end{array}\n",
    "\\end{equation}"
   ]
  },
  {
   "cell_type": "markdown",
   "id": "15ff9fd7",
   "metadata": {},
   "source": [
    "\\begin{equation}\n",
    "\\begin{array}{c}\n",
    "\\frac{сtg \\, \\theta_a}{r_a^2} = \n",
    "-\\int\\limits_{r_m=0}^{r_a}\\,\\int\\limits_{\\theta_m=0}^{\\pi}\\,\\frac{j_m(r_m, \\theta_m)}{c}\\,\\left(\\frac{\\sin \\theta_m\\, r_m}{r_a^2} \\sum\\limits_{l=0}^{\\infty }l{{\\left( \\frac{{r_m}}{{r_a}} \\right)}^{l}}S_{l}(\\theta_m, \\theta_a) + \\frac{\\sin \\theta_m\\, r_m}{r_a^2} \\sum\\limits_{l=0}^{\\infty }{{\\left( \\frac{r_m}{r_a} \\right)}^{l}}S_{l}(\\theta_m, \\theta_a)\\right)\\, d \\theta_m \\,d r_m  \\\\\n",
    "+\\int\\limits_{r_m=r_a}^{\\infty}\\,\\int\\limits_{\\theta_m=0}^{\\pi}\\,\\frac{j_m(r_m, \\theta_m)}{c} \\,\\left({\\sin \\theta_m} \\sum\\limits_{l=0}^{\\infty }l{{\\left( \\frac{{r_a}^{l-1}}{{r_m}^{l}} \\right)}}S_{l}(\\theta_m, \\theta_a) \\right) \\, d \\theta_m \\,d r_m\n",
    "\\end{array}\n",
    "\\end{equation}"
   ]
  },
  {
   "cell_type": "code",
   "execution_count": 80,
   "id": "d79541fc",
   "metadata": {},
   "outputs": [
    {
     "data": {
      "text/latex": [
       "$\\displaystyle \\frac{\\cot\\left(\\theta_{a}\\right)}{r_{a}^{2}} = \\int_{r_{a}}^{+\\infty} \\int_{0}^{\\pi} j_{m}\\left(r_{m}, \\theta_{m}\\right) \\sin\\left(\\theta_{m}\\right) {\\sum_{l=0}^{+\\infty} \\frac{l r_{a}^{l - 1} S_{l}\\left(l, \\theta_{m}, \\theta_{a}\\right)}{r_{m}^{l}}}\\,{d \\theta_{m}}\\,{d r_{m}} + \\int_{0}^{r_{a}} \\int_{0}^{\\pi} \\frac{r_{m} j_{m}\\left(r_{m}, \\theta_{m}\\right) \\sin\\left(\\theta_{m}\\right) {\\sum_{l=0}^{+\\infty} -\\frac{l r_{a}^{l - 1} r_{m}^{l} S_{l}\\left(l, \\theta_{m}, \\theta_{a}\\right)}{r_{a}^{2 \\, l}}}}{r_{a}} - \\frac{r_{m} j_{m}\\left(r_{m}, \\theta_{m}\\right) \\sin\\left(\\theta_{m}\\right) {\\sum_{l=0}^{+\\infty} \\frac{r_{m}^{l} S_{l}\\left(l, \\theta_{m}, \\theta_{a}\\right)}{r_{a}^{l}}}}{r_{a}^{2}}\\,{d \\theta_{m}}\\,{d r_{m}}$"
      ],
      "text/plain": [
       "<IPython.core.display.Math object>"
      ]
     },
     "metadata": {},
     "output_type": "display_data"
    }
   ],
   "source": [
    "eq1 = - A_q(r_a, theta_a).diff(r_a) == \\\n",
    "    definite_integral( \\\n",
    "        definite_integral( (j_m(r_m = r_m, theta_m = theta_m) * \\\n",
    "            (sin(theta_m)*r_m/r_a) * \\\n",
    "                symbolic_sum((r_m/r_a)^l * S_l(l=l, theta_m=theta_m, theta_a=theta_a), l, 0, Infinity)).diff(r_a)\\\n",
    "                    , theta_m, 0, pi, hold=True) \\\n",
    "                        , r_m, 0, r_a, hold=True) + \\\n",
    "    definite_integral( \\\n",
    "        definite_integral( (j_m(r_m = r_m, theta_m = theta_m) * \\\n",
    "            (sin(theta_m)) * \\\n",
    "                symbolic_sum((r_a/r_m)^l * S_l(l=l, theta_m=theta_m, theta_a=theta_a), l, 0, Infinity)).diff(r_a)\\\n",
    "                    , theta_m, 0, pi, hold=True)\n",
    "                        , r_m, r_a, Infinity, hold=True) + \\\n",
    "    definite_integral( (j_m(r_m = r_m, theta_m = theta_m) * \\\n",
    "        (sin(theta_m)*r_m/r_a) * \\\n",
    "            symbolic_sum((r_m/r_a)^l * S_l(l=l, theta_m=theta_m, theta_a=theta_a), l, 0, Infinity)).subs(r_m == r_a)\\\n",
    "                , theta_m, 0, pi, hold=True) - \\\n",
    "    definite_integral( (j_m(r_m = r_m, theta_m = theta_m) * \\\n",
    "        (sin(theta_m)) * \\\n",
    "            symbolic_sum((r_a/r_m)^l * S_l(l=l, theta_m=theta_m, theta_a=theta_a), l, 0, Infinity)).subs(r_m == r_a)\\\n",
    "                , theta_m, 0, pi, hold=True)\n",
    "\n",
    "disp(eq1)"
   ]
  },
  {
   "cell_type": "markdown",
   "id": "7adcce80",
   "metadata": {},
   "source": [
    "\\begin{equation}\n",
    "\\begin{array}{c}\n",
    "\\frac{сtg \\, \\theta_a}{r_a^2} = \n",
    "-\\int\\limits_{r_m=0}^{r_a}\\,\\int\\limits_{\\theta_m=0}^{\\pi}\\,\\frac{j_m(r_m, \\theta_m)}{c}\\,\\left(\\frac{\\sin \\theta_m\\, r_m}{r_a^2} \\sum\\limits_{l=0}^{\\infty }\\left(l+1\\right){{\\left( \\frac{{r_m}}{{r_a}} \\right)}^{l}}S_{l}(\\theta_m, \\theta_a) \\right)\\, d \\theta_m \\,d r_m  \\\\\n",
    "+\\int\\limits_{r_m=r_a}^{\\infty}\\,\\int\\limits_{\\theta_m=0}^{\\pi}\\,\\frac{j_m(r_m, \\theta_m)}{c} \\,\\left(\\frac{\\sin \\theta_m}{r_a} \\sum\\limits_{l=0}^{\\infty }l{{\\left( \\frac{{r_a}}{{r_m}} \\right)}^{l}}S_{l}(\\theta_m, \\theta_a) \\right) \\, d \\theta_m \\,d r_m\n",
    "\\end{array}\n",
    "\\end{equation}"
   ]
  },
  {
   "cell_type": "code",
   "execution_count": 81,
   "id": "b3981015",
   "metadata": {},
   "outputs": [
    {
     "data": {
      "text/latex": [
       "$\\displaystyle \\frac{\\cot\\left(\\theta_{a}\\right)}{r_{a}^{2}} = \\int_{r_{a}}^{+\\infty} \\int_{0}^{\\pi} \\frac{j_{m}\\left(r_{m}, \\theta_{m}\\right) \\sin\\left(\\theta_{m}\\right) {\\sum_{l=0}^{+\\infty} \\frac{l r_{a}^{l} S_{l}\\left(l, \\theta_{m}, \\theta_{a}\\right)}{r_{m}^{l}}}}{r_{a}}\\,{d \\theta_{m}}\\,{d r_{m}} - \\int_{0}^{r_{a}} \\int_{0}^{\\pi} \\frac{r_{m} j_{m}\\left(r_{m}, \\theta_{m}\\right) \\sin\\left(\\theta_{m}\\right) {\\sum_{l=0}^{+\\infty} \\frac{{\\left(l + 1\\right)} r_{m}^{l} S_{l}\\left(l, \\theta_{m}, \\theta_{a}\\right)}{r_{a}^{l}}}}{r_{a}^{2}}\\,{d \\theta_{m}}\\,{d r_{m}}$"
      ],
      "text/plain": [
       "<IPython.core.display.Math object>"
      ]
     },
     "metadata": {},
     "output_type": "display_data"
    }
   ],
   "source": [
    "eq1 = - A_q(r_a, theta_a).diff(r_a) == \\\n",
    "    definite_integral(definite_integral( \\\n",
    "        j_m(r_m=r_m, theta_m=theta_m) * \\\n",
    "        sin(theta_m)/r_a*sum(l*(r_a/r_m)^l*S_l(l=l, theta_m=theta_m, theta_a=theta_a), l, 0, +Infinity) \\\n",
    "            , theta_m, 0, pi, hold=True) \\\n",
    "                , r_m, r_a, +Infinity, hold=True) \\\n",
    "    - definite_integral(definite_integral( \\\n",
    "         r_m*j_m(r_m=r_m, theta_m=theta_m) * sin(theta_m)/r_a^2*\\\n",
    "            sum((l+1)*(r_m/r_a)^(l)*S_l(l=l, theta_m=theta_m, theta_a=theta_a), l, 0, +Infinity) \\\n",
    "                , theta_m, 0, pi, hold=True) \\\n",
    "                    , r_m, 0, r_a, hold=True)\n",
    "disp(eq1)"
   ]
  },
  {
   "cell_type": "markdown",
   "id": "e2971efc",
   "metadata": {},
   "source": [
    "Ещё раз дифференцируем обе части интегрального уравнения по $r_a$"
   ]
  },
  {
   "cell_type": "markdown",
   "id": "8427f9c4",
   "metadata": {},
   "source": [
    "\\begin{equation}\n",
    "\\begin{array}{c}\n",
    "-\\,2\\,\\frac{сtg \\, \\theta_a}{r_a^3} = \n",
    "-\\int\\limits_{r_m=0}^{r_a}\\,\\int\\limits_{\\theta_m=0}^{\\pi}\\,\\frac{j_m(r_m, \\theta_m)}{c}\\,\\frac{d}{dr_a}\\left(\\frac{\\sin \\theta_m\\, r_m}{r_a^2} \\sum\\limits_{l=0}^{\\infty }\\left(l+1\\right){{\\left( \\frac{{r_m}}{{r_a}} \\right)}^{l}}S_{l}(\\theta_m, \\theta_a) \\right)\\, d \\theta_m \\,d r_m  \\\\\n",
    "+\\int\\limits_{r_m=r_a}^{\\infty}\\,\\int\\limits_{\\theta_m=0}^{\\pi}\\,\\frac{j_m(r_m, \\theta_m)}{c} \\,\\frac{d}{dr_a}\\left(\\frac{\\sin \\theta_m}{r_a} \\sum\\limits_{l=0}^{\\infty }l{{\\left( \\frac{{r_a}}{{r_m}} \\right)}^{l}}S_{l}(\\theta_m, \\theta_a) \\right) \\, d \\theta_m \\,d r_m \\\\\n",
    "-\\int\\limits_{\\theta_m=0}^{\\pi}\\,\\frac{j_m(r_a, \\theta_m)}{c}\\,\\left(\\frac{\\sin \\theta_m\\, r_m}{r_a^2} \\sum\\limits_{l=0}^{\\infty }\\left(l+1\\right){{\\left( \\frac{{r_m}}{{r_a}} \\right)}^{l}}S_{l}(\\theta_m, \\theta_a) \\right)_{r_m = r_a}\\, d \\theta_m  \\\\\n",
    "-\\int\\limits_{\\theta_m=0}^{\\pi}\\,\\frac{j_m(r_a, \\theta_m)}{c} \\,\\left(\\frac{\\sin \\theta_m}{r_a} \\sum\\limits_{l=0}^{\\infty }l{{\\left( \\frac{{r_a}}{{r_m}} \\right)}^{l}}S_{l}(\\theta_m, \\theta_a) \\right)_{r_m = r_a} \\, d \\theta_m\n",
    "\\end{array}\n",
    "\\end{equation}"
   ]
  },
  {
   "cell_type": "code",
   "execution_count": 82,
   "id": "a85b3657",
   "metadata": {},
   "outputs": [
    {
     "data": {
      "text/latex": [
       "$\\displaystyle -\\frac{2 \\, \\cot\\left(\\theta_{a}\\right)}{r_{a}^{3}} = -\\int_{0}^{\\pi} \\frac{j_{m}\\left(r_{a}, \\theta_{m}\\right) \\sin\\left(\\theta_{m}\\right) {\\sum_{l=0}^{+\\infty} {\\left(l + 1\\right)} S_{l}\\left(l, \\theta_{m}, \\theta_{a}\\right)}}{r_{a}}\\,{d \\theta_{m}} - \\int_{0}^{\\pi} \\frac{j_{m}\\left(r_{a}, \\theta_{m}\\right) \\sin\\left(\\theta_{m}\\right) {\\sum_{l=0}^{+\\infty} l S_{l}\\left(l, \\theta_{m}, \\theta_{a}\\right)}}{r_{a}}\\,{d \\theta_{m}} + \\int_{r_{a}}^{+\\infty} \\int_{0}^{\\pi} \\frac{j_{m}\\left(r_{m}, \\theta_{m}\\right) \\sin\\left(\\theta_{m}\\right) {\\sum_{l=0}^{+\\infty} \\frac{l^{2} r_{a}^{l - 1} S_{l}\\left(l, \\theta_{m}, \\theta_{a}\\right)}{r_{m}^{l}}}}{r_{a}} - \\frac{j_{m}\\left(r_{m}, \\theta_{m}\\right) \\sin\\left(\\theta_{m}\\right) {\\sum_{l=0}^{+\\infty} \\frac{l r_{a}^{l} S_{l}\\left(l, \\theta_{m}, \\theta_{a}\\right)}{r_{m}^{l}}}}{r_{a}^{2}}\\,{d \\theta_{m}}\\,{d r_{m}} - \\int_{0}^{r_{a}} \\int_{0}^{\\pi} \\frac{r_{m} j_{m}\\left(r_{m}, \\theta_{m}\\right) \\sin\\left(\\theta_{m}\\right) {\\sum_{l=0}^{+\\infty} -\\frac{{\\left(l + 1\\right)} l r_{a}^{l - 1} r_{m}^{l} S_{l}\\left(l, \\theta_{m}, \\theta_{a}\\right)}{r_{a}^{2 \\, l}}}}{r_{a}^{2}} - \\frac{2 \\, r_{m} j_{m}\\left(r_{m}, \\theta_{m}\\right) \\sin\\left(\\theta_{m}\\right) {\\sum_{l=0}^{+\\infty} \\frac{{\\left(l + 1\\right)} r_{m}^{l} S_{l}\\left(l, \\theta_{m}, \\theta_{a}\\right)}{r_{a}^{l}}}}{r_{a}^{3}}\\,{d \\theta_{m}}\\,{d r_{m}}$"
      ],
      "text/plain": [
       "<IPython.core.display.Math object>"
      ]
     },
     "metadata": {},
     "output_type": "display_data"
    }
   ],
   "source": [
    "eq1 = - A_q(r_a, theta_a).diff(r_a).diff(r_a) == \\\n",
    "    definite_integral(definite_integral( \\\n",
    "        (j_m(r_m=r_m, theta_m=theta_m) * \\\n",
    "        sin(theta_m)/r_a*sum(l*(r_a/r_m)^l*S_l(l=l, theta_m=theta_m, theta_a=theta_a), l, 0, +Infinity)).diff(r_a) \\\n",
    "            , theta_m, 0, pi, hold=True) \\\n",
    "                , r_m, r_a, +Infinity, hold=True) \\\n",
    "    - definite_integral(definite_integral( \\\n",
    "         (r_m*j_m(r_m=r_m, theta_m=theta_m) * sin(theta_m)/r_a^2*\\\n",
    "            sum((l+1)*(r_m/r_a)^(l)*S_l(l=l, theta_m=theta_m, theta_a=theta_a), l, 0, +Infinity)).diff(r_a) \\\n",
    "                , theta_m, 0, pi, hold=True) \\\n",
    "                    , r_m, 0, r_a, hold=True) \\\n",
    "    - definite_integral( \\\n",
    "         (r_m*j_m(r_m=r_m, theta_m=theta_m) * sin(theta_m)/r_a^2*\\\n",
    "            sum((l+1)*(r_m/r_a)^(l)*S_l(l=l, theta_m=theta_m, theta_a=theta_a), l, 0, +Infinity)).subs(r_m == r_a) \\\n",
    "                , theta_m, 0, pi, hold=True) \\\n",
    "    - definite_integral( \\\n",
    "        (j_m(r_m=r_m, theta_m=theta_m) * \\\n",
    "        sin(theta_m)/r_a*sum(l*(r_a/r_m)^l*S_l(l=l, theta_m=theta_m, theta_a=theta_a), l, 0, +Infinity)).subs(r_m == r_a) \\\n",
    "            , theta_m, 0, pi, hold=True)\n",
    "\n",
    "disp(eq1)"
   ]
  },
  {
   "cell_type": "markdown",
   "id": "e82f6314",
   "metadata": {},
   "source": [
    "\\begin{equation}\n",
    "\\begin{array}{c}\n",
    "-\\,2\\,\\frac{сtg \\, \\theta_a}{r_a^3} = \n",
    "-\\int\\limits_{r_m=0}^{r_a}\\,\\int\\limits_{\\theta_m=0}^{\\pi}\\,\\frac{j_m(r_m, \\theta_m)}{c}\\,\\frac{d}{dr_a}\\left(\\frac{\\sin \\theta_m\\, r_m}{r_a^2} \\sum\\limits_{l=0}^{\\infty }\\left(l+1\\right){{\\left( \\frac{{r_m}}{{r_a}} \\right)}^{l}}S_{l}(\\theta_m, \\theta_a) \\right)\\, d \\theta_m \\,d r_m  \\\\\n",
    "+\\int\\limits_{r_m=r_a}^{\\infty}\\,\\int\\limits_{\\theta_m=0}^{\\pi}\\,\\frac{j_m(r_m, \\theta_m)}{c} \\,\\frac{d}{dr_a}\\left(\\frac{\\sin \\theta_m}{r_a} \\sum\\limits_{l=0}^{\\infty }l{{\\left( \\frac{{r_a}}{{r_m}} \\right)}^{l}}S_{l}(\\theta_m, \\theta_a) \\right) \\, d \\theta_m \\,d r_m \\\\\n",
    "-\\int\\limits_{\\theta_m=0}^{\\pi}\\,\\frac{j_m(r_a, \\theta_m)}{c}\\,\\left(\\frac{\\sin \\theta_m}{r_a} \\sum\\limits_{l=0}^{\\infty }\\left(l+1\\right)\\,S_{l}(\\theta_m, \\theta_a) \\right) \\, d \\theta_m  \\\\\n",
    "-\\int\\limits_{\\theta_m=0}^{\\pi}\\,\\frac{j_m(r_a, \\theta_m)}{c} \\,\\left(\\frac{\\sin \\theta_m}{r_a} \\sum\\limits_{l=0}^{\\infty }l\\,S_{l}(\\theta_m, \\theta_a) \\right) \\, d \\theta_m\n",
    "\\end{array}\n",
    "\\end{equation}"
   ]
  },
  {
   "cell_type": "code",
   "execution_count": 83,
   "id": "96ad5c32",
   "metadata": {},
   "outputs": [
    {
     "data": {
      "text/latex": [
       "$\\displaystyle -\\frac{2 \\, \\cot\\left(\\theta_{a}\\right)}{r_{a}^{3}} = -\\int_{0}^{\\pi} \\frac{j_{m}\\left(r_{a}, \\theta_{m}\\right) \\sin\\left(\\theta_{m}\\right) {\\sum_{l=0}^{+\\infty} {\\left(l + 1\\right)} S_{l}\\left(l, \\theta_{m}, \\theta_{a}\\right)}}{r_{a}}\\,{d \\theta_{m}} - \\int_{0}^{\\pi} \\frac{j_{m}\\left(r_{a}, \\theta_{m}\\right) \\sin\\left(\\theta_{m}\\right) {\\sum_{l=0}^{+\\infty} l S_{l}\\left(l, \\theta_{m}, \\theta_{a}\\right)}}{r_{a}}\\,{d \\theta_{m}} - \\int_{0}^{r_{a}} \\int_{0}^{\\pi} -\\frac{r_{m} j_{m}\\left(r_{m}, \\theta_{m}\\right) \\sin\\left(\\theta_{m}\\right) {\\sum_{l=0}^{+\\infty} {\\left(l^{2} + l\\right)} r_{a}^{-l - 1} r_{m}^{l} S_{l}\\left(l, \\theta_{m}, \\theta_{a}\\right)}}{r_{a}^{2}} - \\frac{2 \\, r_{m} j_{m}\\left(r_{m}, \\theta_{m}\\right) \\sin\\left(\\theta_{m}\\right) {\\sum_{l=0}^{+\\infty} \\frac{{\\left(l + 1\\right)} r_{m}^{l} S_{l}\\left(l, \\theta_{m}, \\theta_{a}\\right)}{r_{a}^{l}}}}{r_{a}^{3}}\\,{d \\theta_{m}}\\,{d r_{m}} + \\int_{r_{a}}^{+\\infty} \\int_{0}^{\\pi} \\frac{j_{m}\\left(r_{m}, \\theta_{m}\\right) \\sin\\left(\\theta_{m}\\right) {\\sum_{l=0}^{+\\infty} \\frac{l^{2} r_{a}^{l - 1} S_{l}\\left(l, \\theta_{m}, \\theta_{a}\\right)}{r_{m}^{l}}}}{r_{a}} - \\frac{j_{m}\\left(r_{m}, \\theta_{m}\\right) \\sin\\left(\\theta_{m}\\right) {\\sum_{l=0}^{+\\infty} \\frac{l r_{a}^{l} S_{l}\\left(l, \\theta_{m}, \\theta_{a}\\right)}{r_{m}^{l}}}}{r_{a}^{2}}\\,{d \\theta_{m}}\\,{d r_{m}}$"
      ],
      "text/plain": [
       "<IPython.core.display.Math object>"
      ]
     },
     "metadata": {},
     "output_type": "display_data"
    }
   ],
   "source": [
    "eq1 = -2*cot(theta_a)/r_a^3 == \\\n",
    "    - integrate( \\\n",
    "        j_m(r_m=r_a, theta_m=theta_m)*sin(theta_m) * \\\n",
    "            sum((l + 1)*S_l(l=l, theta_m=theta_m, theta_a=theta_a), l, 0, +Infinity)/r_a \\\n",
    "               , theta_m, 0, pi, hold=True) \\\n",
    "    - integrate( \\\n",
    "        j_m(r_m=r_a, theta_m=theta_m)*sin(theta_m) * \\\n",
    "            sum(l*S_l(l=l, theta_m=theta_m, theta_a=theta_a), l, 0, +Infinity)/r_a \\\n",
    "                , theta_m, 0, pi, hold=True) \\\n",
    "    + integrate(integrate( \\\n",
    "        j_m(r_m=r_m, theta_m=theta_m)*sin(theta_m) * \\\n",
    "            sum(l^2*r_a^(l - 1)*S_l(l=l, theta_m=theta_m, theta_a=theta_a)/r_m^l, l, 0, +Infinity)/r_a \\\n",
    "        - j_m(r_m=r_m, theta_m=theta_m)*sin(theta_m) * \\\n",
    "            sum(l*r_a^l*S_l(l=l, theta_m=theta_m, theta_a=theta_a)/r_m^l, l, 0, +Infinity)/r_a^2 \\\n",
    "                , theta_m, 0, pi, hold=True) \\\n",
    "                    , r_m, r_a, +Infinity, hold=True) \\\n",
    "    - integrate(integrate( \\\n",
    "        r_m*j_m(r_m=r_m, theta_m=theta_m)*sin(theta_m) * \\\n",
    "            sum(-(l + 1)*l*r_a^(l - 1)*r_m^l*S_l(l=l, theta_m=theta_m, theta_a=theta_a)/r_a^(2*l), l, 0, +Infinity)/r_a^2 \\\n",
    "        - 2*r_m*j_m(r_m=r_m, theta_m=theta_m)*sin(theta_m) * \\\n",
    "            sum((l + 1)*r_m^l*S_l(l=l, theta_m=theta_m, theta_a=theta_a)/r_a^l, l, 0, +Infinity)/r_a^3 \\\n",
    "                , theta_m, 0, pi, hold=True) \\\n",
    "                    , r_m, 0, r_a, hold=True)\n",
    "disp(eq1)"
   ]
  },
  {
   "cell_type": "code",
   "execution_count": 84,
   "id": "88ddb5e9",
   "metadata": {},
   "outputs": [
    {
     "data": {
      "text/latex": [
       "$\\displaystyle -\\frac{2 \\, \\cot\\left(\\theta_{a}\\right)}{r_{a}^{3}} = -\\int_{0}^{\\pi} \\frac{j_{m}\\left(r_{a}, \\theta_{m}\\right) \\sin\\left(\\theta_{m}\\right) {\\sum_{l=0}^{+\\infty} {\\left(2 \\, l + 1\\right)} S_{l}\\left(l, \\theta_{m}, \\theta_{a}\\right)}}{r_{a}}\\,{d \\theta_{m}} + \\int_{r_{a}}^{+\\infty} \\int_{0}^{\\pi} \\frac{j_{m}\\left(r_{m}, \\theta_{m}\\right) \\sin\\left(\\theta_{m}\\right) {\\sum_{l=0}^{+\\infty} \\frac{l^{2} r_{a}^{l} S_{l}\\left(l, \\theta_{m}, \\theta_{a}\\right)}{r_{m}^{l}}}}{r_{a}^{2}} - \\frac{j_{m}\\left(r_{m}, \\theta_{m}\\right) \\sin\\left(\\theta_{m}\\right) {\\sum_{l=0}^{+\\infty} \\frac{l r_{a}^{l} S_{l}\\left(l, \\theta_{m}, \\theta_{a}\\right)}{r_{m}^{l}}}}{r_{a}^{2}}\\,{d \\theta_{m}}\\,{d r_{m}} + \\int_{0}^{r_{a}} \\int_{0}^{\\pi} \\frac{r_{m} j_{m}\\left(r_{m}, \\theta_{m}\\right) \\sin\\left(\\theta_{m}\\right) {\\sum_{l=0}^{+\\infty} \\frac{{\\left(l^{2} + l\\right)} r_{m}^{l} S_{l}\\left(l, \\theta_{m}, \\theta_{a}\\right)}{r_{a}^{l}}}}{r_{a}^{3}} + \\frac{2 \\, r_{m} j_{m}\\left(r_{m}, \\theta_{m}\\right) \\sin\\left(\\theta_{m}\\right) {\\sum_{l=0}^{+\\infty} \\frac{{\\left(l + 1\\right)} r_{m}^{l} S_{l}\\left(l, \\theta_{m}, \\theta_{a}\\right)}{r_{a}^{l}}}}{r_{a}^{3}}\\,{d \\theta_{m}}\\,{d r_{m}}$"
      ],
      "text/plain": [
       "<IPython.core.display.Math object>"
      ]
     },
     "metadata": {},
     "output_type": "display_data"
    }
   ],
   "source": [
    "eq1 = -2*cot(theta_a)/r_a^3 == \\\n",
    "    - integrate( \\\n",
    "        j_m(r_m=r_a, theta_m=theta_m)*sin(theta_m) * \\\n",
    "            sum((2*l + 1)*S_l(l=l, theta_m=theta_m, theta_a=theta_a), l, 0, +Infinity)/r_a \\\n",
    "               , theta_m, 0, pi, hold=True) \\\n",
    "    + integrate(integrate( \\\n",
    "        j_m(r_m=r_m, theta_m=theta_m)*sin(theta_m) * \\\n",
    "            sum(l^2*r_a^(l)/r_m^l*S_l(l=l, theta_m=theta_m, theta_a=theta_a), l, 0, +Infinity)/r_a^2 \\\n",
    "        - j_m(r_m=r_m, theta_m=theta_m)*sin(theta_m) * \\\n",
    "            sum(l*r_a^l/r_m^l*S_l(l=l, theta_m=theta_m, theta_a=theta_a), l, 0, +Infinity)/r_a^2 \\\n",
    "                , theta_m, 0, pi, hold=True) \\\n",
    "                    , r_m, r_a, +Infinity, hold=True) \\\n",
    "    + integrate(integrate( \\\n",
    "        r_m*j_m(r_m=r_m, theta_m=theta_m)*sin(theta_m) * \\\n",
    "            sum((l + 1)*l*r_m^l/r_a^(l)*S_l(l=l, theta_m=theta_m, theta_a=theta_a), l, 0, +Infinity)/r_a^3 \\\n",
    "        + r_m*j_m(r_m=r_m, theta_m=theta_m)*sin(theta_m) * \\\n",
    "            sum(2*(l + 1)*r_m^l*S_l(l=l, theta_m=theta_m, theta_a=theta_a)/r_a^l, l, 0, +Infinity)/r_a^3 \\\n",
    "                , theta_m, 0, pi, hold=True) \\\n",
    "                    , r_m, 0, r_a, hold=True)\n",
    "disp(eq1)"
   ]
  },
  {
   "cell_type": "code",
   "execution_count": 85,
   "id": "12654416",
   "metadata": {},
   "outputs": [
    {
     "data": {
      "text/latex": [
       "$\\displaystyle -\\frac{2 \\, \\cot\\left(\\theta_{a}\\right)}{r_{a}^{3}} = -\\int_{0}^{\\pi} \\frac{j_{m}\\left(r_{a}, \\theta_{m}\\right) \\sin\\left(\\theta_{m}\\right) {\\sum_{l=0}^{+\\infty} {\\left(2 \\, l + 1\\right)} S_{l}\\left(l, \\theta_{m}, \\theta_{a}\\right)}}{r_{a}}\\,{d \\theta_{m}} + \\int_{r_{a}}^{+\\infty} \\int_{0}^{\\pi} \\frac{j_{m}\\left(r_{m}, \\theta_{m}\\right) \\sin\\left(\\theta_{m}\\right) {\\sum_{l=0}^{+\\infty} \\frac{{\\left(l^{2} - l\\right)} r_{a}^{l} S_{l}\\left(l, \\theta_{m}, \\theta_{a}\\right)}{r_{m}^{l}}}}{r_{a}^{2}}\\,{d \\theta_{m}}\\,{d r_{m}} + \\int_{0}^{r_{a}} \\int_{0}^{\\pi} \\frac{r_{m} j_{m}\\left(r_{m}, \\theta_{m}\\right) \\sin\\left(\\theta_{m}\\right) {\\sum_{l=0}^{+\\infty} \\frac{{\\left(l^{2} + 3 \\, l + 2\\right)} r_{m}^{l} S_{l}\\left(l, \\theta_{m}, \\theta_{a}\\right)}{r_{a}^{l}}}}{r_{a}^{3}}\\,{d \\theta_{m}}\\,{d r_{m}}$"
      ],
      "text/plain": [
       "<IPython.core.display.Math object>"
      ]
     },
     "metadata": {},
     "output_type": "display_data"
    }
   ],
   "source": [
    "eq1 = -2*cot(theta_a)/r_a^3 == \\\n",
    "    - integrate( \\\n",
    "        j_m(r_m=r_a, theta_m=theta_m)*sin(theta_m) * \\\n",
    "            sum((2*l + 1)*S_l(l=l, theta_m=theta_m, theta_a=theta_a), l, 0, +Infinity)/r_a \\\n",
    "               , theta_m, 0, pi, hold=True) \\\n",
    "    + integrate(integrate( \\\n",
    "        j_m(r_m=r_m, theta_m=theta_m)*sin(theta_m) * \\\n",
    "            sum((l^2 - l)*(r_a/r_m)^l*S_l(l=l, theta_m=theta_m, theta_a=theta_a), l, 0, +Infinity)/r_a^2 \\\n",
    "                , theta_m, 0, pi, hold=True) \\\n",
    "                    , r_m, r_a, +Infinity, hold=True) \\\n",
    "    + integrate(integrate( \\\n",
    "        r_m*j_m(r_m=r_m, theta_m=theta_m)*sin(theta_m) * \\\n",
    "            sum(((l + 1)*l + 2*(l + 1))*(r_m/r_a)^l*S_l(l=l, theta_m=theta_m, theta_a=theta_a), l, 0, +Infinity)/r_a^3 \\\n",
    "                , theta_m, 0, pi, hold=True) \\\n",
    "                    , r_m, 0, r_a, hold=True)\n",
    "disp(eq1)"
   ]
  },
  {
   "cell_type": "code",
   "execution_count": 86,
   "id": "dafd8ad7",
   "metadata": {},
   "outputs": [
    {
     "data": {
      "text/latex": [
       "$\\displaystyle -\\frac{2 \\, \\cot\\left(\\theta_{a}\\right)}{r_{a}^{3}} = -\\int_{0}^{\\pi} \\frac{j_{m}\\left(r_{a}, \\theta_{m}\\right) \\sin\\left(\\theta_{m}\\right) {\\sum_{l=0}^{+\\infty} {\\left(2 \\, l + 1\\right)} S_{l}\\left(l, \\theta_{m}, \\theta_{a}\\right)}}{r_{a}}\\,{d \\theta_{m}} + \\int_{r_{a}}^{+\\infty} \\int_{0}^{\\pi} \\frac{j_{m}\\left(r_{m}, \\theta_{m}\\right) \\sin\\left(\\theta_{m}\\right) {\\sum_{l=0}^{+\\infty} \\frac{{\\left(l^{2} - l\\right)} r_{a}^{l} S_{l}\\left(l, \\theta_{m}, \\theta_{a}\\right)}{r_{m}^{l}}}}{r_{a}^{2}}\\,{d \\theta_{m}}\\,{d r_{m}} + \\int_{0}^{r_{a}} \\int_{0}^{\\pi} \\frac{r_{m} j_{m}\\left(r_{m}, \\theta_{m}\\right) \\sin\\left(\\theta_{m}\\right) {\\sum_{l=0}^{+\\infty} \\frac{{\\left(l^{2} + 3 \\, l + 2\\right)} r_{m}^{l} S_{l}\\left(l, \\theta_{m}, \\theta_{a}\\right)}{r_{a}^{l}}}}{r_{a}^{3}}\\,{d \\theta_{m}}\\,{d r_{m}}$"
      ],
      "text/plain": [
       "<IPython.core.display.Math object>"
      ]
     },
     "metadata": {},
     "output_type": "display_data"
    }
   ],
   "source": [
    "eq1 = -2*cot(theta_a)/r_a^3 == \\\n",
    "    - integrate( \\\n",
    "        j_m(r_m=r_a, theta_m=theta_m)*sin(theta_m) * \\\n",
    "            sum((2*l + 1)*S_l(l=l, theta_m=theta_m, theta_a=theta_a), l, 0, +Infinity)/r_a \\\n",
    "               , theta_m, 0, pi, hold=True) \\\n",
    "    + integrate(integrate( \\\n",
    "        j_m(r_m=r_m, theta_m=theta_m)*sin(theta_m) * \\\n",
    "            sum((l^2 - l)*(r_a/r_m)^l*S_l(l=l, theta_m=theta_m, theta_a=theta_a), l, 0, +Infinity)/r_a^2 \\\n",
    "                , theta_m, 0, pi, hold=True) \\\n",
    "                    , r_m, r_a, +Infinity, hold=True) \\\n",
    "    + integrate(integrate( \\\n",
    "        r_m*j_m(r_m=r_m, theta_m=theta_m)*sin(theta_m) * \\\n",
    "            sum(((l^2 + 3*l + 2))*(r_m/r_a)^l*S_l(l=l, theta_m=theta_m, theta_a=theta_a), l, 0, +Infinity)/r_a^3 \\\n",
    "                , theta_m, 0, pi, hold=True) \\\n",
    "                    , r_m, 0, r_a, hold=True)\n",
    "disp(eq1)"
   ]
  },
  {
   "cell_type": "markdown",
   "id": "3ce1a948",
   "metadata": {},
   "source": [
    "\\begin{equation}\n",
    "\\begin{array}{c}\n",
    "-\\,2\\,\\frac{сtg \\, \\theta_a}{r_a^3} = \n",
    "-\\int\\limits_{r_m=0}^{r_a}\\,\\int\\limits_{\\theta_m=0}^{\\pi}\\,\\frac{j_m(r_m, \\theta_m)}{c}\\,\\frac{d}{dr_a}\\left(\\frac{\\sin \\theta_m\\, r_m}{r_a^2} \\sum\\limits_{l=0}^{\\infty }\\left(l+1\\right){{\\left( \\frac{{r_m}}{{r_a}} \\right)}^{l}}S_{l}(\\theta_m, \\theta_a) \\right)\\, d \\theta_m \\,d r_m  \\\\\n",
    "+\\int\\limits_{r_m=r_a}^{\\infty}\\,\\int\\limits_{\\theta_m=0}^{\\pi}\\,\\frac{j_m(r_m, \\theta_m)}{c} \\,\\frac{d}{dr_a}\\left(\\frac{\\sin \\theta_m}{r_a} \\sum\\limits_{l=0}^{\\infty }l{{\\left( \\frac{{r_a}}{{r_m}} \\right)}^{l}}S_{l}(\\theta_m, \\theta_a) \\right) \\, d \\theta_m \\,d r_m \\\\\n",
    "-\\int\\limits_{\\theta_m=0}^{\\pi}\\,\\frac{j_m(r_a, \\theta_m)}{c}\\,\\left(\\frac{\\sin \\theta_m}{r_a} \\sum\\limits_{l=0}^{\\infty }\\left(2\\,l+1\\right)\\,S_{l}(\\theta_m, \\theta_a) \\right) \\, d \\theta_m\n",
    "\\end{array}\n",
    "\\end{equation}"
   ]
  },
  {
   "cell_type": "code",
   "execution_count": 87,
   "id": "e2657426",
   "metadata": {},
   "outputs": [
    {
     "data": {
      "text/latex": [
       "$\\displaystyle -\\frac{2 \\, \\cot\\left(\\theta_{a}\\right)}{r_{a}^{3}} = -\\int_{0}^{\\pi} \\frac{j_{m}\\left(r_{a}, \\theta_{m}\\right) \\sin\\left(\\theta_{m}\\right) {\\sum_{l=0}^{+\\infty} {\\left(2 \\, l + 1\\right)} S_{l}\\left(l, \\theta_{m}, \\theta_{a}\\right)}}{r_{a}}\\,{d \\theta_{m}} + \\int_{r_{a}}^{+\\infty} \\int_{0}^{\\pi} \\frac{j_{m}\\left(r_{m}, \\theta_{m}\\right) \\sin\\left(\\theta_{m}\\right) {\\sum_{l=0}^{+\\infty} \\frac{{\\left(l^{2} - l\\right)} r_{a}^{l} S_{l}\\left(l, \\theta_{m}, \\theta_{a}\\right)}{r_{m}^{l}}}}{r_{a}^{2}}\\,{d \\theta_{m}}\\,{d r_{m}} + \\int_{0}^{r_{a}} \\int_{0}^{\\pi} \\frac{r_{m} j_{m}\\left(r_{m}, \\theta_{m}\\right) \\sin\\left(\\theta_{m}\\right) {\\sum_{l=0}^{+\\infty} \\frac{{\\left(l^{2} + 3 \\, l + 2\\right)} r_{m}^{l} S_{l}\\left(l, \\theta_{m}, \\theta_{a}\\right)}{r_{a}^{l}}}}{r_{a}^{3}}\\,{d \\theta_{m}}\\,{d r_{m}}$"
      ],
      "text/plain": [
       "<IPython.core.display.Math object>"
      ]
     },
     "metadata": {},
     "output_type": "display_data"
    }
   ],
   "source": [
    "eq1 = - A_q(r_a, theta_a).diff(r_a).diff(r_a) == \\\n",
    "    -integrate( \\\n",
    "        j_m(r_m=r_a, theta_m=theta_m)*sin(theta_m) * \\\n",
    "            sum((2*l + 1)*S_l(l=l, theta_m=theta_m, theta_a=theta_a), l, 0, +Infinity)/r_a \\\n",
    "                , theta_m, 0, pi, hold=True) \\\n",
    "    + integrate(integrate( \\\n",
    "        j_m(r_m=r_m, theta_m=theta_m)*sin(theta_m) * \\\n",
    "            sum((l^2 - l)*r_a^l*S_l(l=l, theta_m=theta_m, theta_a=theta_a)/r_m^l, l, 0, +Infinity)/r_a^2 \\\n",
    "                , theta_m, 0, pi, hold=True) \\\n",
    "                    , r_m, r_a, +Infinity, hold=True) \\\n",
    "    + integrate(integrate( \\\n",
    "        r_m*j_m(r_m=r_m, theta_m=theta_m)*sin(theta_m) * \\\n",
    "            sum((l^2 + 3*l + 2)*r_m^l*S_l(l=l, theta_m=theta_m, theta_a=theta_a)/r_a^l, l, 0, +Infinity)/r_a^3 \\\n",
    "                , theta_m, 0, pi, hold=True) \\\n",
    "                    , r_m, 0, r_a, hold=True)\n",
    "disp(eq1)"
   ]
  },
  {
   "cell_type": "markdown",
   "id": "08666380",
   "metadata": {},
   "source": [
    "\\begin{equation}\n",
    "\\begin{array}{c}\n",
    "-\\frac{2 \\, \\cot\\left(\\theta_{a}\\right)}{r_{a}^{3}} = \n",
    "-\\int\\limits_{0}^{\\pi} \\frac{j_{m}\\left(r_{a}, \\theta_{m}\\right) \\sin\\left(\\theta_{m}\\right) {\\sum_{l=0}^{+\\infty} {\\left(2 \\, l + 1\\right)} S_{l}\\left(l, \\theta_{m}, \\theta_{a}\\right)}}{r_{a}}\\,{d \\theta_{m}} \\\\\n",
    "+ \\int\\limits_{0}^{r_{a}} \\int\\limits_{0}^{\\pi} \\frac{r_{m} j_{m}\\left(r_{m}, \\theta_{m}\\right) \\sin\\left(\\theta_{m}\\right) {\\sum_{l=0}^{+\\infty} \\frac{{\\left(l^{2} + 3 \\, l + 2\\right)} r_{m}^{l} S_{l}\\left(l, \\theta_{m}, \\theta_{a}\\right)}{r_{a}^{l}}}}{r_{a}^{3}}\\,{d \\theta_{m}}\\,{d r_{m}}\n",
    "+ \\int\\limits_{r_{a}}^{+\\infty} \\int\\limits_{0}^{\\pi} \\frac{j_{m}\\left(r_{m}, \\theta_{m}\\right) \\sin\\left(\\theta_{m}\\right) {\\sum_{l=0}^{+\\infty} \\frac{{\\left(l^{2} - l\\right)} r_{a}^{l} S_{l}\\left(l, \\theta_{m}, \\theta_{a}\\right)}{r_{m}^{l}}}}{r_{a}^{2}}\\,{d \\theta_{m}}\\,{d r_{m}} \n",
    "\\end{array}\n",
    "\\end{equation}"
   ]
  },
  {
   "cell_type": "markdown",
   "id": "bfdb3805",
   "metadata": {},
   "source": [
    "Таким образом, с помощью двукратного дифференцирования удалось вытащить неизвестную функцию из под двукратного интеграла в однократный. "
   ]
  },
  {
   "cell_type": "markdown",
   "id": "bddbf7c1",
   "metadata": {},
   "source": [
    "Интегральное уравнение можно упростить введя выражение ядер интегрирования\n",
    "\n",
    "$  K_1(\\theta_m, \\theta_a) = \\sin\\left(\\theta_{m}\\right) {\\sum\\limits_{l=0}^{+\\infty} {\\left(2 \\, l + 1\\right)} S_{l}\\left(l, \\theta_{m}, \\theta_{a}\\right)}$\n",
    "\n",
    "$  K_2(r_m, r_a, \\theta_m, \\theta_a) = \\sin\\left(\\theta_{m}\\right) {\\sum\\limits_{l=0}^{+\\infty}{\\left(l^{2} + 3 \\, l + 2\\right)} \\left(\\frac{r_m}{r_a}\\right)^l} S_{l}\\left(l, \\theta_{m}, \\theta_{a}\\right)$\n",
    "\n",
    "$  K_3(r_m, r_a, \\theta_m, \\theta_a) = \\sin\\left(\\theta_{m}\\right) {\\sum\\limits_{l=0}^{+\\infty} {\\left(l^{2} - l\\right)}\\left(\\frac{r_a}{r_m}\\right)^l}S_{l}\\left(l, \\theta_{m}, \\theta_{a}\\right)$\n"
   ]
  },
  {
   "cell_type": "markdown",
   "id": "45c859bf",
   "metadata": {},
   "source": [
    "Обозначим\n",
    "\n",
    "$Q_{l}\\left(\\theta_m, \\theta_a\\right) = sin\\left(\\theta_m\\right)\\,S_{l}\\left(\\theta_m, \\theta_a\\right) = sin\\left(\\theta_m\\right)\\,\\left(\\int\\limits_{{\\left(\\varphi_m - \\varphi_a\\right)}=0}^{2\\pi}\\,{cos\\,{{\\left(\\varphi_m - \\varphi_a\\right)} } }{P_l} \\cos \\left( \\gamma  \\right)\\, d {\\left(\\varphi_m - \\varphi_a\\right)}\\right)$"
   ]
  },
  {
   "cell_type": "code",
   "execution_count": 88,
   "id": "b78ea073",
   "metadata": {},
   "outputs": [],
   "source": [
    "def Q_l(l, theta_m, theta_a):\n",
    "    return sin(theta_m) * S_l(l=l, theta_m=theta_m, theta_a=theta_a)"
   ]
  },
  {
   "cell_type": "code",
   "execution_count": 89,
   "id": "0eb3caae",
   "metadata": {},
   "outputs": [],
   "source": [
    "def Kr2(l, r_m, r_a):\n",
    "    return (r_m/r_a)^l\n",
    "def Kr3(l, r_m, r_a):\n",
    "    return (r_a/r_m)^l"
   ]
  },
  {
   "cell_type": "code",
   "execution_count": 90,
   "id": "869b8961",
   "metadata": {},
   "outputs": [],
   "source": [
    "def Kl1(l):\n",
    "    return (2*l + 1)\n",
    "def Kl2(l):\n",
    "    return (l^2 + 3*l + 2)\n",
    "def Kl3(l):\n",
    "    return (l^2 - l)"
   ]
  },
  {
   "cell_type": "code",
   "execution_count": 91,
   "id": "cfb4a84f",
   "metadata": {},
   "outputs": [],
   "source": [
    "def K1(l, theta_m, theta_a):\n",
    "    return Kl1(l) * Q_l(l, theta_m, theta_a)\n",
    "def K2(l, r_m, r_a, theta_m, theta_a):\n",
    "    return Kl2(l) * Kr2(l, r_m, r_a) * Q_l(l, theta_m, theta_a)\n",
    "def K3(l, r_m, r_a, theta_m, theta_a):\n",
    "    return Kl3(l) * Kr3(l, r_m, r_a) * Q_l(l, theta_m, theta_a)"
   ]
  },
  {
   "cell_type": "code",
   "execution_count": 92,
   "id": "ccc618a8",
   "metadata": {},
   "outputs": [],
   "source": [
    "K_1 = function(\"K_1\")(theta_m, theta_a)\n",
    "K_2 = function(\"K_2\")(r_m, r_a, theta_m, theta_a)\n",
    "K_3 = function(\"K_3\")(r_m, r_a, theta_m, theta_a)"
   ]
  },
  {
   "cell_type": "markdown",
   "id": "43689013",
   "metadata": {},
   "source": [
    "Таким образом краткая запись интегрального уравнения имеет вид\n",
    "\n",
    "\\begin{equation}\n",
    "\\begin{array}{c}\n",
    "-\\frac{2 \\, \\cot\\left(\\theta_{a}\\right)}{r_{a}^{3}} = \n",
    "-\\frac{1}{r_a}\\int\\limits_{0}^{\\pi} j_{m}\\left(r_{a}, \\theta_{m}\\right)\n",
    "K_1(\\theta_m, \\theta_a)\n",
    "\\,{d \\theta_{m}} \\\\\n",
    "+ \\frac{1}{r_a^3}\\int\\limits_{0}^{r_{a}} r_{m} \\int\\limits_{0}^{\\pi}\n",
    "j_{m}\\left(r_{m}, \\theta_{m}\\right)\n",
    "K_2(r_m, r_a, \\theta_m, \\theta_a)\n",
    "\\,{d \\theta_{m}}\\,{d r_{m}} \\\\\n",
    "+ \\frac{1}{r_a^2}\\int\\limits_{r_{a}}^{+\\infty} \\int\\limits_{0}^{\\pi}\n",
    "j_{m}\\left(r_{m}, \\theta_{m}\\right)\n",
    "K_3(r_m, r_a, \\theta_m, \\theta_a)\n",
    "\\,{d \\theta_{m}}\\,{d r_{m}} \n",
    "\\end{array}\n",
    "\\end{equation}"
   ]
  },
  {
   "cell_type": "markdown",
   "id": "0dbdc8a4",
   "metadata": {},
   "source": [
    "Теперь, поскольку ввиду симметричных свойств первого ядра интегрирования тем же самым приёмом вытащить неизвестную функцию из под полученного однократного интеграла не удаётся, можно попытаться разделить переменные в неизвестной функции"
   ]
  },
  {
   "cell_type": "markdown",
   "id": "07c9de73",
   "metadata": {},
   "source": [
    "Неизвестные функции\n",
    "\n",
    "$j_m(r_m, \\theta_m) = j_r(r_m) \\, j_{\\theta}(\\theta_m) = q_r(r_m) \\, q_{\\theta}(\\theta_m)\\, \\omega_{r} (r_m)\\, \\omega_{\\theta} (\\theta_m) \\, r_m \\, \\sin \\theta_m$ - плотность магнитного тока"
   ]
  },
  {
   "cell_type": "code",
   "execution_count": 93,
   "id": "82347708",
   "metadata": {},
   "outputs": [],
   "source": [
    "j_r = function(\"j_r\")(r_m)\n",
    "j_t = function(\"j_theta\")(theta_m)"
   ]
  },
  {
   "cell_type": "code",
   "execution_count": 94,
   "id": "150e578e",
   "metadata": {},
   "outputs": [
    {
     "data": {
      "text/latex": [
       "$\\displaystyle -\\frac{2 \\, \\cot\\left(\\theta_{a}\\right)}{r_{a}^{2}} = -\\int_{0}^{\\pi} K_{1}\\left(\\theta_{m}, \\theta_{a}\\right) j_{\\theta}\\left(\\theta_{m}\\right)\\,{d \\theta_{m}} j_{r}\\left(r_{a}\\right) + \\frac{\\int_{r_{a}}^{+\\infty} \\int_{0}^{\\pi} K_{3}\\left(r_{m}, r_{a}, \\theta_{m}, \\theta_{a}\\right) j_{\\theta}\\left(\\theta_{m}\\right)\\,{d \\theta_{m}} j_{r}\\left(r_{m}\\right)\\,{d r_{m}}}{r_{a}} + \\frac{\\int_{0}^{r_{a}} r_{m} \\int_{0}^{\\pi} K_{2}\\left(r_{m}, r_{a}, \\theta_{m}, \\theta_{a}\\right) j_{\\theta}\\left(\\theta_{m}\\right)\\,{d \\theta_{m}} j_{r}\\left(r_{m}\\right)\\,{d r_{m}}}{r_{a}^{2}}$"
      ],
      "text/plain": [
       "<IPython.core.display.Math object>"
      ]
     },
     "metadata": {},
     "output_type": "display_data"
    }
   ],
   "source": [
    "eq1 = - r_a * A_q(r_a, theta_a).diff(r_a).diff(r_a) == \\\n",
    "    -j_r(r_m=r_a) * integrate( \\\n",
    "        j_t(theta_m=theta_m)*K_1(theta_m=theta_m, theta_a=theta_a) \\\n",
    "                , theta_m, 0, pi, hold=True) \\\n",
    "    + (1/r_a^2) * integrate(r_m*j_r(r_m=r_m)*integrate( \\\n",
    "        j_t(theta_m=theta_m) * K_2(r_m=r_m, r_a=r_a, theta_m=theta_m, theta_a=theta_a) \\\n",
    "                , theta_m, 0, pi, hold=True) \\\n",
    "                    , r_m, 0, r_a, hold=True) \\\n",
    "    + (1/r_a)*integrate(j_r(r_m=r_m)*integrate( \\\n",
    "        j_t(theta_m=theta_m) * K_3(r_m=r_m, r_a=r_a, theta_m=theta_m, theta_a=theta_a) \\\n",
    "                , theta_m, 0, pi, hold=True) \\\n",
    "                    , r_m, r_a, +Infinity, hold=True)\n",
    "\n",
    "disp(eq1)"
   ]
  },
  {
   "cell_type": "markdown",
   "id": "8359a45f",
   "metadata": {},
   "source": [
    "\\begin{equation}\n",
    "\\begin{array}{c}\n",
    "-\\frac{2 \\, \\cot\\left(\\theta_{a}\\right)}{r_{a}^{2}} = \n",
    "-j_r(r_a) \\, \\int\\limits_{0}^{\\pi} j_{\\theta}(\\theta_m)\n",
    "K_1(\\theta_m, \\theta_a)\n",
    "\\,{d \\theta_{m}} \\\\\n",
    "+ \\frac{1}{r_a^2}\\int\\limits_{0}^{r_{a}} r_m \\,j_r(r_m) \\, \\int\\limits_{0}^{\\pi}\n",
    "j_{\\theta}(\\theta_m)\n",
    "K_2(r_m, r_a, \\theta_m, \\theta_a)\n",
    "\\,{d \\theta_{m}}\\,{d r_{m}}\n",
    "+ \\frac{1}{r_a}\\int\\limits_{r_{a}}^{+\\infty} j_r(r_m) \\, \\int\\limits_{0}^{\\pi}\n",
    "j_{\\theta}(\\theta_m)\n",
    "K_3(r_m, r_a, \\theta_m, \\theta_a)\n",
    "\\,{d \\theta_{m}}\\,{d r_{m}} \n",
    "\\end{array}\n",
    "\\end{equation}"
   ]
  },
  {
   "cell_type": "markdown",
   "id": "2aea4955",
   "metadata": {},
   "source": [
    "$\\begin{array}{l}\n",
    "j_r(r_a) \\, \\int\\limits_{0}^{\\pi} j_{\\theta}(\\theta_m) K_1(\\theta_m, \\theta_a)\n",
    "\\,{d \\theta_{m}} = \\\\\n",
    "\\frac{2 \\, \\cot\\left(\\theta_{a}\\right)}{r_{a}^{2}}\n",
    "+ \\frac{1}{r_a^2}\\int\\limits_{0}^{r_{a}} r_m \\,j_r(r_m) \\, \\int\\limits_{0}^{\\pi}\n",
    "j_{\\theta}(\\theta_m)\n",
    "K_2(r_m, r_a, \\theta_m, \\theta_a)\n",
    "\\,{d \\theta_{m}}\\,{d r_{m}}\n",
    "+ \\frac{1}{r_a}\\int\\limits_{r_{a}}^{+\\infty} j_r(r_m) \\, \\int\\limits_{0}^{\\pi}\n",
    "j_{\\theta}(\\theta_m)\n",
    "K_3(r_m, r_a, \\theta_m, \\theta_a)\n",
    "\\,{d \\theta_{m}}\\,{d r_{m}} \n",
    "\\end{array}$"
   ]
  },
  {
   "cell_type": "markdown",
   "id": "8d2320b7",
   "metadata": {},
   "source": [
    "Введя обозначение\n",
    "\n",
    "$$L\\left(j_{\\theta}, \\theta_a\\right)=\\frac {1}{\\int\\limits_{0}^{\\pi} j_{\\theta}(\\theta_m) K_1(\\theta_m, \\theta_a)\\,{d \\theta_{m}}}$$"
   ]
  },
  {
   "cell_type": "markdown",
   "id": "7e44af3d",
   "metadata": {},
   "source": [
    "$$L\\left(j_{\\theta}, \\theta_a\\right)=\\frac {1}{\\int\\limits_{0}^{\\pi} j_{\\theta}(\\theta_m) \\sin\\left(\\theta_{m}\\right) {\\sum\\limits_{l=0}^{+\\infty} {\\left(2 \\, l + 1\\right)} S_{l}\\left(l, \\theta_{m}, \\theta_{a}\\right)}\\,{d \\theta_{m}}}$$"
   ]
  },
  {
   "cell_type": "markdown",
   "id": "e34c915e",
   "metadata": {},
   "source": [
    "$$L\\left(j_{\\theta}, \\theta_a\\right)=\\frac {1}{\\sum\\limits_{l=0}^{+\\infty} {\\left(2 \\, l + 1\\right)}\\int\\limits_{0}^{\\pi} j_{\\theta}(\\theta_m) \\sin\\left(\\theta_{m}\\right) { S_{l}\\left(l, \\theta_{m}, \\theta_{a}\\right)}\\,{d \\theta_{m}}}$$"
   ]
  },
  {
   "cell_type": "markdown",
   "id": "e07e69e4",
   "metadata": {},
   "source": [
    "Введя обозначение\n",
    "\n",
    "$$M_l\\left(j_{\\theta}, \\theta_a\\right)={\\int\\limits_{0}^{\\pi} j_{\\theta}(\\theta_m)\\,S_l(\\theta_m, \\theta_a)\\,sin\\left(\\theta_m\\right)\\,{d \\theta_{m}}}$$"
   ]
  },
  {
   "cell_type": "markdown",
   "id": "f1343f96",
   "metadata": {},
   "source": [
    "$$M_l\\left(j_{\\theta}, \\theta_a\\right)={\\int\\limits_{0}^{\\pi} j_{\\theta}(\\theta_m)\\,Q_l(\\theta_m, \\theta_a)\\,{d \\theta_{m}}}$$"
   ]
  },
  {
   "cell_type": "markdown",
   "id": "daa377c7",
   "metadata": {},
   "source": [
    "$$m_l\\left(j_{\\theta}, \\theta_a\\right)= j_{\\theta}(\\theta_m)\\,Q_l(\\theta_m, \\theta_a)$$"
   ]
  },
  {
   "cell_type": "markdown",
   "id": "8ba17762",
   "metadata": {},
   "source": [
    "$$L\\left(j_{\\theta}, \\theta_a\\right)=\\frac {1}{\\sum\\limits_{l=0}^{+\\infty} {\\left(2 \\, l + 1\\right)}M_l\\left(j_{\\theta}, \\theta_a\\right)}$$"
   ]
  },
  {
   "cell_type": "code",
   "execution_count": 95,
   "id": "60835261",
   "metadata": {},
   "outputs": [],
   "source": [
    "L = var(\"L\")"
   ]
  },
  {
   "cell_type": "code",
   "execution_count": 98,
   "id": "bacc4752",
   "metadata": {},
   "outputs": [],
   "source": [
    "def Ll(L, j_theta, theta_a):\n",
    "    return 1/(sum(Kl1(l) * integrate(j_theta(theta_m=theta_m) * Q_l(l, theta_m, theta_a), theta_m, 0, pi, hold=True)), l, 0, L)"
   ]
  },
  {
   "cell_type": "markdown",
   "id": "4beaaf24",
   "metadata": {},
   "source": [
    "Получаем интегральное уравнение, записанное в виде, пригодном для итерационной процедуры\n",
    "\n",
    "\\begin{equation}\n",
    "\\begin{array}{c}\n",
    "j_r(r_a) = \n",
    "\\frac{2 \\, \\cot\\left(\\theta_{a}\\right)}{r_{a}^{2}}\\,L\\left(j_{\\theta}, \\theta_a\\right)\n",
    "+ \\frac{L\\left(j_{\\theta}, \\theta_a\\right)}{r_a^2}\\int\\limits_{0}^{r_{a}} r_m \\,j_r(r_m) \\, \\int\\limits_{0}^{\\pi}\n",
    "j_{\\theta}(\\theta_m)\n",
    "K_2(r_m, r_a, \\theta_m, \\theta_a)\n",
    "\\,{d \\theta_{m}}\\,{d r_{m}}\n",
    "+ \\frac{L\\left(j_{\\theta}, \\theta_a\\right)}{r_a}\\int\\limits_{r_{a}}^{+\\infty} j_r(r_m) \\, \\int\\limits_{0}^{\\pi}\n",
    "j_{\\theta}(\\theta_m)\n",
    "K_3(r_m, r_a, \\theta_m, \\theta_a)\n",
    "\\,{d \\theta_{m}}\\,{d r_{m}} \n",
    "\\end{array}\n",
    "\\end{equation}"
   ]
  },
  {
   "cell_type": "markdown",
   "id": "abc8dbca",
   "metadata": {},
   "source": [
    "Получаем интегральное уравнение, записанное в виде, пригодном для итерационной процедуры\n",
    "\n",
    "\\begin{equation}\n",
    "\\begin{array}{c}\n",
    "j_r(r_a) = L\\left(j_{\\theta}, \\theta_a\\right) \\left(\n",
    "\\frac{2 \\, \\cot\\left(\\theta_{a}\\right)}{r_{a}^{2}}\\,\n",
    "+ \\frac{1}{r_a^2}\\int\\limits_{0}^{r_{a}} r_m \\,j_r(r_m) \\, \\int\\limits_{0}^{\\pi}\n",
    "j_{\\theta}(\\theta_m)\n",
    "K_2(r_m, r_a, \\theta_m, \\theta_a)\n",
    "\\,{d \\theta_{m}}\\,{d r_{m}}\n",
    "+ \\frac{1}{r_a}\\int\\limits_{r_{a}}^{+\\infty} j_r(r_m) \\, \\int\\limits_{0}^{\\pi}\n",
    "j_{\\theta}(\\theta_m)\n",
    "K_3(r_m, r_a, \\theta_m, \\theta_a)\n",
    "\\,{d \\theta_{m}}\\,{d r_{m}} \\right)\n",
    "\\end{array}\n",
    "\\end{equation}"
   ]
  },
  {
   "cell_type": "markdown",
   "id": "dcc0e5f3",
   "metadata": {},
   "source": [
    "Подставляем ядра интегрирования\n",
    "\n",
    "\\begin{equation}\n",
    "\\begin{array}{c}\n",
    "j_r(r_a) = L\\left(j_{\\theta}, \\theta_a\\right) \\left(\n",
    "\\frac{2 \\, \\cot\\left(\\theta_{a}\\right)}{r_{a}^{2}}\\, +\\\\\n",
    "+ \\frac{1}{r_a^2}\\int\\limits_{0}^{r_{a}} r_m \\,j_r(r_m) \\, \\int\\limits_{0}^{\\pi}\n",
    "j_{\\theta}(\\theta_m)\n",
    "\\sin\\left(\\theta_{m}\\right) {\\sum\\limits_{l=0}^{+\\infty}{\\left(l^{2} + 3 \\, l + 2\\right)} \\left(\\frac{r_m}{r_a}\\right)^l} S_{l}\\left(l, \\theta_{m}, \\theta_{a}\\right)\n",
    "\\,{d \\theta_{m}}\\,{d r_{m}} \\\\\n",
    "+ \\frac{1}{r_a}\\int\\limits_{r_{a}}^{+\\infty} j_r(r_m) \\, \\int\\limits_{0}^{\\pi}\n",
    "j_{\\theta}(\\theta_m)\n",
    "\\sin\\left(\\theta_{m}\\right) {\\sum\\limits_{l=0}^{+\\infty} {\\left(l^{2} - l\\right)}\\left(\\frac{r_a}{r_m}\\right)^l}S_{l}\\left(l, \\theta_{m}, \\theta_{a}\\right)\n",
    "\\,{d \\theta_{m}}\\,{d r_{m}} \\right)\n",
    "\\end{array}\n",
    "\\end{equation}"
   ]
  },
  {
   "cell_type": "markdown",
   "id": "91c080e1",
   "metadata": {},
   "source": [
    "Меняем порядок интегрирования и суммирования\n",
    "\n",
    "\\begin{equation}\n",
    "\\begin{array}{c}\n",
    "j_r(r_a) = L\\left(j_{\\theta}, \\theta_a\\right) \\left(\n",
    "\\frac{2 \\, \\cot\\left(\\theta_{a}\\right)}{r_{a}^{2}}\\, +\\\\\n",
    "+ \\frac{1}{r_a^2}\\sum\\limits_{l=0}^{+\\infty}{\\left(l^{2} + 3 \\, l + 2\\right)} \\int\\limits_{0}^{r_{a}} r_m \\,j_r(r_m) \\, \\int\\limits_{0}^{\\pi}\n",
    "j_{\\theta}(\\theta_m)\n",
    "\\sin\\left(\\theta_{m}\\right) { \\left(\\frac{r_m}{r_a}\\right)^l} S_{l}\\left(l, \\theta_{m}, \\theta_{a}\\right)\n",
    "\\,{d \\theta_{m}}\\,{d r_{m}} \\\\\n",
    "+ \\frac{1}{r_a}\\sum\\limits_{l=0}^{+\\infty} {\\left(l^{2} - l\\right)}\\int\\limits_{r_{a}}^{+\\infty} j_r(r_m) \\, \\int\\limits_{0}^{\\pi}\n",
    "j_{\\theta}(\\theta_m)\n",
    "\\sin\\left(\\theta_{m}\\right) {\\left(\\frac{r_a}{r_m}\\right)^l}S_{l}\\left(l, \\theta_{m}, \\theta_{a}\\right)\n",
    "\\,{d \\theta_{m}}\\,{d r_{m}} \\right)\n",
    "\\end{array}\n",
    "\\end{equation}"
   ]
  },
  {
   "cell_type": "markdown",
   "id": "00b8f736",
   "metadata": {},
   "source": [
    "Выносим переменные связанные с радиусом из под интеграла по углам\n",
    "\n",
    "\\begin{equation}\n",
    "\\begin{array}{c}\n",
    "j_r(r_a) = L\\left(j_{\\theta}, \\theta_a\\right) \\left(\n",
    "\\frac{2 \\, \\cot\\left(\\theta_{a}\\right)}{r_{a}^{2}}\\, +\\\\\n",
    "+ \\frac{1}{r_a^2}\\sum\\limits_{l=0}^{+\\infty}{\\left(l^{2} + 3 \\, l + 2\\right)} \\int\\limits_{0}^{r_{a}} r_m \\,j_r(r_m) { \\left(\\frac{r_m}{r_a}\\right)^l}\\,\n",
    "\\int\\limits_{0}^{\\pi}\n",
    "j_{\\theta}(\\theta_m)\n",
    "\\sin\\left(\\theta_{m}\\right)  S_{l}\\left(l, \\theta_{m}, \\theta_{a}\\right)\n",
    "\\,{d \\theta_{m}}\\,{d r_{m}} \\\\\n",
    "+ \\frac{1}{r_a}\\sum\\limits_{l=0}^{+\\infty} {\\left(l^{2} - l\\right)}\\int\\limits_{r_{a}}^{+\\infty} j_r(r_m) {\\left(\\frac{r_a}{r_m}\\right)^l}\\,\n",
    "\\int\\limits_{0}^{\\pi}\n",
    "j_{\\theta}(\\theta_m)\n",
    "\\sin\\left(\\theta_{m}\\right)  S_{l}\\left(l, \\theta_{m}, \\theta_{a}\\right)\n",
    "\\,{d \\theta_{m}}\\,{d r_{m}} \\right)\n",
    "\\end{array}\n",
    "\\end{equation}"
   ]
  },
  {
   "cell_type": "markdown",
   "id": "dc5d7f68",
   "metadata": {},
   "source": [
    "Теперь, поскольку интеграл по углам не зависит от радиуса, выносим этот интеграл целиком из под интеграла по радиусу в виде самостоятельного множителя\n",
    "\n",
    "\\begin{equation}\n",
    "\\begin{array}{c}\n",
    "j_r(r_a) = L\\left(j_{\\theta}, \\theta_a\\right) \\left(\n",
    "\\frac{2 \\, \\cot\\left(\\theta_{a}\\right)}{r_{a}^{2}}\\, +\\\\\n",
    "+ \\frac{1}{r_a^2}\\sum\\limits_{l=0}^{+\\infty}{\\left(l^{2} + 3 \\, l + 2\\right)} \\cdot\n",
    "\\int\\limits_{0}^{r_{a}} r_m \\,j_r(r_m) { \\left(\\frac{r_m}{r_a}\\right)^l}\\,\n",
    "\\,{d r_{m}} \\cdot\n",
    "\\int\\limits_{0}^{\\pi}\n",
    "j_{\\theta}(\\theta_m)\n",
    "\\sin\\left(\\theta_{m}\\right)  S_{l}\\left(l, \\theta_{m}, \\theta_{a}\\right)\n",
    "\\,{d \\theta_{m}}\\\\\n",
    "+ \\frac{1}{r_a}\\sum\\limits_{l=0}^{+\\infty} {\\left(l^{2} - l\\right)} \\cdot\n",
    "\\int\\limits_{r_{a}}^{+\\infty} j_r(r_m) {\\left(\\frac{r_a}{r_m}\\right)^l}\\,\n",
    "\\,{d r_{m}} \\cdot\n",
    "\\int\\limits_{0}^{\\pi}\n",
    "j_{\\theta}(\\theta_m)\n",
    "\\sin\\left(\\theta_{m}\\right)  S_{l}\\left(l, \\theta_{m}, \\theta_{a}\\right)\n",
    "\\,{d \\theta_{m}}\n",
    "\\right)\n",
    "\\end{array}\n",
    "\\end{equation}"
   ]
  },
  {
   "cell_type": "markdown",
   "id": "e993387a",
   "metadata": {},
   "source": [
    "Выносим радиус координаты наблюдения за скобки\n",
    "\n",
    "\\begin{equation}\n",
    "\\begin{array}{c}\n",
    "j_r(r_a) = \\frac{L\\left(j_{\\theta}, \\theta_a\\right)}{r_{a}} \\left(\n",
    "\\frac{2 \\, \\cot\\left(\\theta_{a}\\right)}{r_{a}}\\, +\\\\\n",
    "+ \\frac{1}{r_a}\\sum\\limits_{l=0}^{+\\infty}{\\left(l^{2} + 3 \\, l + 2\\right)} \\cdot\n",
    "\\int\\limits_{0}^{r_{a}} r_m \\,j_r(r_m) { \\left(\\frac{r_m}{r_a}\\right)^l}\\,\n",
    "\\,{d r_{m}} \\cdot\n",
    "\\int\\limits_{0}^{\\pi}\n",
    "j_{\\theta}(\\theta_m)\n",
    "\\sin\\left(\\theta_{m}\\right)  S_{l}\\left(l, \\theta_{m}, \\theta_{a}\\right)\n",
    "\\,{d \\theta_{m}}\\\\\n",
    "+ \\sum\\limits_{l=0}^{+\\infty} {\\left(l^{2} - l\\right)} \\cdot\n",
    "\\int\\limits_{r_{a}}^{+\\infty} j_r(r_m) {\\left(\\frac{r_a}{r_m}\\right)^l}\\,\n",
    "\\,{d r_{m}} \\cdot\n",
    "\\int\\limits_{0}^{\\pi}\n",
    "j_{\\theta}(\\theta_m)\n",
    "\\sin\\left(\\theta_{m}\\right)  S_{l}\\left(l, \\theta_{m}, \\theta_{a}\\right)\n",
    "\\,{d \\theta_{m}}\n",
    "\\right)\n",
    "\\end{array}\n",
    "\\end{equation}"
   ]
  },
  {
   "cell_type": "markdown",
   "id": "094b9c24",
   "metadata": {},
   "source": [
    "Вносим радиус координаты наблюдения во второй интеграл\n",
    "\n",
    "\\begin{equation}\n",
    "\\begin{array}{c}\n",
    "j_r(r_a) = \\frac{L\\left(j_{\\theta}, \\theta_a\\right)}{r_{a}} \\left(\n",
    "\\frac{2 \\, \\cot\\left(\\theta_{a}\\right)}{r_{a}}\\, +\\\\\n",
    "+ \\sum\\limits_{l=0}^{+\\infty}{\\left(l^{2} + 3 \\, l + 2\\right)} \\cdot\n",
    "\\int\\limits_{0}^{r_{a}} \\,j_r(r_m) { \\left(\\frac{r_m}{r_a}\\right)^{l+1}}\\,\n",
    "\\,{d r_{m}} \\cdot\n",
    "\\int\\limits_{0}^{\\pi}\n",
    "j_{\\theta}(\\theta_m)\n",
    "\\sin\\left(\\theta_{m}\\right)  S_{l}\\left(l, \\theta_{m}, \\theta_{a}\\right)\n",
    "\\,{d \\theta_{m}}\\\\\n",
    "+ \\sum\\limits_{l=0}^{+\\infty} {\\left(l^{2} - l\\right)} \\cdot\n",
    "\\int\\limits_{r_{a}}^{+\\infty} j_r(r_m) {\\left(\\frac{r_a}{r_m}\\right)^l}\\,\n",
    "\\,{d r_{m}} \\cdot\n",
    "\\int\\limits_{0}^{\\pi}\n",
    "j_{\\theta}(\\theta_m)\n",
    "\\sin\\left(\\theta_{m}\\right)  S_{l}\\left(l, \\theta_{m}, \\theta_{a}\\right)\n",
    "\\,{d \\theta_{m}}\n",
    "\\right)\n",
    "\\end{array}\n",
    "\\end{equation}"
   ]
  },
  {
   "cell_type": "markdown",
   "id": "36182664",
   "metadata": {},
   "source": [
    "Выносим интеграл по углу за скобки\n",
    "\n",
    "\\begin{equation}\n",
    "\\begin{array}{l}\n",
    "j_r(r_a) = \\frac{L\\left(j_{\\theta}, \\theta_a\\right)}{r_{a}} \\left(\n",
    "\\frac{2 \\, \\cot\\left(\\theta_{a}\\right)}{r_{a}}\\, + \\\\\n",
    "+ \\sum\\limits_{l=0}^{+\\infty}\n",
    "\\left[\n",
    "\\left\\{\n",
    "{\\left(l^{2} + 3 \\, l + 2\\right)} \\cdot\n",
    "\\int\\limits_{0}^{r_{a}} \\,j_r(r_m) { \\left(\\frac{r_m}{r_a}\\right)^{l+1}}\\,\n",
    "\\,{d r_{m}}\n",
    "+ {\\left(l^{2} - l\\right)} \\cdot\n",
    "\\int\\limits_{r_{a}}^{+\\infty} j_r(r_m) {\\left(\\frac{r_a}{r_m}\\right)^l}\\,\n",
    "\\,{d r_{m}}\n",
    "\\right\\}\n",
    "\\cdot\n",
    "\\int\\limits_{0}^{\\pi}\n",
    "j_{\\theta}(\\theta_m)\n",
    "\\sin\\left(\\theta_{m}\\right)  S_{l}\\left(l, \\theta_{m}, \\theta_{a}\\right)\n",
    "\\,{d \\theta_{m}}\n",
    "\\right]\n",
    "\\right)\n",
    "\\end{array}\n",
    "\\end{equation}"
   ]
  },
  {
   "cell_type": "markdown",
   "id": "6eabed36",
   "metadata": {},
   "source": [
    "\n",
    "Замечая, что мы уже ввели обозначение \n",
    "\n",
    "$$M_l\\left(j_{\\theta}, \\theta_a\\right)={\\int\\limits_{0}^{\\pi} j_{\\theta}(\\theta_m)\\,S_l(\\theta_m, \\theta_a)\\,sin\\left(\\theta_m\\right)\\,{d \\theta_{m}}}$$\n",
    "\n",
    "для интеграла по углу который был вынесен за скобки\n",
    "\n",
    "\\begin{equation}\n",
    "\\begin{array}{l}\n",
    "j_r(r_a) = \\frac{L\\left(j_{\\theta}, \\theta_a\\right)}{r_{a}} \\left(\n",
    "\\frac{2 \\, \\cot\\left(\\theta_{a}\\right)}{r_{a}}\\, + \\\\\n",
    "+ \\sum\\limits_{l=0}^{+\\infty}\n",
    "\\left[\n",
    "\\left\\{\n",
    "{\\left(l^{2} + 3 \\, l + 2\\right)} \\cdot\n",
    "\\int\\limits_{0}^{r_{a}} \\,j_r(r_m) { \\left(\\frac{r_m}{r_a}\\right)^{l+1}}\\,\n",
    "\\,{d r_{m}}\n",
    "+ {\\left(l^{2} - l\\right)} \\cdot\n",
    "\\int\\limits_{r_{a}}^{+\\infty} j_r(r_m) {\\left(\\frac{r_a}{r_m}\\right)^l}\\,\n",
    "\\,{d r_{m}}\n",
    "\\right\\}\n",
    "\\cdot\n",
    "M_l\\left(j_{\\theta}, \\theta_a\\right)\n",
    "\\right]\n",
    "\\right)\n",
    "\\end{array}\n",
    "\\end{equation}"
   ]
  },
  {
   "cell_type": "markdown",
   "id": "6562e8ff",
   "metadata": {},
   "source": [
    "\n",
    "Вводим дополнительные обозначение \n",
    "\n",
    "$$R_2\\left(l, r_a\\right)=\\int\\limits_{0}^{r_{a}} \\,j_r(r_m) { \\left(\\frac{r_m}{r_a}\\right)^{l+1}}\\,\n",
    "\\,{d r_{m}}$$\n",
    "\n",
    "$$R_3\\left(l, r_a\\right)=\\int\\limits_{r_{a}}^{+\\infty} j_r(r_m) {\\left(\\frac{r_a}{r_m}\\right)^l}\\,\n",
    "\\,{d r_{m}}$$\n",
    "\n",
    "и теперь\n",
    "\n",
    "\\begin{equation}\n",
    "\\begin{array}{l}\n",
    "j_r(r_a) = \\frac{L\\left(j_{\\theta}, \\theta_a\\right)}{r_{a}} \\left(\n",
    "\\frac{2 \\, \\cot\\left(\\theta_{a}\\right)}{r_{a}}\\,\n",
    "+ \\sum\\limits_{l=0}^{+\\infty}\n",
    "\\left[\n",
    "\\left\\{\n",
    "{\\left(l^{2} + 3 \\, l + 2\\right)} \\cdot\n",
    "R_2\\left(l, r_a\\right)\n",
    "+ {\\left(l^{2} - l\\right)} \\cdot\n",
    "R_3\\left(l, r_a\\right)\n",
    "\\right\\}\n",
    "\\cdot\n",
    "M_l\\left(j_{\\theta}, \\theta_a\\right)\n",
    "\\right]\n",
    "\\right)\n",
    "\\end{array}\n",
    "\\end{equation}"
   ]
  },
  {
   "cell_type": "markdown",
   "id": "cd4ad480",
   "metadata": {},
   "source": [
    "Раскрывая обозначение $L\\left(j_{\\theta}, \\theta_a\\right)$\n",
    "\n",
    "\\begin{equation}\n",
    "\\begin{array}{l}\n",
    "j_r(r_a) = \\frac{1}{r_{a}}\\frac {1}{\\sum\\limits_{l=0}^{+\\infty} {\\left(2 \\, l + 1\\right)}M_l\\left(j_{\\theta}, \\theta_a\\right)} \\left(\n",
    "\\frac{2 \\, \\cot\\left(\\theta_{a}\\right)}{r_{a}}\\,\n",
    "+ \\sum\\limits_{l=0}^{+\\infty}\n",
    "\\left[\n",
    "\\left\\{\n",
    "{\\left(l^{2} + 3 \\, l + 2\\right)} \\cdot\n",
    "R_2\\left(l, r_a\\right)\n",
    "+ {\\left(l^{2} - l\\right)} \\cdot\n",
    "R_3\\left(l, r_a\\right)\n",
    "\\right\\}\n",
    "\\cdot\n",
    "M_l\\left(j_{\\theta}, \\theta_a\\right)\n",
    "\\right]\n",
    "\\right)\n",
    "\\end{array}\n",
    "\\end{equation}"
   ]
  },
  {
   "cell_type": "markdown",
   "id": "e6759942",
   "metadata": {},
   "source": [
    "$K_1(l) = 2 \\, l + 1$\n",
    "\n",
    "$K_2(l) = l^{2} + 3 \\, l + 2$\n",
    "\n",
    "$K_3(l) = l^{2} - l$"
   ]
  },
  {
   "cell_type": "code",
   "execution_count": 99,
   "id": "3cf23ece",
   "metadata": {},
   "outputs": [],
   "source": [
    "def Kl1(l):\n",
    "    return (2*l + 1)\n",
    "def Kl2(l):\n",
    "    return (l^2 + 3*l + 2)\n",
    "def Kl3(l):\n",
    "    return (l^2 - l)"
   ]
  },
  {
   "cell_type": "code",
   "execution_count": null,
   "id": "a62d671a",
   "metadata": {},
   "outputs": [],
   "source": []
  },
  {
   "cell_type": "code",
   "execution_count": 100,
   "id": "c7c21713",
   "metadata": {},
   "outputs": [],
   "source": [
    "def ml(l, j_theta, theta_a):\n",
    "    # return j_theta(theta_m=theta_m) * Q_l(l, theta_m, theta_a)\n",
    "    return j_theta(theta_m=theta_m) * sin(theta_m) * legendre_sum_A_ring_sympy(l, theta_m, theta_a)\n",
    "\n",
    "def Ml(l, j_theta, theta_a):\n",
    "    return integrate(ml(l=l, j_theta=j_theta, theta_a=theta_a), theta_m, 0, pi, hold=False)"
   ]
  },
  {
   "cell_type": "code",
   "execution_count": 268,
   "id": "60e4e9f1",
   "metadata": {},
   "outputs": [],
   "source": [
    "# инициализируем неизвестную функцию как\n",
    "\n",
    "#J_theta = lambda theta_m : cot(theta_m)\n",
    "#J_theta = lambda theta_m : cos(theta_m)/sin(theta_m)\n",
    "J_theta = lambda theta_m : cos(theta_m)\n",
    "# J_r = lambda r_m : 1 / r_m^(3/2)\n",
    "J_r = lambda r_m : 1 / r_m^(2)\n",
    "\n",
    "# J_r = lambda r_m : 1.1 / r_m^(3/2) + 0.15 / r_m^2\n",
    "\n",
    "# J_r = lambda r_m : exp(-r_m^(2))"
   ]
  },
  {
   "cell_type": "code",
   "execution_count": 269,
   "id": "3f780cbb",
   "metadata": {},
   "outputs": [
    {
     "data": {
      "image/png": "[encoded data removed]",
      "text/plain": [
       "Graphics object consisting of 1 graphics primitive"
      ]
     },
     "metadata": {},
     "output_type": "display_data"
    }
   ],
   "source": [
    "plot(cot(theta_a), theta_a, 0.05, pi-0.05).show(title=\"cot_theta_a\")"
   ]
  },
  {
   "cell_type": "code",
   "execution_count": 369,
   "id": "9c80b989",
   "metadata": {},
   "outputs": [],
   "source": [
    "LL = 48"
   ]
  },
  {
   "cell_type": "code",
   "execution_count": 370,
   "id": "2ba85d82",
   "metadata": {},
   "outputs": [],
   "source": [
    "# Интеграл R2\n",
    "# Интеграл R3\n",
    "\n",
    "sum_of_RM = 0\n",
    "sum_of_L_denominator = 0\n",
    "\n",
    "for ll in range(0,LL):\n",
    "    Mll = Ml(l=ll, j_theta=J_theta(theta_m), theta_a=theta_a)\n",
    "    if 0 == Mll:\n",
    "        continue\n",
    "    sum_of_L_denominator += Kl1(ll)*Mll\n",
    "    int_R2 = integrate(J_r (r_m) * (r_m / r_a)^(ll+1), r_m, 0, r_a)\n",
    "    int_R3 = integrate(J_r (r_m) * (r_a / r_m)^(ll), r_m, r_a, Infinity)\n",
    "    #print(Mll, \"|*|\", int_R2, \"|||\", int_R3)\n",
    "    R23 = Kl2(ll) * int_R2 + Kl3(ll) * int_R3\n",
    "    R23_Ml = R23 * Mll\n",
    "    #print(\"R23_Ml :\", R23_Ml)\n",
    "    sum_of_RM += R23_Ml"
   ]
  },
  {
   "cell_type": "code",
   "execution_count": 371,
   "id": "86998e10",
   "metadata": {},
   "outputs": [],
   "source": [
    "cos_theta_a_per_sum_of_L_denominator = 2*cos(theta_a)/sum_of_L_denominator"
   ]
  },
  {
   "cell_type": "code",
   "execution_count": 372,
   "id": "e60fecf1",
   "metadata": {
    "scrolled": true
   },
   "outputs": [
    {
     "data": {
      "image/png": "[encoded data removed]",
      "text/plain": [
       "Graphics object consisting of 1 graphics primitive"
      ]
     },
     "metadata": {},
     "output_type": "display_data"
    }
   ],
   "source": [
    "plot(cos_theta_a_per_sum_of_L_denominator, theta_a, 0.0, pi-0.0,ymin=0.12,ymax=0.18).show(\n",
    "    title=\"cos_theta_a_per_sum_of_L_denominator\")"
   ]
  },
  {
   "cell_type": "code",
   "execution_count": 373,
   "id": "fc170a21",
   "metadata": {},
   "outputs": [],
   "source": [
    "exec(preparse(\"cos_theta_a_per_sum_of_M = lambda theta_a : \" + str(cos_theta_a_per_sum_of_L_denominator)))"
   ]
  },
  {
   "cell_type": "code",
   "execution_count": 374,
   "id": "291ebbbc",
   "metadata": {},
   "outputs": [],
   "source": [
    "d = pi/24"
   ]
  },
  {
   "cell_type": "code",
   "execution_count": 375,
   "id": "cb51f20e",
   "metadata": {},
   "outputs": [
    {
     "name": "stderr",
     "output_type": "stream",
     "text": [
      "/tmp/ipykernel_8438/1747996524.py:2: IntegrationWarning: The maximum number of subdivisions (50) has been achieved.\n",
      "  If increasing the limit yields no improvement it is advised to analyze \n",
      "  the integrand in order to determine the difficulties.  If the position of a \n",
      "  local difficulty can be determined (singularity, discontinuity) one will \n",
      "  probably gain from splitting up the interval and calling the integrator \n",
      "  on the subranges.  Perhaps a special-purpose integrator should be used.\n",
      "  integral = scipy_integrate.quad(cos_theta_a_per_sum_of_M, RealNumber('0.0')+d, pi-d)\n"
     ]
    },
    {
     "data": {
      "text/plain": [
       "(0.4591196349668713, 0.0024651105314670557)"
      ]
     },
     "execution_count": 375,
     "metadata": {},
     "output_type": "execute_result"
    }
   ],
   "source": [
    "from scipy import integrate as scipy_integrate\n",
    "integral = scipy_integrate.quad(cos_theta_a_per_sum_of_M, 0.0+d, pi-d)\n",
    "integral"
   ]
  },
  {
   "cell_type": "code",
   "execution_count": 376,
   "id": "deb16d38",
   "metadata": {},
   "outputs": [
    {
     "data": {
      "text/plain": [
       "0.159427984092053"
      ]
     },
     "execution_count": 376,
     "metadata": {},
     "output_type": "execute_result"
    }
   ],
   "source": [
    "k_cos = (integral[0] / (pi-2*d)).n()\n",
    "k_cos"
   ]
  },
  {
   "cell_type": "code",
   "execution_count": 377,
   "id": "c8d8e0f8",
   "metadata": {},
   "outputs": [
    {
     "data": {
      "image/png": "[encoded data removed]",
      "text/plain": [
       "Graphics object consisting of 2 graphics primitives"
      ]
     },
     "metadata": {},
     "output_type": "display_data"
    }
   ],
   "source": [
    "plot([sum_of_L_denominator, 2*cos(theta_a)/k_cos], theta_a, 0, pi).show(\n",
    "    title=\"$\\\\sum_{l=0}^{+\\\\infty} {\\\\left(2 \\\\, l + 1\\\\right)}M_l\\\\left(j_{\\\\theta}, \\\\theta_a\\\\right)$\")"
   ]
  },
  {
   "cell_type": "markdown",
   "id": "aacd8589",
   "metadata": {},
   "source": [
    "Рассмотрим составляющую решения для текущей итерации\n",
    "\n",
    "\\begin{equation}\n",
    "\\begin{array}{l}\n",
    "\\frac{1}{r_{a}}\\frac {1}{\\sum\\limits_{l=0}^{+\\infty} {\\left(2 \\, l + 1\\right)}M_l\\left(j_{\\theta}, \\theta_a\\right)} \\left(\n",
    "\\frac{2 \\, \\cot\\left(\\theta_{a}\\right)}{r_{a}}\\,\n",
    "\\right)\n",
    "\\end{array}\n",
    "\\end{equation}"
   ]
  },
  {
   "cell_type": "code",
   "execution_count": 378,
   "id": "a6b25dd4",
   "metadata": {},
   "outputs": [],
   "source": [
    "cot_theta_a_per_sum_of_L_denominator = 2*cot(theta_a)/sum_of_L_denominator"
   ]
  },
  {
   "cell_type": "code",
   "execution_count": 379,
   "id": "38fc8fd7",
   "metadata": {
    "scrolled": true
   },
   "outputs": [
    {
     "data": {
      "image/png": "[encoded data removed]",
      "text/plain": [
       "Graphics object consisting of 1 graphics primitive"
      ]
     },
     "metadata": {},
     "output_type": "display_data"
    }
   ],
   "source": [
    "plot(cot_theta_a_per_sum_of_L_denominator, theta_a, 0.0, pi-0.0,ymin=0.12,ymax=1).show(\n",
    "    title=\"cos_theta_a_per_sum_of_L_denominator\")"
   ]
  },
  {
   "cell_type": "markdown",
   "id": "3ed91731",
   "metadata": {},
   "source": [
    "Теперь рассмотрим\n",
    "\n",
    "\\begin{equation}\n",
    "\\begin{array}{l}\n",
    "\\left(\n",
    "\\sum\\limits_{l=0}^{+\\infty}\n",
    "\\left[\n",
    "\\left\\{\n",
    "{\\left(l^{2} + 3 \\, l + 2\\right)} \\cdot\n",
    "R_2\\left(l, r_a\\right)\n",
    "+ {\\left(l^{2} - l\\right)} \\cdot\n",
    "R_3\\left(l, r_a\\right)\n",
    "\\right\\}\n",
    "\\cdot\n",
    "M_l\\left(j_{\\theta}, \\theta_a\\right)\n",
    "\\right]\n",
    "\\right)\n",
    "\\end{array}\n",
    "\\end{equation}\n",
    "\n",
    "где\n",
    "\n",
    "$$R_2\\left(l, r_a\\right)=\\int\\limits_{0}^{r_{a}} \\,j_r(r_m) { \\left(\\frac{r_m}{r_a}\\right)^{l+1}}\\,\n",
    "\\,{d r_{m}}$$\n",
    "\n",
    "$$R_3\\left(l, r_a\\right)=\\int\\limits_{r_{a}}^{+\\infty} j_r(r_m) {\\left(\\frac{r_a}{r_m}\\right)^l}\\,\n",
    "\\,{d r_{m}}$$"
   ]
  },
  {
   "cell_type": "code",
   "execution_count": 380,
   "id": "64c8ce90",
   "metadata": {},
   "outputs": [
    {
     "data": {
      "text/latex": [
       "$\\displaystyle \\frac{\\sqrt{30} \\sqrt{6} \\sqrt{5} \\pi^{2} \\cos\\left(\\theta_{a}\\right) \\sin\\left(\\theta_{a}\\right)}{12 \\, r_{a}} + \\frac{1061170584967813518007875 \\, \\sqrt{93} \\pi^{2} {\\left(546270544470823336877895 \\, \\sqrt{93} \\cos\\left(\\theta_{a}\\right) \\sin\\left(\\theta_{a}\\right)^{44} - 6075008692356848537587140 \\, \\sqrt{93} \\cos\\left(\\theta_{a}\\right) \\sin\\left(\\theta_{a}\\right)^{42} + 31535438380549033981632120 \\, \\sqrt{93} \\cos\\left(\\theta_{a}\\right) \\sin\\left(\\theta_{a}\\right)^{40} - 101493364902916431205252800 \\, \\sqrt{93} \\cos\\left(\\theta_{a}\\right) \\sin\\left(\\theta_{a}\\right)^{38} + 226867521547695552105859200 \\, \\sqrt{93} \\cos\\left(\\theta_{a}\\right) \\sin\\left(\\theta_{a}\\right)^{36} - 373921409008731946121464320 \\, \\sqrt{93} \\cos\\left(\\theta_{a}\\right) \\sin\\left(\\theta_{a}\\right)^{34} + 470863996529514302523325440 \\, \\sqrt{93} \\cos\\left(\\theta_{a}\\right) \\sin\\left(\\theta_{a}\\right)^{32} - 463200748846393816587141120 \\, \\sqrt{93} \\cos\\left(\\theta_{a}\\right) \\sin\\left(\\theta_{a}\\right)^{30} + 360935648451735441496473600 \\, \\sqrt{93} \\cos\\left(\\theta_{a}\\right) \\sin\\left(\\theta_{a}\\right)^{28} - 224582181258857608042250240 \\, \\sqrt{93} \\cos\\left(\\theta_{a}\\right) \\sin\\left(\\theta_{a}\\right)^{26} + 111983443805786533325176832 \\, \\sqrt{93} \\cos\\left(\\theta_{a}\\right) \\sin\\left(\\theta_{a}\\right)^{24} - 44736023645845580534513664 \\, \\sqrt{93} \\cos\\left(\\theta_{a}\\right) \\sin\\left(\\theta_{a}\\right)^{22} + 14263659713168156112453632 \\, \\sqrt{93} \\cos\\left(\\theta_{a}\\right) \\sin\\left(\\theta_{a}\\right)^{20} - 3602761351202060097290240 \\, \\sqrt{93} \\cos\\left(\\theta_{a}\\right) \\sin\\left(\\theta_{a}\\right)^{18} + 712634113424583315947520 \\, \\sqrt{93} \\cos\\left(\\theta_{a}\\right) \\sin\\left(\\theta_{a}\\right)^{16} - 108591864902793648144384 \\, \\sqrt{93} \\cos\\left(\\theta_{a}\\right) \\sin\\left(\\theta_{a}\\right)^{14} + 12461361546222221918208 \\, \\sqrt{93} \\cos\\left(\\theta_{a}\\right) \\sin\\left(\\theta_{a}\\right)^{12} - 1043623499384513101824 \\, \\sqrt{93} \\cos\\left(\\theta_{a}\\right) \\sin\\left(\\theta_{a}\\right)^{10} + 61030613999094333440 \\, \\sqrt{93} \\cos\\left(\\theta_{a}\\right) \\sin\\left(\\theta_{a}\\right)^{8} - 2336100057381601280 \\, \\sqrt{93} \\cos\\left(\\theta_{a}\\right) \\sin\\left(\\theta_{a}\\right)^{6} + 52892831487885312 \\, \\sqrt{93} \\cos\\left(\\theta_{a}\\right) \\sin\\left(\\theta_{a}\\right)^{4} - 592636767371264 \\, \\sqrt{93} \\cos\\left(\\theta_{a}\\right) \\sin\\left(\\theta_{a}\\right)^{2} + 2199023255552 \\, \\sqrt{93} \\cos\\left(\\theta_{a}\\right)\\right)} \\sin\\left(\\theta_{a}\\right)}{170141183460469231731687303715884105728 \\, r_{a}} + \\frac{170751679400963925 \\, \\sqrt{69} \\pi^{2} {\\left(203236010537432691 \\, \\sqrt{69} \\cos\\left(\\theta_{a}\\right) \\sin\\left(\\theta_{a}\\right)^{32} - 1650155070632289312 \\, \\sqrt{69} \\cos\\left(\\theta_{a}\\right) \\sin\\left(\\theta_{a}\\right)^{30} + 6092880260796145152 \\, \\sqrt{69} \\cos\\left(\\theta_{a}\\right) \\sin\\left(\\theta_{a}\\right)^{28} - 13539733912880322560 \\, \\sqrt{69} \\cos\\left(\\theta_{a}\\right) \\sin\\left(\\theta_{a}\\right)^{26} + 20198619443805071360 \\, \\sqrt{69} \\cos\\left(\\theta_{a}\\right) \\sin\\left(\\theta_{a}\\right)^{24} - 21362607682939600896 \\, \\sqrt{69} \\cos\\left(\\theta_{a}\\right) \\sin\\left(\\theta_{a}\\right)^{22} + 16490434000865656832 \\, \\sqrt{69} \\cos\\left(\\theta_{a}\\right) \\sin\\left(\\theta_{a}\\right)^{20} - 9423105143351803904 \\, \\sqrt{69} \\cos\\left(\\theta_{a}\\right) \\sin\\left(\\theta_{a}\\right)^{18} + 4000374825007841280 \\, \\sqrt{69} \\cos\\left(\\theta_{a}\\right) \\sin\\left(\\theta_{a}\\right)^{16} - 1255019552943636480 \\, \\sqrt{69} \\cos\\left(\\theta_{a}\\right) \\sin\\left(\\theta_{a}\\right)^{14} + 286861612101402624 \\, \\sqrt{69} \\cos\\left(\\theta_{a}\\right) \\sin\\left(\\theta_{a}\\right)^{12} - 46608076240846848 \\, \\sqrt{69} \\cos\\left(\\theta_{a}\\right) \\sin\\left(\\theta_{a}\\right)^{10} + 5178675137871872 \\, \\sqrt{69} \\cos\\left(\\theta_{a}\\right) \\sin\\left(\\theta_{a}\\right)^{8} - 370567093944320 \\, \\sqrt{69} \\cos\\left(\\theta_{a}\\right) \\sin\\left(\\theta_{a}\\right)^{6} + 15494094520320 \\, \\sqrt{69} \\cos\\left(\\theta_{a}\\right) \\sin\\left(\\theta_{a}\\right)^{4} - 317827579904 \\, \\sqrt{69} \\cos\\left(\\theta_{a}\\right) \\sin\\left(\\theta_{a}\\right)^{2} + 2147483648 \\, \\sqrt{69} \\cos\\left(\\theta_{a}\\right)\\right)} \\sin\\left(\\theta_{a}\\right)}{19807040628566084398385987584 \\, r_{a}} - \\frac{25270140022875 \\, \\sqrt{11571} \\pi^{2} {\\left(32968493968795 \\, \\sqrt{203} \\sqrt{57} \\cos\\left(\\theta_{a}\\right) \\sin\\left(\\theta_{a}\\right)^{26} - 218191487357116 \\, \\sqrt{203} \\sqrt{57} \\cos\\left(\\theta_{a}\\right) \\sin\\left(\\theta_{a}\\right)^{24} + 642224000522832 \\, \\sqrt{203} \\sqrt{57} \\cos\\left(\\theta_{a}\\right) \\sin\\left(\\theta_{a}\\right)^{22} - 1108151216588416 \\, \\sqrt{203} \\sqrt{57} \\cos\\left(\\theta_{a}\\right) \\sin\\left(\\theta_{a}\\right)^{20} + 1243843202293120 \\, \\sqrt{203} \\sqrt{57} \\cos\\left(\\theta_{a}\\right) \\sin\\left(\\theta_{a}\\right)^{18} - 952730963458560 \\, \\sqrt{203} \\sqrt{57} \\cos\\left(\\theta_{a}\\right) \\sin\\left(\\theta_{a}\\right)^{16} + 508123180511232 \\, \\sqrt{203} \\sqrt{57} \\cos\\left(\\theta_{a}\\right) \\sin\\left(\\theta_{a}\\right)^{14} - 189069090422784 \\, \\sqrt{203} \\sqrt{57} \\cos\\left(\\theta_{a}\\right) \\sin\\left(\\theta_{a}\\right)^{12} + 48420132913152 \\, \\sqrt{203} \\sqrt{57} \\cos\\left(\\theta_{a}\\right) \\sin\\left(\\theta_{a}\\right)^{10} - 8276945797120 \\, \\sqrt{203} \\sqrt{57} \\cos\\left(\\theta_{a}\\right) \\sin\\left(\\theta_{a}\\right)^{8} + 894804951040 \\, \\sqrt{203} \\sqrt{57} \\cos\\left(\\theta_{a}\\right) \\sin\\left(\\theta_{a}\\right)^{6} - 55780048896 \\, \\sqrt{203} \\sqrt{57} \\cos\\left(\\theta_{a}\\right) \\sin\\left(\\theta_{a}\\right)^{4} + 1690304512 \\, \\sqrt{203} \\sqrt{57} \\cos\\left(\\theta_{a}\\right) \\sin\\left(\\theta_{a}\\right)^{2} - 16777216 \\, \\sqrt{203} \\sqrt{57} \\cos\\left(\\theta_{a}\\right)\\right)} \\sin\\left(\\theta_{a}\\right)}{3834561584090151913521152 \\, r_{a}} + \\frac{1029 \\, \\sqrt{21} \\pi^{2} {\\left(4199 \\, \\sqrt{21} \\cos\\left(\\theta_{a}\\right) \\sin\\left(\\theta_{a}\\right)^{8} - 8840 \\, \\sqrt{21} \\cos\\left(\\theta_{a}\\right) \\sin\\left(\\theta_{a}\\right)^{6} + 6240 \\, \\sqrt{21} \\cos\\left(\\theta_{a}\\right) \\sin\\left(\\theta_{a}\\right)^{4} - 1664 \\, \\sqrt{21} \\cos\\left(\\theta_{a}\\right) \\sin\\left(\\theta_{a}\\right)^{2} + 128 \\, \\sqrt{21} \\cos\\left(\\theta_{a}\\right)\\right)} \\sin\\left(\\theta_{a}\\right)}{2097152 \\, r_{a}} - \\frac{99 \\, \\sqrt{5} \\pi^{2} {\\left(7 \\, \\sqrt{5} \\cos\\left(\\theta_{a}\\right) \\sin\\left(\\theta_{a}\\right)^{2} - 4 \\, \\sqrt{5} \\cos\\left(\\theta_{a}\\right)\\right)} \\sin\\left(\\theta_{a}\\right)}{1280 \\, r_{a}} + \\frac{13863079363894810652655 \\, \\sqrt{4895} \\pi^{2} {\\left(72912514949124586636005 \\, \\sqrt{89} \\sqrt{55} \\cos\\left(\\theta_{a}\\right)^{43} - 756781620678844847497845 \\, \\sqrt{89} \\sqrt{55} \\cos\\left(\\theta_{a}\\right)^{41} + 3650358405627369264401370 \\, \\sqrt{89} \\sqrt{55} \\cos\\left(\\theta_{a}\\right)^{39} - 10863114773373014557917330 \\, \\sqrt{89} \\sqrt{55} \\cos\\left(\\theta_{a}\\right)^{37} + 22329735923044529924607845 \\, \\sqrt{89} \\sqrt{55} \\cos\\left(\\theta_{a}\\right)^{35} - 33635931327117709633270045 \\, \\sqrt{89} \\sqrt{55} \\cos\\left(\\theta_{a}\\right)^{33} + 38441064373848811009451480 \\, \\sqrt{89} \\sqrt{55} \\cos\\left(\\theta_{a}\\right)^{31} - 34047799873980375465514168 \\, \\sqrt{89} \\sqrt{55} \\cos\\left(\\theta_{a}\\right)^{29} + 23670217035678137738011562 \\, \\sqrt{89} \\sqrt{55} \\cos\\left(\\theta_{a}\\right)^{27} - 13001950202696441856090858 \\, \\sqrt{89} \\sqrt{55} \\cos\\left(\\theta_{a}\\right)^{25} + 5653021827259322546126460 \\, \\sqrt{89} \\sqrt{55} \\cos\\left(\\theta_{a}\\right)^{23} - 1940589582492006247177740 \\, \\sqrt{89} \\sqrt{55} \\cos\\left(\\theta_{a}\\right)^{21} + 522466426055540143470930 \\, \\sqrt{89} \\sqrt{55} \\cos\\left(\\theta_{a}\\right)^{19} - 109086396648958931054370 \\, \\sqrt{89} \\sqrt{55} \\cos\\left(\\theta_{a}\\right)^{17} + 17372072534260438669080 \\, \\sqrt{89} \\sqrt{55} \\cos\\left(\\theta_{a}\\right)^{15} - 2061093351522424926840 \\, \\sqrt{89} \\sqrt{55} \\cos\\left(\\theta_{a}\\right)^{13} + 176277720853891605585 \\, \\sqrt{89} \\sqrt{55} \\cos\\left(\\theta_{a}\\right)^{11} - 10369277697287741505 \\, \\sqrt{89} \\sqrt{55} \\cos\\left(\\theta_{a}\\right)^{9} + 391293498010858170 \\, \\sqrt{89} \\sqrt{55} \\cos\\left(\\theta_{a}\\right)^{7} - 8480044848532530 \\, \\sqrt{89} \\sqrt{55} \\cos\\left(\\theta_{a}\\right)^{5} + 86531069882985 \\, \\sqrt{89} \\sqrt{55} \\cos\\left(\\theta_{a}\\right)^{3} - 263012370465 \\, \\sqrt{89} \\sqrt{55} \\cos\\left(\\theta_{a}\\right)\\right)} \\sqrt{-\\cos\\left(\\theta_{a}\\right)^{2} + 1}}{58486031814536298407767510652335161344 \\, r_{a}} + \\frac{1134234130814278998075 \\, \\sqrt{85} \\pi^{2} {\\left(4880553738988055494905 \\, \\sqrt{85} \\cos\\left(\\theta_{a}\\right)^{41} - 48217518867110909708700 \\, \\sqrt{85} \\cos\\left(\\theta_{a}\\right)^{39} + 220550502966229531445350 \\, \\sqrt{85} \\cos\\left(\\theta_{a}\\right)^{37} - 619774831120290582036300 \\, \\sqrt{85} \\cos\\left(\\theta_{a}\\right)^{35} + 1197292287391470442570125 \\, \\sqrt{85} \\cos\\left(\\theta_{a}\\right)^{33} - 1685787540647190383138736 \\, \\sqrt{85} \\cos\\left(\\theta_{a}\\right)^{31} + 1789705950687085680729480 \\, \\sqrt{85} \\cos\\left(\\theta_{a}\\right)^{29} - 1462013311828886894117040 \\, \\sqrt{85} \\cos\\left(\\theta_{a}\\right)^{27} + 929649768934672644628770 \\, \\sqrt{85} \\cos\\left(\\theta_{a}\\right)^{25} - 462512322853070967477000 \\, \\sqrt{85} \\cos\\left(\\theta_{a}\\right)^{23} + 180024027202810699648740 \\, \\sqrt{85} \\cos\\left(\\theta_{a}\\right)^{21} - 54552735516003242317800 \\, \\sqrt{85} \\cos\\left(\\theta_{a}\\right)^{19} + 12743876739394200049650 \\, \\sqrt{85} \\cos\\left(\\theta_{a}\\right)^{17} - 2259670451835216697200 \\, \\sqrt{85} \\cos\\left(\\theta_{a}\\right)^{15} + 297325059452002197000 \\, \\sqrt{85} \\cos\\left(\\theta_{a}\\right)^{13} - 28110732893643844080 \\, \\sqrt{85} \\cos\\left(\\theta_{a}\\right)^{11} + 1823219704186805925 \\, \\sqrt{85} \\cos\\left(\\theta_{a}\\right)^{9} - 75704624395299900 \\, \\sqrt{85} \\cos\\left(\\theta_{a}\\right)^{7} + 1802491057030950 \\, \\sqrt{85} \\cos\\left(\\theta_{a}\\right)^{5} - 20184670291500 \\, \\sqrt{85} \\cos\\left(\\theta_{a}\\right)^{3} + 67282234305 \\, \\sqrt{85} \\cos\\left(\\theta_{a}\\right)\\right)} \\sqrt{-\\cos\\left(\\theta_{a}\\right)^{2} + 1}}{20769187434139310514121985316880384 \\, r_{a}} + \\frac{39145753945690882875 \\, \\sqrt{77} \\pi^{2} {\\left(22091732848375837675 \\, \\sqrt{77} \\cos\\left(\\theta_{a}\\right)^{37} - 196174587693577438554 \\, \\sqrt{77} \\cos\\left(\\theta_{a}\\right)^{35} + 799478627929305314655 \\, \\sqrt{77} \\cos\\left(\\theta_{a}\\right)^{33} - 1981806176275461061680 \\, \\sqrt{77} \\cos\\left(\\theta_{a}\\right)^{31} + 3338912579594526788700 \\, \\sqrt{77} \\cos\\left(\\theta_{a}\\right)^{29} - 4046562708404113063320 \\, \\sqrt{77} \\cos\\left(\\theta_{a}\\right)^{27} + 3641906437563701756988 \\, \\sqrt{77} \\cos\\left(\\theta_{a}\\right)^{25} - 2477487372492314120400 \\, \\sqrt{77} \\cos\\left(\\theta_{a}\\right)^{23} + 1284435051722449738650 \\, \\sqrt{77} \\cos\\left(\\theta_{a}\\right)^{21} - 507968664523002721500 \\, \\sqrt{77} \\cos\\left(\\theta_{a}\\right)^{19} + 152390599356900816450 \\, \\sqrt{77} \\cos\\left(\\theta_{a}\\right)^{17} - 34256399194278530640 \\, \\sqrt{77} \\cos\\left(\\theta_{a}\\right)^{15} + 5655537602829002700 \\, \\sqrt{77} \\cos\\left(\\theta_{a}\\right)^{13} - 665357365038706200 \\, \\sqrt{77} \\cos\\left(\\theta_{a}\\right)^{11} + 53344978246543500 \\, \\sqrt{77} \\cos\\left(\\theta_{a}\\right)^{9} - 2723998889185200 \\, \\sqrt{77} \\cos\\left(\\theta_{a}\\right)^{7} + 79449967601235 \\, \\sqrt{77} \\cos\\left(\\theta_{a}\\right)^{5} - 1086866861850 \\, \\sqrt{77} \\cos\\left(\\theta_{a}\\right)^{3} + 4418157975 \\, \\sqrt{77} \\cos\\left(\\theta_{a}\\right)\\right)} \\sqrt{-\\cos\\left(\\theta_{a}\\right)^{2} + 1}}{40564819207303340847894502572032 \\, r_{a}} + \\frac{5162860886820973875 \\, \\sqrt{2701} \\pi^{2} {\\left(2989949596465113373 \\, \\sqrt{73} \\sqrt{37} \\cos\\left(\\theta_{a}\\right)^{35} - 25056619857700597985 \\, \\sqrt{73} \\sqrt{37} \\cos\\left(\\theta_{a}\\right)^{33} + 95868806412071853160 \\, \\sqrt{73} \\sqrt{37} \\cos\\left(\\theta_{a}\\right)^{31} - 221786044684643839400 \\, \\sqrt{73} \\sqrt{37} \\cos\\left(\\theta_{a}\\right)^{29} + 346327439007559226140 \\, \\sqrt{73} \\sqrt{37} \\cos\\left(\\theta_{a}\\right)^{27} - 385907717751280280556 \\, \\sqrt{73} \\sqrt{37} \\cos\\left(\\theta_{a}\\right)^{25} + 316317801435475639800 \\, \\sqrt{73} \\sqrt{37} \\cos\\left(\\theta_{a}\\right)^{23} - 193773374729238103800 \\, \\sqrt{73} \\sqrt{37} \\cos\\left(\\theta_{a}\\right)^{21} + 89237738362149126750 \\, \\sqrt{73} \\sqrt{37} \\cos\\left(\\theta_{a}\\right)^{19} - 30827582343287880150 \\, \\sqrt{73} \\sqrt{37} \\cos\\left(\\theta_{a}\\right)^{17} + 7910473959787078680 \\, \\sqrt{73} \\sqrt{37} \\cos\\left(\\theta_{a}\\right)^{15} - 1480569992473517400 \\, \\sqrt{73} \\sqrt{37} \\cos\\left(\\theta_{a}\\right)^{13} + 196402141858731900 \\, \\sqrt{73} \\sqrt{37} \\cos\\left(\\theta_{a}\\right)^{11} - 17679407204959500 \\, \\sqrt{73} \\sqrt{37} \\cos\\left(\\theta_{a}\\right)^{9} + 1010251840283400 \\, \\sqrt{73} \\sqrt{37} \\cos\\left(\\theta_{a}\\right)^{7} - 32891920381320 \\, \\sqrt{73} \\sqrt{37} \\cos\\left(\\theta_{a}\\right)^{5} + 501401225325 \\, \\sqrt{73} \\sqrt{37} \\cos\\left(\\theta_{a}\\right)^{3} - 2268783825 \\, \\sqrt{73} \\sqrt{37} \\cos\\left(\\theta_{a}\\right)\\right)} \\sqrt{-\\cos\\left(\\theta_{a}\\right)^{2} + 1}}{93806144416888975710756037197824 \\, r_{a}} + \\frac{90667195940849175 \\, \\sqrt{65} \\pi^{2} {\\left(27767032438524099 \\, \\sqrt{65} \\cos\\left(\\theta_{a}\\right)^{31} - 204947144189106445 \\, \\sqrt{65} \\cos\\left(\\theta_{a}\\right)^{29} + 682037217547354235 \\, \\sqrt{65} \\cos\\left(\\theta_{a}\\right)^{27} - 1352514482254922805 \\, \\sqrt{65} \\cos\\left(\\theta_{a}\\right)^{25} + 1779624318756477375 \\, \\sqrt{65} \\cos\\left(\\theta_{a}\\right)^{23} - 1637254373255959185 \\, \\sqrt{65} \\cos\\left(\\theta_{a}\\right)^{21} + 1081205718187897575 \\, \\sqrt{65} \\cos\\left(\\theta_{a}\\right)^{19} - 517888453249665225 \\, \\sqrt{65} \\cos\\left(\\theta_{a}\\right)^{17} + 179675585821312425 \\, \\sqrt{65} \\cos\\left(\\theta_{a}\\right)^{15} - 44600322721602375 \\, \\sqrt{65} \\cos\\left(\\theta_{a}\\right)^{13} + 7730722605077745 \\, \\sqrt{65} \\cos\\left(\\theta_{a}\\right)^{11} - 898921233148575 \\, \\sqrt{65} \\cos\\left(\\theta_{a}\\right)^{9} + 65774724376725 \\, \\sqrt{65} \\cos\\left(\\theta_{a}\\right)^{7} - 2724396867675 \\, \\sqrt{65} \\cos\\left(\\theta_{a}\\right)^{5} + 52594534125 \\, \\sqrt{65} \\cos\\left(\\theta_{a}\\right)^{3} - 300540195 \\, \\sqrt{65} \\cos\\left(\\theta_{a}\\right)\\right)} \\sqrt{-\\cos\\left(\\theta_{a}\\right)^{2} + 1}}{4951760157141521099596496896 \\, r_{a}} + \\frac{755161191749925 \\, \\sqrt{61} \\pi^{2} {\\left(238436656380769 \\, \\sqrt{61} \\cos\\left(\\theta_{a}\\right)^{29} - 1640767499840546 \\, \\sqrt{61} \\cos\\left(\\theta_{a}\\right)^{27} + 5051836775824839 \\, \\sqrt{61} \\cos\\left(\\theta_{a}\\right)^{25} - 9185157774226980 \\, \\sqrt{61} \\cos\\left(\\theta_{a}\\right)^{23} + 10961532626789745 \\, \\sqrt{61} \\cos\\left(\\theta_{a}\\right)^{21} - 9027144516179790 \\, \\sqrt{61} \\cos\\left(\\theta_{a}\\right)^{19} + 5250482014512735 \\, \\sqrt{61} \\cos\\left(\\theta_{a}\\right)^{17} - 2170412018157240 \\, \\sqrt{61} \\cos\\left(\\theta_{a}\\right)^{15} + 633036838629195 \\, \\sqrt{61} \\cos\\left(\\theta_{a}\\right)^{13} - 127588820188830 \\, \\sqrt{61} \\cos\\left(\\theta_{a}\\right)^{11} + 17115573439965 \\, \\sqrt{61} \\cos\\left(\\theta_{a}\\right)^{9} - 1436271897060 \\, \\sqrt{61} \\cos\\left(\\theta_{a}\\right)^{7} + 67931778915 \\, \\sqrt{61} \\cos\\left(\\theta_{a}\\right)^{5} - 1493006130 \\, \\sqrt{61} \\cos\\left(\\theta_{a}\\right)^{3} + 9694845 \\, \\sqrt{61} \\cos\\left(\\theta_{a}\\right)\\right)} \\sqrt{-\\cos\\left(\\theta_{a}\\right)^{2} + 1}}{1208925819614629174706176 \\, r_{a}} + \\frac{106240828925 \\, \\sqrt{53} \\pi^{2} {\\left(2295919134019 \\, \\sqrt{53} \\cos\\left(\\theta_{a}\\right)^{25} - 13505406670700 \\, \\sqrt{53} \\cos\\left(\\theta_{a}\\right)^{23} + 34865998853950 \\, \\sqrt{53} \\cos\\left(\\theta_{a}\\right)^{21} - 51928083399500 \\, \\sqrt{53} \\cos\\left(\\theta_{a}\\right)^{19} + 49331679229525 \\, \\sqrt{53} \\cos\\left(\\theta_{a}\\right)^{17} - 31205155233560 \\, \\sqrt{53} \\cos\\left(\\theta_{a}\\right)^{15} + 13319273575300 \\, \\sqrt{53} \\cos\\left(\\theta_{a}\\right)^{13} - 3805506735800 \\, \\sqrt{53} \\cos\\left(\\theta_{a}\\right)^{11} + 707104292125 \\, \\sqrt{53} \\cos\\left(\\theta_{a}\\right)^{9} - 80811919100 \\, \\sqrt{53} \\cos\\left(\\theta_{a}\\right)^{7} + 5142576670 \\, \\sqrt{53} \\cos\\left(\\theta_{a}\\right)^{5} - 150808700 \\, \\sqrt{53} \\cos\\left(\\theta_{a}\\right)^{3} + 1300075 \\, \\sqrt{53} \\cos\\left(\\theta_{a}\\right)\\right)} \\sqrt{-\\cos\\left(\\theta_{a}\\right)^{2} + 1}}{18446744073709551616 \\, r_{a}} + \\frac{141070439601 \\, \\sqrt{5} \\pi^{2} {\\left(11435320455 \\, \\sqrt{5} \\cos\\left(\\theta_{a}\\right)^{21} - 55846913850 \\, \\sqrt{5} \\cos\\left(\\theta_{a}\\right)^{19} + 116461247175 \\, \\sqrt{5} \\cos\\left(\\theta_{a}\\right)^{17} - 135373757400 \\, \\sqrt{5} \\cos\\left(\\theta_{a}\\right)^{15} + 96042192750 \\, \\sqrt{5} \\cos\\left(\\theta_{a}\\right)^{13} - 42807377340 \\, \\sqrt{5} \\cos\\left(\\theta_{a}\\right)^{11} + 11890938150 \\, \\sqrt{5} \\cos\\left(\\theta_{a}\\right)^{9} - 1972690200 \\, \\sqrt{5} \\cos\\left(\\theta_{a}\\right)^{7} + 178562475 \\, \\sqrt{5} \\cos\\left(\\theta_{a}\\right)^{5} - 7348250 \\, \\sqrt{5} \\cos\\left(\\theta_{a}\\right)^{3} + 88179 \\, \\sqrt{5} \\cos\\left(\\theta_{a}\\right)\\right)} \\sqrt{-\\cos\\left(\\theta_{a}\\right)^{2} + 1}}{144115188075855872 \\, r_{a}} + \\frac{2153839259 \\, \\sqrt{4305} \\pi^{2} {\\left(1641030105 \\, \\sqrt{105} \\sqrt{41} \\cos\\left(\\theta_{a}\\right)^{19} - 7195285845 \\, \\sqrt{105} \\sqrt{41} \\cos\\left(\\theta_{a}\\right)^{17} + 13223768580 \\, \\sqrt{105} \\sqrt{41} \\cos\\left(\\theta_{a}\\right)^{15} - 13223768580 \\, \\sqrt{105} \\sqrt{41} \\cos\\left(\\theta_{a}\\right)^{13} + 7814045070 \\, \\sqrt{105} \\sqrt{41} \\cos\\left(\\theta_{a}\\right)^{11} - 2772725670 \\, \\sqrt{105} \\sqrt{41} \\cos\\left(\\theta_{a}\\right)^{9} + 573667380 \\, \\sqrt{105} \\sqrt{41} \\cos\\left(\\theta_{a}\\right)^{7} - 63740820 \\, \\sqrt{105} \\sqrt{41} \\cos\\left(\\theta_{a}\\right)^{5} + 3187041 \\, \\sqrt{105} \\sqrt{41} \\cos\\left(\\theta_{a}\\right)^{3} - 46189 \\, \\sqrt{105} \\sqrt{41} \\cos\\left(\\theta_{a}\\right)\\right)} \\sqrt{-\\cos\\left(\\theta_{a}\\right)^{2} + 1}}{945755921747804160 \\, r_{a}} + \\frac{74741095 \\, \\sqrt{37} \\pi^{2} {\\left(119409675 \\, \\sqrt{37} \\cos\\left(\\theta_{a}\\right)^{17} - 463991880 \\, \\sqrt{37} \\cos\\left(\\theta_{a}\\right)^{15} + 738168900 \\, \\sqrt{37} \\cos\\left(\\theta_{a}\\right)^{13} - 619109400 \\, \\sqrt{37} \\cos\\left(\\theta_{a}\\right)^{11} + 293543250 \\, \\sqrt{37} \\cos\\left(\\theta_{a}\\right)^{9} - 78278200 \\, \\sqrt{37} \\cos\\left(\\theta_{a}\\right)^{7} + 10958948 \\, \\sqrt{37} \\cos\\left(\\theta_{a}\\right)^{5} - 680680 \\, \\sqrt{37} \\cos\\left(\\theta_{a}\\right)^{3} + 12155 \\, \\sqrt{37} \\cos\\left(\\theta_{a}\\right)\\right)} \\sqrt{-\\cos\\left(\\theta_{a}\\right)^{2} + 1}}{70368744177664 \\, r_{a}} + \\frac{42022695 \\, \\sqrt{561} \\pi^{2} {\\left(17678835 \\, \\sqrt{33} \\sqrt{17} \\cos\\left(\\theta_{a}\\right)^{15} - 59879925 \\, \\sqrt{33} \\sqrt{17} \\cos\\left(\\theta_{a}\\right)^{13} + 80528175 \\, \\sqrt{33} \\sqrt{17} \\cos\\left(\\theta_{a}\\right)^{11} - 54679625 \\, \\sqrt{33} \\sqrt{17} \\cos\\left(\\theta_{a}\\right)^{9} + 19684665 \\, \\sqrt{33} \\sqrt{17} \\cos\\left(\\theta_{a}\\right)^{7} - 3594591 \\, \\sqrt{33} \\sqrt{17} \\cos\\left(\\theta_{a}\\right)^{5} + 285285 \\, \\sqrt{33} \\sqrt{17} \\cos\\left(\\theta_{a}\\right)^{3} - 6435 \\, \\sqrt{33} \\sqrt{17} \\cos\\left(\\theta_{a}\\right)\\right)} \\sqrt{-\\cos\\left(\\theta_{a}\\right)^{2} + 1}}{299067162755072 \\, r_{a}} + \\frac{750321 \\, \\sqrt{29} \\pi^{2} {\\left(334305 \\, \\sqrt{29} \\cos\\left(\\theta_{a}\\right)^{13} - 965770 \\, \\sqrt{29} \\cos\\left(\\theta_{a}\\right)^{11} + 1062347 \\, \\sqrt{29} \\cos\\left(\\theta_{a}\\right)^{9} - 554268 \\, \\sqrt{29} \\cos\\left(\\theta_{a}\\right)^{7} + 138567 \\, \\sqrt{29} \\cos\\left(\\theta_{a}\\right)^{5} - 14586 \\, \\sqrt{29} \\cos\\left(\\theta_{a}\\right)^{3} + 429 \\, \\sqrt{29} \\cos\\left(\\theta_{a}\\right)\\right)} \\sqrt{-\\cos\\left(\\theta_{a}\\right)^{2} + 1}}{17179869184 \\, r_{a}} + \\frac{456225 \\, \\sqrt{39} \\pi^{2} {\\left(52003 \\, \\sqrt{39} \\cos\\left(\\theta_{a}\\right)^{11} - 124355 \\, \\sqrt{39} \\cos\\left(\\theta_{a}\\right)^{9} + 106590 \\, \\sqrt{39} \\cos\\left(\\theta_{a}\\right)^{7} - 39270 \\, \\sqrt{39} \\cos\\left(\\theta_{a}\\right)^{5} + 5775 \\, \\sqrt{39} \\cos\\left(\\theta_{a}\\right)^{3} - 231 \\, \\sqrt{39} \\cos\\left(\\theta_{a}\\right)\\right)} \\sqrt{-\\cos\\left(\\theta_{a}\\right)^{2} + 1}}{6979321856 \\, r_{a}} + \\frac{1295 \\, \\sqrt{17} \\pi^{2} {\\left(715 \\, \\sqrt{17} \\cos\\left(\\theta_{a}\\right)^{7} - 1001 \\, \\sqrt{17} \\cos\\left(\\theta_{a}\\right)^{5} + 385 \\, \\sqrt{17} \\cos\\left(\\theta_{a}\\right)^{3} - 35 \\, \\sqrt{17} \\cos\\left(\\theta_{a}\\right)\\right)} \\sqrt{-\\cos\\left(\\theta_{a}\\right)^{2} + 1}}{1048576 \\, r_{a}} + \\frac{55 \\, \\sqrt{13} \\pi^{2} {\\left(33 \\, \\sqrt{13} \\cos\\left(\\theta_{a}\\right)^{5} - 30 \\, \\sqrt{13} \\cos\\left(\\theta_{a}\\right)^{3} + 5 \\, \\sqrt{13} \\cos\\left(\\theta_{a}\\right)\\right)} \\sqrt{-\\cos\\left(\\theta_{a}\\right)^{2} + 1}}{4096 \\, r_{a}} + \\frac{96430842332806261254975 \\, \\pi^{2} {\\left(655531760569123027205 \\, \\cos\\left(\\theta_{a}\\right)^{39} - 6148721956730634976695 \\, \\cos\\left(\\theta_{a}\\right)^{37} + 26591226124562356457655 \\, \\cos\\left(\\theta_{a}\\right)^{35} - 70319020196064898188021 \\, \\cos\\left(\\theta_{a}\\right)^{33} + 127152200902473514531764 \\, \\cos\\left(\\theta_{a}\\right)^{31} - 166551474421549814809212 \\, \\cos\\left(\\theta_{a}\\right)^{29} + 163333088442389431914348 \\, \\cos\\left(\\theta_{a}\\right)^{27} - 122238622693557975697092 \\, \\cos\\left(\\theta_{a}\\right)^{25} + 70522282323206524440630 \\, \\cos\\left(\\theta_{a}\\right)^{23} - 31467614511060406849170 \\, \\cos\\left(\\theta_{a}\\right)^{21} + 10833113192332271210370 \\, \\cos\\left(\\theta_{a}\\right)^{19} - 2854333368087547576230 \\, \\cos\\left(\\theta_{a}\\right)^{17} + 567528272017407120420 \\, \\cos\\left(\\theta_{a}\\right)^{15} - 83343312673884961740 \\, \\cos\\left(\\theta_{a}\\right)^{13} + 8761156857901653660 \\, \\cos\\left(\\theta_{a}\\right)^{11} - 629887094358942420 \\, \\cos\\left(\\theta_{a}\\right)^{9} + 28923386985869805 \\, \\cos\\left(\\theta_{a}\\right)^{7} - 760189144810095 \\, \\cos\\left(\\theta_{a}\\right)^{5} + 9385051170495 \\, \\cos\\left(\\theta_{a}\\right)^{3} - 34461632205 \\, \\cos\\left(\\theta_{a}\\right)\\right)} \\sqrt{-\\cos\\left(\\theta_{a}\\right)^{2} + 1}}{10384593717069655257060992658440192 \\, r_{a}} + \\frac{22544203116071 \\, \\pi^{2} {\\left(322476036831 \\, \\cos\\left(\\theta_{a}\\right)^{23} - 1735881645069 \\, \\cos\\left(\\theta_{a}\\right)^{21} + 4050390505161 \\, \\cos\\left(\\theta_{a}\\right)^{19} - 5369122297539 \\, \\cos\\left(\\theta_{a}\\right)^{17} + 4452442880886 \\, \\cos\\left(\\theta_{a}\\right)^{15} - 2397469243554 \\, \\cos\\left(\\theta_{a}\\right)^{13} + 842354058546 \\, \\cos\\left(\\theta_{a}\\right)^{11} - 189099890694 \\, \\cos\\left(\\theta_{a}\\right)^{9} + 25786348731 \\, \\cos\\left(\\theta_{a}\\right)^{7} - 1940907969 \\, \\cos\\left(\\theta_{a}\\right)^{5} + 66927861 \\, \\cos\\left(\\theta_{a}\\right)^{3} - 676039 \\, \\cos\\left(\\theta_{a}\\right)\\right)} \\sqrt{-\\cos\\left(\\theta_{a}\\right)^{2} + 1}}{36893488147419103232 \\, r_{a}}$"
      ],
      "text/plain": [
       "<IPython.core.display.Math object>"
      ]
     },
     "metadata": {},
     "output_type": "display_data"
    }
   ],
   "source": [
    "disp(sum_of_RM)"
   ]
  },
  {
   "cell_type": "code",
   "execution_count": 381,
   "id": "7674e686",
   "metadata": {},
   "outputs": [
    {
     "data": {
      "image/png": "[encoded data removed]",
      "text/plain": [
       "Graphics object consisting of 1 graphics primitive"
      ]
     },
     "execution_count": 381,
     "metadata": {},
     "output_type": "execute_result"
    }
   ],
   "source": [
    "contour_plot(\n",
    "    sum_of_RM\n",
    "        , (theta_a,0,pi), (r_a,0.2,1), fill=False, cmap='hsv', labels=True)"
   ]
  },
  {
   "cell_type": "code",
   "execution_count": 382,
   "id": "6e8133cd",
   "metadata": {},
   "outputs": [
    {
     "data": {
      "image/png": "[encoded data removed]",
      "text/plain": [
       "Graphics object consisting of 1 graphics primitive"
      ]
     },
     "metadata": {},
     "output_type": "display_data"
    }
   ],
   "source": [
    "sum_of_RM_r_a = (sum_of_RM * r_a).full_simplify()\n",
    "plot(sum_of_RM_r_a, theta_a, 0, pi).show(title=\"sum_of_RM * r_a\")"
   ]
  },
  {
   "cell_type": "markdown",
   "id": "3fe29d0e",
   "metadata": {},
   "source": [
    "Теперь рассмотрим составляющую решения\n",
    "\n",
    "\\begin{equation}\n",
    "\\begin{array}{l}\n",
    "\\frac{1}{r_{a}}\\frac {1}{\\sum\\limits_{l=0}^{+\\infty} {\\left(2 \\, l + 1\\right)}M_l\\left(j_{\\theta}, \\theta_a\\right)} \\left(\n",
    "\\sum\\limits_{l=0}^{+\\infty}\n",
    "\\left[\n",
    "\\left\\{\n",
    "{\\left(l^{2} + 3 \\, l + 2\\right)} \\cdot\n",
    "R_2\\left(l, r_a\\right)\n",
    "+ {\\left(l^{2} - l\\right)} \\cdot\n",
    "R_3\\left(l, r_a\\right)\n",
    "\\right\\}\n",
    "\\cdot\n",
    "M_l\\left(j_{\\theta}, \\theta_a\\right)\n",
    "\\right]\n",
    "\\right)\n",
    "\\end{array}\n",
    "\\end{equation}"
   ]
  },
  {
   "cell_type": "code",
   "execution_count": 383,
   "id": "2af15b0f",
   "metadata": {},
   "outputs": [],
   "source": [
    "sum_of_RM_r_a_per_sum_of_L_denominator = sum_of_RM_r_a/sum_of_L_denominator"
   ]
  },
  {
   "cell_type": "code",
   "execution_count": 384,
   "id": "d52f698f",
   "metadata": {},
   "outputs": [
    {
     "data": {
      "image/png": "[encoded data removed]",
      "text/plain": [
       "Graphics object consisting of 1 graphics primitive"
      ]
     },
     "metadata": {},
     "output_type": "display_data"
    }
   ],
   "source": [
    "plot(sum_of_RM_r_a_per_sum_of_L_denominator, theta_a, 0, pi,ymin=0.8,ymax=1.7).show(\n",
    "    title=\"sum_of_RM_r_a_per_sum_of_L_denominator\")"
   ]
  },
  {
   "cell_type": "code",
   "execution_count": 385,
   "id": "4d98422c",
   "metadata": {},
   "outputs": [
    {
     "data": {
      "image/png": "[encoded data removed]",
      "text/plain": [
       "Graphics object consisting of 1 graphics primitive"
      ]
     },
     "metadata": {},
     "output_type": "display_data"
    }
   ],
   "source": [
    "plot(cot_theta_a_per_sum_of_L_denominator+sum_of_RM_r_a_per_sum_of_L_denominator, theta_a, 0., pi-0.,ymin=1.2,ymax=1.8).show(\n",
    "    title=\"cot_theta_a_per_sum_of_L_denominator+sum_of_R_r_a_per_sum_of_L_denominator\")"
   ]
  },
  {
   "cell_type": "code",
   "execution_count": 386,
   "id": "cb8d60c2",
   "metadata": {},
   "outputs": [
    {
     "data": {
      "image/png": "[encoded data removed]",
      "text/plain": [
       "Graphics object consisting of 1 graphics primitive"
      ]
     },
     "execution_count": 386,
     "metadata": {},
     "output_type": "execute_result"
    }
   ],
   "source": [
    "contour_plot(\n",
    "    cot_theta_a_per_sum_of_L_denominator\n",
    "        , (theta_a,0.05,pi-0.05), (r_a,0.1,3), fill=False, cmap='hsv', labels=True)"
   ]
  },
  {
   "cell_type": "code",
   "execution_count": 387,
   "id": "e5eb1818",
   "metadata": {},
   "outputs": [
    {
     "data": {
      "image/png": "[encoded data removed]",
      "text/plain": [
       "Graphics object consisting of 1 graphics primitive"
      ]
     },
     "execution_count": 387,
     "metadata": {},
     "output_type": "execute_result"
    }
   ],
   "source": [
    "contour_plot(\n",
    "    cot_theta_a_per_sum_of_L_denominator+sum_of_RM_r_a_per_sum_of_L_denominator\n",
    "        , (theta_a,0.05,pi-0.05), (r_a,0.1,2), fill=False, cmap='hsv', labels=True)"
   ]
  },
  {
   "cell_type": "code",
   "execution_count": 388,
   "id": "7e1e1c3c",
   "metadata": {},
   "outputs": [],
   "source": [
    "sum_of_RM_per_sum_of_L_denominator = sum_of_RM/sum_of_L_denominator"
   ]
  },
  {
   "cell_type": "code",
   "execution_count": 389,
   "id": "b0ae7de7",
   "metadata": {},
   "outputs": [
    {
     "data": {
      "image/png": "[encoded data removed]",
      "text/plain": [
       "Graphics object consisting of 1 graphics primitive"
      ]
     },
     "execution_count": 389,
     "metadata": {},
     "output_type": "execute_result"
    }
   ],
   "source": [
    "contour_plot(\n",
    "    sum_of_RM_per_sum_of_L_denominator\n",
    "        , (theta_a,0.05,pi-0.05), (r_a,0.1,2), fill=False, cmap='hsv', labels=True)"
   ]
  },
  {
   "cell_type": "markdown",
   "id": "1fa5b3cf",
   "metadata": {},
   "source": [
    "Инициализировав\n",
    "\n",
    "$J_{\\theta} = cos(\\theta_m)$\n",
    "\n",
    "$J_r = \\frac{1}{r_m^{3/2}}$\n",
    "\n",
    "После первой итерации получено приблизительно (если отбросить уход на бесконечность в районе полюсов)\n",
    "\n",
    "\\begin{equation}\n",
    "\\begin{array}{l}\n",
    "j_r(r_a) = \\frac{1.04 ... 1.16}{r_{a}^{3/2}}  +  \\frac{0.15 ... 0.30}{r_{a}^2}\n",
    "\\end{array}\n",
    "\\end{equation}"
   ]
  },
  {
   "cell_type": "markdown",
   "id": "cfdde1b4",
   "metadata": {},
   "source": [
    "Инициализировав\n",
    "\n",
    "$J_{\\theta} = cos(\\theta_m)$\n",
    "\n",
    "$J_r = \\frac{1}{r_m^{2}}$\n",
    "\n",
    "После первой итерации получено приблизительно (если отбросить уход на бесконечность в районе полюсов)\n",
    "\n",
    "\\begin{equation}\n",
    "\\begin{array}{l}\n",
    "j_r(r_a) = \\frac{1.05 ... 1.4}{r_{a}^{2}}  +  \\frac{0.15 ... 0.30}{r_{a}^2} \\approx \\frac{1.58}{r_{a}^2}\n",
    "\\end{array}\n",
    "\\end{equation}"
   ]
  },
  {
   "cell_type": "markdown",
   "id": "56cb6644",
   "metadata": {},
   "source": [
    "Инициализировав\n",
    "\n",
    "$J_{\\theta} = cot(\\theta_m)$\n",
    "\n",
    "$J_r = \\frac{1}{r_m^{2}}$\n",
    "\n",
    "После первой итерации получено приблизительно (если отбросить уход на бесконечность в районе полюсов)\n",
    "\n",
    "\\begin{equation}\n",
    "\\begin{array}{l}\n",
    "j_r(r_a) \\approx \\frac{1..1.5}{r_{a}^2}\n",
    "\\end{array}\n",
    "\\end{equation}"
   ]
  },
  {
   "cell_type": "code",
   "execution_count": 390,
   "id": "3b14a979",
   "metadata": {},
   "outputs": [
    {
     "data": {
      "image/png": "[encoded data removed]",
      "text/plain": [
       "Graphics object consisting of 2 graphics primitives"
      ]
     },
     "execution_count": 390,
     "metadata": {},
     "output_type": "execute_result"
    }
   ],
   "source": [
    "plot([cot(x), cos(x)], x, 0.5, pi-0.5)"
   ]
  },
  {
   "cell_type": "markdown",
   "id": "c7aab5ae",
   "metadata": {},
   "source": [
    "\\begin{equation}\n",
    "\\begin{array}{l}\n",
    "j_r(r_a){\\sum\\limits_{l=0}^{+\\infty} {\\left(2 \\, l + 1\\right)}M_l\\left(j_{\\theta}, \\theta_a\\right)} = \\frac{1}{r_{a}} \\left(\n",
    "\\frac{2 \\, \\cot\\left(\\theta_{a}\\right)}{r_{a}}\\,\n",
    "+ \\sum\\limits_{l=0}^{+\\infty}\n",
    "\\left[\n",
    "\\left\\{\n",
    "{\\left(l^{2} + 3 \\, l + 2\\right)} \\cdot\n",
    "R_2\\left(l, r_a\\right)\n",
    "+ {\\left(l^{2} - l\\right)} \\cdot\n",
    "R_3\\left(l, r_a\\right)\n",
    "\\right\\}\n",
    "\\cdot\n",
    "M_l\\left(j_{\\theta}, \\theta_a\\right)\n",
    "\\right]\n",
    "\\right)\n",
    "\\end{array}\n",
    "\\end{equation}"
   ]
  },
  {
   "cell_type": "markdown",
   "id": "b21947d9",
   "metadata": {},
   "source": [
    "\\begin{equation}\n",
    "\\begin{array}{l}\n",
    "j_r(r_a){\\sum\\limits_{l=0}^{+\\infty} {\\left(2 \\, l + 1\\right)}M_l\\left(j_{\\theta}, \\theta_a\\right)} =  \\left(\n",
    "\\frac{2 \\, \\cot\\left(\\theta_{a}\\right)}{r_{a}^2}\\,\n",
    "+ \\frac{1}{r_{a}}\\sum\\limits_{l=0}^{+\\infty}\n",
    "\\left[\n",
    "\\left\\{\n",
    "{\\left(l^{2} + 3 \\, l + 2\\right)} \\cdot\n",
    "R_2\\left(l, r_a\\right)\n",
    "+ {\\left(l^{2} - l\\right)} \\cdot\n",
    "R_3\\left(l, r_a\\right)\n",
    "\\right\\}\n",
    "\\cdot\n",
    "M_l\\left(j_{\\theta}, \\theta_a\\right)\n",
    "\\right]\n",
    "\\right)\n",
    "\\end{array}\n",
    "\\end{equation}"
   ]
  },
  {
   "cell_type": "markdown",
   "id": "d4fec5d6",
   "metadata": {},
   "source": [
    "Учитывая что\n",
    "$ \\left(\n",
    "\\frac{2 \\, \\cot\\left(\\theta_{a}\\right)}{r_{a}^2}\\,\n",
    "\\right) = r_a \\cdot \\frac{\\partial^2}{\\partial r_a^2}A_q(r_a, \\theta_a)$\n",
    "\n",
    "\n",
    "\\begin{equation}\n",
    "\\begin{array}{l}\n",
    "r_a \\cdot \\frac{\\partial^2}{\\partial r_a^2}A_q(r_a, \\theta_a) = \n",
    "\\left(\n",
    "\\frac{2 \\, \\cot\\left(\\theta_{a}\\right)}{r_{a}^2}\\,\n",
    "\\right) =\n",
    "j_r(r_a){\\sum\\limits_{l=0}^{+\\infty} {\\left(2 \\, l + 1\\right)}M_l\\left(j_{\\theta}, \\theta_a\\right)} - \\frac{1}{r_{a}}\\sum\\limits_{l=0}^{+\\infty}\n",
    "\\left[\n",
    "\\left\\{\n",
    "{\\left(l^{2} + 3 \\, l + 2\\right)} \\cdot\n",
    "R_2\\left(l, r_a\\right)\n",
    "+ {\\left(l^{2} - l\\right)} \\cdot\n",
    "R_3\\left(l, r_a\\right)\n",
    "\\right\\}\n",
    "\\cdot\n",
    "M_l\\left(j_{\\theta}, \\theta_a\\right)\n",
    "\\right]\n",
    "\\end{array}\n",
    "\\end{equation}"
   ]
  },
  {
   "cell_type": "markdown",
   "id": "00d40746",
   "metadata": {},
   "source": [
    "\\begin{equation}\n",
    "\\begin{array}{l}\n",
    "\\frac{\\partial^2}{\\partial r_a^2}A_q(r_a, \\theta_a) =\n",
    "\\frac{j_r(r_a)}{r_a}{\\sum\\limits_{l=0}^{+\\infty} {\\left(2 \\, l + 1\\right)}M_l\\left(j_{\\theta}, \\theta_a\\right)} - \\frac{1}{r_{a}^2}\\sum\\limits_{l=0}^{+\\infty}\n",
    "\\left[\n",
    "\\left\\{\n",
    "{\\left(l^{2} + 3 \\, l + 2\\right)} \\cdot\n",
    "R_2\\left(l, r_a\\right)\n",
    "+ {\\left(l^{2} - l\\right)} \\cdot\n",
    "R_3\\left(l, r_a\\right)\n",
    "\\right\\}\n",
    "\\cdot\n",
    "M_l\\left(j_{\\theta}, \\theta_a\\right)\n",
    "\\right]\n",
    "\\end{array}\n",
    "\\end{equation}"
   ]
  },
  {
   "cell_type": "code",
   "execution_count": null,
   "id": "1c38bbe9",
   "metadata": {},
   "outputs": [],
   "source": []
  }
 ],
 "metadata": {
  "kernelspec": {
   "display_name": "SageMath 9.6.beta7",
   "language": "sage",
   "name": "sagemath"
  },
  "language_info": {
   "codemirror_mode": {
    "name": "ipython",
    "version": 3
   },
   "file_extension": ".py",
   "mimetype": "text/x-python",
   "name": "python",
   "nbconvert_exporter": "python",
   "pygments_lexer": "ipython3",
   "version": "3.10.3"
  }
 },
 "nbformat": 4,
 "nbformat_minor": 5
}
