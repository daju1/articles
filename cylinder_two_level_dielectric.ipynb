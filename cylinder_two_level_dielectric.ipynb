{
 "cells": [
  {
   "cell_type": "code",
   "execution_count": 1,
   "metadata": {},
   "outputs": [],
   "source": [
    "# %display latex"
   ]
  },
  {
   "cell_type": "code",
   "execution_count": 2,
   "metadata": {},
   "outputs": [],
   "source": [
    "from IPython.display import display, Math, Latex"
   ]
  },
  {
   "cell_type": "code",
   "execution_count": 3,
   "metadata": {},
   "outputs": [],
   "source": [
    "kappa = var(\"kappa\")\n",
    "\n",
    "z = var(\"z\")\n",
    "rh = var(\"rho\")\n",
    "ph = var(\"varphi\")\n",
    "\n",
    "c = var(\"c\")\n",
    "omega = var(\"omega\")\n",
    "\n",
    "h = var(\"h\")\n",
    "a = var(\"a\")\n",
    "\n",
    "m = var(\"m\")"
   ]
  },
  {
   "cell_type": "code",
   "execution_count": 4,
   "metadata": {},
   "outputs": [],
   "source": [
    "n_layers = 2"
   ]
  },
  {
   "cell_type": "code",
   "execution_count": 5,
   "metadata": {},
   "outputs": [],
   "source": [
    "mu = []\n",
    "for i in range(n_layers):\n",
    "    exec(\"mu_\" + str(i) + \"= var('mu_\" + str(i) + \"')\")\n",
    "    exec(\"mu += [mu_\" + str(i) +\"]\")"
   ]
  },
  {
   "cell_type": "code",
   "execution_count": 6,
   "metadata": {},
   "outputs": [],
   "source": [
    "epsilon = []\n",
    "for i in range(n_layers):\n",
    "    exec(\"epsilon_\" + str(i) + \"= var('epsilon_\" + str(i) + \"')\")\n",
    "    exec(\"epsilon += [epsilon_\" + str(i) +\"]\")"
   ]
  },
  {
   "cell_type": "code",
   "execution_count": 7,
   "metadata": {},
   "outputs": [],
   "source": [
    "A_z = []\n",
    "for i in range(n_layers):\n",
    "    exec(\"A_z_\" + str(i) + \"= var('A_z_\" + str(i) + \"')\")\n",
    "    exec(\"A_z += [A_z_\" + str(i) +\"]\")"
   ]
  },
  {
   "cell_type": "code",
   "execution_count": 8,
   "metadata": {},
   "outputs": [],
   "source": [
    "A_r = []\n",
    "for i in range(n_layers):\n",
    "    exec(\"A_r_\" + str(i) + \"= var('A_r_\" + str(i) + \"')\")\n",
    "    exec(\"A_r += [A_r_\" + str(i) +\"]\")"
   ]
  },
  {
   "cell_type": "code",
   "execution_count": 9,
   "metadata": {},
   "outputs": [],
   "source": [
    "A_p = []\n",
    "for i in range(n_layers):\n",
    "    exec(\"A_p_\" + str(i) + \"= var('A_phi_\" + str(i) + \"')\")\n",
    "    exec(\"A_p += [A_p_\" + str(i) +\"]\")"
   ]
  },
  {
   "cell_type": "code",
   "execution_count": 10,
   "metadata": {},
   "outputs": [
    {
     "data": {
      "text/plain": [
       "([A_z_0, A_z_1], [A_r_0, A_r_1], [A_phi_0, A_phi_1])"
      ]
     },
     "execution_count": 10,
     "metadata": {},
     "output_type": "execute_result"
    }
   ],
   "source": [
    "A_z,A_r,A_p"
   ]
  },
  {
   "cell_type": "code",
   "execution_count": 11,
   "metadata": {},
   "outputs": [],
   "source": [
    "B_z = []\n",
    "for i in range(n_layers):\n",
    "    exec(\"B_z_\" + str(i) + \"= var('B_z_\" + str(i) + \"')\")\n",
    "    exec(\"B_z += [B_z_\" + str(i) +\"]\")"
   ]
  },
  {
   "cell_type": "code",
   "execution_count": 12,
   "metadata": {},
   "outputs": [],
   "source": [
    "B_r = []\n",
    "for i in range(n_layers):\n",
    "    exec(\"B_r_\" + str(i) + \"= var('B_r_\" + str(i) + \"')\")\n",
    "    exec(\"B_r += [B_r_\" + str(i) +\"]\")"
   ]
  },
  {
   "cell_type": "code",
   "execution_count": 13,
   "metadata": {},
   "outputs": [],
   "source": [
    "B_p = []\n",
    "for i in range(n_layers):\n",
    "    exec(\"B_p_\" + str(i) + \"= var('B_phi_\" + str(i) + \"')\")\n",
    "    exec(\"B_p += [B_p_\" + str(i) +\"]\")"
   ]
  },
  {
   "cell_type": "code",
   "execution_count": 14,
   "metadata": {},
   "outputs": [
    {
     "data": {
      "text/plain": [
       "([B_z_0, B_z_1], [B_r_0, B_r_1], [B_phi_0, B_phi_1])"
      ]
     },
     "execution_count": 14,
     "metadata": {},
     "output_type": "execute_result"
    }
   ],
   "source": [
    "B_z,B_r,B_p"
   ]
  },
  {
   "cell_type": "code",
   "execution_count": 15,
   "metadata": {},
   "outputs": [],
   "source": [
    "C_z = []\n",
    "for i in range(n_layers):\n",
    "    exec(\"C_z_\" + str(i) + \"= var('C_z_\" + str(i) + \"')\")\n",
    "    exec(\"C_z += [C_z_\" + str(i) +\"]\")"
   ]
  },
  {
   "cell_type": "code",
   "execution_count": 16,
   "metadata": {},
   "outputs": [],
   "source": [
    "C_r = []\n",
    "for i in range(n_layers):\n",
    "    exec(\"C_r_\" + str(i) + \"= var('C_r_\" + str(i) + \"')\")\n",
    "    exec(\"C_r += [C_r_\" + str(i) +\"]\")"
   ]
  },
  {
   "cell_type": "code",
   "execution_count": 17,
   "metadata": {},
   "outputs": [],
   "source": [
    "C_p = []\n",
    "for i in range(n_layers):\n",
    "    exec(\"C_p_\" + str(i) + \"= var('C_p_\" + str(i) + \"')\")\n",
    "    exec(\"C_p += [C_p_\" + str(i) +\"]\")"
   ]
  },
  {
   "cell_type": "code",
   "execution_count": 18,
   "metadata": {},
   "outputs": [],
   "source": [
    "D_z = []\n",
    "for i in range(n_layers):\n",
    "    exec(\"D_z_\" + str(i) + \"= var('D_z_\" + str(i) + \"')\")\n",
    "    exec(\"D_z += [D_z_\" + str(i) +\"]\")"
   ]
  },
  {
   "cell_type": "code",
   "execution_count": 19,
   "metadata": {},
   "outputs": [],
   "source": [
    "D_r = []\n",
    "for i in range(n_layers):\n",
    "    exec(\"D_r_\" + str(i) + \"= var('D_r_\" + str(i) + \"')\")\n",
    "    exec(\"D_r += [D_r_\" + str(i) +\"]\")"
   ]
  },
  {
   "cell_type": "code",
   "execution_count": 20,
   "metadata": {},
   "outputs": [],
   "source": [
    "D_p = []\n",
    "for i in range(n_layers):\n",
    "    exec(\"D_p_\" + str(i) + \"= var('D_p_\" + str(i) + \"')\")\n",
    "    exec(\"D_p += [D_p_\" + str(i) +\"]\")"
   ]
  },
  {
   "cell_type": "code",
   "execution_count": 21,
   "metadata": {},
   "outputs": [],
   "source": [
    "k = []\n",
    "for i in range(n_layers):\n",
    "    exec(\"k_\" + str(i) + \"= var('k_\" + str(i) + \"')\")\n",
    "    exec(\"k += [k_\" + str(i) +\"]\")"
   ]
  },
  {
   "cell_type": "code",
   "execution_count": 22,
   "metadata": {},
   "outputs": [
    {
     "data": {
      "text/latex": [
       "$$\\left[-k_{0}^{2} + \\frac{\\epsilon_{0} \\mu_{0} \\omega^{2}}{c^{2}} = \\kappa^{2}, -k_{1}^{2} + \\frac{\\epsilon_{1} \\mu_{1} \\omega^{2}}{c^{2}} = \\kappa^{2}\\right]$$"
      ],
      "text/plain": [
       "<IPython.core.display.Math object>"
      ]
     },
     "metadata": {},
     "output_type": "display_data"
    }
   ],
   "source": [
    "# исходя из вида дифференциальных уравнений для диэлектрика\n",
    "# записываем соотнощения для волнового вектора в виде уравнений\n",
    "eq_kappa = []\n",
    "for i in range(n_layers):\n",
    "    eq_kappa += [mu[i] * epsilon[i] * omega^2 / c^2 - k[i]^2 == kappa^2]\n",
    "\n",
    "display(Math(latex(eq_kappa)))"
   ]
  },
  {
   "cell_type": "code",
   "execution_count": 23,
   "metadata": {},
   "outputs": [],
   "source": [
    "#E_r = []\n",
    "E_r_r = []\n",
    "#E_r_p = []\n",
    "for i in range(n_layers):\n",
    "    exec(\"Erh_r_\" + str(i) + \" = function('E_r_r\" + str(i) + \"', nargs=1)\")\n",
    "    #exec(\"Erh_p_\" + str(i) + \" = function('E_r_p\" + str(i) + \"', nargs=1)\")\n",
    "    #exec(\"E_r   += [Erh_r_\" + str(i) +\"(rh)*(C_r[i]*cos(m*ph)+D_r[i]*sin(m*ph))]\")\n",
    "    exec(\"E_r_r += [Erh_r_\" + str(i) +\"(rh)]\")\n",
    "    #exec(\"E_r_p += [Erh_p_\" + str(i) +\"(ph)]\")"
   ]
  },
  {
   "cell_type": "code",
   "execution_count": 24,
   "metadata": {},
   "outputs": [],
   "source": [
    "#E_p = []\n",
    "#E_p_r = []\n",
    "E_p_p = []\n",
    "for i in range(n_layers):\n",
    "    #exec(\"Eph_r_\" + str(i) + \" = function('E_p_r\" + str(i) + \"', nargs=1)\")\n",
    "    exec(\"Eph_p_\" + str(i) + \" = function('E_p_p\" + str(i) + \"', nargs=1)\")\n",
    "    #exec(\"E_p   += [Eph_r_\" + str(i) +\"(rh)*(C_p[i]*cos(m*ph)+D_p[i]*sin(m*ph))]\")\n",
    "    #exec(\"E_p_r += [Eph_r_\" + str(i) +\"(rh)]\")\n",
    "    exec(\"E_p_p += [Eph_p_\" + str(i) +\"(ph)]\")"
   ]
  },
  {
   "cell_type": "code",
   "execution_count": 25,
   "metadata": {},
   "outputs": [],
   "source": [
    "E_rh = []\n",
    "for i in range(n_layers):\n",
    "    E_rh += [lambda rh,ph,z, i=i: E_r_r[i](rh=rh)*(B_r[i]*sin(k[i]*z)+A_r[i]*cos(k[i]*z))*(C_r[i]*cos(m*ph)+D_r[i]*sin(m*ph))]"
   ]
  },
  {
   "cell_type": "code",
   "execution_count": 26,
   "metadata": {},
   "outputs": [],
   "source": [
    "E_ph = []\n",
    "for i in range(n_layers):\n",
    "    E_ph += [lambda rh,ph,z, i=i: bessel_J(m,kappa*rh)*(B_p[i]*sin(k[i]*z)+A_p[i]*cos(k[i]*z))*(C_p[i]*cos(m*ph)+D_p[i]*sin(m*ph))]"
   ]
  },
  {
   "cell_type": "code",
   "execution_count": 27,
   "metadata": {},
   "outputs": [
    {
     "data": {
      "text/plain": [
       "(C_r_0*cos(m*varphi) + D_r_0*sin(m*varphi))*(A_r_0*cos(k_0*z) + B_r_0*sin(k_0*z))*E_r_r0(rho)"
      ]
     },
     "execution_count": 27,
     "metadata": {},
     "output_type": "execute_result"
    }
   ],
   "source": [
    "E_rh[0](rh,ph,z)"
   ]
  },
  {
   "cell_type": "code",
   "execution_count": 28,
   "metadata": {},
   "outputs": [
    {
     "data": {
      "text/plain": [
       "(C_p_0*cos(m*varphi) + D_p_0*sin(m*varphi))*(A_phi_0*cos(k_0*z) + B_phi_0*sin(k_0*z))*bessel_J(m, kappa*rho)"
      ]
     },
     "execution_count": 28,
     "metadata": {},
     "output_type": "execute_result"
    }
   ],
   "source": [
    "E_ph[0](rh,ph,z)"
   ]
  },
  {
   "cell_type": "code",
   "execution_count": 29,
   "metadata": {},
   "outputs": [
    {
     "data": {
      "text/plain": [
       "(C_r_1*cos(m*varphi) + D_r_1*sin(m*varphi))*(A_r_1*cos(k_1*z) + B_r_1*sin(k_1*z))*E_r_r1(rho)"
      ]
     },
     "execution_count": 29,
     "metadata": {},
     "output_type": "execute_result"
    }
   ],
   "source": [
    "E_rh[1](rh,ph,z)"
   ]
  },
  {
   "cell_type": "code",
   "execution_count": 30,
   "metadata": {},
   "outputs": [
    {
     "data": {
      "text/plain": [
       "(C_p_1*cos(m*varphi) + D_p_1*sin(m*varphi))*(A_phi_1*cos(k_1*z) + B_phi_1*sin(k_1*z))*bessel_J(m, kappa*rho)"
      ]
     },
     "execution_count": 30,
     "metadata": {},
     "output_type": "execute_result"
    }
   ],
   "source": [
    "E_ph[1](rh,ph,z)"
   ]
  },
  {
   "cell_type": "code",
   "execution_count": 31,
   "metadata": {},
   "outputs": [],
   "source": [
    "E_z = []\n",
    "for i in range(n_layers):\n",
    "    E_z += [lambda rh,ph,z, i=i: bessel_J(m,kappa*rh)*(A_z[i]*cos(k[i]*z)+B_z[i]*sin(k[i]*z))*(C_z[i]*cos(m*ph)+D_z[i]*sin(m*ph))]"
   ]
  },
  {
   "cell_type": "code",
   "execution_count": 32,
   "metadata": {},
   "outputs": [
    {
     "data": {
      "text/plain": [
       "(C_z_0*cos(m*varphi) + D_z_0*sin(m*varphi))*(A_z_0*cos(k_0*z) + B_z_0*sin(k_0*z))*bessel_J(m, kappa*rho)"
      ]
     },
     "execution_count": 32,
     "metadata": {},
     "output_type": "execute_result"
    }
   ],
   "source": [
    "E_z[0](rh,ph,z)"
   ]
  },
  {
   "cell_type": "code",
   "execution_count": 33,
   "metadata": {
    "scrolled": true
   },
   "outputs": [
    {
     "data": {
      "text/plain": [
       "(C_z_1*cos(m*varphi) + D_z_1*sin(m*varphi))*(A_z_1*cos(k_1*z) + B_z_1*sin(k_1*z))*bessel_J(m, kappa*rho)"
      ]
     },
     "execution_count": 33,
     "metadata": {},
     "output_type": "execute_result"
    }
   ],
   "source": [
    "E_z[1](rh,ph,z)"
   ]
  },
  {
   "cell_type": "code",
   "execution_count": 34,
   "metadata": {},
   "outputs": [],
   "source": [
    "rotE_rh = []\n",
    "for i in range(n_layers):\n",
    "    exec(preparse(\"rotE_rh += [lambda rh,ph,z, i=i: \" + str(E_z[i](rh,ph,z).diff(ph)/rh - E_ph[i](rh,ph,z).diff(z)) +\"]\"))"
   ]
  },
  {
   "cell_type": "code",
   "execution_count": 35,
   "metadata": {},
   "outputs": [],
   "source": [
    "rotE_ph = []\n",
    "for i in range(n_layers):\n",
    "    exec(preparse(\"rotE_ph += [lambda rh,ph,z, i=i: \" + str(E_rh[i](rh,ph,z).diff(z)-E_z[i](rh,ph,z).diff(rh)) +\"]\"))"
   ]
  },
  {
   "cell_type": "code",
   "execution_count": 36,
   "metadata": {},
   "outputs": [],
   "source": [
    "rotE_z = []\n",
    "for i in range(n_layers):\n",
    "    exec(preparse(\"rotE_z += [lambda rh,ph,z, i=i: \" + str((rh*E_ph[i](rh,ph,z)).diff(rh) - E_rh[i](rh,ph,z).diff(ph)) +\"]\"))"
   ]
  },
  {
   "cell_type": "code",
   "execution_count": 37,
   "metadata": {
    "scrolled": true
   },
   "outputs": [
    {
     "data": {
      "text/plain": [
       "1/2*(C_z_0*cos(m*varphi) + D_z_0*sin(m*varphi))*(A_z_0*cos(k_0*z) + B_z_0*sin(k_0*z))*kappa*(bessel_J(m + 1, kappa*rho) - bessel_J(m - 1, kappa*rho)) + (B_r_0*k_0*cos(k_0*z) - A_r_0*k_0*sin(k_0*z))*(C_r_0*cos(m*varphi) + D_r_0*sin(m*varphi))*E_r_r0(rho)"
      ]
     },
     "execution_count": 37,
     "metadata": {},
     "output_type": "execute_result"
    }
   ],
   "source": [
    "rotE_ph[0](rh,ph,z)"
   ]
  },
  {
   "cell_type": "code",
   "execution_count": 38,
   "metadata": {},
   "outputs": [
    {
     "data": {
      "text/plain": [
       "1/2*(C_z_1*cos(m*varphi) + D_z_1*sin(m*varphi))*(A_z_1*cos(k_1*z) + B_z_1*sin(k_1*z))*kappa*(bessel_J(m + 1, kappa*rho) - bessel_J(m - 1, kappa*rho)) + (B_r_1*k_1*cos(k_1*z) - A_r_1*k_1*sin(k_1*z))*(C_r_1*cos(m*varphi) + D_r_1*sin(m*varphi))*E_r_r1(rho)"
      ]
     },
     "execution_count": 38,
     "metadata": {},
     "output_type": "execute_result"
    }
   ],
   "source": [
    "rotE_ph[1](rh,ph,z)"
   ]
  },
  {
   "cell_type": "code",
   "execution_count": 39,
   "metadata": {},
   "outputs": [
    {
     "data": {
      "text/plain": [
       "-(B_phi_0*k_0*cos(k_0*z) - A_phi_0*k_0*sin(k_0*z))*(C_p_0*cos(m*varphi) + D_p_0*sin(m*varphi))*bessel_J(m, kappa*rho) + (D_z_0*m*cos(m*varphi) - C_z_0*m*sin(m*varphi))*(A_z_0*cos(k_0*z) + B_z_0*sin(k_0*z))*bessel_J(m, kappa*rho)/rho"
      ]
     },
     "execution_count": 39,
     "metadata": {},
     "output_type": "execute_result"
    }
   ],
   "source": [
    "rotE_rh[0](rh,ph,z)"
   ]
  },
  {
   "cell_type": "code",
   "execution_count": 40,
   "metadata": {},
   "outputs": [
    {
     "data": {
      "text/plain": [
       "-1/2*(C_p_0*cos(m*varphi) + D_p_0*sin(m*varphi))*(A_phi_0*cos(k_0*z) + B_phi_0*sin(k_0*z))*kappa*rho*(bessel_J(m + 1, kappa*rho) - bessel_J(m - 1, kappa*rho)) - (D_r_0*m*cos(m*varphi) - C_r_0*m*sin(m*varphi))*(A_r_0*cos(k_0*z) + B_r_0*sin(k_0*z))*E_r_r0(rho) + (C_p_0*cos(m*varphi) + D_p_0*sin(m*varphi))*(A_phi_0*cos(k_0*z) + B_phi_0*sin(k_0*z))*bessel_J(m, kappa*rho)"
      ]
     },
     "execution_count": 40,
     "metadata": {},
     "output_type": "execute_result"
    }
   ],
   "source": [
    "rotE_z[0](rh,ph,z)"
   ]
  },
  {
   "cell_type": "code",
   "execution_count": 41,
   "metadata": {},
   "outputs": [],
   "source": [
    "H_rh = []\n",
    "for i in range(n_layers):\n",
    "    H_rh += [lambda rh,ph,z, i=i : rotE_rh[i](rh,ph,z)*c/(I*omega *mu[i])]"
   ]
  },
  {
   "cell_type": "code",
   "execution_count": 42,
   "metadata": {},
   "outputs": [],
   "source": [
    "H_ph = []\n",
    "for i in range(n_layers):\n",
    "    H_ph += [lambda rh,ph,z, i=i : rotE_ph[i](rh,ph,z)*c/(I*omega *mu[i])]"
   ]
  },
  {
   "cell_type": "code",
   "execution_count": 43,
   "metadata": {},
   "outputs": [],
   "source": [
    "H_z = []\n",
    "for i in range(n_layers):\n",
    "    H_z += [lambda rh,ph,z, i=i : rotE_z[i](rh,ph,z)*c/(I*omega *mu[i])]"
   ]
  },
  {
   "cell_type": "code",
   "execution_count": 44,
   "metadata": {},
   "outputs": [
    {
     "data": {
      "text/plain": [
       "I*((B_phi_0*k_0*cos(k_0*z) - A_phi_0*k_0*sin(k_0*z))*(C_p_0*cos(m*varphi) + D_p_0*sin(m*varphi))*bessel_J(m, kappa*rho) - (D_z_0*m*cos(m*varphi) - C_z_0*m*sin(m*varphi))*(A_z_0*cos(k_0*z) + B_z_0*sin(k_0*z))*bessel_J(m, kappa*rho)/rho)*c/(mu_0*omega)"
      ]
     },
     "execution_count": 44,
     "metadata": {},
     "output_type": "execute_result"
    }
   ],
   "source": [
    "H_rh[0](rh,ph,z)"
   ]
  },
  {
   "cell_type": "code",
   "execution_count": 45,
   "metadata": {},
   "outputs": [
    {
     "data": {
      "text/plain": [
       "I*((B_phi_1*k_1*cos(k_1*z) - A_phi_1*k_1*sin(k_1*z))*(C_p_1*cos(m*varphi) + D_p_1*sin(m*varphi))*bessel_J(m, kappa*rho) - (D_z_1*m*cos(m*varphi) - C_z_1*m*sin(m*varphi))*(A_z_1*cos(k_1*z) + B_z_1*sin(k_1*z))*bessel_J(m, kappa*rho)/rho)*c/(mu_1*omega)"
      ]
     },
     "execution_count": 45,
     "metadata": {},
     "output_type": "execute_result"
    }
   ],
   "source": [
    "H_rh[1](rh,ph,z)"
   ]
  },
  {
   "cell_type": "code",
   "execution_count": 46,
   "metadata": {
    "scrolled": true
   },
   "outputs": [
    {
     "data": {
      "text/plain": [
       "-1/2*I*((C_z_0*cos(m*varphi) + D_z_0*sin(m*varphi))*(A_z_0*cos(k_0*z) + B_z_0*sin(k_0*z))*kappa*(bessel_J(m + 1, kappa*rho) - bessel_J(m - 1, kappa*rho)) + 2*(B_r_0*k_0*cos(k_0*z) - A_r_0*k_0*sin(k_0*z))*(C_r_0*cos(m*varphi) + D_r_0*sin(m*varphi))*E_r_r0(rho))*c/(mu_0*omega)"
      ]
     },
     "execution_count": 46,
     "metadata": {},
     "output_type": "execute_result"
    }
   ],
   "source": [
    "H_ph[0](rh,ph,z)"
   ]
  },
  {
   "cell_type": "code",
   "execution_count": 47,
   "metadata": {},
   "outputs": [
    {
     "data": {
      "text/plain": [
       "-1/2*I*((C_z_1*cos(m*varphi) + D_z_1*sin(m*varphi))*(A_z_1*cos(k_1*z) + B_z_1*sin(k_1*z))*kappa*(bessel_J(m + 1, kappa*rho) - bessel_J(m - 1, kappa*rho)) + 2*(B_r_1*k_1*cos(k_1*z) - A_r_1*k_1*sin(k_1*z))*(C_r_1*cos(m*varphi) + D_r_1*sin(m*varphi))*E_r_r1(rho))*c/(mu_1*omega)"
      ]
     },
     "execution_count": 47,
     "metadata": {},
     "output_type": "execute_result"
    }
   ],
   "source": [
    "H_ph[1](rh,ph,z)"
   ]
  },
  {
   "cell_type": "code",
   "execution_count": 48,
   "metadata": {},
   "outputs": [
    {
     "data": {
      "text/plain": [
       "1/2*I*((C_p_0*cos(m*varphi) + D_p_0*sin(m*varphi))*(A_phi_0*cos(k_0*z) + B_phi_0*sin(k_0*z))*kappa*rho*(bessel_J(m + 1, kappa*rho) - bessel_J(m - 1, kappa*rho)) + 2*(D_r_0*m*cos(m*varphi) - C_r_0*m*sin(m*varphi))*(A_r_0*cos(k_0*z) + B_r_0*sin(k_0*z))*E_r_r0(rho) - 2*(C_p_0*cos(m*varphi) + D_p_0*sin(m*varphi))*(A_phi_0*cos(k_0*z) + B_phi_0*sin(k_0*z))*bessel_J(m, kappa*rho))*c/(mu_0*omega)"
      ]
     },
     "execution_count": 48,
     "metadata": {},
     "output_type": "execute_result"
    }
   ],
   "source": [
    "H_z[0](rh,ph,z)"
   ]
  },
  {
   "cell_type": "code",
   "execution_count": 49,
   "metadata": {},
   "outputs": [
    {
     "data": {
      "text/plain": [
       "1/2*I*((C_p_1*cos(m*varphi) + D_p_1*sin(m*varphi))*(A_phi_1*cos(k_1*z) + B_phi_1*sin(k_1*z))*kappa*rho*(bessel_J(m + 1, kappa*rho) - bessel_J(m - 1, kappa*rho)) + 2*(D_r_1*m*cos(m*varphi) - C_r_1*m*sin(m*varphi))*(A_r_1*cos(k_1*z) + B_r_1*sin(k_1*z))*E_r_r1(rho) - 2*(C_p_1*cos(m*varphi) + D_p_1*sin(m*varphi))*(A_phi_1*cos(k_1*z) + B_phi_1*sin(k_1*z))*bessel_J(m, kappa*rho))*c/(mu_1*omega)"
      ]
     },
     "execution_count": 49,
     "metadata": {},
     "output_type": "execute_result"
    }
   ],
   "source": [
    "H_z[1](rh,ph,z)"
   ]
  },
  {
   "cell_type": "code",
   "execution_count": 50,
   "metadata": {},
   "outputs": [
    {
     "data": {
      "text/latex": [
       "$$\\left[{\\left(C_{r_{0}} \\cos\\left(m \\varphi\\right) + D_{r_{0}} \\sin\\left(m \\varphi\\right)\\right)} A_{r_{0}} E_{r_{r_{0}}}\\left(\\rho\\right) = 0.000000000000000, {\\left(A_{r_{1}} \\cos\\left(2 \\, h k_{1}\\right) + B_{r_{1}} \\sin\\left(2 \\, h k_{1}\\right)\\right)} {\\left(C_{r_{1}} \\cos\\left(m \\varphi\\right) + D_{r_{1}} \\sin\\left(m \\varphi\\right)\\right)} E_{r_{r_{1}}}\\left(\\rho\\right) = 0.000000000000000\\right]$$"
      ],
      "text/plain": [
       "<IPython.core.display.Math object>"
      ]
     },
     "metadata": {},
     "output_type": "display_data"
    },
    {
     "data": {
      "text/latex": [
       "$$\\left[{\\left(C_{p_{0}} \\cos\\left(m \\varphi\\right) + D_{p_{0}} \\sin\\left(m \\varphi\\right)\\right)} A_{\\phi_{0}} J_{m}(\\kappa \\rho) = 0.000000000000000, {\\left(A_{\\phi_{1}} \\cos\\left(2 \\, h k_{1}\\right) + B_{\\phi_{1}} \\sin\\left(2 \\, h k_{1}\\right)\\right)} {\\left(C_{p_{1}} \\cos\\left(m \\varphi\\right) + D_{p_{1}} \\sin\\left(m \\varphi\\right)\\right)} J_{m}(\\kappa \\rho) = 0.000000000000000\\right]$$"
      ],
      "text/plain": [
       "<IPython.core.display.Math object>"
      ]
     },
     "metadata": {},
     "output_type": "display_data"
    },
    {
     "data": {
      "text/latex": [
       "$$A_{r_{0}} = 0$$"
      ],
      "text/plain": [
       "<IPython.core.display.Math object>"
      ]
     },
     "metadata": {},
     "output_type": "display_data"
    },
    {
     "data": {
      "text/latex": [
       "$$A_{r_{1}} = -\\frac{B_{r_{1}} \\sin\\left(2 \\, h k_{1}\\right)}{\\cos\\left(2 \\, h k_{1}\\right)}$$"
      ],
      "text/plain": [
       "<IPython.core.display.Math object>"
      ]
     },
     "metadata": {},
     "output_type": "display_data"
    },
    {
     "data": {
      "text/latex": [
       "$$A_{\\phi_{0}} = 0$$"
      ],
      "text/plain": [
       "<IPython.core.display.Math object>"
      ]
     },
     "metadata": {},
     "output_type": "display_data"
    },
    {
     "data": {
      "text/latex": [
       "$$A_{\\phi_{1}} = -\\frac{B_{\\phi_{1}} \\sin\\left(2 \\, h k_{1}\\right)}{\\cos\\left(2 \\, h k_{1}\\right)}$$"
      ],
      "text/plain": [
       "<IPython.core.display.Math object>"
      ]
     },
     "metadata": {},
     "output_type": "display_data"
    },
    {
     "data": {
      "text/latex": [
       "$$\\left[A_{r_{0}} = 0, A_{r_{1}} = -\\frac{B_{r_{1}} \\sin\\left(2 \\, h k_{1}\\right)}{\\cos\\left(2 \\, h k_{1}\\right)}, A_{\\phi_{0}} = 0, A_{\\phi_{1}} = -\\frac{B_{\\phi_{1}} \\sin\\left(2 \\, h k_{1}\\right)}{\\cos\\left(2 \\, h k_{1}\\right)}\\right]$$"
      ],
      "text/plain": [
       "<IPython.core.display.Math object>"
      ]
     },
     "metadata": {},
     "output_type": "display_data"
    }
   ],
   "source": [
    "# граничные условия\n",
    "# тангенциальная компонента электрического поля\n",
    "eq_Erh_superconductor_boundary_conditions = []\n",
    "eq_Erh_superconductor_boundary_conditions += [E_rh[0](rh,ph,0) == 0.0]\n",
    "eq_Erh_superconductor_boundary_conditions += [E_rh[n_layers - 1](rh,ph,h*n_layers) == 0.0]\n",
    "\n",
    "eq_Eph_superconductor_boundary_conditions = []\n",
    "eq_Eph_superconductor_boundary_conditions += [E_ph[0](rh,ph,0) == 0.0]\n",
    "eq_Eph_superconductor_boundary_conditions += [E_ph[n_layers - 1](rh,ph,h*n_layers) == 0.0]\n",
    "\n",
    "display(Math(latex(eq_Erh_superconductor_boundary_conditions)))\n",
    "display(Math(latex(eq_Eph_superconductor_boundary_conditions)))\n",
    "\n",
    "boundary_Erh_subs_begin = solve(eq_Erh_superconductor_boundary_conditions[0], A_r[0])[0]\n",
    "boundary_Erh_subs_end = solve(eq_Erh_superconductor_boundary_conditions[1], A_r[n_layers - 1])[0]\n",
    "\n",
    "boundary_Eph_subs_begin = solve(eq_Eph_superconductor_boundary_conditions[0], A_p[0])[0]\n",
    "boundary_Eph_subs_end = solve(eq_Eph_superconductor_boundary_conditions[1], A_p[n_layers - 1])[0]\n",
    "\n",
    "display(Math(latex(boundary_Erh_subs_begin)))\n",
    "display(Math(latex(boundary_Erh_subs_end)))\n",
    "\n",
    "display(Math(latex(boundary_Eph_subs_begin)))\n",
    "display(Math(latex(boundary_Eph_subs_end)))\n",
    "\n",
    "boundary_subs = [boundary_Erh_subs_begin, boundary_Erh_subs_end, boundary_Eph_subs_begin, boundary_Eph_subs_end]\n",
    "display(Math(latex(boundary_subs)))"
   ]
  },
  {
   "cell_type": "code",
   "execution_count": 51,
   "metadata": {},
   "outputs": [
    {
     "data": {
      "text/plain": [
       "[A_r_0, A_r_1, A_phi_0, A_phi_1]"
      ]
     },
     "execution_count": 51,
     "metadata": {},
     "output_type": "execute_result"
    }
   ],
   "source": [
    "exclude_vars = [A_r[0], A_r[n_layers - 1], A_p[0], A_p[n_layers - 1]]\n",
    "exclude_vars"
   ]
  },
  {
   "cell_type": "code",
   "execution_count": 52,
   "metadata": {},
   "outputs": [],
   "source": [
    "def my_simplify(v):\n",
    "    print (\"v =\", v)\n",
    "    from sage.symbolic.operators import add_vararg, mul_vararg\n",
    "\n",
    "    operand_list1 = []\n",
    "    operand_list2 = []\n",
    "\n",
    "    if mul_vararg == v.operator():\n",
    "        for operand in v.operands():\n",
    "            op = operand.operator()\n",
    "            if op == add_vararg:\n",
    "                operand_list1 += [(op, operand)]\n",
    "            else:\n",
    "                operand_list2 += [(op, operand)]\n",
    "    res_list = ()\n",
    "    if len(operand_list1) == 1:\n",
    "        for (op1, operand1) in operand_list1:\n",
    "            print (op1, operand1)\n",
    "            print (\"\")\n",
    "            for operand1_operand in operand1.operands():\n",
    "                print(operand1_operand)\n",
    "                res1 = operand1_operand\n",
    "                for (op2, operand2) in operand_list2:\n",
    "                    print (op2, operand2)\n",
    "                    res1 = mul_vararg(res1, operand2)\n",
    "                print (\"\")\n",
    "                print (\"res1 = \", res1)\n",
    "                print (\"\")\n",
    "                res_list += (res1,)\n",
    "    print (res_list)\n",
    "    if len (res_list) > 0:\n",
    "        res = add_vararg(*res_list)\n",
    "    else:\n",
    "        res = v\n",
    "    print(res)\n",
    "    return res\n",
    "    "
   ]
  },
  {
   "cell_type": "code",
   "execution_count": 53,
   "metadata": {},
   "outputs": [],
   "source": [
    "def my_simp(i, ml, v):\n",
    "    return my_simplify((v / ml).full_simplify() \\\n",
    "             .subs(2*sin(h*k[i])^2 - 1 == sin(h*k[i])^2 - cos(h*k[i])^2) \\\n",
    "             .subs(2*cos(h*k[i])^2 - 1 == cos(h*k[i])^2 - sin(h*k[i])^2)) \\\n",
    "             *ml"
   ]
  },
  {
   "cell_type": "code",
   "execution_count": 54,
   "metadata": {},
   "outputs": [],
   "source": [
    "rotH_ph = []\n",
    "for i in range(n_layers):\n",
    "    exec(preparse(\"rotH_ph += [lambda rh,ph,z, i=i: \" + str(H_rh[i](rh,ph,z).diff(z)-H_z[i](rh,ph,z).diff(rh)) +\"]\"))"
   ]
  },
  {
   "cell_type": "code",
   "execution_count": 55,
   "metadata": {},
   "outputs": [],
   "source": [
    "rotH_rh = []\n",
    "for i in range(n_layers):\n",
    "    exec(preparse(\"rotH_rh += [lambda rh,ph,z, i=i : \" + str(H_z[i](rh,ph,z).diff(ph)/rh - H_ph[i](rh,ph,z).diff(z)) + \"]\"))"
   ]
  },
  {
   "cell_type": "code",
   "execution_count": 56,
   "metadata": {},
   "outputs": [],
   "source": [
    "rotH_z = []\n",
    "for i in range(n_layers):\n",
    "    exec(preparse(\"rotH_z += [lambda rh,ph,z, i=i : \"+ str((rh * H_ph[i](rh,ph,z)).diff(rh) - H_rh[i](rh,ph,z).diff(ph)) + \"]\"))"
   ]
  },
  {
   "cell_type": "code",
   "execution_count": 57,
   "metadata": {},
   "outputs": [],
   "source": [
    "eq_rotH_ph = []\n",
    "for i in range(n_layers):\n",
    "    eq_rotH_ph += [rotH_ph[i](rh,ph,z) == -I * omega / c * epsilon[i] * E_ph[i](rh,ph,z) ]"
   ]
  },
  {
   "cell_type": "code",
   "execution_count": 58,
   "metadata": {},
   "outputs": [],
   "source": [
    "eq_rotH_rh = []\n",
    "for i in range(n_layers):\n",
    "    eq_rotH_rh += [rotH_rh[i](rh,ph,z) == -I * omega / c * epsilon[i] * E_rh[i](rh,ph,z) ]"
   ]
  },
  {
   "cell_type": "code",
   "execution_count": 59,
   "metadata": {},
   "outputs": [],
   "source": [
    "eq_rotH_z = []\n",
    "for i in range(n_layers):\n",
    "    eq_rotH_z += [rotH_z[i](rh,ph,z) - I * omega / c * epsilon[i] * E_z[i](rh,ph,z) == 0]"
   ]
  },
  {
   "cell_type": "code",
   "execution_count": 60,
   "metadata": {},
   "outputs": [
    {
     "data": {
      "text/plain": [
       "-1/4*(-I*(kappa*(bessel_J(m + 2, kappa*rho) - bessel_J(m, kappa*rho)) + kappa*(bessel_J(m - 2, kappa*rho) - bessel_J(m, kappa*rho)))*(C_p_0*cos(m*varphi) + D_p_0*sin(m*varphi))*(A_phi_0*cos(k_0*z) + B_phi_0*sin(k_0*z))*kappa*rho + 4*I*(C_p_0*cos(m*varphi) + D_p_0*sin(m*varphi))*(A_phi_0*cos(k_0*z) + B_phi_0*sin(k_0*z))*kappa*(bessel_J(m + 1, kappa*rho) - bessel_J(m - 1, kappa*rho)) + 4*I*(D_r_0*m*cos(m*varphi) - C_r_0*m*sin(m*varphi))*(A_r_0*cos(k_0*z) + B_r_0*sin(k_0*z))*diff(E_r_r0(rho), rho))*c/(mu_0*omega) - (I*(A_phi_0*k_0^2*cos(k_0*z) + B_phi_0*k_0^2*sin(k_0*z))*(C_p_0*cos(m*varphi) + D_p_0*sin(m*varphi))*bessel_J(m, kappa*rho) + I*(D_z_0*m*cos(m*varphi) - C_z_0*m*sin(m*varphi))*(B_z_0*k_0*cos(k_0*z) - A_z_0*k_0*sin(k_0*z))*bessel_J(m, kappa*rho)/rho)*c/(mu_0*omega)"
      ]
     },
     "execution_count": 60,
     "metadata": {},
     "output_type": "execute_result"
    }
   ],
   "source": [
    "rotH_ph[0](rh,ph,z)"
   ]
  },
  {
   "cell_type": "code",
   "execution_count": 61,
   "metadata": {},
   "outputs": [
    {
     "data": {
      "text/plain": [
       "-1/4*(-I*(kappa*(bessel_J(m + 2, kappa*rho) - bessel_J(m, kappa*rho)) + kappa*(bessel_J(m - 2, kappa*rho) - bessel_J(m, kappa*rho)))*(C_p_1*cos(m*varphi) + D_p_1*sin(m*varphi))*(A_phi_1*cos(k_1*z) + B_phi_1*sin(k_1*z))*kappa*rho + 4*I*(C_p_1*cos(m*varphi) + D_p_1*sin(m*varphi))*(A_phi_1*cos(k_1*z) + B_phi_1*sin(k_1*z))*kappa*(bessel_J(m + 1, kappa*rho) - bessel_J(m - 1, kappa*rho)) + 4*I*(D_r_1*m*cos(m*varphi) - C_r_1*m*sin(m*varphi))*(A_r_1*cos(k_1*z) + B_r_1*sin(k_1*z))*diff(E_r_r1(rho), rho))*c/(mu_1*omega) - (I*(A_phi_1*k_1^2*cos(k_1*z) + B_phi_1*k_1^2*sin(k_1*z))*(C_p_1*cos(m*varphi) + D_p_1*sin(m*varphi))*bessel_J(m, kappa*rho) + I*(D_z_1*m*cos(m*varphi) - C_z_1*m*sin(m*varphi))*(B_z_1*k_1*cos(k_1*z) - A_z_1*k_1*sin(k_1*z))*bessel_J(m, kappa*rho)/rho)*c/(mu_1*omega)"
      ]
     },
     "execution_count": 61,
     "metadata": {},
     "output_type": "execute_result"
    }
   ],
   "source": [
    "rotH_ph[1](rh,ph,z)"
   ]
  },
  {
   "cell_type": "code",
   "execution_count": 62,
   "metadata": {},
   "outputs": [
    {
     "data": {
      "text/plain": [
       "-1/2*(-I*(B_z_0*k_0*cos(k_0*z) - A_z_0*k_0*sin(k_0*z))*(C_z_0*cos(m*varphi) + D_z_0*sin(m*varphi))*kappa*(bessel_J(m + 1, kappa*rho) - bessel_J(m - 1, kappa*rho)) + 2*I*(A_r_0*k_0^2*cos(k_0*z) + B_r_0*k_0^2*sin(k_0*z))*(C_r_0*cos(m*varphi) + D_r_0*sin(m*varphi))*E_r_r0(rho))*c/(mu_0*omega) - 1/2*(-I*(D_p_0*m*cos(m*varphi) - C_p_0*m*sin(m*varphi))*(A_phi_0*cos(k_0*z) + B_phi_0*sin(k_0*z))*kappa*rho*(bessel_J(m + 1, kappa*rho) - bessel_J(m - 1, kappa*rho)) + 2*I*(C_r_0*m^2*cos(m*varphi) + D_r_0*m^2*sin(m*varphi))*(A_r_0*cos(k_0*z) + B_r_0*sin(k_0*z))*E_r_r0(rho) + 2*I*(D_p_0*m*cos(m*varphi) - C_p_0*m*sin(m*varphi))*(A_phi_0*cos(k_0*z) + B_phi_0*sin(k_0*z))*bessel_J(m, kappa*rho))*c/(mu_0*omega*rho)"
      ]
     },
     "execution_count": 62,
     "metadata": {},
     "output_type": "execute_result"
    }
   ],
   "source": [
    "rotH_rh[0](rh,ph,z)"
   ]
  },
  {
   "cell_type": "code",
   "execution_count": 63,
   "metadata": {},
   "outputs": [
    {
     "data": {
      "text/plain": [
       "-1/2*(-I*(B_z_1*k_1*cos(k_1*z) - A_z_1*k_1*sin(k_1*z))*(C_z_1*cos(m*varphi) + D_z_1*sin(m*varphi))*kappa*(bessel_J(m + 1, kappa*rho) - bessel_J(m - 1, kappa*rho)) + 2*I*(A_r_1*k_1^2*cos(k_1*z) + B_r_1*k_1^2*sin(k_1*z))*(C_r_1*cos(m*varphi) + D_r_1*sin(m*varphi))*E_r_r1(rho))*c/(mu_1*omega) - 1/2*(-I*(D_p_1*m*cos(m*varphi) - C_p_1*m*sin(m*varphi))*(A_phi_1*cos(k_1*z) + B_phi_1*sin(k_1*z))*kappa*rho*(bessel_J(m + 1, kappa*rho) - bessel_J(m - 1, kappa*rho)) + 2*I*(C_r_1*m^2*cos(m*varphi) + D_r_1*m^2*sin(m*varphi))*(A_r_1*cos(k_1*z) + B_r_1*sin(k_1*z))*E_r_r1(rho) + 2*I*(D_p_1*m*cos(m*varphi) - C_p_1*m*sin(m*varphi))*(A_phi_1*cos(k_1*z) + B_phi_1*sin(k_1*z))*bessel_J(m, kappa*rho))*c/(mu_1*omega*rho)"
      ]
     },
     "execution_count": 63,
     "metadata": {},
     "output_type": "execute_result"
    }
   ],
   "source": [
    "rotH_rh[1](rh,ph,z)"
   ]
  },
  {
   "cell_type": "code",
   "execution_count": 64,
   "metadata": {},
   "outputs": [
    {
     "data": {
      "text/plain": [
       "-1/4*(-I*(kappa*(bessel_J(m + 2, kappa*rho) - bessel_J(m, kappa*rho)) + kappa*(bessel_J(m - 2, kappa*rho) - bessel_J(m, kappa*rho)))*(C_z_0*cos(m*varphi) + D_z_0*sin(m*varphi))*(A_z_0*cos(k_0*z) + B_z_0*sin(k_0*z))*kappa + 4*I*(B_r_0*k_0*cos(k_0*z) - A_r_0*k_0*sin(k_0*z))*(C_r_0*cos(m*varphi) + D_r_0*sin(m*varphi))*diff(E_r_r0(rho), rho))*c*rho/(mu_0*omega) + 1/2*(-I*(C_z_0*cos(m*varphi) + D_z_0*sin(m*varphi))*(A_z_0*cos(k_0*z) + B_z_0*sin(k_0*z))*kappa*(bessel_J(m + 1, kappa*rho) - bessel_J(m - 1, kappa*rho)) - 2*I*(B_r_0*k_0*cos(k_0*z) - A_r_0*k_0*sin(k_0*z))*(C_r_0*cos(m*varphi) + D_r_0*sin(m*varphi))*E_r_r0(rho))*c/(mu_0*omega) - (I*(D_p_0*m*cos(m*varphi) - C_p_0*m*sin(m*varphi))*(B_phi_0*k_0*cos(k_0*z) - A_phi_0*k_0*sin(k_0*z))*bessel_J(m, kappa*rho) + I*(C_z_0*m^2*cos(m*varphi) + D_z_0*m^2*sin(m*varphi))*(A_z_0*cos(k_0*z) + B_z_0*sin(k_0*z))*bessel_J(m, kappa*rho)/rho)*c/(mu_0*omega)"
      ]
     },
     "execution_count": 64,
     "metadata": {},
     "output_type": "execute_result"
    }
   ],
   "source": [
    "rotH_z[0](rh,ph,z)"
   ]
  },
  {
   "cell_type": "code",
   "execution_count": 65,
   "metadata": {},
   "outputs": [
    {
     "data": {
      "text/plain": [
       "-1/4*(-I*(kappa*(bessel_J(m + 2, kappa*rho) - bessel_J(m, kappa*rho)) + kappa*(bessel_J(m - 2, kappa*rho) - bessel_J(m, kappa*rho)))*(C_z_1*cos(m*varphi) + D_z_1*sin(m*varphi))*(A_z_1*cos(k_1*z) + B_z_1*sin(k_1*z))*kappa + 4*I*(B_r_1*k_1*cos(k_1*z) - A_r_1*k_1*sin(k_1*z))*(C_r_1*cos(m*varphi) + D_r_1*sin(m*varphi))*diff(E_r_r1(rho), rho))*c*rho/(mu_1*omega) + 1/2*(-I*(C_z_1*cos(m*varphi) + D_z_1*sin(m*varphi))*(A_z_1*cos(k_1*z) + B_z_1*sin(k_1*z))*kappa*(bessel_J(m + 1, kappa*rho) - bessel_J(m - 1, kappa*rho)) - 2*I*(B_r_1*k_1*cos(k_1*z) - A_r_1*k_1*sin(k_1*z))*(C_r_1*cos(m*varphi) + D_r_1*sin(m*varphi))*E_r_r1(rho))*c/(mu_1*omega) - (I*(D_p_1*m*cos(m*varphi) - C_p_1*m*sin(m*varphi))*(B_phi_1*k_1*cos(k_1*z) - A_phi_1*k_1*sin(k_1*z))*bessel_J(m, kappa*rho) + I*(C_z_1*m^2*cos(m*varphi) + D_z_1*m^2*sin(m*varphi))*(A_z_1*cos(k_1*z) + B_z_1*sin(k_1*z))*bessel_J(m, kappa*rho)/rho)*c/(mu_1*omega)"
      ]
     },
     "execution_count": 65,
     "metadata": {},
     "output_type": "execute_result"
    }
   ],
   "source": [
    "rotH_z[1](rh,ph,z)"
   ]
  },
  {
   "cell_type": "code",
   "execution_count": 66,
   "metadata": {},
   "outputs": [
    {
     "data": {
      "text/plain": [
       "[-I*(C_z_0*cos(m*varphi) + D_z_0*sin(m*varphi))*(A_z_0*cos(k_0*z) + B_z_0*sin(k_0*z))*epsilon_0*omega*bessel_J(m, kappa*rho)/c - 1/4*(-I*(kappa*(bessel_J(m + 2, kappa*rho) - bessel_J(m, kappa*rho)) + kappa*(bessel_J(m - 2, kappa*rho) - bessel_J(m, kappa*rho)))*(C_z_0*cos(m*varphi) + D_z_0*sin(m*varphi))*(A_z_0*cos(k_0*z) + B_z_0*sin(k_0*z))*kappa + 4*I*(B_r_0*k_0*cos(k_0*z) - A_r_0*k_0*sin(k_0*z))*(C_r_0*cos(m*varphi) + D_r_0*sin(m*varphi))*diff(E_r_r0(rho), rho))*c*rho/(mu_0*omega) + 1/2*(-I*(C_z_0*cos(m*varphi) + D_z_0*sin(m*varphi))*(A_z_0*cos(k_0*z) + B_z_0*sin(k_0*z))*kappa*(bessel_J(m + 1, kappa*rho) - bessel_J(m - 1, kappa*rho)) - 2*I*(B_r_0*k_0*cos(k_0*z) - A_r_0*k_0*sin(k_0*z))*(C_r_0*cos(m*varphi) + D_r_0*sin(m*varphi))*E_r_r0(rho))*c/(mu_0*omega) - (I*(D_p_0*m*cos(m*varphi) - C_p_0*m*sin(m*varphi))*(B_phi_0*k_0*cos(k_0*z) - A_phi_0*k_0*sin(k_0*z))*bessel_J(m, kappa*rho) + I*(C_z_0*m^2*cos(m*varphi) + D_z_0*m^2*sin(m*varphi))*(A_z_0*cos(k_0*z) + B_z_0*sin(k_0*z))*bessel_J(m, kappa*rho)/rho)*c/(mu_0*omega) == 0,\n",
       " -I*(C_z_1*cos(m*varphi) + D_z_1*sin(m*varphi))*(A_z_1*cos(k_1*z) + B_z_1*sin(k_1*z))*epsilon_1*omega*bessel_J(m, kappa*rho)/c - 1/4*(-I*(kappa*(bessel_J(m + 2, kappa*rho) - bessel_J(m, kappa*rho)) + kappa*(bessel_J(m - 2, kappa*rho) - bessel_J(m, kappa*rho)))*(C_z_1*cos(m*varphi) + D_z_1*sin(m*varphi))*(A_z_1*cos(k_1*z) + B_z_1*sin(k_1*z))*kappa + 4*I*(B_r_1*k_1*cos(k_1*z) - A_r_1*k_1*sin(k_1*z))*(C_r_1*cos(m*varphi) + D_r_1*sin(m*varphi))*diff(E_r_r1(rho), rho))*c*rho/(mu_1*omega) + 1/2*(-I*(C_z_1*cos(m*varphi) + D_z_1*sin(m*varphi))*(A_z_1*cos(k_1*z) + B_z_1*sin(k_1*z))*kappa*(bessel_J(m + 1, kappa*rho) - bessel_J(m - 1, kappa*rho)) - 2*I*(B_r_1*k_1*cos(k_1*z) - A_r_1*k_1*sin(k_1*z))*(C_r_1*cos(m*varphi) + D_r_1*sin(m*varphi))*E_r_r1(rho))*c/(mu_1*omega) - (I*(D_p_1*m*cos(m*varphi) - C_p_1*m*sin(m*varphi))*(B_phi_1*k_1*cos(k_1*z) - A_phi_1*k_1*sin(k_1*z))*bessel_J(m, kappa*rho) + I*(C_z_1*m^2*cos(m*varphi) + D_z_1*m^2*sin(m*varphi))*(A_z_1*cos(k_1*z) + B_z_1*sin(k_1*z))*bessel_J(m, kappa*rho)/rho)*c/(mu_1*omega) == 0]"
      ]
     },
     "execution_count": 66,
     "metadata": {},
     "output_type": "execute_result"
    }
   ],
   "source": [
    "eq_rotH_z"
   ]
  },
  {
   "cell_type": "code",
   "execution_count": 67,
   "metadata": {},
   "outputs": [
    {
     "name": "stdout",
     "output_type": "stream",
     "text": [
      "E_r_r_s[i](rh)=\n"
     ]
    },
    {
     "data": {
      "text/latex": [
       "$$-\\frac{B_{z_{0}} C_{z_{0}} k_{0} J_{1}(\\kappa \\rho) \\cos\\left(k_{0} z\\right) - A_{z_{0}} C_{z_{0}} k_{0} J_{1}(\\kappa \\rho) \\sin\\left(k_{0} z\\right)}{B_{r_{0}} C_{r_{0}} \\kappa \\sin\\left(k_{0} z\\right)}$$"
      ],
      "text/plain": [
       "<IPython.core.display.Math object>"
      ]
     },
     "metadata": {},
     "output_type": "display_data"
    },
    {
     "name": "stdout",
     "output_type": "stream",
     "text": [
      "E_r_r_s[i](rh)=\n"
     ]
    },
    {
     "data": {
      "text/latex": [
       "$$-\\frac{{\\left(2 \\, B_{z_{1}} C_{z_{1}} k_{1} J_{1}(\\kappa \\rho) \\sin\\left(h k_{1}\\right)^{2} - B_{z_{1}} C_{z_{1}} k_{1} J_{1}(\\kappa \\rho)\\right)} \\cos\\left(k_{1} z\\right) - {\\left(2 \\, A_{z_{1}} C_{z_{1}} k_{1} J_{1}(\\kappa \\rho) \\sin\\left(h k_{1}\\right)^{2} - A_{z_{1}} C_{z_{1}} k_{1} J_{1}(\\kappa \\rho)\\right)} \\sin\\left(k_{1} z\\right)}{2 \\, B_{r_{1}} C_{r_{1}} \\kappa \\cos\\left(h k_{1}\\right) \\cos\\left(k_{1} z\\right) \\sin\\left(h k_{1}\\right) + {\\left(2 \\, B_{r_{1}} C_{r_{1}} \\sin\\left(h k_{1}\\right)^{2} - B_{r_{1}} C_{r_{1}}\\right)} \\kappa \\sin\\left(k_{1} z\\right)}$$"
      ],
      "text/plain": [
       "<IPython.core.display.Math object>"
      ]
     },
     "metadata": {},
     "output_type": "display_data"
    }
   ],
   "source": [
    "E_r_r_s = []\n",
    "for i in range(n_layers):\n",
    "    eq_rotH_rh_i = (eq_rotH_rh[i]*(-I)*omega/c).subs(solve(eq_kappa[i], omega^2)).subs(boundary_subs).subs(m == 0).full_simplify()\n",
    "    exec(preparse(\"E_r_r_s += [lambda rh,i=i : \" + str(solve(eq_rotH_rh_i, E_r_r[i](rh))[0].rhs()) +\"]\"))\n",
    "    print(\"E_r_r_s[i](rh)=\")\n",
    "    display(Math(latex(E_r_r_s[i](rh))))"
   ]
  },
  {
   "cell_type": "code",
   "execution_count": 68,
   "metadata": {},
   "outputs": [
    {
     "name": "stdout",
     "output_type": "stream",
     "text": [
      "eq_rotH_z_i=\n",
      "1/2*((A_z_0*C_z_0*c^2*kappa^2*rho*(bessel_J(2, kappa*rho) - bessel_J(0, kappa*rho)) - 2*A_z_0*C_z_0*epsilon_0*mu_0*omega^2*bessel_J(0, kappa*rho) - 2*B_r_0*C_r_0*c^2*k_0*rho*diff(E_r_r0(rho), rho) - 2*B_r_0*C_r_0*c^2*k_0*E_r_r0(rho) - 2*A_z_0*C_z_0*c^2*kappa*bessel_J(1, kappa*rho))*cos(k_0*z) + (B_z_0*C_z_0*c^2*kappa^2*rho*(bessel_J(2, kappa*rho) - bessel_J(0, kappa*rho)) - 2*B_z_0*C_z_0*epsilon_0*mu_0*omega^2*bessel_J(0, kappa*rho) - 2*B_z_0*C_z_0*c^2*kappa*bessel_J(1, kappa*rho))*sin(k_0*z))/(c^2*mu_0) == 0\n",
      "eq_rotH_ph_i=\n",
      "(1/2*(B_phi_0*C_p_0*kappa^2*rho*(bessel_J(2, kappa*rho) - bessel_J(0, kappa*rho)) - 2*B_phi_0*C_p_0*k_0^2*bessel_J(0, kappa*rho) - 4*B_phi_0*C_p_0*kappa*bessel_J(1, kappa*rho))*sin(k_0*z)/mu_0 == -B_phi_0*C_p_0*epsilon_0*omega^2*bessel_J(0, kappa*rho)*sin(k_0*z)/c^2,)\n",
      "eq_rotH_z_i=\n",
      "-1/2*((2*(2*A_z_1*C_z_1*epsilon_1*bessel_J(0, kappa*rho)*sin(h*k_1)^2 - A_z_1*C_z_1*epsilon_1*bessel_J(0, kappa*rho))*mu_1*omega^2 - (2*A_z_1*C_z_1*c^2*(bessel_J(2, kappa*rho) - bessel_J(0, kappa*rho))*sin(h*k_1)^2 - A_z_1*C_z_1*c^2*(bessel_J(2, kappa*rho) - bessel_J(0, kappa*rho)))*kappa^2*rho + 2*(2*B_r_1*C_r_1*c^2*k_1*sin(h*k_1)^2 - B_r_1*C_r_1*c^2*k_1)*rho*diff(E_r_r1(rho), rho) + 2*(2*A_z_1*C_z_1*c^2*bessel_J(1, kappa*rho)*sin(h*k_1)^2 - A_z_1*C_z_1*c^2*bessel_J(1, kappa*rho))*kappa + 2*(2*B_r_1*C_r_1*c^2*k_1*sin(h*k_1)^2 - B_r_1*C_r_1*c^2*k_1)*E_r_r1(rho))*cos(k_1*z) - (4*B_r_1*C_r_1*c^2*k_1*rho*cos(h*k_1)*sin(h*k_1)*diff(E_r_r1(rho), rho) + 4*B_r_1*C_r_1*c^2*k_1*E_r_r1(rho)*cos(h*k_1)*sin(h*k_1) - 2*(2*B_z_1*C_z_1*epsilon_1*bessel_J(0, kappa*rho)*sin(h*k_1)^2 - B_z_1*C_z_1*epsilon_1*bessel_J(0, kappa*rho))*mu_1*omega^2 + (2*B_z_1*C_z_1*c^2*(bessel_J(2, kappa*rho) - bessel_J(0, kappa*rho))*sin(h*k_1)^2 - B_z_1*C_z_1*c^2*(bessel_J(2, kappa*rho) - bessel_J(0, kappa*rho)))*kappa^2*rho - 2*(2*B_z_1*C_z_1*c^2*bessel_J(1, kappa*rho)*sin(h*k_1)^2 - B_z_1*C_z_1*c^2*bessel_J(1, kappa*rho))*kappa)*sin(k_1*z))/((2*c^2*sin(h*k_1)^2 - c^2)*mu_1) == 0\n",
      "eq_rotH_ph_i=\n",
      "(-1/2*(2*(B_phi_1*C_p_1*kappa^2*rho*(bessel_J(2, kappa*rho) - bessel_J(0, kappa*rho))*cos(h*k_1)*sin(h*k_1) - 2*B_phi_1*C_p_1*k_1^2*bessel_J(0, kappa*rho)*cos(h*k_1)*sin(h*k_1) - 4*B_phi_1*C_p_1*kappa*bessel_J(1, kappa*rho)*cos(h*k_1)*sin(h*k_1))*cos(k_1*z) + (4*B_phi_1*C_p_1*k_1^2*bessel_J(0, kappa*rho)*cos(h*k_1)^2 - 2*B_phi_1*C_p_1*k_1^2*bessel_J(0, kappa*rho) - (2*B_phi_1*C_p_1*(bessel_J(2, kappa*rho) - bessel_J(0, kappa*rho))*cos(h*k_1)^2 - B_phi_1*C_p_1*(bessel_J(2, kappa*rho) - bessel_J(0, kappa*rho)))*kappa^2*rho + 4*(2*B_phi_1*C_p_1*bessel_J(1, kappa*rho)*cos(h*k_1)^2 - B_phi_1*C_p_1*bessel_J(1, kappa*rho))*kappa)*sin(k_1*z))/((2*cos(h*k_1)^2 - 1)*mu_1) == (2*B_phi_1*C_p_1*epsilon_1*omega^2*bessel_J(0, kappa*rho)*cos(h*k_1)*cos(k_1*z)*sin(h*k_1) - (2*B_phi_1*C_p_1*epsilon_1*bessel_J(0, kappa*rho)*cos(h*k_1)^2 - B_phi_1*C_p_1*epsilon_1*bessel_J(0, kappa*rho))*omega^2*sin(k_1*z))/(2*c^2*cos(h*k_1)^2 - c^2),)\n"
     ]
    }
   ],
   "source": [
    "res_rot_H = []\n",
    "eqs_rot_H = []\n",
    "\n",
    "for i in range(n_layers):\n",
    "    # .subs(solve(eq_kappa[i], omega^2))\n",
    "    eq_rotH_z_i = (eq_rotH_z [i]*(-I)*omega/c).subs(boundary_subs).subs(m == 0).full_simplify()\n",
    "    print(\"eq_rotH_z_i=\")\n",
    "    print(eq_rotH_z_i)#.subs((E_r_r[i](rh) == E_r_r_s[i](rh))))\n",
    "    eq_rotH_z_i_s = eq_rotH_z_i.subs(E_r_r[i](rh) == E_r_r_s[i](rh))\n",
    "    #print(\"eq_rotH_z_i_s=\")\n",
    "    #print(eq_rotH_z_i_s)\n",
    "    #display(Math(latex(eq_rotH_z_i)))\n",
    "    \n",
    "    \n",
    "    eq_rotH_ph_i = (eq_rotH_ph[i]*(-I)*omega/c).subs(boundary_subs).subs(m == 0).full_simplify(),\n",
    "    print(\"eq_rotH_ph_i=\")\n",
    "    print(eq_rotH_ph_i)\n",
    "\n",
    "    #res = desolve_system(des=eqs_rotH, vars=[E_r_r[i](rh), E_p_r[i](rh)], ivar=rh)\n",
    "    #print (res)"
   ]
  },
  {
   "cell_type": "code",
   "execution_count": 69,
   "metadata": {},
   "outputs": [],
   "source": [
    "E_rhs = []\n",
    "for i in range(n_layers):\n",
    "    E_rhs += [lambda rh,ph,z, i=i: E_r_r_s[i](rh=rh)*(B_r[i]*sin(k[i]*z)+A_r[i]*cos(k[i]*z))*(C_r[i]*cos(m*ph)+D_r[i]*sin(m*ph))]"
   ]
  },
  {
   "cell_type": "code",
   "execution_count": 70,
   "metadata": {},
   "outputs": [],
   "source": [
    "E_rho = []\n",
    "for i in range(n_layers):\n",
    "    exec(preparse(\"E_rho += [ lambda rh, ph, z, i=i : \" + str(E_rhs[i](rh,ph,z).subs(boundary_subs).full_simplify()) +\"]\"))"
   ]
  },
  {
   "cell_type": "code",
   "execution_count": 71,
   "metadata": {},
   "outputs": [],
   "source": [
    "E_phi = []\n",
    "for i in range(n_layers):\n",
    "    exec(preparse(\"E_phi += [ lambda rh, ph, z, i=i : \" + str(E_ph[i](rh,ph,z).subs(boundary_subs).full_simplify()) +\"]\"))"
   ]
  },
  {
   "cell_type": "code",
   "execution_count": 72,
   "metadata": {},
   "outputs": [],
   "source": [
    "E_zz = []\n",
    "for i in range(n_layers):\n",
    "    exec(preparse(\"E_zz += [ lambda rh, ph, z, i=i : \" + str(E_z[i](rh,ph,z).subs(boundary_subs).full_simplify()) +\"]\"))"
   ]
  },
  {
   "cell_type": "code",
   "execution_count": 73,
   "metadata": {},
   "outputs": [
    {
     "data": {
      "text/plain": [
       "-(B_z_1*C_z_1*k_1*bessel_J(1, kappa*rho)*cos(k_1*z) - A_z_1*C_z_1*k_1*bessel_J(1, kappa*rho)*sin(k_1*z))/kappa"
      ]
     },
     "execution_count": 73,
     "metadata": {},
     "output_type": "execute_result"
    }
   ],
   "source": [
    "E_rho[1](rh,ph,z).subs(m == 0).full_simplify()"
   ]
  },
  {
   "cell_type": "code",
   "execution_count": 74,
   "metadata": {},
   "outputs": [
    {
     "data": {
      "text/plain": [
       "-(B_z_1*C_z_1*k_1*bessel_J(1, kappa*rho)*cos(k_1*z) - A_z_1*C_z_1*k_1*bessel_J(1, kappa*rho)*sin(k_1*z))/kappa"
      ]
     },
     "execution_count": 74,
     "metadata": {},
     "output_type": "execute_result"
    }
   ],
   "source": [
    "E_rh[1](rh,ph,z).subs(E_r_r[1](rh) == E_r_r_s[1](rh)).subs(boundary_subs).subs(m == 0).full_simplify()"
   ]
  },
  {
   "cell_type": "code",
   "execution_count": 75,
   "metadata": {},
   "outputs": [],
   "source": [
    "rotE_rho = []\n",
    "for i in range(n_layers):\n",
    "    exec(preparse(\"rotE_rho += [lambda rh,ph,z, i=i: \" + str(E_zz[i](rh,ph,z).diff(ph)/rh - E_phi[i](rh,ph,z).diff(z)) +\"]\"))"
   ]
  },
  {
   "cell_type": "code",
   "execution_count": 76,
   "metadata": {},
   "outputs": [],
   "source": [
    "rotE_phi = []\n",
    "for i in range(n_layers):\n",
    "    exec(preparse(\"rotE_phi += [lambda rh,ph,z, i=i: \" + str(E_rho[i](rh,ph,z).diff(z)-E_zz[i](rh,ph,z).diff(rh)) +\"]\"))"
   ]
  },
  {
   "cell_type": "code",
   "execution_count": 77,
   "metadata": {},
   "outputs": [],
   "source": [
    "rotE_zz = []\n",
    "for i in range(n_layers):\n",
    "    exec(preparse(\"rotE_zz += [lambda rh,ph,z, i=i: \" + str((rh*E_phi[i](rh,ph,z)).diff(rh) - E_rho[i](rh,ph,z).diff(ph)) +\"]\"))"
   ]
  },
  {
   "cell_type": "code",
   "execution_count": 78,
   "metadata": {},
   "outputs": [],
   "source": [
    "H_rho = []\n",
    "for i in range(n_layers):\n",
    "    H_rho += [lambda rh,ph,z, i=i : rotE_rho[i](rh,ph,z)*c/(I*omega *mu[i])]"
   ]
  },
  {
   "cell_type": "code",
   "execution_count": 79,
   "metadata": {},
   "outputs": [],
   "source": [
    "H_phi = []\n",
    "for i in range(n_layers):\n",
    "    H_phi += [lambda rh,ph,z, i=i : rotE_phi[i](rh,ph,z)*c/(I*omega *mu[i])]"
   ]
  },
  {
   "cell_type": "code",
   "execution_count": 80,
   "metadata": {},
   "outputs": [],
   "source": [
    "H_zz = []\n",
    "for i in range(n_layers):\n",
    "    H_zz += [lambda rh,ph,z, i=i : rotE_zz[i](rh,ph,z)*c/(I*omega *mu[i])]"
   ]
  },
  {
   "cell_type": "code",
   "execution_count": 81,
   "metadata": {},
   "outputs": [],
   "source": [
    "rotH_phi = []\n",
    "for i in range(n_layers):\n",
    "    exec(preparse(\"rotH_phi += [lambda rh,ph,z, i=i: \" + str(H_rho[i](rh,ph,z).diff(z)-H_zz[i](rh,ph,z).diff(rh)) +\"]\"))"
   ]
  },
  {
   "cell_type": "code",
   "execution_count": 82,
   "metadata": {},
   "outputs": [],
   "source": [
    "rotH_rho = []\n",
    "for i in range(n_layers):\n",
    "    exec(preparse(\"rotH_rho += [lambda rh,ph,z, i=i : \" + str(H_zz[i](rh,ph,z).diff(ph)/rh - H_phi[i](rh,ph,z).diff(z)) + \"]\"))"
   ]
  },
  {
   "cell_type": "code",
   "execution_count": 83,
   "metadata": {},
   "outputs": [],
   "source": [
    "rotH_zz = []\n",
    "for i in range(n_layers):\n",
    "    exec(preparse(\"rotH_zz += [lambda rh,ph,z, i=i : \"+ str((rh * H_phi[i](rh,ph,z)).diff(rh) - H_rho[i](rh,ph,z).diff(ph)) + \"]\"))"
   ]
  },
  {
   "cell_type": "code",
   "execution_count": 84,
   "metadata": {},
   "outputs": [],
   "source": [
    "eq_rotH_phi = []\n",
    "for i in range(n_layers):\n",
    "    eq_rotH_phi += [rotH_phi[i](rh,ph,z) == -I * omega / c * epsilon[i] * E_phi[i](rh,ph,z) ]"
   ]
  },
  {
   "cell_type": "code",
   "execution_count": 85,
   "metadata": {},
   "outputs": [],
   "source": [
    "eq_rotH_rho = []\n",
    "for i in range(n_layers):\n",
    "    eq_rotH_rho += [rotH_rho[i](rh,ph,z) == -I * omega / c * epsilon[i] * E_rho[i](rh,ph,z) ]"
   ]
  },
  {
   "cell_type": "code",
   "execution_count": 86,
   "metadata": {},
   "outputs": [],
   "source": [
    "eq_rotH_zz = []\n",
    "for i in range(n_layers):\n",
    "    eq_rotH_zz += [rotH_z[i](rh,ph,z) - I * omega / c * epsilon[i] * E_zz[i](rh,ph,z) == 0]"
   ]
  },
  {
   "cell_type": "code",
   "execution_count": 87,
   "metadata": {},
   "outputs": [],
   "source": [
    "def rot_H_solve(M_rotH, vars, eq_kappa, k):\n",
    "    #print(\"M_rotH =\")\n",
    "    #display(Math(latex(M_rotH)))\n",
    "    \n",
    "    if (M_rotH.nrows() != 3):\n",
    "        return\n",
    "    if (M_rotH.ncols() != len(vars)):\n",
    "        return\n",
    "    xx = vector(SR, vars)\n",
    "    yy = vector(SR, [0, 0, 0])\n",
    "    #print(\"eqns =\")\n",
    "    eqns = [(M_rotH*xx)[index] == yy[index] for index in [0,1,2]]\n",
    "    #display(Math(latex(eqns)))\n",
    "    res = []\n",
    "\n",
    "    for index in [0,1,2]:\n",
    "        row_M = M_rotH[index]\n",
    "        #print(\"row_M =\")\n",
    "        #display(Math(latex(row_M)))\n",
    "        eq = eqns[index].full_simplify()\n",
    "        #print (\"eq =\")\n",
    "        #display(Math(latex(eq)))\n",
    "        #print (\"\")\n",
    "        \n",
    "        eq2 = (eq / cos(k * z)).full_simplify().expand()\n",
    "        #print (\"eq2 =\")\n",
    "        #display(Math(latex(eq2)))\n",
    "        \n",
    "        tg_k_z_coeff = eq2.lhs().coefficient(sin(k * z) / cos(k * z))\n",
    "        #print (\"tg_k_z_coeff =\")\n",
    "        #display(Math(latex(tg_k_z_coeff)))\n",
    "        \n",
    "        eq_tg_k_z_coeff = tg_k_z_coeff == 0\n",
    "        for var in vars:\n",
    "            #print (\"var =\")\n",
    "            #display(Math(latex(var)))\n",
    "            sol_tg_k_z_coeff = solve(eq_tg_k_z_coeff, var)\n",
    "            #print(\"sol_tg_k_z_coeff=\")\n",
    "            #display(Math(latex(sol_tg_k_z_coeff)))\n",
    "            if len(sol_tg_k_z_coeff) > 0:\n",
    "                res += sol_tg_k_z_coeff           \n",
    "            \n",
    "                eq4 = eq.subs(sol_tg_k_z_coeff)\n",
    "                #print (\"eq4 =\")\n",
    "                #display(Math(latex(eq4)))\n",
    "\n",
    "                eq4 = eq4.full_simplify()\n",
    "                #print (\"eq4 =\")\n",
    "                #display(Math(latex(eq4)))\n",
    "\n",
    "                for var in vars:\n",
    "                    #print (\"var =\")\n",
    "                    #display(Math(latex(var)))\n",
    "                    #print (\"\")\n",
    "                    sol = solve(eq4, var)\n",
    "                    #print(\"sol=\")\n",
    "                    #display(Math(latex(sol)))\n",
    "                    #print (\"\")\n",
    "                    res += sol\n",
    "    #print (\"res=\", res)\n",
    "    return res"
   ]
  },
  {
   "cell_type": "code",
   "execution_count": 88,
   "metadata": {},
   "outputs": [],
   "source": [
    "def GenerateMatrix(equsys, vars):\n",
    "    A=matrix(SR, [[(equ.lhs() - equ.rhs()).coefficient(v) for v in vars] for equ in equsys])\n",
    "    return A"
   ]
  },
  {
   "cell_type": "code",
   "execution_count": 89,
   "metadata": {},
   "outputs": [
    {
     "data": {
      "text/latex": [
       "$$\\left[A_{z_{0}}, B_{r_{0}}, B_{\\phi_{0}}, B_{z_{0}}\\right]$$"
      ],
      "text/plain": [
       "<IPython.core.display.Math object>"
      ]
     },
     "metadata": {},
     "output_type": "display_data"
    },
    {
     "name": "stdout",
     "output_type": "stream",
     "text": [
      "M_rotH.nrows = 3\n",
      "M_rotH.ncols = 4\n",
      "M_rotH.rank = 3\n"
     ]
    },
    {
     "data": {
      "text/latex": [
       "$$\\left[A_{z_{1}}, B_{r_{1}}, B_{\\phi_{1}}, B_{z_{1}}\\right]$$"
      ],
      "text/plain": [
       "<IPython.core.display.Math object>"
      ]
     },
     "metadata": {},
     "output_type": "display_data"
    },
    {
     "name": "stdout",
     "output_type": "stream",
     "text": [
      "M_rotH.nrows = 3\n",
      "M_rotH.ncols = 4\n",
      "M_rotH.rank = 3\n"
     ]
    }
   ],
   "source": [
    "res_rot_H = []\n",
    "eqs_rot_H = []\n",
    "for i in range(n_layers):\n",
    "    eqs_rotH = [(eq_rotH_rho[i]*(-I)*omega/c).subs(solve(eq_kappa[i], omega^2)).subs(boundary_subs).full_simplify(),\n",
    "                (eq_rotH_phi[i]*(-I)*omega/c).subs(solve(eq_kappa[i], omega^2)).subs(boundary_subs).full_simplify(),\n",
    "                (eq_rotH_zz [i]*(-I)*omega/c).subs(solve(eq_kappa[i], omega^2)).subs(boundary_subs).full_simplify(),\n",
    "               ]\n",
    "    eqs_rot_H += eqs_rotH\n",
    "\n",
    "    #print(\"eq_rot_H_rho = \")\n",
    "    #display(Math(latex(eqs_rotH[0])))\n",
    "    #print(\"eq_rot_H_z = \")\n",
    "    #display(Math(latex(eqs_rotH[1])))\n",
    "    #print(\"\")\n",
    "    \n",
    "    #display(Math(latex(eq_kappa[i])))\n",
    "    \n",
    "    vars_dielectric = [A_r[i], A_p[i], A_z[i], B_r[i], B_p[i], B_z[i]]\n",
    "    \n",
    "    vars_dielectric = [var for var in vars_dielectric if var not in exclude_vars]\n",
    "    display(Math(latex(vars_dielectric)))\n",
    "    M_rotH = GenerateMatrix(eqs_rotH, vars_dielectric)\n",
    "    #print (\"M_rotH =\")\n",
    "    #display(Math(latex(M_rotH)))\n",
    "    print (\"M_rotH.nrows =\", M_rotH.nrows())\n",
    "    print (\"M_rotH.ncols =\", M_rotH.ncols())\n",
    "    print (\"M_rotH.rank =\", M_rotH.rank())\n",
    "    \n",
    "    res_rot_H += rot_H_solve(M_rotH, vars_dielectric, eq_kappa[i], k[i])"
   ]
  },
  {
   "cell_type": "code",
   "execution_count": 90,
   "metadata": {
    "scrolled": false
   },
   "outputs": [],
   "source": [
    "#display(Math(latex(res_rot_H)))"
   ]
  },
  {
   "cell_type": "code",
   "execution_count": 91,
   "metadata": {},
   "outputs": [
    {
     "data": {
      "text/plain": [
       "[A_z_0, B_r_0, B_phi_0, B_z_0, A_z_1, B_r_1, B_phi_1, B_z_1]"
      ]
     },
     "execution_count": 91,
     "metadata": {},
     "output_type": "execute_result"
    }
   ],
   "source": [
    "all_vars = []\n",
    "for i in range(n_layers):\n",
    "    all_vars += [A_r[i], A_p[i], A_z[i], B_r[i], B_p[i], B_z[i]]\n",
    "    \n",
    "all_vars = [var for var in all_vars if var not in exclude_vars]\n",
    "all_vars"
   ]
  },
  {
   "cell_type": "code",
   "execution_count": 92,
   "metadata": {},
   "outputs": [
    {
     "data": {
      "text/latex": [
       "$$\\left(\\begin{array}{rrrrrrrr}\n",
       "1 & 0 & \\frac{{\\left(2 \\, C_{r_{0}} D_{p_{0}} \\kappa m J_{m}(\\kappa \\rho) - {\\left(C_{r_{0}} D_{p_{0}} \\kappa^{2} m J_{m + 1}(\\kappa \\rho) - C_{r_{0}} D_{p_{0}} \\kappa^{2} m J_{m - 1}(\\kappa \\rho)\\right)} \\rho\\right)} \\cos\\left(m \\varphi\\right) - {\\left(2 \\, C_{p_{0}} C_{r_{0}} \\kappa m J_{m}(\\kappa \\rho) - {\\left(C_{p_{0}} C_{r_{0}} \\kappa^{2} m J_{m + 1}(\\kappa \\rho) - C_{p_{0}} C_{r_{0}} \\kappa^{2} m J_{m - 1}(\\kappa \\rho)\\right)} \\rho\\right)} \\sin\\left(m \\varphi\\right)}{{\\left(2 \\, C_{r_{0}} C_{z_{0}} k_{0} m^{2} J_{1}(\\kappa \\rho) - {\\left(2 \\, C_{r_{0}} C_{z_{0}} k_{0} \\kappa^{2} J_{1}(\\kappa \\rho) - C_{r_{0}} C_{z_{0}} k_{0} \\kappa^{2} J_{m + 1}(\\kappa \\rho) + C_{r_{0}} C_{z_{0}} k_{0} \\kappa^{2} J_{m - 1}(\\kappa \\rho)\\right)} \\rho\\right)} \\cos\\left(m \\varphi\\right) + {\\left(2 \\, C_{z_{0}} D_{r_{0}} k_{0} m^{2} J_{1}(\\kappa \\rho) - {\\left(2 \\, C_{z_{0}} D_{r_{0}} k_{0} \\kappa^{2} J_{1}(\\kappa \\rho) - C_{r_{0}} D_{z_{0}} k_{0} \\kappa^{2} J_{m + 1}(\\kappa \\rho) + C_{r_{0}} D_{z_{0}} k_{0} \\kappa^{2} J_{m - 1}(\\kappa \\rho)\\right)} \\rho\\right)} \\sin\\left(m \\varphi\\right)} & 0 & 0 & 0 & 0 & 0 \\\\\n",
       "0 & 0 & 0 & 1 & 0 & 0 & 0 & 0 \\\\\n",
       "\\frac{{\\left(2 \\, C_{r_{0}} C_{z_{0}} k_{0} m^{2} J_{1}(\\kappa \\rho) - {\\left(2 \\, C_{r_{0}} C_{z_{0}} k_{0} \\kappa^{2} J_{1}(\\kappa \\rho) - C_{r_{0}} C_{z_{0}} k_{0} \\kappa^{2} J_{m + 1}(\\kappa \\rho) + C_{r_{0}} C_{z_{0}} k_{0} \\kappa^{2} J_{m - 1}(\\kappa \\rho)\\right)} \\rho\\right)} \\cos\\left(m \\varphi\\right) + {\\left(2 \\, C_{z_{0}} D_{r_{0}} k_{0} m^{2} J_{1}(\\kappa \\rho) - {\\left(2 \\, C_{z_{0}} D_{r_{0}} k_{0} \\kappa^{2} J_{1}(\\kappa \\rho) - C_{r_{0}} D_{z_{0}} k_{0} \\kappa^{2} J_{m + 1}(\\kappa \\rho) + C_{r_{0}} D_{z_{0}} k_{0} \\kappa^{2} J_{m - 1}(\\kappa \\rho)\\right)} \\rho\\right)} \\sin\\left(m \\varphi\\right)}{{\\left(2 \\, C_{r_{0}} D_{p_{0}} \\kappa m J_{m}(\\kappa \\rho) - {\\left(C_{r_{0}} D_{p_{0}} \\kappa^{2} m J_{m + 1}(\\kappa \\rho) - C_{r_{0}} D_{p_{0}} \\kappa^{2} m J_{m - 1}(\\kappa \\rho)\\right)} \\rho\\right)} \\cos\\left(m \\varphi\\right) - {\\left(2 \\, C_{p_{0}} C_{r_{0}} \\kappa m J_{m}(\\kappa \\rho) - {\\left(C_{p_{0}} C_{r_{0}} \\kappa^{2} m J_{m + 1}(\\kappa \\rho) - C_{p_{0}} C_{r_{0}} \\kappa^{2} m J_{m - 1}(\\kappa \\rho)\\right)} \\rho\\right)} \\sin\\left(m \\varphi\\right)} & 0 & 1 & 0 & 0 & 0 & 0 & 0 \\\\\n",
       "0 & 0 & 0 & 1 & 0 & 0 & 0 & 0 \\\\\n",
       "1 & 0 & \\frac{{\\left({\\left(C_{p_{0}} C_{r_{0}} \\kappa^{2} J_{m + 2}(\\kappa \\rho) + C_{p_{0}} C_{r_{0}} \\kappa^{2} J_{m - 2}(\\kappa \\rho) - 2 \\, C_{p_{0}} C_{r_{0}} \\kappa^{2} J_{m}(\\kappa \\rho)\\right)} \\rho^{2} + 4 \\, {\\left(C_{p_{0}} C_{r_{0}} \\kappa^{2} J_{m}(\\kappa \\rho) - C_{p_{0}} C_{r_{0}} \\kappa J_{m + 1}(\\kappa \\rho) + C_{p_{0}} C_{r_{0}} \\kappa J_{m - 1}(\\kappa \\rho)\\right)} \\rho\\right)} \\cos\\left(m \\varphi\\right) + {\\left({\\left(C_{r_{0}} D_{p_{0}} \\kappa^{2} J_{m + 2}(\\kappa \\rho) + C_{r_{0}} D_{p_{0}} \\kappa^{2} J_{m - 2}(\\kappa \\rho) - 2 \\, C_{r_{0}} D_{p_{0}} \\kappa^{2} J_{m}(\\kappa \\rho)\\right)} \\rho^{2} + 4 \\, {\\left(C_{r_{0}} D_{p_{0}} \\kappa^{2} J_{m}(\\kappa \\rho) - C_{r_{0}} D_{p_{0}} \\kappa J_{m + 1}(\\kappa \\rho) + C_{r_{0}} D_{p_{0}} \\kappa J_{m - 1}(\\kappa \\rho)\\right)} \\rho\\right)} \\sin\\left(m \\varphi\\right)}{2 \\, {\\left({\\left(C_{z_{0}} D_{r_{0}} k_{0} m \\rho {\\left(J_{2}(\\kappa \\rho) - J_{0}(\\kappa \\rho)\\right)} + 2 \\, C_{r_{0}} D_{z_{0}} k_{0} m J_{m}(\\kappa \\rho)\\right)} \\cos\\left(m \\varphi\\right) - {\\left(C_{r_{0}} C_{z_{0}} k_{0} m \\rho {\\left(J_{2}(\\kappa \\rho) - J_{0}(\\kappa \\rho)\\right)} + 2 \\, C_{r_{0}} C_{z_{0}} k_{0} m J_{m}(\\kappa \\rho)\\right)} \\sin\\left(m \\varphi\\right)\\right)}} & 0 & 0 & 0 & 0 & 0 \\\\\n",
       "0 & 0 & 0 & 1 & 0 & 0 & 0 & 0 \\\\\n",
       "\\frac{2 \\, {\\left({\\left(C_{z_{0}} D_{r_{0}} k_{0} m \\rho {\\left(J_{2}(\\kappa \\rho) - J_{0}(\\kappa \\rho)\\right)} + 2 \\, C_{r_{0}} D_{z_{0}} k_{0} m J_{m}(\\kappa \\rho)\\right)} \\cos\\left(m \\varphi\\right) - {\\left(C_{r_{0}} C_{z_{0}} k_{0} m \\rho {\\left(J_{2}(\\kappa \\rho) - J_{0}(\\kappa \\rho)\\right)} + 2 \\, C_{r_{0}} C_{z_{0}} k_{0} m J_{m}(\\kappa \\rho)\\right)} \\sin\\left(m \\varphi\\right)\\right)}}{{\\left({\\left(C_{p_{0}} C_{r_{0}} \\kappa^{2} J_{m + 2}(\\kappa \\rho) + C_{p_{0}} C_{r_{0}} \\kappa^{2} J_{m - 2}(\\kappa \\rho) - 2 \\, C_{p_{0}} C_{r_{0}} \\kappa^{2} J_{m}(\\kappa \\rho)\\right)} \\rho^{2} + 4 \\, {\\left(C_{p_{0}} C_{r_{0}} \\kappa^{2} J_{m}(\\kappa \\rho) - C_{p_{0}} C_{r_{0}} \\kappa J_{m + 1}(\\kappa \\rho) + C_{p_{0}} C_{r_{0}} \\kappa J_{m - 1}(\\kappa \\rho)\\right)} \\rho\\right)} \\cos\\left(m \\varphi\\right) + {\\left({\\left(C_{r_{0}} D_{p_{0}} \\kappa^{2} J_{m + 2}(\\kappa \\rho) + C_{r_{0}} D_{p_{0}} \\kappa^{2} J_{m - 2}(\\kappa \\rho) - 2 \\, C_{r_{0}} D_{p_{0}} \\kappa^{2} J_{m}(\\kappa \\rho)\\right)} \\rho^{2} + 4 \\, {\\left(C_{r_{0}} D_{p_{0}} \\kappa^{2} J_{m}(\\kappa \\rho) - C_{r_{0}} D_{p_{0}} \\kappa J_{m + 1}(\\kappa \\rho) + C_{r_{0}} D_{p_{0}} \\kappa J_{m - 1}(\\kappa \\rho)\\right)} \\rho\\right)} \\sin\\left(m \\varphi\\right)} & 0 & 1 & 0 & 0 & 0 & 0 & 0 \\\\\n",
       "0 & 0 & 0 & 1 & 0 & 0 & 0 & 0 \\\\\n",
       "0 & 0 & 0 & 1 & 0 & 0 & 0 & 0 \\\\\n",
       "1 & \\frac{4 \\, {\\left({\\left(C_{r_{0}} c^{2} k_{0} \\rho^{2} \\frac{\\partial}{\\partial \\rho}E_{r_{r_{0}}}\\left(\\rho\\right) + C_{r_{0}} c^{2} k_{0} \\rho E_{r_{r_{0}}}\\left(\\rho\\right)\\right)} \\cos\\left(m \\varphi\\right) + {\\left(D_{r_{0}} c^{2} k_{0} \\rho^{2} \\frac{\\partial}{\\partial \\rho}E_{r_{r_{0}}}\\left(\\rho\\right) + D_{r_{0}} c^{2} k_{0} \\rho E_{r_{r_{0}}}\\left(\\rho\\right)\\right)} \\sin\\left(m \\varphi\\right)\\right)}}{{\\left(4 \\, C_{z_{0}} c^{2} m^{2} J_{m}(\\kappa \\rho) - {\\left(C_{z_{0}} c^{2} \\kappa^{2} J_{m + 2}(\\kappa \\rho) + C_{z_{0}} c^{2} \\kappa^{2} J_{m - 2}(\\kappa \\rho) - 2 \\, C_{z_{0}} c^{2} \\kappa^{2} J_{m}(\\kappa \\rho)\\right)} \\rho^{2} + 2 \\, {\\left(2 \\, C_{z_{0}} \\epsilon_{0} \\mu_{0} \\omega^{2} J_{m}(\\kappa \\rho) + C_{z_{0}} c^{2} \\kappa J_{m + 1}(\\kappa \\rho) - C_{z_{0}} c^{2} \\kappa J_{m - 1}(\\kappa \\rho)\\right)} \\rho\\right)} \\cos\\left(m \\varphi\\right) + {\\left(4 \\, D_{z_{0}} c^{2} m^{2} J_{m}(\\kappa \\rho) - {\\left(D_{z_{0}} c^{2} \\kappa^{2} J_{m + 2}(\\kappa \\rho) + D_{z_{0}} c^{2} \\kappa^{2} J_{m - 2}(\\kappa \\rho) - 2 \\, D_{z_{0}} c^{2} \\kappa^{2} J_{m}(\\kappa \\rho)\\right)} \\rho^{2} + 2 \\, {\\left(2 \\, D_{z_{0}} \\epsilon_{0} \\mu_{0} \\omega^{2} J_{m}(\\kappa \\rho) + D_{z_{0}} c^{2} \\kappa J_{m + 1}(\\kappa \\rho) - D_{z_{0}} c^{2} \\kappa J_{m - 1}(\\kappa \\rho)\\right)} \\rho\\right)} \\sin\\left(m \\varphi\\right)} & \\frac{4 \\, {\\left(D_{p_{0}} c^{2} k_{0} m \\rho J_{m}(\\kappa \\rho) \\cos\\left(m \\varphi\\right) - C_{p_{0}} c^{2} k_{0} m \\rho J_{m}(\\kappa \\rho) \\sin\\left(m \\varphi\\right)\\right)}}{{\\left(4 \\, C_{z_{0}} c^{2} m^{2} J_{m}(\\kappa \\rho) - {\\left(C_{z_{0}} c^{2} \\kappa^{2} J_{m + 2}(\\kappa \\rho) + C_{z_{0}} c^{2} \\kappa^{2} J_{m - 2}(\\kappa \\rho) - 2 \\, C_{z_{0}} c^{2} \\kappa^{2} J_{m}(\\kappa \\rho)\\right)} \\rho^{2} + 2 \\, {\\left(2 \\, C_{z_{0}} \\epsilon_{0} \\mu_{0} \\omega^{2} J_{m}(\\kappa \\rho) + C_{z_{0}} c^{2} \\kappa J_{m + 1}(\\kappa \\rho) - C_{z_{0}} c^{2} \\kappa J_{m - 1}(\\kappa \\rho)\\right)} \\rho\\right)} \\cos\\left(m \\varphi\\right) + {\\left(4 \\, D_{z_{0}} c^{2} m^{2} J_{m}(\\kappa \\rho) - {\\left(D_{z_{0}} c^{2} \\kappa^{2} J_{m + 2}(\\kappa \\rho) + D_{z_{0}} c^{2} \\kappa^{2} J_{m - 2}(\\kappa \\rho) - 2 \\, D_{z_{0}} c^{2} \\kappa^{2} J_{m}(\\kappa \\rho)\\right)} \\rho^{2} + 2 \\, {\\left(2 \\, D_{z_{0}} \\epsilon_{0} \\mu_{0} \\omega^{2} J_{m}(\\kappa \\rho) + D_{z_{0}} c^{2} \\kappa J_{m + 1}(\\kappa \\rho) - D_{z_{0}} c^{2} \\kappa J_{m - 1}(\\kappa \\rho)\\right)} \\rho\\right)} \\sin\\left(m \\varphi\\right)} & 0 & 0 & 0 & 0 & 0 \\\\\n",
       "\\frac{{\\left(4 \\, C_{z_{0}} c^{2} m^{2} J_{m}(\\kappa \\rho) - {\\left(C_{z_{0}} c^{2} \\kappa^{2} J_{m + 2}(\\kappa \\rho) + C_{z_{0}} c^{2} \\kappa^{2} J_{m - 2}(\\kappa \\rho) - 2 \\, C_{z_{0}} c^{2} \\kappa^{2} J_{m}(\\kappa \\rho)\\right)} \\rho^{2} + 2 \\, {\\left(2 \\, C_{z_{0}} \\epsilon_{0} \\mu_{0} \\omega^{2} J_{m}(\\kappa \\rho) + C_{z_{0}} c^{2} \\kappa J_{m + 1}(\\kappa \\rho) - C_{z_{0}} c^{2} \\kappa J_{m - 1}(\\kappa \\rho)\\right)} \\rho\\right)} \\cos\\left(m \\varphi\\right) + {\\left(4 \\, D_{z_{0}} c^{2} m^{2} J_{m}(\\kappa \\rho) - {\\left(D_{z_{0}} c^{2} \\kappa^{2} J_{m + 2}(\\kappa \\rho) + D_{z_{0}} c^{2} \\kappa^{2} J_{m - 2}(\\kappa \\rho) - 2 \\, D_{z_{0}} c^{2} \\kappa^{2} J_{m}(\\kappa \\rho)\\right)} \\rho^{2} + 2 \\, {\\left(2 \\, D_{z_{0}} \\epsilon_{0} \\mu_{0} \\omega^{2} J_{m}(\\kappa \\rho) + D_{z_{0}} c^{2} \\kappa J_{m + 1}(\\kappa \\rho) - D_{z_{0}} c^{2} \\kappa J_{m - 1}(\\kappa \\rho)\\right)} \\rho\\right)} \\sin\\left(m \\varphi\\right)}{4 \\, {\\left({\\left(C_{r_{0}} c^{2} k_{0} \\rho^{2} \\frac{\\partial}{\\partial \\rho}E_{r_{r_{0}}}\\left(\\rho\\right) + C_{r_{0}} c^{2} k_{0} \\rho E_{r_{r_{0}}}\\left(\\rho\\right)\\right)} \\cos\\left(m \\varphi\\right) + {\\left(D_{r_{0}} c^{2} k_{0} \\rho^{2} \\frac{\\partial}{\\partial \\rho}E_{r_{r_{0}}}\\left(\\rho\\right) + D_{r_{0}} c^{2} k_{0} \\rho E_{r_{r_{0}}}\\left(\\rho\\right)\\right)} \\sin\\left(m \\varphi\\right)\\right)}} & 1 & \\frac{D_{p_{0}} c^{2} k_{0} m \\rho J_{m}(\\kappa \\rho) \\cos\\left(m \\varphi\\right) - C_{p_{0}} c^{2} k_{0} m \\rho J_{m}(\\kappa \\rho) \\sin\\left(m \\varphi\\right)}{{\\left(C_{r_{0}} c^{2} k_{0} \\rho^{2} \\frac{\\partial}{\\partial \\rho}E_{r_{r_{0}}}\\left(\\rho\\right) + C_{r_{0}} c^{2} k_{0} \\rho E_{r_{r_{0}}}\\left(\\rho\\right)\\right)} \\cos\\left(m \\varphi\\right) + {\\left(D_{r_{0}} c^{2} k_{0} \\rho^{2} \\frac{\\partial}{\\partial \\rho}E_{r_{r_{0}}}\\left(\\rho\\right) + D_{r_{0}} c^{2} k_{0} \\rho E_{r_{r_{0}}}\\left(\\rho\\right)\\right)} \\sin\\left(m \\varphi\\right)} & 0 & 0 & 0 & 0 & 0 \\\\\n",
       "\\frac{{\\left(4 \\, C_{z_{0}} c^{2} m^{2} J_{m}(\\kappa \\rho) - {\\left(C_{z_{0}} c^{2} \\kappa^{2} J_{m + 2}(\\kappa \\rho) + C_{z_{0}} c^{2} \\kappa^{2} J_{m - 2}(\\kappa \\rho) - 2 \\, C_{z_{0}} c^{2} \\kappa^{2} J_{m}(\\kappa \\rho)\\right)} \\rho^{2} + 2 \\, {\\left(2 \\, C_{z_{0}} \\epsilon_{0} \\mu_{0} \\omega^{2} J_{m}(\\kappa \\rho) + C_{z_{0}} c^{2} \\kappa J_{m + 1}(\\kappa \\rho) - C_{z_{0}} c^{2} \\kappa J_{m - 1}(\\kappa \\rho)\\right)} \\rho\\right)} \\cos\\left(m \\varphi\\right) + {\\left(4 \\, D_{z_{0}} c^{2} m^{2} J_{m}(\\kappa \\rho) - {\\left(D_{z_{0}} c^{2} \\kappa^{2} J_{m + 2}(\\kappa \\rho) + D_{z_{0}} c^{2} \\kappa^{2} J_{m - 2}(\\kappa \\rho) - 2 \\, D_{z_{0}} c^{2} \\kappa^{2} J_{m}(\\kappa \\rho)\\right)} \\rho^{2} + 2 \\, {\\left(2 \\, D_{z_{0}} \\epsilon_{0} \\mu_{0} \\omega^{2} J_{m}(\\kappa \\rho) + D_{z_{0}} c^{2} \\kappa J_{m + 1}(\\kappa \\rho) - D_{z_{0}} c^{2} \\kappa J_{m - 1}(\\kappa \\rho)\\right)} \\rho\\right)} \\sin\\left(m \\varphi\\right)}{4 \\, {\\left(D_{p_{0}} c^{2} k_{0} m \\rho J_{m}(\\kappa \\rho) \\cos\\left(m \\varphi\\right) - C_{p_{0}} c^{2} k_{0} m \\rho J_{m}(\\kappa \\rho) \\sin\\left(m \\varphi\\right)\\right)}} & \\frac{{\\left(C_{r_{0}} c^{2} k_{0} \\rho^{2} \\frac{\\partial}{\\partial \\rho}E_{r_{r_{0}}}\\left(\\rho\\right) + C_{r_{0}} c^{2} k_{0} \\rho E_{r_{r_{0}}}\\left(\\rho\\right)\\right)} \\cos\\left(m \\varphi\\right) + {\\left(D_{r_{0}} c^{2} k_{0} \\rho^{2} \\frac{\\partial}{\\partial \\rho}E_{r_{r_{0}}}\\left(\\rho\\right) + D_{r_{0}} c^{2} k_{0} \\rho E_{r_{r_{0}}}\\left(\\rho\\right)\\right)} \\sin\\left(m \\varphi\\right)}{D_{p_{0}} c^{2} k_{0} m \\rho J_{m}(\\kappa \\rho) \\cos\\left(m \\varphi\\right) - C_{p_{0}} c^{2} k_{0} m \\rho J_{m}(\\kappa \\rho) \\sin\\left(m \\varphi\\right)} & 1 & 0 & 0 & 0 & 0 & 0 \\\\\n",
       "0 & 0 & 0 & 0 & 1 & 0 & -\\frac{{\\left(2 \\, {\\left(2 \\, C_{r_{1}} D_{p_{1}} \\cos\\left(h k_{1}\\right)^{2} - C_{r_{1}} D_{p_{1}}\\right)} \\kappa m J_{m}(\\kappa \\rho) - {\\left({\\left(2 \\, C_{r_{1}} D_{p_{1}} \\cos\\left(h k_{1}\\right)^{2} - C_{r_{1}} D_{p_{1}}\\right)} \\kappa^{2} m J_{m + 1}(\\kappa \\rho) - {\\left(2 \\, C_{r_{1}} D_{p_{1}} \\cos\\left(h k_{1}\\right)^{2} - C_{r_{1}} D_{p_{1}}\\right)} \\kappa^{2} m J_{m - 1}(\\kappa \\rho)\\right)} \\rho\\right)} \\cos\\left(m \\varphi\\right) - {\\left(2 \\, {\\left(2 \\, C_{p_{1}} C_{r_{1}} \\cos\\left(h k_{1}\\right)^{2} - C_{p_{1}} C_{r_{1}}\\right)} \\kappa m J_{m}(\\kappa \\rho) - {\\left({\\left(2 \\, C_{p_{1}} C_{r_{1}} \\cos\\left(h k_{1}\\right)^{2} - C_{p_{1}} C_{r_{1}}\\right)} \\kappa^{2} m J_{m + 1}(\\kappa \\rho) - {\\left(2 \\, C_{p_{1}} C_{r_{1}} \\cos\\left(h k_{1}\\right)^{2} - C_{p_{1}} C_{r_{1}}\\right)} \\kappa^{2} m J_{m - 1}(\\kappa \\rho)\\right)} \\rho\\right)} \\sin\\left(m \\varphi\\right)}{{\\left(2 \\, {\\left(2 \\, C_{r_{1}} C_{z_{1}} k_{1} J_{1}(\\kappa \\rho) \\sin\\left(h k_{1}\\right)^{2} - C_{r_{1}} C_{z_{1}} k_{1} J_{1}(\\kappa \\rho)\\right)} m^{2} + {\\left({\\left(2 \\, C_{r_{1}} C_{z_{1}} k_{1} \\sin\\left(h k_{1}\\right)^{2} - C_{r_{1}} C_{z_{1}} k_{1}\\right)} \\kappa^{2} J_{m + 1}(\\kappa \\rho) - {\\left(2 \\, C_{r_{1}} C_{z_{1}} k_{1} \\sin\\left(h k_{1}\\right)^{2} - C_{r_{1}} C_{z_{1}} k_{1}\\right)} \\kappa^{2} J_{m - 1}(\\kappa \\rho) - 2 \\, {\\left(2 \\, C_{r_{1}} C_{z_{1}} k_{1} J_{1}(\\kappa \\rho) \\sin\\left(h k_{1}\\right)^{2} - C_{r_{1}} C_{z_{1}} k_{1} J_{1}(\\kappa \\rho)\\right)} \\kappa^{2}\\right)} \\rho\\right)} \\cos\\left(m \\varphi\\right) + {\\left(2 \\, {\\left(2 \\, C_{z_{1}} D_{r_{1}} k_{1} J_{1}(\\kappa \\rho) \\sin\\left(h k_{1}\\right)^{2} - C_{z_{1}} D_{r_{1}} k_{1} J_{1}(\\kappa \\rho)\\right)} m^{2} + {\\left({\\left(2 \\, C_{r_{1}} D_{z_{1}} k_{1} \\sin\\left(h k_{1}\\right)^{2} - C_{r_{1}} D_{z_{1}} k_{1}\\right)} \\kappa^{2} J_{m + 1}(\\kappa \\rho) - {\\left(2 \\, C_{r_{1}} D_{z_{1}} k_{1} \\sin\\left(h k_{1}\\right)^{2} - C_{r_{1}} D_{z_{1}} k_{1}\\right)} \\kappa^{2} J_{m - 1}(\\kappa \\rho) - 2 \\, {\\left(2 \\, C_{z_{1}} D_{r_{1}} k_{1} J_{1}(\\kappa \\rho) \\sin\\left(h k_{1}\\right)^{2} - C_{z_{1}} D_{r_{1}} k_{1} J_{1}(\\kappa \\rho)\\right)} \\kappa^{2}\\right)} \\rho\\right)} \\sin\\left(m \\varphi\\right)} & 0 \\\\\n",
       "0 & 0 & 0 & 0 & 0 & 0 & 1 & \\frac{{\\left(2 \\, {\\left(2 \\, C_{r_{1}} C_{z_{1}} k_{1} J_{1}(\\kappa \\rho) \\cos\\left(h k_{1}\\right)^{2} - C_{r_{1}} C_{z_{1}} k_{1} J_{1}(\\kappa \\rho)\\right)} m^{2} + {\\left({\\left(2 \\, C_{r_{1}} C_{z_{1}} k_{1} \\cos\\left(h k_{1}\\right)^{2} - C_{r_{1}} C_{z_{1}} k_{1}\\right)} \\kappa^{2} J_{m + 1}(\\kappa \\rho) - {\\left(2 \\, C_{r_{1}} C_{z_{1}} k_{1} \\cos\\left(h k_{1}\\right)^{2} - C_{r_{1}} C_{z_{1}} k_{1}\\right)} \\kappa^{2} J_{m - 1}(\\kappa \\rho) - 2 \\, {\\left(2 \\, C_{r_{1}} C_{z_{1}} k_{1} J_{1}(\\kappa \\rho) \\cos\\left(h k_{1}\\right)^{2} - C_{r_{1}} C_{z_{1}} k_{1} J_{1}(\\kappa \\rho)\\right)} \\kappa^{2}\\right)} \\rho\\right)} \\cos\\left(m \\varphi\\right) + {\\left(2 \\, {\\left(2 \\, C_{z_{1}} D_{r_{1}} k_{1} J_{1}(\\kappa \\rho) \\cos\\left(h k_{1}\\right)^{2} - C_{z_{1}} D_{r_{1}} k_{1} J_{1}(\\kappa \\rho)\\right)} m^{2} + {\\left({\\left(2 \\, C_{r_{1}} D_{z_{1}} k_{1} \\cos\\left(h k_{1}\\right)^{2} - C_{r_{1}} D_{z_{1}} k_{1}\\right)} \\kappa^{2} J_{m + 1}(\\kappa \\rho) - {\\left(2 \\, C_{r_{1}} D_{z_{1}} k_{1} \\cos\\left(h k_{1}\\right)^{2} - C_{r_{1}} D_{z_{1}} k_{1}\\right)} \\kappa^{2} J_{m - 1}(\\kappa \\rho) - 2 \\, {\\left(2 \\, C_{z_{1}} D_{r_{1}} k_{1} J_{1}(\\kappa \\rho) \\cos\\left(h k_{1}\\right)^{2} - C_{z_{1}} D_{r_{1}} k_{1} J_{1}(\\kappa \\rho)\\right)} \\kappa^{2}\\right)} \\rho\\right)} \\sin\\left(m \\varphi\\right)}{2 \\, {\\left({\\left(2 \\, C_{r_{1}} D_{p_{1}} \\kappa m J_{m}(\\kappa \\rho) \\cos\\left(h k_{1}\\right) \\sin\\left(h k_{1}\\right) - {\\left(C_{r_{1}} D_{p_{1}} \\kappa^{2} m J_{m + 1}(\\kappa \\rho) \\cos\\left(h k_{1}\\right) \\sin\\left(h k_{1}\\right) - C_{r_{1}} D_{p_{1}} \\kappa^{2} m J_{m - 1}(\\kappa \\rho) \\cos\\left(h k_{1}\\right) \\sin\\left(h k_{1}\\right)\\right)} \\rho\\right)} \\cos\\left(m \\varphi\\right) - {\\left(2 \\, C_{p_{1}} C_{r_{1}} \\kappa m J_{m}(\\kappa \\rho) \\cos\\left(h k_{1}\\right) \\sin\\left(h k_{1}\\right) - {\\left(C_{p_{1}} C_{r_{1}} \\kappa^{2} m J_{m + 1}(\\kappa \\rho) \\cos\\left(h k_{1}\\right) \\sin\\left(h k_{1}\\right) - C_{p_{1}} C_{r_{1}} \\kappa^{2} m J_{m - 1}(\\kappa \\rho) \\cos\\left(h k_{1}\\right) \\sin\\left(h k_{1}\\right)\\right)} \\rho\\right)} \\sin\\left(m \\varphi\\right)\\right)}} \\\\\n",
       "0 & 0 & 0 & 0 & 0 & 0 & \\frac{2 \\, {\\left({\\left(2 \\, C_{r_{1}} D_{p_{1}} \\kappa m J_{m}(\\kappa \\rho) \\cos\\left(h k_{1}\\right) \\sin\\left(h k_{1}\\right) - {\\left(C_{r_{1}} D_{p_{1}} \\kappa^{2} m J_{m + 1}(\\kappa \\rho) \\cos\\left(h k_{1}\\right) \\sin\\left(h k_{1}\\right) - C_{r_{1}} D_{p_{1}} \\kappa^{2} m J_{m - 1}(\\kappa \\rho) \\cos\\left(h k_{1}\\right) \\sin\\left(h k_{1}\\right)\\right)} \\rho\\right)} \\cos\\left(m \\varphi\\right) - {\\left(2 \\, C_{p_{1}} C_{r_{1}} \\kappa m J_{m}(\\kappa \\rho) \\cos\\left(h k_{1}\\right) \\sin\\left(h k_{1}\\right) - {\\left(C_{p_{1}} C_{r_{1}} \\kappa^{2} m J_{m + 1}(\\kappa \\rho) \\cos\\left(h k_{1}\\right) \\sin\\left(h k_{1}\\right) - C_{p_{1}} C_{r_{1}} \\kappa^{2} m J_{m - 1}(\\kappa \\rho) \\cos\\left(h k_{1}\\right) \\sin\\left(h k_{1}\\right)\\right)} \\rho\\right)} \\sin\\left(m \\varphi\\right)\\right)}}{{\\left(2 \\, {\\left(2 \\, C_{r_{1}} C_{z_{1}} k_{1} J_{1}(\\kappa \\rho) \\cos\\left(h k_{1}\\right)^{2} - C_{r_{1}} C_{z_{1}} k_{1} J_{1}(\\kappa \\rho)\\right)} m^{2} + {\\left({\\left(2 \\, C_{r_{1}} C_{z_{1}} k_{1} \\cos\\left(h k_{1}\\right)^{2} - C_{r_{1}} C_{z_{1}} k_{1}\\right)} \\kappa^{2} J_{m + 1}(\\kappa \\rho) - {\\left(2 \\, C_{r_{1}} C_{z_{1}} k_{1} \\cos\\left(h k_{1}\\right)^{2} - C_{r_{1}} C_{z_{1}} k_{1}\\right)} \\kappa^{2} J_{m - 1}(\\kappa \\rho) - 2 \\, {\\left(2 \\, C_{r_{1}} C_{z_{1}} k_{1} J_{1}(\\kappa \\rho) \\cos\\left(h k_{1}\\right)^{2} - C_{r_{1}} C_{z_{1}} k_{1} J_{1}(\\kappa \\rho)\\right)} \\kappa^{2}\\right)} \\rho\\right)} \\cos\\left(m \\varphi\\right) + {\\left(2 \\, {\\left(2 \\, C_{z_{1}} D_{r_{1}} k_{1} J_{1}(\\kappa \\rho) \\cos\\left(h k_{1}\\right)^{2} - C_{z_{1}} D_{r_{1}} k_{1} J_{1}(\\kappa \\rho)\\right)} m^{2} + {\\left({\\left(2 \\, C_{r_{1}} D_{z_{1}} k_{1} \\cos\\left(h k_{1}\\right)^{2} - C_{r_{1}} D_{z_{1}} k_{1}\\right)} \\kappa^{2} J_{m + 1}(\\kappa \\rho) - {\\left(2 \\, C_{r_{1}} D_{z_{1}} k_{1} \\cos\\left(h k_{1}\\right)^{2} - C_{r_{1}} D_{z_{1}} k_{1}\\right)} \\kappa^{2} J_{m - 1}(\\kappa \\rho) - 2 \\, {\\left(2 \\, C_{z_{1}} D_{r_{1}} k_{1} J_{1}(\\kappa \\rho) \\cos\\left(h k_{1}\\right)^{2} - C_{z_{1}} D_{r_{1}} k_{1} J_{1}(\\kappa \\rho)\\right)} \\kappa^{2}\\right)} \\rho\\right)} \\sin\\left(m \\varphi\\right)} & 1 \\\\\n",
       "0 & 0 & 0 & 0 & -\\frac{{\\left(2 \\, {\\left(2 \\, C_{r_{1}} C_{z_{1}} k_{1} J_{1}(\\kappa \\rho) \\sin\\left(h k_{1}\\right)^{2} - C_{r_{1}} C_{z_{1}} k_{1} J_{1}(\\kappa \\rho)\\right)} m^{2} + {\\left({\\left(2 \\, C_{r_{1}} C_{z_{1}} k_{1} \\sin\\left(h k_{1}\\right)^{2} - C_{r_{1}} C_{z_{1}} k_{1}\\right)} \\kappa^{2} J_{m + 1}(\\kappa \\rho) - {\\left(2 \\, C_{r_{1}} C_{z_{1}} k_{1} \\sin\\left(h k_{1}\\right)^{2} - C_{r_{1}} C_{z_{1}} k_{1}\\right)} \\kappa^{2} J_{m - 1}(\\kappa \\rho) - 2 \\, {\\left(2 \\, C_{r_{1}} C_{z_{1}} k_{1} J_{1}(\\kappa \\rho) \\sin\\left(h k_{1}\\right)^{2} - C_{r_{1}} C_{z_{1}} k_{1} J_{1}(\\kappa \\rho)\\right)} \\kappa^{2}\\right)} \\rho\\right)} \\cos\\left(m \\varphi\\right) + {\\left(2 \\, {\\left(2 \\, C_{z_{1}} D_{r_{1}} k_{1} J_{1}(\\kappa \\rho) \\sin\\left(h k_{1}\\right)^{2} - C_{z_{1}} D_{r_{1}} k_{1} J_{1}(\\kappa \\rho)\\right)} m^{2} + {\\left({\\left(2 \\, C_{r_{1}} D_{z_{1}} k_{1} \\sin\\left(h k_{1}\\right)^{2} - C_{r_{1}} D_{z_{1}} k_{1}\\right)} \\kappa^{2} J_{m + 1}(\\kappa \\rho) - {\\left(2 \\, C_{r_{1}} D_{z_{1}} k_{1} \\sin\\left(h k_{1}\\right)^{2} - C_{r_{1}} D_{z_{1}} k_{1}\\right)} \\kappa^{2} J_{m - 1}(\\kappa \\rho) - 2 \\, {\\left(2 \\, C_{z_{1}} D_{r_{1}} k_{1} J_{1}(\\kappa \\rho) \\sin\\left(h k_{1}\\right)^{2} - C_{z_{1}} D_{r_{1}} k_{1} J_{1}(\\kappa \\rho)\\right)} \\kappa^{2}\\right)} \\rho\\right)} \\sin\\left(m \\varphi\\right)}{{\\left(2 \\, {\\left(2 \\, C_{r_{1}} D_{p_{1}} \\cos\\left(h k_{1}\\right)^{2} - C_{r_{1}} D_{p_{1}}\\right)} \\kappa m J_{m}(\\kappa \\rho) - {\\left({\\left(2 \\, C_{r_{1}} D_{p_{1}} \\cos\\left(h k_{1}\\right)^{2} - C_{r_{1}} D_{p_{1}}\\right)} \\kappa^{2} m J_{m + 1}(\\kappa \\rho) - {\\left(2 \\, C_{r_{1}} D_{p_{1}} \\cos\\left(h k_{1}\\right)^{2} - C_{r_{1}} D_{p_{1}}\\right)} \\kappa^{2} m J_{m - 1}(\\kappa \\rho)\\right)} \\rho\\right)} \\cos\\left(m \\varphi\\right) - {\\left(2 \\, {\\left(2 \\, C_{p_{1}} C_{r_{1}} \\cos\\left(h k_{1}\\right)^{2} - C_{p_{1}} C_{r_{1}}\\right)} \\kappa m J_{m}(\\kappa \\rho) - {\\left({\\left(2 \\, C_{p_{1}} C_{r_{1}} \\cos\\left(h k_{1}\\right)^{2} - C_{p_{1}} C_{r_{1}}\\right)} \\kappa^{2} m J_{m + 1}(\\kappa \\rho) - {\\left(2 \\, C_{p_{1}} C_{r_{1}} \\cos\\left(h k_{1}\\right)^{2} - C_{p_{1}} C_{r_{1}}\\right)} \\kappa^{2} m J_{m - 1}(\\kappa \\rho)\\right)} \\rho\\right)} \\sin\\left(m \\varphi\\right)} & 0 & 1 & 0 \\\\\n",
       "0 & 0 & 0 & 0 & 1 & 0 & 0 & \\frac{2 \\, \\sin\\left(h k_{1}\\right)^{2} - 1}{2 \\, \\cos\\left(h k_{1}\\right) \\sin\\left(h k_{1}\\right)} \\\\\n",
       "0 & 0 & 0 & 0 & \\frac{2 \\, \\cos\\left(h k_{1}\\right) \\sin\\left(h k_{1}\\right)}{2 \\, \\sin\\left(h k_{1}\\right)^{2} - 1} & 0 & 0 & 1 \\\\\n",
       "0 & 0 & 0 & 0 & 1 & 0 & \\frac{{\\left({\\left(C_{p_{1}} C_{r_{1}} \\kappa^{2} J_{m + 2}(\\kappa \\rho) + C_{p_{1}} C_{r_{1}} \\kappa^{2} J_{m - 2}(\\kappa \\rho) - 2 \\, C_{p_{1}} C_{r_{1}} \\kappa^{2} J_{m}(\\kappa \\rho)\\right)} \\rho^{2} + 4 \\, {\\left(C_{p_{1}} C_{r_{1}} \\kappa^{2} J_{m}(\\kappa \\rho) - C_{p_{1}} C_{r_{1}} \\kappa J_{m + 1}(\\kappa \\rho) + C_{p_{1}} C_{r_{1}} \\kappa J_{m - 1}(\\kappa \\rho)\\right)} \\rho\\right)} \\cos\\left(m \\varphi\\right) + {\\left({\\left(C_{r_{1}} D_{p_{1}} \\kappa^{2} J_{m + 2}(\\kappa \\rho) + C_{r_{1}} D_{p_{1}} \\kappa^{2} J_{m - 2}(\\kappa \\rho) - 2 \\, C_{r_{1}} D_{p_{1}} \\kappa^{2} J_{m}(\\kappa \\rho)\\right)} \\rho^{2} + 4 \\, {\\left(C_{r_{1}} D_{p_{1}} \\kappa^{2} J_{m}(\\kappa \\rho) - C_{r_{1}} D_{p_{1}} \\kappa J_{m + 1}(\\kappa \\rho) + C_{r_{1}} D_{p_{1}} \\kappa J_{m - 1}(\\kappa \\rho)\\right)} \\rho\\right)} \\sin\\left(m \\varphi\\right)}{2 \\, {\\left({\\left(C_{z_{1}} D_{r_{1}} k_{1} m \\rho {\\left(J_{2}(\\kappa \\rho) - J_{0}(\\kappa \\rho)\\right)} + 2 \\, C_{r_{1}} D_{z_{1}} k_{1} m J_{m}(\\kappa \\rho)\\right)} \\cos\\left(m \\varphi\\right) - {\\left(C_{r_{1}} C_{z_{1}} k_{1} m \\rho {\\left(J_{2}(\\kappa \\rho) - J_{0}(\\kappa \\rho)\\right)} + 2 \\, C_{r_{1}} C_{z_{1}} k_{1} m J_{m}(\\kappa \\rho)\\right)} \\sin\\left(m \\varphi\\right)\\right)}} & 0 \\\\\n",
       "0 & 0 & 0 & 0 & 0 & 0 & 1 & -\\frac{{\\left({\\left(2 \\, C_{z_{1}} D_{r_{1}} k_{1} {\\left(J_{2}(\\kappa \\rho) - J_{0}(\\kappa \\rho)\\right)} \\sin\\left(h k_{1}\\right)^{2} - C_{z_{1}} D_{r_{1}} k_{1} {\\left(J_{2}(\\kappa \\rho) - J_{0}(\\kappa \\rho)\\right)}\\right)} m \\rho + 2 \\, {\\left(2 \\, C_{r_{1}} D_{z_{1}} k_{1} \\sin\\left(h k_{1}\\right)^{2} - C_{r_{1}} D_{z_{1}} k_{1}\\right)} m J_{m}(\\kappa \\rho)\\right)} \\cos\\left(m \\varphi\\right) - {\\left({\\left(2 \\, C_{r_{1}} C_{z_{1}} k_{1} {\\left(J_{2}(\\kappa \\rho) - J_{0}(\\kappa \\rho)\\right)} \\sin\\left(h k_{1}\\right)^{2} - C_{r_{1}} C_{z_{1}} k_{1} {\\left(J_{2}(\\kappa \\rho) - J_{0}(\\kappa \\rho)\\right)}\\right)} m \\rho + 2 \\, {\\left(2 \\, C_{r_{1}} C_{z_{1}} k_{1} \\sin\\left(h k_{1}\\right)^{2} - C_{r_{1}} C_{z_{1}} k_{1}\\right)} m J_{m}(\\kappa \\rho)\\right)} \\sin\\left(m \\varphi\\right)}{{\\left({\\left(C_{p_{1}} C_{r_{1}} \\kappa^{2} J_{m + 2}(\\kappa \\rho) \\cos\\left(h k_{1}\\right) \\sin\\left(h k_{1}\\right) + C_{p_{1}} C_{r_{1}} \\kappa^{2} J_{m - 2}(\\kappa \\rho) \\cos\\left(h k_{1}\\right) \\sin\\left(h k_{1}\\right) - 2 \\, C_{p_{1}} C_{r_{1}} \\kappa^{2} J_{m}(\\kappa \\rho) \\cos\\left(h k_{1}\\right) \\sin\\left(h k_{1}\\right)\\right)} \\rho^{2} + 4 \\, {\\left(C_{p_{1}} C_{r_{1}} \\kappa^{2} J_{m}(\\kappa \\rho) \\cos\\left(h k_{1}\\right) \\sin\\left(h k_{1}\\right) - C_{p_{1}} C_{r_{1}} \\kappa J_{m + 1}(\\kappa \\rho) \\cos\\left(h k_{1}\\right) \\sin\\left(h k_{1}\\right) + C_{p_{1}} C_{r_{1}} \\kappa J_{m - 1}(\\kappa \\rho) \\cos\\left(h k_{1}\\right) \\sin\\left(h k_{1}\\right)\\right)} \\rho\\right)} \\cos\\left(m \\varphi\\right) + {\\left({\\left(C_{r_{1}} D_{p_{1}} \\kappa^{2} J_{m + 2}(\\kappa \\rho) \\cos\\left(h k_{1}\\right) \\sin\\left(h k_{1}\\right) + C_{r_{1}} D_{p_{1}} \\kappa^{2} J_{m - 2}(\\kappa \\rho) \\cos\\left(h k_{1}\\right) \\sin\\left(h k_{1}\\right) - 2 \\, C_{r_{1}} D_{p_{1}} \\kappa^{2} J_{m}(\\kappa \\rho) \\cos\\left(h k_{1}\\right) \\sin\\left(h k_{1}\\right)\\right)} \\rho^{2} + 4 \\, {\\left(C_{r_{1}} D_{p_{1}} \\kappa^{2} J_{m}(\\kappa \\rho) \\cos\\left(h k_{1}\\right) \\sin\\left(h k_{1}\\right) - C_{r_{1}} D_{p_{1}} \\kappa J_{m + 1}(\\kappa \\rho) \\cos\\left(h k_{1}\\right) \\sin\\left(h k_{1}\\right) + C_{r_{1}} D_{p_{1}} \\kappa J_{m - 1}(\\kappa \\rho) \\cos\\left(h k_{1}\\right) \\sin\\left(h k_{1}\\right)\\right)} \\rho\\right)} \\sin\\left(m \\varphi\\right)} \\\\\n",
       "0 & 0 & 0 & 0 & 0 & 0 & -\\frac{{\\left({\\left(C_{p_{1}} C_{r_{1}} \\kappa^{2} J_{m + 2}(\\kappa \\rho) \\cos\\left(h k_{1}\\right) \\sin\\left(h k_{1}\\right) + C_{p_{1}} C_{r_{1}} \\kappa^{2} J_{m - 2}(\\kappa \\rho) \\cos\\left(h k_{1}\\right) \\sin\\left(h k_{1}\\right) - 2 \\, C_{p_{1}} C_{r_{1}} \\kappa^{2} J_{m}(\\kappa \\rho) \\cos\\left(h k_{1}\\right) \\sin\\left(h k_{1}\\right)\\right)} \\rho^{2} + 4 \\, {\\left(C_{p_{1}} C_{r_{1}} \\kappa^{2} J_{m}(\\kappa \\rho) \\cos\\left(h k_{1}\\right) \\sin\\left(h k_{1}\\right) - C_{p_{1}} C_{r_{1}} \\kappa J_{m + 1}(\\kappa \\rho) \\cos\\left(h k_{1}\\right) \\sin\\left(h k_{1}\\right) + C_{p_{1}} C_{r_{1}} \\kappa J_{m - 1}(\\kappa \\rho) \\cos\\left(h k_{1}\\right) \\sin\\left(h k_{1}\\right)\\right)} \\rho\\right)} \\cos\\left(m \\varphi\\right) + {\\left({\\left(C_{r_{1}} D_{p_{1}} \\kappa^{2} J_{m + 2}(\\kappa \\rho) \\cos\\left(h k_{1}\\right) \\sin\\left(h k_{1}\\right) + C_{r_{1}} D_{p_{1}} \\kappa^{2} J_{m - 2}(\\kappa \\rho) \\cos\\left(h k_{1}\\right) \\sin\\left(h k_{1}\\right) - 2 \\, C_{r_{1}} D_{p_{1}} \\kappa^{2} J_{m}(\\kappa \\rho) \\cos\\left(h k_{1}\\right) \\sin\\left(h k_{1}\\right)\\right)} \\rho^{2} + 4 \\, {\\left(C_{r_{1}} D_{p_{1}} \\kappa^{2} J_{m}(\\kappa \\rho) \\cos\\left(h k_{1}\\right) \\sin\\left(h k_{1}\\right) - C_{r_{1}} D_{p_{1}} \\kappa J_{m + 1}(\\kappa \\rho) \\cos\\left(h k_{1}\\right) \\sin\\left(h k_{1}\\right) + C_{r_{1}} D_{p_{1}} \\kappa J_{m - 1}(\\kappa \\rho) \\cos\\left(h k_{1}\\right) \\sin\\left(h k_{1}\\right)\\right)} \\rho\\right)} \\sin\\left(m \\varphi\\right)}{{\\left({\\left(2 \\, C_{z_{1}} D_{r_{1}} k_{1} {\\left(J_{2}(\\kappa \\rho) - J_{0}(\\kappa \\rho)\\right)} \\sin\\left(h k_{1}\\right)^{2} - C_{z_{1}} D_{r_{1}} k_{1} {\\left(J_{2}(\\kappa \\rho) - J_{0}(\\kappa \\rho)\\right)}\\right)} m \\rho + 2 \\, {\\left(2 \\, C_{r_{1}} D_{z_{1}} k_{1} \\sin\\left(h k_{1}\\right)^{2} - C_{r_{1}} D_{z_{1}} k_{1}\\right)} m J_{m}(\\kappa \\rho)\\right)} \\cos\\left(m \\varphi\\right) - {\\left({\\left(2 \\, C_{r_{1}} C_{z_{1}} k_{1} {\\left(J_{2}(\\kappa \\rho) - J_{0}(\\kappa \\rho)\\right)} \\sin\\left(h k_{1}\\right)^{2} - C_{r_{1}} C_{z_{1}} k_{1} {\\left(J_{2}(\\kappa \\rho) - J_{0}(\\kappa \\rho)\\right)}\\right)} m \\rho + 2 \\, {\\left(2 \\, C_{r_{1}} C_{z_{1}} k_{1} \\sin\\left(h k_{1}\\right)^{2} - C_{r_{1}} C_{z_{1}} k_{1}\\right)} m J_{m}(\\kappa \\rho)\\right)} \\sin\\left(m \\varphi\\right)} & 1 \\\\\n",
       "0 & 0 & 0 & 0 & \\frac{2 \\, {\\left({\\left(C_{z_{1}} D_{r_{1}} k_{1} m \\rho {\\left(J_{2}(\\kappa \\rho) - J_{0}(\\kappa \\rho)\\right)} + 2 \\, C_{r_{1}} D_{z_{1}} k_{1} m J_{m}(\\kappa \\rho)\\right)} \\cos\\left(m \\varphi\\right) - {\\left(C_{r_{1}} C_{z_{1}} k_{1} m \\rho {\\left(J_{2}(\\kappa \\rho) - J_{0}(\\kappa \\rho)\\right)} + 2 \\, C_{r_{1}} C_{z_{1}} k_{1} m J_{m}(\\kappa \\rho)\\right)} \\sin\\left(m \\varphi\\right)\\right)}}{{\\left({\\left(C_{p_{1}} C_{r_{1}} \\kappa^{2} J_{m + 2}(\\kappa \\rho) + C_{p_{1}} C_{r_{1}} \\kappa^{2} J_{m - 2}(\\kappa \\rho) - 2 \\, C_{p_{1}} C_{r_{1}} \\kappa^{2} J_{m}(\\kappa \\rho)\\right)} \\rho^{2} + 4 \\, {\\left(C_{p_{1}} C_{r_{1}} \\kappa^{2} J_{m}(\\kappa \\rho) - C_{p_{1}} C_{r_{1}} \\kappa J_{m + 1}(\\kappa \\rho) + C_{p_{1}} C_{r_{1}} \\kappa J_{m - 1}(\\kappa \\rho)\\right)} \\rho\\right)} \\cos\\left(m \\varphi\\right) + {\\left({\\left(C_{r_{1}} D_{p_{1}} \\kappa^{2} J_{m + 2}(\\kappa \\rho) + C_{r_{1}} D_{p_{1}} \\kappa^{2} J_{m - 2}(\\kappa \\rho) - 2 \\, C_{r_{1}} D_{p_{1}} \\kappa^{2} J_{m}(\\kappa \\rho)\\right)} \\rho^{2} + 4 \\, {\\left(C_{r_{1}} D_{p_{1}} \\kappa^{2} J_{m}(\\kappa \\rho) - C_{r_{1}} D_{p_{1}} \\kappa J_{m + 1}(\\kappa \\rho) + C_{r_{1}} D_{p_{1}} \\kappa J_{m - 1}(\\kappa \\rho)\\right)} \\rho\\right)} \\sin\\left(m \\varphi\\right)} & 0 & 1 & 0 \\\\\n",
       "0 & 0 & 0 & 0 & 1 & 0 & 0 & \\frac{2 \\, \\sin\\left(h k_{1}\\right)^{2} - 1}{2 \\, \\cos\\left(h k_{1}\\right) \\sin\\left(h k_{1}\\right)} \\\\\n",
       "0 & 0 & 0 & 0 & \\frac{2 \\, \\cos\\left(h k_{1}\\right) \\sin\\left(h k_{1}\\right)}{2 \\, \\sin\\left(h k_{1}\\right)^{2} - 1} & 0 & 0 & 1 \\\\\n",
       "0 & 0 & 0 & 0 & 0 & 1 & \\frac{D_{p_{1}} c^{2} k_{1} m \\rho J_{m}(\\kappa \\rho) \\cos\\left(h k_{1}\\right) \\cos\\left(m \\varphi\\right) \\sin\\left(h k_{1}\\right) - C_{p_{1}} c^{2} k_{1} m \\rho J_{m}(\\kappa \\rho) \\cos\\left(h k_{1}\\right) \\sin\\left(h k_{1}\\right) \\sin\\left(m \\varphi\\right)}{{\\left(C_{r_{1}} c^{2} k_{1} \\rho^{2} \\cos\\left(h k_{1}\\right) \\sin\\left(h k_{1}\\right) \\frac{\\partial}{\\partial \\rho}E_{r_{r_{1}}}\\left(\\rho\\right) + C_{r_{1}} c^{2} k_{1} \\rho E_{r_{r_{1}}}\\left(\\rho\\right) \\cos\\left(h k_{1}\\right) \\sin\\left(h k_{1}\\right)\\right)} \\cos\\left(m \\varphi\\right) + {\\left(D_{r_{1}} c^{2} k_{1} \\rho^{2} \\cos\\left(h k_{1}\\right) \\sin\\left(h k_{1}\\right) \\frac{\\partial}{\\partial \\rho}E_{r_{r_{1}}}\\left(\\rho\\right) + D_{r_{1}} c^{2} k_{1} \\rho E_{r_{r_{1}}}\\left(\\rho\\right) \\cos\\left(h k_{1}\\right) \\sin\\left(h k_{1}\\right)\\right)} \\sin\\left(m \\varphi\\right)} & -\\frac{{\\left(4 \\, {\\left(2 \\, C_{z_{1}} c^{2} \\sin\\left(h k_{1}\\right)^{2} - C_{z_{1}} c^{2}\\right)} m^{2} J_{m}(\\kappa \\rho) - {\\left({\\left(2 \\, C_{z_{1}} c^{2} \\sin\\left(h k_{1}\\right)^{2} - C_{z_{1}} c^{2}\\right)} \\kappa^{2} J_{m + 2}(\\kappa \\rho) + {\\left(2 \\, C_{z_{1}} c^{2} \\sin\\left(h k_{1}\\right)^{2} - C_{z_{1}} c^{2}\\right)} \\kappa^{2} J_{m - 2}(\\kappa \\rho) - 2 \\, {\\left(2 \\, C_{z_{1}} c^{2} \\sin\\left(h k_{1}\\right)^{2} - C_{z_{1}} c^{2}\\right)} \\kappa^{2} J_{m}(\\kappa \\rho)\\right)} \\rho^{2} + 2 \\, {\\left(2 \\, {\\left(2 \\, C_{z_{1}} \\epsilon_{1} \\sin\\left(h k_{1}\\right)^{2} - C_{z_{1}} \\epsilon_{1}\\right)} \\mu_{1} \\omega^{2} J_{m}(\\kappa \\rho) + {\\left(2 \\, C_{z_{1}} c^{2} \\sin\\left(h k_{1}\\right)^{2} - C_{z_{1}} c^{2}\\right)} \\kappa J_{m + 1}(\\kappa \\rho) - {\\left(2 \\, C_{z_{1}} c^{2} \\sin\\left(h k_{1}\\right)^{2} - C_{z_{1}} c^{2}\\right)} \\kappa J_{m - 1}(\\kappa \\rho)\\right)} \\rho\\right)} \\cos\\left(m \\varphi\\right) + {\\left(4 \\, {\\left(2 \\, D_{z_{1}} c^{2} \\sin\\left(h k_{1}\\right)^{2} - D_{z_{1}} c^{2}\\right)} m^{2} J_{m}(\\kappa \\rho) - {\\left({\\left(2 \\, D_{z_{1}} c^{2} \\sin\\left(h k_{1}\\right)^{2} - D_{z_{1}} c^{2}\\right)} \\kappa^{2} J_{m + 2}(\\kappa \\rho) + {\\left(2 \\, D_{z_{1}} c^{2} \\sin\\left(h k_{1}\\right)^{2} - D_{z_{1}} c^{2}\\right)} \\kappa^{2} J_{m - 2}(\\kappa \\rho) - 2 \\, {\\left(2 \\, D_{z_{1}} c^{2} \\sin\\left(h k_{1}\\right)^{2} - D_{z_{1}} c^{2}\\right)} \\kappa^{2} J_{m}(\\kappa \\rho)\\right)} \\rho^{2} + 2 \\, {\\left(2 \\, {\\left(2 \\, D_{z_{1}} \\epsilon_{1} \\sin\\left(h k_{1}\\right)^{2} - D_{z_{1}} \\epsilon_{1}\\right)} \\mu_{1} \\omega^{2} J_{m}(\\kappa \\rho) + {\\left(2 \\, D_{z_{1}} c^{2} \\sin\\left(h k_{1}\\right)^{2} - D_{z_{1}} c^{2}\\right)} \\kappa J_{m + 1}(\\kappa \\rho) - {\\left(2 \\, D_{z_{1}} c^{2} \\sin\\left(h k_{1}\\right)^{2} - D_{z_{1}} c^{2}\\right)} \\kappa J_{m - 1}(\\kappa \\rho)\\right)} \\rho\\right)} \\sin\\left(m \\varphi\\right)}{8 \\, {\\left({\\left(C_{r_{1}} c^{2} k_{1} \\rho^{2} \\cos\\left(h k_{1}\\right) \\sin\\left(h k_{1}\\right) \\frac{\\partial}{\\partial \\rho}E_{r_{r_{1}}}\\left(\\rho\\right) + C_{r_{1}} c^{2} k_{1} \\rho E_{r_{r_{1}}}\\left(\\rho\\right) \\cos\\left(h k_{1}\\right) \\sin\\left(h k_{1}\\right)\\right)} \\cos\\left(m \\varphi\\right) + {\\left(D_{r_{1}} c^{2} k_{1} \\rho^{2} \\cos\\left(h k_{1}\\right) \\sin\\left(h k_{1}\\right) \\frac{\\partial}{\\partial \\rho}E_{r_{r_{1}}}\\left(\\rho\\right) + D_{r_{1}} c^{2} k_{1} \\rho E_{r_{r_{1}}}\\left(\\rho\\right) \\cos\\left(h k_{1}\\right) \\sin\\left(h k_{1}\\right)\\right)} \\sin\\left(m \\varphi\\right)\\right)}} \\\\\n",
       "0 & 0 & 0 & 0 & 1 & 0 & 0 & \\frac{2 \\, \\sin\\left(h k_{1}\\right)^{2} - 1}{2 \\, \\cos\\left(h k_{1}\\right) \\sin\\left(h k_{1}\\right)} \\\\\n",
       "0 & 0 & 0 & 0 & \\frac{2 \\, \\cos\\left(h k_{1}\\right) \\sin\\left(h k_{1}\\right)}{2 \\, \\sin\\left(h k_{1}\\right)^{2} - 1} & 0 & 0 & 1 \\\\\n",
       "0 & 0 & 0 & 0 & 0 & \\frac{{\\left(C_{r_{1}} c^{2} k_{1} \\rho^{2} \\cos\\left(h k_{1}\\right) \\sin\\left(h k_{1}\\right) \\frac{\\partial}{\\partial \\rho}E_{r_{r_{1}}}\\left(\\rho\\right) + C_{r_{1}} c^{2} k_{1} \\rho E_{r_{r_{1}}}\\left(\\rho\\right) \\cos\\left(h k_{1}\\right) \\sin\\left(h k_{1}\\right)\\right)} \\cos\\left(m \\varphi\\right) + {\\left(D_{r_{1}} c^{2} k_{1} \\rho^{2} \\cos\\left(h k_{1}\\right) \\sin\\left(h k_{1}\\right) \\frac{\\partial}{\\partial \\rho}E_{r_{r_{1}}}\\left(\\rho\\right) + D_{r_{1}} c^{2} k_{1} \\rho E_{r_{r_{1}}}\\left(\\rho\\right) \\cos\\left(h k_{1}\\right) \\sin\\left(h k_{1}\\right)\\right)} \\sin\\left(m \\varphi\\right)}{D_{p_{1}} c^{2} k_{1} m \\rho J_{m}(\\kappa \\rho) \\cos\\left(h k_{1}\\right) \\cos\\left(m \\varphi\\right) \\sin\\left(h k_{1}\\right) - C_{p_{1}} c^{2} k_{1} m \\rho J_{m}(\\kappa \\rho) \\cos\\left(h k_{1}\\right) \\sin\\left(h k_{1}\\right) \\sin\\left(m \\varphi\\right)} & 1 & -\\frac{{\\left(4 \\, {\\left(2 \\, C_{z_{1}} c^{2} \\sin\\left(h k_{1}\\right)^{2} - C_{z_{1}} c^{2}\\right)} m^{2} J_{m}(\\kappa \\rho) - {\\left({\\left(2 \\, C_{z_{1}} c^{2} \\sin\\left(h k_{1}\\right)^{2} - C_{z_{1}} c^{2}\\right)} \\kappa^{2} J_{m + 2}(\\kappa \\rho) + {\\left(2 \\, C_{z_{1}} c^{2} \\sin\\left(h k_{1}\\right)^{2} - C_{z_{1}} c^{2}\\right)} \\kappa^{2} J_{m - 2}(\\kappa \\rho) - 2 \\, {\\left(2 \\, C_{z_{1}} c^{2} \\sin\\left(h k_{1}\\right)^{2} - C_{z_{1}} c^{2}\\right)} \\kappa^{2} J_{m}(\\kappa \\rho)\\right)} \\rho^{2} + 2 \\, {\\left(2 \\, {\\left(2 \\, C_{z_{1}} \\epsilon_{1} \\sin\\left(h k_{1}\\right)^{2} - C_{z_{1}} \\epsilon_{1}\\right)} \\mu_{1} \\omega^{2} J_{m}(\\kappa \\rho) + {\\left(2 \\, C_{z_{1}} c^{2} \\sin\\left(h k_{1}\\right)^{2} - C_{z_{1}} c^{2}\\right)} \\kappa J_{m + 1}(\\kappa \\rho) - {\\left(2 \\, C_{z_{1}} c^{2} \\sin\\left(h k_{1}\\right)^{2} - C_{z_{1}} c^{2}\\right)} \\kappa J_{m - 1}(\\kappa \\rho)\\right)} \\rho\\right)} \\cos\\left(m \\varphi\\right) + {\\left(4 \\, {\\left(2 \\, D_{z_{1}} c^{2} \\sin\\left(h k_{1}\\right)^{2} - D_{z_{1}} c^{2}\\right)} m^{2} J_{m}(\\kappa \\rho) - {\\left({\\left(2 \\, D_{z_{1}} c^{2} \\sin\\left(h k_{1}\\right)^{2} - D_{z_{1}} c^{2}\\right)} \\kappa^{2} J_{m + 2}(\\kappa \\rho) + {\\left(2 \\, D_{z_{1}} c^{2} \\sin\\left(h k_{1}\\right)^{2} - D_{z_{1}} c^{2}\\right)} \\kappa^{2} J_{m - 2}(\\kappa \\rho) - 2 \\, {\\left(2 \\, D_{z_{1}} c^{2} \\sin\\left(h k_{1}\\right)^{2} - D_{z_{1}} c^{2}\\right)} \\kappa^{2} J_{m}(\\kappa \\rho)\\right)} \\rho^{2} + 2 \\, {\\left(2 \\, {\\left(2 \\, D_{z_{1}} \\epsilon_{1} \\sin\\left(h k_{1}\\right)^{2} - D_{z_{1}} \\epsilon_{1}\\right)} \\mu_{1} \\omega^{2} J_{m}(\\kappa \\rho) + {\\left(2 \\, D_{z_{1}} c^{2} \\sin\\left(h k_{1}\\right)^{2} - D_{z_{1}} c^{2}\\right)} \\kappa J_{m + 1}(\\kappa \\rho) - {\\left(2 \\, D_{z_{1}} c^{2} \\sin\\left(h k_{1}\\right)^{2} - D_{z_{1}} c^{2}\\right)} \\kappa J_{m - 1}(\\kappa \\rho)\\right)} \\rho\\right)} \\sin\\left(m \\varphi\\right)}{8 \\, {\\left(D_{p_{1}} c^{2} k_{1} m \\rho J_{m}(\\kappa \\rho) \\cos\\left(h k_{1}\\right) \\cos\\left(m \\varphi\\right) \\sin\\left(h k_{1}\\right) - C_{p_{1}} c^{2} k_{1} m \\rho J_{m}(\\kappa \\rho) \\cos\\left(h k_{1}\\right) \\sin\\left(h k_{1}\\right) \\sin\\left(m \\varphi\\right)\\right)}} \\\\\n",
       "0 & 0 & 0 & 0 & 1 & 0 & 0 & \\frac{2 \\, \\sin\\left(h k_{1}\\right)^{2} - 1}{2 \\, \\cos\\left(h k_{1}\\right) \\sin\\left(h k_{1}\\right)} \\\\\n",
       "0 & 0 & 0 & 0 & \\frac{2 \\, \\cos\\left(h k_{1}\\right) \\sin\\left(h k_{1}\\right)}{2 \\, \\sin\\left(h k_{1}\\right)^{2} - 1} & 0 & 0 & 1 \\\\\n",
       "0 & 0 & 0 & 0 & 0 & -\\frac{8 \\, {\\left({\\left(C_{r_{1}} c^{2} k_{1} \\rho^{2} \\cos\\left(h k_{1}\\right) \\sin\\left(h k_{1}\\right) \\frac{\\partial}{\\partial \\rho}E_{r_{r_{1}}}\\left(\\rho\\right) + C_{r_{1}} c^{2} k_{1} \\rho E_{r_{r_{1}}}\\left(\\rho\\right) \\cos\\left(h k_{1}\\right) \\sin\\left(h k_{1}\\right)\\right)} \\cos\\left(m \\varphi\\right) + {\\left(D_{r_{1}} c^{2} k_{1} \\rho^{2} \\cos\\left(h k_{1}\\right) \\sin\\left(h k_{1}\\right) \\frac{\\partial}{\\partial \\rho}E_{r_{r_{1}}}\\left(\\rho\\right) + D_{r_{1}} c^{2} k_{1} \\rho E_{r_{r_{1}}}\\left(\\rho\\right) \\cos\\left(h k_{1}\\right) \\sin\\left(h k_{1}\\right)\\right)} \\sin\\left(m \\varphi\\right)\\right)}}{{\\left(4 \\, {\\left(2 \\, C_{z_{1}} c^{2} \\sin\\left(h k_{1}\\right)^{2} - C_{z_{1}} c^{2}\\right)} m^{2} J_{m}(\\kappa \\rho) - {\\left({\\left(2 \\, C_{z_{1}} c^{2} \\sin\\left(h k_{1}\\right)^{2} - C_{z_{1}} c^{2}\\right)} \\kappa^{2} J_{m + 2}(\\kappa \\rho) + {\\left(2 \\, C_{z_{1}} c^{2} \\sin\\left(h k_{1}\\right)^{2} - C_{z_{1}} c^{2}\\right)} \\kappa^{2} J_{m - 2}(\\kappa \\rho) - 2 \\, {\\left(2 \\, C_{z_{1}} c^{2} \\sin\\left(h k_{1}\\right)^{2} - C_{z_{1}} c^{2}\\right)} \\kappa^{2} J_{m}(\\kappa \\rho)\\right)} \\rho^{2} + 2 \\, {\\left(2 \\, {\\left(2 \\, C_{z_{1}} \\epsilon_{1} \\sin\\left(h k_{1}\\right)^{2} - C_{z_{1}} \\epsilon_{1}\\right)} \\mu_{1} \\omega^{2} J_{m}(\\kappa \\rho) + {\\left(2 \\, C_{z_{1}} c^{2} \\sin\\left(h k_{1}\\right)^{2} - C_{z_{1}} c^{2}\\right)} \\kappa J_{m + 1}(\\kappa \\rho) - {\\left(2 \\, C_{z_{1}} c^{2} \\sin\\left(h k_{1}\\right)^{2} - C_{z_{1}} c^{2}\\right)} \\kappa J_{m - 1}(\\kappa \\rho)\\right)} \\rho\\right)} \\cos\\left(m \\varphi\\right) + {\\left(4 \\, {\\left(2 \\, D_{z_{1}} c^{2} \\sin\\left(h k_{1}\\right)^{2} - D_{z_{1}} c^{2}\\right)} m^{2} J_{m}(\\kappa \\rho) - {\\left({\\left(2 \\, D_{z_{1}} c^{2} \\sin\\left(h k_{1}\\right)^{2} - D_{z_{1}} c^{2}\\right)} \\kappa^{2} J_{m + 2}(\\kappa \\rho) + {\\left(2 \\, D_{z_{1}} c^{2} \\sin\\left(h k_{1}\\right)^{2} - D_{z_{1}} c^{2}\\right)} \\kappa^{2} J_{m - 2}(\\kappa \\rho) - 2 \\, {\\left(2 \\, D_{z_{1}} c^{2} \\sin\\left(h k_{1}\\right)^{2} - D_{z_{1}} c^{2}\\right)} \\kappa^{2} J_{m}(\\kappa \\rho)\\right)} \\rho^{2} + 2 \\, {\\left(2 \\, {\\left(2 \\, D_{z_{1}} \\epsilon_{1} \\sin\\left(h k_{1}\\right)^{2} - D_{z_{1}} \\epsilon_{1}\\right)} \\mu_{1} \\omega^{2} J_{m}(\\kappa \\rho) + {\\left(2 \\, D_{z_{1}} c^{2} \\sin\\left(h k_{1}\\right)^{2} - D_{z_{1}} c^{2}\\right)} \\kappa J_{m + 1}(\\kappa \\rho) - {\\left(2 \\, D_{z_{1}} c^{2} \\sin\\left(h k_{1}\\right)^{2} - D_{z_{1}} c^{2}\\right)} \\kappa J_{m - 1}(\\kappa \\rho)\\right)} \\rho\\right)} \\sin\\left(m \\varphi\\right)} & -\\frac{8 \\, {\\left(D_{p_{1}} c^{2} k_{1} m \\rho J_{m}(\\kappa \\rho) \\cos\\left(h k_{1}\\right) \\cos\\left(m \\varphi\\right) \\sin\\left(h k_{1}\\right) - C_{p_{1}} c^{2} k_{1} m \\rho J_{m}(\\kappa \\rho) \\cos\\left(h k_{1}\\right) \\sin\\left(h k_{1}\\right) \\sin\\left(m \\varphi\\right)\\right)}}{{\\left(4 \\, {\\left(2 \\, C_{z_{1}} c^{2} \\sin\\left(h k_{1}\\right)^{2} - C_{z_{1}} c^{2}\\right)} m^{2} J_{m}(\\kappa \\rho) - {\\left({\\left(2 \\, C_{z_{1}} c^{2} \\sin\\left(h k_{1}\\right)^{2} - C_{z_{1}} c^{2}\\right)} \\kappa^{2} J_{m + 2}(\\kappa \\rho) + {\\left(2 \\, C_{z_{1}} c^{2} \\sin\\left(h k_{1}\\right)^{2} - C_{z_{1}} c^{2}\\right)} \\kappa^{2} J_{m - 2}(\\kappa \\rho) - 2 \\, {\\left(2 \\, C_{z_{1}} c^{2} \\sin\\left(h k_{1}\\right)^{2} - C_{z_{1}} c^{2}\\right)} \\kappa^{2} J_{m}(\\kappa \\rho)\\right)} \\rho^{2} + 2 \\, {\\left(2 \\, {\\left(2 \\, C_{z_{1}} \\epsilon_{1} \\sin\\left(h k_{1}\\right)^{2} - C_{z_{1}} \\epsilon_{1}\\right)} \\mu_{1} \\omega^{2} J_{m}(\\kappa \\rho) + {\\left(2 \\, C_{z_{1}} c^{2} \\sin\\left(h k_{1}\\right)^{2} - C_{z_{1}} c^{2}\\right)} \\kappa J_{m + 1}(\\kappa \\rho) - {\\left(2 \\, C_{z_{1}} c^{2} \\sin\\left(h k_{1}\\right)^{2} - C_{z_{1}} c^{2}\\right)} \\kappa J_{m - 1}(\\kappa \\rho)\\right)} \\rho\\right)} \\cos\\left(m \\varphi\\right) + {\\left(4 \\, {\\left(2 \\, D_{z_{1}} c^{2} \\sin\\left(h k_{1}\\right)^{2} - D_{z_{1}} c^{2}\\right)} m^{2} J_{m}(\\kappa \\rho) - {\\left({\\left(2 \\, D_{z_{1}} c^{2} \\sin\\left(h k_{1}\\right)^{2} - D_{z_{1}} c^{2}\\right)} \\kappa^{2} J_{m + 2}(\\kappa \\rho) + {\\left(2 \\, D_{z_{1}} c^{2} \\sin\\left(h k_{1}\\right)^{2} - D_{z_{1}} c^{2}\\right)} \\kappa^{2} J_{m - 2}(\\kappa \\rho) - 2 \\, {\\left(2 \\, D_{z_{1}} c^{2} \\sin\\left(h k_{1}\\right)^{2} - D_{z_{1}} c^{2}\\right)} \\kappa^{2} J_{m}(\\kappa \\rho)\\right)} \\rho^{2} + 2 \\, {\\left(2 \\, {\\left(2 \\, D_{z_{1}} \\epsilon_{1} \\sin\\left(h k_{1}\\right)^{2} - D_{z_{1}} \\epsilon_{1}\\right)} \\mu_{1} \\omega^{2} J_{m}(\\kappa \\rho) + {\\left(2 \\, D_{z_{1}} c^{2} \\sin\\left(h k_{1}\\right)^{2} - D_{z_{1}} c^{2}\\right)} \\kappa J_{m + 1}(\\kappa \\rho) - {\\left(2 \\, D_{z_{1}} c^{2} \\sin\\left(h k_{1}\\right)^{2} - D_{z_{1}} c^{2}\\right)} \\kappa J_{m - 1}(\\kappa \\rho)\\right)} \\rho\\right)} \\sin\\left(m \\varphi\\right)} & 1 \\\\\n",
       "0 & 0 & 0 & 0 & 1 & \\frac{4 \\, {\\left({\\left(C_{r_{1}} c^{2} k_{1} \\rho^{2} \\frac{\\partial}{\\partial \\rho}E_{r_{r_{1}}}\\left(\\rho\\right) + C_{r_{1}} c^{2} k_{1} \\rho E_{r_{r_{1}}}\\left(\\rho\\right)\\right)} \\cos\\left(m \\varphi\\right) + {\\left(D_{r_{1}} c^{2} k_{1} \\rho^{2} \\frac{\\partial}{\\partial \\rho}E_{r_{r_{1}}}\\left(\\rho\\right) + D_{r_{1}} c^{2} k_{1} \\rho E_{r_{r_{1}}}\\left(\\rho\\right)\\right)} \\sin\\left(m \\varphi\\right)\\right)}}{{\\left(4 \\, C_{z_{1}} c^{2} m^{2} J_{m}(\\kappa \\rho) - {\\left(C_{z_{1}} c^{2} \\kappa^{2} J_{m + 2}(\\kappa \\rho) + C_{z_{1}} c^{2} \\kappa^{2} J_{m - 2}(\\kappa \\rho) - 2 \\, C_{z_{1}} c^{2} \\kappa^{2} J_{m}(\\kappa \\rho)\\right)} \\rho^{2} + 2 \\, {\\left(2 \\, C_{z_{1}} \\epsilon_{1} \\mu_{1} \\omega^{2} J_{m}(\\kappa \\rho) + C_{z_{1}} c^{2} \\kappa J_{m + 1}(\\kappa \\rho) - C_{z_{1}} c^{2} \\kappa J_{m - 1}(\\kappa \\rho)\\right)} \\rho\\right)} \\cos\\left(m \\varphi\\right) + {\\left(4 \\, D_{z_{1}} c^{2} m^{2} J_{m}(\\kappa \\rho) - {\\left(D_{z_{1}} c^{2} \\kappa^{2} J_{m + 2}(\\kappa \\rho) + D_{z_{1}} c^{2} \\kappa^{2} J_{m - 2}(\\kappa \\rho) - 2 \\, D_{z_{1}} c^{2} \\kappa^{2} J_{m}(\\kappa \\rho)\\right)} \\rho^{2} + 2 \\, {\\left(2 \\, D_{z_{1}} \\epsilon_{1} \\mu_{1} \\omega^{2} J_{m}(\\kappa \\rho) + D_{z_{1}} c^{2} \\kappa J_{m + 1}(\\kappa \\rho) - D_{z_{1}} c^{2} \\kappa J_{m - 1}(\\kappa \\rho)\\right)} \\rho\\right)} \\sin\\left(m \\varphi\\right)} & \\frac{4 \\, {\\left(D_{p_{1}} c^{2} k_{1} m \\rho J_{m}(\\kappa \\rho) \\cos\\left(m \\varphi\\right) - C_{p_{1}} c^{2} k_{1} m \\rho J_{m}(\\kappa \\rho) \\sin\\left(m \\varphi\\right)\\right)}}{{\\left(4 \\, C_{z_{1}} c^{2} m^{2} J_{m}(\\kappa \\rho) - {\\left(C_{z_{1}} c^{2} \\kappa^{2} J_{m + 2}(\\kappa \\rho) + C_{z_{1}} c^{2} \\kappa^{2} J_{m - 2}(\\kappa \\rho) - 2 \\, C_{z_{1}} c^{2} \\kappa^{2} J_{m}(\\kappa \\rho)\\right)} \\rho^{2} + 2 \\, {\\left(2 \\, C_{z_{1}} \\epsilon_{1} \\mu_{1} \\omega^{2} J_{m}(\\kappa \\rho) + C_{z_{1}} c^{2} \\kappa J_{m + 1}(\\kappa \\rho) - C_{z_{1}} c^{2} \\kappa J_{m - 1}(\\kappa \\rho)\\right)} \\rho\\right)} \\cos\\left(m \\varphi\\right) + {\\left(4 \\, D_{z_{1}} c^{2} m^{2} J_{m}(\\kappa \\rho) - {\\left(D_{z_{1}} c^{2} \\kappa^{2} J_{m + 2}(\\kappa \\rho) + D_{z_{1}} c^{2} \\kappa^{2} J_{m - 2}(\\kappa \\rho) - 2 \\, D_{z_{1}} c^{2} \\kappa^{2} J_{m}(\\kappa \\rho)\\right)} \\rho^{2} + 2 \\, {\\left(2 \\, D_{z_{1}} \\epsilon_{1} \\mu_{1} \\omega^{2} J_{m}(\\kappa \\rho) + D_{z_{1}} c^{2} \\kappa J_{m + 1}(\\kappa \\rho) - D_{z_{1}} c^{2} \\kappa J_{m - 1}(\\kappa \\rho)\\right)} \\rho\\right)} \\sin\\left(m \\varphi\\right)} & 0 \\\\\n",
       "0 & 0 & 0 & 0 & \\frac{{\\left(4 \\, C_{z_{1}} c^{2} m^{2} J_{m}(\\kappa \\rho) - {\\left(C_{z_{1}} c^{2} \\kappa^{2} J_{m + 2}(\\kappa \\rho) + C_{z_{1}} c^{2} \\kappa^{2} J_{m - 2}(\\kappa \\rho) - 2 \\, C_{z_{1}} c^{2} \\kappa^{2} J_{m}(\\kappa \\rho)\\right)} \\rho^{2} + 2 \\, {\\left(2 \\, C_{z_{1}} \\epsilon_{1} \\mu_{1} \\omega^{2} J_{m}(\\kappa \\rho) + C_{z_{1}} c^{2} \\kappa J_{m + 1}(\\kappa \\rho) - C_{z_{1}} c^{2} \\kappa J_{m - 1}(\\kappa \\rho)\\right)} \\rho\\right)} \\cos\\left(m \\varphi\\right) + {\\left(4 \\, D_{z_{1}} c^{2} m^{2} J_{m}(\\kappa \\rho) - {\\left(D_{z_{1}} c^{2} \\kappa^{2} J_{m + 2}(\\kappa \\rho) + D_{z_{1}} c^{2} \\kappa^{2} J_{m - 2}(\\kappa \\rho) - 2 \\, D_{z_{1}} c^{2} \\kappa^{2} J_{m}(\\kappa \\rho)\\right)} \\rho^{2} + 2 \\, {\\left(2 \\, D_{z_{1}} \\epsilon_{1} \\mu_{1} \\omega^{2} J_{m}(\\kappa \\rho) + D_{z_{1}} c^{2} \\kappa J_{m + 1}(\\kappa \\rho) - D_{z_{1}} c^{2} \\kappa J_{m - 1}(\\kappa \\rho)\\right)} \\rho\\right)} \\sin\\left(m \\varphi\\right)}{4 \\, {\\left({\\left(C_{r_{1}} c^{2} k_{1} \\rho^{2} \\frac{\\partial}{\\partial \\rho}E_{r_{r_{1}}}\\left(\\rho\\right) + C_{r_{1}} c^{2} k_{1} \\rho E_{r_{r_{1}}}\\left(\\rho\\right)\\right)} \\cos\\left(m \\varphi\\right) + {\\left(D_{r_{1}} c^{2} k_{1} \\rho^{2} \\frac{\\partial}{\\partial \\rho}E_{r_{r_{1}}}\\left(\\rho\\right) + D_{r_{1}} c^{2} k_{1} \\rho E_{r_{r_{1}}}\\left(\\rho\\right)\\right)} \\sin\\left(m \\varphi\\right)\\right)}} & 1 & \\frac{D_{p_{1}} c^{2} k_{1} m \\rho J_{m}(\\kappa \\rho) \\cos\\left(m \\varphi\\right) - C_{p_{1}} c^{2} k_{1} m \\rho J_{m}(\\kappa \\rho) \\sin\\left(m \\varphi\\right)}{{\\left(C_{r_{1}} c^{2} k_{1} \\rho^{2} \\frac{\\partial}{\\partial \\rho}E_{r_{r_{1}}}\\left(\\rho\\right) + C_{r_{1}} c^{2} k_{1} \\rho E_{r_{r_{1}}}\\left(\\rho\\right)\\right)} \\cos\\left(m \\varphi\\right) + {\\left(D_{r_{1}} c^{2} k_{1} \\rho^{2} \\frac{\\partial}{\\partial \\rho}E_{r_{r_{1}}}\\left(\\rho\\right) + D_{r_{1}} c^{2} k_{1} \\rho E_{r_{r_{1}}}\\left(\\rho\\right)\\right)} \\sin\\left(m \\varphi\\right)} & 0 \\\\\n",
       "0 & 0 & 0 & 0 & \\frac{{\\left(4 \\, C_{z_{1}} c^{2} m^{2} J_{m}(\\kappa \\rho) - {\\left(C_{z_{1}} c^{2} \\kappa^{2} J_{m + 2}(\\kappa \\rho) + C_{z_{1}} c^{2} \\kappa^{2} J_{m - 2}(\\kappa \\rho) - 2 \\, C_{z_{1}} c^{2} \\kappa^{2} J_{m}(\\kappa \\rho)\\right)} \\rho^{2} + 2 \\, {\\left(2 \\, C_{z_{1}} \\epsilon_{1} \\mu_{1} \\omega^{2} J_{m}(\\kappa \\rho) + C_{z_{1}} c^{2} \\kappa J_{m + 1}(\\kappa \\rho) - C_{z_{1}} c^{2} \\kappa J_{m - 1}(\\kappa \\rho)\\right)} \\rho\\right)} \\cos\\left(m \\varphi\\right) + {\\left(4 \\, D_{z_{1}} c^{2} m^{2} J_{m}(\\kappa \\rho) - {\\left(D_{z_{1}} c^{2} \\kappa^{2} J_{m + 2}(\\kappa \\rho) + D_{z_{1}} c^{2} \\kappa^{2} J_{m - 2}(\\kappa \\rho) - 2 \\, D_{z_{1}} c^{2} \\kappa^{2} J_{m}(\\kappa \\rho)\\right)} \\rho^{2} + 2 \\, {\\left(2 \\, D_{z_{1}} \\epsilon_{1} \\mu_{1} \\omega^{2} J_{m}(\\kappa \\rho) + D_{z_{1}} c^{2} \\kappa J_{m + 1}(\\kappa \\rho) - D_{z_{1}} c^{2} \\kappa J_{m - 1}(\\kappa \\rho)\\right)} \\rho\\right)} \\sin\\left(m \\varphi\\right)}{4 \\, {\\left(D_{p_{1}} c^{2} k_{1} m \\rho J_{m}(\\kappa \\rho) \\cos\\left(m \\varphi\\right) - C_{p_{1}} c^{2} k_{1} m \\rho J_{m}(\\kappa \\rho) \\sin\\left(m \\varphi\\right)\\right)}} & \\frac{{\\left(C_{r_{1}} c^{2} k_{1} \\rho^{2} \\frac{\\partial}{\\partial \\rho}E_{r_{r_{1}}}\\left(\\rho\\right) + C_{r_{1}} c^{2} k_{1} \\rho E_{r_{r_{1}}}\\left(\\rho\\right)\\right)} \\cos\\left(m \\varphi\\right) + {\\left(D_{r_{1}} c^{2} k_{1} \\rho^{2} \\frac{\\partial}{\\partial \\rho}E_{r_{r_{1}}}\\left(\\rho\\right) + D_{r_{1}} c^{2} k_{1} \\rho E_{r_{r_{1}}}\\left(\\rho\\right)\\right)} \\sin\\left(m \\varphi\\right)}{D_{p_{1}} c^{2} k_{1} m \\rho J_{m}(\\kappa \\rho) \\cos\\left(m \\varphi\\right) - C_{p_{1}} c^{2} k_{1} m \\rho J_{m}(\\kappa \\rho) \\sin\\left(m \\varphi\\right)} & 1 & 0\n",
       "\\end{array}\\right)$$"
      ],
      "text/plain": [
       "<IPython.core.display.Math object>"
      ]
     },
     "metadata": {},
     "output_type": "display_data"
    }
   ],
   "source": [
    "M_res_rot_H = GenerateMatrix(res_rot_H, all_vars)\n",
    "display(Math(latex(M_res_rot_H)))"
   ]
  },
  {
   "cell_type": "code",
   "execution_count": 93,
   "metadata": {},
   "outputs": [],
   "source": [
    "def reduceDependedRows(M):\n",
    "    print (\"\")\n",
    "    print (\"M.nrows()\", M.nrows())\n",
    "    print (\"M.ncols()\", M.ncols())\n",
    "    print (\"M.rank()\", M.rank())\n",
    "\n",
    "    M_pivot_rows = M.pivot_rows()\n",
    "    print (\"M.pivot_rows() =\", M_pivot_rows)\n",
    "\n",
    "    M_rows = M.rows()\n",
    "    #for row in M_rows:\n",
    "    #    print(\"row =\")\n",
    "    #    display(Math(latex(row)))\n",
    "\n",
    "    reduced_list = []\n",
    "    for r in M_pivot_rows:\n",
    "        #print (\"M_rows[\", r, \"] =\")\n",
    "        #display(Math(latex(M_rows[r])))\n",
    "        reduced_list.append(M_rows[r])\n",
    "\n",
    "    reduced_M = matrix(SR, len(M_pivot_rows), M.ncols(), reduced_list)\n",
    "    #if reduced_M.nrows() == reduced_M.ncols():\n",
    "        #reduced_M_det = reduced_M.det()\n",
    "        #print (\"\")\n",
    "        #print (\"reduced_M.det() =\")\n",
    "        #display(Math(latex(reduced_M_det)))\n",
    "    return reduced_M"
   ]
  },
  {
   "cell_type": "code",
   "execution_count": 94,
   "metadata": {},
   "outputs": [
    {
     "name": "stdout",
     "output_type": "stream",
     "text": [
      "\n",
      "M.nrows() 34\n",
      "M.ncols() 8\n",
      "M.rank() 8\n",
      "M.pivot_rows() = (0, 1, 4, 9, 12, 13, 18, 24)\n"
     ]
    }
   ],
   "source": [
    "reduced_M_res_rot_H = reduceDependedRows(M_res_rot_H)"
   ]
  },
  {
   "cell_type": "code",
   "execution_count": 95,
   "metadata": {},
   "outputs": [
    {
     "data": {
      "text/plain": [
       "[                                                                                                                                                                                                                                                                                                                                                                                                                                                                                                                                                                                                                                                                                                                                                                                                                                                                                                                                                                                                                                                                                                                                                                                                                                                                                                                                                                                                                                                                   1                                                                                                                                                                                                                                                                                                                                                                                                                                                                                                                                                                                                                                                                                                                                                                                                                                                                                                                                                                                                                                                                                                                                                                                                                                                                                                                                                                                                                                                                    0                                                                                                                                                                                                                                                                                                                                                                                                                                                                                                                                                                                                                                            ((2*C_r_0*D_p_0*kappa*m*bessel_J(m, kappa*rho) - (C_r_0*D_p_0*kappa^2*m*bessel_J(m + 1, kappa*rho) - C_r_0*D_p_0*kappa^2*m*bessel_J(m - 1, kappa*rho))*rho)*cos(m*varphi) - (2*C_p_0*C_r_0*kappa*m*bessel_J(m, kappa*rho) - (C_p_0*C_r_0*kappa^2*m*bessel_J(m + 1, kappa*rho) - C_p_0*C_r_0*kappa^2*m*bessel_J(m - 1, kappa*rho))*rho)*sin(m*varphi))/((2*C_r_0*C_z_0*k_0*m^2*bessel_J(1, kappa*rho) - (2*C_r_0*C_z_0*k_0*kappa^2*bessel_J(1, kappa*rho) - C_r_0*C_z_0*k_0*kappa^2*bessel_J(m + 1, kappa*rho) + C_r_0*C_z_0*k_0*kappa^2*bessel_J(m - 1, kappa*rho))*rho)*cos(m*varphi) + (2*C_z_0*D_r_0*k_0*m^2*bessel_J(1, kappa*rho) - (2*C_z_0*D_r_0*k_0*kappa^2*bessel_J(1, kappa*rho) - C_r_0*D_z_0*k_0*kappa^2*bessel_J(m + 1, kappa*rho) + C_r_0*D_z_0*k_0*kappa^2*bessel_J(m - 1, kappa*rho))*rho)*sin(m*varphi))                                                                                                                                                                                                                                                                                                                                                                                                                                                                                                                                                                                                                                                                                                                                                                                                                                                                                                                                                                                                                                                                                                                                                                                                                                                                                                                                                                                                                                                                    0                                                                                                                                                                                                                                                                                                                                                                                                                                                                                                                                                                                                                                                                                                                                                                                                                                                                                                                                                                                                                                                                                                                                                                                                                                                                                                                                                                                                                                                                    0                                                                                                                                                                                                                                                                                                                                                                                                                                                                                                                                                                                                                                                                                                                                                                                                                                                                                                                                                                                                                                                                                                                                                                                                                                                                                                                                                                                                                                                                    0                                                                                                                                                                                                                                                                                                                                                                                                                                                                                                                                                                                                                                                                                                                                                                                                                                                                                                                                                                                                                                                                                                                                                                                                                                                                                                                                                                                                                                                                    0                                                                                                                                                                                                                                                                                                                                                                                                                                                                                                                                                                                                                                                                                                                                                                                                                                                                                                                                                                                                                                                                                                                                                                                                                                                                                                                                                                                                                                                                    0]\n",
       "[                                                                                                                                                                                                                                                                                                                                                                                                                                                                                                                                                                                                                                                                                                                                                                                                                                                                                                                                                                                                                                                                                                                                                                                                                                                                                                                                                                                                                                                                   0                                                                                                                                                                                                                                                                                                                                                                                                                                                                                                                                                                                                                                                                                                                                                                                                                                                                                                                                                                                                                                                                                                                                                                                                                                                                                                                                                                                                                                                                    0                                                                                                                                                                                                                                                                                                                                                                                                                                                                                                                                                                                                                                                                                                                                                                                                                                                                                                                                                                                                                                                                                                                                                                                                                                                                                                                                                                                                                                                                    0                                                                                                                                                                                                                                                                                                                                                                                                                                                                                                                                                                                                                                                                                                                                                                                                                                                                                                                                                                                                                                                                                                                                                                                                                                                                                                                                                                                                                                                                    1                                                                                                                                                                                                                                                                                                                                                                                                                                                                                                                                                                                                                                                                                                                                                                                                                                                                                                                                                                                                                                                                                                                                                                                                                                                                                                                                                                                                                                                                    0                                                                                                                                                                                                                                                                                                                                                                                                                                                                                                                                                                                                                                                                                                                                                                                                                                                                                                                                                                                                                                                                                                                                                                                                                                                                                                                                                                                                                                                                    0                                                                                                                                                                                                                                                                                                                                                                                                                                                                                                                                                                                                                                                                                                                                                                                                                                                                                                                                                                                                                                                                                                                                                                                                                                                                                                                                                                                                                                                                    0                                                                                                                                                                                                                                                                                                                                                                                                                                                                                                                                                                                                                                                                                                                                                                                                                                                                                                                                                                                                                                                                                                                                                                                                                                                                                                                                                                                                                                                                    0]\n",
       "[                                                                                                                                                                                                                                                                                                                                                                                                                                                                                                                                                                                                                                                                                                                                                                                                                                                                                                                                                                                                                                                                                                                                                                                                                                                                                                                                                                                                                                                                   1                                                                                                                                                                                                                                                                                                                                                                                                                                                                                                                                                                                                                                                                                                                                                                                                                                                                                                                                                                                                                                                                                                                                                                                                                                                                                                                                                                                                                                                                    0                                                                                                                                                                                                                                                                                                                                                                                                                                                                                                                            1/2*(((C_p_0*C_r_0*kappa^2*bessel_J(m + 2, kappa*rho) + C_p_0*C_r_0*kappa^2*bessel_J(m - 2, kappa*rho) - 2*C_p_0*C_r_0*kappa^2*bessel_J(m, kappa*rho))*rho^2 + 4*(C_p_0*C_r_0*kappa^2*bessel_J(m, kappa*rho) - C_p_0*C_r_0*kappa*bessel_J(m + 1, kappa*rho) + C_p_0*C_r_0*kappa*bessel_J(m - 1, kappa*rho))*rho)*cos(m*varphi) + ((C_r_0*D_p_0*kappa^2*bessel_J(m + 2, kappa*rho) + C_r_0*D_p_0*kappa^2*bessel_J(m - 2, kappa*rho) - 2*C_r_0*D_p_0*kappa^2*bessel_J(m, kappa*rho))*rho^2 + 4*(C_r_0*D_p_0*kappa^2*bessel_J(m, kappa*rho) - C_r_0*D_p_0*kappa*bessel_J(m + 1, kappa*rho) + C_r_0*D_p_0*kappa*bessel_J(m - 1, kappa*rho))*rho)*sin(m*varphi))/((C_z_0*D_r_0*k_0*m*rho*(bessel_J(2, kappa*rho) - bessel_J(0, kappa*rho)) + 2*C_r_0*D_z_0*k_0*m*bessel_J(m, kappa*rho))*cos(m*varphi) - (C_r_0*C_z_0*k_0*m*rho*(bessel_J(2, kappa*rho) - bessel_J(0, kappa*rho)) + 2*C_r_0*C_z_0*k_0*m*bessel_J(m, kappa*rho))*sin(m*varphi))                                                                                                                                                                                                                                                                                                                                                                                                                                                                                                                                                                                                                                                                                                                                                                                                                                                                                                                                                                                                                                                                                                                                                                                                                                                                                                                                                                                                                                                                    0                                                                                                                                                                                                                                                                                                                                                                                                                                                                                                                                                                                                                                                                                                                                                                                                                                                                                                                                                                                                                                                                                                                                                                                                                                                                                                                                                                                                                                                                    0                                                                                                                                                                                                                                                                                                                                                                                                                                                                                                                                                                                                                                                                                                                                                                                                                                                                                                                                                                                                                                                                                                                                                                                                                                                                                                                                                                                                                                                                    0                                                                                                                                                                                                                                                                                                                                                                                                                                                                                                                                                                                                                                                                                                                                                                                                                                                                                                                                                                                                                                                                                                                                                                                                                                                                                                                                                                                                                                                                    0                                                                                                                                                                                                                                                                                                                                                                                                                                                                                                                                                                                                                                                                                                                                                                                                                                                                                                                                                                                                                                                                                                                                                                                                                                                                                                                                                                                                                                                                    0]\n",
       "[                                                                                                                                                                                                                                                                                                                                                                                                                                                                                                                                                                                                                                                                                                                                                                                                                                                                                                                                                                                                                                                                                                                                                                                                                                                                                                                                                                                                                                                                   1                                                                                                                                                                                                                                                                                                                                                                                                                                                                                                                              4*((C_r_0*c^2*k_0*rho^2*diff(E_r_r0(rho), rho) + C_r_0*c^2*k_0*rho*E_r_r0(rho))*cos(m*varphi) + (D_r_0*c^2*k_0*rho^2*diff(E_r_r0(rho), rho) + D_r_0*c^2*k_0*rho*E_r_r0(rho))*sin(m*varphi))/((4*C_z_0*c^2*m^2*bessel_J(m, kappa*rho) - (C_z_0*c^2*kappa^2*bessel_J(m + 2, kappa*rho) + C_z_0*c^2*kappa^2*bessel_J(m - 2, kappa*rho) - 2*C_z_0*c^2*kappa^2*bessel_J(m, kappa*rho))*rho^2 + 2*(2*C_z_0*epsilon_0*mu_0*omega^2*bessel_J(m, kappa*rho) + C_z_0*c^2*kappa*bessel_J(m + 1, kappa*rho) - C_z_0*c^2*kappa*bessel_J(m - 1, kappa*rho))*rho)*cos(m*varphi) + (4*D_z_0*c^2*m^2*bessel_J(m, kappa*rho) - (D_z_0*c^2*kappa^2*bessel_J(m + 2, kappa*rho) + D_z_0*c^2*kappa^2*bessel_J(m - 2, kappa*rho) - 2*D_z_0*c^2*kappa^2*bessel_J(m, kappa*rho))*rho^2 + 2*(2*D_z_0*epsilon_0*mu_0*omega^2*bessel_J(m, kappa*rho) + D_z_0*c^2*kappa*bessel_J(m + 1, kappa*rho) - D_z_0*c^2*kappa*bessel_J(m - 1, kappa*rho))*rho)*sin(m*varphi))                                                                                                                                                                                                                                                                                                                                                                                                                                                                                                                                                                                                  4*(D_p_0*c^2*k_0*m*rho*bessel_J(m, kappa*rho)*cos(m*varphi) - C_p_0*c^2*k_0*m*rho*bessel_J(m, kappa*rho)*sin(m*varphi))/((4*C_z_0*c^2*m^2*bessel_J(m, kappa*rho) - (C_z_0*c^2*kappa^2*bessel_J(m + 2, kappa*rho) + C_z_0*c^2*kappa^2*bessel_J(m - 2, kappa*rho) - 2*C_z_0*c^2*kappa^2*bessel_J(m, kappa*rho))*rho^2 + 2*(2*C_z_0*epsilon_0*mu_0*omega^2*bessel_J(m, kappa*rho) + C_z_0*c^2*kappa*bessel_J(m + 1, kappa*rho) - C_z_0*c^2*kappa*bessel_J(m - 1, kappa*rho))*rho)*cos(m*varphi) + (4*D_z_0*c^2*m^2*bessel_J(m, kappa*rho) - (D_z_0*c^2*kappa^2*bessel_J(m + 2, kappa*rho) + D_z_0*c^2*kappa^2*bessel_J(m - 2, kappa*rho) - 2*D_z_0*c^2*kappa^2*bessel_J(m, kappa*rho))*rho^2 + 2*(2*D_z_0*epsilon_0*mu_0*omega^2*bessel_J(m, kappa*rho) + D_z_0*c^2*kappa*bessel_J(m + 1, kappa*rho) - D_z_0*c^2*kappa*bessel_J(m - 1, kappa*rho))*rho)*sin(m*varphi))                                                                                                                                                                                                                                                                                                                                                                                                                                                                                                                                                                                                                                                                                                                                                                                                                                                                                                                                                                                                                                                                                                                                                                                                                                                                                                                                                                                                                                                                    0                                                                                                                                                                                                                                                                                                                                                                                                                                                                                                                                                                                                                                                                                                                                                                                                                                                                                                                                                                                                                                                                                                                                                                                                                                                                                                                                                                                                                                                                    0                                                                                                                                                                                                                                                                                                                                                                                                                                                                                                                                                                                                                                                                                                                                                                                                                                                                                                                                                                                                                                                                                                                                                                                                                                                                                                                                                                                                                                                                    0                                                                                                                                                                                                                                                                                                                                                                                                                                                                                                                                                                                                                                                                                                                                                                                                                                                                                                                                                                                                                                                                                                                                                                                                                                                                                                                                                                                                                                                                    0                                                                                                                                                                                                                                                                                                                                                                                                                                                                                                                                                                                                                                                                                                                                                                                                                                                                                                                                                                                                                                                                                                                                                                                                                                                                                                                                                                                                                                                                    0]\n",
       "[                                                                                                                                                                                                                                                                                                                                                                                                                                                                                                                                                                                                                                                                                                                                                                                                                                                                                                                                                                                                                                                                                                                                                                                                                                                                                                                                                                                                                                                                   0                                                                                                                                                                                                                                                                                                                                                                                                                                                                                                                                                                                                                                                                                                                                                                                                                                                                                                                                                                                                                                                                                                                                                                                                                                                                                                                                                                                                                                                                    0                                                                                                                                                                                                                                                                                                                                                                                                                                                                                                                                                                                                                                                                                                                                                                                                                                                                                                                                                                                                                                                                                                                                                                                                                                                                                                                                                                                                                                                                    0                                                                                                                                                                                                                                                                                                                                                                                                                                                                                                                                                                                                                                                                                                                                                                                                                                                                                                                                                                                                                                                                                                                                                                                                                                                                                                                                                                                                                                                                    0                                                                                                                                                                                                                                                                                                                                                                                                                                                                                                                                                                                                                                                                                                                                                                                                                                                                                                                                                                                                                                                                                                                                                                                                                                                                                                                                                                                                                                                                    1                                                                                                                                                                                                                                                                                                                                                                                                                                                                                                                                                                                                                                                                                                                                                                                                                                                                                                                                                                                                                                                                                                                                                                                                                                                                                                                                                                                                                                                                    0                                                             -((2*(2*C_r_1*D_p_1*cos(h*k_1)^2 - C_r_1*D_p_1)*kappa*m*bessel_J(m, kappa*rho) - ((2*C_r_1*D_p_1*cos(h*k_1)^2 - C_r_1*D_p_1)*kappa^2*m*bessel_J(m + 1, kappa*rho) - (2*C_r_1*D_p_1*cos(h*k_1)^2 - C_r_1*D_p_1)*kappa^2*m*bessel_J(m - 1, kappa*rho))*rho)*cos(m*varphi) - (2*(2*C_p_1*C_r_1*cos(h*k_1)^2 - C_p_1*C_r_1)*kappa*m*bessel_J(m, kappa*rho) - ((2*C_p_1*C_r_1*cos(h*k_1)^2 - C_p_1*C_r_1)*kappa^2*m*bessel_J(m + 1, kappa*rho) - (2*C_p_1*C_r_1*cos(h*k_1)^2 - C_p_1*C_r_1)*kappa^2*m*bessel_J(m - 1, kappa*rho))*rho)*sin(m*varphi))/((2*(2*C_r_1*C_z_1*k_1*bessel_J(1, kappa*rho)*sin(h*k_1)^2 - C_r_1*C_z_1*k_1*bessel_J(1, kappa*rho))*m^2 + ((2*C_r_1*C_z_1*k_1*sin(h*k_1)^2 - C_r_1*C_z_1*k_1)*kappa^2*bessel_J(m + 1, kappa*rho) - (2*C_r_1*C_z_1*k_1*sin(h*k_1)^2 - C_r_1*C_z_1*k_1)*kappa^2*bessel_J(m - 1, kappa*rho) - 2*(2*C_r_1*C_z_1*k_1*bessel_J(1, kappa*rho)*sin(h*k_1)^2 - C_r_1*C_z_1*k_1*bessel_J(1, kappa*rho))*kappa^2)*rho)*cos(m*varphi) + (2*(2*C_z_1*D_r_1*k_1*bessel_J(1, kappa*rho)*sin(h*k_1)^2 - C_z_1*D_r_1*k_1*bessel_J(1, kappa*rho))*m^2 + ((2*C_r_1*D_z_1*k_1*sin(h*k_1)^2 - C_r_1*D_z_1*k_1)*kappa^2*bessel_J(m + 1, kappa*rho) - (2*C_r_1*D_z_1*k_1*sin(h*k_1)^2 - C_r_1*D_z_1*k_1)*kappa^2*bessel_J(m - 1, kappa*rho) - 2*(2*C_z_1*D_r_1*k_1*bessel_J(1, kappa*rho)*sin(h*k_1)^2 - C_z_1*D_r_1*k_1*bessel_J(1, kappa*rho))*kappa^2)*rho)*sin(m*varphi))                                                                                                                                                                                                                                                                                                                                                                                                                                                                                                                                                                                                                                                                                                                                                                                                                                                                                                                                                                                                                                                                                                                                                                                                                                                                                                                                                                                                                                                                    0]\n",
       "[                                                                                                                                                                                                                                                                                                                                                                                                                                                                                                                                                                                                                                                                                                                                                                                                                                                                                                                                                                                                                                                                                                                                                                                                                                                                                                                                                                                                                                                                   0                                                                                                                                                                                                                                                                                                                                                                                                                                                                                                                                                                                                                                                                                                                                                                                                                                                                                                                                                                                                                                                                                                                                                                                                                                                                                                                                                                                                                                                                    0                                                                                                                                                                                                                                                                                                                                                                                                                                                                                                                                                                                                                                                                                                                                                                                                                                                                                                                                                                                                                                                                                                                                                                                                                                                                                                                                                                                                                                                                    0                                                                                                                                                                                                                                                                                                                                                                                                                                                                                                                                                                                                                                                                                                                                                                                                                                                                                                                                                                                                                                                                                                                                                                                                                                                                                                                                                                                                                                                                    0                                                                                                                                                                                                                                                                                                                                                                                                                                                                                                                                                                                                                                                                                                                                                                                                                                                                                                                                                                                                                                                                                                                                                                                                                                                                                                                                                                                                                                                                    0                                                                                                                                                                                                                                                                                                                                                                                                                                                                                                                                                                                                                                                                                                                                                                                                                                                                                                                                                                                                                                                                                                                                                                                                                                                                                                                                                                                                                                                                    0                                                                                                                                                                                                                                                                                                                                                                                                                                                                                                                                                                                                                                                                                                                                                                                                                                                                                                                                                                                                                                                                                                                                                                                                                                                                                                                                                                                                                                                                    1                                                                                                                1/2*((2*(2*C_r_1*C_z_1*k_1*bessel_J(1, kappa*rho)*cos(h*k_1)^2 - C_r_1*C_z_1*k_1*bessel_J(1, kappa*rho))*m^2 + ((2*C_r_1*C_z_1*k_1*cos(h*k_1)^2 - C_r_1*C_z_1*k_1)*kappa^2*bessel_J(m + 1, kappa*rho) - (2*C_r_1*C_z_1*k_1*cos(h*k_1)^2 - C_r_1*C_z_1*k_1)*kappa^2*bessel_J(m - 1, kappa*rho) - 2*(2*C_r_1*C_z_1*k_1*bessel_J(1, kappa*rho)*cos(h*k_1)^2 - C_r_1*C_z_1*k_1*bessel_J(1, kappa*rho))*kappa^2)*rho)*cos(m*varphi) + (2*(2*C_z_1*D_r_1*k_1*bessel_J(1, kappa*rho)*cos(h*k_1)^2 - C_z_1*D_r_1*k_1*bessel_J(1, kappa*rho))*m^2 + ((2*C_r_1*D_z_1*k_1*cos(h*k_1)^2 - C_r_1*D_z_1*k_1)*kappa^2*bessel_J(m + 1, kappa*rho) - (2*C_r_1*D_z_1*k_1*cos(h*k_1)^2 - C_r_1*D_z_1*k_1)*kappa^2*bessel_J(m - 1, kappa*rho) - 2*(2*C_z_1*D_r_1*k_1*bessel_J(1, kappa*rho)*cos(h*k_1)^2 - C_z_1*D_r_1*k_1*bessel_J(1, kappa*rho))*kappa^2)*rho)*sin(m*varphi))/((2*C_r_1*D_p_1*kappa*m*bessel_J(m, kappa*rho)*cos(h*k_1)*sin(h*k_1) - (C_r_1*D_p_1*kappa^2*m*bessel_J(m + 1, kappa*rho)*cos(h*k_1)*sin(h*k_1) - C_r_1*D_p_1*kappa^2*m*bessel_J(m - 1, kappa*rho)*cos(h*k_1)*sin(h*k_1))*rho)*cos(m*varphi) - (2*C_p_1*C_r_1*kappa*m*bessel_J(m, kappa*rho)*cos(h*k_1)*sin(h*k_1) - (C_p_1*C_r_1*kappa^2*m*bessel_J(m + 1, kappa*rho)*cos(h*k_1)*sin(h*k_1) - C_p_1*C_r_1*kappa^2*m*bessel_J(m - 1, kappa*rho)*cos(h*k_1)*sin(h*k_1))*rho)*sin(m*varphi))]\n",
       "[                                                                                                                                                                                                                                                                                                                                                                                                                                                                                                                                                                                                                                                                                                                                                                                                                                                                                                                                                                                                                                                                                                                                                                                                                                                                                                                                                                                                                                                                   0                                                                                                                                                                                                                                                                                                                                                                                                                                                                                                                                                                                                                                                                                                                                                                                                                                                                                                                                                                                                                                                                                                                                                                                                                                                                                                                                                                                                                                                                    0                                                                                                                                                                                                                                                                                                                                                                                                                                                                                                                                                                                                                                                                                                                                                                                                                                                                                                                                                                                                                                                                                                                                                                                                                                                                                                                                                                                                                                                                    0                                                                                                                                                                                                                                                                                                                                                                                                                                                                                                                                                                                                                                                                                                                                                                                                                                                                                                                                                                                                                                                                                                                                                                                                                                                                                                                                                                                                                                                                    0                                                                                                                                                                                                                                                                                                                                                                                                                                                                                                                                                                                                                                                                                                                                                                                                                                                                                                                                                                                                                                                                                                                                                                                                                                                                                                                                                                                                                                                                    1                                                                                                                                                                                                                                                                                                                                                                                                                                                                                                                                                                                                                                                                                                                                                                                                                                                                                                                                                                                                                                                                                                                                                                                                                                                                                                                                                                                                                                                                    0                                                                                                                                                                                                                                                                                                                                                                                                                                                                                                                            1/2*(((C_p_1*C_r_1*kappa^2*bessel_J(m + 2, kappa*rho) + C_p_1*C_r_1*kappa^2*bessel_J(m - 2, kappa*rho) - 2*C_p_1*C_r_1*kappa^2*bessel_J(m, kappa*rho))*rho^2 + 4*(C_p_1*C_r_1*kappa^2*bessel_J(m, kappa*rho) - C_p_1*C_r_1*kappa*bessel_J(m + 1, kappa*rho) + C_p_1*C_r_1*kappa*bessel_J(m - 1, kappa*rho))*rho)*cos(m*varphi) + ((C_r_1*D_p_1*kappa^2*bessel_J(m + 2, kappa*rho) + C_r_1*D_p_1*kappa^2*bessel_J(m - 2, kappa*rho) - 2*C_r_1*D_p_1*kappa^2*bessel_J(m, kappa*rho))*rho^2 + 4*(C_r_1*D_p_1*kappa^2*bessel_J(m, kappa*rho) - C_r_1*D_p_1*kappa*bessel_J(m + 1, kappa*rho) + C_r_1*D_p_1*kappa*bessel_J(m - 1, kappa*rho))*rho)*sin(m*varphi))/((C_z_1*D_r_1*k_1*m*rho*(bessel_J(2, kappa*rho) - bessel_J(0, kappa*rho)) + 2*C_r_1*D_z_1*k_1*m*bessel_J(m, kappa*rho))*cos(m*varphi) - (C_r_1*C_z_1*k_1*m*rho*(bessel_J(2, kappa*rho) - bessel_J(0, kappa*rho)) + 2*C_r_1*C_z_1*k_1*m*bessel_J(m, kappa*rho))*sin(m*varphi))                                                                                                                                                                                                                                                                                                                                                                                                                                                                                                                                                                                                                                                                                                                                                                                                                                                                                                                                                                                                                                                                                                                                                                                                                                                                                                                                                                                                                                                                    0]\n",
       "[                                                                                                                                                                                                                                                                                                                                                                                                                                                                                                                                                                                                                                                                                                                                                                                                                                                                                                                                                                                                                                                                                                                                                                                                                                                                                                                                                                                                                                                                   0                                                                                                                                                                                                                                                                                                                                                                                                                                                                                                                                                                                                                                                                                                                                                                                                                                                                                                                                                                                                                                                                                                                                                                                                                                                                                                                                                                                                                                                                    0                                                                                                                                                                                                                                                                                                                                                                                                                                                                                                                                                                                                                                                                                                                                                                                                                                                                                                                                                                                                                                                                                                                                                                                                                                                                                                                                                                                                                                                                    0                                                                                                                                                                                                                                                                                                                                                                                                                                                                                                                                                                                                                                                                                                                                                                                                                                                                                                                                                                                                                                                                                                                                                                                                                                                                                                                                                                                                                                                                    0                                                                                                                                                                                                                                                                                                                                                                                                                                                                                                                                                                                                                                                                                                                                                                                                                                                                                                                                                                                                                                                                                                                                                                                                                                                                                                                                                                                                                                                                    0                                                                                                                                                                                                                                                                                                                                                                                                                                                                                                                                                                                                                                                                                                                                                                                                                                                                                                                                                                                                                                                                                                                                                                                                                                                                                                                                                                                                                                                                    1                                                                                                                                                                                                                                                                                                                                                                                                                                                                                                                                                                                                                                                                                                                                                                                                                                                                                                                                                                                                                  (D_p_1*c^2*k_1*m*rho*bessel_J(m, kappa*rho)*cos(h*k_1)*cos(m*varphi)*sin(h*k_1) - C_p_1*c^2*k_1*m*rho*bessel_J(m, kappa*rho)*cos(h*k_1)*sin(h*k_1)*sin(m*varphi))/((C_r_1*c^2*k_1*rho^2*cos(h*k_1)*sin(h*k_1)*diff(E_r_r1(rho), rho) + C_r_1*c^2*k_1*rho*E_r_r1(rho)*cos(h*k_1)*sin(h*k_1))*cos(m*varphi) + (D_r_1*c^2*k_1*rho^2*cos(h*k_1)*sin(h*k_1)*diff(E_r_r1(rho), rho) + D_r_1*c^2*k_1*rho*E_r_r1(rho)*cos(h*k_1)*sin(h*k_1))*sin(m*varphi)) -1/8*((4*(2*C_z_1*c^2*sin(h*k_1)^2 - C_z_1*c^2)*m^2*bessel_J(m, kappa*rho) - ((2*C_z_1*c^2*sin(h*k_1)^2 - C_z_1*c^2)*kappa^2*bessel_J(m + 2, kappa*rho) + (2*C_z_1*c^2*sin(h*k_1)^2 - C_z_1*c^2)*kappa^2*bessel_J(m - 2, kappa*rho) - 2*(2*C_z_1*c^2*sin(h*k_1)^2 - C_z_1*c^2)*kappa^2*bessel_J(m, kappa*rho))*rho^2 + 2*(2*(2*C_z_1*epsilon_1*sin(h*k_1)^2 - C_z_1*epsilon_1)*mu_1*omega^2*bessel_J(m, kappa*rho) + (2*C_z_1*c^2*sin(h*k_1)^2 - C_z_1*c^2)*kappa*bessel_J(m + 1, kappa*rho) - (2*C_z_1*c^2*sin(h*k_1)^2 - C_z_1*c^2)*kappa*bessel_J(m - 1, kappa*rho))*rho)*cos(m*varphi) + (4*(2*D_z_1*c^2*sin(h*k_1)^2 - D_z_1*c^2)*m^2*bessel_J(m, kappa*rho) - ((2*D_z_1*c^2*sin(h*k_1)^2 - D_z_1*c^2)*kappa^2*bessel_J(m + 2, kappa*rho) + (2*D_z_1*c^2*sin(h*k_1)^2 - D_z_1*c^2)*kappa^2*bessel_J(m - 2, kappa*rho) - 2*(2*D_z_1*c^2*sin(h*k_1)^2 - D_z_1*c^2)*kappa^2*bessel_J(m, kappa*rho))*rho^2 + 2*(2*(2*D_z_1*epsilon_1*sin(h*k_1)^2 - D_z_1*epsilon_1)*mu_1*omega^2*bessel_J(m, kappa*rho) + (2*D_z_1*c^2*sin(h*k_1)^2 - D_z_1*c^2)*kappa*bessel_J(m + 1, kappa*rho) - (2*D_z_1*c^2*sin(h*k_1)^2 - D_z_1*c^2)*kappa*bessel_J(m - 1, kappa*rho))*rho)*sin(m*varphi))/((C_r_1*c^2*k_1*rho^2*cos(h*k_1)*sin(h*k_1)*diff(E_r_r1(rho), rho) + C_r_1*c^2*k_1*rho*E_r_r1(rho)*cos(h*k_1)*sin(h*k_1))*cos(m*varphi) + (D_r_1*c^2*k_1*rho^2*cos(h*k_1)*sin(h*k_1)*diff(E_r_r1(rho), rho) + D_r_1*c^2*k_1*rho*E_r_r1(rho)*cos(h*k_1)*sin(h*k_1))*sin(m*varphi))]"
      ]
     },
     "execution_count": 95,
     "metadata": {},
     "output_type": "execute_result"
    }
   ],
   "source": [
    "reduced_M_res_rot_H"
   ]
  },
  {
   "cell_type": "code",
   "execution_count": 96,
   "metadata": {},
   "outputs": [],
   "source": [
    "def make_eqsys_from_reduced_M(M_rotH, vars):\n",
    "    xx = vector(SR, vars)\n",
    "    # print(\"eqns =\")\n",
    "    eqns = [(M_rotH*xx)[index] == 0 for index in range(M_rotH.nrows())]\n",
    "    # display(Math(latex(eqns)))\n",
    "    return (eqns)"
   ]
  },
  {
   "cell_type": "code",
   "execution_count": 97,
   "metadata": {},
   "outputs": [],
   "source": [
    "eqsys_rotH_simplified = make_eqsys_from_reduced_M(reduced_M_res_rot_H, all_vars)"
   ]
  },
  {
   "cell_type": "code",
   "execution_count": null,
   "metadata": {},
   "outputs": [],
   "source": []
  },
  {
   "cell_type": "code",
   "execution_count": 98,
   "metadata": {},
   "outputs": [],
   "source": [
    "bch = []\n",
    "bc =  []\n",
    "for i  in range (n_layers-1):\n",
    "    bc += [E_rho[i](rh,ph, (i + 1) * h).full_simplify() == E_rho[i+1](rh,ph,(i+1)*h).full_simplify()]\n",
    "    bc += [E_phi[i](rh,ph, (i + 1) * h).full_simplify() == E_phi[i+1](rh,ph,(i+1)*h).full_simplify()]\n",
    "    bc += [epsilon[i] * E_zz[i](rh,ph,(i+1)*h).full_simplify() == epsilon[i+1]*E_zz[i+1](rh,ph,(i+1)*h).full_simplify()]\n",
    "\n",
    "    bch += [H_phi [i](rh,ph,(i+1)*h).full_simplify() == H_phi [i+1](rh,ph,(i+1)*h).full_simplify()]"
   ]
  },
  {
   "cell_type": "code",
   "execution_count": 99,
   "metadata": {},
   "outputs": [
    {
     "data": {
      "text/plain": [
       "[-((B_z_0*C_r_0*C_z_0*k_0*bessel_J(1, kappa*rho)*cos(h*k_0) - A_z_0*C_r_0*C_z_0*k_0*bessel_J(1, kappa*rho)*sin(h*k_0))*cos(m*varphi) + (B_z_0*C_z_0*D_r_0*k_0*bessel_J(1, kappa*rho)*cos(h*k_0) - A_z_0*C_z_0*D_r_0*k_0*bessel_J(1, kappa*rho)*sin(h*k_0))*sin(m*varphi))/(C_r_0*kappa) == -((B_z_1*C_r_1*C_z_1*k_1*bessel_J(1, kappa*rho)*cos(h*k_1) - A_z_1*C_r_1*C_z_1*k_1*bessel_J(1, kappa*rho)*sin(h*k_1))*cos(m*varphi) + (B_z_1*C_z_1*D_r_1*k_1*bessel_J(1, kappa*rho)*cos(h*k_1) - A_z_1*C_z_1*D_r_1*k_1*bessel_J(1, kappa*rho)*sin(h*k_1))*sin(m*varphi))/(C_r_1*kappa),\n",
       " B_phi_0*C_p_0*bessel_J(m, kappa*rho)*cos(m*varphi)*sin(h*k_0) + B_phi_0*D_p_0*bessel_J(m, kappa*rho)*sin(h*k_0)*sin(m*varphi) == (B_phi_1*C_p_1*bessel_J(m, kappa*rho)*cos(m*varphi)*sin(h*k_1) + B_phi_1*D_p_1*bessel_J(m, kappa*rho)*sin(h*k_1)*sin(m*varphi))/(2*sin(h*k_1)^2 - 1),\n",
       " ((A_z_0*C_z_0*cos(h*k_0) + B_z_0*C_z_0*sin(h*k_0))*bessel_J(m, kappa*rho)*cos(m*varphi) + (A_z_0*D_z_0*cos(h*k_0) + B_z_0*D_z_0*sin(h*k_0))*bessel_J(m, kappa*rho)*sin(m*varphi))*epsilon_0 == ((A_z_1*C_z_1*cos(h*k_1) + B_z_1*C_z_1*sin(h*k_1))*bessel_J(m, kappa*rho)*cos(m*varphi) + (A_z_1*D_z_1*cos(h*k_1) + B_z_1*D_z_1*sin(h*k_1))*bessel_J(m, kappa*rho)*sin(m*varphi))*epsilon_1]"
      ]
     },
     "execution_count": 99,
     "metadata": {},
     "output_type": "execute_result"
    }
   ],
   "source": [
    "bc"
   ]
  },
  {
   "cell_type": "code",
   "execution_count": 100,
   "metadata": {
    "scrolled": true
   },
   "outputs": [
    {
     "data": {
      "text/plain": [
       "[-1/2*((2*I*A_z_0*C_r_0*C_z_0*c*k_0^2*bessel_J(1, kappa*rho)*cos(h*k_0) + 2*I*B_z_0*C_r_0*C_z_0*c*k_0^2*bessel_J(1, kappa*rho)*sin(h*k_0) + (I*A_z_0*C_r_0*C_z_0*c*cos(h*k_0) + I*B_z_0*C_r_0*C_z_0*c*sin(h*k_0))*kappa^2*bessel_J(m + 1, kappa*rho) + (-I*A_z_0*C_r_0*C_z_0*c*cos(h*k_0) - I*B_z_0*C_r_0*C_z_0*c*sin(h*k_0))*kappa^2*bessel_J(m - 1, kappa*rho))*cos(m*varphi) + (2*I*A_z_0*C_z_0*D_r_0*c*k_0^2*bessel_J(1, kappa*rho)*cos(h*k_0) + 2*I*B_z_0*C_z_0*D_r_0*c*k_0^2*bessel_J(1, kappa*rho)*sin(h*k_0) + (I*A_z_0*C_r_0*D_z_0*c*cos(h*k_0) + I*B_z_0*C_r_0*D_z_0*c*sin(h*k_0))*kappa^2*bessel_J(m + 1, kappa*rho) + (-I*A_z_0*C_r_0*D_z_0*c*cos(h*k_0) - I*B_z_0*C_r_0*D_z_0*c*sin(h*k_0))*kappa^2*bessel_J(m - 1, kappa*rho))*sin(m*varphi))/(C_r_0*kappa*mu_0*omega) == -1/2*((2*I*A_z_1*C_r_1*C_z_1*c*k_1^2*bessel_J(1, kappa*rho)*cos(h*k_1) + 2*I*B_z_1*C_r_1*C_z_1*c*k_1^2*bessel_J(1, kappa*rho)*sin(h*k_1) + (I*A_z_1*C_r_1*C_z_1*c*cos(h*k_1) + I*B_z_1*C_r_1*C_z_1*c*sin(h*k_1))*kappa^2*bessel_J(m + 1, kappa*rho) + (-I*A_z_1*C_r_1*C_z_1*c*cos(h*k_1) - I*B_z_1*C_r_1*C_z_1*c*sin(h*k_1))*kappa^2*bessel_J(m - 1, kappa*rho))*cos(m*varphi) + (2*I*A_z_1*C_z_1*D_r_1*c*k_1^2*bessel_J(1, kappa*rho)*cos(h*k_1) + 2*I*B_z_1*C_z_1*D_r_1*c*k_1^2*bessel_J(1, kappa*rho)*sin(h*k_1) + (I*A_z_1*C_r_1*D_z_1*c*cos(h*k_1) + I*B_z_1*C_r_1*D_z_1*c*sin(h*k_1))*kappa^2*bessel_J(m + 1, kappa*rho) + (-I*A_z_1*C_r_1*D_z_1*c*cos(h*k_1) - I*B_z_1*C_r_1*D_z_1*c*sin(h*k_1))*kappa^2*bessel_J(m - 1, kappa*rho))*sin(m*varphi))/(C_r_1*kappa*mu_1*omega)]"
      ]
     },
     "execution_count": 100,
     "metadata": {},
     "output_type": "execute_result"
    }
   ],
   "source": [
    "bch"
   ]
  },
  {
   "cell_type": "code",
   "execution_count": 101,
   "metadata": {},
   "outputs": [
    {
     "data": {
      "text/latex": [
       "$$\\left[-\\frac{{\\left(B_{z_{0}} C_{r_{0}} C_{z_{0}} k_{0} J_{1}(\\kappa \\rho) \\cos\\left(h k_{0}\\right) - A_{z_{0}} C_{r_{0}} C_{z_{0}} k_{0} J_{1}(\\kappa \\rho) \\sin\\left(h k_{0}\\right)\\right)} \\cos\\left(m \\varphi\\right) + {\\left(B_{z_{0}} C_{z_{0}} D_{r_{0}} k_{0} J_{1}(\\kappa \\rho) \\cos\\left(h k_{0}\\right) - A_{z_{0}} C_{z_{0}} D_{r_{0}} k_{0} J_{1}(\\kappa \\rho) \\sin\\left(h k_{0}\\right)\\right)} \\sin\\left(m \\varphi\\right)}{C_{r_{0}} \\kappa} = -\\frac{{\\left(B_{z_{1}} C_{r_{1}} C_{z_{1}} k_{1} J_{1}(\\kappa \\rho) \\cos\\left(h k_{1}\\right) - A_{z_{1}} C_{r_{1}} C_{z_{1}} k_{1} J_{1}(\\kappa \\rho) \\sin\\left(h k_{1}\\right)\\right)} \\cos\\left(m \\varphi\\right) + {\\left(B_{z_{1}} C_{z_{1}} D_{r_{1}} k_{1} J_{1}(\\kappa \\rho) \\cos\\left(h k_{1}\\right) - A_{z_{1}} C_{z_{1}} D_{r_{1}} k_{1} J_{1}(\\kappa \\rho) \\sin\\left(h k_{1}\\right)\\right)} \\sin\\left(m \\varphi\\right)}{C_{r_{1}} \\kappa}, B_{\\phi_{0}} C_{p_{0}} J_{m}(\\kappa \\rho) \\cos\\left(m \\varphi\\right) \\sin\\left(h k_{0}\\right) + B_{\\phi_{0}} D_{p_{0}} J_{m}(\\kappa \\rho) \\sin\\left(h k_{0}\\right) \\sin\\left(m \\varphi\\right) = \\frac{B_{\\phi_{1}} C_{p_{1}} J_{m}(\\kappa \\rho) \\cos\\left(m \\varphi\\right) \\sin\\left(h k_{1}\\right) + B_{\\phi_{1}} D_{p_{1}} J_{m}(\\kappa \\rho) \\sin\\left(h k_{1}\\right) \\sin\\left(m \\varphi\\right)}{2 \\, \\sin\\left(h k_{1}\\right)^{2} - 1}, {\\left({\\left(A_{z_{0}} C_{z_{0}} \\cos\\left(h k_{0}\\right) + B_{z_{0}} C_{z_{0}} \\sin\\left(h k_{0}\\right)\\right)} J_{m}(\\kappa \\rho) \\cos\\left(m \\varphi\\right) + {\\left(A_{z_{0}} D_{z_{0}} \\cos\\left(h k_{0}\\right) + B_{z_{0}} D_{z_{0}} \\sin\\left(h k_{0}\\right)\\right)} J_{m}(\\kappa \\rho) \\sin\\left(m \\varphi\\right)\\right)} \\epsilon_{0} = {\\left({\\left(A_{z_{1}} C_{z_{1}} \\cos\\left(h k_{1}\\right) + B_{z_{1}} C_{z_{1}} \\sin\\left(h k_{1}\\right)\\right)} J_{m}(\\kappa \\rho) \\cos\\left(m \\varphi\\right) + {\\left(A_{z_{1}} D_{z_{1}} \\cos\\left(h k_{1}\\right) + B_{z_{1}} D_{z_{1}} \\sin\\left(h k_{1}\\right)\\right)} J_{m}(\\kappa \\rho) \\sin\\left(m \\varphi\\right)\\right)} \\epsilon_{1}, A_{z_{0}} + \\frac{{\\left({\\left(2 \\, C_{r_{0}} D_{p_{0}} \\kappa m J_{m}(\\kappa \\rho) - {\\left(C_{r_{0}} D_{p_{0}} \\kappa^{2} m J_{m + 1}(\\kappa \\rho) - C_{r_{0}} D_{p_{0}} \\kappa^{2} m J_{m - 1}(\\kappa \\rho)\\right)} \\rho\\right)} \\cos\\left(m \\varphi\\right) - {\\left(2 \\, C_{p_{0}} C_{r_{0}} \\kappa m J_{m}(\\kappa \\rho) - {\\left(C_{p_{0}} C_{r_{0}} \\kappa^{2} m J_{m + 1}(\\kappa \\rho) - C_{p_{0}} C_{r_{0}} \\kappa^{2} m J_{m - 1}(\\kappa \\rho)\\right)} \\rho\\right)} \\sin\\left(m \\varphi\\right)\\right)} B_{\\phi_{0}}}{{\\left(2 \\, C_{r_{0}} C_{z_{0}} k_{0} m^{2} J_{1}(\\kappa \\rho) - {\\left(2 \\, C_{r_{0}} C_{z_{0}} k_{0} \\kappa^{2} J_{1}(\\kappa \\rho) - C_{r_{0}} C_{z_{0}} k_{0} \\kappa^{2} J_{m + 1}(\\kappa \\rho) + C_{r_{0}} C_{z_{0}} k_{0} \\kappa^{2} J_{m - 1}(\\kappa \\rho)\\right)} \\rho\\right)} \\cos\\left(m \\varphi\\right) + {\\left(2 \\, C_{z_{0}} D_{r_{0}} k_{0} m^{2} J_{1}(\\kappa \\rho) - {\\left(2 \\, C_{z_{0}} D_{r_{0}} k_{0} \\kappa^{2} J_{1}(\\kappa \\rho) - C_{r_{0}} D_{z_{0}} k_{0} \\kappa^{2} J_{m + 1}(\\kappa \\rho) + C_{r_{0}} D_{z_{0}} k_{0} \\kappa^{2} J_{m - 1}(\\kappa \\rho)\\right)} \\rho\\right)} \\sin\\left(m \\varphi\\right)} = 0, B_{z_{0}} = 0, A_{z_{0}} + \\frac{{\\left({\\left({\\left(C_{p_{0}} C_{r_{0}} \\kappa^{2} J_{m + 2}(\\kappa \\rho) + C_{p_{0}} C_{r_{0}} \\kappa^{2} J_{m - 2}(\\kappa \\rho) - 2 \\, C_{p_{0}} C_{r_{0}} \\kappa^{2} J_{m}(\\kappa \\rho)\\right)} \\rho^{2} + 4 \\, {\\left(C_{p_{0}} C_{r_{0}} \\kappa^{2} J_{m}(\\kappa \\rho) - C_{p_{0}} C_{r_{0}} \\kappa J_{m + 1}(\\kappa \\rho) + C_{p_{0}} C_{r_{0}} \\kappa J_{m - 1}(\\kappa \\rho)\\right)} \\rho\\right)} \\cos\\left(m \\varphi\\right) + {\\left({\\left(C_{r_{0}} D_{p_{0}} \\kappa^{2} J_{m + 2}(\\kappa \\rho) + C_{r_{0}} D_{p_{0}} \\kappa^{2} J_{m - 2}(\\kappa \\rho) - 2 \\, C_{r_{0}} D_{p_{0}} \\kappa^{2} J_{m}(\\kappa \\rho)\\right)} \\rho^{2} + 4 \\, {\\left(C_{r_{0}} D_{p_{0}} \\kappa^{2} J_{m}(\\kappa \\rho) - C_{r_{0}} D_{p_{0}} \\kappa J_{m + 1}(\\kappa \\rho) + C_{r_{0}} D_{p_{0}} \\kappa J_{m - 1}(\\kappa \\rho)\\right)} \\rho\\right)} \\sin\\left(m \\varphi\\right)\\right)} B_{\\phi_{0}}}{2 \\, {\\left({\\left(C_{z_{0}} D_{r_{0}} k_{0} m \\rho {\\left(J_{2}(\\kappa \\rho) - J_{0}(\\kappa \\rho)\\right)} + 2 \\, C_{r_{0}} D_{z_{0}} k_{0} m J_{m}(\\kappa \\rho)\\right)} \\cos\\left(m \\varphi\\right) - {\\left(C_{r_{0}} C_{z_{0}} k_{0} m \\rho {\\left(J_{2}(\\kappa \\rho) - J_{0}(\\kappa \\rho)\\right)} + 2 \\, C_{r_{0}} C_{z_{0}} k_{0} m J_{m}(\\kappa \\rho)\\right)} \\sin\\left(m \\varphi\\right)\\right)}} = 0, A_{z_{0}} + \\frac{4 \\, {\\left(D_{p_{0}} c^{2} k_{0} m \\rho J_{m}(\\kappa \\rho) \\cos\\left(m \\varphi\\right) - C_{p_{0}} c^{2} k_{0} m \\rho J_{m}(\\kappa \\rho) \\sin\\left(m \\varphi\\right)\\right)} B_{\\phi_{0}}}{{\\left(4 \\, C_{z_{0}} c^{2} m^{2} J_{m}(\\kappa \\rho) - {\\left(C_{z_{0}} c^{2} \\kappa^{2} J_{m + 2}(\\kappa \\rho) + C_{z_{0}} c^{2} \\kappa^{2} J_{m - 2}(\\kappa \\rho) - 2 \\, C_{z_{0}} c^{2} \\kappa^{2} J_{m}(\\kappa \\rho)\\right)} \\rho^{2} + 2 \\, {\\left(2 \\, C_{z_{0}} \\epsilon_{0} \\mu_{0} \\omega^{2} J_{m}(\\kappa \\rho) + C_{z_{0}} c^{2} \\kappa J_{m + 1}(\\kappa \\rho) - C_{z_{0}} c^{2} \\kappa J_{m - 1}(\\kappa \\rho)\\right)} \\rho\\right)} \\cos\\left(m \\varphi\\right) + {\\left(4 \\, D_{z_{0}} c^{2} m^{2} J_{m}(\\kappa \\rho) - {\\left(D_{z_{0}} c^{2} \\kappa^{2} J_{m + 2}(\\kappa \\rho) + D_{z_{0}} c^{2} \\kappa^{2} J_{m - 2}(\\kappa \\rho) - 2 \\, D_{z_{0}} c^{2} \\kappa^{2} J_{m}(\\kappa \\rho)\\right)} \\rho^{2} + 2 \\, {\\left(2 \\, D_{z_{0}} \\epsilon_{0} \\mu_{0} \\omega^{2} J_{m}(\\kappa \\rho) + D_{z_{0}} c^{2} \\kappa J_{m + 1}(\\kappa \\rho) - D_{z_{0}} c^{2} \\kappa J_{m - 1}(\\kappa \\rho)\\right)} \\rho\\right)} \\sin\\left(m \\varphi\\right)} + \\frac{4 \\, {\\left({\\left(C_{r_{0}} c^{2} k_{0} \\rho^{2} \\frac{\\partial}{\\partial \\rho}E_{r_{r_{0}}}\\left(\\rho\\right) + C_{r_{0}} c^{2} k_{0} \\rho E_{r_{r_{0}}}\\left(\\rho\\right)\\right)} \\cos\\left(m \\varphi\\right) + {\\left(D_{r_{0}} c^{2} k_{0} \\rho^{2} \\frac{\\partial}{\\partial \\rho}E_{r_{r_{0}}}\\left(\\rho\\right) + D_{r_{0}} c^{2} k_{0} \\rho E_{r_{r_{0}}}\\left(\\rho\\right)\\right)} \\sin\\left(m \\varphi\\right)\\right)} B_{r_{0}}}{{\\left(4 \\, C_{z_{0}} c^{2} m^{2} J_{m}(\\kappa \\rho) - {\\left(C_{z_{0}} c^{2} \\kappa^{2} J_{m + 2}(\\kappa \\rho) + C_{z_{0}} c^{2} \\kappa^{2} J_{m - 2}(\\kappa \\rho) - 2 \\, C_{z_{0}} c^{2} \\kappa^{2} J_{m}(\\kappa \\rho)\\right)} \\rho^{2} + 2 \\, {\\left(2 \\, C_{z_{0}} \\epsilon_{0} \\mu_{0} \\omega^{2} J_{m}(\\kappa \\rho) + C_{z_{0}} c^{2} \\kappa J_{m + 1}(\\kappa \\rho) - C_{z_{0}} c^{2} \\kappa J_{m - 1}(\\kappa \\rho)\\right)} \\rho\\right)} \\cos\\left(m \\varphi\\right) + {\\left(4 \\, D_{z_{0}} c^{2} m^{2} J_{m}(\\kappa \\rho) - {\\left(D_{z_{0}} c^{2} \\kappa^{2} J_{m + 2}(\\kappa \\rho) + D_{z_{0}} c^{2} \\kappa^{2} J_{m - 2}(\\kappa \\rho) - 2 \\, D_{z_{0}} c^{2} \\kappa^{2} J_{m}(\\kappa \\rho)\\right)} \\rho^{2} + 2 \\, {\\left(2 \\, D_{z_{0}} \\epsilon_{0} \\mu_{0} \\omega^{2} J_{m}(\\kappa \\rho) + D_{z_{0}} c^{2} \\kappa J_{m + 1}(\\kappa \\rho) - D_{z_{0}} c^{2} \\kappa J_{m - 1}(\\kappa \\rho)\\right)} \\rho\\right)} \\sin\\left(m \\varphi\\right)} = 0, A_{z_{1}} - \\frac{{\\left({\\left(2 \\, {\\left(2 \\, C_{r_{1}} D_{p_{1}} \\cos\\left(h k_{1}\\right)^{2} - C_{r_{1}} D_{p_{1}}\\right)} \\kappa m J_{m}(\\kappa \\rho) - {\\left({\\left(2 \\, C_{r_{1}} D_{p_{1}} \\cos\\left(h k_{1}\\right)^{2} - C_{r_{1}} D_{p_{1}}\\right)} \\kappa^{2} m J_{m + 1}(\\kappa \\rho) - {\\left(2 \\, C_{r_{1}} D_{p_{1}} \\cos\\left(h k_{1}\\right)^{2} - C_{r_{1}} D_{p_{1}}\\right)} \\kappa^{2} m J_{m - 1}(\\kappa \\rho)\\right)} \\rho\\right)} \\cos\\left(m \\varphi\\right) - {\\left(2 \\, {\\left(2 \\, C_{p_{1}} C_{r_{1}} \\cos\\left(h k_{1}\\right)^{2} - C_{p_{1}} C_{r_{1}}\\right)} \\kappa m J_{m}(\\kappa \\rho) - {\\left({\\left(2 \\, C_{p_{1}} C_{r_{1}} \\cos\\left(h k_{1}\\right)^{2} - C_{p_{1}} C_{r_{1}}\\right)} \\kappa^{2} m J_{m + 1}(\\kappa \\rho) - {\\left(2 \\, C_{p_{1}} C_{r_{1}} \\cos\\left(h k_{1}\\right)^{2} - C_{p_{1}} C_{r_{1}}\\right)} \\kappa^{2} m J_{m - 1}(\\kappa \\rho)\\right)} \\rho\\right)} \\sin\\left(m \\varphi\\right)\\right)} B_{\\phi_{1}}}{{\\left(2 \\, {\\left(2 \\, C_{r_{1}} C_{z_{1}} k_{1} J_{1}(\\kappa \\rho) \\sin\\left(h k_{1}\\right)^{2} - C_{r_{1}} C_{z_{1}} k_{1} J_{1}(\\kappa \\rho)\\right)} m^{2} + {\\left({\\left(2 \\, C_{r_{1}} C_{z_{1}} k_{1} \\sin\\left(h k_{1}\\right)^{2} - C_{r_{1}} C_{z_{1}} k_{1}\\right)} \\kappa^{2} J_{m + 1}(\\kappa \\rho) - {\\left(2 \\, C_{r_{1}} C_{z_{1}} k_{1} \\sin\\left(h k_{1}\\right)^{2} - C_{r_{1}} C_{z_{1}} k_{1}\\right)} \\kappa^{2} J_{m - 1}(\\kappa \\rho) - 2 \\, {\\left(2 \\, C_{r_{1}} C_{z_{1}} k_{1} J_{1}(\\kappa \\rho) \\sin\\left(h k_{1}\\right)^{2} - C_{r_{1}} C_{z_{1}} k_{1} J_{1}(\\kappa \\rho)\\right)} \\kappa^{2}\\right)} \\rho\\right)} \\cos\\left(m \\varphi\\right) + {\\left(2 \\, {\\left(2 \\, C_{z_{1}} D_{r_{1}} k_{1} J_{1}(\\kappa \\rho) \\sin\\left(h k_{1}\\right)^{2} - C_{z_{1}} D_{r_{1}} k_{1} J_{1}(\\kappa \\rho)\\right)} m^{2} + {\\left({\\left(2 \\, C_{r_{1}} D_{z_{1}} k_{1} \\sin\\left(h k_{1}\\right)^{2} - C_{r_{1}} D_{z_{1}} k_{1}\\right)} \\kappa^{2} J_{m + 1}(\\kappa \\rho) - {\\left(2 \\, C_{r_{1}} D_{z_{1}} k_{1} \\sin\\left(h k_{1}\\right)^{2} - C_{r_{1}} D_{z_{1}} k_{1}\\right)} \\kappa^{2} J_{m - 1}(\\kappa \\rho) - 2 \\, {\\left(2 \\, C_{z_{1}} D_{r_{1}} k_{1} J_{1}(\\kappa \\rho) \\sin\\left(h k_{1}\\right)^{2} - C_{z_{1}} D_{r_{1}} k_{1} J_{1}(\\kappa \\rho)\\right)} \\kappa^{2}\\right)} \\rho\\right)} \\sin\\left(m \\varphi\\right)} = 0, B_{\\phi_{1}} + \\frac{{\\left({\\left(2 \\, {\\left(2 \\, C_{r_{1}} C_{z_{1}} k_{1} J_{1}(\\kappa \\rho) \\cos\\left(h k_{1}\\right)^{2} - C_{r_{1}} C_{z_{1}} k_{1} J_{1}(\\kappa \\rho)\\right)} m^{2} + {\\left({\\left(2 \\, C_{r_{1}} C_{z_{1}} k_{1} \\cos\\left(h k_{1}\\right)^{2} - C_{r_{1}} C_{z_{1}} k_{1}\\right)} \\kappa^{2} J_{m + 1}(\\kappa \\rho) - {\\left(2 \\, C_{r_{1}} C_{z_{1}} k_{1} \\cos\\left(h k_{1}\\right)^{2} - C_{r_{1}} C_{z_{1}} k_{1}\\right)} \\kappa^{2} J_{m - 1}(\\kappa \\rho) - 2 \\, {\\left(2 \\, C_{r_{1}} C_{z_{1}} k_{1} J_{1}(\\kappa \\rho) \\cos\\left(h k_{1}\\right)^{2} - C_{r_{1}} C_{z_{1}} k_{1} J_{1}(\\kappa \\rho)\\right)} \\kappa^{2}\\right)} \\rho\\right)} \\cos\\left(m \\varphi\\right) + {\\left(2 \\, {\\left(2 \\, C_{z_{1}} D_{r_{1}} k_{1} J_{1}(\\kappa \\rho) \\cos\\left(h k_{1}\\right)^{2} - C_{z_{1}} D_{r_{1}} k_{1} J_{1}(\\kappa \\rho)\\right)} m^{2} + {\\left({\\left(2 \\, C_{r_{1}} D_{z_{1}} k_{1} \\cos\\left(h k_{1}\\right)^{2} - C_{r_{1}} D_{z_{1}} k_{1}\\right)} \\kappa^{2} J_{m + 1}(\\kappa \\rho) - {\\left(2 \\, C_{r_{1}} D_{z_{1}} k_{1} \\cos\\left(h k_{1}\\right)^{2} - C_{r_{1}} D_{z_{1}} k_{1}\\right)} \\kappa^{2} J_{m - 1}(\\kappa \\rho) - 2 \\, {\\left(2 \\, C_{z_{1}} D_{r_{1}} k_{1} J_{1}(\\kappa \\rho) \\cos\\left(h k_{1}\\right)^{2} - C_{z_{1}} D_{r_{1}} k_{1} J_{1}(\\kappa \\rho)\\right)} \\kappa^{2}\\right)} \\rho\\right)} \\sin\\left(m \\varphi\\right)\\right)} B_{z_{1}}}{2 \\, {\\left({\\left(2 \\, C_{r_{1}} D_{p_{1}} \\kappa m J_{m}(\\kappa \\rho) \\cos\\left(h k_{1}\\right) \\sin\\left(h k_{1}\\right) - {\\left(C_{r_{1}} D_{p_{1}} \\kappa^{2} m J_{m + 1}(\\kappa \\rho) \\cos\\left(h k_{1}\\right) \\sin\\left(h k_{1}\\right) - C_{r_{1}} D_{p_{1}} \\kappa^{2} m J_{m - 1}(\\kappa \\rho) \\cos\\left(h k_{1}\\right) \\sin\\left(h k_{1}\\right)\\right)} \\rho\\right)} \\cos\\left(m \\varphi\\right) - {\\left(2 \\, C_{p_{1}} C_{r_{1}} \\kappa m J_{m}(\\kappa \\rho) \\cos\\left(h k_{1}\\right) \\sin\\left(h k_{1}\\right) - {\\left(C_{p_{1}} C_{r_{1}} \\kappa^{2} m J_{m + 1}(\\kappa \\rho) \\cos\\left(h k_{1}\\right) \\sin\\left(h k_{1}\\right) - C_{p_{1}} C_{r_{1}} \\kappa^{2} m J_{m - 1}(\\kappa \\rho) \\cos\\left(h k_{1}\\right) \\sin\\left(h k_{1}\\right)\\right)} \\rho\\right)} \\sin\\left(m \\varphi\\right)\\right)}} = 0, A_{z_{1}} + \\frac{{\\left({\\left({\\left(C_{p_{1}} C_{r_{1}} \\kappa^{2} J_{m + 2}(\\kappa \\rho) + C_{p_{1}} C_{r_{1}} \\kappa^{2} J_{m - 2}(\\kappa \\rho) - 2 \\, C_{p_{1}} C_{r_{1}} \\kappa^{2} J_{m}(\\kappa \\rho)\\right)} \\rho^{2} + 4 \\, {\\left(C_{p_{1}} C_{r_{1}} \\kappa^{2} J_{m}(\\kappa \\rho) - C_{p_{1}} C_{r_{1}} \\kappa J_{m + 1}(\\kappa \\rho) + C_{p_{1}} C_{r_{1}} \\kappa J_{m - 1}(\\kappa \\rho)\\right)} \\rho\\right)} \\cos\\left(m \\varphi\\right) + {\\left({\\left(C_{r_{1}} D_{p_{1}} \\kappa^{2} J_{m + 2}(\\kappa \\rho) + C_{r_{1}} D_{p_{1}} \\kappa^{2} J_{m - 2}(\\kappa \\rho) - 2 \\, C_{r_{1}} D_{p_{1}} \\kappa^{2} J_{m}(\\kappa \\rho)\\right)} \\rho^{2} + 4 \\, {\\left(C_{r_{1}} D_{p_{1}} \\kappa^{2} J_{m}(\\kappa \\rho) - C_{r_{1}} D_{p_{1}} \\kappa J_{m + 1}(\\kappa \\rho) + C_{r_{1}} D_{p_{1}} \\kappa J_{m - 1}(\\kappa \\rho)\\right)} \\rho\\right)} \\sin\\left(m \\varphi\\right)\\right)} B_{\\phi_{1}}}{2 \\, {\\left({\\left(C_{z_{1}} D_{r_{1}} k_{1} m \\rho {\\left(J_{2}(\\kappa \\rho) - J_{0}(\\kappa \\rho)\\right)} + 2 \\, C_{r_{1}} D_{z_{1}} k_{1} m J_{m}(\\kappa \\rho)\\right)} \\cos\\left(m \\varphi\\right) - {\\left(C_{r_{1}} C_{z_{1}} k_{1} m \\rho {\\left(J_{2}(\\kappa \\rho) - J_{0}(\\kappa \\rho)\\right)} + 2 \\, C_{r_{1}} C_{z_{1}} k_{1} m J_{m}(\\kappa \\rho)\\right)} \\sin\\left(m \\varphi\\right)\\right)}} = 0, \\frac{{\\left(D_{p_{1}} c^{2} k_{1} m \\rho J_{m}(\\kappa \\rho) \\cos\\left(h k_{1}\\right) \\cos\\left(m \\varphi\\right) \\sin\\left(h k_{1}\\right) - C_{p_{1}} c^{2} k_{1} m \\rho J_{m}(\\kappa \\rho) \\cos\\left(h k_{1}\\right) \\sin\\left(h k_{1}\\right) \\sin\\left(m \\varphi\\right)\\right)} B_{\\phi_{1}}}{{\\left(C_{r_{1}} c^{2} k_{1} \\rho^{2} \\cos\\left(h k_{1}\\right) \\sin\\left(h k_{1}\\right) \\frac{\\partial}{\\partial \\rho}E_{r_{r_{1}}}\\left(\\rho\\right) + C_{r_{1}} c^{2} k_{1} \\rho E_{r_{r_{1}}}\\left(\\rho\\right) \\cos\\left(h k_{1}\\right) \\sin\\left(h k_{1}\\right)\\right)} \\cos\\left(m \\varphi\\right) + {\\left(D_{r_{1}} c^{2} k_{1} \\rho^{2} \\cos\\left(h k_{1}\\right) \\sin\\left(h k_{1}\\right) \\frac{\\partial}{\\partial \\rho}E_{r_{r_{1}}}\\left(\\rho\\right) + D_{r_{1}} c^{2} k_{1} \\rho E_{r_{r_{1}}}\\left(\\rho\\right) \\cos\\left(h k_{1}\\right) \\sin\\left(h k_{1}\\right)\\right)} \\sin\\left(m \\varphi\\right)} + B_{r_{1}} - \\frac{{\\left({\\left(4 \\, {\\left(2 \\, C_{z_{1}} c^{2} \\sin\\left(h k_{1}\\right)^{2} - C_{z_{1}} c^{2}\\right)} m^{2} J_{m}(\\kappa \\rho) - {\\left({\\left(2 \\, C_{z_{1}} c^{2} \\sin\\left(h k_{1}\\right)^{2} - C_{z_{1}} c^{2}\\right)} \\kappa^{2} J_{m + 2}(\\kappa \\rho) + {\\left(2 \\, C_{z_{1}} c^{2} \\sin\\left(h k_{1}\\right)^{2} - C_{z_{1}} c^{2}\\right)} \\kappa^{2} J_{m - 2}(\\kappa \\rho) - 2 \\, {\\left(2 \\, C_{z_{1}} c^{2} \\sin\\left(h k_{1}\\right)^{2} - C_{z_{1}} c^{2}\\right)} \\kappa^{2} J_{m}(\\kappa \\rho)\\right)} \\rho^{2} + 2 \\, {\\left(2 \\, {\\left(2 \\, C_{z_{1}} \\epsilon_{1} \\sin\\left(h k_{1}\\right)^{2} - C_{z_{1}} \\epsilon_{1}\\right)} \\mu_{1} \\omega^{2} J_{m}(\\kappa \\rho) + {\\left(2 \\, C_{z_{1}} c^{2} \\sin\\left(h k_{1}\\right)^{2} - C_{z_{1}} c^{2}\\right)} \\kappa J_{m + 1}(\\kappa \\rho) - {\\left(2 \\, C_{z_{1}} c^{2} \\sin\\left(h k_{1}\\right)^{2} - C_{z_{1}} c^{2}\\right)} \\kappa J_{m - 1}(\\kappa \\rho)\\right)} \\rho\\right)} \\cos\\left(m \\varphi\\right) + {\\left(4 \\, {\\left(2 \\, D_{z_{1}} c^{2} \\sin\\left(h k_{1}\\right)^{2} - D_{z_{1}} c^{2}\\right)} m^{2} J_{m}(\\kappa \\rho) - {\\left({\\left(2 \\, D_{z_{1}} c^{2} \\sin\\left(h k_{1}\\right)^{2} - D_{z_{1}} c^{2}\\right)} \\kappa^{2} J_{m + 2}(\\kappa \\rho) + {\\left(2 \\, D_{z_{1}} c^{2} \\sin\\left(h k_{1}\\right)^{2} - D_{z_{1}} c^{2}\\right)} \\kappa^{2} J_{m - 2}(\\kappa \\rho) - 2 \\, {\\left(2 \\, D_{z_{1}} c^{2} \\sin\\left(h k_{1}\\right)^{2} - D_{z_{1}} c^{2}\\right)} \\kappa^{2} J_{m}(\\kappa \\rho)\\right)} \\rho^{2} + 2 \\, {\\left(2 \\, {\\left(2 \\, D_{z_{1}} \\epsilon_{1} \\sin\\left(h k_{1}\\right)^{2} - D_{z_{1}} \\epsilon_{1}\\right)} \\mu_{1} \\omega^{2} J_{m}(\\kappa \\rho) + {\\left(2 \\, D_{z_{1}} c^{2} \\sin\\left(h k_{1}\\right)^{2} - D_{z_{1}} c^{2}\\right)} \\kappa J_{m + 1}(\\kappa \\rho) - {\\left(2 \\, D_{z_{1}} c^{2} \\sin\\left(h k_{1}\\right)^{2} - D_{z_{1}} c^{2}\\right)} \\kappa J_{m - 1}(\\kappa \\rho)\\right)} \\rho\\right)} \\sin\\left(m \\varphi\\right)\\right)} B_{z_{1}}}{8 \\, {\\left({\\left(C_{r_{1}} c^{2} k_{1} \\rho^{2} \\cos\\left(h k_{1}\\right) \\sin\\left(h k_{1}\\right) \\frac{\\partial}{\\partial \\rho}E_{r_{r_{1}}}\\left(\\rho\\right) + C_{r_{1}} c^{2} k_{1} \\rho E_{r_{r_{1}}}\\left(\\rho\\right) \\cos\\left(h k_{1}\\right) \\sin\\left(h k_{1}\\right)\\right)} \\cos\\left(m \\varphi\\right) + {\\left(D_{r_{1}} c^{2} k_{1} \\rho^{2} \\cos\\left(h k_{1}\\right) \\sin\\left(h k_{1}\\right) \\frac{\\partial}{\\partial \\rho}E_{r_{r_{1}}}\\left(\\rho\\right) + D_{r_{1}} c^{2} k_{1} \\rho E_{r_{r_{1}}}\\left(\\rho\\right) \\cos\\left(h k_{1}\\right) \\sin\\left(h k_{1}\\right)\\right)} \\sin\\left(m \\varphi\\right)\\right)}} = 0\\right]$$"
      ],
      "text/plain": [
       "<IPython.core.display.Math object>"
      ]
     },
     "metadata": {},
     "output_type": "display_data"
    }
   ],
   "source": [
    "        # + bch \\\n",
    "all_eqs = bc \\\n",
    "        + eqsys_rotH_simplified\n",
    "\n",
    "display(Math(latex(all_eqs)))"
   ]
  },
  {
   "cell_type": "code",
   "execution_count": 102,
   "metadata": {},
   "outputs": [],
   "source": [
    "M = GenerateMatrix(all_eqs, all_vars)"
   ]
  },
  {
   "cell_type": "code",
   "execution_count": 103,
   "metadata": {},
   "outputs": [
    {
     "data": {
      "text/plain": [
       "[                                                                                                                                                                                                                                                                                                                                                                                                                                                                                                                                                                                                                                                                                                                                                                                                                                                                                                                                                                                                                                                                                                                                                                                                                                                                                                                   (C_r_0*C_z_0*k_0*bessel_J(1, kappa*rho)*cos(m*varphi)*sin(h*k_0) + C_z_0*D_r_0*k_0*bessel_J(1, kappa*rho)*sin(h*k_0)*sin(m*varphi))/(C_r_0*kappa)                                                                                                                                                                                                                                                                                                                                                                                                                                                                                                                                                                                                                                                                                                                                                                                                                                                                                                                                                                                                                                                                                                                                                                                                                                                                                                                                                                                                                                                                    0                                                                                                                                                                                                                                                                                                                                                                                                                                                                                                                                                                                                                                                                                                                                                                                                                                                                                                                                                                                                                                                                                                                                                                                                                                                                                                                                                                                                                                                                    0                                                                                                                                                                                                                                                                                                                                                                                                                                                                                                                                                                                                                                                                                                                                                                                                                                                                                                                                                                                                                                                                                                                                                                                                                                                                                                                   -(C_r_0*C_z_0*k_0*bessel_J(1, kappa*rho)*cos(h*k_0)*cos(m*varphi) + C_z_0*D_r_0*k_0*bessel_J(1, kappa*rho)*cos(h*k_0)*sin(m*varphi))/(C_r_0*kappa)                                                                                                                                                                                                                                                                                                                                                                                                                                                                                                                                                                                                                                                                                                                                                                                                                                                                                                                                                                                                                                                                                                                                                                                                                                                                                                                   -(C_r_1*C_z_1*k_1*bessel_J(1, kappa*rho)*cos(m*varphi)*sin(h*k_1) + C_z_1*D_r_1*k_1*bessel_J(1, kappa*rho)*sin(h*k_1)*sin(m*varphi))/(C_r_1*kappa)                                                                                                                                                                                                                                                                                                                                                                                                                                                                                                                                                                                                                                                                                                                                                                                                                                                                                                                                                                                                                                                                                                                                                                                                                                                                                                                                                                                                                                                                    0                                                                                                                                                                                                                                                                                                                                                                                                                                                                                                                                                                                                                                                                                                                                                                                                                                                                                                                                                                                                                                                                                                                                                                                                                                                                                                                                                                                                                                                                    0                                                                                                                                                                                                                                                                                                                                                                                                                                                                                                                                                                                                                                                                                                                                                                                                                                                                                                                                                                                                                                                                                                                                                                                                                                                                                                                    (C_r_1*C_z_1*k_1*bessel_J(1, kappa*rho)*cos(h*k_1)*cos(m*varphi) + C_z_1*D_r_1*k_1*bessel_J(1, kappa*rho)*cos(h*k_1)*sin(m*varphi))/(C_r_1*kappa)]\n",
       "[                                                                                                                                                                                                                                                                                                                                                                                                                                                                                                                                                                                                                                                                                                                                                                                                                                                                                                                                                                                                                                                                                                                                                                                                                                                                                                                                                                                                                                                                   0                                                                                                                                                                                                                                                                                                                                                                                                                                                                                                                                                                                                                                                                                                                                                                                                                                                                                                                                                                                                                                                                                                                                                                                                                                                                                                                                                                                                                                                                    0                                                                                                                                                                                                                                                                                                                                                                                                                                                                                                                                                                                                                                                                                                                                                                                                                                                                                                                                                                                                                                                                                                                                                                                                                                                                                                                                                        C_p_0*bessel_J(m, kappa*rho)*cos(m*varphi)*sin(h*k_0) + D_p_0*bessel_J(m, kappa*rho)*sin(h*k_0)*sin(m*varphi)                                                                                                                                                                                                                                                                                                                                                                                                                                                                                                                                                                                                                                                                                                                                                                                                                                                                                                                                                                                                                                                                                                                                                                                                                                                                                                                                                                                                                                                                    0                                                                                                                                                                                                                                                                                                                                                                                                                                                                                                                                                                                                                                                                                                                                                                                                                                                                                                                                                                                                                                                                                                                                                                                                                                                                                                                                                                                                                                                                    0                                                                                                                                                                                                                                                                                                                                                                                                                                                                                                                                                                                                                                                                                                                                                                                                                                                                                                                                                                                                                                                                                                                                                                                                                                                                                                                                                                                                                                                                    0                                                                                                                                                                                                                                                                                                                                                                                                                                                                                                                                                                                                                                                                                                                                                                                                                                                                                                                                                                                                                                                                                                                                                                                                                                                                                                                                -(C_p_1*bessel_J(m, kappa*rho)*cos(m*varphi)*sin(h*k_1) + D_p_1*bessel_J(m, kappa*rho)*sin(h*k_1)*sin(m*varphi))/(2*sin(h*k_1)^2 - 1)                                                                                                                                                                                                                                                                                                                                                                                                                                                                                                                                                                                                                                                                                                                                                                                                                                                                                                                                                                                                                                                                                                                                                                                                                                                                                                                                                                                                                                                                    0]\n",
       "[                                                                                                                                                                                                                                                                                                                                                                                                                                                                                                                                                                                                                                                                                                                                                                                                                                                                                                                                                                                                                                                                                                                                                                                                                                                                                                                                           (C_z_0*bessel_J(m, kappa*rho)*cos(h*k_0)*cos(m*varphi) + D_z_0*bessel_J(m, kappa*rho)*cos(h*k_0)*sin(m*varphi))*epsilon_0                                                                                                                                                                                                                                                                                                                                                                                                                                                                                                                                                                                                                                                                                                                                                                                                                                                                                                                                                                                                                                                                                                                                                                                                                                                                                                                                                                                                                                                                    0                                                                                                                                                                                                                                                                                                                                                                                                                                                                                                                                                                                                                                                                                                                                                                                                                                                                                                                                                                                                                                                                                                                                                                                                                                                                                                                                                                                                                                                                    0                                                                                                                                                                                                                                                                                                                                                                                                                                                                                                                                                                                                                                                                                                                                                                                                                                                                                                                                                                                                                                                                                                                                                                                                                                                                                                                                            (C_z_0*bessel_J(m, kappa*rho)*cos(m*varphi)*sin(h*k_0) + D_z_0*bessel_J(m, kappa*rho)*sin(h*k_0)*sin(m*varphi))*epsilon_0                                                                                                                                                                                                                                                                                                                                                                                                                                                                                                                                                                                                                                                                                                                                                                                                                                                                                                                                                                                                                                                                                                                                                                                                                                                                                                                                           -(C_z_1*bessel_J(m, kappa*rho)*cos(h*k_1)*cos(m*varphi) + D_z_1*bessel_J(m, kappa*rho)*cos(h*k_1)*sin(m*varphi))*epsilon_1                                                                                                                                                                                                                                                                                                                                                                                                                                                                                                                                                                                                                                                                                                                                                                                                                                                                                                                                                                                                                                                                                                                                                                                                                                                                                                                                                                                                                                                                    0                                                                                                                                                                                                                                                                                                                                                                                                                                                                                                                                                                                                                                                                                                                                                                                                                                                                                                                                                                                                                                                                                                                                                                                                                                                                                                                                                                                                                                                                    0                                                                                                                                                                                                                                                                                                                                                                                                                                                                                                                                                                                                                                                                                                                                                                                                                                                                                                                                                                                                                                                                                                                                                                                                                                                                                                                                           -(C_z_1*bessel_J(m, kappa*rho)*cos(m*varphi)*sin(h*k_1) + D_z_1*bessel_J(m, kappa*rho)*sin(h*k_1)*sin(m*varphi))*epsilon_1]\n",
       "[                                                                                                                                                                                                                                                                                                                                                                                                                                                                                                                                                                                                                                                                                                                                                                                                                                                                                                                                                                                                                                                                                                                                                                                                                                                                                                                                                                                                                                                                   1                                                                                                                                                                                                                                                                                                                                                                                                                                                                                                                                                                                                                                                                                                                                                                                                                                                                                                                                                                                                                                                                                                                                                                                                                                                                                                                                                                                                                                                                    0                                                                                                                                                                                                                                                                                                                                                                                                                                                                                                                                                                                                                                            ((2*C_r_0*D_p_0*kappa*m*bessel_J(m, kappa*rho) - (C_r_0*D_p_0*kappa^2*m*bessel_J(m + 1, kappa*rho) - C_r_0*D_p_0*kappa^2*m*bessel_J(m - 1, kappa*rho))*rho)*cos(m*varphi) - (2*C_p_0*C_r_0*kappa*m*bessel_J(m, kappa*rho) - (C_p_0*C_r_0*kappa^2*m*bessel_J(m + 1, kappa*rho) - C_p_0*C_r_0*kappa^2*m*bessel_J(m - 1, kappa*rho))*rho)*sin(m*varphi))/((2*C_r_0*C_z_0*k_0*m^2*bessel_J(1, kappa*rho) - (2*C_r_0*C_z_0*k_0*kappa^2*bessel_J(1, kappa*rho) - C_r_0*C_z_0*k_0*kappa^2*bessel_J(m + 1, kappa*rho) + C_r_0*C_z_0*k_0*kappa^2*bessel_J(m - 1, kappa*rho))*rho)*cos(m*varphi) + (2*C_z_0*D_r_0*k_0*m^2*bessel_J(1, kappa*rho) - (2*C_z_0*D_r_0*k_0*kappa^2*bessel_J(1, kappa*rho) - C_r_0*D_z_0*k_0*kappa^2*bessel_J(m + 1, kappa*rho) + C_r_0*D_z_0*k_0*kappa^2*bessel_J(m - 1, kappa*rho))*rho)*sin(m*varphi))                                                                                                                                                                                                                                                                                                                                                                                                                                                                                                                                                                                                                                                                                                                                                                                                                                                                                                                                                                                                                                                                                                                                                                                                                                                                                                                                                                                                                                                                    0                                                                                                                                                                                                                                                                                                                                                                                                                                                                                                                                                                                                                                                                                                                                                                                                                                                                                                                                                                                                                                                                                                                                                                                                                                                                                                                                                                                                                                                                    0                                                                                                                                                                                                                                                                                                                                                                                                                                                                                                                                                                                                                                                                                                                                                                                                                                                                                                                                                                                                                                                                                                                                                                                                                                                                                                                                                                                                                                                                    0                                                                                                                                                                                                                                                                                                                                                                                                                                                                                                                                                                                                                                                                                                                                                                                                                                                                                                                                                                                                                                                                                                                                                                                                                                                                                                                                                                                                                                                                    0                                                                                                                                                                                                                                                                                                                                                                                                                                                                                                                                                                                                                                                                                                                                                                                                                                                                                                                                                                                                                                                                                                                                                                                                                                                                                                                                                                                                                                                                    0]\n",
       "[                                                                                                                                                                                                                                                                                                                                                                                                                                                                                                                                                                                                                                                                                                                                                                                                                                                                                                                                                                                                                                                                                                                                                                                                                                                                                                                                                                                                                                                                   0                                                                                                                                                                                                                                                                                                                                                                                                                                                                                                                                                                                                                                                                                                                                                                                                                                                                                                                                                                                                                                                                                                                                                                                                                                                                                                                                                                                                                                                                    0                                                                                                                                                                                                                                                                                                                                                                                                                                                                                                                                                                                                                                                                                                                                                                                                                                                                                                                                                                                                                                                                                                                                                                                                                                                                                                                                                                                                                                                                    0                                                                                                                                                                                                                                                                                                                                                                                                                                                                                                                                                                                                                                                                                                                                                                                                                                                                                                                                                                                                                                                                                                                                                                                                                                                                                                                                                                                                                                                                    1                                                                                                                                                                                                                                                                                                                                                                                                                                                                                                                                                                                                                                                                                                                                                                                                                                                                                                                                                                                                                                                                                                                                                                                                                                                                                                                                                                                                                                                                    0                                                                                                                                                                                                                                                                                                                                                                                                                                                                                                                                                                                                                                                                                                                                                                                                                                                                                                                                                                                                                                                                                                                                                                                                                                                                                                                                                                                                                                                                    0                                                                                                                                                                                                                                                                                                                                                                                                                                                                                                                                                                                                                                                                                                                                                                                                                                                                                                                                                                                                                                                                                                                                                                                                                                                                                                                                                                                                                                                                    0                                                                                                                                                                                                                                                                                                                                                                                                                                                                                                                                                                                                                                                                                                                                                                                                                                                                                                                                                                                                                                                                                                                                                                                                                                                                                                                                                                                                                                                                    0]\n",
       "[                                                                                                                                                                                                                                                                                                                                                                                                                                                                                                                                                                                                                                                                                                                                                                                                                                                                                                                                                                                                                                                                                                                                                                                                                                                                                                                                                                                                                                                                   1                                                                                                                                                                                                                                                                                                                                                                                                                                                                                                                                                                                                                                                                                                                                                                                                                                                                                                                                                                                                                                                                                                                                                                                                                                                                                                                                                                                                                                                                    0                                                                                                                                                                                                                                                                                                                                                                                                                                                                                                                            1/2*(((C_p_0*C_r_0*kappa^2*bessel_J(m + 2, kappa*rho) + C_p_0*C_r_0*kappa^2*bessel_J(m - 2, kappa*rho) - 2*C_p_0*C_r_0*kappa^2*bessel_J(m, kappa*rho))*rho^2 + 4*(C_p_0*C_r_0*kappa^2*bessel_J(m, kappa*rho) - C_p_0*C_r_0*kappa*bessel_J(m + 1, kappa*rho) + C_p_0*C_r_0*kappa*bessel_J(m - 1, kappa*rho))*rho)*cos(m*varphi) + ((C_r_0*D_p_0*kappa^2*bessel_J(m + 2, kappa*rho) + C_r_0*D_p_0*kappa^2*bessel_J(m - 2, kappa*rho) - 2*C_r_0*D_p_0*kappa^2*bessel_J(m, kappa*rho))*rho^2 + 4*(C_r_0*D_p_0*kappa^2*bessel_J(m, kappa*rho) - C_r_0*D_p_0*kappa*bessel_J(m + 1, kappa*rho) + C_r_0*D_p_0*kappa*bessel_J(m - 1, kappa*rho))*rho)*sin(m*varphi))/((C_z_0*D_r_0*k_0*m*rho*(bessel_J(2, kappa*rho) - bessel_J(0, kappa*rho)) + 2*C_r_0*D_z_0*k_0*m*bessel_J(m, kappa*rho))*cos(m*varphi) - (C_r_0*C_z_0*k_0*m*rho*(bessel_J(2, kappa*rho) - bessel_J(0, kappa*rho)) + 2*C_r_0*C_z_0*k_0*m*bessel_J(m, kappa*rho))*sin(m*varphi))                                                                                                                                                                                                                                                                                                                                                                                                                                                                                                                                                                                                                                                                                                                                                                                                                                                                                                                                                                                                                                                                                                                                                                                                                                                                                                                                                                                                                                                                    0                                                                                                                                                                                                                                                                                                                                                                                                                                                                                                                                                                                                                                                                                                                                                                                                                                                                                                                                                                                                                                                                                                                                                                                                                                                                                                                                                                                                                                                                    0                                                                                                                                                                                                                                                                                                                                                                                                                                                                                                                                                                                                                                                                                                                                                                                                                                                                                                                                                                                                                                                                                                                                                                                                                                                                                                                                                                                                                                                                    0                                                                                                                                                                                                                                                                                                                                                                                                                                                                                                                                                                                                                                                                                                                                                                                                                                                                                                                                                                                                                                                                                                                                                                                                                                                                                                                                                                                                                                                                    0                                                                                                                                                                                                                                                                                                                                                                                                                                                                                                                                                                                                                                                                                                                                                                                                                                                                                                                                                                                                                                                                                                                                                                                                                                                                                                                                                                                                                                                                    0]\n",
       "[                                                                                                                                                                                                                                                                                                                                                                                                                                                                                                                                                                                                                                                                                                                                                                                                                                                                                                                                                                                                                                                                                                                                                                                                                                                                                                                                                                                                                                                                   1                                                                                                                                                                                                                                                                                                                                                                                                                                                                                                                              4*((C_r_0*c^2*k_0*rho^2*diff(E_r_r0(rho), rho) + C_r_0*c^2*k_0*rho*E_r_r0(rho))*cos(m*varphi) + (D_r_0*c^2*k_0*rho^2*diff(E_r_r0(rho), rho) + D_r_0*c^2*k_0*rho*E_r_r0(rho))*sin(m*varphi))/((4*C_z_0*c^2*m^2*bessel_J(m, kappa*rho) - (C_z_0*c^2*kappa^2*bessel_J(m + 2, kappa*rho) + C_z_0*c^2*kappa^2*bessel_J(m - 2, kappa*rho) - 2*C_z_0*c^2*kappa^2*bessel_J(m, kappa*rho))*rho^2 + 2*(2*C_z_0*epsilon_0*mu_0*omega^2*bessel_J(m, kappa*rho) + C_z_0*c^2*kappa*bessel_J(m + 1, kappa*rho) - C_z_0*c^2*kappa*bessel_J(m - 1, kappa*rho))*rho)*cos(m*varphi) + (4*D_z_0*c^2*m^2*bessel_J(m, kappa*rho) - (D_z_0*c^2*kappa^2*bessel_J(m + 2, kappa*rho) + D_z_0*c^2*kappa^2*bessel_J(m - 2, kappa*rho) - 2*D_z_0*c^2*kappa^2*bessel_J(m, kappa*rho))*rho^2 + 2*(2*D_z_0*epsilon_0*mu_0*omega^2*bessel_J(m, kappa*rho) + D_z_0*c^2*kappa*bessel_J(m + 1, kappa*rho) - D_z_0*c^2*kappa*bessel_J(m - 1, kappa*rho))*rho)*sin(m*varphi))                                                                                                                                                                                                                                                                                                                                                                                                                                                                                                                                                                                                  4*(D_p_0*c^2*k_0*m*rho*bessel_J(m, kappa*rho)*cos(m*varphi) - C_p_0*c^2*k_0*m*rho*bessel_J(m, kappa*rho)*sin(m*varphi))/((4*C_z_0*c^2*m^2*bessel_J(m, kappa*rho) - (C_z_0*c^2*kappa^2*bessel_J(m + 2, kappa*rho) + C_z_0*c^2*kappa^2*bessel_J(m - 2, kappa*rho) - 2*C_z_0*c^2*kappa^2*bessel_J(m, kappa*rho))*rho^2 + 2*(2*C_z_0*epsilon_0*mu_0*omega^2*bessel_J(m, kappa*rho) + C_z_0*c^2*kappa*bessel_J(m + 1, kappa*rho) - C_z_0*c^2*kappa*bessel_J(m - 1, kappa*rho))*rho)*cos(m*varphi) + (4*D_z_0*c^2*m^2*bessel_J(m, kappa*rho) - (D_z_0*c^2*kappa^2*bessel_J(m + 2, kappa*rho) + D_z_0*c^2*kappa^2*bessel_J(m - 2, kappa*rho) - 2*D_z_0*c^2*kappa^2*bessel_J(m, kappa*rho))*rho^2 + 2*(2*D_z_0*epsilon_0*mu_0*omega^2*bessel_J(m, kappa*rho) + D_z_0*c^2*kappa*bessel_J(m + 1, kappa*rho) - D_z_0*c^2*kappa*bessel_J(m - 1, kappa*rho))*rho)*sin(m*varphi))                                                                                                                                                                                                                                                                                                                                                                                                                                                                                                                                                                                                                                                                                                                                                                                                                                                                                                                                                                                                                                                                                                                                                                                                                                                                                                                                                                                                                                                                    0                                                                                                                                                                                                                                                                                                                                                                                                                                                                                                                                                                                                                                                                                                                                                                                                                                                                                                                                                                                                                                                                                                                                                                                                                                                                                                                                                                                                                                                                    0                                                                                                                                                                                                                                                                                                                                                                                                                                                                                                                                                                                                                                                                                                                                                                                                                                                                                                                                                                                                                                                                                                                                                                                                                                                                                                                                                                                                                                                                    0                                                                                                                                                                                                                                                                                                                                                                                                                                                                                                                                                                                                                                                                                                                                                                                                                                                                                                                                                                                                                                                                                                                                                                                                                                                                                                                                                                                                                                                                    0                                                                                                                                                                                                                                                                                                                                                                                                                                                                                                                                                                                                                                                                                                                                                                                                                                                                                                                                                                                                                                                                                                                                                                                                                                                                                                                                                                                                                                                                    0]\n",
       "[                                                                                                                                                                                                                                                                                                                                                                                                                                                                                                                                                                                                                                                                                                                                                                                                                                                                                                                                                                                                                                                                                                                                                                                                                                                                                                                                                                                                                                                                   0                                                                                                                                                                                                                                                                                                                                                                                                                                                                                                                                                                                                                                                                                                                                                                                                                                                                                                                                                                                                                                                                                                                                                                                                                                                                                                                                                                                                                                                                    0                                                                                                                                                                                                                                                                                                                                                                                                                                                                                                                                                                                                                                                                                                                                                                                                                                                                                                                                                                                                                                                                                                                                                                                                                                                                                                                                                                                                                                                                    0                                                                                                                                                                                                                                                                                                                                                                                                                                                                                                                                                                                                                                                                                                                                                                                                                                                                                                                                                                                                                                                                                                                                                                                                                                                                                                                                                                                                                                                                    0                                                                                                                                                                                                                                                                                                                                                                                                                                                                                                                                                                                                                                                                                                                                                                                                                                                                                                                                                                                                                                                                                                                                                                                                                                                                                                                                                                                                                                                                    1                                                                                                                                                                                                                                                                                                                                                                                                                                                                                                                                                                                                                                                                                                                                                                                                                                                                                                                                                                                                                                                                                                                                                                                                                                                                                                                                                                                                                                                                    0                                                             -((2*(2*C_r_1*D_p_1*cos(h*k_1)^2 - C_r_1*D_p_1)*kappa*m*bessel_J(m, kappa*rho) - ((2*C_r_1*D_p_1*cos(h*k_1)^2 - C_r_1*D_p_1)*kappa^2*m*bessel_J(m + 1, kappa*rho) - (2*C_r_1*D_p_1*cos(h*k_1)^2 - C_r_1*D_p_1)*kappa^2*m*bessel_J(m - 1, kappa*rho))*rho)*cos(m*varphi) - (2*(2*C_p_1*C_r_1*cos(h*k_1)^2 - C_p_1*C_r_1)*kappa*m*bessel_J(m, kappa*rho) - ((2*C_p_1*C_r_1*cos(h*k_1)^2 - C_p_1*C_r_1)*kappa^2*m*bessel_J(m + 1, kappa*rho) - (2*C_p_1*C_r_1*cos(h*k_1)^2 - C_p_1*C_r_1)*kappa^2*m*bessel_J(m - 1, kappa*rho))*rho)*sin(m*varphi))/((2*(2*C_r_1*C_z_1*k_1*bessel_J(1, kappa*rho)*sin(h*k_1)^2 - C_r_1*C_z_1*k_1*bessel_J(1, kappa*rho))*m^2 + ((2*C_r_1*C_z_1*k_1*sin(h*k_1)^2 - C_r_1*C_z_1*k_1)*kappa^2*bessel_J(m + 1, kappa*rho) - (2*C_r_1*C_z_1*k_1*sin(h*k_1)^2 - C_r_1*C_z_1*k_1)*kappa^2*bessel_J(m - 1, kappa*rho) - 2*(2*C_r_1*C_z_1*k_1*bessel_J(1, kappa*rho)*sin(h*k_1)^2 - C_r_1*C_z_1*k_1*bessel_J(1, kappa*rho))*kappa^2)*rho)*cos(m*varphi) + (2*(2*C_z_1*D_r_1*k_1*bessel_J(1, kappa*rho)*sin(h*k_1)^2 - C_z_1*D_r_1*k_1*bessel_J(1, kappa*rho))*m^2 + ((2*C_r_1*D_z_1*k_1*sin(h*k_1)^2 - C_r_1*D_z_1*k_1)*kappa^2*bessel_J(m + 1, kappa*rho) - (2*C_r_1*D_z_1*k_1*sin(h*k_1)^2 - C_r_1*D_z_1*k_1)*kappa^2*bessel_J(m - 1, kappa*rho) - 2*(2*C_z_1*D_r_1*k_1*bessel_J(1, kappa*rho)*sin(h*k_1)^2 - C_z_1*D_r_1*k_1*bessel_J(1, kappa*rho))*kappa^2)*rho)*sin(m*varphi))                                                                                                                                                                                                                                                                                                                                                                                                                                                                                                                                                                                                                                                                                                                                                                                                                                                                                                                                                                                                                                                                                                                                                                                                                                                                                                                                                                                                                                                                    0]\n",
       "[                                                                                                                                                                                                                                                                                                                                                                                                                                                                                                                                                                                                                                                                                                                                                                                                                                                                                                                                                                                                                                                                                                                                                                                                                                                                                                                                                                                                                                                                   0                                                                                                                                                                                                                                                                                                                                                                                                                                                                                                                                                                                                                                                                                                                                                                                                                                                                                                                                                                                                                                                                                                                                                                                                                                                                                                                                                                                                                                                                    0                                                                                                                                                                                                                                                                                                                                                                                                                                                                                                                                                                                                                                                                                                                                                                                                                                                                                                                                                                                                                                                                                                                                                                                                                                                                                                                                                                                                                                                                    0                                                                                                                                                                                                                                                                                                                                                                                                                                                                                                                                                                                                                                                                                                                                                                                                                                                                                                                                                                                                                                                                                                                                                                                                                                                                                                                                                                                                                                                                    0                                                                                                                                                                                                                                                                                                                                                                                                                                                                                                                                                                                                                                                                                                                                                                                                                                                                                                                                                                                                                                                                                                                                                                                                                                                                                                                                                                                                                                                                    0                                                                                                                                                                                                                                                                                                                                                                                                                                                                                                                                                                                                                                                                                                                                                                                                                                                                                                                                                                                                                                                                                                                                                                                                                                                                                                                                                                                                                                                                    0                                                                                                                                                                                                                                                                                                                                                                                                                                                                                                                                                                                                                                                                                                                                                                                                                                                                                                                                                                                                                                                                                                                                                                                                                                                                                                                                                                                                                                                                    1                                                                                                                1/2*((2*(2*C_r_1*C_z_1*k_1*bessel_J(1, kappa*rho)*cos(h*k_1)^2 - C_r_1*C_z_1*k_1*bessel_J(1, kappa*rho))*m^2 + ((2*C_r_1*C_z_1*k_1*cos(h*k_1)^2 - C_r_1*C_z_1*k_1)*kappa^2*bessel_J(m + 1, kappa*rho) - (2*C_r_1*C_z_1*k_1*cos(h*k_1)^2 - C_r_1*C_z_1*k_1)*kappa^2*bessel_J(m - 1, kappa*rho) - 2*(2*C_r_1*C_z_1*k_1*bessel_J(1, kappa*rho)*cos(h*k_1)^2 - C_r_1*C_z_1*k_1*bessel_J(1, kappa*rho))*kappa^2)*rho)*cos(m*varphi) + (2*(2*C_z_1*D_r_1*k_1*bessel_J(1, kappa*rho)*cos(h*k_1)^2 - C_z_1*D_r_1*k_1*bessel_J(1, kappa*rho))*m^2 + ((2*C_r_1*D_z_1*k_1*cos(h*k_1)^2 - C_r_1*D_z_1*k_1)*kappa^2*bessel_J(m + 1, kappa*rho) - (2*C_r_1*D_z_1*k_1*cos(h*k_1)^2 - C_r_1*D_z_1*k_1)*kappa^2*bessel_J(m - 1, kappa*rho) - 2*(2*C_z_1*D_r_1*k_1*bessel_J(1, kappa*rho)*cos(h*k_1)^2 - C_z_1*D_r_1*k_1*bessel_J(1, kappa*rho))*kappa^2)*rho)*sin(m*varphi))/((2*C_r_1*D_p_1*kappa*m*bessel_J(m, kappa*rho)*cos(h*k_1)*sin(h*k_1) - (C_r_1*D_p_1*kappa^2*m*bessel_J(m + 1, kappa*rho)*cos(h*k_1)*sin(h*k_1) - C_r_1*D_p_1*kappa^2*m*bessel_J(m - 1, kappa*rho)*cos(h*k_1)*sin(h*k_1))*rho)*cos(m*varphi) - (2*C_p_1*C_r_1*kappa*m*bessel_J(m, kappa*rho)*cos(h*k_1)*sin(h*k_1) - (C_p_1*C_r_1*kappa^2*m*bessel_J(m + 1, kappa*rho)*cos(h*k_1)*sin(h*k_1) - C_p_1*C_r_1*kappa^2*m*bessel_J(m - 1, kappa*rho)*cos(h*k_1)*sin(h*k_1))*rho)*sin(m*varphi))]\n",
       "[                                                                                                                                                                                                                                                                                                                                                                                                                                                                                                                                                                                                                                                                                                                                                                                                                                                                                                                                                                                                                                                                                                                                                                                                                                                                                                                                                                                                                                                                   0                                                                                                                                                                                                                                                                                                                                                                                                                                                                                                                                                                                                                                                                                                                                                                                                                                                                                                                                                                                                                                                                                                                                                                                                                                                                                                                                                                                                                                                                    0                                                                                                                                                                                                                                                                                                                                                                                                                                                                                                                                                                                                                                                                                                                                                                                                                                                                                                                                                                                                                                                                                                                                                                                                                                                                                                                                                                                                                                                                    0                                                                                                                                                                                                                                                                                                                                                                                                                                                                                                                                                                                                                                                                                                                                                                                                                                                                                                                                                                                                                                                                                                                                                                                                                                                                                                                                                                                                                                                                    0                                                                                                                                                                                                                                                                                                                                                                                                                                                                                                                                                                                                                                                                                                                                                                                                                                                                                                                                                                                                                                                                                                                                                                                                                                                                                                                                                                                                                                                                    1                                                                                                                                                                                                                                                                                                                                                                                                                                                                                                                                                                                                                                                                                                                                                                                                                                                                                                                                                                                                                                                                                                                                                                                                                                                                                                                                                                                                                                                                    0                                                                                                                                                                                                                                                                                                                                                                                                                                                                                                                            1/2*(((C_p_1*C_r_1*kappa^2*bessel_J(m + 2, kappa*rho) + C_p_1*C_r_1*kappa^2*bessel_J(m - 2, kappa*rho) - 2*C_p_1*C_r_1*kappa^2*bessel_J(m, kappa*rho))*rho^2 + 4*(C_p_1*C_r_1*kappa^2*bessel_J(m, kappa*rho) - C_p_1*C_r_1*kappa*bessel_J(m + 1, kappa*rho) + C_p_1*C_r_1*kappa*bessel_J(m - 1, kappa*rho))*rho)*cos(m*varphi) + ((C_r_1*D_p_1*kappa^2*bessel_J(m + 2, kappa*rho) + C_r_1*D_p_1*kappa^2*bessel_J(m - 2, kappa*rho) - 2*C_r_1*D_p_1*kappa^2*bessel_J(m, kappa*rho))*rho^2 + 4*(C_r_1*D_p_1*kappa^2*bessel_J(m, kappa*rho) - C_r_1*D_p_1*kappa*bessel_J(m + 1, kappa*rho) + C_r_1*D_p_1*kappa*bessel_J(m - 1, kappa*rho))*rho)*sin(m*varphi))/((C_z_1*D_r_1*k_1*m*rho*(bessel_J(2, kappa*rho) - bessel_J(0, kappa*rho)) + 2*C_r_1*D_z_1*k_1*m*bessel_J(m, kappa*rho))*cos(m*varphi) - (C_r_1*C_z_1*k_1*m*rho*(bessel_J(2, kappa*rho) - bessel_J(0, kappa*rho)) + 2*C_r_1*C_z_1*k_1*m*bessel_J(m, kappa*rho))*sin(m*varphi))                                                                                                                                                                                                                                                                                                                                                                                                                                                                                                                                                                                                                                                                                                                                                                                                                                                                                                                                                                                                                                                                                                                                                                                                                                                                                                                                                                                                                                                                    0]\n",
       "[                                                                                                                                                                                                                                                                                                                                                                                                                                                                                                                                                                                                                                                                                                                                                                                                                                                                                                                                                                                                                                                                                                                                                                                                                                                                                                                                                                                                                                                                   0                                                                                                                                                                                                                                                                                                                                                                                                                                                                                                                                                                                                                                                                                                                                                                                                                                                                                                                                                                                                                                                                                                                                                                                                                                                                                                                                                                                                                                                                    0                                                                                                                                                                                                                                                                                                                                                                                                                                                                                                                                                                                                                                                                                                                                                                                                                                                                                                                                                                                                                                                                                                                                                                                                                                                                                                                                                                                                                                                                    0                                                                                                                                                                                                                                                                                                                                                                                                                                                                                                                                                                                                                                                                                                                                                                                                                                                                                                                                                                                                                                                                                                                                                                                                                                                                                                                                                                                                                                                                    0                                                                                                                                                                                                                                                                                                                                                                                                                                                                                                                                                                                                                                                                                                                                                                                                                                                                                                                                                                                                                                                                                                                                                                                                                                                                                                                                                                                                                                                                    0                                                                                                                                                                                                                                                                                                                                                                                                                                                                                                                                                                                                                                                                                                                                                                                                                                                                                                                                                                                                                                                                                                                                                                                                                                                                                                                                                                                                                                                                    1                                                                                                                                                                                                                                                                                                                                                                                                                                                                                                                                                                                                                                                                                                                                                                                                                                                                                                                                                                                                                  (D_p_1*c^2*k_1*m*rho*bessel_J(m, kappa*rho)*cos(h*k_1)*cos(m*varphi)*sin(h*k_1) - C_p_1*c^2*k_1*m*rho*bessel_J(m, kappa*rho)*cos(h*k_1)*sin(h*k_1)*sin(m*varphi))/((C_r_1*c^2*k_1*rho^2*cos(h*k_1)*sin(h*k_1)*diff(E_r_r1(rho), rho) + C_r_1*c^2*k_1*rho*E_r_r1(rho)*cos(h*k_1)*sin(h*k_1))*cos(m*varphi) + (D_r_1*c^2*k_1*rho^2*cos(h*k_1)*sin(h*k_1)*diff(E_r_r1(rho), rho) + D_r_1*c^2*k_1*rho*E_r_r1(rho)*cos(h*k_1)*sin(h*k_1))*sin(m*varphi)) -1/8*((4*(2*C_z_1*c^2*sin(h*k_1)^2 - C_z_1*c^2)*m^2*bessel_J(m, kappa*rho) - ((2*C_z_1*c^2*sin(h*k_1)^2 - C_z_1*c^2)*kappa^2*bessel_J(m + 2, kappa*rho) + (2*C_z_1*c^2*sin(h*k_1)^2 - C_z_1*c^2)*kappa^2*bessel_J(m - 2, kappa*rho) - 2*(2*C_z_1*c^2*sin(h*k_1)^2 - C_z_1*c^2)*kappa^2*bessel_J(m, kappa*rho))*rho^2 + 2*(2*(2*C_z_1*epsilon_1*sin(h*k_1)^2 - C_z_1*epsilon_1)*mu_1*omega^2*bessel_J(m, kappa*rho) + (2*C_z_1*c^2*sin(h*k_1)^2 - C_z_1*c^2)*kappa*bessel_J(m + 1, kappa*rho) - (2*C_z_1*c^2*sin(h*k_1)^2 - C_z_1*c^2)*kappa*bessel_J(m - 1, kappa*rho))*rho)*cos(m*varphi) + (4*(2*D_z_1*c^2*sin(h*k_1)^2 - D_z_1*c^2)*m^2*bessel_J(m, kappa*rho) - ((2*D_z_1*c^2*sin(h*k_1)^2 - D_z_1*c^2)*kappa^2*bessel_J(m + 2, kappa*rho) + (2*D_z_1*c^2*sin(h*k_1)^2 - D_z_1*c^2)*kappa^2*bessel_J(m - 2, kappa*rho) - 2*(2*D_z_1*c^2*sin(h*k_1)^2 - D_z_1*c^2)*kappa^2*bessel_J(m, kappa*rho))*rho^2 + 2*(2*(2*D_z_1*epsilon_1*sin(h*k_1)^2 - D_z_1*epsilon_1)*mu_1*omega^2*bessel_J(m, kappa*rho) + (2*D_z_1*c^2*sin(h*k_1)^2 - D_z_1*c^2)*kappa*bessel_J(m + 1, kappa*rho) - (2*D_z_1*c^2*sin(h*k_1)^2 - D_z_1*c^2)*kappa*bessel_J(m - 1, kappa*rho))*rho)*sin(m*varphi))/((C_r_1*c^2*k_1*rho^2*cos(h*k_1)*sin(h*k_1)*diff(E_r_r1(rho), rho) + C_r_1*c^2*k_1*rho*E_r_r1(rho)*cos(h*k_1)*sin(h*k_1))*cos(m*varphi) + (D_r_1*c^2*k_1*rho^2*cos(h*k_1)*sin(h*k_1)*diff(E_r_r1(rho), rho) + D_r_1*c^2*k_1*rho*E_r_r1(rho)*cos(h*k_1)*sin(h*k_1))*sin(m*varphi))]"
      ]
     },
     "execution_count": 103,
     "metadata": {},
     "output_type": "execute_result"
    }
   ],
   "source": [
    "M"
   ]
  },
  {
   "cell_type": "code",
   "execution_count": 104,
   "metadata": {},
   "outputs": [
    {
     "data": {
      "text/plain": [
       "(11, 8, 8)"
      ]
     },
     "execution_count": 104,
     "metadata": {},
     "output_type": "execute_result"
    }
   ],
   "source": [
    "M.nrows(), M.ncols(), len(all_vars)"
   ]
  },
  {
   "cell_type": "code",
   "execution_count": 105,
   "metadata": {},
   "outputs": [
    {
     "data": {
      "text/plain": [
       "8"
      ]
     },
     "execution_count": 105,
     "metadata": {},
     "output_type": "execute_result"
    }
   ],
   "source": [
    "M.rank()"
   ]
  },
  {
   "cell_type": "code",
   "execution_count": 106,
   "metadata": {},
   "outputs": [
    {
     "name": "stdout",
     "output_type": "stream",
     "text": [
      "\n",
      "M.nrows() 11\n",
      "M.ncols() 8\n",
      "M.rank() 8\n"
     ]
    },
    {
     "ename": "TypeError",
     "evalue": "ECL says: Memory limit reached. Please jump to an outer pointer, quit program and enlarge the\nmemory limits before executing the program again.",
     "output_type": "error",
     "traceback": [
      "\u001b[0;31m---------------------------------------------------------------------------\u001b[0m",
      "\u001b[0;31mRuntimeError\u001b[0m                              Traceback (most recent call last)",
      "\u001b[0;32m/opt/sagemath-9.0/local/lib/python3.7/site-packages/sage/interfaces/interface.py\u001b[0m in \u001b[0;36m__init__\u001b[0;34m(self, parent, value, is_name, name)\u001b[0m\n\u001b[1;32m    717\u001b[0m             \u001b[0;32mtry\u001b[0m\u001b[0;34m:\u001b[0m\u001b[0;34m\u001b[0m\u001b[0;34m\u001b[0m\u001b[0m\n\u001b[0;32m--> 718\u001b[0;31m                 \u001b[0mself\u001b[0m\u001b[0;34m.\u001b[0m\u001b[0m_name\u001b[0m \u001b[0;34m=\u001b[0m \u001b[0mparent\u001b[0m\u001b[0;34m.\u001b[0m\u001b[0m_create\u001b[0m\u001b[0;34m(\u001b[0m\u001b[0mvalue\u001b[0m\u001b[0;34m,\u001b[0m \u001b[0mname\u001b[0m\u001b[0;34m=\u001b[0m\u001b[0mname\u001b[0m\u001b[0;34m)\u001b[0m\u001b[0;34m\u001b[0m\u001b[0;34m\u001b[0m\u001b[0m\n\u001b[0m\u001b[1;32m    719\u001b[0m             \u001b[0;32mexcept\u001b[0m \u001b[0;34m(\u001b[0m\u001b[0mTypeError\u001b[0m\u001b[0;34m,\u001b[0m \u001b[0mRuntimeError\u001b[0m\u001b[0;34m,\u001b[0m \u001b[0mValueError\u001b[0m\u001b[0;34m)\u001b[0m \u001b[0;32mas\u001b[0m \u001b[0mx\u001b[0m\u001b[0;34m:\u001b[0m\u001b[0;34m\u001b[0m\u001b[0;34m\u001b[0m\u001b[0m\n",
      "\u001b[0;32m/opt/sagemath-9.0/local/lib/python3.7/site-packages/sage/interfaces/maxima_lib.py\u001b[0m in \u001b[0;36m_create\u001b[0;34m(self, value, name)\u001b[0m\n\u001b[1;32m    604\u001b[0m             \u001b[0;32melse\u001b[0m\u001b[0;34m:\u001b[0m\u001b[0;34m\u001b[0m\u001b[0;34m\u001b[0m\u001b[0m\n\u001b[0;32m--> 605\u001b[0;31m                 \u001b[0mself\u001b[0m\u001b[0;34m.\u001b[0m\u001b[0mset\u001b[0m\u001b[0;34m(\u001b[0m\u001b[0mname\u001b[0m\u001b[0;34m,\u001b[0m \u001b[0mvalue\u001b[0m\u001b[0;34m)\u001b[0m\u001b[0;34m\u001b[0m\u001b[0;34m\u001b[0m\u001b[0m\n\u001b[0m\u001b[1;32m    606\u001b[0m         \u001b[0;32mexcept\u001b[0m \u001b[0mRuntimeError\u001b[0m \u001b[0;32mas\u001b[0m \u001b[0merror\u001b[0m\u001b[0;34m:\u001b[0m\u001b[0;34m\u001b[0m\u001b[0;34m\u001b[0m\u001b[0m\n",
      "\u001b[0;32m/opt/sagemath-9.0/local/lib/python3.7/site-packages/sage/interfaces/maxima_lib.py\u001b[0m in \u001b[0;36mset\u001b[0;34m(self, var, value)\u001b[0m\n\u001b[1;32m    513\u001b[0m         \u001b[0mcmd\u001b[0m \u001b[0;34m=\u001b[0m \u001b[0;34m'%s : %s$'\u001b[0m\u001b[0;34m%\u001b[0m\u001b[0;34m(\u001b[0m\u001b[0mvar\u001b[0m\u001b[0;34m,\u001b[0m \u001b[0mvalue\u001b[0m\u001b[0;34m.\u001b[0m\u001b[0mrstrip\u001b[0m\u001b[0;34m(\u001b[0m\u001b[0;34m';'\u001b[0m\u001b[0;34m)\u001b[0m\u001b[0;34m)\u001b[0m\u001b[0;34m\u001b[0m\u001b[0;34m\u001b[0m\u001b[0m\n\u001b[0;32m--> 514\u001b[0;31m         \u001b[0mself\u001b[0m\u001b[0;34m.\u001b[0m\u001b[0meval\u001b[0m\u001b[0;34m(\u001b[0m\u001b[0mcmd\u001b[0m\u001b[0;34m)\u001b[0m\u001b[0;34m\u001b[0m\u001b[0;34m\u001b[0m\u001b[0m\n\u001b[0m\u001b[1;32m    515\u001b[0m \u001b[0;34m\u001b[0m\u001b[0m\n",
      "\u001b[0;32m/opt/sagemath-9.0/local/lib/python3.7/site-packages/sage/interfaces/maxima_lib.py\u001b[0m in \u001b[0;36m_eval_line\u001b[0;34m(self, line, locals, reformat, **kwds)\u001b[0m\n\u001b[1;32m    459\u001b[0m                 \u001b[0;32mif\u001b[0m \u001b[0mstatement\u001b[0m\u001b[0;34m:\u001b[0m\u001b[0;34m\u001b[0m\u001b[0;34m\u001b[0m\u001b[0m\n\u001b[0;32m--> 460\u001b[0;31m                     \u001b[0mmaxima_eval\u001b[0m\u001b[0;34m(\u001b[0m\u001b[0;34m\"#$%s$\"\u001b[0m \u001b[0;34m%\u001b[0m \u001b[0mstatement\u001b[0m\u001b[0;34m)\u001b[0m\u001b[0;34m\u001b[0m\u001b[0;34m\u001b[0m\u001b[0m\n\u001b[0m\u001b[1;32m    461\u001b[0m         \u001b[0;32mif\u001b[0m \u001b[0;32mnot\u001b[0m \u001b[0mreformat\u001b[0m\u001b[0;34m:\u001b[0m\u001b[0;34m\u001b[0m\u001b[0;34m\u001b[0m\u001b[0m\n",
      "\u001b[0;32m/opt/sagemath-9.0/local/lib/python3.7/site-packages/sage/libs/ecl.pyx\u001b[0m in \u001b[0;36msage.libs.ecl.EclObject.__call__ (build/cythonized/sage/libs/ecl.c:7794)\u001b[0;34m()\u001b[0m\n\u001b[1;32m    804\u001b[0m         \u001b[0mlispargs\u001b[0m \u001b[0;34m=\u001b[0m \u001b[0mEclObject\u001b[0m\u001b[0;34m(\u001b[0m\u001b[0mlist\u001b[0m\u001b[0;34m(\u001b[0m\u001b[0margs\u001b[0m\u001b[0;34m)\u001b[0m\u001b[0;34m)\u001b[0m\u001b[0;34m\u001b[0m\u001b[0;34m\u001b[0m\u001b[0m\n\u001b[0;32m--> 805\u001b[0;31m         \u001b[0;32mreturn\u001b[0m \u001b[0mecl_wrap\u001b[0m\u001b[0;34m(\u001b[0m\u001b[0mecl_safe_apply\u001b[0m\u001b[0;34m(\u001b[0m\u001b[0mself\u001b[0m\u001b[0;34m.\u001b[0m\u001b[0mobj\u001b[0m\u001b[0;34m,\u001b[0m\u001b[0;34m(\u001b[0m\u001b[0;34m<\u001b[0m\u001b[0mEclObject\u001b[0m\u001b[0;34m>\u001b[0m\u001b[0mlispargs\u001b[0m\u001b[0;34m)\u001b[0m\u001b[0;34m.\u001b[0m\u001b[0mobj\u001b[0m\u001b[0;34m)\u001b[0m\u001b[0;34m)\u001b[0m\u001b[0;34m\u001b[0m\u001b[0;34m\u001b[0m\u001b[0m\n\u001b[0m\u001b[1;32m    806\u001b[0m \u001b[0;34m\u001b[0m\u001b[0m\n",
      "\u001b[0;32m/opt/sagemath-9.0/local/lib/python3.7/site-packages/sage/libs/ecl.pyx\u001b[0m in \u001b[0;36msage.libs.ecl.ecl_safe_apply (build/cythonized/sage/libs/ecl.c:5456)\u001b[0;34m()\u001b[0m\n\u001b[1;32m    376\u001b[0m         \u001b[0ms\u001b[0m \u001b[0;34m=\u001b[0m \u001b[0msi_coerce_to_base_string\u001b[0m\u001b[0;34m(\u001b[0m\u001b[0mecl_values\u001b[0m\u001b[0;34m(\u001b[0m\u001b[0;36m1\u001b[0m\u001b[0;34m)\u001b[0m\u001b[0;34m)\u001b[0m\u001b[0;34m\u001b[0m\u001b[0;34m\u001b[0m\u001b[0m\n\u001b[0;32m--> 377\u001b[0;31m         raise RuntimeError(\"ECL says: {}\".format(\n\u001b[0m\u001b[1;32m    378\u001b[0m             char_to_str(ecl_base_string_pointer_safe(s))))\n",
      "\u001b[0;31mRuntimeError\u001b[0m: ECL says: Memory limit reached. Please jump to an outer pointer, quit program and enlarge the\nmemory limits before executing the program again.",
      "\nDuring handling of the above exception, another exception occurred:\n",
      "\u001b[0;31mTypeError\u001b[0m                                 Traceback (most recent call last)",
      "\u001b[0;32m<ipython-input-106-3784bcb0aeca>\u001b[0m in \u001b[0;36m<module>\u001b[0;34m()\u001b[0m\n\u001b[0;32m----> 1\u001b[0;31m \u001b[0mreduced_M\u001b[0m \u001b[0;34m=\u001b[0m \u001b[0mreduceDependedRows\u001b[0m\u001b[0;34m(\u001b[0m\u001b[0mM\u001b[0m\u001b[0;34m)\u001b[0m\u001b[0;34m\u001b[0m\u001b[0;34m\u001b[0m\u001b[0m\n\u001b[0m",
      "\u001b[0;32m<ipython-input-93-b13c90e37c6e>\u001b[0m in \u001b[0;36mreduceDependedRows\u001b[0;34m(M)\u001b[0m\n\u001b[1;32m      5\u001b[0m     \u001b[0mprint\u001b[0m \u001b[0;34m(\u001b[0m\u001b[0;34m\"M.rank()\"\u001b[0m\u001b[0;34m,\u001b[0m \u001b[0mM\u001b[0m\u001b[0;34m.\u001b[0m\u001b[0mrank\u001b[0m\u001b[0;34m(\u001b[0m\u001b[0;34m)\u001b[0m\u001b[0;34m)\u001b[0m\u001b[0;34m\u001b[0m\u001b[0;34m\u001b[0m\u001b[0m\n\u001b[1;32m      6\u001b[0m \u001b[0;34m\u001b[0m\u001b[0m\n\u001b[0;32m----> 7\u001b[0;31m     \u001b[0mM_pivot_rows\u001b[0m \u001b[0;34m=\u001b[0m \u001b[0mM\u001b[0m\u001b[0;34m.\u001b[0m\u001b[0mpivot_rows\u001b[0m\u001b[0;34m(\u001b[0m\u001b[0;34m)\u001b[0m\u001b[0;34m\u001b[0m\u001b[0;34m\u001b[0m\u001b[0m\n\u001b[0m\u001b[1;32m      8\u001b[0m     \u001b[0mprint\u001b[0m \u001b[0;34m(\u001b[0m\u001b[0;34m\"M.pivot_rows() =\"\u001b[0m\u001b[0;34m,\u001b[0m \u001b[0mM_pivot_rows\u001b[0m\u001b[0;34m)\u001b[0m\u001b[0;34m\u001b[0m\u001b[0;34m\u001b[0m\u001b[0m\n\u001b[1;32m      9\u001b[0m \u001b[0;34m\u001b[0m\u001b[0m\n",
      "\u001b[0;32m/opt/sagemath-9.0/local/lib/python3.7/site-packages/sage/matrix/matrix2.pyx\u001b[0m in \u001b[0;36msage.matrix.matrix2.Matrix.pivot_rows (build/cythonized/sage/matrix/matrix2.c:8688)\u001b[0;34m()\u001b[0m\n\u001b[1;32m    566\u001b[0m         \u001b[0;32mif\u001b[0m \u001b[0mv\u001b[0m \u001b[0;32mis\u001b[0m \u001b[0;32mnot\u001b[0m \u001b[0;32mNone\u001b[0m\u001b[0;34m:\u001b[0m\u001b[0;34m\u001b[0m\u001b[0;34m\u001b[0m\u001b[0m\n\u001b[1;32m    567\u001b[0m             \u001b[0;32mreturn\u001b[0m \u001b[0mtuple\u001b[0m\u001b[0;34m(\u001b[0m\u001b[0mv\u001b[0m\u001b[0;34m)\u001b[0m\u001b[0;34m\u001b[0m\u001b[0;34m\u001b[0m\u001b[0m\n\u001b[0;32m--> 568\u001b[0;31m         \u001b[0mv\u001b[0m \u001b[0;34m=\u001b[0m \u001b[0mself\u001b[0m\u001b[0;34m.\u001b[0m\u001b[0mtranspose\u001b[0m\u001b[0;34m(\u001b[0m\u001b[0;34m)\u001b[0m\u001b[0;34m.\u001b[0m\u001b[0mpivots\u001b[0m\u001b[0;34m(\u001b[0m\u001b[0;34m)\u001b[0m\u001b[0;34m\u001b[0m\u001b[0;34m\u001b[0m\u001b[0m\n\u001b[0m\u001b[1;32m    569\u001b[0m         \u001b[0mself\u001b[0m\u001b[0;34m.\u001b[0m\u001b[0mcache\u001b[0m\u001b[0;34m(\u001b[0m\u001b[0;34m'pivot_rows'\u001b[0m\u001b[0;34m,\u001b[0m \u001b[0mv\u001b[0m\u001b[0;34m)\u001b[0m\u001b[0;34m\u001b[0m\u001b[0;34m\u001b[0m\u001b[0m\n\u001b[1;32m    570\u001b[0m         \u001b[0;32mreturn\u001b[0m \u001b[0mv\u001b[0m\u001b[0;34m\u001b[0m\u001b[0;34m\u001b[0m\u001b[0m\n",
      "\u001b[0;32m/opt/sagemath-9.0/local/lib/python3.7/site-packages/sage/matrix/matrix0.pyx\u001b[0m in \u001b[0;36msage.matrix.matrix0.Matrix.pivots (build/cythonized/sage/matrix/matrix0.c:28737)\u001b[0;34m()\u001b[0m\n\u001b[1;32m   4299\u001b[0m         \u001b[0mx\u001b[0m \u001b[0;34m=\u001b[0m \u001b[0mself\u001b[0m\u001b[0;34m.\u001b[0m\u001b[0mfetch\u001b[0m\u001b[0;34m(\u001b[0m\u001b[0;34m'pivots'\u001b[0m\u001b[0;34m)\u001b[0m\u001b[0;34m\u001b[0m\u001b[0;34m\u001b[0m\u001b[0m\n\u001b[1;32m   4300\u001b[0m         \u001b[0;32mif\u001b[0m \u001b[0;32mnot\u001b[0m \u001b[0mx\u001b[0m \u001b[0;32mis\u001b[0m \u001b[0;32mNone\u001b[0m\u001b[0;34m:\u001b[0m \u001b[0;32mreturn\u001b[0m \u001b[0mtuple\u001b[0m\u001b[0;34m(\u001b[0m\u001b[0mx\u001b[0m\u001b[0;34m)\u001b[0m\u001b[0;34m\u001b[0m\u001b[0;34m\u001b[0m\u001b[0m\n\u001b[0;32m-> 4301\u001b[0;31m         \u001b[0mself\u001b[0m\u001b[0;34m.\u001b[0m\u001b[0mechelon_form\u001b[0m\u001b[0;34m(\u001b[0m\u001b[0;34m)\u001b[0m\u001b[0;34m\u001b[0m\u001b[0;34m\u001b[0m\u001b[0m\n\u001b[0m\u001b[1;32m   4302\u001b[0m         \u001b[0mx\u001b[0m \u001b[0;34m=\u001b[0m \u001b[0mself\u001b[0m\u001b[0;34m.\u001b[0m\u001b[0mfetch\u001b[0m\u001b[0;34m(\u001b[0m\u001b[0;34m'pivots'\u001b[0m\u001b[0;34m)\u001b[0m\u001b[0;34m\u001b[0m\u001b[0;34m\u001b[0m\u001b[0m\n\u001b[1;32m   4303\u001b[0m         \u001b[0;32mif\u001b[0m \u001b[0mx\u001b[0m \u001b[0;32mis\u001b[0m \u001b[0;32mNone\u001b[0m\u001b[0;34m:\u001b[0m\u001b[0;34m\u001b[0m\u001b[0;34m\u001b[0m\u001b[0m\n",
      "\u001b[0;32m/opt/sagemath-9.0/local/lib/python3.7/site-packages/sage/matrix/matrix2.pyx\u001b[0m in \u001b[0;36msage.matrix.matrix2.Matrix.echelon_form (build/cythonized/sage/matrix/matrix2.c:49385)\u001b[0;34m()\u001b[0m\n\u001b[1;32m   6845\u001b[0m         \u001b[0mE\u001b[0m \u001b[0;34m=\u001b[0m \u001b[0mself\u001b[0m\u001b[0;34m.\u001b[0m\u001b[0m__copy__\u001b[0m\u001b[0;34m(\u001b[0m\u001b[0;34m)\u001b[0m\u001b[0;34m\u001b[0m\u001b[0;34m\u001b[0m\u001b[0m\n\u001b[1;32m   6846\u001b[0m         \u001b[0;32mif\u001b[0m \u001b[0malgorithm\u001b[0m \u001b[0;34m==\u001b[0m \u001b[0;34m'default'\u001b[0m\u001b[0;34m:\u001b[0m\u001b[0;34m\u001b[0m\u001b[0;34m\u001b[0m\u001b[0m\n\u001b[0;32m-> 6847\u001b[0;31m             \u001b[0mv\u001b[0m \u001b[0;34m=\u001b[0m \u001b[0mE\u001b[0m\u001b[0;34m.\u001b[0m\u001b[0mechelonize\u001b[0m\u001b[0;34m(\u001b[0m\u001b[0mcutoff\u001b[0m\u001b[0;34m=\u001b[0m\u001b[0mcutoff\u001b[0m\u001b[0;34m,\u001b[0m \u001b[0;34m**\u001b[0m\u001b[0mkwds\u001b[0m\u001b[0;34m)\u001b[0m\u001b[0;34m\u001b[0m\u001b[0;34m\u001b[0m\u001b[0m\n\u001b[0m\u001b[1;32m   6848\u001b[0m         \u001b[0;32melse\u001b[0m\u001b[0;34m:\u001b[0m\u001b[0;34m\u001b[0m\u001b[0;34m\u001b[0m\u001b[0m\n\u001b[1;32m   6849\u001b[0m             \u001b[0mv\u001b[0m \u001b[0;34m=\u001b[0m \u001b[0mE\u001b[0m\u001b[0;34m.\u001b[0m\u001b[0mechelonize\u001b[0m\u001b[0;34m(\u001b[0m\u001b[0malgorithm\u001b[0m \u001b[0;34m=\u001b[0m \u001b[0malgorithm\u001b[0m\u001b[0;34m,\u001b[0m \u001b[0mcutoff\u001b[0m\u001b[0;34m=\u001b[0m\u001b[0mcutoff\u001b[0m\u001b[0;34m,\u001b[0m \u001b[0;34m**\u001b[0m\u001b[0mkwds\u001b[0m\u001b[0;34m)\u001b[0m\u001b[0;34m\u001b[0m\u001b[0;34m\u001b[0m\u001b[0m\n",
      "\u001b[0;32m/opt/sagemath-9.0/local/lib/python3.7/site-packages/sage/matrix/matrix2.pyx\u001b[0m in \u001b[0;36msage.matrix.matrix2.Matrix.echelonize (build/cythonized/sage/matrix/matrix2.c:48771)\u001b[0;34m()\u001b[0m\n\u001b[1;32m   6742\u001b[0m             \u001b[0;32mif\u001b[0m \u001b[0mself\u001b[0m\u001b[0;34m.\u001b[0m\u001b[0mbase_ring\u001b[0m\u001b[0;34m(\u001b[0m\u001b[0;34m)\u001b[0m \u001b[0;32min\u001b[0m \u001b[0m_Fields\u001b[0m\u001b[0;34m:\u001b[0m\u001b[0;34m\u001b[0m\u001b[0;34m\u001b[0m\u001b[0m\n\u001b[1;32m   6743\u001b[0m                 \u001b[0;32mif\u001b[0m \u001b[0malgorithm\u001b[0m \u001b[0;32min\u001b[0m \u001b[0;34m[\u001b[0m\u001b[0;34m'classical'\u001b[0m\u001b[0;34m,\u001b[0m \u001b[0;34m'partial_pivoting'\u001b[0m\u001b[0;34m,\u001b[0m \u001b[0;34m'scaled_partial_pivoting'\u001b[0m\u001b[0;34m,\u001b[0m \u001b[0;34m'scaled_partial_pivoting_valuation'\u001b[0m\u001b[0;34m]\u001b[0m\u001b[0;34m:\u001b[0m\u001b[0;34m\u001b[0m\u001b[0;34m\u001b[0m\u001b[0m\n\u001b[0;32m-> 6744\u001b[0;31m                     \u001b[0mself\u001b[0m\u001b[0;34m.\u001b[0m\u001b[0m_echelon_in_place\u001b[0m\u001b[0;34m(\u001b[0m\u001b[0malgorithm\u001b[0m\u001b[0;34m)\u001b[0m\u001b[0;34m\u001b[0m\u001b[0;34m\u001b[0m\u001b[0m\n\u001b[0m\u001b[1;32m   6745\u001b[0m                 \u001b[0;32melif\u001b[0m \u001b[0malgorithm\u001b[0m \u001b[0;34m==\u001b[0m \u001b[0;34m'strassen'\u001b[0m\u001b[0;34m:\u001b[0m\u001b[0;34m\u001b[0m\u001b[0;34m\u001b[0m\u001b[0m\n\u001b[1;32m   6746\u001b[0m                     \u001b[0mself\u001b[0m\u001b[0;34m.\u001b[0m\u001b[0m_echelon_strassen\u001b[0m\u001b[0;34m(\u001b[0m\u001b[0mcutoff\u001b[0m\u001b[0;34m)\u001b[0m\u001b[0;34m\u001b[0m\u001b[0;34m\u001b[0m\u001b[0m\n",
      "\u001b[0;32m/opt/sagemath-9.0/local/lib/python3.7/site-packages/sage/matrix/matrix2.pyx\u001b[0m in \u001b[0;36msage.matrix.matrix2.Matrix._echelon_in_place (build/cythonized/sage/matrix/matrix2.c:50431)\u001b[0;34m()\u001b[0m\n\u001b[1;32m   7014\u001b[0m                         \u001b[0;32mfor\u001b[0m \u001b[0mi\u001b[0m \u001b[0;32min\u001b[0m \u001b[0mrange\u001b[0m\u001b[0;34m(\u001b[0m\u001b[0mnr\u001b[0m\u001b[0;34m)\u001b[0m\u001b[0;34m:\u001b[0m\u001b[0;34m\u001b[0m\u001b[0;34m\u001b[0m\u001b[0m\n\u001b[1;32m   7015\u001b[0m                             \u001b[0;32mif\u001b[0m \u001b[0mi\u001b[0m \u001b[0;34m!=\u001b[0m \u001b[0mstart_row\u001b[0m\u001b[0;34m:\u001b[0m\u001b[0;34m\u001b[0m\u001b[0;34m\u001b[0m\u001b[0m\n\u001b[0;32m-> 7016\u001b[0;31m                                 \u001b[0;32mif\u001b[0m \u001b[0mA\u001b[0m\u001b[0;34m.\u001b[0m\u001b[0mget_unsafe\u001b[0m\u001b[0;34m(\u001b[0m\u001b[0mi\u001b[0m\u001b[0;34m,\u001b[0m \u001b[0mc\u001b[0m\u001b[0;34m)\u001b[0m\u001b[0;34m:\u001b[0m\u001b[0;34m\u001b[0m\u001b[0;34m\u001b[0m\u001b[0m\n\u001b[0m\u001b[1;32m   7017\u001b[0m                                     \u001b[0mminus_b\u001b[0m \u001b[0;34m=\u001b[0m \u001b[0;34m-\u001b[0m\u001b[0mA\u001b[0m\u001b[0;34m.\u001b[0m\u001b[0mget_unsafe\u001b[0m\u001b[0;34m(\u001b[0m\u001b[0mi\u001b[0m\u001b[0;34m,\u001b[0m \u001b[0mc\u001b[0m\u001b[0;34m)\u001b[0m\u001b[0;34m\u001b[0m\u001b[0;34m\u001b[0m\u001b[0m\n\u001b[1;32m   7018\u001b[0m                                     \u001b[0mA\u001b[0m\u001b[0;34m.\u001b[0m\u001b[0madd_multiple_of_row\u001b[0m\u001b[0;34m(\u001b[0m\u001b[0mi\u001b[0m\u001b[0;34m,\u001b[0m \u001b[0mstart_row\u001b[0m\u001b[0;34m,\u001b[0m \u001b[0mminus_b\u001b[0m\u001b[0;34m,\u001b[0m \u001b[0mc\u001b[0m\u001b[0;34m)\u001b[0m\u001b[0;34m\u001b[0m\u001b[0;34m\u001b[0m\u001b[0m\n",
      "\u001b[0;32m/opt/sagemath-9.0/local/lib/python3.7/site-packages/sage/symbolic/expression.pyx\u001b[0m in \u001b[0;36msage.symbolic.expression.Expression.__nonzero__ (build/cythonized/sage/symbolic/expression.cpp:19728)\u001b[0;34m()\u001b[0m\n\u001b[1;32m   2938\u001b[0m         \u001b[0mself_is_zero\u001b[0m \u001b[0;34m=\u001b[0m \u001b[0mself\u001b[0m\u001b[0;34m.\u001b[0m\u001b[0m_gobj\u001b[0m\u001b[0;34m.\u001b[0m\u001b[0mis_zero\u001b[0m\u001b[0;34m(\u001b[0m\u001b[0;34m)\u001b[0m\u001b[0;34m\u001b[0m\u001b[0;34m\u001b[0m\u001b[0m\n\u001b[1;32m   2939\u001b[0m         \u001b[0;32mif\u001b[0m \u001b[0mself_is_zero\u001b[0m\u001b[0;34m:\u001b[0m\u001b[0;34m\u001b[0m\u001b[0;34m\u001b[0m\u001b[0m\n\u001b[0;32m-> 2940\u001b[0;31m             \u001b[0;32mreturn\u001b[0m \u001b[0;32mFalse\u001b[0m\u001b[0;34m\u001b[0m\u001b[0;34m\u001b[0m\u001b[0m\n\u001b[0m\u001b[1;32m   2941\u001b[0m         \u001b[0;32melse\u001b[0m\u001b[0;34m:\u001b[0m\u001b[0;34m\u001b[0m\u001b[0;34m\u001b[0m\u001b[0m\n\u001b[1;32m   2942\u001b[0m             \u001b[0;32mreturn\u001b[0m \u001b[0;32mnot\u001b[0m \u001b[0mbool\u001b[0m\u001b[0;34m(\u001b[0m\u001b[0mself\u001b[0m \u001b[0;34m==\u001b[0m \u001b[0mself\u001b[0m\u001b[0;34m.\u001b[0m\u001b[0m_parent\u001b[0m\u001b[0;34m.\u001b[0m\u001b[0mzero\u001b[0m\u001b[0;34m(\u001b[0m\u001b[0;34m)\u001b[0m\u001b[0;34m)\u001b[0m\u001b[0;34m\u001b[0m\u001b[0;34m\u001b[0m\u001b[0m\n",
      "\u001b[0;32m/opt/sagemath-9.0/local/lib/python3.7/site-packages/sage/symbolic/expression.pyx\u001b[0m in \u001b[0;36msage.symbolic.expression.Expression.__nonzero__ (build/cythonized/sage/symbolic/expression.cpp:19640)\u001b[0;34m()\u001b[0m\n\u001b[1;32m   2932\u001b[0m             \u001b[0;31m# associated with different semantics, different\u001b[0m\u001b[0;34m\u001b[0m\u001b[0;34m\u001b[0m\u001b[0;34m\u001b[0m\u001b[0m\n\u001b[1;32m   2933\u001b[0m             \u001b[0;31m# precision, etc., that can lead to subtle bugs.  Also, a\u001b[0m\u001b[0;34m\u001b[0m\u001b[0;34m\u001b[0m\u001b[0;34m\u001b[0m\u001b[0m\n\u001b[0;32m-> 2934\u001b[0;31m             \u001b[0;31m# lot of basic Sage objects can't be put into maxima.\u001b[0m\u001b[0;34m\u001b[0m\u001b[0;34m\u001b[0m\u001b[0;34m\u001b[0m\u001b[0m\n\u001b[0m\u001b[1;32m   2935\u001b[0m             \u001b[0;32mfrom\u001b[0m \u001b[0msage\u001b[0m\u001b[0;34m.\u001b[0m\u001b[0msymbolic\u001b[0m\u001b[0;34m.\u001b[0m\u001b[0mrelation\u001b[0m \u001b[0;32mimport\u001b[0m \u001b[0mtest_relation_maxima\u001b[0m\u001b[0;34m\u001b[0m\u001b[0;34m\u001b[0m\u001b[0m\n\u001b[1;32m   2936\u001b[0m             \u001b[0;32mreturn\u001b[0m \u001b[0mtest_relation_maxima\u001b[0m\u001b[0;34m(\u001b[0m\u001b[0mself\u001b[0m\u001b[0;34m)\u001b[0m\u001b[0;34m\u001b[0m\u001b[0;34m\u001b[0m\u001b[0m\n",
      "\u001b[0;32m/opt/sagemath-9.0/local/lib/python3.7/site-packages/sage/symbolic/relation.py\u001b[0m in \u001b[0;36mtest_relation_maxima\u001b[0;34m(relation)\u001b[0m\n\u001b[1;32m    538\u001b[0m     simp_list = [difference.simplify_factorial(),\n\u001b[1;32m    539\u001b[0m                  \u001b[0mdifference\u001b[0m\u001b[0;34m.\u001b[0m\u001b[0msimplify_rational\u001b[0m\u001b[0;34m(\u001b[0m\u001b[0;34m)\u001b[0m\u001b[0;34m,\u001b[0m\u001b[0;34m\u001b[0m\u001b[0;34m\u001b[0m\u001b[0m\n\u001b[0;32m--> 540\u001b[0;31m                  \u001b[0mdifference\u001b[0m\u001b[0;34m.\u001b[0m\u001b[0msimplify_rectform\u001b[0m\u001b[0;34m(\u001b[0m\u001b[0;34m)\u001b[0m\u001b[0;34m,\u001b[0m\u001b[0;34m\u001b[0m\u001b[0;34m\u001b[0m\u001b[0m\n\u001b[0m\u001b[1;32m    541\u001b[0m                  difference.simplify_trig()]\n\u001b[1;32m    542\u001b[0m     \u001b[0;32mfor\u001b[0m \u001b[0mf\u001b[0m \u001b[0;32min\u001b[0m \u001b[0msimp_list\u001b[0m\u001b[0;34m:\u001b[0m\u001b[0;34m\u001b[0m\u001b[0;34m\u001b[0m\u001b[0m\n",
      "\u001b[0;32m/opt/sagemath-9.0/local/lib/python3.7/site-packages/sage/symbolic/expression.pyx\u001b[0m in \u001b[0;36msage.symbolic.expression.Expression.simplify_rectform (build/cythonized/sage/symbolic/expression.cpp:52751)\u001b[0;34m()\u001b[0m\n\u001b[1;32m  10096\u001b[0m             \u001b[0msage\u001b[0m\u001b[0;34m:\u001b[0m \u001b[0mbool\u001b[0m\u001b[0;34m(\u001b[0m\u001b[0mg\u001b[0m \u001b[0;34m==\u001b[0m \u001b[0mf\u001b[0m\u001b[0;34m.\u001b[0m\u001b[0mrectform\u001b[0m\u001b[0;34m(\u001b[0m\u001b[0;34m)\u001b[0m\u001b[0;34m)\u001b[0m\u001b[0;34m\u001b[0m\u001b[0;34m\u001b[0m\u001b[0m\n\u001b[1;32m  10097\u001b[0m             \u001b[0;32mTrue\u001b[0m\u001b[0;34m\u001b[0m\u001b[0;34m\u001b[0m\u001b[0m\n\u001b[0;32m> 10098\u001b[0;31m \u001b[0;34m\u001b[0m\u001b[0m\n\u001b[0m\u001b[1;32m  10099\u001b[0m         \"\"\"\n\u001b[1;32m  10100\u001b[0m         \u001b[0msimplified_expr\u001b[0m \u001b[0;34m=\u001b[0m \u001b[0mself\u001b[0m\u001b[0;34m.\u001b[0m\u001b[0mrectform\u001b[0m\u001b[0;34m(\u001b[0m\u001b[0;34m)\u001b[0m\u001b[0;34m\u001b[0m\u001b[0;34m\u001b[0m\u001b[0m\n",
      "\u001b[0;32m/opt/sagemath-9.0/local/lib/python3.7/site-packages/sage/symbolic/expression.pyx\u001b[0m in \u001b[0;36msage.symbolic.expression.Expression.rectform (build/cythonized/sage/symbolic/expression.cpp:50830)\u001b[0;34m()\u001b[0m\n\u001b[1;32m   9777\u001b[0m             \u001b[0msage\u001b[0m\u001b[0;34m:\u001b[0m \u001b[0mbool\u001b[0m\u001b[0;34m(\u001b[0m\u001b[0mSR\u001b[0m\u001b[0;34m(\u001b[0m\u001b[0mz\u001b[0m\u001b[0;34m)\u001b[0m\u001b[0;34m.\u001b[0m\u001b[0mrectform\u001b[0m\u001b[0;34m(\u001b[0m\u001b[0;34m)\u001b[0m \u001b[0;34m==\u001b[0m \u001b[0ma\u001b[0m \u001b[0;34m+\u001b[0m \u001b[0mb\u001b[0m\u001b[0;34m*\u001b[0m\u001b[0mI\u001b[0m\u001b[0;34m)\u001b[0m\u001b[0;34m\u001b[0m\u001b[0;34m\u001b[0m\u001b[0m\n\u001b[1;32m   9778\u001b[0m             \u001b[0;32mTrue\u001b[0m\u001b[0;34m\u001b[0m\u001b[0;34m\u001b[0m\u001b[0m\n\u001b[0;32m-> 9779\u001b[0;31m \u001b[0;34m\u001b[0m\u001b[0m\n\u001b[0m\u001b[1;32m   9780\u001b[0m         \"\"\"\n\u001b[1;32m   9781\u001b[0m         \u001b[0;32mreturn\u001b[0m \u001b[0mself\u001b[0m\u001b[0;34m.\u001b[0m\u001b[0mmaxima_methods\u001b[0m\u001b[0;34m(\u001b[0m\u001b[0;34m)\u001b[0m\u001b[0;34m.\u001b[0m\u001b[0mrectform\u001b[0m\u001b[0;34m(\u001b[0m\u001b[0;34m)\u001b[0m\u001b[0;34m\u001b[0m\u001b[0;34m\u001b[0m\u001b[0m\n",
      "\u001b[0;32m/opt/sagemath-9.0/local/lib/python3.7/site-packages/sage/symbolic/maxima_wrapper.py\u001b[0m in \u001b[0;36m__call__\u001b[0;34m(self, *args, **kwds)\u001b[0m\n\u001b[1;32m     30\u001b[0m         \"\"\"\n\u001b[1;32m     31\u001b[0m         return super(MaximaFunctionElementWrapper, self).__call__(*args,\n\u001b[0;32m---> 32\u001b[0;31m                 **kwds).sage()\n\u001b[0m\u001b[1;32m     33\u001b[0m \u001b[0;34m\u001b[0m\u001b[0m\n\u001b[1;32m     34\u001b[0m \u001b[0;32mclass\u001b[0m \u001b[0mMaximaWrapper\u001b[0m\u001b[0;34m(\u001b[0m\u001b[0mSageObject\u001b[0m\u001b[0;34m)\u001b[0m\u001b[0;34m:\u001b[0m\u001b[0;34m\u001b[0m\u001b[0;34m\u001b[0m\u001b[0m\n",
      "\u001b[0;32m/opt/sagemath-9.0/local/lib/python3.7/site-packages/sage/interfaces/interface.py\u001b[0m in \u001b[0;36m__call__\u001b[0;34m(self, *args, **kwds)\u001b[0m\n\u001b[1;32m    678\u001b[0m \u001b[0;34m\u001b[0m\u001b[0m\n\u001b[1;32m    679\u001b[0m     \u001b[0;32mdef\u001b[0m \u001b[0m__call__\u001b[0m\u001b[0;34m(\u001b[0m\u001b[0mself\u001b[0m\u001b[0;34m,\u001b[0m \u001b[0;34m*\u001b[0m\u001b[0margs\u001b[0m\u001b[0;34m,\u001b[0m \u001b[0;34m**\u001b[0m\u001b[0mkwds\u001b[0m\u001b[0;34m)\u001b[0m\u001b[0;34m:\u001b[0m\u001b[0;34m\u001b[0m\u001b[0;34m\u001b[0m\u001b[0m\n\u001b[0;32m--> 680\u001b[0;31m         \u001b[0;32mreturn\u001b[0m \u001b[0mself\u001b[0m\u001b[0;34m.\u001b[0m\u001b[0m_obj\u001b[0m\u001b[0;34m.\u001b[0m\u001b[0mparent\u001b[0m\u001b[0;34m(\u001b[0m\u001b[0;34m)\u001b[0m\u001b[0;34m.\u001b[0m\u001b[0mfunction_call\u001b[0m\u001b[0;34m(\u001b[0m\u001b[0mself\u001b[0m\u001b[0;34m.\u001b[0m\u001b[0m_name\u001b[0m\u001b[0;34m,\u001b[0m \u001b[0;34m[\u001b[0m\u001b[0mself\u001b[0m\u001b[0;34m.\u001b[0m\u001b[0m_obj\u001b[0m\u001b[0;34m]\u001b[0m \u001b[0;34m+\u001b[0m \u001b[0mlist\u001b[0m\u001b[0;34m(\u001b[0m\u001b[0margs\u001b[0m\u001b[0;34m)\u001b[0m\u001b[0;34m,\u001b[0m \u001b[0mkwds\u001b[0m\u001b[0;34m)\u001b[0m\u001b[0;34m\u001b[0m\u001b[0;34m\u001b[0m\u001b[0m\n\u001b[0m\u001b[1;32m    681\u001b[0m \u001b[0;34m\u001b[0m\u001b[0m\n\u001b[1;32m    682\u001b[0m     \u001b[0;32mdef\u001b[0m \u001b[0mhelp\u001b[0m\u001b[0;34m(\u001b[0m\u001b[0mself\u001b[0m\u001b[0;34m)\u001b[0m\u001b[0;34m:\u001b[0m\u001b[0;34m\u001b[0m\u001b[0;34m\u001b[0m\u001b[0m\n",
      "\u001b[0;32m/opt/sagemath-9.0/local/lib/python3.7/site-packages/sage/interfaces/interface.py\u001b[0m in \u001b[0;36mfunction_call\u001b[0;34m(self, function, args, kwds)\u001b[0m\n\u001b[1;32m    599\u001b[0m                                        \u001b[0;34m[\u001b[0m\u001b[0ms\u001b[0m\u001b[0;34m.\u001b[0m\u001b[0mname\u001b[0m\u001b[0;34m(\u001b[0m\u001b[0;34m)\u001b[0m \u001b[0;32mfor\u001b[0m \u001b[0ms\u001b[0m \u001b[0;32min\u001b[0m \u001b[0margs\u001b[0m\u001b[0;34m]\u001b[0m\u001b[0;34m,\u001b[0m\u001b[0;34m\u001b[0m\u001b[0;34m\u001b[0m\u001b[0m\n\u001b[1;32m    600\u001b[0m                                        ['%s=%s'%(key,value.name()) for key, value in kwds.items()])\n\u001b[0;32m--> 601\u001b[0;31m         \u001b[0;32mreturn\u001b[0m \u001b[0mself\u001b[0m\u001b[0;34m.\u001b[0m\u001b[0mnew\u001b[0m\u001b[0;34m(\u001b[0m\u001b[0ms\u001b[0m\u001b[0;34m)\u001b[0m\u001b[0;34m\u001b[0m\u001b[0;34m\u001b[0m\u001b[0m\n\u001b[0m\u001b[1;32m    602\u001b[0m \u001b[0;34m\u001b[0m\u001b[0m\n\u001b[1;32m    603\u001b[0m     \u001b[0;32mdef\u001b[0m \u001b[0m_function_call_string\u001b[0m\u001b[0;34m(\u001b[0m\u001b[0mself\u001b[0m\u001b[0;34m,\u001b[0m \u001b[0mfunction\u001b[0m\u001b[0;34m,\u001b[0m \u001b[0margs\u001b[0m\u001b[0;34m,\u001b[0m \u001b[0mkwds\u001b[0m\u001b[0;34m)\u001b[0m\u001b[0;34m:\u001b[0m\u001b[0;34m\u001b[0m\u001b[0;34m\u001b[0m\u001b[0m\n",
      "\u001b[0;32m/opt/sagemath-9.0/local/lib/python3.7/site-packages/sage/interfaces/interface.py\u001b[0m in \u001b[0;36mnew\u001b[0;34m(self, code)\u001b[0m\n\u001b[1;32m    368\u001b[0m \u001b[0;34m\u001b[0m\u001b[0m\n\u001b[1;32m    369\u001b[0m     \u001b[0;32mdef\u001b[0m \u001b[0mnew\u001b[0m\u001b[0;34m(\u001b[0m\u001b[0mself\u001b[0m\u001b[0;34m,\u001b[0m \u001b[0mcode\u001b[0m\u001b[0;34m)\u001b[0m\u001b[0;34m:\u001b[0m\u001b[0;34m\u001b[0m\u001b[0;34m\u001b[0m\u001b[0m\n\u001b[0;32m--> 370\u001b[0;31m         \u001b[0;32mreturn\u001b[0m \u001b[0mself\u001b[0m\u001b[0;34m(\u001b[0m\u001b[0mcode\u001b[0m\u001b[0;34m)\u001b[0m\u001b[0;34m\u001b[0m\u001b[0;34m\u001b[0m\u001b[0m\n\u001b[0m\u001b[1;32m    371\u001b[0m \u001b[0;34m\u001b[0m\u001b[0m\n\u001b[1;32m    372\u001b[0m     \u001b[0;31m###################################################################\u001b[0m\u001b[0;34m\u001b[0m\u001b[0;34m\u001b[0m\u001b[0;34m\u001b[0m\u001b[0m\n",
      "\u001b[0;32m/opt/sagemath-9.0/local/lib/python3.7/site-packages/sage/interfaces/interface.py\u001b[0m in \u001b[0;36m__call__\u001b[0;34m(self, x, name)\u001b[0m\n\u001b[1;32m    294\u001b[0m \u001b[0;34m\u001b[0m\u001b[0m\n\u001b[1;32m    295\u001b[0m         \u001b[0;32mif\u001b[0m \u001b[0misinstance\u001b[0m\u001b[0;34m(\u001b[0m\u001b[0mx\u001b[0m\u001b[0;34m,\u001b[0m \u001b[0mstring_types\u001b[0m\u001b[0;34m)\u001b[0m\u001b[0;34m:\u001b[0m\u001b[0;34m\u001b[0m\u001b[0;34m\u001b[0m\u001b[0m\n\u001b[0;32m--> 296\u001b[0;31m             \u001b[0;32mreturn\u001b[0m \u001b[0mcls\u001b[0m\u001b[0;34m(\u001b[0m\u001b[0mself\u001b[0m\u001b[0;34m,\u001b[0m \u001b[0mx\u001b[0m\u001b[0;34m,\u001b[0m \u001b[0mname\u001b[0m\u001b[0;34m=\u001b[0m\u001b[0mname\u001b[0m\u001b[0;34m)\u001b[0m\u001b[0;34m\u001b[0m\u001b[0;34m\u001b[0m\u001b[0m\n\u001b[0m\u001b[1;32m    297\u001b[0m         \u001b[0;32mtry\u001b[0m\u001b[0;34m:\u001b[0m\u001b[0;34m\u001b[0m\u001b[0;34m\u001b[0m\u001b[0m\n\u001b[1;32m    298\u001b[0m             \u001b[0;31m# Special methods do not and should not have an option to\u001b[0m\u001b[0;34m\u001b[0m\u001b[0;34m\u001b[0m\u001b[0;34m\u001b[0m\u001b[0m\n",
      "\u001b[0;32m/opt/sagemath-9.0/local/lib/python3.7/site-packages/sage/interfaces/interface.py\u001b[0m in \u001b[0;36m__init__\u001b[0;34m(self, parent, value, is_name, name)\u001b[0m\n\u001b[1;32m    718\u001b[0m                 \u001b[0mself\u001b[0m\u001b[0;34m.\u001b[0m\u001b[0m_name\u001b[0m \u001b[0;34m=\u001b[0m \u001b[0mparent\u001b[0m\u001b[0;34m.\u001b[0m\u001b[0m_create\u001b[0m\u001b[0;34m(\u001b[0m\u001b[0mvalue\u001b[0m\u001b[0;34m,\u001b[0m \u001b[0mname\u001b[0m\u001b[0;34m=\u001b[0m\u001b[0mname\u001b[0m\u001b[0;34m)\u001b[0m\u001b[0;34m\u001b[0m\u001b[0;34m\u001b[0m\u001b[0m\n\u001b[1;32m    719\u001b[0m             \u001b[0;32mexcept\u001b[0m \u001b[0;34m(\u001b[0m\u001b[0mTypeError\u001b[0m\u001b[0;34m,\u001b[0m \u001b[0mRuntimeError\u001b[0m\u001b[0;34m,\u001b[0m \u001b[0mValueError\u001b[0m\u001b[0;34m)\u001b[0m \u001b[0;32mas\u001b[0m \u001b[0mx\u001b[0m\u001b[0;34m:\u001b[0m\u001b[0;34m\u001b[0m\u001b[0;34m\u001b[0m\u001b[0m\n\u001b[0;32m--> 720\u001b[0;31m                 \u001b[0;32mraise\u001b[0m \u001b[0mTypeError\u001b[0m\u001b[0;34m(\u001b[0m\u001b[0mx\u001b[0m\u001b[0;34m)\u001b[0m\u001b[0;34m\u001b[0m\u001b[0;34m\u001b[0m\u001b[0m\n\u001b[0m\u001b[1;32m    721\u001b[0m \u001b[0;34m\u001b[0m\u001b[0m\n\u001b[1;32m    722\u001b[0m     \u001b[0;32mdef\u001b[0m \u001b[0m_latex_\u001b[0m\u001b[0;34m(\u001b[0m\u001b[0mself\u001b[0m\u001b[0;34m)\u001b[0m\u001b[0;34m:\u001b[0m\u001b[0;34m\u001b[0m\u001b[0;34m\u001b[0m\u001b[0m\n",
      "\u001b[0;31mTypeError\u001b[0m: ECL says: Memory limit reached. Please jump to an outer pointer, quit program and enlarge the\nmemory limits before executing the program again."
     ]
    }
   ],
   "source": [
    "reduced_M = reduceDependedRows(M)"
   ]
  },
  {
   "cell_type": "code",
   "execution_count": null,
   "metadata": {},
   "outputs": [],
   "source": [
    "M_det  = reduced_M.det().combine()"
   ]
  },
  {
   "cell_type": "code",
   "execution_count": null,
   "metadata": {},
   "outputs": [],
   "source": [
    "M_det"
   ]
  },
  {
   "cell_type": "code",
   "execution_count": null,
   "metadata": {},
   "outputs": [],
   "source": [
    "M_det_num = M_det.numerator()"
   ]
  },
  {
   "cell_type": "code",
   "execution_count": null,
   "metadata": {},
   "outputs": [],
   "source": [
    "M_det_num.factor()"
   ]
  },
  {
   "cell_type": "code",
   "execution_count": null,
   "metadata": {},
   "outputs": [],
   "source": [
    "for m in [0,1]:\n",
    "    M_det_num = (M_det_num/bessel_J(m,kappa * rh)).full_simplify ().expand ()"
   ]
  },
  {
   "cell_type": "code",
   "execution_count": null,
   "metadata": {},
   "outputs": [],
   "source": [
    "M_det_num"
   ]
  },
  {
   "cell_type": "code",
   "execution_count": null,
   "metadata": {},
   "outputs": [],
   "source": [
    "for i in range(n_layers):\n",
    "    M_det_num = (M_det_num/(k [i]*cos(h*k[i])*cos(z*k[i]))).full_simplify ().expand ()"
   ]
  },
  {
   "cell_type": "code",
   "execution_count": null,
   "metadata": {},
   "outputs": [],
   "source": [
    "M_det_num"
   ]
  },
  {
   "cell_type": "code",
   "execution_count": null,
   "metadata": {},
   "outputs": [],
   "source": [
    "disp_eq = M_det_num == 0"
   ]
  },
  {
   "cell_type": "code",
   "execution_count": null,
   "metadata": {},
   "outputs": [],
   "source": [
    "disp_eq"
   ]
  },
  {
   "cell_type": "code",
   "execution_count": null,
   "metadata": {},
   "outputs": [],
   "source": [
    "bch"
   ]
  },
  {
   "cell_type": "code",
   "execution_count": null,
   "metadata": {},
   "outputs": [],
   "source": [
    "bchs = []\n",
    "for i in range(n_layers-1):\n",
    "    bchs +=  [solve (bch, B_z[i+1])[0].full_simplify ().expand () ]"
   ]
  },
  {
   "cell_type": "code",
   "execution_count": null,
   "metadata": {},
   "outputs": [],
   "source": [
    "bchs"
   ]
  },
  {
   "cell_type": "code",
   "execution_count": null,
   "metadata": {},
   "outputs": [],
   "source": []
  },
  {
   "cell_type": "code",
   "execution_count": null,
   "metadata": {},
   "outputs": [],
   "source": [
    "E_rho_s = []\n",
    "for i in range(n_layers):\n",
    "    E_rho_s += [ lambda rh, ph, z, i=i : E_rho[i](rh,ph,z).subs(bchs) ]"
   ]
  },
  {
   "cell_type": "code",
   "execution_count": null,
   "metadata": {},
   "outputs": [],
   "source": [
    "E_zz_s = []\n",
    "for i in range(n_layers):\n",
    "    E_zz_s += [ lambda rh, ph, z, i=i : E_zz[i](rh,ph,z).subs(bchs) ]"
   ]
  },
  {
   "cell_type": "code",
   "execution_count": null,
   "metadata": {},
   "outputs": [],
   "source": [
    "H_phi_s = []\n",
    "for i in range(n_layers):\n",
    "    H_phi_s += [ lambda rh, ph, z, i=i : H_phi[i](rh,ph,z).subs(bchs) ]\n"
   ]
  },
  {
   "cell_type": "code",
   "execution_count": null,
   "metadata": {},
   "outputs": [],
   "source": [
    "E_rho_s [1](rh,ph,z)"
   ]
  },
  {
   "cell_type": "code",
   "execution_count": null,
   "metadata": {},
   "outputs": [],
   "source": [
    "E_zz_s[1](rh,ph,z)"
   ]
  },
  {
   "cell_type": "code",
   "execution_count": null,
   "metadata": {},
   "outputs": [],
   "source": [
    "H_phi_s[1](rh,ph,z)"
   ]
  },
  {
   "cell_type": "code",
   "execution_count": null,
   "metadata": {},
   "outputs": [],
   "source": [
    "eq_kappa"
   ]
  },
  {
   "cell_type": "code",
   "execution_count": null,
   "metadata": {},
   "outputs": [],
   "source": [
    "disp_eq"
   ]
  },
  {
   "cell_type": "code",
   "execution_count": null,
   "metadata": {},
   "outputs": [],
   "source": [
    "bessel_root_1 = find_root (bessel_J(0,x),  0, pi)"
   ]
  },
  {
   "cell_type": "code",
   "execution_count": null,
   "metadata": {},
   "outputs": [],
   "source": [
    "bessel_root_2 =  find_root (bessel_J(0,x),  pi, pi*2)"
   ]
  },
  {
   "cell_type": "code",
   "execution_count": null,
   "metadata": {
    "scrolled": true
   },
   "outputs": [],
   "source": [
    "kappa_d1 = bessel_root_1/a"
   ]
  },
  {
   "cell_type": "code",
   "execution_count": null,
   "metadata": {},
   "outputs": [],
   "source": [
    "#sgs\n",
    "lambda_d = 632*100*10^-9\n",
    "# 632 nm\n",
    "digit_values = [m == 0, a == 12, mu[0] == 1, mu[1] == 1, epsilon[0] == 2.468^2, epsilon[1] == 1.67^2]\n",
    "\n",
    "c_value  = [ c == 299792458 * 100]\n",
    "\n",
    "omega_value = [ omega  == ((2*pi * c)/ lambda_d).subs (c_value) ]"
   ]
  },
  {
   "cell_type": "code",
   "execution_count": null,
   "metadata": {},
   "outputs": [],
   "source": [
    "epsilon_d = []\n",
    "for i in range(n_layers):\n",
    "    epsilon_d += [epsilon[i].subs(digit_values)]"
   ]
  },
  {
   "cell_type": "code",
   "execution_count": null,
   "metadata": {},
   "outputs": [],
   "source": [
    "eq_kappa_d = []\n",
    "for i in range(n_layers):\n",
    "    eq_kappa_d += [eq_kappa[i].subs(kappa == kappa_d1).subs(digit_values).subs (c_value).subs(omega_value)]"
   ]
  },
  {
   "cell_type": "code",
   "execution_count": null,
   "metadata": {
    "scrolled": true
   },
   "outputs": [],
   "source": [
    "eq_kappa_d"
   ]
  },
  {
   "cell_type": "code",
   "execution_count": null,
   "metadata": {},
   "outputs": [],
   "source": [
    "disp_eq_d = disp_eq.subs(digit_values).subs (c_value)"
   ]
  },
  {
   "cell_type": "code",
   "execution_count": null,
   "metadata": {},
   "outputs": [],
   "source": [
    "disp_eq_d"
   ]
  },
  {
   "cell_type": "code",
   "execution_count": null,
   "metadata": {},
   "outputs": [],
   "source": [
    "k_values = []\n",
    "for i in range(n_layers):\n",
    "    assume (k [i] > 0)\n",
    "    k_values += solve (eq_kappa_d[i], k[i])"
   ]
  },
  {
   "cell_type": "code",
   "execution_count": null,
   "metadata": {},
   "outputs": [],
   "source": [
    "k_values"
   ]
  },
  {
   "cell_type": "code",
   "execution_count": null,
   "metadata": {},
   "outputs": [],
   "source": [
    "k_values_d = []\n",
    "for i in range(n_layers):\n",
    "    k_values_d += [k_values [i].lhs() == k_values [i].rhs().n() ]"
   ]
  },
  {
   "cell_type": "code",
   "execution_count": null,
   "metadata": {},
   "outputs": [],
   "source": [
    "k_values_d"
   ]
  },
  {
   "cell_type": "code",
   "execution_count": null,
   "metadata": {},
   "outputs": [],
   "source": [
    "disp_eq_s = disp_eq_d.subs(k_values_d)"
   ]
  },
  {
   "cell_type": "code",
   "execution_count": null,
   "metadata": {},
   "outputs": [],
   "source": [
    "disp_eq_s"
   ]
  },
  {
   "cell_type": "code",
   "execution_count": null,
   "metadata": {},
   "outputs": [],
   "source": [
    "disp_eq_brakes = []\n",
    "for i in range(n_layers):\n",
    "    disp_eq_brake = find_root( cos(k_values_d[i].rhs()*x) == 0, lambda_d/32, lambda_d/4)\n",
    "    for j in range (3):\n",
    "        disp_eq_brakes += [ j * pi / k_values_d [i].rhs() + disp_eq_brake]"
   ]
  },
  {
   "cell_type": "code",
   "execution_count": null,
   "metadata": {},
   "outputs": [],
   "source": [
    "disp_eq_brakes"
   ]
  },
  {
   "cell_type": "code",
   "execution_count": null,
   "metadata": {},
   "outputs": [],
   "source": []
  },
  {
   "cell_type": "code",
   "execution_count": null,
   "metadata": {},
   "outputs": [],
   "source": []
  },
  {
   "cell_type": "code",
   "execution_count": null,
   "metadata": {},
   "outputs": [],
   "source": [
    "p = sage.plot.graphics.Graphics()\n",
    "for i in range(n_layers):\n",
    "    p += plot ( cos(k_values_d[i].rhs()* x), lambda_d/32, lambda_d/4)\n",
    "\n",
    "p.show()"
   ]
  },
  {
   "cell_type": "code",
   "execution_count": null,
   "metadata": {
    "scrolled": true
   },
   "outputs": [],
   "source": [
    "disp_eq_brakes"
   ]
  },
  {
   "cell_type": "code",
   "execution_count": null,
   "metadata": {},
   "outputs": [],
   "source": [
    "disp_eq_brakes.sort()"
   ]
  },
  {
   "cell_type": "code",
   "execution_count": null,
   "metadata": {
    "scrolled": true
   },
   "outputs": [],
   "source": [
    "for i in range(len(disp_eq_brakes)):\n",
    "    display(Math(latex(disp_eq_brakes [i].n())))"
   ]
  },
  {
   "cell_type": "code",
   "execution_count": null,
   "metadata": {},
   "outputs": [],
   "source": [
    "disp_eq_s.lhs ().subs(h  == disp_eq_brakes [0] + lambda_d/64)"
   ]
  },
  {
   "cell_type": "code",
   "execution_count": null,
   "metadata": {},
   "outputs": [],
   "source": [
    "p = sage.plot.graphics.Graphics()\n",
    "ylim = 5*10^-5\n",
    "xeps = lambda_d/1024\n",
    "p += plot(disp_eq_s.lhs(), xeps, disp_eq_brakes[0])\n",
    "for i in range(len(disp_eq_brakes)-1):\n",
    "    p += plot (disp_eq_s.lhs(), disp_eq_brakes[i] + xeps, disp_eq_brakes[i+1] - xeps, ymin = -ylim, ymax = ylim)\n",
    "\n",
    "p.show()"
   ]
  },
  {
   "cell_type": "code",
   "execution_count": null,
   "metadata": {},
   "outputs": [],
   "source": [
    "h_lst = []\n",
    "\n",
    "xeps = lambda_d/1024\n",
    "for i in range(len(disp_eq_brakes)-1):\n",
    "    try:\n",
    "        \n",
    "        h_lst += [find_root (disp_eq_s.lhs(), disp_eq_brakes[i] + xeps, disp_eq_brakes[i+1] - xeps)]\n",
    "    except  Exception as ex:\n",
    "        print(str(ex))\n",
    "        print(disp_eq_brakes[i].n())\n",
    "        print(disp_eq_brakes [i+1].n())\n",
    "\n"
   ]
  },
  {
   "cell_type": "code",
   "execution_count": null,
   "metadata": {},
   "outputs": [],
   "source": [
    "h_lst "
   ]
  },
  {
   "cell_type": "code",
   "execution_count": null,
   "metadata": {},
   "outputs": [],
   "source": [
    "def find_newton_root(f,x,a,b):\n",
    "    df = f.diff(x)\n",
    "    NewtonIt(x)=x-(f/df)(x)\n",
    "    \n",
    "    xn=(a+b)/2;                      # initial guess\n",
    "\n",
    "    print (xn)\n",
    "    for i in range(10):\n",
    "        xn=N(NewtonIt(xn),digits=20)\n",
    "\n",
    "        \n",
    "        print (xn)\n",
    "\n",
    "    return xn"
   ]
  },
  {
   "cell_type": "code",
   "execution_count": null,
   "metadata": {},
   "outputs": [],
   "source": [
    "h_lst =[]\n",
    "\n",
    "xeps = lambda_d/1024\n",
    "for i in range(len(disp_eq_brakes)-1):\n",
    "    try:\n",
    "        h_lst += [find_newton_root (disp_eq_s.lhs(),h,disp_eq_brakes[i] + xeps, disp_eq_brakes[i+1] - xeps)]\n",
    "    except  Exception as ex:\n",
    "        print(str(ex))\n",
    "        print(disp_eq_brakes[i].n())\n",
    "        print(disp_eq_brakes [i+1].n())\n",
    "\n"
   ]
  },
  {
   "cell_type": "code",
   "execution_count": null,
   "metadata": {},
   "outputs": [],
   "source": [
    "h_lst"
   ]
  },
  {
   "cell_type": "code",
   "execution_count": null,
   "metadata": {},
   "outputs": [],
   "source": [
    "h_sol = h_lst[0]"
   ]
  },
  {
   "cell_type": "code",
   "execution_count": null,
   "metadata": {},
   "outputs": [],
   "source": [
    "h_sol"
   ]
  },
  {
   "cell_type": "code",
   "execution_count": null,
   "metadata": {},
   "outputs": [],
   "source": [
    "E_rho_sol = []\n",
    "for i in range(n_layers):\n",
    "    E_rho_sol += [lambda rh,ph,z,  i=i: E_rho_s[i](rh,ph,z).subs(digit_values).subs(h == h_sol).subs(omega_value).subs(kappa == kappa_d1).subs(c_value).subs(k_values_d).subs(B_z[0] == 1).subs (digit_values)]"
   ]
  },
  {
   "cell_type": "code",
   "execution_count": null,
   "metadata": {},
   "outputs": [],
   "source": [
    "E_z_sol = []\n",
    "for i in range(n_layers):\n",
    "    E_z_sol += [lambda rh,ph,z,  i=i: E_zz_s[i](rh,ph,z).subs(digit_values).subs(h == h_sol).subs(omega_value).subs(kappa == kappa_d1).subs(c_value).subs(k_values_d).subs(B_z[0] == 1).subs (digit_values)]"
   ]
  },
  {
   "cell_type": "code",
   "execution_count": null,
   "metadata": {},
   "outputs": [],
   "source": [
    "H_phi_sol = []\n",
    "for i in range(n_layers):\n",
    "    H_phi_sol += [lambda rh,ph,z,  i=i: H_phi_s[i](rh,ph,z).subs(digit_values).subs(h == h_sol).subs(omega_value).subs(kappa == kappa_d1).subs(c_value).subs(k_values_d).subs(B_z[0] == 1).subs (digit_values)]"
   ]
  },
  {
   "cell_type": "code",
   "execution_count": null,
   "metadata": {},
   "outputs": [],
   "source": [
    "[E_rho_sol [1](rho,ph,z) for rho in [0..12]]"
   ]
  },
  {
   "cell_type": "code",
   "execution_count": null,
   "metadata": {},
   "outputs": [],
   "source": []
  },
  {
   "cell_type": "code",
   "execution_count": null,
   "metadata": {},
   "outputs": [],
   "source": []
  },
  {
   "cell_type": "code",
   "execution_count": null,
   "metadata": {},
   "outputs": [],
   "source": [
    "p = sage.plot.graphics.Graphics()\n",
    "\n",
    "for i in range(n_layers):\n",
    "    p += plot ([E_rho_sol[i](rh,ph,z).subs(rh == rho) for rho in [0..12]],(z, i*h_sol, (i+1)*h_sol))\n",
    "p.show ()\n"
   ]
  },
  {
   "cell_type": "code",
   "execution_count": null,
   "metadata": {},
   "outputs": [],
   "source": [
    "p = sage.plot.graphics.Graphics()\n",
    "\n",
    "for i in range(n_layers):\n",
    "    p += plot ([E_z_sol[i](rh,ph,z).subs(rh == rho) for rho in [0..12]],(z, i*h_sol, (i+1)*h_sol))\n",
    "p.show ()\n"
   ]
  },
  {
   "cell_type": "code",
   "execution_count": null,
   "metadata": {},
   "outputs": [],
   "source": [
    "p = sage.plot.graphics.Graphics()\n",
    "\n",
    "for i in range(n_layers):\n",
    "    p += plot ([epsilon_d[i]*E_z_sol[i](rh,ph,z).subs(rh == rho) for rho in [0..12]],(z, i*h_sol, (i+1)*h_sol))\n",
    "p.show ()"
   ]
  },
  {
   "cell_type": "code",
   "execution_count": null,
   "metadata": {},
   "outputs": [],
   "source": [
    "p = sage.plot.graphics.Graphics()\n",
    "\n",
    "for i in range(n_layers):\n",
    "    p += plot ([H_phi_sol[i](rh,ph,z).subs(rh == rho).imag_part() for rho in [0..12]],(z, i*h_sol, (i+1)*h_sol))\n",
    "p.show ()\n"
   ]
  },
  {
   "cell_type": "code",
   "execution_count": null,
   "metadata": {},
   "outputs": [],
   "source": []
  },
  {
   "cell_type": "code",
   "execution_count": null,
   "metadata": {},
   "outputs": [],
   "source": []
  },
  {
   "cell_type": "code",
   "execution_count": null,
   "metadata": {},
   "outputs": [],
   "source": [
    "exclude_vars = []"
   ]
  },
  {
   "cell_type": "code",
   "execution_count": null,
   "metadata": {},
   "outputs": [],
   "source": [
    "res_rot_H"
   ]
  },
  {
   "cell_type": "code",
   "execution_count": null,
   "metadata": {},
   "outputs": [],
   "source": []
  },
  {
   "cell_type": "code",
   "execution_count": null,
   "metadata": {},
   "outputs": [],
   "source": []
  },
  {
   "cell_type": "code",
   "execution_count": null,
   "metadata": {},
   "outputs": [],
   "source": []
  },
  {
   "cell_type": "code",
   "execution_count": null,
   "metadata": {},
   "outputs": [],
   "source": []
  },
  {
   "cell_type": "code",
   "execution_count": null,
   "metadata": {},
   "outputs": [],
   "source": []
  },
  {
   "cell_type": "code",
   "execution_count": null,
   "metadata": {},
   "outputs": [],
   "source": []
  },
  {
   "cell_type": "code",
   "execution_count": null,
   "metadata": {},
   "outputs": [],
   "source": []
  },
  {
   "cell_type": "code",
   "execution_count": null,
   "metadata": {},
   "outputs": [],
   "source": []
  },
  {
   "cell_type": "code",
   "execution_count": null,
   "metadata": {},
   "outputs": [],
   "source": []
  },
  {
   "cell_type": "code",
   "execution_count": null,
   "metadata": {},
   "outputs": [],
   "source": []
  },
  {
   "cell_type": "code",
   "execution_count": null,
   "metadata": {},
   "outputs": [],
   "source": []
  },
  {
   "cell_type": "code",
   "execution_count": null,
   "metadata": {},
   "outputs": [],
   "source": []
  },
  {
   "cell_type": "code",
   "execution_count": null,
   "metadata": {},
   "outputs": [],
   "source": []
  },
  {
   "cell_type": "code",
   "execution_count": null,
   "metadata": {},
   "outputs": [],
   "source": []
  },
  {
   "cell_type": "code",
   "execution_count": null,
   "metadata": {},
   "outputs": [],
   "source": []
  },
  {
   "cell_type": "code",
   "execution_count": null,
   "metadata": {},
   "outputs": [],
   "source": []
  },
  {
   "cell_type": "code",
   "execution_count": null,
   "metadata": {},
   "outputs": [],
   "source": []
  },
  {
   "cell_type": "code",
   "execution_count": null,
   "metadata": {},
   "outputs": [],
   "source": []
  },
  {
   "cell_type": "code",
   "execution_count": null,
   "metadata": {},
   "outputs": [],
   "source": []
  },
  {
   "cell_type": "code",
   "execution_count": null,
   "metadata": {},
   "outputs": [],
   "source": []
  },
  {
   "cell_type": "code",
   "execution_count": null,
   "metadata": {},
   "outputs": [],
   "source": []
  },
  {
   "cell_type": "code",
   "execution_count": null,
   "metadata": {},
   "outputs": [],
   "source": []
  },
  {
   "cell_type": "code",
   "execution_count": null,
   "metadata": {},
   "outputs": [],
   "source": []
  },
  {
   "cell_type": "code",
   "execution_count": null,
   "metadata": {},
   "outputs": [],
   "source": []
  },
  {
   "cell_type": "code",
   "execution_count": null,
   "metadata": {},
   "outputs": [],
   "source": []
  },
  {
   "cell_type": "code",
   "execution_count": null,
   "metadata": {},
   "outputs": [],
   "source": []
  },
  {
   "cell_type": "code",
   "execution_count": null,
   "metadata": {},
   "outputs": [],
   "source": []
  },
  {
   "cell_type": "code",
   "execution_count": null,
   "metadata": {},
   "outputs": [],
   "source": []
  },
  {
   "cell_type": "code",
   "execution_count": null,
   "metadata": {},
   "outputs": [],
   "source": []
  },
  {
   "cell_type": "code",
   "execution_count": null,
   "metadata": {},
   "outputs": [],
   "source": []
  },
  {
   "cell_type": "code",
   "execution_count": null,
   "metadata": {},
   "outputs": [],
   "source": []
  },
  {
   "cell_type": "code",
   "execution_count": null,
   "metadata": {},
   "outputs": [],
   "source": []
  },
  {
   "cell_type": "code",
   "execution_count": null,
   "metadata": {},
   "outputs": [],
   "source": []
  },
  {
   "cell_type": "code",
   "execution_count": null,
   "metadata": {},
   "outputs": [],
   "source": []
  },
  {
   "cell_type": "code",
   "execution_count": null,
   "metadata": {},
   "outputs": [],
   "source": []
  },
  {
   "cell_type": "code",
   "execution_count": null,
   "metadata": {},
   "outputs": [],
   "source": []
  },
  {
   "cell_type": "code",
   "execution_count": null,
   "metadata": {},
   "outputs": [],
   "source": []
  },
  {
   "cell_type": "code",
   "execution_count": null,
   "metadata": {},
   "outputs": [],
   "source": []
  },
  {
   "cell_type": "code",
   "execution_count": null,
   "metadata": {},
   "outputs": [],
   "source": []
  },
  {
   "cell_type": "code",
   "execution_count": null,
   "metadata": {},
   "outputs": [],
   "source": []
  },
  {
   "cell_type": "code",
   "execution_count": null,
   "metadata": {},
   "outputs": [],
   "source": []
  },
  {
   "cell_type": "code",
   "execution_count": null,
   "metadata": {},
   "outputs": [],
   "source": []
  },
  {
   "cell_type": "code",
   "execution_count": null,
   "metadata": {},
   "outputs": [],
   "source": []
  }
 ],
 "metadata": {
  "kernelspec": {
   "display_name": "SageMath 9.0",
   "language": "sage",
   "name": "sagemath"
  },
  "language_info": {
   "codemirror_mode": {
    "name": "ipython",
    "version": 3
   },
   "file_extension": ".py",
   "mimetype": "text/x-python",
   "name": "python",
   "nbconvert_exporter": "python",
   "pygments_lexer": "ipython3",
   "version": "3.7.3"
  }
 },
 "nbformat": 4,
 "nbformat_minor": 4
}
