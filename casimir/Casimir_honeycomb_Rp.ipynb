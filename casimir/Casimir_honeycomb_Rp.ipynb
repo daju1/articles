{
 "cells": [
  {
   "cell_type": "markdown",
   "metadata": {},
   "source": [
    "В данной работе я, развивая подход Казимира, показываю что по аналогии с обычным эффектом Казимира, когда на каждую из двух пластин действует приталкивающая сила Казимира как разность электромагнитных давлений квантовых колебаний вакуума нулевой температуры по разные стороны каждой из пластин, за счет того, что геометрия вакуумного резонатора во внутренней и во внешней области различна, можно попытаться создать разность электромагнитных давлений квантовых колебаний вакуума по разные стороны только лишь одной пластины за счет различия геометрии вакуумных резонаторов по обе ее стороны. Для этого на одной из поверхностей гладкой металлической пластины нужно вырастить наносоты."
   ]
  },
  {
   "cell_type": "markdown",
   "metadata": {},
   "source": [
    "https://www.dwc.knaw.nl/DL/publications/PU00018547.pdf\n",
    "\n",
    "Mathematics.\n",
    "\n",
    "# On the force to perfectly conducting honeycomb on a plate.\n",
    "\n",
    "By A. Ju. Drozdov\n",
    "\n",
    "(Feb 14. 2021. - Feb 09. 2022 - July 20 2022 - Sept 1 2022) "
   ]
  },
  {
   "cell_type": "markdown",
   "metadata": {},
   "source": [
    "Let us consider a cubic cavity of volume $L^3$ bounded by perfectly conducting walls and let a perfectly conducting square plate with side $L$ be\n",
    "placed in this cavity parallel to the $xy$ face and let us compare the\n",
    "situation in whieh this plate is at a very large, say $L/2$ distance a from the $xy$ face. \n",
    "\n",
    "One side of this perfectly conducting square plate is a pure plane and other is covered by perfectly conducting honeycomb.\n",
    "\n",
    "On both sided of the the plate\n",
    "expressions $\\frac{1}{2}\\sum\\,\\hbar\\omega$ where the summation extends over all possible\n",
    "resonance frequencies of the cavity $L/2\\times L\\times L$ (large cavity beetween pure plane and $xy$ face) and the cavity $L/2\\times a\\times a$ (small cavity, one honeycomb) are divergent and devoid of physical\n",
    "meaning but the difference between these sums on the opposite sides,\n",
    "$\\frac{1}{2\\,V_{I}}\\left(\\sum\\,\\,\\hbar\\omega\\right)_{I} - \\frac{1}{2\\,V_{II}}\\left(\\sum\\,\\,\\hbar\\omega\\right)_{II}$, will be shown to have a weIl defined value and this\n",
    "value will be interpreted as the interaction between the plate and the both\n",
    "$xy$ faces."
   ]
  },
  {
   "cell_type": "markdown",
   "metadata": {},
   "source": [
    "The possible vibrations of the cavities defined by "
   ]
  },
  {
   "cell_type": "markdown",
   "metadata": {},
   "source": [
    "$0<=x<=L$, $0<=y<=L$, $0<=z<=L/2$ (large cavity beetween pure plane and $xy$ face)"
   ]
  },
  {
   "cell_type": "markdown",
   "metadata": {},
   "source": [
    "and"
   ]
  },
  {
   "cell_type": "markdown",
   "metadata": {},
   "source": [
    "$0<=x<=a$, $0<=y<=a$, $0<=z<=L/2$ (small cavity, one honeycomb)"
   ]
  },
  {
   "cell_type": "markdown",
   "metadata": {},
   "source": [
    "have wave vectors"
   ]
  },
  {
   "cell_type": "markdown",
   "metadata": {},
   "source": [
    "$k_x = \\frac{\\pi}{L}\\,n_x$, $k_y = \\frac{\\pi}{L}\\,n_y$, $k_z = \\frac{\\pi}{L/2}\\,n_z$ (large cavity beetween pure plane and $xy$ face),"
   ]
  },
  {
   "cell_type": "markdown",
   "metadata": {},
   "source": [
    "and"
   ]
  },
  {
   "cell_type": "markdown",
   "metadata": {},
   "source": [
    "$k_x = \\frac{\\pi}{a}\\,n_x$, $k_y = \\frac{\\pi}{a}\\,n_y$, $k_z = \\frac{\\pi}{L/2}\\,n_z$ (small cavity, one honeycomb),\n",
    "\n",
    "where $n_x$. $n_y$, $n_z$:\n",
    "\n",
    "are positive integers;"
   ]
  },
  {
   "cell_type": "markdown",
   "metadata": {},
   "source": [
    "$k = \\sqrt{k_x^2+k_y^2+k_z^2} = \\sqrt{\\kappa^2+k_z^2}$. "
   ]
  },
  {
   "cell_type": "markdown",
   "metadata": {},
   "source": [
    "$E = \\frac{1}{2}\\sum\\,\\hbar\\omega = \\hbar\\,c\\frac{1}{2}\\sum\\limits_{n_x}^{}\\sum\\limits_{n_y}^{}\\sum\\limits_{n_z}^{}k$"
   ]
  },
  {
   "cell_type": "markdown",
   "metadata": {},
   "source": [
    "To every $k_x$, $k_y$, $k_z$ correspond two standing waves unless one of the $n_i$\n",
    "is zero, when there is only one."
   ]
  },
  {
   "cell_type": "markdown",
   "metadata": {},
   "source": [
    "In case of one honeycomb cavity for $k_z$ this is without importance since\n",
    "for very large $L/2$ we may regard $k_z$ as continuous variable. Thus we\n",
    "find "
   ]
  },
  {
   "cell_type": "markdown",
   "metadata": {},
   "source": [
    "$\\frac{1}{2}\\sum\\,\\hbar\\omega = \\hbar\\,c\\frac{1}{2}\\int\\limits_{0}^{\\infty}\\left[{\\sqrt{k_z^2}+2\\sum\\limits_{n_x=1}^{\\infty}\\sum\\limits_{n_y=1}^{\\infty}\\sqrt{n_x^2\\frac{\\pi^2}{a^2}+n_y^2\\frac{\\pi^2}{a^2}+k_z^2}}\\right]d{n_z}$  (small cavity, one honeycomb),"
   ]
  },
  {
   "cell_type": "markdown",
   "metadata": {},
   "source": [
    "$dn_z = \\frac{L/2}{\\pi}\\,dk_z$,"
   ]
  },
  {
   "cell_type": "markdown",
   "metadata": {},
   "source": [
    "Now we can find the specific energy density $E/V$, where $V = V_{small} = L/2 a^2$:"
   ]
  },
  {
   "cell_type": "markdown",
   "metadata": {},
   "source": [
    "$\\frac{1}{2\\,V}\\sum\\,\\hbar\\omega = \\frac{1}{a^2\\,L/2}\\hbar\\,c\\frac{1}{2}\\int\\limits_{0}^{\\infty}\\left[{\\sqrt{k_z^2}+2\\sum\\limits_{n_x=1}^{\\infty}\\sum\\limits_{n_y=1}^{\\infty}\\sqrt{n_x^2\\frac{\\pi^2}{a^2}+n_y^2\\frac{\\pi^2}{a^2}+k_z^2}}\\right]\\frac{L/2}{\\pi}\\,dk_z$  (small cavity, one honeycomb),"
   ]
  },
  {
   "cell_type": "markdown",
   "metadata": {},
   "source": [
    "$\\frac{1}{2\\,V}\\sum\\,\\hbar\\omega = \\frac{1}{a^2\\,\\pi}\\hbar\\,c\\int\\limits_{0}^{\\infty}\\left[{\\frac{1}{2}\\sqrt{k_z^2}+\\sum\\limits_{n_x=1}^{\\infty}\\sum\\limits_{n_y=1}^{\\infty}\\sqrt{n_x^2\\frac{\\pi^2}{a^2}+n_y^2\\frac{\\pi^2}{a^2}+k_z^2}}\\right]\\,dk_z$  (small cavity, one honeycomb),"
   ]
  },
  {
   "cell_type": "markdown",
   "metadata": {},
   "source": [
    "$\\frac{1}{2\\,V}\\sum\\,\\hbar\\omega = \\frac{1}{a^2\\,\\pi}\\hbar\\,c\\int\\limits_{0}^{\\infty}\\left[{\\sum\\limits_{n_x=(0)1}^{\\infty}\\sum\\limits_{n_y=(0)1}^{\\infty}\\sqrt{n_x^2\\frac{\\pi^2}{a^2}+n_y^2\\frac{\\pi^2}{a^2}+k_z^2}}\\right]\\,dk_z$  (small cavity, one honeycomb),"
   ]
  },
  {
   "cell_type": "markdown",
   "metadata": {},
   "source": [
    "where the notation $\\left(0\\right) 1$ is meant to indicate that the term with $n_x = 0$ and $n_y = 0$\n",
    "has to be multiplied by $\\frac{1}{2}$. "
   ]
  },
  {
   "cell_type": "markdown",
   "metadata": {},
   "source": [
    "$\\frac{1}{2\\,V}\\sum\\,\\hbar\\omega = \\frac{1}{a^2\\,\\pi}\\hbar\\,c\\sum\\limits_{n_x=(0)1}^{\\infty}\\sum\\limits_{n_y=(0)1}^{\\infty}\\left[\\int\\limits_{0}^{\\infty}\\sqrt{n_x^2\\frac{\\pi^2}{a^2}+n_y^2\\frac{\\pi^2}{a^2}+k_z^2}\\,dk_z\\right]$  (small cavity, one honeycomb),"
   ]
  },
  {
   "cell_type": "code",
   "execution_count": null,
   "metadata": {},
   "outputs": [],
   "source": []
  },
  {
   "cell_type": "markdown",
   "metadata": {},
   "source": [
    "And in case of large cavity for $k_x$, $k_y$ this is without importance since\n",
    "for very large $L$ we may regard $k_x$, $k_y$ as continuous variables. Thus we\n",
    "find "
   ]
  },
  {
   "cell_type": "markdown",
   "metadata": {},
   "source": [
    "$\\frac{1}{2}\\sum\\,\\hbar\\omega = \\hbar\\,c\\frac{1}{2}\\int\\limits_{0}^{\\infty}\\int\\limits_{0}^{\\infty}\\left[{\\sqrt{k_x^2+k_y^2}+2\\sum\\limits_{n_z=1}^{\\infty}\\sqrt{n_z^2\\frac{\\pi^2}{(L/2)^2}+k_x^2+k_y^2}}\\right]d{n_x}d{n_y}$ (large cavity beetween pure plane and $xy$ face),"
   ]
  },
  {
   "cell_type": "markdown",
   "metadata": {},
   "source": [
    "For very large $L/2$ also this last summation may\n",
    "be replaced by an integral and it is therefore easily seen that our interaction energy is given by "
   ]
  },
  {
   "cell_type": "markdown",
   "metadata": {},
   "source": [
    "$\\frac{1}{2}\\sum\\,\\hbar\\omega = \\hbar\\,c\\int\\limits_{0}^{\\infty}\\int\\limits_{0}^{\\infty}\\int\\limits_{0}^{\\infty}\\sqrt{k_z^2+k_x^2+k_y^2}\\,d{n_x}\\,d{n_y}\\,d{n_z}$ (large cavity beetween pure plane and $xy$ face),"
   ]
  },
  {
   "cell_type": "markdown",
   "metadata": {},
   "source": [
    "$dn_x = \\frac{L}{\\pi}\\,dk_x$, $dn_y = \\frac{L}{\\pi}\\,dk_y$, $dn_z = \\frac{L/2}{\\pi}\\,dk_z$,"
   ]
  },
  {
   "cell_type": "markdown",
   "metadata": {},
   "source": [
    "Now we can find the specific energy density $E/V$, where $V = V_{large} = L^3/2$ :"
   ]
  },
  {
   "cell_type": "markdown",
   "metadata": {},
   "source": [
    "$\\frac{1}{2\\,V}\\sum\\,\\hbar\\omega = \\frac{1}{L^3/2}\\hbar\\,c\\int\\limits_{0}^{\\infty}\\int\\limits_{0}^{\\infty}\\int\\limits_{0}^{\\infty}\\sqrt{k_z^2+k_x^2+k_y^2}\\,dn_x\\,dn_y\\,\\frac{L/2}{\\pi}\\,dk_z$ (large cavity beetween pure plane and $xy$ face),"
   ]
  },
  {
   "cell_type": "markdown",
   "metadata": {},
   "source": [
    "$\\frac{1}{2\\,V}\\sum\\,\\hbar\\omega = \\frac{1}{L^2\\,\\pi}\\hbar\\,c\\int\\limits_{0}^{\\infty}\\int\\limits_{0}^{\\infty}\\left[\\,\\int\\limits_{0}^{\\infty}\\sqrt{k_z^2+k_x^2+k_y^2}\\,dk_z\\right]\\,dn_x\\,dn_y$ (large cavity beetween pure plane and $xy$ face),"
   ]
  },
  {
   "cell_type": "code",
   "execution_count": null,
   "metadata": {},
   "outputs": [],
   "source": []
  },
  {
   "cell_type": "markdown",
   "metadata": {},
   "source": [
    "$\\frac{1}{2\\,V}\\sum\\,\\hbar\\omega = \\frac{1}{a^2\\,\\pi}\\hbar\\,c\\sum\\limits_{n_x=(0)1}^{\\infty}\\sum\\limits_{n_y=(0)1}^{\\infty}\\left[\\,\\int\\limits_{0}^{\\infty}\\sqrt{n_x^2\\frac{\\pi^2}{a^2}+n_y^2\\frac{\\pi^2}{a^2}+k_z^2}\\,dk_z\\right]$  (small cavity, one honeycomb),"
   ]
  },
  {
   "cell_type": "markdown",
   "metadata": {},
   "source": [
    "$\\frac{1}{2\\,V}\\sum\\,\\hbar\\omega = \\frac{1}{L^2\\,\\pi}\\hbar\\,c\\int\\limits_{0}^{\\infty}\\int\\limits_{0}^{\\infty}\\left[\\,\\int\\limits_{0}^{\\infty}\\sqrt{k_x^2+k_y^2+k_z^2}\\,dk_z\\right]\\,dn_x\\,dn_y$ (large cavity beetween pure plane and $xy$ face),"
   ]
  },
  {
   "cell_type": "markdown",
   "metadata": {},
   "source": [
    "$\\frac{1}{2\\,V}\\sum\\,\\hbar\\omega = \\frac{1}{L^2\\,\\pi}\\hbar\\,c\\int\\limits_{0}^{\\infty}\\int\\limits_{0}^{\\infty}\\left[\\,\\int\\limits_{0}^{\\infty}\\sqrt{k_x^2+k_y^2+k_z^2}\\,dk_z\\right]\\,\\left(\\frac{L}{\\pi}dk_x\\right)\\,\\left(\\frac{L}{\\pi}dk_y\\right)$ (large cavity beetween pure plane and $xy$ face),"
   ]
  },
  {
   "cell_type": "markdown",
   "metadata": {},
   "source": [
    "$\\frac{a^2}{2\\,V}\\sum\\,\\hbar\\omega = \\frac{1}{\\pi}\\hbar\\,c\\int\\limits_{0}^{\\infty}\\int\\limits_{0}^{\\infty}\\left[\\,\\int\\limits_{0}^{\\infty}\\sqrt{k_x^2+k_y^2+k_z^2}\\,dk_z\\right]\\,\\left(\\frac{a}{\\pi}dk_x\\right)\\,\\left(\\frac{a}{\\pi}dk_y\\right)$ (large cavity beetween pure plane and $xy$ face),"
   ]
  },
  {
   "cell_type": "markdown",
   "metadata": {},
   "source": [
    "$\\frac{1}{2\\,V}\\sum\\,\\hbar\\omega = \\frac{1}{a^2\\,\\pi}\\hbar\\,c\\int\\limits_{0}^{\\infty}\\int\\limits_{0}^{\\infty}\\left[\\,\\int\\limits_{0}^{\\infty}\\sqrt{k_x^2+k_y^2+k_z^2}\\,dk_z\\right]\\,\\left(\\frac{a}{\\pi}dk_x\\right)\\,\\left(\\frac{a}{\\pi}dk_y\\right)$ (large cavity beetween pure plane and $xy$ face),"
   ]
  },
  {
   "cell_type": "markdown",
   "metadata": {},
   "source": [
    "it is therefore easily seen that our interaction energy is given by "
   ]
  },
  {
   "cell_type": "markdown",
   "metadata": {},
   "source": [
    "$\\delta\\,\\frac{E}{V} = \\frac{1}{a^2\\,\\pi}\\hbar\\,c\\left\\{\\sum\\limits_{n_x=(0)1}^{\\infty}\\sum\\limits_{n_y=(0)1}^{\\infty}\\left[\\,\\int\\limits_{0}^{\\infty}\\sqrt{n_x^2\\frac{\\pi^2}{a^2}+n_y^2\\frac{\\pi^2}{a^2}+k_z^2}\\,dk_z\\right] - \\int\\limits_{0}^{\\infty}\\int\\limits_{0}^{\\infty}\\left[\\,\\int\\limits_{0}^{\\infty}\\sqrt{k_x^2+k_y^2+k_z^2}\\,dk_z\\right]\\,\\left(\\frac{a}{\\pi}dk_x\\right)\\,\\left(\\frac{a}{\\pi}dk_y\\right)\\right\\}$"
   ]
  },
  {
   "cell_type": "markdown",
   "metadata": {},
   "source": [
    "$\\delta\\,\\frac{E}{V} = \\frac{1}{a^2\\,\\pi}\\hbar\\,c\\left\\{\\sum\\limits_{n_x=(0)1}^{\\infty}\\sum\\limits_{n_y=(0)1}^{\\infty}\\left[\\,\\int\\limits_{0}^{\\infty}\\sqrt{n_x^2\\frac{\\pi^2}{a^2}+n_y^2\\frac{\\pi^2}{a^2}+k_z^2}\\,dk_z\\right] - \\int\\limits_{0}^{\\infty}\\int\\limits_{0}^{\\infty}\\left[\\,\\int\\limits_{0}^{\\infty}\\sqrt{k_x^2+k_y^2+k_z^2}\\,dk_z\\right]\\,dn_x\\,dn_y\\right\\}$"
   ]
  },
  {
   "cell_type": "code",
   "execution_count": null,
   "metadata": {},
   "outputs": [],
   "source": []
  },
  {
   "cell_type": "markdown",
   "metadata": {},
   "source": [
    "${\\left(\\frac{E}{V}\\right)_{small\\,cavity} = \\frac{1}{a^2}\\hbar \\, \\sum\\limits_{n_x=(0)1}^{\\infty}\\sum\\limits_{n_y=(0)1}^{\\infty}\\,\\int\\limits_{0}^{\\infty} {\\frac {dk_{z}}{\\pi}}\\omega _{n_x,n_y}.}$"
   ]
  },
  {
   "cell_type": "markdown",
   "metadata": {},
   "source": [
    "where $\\omega _{n_x,n_y} = c\\,\\sqrt{n_x^2\\frac{\\pi^2}{a^2}+n_y^2\\frac{\\pi^2}{a^2}+k_z^2}$"
   ]
  },
  {
   "cell_type": "markdown",
   "metadata": {},
   "source": [
    "This expression is clearly infinite, and to proceed with the calculation, it is convenient to introduce a regulator."
   ]
  },
  {
   "cell_type": "markdown",
   "metadata": {},
   "source": [
    "In order to obtain a finite result it is necessary to multiply the integrands\n",
    "by a function $f(k/k_m)$ which is unity for $k << k_m$ but tends to zero sufficiently rapidly for $(k/k_m)\\, \\rightarrow\\,\\infty$. where $k_m$ may be defined by $f(1) = \\frac{1}{2}$.\n",
    "The physical meaning is obvious: for very short waves (X~rays e.g.)\n",
    "our plate is hardly an obstacle at all and therefore the zero point energy\n",
    "of these waves will not be influenced by the position of this plate. "
   ]
  },
  {
   "cell_type": "markdown",
   "metadata": {},
   "source": [
    "The regulator will serve to make the expression finite, and in the end will be removed. The regulated version of the energy per unit-area of the plate is"
   ]
  },
  {
   "cell_type": "markdown",
   "metadata": {},
   "source": [
    "Introducing the variable $u^2 = a^2\\,k_z^2/\\pi^2$"
   ]
  },
  {
   "cell_type": "markdown",
   "metadata": {},
   "source": [
    "$du = a/\\pi\\,dk_z$"
   ]
  },
  {
   "cell_type": "markdown",
   "metadata": {},
   "source": [
    "\\begin{equation}\n",
    "\\delta\\,\\frac{E}{V} = \\frac{\\hbar\\,c\\,\\pi}{a^4}\\left\\{\n",
    "\\sum\\limits_{n_x=\\left(0\\right)\\,1}^{\\infty}\n",
    "\\sum\\limits_{n_y=\\left(0\\right)\\,1}^{\\infty}\n",
    "\\int\\limits_{0}^{\\infty}\n",
    "{\\sqrt{n_x^2 + n_y^2 + u^2}}\n",
    "f\\left(\\frac{\\pi\\sqrt{n_x^2 + n_y^2 + u^2}}{a\\,k_m}\\right)\n",
    "\\,d{u}\n",
    "-\n",
    "\\int\\limits_{0}^{\\infty}\n",
    "\\int\\limits_{0}^{\\infty}\n",
    "\\int\\limits_{0}^{\\infty}\n",
    "{\\sqrt{n_x^2 + n_y^2 + u^2}}\n",
    "f\\left(\\frac{\\pi\\sqrt{n_x^2 + n_y^2 + u^2}}{a\\,k_m}\\right)\n",
    "\\,d{u}\\,d{n_x}\\,d{n_y}\n",
    "\\right\\}\n",
    "\\end{equation}"
   ]
  },
  {
   "cell_type": "markdown",
   "metadata": {},
   "source": [
    "\\begin{equation}\n",
    "\\delta\\,\\frac{E}{V} = \\frac{\\hbar\\,c\\,\\pi}{a^4}\n",
    "\\int\\limits_{0}^{\\infty}\n",
    "\\left\\{\n",
    "\\sum\\limits_{n_x=\\left(0\\right)\\,1}^{\\infty}\n",
    "\\sum\\limits_{n_y=\\left(0\\right)\\,1}^{\\infty}\n",
    "{\\sqrt{n_x^2 + n_y^2 + u^2}}\n",
    "f\\left(\\frac{\\pi\\sqrt{n_x^2 + n_y^2 + u^2}}{a\\,k_m}\\right)\n",
    "-\n",
    "\\int\\limits_{0}^{\\infty}\n",
    "\\int\\limits_{0}^{\\infty}\n",
    "{\\sqrt{n_x^2 + n_y^2 + u^2}}\n",
    "f\\left(\\frac{\\pi\\sqrt{n_x^2 + n_y^2 + u^2}}{a\\,k_m}\\right)\n",
    "\\,d{n_x}\\,d{n_y}\n",
    "\\right\\}\n",
    "\\,d{u}\n",
    "\\end{equation}"
   ]
  },
  {
   "cell_type": "markdown",
   "metadata": {},
   "source": [
    "\\begin{equation}\n",
    "F\\left(u, n_x, n_y\\right) = \n",
    "\\sqrt{n_x^2 + n_y^2+u^2}\\,\n",
    "f\\left(\\frac{\\pi\\sqrt{n_x^2 + n_y^2+u^2}}{a\\,k_m}\\right)\n",
    "\\end{equation}"
   ]
  },
  {
   "cell_type": "markdown",
   "metadata": {},
   "source": [
    "\\begin{equation}\n",
    "\\delta\\,\\frac{E}{V} = \\frac{\\hbar\\,c\\,\\pi}{a^4}\n",
    "\\int\\limits_{0}^{\\infty}{\n",
    "\\left\\{\n",
    "\\sum\\limits_{n_x=\\left(0\\right)\\,1}^{\\infty}\n",
    "\\sum\\limits_{n_y=\\left(0\\right)\\,1}^{\\infty}\n",
    "F\\left(u, n_x, n_y\\right)\n",
    "-\n",
    "\\int\\limits_{0}^{\\infty}\n",
    "\\int\\limits_{0}^{\\infty}\n",
    "F\\left(u, n_x, n_y\\right)\\,d{n_x}\\,d{n_y}\n",
    "\\right\\}\n",
    "}\\,d{u}\n",
    "\\end{equation}"
   ]
  },
  {
   "cell_type": "markdown",
   "metadata": {},
   "source": [
    "\\begin{equation}\n",
    "\\delta\\,\\frac{E}{V} = \\frac{\\hbar\\,c\\,\\pi}{a^4}\n",
    "\\left\\{\n",
    "\\sum\\limits_{n_x=\\left(0\\right)\\,1}^{\\infty}\n",
    "\\sum\\limits_{n_y=\\left(0\\right)\\,1}^{\\infty}\n",
    "\\left(\\int\\limits_{0}^{\\infty}F\\left(u, n_x, n_y\\right)\\,d{u}\\right)\n",
    "-\n",
    "\\int\\limits_{0}^{\\infty}\n",
    "\\int\\limits_{0}^{\\infty}\n",
    "\\left(\\int\\limits_{0}^{\\infty}F\\left(u, n_x, n_y\\right)\\,d{u}\\right)\n",
    "\\,d{n_x}\\,d{n_y}\n",
    "\\right\\}\n",
    "\\end{equation}"
   ]
  },
  {
   "cell_type": "markdown",
   "metadata": {},
   "source": [
    "\\begin{equation}\n",
    "G\\left(n_x, n_y\\right) = \\left(\\int\\limits_{0}^{\\infty}F\\left(u, n_x, n_y\\right)\\,d{u}\\right)\n",
    "\\end{equation}"
   ]
  },
  {
   "cell_type": "markdown",
   "metadata": {},
   "source": [
    "\\begin{equation}\n",
    "\\delta\\,\\frac{E}{V} = \\frac{\\hbar\\,c\\,\\pi}{a^4}\n",
    "\\left\\{\n",
    "\\sum\\limits_{n_x=\\left(0\\right)\\,1}^{\\infty}\n",
    "\\sum\\limits_{n_y=\\left(0\\right)\\,1}^{\\infty}\n",
    "G\\left(n_x, n_y\\right)\n",
    "-\n",
    "\\int\\limits_{0}^{\\infty}\n",
    "\\int\\limits_{0}^{\\infty}\n",
    "G\\left(n_x, n_y\\right)\n",
    "\\,d{n_x}\\,d{n_y}\n",
    "\\right\\}\n",
    "\\end{equation}"
   ]
  },
  {
   "cell_type": "code",
   "execution_count": 1,
   "metadata": {},
   "outputs": [],
   "source": [
    "from IPython.display import display, Math, Latex\n",
    "\n",
    "def disp(ex):\n",
    "    display(Math(latex(ex)))\n",
    "\n",
    "def subs(ex, *argv):\n",
    "    if hasattr(ex, 'subs'):\n",
    "        return ex.subs(*argv)\n",
    "    return ex\n",
    "\n",
    "def e2n(ex):\n",
    "    if hasattr(ex, 'n'):\n",
    "        return ex.n()\n",
    "    return ex"
   ]
  },
  {
   "cell_type": "code",
   "execution_count": 2,
   "metadata": {},
   "outputs": [],
   "source": [
    "def num_int(f, a, b, v, logging=False, print_tolerance=False):\n",
    "    from scipy import integrate\n",
    "\n",
    "    try:\n",
    "        if logging:\n",
    "            try:\n",
    "                print (\"v = \", v, f(v).variables(), \"integrand = \", f(v))\n",
    "            except Exception as ex2:\n",
    "                print (\"Exception ex2 = \", ex2)\n",
    "            \n",
    "        integral = integrate.quad(f, a, b)\n",
    "\n",
    "        result = integral[0]\n",
    "        if (print_tolerance):\n",
    "            print(\"tolerance =\", integral[1])\n",
    "        return result\n",
    "\n",
    "    except Exception as ex:\n",
    "\n",
    "        if \"unable to simplify to float approximation\" == str(ex):\n",
    "            from sage.symbolic.integration.integral import definite_integral\n",
    "            return definite_integral(f(v), v, a, b, hold=True)\n",
    "\n",
    "        print (\"Exception ex = \", str(ex))\n",
    "        print (\"f = \", f)\n",
    "        try:\n",
    "            print (\"v = \", v, \"integrand = \", f(v))\n",
    "        except Exception as ex2:\n",
    "            print (\"Exception ex2 = \", ex2)\n",
    "\n",
    "        print (\"a, b = \", a, \",\", b)\n",
    "        try:\n",
    "            print (\"f(a) = \", f(a))\n",
    "        except:\n",
    "            pass\n",
    "        try:\n",
    "            print (\"f(b) = \", f(b))\n",
    "        except:\n",
    "            pass\n",
    "\n",
    "        import inspect\n",
    "        stack = inspect.stack()\n",
    "        for frame in stack:\n",
    "            func_name = frame[3]\n",
    "            print (\"func_name = \", func_name)\n",
    "\n",
    "        raise ex"
   ]
  },
  {
   "cell_type": "code",
   "execution_count": 3,
   "metadata": {},
   "outputs": [
    {
     "name": "stdout",
     "output_type": "stream",
     "text": [
      "[<function maxima_integrator at 0x7f490c2dfa30>, <function giac_integrator at 0x7f490c2dfc70>, <function sympy_integrator at 0x7f490c2dfac0>]\n",
      "[<function sympy_integrator at 0x7f490c2dfac0>]\n"
     ]
    }
   ],
   "source": [
    "from sage.symbolic.integration.integral import definite_integral, available_integrators\n",
    "if 'definite_integral_integrators' not in globals():\n",
    "    definite_integral_integrators = definite_integral.integrators\n",
    "print(definite_integral_integrators)\n",
    "\n",
    "# workaround for reducing calculation time: remove maxima and giac from integrators\n",
    "definite_integral.integrators = []\n",
    "definite_integral.integrators += [definite_integral_integrators[2]]\n",
    "print(definite_integral.integrators)"
   ]
  },
  {
   "cell_type": "code",
   "execution_count": null,
   "metadata": {},
   "outputs": [],
   "source": []
  },
  {
   "cell_type": "code",
   "execution_count": 4,
   "metadata": {},
   "outputs": [
    {
     "data": {
      "text/plain": [
       "{'maxima': <function maxima_integrator at 0x7f490c2dfa30>,\n",
       " 'sympy': <function sympy_integrator at 0x7f490c2dfac0>,\n",
       " 'mathematica_free': <function mma_free_integrator at 0x7f490c2dfb50>,\n",
       " 'fricas': <function fricas_integrator at 0x7f490c2dfbe0>,\n",
       " 'giac': <function giac_integrator at 0x7f490c2dfc70>,\n",
       " 'libgiac': <function libgiac_integrator at 0x7f490c2dfd00>}"
      ]
     },
     "execution_count": 4,
     "metadata": {},
     "output_type": "execute_result"
    }
   ],
   "source": [
    "available_integrators"
   ]
  },
  {
   "cell_type": "code",
   "execution_count": 5,
   "metadata": {},
   "outputs": [],
   "source": [
    "n_x = var(\"n_x\")\n",
    "assume(n_x, \"real\")\n",
    "assume(n_x > 0)\n",
    "n_y = var(\"n_y\")\n",
    "assume(n_y, \"real\")\n",
    "assume(n_y > 0)\n",
    "# n_z = var(\"n_z\")"
   ]
  },
  {
   "cell_type": "code",
   "execution_count": 6,
   "metadata": {},
   "outputs": [],
   "source": [
    "#u = a*k_z/(pi)\n",
    "u = var(\"u\")\n",
    "assume(u, \"real\")\n",
    "assume(u > 0)"
   ]
  },
  {
   "cell_type": "code",
   "execution_count": 7,
   "metadata": {},
   "outputs": [],
   "source": [
    "a = var(\"a\")\n",
    "assume(a, 'real')\n",
    "assume(a>0)"
   ]
  },
  {
   "cell_type": "code",
   "execution_count": 8,
   "metadata": {},
   "outputs": [],
   "source": [
    "k_m = var(\"k_m\")\n",
    "assume(k_m, 'real')\n",
    "assume(k_m > 0)"
   ]
  },
  {
   "cell_type": "code",
   "execution_count": 9,
   "metadata": {},
   "outputs": [],
   "source": [
    "f = function('f')(var(\"k_km\"))\n",
    "fn = lambda k_km : 1 / (1 + (k_km)^4)"
   ]
  },
  {
   "cell_type": "raw",
   "metadata": {},
   "source": [
    "a1, a2, a3, a4 = var(\"a1, a2, a3, a4\")\n",
    "fne = 1/(a1 + a2*exp(k_km^2))\n",
    "disp(fne)"
   ]
  },
  {
   "cell_type": "raw",
   "metadata": {},
   "source": [
    "fne_sol = solve([fne.subs(k_km = 0) == 1, fne.subs(k_km = 1) == 1/2], (a1,a2))\n",
    "fne = fne.subs(fne_sol).full_simplify()\n",
    "disp(fne)"
   ]
  },
  {
   "cell_type": "code",
   "execution_count": 10,
   "metadata": {},
   "outputs": [],
   "source": [
    "# exec(preparse(\"fn = lambda k_km : \" + str(fne)))"
   ]
  },
  {
   "cell_type": "markdown",
   "metadata": {},
   "source": [
    "$k_m$ may be defined by $f(1) = \\frac{1}{2}$."
   ]
  },
  {
   "cell_type": "code",
   "execution_count": 11,
   "metadata": {},
   "outputs": [
    {
     "data": {
      "text/plain": [
       "0.500000000000000"
      ]
     },
     "execution_count": 11,
     "metadata": {},
     "output_type": "execute_result"
    }
   ],
   "source": [
    "e2n(fn(1))"
   ]
  },
  {
   "cell_type": "markdown",
   "metadata": {},
   "source": [
    "which is unity for $k << k_m$ but tends to zero sufficiently rapidly for $(k/k_m)\\, \\rightarrow\\,\\infty$. "
   ]
  },
  {
   "cell_type": "code",
   "execution_count": 12,
   "metadata": {},
   "outputs": [
    {
     "data": {
      "text/plain": [
       "(1.00000000000000, 0)"
      ]
     },
     "execution_count": 12,
     "metadata": {},
     "output_type": "execute_result"
    }
   ],
   "source": [
    "e2n(fn(0)), limit(fn(k_km), k_km=Infinity)"
   ]
  },
  {
   "cell_type": "code",
   "execution_count": 13,
   "metadata": {},
   "outputs": [
    {
     "data": {
      "image/png": "[encoded data removed]",
      "text/plain": [
       "Graphics object consisting of 1 graphics primitive"
      ]
     },
     "execution_count": 13,
     "metadata": {},
     "output_type": "execute_result"
    }
   ],
   "source": [
    "plot(fn(x), (x, 0, 3))"
   ]
  },
  {
   "cell_type": "code",
   "execution_count": 14,
   "metadata": {},
   "outputs": [
    {
     "data": {
      "text/plain": [
       "1/4*sqrt(2)*arctan(1/2*sqrt(2)*(2*k_km + sqrt(2))) + 1/4*sqrt(2)*arctan(1/2*sqrt(2)*(2*k_km - sqrt(2))) + 1/8*sqrt(2)*log(k_km^2 + sqrt(2)*k_km + 1) - 1/8*sqrt(2)*log(k_km^2 - sqrt(2)*k_km + 1)"
      ]
     },
     "execution_count": 14,
     "metadata": {},
     "output_type": "execute_result"
    }
   ],
   "source": [
    "Jfn = integrate(fn(k_km), k_km)\n",
    "Jfn"
   ]
  },
  {
   "cell_type": "code",
   "execution_count": 15,
   "metadata": {},
   "outputs": [
    {
     "data": {
      "text/plain": [
       "1/4*sqrt(2)*pi"
      ]
     },
     "execution_count": 15,
     "metadata": {},
     "output_type": "execute_result"
    }
   ],
   "source": [
    "limit(Jfn,k_km = Infinity)"
   ]
  },
  {
   "cell_type": "code",
   "execution_count": 16,
   "metadata": {},
   "outputs": [
    {
     "data": {
      "image/png": "[encoded data removed]",
      "text/plain": [
       "Graphics object consisting of 1 graphics primitive"
      ]
     },
     "execution_count": 16,
     "metadata": {},
     "output_type": "execute_result"
    }
   ],
   "source": [
    "plot(Jfn, k_km, 0, 100)"
   ]
  },
  {
   "cell_type": "markdown",
   "metadata": {},
   "source": [
    "If $\\omega _{n_x,n_y} = c\\,\\sqrt{n_x^2\\frac{\\pi^2}{a^2}+n_y^2\\frac{\\pi^2}{a^2}+k_z^2}$\n",
    "\n",
    "and \n",
    "\n",
    "$k_z^2 = u^2 \\frac{\\pi^2}{a^2}$\n",
    "\n",
    "we have\n",
    "\n",
    "$\\omega _{n_x,n_y} = c \\, \\frac{\\pi}{a} \\sqrt{n_x^2+n_y^2+u^2}$\n",
    "\n",
    "so\n",
    "\n",
    "$f\\left(\\frac{\\pi\\sqrt{n_x^2 + n_y^2+u^2}}{a\\,k_m}\\right) = f\\left(\\frac{\\omega _{n_x,n_y}}{c\\,k_m}\\right)$\n",
    "\n",
    "and\n",
    "\n",
    "$\\omega_m = c\\,k_m$"
   ]
  },
  {
   "cell_type": "code",
   "execution_count": 17,
   "metadata": {},
   "outputs": [
    {
     "data": {
      "text/latex": [
       "$\\displaystyle \\frac{k}{\\frac{k^{4}}{k_{m}^{4}} + 1}$"
      ],
      "text/plain": [
       "<IPython.core.display.Math object>"
      ]
     },
     "metadata": {},
     "output_type": "display_data"
    }
   ],
   "source": [
    "k, n_m=var(\"k, n_m\")\n",
    "Fk = lambda k, k_m : k * fn(k_km=k/k_m)\n",
    "display(Math(latex(Fk(k, k_m))))"
   ]
  },
  {
   "cell_type": "code",
   "execution_count": 18,
   "metadata": {},
   "outputs": [
    {
     "data": {
      "text/latex": [
       "$\\displaystyle \\frac{1}{2} \\, k_{m}^{2} \\arctan\\left(\\frac{k^{2}}{k_{m}^{2}}\\right)$"
      ],
      "text/plain": [
       "<IPython.core.display.Math object>"
      ]
     },
     "metadata": {},
     "output_type": "display_data"
    }
   ],
   "source": [
    "exec(preparse(\"intn_Fk = lambda k, k_m : \" + str(integrate(Fk(k, k_m),k))))\n",
    "disp(intn_Fk (k, k_m))"
   ]
  },
  {
   "cell_type": "code",
   "execution_count": 19,
   "metadata": {},
   "outputs": [
    {
     "data": {
      "text/latex": [
       "$\\displaystyle \\frac{k}{\\frac{k^{4}}{k_{m}^{4}} + 1}$"
      ],
      "text/plain": [
       "<IPython.core.display.Math object>"
      ]
     },
     "metadata": {},
     "output_type": "display_data"
    }
   ],
   "source": [
    "disp(intn_Fk (k, k_m).diff(k))"
   ]
  },
  {
   "cell_type": "code",
   "execution_count": 20,
   "metadata": {},
   "outputs": [
    {
     "data": {
      "text/plain": [
       "0"
      ]
     },
     "execution_count": 20,
     "metadata": {},
     "output_type": "execute_result"
    }
   ],
   "source": [
    "limit(Fk(k, k_m), k=Infinity)"
   ]
  },
  {
   "cell_type": "code",
   "execution_count": 21,
   "metadata": {},
   "outputs": [
    {
     "data": {
      "text/plain": [
       "0"
      ]
     },
     "execution_count": 21,
     "metadata": {},
     "output_type": "execute_result"
    }
   ],
   "source": [
    "limit(integrate(Fk(k, k_m),k), k=0)"
   ]
  },
  {
   "cell_type": "code",
   "execution_count": 22,
   "metadata": {},
   "outputs": [
    {
     "data": {
      "text/plain": [
       "1/4*pi*k_m^2"
      ]
     },
     "execution_count": 22,
     "metadata": {},
     "output_type": "execute_result"
    }
   ],
   "source": [
    "limit(integrate(Fk(k, k_m),k), k=Infinity)"
   ]
  },
  {
   "cell_type": "code",
   "execution_count": 23,
   "metadata": {},
   "outputs": [
    {
     "data": {
      "image/png": "[encoded data removed]",
      "text/plain": [
       "Graphics object consisting of 1 graphics primitive"
      ]
     },
     "execution_count": 23,
     "metadata": {},
     "output_type": "execute_result"
    }
   ],
   "source": [
    "plot(integrate(Fk(k, k_m=10),k), k, 0, 1000)"
   ]
  },
  {
   "cell_type": "markdown",
   "metadata": {},
   "source": [
    "\\begin{equation}\n",
    "F\\left(u, n_x, n_y\\right) = \n",
    "\\sqrt{n_x^2 + n_y^2+u^2}\\,\n",
    "f\\left(\\frac{\\pi\\sqrt{n_x^2 + n_y^2+u^2}}{a\\,k_m}\\right)\n",
    "\\end{equation}"
   ]
  },
  {
   "cell_type": "markdown",
   "metadata": {},
   "source": [
    "\\begin{equation}\n",
    "G\\left(n_x, n_y\\right) = \\int\\limits_{0}^{\\infty}\\sqrt{n_x^2 + n_y^2+u^2}\\,\n",
    "f\\left(\\frac{\\pi\\sqrt{n_x^2 + n_y^2+u^2}}{a\\,k_m}\\right)\\,d{u}\n",
    "\\end{equation}"
   ]
  },
  {
   "cell_type": "code",
   "execution_count": 24,
   "metadata": {},
   "outputs": [
    {
     "data": {
      "text/latex": [
       "$\\displaystyle \\sqrt{n_{x}^{2} + n_{y}^{2} + u^{2}} f\\left(\\frac{\\pi \\sqrt{n_{x}^{2} + n_{y}^{2} + u^{2}}}{a k_{m}}\\right)$"
      ],
      "text/plain": [
       "<IPython.core.display.Math object>"
      ]
     },
     "metadata": {},
     "output_type": "display_data"
    },
    {
     "data": {
      "text/plain": [
       "sqrt(n_x^2 + n_y^2 + u^2)*f(pi*sqrt(n_x^2 + n_y^2 + u^2)/(a*k_m))"
      ]
     },
     "execution_count": 24,
     "metadata": {},
     "output_type": "execute_result"
    }
   ],
   "source": [
    "Fu = lambda u, n_x, n_y, a, k_m : sqrt(n_x^2 + n_y^2 + u^2)*f(k_km=pi*sqrt(n_x^2 + n_y^2 + u^2)/(a*k_m))\n",
    "display(Math(latex(Fu(u, n_x, n_y, a, k_m))))\n",
    "Fu(u, n_x, n_y, a, k_m)"
   ]
  },
  {
   "cell_type": "code",
   "execution_count": 25,
   "metadata": {},
   "outputs": [
    {
     "data": {
      "text/latex": [
       "$\\displaystyle \\frac{\\sqrt{n_{x}^{2} + n_{y}^{2} + u^{2}}}{\\frac{\\pi^{4} {\\left(n_{x}^{2} + n_{y}^{2} + u^{2}\\right)}^{2}}{a^{4} k_{m}^{4}} + 1}$"
      ],
      "text/plain": [
       "<IPython.core.display.Math object>"
      ]
     },
     "metadata": {},
     "output_type": "display_data"
    },
    {
     "data": {
      "text/plain": [
       "sqrt(n_x^2 + n_y^2 + u^2)/(pi^4*(n_x^2 + n_y^2 + u^2)^2/(a^4*k_m^4) + 1)"
      ]
     },
     "execution_count": 25,
     "metadata": {},
     "output_type": "execute_result"
    }
   ],
   "source": [
    "Fn = lambda u, n_x, n_y, a, k_m : sqrt(n_x^2 + n_y^2 + u^2)*fn(k_km=pi*sqrt(n_x^2 + n_y^2 + u^2)/(a*k_m))\n",
    "disp(Fn(u, n_x, n_y, a, k_m))\n",
    "Fn(u, n_x, n_y, a, k_m)"
   ]
  },
  {
   "cell_type": "code",
   "execution_count": 26,
   "metadata": {},
   "outputs": [
    {
     "data": {
      "text/latex": [
       "$\\displaystyle \\frac{\\sqrt{n_{\\mathit{xy}}^{2} + u^{2}}}{\\frac{\\pi^{4} {\\left(n_{\\mathit{xy}}^{2} + u^{2}\\right)}^{2}}{\\mathit{ak}_{m}^{4}} + 1}$"
      ],
      "text/plain": [
       "<IPython.core.display.Math object>"
      ]
     },
     "metadata": {},
     "output_type": "display_data"
    },
    {
     "data": {
      "text/plain": [
       "sqrt(n_xy^2 + u^2)/(pi^4*(n_xy^2 + u^2)^2/ak_m^4 + 1)"
      ]
     },
     "execution_count": 26,
     "metadata": {},
     "output_type": "execute_result"
    }
   ],
   "source": [
    "ak_m, n_xy = var(\"ak_m, n_xy\")\n",
    "assume(n_xy>0, ak_m > 1)\n",
    "\n",
    "Fnu = lambda u, n_xy, ak_m : sqrt(n_xy^2 + u^2)*fn(k_km=pi*sqrt(n_xy^2 + u^2)/(ak_m))\n",
    "disp(Fnu(u, n_xy, ak_m))\n",
    "Fnu(u, n_xy, ak_m)"
   ]
  },
  {
   "cell_type": "code",
   "execution_count": null,
   "metadata": {},
   "outputs": [],
   "source": []
  },
  {
   "cell_type": "markdown",
   "metadata": {},
   "source": [
    "$n_{xy} = \\sqrt{n_x^2 + n_y^2}$\n",
    "\n",
    "$n = \\sqrt{n_x^2 + n_y^2 + u^2} = \\sqrt{n_{xy}^2 + u^2}$\n",
    "\n",
    "$u = \\sqrt{n^2 - n_x^2 - n_y^2} = \\sqrt{n^2 - n_{xy}^2}$\n",
    "\n",
    "$\\frac{du}{dn} = \\frac{n}{\\sqrt{n^{2} - \\mathit{n_{xy}}^{2}}}$\n",
    "\n",
    "$d{u}= \\frac{n\\,d{n}}{\\sqrt{n^{2} - \\mathit{n_{xy}}^{2}}}$"
   ]
  },
  {
   "cell_type": "markdown",
   "metadata": {},
   "source": [
    "\\begin{equation}\n",
    "G\\left(n_x, n_y\\right) = \\int\\limits_{\\sqrt{n_x^2 + n_y^2}}^{\\infty}\\sqrt{n_x^2 + n_y^2+u^2}\\,\n",
    "f\\left(\\frac{\\pi\\sqrt{n_x^2 + n_y^2+u^2}}{a\\,k_m}\\right)\\,dn{\\frac{n}{\\sqrt{n^{2} - n_{x}^{2} - n_{y}^{2}}}}\n",
    "\\end{equation}"
   ]
  },
  {
   "cell_type": "markdown",
   "metadata": {},
   "source": [
    "\\begin{equation}\n",
    "G\\left(n_x, n_y\\right) = \\int\\limits_{n_{xy}}^{\\infty}n\\,\n",
    "f\\left(\\frac{\\pi\\,n}{a\\,k_m}\\right)\\,dn{\\frac{n}{\\sqrt{n^{2} - n_{xy}^{2}}}}\n",
    "\\end{equation}"
   ]
  },
  {
   "cell_type": "code",
   "execution_count": null,
   "metadata": {},
   "outputs": [],
   "source": []
  },
  {
   "cell_type": "code",
   "execution_count": 27,
   "metadata": {},
   "outputs": [
    {
     "data": {
      "text/latex": [
       "$\\displaystyle \\frac{n^{2}}{{\\left(\\frac{\\pi^{4} n^{4}}{\\mathit{ak}_{m}^{4}} + 1\\right)} \\sqrt{n^{2} - n_{\\mathit{xy}}^{2}}}$"
      ],
      "text/plain": [
       "<IPython.core.display.Math object>"
      ]
     },
     "metadata": {},
     "output_type": "display_data"
    }
   ],
   "source": [
    "ak_m, n = var(\"ak_m, n\")\n",
    "assume(n > 0, ak_m > 1)\n",
    "\n",
    "Fnn = lambda n, n_xy, ak_m : n^2*fn(k_km=pi*n/(ak_m))/sqrt(n^2-n_xy^2)\n",
    "disp(Fnn(n, n_xy, ak_m))"
   ]
  },
  {
   "cell_type": "code",
   "execution_count": 28,
   "metadata": {},
   "outputs": [],
   "source": [
    "#disp(integrate(Fnn(n, n_xy, ak_m), n))"
   ]
  },
  {
   "cell_type": "code",
   "execution_count": 29,
   "metadata": {},
   "outputs": [],
   "source": [
    "n_a = n_xy\n",
    "n_b = Infinity"
   ]
  },
  {
   "cell_type": "markdown",
   "metadata": {},
   "source": [
    "Lets use Abel substitution:\n",
    "\n",
    "$$t = \\left(\\sqrt{(n^2-n_{xy}^2)}\\right)'$$"
   ]
  },
  {
   "cell_type": "code",
   "execution_count": 30,
   "metadata": {},
   "outputs": [
    {
     "data": {
      "text/latex": [
       "$\\displaystyle t = \\frac{n}{\\sqrt{n^{2} - n_{\\mathit{xy}}^{2}}}$"
      ],
      "text/plain": [
       "<IPython.core.display.Math object>"
      ]
     },
     "metadata": {},
     "output_type": "display_data"
    }
   ],
   "source": [
    "t = var(\"t\")\n",
    "exec(preparse(\"abel_subs_t = t == \" + str(sqrt(n^2-n_xy^2).diff(n))))\n",
    "disp(abel_subs_t)"
   ]
  },
  {
   "cell_type": "code",
   "execution_count": 31,
   "metadata": {},
   "outputs": [
    {
     "data": {
      "text/plain": [
       "limit(n/sqrt(n^2 - n_xy^2), n, n_xy)"
      ]
     },
     "execution_count": 31,
     "metadata": {},
     "output_type": "execute_result"
    }
   ],
   "source": [
    "t_a = limit(abel_subs_t.rhs(), n = n_a)\n",
    "t_a"
   ]
  },
  {
   "cell_type": "code",
   "execution_count": 32,
   "metadata": {},
   "outputs": [
    {
     "data": {
      "image/png": "[encoded data removed]",
      "text/plain": [
       "Graphics object consisting of 1 graphics primitive"
      ]
     },
     "execution_count": 32,
     "metadata": {},
     "output_type": "execute_result"
    }
   ],
   "source": [
    "plot(abel_subs_t.rhs().subs(n_xy = 2), n, 2.01, 3)"
   ]
  },
  {
   "cell_type": "code",
   "execution_count": 33,
   "metadata": {},
   "outputs": [],
   "source": [
    "t_a = +Infinity"
   ]
  },
  {
   "cell_type": "code",
   "execution_count": 34,
   "metadata": {},
   "outputs": [
    {
     "data": {
      "text/plain": [
       "1"
      ]
     },
     "execution_count": 34,
     "metadata": {},
     "output_type": "execute_result"
    }
   ],
   "source": [
    "t_b = limit(abel_subs_t.rhs(), n = n_b)\n",
    "t_b"
   ]
  },
  {
   "cell_type": "code",
   "execution_count": 35,
   "metadata": {},
   "outputs": [
    {
     "data": {
      "text/latex": [
       "$\\displaystyle n = \\sqrt{n^{2} - n_{\\mathit{xy}}^{2}} t$"
      ],
      "text/plain": [
       "<IPython.core.display.Math object>"
      ]
     },
     "metadata": {},
     "output_type": "display_data"
    },
    {
     "data": {
      "text/latex": [
       "$\\displaystyle n^{2} = {\\left(n^{2} - n_{\\mathit{xy}}^{2}\\right)} t^{2}$"
      ],
      "text/plain": [
       "<IPython.core.display.Math object>"
      ]
     },
     "metadata": {},
     "output_type": "display_data"
    },
    {
     "data": {
      "text/latex": [
       "$\\displaystyle n^{2} = \\frac{n_{\\mathit{xy}}^{2} t^{2}}{t^{2} - 1}$"
      ],
      "text/plain": [
       "<IPython.core.display.Math object>"
      ]
     },
     "metadata": {},
     "output_type": "display_data"
    }
   ],
   "source": [
    "abel_subs_n = abel_subs_t.solve(n)[0]\n",
    "disp(abel_subs_n)\n",
    "abel_subs_n2 = abel_subs_n.lhs()^2 == abel_subs_n.rhs()^2\n",
    "disp(abel_subs_n2)\n",
    "\n",
    "abel_subs_n2_solve_n2 = abel_subs_n2.solve(n^2)[0]\n",
    "disp(abel_subs_n2_solve_n2)"
   ]
  },
  {
   "cell_type": "code",
   "execution_count": 36,
   "metadata": {},
   "outputs": [
    {
     "data": {
      "text/latex": [
       "$\\displaystyle n = n_{\\mathit{xy}} \\sqrt{\\frac{t^{2}}{t^{2} - 1}}$"
      ],
      "text/plain": [
       "<IPython.core.display.Math object>"
      ]
     },
     "metadata": {},
     "output_type": "display_data"
    }
   ],
   "source": [
    "abel_subs_n2_solve_n1 = (abel_subs_n2_solve_n2.lhs()^(1/2)) == abel_subs_n2_solve_n2.rhs()^(1/2)\n",
    "disp(abel_subs_n2_solve_n1)"
   ]
  },
  {
   "cell_type": "code",
   "execution_count": 37,
   "metadata": {},
   "outputs": [
    {
     "data": {
      "text/latex": [
       "$\\displaystyle n^{4} = \\frac{n_{\\mathit{xy}}^{4} t^{4}}{{\\left(t^{2} - 1\\right)}^{2}}$"
      ],
      "text/plain": [
       "<IPython.core.display.Math object>"
      ]
     },
     "metadata": {},
     "output_type": "display_data"
    }
   ],
   "source": [
    "abel_subs_n2_solve_n4 = abel_subs_n2_solve_n2.lhs()^2 == abel_subs_n2_solve_n2.rhs()^2\n",
    "disp(abel_subs_n2_solve_n4)"
   ]
  },
  {
   "cell_type": "code",
   "execution_count": 38,
   "metadata": {},
   "outputs": [
    {
     "data": {
      "text/latex": [
       "$\\displaystyle -\\frac{n^{2}}{{\\left(n^{2} - n_{\\mathit{xy}}^{2}\\right)}^{\\frac{3}{2}}} + \\frac{1}{\\sqrt{n^{2} - n_{\\mathit{xy}}^{2}}}$"
      ],
      "text/plain": [
       "<IPython.core.display.Math object>"
      ]
     },
     "metadata": {},
     "output_type": "display_data"
    }
   ],
   "source": [
    "dtdn = abel_subs_t.rhs().diff(n)\n",
    "disp(dtdn)"
   ]
  },
  {
   "cell_type": "code",
   "execution_count": 39,
   "metadata": {},
   "outputs": [
    {
     "data": {
      "text/latex": [
       "$\\displaystyle -\\frac{n^{4} - 2 \\, n^{2} n_{\\mathit{xy}}^{2} + n_{\\mathit{xy}}^{4}}{\\sqrt{n^{2} - n_{\\mathit{xy}}^{2}} n_{\\mathit{xy}}^{2}}$"
      ],
      "text/plain": [
       "<IPython.core.display.Math object>"
      ]
     },
     "metadata": {},
     "output_type": "display_data"
    }
   ],
   "source": [
    "dndt = (1/dtdn).full_simplify()\n",
    "disp(dndt)"
   ]
  },
  {
   "cell_type": "code",
   "execution_count": 40,
   "metadata": {},
   "outputs": [
    {
     "data": {
      "text/latex": [
       "$\\displaystyle -\\frac{{\\left(n^{4} - 2 \\, n^{2} n_{\\mathit{xy}}^{2} + n_{\\mathit{xy}}^{4}\\right)} n^{2}}{{\\left(\\frac{\\pi^{4} n^{4}}{\\mathit{ak}_{m}^{4}} + 1\\right)} {\\left(n^{2} - n_{\\mathit{xy}}^{2}\\right)} n_{\\mathit{xy}}^{2}}$"
      ],
      "text/plain": [
       "<IPython.core.display.Math object>"
      ]
     },
     "metadata": {},
     "output_type": "display_data"
    },
    {
     "data": {
      "text/latex": [
       "$\\displaystyle -\\frac{{\\left(\\frac{n_{\\mathit{xy}}^{4} t^{4}}{{\\left(t^{2} - 1\\right)}^{2}} - \\frac{2 \\, n_{\\mathit{xy}}^{4} t^{2}}{t^{2} - 1} + n_{\\mathit{xy}}^{4}\\right)} t^{2}}{{\\left(\\frac{\\pi^{4} n_{\\mathit{xy}}^{4} t^{4}}{{\\left(t^{2} - 1\\right)}^{2} \\mathit{ak}_{m}^{4}} + 1\\right)} {\\left(\\frac{n_{\\mathit{xy}}^{2} t^{2}}{t^{2} - 1} - n_{\\mathit{xy}}^{2}\\right)} {\\left(t^{2} - 1\\right)}}$"
      ],
      "text/plain": [
       "<IPython.core.display.Math object>"
      ]
     },
     "metadata": {},
     "output_type": "display_data"
    },
    {
     "data": {
      "text/latex": [
       "$\\displaystyle \\frac{\\mathit{ak}_{m}^{4} n_{\\mathit{xy}}^{2} t^{2}}{2 \\, \\mathit{ak}_{m}^{4} t^{2} - {\\left(\\pi^{4} n_{\\mathit{xy}}^{4} + \\mathit{ak}_{m}^{4}\\right)} t^{4} - \\mathit{ak}_{m}^{4}}$"
      ],
      "text/plain": [
       "<IPython.core.display.Math object>"
      ]
     },
     "metadata": {},
     "output_type": "display_data"
    }
   ],
   "source": [
    "integrand_tn = Fnn(n, n_xy, ak_m)*dndt\n",
    "disp(integrand_tn)\n",
    "\n",
    "integrand_t = integrand_tn.subs(abel_subs_n2_solve_n2).subs(abel_subs_n2_solve_n4)\n",
    "disp(integrand_t)\n",
    "\n",
    "integrand_t = integrand_t.full_simplify()\n",
    "disp(integrand_t)\n",
    "\n"
   ]
  },
  {
   "cell_type": "code",
   "execution_count": 41,
   "metadata": {},
   "outputs": [],
   "source": [
    "# disp(integrand_t.integrate(t))"
   ]
  },
  {
   "cell_type": "code",
   "execution_count": 42,
   "metadata": {},
   "outputs": [
    {
     "data": {
      "text/latex": [
       "$\\displaystyle -\\mathit{ak}_{m}^{4} n_{\\mathit{xy}}^{2} t^{2}$"
      ],
      "text/plain": [
       "<IPython.core.display.Math object>"
      ]
     },
     "metadata": {},
     "output_type": "display_data"
    }
   ],
   "source": [
    "integrand_t_num = integrand_t.numerator()\n",
    "disp(integrand_t_num)"
   ]
  },
  {
   "cell_type": "code",
   "execution_count": 43,
   "metadata": {},
   "outputs": [
    {
     "data": {
      "text/latex": [
       "$\\displaystyle -2 \\, \\mathit{ak}_{m}^{4} t^{2} + {\\left(\\pi^{4} n_{\\mathit{xy}}^{4} + \\mathit{ak}_{m}^{4}\\right)} t^{4} + \\mathit{ak}_{m}^{4}$"
      ],
      "text/plain": [
       "<IPython.core.display.Math object>"
      ]
     },
     "metadata": {},
     "output_type": "display_data"
    }
   ],
   "source": [
    "integrand_t_den = integrand_t.denominator().collect(t^4)\n",
    "disp(integrand_t_den)"
   ]
  },
  {
   "cell_type": "code",
   "execution_count": 44,
   "metadata": {},
   "outputs": [
    {
     "data": {
      "text/latex": [
       "$\\displaystyle \\pi^{4} n_{\\mathit{xy}}^{4} + \\mathit{ak}_{m}^{4}$"
      ],
      "text/plain": [
       "<IPython.core.display.Math object>"
      ]
     },
     "metadata": {},
     "output_type": "display_data"
    }
   ],
   "source": [
    "integrand_t_den_coef_t4 = integrand_t_den.coefficient(t,4)\n",
    "disp(integrand_t_den_coef_t4)"
   ]
  },
  {
   "cell_type": "code",
   "execution_count": 45,
   "metadata": {},
   "outputs": [
    {
     "data": {
      "text/latex": [
       "$\\displaystyle -\\frac{\\mathit{ak}_{m}^{4} n_{\\mathit{xy}}^{2} t^{2}}{\\pi^{4} n_{\\mathit{xy}}^{4} + \\mathit{ak}_{m}^{4}}$"
      ],
      "text/plain": [
       "<IPython.core.display.Math object>"
      ]
     },
     "metadata": {},
     "output_type": "display_data"
    }
   ],
   "source": [
    "integrand_t_num2 = integrand_t_num / integrand_t_den_coef_t4\n",
    "disp(integrand_t_num2)"
   ]
  },
  {
   "cell_type": "code",
   "execution_count": 46,
   "metadata": {},
   "outputs": [
    {
     "data": {
      "text/latex": [
       "$\\displaystyle -\\frac{2 \\, \\mathit{ak}_{m}^{4} t^{2}}{\\pi^{4} n_{\\mathit{xy}}^{4} + \\mathit{ak}_{m}^{4}} + {\\left(\\frac{\\pi^{4} n_{\\mathit{xy}}^{4}}{\\pi^{4} n_{\\mathit{xy}}^{4} + \\mathit{ak}_{m}^{4}} + \\frac{\\mathit{ak}_{m}^{4}}{\\pi^{4} n_{\\mathit{xy}}^{4} + \\mathit{ak}_{m}^{4}}\\right)} t^{4} + \\frac{\\mathit{ak}_{m}^{4}}{\\pi^{4} n_{\\mathit{xy}}^{4} + \\mathit{ak}_{m}^{4}}$"
      ],
      "text/plain": [
       "<IPython.core.display.Math object>"
      ]
     },
     "metadata": {},
     "output_type": "display_data"
    }
   ],
   "source": [
    "integrand_t_den2 = (integrand_t_den/integrand_t_den_coef_t4).expand().collect(t^4)\n",
    "disp(integrand_t_den2)"
   ]
  },
  {
   "cell_type": "code",
   "execution_count": 47,
   "metadata": {},
   "outputs": [
    {
     "data": {
      "text/latex": [
       "$\\displaystyle -\\frac{2 \\, \\mathit{ak}_{m}^{4} t^{2}}{\\pi^{4} n_{\\mathit{xy}}^{4} + \\mathit{ak}_{m}^{4}} + t^{4} + \\frac{\\mathit{ak}_{m}^{4}}{\\pi^{4} n_{\\mathit{xy}}^{4} + \\mathit{ak}_{m}^{4}}$"
      ],
      "text/plain": [
       "<IPython.core.display.Math object>"
      ]
     },
     "metadata": {},
     "output_type": "display_data"
    }
   ],
   "source": [
    "integrand_t_den_2 = 0\n",
    "for c, pw in integrand_t_den2.coefficients(t):\n",
    "    integrand_t_den_2 += c.full_simplify() * t^pw\n",
    "disp(integrand_t_den_2)"
   ]
  },
  {
   "cell_type": "code",
   "execution_count": 48,
   "metadata": {},
   "outputs": [
    {
     "data": {
      "text/latex": [
       "$\\displaystyle -{\\left(\\alpha_{1} t + t^{2} + \\beta_{1}\\right)} {\\left(\\alpha_{1} t - t^{2} - \\beta_{1}\\right)}$"
      ],
      "text/plain": [
       "<IPython.core.display.Math object>"
      ]
     },
     "metadata": {},
     "output_type": "display_data"
    },
    {
     "data": {
      "text/latex": [
       "$\\displaystyle t^{4} - {\\left(\\alpha_{1}^{2} - 2 \\, \\beta_{1}\\right)} t^{2} + \\beta_{1}^{2}$"
      ],
      "text/plain": [
       "<IPython.core.display.Math object>"
      ]
     },
     "metadata": {},
     "output_type": "display_data"
    }
   ],
   "source": [
    "alpha_1, beta_1 = var(\"alpha_1, beta_1\")\n",
    "integrand_t_den3 = (t^2+alpha_1*t+beta_1)*(t^2-alpha_1*t+beta_1)\n",
    "disp(integrand_t_den3)\n",
    "\n",
    "integrand_t_den_3 = integrand_t_den3.expand().collect(t^3).collect(t^2).collect(t)\n",
    "disp(integrand_t_den_3)"
   ]
  },
  {
   "cell_type": "code",
   "execution_count": 49,
   "metadata": {},
   "outputs": [
    {
     "data": {
      "text/latex": [
       "$\\displaystyle -\\frac{2 \\, \\mathit{ak}_{m}^{4} t^{2}}{\\pi^{4} n_{\\mathit{xy}}^{4} + \\mathit{ak}_{m}^{4}} + t^{4} + \\frac{\\mathit{ak}_{m}^{4}}{\\pi^{4} n_{\\mathit{xy}}^{4} + \\mathit{ak}_{m}^{4}} = t^{4} - {\\left(\\alpha_{1}^{2} - 2 \\, \\beta_{1}\\right)} t^{2} + \\beta_{1}^{2}$"
      ],
      "text/plain": [
       "<IPython.core.display.Math object>"
      ]
     },
     "metadata": {},
     "output_type": "display_data"
    },
    {
     "data": {
      "text/latex": [
       "$\\displaystyle \\frac{\\mathit{ak}_{m}^{4}}{\\pi^{4} n_{\\mathit{xy}}^{4} + \\mathit{ak}_{m}^{4}} = \\beta_{1}^{2}$"
      ],
      "text/plain": [
       "<IPython.core.display.Math object>"
      ]
     },
     "metadata": {},
     "output_type": "display_data"
    },
    {
     "data": {
      "text/latex": [
       "$\\displaystyle \\left[\\beta_{1} = -\\frac{\\mathit{ak}_{m}^{2}}{\\sqrt{\\pi^{4} n_{\\mathit{xy}}^{4} + \\mathit{ak}_{m}^{4}}}, \\beta_{1} = \\frac{\\mathit{ak}_{m}^{2}}{\\sqrt{\\pi^{4} n_{\\mathit{xy}}^{4} + \\mathit{ak}_{m}^{4}}}\\right]$"
      ],
      "text/plain": [
       "<IPython.core.display.Math object>"
      ]
     },
     "metadata": {},
     "output_type": "display_data"
    },
    {
     "data": {
      "text/latex": [
       "$\\displaystyle -\\frac{2 \\, \\mathit{ak}_{m}^{4}}{\\pi^{4} n_{\\mathit{xy}}^{4} + \\mathit{ak}_{m}^{4}} = -\\alpha_{1}^{2} + 2 \\, \\beta_{1}$"
      ],
      "text/plain": [
       "<IPython.core.display.Math object>"
      ]
     },
     "metadata": {},
     "output_type": "display_data"
    },
    {
     "data": {
      "text/latex": [
       "$\\displaystyle -\\frac{2 \\, \\mathit{ak}_{m}^{4}}{\\pi^{4} n_{\\mathit{xy}}^{4} + \\mathit{ak}_{m}^{4}} = -\\alpha_{1}^{2} + \\frac{2 \\, \\mathit{ak}_{m}^{2}}{\\sqrt{\\pi^{4} n_{\\mathit{xy}}^{4} + \\mathit{ak}_{m}^{4}}}$"
      ],
      "text/plain": [
       "<IPython.core.display.Math object>"
      ]
     },
     "metadata": {},
     "output_type": "display_data"
    },
    {
     "data": {
      "text/latex": [
       "$\\displaystyle \\left[\\alpha_{1} = -\\sqrt{\\frac{2 \\, \\pi^{4} n_{\\mathit{xy}}^{4}}{{\\left(\\pi^{4} n_{\\mathit{xy}}^{4} + \\mathit{ak}_{m}^{4}\\right)}^{\\frac{3}{2}}} + \\frac{2 \\, \\mathit{ak}_{m}^{4}}{{\\left(\\pi^{4} n_{\\mathit{xy}}^{4} + \\mathit{ak}_{m}^{4}\\right)}^{\\frac{3}{2}}} + \\frac{2 \\, \\mathit{ak}_{m}^{2}}{\\pi^{4} n_{\\mathit{xy}}^{4} + \\mathit{ak}_{m}^{4}}} \\mathit{ak}_{m}, \\alpha_{1} = \\sqrt{\\frac{2 \\, \\pi^{4} n_{\\mathit{xy}}^{4}}{{\\left(\\pi^{4} n_{\\mathit{xy}}^{4} + \\mathit{ak}_{m}^{4}\\right)}^{\\frac{3}{2}}} + \\frac{2 \\, \\mathit{ak}_{m}^{4}}{{\\left(\\pi^{4} n_{\\mathit{xy}}^{4} + \\mathit{ak}_{m}^{4}\\right)}^{\\frac{3}{2}}} + \\frac{2 \\, \\mathit{ak}_{m}^{2}}{\\pi^{4} n_{\\mathit{xy}}^{4} + \\mathit{ak}_{m}^{4}}} \\mathit{ak}_{m}\\right]$"
      ],
      "text/plain": [
       "<IPython.core.display.Math object>"
      ]
     },
     "metadata": {},
     "output_type": "display_data"
    },
    {
     "data": {
      "text/latex": [
       "$\\displaystyle \\left[\\beta_{1} = \\frac{\\mathit{ak}_{m}^{2}}{\\sqrt{\\pi^{4} n_{\\mathit{xy}}^{4} + \\mathit{ak}_{m}^{4}}}, \\alpha_{1} = \\sqrt{\\frac{2 \\, \\pi^{4} n_{\\mathit{xy}}^{4}}{{\\left(\\pi^{4} n_{\\mathit{xy}}^{4} + \\mathit{ak}_{m}^{4}\\right)}^{\\frac{3}{2}}} + \\frac{2 \\, \\mathit{ak}_{m}^{4}}{{\\left(\\pi^{4} n_{\\mathit{xy}}^{4} + \\mathit{ak}_{m}^{4}\\right)}^{\\frac{3}{2}}} + \\frac{2 \\, \\mathit{ak}_{m}^{2}}{\\pi^{4} n_{\\mathit{xy}}^{4} + \\mathit{ak}_{m}^{4}}} \\mathit{ak}_{m}\\right]$"
      ],
      "text/plain": [
       "<IPython.core.display.Math object>"
      ]
     },
     "metadata": {},
     "output_type": "display_data"
    }
   ],
   "source": [
    "eq_integrand_t_den = integrand_t_den_2 == integrand_t_den_3\n",
    "disp(eq_integrand_t_den)\n",
    "\n",
    "eq_t0 = eq_integrand_t_den.lhs().coefficient(t,0) == eq_integrand_t_den.rhs().coefficient(t,0)\n",
    "disp(eq_t0)\n",
    "\n",
    "sol_beta1 = solve(eq_t0, beta_1)\n",
    "disp(sol_beta1)\n",
    "\n",
    "if 2 == len(sol_beta1):\n",
    "    sol_beta1 = [sol_beta1[1]]\n",
    "\n",
    "eq_t2 = eq_integrand_t_den.lhs().coefficient(t,2) == eq_integrand_t_den.rhs().coefficient(t,2)\n",
    "disp(eq_t2)\n",
    "\n",
    "eq_t2_sub = eq_t2.subs(sol_beta1)\n",
    "disp(eq_t2_sub)\n",
    "\n",
    "sol_alpha1 = solve(eq_t2_sub, alpha_1)\n",
    "disp(sol_alpha1)\n",
    "\n",
    "alpha1_beta1_subs = sol_beta1 + [sol_alpha1[1]]\n",
    "disp(alpha1_beta1_subs)"
   ]
  },
  {
   "cell_type": "code",
   "execution_count": 50,
   "metadata": {},
   "outputs": [
    {
     "data": {
      "text/latex": [
       "$\\displaystyle \\frac{\\mathit{ak}_{m}^{4} n_{\\mathit{xy}}^{2} t^{2}}{{\\left(\\pi^{4} n_{\\mathit{xy}}^{4} + \\mathit{ak}_{m}^{4}\\right)} {\\left(\\alpha_{1} t + t^{2} + \\beta_{1}\\right)} {\\left(\\alpha_{1} t - t^{2} - \\beta_{1}\\right)}}$"
      ],
      "text/plain": [
       "<IPython.core.display.Math object>"
      ]
     },
     "metadata": {},
     "output_type": "display_data"
    }
   ],
   "source": [
    "integrand_t_subs = integrand_t_num2 / integrand_t_den3\n",
    "disp(integrand_t_subs)"
   ]
  },
  {
   "cell_type": "code",
   "execution_count": 51,
   "metadata": {},
   "outputs": [],
   "source": [
    "D = alpha_1^2 - 4*beta_1 "
   ]
  },
  {
   "cell_type": "code",
   "execution_count": 52,
   "metadata": {},
   "outputs": [],
   "source": [
    "D_subs = D.subs(alpha1_beta1_subs).full_simplify()"
   ]
  },
  {
   "cell_type": "code",
   "execution_count": 53,
   "metadata": {},
   "outputs": [
    {
     "data": {
      "text/latex": [
       "$\\displaystyle -\\frac{2 \\, {\\left(\\pi^{4} \\mathit{ak}_{m}^{2} n_{\\mathit{xy}}^{4} + \\mathit{ak}_{m}^{6} - \\sqrt{\\pi^{4} n_{\\mathit{xy}}^{4} + \\mathit{ak}_{m}^{4}} \\mathit{ak}_{m}^{4}\\right)}}{{\\left(\\pi^{4} n_{\\mathit{xy}}^{4} + \\mathit{ak}_{m}^{4}\\right)}^{\\frac{3}{2}}}$"
      ],
      "text/plain": [
       "<IPython.core.display.Math object>"
      ]
     },
     "metadata": {},
     "output_type": "display_data"
    }
   ],
   "source": [
    "disp(D_subs)"
   ]
  },
  {
   "cell_type": "code",
   "execution_count": 54,
   "metadata": {},
   "outputs": [
    {
     "data": {
      "text/plain": [
       "(ak_m, n_xy)"
      ]
     },
     "execution_count": 54,
     "metadata": {},
     "output_type": "execute_result"
    }
   ],
   "source": [
    "D_subs.variables()"
   ]
  },
  {
   "cell_type": "code",
   "execution_count": 55,
   "metadata": {},
   "outputs": [
    {
     "data": {
      "image/png": "[encoded data removed]",
      "text/plain": [
       "Graphics object consisting of 1 graphics primitive"
      ]
     },
     "execution_count": 55,
     "metadata": {},
     "output_type": "execute_result"
    }
   ],
   "source": [
    "plot(D_subs.subs(ak_m = 0.1), n_xy)"
   ]
  },
  {
   "cell_type": "code",
   "execution_count": 56,
   "metadata": {},
   "outputs": [
    {
     "data": {
      "image/png": "[encoded data removed]",
      "text/plain": [
       "Graphics object consisting of 1 graphics primitive"
      ]
     },
     "execution_count": 56,
     "metadata": {},
     "output_type": "execute_result"
    }
   ],
   "source": [
    "plot(D_subs.subs(n_xy = 0.1), ak_m)"
   ]
  },
  {
   "cell_type": "code",
   "execution_count": 57,
   "metadata": {},
   "outputs": [
    {
     "data": {
      "text/latex": [
       "$\\displaystyle -\\frac{\\mathit{ak}_{m}^{4} n_{\\mathit{xy}}^{2} {\\left(\\frac{2 \\, \\arctan\\left(\\frac{\\alpha_{1} + 2 \\, t}{\\sqrt{-\\alpha_{1}^{2} + 4 \\, \\beta_{1}}}\\right)}{\\sqrt{-\\alpha_{1}^{2} + 4 \\, \\beta_{1}}} + \\frac{2 \\, \\arctan\\left(-\\frac{\\alpha_{1} - 2 \\, t}{\\sqrt{-\\alpha_{1}^{2} + 4 \\, \\beta_{1}}}\\right)}{\\sqrt{-\\alpha_{1}^{2} + 4 \\, \\beta_{1}}} - \\frac{\\log\\left(\\alpha_{1} t + t^{2} + \\beta_{1}\\right)}{\\alpha_{1}} + \\frac{\\log\\left(-\\alpha_{1} t + t^{2} + \\beta_{1}\\right)}{\\alpha_{1}}\\right)}}{4 \\, {\\left(\\pi^{4} n_{\\mathit{xy}}^{4} + \\mathit{ak}_{m}^{4}\\right)}}$"
      ],
      "text/plain": [
       "<IPython.core.display.Math object>"
      ]
     },
     "metadata": {},
     "output_type": "display_data"
    }
   ],
   "source": [
    "assume(D<0)\n",
    "exec(preparse(\"integrand_t_subs_int_t = \" + str(integrate(integrand_t_subs, t))))\n",
    "disp(integrand_t_subs_int_t)"
   ]
  },
  {
   "cell_type": "code",
   "execution_count": 58,
   "metadata": {},
   "outputs": [
    {
     "data": {
      "text/plain": [
       "(ak_m, alpha_1, beta_1, n_xy, t)"
      ]
     },
     "execution_count": 58,
     "metadata": {},
     "output_type": "execute_result"
    }
   ],
   "source": [
    "integrand_t_subs_int_t.variables()"
   ]
  },
  {
   "cell_type": "code",
   "execution_count": 59,
   "metadata": {},
   "outputs": [
    {
     "data": {
      "text/latex": [
       "$\\displaystyle -\\frac{\\mathit{ak}_{m}^{4} n_{\\mathit{xy}}^{2} {\\left(\\frac{2 \\, \\arctan\\left(\\frac{\\sqrt{\\frac{2 \\, \\pi^{4} n_{\\mathit{xy}}^{4}}{{\\left(\\pi^{4} n_{\\mathit{xy}}^{4} + \\mathit{ak}_{m}^{4}\\right)}^{\\frac{3}{2}}} + \\frac{2 \\, \\mathit{ak}_{m}^{4}}{{\\left(\\pi^{4} n_{\\mathit{xy}}^{4} + \\mathit{ak}_{m}^{4}\\right)}^{\\frac{3}{2}}} + \\frac{2 \\, \\mathit{ak}_{m}^{2}}{\\pi^{4} n_{\\mathit{xy}}^{4} + \\mathit{ak}_{m}^{4}}} \\mathit{ak}_{m} + 2 \\, t}{\\sqrt{-2 \\, {\\left(\\frac{\\pi^{4} n_{\\mathit{xy}}^{4}}{{\\left(\\pi^{4} n_{\\mathit{xy}}^{4} + \\mathit{ak}_{m}^{4}\\right)}^{\\frac{3}{2}}} + \\frac{\\mathit{ak}_{m}^{4}}{{\\left(\\pi^{4} n_{\\mathit{xy}}^{4} + \\mathit{ak}_{m}^{4}\\right)}^{\\frac{3}{2}}} + \\frac{\\mathit{ak}_{m}^{2}}{\\pi^{4} n_{\\mathit{xy}}^{4} + \\mathit{ak}_{m}^{4}}\\right)} \\mathit{ak}_{m}^{2} + \\frac{4 \\, \\mathit{ak}_{m}^{2}}{\\sqrt{\\pi^{4} n_{\\mathit{xy}}^{4} + \\mathit{ak}_{m}^{4}}}}}\\right)}{\\sqrt{-2 \\, {\\left(\\frac{\\pi^{4} n_{\\mathit{xy}}^{4}}{{\\left(\\pi^{4} n_{\\mathit{xy}}^{4} + \\mathit{ak}_{m}^{4}\\right)}^{\\frac{3}{2}}} + \\frac{\\mathit{ak}_{m}^{4}}{{\\left(\\pi^{4} n_{\\mathit{xy}}^{4} + \\mathit{ak}_{m}^{4}\\right)}^{\\frac{3}{2}}} + \\frac{\\mathit{ak}_{m}^{2}}{\\pi^{4} n_{\\mathit{xy}}^{4} + \\mathit{ak}_{m}^{4}}\\right)} \\mathit{ak}_{m}^{2} + \\frac{4 \\, \\mathit{ak}_{m}^{2}}{\\sqrt{\\pi^{4} n_{\\mathit{xy}}^{4} + \\mathit{ak}_{m}^{4}}}}} + \\frac{2 \\, \\arctan\\left(-\\frac{\\sqrt{\\frac{2 \\, \\pi^{4} n_{\\mathit{xy}}^{4}}{{\\left(\\pi^{4} n_{\\mathit{xy}}^{4} + \\mathit{ak}_{m}^{4}\\right)}^{\\frac{3}{2}}} + \\frac{2 \\, \\mathit{ak}_{m}^{4}}{{\\left(\\pi^{4} n_{\\mathit{xy}}^{4} + \\mathit{ak}_{m}^{4}\\right)}^{\\frac{3}{2}}} + \\frac{2 \\, \\mathit{ak}_{m}^{2}}{\\pi^{4} n_{\\mathit{xy}}^{4} + \\mathit{ak}_{m}^{4}}} \\mathit{ak}_{m} - 2 \\, t}{\\sqrt{-2 \\, {\\left(\\frac{\\pi^{4} n_{\\mathit{xy}}^{4}}{{\\left(\\pi^{4} n_{\\mathit{xy}}^{4} + \\mathit{ak}_{m}^{4}\\right)}^{\\frac{3}{2}}} + \\frac{\\mathit{ak}_{m}^{4}}{{\\left(\\pi^{4} n_{\\mathit{xy}}^{4} + \\mathit{ak}_{m}^{4}\\right)}^{\\frac{3}{2}}} + \\frac{\\mathit{ak}_{m}^{2}}{\\pi^{4} n_{\\mathit{xy}}^{4} + \\mathit{ak}_{m}^{4}}\\right)} \\mathit{ak}_{m}^{2} + \\frac{4 \\, \\mathit{ak}_{m}^{2}}{\\sqrt{\\pi^{4} n_{\\mathit{xy}}^{4} + \\mathit{ak}_{m}^{4}}}}}\\right)}{\\sqrt{-2 \\, {\\left(\\frac{\\pi^{4} n_{\\mathit{xy}}^{4}}{{\\left(\\pi^{4} n_{\\mathit{xy}}^{4} + \\mathit{ak}_{m}^{4}\\right)}^{\\frac{3}{2}}} + \\frac{\\mathit{ak}_{m}^{4}}{{\\left(\\pi^{4} n_{\\mathit{xy}}^{4} + \\mathit{ak}_{m}^{4}\\right)}^{\\frac{3}{2}}} + \\frac{\\mathit{ak}_{m}^{2}}{\\pi^{4} n_{\\mathit{xy}}^{4} + \\mathit{ak}_{m}^{4}}\\right)} \\mathit{ak}_{m}^{2} + \\frac{4 \\, \\mathit{ak}_{m}^{2}}{\\sqrt{\\pi^{4} n_{\\mathit{xy}}^{4} + \\mathit{ak}_{m}^{4}}}}} - \\frac{\\log\\left(\\sqrt{\\frac{2 \\, \\pi^{4} n_{\\mathit{xy}}^{4}}{{\\left(\\pi^{4} n_{\\mathit{xy}}^{4} + \\mathit{ak}_{m}^{4}\\right)}^{\\frac{3}{2}}} + \\frac{2 \\, \\mathit{ak}_{m}^{4}}{{\\left(\\pi^{4} n_{\\mathit{xy}}^{4} + \\mathit{ak}_{m}^{4}\\right)}^{\\frac{3}{2}}} + \\frac{2 \\, \\mathit{ak}_{m}^{2}}{\\pi^{4} n_{\\mathit{xy}}^{4} + \\mathit{ak}_{m}^{4}}} \\mathit{ak}_{m} t + t^{2} + \\frac{\\mathit{ak}_{m}^{2}}{\\sqrt{\\pi^{4} n_{\\mathit{xy}}^{4} + \\mathit{ak}_{m}^{4}}}\\right)}{\\sqrt{\\frac{2 \\, \\pi^{4} n_{\\mathit{xy}}^{4}}{{\\left(\\pi^{4} n_{\\mathit{xy}}^{4} + \\mathit{ak}_{m}^{4}\\right)}^{\\frac{3}{2}}} + \\frac{2 \\, \\mathit{ak}_{m}^{4}}{{\\left(\\pi^{4} n_{\\mathit{xy}}^{4} + \\mathit{ak}_{m}^{4}\\right)}^{\\frac{3}{2}}} + \\frac{2 \\, \\mathit{ak}_{m}^{2}}{\\pi^{4} n_{\\mathit{xy}}^{4} + \\mathit{ak}_{m}^{4}}} \\mathit{ak}_{m}} + \\frac{\\log\\left(-\\sqrt{\\frac{2 \\, \\pi^{4} n_{\\mathit{xy}}^{4}}{{\\left(\\pi^{4} n_{\\mathit{xy}}^{4} + \\mathit{ak}_{m}^{4}\\right)}^{\\frac{3}{2}}} + \\frac{2 \\, \\mathit{ak}_{m}^{4}}{{\\left(\\pi^{4} n_{\\mathit{xy}}^{4} + \\mathit{ak}_{m}^{4}\\right)}^{\\frac{3}{2}}} + \\frac{2 \\, \\mathit{ak}_{m}^{2}}{\\pi^{4} n_{\\mathit{xy}}^{4} + \\mathit{ak}_{m}^{4}}} \\mathit{ak}_{m} t + t^{2} + \\frac{\\mathit{ak}_{m}^{2}}{\\sqrt{\\pi^{4} n_{\\mathit{xy}}^{4} + \\mathit{ak}_{m}^{4}}}\\right)}{\\sqrt{\\frac{2 \\, \\pi^{4} n_{\\mathit{xy}}^{4}}{{\\left(\\pi^{4} n_{\\mathit{xy}}^{4} + \\mathit{ak}_{m}^{4}\\right)}^{\\frac{3}{2}}} + \\frac{2 \\, \\mathit{ak}_{m}^{4}}{{\\left(\\pi^{4} n_{\\mathit{xy}}^{4} + \\mathit{ak}_{m}^{4}\\right)}^{\\frac{3}{2}}} + \\frac{2 \\, \\mathit{ak}_{m}^{2}}{\\pi^{4} n_{\\mathit{xy}}^{4} + \\mathit{ak}_{m}^{4}}} \\mathit{ak}_{m}}\\right)}}{4 \\, {\\left(\\pi^{4} n_{\\mathit{xy}}^{4} + \\mathit{ak}_{m}^{4}\\right)}}$"
      ],
      "text/plain": [
       "<IPython.core.display.Math object>"
      ]
     },
     "metadata": {},
     "output_type": "display_data"
    },
    {
     "data": {
      "text/plain": [
       "(ak_m, n_xy, t)"
      ]
     },
     "execution_count": 59,
     "metadata": {},
     "output_type": "execute_result"
    }
   ],
   "source": [
    "exec(preparse(\"integrand_t_int_t = \" + str(integrand_t_subs_int_t.subs(alpha1_beta1_subs))))\n",
    "disp(integrand_t_int_t)\n",
    "integrand_t_int_t.variables()"
   ]
  },
  {
   "cell_type": "code",
   "execution_count": 60,
   "metadata": {},
   "outputs": [
    {
     "data": {
      "text/latex": [
       "$\\displaystyle -\\frac{\\mathit{ak}_{m}^{4} n_{\\mathit{xy}}^{2} {\\left(\\frac{2 \\, \\arctan\\left(\\frac{\\sqrt{\\frac{2 \\, \\pi^{4} n_{\\mathit{xy}}^{4}}{{\\left(\\pi^{4} n_{\\mathit{xy}}^{4} + \\mathit{ak}_{m}^{4}\\right)}^{\\frac{3}{2}}} + \\frac{2 \\, \\mathit{ak}_{m}^{4}}{{\\left(\\pi^{4} n_{\\mathit{xy}}^{4} + \\mathit{ak}_{m}^{4}\\right)}^{\\frac{3}{2}}} + \\frac{2 \\, \\mathit{ak}_{m}^{2}}{\\pi^{4} n_{\\mathit{xy}}^{4} + \\mathit{ak}_{m}^{4}}} \\mathit{ak}_{m} + \\frac{2 \\, n}{\\sqrt{n^{2} - n_{\\mathit{xy}}^{2}}}}{\\sqrt{-2 \\, {\\left(\\frac{\\pi^{4} n_{\\mathit{xy}}^{4}}{{\\left(\\pi^{4} n_{\\mathit{xy}}^{4} + \\mathit{ak}_{m}^{4}\\right)}^{\\frac{3}{2}}} + \\frac{\\mathit{ak}_{m}^{4}}{{\\left(\\pi^{4} n_{\\mathit{xy}}^{4} + \\mathit{ak}_{m}^{4}\\right)}^{\\frac{3}{2}}} + \\frac{\\mathit{ak}_{m}^{2}}{\\pi^{4} n_{\\mathit{xy}}^{4} + \\mathit{ak}_{m}^{4}}\\right)} \\mathit{ak}_{m}^{2} + \\frac{4 \\, \\mathit{ak}_{m}^{2}}{\\sqrt{\\pi^{4} n_{\\mathit{xy}}^{4} + \\mathit{ak}_{m}^{4}}}}}\\right)}{\\sqrt{-2 \\, {\\left(\\frac{\\pi^{4} n_{\\mathit{xy}}^{4}}{{\\left(\\pi^{4} n_{\\mathit{xy}}^{4} + \\mathit{ak}_{m}^{4}\\right)}^{\\frac{3}{2}}} + \\frac{\\mathit{ak}_{m}^{4}}{{\\left(\\pi^{4} n_{\\mathit{xy}}^{4} + \\mathit{ak}_{m}^{4}\\right)}^{\\frac{3}{2}}} + \\frac{\\mathit{ak}_{m}^{2}}{\\pi^{4} n_{\\mathit{xy}}^{4} + \\mathit{ak}_{m}^{4}}\\right)} \\mathit{ak}_{m}^{2} + \\frac{4 \\, \\mathit{ak}_{m}^{2}}{\\sqrt{\\pi^{4} n_{\\mathit{xy}}^{4} + \\mathit{ak}_{m}^{4}}}}} + \\frac{2 \\, \\arctan\\left(-\\frac{\\sqrt{\\frac{2 \\, \\pi^{4} n_{\\mathit{xy}}^{4}}{{\\left(\\pi^{4} n_{\\mathit{xy}}^{4} + \\mathit{ak}_{m}^{4}\\right)}^{\\frac{3}{2}}} + \\frac{2 \\, \\mathit{ak}_{m}^{4}}{{\\left(\\pi^{4} n_{\\mathit{xy}}^{4} + \\mathit{ak}_{m}^{4}\\right)}^{\\frac{3}{2}}} + \\frac{2 \\, \\mathit{ak}_{m}^{2}}{\\pi^{4} n_{\\mathit{xy}}^{4} + \\mathit{ak}_{m}^{4}}} \\mathit{ak}_{m} - \\frac{2 \\, n}{\\sqrt{n^{2} - n_{\\mathit{xy}}^{2}}}}{\\sqrt{-2 \\, {\\left(\\frac{\\pi^{4} n_{\\mathit{xy}}^{4}}{{\\left(\\pi^{4} n_{\\mathit{xy}}^{4} + \\mathit{ak}_{m}^{4}\\right)}^{\\frac{3}{2}}} + \\frac{\\mathit{ak}_{m}^{4}}{{\\left(\\pi^{4} n_{\\mathit{xy}}^{4} + \\mathit{ak}_{m}^{4}\\right)}^{\\frac{3}{2}}} + \\frac{\\mathit{ak}_{m}^{2}}{\\pi^{4} n_{\\mathit{xy}}^{4} + \\mathit{ak}_{m}^{4}}\\right)} \\mathit{ak}_{m}^{2} + \\frac{4 \\, \\mathit{ak}_{m}^{2}}{\\sqrt{\\pi^{4} n_{\\mathit{xy}}^{4} + \\mathit{ak}_{m}^{4}}}}}\\right)}{\\sqrt{-2 \\, {\\left(\\frac{\\pi^{4} n_{\\mathit{xy}}^{4}}{{\\left(\\pi^{4} n_{\\mathit{xy}}^{4} + \\mathit{ak}_{m}^{4}\\right)}^{\\frac{3}{2}}} + \\frac{\\mathit{ak}_{m}^{4}}{{\\left(\\pi^{4} n_{\\mathit{xy}}^{4} + \\mathit{ak}_{m}^{4}\\right)}^{\\frac{3}{2}}} + \\frac{\\mathit{ak}_{m}^{2}}{\\pi^{4} n_{\\mathit{xy}}^{4} + \\mathit{ak}_{m}^{4}}\\right)} \\mathit{ak}_{m}^{2} + \\frac{4 \\, \\mathit{ak}_{m}^{2}}{\\sqrt{\\pi^{4} n_{\\mathit{xy}}^{4} + \\mathit{ak}_{m}^{4}}}}} - \\frac{\\log\\left(\\frac{\\sqrt{\\frac{2 \\, \\pi^{4} n_{\\mathit{xy}}^{4}}{{\\left(\\pi^{4} n_{\\mathit{xy}}^{4} + \\mathit{ak}_{m}^{4}\\right)}^{\\frac{3}{2}}} + \\frac{2 \\, \\mathit{ak}_{m}^{4}}{{\\left(\\pi^{4} n_{\\mathit{xy}}^{4} + \\mathit{ak}_{m}^{4}\\right)}^{\\frac{3}{2}}} + \\frac{2 \\, \\mathit{ak}_{m}^{2}}{\\pi^{4} n_{\\mathit{xy}}^{4} + \\mathit{ak}_{m}^{4}}} \\mathit{ak}_{m} n}{\\sqrt{n^{2} - n_{\\mathit{xy}}^{2}}} + \\frac{\\mathit{ak}_{m}^{2}}{\\sqrt{\\pi^{4} n_{\\mathit{xy}}^{4} + \\mathit{ak}_{m}^{4}}} + \\frac{n^{2}}{n^{2} - n_{\\mathit{xy}}^{2}}\\right)}{\\sqrt{\\frac{2 \\, \\pi^{4} n_{\\mathit{xy}}^{4}}{{\\left(\\pi^{4} n_{\\mathit{xy}}^{4} + \\mathit{ak}_{m}^{4}\\right)}^{\\frac{3}{2}}} + \\frac{2 \\, \\mathit{ak}_{m}^{4}}{{\\left(\\pi^{4} n_{\\mathit{xy}}^{4} + \\mathit{ak}_{m}^{4}\\right)}^{\\frac{3}{2}}} + \\frac{2 \\, \\mathit{ak}_{m}^{2}}{\\pi^{4} n_{\\mathit{xy}}^{4} + \\mathit{ak}_{m}^{4}}} \\mathit{ak}_{m}} + \\frac{\\log\\left(-\\frac{\\sqrt{\\frac{2 \\, \\pi^{4} n_{\\mathit{xy}}^{4}}{{\\left(\\pi^{4} n_{\\mathit{xy}}^{4} + \\mathit{ak}_{m}^{4}\\right)}^{\\frac{3}{2}}} + \\frac{2 \\, \\mathit{ak}_{m}^{4}}{{\\left(\\pi^{4} n_{\\mathit{xy}}^{4} + \\mathit{ak}_{m}^{4}\\right)}^{\\frac{3}{2}}} + \\frac{2 \\, \\mathit{ak}_{m}^{2}}{\\pi^{4} n_{\\mathit{xy}}^{4} + \\mathit{ak}_{m}^{4}}} \\mathit{ak}_{m} n}{\\sqrt{n^{2} - n_{\\mathit{xy}}^{2}}} + \\frac{\\mathit{ak}_{m}^{2}}{\\sqrt{\\pi^{4} n_{\\mathit{xy}}^{4} + \\mathit{ak}_{m}^{4}}} + \\frac{n^{2}}{n^{2} - n_{\\mathit{xy}}^{2}}\\right)}{\\sqrt{\\frac{2 \\, \\pi^{4} n_{\\mathit{xy}}^{4}}{{\\left(\\pi^{4} n_{\\mathit{xy}}^{4} + \\mathit{ak}_{m}^{4}\\right)}^{\\frac{3}{2}}} + \\frac{2 \\, \\mathit{ak}_{m}^{4}}{{\\left(\\pi^{4} n_{\\mathit{xy}}^{4} + \\mathit{ak}_{m}^{4}\\right)}^{\\frac{3}{2}}} + \\frac{2 \\, \\mathit{ak}_{m}^{2}}{\\pi^{4} n_{\\mathit{xy}}^{4} + \\mathit{ak}_{m}^{4}}} \\mathit{ak}_{m}}\\right)}}{4 \\, {\\left(\\pi^{4} n_{\\mathit{xy}}^{4} + \\mathit{ak}_{m}^{4}\\right)}}$"
      ],
      "text/plain": [
       "<IPython.core.display.Math object>"
      ]
     },
     "metadata": {},
     "output_type": "display_data"
    },
    {
     "data": {
      "text/plain": [
       "(ak_m, n, n_xy)"
      ]
     },
     "execution_count": 60,
     "metadata": {},
     "output_type": "execute_result"
    }
   ],
   "source": [
    "exec(preparse(\"integrand_n_int_n = \" + str(integrand_t_int_t.subs(abel_subs_t))))\n",
    "disp(integrand_n_int_n)\n",
    "integrand_n_int_n.variables()"
   ]
  },
  {
   "cell_type": "code",
   "execution_count": 61,
   "metadata": {},
   "outputs": [
    {
     "data": {
      "text/latex": [
       "$\\displaystyle -\\frac{2 \\, \\sqrt{2} \\mathit{ak}_{m}^{4} n_{\\mathit{xy}}^{2} \\sqrt{\\frac{\\mathit{ak}_{m}^{2} + \\sqrt{\\pi^{4} n_{\\mathit{xy}}^{4} + \\mathit{ak}_{m}^{4}}}{\\pi^{4} n_{\\mathit{xy}}^{4} + \\mathit{ak}_{m}^{4}}} \\arctan\\left(\\frac{\\sqrt{2} {\\left(\\sqrt{2} \\sqrt{n^{2} - n_{\\mathit{xy}}^{2}} \\mathit{ak}_{m} \\sqrt{\\frac{\\mathit{ak}_{m}^{2} + \\sqrt{\\pi^{4} n_{\\mathit{xy}}^{4} + \\mathit{ak}_{m}^{4}}}{\\pi^{4} n_{\\mathit{xy}}^{4} + \\mathit{ak}_{m}^{4}}} + 2 \\, n\\right)}}{2 \\, \\sqrt{n^{2} - n_{\\mathit{xy}}^{2}} \\sqrt{\\frac{\\pi^{4} \\mathit{ak}_{m}^{2} n_{\\mathit{xy}}^{4} + \\mathit{ak}_{m}^{6} - \\sqrt{\\pi^{4} n_{\\mathit{xy}}^{4} + \\mathit{ak}_{m}^{4}} \\mathit{ak}_{m}^{4}}{{\\left(\\pi^{4} n_{\\mathit{xy}}^{4} + \\mathit{ak}_{m}^{4}\\right)}^{\\frac{3}{2}}}}}\\right) - 2 \\, \\sqrt{2} \\mathit{ak}_{m}^{4} n_{\\mathit{xy}}^{2} \\sqrt{\\frac{\\mathit{ak}_{m}^{2} + \\sqrt{\\pi^{4} n_{\\mathit{xy}}^{4} + \\mathit{ak}_{m}^{4}}}{\\pi^{4} n_{\\mathit{xy}}^{4} + \\mathit{ak}_{m}^{4}}} \\arctan\\left(\\frac{\\sqrt{2} {\\left(\\sqrt{2} \\sqrt{n^{2} - n_{\\mathit{xy}}^{2}} \\mathit{ak}_{m} \\sqrt{\\frac{\\mathit{ak}_{m}^{2} + \\sqrt{\\pi^{4} n_{\\mathit{xy}}^{4} + \\mathit{ak}_{m}^{4}}}{\\pi^{4} n_{\\mathit{xy}}^{4} + \\mathit{ak}_{m}^{4}}} - 2 \\, n\\right)}}{2 \\, \\sqrt{n^{2} - n_{\\mathit{xy}}^{2}} \\sqrt{\\frac{\\pi^{4} \\mathit{ak}_{m}^{2} n_{\\mathit{xy}}^{4} + \\mathit{ak}_{m}^{6} - \\sqrt{\\pi^{4} n_{\\mathit{xy}}^{4} + \\mathit{ak}_{m}^{4}} \\mathit{ak}_{m}^{4}}{{\\left(\\pi^{4} n_{\\mathit{xy}}^{4} + \\mathit{ak}_{m}^{4}\\right)}^{\\frac{3}{2}}}}}\\right) - \\sqrt{2} \\mathit{ak}_{m}^{3} n_{\\mathit{xy}}^{2} \\sqrt{\\frac{\\pi^{4} \\mathit{ak}_{m}^{2} n_{\\mathit{xy}}^{4} + \\mathit{ak}_{m}^{6} - \\sqrt{\\pi^{4} n_{\\mathit{xy}}^{4} + \\mathit{ak}_{m}^{4}} \\mathit{ak}_{m}^{4}}{{\\left(\\pi^{4} n_{\\mathit{xy}}^{4} + \\mathit{ak}_{m}^{4}\\right)}^{\\frac{3}{2}}}} \\log\\left(\\frac{\\sqrt{\\pi^{4} n_{\\mathit{xy}}^{4} + \\mathit{ak}_{m}^{4}} \\sqrt{n^{2} - n_{\\mathit{xy}}^{2}} n^{2} + \\sqrt{\\pi^{4} n_{\\mathit{xy}}^{4} + \\mathit{ak}_{m}^{4}} {\\left(\\sqrt{2} \\mathit{ak}_{m} n^{3} - \\sqrt{2} \\mathit{ak}_{m} n n_{\\mathit{xy}}^{2}\\right)} \\sqrt{\\frac{\\mathit{ak}_{m}^{2} + \\sqrt{\\pi^{4} n_{\\mathit{xy}}^{4} + \\mathit{ak}_{m}^{4}}}{\\pi^{4} n_{\\mathit{xy}}^{4} + \\mathit{ak}_{m}^{4}}} + {\\left(\\mathit{ak}_{m}^{2} n^{2} - \\mathit{ak}_{m}^{2} n_{\\mathit{xy}}^{2}\\right)} \\sqrt{n^{2} - n_{\\mathit{xy}}^{2}}}{\\sqrt{\\pi^{4} n_{\\mathit{xy}}^{4} + \\mathit{ak}_{m}^{4}} {\\left(n^{2} - n_{\\mathit{xy}}^{2}\\right)}^{\\frac{3}{2}}}\\right) + \\sqrt{2} \\mathit{ak}_{m}^{3} n_{\\mathit{xy}}^{2} \\sqrt{\\frac{\\pi^{4} \\mathit{ak}_{m}^{2} n_{\\mathit{xy}}^{4} + \\mathit{ak}_{m}^{6} - \\sqrt{\\pi^{4} n_{\\mathit{xy}}^{4} + \\mathit{ak}_{m}^{4}} \\mathit{ak}_{m}^{4}}{{\\left(\\pi^{4} n_{\\mathit{xy}}^{4} + \\mathit{ak}_{m}^{4}\\right)}^{\\frac{3}{2}}}} \\log\\left(\\frac{\\sqrt{\\pi^{4} n_{\\mathit{xy}}^{4} + \\mathit{ak}_{m}^{4}} \\sqrt{n^{2} - n_{\\mathit{xy}}^{2}} n^{2} - \\sqrt{\\pi^{4} n_{\\mathit{xy}}^{4} + \\mathit{ak}_{m}^{4}} {\\left(\\sqrt{2} \\mathit{ak}_{m} n^{3} - \\sqrt{2} \\mathit{ak}_{m} n n_{\\mathit{xy}}^{2}\\right)} \\sqrt{\\frac{\\mathit{ak}_{m}^{2} + \\sqrt{\\pi^{4} n_{\\mathit{xy}}^{4} + \\mathit{ak}_{m}^{4}}}{\\pi^{4} n_{\\mathit{xy}}^{4} + \\mathit{ak}_{m}^{4}}} + {\\left(\\mathit{ak}_{m}^{2} n^{2} - \\mathit{ak}_{m}^{2} n_{\\mathit{xy}}^{2}\\right)} \\sqrt{n^{2} - n_{\\mathit{xy}}^{2}}}{\\sqrt{\\pi^{4} n_{\\mathit{xy}}^{4} + \\mathit{ak}_{m}^{4}} {\\left(n^{2} - n_{\\mathit{xy}}^{2}\\right)}^{\\frac{3}{2}}}\\right)}{8 \\, {\\left(\\pi^{4} n_{\\mathit{xy}}^{4} + \\mathit{ak}_{m}^{4}\\right)} \\sqrt{\\frac{\\mathit{ak}_{m}^{2} + \\sqrt{\\pi^{4} n_{\\mathit{xy}}^{4} + \\mathit{ak}_{m}^{4}}}{\\pi^{4} n_{\\mathit{xy}}^{4} + \\mathit{ak}_{m}^{4}}} \\sqrt{\\frac{\\pi^{4} \\mathit{ak}_{m}^{2} n_{\\mathit{xy}}^{4} + \\mathit{ak}_{m}^{6} - \\sqrt{\\pi^{4} n_{\\mathit{xy}}^{4} + \\mathit{ak}_{m}^{4}} \\mathit{ak}_{m}^{4}}{{\\left(\\pi^{4} n_{\\mathit{xy}}^{4} + \\mathit{ak}_{m}^{4}\\right)}^{\\frac{3}{2}}}}}$"
      ],
      "text/plain": [
       "<IPython.core.display.Math object>"
      ]
     },
     "metadata": {},
     "output_type": "display_data"
    },
    {
     "data": {
      "text/plain": [
       "(ak_m, n, n_xy)"
      ]
     },
     "execution_count": 61,
     "metadata": {},
     "output_type": "execute_result"
    }
   ],
   "source": [
    "exec(preparse(\"integrand_n_int_n_simp = \" + str(integrand_n_int_n.full_simplify())))\n",
    "disp(integrand_n_int_n_simp)\n",
    "integrand_n_int_n_simp.variables()"
   ]
  },
  {
   "cell_type": "markdown",
   "metadata": {},
   "source": [
    "Checking that found integral is true by differentiation:"
   ]
  },
  {
   "cell_type": "code",
   "execution_count": 62,
   "metadata": {},
   "outputs": [
    {
     "data": {
      "text/latex": [
       "$\\displaystyle \\frac{\\sqrt{n^{2} - n_{\\mathit{xy}}^{2}} \\mathit{ak}_{m}^{4} n^{2}}{\\pi^{4} n^{6} + \\mathit{ak}_{m}^{4} n^{2} - {\\left(\\pi^{4} n^{4} + \\mathit{ak}_{m}^{4}\\right)} n_{\\mathit{xy}}^{2}}$"
      ],
      "text/plain": [
       "<IPython.core.display.Math object>"
      ]
     },
     "metadata": {},
     "output_type": "display_data"
    }
   ],
   "source": [
    "disp(integrand_n_int_n_simp.diff(n).full_simplify())"
   ]
  },
  {
   "cell_type": "code",
   "execution_count": 63,
   "metadata": {},
   "outputs": [
    {
     "data": {
      "text/latex": [
       "$\\displaystyle \\frac{n^{2}}{{\\left(\\frac{\\pi^{4} n^{4}}{\\mathit{ak}_{m}^{4}} + 1\\right)} \\sqrt{n^{2} - n_{\\mathit{xy}}^{2}}}$"
      ],
      "text/plain": [
       "<IPython.core.display.Math object>"
      ]
     },
     "metadata": {},
     "output_type": "display_data"
    }
   ],
   "source": [
    "disp(Fnn(n, n_xy, ak_m))"
   ]
  },
  {
   "cell_type": "code",
   "execution_count": 64,
   "metadata": {},
   "outputs": [
    {
     "data": {
      "text/latex": [
       "$\\displaystyle \\sqrt{n^{2} - n_{\\mathit{xy}}^{2}} \\mathit{ak}_{m}^{4} n^{2}$"
      ],
      "text/plain": [
       "<IPython.core.display.Math object>"
      ]
     },
     "metadata": {},
     "output_type": "display_data"
    }
   ],
   "source": [
    "disp(Fnn(n, n_xy, ak_m).numerator()*Fnn(n, n_xy, ak_m).denominator().operands()[1])"
   ]
  },
  {
   "cell_type": "code",
   "execution_count": 65,
   "metadata": {},
   "outputs": [
    {
     "data": {
      "text/latex": [
       "$\\displaystyle \\pi^{4} n^{6} + \\mathit{ak}_{m}^{4} n^{2} - {\\left(\\pi^{4} n^{4} + \\mathit{ak}_{m}^{4}\\right)} n_{\\mathit{xy}}^{2}$"
      ],
      "text/plain": [
       "<IPython.core.display.Math object>"
      ]
     },
     "metadata": {},
     "output_type": "display_data"
    }
   ],
   "source": [
    "disp((Fnn(n, n_xy, ak_m).denominator()*Fnn(n, n_xy, ak_m).denominator().operands()[1]).expand().collect(n_xy^2))"
   ]
  },
  {
   "cell_type": "code",
   "execution_count": 66,
   "metadata": {},
   "outputs": [
    {
     "data": {
      "text/latex": [
       "$\\displaystyle 0$"
      ],
      "text/plain": [
       "<IPython.core.display.Math object>"
      ]
     },
     "metadata": {},
     "output_type": "display_data"
    }
   ],
   "source": [
    "disp((integrand_n_int_n_simp.diff(n).full_simplify() - Fnn(n, n_xy, ak_m)).full_simplify())"
   ]
  },
  {
   "cell_type": "code",
   "execution_count": 67,
   "metadata": {},
   "outputs": [
    {
     "data": {
      "text/latex": [
       "$\\displaystyle -\\frac{\\pi \\mathit{ak}_{m}^{4} n_{\\mathit{xy}}^{2}}{2 \\, {\\left(\\pi^{4} \\sqrt{-\\alpha_{1}^{2} + 4 \\, \\beta_{1}} n_{\\mathit{xy}}^{4} + \\sqrt{-\\alpha_{1}^{2} + 4 \\, \\beta_{1}} \\mathit{ak}_{m}^{4}\\right)}}$"
      ],
      "text/plain": [
       "<IPython.core.display.Math object>"
      ]
     },
     "metadata": {},
     "output_type": "display_data"
    }
   ],
   "source": [
    "exec(preparse(\"integrand_t_subs_int_t_a = \" + str(limit(integrand_t_subs_int_t, t = t_a))))\n",
    "disp(integrand_t_subs_int_t_a)"
   ]
  },
  {
   "cell_type": "code",
   "execution_count": 68,
   "metadata": {},
   "outputs": [
    {
     "data": {
      "text/latex": [
       "$\\displaystyle -\\frac{\\mathit{ak}_{m}^{4} n_{\\mathit{xy}}^{2} {\\left(\\frac{2 \\, \\arctan\\left(\\frac{\\alpha_{1} + 2}{\\sqrt{-\\alpha_{1}^{2} + 4 \\, \\beta_{1}}}\\right)}{\\sqrt{-\\alpha_{1}^{2} + 4 \\, \\beta_{1}}} + \\frac{2 \\, \\arctan\\left(-\\frac{\\alpha_{1} - 2}{\\sqrt{-\\alpha_{1}^{2} + 4 \\, \\beta_{1}}}\\right)}{\\sqrt{-\\alpha_{1}^{2} + 4 \\, \\beta_{1}}} - \\frac{\\log\\left(\\alpha_{1} + \\beta_{1} + 1\\right)}{\\alpha_{1}} + \\frac{\\log\\left(-\\alpha_{1} + \\beta_{1} + 1\\right)}{\\alpha_{1}}\\right)}}{4 \\, {\\left(\\pi^{4} n_{\\mathit{xy}}^{4} + \\mathit{ak}_{m}^{4}\\right)}}$"
      ],
      "text/plain": [
       "<IPython.core.display.Math object>"
      ]
     },
     "metadata": {},
     "output_type": "display_data"
    }
   ],
   "source": [
    "exec(preparse(\"integrand_t_subs_int_t_b = \" + str(integrand_t_subs_int_t.subs(t = t_b))))\n",
    "disp(integrand_t_subs_int_t_b)"
   ]
  },
  {
   "cell_type": "code",
   "execution_count": 69,
   "metadata": {},
   "outputs": [
    {
     "data": {
      "text/latex": [
       "$\\displaystyle \\frac{{\\left(\\mathit{ak}_{m}^{4} \\log\\left(\\alpha_{1} + \\beta_{1} + 1\\right) - \\mathit{ak}_{m}^{4} \\log\\left(-\\alpha_{1} + \\beta_{1} + 1\\right)\\right)} \\sqrt{-\\alpha_{1}^{2} + 4 \\, \\beta_{1}} n_{\\mathit{xy}}^{2} + 2 \\, {\\left(\\pi \\mathit{ak}_{m}^{4} \\alpha_{1} - \\mathit{ak}_{m}^{4} \\alpha_{1} \\arctan\\left(\\frac{\\alpha_{1} + 2}{\\sqrt{-\\alpha_{1}^{2} + 4 \\, \\beta_{1}}}\\right) + \\mathit{ak}_{m}^{4} \\alpha_{1} \\arctan\\left(\\frac{\\alpha_{1} - 2}{\\sqrt{-\\alpha_{1}^{2} + 4 \\, \\beta_{1}}}\\right)\\right)} n_{\\mathit{xy}}^{2}}{4 \\, {\\left(\\pi^{4} \\alpha_{1} n_{\\mathit{xy}}^{4} + \\mathit{ak}_{m}^{4} \\alpha_{1}\\right)} \\sqrt{-\\alpha_{1}^{2} + 4 \\, \\beta_{1}}}$"
      ],
      "text/plain": [
       "<IPython.core.display.Math object>"
      ]
     },
     "metadata": {},
     "output_type": "display_data"
    }
   ],
   "source": [
    "integrand_t_subs_int_t_a_b = integrand_t_subs_int_t_b - integrand_t_subs_int_t_a\n",
    "#disp(integrand_t_subs_int_t_a_b)\n",
    "disp(integrand_t_subs_int_t_a_b.full_simplify())"
   ]
  },
  {
   "cell_type": "code",
   "execution_count": null,
   "metadata": {},
   "outputs": [],
   "source": []
  },
  {
   "cell_type": "code",
   "execution_count": 70,
   "metadata": {},
   "outputs": [
    {
     "data": {
      "text/latex": [
       "$\\displaystyle \\frac{\\pi \\mathit{ak}_{m}^{4} n_{\\mathit{xy}}^{2}}{2 \\, {\\left(\\pi^{4} \\sqrt{-2 \\, {\\left(\\frac{\\pi^{4} n_{\\mathit{xy}}^{4}}{{\\left(\\pi^{4} n_{\\mathit{xy}}^{4} + \\mathit{ak}_{m}^{4}\\right)}^{\\frac{3}{2}}} + \\frac{\\mathit{ak}_{m}^{4}}{{\\left(\\pi^{4} n_{\\mathit{xy}}^{4} + \\mathit{ak}_{m}^{4}\\right)}^{\\frac{3}{2}}} + \\frac{\\mathit{ak}_{m}^{2}}{\\pi^{4} n_{\\mathit{xy}}^{4} + \\mathit{ak}_{m}^{4}}\\right)} \\mathit{ak}_{m}^{2} + \\frac{4 \\, \\mathit{ak}_{m}^{2}}{\\sqrt{\\pi^{4} n_{\\mathit{xy}}^{4} + \\mathit{ak}_{m}^{4}}}} n_{\\mathit{xy}}^{4} + \\sqrt{-2 \\, {\\left(\\frac{\\pi^{4} n_{\\mathit{xy}}^{4}}{{\\left(\\pi^{4} n_{\\mathit{xy}}^{4} + \\mathit{ak}_{m}^{4}\\right)}^{\\frac{3}{2}}} + \\frac{\\mathit{ak}_{m}^{4}}{{\\left(\\pi^{4} n_{\\mathit{xy}}^{4} + \\mathit{ak}_{m}^{4}\\right)}^{\\frac{3}{2}}} + \\frac{\\mathit{ak}_{m}^{2}}{\\pi^{4} n_{\\mathit{xy}}^{4} + \\mathit{ak}_{m}^{4}}\\right)} \\mathit{ak}_{m}^{2} + \\frac{4 \\, \\mathit{ak}_{m}^{2}}{\\sqrt{\\pi^{4} n_{\\mathit{xy}}^{4} + \\mathit{ak}_{m}^{4}}}} \\mathit{ak}_{m}^{4}\\right)}} - \\frac{\\mathit{ak}_{m}^{4} n_{\\mathit{xy}}^{2} {\\left(\\frac{2 \\, \\arctan\\left(\\frac{\\sqrt{\\frac{2 \\, \\pi^{4} n_{\\mathit{xy}}^{4}}{{\\left(\\pi^{4} n_{\\mathit{xy}}^{4} + \\mathit{ak}_{m}^{4}\\right)}^{\\frac{3}{2}}} + \\frac{2 \\, \\mathit{ak}_{m}^{4}}{{\\left(\\pi^{4} n_{\\mathit{xy}}^{4} + \\mathit{ak}_{m}^{4}\\right)}^{\\frac{3}{2}}} + \\frac{2 \\, \\mathit{ak}_{m}^{2}}{\\pi^{4} n_{\\mathit{xy}}^{4} + \\mathit{ak}_{m}^{4}}} \\mathit{ak}_{m} + 2}{\\sqrt{-2 \\, {\\left(\\frac{\\pi^{4} n_{\\mathit{xy}}^{4}}{{\\left(\\pi^{4} n_{\\mathit{xy}}^{4} + \\mathit{ak}_{m}^{4}\\right)}^{\\frac{3}{2}}} + \\frac{\\mathit{ak}_{m}^{4}}{{\\left(\\pi^{4} n_{\\mathit{xy}}^{4} + \\mathit{ak}_{m}^{4}\\right)}^{\\frac{3}{2}}} + \\frac{\\mathit{ak}_{m}^{2}}{\\pi^{4} n_{\\mathit{xy}}^{4} + \\mathit{ak}_{m}^{4}}\\right)} \\mathit{ak}_{m}^{2} + \\frac{4 \\, \\mathit{ak}_{m}^{2}}{\\sqrt{\\pi^{4} n_{\\mathit{xy}}^{4} + \\mathit{ak}_{m}^{4}}}}}\\right)}{\\sqrt{-2 \\, {\\left(\\frac{\\pi^{4} n_{\\mathit{xy}}^{4}}{{\\left(\\pi^{4} n_{\\mathit{xy}}^{4} + \\mathit{ak}_{m}^{4}\\right)}^{\\frac{3}{2}}} + \\frac{\\mathit{ak}_{m}^{4}}{{\\left(\\pi^{4} n_{\\mathit{xy}}^{4} + \\mathit{ak}_{m}^{4}\\right)}^{\\frac{3}{2}}} + \\frac{\\mathit{ak}_{m}^{2}}{\\pi^{4} n_{\\mathit{xy}}^{4} + \\mathit{ak}_{m}^{4}}\\right)} \\mathit{ak}_{m}^{2} + \\frac{4 \\, \\mathit{ak}_{m}^{2}}{\\sqrt{\\pi^{4} n_{\\mathit{xy}}^{4} + \\mathit{ak}_{m}^{4}}}}} + \\frac{2 \\, \\arctan\\left(-\\frac{\\sqrt{\\frac{2 \\, \\pi^{4} n_{\\mathit{xy}}^{4}}{{\\left(\\pi^{4} n_{\\mathit{xy}}^{4} + \\mathit{ak}_{m}^{4}\\right)}^{\\frac{3}{2}}} + \\frac{2 \\, \\mathit{ak}_{m}^{4}}{{\\left(\\pi^{4} n_{\\mathit{xy}}^{4} + \\mathit{ak}_{m}^{4}\\right)}^{\\frac{3}{2}}} + \\frac{2 \\, \\mathit{ak}_{m}^{2}}{\\pi^{4} n_{\\mathit{xy}}^{4} + \\mathit{ak}_{m}^{4}}} \\mathit{ak}_{m} - 2}{\\sqrt{-2 \\, {\\left(\\frac{\\pi^{4} n_{\\mathit{xy}}^{4}}{{\\left(\\pi^{4} n_{\\mathit{xy}}^{4} + \\mathit{ak}_{m}^{4}\\right)}^{\\frac{3}{2}}} + \\frac{\\mathit{ak}_{m}^{4}}{{\\left(\\pi^{4} n_{\\mathit{xy}}^{4} + \\mathit{ak}_{m}^{4}\\right)}^{\\frac{3}{2}}} + \\frac{\\mathit{ak}_{m}^{2}}{\\pi^{4} n_{\\mathit{xy}}^{4} + \\mathit{ak}_{m}^{4}}\\right)} \\mathit{ak}_{m}^{2} + \\frac{4 \\, \\mathit{ak}_{m}^{2}}{\\sqrt{\\pi^{4} n_{\\mathit{xy}}^{4} + \\mathit{ak}_{m}^{4}}}}}\\right)}{\\sqrt{-2 \\, {\\left(\\frac{\\pi^{4} n_{\\mathit{xy}}^{4}}{{\\left(\\pi^{4} n_{\\mathit{xy}}^{4} + \\mathit{ak}_{m}^{4}\\right)}^{\\frac{3}{2}}} + \\frac{\\mathit{ak}_{m}^{4}}{{\\left(\\pi^{4} n_{\\mathit{xy}}^{4} + \\mathit{ak}_{m}^{4}\\right)}^{\\frac{3}{2}}} + \\frac{\\mathit{ak}_{m}^{2}}{\\pi^{4} n_{\\mathit{xy}}^{4} + \\mathit{ak}_{m}^{4}}\\right)} \\mathit{ak}_{m}^{2} + \\frac{4 \\, \\mathit{ak}_{m}^{2}}{\\sqrt{\\pi^{4} n_{\\mathit{xy}}^{4} + \\mathit{ak}_{m}^{4}}}}} - \\frac{\\log\\left(\\sqrt{\\frac{2 \\, \\pi^{4} n_{\\mathit{xy}}^{4}}{{\\left(\\pi^{4} n_{\\mathit{xy}}^{4} + \\mathit{ak}_{m}^{4}\\right)}^{\\frac{3}{2}}} + \\frac{2 \\, \\mathit{ak}_{m}^{4}}{{\\left(\\pi^{4} n_{\\mathit{xy}}^{4} + \\mathit{ak}_{m}^{4}\\right)}^{\\frac{3}{2}}} + \\frac{2 \\, \\mathit{ak}_{m}^{2}}{\\pi^{4} n_{\\mathit{xy}}^{4} + \\mathit{ak}_{m}^{4}}} \\mathit{ak}_{m} + \\frac{\\mathit{ak}_{m}^{2}}{\\sqrt{\\pi^{4} n_{\\mathit{xy}}^{4} + \\mathit{ak}_{m}^{4}}} + 1\\right)}{\\sqrt{\\frac{2 \\, \\pi^{4} n_{\\mathit{xy}}^{4}}{{\\left(\\pi^{4} n_{\\mathit{xy}}^{4} + \\mathit{ak}_{m}^{4}\\right)}^{\\frac{3}{2}}} + \\frac{2 \\, \\mathit{ak}_{m}^{4}}{{\\left(\\pi^{4} n_{\\mathit{xy}}^{4} + \\mathit{ak}_{m}^{4}\\right)}^{\\frac{3}{2}}} + \\frac{2 \\, \\mathit{ak}_{m}^{2}}{\\pi^{4} n_{\\mathit{xy}}^{4} + \\mathit{ak}_{m}^{4}}} \\mathit{ak}_{m}} + \\frac{\\log\\left(-\\sqrt{\\frac{2 \\, \\pi^{4} n_{\\mathit{xy}}^{4}}{{\\left(\\pi^{4} n_{\\mathit{xy}}^{4} + \\mathit{ak}_{m}^{4}\\right)}^{\\frac{3}{2}}} + \\frac{2 \\, \\mathit{ak}_{m}^{4}}{{\\left(\\pi^{4} n_{\\mathit{xy}}^{4} + \\mathit{ak}_{m}^{4}\\right)}^{\\frac{3}{2}}} + \\frac{2 \\, \\mathit{ak}_{m}^{2}}{\\pi^{4} n_{\\mathit{xy}}^{4} + \\mathit{ak}_{m}^{4}}} \\mathit{ak}_{m} + \\frac{\\mathit{ak}_{m}^{2}}{\\sqrt{\\pi^{4} n_{\\mathit{xy}}^{4} + \\mathit{ak}_{m}^{4}}} + 1\\right)}{\\sqrt{\\frac{2 \\, \\pi^{4} n_{\\mathit{xy}}^{4}}{{\\left(\\pi^{4} n_{\\mathit{xy}}^{4} + \\mathit{ak}_{m}^{4}\\right)}^{\\frac{3}{2}}} + \\frac{2 \\, \\mathit{ak}_{m}^{4}}{{\\left(\\pi^{4} n_{\\mathit{xy}}^{4} + \\mathit{ak}_{m}^{4}\\right)}^{\\frac{3}{2}}} + \\frac{2 \\, \\mathit{ak}_{m}^{2}}{\\pi^{4} n_{\\mathit{xy}}^{4} + \\mathit{ak}_{m}^{4}}} \\mathit{ak}_{m}}\\right)}}{4 \\, {\\left(\\pi^{4} n_{\\mathit{xy}}^{4} + \\mathit{ak}_{m}^{4}\\right)}}$"
      ],
      "text/plain": [
       "<IPython.core.display.Math object>"
      ]
     },
     "metadata": {},
     "output_type": "display_data"
    }
   ],
   "source": [
    "exec(preparse(\"integrand_t_int_t_a_b = \" + str(integrand_t_subs_int_t_a_b.subs(alpha1_beta1_subs))))\n",
    "disp(integrand_t_int_t_a_b)"
   ]
  },
  {
   "cell_type": "code",
   "execution_count": 71,
   "metadata": {},
   "outputs": [
    {
     "data": {
      "text/latex": [
       "$\\displaystyle \\frac{2 \\, \\sqrt{2} \\pi \\mathit{ak}_{m}^{4} n_{\\mathit{xy}}^{2} \\sqrt{\\frac{\\mathit{ak}_{m}^{2} + \\sqrt{\\pi^{4} n_{\\mathit{xy}}^{4} + \\mathit{ak}_{m}^{4}}}{\\pi^{4} n_{\\mathit{xy}}^{4} + \\mathit{ak}_{m}^{4}}} - 2 \\, \\sqrt{2} \\mathit{ak}_{m}^{4} n_{\\mathit{xy}}^{2} \\sqrt{\\frac{\\mathit{ak}_{m}^{2} + \\sqrt{\\pi^{4} n_{\\mathit{xy}}^{4} + \\mathit{ak}_{m}^{4}}}{\\pi^{4} n_{\\mathit{xy}}^{4} + \\mathit{ak}_{m}^{4}}} \\arctan\\left(\\frac{\\sqrt{2} {\\left(\\sqrt{2} \\mathit{ak}_{m} \\sqrt{\\frac{\\mathit{ak}_{m}^{2} + \\sqrt{\\pi^{4} n_{\\mathit{xy}}^{4} + \\mathit{ak}_{m}^{4}}}{\\pi^{4} n_{\\mathit{xy}}^{4} + \\mathit{ak}_{m}^{4}}} + 2\\right)}}{2 \\, \\sqrt{\\frac{\\pi^{4} \\mathit{ak}_{m}^{2} n_{\\mathit{xy}}^{4} + \\mathit{ak}_{m}^{6} - \\sqrt{\\pi^{4} n_{\\mathit{xy}}^{4} + \\mathit{ak}_{m}^{4}} \\mathit{ak}_{m}^{4}}{{\\left(\\pi^{4} n_{\\mathit{xy}}^{4} + \\mathit{ak}_{m}^{4}\\right)}^{\\frac{3}{2}}}}}\\right) + 2 \\, \\sqrt{2} \\mathit{ak}_{m}^{4} n_{\\mathit{xy}}^{2} \\sqrt{\\frac{\\mathit{ak}_{m}^{2} + \\sqrt{\\pi^{4} n_{\\mathit{xy}}^{4} + \\mathit{ak}_{m}^{4}}}{\\pi^{4} n_{\\mathit{xy}}^{4} + \\mathit{ak}_{m}^{4}}} \\arctan\\left(\\frac{\\sqrt{2} {\\left(\\sqrt{2} \\mathit{ak}_{m} \\sqrt{\\frac{\\mathit{ak}_{m}^{2} + \\sqrt{\\pi^{4} n_{\\mathit{xy}}^{4} + \\mathit{ak}_{m}^{4}}}{\\pi^{4} n_{\\mathit{xy}}^{4} + \\mathit{ak}_{m}^{4}}} - 2\\right)}}{2 \\, \\sqrt{\\frac{\\pi^{4} \\mathit{ak}_{m}^{2} n_{\\mathit{xy}}^{4} + \\mathit{ak}_{m}^{6} - \\sqrt{\\pi^{4} n_{\\mathit{xy}}^{4} + \\mathit{ak}_{m}^{4}} \\mathit{ak}_{m}^{4}}{{\\left(\\pi^{4} n_{\\mathit{xy}}^{4} + \\mathit{ak}_{m}^{4}\\right)}^{\\frac{3}{2}}}}}\\right) + \\sqrt{2} \\mathit{ak}_{m}^{3} n_{\\mathit{xy}}^{2} \\sqrt{\\frac{\\pi^{4} \\mathit{ak}_{m}^{2} n_{\\mathit{xy}}^{4} + \\mathit{ak}_{m}^{6} - \\sqrt{\\pi^{4} n_{\\mathit{xy}}^{4} + \\mathit{ak}_{m}^{4}} \\mathit{ak}_{m}^{4}}{{\\left(\\pi^{4} n_{\\mathit{xy}}^{4} + \\mathit{ak}_{m}^{4}\\right)}^{\\frac{3}{2}}}} \\log\\left(\\frac{\\sqrt{2} \\sqrt{\\pi^{4} n_{\\mathit{xy}}^{4} + \\mathit{ak}_{m}^{4}} \\mathit{ak}_{m} \\sqrt{\\frac{\\mathit{ak}_{m}^{2} + \\sqrt{\\pi^{4} n_{\\mathit{xy}}^{4} + \\mathit{ak}_{m}^{4}}}{\\pi^{4} n_{\\mathit{xy}}^{4} + \\mathit{ak}_{m}^{4}}} + \\mathit{ak}_{m}^{2} + \\sqrt{\\pi^{4} n_{\\mathit{xy}}^{4} + \\mathit{ak}_{m}^{4}}}{\\sqrt{\\pi^{4} n_{\\mathit{xy}}^{4} + \\mathit{ak}_{m}^{4}}}\\right) - \\sqrt{2} \\mathit{ak}_{m}^{3} n_{\\mathit{xy}}^{2} \\sqrt{\\frac{\\pi^{4} \\mathit{ak}_{m}^{2} n_{\\mathit{xy}}^{4} + \\mathit{ak}_{m}^{6} - \\sqrt{\\pi^{4} n_{\\mathit{xy}}^{4} + \\mathit{ak}_{m}^{4}} \\mathit{ak}_{m}^{4}}{{\\left(\\pi^{4} n_{\\mathit{xy}}^{4} + \\mathit{ak}_{m}^{4}\\right)}^{\\frac{3}{2}}}} \\log\\left(-\\frac{\\sqrt{2} \\sqrt{\\pi^{4} n_{\\mathit{xy}}^{4} + \\mathit{ak}_{m}^{4}} \\mathit{ak}_{m} \\sqrt{\\frac{\\mathit{ak}_{m}^{2} + \\sqrt{\\pi^{4} n_{\\mathit{xy}}^{4} + \\mathit{ak}_{m}^{4}}}{\\pi^{4} n_{\\mathit{xy}}^{4} + \\mathit{ak}_{m}^{4}}} - \\mathit{ak}_{m}^{2} - \\sqrt{\\pi^{4} n_{\\mathit{xy}}^{4} + \\mathit{ak}_{m}^{4}}}{\\sqrt{\\pi^{4} n_{\\mathit{xy}}^{4} + \\mathit{ak}_{m}^{4}}}\\right)}{8 \\, {\\left(\\pi^{4} n_{\\mathit{xy}}^{4} + \\mathit{ak}_{m}^{4}\\right)} \\sqrt{\\frac{\\mathit{ak}_{m}^{2} + \\sqrt{\\pi^{4} n_{\\mathit{xy}}^{4} + \\mathit{ak}_{m}^{4}}}{\\pi^{4} n_{\\mathit{xy}}^{4} + \\mathit{ak}_{m}^{4}}} \\sqrt{\\frac{\\pi^{4} \\mathit{ak}_{m}^{2} n_{\\mathit{xy}}^{4} + \\mathit{ak}_{m}^{6} - \\sqrt{\\pi^{4} n_{\\mathit{xy}}^{4} + \\mathit{ak}_{m}^{4}} \\mathit{ak}_{m}^{4}}{{\\left(\\pi^{4} n_{\\mathit{xy}}^{4} + \\mathit{ak}_{m}^{4}\\right)}^{\\frac{3}{2}}}}}$"
      ],
      "text/plain": [
       "<IPython.core.display.Math object>"
      ]
     },
     "metadata": {},
     "output_type": "display_data"
    }
   ],
   "source": [
    "disp(integrand_t_int_t_a_b.full_simplify())"
   ]
  },
  {
   "cell_type": "code",
   "execution_count": 72,
   "metadata": {},
   "outputs": [
    {
     "data": {
      "text/plain": [
       "(ak_m, n_xy)"
      ]
     },
     "execution_count": 72,
     "metadata": {},
     "output_type": "execute_result"
    }
   ],
   "source": [
    "integrand_t_int_t_a_b.variables()"
   ]
  },
  {
   "cell_type": "markdown",
   "metadata": {},
   "source": [
    "So we just found the following integral:"
   ]
  },
  {
   "cell_type": "markdown",
   "metadata": {},
   "source": [
    "\\begin{equation}\n",
    "G\\left(n_x, n_y\\right) = \\int\\limits_{0}^{\\infty}\\sqrt{n_x^2 + n_y^2+u^2}\\,\n",
    "f\\left(\\frac{\\pi\\sqrt{n_x^2 + n_y^2+u^2}}{a\\,k_m}\\right)\\,d{u}\n",
    "\\end{equation}"
   ]
  },
  {
   "cell_type": "markdown",
   "metadata": {},
   "source": [
    "\\begin{equation}\n",
    "G\\left(n_x, n_y\\right) = \\int\\limits_{\\sqrt{n_x^2 + n_y^2}}^{\\infty}\\sqrt{n_x^2 + n_y^2+u^2}\\,\n",
    "f\\left(\\frac{\\pi\\sqrt{n_x^2 + n_y^2+u^2}}{a\\,k_m}\\right)\\,dn{\\frac{n}{\\sqrt{n^{2} - n_{x}^{2} - n_{y}^{2}}}}\n",
    "\\end{equation}"
   ]
  },
  {
   "cell_type": "markdown",
   "metadata": {},
   "source": [
    "\\begin{equation}\n",
    "G\\left(n_x, n_y\\right) = \\int\\limits_{n_{xy}}^{\\infty}n\\,\n",
    "f\\left(\\frac{\\pi\\,n}{a\\,k_m}\\right)\\,dn{\\frac{n}{\\sqrt{n^{2} - n_{xy}^{2}}}}\n",
    "\\end{equation}"
   ]
  },
  {
   "cell_type": "code",
   "execution_count": 73,
   "metadata": {},
   "outputs": [],
   "source": [
    "exec(preparse(\"G = lambda n_x, n_y, ak_m : \" + str(integrand_t_int_t_a_b.full_simplify().subs(n_xy = sqrt(n_x^2+n_y^2)))))"
   ]
  },
  {
   "cell_type": "code",
   "execution_count": 74,
   "metadata": {},
   "outputs": [
    {
     "data": {
      "text/plain": [
       "1/8*(2*sqrt(2)*pi*(n_x^2 + n_y^2)*ak_m^4*sqrt((ak_m^2 + sqrt(pi^4*(n_x^2 + n_y^2)^2 + ak_m^4))/(pi^4*(n_x^2 + n_y^2)^2 + ak_m^4)) - 2*sqrt(2)*(n_x^2 + n_y^2)*ak_m^4*sqrt((ak_m^2 + sqrt(pi^4*(n_x^2 + n_y^2)^2 + ak_m^4))/(pi^4*(n_x^2 + n_y^2)^2 + ak_m^4))*arctan(1/2*sqrt(2)*(sqrt(2)*ak_m*sqrt((ak_m^2 + sqrt(pi^4*(n_x^2 + n_y^2)^2 + ak_m^4))/(pi^4*(n_x^2 + n_y^2)^2 + ak_m^4)) + 2)/sqrt((pi^4*(n_x^2 + n_y^2)^2*ak_m^2 + ak_m^6 - sqrt(pi^4*(n_x^2 + n_y^2)^2 + ak_m^4)*ak_m^4)/(pi^4*(n_x^2 + n_y^2)^2 + ak_m^4)^(3/2))) + 2*sqrt(2)*(n_x^2 + n_y^2)*ak_m^4*sqrt((ak_m^2 + sqrt(pi^4*(n_x^2 + n_y^2)^2 + ak_m^4))/(pi^4*(n_x^2 + n_y^2)^2 + ak_m^4))*arctan(1/2*sqrt(2)*(sqrt(2)*ak_m*sqrt((ak_m^2 + sqrt(pi^4*(n_x^2 + n_y^2)^2 + ak_m^4))/(pi^4*(n_x^2 + n_y^2)^2 + ak_m^4)) - 2)/sqrt((pi^4*(n_x^2 + n_y^2)^2*ak_m^2 + ak_m^6 - sqrt(pi^4*(n_x^2 + n_y^2)^2 + ak_m^4)*ak_m^4)/(pi^4*(n_x^2 + n_y^2)^2 + ak_m^4)^(3/2))) + sqrt(2)*(n_x^2 + n_y^2)*ak_m^3*sqrt((pi^4*(n_x^2 + n_y^2)^2*ak_m^2 + ak_m^6 - sqrt(pi^4*(n_x^2 + n_y^2)^2 + ak_m^4)*ak_m^4)/(pi^4*(n_x^2 + n_y^2)^2 + ak_m^4)^(3/2))*log((sqrt(2)*sqrt(pi^4*(n_x^2 + n_y^2)^2 + ak_m^4)*ak_m*sqrt((ak_m^2 + sqrt(pi^4*(n_x^2 + n_y^2)^2 + ak_m^4))/(pi^4*(n_x^2 + n_y^2)^2 + ak_m^4)) + ak_m^2 + sqrt(pi^4*(n_x^2 + n_y^2)^2 + ak_m^4))/sqrt(pi^4*(n_x^2 + n_y^2)^2 + ak_m^4)) - sqrt(2)*(n_x^2 + n_y^2)*ak_m^3*sqrt((pi^4*(n_x^2 + n_y^2)^2*ak_m^2 + ak_m^6 - sqrt(pi^4*(n_x^2 + n_y^2)^2 + ak_m^4)*ak_m^4)/(pi^4*(n_x^2 + n_y^2)^2 + ak_m^4)^(3/2))*log(-(sqrt(2)*sqrt(pi^4*(n_x^2 + n_y^2)^2 + ak_m^4)*ak_m*sqrt((ak_m^2 + sqrt(pi^4*(n_x^2 + n_y^2)^2 + ak_m^4))/(pi^4*(n_x^2 + n_y^2)^2 + ak_m^4)) - ak_m^2 - sqrt(pi^4*(n_x^2 + n_y^2)^2 + ak_m^4))/sqrt(pi^4*(n_x^2 + n_y^2)^2 + ak_m^4)))/((pi^4*(n_x^2 + n_y^2)^2 + ak_m^4)*sqrt((ak_m^2 + sqrt(pi^4*(n_x^2 + n_y^2)^2 + ak_m^4))/(pi^4*(n_x^2 + n_y^2)^2 + ak_m^4))*sqrt((pi^4*(n_x^2 + n_y^2)^2*ak_m^2 + ak_m^6 - sqrt(pi^4*(n_x^2 + n_y^2)^2 + ak_m^4)*ak_m^4)/(pi^4*(n_x^2 + n_y^2)^2 + ak_m^4)^(3/2)))"
      ]
     },
     "execution_count": 74,
     "metadata": {},
     "output_type": "execute_result"
    }
   ],
   "source": [
    "G(n_x, n_y, ak_m)"
   ]
  },
  {
   "cell_type": "code",
   "execution_count": 75,
   "metadata": {},
   "outputs": [
    {
     "data": {
      "text/plain": [
       "(ak_m, n_x, n_y)"
      ]
     },
     "execution_count": 75,
     "metadata": {},
     "output_type": "execute_result"
    }
   ],
   "source": [
    "G(n_x, n_y, ak_m).variables()"
   ]
  },
  {
   "cell_type": "code",
   "execution_count": 76,
   "metadata": {},
   "outputs": [],
   "source": [
    "# exec(preparse(\"lim_G = lambda n_x, n_y : \" + str(limit(G(n_x, n_y, ak_m), ak_m=Infinity))))\n",
    "# RuntimeError: ECL says: THROW: The catch RAT-ERR is undefined."
   ]
  },
  {
   "cell_type": "code",
   "execution_count": 77,
   "metadata": {},
   "outputs": [],
   "source": [
    "# lim_G(n_x, n_y)"
   ]
  },
  {
   "cell_type": "code",
   "execution_count": 78,
   "metadata": {},
   "outputs": [],
   "source": [
    "# lim_G(n_x, n_y).variables()"
   ]
  },
  {
   "cell_type": "markdown",
   "metadata": {},
   "source": [
    "# Euler–Maclaurin 2D formula"
   ]
  },
  {
   "cell_type": "code",
   "execution_count": 79,
   "metadata": {},
   "outputs": [],
   "source": [
    "logging = False\n",
    "\n",
    "calc_R_p=True\n",
    "\n",
    "def my_euler_maclaurin1(f,symb,a,b,p, f_diff_symb_p=None):\n",
    "    if logging:\n",
    "        print(\"f\", f)\n",
    "        print(\"symb,a,b\", symb, a, b)\n",
    "        print(\"\")\n",
    "\n",
    "\n",
    "    sum_dfdx_a_bernoullis = sum([(diff(f,symb,2*k-1))*(bernoulli(2*k)/factorial(2*k)) for k in range(1,1+int(p/2))])\n",
    "    if logging:\n",
    "        print(\"sum_dfdx_a_bernoullis\", sum_dfdx_a_bernoullis)\n",
    "        print(\"sum_dfdx_a_bernoullis(a)\", sum_dfdx_a_bernoullis.subs(symb == a))\n",
    "        if Infinity != b:\n",
    "            print(\"sum_dfdx_a_bernoullis(b)\", sum_dfdx_a_bernoullis.subs(symb == b))\n",
    "\n",
    "    if True:\n",
    "        B = lambda x, p : bernoulli_polynomial(x, p)\n",
    "        P = lambda x, p : bernoulli_polynomial(x - floor(x), p)\n",
    "        fact = lambda n : factorial(n)\n",
    "    else:\n",
    "        B = function(\"B\")(x,p)\n",
    "        P = function(\"P\")(x,p)\n",
    "        fact = function(\"fact\")(n)\n",
    "        \n",
    "    if True == calc_R_p:\n",
    "        # Can't calculate derivative wrt j + u.\n",
    "        #int_R_p = lambda j : integral(f.diff(symb,p).subs(symb == u+j) * bernoulli_polynomial(u,p)/factorial(p), (u,0,1))\n",
    "        def int_R_p(f,symb,j):\n",
    "            v = var(\"v\")            \n",
    "            if None == f_diff_symb_p:\n",
    "                deriv = diff(f,symb,p)\n",
    "            else:\n",
    "                deriv = f_diff_symb_p\n",
    "            if logging:\n",
    "                print(\"deriv\", deriv)\n",
    "            deriv_s = deriv.subs(symb == v+j)\n",
    "            if logging:\n",
    "                print(\"deriv_s\", deriv_s)\n",
    "            int_f_diff_B_fact = integral(deriv_s * bernoulli_polynomial(v,p)/factorial(p), (v,0,1))\n",
    "            if logging:\n",
    "                print(\"int_f_diff_B_fact\", int_f_diff_B_fact)\n",
    "            return int_f_diff_B_fact\n",
    "        \n",
    "        def int_R_p_shifted_first(f,symb,j):\n",
    "            v = var(\"v\")\n",
    "            fn_shifted = f.subs(symb == v + j)\n",
    "            if logging:\n",
    "                print(\"fn_shifted\", fn_shifted)\n",
    "            deriv = fn_shifted.diff(v,p)\n",
    "            if logging:\n",
    "                print(\"deriv\", deriv)\n",
    "            int_f_diff_B_fact = integral(deriv * B(x=v,p=p)/fact(n=p), (v,0,1))\n",
    "    \n",
    "            if logging:\n",
    "                print(\"int_f_diff_B_fact\", int_f_diff_B_fact)\n",
    "\n",
    "            return int_f_diff_B_fact\n",
    "\n",
    "        if logging:\n",
    "            print(\"int_R_p(j = a)\", int_R_p(f,symb,j = a))\n",
    "            \n",
    "        if use_int_R_p_j:\n",
    "            v, j = var(\"v, j\")\n",
    "            assume(j>0)\n",
    "            from sage.calculus.calculus import symbolic_sum\n",
    "            if change_R_p_order:\n",
    "                # Change order of summation and integration\n",
    "                if use_int_R_p_shifted_first:\n",
    "                    R_p = (-1)^(p+1)*integral(symbolic_sum(f.subs(symb == v+j).diff(v,p)*B(x=v,p=p)/fact(n=p), \\\n",
    "                                                  j, a, b-1), \\\n",
    "                                              (v,0,1))\n",
    "                else:\n",
    "                    if None == f_diff_symb_p:\n",
    "                        f_diff_symb_p = diff(f, symb, p)\n",
    "                    R_p = (-1)^(p+1)*integral(symbolic_sum(f_diff_symb_p.subs(symb == v+j)*B(x=v,p=p)/fact(n=p), \\\n",
    "                                                  j, a, b-1), \\\n",
    "                                              (v,0,1))\n",
    "            else:\n",
    "                if use_int_R_p_shifted_first:\n",
    "                    R_p = (-1)^(p+1)*symbolic_sum(int_R_p_shifted_first(f,symb,j=j), j, a, b-1)\n",
    "                else:\n",
    "                    R_p = (-1)^(+1)*symbolic_sum(int_R_p(f,symb,j=j), j, a, b-1)\n",
    "                \n",
    "        else:\n",
    "            if None == f_diff_symb_p:\n",
    "                f_diff_symb_p = diff(f,symb,p)\n",
    "            if not use_num_int:\n",
    "                R_p = (-1)^(p+1)*integral(f_diff_symb_p * P(x=symb,p=p)/fact(n=p),(symb,a,b),hold=True)\n",
    "            else:\n",
    "                R_p = (-1)^(p+1)*num_int(lambda symb : f_diff_symb_p * P(x=symb,p=p)/fact(n=p), a, b, v=symb)\n",
    "                \n",
    "\n",
    "    int_fn_a_b = integral(f, (symb, a, b))\n",
    "    if logging:\n",
    "        print(\"int_fn_a_b\", int_fn_a_b)\n",
    "        \n",
    "    sum_fa_fb_2 = (subs(f, symb == a) + subs(f, symb == b))/2\n",
    "    \n",
    "    s = int_fn_a_b + sum_fa_fb_2 - subs(sum_dfdx_a_bernoullis, symb == a)\n",
    "    if Infinity != b:\n",
    "        s += sum_dfdx_a_bernoullis.subs(symb == b)\n",
    "    if True == calc_R_p:\n",
    "        s += R_p\n",
    "        \n",
    "    if False:\n",
    "        print(\"int_fn_a_b\", int_fn_a_b)\n",
    "        print(\"sum_dfdx_a_bernoullis(a)\", sum_dfdx_a_bernoullis(a))\n",
    "        if Infinity != b:\n",
    "            print(\"sum_dfdx_a_bernoullis(b)\", sum_dfdx_a_bernoullis(b))\n",
    "        if True == calc_R_p:\n",
    "            print(\"int_R_p(j = a)\", int_R_p(j = a))\n",
    "            print(\"R_p\", R_p)\n",
    "        print(\"\")\n",
    "        print(\"s\",s)\n",
    "    return s"
   ]
  },
  {
   "cell_type": "markdown",
   "metadata": {},
   "source": [
    "$${\\displaystyle \\sum _{i=a}^{b}f(i)=\\int _{a}^{b}f(x)\\,dx+{\\frac {f(a)+f(b)}{2}}+\\sum _{k=1}^{\\lfloor p/2\\rfloor }{\\frac {B_{2k}}{(2k)!}}(f^{(2k-1)}(b)-f^{(2k-1)}(a))+R_{p},}$$"
   ]
  },
  {
   "cell_type": "markdown",
   "metadata": {},
   "source": [
    "$${\\displaystyle \\sum _{i=a}^{b}f(i)=\\int _{a}^{b}f(x)\\,dx+\\sum _{k=1}^{\\lfloor p/2\\rfloor }{\\frac {B_{k}}{(k)!}}(f^{(k-1)}(b)-f^{(k-1)}(a))+R_{p},}$$"
   ]
  },
  {
   "cell_type": "markdown",
   "metadata": {},
   "source": [
    "$${\\displaystyle R_{p}=(-1)^{p+1}\\sum_{j=a}^{b-1} \\int _{0}^{1}f^{(p)}(v+j){\\frac {B_{p}(v)}{p!}}\\,dv.}$$"
   ]
  },
  {
   "cell_type": "markdown",
   "metadata": {},
   "source": [
    "$${\\displaystyle P_{k}(x)=B_{k}(x-\\lfloor x\\rfloor ),}$$\n",
    "\n",
    "$${\\displaystyle R_{p}=(-1)^{p+1}\\int _{a}^{b}f^{(p)}(x){\\frac {P_{p}(x)}{p!}}\\,dx.}$$"
   ]
  },
  {
   "cell_type": "code",
   "execution_count": 80,
   "metadata": {},
   "outputs": [],
   "source": [
    "# https://www.journals.vu.lt/LMJ/article/view/20600/19701\n",
    "# ФОРМУЛА СУММИРОВАНИЯ ЭЙЛЕРА—МАКЛОРЕНА ДЛЯ ФУНКЦИИ МНОГИХ ПЕРЕМЕННЫХ А.БИКЯЛИС\n",
    "# VIII LIETUVOS MATEMATIKOS RINKINYS 4\n",
    "# ЛИТОВСКИЙ МАТЕМАТИЧЕСКИЙ СБОРНИК\n",
    "# 1968\n",
    "\n",
    "# Далее,обе стороны этого равенства суммируем по всем целым m2 из интервала(z2,y2). Получаем\n",
    "\n",
    "if True:\n",
    "    B = lambda x, p : bernoulli_polynomial(x, p)\n",
    "    P = lambda x, p : bernoulli_polynomial(x - floor(x), p)\n",
    "    fact = lambda n : factorial(n)\n",
    "else:\n",
    "    B = function(\"B\")(x,p)\n",
    "    P = function(\"P\")(x,p)\n",
    "    fact = function(\"fact\")(n)\n",
    "\n",
    "def integral_R_p(f,symb,jx,hold, f_diff_symb_p=None):\n",
    "    vx = var(\"v_\"+str(symb))\n",
    "    if None == f_diff_symb_p:\n",
    "        deriv = diff(f, symb,p)\n",
    "    else:\n",
    "        deriv = f_diff_symb_p\n",
    "    if logging:\n",
    "        print(\"deriv\", deriv)\n",
    "\n",
    "    deriv_subs = deriv.subs(symb == vx+jx)\n",
    "    if logging:\n",
    "        print(\"deriv_subs\", deriv_subs)\n",
    "\n",
    "    int_f_diff_B_fact = integral(deriv_subs * bernoulli_polynomial(vx,p)/factorial(p), (vx,0,1), hold=hold)\n",
    "    if logging:\n",
    "        print(\"int_f_diff_B_fact\", int_f_diff_B_fact)\n",
    "\n",
    "    return int_f_diff_B_fact\n",
    "\n",
    "def integral_R_p_shifted_first(f,symb,jx,hold):\n",
    "    vx = var(\"v_\"+str(symb))\n",
    "    fn_shifted = f.subs(symb == vx + jx)\n",
    "    if logging:\n",
    "        print(\"fn_shifted\", fn_shifted)\n",
    "\n",
    "    deriv = fn_shifted.diff(vx,p)\n",
    "    if logging:\n",
    "        print(\"deriv\", deriv)\n",
    "\n",
    "    int_f_diff_B_fact = integral(deriv * B(x=vx,p=p)/fact(n=p), (vx, 0, 1), hold=hold)\n",
    "\n",
    "    if logging:\n",
    "        print(\"int_f_diff_B_fact\", int_f_diff_B_fact)\n",
    "\n",
    "    return int_f_diff_B_fact\n",
    "    \n",
    "    \n",
    "def euler_maclaurin_R_p(f,symb,a,b,p, f_diff_symb_p=None, hold_int=True, hold_sum=True):\n",
    "    if logging:\n",
    "        print(\"f\", f)\n",
    "        print(\"symb,a,b\", symb, a, b)\n",
    "        if f_diff_symb_p is not None:\n",
    "            print(\"f_diff_symb_p\", f_diff_symb_p)\n",
    "        print(\"\")\n",
    "    if use_int_R_p_j:\n",
    "        jx = var('j_'+str(symb))\n",
    "        assume(jx>0)\n",
    "        from sage.calculus.calculus import symbolic_sum\n",
    "        \n",
    "        if change_R_p_order:\n",
    "            vx = var(\"v_\"+str(symb))\n",
    "            # Change order of summation and integration\n",
    "            if use_int_R_p_shifted_first:\n",
    "                R_p = (-1)^(p+1)*integral(symbolic_sum(f.subs(symb == vx+jx).diff(vx,p)*B(x=vx,p=p)/fact(n=p), \\\n",
    "                                              jx, a, b-1, hold=hold_sum), \\\n",
    "                                          (vx,0,1), hold=hold_int)\n",
    "            else:\n",
    "                if None == f_diff_symb_p:\n",
    "                    f_diff_symb_p = diff(f,symb,p)\n",
    "                R_p = (-1)^(p+1)*integral(symbolic_sum(f_diff_symb_p.subs(symb == vx+jx)*B(x=vx,p=p)/fact(n=p), \\\n",
    "                                              jx, a, b-1, hold=hold_sum), \\\n",
    "                                          (vx,0,1), hold=hold_int)\n",
    "        else:       \n",
    "            if use_int_R_p_shifted_first:\n",
    "                term = (-1)^(p+1)*integral_R_p_shifted_first(f=f, symb=symb, jx=jx, hold=hold_int)\n",
    "                R_p = symbolic_sum(term, jx, a, b-1, hold=hold_sum)\n",
    "            else:\n",
    "                term = (-1)^(p+1)*integral_R_p(f=f, symb=symb, jx=jx, hold=hold_int, f_diff_symb_p=f_diff_symb_p)\n",
    "                R_p = symbolic_sum(term, jx, a, b-1, hold=hold_sum)\n",
    "            return R_p, term\n",
    "    else:\n",
    "        if None == f_diff_symb_p:\n",
    "            f_diff_symb_p = diff(f,symb,p)\n",
    "        if not use_num_int:\n",
    "            if logging:\n",
    "                print(\"(-1)^(p+1)*P(x=symb,p=p)/fact(n=p)\", (-1)^(p+1)*P(x=symb,p=p)/fact(n=p))\n",
    "            R_p = (-1)^(p+1)*integral(f_diff_symb_p * P(x=symb,p=p)/fact(n=p),(symb,a,b),hold=hold_int)\n",
    "        else:\n",
    "            R_p = (-1)^(p+1)*num_int(lambda symb: f_diff_symb_p * P(x=symb,p=p)/fact(n=p), a, b, v=symb)\n",
    "            \n",
    "    return R_p"
   ]
  },
  {
   "cell_type": "markdown",
   "metadata": {},
   "source": [
    "$$\\sum _{k=1}^{\\lfloor p/2\\rfloor }{\\frac {B_{k}}{(k)!}}(f^{(k-1)}(b)-f^{(k-1)}(a))$$"
   ]
  },
  {
   "cell_type": "code",
   "execution_count": 81,
   "metadata": {},
   "outputs": [],
   "source": [
    "def half_summa(f,symb,a,b):\n",
    "\n",
    "    if logging:\n",
    "        print(\"half_summa\", f,symb, a, b)\n",
    "        print(\"half_sum(a)\", f.subs(symb == a)/2)\n",
    "        if Infinity != b:\n",
    "            print(\"half_sum(b)\", f.subs(symb == b)/2)\n",
    "\n",
    "    s = subs(f, symb == a)/2\n",
    "    if Infinity != b:\n",
    "        s += f.subs(symb == b)/2\n",
    "    return s\n"
   ]
  },
  {
   "cell_type": "code",
   "execution_count": 82,
   "metadata": {},
   "outputs": [],
   "source": [
    "def sum_dfdx_bernoulis(f,symb,a,b,p):\n",
    "    dfdx_a_bernoullis = []\n",
    "    for k in range(1,1+int(p/2)):\n",
    "        dfdx_a_bernoullis += [(diff(f,symb,2*k-1))*(bernoulli(2*k)/factorial(2*k))]\n",
    "        \n",
    "    sum_dfdx_a_bernoullis = sum(dfdx_a_bernoullis)\n",
    "\n",
    "    if logging:\n",
    "        print(\"sum_dfdx_a_bernoullis\", sum_dfdx_a_bernoullis)\n",
    "        print(\"sum_dfdx_a_bernoullis(a)\", sum_dfdx_a_bernoullis.subs(symb == a))\n",
    "        if Infinity != b:\n",
    "            print(\"sum_dfdx_a_bernoullis(b)\", sum_dfdx_a_bernoullis.subs(symb == b))\n",
    "\n",
    "    s = - subs(sum_dfdx_a_bernoullis, symb == a)\n",
    "    if Infinity != b:\n",
    "        s += subs(sum_dfdx_a_bernoullis, symb == b)\n",
    "    return s"
   ]
  },
  {
   "cell_type": "code",
   "execution_count": 83,
   "metadata": {},
   "outputs": [],
   "source": [
    "def sum_dfdx_bernoulis_str(f,symb,a,b,p):\n",
    "    sum_dfdx_a_bernoullis = \"\"\n",
    "    for k in range(1,1+int(p/2)):\n",
    "        if k - 1 > 0:\n",
    "            sum_dfdx_a_bernoullis += \" + (\" + str(bernoulli(2*k)/factorial(2*k)) + \") * (\" + str(f) + \").diff(\" + str(symb) + \", \" + str(2*k-1) + \")\"\n",
    "        else:\n",
    "            sum_dfdx_a_bernoullis += \" + (\" + str(bernoulli(2*k)/factorial(2*k)) + \") * (\" + str(f) + \")\"\n",
    "            \n",
    "\n",
    "    if logging:\n",
    "        print(\"sum_dfdx_a_bernoullis\", sum_dfdx_a_bernoullis)\n",
    "        print(\"sum_dfdx_a_bernoullis(a)\", \"(\" + sum_dfdx_a_bernoullis + \").subs(\" + str(symb) + \"==\" + str(a) + \")\")\n",
    "        if Infinity != b:\n",
    "            print(\"sum_dfdx_a_bernoullis(b)\", \"(\" + sum_dfdx_a_bernoullis + \").subs(\" + str(symb) + \"==\" + str(b) + \")\")\n",
    "    s = \"\"\n",
    "\n",
    "    s += \"- (\" + sum_dfdx_a_bernoullis + \").subs(\" + str(symb) + \"==\" + str(a) + \")\"\n",
    "    if Infinity != b:\n",
    "        s += \" + (\" + sum_dfdx_a_bernoullis + \").subs(\" + str(symb) + \"==\" + str(b) + \")\"\n",
    "    return s"
   ]
  },
  {
   "cell_type": "code",
   "execution_count": 84,
   "metadata": {},
   "outputs": [],
   "source": [
    "# sumy_sumx = sum_dfdx_bernoulis(sum_dfdx_bernoulis (F(x,y), x, a_x, b_x,p), y, a_y, b_y, p)\n",
    "def sum_dfdy_bernoulis_sum_dfdx_bernoulis_str(f, x, a_x, b_x, y, a_y, b_y, p):\n",
    "    str_f = sum_dfdx_bernoulis_str(f(x=x,y=y), x, a_x, b_x, p)\n",
    "    sum_dfdx_a_bernoullis = \"\"\n",
    "    for k in range(1,1+int(p/2)):\n",
    "        if k - 1 > 0:\n",
    "            sum_dfdx_a_bernoullis += \" + (\" + str(bernoulli(2*k)/factorial(2*k)) + \") * (\" + str_f + \").diff(\" + str(y) + \", \" + str(2*k-1) + \")\"\n",
    "        else:\n",
    "            sum_dfdx_a_bernoullis += \" + (\" + str(bernoulli(2*k)/factorial(2*k)) + \") * (\" + str_f + \")\"\n",
    "\n",
    "    if logging:\n",
    "        print(\"sum_dfdx_a_bernoullis\", sum_dfdx_a_bernoullis)\n",
    "        print(\"sum_dfdx_a_bernoullis(a)\", \"(\" + sum_dfdx_a_bernoullis + \").subs(\" + str(y) + \"==\" + str(a_y) + \")\")\n",
    "        if Infinity != b:\n",
    "            print(\"sum_dfdx_a_bernoullis(b)\", \"(\" + sum_dfdx_a_bernoullis + \").subs(\" + str(y) + \"==\" + str(b_y) + \")\")\n",
    "    s = \"\"\n",
    "\n",
    "    s += \"- (\" + sum_dfdx_a_bernoullis + \").subs(\" + str(y) + \"==\" + str(a_y) + \")\"\n",
    "    if Infinity != b_y:\n",
    "        s += \" + (\" + sum_dfdx_a_bernoullis + \").subs(\" + str(y) + \"==\" + str(b_y) + \")\"\n",
    "    return s"
   ]
  },
  {
   "cell_type": "code",
   "execution_count": 85,
   "metadata": {},
   "outputs": [],
   "source": [
    "def definite_integral_derivative(f, x, a, b, diff_param, hold=True):\n",
    "    from sage.symbolic.integration.integral import definite_integral\n",
    "\n",
    "    if not x.has(diff_param):\n",
    "        # integration variable != differentiation variable\n",
    "        ans = definite_integral(f.diff(diff_param), x, a, b, hold=hold)\n",
    "    else:\n",
    "        ans = SR.zero()\n",
    "\n",
    "    if hasattr(b, 'diff'):\n",
    "        if b.diff(diff_param) != 0:\n",
    "            ans += f.subs(x == b) * b.diff(diff_param)\n",
    "    if hasattr(a, 'diff'):\n",
    "        if a.diff(diff_param) != 0:\n",
    "            ans -= f.subs(x == a) * a.diff(diff_param)\n",
    "\n",
    "    return ans\n"
   ]
  },
  {
   "cell_type": "code",
   "execution_count": 86,
   "metadata": {},
   "outputs": [],
   "source": [
    "def definite_integral_derivative_str(f, x, a, b, diff_param=None, hold=False, algorithm=None):\n",
    "\n",
    "    if not x.has(diff_param):\n",
    "        # integration variable != differentiation variable\n",
    "        if algorithm is not None:\n",
    "            ans = \"integrate((\" + str(f) + \").diff(\" + str(diff_param) + \"), \" + str(x) + \", \" + str(a) + \", \" + str(b) + \", algorithm = \"\\\"\"+ algorithm + \", hold = \" + str(hold) + \")\"\n",
    "        else:\n",
    "            ans = \"definite_integral((\" + str(f) + \").diff(\" + str(diff_param) + \"), \" + str(x) + \", \" + str(a) + \", \" + str(b) + \", hold = \" + str(hold) + \")\"\n",
    "    else:\n",
    "        ans = \"\"\n",
    "\n",
    "    if hasattr(b, 'diff'):\n",
    "        if b.diff(diff_param) != 0:\n",
    "            ans += \" + \" + str(f.subs(x == b) * b.diff(diff_param))\n",
    "    if hasattr(a, 'diff'):\n",
    "        if a.diff(diff_param) != 0:\n",
    "            ans += \" - \" + str(f.subs(x == a) * a.diff(diff_param))\n",
    "\n",
    "    return ans"
   ]
  },
  {
   "cell_type": "code",
   "execution_count": 87,
   "metadata": {},
   "outputs": [],
   "source": [
    "def definite_num_int_derivative_str(f, x, a, b, diff_param=None):\n",
    "\n",
    "    if not x.has(diff_param):\n",
    "        # integration variable != differentiation variable\n",
    "        ans = \"num_int(lambda \" + str(x)+ \" : \" + str(f.diff(diff_param)) + \", \" + str(a) + \", \" + str(b) + \", v = \" + str(x) + \")\"\n",
    "    else:\n",
    "        ans = \"\"\n",
    "\n",
    "    if hasattr(b, 'diff'):\n",
    "        if b.diff(diff_param) != 0:\n",
    "            ans += \" + \" + str(f.subs(x == b) * b.diff(diff_param))\n",
    "    if hasattr(a, 'diff'):\n",
    "        if a.diff(diff_param) != 0:\n",
    "            ans += \" - \" + str(f.subs(x == a) * a.diff(diff_param))\n",
    "\n",
    "    return ans"
   ]
  },
  {
   "cell_type": "markdown",
   "metadata": {},
   "source": [
    "$$\\sum _{k=1}^{\\lfloor p/2\\rfloor }{\\frac {B_{k}}{(k)!}}(g(y)^{(k-1)}(b_y)-g(y)^{(k-1)}(a_y))$$\n",
    "where "
   ]
  },
  {
   "cell_type": "markdown",
   "metadata": {},
   "source": [
    "$$g(y) = {\\displaystyle R_{p}(y)=(-1)^{p+1}\\sum_{j=a_x}^{b_x-1} \\int _{0}^{1}\\frac{\\partial^{p}}{\\partial x^{p}}f(v_x+j,y){\\frac {B_{p}(v_x)}{p!}}\\,dv_x.}$$\n",
    "or"
   ]
  },
  {
   "cell_type": "markdown",
   "metadata": {},
   "source": [
    "$${\\displaystyle P_{k}(x)=B_{k}(x-\\lfloor x\\rfloor ),}$$\n",
    "\n",
    "$$g(y) = {\\displaystyle R_{p}=(-1)^{p+1}\\int _{a_x}^{b_x}\\frac{\\partial^{p}}{\\partial x^{p}}f(x,y){\\frac {P_{p}(x)}{p!}}\\,dx.}$$"
   ]
  },
  {
   "cell_type": "code",
   "execution_count": 88,
   "metadata": {},
   "outputs": [],
   "source": [
    "1#int_R_p = integral(euler_maclaurin_R_p(f(x,y), x, a_x, b_x,p), (y, a_y, b_y), hold=True)\n",
    "\n",
    "def integral_euler_maclaurin_R_p(f, x, a_x, b_x, y, a_y, b_y, p, f_diff_x_p, hold_int=True, hold_sum=True):\n",
    "    if logging:\n",
    "        print(\"f\", f)\n",
    "        print(\"f(x,y)\", f(x=x,y=y))\n",
    "        if None != f_diff_x_p:\n",
    "            print(\"f_diff_x_p\", f_diff_x_p)\n",
    "            print(\"f_diff_x_p(x,y)\", f_diff_x_p(x=x,y=y))\n",
    "        print(\"\")\n",
    "    if use_int_R_p_j:\n",
    "        jx = var('j_x')\n",
    "        assume(jx>0)\n",
    "        from sage.calculus.calculus import symbolic_sum\n",
    "        \n",
    "        if change_R_p_order:\n",
    "            vx = var(\"v_\"+str(x))\n",
    "            # Change order of summation and integration\n",
    "            if use_int_R_p_shifted_first:\n",
    "                int_R_p = (-1)^(p+1)*integral(integral(symbolic_sum(f.subs(x == vx+jx).diff(vx,p)*B(x=vx,p=p)/fact(n=p), \\\n",
    "                                              jx, a_x, b_x-1, hold=hold_sum), \\\n",
    "                                          (vx,0,1), hold=hold_int), y, a_y, b_y, hold=hold_int)\n",
    "            else:\n",
    "                if None == f_diff_x_p:\n",
    "                    f_diff_x_p = f.diff(x,p)\n",
    "                int_R_p = (-1)^(p+1)*integral(integral(symbolic_sum(f_diff_x_p.subs(x == vx+jx)*B(x=vx,p=p)/fact(n=p), \\\n",
    "                                              jx, a_x, b_x-1, hold=hold_sum), \\\n",
    "                                          (vx,0,1), hold=hold_int), y, a_y, b_y, hold=hold_int)\n",
    "        else:       \n",
    "            if use_int_R_p_shifted_first:\n",
    "                int_int = (-1)^(p+1)*integral(integral_R_p_shifted_first(f=f, symb=x, jx=jx, hold=hold_int), y, a_y, b_y, hold=hold_int)\n",
    "                int_R_p = symbolic_sum(int_int, jx, a_x, b_x-1, hold=hold_sum)\n",
    "            else:\n",
    "                int_int = (-1)^(p+1)*integral(integral_R_p(f=f, symb=x, jx=jx, hold=hold_int), y, a_y, b_y, hold=hold_int)\n",
    "                int_R_p = symbolic_sum(int_int, jx, a_x, b_x-1, hold=hold_sum)\n",
    "            return (int_R_p, int_int)\n",
    "    else:\n",
    "        if None == f_diff_x_p:\n",
    "            f_diff_x_p = f.diff(x,p)\n",
    "        integrand = lambda x, y, p : f_diff_x_p(x=x,y=y) * P(x=x,p=p)/fact(n=p)\n",
    "        if logging:\n",
    "            print(\"integrand\", integrand(x,y,p))\n",
    "        if not use_num_int:\n",
    "            int_R_p = (-1)^(p+1)*integral(integral(integrand(x,y,p),(x,a_x,b_x),hold=hold_int), y, a_y, b_y, hold=hold_int)\n",
    "        else:\n",
    "            int_R_p = (-1)^(p+1)*num_int(lambda y : num_int(lambda x : integrand(x,y,p), a_x, b_x, x), a_y, b_y, y)\n",
    "            \n",
    "    return int_R_p"
   ]
  },
  {
   "cell_type": "markdown",
   "metadata": {},
   "source": [
    "$${\\displaystyle R_{p}=(-1)^{p+1}\\sum_{j=a_y}^{b_y-1} \\int _{0}^{1}g^{(p)}(v_y+j){\\frac {B_{p}(v_y)}{p!}}\\,dv_y.}$$"
   ]
  },
  {
   "cell_type": "markdown",
   "metadata": {},
   "source": [
    "$${\\displaystyle P_{k}(y)=B_{k}(y-\\lfloor y\\rfloor ),}$$\n",
    "\n",
    "$${\\displaystyle R_{p}=(-1)^{p+1}\\int _{a_y}^{b_y}g^{(p)}(y){\\frac {P_{p}(y)}{p!}}\\,dy.}$$\n",
    "\n",
    "where"
   ]
  },
  {
   "cell_type": "markdown",
   "metadata": {},
   "source": [
    "$$g(y) = {\\displaystyle R_{p}(y)=(-1)^{p+1}\\sum_{j=a_x}^{b_x-1} \\int _{0}^{1}\\frac{\\partial^{p}}{\\partial x^{p}}f(v_x+j,y){\\frac {B_{p}(v_x)}{p!}}\\,dv_x.}$$\n",
    "or"
   ]
  },
  {
   "cell_type": "markdown",
   "metadata": {},
   "source": [
    "$${\\displaystyle P_{k}(x)=B_{k}(x-\\lfloor x\\rfloor ),}$$\n",
    "\n",
    "$$g(y) = {\\displaystyle R_{p}=(-1)^{p+1}\\int _{a_x}^{b_x}\\frac{\\partial^{p}}{\\partial x^{p}}f(x,y){\\frac {P_{p}(x)}{p!}}\\,dx.}$$"
   ]
  },
  {
   "cell_type": "code",
   "execution_count": 89,
   "metadata": {},
   "outputs": [],
   "source": [
    "#R_p_R_p = euler_maclaurin_R_p(euler_maclaurin_R_p(F(x,y), x, a_x, b_x,p), y, a_y, b_y, p)\n",
    "def euler_maclaurin_R_p_euler_maclaurin_R_p(f, x, a_x, b_x, y, a_y, b_y, p, f_diff_x_p_diff_y_p):\n",
    "\n",
    "    from sage.calculus.calculus import symbolic_sum\n",
    "    from sage.symbolic.integration.integral import definite_integral\n",
    "    if use_int_R_p_j:\n",
    "        vx,vy = var(\"v_x, v_y\")\n",
    "        jx,jy = var(\"j_x, j_y\")\n",
    "        assume(v_y+j_y>0)\n",
    "        \n",
    "        if None == f_diff_x_p_diff_y_p:\n",
    "            f_diff_x_p_diff_y_p = f.diff(x,p).diff(y,p)\n",
    "\n",
    "        R_p_R_p = (-1)^(p+1)*symbolic_sum(definite_integral( \\\n",
    "                               (-1)^(p+1)*symbolic_sum(definite_integral(f_diff_x_p_diff_y_p.subs(x == vx + jx)  \\\n",
    "                                                              * B(x=vx,p=p)/fact(n=p), \\\n",
    "                                 vx,0,1,hold=True), v=jx, a=a_x, b=b_x-1,hold=True) \\\n",
    "                                                                        .subs(y == vy + jy)  \\\n",
    "                                                              * B(x=vy,p=p)/fact(n=p), \\\n",
    "                                 vy,0,1,hold=True), v=jy, a=a_y, b=b_y-1,hold=True)\n",
    "    else:\n",
    "        if not use_num_int:\n",
    "\n",
    "            if None == f_diff_x_p_diff_y_p:\n",
    "                f_diff_x_p_diff_y_p = f.diff(x,p)\n",
    "\n",
    "            R_p_R_p = (-1)^(p+1)*definite_integral( \\\n",
    "                               (-1)^(p+1)*definite_integral(f_diff_x_p_diff_y_p  \\\n",
    "                                                              * P(x=x,p=p)/fact(n=p), \\\n",
    "                                 x, a_x, b_x, hold=True).diff(y,p)  \\\n",
    "                                                              * P(x=y,p=p)/fact(n=p), \\\n",
    "                                 y, a_y, b_y, hold=True)\n",
    "        else:\n",
    "            f_diff_x_p_diff_y_p_num_str = \"f_diff_x_diff_y_num = lambda \" + str(x) + \", \" + str(y) + \":\" + str(f(x,y).diff(x,p).diff(y,p))\n",
    "            print(\"f_diff_x_p_diff_y_p_num_str=\", f_diff_x_p_diff_y_p_num_str)                                                                          \n",
    "            exec(preparse(f_diff_x_p_diff_y_p_num_str))\n",
    "            R_p_R_p = (-1)^(p+1)*num_int(lambda y : \\\n",
    "                               (-1)^(p+1)*num_int(lambda x : f_diff_x_p_diff_y_p_num(x,y)  \\\n",
    "                                                              * P(x=x,p=p)/fact(n=p), \\\n",
    "                                 a_x, b_x, v=x)  \\\n",
    "                                                              * P(x=y,p=p)/fact(n=p), \\\n",
    "                                 a_y, b_y, v=y)\n",
    "        \n",
    "    return R_p_R_p"
   ]
  },
  {
   "cell_type": "code",
   "execution_count": 90,
   "metadata": {},
   "outputs": [],
   "source": [
    "#R_p_R_p = euler_maclaurin_R_p(euler_maclaurin_R_p(F(x,y), x, a_x, b_x,p), y, a_y, b_y, p)\n",
    "def euler_maclaurin_R_p_euler_maclaurin_R_p_num_int(f_diff_x_p_diff_y_p, x, a_x, b_x, y, a_y, b_y, p):\n",
    "    integrand = lambda x, y, p : f_diff_x_p_diff_y_p(x=x,y=y) * P(x=x,p=p)/fact(n=p)\n",
    "    if logging:\n",
    "        print(\"integrand =\", integrand(x,y,p))\n",
    "    R_p_R_p = (-1)^(p+1)*num_int(lambda y : \\\n",
    "              (-1)^(p+1)*num_int(lambda x : integrand(x,y,p), a_x, b_x, x) * P(x=y,p=p)/fact(n=p), a_y, b_y, y)\n",
    "    return R_p_R_p"
   ]
  },
  {
   "cell_type": "code",
   "execution_count": 91,
   "metadata": {},
   "outputs": [],
   "source": [
    "def euler_maclaurin1(f, symb, a, b, p, f_diff_symb_p=None, hold_int=True, hold_sum=True):\n",
    "    if logging:\n",
    "        print(\"f\", f)\n",
    "        print(\"symb,a,b\", symb, a, b)\n",
    "        print(\"\")\n",
    "    #u, j = var(\"u, j\")\n",
    "\n",
    "    int_fn_a_b = integral(f, (symb, a, b))\n",
    "    if logging:\n",
    "        print(\"int_fn_a_b\", int_fn_a_b)\n",
    "        \n",
    "    half = half_summa(f,symb,a,b)\n",
    "    if logging:\n",
    "        print(\"half\", half)\n",
    "    \n",
    "    #s = int_fn_a_b + sum_dfdx_a_bernoullis(b) - sum_dfdx_a_bernoullis(a) + R_p\n",
    "    s = int_fn_a_b + half + sum_dfdx_bernoulis(f,symb,a,b,p)\n",
    "    \n",
    "    if True == calc_R_p:\n",
    "        R_p = euler_maclaurin_R_p(f, symb, a, b, p, f_diff_symb_p=f_diff_symb_p,hold_int=hold_int, hold_sum=hold_sum)\n",
    "        if type(R_p) is tuple:\n",
    "            s += R_p[0]\n",
    "        else:\n",
    "            s += R_p\n",
    "\n",
    "    return s"
   ]
  },
  {
   "cell_type": "code",
   "execution_count": 92,
   "metadata": {},
   "outputs": [],
   "source": [
    "from IPython.display import display, Math, Latex"
   ]
  },
  {
   "cell_type": "code",
   "execution_count": 93,
   "metadata": {},
   "outputs": [
    {
     "name": "stdout",
     "output_type": "stream",
     "text": [
      "F(n_x, n_y)\n"
     ]
    }
   ],
   "source": [
    "a_x = var(\"a_x\")\n",
    "b_x = var(\"b_x\")\n",
    "a_y = var(\"a_y\")\n",
    "b_y = var(\"b_y\")\n",
    "\n",
    "assume(a_x, 'real')\n",
    "assume(b_x, 'real')\n",
    "assume(a_y, 'real')\n",
    "assume(b_y, 'real')\n",
    "\n",
    "assume(a_x, 'integer')\n",
    "assume(b_x, 'integer')\n",
    "assume(a_y, 'integer')\n",
    "assume(b_y, 'integer')\n",
    "\n",
    "assume(a_x > 0)\n",
    "assume(b_x > 0)\n",
    "assume(a_y > 0)\n",
    "assume(b_y > 0)\n",
    "\n",
    "v_x,v_y = var(\"v_x, v_y\")\n",
    "j_x,j_y = var(\"j_x, j_y\")\n",
    "\n",
    "assume(j_x, 'integer')\n",
    "assume(j_y, 'integer')\n",
    "assume(v_x, 'real')\n",
    "assume(v_y, 'real')\n",
    "\n",
    "assume(j_x >= 0)\n",
    "assume(v_x >= 0, v_x <= 1)\n",
    "assume(j_y >= 0)\n",
    "assume(v_y >= 0, v_y <= 1)\n",
    "\n",
    "n = QQ['n'].0\n",
    "j = QQ['j'].0\n",
    "\n",
    "#p = 4\n",
    "#p = 3\n",
    "#p = 2\n",
    "p = 1\n",
    "\n",
    "F = function(\"F\")(n_x, n_y)\n",
    "print(F)"
   ]
  },
  {
   "cell_type": "markdown",
   "metadata": {},
   "source": [
    "$${\\displaystyle R_{p}=(-1)^{p+1}\\sum_{j=a}^{b-1} \\int _{0}^{1}f^{(p)}(u+j){\\frac {B_{p}(u)}{p!}}\\,du.}$$"
   ]
  },
  {
   "cell_type": "code",
   "execution_count": 94,
   "metadata": {},
   "outputs": [],
   "source": [
    "use_int_R_p_j=False\n",
    "change_R_p_order=True\n",
    "\n",
    "use_int_R_p_shifted_first=True\n",
    "use_num_int = False\n",
    "logging = False"
   ]
  },
  {
   "cell_type": "code",
   "execution_count": 95,
   "metadata": {},
   "outputs": [
    {
     "data": {
      "text/latex": [
       "$\\displaystyle \\int_{a_{y}}^{b_{y}} \\int_{a_{x}}^{b_{x}} F\\left(n_{x}, n_{y}\\right)\\,{d n_{x}}\\,{d n_{y}}$"
      ],
      "text/plain": [
       "<IPython.core.display.Math object>"
      ]
     },
     "metadata": {},
     "output_type": "display_data"
    }
   ],
   "source": [
    "inty_intx_F = integral(integral(F,(n_x, a_x, b_x)),  (n_y, a_y, b_y))\n",
    "display(Math(latex(inty_intx_F)))"
   ]
  },
  {
   "cell_type": "code",
   "execution_count": 96,
   "metadata": {},
   "outputs": [
    {
     "data": {
      "text/latex": [
       "$\\displaystyle \\frac{1}{2} \\, \\int_{a_{y}}^{b_{y}} F\\left(a_{x}, n_{y}\\right)\\,{d n_{y}}$"
      ],
      "text/plain": [
       "<IPython.core.display.Math object>"
      ]
     },
     "metadata": {},
     "output_type": "display_data"
    }
   ],
   "source": [
    "inty_halfx_F = integral (half_summa (F, n_x, a_x, b_x), (n_y, a_y, b_y))\n",
    "display(Math(latex(inty_halfx_F)))"
   ]
  },
  {
   "cell_type": "code",
   "execution_count": 97,
   "metadata": {},
   "outputs": [
    {
     "data": {
      "text/latex": [
       "$\\displaystyle \\int_{0}^{+\\infty} \\frac{1}{2} \\, \\sqrt{n_{y}^{2} + u^{2}} f\\left(\\frac{\\pi \\sqrt{n_{y}^{2} + u^{2}}}{a k_{m}}\\right)\\,{d n_{y}}$"
      ],
      "text/plain": [
       "<IPython.core.display.Math object>"
      ]
     },
     "metadata": {},
     "output_type": "display_data"
    }
   ],
   "source": [
    "inty_halfx_Fu = lambda u, a, k_m : num_int(lambda n_y : half_summa (Fu(u, n_x, n_y, a, k_m), n_x, 0, Infinity), 0, Infinity, v = n_y)\n",
    "display(Math(latex(inty_halfx_Fu(u, a, k_m))))"
   ]
  },
  {
   "cell_type": "code",
   "execution_count": 98,
   "metadata": {},
   "outputs": [
    {
     "data": {
      "text/latex": [
       "$\\displaystyle \\int_{0}^{+\\infty} \\frac{\\sqrt{n_{y}^{2} + u^{2}}}{2 \\, {\\left(\\frac{\\pi^{4} {\\left(n_{y}^{2} + u^{2}\\right)}^{2}}{a^{4} k_{m}^{4}} + 1\\right)}}\\,{d n_{y}}$"
      ],
      "text/plain": [
       "<IPython.core.display.Math object>"
      ]
     },
     "metadata": {},
     "output_type": "display_data"
    }
   ],
   "source": [
    "inty_halfx_Fn = lambda u, a, k_m : num_int(lambda n_y : half_summa (Fn(u, n_x, n_y, a, k_m), n_x, 0, Infinity), 0, Infinity, v = n_y)\n",
    "display(Math(latex(inty_halfx_Fn(u, a, k_m))))"
   ]
  },
  {
   "cell_type": "code",
   "execution_count": 99,
   "metadata": {},
   "outputs": [
    {
     "data": {
      "text/latex": [
       "$\\displaystyle 0$"
      ],
      "text/plain": [
       "<IPython.core.display.Math object>"
      ]
     },
     "metadata": {},
     "output_type": "display_data"
    }
   ],
   "source": [
    "inty_sumx_F = integral(sum_dfdx_bernoulis (F, n_x, a_x, b_x,p), (n_y, a_y, b_y)).expand()\n",
    "display(Math(latex(inty_sumx_F)))"
   ]
  },
  {
   "cell_type": "code",
   "execution_count": 100,
   "metadata": {},
   "outputs": [
    {
     "data": {
      "text/latex": [
       "$\\displaystyle 0.0$"
      ],
      "text/plain": [
       "<IPython.core.display.Math object>"
      ]
     },
     "metadata": {},
     "output_type": "display_data"
    }
   ],
   "source": [
    "inty_sumx_Fu = lambda u, a, k_m : num_int(lambda n_y : sum_dfdx_bernoulis (Fu(u, n_x, n_y, a, k_m), n_x, 0, Infinity,p), 0, Infinity, v = n_y)\n",
    "display(Math(latex(inty_sumx_Fu(u, a, k_m))))"
   ]
  },
  {
   "cell_type": "code",
   "execution_count": 101,
   "metadata": {},
   "outputs": [
    {
     "data": {
      "text/latex": [
       "$\\displaystyle 0.0$"
      ],
      "text/plain": [
       "<IPython.core.display.Math object>"
      ]
     },
     "metadata": {},
     "output_type": "display_data"
    }
   ],
   "source": [
    "inty_sumx_Fn = lambda u, a, k_m : num_int(lambda n_y : sum_dfdx_bernoulis (Fn(u, n_x, n_y, a, k_m), n_x, 0, Infinity,p), 0, Infinity, v = n_y)\n",
    "display(Math(latex(inty_sumx_Fn(u, a, k_m))))"
   ]
  },
  {
   "cell_type": "code",
   "execution_count": 102,
   "metadata": {},
   "outputs": [
    {
     "data": {
      "text/latex": [
       "$\\displaystyle \\int_{a_{x}}^{b_{x}} \\frac{1}{2} \\, {\\left(2 \\, n_{x} - 2 \\, \\left \\lfloor n_{x} \\right \\rfloor - 1\\right)} \\frac{\\partial}{\\partial n_{x}}F\\left(n_{x}, n_{y}\\right)\\,{d n_{x}}$"
      ],
      "text/plain": [
       "<IPython.core.display.Math object>"
      ]
     },
     "metadata": {},
     "output_type": "display_data"
    }
   ],
   "source": [
    "Rpx_F = euler_maclaurin_R_p(F, n_x, a_x, b_x,p)\n",
    "if type(Rpx_F) is tuple:\n",
    "    Rpx_F = Rpx_F[0]\n",
    "\n",
    "disp(Rpx_F)"
   ]
  },
  {
   "cell_type": "code",
   "execution_count": 103,
   "metadata": {},
   "outputs": [
    {
     "data": {
      "text/latex": [
       "$\\displaystyle \\int_{a_{y}}^{b_{y}} \\frac{1}{2} \\, {\\left(2 \\, n_{y} - 2 \\, \\left \\lfloor n_{y} \\right \\rfloor - 1\\right)} \\frac{\\partial}{\\partial n_{y}}F\\left(n_{x}, n_{y}\\right)\\,{d n_{y}}$"
      ],
      "text/plain": [
       "<IPython.core.display.Math object>"
      ]
     },
     "metadata": {},
     "output_type": "display_data"
    }
   ],
   "source": [
    "Rpy_F = euler_maclaurin_R_p(F, n_y, a_y, b_y,p)\n",
    "if type(Rpy_F) is tuple:\n",
    "    Rpy_F = Rpy_F[0]\n",
    "\n",
    "disp(Rpy_F)"
   ]
  },
  {
   "cell_type": "code",
   "execution_count": 104,
   "metadata": {},
   "outputs": [
    {
     "data": {
      "text/latex": [
       "$\\displaystyle \\int_{a_{y}}^{b_{y}} \\int_{a_{x}}^{b_{x}} \\frac{1}{2} \\, {\\left(2 \\, n_{x} - 2 \\, \\left \\lfloor n_{x} \\right \\rfloor - 1\\right)} \\frac{\\partial}{\\partial n_{x}}F\\left(n_{x}, n_{y}\\right)\\,{d n_{x}}\\,{d n_{y}}$"
      ],
      "text/plain": [
       "<IPython.core.display.Math object>"
      ]
     },
     "metadata": {},
     "output_type": "display_data"
    }
   ],
   "source": [
    "inty_Rpx_F = integral(Rpx_F, (n_y, a_y, b_y), hold=True)\n",
    "disp(inty_Rpx_F)"
   ]
  },
  {
   "cell_type": "code",
   "execution_count": 105,
   "metadata": {},
   "outputs": [
    {
     "data": {
      "text/latex": [
       "$\\displaystyle \\int_{a_{y}}^{b_{y}} \\int_{a_{x}}^{b_{x}} \\frac{1}{2} \\, {\\left(2 \\, n_{x} - 2 \\, \\left \\lfloor n_{x} \\right \\rfloor - 1\\right)} \\frac{\\partial}{\\partial n_{x}}F\\left(n_{x}, n_{y}\\right)\\,{d n_{x}}\\,{d n_{y}}$"
      ],
      "text/plain": [
       "<IPython.core.display.Math object>"
      ]
     },
     "metadata": {},
     "output_type": "display_data"
    }
   ],
   "source": [
    "inty_Rpx_F = integral_euler_maclaurin_R_p(F, n_x, a_x, b_x, n_y, a_y, b_y, p, diff(F,n_x,p), hold_int=True, hold_sum=True)\n",
    "disp(inty_Rpx_F)"
   ]
  },
  {
   "cell_type": "code",
   "execution_count": 106,
   "metadata": {},
   "outputs": [
    {
     "data": {
      "text/latex": [
       "$\\displaystyle \\int_{0}^{+\\infty} \\int_{0}^{+\\infty} \\frac{1}{2} \\, {\\left(\\frac{n_{x} f\\left(\\frac{\\pi \\sqrt{n_{x}^{2} + n_{y}^{2} + u^{2}}}{a k_{m}}\\right)}{\\sqrt{n_{x}^{2} + n_{y}^{2} + u^{2}}} + \\frac{\\pi n_{x} \\mathrm{D}_{0}\\left(f\\right)\\left(\\frac{\\pi \\sqrt{n_{x}^{2} + n_{y}^{2} + u^{2}}}{a k_{m}}\\right)}{a k_{m}}\\right)} {\\left(2 \\, n_{x} - 2 \\, \\left \\lfloor n_{x} \\right \\rfloor - 1\\right)}\\,{d n_{x}}\\,{d n_{y}}$"
      ],
      "text/plain": [
       "<IPython.core.display.Math object>"
      ]
     },
     "metadata": {},
     "output_type": "display_data"
    }
   ],
   "source": [
    "Rpx_Fu = euler_maclaurin_R_p(Fu(u, n_x, n_y, a, k_m), n_x, 0, Infinity,p)\n",
    "if type(Rpx_Fu) is tuple:\n",
    "    Rpx_Fu = Rpx_Fu[0]\n",
    "\n",
    "inty_Rpx_Fu = integral(Rpx_Fu, (n_y, 0, Infinity), hold=True)\n",
    "display(Math(latex(inty_Rpx_Fu)))"
   ]
  },
  {
   "cell_type": "code",
   "execution_count": 107,
   "metadata": {},
   "outputs": [
    {
     "data": {
      "text/latex": [
       "$\\displaystyle \\int_{0}^{+\\infty} \\int_{0}^{+\\infty} \\frac{1}{2} \\, {\\left(2 \\, n_{x} - 2 \\, \\left \\lfloor n_{x} \\right \\rfloor - 1\\right)} {\\left(\\frac{n_{x}}{\\sqrt{n_{x}^{2} + n_{y}^{2} + u^{2}} {\\left(\\frac{\\pi^{4} {\\left(n_{x}^{2} + n_{y}^{2} + u^{2}\\right)}^{2}}{a^{4} k_{m}^{4}} + 1\\right)}} - \\frac{4 \\, \\pi^{4} {\\left(n_{x}^{2} + n_{y}^{2} + u^{2}\\right)}^{\\frac{3}{2}} n_{x}}{a^{4} k_{m}^{4} {\\left(\\frac{\\pi^{4} {\\left(n_{x}^{2} + n_{y}^{2} + u^{2}\\right)}^{2}}{a^{4} k_{m}^{4}} + 1\\right)}^{2}}\\right)}\\,{d n_{x}}\\,{d n_{y}}$"
      ],
      "text/plain": [
       "<IPython.core.display.Math object>"
      ]
     },
     "metadata": {},
     "output_type": "display_data"
    }
   ],
   "source": [
    "Rpx_Fn = euler_maclaurin_R_p(Fn(u, n_x, n_y, a, k_m), n_x, 0, Infinity,p)\n",
    "if type(Rpx_Fn) is tuple:\n",
    "    Rpx_Fn = R_p_Fn[0]\n",
    "\n",
    "inty_Rpx_Fn = integral(Rpx_Fn, (n_y, 0, Infinity), hold=True)\n",
    "display(Math(latex(inty_Rpx_Fn)))"
   ]
  },
  {
   "cell_type": "markdown",
   "metadata": {},
   "source": [
    "$${\\displaystyle P_{k}(x)=B_{k}(x-\\lfloor x\\rfloor ),}$$\n",
    "\n",
    "$${\\displaystyle R_{p}=(-1)^{p+1}\\int _{a}^{b}f^{(p)}(x){\\frac {P_{p}(x)}{p!}}\\,dx.}$$"
   ]
  },
  {
   "cell_type": "code",
   "execution_count": 108,
   "metadata": {},
   "outputs": [
    {
     "name": "stdout",
     "output_type": "stream",
     "text": [
      "Rpx_Fn_integrand =\n"
     ]
    },
    {
     "data": {
      "text/latex": [
       "$\\displaystyle \\frac{1}{2} \\, {\\left(2 \\, n_{x} - 2 \\, \\left \\lfloor n_{x} \\right \\rfloor - 1\\right)} {\\left(\\frac{n_{x}}{\\sqrt{n_{x}^{2} + n_{y}^{2} + u^{2}} {\\left(\\frac{\\pi^{4} {\\left(n_{x}^{2} + n_{y}^{2} + u^{2}\\right)}^{2}}{a^{4} k_{m}^{4}} + 1\\right)}} - \\frac{4 \\, \\pi^{4} {\\left(n_{x}^{2} + n_{y}^{2} + u^{2}\\right)}^{\\frac{3}{2}} n_{x}}{a^{4} k_{m}^{4} {\\left(\\frac{\\pi^{4} {\\left(n_{x}^{2} + n_{y}^{2} + u^{2}\\right)}^{2}}{a^{4} k_{m}^{4}} + 1\\right)}^{2}}\\right)}$"
      ],
      "text/plain": [
       "<IPython.core.display.Math object>"
      ]
     },
     "metadata": {},
     "output_type": "display_data"
    }
   ],
   "source": [
    "exec(preparse(\"Fn_diff_x_p = lambda u, n_x, n_y, a, k_m : \" + str(diff(Fn(u, n_x, n_y, a, k_m),n_x,p))))\n",
    "exec(preparse(\"Rpx_Fn_integrand = lambda u, n_x, n_y, a, k_m : \" + str((-1)^(p+1)*Fn_diff_x_p(u, n_x, n_y, a, k_m) * P(x=n_x,p=p)/fact(n=p))))\n",
    "\n",
    "print(\"Rpx_Fn_integrand =\")\n",
    "disp(Rpx_Fn_integrand(u, n_x, n_y, a, k_m))\n",
    "\n",
    "inty_Rpx_Fn_num = lambda u, a, k_m : num_int(lambda n_y : num_int(lambda n_x : Rpx_Fn_integrand(u, n_x, n_y, a, k_m), 0, Infinity, n_x), 0, Infinity, n_y)\n",
    "# inty_Rpx_Fn_num (1,1,1)"
   ]
  },
  {
   "cell_type": "code",
   "execution_count": 109,
   "metadata": {},
   "outputs": [
    {
     "name": "stdout",
     "output_type": "stream",
     "text": [
      "Rpx_Fn_j_integrand =\n"
     ]
    },
    {
     "data": {
      "text/latex": [
       "$\\displaystyle \\frac{1}{2} \\, {\\left(2 \\, v_{x} - 1\\right)} {\\left(\\frac{j_{x} + v_{x}}{\\sqrt{{\\left(j_{x} + v_{x}\\right)}^{2} + n_{y}^{2} + u^{2}} {\\left(\\frac{\\pi^{4} {\\left({\\left(j_{x} + v_{x}\\right)}^{2} + n_{y}^{2} + u^{2}\\right)}^{2}}{a^{4} k_{m}^{4}} + 1\\right)}} - \\frac{4 \\, \\pi^{4} {\\left({\\left(j_{x} + v_{x}\\right)}^{2} + n_{y}^{2} + u^{2}\\right)}^{\\frac{3}{2}} {\\left(j_{x} + v_{x}\\right)}}{a^{4} k_{m}^{4} {\\left(\\frac{\\pi^{4} {\\left({\\left(j_{x} + v_{x}\\right)}^{2} + n_{y}^{2} + u^{2}\\right)}^{2}}{a^{4} k_{m}^{4}} + 1\\right)}^{2}}\\right)}$"
      ],
      "text/plain": [
       "<IPython.core.display.Math object>"
      ]
     },
     "metadata": {},
     "output_type": "display_data"
    },
    {
     "name": "stdout",
     "output_type": "stream",
     "text": [
      "0.00028855983129961966\n"
     ]
    }
   ],
   "source": [
    "exec(preparse(\"Fn_diff_x_p = lambda u, n_x, n_y, a, k_m : \" + str(diff(Fn(u, n_x, n_y, a, k_m),n_x,p))))\n",
    "exec(preparse(\"Rpx_Fn_j_integrand = lambda u, j_x, v_x, n_y, a, k_m : \" + str((-1)^(p+1)*Fn_diff_x_p(u, n_x=j_x+v_x, n_y=n_y, a=a, k_m=k_m) * B(x=v_x,p=p)/fact(n=p))))\n",
    "\n",
    "print(\"Rpx_Fn_j_integrand =\")\n",
    "disp(Rpx_Fn_j_integrand(u, j_x, v_x, n_y, a, k_m))\n",
    "\n",
    "inty_Rpx_Fn_j_num = lambda u, j_x, a, k_m : num_int(lambda n_y : \\\n",
    "                                                    num_int(lambda n_x : \\\n",
    "                                                            Rpx_Fn_j_integrand(u, j_x, v_x, n_y, a, k_m), \\\n",
    "                                                            0, 1, v_x), \\\n",
    "                                                    0, Infinity, n_y)\n",
    "print(inty_Rpx_Fn_j_num (u = 1, j_x = 1, a = 1, k_m = 1))\n",
    "\n",
    "intu_inty_Rpx_Fn_j_num = lambda j_x, a, k_m : num_int(lambda u : \\\n",
    "                                                      inty_Rpx_Fn_j_num (u, j_x, a, k_m), \\\n",
    "                                                      0, Infinity, u, print_tolerance = False)"
   ]
  },
  {
   "cell_type": "code",
   "execution_count": 110,
   "metadata": {},
   "outputs": [
    {
     "data": {
      "text/plain": [
       "-0.00511198153682636"
      ]
     },
     "execution_count": 110,
     "metadata": {},
     "output_type": "execute_result"
    }
   ],
   "source": [
    "exec(preparse(\"G_diff_x_p = lambda n_x, n_y, ak_m : \" + str(diff(G(n_x, n_y, ak_m),n_x,p))))\n",
    "G_diff_x_p(n_x = 1.0, n_y = 1.0, ak_m = 1.0).n()"
   ]
  },
  {
   "cell_type": "code",
   "execution_count": 111,
   "metadata": {},
   "outputs": [],
   "source": [
    "exec(preparse(\"Rpx_G_j_integrand = lambda j_x, v_x, n_y, ak_m : \" + \\\n",
    "              str((-1)^(p+1)*G_diff_x_p(n_x=j_x+v_x, n_y=n_y, ak_m=ak_m) * B(x=v_x,p=p)/fact(n=p))))\n",
    "\n",
    "#print(\"Rpx_G_j_integrand =\")\n",
    "#print(Rpx_G_j_integrand(j_x, v_x, n_y, ak_m))\n",
    "\n",
    "inty_Rpx_G_j_num__ = lambda j_x, ak_m : num_int(lambda n_y : \\\n",
    "                                              num_int(lambda v_x : \\\n",
    "                                                      Rpx_G_j_integrand(j_x, v_x, n_y, ak_m), \\\n",
    "                                                      0, 1, v_x), \\\n",
    "                                              0, Infinity, n_y, print_tolerance=False)\n",
    "\n",
    "inty_Rpx_G_j_num = lambda j_x, ak_m : num_int(lambda v_x : \\\n",
    "                                              num_int(lambda n_y : \\\n",
    "                                                      Rpx_G_j_integrand(j_x, v_x, n_y, ak_m), \\\n",
    "                                                      0, Infinity, n_y), \\\n",
    "                                              0, 1, v_x, print_tolerance=False)\n",
    "\n",
    "\n",
    "\n",
    "inty_Rpx_G_j_numerical__ = lambda j_x, ak_m : numerical_integral(lambda n_y : \\\n",
    "                                              numerical_integral(lambda v_x : \\\n",
    "                                                      Rpx_G_j_integrand(j_x, v_x, n_y, ak_m), \\\n",
    "                                                      0, 1)[0], \\\n",
    "                                              0, Infinity)\n",
    "\n",
    "inty_Rpx_G_j_numerical = lambda j_x, ak_m : numerical_integral(lambda v_x : \\\n",
    "                                              numerical_integral(lambda n_y : \\\n",
    "                                                      Rpx_G_j_integrand(j_x, v_x, n_y, ak_m), \\\n",
    "                                                      0, Infinity)[0], \\\n",
    "                                              0, 1)"
   ]
  },
  {
   "cell_type": "code",
   "execution_count": 112,
   "metadata": {},
   "outputs": [],
   "source": [
    "# intu_inty_Rpx_Fn_j_num (j_x = 1, a = 1, k_m = 1)\n",
    "#tolerance = 1.4682711718525036e-10\n",
    "# 0.0009075537649605833"
   ]
  },
  {
   "cell_type": "code",
   "execution_count": 113,
   "metadata": {},
   "outputs": [],
   "source": [
    "# inty_Rpx_G_j_num__ (j_x = 1, ak_m = 1)\n",
    "# tolerance = 3.240539011216428e-11\n",
    "# 0.0009075538565536652"
   ]
  },
  {
   "cell_type": "code",
   "execution_count": 114,
   "metadata": {},
   "outputs": [],
   "source": [
    "# inty_Rpx_G_j_num (j_x = 1, ak_m = 1)\n",
    "# tolerance = 6.531660275535699e-16\n",
    "# 0.0009075538565049214"
   ]
  },
  {
   "cell_type": "code",
   "execution_count": 115,
   "metadata": {},
   "outputs": [],
   "source": [
    "# inty_Rpx_G_j_numerical__( j_x = 1, ak_m = 1)\n",
    "# (0.0009075538565536651, 3.240538963486121e-11)"
   ]
  },
  {
   "cell_type": "code",
   "execution_count": 116,
   "metadata": {},
   "outputs": [],
   "source": [
    "# inty_Rpx_G_j_numerical( j_x = 1, ak_m = 1)\n",
    "# (0.0009075538566075704, 2.3219957403971827e-16)"
   ]
  },
  {
   "cell_type": "code",
   "execution_count": 117,
   "metadata": {},
   "outputs": [
    {
     "data": {
      "text/latex": [
       "$\\displaystyle \\frac{1}{2} \\, \\int_{a_{x}}^{b_{x}} F\\left(n_{x}, a_{y}\\right)\\,{d n_{x}}$"
      ],
      "text/plain": [
       "<IPython.core.display.Math object>"
      ]
     },
     "metadata": {},
     "output_type": "display_data"
    }
   ],
   "source": [
    "halfy_intx_F = half_summa(integral           (F,(n_x, a_x, b_x)),  n_y, a_y, b_y)\n",
    "display(Math(latex(halfy_intx_F)))"
   ]
  },
  {
   "cell_type": "code",
   "execution_count": 118,
   "metadata": {},
   "outputs": [
    {
     "data": {
      "text/latex": [
       "$\\displaystyle \\frac{1}{2} \\, \\int_{0}^{+\\infty} \\sqrt{n_{x}^{2} + u^{2}} f\\left(\\frac{\\pi \\sqrt{n_{x}^{2} + u^{2}}}{a k_{m}}\\right)\\,{d n_{x}}$"
      ],
      "text/plain": [
       "<IPython.core.display.Math object>"
      ]
     },
     "metadata": {},
     "output_type": "display_data"
    }
   ],
   "source": [
    "halfy_intx_Fu = half_summa(integrate(Fu(u, n_x, n_y, a, k_m),(n_x, 0, Infinity), algorithm=\"sympy\"),  n_y, 0, Infinity)\n",
    "display(Math(latex(halfy_intx_Fu)))"
   ]
  },
  {
   "cell_type": "raw",
   "metadata": {},
   "source": [
    "# too long time\n",
    "halfy_intx_Fn = half_summa(integrate(Fn(u, n_x, n_y, a, k_m),(n_x, 0, Infinity), algorithm=\"sympy\"),  n_y, 0, Infinity)\n",
    "print(\"halfy_intx_F=\", halfy_intx_Fn)\n",
    "display(Math(latex(halfy_intx_Fn)))"
   ]
  },
  {
   "cell_type": "code",
   "execution_count": 119,
   "metadata": {},
   "outputs": [
    {
     "data": {
      "text/latex": [
       "$\\displaystyle \\int_{0}^{+\\infty} \\frac{\\sqrt{n_{y}^{2} + u^{2}}}{2 \\, {\\left(\\frac{\\pi^{4} {\\left(n_{y}^{2} + u^{2}\\right)}^{2}}{a^{4} k_{m}^{4}} + 1\\right)}}\\,{d n_{y}}$"
      ],
      "text/plain": [
       "<IPython.core.display.Math object>"
      ]
     },
     "metadata": {},
     "output_type": "display_data"
    }
   ],
   "source": [
    "disp(inty_halfx_Fn(u, a, k_m))"
   ]
  },
  {
   "cell_type": "code",
   "execution_count": 120,
   "metadata": {},
   "outputs": [],
   "source": [
    "# too long time\n",
    "# Interrupting Giac...\n",
    "halfy_intx_Fn = inty_halfx_Fn(u, a, k_m).subs(n_y == n_x)"
   ]
  },
  {
   "cell_type": "code",
   "execution_count": 121,
   "metadata": {},
   "outputs": [
    {
     "data": {
      "text/latex": [
       "$\\displaystyle \\frac{1}{2} \\, a^{4} k_{m}^{4} \\int_{0}^{+\\infty} \\frac{\\sqrt{n_{x}^{2} + u^{2}}}{a^{4} k_{m}^{4} + \\pi^{4} n_{x}^{4} + 2 \\, \\pi^{4} n_{x}^{2} u^{2} + \\pi^{4} u^{4}}\\,{d n_{x}}$"
      ],
      "text/plain": [
       "<IPython.core.display.Math object>"
      ]
     },
     "metadata": {},
     "output_type": "display_data"
    }
   ],
   "source": [
    "disp(halfy_intx_Fn)"
   ]
  },
  {
   "cell_type": "code",
   "execution_count": 122,
   "metadata": {},
   "outputs": [
    {
     "data": {
      "text/latex": [
       "$\\displaystyle \\frac{1}{4} \\, F\\left(a_{x}, a_{y}\\right)$"
      ],
      "text/plain": [
       "<IPython.core.display.Math object>"
      ]
     },
     "metadata": {},
     "output_type": "display_data"
    }
   ],
   "source": [
    "halfy_halfx_F = half_summa(half_summa(F, n_x, a_x, b_x), n_y, a_y, b_y)\n",
    "display(Math(latex(halfy_halfx_F)))"
   ]
  },
  {
   "cell_type": "code",
   "execution_count": 123,
   "metadata": {},
   "outputs": [
    {
     "data": {
      "text/latex": [
       "$\\displaystyle \\frac{1}{4} \\, u f\\left(\\frac{\\pi u}{a k_{m}}\\right)$"
      ],
      "text/plain": [
       "<IPython.core.display.Math object>"
      ]
     },
     "metadata": {},
     "output_type": "display_data"
    }
   ],
   "source": [
    "halfy_halfx_Fu = half_summa(half_summa(Fu(u, n_x, n_y, a, k_m), n_x, 0, Infinity), n_y, 0, Infinity)\n",
    "display(Math(latex(halfy_halfx_Fu)))"
   ]
  },
  {
   "cell_type": "code",
   "execution_count": 124,
   "metadata": {},
   "outputs": [
    {
     "data": {
      "text/latex": [
       "$\\displaystyle \\frac{u}{4 \\, {\\left(\\frac{\\pi^{4} u^{4}}{a^{4} k_{m}^{4}} + 1\\right)}}$"
      ],
      "text/plain": [
       "<IPython.core.display.Math object>"
      ]
     },
     "metadata": {},
     "output_type": "display_data"
    }
   ],
   "source": [
    "halfy_halfx_Fn = half_summa(half_summa(Fn(u, n_x, n_y, a, k_m), n_x, 0, Infinity), n_y, 0, Infinity)\n",
    "display(Math(latex(halfy_halfx_Fn)))"
   ]
  },
  {
   "cell_type": "code",
   "execution_count": 125,
   "metadata": {},
   "outputs": [
    {
     "data": {
      "text/latex": [
       "$\\displaystyle 0$"
      ],
      "text/plain": [
       "<IPython.core.display.Math object>"
      ]
     },
     "metadata": {},
     "output_type": "display_data"
    }
   ],
   "source": [
    "halfy_sumx_F = half_summa(sum_dfdx_bernoulis (F, n_x, a_x, b_x,p), n_y, a_y, b_y)\n",
    "display(Math(latex(halfy_sumx_F)))"
   ]
  },
  {
   "cell_type": "code",
   "execution_count": 126,
   "metadata": {},
   "outputs": [
    {
     "data": {
      "text/latex": [
       "$\\displaystyle 0$"
      ],
      "text/plain": [
       "<IPython.core.display.Math object>"
      ]
     },
     "metadata": {},
     "output_type": "display_data"
    }
   ],
   "source": [
    "halfy_sumx_Fu = half_summa(sum_dfdx_bernoulis (Fu(u, n_x, n_y, a, k_m), n_x, 0, Infinity,p), n_y, 0, Infinity)\n",
    "display(Math(latex(halfy_sumx_Fu)))"
   ]
  },
  {
   "cell_type": "code",
   "execution_count": 127,
   "metadata": {},
   "outputs": [
    {
     "data": {
      "text/latex": [
       "$\\displaystyle 0$"
      ],
      "text/plain": [
       "<IPython.core.display.Math object>"
      ]
     },
     "metadata": {},
     "output_type": "display_data"
    }
   ],
   "source": [
    "halfy_sumx_Fn = half_summa(sum_dfdx_bernoulis (Fn(u, n_x, n_y, a, k_m), n_x, 0, Infinity,p), n_y, 0, Infinity)\n",
    "display(Math(latex(halfy_sumx_Fn)))"
   ]
  },
  {
   "cell_type": "code",
   "execution_count": 128,
   "metadata": {},
   "outputs": [
    {
     "data": {
      "text/latex": [
       "$\\displaystyle -\\frac{1}{4} \\, \\int_{a_{x}}^{b_{x}} -2 \\, n_{x} \\frac{\\partial}{\\partial n_{x}}F\\left(n_{x}, a_{y}\\right)\\,{d n_{x}} - \\frac{1}{4} \\, \\int_{a_{x}}^{b_{x}} 2 \\, \\left \\lfloor n_{x} \\right \\rfloor \\frac{\\partial}{\\partial n_{x}}F\\left(n_{x}, a_{y}\\right)\\,{d n_{x}} - \\frac{1}{4} \\, \\int_{a_{x}}^{b_{x}} \\frac{\\partial}{\\partial n_{x}}F\\left(n_{x}, a_{y}\\right)\\,{d n_{x}}$"
      ],
      "text/plain": [
       "<IPython.core.display.Math object>"
      ]
     },
     "metadata": {},
     "output_type": "display_data"
    }
   ],
   "source": [
    "halfy_Rpx_F = half_summa(Rpx_F, n_y, a_y, b_y)\n",
    "display(Math(latex(halfy_Rpx_F)))"
   ]
  },
  {
   "cell_type": "raw",
   "metadata": {},
   "source": [
    "#too long time\n",
    "halfy_Rpx_Fu = half_summa(Rpx_Fu, n_y, 0, Infinity)\n",
    "display(Math(latex(halfy_Rpx_Fu)))"
   ]
  },
  {
   "cell_type": "raw",
   "metadata": {},
   "source": [
    "assume(u>0)\n",
    "half_R_p_Fn = half_summa(R_p_Fn, n_y, 0, Infinity)\n",
    "display(Math(latex(half_R_p_Fn)))"
   ]
  },
  {
   "cell_type": "code",
   "execution_count": 129,
   "metadata": {},
   "outputs": [
    {
     "data": {
      "text/latex": [
       "$\\displaystyle 0$"
      ],
      "text/plain": [
       "<IPython.core.display.Math object>"
      ]
     },
     "metadata": {},
     "output_type": "display_data"
    }
   ],
   "source": [
    "sumy_intx_F = sum_dfdx_bernoulis(integrate           (F,(n_x, a_x, b_x)),  n_y, a_y, b_y, p)\n",
    "display(Math(latex(sumy_intx_F)))"
   ]
  },
  {
   "cell_type": "code",
   "execution_count": 130,
   "metadata": {},
   "outputs": [
    {
     "data": {
      "text/latex": [
       "$\\displaystyle 0$"
      ],
      "text/plain": [
       "<IPython.core.display.Math object>"
      ]
     },
     "metadata": {},
     "output_type": "display_data"
    }
   ],
   "source": [
    "sumy_intx_Fu = sum_dfdx_bernoulis(integrate(Fu(u, n_x, n_y, a, k_m),(n_x, 0, Infinity), algorithm=\"sympy\"),  n_y, 0, Infinity, p)\n",
    "display(Math(latex(sumy_intx_Fu)))"
   ]
  },
  {
   "cell_type": "raw",
   "metadata": {},
   "source": [
    "#try:\n",
    "sum_int_Fn = sum_dfdx_bernoulis(integrate(Fn(u, n_x, n_y, a, k_m),(n_x, 0, Infinity), algorithm=\"sympy\"),  n_y, 0, Infinity, p)\n",
    "print(\"sum_int_Fn=\",sum_int_Fn)\n",
    "display(Math(latex(sum_int)))\n",
    "#except Exception as ex:\n",
    "#    print(ex)"
   ]
  },
  {
   "cell_type": "code",
   "execution_count": 131,
   "metadata": {},
   "outputs": [
    {
     "data": {
      "text/latex": [
       "$\\displaystyle 0$"
      ],
      "text/plain": [
       "<IPython.core.display.Math object>"
      ]
     },
     "metadata": {},
     "output_type": "display_data"
    }
   ],
   "source": [
    "sumy_halfx_F = sum_dfdx_bernoulis(half_summa (F, n_x, a_x, b_x), n_y, a_y, b_y, p)\n",
    "display(Math(latex(sumy_halfx_F)))"
   ]
  },
  {
   "cell_type": "code",
   "execution_count": 132,
   "metadata": {},
   "outputs": [
    {
     "data": {
      "text/latex": [
       "$\\displaystyle 0$"
      ],
      "text/plain": [
       "<IPython.core.display.Math object>"
      ]
     },
     "metadata": {},
     "output_type": "display_data"
    }
   ],
   "source": [
    "sumy_halfx_Fu = sum_dfdx_bernoulis(half_summa (Fu(u, n_x, n_y, a, k_m), n_x, 0, Infinity), n_y, 0, Infinity, p)\n",
    "display(Math(latex(sumy_halfx_Fu)))"
   ]
  },
  {
   "cell_type": "code",
   "execution_count": 133,
   "metadata": {},
   "outputs": [
    {
     "data": {
      "text/latex": [
       "$\\displaystyle 0$"
      ],
      "text/plain": [
       "<IPython.core.display.Math object>"
      ]
     },
     "metadata": {},
     "output_type": "display_data"
    }
   ],
   "source": [
    "sumy_halfx_Fn = sum_dfdx_bernoulis(half_summa (Fn(u, n_x, n_y, a, k_m), n_x, 0, Infinity), n_y, 0, Infinity, p)\n",
    "display(Math(latex(sumy_halfx_Fn)))"
   ]
  },
  {
   "cell_type": "code",
   "execution_count": 134,
   "metadata": {},
   "outputs": [
    {
     "data": {
      "text/latex": [
       "$\\displaystyle 0$"
      ],
      "text/plain": [
       "<IPython.core.display.Math object>"
      ]
     },
     "metadata": {},
     "output_type": "display_data"
    }
   ],
   "source": [
    "sumy_sumx_F = sum_dfdx_bernoulis(sum_dfdx_bernoulis (F, n_x, a_x, b_x,p), n_y, a_y, b_y, p)\n",
    "display(Math(latex(sumy_sumx_F)))"
   ]
  },
  {
   "cell_type": "code",
   "execution_count": 135,
   "metadata": {},
   "outputs": [
    {
     "data": {
      "text/latex": [
       "$\\displaystyle 0$"
      ],
      "text/plain": [
       "<IPython.core.display.Math object>"
      ]
     },
     "metadata": {},
     "output_type": "display_data"
    }
   ],
   "source": [
    "sumy_sumx_Fu = lambda u, a, k_m : sum_dfdx_bernoulis(sum_dfdx_bernoulis (Fu(u, n_x, n_y, a, k_m), n_x, 0, Infinity, p), n_y, 0, Infinity, p)\n",
    "display(Math(latex(sumy_sumx_Fu(u, a, k_m))))"
   ]
  },
  {
   "cell_type": "code",
   "execution_count": 136,
   "metadata": {},
   "outputs": [
    {
     "data": {
      "text/latex": [
       "$\\displaystyle 0$"
      ],
      "text/plain": [
       "<IPython.core.display.Math object>"
      ]
     },
     "metadata": {},
     "output_type": "display_data"
    }
   ],
   "source": [
    "sumy_sumx_Fn = lambda u, a, k_m : sum_dfdx_bernoulis(sum_dfdx_bernoulis (Fn(u, n_x, n_y, a, k_m), n_x, 0, Infinity, p), n_y, 0, Infinity, p)\n",
    "display(Math(latex(sumy_sumx_Fn(u, a, k_m))))"
   ]
  },
  {
   "cell_type": "code",
   "execution_count": 137,
   "metadata": {},
   "outputs": [
    {
     "data": {
      "text/latex": [
       "$\\displaystyle 0$"
      ],
      "text/plain": [
       "<IPython.core.display.Math object>"
      ]
     },
     "metadata": {},
     "output_type": "display_data"
    }
   ],
   "source": [
    "sumy_Rpx_F = sum_dfdx_bernoulis(Rpx_F, n_y, a_y, b_y, p)\n",
    "display(Math(latex(sumy_Rpx_F)))"
   ]
  },
  {
   "cell_type": "code",
   "execution_count": 138,
   "metadata": {},
   "outputs": [
    {
     "name": "stdout",
     "output_type": "stream",
     "text": [
      "halfx_F=\n"
     ]
    },
    {
     "data": {
      "text/latex": [
       "$\\displaystyle \\frac{1}{2} \\, F\\left(a_{x}, n_{y}\\right)$"
      ],
      "text/plain": [
       "<IPython.core.display.Math object>"
      ]
     },
     "metadata": {},
     "output_type": "display_data"
    },
    {
     "name": "stdout",
     "output_type": "stream",
     "text": [
      "halfx_F_diff_y_p=\n"
     ]
    },
    {
     "data": {
      "text/latex": [
       "$\\displaystyle \\frac{1}{2} \\, \\frac{\\partial}{\\partial n_{y}}F\\left(a_{x}, n_{y}\\right)$"
      ],
      "text/plain": [
       "<IPython.core.display.Math object>"
      ]
     },
     "metadata": {},
     "output_type": "display_data"
    },
    {
     "name": "stdout",
     "output_type": "stream",
     "text": [
      "Rpy_halfx_F=\n"
     ]
    },
    {
     "data": {
      "text/latex": [
       "$\\displaystyle \\int_{a_{y}}^{b_{y}} \\frac{1}{4} \\, {\\left(2 \\, n_{y} - 2 \\, \\left \\lfloor n_{y} \\right \\rfloor - 1\\right)} \\frac{\\partial}{\\partial n_{y}}F\\left(a_{x}, n_{y}\\right)\\,{d n_{y}}$"
      ],
      "text/plain": [
       "<IPython.core.display.Math object>"
      ]
     },
     "metadata": {},
     "output_type": "display_data"
    }
   ],
   "source": [
    "halfx_F = half_summa (F, n_x, a_x, b_x)\n",
    "print(\"halfx_F=\")\n",
    "display(Math(latex(halfx_F)))\n",
    "\n",
    "halfx_F_diff_y_p = halfx_F.diff(n_y,p)\n",
    "print(\"halfx_F_diff_y_p=\")\n",
    "display(Math(latex(halfx_F_diff_y_p)))\n",
    "\n",
    "Rpy_halfx_F = euler_maclaurin_R_p(halfx_F, n_y, a_y, b_y, p, f_diff_symb_p=halfx_F_diff_y_p)\n",
    "print(\"Rpy_halfx_F=\")\n",
    "display(Math(latex(Rpy_halfx_F)))"
   ]
  },
  {
   "cell_type": "code",
   "execution_count": 139,
   "metadata": {},
   "outputs": [
    {
     "name": "stdout",
     "output_type": "stream",
     "text": [
      "halfx_Fu=\n"
     ]
    },
    {
     "data": {
      "text/latex": [
       "$\\displaystyle \\frac{1}{2} \\, \\sqrt{n_{y}^{2} + u^{2}} f\\left(\\frac{\\pi \\sqrt{n_{y}^{2} + u^{2}}}{a k_{m}}\\right)$"
      ],
      "text/plain": [
       "<IPython.core.display.Math object>"
      ]
     },
     "metadata": {},
     "output_type": "display_data"
    },
    {
     "name": "stdout",
     "output_type": "stream",
     "text": [
      "halfx_Fu_diff_y_p=\n"
     ]
    },
    {
     "data": {
      "text/latex": [
       "$\\displaystyle \\frac{n_{y} f\\left(\\frac{\\pi \\sqrt{n_{y}^{2} + u^{2}}}{a k_{m}}\\right)}{2 \\, \\sqrt{n_{y}^{2} + u^{2}}} + \\frac{\\pi n_{y} \\mathrm{D}_{0}\\left(f\\right)\\left(\\frac{\\pi \\sqrt{n_{y}^{2} + u^{2}}}{a k_{m}}\\right)}{2 \\, a k_{m}}$"
      ],
      "text/plain": [
       "<IPython.core.display.Math object>"
      ]
     },
     "metadata": {},
     "output_type": "display_data"
    },
    {
     "name": "stdout",
     "output_type": "stream",
     "text": [
      "Rpy_half_Fu=\n"
     ]
    },
    {
     "data": {
      "text/latex": [
       "$\\displaystyle \\int_{0}^{+\\infty} \\frac{1}{4} \\, {\\left(\\frac{n_{y} f\\left(\\frac{\\pi \\sqrt{n_{y}^{2} + u^{2}}}{a k_{m}}\\right)}{\\sqrt{n_{y}^{2} + u^{2}}} + \\frac{\\pi n_{y} \\mathrm{D}_{0}\\left(f\\right)\\left(\\frac{\\pi \\sqrt{n_{y}^{2} + u^{2}}}{a k_{m}}\\right)}{a k_{m}}\\right)} {\\left(2 \\, n_{y} - 2 \\, \\left \\lfloor n_{y} \\right \\rfloor - 1\\right)}\\,{d n_{y}}$"
      ],
      "text/plain": [
       "<IPython.core.display.Math object>"
      ]
     },
     "metadata": {},
     "output_type": "display_data"
    }
   ],
   "source": [
    "halfx_Fu = half_summa (Fu(u, n_x, n_y, a, k_m), n_x, 0, Infinity)\n",
    "print(\"halfx_Fu=\")\n",
    "display(Math(latex(halfx_Fu)))\n",
    "\n",
    "halfx_Fu_diff_y_p = halfx_Fu.diff(n_y,p)\n",
    "print(\"halfx_Fu_diff_y_p=\")\n",
    "display(Math(latex(halfx_Fu_diff_y_p)))\n",
    "\n",
    "Rpy_halfx_Fu = euler_maclaurin_R_p(halfx_Fu, n_y, 0, Infinity, p, f_diff_symb_p=halfx_Fu_diff_y_p)\n",
    "print(\"Rpy_half_Fu=\")\n",
    "display(Math(latex(Rpy_halfx_Fu)))"
   ]
  },
  {
   "cell_type": "code",
   "execution_count": 140,
   "metadata": {},
   "outputs": [
    {
     "name": "stdout",
     "output_type": "stream",
     "text": [
      "halfx_Fn=\n"
     ]
    },
    {
     "data": {
      "text/latex": [
       "$\\displaystyle \\frac{\\sqrt{n_{y}^{2} + u^{2}}}{2 \\, {\\left(\\frac{\\pi^{4} {\\left(n_{y}^{2} + u^{2}\\right)}^{2}}{a^{4} k_{m}^{4}} + 1\\right)}}$"
      ],
      "text/plain": [
       "<IPython.core.display.Math object>"
      ]
     },
     "metadata": {},
     "output_type": "display_data"
    },
    {
     "name": "stdout",
     "output_type": "stream",
     "text": [
      "halfx_Fn_diff_y_p=\n"
     ]
    },
    {
     "data": {
      "text/latex": [
       "$\\displaystyle \\frac{n_{y}}{2 \\, \\sqrt{n_{y}^{2} + u^{2}} {\\left(\\frac{\\pi^{4} {\\left(n_{y}^{2} + u^{2}\\right)}^{2}}{a^{4} k_{m}^{4}} + 1\\right)}} - \\frac{2 \\, \\pi^{4} {\\left(n_{y}^{2} + u^{2}\\right)}^{\\frac{3}{2}} n_{y}}{a^{4} k_{m}^{4} {\\left(\\frac{\\pi^{4} {\\left(n_{y}^{2} + u^{2}\\right)}^{2}}{a^{4} k_{m}^{4}} + 1\\right)}^{2}}$"
      ],
      "text/plain": [
       "<IPython.core.display.Math object>"
      ]
     },
     "metadata": {},
     "output_type": "display_data"
    },
    {
     "name": "stdout",
     "output_type": "stream",
     "text": [
      "Rpy_half_Fn=\n"
     ]
    },
    {
     "data": {
      "text/latex": [
       "$\\displaystyle \\int_{0}^{+\\infty} \\frac{1}{4} \\, {\\left(2 \\, n_{y} - 2 \\, \\left \\lfloor n_{y} \\right \\rfloor - 1\\right)} {\\left(\\frac{n_{y}}{\\sqrt{n_{y}^{2} + u^{2}} {\\left(\\frac{\\pi^{4} {\\left(n_{y}^{2} + u^{2}\\right)}^{2}}{a^{4} k_{m}^{4}} + 1\\right)}} - \\frac{4 \\, \\pi^{4} {\\left(n_{y}^{2} + u^{2}\\right)}^{\\frac{3}{2}} n_{y}}{a^{4} k_{m}^{4} {\\left(\\frac{\\pi^{4} {\\left(n_{y}^{2} + u^{2}\\right)}^{2}}{a^{4} k_{m}^{4}} + 1\\right)}^{2}}\\right)}\\,{d n_{y}}$"
      ],
      "text/plain": [
       "<IPython.core.display.Math object>"
      ]
     },
     "metadata": {},
     "output_type": "display_data"
    }
   ],
   "source": [
    "halfx_Fn = half_summa (Fn(u, n_x, n_y, a, k_m), n_x, 0, Infinity)\n",
    "print(\"halfx_Fn=\")\n",
    "display(Math(latex(halfx_Fn)))\n",
    "\n",
    "halfx_Fn_diff_y_p = halfx_Fn.diff(n_y,p)\n",
    "print(\"halfx_Fn_diff_y_p=\")\n",
    "display(Math(latex(halfx_Fn_diff_y_p)))\n",
    "\n",
    "Rpy_halfx_Fn = euler_maclaurin_R_p(halfx_Fn, n_y, 0, Infinity, p, f_diff_symb_p=halfx_Fn_diff_y_p)\n",
    "print(\"Rpy_half_Fn=\")\n",
    "display(Math(latex(Rpy_halfx_Fn)))"
   ]
  },
  {
   "cell_type": "code",
   "execution_count": 141,
   "metadata": {},
   "outputs": [
    {
     "data": {
      "text/latex": [
       "$\\displaystyle 0$"
      ],
      "text/plain": [
       "<IPython.core.display.Math object>"
      ]
     },
     "metadata": {},
     "output_type": "display_data"
    }
   ],
   "source": [
    "sumx_F = sum_dfdx_bernoulis (F, n_x, a_x, b_x,p)\n",
    "display(Math(latex(sumx_F)))"
   ]
  },
  {
   "cell_type": "code",
   "execution_count": 142,
   "metadata": {},
   "outputs": [
    {
     "data": {
      "text/latex": [
       "$\\displaystyle 0$"
      ],
      "text/plain": [
       "<IPython.core.display.Math object>"
      ]
     },
     "metadata": {},
     "output_type": "display_data"
    }
   ],
   "source": [
    "sumy_F = sum_dfdx_bernoulis (F, n_y, a_y, b_y,p)\n",
    "display(Math(latex(sumy_F)))"
   ]
  },
  {
   "cell_type": "code",
   "execution_count": 143,
   "metadata": {},
   "outputs": [
    {
     "data": {
      "text/latex": [
       "$\\displaystyle \\int_{a_{y}}^{b_{y}} 0\\,{d n_{y}}$"
      ],
      "text/plain": [
       "<IPython.core.display.Math object>"
      ]
     },
     "metadata": {},
     "output_type": "display_data"
    }
   ],
   "source": [
    "sumx_F_diff_y_p = diff(sumx_F, n_y, p)\n",
    "Rpy_sumx_F = euler_maclaurin_R_p(sumx_F, n_y, a_y, b_y, p, f_diff_symb_p=sumx_F_diff_y_p)\n",
    "display(Math(latex(Rpy_sumx_F)))"
   ]
  },
  {
   "cell_type": "code",
   "execution_count": 144,
   "metadata": {},
   "outputs": [
    {
     "name": "stdout",
     "output_type": "stream",
     "text": [
      "sumx_Fu=\n"
     ]
    },
    {
     "data": {
      "text/latex": [
       "$\\displaystyle 0$"
      ],
      "text/plain": [
       "<IPython.core.display.Math object>"
      ]
     },
     "metadata": {},
     "output_type": "display_data"
    },
    {
     "data": {
      "text/latex": [
       "$\\displaystyle \\int_{0}^{+\\infty} 0\\,{d n_{y}}$"
      ],
      "text/plain": [
       "<IPython.core.display.Math object>"
      ]
     },
     "metadata": {},
     "output_type": "display_data"
    }
   ],
   "source": [
    "sumx_Fu = sum_dfdx_bernoulis (Fu(u, n_x, n_y, a, k_m), n_x, 0, Infinity, p)\n",
    "print(\"sumx_Fu=\")\n",
    "display(Math(latex(sumx_Fu)))\n",
    "\n",
    "sumx_Fu_diff_y_p = diff(sumx_Fu,n_y,p)\n",
    "\n",
    "Rpy_sumx_Fu = euler_maclaurin_R_p(sumx_Fu, n_y, 0, Infinity, p, f_diff_symb_p=sumx_Fu_diff_y_p)\n",
    "display(Math(latex(Rpy_sumx_Fu)))"
   ]
  },
  {
   "cell_type": "code",
   "execution_count": 145,
   "metadata": {},
   "outputs": [
    {
     "name": "stdout",
     "output_type": "stream",
     "text": [
      "sumx_Fn=\n"
     ]
    },
    {
     "data": {
      "text/latex": [
       "$\\displaystyle 0$"
      ],
      "text/plain": [
       "<IPython.core.display.Math object>"
      ]
     },
     "metadata": {},
     "output_type": "display_data"
    },
    {
     "data": {
      "text/latex": [
       "$\\displaystyle \\int_{0}^{+\\infty} 0\\,{d n_{y}}$"
      ],
      "text/plain": [
       "<IPython.core.display.Math object>"
      ]
     },
     "metadata": {},
     "output_type": "display_data"
    }
   ],
   "source": [
    "sumx_Fn = sum_dfdx_bernoulis (Fn(u, n_x, n_y, a, k_m), n_x, 0, Infinity, p)\n",
    "print(\"sumx_Fn=\")\n",
    "display(Math(latex(sumx_Fn)))\n",
    "\n",
    "sumx_Fn_diff_y_p = diff(sumx_Fn,n_y,p)\n",
    "\n",
    "Rpy_sumx_Fn = euler_maclaurin_R_p(sumx_Fn, n_y, 0, Infinity, p, f_diff_symb_p=sumx_Fn_diff_y_p)\n",
    "display(Math(latex(Rpy_sumx_Fn)))"
   ]
  },
  {
   "cell_type": "code",
   "execution_count": 146,
   "metadata": {},
   "outputs": [
    {
     "data": {
      "text/latex": [
       "$\\displaystyle \\int_{a_{x}}^{b_{x}} \\frac{1}{2} \\, {\\left(2 \\, n_{x} - 2 \\, \\left \\lfloor n_{x} \\right \\rfloor - 1\\right)} \\frac{\\partial}{\\partial n_{x}}F\\left(n_{x}, n_{y}\\right)\\,{d n_{x}}$"
      ],
      "text/plain": [
       "<IPython.core.display.Math object>"
      ]
     },
     "metadata": {},
     "output_type": "display_data"
    }
   ],
   "source": [
    "disp(Rpx_F)"
   ]
  },
  {
   "cell_type": "code",
   "execution_count": 147,
   "metadata": {},
   "outputs": [
    {
     "data": {
      "text/latex": [
       "$\\displaystyle \\int_{a_{x}}^{b_{x}} \\frac{1}{2} \\, {\\left(2 \\, n_{x} - 2 \\, \\left \\lfloor n_{x} \\right \\rfloor - 1\\right)} \\frac{\\partial^{2}}{\\partial n_{x}\\partial n_{y}}F\\left(n_{x}, n_{y}\\right)\\,{d n_{x}}$"
      ],
      "text/plain": [
       "<IPython.core.display.Math object>"
      ]
     },
     "metadata": {},
     "output_type": "display_data"
    }
   ],
   "source": [
    "Rpx_F_diff_y_p = Rpx_F.diff(n_y,p)\n",
    "disp(Rpx_F_diff_y_p)"
   ]
  },
  {
   "cell_type": "code",
   "execution_count": 148,
   "metadata": {},
   "outputs": [
    {
     "data": {
      "text/latex": [
       "$\\displaystyle \\int_{a_{y}}^{b_{y}} \\frac{1}{2} \\, {\\left(2 \\, n_{y} - 2 \\, \\left \\lfloor n_{y} \\right \\rfloor - 1\\right)} \\int_{a_{x}}^{b_{x}} \\frac{1}{2} \\, {\\left(2 \\, n_{x} - 2 \\, \\left \\lfloor n_{x} \\right \\rfloor - 1\\right)} \\frac{\\partial^{2}}{\\partial n_{x}\\partial n_{y}}F\\left(n_{x}, n_{y}\\right)\\,{d n_{x}}\\,{d n_{y}}$"
      ],
      "text/plain": [
       "<IPython.core.display.Math object>"
      ]
     },
     "metadata": {},
     "output_type": "display_data"
    }
   ],
   "source": [
    "Rpy_Rpx_F = euler_maclaurin_R_p(Rpx_F, n_y, a_y, b_y, p, f_diff_symb_p=Rpx_F_diff_y_p)\n",
    "disp(Rpy_Rpx_F)"
   ]
  },
  {
   "cell_type": "code",
   "execution_count": 149,
   "metadata": {},
   "outputs": [
    {
     "data": {
      "text/latex": [
       "$\\displaystyle \\int_{a_{y}}^{b_{y}} \\frac{1}{2} \\, {\\left(2 \\, n_{y} - 2 \\, \\left \\lfloor n_{y} \\right \\rfloor - 1\\right)} \\int_{a_{x}}^{b_{x}} \\frac{1}{2} \\, {\\left(2 \\, n_{x} - 2 \\, \\left \\lfloor n_{x} \\right \\rfloor - 1\\right)} \\frac{\\partial^{2}}{\\partial n_{x}\\partial n_{y}}F\\left(n_{x}, n_{y}\\right)\\,{d n_{x}}\\,{d n_{y}}$"
      ],
      "text/plain": [
       "<IPython.core.display.Math object>"
      ]
     },
     "metadata": {},
     "output_type": "display_data"
    }
   ],
   "source": [
    "Rpy_Rpx__F = euler_maclaurin_R_p_euler_maclaurin_R_p(F, n_x, a_x, b_x,    n_y, a_y, b_y, p, f_diff_x_p_diff_y_p=None)\n",
    "display(Math(latex(Rpy_Rpx__F)))"
   ]
  },
  {
   "cell_type": "code",
   "execution_count": 150,
   "metadata": {},
   "outputs": [
    {
     "data": {
      "text/latex": [
       "$\\displaystyle {\\sum_{j_{y}=a_{y}}^{b_{y} - 1} \\int_{0}^{1} \\frac{1}{2} \\, {\\left(2 \\, v_{y} - 1\\right)} {\\sum_{j_{x}=a_{x}}^{b_{x} - 1} \\int_{0}^{1} \\frac{1}{2} \\, {\\left(2 \\, v_{x} - 1\\right)} \\mathrm{D}_{0, 1}\\left(F\\right)\\left(j_{x} + v_{x}, j_{y} + v_{y}\\right)\\,{d v_{x}}}\\,{d v_{y}}}$"
      ],
      "text/plain": [
       "<IPython.core.display.Math object>"
      ]
     },
     "metadata": {},
     "output_type": "display_data"
    }
   ],
   "source": [
    "use_int_R_p_j=True\n",
    "change_R_p_order=True\n",
    "\n",
    "Rpy_Rpx_j_F = euler_maclaurin_R_p_euler_maclaurin_R_p(F, n_x, a_x, b_x,    n_y, a_y, b_y, p, f_diff_x_p_diff_y_p=None)\n",
    "display(Math(latex(Rpy_Rpx_j_F)))"
   ]
  },
  {
   "cell_type": "code",
   "execution_count": 151,
   "metadata": {},
   "outputs": [
    {
     "data": {
      "text/latex": [
       "$\\displaystyle \\int_{0}^{+\\infty} \\frac{1}{2} \\, {\\left(2 \\, n_{x} - 2 \\, \\left \\lfloor n_{x} \\right \\rfloor - 1\\right)} {\\left(\\frac{n_{x}}{\\sqrt{n_{x}^{2} + n_{y}^{2} + u^{2}} {\\left(\\frac{\\pi^{4} {\\left(n_{x}^{2} + n_{y}^{2} + u^{2}\\right)}^{2}}{a^{4} k_{m}^{4}} + 1\\right)}} - \\frac{4 \\, \\pi^{4} {\\left(n_{x}^{2} + n_{y}^{2} + u^{2}\\right)}^{\\frac{3}{2}} n_{x}}{a^{4} k_{m}^{4} {\\left(\\frac{\\pi^{4} {\\left(n_{x}^{2} + n_{y}^{2} + u^{2}\\right)}^{2}}{a^{4} k_{m}^{4}} + 1\\right)}^{2}}\\right)}\\,{d n_{x}}$"
      ],
      "text/plain": [
       "<IPython.core.display.Math object>"
      ]
     },
     "metadata": {},
     "output_type": "display_data"
    }
   ],
   "source": [
    "disp(Rpx_Fn)"
   ]
  },
  {
   "cell_type": "code",
   "execution_count": 152,
   "metadata": {},
   "outputs": [
    {
     "data": {
      "text/latex": [
       "$\\displaystyle -\\frac{n_{x} n_{y}}{{\\left(n_{x}^{2} + n_{y}^{2} + u^{2}\\right)}^{\\frac{3}{2}} {\\left(\\frac{\\pi^{4} {\\left(n_{x}^{2} + n_{y}^{2} + u^{2}\\right)}^{2}}{a^{4} k_{m}^{4}} + 1\\right)}} - \\frac{16 \\, \\pi^{4} \\sqrt{n_{x}^{2} + n_{y}^{2} + u^{2}} n_{x} n_{y}}{a^{4} k_{m}^{4} {\\left(\\frac{\\pi^{4} {\\left(n_{x}^{2} + n_{y}^{2} + u^{2}\\right)}^{2}}{a^{4} k_{m}^{4}} + 1\\right)}^{2}} + \\frac{32 \\, \\pi^{8} {\\left(n_{x}^{2} + n_{y}^{2} + u^{2}\\right)}^{\\frac{5}{2}} n_{x} n_{y}}{a^{8} k_{m}^{8} {\\left(\\frac{\\pi^{4} {\\left(n_{x}^{2} + n_{y}^{2} + u^{2}\\right)}^{2}}{a^{4} k_{m}^{4}} + 1\\right)}^{3}}$"
      ],
      "text/plain": [
       "<IPython.core.display.Math object>"
      ]
     },
     "metadata": {},
     "output_type": "display_data"
    }
   ],
   "source": [
    "Fn_diff_x_p_diff_y_p_ = Fn(u, n_x, n_y, a, k_m).diff(n_x, p).diff(n_y,p)\n",
    "disp(Fn_diff_x_p_diff_y_p_)"
   ]
  },
  {
   "cell_type": "markdown",
   "metadata": {},
   "source": [
    "$${\\displaystyle P_{k}(x)=B_{k}(x-\\lfloor x\\rfloor ),}$$\n",
    "\n",
    "$${\\displaystyle R_{p}=(-1)^{p+1}\\int _{a}^{b}f^{(p)}(x){\\frac {P_{p}(x)}{p!}}\\,dx.}$$"
   ]
  },
  {
   "cell_type": "code",
   "execution_count": 153,
   "metadata": {},
   "outputs": [
    {
     "name": "stdout",
     "output_type": "stream",
     "text": [
      "Rpy_Rpx_Fn_integrand =\n"
     ]
    },
    {
     "data": {
      "text/latex": [
       "$\\displaystyle -\\frac{1}{4} \\, {\\left(2 \\, n_{x} - 2 \\, \\left \\lfloor n_{x} \\right \\rfloor - 1\\right)} {\\left(2 \\, n_{y} - 2 \\, \\left \\lfloor n_{y} \\right \\rfloor - 1\\right)} {\\left(\\frac{n_{x} n_{y}}{{\\left(n_{x}^{2} + n_{y}^{2} + u^{2}\\right)}^{\\frac{3}{2}} {\\left(\\frac{\\pi^{4} {\\left(n_{x}^{2} + n_{y}^{2} + u^{2}\\right)}^{2}}{a^{4} k_{m}^{4}} + 1\\right)}} + \\frac{16 \\, \\pi^{4} \\sqrt{n_{x}^{2} + n_{y}^{2} + u^{2}} n_{x} n_{y}}{a^{4} k_{m}^{4} {\\left(\\frac{\\pi^{4} {\\left(n_{x}^{2} + n_{y}^{2} + u^{2}\\right)}^{2}}{a^{4} k_{m}^{4}} + 1\\right)}^{2}} - \\frac{32 \\, \\pi^{8} {\\left(n_{x}^{2} + n_{y}^{2} + u^{2}\\right)}^{\\frac{5}{2}} n_{x} n_{y}}{a^{8} k_{m}^{8} {\\left(\\frac{\\pi^{4} {\\left(n_{x}^{2} + n_{y}^{2} + u^{2}\\right)}^{2}}{a^{4} k_{m}^{4}} + 1\\right)}^{3}}\\right)}$"
      ],
      "text/plain": [
       "<IPython.core.display.Math object>"
      ]
     },
     "metadata": {},
     "output_type": "display_data"
    }
   ],
   "source": [
    "exec(preparse(\"Fn_diff_x_p_diff_y_p = lambda u, n_x, n_y, a, k_m : \" + str(Fn_diff_x_p_diff_y_p_)))\n",
    "exec(preparse(\"Rpy_Rpx_Fn_integrand = lambda u, n_x, n_y, a, k_m : \" + str(\n",
    "                                                   (-1)^(p+1)*(-1)^(p+1) \\\n",
    "                                                 * Fn_diff_x_p_diff_y_p(u, n_x, n_y, a, k_m) \\\n",
    "                                                 * (P(x=n_y,p=p)/fact(n=p)) \\\n",
    "                                                 * (P(x=n_x,p=p)/fact(n=p)))))\n",
    "\n",
    "print(\"Rpy_Rpx_Fn_integrand =\")\n",
    "disp(Rpy_Rpx_Fn_integrand(u, n_x, n_y, a, k_m))\n",
    "\n",
    "Rpy_Rpx_Fn_num = lambda u, a, k_m : num_int(lambda n_y : num_int(lambda n_x : Rpy_Rpx_Fn_integrand(u, n_x, n_y, a, k_m), 0, Infinity, n_x), 0, Infinity, n_y)\n",
    "\n",
    "# too long\n",
    "# The maximum number of subdivisions (50) has been achieved.\n",
    "# The integral is probably divergent, or slowly convergent.\n",
    "# Rpy_Rpx_Fn_num (1,1,1)"
   ]
  },
  {
   "cell_type": "code",
   "execution_count": 154,
   "metadata": {},
   "outputs": [
    {
     "name": "stdout",
     "output_type": "stream",
     "text": [
      "Rpy_Rpx_Fn_j_integrand =\n"
     ]
    },
    {
     "data": {
      "text/latex": [
       "$\\displaystyle -\\frac{1}{4} \\, {\\left(2 \\, v_{x} - 1\\right)} {\\left(2 \\, v_{y} - 1\\right)} {\\left(\\frac{{\\left(j_{x} + v_{x}\\right)} {\\left(j_{y} + v_{y}\\right)}}{{\\left({\\left(j_{x} + v_{x}\\right)}^{2} + {\\left(j_{y} + v_{y}\\right)}^{2} + u^{2}\\right)}^{\\frac{3}{2}} {\\left(\\frac{\\pi^{4} {\\left({\\left(j_{x} + v_{x}\\right)}^{2} + {\\left(j_{y} + v_{y}\\right)}^{2} + u^{2}\\right)}^{2}}{a^{4} k_{m}^{4}} + 1\\right)}} + \\frac{16 \\, \\pi^{4} \\sqrt{{\\left(j_{x} + v_{x}\\right)}^{2} + {\\left(j_{y} + v_{y}\\right)}^{2} + u^{2}} {\\left(j_{x} + v_{x}\\right)} {\\left(j_{y} + v_{y}\\right)}}{a^{4} k_{m}^{4} {\\left(\\frac{\\pi^{4} {\\left({\\left(j_{x} + v_{x}\\right)}^{2} + {\\left(j_{y} + v_{y}\\right)}^{2} + u^{2}\\right)}^{2}}{a^{4} k_{m}^{4}} + 1\\right)}^{2}} - \\frac{32 \\, \\pi^{8} {\\left({\\left(j_{x} + v_{x}\\right)}^{2} + {\\left(j_{y} + v_{y}\\right)}^{2} + u^{2}\\right)}^{\\frac{5}{2}} {\\left(j_{x} + v_{x}\\right)} {\\left(j_{y} + v_{y}\\right)}}{a^{8} k_{m}^{8} {\\left(\\frac{\\pi^{4} {\\left({\\left(j_{x} + v_{x}\\right)}^{2} + {\\left(j_{y} + v_{y}\\right)}^{2} + u^{2}\\right)}^{2}}{a^{4} k_{m}^{4}} + 1\\right)}^{3}}\\right)}$"
      ],
      "text/plain": [
       "<IPython.core.display.Math object>"
      ]
     },
     "metadata": {},
     "output_type": "display_data"
    }
   ],
   "source": [
    "exec(preparse(\"Rpy_Rpx_Fn_j_integrand = lambda u, j_x, j_y, v_x, v_y, a, k_m : \" + str(\n",
    "                                    (-1)^(p+1)*(-1)^(p+1) \\\n",
    "                                    * Fn_diff_x_p_diff_y_p(u, n_x=v_x + j_x, n_y = v_y + j_y, a=a, k_m=k_m) \\\n",
    "                                    * (B(x=v_y,p=p)/fact(n=p)) \\\n",
    "                                    * (B(x=v_x,p=p)/fact(n=p)))))\n",
    "\n",
    "print(\"Rpy_Rpx_Fn_j_integrand =\")\n",
    "disp(Rpy_Rpx_Fn_j_integrand(u, j_x, j_y, v_x, v_y, a, k_m))\n",
    "\n",
    "Rpy_Rpx_Fn_j_num = lambda u, j_x, j_y, a, k_m : num_int(lambda v_y : \\\n",
    "                                                        num_int(lambda v_x : \\\n",
    "                                                                Rpy_Rpx_Fn_j_integrand(u,j_x,j_y,v_x,v_y,a,k_m),\\\n",
    "                                                                0, 1, v_x), \\\n",
    "                                                        0, 1, v_y)\n",
    "\n",
    "intu_Rpy_Rpx_Fn_j_num = lambda j_x, j_y, a, k_m : num_int(lambda u : \\\n",
    "                                                          Rpy_Rpx_Fn_j_num (u, j_x, j_y, a, k_m), \\\n",
    "                                                          0, Infinity, u, print_tolerance=False)"
   ]
  },
  {
   "cell_type": "code",
   "execution_count": 155,
   "metadata": {},
   "outputs": [],
   "source": [
    "# Rpy_Rpx_Fn_j_num (u = 1, j_x = 1, j_y = 1, a = 1, k_m = 1)\n",
    "# 1.625324062828027e-05"
   ]
  },
  {
   "cell_type": "code",
   "execution_count": 156,
   "metadata": {},
   "outputs": [],
   "source": [
    "G_diff_x_p_diff_y_p_ = G(n_x, n_y, ak_m).diff(n_x, p).diff(n_y,p)\n",
    "# G_diff_x_p_diff_y_p_"
   ]
  },
  {
   "cell_type": "code",
   "execution_count": 157,
   "metadata": {},
   "outputs": [],
   "source": [
    "exec(preparse(\"G_diff_x_p_diff_y_p = lambda n_x, n_y, ak_m : \" + str(G_diff_x_p_diff_y_p_)))\n",
    "# G_diff_x_p_diff_y_p(n_x, n_y, ak_m)"
   ]
  },
  {
   "cell_type": "code",
   "execution_count": 158,
   "metadata": {},
   "outputs": [],
   "source": [
    "exec(preparse(\"Rpy_Rpx_G_j_integrand = lambda j_x, j_y, v_x, v_y, ak_m : \" + str(\n",
    "                                    (-1)^(p+1)*(-1)^(p+1) \\\n",
    "                                    * G_diff_x_p_diff_y_p(n_x=v_x + j_x, n_y = v_y + j_y, ak_m=ak_m) \\\n",
    "                                    * (B(x=v_y,p=p)/fact(n=p)) \\\n",
    "                                    * (B(x=v_x,p=p)/fact(n=p)))))\n",
    "\n",
    "# print(\"Rpy_Rpx_G_j_integrand =\")\n",
    "# Rpy_Rpx_G_j_integrand(j_x, j_y, v_x, v_y, ak_m)\n",
    "\n",
    "Rpy_Rpx_G_j_num = lambda j_x, j_y, ak_m : num_int(lambda v_y : \\\n",
    "                                                        num_int(lambda v_x : \\\n",
    "                                                                Rpy_Rpx_G_j_integrand(j_x,j_y,v_x,v_y,ak_m),\\\n",
    "                                                                0, 1, v_x), \\\n",
    "                                                        0, 1, v_y, print_tolerance=False)\n",
    "\n",
    "\n",
    "Rpy_Rpx_G_j_numerical = lambda j_x, j_y, ak_m : numerical_integral(lambda v_y : \\\n",
    "                                                        numerical_integral(lambda v_x : \\\n",
    "                                                                Rpy_Rpx_G_j_integrand(j_x,j_y,v_x,v_y,ak_m),\\\n",
    "                                                                0, 1)[0], \\\n",
    "                                                        0, 1)"
   ]
  },
  {
   "cell_type": "code",
   "execution_count": 159,
   "metadata": {},
   "outputs": [],
   "source": [
    "# intu_Rpy_Rpx_Fn_j_num (j_x = 1, j_y = 1, a = 1, k_m = 1)\n",
    "# tolerance = 2.9807678498332586e-09\n",
    "# 5.024819475680203e-05"
   ]
  },
  {
   "cell_type": "code",
   "execution_count": 160,
   "metadata": {},
   "outputs": [],
   "source": [
    "# Rpy_Rpx_G_j_num (j_x = 1, j_y = 1, ak_m = 1)\n",
    "# tolerance = 8.259283274519223e-19\n",
    "# 5.024819475691701e-05"
   ]
  },
  {
   "cell_type": "code",
   "execution_count": 161,
   "metadata": {},
   "outputs": [],
   "source": [
    "# Rpy_Rpx_G_j_numerical (j_x = 1, j_y = 1, ak_m = 1)\n",
    "# tolerance = 8.259283274519223e-19\n",
    "# 5.024819475691701e-05\n",
    "# (5.0248194756917e-05, 8.279219731316479e-19)"
   ]
  },
  {
   "cell_type": "code",
   "execution_count": 162,
   "metadata": {},
   "outputs": [],
   "source": [
    "# too long\n",
    "# Rpy_Rpx_G_j_numerical (j_x = 0, j_y = 0, ak_m = 1)"
   ]
  },
  {
   "cell_type": "code",
   "execution_count": 163,
   "metadata": {},
   "outputs": [],
   "source": [
    "# too long\n",
    "#Rpy_Rpx_G_j_numerical (j_x = 0, j_y = 1, ak_m = 1)"
   ]
  },
  {
   "cell_type": "code",
   "execution_count": 164,
   "metadata": {},
   "outputs": [],
   "source": [
    "# too long\n",
    "#integrate(Rpy_Rpx_G_j_integrand(j_x, j_y, v_x, v_y, ak_m), v_x, algorithm=\"sympy\")"
   ]
  },
  {
   "cell_type": "markdown",
   "metadata": {},
   "source": [
    "# Summary Euler–Maclaurin 2D "
   ]
  },
  {
   "cell_type": "code",
   "execution_count": 165,
   "metadata": {},
   "outputs": [
    {
     "data": {
      "text/latex": [
       "$\\displaystyle \\int_{a_{y}}^{b_{y}} \\int_{a_{x}}^{b_{x}} F\\left(n_{x}, n_{y}\\right)\\,{d n_{x}}\\,{d n_{y}}$"
      ],
      "text/plain": [
       "<IPython.core.display.Math object>"
      ]
     },
     "metadata": {},
     "output_type": "display_data"
    },
    {
     "data": {
      "text/latex": [
       "$\\displaystyle \\frac{1}{2} \\, \\int_{a_{y}}^{b_{y}} F\\left(a_{x}, n_{y}\\right)\\,{d n_{y}}$"
      ],
      "text/plain": [
       "<IPython.core.display.Math object>"
      ]
     },
     "metadata": {},
     "output_type": "display_data"
    },
    {
     "data": {
      "text/latex": [
       "$\\displaystyle 0$"
      ],
      "text/plain": [
       "<IPython.core.display.Math object>"
      ]
     },
     "metadata": {},
     "output_type": "display_data"
    },
    {
     "data": {
      "text/latex": [
       "$\\displaystyle \\int_{a_{y}}^{b_{y}} \\int_{a_{x}}^{b_{x}} \\frac{1}{2} \\, {\\left(2 \\, n_{x} - 2 \\, \\left \\lfloor n_{x} \\right \\rfloor - 1\\right)} \\frac{\\partial}{\\partial n_{x}}F\\left(n_{x}, n_{y}\\right)\\,{d n_{x}}\\,{d n_{y}}$"
      ],
      "text/plain": [
       "<IPython.core.display.Math object>"
      ]
     },
     "metadata": {},
     "output_type": "display_data"
    },
    {
     "data": {
      "text/plain": [
       "(None, None, None, None)"
      ]
     },
     "execution_count": 165,
     "metadata": {},
     "output_type": "execute_result"
    }
   ],
   "source": [
    "disp(inty_intx_F), disp(inty_halfx_F), disp(inty_sumx_F), disp(inty_Rpx_F)"
   ]
  },
  {
   "cell_type": "code",
   "execution_count": 166,
   "metadata": {},
   "outputs": [
    {
     "data": {
      "text/latex": [
       "$\\displaystyle \\frac{1}{2} \\, \\int_{a_{x}}^{b_{x}} F\\left(n_{x}, a_{y}\\right)\\,{d n_{x}}$"
      ],
      "text/plain": [
       "<IPython.core.display.Math object>"
      ]
     },
     "metadata": {},
     "output_type": "display_data"
    },
    {
     "data": {
      "text/latex": [
       "$\\displaystyle \\frac{1}{4} \\, F\\left(a_{x}, a_{y}\\right)$"
      ],
      "text/plain": [
       "<IPython.core.display.Math object>"
      ]
     },
     "metadata": {},
     "output_type": "display_data"
    },
    {
     "data": {
      "text/latex": [
       "$\\displaystyle 0$"
      ],
      "text/plain": [
       "<IPython.core.display.Math object>"
      ]
     },
     "metadata": {},
     "output_type": "display_data"
    },
    {
     "data": {
      "text/latex": [
       "$\\displaystyle -\\frac{1}{4} \\, \\int_{a_{x}}^{b_{x}} -2 \\, n_{x} \\frac{\\partial}{\\partial n_{x}}F\\left(n_{x}, a_{y}\\right)\\,{d n_{x}} - \\frac{1}{4} \\, \\int_{a_{x}}^{b_{x}} 2 \\, \\left \\lfloor n_{x} \\right \\rfloor \\frac{\\partial}{\\partial n_{x}}F\\left(n_{x}, a_{y}\\right)\\,{d n_{x}} - \\frac{1}{4} \\, \\int_{a_{x}}^{b_{x}} \\frac{\\partial}{\\partial n_{x}}F\\left(n_{x}, a_{y}\\right)\\,{d n_{x}}$"
      ],
      "text/plain": [
       "<IPython.core.display.Math object>"
      ]
     },
     "metadata": {},
     "output_type": "display_data"
    },
    {
     "data": {
      "text/plain": [
       "(None, None, None, None)"
      ]
     },
     "execution_count": 166,
     "metadata": {},
     "output_type": "execute_result"
    }
   ],
   "source": [
    "disp(halfy_intx_F), disp(halfy_halfx_F), disp(halfy_sumx_F), disp(halfy_Rpx_F)"
   ]
  },
  {
   "cell_type": "code",
   "execution_count": 167,
   "metadata": {},
   "outputs": [
    {
     "data": {
      "text/latex": [
       "$\\displaystyle 0$"
      ],
      "text/plain": [
       "<IPython.core.display.Math object>"
      ]
     },
     "metadata": {},
     "output_type": "display_data"
    },
    {
     "data": {
      "text/latex": [
       "$\\displaystyle 0$"
      ],
      "text/plain": [
       "<IPython.core.display.Math object>"
      ]
     },
     "metadata": {},
     "output_type": "display_data"
    },
    {
     "data": {
      "text/latex": [
       "$\\displaystyle 0$"
      ],
      "text/plain": [
       "<IPython.core.display.Math object>"
      ]
     },
     "metadata": {},
     "output_type": "display_data"
    },
    {
     "data": {
      "text/latex": [
       "$\\displaystyle 0$"
      ],
      "text/plain": [
       "<IPython.core.display.Math object>"
      ]
     },
     "metadata": {},
     "output_type": "display_data"
    },
    {
     "data": {
      "text/plain": [
       "(None, None, None, None)"
      ]
     },
     "execution_count": 167,
     "metadata": {},
     "output_type": "execute_result"
    }
   ],
   "source": [
    "disp(sumy_intx_F), disp(sumy_halfx_F), disp(sumy_sumx_F), disp(sumy_Rpx_F)"
   ]
  },
  {
   "cell_type": "code",
   "execution_count": 168,
   "metadata": {},
   "outputs": [],
   "source": [
    "Rpy_intx_F=inty_Rpx_F\n",
    "Rpy_intx_Fu=inty_Rpx_Fu\n",
    "Rpy_intx_Fn=inty_Rpx_Fn"
   ]
  },
  {
   "cell_type": "code",
   "execution_count": 169,
   "metadata": {
    "scrolled": true
   },
   "outputs": [
    {
     "data": {
      "text/latex": [
       "$\\displaystyle \\int_{a_{y}}^{b_{y}} \\int_{a_{x}}^{b_{x}} \\frac{1}{2} \\, {\\left(2 \\, n_{x} - 2 \\, \\left \\lfloor n_{x} \\right \\rfloor - 1\\right)} \\frac{\\partial}{\\partial n_{x}}F\\left(n_{x}, n_{y}\\right)\\,{d n_{x}}\\,{d n_{y}}$"
      ],
      "text/plain": [
       "<IPython.core.display.Math object>"
      ]
     },
     "metadata": {},
     "output_type": "display_data"
    },
    {
     "data": {
      "text/latex": [
       "$\\displaystyle \\int_{a_{y}}^{b_{y}} \\frac{1}{4} \\, {\\left(2 \\, n_{y} - 2 \\, \\left \\lfloor n_{y} \\right \\rfloor - 1\\right)} \\frac{\\partial}{\\partial n_{y}}F\\left(a_{x}, n_{y}\\right)\\,{d n_{y}}$"
      ],
      "text/plain": [
       "<IPython.core.display.Math object>"
      ]
     },
     "metadata": {},
     "output_type": "display_data"
    },
    {
     "data": {
      "text/latex": [
       "$\\displaystyle \\int_{a_{y}}^{b_{y}} 0\\,{d n_{y}}$"
      ],
      "text/plain": [
       "<IPython.core.display.Math object>"
      ]
     },
     "metadata": {},
     "output_type": "display_data"
    },
    {
     "data": {
      "text/latex": [
       "$\\displaystyle \\int_{a_{y}}^{b_{y}} \\frac{1}{2} \\, {\\left(2 \\, n_{y} - 2 \\, \\left \\lfloor n_{y} \\right \\rfloor - 1\\right)} \\int_{a_{x}}^{b_{x}} \\frac{1}{2} \\, {\\left(2 \\, n_{x} - 2 \\, \\left \\lfloor n_{x} \\right \\rfloor - 1\\right)} \\frac{\\partial^{2}}{\\partial n_{x}\\partial n_{y}}F\\left(n_{x}, n_{y}\\right)\\,{d n_{x}}\\,{d n_{y}}$"
      ],
      "text/plain": [
       "<IPython.core.display.Math object>"
      ]
     },
     "metadata": {},
     "output_type": "display_data"
    },
    {
     "data": {
      "text/plain": [
       "(None, None, None, None)"
      ]
     },
     "execution_count": 169,
     "metadata": {},
     "output_type": "execute_result"
    }
   ],
   "source": [
    "disp(Rpy_intx_F), disp(Rpy_halfx_F), disp(Rpy_sumx_F), disp(Rpy_Rpx_F)"
   ]
  },
  {
   "cell_type": "code",
   "execution_count": null,
   "metadata": {},
   "outputs": [],
   "source": []
  },
  {
   "cell_type": "code",
   "execution_count": 170,
   "metadata": {},
   "outputs": [
    {
     "data": {
      "text/latex": [
       "$\\displaystyle \\int_{a_{y}}^{b_{y}} \\int_{a_{x}}^{b_{x}} F\\left(n_{x}, n_{y}\\right)\\,{d n_{x}}\\,{d n_{y}}$"
      ],
      "text/plain": [
       "<IPython.core.display.Math object>"
      ]
     },
     "metadata": {},
     "output_type": "display_data"
    },
    {
     "data": {
      "text/latex": [
       "$\\displaystyle \\int_{0}^{+\\infty} \\frac{1}{2} \\, \\sqrt{n_{y}^{2} + u^{2}} f\\left(\\frac{\\pi \\sqrt{n_{y}^{2} + u^{2}}}{a k_{m}}\\right)\\,{d n_{y}}$"
      ],
      "text/plain": [
       "<IPython.core.display.Math object>"
      ]
     },
     "metadata": {},
     "output_type": "display_data"
    },
    {
     "data": {
      "text/latex": [
       "$\\displaystyle 0.0$"
      ],
      "text/plain": [
       "<IPython.core.display.Math object>"
      ]
     },
     "metadata": {},
     "output_type": "display_data"
    },
    {
     "data": {
      "text/latex": [
       "$\\displaystyle \\int_{0}^{+\\infty} \\int_{0}^{+\\infty} \\frac{1}{2} \\, {\\left(\\frac{n_{x} f\\left(\\frac{\\pi \\sqrt{n_{x}^{2} + n_{y}^{2} + u^{2}}}{a k_{m}}\\right)}{\\sqrt{n_{x}^{2} + n_{y}^{2} + u^{2}}} + \\frac{\\pi n_{x} \\mathrm{D}_{0}\\left(f\\right)\\left(\\frac{\\pi \\sqrt{n_{x}^{2} + n_{y}^{2} + u^{2}}}{a k_{m}}\\right)}{a k_{m}}\\right)} {\\left(2 \\, n_{x} - 2 \\, \\left \\lfloor n_{x} \\right \\rfloor - 1\\right)}\\,{d n_{x}}\\,{d n_{y}}$"
      ],
      "text/plain": [
       "<IPython.core.display.Math object>"
      ]
     },
     "metadata": {},
     "output_type": "display_data"
    },
    {
     "data": {
      "text/plain": [
       "(None, None, None, None)"
      ]
     },
     "execution_count": 170,
     "metadata": {},
     "output_type": "execute_result"
    }
   ],
   "source": [
    "disp(inty_intx_F), disp(inty_halfx_Fu(u, a, k_m)), disp(inty_sumx_Fu(u, a, k_m)), disp(inty_Rpx_Fu)"
   ]
  },
  {
   "cell_type": "code",
   "execution_count": 171,
   "metadata": {},
   "outputs": [
    {
     "data": {
      "text/latex": [
       "$\\displaystyle \\int_{a_{y}}^{b_{y}} \\int_{a_{x}}^{b_{x}} F\\left(n_{x}, n_{y}\\right)\\,{d n_{x}}\\,{d n_{y}}$"
      ],
      "text/plain": [
       "<IPython.core.display.Math object>"
      ]
     },
     "metadata": {},
     "output_type": "display_data"
    },
    {
     "data": {
      "text/latex": [
       "$\\displaystyle \\int_{0}^{+\\infty} \\frac{\\sqrt{n_{y}^{2} + u^{2}}}{2 \\, {\\left(\\frac{\\pi^{4} {\\left(n_{y}^{2} + u^{2}\\right)}^{2}}{a^{4} k_{m}^{4}} + 1\\right)}}\\,{d n_{y}}$"
      ],
      "text/plain": [
       "<IPython.core.display.Math object>"
      ]
     },
     "metadata": {},
     "output_type": "display_data"
    },
    {
     "data": {
      "text/latex": [
       "$\\displaystyle 0.0$"
      ],
      "text/plain": [
       "<IPython.core.display.Math object>"
      ]
     },
     "metadata": {},
     "output_type": "display_data"
    },
    {
     "data": {
      "text/latex": [
       "$\\displaystyle \\int_{0}^{+\\infty} \\int_{0}^{+\\infty} \\frac{1}{2} \\, {\\left(2 \\, n_{x} - 2 \\, \\left \\lfloor n_{x} \\right \\rfloor - 1\\right)} {\\left(\\frac{n_{x}}{\\sqrt{n_{x}^{2} + n_{y}^{2} + u^{2}} {\\left(\\frac{\\pi^{4} {\\left(n_{x}^{2} + n_{y}^{2} + u^{2}\\right)}^{2}}{a^{4} k_{m}^{4}} + 1\\right)}} - \\frac{4 \\, \\pi^{4} {\\left(n_{x}^{2} + n_{y}^{2} + u^{2}\\right)}^{\\frac{3}{2}} n_{x}}{a^{4} k_{m}^{4} {\\left(\\frac{\\pi^{4} {\\left(n_{x}^{2} + n_{y}^{2} + u^{2}\\right)}^{2}}{a^{4} k_{m}^{4}} + 1\\right)}^{2}}\\right)}\\,{d n_{x}}\\,{d n_{y}}$"
      ],
      "text/plain": [
       "<IPython.core.display.Math object>"
      ]
     },
     "metadata": {},
     "output_type": "display_data"
    },
    {
     "data": {
      "text/plain": [
       "(None, None, None, None)"
      ]
     },
     "execution_count": 171,
     "metadata": {},
     "output_type": "execute_result"
    }
   ],
   "source": [
    "disp(inty_intx_F), disp(inty_halfx_Fn(u, a, k_m)), disp(inty_sumx_Fn(u, a, k_m)), disp(inty_Rpx_Fn)"
   ]
  },
  {
   "cell_type": "code",
   "execution_count": null,
   "metadata": {},
   "outputs": [],
   "source": []
  },
  {
   "cell_type": "code",
   "execution_count": 172,
   "metadata": {},
   "outputs": [
    {
     "data": {
      "text/latex": [
       "$\\displaystyle \\frac{1}{2} \\, \\int_{0}^{+\\infty} \\sqrt{n_{x}^{2} + u^{2}} f\\left(\\frac{\\pi \\sqrt{n_{x}^{2} + u^{2}}}{a k_{m}}\\right)\\,{d n_{x}}$"
      ],
      "text/plain": [
       "<IPython.core.display.Math object>"
      ]
     },
     "metadata": {},
     "output_type": "display_data"
    },
    {
     "data": {
      "text/latex": [
       "$\\displaystyle \\frac{1}{4} \\, u f\\left(\\frac{\\pi u}{a k_{m}}\\right)$"
      ],
      "text/plain": [
       "<IPython.core.display.Math object>"
      ]
     },
     "metadata": {},
     "output_type": "display_data"
    },
    {
     "data": {
      "text/latex": [
       "$\\displaystyle 0$"
      ],
      "text/plain": [
       "<IPython.core.display.Math object>"
      ]
     },
     "metadata": {},
     "output_type": "display_data"
    },
    {
     "data": {
      "text/plain": [
       "(None, None, None)"
      ]
     },
     "execution_count": 172,
     "metadata": {},
     "output_type": "execute_result"
    }
   ],
   "source": [
    "disp(halfy_intx_Fu), disp(halfy_halfx_Fu), disp(halfy_sumx_Fu)#, disp(halfy_Rpx_Fu)"
   ]
  },
  {
   "cell_type": "code",
   "execution_count": 173,
   "metadata": {},
   "outputs": [
    {
     "data": {
      "text/latex": [
       "$\\displaystyle \\frac{1}{2} \\, a^{4} k_{m}^{4} \\int_{0}^{+\\infty} \\frac{\\sqrt{n_{x}^{2} + u^{2}}}{a^{4} k_{m}^{4} + \\pi^{4} n_{x}^{4} + 2 \\, \\pi^{4} n_{x}^{2} u^{2} + \\pi^{4} u^{4}}\\,{d n_{x}}$"
      ],
      "text/plain": [
       "<IPython.core.display.Math object>"
      ]
     },
     "metadata": {},
     "output_type": "display_data"
    },
    {
     "data": {
      "text/latex": [
       "$\\displaystyle \\frac{u}{4 \\, {\\left(\\frac{\\pi^{4} u^{4}}{a^{4} k_{m}^{4}} + 1\\right)}}$"
      ],
      "text/plain": [
       "<IPython.core.display.Math object>"
      ]
     },
     "metadata": {},
     "output_type": "display_data"
    },
    {
     "data": {
      "text/latex": [
       "$\\displaystyle 0$"
      ],
      "text/plain": [
       "<IPython.core.display.Math object>"
      ]
     },
     "metadata": {},
     "output_type": "display_data"
    },
    {
     "data": {
      "text/plain": [
       "(None, None, None)"
      ]
     },
     "execution_count": 173,
     "metadata": {},
     "output_type": "execute_result"
    }
   ],
   "source": [
    "disp(halfy_intx_Fn), disp(halfy_halfx_Fn), disp(halfy_sumx_Fn)#, disp(halfy_Rpx_Fn)"
   ]
  },
  {
   "cell_type": "code",
   "execution_count": null,
   "metadata": {},
   "outputs": [],
   "source": []
  },
  {
   "cell_type": "code",
   "execution_count": 174,
   "metadata": {},
   "outputs": [
    {
     "data": {
      "text/latex": [
       "$\\displaystyle 0$"
      ],
      "text/plain": [
       "<IPython.core.display.Math object>"
      ]
     },
     "metadata": {},
     "output_type": "display_data"
    },
    {
     "data": {
      "text/latex": [
       "$\\displaystyle 0$"
      ],
      "text/plain": [
       "<IPython.core.display.Math object>"
      ]
     },
     "metadata": {},
     "output_type": "display_data"
    },
    {
     "data": {
      "text/latex": [
       "$\\displaystyle 0$"
      ],
      "text/plain": [
       "<IPython.core.display.Math object>"
      ]
     },
     "metadata": {},
     "output_type": "display_data"
    },
    {
     "data": {
      "text/plain": [
       "(None, None, None)"
      ]
     },
     "execution_count": 174,
     "metadata": {},
     "output_type": "execute_result"
    }
   ],
   "source": [
    "disp(sumy_intx_Fu), disp(sumy_halfx_Fu), disp(sumy_sumx_Fu(u, a, k_m))#, disp(sumy_Rpx_Fu)"
   ]
  },
  {
   "cell_type": "code",
   "execution_count": 175,
   "metadata": {},
   "outputs": [],
   "source": [
    "#disp(sum_int_Fn), disp(sum_half_Fn), disp(sum_sum_Fn), disp(sumy_R_p_Fn)"
   ]
  },
  {
   "cell_type": "code",
   "execution_count": null,
   "metadata": {},
   "outputs": [],
   "source": []
  },
  {
   "cell_type": "code",
   "execution_count": 176,
   "metadata": {
    "scrolled": true
   },
   "outputs": [
    {
     "data": {
      "text/latex": [
       "$\\displaystyle \\int_{0}^{+\\infty} \\int_{0}^{+\\infty} \\frac{1}{2} \\, {\\left(\\frac{n_{x} f\\left(\\frac{\\pi \\sqrt{n_{x}^{2} + n_{y}^{2} + u^{2}}}{a k_{m}}\\right)}{\\sqrt{n_{x}^{2} + n_{y}^{2} + u^{2}}} + \\frac{\\pi n_{x} \\mathrm{D}_{0}\\left(f\\right)\\left(\\frac{\\pi \\sqrt{n_{x}^{2} + n_{y}^{2} + u^{2}}}{a k_{m}}\\right)}{a k_{m}}\\right)} {\\left(2 \\, n_{x} - 2 \\, \\left \\lfloor n_{x} \\right \\rfloor - 1\\right)}\\,{d n_{x}}\\,{d n_{y}}$"
      ],
      "text/plain": [
       "<IPython.core.display.Math object>"
      ]
     },
     "metadata": {},
     "output_type": "display_data"
    },
    {
     "data": {
      "text/latex": [
       "$\\displaystyle \\int_{0}^{+\\infty} \\frac{1}{4} \\, {\\left(\\frac{n_{y} f\\left(\\frac{\\pi \\sqrt{n_{y}^{2} + u^{2}}}{a k_{m}}\\right)}{\\sqrt{n_{y}^{2} + u^{2}}} + \\frac{\\pi n_{y} \\mathrm{D}_{0}\\left(f\\right)\\left(\\frac{\\pi \\sqrt{n_{y}^{2} + u^{2}}}{a k_{m}}\\right)}{a k_{m}}\\right)} {\\left(2 \\, n_{y} - 2 \\, \\left \\lfloor n_{y} \\right \\rfloor - 1\\right)}\\,{d n_{y}}$"
      ],
      "text/plain": [
       "<IPython.core.display.Math object>"
      ]
     },
     "metadata": {},
     "output_type": "display_data"
    },
    {
     "data": {
      "text/latex": [
       "$\\displaystyle \\int_{0}^{+\\infty} 0\\,{d n_{y}}$"
      ],
      "text/plain": [
       "<IPython.core.display.Math object>"
      ]
     },
     "metadata": {},
     "output_type": "display_data"
    },
    {
     "data": {
      "text/plain": [
       "(None, None, None)"
      ]
     },
     "execution_count": 176,
     "metadata": {},
     "output_type": "execute_result"
    }
   ],
   "source": [
    "disp(Rpy_intx_Fu), disp(Rpy_halfx_Fu), disp(Rpy_sumx_Fu)#, disp(Rpy_Rpx_Fu)"
   ]
  },
  {
   "cell_type": "code",
   "execution_count": 177,
   "metadata": {
    "scrolled": true
   },
   "outputs": [
    {
     "data": {
      "text/latex": [
       "$\\displaystyle \\int_{0}^{+\\infty} \\int_{0}^{+\\infty} \\frac{1}{2} \\, {\\left(2 \\, n_{x} - 2 \\, \\left \\lfloor n_{x} \\right \\rfloor - 1\\right)} {\\left(\\frac{n_{x}}{\\sqrt{n_{x}^{2} + n_{y}^{2} + u^{2}} {\\left(\\frac{\\pi^{4} {\\left(n_{x}^{2} + n_{y}^{2} + u^{2}\\right)}^{2}}{a^{4} k_{m}^{4}} + 1\\right)}} - \\frac{4 \\, \\pi^{4} {\\left(n_{x}^{2} + n_{y}^{2} + u^{2}\\right)}^{\\frac{3}{2}} n_{x}}{a^{4} k_{m}^{4} {\\left(\\frac{\\pi^{4} {\\left(n_{x}^{2} + n_{y}^{2} + u^{2}\\right)}^{2}}{a^{4} k_{m}^{4}} + 1\\right)}^{2}}\\right)}\\,{d n_{x}}\\,{d n_{y}}$"
      ],
      "text/plain": [
       "<IPython.core.display.Math object>"
      ]
     },
     "metadata": {},
     "output_type": "display_data"
    },
    {
     "data": {
      "text/latex": [
       "$\\displaystyle \\int_{0}^{+\\infty} \\frac{1}{4} \\, {\\left(2 \\, n_{y} - 2 \\, \\left \\lfloor n_{y} \\right \\rfloor - 1\\right)} {\\left(\\frac{n_{y}}{\\sqrt{n_{y}^{2} + u^{2}} {\\left(\\frac{\\pi^{4} {\\left(n_{y}^{2} + u^{2}\\right)}^{2}}{a^{4} k_{m}^{4}} + 1\\right)}} - \\frac{4 \\, \\pi^{4} {\\left(n_{y}^{2} + u^{2}\\right)}^{\\frac{3}{2}} n_{y}}{a^{4} k_{m}^{4} {\\left(\\frac{\\pi^{4} {\\left(n_{y}^{2} + u^{2}\\right)}^{2}}{a^{4} k_{m}^{4}} + 1\\right)}^{2}}\\right)}\\,{d n_{y}}$"
      ],
      "text/plain": [
       "<IPython.core.display.Math object>"
      ]
     },
     "metadata": {},
     "output_type": "display_data"
    },
    {
     "data": {
      "text/latex": [
       "$\\displaystyle \\int_{0}^{+\\infty} 0\\,{d n_{y}}$"
      ],
      "text/plain": [
       "<IPython.core.display.Math object>"
      ]
     },
     "metadata": {},
     "output_type": "display_data"
    },
    {
     "data": {
      "text/plain": [
       "(None, None, None)"
      ]
     },
     "execution_count": 177,
     "metadata": {},
     "output_type": "execute_result"
    }
   ],
   "source": [
    "disp(Rpy_intx_Fn), disp(Rpy_halfx_Fn), disp(Rpy_sumx_Fn)#, disp(Rpy_Rpx_Fn)"
   ]
  },
  {
   "cell_type": "code",
   "execution_count": null,
   "metadata": {},
   "outputs": [],
   "source": []
  },
  {
   "cell_type": "markdown",
   "metadata": {},
   "source": [
    "Let's consider\n",
    "\n",
    "\\begin{equation}\n",
    "\\sum\\limits_{n_x=\\left(0\\right)\\,1}^{\\infty}\n",
    "\\sum\\limits_{n_y=\\left(0\\right)\\,1}^{\\infty}\n",
    "F\\left(n_x, n_y\\right)\n",
    "-\n",
    "\\int\\limits_{0}^{\\infty}\n",
    "\\int\\limits_{0}^{\\infty}\n",
    "F\\left(n_x, n_y\\right)\\,d{n_x}\\,d{n_y}\n",
    "\\end{equation}"
   ]
  },
  {
   "cell_type": "markdown",
   "metadata": {},
   "source": [
    "First we see, that"
   ]
  },
  {
   "cell_type": "markdown",
   "metadata": {},
   "source": [
    "\\begin{equation}\n",
    "\\sum\\limits_{n_x=\\left(0\\right)\\,1}^{\\infty}\n",
    "\\sum\\limits_{n_y=\\left(0\\right)\\,1}^{\\infty}\n",
    "{F\\left(n_x, n_y\\right)}\n",
    "= \\sum\\limits_{n_x=\\left(0\\right)\\,1}^{\\infty}\n",
    "\\left(\n",
    "-\\frac{1}{2}F\\left(n_x, 0\\right) + \\sum\\limits_{n_y=0}^{\\infty}{F\\left(n_x, n_y\\right)}\n",
    "\\right)\n",
    "= -\\frac{1}{2}\n",
    "\\left(\n",
    "-\\frac{1}{2}F\\left(0, 0\\right) + \\sum\\limits_{n_y=0}^{\\infty}{F\\left(0, n_y\\right)}\n",
    "\\right)\n",
    "+\\sum\\limits_{n_x=0}^{\\infty}\n",
    "\\left(\n",
    "-\\frac{1}{2}F\\left(n_x, 0\\right) + \\sum\\limits_{n_y=0}^{\\infty}{F\\left(n_x, n_y\\right)}\n",
    "\\right)\n",
    "= \\frac{1}{4}F\\left(0, 0\\right)\n",
    "- \\frac{1}{2}\\sum\\limits_{n_y=0}^{\\infty}{F\\left(0, n_y\\right)}\n",
    "- \\frac{1}{2}\\sum\\limits_{n_x=0}^{\\infty}{F\\left(n_x, 0\\right)}\n",
    "+ \\sum\\limits_{n_x=0}^{\\infty}\\sum\\limits_{n_y=0}^{\\infty}{F\\left(n_x, n_y\\right)}\n",
    "\\end{equation}"
   ]
  },
  {
   "cell_type": "markdown",
   "metadata": {},
   "source": [
    "So we have\n",
    "\\begin{equation}\n",
    "\\sum\\limits_{n_x=\\left(0\\right)\\,1}^{\\infty}\n",
    "\\sum\\limits_{n_y=\\left(0\\right)\\,1}^{\\infty}\n",
    "{F\\left(n_x, n_y\\right)}\n",
    "=\\frac{1}{4}F\\left(0, 0\\right)\n",
    "-\\frac{1}{2}\\sum\\limits_{n_y=0}^{\\infty}{F\\left(0, n_y\\right)}\n",
    "-\\frac{1}{2}\\sum\\limits_{n_x=0}^{\\infty}{F\\left(n_x, 0\\right)}\n",
    "+\\sum\\limits_{n_x=0}^{\\infty}\\sum\\limits_{n_y=0}^{\\infty}{F\\left(n_x, n_y\\right)}\n",
    "\\end{equation}"
   ]
  },
  {
   "cell_type": "markdown",
   "metadata": {},
   "source": [
    "And\n",
    "\n",
    "\\begin{equation}\n",
    "\\sum\\limits_{n_x=\\left(0\\right)\\,1}^{\\infty}\n",
    "\\sum\\limits_{n_y=\\left(0\\right)\\,1}^{\\infty}\n",
    "F\\left(n_x, n_y\\right)\n",
    "-\n",
    "\\int\\limits_{0}^{\\infty}\n",
    "\\int\\limits_{0}^{\\infty}\n",
    "F\\left(n_x, n_y\\right)\\,d{n_x}\\,d{n_y} =\n",
    "\\end{equation}"
   ]
  },
  {
   "cell_type": "markdown",
   "metadata": {},
   "source": [
    "\\begin{equation}\n",
    "=\\frac{1}{4}F\\left(0, 0\\right)\n",
    "-\\frac{1}{2}\\sum\\limits_{n_y=0}^{\\infty}{F\\left(0, n_y\\right)}\n",
    "-\\frac{1}{2}\\sum\\limits_{n_x=0}^{\\infty}{F\\left(n_x, 0\\right)}\n",
    "+\\sum\\limits_{n_x=0}^{\\infty}\\sum\\limits_{n_y=0}^{\\infty}{F\\left(n_x, n_y\\right)}\n",
    "-\n",
    "\\int\\limits_{0}^{\\infty}\n",
    "\\int\\limits_{0}^{\\infty}\n",
    "F\\left(n_x, n_y\\right)\\,d{n_x}\\,d{n_y}\n",
    "\\end{equation}"
   ]
  },
  {
   "cell_type": "markdown",
   "metadata": {},
   "source": [
    "On the other hand we have found that\n",
    "\\begin{equation}\n",
    "\\sum\\limits_{n_x=0}^{\\infty}\n",
    "\\sum\\limits_{n_y=0}^{\\infty}\n",
    "F\\left(n_x, n_y\\right)\n",
    "-\\int\\limits_{0}^{\\infty}\n",
    "\\int\\limits_{0}^{\\infty}\n",
    "F\\left(n_x, n_y\\right)\\,d{n_x}\\,d{n_y}\n",
    "\\end{equation}\n",
    "is"
   ]
  },
  {
   "cell_type": "markdown",
   "metadata": {},
   "source": [
    "$\\begin{array}{rrrr}\n",
    "                 & + inty\\_halfx\\_F  & + inty\\_sumx\\_F  & + inty\\_Rpx\\_F  \\\\\n",
    "+ halfy\\_intx\\_F & + halfy\\_halfx\\_F & + halfy\\_sumx\\_F & + halfy\\_Rpx\\_F \\\\\n",
    "+ sumy\\_intx\\_F  & + sumy\\_halfx\\_F  & + sumy\\_sumx\\_F  & + sumy\\_Rpx\\_F  \\\\\n",
    "+ Rpy\\_intx\\_F   & + Rpy\\_halfx\\_F   & + Rpy\\_sumx\\_F   & + Rpy\\_Rpx\\_F\n",
    "\\end{array}$"
   ]
  },
  {
   "cell_type": "markdown",
   "metadata": {},
   "source": [
    "where $halfy\\_halfx\\_F$, $inty\\_halfx\\_F$ and $halfy\\_intx\\_F$ are:"
   ]
  },
  {
   "cell_type": "code",
   "execution_count": 178,
   "metadata": {},
   "outputs": [
    {
     "data": {
      "text/latex": [
       "$\\displaystyle \\frac{1}{4} \\, F\\left(a_{x}, a_{y}\\right)$"
      ],
      "text/plain": [
       "<IPython.core.display.Math object>"
      ]
     },
     "metadata": {},
     "output_type": "display_data"
    },
    {
     "data": {
      "text/latex": [
       "$\\displaystyle \\frac{1}{2} \\, \\int_{a_{y}}^{b_{y}} F\\left(a_{x}, n_{y}\\right)\\,{d n_{y}}$"
      ],
      "text/plain": [
       "<IPython.core.display.Math object>"
      ]
     },
     "metadata": {},
     "output_type": "display_data"
    },
    {
     "data": {
      "text/latex": [
       "$\\displaystyle \\frac{1}{2} \\, \\int_{a_{x}}^{b_{x}} F\\left(n_{x}, a_{y}\\right)\\,{d n_{x}}$"
      ],
      "text/plain": [
       "<IPython.core.display.Math object>"
      ]
     },
     "metadata": {},
     "output_type": "display_data"
    },
    {
     "data": {
      "text/plain": [
       "(None, None, None)"
      ]
     },
     "execution_count": 178,
     "metadata": {},
     "output_type": "execute_result"
    }
   ],
   "source": [
    "disp(halfy_halfx_F), disp(inty_halfx_F), disp(halfy_intx_F)"
   ]
  },
  {
   "cell_type": "markdown",
   "metadata": {},
   "source": [
    "Now using 1D EULER-MACLAURIN formula in form:"
   ]
  },
  {
   "cell_type": "markdown",
   "metadata": {},
   "source": [
    "$${\\displaystyle \\sum _{i=a}^{b}f(i)=\\int _{a}^{b}f(x)\\,dx+{\\frac {f(a)+f(b)}{2}}+\\sum _{k=1}^{\\lfloor p/2\\rfloor }{\\frac {B_{2k}}{(2k)!}}(f^{(2k-1)}(b)-f^{(2k-1)}(a))+R_{p},}$$"
   ]
  },
  {
   "cell_type": "markdown",
   "metadata": {},
   "source": [
    "we can see that"
   ]
  },
  {
   "cell_type": "markdown",
   "metadata": {},
   "source": [
    "$$\n",
    "\\frac{1}{4}F\\left(0, 0\\right)\n",
    "- \\frac{1}{2}\\sum\\limits_{n_y=0}^{\\infty}{F\\left(0, n_y\\right)}\n",
    "- \\frac{1}{2}\\sum\\limits_{n_x=0}^{\\infty}{F\\left(n_x, 0\\right)}\n",
    "$$"
   ]
  },
  {
   "cell_type": "markdown",
   "metadata": {},
   "source": [
    "will be equial to"
   ]
  },
  {
   "cell_type": "code",
   "execution_count": 179,
   "metadata": {},
   "outputs": [
    {
     "data": {
      "text/latex": [
       "$\\displaystyle -\\frac{1}{4} \\, F\\left(a_{x}, a_{y}\\right) - \\frac{1}{2} \\, \\int_{a_{x}}^{b_{x}} \\frac{1}{2} \\, {\\left(2 \\, n_{x} - 2 \\, \\left \\lfloor n_{x} \\right \\rfloor - 1\\right)} \\frac{\\partial}{\\partial n_{x}}F\\left(n_{x}, n_{y}\\right)\\,{d n_{x}} - \\frac{1}{2} \\, \\int_{a_{y}}^{b_{y}} \\frac{1}{2} \\, {\\left(2 \\, n_{y} - 2 \\, \\left \\lfloor n_{y} \\right \\rfloor - 1\\right)} \\frac{\\partial}{\\partial n_{y}}F\\left(n_{x}, n_{y}\\right)\\,{d n_{y}} - \\frac{1}{2} \\, \\int_{a_{y}}^{b_{y}} F\\left(a_{x}, n_{y}\\right)\\,{d n_{y}} - \\frac{1}{2} \\, \\int_{a_{x}}^{b_{x}} F\\left(n_{x}, a_{y}\\right)\\,{d n_{x}}$"
      ],
      "text/plain": [
       "<IPython.core.display.Math object>"
      ]
     },
     "metadata": {},
     "output_type": "display_data"
    }
   ],
   "source": [
    "disp((halfy_halfx_F) \n",
    "     - (inty_halfx_F + halfy_halfx_F + sumy_F/2 + Rpy_F/2)\n",
    "     - (halfy_intx_F + halfy_halfx_F + sumx_F/2 + Rpx_F/2))"
   ]
  },
  {
   "cell_type": "markdown",
   "metadata": {},
   "source": [
    "So we can find\n",
    "\n",
    "\\begin{equation}\n",
    "\\sum\\limits_{n_x=\\left(0\\right)\\,1}^{\\infty}\n",
    "\\sum\\limits_{n_y=\\left(0\\right)\\,1}^{\\infty}\n",
    "F\\left(n_x, n_y\\right)\n",
    "-\n",
    "\\int\\limits_{0}^{\\infty}\n",
    "\\int\\limits_{0}^{\\infty}\n",
    "F\\left(n_x, n_y\\right)\\,d{n_x}\\,d{n_y}\n",
    "\\end{equation}\n",
    "\n",
    "using the following formula:"
   ]
  },
  {
   "cell_type": "code",
   "execution_count": 180,
   "metadata": {},
   "outputs": [],
   "source": [
    "result_F = \\\n",
    "                             + inty_sumx_F  + inty_Rpx_F  + \\\n",
    "                             + halfy_sumx_F + halfy_Rpx_F + \\\n",
    "sumy_intx_F  + sumy_halfx_F  + sumy_sumx_F  + sumy_Rpx_F + \\\n",
    "Rpy_intx_F   + Rpy_halfx_F   + Rpy_sumx_F   + Rpy_Rpx_F \\\n",
    "- (sumy_F/2 + Rpy_F/2) \\\n",
    "- (sumx_F/2 + Rpx_F/2)"
   ]
  },
  {
   "cell_type": "code",
   "execution_count": 181,
   "metadata": {},
   "outputs": [
    {
     "data": {
      "text/latex": [
       "$\\displaystyle \\int_{a_{y}}^{b_{y}} 0\\,{d n_{y}} + \\int_{a_{y}}^{b_{y}} \\frac{1}{2} \\, {\\left(2 \\, n_{y} - 2 \\, \\left \\lfloor n_{y} \\right \\rfloor - 1\\right)} \\int_{a_{x}}^{b_{x}} \\frac{1}{2} \\, {\\left(2 \\, n_{x} - 2 \\, \\left \\lfloor n_{x} \\right \\rfloor - 1\\right)} \\frac{\\partial^{2}}{\\partial n_{x}\\partial n_{y}}F\\left(n_{x}, n_{y}\\right)\\,{d n_{x}}\\,{d n_{y}} + \\int_{a_{y}}^{b_{y}} \\frac{1}{4} \\, {\\left(2 \\, n_{y} - 2 \\, \\left \\lfloor n_{y} \\right \\rfloor - 1\\right)} \\frac{\\partial}{\\partial n_{y}}F\\left(a_{x}, n_{y}\\right)\\,{d n_{y}} - \\frac{1}{4} \\, \\int_{a_{x}}^{b_{x}} -2 \\, n_{x} \\frac{\\partial}{\\partial n_{x}}F\\left(n_{x}, a_{y}\\right)\\,{d n_{x}} - \\frac{1}{4} \\, \\int_{a_{x}}^{b_{x}} 2 \\, \\left \\lfloor n_{x} \\right \\rfloor \\frac{\\partial}{\\partial n_{x}}F\\left(n_{x}, a_{y}\\right)\\,{d n_{x}} - \\frac{1}{2} \\, \\int_{a_{x}}^{b_{x}} \\frac{1}{2} \\, {\\left(2 \\, n_{x} - 2 \\, \\left \\lfloor n_{x} \\right \\rfloor - 1\\right)} \\frac{\\partial}{\\partial n_{x}}F\\left(n_{x}, n_{y}\\right)\\,{d n_{x}} - \\frac{1}{2} \\, \\int_{a_{y}}^{b_{y}} \\frac{1}{2} \\, {\\left(2 \\, n_{y} - 2 \\, \\left \\lfloor n_{y} \\right \\rfloor - 1\\right)} \\frac{\\partial}{\\partial n_{y}}F\\left(n_{x}, n_{y}\\right)\\,{d n_{y}} + 2 \\, \\int_{a_{y}}^{b_{y}} \\int_{a_{x}}^{b_{x}} \\frac{1}{2} \\, {\\left(2 \\, n_{x} - 2 \\, \\left \\lfloor n_{x} \\right \\rfloor - 1\\right)} \\frac{\\partial}{\\partial n_{x}}F\\left(n_{x}, n_{y}\\right)\\,{d n_{x}}\\,{d n_{y}} - \\frac{1}{4} \\, \\int_{a_{x}}^{b_{x}} \\frac{\\partial}{\\partial n_{x}}F\\left(n_{x}, a_{y}\\right)\\,{d n_{x}}$"
      ],
      "text/plain": [
       "<IPython.core.display.Math object>"
      ]
     },
     "metadata": {},
     "output_type": "display_data"
    }
   ],
   "source": [
    "disp(result_F)"
   ]
  },
  {
   "cell_type": "markdown",
   "metadata": {},
   "source": [
    "(without remainer part)"
   ]
  },
  {
   "cell_type": "code",
   "execution_count": 182,
   "metadata": {},
   "outputs": [],
   "source": [
    "result_F_without_Rp = \\\n",
    "                             + inty_sumx_F  + \\\n",
    "                             + halfy_sumx_F + \\\n",
    "sumy_intx_F  + sumy_halfx_F  + sumy_sumx_F  + \\\n",
    "- (sumy_F/2) \\\n",
    "- (sumx_F/2)"
   ]
  },
  {
   "cell_type": "code",
   "execution_count": 183,
   "metadata": {},
   "outputs": [
    {
     "data": {
      "text/latex": [
       "$\\displaystyle 0$"
      ],
      "text/plain": [
       "<IPython.core.display.Math object>"
      ]
     },
     "metadata": {},
     "output_type": "display_data"
    }
   ],
   "source": [
    "disp(result_F_without_Rp)"
   ]
  },
  {
   "cell_type": "markdown",
   "metadata": {},
   "source": [
    "Here is my earlier result for comparing: We apply the EULER-MACLAURIN 2D formula:"
   ]
  },
  {
   "cell_type": "markdown",
   "metadata": {},
   "source": [
    "(without remainer part)"
   ]
  },
  {
   "cell_type": "markdown",
   "metadata": {},
   "source": [
    "\\begin{equation}\n",
    "\\sum\\limits_{\\left(0\\right)\\,1}^{\\infty}\\sum\\limits_{\\left(0\\right)\\,1}^{\\infty}{F\\left(n_x, n_y\\right)}\n",
    "- \\int\\limits_{0}^{\\infty}\\int\\limits_{0}^{\\infty}{F\\left(n_x, n_y\\right)} \n",
    "= - \\frac{1}{12} \\, \\int_{0}^{\\infty} \\frac{\\partial}{\\partial n_{x}}F\\left(0, n_y\\right)\\,{d n_y}\n",
    "- \\frac{1}{12} \\, \\int_{0}^{\\infty} \\frac{\\partial}{\\partial n_{y}}F\\left(n_x, 0\\right)\\,{d n_x}\n",
    "+ \\frac{1}{144} \\, \\frac{\\partial^{2}}{\\partial n_{x}\\partial n_{y}}F\\left(0, 0\\right)\n",
    "\\,+\\,...\n",
    "\\end{equation}"
   ]
  },
  {
   "cell_type": "markdown",
   "metadata": {},
   "source": [
    "or using more terms in the EULER-MACLAURIN 2D formula:"
   ]
  },
  {
   "cell_type": "markdown",
   "metadata": {},
   "source": [
    "\\begin{equation}\n",
    "\\sum\\limits_{\\left(0\\right)\\,1}^{\\infty}\\sum\\limits_{\\left(0\\right)\\,1}^{\\infty}{F\\left(n_x, n_y\\right)}\n",
    "-\\int\\limits_{0}^{\\infty}\\int\\limits_{0}^{\\infty}{F\\left(n_x, n_y\\right)}\n",
    "= - \\frac{1}{12} \\, \\int_{0}^{\\infty}  \\, \\frac{\\partial}{\\partial n_{x}}F\\left(0, n_y\\right)\\,{d n_y}\n",
    "+ \\frac{1}{720} \\, \\int_{0}^{\\infty} \\frac{\\partial^{3}}{(\\partial n_{x})^{3}}F\\left(0, y\\right)\\,{d n_y}\n",
    "- \\frac{1}{12} \\, \\int_{0}^{\\infty} \\frac{\\partial}{\\partial n_{y}}F\\left(n_x, 0\\right)\\,{d n_x}\n",
    "+ \\frac{1}{720} \\, \\int_{0}^{\\infty} \\frac{\\partial^{3}}{(\\partial n_{y})^{3}}F\\left(n_x, 0\\right)\\,{d n_x}\n",
    "- \\frac{1}{8640} \\, \\frac{\\partial^{4}}{(\\partial n_{x})^{3}\\partial n_{y}}F\\left(0, 0\\right)\n",
    "+ \\frac{1}{518400} \\, \\frac{\\partial^{6}}{(\\partial n_{x})^{3}(\\partial n_{y})^{3}}F\\left(0, 0\\right)\n",
    "+ \\frac{1}{144} \\, \\frac{\\partial^{2}}{\\partial n_{x}\\partial n_{y}}F\\left(0, 0\\right)\n",
    "- \\frac{1}{8640} \\, \\frac{\\partial^{4}}{\\partial n_{x}(\\partial n_{y})^{3}}F\\left(0, 0\\right)\n",
    "\\,+\\,...\n",
    "\\end{equation}"
   ]
  },
  {
   "cell_type": "code",
   "execution_count": null,
   "metadata": {},
   "outputs": [],
   "source": []
  },
  {
   "cell_type": "markdown",
   "metadata": {},
   "source": [
    "\\begin{equation}\n",
    "F\\left(u, n_x, n_y\\right) = \n",
    "\\sqrt{n_x^2 + n_y^2+u^2}\\,\n",
    "f\\left(\\frac{\\pi\\sqrt{n_x^2 + n_y^2+u^2}}{a\\,k_m}\\right)\n",
    "\\end{equation}"
   ]
  },
  {
   "cell_type": "code",
   "execution_count": 184,
   "metadata": {},
   "outputs": [
    {
     "data": {
      "text/plain": [
       "0"
      ]
     },
     "execution_count": 184,
     "metadata": {},
     "output_type": "execute_result"
    }
   ],
   "source": [
    "Fu(u, n_x, n_y, a, k_m).diff(n_x).subs(n_x==0)"
   ]
  },
  {
   "cell_type": "markdown",
   "metadata": {},
   "source": [
    "So we see that all terms without remainer part are 0. And so any potencial non zero result should be related with remainer part:"
   ]
  },
  {
   "cell_type": "code",
   "execution_count": 185,
   "metadata": {},
   "outputs": [],
   "source": [
    "result_force_F = \\\n",
    "                                            + inty_Rpx_F  + \\\n",
    "                                            + halfy_Rpx_F + \\\n",
    "                                            + sumy_Rpx_F + \\\n",
    "Rpy_intx_F   + Rpy_halfx_F   + Rpy_sumx_F   + Rpy_Rpx_F \\\n",
    "- (Rpy_F/2) \\\n",
    "- (Rpx_F/2)"
   ]
  },
  {
   "cell_type": "markdown",
   "metadata": {},
   "source": [
    "Or using simmetric properties we can:"
   ]
  },
  {
   "cell_type": "code",
   "execution_count": 186,
   "metadata": {},
   "outputs": [],
   "source": [
    "result_force_F = 2 * Rpy_intx_F + 2 * Rpy_halfx_F + 2 * Rpy_sumx_F + Rpy_Rpx_F - Rpy_F"
   ]
  },
  {
   "cell_type": "code",
   "execution_count": 187,
   "metadata": {},
   "outputs": [
    {
     "data": {
      "text/latex": [
       "$\\displaystyle 2 \\, \\int_{a_{y}}^{b_{y}} \\int_{a_{x}}^{b_{x}} \\frac{1}{2} \\, {\\left(2 \\, n_{x} - 2 \\, \\left \\lfloor n_{x} \\right \\rfloor - 1\\right)} \\frac{\\partial}{\\partial n_{x}}F\\left(n_{x}, n_{y}\\right)\\,{d n_{x}}\\,{d n_{y}}$"
      ],
      "text/plain": [
       "<IPython.core.display.Math object>"
      ]
     },
     "metadata": {},
     "output_type": "display_data"
    },
    {
     "data": {
      "text/latex": [
       "$\\displaystyle 2 \\, \\int_{a_{y}}^{b_{y}} \\frac{1}{4} \\, {\\left(2 \\, n_{y} - 2 \\, \\left \\lfloor n_{y} \\right \\rfloor - 1\\right)} \\frac{\\partial}{\\partial n_{y}}F\\left(a_{x}, n_{y}\\right)\\,{d n_{y}}$"
      ],
      "text/plain": [
       "<IPython.core.display.Math object>"
      ]
     },
     "metadata": {},
     "output_type": "display_data"
    },
    {
     "data": {
      "text/latex": [
       "$\\displaystyle 2 \\, \\int_{a_{y}}^{b_{y}} 0\\,{d n_{y}}$"
      ],
      "text/plain": [
       "<IPython.core.display.Math object>"
      ]
     },
     "metadata": {},
     "output_type": "display_data"
    },
    {
     "data": {
      "text/latex": [
       "$\\displaystyle \\int_{a_{y}}^{b_{y}} \\frac{1}{2} \\, {\\left(2 \\, n_{y} - 2 \\, \\left \\lfloor n_{y} \\right \\rfloor - 1\\right)} \\int_{a_{x}}^{b_{x}} \\frac{1}{2} \\, {\\left(2 \\, n_{x} - 2 \\, \\left \\lfloor n_{x} \\right \\rfloor - 1\\right)} \\frac{\\partial^{2}}{\\partial n_{x}\\partial n_{y}}F\\left(n_{x}, n_{y}\\right)\\,{d n_{x}}\\,{d n_{y}}$"
      ],
      "text/plain": [
       "<IPython.core.display.Math object>"
      ]
     },
     "metadata": {},
     "output_type": "display_data"
    },
    {
     "data": {
      "text/latex": [
       "$\\displaystyle -\\int_{a_{y}}^{b_{y}} \\frac{1}{2} \\, {\\left(2 \\, n_{y} - 2 \\, \\left \\lfloor n_{y} \\right \\rfloor - 1\\right)} \\frac{\\partial}{\\partial n_{y}}F\\left(n_{x}, n_{y}\\right)\\,{d n_{y}}$"
      ],
      "text/plain": [
       "<IPython.core.display.Math object>"
      ]
     },
     "metadata": {},
     "output_type": "display_data"
    },
    {
     "data": {
      "text/plain": [
       "(None, None, None, None, None)"
      ]
     },
     "execution_count": 187,
     "metadata": {},
     "output_type": "execute_result"
    }
   ],
   "source": [
    "disp(2 * Rpy_intx_F ), disp(2 * Rpy_halfx_F), disp (2 * Rpy_sumx_F), disp(Rpy_Rpx_F), disp(- Rpy_F)"
   ]
  },
  {
   "cell_type": "markdown",
   "metadata": {},
   "source": [
    "Rpy_sumx_F should be 0, bacause derivative by n_x when n_x = 0 gives 0.\n",
    "\n",
    "2 * Rpy_halfx_F - Rpy_F gives 0 in summation.\n",
    "\n",
    "So "
   ]
  },
  {
   "cell_type": "code",
   "execution_count": 188,
   "metadata": {},
   "outputs": [],
   "source": [
    "result_force_F = 2 * Rpy_intx_F + Rpy_Rpx_F"
   ]
  },
  {
   "cell_type": "code",
   "execution_count": 189,
   "metadata": {},
   "outputs": [
    {
     "data": {
      "text/latex": [
       "$\\displaystyle \\int_{a_{y}}^{b_{y}} \\frac{1}{2} \\, {\\left(2 \\, n_{y} - 2 \\, \\left \\lfloor n_{y} \\right \\rfloor - 1\\right)} \\int_{a_{x}}^{b_{x}} \\frac{1}{2} \\, {\\left(2 \\, n_{x} - 2 \\, \\left \\lfloor n_{x} \\right \\rfloor - 1\\right)} \\frac{\\partial^{2}}{\\partial n_{x}\\partial n_{y}}F\\left(n_{x}, n_{y}\\right)\\,{d n_{x}}\\,{d n_{y}} + 2 \\, \\int_{a_{y}}^{b_{y}} \\int_{a_{x}}^{b_{x}} \\frac{1}{2} \\, {\\left(2 \\, n_{x} - 2 \\, \\left \\lfloor n_{x} \\right \\rfloor - 1\\right)} \\frac{\\partial}{\\partial n_{x}}F\\left(n_{x}, n_{y}\\right)\\,{d n_{x}}\\,{d n_{y}}$"
      ],
      "text/plain": [
       "<IPython.core.display.Math object>"
      ]
     },
     "metadata": {},
     "output_type": "display_data"
    }
   ],
   "source": [
    "disp(result_force_F)"
   ]
  },
  {
   "cell_type": "code",
   "execution_count": 190,
   "metadata": {},
   "outputs": [
    {
     "data": {
      "text/latex": [
       "$\\displaystyle 2 \\, \\int_{0}^{+\\infty} \\int_{0}^{+\\infty} \\frac{1}{2} \\, {\\left(\\frac{n_{x} f\\left(\\frac{\\pi \\sqrt{n_{x}^{2} + n_{y}^{2} + u^{2}}}{a k_{m}}\\right)}{\\sqrt{n_{x}^{2} + n_{y}^{2} + u^{2}}} + \\frac{\\pi n_{x} \\mathrm{D}_{0}\\left(f\\right)\\left(\\frac{\\pi \\sqrt{n_{x}^{2} + n_{y}^{2} + u^{2}}}{a k_{m}}\\right)}{a k_{m}}\\right)} {\\left(2 \\, n_{x} - 2 \\, \\left \\lfloor n_{x} \\right \\rfloor - 1\\right)}\\,{d n_{x}}\\,{d n_{y}}$"
      ],
      "text/plain": [
       "<IPython.core.display.Math object>"
      ]
     },
     "metadata": {},
     "output_type": "display_data"
    }
   ],
   "source": [
    "disp(2 * Rpy_intx_Fu)"
   ]
  },
  {
   "cell_type": "code",
   "execution_count": 191,
   "metadata": {},
   "outputs": [
    {
     "data": {
      "text/latex": [
       "$\\displaystyle \\int_{0}^{+\\infty} \\int_{0}^{+\\infty} -\\frac{1}{4} \\, {\\left(2 \\, n_{x} - 2 \\, \\left \\lfloor n_{x} \\right \\rfloor - 1\\right)} {\\left(2 \\, n_{y} - 2 \\, \\left \\lfloor n_{y} \\right \\rfloor - 1\\right)} {\\left(\\frac{n_{x} n_{y}}{{\\left(n_{x}^{2} + n_{y}^{2} + u^{2}\\right)}^{\\frac{3}{2}} {\\left(\\frac{\\pi^{4} {\\left(n_{x}^{2} + n_{y}^{2} + u^{2}\\right)}^{2}}{a^{4} k_{m}^{4}} + 1\\right)}} + \\frac{16 \\, \\pi^{4} \\sqrt{n_{x}^{2} + n_{y}^{2} + u^{2}} n_{x} n_{y}}{a^{4} k_{m}^{4} {\\left(\\frac{\\pi^{4} {\\left(n_{x}^{2} + n_{y}^{2} + u^{2}\\right)}^{2}}{a^{4} k_{m}^{4}} + 1\\right)}^{2}} - \\frac{32 \\, \\pi^{8} {\\left(n_{x}^{2} + n_{y}^{2} + u^{2}\\right)}^{\\frac{5}{2}} n_{x} n_{y}}{a^{8} k_{m}^{8} {\\left(\\frac{\\pi^{4} {\\left(n_{x}^{2} + n_{y}^{2} + u^{2}\\right)}^{2}}{a^{4} k_{m}^{4}} + 1\\right)}^{3}}\\right)}\\,{d n_{y}}\\,{d n_{x}} + 2 \\, \\int_{0}^{+\\infty} \\int_{0}^{+\\infty} \\frac{1}{2} \\, {\\left(2 \\, n_{x} - 2 \\, \\left \\lfloor n_{x} \\right \\rfloor - 1\\right)} {\\left(\\frac{n_{x}}{\\sqrt{n_{x}^{2} + n_{y}^{2} + u^{2}} {\\left(\\frac{\\pi^{4} {\\left(n_{x}^{2} + n_{y}^{2} + u^{2}\\right)}^{2}}{a^{4} k_{m}^{4}} + 1\\right)}} - \\frac{4 \\, \\pi^{4} {\\left(n_{x}^{2} + n_{y}^{2} + u^{2}\\right)}^{\\frac{3}{2}} n_{x}}{a^{4} k_{m}^{4} {\\left(\\frac{\\pi^{4} {\\left(n_{x}^{2} + n_{y}^{2} + u^{2}\\right)}^{2}}{a^{4} k_{m}^{4}} + 1\\right)}^{2}}\\right)}\\,{d n_{x}}\\,{d n_{y}}$"
      ],
      "text/plain": [
       "<IPython.core.display.Math object>"
      ]
     },
     "metadata": {},
     "output_type": "display_data"
    }
   ],
   "source": [
    "disp(2 * inty_Rpx_Fn + integrate(integrate(Rpy_Rpx_Fn_integrand(u, n_x, n_y, a, k_m), n_y, 0, Infinity, hold=True), n_x, 0, Infinity, hold=True))"
   ]
  },
  {
   "cell_type": "code",
   "execution_count": null,
   "metadata": {},
   "outputs": [],
   "source": []
  },
  {
   "cell_type": "markdown",
   "metadata": {},
   "source": [
    "# Let's investigate behaviour of result force integrand"
   ]
  },
  {
   "cell_type": "code",
   "execution_count": 192,
   "metadata": {},
   "outputs": [
    {
     "data": {
      "text/latex": [
       "$\\displaystyle \\frac{1}{4} \\, {\\left({\\left(\\frac{32 \\, \\pi^{8} {\\left(n_{x}^{2} + n_{y}^{2} + u^{2}\\right)}^{\\frac{5}{2}} n_{x} n_{y}}{{\\left(\\frac{\\pi^{4} {\\left(n_{x}^{2} + n_{y}^{2} + u^{2}\\right)}^{2}}{k_{m}^{4}} + 1\\right)}^{3} k_{m}^{8}} - \\frac{16 \\, \\pi^{4} \\sqrt{n_{x}^{2} + n_{y}^{2} + u^{2}} n_{x} n_{y}}{{\\left(\\frac{\\pi^{4} {\\left(n_{x}^{2} + n_{y}^{2} + u^{2}\\right)}^{2}}{k_{m}^{4}} + 1\\right)}^{2} k_{m}^{4}} - \\frac{n_{x} n_{y}}{{\\left(\\frac{\\pi^{4} {\\left(n_{x}^{2} + n_{y}^{2} + u^{2}\\right)}^{2}}{k_{m}^{4}} + 1\\right)} {\\left(n_{x}^{2} + n_{y}^{2} + u^{2}\\right)}^{\\frac{3}{2}}}\\right)} {\\left(2 \\, n_{y} - 2 \\, \\left \\lfloor n_{y} \\right \\rfloor - 1\\right)} - \\frac{16 \\, \\pi^{4} {\\left(n_{x}^{2} + n_{y}^{2} + u^{2}\\right)}^{\\frac{3}{2}} n_{x}}{{\\left(\\frac{\\pi^{4} {\\left(n_{x}^{2} + n_{y}^{2} + u^{2}\\right)}^{2}}{k_{m}^{4}} + 1\\right)}^{2} k_{m}^{4}} + \\frac{4 \\, n_{x}}{{\\left(\\frac{\\pi^{4} {\\left(n_{x}^{2} + n_{y}^{2} + u^{2}\\right)}^{2}}{k_{m}^{4}} + 1\\right)} \\sqrt{n_{x}^{2} + n_{y}^{2} + u^{2}}}\\right)} {\\left(2 \\, n_{x} - 2 \\, \\left \\lfloor n_{x} \\right \\rfloor - 1\\right)}$"
      ],
      "text/plain": [
       "<IPython.core.display.Math object>"
      ]
     },
     "metadata": {},
     "output_type": "display_data"
    }
   ],
   "source": [
    "exec(preparse(\"result_force_Fn_integrand = lambda u, n_x, n_y, a, k_m :\" + str(\n",
    "    (\n",
    "        (-1)^(p+1) * Fn_diff_x_p_diff_y_p(u, n_x, n_y, a, k_m) * (P(x=n_y,p=p)/fact(n=p))\n",
    "        + 2 * Fn_diff_x_p(u, n_x, n_y, a, k_m)\n",
    "    )\n",
    "    * (-1)^(p+1)*P(x=n_x,p=p)/fact(n=p)\n",
    ")))\n",
    "disp(result_force_Fn_integrand(u, n_x, n_y, 1, k_m))"
   ]
  },
  {
   "cell_type": "code",
   "execution_count": 193,
   "metadata": {},
   "outputs": [
    {
     "data": {
      "text/latex": [
       "$\\displaystyle -\\frac{1}{4} \\, {\\left({\\left(2 \\, n_{y} - 2 \\, \\left \\lfloor n_{y} \\right \\rfloor - 1\\right)} {\\left(\\frac{n_{x} n_{y}}{{\\left(n_{x}^{2} + n_{y}^{2} + u^{2}\\right)}^{\\frac{3}{2}} {\\left(\\frac{\\pi^{4} {\\left(n_{x}^{2} + n_{y}^{2} + u^{2}\\right)}^{2}}{a^{4} k_{m}^{4}} + 1\\right)}} + \\frac{16 \\, \\pi^{4} \\sqrt{n_{x}^{2} + n_{y}^{2} + u^{2}} n_{x} n_{y}}{a^{4} k_{m}^{4} {\\left(\\frac{\\pi^{4} {\\left(n_{x}^{2} + n_{y}^{2} + u^{2}\\right)}^{2}}{a^{4} k_{m}^{4}} + 1\\right)}^{2}} - \\frac{32 \\, \\pi^{8} {\\left(n_{x}^{2} + n_{y}^{2} + u^{2}\\right)}^{\\frac{5}{2}} n_{x} n_{y}}{a^{8} k_{m}^{8} {\\left(\\frac{\\pi^{4} {\\left(n_{x}^{2} + n_{y}^{2} + u^{2}\\right)}^{2}}{a^{4} k_{m}^{4}} + 1\\right)}^{3}}\\right)} - \\frac{4 \\, n_{x}}{\\sqrt{n_{x}^{2} + n_{y}^{2} + u^{2}} {\\left(\\frac{\\pi^{4} {\\left(n_{x}^{2} + n_{y}^{2} + u^{2}\\right)}^{2}}{a^{4} k_{m}^{4}} + 1\\right)}} + \\frac{16 \\, \\pi^{4} {\\left(n_{x}^{2} + n_{y}^{2} + u^{2}\\right)}^{\\frac{3}{2}} n_{x}}{a^{4} k_{m}^{4} {\\left(\\frac{\\pi^{4} {\\left(n_{x}^{2} + n_{y}^{2} + u^{2}\\right)}^{2}}{a^{4} k_{m}^{4}} + 1\\right)}^{2}}\\right)} {\\left(2 \\, n_{x} - 2 \\, \\left \\lfloor n_{x} \\right \\rfloor - 1\\right)}$"
      ],
      "text/plain": [
       "<IPython.core.display.Math object>"
      ]
     },
     "metadata": {},
     "output_type": "display_data"
    }
   ],
   "source": [
    "disp(result_force_Fn_integrand(u, n_x, n_y, a, k_m))"
   ]
  },
  {
   "cell_type": "code",
   "execution_count": 194,
   "metadata": {},
   "outputs": [
    {
     "data": {
      "text/plain": [
       "(2*n_x^2 - 2*n_x*floor(n_x) - n_x)/sqrt(n_x^2 + n_y^2 + u^2)"
      ]
     },
     "execution_count": 194,
     "metadata": {},
     "output_type": "execute_result"
    }
   ],
   "source": [
    "lim_2_Rpx_Fn_integrand=limit(2*Rpx_Fn_integrand(u, n_x, n_y, a, k_m), k_m=Infinity)\n",
    "lim_2_Rpx_Fn_integrand"
   ]
  },
  {
   "cell_type": "code",
   "execution_count": 195,
   "metadata": {},
   "outputs": [
    {
     "data": {
      "text/plain": [
       "(2*n_x^2 - 2*n_x*floor(n_x) - n_x)/sqrt(n_x^2 + n_y^2 + u^2)"
      ]
     },
     "execution_count": 195,
     "metadata": {},
     "output_type": "execute_result"
    }
   ],
   "source": [
    "exec(preparse(\"result_force_Fn_limited_integrand = lambda u, n_x, n_y :\" + str(lim_2_Rpx_Fn_integrand)))\n",
    "result_force_Fn_limited_integrand(u, n_x, n_y)"
   ]
  },
  {
   "cell_type": "raw",
   "metadata": {},
   "source": [
    "limit(Rpy_Rpx_Fn_integrand(u, n_x, n_y, a, k_m), k_m=Infinity)"
   ]
  },
  {
   "cell_type": "code",
   "execution_count": 196,
   "metadata": {},
   "outputs": [
    {
     "data": {
      "image/png": "[encoded data removed]",
      "text/plain": [
       "Graphics object consisting of 1 graphics primitive"
      ]
     },
     "execution_count": 196,
     "metadata": {},
     "output_type": "execute_result"
    }
   ],
   "source": [
    "plot(Rpy_Rpx_Fn_integrand(1, 10, 3, 1, k_m), (k_m, 0, 1000 ))"
   ]
  },
  {
   "cell_type": "code",
   "execution_count": 197,
   "metadata": {},
   "outputs": [
    {
     "data": {
      "image/png": "[encoded data removed]",
      "text/plain": [
       "Graphics object consisting of 2 graphics primitives"
      ]
     },
     "execution_count": 197,
     "metadata": {},
     "output_type": "execute_result"
    }
   ],
   "source": [
    "plot([result_force_Fn_integrand(1, 2, 3, 1, k_m), 2 * Rpx_Fn_integrand(1, 2, 3, 1, k_m)], (k_m, 0, 100 ))"
   ]
  },
  {
   "cell_type": "code",
   "execution_count": 198,
   "metadata": {},
   "outputs": [
    {
     "data": {
      "image/png": "[encoded data removed]",
      "text/plain": [
       "Graphics object consisting of 2 graphics primitives"
      ]
     },
     "execution_count": 198,
     "metadata": {},
     "output_type": "execute_result"
    }
   ],
   "source": [
    "plot([result_force_Fn_integrand(10, 2, 3, 1, k_m), 2 * Rpx_Fn_integrand(10, 2, 3, 1, k_m)], (k_m, 0, 100 ))"
   ]
  },
  {
   "cell_type": "code",
   "execution_count": 199,
   "metadata": {},
   "outputs": [
    {
     "data": {
      "image/png": "[encoded data removed]",
      "text/plain": [
       "Graphics object consisting of 2 graphics primitives"
      ]
     },
     "execution_count": 199,
     "metadata": {},
     "output_type": "execute_result"
    }
   ],
   "source": [
    "plot([result_force_Fn_integrand(1, 20, 3, 1, k_m), 2 * Rpx_Fn_integrand(1, 20, 3, 1, k_m)], (k_m, 0, 1000 ))"
   ]
  },
  {
   "cell_type": "code",
   "execution_count": 200,
   "metadata": {},
   "outputs": [
    {
     "data": {
      "image/png": "[encoded data removed]",
      "text/plain": [
       "Graphics object consisting of 1 graphics primitive"
      ]
     },
     "execution_count": 200,
     "metadata": {},
     "output_type": "execute_result"
    }
   ],
   "source": [
    "plot(result_force_Fn_integrand(1, 10, 3, 1, k_m), (k_m, 0, 1000 ))"
   ]
  },
  {
   "cell_type": "code",
   "execution_count": 201,
   "metadata": {},
   "outputs": [
    {
     "data": {
      "image/png": "[encoded data removed]",
      "text/plain": [
       "Graphics object consisting of 2 graphics primitives"
      ]
     },
     "execution_count": 201,
     "metadata": {},
     "output_type": "execute_result"
    }
   ],
   "source": [
    "plot([result_force_Fn_integrand(1, n_x, 3, 1, 1000), result_force_Fn_limited_integrand(1, n_x, 3)], (n_x, 1000, 1025 ))"
   ]
  },
  {
   "cell_type": "code",
   "execution_count": 202,
   "metadata": {},
   "outputs": [
    {
     "data": {
      "image/png": "[encoded data removed]",
      "text/plain": [
       "Graphics object consisting of 2 graphics primitives"
      ]
     },
     "execution_count": 202,
     "metadata": {},
     "output_type": "execute_result"
    }
   ],
   "source": [
    "plot([result_force_Fn_integrand(u, 100, 3, 1, 1000000), result_force_Fn_limited_integrand(u, 100, 3)], (u, 0, 10000 ))"
   ]
  },
  {
   "cell_type": "code",
   "execution_count": 203,
   "metadata": {},
   "outputs": [
    {
     "data": {
      "image/png": "[encoded data removed]",
      "text/plain": [
       "Graphics object consisting of 1 graphics primitive"
      ]
     },
     "execution_count": 203,
     "metadata": {},
     "output_type": "execute_result"
    }
   ],
   "source": [
    "plot(result_force_Fn_limited_integrand(1000, n_x, 3), (n_x, 1000000000000, 1000000000050 ))"
   ]
  },
  {
   "cell_type": "code",
   "execution_count": 204,
   "metadata": {},
   "outputs": [
    {
     "data": {
      "image/png": "[encoded data removed]",
      "text/plain": [
       "Graphics object consisting of 1 graphics primitive"
      ]
     },
     "execution_count": 204,
     "metadata": {},
     "output_type": "execute_result"
    }
   ],
   "source": [
    "plot(result_force_Fn_integrand(1, n_x, 3, 1, 1000), (n_x, 1000, 10000 ))"
   ]
  },
  {
   "cell_type": "markdown",
   "metadata": {},
   "source": [
    "# Result_force calculation via Euler–Maclaurin 2D"
   ]
  },
  {
   "cell_type": "code",
   "execution_count": 205,
   "metadata": {},
   "outputs": [],
   "source": [
    "def calc_result_force_add_Fn(jx, akm):\n",
    "    result_force_add = 0\n",
    "    \n",
    "    add = 2*intu_inty_Rpx_Fn_j_num( j_x = jx, a=1, k_m = akm)\n",
    "    result_force_add += add\n",
    "    #print (jx, \"2*inty_Rpx(jx)\", add, result_force_add)\n",
    "    \n",
    "    add = intu_Rpy_Rpx_Fn_j_num (j_x = jx, j_y = jx, a=1, k_m = akm)   \n",
    "    result_force_add += add\n",
    "    #print (jx, \"Rpy_Rpx(jx,jx)\", add, result_force_add)\n",
    "    \n",
    "    for jy in range(0, jx):\n",
    "        add = 2 * intu_Rpy_Rpx_Fn_j_num (j_x = jx, j_y = jy, a=1, k_m = akm)\n",
    "        result_force_add += add\n",
    "        #print (jx, jy, \"2 * Rpy_Rpx(jx,jy)\", add, result_force_add)\n",
    "        \n",
    "    # print (jx, result_force_add)\n",
    "\n",
    "    return result_force_add    "
   ]
  },
  {
   "cell_type": "code",
   "execution_count": 213,
   "metadata": {},
   "outputs": [],
   "source": [
    "#intu_Rpy_Rpx_Fn_j_num (j_x = 0, j_y = 0, a = 1, k_m = 1)\n",
    "#tolerance = 9.474727462869584e-09\n",
    "#-0.002569089149475086"
   ]
  },
  {
   "cell_type": "code",
   "execution_count": 206,
   "metadata": {},
   "outputs": [],
   "source": [
    "def calc_result_force_add_G(jx, akm):\n",
    "    result_force_add = 0\n",
    "    \n",
    "    add = inty_Rpx_G_j_numerical( j_x = jx, ak_m = akm)\n",
    "    result_force_add += 2*add[0]\n",
    "    print (jx, \"2*inty_Rpx(jx)\", add, result_force_add)\n",
    "    \n",
    "    add = Rpy_Rpx_G_j_numerical(j_x = jx, j_y = jx, ak_m = akm)\n",
    "    result_force_add += add[0]\n",
    "    print (jx, \"Rpy_Rpx(jx,jx)\", add, result_force_add)\n",
    "    \n",
    "    for jy in range(0, jx):\n",
    "        add = Rpy_Rpx_G_j_numerical (j_x = jx, j_y = jy, ak_m = akm)\n",
    "        result_force_add += 2*add[0]\n",
    "        print (jx, jy, \"2 * Rpy_Rpx(jx,jy)\", add, result_force_add)\n",
    "        \n",
    "    print (jx, result_force_add)\n",
    "\n",
    "    return result_force_add    "
   ]
  },
  {
   "cell_type": "code",
   "execution_count": 207,
   "metadata": {},
   "outputs": [],
   "source": [
    "def calc_result_force_add(jx, akm):\n",
    "    return calc_result_force_add_Fn(jx, akm)   "
   ]
  },
  {
   "cell_type": "code",
   "execution_count": 208,
   "metadata": {},
   "outputs": [],
   "source": [
    "def calc_result_force(N, akm, N_0 = 0, force_0 = 0):\n",
    "    result_force = force_0\n",
    "    result_force_plot_force_data = []\n",
    "    result_force_plot_add_data = []\n",
    "    for jx in range(N_0, N+1):\n",
    "        add = calc_result_force_add(jx, akm)\n",
    "        result_force += add\n",
    "        result_force_plot_force_data += [(jx, result_force)]\n",
    "        result_force_plot_add_data += [(jx, add)]\n",
    "        print (jx, add, result_force)\n",
    "    return result_force, result_force_plot_force_data, result_force_plot_add_data"
   ]
  },
  {
   "cell_type": "code",
   "execution_count": 209,
   "metadata": {},
   "outputs": [
    {
     "name": "stdout",
     "output_type": "stream",
     "text": [
      "0 0.0006061883111035354 0.0006061883111035354\n",
      "1 0.0017975635908745761 0.0024037519019781115\n",
      "2 0.00035749773184259783 0.0027612496338207094\n",
      "3 0.00012788697859491643 0.0028891366124156256\n",
      "4 5.9705484001188586e-05 0.0029488420964168143\n",
      "5 3.257148744888141e-05 0.002981413583865696\n",
      "6 1.968745192542542e-05 0.0030011010357911213\n",
      "7 1.2797274646692704e-05 0.003013898310437814\n",
      "8 8.782630461354662e-06 0.0030226809408991687\n",
      "9 6.286568945150221e-06 0.003028967509844319\n",
      "10 4.653726092487851e-06 0.003033621235936807\n",
      "11 3.5410584083251118e-06 0.003037162294345132\n",
      "12 2.75679543325626e-06 0.003039919089778388\n",
      "13 2.1876911407025913e-06 0.003042106780919091\n",
      "14 1.7653796431461397e-06 0.003043872160562237\n",
      "15 1.4449179129158848e-06 0.003045317078475153\n",
      "16 1.1976496673269677e-06 0.00304651472814248\n",
      "17 1.0037556551007683e-06 0.003047518483797581\n",
      "18 8.495559555607291e-07 0.003048368039753142\n",
      "19 7.253977933560336e-07 0.003049093437546498\n",
      "20 6.243082554640035e-07 0.003049717745801962\n",
      "21 5.411649832104003e-07 0.0030502589107851722\n",
      "22 4.721552783665532e-07 0.003050731066063539\n",
      "23 4.144594797762564e-07 0.003051145525543315\n",
      "24 3.6583976909206116e-07 0.003051511365312407\n",
      "25 3.2450273727752887e-07 0.0030518358680496844\n"
     ]
    }
   ],
   "source": [
    "result_force, result_force_plot_force_data, result_force_plot_add_data = calc_result_force(N=25, akm=1)"
   ]
  },
  {
   "cell_type": "code",
   "execution_count": null,
   "metadata": {},
   "outputs": [],
   "source": [
    "result_force_str = \"\"\"\n",
    "0 0.0006061883111035354 0.0006061883111035354\n",
    "1 0.0017975635908745761 0.0024037519019781115\n",
    "2 0.00035749773184259783 0.0027612496338207094\n",
    "3 0.00012788697859491643 0.0028891366124156256\n",
    "4 5.9705484001188586e-05 0.0029488420964168143\n",
    "5 3.257148744888141e-05 0.002981413583865696\n",
    "6 1.968745192542542e-05 0.0030011010357911213\n",
    "7 1.2797274646692704e-05 0.003013898310437814\n",
    "8 8.782630461354662e-06 0.0030226809408991687\n",
    "9 6.286568945150221e-06 0.003028967509844319\n",
    "10 4.653726092487851e-06 0.003033621235936807\n",
    "11 3.5410584083251118e-06 0.003037162294345132\n",
    "12 2.75679543325626e-06 0.003039919089778388\n",
    "13 2.1876911407025913e-06 0.003042106780919091\n",
    "14 1.7653796431461397e-06 0.003043872160562237\n",
    "15 1.4449179129158848e-06 0.003045317078475153\n",
    "16 1.1976496673269677e-06 0.00304651472814248\n",
    "17 1.0037556551007683e-06 0.003047518483797581\n",
    "18 8.495559555607291e-07 0.003048368039753142\n",
    "19 7.253977933560336e-07 0.003049093437546498\n",
    "20 6.243082554640035e-07 0.003049717745801962\n",
    "21 5.411649832104003e-07 0.0030502589107851722\n",
    "22 4.721552783665532e-07 0.003050731066063539\n",
    "23 4.144594797762564e-07 0.003051145525543315\n",
    "24 3.6583976909206116e-07 0.003051511365312407\n",
    "25 3.2450273727752887e-07 0.0030518358680496844\n",
    "\"\"\""
   ]
  },
  {
   "cell_type": "code",
   "execution_count": 210,
   "metadata": {},
   "outputs": [
    {
     "name": "stdout",
     "output_type": "stream",
     "text": [
      "0 0.0006061883111035354 0.0006061883111035354\n",
      "1 0.0017975635908745761 0.0024037519019781115\n",
      "2 0.00035749773184259783 0.0027612496338207094\n"
     ]
    }
   ],
   "source": [
    "result_force1, result_force_plot_force_data1, result_force_plot_add_data1 = calc_result_force(N=2, akm=1)"
   ]
  },
  {
   "cell_type": "code",
   "execution_count": 211,
   "metadata": {},
   "outputs": [
    {
     "name": "stdout",
     "output_type": "stream",
     "text": [
      "3 0.00012788697859491643 0.0028891366124156256\n",
      "4 5.9705484001188586e-05 0.0029488420964168143\n",
      "5 3.257148744888141e-05 0.002981413583865696\n"
     ]
    }
   ],
   "source": [
    "result_force2, result_force_plot_force_data2, result_force_plot_add_data2 = calc_result_force(N=5, akm=1, N_0 = 3, force_0 = 0.0027612496338207094)"
   ]
  },
  {
   "cell_type": "code",
   "execution_count": 212,
   "metadata": {},
   "outputs": [
    {
     "name": "stdout",
     "output_type": "stream",
     "text": [
      "26 2.8919355367709493e-07 0.0030521250616033615\n",
      "27 2.588291409228736e-07 0.0030523838907442844\n",
      "28 2.325689954440146e-07 0.0030526164597397282\n",
      "29 2.0973868119740283e-07 0.0030528261984209258\n",
      "30 1.8979289639058487e-07 0.0030530159913173165\n",
      "31 1.7228985609844344e-07 0.003053188281173415\n",
      "32 1.5686119813373244e-07 0.003053345142371549\n",
      "33 1.4338501326615822e-07 0.003053488527384815\n",
      "34 1.3108364660302253e-07 0.003053619611031418\n",
      "35 1.2041292696876326e-07 0.003053740023958387\n",
      "36 1.1061631735931385e-07 0.0030538506402757464\n",
      "37 1.0213900501314245e-07 0.0030539527792807597\n",
      "38 9.422207002695633e-08 0.0030540470013507865\n",
      "39 8.717997188395283e-08 0.0030541341813226704\n",
      "40 8.190528201498716e-08 0.0030542160866046855\n",
      "41 7.507802147236051e-08 0.003054291164626158\n",
      "42 6.992982141603731e-08 0.003054361094447574\n",
      "43 6.505042645995223e-08 0.003054426144874034\n",
      "44 6.071581946749412e-08 0.0030544868606935016\n",
      "45 5.675623650037818e-08 0.003054543616930002\n",
      "46 5.3170333530302065e-08 0.0030545967872635323\n",
      "47 4.9810964223396824e-08 0.003054646598227756\n",
      "48 4.6760847526554185e-08 0.0030546933590752823\n",
      "49 4.3955678298020916e-08 0.0030547373147535805\n",
      "50 4.13718307494964e-08 0.00305477868658433\n"
     ]
    }
   ],
   "source": [
    "result_force_2, result_force_plot_force_data_2, result_force_plot_add_data_2 = calc_result_force(N=50, akm=1, N_0 = 26, force_0 = 0.0030518358680496844)"
   ]
  },
  {
   "cell_type": "code",
   "execution_count": null,
   "metadata": {},
   "outputs": [],
   "source": [
    "result_force_str = \"\"\"\n",
    "26 2.8919355367709493e-07 0.0030521250616033615\n",
    "27 2.588291409228736e-07 0.0030523838907442844\n",
    "28 2.325689954440146e-07 0.0030526164597397282\n",
    "29 2.0973868119740283e-07 0.0030528261984209258\n",
    "30 1.8979289639058487e-07 0.0030530159913173165\n",
    "31 1.7228985609844344e-07 0.003053188281173415\n",
    "32 1.5686119813373244e-07 0.003053345142371549\n",
    "33 1.4338501326615822e-07 0.003053488527384815\n",
    "34 1.3108364660302253e-07 0.003053619611031418\n",
    "35 1.2041292696876326e-07 0.003053740023958387\n",
    "36 1.1061631735931385e-07 0.0030538506402757464\n",
    "37 1.0213900501314245e-07 0.0030539527792807597\n",
    "38 9.422207002695633e-08 0.0030540470013507865\n",
    "39 8.717997188395283e-08 0.0030541341813226704\n",
    "40 8.190528201498716e-08 0.0030542160866046855\n",
    "41 7.507802147236051e-08 0.003054291164626158\n",
    "42 6.992982141603731e-08 0.003054361094447574\n",
    "43 6.505042645995223e-08 0.003054426144874034\n",
    "44 6.071581946749412e-08 0.0030544868606935016\n",
    "45 5.675623650037818e-08 0.003054543616930002\n",
    "46 5.3170333530302065e-08 0.0030545967872635323\n",
    "47 4.9810964223396824e-08 0.003054646598227756\n",
    "48 4.6760847526554185e-08 0.0030546933590752823\n",
    "49 4.3955678298020916e-08 0.0030547373147535805\n",
    "50 4.13718307494964e-08 0.00305477868658433\n",
    "\"\"\""
   ]
  },
  {
   "cell_type": "code",
   "execution_count": 214,
   "metadata": {},
   "outputs": [
    {
     "data": {
      "image/png": "[encoded data removed]",
      "text/plain": [
       "Graphics object consisting of 1 graphics primitive"
      ]
     },
     "metadata": {},
     "output_type": "display_data"
    }
   ],
   "source": [
    "list_plot(result_force_plot_force_data+result_force_plot_force_data_2).show(title=\"result_force_Fn plot_force_data\")"
   ]
  },
  {
   "cell_type": "code",
   "execution_count": 215,
   "metadata": {},
   "outputs": [
    {
     "data": {
      "image/png": "[encoded data removed]",
      "text/plain": [
       "Graphics object consisting of 1 graphics primitive"
      ]
     },
     "metadata": {},
     "output_type": "display_data"
    }
   ],
   "source": [
    "list_plot(result_force_plot_add_data+result_force_plot_add_data_2).show(title=\"result_force_Fn plot_add_data\")"
   ]
  },
  {
   "cell_type": "raw",
   "metadata": {},
   "source": [
    "def calc_result_force_add(jx, akm):\n",
    "    if 0 == jx:\n",
    "        return calc_result_force_add_Fn(jx, akm)\n",
    "    return calc_result_force_add_G(jx, akm)   "
   ]
  },
  {
   "cell_type": "raw",
   "metadata": {},
   "source": [
    "result_force, result_force_plot_force_data, result_force_plot_add_data = calc_result_force(N=25, akm=1)"
   ]
  },
  {
   "cell_type": "raw",
   "metadata": {},
   "source": [
    "list_plot(result_force_plot_force_data).show(title=\"result_force_G plot_force_data\")"
   ]
  },
  {
   "cell_type": "raw",
   "metadata": {},
   "source": [
    "list_plot(result_force_plot_add_data).show(title=\"result_force_G plot_add_data\")"
   ]
  },
  {
   "cell_type": "markdown",
   "metadata": {},
   "source": [
    "Now we should understood can received coefficient be reduced to zero when N will be Infinity? So we try to recalc this coefficient with ..."
   ]
  },
  {
   "cell_type": "markdown",
   "metadata": {},
   "source": [
    "# Just numerical summation of"
   ]
  },
  {
   "cell_type": "markdown",
   "metadata": {},
   "source": [
    "\\begin{equation}\n",
    "\\sum\\limits_{n_x=\\left(0\\right)\\,1}^{\\infty}\n",
    "\\sum\\limits_{n_y=\\left(0\\right)\\,1}^{\\infty}\n",
    "G\\left(n_x, n_y\\right)\n",
    "-\n",
    "\\int\\limits_{0}^{\\infty}\n",
    "\\int\\limits_{0}^{\\infty}\n",
    "G\\left(n_x, n_y\\right)\\,d{n_x}\\,d{n_y}\n",
    "\\end{equation}"
   ]
  },
  {
   "cell_type": "code",
   "execution_count": 216,
   "metadata": {},
   "outputs": [],
   "source": [
    "intu_Fn = lambda n_x, n_y, a, k_m : numerical_integral(lambda u: Fn(u, n_x, n_y, a, k_m), 0, Infinity)"
   ]
  },
  {
   "cell_type": "code",
   "execution_count": 217,
   "metadata": {},
   "outputs": [],
   "source": [
    "intx_intu_Fn = lambda n_y, a, k_m : numerical_integral(lambda n_x: intu_Fn(n_x, n_y, a, k_m)[0], 0, Infinity)"
   ]
  },
  {
   "cell_type": "code",
   "execution_count": 218,
   "metadata": {},
   "outputs": [],
   "source": [
    "inty_intx_intu_Fn = lambda a, k_m : numerical_integral(lambda n_y: intx_intu_Fn(n_y, a, k_m)[0], 0, Infinity)"
   ]
  },
  {
   "cell_type": "code",
   "execution_count": 219,
   "metadata": {},
   "outputs": [],
   "source": [
    "def sumx_intu_Fn(n_y, a, k_m, N):\n",
    "    S = 0.5 * intu_Fn(n_x=0, n_y=n_y, a=a, k_m=k_m)[0]\n",
    "    for i in range(1,N+1):\n",
    "        S += intu_Fn(n_x=i, n_y=n_y, a=a, k_m=k_m)[0]\n",
    "    return S"
   ]
  },
  {
   "cell_type": "code",
   "execution_count": 220,
   "metadata": {},
   "outputs": [],
   "source": [
    "def dsumx_intu_Fn(n_y, a, k_m, N1, N2):\n",
    "    S = 0\n",
    "    for i in range(N1,N2+1):\n",
    "        # print(\"dsumx_intu_Fn\", \"n_x=\", i, \"n_y=\", n_y)\n",
    "        S += intu_Fn(n_x=i, n_y=n_y, a=a, k_m=k_m)[0]\n",
    "    return S"
   ]
  },
  {
   "cell_type": "code",
   "execution_count": 221,
   "metadata": {},
   "outputs": [],
   "source": [
    "def dsumy_intu_Fn(n_x, a, k_m, N1, N2):\n",
    "    S = 0\n",
    "    for i in range(N1,N2+1):\n",
    "        # print(\"dsumy_intu_Fn\", \"n_x=\", n_x, \"n_y=\", i)\n",
    "        S += intu_Fn(n_x=n_x, n_y=i, a=a, k_m=k_m)[0]\n",
    "    return S"
   ]
  },
  {
   "cell_type": "code",
   "execution_count": 222,
   "metadata": {},
   "outputs": [
    {
     "data": {
      "text/plain": [
       "0.0156504026561215"
      ]
     },
     "execution_count": 222,
     "metadata": {},
     "output_type": "execute_result"
    }
   ],
   "source": [
    "sumx_intu_Fn(n_y = 1, a = 1, k_m = 1, N = 20)"
   ]
  },
  {
   "cell_type": "code",
   "execution_count": 223,
   "metadata": {},
   "outputs": [
    {
     "data": {
      "text/plain": [
       "0.0156504026561215"
      ]
     },
     "execution_count": 223,
     "metadata": {},
     "output_type": "execute_result"
    }
   ],
   "source": [
    "sumx_intu_Fn(n_y = 1, a = 1, k_m = 1, N = 10) + dsumx_intu_Fn(n_y = 1, a = 1, k_m = 1, N1 = 11, N2=20)"
   ]
  },
  {
   "cell_type": "code",
   "execution_count": 224,
   "metadata": {},
   "outputs": [],
   "source": [
    "def sumy_sumx_intu_Fn(a, k_m, N):\n",
    "    S = 0.5 * sumx_intu_Fn(n_y=0, a=a, k_m=k_m, N = N)\n",
    "    for j in range(1,N+1):\n",
    "        S += sumx_intu_Fn(n_y=j, a=a, k_m=k_m, N = N)\n",
    "    return S"
   ]
  },
  {
   "cell_type": "code",
   "execution_count": 225,
   "metadata": {},
   "outputs": [],
   "source": [
    "def dsumy_sum_intu_Fn(a, k_m, N1, N2):\n",
    "    S = 0\n",
    "    S += 0.5*dsumy_intu_Fn(n_x=0, a=a, k_m=k_m, N1=N1, N2 = N2)\n",
    "    for i in range(1,N1):\n",
    "        S += dsumy_intu_Fn(n_x=i, a=a, k_m=k_m, N1=N1, N2 = N2)\n",
    "\n",
    "    S += 0.5*dsumx_intu_Fn(n_y=0, a=a, k_m=k_m, N1=N1, N2 = N2)\n",
    "    for i in range(N1,N2+1):\n",
    "        S += dsumy_intu_Fn(n_x=i, a=a, k_m=k_m, N1=1, N2 = N2)\n",
    "\n",
    "    return S"
   ]
  },
  {
   "cell_type": "code",
   "execution_count": 226,
   "metadata": {},
   "outputs": [],
   "source": [
    "def dsumx_sum_intu_Fn(a, k_m, N1, N2):\n",
    "    S = 0\n",
    "    S += 0.5*dsumx_intu_Fn(n_y=0, a=a, k_m=k_m, N1=N1, N2 = N2)\n",
    "    for i in range(1,N1):\n",
    "        S += dsumx_intu_Fn(n_y=i, a=a, k_m=k_m, N1=N1, N2 = N2)\n",
    "\n",
    "    S += 0.5*dsumy_intu_Fn(n_x=0, a=a, k_m=k_m, N1=N1, N2 = N2)\n",
    "    for i in range(N1,N2+1):\n",
    "        S += dsumx_intu_Fn(n_y=i, a=a, k_m=k_m, N1=1, N2 = N2)\n",
    "\n",
    "    return S"
   ]
  },
  {
   "cell_type": "code",
   "execution_count": 227,
   "metadata": {},
   "outputs": [
    {
     "data": {
      "text/plain": [
       "0.0557644370467145"
      ]
     },
     "execution_count": 227,
     "metadata": {},
     "output_type": "execute_result"
    }
   ],
   "source": [
    "sumy_sumx_intu_Fn(a = 1, k_m = 1, N = 5)"
   ]
  },
  {
   "cell_type": "code",
   "execution_count": 228,
   "metadata": {},
   "outputs": [
    {
     "data": {
      "text/plain": [
       "0.0557644370467145"
      ]
     },
     "execution_count": 228,
     "metadata": {},
     "output_type": "execute_result"
    }
   ],
   "source": [
    "sumy_sumx_intu_Fn(a = 1, k_m = 1, N = 2) + dsumy_sum_intu_Fn(a = 1, k_m = 1, N1 = 2+1, N2=5)"
   ]
  },
  {
   "cell_type": "code",
   "execution_count": 229,
   "metadata": {},
   "outputs": [
    {
     "data": {
      "text/plain": [
       "0.0557644370467145"
      ]
     },
     "execution_count": 229,
     "metadata": {},
     "output_type": "execute_result"
    }
   ],
   "source": [
    "sumy_sumx_intu_Fn(a = 1, k_m = 1, N = 2) + dsumx_sum_intu_Fn(a = 1, k_m = 1, N1 = 2+1, N2=5)"
   ]
  },
  {
   "cell_type": "code",
   "execution_count": 230,
   "metadata": {},
   "outputs": [],
   "source": [
    "def plot_sum_minus_int(km, N_list, sumsum_0 = 0):\n",
    "    if 1 == km:\n",
    "        # sagemath 9.2 on Windows 7 result (using num_int as integrator):\n",
    "        # km = 1 inty_intx_intu_Fn = 0.15423588786395817\n",
    "        iii = (0.15423588786395817, 0)\n",
    "    else:\n",
    "        iii = inty_intx_intu_Fn (a=1, k_m=km)\n",
    "    print(\"km=\", km, \"inty_intx_intu_Fn = \", iii)\n",
    "    \n",
    "    plot_data_dsum_sum_intu_Fn = []\n",
    "    plot_data_dsum_per_dN = []\n",
    "    plot_data_sum_sum_intu_Fn = []\n",
    "    plot_data_sum_sum_intu_Fn_iii = []\n",
    "    \n",
    "    i_point = 0\n",
    "\n",
    "    for N in N_list:\n",
    "        if 0 == i_point:\n",
    "            if 0 == sumsum_0:\n",
    "                sumsum = sumy_sumx_intu_Fn (a = 1, k_m = km, N = N)\n",
    "            else:\n",
    "                sumsum = sumsum_0\n",
    "            dsum = sumsum\n",
    "            dN = N\n",
    "        else:\n",
    "            dsum = dsumy_sum_intu_Fn (a = 1, k_m = km, N1 = N_stored+1, N2 = N)\n",
    "            sumsum += dsum\n",
    "            dN = N - N_stored\n",
    "            \n",
    "        print (N, \"dsum=\", dsum, \"dsum/dN\", dsum/dN, \"sum=\", sumsum, \"sum-iii=\", sumsum-iii[0])\n",
    "        plot_data_dsum_sum_intu_Fn += [(N, dsum)]\n",
    "        plot_data_dsum_per_dN += [(N, dsum/dN)]\n",
    "        plot_data_sum_sum_intu_Fn += [(N, sumsum)]\n",
    "        plot_data_sum_sum_intu_Fn_iii += [(N, sumsum-iii[0])]\n",
    "        \n",
    "        N_stored = N\n",
    "        i_point += 1\n",
    "\n",
    "    list_plot(plot_data_dsum_sum_intu_Fn).show(title=\"dsum_sum_intu_Fn\")\n",
    "    #list_plot(plot_data_dsum_per_dN).show(title=\"dsum_per_dN\")\n",
    "    list_plot(plot_data_sum_sum_intu_Fn).show(title=\"sum_sum_intu_Fn\")\n",
    "    list_plot(plot_data_sum_sum_intu_Fn_iii).show(title=\"sum_sum_intu_Fn-inty_intx_intu_Fn\")\n",
    "    \n",
    "    return plot_data_sum_sum_intu_Fn_iii"
   ]
  },
  {
   "cell_type": "raw",
   "metadata": {},
   "source": [
    "data1 = plot_sum_minus_int(km=1, N_list=range(0,1000))"
   ]
  },
  {
   "cell_type": "raw",
   "metadata": {},
   "source": [
    "data2 = plot_sum_minus_int(km=1, N_list=range(999,2001), sumsum_0 = 0.143440735414735)\n",
    "# 999 dsum= 0.0000162622875582972 dsum/dN 0.0000162622875582972 sum= 0.143440735414735 sum-iii= -0.0107951524492234"
   ]
  },
  {
   "cell_type": "raw",
   "metadata": {},
   "source": [
    "data3 = plot_sum_minus_int(km=1, N_list=range(1859,3001), sumsum_0 = 0.151606012797086)\n",
    "# 1859 dsum= 5.47453880093039e-6 dsum/dN 5.47453880093039e-6 sum= 0.151606012797086 sum-iii= -0.00262987506687248"
   ]
  },
  {
   "cell_type": "raw",
   "metadata": {},
   "source": [
    "data4 = plot_sum_minus_int(km=1, N_list=range(2698,5001), sumsum_0 = 0.154829813494710)\n",
    "# 2698 dsum= 2.69355043336757e-6 dsum/dN 2.69355043336757e-6 sum= 0.154829813494710 sum-iii= 0.000593925630751363"
   ]
  },
  {
   "cell_type": "raw",
   "metadata": {},
   "source": [
    "plot_sum_minus_int(km=1, \n",
    "                   N_list=(4100, 4150, 4200, 4250, 4300, 4350, 4400, 4450, 4500, 4550, 4600, 4650, 4700, 4750, 4800, 4850, 4900, 4950, 5000),\n",
    "                   sumsum_0 = 0.157339086256704)\n",
    "# 1800 -0.00296255355639888\n",
    "# 2600  0.000320450205087364\n",
    "# 3200  0.00173917997571374\n",
    "# 3700  0.00257740417696789\n",
    "# 4100 dsum= 0.000121743385850995 dsum/dN 1.21743385850995e-6 sum= 0.157339086256704 sum-iii= 0.00310319839274553"
   ]
  },
  {
   "cell_type": "code",
   "execution_count": 231,
   "metadata": {},
   "outputs": [],
   "source": [
    "#km= 1 inty_intx_intu_Fn =  (0.1542358878639582, 0)\n",
    "str1 = \"\"\"\n",
    "0 dsum= 0.0198943678864859 dsum/dN +infinity sum= 0.0198943678864859 sum-iii= -0.134341519977472\n",
    "1 dsum= 0.0352305566330501 dsum/dN 0.0352305566330501 sum= 0.0352305566330501 sum-iii= -0.119005331230908\n",
    "5 dsum= 0.0205338804136644 dsum/dN 0.00513347010341610 sum= 0.0557644370467145 sum-iii= -0.0984714508172436\n",
    "10 dsum= 0.0104011881525500 dsum/dN 0.00208023763050999 sum= 0.0661656251992645 sum-iii= -0.0880702626646937\n",
    "20 dsum= 0.0107815429480582 dsum/dN 0.00107815429480582 sum= 0.0769471681473227 sum-iii= -0.0772887197166355\n",
    "30 dsum= 0.00640533503238599 dsum/dN 0.000640533503238599 sum= 0.0833525031797086 sum-iii= -0.0708833846842495\n",
    "40 dsum= 0.00457232481780638 dsum/dN 0.000457232481780638 sum= 0.0879248279975150 sum-iii= -0.0663110598664431\n",
    "50 dsum= 0.00355823432941396 dsum/dN 0.000355823432941396 sum= 0.0914830623269290 sum-iii= -0.0627528255370292\n",
    "60 dsum= 0.00291324567109136 dsum/dN 0.000291324567109136 sum= 0.0943963079980203 sum-iii= -0.0598395798659378\n",
    "70 dsum= 0.00246607902755200 dsum/dN 0.000246607902755200 sum= 0.0968623870255723 sum-iii= -0.0573735008383858\n",
    "80 dsum= 0.00213755399769267 dsum/dN 0.000213755399769267 sum= 0.0989999410232650 sum-iii= -0.0552359468406931\n",
    "90 dsum= 0.00188588682799802 dsum/dN 0.000188588682799802 sum= 0.100885827851263 sum-iii= -0.0533500600126951\n",
    "100 dsum= 0.00168218102905312 dsum/dN 0.000168218102905312 sum= 0.102568008880316 sum-iii= -0.0516678789836420\n",
    "110 dsum= 0.00151579857856997 dsum/dN 0.000151579857856997 sum= 0.104083807458886 sum-iii= -0.0501520804050720\n",
    "120 dsum= 0.00137420314877361 dsum/dN 0.000137420314877361 sum= 0.105458010607660 sum-iii= -0.0487778772562984\n",
    "130 dsum= 0.00124870468734300 dsum/dN 0.000124870468734300 sum= 0.106706715295003 sum-iii= -0.0475291725689554\n",
    "140 dsum= 0.00115420307976286 dsum/dN 0.000115420307976286 sum= 0.107860918374766 sum-iii= -0.0463749694891926\n",
    "150 dsum= 0.00107592899833926 dsum/dN 0.000107592899833926 sum= 0.108936847373105 sum-iii= -0.0452990404908533\n",
    "200 dsum= 0.00456227662966188 dsum/dN 0.0000912455325932376 sum= 0.113499124002767 sum-iii= -0.0407367638611914\n",
    "300 dsum= 0.00696745140300445 dsum/dN 0.0000696745140300445 sum= 0.120466575405771 sum-iii= -0.0337693124581870\n",
    "400 dsum= 0.00548862501748618 dsum/dN 0.0000548862501748618 sum= 0.125955200423257 sum-iii= -0.0282806874407008\n",
    "500 dsum= 0.00447437280661616 dsum/dN 0.0000447437280661616 sum= 0.130429573229874 sum-iii= -0.0238063146340846\n",
    "600 dsum= 0.00366495364599495 dsum/dN 0.0000366495364599495 sum= 0.134094526875869 sum-iii= -0.0201413609880897\n",
    "700 dsum= 0.00301484382418922 dsum/dN 0.0000301484382418922 sum= 0.137109370700058 sum-iii= -0.0171265171639005\n",
    "800 dsum= 0.00249769518000750 dsum/dN 0.0000249769518000750 sum= 0.139607065880065 sum-iii= -0.0146288219838930\n",
    "900 dsum= 0.00208781147706876 dsum/dN 0.0000208781147706876 sum= 0.141694877357134 sum-iii= -0.0125410105068242\n",
    "1000 dsum= 0.00176209435879926 dsum/dN 0.0000176209435879926 sum= 0.143456971715933 sum-iii= -0.0107789161480249\n",
    "1100 dsum= 0.00150157172140458 dsum/dN 0.0000150157172140458 sum= 0.144958543437338 sum-iii= -0.00927734442662034\n",
    "1200 dsum= 0.00129141221826351 dsum/dN 0.0000129141221826351 sum= 0.146249955655601 sum-iii= -0.00798593220835683\n",
    "1300 dsum= 0.00112028756255747 dsum/dN 0.0000112028756255747 sum= 0.147370243218159 sum-iii= -0.00686564464579936\n",
    "1400 dsum= 0.000979617855017924 dsum/dN 9.79617855017924e-6 sum= 0.148349861073177 sum-iii= -0.00588602679078143\n",
    "1500 dsum= 0.000862906224947237 dsum/dN 8.62906224947237e-6 sum= 0.149212767298124 sum-iii= -0.00502312056583420\n",
    "1600 dsum= 0.000765211747012566 dsum/dN 7.65211747012565e-6 sum= 0.149977979045137 sum-iii= -0.00425790881882163\n",
    "1700 dsum= 0.000682751149806610 dsum/dN 6.82751149806610e-6 sum= 0.150660730194943 sum-iii= -0.00357515766901501\n",
    "1800 dsum= 0.000612604112616117 dsum/dN 6.12604112616117e-6 sum= 0.151273334307559 sum-iii= -0.00296255355639888\n",
    "1900 dsum= 0.000552496910736090 dsum/dN 5.52496910736090e-6 sum= 0.151825831218295 sum-iii= -0.00241005664566310\n",
    "2000 dsum= 0.000500643683209297 dsum/dN 5.00643683209297e-6 sum= 0.152326474901504 sum-iii= -0.00190941296245381\n",
    "2100 dsum= 0.000455629578886566 dsum/dN 4.55629578886566e-6 sum= 0.152782104480391 sum-iii= -0.00145378338356725\n",
    "2200 dsum= 0.000416324238790998 dsum/dN 4.16324238790998e-6 sum= 0.153198428719182 sum-iii= -0.00103745914477624\n",
    "2300 dsum= 0.000381817288792229 dsum/dN 3.81817288792229e-6 sum= 0.153580246007974 sum-iii= -0.000655641855984018\n",
    "2400 dsum= 0.000351369872403857 dsum/dN 3.51369872403857e-6 sum= 0.153931615880378 sum-iii= -0.000304271983580157\n",
    "2500 dsum= 0.000324377943951202 dsum/dN 3.24377943951202e-6 sum= 0.154255993824329 sum-iii= 0.0000201059603710529\n",
    "2600 dsum= 0.000300344244716323 dsum/dN 3.00344244716323e-6 sum= 0.154556338069046 sum-iii= 0.000320450205087364\n",
    "2700 dsum= 0.000278856737998353 dsum/dN 2.78856737998353e-6 sum= 0.154835194807044 sum-iii= 0.000599306943086186\n",
    "2800 dsum= 0.000259571885673236 dsum/dN 2.59571885673236e-6 sum= 0.155094766692718 sum-iii= 0.000858878828759430\n",
    "2900 dsum= 0.000242201581855405 dsum/dN 2.42201581855405e-6 sum= 0.155336968274573 sum-iii= 0.00110108041061482\n",
    "3000 dsum= 0.000226502870041521 dsum/dN 2.26502870041521e-6 sum= 0.155563471144615 sum-iii= 0.00132758328065635\n",
    "3100 dsum= 0.000212269794574291 dsum/dN 2.12269794574291e-6 sum= 0.155775740939189 sum-iii= 0.00153985307523063\n",
    "3200 dsum= 0.000199326900483113 dsum/dN 1.99326900483113e-6 sum= 0.155975067839672 sum-iii= 0.00173917997571374\n",
    "3300 dsum= 0.000187524015283643 dsum/dN 1.87524015283643e-6 sum= 0.156162591854956 sum-iii= 0.00192670399099745\n",
    "3400 dsum= 0.000176732034471598 dsum/dN 1.76732034471598e-6 sum= 0.156339323889427 sum-iii= 0.00210343602546906\n",
    "3500 dsum= 0.000166839497923727 dsum/dN 1.66839497923727e-6 sum= 0.156506163387351 sum-iii= 0.00227027552339279\n",
    "3600 dsum= 0.000157749793394469 dsum/dN 1.57749793394468e-6 sum= 0.156663913180745 sum-iii= 0.00242802531678726\n",
    "3700 dsum= 0.000149378860180625 dsum/dN 1.49378860180625e-6 sum= 0.156813292040926 sum-iii= 0.00257740417696789\n",
    "3800 dsum= 0.000141653293989460 dsum/dN 1.41653293989460e-6 sum= 0.156954945334915 sum-iii= 0.00271905747095730\n",
    "3900 dsum= 0.000134508775382901 dsum/dN 1.34508775382901e-6 sum= 0.157089454110298 sum-iii= 0.00285356624634020\n",
    "4000 dsum= 0.000127888760554336 dsum/dN 1.27888760554336e-6 sum= 0.157217342870853 sum-iii= 0.00298145500689453\n",
    "4100 dsum= 0.000121743385850995 dsum/dN 1.21743385850995e-6 sum= 0.157339086256704 sum-iii= 0.00310319839274553\n",
    "4150 dsum= 0.0000587033017550138 dsum/dN 1.17406603510028e-6 sum= 0.157397789558459 sum-iii= 0.00316190169450084\n",
    "4200 dsum= 0.0000573252455343998 dsum/dN 1.14650491068800e-6 sum= 0.157455114803993 sum-iii= 0.00321922694003524\n",
    "4250 dsum= 0.0000559949323027917 dsum/dN 1.11989864605583e-6 sum= 0.157511109736296 sum-iii= 0.00327522187233803\n",
    "4300 dsum= 0.0000547101916934751 dsum/dN 1.09420383386950e-6 sum= 0.157565819927990 sum-iii= 0.00332993206403151\n",
    "4350 dsum= 0.0000534689747315329 dsum/dN 1.06937949463066e-6 sum= 0.157619288902721 sum-iii= 0.00338340103876306\n",
    "\"\"\""
   ]
  },
  {
   "cell_type": "code",
   "execution_count": 232,
   "metadata": {},
   "outputs": [],
   "source": [
    "lst = str1.split(\"\\n\")"
   ]
  },
  {
   "cell_type": "code",
   "execution_count": 233,
   "metadata": {},
   "outputs": [],
   "source": [
    "data_sum_sum_intu_Fn_inty_intx_intu_Fn = []\n",
    "for row in lst:\n",
    "    if len(row) > 0:\n",
    "        sub_row = row.split(\" dsum= \")\n",
    "        sub_row2 = sub_row[1].split(\" sum-iii= \")\n",
    "        # print(sub_row[0], sub_row2[1])\n",
    "        N = int(sub_row[0])\n",
    "        sum_minus_iii = float(sub_row2[1])\n",
    "        data_sum_sum_intu_Fn_inty_intx_intu_Fn += [(N, sum_minus_iii)]"
   ]
  },
  {
   "cell_type": "code",
   "execution_count": 234,
   "metadata": {
    "scrolled": true
   },
   "outputs": [
    {
     "data": {
      "image/png": "[encoded data removed]",
      "text/plain": [
       "Graphics object consisting of 1 graphics primitive"
      ]
     },
     "metadata": {},
     "output_type": "display_data"
    }
   ],
   "source": [
    "list_plot(data_sum_sum_intu_Fn_inty_intx_intu_Fn).show(title=\"sum_sum_intu_Fn-inty_intx_intu_Fn\")"
   ]
  },
  {
   "cell_type": "markdown",
   "metadata": {},
   "source": [
    "Here while make summation of non negative terms we receive very similar positive result. So result force calculation via Euler–Maclaurin 2D is not zero!"
   ]
  },
  {
   "cell_type": "markdown",
   "metadata": {},
   "source": [
    "# Let's investigate how result force depends on $a k_m$"
   ]
  },
  {
   "cell_type": "markdown",
   "metadata": {},
   "source": [
    "Casimir in his original work has provided his formula in assumption when as $a\\,k_m\\,»\\,1$. "
   ]
  },
  {
   "cell_type": "markdown",
   "metadata": {},
   "source": [
    "as long as $a\\,k_m\\,»\\,1$:"
   ]
  },
  {
   "cell_type": "code",
   "execution_count": 235,
   "metadata": {},
   "outputs": [
    {
     "name": "stdout",
     "output_type": "stream",
     "text": [
      "0 -0.05996028222416172 -0.05996028222416172\n",
      "1 0.024539222150671832 -0.035421060073489885\n",
      "2 0.005639411614792769 -0.029781648458697116\n",
      "3 0.0020392976904987357 -0.02774235076819838\n",
      "4 0.0009541507416831796 -0.026788200026515198\n",
      "5 0.0005208708022612559 -0.02626732922425394\n",
      "6 0.0003149145406791334 -0.025952414683574808\n",
      "7 0.00020472576398981193 -0.025747688919584996\n",
      "8 0.00014050937425319937 -0.025607179545331798\n",
      "9 0.00010057985834294597 -0.025506599686988853\n",
      "10 7.445739423254275e-05 -0.02543214229275631\n",
      "11 5.6653455453183104e-05 -0.025375488837303128\n",
      "12 4.4103328984881344e-05 -0.025331385508318247\n",
      "13 3.500307096797009e-05 -0.025296382437350277\n",
      "14 2.824426976725542e-05 -0.025268138167583023\n",
      "15 2.3119612369213385e-05 -0.02524501855521381\n",
      "16 1.9163563566507357e-05 -0.0252258549916473\n",
      "17 1.6061098717150794e-05 -0.02520979389293015\n",
      "18 1.359386328060319e-05 -0.02519620002964955\n",
      "19 1.1607080214578524e-05 -0.02518459294943497\n",
      "20 9.989436530283013e-06 -0.025174603512904688\n",
      "21 8.658950511749063e-06 -0.02516594456239294\n",
      "22 7.55460981015221e-06 -0.025158389952582787\n",
      "23 6.63032979957735e-06 -0.02515175962278321\n",
      "24 5.851370933742723e-06 -0.025145908251849466\n",
      "25 5.188850624530136e-06 -0.025140719401224938\n",
      "26 4.6232051557052585e-06 -0.025136096196069234\n",
      "27 4.136684885215379e-06 -0.025131959511184018\n",
      "28 3.7161369322954248e-06 -0.02512824337425172\n",
      "29 3.3505848335170074e-06 -0.025124892789418204\n",
      "30 3.0317873816871993e-06 -0.025121861002036516\n"
     ]
    }
   ],
   "source": [
    "force_akm2, force_akm2_plot_force_data, force_akm2_plot_add_data = calc_result_force(N=30, akm=2)"
   ]
  },
  {
   "cell_type": "code",
   "execution_count": null,
   "metadata": {},
   "outputs": [],
   "source": [
    "0 -0.05996028222416172 -0.05996028222416172\n",
    "1 0.024539222150671832 -0.035421060073489885\n",
    "2 0.005639411614792769 -0.029781648458697116\n",
    "3 0.0020392976904987357 -0.02774235076819838\n",
    "4 0.0009541507416831796 -0.026788200026515198\n",
    "5 0.0005208708022612559 -0.02626732922425394\n",
    "6 0.0003149145406791334 -0.025952414683574808\n",
    "7 0.00020472576398981193 -0.025747688919584996\n",
    "8 0.00014050937425319937 -0.025607179545331798\n",
    "9 0.00010057985834294597 -0.025506599686988853\n",
    "10 7.445739423254275e-05 -0.02543214229275631\n",
    "11 5.6653455453183104e-05 -0.025375488837303128\n",
    "12 4.4103328984881344e-05 -0.025331385508318247\n",
    "13 3.500307096797009e-05 -0.025296382437350277\n",
    "14 2.824426976725542e-05 -0.025268138167583023\n",
    "15 2.3119612369213385e-05 -0.02524501855521381\n",
    "16 1.9163563566507357e-05 -0.0252258549916473\n",
    "17 1.6061098717150794e-05 -0.02520979389293015\n",
    "18 1.359386328060319e-05 -0.02519620002964955\n",
    "19 1.1607080214578524e-05 -0.02518459294943497\n",
    "20 9.989436530283013e-06 -0.025174603512904688\n",
    "21 8.658950511749063e-06 -0.02516594456239294\n",
    "22 7.55460981015221e-06 -0.025158389952582787\n",
    "23 6.63032979957735e-06 -0.02515175962278321\n",
    "24 5.851370933742723e-06 -0.025145908251849466\n",
    "25 5.188850624530136e-06 -0.025140719401224938\n",
    "26 4.6232051557052585e-06 -0.025136096196069234\n",
    "27 4.136684885215379e-06 -0.025131959511184018\n",
    "28 3.7161369322954248e-06 -0.02512824337425172\n",
    "29 3.3505848335170074e-06 -0.025124892789418204\n",
    "30 3.0317873816871993e-06 -0.025121861002036516"
   ]
  },
  {
   "cell_type": "code",
   "execution_count": 236,
   "metadata": {},
   "outputs": [
    {
     "data": {
      "image/png": "[encoded data removed]",
      "text/plain": [
       "Graphics object consisting of 1 graphics primitive"
      ]
     },
     "metadata": {},
     "output_type": "display_data"
    }
   ],
   "source": [
    "list_plot(force_akm2_plot_force_data).show(title=\"force_akm2_plot_force_data\")"
   ]
  },
  {
   "cell_type": "code",
   "execution_count": null,
   "metadata": {},
   "outputs": [
    {
     "name": "stdout",
     "output_type": "stream",
     "text": [
      "0 -0.14848189482012514 -0.14848189482012514\n",
      "1 0.06934784962127681 -0.07913404519884833\n",
      "2 0.026862890168592227 -0.0522711550302561\n",
      "3 0.010174261460488802 -0.0420968935697673\n",
      "4 0.004805527749031329 -0.03729136582073597\n",
      "5 0.002630928726441265 -0.034660437094294706\n",
      "6 0.0015924160358821962 -0.03306802105841251\n",
      "7 0.0010357514820083806 -0.03203226957640413\n"
     ]
    }
   ],
   "source": [
    "force_akm3, force_akm3_plot_force_data, force_akm3_plot_add_data = calc_result_force(N=30, akm=3)"
   ]
  },
  {
   "cell_type": "code",
   "execution_count": 8,
   "metadata": {},
   "outputs": [],
   "source": [
    "str_force_akm3=\"\"\"\n",
    "0 -0.14848189482012514 -0.14848189482012514\n",
    "1 0.06934784962127681 -0.07913404519884833\n",
    "2 0.026862890168592227 -0.0522711550302561\n",
    "3 0.010174261460488802 -0.0420968935697673\n",
    "4 0.004805527749031329 -0.03729136582073597\n",
    "5 0.002630928726441265 -0.034660437094294706\n",
    "6 0.0015924160358821962 -0.03306802105841251\n",
    "7 0.0010357514820083806 -0.03203226957640413\n",
    "\"\"\""
   ]
  },
  {
   "cell_type": "code",
   "execution_count": 9,
   "metadata": {},
   "outputs": [],
   "source": [
    "def list_plot_str(str1, title_d, title_f):\n",
    "    lst = str1.split(\"\\n\")\n",
    "    data_f = []\n",
    "    data_d = []\n",
    "    for row in lst:\n",
    "        if len(row) > 0:\n",
    "            splitted_row = row.split(\" \")\n",
    "            N = int(splitted_row[0])\n",
    "            d = float(splitted_row[1])\n",
    "            f = float(splitted_row[2])\n",
    "            data_d += [(N, d)]\n",
    "            data_f += [(N, f)]\n",
    "    list_plot(data_d).show(title=title_d)\n",
    "    list_plot(data_f).show(title=title_f)"
   ]
  },
  {
   "cell_type": "code",
   "execution_count": 10,
   "metadata": {},
   "outputs": [
    {
     "data": {
      "image/png": "[encoded data removed]",
      "text/plain": [
       "Graphics object consisting of 1 graphics primitive"
      ]
     },
     "metadata": {},
     "output_type": "display_data"
    },
    {
     "data": {
      "image/png": "[encoded data removed]",
      "text/plain": [
       "Graphics object consisting of 1 graphics primitive"
      ]
     },
     "metadata": {},
     "output_type": "display_data"
    }
   ],
   "source": [
    "list_plot_str(str_force_akm3, \"add force $a k_m = 3$\", \"force $a k_m = 3$\")"
   ]
  },
  {
   "cell_type": "code",
   "execution_count": null,
   "metadata": {},
   "outputs": [],
   "source": [
    "list_plot(force_akm3_plot_force_data).show(title=\"force_akm3_plot_force_data\")"
   ]
  },
  {
   "cell_type": "code",
   "execution_count": null,
   "metadata": {},
   "outputs": [],
   "source": [
    "force_akm4, force_akm4_plot_force_data, force_akm4_plot_add_data = calc_result_force(N=30, akm=4)"
   ]
  },
  {
   "cell_type": "code",
   "execution_count": null,
   "metadata": {},
   "outputs": [],
   "source": [
    "list_plot(force_akm4_plot_force_data).show(title=\"force_akm4_plot_force_data\")"
   ]
  },
  {
   "cell_type": "code",
   "execution_count": null,
   "metadata": {},
   "outputs": [],
   "source": [
    "force_akm5, force_akm5_plot_force_data, force_akm5_plot_add_data = calc_result_force(N=30, akm=5)"
   ]
  },
  {
   "cell_type": "code",
   "execution_count": null,
   "metadata": {},
   "outputs": [],
   "source": [
    "list_plot(force_akm5_plot_force_data).show(title=\"force_akm5_plot_force_data\")"
   ]
  },
  {
   "cell_type": "code",
   "execution_count": null,
   "metadata": {},
   "outputs": [],
   "source": [
    "force_akm6, force_akm6_plot_force_data, force_akm6_plot_add_data = calc_result_force(N=30, akm=6)"
   ]
  },
  {
   "cell_type": "code",
   "execution_count": null,
   "metadata": {},
   "outputs": [],
   "source": [
    "list_plot(force_akm6_plot_force_data).show(title=\"force_akm6_plot_force_data\")"
   ]
  },
  {
   "cell_type": "code",
   "execution_count": null,
   "metadata": {},
   "outputs": [],
   "source": [
    "force_akm7, force_akm7_plot_force_data, force_akm7_plot_add_data = calc_result_force(N=30, akm=7)"
   ]
  },
  {
   "cell_type": "code",
   "execution_count": null,
   "metadata": {},
   "outputs": [],
   "source": [
    "list_plot(force_akm7_plot_force_data).show(title=\"force_akm7_plot_force_data\")"
   ]
  },
  {
   "cell_type": "code",
   "execution_count": null,
   "metadata": {},
   "outputs": [],
   "source": [
    "force_akm8, force_akm8_plot_force_data, force_akm8_plot_add_data = calc_result_force(N=30, akm=8)"
   ]
  },
  {
   "cell_type": "code",
   "execution_count": null,
   "metadata": {},
   "outputs": [],
   "source": [
    "list_plot(force_akm8_plot_force_data).show(title=\"force_akm8_plot_force_data\")"
   ]
  },
  {
   "cell_type": "code",
   "execution_count": null,
   "metadata": {},
   "outputs": [],
   "source": [
    "force_akm9, force_akm9_plot_force_data, force_akm9_plot_add_data = calc_result_force(N=30, akm=9)"
   ]
  },
  {
   "cell_type": "code",
   "execution_count": null,
   "metadata": {},
   "outputs": [],
   "source": [
    "list_plot(force_akm9_plot_force_data).show(title=\"force_akm9_plot_force_data\")"
   ]
  },
  {
   "cell_type": "code",
   "execution_count": null,
   "metadata": {},
   "outputs": [],
   "source": [
    "force_akm10, force_akm10_plot_force_data, force_akm10_plot_add_data = calc_result_force(N=30, akm=10)"
   ]
  },
  {
   "cell_type": "code",
   "execution_count": null,
   "metadata": {},
   "outputs": [],
   "source": [
    "list_plot(force_akm10_plot_force_data).show(title=\"force_akm10_plot_force_data\")"
   ]
  },
  {
   "cell_type": "code",
   "execution_count": null,
   "metadata": {},
   "outputs": [],
   "source": [
    "force_akm11, force_akm11_plot_force_data, force_akm11_plot_add_data = calc_result_force(N=30, akm=11)"
   ]
  },
  {
   "cell_type": "code",
   "execution_count": null,
   "metadata": {},
   "outputs": [],
   "source": [
    "list_plot(force_akm11_plot_force_data).show(title=\"force_akm11_plot_force_data\")"
   ]
  },
  {
   "cell_type": "code",
   "execution_count": null,
   "metadata": {},
   "outputs": [],
   "source": [
    "force_akm12, force_akm12_plot_force_data, force_akm12_plot_add_data = calc_result_force(N=30, akm=12)"
   ]
  },
  {
   "cell_type": "code",
   "execution_count": null,
   "metadata": {},
   "outputs": [],
   "source": [
    "list_plot(force_akm12_plot_force_data).show(title=\"force_akm12_plot_force_data\")"
   ]
  },
  {
   "cell_type": "code",
   "execution_count": null,
   "metadata": {},
   "outputs": [],
   "source": []
  },
  {
   "cell_type": "code",
   "execution_count": null,
   "metadata": {},
   "outputs": [],
   "source": []
  },
  {
   "cell_type": "markdown",
   "metadata": {},
   "source": [
    "Thus for the force per $cm^2$ we find"
   ]
  },
  {
   "cell_type": "markdown",
   "metadata": {},
   "source": [
    "\\begin{equation}\n",
    "F = \\delta\\,\\frac{E}{V} = \\frac{\\hbar\\,c\\,\\pi}{a^4}\n",
    "\\int\\limits_{0}^{\\infty}{\n",
    "\\left\\{\n",
    "\\sum\\limits_{n_x=\\left(0\\right)\\,1}^{\\infty}\n",
    "\\sum\\limits_{n_y=\\left(0\\right)\\,1}^{\\infty}\n",
    "F\\left(n_x, n_y\\right)\n",
    "-\n",
    "\\int\\limits_{0}^{\\infty}\n",
    "\\int\\limits_{0}^{\\infty}\n",
    "F\\left(n_x, n_y\\right)\\,d{n_x}\\,d{n_y}\n",
    "\\right\\}\n",
    "}\\,d{u}\n",
    "\\end{equation}"
   ]
  },
  {
   "cell_type": "markdown",
   "metadata": {},
   "source": [
    "According to our calculation we can see that "
   ]
  },
  {
   "cell_type": "markdown",
   "metadata": {},
   "source": [
    "\\begin{equation}\n",
    "\\int\\limits_{0}^{\\infty}{\n",
    "\\left\\{\n",
    "\\sum\\limits_{n_x=\\left(0\\right)\\,1}^{\\infty}\n",
    "\\sum\\limits_{n_y=\\left(0\\right)\\,1}^{\\infty}\n",
    "F\\left(n_x, n_y\\right)\n",
    "-\n",
    "\\int\\limits_{0}^{\\infty}\n",
    "\\int\\limits_{0}^{\\infty}\n",
    "F\\left(n_x, n_y\\right)\\,d{n_x}\\,d{n_y}\n",
    "\\right\\}\n",
    "}\\,d{u} \\approx R\\left(a k_m\\right)\n",
    "\\end{equation}"
   ]
  },
  {
   "cell_type": "markdown",
   "metadata": {},
   "source": [
    "Where $R\\left(a k_m\\right)$ is some material specific value. So"
   ]
  },
  {
   "cell_type": "markdown",
   "metadata": {},
   "source": [
    "$F = \\delta\\,\\frac{E}{V} \\approx R\\left(a k_m\\right)\\,\\frac{\\hbar\\,c\\,\\pi}{a^4}$"
   ]
  },
  {
   "cell_type": "markdown",
   "metadata": {},
   "source": [
    "For the force per $cm^2$ we find"
   ]
  },
  {
   "cell_type": "markdown",
   "metadata": {},
   "source": [
    "$F = \\hbar\\,c\\, \\pi\\frac{R}{a^4}\\,=\\,0.0??\\,\\frac{1}{a_{\\mu}^4}\\,dyne/cm^2$"
   ]
  },
  {
   "cell_type": "markdown",
   "metadata": {},
   "source": [
    "where $a_{\\mu}$ is the distance measured in microns. "
   ]
  },
  {
   "cell_type": "markdown",
   "metadata": {},
   "source": [
    "We are thus led to the following conclusions. There exists force  to perfectly conducting honeycomb on a plate as result of a difference of specific energy density on its different sides. This force is dependent of the material of the plate. This force may be interpreted as a zero point pressure of electromagnetic waves."
   ]
  },
  {
   "cell_type": "markdown",
   "metadata": {},
   "source": [
    "Although the effect is smalI, an experimental confirmation seems not\n",
    "unfeasable and might be of a certain interest. "
   ]
  },
  {
   "cell_type": "markdown",
   "metadata": {},
   "source": [
    "Kharkov"
   ]
  },
  {
   "cell_type": "code",
   "execution_count": null,
   "metadata": {},
   "outputs": [],
   "source": [
    "# below are usefull reference"
   ]
  },
  {
   "cell_type": "markdown",
   "metadata": {},
   "source": [
    "30 January 2019\n",
    "\n",
    "Metal nano-honeycomb fabricated by colloidal assembly and femtosecond-laser annealing\n",
    "\n",
    "https://www.spiedigitallibrary.org/conference-proceedings-of-spie/10841/108410A/Metal-nano-honeycomb-fabricated-by-colloidal-assembly-and-femtosecond-laser/10.1117/12.2508593.full?SSO=1"
   ]
  },
  {
   "cell_type": "markdown",
   "metadata": {},
   "source": [
    "Bio-Inspired Engineering of Honeycomb Structure - Using Nature to Inspire Human Innovation\n",
    "\n",
    "https://www.researchgate.net/figure/Mechanical-behavior-of-micro-and-nano-honeycomb-materials_tbl1_280239925"
   ]
  },
  {
   "cell_type": "markdown",
   "metadata": {},
   "source": [
    "Nano-honeycomb structures for optimal energy absorption: numerical analysis and experiments\n",
    "\n",
    "https://www.alliedacademies.org/articles/nanohoneycomb-structures-for-optimal-energy-absorption-numerical-analysisand-experiments-8375.html"
   ]
  },
  {
   "cell_type": "code",
   "execution_count": null,
   "metadata": {},
   "outputs": [],
   "source": []
  },
  {
   "cell_type": "code",
   "execution_count": null,
   "metadata": {},
   "outputs": [],
   "source": []
  }
 ],
 "metadata": {
  "kernelspec": {
   "display_name": "SageMath 9.6.beta7",
   "language": "sage",
   "name": "sagemath"
  },
  "language_info": {
   "codemirror_mode": {
    "name": "ipython",
    "version": 3
   },
   "file_extension": ".py",
   "mimetype": "text/x-python",
   "name": "python",
   "nbconvert_exporter": "python",
   "pygments_lexer": "ipython3",
   "version": "3.10.3"
  }
 },
 "nbformat": 4,
 "nbformat_minor": 2
}
