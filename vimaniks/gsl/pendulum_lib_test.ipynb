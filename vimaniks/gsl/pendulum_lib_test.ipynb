{
 "cells": [
  {
   "cell_type": "markdown",
   "id": "a606b5d9",
   "metadata": {},
   "source": [
    "    ./gsl-latest/gsl-2.8$ ./configure --prefix=/usr3/articles/sagemath_docker_build/work/vimaniks/gsl/local\n",
    "\n",
    "    make && make install"
   ]
  },
  {
   "cell_type": "markdown",
   "id": "96e59780",
   "metadata": {},
   "source": [
    "    ./gsl$ make test\n",
    "    gcc -o test vanderpol.o -I. -I./local/include -O0 -g -Werror -Wformat -L./local/lib -lm -lgsl -lgslcblas\n",
    "    ./gsl$ ./test "
   ]
  },
  {
   "cell_type": "markdown",
   "id": "f1e0f47e",
   "metadata": {},
   "source": [
    "    ./gsl$ make mylib\n",
    "    :/articles/sagemath_docker_build/work/vimaniks/gsl$ make mylib\n",
    "    c99 -c -o pendulum_lib.o pendulum_lib.c -I. -I./local/include  -fPIC -O0 -g -Werror -Wformat \n",
    "    c99  -shared  -o mylib.so pendulum_lib.o  -Wl,-Bstatic -lgsl -lgslcblas -Wl,-Bdynamic -lm"
   ]
  },
  {
   "cell_type": "code",
   "execution_count": 3,
   "id": "ec5fbb97",
   "metadata": {
    "scrolled": true
   },
   "outputs": [],
   "source": [
    "# Access your C code\n",
    "import ctypes\n",
    "from ctypes import *\n",
    "so_file = \"./mylib.so\"\n",
    "c_functions = ctypes.CDLL(so_file)"
   ]
  },
  {
   "cell_type": "code",
   "execution_count": 4,
   "id": "696ff796",
   "metadata": {},
   "outputs": [],
   "source": [
    "def init():\n",
    "    #c_functions.init.restype =  ctypes.c_void\n",
    "    c_functions.init.argtypes = (ctypes.c_double, ctypes.c_double, ctypes.c_double,\n",
    "                                 ctypes.c_double, ctypes.c_double, ctypes.c_double,)\n",
    "    return c_functions.init"
   ]
  },
  {
   "cell_type": "code",
   "execution_count": 5,
   "id": "77bdf2f5",
   "metadata": {},
   "outputs": [],
   "source": [
    "def alloc():\n",
    "    #c_functions.alloc.restype =  ctypes.c_void\n",
    "    #c_functions.alloc.argtypes = (ctypes.c_void,)\n",
    "    return c_functions.alloc\n",
    "def release():\n",
    "    #c_functions.release.restype =  ctypes.c_void\n",
    "    #c_functions.release.argtypes = (ctypes.c_void,)\n",
    "    return c_functions.release"
   ]
  },
  {
   "cell_type": "code",
   "execution_count": 6,
   "id": "68f046b6",
   "metadata": {},
   "outputs": [],
   "source": [
    "def apply():\n",
    "    c_functions.apply.restype =  ctypes.c_int\n",
    "    c_functions.apply.argtypes = (ctypes.c_double,\n",
    "                                  ctypes.POINTER(ctypes.c_double),\n",
    "                                  ctypes.POINTER(ctypes.c_double),\n",
    "                                  ctypes.POINTER(ctypes.c_double))\n",
    "    return c_functions.apply"
   ]
  },
  {
   "cell_type": "code",
   "execution_count": 29,
   "id": "9b6e239d",
   "metadata": {},
   "outputs": [
    {
     "data": {
      "text/plain": [
       "6"
      ]
     },
     "execution_count": 29,
     "metadata": {},
     "output_type": "execute_result"
    }
   ],
   "source": [
    "m = c_double()\n",
    "g = c_double()\n",
    "R = c_double()\n",
    "p0 = c_double()\n",
    "q0 = c_double()\n",
    "t0 = c_double()\n",
    "\n",
    "m.value = 1.0\n",
    "g.value = 1.0\n",
    "R.value = 1.0\n",
    "p0.value = 0.0001\n",
    "q0.value = 0.0\n",
    "t0.value = 0.0\n",
    "init()(m,g,R,p0,q0,t0)"
   ]
  },
  {
   "cell_type": "code",
   "execution_count": 30,
   "id": "8ed8eb97",
   "metadata": {},
   "outputs": [
    {
     "data": {
      "text/plain": [
       "-6344480"
      ]
     },
     "execution_count": 30,
     "metadata": {},
     "output_type": "execute_result"
    }
   ],
   "source": [
    "alloc()()"
   ]
  },
  {
   "cell_type": "code",
   "execution_count": 31,
   "id": "ab979ac5",
   "metadata": {},
   "outputs": [],
   "source": [
    "ti = c_double()\n",
    "t = c_double()\n",
    "p = c_double()\n",
    "q = c_double()"
   ]
  },
  {
   "cell_type": "code",
   "execution_count": 32,
   "id": "5d31c36e",
   "metadata": {},
   "outputs": [],
   "source": [
    "t_q = []\n",
    "t_p = []\n",
    "t_v = []\n",
    "t_w = []\n",
    "t_dw = []\n",
    "import numpy as np\n",
    "for t_i in np.arange(0.0, 24.0, 0.01):\n",
    "    ti.value = t_i\n",
    "    apply()(ti, byref(t), byref(p), byref(q))\n",
    "    \n",
    "    # print(t_i, t.value, y0.value, y1.value)\n",
    "    t_p += [(t.value, p.value)]\n",
    "    t_q += [(t.value, q.value)]\n",
    "    \n",
    "    dot_q   = p.value / m.value\n",
    "    ddot_q  = R.value * g.value * sin(q.value)\n",
    "    dddot_q = R.value * g.value * cos(q.value) * dot_q\n",
    "    \n",
    "    t_v  += [(t.value, dot_q)]\n",
    "    t_w  += [(t.value, ddot_q)]\n",
    "    t_dw += [(t.value, dddot_q)]"
   ]
  },
  {
   "cell_type": "code",
   "execution_count": 33,
   "id": "0f356fbd",
   "metadata": {},
   "outputs": [
    {
     "data": {
      "text/plain": [
       "0"
      ]
     },
     "execution_count": 33,
     "metadata": {},
     "output_type": "execute_result"
    }
   ],
   "source": [
    "release()()"
   ]
  },
  {
   "cell_type": "code",
   "execution_count": 34,
   "id": "6df51651",
   "metadata": {},
   "outputs": [
    {
     "data": {
      "image/png": "[encoded data removed]",
      "text/plain": [
       "Graphics object consisting of 2 graphics primitives"
      ]
     },
     "metadata": {},
     "output_type": "display_data"
    }
   ],
   "source": [
    "p  = list_plot(t_p, color=\"red\")\n",
    "p += list_plot(t_q, color=\"green\")\n",
    "p.show(title=\"p (red), q=phi (green)\")"
   ]
  },
  {
   "cell_type": "code",
   "execution_count": 35,
   "id": "d2c0d479",
   "metadata": {},
   "outputs": [
    {
     "data": {
      "image/png": "[encoded data removed]",
      "text/plain": [
       "Graphics object consisting of 4 graphics primitives"
      ]
     },
     "metadata": {},
     "output_type": "display_data"
    }
   ],
   "source": [
    "p  = list_plot(t_q,  color=\"green\")\n",
    "p += list_plot(t_v,  color=\"red\")\n",
    "p += list_plot(t_w,  color=\"yellow\")\n",
    "p += list_plot(t_dw, color=\"brown\")\n",
    "p.show(title=\"q=phi (green), v (red), w (yellow), dot_w (brown)\")"
   ]
  },
  {
   "cell_type": "code",
   "execution_count": null,
   "id": "9b9576bd",
   "metadata": {},
   "outputs": [],
   "source": []
  },
  {
   "cell_type": "code",
   "execution_count": null,
   "id": "c62b65af",
   "metadata": {},
   "outputs": [],
   "source": []
  }
 ],
 "metadata": {
  "kernelspec": {
   "display_name": "SageMath 9.6.beta7",
   "language": "sage",
   "name": "sagemath"
  },
  "language_info": {
   "codemirror_mode": {
    "name": "ipython",
    "version": 3
   },
   "file_extension": ".py",
   "mimetype": "text/x-python",
   "name": "python",
   "nbconvert_exporter": "python",
   "pygments_lexer": "ipython3",
   "version": "3.10.3"
  }
 },
 "nbformat": 4,
 "nbformat_minor": 5
}
