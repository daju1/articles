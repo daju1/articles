{
 "cells": [
  {
   "cell_type": "code",
   "execution_count": 1,
   "metadata": {},
   "outputs": [],
   "source": [
    "# http://khd2.narod.ru/shau/patents.htm\n",
    "# http://khd2.narod.ru/shau/at117749.pdf"
   ]
  },
  {
   "cell_type": "code",
   "execution_count": 2,
   "metadata": {},
   "outputs": [
    {
     "name": "stdout",
     "output_type": "stream",
     "text": [
      "mag 50.0\n"
     ]
    },
    {
     "data": {
      "text/plain": [
       "<Figure size 640x480 with 1 Axes>"
      ]
     },
     "metadata": {},
     "output_type": "display_data"
    }
   ],
   "source": [
    "# https://stackoverflow.com/questions/32317247/how-to-draw-a-cylinder-using-matplotlib-along-length-of-point-x1-y1-and-x2-y2\n",
    "\n",
    "import numpy as np\n",
    "from stl import mesh\n",
    "from matplotlib import pyplot as plt\n",
    "from mpl_toolkits.mplot3d import Axes3D\n",
    "from scipy.linalg import norm\n",
    "\n",
    "fig = plt.figure()\n",
    "ax = fig.add_subplot(111, projection='3d')\n",
    "origin = np.array([0, 0, 0])\n",
    "#axis and radius\n",
    "#p0 = np.array([1, 3, 2])\n",
    "#p1 = np.array([8, 5, 9])\n",
    "\n",
    "sigmoid = lambda t : 1.0/(1.0 + np.exp(-t/20))\n",
    "\n",
    "\n",
    "\n",
    "p0 = np.array([0, 0, 0])\n",
    "large = False\n",
    "if large:\n",
    "    p1 = np.array([0, 0, 100])\n",
    "    R0 = 20/2\n",
    "    R1 = 40.6/2\n",
    "    my_sigmoid = lambda : sigmoid((t-80)*10)\n",
    "else:\n",
    "    p1 = np.array([0, 0, 50])\n",
    "    R0 = 10/2\n",
    "    R1 = 21.5/2\n",
    "    my_sigmoid = lambda : sigmoid((t-35)*10)\n",
    "dR = R1-R0\n",
    "dr = 0.5\n",
    "\n",
    "#vector in direction of axis\n",
    "v = p1 - p0\n",
    "#find magnitude of vector\n",
    "mag = norm(v)\n",
    "print(\"mag\", mag)\n",
    "#unit vector in direction of axis\n",
    "v = v / mag\n",
    "#make some vector not in the same direction as v\n",
    "not_v = np.array([1, 0, 0])\n",
    "if (v == not_v).all():\n",
    "    not_v = np.array([0, 1, 0])\n",
    "#make vector perpendicular to v\n",
    "n1 = np.cross(v, not_v)\n",
    "#normalize n1\n",
    "n1 /= norm(n1)\n",
    "#make unit vector perpendicular to v and n1\n",
    "n2 = np.cross(v, n1)\n",
    "#surface ranges over t from 0 to length of axis and 0 to 2*pi\n",
    "N_t = 500\n",
    "N_theta = 360*4\n",
    "t_list = np.linspace(0, mag, N_t)\n",
    "theta_list = np.linspace(0, 2 * np.pi, N_theta)\n",
    "#use meshgrid to make 2d arrays\n",
    "t, theta = np.meshgrid(t_list, theta_list)\n",
    "#generate coordinates for surface\n",
    "\n",
    "spiral = True\n",
    "\n",
    "n = 3\n",
    "\n",
    "omega = 0.03\n",
    "omega = 0.3\n",
    "omega = 0.4\n",
    "omega = -0.4\n",
    "\n",
    "pw = 16\n",
    "\n",
    "R_out_0_max = R0 + dR*t/mag\n",
    "\n",
    "if spiral:\n",
    "    rippen = lambda theta, t : np.sin(theta*n + omega * t)^pw\n",
    "    R_in_0      = R0 * (1-0.7*rippen(theta, t)) + dR*t/mag - dr\n",
    "    R_out_0_min = R0 * (1-0.7*rippen(theta, t)) + dR*t/mag + 2.0*rippen(theta, t)\n",
    "else:\n",
    "    rippen = lambda theta, t : np.sin(theta*n)^pw\n",
    "    R_in_0      = R0 * (1-0.7*rippen(theta, t)) + dR*t/mag - dr\n",
    "    R_out_0_min = R0 * (1-0.7*rippen(theta, t)) + dR*t/mag + 2.0*rippen(theta, t)\n",
    "    \n",
    "R_out_0 = R_out_0_min*(1.0 - my_sigmoid()) + my_sigmoid() * R_out_0_max\n",
    "\n",
    "X_in,  Y_in,  Z_in  = [p0[i] + v[i] * t + R_in_0  * np.sin(theta) * n1[i] + R_in_0  * np.cos(theta) * n2[i] for i in [0, 1, 2]]\n",
    "X_out, Y_out, Z_out = [p0[i] + v[i] * t + R_out_0 * np.sin(theta) * n1[i] + R_out_0 * np.cos(theta) * n2[i] for i in [0, 1, 2]]\n",
    "\n",
    "faces_num = t_list.shape[0] * theta_list.shape[0] * 2 \\\n",
    "          + t_list.shape[0] * theta_list.shape[0] * 2 \\\n",
    "          + theta_list.shape[0] + 2 \\\n",
    "          + theta_list.shape[0] + 2\n",
    "\n",
    "# Create the mesh\n",
    "data = mesh.Mesh(np.zeros(faces_num, dtype=mesh.Mesh.dtype))\n",
    "i_face = 0\n",
    "def fill_mesh(i_face,X,Y,Z):\n",
    "    for j in range(X.shape[1] - 1): #along Z\n",
    "        for i in range(X.shape[0] - 1): # along theta\n",
    "            #if i == 0 or i == X.shape[0] - 2:\n",
    "            #    print(i, j)\n",
    "            data.vectors[i_face][0] = [X[i  ,j  ], Y[i  ,j  ], Z[i  ,j  ]]\n",
    "            data.vectors[i_face][1] = [X[i+1,j  ], Y[i+1,j  ], Z[i+1,j  ]]\n",
    "            data.vectors[i_face][2] = [X[i  ,j+1], Y[i  ,j+1], Z[i  ,j+1]]\n",
    "            #if i == 0 or i == X.shape[0] - 2:\n",
    "            #    print(data.vectors[i_face])\n",
    "            i_face = i_face + 1\n",
    "\n",
    "            data.vectors[i_face][0] = [X[i+1,j+1], Y[i+1,j+1], Z[i+1,j+1]]\n",
    "            data.vectors[i_face][1] = [X[i+1,j  ], Y[i+1,j  ], Z[i+1,j  ]]\n",
    "            data.vectors[i_face][2] = [X[i  ,j+1], Y[i  ,j+1], Z[i  ,j+1]]\n",
    "            #if i == 0 or i == X.shape[0] - 2:\n",
    "            #    print(data.vectors[i_face])\n",
    "            i_face = i_face + 1\n",
    "            \n",
    "    return i_face\n",
    "        \n",
    "        \n",
    "i_face = fill_mesh(i_face, X_in, Y_in, Z_in)\n",
    "i_face = fill_mesh(i_face, X_out, Y_out, Z_out)\n",
    "\n",
    "def fill_top_botom(i_face, X_in, Y_in, Z_in, X_out, Y_out, Z_out, j):\n",
    "    for i in range(X_in.shape[0] - 1): # along theta\n",
    "        #print(i, j)\n",
    "\n",
    "        data.vectors[i_face][0] = [X_in [i  ,j], Y_in [i  ,j], Z_in [i  ,j]]\n",
    "        data.vectors[i_face][1] = [X_in [i+1,j], Y_in [i+1,j], Z_in [i+1,j]]\n",
    "        data.vectors[i_face][2] = [X_out[i  ,j], Y_out[i  ,j], Z_out[i  ,j]]\n",
    "        #print(data.vectors[i_face])\n",
    "        i_face = i_face + 1\n",
    "\n",
    "        data.vectors[i_face][0] = [X_in [i+1,j], Y_in [i+1,j], Z_in [i+1,j]]\n",
    "        data.vectors[i_face][1] = [X_out[i+1,j], Y_out[i+1,j], Z_out[i+1,j]]\n",
    "        data.vectors[i_face][2] = [X_out[i  ,j], Y_out[i  ,j], Z_out[i  ,j]]\n",
    "        #print(data.vectors[i_face])\n",
    "        i_face = i_face + 1\n",
    "        \n",
    "    return i_face\n",
    "\n",
    "i_face = fill_top_botom(i_face, X_in, Y_in, Z_in, X_out, Y_out, Z_out, j = 0)\n",
    "i_face = fill_top_botom(i_face, X_in, Y_in, Z_in, X_out, Y_out, Z_out, j = X_in.shape[1] - 1)\n",
    "    \n",
    "# Write the mesh to file \"data.stl\"\n",
    "\n",
    "if spiral:\n",
    "    if omega < 0:\n",
    "        data.save('invspiral.stl')\n",
    "    else:\n",
    "        data.save('spiral.stl')       \n",
    "else:\n",
    "    data.save('nonspiral.stl')\n",
    "    \n",
    "\n",
    "ax.plot_surface(X_in, Y_in, Z_in)\n",
    "ax.plot_surface(X_out, Y_out, Z_out)\n",
    "\n",
    "\n",
    "#plot axis\n",
    "ax.plot(*zip(p0, p1), color = 'red')\n",
    "#ax.set_xlim(0, 10)\n",
    "#ax.set_ylim(0, 10)\n",
    "#ax.set_xlim(-5, 5)\n",
    "#ax.set_ylim(-5, 5)\n",
    "#ax.set_zlim(0, 10)\n",
    "plt.show()"
   ]
  },
  {
   "cell_type": "code",
   "execution_count": 3,
   "metadata": {},
   "outputs": [
    {
     "data": {
      "text/plain": [
       "[<matplotlib.lines.Line2D object at 0x7f3bb62eebd0>]"
      ]
     },
     "execution_count": 3,
     "metadata": {},
     "output_type": "execute_result"
    },
    {
     "data": {
      "image/png": "[encoded data removed]",
      "text/plain": [
       "<Figure size 432x288 with 1 Axes>"
      ]
     },
     "metadata": {},
     "output_type": "display_data"
    }
   ],
   "source": [
    "fig = plt.figure()\n",
    "ax = fig.add_subplot(111)\n",
    "\n",
    "ax.plot(sigmoid((t_list-20)*10))"
   ]
  },
  {
   "cell_type": "code",
   "execution_count": 4,
   "metadata": {},
   "outputs": [],
   "source": [
    "import vtkplotlib as vpl\n",
    "from stl.mesh import Mesh\n",
    "\n",
    "if spiral:\n",
    "    if omega < 0:\n",
    "        path = 'invspiral.stl'\n",
    "    else:\n",
    "        path = 'spiral.stl'\n",
    "else:\n",
    "    path = 'nonspiral.stl'\n",
    "\n",
    "# Read the STL using numpy-stl\n",
    "mesh = Mesh.from_file(path)\n",
    "\n",
    "# Plot the mesh\n",
    "vpl.mesh_plot(mesh)\n",
    "\n",
    "# Show the figure\n",
    "vpl.show()"
   ]
  },
  {
   "cell_type": "code",
   "execution_count": 5,
   "metadata": {},
   "outputs": [
    {
     "data": {
      "image/png": "[encoded data removed]",
      "text/plain": [
       "Graphics object consisting of 1 graphics primitive"
      ]
     },
     "execution_count": 5,
     "metadata": {},
     "output_type": "execute_result"
    }
   ],
   "source": [
    "plot(sin(x)^pw, (x, 0, 2*pi))"
   ]
  },
  {
   "cell_type": "code",
   "execution_count": null,
   "metadata": {},
   "outputs": [],
   "source": []
  }
 ],
 "metadata": {
  "kernelspec": {
   "display_name": "SageMath 9.1",
   "language": "sage",
   "name": "sagemath"
  },
  "language_info": {
   "codemirror_mode": {
    "name": "ipython",
    "version": 3
   },
   "file_extension": ".py",
   "mimetype": "text/x-python",
   "name": "python",
   "nbconvert_exporter": "python",
   "pygments_lexer": "ipython3",
   "version": "3.7.9"
  }
 },
 "nbformat": 4,
 "nbformat_minor": 2
}
