{
 "cells": [
  {
   "cell_type": "markdown",
   "metadata": {},
   "source": [
    "# К вопросу о зависимости силы Казимира от толщины пластин"
   ]
  },
  {
   "cell_type": "markdown",
   "metadata": {},
   "source": [
    "By A. Ju. Drozdov\n",
    "\n",
    "(Feb 14. 2021. - Sept 16 2022)\n",
    "\n",
    "Kharkov"
   ]
  },
  {
   "cell_type": "markdown",
   "metadata": {},
   "source": [
    "В данной работе я хочу проанализировав статью Казимира показать что выведенная им формула силы Казимира может быть усовершенствована таким образом, что сила Казимира на самом деле должна зависеть не только от расстояния между пластинами но так же и от удельной массы каждой из пластин."
   ]
  },
  {
   "cell_type": "markdown",
   "metadata": {},
   "source": [
    "https://www.dwc.knaw.nl/DL/publications/PU00018547.pdf\n",
    "\n",
    "Mathematics. - On the attraction between two perfectly conducting\n",
    "plates. By H . B. G. CASIMIR\n",
    "\n",
    "(Communicated at the meeting of May 29. 1948.) "
   ]
  },
  {
   "cell_type": "markdown",
   "metadata": {},
   "source": [
    "Let us consider a cubic cavity of volume $L^3$ bounded by perfectly conducting walls and let a perfectly conducting square plate with side $L$ be\n",
    "placed in this cavity parallel to the $xy$ face and let us compare the\n",
    "situation in which this plate is at a small distance a from the $xy$ face and the\n",
    "situation in which it is at a very large distance. say $L/2$. In both cases the\n",
    "expressions $\\frac{1}{2}\\sum\\,\\hbar\\omega$ where the summation extends over all possible\n",
    "resonance frequencies of the cavities are divergent and devoid of physical\n",
    "meaning but the difference between these sums in the two situations,\n",
    "$\\frac{1}{2\\,V_{I}}\\left(\\sum\\,\\,\\hbar\\omega\\right)_{I} - \\frac{1}{2\\,V_{II}}\\left(\\sum\\,\\,\\hbar\\omega\\right)_{II}$, will be shown to have a weIl defined value and this\n",
    "value will be interpreted as the interaction between the plate and the\n",
    "$xy$ face."
   ]
  },
  {
   "cell_type": "markdown",
   "metadata": {},
   "source": [
    "The possible vibrations of a cavity defined by "
   ]
  },
  {
   "cell_type": "markdown",
   "metadata": {},
   "source": [
    "$0<=x<=L$, $0<=y<=L$, $0<=z<=a$ "
   ]
  },
  {
   "cell_type": "markdown",
   "metadata": {},
   "source": [
    "have wave numbers "
   ]
  },
  {
   "cell_type": "markdown",
   "metadata": {},
   "source": [
    "$k_x = \\frac{\\pi}{L}\\,n_x$, $k_y = \\frac{\\pi}{L}\\,n_y$, $k_z = \\frac{\\pi}{a}\\,n_z$,\n",
    "\n",
    "where $n_x$. $n_y$, $n_z$:\n",
    "\n",
    "are positive integers;"
   ]
  },
  {
   "cell_type": "markdown",
   "metadata": {},
   "source": [
    "$k = \\sqrt{k_x^2+k_y^2+k_z^2} = \\sqrt{\\kappa^2+k_z^2}$. "
   ]
  },
  {
   "cell_type": "markdown",
   "metadata": {},
   "source": [
    "To every $k_x$, $k_y$, $k_z$ correspond two standing waves unless one of the $n_i$\n",
    "is zero, when there is only one. For $k_x$, $k_y$ this is without importance since\n",
    "for very large $L$ we may regard $k_x$, $k_y$ as continuous variables. Thus we\n",
    "find "
   ]
  },
  {
   "cell_type": "markdown",
   "metadata": {},
   "source": [
    "$\\frac{1}{2}\\sum\\,\\hbar\\omega = \\hbar\\,c\\frac{L^2}{\\pi^2}\\int\\limits_{0}^{\\infty}\\int\\limits_{0}^{\\infty}\\left[{\\frac{1}{2}\\sqrt{k_x^2+k_y^2}+\\sum\\limits_{n=1}^{\\infty}\\sqrt{n^2\\frac{\\pi^2}{a^2}+k_x^2+k_y^2}}\\right]d{k_x}d{k_y}$"
   ]
  },
  {
   "cell_type": "markdown",
   "metadata": {},
   "source": [
    "or, introducing polar coordinates in the $k_x$, $k_y$ plane. "
   ]
  },
  {
   "cell_type": "markdown",
   "metadata": {},
   "source": [
    "$\\frac{1}{2}\\sum\\,\\hbar\\omega = \\hbar\\,c\\frac{L^2}{\\pi^2}\\cdot\\frac{\\pi}{2}\\sum\\limits_{\\left(0\\right)\\,1}^{\\infty}\\int\\limits_{0}^{\\infty}{\\sqrt{n^2\\frac{\\pi^2}{a^2}+\\kappa^2}}\\kappa\\,d{\\kappa}$"
   ]
  },
  {
   "cell_type": "markdown",
   "metadata": {},
   "source": [
    "where the notation $\\left(0\\right) 1$ is meant to indicate that the term with $n = 0$\n",
    "has to be multiplied by $\\frac{1}{2}$. For very large $a$ also this last summation may\n",
    "be replaced by an integral and it is therefore easily seen that our interaction energy is given by "
   ]
  },
  {
   "cell_type": "markdown",
   "metadata": {},
   "source": [
    "$\\delta\\,E = \\hbar\\,c\\frac{L^2}{\\pi^2}\\cdot\\frac{\\pi}{2}\\left\\{\\sum\\limits_{\\left(0\\right)\\,1}^{\\infty}\\int\\limits_{0}^{\\infty}{\\sqrt{n^2\\frac{\\pi^2}{a^2}+\\kappa^2}}\\kappa\\,d{\\kappa}-\\int\\limits_{0}^{\\infty}\\int\\limits_{0}^{\\infty}{\\sqrt{k_z^2+\\kappa^2}}\\kappa\\,d{\\kappa}\\left(\\frac{a}{\\pi}d{k_z}\\right)\\right\\}$"
   ]
  },
  {
   "cell_type": "markdown",
   "metadata": {},
   "source": [
    "In order to obtain a finite result it is necessary to multiply the integrands\n",
    "by a function $f(k/k_m)$ which is unity for $k << k_m$ but tends to zero sufficiently rapidly for $(k/k_m)\\, \\rightarrow\\,\\infty$. where km may be defined by $f(1) = \\frac{1}{2}$.\n",
    "The physical meaning is obvious: for very short waves (X~rays e.g.)\n",
    "our plate is hardly an obstacle at all and therefore the zero point energy\n",
    "of these waves will not be influenced by the position of this plate. "
   ]
  },
  {
   "cell_type": "markdown",
   "metadata": {},
   "source": [
    "Introducing the variable $u = a^2\\,\\kappa^2/\\pi^2$"
   ]
  },
  {
   "cell_type": "markdown",
   "metadata": {},
   "source": [
    "$du = a^2/\\pi^2\\,\\kappa\\,d\\kappa$"
   ]
  },
  {
   "cell_type": "markdown",
   "metadata": {},
   "source": [
    "$\\delta\\,E = L^2\\,\\hbar\\,c\\frac{\\pi^2}{4\\,a^3}\\left\\{\\sum\\limits_{\\left(0\\right)\\,1}^{\\infty}\\int\\limits_{0}^{\\infty}{\\sqrt{n^2+u}}f\\left(\\pi\\sqrt{n^2+u}/\\left(a\\,k_m\\right)\\right)\\,d{u}-\\int\\limits_{0}^{\\infty}\\int\\limits_{0}^{\\infty}{\\sqrt{n^2+u}}f\\left(\\pi\\sqrt{n^2+u}/\\left(a\\,k_m\\right)\\right)\\,d{u}\\,d{n}\\right\\}$"
   ]
  },
  {
   "cell_type": "markdown",
   "metadata": {},
   "source": [
    "We apply the EULER-MACLAURIN formula: "
   ]
  },
  {
   "cell_type": "markdown",
   "metadata": {},
   "source": [
    "$\\sum\\limits_{\\left(0\\right)\\,1}^{\\infty}{F\\left(n\\right)}-\\int\\limits_{0}^{\\infty}{F\\left(n\\right)} = -\\,\\frac{1}{12}F'\\left(0\\right)\\,+\\,\\frac{1}{24\\times30}F'''\\left(0\\right)\\,+\\,...$"
   ]
  },
  {
   "cell_type": "markdown",
   "metadata": {},
   "source": [
    "Introducing $w = u + n^2$ we have "
   ]
  },
  {
   "cell_type": "markdown",
   "metadata": {},
   "source": [
    "$F\\left(n\\right) = \\int\\limits_{n^2}^{\\infty}{\\sqrt{w}}f\\left(\\pi\\sqrt{w}/\\left(a\\,k_m\\right)\\right)\\,d{w}$"
   ]
  },
  {
   "cell_type": "markdown",
   "metadata": {},
   "source": [
    "whence"
   ]
  },
  {
   "cell_type": "markdown",
   "metadata": {},
   "source": [
    "$F'\\left(n\\right) = -2\\,n^2f\\left(\\pi\\,n/\\left(a\\,k_m\\right)\\right)$"
   ]
  },
  {
   "cell_type": "markdown",
   "metadata": {},
   "source": [
    "$F'\\left(0\\right) = 0$"
   ]
  },
  {
   "cell_type": "markdown",
   "metadata": {},
   "source": [
    "$F'''\\left(0\\right) = -4$"
   ]
  },
  {
   "cell_type": "markdown",
   "metadata": {},
   "source": [
    "The higher derivatives will contain powers of $(\\pi/(a\\,k_m))$ . Thus we find"
   ]
  },
  {
   "cell_type": "markdown",
   "metadata": {},
   "source": [
    "$\\delta\\,E/L^2 = \\hbar\\,c\\frac{\\pi^2}{4\\,a^3}\\left\\{\\frac{-4}{24\\times30}\\right\\}$"
   ]
  },
  {
   "cell_type": "markdown",
   "metadata": {},
   "source": [
    "a formula which holds as long as $a\\,k_m\\,»\\,1$. For the force per $cm^2$ we find"
   ]
  },
  {
   "cell_type": "markdown",
   "metadata": {},
   "source": [
    "$F = \\hbar\\,c\\frac{\\pi^2}{240}\\frac{1}{a^4}\\,=\\,0.013\\,\\frac{1}{a_{\\mu}^4}\\,dyne/cm^2$"
   ]
  },
  {
   "cell_type": "markdown",
   "metadata": {},
   "source": [
    "where $a_{\\mu}$ is the distance measured in microns. "
   ]
  },
  {
   "cell_type": "markdown",
   "metadata": {},
   "source": [
    "We are thus led to the following conclusions. There exists an attractive\n",
    "force between two metal plates which is independent of the material of\n",
    "the plates as long as the distance is so large that for wave . lengths\n",
    "comparable with that distance the penetration depth is small compared with\n",
    "the distance. This force may be interpreted as a zero point pressure of\n",
    "electromagnetic waves."
   ]
  },
  {
   "cell_type": "markdown",
   "metadata": {},
   "source": [
    "Although the effect is smalI, an experimental confirmation seems not\n",
    "unfeasable and might be of a certain interest. "
   ]
  },
  {
   "cell_type": "markdown",
   "metadata": {},
   "source": [
    "Natuurkundig Laboratorium der N.V. Philips'\n",
    "Gloeilampenfabrieken. Eindhoven .) "
   ]
  },
  {
   "cell_type": "code",
   "execution_count": null,
   "metadata": {},
   "outputs": [],
   "source": []
  },
  {
   "cell_type": "markdown",
   "metadata": {},
   "source": [
    "Таким образом мы видим, что Казимир, разлагая разность суммы и интеграла в ряд Эйлера Маклорена, ограничился только лишь третьей производной, отбросив высшие производные на том основании, что \"The higher derivatives will contain powers of $(\\pi/(a\\,k_m))$\" при том что \"a formula which holds as long as $a\\,k_m\\,»\\,1$\"\n",
    "\n",
    "Хотелось бы теперь исследовать какую информацию о силе Казимира можно получить если все же высшие производные не отбрасывать"
   ]
  },
  {
   "cell_type": "code",
   "execution_count": 1,
   "metadata": {},
   "outputs": [],
   "source": [
    "from IPython.display import display, Math, Latex\n",
    "\n",
    "def disp(ex):\n",
    "    display(Math(latex(ex)))"
   ]
  },
  {
   "cell_type": "code",
   "execution_count": 2,
   "metadata": {},
   "outputs": [],
   "source": [
    "a = var(\"a\")\n",
    "L = var(\"L\")\n",
    "\n",
    "k_x = var(\"k_x\")\n",
    "k_y = var(\"k_y\")\n",
    "k_z = var(\"k_z\")\n",
    "\n",
    "n_x = var(\"n_x\")\n",
    "n_y = var(\"n_y\")\n",
    "n_z = var(\"n_z\")"
   ]
  },
  {
   "cell_type": "code",
   "execution_count": 3,
   "metadata": {},
   "outputs": [],
   "source": [
    "k_x = pi * n_x / L\n",
    "k_y = pi * n_y / L\n",
    "k_z = pi * n_z / a"
   ]
  },
  {
   "cell_type": "code",
   "execution_count": 4,
   "metadata": {},
   "outputs": [],
   "source": [
    "#kappa = sqrt(k_x^2+k_y^2)\n",
    "kappa = var(\"kappa\")"
   ]
  },
  {
   "cell_type": "code",
   "execution_count": 5,
   "metadata": {},
   "outputs": [],
   "source": [
    "k = sqrt(kappa^2+k_z^2)"
   ]
  },
  {
   "cell_type": "code",
   "execution_count": 6,
   "metadata": {},
   "outputs": [
    {
     "data": {
      "text/plain": [
       "sqrt(kappa^2 + pi^2*n_z^2/a^2)"
      ]
     },
     "execution_count": 6,
     "metadata": {},
     "output_type": "execute_result"
    }
   ],
   "source": [
    "k"
   ]
  },
  {
   "cell_type": "code",
   "execution_count": 7,
   "metadata": {},
   "outputs": [],
   "source": [
    "#n = n_z\n",
    "n = var(\"n\")\n",
    "assume (n, \"real\")\n",
    "assume (n > 0)"
   ]
  },
  {
   "cell_type": "code",
   "execution_count": 8,
   "metadata": {},
   "outputs": [],
   "source": [
    "u = var(\"u\")\n",
    "#u = a^2*kappa^2/(n^2)"
   ]
  },
  {
   "cell_type": "code",
   "execution_count": 9,
   "metadata": {},
   "outputs": [],
   "source": [
    "w = var(\"w\")\n",
    "#w = u + n^2\n",
    "w = a^2*kappa^2/n^2 + n^2"
   ]
  },
  {
   "cell_type": "markdown",
   "metadata": {},
   "source": [
    "для дальнейших исследований нужно выбрать явный вид функции регуляризации"
   ]
  },
  {
   "cell_type": "code",
   "execution_count": 10,
   "metadata": {},
   "outputs": [],
   "source": [
    "m = 3\n",
    "\n",
    "f = function('f')(var(\"k_km\"))\n",
    "fn = lambda k, km : 1 / (1 + (k/km)^m)"
   ]
  },
  {
   "cell_type": "markdown",
   "metadata": {},
   "source": [
    "Проверяем, что выбранная функция регуляризации соответствует Казимировскому условию: \"$k_m$ may be defined by $f(1) = \\frac{1}{2}$\"."
   ]
  },
  {
   "cell_type": "code",
   "execution_count": 11,
   "metadata": {},
   "outputs": [
    {
     "data": {
      "text/plain": [
       "1/2"
      ]
     },
     "execution_count": 11,
     "metadata": {},
     "output_type": "execute_result"
    }
   ],
   "source": [
    "fn(1, 1)"
   ]
  },
  {
   "cell_type": "code",
   "execution_count": 12,
   "metadata": {},
   "outputs": [],
   "source": [
    "k_m = var(\"k_m\")"
   ]
  },
  {
   "cell_type": "code",
   "execution_count": 13,
   "metadata": {},
   "outputs": [
    {
     "data": {
      "image/png": "[encoded data removed]",
      "text/plain": [
       "Graphics object consisting of 2 graphics primitives"
      ]
     },
     "execution_count": 13,
     "metadata": {},
     "output_type": "execute_result"
    }
   ],
   "source": [
    "plot([fn(x, 1000), fn(x, 1000)], (x, 0, 2000))"
   ]
  },
  {
   "cell_type": "markdown",
   "metadata": {},
   "source": [
    "Поскольку частота выражается $\\omega = c\\,\\sqrt{n^2\\frac{\\pi^2}{a^2}+k_x^2+k_y^2} = c\\,\\sqrt{n^2\\frac{\\pi^2}{a^2}+\\kappa^2}$\n",
    "\n",
    "и\n",
    "\n",
    "$u = a^2\\,\\kappa^2/\\pi^2$\n",
    "\n",
    "$\\kappa^2 = u \\frac{\\pi^2}{a^2}$\n",
    "\n",
    "имеем\n",
    "\n",
    "$\\omega = c \\, \\frac{\\pi}{a} \\sqrt{n^2+u}$ \n",
    "\n",
    "Таким образом регуляризационная функция $f$ введённая Казимиром имеет вид\n",
    "\n",
    "$f\\left(\\frac{\\pi\\sqrt{n^2+u}}{a\\,k_m}\\right) = f\\left(\\frac{\\omega}{c\\,k_m}\\right)$\n",
    "\n",
    "и так называемая частота обрезания\n",
    "\n",
    "$\\omega_m = c\\,k_m$"
   ]
  },
  {
   "cell_type": "markdown",
   "metadata": {},
   "source": [
    "Физический смысл частоты обрезания Казимир определяет следующим образом\n",
    "\n",
    "The physical meaning is obvious: for very short waves (X~rays e.g.)\n",
    "our plate is hardly an obstacle at all and therefore the zero point energy\n",
    "of these waves will not be influenced by the position of this plate.\n",
    "\n",
    "Но что мы знаем про рентгеновские лучи из опыта рентгенографии: чем плотнее тело, через которое проходит рентгеновский луч, тем сильнее этот луч поглощается. Человеческая кость на рентгеновском снимке светлая, а мягкие ткани тёмные. \n",
    "\n",
    "Возвращаясь к эффекту Казимира мы можем сказать что частота обрезания для более плотной и массивной пластины будет выше. Иными слувами $k_m$ пропорционален удельной массе пластины"
   ]
  },
  {
   "cell_type": "code",
   "execution_count": 14,
   "metadata": {},
   "outputs": [
    {
     "data": {
      "image/png": "[encoded data removed]",
      "text/plain": [
       "Graphics object consisting of 2 graphics primitives"
      ]
     },
     "execution_count": 14,
     "metadata": {},
     "output_type": "execute_result"
    }
   ],
   "source": [
    "plot([fn(x, 1000), fn(x, 5000)], (x, 0, 10000))"
   ]
  },
  {
   "cell_type": "markdown",
   "metadata": {},
   "source": [
    "Теперь я попытаюсь оценить сумму ряда составленного из \"The higher derivatives will contain powers of $(\\pi/(a\\,k_m))$\""
   ]
  },
  {
   "cell_type": "code",
   "execution_count": 15,
   "metadata": {},
   "outputs": [],
   "source": [
    "integrand = sqrt(w)*fn(pi*sqrt(w)/(a),k_m)"
   ]
  },
  {
   "cell_type": "code",
   "execution_count": 16,
   "metadata": {},
   "outputs": [],
   "source": [
    "N = var (\"N\") # Infinity\n",
    "from sage.symbolic.integration.integral import definite_integral\n",
    "F(n) = definite_integral(integrand, w, n^2, N)"
   ]
  },
  {
   "cell_type": "code",
   "execution_count": 17,
   "metadata": {},
   "outputs": [
    {
     "data": {
      "text/latex": [
       "$\\displaystyle \\int_{n^{2}}^{N} \\frac{\\sqrt{\\frac{a^{2} \\kappa^{2}}{n^{2}} + n^{2}}}{\\frac{\\pi^{3} {\\left(\\frac{a^{2} \\kappa^{2}}{n^{2}} + n^{2}\\right)}^{\\frac{3}{2}}}{a^{3} k_{m}^{3}} + 1}\\,{d \\left(\\frac{a^{2} \\kappa^{2}}{n^{2}} + n^{2}\\right)}$"
      ],
      "text/plain": [
       "<IPython.core.display.Math object>"
      ]
     },
     "metadata": {},
     "output_type": "display_data"
    }
   ],
   "source": [
    "display(Math(latex(F(n))))"
   ]
  },
  {
   "cell_type": "markdown",
   "metadata": {},
   "source": [
    "Для этого нужно применить формулу Эйлера-Маклорена\n",
    "\n",
    "$${\\displaystyle \\sum _{i=a}^{b}f(i)=\\int _{a}^{b}f(x)\\,dx+{\\frac {f(a)+f(b)}{2}}+\\sum _{k=1}^{\\lfloor p/2\\rfloor }{\\frac {B_{2k}}{(2k)!}}(f^{(2k-1)}(b)-f^{(2k-1)}(a))+R_{p},}$$"
   ]
  },
  {
   "cell_type": "markdown",
   "metadata": {},
   "source": [
    "$${\\displaystyle P_{k}(x)=B_{k}(x-\\lfloor x\\rfloor ),}$$\n",
    "\n",
    "$${\\displaystyle R_{p}=(-1)^{p+1}\\int _{a}^{b}f^{(p)}(x){\\frac {P_{p}(x)}{p!}}\\,dx.}$$"
   ]
  },
  {
   "cell_type": "markdown",
   "metadata": {},
   "source": [
    "Для начала посмотрим чему равны производные $f^{(2k-1)}(0)$"
   ]
  },
  {
   "cell_type": "code",
   "execution_count": 18,
   "metadata": {},
   "outputs": [
    {
     "data": {
      "text/latex": [
       "$\\displaystyle -\\frac{2 \\, n^{2}}{\\frac{\\pi^{3} n^{3}}{a^{3} k_{m}^{3}} + 1}$"
      ],
      "text/plain": [
       "<IPython.core.display.Math object>"
      ]
     },
     "metadata": {},
     "output_type": "display_data"
    },
    {
     "data": {
      "text/latex": [
       "$\\displaystyle 0$"
      ],
      "text/plain": [
       "<IPython.core.display.Math object>"
      ]
     },
     "metadata": {},
     "output_type": "display_data"
    }
   ],
   "source": [
    "F1 = F(n).diff(n, 1).expand()\n",
    "display(Math(latex(F1)))\n",
    "display(Math(latex(F1.subs(n == 0))))"
   ]
  },
  {
   "cell_type": "code",
   "execution_count": 19,
   "metadata": {},
   "outputs": [
    {
     "data": {
      "text/latex": [
       "$\\displaystyle -\\frac{36 \\, \\pi^{6} n^{6}}{a^{6} k_{m}^{6} {\\left(\\frac{3 \\, \\pi^{3} n^{3}}{a^{3} k_{m}^{3}} + \\frac{3 \\, \\pi^{6} n^{6}}{a^{6} k_{m}^{6}} + \\frac{\\pi^{9} n^{9}}{a^{9} k_{m}^{9}} + 1\\right)}} + \\frac{36 \\, \\pi^{3} n^{3}}{a^{3} k_{m}^{3} {\\left(\\frac{2 \\, \\pi^{3} n^{3}}{a^{3} k_{m}^{3}} + \\frac{\\pi^{6} n^{6}}{a^{6} k_{m}^{6}} + 1\\right)}} - \\frac{4}{\\frac{\\pi^{3} n^{3}}{a^{3} k_{m}^{3}} + 1}$"
      ],
      "text/plain": [
       "<IPython.core.display.Math object>"
      ]
     },
     "metadata": {},
     "output_type": "display_data"
    },
    {
     "data": {
      "text/latex": [
       "$\\displaystyle -4$"
      ],
      "text/plain": [
       "<IPython.core.display.Math object>"
      ]
     },
     "metadata": {},
     "output_type": "display_data"
    }
   ],
   "source": [
    "F3 = F(n).diff(n, 3).expand()\n",
    "display(Math(latex(F3)))\n",
    "display(Math(latex(F3.subs(n == 0))))"
   ]
  },
  {
   "cell_type": "code",
   "execution_count": 20,
   "metadata": {},
   "outputs": [
    {
     "data": {
      "text/latex": [
       "$\\displaystyle 0$"
      ],
      "text/plain": [
       "<IPython.core.display.Math object>"
      ]
     },
     "metadata": {},
     "output_type": "display_data"
    }
   ],
   "source": [
    "F5 = F(n).diff(n, 5).expand()\n",
    "# display(Math(latex(F5)))\n",
    "display(Math(latex(F5.subs(n == 0))))"
   ]
  },
  {
   "cell_type": "code",
   "execution_count": 21,
   "metadata": {},
   "outputs": [
    {
     "data": {
      "text/latex": [
       "$\\displaystyle 0$"
      ],
      "text/plain": [
       "<IPython.core.display.Math object>"
      ]
     },
     "metadata": {},
     "output_type": "display_data"
    }
   ],
   "source": [
    "F7 = F(n).diff(n, 7).expand()\n",
    "# display(Math(latex(F7)))\n",
    "display(Math(latex(F7.subs(n == 0))))"
   ]
  },
  {
   "cell_type": "code",
   "execution_count": 22,
   "metadata": {},
   "outputs": [
    {
     "data": {
      "text/latex": [
       "$\\displaystyle -\\frac{80640 \\, \\pi^{6}}{a^{6} k_{m}^{6}}$"
      ],
      "text/plain": [
       "<IPython.core.display.Math object>"
      ]
     },
     "metadata": {},
     "output_type": "display_data"
    }
   ],
   "source": [
    "F9 = F(n).diff(n, 9).expand()\n",
    "display(Math(latex(F9.subs(n == 0))))"
   ]
  },
  {
   "cell_type": "code",
   "execution_count": 23,
   "metadata": {},
   "outputs": [
    {
     "data": {
      "text/latex": [
       "$\\displaystyle -\\frac{80640 \\, \\pi^{6}}{a^{6} k_{m}^{6}}$"
      ],
      "text/plain": [
       "<IPython.core.display.Math object>"
      ]
     },
     "metadata": {},
     "output_type": "display_data"
    }
   ],
   "source": [
    "F11 = F(n).diff(n, 11).expand()\n",
    "display(Math(latex(F9.subs(n == 0))))"
   ]
  },
  {
   "cell_type": "code",
   "execution_count": 24,
   "metadata": {},
   "outputs": [
    {
     "data": {
      "text/latex": [
       "$\\displaystyle 0$"
      ],
      "text/plain": [
       "<IPython.core.display.Math object>"
      ]
     },
     "metadata": {},
     "output_type": "display_data"
    }
   ],
   "source": [
    "F13 = F(n).diff(n, 13).expand()\n",
    "display(Math(latex(F13.subs(n == 0))))"
   ]
  },
  {
   "cell_type": "code",
   "execution_count": 25,
   "metadata": {},
   "outputs": [
    {
     "data": {
      "text/latex": [
       "$\\displaystyle -\\frac{174356582400 \\, \\pi^{12}}{a^{12} k_{m}^{12}}$"
      ],
      "text/plain": [
       "<IPython.core.display.Math object>"
      ]
     },
     "metadata": {},
     "output_type": "display_data"
    }
   ],
   "source": [
    "F15 = F(n).diff(n, 15).expand()\n",
    "display(Math(latex(F15.subs(n == 0))))"
   ]
  },
  {
   "cell_type": "markdown",
   "metadata": {},
   "source": [
    "Для численных оценок выбираю характерные для наблюдения эффекта Казимира значения зазора и волнового вектора обрезания"
   ]
  },
  {
   "cell_type": "code",
   "execution_count": 26,
   "metadata": {},
   "outputs": [
    {
     "data": {
      "text/plain": [
       "1/1000000"
      ]
     },
     "execution_count": 26,
     "metadata": {},
     "output_type": "execute_result"
    }
   ],
   "source": [
    "# На расстояниях порядка 10 нм — сотни размеров типичного атома — давление, создаваемое эффектом Казимира, оказывается сравнимым с атмосферным.\n",
    "a_f = 10 * 10^-9 * 100\n",
    "a_f"
   ]
  },
  {
   "cell_type": "code",
   "execution_count": 27,
   "metadata": {},
   "outputs": [
    {
     "data": {
      "text/plain": [
       "20000000*pi"
      ]
     },
     "execution_count": 27,
     "metadata": {},
     "output_type": "execute_result"
    }
   ],
   "source": [
    "# Most X-rays have a wavelength ranging from 10 picometers to 10 nanometers,\n",
    "k_mf = 2*pi/(10 * 10^-9 * 100 * 10^-1)\n",
    "k_mf"
   ]
  },
  {
   "cell_type": "markdown",
   "metadata": {},
   "source": [
    "\"a formula which holds as long as $a\\,k_m\\,»\\,1$\""
   ]
  },
  {
   "cell_type": "code",
   "execution_count": 28,
   "metadata": {},
   "outputs": [
    {
     "data": {
      "text/plain": [
       "20*pi"
      ]
     },
     "execution_count": 28,
     "metadata": {},
     "output_type": "execute_result"
    }
   ],
   "source": [
    "a_f*k_mf"
   ]
  },
  {
   "cell_type": "markdown",
   "metadata": {},
   "source": [
    "Строю ряд суммируя отброшенные Казимиром слагаемые высших порядков"
   ]
  },
  {
   "cell_type": "code",
   "execution_count": 29,
   "metadata": {},
   "outputs": [],
   "source": [
    "def calc_sum_dE(a_f, k_mf, k_max = 32, logging=False):\n",
    "\n",
    "    # Сумма слагаемых ряда в формуле Эйлера Маклорена\n",
    "    sum_dE_f = 0\n",
    "    v_sum_dE_f = []\n",
    "\n",
    "    for kk in range(1, int(k_max)):\n",
    "        # порядок производной\n",
    "        j = 2*kk-1\n",
    "        # показатель степени of $(\\pi/(a\\,k_m))$\n",
    "        pw = j - 3\n",
    "        # показатель степени геометрической прогрессии (n - 1)\n",
    "        n_1 = pw/m\n",
    "        # вычисляем производную в нуле\n",
    "        djF0 = F(n).diff(n, j).expand().subs(n == 0)\n",
    "        # число Бернулли делим на факториал\n",
    "        mBj = (bernoulli(2*kk)/factorial(2*kk))\n",
    "        # Умножаем производную на число Бернулли делённое на факториал, получаем слагаемое ряда\n",
    "        # берём со знаком минус потому что производную в нуле нужно вычитать\n",
    "        dE = - djF0*mBj\n",
    "\n",
    "        # Отделяем численный множитель от слагаемого ряда\n",
    "        p = dE * (a*k_m/pi)^(pw)\n",
    "\n",
    "        if j >= 3 and logging and j <= 15:\n",
    "            print (\"j\", j, \"pw\", pw, \"n_1\", n_1, \"p\", p)\n",
    "\n",
    "        # Подставляем численные значения\n",
    "        dE_f = dE.subs(a == a_f, k_m == k_mf)\n",
    "        sum_dE_f += dE_f.n()\n",
    "\n",
    "        if j >= 3:\n",
    "            v_sum_dE_f += [(j, sum_dE_f)]\n",
    "\n",
    "        if j >= 3 and logging and j <= 15:\n",
    "            display(Math(latex( (j, djF0, mBj, dE, dE_f) )))\n",
    "    return sum_dE_f, v_sum_dE_f"
   ]
  },
  {
   "cell_type": "code",
   "execution_count": 30,
   "metadata": {},
   "outputs": [
    {
     "name": "stdout",
     "output_type": "stream",
     "text": [
      "j 3 pw 0 n_1 0 p -1/180\n"
     ]
    },
    {
     "data": {
      "text/latex": [
       "$\\displaystyle \\left(3, -4, -\\frac{1}{720}, -\\frac{1}{180}, -\\frac{1}{180}\\right)$"
      ],
      "text/plain": [
       "<IPython.core.display.Math object>"
      ]
     },
     "metadata": {},
     "output_type": "display_data"
    },
    {
     "name": "stdout",
     "output_type": "stream",
     "text": [
      "j 5 pw 2 n_1 2/3 p 0\n"
     ]
    },
    {
     "data": {
      "text/latex": [
       "$\\displaystyle \\left(5, 0, \\frac{1}{30240}, 0, 0\\right)$"
      ],
      "text/plain": [
       "<IPython.core.display.Math object>"
      ]
     },
     "metadata": {},
     "output_type": "display_data"
    },
    {
     "name": "stdout",
     "output_type": "stream",
     "text": [
      "j 7 pw 4 n_1 4/3 p 0\n"
     ]
    },
    {
     "data": {
      "text/latex": [
       "$\\displaystyle \\left(7, 0, -\\frac{1}{1209600}, 0, 0\\right)$"
      ],
      "text/plain": [
       "<IPython.core.display.Math object>"
      ]
     },
     "metadata": {},
     "output_type": "display_data"
    },
    {
     "name": "stdout",
     "output_type": "stream",
     "text": [
      "j 9 pw 6 n_1 2 p 1/594\n"
     ]
    },
    {
     "data": {
      "text/latex": [
       "$\\displaystyle \\left(9, -\\frac{80640 \\, \\pi^{6}}{a^{6} k_{m}^{6}}, \\frac{1}{47900160}, \\frac{\\pi^{6}}{594 \\, a^{6} k_{m}^{6}}, \\frac{1}{38016000000}\\right)$"
      ],
      "text/plain": [
       "<IPython.core.display.Math object>"
      ]
     },
     "metadata": {},
     "output_type": "display_data"
    },
    {
     "name": "stdout",
     "output_type": "stream",
     "text": [
      "j 11 pw 8 n_1 8/3 p 0\n"
     ]
    },
    {
     "data": {
      "text/latex": [
       "$\\displaystyle \\left(11, 0, -\\frac{691}{1307674368000}, 0, 0\\right)$"
      ],
      "text/plain": [
       "<IPython.core.display.Math object>"
      ]
     },
     "metadata": {},
     "output_type": "display_data"
    },
    {
     "name": "stdout",
     "output_type": "stream",
     "text": [
      "j 13 pw 10 n_1 10/3 p 0\n"
     ]
    },
    {
     "data": {
      "text/latex": [
       "$\\displaystyle \\left(13, 0, \\frac{1}{74724249600}, 0, 0\\right)$"
      ],
      "text/plain": [
       "<IPython.core.display.Math object>"
      ]
     },
     "metadata": {},
     "output_type": "display_data"
    },
    {
     "name": "stdout",
     "output_type": "stream",
     "text": [
      "j 15 pw 12 n_1 4 p -3617/61200\n"
     ]
    },
    {
     "data": {
      "text/latex": [
       "$\\displaystyle \\left(15, -\\frac{174356582400 \\, \\pi^{12}}{a^{12} k_{m}^{12}}, -\\frac{3617}{10670622842880000}, -\\frac{3617 \\, \\pi^{12}}{61200 \\, a^{12} k_{m}^{12}}, -\\frac{3617}{250675200000000000000}\\right)$"
      ],
      "text/plain": [
       "<IPython.core.display.Math object>"
      ]
     },
     "metadata": {},
     "output_type": "display_data"
    }
   ],
   "source": [
    "sum_dE_f, v_sum_dE_f = calc_sum_dE(a_f=a_f, k_mf=k_mf, logging = True)"
   ]
  },
  {
   "cell_type": "markdown",
   "metadata": {},
   "source": [
    "Сумма слагаемых ряда в формуле Эйлера Маклорена"
   ]
  },
  {
   "cell_type": "code",
   "execution_count": 31,
   "metadata": {},
   "outputs": [
    {
     "data": {
      "text/plain": [
       "-0.00555555552925086"
      ]
     },
     "execution_count": 31,
     "metadata": {},
     "output_type": "execute_result"
    }
   ],
   "source": [
    "(sum_dE_f).n()"
   ]
  },
  {
   "cell_type": "markdown",
   "metadata": {},
   "source": [
    "Сравниваем полученную сумму слагаемых с величиной $-\\frac{1}{180} = \\frac{-4}{24\\times30}$ из выкладок Казимира\n",
    "\n",
    "$\\delta\\,E/L^2 = \\hbar\\,c\\frac{\\pi^2}{4\\,a^3}\\left\\{\\frac{-4}{24\\times30}\\right\\}$"
   ]
  },
  {
   "cell_type": "code",
   "execution_count": 32,
   "metadata": {},
   "outputs": [
    {
     "data": {
      "text/plain": [
       "2.63046988704940e-11"
      ]
     },
     "execution_count": 32,
     "metadata": {},
     "output_type": "execute_result"
    }
   ],
   "source": [
    "(sum_dE_f-(-1/180)).n()"
   ]
  },
  {
   "cell_type": "code",
   "execution_count": 33,
   "metadata": {},
   "outputs": [
    {
     "data": {
      "text/plain": [
       "4.73484579668892e-9"
      ]
     },
     "execution_count": 33,
     "metadata": {},
     "output_type": "execute_result"
    }
   ],
   "source": [
    "180*(sum_dE_f-(-1/180)).n()"
   ]
  },
  {
   "cell_type": "code",
   "execution_count": 34,
   "metadata": {},
   "outputs": [
    {
     "data": {
      "text/plain": [
       "[(3, -0.00555555555555556),\n",
       " (5, -0.00555555555555556),\n",
       " (7, -0.00555555555555556),\n",
       " (9, -0.00555555552925084),\n",
       " (11, -0.00555555552925084),\n",
       " (13, -0.00555555552925084),\n",
       " (15, -0.00555555552925086),\n",
       " (17, -0.00555555552925086),\n",
       " (19, -0.00555555552925086),\n",
       " (21, -0.00555555552925086),\n",
       " (23, -0.00555555552925086),\n",
       " (25, -0.00555555552925086),\n",
       " (27, -0.00555555552925086),\n",
       " (29, -0.00555555552925086),\n",
       " (31, -0.00555555552925086),\n",
       " (33, -0.00555555552925086),\n",
       " (35, -0.00555555552925086),\n",
       " (37, -0.00555555552925086),\n",
       " (39, -0.00555555552925086),\n",
       " (41, -0.00555555552925086),\n",
       " (43, -0.00555555552925086),\n",
       " (45, -0.00555555552925086),\n",
       " (47, -0.00555555552925086),\n",
       " (49, -0.00555555552925086),\n",
       " (51, -0.00555555552925086),\n",
       " (53, -0.00555555552925086),\n",
       " (55, -0.00555555552925086),\n",
       " (57, -0.00555555552925086),\n",
       " (59, -0.00555555552925086),\n",
       " (61, -0.00555555552925086)]"
      ]
     },
     "execution_count": 34,
     "metadata": {},
     "output_type": "execute_result"
    }
   ],
   "source": [
    "# Сумма слагаемых ряда в формуле Эйлера Маклорена в зависимости от числа слагаемых\n",
    "v_sum_dE_f"
   ]
  },
  {
   "cell_type": "code",
   "execution_count": 35,
   "metadata": {},
   "outputs": [
    {
     "data": {
      "image/png": "[encoded data removed]",
      "text/plain": [
       "Graphics object consisting of 1 graphics primitive"
      ]
     },
     "metadata": {},
     "output_type": "display_data"
    }
   ],
   "source": [
    "plt = sage.plot.graphics.Graphics()\n",
    "plt += list_plot (v_sum_dE_f)\n",
    "plt.show (title=\"Сумма слагаемых ряда в формуле Эйлера Маклорена в зависимости от числа слагаемых\")"
   ]
  },
  {
   "cell_type": "code",
   "execution_count": 36,
   "metadata": {},
   "outputs": [
    {
     "name": "stdout",
     "output_type": "stream",
     "text": [
      "(1, 20*pi, -0.00555555552925086)\n",
      "(2, 40*pi, -0.00555555555514454)\n",
      "(3, 60*pi, -0.00555555555551947)\n",
      "(4, 80*pi, -0.00555555555554913)\n",
      "(5, 100*pi, -0.00555555555555387)\n",
      "(6, 120*pi, -0.00555555555555499)\n",
      "(7, 140*pi, -0.00555555555555533)\n",
      "(8, 160*pi, -0.00555555555555546)\n",
      "(9, 180*pi, -0.00555555555555551)\n",
      "(10, 200*pi, -0.00555555555555553)\n",
      "(11, 220*pi, -0.00555555555555554)\n",
      "(12, 240*pi, -0.00555555555555555)\n",
      "(13, 260*pi, -0.00555555555555555)\n",
      "(14, 280*pi, -0.00555555555555555)\n",
      "(15, 300*pi, -0.00555555555555555)\n",
      "(16, 320*pi, -0.00555555555555555)\n",
      "(17, 340*pi, -0.00555555555555555)\n",
      "(18, 360*pi, -0.00555555555555555)\n",
      "(19, 380*pi, -0.00555555555555555)\n"
     ]
    },
    {
     "data": {
      "image/png": "[encoded data removed]",
      "text/plain": [
       "Graphics object consisting of 1 graphics primitive"
      ]
     },
     "metadata": {},
     "output_type": "display_data"
    }
   ],
   "source": [
    "# Сумма слагаемых ряда в формуле Эйлера Маклорена в зависимости от $k_m$, пропорциональной удельной массе пластины\n",
    "v_sum_E_f = []\n",
    "\n",
    "for nk in range(1, 20):\n",
    "    sum_dE_f, v_sum_dE_f = calc_sum_dE(a_f=a_f, k_mf=nk*k_mf)\n",
    "    print((nk, a_f*nk*k_mf, sum_dE_f))\n",
    "    v_sum_E_f += [(nk, sum_dE_f)]\n",
    "    \n",
    "plt = sage.plot.graphics.Graphics()\n",
    "plt += list_plot (v_sum_E_f)\n",
    "plt.show (title=\"Сумма слагаемых ряда в формуле Эйлера Маклорена в зависимости от $k_m$, пропорциональной удельной массе пластины\")"
   ]
  },
  {
   "cell_type": "markdown",
   "metadata": {},
   "source": [
    "Итак получается, что сила Казимира при увеличении удельной массе пластин стремится к значению данного самим Казимиром, а при более малой удельной массе пластин сила Казимира с учетом неучтенных Казимиром слагаемых ряда в формуле Эйлера Маклорена становится несколько меньшей"
   ]
  },
  {
   "cell_type": "markdown",
   "metadata": {},
   "source": [
    "Представлет интерес посмотреть более детально первоначальный отрезок графика, соответствующий более малым значениям частоты обрезания"
   ]
  },
  {
   "cell_type": "code",
   "execution_count": 37,
   "metadata": {},
   "outputs": [
    {
     "name": "stdout",
     "output_type": "stream",
     "text": [
      "(0.222500000000000, 4.45000000000000*pi, -0.00555396109950721)\n",
      "(0.225000000000000, 4.50000000000000*pi, -0.00555460059044441)\n",
      "(0.230000000000000, 4.60000000000000*pi, -0.00555514934663899)\n",
      "(0.240000000000000, 4.80000000000000*pi, -0.00555539543006092)\n",
      "(0.250000000000000, 5.00000000000000*pi, -0.00555544554570666)\n",
      "(0.300000000000000, 6.00000000000000*pi, -0.00555551949904773)\n",
      "(0.400000000000000, 8.00000000000000*pi, -0.00555554913436485)\n",
      "(0.500000000000000, 10.0000000000000*pi, -0.00555555387211295)\n",
      "(1, 20*pi, -0.00555555552925086)\n"
     ]
    },
    {
     "data": {
      "image/png": "[encoded data removed]",
      "text/plain": [
       "Graphics object consisting of 1 graphics primitive"
      ]
     },
     "metadata": {},
     "output_type": "display_data"
    }
   ],
   "source": [
    "# Сумма слагаемых ряда в формуле Эйлера Маклорена в зависимости от $k_m$, пропорциональной удельной массе пластины\n",
    "v_sum_E_f = []\n",
    "\n",
    "for nk in (0.2225, 0.225, 0.23, 0.24, 0.25, 0.3, 0.4, 0.5, 1):\n",
    "    sum_dE_f, v_sum_dE_f = calc_sum_dE(a_f=a_f, k_mf=nk*k_mf)\n",
    "    print((nk, a_f * nk*k_mf, sum_dE_f))\n",
    "    v_sum_E_f += [(a_f * nk*k_mf, sum_dE_f)]\n",
    "    \n",
    "plt = sage.plot.graphics.Graphics()\n",
    "plt += list_plot (v_sum_E_f)\n",
    "plt.show (title=\"Сумма слагаемых ряда в формуле Эйлера Маклорена в зависимости от $a k_m$, пропорциональной удельной массе пластины\")"
   ]
  },
  {
   "cell_type": "markdown",
   "metadata": {},
   "source": [
    "А не зависят ли эти осцилляции в начале графика от числа суммируемых слагаемых ряда? "
   ]
  },
  {
   "cell_type": "code",
   "execution_count": 38,
   "metadata": {},
   "outputs": [
    {
     "name": "stdout",
     "output_type": "stream",
     "text": [
      "(0.222500000000000, 4.45000000000000*pi, -0.00568423101501120)\n",
      "(0.225000000000000, 4.50000000000000*pi, -0.00562123429575013)\n",
      "(0.230000000000000, 4.60000000000000*pi, -0.00557297210378501)\n",
      "(0.240000000000000, 4.80000000000000*pi, -0.00555678209184838)\n",
      "(0.250000000000000, 5.00000000000000*pi, -0.00555556528716142)\n",
      "(0.300000000000000, 6.00000000000000*pi, -0.00555551950117278)\n",
      "(0.400000000000000, 8.00000000000000*pi, -0.00555554913436485)\n",
      "(0.500000000000000, 10.0000000000000*pi, -0.00555555387211295)\n",
      "(1, 20*pi, -0.00555555552925086)\n"
     ]
    },
    {
     "data": {
      "image/png": "[encoded data removed]",
      "text/plain": [
       "Graphics object consisting of 1 graphics primitive"
      ]
     },
     "metadata": {},
     "output_type": "display_data"
    }
   ],
   "source": [
    "# Сумма слагаемых ряда в формуле Эйлера Маклорена в зависимости от $k_m$, пропорциональной удельной массе пластины\n",
    "v_sum_E_f = []\n",
    "\n",
    "for nk in (0.2225, 0.225, 0.23, 0.24, 0.25, 0.3, 0.4, 0.5, 1):\n",
    "    sum_dE_f, v_sum_dE_f = calc_sum_dE(a_f=a_f, k_mf=nk*k_mf, k_max = 34)\n",
    "    print((nk, a_f * nk*k_mf, sum_dE_f))\n",
    "    v_sum_E_f += [(nk, sum_dE_f)]\n",
    "    \n",
    "plt = sage.plot.graphics.Graphics()\n",
    "plt += list_plot (v_sum_E_f)\n",
    "plt.show (title=\"Сумма слагаемых ряда в формуле Эйлера Маклорена в зависимости от $k_m$, пропорциональной удельной массе пластины\")"
   ]
  },
  {
   "cell_type": "code",
   "execution_count": 40,
   "metadata": {},
   "outputs": [
    {
     "name": "stdout",
     "output_type": "stream",
     "text": [
      "(0.222500000000000, 4.45000000000000*pi, 0.0158023040483990)\n",
      "(0.225000000000000, 4.50000000000000*pi, 0.00465659030935415)\n",
      "(0.230000000000000, 4.60000000000000*pi, -0.00316356481279873)\n",
      "(0.240000000000000, 4.80000000000000*pi, -0.00541156910968299)\n",
      "(0.250000000000000, 5.00000000000000*pi, -0.00554574991378012)\n",
      "(0.300000000000000, 6.00000000000000*pi, -0.00555551944283571)\n",
      "(0.400000000000000, 8.00000000000000*pi, -0.00555554913436485)\n",
      "(0.500000000000000, 10.0000000000000*pi, -0.00555555387211295)\n",
      "(1, 20*pi, -0.00555555552925086)\n"
     ]
    },
    {
     "data": {
      "image/png": "[encoded data removed]",
      "text/plain": [
       "Graphics object consisting of 1 graphics primitive"
      ]
     },
     "metadata": {},
     "output_type": "display_data"
    }
   ],
   "source": [
    "# Сумма слагаемых ряда в формуле Эйлера Маклорена в зависимости от $k_m$, пропорциональной удельной массе пластины\n",
    "v_sum_E_f = []\n",
    "\n",
    "for nk in (0.2225, 0.225, 0.23, 0.24, 0.25, 0.3, 0.4, 0.5, 1):\n",
    "    sum_dE_f, v_sum_dE_f = calc_sum_dE(a_f=a_f, k_mf=nk*k_mf, k_max = 36)\n",
    "    print((nk, a_f * nk*k_mf, sum_dE_f))\n",
    "    v_sum_E_f += [(nk, sum_dE_f)]\n",
    "    \n",
    "plt = sage.plot.graphics.Graphics()\n",
    "plt += list_plot (v_sum_E_f)\n",
    "plt.show (title=\"Сумма слагаемых ряда в формуле Эйлера Маклорена в зависимости от $k_m$, пропорциональной удельной массе пластины\")"
   ]
  },
  {
   "cell_type": "markdown",
   "metadata": {},
   "source": [
    "Очень даже зависят. Поэтому представляет интерес рассмотреть остаточный член в формуле Эйлера Маклорена"
   ]
  },
  {
   "cell_type": "markdown",
   "metadata": {},
   "source": [
    "$${\\displaystyle P_{k}(x)=B_{k}(x-\\lfloor x\\rfloor ),}$$\n",
    "\n",
    "$${\\displaystyle R_{p}=(-1)^{p+1}\\int _{a}^{b}f^{(p)}(x){\\frac {P_{p}(x)}{p!}}\\,dx.}$$"
   ]
  },
  {
   "cell_type": "markdown",
   "metadata": {},
   "source": [
    "Если ограничиться, как и Казимир, только лишь третьим членом ряда, то $p=4$ и $f^{(p)}(x) = F4$. Но в случае, если мы выберем $p=3$, тогда остаточный член должен включать в себя множитель $-\\frac{1}{180} = \\frac{-4}{24\\times30} = -0.00555(5)$, найденный Казимиром, а выражение для вычисления остаточного члена будет попроще"
   ]
  },
  {
   "cell_type": "code",
   "execution_count": 41,
   "metadata": {},
   "outputs": [],
   "source": [
    "B = lambda x, p : bernoulli_polynomial(x, p)\n",
    "P = lambda x, p : bernoulli_polynomial(x - floor(x), p)\n",
    "fact = lambda n : factorial(n)"
   ]
  },
  {
   "cell_type": "code",
   "execution_count": 42,
   "metadata": {},
   "outputs": [],
   "source": [
    "def euler_maclaurin_Rp(f,symb,a,b,p, f_diff_symb_p=None):\n",
    "    if logging:\n",
    "        print(\"f\", f)\n",
    "        print(\"symb,a,b\", symb, a, b)\n",
    "        if f_diff_symb_p is not None:\n",
    "            print(\"f_diff_symb_p\", f_diff_symb_p)\n",
    "        print(\"\")\n",
    "    if None == f_diff_symb_p:\n",
    "        f_diff_symb_p = diff(f,symb,p)\n",
    "    R_p = numerical_integral((-1)^(p+1)*f_diff_symb_p * P(x=symb,p=p)/fact(n=p), a, b)\n",
    "            \n",
    "    return R_p"
   ]
  },
  {
   "cell_type": "code",
   "execution_count": 43,
   "metadata": {},
   "outputs": [],
   "source": [
    "ak_m = var(\"ak_m\")"
   ]
  },
  {
   "cell_type": "code",
   "execution_count": 44,
   "metadata": {},
   "outputs": [],
   "source": [
    "p = 3"
   ]
  },
  {
   "cell_type": "markdown",
   "metadata": {},
   "source": [
    "В выражении производной степени $p$ делаем замену переменной $a \\cdot k_m \\rightarrow ak_m$"
   ]
  },
  {
   "cell_type": "code",
   "execution_count": 45,
   "metadata": {},
   "outputs": [
    {
     "data": {
      "text/latex": [
       "$\\displaystyle -\\frac{36 \\, \\pi^{6} n^{6}}{{\\left(\\frac{\\pi^{9} n^{9}}{\\mathit{ak}_{m}^{9}} + \\frac{3 \\, \\pi^{6} n^{6}}{\\mathit{ak}_{m}^{6}} + \\frac{3 \\, \\pi^{3} n^{3}}{\\mathit{ak}_{m}^{3}} + 1\\right)} \\mathit{ak}_{m}^{6}} + \\frac{36 \\, \\pi^{3} n^{3}}{{\\left(\\frac{\\pi^{6} n^{6}}{\\mathit{ak}_{m}^{6}} + \\frac{2 \\, \\pi^{3} n^{3}}{\\mathit{ak}_{m}^{3}} + 1\\right)} \\mathit{ak}_{m}^{3}} - \\frac{4}{\\frac{\\pi^{3} n^{3}}{\\mathit{ak}_{m}^{3}} + 1}$"
      ],
      "text/plain": [
       "<IPython.core.display.Math object>"
      ]
     },
     "metadata": {},
     "output_type": "display_data"
    }
   ],
   "source": [
    "exec(preparse(\"Fp = \" + str(F(n).subs(a == ak_m/k_m).diff(n, p).expand())))\n",
    "disp(Fp)"
   ]
  },
  {
   "cell_type": "code",
   "execution_count": 46,
   "metadata": {},
   "outputs": [
    {
     "data": {
      "text/plain": [
       "(ak_m, n)"
      ]
     },
     "execution_count": 46,
     "metadata": {},
     "output_type": "execute_result"
    }
   ],
   "source": [
    "Fp.variables()"
   ]
  },
  {
   "cell_type": "markdown",
   "metadata": {},
   "source": [
    "Вычисляем остаточный член"
   ]
  },
  {
   "cell_type": "code",
   "execution_count": 47,
   "metadata": {},
   "outputs": [
    {
     "data": {
      "text/latex": [
       "$\\displaystyle \\left(0.06713764892928173, 0.029952794344212427\\right)$"
      ],
      "text/plain": [
       "<IPython.core.display.Math object>"
      ]
     },
     "metadata": {},
     "output_type": "display_data"
    }
   ],
   "source": [
    "logging = False\n",
    "Rp = euler_maclaurin_Rp(F, n, 0, Infinity, p=p, f_diff_symb_p=Fp.subs(ak_m=a_f*k_mf))\n",
    "disp(Rp)"
   ]
  },
  {
   "cell_type": "markdown",
   "metadata": {},
   "source": [
    "Полученный результат очень сильно отличается от ожидаемого значения $-0.00555(5)$. Что неудивительно, если учесть какую величину ошибки численного интегрирования вернула функция $numerical\\_integral()$"
   ]
  },
  {
   "cell_type": "code",
   "execution_count": 48,
   "metadata": {},
   "outputs": [
    {
     "name": "stdout",
     "output_type": "stream",
     "text": [
      "(0.222500000000000, 4.45000000000000*pi, (-0.005581469112618854, 0.0013735947894566742))\n",
      "(0.225000000000000, 4.50000000000000*pi, (-0.005582380671165184, 0.001418920694813336))\n",
      "(0.230000000000000, 4.60000000000000*pi, (-0.005584261395262611, 0.0015118205786817302))\n",
      "(0.240000000000000, 4.80000000000000*pi, (-0.0055882629094431814, 0.0017055291909204755))\n",
      "(0.250000000000000, 5.00000000000000*pi, (-0.005590572425336673, 0.0018293432130099402))\n",
      "(0.300000000000000, 6.00000000000000*pi, (-0.005618757683705374, 0.0027827578115190033))\n",
      "(0.400000000000000, 8.00000000000000*pi, (-0.005694968204958428, 0.0046995558036175885))\n",
      "(0.500000000000000, 10.0000000000000*pi, (-0.005827298917702013, 0.00928077436666996))\n",
      "(0.600000000000000, 12.0000000000000*pi, (-0.0060372419305403284, 0.019315832380617244))\n",
      "(0.700000000000000, 14.0000000000000*pi, (-0.006717855665042924, 0.008999480456221447))\n",
      "(0.800000000000000, 16.0000000000000*pi, (0.15026604438717323, 0.05434002286421519))\n",
      "(0.900000000000000, 18.0000000000000*pi, (0.11921429231395542, 0.020089142339188265))\n",
      "(0.910000000000000, 18.2000000000000*pi, (0.11227135613942665, 0.02963362432383125))\n",
      "(0.920000000000000, 18.4000000000000*pi, (0.10607216467398373, 0.027066962358310437))\n",
      "(0.930000000000000, 18.6000000000000*pi, (0.1004025976644703, 0.025242706950760155))\n",
      "(0.940000000000000, 18.8000000000000*pi, (0.09511439877481798, 0.02402456781300094))\n",
      "(0.950000000000000, 19.0000000000000*pi, (0.09010239158807534, 0.023324366714833497))\n",
      "(0.960000000000000, 19.2000000000000*pi, (0.08529062747368758, 0.023088521450506466))\n",
      "(0.970000000000000, 19.4000000000000*pi, (0.08062364526442205, 0.02328353318775854))\n",
      "(0.980000000000000, 19.6000000000000*pi, (0.07606079400587516, 0.02430175918069248))\n",
      "(0.990000000000000, 19.8000000000000*pi, (0.0715724749504988, 0.033274501805805864))\n",
      "(1.10000000000000, 22.0000000000000*pi, (0.018785319708952697, 0.011899198612257439))\n",
      "(1.20000000000000, 24.0000000000000*pi, (-0.029891675292884064, 0.006455361708801198))\n"
     ]
    }
   ],
   "source": [
    "# Сумма слагаемых ряда в формуле Эйлера Маклорена в зависимости от $k_m$, пропорциональной удельной массе пластины\n",
    "v_Rp = []\n",
    "\n",
    "for nk in (0.2225, 0.225, 0.23, 0.24, 0.25, 0.3, 0.4, 0.5, 0.6, 0.7, 0.8, 0.9, 0.91, 0.92, 0.93, 0.94, 0.95, 0.96, 0.97, 0.98, 0.99, 1.1, 1.2):\n",
    "    akm = a_f*nk*k_mf\n",
    "    Rp = euler_maclaurin_Rp(F, n, 0, Infinity, p=p, f_diff_symb_p=Fp.subs(ak_m=akm))\n",
    "    print((nk, akm, Rp))\n",
    "    v_Rp += [(akm, Rp[0])]\n"
   ]
  },
  {
   "cell_type": "code",
   "execution_count": 49,
   "metadata": {},
   "outputs": [
    {
     "data": {
      "image/png": "[encoded data removed]",
      "text/plain": [
       "Graphics object consisting of 1 graphics primitive"
      ]
     },
     "metadata": {},
     "output_type": "display_data"
    }
   ],
   "source": [
    "plt = sage.plot.graphics.Graphics()\n",
    "plt += list_plot (v_Rp)\n",
    "plt.show (title=\"Остаточный член в формуле Эйлера Маклорена в зависимости от $a k_m$, пропорциональной удельной массе пластины\")"
   ]
  },
  {
   "cell_type": "markdown",
   "metadata": {},
   "source": [
    "Мы видим, что с ростом величины произведения $a k_m$ результат интегрирования все более отличается от $-0.00555(5)$, но параллельно с этим мы видим, что ошибка численного интегрирования тоже растет с увеличением $a k_m$"
   ]
  },
  {
   "cell_type": "code",
   "execution_count": 50,
   "metadata": {},
   "outputs": [
    {
     "name": "stdout",
     "output_type": "stream",
     "text": [
      "(0.005, 0.1*pi, (0.0007056134695799798, 6.162171461289573e-07))\n",
      "(0.010000000000000002, 0.20000000000000004*pi, (0.0019909208202023554, 9.681770555843953e-07))\n",
      "(0.015, 0.3*pi, (0.0018960618853019414, 9.340810246809906e-07))\n",
      "(0.02, 0.4*pi, (-0.0002676296748254221, 9.679617668599844e-07))\n",
      "(0.025, 0.5*pi, (-0.0038501928346007094, 1.5771045944382128e-06))\n",
      "(0.030000000000000002, 0.6000000000000001*pi, (-0.00760779890585913, 2.763111485564242e-06))\n",
      "(0.035, 0.7000000000000001*pi, (-0.01045061604927717, 4.33271479452045e-06))\n",
      "(0.04, 0.8*pi, (-0.011851517705396443, 6.2762727397601314e-06))\n",
      "(0.045, 0.9*pi, (-0.011864761175093183, 8.935176597406571e-06))\n",
      "(0.05, 1.0*pi, (-0.010908927936793761, 1.32963542112218e-05))\n",
      "(0.055, 1.0999999999999999*pi, (-0.009497697145864209, 1.7377236058973336e-05))\n",
      "(0.060000000000000005, 1.2000000000000002*pi, (-0.00805900877111795, 2.308012688659701e-05))\n",
      "(0.065, 1.3*pi, (-0.0068566344814439545, 2.9461914166077708e-05))\n",
      "(0.07, 1.4000000000000001*pi, (-0.005996200793665286, 3.822186736087403e-05))\n",
      "(0.075, 1.5*pi, (-0.005470778437557627, 4.696920640685955e-05))\n",
      "(0.08, 1.6*pi, (-0.005213446531331846, 5.693874764669912e-05))\n",
      "(0.085, 1.7000000000000002*pi, (-0.005139114710821437, 6.820612372224036e-05))\n",
      "(0.09, 1.8*pi, (-0.0051702712780899215, 8.504346165547321e-05))\n",
      "(0.095, 1.9*pi, (-0.005248645790237202, 4.9160661328423796e-05))\n",
      "(0.1, 2.0*pi, (-0.0053365896788283, 5.715419003346142e-05))\n",
      "(0.10500000000000001, 2.1*pi, (-0.005414139998295638, 6.571418941688379e-05))\n",
      "(0.11, 2.1999999999999997*pi, (-0.0054492947225003585, 0.0001297493098670853))\n",
      "(0.115, 2.3*pi, (-0.005487613660207051, 9.461985673768838e-07))\n",
      "(0.12000000000000001, 2.4000000000000004*pi, (-0.0055105654740802874, 1.9239857884170708e-05))\n",
      "(0.125, 2.5*pi, (-0.005522681081132909, 6.021230800155181e-06))\n",
      "(0.13, 2.6*pi, (-0.0055570394531029585, 6.874489716275026e-05))\n",
      "(0.135, 2.7*pi, (-0.005559777700382853, 0.00029649214103462417))\n",
      "(0.14, 2.8000000000000003*pi, (-0.005563983244942473, 0.0003446451760524128))\n",
      "(0.14500000000000002, 2.9000000000000004*pi, (-0.005563868166094044, 0.0003812839023247968))\n"
     ]
    }
   ],
   "source": [
    "# Сумма слагаемых ряда в формуле Эйлера Маклорена в зависимости от $k_m$, пропорциональной удельной массе пластины\n",
    "v_Rp = []\n",
    "\n",
    "import numpy as np\n",
    "for nk in np.arange(0.001, 0.15, 0.001):\n",
    "    akm = a_f*nk*k_mf\n",
    "    Rp = euler_maclaurin_Rp(F, n, 0, Infinity, p=p, f_diff_symb_p=Fp.subs(ak_m=akm))\n",
    "    if (0 == (int)(1000*nk)%5):\n",
    "        print((nk, akm, Rp))\n",
    "    v_Rp += [(akm, Rp[0])]\n"
   ]
  },
  {
   "cell_type": "code",
   "execution_count": 51,
   "metadata": {},
   "outputs": [
    {
     "data": {
      "image/png": "[encoded data removed]",
      "text/plain": [
       "Graphics object consisting of 1 graphics primitive"
      ]
     },
     "metadata": {},
     "output_type": "display_data"
    }
   ],
   "source": [
    "plt = sage.plot.graphics.Graphics()\n",
    "plt += list_plot (v_Rp)\n",
    "plt.show (title=\"Остаточный член в формуле Эйлера Маклорена в зависимости от $a k_m$\")"
   ]
  },
  {
   "cell_type": "markdown",
   "metadata": {},
   "source": [
    "При величине произведения $a k_m$ меньше 10 график получается покрасивее, и величина ошибки численного интегрирования тоже вполне вменяемая.\n",
    "\n",
    "Но тут поскольку мы имеем дело с математически весьма сложной задачей численного интегрирования довольно непростой, часто осциллирующей и терпящей разрывы в точках каждого целого значения аргумента благодаря наличию множителя $(x-\\lfloor x\\rfloor )$ функции, для контроля полученных результатов воспользуемся тем, что остаточный член можно выразить также в виде\n",
    "$${\\displaystyle R_{p}=(-1)^{p+1}\\sum_{j=a}^{b-1} \\int _{0}^{1}f^{(p)}(v+j){\\frac {B_{p}(v)}{p!}}\\,dv.}$$\n",
    "\n",
    "Превращая интеграл в сумму интеграллов мы делим интервал интегрирования функции с разрывами на множество интервалов без разрывов"
   ]
  },
  {
   "cell_type": "code",
   "execution_count": 52,
   "metadata": {},
   "outputs": [],
   "source": [
    "j, v = var(\"j, v\")"
   ]
  },
  {
   "cell_type": "code",
   "execution_count": 53,
   "metadata": {},
   "outputs": [],
   "source": [
    "p = 3"
   ]
  },
  {
   "cell_type": "markdown",
   "metadata": {},
   "source": [
    "Полином Бернулли степени $p$"
   ]
  },
  {
   "cell_type": "code",
   "execution_count": 54,
   "metadata": {},
   "outputs": [
    {
     "data": {
      "text/latex": [
       "$\\displaystyle n^{3} - \\frac{3}{2} \\, n^{2} + \\frac{1}{2} \\, n$"
      ],
      "text/plain": [
       "<IPython.core.display.Math object>"
      ]
     },
     "metadata": {},
     "output_type": "display_data"
    }
   ],
   "source": [
    "disp(B(x=n, p=p))"
   ]
  },
  {
   "cell_type": "markdown",
   "metadata": {},
   "source": [
    "В выражении производной степени $p$ делаем замену переменной $a \\cdot k_m \\rightarrow ak_m$"
   ]
  },
  {
   "cell_type": "code",
   "execution_count": 55,
   "metadata": {},
   "outputs": [
    {
     "data": {
      "text/latex": [
       "$\\displaystyle -\\frac{36 \\, \\pi^{6} n^{6}}{{\\left(\\frac{\\pi^{9} n^{9}}{\\mathit{ak}_{m}^{9}} + \\frac{3 \\, \\pi^{6} n^{6}}{\\mathit{ak}_{m}^{6}} + \\frac{3 \\, \\pi^{3} n^{3}}{\\mathit{ak}_{m}^{3}} + 1\\right)} \\mathit{ak}_{m}^{6}} + \\frac{36 \\, \\pi^{3} n^{3}}{{\\left(\\frac{\\pi^{6} n^{6}}{\\mathit{ak}_{m}^{6}} + \\frac{2 \\, \\pi^{3} n^{3}}{\\mathit{ak}_{m}^{3}} + 1\\right)} \\mathit{ak}_{m}^{3}} - \\frac{4}{\\frac{\\pi^{3} n^{3}}{\\mathit{ak}_{m}^{3}} + 1}$"
      ],
      "text/plain": [
       "<IPython.core.display.Math object>"
      ]
     },
     "metadata": {},
     "output_type": "display_data"
    }
   ],
   "source": [
    "exec(preparse(\"Fp = \" + str(F(n).subs(a == ak_m/k_m).diff(n, p).expand())))\n",
    "disp(Fp)"
   ]
  },
  {
   "cell_type": "markdown",
   "metadata": {},
   "source": [
    "Формируем подынтегральное выражение: в выражении производной делаем замену переменной $n \\rightarrow v+j$. Умножаем на полином Бернулли, делим на факториал, учитываем знак. "
   ]
  },
  {
   "cell_type": "code",
   "execution_count": 56,
   "metadata": {},
   "outputs": [
    {
     "data": {
      "text/latex": [
       "$\\displaystyle -\\frac{1}{3} \\, {\\left(\\frac{9 \\, \\pi^{6} {\\left(j + v\\right)}^{6}}{{\\left(\\frac{\\pi^{9} {\\left(j + v\\right)}^{9}}{\\mathit{ak}_{m}^{9}} + \\frac{3 \\, \\pi^{6} {\\left(j + v\\right)}^{6}}{\\mathit{ak}_{m}^{6}} + \\frac{3 \\, \\pi^{3} {\\left(j + v\\right)}^{3}}{\\mathit{ak}_{m}^{3}} + 1\\right)} \\mathit{ak}_{m}^{6}} - \\frac{9 \\, \\pi^{3} {\\left(j + v\\right)}^{3}}{{\\left(\\frac{\\pi^{6} {\\left(j + v\\right)}^{6}}{\\mathit{ak}_{m}^{6}} + \\frac{2 \\, \\pi^{3} {\\left(j + v\\right)}^{3}}{\\mathit{ak}_{m}^{3}} + 1\\right)} \\mathit{ak}_{m}^{3}} + \\frac{1}{\\frac{\\pi^{3} {\\left(j + v\\right)}^{3}}{\\mathit{ak}_{m}^{3}} + 1}\\right)} {\\left(2 \\, v^{3} - 3 \\, v^{2} + v\\right)}$"
      ],
      "text/plain": [
       "<IPython.core.display.Math object>"
      ]
     },
     "metadata": {},
     "output_type": "display_data"
    }
   ],
   "source": [
    "exec(preparse(\"sign_Fp_Bp_fact = \" + str((-1)^(p+1)*(Fp.subs(n=v+j)*B(x=v, p=p)/fact(n=p)))))\n",
    "disp(sign_Fp_Bp_fact)"
   ]
  },
  {
   "cell_type": "markdown",
   "metadata": {},
   "source": [
    "А для облегчения задачи дальнейшего интегрирования разлагаем полученное выражение с помощью функции .expand() на правильные дроби"
   ]
  },
  {
   "cell_type": "code",
   "execution_count": 57,
   "metadata": {},
   "outputs": [],
   "source": [
    "exec(preparse(\"sign_Fp_Bp_fact = \" + str((-1)^(p+1)*(Fp.subs(n=v+j)*B(x=v, p=p)/fact(n=p)).expand())))\n",
    "# sign_Fp_Bp_fact"
   ]
  },
  {
   "cell_type": "markdown",
   "metadata": {},
   "source": [
    "Теперь собственно интегрирование по $v$. Получаем неопределённый интеграл"
   ]
  },
  {
   "cell_type": "code",
   "execution_count": 58,
   "metadata": {},
   "outputs": [],
   "source": [
    "exec(preparse(\"int_sign_Fp_Bp_fact_v = \" + str(integrate(sign_Fp_Bp_fact, v, algorithm='fricas'))))"
   ]
  },
  {
   "cell_type": "code",
   "execution_count": 59,
   "metadata": {},
   "outputs": [],
   "source": [
    "# int_sign_Fp_Bp_fact_v"
   ]
  },
  {
   "cell_type": "markdown",
   "metadata": {},
   "source": [
    "Теперь неопределённый интеграл превращаем в определённый интеграл по переменной $v$ на участке от 0 до 1"
   ]
  },
  {
   "cell_type": "code",
   "execution_count": 60,
   "metadata": {},
   "outputs": [],
   "source": [
    "exec(preparse(\"int_sign_Fp_Bp_fact_v_0_1=\"+str(int_sign_Fp_Bp_fact_v.subs(v=1)-int_sign_Fp_Bp_fact_v.subs(v=0))))"
   ]
  },
  {
   "cell_type": "markdown",
   "metadata": {},
   "source": [
    "Полученное выражение определённого интеграла имеет теперь две свободные переменные"
   ]
  },
  {
   "cell_type": "code",
   "execution_count": 61,
   "metadata": {},
   "outputs": [
    {
     "data": {
      "text/plain": [
       "(ak_m, j)"
      ]
     },
     "execution_count": 61,
     "metadata": {},
     "output_type": "execute_result"
    }
   ],
   "source": [
    "int_sign_Fp_Bp_fact_v_0_1.variables()"
   ]
  },
  {
   "cell_type": "markdown",
   "metadata": {},
   "source": [
    "По одной из них мы будем производить суммирование и при этом исследовать зависимость полученной суммы от второй"
   ]
  },
  {
   "cell_type": "code",
   "execution_count": 62,
   "metadata": {},
   "outputs": [],
   "source": [
    "# sum(int_sign_Fp_Bp_fact_v_0_1, j, 0, Infinity)"
   ]
  },
  {
   "cell_type": "markdown",
   "metadata": {},
   "source": [
    "Поскольку получить символьное выражение суммы по $j$ от нуля до бесконечности не удаётся используем несложную собственную функцию численного суммирования ограничиваясь числом слагаемых достаточных для достижении заданной точности. В качестве критерия используется скользящее среднее нескольких крайних с конца слагаемых. Кроме того задаваемую точность пришлось ступеньчато уменьшать при увеличении текущего номера слагаемых"
   ]
  },
  {
   "cell_type": "code",
   "execution_count": 63,
   "metadata": {},
   "outputs": [],
   "source": [
    "# Сумма слагаемых ряда в формуле Эйлера Маклорена в зависимости от произведения $a k_m$\n",
    "# при том что $k_m$ пропорциональна удельной массе пластины\n",
    "def calc_Rp(akm):\n",
    "\n",
    "    int_sign_Fp_Bp_fact_v_0_1_subs_akm = int_sign_Fp_Bp_fact_v_0_1.subs(ak_m=akm)\n",
    "    \n",
    "    criteria = [1,1,1,1,1,1,1]\n",
    "    len_criteria = len(criteria)\n",
    "    \n",
    "    _j = 0\n",
    "    epsilon = 1e-12\n",
    "    \n",
    "    Rp = 0\n",
    "    while(True):\n",
    "        dRpj = int_sign_Fp_Bp_fact_v_0_1_subs_akm.subs(j=_j).n()\n",
    "        ind = _j % len_criteria\n",
    "        criteria[ind] = abs(dRpj)\n",
    "        Rp += dRpj\n",
    "        \n",
    "        mean_criteria = sum(criteria)/len_criteria\n",
    "        \n",
    "        #print(_j, dRpj, Rp, mean_criteria)\n",
    "        _j += 1\n",
    "        \n",
    "        if _j == 200:\n",
    "            epsilon = 1e-11\n",
    "        if _j == 400:\n",
    "            epsilon = 1e-10\n",
    "        if _j == 800:\n",
    "            epsilon = 1e-9\n",
    "        \n",
    "        if mean_criteria < epsilon:\n",
    "            break\n",
    "\n",
    "        if _j > 1000:\n",
    "            break\n",
    "\n",
    "    if (0 == (int)(1000*nk)%100):\n",
    "        print(nk, akm, Rp, dRpj, mean_criteria, _j)\n",
    "    \n",
    "    return Rp\n"
   ]
  },
  {
   "cell_type": "markdown",
   "metadata": {},
   "source": [
    "Начинаем:"
   ]
  },
  {
   "cell_type": "code",
   "execution_count": 64,
   "metadata": {},
   "outputs": [
    {
     "name": "stdout",
     "output_type": "stream",
     "text": [
      "0.1 2.0*pi -0.00533399814144886 -7.27595761418343e-12 9.35480264680726e-12 335\n",
      "0.2 4.0*pi -0.00555511285391219 -1.74622982740402e-10 8.31538013049534e-11 400\n",
      "0.3 6.0*pi -0.00555553501874329 0.000000000000000 1.99569123131888e-10 800\n",
      "0.4 8.0*pi -0.00555551827012835 0.000000000000000 6.65230410439627e-11 456\n",
      "0.5 10.0*pi -0.00555557901407155 0.000000000000000 7.98276492527553e-10 839\n",
      "0.6 12.0*pi -0.00555555292703502 0.000000000000000 0.000000000000000 606\n",
      "0.7000000000000001 14.000000000000002*pi -0.00555491290469945 0.000000000000000 1.17080552237374e-8 1001\n",
      "0.8 16.0*pi -0.00555534365776111 1.49011611938477e-8 1.06436865670340e-8 1001\n",
      "0.9 18.0*pi -0.00555661581893219 0.000000000000000 3.83172716413225e-8 1001\n",
      "1.0 20.0*pi -0.00555629755399423 2.98023223876953e-8 2.12873731340681e-8 1001\n"
     ]
    }
   ],
   "source": [
    "v_Rp1 = []\n",
    "\n",
    "import numpy as np\n",
    "for nk in np.arange(0.005, 1.2, 0.005):\n",
    "    akm=a_f*nk*k_mf\n",
    "    Rp = calc_Rp(akm=akm)\n",
    "    v_Rp1 += [(akm, Rp)]"
   ]
  },
  {
   "cell_type": "code",
   "execution_count": 65,
   "metadata": {},
   "outputs": [
    {
     "data": {
      "image/png": "[encoded data removed]",
      "text/plain": [
       "Graphics object consisting of 1 graphics primitive"
      ]
     },
     "metadata": {},
     "output_type": "display_data"
    }
   ],
   "source": [
    "plt = sage.plot.graphics.Graphics()\n",
    "plt += list_plot (v_Rp1)\n",
    "plt.show (title=\"Остаточный член в формуле Эйлера Маклорена в зависимости от $a k_m$\")"
   ]
  },
  {
   "cell_type": "markdown",
   "metadata": {},
   "source": [
    "Таким образом мы видим, что данный подход разбиения интервала интегрирования в состоянии обеспечить гораздо большую точность вычислений, чем численное интегрирование с использованием библиотечной в Sagemath функции numerical_integral() на всем интервале интегрирования."
   ]
  },
  {
   "cell_type": "code",
   "execution_count": 66,
   "metadata": {},
   "outputs": [
    {
     "name": "stdout",
     "output_type": "stream",
     "text": [
      "0.1 2.0*pi -0.00533399814144886 -7.27595761418343e-12 9.35480264680726e-12 335\n"
     ]
    }
   ],
   "source": [
    "v_Rp1 = []\n",
    "\n",
    "import numpy as np\n",
    "for nk in np.arange(0.001, 0.15, 0.001):\n",
    "    akm=a_f*nk*k_mf\n",
    "    Rp = calc_Rp(akm=akm)\n",
    "    v_Rp1 += [(akm, Rp)]"
   ]
  },
  {
   "cell_type": "code",
   "execution_count": 67,
   "metadata": {},
   "outputs": [
    {
     "data": {
      "image/png": "[encoded data removed]",
      "text/plain": [
       "Graphics object consisting of 1 graphics primitive"
      ]
     },
     "metadata": {},
     "output_type": "display_data"
    }
   ],
   "source": [
    "plt = sage.plot.graphics.Graphics()\n",
    "plt += list_plot (v_Rp1)\n",
    "plt.show (title=\"Остаточный член в формуле Эйлера Маклорена в зависимости от $a k_m$\")"
   ]
  },
  {
   "cell_type": "markdown",
   "metadata": {},
   "source": [
    "Итак, Казимировская формула which holds as long as $a\\,k_m\\,»\\,1$ выполняется достаточно точно при $a\\,k_m\\,>\\,10$, но при меньших значениях $a\\,k_m$ коэффициент в выражении силы Казимира колеблется и даже меняет знак. \n",
    "\n",
    "При фиксированном расстоянии между пластинами $a$, сила Казимира должна таким образом зависеть от частоты опрезания $k_m$, пропорциональной удельной массе пластин"
   ]
  },
  {
   "cell_type": "code",
   "execution_count": null,
   "metadata": {},
   "outputs": [],
   "source": []
  }
 ],
 "metadata": {
  "kernelspec": {
   "display_name": "SageMath 9.6.beta7",
   "language": "sage",
   "name": "sagemath"
  },
  "language_info": {
   "codemirror_mode": {
    "name": "ipython",
    "version": 3
   },
   "file_extension": ".py",
   "mimetype": "text/x-python",
   "name": "python",
   "nbconvert_exporter": "python",
   "pygments_lexer": "ipython3",
   "version": "3.10.3"
  }
 },
 "nbformat": 4,
 "nbformat_minor": 2
}
