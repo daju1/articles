{
 "cells": [
  {
   "cell_type": "markdown",
   "id": "d0e311e3",
   "metadata": {},
   "source": [
    "## Мировые линии центров зарядов:\n",
    "\n",
    "$$\n",
    "x_1(t) = \\frac{1}{2} a_1 t^2, \\quad x_2(t) = d + \\frac{1}{2} a_2 t^2\n",
    "$$\n",
    "\n",
    "Мировые трубки — это области вокруг этих линий, с фиксированной шириной (в сопутствующей системе).\n"
   ]
  },
  {
   "cell_type": "code",
   "execution_count": 247,
   "id": "bd0879e7",
   "metadata": {},
   "outputs": [],
   "source": [
    "var(\"t1_0, t2_0, a_1, a_2, d, l\")\n",
    "\n",
    "t1   = sqrt(2*x/a_1)\n",
    "t1_l = sqrt(2*(x+l)/a_1)\n",
    "t1_r = sqrt(2*(x-l)/a_1)\n",
    "\n",
    "t2   = sqrt(2*(x-d)/a_2)\n",
    "t2_l = sqrt(2*(x+l-d)/a_2)\n",
    "t2_r = sqrt(2*(x-l-d)/a_2)"
   ]
  },
  {
   "cell_type": "markdown",
   "id": "efe8655a",
   "metadata": {},
   "source": [
    "Как найти уравнение перпендикуляра\n",
    "\n",
    "Найдите угловой коэффициент (наклон) мировой линии. Если угловой коэффициент мировой линии равен $k= (dt/dx) = \\frac{1}{\\left(a_1 \\cdot t_1\\right)}$,"
   ]
  },
  {
   "cell_type": "code",
   "execution_count": 248,
   "id": "b3a7c589",
   "metadata": {},
   "outputs": [
    {
     "data": {
      "text/html": [
       "<html>\\(\\displaystyle \\frac{\\sqrt{2}}{2 \\, a_{1} \\sqrt{\\frac{x}{a_{1}}}}\\)</html>"
      ],
      "text/latex": [
       "$\\displaystyle \\frac{\\sqrt{2}}{2 \\, a_{1} \\sqrt{\\frac{x}{a_{1}}}}$"
      ],
      "text/plain": [
       "1/2*sqrt(2)/(a_1*sqrt(x/a_1))"
      ]
     },
     "metadata": {},
     "output_type": "display_data"
    }
   ],
   "source": [
    "show(t1.diff(x).expand())"
   ]
  },
  {
   "cell_type": "markdown",
   "id": "0e6497a0",
   "metadata": {},
   "source": [
    " то угловой коэффициент перпендикулярной прямой равен $ m = -1/k = (dt/dx) = -\\left(a_1 \\cdot t_1\\right)$. \n",
    "Используйте формулу уравнения прямой вида $t_1 = -\\left(a_1 \\cdot t_1\\right) x + b$, подставив точку проведения перпендикуляра отрезка и новый угловой коэффициент, чтобы найти b. \n",
    "\n",
    " $t_1 = -\\left(a_1 \\cdot t_1\\right) \\frac{1}{2} a_1 t_1^2 + b$\n",
    " \n",
    " $b = t_1  + \\frac{a_1^2}{2}  t_1^3$"
   ]
  },
  {
   "cell_type": "code",
   "execution_count": 265,
   "id": "54df76ad",
   "metadata": {},
   "outputs": [],
   "source": [
    "def tubes_plot(A1, A2, L, D, T1, T2):\n",
    "\n",
    "    # displacement of charge 1 center\n",
    "    # перемещение центра каждого из зарядов исходя из ускорения и времени\n",
    "    S1 = A1*T1^2/2\n",
    "    S2 = A2*T2^2/2\n",
    "\n",
    "    values = [a_1 == A1, a_2 == A2, d == D, l == L, t1_0 == -0.0, t2_0 == 0.0]\n",
    "    \n",
    "    # угловой коэффициент прямой перпендикулярной центральной мировой линии \n",
    "    # в точке, соответствующей вычисленной выше перемещению равен\n",
    "    # $ m = -1/k = (dt/dx) = -\\left(a_1 \\cdot t_1\\right)$.\n",
    "    m1 = -A1*T1\n",
    "    m2 = -A2*T2\n",
    "    \n",
    "    # Используйте формулу уравнения прямой вида\n",
    "    # $t_1 = -\\left(a_1 \\cdot t_1\\right) x + b$,\n",
    "    # подставив точку проведения перпендикуляра отрезка\n",
    "    # и новый угловой коэффициент, чтобы найти b.\n",
    "    b1 = T1 - m1 * S1\n",
    "    b2 = T2 - m2 * (D + S2)\n",
    "    \n",
    "    # уравнения прямой перпендикулярной центральной мировой линии каждого из зарядов\n",
    "    perp_1 = m1*x + b1\n",
    "    perp_2 = m2*x + b2\n",
    "    \n",
    "    # x координата точки пересечения перпендикуляра к центральной мировой линии\n",
    "    # с левой и правой границей мировой трубки\n",
    "    # для каждого из зарядов\n",
    "    \n",
    "    x_1_l = solve ((t1_l^2 == perp_1^2).subs(values), [x])[0].rhs()\n",
    "    x_1_r = solve ((t1_r^2 == perp_1^2).subs(values), [x])[0].rhs()\n",
    "    \n",
    "    x_2_l = solve ((t2_l^2 == perp_2^2).subs(values), [x])[0].rhs()\n",
    "    x_2_r = solve ((t2_r^2 == perp_2^2).subs(values), [x])[0].rhs()\n",
    "    \n",
    "    # t координата точки пересечения перпендикуляра к центральной мировой линии\n",
    "    # с левой и правой границей мировой трубки\n",
    "    # для каждого из зарядов\n",
    "\n",
    "    t_1_l = t1_l.subs(x == x_1_l).subs(values)\n",
    "    t_1_r = t1_r.subs(x == x_1_r).subs(values)\n",
    "\n",
    "    t_2_l = t2_l.subs(x == x_2_l).subs(values)\n",
    "    t_2_r = t2_r.subs(x == x_2_r).subs(values)\n",
    "    \n",
    "    # угловой коэффициент прямой перпендикулярной левой и правой границе мировой трубки\n",
    "    # $ m = -1/k = (dt/dx) = -\\left(a_1 \\cdot t_1\\right)$.\n",
    "    m1_l = -A1*t_1_l\n",
    "    m1_r = -A1*t_1_r\n",
    "    m2_l = -A2*t_2_l\n",
    "    m2_r = -A2*t_2_r\n",
    "\n",
    "    # Используйте формулу уравнения прямой вида\n",
    "    # $t_1 = -\\left(a_1 \\cdot t_1\\right) x + b$,\n",
    "    # подставив точку проведения перпендикуляра отрезка\n",
    "    # и новый угловой коэффициент, чтобы найти b.\n",
    "    b1_l = t_1_l - m1_l * x_1_l\n",
    "    b1_r = t_1_r - m1_r * x_1_r\n",
    "\n",
    "    b2_l = t_2_l - m2_l * x_2_l\n",
    "    b2_r = t_2_r - m2_r * x_2_r\n",
    "    \n",
    "    # уравнения прямой перпендикулярной левой и правой границе мировой трубки каждого из зарядов\n",
    "    perp_1_l = m1_l*x + b1_l\n",
    "    perp_1_r = m1_r*x + b1_r\n",
    "    perp_2_l = m2_l*x + b2_l\n",
    "    perp_2_r = m2_r*x + b2_r\n",
    "    \n",
    "    # x координата точки пересечения перпендикуляра к левой и правой границе мировой трубки\n",
    "    # с противоположной границей мировой трубки\n",
    "    # для каждого из зарядов\n",
    "    \n",
    "    x_1_lr = solve ((t1_l^2 == perp_1_r^2).subs(values), [x])[1].rhs()\n",
    "    x_1_rl = solve ((t1_r^2 == perp_1_l^2).subs(values), [x])[1].rhs()\n",
    "    \n",
    "    x_2_lr = solve ((t2_l^2 == perp_2_r^2).subs(values), [x])[1].rhs()\n",
    "    x_2_rl = solve ((t2_r^2 == perp_2_l^2).subs(values), [x])[1].rhs()\n",
    "\n",
    "\n",
    "    plt = Graphics()\n",
    "\n",
    "    plt_tube_1 = (\n",
    "        plot(((t1_0 + t1).subs(values),    (t1_0 -t1).subs(values)),   x, 0,   S1, color=\"red\") +\n",
    "        plot(((t1_0 + t1_l).subs(values),  (t1_0 -t1_l).subs(values)), x, 0-L, x_1_l, color=\"green\") +\n",
    "        plot(((t1_0 + t1_r).subs(values),  (t1_0 -t1_r).subs(values)), x, 0+L, x_1_r, color=\"blue\")\n",
    "    )\n",
    "\n",
    "    plt_tube_2 = (\n",
    "        plot(((t2_0 + t2).subs(values),    (t2_0 -t2).subs(values)),   x, D,   D + S2, color=\"red\") +\n",
    "        plot(((t2_0 + t2_l).subs(values),  (t2_0 -t2_l).subs(values)), x, D-L, x_2_l, color=\"green\") +\n",
    "        plot(((t2_0 + t2_r).subs(values),  (t2_0 -t2_r).subs(values)), x, D+L, x_2_r, color=\"blue\")\n",
    "    )\n",
    "\n",
    "    plt += plt_tube_1\n",
    "    plt += plt_tube_2\n",
    "\n",
    "    plt_perp_1   = plot((perp_1, -perp_1),   x, x_1_l, x_1_r, color=\"red\")\n",
    "    plt_perp_2   = plot((perp_2, -perp_2),   x, x_2_l, x_2_r, color=\"red\")\n",
    "\n",
    "    plt += plt_perp_1\n",
    "    plt += plt_perp_2\n",
    "    \n",
    "    plt_perp_1_l   = plot((perp_1_l, -perp_1_l),   x, x_1_l, x_1_rl, color=\"green\")\n",
    "    plt_perp_1_r   = plot((perp_1_r, -perp_1_r),   x, x_1_lr, x_1_r, color=\"blue\")\n",
    "    plt_perp_2_l   = plot((perp_2_l, -perp_2_l),   x, x_2_l, x_2_rl, color=\"green\")\n",
    "    plt_perp_2_r   = plot((perp_2_r, -perp_2_r),   x, x_2_lr, x_2_r, color=\"blue\")\n",
    "    plt += plt_perp_1_l\n",
    "    plt += plt_perp_1_r\n",
    "    plt += plt_perp_2_l\n",
    "    plt += plt_perp_2_r\n",
    "\n",
    "    plt.show(aspect_ratio=1, axes=False)"
   ]
  },
  {
   "cell_type": "code",
   "execution_count": 275,
   "id": "515449c4",
   "metadata": {},
   "outputs": [],
   "source": [
    "# accelerations\n",
    "A1 = 2\n",
    "A2 = 2\n",
    "\n",
    "#half-length of the charges\n",
    "L = 0.2\n",
    "\n",
    "# distance between centers of the charges\n",
    "D = 2*L + 0.001\n",
    "\n",
    "# time duration of the tube\n",
    "T1 = 0.25\n",
    "T2 = 0.12"
   ]
  },
  {
   "cell_type": "code",
   "execution_count": 276,
   "id": "bf38a3a6",
   "metadata": {},
   "outputs": [
    {
     "data": {
      "image/png": "[encoded data removed]",
      "text/plain": [
       "Graphics object consisting of 24 graphics primitives"
      ]
     },
     "metadata": {},
     "output_type": "display_data"
    }
   ],
   "source": [
    "tubes_plot(A1, A2, L, D, T1, T2)"
   ]
  },
  {
   "cell_type": "code",
   "execution_count": 270,
   "id": "57c57bf7",
   "metadata": {},
   "outputs": [
    {
     "data": {
      "application/vnd.jupyter.widget-view+json": {
       "model_id": "c64795639b5c481a8d5b5a94f219f917",
       "version_major": 2,
       "version_minor": 0
      },
      "text/plain": [
       "Interactive function <function _ at 0x7efeb86e00d0> with 5 widgets\n",
       "  A1: SelectionSlider(description='A1', ind…"
      ]
     },
     "metadata": {},
     "output_type": "display_data"
    }
   ],
   "source": [
    "@interact\n",
    "def _(A1=slider(srange(0,10,.1),default = 2),\n",
    "      A2=slider(srange(0,10,.1),default = 2),\n",
    "      T1=slider(srange(.01,1,.01),default = 0.25),\n",
    "      T2=slider(srange(.01,1,.01),default = 0.16),\n",
    "      D=slider(srange(.01,10,.01),default = 2*L + 0.02)):\n",
    "    tubes_plot(A1, A2, L, D=D, T1=T1, T2=T2)"
   ]
  },
  {
   "cell_type": "markdown",
   "id": "0704f762",
   "metadata": {},
   "source": [
    "\n",
    "## 🔷 Шаг 1: Модель и обозначения\n",
    "\n",
    "Рассмотрим **двумерное сечение** пространства-времени: оси $(t, x)$.  \n",
    "Два заряда движутся вдоль оси $x$, с ускорениями $a_1$, $a_2$, начальные координаты:  \n",
    "- Заряд 1: $x = 0$,\n",
    "- Заряд 2: $x = d$.\n",
    "\n",
    "Их мировые линии (в нерелятивистском приближении, $v \\ll c$):\n",
    "\n",
    "$$\n",
    "t_1(\\tau) = \\tau, \\quad x_1(\\tau) = \\frac{1}{2} a_1 \\tau^2\n",
    "$$\n",
    "$$\n",
    "t_2(\\tau) = \\tau, \\quad x_2(\\tau) = d + \\frac{1}{2} a_2 \\tau^2\n",
    "$$\n",
    "\n",
    "Мировые трубки — узкие полосы вокруг этих линий.\n",
    "\n",
    "---\n",
    "\n",
    "## 🔷 Шаг 2: Нормальные сечения\n",
    "\n",
    "В каждый момент $\\tau$, **нормальное сечение** — это прямая, **ортогональная 4-скорости**.\n",
    "\n",
    "При $v \\ll c$, 4-скорость: $u^\\mu \\approx (c, v)$,  \n",
    "ортогональный вектор: $(v, c)$,  \n",
    "в $(t,x)$-сечении: наклон $\\frac{dt}{dx} = \\frac{v}{c^2}$.\n",
    "\n",
    "Но при $v \\ll c$, можно считать, что **нормальное сечение почти горизонтально**, и его уравнение:\n",
    "\n",
    "$$\n",
    "t = \\tau + \\frac{1}{2c^2} a_i (x - x_i(\\tau)) \\quad \\text{(с точностью до } 1/c^2\\text{)}\n",
    "$$\n",
    "\n",
    "👉 Однако, для простоты, в **нулевом приближении** (малые скорости, малые ускорения) будем считать, что **нормальные сечения горизонтальны**:  \n",
    "- В трубке 1: $t = t_1$,\n",
    "- В трубке 2: $t = t_2$.\n",
    "\n",
    "---\n",
    "\n",
    "## 🔷 Шаг 3: Построение гладкой границы $t = t(x)$\n",
    "\n",
    "Пусть область интегрирования ограничена:\n",
    "- Снизу: кривая $t = t_{\\text{нижн}}(x)$,\n",
    "- Сверху: кривая $t = t_{\\text{верх}}(x)$.\n",
    "\n",
    "Рассмотрим **верхнюю границу** — она соединяет два нормальных сечения.\n",
    "\n",
    "Пусть:\n",
    "- В области заряда 1 ($x \\in [0 - \\ell, 0 + \\ell]$): $t = t_0$,\n",
    "- В области заряда 2 ($x \\in [d - \\ell, d + \\ell]$): $t = t_0 + \\delta t$,\n",
    "- В промежутке $x \\in [\\ell, d - \\ell]$: плавный переход.\n",
    "\n",
    "Но! Чтобы минимизировать \"длину\" границы (аналог $\\int \\sqrt{1 + (dt/dx)^2} dx$), нужно сделать $dt/dx$ как можно меньше.\n",
    "\n",
    "👉 **Оптимальная кривая** — **гладкая, с нулевыми производными на концах**.\n",
    "\n",
    "Используем **кубический сплайн**:\n",
    "\n",
    "$$\n",
    "t(x) = \n",
    "\\begin{cases}\n",
    "t_0 & x \\in [0 - \\ell, \\ell] \\\\\n",
    "t_0 + A(x - \\ell)^3 + B(x - \\ell)^2 + C(x - \\ell) & x \\in [\\ell, d - \\ell] \\\\\n",
    "t_0 + \\Delta t & x \\in [d - \\ell, d + \\ell]\n",
    "\\end{cases}\n",
    "$$\n",
    "\n",
    "Где $\\Delta t = \\frac{1}{2c^2} a_2 d \\cdot t_0$ — поправка из-за разного ускорения.\n",
    "\n",
    "Условия гладкости:\n",
    "- $t(\\ell) = t_0$, $t'( \\ell) = 0$,\n",
    "- $t(d - \\ell) = t_0 + \\Delta t$, $t'(d - \\ell) = 0$.\n",
    "\n",
    "Решая, получаем:\n",
    "\n",
    "$$\n",
    "t(x) = t_0 + \\Delta t \\cdot \\left( \\frac{x - \\ell}{d - 2\\ell} \\right)^2 \\left( 3 - 2 \\frac{x - \\ell}{d - 2\\ell} \\right)\n",
    "\\quad \\text{для} \\quad x \\in [\\ell, d - \\ell]\n",
    "$$\n",
    "\n",
    "✅ Это — **гладкая, $C^1$ кривая**, без изломов, минимальной \"кривизны\".\n",
    "\n"
   ]
  },
  {
   "cell_type": "markdown",
   "id": "799c820f",
   "metadata": {},
   "source": [
    "## 🔷 Шаг 4: Минимизация кривизны — кубический сплайн\n",
    "\n",
    "Минимизация $\\int (f'')^2 dx$ при заданных $f, f'$ на концах даёт **кубический сплайн**.\n",
    "\n",
    "Решение:\n",
    "\n",
    "$$\n",
    "f(x) = t_0 + \\frac{a_1}{c^2} x \\left(1 - \\frac{x}{d}\\right)^2 + \\frac{a_2}{c^2} (x - d) \\left(\\frac{x}{d}\\right)^2\n",
    "$$\n",
    "\n",
    "✅ Проверка:\n",
    "- $f(0) = t_0$, $f'(0) = \\frac{a_1}{c^2}$,\n",
    "- $f(d) = t_0$, $f'(d) = \\frac{a_2}{c^2}$,\n",
    "- Гладкая, без изломов.\n"
   ]
  },
  {
   "cell_type": "code",
   "execution_count": null,
   "id": "fe8c4407",
   "metadata": {},
   "outputs": [],
   "source": []
  }
 ],
 "metadata": {
  "kernelspec": {
   "display_name": "SageMath 9.6.beta7",
   "language": "sage",
   "name": "sagemath"
  },
  "language_info": {
   "codemirror_mode": {
    "name": "ipython",
    "version": 3
   },
   "file_extension": ".py",
   "mimetype": "text/x-python",
   "name": "python",
   "nbconvert_exporter": "python",
   "pygments_lexer": "ipython3",
   "version": "3.10.3"
  }
 },
 "nbformat": 4,
 "nbformat_minor": 5
}
