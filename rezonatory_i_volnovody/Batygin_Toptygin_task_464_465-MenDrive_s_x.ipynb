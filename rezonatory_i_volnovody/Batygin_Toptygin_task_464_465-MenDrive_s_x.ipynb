{
 "cells": [
  {
   "cell_type": "markdown",
   "metadata": {},
   "source": [
    "# Электродинамический расчёт волнового двигателя с внутренним расходом энергии Ф.Ф.Менде (MenDrive)\n",
    "\n",
    "А.Ю.Дроздов"
   ]
  },
  {
   "cell_type": "markdown",
   "metadata": {},
   "source": [
    "Основываясь на решении задач из задачника Батыгина Топтыгина\n",
    "\n",
    "Batygin_Toptygin_task_464_465.sage\n",
    "\n",
    "В. В. БАТЫГИН, И. Н. ТОПТЫГИН\n",
    "СБОРНИК ЗАДАЧ\n",
    "по\n",
    "ЭЛЕКТРОДИНАМИКЕ\n",
    "МОСКВА 1970\n",
    "\n",
    "512. Бесконечно протяженный диэлектрический слой заполняет в вакууме область $-a<=x<=a$ и имеет проницаемости $\\epsilon$ и $\\mu$.\n",
    "Показать, что такой слой может действовать как волновод (для этого нужно, чтобы поле бегущей электромагнитной волны концентрировалось, в основном, внутри слоя). Определить типы волн, которые могут распространяться в таком волноводе. Ограничиться случаем, когда векторы поля не зависят от координаты $y$.\n",
    "\n",
    "513. Диэлектрический слой с проницаемостями $\\epsilon$, $\\mu$, заполняющий область $0<=x<=a$, нанесен на поверхность идеального\n",
    "проводника. В области $x>a$ - вакуум. Какие типы электромагнитных волн с амплитудой, убывающей при удалении от слоя, могут распространяться вдоль слоя? Сравнить возможные типы волн с системой волн, полученной в предыдущей задаче.\n",
    "\n",
    "В издании 1962 года номера этих задач 464 и 465"
   ]
  },
  {
   "cell_type": "markdown",
   "metadata": {},
   "source": [
    "рассчитаем тягу в\n",
    "\n",
    "http://fmnauka.narod.ru/dvigatel_emdrive.pdf\n",
    "\n",
    "Ф.Ф. МЕНДЕ, ВОЛНОВОЙ ДВИГАТЕЛЬ С ВНУТРЕННИМ РАСХОДОМ ЭНЕРГИИ ЭЛЕКТРОМАГНИТНЫХ КОЛЕБАНИЙ"
   ]
  },
  {
   "cell_type": "markdown",
   "metadata": {},
   "source": [
    "геометрия задачи следующая: \n",
    "\n",
    "поверхность идеального проводника $x<=-a$\n",
    "\n",
    "вакуума внутри резонатора заполняет область $-a<=x<=0$\n",
    "\n",
    "В области $x>0$ - плохой проводник"
   ]
  },
  {
   "cell_type": "markdown",
   "metadata": {},
   "source": [
    "$$rot\\,\\vec{E} = \\mu\\,\\frac{i\\,\\omega}{c}\\,\\vec{H}$$\n",
    "\n",
    "$$rot\\,\\vec{H} = \\frac{1}{c}\\frac{\\partial \\vec D}{\\partial t} + \\frac{4\\pi}{c} \\vec j = - \\frac{i\\,\\omega}{c} \\epsilon \\vec{E} + \\frac{4\\pi}{c}\\sigma \\vec E$$\n",
    "\n",
    "$$rot\\,rot\\,\\vec{E} = \\mu\\,\\frac{i\\,\\omega}{c}rot\\,\\vec{H}$$\n",
    "\n",
    "$$rot\\,rot\\,\\vec{E} = \\mu\\,\\frac{i\\,\\omega}{c}\\left(- \\frac{i\\,\\omega}{c} \\epsilon \\vec{E} + \\frac{4\\pi}{c}\\sigma \\vec E\\right)$$\n",
    "\n",
    "$$rot\\,rot\\,\\vec{E} = \\epsilon \\mu\\,\\frac{\\omega^2}{c^2} \\vec{E} + i\\,\\omega\\,\\sigma\\,\\mu\\,\\frac{4\\pi}{c^2} \\vec E$$\n",
    "\n",
    "$$rot\\,rot\\,\\vec{E} = grad\\,div\\,\\vec{E} - Laplasian\\,\\vec{E}$$\n",
    "\n",
    "$$Laplasian\\,\\vec{E} + \\epsilon \\mu \\frac{\\omega^2}{c^2}\\,\\vec{E} + i\\,\\omega\\,\\sigma\\,\\mu\\,\\frac{4\\pi}{c^2} \\vec E - grad\\,div\\,\\vec{E} = 0$$\n"
   ]
  },
  {
   "cell_type": "markdown",
   "metadata": {},
   "source": [
    "$$div\\,\\vec{E} = - \\frac{\\vec{n}}{c} \\frac{\\partial \\vec E}{\\partial t}$$\n",
    "\n",
    "$$grad\\,div\\,\\vec{E} = - grad\\,\\frac{\\vec{n}}{c} \\frac{\\partial \\vec E}{\\partial t}$$\n",
    "\n",
    "для вакуума внутри резонатора ищем решение в виде\n",
    "\n",
    "$$\\vec{E} = \\vec{E}(x)\\,e^{i\\,k\\,z}\\,e^{-i\\,\\omega\\,t}$$"
   ]
  },
  {
   "cell_type": "markdown",
   "metadata": {},
   "source": [
    "подставляя в исходное уравнение приходим к обыкновенному дифференциальному уравнению\n",
    "\n",
    "$$\\frac{\\partial^{2}}{(\\partial {x})^{2}}\\vec{E}(x) + \\frac{\\partial^{2}}{(\\partial {y})^{2}}\\vec{E}(x) + \\left(\\epsilon  \\mu \\frac{\\omega^2}{c^2} + i\\,\\omega\\,\\sigma\\,\\mu\\,\\frac{4\\pi}{c^2} - {k'_z}^2\\right)\\,\\vec{E}(x) - grad\\,div\\,\\vec{E} = 0$$"
   ]
  },
  {
   "cell_type": "markdown",
   "metadata": {},
   "source": [
    "производим следующую замену переменных\n",
    "\n",
    "$$\\kappa^2 = \\epsilon \\mu \\frac{\\omega^2}{c^2} + i\\,\\omega\\,\\sigma\\,\\mu\\,\\frac{4\\pi}{c^2}$$\n",
    "\n",
    "теперь получаем дифференциальное уравнение\n",
    "\n",
    "$$\\frac{\\partial^{2}}{(\\partial {x})^{2}}\\vec{E}(x) + \\frac{\\partial^{2}}{(\\partial {y})^{2}}\\vec{E}(x) + \\left(\\kappa^2 - {k'_z}^2\\right)\\,\\vec{E}(x) = 0$$"
   ]
  },
  {
   "cell_type": "code",
   "execution_count": null,
   "metadata": {},
   "outputs": [],
   "source": []
  },
  {
   "cell_type": "markdown",
   "metadata": {},
   "source": [
    "для проводящего металла с потерями ищем решение в виде\n",
    "\n",
    "$$\\vec{E} = \\vec{E}\\,e^{i\\,k'_x\\,x}\\,e^{i\\,k'_z\\,z}\\,e^{-i\\,\\omega\\,t}$$\n",
    "\n",
    "в котором волновой вектор, направленный вдоль оси z комплексный $k'_z = k_z + i\\,s_z$, как и волновой вектор, направленный вдоль оси x может быть комплексным $k'_x = k_x + i\\,s_x$\n",
    "\n",
    "$$\\vec{E} = \\vec{E}\\,e^{i\\,(k_x + i\\,s_x)\\,(x-a)}\\,e^{i\\,(k_z + i\\,s_z)\\,z}\\,e^{-i\\,\\omega\\,t}$$"
   ]
  },
  {
   "cell_type": "code",
   "execution_count": null,
   "metadata": {},
   "outputs": [],
   "source": []
  },
  {
   "cell_type": "markdown",
   "metadata": {},
   "source": [
    "принимая модель комплексного представления диэлектрической проницаемости $\\epsilon' = \\epsilon + \\frac{4\\pi\\,\\sigma}{\\omega}\\,i$ (плохой проводник)"
   ]
  },
  {
   "cell_type": "markdown",
   "metadata": {},
   "source": [
    "подставляем решение в\n",
    "\n",
    "$$Laplasian\\,\\vec{E} + \\frac{\\mu \\omega^2}{c^2}\\left(\\epsilon + \\frac{4\\pi\\,\\sigma}{\\omega}\\,i\\right)\\,\\vec{E} - grad\\,div\\,\\vec{E} = 0$$\n",
    "\n",
    "и принимая\n",
    "\n",
    "$$div\\,\\vec{E} = - \\frac{\\vec{n}}{c} \\frac{\\partial \\vec E}{\\partial t}$$"
   ]
  },
  {
   "cell_type": "markdown",
   "metadata": {},
   "source": [
    "приходим к\n",
    "\n",
    "$$\\frac{\\partial^{2}}{(\\partial {x})^{2}}\\vec{E}(x) + \\frac{\\partial^{2}}{(\\partial {y})^{2}}\\vec{E}(x) + \\left(\\frac{\\mu \\omega^2}{c^2}\\left(\\epsilon + \\frac{4\\pi\\,\\sigma}{\\omega}\\,i\\right)  - {k'_z}^2\\right)\\,\\vec{E} - grad\\, \\left(\\frac{\\vec{n}}{c} \\frac{\\partial \\vec E}{\\partial t} \\right) = 0$$"
   ]
  },
  {
   "cell_type": "markdown",
   "metadata": {},
   "source": [
    "$$ k = \\frac{\\omega}{c}\\,\\sqrt{\\mu\\,\\left(\\epsilon  + \\frac{4\\pi\\,\\sigma}{\\omega}\\,i\\right)}$$"
   ]
  },
  {
   "cell_type": "markdown",
   "metadata": {},
   "source": [
    "$${k'_z}^2=\\left(k_z + i\\,s_z \\right)^2 = k_z^2 - s_z^2 + 2\\,i\\,k_z\\,s_z$$"
   ]
  },
  {
   "cell_type": "markdown",
   "metadata": {},
   "source": [
    "приходим к\n",
    "\n",
    "$$\\frac{\\partial^{2}}{(\\partial {x})^{2}}\\vec{E}(x) + \\frac{\\partial^{2}}{(\\partial {y})^{2}}\\vec{E}(x) + \\left(\\frac{\\mu \\omega^2}{c^2}\\epsilon + \\frac{\\mu \\omega^2}{c^2}\\frac{4\\pi\\,\\sigma}{\\omega}\\,i - {k'_z}^{2}\\right) = 0$$\n"
   ]
  },
  {
   "cell_type": "code",
   "execution_count": 1,
   "metadata": {},
   "outputs": [],
   "source": [
    "from IPython.display import display, Math, Latex\n",
    "\n",
    "mu = var('mu')\n",
    "assume(mu, 'real')\n",
    "assume(mu>0)\n",
    "\n",
    "epsilon = var('epsilon')\n",
    "assume(epsilon, 'real')\n",
    "assume(epsilon>0)\n",
    "\n",
    "mu_0 = 1\n",
    "epsilon_0 = 1\n",
    "\n",
    "sigma = var('sigma')\n",
    "assume(sigma, 'real')\n",
    "assume(sigma>0)\n",
    "\n",
    "sx = var ('sx')\n",
    "assume(sx, 'real')\n",
    "assume(sx>0)\n",
    "\n",
    "sy = var ('sy')\n",
    "assume(sy, 'real')\n",
    "assume(sy>0)\n",
    "\n",
    "sz = var ('sz')\n",
    "assume(sz, 'real')\n",
    "assume(sz>0)\n",
    "\n",
    "kappa_vacuum = var ('kappa_vacuum')\n",
    "assume(kappa_vacuum, 'real')\n",
    "assume(kappa_vacuum>0)\n",
    "\n",
    "#k, kappa = var('k, kappa')\n",
    "kappa = var('kappa')\n",
    "#assume(k, 'complex')\n",
    "assume(kappa, 'complex')\n",
    "\n",
    "kx = var ('kx')\n",
    "assume(kx, 'real')\n",
    "\n",
    "ky = var ('ky')\n",
    "assume(ky, 'real')\n",
    "\n",
    "kz = var ('kz')\n",
    "assume(kz, 'real')\n",
    "\n",
    "k__x = var ('k__x')\n",
    "assume(k__x, 'complex')\n",
    "\n",
    "k__y = var ('k__y')\n",
    "assume(k__x, 'complex')\n",
    "\n",
    "k__z = var ('k__z')\n",
    "assume(k__z, 'complex')\n",
    "\n",
    "k_x = var ('k_x')\n",
    "assume(k_x, 'complex')\n",
    "\n",
    "k_y = var ('k_y')\n",
    "assume(k_x, 'complex')\n",
    "\n",
    "k_z = var ('k_z')\n",
    "assume(k_z, 'complex')\n",
    "\n",
    "\n",
    "a = var('a')\n",
    "assume(a, 'real')\n",
    "assume(a>0)\n",
    "\n",
    "x = var('x')\n",
    "y = var('y')\n",
    "z = var('z')\n",
    "\n",
    "assume(x, 'real')\n",
    "assume(y, 'real')\n",
    "assume(z, 'real')\n",
    "\n",
    "c = var('c')\n",
    "assume(c, 'real')\n",
    "assume(c>0)\n",
    "\n",
    "omega = var('omega')\n",
    "assume(omega, 'real')"
   ]
  },
  {
   "cell_type": "markdown",
   "metadata": {},
   "source": [
    "$$\\kappa^2 = \\epsilon \\mu \\frac{\\omega^2}{c^2} + i\\,\\omega\\,\\sigma\\,\\mu\\,\\frac{4\\pi}{c^2}$$"
   ]
  },
  {
   "cell_type": "code",
   "execution_count": 2,
   "metadata": {},
   "outputs": [
    {
     "name": "stdout",
     "output_type": "stream",
     "text": [
      "eq_kappa =\n"
     ]
    },
    {
     "data": {
      "text/latex": [
       "$\\displaystyle \\kappa^{2} = \\frac{4 i \\, \\pi \\mu \\omega \\sigma}{c} + \\frac{\\epsilon \\mu \\omega^{2}}{c^{2}}$"
      ],
      "text/plain": [
       "<IPython.core.display.Math object>"
      ]
     },
     "metadata": {},
     "output_type": "display_data"
    },
    {
     "name": "stdout",
     "output_type": "stream",
     "text": [
      "eq_kappa_inner_vacuum =\n"
     ]
    },
    {
     "data": {
      "text/latex": [
       "$\\displaystyle \\kappa_{\\mathit{vacuum}}^{2} = \\frac{\\omega^{2}}{c^{2}}$"
      ],
      "text/plain": [
       "<IPython.core.display.Math object>"
      ]
     },
     "metadata": {},
     "output_type": "display_data"
    }
   ],
   "source": [
    "# исходя из вида дифференциальных уравнений для вакуума внутри резонатора и проводящего металла с потерями\n",
    "# записываем соотнощения для волнового вектора в виде уравнений\n",
    "\n",
    "eq_kappa              = kappa^2 == mu * epsilon * omega^2 / c^2 + I*omega*sigma*mu*4*pi/c\n",
    "eq_kappa_inner_vacuum = kappa_vacuum^2 == omega^2 / c^2\n",
    "\n",
    "kappa_sol = solve(eq_kappa, kappa)[1]\n",
    "#kappa_vacuum_sol = omega / c\n",
    "\n",
    "print(\"eq_kappa =\")\n",
    "display(Math(latex(eq_kappa)))\n",
    "\n",
    "print(\"eq_kappa_inner_vacuum =\")\n",
    "display(Math(latex(eq_kappa_inner_vacuum)))"
   ]
  },
  {
   "cell_type": "code",
   "execution_count": null,
   "metadata": {},
   "outputs": [],
   "source": []
  },
  {
   "cell_type": "markdown",
   "metadata": {},
   "source": [
    "принимая модель комплексного представления диэлектрической проницаемости $\\epsilon' = \\epsilon + \\frac{4\\pi\\,\\sigma}{\\omega}\\,i$ (плохой проводник)"
   ]
  },
  {
   "cell_type": "code",
   "execution_count": 3,
   "metadata": {},
   "outputs": [],
   "source": [
    "epsilon_complex = epsilon + I * 4 * pi * sigma / omega"
   ]
  },
  {
   "cell_type": "markdown",
   "metadata": {},
   "source": [
    "приходим к\n",
    "\n",
    "$$\\frac{\\partial^{2}}{(\\partial {x})^{2}}\\vec{E}(x) + \\frac{\\partial^{2}}{(\\partial {y})^{2}}\\vec{E}(x) +  \\left(\\frac{\\mu \\omega^2}{c^2}\\epsilon + \\frac{\\mu \\omega^2}{c^2}\\frac{4\\pi\\,\\sigma}{\\omega}\\,i - {k'_z}^{2}\\right) = 0$$\n"
   ]
  },
  {
   "cell_type": "markdown",
   "metadata": {},
   "source": [
    "$${k'_z}^2=\\left(k_z + i\\,s_z \\right)^2 = k_z^2 - s_z^2 + 2\\,i\\,k_z\\,s_z$$"
   ]
  },
  {
   "cell_type": "markdown",
   "metadata": {},
   "source": []
  },
  {
   "cell_type": "code",
   "execution_count": 4,
   "metadata": {},
   "outputs": [],
   "source": [
    "k__y_subs = k__y == 0 #ky + I * sy"
   ]
  },
  {
   "cell_type": "code",
   "execution_count": 5,
   "metadata": {},
   "outputs": [],
   "source": [
    "k__z_subs = k__z == kz + I * sz"
   ]
  },
  {
   "cell_type": "code",
   "execution_count": null,
   "metadata": {},
   "outputs": [],
   "source": []
  },
  {
   "cell_type": "markdown",
   "metadata": {},
   "source": [
    "$$\\frac{\\partial^{2}}{(\\partial {x})^{2}}\\vec{E}(x) + \\frac{\\partial^{2}}{(\\partial {y})^{2}}\\vec{E}(x) + \\left(\\frac{\\mu \\epsilon \\omega^2}{c^2} - {k'_z}^2\\right)\\,\\vec{E}(x) - grad\\,div\\,\\vec{E} = 0$$"
   ]
  },
  {
   "cell_type": "markdown",
   "metadata": {},
   "source": [
    "зависимость поля от $y$ отсутствует"
   ]
  },
  {
   "cell_type": "markdown",
   "metadata": {},
   "source": [
    "$$\\frac{\\partial^{2}}{(\\partial {x})^{2}}\\vec{E}(x) + \\left(\\frac{\\mu \\epsilon \\omega^2}{c^2} - {k'_z}^2\\right)\\,\\vec{E}(x) - grad\\,div\\,\\vec{E} = 0$$"
   ]
  },
  {
   "cell_type": "code",
   "execution_count": 6,
   "metadata": {},
   "outputs": [
    {
     "name": "stdout",
     "output_type": "stream",
     "text": [
      "de_inner_vacuum =\n"
     ]
    },
    {
     "data": {
      "text/latex": [
       "$\\displaystyle -{\\left(k_{z}^{2} - \\kappa^{2}\\right)} E\\left(x\\right) + \\frac{\\partial^{2}}{(\\partial x)^{2}}E\\left(x\\right) = 0$"
      ],
      "text/plain": [
       "<IPython.core.display.Math object>"
      ]
     },
     "metadata": {},
     "output_type": "display_data"
    }
   ],
   "source": [
    "# решаем полученные обыкновенные дифференциальные уравнения\n",
    "E = function('E')(x)\n",
    "\n",
    "\n",
    "de_inner_vacuum = diff (E, x, 2) + diff (E, y, 2) + (kappa^2 - k_z^2) * E == 0\n",
    "# diff (E, y, 2) == 0\n",
    "de_inner_vacuum = diff (E, x, 2) + (kappa^2 - k_z^2) * E == 0\n",
    "# получая таким образом выражения для электрического поля в вакуума внутри резонатора и внутри проводящего металла с потерями\n",
    "print(\"de_inner_vacuum =\")\n",
    "display(Math(latex(de_inner_vacuum)))"
   ]
  },
  {
   "cell_type": "code",
   "execution_count": 7,
   "metadata": {},
   "outputs": [
    {
     "name": "stdout",
     "output_type": "stream",
     "text": [
      "E_inner_vacuum =\n"
     ]
    },
    {
     "data": {
      "text/latex": [
       "$\\displaystyle K_{1} e^{\\left(i \\, \\sqrt{-k_{z}^{2} + \\kappa^{2}} x\\right)} + K_{2} e^{\\left(-i \\, \\sqrt{-k_{z}^{2} + \\kappa^{2}} x\\right)}$"
      ],
      "text/plain": [
       "<IPython.core.display.Math object>"
      ]
     },
     "metadata": {},
     "output_type": "display_data"
    }
   ],
   "source": [
    "assume(k_z^2-kappa^2 > 0)\n",
    "\n",
    "E_inner_vacuum = desolve(de_inner_vacuum, E, ivar = x)\n",
    "#E_inner_vacuum = desolve(de_inner_vacuum, E, ivar = [x, y], contrib_ode = True)\n",
    "\n",
    "# получая таким образом выражения для электрического поля в вакуума внутри резонатора и внутри проводящего металла с потерями\n",
    "print(\"E_inner_vacuum =\")\n",
    "display(Math(latex(E_inner_vacuum)))"
   ]
  },
  {
   "cell_type": "code",
   "execution_count": 8,
   "metadata": {},
   "outputs": [],
   "source": [
    "eq_kx_vacuum = k_x = I*sqrt(kappa_vacuum^2-k_z^2)\n",
    "eq_kx        = k_x = I*sqrt(kappa^2-k_z^2)"
   ]
  },
  {
   "cell_type": "code",
   "execution_count": null,
   "metadata": {},
   "outputs": [],
   "source": []
  },
  {
   "cell_type": "code",
   "execution_count": 9,
   "metadata": {},
   "outputs": [],
   "source": [
    "B1_x = var ('B1_x')\n",
    "B2_x = var ('B2_x')\n",
    "\n",
    "A1_x = var ('A1_x')\n",
    "A2_x = var ('A2_x')\n",
    "\n",
    "\n",
    "B1_y = var ('B1_y')\n",
    "B2_y = var ('B2_y')\n",
    "\n",
    "A1_y = var ('A1_y')\n",
    "A2_y = var ('A2_y')\n",
    "\n",
    "\n",
    "B1_z = var ('B1_z')\n",
    "B2_z = var ('B2_z')\n",
    "\n",
    "A1_z = var ('A1_z')\n",
    "A2_z = var ('A2_z')\n",
    "\n",
    "A1_x_re, A1_y_re, A1_z_re = var(\"A1_x_re, A1_y_re, A1_z_re\")\n",
    "A1_x_im, A1_y_im, A1_z_im = var(\"A1_x_im, A1_y_im, A1_z_im\")"
   ]
  },
  {
   "cell_type": "code",
   "execution_count": 10,
   "metadata": {},
   "outputs": [],
   "source": [
    "# 2D\n",
    "set_Ey_0 = False"
   ]
  },
  {
   "cell_type": "code",
   "execution_count": 11,
   "metadata": {},
   "outputs": [],
   "source": [
    "if set_Ey_0:\n",
    "    B1_y = 0\n",
    "    B2_y = 0\n",
    "\n",
    "    A1_y = 0\n",
    "    A2_y = 0\n",
    "\n",
    "    ky   = 0"
   ]
  },
  {
   "cell_type": "code",
   "execution_count": 12,
   "metadata": {},
   "outputs": [
    {
     "name": "stdout",
     "output_type": "stream",
     "text": [
      "E_inner_vacuum_z \n"
     ]
    },
    {
     "data": {
      "text/latex": [
       "$\\displaystyle E_inner_vacuum_z$"
      ],
      "text/plain": [
       "<IPython.core.display.Math object>"
      ]
     },
     "metadata": {},
     "output_type": "display_data"
    },
    {
     "name": "stdout",
     "output_type": "stream",
     "text": [
      "E_inner_vacuum_x =\n"
     ]
    },
    {
     "data": {
      "text/latex": [
       "$\\displaystyle E_inner_vacuum_x$"
      ],
      "text/plain": [
       "<IPython.core.display.Math object>"
      ]
     },
     "metadata": {},
     "output_type": "display_data"
    },
    {
     "name": "stdout",
     "output_type": "stream",
     "text": [
      "E_inner_vacuum_y =\n"
     ]
    },
    {
     "data": {
      "text/latex": [
       "$\\displaystyle E_inner_vacuum_y$"
      ],
      "text/plain": [
       "<IPython.core.display.Math object>"
      ]
     },
     "metadata": {},
     "output_type": "display_data"
    },
    {
     "name": "stdout",
     "output_type": "stream",
     "text": [
      "E_inner_vacuum_sol_z (x) \n"
     ]
    },
    {
     "data": {
      "text/latex": [
       "$\\displaystyle \\mathit{A1}_{z} e^{\\left(-i \\, \\sqrt{-k_{z}^{2} + \\kappa_{\\mathit{vacuum}}^{2}} x\\right)}$"
      ],
      "text/plain": [
       "<IPython.core.display.Math object>"
      ]
     },
     "metadata": {},
     "output_type": "display_data"
    },
    {
     "name": "stdout",
     "output_type": "stream",
     "text": [
      "E_inner_vacuum_sol_x (x) =\n"
     ]
    },
    {
     "data": {
      "text/latex": [
       "$\\displaystyle \\mathit{A1}_{x} e^{\\left(-i \\, \\sqrt{-k_{z}^{2} + \\kappa_{\\mathit{vacuum}}^{2}} x\\right)}$"
      ],
      "text/plain": [
       "<IPython.core.display.Math object>"
      ]
     },
     "metadata": {},
     "output_type": "display_data"
    },
    {
     "name": "stdout",
     "output_type": "stream",
     "text": [
      "E_inner_vacuum_sol_y (x) =\n"
     ]
    },
    {
     "data": {
      "text/latex": [
       "$\\displaystyle \\mathit{A1}_{y} e^{\\left(-i \\, \\sqrt{-k_{z}^{2} + \\kappa_{\\mathit{vacuum}}^{2}} x\\right)}$"
      ],
      "text/plain": [
       "<IPython.core.display.Math object>"
      ]
     },
     "metadata": {},
     "output_type": "display_data"
    }
   ],
   "source": [
    "if False:\n",
    "    # выражения для электрического поля\n",
    "    # в вакууме внутри резонатора \n",
    "    E_inner_vacuum_z (x) = (A1_z_re*cos(sqrt(kappa_vacuum^2-k_z^2)*x) + A1_z_im*sin(sqrt(kappa_vacuum^2-k_z^2)*x))\n",
    "    E_inner_vacuum_x (x) = (A1_x_re*cos(sqrt(kappa_vacuum^2-k_z^2)*x) + A1_x_im*sin(sqrt(kappa_vacuum^2-k_z^2)*x))\n",
    "    E_inner_vacuum_y (x) = (A1_y_re*cos(sqrt(kappa_vacuum^2-k_z^2)*x) + A1_y_im*sin(sqrt(kappa_vacuum^2-k_z^2)*x))\n",
    "\n",
    "    # знак перед корнем будем выбирать всегда так чтобы корень имел положительную мнимую часть\n",
    "    E_inner_vacuum_z (x) = (A1_z*exp(- I * sqrt(kappa_vacuum^2-k_z^2)*x))\n",
    "    E_inner_vacuum_x (x) = (A1_x*exp(- I * sqrt(kappa_vacuum^2-k_z^2)*x))\n",
    "    E_inner_vacuum_y (x) = (A1_y*exp(- I * sqrt(kappa_vacuum^2-k_z^2)*x))\n",
    "else:\n",
    "    # знак перед корнем будем выбирать всегда так чтобы корень имел положительную мнимую часть\n",
    "    E_inner_vacuum_sol_z (x) = (A1_z*exp(- I * sqrt(kappa_vacuum^2-k_z^2)*x))#.subs(B1_z == A1_z, A1_z == A2_z)\n",
    "    E_inner_vacuum_sol_x (x) = (A1_x*exp(- I * sqrt(kappa_vacuum^2-k_z^2)*x))#.subs(B1_x == A1_x, B2_x == A2_z)\n",
    "    E_inner_vacuum_sol_y (x) = (A1_y*exp(- I * sqrt(kappa_vacuum^2-k_z^2)*x))#.subs(B1_y == A1_y, B2_y == A2_y)\n",
    "\n",
    "    E_inner_vacuum_z = function(\"E_inner_vacuum_z\")\n",
    "    E_inner_vacuum_x = function(\"E_inner_vacuum_x\")\n",
    "    E_inner_vacuum_y = function(\"E_inner_vacuum_y\")\n",
    "\n",
    "print (\"E_inner_vacuum_z \")\n",
    "display(Math(latex(E_inner_vacuum_z)))\n",
    "print (\"E_inner_vacuum_x =\")\n",
    "display(Math(latex(E_inner_vacuum_x)))\n",
    "print (\"E_inner_vacuum_y =\")\n",
    "display(Math(latex(E_inner_vacuum_y)))\n",
    "\n",
    "print (\"E_inner_vacuum_sol_z (x) \")\n",
    "display(Math(latex(E_inner_vacuum_sol_z (x))))\n",
    "print (\"E_inner_vacuum_sol_x (x) =\")\n",
    "display(Math(latex(E_inner_vacuum_sol_x (x))))\n",
    "print (\"E_inner_vacuum_sol_y (x) =\")\n",
    "display(Math(latex(E_inner_vacuum_sol_y (x))))"
   ]
  },
  {
   "cell_type": "markdown",
   "metadata": {},
   "source": [
    "решение для проводящего металла с потерями\n",
    "\n",
    "$\\vec{E} = \\vec{E}\\,e^{i\\,k_x'\\,x}\\,e^{i\\,k_z\\,z}\\,e^{-i\\,\\omega\\,t}$\n",
    "\n",
    "$k_x' = k_x + i\\,s_x$\n",
    "\n",
    "$\\vec{E} = \\vec{E}\\,e^{-s_x\\,x}\\,e^{i\\,k_x\\,x}\\,e^{i\\,k_z\\,z}\\,e^{-i\\,\\omega\\,t}$"
   ]
  },
  {
   "cell_type": "code",
   "execution_count": 13,
   "metadata": {},
   "outputs": [
    {
     "name": "stdout",
     "output_type": "stream",
     "text": [
      "E_bad_conductor_z \n"
     ]
    },
    {
     "data": {
      "text/latex": [
       "$\\displaystyle E_bad_conductor_z$"
      ],
      "text/plain": [
       "<IPython.core.display.Math object>"
      ]
     },
     "metadata": {},
     "output_type": "display_data"
    },
    {
     "name": "stdout",
     "output_type": "stream",
     "text": [
      "E_bad_conductor_x =\n"
     ]
    },
    {
     "data": {
      "text/latex": [
       "$\\displaystyle E_bad_conductor_x$"
      ],
      "text/plain": [
       "<IPython.core.display.Math object>"
      ]
     },
     "metadata": {},
     "output_type": "display_data"
    },
    {
     "name": "stdout",
     "output_type": "stream",
     "text": [
      "E_bad_conductor_y =\n"
     ]
    },
    {
     "data": {
      "text/latex": [
       "$\\displaystyle E_bad_conductor_y$"
      ],
      "text/plain": [
       "<IPython.core.display.Math object>"
      ]
     },
     "metadata": {},
     "output_type": "display_data"
    },
    {
     "name": "stdout",
     "output_type": "stream",
     "text": [
      "E_bad_conductor_sol_z (x) \n"
     ]
    },
    {
     "data": {
      "text/latex": [
       "$\\displaystyle \\mathit{B1}_{z} e^{\\left(i \\, \\sqrt{-k_{z}^{2} + \\kappa^{2}} x\\right)}$"
      ],
      "text/plain": [
       "<IPython.core.display.Math object>"
      ]
     },
     "metadata": {},
     "output_type": "display_data"
    },
    {
     "name": "stdout",
     "output_type": "stream",
     "text": [
      "E_bad_conductor_sol_x (x) =\n"
     ]
    },
    {
     "data": {
      "text/latex": [
       "$\\displaystyle \\mathit{B1}_{x} e^{\\left(i \\, \\sqrt{-k_{z}^{2} + \\kappa^{2}} x\\right)}$"
      ],
      "text/plain": [
       "<IPython.core.display.Math object>"
      ]
     },
     "metadata": {},
     "output_type": "display_data"
    },
    {
     "name": "stdout",
     "output_type": "stream",
     "text": [
      "E_bad_conductor_sol_y (x) =\n"
     ]
    },
    {
     "data": {
      "text/latex": [
       "$\\displaystyle \\mathit{B1}_{y} e^{\\left(i \\, \\sqrt{-k_{z}^{2} + \\kappa^{2}} x\\right)}$"
      ],
      "text/plain": [
       "<IPython.core.display.Math object>"
      ]
     },
     "metadata": {},
     "output_type": "display_data"
    }
   ],
   "source": [
    "if False:\n",
    "    # x > a-{k'_x}^{2}-{k'_y}^{2} +\n",
    "    # в проводящем металле с потерями\n",
    "    #if True:\n",
    "    #    E_bad_conductor_z (x) = A2_z * e^(-sx*x) * e^(I*kx*x)\n",
    "    #    E_bad_conductor_x (x) = A2_x * e^(-sx*x) * e^(I*kx*x)\n",
    "    #    E_bad_conductor_y (x) = A2_y * e^(-sx*x) * e^(I*kx*x)\n",
    "    #else:\n",
    "    #    E_bad_conductor_z (x) = A2_z * e^(-sx*(x-a)) * e^(I*kx*(x-a))\n",
    "    #    E_bad_conductor_x (x) = A2_x * e^(-sx*(x-a)) * e^(I*kx*(x-a))\n",
    "    #    E_bad_conductor_y (x) = A2_y * e^(-sx*(x-a)) * e^(I*kx*(x-a))\n",
    "\n",
    "    E_bad_conductor_z (x) = B1_z*cos(sqrt(kappa^2-k_z^2)*x) + B2_z*sin(sqrt(kappa^2-k_z^2)*x)\n",
    "    E_bad_conductor_x (x) = B1_x*cos(sqrt(kappa^2-k_z^2)*x) + B2_x*sin(sqrt(kappa^2-k_z^2)*x)\n",
    "    E_bad_conductor_y (x) = B1_y*cos(sqrt(kappa^2-k_z^2)*x) + B2_y*sin(sqrt(kappa^2-k_z^2)*x)\n",
    "else:\n",
    "    # знак перед корнем будем выбирать всегда так чтобы корень имел положительную мнимую часть\n",
    "    E_bad_conductor_sol_z (x) = B1_z*exp(I * sqrt(kappa^2-k_z^2)*x)\n",
    "    E_bad_conductor_sol_x (x) = B1_x*exp(I * sqrt(kappa^2-k_z^2)*x)\n",
    "    E_bad_conductor_sol_y (x) = B1_y*exp(I * sqrt(kappa^2-k_z^2)*x)\n",
    "\n",
    "    E_bad_conductor_z = function(\"E_bad_conductor_z\")\n",
    "    E_bad_conductor_x = function(\"E_bad_conductor_x\")\n",
    "    E_bad_conductor_y = function(\"E_bad_conductor_y\")\n",
    "\n",
    "print (\"E_bad_conductor_z \")\n",
    "display(Math(latex(E_bad_conductor_z)))\n",
    "print (\"E_bad_conductor_x =\")\n",
    "display(Math(latex(E_bad_conductor_x)))\n",
    "print (\"E_bad_conductor_y =\")\n",
    "display(Math(latex(E_bad_conductor_y)))\n",
    "\n",
    "print (\"E_bad_conductor_sol_z (x) \")\n",
    "display(Math(latex(E_bad_conductor_sol_z (x))))\n",
    "print (\"E_bad_conductor_sol_x (x) =\")\n",
    "display(Math(latex(E_bad_conductor_sol_x (x))))\n",
    "print (\"E_bad_conductor_sol_y (x) =\")\n",
    "display(Math(latex(E_bad_conductor_sol_y (x))))"
   ]
  },
  {
   "cell_type": "code",
   "execution_count": 14,
   "metadata": {},
   "outputs": [
    {
     "name": "stdout",
     "output_type": "stream",
     "text": [
      "H_inner_vacuum_s_y \n"
     ]
    },
    {
     "data": {
      "text/latex": [
       "$\\displaystyle x \\ {\\mapsto}\\ -\\frac{i \\, {\\left(i \\, k_{z} E_{{\\rm inner}_{{\\rm vacuum}_{x}}}\\left(x\\right) + i \\, \\sqrt{-k_{z}^{2} + \\kappa_{\\mathit{vacuum}}^{2}} E_{{\\rm inner}_{{\\rm vacuum}_{z}}}\\left(x\\right)\\right)} c}{\\omega}$"
      ],
      "text/plain": [
       "<IPython.core.display.Math object>"
      ]
     },
     "metadata": {},
     "output_type": "display_data"
    },
    {
     "name": "stdout",
     "output_type": "stream",
     "text": [
      "H_bad_conductor_s_y =\n"
     ]
    },
    {
     "data": {
      "text/latex": [
       "$\\displaystyle x \\ {\\mapsto}\\ -\\frac{i \\, {\\left(i \\, k_{z} E_{{\\rm bad}_{{\\rm conductor}_{x}}}\\left(x\\right) - i \\, \\sqrt{-k_{z}^{2} + \\kappa^{2}} E_{{\\rm bad}_{{\\rm conductor}_{z}}}\\left(x\\right)\\right)} c}{\\mu \\omega}$"
      ],
      "text/plain": [
       "<IPython.core.display.Math object>"
      ]
     },
     "metadata": {},
     "output_type": "display_data"
    },
    {
     "name": "stdout",
     "output_type": "stream",
     "text": [
      "H_inner_vacuum_sol_y (x) \n"
     ]
    },
    {
     "data": {
      "text/latex": [
       "$\\displaystyle -\\frac{i \\, {\\left(i \\, \\mathit{A1}_{x} k_{z} e^{\\left(-i \\, \\sqrt{-k_{z}^{2} + \\kappa_{\\mathit{vacuum}}^{2}} x\\right)} + i \\, \\sqrt{-k_{z}^{2} + \\kappa_{\\mathit{vacuum}}^{2}} \\mathit{A1}_{z} e^{\\left(-i \\, \\sqrt{-k_{z}^{2} + \\kappa_{\\mathit{vacuum}}^{2}} x\\right)}\\right)} c}{\\omega}$"
      ],
      "text/plain": [
       "<IPython.core.display.Math object>"
      ]
     },
     "metadata": {},
     "output_type": "display_data"
    },
    {
     "name": "stdout",
     "output_type": "stream",
     "text": [
      "H_bad_conductor_sol_y (x) =\n"
     ]
    },
    {
     "data": {
      "text/latex": [
       "$\\displaystyle -\\frac{i \\, {\\left(i \\, \\mathit{B1}_{x} k_{z} e^{\\left(i \\, \\sqrt{-k_{z}^{2} + \\kappa^{2}} x\\right)} - i \\, \\sqrt{-k_{z}^{2} + \\kappa^{2}} \\mathit{B1}_{z} e^{\\left(i \\, \\sqrt{-k_{z}^{2} + \\kappa^{2}} x\\right)}\\right)} c}{\\mu \\omega}$"
      ],
      "text/plain": [
       "<IPython.core.display.Math object>"
      ]
     },
     "metadata": {},
     "output_type": "display_data"
    }
   ],
   "source": [
    "# выражения для магнитного поля в вакууме внутри резонатора и в проводящем металле с потерями\n",
    "# rot E = -1/c dB/dt\n",
    "# H_y = c / (I * omega * mu) * (diff(E_x, z) - diff(E_z, x))\n",
    "\n",
    "# H_inner_vacuum_y  (x) = c / (I * omega)      * (I*k_z*E_inner_vacuum_x  (x) - diff(E_inner_vacuum_z  (x), x))\n",
    "# H_bad_conductor_y (x) = c / (I * omega * mu) * (I*k_z*E_bad_conductor_x (x) - diff(E_bad_conductor_z (x), x))\n",
    "\n",
    "H_inner_vacuum_y  = c/(I*omega)   *(I*k_z*E_inner_vacuum_x (x) - diff(E_inner_vacuum_z (x), x))\n",
    "H_bad_conductor_y = c/(I*omega*mu)*(I*k_z*E_bad_conductor_x(x) - diff(E_bad_conductor_z(x), x))\n",
    "\n",
    "H_inner_vacuum_f_y  = function(\"H_inner_vacuum_y\")\n",
    "H_bad_conductor_f_y = function(\"H_bad_conductor_y\")\n",
    "\n",
    "H_inner_vacuum_y  = var(\"H_inner_vacuum_y\")\n",
    "H_bad_conductor_y = var(\"H_bad_conductor_y\")\n",
    "\n",
    "H_inner_vacuum_s_y  (x) = c/(I*omega)   *(I*k_z*E_inner_vacuum_x (x) - (-I*sqrt(kappa_vacuum^2-k_z^2))*E_inner_vacuum_z (x))\n",
    "H_bad_conductor_s_y (x) = c/(I*omega*mu)*(I*k_z*E_bad_conductor_x(x) -   I*sqrt(kappa       ^2-k_z^2) *E_bad_conductor_z(x))\n",
    "\n",
    "H_inner_vacuum_sol_y  (x) = c/(I*omega)   *(I*k_z*E_inner_vacuum_sol_x (x) - diff(E_inner_vacuum_sol_z (x), x))\n",
    "H_bad_conductor_sol_y (x) = c/(I*omega*mu)*(I*k_z*E_bad_conductor_sol_x(x) - diff(E_bad_conductor_sol_z(x), x))\n",
    "\n",
    "print (\"H_inner_vacuum_s_y \")\n",
    "display(Math(latex(H_inner_vacuum_s_y.simplify())))\n",
    "print (\"H_bad_conductor_s_y =\")\n",
    "display(Math(latex(H_bad_conductor_s_y)))\n",
    "\n",
    "print (\"H_inner_vacuum_sol_y (x) \")\n",
    "display(Math(latex(H_inner_vacuum_sol_y (x).simplify())))\n",
    "print (\"H_bad_conductor_sol_y (x) =\")\n",
    "display(Math(latex(H_bad_conductor_sol_y (x))))"
   ]
  },
  {
   "cell_type": "code",
   "execution_count": 15,
   "metadata": {},
   "outputs": [
    {
     "name": "stdout",
     "output_type": "stream",
     "text": [
      "H_inner_vacuum_s_x \n"
     ]
    },
    {
     "data": {
      "text/latex": [
       "$\\displaystyle x \\ {\\mapsto}\\ -\\frac{i \\, {\\left(-i \\, k_{z} E_{{\\rm inner}_{{\\rm vacuum}_{y}}}\\left(x\\right) + i \\, k_{y} E_{{\\rm inner}_{{\\rm vacuum}_{z}}}\\left(x\\right)\\right)} c}{\\omega}$"
      ],
      "text/plain": [
       "<IPython.core.display.Math object>"
      ]
     },
     "metadata": {},
     "output_type": "display_data"
    },
    {
     "name": "stdout",
     "output_type": "stream",
     "text": [
      "H_bad_conductor_s_x (x) =\n"
     ]
    },
    {
     "data": {
      "text/latex": [
       "$\\displaystyle x \\ {\\mapsto}\\ -\\frac{i \\, {\\left(-i \\, k_{z} E_{{\\rm bad}_{{\\rm conductor}_{y}}}\\left(x\\right) + i \\, k_{y} E_{{\\rm bad}_{{\\rm conductor}_{z}}}\\left(x\\right)\\right)} c}{\\mu \\omega}$"
      ],
      "text/plain": [
       "<IPython.core.display.Math object>"
      ]
     },
     "metadata": {},
     "output_type": "display_data"
    },
    {
     "name": "stdout",
     "output_type": "stream",
     "text": [
      "H_inner_vacuum_sol_x (x) \n"
     ]
    },
    {
     "data": {
      "text/latex": [
       "$\\displaystyle -\\frac{i \\, {\\left(i \\, \\mathit{A1}_{z} k_{y} e^{\\left(-i \\, \\sqrt{-k_{z}^{2} + \\kappa_{\\mathit{vacuum}}^{2}} x\\right)} - i \\, \\mathit{A1}_{y} k_{z} e^{\\left(-i \\, \\sqrt{-k_{z}^{2} + \\kappa_{\\mathit{vacuum}}^{2}} x\\right)}\\right)} c}{\\omega}$"
      ],
      "text/plain": [
       "<IPython.core.display.Math object>"
      ]
     },
     "metadata": {},
     "output_type": "display_data"
    },
    {
     "name": "stdout",
     "output_type": "stream",
     "text": [
      "H_bad_conductor_sol_x (x) =\n"
     ]
    },
    {
     "data": {
      "text/latex": [
       "$\\displaystyle -\\frac{i \\, {\\left(i \\, \\mathit{B1}_{z} k_{y} e^{\\left(i \\, \\sqrt{-k_{z}^{2} + \\kappa^{2}} x\\right)} - i \\, \\mathit{B1}_{y} k_{z} e^{\\left(i \\, \\sqrt{-k_{z}^{2} + \\kappa^{2}} x\\right)}\\right)} c}{\\mu \\omega}$"
      ],
      "text/plain": [
       "<IPython.core.display.Math object>"
      ]
     },
     "metadata": {},
     "output_type": "display_data"
    }
   ],
   "source": [
    "# выражения для магнитного поля в вакууме внутри резонатора и в проводящем металле с потерями\n",
    "# rot E = -1/c dB/dt\n",
    "# H_x = c / (I * omega * mu) * (diff(E_z, y) - diff(E_y, z))\n",
    "\n",
    "H_inner_vacuum_f_x  = function(\"H_inner_vacuum_x\")\n",
    "H_bad_conductor_f_x = function(\"H_bad_conductor_x\")\n",
    "\n",
    "H_inner_vacuum_x  = var(\"H_inner_vacuum_x\")\n",
    "H_bad_conductor_x = var(\"H_bad_conductor_x\")\n",
    "\n",
    "H_inner_vacuum_s_x(x)  = c/(I*omega)   *(I*k_y*E_inner_vacuum_z (x) - I*k_z*E_inner_vacuum_y (x))\n",
    "H_bad_conductor_s_x(x) = c/(I*omega*mu)*(I*k_y*E_bad_conductor_z(x) - I*k_z*E_bad_conductor_y(x))\n",
    "\n",
    "H_inner_vacuum_sol_x (x) = c/(I*omega)   *(I*k_y*E_inner_vacuum_sol_z (x) - I*k_z*E_inner_vacuum_sol_y (x))\n",
    "H_bad_conductor_sol_x(x) = c/(I*omega*mu)*(I*k_y*E_bad_conductor_sol_z(x) - I*k_z*E_bad_conductor_sol_y(x))\n",
    "\n",
    "print (\"H_inner_vacuum_s_x \")\n",
    "display(Math(latex(H_inner_vacuum_s_x.simplify())))\n",
    "print (\"H_bad_conductor_s_x (x) =\")\n",
    "display(Math(latex(H_bad_conductor_s_x)))\n",
    "\n",
    "print (\"H_inner_vacuum_sol_x (x) \")\n",
    "display(Math(latex(H_inner_vacuum_sol_x (x).simplify())))\n",
    "print (\"H_bad_conductor_sol_x (x) =\")\n",
    "display(Math(latex(H_bad_conductor_sol_x (x))))"
   ]
  },
  {
   "cell_type": "code",
   "execution_count": 16,
   "metadata": {},
   "outputs": [
    {
     "name": "stdout",
     "output_type": "stream",
     "text": [
      "H_inner_vacuum_s_z \n"
     ]
    },
    {
     "data": {
      "text/latex": [
       "$\\displaystyle x \\ {\\mapsto}\\ -\\frac{i \\, {\\left(-i \\, k_{y} E_{{\\rm inner}_{{\\rm vacuum}_{x}}}\\left(x\\right) - i \\, \\sqrt{-k_{z}^{2} + \\kappa_{\\mathit{vacuum}}^{2}} E_{{\\rm inner}_{{\\rm vacuum}_{y}}}\\left(x\\right)\\right)} c}{\\omega}$"
      ],
      "text/plain": [
       "<IPython.core.display.Math object>"
      ]
     },
     "metadata": {},
     "output_type": "display_data"
    },
    {
     "name": "stdout",
     "output_type": "stream",
     "text": [
      "H_bad_conductor_s_z =\n"
     ]
    },
    {
     "data": {
      "text/latex": [
       "$\\displaystyle x \\ {\\mapsto}\\ -\\frac{i \\, {\\left(-i \\, k_{y} E_{{\\rm bad}_{{\\rm conductor}_{x}}}\\left(x\\right) + i \\, \\sqrt{-k_{z}^{2} + \\kappa^{2}} E_{{\\rm bad}_{{\\rm conductor}_{y}}}\\left(x\\right)\\right)} c}{\\mu \\omega}$"
      ],
      "text/plain": [
       "<IPython.core.display.Math object>"
      ]
     },
     "metadata": {},
     "output_type": "display_data"
    },
    {
     "name": "stdout",
     "output_type": "stream",
     "text": [
      "H_inner_vacuum_sol_z (x) \n"
     ]
    },
    {
     "data": {
      "text/latex": [
       "$\\displaystyle -\\frac{i \\, {\\left(-i \\, \\mathit{A1}_{x} k_{y} e^{\\left(-i \\, \\sqrt{-k_{z}^{2} + \\kappa_{\\mathit{vacuum}}^{2}} x\\right)} - i \\, \\sqrt{-k_{z}^{2} + \\kappa_{\\mathit{vacuum}}^{2}} \\mathit{A1}_{y} e^{\\left(-i \\, \\sqrt{-k_{z}^{2} + \\kappa_{\\mathit{vacuum}}^{2}} x\\right)}\\right)} c}{\\omega}$"
      ],
      "text/plain": [
       "<IPython.core.display.Math object>"
      ]
     },
     "metadata": {},
     "output_type": "display_data"
    },
    {
     "name": "stdout",
     "output_type": "stream",
     "text": [
      "H_bad_conductor_sol_z (x) =\n"
     ]
    },
    {
     "data": {
      "text/latex": [
       "$\\displaystyle -\\frac{i \\, {\\left(-i \\, \\mathit{B1}_{x} k_{y} e^{\\left(i \\, \\sqrt{-k_{z}^{2} + \\kappa^{2}} x\\right)} + i \\, \\sqrt{-k_{z}^{2} + \\kappa^{2}} \\mathit{B1}_{y} e^{\\left(i \\, \\sqrt{-k_{z}^{2} + \\kappa^{2}} x\\right)}\\right)} c}{\\mu \\omega}$"
      ],
      "text/plain": [
       "<IPython.core.display.Math object>"
      ]
     },
     "metadata": {},
     "output_type": "display_data"
    }
   ],
   "source": [
    "# выражения для магнитного поля в вакууме внутри резонатора и в проводящем металле с потерями\n",
    "# rot E = -1/c dB/dt\n",
    "# H_z = c / (I * omega * mu) * (diff(E_y, x) - diff(E_x, y))\n",
    "\n",
    "H_inner_vacuum_z  = c / (I*omega)   *(diff(E_inner_vacuum_y (x), x) - I*k_y*E_inner_vacuum_x (x))\n",
    "H_bad_conductor_z = c / (I*omega*mu)*(diff(E_bad_conductor_y(x), x) - I*k_y*E_bad_conductor_x(x))\n",
    "\n",
    "H_inner_vacuum_f_z  = function(\"H_inner_vacuum_z\")\n",
    "H_bad_conductor_f_z = function(\"H_bad_conductor_z\")\n",
    "\n",
    "H_inner_vacuum_z  = var(\"H_inner_vacuum_z\")\n",
    "H_bad_conductor_z = var(\"H_bad_conductor_z\")\n",
    "\n",
    "H_inner_vacuum_s_z(x)  = c / (I*omega)   *(-I*sqrt(kappa_vacuum^2-k_z^2)*E_inner_vacuum_y (x) - I*k_y*E_inner_vacuum_x (x))\n",
    "H_bad_conductor_s_z(x) = c / (I*omega*mu)*( I*sqrt(kappa       ^2-k_z^2)*E_bad_conductor_y(x) - I*k_y*E_bad_conductor_x(x))\n",
    "\n",
    "H_inner_vacuum_sol_z  (x) = c / (I*omega)   *(diff(E_inner_vacuum_sol_y (x), x) - I*k_y*E_inner_vacuum_sol_x (x))\n",
    "H_bad_conductor_sol_z (x) = c / (I*omega*mu)*(diff(E_bad_conductor_sol_y(x), x) - I*k_y*E_bad_conductor_sol_x(x))\n",
    "\n",
    "print (\"H_inner_vacuum_s_z \")\n",
    "display(Math(latex(H_inner_vacuum_s_z.simplify())))\n",
    "print (\"H_bad_conductor_s_z =\")\n",
    "display(Math(latex(H_bad_conductor_s_z)))\n",
    "\n",
    "print (\"H_inner_vacuum_sol_z (x) \")\n",
    "display(Math(latex(H_inner_vacuum_sol_z (x).simplify())))\n",
    "print (\"H_bad_conductor_sol_z (x) =\")\n",
    "display(Math(latex(H_bad_conductor_sol_z (x))))"
   ]
  },
  {
   "cell_type": "code",
   "execution_count": 17,
   "metadata": {},
   "outputs": [
    {
     "name": "stdout",
     "output_type": "stream",
     "text": [
      "rot_H_inner_vacuum_x =\n"
     ]
    },
    {
     "data": {
      "text/latex": [
       "$\\displaystyle -i \\, k_{z} H_{{\\rm inner}_{{\\rm vacuum}_{y}}}\\left(x\\right) + i \\, k_{y} H_{{\\rm inner}_{{\\rm vacuum}_{z}}}\\left(x\\right)$"
      ],
      "text/plain": [
       "<IPython.core.display.Math object>"
      ]
     },
     "metadata": {},
     "output_type": "display_data"
    },
    {
     "name": "stdout",
     "output_type": "stream",
     "text": [
      "rot_H_bad_conductor_x =\n"
     ]
    },
    {
     "data": {
      "text/latex": [
       "$\\displaystyle -i \\, k_{z} H_{{\\rm bad}_{{\\rm conductor}_{y}}}\\left(x\\right) + i \\, k_{y} H_{{\\rm bad}_{{\\rm conductor}_{z}}}\\left(x\\right)$"
      ],
      "text/plain": [
       "<IPython.core.display.Math object>"
      ]
     },
     "metadata": {},
     "output_type": "display_data"
    },
    {
     "name": "stdout",
     "output_type": "stream",
     "text": [
      "rot_H_inner_vacuum_y =\n"
     ]
    },
    {
     "data": {
      "text/latex": [
       "$\\displaystyle i \\, k_{z} H_{{\\rm inner}_{{\\rm vacuum}_{x}}}\\left(x\\right) - \\frac{\\partial}{\\partial x}H_{{\\rm inner}_{{\\rm vacuum}_{z}}}\\left(x\\right)$"
      ],
      "text/plain": [
       "<IPython.core.display.Math object>"
      ]
     },
     "metadata": {},
     "output_type": "display_data"
    },
    {
     "name": "stdout",
     "output_type": "stream",
     "text": [
      "rot_H_bad_conductor_y =\n"
     ]
    },
    {
     "data": {
      "text/latex": [
       "$\\displaystyle i \\, k_{z} H_{{\\rm bad}_{{\\rm conductor}_{x}}}\\left(x\\right) - \\frac{\\partial}{\\partial x}H_{{\\rm bad}_{{\\rm conductor}_{z}}}\\left(x\\right)$"
      ],
      "text/plain": [
       "<IPython.core.display.Math object>"
      ]
     },
     "metadata": {},
     "output_type": "display_data"
    },
    {
     "name": "stdout",
     "output_type": "stream",
     "text": [
      "rot_H_inner_vacuum_z =\n"
     ]
    },
    {
     "data": {
      "text/latex": [
       "$\\displaystyle -i \\, k_{y} H_{{\\rm inner}_{{\\rm vacuum}_{x}}}\\left(x\\right) + \\frac{\\partial}{\\partial x}H_{{\\rm inner}_{{\\rm vacuum}_{y}}}\\left(x\\right)$"
      ],
      "text/plain": [
       "<IPython.core.display.Math object>"
      ]
     },
     "metadata": {},
     "output_type": "display_data"
    },
    {
     "name": "stdout",
     "output_type": "stream",
     "text": [
      "rot_H_bad_conductor_z =\n"
     ]
    },
    {
     "data": {
      "text/latex": [
       "$\\displaystyle -i \\, k_{y} H_{{\\rm bad}_{{\\rm conductor}_{x}}}\\left(x\\right) + \\frac{\\partial}{\\partial x}H_{{\\rm bad}_{{\\rm conductor}_{y}}}\\left(x\\right)$"
      ],
      "text/plain": [
       "<IPython.core.display.Math object>"
      ]
     },
     "metadata": {},
     "output_type": "display_data"
    },
    {
     "name": "stdout",
     "output_type": "stream",
     "text": [
      "rot_H_inner_vacuum_s_x =\n"
     ]
    },
    {
     "data": {
      "text/latex": [
       "$\\displaystyle x \\ {\\mapsto}\\ \\frac{{\\left(-i \\, k_{y} E_{{\\rm inner}_{{\\rm vacuum}_{x}}}\\left(x\\right) - i \\, \\sqrt{-k_{z}^{2} + \\kappa_{\\mathit{vacuum}}^{2}} E_{{\\rm inner}_{{\\rm vacuum}_{y}}}\\left(x\\right)\\right)} c k_{y}}{\\omega} - \\frac{{\\left(i \\, k_{z} E_{{\\rm inner}_{{\\rm vacuum}_{x}}}\\left(x\\right) + i \\, \\sqrt{-k_{z}^{2} + \\kappa_{\\mathit{vacuum}}^{2}} E_{{\\rm inner}_{{\\rm vacuum}_{z}}}\\left(x\\right)\\right)} c k_{z}}{\\omega}$"
      ],
      "text/plain": [
       "<IPython.core.display.Math object>"
      ]
     },
     "metadata": {},
     "output_type": "display_data"
    },
    {
     "name": "stdout",
     "output_type": "stream",
     "text": [
      "rot_H_bad_conductor_s_x =\n"
     ]
    },
    {
     "data": {
      "text/latex": [
       "$\\displaystyle x \\ {\\mapsto}\\ \\frac{{\\left(-i \\, k_{y} E_{{\\rm bad}_{{\\rm conductor}_{x}}}\\left(x\\right) + i \\, \\sqrt{-k_{z}^{2} + \\kappa^{2}} E_{{\\rm bad}_{{\\rm conductor}_{y}}}\\left(x\\right)\\right)} c k_{y}}{\\mu \\omega} - \\frac{{\\left(i \\, k_{z} E_{{\\rm bad}_{{\\rm conductor}_{x}}}\\left(x\\right) - i \\, \\sqrt{-k_{z}^{2} + \\kappa^{2}} E_{{\\rm bad}_{{\\rm conductor}_{z}}}\\left(x\\right)\\right)} c k_{z}}{\\mu \\omega}$"
      ],
      "text/plain": [
       "<IPython.core.display.Math object>"
      ]
     },
     "metadata": {},
     "output_type": "display_data"
    },
    {
     "name": "stdout",
     "output_type": "stream",
     "text": [
      "rot_H_inner_vacuum_s_y =\n"
     ]
    },
    {
     "data": {
      "text/latex": [
       "$\\displaystyle x \\ {\\mapsto}\\ \\frac{{\\left(-i \\, k_{z} E_{{\\rm inner}_{{\\rm vacuum}_{y}}}\\left(x\\right) + i \\, k_{y} E_{{\\rm inner}_{{\\rm vacuum}_{z}}}\\left(x\\right)\\right)} c k_{z}}{\\omega} + \\frac{\\sqrt{-k_{z}^{2} + \\kappa_{\\mathit{vacuum}}^{2}} {\\left(-i \\, k_{y} E_{{\\rm inner}_{{\\rm vacuum}_{x}}}\\left(x\\right) - i \\, \\sqrt{-k_{z}^{2} + \\kappa_{\\mathit{vacuum}}^{2}} E_{{\\rm inner}_{{\\rm vacuum}_{y}}}\\left(x\\right)\\right)} c}{\\omega}$"
      ],
      "text/plain": [
       "<IPython.core.display.Math object>"
      ]
     },
     "metadata": {},
     "output_type": "display_data"
    },
    {
     "name": "stdout",
     "output_type": "stream",
     "text": [
      "rot_H_bad_conductor_s_y =\n"
     ]
    },
    {
     "data": {
      "text/latex": [
       "$\\displaystyle x \\ {\\mapsto}\\ \\frac{{\\left(-i \\, k_{z} E_{{\\rm bad}_{{\\rm conductor}_{y}}}\\left(x\\right) + i \\, k_{y} E_{{\\rm bad}_{{\\rm conductor}_{z}}}\\left(x\\right)\\right)} c k_{z}}{\\mu \\omega} - \\frac{\\sqrt{-k_{z}^{2} + \\kappa^{2}} {\\left(-i \\, k_{y} E_{{\\rm bad}_{{\\rm conductor}_{x}}}\\left(x\\right) + i \\, \\sqrt{-k_{z}^{2} + \\kappa^{2}} E_{{\\rm bad}_{{\\rm conductor}_{y}}}\\left(x\\right)\\right)} c}{\\mu \\omega}$"
      ],
      "text/plain": [
       "<IPython.core.display.Math object>"
      ]
     },
     "metadata": {},
     "output_type": "display_data"
    },
    {
     "name": "stdout",
     "output_type": "stream",
     "text": [
      "rot_H_inner_vacuum_s_z =\n"
     ]
    },
    {
     "data": {
      "text/latex": [
       "$\\displaystyle x \\ {\\mapsto}\\ -\\frac{{\\left(-i \\, k_{z} E_{{\\rm inner}_{{\\rm vacuum}_{y}}}\\left(x\\right) + i \\, k_{y} E_{{\\rm inner}_{{\\rm vacuum}_{z}}}\\left(x\\right)\\right)} c k_{y}}{\\omega} - \\frac{\\sqrt{-k_{z}^{2} + \\kappa_{\\mathit{vacuum}}^{2}} {\\left(i \\, k_{z} E_{{\\rm inner}_{{\\rm vacuum}_{x}}}\\left(x\\right) + i \\, \\sqrt{-k_{z}^{2} + \\kappa_{\\mathit{vacuum}}^{2}} E_{{\\rm inner}_{{\\rm vacuum}_{z}}}\\left(x\\right)\\right)} c}{\\omega}$"
      ],
      "text/plain": [
       "<IPython.core.display.Math object>"
      ]
     },
     "metadata": {},
     "output_type": "display_data"
    },
    {
     "name": "stdout",
     "output_type": "stream",
     "text": [
      "rot_H_bad_conductor_s_z =\n"
     ]
    },
    {
     "data": {
      "text/latex": [
       "$\\displaystyle x \\ {\\mapsto}\\ -\\frac{{\\left(-i \\, k_{z} E_{{\\rm bad}_{{\\rm conductor}_{y}}}\\left(x\\right) + i \\, k_{y} E_{{\\rm bad}_{{\\rm conductor}_{z}}}\\left(x\\right)\\right)} c k_{y}}{\\mu \\omega} + \\frac{\\sqrt{-k_{z}^{2} + \\kappa^{2}} {\\left(i \\, k_{z} E_{{\\rm bad}_{{\\rm conductor}_{x}}}\\left(x\\right) - i \\, \\sqrt{-k_{z}^{2} + \\kappa^{2}} E_{{\\rm bad}_{{\\rm conductor}_{z}}}\\left(x\\right)\\right)} c}{\\mu \\omega}$"
      ],
      "text/plain": [
       "<IPython.core.display.Math object>"
      ]
     },
     "metadata": {},
     "output_type": "display_data"
    },
    {
     "name": "stdout",
     "output_type": "stream",
     "text": [
      "rot_H_inner_vacuum_sol_x =\n"
     ]
    },
    {
     "data": {
      "text/latex": [
       "$\\displaystyle \\frac{{\\left(-i \\, \\mathit{A1}_{x} k_{y} e^{\\left(-i \\, \\sqrt{-k_{z}^{2} + \\kappa_{\\mathit{vacuum}}^{2}} x\\right)} - i \\, \\sqrt{-k_{z}^{2} + \\kappa_{\\mathit{vacuum}}^{2}} \\mathit{A1}_{y} e^{\\left(-i \\, \\sqrt{-k_{z}^{2} + \\kappa_{\\mathit{vacuum}}^{2}} x\\right)}\\right)} c k_{y}}{\\omega} - \\frac{{\\left(i \\, \\mathit{A1}_{x} k_{z} e^{\\left(-i \\, \\sqrt{-k_{z}^{2} + \\kappa_{\\mathit{vacuum}}^{2}} x\\right)} + i \\, \\sqrt{-k_{z}^{2} + \\kappa_{\\mathit{vacuum}}^{2}} \\mathit{A1}_{z} e^{\\left(-i \\, \\sqrt{-k_{z}^{2} + \\kappa_{\\mathit{vacuum}}^{2}} x\\right)}\\right)} c k_{z}}{\\omega}$"
      ],
      "text/plain": [
       "<IPython.core.display.Math object>"
      ]
     },
     "metadata": {},
     "output_type": "display_data"
    },
    {
     "name": "stdout",
     "output_type": "stream",
     "text": [
      "rot_H_bad_conductor_sol_x =\n"
     ]
    },
    {
     "data": {
      "text/latex": [
       "$\\displaystyle \\frac{{\\left(-i \\, \\mathit{B1}_{x} k_{y} e^{\\left(i \\, \\sqrt{-k_{z}^{2} + \\kappa^{2}} x\\right)} + i \\, \\sqrt{-k_{z}^{2} + \\kappa^{2}} \\mathit{B1}_{y} e^{\\left(i \\, \\sqrt{-k_{z}^{2} + \\kappa^{2}} x\\right)}\\right)} c k_{y}}{\\mu \\omega} - \\frac{{\\left(i \\, \\mathit{B1}_{x} k_{z} e^{\\left(i \\, \\sqrt{-k_{z}^{2} + \\kappa^{2}} x\\right)} - i \\, \\sqrt{-k_{z}^{2} + \\kappa^{2}} \\mathit{B1}_{z} e^{\\left(i \\, \\sqrt{-k_{z}^{2} + \\kappa^{2}} x\\right)}\\right)} c k_{z}}{\\mu \\omega}$"
      ],
      "text/plain": [
       "<IPython.core.display.Math object>"
      ]
     },
     "metadata": {},
     "output_type": "display_data"
    },
    {
     "name": "stdout",
     "output_type": "stream",
     "text": [
      "rot_H_inner_vacuum_sol_y =\n"
     ]
    },
    {
     "data": {
      "text/latex": [
       "$\\displaystyle \\frac{{\\left(i \\, \\mathit{A1}_{z} k_{y} e^{\\left(-i \\, \\sqrt{-k_{z}^{2} + \\kappa_{\\mathit{vacuum}}^{2}} x\\right)} - i \\, \\mathit{A1}_{y} k_{z} e^{\\left(-i \\, \\sqrt{-k_{z}^{2} + \\kappa_{\\mathit{vacuum}}^{2}} x\\right)}\\right)} c k_{z}}{\\omega} - \\frac{i \\, {\\left(\\sqrt{-k_{z}^{2} + \\kappa_{\\mathit{vacuum}}^{2}} \\mathit{A1}_{x} k_{y} e^{\\left(-i \\, \\sqrt{-k_{z}^{2} + \\kappa_{\\mathit{vacuum}}^{2}} x\\right)} - {\\left(k_{z}^{2} - \\kappa_{\\mathit{vacuum}}^{2}\\right)} \\mathit{A1}_{y} e^{\\left(-i \\, \\sqrt{-k_{z}^{2} + \\kappa_{\\mathit{vacuum}}^{2}} x\\right)}\\right)} c}{\\omega}$"
      ],
      "text/plain": [
       "<IPython.core.display.Math object>"
      ]
     },
     "metadata": {},
     "output_type": "display_data"
    },
    {
     "name": "stdout",
     "output_type": "stream",
     "text": [
      "rot_H_bad_conductor_sol_y =\n"
     ]
    },
    {
     "data": {
      "text/latex": [
       "$\\displaystyle \\frac{{\\left(i \\, \\mathit{B1}_{z} k_{y} e^{\\left(i \\, \\sqrt{-k_{z}^{2} + \\kappa^{2}} x\\right)} - i \\, \\mathit{B1}_{y} k_{z} e^{\\left(i \\, \\sqrt{-k_{z}^{2} + \\kappa^{2}} x\\right)}\\right)} c k_{z}}{\\mu \\omega} + \\frac{i \\, {\\left(\\sqrt{-k_{z}^{2} + \\kappa^{2}} \\mathit{B1}_{x} k_{y} e^{\\left(i \\, \\sqrt{-k_{z}^{2} + \\kappa^{2}} x\\right)} + {\\left(k_{z}^{2} - \\kappa^{2}\\right)} \\mathit{B1}_{y} e^{\\left(i \\, \\sqrt{-k_{z}^{2} + \\kappa^{2}} x\\right)}\\right)} c}{\\mu \\omega}$"
      ],
      "text/plain": [
       "<IPython.core.display.Math object>"
      ]
     },
     "metadata": {},
     "output_type": "display_data"
    },
    {
     "name": "stdout",
     "output_type": "stream",
     "text": [
      "rot_H_inner_vacuum_sol_z =\n"
     ]
    },
    {
     "data": {
      "text/latex": [
       "$\\displaystyle -\\frac{{\\left(i \\, \\mathit{A1}_{z} k_{y} e^{\\left(-i \\, \\sqrt{-k_{z}^{2} + \\kappa_{\\mathit{vacuum}}^{2}} x\\right)} - i \\, \\mathit{A1}_{y} k_{z} e^{\\left(-i \\, \\sqrt{-k_{z}^{2} + \\kappa_{\\mathit{vacuum}}^{2}} x\\right)}\\right)} c k_{y}}{\\omega} - \\frac{i \\, {\\left(\\sqrt{-k_{z}^{2} + \\kappa_{\\mathit{vacuum}}^{2}} \\mathit{A1}_{x} k_{z} e^{\\left(-i \\, \\sqrt{-k_{z}^{2} + \\kappa_{\\mathit{vacuum}}^{2}} x\\right)} - {\\left(k_{z}^{2} - \\kappa_{\\mathit{vacuum}}^{2}\\right)} \\mathit{A1}_{z} e^{\\left(-i \\, \\sqrt{-k_{z}^{2} + \\kappa_{\\mathit{vacuum}}^{2}} x\\right)}\\right)} c}{\\omega}$"
      ],
      "text/plain": [
       "<IPython.core.display.Math object>"
      ]
     },
     "metadata": {},
     "output_type": "display_data"
    },
    {
     "name": "stdout",
     "output_type": "stream",
     "text": [
      "rot_H_bad_conductor_sol_z =\n"
     ]
    },
    {
     "data": {
      "text/latex": [
       "$\\displaystyle -\\frac{{\\left(i \\, \\mathit{B1}_{z} k_{y} e^{\\left(i \\, \\sqrt{-k_{z}^{2} + \\kappa^{2}} x\\right)} - i \\, \\mathit{B1}_{y} k_{z} e^{\\left(i \\, \\sqrt{-k_{z}^{2} + \\kappa^{2}} x\\right)}\\right)} c k_{y}}{\\mu \\omega} + \\frac{i \\, {\\left(\\sqrt{-k_{z}^{2} + \\kappa^{2}} \\mathit{B1}_{x} k_{z} e^{\\left(i \\, \\sqrt{-k_{z}^{2} + \\kappa^{2}} x\\right)} + {\\left(k_{z}^{2} - \\kappa^{2}\\right)} \\mathit{B1}_{z} e^{\\left(i \\, \\sqrt{-k_{z}^{2} + \\kappa^{2}} x\\right)}\\right)} c}{\\mu \\omega}$"
      ],
      "text/plain": [
       "<IPython.core.display.Math object>"
      ]
     },
     "metadata": {},
     "output_type": "display_data"
    }
   ],
   "source": [
    "# уравнение Максвелла для тока смещения\n",
    "# rot_H   = - I * epsilon * omega / c * E\n",
    "# rot_H_x = diff(H_z, y) - diff(H_y, z)\n",
    "# rot_H_y = diff(H_x, z) - diff(H_z, x)\n",
    "# rot_H_z = diff(H_y, x) - diff(H_x, y)\n",
    "\n",
    "# rot_H_x = diff(H_z, y) - diff(H_y, z)\n",
    "rot_H_inner_vacuum_x  = I*k_y*H_inner_vacuum_f_z(x)  - I*k_z*H_inner_vacuum_f_y(x)\n",
    "rot_H_bad_conductor_x = I*k_y*H_bad_conductor_f_z(x) - I*k_z*H_bad_conductor_f_y(x)\n",
    "\n",
    "# rot_H_y = diff(H_x, z) - diff(H_z, x)\n",
    "rot_H_inner_vacuum_y  = I*k_z*H_inner_vacuum_f_x(x)  - diff(H_inner_vacuum_f_z(x), x)\n",
    "rot_H_bad_conductor_y = I*k_z*H_bad_conductor_f_x(x) - diff(H_bad_conductor_f_z(x), x)\n",
    "\n",
    "# rot_H_z = diff(H_y, x) - diff(H_x, y)\n",
    "rot_H_inner_vacuum_z  = diff(H_inner_vacuum_f_y(x) , x) - I*k_y*H_inner_vacuum_f_x(x)\n",
    "rot_H_bad_conductor_z = diff(H_bad_conductor_f_y(x), x) - I*k_y*H_bad_conductor_f_x(x)\n",
    "\n",
    "# rot_H_x = diff(H_z, y) - diff(H_y, z)\n",
    "rot_H_inner_vacuum_s_x  = I*k_y*H_inner_vacuum_s_z  - I*k_z*H_inner_vacuum_s_y\n",
    "rot_H_bad_conductor_s_x = I*k_y*H_bad_conductor_s_z - I*k_z*H_bad_conductor_s_y\n",
    "\n",
    "# rot_H_y = diff(H_x, z) - diff(H_z, x)\n",
    "rot_H_inner_vacuum_s_y  = I*k_z*H_inner_vacuum_s_x  - diff(H_inner_vacuum_s_z, x)\n",
    "rot_H_bad_conductor_s_y = I*k_z*H_bad_conductor_s_x - diff(H_bad_conductor_s_z, x)\n",
    "\n",
    "#H_inner_vacuum_s_z(x)  = c / (I*omega)   *(-I*sqrt(kappa_vacuum^2-k^2)*E_inner_vacuum_y (x) - I*k_y*E_inner_vacuum_x (x))\n",
    "#H_bad_conductor_s_z(x) = c / (I*omega*mu)*( I*sqrt(kappa       ^2-k^2)*E_bad_conductor_y(x) - I*k_y*E_bad_conductor_x(x))\n",
    "\n",
    "#print(diff(H_inner_vacuum_s_z, x) \\\n",
    "#      .substitute_function(diff(E_inner_vacuum_y(x), x), - I*sqrt(-k^2 + kappa_vacuum^2) * E_inner_vacuum_y(x)) \\\n",
    "#      .substitute_function(diff(E_inner_vacuum_x(x), x), - I*sqrt(-k^2 + kappa_vacuum^2) * E_inner_vacuum_x(x))) \\\n",
    "\n",
    "rot_H_inner_vacuum_s_y  = I*k_z*H_inner_vacuum_s_x  - c / (I*omega)*(-I*sqrt(kappa_vacuum^2-k_z^2)*\n",
    "                                                                     (-I*sqrt(kappa_vacuum^2-k_z^2))*\n",
    "                                                                             E_inner_vacuum_y (x) \n",
    "                                                                     - I*k_y*(-I*sqrt(kappa_vacuum^2-k_z^2))*\n",
    "                                                                             E_inner_vacuum_x (x))\n",
    "\n",
    "rot_H_bad_conductor_s_y = I*k_z*H_bad_conductor_s_x - c / (I*omega*mu)*( I*sqrt(kappa^2-k_z^2)*\n",
    "                                                                         I*sqrt(kappa^2-k_z^2)*\n",
    "                                                                             E_bad_conductor_y(x) \n",
    "                                                                       - I*k_y*\n",
    "                                                                        I*sqrt(kappa^2-k_z^2)*\n",
    "                                                                        E_bad_conductor_x(x))\n",
    "\n",
    "# rot_H_y = diff(H_x, z) - diff(H_z, x)\n",
    "rot_H_inner_vacuum_s_y  = I*k_z*H_inner_vacuum_s_x  - (-I*sqrt(kappa_vacuum^2-k_z^2))*H_inner_vacuum_s_z \n",
    "rot_H_bad_conductor_s_y = I*k_z*H_bad_conductor_s_x - I*sqrt(kappa^2-k_z^2)*H_bad_conductor_s_z\n",
    "\n",
    "\n",
    "# rot_H_z = diff(H_y, x) - diff(H_x, y)\n",
    "rot_H_inner_vacuum_s_z  = diff(H_inner_vacuum_s_y , x) - I*k_y*H_inner_vacuum_s_x\n",
    "rot_H_bad_conductor_s_z = diff(H_bad_conductor_s_y, x) - I*k_y*H_bad_conductor_s_x\n",
    "\n",
    "rot_H_inner_vacuum_s_z  = -I*sqrt(kappa_vacuum^2-k_z^2)*H_inner_vacuum_s_y  - I*k_y*H_inner_vacuum_s_x\n",
    "rot_H_bad_conductor_s_z =  I*sqrt(kappa       ^2-k_z^2)*H_bad_conductor_s_y - I*k_y*H_bad_conductor_s_x\n",
    "\n",
    "\n",
    "# sol\n",
    "rot_H_inner_vacuum_sol_x  = I*k_y*H_inner_vacuum_sol_z (x) - I*k_z*H_inner_vacuum_sol_y (x)\n",
    "rot_H_bad_conductor_sol_x = I*k_y*H_bad_conductor_sol_z(x) - I*k_z*H_bad_conductor_sol_y(x)\n",
    "\n",
    "rot_H_inner_vacuum_sol_y  = I*k_z*H_inner_vacuum_sol_x (x) - diff(H_inner_vacuum_sol_z (x), x)\n",
    "rot_H_bad_conductor_sol_y = I*k_z*H_bad_conductor_sol_x(x) - diff(H_bad_conductor_sol_z(x), x)\n",
    "\n",
    "rot_H_inner_vacuum_sol_z  = diff(H_inner_vacuum_sol_y (x), x) - I*k_y*H_inner_vacuum_sol_x (x)\n",
    "rot_H_bad_conductor_sol_z = diff(H_bad_conductor_sol_y(x), x) - I*k_y*H_bad_conductor_sol_x(x)\n",
    "\n",
    "\n",
    "print (\"rot_H_inner_vacuum_x =\")\n",
    "display(Math(latex(rot_H_inner_vacuum_x)))\n",
    "print (\"rot_H_bad_conductor_x =\")\n",
    "display(Math(latex(rot_H_bad_conductor_x)))\n",
    "\n",
    "print (\"rot_H_inner_vacuum_y =\")\n",
    "display(Math(latex(rot_H_inner_vacuum_y)))\n",
    "print (\"rot_H_bad_conductor_y =\")\n",
    "display(Math(latex(rot_H_bad_conductor_y)))\n",
    "\n",
    "print (\"rot_H_inner_vacuum_z =\")\n",
    "display(Math(latex(rot_H_inner_vacuum_z)))\n",
    "print (\"rot_H_bad_conductor_z =\")\n",
    "display(Math(latex(rot_H_bad_conductor_z)))\n",
    "\n",
    "\n",
    "\n",
    "print (\"rot_H_inner_vacuum_s_x =\")\n",
    "display(Math(latex(rot_H_inner_vacuum_s_x)))\n",
    "print (\"rot_H_bad_conductor_s_x =\")\n",
    "display(Math(latex(rot_H_bad_conductor_s_x)))\n",
    "\n",
    "print (\"rot_H_inner_vacuum_s_y =\")\n",
    "display(Math(latex(rot_H_inner_vacuum_s_y)))\n",
    "print (\"rot_H_bad_conductor_s_y =\")\n",
    "display(Math(latex(rot_H_bad_conductor_s_y)))\n",
    "\n",
    "print (\"rot_H_inner_vacuum_s_z =\")\n",
    "display(Math(latex(rot_H_inner_vacuum_s_z)))\n",
    "print (\"rot_H_bad_conductor_s_z =\")\n",
    "display(Math(latex(rot_H_bad_conductor_s_z)))\n",
    "\n",
    "\n",
    "\n",
    "print (\"rot_H_inner_vacuum_sol_x =\")\n",
    "display(Math(latex(rot_H_inner_vacuum_sol_x)))\n",
    "print (\"rot_H_bad_conductor_sol_x =\")\n",
    "display(Math(latex(rot_H_bad_conductor_sol_x)))\n",
    "\n",
    "print (\"rot_H_inner_vacuum_sol_y =\")\n",
    "display(Math(latex(rot_H_inner_vacuum_sol_y)))\n",
    "print (\"rot_H_bad_conductor_sol_y =\")\n",
    "display(Math(latex(rot_H_bad_conductor_sol_y)))\n",
    "\n",
    "print (\"rot_H_inner_vacuum_sol_z =\")\n",
    "display(Math(latex(rot_H_inner_vacuum_sol_z)))\n",
    "print (\"rot_H_bad_conductor_sol_z =\")\n",
    "display(Math(latex(rot_H_bad_conductor_sol_z)))"
   ]
  },
  {
   "cell_type": "code",
   "execution_count": 18,
   "metadata": {},
   "outputs": [],
   "source": [
    "eq_rot_H_inner_vacuum_sol_x  = rot_H_inner_vacuum_sol_x  == -I*omega/c*E_inner_vacuum_sol_x(x)\n",
    "eq_rot_H_inner_vacuum_sol_y  = rot_H_inner_vacuum_sol_y  == -I*omega/c*E_inner_vacuum_sol_y(x)\n",
    "eq_rot_H_inner_vacuum_sol_z  = rot_H_inner_vacuum_sol_z  == -I*omega/c*E_inner_vacuum_sol_z(x)\n",
    "\n",
    "eq_rot_H_bad_conductor_sol_x = rot_H_bad_conductor_sol_x == -I*omega/c*epsilon*E_bad_conductor_sol_x(x)\n",
    "eq_rot_H_bad_conductor_sol_y = rot_H_bad_conductor_sol_y == -I*omega/c*epsilon*E_bad_conductor_sol_y(x)\n",
    "eq_rot_H_bad_conductor_sol_z = rot_H_bad_conductor_sol_z == -I*omega/c*epsilon*E_bad_conductor_sol_z(x)"
   ]
  },
  {
   "cell_type": "code",
   "execution_count": 19,
   "metadata": {},
   "outputs": [],
   "source": [
    "eq_rot_H_inner_vacuum_s_x  = rot_H_inner_vacuum_s_x  == -I*omega/c*E_inner_vacuum_x(x)\n",
    "eq_rot_H_inner_vacuum_s_y  = rot_H_inner_vacuum_s_y  == -I*omega/c*E_inner_vacuum_y(x)\n",
    "eq_rot_H_inner_vacuum_s_z  = rot_H_inner_vacuum_s_z  == -I*omega/c*E_inner_vacuum_z(x)\n",
    "\n",
    "eq_rot_H_bad_conductor_s_x = rot_H_bad_conductor_s_x == -I*omega/c*epsilon*E_bad_conductor_x(x)\n",
    "eq_rot_H_bad_conductor_s_y = rot_H_bad_conductor_s_y == -I*omega/c*epsilon*E_bad_conductor_y(x)\n",
    "eq_rot_H_bad_conductor_s_z = rot_H_bad_conductor_s_z == -I*omega/c*epsilon*E_bad_conductor_z(x)"
   ]
  },
  {
   "cell_type": "code",
   "execution_count": 20,
   "metadata": {},
   "outputs": [],
   "source": [
    "eq_rot_H_inner_vacuum_x  = rot_H_inner_vacuum_x  == -I*omega/c*E_inner_vacuum_x(x)\n",
    "eq_rot_H_inner_vacuum_y  = rot_H_inner_vacuum_y  == -I*omega/c*E_inner_vacuum_y(x)\n",
    "eq_rot_H_inner_vacuum_z  = rot_H_inner_vacuum_z  == -I*omega/c*E_inner_vacuum_z(x)\n",
    "\n",
    "eq_rot_H_bad_conductor_x = rot_H_bad_conductor_x == -I*omega/c*epsilon*E_bad_conductor_x(x)\n",
    "eq_rot_H_bad_conductor_y = rot_H_bad_conductor_y == -I*omega/c*epsilon*E_bad_conductor_y(x)\n",
    "eq_rot_H_bad_conductor_z = rot_H_bad_conductor_z == -I*omega/c*epsilon*E_bad_conductor_z(x)"
   ]
  },
  {
   "cell_type": "code",
   "execution_count": 21,
   "metadata": {},
   "outputs": [
    {
     "name": "stdout",
     "output_type": "stream",
     "text": [
      "eq_rot_H_inner_vacuum_s_x =\n"
     ]
    },
    {
     "data": {
      "text/latex": [
       "$\\displaystyle x \\ {\\mapsto}\\ \\frac{{\\left(-i \\, k_{y} E_{{\\rm inner}_{{\\rm vacuum}_{x}}}\\left(x\\right) - i \\, \\sqrt{-k_{z}^{2} + \\kappa_{\\mathit{vacuum}}^{2}} E_{{\\rm inner}_{{\\rm vacuum}_{y}}}\\left(x\\right)\\right)} c k_{y}}{\\omega} - \\frac{{\\left(i \\, k_{z} E_{{\\rm inner}_{{\\rm vacuum}_{x}}}\\left(x\\right) + i \\, \\sqrt{-k_{z}^{2} + \\kappa_{\\mathit{vacuum}}^{2}} E_{{\\rm inner}_{{\\rm vacuum}_{z}}}\\left(x\\right)\\right)} c k_{z}}{\\omega} = -\\frac{i \\, \\omega E_{{\\rm inner}_{{\\rm vacuum}_{x}}}\\left(x\\right)}{c}$"
      ],
      "text/plain": [
       "<IPython.core.display.Math object>"
      ]
     },
     "metadata": {},
     "output_type": "display_data"
    },
    {
     "name": "stdout",
     "output_type": "stream",
     "text": [
      "eq_rot_H_inner_vacuum_s_y =\n"
     ]
    },
    {
     "data": {
      "text/latex": [
       "$\\displaystyle x \\ {\\mapsto}\\ \\frac{{\\left(-i \\, k_{z} E_{{\\rm inner}_{{\\rm vacuum}_{y}}}\\left(x\\right) + i \\, k_{y} E_{{\\rm inner}_{{\\rm vacuum}_{z}}}\\left(x\\right)\\right)} c k_{z}}{\\omega} + \\frac{\\sqrt{-k_{z}^{2} + \\kappa_{\\mathit{vacuum}}^{2}} {\\left(-i \\, k_{y} E_{{\\rm inner}_{{\\rm vacuum}_{x}}}\\left(x\\right) - i \\, \\sqrt{-k_{z}^{2} + \\kappa_{\\mathit{vacuum}}^{2}} E_{{\\rm inner}_{{\\rm vacuum}_{y}}}\\left(x\\right)\\right)} c}{\\omega} = -\\frac{i \\, \\omega E_{{\\rm inner}_{{\\rm vacuum}_{y}}}\\left(x\\right)}{c}$"
      ],
      "text/plain": [
       "<IPython.core.display.Math object>"
      ]
     },
     "metadata": {},
     "output_type": "display_data"
    },
    {
     "name": "stdout",
     "output_type": "stream",
     "text": [
      "eq_rot_H_inner_vacuum_s_z =\n"
     ]
    },
    {
     "data": {
      "text/latex": [
       "$\\displaystyle x \\ {\\mapsto}\\ -\\frac{{\\left(-i \\, k_{z} E_{{\\rm inner}_{{\\rm vacuum}_{y}}}\\left(x\\right) + i \\, k_{y} E_{{\\rm inner}_{{\\rm vacuum}_{z}}}\\left(x\\right)\\right)} c k_{y}}{\\omega} - \\frac{\\sqrt{-k_{z}^{2} + \\kappa_{\\mathit{vacuum}}^{2}} {\\left(i \\, k_{z} E_{{\\rm inner}_{{\\rm vacuum}_{x}}}\\left(x\\right) + i \\, \\sqrt{-k_{z}^{2} + \\kappa_{\\mathit{vacuum}}^{2}} E_{{\\rm inner}_{{\\rm vacuum}_{z}}}\\left(x\\right)\\right)} c}{\\omega} = -\\frac{i \\, \\omega E_{{\\rm inner}_{{\\rm vacuum}_{z}}}\\left(x\\right)}{c}$"
      ],
      "text/plain": [
       "<IPython.core.display.Math object>"
      ]
     },
     "metadata": {},
     "output_type": "display_data"
    }
   ],
   "source": [
    "print (\"eq_rot_H_inner_vacuum_s_x =\")\n",
    "display(Math(latex(eq_rot_H_inner_vacuum_s_x.simplify())))\n",
    "\n",
    "print (\"eq_rot_H_inner_vacuum_s_y =\")\n",
    "display(Math(latex(eq_rot_H_inner_vacuum_s_y.simplify())))\n",
    "\n",
    "print (\"eq_rot_H_inner_vacuum_s_z =\")\n",
    "display(Math(latex(eq_rot_H_inner_vacuum_s_z.simplify())))"
   ]
  },
  {
   "cell_type": "code",
   "execution_count": 22,
   "metadata": {},
   "outputs": [
    {
     "name": "stdout",
     "output_type": "stream",
     "text": [
      "eq_rot_H_inner_vacuum_sol_x =\n"
     ]
    },
    {
     "data": {
      "text/latex": [
       "$\\displaystyle \\frac{{\\left(-i \\, \\mathit{A1}_{x} k_{y} e^{\\left(-i \\, \\sqrt{-k_{z}^{2} + \\kappa_{\\mathit{vacuum}}^{2}} x\\right)} - i \\, \\sqrt{-k_{z}^{2} + \\kappa_{\\mathit{vacuum}}^{2}} \\mathit{A1}_{y} e^{\\left(-i \\, \\sqrt{-k_{z}^{2} + \\kappa_{\\mathit{vacuum}}^{2}} x\\right)}\\right)} c k_{y}}{\\omega} - \\frac{{\\left(i \\, \\mathit{A1}_{x} k_{z} e^{\\left(-i \\, \\sqrt{-k_{z}^{2} + \\kappa_{\\mathit{vacuum}}^{2}} x\\right)} + i \\, \\sqrt{-k_{z}^{2} + \\kappa_{\\mathit{vacuum}}^{2}} \\mathit{A1}_{z} e^{\\left(-i \\, \\sqrt{-k_{z}^{2} + \\kappa_{\\mathit{vacuum}}^{2}} x\\right)}\\right)} c k_{z}}{\\omega} = -\\frac{i \\, \\mathit{A1}_{x} \\omega e^{\\left(-i \\, \\sqrt{-k_{z}^{2} + \\kappa_{\\mathit{vacuum}}^{2}} x\\right)}}{c}$"
      ],
      "text/plain": [
       "<IPython.core.display.Math object>"
      ]
     },
     "metadata": {},
     "output_type": "display_data"
    },
    {
     "name": "stdout",
     "output_type": "stream",
     "text": [
      "eq_rot_H_inner_vacuum_sol_y =\n"
     ]
    },
    {
     "data": {
      "text/latex": [
       "$\\displaystyle \\frac{{\\left(i \\, \\mathit{A1}_{z} k_{y} e^{\\left(-i \\, \\sqrt{-k_{z}^{2} + \\kappa_{\\mathit{vacuum}}^{2}} x\\right)} - i \\, \\mathit{A1}_{y} k_{z} e^{\\left(-i \\, \\sqrt{-k_{z}^{2} + \\kappa_{\\mathit{vacuum}}^{2}} x\\right)}\\right)} c k_{z}}{\\omega} - \\frac{i \\, {\\left(\\sqrt{-k_{z}^{2} + \\kappa_{\\mathit{vacuum}}^{2}} \\mathit{A1}_{x} k_{y} e^{\\left(-i \\, \\sqrt{-k_{z}^{2} + \\kappa_{\\mathit{vacuum}}^{2}} x\\right)} - {\\left(k_{z}^{2} - \\kappa_{\\mathit{vacuum}}^{2}\\right)} \\mathit{A1}_{y} e^{\\left(-i \\, \\sqrt{-k_{z}^{2} + \\kappa_{\\mathit{vacuum}}^{2}} x\\right)}\\right)} c}{\\omega} = -\\frac{i \\, \\mathit{A1}_{y} \\omega e^{\\left(-i \\, \\sqrt{-k_{z}^{2} + \\kappa_{\\mathit{vacuum}}^{2}} x\\right)}}{c}$"
      ],
      "text/plain": [
       "<IPython.core.display.Math object>"
      ]
     },
     "metadata": {},
     "output_type": "display_data"
    },
    {
     "name": "stdout",
     "output_type": "stream",
     "text": [
      "eq_rot_H_inner_vacuum_sol_z =\n"
     ]
    },
    {
     "data": {
      "text/latex": [
       "$\\displaystyle -\\frac{{\\left(i \\, \\mathit{A1}_{z} k_{y} e^{\\left(-i \\, \\sqrt{-k_{z}^{2} + \\kappa_{\\mathit{vacuum}}^{2}} x\\right)} - i \\, \\mathit{A1}_{y} k_{z} e^{\\left(-i \\, \\sqrt{-k_{z}^{2} + \\kappa_{\\mathit{vacuum}}^{2}} x\\right)}\\right)} c k_{y}}{\\omega} - \\frac{i \\, {\\left(\\sqrt{-k_{z}^{2} + \\kappa_{\\mathit{vacuum}}^{2}} \\mathit{A1}_{x} k_{z} e^{\\left(-i \\, \\sqrt{-k_{z}^{2} + \\kappa_{\\mathit{vacuum}}^{2}} x\\right)} - {\\left(k_{z}^{2} - \\kappa_{\\mathit{vacuum}}^{2}\\right)} \\mathit{A1}_{z} e^{\\left(-i \\, \\sqrt{-k_{z}^{2} + \\kappa_{\\mathit{vacuum}}^{2}} x\\right)}\\right)} c}{\\omega} = -\\frac{i \\, \\mathit{A1}_{z} \\omega e^{\\left(-i \\, \\sqrt{-k_{z}^{2} + \\kappa_{\\mathit{vacuum}}^{2}} x\\right)}}{c}$"
      ],
      "text/plain": [
       "<IPython.core.display.Math object>"
      ]
     },
     "metadata": {},
     "output_type": "display_data"
    }
   ],
   "source": [
    "print (\"eq_rot_H_inner_vacuum_sol_x =\")\n",
    "display(Math(latex(eq_rot_H_inner_vacuum_sol_x.simplify())))\n",
    "\n",
    "print (\"eq_rot_H_inner_vacuum_sol_y =\")\n",
    "display(Math(latex(eq_rot_H_inner_vacuum_sol_y.simplify())))\n",
    "\n",
    "print (\"eq_rot_H_inner_vacuum_sol_z =\")\n",
    "display(Math(latex(eq_rot_H_inner_vacuum_sol_z.simplify())))"
   ]
  },
  {
   "cell_type": "code",
   "execution_count": 23,
   "metadata": {},
   "outputs": [
    {
     "name": "stdout",
     "output_type": "stream",
     "text": [
      "eq_rot_H_inner_vacuum_x =\n"
     ]
    },
    {
     "data": {
      "text/latex": [
       "$\\displaystyle -i \\, k_{z} H_{{\\rm inner}_{{\\rm vacuum}_{y}}}\\left(x\\right) + i \\, k_{y} H_{{\\rm inner}_{{\\rm vacuum}_{z}}}\\left(x\\right) = -\\frac{i \\, \\omega E_{{\\rm inner}_{{\\rm vacuum}_{x}}}\\left(x\\right)}{c}$"
      ],
      "text/plain": [
       "<IPython.core.display.Math object>"
      ]
     },
     "metadata": {},
     "output_type": "display_data"
    },
    {
     "name": "stdout",
     "output_type": "stream",
     "text": [
      "eq_rot_H_inner_vacuum_y =\n"
     ]
    },
    {
     "data": {
      "text/latex": [
       "$\\displaystyle i \\, k_{z} H_{{\\rm inner}_{{\\rm vacuum}_{x}}}\\left(x\\right) - \\frac{\\partial}{\\partial x}H_{{\\rm inner}_{{\\rm vacuum}_{z}}}\\left(x\\right) = -\\frac{i \\, \\omega E_{{\\rm inner}_{{\\rm vacuum}_{y}}}\\left(x\\right)}{c}$"
      ],
      "text/plain": [
       "<IPython.core.display.Math object>"
      ]
     },
     "metadata": {},
     "output_type": "display_data"
    },
    {
     "name": "stdout",
     "output_type": "stream",
     "text": [
      "eq_rot_H_inner_vacuum_z =\n"
     ]
    },
    {
     "data": {
      "text/latex": [
       "$\\displaystyle -i \\, k_{y} H_{{\\rm inner}_{{\\rm vacuum}_{x}}}\\left(x\\right) + \\frac{\\partial}{\\partial x}H_{{\\rm inner}_{{\\rm vacuum}_{y}}}\\left(x\\right) = -\\frac{i \\, \\omega E_{{\\rm inner}_{{\\rm vacuum}_{z}}}\\left(x\\right)}{c}$"
      ],
      "text/plain": [
       "<IPython.core.display.Math object>"
      ]
     },
     "metadata": {},
     "output_type": "display_data"
    }
   ],
   "source": [
    "print (\"eq_rot_H_inner_vacuum_x =\")\n",
    "display(Math(latex(eq_rot_H_inner_vacuum_x.simplify())))\n",
    "\n",
    "print (\"eq_rot_H_inner_vacuum_y =\")\n",
    "display(Math(latex(eq_rot_H_inner_vacuum_y.simplify())))\n",
    "\n",
    "print (\"eq_rot_H_inner_vacuum_z =\")\n",
    "display(Math(latex(eq_rot_H_inner_vacuum_z.simplify())))"
   ]
  },
  {
   "cell_type": "code",
   "execution_count": 24,
   "metadata": {},
   "outputs": [
    {
     "name": "stdout",
     "output_type": "stream",
     "text": [
      "eq_rot_H_bad_conductor_sol_x =\n"
     ]
    },
    {
     "data": {
      "text/latex": [
       "$\\displaystyle \\frac{{\\left(-i \\, \\mathit{B1}_{x} k_{y} e^{\\left(i \\, \\sqrt{-k_{z}^{2} + \\kappa^{2}} x\\right)} + i \\, \\sqrt{-k_{z}^{2} + \\kappa^{2}} \\mathit{B1}_{y} e^{\\left(i \\, \\sqrt{-k_{z}^{2} + \\kappa^{2}} x\\right)}\\right)} c k_{y}}{\\mu \\omega} - \\frac{{\\left(i \\, \\mathit{B1}_{x} k_{z} e^{\\left(i \\, \\sqrt{-k_{z}^{2} + \\kappa^{2}} x\\right)} - i \\, \\sqrt{-k_{z}^{2} + \\kappa^{2}} \\mathit{B1}_{z} e^{\\left(i \\, \\sqrt{-k_{z}^{2} + \\kappa^{2}} x\\right)}\\right)} c k_{z}}{\\mu \\omega} = -\\frac{i \\, \\mathit{B1}_{x} \\epsilon \\omega e^{\\left(i \\, \\sqrt{-k_{z}^{2} + \\kappa^{2}} x\\right)}}{c}$"
      ],
      "text/plain": [
       "<IPython.core.display.Math object>"
      ]
     },
     "metadata": {},
     "output_type": "display_data"
    },
    {
     "name": "stdout",
     "output_type": "stream",
     "text": [
      "eq_rot_H_bad_conductor_sol_y =\n"
     ]
    },
    {
     "data": {
      "text/latex": [
       "$\\displaystyle \\frac{{\\left(i \\, \\mathit{B1}_{z} k_{y} e^{\\left(i \\, \\sqrt{-k_{z}^{2} + \\kappa^{2}} x\\right)} - i \\, \\mathit{B1}_{y} k_{z} e^{\\left(i \\, \\sqrt{-k_{z}^{2} + \\kappa^{2}} x\\right)}\\right)} c k_{z}}{\\mu \\omega} + \\frac{i \\, {\\left(\\sqrt{-k_{z}^{2} + \\kappa^{2}} \\mathit{B1}_{x} k_{y} e^{\\left(i \\, \\sqrt{-k_{z}^{2} + \\kappa^{2}} x\\right)} + {\\left(k_{z}^{2} - \\kappa^{2}\\right)} \\mathit{B1}_{y} e^{\\left(i \\, \\sqrt{-k_{z}^{2} + \\kappa^{2}} x\\right)}\\right)} c}{\\mu \\omega} = -\\frac{i \\, \\mathit{B1}_{y} \\epsilon \\omega e^{\\left(i \\, \\sqrt{-k_{z}^{2} + \\kappa^{2}} x\\right)}}{c}$"
      ],
      "text/plain": [
       "<IPython.core.display.Math object>"
      ]
     },
     "metadata": {},
     "output_type": "display_data"
    },
    {
     "name": "stdout",
     "output_type": "stream",
     "text": [
      "eq_rot_H_bad_conductor_sol_z =\n"
     ]
    },
    {
     "data": {
      "text/latex": [
       "$\\displaystyle -\\frac{{\\left(i \\, \\mathit{B1}_{z} k_{y} e^{\\left(i \\, \\sqrt{-k_{z}^{2} + \\kappa^{2}} x\\right)} - i \\, \\mathit{B1}_{y} k_{z} e^{\\left(i \\, \\sqrt{-k_{z}^{2} + \\kappa^{2}} x\\right)}\\right)} c k_{y}}{\\mu \\omega} + \\frac{i \\, {\\left(\\sqrt{-k_{z}^{2} + \\kappa^{2}} \\mathit{B1}_{x} k_{z} e^{\\left(i \\, \\sqrt{-k_{z}^{2} + \\kappa^{2}} x\\right)} + {\\left(k_{z}^{2} - \\kappa^{2}\\right)} \\mathit{B1}_{z} e^{\\left(i \\, \\sqrt{-k_{z}^{2} + \\kappa^{2}} x\\right)}\\right)} c}{\\mu \\omega} = -\\frac{i \\, \\mathit{B1}_{z} \\epsilon \\omega e^{\\left(i \\, \\sqrt{-k_{z}^{2} + \\kappa^{2}} x\\right)}}{c}$"
      ],
      "text/plain": [
       "<IPython.core.display.Math object>"
      ]
     },
     "metadata": {},
     "output_type": "display_data"
    }
   ],
   "source": [
    "print (\"eq_rot_H_bad_conductor_sol_x =\")\n",
    "display(Math(latex(eq_rot_H_bad_conductor_sol_x.simplify())))\n",
    "\n",
    "print (\"eq_rot_H_bad_conductor_sol_y =\")\n",
    "display(Math(latex(eq_rot_H_bad_conductor_sol_y.simplify())))\n",
    "\n",
    "print (\"eq_rot_H_bad_conductor_sol_z =\")\n",
    "display(Math(latex(eq_rot_H_bad_conductor_sol_z.simplify())))"
   ]
  },
  {
   "cell_type": "code",
   "execution_count": 25,
   "metadata": {},
   "outputs": [
    {
     "name": "stdout",
     "output_type": "stream",
     "text": [
      "eq_rot_H_bad_conductor_x =\n"
     ]
    },
    {
     "data": {
      "text/latex": [
       "$\\displaystyle -i \\, k_{z} H_{{\\rm bad}_{{\\rm conductor}_{y}}}\\left(x\\right) + i \\, k_{y} H_{{\\rm bad}_{{\\rm conductor}_{z}}}\\left(x\\right) = -\\frac{i \\, \\epsilon \\omega E_{{\\rm bad}_{{\\rm conductor}_{x}}}\\left(x\\right)}{c}$"
      ],
      "text/plain": [
       "<IPython.core.display.Math object>"
      ]
     },
     "metadata": {},
     "output_type": "display_data"
    },
    {
     "name": "stdout",
     "output_type": "stream",
     "text": [
      "eq_rot_H_bad_conductor_y =\n"
     ]
    },
    {
     "data": {
      "text/latex": [
       "$\\displaystyle i \\, k_{z} H_{{\\rm bad}_{{\\rm conductor}_{x}}}\\left(x\\right) - \\frac{\\partial}{\\partial x}H_{{\\rm bad}_{{\\rm conductor}_{z}}}\\left(x\\right) = -\\frac{i \\, \\epsilon \\omega E_{{\\rm bad}_{{\\rm conductor}_{y}}}\\left(x\\right)}{c}$"
      ],
      "text/plain": [
       "<IPython.core.display.Math object>"
      ]
     },
     "metadata": {},
     "output_type": "display_data"
    },
    {
     "name": "stdout",
     "output_type": "stream",
     "text": [
      "eq_rot_H_bad_conductor_z =\n"
     ]
    },
    {
     "data": {
      "text/latex": [
       "$\\displaystyle -i \\, k_{y} H_{{\\rm bad}_{{\\rm conductor}_{x}}}\\left(x\\right) + \\frac{\\partial}{\\partial x}H_{{\\rm bad}_{{\\rm conductor}_{y}}}\\left(x\\right) = -\\frac{i \\, \\epsilon \\omega E_{{\\rm bad}_{{\\rm conductor}_{z}}}\\left(x\\right)}{c}$"
      ],
      "text/plain": [
       "<IPython.core.display.Math object>"
      ]
     },
     "metadata": {},
     "output_type": "display_data"
    }
   ],
   "source": [
    "print (\"eq_rot_H_bad_conductor_x =\")\n",
    "display(Math(latex(eq_rot_H_bad_conductor_x.simplify())))\n",
    "\n",
    "print (\"eq_rot_H_bad_conductor_y =\")\n",
    "display(Math(latex(eq_rot_H_bad_conductor_y.simplify())))\n",
    "\n",
    "print (\"eq_rot_H_bad_conductor_z =\")\n",
    "display(Math(latex(eq_rot_H_bad_conductor_z.simplify())))"
   ]
  },
  {
   "cell_type": "code",
   "execution_count": 26,
   "metadata": {},
   "outputs": [
    {
     "name": "stdout",
     "output_type": "stream",
     "text": [
      "eq_rot_H_inner_vacuum_x =\n"
     ]
    },
    {
     "data": {
      "text/latex": [
       "$\\displaystyle \\left[E_{{\\rm inner}_{{\\rm vacuum}_{x}}}\\left(x\\right) = \\frac{k_{z} H_{{\\rm inner}_{{\\rm vacuum}_{y}}}\\left(x\\right) - k_{y} H_{{\\rm inner}_{{\\rm vacuum}_{z}}}\\left(x\\right)}{\\kappa_{\\mathit{vacuum}}}\\right]$"
      ],
      "text/plain": [
       "<IPython.core.display.Math object>"
      ]
     },
     "metadata": {},
     "output_type": "display_data"
    },
    {
     "name": "stdout",
     "output_type": "stream",
     "text": [
      "H_inner_vacuum_y  (x) =\n"
     ]
    },
    {
     "data": {
      "text/latex": [
       "$\\displaystyle H_{\\mathit{inner}_{\\mathit{vacuum}_{y}}}$"
      ],
      "text/plain": [
       "<IPython.core.display.Math object>"
      ]
     },
     "metadata": {},
     "output_type": "display_data"
    },
    {
     "name": "stdout",
     "output_type": "stream",
     "text": [
      "eq_rot_H_bad_conductor_x =\n"
     ]
    },
    {
     "data": {
      "text/latex": [
       "$\\displaystyle \\left[E_{{\\rm bad}_{{\\rm conductor}_{x}}}\\left(x\\right) = \\frac{\\sqrt{\\epsilon \\mu} k_{z} H_{{\\rm bad}_{{\\rm conductor}_{y}}}\\left(x\\right) - \\sqrt{\\epsilon \\mu} k_{y} H_{{\\rm bad}_{{\\rm conductor}_{z}}}\\left(x\\right)}{\\epsilon \\kappa}\\right]$"
      ],
      "text/plain": [
       "<IPython.core.display.Math object>"
      ]
     },
     "metadata": {},
     "output_type": "display_data"
    },
    {
     "name": "stdout",
     "output_type": "stream",
     "text": [
      "H_bad_conductor_y (x) =\n"
     ]
    },
    {
     "data": {
      "text/latex": [
       "$\\displaystyle H_{\\mathit{bad}_{\\mathit{conductor}_{y}}}$"
      ],
      "text/plain": [
       "<IPython.core.display.Math object>"
      ]
     },
     "metadata": {},
     "output_type": "display_data"
    }
   ],
   "source": [
    "print (\"eq_rot_H_inner_vacuum_x =\")\n",
    "eq_rot_H_inner_vacuum_x_subs = eq_rot_H_inner_vacuum_x.subs(omega==c*kappa_vacuum/sqrt(epsilon_0*mu_0))\n",
    "eq_rot_H_inner_vacuum_x_subs_solve = solve(eq_rot_H_inner_vacuum_x_subs, E_inner_vacuum_x(x))\n",
    "display(Math(latex(eq_rot_H_inner_vacuum_x_subs_solve)))\n",
    "\n",
    "print (\"H_inner_vacuum_y  (x) =\")\n",
    "H_inner_vacuum_subs_y = H_inner_vacuum_y.subs(omega==c*kappa_vacuum/sqrt(epsilon_0*mu_0), eq_rot_H_inner_vacuum_x_subs_solve)\n",
    "display(Math(latex(H_inner_vacuum_subs_y)))\n",
    "\n",
    "print (\"eq_rot_H_bad_conductor_x =\")\n",
    "eq_rot_H_bad_conductor_x_subs = eq_rot_H_bad_conductor_x.subs(omega==c*kappa/sqrt(epsilon*mu))\n",
    "eq_rot_H_bad_conductor_x_subs_solve = solve(eq_rot_H_bad_conductor_x_subs, E_bad_conductor_x(x))\n",
    "display(Math(latex(eq_rot_H_bad_conductor_x_subs_solve)))\n",
    "\n",
    "print (\"H_bad_conductor_y (x) =\")\n",
    "H_bad_conductor_subs_y = H_bad_conductor_y.subs(omega==c*kappa/sqrt(epsilon*mu), eq_rot_H_bad_conductor_x_subs_solve)\n",
    "display(Math(latex(H_bad_conductor_subs_y)))"
   ]
  },
  {
   "cell_type": "code",
   "execution_count": 27,
   "metadata": {},
   "outputs": [
    {
     "data": {
      "text/latex": [
       "$\\displaystyle \\left[\\kappa_{\\mathit{vacuum}} = -\\frac{\\omega}{c}, \\kappa_{\\mathit{vacuum}} = \\frac{\\omega}{c}\\right]$"
      ],
      "text/plain": [
       "<IPython.core.display.Math object>"
      ]
     },
     "metadata": {},
     "output_type": "display_data"
    }
   ],
   "source": [
    "res = solve(eq_kappa_inner_vacuum, kappa_vacuum)\n",
    "display(Math(latex(res)))"
   ]
  },
  {
   "cell_type": "code",
   "execution_count": 28,
   "metadata": {},
   "outputs": [
    {
     "data": {
      "text/plain": [
       "A1_z*e^(I*sqrt(-k_z^2 + kappa_vacuum^2)*a)"
      ]
     },
     "execution_count": 28,
     "metadata": {},
     "output_type": "execute_result"
    }
   ],
   "source": [
    "E_inner_vacuum_sol_z(-a)"
   ]
  },
  {
   "cell_type": "code",
   "execution_count": null,
   "metadata": {},
   "outputs": [],
   "source": []
  },
  {
   "cell_type": "code",
   "execution_count": 29,
   "metadata": {},
   "outputs": [],
   "source": [
    "# выражения для электрического поля\n",
    "# в вакууме внутри резонатора \n",
    "#    E_inner_vacuum_z (x) = A1_z_re*cos(sqrt(kappa_vacuum^2-k_z^2)*x) + A1_z_im*sin(sqrt(kappa_vacuum^2-k_z^2)*x)\n",
    "#    E_inner_vacuum_x (x) = A1_x_re*cos(sqrt(kappa_vacuum^2-k_z^2)*x) + A1_x_im*sin(sqrt(kappa_vacuum^2-k_z^2)*x)\n",
    "#    E_inner_vacuum_y (x) = A1_y_re*cos(sqrt(kappa_vacuum^2-k_z^2)*x) + A1_y_im*sin(sqrt(kappa_vacuum^2-k_z^2)*x)\n"
   ]
  },
  {
   "cell_type": "code",
   "execution_count": null,
   "metadata": {},
   "outputs": [],
   "source": []
  },
  {
   "cell_type": "code",
   "execution_count": 30,
   "metadata": {},
   "outputs": [
    {
     "name": "stdout",
     "output_type": "stream",
     "text": [
      "eqEz_0 = \n"
     ]
    },
    {
     "data": {
      "text/latex": [
       "$\\displaystyle \\mathit{A1}_{z_{\\mathit{re}}} \\cos\\left(\\sqrt{-k_{z}^{2} + \\kappa_{\\mathit{vacuum}}^{2}} x\\right) + \\mathit{A1}_{z_{\\mathit{im}}} \\sin\\left(\\sqrt{-k_{z}^{2} + \\kappa_{\\mathit{vacuum}}^{2}} x\\right) = 0$"
      ],
      "text/plain": [
       "<IPython.core.display.Math object>"
      ]
     },
     "metadata": {},
     "output_type": "display_data"
    },
    {
     "name": "stdout",
     "output_type": "stream",
     "text": [
      "eqEy_0 = \n"
     ]
    },
    {
     "data": {
      "text/latex": [
       "$\\displaystyle \\mathit{A1}_{y} e^{\\left(i \\, \\sqrt{-k_{z}^{2} + \\kappa_{\\mathit{vacuum}}^{2}} a\\right)} = 0$"
      ],
      "text/plain": [
       "<IPython.core.display.Math object>"
      ]
     },
     "metadata": {},
     "output_type": "display_data"
    }
   ],
   "source": [
    "# граничные условия на границе идеального проводника и вакуума внутри резонатора\n",
    "# тангенциальная компонента электрического поля\n",
    "# eqEz_0 = solve(E_inner_vacuum_sol_z(-a) == 0, A1_z)\n",
    "eqEz_0 = E_inner_vacuum_sol_z(-a) == 0\n",
    "# E_inner_vacuum_z (x) = A1_z_re*cos(sqrt(kappa_vacuum^2-k_z^2)*x) + A1_z_im*sin(sqrt(kappa_vacuum^2-k^2)*x)\n",
    "eqEz_0 = A1_z_re*cos(sqrt(kappa_vacuum^2-k_z^2)*x) + A1_z_im*sin(sqrt(kappa_vacuum^2-k_z^2)*x) == 0\n",
    "\n",
    "print (\"eqEz_0 = \")\n",
    "display(Math(latex(eqEz_0)))\n",
    "\n",
    "if 0 != A1_y:\n",
    "    #eqEy_0 = solve(E_inner_vacuum_sol_y(-a) == 0, A1_y)\n",
    "    eqEy_0 = E_inner_vacuum_sol_y(-a) == 0\n",
    "    print (\"eqEy_0 = \")\n",
    "    display(Math(latex(eqEy_0)))"
   ]
  },
  {
   "cell_type": "code",
   "execution_count": 31,
   "metadata": {},
   "outputs": [
    {
     "name": "stdout",
     "output_type": "stream",
     "text": [
      "eqEz_a = \n"
     ]
    },
    {
     "data": {
      "text/latex": [
       "$\\displaystyle \\mathit{B1}_{z} = \\mathit{A1}_{z}$"
      ],
      "text/plain": [
       "<IPython.core.display.Math object>"
      ]
     },
     "metadata": {},
     "output_type": "display_data"
    },
    {
     "name": "stdout",
     "output_type": "stream",
     "text": [
      "eqEy_a = \n"
     ]
    },
    {
     "data": {
      "text/latex": [
       "$\\displaystyle \\mathit{B1}_{y} = \\mathit{A1}_{y}$"
      ],
      "text/plain": [
       "<IPython.core.display.Math object>"
      ]
     },
     "metadata": {},
     "output_type": "display_data"
    }
   ],
   "source": [
    "# граничные условия на границе вакуума внутри резонатора и проводящего металла с потерями\n",
    "# тангенциальная компонента электрического поля\n",
    "eqEz_a = E_bad_conductor_sol_z(0) == E_inner_vacuum_sol_z(0)\n",
    "eqEy_a = E_bad_conductor_sol_y(0) == E_inner_vacuum_sol_y(0)\n",
    "\n",
    "print (\"eqEz_a = \")\n",
    "display(Math(latex(eqEz_a)))\n",
    "print (\"eqEy_a = \")\n",
    "display(Math(latex(eqEy_a)))"
   ]
  },
  {
   "cell_type": "code",
   "execution_count": 32,
   "metadata": {},
   "outputs": [
    {
     "name": "stdout",
     "output_type": "stream",
     "text": [
      "eqDx_a =\n"
     ]
    },
    {
     "data": {
      "text/latex": [
       "$\\displaystyle \\mathit{A1}_{x} = \\mathit{B1}_{x} \\epsilon$"
      ],
      "text/plain": [
       "<IPython.core.display.Math object>"
      ]
     },
     "metadata": {},
     "output_type": "display_data"
    }
   ],
   "source": [
    "# нормальная компонента электрического смещения\n",
    "eqDx_a = E_inner_vacuum_sol_x(0) == E_bad_conductor_sol_x(0) * epsilon\n",
    "\n",
    "print (\"eqDx_a =\")\n",
    "display(Math(latex(eqDx_a)))"
   ]
  },
  {
   "cell_type": "code",
   "execution_count": 33,
   "metadata": {},
   "outputs": [
    {
     "name": "stdout",
     "output_type": "stream",
     "text": [
      "H_bad_conductor_sol_z (0), H_inner_vacuum_sol_z (x) =\n"
     ]
    },
    {
     "data": {
      "text/latex": [
       "$\\displaystyle \\left[-\\frac{i \\, {\\left(-i \\, \\mathit{B1}_{x} k_{y} e^{\\left(i \\, \\sqrt{-k_{z}^{2} + \\kappa^{2}} x\\right)} + i \\, \\sqrt{-k_{z}^{2} + \\kappa^{2}} \\mathit{B1}_{y} e^{\\left(i \\, \\sqrt{-k_{z}^{2} + \\kappa^{2}} x\\right)}\\right)} c}{\\mu \\omega}, -\\frac{i \\, {\\left(-i \\, \\mathit{A1}_{x} k_{y} e^{\\left(-i \\, \\sqrt{-k_{z}^{2} + \\kappa_{\\mathit{vacuum}}^{2}} x\\right)} - i \\, \\sqrt{-k_{z}^{2} + \\kappa_{\\mathit{vacuum}}^{2}} \\mathit{A1}_{y} e^{\\left(-i \\, \\sqrt{-k_{z}^{2} + \\kappa_{\\mathit{vacuum}}^{2}} x\\right)}\\right)} c}{\\omega}\\right]$"
      ],
      "text/plain": [
       "<IPython.core.display.Math object>"
      ]
     },
     "metadata": {},
     "output_type": "display_data"
    },
    {
     "name": "stdout",
     "output_type": "stream",
     "text": [
      "H_bad_conductor_sol_y (0), H_inner_vacuum_sol_y (x) =\n"
     ]
    },
    {
     "data": {
      "text/latex": [
       "$\\displaystyle \\left[-\\frac{i \\, {\\left(i \\, \\mathit{B1}_{x} k_{z} e^{\\left(i \\, \\sqrt{-k_{z}^{2} + \\kappa^{2}} x\\right)} - i \\, \\sqrt{-k_{z}^{2} + \\kappa^{2}} \\mathit{B1}_{z} e^{\\left(i \\, \\sqrt{-k_{z}^{2} + \\kappa^{2}} x\\right)}\\right)} c}{\\mu \\omega}, -\\frac{i \\, {\\left(i \\, \\mathit{A1}_{x} k_{z} e^{\\left(-i \\, \\sqrt{-k_{z}^{2} + \\kappa_{\\mathit{vacuum}}^{2}} x\\right)} + i \\, \\sqrt{-k_{z}^{2} + \\kappa_{\\mathit{vacuum}}^{2}} \\mathit{A1}_{z} e^{\\left(-i \\, \\sqrt{-k_{z}^{2} + \\kappa_{\\mathit{vacuum}}^{2}} x\\right)}\\right)} c}{\\omega}\\right]$"
      ],
      "text/plain": [
       "<IPython.core.display.Math object>"
      ]
     },
     "metadata": {},
     "output_type": "display_data"
    },
    {
     "name": "stdout",
     "output_type": "stream",
     "text": [
      "sqrt(mu/epsilon)*H_bad_conductor_sol_z (0), sqrt(mu/epsilon)*H_inner_vacuum_sol_z (x) =\n"
     ]
    },
    {
     "data": {
      "text/latex": [
       "$\\displaystyle \\left[-\\frac{i \\, {\\left(-i \\, \\mathit{B1}_{x} k_{y} e^{\\left(i \\, \\sqrt{-k_{z}^{2} + \\kappa^{2}} x\\right)} + i \\, \\sqrt{-k_{z}^{2} + \\kappa^{2}} \\mathit{B1}_{y} e^{\\left(i \\, \\sqrt{-k_{z}^{2} + \\kappa^{2}} x\\right)}\\right)} c \\sqrt{\\frac{\\mu}{\\epsilon}}}{\\mu \\omega}, -\\frac{i \\, {\\left(-i \\, \\mathit{A1}_{x} k_{y} e^{\\left(-i \\, \\sqrt{-k_{z}^{2} + \\kappa_{\\mathit{vacuum}}^{2}} x\\right)} - i \\, \\sqrt{-k_{z}^{2} + \\kappa_{\\mathit{vacuum}}^{2}} \\mathit{A1}_{y} e^{\\left(-i \\, \\sqrt{-k_{z}^{2} + \\kappa_{\\mathit{vacuum}}^{2}} x\\right)}\\right)} c}{\\omega}\\right]$"
      ],
      "text/plain": [
       "<IPython.core.display.Math object>"
      ]
     },
     "metadata": {},
     "output_type": "display_data"
    },
    {
     "name": "stdout",
     "output_type": "stream",
     "text": [
      "H_bad_conductor_y (0), H_inner_vacuum_y (0) =\n"
     ]
    },
    {
     "data": {
      "text/latex": [
       "$\\displaystyle \\left[-\\frac{i \\, {\\left(i \\, \\mathit{B1}_{x} k_{z} e^{\\left(i \\, \\sqrt{-k_{z}^{2} + \\kappa^{2}} x\\right)} - i \\, \\sqrt{-k_{z}^{2} + \\kappa^{2}} \\mathit{B1}_{z} e^{\\left(i \\, \\sqrt{-k_{z}^{2} + \\kappa^{2}} x\\right)}\\right)} c \\sqrt{\\frac{\\mu}{\\epsilon}}}{\\mu \\omega}, -\\frac{i \\, {\\left(i \\, \\mathit{A1}_{x} k_{z} e^{\\left(-i \\, \\sqrt{-k_{z}^{2} + \\kappa_{\\mathit{vacuum}}^{2}} x\\right)} + i \\, \\sqrt{-k_{z}^{2} + \\kappa_{\\mathit{vacuum}}^{2}} \\mathit{A1}_{z} e^{\\left(-i \\, \\sqrt{-k_{z}^{2} + \\kappa_{\\mathit{vacuum}}^{2}} x\\right)}\\right)} c}{\\omega}\\right]$"
      ],
      "text/plain": [
       "<IPython.core.display.Math object>"
      ]
     },
     "metadata": {},
     "output_type": "display_data"
    },
    {
     "name": "stdout",
     "output_type": "stream",
     "text": [
      "eqEz_0, eqEy_0 = \n"
     ]
    },
    {
     "data": {
      "text/latex": [
       "$\\displaystyle \\left[\\mathit{A1}_{z_{\\mathit{re}}} \\cos\\left(\\sqrt{-k_{z}^{2} + \\kappa_{\\mathit{vacuum}}^{2}} x\\right) + \\mathit{A1}_{z_{\\mathit{im}}} \\sin\\left(\\sqrt{-k_{z}^{2} + \\kappa_{\\mathit{vacuum}}^{2}} x\\right) = 0, \\mathit{A1}_{y} e^{\\left(i \\, \\sqrt{-k_{z}^{2} + \\kappa_{\\mathit{vacuum}}^{2}} a\\right)} = 0\\right]$"
      ],
      "text/plain": [
       "<IPython.core.display.Math object>"
      ]
     },
     "metadata": {},
     "output_type": "display_data"
    },
    {
     "name": "stdout",
     "output_type": "stream",
     "text": [
      "eqHz_a =\n"
     ]
    },
    {
     "data": {
      "text/latex": [
       "$\\displaystyle -\\frac{i \\, {\\left(-i \\, \\mathit{B1}_{x} k_{y} + i \\, \\sqrt{-k_{z}^{2} + \\kappa^{2}} \\mathit{B1}_{y}\\right)} c}{\\mu \\omega} = -\\frac{i \\, {\\left(-i \\, \\mathit{A1}_{x} k_{y} - i \\, \\sqrt{-k_{z}^{2} + \\kappa_{\\mathit{vacuum}}^{2}} \\mathit{A1}_{y}\\right)} c}{\\omega}$"
      ],
      "text/plain": [
       "<IPython.core.display.Math object>"
      ]
     },
     "metadata": {},
     "output_type": "display_data"
    },
    {
     "name": "stdout",
     "output_type": "stream",
     "text": [
      "eqHy_a =\n"
     ]
    },
    {
     "data": {
      "text/latex": [
       "$\\displaystyle -\\frac{i \\, {\\left(i \\, \\mathit{B1}_{x} k_{z} - i \\, \\sqrt{-k_{z}^{2} + \\kappa^{2}} \\mathit{B1}_{z}\\right)} c}{\\mu \\omega} = -\\frac{i \\, {\\left(i \\, \\mathit{A1}_{x} k_{z} + i \\, \\sqrt{-k_{z}^{2} + \\kappa_{\\mathit{vacuum}}^{2}} \\mathit{A1}_{z}\\right)} c}{\\omega}$"
      ],
      "text/plain": [
       "<IPython.core.display.Math object>"
      ]
     },
     "metadata": {},
     "output_type": "display_data"
    }
   ],
   "source": [
    "# тангенциальная компонента напряженности магнитного поля\n",
    "eqHz_a  = (H_bad_conductor_sol_z(0)  == H_inner_vacuum_sol_z(0)).subs(eqEz_0, eqEy_0)\n",
    "eqHy_a  = (H_bad_conductor_sol_y(0)  == H_inner_vacuum_sol_y(0)).subs(eqEy_0, eqEz_0)\n",
    "\n",
    "print (\"H_bad_conductor_sol_z (0), H_inner_vacuum_sol_z (x) =\")\n",
    "display(Math(latex([H_bad_conductor_sol_z (x), H_inner_vacuum_sol_z (x)])))\n",
    "\n",
    "print (\"H_bad_conductor_sol_y (0), H_inner_vacuum_sol_y (x) =\")\n",
    "display(Math(latex([H_bad_conductor_sol_y (x), H_inner_vacuum_sol_y (x)])))\n",
    "\n",
    "print (\"sqrt(mu/epsilon)*H_bad_conductor_sol_z (0), sqrt(mu/epsilon)*H_inner_vacuum_sol_z (x) =\")\n",
    "display(Math(latex([sqrt(mu/epsilon)*H_bad_conductor_sol_z (x), sqrt(1/epsilon_0)*H_inner_vacuum_sol_z (x)])))\n",
    "\n",
    "print (\"H_bad_conductor_y (0), H_inner_vacuum_y (0) =\")\n",
    "display(Math(latex([sqrt(mu/epsilon)*H_bad_conductor_sol_y (x), sqrt(1/epsilon_0)*H_inner_vacuum_sol_y (x)])))\n",
    "\n",
    "print (\"eqEz_0, eqEy_0 = \")\n",
    "display(Math(latex([eqEz_0, eqEy_0])))\n",
    "\n",
    "\n",
    "print (\"eqHz_a =\")\n",
    "display(Math(latex(eqHz_a)))\n",
    "print (\"eqHy_a =\")\n",
    "display(Math(latex(eqHy_a)))\n",
    "\n",
    "#eqHz_a_subs = (eqHz_a.lhs().subs(omega == kappa/sqrt(epsilon*mu))/k_y/A1_x == eqHz_a.rhs().subs(omega == kappa/sqrt(epsilon*mu))/k_y/A1_x)\n",
    "#eqHy_a_subs = (eqHy_a.lhs().subs(omega == kappa/sqrt(epsilon*mu))/k_z/A1_x == eqHy_a.rhs().subs(omega == kappa/sqrt(epsilon*mu))/k_z/A1_x)\n",
    "\n",
    "#print (\"eqHz_a_subs =\")\n",
    "#display(Math(latex(eqHz_a_subs)))\n",
    "#print (\"eqHy_a_subs =\")//buf = buf | 0xA0;\n",
    "\t\t\t\n",
    "#display(Math(latex(eqHy_a_subs)))"
   ]
  },
  {
   "cell_type": "code",
   "execution_count": 34,
   "metadata": {},
   "outputs": [
    {
     "name": "stdout",
     "output_type": "stream",
     "text": [
      "eqBx_a =\n"
     ]
    },
    {
     "data": {
      "text/latex": [
       "$\\displaystyle -\\frac{i \\, {\\left(i \\, \\mathit{B1}_{z} k_{y} - i \\, \\mathit{B1}_{y} k_{z}\\right)} c}{\\omega} = -\\frac{i \\, {\\left(i \\, \\mathit{A1}_{z} k_{y} - i \\, \\mathit{A1}_{y} k_{z}\\right)} c}{\\omega}$"
      ],
      "text/plain": [
       "<IPython.core.display.Math object>"
      ]
     },
     "metadata": {},
     "output_type": "display_data"
    }
   ],
   "source": [
    "# нормальная компонента индукции магнитного поля\n",
    "eqBx_a  = mu * H_bad_conductor_sol_x (0)  == H_inner_vacuum_sol_x (0)\n",
    "\n",
    "print (\"eqBx_a =\")\n",
    "display(Math(latex(eqBx_a)))"
   ]
  },
  {
   "cell_type": "code",
   "execution_count": 35,
   "metadata": {},
   "outputs": [
    {
     "name": "stdout",
     "output_type": "stream",
     "text": [
      "eq_rot_H_inner_vacuum_y rot H (E_y) =\n",
      "I*k_z*H_inner_vacuum_x(x) - diff(H_inner_vacuum_z(x), x) == -I*omega*E_inner_vacuum_y(x)/c\n"
     ]
    },
    {
     "data": {
      "text/latex": [
       "$\\displaystyle i \\, k_{z} H_{{\\rm inner}_{{\\rm vacuum}_{x}}}\\left(x\\right) - \\frac{\\partial}{\\partial x}H_{{\\rm inner}_{{\\rm vacuum}_{z}}}\\left(x\\right) = -\\frac{i \\, \\omega E_{{\\rm inner}_{{\\rm vacuum}_{y}}}\\left(x\\right)}{c}$"
      ],
      "text/plain": [
       "<IPython.core.display.Math object>"
      ]
     },
     "metadata": {},
     "output_type": "display_data"
    },
    {
     "name": "stdout",
     "output_type": "stream",
     "text": [
      "eq_rot_H_inner_vacuum_y_subs_solve rot H (E_y) =\n",
      "kappa_vacuum*E_inner_vacuum_y(x) == -k_z*H_inner_vacuum_x(x) - I*diff(H_inner_vacuum_z(x), x)\n"
     ]
    },
    {
     "data": {
      "text/latex": [
       "$\\displaystyle \\kappa_{\\mathit{vacuum}} E_{{\\rm inner}_{{\\rm vacuum}_{y}}}\\left(x\\right) = -k_{z} H_{{\\rm inner}_{{\\rm vacuum}_{x}}}\\left(x\\right) - i \\, \\frac{\\partial}{\\partial x}H_{{\\rm inner}_{{\\rm vacuum}_{z}}}\\left(x\\right)$"
      ],
      "text/plain": [
       "<IPython.core.display.Math object>"
      ]
     },
     "metadata": {},
     "output_type": "display_data"
    },
    {
     "name": "stdout",
     "output_type": "stream",
     "text": [
      "eq_rot_E_inner_vacuum_x_subs (x) rot E =\n",
      "kappa_vacuum*H_inner_vacuum_x(x) == -k_z*E_inner_vacuum_y(x) + k_y*E_inner_vacuum_z(x)\n"
     ]
    },
    {
     "data": {
      "text/latex": [
       "$\\displaystyle \\kappa_{\\mathit{vacuum}} H_{{\\rm inner}_{{\\rm vacuum}_{x}}}\\left(x\\right) = -k_{z} E_{{\\rm inner}_{{\\rm vacuum}_{y}}}\\left(x\\right) + k_{y} E_{{\\rm inner}_{{\\rm vacuum}_{z}}}\\left(x\\right)$"
      ],
      "text/plain": [
       "<IPython.core.display.Math object>"
      ]
     },
     "metadata": {},
     "output_type": "display_data"
    },
    {
     "name": "stdout",
     "output_type": "stream",
     "text": [
      "eq_rot_H_inner_vacuum_y_subs_solve_m =\n",
      "kappa_vacuum*E_inner_vacuum_y(x) + k_z*H_inner_vacuum_x(x) == -I*diff(H_inner_vacuum_z(x), x)\n"
     ]
    },
    {
     "data": {
      "text/latex": [
       "$\\displaystyle \\kappa_{\\mathit{vacuum}} E_{{\\rm inner}_{{\\rm vacuum}_{y}}}\\left(x\\right) + k_{z} H_{{\\rm inner}_{{\\rm vacuum}_{x}}}\\left(x\\right) = -i \\, \\frac{\\partial}{\\partial x}H_{{\\rm inner}_{{\\rm vacuum}_{z}}}\\left(x\\right)$"
      ],
      "text/plain": [
       "<IPython.core.display.Math object>"
      ]
     },
     "metadata": {},
     "output_type": "display_data"
    },
    {
     "name": "stdout",
     "output_type": "stream",
     "text": [
      "eq_rot_E_inner_vacuum_x_subs_m =\n",
      "k_z*E_inner_vacuum_y(x) + kappa_vacuum*H_inner_vacuum_x(x) == k_y*E_inner_vacuum_z(x)\n"
     ]
    },
    {
     "data": {
      "text/latex": [
       "$\\displaystyle k_{z} E_{{\\rm inner}_{{\\rm vacuum}_{y}}}\\left(x\\right) + \\kappa_{\\mathit{vacuum}} H_{{\\rm inner}_{{\\rm vacuum}_{x}}}\\left(x\\right) = k_{y} E_{{\\rm inner}_{{\\rm vacuum}_{z}}}\\left(x\\right)$"
      ],
      "text/plain": [
       "<IPython.core.display.Math object>"
      ]
     },
     "metadata": {},
     "output_type": "display_data"
    },
    {
     "name": "stdout",
     "output_type": "stream",
     "text": [
      "eq_1 =\n",
      "-(k_z^2 - kappa_vacuum^2)*E_inner_vacuum_y(x) == -k_y*k_z*E_inner_vacuum_z(x) - I*kappa_vacuum*diff(H_inner_vacuum_z(x), x)\n"
     ]
    },
    {
     "data": {
      "text/latex": [
       "$\\displaystyle -{\\left(k_{z}^{2} - \\kappa_{\\mathit{vacuum}}^{2}\\right)} E_{{\\rm inner}_{{\\rm vacuum}_{y}}}\\left(x\\right) = -k_{y} k_{z} E_{{\\rm inner}_{{\\rm vacuum}_{z}}}\\left(x\\right) - i \\, \\kappa_{\\mathit{vacuum}} \\frac{\\partial}{\\partial x}H_{{\\rm inner}_{{\\rm vacuum}_{z}}}\\left(x\\right)$"
      ],
      "text/plain": [
       "<IPython.core.display.Math object>"
      ]
     },
     "metadata": {},
     "output_type": "display_data"
    },
    {
     "name": "stdout",
     "output_type": "stream",
     "text": [
      "eq_2 =\n",
      "(k_z^2 - kappa_vacuum^2)*H_inner_vacuum_x(x) == -k_y*kappa_vacuum*E_inner_vacuum_z(x) - I*k_z*diff(H_inner_vacuum_z(x), x)\n"
     ]
    },
    {
     "data": {
      "text/latex": [
       "$\\displaystyle {\\left(k_{z}^{2} - \\kappa_{\\mathit{vacuum}}^{2}\\right)} H_{{\\rm inner}_{{\\rm vacuum}_{x}}}\\left(x\\right) = -k_{y} \\kappa_{\\mathit{vacuum}} E_{{\\rm inner}_{{\\rm vacuum}_{z}}}\\left(x\\right) - i \\, k_{z} \\frac{\\partial}{\\partial x}H_{{\\rm inner}_{{\\rm vacuum}_{z}}}\\left(x\\right)$"
      ],
      "text/plain": [
       "<IPython.core.display.Math object>"
      ]
     },
     "metadata": {},
     "output_type": "display_data"
    }
   ],
   "source": [
    "eq_rot_H_inner_vacuum_y_subs       = eq_rot_H_inner_vacuum_y.subs(omega==c*kappa_vacuum/sqrt(epsilon_0*mu_0))\n",
    "print (\"eq_rot_H_inner_vacuum_y rot H (E_y) =\")\n",
    "print(eq_rot_H_inner_vacuum_y)\n",
    "display(Math(latex(eq_rot_H_inner_vacuum_y)))\n",
    "\n",
    "eq_rot_H_inner_vacuum_y_subs_solve = solve(eq_rot_H_inner_vacuum_y_subs, E_inner_vacuum_y(x))[0] * kappa_vacuum\n",
    "print (\"eq_rot_H_inner_vacuum_y_subs_solve rot H (E_y) =\")\n",
    "print(eq_rot_H_inner_vacuum_y_subs_solve)\n",
    "display(Math(latex(eq_rot_H_inner_vacuum_y_subs_solve)))\n",
    "\n",
    "eq_rot_E_inner_vacuum_x = H_inner_vacuum_f_x(x) == H_inner_vacuum_s_x(x)\n",
    "eq_rot_E_inner_vacuum_x_subs = eq_rot_E_inner_vacuum_x.subs(omega==c*kappa_vacuum/sqrt(epsilon_0*mu_0)) * kappa_vacuum\n",
    "print (\"eq_rot_E_inner_vacuum_x_subs (x) rot E =\")\n",
    "print             (eq_rot_E_inner_vacuum_x_subs)\n",
    "display(Math(latex(eq_rot_E_inner_vacuum_x_subs)))\n",
    "\n",
    "#eq_rotH_rotE \\\n",
    "#    =  eq_rot_H_inner_vacuum_y_subs_solve.lhs() + eq_rot_E_inner_vacuum_x_subs.lhs() \\\n",
    "#    == eq_rot_H_inner_vacuum_y_subs_solve.rhs() + eq_rot_E_inner_vacuum_x_subs.rhs()\n",
    "#print (\"eq_rotH_rotE =\")\n",
    "#print             (eq_rotH_rotE)\n",
    "#display(Math(latex(eq_rotH_rotE)))\n",
    "\n",
    "eq_rot_H_inner_vacuum_y_subs_solve_m \\\n",
    "    =  eq_rot_H_inner_vacuum_y_subs_solve.lhs() \\\n",
    "    -  eq_rot_H_inner_vacuum_y_subs_solve.rhs().expand().operands()[0] \\\n",
    "    == eq_rot_H_inner_vacuum_y_subs_solve.rhs().expand().operands()[1]\n",
    "print (\"eq_rot_H_inner_vacuum_y_subs_solve_m =\")\n",
    "print             (eq_rot_H_inner_vacuum_y_subs_solve_m)\n",
    "display(Math(latex(eq_rot_H_inner_vacuum_y_subs_solve_m)))\n",
    "\n",
    "eq_rot_E_inner_vacuum_x_subs_m \\\n",
    "    =  eq_rot_E_inner_vacuum_x_subs.lhs() \\\n",
    "    -  eq_rot_E_inner_vacuum_x_subs.rhs().expand().operands()[0] \\\n",
    "    == eq_rot_E_inner_vacuum_x_subs.rhs().expand().operands()[1]\n",
    "print (\"eq_rot_E_inner_vacuum_x_subs_m =\")\n",
    "print             (eq_rot_E_inner_vacuum_x_subs_m)\n",
    "display(Math(latex(eq_rot_E_inner_vacuum_x_subs_m)))\n",
    "\n",
    "eq_1 = (eq_rot_H_inner_vacuum_y_subs_solve_m*kappa_vacuum - eq_rot_E_inner_vacuum_x_subs_m*k_z).full_simplify()\n",
    "print (\"eq_1 =\")\n",
    "print             (eq_1)\n",
    "display(Math(latex(eq_1)))\n",
    "\n",
    "eq_2 = (eq_rot_H_inner_vacuum_y_subs_solve_m*k_z - eq_rot_E_inner_vacuum_x_subs_m*kappa_vacuum).full_simplify()\n",
    "print (\"eq_2 =\")\n",
    "print             (eq_2)\n",
    "display(Math(latex(eq_2)))\n",
    "\n",
    "#print (\"H_inner_vacuum_subs_x (x) rot E =\")\n",
    "#H_inner_vacuum_subs_x = H_inner_vacuum_s_x(x).subs(omega==c*kappa_vacuum/sqrt(epsilon_0*mu_0))\n",
    "#print             (H_inner_vacuum_subs_x)\n",
    "#display(Math(latex(H_inner_vacuum_subs_x)))\n",
    "\n",
    "#print (\"E_inner_vacuum_y_fun(x) =\")\n",
    "#E_inner_vacuum_y_fun(x) = eq_rot_H_inner_vacuum_y_subs_solve.rhs()\n",
    "#print(E_inner_vacuum_y_fun(x))\n",
    "#display(Math(latex(E_inner_vacuum_y_fun(x))))\n",
    "\n",
    "#print (\"H_inner_vacuum_subs_fun_x (x) =\")\n",
    "#H_inner_vacuum_subs_fun_x = H_inner_vacuum_subs_x \\\n",
    "#   .substitute_function(E_inner_vacuum_y, E_inner_vacuum_y_fun)\n",
    "#print (H_inner_vacuum_subs_fun_x)\n",
    "#display(Math(latex(H_inner_vacuum_subs_fun_x)))\n",
    "\n",
    "#print (\"H_inner_vacuum_subs_fun_sol_x (x) =\")\n",
    "#H_inner_vacuum_subs_fun_sol_x = H_inner_vacuum_subs_fun_x \\\n",
    "#    .substitute_function(E_inner_vacuum_z, E_inner_vacuum_sol_z) \\\n",
    "#    .substitute_function(E_inner_vacuum_x, E_inner_vacuum_sol_x) \\\n",
    "#    .subs(eqEz_0, eqEy_0).full_simplify()\n",
    "#print (H_inner_vacuum_subs_fun_sol_x)\n",
    "#display(Math(latex(H_inner_vacuum_subs_fun_sol_x)))\n"
   ]
  },
  {
   "cell_type": "code",
   "execution_count": 36,
   "metadata": {},
   "outputs": [
    {
     "name": "stdout",
     "output_type": "stream",
     "text": [
      "eq_rot_H_bad_conductor_y rot_H = epsilon*d/dt(E_y) =\n",
      "I*k_z*H_bad_conductor_x(x) - diff(H_bad_conductor_z(x), x) == -I*epsilon*omega*E_bad_conductor_y(x)/c\n"
     ]
    },
    {
     "data": {
      "text/latex": [
       "$\\displaystyle i \\, k_{z} H_{{\\rm bad}_{{\\rm conductor}_{x}}}\\left(x\\right) - \\frac{\\partial}{\\partial x}H_{{\\rm bad}_{{\\rm conductor}_{z}}}\\left(x\\right) = -\\frac{i \\, \\epsilon \\omega E_{{\\rm bad}_{{\\rm conductor}_{y}}}\\left(x\\right)}{c}$"
      ],
      "text/plain": [
       "<IPython.core.display.Math object>"
      ]
     },
     "metadata": {},
     "output_type": "display_data"
    },
    {
     "name": "stdout",
     "output_type": "stream",
     "text": [
      "eq_rot_H_bad_conductor_y_subs_solve rot H = epsilon*d/dt(E_y) =\n",
      "kappa*E_bad_conductor_y(x) == -(sqrt(epsilon*mu)*k_z*H_bad_conductor_x(x) + I*sqrt(epsilon*mu)*diff(H_bad_conductor_z(x), x))/epsilon\n"
     ]
    },
    {
     "data": {
      "text/latex": [
       "$\\displaystyle \\kappa E_{{\\rm bad}_{{\\rm conductor}_{y}}}\\left(x\\right) = -\\frac{\\sqrt{\\epsilon \\mu} k_{z} H_{{\\rm bad}_{{\\rm conductor}_{x}}}\\left(x\\right) + i \\, \\sqrt{\\epsilon \\mu} \\frac{\\partial}{\\partial x}H_{{\\rm bad}_{{\\rm conductor}_{z}}}\\left(x\\right)}{\\epsilon}$"
      ],
      "text/plain": [
       "<IPython.core.display.Math object>"
      ]
     },
     "metadata": {},
     "output_type": "display_data"
    },
    {
     "name": "stdout",
     "output_type": "stream",
     "text": [
      "eq_rot_E_bad_conductor_x_subs (x) rot E =\n",
      "kappa*H_bad_conductor_x(x) == -I*sqrt(epsilon*mu)*(-I*k_z*E_bad_conductor_y(x) + I*k_y*E_bad_conductor_z(x))/mu\n"
     ]
    },
    {
     "data": {
      "text/latex": [
       "$\\displaystyle \\kappa H_{{\\rm bad}_{{\\rm conductor}_{x}}}\\left(x\\right) = -\\frac{i \\, \\sqrt{\\epsilon \\mu} {\\left(-i \\, k_{z} E_{{\\rm bad}_{{\\rm conductor}_{y}}}\\left(x\\right) + i \\, k_{y} E_{{\\rm bad}_{{\\rm conductor}_{z}}}\\left(x\\right)\\right)}}{\\mu}$"
      ],
      "text/plain": [
       "<IPython.core.display.Math object>"
      ]
     },
     "metadata": {},
     "output_type": "display_data"
    },
    {
     "name": "stdout",
     "output_type": "stream",
     "text": [
      "eq_rot_H_bad_conductor_y_subs_solve_m =\n",
      "kappa*E_bad_conductor_y(x) + k_z*sqrt(mu)*H_bad_conductor_x(x)/sqrt(epsilon) == -I*sqrt(mu)*diff(H_bad_conductor_z(x), x)/sqrt(epsilon)\n"
     ]
    },
    {
     "data": {
      "text/latex": [
       "$\\displaystyle \\kappa E_{{\\rm bad}_{{\\rm conductor}_{y}}}\\left(x\\right) + \\frac{k_{z} \\sqrt{\\mu} H_{{\\rm bad}_{{\\rm conductor}_{x}}}\\left(x\\right)}{\\sqrt{\\epsilon}} = -\\frac{i \\, \\sqrt{\\mu} \\frac{\\partial}{\\partial x}H_{{\\rm bad}_{{\\rm conductor}_{z}}}\\left(x\\right)}{\\sqrt{\\epsilon}}$"
      ],
      "text/plain": [
       "<IPython.core.display.Math object>"
      ]
     },
     "metadata": {},
     "output_type": "display_data"
    },
    {
     "name": "stdout",
     "output_type": "stream",
     "text": [
      "eq_rot_E_bad_conductor_x_subs_m =\n",
      "sqrt(epsilon)*k_z*E_bad_conductor_y(x)/sqrt(mu) + kappa*H_bad_conductor_x(x) == sqrt(epsilon)*k_y*E_bad_conductor_z(x)/sqrt(mu)\n"
     ]
    },
    {
     "data": {
      "text/latex": [
       "$\\displaystyle \\frac{\\sqrt{\\epsilon} k_{z} E_{{\\rm bad}_{{\\rm conductor}_{y}}}\\left(x\\right)}{\\sqrt{\\mu}} + \\kappa H_{{\\rm bad}_{{\\rm conductor}_{x}}}\\left(x\\right) = \\frac{\\sqrt{\\epsilon} k_{y} E_{{\\rm bad}_{{\\rm conductor}_{z}}}\\left(x\\right)}{\\sqrt{\\mu}}$"
      ],
      "text/plain": [
       "<IPython.core.display.Math object>"
      ]
     },
     "metadata": {},
     "output_type": "display_data"
    },
    {
     "name": "stdout",
     "output_type": "stream",
     "text": [
      "eq_3 =\n",
      "-(k_z^2 - kappa^2)*E_bad_conductor_y(x) == -(sqrt(epsilon)*k_y*k_z*E_bad_conductor_z(x) + I*kappa*sqrt(mu)*diff(H_bad_conductor_z(x), x))/sqrt(epsilon)\n"
     ]
    },
    {
     "data": {
      "text/latex": [
       "$\\displaystyle -{\\left(k_{z}^{2} - \\kappa^{2}\\right)} E_{{\\rm bad}_{{\\rm conductor}_{y}}}\\left(x\\right) = -\\frac{\\sqrt{\\epsilon} k_{y} k_{z} E_{{\\rm bad}_{{\\rm conductor}_{z}}}\\left(x\\right) + i \\, \\kappa \\sqrt{\\mu} \\frac{\\partial}{\\partial x}H_{{\\rm bad}_{{\\rm conductor}_{z}}}\\left(x\\right)}{\\sqrt{\\epsilon}}$"
      ],
      "text/plain": [
       "<IPython.core.display.Math object>"
      ]
     },
     "metadata": {},
     "output_type": "display_data"
    },
    {
     "name": "stdout",
     "output_type": "stream",
     "text": [
      "eq_4 =\n",
      "(k_z^2 - kappa^2)*sqrt(mu)*H_bad_conductor_x(x)/sqrt(epsilon) == -(sqrt(epsilon)*k_y*kappa*E_bad_conductor_z(x) + I*k_z*sqrt(mu)*diff(H_bad_conductor_z(x), x))/sqrt(epsilon)\n"
     ]
    },
    {
     "data": {
      "text/latex": [
       "$\\displaystyle \\frac{{\\left(k_{z}^{2} - \\kappa^{2}\\right)} \\sqrt{\\mu} H_{{\\rm bad}_{{\\rm conductor}_{x}}}\\left(x\\right)}{\\sqrt{\\epsilon}} = -\\frac{\\sqrt{\\epsilon} k_{y} \\kappa E_{{\\rm bad}_{{\\rm conductor}_{z}}}\\left(x\\right) + i \\, k_{z} \\sqrt{\\mu} \\frac{\\partial}{\\partial x}H_{{\\rm bad}_{{\\rm conductor}_{z}}}\\left(x\\right)}{\\sqrt{\\epsilon}}$"
      ],
      "text/plain": [
       "<IPython.core.display.Math object>"
      ]
     },
     "metadata": {},
     "output_type": "display_data"
    }
   ],
   "source": [
    "eq_rot_H_bad_conductor_y_subs       = eq_rot_H_bad_conductor_y.subs(omega==c*kappa/sqrt(epsilon*mu))\n",
    "print (\"eq_rot_H_bad_conductor_y rot_H = epsilon*d/dt(E_y) =\")\n",
    "print(eq_rot_H_bad_conductor_y)\n",
    "display(Math(latex(eq_rot_H_bad_conductor_y)))\n",
    "\n",
    "eq_rot_H_bad_conductor_y_subs_solve = solve(eq_rot_H_bad_conductor_y_subs, E_bad_conductor_y(x))[0] * kappa\n",
    "print (\"eq_rot_H_bad_conductor_y_subs_solve rot H = epsilon*d/dt(E_y) =\")\n",
    "print(eq_rot_H_bad_conductor_y_subs_solve)\n",
    "display(Math(latex(eq_rot_H_bad_conductor_y_subs_solve)))\n",
    "\n",
    "eq_rot_E_bad_conductor_x = H_bad_conductor_f_x(x) == H_bad_conductor_s_x(x)\n",
    "eq_rot_E_bad_conductor_x_subs = eq_rot_E_bad_conductor_x.subs(omega==c*kappa/sqrt(epsilon*mu)) * kappa\n",
    "print (\"eq_rot_E_bad_conductor_x_subs (x) rot E =\")\n",
    "print             (eq_rot_E_bad_conductor_x_subs)\n",
    "display(Math(latex(eq_rot_E_bad_conductor_x_subs)))\n",
    "\n",
    "#eq_rotH_rotE \\\n",
    "#    =  eq_rot_H_bad_conductor_y_subs_solve.lhs() + eq_rot_E_bad_conductor_x_subs.lhs() \\\n",
    "#    == eq_rot_H_bad_conductor_y_subs_solve.rhs() + eq_rot_E_bad_conductor_x_subs.rhs()\n",
    "#print (\"eq_rotH_rotE =\")\n",
    "#print             (eq_rotH_rotE)\n",
    "#display(Math(latex(eq_rotH_rotE)))\n",
    "\n",
    "eq_rot_H_bad_conductor_y_subs_solve_m \\\n",
    "    =  eq_rot_H_bad_conductor_y_subs_solve.lhs() \\\n",
    "    -  eq_rot_H_bad_conductor_y_subs_solve.rhs().expand().operands()[0] \\\n",
    "    == eq_rot_H_bad_conductor_y_subs_solve.rhs().expand().operands()[1]\n",
    "print (\"eq_rot_H_bad_conductor_y_subs_solve_m =\")\n",
    "print             (eq_rot_H_bad_conductor_y_subs_solve_m)\n",
    "display(Math(latex(eq_rot_H_bad_conductor_y_subs_solve_m)))\n",
    "\n",
    "eq_rot_E_bad_conductor_x_subs_m \\\n",
    "    =  eq_rot_E_bad_conductor_x_subs.lhs() \\\n",
    "    -  eq_rot_E_bad_conductor_x_subs.rhs().expand().operands()[0] \\\n",
    "    == eq_rot_E_bad_conductor_x_subs.rhs().expand().operands()[1]\n",
    "print (\"eq_rot_E_bad_conductor_x_subs_m =\")\n",
    "print             (eq_rot_E_bad_conductor_x_subs_m)\n",
    "display(Math(latex(eq_rot_E_bad_conductor_x_subs_m)))\n",
    "\n",
    "m3 = k_z*sqrt(mu)/sqrt(epsilon)\n",
    "m4 = sqrt(mu)*kappa/sqrt(epsilon)\n",
    "\n",
    "eq_3 = (eq_rot_H_bad_conductor_y_subs_solve_m*kappa - eq_rot_E_bad_conductor_x_subs_m * m3).full_simplify()\n",
    "print (\"eq_3 =\")\n",
    "print             (eq_3)\n",
    "display(Math(latex(eq_3)))\n",
    "\n",
    "eq_4 = (eq_rot_H_bad_conductor_y_subs_solve_m*k_z - eq_rot_E_bad_conductor_x_subs_m * m4).full_simplify()\n",
    "print (\"eq_4 =\")\n",
    "print             (eq_4)\n",
    "display(Math(latex(eq_4)))\n",
    "\n",
    "#print (\"H_bad_conductor_subs_x (x) rot E =\")\n",
    "#H_bad_conductor_subs_x = H_bad_conductor_s_x(x).subs(omega==c*kappa/sqrt(epsilon*mu)) * kappa\n",
    "#print             (H_bad_conductor_subs_x)\n",
    "#display(Math(latex(H_bad_conductor_subs_x)))\n",
    "\n",
    "#print (\"E_bad_conductor_y_fun(x) =\")\n",
    "#E_bad_conductor_y_fun(x) = eq_rot_H_bad_conductor_y_subs_solve.rhs()\n",
    "#print(E_bad_conductor_y_fun(x))\n",
    "#isplay(Math(latex(E_bad_conductor_y_fun(x))))\n",
    "\n",
    "#print (\"H_bad_conductor_subs_fun_x (x) =\")\n",
    "#H_bad_conductor_subs_fun_x = H_bad_conductor_subs_x \\\n",
    "#    .substitute_function(E_bad_conductor_y, E_bad_conductor_y_fun)\n",
    "#print (H_bad_conductor_subs_fun_x)\n",
    "#display(Math(latex(H_bad_conductor_subs_fun_x)))\n",
    "\n",
    "#print (\"H_bad_conductor_subs_fun_sol_x (x) =\")\n",
    "#H_bad_conductor_subs_fun_sol_x = H_bad_conductor_subs_fun_x \\\n",
    "#    .substitute_function(E_bad_conductor_z, E_bad_conductor_sol_z) \\\n",
    "#    .substitute_function(E_bad_conductor_x, E_bad_conductor_sol_x) \\\n",
    "#    .subs(eqEz_0, eqEy_0).full_simplify()\n",
    "#rint (H_bad_conductor_subs_fun_sol_x)\n",
    "#display(Math(latex(H_bad_conductor_subs_fun_sol_x)))"
   ]
  },
  {
   "cell_type": "code",
   "execution_count": 37,
   "metadata": {},
   "outputs": [
    {
     "name": "stdout",
     "output_type": "stream",
     "text": [
      "eq_rot_H_inner_vacuum_y rot H (E_x) =\n",
      "-I*k_z*H_inner_vacuum_y(x) + I*k_y*H_inner_vacuum_z(x) == -I*omega*E_inner_vacuum_x(x)/c\n"
     ]
    },
    {
     "data": {
      "text/latex": [
       "$\\displaystyle -i \\, k_{z} H_{{\\rm inner}_{{\\rm vacuum}_{y}}}\\left(x\\right) + i \\, k_{y} H_{{\\rm inner}_{{\\rm vacuum}_{z}}}\\left(x\\right) = -\\frac{i \\, \\omega E_{{\\rm inner}_{{\\rm vacuum}_{x}}}\\left(x\\right)}{c}$"
      ],
      "text/plain": [
       "<IPython.core.display.Math object>"
      ]
     },
     "metadata": {},
     "output_type": "display_data"
    },
    {
     "name": "stdout",
     "output_type": "stream",
     "text": [
      "eq_rot_H_inner_vacuum_x_subs_solve rot H (E_x) =\n",
      "kappa_vacuum*E_inner_vacuum_x(x) == k_z*H_inner_vacuum_y(x) - k_y*H_inner_vacuum_z(x)\n"
     ]
    },
    {
     "data": {
      "text/latex": [
       "$\\displaystyle \\kappa_{\\mathit{vacuum}} E_{{\\rm inner}_{{\\rm vacuum}_{x}}}\\left(x\\right) = k_{z} H_{{\\rm inner}_{{\\rm vacuum}_{y}}}\\left(x\\right) - k_{y} H_{{\\rm inner}_{{\\rm vacuum}_{z}}}\\left(x\\right)$"
      ],
      "text/plain": [
       "<IPython.core.display.Math object>"
      ]
     },
     "metadata": {},
     "output_type": "display_data"
    },
    {
     "name": "stdout",
     "output_type": "stream",
     "text": [
      "eq_rot_E_inner_vacuum_y_subs (x) rot E =\n",
      "kappa_vacuum*H_inner_vacuum_y(x) == k_z*E_inner_vacuum_x(x) + sqrt(-k_z^2 + kappa_vacuum^2)*E_inner_vacuum_z(x)\n"
     ]
    },
    {
     "data": {
      "text/latex": [
       "$\\displaystyle \\kappa_{\\mathit{vacuum}} H_{{\\rm inner}_{{\\rm vacuum}_{y}}}\\left(x\\right) = k_{z} E_{{\\rm inner}_{{\\rm vacuum}_{x}}}\\left(x\\right) + \\sqrt{-k_{z}^{2} + \\kappa_{\\mathit{vacuum}}^{2}} E_{{\\rm inner}_{{\\rm vacuum}_{z}}}\\left(x\\right)$"
      ],
      "text/plain": [
       "<IPython.core.display.Math object>"
      ]
     },
     "metadata": {},
     "output_type": "display_data"
    },
    {
     "name": "stdout",
     "output_type": "stream",
     "text": [
      "eq_rot_H_inner_vacuum_x_subs_solve_m =\n",
      "kappa_vacuum*E_inner_vacuum_x(x) - k_z*H_inner_vacuum_y(x) == -k_y*H_inner_vacuum_z(x)\n"
     ]
    },
    {
     "data": {
      "text/latex": [
       "$\\displaystyle \\kappa_{\\mathit{vacuum}} E_{{\\rm inner}_{{\\rm vacuum}_{x}}}\\left(x\\right) - k_{z} H_{{\\rm inner}_{{\\rm vacuum}_{y}}}\\left(x\\right) = -k_{y} H_{{\\rm inner}_{{\\rm vacuum}_{z}}}\\left(x\\right)$"
      ],
      "text/plain": [
       "<IPython.core.display.Math object>"
      ]
     },
     "metadata": {},
     "output_type": "display_data"
    },
    {
     "name": "stdout",
     "output_type": "stream",
     "text": [
      "eq_rot_E_inner_vacuum_y_subs_m =\n",
      "-k_z*E_inner_vacuum_x(x) + kappa_vacuum*H_inner_vacuum_y(x) == sqrt(-k_z^2 + kappa_vacuum^2)*E_inner_vacuum_z(x)\n"
     ]
    },
    {
     "data": {
      "text/latex": [
       "$\\displaystyle -k_{z} E_{{\\rm inner}_{{\\rm vacuum}_{x}}}\\left(x\\right) + \\kappa_{\\mathit{vacuum}} H_{{\\rm inner}_{{\\rm vacuum}_{y}}}\\left(x\\right) = \\sqrt{-k_{z}^{2} + \\kappa_{\\mathit{vacuum}}^{2}} E_{{\\rm inner}_{{\\rm vacuum}_{z}}}\\left(x\\right)$"
      ],
      "text/plain": [
       "<IPython.core.display.Math object>"
      ]
     },
     "metadata": {},
     "output_type": "display_data"
    },
    {
     "name": "stdout",
     "output_type": "stream",
     "text": [
      "eq_5 =\n",
      "-(k_z^2 - kappa_vacuum^2)*E_inner_vacuum_x(x) == -k_y*kappa_vacuum*H_inner_vacuum_z(x) + sqrt(-k_z^2 + kappa_vacuum^2)*k_z*E_inner_vacuum_z(x)\n"
     ]
    },
    {
     "data": {
      "text/latex": [
       "$\\displaystyle -{\\left(k_{z}^{2} - \\kappa_{\\mathit{vacuum}}^{2}\\right)} E_{{\\rm inner}_{{\\rm vacuum}_{x}}}\\left(x\\right) = -k_{y} \\kappa_{\\mathit{vacuum}} H_{{\\rm inner}_{{\\rm vacuum}_{z}}}\\left(x\\right) + \\sqrt{-k_{z}^{2} + \\kappa_{\\mathit{vacuum}}^{2}} k_{z} E_{{\\rm inner}_{{\\rm vacuum}_{z}}}\\left(x\\right)$"
      ],
      "text/plain": [
       "<IPython.core.display.Math object>"
      ]
     },
     "metadata": {},
     "output_type": "display_data"
    },
    {
     "name": "stdout",
     "output_type": "stream",
     "text": [
      "eq_6 =\n",
      "-(k_z^2 - kappa_vacuum^2)*H_inner_vacuum_y(x) == -k_y*k_z*H_inner_vacuum_z(x) + sqrt(-k_z^2 + kappa_vacuum^2)*kappa_vacuum*E_inner_vacuum_z(x)\n"
     ]
    },
    {
     "data": {
      "text/latex": [
       "$\\displaystyle -{\\left(k_{z}^{2} - \\kappa_{\\mathit{vacuum}}^{2}\\right)} H_{{\\rm inner}_{{\\rm vacuum}_{y}}}\\left(x\\right) = -k_{y} k_{z} H_{{\\rm inner}_{{\\rm vacuum}_{z}}}\\left(x\\right) + \\sqrt{-k_{z}^{2} + \\kappa_{\\mathit{vacuum}}^{2}} \\kappa_{\\mathit{vacuum}} E_{{\\rm inner}_{{\\rm vacuum}_{z}}}\\left(x\\right)$"
      ],
      "text/plain": [
       "<IPython.core.display.Math object>"
      ]
     },
     "metadata": {},
     "output_type": "display_data"
    }
   ],
   "source": [
    "eq_rot_H_inner_vacuum_x_subs       = eq_rot_H_inner_vacuum_x.subs(omega==c*kappa_vacuum/sqrt(epsilon_0*mu_0))\n",
    "print (\"eq_rot_H_inner_vacuum_y rot H (E_x) =\")\n",
    "print(eq_rot_H_inner_vacuum_x)\n",
    "display(Math(latex(eq_rot_H_inner_vacuum_x)))\n",
    "\n",
    "eq_rot_H_inner_vacuum_x_subs_solve = solve(eq_rot_H_inner_vacuum_x_subs, E_inner_vacuum_x(x))[0] * kappa_vacuum\n",
    "print (\"eq_rot_H_inner_vacuum_x_subs_solve rot H (E_x) =\")\n",
    "print(eq_rot_H_inner_vacuum_x_subs_solve)\n",
    "display(Math(latex(eq_rot_H_inner_vacuum_x_subs_solve)))\n",
    "\n",
    "eq_rot_E_inner_vacuum_y = H_inner_vacuum_f_y(x) == H_inner_vacuum_s_y(x)\n",
    "eq_rot_E_inner_vacuum_y_subs = eq_rot_E_inner_vacuum_y.subs(omega==c*kappa_vacuum/sqrt(epsilon_0*mu_0)) * kappa_vacuum\n",
    "print (\"eq_rot_E_inner_vacuum_y_subs (x) rot E =\")\n",
    "print             (eq_rot_E_inner_vacuum_y_subs)\n",
    "display(Math(latex(eq_rot_E_inner_vacuum_y_subs)))\n",
    "\n",
    "#eq_rotH_rotE \\\n",
    "#    =  eq_rot_H_inner_vacuum_x_subs_solve.lhs() + eq_rot_E_inner_vacuum_y_subs.lhs() \\\n",
    "#    == eq_rot_H_inner_vacuum_x_subs_solve.rhs() + eq_rot_E_inner_vacuum_y_subs.rhs()\n",
    "#print (\"eq_rotH_rotE =\")\n",
    "#print             (eq_rotH_rotE)\n",
    "#display(Math(latex(eq_rotH_rotE)))\n",
    "\n",
    "eq_rot_H_inner_vacuum_x_subs_solve_m \\\n",
    "    =  eq_rot_H_inner_vacuum_x_subs_solve.lhs() \\\n",
    "    -  eq_rot_H_inner_vacuum_x_subs_solve.rhs().expand().operands()[0] \\\n",
    "    == eq_rot_H_inner_vacuum_x_subs_solve.rhs().expand().operands()[1]\n",
    "print (\"eq_rot_H_inner_vacuum_x_subs_solve_m =\")\n",
    "print             (eq_rot_H_inner_vacuum_x_subs_solve_m)\n",
    "display(Math(latex(eq_rot_H_inner_vacuum_x_subs_solve_m)))\n",
    "\n",
    "eq_rot_E_inner_vacuum_y_subs_m \\\n",
    "    =  eq_rot_E_inner_vacuum_y_subs.lhs() \\\n",
    "    -  eq_rot_E_inner_vacuum_y_subs.rhs().expand().operands()[0] \\\n",
    "    == eq_rot_E_inner_vacuum_y_subs.rhs().expand().operands()[1]\n",
    "print (\"eq_rot_E_inner_vacuum_y_subs_m =\")\n",
    "print             (eq_rot_E_inner_vacuum_y_subs_m)\n",
    "display(Math(latex(eq_rot_E_inner_vacuum_y_subs_m)))\n",
    "\n",
    "#eq_rot_H_inner_vacuum_x_subs_solve_m =\n",
    "#kappa_vacuum*E_inner_vacuum_x(x) - k_z*H_inner_vacuum_y(x) == -k_y*H_inner_vacuum_z(x)\n",
    "\n",
    "#eq_rot_E_inner_vacuum_y_subs_m =\n",
    "#-k_z*E_inner_vacuum_x(x) + kappa_vacuum*H_inner_vacuum_y(x) == sqrt(-k^2 + kappa_vacuum^2)*E_inner_vacuum_z(x)\n",
    "\n",
    "eq_5 = (eq_rot_H_inner_vacuum_x_subs_solve_m*kappa_vacuum + eq_rot_E_inner_vacuum_y_subs_m*k_z).full_simplify()\n",
    "print (\"eq_5 =\")\n",
    "print             (eq_5)\n",
    "display(Math(latex(eq_5)))\n",
    "\n",
    "eq_6 = (eq_rot_H_inner_vacuum_x_subs_solve_m*k_z + eq_rot_E_inner_vacuum_y_subs_m*kappa_vacuum).full_simplify()\n",
    "print (\"eq_6 =\")\n",
    "print             (eq_6)\n",
    "display(Math(latex(eq_6)))\n",
    "\n",
    "#print (\"H_inner_vacuum_subs_y (x) rot E =\")\n",
    "#H_inner_vacuum_subs_y = H_inner_vacuum_s_y(x).subs(omega==c*kappa_vacuum/sqrt(epsilon_0*mu_0))\n",
    "#print             (H_inner_vacuum_subs_y)\n",
    "#display(Math(latex(H_inner_vacuum_subs_y)))\n",
    "\n",
    "#print (\"E_inner_vacuum_x_fun(x) =\")\n",
    "#E_inner_vacuum_x_fun(x) = eq_rot_H_inner_vacuum_x_subs_solve.rhs()\n",
    "#print(E_inner_vacuum_x_fun(x))\n",
    "#display(Math(latex(E_inner_vacuum_x_fun(x))))\n",
    "\n",
    "#print (\"H_inner_vacuum_subs_fun_y (x) =\")\n",
    "#H_inner_vacuum_subs_fun_y = H_inner_vacuum_subs_y \\\n",
    "#    .substitute_function(E_inner_vacuum_x, E_inner_vacuum_x_fun)\n",
    "#print (H_inner_vacuum_subs_fun_y)\n",
    "#display(Math(latex(H_inner_vacuum_subs_fun_y)))\n",
    "\n",
    "#print (\"H_inner_vacuum_subs_fun_sol_y (x) =\")\n",
    "#H_inner_vacuum_subs_fun_sol_y = H_inner_vacuum_subs_fun_y \\\n",
    "#    .substitute_function(E_inner_vacuum_z, E_inner_vacuum_sol_z) \\\n",
    "#    .substitute_function(E_inner_vacuum_y, E_inner_vacuum_sol_y) \\\n",
    "#    .subs(eqEz_0, eqEy_0).full_simplify()\n",
    "#print (H_inner_vacuum_subs_fun_sol_y)\n",
    "#display(Math(latex(H_inner_vacuum_subs_fun_sol_y)))\n"
   ]
  },
  {
   "cell_type": "code",
   "execution_count": 38,
   "metadata": {},
   "outputs": [
    {
     "name": "stdout",
     "output_type": "stream",
     "text": [
      "eq_rot_H_bad_conductor_x rot_H = epsilon*d/dt(E_x) =\n",
      "-I*k_z*H_bad_conductor_y(x) + I*k_y*H_bad_conductor_z(x) == -I*epsilon*omega*E_bad_conductor_x(x)/c\n"
     ]
    },
    {
     "data": {
      "text/latex": [
       "$\\displaystyle -i \\, k_{z} H_{{\\rm bad}_{{\\rm conductor}_{y}}}\\left(x\\right) + i \\, k_{y} H_{{\\rm bad}_{{\\rm conductor}_{z}}}\\left(x\\right) = -\\frac{i \\, \\epsilon \\omega E_{{\\rm bad}_{{\\rm conductor}_{x}}}\\left(x\\right)}{c}$"
      ],
      "text/plain": [
       "<IPython.core.display.Math object>"
      ]
     },
     "metadata": {},
     "output_type": "display_data"
    },
    {
     "name": "stdout",
     "output_type": "stream",
     "text": [
      "eq_rot_H_bad_conductor_x_subs rot_H = epsilon*d/dt(E_x) =\n",
      "-I*k_z*H_bad_conductor_y(x) + I*k_y*H_bad_conductor_z(x) == -I*epsilon*kappa*E_bad_conductor_x(x)/sqrt(epsilon*mu)\n"
     ]
    },
    {
     "data": {
      "text/latex": [
       "$\\displaystyle -i \\, k_{z} H_{{\\rm bad}_{{\\rm conductor}_{y}}}\\left(x\\right) + i \\, k_{y} H_{{\\rm bad}_{{\\rm conductor}_{z}}}\\left(x\\right) = -\\frac{i \\, \\epsilon \\kappa E_{{\\rm bad}_{{\\rm conductor}_{x}}}\\left(x\\right)}{\\sqrt{\\epsilon \\mu}}$"
      ],
      "text/plain": [
       "<IPython.core.display.Math object>"
      ]
     },
     "metadata": {},
     "output_type": "display_data"
    },
    {
     "name": "stdout",
     "output_type": "stream",
     "text": [
      "eq_rot_H_bad_conductor_x_subs_solve rot H = epsilon*d/dt(E_x) =\n",
      "kappa*E_bad_conductor_x(x) == (sqrt(epsilon*mu)*k_z*H_bad_conductor_y(x) - sqrt(epsilon*mu)*k_y*H_bad_conductor_z(x))/epsilon\n"
     ]
    },
    {
     "data": {
      "text/latex": [
       "$\\displaystyle \\kappa E_{{\\rm bad}_{{\\rm conductor}_{x}}}\\left(x\\right) = \\frac{\\sqrt{\\epsilon \\mu} k_{z} H_{{\\rm bad}_{{\\rm conductor}_{y}}}\\left(x\\right) - \\sqrt{\\epsilon \\mu} k_{y} H_{{\\rm bad}_{{\\rm conductor}_{z}}}\\left(x\\right)}{\\epsilon}$"
      ],
      "text/plain": [
       "<IPython.core.display.Math object>"
      ]
     },
     "metadata": {},
     "output_type": "display_data"
    },
    {
     "name": "stdout",
     "output_type": "stream",
     "text": [
      "eq_rot_E_bad_conductor_y_subs (x) rot E =\n",
      "kappa*H_bad_conductor_y(x) == -I*sqrt(epsilon*mu)*(I*k_z*E_bad_conductor_x(x) - I*sqrt(-k_z^2 + kappa^2)*E_bad_conductor_z(x))/mu\n"
     ]
    },
    {
     "data": {
      "text/latex": [
       "$\\displaystyle \\kappa H_{{\\rm bad}_{{\\rm conductor}_{y}}}\\left(x\\right) = -\\frac{i \\, \\sqrt{\\epsilon \\mu} {\\left(i \\, k_{z} E_{{\\rm bad}_{{\\rm conductor}_{x}}}\\left(x\\right) - i \\, \\sqrt{-k_{z}^{2} + \\kappa^{2}} E_{{\\rm bad}_{{\\rm conductor}_{z}}}\\left(x\\right)\\right)}}{\\mu}$"
      ],
      "text/plain": [
       "<IPython.core.display.Math object>"
      ]
     },
     "metadata": {},
     "output_type": "display_data"
    },
    {
     "name": "stdout",
     "output_type": "stream",
     "text": [
      "eq_rot_H_bad_conductor_x_subs_solve_m =\n",
      "kappa*E_bad_conductor_x(x) - k_z*sqrt(mu)*H_bad_conductor_y(x)/sqrt(epsilon) == -k_y*sqrt(mu)*H_bad_conductor_z(x)/sqrt(epsilon)\n"
     ]
    },
    {
     "data": {
      "text/latex": [
       "$\\displaystyle \\kappa E_{{\\rm bad}_{{\\rm conductor}_{x}}}\\left(x\\right) - \\frac{k_{z} \\sqrt{\\mu} H_{{\\rm bad}_{{\\rm conductor}_{y}}}\\left(x\\right)}{\\sqrt{\\epsilon}} = -\\frac{k_{y} \\sqrt{\\mu} H_{{\\rm bad}_{{\\rm conductor}_{z}}}\\left(x\\right)}{\\sqrt{\\epsilon}}$"
      ],
      "text/plain": [
       "<IPython.core.display.Math object>"
      ]
     },
     "metadata": {},
     "output_type": "display_data"
    },
    {
     "name": "stdout",
     "output_type": "stream",
     "text": [
      "eq_rot_E_bad_conductor_y_subs_m =\n",
      "-sqrt(epsilon)*k_z*E_bad_conductor_x(x)/sqrt(mu) + kappa*H_bad_conductor_y(x) == -sqrt(-k_z^2 + kappa^2)*sqrt(epsilon)*E_bad_conductor_z(x)/sqrt(mu)\n"
     ]
    },
    {
     "data": {
      "text/latex": [
       "$\\displaystyle -\\frac{\\sqrt{\\epsilon} k_{z} E_{{\\rm bad}_{{\\rm conductor}_{x}}}\\left(x\\right)}{\\sqrt{\\mu}} + \\kappa H_{{\\rm bad}_{{\\rm conductor}_{y}}}\\left(x\\right) = -\\frac{\\sqrt{-k_{z}^{2} + \\kappa^{2}} \\sqrt{\\epsilon} E_{{\\rm bad}_{{\\rm conductor}_{z}}}\\left(x\\right)}{\\sqrt{\\mu}}$"
      ],
      "text/plain": [
       "<IPython.core.display.Math object>"
      ]
     },
     "metadata": {},
     "output_type": "display_data"
    },
    {
     "name": "stdout",
     "output_type": "stream",
     "text": [
      "eq_7 =\n",
      "-(k_z^2 - kappa^2)*E_bad_conductor_x(x) == -(k_y*kappa*sqrt(mu)*H_bad_conductor_z(x) + sqrt(-k_z^2 + kappa^2)*sqrt(epsilon)*k_z*E_bad_conductor_z(x))/sqrt(epsilon)\n"
     ]
    },
    {
     "data": {
      "text/latex": [
       "$\\displaystyle -{\\left(k_{z}^{2} - \\kappa^{2}\\right)} E_{{\\rm bad}_{{\\rm conductor}_{x}}}\\left(x\\right) = -\\frac{k_{y} \\kappa \\sqrt{\\mu} H_{{\\rm bad}_{{\\rm conductor}_{z}}}\\left(x\\right) + \\sqrt{-k_{z}^{2} + \\kappa^{2}} \\sqrt{\\epsilon} k_{z} E_{{\\rm bad}_{{\\rm conductor}_{z}}}\\left(x\\right)}{\\sqrt{\\epsilon}}$"
      ],
      "text/plain": [
       "<IPython.core.display.Math object>"
      ]
     },
     "metadata": {},
     "output_type": "display_data"
    },
    {
     "name": "stdout",
     "output_type": "stream",
     "text": [
      "eq_8 =\n",
      "-(k_z^2 - kappa^2)*sqrt(mu)*H_bad_conductor_y(x)/sqrt(epsilon) == -(k_y*k_z*sqrt(mu)*H_bad_conductor_z(x) + sqrt(-k_z^2 + kappa^2)*sqrt(epsilon)*kappa*E_bad_conductor_z(x))/sqrt(epsilon)\n"
     ]
    },
    {
     "data": {
      "text/latex": [
       "$\\displaystyle -\\frac{{\\left(k_{z}^{2} - \\kappa^{2}\\right)} \\sqrt{\\mu} H_{{\\rm bad}_{{\\rm conductor}_{y}}}\\left(x\\right)}{\\sqrt{\\epsilon}} = -\\frac{k_{y} k_{z} \\sqrt{\\mu} H_{{\\rm bad}_{{\\rm conductor}_{z}}}\\left(x\\right) + \\sqrt{-k_{z}^{2} + \\kappa^{2}} \\sqrt{\\epsilon} \\kappa E_{{\\rm bad}_{{\\rm conductor}_{z}}}\\left(x\\right)}{\\sqrt{\\epsilon}}$"
      ],
      "text/plain": [
       "<IPython.core.display.Math object>"
      ]
     },
     "metadata": {},
     "output_type": "display_data"
    }
   ],
   "source": [
    "eq_rot_H_bad_conductor_x_subs       = eq_rot_H_bad_conductor_x.subs(omega==c*kappa/sqrt(epsilon*mu))\n",
    "print (\"eq_rot_H_bad_conductor_x rot_H = epsilon*d/dt(E_x) =\")\n",
    "print(eq_rot_H_bad_conductor_x)\n",
    "display(Math(latex(eq_rot_H_bad_conductor_x)))\n",
    "\n",
    "print (\"eq_rot_H_bad_conductor_x_subs rot_H = epsilon*d/dt(E_x) =\")\n",
    "print(eq_rot_H_bad_conductor_x_subs)\n",
    "display(Math(latex(eq_rot_H_bad_conductor_x_subs)))\n",
    "\n",
    "\n",
    "eq_rot_H_bad_conductor_x_subs_solve = solve(eq_rot_H_bad_conductor_x_subs, E_bad_conductor_x(x))[0] * kappa\n",
    "print (\"eq_rot_H_bad_conductor_x_subs_solve rot H = epsilon*d/dt(E_x) =\")\n",
    "print(eq_rot_H_bad_conductor_x_subs_solve)\n",
    "display(Math(latex(eq_rot_H_bad_conductor_x_subs_solve)))\n",
    "\n",
    "eq_rot_E_bad_conductor_y = H_bad_conductor_f_y(x) == H_bad_conductor_s_y(x)\n",
    "eq_rot_E_bad_conductor_y_subs = eq_rot_E_bad_conductor_y.subs(omega==c*kappa/sqrt(epsilon*mu)) * kappa\n",
    "print (\"eq_rot_E_bad_conductor_y_subs (x) rot E =\")\n",
    "print             (eq_rot_E_bad_conductor_y_subs)\n",
    "display(Math(latex(eq_rot_E_bad_conductor_y_subs)))\n",
    "\n",
    "#eq_rotH_rotE \\\n",
    "#    =  eq_rot_H_bad_conductor_x_subs_solve.lhs() + eq_rot_E_bad_conductor_y_subs.lhs() \\\n",
    "#    == eq_rot_H_bad_conductor_x_subs_solve.rhs() + eq_rot_E_bad_conductor_y_subs.rhs()\n",
    "#print (\"eq_rotH_rotE =\")\n",
    "#print             (eq_rotH_rotE)\n",
    "#display(Math(latex(eq_rotH_rotE)))\n",
    "\n",
    "eq_rot_H_bad_conductor_x_subs_solve_m \\\n",
    "    =  eq_rot_H_bad_conductor_x_subs_solve.lhs() \\\n",
    "    -  eq_rot_H_bad_conductor_x_subs_solve.rhs().expand().operands()[0] \\\n",
    "    == eq_rot_H_bad_conductor_x_subs_solve.rhs().expand().operands()[1]\n",
    "print (\"eq_rot_H_bad_conductor_x_subs_solve_m =\")\n",
    "print             (eq_rot_H_bad_conductor_x_subs_solve_m)\n",
    "display(Math(latex(eq_rot_H_bad_conductor_x_subs_solve_m)))\n",
    "\n",
    "eq_rot_E_bad_conductor_y_subs_m \\\n",
    "    =  eq_rot_E_bad_conductor_y_subs.lhs() \\\n",
    "    -  eq_rot_E_bad_conductor_y_subs.rhs().expand().operands()[0] \\\n",
    "    == eq_rot_E_bad_conductor_y_subs.rhs().expand().operands()[1]\n",
    "print (\"eq_rot_E_bad_conductor_y_subs_m =\")\n",
    "print             (eq_rot_E_bad_conductor_y_subs_m)\n",
    "display(Math(latex(eq_rot_E_bad_conductor_y_subs_m)))\n",
    "\n",
    "m3 = k_z*sqrt(mu)/sqrt(epsilon)\n",
    "m4 = sqrt(mu)*kappa/sqrt(epsilon)\n",
    "\n",
    "eq_7 = (eq_rot_H_bad_conductor_x_subs_solve_m*kappa + eq_rot_E_bad_conductor_y_subs_m * m3).full_simplify()\n",
    "print (\"eq_7 =\")\n",
    "print             (eq_7)\n",
    "display(Math(latex(eq_7)))\n",
    "\n",
    "eq_8 = (eq_rot_H_bad_conductor_x_subs_solve_m*k_z + eq_rot_E_bad_conductor_y_subs_m * m4).full_simplify()\n",
    "print (\"eq_8 =\")\n",
    "print             (eq_8)\n",
    "display(Math(latex(eq_8)))\n",
    "\n",
    "#print (\"H_bad_conductor_subs_y (x) rot E =\")\n",
    "#H_bad_conductor_subs_y = H_bad_conductor_s_y(x).subs(omega==c*kappa/sqrt(epsilon*mu)) * kappa\n",
    "#print             (H_bad_conductor_subs_y)\n",
    "#display(Math(latex(H_bad_conductor_subs_y)))\n",
    "\n",
    "#print (\"E_bad_conductor_x_fun(x) =\")\n",
    "#E_bad_conductor_x_fun(x) = eq_rot_H_bad_conductor_x_subs_solve.rhs()\n",
    "#print(E_bad_conductor_x_fun(x))\n",
    "#display(Math(latex(E_bad_conductor_x_fun(x))))\n",
    "\n",
    "#print (\"H_bad_conductor_subs_fun_y (x) =\")\n",
    "#H_bad_conductor_subs_fun_y = H_bad_conductor_subs_y \\\n",
    "#    .substitute_function(E_bad_conductor_x, E_bad_conductor_x_fun)\n",
    "#print (H_bad_conductor_subs_fun_y)\n",
    "#display(Math(latex(H_bad_conductor_subs_fun_y)))\n",
    "\n",
    "#print (\"H_bad_conductor_subs_fun_sol_y (x) =\")\n",
    "#H_bad_conductor_subs_fun_sol_y = H_bad_conductor_subs_fun_y \\\n",
    "#    .substitute_function(E_bad_conductor_z, E_bad_conductor_sol_z) \\\n",
    "#    .substitute_function(E_bad_conductor_y, E_bad_conductor_sol_y) \\\n",
    "#    .subs(eqEz_0, eqEy_0).full_simplify()\n",
    "#print (H_bad_conductor_subs_fun_sol_y)\n",
    "#display(Math(latex(H_bad_conductor_subs_fun_sol_y)))"
   ]
  },
  {
   "cell_type": "code",
   "execution_count": 39,
   "metadata": {},
   "outputs": [
    {
     "name": "stdout",
     "output_type": "stream",
     "text": [
      "eq_1 =\n",
      "-(k_z^2 - kappa_vacuum^2)*E_inner_vacuum_y(x) == -k_y*k_z*E_inner_vacuum_z(x) - I*kappa_vacuum*diff(H_inner_vacuum_z(x), x)\n"
     ]
    },
    {
     "data": {
      "text/latex": [
       "$\\displaystyle -{\\left(k_{z}^{2} - \\kappa_{\\mathit{vacuum}}^{2}\\right)} E_{{\\rm inner}_{{\\rm vacuum}_{y}}}\\left(x\\right) = -k_{y} k_{z} E_{{\\rm inner}_{{\\rm vacuum}_{z}}}\\left(x\\right) - i \\, \\kappa_{\\mathit{vacuum}} \\frac{\\partial}{\\partial x}H_{{\\rm inner}_{{\\rm vacuum}_{z}}}\\left(x\\right)$"
      ],
      "text/plain": [
       "<IPython.core.display.Math object>"
      ]
     },
     "metadata": {},
     "output_type": "display_data"
    },
    {
     "name": "stdout",
     "output_type": "stream",
     "text": [
      "eq_2 =\n",
      "(k_z^2 - kappa_vacuum^2)*H_inner_vacuum_x(x) == -k_y*kappa_vacuum*E_inner_vacuum_z(x) - I*k_z*diff(H_inner_vacuum_z(x), x)\n"
     ]
    },
    {
     "data": {
      "text/latex": [
       "$\\displaystyle {\\left(k_{z}^{2} - \\kappa_{\\mathit{vacuum}}^{2}\\right)} H_{{\\rm inner}_{{\\rm vacuum}_{x}}}\\left(x\\right) = -k_{y} \\kappa_{\\mathit{vacuum}} E_{{\\rm inner}_{{\\rm vacuum}_{z}}}\\left(x\\right) - i \\, k_{z} \\frac{\\partial}{\\partial x}H_{{\\rm inner}_{{\\rm vacuum}_{z}}}\\left(x\\right)$"
      ],
      "text/plain": [
       "<IPython.core.display.Math object>"
      ]
     },
     "metadata": {},
     "output_type": "display_data"
    },
    {
     "name": "stdout",
     "output_type": "stream",
     "text": [
      "eq_3 =\n",
      "-(k_z^2 - kappa^2)*E_bad_conductor_y(x) == -(sqrt(epsilon)*k_y*k_z*E_bad_conductor_z(x) + I*kappa*sqrt(mu)*diff(H_bad_conductor_z(x), x))/sqrt(epsilon)\n"
     ]
    },
    {
     "data": {
      "text/latex": [
       "$\\displaystyle -{\\left(k_{z}^{2} - \\kappa^{2}\\right)} E_{{\\rm bad}_{{\\rm conductor}_{y}}}\\left(x\\right) = -\\frac{\\sqrt{\\epsilon} k_{y} k_{z} E_{{\\rm bad}_{{\\rm conductor}_{z}}}\\left(x\\right) + i \\, \\kappa \\sqrt{\\mu} \\frac{\\partial}{\\partial x}H_{{\\rm bad}_{{\\rm conductor}_{z}}}\\left(x\\right)}{\\sqrt{\\epsilon}}$"
      ],
      "text/plain": [
       "<IPython.core.display.Math object>"
      ]
     },
     "metadata": {},
     "output_type": "display_data"
    },
    {
     "name": "stdout",
     "output_type": "stream",
     "text": [
      "eq_4 =\n",
      "(k_z^2 - kappa^2)*sqrt(mu)*H_bad_conductor_x(x)/sqrt(epsilon) == -(sqrt(epsilon)*k_y*kappa*E_bad_conductor_z(x) + I*k_z*sqrt(mu)*diff(H_bad_conductor_z(x), x))/sqrt(epsilon)\n"
     ]
    },
    {
     "data": {
      "text/latex": [
       "$\\displaystyle \\frac{{\\left(k_{z}^{2} - \\kappa^{2}\\right)} \\sqrt{\\mu} H_{{\\rm bad}_{{\\rm conductor}_{x}}}\\left(x\\right)}{\\sqrt{\\epsilon}} = -\\frac{\\sqrt{\\epsilon} k_{y} \\kappa E_{{\\rm bad}_{{\\rm conductor}_{z}}}\\left(x\\right) + i \\, k_{z} \\sqrt{\\mu} \\frac{\\partial}{\\partial x}H_{{\\rm bad}_{{\\rm conductor}_{z}}}\\left(x\\right)}{\\sqrt{\\epsilon}}$"
      ],
      "text/plain": [
       "<IPython.core.display.Math object>"
      ]
     },
     "metadata": {},
     "output_type": "display_data"
    }
   ],
   "source": [
    "print (\"eq_1 =\")\n",
    "print             (eq_1)\n",
    "display(Math(latex(eq_1)))\n",
    "\n",
    "print (\"eq_2 =\")\n",
    "print             (eq_2)\n",
    "display(Math(latex(eq_2)))\n",
    "\n",
    "print (\"eq_3 =\")\n",
    "print             (eq_3)\n",
    "display(Math(latex(eq_3)))\n",
    "\n",
    "print (\"eq_4 =\")\n",
    "print             (eq_4)\n",
    "display(Math(latex(eq_4)))"
   ]
  },
  {
   "cell_type": "code",
   "execution_count": 40,
   "metadata": {},
   "outputs": [
    {
     "name": "stdout",
     "output_type": "stream",
     "text": [
      "eq_1 =\n",
      "-(k_z^2 - kappa_vacuum^2)*E_inner_vacuum_y(x) == -k_y*k_z*E_inner_vacuum_z(x) - I*kappa_vacuum*diff(H_inner_vacuum_z(x), x)\n"
     ]
    },
    {
     "data": {
      "text/latex": [
       "$\\displaystyle -{\\left(k_{z}^{2} - \\kappa_{\\mathit{vacuum}}^{2}\\right)} E_{{\\rm inner}_{{\\rm vacuum}_{y}}}\\left(x\\right) = -k_{y} k_{z} E_{{\\rm inner}_{{\\rm vacuum}_{z}}}\\left(x\\right) - i \\, \\kappa_{\\mathit{vacuum}} \\frac{\\partial}{\\partial x}H_{{\\rm inner}_{{\\rm vacuum}_{z}}}\\left(x\\right)$"
      ],
      "text/plain": [
       "<IPython.core.display.Math object>"
      ]
     },
     "metadata": {},
     "output_type": "display_data"
    }
   ],
   "source": [
    "print (\"eq_1 =\")\n",
    "print             (eq_1)\n",
    "display(Math(latex(eq_1)))"
   ]
  },
  {
   "cell_type": "code",
   "execution_count": 41,
   "metadata": {
    "scrolled": true
   },
   "outputs": [
    {
     "name": "stdout",
     "output_type": "stream",
     "text": [
      "-(k_z^2 - kappa_vacuum^2)*E_inner_vacuum_y(x) == -I*kappa_vacuum*diff(H_inner_vacuum_z(x), x)\n"
     ]
    },
    {
     "data": {
      "text/latex": [
       "$\\displaystyle -{\\left(k_{z}^{2} - \\kappa_{\\mathit{vacuum}}^{2}\\right)} E_{{\\rm inner}_{{\\rm vacuum}_{y}}}\\left(x\\right) = -i \\, \\kappa_{\\mathit{vacuum}} \\frac{\\partial}{\\partial x}H_{{\\rm inner}_{{\\rm vacuum}_{z}}}\\left(x\\right)$"
      ],
      "text/plain": [
       "<IPython.core.display.Math object>"
      ]
     },
     "metadata": {},
     "output_type": "display_data"
    }
   ],
   "source": [
    "eq_1_subs1 = eq_1.subs(k_y == 0)\n",
    "print             (eq_1_subs1)\n",
    "display(Math(latex(eq_1_subs1)))"
   ]
  },
  {
   "cell_type": "code",
   "execution_count": 42,
   "metadata": {
    "scrolled": true
   },
   "outputs": [
    {
     "name": "stdout",
     "output_type": "stream",
     "text": [
      "E_inner_vacuum_y(x) == I*kappa_vacuum*diff(H_inner_vacuum_z(x), x)/(k_z^2 - kappa_vacuum^2)\n"
     ]
    },
    {
     "data": {
      "text/latex": [
       "$\\displaystyle E_{{\\rm inner}_{{\\rm vacuum}_{y}}}\\left(x\\right) = \\frac{i \\, \\kappa_{\\mathit{vacuum}} \\frac{\\partial}{\\partial x}H_{{\\rm inner}_{{\\rm vacuum}_{z}}}\\left(x\\right)}{k_{z}^{2} - \\kappa_{\\mathit{vacuum}}^{2}}$"
      ],
      "text/plain": [
       "<IPython.core.display.Math object>"
      ]
     },
     "metadata": {},
     "output_type": "display_data"
    }
   ],
   "source": [
    "eq_1_subs2 = (eq_1_subs1/(kappa_vacuum^2 - k_z^2)).full_simplify()\n",
    "print             (eq_1_subs2)\n",
    "display(Math(latex(eq_1_subs2)))"
   ]
  },
  {
   "cell_type": "code",
   "execution_count": 43,
   "metadata": {
    "scrolled": true
   },
   "outputs": [
    {
     "name": "stdout",
     "output_type": "stream",
     "text": [
      "E_inner_vacuum_y(x) == I*kappa_vacuum*diff(H_inner_vacuum_z(x), x)/(k_z^2 - kappa_vacuum^2)\n"
     ]
    },
    {
     "data": {
      "text/latex": [
       "$\\displaystyle E_{{\\rm inner}_{{\\rm vacuum}_{y}}}\\left(x\\right) = \\frac{i \\, \\kappa_{\\mathit{vacuum}} \\frac{\\partial}{\\partial x}H_{{\\rm inner}_{{\\rm vacuum}_{z}}}\\left(x\\right)}{k_{z}^{2} - \\kappa_{\\mathit{vacuum}}^{2}}$"
      ],
      "text/plain": [
       "<IPython.core.display.Math object>"
      ]
     },
     "metadata": {},
     "output_type": "display_data"
    }
   ],
   "source": [
    "eq_1_subs4 = eq_1_subs2.subs(E_inner_vacuum_z(x) == E_inner_vacuum_sol_z(x)).full_simplify()\n",
    "print             (eq_1_subs4)\n",
    "display(Math(latex(eq_1_subs4)))"
   ]
  },
  {
   "cell_type": "code",
   "execution_count": null,
   "metadata": {},
   "outputs": [],
   "source": []
  },
  {
   "cell_type": "code",
   "execution_count": 44,
   "metadata": {},
   "outputs": [
    {
     "name": "stdout",
     "output_type": "stream",
     "text": [
      "eq_2 =\n",
      "(k_z^2 - kappa_vacuum^2)*H_inner_vacuum_x(x) == -k_y*kappa_vacuum*E_inner_vacuum_z(x) - I*k_z*diff(H_inner_vacuum_z(x), x)\n"
     ]
    },
    {
     "data": {
      "text/latex": [
       "$\\displaystyle {\\left(k_{z}^{2} - \\kappa_{\\mathit{vacuum}}^{2}\\right)} H_{{\\rm inner}_{{\\rm vacuum}_{x}}}\\left(x\\right) = -k_{y} \\kappa_{\\mathit{vacuum}} E_{{\\rm inner}_{{\\rm vacuum}_{z}}}\\left(x\\right) - i \\, k_{z} \\frac{\\partial}{\\partial x}H_{{\\rm inner}_{{\\rm vacuum}_{z}}}\\left(x\\right)$"
      ],
      "text/plain": [
       "<IPython.core.display.Math object>"
      ]
     },
     "metadata": {},
     "output_type": "display_data"
    }
   ],
   "source": [
    "print (\"eq_2 =\")\n",
    "print             (eq_2)\n",
    "display(Math(latex(eq_2)))"
   ]
  },
  {
   "cell_type": "code",
   "execution_count": 45,
   "metadata": {
    "scrolled": true
   },
   "outputs": [
    {
     "name": "stdout",
     "output_type": "stream",
     "text": [
      "(k_z^2 - kappa_vacuum^2)*H_inner_vacuum_x(x) == -I*k_z*diff(H_inner_vacuum_z(x), x)\n"
     ]
    },
    {
     "data": {
      "text/latex": [
       "$\\displaystyle {\\left(k_{z}^{2} - \\kappa_{\\mathit{vacuum}}^{2}\\right)} H_{{\\rm inner}_{{\\rm vacuum}_{x}}}\\left(x\\right) = -i \\, k_{z} \\frac{\\partial}{\\partial x}H_{{\\rm inner}_{{\\rm vacuum}_{z}}}\\left(x\\right)$"
      ],
      "text/plain": [
       "<IPython.core.display.Math object>"
      ]
     },
     "metadata": {},
     "output_type": "display_data"
    }
   ],
   "source": [
    "eq_2_subs1 = eq_2.subs(k_y == 0)\n",
    "print             (eq_2_subs1)\n",
    "display(Math(latex(eq_2_subs1)))"
   ]
  },
  {
   "cell_type": "code",
   "execution_count": 46,
   "metadata": {
    "scrolled": true
   },
   "outputs": [
    {
     "name": "stdout",
     "output_type": "stream",
     "text": [
      "-H_inner_vacuum_x(x) == I*k_z*diff(H_inner_vacuum_z(x), x)/(k_z^2 - kappa_vacuum^2)\n"
     ]
    },
    {
     "data": {
      "text/latex": [
       "$\\displaystyle -H_{{\\rm inner}_{{\\rm vacuum}_{x}}}\\left(x\\right) = \\frac{i \\, k_{z} \\frac{\\partial}{\\partial x}H_{{\\rm inner}_{{\\rm vacuum}_{z}}}\\left(x\\right)}{k_{z}^{2} - \\kappa_{\\mathit{vacuum}}^{2}}$"
      ],
      "text/plain": [
       "<IPython.core.display.Math object>"
      ]
     },
     "metadata": {},
     "output_type": "display_data"
    }
   ],
   "source": [
    "eq_2_subs2 = (eq_2_subs1/(kappa_vacuum^2 - k_z^2)).full_simplify()\n",
    "print             (eq_2_subs2)\n",
    "display(Math(latex(eq_2_subs2)))"
   ]
  },
  {
   "cell_type": "code",
   "execution_count": 47,
   "metadata": {
    "scrolled": true
   },
   "outputs": [
    {
     "name": "stdout",
     "output_type": "stream",
     "text": [
      "-H_inner_vacuum_x(x) == I*k_z*diff(H_inner_vacuum_z(x), x)/(k_z^2 - kappa_vacuum^2)\n"
     ]
    },
    {
     "data": {
      "text/latex": [
       "$\\displaystyle -H_{{\\rm inner}_{{\\rm vacuum}_{x}}}\\left(x\\right) = \\frac{i \\, k_{z} \\frac{\\partial}{\\partial x}H_{{\\rm inner}_{{\\rm vacuum}_{z}}}\\left(x\\right)}{k_{z}^{2} - \\kappa_{\\mathit{vacuum}}^{2}}$"
      ],
      "text/plain": [
       "<IPython.core.display.Math object>"
      ]
     },
     "metadata": {},
     "output_type": "display_data"
    }
   ],
   "source": [
    "eq_2_subs4 = eq_2_subs2.subs(E_inner_vacuum_z(x) == E_inner_vacuum_sol_z(x)).full_simplify()\n",
    "print             (eq_2_subs4)\n",
    "display(Math(latex(eq_2_subs4)))"
   ]
  },
  {
   "cell_type": "code",
   "execution_count": null,
   "metadata": {},
   "outputs": [],
   "source": []
  },
  {
   "cell_type": "code",
   "execution_count": 48,
   "metadata": {},
   "outputs": [
    {
     "name": "stdout",
     "output_type": "stream",
     "text": [
      "eq_3 =\n",
      "-(k_z^2 - kappa^2)*E_bad_conductor_y(x) == -(sqrt(epsilon)*k_y*k_z*E_bad_conductor_z(x) + I*kappa*sqrt(mu)*diff(H_bad_conductor_z(x), x))/sqrt(epsilon)\n"
     ]
    },
    {
     "data": {
      "text/latex": [
       "$\\displaystyle -{\\left(k_{z}^{2} - \\kappa^{2}\\right)} E_{{\\rm bad}_{{\\rm conductor}_{y}}}\\left(x\\right) = -\\frac{\\sqrt{\\epsilon} k_{y} k_{z} E_{{\\rm bad}_{{\\rm conductor}_{z}}}\\left(x\\right) + i \\, \\kappa \\sqrt{\\mu} \\frac{\\partial}{\\partial x}H_{{\\rm bad}_{{\\rm conductor}_{z}}}\\left(x\\right)}{\\sqrt{\\epsilon}}$"
      ],
      "text/plain": [
       "<IPython.core.display.Math object>"
      ]
     },
     "metadata": {},
     "output_type": "display_data"
    }
   ],
   "source": [
    "print (\"eq_3 =\")\n",
    "print             (eq_3)\n",
    "display(Math(latex(eq_3)))"
   ]
  },
  {
   "cell_type": "code",
   "execution_count": 49,
   "metadata": {
    "scrolled": true
   },
   "outputs": [
    {
     "name": "stdout",
     "output_type": "stream",
     "text": [
      "-(k_z^2 - kappa^2)*E_bad_conductor_y(x) == -I*kappa*sqrt(mu)*diff(H_bad_conductor_z(x), x)/sqrt(epsilon)\n"
     ]
    },
    {
     "data": {
      "text/latex": [
       "$\\displaystyle -{\\left(k_{z}^{2} - \\kappa^{2}\\right)} E_{{\\rm bad}_{{\\rm conductor}_{y}}}\\left(x\\right) = -\\frac{i \\, \\kappa \\sqrt{\\mu} \\frac{\\partial}{\\partial x}H_{{\\rm bad}_{{\\rm conductor}_{z}}}\\left(x\\right)}{\\sqrt{\\epsilon}}$"
      ],
      "text/plain": [
       "<IPython.core.display.Math object>"
      ]
     },
     "metadata": {},
     "output_type": "display_data"
    }
   ],
   "source": [
    "eq_3_subs1 = eq_3.subs(k_y == 0)\n",
    "print             (eq_3_subs1)\n",
    "display(Math(latex(eq_3_subs1)))"
   ]
  },
  {
   "cell_type": "code",
   "execution_count": 50,
   "metadata": {
    "scrolled": true
   },
   "outputs": [
    {
     "name": "stdout",
     "output_type": "stream",
     "text": [
      "E_bad_conductor_y(x) == I*kappa*sqrt(mu)*diff(H_bad_conductor_z(x), x)/((k_z^2 - kappa^2)*sqrt(epsilon))\n"
     ]
    },
    {
     "data": {
      "text/latex": [
       "$\\displaystyle E_{{\\rm bad}_{{\\rm conductor}_{y}}}\\left(x\\right) = \\frac{i \\, \\kappa \\sqrt{\\mu} \\frac{\\partial}{\\partial x}H_{{\\rm bad}_{{\\rm conductor}_{z}}}\\left(x\\right)}{{\\left(k_{z}^{2} - \\kappa^{2}\\right)} \\sqrt{\\epsilon}}$"
      ],
      "text/plain": [
       "<IPython.core.display.Math object>"
      ]
     },
     "metadata": {},
     "output_type": "display_data"
    }
   ],
   "source": [
    "eq_3_subs2 = (eq_3_subs1/(kappa^2 - k_z^2)).full_simplify()\n",
    "print             (eq_3_subs2)\n",
    "display(Math(latex(eq_3_subs2)))"
   ]
  },
  {
   "cell_type": "code",
   "execution_count": 51,
   "metadata": {
    "scrolled": true
   },
   "outputs": [
    {
     "name": "stdout",
     "output_type": "stream",
     "text": [
      "E_bad_conductor_y(x) == I*kappa*sqrt(mu)*diff(H_bad_conductor_z(x), x)/((k_z^2 - kappa^2)*sqrt(epsilon))\n"
     ]
    },
    {
     "data": {
      "text/latex": [
       "$\\displaystyle E_{{\\rm bad}_{{\\rm conductor}_{y}}}\\left(x\\right) = \\frac{i \\, \\kappa \\sqrt{\\mu} \\frac{\\partial}{\\partial x}H_{{\\rm bad}_{{\\rm conductor}_{z}}}\\left(x\\right)}{{\\left(k_{z}^{2} - \\kappa^{2}\\right)} \\sqrt{\\epsilon}}$"
      ],
      "text/plain": [
       "<IPython.core.display.Math object>"
      ]
     },
     "metadata": {},
     "output_type": "display_data"
    }
   ],
   "source": [
    "eq_3_subs4 = eq_3_subs2.subs(E_bad_conductor_z(x) == E_bad_conductor_sol_z(x)).full_simplify()\n",
    "print             (eq_3_subs4)\n",
    "display(Math(latex(eq_3_subs4)))"
   ]
  },
  {
   "cell_type": "code",
   "execution_count": null,
   "metadata": {},
   "outputs": [],
   "source": []
  },
  {
   "cell_type": "code",
   "execution_count": 52,
   "metadata": {},
   "outputs": [
    {
     "name": "stdout",
     "output_type": "stream",
     "text": [
      "eq_4 =\n",
      "(k_z^2 - kappa^2)*sqrt(mu)*H_bad_conductor_x(x)/sqrt(epsilon) == -(sqrt(epsilon)*k_y*kappa*E_bad_conductor_z(x) + I*k_z*sqrt(mu)*diff(H_bad_conductor_z(x), x))/sqrt(epsilon)\n"
     ]
    },
    {
     "data": {
      "text/latex": [
       "$\\displaystyle \\frac{{\\left(k_{z}^{2} - \\kappa^{2}\\right)} \\sqrt{\\mu} H_{{\\rm bad}_{{\\rm conductor}_{x}}}\\left(x\\right)}{\\sqrt{\\epsilon}} = -\\frac{\\sqrt{\\epsilon} k_{y} \\kappa E_{{\\rm bad}_{{\\rm conductor}_{z}}}\\left(x\\right) + i \\, k_{z} \\sqrt{\\mu} \\frac{\\partial}{\\partial x}H_{{\\rm bad}_{{\\rm conductor}_{z}}}\\left(x\\right)}{\\sqrt{\\epsilon}}$"
      ],
      "text/plain": [
       "<IPython.core.display.Math object>"
      ]
     },
     "metadata": {},
     "output_type": "display_data"
    }
   ],
   "source": [
    "print (\"eq_4 =\")\n",
    "print             (eq_4)\n",
    "display(Math(latex(eq_4)))"
   ]
  },
  {
   "cell_type": "code",
   "execution_count": 53,
   "metadata": {
    "scrolled": true
   },
   "outputs": [
    {
     "name": "stdout",
     "output_type": "stream",
     "text": [
      "(k_z^2 - kappa^2)*sqrt(mu)*H_bad_conductor_x(x)/sqrt(epsilon) == -I*k_z*sqrt(mu)*diff(H_bad_conductor_z(x), x)/sqrt(epsilon)\n"
     ]
    },
    {
     "data": {
      "text/latex": [
       "$\\displaystyle \\frac{{\\left(k_{z}^{2} - \\kappa^{2}\\right)} \\sqrt{\\mu} H_{{\\rm bad}_{{\\rm conductor}_{x}}}\\left(x\\right)}{\\sqrt{\\epsilon}} = -\\frac{i \\, k_{z} \\sqrt{\\mu} \\frac{\\partial}{\\partial x}H_{{\\rm bad}_{{\\rm conductor}_{z}}}\\left(x\\right)}{\\sqrt{\\epsilon}}$"
      ],
      "text/plain": [
       "<IPython.core.display.Math object>"
      ]
     },
     "metadata": {},
     "output_type": "display_data"
    }
   ],
   "source": [
    "eq_4_subs1 = eq_4.subs(k_y == 0)\n",
    "print             (eq_4_subs1)\n",
    "display(Math(latex(eq_4_subs1)))"
   ]
  },
  {
   "cell_type": "code",
   "execution_count": 54,
   "metadata": {
    "scrolled": true
   },
   "outputs": [
    {
     "name": "stdout",
     "output_type": "stream",
     "text": [
      "-sqrt(mu)*H_bad_conductor_x(x)/sqrt(epsilon) == I*k_z*sqrt(mu)*diff(H_bad_conductor_z(x), x)/((k_z^2 - kappa^2)*sqrt(epsilon))\n"
     ]
    },
    {
     "data": {
      "text/latex": [
       "$\\displaystyle -\\frac{\\sqrt{\\mu} H_{{\\rm bad}_{{\\rm conductor}_{x}}}\\left(x\\right)}{\\sqrt{\\epsilon}} = \\frac{i \\, k_{z} \\sqrt{\\mu} \\frac{\\partial}{\\partial x}H_{{\\rm bad}_{{\\rm conductor}_{z}}}\\left(x\\right)}{{\\left(k_{z}^{2} - \\kappa^{2}\\right)} \\sqrt{\\epsilon}}$"
      ],
      "text/plain": [
       "<IPython.core.display.Math object>"
      ]
     },
     "metadata": {},
     "output_type": "display_data"
    }
   ],
   "source": [
    "eq_4_subs2 = (eq_4_subs1/(kappa^2 - k_z^2)).full_simplify()\n",
    "print             (eq_4_subs2)\n",
    "display(Math(latex(eq_4_subs2)))"
   ]
  },
  {
   "cell_type": "code",
   "execution_count": 55,
   "metadata": {
    "scrolled": true
   },
   "outputs": [
    {
     "name": "stdout",
     "output_type": "stream",
     "text": [
      "-sqrt(mu)*H_bad_conductor_x(x)/sqrt(epsilon) == I*k_z*sqrt(mu)*diff(H_bad_conductor_z(x), x)/((k_z^2 - kappa^2)*sqrt(epsilon))\n"
     ]
    },
    {
     "data": {
      "text/latex": [
       "$\\displaystyle -\\frac{\\sqrt{\\mu} H_{{\\rm bad}_{{\\rm conductor}_{x}}}\\left(x\\right)}{\\sqrt{\\epsilon}} = \\frac{i \\, k_{z} \\sqrt{\\mu} \\frac{\\partial}{\\partial x}H_{{\\rm bad}_{{\\rm conductor}_{z}}}\\left(x\\right)}{{\\left(k_{z}^{2} - \\kappa^{2}\\right)} \\sqrt{\\epsilon}}$"
      ],
      "text/plain": [
       "<IPython.core.display.Math object>"
      ]
     },
     "metadata": {},
     "output_type": "display_data"
    }
   ],
   "source": [
    "eq_4_subs4 = eq_4_subs2.subs(E_bad_conductor_z(x) == E_bad_conductor_sol_z(x)).full_simplify()\n",
    "print             (eq_4_subs4)\n",
    "display(Math(latex(eq_4_subs4)))"
   ]
  },
  {
   "cell_type": "code",
   "execution_count": null,
   "metadata": {},
   "outputs": [],
   "source": []
  },
  {
   "cell_type": "code",
   "execution_count": 56,
   "metadata": {},
   "outputs": [
    {
     "name": "stdout",
     "output_type": "stream",
     "text": [
      "eq_5 =\n",
      "-(k_z^2 - kappa_vacuum^2)*E_inner_vacuum_x(x) == -k_y*kappa_vacuum*H_inner_vacuum_z(x) + sqrt(-k_z^2 + kappa_vacuum^2)*k_z*E_inner_vacuum_z(x)\n"
     ]
    },
    {
     "data": {
      "text/latex": [
       "$\\displaystyle -{\\left(k_{z}^{2} - \\kappa_{\\mathit{vacuum}}^{2}\\right)} E_{{\\rm inner}_{{\\rm vacuum}_{x}}}\\left(x\\right) = -k_{y} \\kappa_{\\mathit{vacuum}} H_{{\\rm inner}_{{\\rm vacuum}_{z}}}\\left(x\\right) + \\sqrt{-k_{z}^{2} + \\kappa_{\\mathit{vacuum}}^{2}} k_{z} E_{{\\rm inner}_{{\\rm vacuum}_{z}}}\\left(x\\right)$"
      ],
      "text/plain": [
       "<IPython.core.display.Math object>"
      ]
     },
     "metadata": {},
     "output_type": "display_data"
    },
    {
     "name": "stdout",
     "output_type": "stream",
     "text": [
      "eq_6 =\n",
      "-(k_z^2 - kappa_vacuum^2)*H_inner_vacuum_y(x) == -k_y*k_z*H_inner_vacuum_z(x) + sqrt(-k_z^2 + kappa_vacuum^2)*kappa_vacuum*E_inner_vacuum_z(x)\n"
     ]
    },
    {
     "data": {
      "text/latex": [
       "$\\displaystyle -{\\left(k_{z}^{2} - \\kappa_{\\mathit{vacuum}}^{2}\\right)} H_{{\\rm inner}_{{\\rm vacuum}_{y}}}\\left(x\\right) = -k_{y} k_{z} H_{{\\rm inner}_{{\\rm vacuum}_{z}}}\\left(x\\right) + \\sqrt{-k_{z}^{2} + \\kappa_{\\mathit{vacuum}}^{2}} \\kappa_{\\mathit{vacuum}} E_{{\\rm inner}_{{\\rm vacuum}_{z}}}\\left(x\\right)$"
      ],
      "text/plain": [
       "<IPython.core.display.Math object>"
      ]
     },
     "metadata": {},
     "output_type": "display_data"
    },
    {
     "name": "stdout",
     "output_type": "stream",
     "text": [
      "eq_7 =\n",
      "-(k_z^2 - kappa^2)*E_bad_conductor_x(x) == -(k_y*kappa*sqrt(mu)*H_bad_conductor_z(x) + sqrt(-k_z^2 + kappa^2)*sqrt(epsilon)*k_z*E_bad_conductor_z(x))/sqrt(epsilon)\n"
     ]
    },
    {
     "data": {
      "text/latex": [
       "$\\displaystyle -{\\left(k_{z}^{2} - \\kappa^{2}\\right)} E_{{\\rm bad}_{{\\rm conductor}_{x}}}\\left(x\\right) = -\\frac{k_{y} \\kappa \\sqrt{\\mu} H_{{\\rm bad}_{{\\rm conductor}_{z}}}\\left(x\\right) + \\sqrt{-k_{z}^{2} + \\kappa^{2}} \\sqrt{\\epsilon} k_{z} E_{{\\rm bad}_{{\\rm conductor}_{z}}}\\left(x\\right)}{\\sqrt{\\epsilon}}$"
      ],
      "text/plain": [
       "<IPython.core.display.Math object>"
      ]
     },
     "metadata": {},
     "output_type": "display_data"
    },
    {
     "name": "stdout",
     "output_type": "stream",
     "text": [
      "eq_8 =\n",
      "-(k_z^2 - kappa^2)*sqrt(mu)*H_bad_conductor_y(x)/sqrt(epsilon) == -(k_y*k_z*sqrt(mu)*H_bad_conductor_z(x) + sqrt(-k_z^2 + kappa^2)*sqrt(epsilon)*kappa*E_bad_conductor_z(x))/sqrt(epsilon)\n"
     ]
    },
    {
     "data": {
      "text/latex": [
       "$\\displaystyle -\\frac{{\\left(k_{z}^{2} - \\kappa^{2}\\right)} \\sqrt{\\mu} H_{{\\rm bad}_{{\\rm conductor}_{y}}}\\left(x\\right)}{\\sqrt{\\epsilon}} = -\\frac{k_{y} k_{z} \\sqrt{\\mu} H_{{\\rm bad}_{{\\rm conductor}_{z}}}\\left(x\\right) + \\sqrt{-k_{z}^{2} + \\kappa^{2}} \\sqrt{\\epsilon} \\kappa E_{{\\rm bad}_{{\\rm conductor}_{z}}}\\left(x\\right)}{\\sqrt{\\epsilon}}$"
      ],
      "text/plain": [
       "<IPython.core.display.Math object>"
      ]
     },
     "metadata": {},
     "output_type": "display_data"
    }
   ],
   "source": [
    "print (\"eq_5 =\")\n",
    "print             (eq_5)\n",
    "display(Math(latex(eq_5)))\n",
    "\n",
    "print (\"eq_6 =\")\n",
    "print             (eq_6)\n",
    "display(Math(latex(eq_6)))\n",
    "\n",
    "print (\"eq_7 =\")\n",
    "print             (eq_7)\n",
    "display(Math(latex(eq_7)))\n",
    "\n",
    "print (\"eq_8 =\")\n",
    "print             (eq_8)\n",
    "display(Math(latex(eq_8)))"
   ]
  },
  {
   "cell_type": "code",
   "execution_count": null,
   "metadata": {},
   "outputs": [],
   "source": []
  },
  {
   "cell_type": "code",
   "execution_count": 57,
   "metadata": {},
   "outputs": [
    {
     "name": "stdout",
     "output_type": "stream",
     "text": [
      "eq_5 =\n",
      "-(k_z^2 - kappa_vacuum^2)*E_inner_vacuum_x(x) == -k_y*kappa_vacuum*H_inner_vacuum_z(x) + sqrt(-k_z^2 + kappa_vacuum^2)*k_z*E_inner_vacuum_z(x)\n"
     ]
    },
    {
     "data": {
      "text/latex": [
       "$\\displaystyle -{\\left(k_{z}^{2} - \\kappa_{\\mathit{vacuum}}^{2}\\right)} E_{{\\rm inner}_{{\\rm vacuum}_{x}}}\\left(x\\right) = -k_{y} \\kappa_{\\mathit{vacuum}} H_{{\\rm inner}_{{\\rm vacuum}_{z}}}\\left(x\\right) + \\sqrt{-k_{z}^{2} + \\kappa_{\\mathit{vacuum}}^{2}} k_{z} E_{{\\rm inner}_{{\\rm vacuum}_{z}}}\\left(x\\right)$"
      ],
      "text/plain": [
       "<IPython.core.display.Math object>"
      ]
     },
     "metadata": {},
     "output_type": "display_data"
    }
   ],
   "source": [
    "print (\"eq_5 =\")\n",
    "print             (eq_5)\n",
    "display(Math(latex(eq_5)))"
   ]
  },
  {
   "cell_type": "code",
   "execution_count": 58,
   "metadata": {
    "scrolled": true
   },
   "outputs": [
    {
     "name": "stdout",
     "output_type": "stream",
     "text": [
      "-(k_z^2 - kappa_vacuum^2)*E_inner_vacuum_x(x) == sqrt(-k_z^2 + kappa_vacuum^2)*k_z*E_inner_vacuum_z(x)\n"
     ]
    },
    {
     "data": {
      "text/latex": [
       "$\\displaystyle -{\\left(k_{z}^{2} - \\kappa_{\\mathit{vacuum}}^{2}\\right)} E_{{\\rm inner}_{{\\rm vacuum}_{x}}}\\left(x\\right) = \\sqrt{-k_{z}^{2} + \\kappa_{\\mathit{vacuum}}^{2}} k_{z} E_{{\\rm inner}_{{\\rm vacuum}_{z}}}\\left(x\\right)$"
      ],
      "text/plain": [
       "<IPython.core.display.Math object>"
      ]
     },
     "metadata": {},
     "output_type": "display_data"
    }
   ],
   "source": [
    "eq_5_subs1 = eq_5.subs(k_y == 0)\n",
    "print             (eq_5_subs1)\n",
    "display(Math(latex(eq_5_subs1)))"
   ]
  },
  {
   "cell_type": "code",
   "execution_count": 59,
   "metadata": {
    "scrolled": true
   },
   "outputs": [
    {
     "name": "stdout",
     "output_type": "stream",
     "text": [
      "E_inner_vacuum_x(x) == k_z*E_inner_vacuum_z(x)/sqrt(-k_z^2 + kappa_vacuum^2)\n"
     ]
    },
    {
     "data": {
      "text/latex": [
       "$\\displaystyle E_{{\\rm inner}_{{\\rm vacuum}_{x}}}\\left(x\\right) = \\frac{k_{z} E_{{\\rm inner}_{{\\rm vacuum}_{z}}}\\left(x\\right)}{\\sqrt{-k_{z}^{2} + \\kappa_{\\mathit{vacuum}}^{2}}}$"
      ],
      "text/plain": [
       "<IPython.core.display.Math object>"
      ]
     },
     "metadata": {},
     "output_type": "display_data"
    }
   ],
   "source": [
    "eq_5_subs2 = (eq_5_subs1/(kappa_vacuum^2 - k_z^2)).full_simplify()\n",
    "print             (eq_5_subs2)\n",
    "display(Math(latex(eq_5_subs2)))"
   ]
  },
  {
   "cell_type": "code",
   "execution_count": 60,
   "metadata": {
    "scrolled": true
   },
   "outputs": [
    {
     "name": "stdout",
     "output_type": "stream",
     "text": [
      "E_inner_vacuum_x(x) == A1_z*k_z*e^(-I*sqrt(-k_z^2 + kappa_vacuum^2)*x)/sqrt(-k_z^2 + kappa_vacuum^2)\n"
     ]
    },
    {
     "data": {
      "text/latex": [
       "$\\displaystyle E_{{\\rm inner}_{{\\rm vacuum}_{x}}}\\left(x\\right) = \\frac{\\mathit{A1}_{z} k_{z} e^{\\left(-i \\, \\sqrt{-k_{z}^{2} + \\kappa_{\\mathit{vacuum}}^{2}} x\\right)}}{\\sqrt{-k_{z}^{2} + \\kappa_{\\mathit{vacuum}}^{2}}}$"
      ],
      "text/plain": [
       "<IPython.core.display.Math object>"
      ]
     },
     "metadata": {},
     "output_type": "display_data"
    }
   ],
   "source": [
    "eq_5_subs4 = eq_5_subs2.subs(E_inner_vacuum_z(x) == E_inner_vacuum_sol_z(x)).full_simplify()\n",
    "print             (eq_5_subs4)\n",
    "display(Math(latex(eq_5_subs4)))"
   ]
  },
  {
   "cell_type": "code",
   "execution_count": null,
   "metadata": {},
   "outputs": [],
   "source": []
  },
  {
   "cell_type": "code",
   "execution_count": 61,
   "metadata": {},
   "outputs": [
    {
     "name": "stdout",
     "output_type": "stream",
     "text": [
      "eq_6 =\n",
      "-(k_z^2 - kappa_vacuum^2)*H_inner_vacuum_y(x) == -k_y*k_z*H_inner_vacuum_z(x) + sqrt(-k_z^2 + kappa_vacuum^2)*kappa_vacuum*E_inner_vacuum_z(x)\n"
     ]
    },
    {
     "data": {
      "text/latex": [
       "$\\displaystyle -{\\left(k_{z}^{2} - \\kappa_{\\mathit{vacuum}}^{2}\\right)} H_{{\\rm inner}_{{\\rm vacuum}_{y}}}\\left(x\\right) = -k_{y} k_{z} H_{{\\rm inner}_{{\\rm vacuum}_{z}}}\\left(x\\right) + \\sqrt{-k_{z}^{2} + \\kappa_{\\mathit{vacuum}}^{2}} \\kappa_{\\mathit{vacuum}} E_{{\\rm inner}_{{\\rm vacuum}_{z}}}\\left(x\\right)$"
      ],
      "text/plain": [
       "<IPython.core.display.Math object>"
      ]
     },
     "metadata": {},
     "output_type": "display_data"
    }
   ],
   "source": [
    "print (\"eq_6 =\")\n",
    "print             (eq_6)\n",
    "display(Math(latex(eq_6)))"
   ]
  },
  {
   "cell_type": "code",
   "execution_count": 62,
   "metadata": {
    "scrolled": true
   },
   "outputs": [
    {
     "name": "stdout",
     "output_type": "stream",
     "text": [
      "-(k_z^2 - kappa_vacuum^2)*H_inner_vacuum_y(x) == sqrt(-k_z^2 + kappa_vacuum^2)*kappa_vacuum*E_inner_vacuum_z(x)\n"
     ]
    },
    {
     "data": {
      "text/latex": [
       "$\\displaystyle -{\\left(k_{z}^{2} - \\kappa_{\\mathit{vacuum}}^{2}\\right)} H_{{\\rm inner}_{{\\rm vacuum}_{y}}}\\left(x\\right) = \\sqrt{-k_{z}^{2} + \\kappa_{\\mathit{vacuum}}^{2}} \\kappa_{\\mathit{vacuum}} E_{{\\rm inner}_{{\\rm vacuum}_{z}}}\\left(x\\right)$"
      ],
      "text/plain": [
       "<IPython.core.display.Math object>"
      ]
     },
     "metadata": {},
     "output_type": "display_data"
    }
   ],
   "source": [
    "eq_6_subs1 = eq_6.subs(k_y == 0)\n",
    "print             (eq_6_subs1)\n",
    "display(Math(latex(eq_6_subs1)))"
   ]
  },
  {
   "cell_type": "code",
   "execution_count": 63,
   "metadata": {
    "scrolled": true
   },
   "outputs": [
    {
     "name": "stdout",
     "output_type": "stream",
     "text": [
      "H_inner_vacuum_y(x) == kappa_vacuum*E_inner_vacuum_z(x)/sqrt(-k_z^2 + kappa_vacuum^2)\n"
     ]
    },
    {
     "data": {
      "text/latex": [
       "$\\displaystyle H_{{\\rm inner}_{{\\rm vacuum}_{y}}}\\left(x\\right) = \\frac{\\kappa_{\\mathit{vacuum}} E_{{\\rm inner}_{{\\rm vacuum}_{z}}}\\left(x\\right)}{\\sqrt{-k_{z}^{2} + \\kappa_{\\mathit{vacuum}}^{2}}}$"
      ],
      "text/plain": [
       "<IPython.core.display.Math object>"
      ]
     },
     "metadata": {},
     "output_type": "display_data"
    }
   ],
   "source": [
    "eq_6_subs2 = (eq_6_subs1/(kappa_vacuum^2 - k_z^2)).full_simplify()\n",
    "print             (eq_6_subs2)\n",
    "display(Math(latex(eq_6_subs2)))"
   ]
  },
  {
   "cell_type": "code",
   "execution_count": 64,
   "metadata": {
    "scrolled": true
   },
   "outputs": [
    {
     "name": "stdout",
     "output_type": "stream",
     "text": [
      "H_inner_vacuum_y(x) == A1_z*kappa_vacuum*e^(-I*sqrt(-k_z^2 + kappa_vacuum^2)*x)/sqrt(-k_z^2 + kappa_vacuum^2)\n"
     ]
    },
    {
     "data": {
      "text/latex": [
       "$\\displaystyle H_{{\\rm inner}_{{\\rm vacuum}_{y}}}\\left(x\\right) = \\frac{\\mathit{A1}_{z} \\kappa_{\\mathit{vacuum}} e^{\\left(-i \\, \\sqrt{-k_{z}^{2} + \\kappa_{\\mathit{vacuum}}^{2}} x\\right)}}{\\sqrt{-k_{z}^{2} + \\kappa_{\\mathit{vacuum}}^{2}}}$"
      ],
      "text/plain": [
       "<IPython.core.display.Math object>"
      ]
     },
     "metadata": {},
     "output_type": "display_data"
    }
   ],
   "source": [
    "eq_6_subs4 = eq_6_subs2.subs(E_inner_vacuum_z(x) == E_inner_vacuum_sol_z(x)).full_simplify()\n",
    "print             (eq_6_subs4)\n",
    "display(Math(latex(eq_6_subs4)))"
   ]
  },
  {
   "cell_type": "code",
   "execution_count": null,
   "metadata": {},
   "outputs": [],
   "source": []
  },
  {
   "cell_type": "code",
   "execution_count": 65,
   "metadata": {},
   "outputs": [
    {
     "name": "stdout",
     "output_type": "stream",
     "text": [
      "eq_7 =\n",
      "-(k_z^2 - kappa^2)*E_bad_conductor_x(x) == -(k_y*kappa*sqrt(mu)*H_bad_conductor_z(x) + sqrt(-k_z^2 + kappa^2)*sqrt(epsilon)*k_z*E_bad_conductor_z(x))/sqrt(epsilon)\n"
     ]
    },
    {
     "data": {
      "text/latex": [
       "$\\displaystyle -{\\left(k_{z}^{2} - \\kappa^{2}\\right)} E_{{\\rm bad}_{{\\rm conductor}_{x}}}\\left(x\\right) = -\\frac{k_{y} \\kappa \\sqrt{\\mu} H_{{\\rm bad}_{{\\rm conductor}_{z}}}\\left(x\\right) + \\sqrt{-k_{z}^{2} + \\kappa^{2}} \\sqrt{\\epsilon} k_{z} E_{{\\rm bad}_{{\\rm conductor}_{z}}}\\left(x\\right)}{\\sqrt{\\epsilon}}$"
      ],
      "text/plain": [
       "<IPython.core.display.Math object>"
      ]
     },
     "metadata": {},
     "output_type": "display_data"
    }
   ],
   "source": [
    "print (\"eq_7 =\")\n",
    "print             (eq_7)\n",
    "display(Math(latex(eq_7)))"
   ]
  },
  {
   "cell_type": "code",
   "execution_count": 66,
   "metadata": {
    "scrolled": true
   },
   "outputs": [
    {
     "name": "stdout",
     "output_type": "stream",
     "text": [
      "-(k_z^2 - kappa^2)*E_bad_conductor_x(x) == -sqrt(-k_z^2 + kappa^2)*k_z*E_bad_conductor_z(x)\n"
     ]
    },
    {
     "data": {
      "text/latex": [
       "$\\displaystyle -{\\left(k_{z}^{2} - \\kappa^{2}\\right)} E_{{\\rm bad}_{{\\rm conductor}_{x}}}\\left(x\\right) = -\\sqrt{-k_{z}^{2} + \\kappa^{2}} k_{z} E_{{\\rm bad}_{{\\rm conductor}_{z}}}\\left(x\\right)$"
      ],
      "text/plain": [
       "<IPython.core.display.Math object>"
      ]
     },
     "metadata": {},
     "output_type": "display_data"
    }
   ],
   "source": [
    "eq_7_subs1 = eq_7.subs(k_y == 0)\n",
    "print             (eq_7_subs1)\n",
    "display(Math(latex(eq_7_subs1)))"
   ]
  },
  {
   "cell_type": "code",
   "execution_count": 67,
   "metadata": {
    "scrolled": true
   },
   "outputs": [
    {
     "name": "stdout",
     "output_type": "stream",
     "text": [
      "E_bad_conductor_x(x) == -k_z*E_bad_conductor_z(x)/sqrt(-k_z^2 + kappa^2)\n"
     ]
    },
    {
     "data": {
      "text/latex": [
       "$\\displaystyle E_{{\\rm bad}_{{\\rm conductor}_{x}}}\\left(x\\right) = -\\frac{k_{z} E_{{\\rm bad}_{{\\rm conductor}_{z}}}\\left(x\\right)}{\\sqrt{-k_{z}^{2} + \\kappa^{2}}}$"
      ],
      "text/plain": [
       "<IPython.core.display.Math object>"
      ]
     },
     "metadata": {},
     "output_type": "display_data"
    }
   ],
   "source": [
    "eq_7_subs2 = (eq_7_subs1/(kappa^2 - k_z^2)).full_simplify()\n",
    "print             (eq_7_subs2)\n",
    "display(Math(latex(eq_7_subs2)))"
   ]
  },
  {
   "cell_type": "code",
   "execution_count": 68,
   "metadata": {
    "scrolled": true
   },
   "outputs": [
    {
     "name": "stdout",
     "output_type": "stream",
     "text": [
      "E_bad_conductor_x(x) == -B1_z*k_z*e^(I*sqrt(-k_z^2 + kappa^2)*x)/sqrt(-k_z^2 + kappa^2)\n"
     ]
    },
    {
     "data": {
      "text/latex": [
       "$\\displaystyle E_{{\\rm bad}_{{\\rm conductor}_{x}}}\\left(x\\right) = -\\frac{\\mathit{B1}_{z} k_{z} e^{\\left(i \\, \\sqrt{-k_{z}^{2} + \\kappa^{2}} x\\right)}}{\\sqrt{-k_{z}^{2} + \\kappa^{2}}}$"
      ],
      "text/plain": [
       "<IPython.core.display.Math object>"
      ]
     },
     "metadata": {},
     "output_type": "display_data"
    }
   ],
   "source": [
    "eq_7_subs4 = eq_7_subs2.subs(E_bad_conductor_z(x) == E_bad_conductor_sol_z(x)).full_simplify()\n",
    "print             (eq_7_subs4)\n",
    "display(Math(latex(eq_7_subs4)))"
   ]
  },
  {
   "cell_type": "code",
   "execution_count": null,
   "metadata": {},
   "outputs": [],
   "source": []
  },
  {
   "cell_type": "code",
   "execution_count": 69,
   "metadata": {},
   "outputs": [
    {
     "name": "stdout",
     "output_type": "stream",
     "text": [
      "eq_8 =\n",
      "-(k_z^2 - kappa^2)*sqrt(mu)*H_bad_conductor_y(x)/sqrt(epsilon) == -(k_y*k_z*sqrt(mu)*H_bad_conductor_z(x) + sqrt(-k_z^2 + kappa^2)*sqrt(epsilon)*kappa*E_bad_conductor_z(x))/sqrt(epsilon)\n"
     ]
    },
    {
     "data": {
      "text/latex": [
       "$\\displaystyle -\\frac{{\\left(k_{z}^{2} - \\kappa^{2}\\right)} \\sqrt{\\mu} H_{{\\rm bad}_{{\\rm conductor}_{y}}}\\left(x\\right)}{\\sqrt{\\epsilon}} = -\\frac{k_{y} k_{z} \\sqrt{\\mu} H_{{\\rm bad}_{{\\rm conductor}_{z}}}\\left(x\\right) + \\sqrt{-k_{z}^{2} + \\kappa^{2}} \\sqrt{\\epsilon} \\kappa E_{{\\rm bad}_{{\\rm conductor}_{z}}}\\left(x\\right)}{\\sqrt{\\epsilon}}$"
      ],
      "text/plain": [
       "<IPython.core.display.Math object>"
      ]
     },
     "metadata": {},
     "output_type": "display_data"
    }
   ],
   "source": [
    "print (\"eq_8 =\")\n",
    "print             (eq_8)\n",
    "display(Math(latex(eq_8)))"
   ]
  },
  {
   "cell_type": "code",
   "execution_count": 70,
   "metadata": {
    "scrolled": true
   },
   "outputs": [
    {
     "name": "stdout",
     "output_type": "stream",
     "text": [
      "-(k_z^2 - kappa^2)*sqrt(mu)*H_bad_conductor_y(x)/sqrt(epsilon) == -sqrt(-k_z^2 + kappa^2)*kappa*E_bad_conductor_z(x)\n"
     ]
    },
    {
     "data": {
      "text/latex": [
       "$\\displaystyle -\\frac{{\\left(k_{z}^{2} - \\kappa^{2}\\right)} \\sqrt{\\mu} H_{{\\rm bad}_{{\\rm conductor}_{y}}}\\left(x\\right)}{\\sqrt{\\epsilon}} = -\\sqrt{-k_{z}^{2} + \\kappa^{2}} \\kappa E_{{\\rm bad}_{{\\rm conductor}_{z}}}\\left(x\\right)$"
      ],
      "text/plain": [
       "<IPython.core.display.Math object>"
      ]
     },
     "metadata": {},
     "output_type": "display_data"
    }
   ],
   "source": [
    "eq_8_subs1 = eq_8.subs(k_y == 0)\n",
    "print             (eq_8_subs1)\n",
    "display(Math(latex(eq_8_subs1)))"
   ]
  },
  {
   "cell_type": "code",
   "execution_count": 71,
   "metadata": {
    "scrolled": true
   },
   "outputs": [
    {
     "name": "stdout",
     "output_type": "stream",
     "text": [
      "sqrt(mu)*H_bad_conductor_y(x)/sqrt(epsilon) == -kappa*E_bad_conductor_z(x)/sqrt(-k_z^2 + kappa^2)\n"
     ]
    },
    {
     "data": {
      "text/latex": [
       "$\\displaystyle \\frac{\\sqrt{\\mu} H_{{\\rm bad}_{{\\rm conductor}_{y}}}\\left(x\\right)}{\\sqrt{\\epsilon}} = -\\frac{\\kappa E_{{\\rm bad}_{{\\rm conductor}_{z}}}\\left(x\\right)}{\\sqrt{-k_{z}^{2} + \\kappa^{2}}}$"
      ],
      "text/plain": [
       "<IPython.core.display.Math object>"
      ]
     },
     "metadata": {},
     "output_type": "display_data"
    }
   ],
   "source": [
    "eq_8_subs2 = (eq_8_subs1/(kappa^2 - k_z^2)).full_simplify()\n",
    "print             (eq_8_subs2)\n",
    "display(Math(latex(eq_8_subs2)))"
   ]
  },
  {
   "cell_type": "code",
   "execution_count": 72,
   "metadata": {
    "scrolled": true
   },
   "outputs": [
    {
     "name": "stdout",
     "output_type": "stream",
     "text": [
      "sqrt(mu)*H_bad_conductor_y(x)/sqrt(epsilon) == -B1_z*kappa*e^(I*sqrt(-k_z^2 + kappa^2)*x)/sqrt(-k_z^2 + kappa^2)\n"
     ]
    },
    {
     "data": {
      "text/latex": [
       "$\\displaystyle \\frac{\\sqrt{\\mu} H_{{\\rm bad}_{{\\rm conductor}_{y}}}\\left(x\\right)}{\\sqrt{\\epsilon}} = -\\frac{\\mathit{B1}_{z} \\kappa e^{\\left(i \\, \\sqrt{-k_{z}^{2} + \\kappa^{2}} x\\right)}}{\\sqrt{-k_{z}^{2} + \\kappa^{2}}}$"
      ],
      "text/plain": [
       "<IPython.core.display.Math object>"
      ]
     },
     "metadata": {},
     "output_type": "display_data"
    }
   ],
   "source": [
    "eq_8_subs4 = eq_8_subs2.subs(E_bad_conductor_z(x) == E_bad_conductor_sol_z(x)).full_simplify()\n",
    "print             (eq_8_subs4)\n",
    "display(Math(latex(eq_8_subs4)))"
   ]
  },
  {
   "cell_type": "code",
   "execution_count": null,
   "metadata": {},
   "outputs": [],
   "source": []
  },
  {
   "cell_type": "code",
   "execution_count": 73,
   "metadata": {},
   "outputs": [
    {
     "name": "stdout",
     "output_type": "stream",
     "text": [
      "-B1_z*sqrt(epsilon + 4*I*pi*sigma/omega)*kappa/(sqrt(-k_z^2 + kappa^2)*sqrt(mu)) == A1_z*kappa_vacuum/sqrt(-k_z^2 + kappa_vacuum^2)\n"
     ]
    },
    {
     "data": {
      "text/latex": [
       "$\\displaystyle -\\frac{\\mathit{B1}_{z} \\sqrt{\\epsilon + \\frac{4 i \\, \\pi \\sigma}{\\omega}} \\kappa}{\\sqrt{-k_{z}^{2} + \\kappa^{2}} \\sqrt{\\mu}} = \\frac{\\mathit{A1}_{z} \\kappa_{\\mathit{vacuum}}}{\\sqrt{-k_{z}^{2} + \\kappa_{\\mathit{vacuum}}^{2}}}$"
      ],
      "text/plain": [
       "<IPython.core.display.Math object>"
      ]
     },
     "metadata": {},
     "output_type": "display_data"
    }
   ],
   "source": [
    "eq_Hy_0 = eq_8_subs4.rhs().subs(x == 0)*sqrt(epsilon_complex)/sqrt(mu) == eq_6_subs4.rhs().subs(x == 0)\n",
    "print             (eq_Hy_0)\n",
    "display(Math(latex(eq_Hy_0)))"
   ]
  },
  {
   "cell_type": "code",
   "execution_count": null,
   "metadata": {},
   "outputs": [],
   "source": []
  },
  {
   "cell_type": "code",
   "execution_count": 74,
   "metadata": {},
   "outputs": [
    {
     "data": {
      "text/plain": [
       "A1_x == B1_x*epsilon"
      ]
     },
     "execution_count": 74,
     "metadata": {},
     "output_type": "execute_result"
    }
   ],
   "source": [
    "eqDx_a"
   ]
  },
  {
   "cell_type": "code",
   "execution_count": 75,
   "metadata": {},
   "outputs": [
    {
     "name": "stdout",
     "output_type": "stream",
     "text": [
      "E_inner_vacuum_x(x) == A1_z*k_z*e^(-I*sqrt(-k_z^2 + kappa_vacuum^2)*x)/sqrt(-k_z^2 + kappa_vacuum^2)\n"
     ]
    },
    {
     "data": {
      "text/latex": [
       "$\\displaystyle E_{{\\rm inner}_{{\\rm vacuum}_{x}}}\\left(x\\right) = \\frac{\\mathit{A1}_{z} k_{z} e^{\\left(-i \\, \\sqrt{-k_{z}^{2} + \\kappa_{\\mathit{vacuum}}^{2}} x\\right)}}{\\sqrt{-k_{z}^{2} + \\kappa_{\\mathit{vacuum}}^{2}}}$"
      ],
      "text/plain": [
       "<IPython.core.display.Math object>"
      ]
     },
     "metadata": {},
     "output_type": "display_data"
    }
   ],
   "source": [
    "print             (eq_5_subs4)\n",
    "display(Math(latex(eq_5_subs4)))"
   ]
  },
  {
   "cell_type": "code",
   "execution_count": 76,
   "metadata": {},
   "outputs": [
    {
     "name": "stdout",
     "output_type": "stream",
     "text": [
      "E_bad_conductor_x(x) == -B1_z*k_z*e^(I*sqrt(-k_z^2 + kappa^2)*x)/sqrt(-k_z^2 + kappa^2)\n"
     ]
    },
    {
     "data": {
      "text/latex": [
       "$\\displaystyle E_{{\\rm bad}_{{\\rm conductor}_{x}}}\\left(x\\right) = -\\frac{\\mathit{B1}_{z} k_{z} e^{\\left(i \\, \\sqrt{-k_{z}^{2} + \\kappa^{2}} x\\right)}}{\\sqrt{-k_{z}^{2} + \\kappa^{2}}}$"
      ],
      "text/plain": [
       "<IPython.core.display.Math object>"
      ]
     },
     "metadata": {},
     "output_type": "display_data"
    }
   ],
   "source": [
    "print             (eq_7_subs4)\n",
    "display(Math(latex(eq_7_subs4)))"
   ]
  },
  {
   "cell_type": "code",
   "execution_count": null,
   "metadata": {},
   "outputs": [],
   "source": []
  },
  {
   "cell_type": "code",
   "execution_count": null,
   "metadata": {},
   "outputs": [],
   "source": []
  },
  {
   "cell_type": "code",
   "execution_count": 77,
   "metadata": {},
   "outputs": [],
   "source": [
    "eq_Hy_0_lhs_num = eq_Hy_0.lhs().numerator()\n",
    "eq_Hy_0_lhs_den = eq_Hy_0.lhs().denominator()\n",
    "\n",
    "eq_Hy_0_rhs_num = eq_Hy_0.rhs().numerator()\n",
    "eq_Hy_0_rhs_den = eq_Hy_0.rhs().denominator()"
   ]
  },
  {
   "cell_type": "code",
   "execution_count": 78,
   "metadata": {},
   "outputs": [
    {
     "data": {
      "text/latex": [
       "$\\displaystyle -\\mathit{B1}_{z} \\kappa \\sqrt{\\frac{\\epsilon \\omega + 4 i \\, \\pi \\sigma}{\\omega}}$"
      ],
      "text/plain": [
       "<IPython.core.display.Math object>"
      ]
     },
     "metadata": {},
     "output_type": "display_data"
    },
    {
     "data": {
      "text/latex": [
       "$\\displaystyle \\mathit{A1}_{z} \\kappa_{\\mathit{vacuum}}$"
      ],
      "text/plain": [
       "<IPython.core.display.Math object>"
      ]
     },
     "metadata": {},
     "output_type": "display_data"
    },
    {
     "data": {
      "text/latex": [
       "$\\displaystyle \\sqrt{-k_{z}^{2} + \\kappa^{2}} \\sqrt{\\mu}$"
      ],
      "text/plain": [
       "<IPython.core.display.Math object>"
      ]
     },
     "metadata": {},
     "output_type": "display_data"
    },
    {
     "data": {
      "text/latex": [
       "$\\displaystyle \\sqrt{-k_{z}^{2} + \\kappa_{\\mathit{vacuum}}^{2}}$"
      ],
      "text/plain": [
       "<IPython.core.display.Math object>"
      ]
     },
     "metadata": {},
     "output_type": "display_data"
    }
   ],
   "source": [
    "display(Math(latex(eq_Hy_0_lhs_num)))\n",
    "display(Math(latex(eq_Hy_0_rhs_num)))\n",
    "display(Math(latex(eq_Hy_0_lhs_den)))\n",
    "display(Math(latex(eq_Hy_0_rhs_den)))"
   ]
  },
  {
   "cell_type": "code",
   "execution_count": 79,
   "metadata": {},
   "outputs": [
    {
     "name": "stdout",
     "output_type": "stream",
     "text": [
      "-sqrt(-k_z^2 + kappa^2)*sqrt(mu)/(B1_z*kappa*sqrt((epsilon*omega + 4*I*pi*sigma)/omega)) == sqrt(-k_z^2 + kappa_vacuum^2)/(A1_z*kappa_vacuum)\n"
     ]
    },
    {
     "data": {
      "text/latex": [
       "$\\displaystyle -\\frac{\\sqrt{-k_{z}^{2} + \\kappa^{2}} \\sqrt{\\mu}}{\\mathit{B1}_{z} \\kappa \\sqrt{\\frac{\\epsilon \\omega + 4 i \\, \\pi \\sigma}{\\omega}}} = \\frac{\\sqrt{-k_{z}^{2} + \\kappa_{\\mathit{vacuum}}^{2}}}{\\mathit{A1}_{z} \\kappa_{\\mathit{vacuum}}}$"
      ],
      "text/plain": [
       "<IPython.core.display.Math object>"
      ]
     },
     "metadata": {},
     "output_type": "display_data"
    }
   ],
   "source": [
    "eq_Hy_0 = (eq_Hy_0_lhs_den / eq_Hy_0_lhs_num) == (eq_Hy_0_rhs_den / eq_Hy_0_rhs_num)\n",
    "print             (eq_Hy_0)\n",
    "display(Math(latex(eq_Hy_0)))"
   ]
  },
  {
   "cell_type": "code",
   "execution_count": 80,
   "metadata": {},
   "outputs": [
    {
     "name": "stdout",
     "output_type": "stream",
     "text": [
      "-(k_z^2 - kappa^2)*mu*omega/((epsilon*omega + 4*I*pi*sigma)*B1_z^2*kappa^2) == -(k_z^2 - kappa_vacuum^2)/(A1_z^2*kappa_vacuum^2)\n"
     ]
    },
    {
     "data": {
      "text/latex": [
       "$\\displaystyle -\\frac{{\\left(k_{z}^{2} - \\kappa^{2}\\right)} \\mu \\omega}{{\\left(\\epsilon \\omega + 4 i \\, \\pi \\sigma\\right)} \\mathit{B1}_{z}^{2} \\kappa^{2}} = -\\frac{k_{z}^{2} - \\kappa_{\\mathit{vacuum}}^{2}}{\\mathit{A1}_{z}^{2} \\kappa_{\\mathit{vacuum}}^{2}}$"
      ],
      "text/plain": [
       "<IPython.core.display.Math object>"
      ]
     },
     "metadata": {},
     "output_type": "display_data"
    }
   ],
   "source": [
    "eq_Hy_0 = (eq_Hy_0_lhs_den / eq_Hy_0_lhs_num)^2 == (eq_Hy_0_rhs_den / eq_Hy_0_rhs_num)^2\n",
    "print             (eq_Hy_0)\n",
    "display(Math(latex(eq_Hy_0)))"
   ]
  },
  {
   "cell_type": "code",
   "execution_count": 81,
   "metadata": {},
   "outputs": [
    {
     "data": {
      "text/plain": [
       "kappa_vacuum^2 == omega^2/c^2"
      ]
     },
     "execution_count": 81,
     "metadata": {},
     "output_type": "execute_result"
    }
   ],
   "source": [
    "eq_kappa_inner_vacuum"
   ]
  },
  {
   "cell_type": "code",
   "execution_count": 82,
   "metadata": {},
   "outputs": [
    {
     "name": "stdout",
     "output_type": "stream",
     "text": [
      "kappa_vacuum == omega/c\n"
     ]
    }
   ],
   "source": [
    "kappa_vacuum_sol = solve(eq_kappa_inner_vacuum, kappa_vacuum)[1]\n",
    "print(kappa_vacuum_sol)"
   ]
  },
  {
   "cell_type": "code",
   "execution_count": 83,
   "metadata": {},
   "outputs": [
    {
     "name": "stdout",
     "output_type": "stream",
     "text": [
      "kappa == sqrt(4*I*pi*c*mu*omega*sigma + epsilon*mu*omega^2)/c\n"
     ]
    }
   ],
   "source": [
    "kappa_sol = solve(eq_kappa, kappa)[1]\n",
    "print(kappa_sol)"
   ]
  },
  {
   "cell_type": "code",
   "execution_count": 84,
   "metadata": {},
   "outputs": [],
   "source": [
    "eq_Hy_0_rhs_num = eq_Hy_0.rhs().numerator()\n",
    "eq_Hy_0_rhs_den = eq_Hy_0.rhs().denominator()\n",
    "\n",
    "eq_Hy_0_lhs_num = eq_Hy_0.lhs().numerator()\n",
    "eq_Hy_0_lhs_den = eq_Hy_0.lhs().denominator()"
   ]
  },
  {
   "cell_type": "code",
   "execution_count": 85,
   "metadata": {},
   "outputs": [
    {
     "name": "stdout",
     "output_type": "stream",
     "text": [
      "-k_z^2 + kappa_vacuum^2\n"
     ]
    }
   ],
   "source": [
    "print(eq_Hy_0_rhs_num)"
   ]
  },
  {
   "cell_type": "code",
   "execution_count": 86,
   "metadata": {},
   "outputs": [],
   "source": [
    "eq_Hy_0_2 = \\\n",
    "   (eq_Hy_0_rhs_den * eq_Hy_0_lhs_num - \\\n",
    "    eq_Hy_0_rhs_num * eq_Hy_0_lhs_den) == 0"
   ]
  },
  {
   "cell_type": "code",
   "execution_count": 87,
   "metadata": {},
   "outputs": [
    {
     "name": "stdout",
     "output_type": "stream",
     "text": [
      "-(k_z^2 - kappa^2)*A1_z^2*kappa_vacuum^2*mu*omega + (k_z^2 - kappa_vacuum^2)*(epsilon*omega + 4*I*pi*sigma)*B1_z^2*kappa^2 == 0\n"
     ]
    }
   ],
   "source": [
    "print(eq_Hy_0_2)"
   ]
  },
  {
   "cell_type": "code",
   "execution_count": 88,
   "metadata": {},
   "outputs": [
    {
     "data": {
      "text/latex": [
       "$\\displaystyle -{\\left(k_{z}^{2} - \\kappa^{2}\\right)} \\mathit{A1}_{z}^{2} \\kappa_{\\mathit{vacuum}}^{2} \\mu \\omega + {\\left(k_{z}^{2} - \\kappa_{\\mathit{vacuum}}^{2}\\right)} {\\left(\\epsilon \\omega + 4 i \\, \\pi \\sigma\\right)} \\mathit{B1}_{z}^{2} \\kappa^{2} = 0$"
      ],
      "text/plain": [
       "<IPython.core.display.Math object>"
      ]
     },
     "metadata": {},
     "output_type": "display_data"
    }
   ],
   "source": [
    "display(Math(latex(eq_Hy_0_2)))"
   ]
  },
  {
   "cell_type": "code",
   "execution_count": 89,
   "metadata": {},
   "outputs": [],
   "source": [
    "eq_Hy_0_2_expand = eq_Hy_0_2.expand().subs(kappa_vacuum_sol).subs(kappa_sol)"
   ]
  },
  {
   "cell_type": "code",
   "execution_count": 90,
   "metadata": {},
   "outputs": [
    {
     "data": {
      "text/latex": [
       "$\\displaystyle k_{z} = -\\frac{\\sqrt{-\\frac{4 i \\, \\pi \\mathit{B1}_{z}^{2} c \\epsilon \\omega \\sigma}{-4 i \\, \\pi \\mathit{B1}_{z}^{2} c \\epsilon \\omega \\sigma + 16 \\, \\pi^{2} \\mathit{B1}_{z}^{2} c \\sigma^{2} - \\mathit{B1}_{z}^{2} \\epsilon^{2} \\omega^{2} - 4 i \\, \\pi \\mathit{B1}_{z}^{2} \\epsilon \\omega \\sigma + \\mathit{A1}_{z}^{2} \\omega^{2}} + \\frac{4 i \\, \\pi \\mathit{A1}_{z}^{2} c \\mu \\omega \\sigma}{-4 i \\, \\pi \\mathit{B1}_{z}^{2} c \\epsilon \\omega \\sigma + 16 \\, \\pi^{2} \\mathit{B1}_{z}^{2} c \\sigma^{2} - \\mathit{B1}_{z}^{2} \\epsilon^{2} \\omega^{2} - 4 i \\, \\pi \\mathit{B1}_{z}^{2} \\epsilon \\omega \\sigma + \\mathit{A1}_{z}^{2} \\omega^{2}} + \\frac{16 \\, \\pi^{2} \\mathit{B1}_{z}^{2} c \\sigma^{2}}{-4 i \\, \\pi \\mathit{B1}_{z}^{2} c \\epsilon \\omega \\sigma + 16 \\, \\pi^{2} \\mathit{B1}_{z}^{2} c \\sigma^{2} - \\mathit{B1}_{z}^{2} \\epsilon^{2} \\omega^{2} - 4 i \\, \\pi \\mathit{B1}_{z}^{2} \\epsilon \\omega \\sigma + \\mathit{A1}_{z}^{2} \\omega^{2}} - \\frac{\\mathit{B1}_{z}^{2} \\epsilon^{2} \\omega^{2}}{-4 i \\, \\pi \\mathit{B1}_{z}^{2} c \\epsilon \\omega \\sigma + 16 \\, \\pi^{2} \\mathit{B1}_{z}^{2} c \\sigma^{2} - \\mathit{B1}_{z}^{2} \\epsilon^{2} \\omega^{2} - 4 i \\, \\pi \\mathit{B1}_{z}^{2} \\epsilon \\omega \\sigma + \\mathit{A1}_{z}^{2} \\omega^{2}} + \\frac{\\mathit{A1}_{z}^{2} \\epsilon \\mu \\omega^{2}}{-4 i \\, \\pi \\mathit{B1}_{z}^{2} c \\epsilon \\omega \\sigma + 16 \\, \\pi^{2} \\mathit{B1}_{z}^{2} c \\sigma^{2} - \\mathit{B1}_{z}^{2} \\epsilon^{2} \\omega^{2} - 4 i \\, \\pi \\mathit{B1}_{z}^{2} \\epsilon \\omega \\sigma + \\mathit{A1}_{z}^{2} \\omega^{2}} - \\frac{4 i \\, \\pi \\mathit{B1}_{z}^{2} \\epsilon \\omega \\sigma}{-4 i \\, \\pi \\mathit{B1}_{z}^{2} c \\epsilon \\omega \\sigma + 16 \\, \\pi^{2} \\mathit{B1}_{z}^{2} c \\sigma^{2} - \\mathit{B1}_{z}^{2} \\epsilon^{2} \\omega^{2} - 4 i \\, \\pi \\mathit{B1}_{z}^{2} \\epsilon \\omega \\sigma + \\mathit{A1}_{z}^{2} \\omega^{2}}} \\omega}{c}$"
      ],
      "text/plain": [
       "<IPython.core.display.Math object>"
      ]
     },
     "metadata": {},
     "output_type": "display_data"
    },
    {
     "name": "stdout",
     "output_type": "stream",
     "text": [
      "\n"
     ]
    },
    {
     "data": {
      "text/latex": [
       "$\\displaystyle k_{z} = \\frac{\\sqrt{-\\frac{4 i \\, \\pi \\mathit{B1}_{z}^{2} c \\epsilon \\omega \\sigma}{-4 i \\, \\pi \\mathit{B1}_{z}^{2} c \\epsilon \\omega \\sigma + 16 \\, \\pi^{2} \\mathit{B1}_{z}^{2} c \\sigma^{2} - \\mathit{B1}_{z}^{2} \\epsilon^{2} \\omega^{2} - 4 i \\, \\pi \\mathit{B1}_{z}^{2} \\epsilon \\omega \\sigma + \\mathit{A1}_{z}^{2} \\omega^{2}} + \\frac{4 i \\, \\pi \\mathit{A1}_{z}^{2} c \\mu \\omega \\sigma}{-4 i \\, \\pi \\mathit{B1}_{z}^{2} c \\epsilon \\omega \\sigma + 16 \\, \\pi^{2} \\mathit{B1}_{z}^{2} c \\sigma^{2} - \\mathit{B1}_{z}^{2} \\epsilon^{2} \\omega^{2} - 4 i \\, \\pi \\mathit{B1}_{z}^{2} \\epsilon \\omega \\sigma + \\mathit{A1}_{z}^{2} \\omega^{2}} + \\frac{16 \\, \\pi^{2} \\mathit{B1}_{z}^{2} c \\sigma^{2}}{-4 i \\, \\pi \\mathit{B1}_{z}^{2} c \\epsilon \\omega \\sigma + 16 \\, \\pi^{2} \\mathit{B1}_{z}^{2} c \\sigma^{2} - \\mathit{B1}_{z}^{2} \\epsilon^{2} \\omega^{2} - 4 i \\, \\pi \\mathit{B1}_{z}^{2} \\epsilon \\omega \\sigma + \\mathit{A1}_{z}^{2} \\omega^{2}} - \\frac{\\mathit{B1}_{z}^{2} \\epsilon^{2} \\omega^{2}}{-4 i \\, \\pi \\mathit{B1}_{z}^{2} c \\epsilon \\omega \\sigma + 16 \\, \\pi^{2} \\mathit{B1}_{z}^{2} c \\sigma^{2} - \\mathit{B1}_{z}^{2} \\epsilon^{2} \\omega^{2} - 4 i \\, \\pi \\mathit{B1}_{z}^{2} \\epsilon \\omega \\sigma + \\mathit{A1}_{z}^{2} \\omega^{2}} + \\frac{\\mathit{A1}_{z}^{2} \\epsilon \\mu \\omega^{2}}{-4 i \\, \\pi \\mathit{B1}_{z}^{2} c \\epsilon \\omega \\sigma + 16 \\, \\pi^{2} \\mathit{B1}_{z}^{2} c \\sigma^{2} - \\mathit{B1}_{z}^{2} \\epsilon^{2} \\omega^{2} - 4 i \\, \\pi \\mathit{B1}_{z}^{2} \\epsilon \\omega \\sigma + \\mathit{A1}_{z}^{2} \\omega^{2}} - \\frac{4 i \\, \\pi \\mathit{B1}_{z}^{2} \\epsilon \\omega \\sigma}{-4 i \\, \\pi \\mathit{B1}_{z}^{2} c \\epsilon \\omega \\sigma + 16 \\, \\pi^{2} \\mathit{B1}_{z}^{2} c \\sigma^{2} - \\mathit{B1}_{z}^{2} \\epsilon^{2} \\omega^{2} - 4 i \\, \\pi \\mathit{B1}_{z}^{2} \\epsilon \\omega \\sigma + \\mathit{A1}_{z}^{2} \\omega^{2}}} \\omega}{c}$"
      ],
      "text/plain": [
       "<IPython.core.display.Math object>"
      ]
     },
     "metadata": {},
     "output_type": "display_data"
    },
    {
     "name": "stdout",
     "output_type": "stream",
     "text": [
      "\n"
     ]
    }
   ],
   "source": [
    "k_z_sol = solve(eq_Hy_0_2_expand, k_z)\n",
    "\n",
    "for i in range(len(k_z_sol)):\n",
    "    #print(k_z_sol[i])\n",
    "    display(Math(latex(k_z_sol[i])))\n",
    "    print(\"\")"
   ]
  },
  {
   "cell_type": "code",
   "execution_count": 91,
   "metadata": {},
   "outputs": [
    {
     "data": {
      "text/plain": [
       "A1_z_im*sin(sqrt(-k_z^2 + kappa_vacuum^2)*(a + x))"
      ]
     },
     "execution_count": 91,
     "metadata": {},
     "output_type": "execute_result"
    }
   ],
   "source": [
    "E_vacuum_z = A1_z_im*sin(sqrt(kappa_vacuum^2-k_z^2)*(x+a))\n",
    "E_vacuum_z"
   ]
  },
  {
   "cell_type": "code",
   "execution_count": 92,
   "metadata": {},
   "outputs": [
    {
     "data": {
      "text/plain": [
       "A1_z*e^(-I*sqrt(-k_z^2 + kappa_vacuum^2)*x)"
      ]
     },
     "execution_count": 92,
     "metadata": {},
     "output_type": "execute_result"
    }
   ],
   "source": [
    "E_inner_vacuum_sol_z(x)"
   ]
  },
  {
   "cell_type": "code",
   "execution_count": null,
   "metadata": {},
   "outputs": [],
   "source": []
  },
  {
   "cell_type": "code",
   "execution_count": 93,
   "metadata": {},
   "outputs": [],
   "source": [
    "#A1_z2 = var(\"A1_z2\")"
   ]
  },
  {
   "cell_type": "code",
   "execution_count": 94,
   "metadata": {
    "scrolled": true
   },
   "outputs": [
    {
     "data": {
      "text/plain": [
       "k_z == sqrt(-4*I*pi*A1_z^2*c*epsilon*omega*sigma/(-4*I*pi*A1_z^2*c*epsilon*omega*sigma + 16*pi^2*A1_z^2*c*sigma^2 - A1_z^2*epsilon^2*omega^2 - 4*I*pi*A1_z^2*epsilon*omega*sigma + A1_z^2*omega^2) + 4*I*pi*A1_z^2*c*mu*omega*sigma/(-4*I*pi*A1_z^2*c*epsilon*omega*sigma + 16*pi^2*A1_z^2*c*sigma^2 - A1_z^2*epsilon^2*omega^2 - 4*I*pi*A1_z^2*epsilon*omega*sigma + A1_z^2*omega^2) + 16*pi^2*A1_z^2*c*sigma^2/(-4*I*pi*A1_z^2*c*epsilon*omega*sigma + 16*pi^2*A1_z^2*c*sigma^2 - A1_z^2*epsilon^2*omega^2 - 4*I*pi*A1_z^2*epsilon*omega*sigma + A1_z^2*omega^2) - A1_z^2*epsilon^2*omega^2/(-4*I*pi*A1_z^2*c*epsilon*omega*sigma + 16*pi^2*A1_z^2*c*sigma^2 - A1_z^2*epsilon^2*omega^2 - 4*I*pi*A1_z^2*epsilon*omega*sigma + A1_z^2*omega^2) + A1_z^2*epsilon*mu*omega^2/(-4*I*pi*A1_z^2*c*epsilon*omega*sigma + 16*pi^2*A1_z^2*c*sigma^2 - A1_z^2*epsilon^2*omega^2 - 4*I*pi*A1_z^2*epsilon*omega*sigma + A1_z^2*omega^2) - 4*I*pi*A1_z^2*epsilon*omega*sigma/(-4*I*pi*A1_z^2*c*epsilon*omega*sigma + 16*pi^2*A1_z^2*c*sigma^2 - A1_z^2*epsilon^2*omega^2 - 4*I*pi*A1_z^2*epsilon*omega*sigma + A1_z^2*omega^2))*omega/c"
      ]
     },
     "execution_count": 94,
     "metadata": {},
     "output_type": "execute_result"
    }
   ],
   "source": [
    "k_z_sol_subs = k_z_sol[1].subs(eqEz_a)#.subs(A1_z^2 == A1_z2)\n",
    "k_z_sol_subs"
   ]
  },
  {
   "cell_type": "code",
   "execution_count": 95,
   "metadata": {},
   "outputs": [],
   "source": [
    "K = sqrt(kappa_vacuum^2-k_z^2)"
   ]
  },
  {
   "cell_type": "code",
   "execution_count": null,
   "metadata": {},
   "outputs": [],
   "source": []
  },
  {
   "cell_type": "code",
   "execution_count": 96,
   "metadata": {},
   "outputs": [],
   "source": [
    "p = var(\"p\") # angle of phase shift of A1_z\n",
    "k = var(\"k\") # wave vector along x\n",
    "\n",
    "assume(a, \"real\")\n",
    "assume(p, \"real\")\n",
    "\n",
    "assume(k, \"complex\")"
   ]
  },
  {
   "cell_type": "code",
   "execution_count": 97,
   "metadata": {},
   "outputs": [
    {
     "name": "stdout",
     "output_type": "stream",
     "text": [
      "eqEz_0 = \n"
     ]
    },
    {
     "data": {
      "text/latex": [
       "$\\displaystyle {\\left(i \\, \\mathit{A1}_{z_{\\mathit{im}}} + \\mathit{A1}_{z_{\\mathit{re}}}\\right)} e^{\\left(i \\, a k\\right)} = 0$"
      ],
      "text/plain": [
       "<IPython.core.display.Math object>"
      ]
     },
     "metadata": {},
     "output_type": "display_data"
    }
   ],
   "source": [
    "# граничные условия на границе идеального проводника и вакуума внутри резонатора\n",
    "# тангенциальная компонента электрического поля\n",
    "\n",
    "# E_inner_vacuum_sol_z(x) = A1_z*e^(-I*sqrt(-k_z^2 + kappa_vacuum^2)*x)\n",
    "# E_inner_vacuum_sol_z(x) = A1_z*e^(-I*K*x)\n",
    "\n",
    "# eqEz_0 = solve(E_inner_vacuum_sol_z(-a) == 0, A1_z)\n",
    "eqEz_0 = E_inner_vacuum_sol_z(-a) == 0\n",
    "\n",
    "# E_inner_vacuum_z (x) = A1_z_re*cos(sqrt(kappa_vacuum^2-k_z^2)*x) + A1_z_im*sin(sqrt(kappa_vacuum^2-k^2)*x)\n",
    "# eqEz_0 = A1_z_re*cos(sqrt(kappa_vacuum^2-k_z^2)*(-a)) + A1_z_im*sin(sqrt(kappa_vacuum^2-k_z^2)*(-a)) == 0\n",
    "\n",
    "#eqEz_0 = A1_z_re*cos(K*(-a)) + A1_z_im*sin(K*(-a)) == 0\n",
    "#eqEz_0 = A1_z_re*cos(k*(-a)) + A1_z_im*sin(k*(-a)) == 0\n",
    "\n",
    "assume(A1_z_re, \"real\")\n",
    "assume(A1_z_im, \"real\")\n",
    "#eqEz_0 = A1_z*e^(-I*k*(-a)) == 0\n",
    "eqEz_0 = (A1_z_re + I * A1_z_im)*e^(-I*k*(-a)) == 0\n",
    "\n",
    "#A1_z_re^2 + A1_z_im^2 == 1\n",
    "\n",
    "#eqEz_01 = A1_z_re*cos(k*x) + A1_z_im*sin(k*x) == A1_z*e^(-I*k*x)\n",
    "#eqEz_02 = A1_z_re*cos(k*x) + A1_z_im*sin(k*x) == A1_z*(cos(-k*x)+I*sin(-k*x))\n",
    "\n",
    "print (\"eqEz_0 = \")\n",
    "display(Math(latex(eqEz_0)))"
   ]
  },
  {
   "cell_type": "code",
   "execution_count": 98,
   "metadata": {},
   "outputs": [],
   "source": [
    "eqEz_0_re = eqEz_0.lhs().real() == 0\n",
    "eqEz_0_im = eqEz_0.lhs().imag() == 0"
   ]
  },
  {
   "cell_type": "code",
   "execution_count": 99,
   "metadata": {},
   "outputs": [
    {
     "name": "stdout",
     "output_type": "stream",
     "text": [
      "A1_z_re*cos(a*real_part(k))*e^(-a*imag_part(k)) - A1_z_im*e^(-a*imag_part(k))*sin(a*real_part(k)) == 0\n"
     ]
    },
    {
     "data": {
      "text/latex": [
       "$\\displaystyle \\mathit{A1}_{z_{\\mathit{re}}} \\cos\\left(a \\Re \\left( k \\right)\\right) e^{\\left(-a \\Im \\left( k \\right)\\right)} - \\mathit{A1}_{z_{\\mathit{im}}} e^{\\left(-a \\Im \\left( k \\right)\\right)} \\sin\\left(a \\Re \\left( k \\right)\\right) = 0$"
      ],
      "text/plain": [
       "<IPython.core.display.Math object>"
      ]
     },
     "metadata": {},
     "output_type": "display_data"
    }
   ],
   "source": [
    "print(eqEz_0_re)\n",
    "display(Math(latex(eqEz_0_re)))"
   ]
  },
  {
   "cell_type": "code",
   "execution_count": 100,
   "metadata": {},
   "outputs": [
    {
     "name": "stdout",
     "output_type": "stream",
     "text": [
      "A1_z_im*cos(a*real_part(k))*e^(-a*imag_part(k)) + A1_z_re*e^(-a*imag_part(k))*sin(a*real_part(k)) == 0\n"
     ]
    },
    {
     "data": {
      "text/latex": [
       "$\\displaystyle \\mathit{A1}_{z_{\\mathit{im}}} \\cos\\left(a \\Re \\left( k \\right)\\right) e^{\\left(-a \\Im \\left( k \\right)\\right)} + \\mathit{A1}_{z_{\\mathit{re}}} e^{\\left(-a \\Im \\left( k \\right)\\right)} \\sin\\left(a \\Re \\left( k \\right)\\right) = 0$"
      ],
      "text/plain": [
       "<IPython.core.display.Math object>"
      ]
     },
     "metadata": {},
     "output_type": "display_data"
    }
   ],
   "source": [
    "print(eqEz_0_im)\n",
    "display(Math(latex(eqEz_0_im)))"
   ]
  },
  {
   "cell_type": "code",
   "execution_count": null,
   "metadata": {},
   "outputs": [],
   "source": []
  },
  {
   "cell_type": "code",
   "execution_count": 101,
   "metadata": {},
   "outputs": [
    {
     "data": {
      "text/plain": [
       "A1_z_im*sin(a*real_part(k))/(A1_z_re*cos(a*real_part(k))) == 1"
      ]
     },
     "execution_count": 101,
     "metadata": {},
     "output_type": "execute_result"
    }
   ],
   "source": [
    "eqEz_0_re1 = -eqEz_0_re.lhs().operands()[1] / eqEz_0_re.lhs().operands()[0] == 1\n",
    "eqEz_0_re1"
   ]
  },
  {
   "cell_type": "code",
   "execution_count": 102,
   "metadata": {},
   "outputs": [
    {
     "data": {
      "text/plain": [
       "-A1_z_re*sin(a*real_part(k))/(A1_z_im*cos(a*real_part(k))) == 1"
      ]
     },
     "execution_count": 102,
     "metadata": {},
     "output_type": "execute_result"
    }
   ],
   "source": [
    "eqEz_0_im1 = -eqEz_0_im.lhs().operands()[1] / eqEz_0_im.lhs().operands()[0] == 1\n",
    "eqEz_0_im1"
   ]
  },
  {
   "cell_type": "code",
   "execution_count": null,
   "metadata": {},
   "outputs": [],
   "source": []
  },
  {
   "cell_type": "raw",
   "metadata": {},
   "source": [
    "eqEz_5 = eqEz_4.subs(kappa_vacuum_sol).subs(kappa_sol).subs(k_z_sol_subs).full_simplify()"
   ]
  },
  {
   "cell_type": "code",
   "execution_count": 103,
   "metadata": {},
   "outputs": [
    {
     "data": {
      "text/plain": [
       "(c, epsilon, mu, omega, sigma)"
      ]
     },
     "execution_count": 103,
     "metadata": {},
     "output_type": "execute_result"
    }
   ],
   "source": [
    "K_s = K.subs(kappa_vacuum_sol).subs(kappa_sol).subs(k_z_sol_subs).full_simplify()\n",
    "K_s.variables()"
   ]
  },
  {
   "cell_type": "code",
   "execution_count": 104,
   "metadata": {},
   "outputs": [
    {
     "data": {
      "text/plain": [
       "(A1_z_im, A1_z_re, c, epsilon, mu, omega, sigma)"
      ]
     },
     "execution_count": 104,
     "metadata": {},
     "output_type": "execute_result"
    }
   ],
   "source": [
    "K_sA = K.subs(kappa_vacuum_sol).subs(kappa_sol).subs(k_z_sol_subs).subs(A1_z == A1_z_re + I * A1_z_im)\n",
    "K_sA.variables()"
   ]
  },
  {
   "cell_type": "code",
   "execution_count": 105,
   "metadata": {},
   "outputs": [],
   "source": [
    "K_sA_im0 = K_sA.subs(A1_z_im == 0, A1_z_re == 1)"
   ]
  },
  {
   "cell_type": "code",
   "execution_count": null,
   "metadata": {},
   "outputs": [],
   "source": []
  },
  {
   "cell_type": "code",
   "execution_count": 106,
   "metadata": {},
   "outputs": [],
   "source": [
    "# A1_z_re + I * A1_z_im"
   ]
  },
  {
   "cell_type": "raw",
   "metadata": {},
   "source": [
    "eqEz_0_re1_s = eqEz_0_re1.subs(k == K_s).subs(A1_z == A1_z_re + I * A1_z_im)\n",
    "eqEz_0_re1_s.variables()"
   ]
  },
  {
   "cell_type": "raw",
   "metadata": {},
   "source": [
    "eqEz_0_im1_s = eqEz_0_im1.subs(k == K_s).subs(A1_z == A1_z_re + I * A1_z_im)\n",
    "eqEz_0_im1_s.variables()"
   ]
  },
  {
   "cell_type": "code",
   "execution_count": null,
   "metadata": {},
   "outputs": [],
   "source": []
  },
  {
   "cell_type": "raw",
   "metadata": {},
   "source": [
    "eqEz_2 = A1_z_re/A1_z_im == - tan(K*(-a))"
   ]
  },
  {
   "cell_type": "raw",
   "metadata": {},
   "source": [
    "eqEz_3 = eqEz_2.subs(kappa_vacuum_sol).subs(kappa_sol).subs(k_z_sol_subs)"
   ]
  },
  {
   "cell_type": "raw",
   "metadata": {},
   "source": [
    "eqEz_4 = atan(-A1_z_re/A1_z_im) == K*(-a)"
   ]
  },
  {
   "cell_type": "raw",
   "metadata": {},
   "source": [
    "eqEz_5 = eqEz_4.subs(kappa_vacuum_sol).subs(kappa_sol).subs(k_z_sol_subs).full_simplify()"
   ]
  },
  {
   "cell_type": "raw",
   "metadata": {},
   "source": [
    "eqEz_5.rhs().variables()"
   ]
  },
  {
   "cell_type": "raw",
   "metadata": {},
   "source": [
    "eqEz_5.rhs()"
   ]
  },
  {
   "cell_type": "code",
   "execution_count": null,
   "metadata": {},
   "outputs": [],
   "source": []
  },
  {
   "cell_type": "raw",
   "metadata": {},
   "source": [
    "eq = sin(k*(x+a)) == exp(I*p)*exp(-I*k*x)\n",
    "eq"
   ]
  },
  {
   "cell_type": "raw",
   "metadata": {},
   "source": [
    "eq = sin(k*(x+a)) == exp(I*(p-k*x))\n",
    "eq"
   ]
  },
  {
   "cell_type": "raw",
   "metadata": {},
   "source": [
    "eq2 = ln(eq.lhs()) == ln(eq.rhs()).full_simplify()\n",
    "eq2"
   ]
  },
  {
   "cell_type": "raw",
   "metadata": {},
   "source": [
    "eq2 = ln(eq.lhs()) == I*(p-k*x)\n",
    "eq2"
   ]
  },
  {
   "cell_type": "raw",
   "metadata": {},
   "source": [
    "eq = sin(k*(x+a)) == cos(p-k*x)+I*sin(p-k*x)\n",
    "eq"
   ]
  },
  {
   "cell_type": "markdown",
   "metadata": {},
   "source": [
    "?????"
   ]
  },
  {
   "cell_type": "raw",
   "metadata": {},
   "source": [
    "#eq = sin(k*(x+a)).real() == cos(p-k*x)\n",
    "eq = sin(k*(x+a)) == cos(p-k*x)\n",
    "eq"
   ]
  },
  {
   "cell_type": "raw",
   "metadata": {},
   "source": [
    "eq_sol = solve(eq, p)\n",
    "eq_sol"
   ]
  },
  {
   "cell_type": "raw",
   "metadata": {},
   "source": [
    "solve(eq2, p)"
   ]
  },
  {
   "cell_type": "raw",
   "metadata": {},
   "source": [
    "#phi(x) = K*x - arccos(sin(a*K + K*x))\n",
    "phi(x) = eq_sol[0].rhs().subs(k == K)\n",
    "phi(x)"
   ]
  },
  {
   "cell_type": "raw",
   "metadata": {},
   "source": [
    "phi2(x) = K*x - I*log(sin(a*K + K*x))\n",
    "phi2(x)"
   ]
  },
  {
   "cell_type": "raw",
   "metadata": {},
   "source": [
    "phi2(a)"
   ]
  },
  {
   "cell_type": "raw",
   "metadata": {},
   "source": [
    "p = phi(a)#.real()\n",
    "p"
   ]
  },
  {
   "cell_type": "raw",
   "metadata": {},
   "source": [
    "p2 = phi2(a)#.real()\n",
    "p2"
   ]
  },
  {
   "cell_type": "raw",
   "metadata": {},
   "source": [
    "A1_z_fun = exp(I*p)\n",
    "A1_z_fun"
   ]
  },
  {
   "cell_type": "raw",
   "metadata": {},
   "source": [
    "A1_z_fun2 = exp(I*p2)\n",
    "A1_z_fun2"
   ]
  },
  {
   "cell_type": "code",
   "execution_count": null,
   "metadata": {},
   "outputs": [],
   "source": []
  },
  {
   "cell_type": "raw",
   "metadata": {},
   "source": [
    "A1_z_fun.subs(kappa_vacuum_sol).subs(kappa_sol)"
   ]
  },
  {
   "cell_type": "raw",
   "metadata": {},
   "source": [
    "A1_z_fun2.subs(kappa_vacuum_sol).subs(kappa_sol)"
   ]
  },
  {
   "cell_type": "code",
   "execution_count": null,
   "metadata": {},
   "outputs": [],
   "source": []
  },
  {
   "cell_type": "code",
   "execution_count": 107,
   "metadata": {},
   "outputs": [
    {
     "name": "stdout",
     "output_type": "stream",
     "text": [
      "[mu == 1, c == 29979245800, sigma == 25, epsilon == 5, a == 0.150000000000000]\n"
     ]
    }
   ],
   "source": [
    "# sgs\n",
    "A = 0.15\n",
    "kappa_A_max = 13*pi.n()/2\n",
    "s_A_max = 20\n",
    "epsilon_d = 5\n",
    "\n",
    "lambda_d = 632*100*10^-9\n",
    "# 632 nm\n",
    "\n",
    "lambda_d = 632*100*10^-6\n",
    "# 0.632 mm\n",
    "\n",
    "lambda_d = 632*100*10^-4\n",
    "# 63.2 mm\n",
    "# 6.32 sm\n",
    "\n",
    "c_value  = [ c == 299792458 * 100]\n",
    "omega_value = [ omega  == ((2*pi * c)/ lambda_d).subs (c_value) ]\n",
    "digit_values = [mu == 1, c == 299792458 * 100, sigma == 25, epsilon == epsilon_d, a == A]\n",
    "\n",
    "#digit_values += omega_value\n",
    "print (digit_values)"
   ]
  },
  {
   "cell_type": "code",
   "execution_count": 108,
   "metadata": {},
   "outputs": [
    {
     "data": {
      "text/plain": [
       "1/29979245800*sqrt(-(1772410318035779765607272771438797108567289972831406250000000000000000000000000000*I*pi^11*omega^3 + 443102579526090102279426932837611233276397805355447820312500000000000000000000000*pi^10*omega^4 - 44310257955151223737450253126220765439285716145984970449218750000000000000000000*I*pi^9*omega^5 - 2215512897967441604525773710977744446097867097208860672485351562500000000000000*pi^8*omega^6 + 55387822459606159440875024589071584088379469779193221925061645507812500000000*I*pi^7*omega^7 + 553878224907187143158917040511914071392788190604917053954858551025390625000*pi^6*omega^8 - 5173108887525504622047129792883228564527231922924886505126953125*I*pi^5*omega^9 - 20115138889324035074089084991482758015123757324218750*pi^4*omega^10 + 41679003744365166476738712752158828125000*I*pi^3*omega^11 + 48532779654904495160943750000*pi^2*omega^12 - 30111154482330000*I*pi*omega^13 - 7776*omega^14)/(177241031803577976560727277143879710856728997283140625000000000000000000000000000000*pi^12 - 53172309542847030300384604520189288029560972855383179687500000000000000000000000000*I*pi^11*omega - 6646538693162718046020261734897972796952293167924342639648437500000000000000000000*pi^10*omega^2 + 443102579574569522694164784217735488491640098946315910727539062500000000000000000*I*pi^9*omega^3 + 16616346735930846766645871602227973148354720585714250228860778808593750000000000*pi^8*omega^4 - 332326934793553112629304163473663970321484787113621422812339080810546875000000*I*pi^7*omega^5 - 2769391125145623548969776526411057137512807586242887475248163761138916015625*pi^6*omega^6 + 26604559995452836585713240068794309987997212694146275512695312500*I*pi^5*omega^7 + 106491911772325342046271075380782841812114350585937500*pi^4*omega^8 - 227340020430262652622697885834290937500000*I*pi^3*omega^9 - 272996885563017529203915750000*pi^2*omega^10 + 174838961511432000*I*pi*omega^11 + 46656*omega^12))"
      ]
     },
     "execution_count": 108,
     "metadata": {},
     "output_type": "execute_result"
    }
   ],
   "source": [
    "# K.real() should be equial 3*A\n",
    "\n",
    "K_d = K_s.subs(digit_values)\n",
    "K_d"
   ]
  },
  {
   "cell_type": "code",
   "execution_count": 109,
   "metadata": {},
   "outputs": [
    {
     "data": {
      "text/plain": [
       "sqrt(-1/179751035747363528000*(14989622900000*pi^2/(74948114500000*pi^2 - 3747405725125*I*pi*omega - 6*omega^2) - 599584916025*I*pi*omega/(74948114500000*pi^2 - 3747405725125*I*pi*omega - 6*omega^2) - omega^2/(74948114500000*pi^2 - 3747405725125*I*pi*omega - 6*omega^2))*omega^2 + 1/898755178736817640000*omega^2)"
      ]
     },
     "execution_count": 109,
     "metadata": {},
     "output_type": "execute_result"
    }
   ],
   "source": [
    "K_sA_im0_d = K_sA_im0.subs(digit_values)\n",
    "K_sA_im0_d"
   ]
  },
  {
   "cell_type": "code",
   "execution_count": 112,
   "metadata": {},
   "outputs": [],
   "source": [
    "#plot(K_d.real()/omega, (omega, 0, 1000))"
   ]
  },
  {
   "cell_type": "code",
   "execution_count": 115,
   "metadata": {},
   "outputs": [
    {
     "data": {
      "image/png": "[encoded data removed]",
      "text/plain": [
       "Graphics object consisting of 1 graphics primitive"
      ]
     },
     "execution_count": 115,
     "metadata": {},
     "output_type": "execute_result"
    }
   ],
   "source": [
    "plot(K_sA_im0_d.real()/omega, (omega, 0, 1000))"
   ]
  },
  {
   "cell_type": "code",
   "execution_count": 116,
   "metadata": {},
   "outputs": [
    {
     "data": {
      "text/plain": [
       "1.49143528783065e-11"
      ]
     },
     "execution_count": 116,
     "metadata": {},
     "output_type": "execute_result"
    }
   ],
   "source": [
    "(K_sA_im0_d.real()/omega).subs(omega == 1e11).n()"
   ]
  },
  {
   "cell_type": "code",
   "execution_count": 117,
   "metadata": {},
   "outputs": [
    {
     "data": {
      "text/plain": [
       "0.474738596719863 + 0.00201185698742571*I"
      ]
     },
     "execution_count": 117,
     "metadata": {},
     "output_type": "execute_result"
    }
   ],
   "source": [
    "(K_sA_im0_d/pi).subs(omega == 1e11).n()"
   ]
  },
  {
   "cell_type": "code",
   "execution_count": 120,
   "metadata": {},
   "outputs": [
    {
     "data": {
      "text/plain": [
       "4.66890749968965 + 0.162810180414320*I"
      ]
     },
     "execution_count": 120,
     "metadata": {},
     "output_type": "execute_result"
    }
   ],
   "source": [
    "(K_sA_im0_d/pi).subs(omega == 1e12).n()"
   ]
  },
  {
   "cell_type": "code",
   "execution_count": 118,
   "metadata": {},
   "outputs": [
    {
     "data": {
      "text/plain": [
       "0.474738596719864 + 0.00201185698742570*I"
      ]
     },
     "execution_count": 118,
     "metadata": {},
     "output_type": "execute_result"
    }
   ],
   "source": [
    "(K_d/pi).subs(omega == 1e11).n()"
   ]
  },
  {
   "cell_type": "raw",
   "metadata": {},
   "source": [
    "A1_z_eq = A1_z == A1_z_fun.subs(kappa_vacuum_sol).subs(kappa_sol).subs(k_z_sol_subs)\n",
    "A1_z_eq"
   ]
  },
  {
   "cell_type": "raw",
   "metadata": {},
   "source": [
    "A1_z_eq.rhs().variables()"
   ]
  },
  {
   "cell_type": "raw",
   "metadata": {},
   "source": [
    "A1_z_eq2 = A1_z == A1_z_fun2.subs(kappa_vacuum_sol).subs(kappa_sol).subs(k_z_sol_subs)\n",
    "A1_z_eq2"
   ]
  },
  {
   "cell_type": "markdown",
   "metadata": {},
   "source": [
    "A1_z_eq2.rhs().variables()"
   ]
  },
  {
   "cell_type": "raw",
   "metadata": {},
   "source": [
    "A1_z_eq_d = A1_z_eq.subs(digit_values)\n",
    "A1_z_eq_d"
   ]
  },
  {
   "cell_type": "raw",
   "metadata": {},
   "source": [
    "A1_z_eq2_d = A1_z_eq2.subs(digit_values)\n",
    "A1_z_eq2_d"
   ]
  },
  {
   "cell_type": "raw",
   "metadata": {},
   "source": [
    "A1_z_init2 = 1\n",
    "i = 0\n",
    "\n",
    "while (True):\n",
    "    A1_z_eq2_d_next = A1_z_eq2_d.subs(A1_z2 == A1_z_init2^2)\n",
    "    A1_z_next2 = A1_z_eq2_d_next.rhs().n()\n",
    "    tg_A1_z = A1_z_next2.real()/A1_z_next2.imag()\n",
    "    atan_tg_A1_z = atan(-tg_A1_z)\n",
    "    delta = A1_z_init2.abs() - A1_z_next2.abs()\n",
    "    print(A1_z_next2, A1_z_next2.abs(), tg_A1_z, atan_tg_A1_z, delta)\n",
    "    if abs(delta) < 1e-16 or i > 10:\n",
    "        break\n",
    "    A1_z_init2 = A1_z_next2\n",
    "    i += 1"
   ]
  },
  {
   "cell_type": "raw",
   "metadata": {},
   "source": [
    "A1_z_init = 1\n",
    "i = 0\n",
    "print(\"A1_z_next\", \"A1_z_next.abs()\", \"tg_A1_z\", \"atan_tg_A1_z\", \"delta\")\n",
    "      \n",
    "while (True):\n",
    "    A1_z_eq_d_next = A1_z_eq_d.subs(A1_z2 == A1_z_init^2)\n",
    "    A1_z_next = A1_z_eq_d_next.rhs().n()\n",
    "    tg_A1_z = A1_z_next.real()/A1_z_next.imag()\n",
    "    atan_tg_A1_z = atan(-tg_A1_z)\n",
    "    delta = A1_z_init.abs() - A1_z_next.abs()\n",
    "    print(A1_z_next, A1_z_next.abs(), tg_A1_z, atan_tg_A1_z, delta)\n",
    "    if abs(delta) < 1e-16 or i > 10:\n",
    "        break\n",
    "    A1_z_init = A1_z_next\n",
    "    i += 1"
   ]
  },
  {
   "cell_type": "code",
   "execution_count": null,
   "metadata": {},
   "outputs": [],
   "source": []
  },
  {
   "cell_type": "raw",
   "metadata": {},
   "source": [
    "eqEz_5_d = eqEz_5.subs(digit_values)\n",
    "eqEz_5_d"
   ]
  },
  {
   "cell_type": "raw",
   "metadata": {},
   "source": [
    "eqEz_5_d.lhs()"
   ]
  },
  {
   "cell_type": "code",
   "execution_count": null,
   "metadata": {},
   "outputs": [],
   "source": []
  },
  {
   "cell_type": "raw",
   "metadata": {},
   "source": [
    "digit_values += [A1_z == A1_z_next, A1_z2 == A1_z_next^2]\n",
    "digit_values"
   ]
  },
  {
   "cell_type": "code",
   "execution_count": null,
   "metadata": {},
   "outputs": [],
   "source": []
  },
  {
   "cell_type": "raw",
   "metadata": {},
   "source": [
    "eq_Hy_0_2_expand_d = eq_Hy_0_2_expand.subs(digit_values)\n",
    "print(\"eq_Hy_0_2_expand_d =\", eq_Hy_0_2_expand_d)"
   ]
  },
  {
   "cell_type": "raw",
   "metadata": {},
   "source": [
    "k_z_sol_d = solve(eq_Hy_0_2_expand_d, k_z)\n",
    "\n",
    "for i in range(len(k_z_sol_d)):\n",
    "    #print(k_z_sol[i])\n",
    "    display(Math(latex(k_z_sol_d[i])))\n",
    "    print(\"\")"
   ]
  },
  {
   "cell_type": "raw",
   "metadata": {},
   "source": [
    "r = omega / c * sqrt(epsilon * mu - 1)\n",
    "print (\"r =\", r)\n",
    "\n",
    "r = r.subs(digit_values)\n",
    "print (\"r =\", r)"
   ]
  },
  {
   "cell_type": "code",
   "execution_count": null,
   "metadata": {},
   "outputs": [],
   "source": []
  },
  {
   "cell_type": "code",
   "execution_count": null,
   "metadata": {},
   "outputs": [],
   "source": [
    "Ex_bad_conductor = (eq_7_subs4.rhs()).subs(kappa_vacuum_sol).subs(kappa_sol).subs(k_z_sol_subs).subs(eqEz_a)\n",
    "Ex_vacuum        = (eq_5_subs4.rhs()).subs(kappa_vacuum_sol).subs(kappa_sol).subs(k_z_sol_subs).subs(eqEz_a)"
   ]
  },
  {
   "cell_type": "code",
   "execution_count": null,
   "metadata": {},
   "outputs": [],
   "source": [
    "print             (Ex_vacuum)\n",
    "display(Math(latex(Ex_vacuum)))"
   ]
  },
  {
   "cell_type": "code",
   "execution_count": null,
   "metadata": {},
   "outputs": [],
   "source": [
    "print             (Ex_bad_conductor)\n",
    "display(Math(latex(Ex_bad_conductor)))"
   ]
  },
  {
   "cell_type": "code",
   "execution_count": null,
   "metadata": {},
   "outputs": [],
   "source": [
    "Hy_bad_conductor = (eq_8_subs4.rhs()*sqrt(epsilon_complex)/sqrt(mu)).subs(kappa_vacuum_sol).subs(kappa_sol).subs(k_z_sol_subs).subs(eqEz_a)\n",
    "Hy_vacuum        = (eq_6_subs4.rhs()).subs(kappa_vacuum_sol).subs(kappa_sol).subs(k_z_sol_subs).subs(eqEz_a)"
   ]
  },
  {
   "cell_type": "code",
   "execution_count": null,
   "metadata": {},
   "outputs": [],
   "source": [
    "print             (Hy_bad_conductor)\n",
    "display(Math(latex(Hy_bad_conductor)))"
   ]
  },
  {
   "cell_type": "code",
   "execution_count": null,
   "metadata": {},
   "outputs": [],
   "source": [
    "print             (Hy_vacuum)\n",
    "display(Math(latex(Hy_vacuum)))"
   ]
  },
  {
   "cell_type": "code",
   "execution_count": null,
   "metadata": {},
   "outputs": [],
   "source": []
  },
  {
   "cell_type": "code",
   "execution_count": null,
   "metadata": {},
   "outputs": [],
   "source": [
    "Ex_bad_conductor_d = Ex_bad_conductor.subs(digit_values)\n",
    "Ex_vacuum_d        = Ex_vacuum.subs(digit_values)"
   ]
  },
  {
   "cell_type": "code",
   "execution_count": null,
   "metadata": {},
   "outputs": [],
   "source": [
    "print             (Ex_bad_conductor_d)\n",
    "display(Math(latex(Ex_bad_conductor_d)))"
   ]
  },
  {
   "cell_type": "code",
   "execution_count": null,
   "metadata": {
    "scrolled": true
   },
   "outputs": [],
   "source": [
    "print             (Ex_vacuum_d)\n",
    "display(Math(latex(Ex_vacuum_d)))"
   ]
  },
  {
   "cell_type": "code",
   "execution_count": null,
   "metadata": {},
   "outputs": [],
   "source": []
  },
  {
   "cell_type": "code",
   "execution_count": null,
   "metadata": {},
   "outputs": [],
   "source": [
    "Hy_bad_conductor_d = Hy_bad_conductor.subs(digit_values)\n",
    "Hy_vacuum_d        = Hy_vacuum.subs(digit_values)"
   ]
  },
  {
   "cell_type": "code",
   "execution_count": null,
   "metadata": {},
   "outputs": [],
   "source": [
    "print             (Hy_bad_conductor_d)\n",
    "display(Math(latex(Hy_bad_conductor_d)))"
   ]
  },
  {
   "cell_type": "code",
   "execution_count": null,
   "metadata": {
    "scrolled": true
   },
   "outputs": [],
   "source": [
    "print             (Hy_vacuum_d)\n",
    "display(Math(latex(Hy_vacuum_d)))"
   ]
  },
  {
   "cell_type": "code",
   "execution_count": null,
   "metadata": {},
   "outputs": [],
   "source": []
  },
  {
   "cell_type": "code",
   "execution_count": null,
   "metadata": {},
   "outputs": [],
   "source": [
    "Hy_vacuum_d.subs(x == -A), Ex_vacuum_d.subs(x == -A)"
   ]
  },
  {
   "cell_type": "code",
   "execution_count": null,
   "metadata": {},
   "outputs": [],
   "source": [
    "Hy_vacuum_d.subs(x == 0), Ex_vacuum_d.subs(x == 0)"
   ]
  },
  {
   "cell_type": "code",
   "execution_count": null,
   "metadata": {},
   "outputs": [],
   "source": [
    "Hy_bad_conductor_d.subs(x == 0), epsilon_d * Ex_bad_conductor_d.subs(x == 0)"
   ]
  },
  {
   "cell_type": "code",
   "execution_count": null,
   "metadata": {},
   "outputs": [],
   "source": [
    "Hy_bad_conductor_d.subs(x == A), Ex_bad_conductor_d.subs(x == A)"
   ]
  },
  {
   "cell_type": "code",
   "execution_count": null,
   "metadata": {},
   "outputs": [],
   "source": [
    "k_z_sol[1]"
   ]
  },
  {
   "cell_type": "code",
   "execution_count": null,
   "metadata": {},
   "outputs": [],
   "source": []
  },
  {
   "cell_type": "code",
   "execution_count": null,
   "metadata": {},
   "outputs": [],
   "source": [
    "Ez_vacuum        = E_inner_vacuum_sol_z(x).subs(kappa_vacuum_sol).subs(kappa_sol).subs(k_z_sol_subs).subs(eqEz_a)\n",
    "Ez_bad_conductor = E_bad_conductor_sol_z(x).subs(kappa_vacuum_sol).subs(kappa_sol).subs(k_z_sol_subs).subs(eqEz_a)"
   ]
  },
  {
   "cell_type": "code",
   "execution_count": null,
   "metadata": {},
   "outputs": [],
   "source": [
    "print             (Ez_vacuum)\n",
    "display(Math(latex(Ez_vacuum)))"
   ]
  },
  {
   "cell_type": "code",
   "execution_count": null,
   "metadata": {},
   "outputs": [],
   "source": [
    "Ez_bad_conductor_d = Ez_bad_conductor.subs(digit_values)\n",
    "Ez_vacuum_d        = Ez_vacuum.subs(digit_values)"
   ]
  },
  {
   "cell_type": "code",
   "execution_count": null,
   "metadata": {},
   "outputs": [],
   "source": [
    "print             (Ez_vacuum_d)\n",
    "display(Math(latex(Ez_vacuum_d)))"
   ]
  },
  {
   "cell_type": "code",
   "execution_count": null,
   "metadata": {},
   "outputs": [],
   "source": [
    "print             (Ez_bad_conductor_d)\n",
    "display(Math(latex(Ez_bad_conductor_d)))"
   ]
  },
  {
   "cell_type": "code",
   "execution_count": null,
   "metadata": {},
   "outputs": [],
   "source": [
    "Ez_vacuum_d.subs(x == -A), Ez_vacuum_d.subs(x == -A/2), Ez_vacuum_d.subs(x == 0)"
   ]
  },
  {
   "cell_type": "code",
   "execution_count": null,
   "metadata": {},
   "outputs": [],
   "source": []
  },
  {
   "cell_type": "code",
   "execution_count": null,
   "metadata": {},
   "outputs": [],
   "source": [
    "print             (Ex_vacuum_d.variables())\n",
    "print             (Ex_bad_conductor_d.variables())"
   ]
  },
  {
   "cell_type": "code",
   "execution_count": null,
   "metadata": {},
   "outputs": [],
   "source": [
    "print             (Ez_vacuum_d.variables())\n",
    "print             (Ez_bad_conductor_d.variables())"
   ]
  },
  {
   "cell_type": "code",
   "execution_count": null,
   "metadata": {},
   "outputs": [],
   "source": [
    "print             (Hy_vacuum_d.variables())\n",
    "print             (Hy_bad_conductor_d.variables())"
   ]
  },
  {
   "cell_type": "code",
   "execution_count": null,
   "metadata": {},
   "outputs": [],
   "source": []
  },
  {
   "cell_type": "raw",
   "metadata": {},
   "source": [
    "eqEz_0_re1_d = eqEz_0_re1_s.subs(digit_values)"
   ]
  },
  {
   "cell_type": "raw",
   "metadata": {},
   "source": [
    "eqEz_0_im1_d = eqEz_0_im1_s.subs(digit_values)"
   ]
  },
  {
   "cell_type": "code",
   "execution_count": null,
   "metadata": {},
   "outputs": [],
   "source": []
  },
  {
   "cell_type": "code",
   "execution_count": null,
   "metadata": {},
   "outputs": [],
   "source": [
    "eq_Hy_d = Hy_bad_conductor_d.subs(x == 0) == Hy_vacuum_d.subs(x == 0)\n",
    "eq_Hy_d = eq_Hy_d.subs(A1_z == A1_z_re + I * A1_z_im)\n",
    "eq_Hy_d.variables()"
   ]
  },
  {
   "cell_type": "code",
   "execution_count": null,
   "metadata": {},
   "outputs": [],
   "source": []
  },
  {
   "cell_type": "raw",
   "metadata": {},
   "source": [
    "eq_sys = [eqEz_0_re1_d, eqEz_0_im1_d, eq_Hy_d]"
   ]
  },
  {
   "cell_type": "code",
   "execution_count": null,
   "metadata": {},
   "outputs": [],
   "source": [
    "#solve(eq_sys, (A1_z_im, A1_z_re, omega))"
   ]
  },
  {
   "cell_type": "code",
   "execution_count": null,
   "metadata": {},
   "outputs": [],
   "source": []
  },
  {
   "cell_type": "code",
   "execution_count": null,
   "metadata": {},
   "outputs": [],
   "source": [
    "Ez_vacuum_d.subs(x == 0) == Ez_bad_conductor_d.subs(x == 0)"
   ]
  },
  {
   "cell_type": "code",
   "execution_count": null,
   "metadata": {},
   "outputs": [],
   "source": [
    "eq_Ex_d = Ex_vacuum_d.subs(x == 0) == epsilon_complex * Ex_bad_conductor_d.subs(x == 0)\n",
    "eq_Ex_d = eq_Ex_d.subs(digit_values)\n",
    "eq_Ex_d.variables()"
   ]
  },
  {
   "cell_type": "code",
   "execution_count": null,
   "metadata": {},
   "outputs": [],
   "source": [
    "eq_Ex_d = Ex_vacuum_d.subs(x == 0) == epsilon * Ex_bad_conductor_d.subs(x == 0)\n",
    "eq_Ex_d = eq_Ex_d.subs(digit_values)\n",
    "eq_Ex_d.variables()"
   ]
  },
  {
   "cell_type": "code",
   "execution_count": null,
   "metadata": {},
   "outputs": [],
   "source": []
  },
  {
   "cell_type": "code",
   "execution_count": null,
   "metadata": {},
   "outputs": [],
   "source": [
    "plt =  plot(Ez_vacuum_d.real(), (x, -A, 0))\n",
    "plt += plot(Ez_bad_conductor_d.real(), (x, 0, A))\n",
    "plt.show(title=\"График тангенциальной компоненты электрического поля\")"
   ]
  },
  {
   "cell_type": "code",
   "execution_count": null,
   "metadata": {},
   "outputs": [],
   "source": [
    "plt =  plot(Ez_vacuum_d.imag(), (x, -A, 0))\n",
    "plt += plot(Ez_bad_conductor_d.imag(), (x, 0, A))\n",
    "plt.show(title=\"График тангенциальной компоненты электрического поля\")"
   ]
  },
  {
   "cell_type": "code",
   "execution_count": null,
   "metadata": {},
   "outputs": [],
   "source": [
    "plt =  plot(Ez_vacuum_d.abs(), (x, -A, 0))\n",
    "plt += plot(Ez_bad_conductor_d.abs(), (x, 0, A))\n",
    "plt.show(title=\"График тангенциальной компоненты электрического поля\")"
   ]
  },
  {
   "cell_type": "code",
   "execution_count": null,
   "metadata": {},
   "outputs": [],
   "source": []
  },
  {
   "cell_type": "code",
   "execution_count": null,
   "metadata": {},
   "outputs": [],
   "source": [
    "plt =  plot(Ex_vacuum_d.real(), (x, -A, 0))\n",
    "plt += plot(Ex_bad_conductor_d.real(), (x, 0, A))\n",
    "plt.show(title=\"График нормальной компоненты электрического поля\")"
   ]
  },
  {
   "cell_type": "code",
   "execution_count": null,
   "metadata": {},
   "outputs": [],
   "source": [
    "plt =  plot(Ex_vacuum_d.imag(), (x, -A, 0))\n",
    "plt+= plot(Ex_bad_conductor_d.imag(), (x, 0, A))\n",
    "plt.show(title=\"График нормальной компоненты электрического поля\")"
   ]
  },
  {
   "cell_type": "code",
   "execution_count": null,
   "metadata": {
    "scrolled": true
   },
   "outputs": [],
   "source": [
    "plt =  plot(Ex_vacuum_d.abs(), (x, -A, 0))\n",
    "plt += plot(Ex_bad_conductor_d.abs(), (x, 0, A))\n",
    "plt.show(title=\"График нормальной компоненты электрического поля\")"
   ]
  },
  {
   "cell_type": "code",
   "execution_count": null,
   "metadata": {},
   "outputs": [],
   "source": []
  },
  {
   "cell_type": "raw",
   "metadata": {},
   "source": [
    "plt =  plot(even_E_inner_vacuum_x_d (x).imag(), (x, 0, A))\n",
    "plt += plot(even_E_bad_conductor_x_d (x).imag()*epsilon.subs(digit_values), (x, A, 3*A))\n",
    "plt.show(title=\"График нормальной компоненты электрического смещения\")"
   ]
  },
  {
   "cell_type": "code",
   "execution_count": null,
   "metadata": {},
   "outputs": [],
   "source": [
    "plt =  plot(Ex_vacuum_d.real(), (x, -A, 0))\n",
    "plt += plot(Ex_bad_conductor_d.real() * epsilon_d, (x, 0, A))\n",
    "plt.show(title=\"График нормальной компоненты электрического смещения\")"
   ]
  },
  {
   "cell_type": "code",
   "execution_count": null,
   "metadata": {},
   "outputs": [],
   "source": [
    "plt =  plot(Ex_vacuum_d.imag(), (x, -A, 0))\n",
    "plt += plot(Ex_bad_conductor_d.imag() * epsilon_d, (x, 0, A))\n",
    "plt.show(title=\"График нормальной компоненты электрического смещения\")"
   ]
  },
  {
   "cell_type": "code",
   "execution_count": null,
   "metadata": {
    "scrolled": true
   },
   "outputs": [],
   "source": [
    "plt =  plot(Ex_vacuum_d.abs(), (x, -A, 0))\n",
    "plt += plot(Ex_bad_conductor_d.abs() * epsilon_d, (x, 0, A))\n",
    "plt.show(title=\"График нормальной компоненты электрического смещения\")"
   ]
  },
  {
   "cell_type": "code",
   "execution_count": null,
   "metadata": {},
   "outputs": [],
   "source": []
  },
  {
   "cell_type": "code",
   "execution_count": null,
   "metadata": {},
   "outputs": [],
   "source": [
    "plt =  plot(Hy_vacuum_d.real(), (x, -A, 0))\n",
    "plt += plot(Hy_bad_conductor_d.real(), (x, 0, A))\n",
    "plt.show(title=\"График тангенциальной компоненты напряженности магнитного поля H\")"
   ]
  },
  {
   "cell_type": "code",
   "execution_count": null,
   "metadata": {},
   "outputs": [],
   "source": [
    "plt =  plot(Hy_vacuum_d.imag(), (x, -A, 0))\n",
    "plt += plot(Hy_bad_conductor_d.imag(), (x, 0, A))\n",
    "plt.show(title=\"График тангенциальной компоненты напряженности магнитного поля H\")"
   ]
  },
  {
   "cell_type": "code",
   "execution_count": null,
   "metadata": {},
   "outputs": [],
   "source": [
    "plt =  plot(Hy_vacuum_d.abs(), (x, -A, 0))\n",
    "plt += plot(Hy_bad_conductor_d.abs(), (x, 0, A))\n",
    "plt.show(title=\"График тангенциальной компоненты напряженности магнитного поля H\")"
   ]
  },
  {
   "cell_type": "code",
   "execution_count": null,
   "metadata": {},
   "outputs": [],
   "source": []
  },
  {
   "cell_type": "code",
   "execution_count": null,
   "metadata": {},
   "outputs": [],
   "source": [
    "#even_disp_eq_fa(x)"
   ]
  },
  {
   "cell_type": "markdown",
   "metadata": {},
   "source": [
    "Решение получено и соответствует приведенному в решебнике ответу.\n",
    "\n",
    "Теперь посчитаем:\n",
    "\n",
    "1) пондеромоторную силу, приложенную к идеальному проводнику\n",
    "\n",
    "2) пондеромоторную силу, приложенную к границе диэлектрика и вакуума\n"
   ]
  },
  {
   "cell_type": "code",
   "execution_count": null,
   "metadata": {},
   "outputs": [],
   "source": []
  },
  {
   "cell_type": "markdown",
   "metadata": {},
   "source": [
    "1) пондеромоторная сила, приложенная к идеальному проводнику"
   ]
  },
  {
   "cell_type": "code",
   "execution_count": null,
   "metadata": {},
   "outputs": [],
   "source": [
    "# superconductor force\n",
    "# additional 1/2 arises as result of integration on period\n",
    "f_superconductor = - abs((even_H_inner_vacuum_y (0)^2) / (2*8*pi))\n",
    "print(\"f_superconductor =\", f_superconductor)"
   ]
  },
  {
   "cell_type": "code",
   "execution_count": null,
   "metadata": {},
   "outputs": [],
   "source": [
    "f_superconductor_d = f_superconductor.subs(digit_values).subs(B2_z == 1, kappa == even_kappa_sol)\n",
    "print(\"f_superconductor_d =\", f_superconductor_d)"
   ]
  },
  {
   "cell_type": "markdown",
   "metadata": {},
   "source": [
    "2) пондеромоторная сила, приложенная к плохому проводнику"
   ]
  },
  {
   "cell_type": "code",
   "execution_count": null,
   "metadata": {},
   "outputs": [],
   "source": [
    "# bad conductor force\n",
    "# additional 1/2 arises as result of integration on period\n",
    "f_bad_conductor = abs((even_H_inner_vacuum_y (a)^2) / (2*8*pi))\n",
    "print(\"f_bad_conductor =\", f_bad_conductor)"
   ]
  },
  {
   "cell_type": "code",
   "execution_count": null,
   "metadata": {},
   "outputs": [],
   "source": [
    "f_bad_conductor_d  = f_bad_conductor .subs(digit_values).subs(B2_z == 1, kappa == even_kappa_sol, a == A)\n",
    "print(\"f_bad_conductor_d  =\", f_bad_conductor_d )"
   ]
  },
  {
   "cell_type": "code",
   "execution_count": null,
   "metadata": {},
   "outputs": [],
   "source": []
  },
  {
   "cell_type": "code",
   "execution_count": null,
   "metadata": {},
   "outputs": [],
   "source": [
    "# bad conductor force\n",
    "# additional 1/2 arises as result of integration on period\n",
    "p_bad_conductor = (1.0 - epsilon) *(even_E_inner_vacuum_z (a)^2) / (2*8*pi)\n",
    "print(\"p_bad_conductor =\", p_bad_conductor)"
   ]
  },
  {
   "cell_type": "code",
   "execution_count": null,
   "metadata": {},
   "outputs": [],
   "source": [
    "p_bad_conductor_d  = p_bad_conductor .subs(digit_values).subs(B2_z == 1, kappa == even_kappa_sol, a == A)\n",
    "print(\"p_bad_conductor_d  =\", p_bad_conductor_d )"
   ]
  },
  {
   "cell_type": "code",
   "execution_count": null,
   "metadata": {},
   "outputs": [],
   "source": []
  },
  {
   "cell_type": "code",
   "execution_count": null,
   "metadata": {
    "scrolled": true
   },
   "outputs": [],
   "source": [
    "# super conductor tension\n",
    "# additional 1/2 arises as result of integration on period\n",
    "t_super_conductor = (0.0 - 1/1.) *(even_E_inner_vacuum_x (0).imag()^2 + even_E_inner_vacuum_x(0).real()^2) / (2*8*pi)\n",
    "print(\"t_super_conductor =\", t_super_conductor)"
   ]
  },
  {
   "cell_type": "code",
   "execution_count": null,
   "metadata": {},
   "outputs": [],
   "source": [
    "t_super_conductor_d  = t_super_conductor .subs(digit_values).subs(B2_z == 1, kappa == even_kappa_sol, k_z == even_kz_sol, a == A)\n",
    "print(\"t_super_conductor_d  =\", t_super_conductor_d )"
   ]
  },
  {
   "cell_type": "code",
   "execution_count": null,
   "metadata": {},
   "outputs": [],
   "source": [
    "# bad conductor force\n",
    "# additional 1/2 arises as result of integration on period\n",
    "t_bad_conductor = (1.0/1.0 - 1/epsilon) *(even_E_inner_vacuum_x (a).imag()^2 + even_E_inner_vacuum_x(a).real()^2) / (2*8*pi)\n",
    "print(\"t_bad_conductor =\", t_bad_conductor)"
   ]
  },
  {
   "cell_type": "code",
   "execution_count": null,
   "metadata": {},
   "outputs": [],
   "source": [
    "t_bad_conductor_d  = t_bad_conductor .subs(digit_values).subs(B2_z == 1, kappa == even_kappa_sol, k_z == even_kz_sol, a == A)\n",
    "print(\"t_bad_conductor_d  =\", t_bad_conductor_d )"
   ]
  },
  {
   "cell_type": "code",
   "execution_count": null,
   "metadata": {},
   "outputs": [],
   "source": []
  },
  {
   "cell_type": "markdown",
   "metadata": {},
   "source": [
    "Результаты вычислений показывают, что тяга в волновом двигателе с внутренним расходом энергии Ф.Ф.Менде (MenDrive) ненулевая и равна"
   ]
  },
  {
   "cell_type": "code",
   "execution_count": null,
   "metadata": {},
   "outputs": [],
   "source": [
    "(f_superconductor + f_bad_conductor).full_simplify()"
   ]
  },
  {
   "cell_type": "code",
   "execution_count": null,
   "metadata": {},
   "outputs": [],
   "source": [
    "StreamBufferf_superconductor_d + f_bad_conductor_d + t_super_conductor_d + t_bad_conductor_d - p_bad_conductor_d"
   ]
  },
  {
   "cell_type": "code",
   "execution_count": null,
   "metadata": {},
   "outputs": [],
   "source": [
    "(f_superconductor_d + f_bad_conductor_d)"
   ]
  },
  {
   "cell_type": "code",
   "execution_count": null,
   "metadata": {},
   "outputs": [],
   "source": [
    "(t_super_conductor_d + t_bad_conductor_d)"
   ]
  },
  {
   "cell_type": "code",
   "execution_count": null,
   "metadata": {},
   "outputs": [],
   "source": [
    "-p_bad_conductor_d"
   ]
  },
  {
   "cell_type": "markdown",
   "metadata": {},
   "source": [
    "положительный знак соответствует направлению тяги в сторону увеличения значений x"
   ]
  },
  {
   "cell_type": "code",
   "execution_count": null,
   "metadata": {},
   "outputs": [],
   "source": []
  },
  {
   "cell_type": "code",
   "execution_count": null,
   "metadata": {},
   "outputs": [],
   "source": []
  },
  {
   "cell_type": "code",
   "execution_count": null,
   "metadata": {},
   "outputs": [],
   "source": []
  }
 ],
 "metadata": {
  "kernelspec": {
   "display_name": "SageMath 9.4.rc2",
   "language": "sage",
   "name": "sagemath"
  },
  "language_info": {
   "codemirror_mode": {
    "name": "ipython",
    "version": 3
   },
   "file_extension": ".py",
   "mimetype": "text/x-python",
   "name": "python",
   "nbconvert_exporter": "python",
   "pygments_lexer": "ipython3",
   "version": "3.9.5"
  }
 },
 "nbformat": 4,
 "nbformat_minor": 4
}
