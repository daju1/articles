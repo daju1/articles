{
 "cells": [
  {
   "cell_type": "markdown",
   "metadata": {},
   "source": []
  },
  {
   "cell_type": "markdown",
   "metadata": {},
   "source": [
    "\\section{Критика вывода Фейнмана потенциалов Лиенара Вихерта со стороны Меандра}\n",
    "\n",
    "\n",
    "Фейнман:\n",
    "Толщина каждого $\\Delta V_i$   $\\omega_i$, а объем  $\\omega a^2$.\n",
    "Поэтому каждый элемент объема, накладывающийся на распределение заряда, содержит в себе заряд $\\omega a^2\\rho$, где $\\rho$ - плотность заряда внутри кубика (мы считаем ее однородной).\n",
    "\n",
    "\n",
    "%[/quote] \n",
    "Цикра:\n",
    "Это верно, когда речь идет о РЕАЛЬНОМ распределении заряда, а не о видимом с запаздыванием. Для запаздывающих слоев такой же остается только площадь поперечного сечения $а^2$, но видимая ширина слоев и плотность изменяются (обратно пропорционально, в результате чего количество заряда в каждом слое не изменяется).\n",
    "\n",
    "%[quote]\n",
    "Фейнман:\n",
    "Когда расстояние от заряда до точки (1) велико, то можно все $r_i$ в знаменателях положить равным некоторому среднему значению, скажем, взятому с с учетом запаздывания положению r' центра кубика.\n",
    "\n",
    "\n",
    "%[/quote]\n",
    "Цикра:\n",
    "Это тоже пропущу без принципиальных возражений, хотя более правильным было бы учитывать запаздывающие расстояния до центра каждого слоя. Математически в этом нет никакой проблемы, если известен закон преобразования реального расстояния в запаздывающее, который подразумевается для запаздывающего расстояния до центра всего кубика.\n",
    "\n",
    "%[quote]\n",
    "Фейнман:\n",
    "Сумма (21.30) превращается в \n",
    "$$\\sum\\limits_{i=1}^N \\frac{\\rho \\omega a^2}{r'}$$\n",
    "$\\Delta V_N$ - тот последний элемент $\\Delta V_i$, который еще накладывается на распределение зарядов (см.фиг.21.7,д)\n",
    "Сумма тем самым равна\n",
    "$$N\\frac{\\rho \\omega a^2}{r'}=\\frac{\\rho a^3}{r'}\\left (\\frac{N\\omega}{a}\\right )$$.\n",
    "\n",
    "%[/quote]\n",
    "Цикра:\n",
    "Это тоже принимаю, с ОБЯЗАТЕЛЬНЫМ замечанием, что дробь в скобках тождественно равна =1.\n",
    "Число слоев N исходно определялось из длины $а$ и толщины слоя $\\omega$ (или наоборот - толщина слоя из длины а и количества слоев N), поэтому в ЭТИХ скобках ПРИНЦИПИАЛЬНО не может получиться ничего кроме 1.\n",
    "\n",
    "%[quote]\n",
    "\n",
    "Фейнман:\n",
    "Но $\\rho a^3$ - просто общий заряд, а  $N\\omega$ - длина b, показанная на фиг.21.7,д.\n",
    "Получается\n",
    "$$\\varphi\\frac{q}{4\\pi\\varepsilon_0 r'}\\left( \\frac{b}{a}\\right )$$  .   (21.31)\n",
    "\n",
    "% [/quote]\n",
    "Цикра:\n",
    "НЕТ, НЕ ПОЛУЧАЕТСЯ !\n",
    "Во-первых, потому что $N\\omega$ это реальная длина грани кубика, а видимо-запаздывающая длина b получится с видимо-запаздывающей шириной слоев (при одинаковом их количестве)\n",
    "\n",
    " $N\\omega'=b$.\n",
    "\n",
    "Если же кто-то настаивает на одинаковой ширине слоев (например измеряемой по неподвижным маркерам), то должно быть ДРУГОЕ их количество N', с тем же соотношением\n",
    "\n",
    "$N'\\omega=b$.\n",
    "\n",
    "Во-вторых, применение этой видимо-запаздывающей длины b  ТРЕБУЕТ вернуться  назад и применить во всем предыдущем суммо-интегрировании и видимо-запаздывающую ширину слоев и видимо-запаздывающую плотность, то есть выражения\n",
    "$$\\sum\\limits_{i=1}^N \\frac{\\rho' \\omega' a^2}{r'}$$,\n",
    "\n",
    "$$N\\frac{\\rho' \\omega' a^2}{r'}=\\frac{\\rho' a^3}{r'}\\left (\\frac{N\\omega'}{a}\\right )$$.\n",
    "\n",
    "Именно теперь выражение в скобках равно коэффициенту пропорциональности (b/a) преобразования реального объема куба в видимо-запаздывающий объем, который будучи помноженным на видимо-запаздывающую плотность (определяемую в обратной пропорции), дает реальную величину заряда, в итоге получается вот ЭТО, без каких-то лиенар-вихертоватостей:\n",
    "\n",
    "$$\\varphi\\frac{q}{4\\pi\\varepsilon_0 r'}$$  .   (21.31')\n",
    "\n",
    "Это доказывает, что в \"выводе\" Фейнманом выражения потенциалов Лиенара-Вихерта содержится показанная мной ошибка (в самом конце), и еще раз подтверждает, что знаменитый знаменатель в выражении потенциалов Лиенара-Вихерта не имеет физического смысла (в рамках теорий, использующих принцип независимости скорости возмущения (света) от движения источника).\n",
    "\n",
    "%[quote author=30383C33392F5D0 link=1607492586/171#171 date=1610118144]\n",
    "Цикра:\n",
    "Для того, чтобы покончить с разбором полетов творческой мысли Фейнмана, обращу внимание и на последующий его вираж:\n",
    "\n",
    "%[quote]\n",
    "Фейнман:\n",
    "Наконец, поскольку \"размер\" а заряда не вошел в окончательный итог,то тот результат получится, если результат стянется до любых размеров, вплоть до точки.\n",
    "\n",
    "% [/quote]\n",
    "Цикра:\n",
    "Фейнман здесь еще раз мягко говоря слукавил, потому что размер \"а\" ДОЛЖЕН БЫЛ войти в окончательный итог - в неявном виде при интегрировании плотности $\\rho$ в общую величину заряда (а в случае применения видимого размера b интегрировать нужно было видимую плотность $\\rho'$).\n",
    "Фокусы с плотностью Фейнман мог показывать ТОЛЬКО с распределенным зарядом, а на точечный заряд они НИКАК не влияют, потому что у него НЕТ размеров, объема и плотности - НЕЧЕМУ преобразовываться, кроме запаздывающего расстояния."
   ]
  },
  {
   "cell_type": "markdown",
   "metadata": {},
   "source": [
    "\\section{Что я об этом думаю}\n",
    "\n",
    "Прежде всего Фейнман исходит из уравнения, \n",
    "\n",
    "$$\\varphi(1,t) = \\frac{1}{4\\pi\\epsilon_0}\\int\\frac{\\rho(2,t-r_{12}/c)}{r_{12}}dV_{2}$$\n",
    "\n",
    "которое в свою очередь является решением волнового уравнения Даламбера.\n",
    "\n",
    "Изобретение Меадра под названием \"видимая плотность\" заряда сюда не клеится. Плотность не видимая, а настоящая но только лишь взятая  в запаздывающий момент времени.\n",
    "\n",
    "Думаю, что и Фейнман бы не согласился с утверждением Меандра о том, что \"видимая плотность\" заряда более рыхлая чем настоящая плотность заряда. Почему я так думаю, потому что Фейнман пишет:\n",
    "\n",
    "Появился поправочный множитель. Он появился потому что в то время как наш интеграл \"проносится над зарядом\", сам заряд движется. Когда заряд движется к точке (1), его вклад в интеграл увеличивается в $b/a$ раз.\n",
    "\n",
    "То есть, поскольку вклад заряда в интеграл увеличивается благодаря его движению, \"видимая плотность заряда\" по мысли Фейнмана не уменьшается, а остаётся прежней. \n",
    "\n",
    "Я со своей стороны тоже позволю себе не согласиться с предположением Меандра о уменьшении видимой плотности заряда. \n",
    "\n",
    "То что увеличился видимый объём заряда не означает уменьшения видимой плотности заряда. Плотность заряда не изменяется и объём заряда не изменяется (мы пока не рассматриваем лоренцево сокращение). То что Фейнман пытался показать увеличением видимой длины заряда на мой взгляд связано с спрессовываением поля перед зарядом: не плотность заряда уменьшается вследствие его движения, а плотность поля скалярного потенциала увеличивается перед зарядом (и уменьшается за ним)\n",
    "\n",
    "%(Более того, если учесть Лоренцево сокращение размеров заряда то плотность заряда даже увеличится, но пока что мы эту модель не рассматриваем.)\n",
    "\n"
   ]
  },
  {
   "cell_type": "markdown",
   "metadata": {},
   "source": [
    "\\section{Как интеграл \"проносится над зарядом\"}\n",
    "%\\section{Но я все же попробовал Фейнмана подкорректировать}\n",
    "\n",
    "Фейнман:\n",
    "Когда расстояние от заряда до точки (1) велико, то можно все $r_i$ в знаменателях положить равным некоторому среднему значению, скажем, взятому с с учетом запаздывания положению r' центра кубика. Сумма (21.30) превращается в \n",
    "$$\\sum\\limits_{i=1}^N \\frac{\\rho \\omega a^2}{r'}$$\n",
    "$\\Delta V_N$ - тот последний элемент $\\Delta V_i$, который еще накладывается на распределение зарядов (см.фиг.21.7,д)\n",
    "Сумма тем самым равна\n",
    "$$N\\frac{\\rho \\omega a^2}{r'}=\\frac{\\rho a^3}{r'}\\left (\\frac{N\\omega}{a}\\right )$$.\n",
    "\n",
    "Мне все же интересно появится ли значимая поправка к интегралу, если всё же не ограничиваться случаем, \"Когда расстояние от заряда до точки (1) велико\". Интерес этот связан с тем, что в задаче о вычисления силы самодействия заряда на самого себя традиционно используются потенциалы ЛВ, но ведь в этой задаче нельзя сказать, что расстояние от заряда то точки наблюдения велико. Здесь точка наблюдения находится внутри самого заряда.\n",
    "\n",
    "Поэтому я перепишу сумму в следующем виде\n",
    "\n",
    "$$\\sum\\limits_{i=-M}^M \\frac{\\rho \\omega' a^2}{r'_{i}(t'_{i})}=\\rho  a^2\\sum\\limits_{i=-M}^M \\frac{\\omega'(t'_{i})}{r'_{i}(t'_{i})}= \\frac{q}{a}\\sum\\limits_{i=-M}^M \\frac{\\omega'(t'_{i})}{r'_{i}(t'_{i})}$$\n",
    "\n",
    "где $N=2M+1$, таким образом $i=0$ соответствует центральной части заряда. \n",
    "\n",
    "По началу я хотел позаимствовать у Меандра формулу взаимосвязи видимой ширины полоски заряда  $\\omega'$ с действительной шириной этой полоски  $\\omega$\n",
    "\n",
    "$$\\omega' =  \\omega \\frac{b}{a}$$\n",
    "\n",
    "Но потом понял, что видимая ширина полоски в том случае если заряд движется с ускорением (а именно этот случай важен в связи с решением задачи о самодействии заряда самого на себя) видимая ширина полоски будет зависеть от скорости заряда в запаздывающий момент, ведь заряд-то ускоряется. \n",
    "\n",
    "Фейнман: А чему же равно $b$? Это длина куба зарядов, увеличенное на расстояние, пройденное зарядом от $t_1 = (t-r_1/c)$ до $t_N = (t-r_N/c)$. Это расстояние пройденное зарядом за время \n",
    "\n",
    "$$\\Delta t = t_N - t_1 = \\frac{r_1-r_N}{c}= \\frac{b}{c}$$.\n",
    "\n",
    "А поскольку скорость заряда равна $v$, то пройденное расстояние равно $v \\Delta t = v b / c$. Но длина $b$ - само это расстояние плюс $a$:\n",
    "\n",
    "$$b = a + \\frac{v}{c}b$$.\n",
    "\n",
    "Отсюда \n",
    "\n",
    "$$b = \\frac{a}{1- (v/c)}$$.\n",
    "\n",
    "Чуть перефразирую Фейнмана: А чему же равно $\\omega'$? Это длина полоски в кубе зарядов, увеличенная на расстояние, пройденное зарядом от $t_{i} = (t-r_{i}/c)$ до $t_{i+1} = (t-r_{i+1}/c)$. Это расстояние пройденное зарядом за время \n",
    "\n",
    "$$\\Delta t = t_{i+1} - t_{i} = \\frac{r_{i+1}-r_{i}}{c}= \\frac{\\omega'}{c}$$.\n",
    "\n",
    "А поскольку скорость заряда равна $v$, то пройденное расстояние равно $v \\Delta t = v \\omega' / c$. Но длина $\\omega'$ - само это расстояние плюс $\\omega$:\n",
    "\n",
    "$$\\omega' = \\omega + \\frac{v}{c}\\omega'$$.\n",
    "\n",
    "Отсюда \n",
    "\n",
    "$$\\omega' = \\frac{\\omega}{1- (v/c)}$$.\n",
    "\n",
    "Отмечу здесь, что под скоростью заряда необходимо подразумевать скорость полоски в запаздывающий момент времени\n",
    "\n",
    "Поэтому\n",
    "\n",
    "$$ \\frac{q}{a}\\sum\\limits_{i=-M}^M \\frac{\\omega'(t'_{i})}{r'_{i}(t'_{i})}= \\frac{q}{a}\\sum\\limits_{i=-M}^M \\frac{1}{r'_{i}(t'_{i})} \\frac{\\omega}{1- (v'_{i}(t'_{i})/c)}$$\n",
    "\n",
    "Далее запаздывающее расстояние от точки наблюдения к $i$-той части заряда\n",
    "\n",
    "$r'_{i}\\left(t'_{i}\\right)=x_a-x_i\\left(t'_{i}\\right)=x_a-\\left(x_q\\left(t'_{i}\\right)+i \\omega\\right)=r_q\\left(t'_{i}\\right)-i \\omega=c\\left(t - t'_{i}\\right)$\n",
    "\n",
    "здесь $x_q\\left(t'_{i}\\right)$ коондината центральной части заряда в момент $t'_{i}$.\n",
    "\n",
    "\n",
    "Теперь сумму\n",
    "\n",
    "$$\\frac{q}{a}\\sum\\limits_{i=-M}^M \\frac{\\omega }{r'_{q}(t'_{i})-i \\omega}\\frac{1}{1- (v'_{i}(t'_{i})/c)}$$\n",
    "\n",
    "% (При желании уточнить данное решение учётом лоренцева сокращения величину $\\omega$ нужно будет снабдить фактором Лоренца)\n",
    "\n",
    "можно переписать в виде интеграла, который собственно и \"проносится над зарядом\"\n",
    "\n",
    "$$\\frac{q}{a}\\int_{-a/2}^{a/2}\\frac{1}{1- (v'_{q}(t'(l))/c)} \\frac{dl }{r'_{q}(t'(l))-l}$$\n",
    "\n",
    "При написании этой формулы я неявно подразумевал, что в процессе ускорения заряд не деформируется, поэтому скорость полоски в запаздывающий момент времени $v'_{i}(t'_{i})$ равна скорости заряда в тот же самый запаздывающий момент  $v'_{q}(t'(l))$.\n",
    "\n",
    "В приближении Фейнмана, когда расстояние между зарядом наблюдателем велико по сравнению с размерами заряда\n",
    "\n",
    "$$\\int_{-a/2}^{a/2}\\frac{1}{1- (v'_{q}(t'(l))/c)} \\frac{dl }{r'_{q}(t'(l))-l} = \\frac{1}{1- (v'_{q}(t')/c)}\\frac{a}{r'_{q}(t')}$$\n",
    "\n",
    "и тогда получается формула Лиенара Вихерта, но я хочу посмотреть изменится ли формула, если расстояние от заряда к наблюдателю сравнимо с размерами самого заряда, что собственно и происходит при решении задачи о самодействии поля ускоряемого заряда на самого себя.\n",
    "\n",
    "Поэтому мне потребуется решить уравнение\n",
    "$$r'_{q}(t'(l))-l= c t - c t'(l)$$\n",
    "\n",
    "относительно $t'(l)$. А именно мне нужно найти зависимость запаздывающего момента от линейной координаты части заряда $l$ над которой \"проносится\" в запаздывающий момент  $t'_{i}$ интеграл. $l$ равно нулю в центре заряда и изменяется от $-a/2$ до ${a/2}$\n",
    "\n",
    "$$x_a-x_q\\left(t'(l)\\right)-l= c t - c t'(l)$$\n",
    "\n",
    "здесь $x_q\\left(t'(l)\\right)$ это координата центра заряда в запаздывающий момент $t'(l)$, зависящий от точки заряда, над которой проносится интеграл.\n",
    "\n",
    "$$ c t'_{i}-x_q\\left(t'(l)\\right)= c t - x_a+l$$\n",
    "\n",
    "раскрываю зависимость координаты центра заряда от времени, задавая начальные координату и скорость центра заряда в момент 0 и его ускорение\n",
    "\n",
    "$$ c t'(l)-x_{q}(0) - v_q t'(l) - a_q {t'(l)}^{2} / 2 = c t - x_a+l$$\n",
    "\n",
    "$$ c t'(l) - v_q t'(l) - a_q {t'(l)}^{2} / 2 = c t - \\left\\{x_a - (x_{q}(0) + l)\\right\\}$$\n",
    "\n",
    "Пусть скорость заряда в момент ноль $v_q$ равна нулю. Пусть также в момент ноль центр заряда $x_{q}(0)$ будет совмещён с началом координат. Пусть также расчёт поля мы будем вести для момента текущего момента $t = 0$\n",
    "\n",
    "$$ c t'(l) - a_q {t'(l)}^{2} / 2 = - \\left\\{x_a -  l\\right\\}$$\n",
    "\n",
    "составляем квадратное уравнение\n",
    "\n",
    "$$ a_q {t'}^{2} / 2 -c t'  - \\left\\{x_a -  l\\right\\} = 0$$\n",
    "\n",
    "дискриминант\n",
    "\n",
    "$$ D = c^2 + 2  a_q \\left\\{x_a -  l\\right\\}$$\n",
    "\n",
    "решение\n",
    "\n",
    "\n",
    "$$t' = \\frac{c -  \\sqrt{c^2 + 2  a_q \\left\\{x_a -  l\\right\\}}}{a_q}$$\n"
   ]
  },
  {
   "cell_type": "code",
   "execution_count": 1,
   "metadata": {},
   "outputs": [],
   "source": [
    "#Теперь сумму можно переписать в виде интеграла, который собственно и \"проносится над зарядом\"\n",
    "\n",
    "q,b,a,l,c,t=var(\"q,b,a,l,c,t\")\n",
    "rzap_q = function(\"r'_{q}\")\n",
    "vzap_q = function(\"v'_{q}\")\n",
    "tzap = function(\"t'\")\n",
    "x_a = var(\"x_a\")\n",
    "\n",
    "assume(c,\"real\")\n",
    "assume(a,\"real\")\n",
    "assume(x_a,\"real\")\n",
    "\n",
    "lw_integrand = 1/(1-vzap_q(tzap(l))/c)*1/(rzap_q(tzap(l))-l)\n",
    "\n",
    "lw_integral = q/a*integrate(lw_integrand, l, -a/2,a/2)"
   ]
  },
  {
   "cell_type": "code",
   "execution_count": 2,
   "metadata": {},
   "outputs": [
    {
     "data": {
      "text/plain": [
       "-c*q*integrate(1/(c*l - c*r'_{q}(t'(l)) - l*v'_{q}(t'(l)) + r'_{q}(t'(l))*v'_{q}(t'(l))), l, -1/2*a, 1/2*a)/a"
      ]
     },
     "execution_count": 2,
     "metadata": {},
     "output_type": "execute_result"
    }
   ],
   "source": [
    "lw_integral"
   ]
  },
  {
   "cell_type": "code",
   "execution_count": 3,
   "metadata": {},
   "outputs": [
    {
     "data": {
      "text/latex": [
       "$$-\\frac{c q \\int_{-\\frac{1}{2} \\, a}^{\\frac{1}{2} \\, a} \\frac{1}{{\\left(c - {\\rm v'}_{{\\rm {q}}}\\left({\\rm t'}\\left(l\\right)\\right)\\right)} {\\left(l - {\\rm r'}_{{\\rm {q}}}\\left({\\rm t'}\\left(l\\right)\\right)\\right)}}\\,{d l}}{a}$$"
      ],
      "text/plain": [
       "<IPython.core.display.Math object>"
      ]
     },
     "metadata": {},
     "output_type": "display_data"
    }
   ],
   "source": [
    "from IPython.display import display, Math, Latex\n",
    "display(Math(latex(lw_integral)))"
   ]
  },
  {
   "cell_type": "code",
   "execution_count": 4,
   "metadata": {},
   "outputs": [
    {
     "data": {
      "text/latex": [
       "$$\\frac{1}{{\\left(l - {\\rm r'}_{{\\rm {q}}}\\left({\\rm t'}\\left(l\\right)\\right)\\right)} {\\left(\\frac{{\\rm v'}_{{\\rm {q}}}\\left({\\rm t'}\\left(l\\right)\\right)}{c} - 1\\right)}}$$"
      ],
      "text/plain": [
       "<IPython.core.display.Math object>"
      ]
     },
     "metadata": {},
     "output_type": "display_data"
    }
   ],
   "source": [
    "display(Math(latex(lw_integrand)))"
   ]
  },
  {
   "cell_type": "code",
   "execution_count": 5,
   "metadata": {},
   "outputs": [],
   "source": [
    "# я хочу посмотреть изменится ли формула, если расстояние от заряда к наблюдателю сравнимо с размерами самого заряда, \n",
    "# что собственно и происходит при решении задачи о самодействии поля ускоряемого заряда на самого себя.\n",
    "# Поэтому мне потребуется решить уравнение\n",
    "\n",
    "tzap_eq_1 = rzap_q(tzap(l))-l == c * t - c * tzap(l)"
   ]
  },
  {
   "cell_type": "code",
   "execution_count": 6,
   "metadata": {},
   "outputs": [
    {
     "data": {
      "text/plain": [
       "-l + r'_{q}(t'(l)) == c*t - c*t'(l)"
      ]
     },
     "execution_count": 6,
     "metadata": {},
     "output_type": "execute_result"
    }
   ],
   "source": [
    "tzap_eq_1"
   ]
  },
  {
   "cell_type": "code",
   "execution_count": 7,
   "metadata": {},
   "outputs": [
    {
     "data": {
      "text/latex": [
       "$$-l + {\\rm r'}_{{\\rm {q}}}\\left({\\rm t'}\\left(l\\right)\\right) = c t - c {\\rm t'}\\left(l\\right)$$"
      ],
      "text/plain": [
       "<IPython.core.display.Math object>"
      ]
     },
     "metadata": {},
     "output_type": "display_data"
    }
   ],
   "source": [
    "display(Math(latex(tzap_eq_1)))"
   ]
  },
  {
   "cell_type": "code",
   "execution_count": 8,
   "metadata": {},
   "outputs": [
    {
     "data": {
      "text/plain": [
       "x_a - x_{q}(t'(l))"
      ]
     },
     "execution_count": 8,
     "metadata": {},
     "output_type": "execute_result"
    }
   ],
   "source": [
    "x_q = function(\"x_{q}\")\n",
    "x_a-x_q(tzap(l))"
   ]
  },
  {
   "cell_type": "code",
   "execution_count": 9,
   "metadata": {},
   "outputs": [],
   "source": [
    "tzap_eq_2 = tzap_eq_1.subs(rzap_q(tzap(l)) == x_a-x_q(tzap(l)))"
   ]
  },
  {
   "cell_type": "code",
   "execution_count": 10,
   "metadata": {},
   "outputs": [
    {
     "data": {
      "text/plain": [
       "-l + x_a - x_{q}(t'(l)) == c*t - c*t'(l)"
      ]
     },
     "execution_count": 10,
     "metadata": {},
     "output_type": "execute_result"
    }
   ],
   "source": [
    "tzap_eq_2"
   ]
  },
  {
   "cell_type": "code",
   "execution_count": 11,
   "metadata": {},
   "outputs": [
    {
     "data": {
      "text/latex": [
       "$$-l + x_{a} - x_{{\\rm {q}}}\\left({\\rm t'}\\left(l\\right)\\right) = c t - c {\\rm t'}\\left(l\\right)$$"
      ],
      "text/plain": [
       "<IPython.core.display.Math object>"
      ]
     },
     "metadata": {},
     "output_type": "display_data"
    }
   ],
   "source": [
    "display(Math(latex(tzap_eq_2)))"
   ]
  },
  {
   "cell_type": "code",
   "execution_count": 12,
   "metadata": {},
   "outputs": [],
   "source": [
    "# раскрываю зависимость координаты центра заряда от времени, \n",
    "# задавая начальные координату и скорость центра заряда в момент 0 и его ускорение\n",
    "x_q0 = var(\"x_q0\")\n",
    "v_q, a_q = var(\"v_q, a_q\")\n",
    "tzap_eq_3 = tzap_eq_2.subs(x_q(tzap(l)) == x_q0 + v_q * tzap(l) + a_q * tzap(l)^2 / 2)"
   ]
  },
  {
   "cell_type": "code",
   "execution_count": 13,
   "metadata": {},
   "outputs": [
    {
     "data": {
      "text/plain": [
       "-1/2*a_q*t'(l)^2 - v_q*t'(l) - l + x_a - x_q0 == c*t - c*t'(l)"
      ]
     },
     "execution_count": 13,
     "metadata": {},
     "output_type": "execute_result"
    }
   ],
   "source": [
    "tzap_eq_3"
   ]
  },
  {
   "cell_type": "code",
   "execution_count": 14,
   "metadata": {},
   "outputs": [
    {
     "data": {
      "text/latex": [
       "$$-\\frac{1}{2} \\, a_{q} {\\rm t'}\\left(l\\right)^{2} - v_{q} {\\rm t'}\\left(l\\right) - l + x_{a} - x_{q_{0}} = c t - c {\\rm t'}\\left(l\\right)$$"
      ],
      "text/plain": [
       "<IPython.core.display.Math object>"
      ]
     },
     "metadata": {},
     "output_type": "display_data"
    }
   ],
   "source": [
    "display(Math(latex(tzap_eq_3)))"
   ]
  },
  {
   "cell_type": "code",
   "execution_count": 15,
   "metadata": {},
   "outputs": [],
   "source": [
    "# Пусть скорость заряда в момент ноль $v_q$ равна нулю. \n",
    "# Пусть также в момент ноль центр заряда $x_{q}(0)$ будет совмещён с началом координат. \n",
    "tzap_eq_4 = tzap_eq_3.subs(v_q == 0, x_q0 == 0)"
   ]
  },
  {
   "cell_type": "code",
   "execution_count": 16,
   "metadata": {},
   "outputs": [
    {
     "data": {
      "text/plain": [
       "-1/2*a_q*t'(l)^2 - l + x_a == c*t - c*t'(l)"
      ]
     },
     "execution_count": 16,
     "metadata": {},
     "output_type": "execute_result"
    }
   ],
   "source": [
    "tzap_eq_4"
   ]
  },
  {
   "cell_type": "code",
   "execution_count": 17,
   "metadata": {},
   "outputs": [
    {
     "data": {
      "text/latex": [
       "$$-\\frac{1}{2} \\, a_{q} {\\rm t'}\\left(l\\right)^{2} - l + x_{a} = c t - c {\\rm t'}\\left(l\\right)$$"
      ],
      "text/plain": [
       "<IPython.core.display.Math object>"
      ]
     },
     "metadata": {},
     "output_type": "display_data"
    }
   ],
   "source": [
    "display(Math(latex(tzap_eq_4)))"
   ]
  },
  {
   "cell_type": "code",
   "execution_count": 18,
   "metadata": {},
   "outputs": [],
   "source": [
    "# Пусть также расчёт поля мы будем вести для момента текущего момента $t = 0$\n",
    "#tzap_eq_5 = -tzap_eq_4.subs(t == 0)"
   ]
  },
  {
   "cell_type": "code",
   "execution_count": 19,
   "metadata": {},
   "outputs": [
    {
     "data": {
      "text/plain": [
       "-1/2*a_q*t'(l)^2 - l + x_a == c*t - c*t'(l)"
      ]
     },
     "execution_count": 19,
     "metadata": {},
     "output_type": "execute_result"
    }
   ],
   "source": [
    "# составляем квадратное уравнение\n",
    "tzap_eq_4"
   ]
  },
  {
   "cell_type": "code",
   "execution_count": 20,
   "metadata": {},
   "outputs": [
    {
     "data": {
      "text/latex": [
       "$$-\\frac{1}{2} \\, a_{q} {\\rm t'}\\left(l\\right)^{2} - l + x_{a} = c t - c {\\rm t'}\\left(l\\right)$$"
      ],
      "text/plain": [
       "<IPython.core.display.Math object>"
      ]
     },
     "metadata": {},
     "output_type": "display_data"
    }
   ],
   "source": [
    "display(Math(latex(tzap_eq_4)))"
   ]
  },
  {
   "cell_type": "code",
   "execution_count": 21,
   "metadata": {},
   "outputs": [],
   "source": [
    "# решение\n",
    "t_zap = var(\"t_zap\")\n",
    "sol = tzap_eq_4.subs(tzap(l) == t_zap).solve(t_zap)"
   ]
  },
  {
   "cell_type": "code",
   "execution_count": 22,
   "metadata": {},
   "outputs": [
    {
     "data": {
      "text/plain": [
       "[t_zap == (c - sqrt(-2*a_q*c*t + c^2 - 2*a_q*l + 2*a_q*x_a))/a_q, t_zap == (c + sqrt(-2*a_q*c*t + c^2 - 2*a_q*l + 2*a_q*x_a))/a_q]"
      ]
     },
     "execution_count": 22,
     "metadata": {},
     "output_type": "execute_result"
    }
   ],
   "source": [
    "sol"
   ]
  },
  {
   "cell_type": "code",
   "execution_count": 23,
   "metadata": {},
   "outputs": [],
   "source": [
    "t_zap_sol = sol[0]"
   ]
  },
  {
   "cell_type": "code",
   "execution_count": 24,
   "metadata": {},
   "outputs": [
    {
     "data": {
      "text/plain": [
       "t_zap == (c - sqrt(-2*a_q*c*t + c^2 - 2*a_q*l + 2*a_q*x_a))/a_q"
      ]
     },
     "execution_count": 24,
     "metadata": {},
     "output_type": "execute_result"
    }
   ],
   "source": [
    "t_zap_sol"
   ]
  },
  {
   "cell_type": "code",
   "execution_count": 25,
   "metadata": {},
   "outputs": [
    {
     "data": {
      "text/plain": [
       "t_{\\mathit{zap}} = \\frac{c - \\sqrt{-2 \\, a_{q} c t + c^{2} - 2 \\, a_{q} l + 2 \\, a_{q} x_{a}}}{a_{q}}"
      ]
     },
     "execution_count": 25,
     "metadata": {},
     "output_type": "execute_result"
    }
   ],
   "source": [
    "latex(t_zap_sol)"
   ]
  },
  {
   "cell_type": "code",
   "execution_count": 26,
   "metadata": {},
   "outputs": [
    {
     "data": {
      "text/latex": [
       "$$t_{\\mathit{zap}} = \\frac{c - \\sqrt{-2 \\, a_{q} c t + c^{2} - 2 \\, a_{q} l + 2 \\, a_{q} x_{a}}}{a_{q}}$$"
      ],
      "text/plain": [
       "<IPython.core.display.Math object>"
      ]
     },
     "metadata": {},
     "output_type": "display_data"
    }
   ],
   "source": [
    "display(Math(latex(t_zap_sol)))"
   ]
  },
  {
   "cell_type": "code",
   "execution_count": 27,
   "metadata": {},
   "outputs": [
    {
     "data": {
      "text/latex": [
       "$$\\frac{1}{{\\left(l - {\\rm r'}_{{\\rm {q}}}\\left({\\rm t'}\\left(l\\right)\\right)\\right)} {\\left(\\frac{{\\rm v'}_{{\\rm {q}}}\\left({\\rm t'}\\left(l\\right)\\right)}{c} - 1\\right)}}$$"
      ],
      "text/plain": [
       "<IPython.core.display.Math object>"
      ]
     },
     "metadata": {},
     "output_type": "display_data"
    }
   ],
   "source": [
    "display(Math(latex(lw_integrand)))"
   ]
  },
  {
   "cell_type": "code",
   "execution_count": 28,
   "metadata": {},
   "outputs": [
    {
     "data": {
      "text/latex": [
       "$$-\\frac{c q \\int_{-\\frac{1}{2} \\, a}^{\\frac{1}{2} \\, a} \\frac{1}{{\\left(c - {\\rm v'}_{{\\rm {q}}}\\left({\\rm t'}\\left(l\\right)\\right)\\right)} {\\left(l - {\\rm r'}_{{\\rm {q}}}\\left({\\rm t'}\\left(l\\right)\\right)\\right)}}\\,{d l}}{a}$$"
      ],
      "text/plain": [
       "<IPython.core.display.Math object>"
      ]
     },
     "metadata": {},
     "output_type": "display_data"
    }
   ],
   "source": [
    "display(Math(latex(lw_integral)))"
   ]
  },
  {
   "cell_type": "code",
   "execution_count": 29,
   "metadata": {},
   "outputs": [],
   "source": [
    "lw_integrand_subs = lw_integrand.subs(rzap_q(tzap(l)) == x_a-x_q(tzap(l)))"
   ]
  },
  {
   "cell_type": "code",
   "execution_count": 30,
   "metadata": {},
   "outputs": [],
   "source": [
    "lw_integral_subs = lw_integral.subs(rzap_q(tzap(l)) == x_a-x_q(tzap(l)))"
   ]
  },
  {
   "cell_type": "code",
   "execution_count": 31,
   "metadata": {},
   "outputs": [
    {
     "data": {
      "text/latex": [
       "$$\\frac{1}{{\\left(l - x_{a} + x_{{\\rm {q}}}\\left({\\rm t'}\\left(l\\right)\\right)\\right)} {\\left(\\frac{{\\rm v'}_{{\\rm {q}}}\\left({\\rm t'}\\left(l\\right)\\right)}{c} - 1\\right)}}$$"
      ],
      "text/plain": [
       "<IPython.core.display.Math object>"
      ]
     },
     "metadata": {},
     "output_type": "display_data"
    }
   ],
   "source": [
    "display(Math(latex(lw_integrand_subs)))"
   ]
  },
  {
   "cell_type": "code",
   "execution_count": 32,
   "metadata": {},
   "outputs": [
    {
     "data": {
      "text/latex": [
       "$$-\\frac{c q \\int_{-\\frac{1}{2} \\, a}^{\\frac{1}{2} \\, a} \\frac{1}{{\\left(c - {\\rm v'}_{{\\rm {q}}}\\left({\\rm t'}\\left(l\\right)\\right)\\right)} {\\left(l - x_{a} + x_{{\\rm {q}}}\\left({\\rm t'}\\left(l\\right)\\right)\\right)}}\\,{d l}}{a}$$"
      ],
      "text/plain": [
       "<IPython.core.display.Math object>"
      ]
     },
     "metadata": {},
     "output_type": "display_data"
    }
   ],
   "source": [
    "display(Math(latex(lw_integral_subs)))"
   ]
  },
  {
   "cell_type": "code",
   "execution_count": 33,
   "metadata": {},
   "outputs": [],
   "source": [
    "# раскрываю зависимость координаты центра заряда от времени, \n",
    "# задавая начальные координату и скорость центра заряда в момент 0 и его ускорение\n",
    "lw_integrand_subs_1 = lw_integrand_subs.subs(x_q(tzap(l)) == x_q0 + v_q * tzap(l) + a_q * tzap(l)^2 / 2) \\\n",
    "                                       .subs(vzap_q(tzap(l)) == v_q + a_q * tzap(l))\n",
    "#lw_integral_subs_1 = lw_integral_subs.subs(x_q(tzap(l)) == x_q0 + v_q * tzap(l) + a_q * tzap(l)^2 / 2) \\\n",
    "#                                     .subs(vzap_q(tzap(l)) == v_q + a_q * tzap(l))"
   ]
  },
  {
   "cell_type": "code",
   "execution_count": 34,
   "metadata": {},
   "outputs": [
    {
     "data": {
      "text/latex": [
       "$$\\frac{2}{{\\left(a_{q} {\\rm t'}\\left(l\\right)^{2} + 2 \\, v_{q} {\\rm t'}\\left(l\\right) + 2 \\, l - 2 \\, x_{a} + 2 \\, x_{q_{0}}\\right)} {\\left(\\frac{a_{q} {\\rm t'}\\left(l\\right) + v_{q}}{c} - 1\\right)}}$$"
      ],
      "text/plain": [
       "<IPython.core.display.Math object>"
      ]
     },
     "metadata": {},
     "output_type": "display_data"
    }
   ],
   "source": [
    "display(Math(latex(lw_integrand_subs_1)))"
   ]
  },
  {
   "cell_type": "code",
   "execution_count": 35,
   "metadata": {},
   "outputs": [],
   "source": [
    "# Пусть скорость заряда в момент ноль $v_q$ равна нулю. \n",
    "# Пусть также в момент ноль центр заряда $x_{q}(0)$ будет совмещён с началом координат. \n",
    "lw_integrand_subs_2 = lw_integrand_subs_1.subs(v_q == 0, x_q0 == 0)"
   ]
  },
  {
   "cell_type": "code",
   "execution_count": 36,
   "metadata": {},
   "outputs": [
    {
     "data": {
      "text/latex": [
       "$$\\frac{2}{{\\left(a_{q} {\\rm t'}\\left(l\\right)^{2} + 2 \\, l - 2 \\, x_{a}\\right)} {\\left(\\frac{a_{q} {\\rm t'}\\left(l\\right)}{c} - 1\\right)}}$$"
      ],
      "text/plain": [
       "<IPython.core.display.Math object>"
      ]
     },
     "metadata": {},
     "output_type": "display_data"
    }
   ],
   "source": [
    "display(Math(latex(lw_integrand_subs_2)))"
   ]
  },
  {
   "cell_type": "code",
   "execution_count": 37,
   "metadata": {},
   "outputs": [],
   "source": [
    "lw_integrand_subs_3 = lw_integrand_subs_2.subs(tzap(l) == t_zap)"
   ]
  },
  {
   "cell_type": "code",
   "execution_count": 38,
   "metadata": {},
   "outputs": [
    {
     "data": {
      "text/latex": [
       "$$\\frac{2}{{\\left(a_{q} t_{\\mathit{zap}}^{2} + 2 \\, l - 2 \\, x_{a}\\right)} {\\left(\\frac{a_{q} t_{\\mathit{zap}}}{c} - 1\\right)}}$$"
      ],
      "text/plain": [
       "<IPython.core.display.Math object>"
      ]
     },
     "metadata": {},
     "output_type": "display_data"
    }
   ],
   "source": [
    "display(Math(latex(lw_integrand_subs_3)))"
   ]
  },
  {
   "cell_type": "code",
   "execution_count": 39,
   "metadata": {},
   "outputs": [],
   "source": [
    "lw_integrand_subs_sol = lw_integrand_subs_3.subs(t_zap == t_zap_sol.rhs())"
   ]
  },
  {
   "cell_type": "code",
   "execution_count": 40,
   "metadata": {},
   "outputs": [
    {
     "data": {
      "text/plain": [
       "\\frac{2}{{\\left(\\frac{{\\left(c - \\sqrt{-2 \\, a_{q} c t + c^{2} - 2 \\, a_{q} l + 2 \\, a_{q} x_{a}}\\right)}^{2}}{a_{q}} + 2 \\, l - 2 \\, x_{a}\\right)} {\\left(\\frac{c - \\sqrt{-2 \\, a_{q} c t + c^{2} - 2 \\, a_{q} l + 2 \\, a_{q} x_{a}}}{c} - 1\\right)}}"
      ]
     },
     "execution_count": 40,
     "metadata": {},
     "output_type": "execute_result"
    }
   ],
   "source": [
    "latex(lw_integrand_subs_sol)"
   ]
  },
  {
   "cell_type": "code",
   "execution_count": 41,
   "metadata": {},
   "outputs": [
    {
     "data": {
      "text/latex": [
       "$$\\frac{2}{{\\left(\\frac{{\\left(c - \\sqrt{-2 \\, a_{q} c t + c^{2} - 2 \\, a_{q} l + 2 \\, a_{q} x_{a}}\\right)}^{2}}{a_{q}} + 2 \\, l - 2 \\, x_{a}\\right)} {\\left(\\frac{c - \\sqrt{-2 \\, a_{q} c t + c^{2} - 2 \\, a_{q} l + 2 \\, a_{q} x_{a}}}{c} - 1\\right)}}$$"
      ],
      "text/plain": [
       "<IPython.core.display.Math object>"
      ]
     },
     "metadata": {},
     "output_type": "display_data"
    }
   ],
   "source": [
    "display(Math(latex(lw_integrand_subs_sol)))"
   ]
  },
  {
   "cell_type": "code",
   "execution_count": 42,
   "metadata": {},
   "outputs": [
    {
     "data": {
      "text/latex": [
       "$$-\\frac{a_{q}}{2 \\, a_{q} c t - c^{2} + 2 \\, a_{q} l - 2 \\, a_{q} x_{a} - \\sqrt{-2 \\, a_{q} c t + c^{2} - 2 \\, a_{q} l + 2 \\, a_{q} x_{a}} {\\left(a_{q} t - c\\right)}}$$"
      ],
      "text/plain": [
       "<IPython.core.display.Math object>"
      ]
     },
     "metadata": {},
     "output_type": "display_data"
    }
   ],
   "source": [
    "lw_integrand_subs_sol_simplified = lw_integrand_subs_sol.full_simplify()\n",
    "display(Math(latex(lw_integrand_subs_sol_simplified)))"
   ]
  },
  {
   "cell_type": "code",
   "execution_count": 43,
   "metadata": {},
   "outputs": [
    {
     "data": {
      "text/plain": [
       "-\\frac{a_{q}}{2 \\, a_{q} c t - c^{2} + 2 \\, a_{q} l - 2 \\, a_{q} x_{a} - \\sqrt{-2 \\, a_{q} c t + c^{2} - 2 \\, a_{q} l + 2 \\, a_{q} x_{a}} {\\left(a_{q} t - c\\right)}}"
      ]
     },
     "execution_count": 43,
     "metadata": {},
     "output_type": "execute_result"
    }
   ],
   "source": [
    "latex(lw_integrand_subs_sol_simplified)"
   ]
  },
  {
   "cell_type": "code",
   "execution_count": 44,
   "metadata": {},
   "outputs": [],
   "source": [
    "lw_indefinite_integral_subs_sol = integral(lw_integrand_subs_sol, l)"
   ]
  },
  {
   "cell_type": "code",
   "execution_count": 45,
   "metadata": {},
   "outputs": [
    {
     "data": {
      "text/plain": [
       "-\\log\\left(a_{q} t - c + \\sqrt{-2 \\, a_{q} c t + c^{2} - 2 \\, a_{q} l + 2 \\, a_{q} x_{a}}\\right)"
      ]
     },
     "execution_count": 45,
     "metadata": {},
     "output_type": "execute_result"
    }
   ],
   "source": [
    "latex(lw_indefinite_integral_subs_sol)"
   ]
  },
  {
   "cell_type": "code",
   "execution_count": 46,
   "metadata": {},
   "outputs": [
    {
     "data": {
      "text/latex": [
       "$$-\\log\\left(a_{q} t - c + \\sqrt{-2 \\, a_{q} c t + c^{2} - 2 \\, a_{q} l + 2 \\, a_{q} x_{a}}\\right)$$"
      ],
      "text/plain": [
       "<IPython.core.display.Math object>"
      ]
     },
     "metadata": {},
     "output_type": "display_data"
    }
   ],
   "source": [
    "display(Math(latex(lw_indefinite_integral_subs_sol)))"
   ]
  },
  {
   "cell_type": "code",
   "execution_count": 47,
   "metadata": {},
   "outputs": [
    {
     "data": {
      "text/latex": [
       "$$\\frac{a_{q}}{\\sqrt{-2 \\, a_{q} c t + c^{2} - 2 \\, a_{q} l + 2 \\, a_{q} x_{a}} {\\left(a_{q} t - c + \\sqrt{-2 \\, a_{q} c t + c^{2} - 2 \\, a_{q} l + 2 \\, a_{q} x_{a}}\\right)}}$$"
      ],
      "text/plain": [
       "<IPython.core.display.Math object>"
      ]
     },
     "metadata": {},
     "output_type": "display_data"
    }
   ],
   "source": [
    "display(Math(latex(lw_indefinite_integral_subs_sol.diff(l))))"
   ]
  },
  {
   "cell_type": "code",
   "execution_count": 63,
   "metadata": {},
   "outputs": [],
   "source": [
    "lw_integral_subs_sol = q/a * (lw_indefinite_integral_subs_sol.subs(l == a/2) - lw_indefinite_integral_subs_sol.subs(l == -a/2))"
   ]
  },
  {
   "cell_type": "code",
   "execution_count": 68,
   "metadata": {},
   "outputs": [
    {
     "data": {
      "text/latex": [
       "$$\\frac{q {\\left(\\log\\left(a_{q} t - c + \\sqrt{-2 \\, a_{q} c t + a a_{q} + c^{2} + 2 \\, a_{q} x_{a}}\\right) - \\log\\left(a_{q} t - c + \\sqrt{-2 \\, a_{q} c t - a a_{q} + c^{2} + 2 \\, a_{q} x_{a}}\\right)\\right)}}{a}$$"
      ],
      "text/plain": [
       "<IPython.core.display.Math object>"
      ]
     },
     "metadata": {},
     "output_type": "display_data"
    }
   ],
   "source": [
    "display(Math(latex(lw_integral_subs_sol)))"
   ]
  },
  {
   "cell_type": "code",
   "execution_count": 69,
   "metadata": {},
   "outputs": [],
   "source": [
    "lw_integral_subs_sol = q/a * log((exp(lw_indefinite_integral_subs_sol).subs(l == a/2) / exp(lw_indefinite_integral_subs_sol).subs(l == -a/2)))"
   ]
  },
  {
   "cell_type": "code",
   "execution_count": 70,
   "metadata": {},
   "outputs": [
    {
     "data": {
      "text/latex": [
       "$$\\frac{q \\log\\left(\\frac{a_{q} t - c + \\sqrt{-2 \\, a_{q} c t + a a_{q} + c^{2} + 2 \\, a_{q} x_{a}}}{a_{q} t - c + \\sqrt{-2 \\, a_{q} c t - a a_{q} + c^{2} + 2 \\, a_{q} x_{a}}}\\right)}{a}$$"
      ],
      "text/plain": [
       "<IPython.core.display.Math object>"
      ]
     },
     "metadata": {},
     "output_type": "display_data"
    }
   ],
   "source": [
    "display(Math(latex(lw_integral_subs_sol)))"
   ]
  },
  {
   "cell_type": "code",
   "execution_count": 71,
   "metadata": {},
   "outputs": [
    {
     "data": {
      "text/plain": [
       "\\frac{q \\log\\left(\\frac{a_{q} t - c + \\sqrt{-2 \\, a_{q} c t + a a_{q} + c^{2} + 2 \\, a_{q} x_{a}}}{a_{q} t - c + \\sqrt{-2 \\, a_{q} c t - a a_{q} + c^{2} + 2 \\, a_{q} x_{a}}}\\right)}{a}"
      ]
     },
     "execution_count": 71,
     "metadata": {},
     "output_type": "execute_result"
    }
   ],
   "source": [
    "latex(lw_integral_subs_sol)"
   ]
  },
  {
   "cell_type": "code",
   "execution_count": 65,
   "metadata": {},
   "outputs": [],
   "source": [
    "lw_integrand_subs_sol_d = lw_integrand_subs_sol.subs(c == 3, a_q == 1, q == 1 )"
   ]
  },
  {
   "cell_type": "code",
   "execution_count": 66,
   "metadata": {},
   "outputs": [
    {
     "data": {
      "text/plain": [
       "-6/(((sqrt(-2*l - 6*t + 2*x_a + 9) - 3)^2 + 2*l - 2*x_a)*sqrt(-2*l - 6*t + 2*x_a + 9))"
      ]
     },
     "execution_count": 66,
     "metadata": {},
     "output_type": "execute_result"
    }
   ],
   "source": [
    "lw_integrand_subs_sol_d"
   ]
  },
  {
   "cell_type": "code",
   "execution_count": 52,
   "metadata": {},
   "outputs": [
    {
     "data": {
      "text/plain": [
       "log(10000*t + 100*sqrt(a - 600000000*t + 2*x_a + 9000000000000) - 300000000) - log(10000*t + sqrt(-10000*a - 6000000000000*t + 20000*x_a + 90000000000000000) - 300000000)"
      ]
     },
     "execution_count": 52,
     "metadata": {},
     "output_type": "execute_result"
    }
   ],
   "source": [
    "lw_integral_subs_sol_d = (lw_integral_subs_sol).subs(c == 3*10^8, a_q == 10000, q == 1 )\n",
    "lw_integral_subs_sol_d"
   ]
  },
  {
   "cell_type": "code",
   "execution_count": 53,
   "metadata": {},
   "outputs": [
    {
     "data": {
      "text/plain": [
       "x_a*(log(10000*t + 100*sqrt(a - 600000000*t + 2*x_a + 9000000000000) - 300000000) - log(10000*t + sqrt(-10000*a - 6000000000000*t + 20000*x_a + 90000000000000000) - 300000000))/a"
      ]
     },
     "execution_count": 53,
     "metadata": {},
     "output_type": "execute_result"
    }
   ],
   "source": [
    "lw_integral_subs_sol_norm_d = (lw_integral_subs_sol/a*x_a).subs(c == 3*10^8, a_q == 10000, q == 1 )\n",
    "lw_integral_subs_sol_norm_d"
   ]
  },
  {
   "cell_type": "code",
   "execution_count": 54,
   "metadata": {},
   "outputs": [
    {
     "data": {
      "text/plain": [
       "log(10000*t + 100*sqrt(-600000000*t + 9.00000000000006e12) - 300000000) - log(10000*t + sqrt(-6000000000000*t + 9.00000000000002e16) - 300000000)"
      ]
     },
     "execution_count": 54,
     "metadata": {},
     "output_type": "execute_result"
    }
   ],
   "source": [
    "lw_integral_subs_sol_d.subs(a == 0.02, x_a == 0.02)"
   ]
  },
  {
   "cell_type": "code",
   "execution_count": 55,
   "metadata": {},
   "outputs": [
    {
     "data": {
      "text/plain": [
       "x_a*(log(1000000*t + 1000*sqrt(a - 600000000*t + 2*x_a + 90000000000) - 300000000) - log(1000000*t + sqrt(-1000000*a - 600000000000000*t + 2000000*x_a + 90000000000000000) - 300000000))/a"
      ]
     },
     "execution_count": 55,
     "metadata": {},
     "output_type": "execute_result"
    }
   ],
   "source": [
    "lw_integral_subs_sol_norm_d = (lw_integral_subs_sol*x_a).subs(c == 3*10^8, a_q == 1000000, q == 1 )\n",
    "lw_integral_subs_sol_norm_d"
   ]
  },
  {
   "cell_type": "code",
   "execution_count": 56,
   "metadata": {},
   "outputs": [
    {
     "name": "stdout",
     "output_type": "stream",
     "text": [
      "verbose 0 (3791: plot.py, generate_plot_points) WARNING: When plotting, failed to evaluate function at 43 points.\n",
      "verbose 0 (3791: plot.py, generate_plot_points) Last error message: 'Unable to compute f(0.010526077215334783)'\n",
      "verbose 0 (3791: plot.py, generate_plot_points) WARNING: When plotting, failed to evaluate function at 44 points.\n",
      "verbose 0 (3791: plot.py, generate_plot_points) Last error message: 'Unable to compute f(0.010714249740754108)'\n"
     ]
    },
    {
     "data": {
      "image/png": "[encoded data removed]",
      "text/plain": [
       "Graphics object consisting of 2 graphics primitives"
      ]
     },
     "execution_count": 56,
     "metadata": {},
     "output_type": "execute_result"
    }
   ],
   "source": [
    "plot([lw_integral_subs_sol_d.subs(a == 0.02, t == 0),\n",
    "      lw_integral_subs_sol_d.subs(a == 0.02, t == 0)], (x_a, 0., 0.05))"
   ]
  },
  {
   "cell_type": "code",
   "execution_count": 57,
   "metadata": {},
   "outputs": [
    {
     "name": "stdout",
     "output_type": "stream",
     "text": [
      "verbose 0 (3791: plot.py, generate_plot_points) WARNING: When plotting, failed to evaluate function at 41 points.\n",
      "verbose 0 (3791: plot.py, generate_plot_points) Last error message: 'Unable to compute f(0.009970157679412311)'\n",
      "verbose 0 (3791: plot.py, generate_plot_points) WARNING: When plotting, failed to evaluate function at 40 points.\n",
      "verbose 0 (3791: plot.py, generate_plot_points) Last error message: 'Unable to compute f(0.009848013301296555)'\n"
     ]
    },
    {
     "data": {
      "image/png": "[encoded data removed]",
      "text/plain": [
       "Graphics object consisting of 2 graphics primitives"
      ]
     },
     "execution_count": 57,
     "metadata": {},
     "output_type": "execute_result"
    }
   ],
   "source": [
    "plot([lw_integral_subs_sol_norm_d.subs(a == 0.02, t == 0),\n",
    "      lw_integral_subs_sol_norm_d.subs(a == 0.02, t == 0)], (x_a, 0., 0.05))"
   ]
  },
  {
   "cell_type": "code",
   "execution_count": 58,
   "metadata": {},
   "outputs": [
    {
     "data": {
      "text/plain": [
       "1.01329021978913"
      ]
     },
     "execution_count": 58,
     "metadata": {},
     "output_type": "execute_result"
    }
   ],
   "source": [
    "lw_integral_subs_sol_norm_d.subs(a == 0.02, t == 0, x_a == 0.05)"
   ]
  },
  {
   "cell_type": "code",
   "execution_count": 59,
   "metadata": {},
   "outputs": [
    {
     "data": {
      "text/plain": [
       "1.00987651521361"
      ]
     },
     "execution_count": 59,
     "metadata": {},
     "output_type": "execute_result"
    }
   ],
   "source": [
    "lw_integral_subs_sol_norm_d.subs(a == 0.02, t == 0.0000, x_a == 0.06)"
   ]
  },
  {
   "cell_type": "code",
   "execution_count": 60,
   "metadata": {},
   "outputs": [
    {
     "data": {
      "text/plain": [
       "1.01249284445769"
      ]
     },
     "execution_count": 60,
     "metadata": {},
     "output_type": "execute_result"
    }
   ],
   "source": [
    "lw_integral_subs_sol_norm_d.subs(a == 0.02, t == 0.00002, x_a == 0.06)"
   ]
  },
  {
   "cell_type": "code",
   "execution_count": 61,
   "metadata": {},
   "outputs": [
    {
     "data": {
      "text/plain": [
       "log(10000*t + 100*sqrt(-600000000*t + 2*x_a + 9.00000000000002e12) - 300000000) - log(10000*t + sqrt(-6000000000000*t + 20000*x_a + 8.99999999999998e16) - 300000000)"
      ]
     },
     "execution_count": 61,
     "metadata": {},
     "output_type": "execute_result"
    }
   ],
   "source": [
    "exec(preparse(\"lw_integral_subs_02 = lambda x_a :\" + str(lw_integral_subs_sol_d.subs(a == 0.02))))\n",
    "lw_integral_subs_02(x_a)"
   ]
  },
  {
   "cell_type": "markdown",
   "metadata": {},
   "source": [
    "from scipy import integrate\n",
    "import numpy as np\n",
    "for x in np.arange(0, 0.01, 0.001):\n",
    "    ans = integrate.quad(lw_integral_subs_02, a=0, b=x)\n",
    "    print(x, ans[0]/x)\n",
    "x = 0.01-0.0001\n",
    "ans = integrate.quad(lw_integral_subs_02, a=0, b=x)\n",
    "print(x, ans[0]/x)\n",
    "\n",
    "x = 0.01-0.00005\n",
    "ans = integrate.quad(lw_integral_subs_02, a=0, b=x)\n",
    "print(x, ans[0]/x)\n"
   ]
  },
  {
   "cell_type": "markdown",
   "metadata": {},
   "source": [
    "for x in np.arange(0.011, 0.021, 0.001):\n",
    "    ans = integrate.quad(lw_integral_subs_02, a=0.0101, b=x)\n",
    "    print(x, ans[0]/(x-0.01))"
   ]
  },
  {
   "cell_type": "markdown",
   "metadata": {},
   "source": [
    "(1.2923071794169083 + 0.473395785226943)/2"
   ]
  },
  {
   "cell_type": "code",
   "execution_count": 62,
   "metadata": {},
   "outputs": [
    {
     "data": {
      "text/html": [
       "\n",
       "<iframe srcdoc=\"<!DOCTYPE html>\n",
       "<html>\n",
       "<head>\n",
       "<title></title>\n",
       "<meta charset=&quot;utf-8&quot;>\n",
       "<meta name=viewport content=&quot;width=device-width, user-scalable=no, minimum-scale=1.0, maximum-scale=1.0&quot;>\n",
       "<style>\n",
       "\n",
       "    body { margin: 0px; overflow: hidden; }\n",
       "\n",
       "    #menu-container { position: absolute; bottom: 30px; right: 40px; }\n",
       "\n",
       "    #menu-content { position: absolute; bottom: 0px; right: 0px;\n",
       "                    display: none; background-color: #F5F5F5; border-bottom: 1px solid black;\n",
       "                    border-right: 1px solid black; border-left: 1px solid black; }\n",
       "\n",
       "    #menu-content div { border-top: 1px solid black; padding: 10px; white-space: nowrap; }\n",
       "  \n",
       "</style>\n",
       "</head>\n",
       "\n",
       "<body>\n",
       "\n",
       "<script src=&quot;/nbextensions/threejs/build/three.min.js&quot;></script>\n",
       "<script src=&quot;/nbextensions/threejs/examples/js/controls/OrbitControls.js&quot;></script>\n",
       "<script>\n",
       "  if ( !window.THREE ) document.write(' \\\n",
       "<script src=&quot;https://cdn.jsdelivr.net/gh/mrdoob/three.js@r110/build/three.min.js&quot;><\\/script> \\\n",
       "<script src=&quot;https://cdn.jsdelivr.net/gh/mrdoob/three.js@r110/examples/js/controls/OrbitControls.js&quot;><\\/script> \\\n",
       "            ');\n",
       "</script>\n",
       "        \n",
       "<script>\n",
       "\n",
       "    var scene = new THREE.Scene();\n",
       "\n",
       "    var renderer = new THREE.WebGLRenderer( { antialias: true, preserveDrawingBuffer: true } );\n",
       "    renderer.setPixelRatio( window.devicePixelRatio );\n",
       "    renderer.setSize( window.innerWidth, window.innerHeight );\n",
       "    renderer.setClearColor( 0xffffff, 1 );\n",
       "    document.body.appendChild( renderer.domElement );\n",
       "\n",
       "    var options = {&quot;aspect_ratio&quot;: [1.0, 1.0, 1.0], &quot;axes&quot;: false, &quot;axes_labels&quot;: [&quot;x&quot;, &quot;y&quot;, &quot;z&quot;], &quot;decimals&quot;: 2, &quot;frame&quot;: true, &quot;projection&quot;: &quot;perspective&quot;};\n",
       "\n",
       "    // When animations are supported by the viewer, the value 'false'\n",
       "    // will be replaced with an option set in Python by the user\n",
       "    var animate = false; // options.animate;\n",
       "\n",
       "    var b = [{&quot;x&quot;:0.01282051282051282, &quot;y&quot;:0.0, &quot;z&quot;:0.17904823144898607}, {&quot;x&quot;:0.1, &quot;y&quot;:0.002564102564102564, &quot;z&quot;:2.484906649787998}]; // bounds\n",
       "\n",
       "    if ( b[0].x === b[1].x ) {\n",
       "        b[0].x -= 1;\n",
       "        b[1].x += 1;\n",
       "    }\n",
       "    if ( b[0].y === b[1].y ) {\n",
       "        b[0].y -= 1;\n",
       "        b[1].y += 1;\n",
       "    }\n",
       "    if ( b[0].z === b[1].z ) {\n",
       "        b[0].z -= 1;\n",
       "        b[1].z += 1;\n",
       "    }\n",
       "\n",
       "    var rRange = Math.sqrt( Math.pow( b[1].x - b[0].x, 2 )\n",
       "                            + Math.pow( b[1].y - b[0].y, 2 ) );\n",
       "    var xRange = b[1].x - b[0].x;\n",
       "    var yRange = b[1].y - b[0].y;\n",
       "    var zRange = b[1].z - b[0].z;\n",
       "\n",
       "    var ar = options.aspect_ratio;\n",
       "    var a = [ ar[0], ar[1], ar[2] ]; // aspect multipliers\n",
       "    var autoAspect = 2.5;\n",
       "    if ( zRange > autoAspect * rRange && a[2] === 1 ) a[2] = autoAspect * rRange / zRange;\n",
       "\n",
       "    // Distance from (xMid,yMid,zMid) to any corner of the bounding box, after applying aspect_ratio.\n",
       "    var midToCorner = Math.sqrt( a[0]*a[0]*xRange*xRange + a[1]*a[1]*yRange*yRange + a[2]*a[2]*zRange*zRange ) / 2;\n",
       "\n",
       "    var xMid = ( b[0].x + b[1].x ) / 2;\n",
       "    var yMid = ( b[0].y + b[1].y ) / 2;\n",
       "    var zMid = ( b[0].z + b[1].z ) / 2;\n",
       "\n",
       "    var box = new THREE.Geometry();\n",
       "    box.vertices.push( new THREE.Vector3( a[0]*b[0].x, a[1]*b[0].y, a[2]*b[0].z ) );\n",
       "    box.vertices.push( new THREE.Vector3( a[0]*b[1].x, a[1]*b[1].y, a[2]*b[1].z ) );\n",
       "    var boxMesh = new THREE.Line( box );\n",
       "    if ( options.frame ) scene.add( new THREE.BoxHelper( boxMesh, 'black' ) );\n",
       "\n",
       "    if ( options.axes_labels ) {\n",
       "\n",
       "        var d = options.decimals; // decimals\n",
       "        var offsetRatio = 0.1;\n",
       "        var al = options.axes_labels;\n",
       "\n",
       "        var offset = offsetRatio * a[1]*( b[1].y - b[0].y );\n",
       "        var xm = xMid.toFixed(d);\n",
       "        if ( /^-0.?0*$/.test(xm) ) xm = xm.substr(1);\n",
       "        addLabel( al[0] + '=' + xm, a[0]*xMid, a[1]*b[1].y+offset, a[2]*b[0].z );\n",
       "        addLabel( ( b[0].x ).toFixed(d), a[0]*b[0].x, a[1]*b[1].y+offset, a[2]*b[0].z );\n",
       "        addLabel( ( b[1].x ).toFixed(d), a[0]*b[1].x, a[1]*b[1].y+offset, a[2]*b[0].z );\n",
       "\n",
       "        var offset = offsetRatio * a[0]*( b[1].x - b[0].x );\n",
       "        var ym = yMid.toFixed(d);\n",
       "        if ( /^-0.?0*$/.test(ym) ) ym = ym.substr(1);\n",
       "        addLabel( al[1] + '=' + ym, a[0]*b[1].x+offset, a[1]*yMid, a[2]*b[0].z );\n",
       "        addLabel( ( b[0].y ).toFixed(d), a[0]*b[1].x+offset, a[1]*b[0].y, a[2]*b[0].z );\n",
       "        addLabel( ( b[1].y ).toFixed(d), a[0]*b[1].x+offset, a[1]*b[1].y, a[2]*b[0].z );\n",
       "\n",
       "        var offset = offsetRatio * a[1]*( b[1].y - b[0].y );\n",
       "        var zm = zMid.toFixed(d);\n",
       "        if ( /^-0.?0*$/.test(zm) ) zm = zm.substr(1);\n",
       "        addLabel( al[2] + '=' + zm, a[0]*b[1].x, a[1]*b[0].y-offset, a[2]*zMid );\n",
       "        addLabel( ( b[0].z ).toFixed(d), a[0]*b[1].x, a[1]*b[0].y-offset, a[2]*b[0].z );\n",
       "        addLabel( ( b[1].z ).toFixed(d), a[0]*b[1].x, a[1]*b[0].y-offset, a[2]*b[1].z );\n",
       "\n",
       "    }\n",
       "\n",
       "    function addLabel( text, x, y, z ) {\n",
       "\n",
       "        var fontsize = 14;\n",
       "\n",
       "        var canvas = document.createElement( 'canvas' );\n",
       "        var pixelRatio = Math.round( window.devicePixelRatio );\n",
       "        canvas.width = 128 * pixelRatio;\n",
       "        canvas.height = 32 * pixelRatio; // powers of two\n",
       "        canvas.style.width = '128px';\n",
       "        canvas.style.height = '32px';\n",
       "\n",
       "        var context = canvas.getContext( '2d' );\n",
       "        context.scale( pixelRatio, pixelRatio );\n",
       "        context.fillStyle = 'black';\n",
       "        context.font = fontsize + 'px monospace';\n",
       "        context.textAlign = 'center';\n",
       "        context.textBaseline = 'middle';\n",
       "        context.fillText( text, canvas.width/2/pixelRatio, canvas.height/2/pixelRatio );\n",
       "\n",
       "        var texture = new THREE.Texture( canvas );\n",
       "        texture.needsUpdate = true;\n",
       "\n",
       "        var sprite = new THREE.Sprite( new THREE.SpriteMaterial( { map: texture } ) );\n",
       "        sprite.position.set( x, y, z );\n",
       "\n",
       "        // Set the initial scale based on plot size to accomodate orthographic projection.\n",
       "        // For other projections, the scale will get reset each frame based on camera distance.\n",
       "        var scale = midToCorner/2;\n",
       "        sprite.scale.set( scale, scale*.25 ); // ratio of canvas width to height\n",
       "\n",
       "        scene.add( sprite );\n",
       "\n",
       "    }\n",
       "\n",
       "    if ( options.axes ) scene.add( new THREE.AxesHelper( Math.min( a[0]*b[1].x, a[1]*b[1].y, a[2]*b[1].z ) ) );\n",
       "\n",
       "    var camera = createCamera();\n",
       "    camera.up.set( 0, 0, 1 );\n",
       "    camera.position.set( a[0]*(xMid+xRange), a[1]*(yMid+yRange), a[2]*(zMid+zRange) );\n",
       "\n",
       "    function createCamera() {\n",
       "\n",
       "        var aspect = window.innerWidth / window.innerHeight;\n",
       "\n",
       "        if ( options.projection === 'orthographic' ) {\n",
       "            var camera = new THREE.OrthographicCamera( -1, 1, 1, -1, -1000, 1000 );\n",
       "            updateCameraAspect( camera, aspect );\n",
       "            return camera;\n",
       "        }\n",
       "\n",
       "        return new THREE.PerspectiveCamera( 45, aspect, 0.1, 1000 );\n",
       "\n",
       "    }\n",
       "\n",
       "    function updateCameraAspect( camera, aspect ) {\n",
       "\n",
       "        if ( camera.isPerspectiveCamera ) {\n",
       "            camera.aspect = aspect;\n",
       "        } else if ( camera.isOrthographicCamera ) {\n",
       "            // Fit the camera frustum to the bounding box's diagonal so that the entire plot fits\n",
       "            // within at the default zoom level and camera position.\n",
       "            if ( aspect > 1 ) { // Wide window\n",
       "                camera.top = midToCorner;\n",
       "                camera.right = midToCorner * aspect;\n",
       "            } else { // Tall or square window\n",
       "                camera.top = midToCorner / aspect;\n",
       "                camera.right = midToCorner;\n",
       "            }\n",
       "            camera.bottom = -camera.top;\n",
       "            camera.left = -camera.right;\n",
       "        }\n",
       "\n",
       "        camera.updateProjectionMatrix();\n",
       "\n",
       "    }\n",
       "\n",
       "    var lights = [{&quot;x&quot;:-5, &quot;y&quot;:3, &quot;z&quot;:0, &quot;color&quot;:&quot;#7f7f7f&quot;, &quot;parent&quot;:&quot;camera&quot;}];\n",
       "    for ( var i=0 ; i < lights.length ; i++ ) {\n",
       "        var light = new THREE.DirectionalLight( lights[i].color, 1 );\n",
       "        light.position.set( a[0]*lights[i].x, a[1]*lights[i].y, a[2]*lights[i].z );\n",
       "        if ( lights[i].parent === 'camera' ) {\n",
       "            light.target.position.set( a[0]*xMid, a[1]*yMid, a[2]*zMid );\n",
       "            scene.add( light.target );\n",
       "            camera.add( light );\n",
       "        } else scene.add( light );\n",
       "    }\n",
       "    scene.add( camera );\n",
       "\n",
       "    var ambient = {&quot;color&quot;:&quot;#7f7f7f&quot;};\n",
       "    scene.add( new THREE.AmbientLight( ambient.color, 1 ) );\n",
       "\n",
       "    var controls = new THREE.OrbitControls( camera, renderer.domElement );\n",
       "    controls.target.set( a[0]*xMid, a[1]*yMid, a[2]*zMid );\n",
       "    controls.addEventListener( 'change', function() { if ( !animate ) render(); } );\n",
       "\n",
       "    window.addEventListener( 'resize', function() {\n",
       "        \n",
       "        renderer.setSize( window.innerWidth, window.innerHeight );\n",
       "        updateCameraAspect( camera, window.innerWidth / window.innerHeight );\n",
       "        if ( !animate ) render();\n",
       "        \n",
       "    } );\n",
       "\n",
       "    var texts = [];\n",
       "    for ( var i=0 ; i < texts.length ; i++ )\n",
       "        addLabel( texts[i].text, a[0]*texts[i].x, a[1]*texts[i].y, a[2]*texts[i].z );\n",
       "\n",
       "    var points = [];\n",
       "    for ( var i=0 ; i < points.length ; i++ ) addPoint( points[i] );\n",
       "\n",
       "    function addPoint( json ) {\n",
       "\n",
       "        var geometry = new THREE.Geometry();\n",
       "        var v = json.point;\n",
       "        geometry.vertices.push( new THREE.Vector3( a[0]*v[0], a[1]*v[1], a[2]*v[2] ) );\n",
       "\n",
       "        var canvas = document.createElement( 'canvas' );\n",
       "        canvas.width = 128;\n",
       "        canvas.height = 128;\n",
       "\n",
       "        var context = canvas.getContext( '2d' );\n",
       "        context.arc( 64, 64, 64, 0, 2 * Math.PI );\n",
       "        context.fillStyle = json.color;\n",
       "        context.fill();\n",
       "\n",
       "        var texture = new THREE.Texture( canvas );\n",
       "        texture.needsUpdate = true;\n",
       "\n",
       "        var transparent = json.opacity < 1 ? true : false;\n",
       "        var size = camera.isOrthographicCamera ? json.size : json.size/100;\n",
       "        var material = new THREE.PointsMaterial( { size: size, map: texture,\n",
       "                                                   transparent: transparent, opacity: json.opacity,\n",
       "                                                   alphaTest: .1 } );\n",
       "\n",
       "        var c = new THREE.Vector3();\n",
       "        geometry.computeBoundingBox();\n",
       "        geometry.boundingBox.getCenter( c );\n",
       "        geometry.translate( -c.x, -c.y, -c.z );\n",
       "\n",
       "        var mesh = new THREE.Points( geometry, material );\n",
       "        mesh.position.set( c.x, c.y, c.z );\n",
       "        scene.add( mesh );\n",
       "\n",
       "    }\n",
       "\n",
       "    var lines = [];\n",
       "    for ( var i=0 ; i < lines.length ; i++ ) addLine( lines[i] );\n",
       "\n",
       "    function addLine( json ) {\n",
       "\n",
       "        var geometry = new THREE.Geometry();\n",
       "        for ( var i=0 ; i < json.points.length ; i++ ) {\n",
       "            var v = json.points[i];\n",
       "            geometry.vertices.push( new THREE.Vector3( a[0]*v[0], a[1]*v[1], a[2]*v[2] ) );\n",
       "        }\n",
       "\n",
       "        var transparent = json.opacity < 1 ? true : false;\n",
       "        var material = new THREE.LineBasicMaterial( { color: json.color, linewidth: json.linewidth,\n",
       "                                                      transparent: transparent, opacity: json.opacity } );\n",
       "\n",
       "        var c = new THREE.Vector3();\n",
       "        geometry.computeBoundingBox();\n",
       "        geometry.boundingBox.getCenter( c );\n",
       "        geometry.translate( -c.x, -c.y, -c.z );\n",
       "\n",
       "        var mesh = new THREE.Line( geometry, material );\n",
       "        mesh.position.set( c.x, c.y, c.z );\n",
       "        scene.add( mesh );\n",
       "\n",
       "    }\n",
       "\n",
       "    var surfaces = [{&quot;vertices&quot;:[{&quot;x&quot;:0.0128205,&quot;y&quot;:0,&quot;z&quot;:1.79176},{&quot;x&quot;:0.0153846,&quot;y&quot;:0,&quot;z&quot;:1.54045},{&quot;x&quot;:0.0179487,&quot;y&quot;:0,&quot;z&quot;:1.38629},{&quot;x&quot;:0.0205128,&quot;y&quot;:0,&quot;z&quot;:1.04145},{&quot;x&quot;:0.0230769,&quot;y&quot;:0,&quot;z&quot;:0.864997},{&quot;x&quot;:0.025641,&quot;y&quot;:0,&quot;z&quot;:0.798508},{&quot;x&quot;:0.0282051,&quot;y&quot;:0,&quot;z&quot;:0.741937},{&quot;x&quot;:0.0307692,&quot;y&quot;:0,&quot;z&quot;:0.650588},{&quot;x&quot;:0.0333333,&quot;y&quot;:0,&quot;z&quot;:0.613104},{&quot;x&quot;:0.0358974,&quot;y&quot;:0,&quot;z&quot;:0.550046},{&quot;x&quot;:0.0384615,&quot;y&quot;:0,&quot;z&quot;:0.523248},{&quot;x&quot;:0.0410256,&quot;y&quot;:0,&quot;z&quot;:0.498991},{&quot;x&quot;:0.0435897,&quot;y&quot;:0.0025641,&quot;z&quot;:2.48491},{&quot;x&quot;:0.0435897,&quot;y&quot;:0,&quot;z&quot;:0.456758},{&quot;x&quot;:0.0461538,&quot;y&quot;:0.0025641,&quot;z&quot;:1.94591},{&quot;x&quot;:0.0461538,&quot;y&quot;:0,&quot;z&quot;:0.389465},{&quot;x&quot;:0.0487179,&quot;y&quot;:0.0025641,&quot;z&quot;:1.25276},{&quot;x&quot;:0.0487179,&quot;y&quot;:0,&quot;z&quot;:0.405465},{&quot;x&quot;:0.0512821,&quot;y&quot;:0.0025641,&quot;z&quot;:1.16315},{&quot;x&quot;:0.0512821,&quot;y&quot;:0,&quot;z&quot;:0.390866},{&quot;x&quot;:0.0538462,&quot;y&quot;:0.0025641,&quot;z&quot;:0.887303},{&quot;x&quot;:0.0538462,&quot;y&quot;:0,&quot;z&quot;:0.336472},{&quot;x&quot;:0.0564103,&quot;y&quot;:0.0025641,&quot;z&quot;:0.864997},{&quot;x&quot;:0.0564103,&quot;y&quot;:0,&quot;z&quot;:0.37949},{&quot;x&quot;:0.0589744,&quot;y&quot;:0.0025641,&quot;z&quot;:0.741937},{&quot;x&quot;:0.0589744,&quot;y&quot;:0,&quot;z&quot;:0.305382},{&quot;x&quot;:0.0615385,&quot;y&quot;:0.0025641,&quot;z&quot;:0.646627},{&quot;x&quot;:0.0615385,&quot;y&quot;:0,&quot;z&quot;:0.321584},{&quot;x&quot;:0.0641026,&quot;y&quot;:0.0025641,&quot;z&quot;:0.613104},{&quot;x&quot;:0.0641026,&quot;y&quot;:0,&quot;z&quot;:0.312375},{&quot;x&quot;:0.0666667,&quot;y&quot;:0.0025641,&quot;z&quot;:0.579818},{&quot;x&quot;:0.0666667,&quot;y&quot;:0,&quot;z&quot;:0.295464},{&quot;x&quot;:0.0692308,&quot;y&quot;:0.0025641,&quot;z&quot;:0.550046},{&quot;x&quot;:0.0692308,&quot;y&quot;:0,&quot;z&quot;:0.280302},{&quot;x&quot;:0.0717949,&quot;y&quot;:0.0025641,&quot;z&quot;:0.498991},{&quot;x&quot;:0.0717949,&quot;y&quot;:0,&quot;z&quot;:0.273293},{&quot;x&quot;:0.074359,&quot;y&quot;:0.0025641,&quot;z&quot;:0.476924},{&quot;x&quot;:0.074359,&quot;y&quot;:0,&quot;z&quot;:0.266629},{&quot;x&quot;:0.0769231,&quot;y&quot;:0.0025641,&quot;z&quot;:0.438255},{&quot;x&quot;:0.0769231,&quot;y&quot;:0,&quot;z&quot;:0.233615},{&quot;x&quot;:0.0794872,&quot;y&quot;:0.0025641,&quot;z&quot;:0.421213},{&quot;x&quot;:0.0794872,&quot;y&quot;:0,&quot;z&quot;:0.248461},{&quot;x&quot;:0.0820513,&quot;y&quot;:0.0025641,&quot;z&quot;:0.405465},{&quot;x&quot;:0.0820513,&quot;y&quot;:0,&quot;z&quot;:0.237672},{&quot;x&quot;:0.0846154,&quot;y&quot;:0.0025641,&quot;z&quot;:0.377294},{&quot;x&quot;:0.0846154,&quot;y&quot;:0,&quot;z&quot;:0.232622},{&quot;x&quot;:0.0871795,&quot;y&quot;:0.0025641,&quot;z&quot;:0.364643},{&quot;x&quot;:0.0871795,&quot;y&quot;:0,&quot;z&quot;:0.227784},{&quot;x&quot;:0.0897436,&quot;y&quot;:0.0025641,&quot;z&quot;:0.341749},{&quot;x&quot;:0.0897436,&quot;y&quot;:0,&quot;z&quot;:0.200671},{&quot;x&quot;:0.0923077,&quot;y&quot;:0.0025641,&quot;z&quot;:0.331357},{&quot;x&quot;:0.0923077,&quot;y&quot;:0,&quot;z&quot;:0.21441},{&quot;x&quot;:0.0948718,&quot;y&quot;:0.0025641,&quot;z&quot;:0.287682},{&quot;x&quot;:0.0948718,&quot;y&quot;:0,&quot;z&quot;:0.206336},{&quot;x&quot;:0.0974359,&quot;y&quot;:0.0025641,&quot;z&quot;:0.303682},{&quot;x&quot;:0.0974359,&quot;y&quot;:0,&quot;z&quot;:0.202524},{&quot;x&quot;:0.1,&quot;y&quot;:0.0025641,&quot;z&quot;:0.295464},{&quot;x&quot;:0.1,&quot;y&quot;:0,&quot;z&quot;:0.179048}], &quot;faces&quot;:[[11,12,13],[13,12,14,15],[15,14,16,17],[17,16,18,19],[19,18,20,21],[21,20,22,23],[23,22,24,25],[25,24,26,27],[27,26,28,29],[29,28,30,31],[31,30,32,33],[33,32,34,35],[35,34,36,37],[37,36,38,39],[39,38,40,41],[41,40,42,43],[43,42,44,45],[45,44,46,47],[47,46,48,49],[49,48,50,51],[51,50,52,53],[53,52,54,55],[55,54,56,57]], &quot;color&quot;:&quot;#6666ff&quot;, &quot;opacity&quot;:1.0}];\n",
       "    for ( var i=0 ; i < surfaces.length ; i++ ) addSurface( surfaces[i] );\n",
       "\n",
       "    function addSurface( json ) {\n",
       "\n",
       "        var useFaceColors = 'faceColors' in json ? true : false;\n",
       "\n",
       "        var geometry = new THREE.Geometry();\n",
       "        for ( var i=0 ; i < json.vertices.length ; i++ ) {\n",
       "            var v = json.vertices[i];\n",
       "            geometry.vertices.push( new THREE.Vector3( a[0]*v.x, a[1]*v.y, a[2]*v.z ) );\n",
       "        }\n",
       "        for ( var i=0 ; i < json.faces.length ; i++ ) {\n",
       "            var f = json.faces[i];\n",
       "            for ( var j=0 ; j < f.length - 2 ; j++ ) {\n",
       "                var face = new THREE.Face3( f[0], f[j+1], f[j+2] );\n",
       "                if ( useFaceColors ) face.color.set( json.faceColors[i] );\n",
       "                geometry.faces.push( face );\n",
       "            }\n",
       "        }\n",
       "        geometry.computeVertexNormals();\n",
       "\n",
       "        var side = json.singleSide ? THREE.FrontSide : THREE.DoubleSide;\n",
       "        var transparent = json.opacity < 1 ? true : false;\n",
       "\n",
       "        var material = new THREE.MeshPhongMaterial( { side: side,\n",
       "                                     color: useFaceColors ? 'white' : json.color,\n",
       "                                     vertexColors: useFaceColors ? THREE.FaceColors : THREE.NoColors,\n",
       "                                     transparent: transparent, opacity: json.opacity,\n",
       "                                     shininess: 20, flatShading: json.useFlatShading } );\n",
       "\n",
       "        var c = new THREE.Vector3();\n",
       "        geometry.computeBoundingBox();\n",
       "        geometry.boundingBox.getCenter( c );\n",
       "        geometry.translate( -c.x, -c.y, -c.z );\n",
       "\n",
       "        var mesh = new THREE.Mesh( geometry, material );\n",
       "        mesh.position.set( c.x, c.y, c.z );\n",
       "        if ( transparent && json.renderOrder ) mesh.renderOrder = json.renderOrder;\n",
       "        scene.add( mesh );\n",
       "\n",
       "        if ( json.showMeshGrid ) {\n",
       "\n",
       "            var geometry = new THREE.Geometry();\n",
       "\n",
       "            for ( var i=0 ; i < json.faces.length ; i++ ) {\n",
       "                var f = json.faces[i];\n",
       "                for ( var j=0 ; j < f.length ; j++ ) {\n",
       "                    var k = j === f.length-1 ? 0 : j+1;\n",
       "                    var v1 = json.vertices[f[j]];\n",
       "                    var v2 = json.vertices[f[k]];\n",
       "                    // vertices in opposite directions on neighboring faces\n",
       "                    var nudge = f[j] < f[k] ? .0005*zRange : -.0005*zRange;\n",
       "                    geometry.vertices.push( new THREE.Vector3( a[0]*v1.x, a[1]*v1.y, a[2]*(v1.z+nudge) ) );\n",
       "                    geometry.vertices.push( new THREE.Vector3( a[0]*v2.x, a[1]*v2.y, a[2]*(v2.z+nudge) ) );\n",
       "                }\n",
       "            }\n",
       "\n",
       "            var material = new THREE.LineBasicMaterial( { color: 'black', linewidth: 1 } );\n",
       "\n",
       "            var c = new THREE.Vector3();\n",
       "            geometry.computeBoundingBox();\n",
       "            geometry.boundingBox.getCenter( c );\n",
       "            geometry.translate( -c.x, -c.y, -c.z );\n",
       "\n",
       "            var mesh = new THREE.LineSegments( geometry, material );\n",
       "            mesh.position.set( c.x, c.y, c.z );\n",
       "            scene.add( mesh );\n",
       "\n",
       "        }\n",
       "\n",
       "    }\n",
       "\n",
       "    var scratch = new THREE.Vector3();\n",
       "\n",
       "    function render() {\n",
       "\n",
       "        if ( animate ) requestAnimationFrame( render );\n",
       "        renderer.render( scene, camera );\n",
       "\n",
       "        // Resize text based on distance from camera.\n",
       "        // Not neccessary for orthographic due to the nature of the projection (preserves sizes).\n",
       "        if ( !camera.isOrthographicCamera ) {\n",
       "            for ( var i=0 ; i < scene.children.length ; i++ ) {\n",
       "                if ( scene.children[i].type === 'Sprite' ) {\n",
       "                    var sprite = scene.children[i];\n",
       "                    var adjust = scratch.addVectors( sprite.position, scene.position )\n",
       "                                    .sub( camera.position ).length() / 5;\n",
       "                    sprite.scale.set( adjust, .25*adjust ); // ratio of canvas width to height\n",
       "                }\n",
       "            }\n",
       "        }\n",
       "    }\n",
       "    \n",
       "    render();\n",
       "    controls.update();\n",
       "    if ( !animate ) render();\n",
       "\n",
       "\n",
       "    // menu functions\n",
       "\n",
       "    function toggleMenu() {\n",
       "\n",
       "        var m = document.getElementById( 'menu-content' );\n",
       "        if ( m.style.display === 'block' ) m.style.display = 'none'\n",
       "        else m.style.display = 'block';\n",
       "\n",
       "    }\n",
       "\n",
       "\n",
       "    function saveAsPNG() {\n",
       "\n",
       "        var a = document.body.appendChild( document.createElement( 'a' ) );\n",
       "        a.href = renderer.domElement.toDataURL( 'image/png' );\n",
       "        a.download = 'screenshot';\n",
       "        a.click();\n",
       "\n",
       "    }\n",
       "\n",
       "    function saveAsHTML() {\n",
       "\n",
       "        toggleMenu(); // otherwise visible in output\n",
       "        event.stopPropagation();\n",
       "\n",
       "        var blob = new Blob( [ '<!DOCTYPE html>\\n' + document.documentElement.outerHTML ] );\n",
       "        var a = document.body.appendChild( document.createElement( 'a' ) );\n",
       "        a.href = window.URL.createObjectURL( blob );\n",
       "        a.download = 'graphic.html';\n",
       "        a.click();\n",
       "\n",
       "    }\n",
       "\n",
       "    function getViewpoint() {\n",
       "\n",
       "        var info = '<pre>' + JSON.stringify( camera, null, '\\t' ) + '</pre>';\n",
       "        window.open().document.write( info );\n",
       "\n",
       "    }\n",
       "\n",
       "</script>\n",
       "\n",
       "<div id=&quot;menu-container&quot; onclick=&quot;toggleMenu()&quot;>&#x24d8;\n",
       "<div id=&quot;menu-content&quot;>\n",
       "<div onclick=&quot;saveAsPNG()&quot;>Save as PNG</div>\n",
       "<div onclick=&quot;saveAsHTML()&quot;>Save as HTML</div>\n",
       "<div onclick=&quot;getViewpoint()&quot;>Camera Info</div>\n",
       "<div>Close Menu</div>\n",
       "</div></div>\n",
       "\n",
       "</body>\n",
       "</html>\n",
       "\"\n",
       "        width=\"100%\"\n",
       "        height=\"400\"\n",
       "        style=\"border: 0;\">\n",
       "</iframe>\n"
      ],
      "text/plain": [
       "Graphics3d Object"
      ]
     },
     "execution_count": 62,
     "metadata": {},
     "output_type": "execute_result"
    }
   ],
   "source": [
    "plot3d(lw_integral_subs_sol_d.subs(a == 0.02), (x_a,0,0.1),(t,0.00,0.1))"
   ]
  },
  {
   "cell_type": "code",
   "execution_count": null,
   "metadata": {},
   "outputs": [],
   "source": []
  }
 ],
 "metadata": {
  "kernelspec": {
   "display_name": "SageMath 9.6.beta7",
   "language": "sage",
   "name": "sagemath"
  },
  "language_info": {
   "codemirror_mode": {
    "name": "ipython",
    "version": 3
   },
   "file_extension": ".py",
   "mimetype": "text/x-python",
   "name": "python",
   "nbconvert_exporter": "python",
   "pygments_lexer": "ipython3",
   "version": "3.10.3"
  }
 },
 "nbformat": 4,
 "nbformat_minor": 2
}
