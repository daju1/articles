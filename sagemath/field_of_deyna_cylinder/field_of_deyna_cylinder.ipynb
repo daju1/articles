{
 "cells": [
  {
   "cell_type": "markdown",
   "metadata": {},
   "source": [
    "# Расчёт полей тороидально намагниченного цилиндра в опыте Дейны         (опыт Николаева номер 31)"
   ]
  },
  {
   "cell_type": "markdown",
   "metadata": {},
   "source": [
    "Вводим цилиндрическую систему координат, в которой (вслед за Таммом) индексом $j$ обозначаем координаты молекулярных токов намагниченного цилиндра, а индексом $a$ обозначаем координаты точек наблюдения"
   ]
  },
  {
   "cell_type": "code",
   "execution_count": 1,
   "metadata": {},
   "outputs": [],
   "source": [
    "zj = var(\"zj\")\n",
    "za = var(\"za\")\n",
    "rj = var(\"rj\")\n",
    "ra = var(\"ra\")\n",
    "phi = var(\"phi\")\n",
    "\n",
    "assume(rj>0)\n",
    "assume(ra>0)"
   ]
  },
  {
   "cell_type": "markdown",
   "metadata": {},
   "source": [
    "Для выражения векторного потенциала, создаваемого молекулярными токами намагниченного цилиндра нам потребуется интеграл $\\frac{1}{R}$ - обратного расстояния между точкой истока и точкой наблюдения в цилиндрической системе координат, проинтегрированный по координатному углу phi точек истока от нуля до $2\\pi$"
   ]
  },
  {
   "cell_type": "code",
   "execution_count": 2,
   "metadata": {},
   "outputs": [
    {
     "name": "stdout",
     "output_type": "stream",
     "text": [
      "IRphi = 4*elliptic_kc(-4*ra*rj/((ra - rj)^2 + (za - zj)^2))/sqrt((ra - rj)^2 + (za - zj)^2)\n"
     ]
    }
   ],
   "source": [
    "rja2 = (rj-ra)^2+(zj-za)^2\n",
    "module = - 4*rj*ra / rja2\n",
    "IRphi=4*elliptic_kc(module) / sqrt(rja2)\n",
    "print (\"IRphi =\", IRphi)"
   ]
  },
  {
   "cell_type": "markdown",
   "metadata": {},
   "source": [
    "Следуя Тамму, обозначаем вектор намагниченности цилиндра через $I$. \n",
    "В данном расчёте предположим, что цилиндр имеет только $\\varphi$-тую компоненту намагниченности и величина этой намагниченности постоянна в объёме ($I_{\\varphi} = const$).\n",
    "\n",
    "Для поверхностного тока у Тамма можно почерпнуть формулу $js = c \\cdot [I \\times n]$ (параграф 61. Векторный потенциал магнитного поля при наличии магнентиков. Средняя плотность объёмных и поверхностных токов. Уравнение 61.10 - случай для вакуума)\n",
    "Для объёмного тока - формулу $jv = c \\cdot rot(I)$ (там же, уравнение 61.9)\n",
    "\n",
    "В работе http://liquidcrystalosmos.narod.ru/deyna_cylinders_nikolaevs_experiment_31.htm было показано, что при равномерной тороидальной намагниченности цилиндра средняя плотность объёмных токов в данной конфигурации имеет только лишь $z$ компоненту, которая по модулю обратно пропорциональна радиус координате цилиндрической системы.\n",
    "\n",
    "К этому же выводу можно прийти взяв ротор от $I$ при условии $I_{\\varphi} = const$ в цилиндрических координатах"
   ]
  },
  {
   "cell_type": "code",
   "execution_count": 3,
   "metadata": {},
   "outputs": [],
   "source": [
    "cI0 = var(\"cI0\")# произведение намагниченности на скорость света\n",
    "js = cI0        # плотность поверхностного тока на внутренней и внешней цилиндрической поверхностях цилиндра\n",
    "jt = cI0        # плотность поверхностного тока на торцах цилиндра\n",
    "jv = cI0 / rj   # плотность объёмного тока"
   ]
  },
  {
   "cell_type": "markdown",
   "metadata": {},
   "source": [
    "пределы интегрирования по координатам молекулярных токов"
   ]
  },
  {
   "cell_type": "code",
   "execution_count": 4,
   "metadata": {},
   "outputs": [],
   "source": [
    "zj1 = var(\"zj1\") # левый торец цилиндра\n",
    "zj2 = var(\"zj2\") # правый торец цилиндра\n",
    "\n",
    "rj1 = var(\"rj1\") # радиус внутренней поверхности (сверления) цилиндра\n",
    "rj2 = var(\"rj2\") # радиус внешней цилиндрической поверхности цилиндра"
   ]
  },
  {
   "cell_type": "markdown",
   "metadata": {},
   "source": [
    "вспомогательные переменные для интегрирования источников векторного потенциала по поверхностным и объёмным токам"
   ]
  },
  {
   "cell_type": "code",
   "execution_count": 5,
   "metadata": {},
   "outputs": [
    {
     "name": "stdout",
     "output_type": "stream",
     "text": [
      "IRphi_js_rj = 4*cI0*rj*elliptic_kc(-4*ra*rj/((ra - rj)^2 + (za - zj)^2))/sqrt((ra - rj)^2 + (za - zj)^2)\n",
      "IRphi_jv_rj = 4*cI0*elliptic_kc(-4*ra*rj/((ra - rj)^2 + (za - zj)^2))/sqrt((ra - rj)^2 + (za - zj)^2)\n"
     ]
    }
   ],
   "source": [
    "IRphi_js_rj=IRphi*js*rj\n",
    "print (\"IRphi_js_rj =\", IRphi_js_rj)\n",
    "\n",
    "IRphi_jv_rj=IRphi*jv*rj\n",
    "print (\"IRphi_jv_rj =\", IRphi_jv_rj)"
   ]
  },
  {
   "cell_type": "markdown",
   "metadata": {},
   "source": [
    "Рассчитаем производную векторного потенциала, создаваемого торцевым поверхностным током, по $z$ координате точки наблюдения"
   ]
  },
  {
   "cell_type": "code",
   "execution_count": 6,
   "metadata": {},
   "outputs": [
    {
     "name": "stdout",
     "output_type": "stream",
     "text": [
      "IRphi_js_rj_diff_za = lambda cI0, rj, ra, zj, za :  -4*cI0*rj*(za - zj)*elliptic_kc(-4*ra*rj/((ra - rj)^2 + (za - zj)^2))/((ra - rj)^2 + (za - zj)^2)^(3/2) + 4*((4*ra*rj/((ra - rj)^2 + (za - zj)^2) + 1)*elliptic_kc(-4*ra*rj/((ra - rj)^2 + (za - zj)^2)) - elliptic_ec(-4*ra*rj/((ra - rj)^2 + (za - zj)^2)))*cI0*rj*(za - zj)/(((ra - rj)^2 + (za - zj)^2)^(3/2)*(4*ra*rj/((ra - rj)^2 + (za - zj)^2) + 1))\n"
     ]
    }
   ],
   "source": [
    "IRphi_js_rj_diff_za_ = lambda c_I0, r_j, r_a, z_j, z_a : (IRphi_js_rj.diff(za)).substitute(ra==r_a).substitute(za==z_a).substitute(zj==z_j).substitute(rj==r_j).substitute(cI0==c_I0)\n",
    "print (\"IRphi_js_rj_diff_za = lambda cI0, rj, ra, zj, za : \", IRphi_js_rj_diff_za_(cI0, rj, ra, zj, za))\n"
   ]
  },
  {
   "cell_type": "markdown",
   "metadata": {},
   "source": [
    "Итак, производная векторного потенциала, создаваемого торцевым поверхностным током, заключённом в плоском кольце толщиной $dr_j$ с радиусом $r_j$, по $z$ координате точки наблюдения"
   ]
  },
  {
   "cell_type": "code",
   "execution_count": 7,
   "metadata": {},
   "outputs": [],
   "source": [
    "IRphi_js_rj_diff_za = lambda cI0, rj, ra, zj, za :  -4*cI0*rj*(za - zj)*elliptic_kc(-4*ra*rj/((ra - rj)^2 + (za - zj)^2))/((ra - rj)^2 + (za - zj)^2)^(3/2) + 4*((4*ra*rj/((ra - rj)^2 + (za - zj)^2) + 1)*elliptic_kc(-4*ra*rj/((ra - rj)^2 + (za - zj)^2)) - elliptic_ec(-4*ra*rj/((ra - rj)^2 + (za - zj)^2)))*cI0*rj*(za - zj)/(((ra - rj)^2 + (za - zj)^2)^(3/2)*(4*ra*rj/((ra - rj)^2 + (za - zj)^2) + 1))"
   ]
  },
  {
   "cell_type": "markdown",
   "metadata": {},
   "source": [
    "Учитывая положительное направление поверхностного тока в левом торце и отрицательное направление поверхностного тока в правом торце составим сумму полученной производной для обоих торцов"
   ]
  },
  {
   "cell_type": "code",
   "execution_count": 8,
   "metadata": {},
   "outputs": [
    {
     "name": "stdout",
     "output_type": "stream",
     "text": [
      "At_diff_za = lambda cI0, rj, ra, zj1, zj2, za :  -4*cI0*rj*(za - zj1)*elliptic_kc(-4*ra*rj/((ra - rj)^2 + (za - zj1)^2))/((ra - rj)^2 + (za - zj1)^2)^(3/2) + 4*cI0*rj*(za - zj2)*elliptic_kc(-4*ra*rj/((ra - rj)^2 + (za - zj2)^2))/((ra - rj)^2 + (za - zj2)^2)^(3/2) + 4*((4*ra*rj/((ra - rj)^2 + (za - zj1)^2) + 1)*elliptic_kc(-4*ra*rj/((ra - rj)^2 + (za - zj1)^2)) - elliptic_ec(-4*ra*rj/((ra - rj)^2 + (za - zj1)^2)))*cI0*rj*(za - zj1)/(((ra - rj)^2 + (za - zj1)^2)^(3/2)*(4*ra*rj/((ra - rj)^2 + (za - zj1)^2) + 1)) - 4*((4*ra*rj/((ra - rj)^2 + (za - zj2)^2) + 1)*elliptic_kc(-4*ra*rj/((ra - rj)^2 + (za - zj2)^2)) - elliptic_ec(-4*ra*rj/((ra - rj)^2 + (za - zj2)^2)))*cI0*rj*(za - zj2)/(((ra - rj)^2 + (za - zj2)^2)^(3/2)*(4*ra*rj/((ra - rj)^2 + (za - zj2)^2) + 1))\n"
     ]
    }
   ],
   "source": [
    "At_diff_za_ = lambda cI0, rj, ra, zj1, zj2, za : IRphi_js_rj_diff_za_(cI0, rj, ra, zj1, za) - IRphi_js_rj_diff_za_(cI0, rj, ra, zj2, za)\n",
    "print (\"At_diff_za = lambda cI0, rj, ra, zj1, zj2, za : \", At_diff_za_(cI0, rj, ra, zj1, zj2, za))"
   ]
  },
  {
   "cell_type": "markdown",
   "metadata": {},
   "source": [
    "Итак, производная векторного потенциала, создаваемого торцевым поверхностным током обоих торцов, заключённом в двух плоских кольцах толщиной $dr_{j}$ и радиуса $r_{j}$, по $z$ координате точки наблюдения"
   ]
  },
  {
   "cell_type": "code",
   "execution_count": 9,
   "metadata": {},
   "outputs": [],
   "source": [
    "At_diff_za = lambda cI0, rj, ra, zj1, zj2, za :  -4*cI0*rj*(za - zj1)*elliptic_kc(-4*ra*rj/((ra - rj)^2 + (za - zj1)^2))/((ra - rj)^2 + (za - zj1)^2)^(3/2) + 4*cI0*rj*(za - zj2)*elliptic_kc(-4*ra*rj/((ra - rj)^2 + (za - zj2)^2))/((ra - rj)^2 + (za - zj2)^2)^(3/2) + 4*((4*ra*rj/((ra - rj)^2 + (za - zj1)^2) + 1)*elliptic_kc(-4*ra*rj/((ra - rj)^2 + (za - zj1)^2)) - elliptic_ec(-4*ra*rj/((ra - rj)^2 + (za - zj1)^2)))*cI0*rj*(za - zj1)/(((ra - rj)^2 + (za - zj1)^2)^(3/2)*(4*ra*rj/((ra - rj)^2 + (za - zj1)^2) + 1)) - 4*((4*ra*rj/((ra - rj)^2 + (za - zj2)^2) + 1)*elliptic_kc(-4*ra*rj/((ra - rj)^2 + (za - zj2)^2)) - elliptic_ec(-4*ra*rj/((ra - rj)^2 + (za - zj2)^2)))*cI0*rj*(za - zj2)/(((ra - rj)^2 + (za - zj2)^2)^(3/2)*(4*ra*rj/((ra - rj)^2 + (za - zj2)^2) + 1))"
   ]
  },
  {
   "cell_type": "markdown",
   "metadata": {},
   "source": [
    "Рассчитаем производную векторного потенциала, создаваемого поверхностным током цилиндрической поверхности, по $r$ координате точки наблюдения"
   ]
  },
  {
   "cell_type": "code",
   "execution_count": 10,
   "metadata": {},
   "outputs": [
    {
     "name": "stdout",
     "output_type": "stream",
     "text": [
      "IRphi_js_rj_diff_ra = lambda cI0, rj, ra, zj, za :  -4*cI0*(ra - rj)*rj*elliptic_kc(-4*ra*rj/((ra - rj)^2 + (za - zj)^2))/((ra - rj)^2 + (za - zj)^2)^(3/2) + 2*sqrt((ra - rj)^2 + (za - zj)^2)*((4*ra*rj/((ra - rj)^2 + (za - zj)^2) + 1)*elliptic_kc(-4*ra*rj/((ra - rj)^2 + (za - zj)^2)) - elliptic_ec(-4*ra*rj/((ra - rj)^2 + (za - zj)^2)))*cI0*(2*(ra - rj)*ra*rj/((ra - rj)^2 + (za - zj)^2)^2 - rj/((ra - rj)^2 + (za - zj)^2))/(ra*(4*ra*rj/((ra - rj)^2 + (za - zj)^2) + 1))\n"
     ]
    }
   ],
   "source": [
    "IRphi_js_rj_diff_ra_ = lambda c_I0, r_j, r_a, z_j, z_a : (IRphi_js_rj.diff(ra)).substitute(ra==r_a).substitute(za==z_a).substitute(zj==z_j).substitute(rj==r_j).substitute(cI0==c_I0)\n",
    "print (\"IRphi_js_rj_diff_ra = lambda cI0, rj, ra, zj, za : \", IRphi_js_rj_diff_ra_(cI0, rj, ra, zj, za))"
   ]
  },
  {
   "cell_type": "markdown",
   "metadata": {},
   "source": [
    "Итак, производная векторного потенциала, создаваемого торцевым поверхностным током цилиндрической поверхности радиуса $r_{j}$, заключённой в поверхностном кольце шириной $dz_{j}$ c координатой $z_{j}$, по $r$ координате точки наблюдения"
   ]
  },
  {
   "cell_type": "code",
   "execution_count": 11,
   "metadata": {},
   "outputs": [],
   "source": [
    "IRphi_js_rj_diff_ra = lambda cI0, rj, ra, zj, za :  -4*cI0*(ra - rj)*rj*elliptic_kc(-4*ra*rj/((ra - rj)^2 + (za - zj)^2))/((ra - rj)^2 + (za - zj)^2)^(3/2) + 2*sqrt((ra - rj)^2 + (za - zj)^2)*((4*ra*rj/((ra - rj)^2 + (za - zj)^2) + 1)*elliptic_kc(-4*ra*rj/((ra - rj)^2 + (za - zj)^2)) - elliptic_ec(-4*ra*rj/((ra - rj)^2 + (za - zj)^2)))*cI0*(2*(ra - rj)*ra*rj/((ra - rj)^2 + (za - zj)^2)^2 - rj/((ra - rj)^2 + (za - zj)^2))/(ra*(4*ra*rj/((ra - rj)^2 + (za - zj)^2) + 1))"
   ]
  },
  {
   "cell_type": "markdown",
   "metadata": {},
   "source": [
    "Учитывая отрицательное направление поверхностного тока на внутренней цилиндрической поверхности (в сверлении) и положительное направление поверхностного тока на внешней цилиндрической поверхности составим сумму полученной производной для обоих цилиндрических поверхностей"
   ]
  },
  {
   "cell_type": "code",
   "execution_count": 12,
   "metadata": {},
   "outputs": [
    {
     "name": "stdout",
     "output_type": "stream",
     "text": [
      "As_diff_ra = lambda cI0, rj1, rj2, ra, zj, za :  4*cI0*(ra - rj1)*rj1*elliptic_kc(-4*ra*rj1/((ra - rj1)^2 + (za - zj)^2))/((ra - rj1)^2 + (za - zj)^2)^(3/2) - 4*cI0*(ra - rj2)*rj2*elliptic_kc(-4*ra*rj2/((ra - rj2)^2 + (za - zj)^2))/((ra - rj2)^2 + (za - zj)^2)^(3/2) - 2*sqrt((ra - rj1)^2 + (za - zj)^2)*((4*ra*rj1/((ra - rj1)^2 + (za - zj)^2) + 1)*elliptic_kc(-4*ra*rj1/((ra - rj1)^2 + (za - zj)^2)) - elliptic_ec(-4*ra*rj1/((ra - rj1)^2 + (za - zj)^2)))*cI0*(2*(ra - rj1)*ra*rj1/((ra - rj1)^2 + (za - zj)^2)^2 - rj1/((ra - rj1)^2 + (za - zj)^2))/(ra*(4*ra*rj1/((ra - rj1)^2 + (za - zj)^2) + 1)) + 2*sqrt((ra - rj2)^2 + (za - zj)^2)*((4*ra*rj2/((ra - rj2)^2 + (za - zj)^2) + 1)*elliptic_kc(-4*ra*rj2/((ra - rj2)^2 + (za - zj)^2)) - elliptic_ec(-4*ra*rj2/((ra - rj2)^2 + (za - zj)^2)))*cI0*(2*(ra - rj2)*ra*rj2/((ra - rj2)^2 + (za - zj)^2)^2 - rj2/((ra - rj2)^2 + (za - zj)^2))/(ra*(4*ra*rj2/((ra - rj2)^2 + (za - zj)^2) + 1))\n"
     ]
    }
   ],
   "source": [
    "As_diff_ra_ = lambda cI0, rj1, rj2, ra, zj, za : - IRphi_js_rj_diff_ra_(cI0, rj1, ra, zj, za) + IRphi_js_rj_diff_ra_(cI0, rj2, ra, zj, za)\n",
    "print (\"As_diff_ra = lambda cI0, rj1, rj2, ra, zj, za : \", As_diff_ra_(cI0, rj1, rj2, ra, zj, za))"
   ]
  },
  {
   "cell_type": "markdown",
   "metadata": {},
   "source": [
    "Итак, производная векторного потенциала, создаваемого поверхностными токами обоих цилиндрических поверхностей, заключённом в двух поверхностных кольцах шириной $dz_{j}$ c координатой $z_{j}$, по $r$ координате точки наблюдения"
   ]
  },
  {
   "cell_type": "code",
   "execution_count": 13,
   "metadata": {},
   "outputs": [],
   "source": [
    "As_diff_ra = lambda cI0, rj1, rj2, ra, zj, za :  4*cI0*(ra - rj1)*rj1*elliptic_kc(-4*ra*rj1/((ra - rj1)^2 + (za - zj)^2))/((ra - rj1)^2 + (za - zj)^2)^(3/2) - 4*cI0*(ra - rj2)*rj2*elliptic_kc(-4*ra*rj2/((ra - rj2)^2 + (za - zj)^2))/((ra - rj2)^2 + (za - zj)^2)^(3/2) - 2*sqrt((ra - rj1)^2 + (za - zj)^2)*((4*ra*rj1/((ra - rj1)^2 + (za - zj)^2) + 1)*elliptic_kc(-4*ra*rj1/((ra - rj1)^2 + (za - zj)^2)) - elliptic_ec(-4*ra*rj1/((ra - rj1)^2 + (za - zj)^2)))*cI0*(2*(ra - rj1)*ra*rj1/((ra - rj1)^2 + (za - zj)^2)^2 - rj1/((ra - rj1)^2 + (za - zj)^2))/(ra*(4*ra*rj1/((ra - rj1)^2 + (za - zj)^2) + 1)) + 2*sqrt((ra - rj2)^2 + (za - zj)^2)*((4*ra*rj2/((ra - rj2)^2 + (za - zj)^2) + 1)*elliptic_kc(-4*ra*rj2/((ra - rj2)^2 + (za - zj)^2)) - elliptic_ec(-4*ra*rj2/((ra - rj2)^2 + (za - zj)^2)))*cI0*(2*(ra - rj2)*ra*rj2/((ra - rj2)^2 + (za - zj)^2)^2 - rj2/((ra - rj2)^2 + (za - zj)^2))/(ra*(4*ra*rj2/((ra - rj2)^2 + (za - zj)^2) + 1))"
   ]
  },
  {
   "cell_type": "markdown",
   "metadata": {},
   "source": [
    "Теперь необходимо составить производную векторного потенциала, создаваемого объёмным током поверхности, по $r$ координате точки наблюдения"
   ]
  },
  {
   "cell_type": "code",
   "execution_count": 14,
   "metadata": {},
   "outputs": [
    {
     "name": "stdout",
     "output_type": "stream",
     "text": [
      "IRphi_jv_rj_diff_ra = lambda cI0, rj, ra, zj, za :  -4*cI0*(ra - rj)*elliptic_kc(-4*ra*rj/((ra - rj)^2 + (za - zj)^2))/((ra - rj)^2 + (za - zj)^2)^(3/2) + 2*sqrt((ra - rj)^2 + (za - zj)^2)*((4*ra*rj/((ra - rj)^2 + (za - zj)^2) + 1)*elliptic_kc(-4*ra*rj/((ra - rj)^2 + (za - zj)^2)) - elliptic_ec(-4*ra*rj/((ra - rj)^2 + (za - zj)^2)))*cI0*(2*(ra - rj)*ra*rj/((ra - rj)^2 + (za - zj)^2)^2 - rj/((ra - rj)^2 + (za - zj)^2))/(ra*(4*ra*rj/((ra - rj)^2 + (za - zj)^2) + 1)*rj)\n"
     ]
    }
   ],
   "source": [
    "IRphi_jv_rj_diff_ra_ = lambda c_I0, r_j, r_a, z_j, z_a : (IRphi_jv_rj.diff(ra)).substitute(ra==r_a).substitute(za==z_a).substitute(zj==z_j).substitute(rj==r_j).substitute(cI0==c_I0)\n",
    "print (\"IRphi_jv_rj_diff_ra = lambda cI0, rj, ra, zj, za : \", IRphi_jv_rj_diff_ra_(cI0, rj, ra, zj, za))"
   ]
  },
  {
   "cell_type": "markdown",
   "metadata": {},
   "source": [
    "Итак, производная векторного потенциала, создаваемого объёмным током, заключённом в объёмном кольце шириной $dz_{j}$ c координатой $z_{j}$ и толщиной $dr_{j}$ и радиуса $r_j$, по $r$ координате точки наблюдения"
   ]
  },
  {
   "cell_type": "code",
   "execution_count": 15,
   "metadata": {},
   "outputs": [],
   "source": [
    "IRphi_jv_rj_diff_ra = lambda cI0, rj, ra, zj, za :  -4*cI0*(ra - rj)*elliptic_kc(-4*ra*rj/((ra - rj)^2 + (za - zj)^2))/((ra - rj)^2 + (za - zj)^2)^(3/2) + 2*sqrt((ra - rj)^2 + (za - zj)^2)*((4*ra*rj/((ra - rj)^2 + (za - zj)^2) + 1)*elliptic_kc(-4*ra*rj/((ra - rj)^2 + (za - zj)^2)) - elliptic_ec(-4*ra*rj/((ra - rj)^2 + (za - zj)^2)))*cI0*(2*(ra - rj)*ra*rj/((ra - rj)^2 + (za - zj)^2)^2 - rj/((ra - rj)^2 + (za - zj)^2))/(ra*(4*ra*rj/((ra - rj)^2 + (za - zj)^2) + 1)*rj)\n"
   ]
  },
  {
   "cell_type": "markdown",
   "metadata": {},
   "source": [
    "Далее нам необходимо определить собственную функцию для численного интегрирования"
   ]
  },
  {
   "cell_type": "code",
   "execution_count": 16,
   "metadata": {},
   "outputs": [],
   "source": [
    "def get_integrand_view(f):\n",
    "    return f(x)\n",
    "\n",
    "class my_dummy_integral:\n",
    "    f = None\n",
    "    a = None\n",
    "    b = None\n",
    "    def __init__(self, f, a, b):\n",
    "        print (\"my_dummy_integral \", f, a, b)\n",
    "        self.f = f\n",
    "        self.a = a\n",
    "        self.b = b\n",
    "\n",
    "def my_numerical_integral(f, a, b):\n",
    "    from scipy import integrate\n",
    "\n",
    "    to_call_integration = True\n",
    "\n",
    "    if type(f) is my_dummy_integral:\n",
    "        to_call_integration = False\n",
    "\n",
    "    import inspect\n",
    "    stack = inspect.stack()\n",
    "    for frame in stack:\n",
    "        func_name = frame[3]\n",
    "        # print (\"func_name = \", func_name)\n",
    "        if ('get_integrand_view' == func_name):\n",
    "            to_call_integration = False\n",
    "            break;\n",
    "\n",
    "    if not to_call_integration:\n",
    "        return my_dummy_integral(f,a,b)\n",
    "\n",
    "    try:\n",
    "        integral = integrate.quad(f, a, b)\n",
    "\n",
    "        result = integral[0]\n",
    "        return result\n",
    "\n",
    "    except Exception as ex:\n",
    "\n",
    "        print (\"Exception ex = \", str(ex))\n",
    "        print (\"f = \", f)\n",
    "        try:\n",
    "            print (\"integrand = \", get_integrand_view(f))\n",
    "        except Exception as ex2:\n",
    "            print (\"Exception ex2 = \", ex2)\n",
    "        print (\"a = \", a)\n",
    "        print (\"b = \", b)\n",
    "\n",
    "        raise ex\n",
    "\n",
    "        integral = numerical_integral(f, a, b)\n",
    "\n",
    "        print (\"integral = \", integral)\n",
    "\n",
    "        result = integral[0]\n",
    "        print (\"result = \", result)\n",
    "        return result\n"
   ]
  },
  {
   "cell_type": "markdown",
   "metadata": {},
   "source": [
    "Теперь необходимо производную векторного потенциала, создаваемого объёмным током, заключённом в объёмном кольце шириной $dz_j$ c координатой $z_j$ и толщиной $dr_j$ и радиуса $r_j$, по $r$ координате точки наблюдения - проинтегрировать по радиусу точек истока от $r_{j1}$ до $r_{j2}$"
   ]
  },
  {
   "cell_type": "code",
   "execution_count": 17,
   "metadata": {},
   "outputs": [],
   "source": [
    "Av_diff_ra = lambda cI0, rj1, rj2, ra, zj, za : my_numerical_integral(lambda rj : IRphi_jv_rj_diff_ra(cI0, rj, ra, zj, za), rj1, rj2)"
   ]
  },
  {
   "cell_type": "markdown",
   "metadata": {},
   "source": [
    "Задаём размеры цилиндров в сантиметрах"
   ]
  },
  {
   "cell_type": "code",
   "execution_count": 18,
   "metadata": {},
   "outputs": [],
   "source": [
    "# sizes of cylinders in Deyna's video\n",
    "Zj1 = -1.5\n",
    "Zj2 =  1.5\n",
    "Rj1 = 0.3\n",
    "Rj2 = 1.5\n",
    "\n",
    "Ra1 = Rj1\n",
    "Ra2 = Rj2\n",
    "\n",
    "DZ = Zj2 - Zj1"
   ]
  },
  {
   "cell_type": "markdown",
   "metadata": {},
   "source": [
    "Производим подстановку размеров координат правого цилиндра - источника векторного потенциала в формулы производных векторного потенциала"
   ]
  },
  {
   "cell_type": "code",
   "execution_count": 19,
   "metadata": {},
   "outputs": [],
   "source": [
    "At_diff_za_substituted_zj = lambda rj, ra, za : At_diff_za(1, rj, ra, Zj1, Zj2, za)"
   ]
  },
  {
   "cell_type": "code",
   "execution_count": 20,
   "metadata": {},
   "outputs": [],
   "source": [
    "As_diff_ra_substituted_rj = lambda ra, zj, za : As_diff_ra(1, Rj1, Rj2, ra, zj, za)"
   ]
  },
  {
   "cell_type": "code",
   "execution_count": 21,
   "metadata": {},
   "outputs": [],
   "source": [
    "Av_diff_ra_substituted_rj = lambda ra, zj, za : Av_diff_ra (1, Rj1, Rj2, ra, zj, za)"
   ]
  },
  {
   "cell_type": "markdown",
   "metadata": {},
   "source": [
    "Определяем функцию расчёта векторного магнитного поля H (компонента phi)"
   ]
  },
  {
   "cell_type": "code",
   "execution_count": 22,
   "metadata": {},
   "outputs": [],
   "source": [
    "def calc_H_phi( At_diff_za_substituted_zj, As_diff_ra_substituted_rj, Za, Ra):\n",
    "    At_diff_za_substituted_zj_za_ra = lambda rj : At_diff_za_substituted_zj(rj, Ra, Za)\n",
    "    As_diff_ra_substituted_rj_za_ra = lambda zj : As_diff_ra_substituted_rj(Ra, zj, Za)\n",
    "\n",
    "    At_diff_za_num_int = At_diff_za_substituted_zj_za_ra(rj).nintegral(rj, Rj1, Rj2)\n",
    "    As_diff_ra_num_int = As_diff_ra_substituted_rj_za_ra(zj).nintegral(zj, Zj1, Zj2)\n",
    "    Av_diff_ra_num_int = my_numerical_integral( lambda zj : Av_diff_ra_substituted_rj(Ra, zj, Za), Zj1, Zj2)\n",
    "    As_v_diff_ra_num_int = As_diff_ra_num_int[0] - Av_diff_ra_num_int\n",
    "\n",
    "    H_phi_t = At_diff_za_num_int[0]\n",
    "    H_phi_s = - As_v_diff_ra_num_int\n",
    "\n",
    "    H_phi = H_phi_t + H_phi_s\n",
    "    print (\"Ra =\", Ra, \"Za =\", Za, \"H_phi_t =\", H_phi_t)\n",
    "    print (\"Ra =\", Ra, \"Za =\", Za, \"H_phi_s =\", H_phi_s)\n",
    "    print (\"Ra =\", Ra, \"Za =\", Za, \"H_phi   =\", H_phi)\n",
    "\n",
    "    return (H_phi, H_phi_t, H_phi_s)"
   ]
  },
  {
   "cell_type": "markdown",
   "metadata": {},
   "source": [
    "Определяем функцию расчёта поперечной силы Лоренца (компонента $z$), действующей на торец другого цилиндра с координатой $Z_a$"
   ]
  },
  {
   "cell_type": "code",
   "execution_count": 23,
   "metadata": {},
   "outputs": [],
   "source": [
    "def calc_F_lorenz( At_diff_za_substituted_zj, As_diff_ra_substituted_rj, Za, Ra1, Ra2):\n",
    "    At_diff_za_substituted_zj_za = lambda rj, ra : At_diff_za_substituted_zj(rj, ra, Za)\n",
    "    As_diff_ra_substituted_rj_za = lambda ra, zj : As_diff_ra_substituted_rj(ra, zj, Za)\n",
    "    Av_diff_ra_substituted_rj_za = lambda ra, zj : Av_diff_ra_substituted_rj(ra, zj, Za)\n",
    "    \n",
    "    jt_substituted_cI0 = jt.substitute(cI0 == 1)\n",
    "\n",
    "    At_diff_za_num_int_ra = lambda Rj : my_numerical_integral(lambda ra : (2*pi*jt_substituted_cI0*ra*At_diff_za_substituted_zj_za(Rj, ra)), Ra1, Ra2)\n",
    "    At_diff_za_num_int_ra_int_rj = my_numerical_integral(lambda rj : At_diff_za_num_int_ra(rj), Rj1, Rj2)\n",
    "    \n",
    "    As_diff_ra_num_int_ra = lambda Zj : my_numerical_integral(lambda ra : (2*pi*jt_substituted_cI0*ra*(As_diff_ra_substituted_rj_za(ra, Zj) ) ), Ra1, Ra2)\n",
    "    As_diff_ra_num_int_ra_int_zj = my_numerical_integral(lambda zj : As_diff_ra_num_int_ra(zj), Zj1, Zj2)\n",
    "    \n",
    "    Av_diff_ra_num_int_ra = lambda Zj : my_numerical_integral(lambda ra : (2*pi*jt_substituted_cI0*ra*(Av_diff_ra_substituted_rj_za(ra, Zj) ) ), Ra1, Ra2)\n",
    "    Av_diff_ra_num_int_ra_int_zj = my_numerical_integral(lambda zj : Av_diff_ra_num_int_ra(zj), Zj1, Zj2)\n",
    "\n",
    "    F_z_t = At_diff_za_num_int_ra_int_rj\n",
    "    F_z_s = As_diff_ra_num_int_ra_int_zj\n",
    "    F_z_v = Av_diff_ra_num_int_ra_int_zj\n",
    "\n",
    "    As_v_diff_ra_num_int_ra_int_zj = As_diff_ra_num_int_ra_int_zj - Av_diff_ra_num_int_ra_int_zj\n",
    "    F_z_sv = - As_v_diff_ra_num_int_ra_int_zj\n",
    "    F_z = F_z_t + F_z_sv\n",
    "\n",
    "    print (\"Ra1 =\", Ra1, \"Ra2 =\", Ra2, \"Za =\", Za, \"F_z_t  =\", F_z_t)\n",
    "    print (\"Ra1 =\", Ra1, \"Ra2 =\", Ra2, \"Za =\", Za, \"F_z_s  =\", F_z_s)\n",
    "    print (\"Ra1 =\", Ra1, \"Ra2 =\", Ra2, \"Za =\", Za, \"F_z_v  =\", F_z_v)\n",
    "    print (\"Ra1 =\", Ra1, \"Ra2 =\", Ra2, \"Za =\", Za, \"F_z_sv =\", F_z_sv)\n",
    "    print (\"Ra1 =\", Ra1, \"Ra2 =\", Ra2, \"Za =\", Za, \"F_z    =\", F_z)\n",
    "\n",
    "    return (F_z, F_z_t, F_z_s, F_z_v)\n"
   ]
  },
  {
   "cell_type": "markdown",
   "metadata": {},
   "source": [
    "Определяем функцию расчёта поперечной Лоренца (компонента $z$), действующей на левый цилиндр исходя из величины зазора $dz$"
   ]
  },
  {
   "cell_type": "code",
   "execution_count": 24,
   "metadata": {},
   "outputs": [],
   "source": [
    "def calc_F_lorenz_cylinder(dz):\n",
    "    # расчет силы Лоренца, действующей на ближайжий (правый) торец пробного цилиндра расположенного левее на расстоянии\n",
    "    Za = Zj1 - dz\n",
    "    F_lorenz_left_cylinder_right_t = calc_F_lorenz( At_diff_za_substituted_zj, As_diff_ra_substituted_rj, Za, Ra1, Ra2)\n",
    "    print (\"Za = \", Za, \"F_lorenz_left_cylinder_right_t = \", F_lorenz_left_cylinder_right_t)\n",
    "\n",
    "    # расчет силы Лоренца, действующей на удалённый (левый) торец пробного цилиндра расположенного левее на расстоянии\n",
    "    Za = Zj1 - DZ - dz\n",
    "    F_lorenz_left_cylinder_left_t = calc_F_lorenz( At_diff_za_substituted_zj, As_diff_ra_substituted_rj, Za, Ra1, Ra2)\n",
    "    print (\"Za = \", Za, \"F_lorenz_left_cylinder_left_t =\", F_lorenz_left_cylinder_left_t)\n",
    "\n",
    "    # учитывая отрицательное направление торцевого тока в правом торце и положительное направление торцевого тока в левом торце\n",
    "    # находим суммарную силу Лоренца действующую на левый цилиндр\n",
    "    F_lorenz_cylinder = - F_lorenz_left_cylinder_right_t[0] + F_lorenz_left_cylinder_left_t[0]\n",
    "    print (\"dz = \", dz, \"F_lorenz_cylinder = \", F_lorenz_cylinder)\n",
    "\n",
    "    return F_lorenz_cylinder\n",
    "\n"
   ]
  },
  {
   "cell_type": "markdown",
   "metadata": {},
   "source": [
    "Запуск расчёта силы Лоренца и величины векторного магнитного поля для заданного набора значений зазора между цилиндрами"
   ]
  },
  {
   "cell_type": "code",
   "execution_count": 25,
   "metadata": {},
   "outputs": [
    {
     "name": "stdout",
     "output_type": "stream",
     "text": [
      "Ra = 0.900000000000000 Za = -1.51000000000000 H_phi_t = 5.644078024649912\n",
      "Ra = 0.900000000000000 Za = -1.51000000000000 H_phi_s = -6.112910411879253\n",
      "Ra = 0.900000000000000 Za = -1.51000000000000 H_phi   = -0.46883238722934095\n",
      "Ra1 = 0.300000000000000 Ra2 = 1.50000000000000 Za = -1.51000000000000 F_z_t  = 37.574573607478655\n",
      "Ra1 = 0.300000000000000 Ra2 = 1.50000000000000 Za = -1.51000000000000 F_z_s  = 14.883427043888043\n",
      "Ra1 = 0.300000000000000 Ra2 = 1.50000000000000 Za = -1.51000000000000 F_z_v  = -25.724906359382704\n",
      "Ra1 = 0.300000000000000 Ra2 = 1.50000000000000 Za = -1.51000000000000 F_z_sv = -40.60833340327075\n",
      "Ra1 = 0.300000000000000 Ra2 = 1.50000000000000 Za = -1.51000000000000 F_z    = -3.0337597957920934\n",
      "Za =  -1.51000000000000 F_lorenz_left_cylinder_right_t =  (-3.0337597957920934, 37.574573607478655, 14.883427043888043, -25.724906359382704)\n",
      "Ra1 = 0.300000000000000 Ra2 = 1.50000000000000 Za = -4.51000000000000 F_z_t  = 2.6040228344504093\n",
      "Ra1 = 0.300000000000000 Ra2 = 1.50000000000000 Za = -4.51000000000000 F_z_s  = -1.2057716280010589\n",
      "Ra1 = 0.300000000000000 Ra2 = 1.50000000000000 Za = -4.51000000000000 F_z_v  = -1.6597835531830494\n",
      "Ra1 = 0.300000000000000 Ra2 = 1.50000000000000 Za = -4.51000000000000 F_z_sv = -0.4540119251819905\n",
      "Ra1 = 0.300000000000000 Ra2 = 1.50000000000000 Za = -4.51000000000000 F_z    = 2.1500109092684188\n",
      "Za =  -4.51000000000000 F_lorenz_left_cylinder_left_t = (2.1500109092684188, 2.6040228344504093, -1.2057716280010589, -1.6597835531830494)\n",
      "dx =  0.0100000000000000 F_lorenz_cylinder =  5.183770705060512\n",
      "Ra = 0.900000000000000 Za = -1.52000000000000 H_phi_t = 5.583593170676274\n",
      "Ra = 0.900000000000000 Za = -1.52000000000000 H_phi_s = -6.014895008192264\n",
      "Ra = 0.900000000000000 Za = -1.52000000000000 H_phi   = -0.43130183751599027\n",
      "Ra1 = 0.300000000000000 Ra2 = 1.50000000000000 Za = -1.52000000000000 F_z_t  = 36.61424936386304\n",
      "Ra1 = 0.300000000000000 Ra2 = 1.50000000000000 Za = -1.52000000000000 F_z_s  = 14.015019689939411\n",
      "Ra1 = 0.300000000000000 Ra2 = 1.50000000000000 Za = -1.52000000000000 F_z_v  = -25.391055467997404\n",
      "Ra1 = 0.300000000000000 Ra2 = 1.50000000000000 Za = -1.52000000000000 F_z_sv = -39.40607515793681\n",
      "Ra1 = 0.300000000000000 Ra2 = 1.50000000000000 Za = -1.52000000000000 F_z    = -2.791825794073773\n",
      "Za =  -1.52000000000000 F_lorenz_left_cylinder_right_t =  (-2.791825794073773, 36.61424936386304, 14.015019689939411, -25.391055467997404)\n",
      "Ra1 = 0.300000000000000 Ra2 = 1.50000000000000 Za = -4.52000000000000 F_z_t  = 2.5885359728828665\n",
      "Ra1 = 0.300000000000000 Ra2 = 1.50000000000000 Za = -4.52000000000000 F_z_s  = -1.1999941874455011\n",
      "Ra1 = 0.300000000000000 Ra2 = 1.50000000000000 Za = -4.52000000000000 F_z_v  = -1.6492164975024313\n",
      "Ra1 = 0.300000000000000 Ra2 = 1.50000000000000 Za = -4.52000000000000 F_z_sv = -0.44922231005693014\n",
      "Ra1 = 0.300000000000000 Ra2 = 1.50000000000000 Za = -4.52000000000000 F_z    = 2.1393136628259364\n",
      "Za =  -4.52000000000000 F_lorenz_left_cylinder_left_t = (2.1393136628259364, 2.5885359728828665, -1.1999941874455011, -1.6492164975024313)\n",
      "dx =  0.0200000000000000 F_lorenz_cylinder =  4.931139456899709\n",
      "Ra = 0.900000000000000 Za = -1.53000000000000 H_phi_t = 5.523152664962625\n",
      "Ra = 0.900000000000000 Za = -1.53000000000000 H_phi_s = -5.9176981480472\n",
      "Ra = 0.900000000000000 Za = -1.53000000000000 H_phi   = -0.39454548308457493\n",
      "Ra1 = 0.300000000000000 Ra2 = 1.50000000000000 Za = -1.53000000000000 F_z_t  = 35.77198177785803\n",
      "Ra1 = 0.300000000000000 Ra2 = 1.50000000000000 Za = -1.53000000000000 F_z_s  = 13.264874592271312\n",
      "Ra1 = 0.300000000000000 Ra2 = 1.50000000000000 Za = -1.53000000000000 F_z_v  = -25.062910715158164\n",
      "Ra1 = 0.300000000000000 Ra2 = 1.50000000000000 Za = -1.53000000000000 F_z_sv = -38.32778530742948\n",
      "Ra1 = 0.300000000000000 Ra2 = 1.50000000000000 Za = -1.53000000000000 F_z    = -2.555803529571449\n",
      "Za =  -1.53000000000000 F_lorenz_left_cylinder_right_t =  (-2.555803529571449, 35.77198177785803, 13.264874592271312, -25.062910715158164)\n",
      "Ra1 = 0.300000000000000 Ra2 = 1.50000000000000 Za = -4.53000000000000 F_z_t  = 2.5731675439439097\n",
      "Ra1 = 0.300000000000000 Ra2 = 1.50000000000000 Za = -4.53000000000000 F_z_s  = -1.1942451718270144\n",
      "Ra1 = 0.300000000000000 Ra2 = 1.50000000000000 Za = -4.53000000000000 F_z_v  = -1.6387372358618733\n",
      "Ra1 = 0.300000000000000 Ra2 = 1.50000000000000 Za = -4.53000000000000 F_z_sv = -0.44449206403485886\n",
      "Ra1 = 0.300000000000000 Ra2 = 1.50000000000000 Za = -4.53000000000000 F_z    = 2.1286754799090506\n",
      "Za =  -4.53000000000000 F_lorenz_left_cylinder_left_t = (2.1286754799090506, 2.5731675439439097, -1.1942451718270144, -1.6387372358618733)\n",
      "dx =  0.0300000000000000 F_lorenz_cylinder =  4.6844790094805\n",
      "Ra = 0.900000000000000 Za = -1.54000000000000 H_phi_t = 5.462789491177652\n",
      "Ra = 0.900000000000000 Za = -1.54000000000000 H_phi_s = -5.82134542540574\n",
      "Ra = 0.900000000000000 Za = -1.54000000000000 H_phi   = -0.35855593422808774\n",
      "Ra1 = 0.300000000000000 Ra2 = 1.50000000000000 Za = -1.54000000000000 F_z_t  = 35.00621642333614\n",
      "Ra1 = 0.300000000000000 Ra2 = 1.50000000000000 Za = -1.54000000000000 F_z_s  = 12.591451101544495\n",
      "Ra1 = 0.300000000000000 Ra2 = 1.50000000000000 Za = -1.54000000000000 F_z_v  = -24.740282029164717\n",
      "Ra1 = 0.300000000000000 Ra2 = 1.50000000000000 Za = -1.54000000000000 F_z_sv = -37.33173313070921\n",
      "Ra1 = 0.300000000000000 Ra2 = 1.50000000000000 Za = -1.54000000000000 F_z    = -2.325516707373069\n",
      "Za =  -1.54000000000000 F_lorenz_left_cylinder_right_t =  (-2.325516707373069, 35.00621642333614, 12.591451101544495, -24.740282029164717)\n",
      "Ra1 = 0.300000000000000 Ra2 = 1.50000000000000 Za = -4.54000000000000 F_z_t  = 2.5579164561559646\n",
      "Ra1 = 0.300000000000000 Ra2 = 1.50000000000000 Za = -4.54000000000000 F_z_s  = -1.1885245305779182\n",
      "Ra1 = 0.300000000000000 Ra2 = 1.50000000000000 Za = -4.54000000000000 F_z_v  = -1.6283448789122072\n",
      "Ra1 = 0.300000000000000 Ra2 = 1.50000000000000 Za = -4.54000000000000 F_z_sv = -0.43982034833428907\n",
      "Ra1 = 0.300000000000000 Ra2 = 1.50000000000000 Za = -4.54000000000000 F_z    = 2.1180961078216756\n",
      "Za =  -4.54000000000000 F_lorenz_left_cylinder_left_t = (2.1180961078216756, 2.5579164561559646, -1.1885245305779182, -1.6283448789122072)\n",
      "dx =  0.0400000000000000 F_lorenz_cylinder =  4.4436128151947445\n",
      "Ra = 0.900000000000000 Za = -1.55000000000000 H_phi_t = 5.402536300707759\n",
      "Ra = 0.900000000000000 Za = -1.55000000000000 H_phi_s = -5.725861856562527\n",
      "Ra = 0.900000000000000 Za = -1.55000000000000 H_phi   = -0.3233255558547681\n",
      "Ra1 = 0.300000000000000 Ra2 = 1.50000000000000 Za = -1.55000000000000 F_z_t  = 34.29719339418374\n",
      "Ra1 = 0.300000000000000 Ra2 = 1.50000000000000 Za = -1.55000000000000 F_z_s  = 11.975001442037618\n",
      "Ra1 = 0.300000000000000 Ra2 = 1.50000000000000 Za = -1.55000000000000 F_z_v  = -24.423002377518888\n",
      "Ra1 = 0.300000000000000 Ra2 = 1.50000000000000 Za = -1.55000000000000 F_z_sv = -36.39800381955651\n",
      "Ra1 = 0.300000000000000 Ra2 = 1.50000000000000 Za = -1.55000000000000 F_z    = -2.1008104253727637\n",
      "Za =  -1.55000000000000 F_lorenz_left_cylinder_right_t =  (-2.1008104253727637, 34.29719339418374, 11.975001442037618, -24.423002377518888)\n",
      "Ra1 = 0.300000000000000 Ra2 = 1.50000000000000 Za = -4.55000000000000 F_z_t  = 2.542781629722931\n",
      "Ra1 = 0.300000000000000 Ra2 = 1.50000000000000 Za = -4.55000000000000 F_z_s  = -1.1828322104349442\n",
      "Ra1 = 0.300000000000000 Ra2 = 1.50000000000000 Za = -4.55000000000000 F_z_v  = -1.6180385478173578\n",
      "Ra1 = 0.300000000000000 Ra2 = 1.50000000000000 Za = -4.55000000000000 F_z_sv = -0.43520633738241354\n",
      "Ra1 = 0.300000000000000 Ra2 = 1.50000000000000 Za = -4.55000000000000 F_z    = 2.1075752923405173\n",
      "Za =  -4.55000000000000 F_lorenz_left_cylinder_left_t = (2.1075752923405173, 2.542781629722931, -1.1828322104349442, -1.6180385478173578)\n",
      "dx =  0.0500000000000000 F_lorenz_cylinder =  4.208385717713281\n",
      "Ra = 0.900000000000000 Za = -1.60000000000000 H_phi_t = 5.104026645838175\n",
      "Ra = 0.900000000000000 Za = -1.60000000000000 H_phi_s = -5.262305326689837\n",
      "Ra = 0.900000000000000 Za = -1.60000000000000 H_phi   = -0.1582786808516623\n",
      "Ra1 = 0.300000000000000 Ra2 = 1.50000000000000 Za = -1.60000000000000 F_z_t  = 31.30277052421018\n",
      "Ra1 = 0.300000000000000 Ra2 = 1.50000000000000 Za = -1.60000000000000 F_z_s  = 9.447236677606481\n",
      "Ra1 = 0.300000000000000 Ra2 = 1.50000000000000 Za = -1.60000000000000 F_z_v  = -22.91195571421546\n",
      "Ra1 = 0.300000000000000 Ra2 = 1.50000000000000 Za = -1.60000000000000 F_z_sv = -32.35919239182194\n",
      "Ra1 = 0.300000000000000 Ra2 = 1.50000000000000 Za = -1.60000000000000 F_z    = -1.0564218676117605\n",
      "Za =  -1.60000000000000 F_lorenz_left_cylinder_right_t =  (-1.0564218676117605, 31.30277052421018, 9.447236677606481, -22.91195571421546)\n"
     ]
    },
    {
     "name": "stdout",
     "output_type": "stream",
     "text": [
      "Ra1 = 0.300000000000000 Ra2 = 1.50000000000000 Za = -4.60000000000000 F_z_t  = 2.4688144249013226\n",
      "Ra1 = 0.300000000000000 Ra2 = 1.50000000000000 Za = -4.60000000000000 F_z_s  = -1.1547933842267941\n",
      "Ra1 = 0.300000000000000 Ra2 = 1.50000000000000 Za = -4.60000000000000 F_z_v  = -1.567767239274337\n",
      "Ra1 = 0.300000000000000 Ra2 = 1.50000000000000 Za = -4.60000000000000 F_z_sv = -0.4129738550475428\n",
      "Ra1 = 0.300000000000000 Ra2 = 1.50000000000000 Za = -4.60000000000000 F_z    = 2.05584056985378\n",
      "Za =  -4.60000000000000 F_lorenz_left_cylinder_left_t = (2.05584056985378, 2.4688144249013226, -1.1547933842267941, -1.567767239274337)\n",
      "dx =  0.100000000000000 F_lorenz_cylinder =  3.1122624374655405\n",
      "Ra = 0.900000000000000 Za = -1.70000000000000 H_phi_t = 4.532025131552119\n",
      "Ra = 0.900000000000000 Za = -1.70000000000000 H_phi_s = -4.412225502750756\n",
      "Ra = 0.900000000000000 Za = -1.70000000000000 H_phi   = 0.11979962880136341\n",
      "Ra1 = 0.300000000000000 Ra2 = 1.50000000000000 Za = -1.70000000000000 F_z_t  = 26.83026169901379\n",
      "Ra1 = 0.300000000000000 Ra2 = 1.50000000000000 Za = -1.70000000000000 F_z_s  = 5.9284305917488265\n",
      "Ra1 = 0.300000000000000 Ra2 = 1.50000000000000 Za = -1.70000000000000 F_z_v  = -20.223414476031195\n",
      "Ra1 = 0.300000000000000 Ra2 = 1.50000000000000 Za = -1.70000000000000 F_z_sv = -26.151845067780023\n",
      "Ra1 = 0.300000000000000 Ra2 = 1.50000000000000 Za = -1.70000000000000 F_z    = 0.678416631233766\n",
      "Za =  -1.70000000000000 F_lorenz_left_cylinder_right_t =  (0.678416631233766, 26.83026169901379, 5.9284305917488265, -20.223414476031195)\n",
      "Ra1 = 0.300000000000000 Ra2 = 1.50000000000000 Za = -4.70000000000000 F_z_t  = 2.329010472479932\n",
      "Ra1 = 0.300000000000000 Ra2 = 1.50000000000000 Za = -4.70000000000000 F_z_s  = -1.1008024322864587\n",
      "Ra1 = 0.300000000000000 Ra2 = 1.50000000000000 Za = -4.70000000000000 F_z_v  = -1.4731996651636576\n",
      "Ra1 = 0.300000000000000 Ra2 = 1.50000000000000 Za = -4.70000000000000 F_z_sv = -0.37239723287719895\n",
      "Ra1 = 0.300000000000000 Ra2 = 1.50000000000000 Za = -4.70000000000000 F_z    = 1.956613239602733\n",
      "Za =  -4.70000000000000 F_lorenz_left_cylinder_left_t = (1.956613239602733, 2.329010472479932, -1.1008024322864587, -1.4731996651636576)\n",
      "dx =  0.200000000000000 F_lorenz_cylinder =  1.2781966083689669\n",
      "Ra = 0.900000000000000 Za = -1.80000000000000 H_phi_t = 4.010703681798262\n",
      "Ra = 0.900000000000000 Za = -1.80000000000000 H_phi_s = -3.6743802566872317\n",
      "Ra = 0.900000000000000 Za = -1.80000000000000 H_phi   = 0.3363234251110301\n",
      "Ra1 = 0.300000000000000 Ra2 = 1.50000000000000 Za = -1.80000000000000 F_z_t  = 23.454309059452168\n",
      "Ra1 = 0.300000000000000 Ra2 = 1.50000000000000 Za = -1.80000000000000 F_z_s  = 3.5308150032122145\n",
      "Ra1 = 0.300000000000000 Ra2 = 1.50000000000000 Za = -1.80000000000000 F_z_v  = -17.911261669403345\n",
      "Ra1 = 0.300000000000000 Ra2 = 1.50000000000000 Za = -1.80000000000000 F_z_sv = -21.44207667261556\n",
      "Ra1 = 0.300000000000000 Ra2 = 1.50000000000000 Za = -1.80000000000000 F_z    = 2.012232386836608\n",
      "Za =  -1.80000000000000 F_lorenz_left_cylinder_right_t =  (2.012232386836608, 23.454309059452168, 3.5308150032122145, -17.911261669403345)\n",
      "Ra1 = 0.300000000000000 Ra2 = 1.50000000000000 Za = -4.80000000000000 F_z_t  = 2.199260631961021\n",
      "Ra1 = 0.300000000000000 Ra2 = 1.50000000000000 Za = -4.80000000000000 F_z_s  = -1.0495269906986586\n",
      "Ra1 = 0.300000000000000 Ra2 = 1.50000000000000 Za = -4.80000000000000 F_z_v  = -1.3859675722151708\n",
      "Ra1 = 0.300000000000000 Ra2 = 1.50000000000000 Za = -4.80000000000000 F_z_sv = -0.3364405815165121\n",
      "Ra1 = 0.300000000000000 Ra2 = 1.50000000000000 Za = -4.80000000000000 F_z    = 1.862820050444509\n",
      "Za =  -4.80000000000000 F_lorenz_left_cylinder_left_t = (1.862820050444509, 2.199260631961021, -1.0495269906986586, -1.3859675722151708)\n",
      "dx =  0.300000000000000 F_lorenz_cylinder =  -0.14941233639209917\n",
      "Ra = 0.900000000000000 Za = -1.90000000000000 H_phi_t = 3.550262238677148\n",
      "Ra = 0.900000000000000 Za = -1.90000000000000 H_phi_s = -3.0495343274211564\n",
      "Ra = 0.900000000000000 Za = -1.90000000000000 H_phi   = 0.5007279112559915\n",
      "Ra1 = 0.300000000000000 Ra2 = 1.50000000000000 Za = -1.90000000000000 F_z_t  = 20.747164914022466\n",
      "Ra1 = 0.300000000000000 Ra2 = 1.50000000000000 Za = -1.90000000000000 F_z_s  = 1.8176608557143106\n",
      "Ra1 = 0.300000000000000 Ra2 = 1.50000000000000 Za = -1.90000000000000 F_z_v  = -15.91311424952833\n",
      "Ra1 = 0.300000000000000 Ra2 = 1.50000000000000 Za = -1.90000000000000 F_z_sv = -17.730775105242643\n",
      "Ra1 = 0.300000000000000 Ra2 = 1.50000000000000 Za = -1.90000000000000 F_z    = 3.0163898087798238\n",
      "Za =  -1.90000000000000 F_lorenz_left_cylinder_right_t =  (3.0163898087798238, 20.747164914022466, 1.8176608557143106, -15.91311424952833)\n",
      "Ra1 = 0.300000000000000 Ra2 = 1.50000000000000 Za = -4.90000000000000 F_z_t  = 2.078703471597471\n",
      "Ra1 = 0.300000000000000 Ra2 = 1.50000000000000 Za = -4.90000000000000 F_z_s  = -1.0008743733563057\n",
      "Ra1 = 0.300000000000000 Ra2 = 1.50000000000000 Za = -4.90000000000000 F_z_v  = -1.3053860581481458\n",
      "Ra1 = 0.300000000000000 Ra2 = 1.50000000000000 Za = -4.90000000000000 F_z_sv = -0.3045116847918401\n",
      "Ra1 = 0.300000000000000 Ra2 = 1.50000000000000 Za = -4.90000000000000 F_z    = 1.7741917868056307\n",
      "Za =  -4.90000000000000 F_lorenz_left_cylinder_left_t = (1.7741917868056307, 2.078703471597471, -1.0008743733563057, -1.3053860581481458)\n",
      "dx =  0.400000000000000 F_lorenz_cylinder =  -1.242198021974193\n",
      "Ra = 0.900000000000000 Za = -2.00000000000000 H_phi_t = 3.151068876244242\n",
      "Ra = 0.900000000000000 Za = -2.00000000000000 H_phi_s = -2.5292097740438\n",
      "Ra = 0.900000000000000 Za = -2.00000000000000 H_phi   = 0.621859102200442\n",
      "Ra1 = 0.300000000000000 Ra2 = 1.50000000000000 Za = -2.00000000000000 F_z_t  = 18.505362532016036\n",
      "Ra1 = 0.300000000000000 Ra2 = 1.50000000000000 Za = -2.00000000000000 F_z_s  = 0.5733992830302908\n",
      "Ra1 = 0.300000000000000 Ra2 = 1.50000000000000 Za = -2.00000000000000 F_z_v  = -14.18001767483376\n",
      "Ra1 = 0.300000000000000 Ra2 = 1.50000000000000 Za = -2.00000000000000 F_z_sv = -14.75341695786405\n",
      "Ra1 = 0.300000000000000 Ra2 = 1.50000000000000 Za = -2.00000000000000 F_z    = 3.7519455741519856\n",
      "Za =  -2.00000000000000 F_lorenz_left_cylinder_right_t =  (3.7519455741519856, 18.505362532016036, 0.5733992830302908, -14.18001767483376)\n",
      "Ra1 = 0.300000000000000 Ra2 = 1.50000000000000 Za = -5.00000000000000 F_z_t  = 1.9665622065905095\n",
      "Ra1 = 0.300000000000000 Ra2 = 1.50000000000000 Za = -5.00000000000000 F_z_s  = -0.9547420044208448\n",
      "Ra1 = 0.300000000000000 Ra2 = 1.50000000000000 Za = -5.00000000000000 F_z_v  = -1.2308440274182935\n",
      "Ra1 = 0.300000000000000 Ra2 = 1.50000000000000 Za = -5.00000000000000 F_z_sv = -0.2761020229974487\n",
      "Ra1 = 0.300000000000000 Ra2 = 1.50000000000000 Za = -5.00000000000000 F_z    = 1.6904601835930608\n",
      "Za =  -5.00000000000000 F_lorenz_left_cylinder_left_t = (1.6904601835930608, 1.9665622065905095, -0.9547420044208448, -1.2308440274182935)\n",
      "dx =  0.500000000000000 F_lorenz_cylinder =  -2.061485390558925\n",
      "Ra = 0.900000000000000 Za = -2.50000000000000 H_phi_t = 1.847379009779727\n",
      "Ra = 0.900000000000000 Za = -2.50000000000000 H_phi_s = -1.0286117861210633\n",
      "Ra = 0.900000000000000 Za = -2.50000000000000 H_phi   = 0.8187672236586636\n",
      "Ra1 = 0.300000000000000 Ra2 = 1.50000000000000 Za = -2.50000000000000 F_z_t  = 11.25438513763216\n",
      "Ra1 = 0.300000000000000 Ra2 = 1.50000000000000 Za = -2.50000000000000 F_z_s  = -2.0090288906285236\n",
      "Ra1 = 0.300000000000000 Ra2 = 1.50000000000000 Za = -2.50000000000000 F_z_v  = -8.304857746496936\n",
      "Ra1 = 0.300000000000000 Ra2 = 1.50000000000000 Za = -2.50000000000000 F_z_sv = -6.295828855868412\n",
      "Ra1 = 0.300000000000000 Ra2 = 1.50000000000000 Za = -2.50000000000000 F_z    = 4.958556281763749\n",
      "Za =  -2.50000000000000 F_lorenz_left_cylinder_right_t =  (4.958556281763749, 11.25438513763216, -2.0090288906285236, -8.304857746496936)\n",
      "Ra1 = 0.300000000000000 Ra2 = 1.50000000000000 Za = -5.50000000000000 F_z_t  = 1.509746923168937\n",
      "Ra1 = 0.300000000000000 Ra2 = 1.50000000000000 Za = -5.50000000000000 F_z_s  = -0.7580242194810421\n",
      "Ra1 = 0.300000000000000 Ra2 = 1.50000000000000 Za = -5.50000000000000 F_z_v  = -0.9314741757130003\n",
      "Ra1 = 0.300000000000000 Ra2 = 1.50000000000000 Za = -5.50000000000000 F_z_sv = -0.17344995623195814\n",
      "Ra1 = 0.300000000000000 Ra2 = 1.50000000000000 Za = -5.50000000000000 F_z    = 1.3362969669369789\n",
      "Za =  -5.50000000000000 F_lorenz_left_cylinder_left_t = (1.3362969669369789, 1.509746923168937, -0.7580242194810421, -0.9314741757130003)\n",
      "dx =  1.00000000000000 F_lorenz_cylinder =  -3.62225931482677\n"
     ]
    },
    {
     "name": "stdout",
     "output_type": "stream",
     "text": [
      "Ra = 0.900000000000000 Za = -3.00000000000000 H_phi_t = 1.179315695643001\n",
      "Ra = 0.900000000000000 Za = -3.00000000000000 H_phi_s = -0.45768724097956026\n",
      "Ra = 0.900000000000000 Za = -3.00000000000000 H_phi   = 0.7216284546634408\n",
      "Ra1 = 0.300000000000000 Ra2 = 1.50000000000000 Za = -3.00000000000000 F_z_t  = 7.36207611516913\n",
      "Ra1 = 0.300000000000000 Ra2 = 1.50000000000000 Za = -3.00000000000000 F_z_s  = -2.234935648368841\n",
      "Ra1 = 0.300000000000000 Ra2 = 1.50000000000000 Za = -3.00000000000000 F_z_v  = -5.176717938808026\n",
      "Ra1 = 0.300000000000000 Ra2 = 1.50000000000000 Za = -3.00000000000000 F_z_sv = -2.941782290439185\n",
      "Ra1 = 0.300000000000000 Ra2 = 1.50000000000000 Za = -3.00000000000000 F_z    = 4.420293824729946\n",
      "Za =  -3.00000000000000 F_lorenz_left_cylinder_right_t =  (4.420293824729946, 7.36207611516913, -2.234935648368841, -5.176717938808026)\n",
      "Ra1 = 0.300000000000000 Ra2 = 1.50000000000000 Za = -6.00000000000000 F_z_t  = 1.1819339645567772\n",
      "Ra1 = 0.300000000000000 Ra2 = 1.50000000000000 Za = -6.00000000000000 F_z_s  = -0.6080281055700572\n",
      "Ra1 = 0.300000000000000 Ra2 = 1.50000000000000 Za = -6.00000000000000 F_z_v  = -0.7211140013979018\n",
      "Ra1 = 0.300000000000000 Ra2 = 1.50000000000000 Za = -6.00000000000000 F_z_sv = -0.11308589582784467\n",
      "Ra1 = 0.300000000000000 Ra2 = 1.50000000000000 Za = -6.00000000000000 F_z    = 1.0688480687289326\n",
      "Za =  -6.00000000000000 F_lorenz_left_cylinder_left_t = (1.0688480687289326, 1.1819339645567772, -0.6080281055700572, -0.7211140013979018)\n",
      "dx =  1.50000000000000 F_lorenz_cylinder =  -3.351445756001013\n",
      "Ra = 0.900000000000000 Za = -3.50000000000000 H_phi_t = 0.7948884437798355\n",
      "Ra = 0.900000000000000 Za = -3.50000000000000 H_phi_s = -0.2222332552136168\n",
      "Ra = 0.900000000000000 Za = -3.50000000000000 H_phi   = 0.5726551885662187\n",
      "Ra1 = 0.300000000000000 Ra2 = 1.50000000000000 Za = -3.50000000000000 F_z_t  = 5.0433466641048765\n",
      "Ra1 = 0.300000000000000 Ra2 = 1.50000000000000 Za = -3.50000000000000 F_z_s  = -1.9181700227534269\n",
      "Ra1 = 0.300000000000000 Ra2 = 1.50000000000000 Za = -3.50000000000000 F_z_v  = -3.4031628639664406\n",
      "Ra1 = 0.300000000000000 Ra2 = 1.50000000000000 Za = -3.50000000000000 F_z_sv = -1.4849928412130138\n",
      "Ra1 = 0.300000000000000 Ra2 = 1.50000000000000 Za = -3.50000000000000 F_z    = 3.5583538228918625\n",
      "Za =  -3.50000000000000 F_lorenz_left_cylinder_right_t =  (3.5583538228918625, 5.0433466641048765, -1.9181700227534269, -3.4031628639664406)\n",
      "Ra1 = 0.300000000000000 Ra2 = 1.50000000000000 Za = -6.50000000000000 F_z_t  = 0.9412981201938949\n",
      "Ra1 = 0.300000000000000 Ra2 = 1.50000000000000 Za = -6.50000000000000 F_z_s  = -0.4931058316639564\n",
      "Ra1 = 0.300000000000000 Ra2 = 1.50000000000000 Za = -6.50000000000000 F_z_v  = -0.569243968725318\n",
      "Ra1 = 0.300000000000000 Ra2 = 1.50000000000000 Za = -6.50000000000000 F_z_sv = -0.07613813706136163\n",
      "Ra1 = 0.300000000000000 Ra2 = 1.50000000000000 Za = -6.50000000000000 F_z    = 0.8651599831325333\n",
      "Za =  -6.50000000000000 F_lorenz_left_cylinder_left_t = (0.8651599831325333, 0.9412981201938949, -0.4931058316639564, -0.569243968725318)\n",
      "dx =  2.00000000000000 F_lorenz_cylinder =  -2.693193839759329\n"
     ]
    }
   ],
   "source": [
    "plot_data_f_dz = []\n",
    "plot_data_f_Za = []\n",
    "plot_data_h = []\n",
    "plot_data_h_t = []\n",
    "plot_data_h_s = []\n",
    "\n",
    "Ra = (Rj1 + Rj2) / 2\n",
    "for dz in (0.01, 0.02, 0.03, 0.04, 0.05, 0.1, 0.2, 0.3, 0.4, 0.5, 1.0, 1.5, 2.0):\n",
    "    Za = Zj1 - dz\n",
    "    h = calc_H_phi( At_diff_za_substituted_zj, As_diff_ra_substituted_rj, Za, Ra)\n",
    "    f = calc_F_lorenz_cylinder(dz)\n",
    "    plot_data_h += [(Za, h[0])]\n",
    "    plot_data_h_t += [(Za, h[1])]\n",
    "    plot_data_h_s += [(Za, h[2])]\n",
    "    plot_data_f_dz += [(dz, f)]\n",
    "    plot_data_f_Za += [(Za, f)]\n"
   ]
  },
  {
   "cell_type": "markdown",
   "metadata": {},
   "source": [
    "Результирующий график силы Лоренца приложенной к левому цилиндру в зависимости от зазора"
   ]
  },
  {
   "cell_type": "code",
   "execution_count": 26,
   "metadata": {},
   "outputs": [
    {
     "data": {
      "image/png": "[encoded data removed]",
      "text/plain": [
       "Graphics object consisting of 1 graphics primitive"
      ]
     },
     "metadata": {},
     "output_type": "display_data"
    }
   ],
   "source": [
    "list_plot(plot_data_f_dz).show()"
   ]
  },
  {
   "cell_type": "markdown",
   "metadata": {},
   "source": [
    "Результирующий график силы Лоренца приложенной к левому цилиндру в зависимости от координаты правого торца левого цилиндра"
   ]
  },
  {
   "cell_type": "code",
   "execution_count": 27,
   "metadata": {},
   "outputs": [
    {
     "data": {
      "image/png": "[encoded data removed]",
      "text/plain": [
       "Graphics object consisting of 1 graphics primitive"
      ]
     },
     "metadata": {},
     "output_type": "display_data"
    }
   ],
   "source": [
    "list_plot(plot_data_f_Za).show()"
   ]
  },
  {
   "cell_type": "markdown",
   "metadata": {},
   "source": [
    "Результирующий график векторного магнитного поля $H$ (компонента $\\varphi$) в зависимости от координаты точки наблюдения $Z_a$"
   ]
  },
  {
   "cell_type": "code",
   "execution_count": 28,
   "metadata": {},
   "outputs": [
    {
     "data": {
      "image/png": "[encoded data removed]",
      "text/plain": [
       "Graphics object consisting of 1 graphics primitive"
      ]
     },
     "metadata": {},
     "output_type": "display_data"
    }
   ],
   "source": [
    "list_plot(plot_data_h).show()"
   ]
  },
  {
   "cell_type": "markdown",
   "metadata": {},
   "source": [
    "Результат расчёта силы Лоренца взаимодействия тороидально намагниченных цилиндров в опыте Дейны (опыт Николаева номер 31)"
   ]
  },
  {
   "cell_type": "markdown",
   "metadata": {},
   "source": [
    "Результаты расчёта силы притяжения между тороидально намагниченными цилиндрами (поперечная сила Ампера-Лоренца) в зависимости от зазора в сантиметрах. Размеры цилиндров: диаметр 30 мм, длина 30 мм, диаметр внутреннего сверления 6 мм. На графике зазор в сантиметрах. Сила в относительных единицах."
   ]
  },
  {
   "cell_type": "code",
   "execution_count": 29,
   "metadata": {},
   "outputs": [],
   "source": [
    "F_lorenz_cylinder = \\\n",
    "[(0.01, 5.183770705060512), \\\n",
    " (0.02, 4.931139456899709), \\\n",
    " (0.03, 4.6844790094805), \\\n",
    " (0.04, 4.4436128151947445), \\\n",
    " (0.05, 4.208385717713281), \\\n",
    " (0.10, 3.1122624374655405), \\\n",
    " (0.20, 1.2781966083689669), \\\n",
    " (0.30, -0.14941233639209917), \\\n",
    " (0.40, -1.242198021974193), \\\n",
    " (0.50, -2.061485390558925), \\\n",
    " (1.00, -3.62225931482677), \\\n",
    " (1.50, -3.351445756001013), \\\n",
    " (2.00, -2.693193839759329)]"
   ]
  },
  {
   "cell_type": "code",
   "execution_count": 30,
   "metadata": {},
   "outputs": [
    {
     "data": {
      "image/png": "[encoded data removed]",
      "text/plain": [
       "Graphics object consisting of 1 graphics primitive"
      ]
     },
     "metadata": {},
     "output_type": "display_data"
    }
   ],
   "source": [
    "list_plot(F_lorenz_cylinder).show()"
   ]
  },
  {
   "cell_type": "markdown",
   "metadata": {},
   "source": [
    "Таким образом в данной работе показано, что для доказательства существования продольной силы совершенно недостаточно установления факта притяжения цилиндров при зазоре между их торцами менее 3 мм. Поэтому для дальнейших исследований необходима следующая постановка эксперимента. Установить зазор между цилиндрами более 3 мм. И показать направление силы их взаимодействия: притягивание или отталкивание."
   ]
  },
  {
   "cell_type": "code",
   "execution_count": null,
   "metadata": {},
   "outputs": [],
   "source": []
  }
 ],
 "metadata": {
  "kernelspec": {
   "display_name": "SageMath 9.0",
   "language": "sage",
   "name": "sagemath"
  },
  "language_info": {
   "codemirror_mode": {
    "name": "ipython",
    "version": 3
   },
   "file_extension": ".py",
   "mimetype": "text/x-python",
   "name": "python",
   "nbconvert_exporter": "python",
   "pygments_lexer": "ipython3",
   "version": "3.7.3"
  }
 },
 "nbformat": 4,
 "nbformat_minor": 2
}
