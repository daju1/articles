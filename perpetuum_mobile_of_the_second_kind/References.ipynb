{
 "cells": [
  {
   "cell_type": "markdown",
   "id": "b7c22d45",
   "metadata": {},
   "source": [
    "# Perpetuum mobile of the second kind"
   ]
  },
  {
   "cell_type": "markdown",
   "id": "620f6505",
   "metadata": {},
   "source": [
    "References"
   ]
  },
  {
   "cell_type": "markdown",
   "id": "f8db8ed9",
   "metadata": {},
   "source": [
    "О.А.Лаврентьев. Экспериментальные доказательства возможности преобразования тепловой энергии хаотического движения частиц непосредственно в электрическую. ХФТИ.  1992\n",
    "https://daju.narod.ru/Maxwell/LavrentyevOA.pdf"
   ]
  },
  {
   "cell_type": "markdown",
   "id": "0cc9a6d3",
   "metadata": {},
   "source": [
    "В.Е.Жвирблис. Феноменологическое описание и экспериментальное исследование некоторых кольцаров\n",
    "https://github.com/daju1/articles/blob/master/references/Maxwells_demon/V.E.Zhvirblis.pdf"
   ]
  },
  {
   "cell_type": "code",
   "execution_count": null,
   "id": "a2269a4c",
   "metadata": {},
   "outputs": [],
   "source": []
  }
 ],
 "metadata": {
  "kernelspec": {
   "display_name": "SageMath 9.6.beta7",
   "language": "sage",
   "name": "sagemath"
  },
  "language_info": {
   "codemirror_mode": {
    "name": "ipython",
    "version": 3
   },
   "file_extension": ".py",
   "mimetype": "text/x-python",
   "name": "python",
   "nbconvert_exporter": "python",
   "pygments_lexer": "ipython3",
   "version": "3.10.3"
  }
 },
 "nbformat": 4,
 "nbformat_minor": 5
}
