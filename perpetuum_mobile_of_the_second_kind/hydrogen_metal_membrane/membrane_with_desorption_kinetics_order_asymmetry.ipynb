{
 "cells": [
  {
   "cell_type": "markdown",
   "id": "50932f6b",
   "metadata": {},
   "source": [
    "# Мембрана с асимметрией порядка кинетики десорбции"
   ]
  },
  {
   "cell_type": "markdown",
   "id": "c0b713fd",
   "metadata": {},
   "source": [
    "Я не рассматривал (пока что) теоретически такую несимметричную мембрану для которой одна поверхность характеризовалась бы (преимущественной) кинетикой десорбции первого порядка, а вторая поверхность характеризовалась бы преимущественной кинетикой второго порядка.\n",
    " \n",
    "Есть предположение, что мембрана с несимметрией также и порядка кинетики десорбции может оказаться перспективным объектом в плане установления самоподдерживающегося (за счет внутренней тепловой энергии) потока водорода"
   ]
  },
  {
   "cell_type": "markdown",
   "id": "58382da1",
   "metadata": {},
   "source": [
    " Кинетика растворения и выделения водорода металлами\n",
    "\n",
    "Растворение и выделение водорода металлами следует рассматривать как многоступенчатые процессы. \n",
    "\n",
    "В этом случае процесс тепловой эволюции имеет порядок $n$ по приповерхностной концентрации $c$ растворенного водорода, и вероятность термического растворения молекулы газообразного водорода при одном ударе о поверхность металла равна вероятности диссоциативного связывания молекулы, $\\alpha$. Соответственно, скорости термического растворения, $j_a$, и эволюции, $j_r$, даются (при условии, что покрытие поверхности водородом далеко от насыщения) следующими выражениями\n",
    "\n",
    "\\begin{equation}\n",
    "\\begin{array}{lr}\n",
    "\\begin{array}{ll}\n",
    "j_{a0} = \\alpha_0 Z p, & j_{r0} = k_{r_0} c_0^{n_0} , \\\\\\\\\n",
    "j_{aL} = \\alpha_L Z p, & j_{rL} = k_{r_L} c_L^{n_L} , \\\\\\\\\n",
    "\\end{array} & (1) \\\\\\\\\n",
    "\\end{array}\n",
    "\\end{equation}"
   ]
  },
  {
   "cell_type": "markdown",
   "id": "0f725a4b",
   "metadata": {},
   "source": [
    "где $p$ - давление водорода, $Z$ - коэффициент кинетической теории\n",
    "коэффициент ($Z = (2 \\pi m k T)^{-1/2}$, где $m$ - масса\n",
    "масса молекулы газа, а $k$ - постоянная Больцмана; $Z \\approx 1.2 \\times 10^{19} H_2 \\big /(см^2 \\, с \\, Па)$ при 20 $^{\\circ}C$), $k_{rO}$ и $k_{rL}$ - константы скорости эволюции, с индексами $0$ и $L$, относящимися к поверхностям входа (вверх по течению) и выхода (вниз по течению), соответственно. Вероятности $\\alpha$ могут быть представлены в виде\n",
    "\n",
    "\\begin{equation}\n",
    "\\begin{array}{l}\n",
    "\\begin{array}{lr}\n",
    "\\alpha_0 = \\alpha_{0}^{*}  \\sigma_0 \\, exp\\left[ -2 \\left(E_{a1}\\right)_0 \\right / RT], \\\\\\\\\n",
    "\\alpha_L = \\alpha_{L}^{*} \\sigma_L \\, exp\\left[ -2 \\left(E_{a1}\\right)_L\\right / RT], \\\\\\\\\n",
    "\\end{array} & (2)\\\\\\\\\n",
    "\\end{array}\n",
    "\\end{equation}"
   ]
  },
  {
   "cell_type": "markdown",
   "id": "5db6d715",
   "metadata": {},
   "source": [
    "барьеры $E_{a1}$ показаны на рис. 1. Величины $\\alpha_{0}^{*}$ и $\\alpha_{L}^{*}$ являются предэкспоненциалами порядка $0.1-1$, а $\\sigma_0$ и $\\sigma_L$ - доли поверхности, занятые центрами, активными в рассматриваемой кинетике растворения-эволюции # (для однородной поверхности $\\sigma = 1$).\n",
    "\n",
    "Оставшаяся часть поверхности $1 - \\sigma$ имеет больший барьер $E_{a1}$."
   ]
  },
  {
   "cell_type": "markdown",
   "id": "83dd7d43",
   "metadata": {},
   "source": [
    "барьеры $E_{a1}$ показаны на рис. 1. Величины $\\alpha_{0}^{*}$ и $\\alpha_{L}^{*}$ являются предэкспоненциалами порядка $0.1-1$, а $\\sigma_0$ и $\\sigma_L$ - доли поверхности, занятые центрами, активными в рассматриваемой кинетике растворения-эволюции # (для однородной поверхности $\\sigma = 1$).\n",
    "\n",
    "Оставшаяся часть поверхности $1 - \\sigma$ имеет больший барьер $E_{a1}$."
   ]
  },
  {
   "cell_type": "markdown",
   "id": "071bf985",
   "metadata": {},
   "source": [
    "Согласно закону Фика\n",
    "\n",
    "\\begin{equation}\n",
    "j = - D \\frac{dc_{ab}}{dx}\n",
    "\\end{equation}\n",
    "\n",
    "где $D$ - коэффициент диффузии газа в материале мембраны, а $c_{ab}(X)$ - стационарное распределение плотности газа в мембране"
   ]
  },
  {
   "cell_type": "markdown",
   "id": "ee1f452c",
   "metadata": {},
   "source": [
    "\\begin{equation}\n",
    "\\begin{array}{l}\n",
    "\\begin{array}{llr}\n",
    "x = 0 & -D\\frac{d c_{ab}}{dx} = j_{a0} - j_{r0}, \\\\\n",
    "x = l & -D\\frac{d c_{ab}}{dx} = j_{rL} - j_{aL}, \\\\\n",
    "\\end{array} & (5)\\\\\n",
    "\\end{array}\n",
    "\\end{equation}"
   ]
  },
  {
   "cell_type": "markdown",
   "id": "1d6ded52",
   "metadata": {},
   "source": [
    "\\begin{equation}\n",
    "\\begin{array}{l}\n",
    "\\begin{array}{llr}\n",
    "x = 0 & -D\\frac{d c_{ab}}{dx} = \\alpha_0 Z p_0 - k_{r_0} c_0^{n_0}, \\\\\n",
    "x = l & -D\\frac{d c_{ab}}{dx} = k_{r_L} c_L^{n_L} - \\alpha_L Z p_L, \\\\\n",
    "\\end{array} & (5)\\\\\n",
    "\\end{array}\n",
    "\\end{equation}"
   ]
  },
  {
   "cell_type": "markdown",
   "id": "7b03a844",
   "metadata": {},
   "source": [
    "В уравнении (5) индексы «0» и «1» относятся, соответственно, к\n",
    "правой и левой сторонам мембраны (рис. 1). Из уравнений\n",
    "(3) и (5) и с учетом уравнения (4) получаем"
   ]
  },
  {
   "cell_type": "markdown",
   "id": "3ab4b4e0",
   "metadata": {},
   "source": [
    "\\begin{equation}\n",
    "\\begin{array}{l}\n",
    "\\begin{array}{llr}\n",
    "j = j_0 = j_l = \\alpha_0 Z p_0 - k_{r_0} c_0^{n_0} = k_{r_L} c_L^{n_L} - \\alpha_L Z p_L, \\\\\n",
    "\\end{array} & (5)\\\\\n",
    "\\end{array}\n",
    "\\end{equation}"
   ]
  },
  {
   "cell_type": "code",
   "execution_count": 21,
   "id": "49f6e5fb",
   "metadata": {},
   "outputs": [],
   "source": [
    "var(\"x,l,v, D, Z, alpha_0, p_0, k_0, c_0, n_0, alpha_l, p_l, k_l, c_l, n_l\")\n",
    "c = function(\"c\")(x)\n",
    "assume(n_0 > 0)\n",
    "assume(n_l > 0)\n",
    "from IPython.display import display, Math, Latex\n",
    "def disp(ex):\n",
    "    display(Math(latex(ex)))"
   ]
  },
  {
   "cell_type": "code",
   "execution_count": 22,
   "id": "3e2cf7d4",
   "metadata": {},
   "outputs": [
    {
     "data": {
      "text/latex": [
       "$\\displaystyle Z \\alpha_{0} p_{0} - k_{0} c\\left(0\\right)^{n_{0}} = -Z \\alpha_{l} p_{l} + k_{l} c\\left(l\\right)^{n_{l}}$"
      ],
      "text/plain": [
       "<IPython.core.display.Math object>"
      ]
     },
     "metadata": {},
     "output_type": "display_data"
    }
   ],
   "source": [
    "eq_j = alpha_0 * Z * p_0 - k_0*c(x=0)^n_0 == k_l*c(x=l)^n_l - alpha_l * Z * p_l\n",
    "disp(eq_j)"
   ]
  },
  {
   "cell_type": "code",
   "execution_count": 23,
   "id": "9a867384",
   "metadata": {},
   "outputs": [
    {
     "data": {
      "text/latex": [
       "$\\displaystyle \\left[c\\left(0\\right)^{n_{0}} = \\frac{Z \\alpha_{0} p_{0} + Z \\alpha_{l} p_{l} - k_{l} c\\left(l\\right)^{n_{l}}}{k_{0}}\\right]$"
      ],
      "text/plain": [
       "<IPython.core.display.Math object>"
      ]
     },
     "metadata": {},
     "output_type": "display_data"
    }
   ],
   "source": [
    "c0n0_sol_j = solve(eq_j, c(x=0)^n_0)\n",
    "disp(c0n0_sol_j)"
   ]
  },
  {
   "cell_type": "code",
   "execution_count": 24,
   "id": "be8f8f1e",
   "metadata": {},
   "outputs": [
    {
     "data": {
      "text/latex": [
       "$\\displaystyle \\left[c\\left(l\\right)^{n_{l}} = \\frac{Z \\alpha_{0} p_{0} + Z \\alpha_{l} p_{l} - k_{0} c\\left(0\\right)^{n_{0}}}{k_{l}}\\right]$"
      ],
      "text/plain": [
       "<IPython.core.display.Math object>"
      ]
     },
     "metadata": {},
     "output_type": "display_data"
    }
   ],
   "source": [
    "clnl_sol_j = solve(eq_j, c(x=l)^n_l)\n",
    "disp(clnl_sol_j)"
   ]
  },
  {
   "cell_type": "code",
   "execution_count": 36,
   "id": "f088d349",
   "metadata": {},
   "outputs": [
    {
     "data": {
      "text/latex": [
       "$\\displaystyle c\\left(0\\right) = \\left(\\frac{Z \\alpha_{0} p_{0} + Z \\alpha_{l} p_{l} - k_{l} c\\left(l\\right)^{n_{l}}}{k_{0}}\\right)^{\\left(\\frac{1}{n_{0}}\\right)}$"
      ],
      "text/plain": [
       "<IPython.core.display.Math object>"
      ]
     },
     "metadata": {},
     "output_type": "display_data"
    }
   ],
   "source": [
    "c0_sol_j = c(x=0) == c0n0_sol_j[0].rhs()^(1/n_0)\n",
    "disp(c0_sol_j)"
   ]
  },
  {
   "cell_type": "code",
   "execution_count": 38,
   "id": "986282ba",
   "metadata": {},
   "outputs": [
    {
     "data": {
      "text/latex": [
       "$\\displaystyle c\\left(l\\right) = \\left(\\frac{Z \\alpha_{0} p_{0} + Z \\alpha_{l} p_{l} - k_{0} c\\left(0\\right)^{n_{0}}}{k_{l}}\\right)^{\\left(\\frac{1}{n_{l}}\\right)}$"
      ],
      "text/plain": [
       "<IPython.core.display.Math object>"
      ]
     },
     "metadata": {},
     "output_type": "display_data"
    }
   ],
   "source": [
    "cl_sol_j = c(x=l) == clnl_sol_j[0].rhs()^(1/n_l)\n",
    "disp(cl_sol_j)"
   ]
  },
  {
   "cell_type": "markdown",
   "id": "43e394d3",
   "metadata": {},
   "source": [
    "\\begin{equation}\n",
    "\\begin{array}{l}\n",
    "\\begin{array}{llr}\n",
    "x = 0 & -D\\frac{d c_{ab}}{dx} = \\alpha_0 Z p_0 - k_{r_0} c_0^{n_0}, \\\\\n",
    "x = l & -D\\frac{d c_{ab}}{dx} = k_{r_L} c_L^{n_L} - \\alpha_L Z p_L, \\\\\n",
    "\\end{array} & (5)\\\\\n",
    "\\end{array}\n",
    "\\end{equation}"
   ]
  },
  {
   "cell_type": "markdown",
   "id": "8baa303a",
   "metadata": {},
   "source": [
    "интегрируем дифференциальные уравнения диффузии"
   ]
  },
  {
   "cell_type": "markdown",
   "id": "85285860",
   "metadata": {},
   "source": [
    "\\begin{equation}\n",
    "\\begin{array}{l}\n",
    "\\begin{array}{llr}\n",
    "x = 0 & -D\\,{d c} = \\left(\\alpha_0 Z p_0 - k_{r_0} c_0^{n_0}\\right){dx}, \\\\\n",
    "x = l & -D\\,{d c} = \\left(k_{r_L} c_L^{n_L} - \\alpha_L Z p_L\\right){dx}, \\\\\n",
    "\\end{array} & (5)\\\\\n",
    "\\end{array}\n",
    "\\end{equation}"
   ]
  },
  {
   "cell_type": "markdown",
   "id": "be4b8955",
   "metadata": {},
   "source": [
    "\\begin{equation}\n",
    "\\begin{array}{l}\n",
    "\\begin{array}{llr}\n",
    "x = 0 & -D \\int\\limits_{0}^{l}{d c} = \\left(\\alpha_0 Z p_0 - k_{r_0} c_0^{n_0}\\right)\\int\\limits_{0}^{l}{dx}, \\\\\n",
    "x = l & -D \\int\\limits_{0}^{l}{d c} = \\left(k_{r_L} c_L^{n_L} - \\alpha_L Z p_L\\right)\\int\\limits_{0}^{l}{dx}, \\\\\n",
    "\\end{array} & (5)\\\\\n",
    "\\end{array}\n",
    "\\end{equation}"
   ]
  },
  {
   "cell_type": "markdown",
   "id": "91650ca4",
   "metadata": {},
   "source": [
    "учитывая, что стационарное распределение плотности газа в мембране определяется из уравнения"
   ]
  },
  {
   "cell_type": "markdown",
   "id": "4aee46e7",
   "metadata": {},
   "source": [
    "\\begin{equation}\n",
    "\\frac{d^2 с}{dx^{2}} = 0\n",
    "\\end{equation}"
   ]
  },
  {
   "cell_type": "markdown",
   "id": "48dea2a9",
   "metadata": {},
   "source": [
    "получаем"
   ]
  },
  {
   "cell_type": "markdown",
   "id": "1733e2fa",
   "metadata": {},
   "source": [
    "\\begin{equation}\n",
    "\\begin{array}{l}\n",
    "\\begin{array}{llr}\n",
    "x = 0 & -D \\left(c_{{l}} - c_{{0}}\\right) = \\left(\\alpha_0 Z p_0 - k_{r_0} c_0^{n_0}\\right)\\, l, \\\\\n",
    "x = l & -D \\left(c_{{l}} - c_{{0}}\\right) = \\left(k_{r_L} c_L^{n_L} - \\alpha_L Z p_L\\right)\\,l\\\\\n",
    "\\end{array} & (5)\\\\\n",
    "\\end{array}\n",
    "\\end{equation}"
   ]
  },
  {
   "cell_type": "code",
   "execution_count": 25,
   "id": "77a1cb25",
   "metadata": {},
   "outputs": [],
   "source": [
    "eq_0_0l = - D * (c(x=l) - c(x=0)) == (alpha_0 * Z * p_0 - k_0*c(x=0)^n_0) * l\n",
    "eq_l_0l = - D * (c(x=l) - c(x=0)) == (k_l*c(x=l)^n_l - alpha_l * Z * p_l) * l"
   ]
  },
  {
   "cell_type": "code",
   "execution_count": 26,
   "id": "3e8627ac",
   "metadata": {},
   "outputs": [
    {
     "data": {
      "text/latex": [
       "$\\displaystyle D {\\left(c\\left(0\\right) - c\\left(l\\right)\\right)} = {\\left(Z \\alpha_{0} p_{0} - k_{0} c\\left(0\\right)^{n_{0}}\\right)} l$"
      ],
      "text/plain": [
       "<IPython.core.display.Math object>"
      ]
     },
     "metadata": {},
     "output_type": "display_data"
    },
    {
     "data": {
      "text/latex": [
       "$\\displaystyle D {\\left(c\\left(0\\right) - c\\left(l\\right)\\right)} = -{\\left(Z \\alpha_{l} p_{l} - k_{l} c\\left(l\\right)^{n_{l}}\\right)} l$"
      ],
      "text/plain": [
       "<IPython.core.display.Math object>"
      ]
     },
     "metadata": {},
     "output_type": "display_data"
    }
   ],
   "source": [
    "disp(eq_0_0l)\n",
    "disp(eq_l_0l)"
   ]
  },
  {
   "cell_type": "markdown",
   "id": "cff31040",
   "metadata": {},
   "source": [
    "Итак мы имеем систему из трёх уравнений с двумя неизвестными"
   ]
  },
  {
   "cell_type": "code",
   "execution_count": 27,
   "id": "00430981",
   "metadata": {},
   "outputs": [
    {
     "data": {
      "text/latex": [
       "$\\displaystyle Z \\alpha_{0} p_{0} - k_{0} c\\left(0\\right)^{n_{0}} = -Z \\alpha_{l} p_{l} + k_{l} c\\left(l\\right)^{n_{l}}$"
      ],
      "text/plain": [
       "<IPython.core.display.Math object>"
      ]
     },
     "metadata": {},
     "output_type": "display_data"
    },
    {
     "data": {
      "text/latex": [
       "$\\displaystyle D {\\left(c\\left(0\\right) - c\\left(l\\right)\\right)} = {\\left(Z \\alpha_{0} p_{0} - k_{0} c\\left(0\\right)^{n_{0}}\\right)} l$"
      ],
      "text/plain": [
       "<IPython.core.display.Math object>"
      ]
     },
     "metadata": {},
     "output_type": "display_data"
    },
    {
     "data": {
      "text/latex": [
       "$\\displaystyle D {\\left(c\\left(0\\right) - c\\left(l\\right)\\right)} = -{\\left(Z \\alpha_{l} p_{l} - k_{l} c\\left(l\\right)^{n_{l}}\\right)} l$"
      ],
      "text/plain": [
       "<IPython.core.display.Math object>"
      ]
     },
     "metadata": {},
     "output_type": "display_data"
    }
   ],
   "source": [
    "disp(eq_j)\n",
    "disp(eq_0_0l)\n",
    "disp(eq_l_0l)"
   ]
  },
  {
   "cell_type": "markdown",
   "id": "3f94306a",
   "metadata": {},
   "source": [
    "произведя подстановку выражений для $c(0)$ и $c(l)$, полученных из первого уравнения во второе и третье, получаем два отдельных уравнения для $c(0)$ и $c(l)$"
   ]
  },
  {
   "cell_type": "code",
   "execution_count": 41,
   "id": "6075ae8e",
   "metadata": {},
   "outputs": [
    {
     "data": {
      "text/latex": [
       "$\\displaystyle -D {\\left(\\left(\\frac{Z \\alpha_{0} p_{0} + Z \\alpha_{l} p_{l} - k_{0} c\\left(0\\right)^{n_{0}}}{k_{l}}\\right)^{\\left(\\frac{1}{n_{l}}\\right)} - c\\left(0\\right)\\right)} = {\\left(Z \\alpha_{0} p_{0} - k_{0} c\\left(0\\right)^{n_{0}}\\right)} l$"
      ],
      "text/plain": [
       "<IPython.core.display.Math object>"
      ]
     },
     "metadata": {},
     "output_type": "display_data"
    },
    {
     "data": {
      "text/latex": [
       "$\\displaystyle D {\\left(\\left(\\frac{Z \\alpha_{0} p_{0} + Z \\alpha_{l} p_{l} - k_{l} c\\left(l\\right)^{n_{l}}}{k_{0}}\\right)^{\\left(\\frac{1}{n_{0}}\\right)} - c\\left(l\\right)\\right)} = -{\\left(Z \\alpha_{l} p_{l} - k_{l} c\\left(l\\right)^{n_{l}}\\right)} l$"
      ],
      "text/plain": [
       "<IPython.core.display.Math object>"
      ]
     },
     "metadata": {},
     "output_type": "display_data"
    }
   ],
   "source": [
    "eq_c0 = eq_0_0l.subs(cl_sol_j)\n",
    "eq_cl = eq_l_0l.subs(c0_sol_j)\n",
    "disp(eq_c0)\n",
    "disp(eq_cl)"
   ]
  },
  {
   "cell_type": "markdown",
   "id": "90ad1217",
   "metadata": {},
   "source": [
    "решая каждое из этих уравнений в отдельности находим решения относительно $c(0)$ и $c(l)$"
   ]
  },
  {
   "cell_type": "code",
   "execution_count": 42,
   "id": "d07e24f6",
   "metadata": {},
   "outputs": [
    {
     "data": {
      "text/latex": [
       "$\\displaystyle \\left[c\\left(0\\right) = \\frac{Z \\alpha_{0} l p_{0} - k_{0} l c\\left(0\\right)^{n_{0}} + D \\left(\\frac{Z \\alpha_{0} p_{0} + Z \\alpha_{l} p_{l} - k_{0} c\\left(0\\right)^{n_{0}}}{k_{l}}\\right)^{\\left(\\frac{1}{n_{l}}\\right)}}{D}\\right]$"
      ],
      "text/plain": [
       "<IPython.core.display.Math object>"
      ]
     },
     "metadata": {},
     "output_type": "display_data"
    }
   ],
   "source": [
    "c0_sol = solve([eq_c0],c(x=0))\n",
    "disp(c0_sol)"
   ]
  },
  {
   "cell_type": "code",
   "execution_count": 43,
   "id": "d38bfdfc",
   "metadata": {},
   "outputs": [
    {
     "data": {
      "text/latex": [
       "$\\displaystyle \\left[c\\left(l\\right) = \\frac{Z \\alpha_{l} l p_{l} - k_{l} l c\\left(l\\right)^{n_{l}} + D \\left(\\frac{Z \\alpha_{0} p_{0} + Z \\alpha_{l} p_{l} - k_{l} c\\left(l\\right)^{n_{l}}}{k_{0}}\\right)^{\\left(\\frac{1}{n_{0}}\\right)}}{D}\\right]$"
      ],
      "text/plain": [
       "<IPython.core.display.Math object>"
      ]
     },
     "metadata": {},
     "output_type": "display_data"
    }
   ],
   "source": [
    "cl_sol = solve([eq_cl],c(x=l))\n",
    "disp(cl_sol)"
   ]
  },
  {
   "cell_type": "markdown",
   "id": "b636c93e",
   "metadata": {},
   "source": [
    "Пусть порядок реакции десорбции 1 на обоих сторонах мембраны"
   ]
  },
  {
   "cell_type": "markdown",
   "id": "3843ba30",
   "metadata": {},
   "source": [
    "c0_sol_11 = solve([eq_c0.subs(n_0 == 1, n_l == 1)],c(x=0))\n",
    "disp(c0_sol_11)"
   ]
  },
  {
   "cell_type": "code",
   "execution_count": 62,
   "id": "7cf0ea74",
   "metadata": {},
   "outputs": [
    {
     "data": {
      "text/latex": [
       "$\\displaystyle \\left[c\\left(l\\right) = \\frac{D Z \\alpha_{0} p_{0} + {\\left(Z \\alpha_{l} k_{0} l + D Z \\alpha_{l}\\right)} p_{l}}{k_{0} k_{l} l + D k_{0} + D k_{l}}\\right]$"
      ],
      "text/plain": [
       "<IPython.core.display.Math object>"
      ]
     },
     "metadata": {},
     "output_type": "display_data"
    }
   ],
   "source": [
    "cl_sol_11 = solve([eq_cl.subs(n_0 == 1, n_l == 1)],c(x=l))\n",
    "disp(cl_sol_11)"
   ]
  },
  {
   "cell_type": "markdown",
   "id": "df05faa9",
   "metadata": {},
   "source": [
    "Найдем теперь поток из закона Фика\n",
    "\n",
    "\\begin{equation}\n",
    "j = - D \\frac{d c}{dx} = -D \\frac{c_l-c_0}{l}\n",
    "\\end{equation}"
   ]
  },
  {
   "cell_type": "code",
   "execution_count": 58,
   "id": "12181a8e",
   "metadata": {},
   "outputs": [
    {
     "data": {
      "text/latex": [
       "$\\displaystyle j = \\frac{D {\\left(c\\left(0\\right) - c\\left(l\\right)\\right)}}{l}$"
      ],
      "text/plain": [
       "<IPython.core.display.Math object>"
      ]
     },
     "metadata": {},
     "output_type": "display_data"
    }
   ],
   "source": [
    "var(\"j\")\n",
    "eq_jD = j == - D * (c(x=l) - c(x=0)) / l\n",
    "disp(eq_jD)"
   ]
  },
  {
   "cell_type": "markdown",
   "id": "f2fa7374",
   "metadata": {},
   "source": [
    "произведя подстановку выражений для $c(0)$ и $c(l)$"
   ]
  },
  {
   "cell_type": "code",
   "execution_count": 66,
   "id": "067465b6",
   "metadata": {},
   "outputs": [
    {
     "data": {
      "text/latex": [
       "$\\displaystyle j = -\\frac{D {\\left(\\frac{D Z \\alpha_{0} p_{0} + {\\left(Z \\alpha_{l} k_{0} l + D Z \\alpha_{l}\\right)} p_{l}}{k_{0} k_{l} l + D k_{0} + D k_{l}} - \\frac{D Z \\alpha_{l} p_{l} + {\\left(Z \\alpha_{0} k_{l} l + D Z \\alpha_{0}\\right)} p_{0}}{k_{0} k_{l} l + D k_{0} + D k_{l}}\\right)}}{l}$"
      ],
      "text/plain": [
       "<IPython.core.display.Math object>"
      ]
     },
     "metadata": {},
     "output_type": "display_data"
    }
   ],
   "source": [
    "eq_J_11 = eq_jD.subs(c0_sol_11).subs(cl_sol_11)\n",
    "disp(eq_J_11)"
   ]
  },
  {
   "cell_type": "code",
   "execution_count": 67,
   "id": "5a3a199b",
   "metadata": {},
   "outputs": [
    {
     "data": {
      "text/latex": [
       "$\\displaystyle j = \\frac{D Z \\alpha_{0} k_{l} p_{0} - D Z \\alpha_{l} k_{0} p_{l}}{k_{0} k_{l} l + D k_{0} + D k_{l}}$"
      ],
      "text/plain": [
       "<IPython.core.display.Math object>"
      ]
     },
     "metadata": {},
     "output_type": "display_data"
    }
   ],
   "source": [
    "eq_J_11 = eq_jD.subs(c0_sol_11).subs(cl_sol_11).full_simplify()\n",
    "disp(eq_J_11)"
   ]
  },
  {
   "cell_type": "markdown",
   "id": "68e23565",
   "metadata": {},
   "source": [
    "рассмотрим теперь несимметричную мембрану\n",
    "\n",
    "$\\alpha_0 \\neq \\alpha_l$\n",
    "\n",
    "$k_0 \\neq k_l$\n",
    "\n",
    "$n_0 = n_l = 1$\n",
    "\n",
    "в равновесных условиях\n",
    "\n",
    "$p_0 = p_l$\n",
    "\n",
    "\n",
    "$Z_0 = Z_l$\n"
   ]
  },
  {
   "cell_type": "code",
   "execution_count": 104,
   "id": "811ceaeb",
   "metadata": {},
   "outputs": [
    {
     "data": {
      "text/latex": [
       "$\\displaystyle j = -\\frac{{\\left(\\alpha_{l} k_{0} - \\alpha_{0} k_{l}\\right)} D Z p_{0}}{k_{0} k_{l} l + D k_{0} + D k_{l}}$"
      ],
      "text/plain": [
       "<IPython.core.display.Math object>"
      ]
     },
     "metadata": {},
     "output_type": "display_data"
    }
   ],
   "source": [
    "disp((eq_J_11.subs(p_l == p_0)).factor())"
   ]
  },
  {
   "cell_type": "markdown",
   "id": "a9fd1813",
   "metadata": {},
   "source": [
    "Итак, рассмотрение кинетики десорбции первого порядка показало, что в данной теоретической постановке, стационарный неравновесный поток при равенстве давлений и температур в несимметричной мембране устанавливается при условии что\n",
    "\n",
    "$\\alpha_l \\zeta_0 - \\xi_0 k_l \\neq 0$,\n",
    "\n",
    "$\\alpha_l k_0 \\neq \\alpha_0 k_l$\n",
    "\n",
    "$\\frac{\\alpha_l}{k_l}  \\neq \\frac{\\alpha_0}{k_0} $."
   ]
  },
  {
   "cell_type": "markdown",
   "id": "107a0bdb",
   "metadata": {},
   "source": [
    "Пусть порядок реакции десорбции 1, 2 на обоих сторонах мембраны"
   ]
  },
  {
   "cell_type": "code",
   "execution_count": 95,
   "id": "a556132b",
   "metadata": {},
   "outputs": [
    {
     "data": {
      "text/latex": [
       "$\\displaystyle -D {\\left(\\sqrt{\\frac{Z \\alpha_{0} p_{0} + Z \\alpha_{l} p_{l} - k_{0} c\\left(0\\right)}{k_{l}}} - c\\left(0\\right)\\right)} = {\\left(Z \\alpha_{0} p_{0} - k_{0} c\\left(0\\right)\\right)} l$"
      ],
      "text/plain": [
       "<IPython.core.display.Math object>"
      ]
     },
     "metadata": {},
     "output_type": "display_data"
    }
   ],
   "source": [
    "eq_c0_12 = eq_c0.subs(n_0 == 1, n_l == 2)\n",
    "disp(eq_c0_12)"
   ]
  },
  {
   "cell_type": "code",
   "execution_count": 96,
   "id": "0c3155dc",
   "metadata": {},
   "outputs": [
    {
     "data": {
      "text/latex": [
       "$\\displaystyle \\sqrt{\\frac{Z \\alpha_{0} p_{0} + Z \\alpha_{l} p_{l} - k_{0} c\\left(0\\right)}{k_{l}}} - c\\left(0\\right) = -\\frac{{\\left(Z \\alpha_{0} p_{0} - k_{0} c\\left(0\\right)\\right)} l}{D}$"
      ],
      "text/plain": [
       "<IPython.core.display.Math object>"
      ]
     },
     "metadata": {},
     "output_type": "display_data"
    }
   ],
   "source": [
    "eq_c0_12 = eq_c0.subs(n_0 == 1, n_l == 2)/(-D)\n",
    "disp(eq_c0_12)"
   ]
  },
  {
   "cell_type": "code",
   "execution_count": 97,
   "id": "025110c1",
   "metadata": {},
   "outputs": [
    {
     "data": {
      "text/latex": [
       "$\\displaystyle \\sqrt{\\frac{Z \\alpha_{0} p_{0} + Z \\alpha_{l} p_{l} - k_{0} c\\left(0\\right)}{k_{l}}} = -\\frac{{\\left(Z \\alpha_{0} p_{0} - k_{0} c\\left(0\\right)\\right)} l}{D} + c\\left(0\\right)$"
      ],
      "text/plain": [
       "<IPython.core.display.Math object>"
      ]
     },
     "metadata": {},
     "output_type": "display_data"
    }
   ],
   "source": [
    "eq_c0_12 = eq_c0.subs(n_0 == 1, n_l == 2)/(-D)+c(x=0)\n",
    "disp(eq_c0_12)"
   ]
  },
  {
   "cell_type": "code",
   "execution_count": 99,
   "id": "7e792ff5",
   "metadata": {},
   "outputs": [
    {
     "data": {
      "text/latex": [
       "$\\displaystyle \\frac{Z \\alpha_{0} p_{0} + Z \\alpha_{l} p_{l} - k_{0} c\\left(0\\right)}{k_{l}} = {\\left(\\frac{{\\left(Z \\alpha_{0} p_{0} - k_{0} c\\left(0\\right)\\right)} l}{D} - c\\left(0\\right)\\right)}^{2}$"
      ],
      "text/plain": [
       "<IPython.core.display.Math object>"
      ]
     },
     "metadata": {},
     "output_type": "display_data"
    }
   ],
   "source": [
    "eq_c0_12_ = eq_c0_12.lhs()^2 == eq_c0_12.rhs()^2\n",
    "disp(eq_c0_12_)"
   ]
  },
  {
   "cell_type": "code",
   "execution_count": 85,
   "id": "041c6db3",
   "metadata": {
    "scrolled": true
   },
   "outputs": [
    {
     "data": {
      "text/latex": [
       "$\\displaystyle D {\\left(\\frac{Z \\alpha_{0} p_{0} + Z \\alpha_{l} p_{l} - k_{l} c\\left(l\\right)^{2}}{k_{0}} - c\\left(l\\right)\\right)} = -{\\left(Z \\alpha_{l} p_{l} - k_{l} c\\left(l\\right)^{2}\\right)} l$"
      ],
      "text/plain": [
       "<IPython.core.display.Math object>"
      ]
     },
     "metadata": {},
     "output_type": "display_data"
    }
   ],
   "source": [
    "eq_cl_12 = eq_cl.subs(n_0 == 1, n_l == 2)\n",
    "disp(eq_cl_12)"
   ]
  },
  {
   "cell_type": "code",
   "execution_count": 100,
   "id": "905bc820",
   "metadata": {},
   "outputs": [
    {
     "data": {
      "text/latex": [
       "$\\displaystyle \\left[c\\left(0\\right) = -\\frac{D^{2} k_{0} - 2 \\, {\\left(Z \\alpha_{0} k_{0} k_{l} l^{2} + D Z \\alpha_{0} k_{l} l\\right)} p_{0} + \\sqrt{D^{2} k_{0}^{2} + 4 \\, {\\left(D Z \\alpha_{0} k_{0} k_{l} l + D^{2} Z \\alpha_{0} k_{l}\\right)} p_{0} + 4 \\, {\\left(Z \\alpha_{l} k_{0}^{2} k_{l} l^{2} + 2 \\, D Z \\alpha_{l} k_{0} k_{l} l + D^{2} Z \\alpha_{l} k_{l}\\right)} p_{l}} D}{2 \\, {\\left(k_{0}^{2} k_{l} l^{2} + 2 \\, D k_{0} k_{l} l + D^{2} k_{l}\\right)}}, c\\left(0\\right) = -\\frac{D^{2} k_{0} - 2 \\, {\\left(Z \\alpha_{0} k_{0} k_{l} l^{2} + D Z \\alpha_{0} k_{l} l\\right)} p_{0} - \\sqrt{D^{2} k_{0}^{2} + 4 \\, {\\left(D Z \\alpha_{0} k_{0} k_{l} l + D^{2} Z \\alpha_{0} k_{l}\\right)} p_{0} + 4 \\, {\\left(Z \\alpha_{l} k_{0}^{2} k_{l} l^{2} + 2 \\, D Z \\alpha_{l} k_{0} k_{l} l + D^{2} Z \\alpha_{l} k_{l}\\right)} p_{l}} D}{2 \\, {\\left(k_{0}^{2} k_{l} l^{2} + 2 \\, D k_{0} k_{l} l + D^{2} k_{l}\\right)}}\\right]$"
      ],
      "text/plain": [
       "<IPython.core.display.Math object>"
      ]
     },
     "metadata": {},
     "output_type": "display_data"
    }
   ],
   "source": [
    "sol_c0_12 = eq_c0_12_.solve(c(x=0))\n",
    "disp(sol_c0_12)"
   ]
  },
  {
   "cell_type": "code",
   "execution_count": 89,
   "id": "35468a28",
   "metadata": {},
   "outputs": [
    {
     "data": {
      "text/latex": [
       "$\\displaystyle \\left[c\\left(l\\right) = -\\frac{D k_{0} + \\sqrt{D^{2} k_{0}^{2} + 4 \\, {\\left(D Z \\alpha_{0} k_{0} k_{l} l + D^{2} Z \\alpha_{0} k_{l}\\right)} p_{0} + 4 \\, {\\left(Z \\alpha_{l} k_{0}^{2} k_{l} l^{2} + 2 \\, D Z \\alpha_{l} k_{0} k_{l} l + D^{2} Z \\alpha_{l} k_{l}\\right)} p_{l}}}{2 \\, {\\left(k_{0} k_{l} l + D k_{l}\\right)}}, c\\left(l\\right) = -\\frac{D k_{0} - \\sqrt{D^{2} k_{0}^{2} + 4 \\, {\\left(D Z \\alpha_{0} k_{0} k_{l} l + D^{2} Z \\alpha_{0} k_{l}\\right)} p_{0} + 4 \\, {\\left(Z \\alpha_{l} k_{0}^{2} k_{l} l^{2} + 2 \\, D Z \\alpha_{l} k_{0} k_{l} l + D^{2} Z \\alpha_{l} k_{l}\\right)} p_{l}}}{2 \\, {\\left(k_{0} k_{l} l + D k_{l}\\right)}}\\right]$"
      ],
      "text/plain": [
       "<IPython.core.display.Math object>"
      ]
     },
     "metadata": {},
     "output_type": "display_data"
    }
   ],
   "source": [
    "sol_cl_12 = eq_cl_12.solve(c(x=l))\n",
    "disp(sol_cl_12)"
   ]
  },
  {
   "cell_type": "markdown",
   "id": "a887ba7b",
   "metadata": {},
   "source": [
    "произведя подстановку выражений для $c(0)$ и $c(l)$"
   ]
  },
  {
   "cell_type": "code",
   "execution_count": 102,
   "id": "4e08afb5",
   "metadata": {},
   "outputs": [
    {
     "data": {
      "text/latex": [
       "$\\displaystyle j = \\frac{{\\left(2 \\, Z \\alpha_{0} k_{0} k_{l} l p_{0} + 2 \\, D Z \\alpha_{0} k_{l} p_{0} + D k_{0}^{2} - \\sqrt{D^{2} k_{0}^{2} + 4 \\, {\\left(D Z \\alpha_{0} k_{0} k_{l} l + D^{2} Z \\alpha_{0} k_{l}\\right)} p_{0} + 4 \\, {\\left(Z \\alpha_{l} k_{0}^{2} k_{l} l^{2} + 2 \\, D Z \\alpha_{l} k_{0} k_{l} l + D^{2} Z \\alpha_{l} k_{l}\\right)} p_{l}} k_{0}\\right)} D}{2 \\, {\\left(k_{0} l + D\\right)}^{2} k_{l}}$"
      ],
      "text/plain": [
       "<IPython.core.display.Math object>"
      ]
     },
     "metadata": {},
     "output_type": "display_data"
    }
   ],
   "source": [
    "eq_J_12 = eq_jD.subs(sol_c0_12[1]).subs(sol_cl_12[1]).factor()\n",
    "disp(eq_J_12)"
   ]
  },
  {
   "cell_type": "markdown",
   "id": "b98fe497",
   "metadata": {},
   "source": [
    "рассмотрим теперь несимметричную мембрану\n",
    "\n",
    "$\\alpha_0 \\neq \\alpha_l$\n",
    "\n",
    "$k_0 \\neq k_l$\n",
    "\n",
    "$n_0 = 1 \\neq n_l = 2$\n",
    "\n",
    "в равновесных условиях\n",
    "\n",
    "$p_0 = p_l$\n",
    "\n",
    "\n",
    "$Z_0 = Z_l$\n"
   ]
  },
  {
   "cell_type": "code",
   "execution_count": 103,
   "id": "7d57d40a",
   "metadata": {},
   "outputs": [
    {
     "data": {
      "text/latex": [
       "$\\displaystyle j = \\frac{{\\left(2 \\, Z \\alpha_{0} k_{0} k_{l} l p_{0} + 2 \\, D Z \\alpha_{0} k_{l} p_{0} + D k_{0}^{2} - \\sqrt{D^{2} k_{0}^{2} + 4 \\, {\\left(Z \\alpha_{l} k_{0}^{2} k_{l} l^{2} + {\\left(D Z \\alpha_{0} + 2 \\, D Z \\alpha_{l}\\right)} k_{0} k_{l} l + {\\left(D^{2} Z \\alpha_{0} + D^{2} Z \\alpha_{l}\\right)} k_{l}\\right)} p_{0}} k_{0}\\right)} D}{2 \\, {\\left(k_{0} l + D\\right)}^{2} k_{l}}$"
      ],
      "text/plain": [
       "<IPython.core.display.Math object>"
      ]
     },
     "metadata": {},
     "output_type": "display_data"
    }
   ],
   "source": [
    "disp((eq_J_12.subs(p_l == p_0)).factor())"
   ]
  },
  {
   "cell_type": "code",
   "execution_count": null,
   "id": "f5c045bd",
   "metadata": {},
   "outputs": [],
   "source": []
  }
 ],
 "metadata": {
  "kernelspec": {
   "display_name": "SageMath 9.6.beta7",
   "language": "sage",
   "name": "sagemath"
  },
  "language_info": {
   "codemirror_mode": {
    "name": "ipython",
    "version": 3
   },
   "file_extension": ".py",
   "mimetype": "text/x-python",
   "name": "python",
   "nbconvert_exporter": "python",
   "pygments_lexer": "ipython3",
   "version": "3.10.3"
  }
 },
 "nbformat": 4,
 "nbformat_minor": 5
}
