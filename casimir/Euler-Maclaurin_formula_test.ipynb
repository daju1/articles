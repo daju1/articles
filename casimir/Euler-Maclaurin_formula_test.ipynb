{
 "cells": [
  {
   "cell_type": "markdown",
   "metadata": {},
   "source": [
    "mpmath.sumem(f, interval, tol=None, reject=10, integral=None, adiffs=None, bdiffs=None, verbose=False, error=False, _fast_abort=False)\n",
    "\n",
    "Uses the Euler-Maclaurin formula to compute an approximation accurate to within tol (which defaults to the present epsilon) of the sum"
   ]
  },
  {
   "cell_type": "code",
   "execution_count": 1,
   "metadata": {},
   "outputs": [],
   "source": [
    "def test_mpmath_sumem(f, a, b = None):\n",
    "    # https://mpmath.org/doc/current/calculus/sums_limits.html\n",
    "    from mpmath import sumem, mp\n",
    "    mp.dps = 50; mp.pretty = True\n",
    "    if None == b:\n",
    "        b = mp.inf\n",
    "    return sumem(f, [a, b])"
   ]
  },
  {
   "cell_type": "code",
   "execution_count": 2,
   "metadata": {},
   "outputs": [],
   "source": [
    "fn = 1/x^2\n",
    "f = lambda x: 1/x^2\n",
    "a = 1 #https://en.wikipedia.org/wiki/Basel_problem\n",
    "p = 4"
   ]
  },
  {
   "cell_type": "code",
   "execution_count": 3,
   "metadata": {},
   "outputs": [
    {
     "data": {
      "text/plain": [
       "0.24985622564069066126679295403575238966185468243081"
      ]
     },
     "execution_count": 3,
     "metadata": {},
     "output_type": "execute_result"
    }
   ],
   "source": [
    "test_mpmath_sumem(f, 2) - test_mpmath_sumem(f, 3)"
   ]
  },
  {
   "cell_type": "code",
   "execution_count": 4,
   "metadata": {},
   "outputs": [
    {
     "data": {
      "text/plain": [
       "1.6333333333333333333333333333333333333333333333333"
      ]
     },
     "execution_count": 4,
     "metadata": {},
     "output_type": "execute_result"
    }
   ],
   "source": [
    "test_mpmath_sumem(f, a)"
   ]
  },
  {
   "cell_type": "code",
   "execution_count": 5,
   "metadata": {},
   "outputs": [],
   "source": [
    "#I = mpf(1)/a\n",
    "#I"
   ]
  },
  {
   "cell_type": "markdown",
   "metadata": {},
   "source": [
    "$${\\displaystyle \\sum _{i=a}^{b}f(i)=\\int _{a}^{b}f(x)\\,dx+{\\frac {f(a)+f(b)}{2}}+\\sum _{k=1}^{\\lfloor p/2\\rfloor }{\\frac {B_{2k}}{(2k)!}}(f^{(2k-1)}(b)-f^{(2k-1)}(a))+R_{p},}$$"
   ]
  },
  {
   "cell_type": "markdown",
   "metadata": {},
   "source": [
    "$${\\displaystyle P_{k}(x)=B_{k}(x-\\lfloor x\\rfloor ),}$$"
   ]
  },
  {
   "cell_type": "markdown",
   "metadata": {},
   "source": [
    "$${\\displaystyle R_{p}=(-1)^{p+1}\\int _{a}^{b}f^{(p)}(x){\\frac {P_{p}(x)}{p!}}\\,dx.}$$"
   ]
  },
  {
   "cell_type": "code",
   "execution_count": 6,
   "metadata": {},
   "outputs": [
    {
     "data": {
      "text/plain": [
       "[1, 2]"
      ]
     },
     "execution_count": 6,
     "metadata": {},
     "output_type": "execute_result"
    }
   ],
   "source": [
    "[k for k in range(1,1+p/2)]"
   ]
  },
  {
   "cell_type": "code",
   "execution_count": 7,
   "metadata": {},
   "outputs": [
    {
     "data": {
      "text/plain": [
       "<generator object <genexpr> at 0x7f0d36a322e0>"
      ]
     },
     "execution_count": 7,
     "metadata": {},
     "output_type": "execute_result"
    }
   ],
   "source": [
    "D = adiffs=((-1)**n*fac(k+1)*a**(-2-k) for k in range(1,1+p/2))\n",
    "D"
   ]
  },
  {
   "cell_type": "code",
   "execution_count": 8,
   "metadata": {},
   "outputs": [
    {
     "data": {
      "text/plain": [
       "[-2/x^3, 6/x^4]"
      ]
     },
     "execution_count": 8,
     "metadata": {},
     "output_type": "execute_result"
    }
   ],
   "source": [
    "# array of derivatives dfdn of different degree in the point a \n",
    "dfdx = [fn.diff(x,k) for k in range(1,1+p/2)]\n",
    "dfdx"
   ]
  },
  {
   "cell_type": "code",
   "execution_count": 9,
   "metadata": {},
   "outputs": [
    {
     "data": {
      "text/plain": [
       "[-2, 6]"
      ]
     },
     "execution_count": 9,
     "metadata": {},
     "output_type": "execute_result"
    }
   ],
   "source": [
    "# array of derivatives dfdn of different degree in the point a \n",
    "dfdx_a = [(fn.diff(x,k)).subs(x == a) for k in range(1,1+p/2)]\n",
    "dfdx_a"
   ]
  },
  {
   "cell_type": "code",
   "execution_count": 10,
   "metadata": {},
   "outputs": [],
   "source": [
    "# array of derivatives dfdn of different degree in the point a \n",
    "#dfdx_a = [(-1)^n*fac(n+1)*a^(-2-n) for n in range(999)]\n",
    "#dfdx_a"
   ]
  },
  {
   "cell_type": "code",
   "execution_count": 11,
   "metadata": {},
   "outputs": [],
   "source": [
    "# array of derivatives dfdn of different degree in the point b \n",
    "#dfdx_b = [(-1)^n*fac(n+1)*b^(-2-n) for n in range(999)]\n",
    "#dfdx_b"
   ]
  },
  {
   "cell_type": "code",
   "execution_count": 12,
   "metadata": {},
   "outputs": [
    {
     "data": {
      "text/plain": [
       "-2"
      ]
     },
     "execution_count": 12,
     "metadata": {},
     "output_type": "execute_result"
    }
   ],
   "source": [
    "dfdx_a[0]"
   ]
  },
  {
   "cell_type": "markdown",
   "metadata": {},
   "source": [
    "$${\\frac {B_{2k}}{(2k)!}}(f^{(2k-1)}(a))$$"
   ]
  },
  {
   "cell_type": "markdown",
   "metadata": {},
   "source": [
    "$$\\sum _{k=1}^{\\lfloor p/2\\rfloor }{\\frac {B_{2k}}{(2k)!}}(f^{(2k-1)}(a))$$"
   ]
  },
  {
   "cell_type": "code",
   "execution_count": 13,
   "metadata": {},
   "outputs": [
    {
     "data": {
      "text/plain": [
       "[1, 3]"
      ]
     },
     "execution_count": 13,
     "metadata": {},
     "output_type": "execute_result"
    }
   ],
   "source": [
    "[2*k-1 for k in range(1,1+p/2)]"
   ]
  },
  {
   "cell_type": "code",
   "execution_count": 14,
   "metadata": {},
   "outputs": [
    {
     "data": {
      "text/plain": [
       "[-1/6, 1/30]"
      ]
     },
     "execution_count": 14,
     "metadata": {},
     "output_type": "execute_result"
    }
   ],
   "source": [
    "[(fn.diff(x,2*k-1)).subs(x == a)*(bernoulli(2*k)/factorial(2*k)) for k in range(1,1+p/2)]"
   ]
  },
  {
   "cell_type": "code",
   "execution_count": 15,
   "metadata": {},
   "outputs": [
    {
     "data": {
      "text/plain": [
       "-2/15"
      ]
     },
     "execution_count": 15,
     "metadata": {},
     "output_type": "execute_result"
    }
   ],
   "source": [
    "sum_dfdx_a_bernoullis = sum([(fn.diff(x,2*k-1)).subs(x == a)*(bernoulli(2*k)/factorial(2*k)) for k in range(1,1+p/2)])\n",
    "sum_dfdx_a_bernoullis"
   ]
  },
  {
   "cell_type": "code",
   "execution_count": 16,
   "metadata": {},
   "outputs": [],
   "source": [
    "#sumem(f, [a, inf], integral=I, adiffs=D)"
   ]
  },
  {
   "cell_type": "code",
   "execution_count": 17,
   "metadata": {},
   "outputs": [
    {
     "data": {
      "text/plain": [
       "-1/x"
      ]
     },
     "execution_count": 17,
     "metadata": {},
     "output_type": "execute_result"
    }
   ],
   "source": [
    "integral(fn, x)"
   ]
  },
  {
   "cell_type": "code",
   "execution_count": 18,
   "metadata": {},
   "outputs": [
    {
     "data": {
      "text/plain": [
       "1"
      ]
     },
     "execution_count": 18,
     "metadata": {},
     "output_type": "execute_result"
    }
   ],
   "source": [
    "- integral(fn, x).subs(x == a)"
   ]
  },
  {
   "cell_type": "code",
   "execution_count": 19,
   "metadata": {},
   "outputs": [
    {
     "data": {
      "text/plain": [
       "1"
      ]
     },
     "execution_count": 19,
     "metadata": {},
     "output_type": "execute_result"
    }
   ],
   "source": [
    "#integrate(1/x^2, (x, a, b))\n",
    "#int_f = (-1/b)-(-1/a)\n",
    "int_f = - integral(fn, x).subs(x == a)\n",
    "int_f"
   ]
  },
  {
   "cell_type": "code",
   "execution_count": 20,
   "metadata": {},
   "outputs": [
    {
     "data": {
      "text/plain": [
       "1.00000000000000"
      ]
     },
     "execution_count": 20,
     "metadata": {},
     "output_type": "execute_result"
    }
   ],
   "source": [
    "(1/a).n()"
   ]
  },
  {
   "cell_type": "code",
   "execution_count": 21,
   "metadata": {},
   "outputs": [
    {
     "data": {
      "text/plain": [
       "1"
      ]
     },
     "execution_count": 21,
     "metadata": {},
     "output_type": "execute_result"
    }
   ],
   "source": [
    "f(a)"
   ]
  },
  {
   "cell_type": "code",
   "execution_count": 22,
   "metadata": {},
   "outputs": [],
   "source": [
    "#f(b)"
   ]
  },
  {
   "cell_type": "code",
   "execution_count": 23,
   "metadata": {},
   "outputs": [],
   "source": [
    "#(f(a)+f(b))/2"
   ]
  },
  {
   "cell_type": "code",
   "execution_count": 24,
   "metadata": {},
   "outputs": [],
   "source": [
    "#int_f+(f(a)+f(b))/2"
   ]
  },
  {
   "cell_type": "code",
   "execution_count": 25,
   "metadata": {},
   "outputs": [],
   "source": [
    "sum_dfdx_a_bernoullis = lambda _p : sum([(fn.diff(x,2*k-1)).subs(x == a)*(bernoulli(2*k)/factorial(2*k)) for k in range(1,1+_p/2)])"
   ]
  },
  {
   "cell_type": "code",
   "execution_count": 26,
   "metadata": {},
   "outputs": [
    {
     "data": {
      "text/plain": [
       "-2/15"
      ]
     },
     "execution_count": 26,
     "metadata": {},
     "output_type": "execute_result"
    }
   ],
   "source": [
    "sum_dfdx_a_bernoullis(p)"
   ]
  },
  {
   "cell_type": "code",
   "execution_count": 27,
   "metadata": {},
   "outputs": [],
   "source": [
    "#sumem(f, [a, b]) - (int_f+(f(a)+f(b))/2)"
   ]
  },
  {
   "cell_type": "code",
   "execution_count": 28,
   "metadata": {},
   "outputs": [
    {
     "name": "stdout",
     "output_type": "stream",
     "text": [
      "3 0.29047619047619047619047619047619047619047619047619\n"
     ]
    }
   ],
   "source": [
    "for pp in range(3,p):\n",
    "    print(pp, test_mpmath_sumem(f, a) - (int_f+(f(a))/2)-sum_dfdx_a_bernoullis(2*pp))"
   ]
  },
  {
   "cell_type": "code",
   "execution_count": 29,
   "metadata": {},
   "outputs": [
    {
     "data": {
      "image/png": "[encoded data removed]",
      "text/plain": [
       "Graphics object consisting of 1 graphics primitive"
      ]
     },
     "execution_count": 29,
     "metadata": {},
     "output_type": "execute_result"
    }
   ],
   "source": [
    "list_plot([sum_dfdx_a_bernoullis(2*pp) for pp in range(2,7)])"
   ]
  },
  {
   "cell_type": "code",
   "execution_count": 30,
   "metadata": {},
   "outputs": [
    {
     "data": {
      "image/png": "[encoded data removed]",
      "text/plain": [
       "Graphics object consisting of 1 graphics primitive"
      ]
     },
     "execution_count": 30,
     "metadata": {},
     "output_type": "execute_result"
    }
   ],
   "source": [
    "list_plot([sum_dfdx_a_bernoullis(2*pp) for pp in range(3,20)])"
   ]
  },
  {
   "cell_type": "code",
   "execution_count": 31,
   "metadata": {},
   "outputs": [],
   "source": [
    "#list_plot([sum_dfdx_a_bernoullis(2*pp) for pp in range(3,600)])"
   ]
  },
  {
   "cell_type": "code",
   "execution_count": 32,
   "metadata": {},
   "outputs": [
    {
     "data": {
      "text/plain": [
       "0.63333333333333333333333333333333333333333333333333"
      ]
     },
     "execution_count": 32,
     "metadata": {},
     "output_type": "execute_result"
    }
   ],
   "source": [
    "test_mpmath_sumem(f, a) - (int_f)"
   ]
  },
  {
   "cell_type": "code",
   "execution_count": 33,
   "metadata": {},
   "outputs": [
    {
     "data": {
      "text/plain": [
       "2077/2520"
      ]
     },
     "execution_count": 33,
     "metadata": {},
     "output_type": "execute_result"
    }
   ],
   "source": [
    "sum([(-1)^n*factorial(n+1)*a^(-2-n)*(bernoulli(2*n)/factorial(2*n)) for n in range(p)])"
   ]
  },
  {
   "cell_type": "code",
   "execution_count": 34,
   "metadata": {},
   "outputs": [],
   "source": [
    "P = lambda x, _p : bernoulli_polynomial(x - floor(x), _p)\n",
    "B = lambda x, _p : bernoulli_polynomial(x, _p)"
   ]
  },
  {
   "cell_type": "code",
   "execution_count": 35,
   "metadata": {},
   "outputs": [
    {
     "data": {
      "text/plain": [
       "-0.0152400000000000"
      ]
     },
     "execution_count": 35,
     "metadata": {},
     "output_type": "execute_result"
    }
   ],
   "source": [
    "P(3.1, 5)"
   ]
  },
  {
   "cell_type": "code",
   "execution_count": 36,
   "metadata": {},
   "outputs": [
    {
     "data": {
      "text/plain": [
       "-0.0152400000000000"
      ]
     },
     "execution_count": 36,
     "metadata": {},
     "output_type": "execute_result"
    }
   ],
   "source": [
    "B(0.1, 5)"
   ]
  },
  {
   "cell_type": "code",
   "execution_count": 37,
   "metadata": {},
   "outputs": [
    {
     "data": {
      "image/png": "[encoded data removed]",
      "text/plain": [
       "Graphics object consisting of 1 graphics primitive"
      ]
     },
     "execution_count": 37,
     "metadata": {},
     "output_type": "execute_result"
    }
   ],
   "source": [
    "plot(P(x, 8), x, 0, 10)"
   ]
  },
  {
   "cell_type": "code",
   "execution_count": 38,
   "metadata": {},
   "outputs": [
    {
     "data": {
      "image/png": "[encoded data removed]",
      "text/plain": [
       "Graphics object consisting of 1 graphics primitive"
      ]
     },
     "execution_count": 38,
     "metadata": {},
     "output_type": "execute_result"
    }
   ],
   "source": [
    "plot(bernoulli_polynomial(x, p))"
   ]
  },
  {
   "cell_type": "markdown",
   "metadata": {},
   "source": [
    "$${\\displaystyle R_{p}=(-1)^{p+1}\\int _{a}^{b}f^{(p)}(x){\\frac {P_{p}(x)}{p!}}\\,dx.}$$"
   ]
  },
  {
   "cell_type": "code",
   "execution_count": 39,
   "metadata": {},
   "outputs": [
    {
     "data": {
      "text/plain": [
       "5/x - 5/x^2 + 5/3/x^3 - 1/30/x^5 - 1/6*integrate(-120*floor(x)/x^3 + 180*floor(x)^2/x^4 - 120*floor(x)^3/x^5 + 30*floor(x)^4/x^6 + 180*floor(x)/x^4 - 180*floor(x)^2/x^5 + 60*floor(x)^3/x^6 - 60*floor(x)/x^5 + 30*floor(x)^2/x^6, x)"
      ]
     },
     "execution_count": 39,
     "metadata": {},
     "output_type": "execute_result"
    }
   ],
   "source": [
    "int_R_p = (-1)^(p+1)*integral(fn.diff(x,p)*P(x,p)/factorial(p), x)\n",
    "int_R_p"
   ]
  },
  {
   "cell_type": "code",
   "execution_count": 40,
   "metadata": {},
   "outputs": [
    {
     "data": {
      "text/latex": [
       "$\\displaystyle \\frac{5}{x} - \\frac{5}{x^{2}} + \\frac{5}{3 \\, x^{3}} - \\frac{1}{30 \\, x^{5}} - \\frac{1}{6} \\, \\int -\\frac{120 \\, \\left \\lfloor x \\right \\rfloor}{x^{3}} + \\frac{180 \\, \\left \\lfloor x \\right \\rfloor^{2}}{x^{4}} - \\frac{120 \\, \\left \\lfloor x \\right \\rfloor^{3}}{x^{5}} + \\frac{30 \\, \\left \\lfloor x \\right \\rfloor^{4}}{x^{6}} + \\frac{180 \\, \\left \\lfloor x \\right \\rfloor}{x^{4}} - \\frac{180 \\, \\left \\lfloor x \\right \\rfloor^{2}}{x^{5}} + \\frac{60 \\, \\left \\lfloor x \\right \\rfloor^{3}}{x^{6}} - \\frac{60 \\, \\left \\lfloor x \\right \\rfloor}{x^{5}} + \\frac{30 \\, \\left \\lfloor x \\right \\rfloor^{2}}{x^{6}}\\,{d x}$"
      ],
      "text/plain": [
       "<IPython.core.display.Math object>"
      ]
     },
     "metadata": {},
     "output_type": "display_data"
    }
   ],
   "source": [
    "from IPython.display import display, Math, Latex\n",
    "display(Math(latex(int_R_p)))"
   ]
  },
  {
   "cell_type": "markdown",
   "metadata": {},
   "source": [
    "$${\\displaystyle R_{p}=(-1)^{p+1}\\sum_{j=a}^{b-1} \\int _{0}^{1}f^{(p)}(u+i){\\frac {B_{p}(u)}{p!}}\\,du.}$$"
   ]
  },
  {
   "cell_type": "code",
   "execution_count": 41,
   "metadata": {},
   "outputs": [
    {
     "data": {
      "text/latex": [
       "$\\displaystyle -\\frac{30 \\, j^{4} + 150 \\, {\\left(2 \\, j - 1\\right)} u^{3} + 150 \\, u^{4} - 15 \\, j^{3} + 50 \\, {\\left(6 \\, j^{2} - 3 \\, j + 1\\right)} u^{2} + 5 \\, j^{2} + 25 \\, {\\left(6 \\, j^{3} - 3 \\, j^{2} + j\\right)} u - 1}{30 \\, {\\left(j^{5} + 5 \\, j^{4} u + 10 \\, j^{3} u^{2} + 10 \\, j^{2} u^{3} + 5 \\, j u^{4} + u^{5}\\right)}}$"
      ],
      "text/plain": [
       "<IPython.core.display.Math object>"
      ]
     },
     "metadata": {},
     "output_type": "display_data"
    }
   ],
   "source": [
    "#(-1)^(p+1)*\n",
    "u, j = var(\"u, j\")\n",
    "int_R_p_j = lambda u, j : integral(fn.diff(x,p).subs(x == u+j) * B(u,p)/factorial(p), u)\n",
    "display(Math(latex(int_R_p_j(u, j))))"
   ]
  },
  {
   "cell_type": "code",
   "execution_count": 42,
   "metadata": {},
   "outputs": [
    {
     "data": {
      "text/latex": [
       "$\\displaystyle -\\frac{30 \\, j^{4} - 15 \\, j^{3} + 5 \\, j^{2} - 1}{30 \\, j^{5}}$"
      ],
      "text/plain": [
       "<IPython.core.display.Math object>"
      ]
     },
     "metadata": {},
     "output_type": "display_data"
    }
   ],
   "source": [
    "display(Math(latex(int_R_p_j(u, j).subs(u==0))))"
   ]
  },
  {
   "cell_type": "code",
   "execution_count": 43,
   "metadata": {},
   "outputs": [
    {
     "data": {
      "text/latex": [
       "$\\displaystyle -\\frac{30 \\, j^{4} + 135 \\, j^{3} + 230 \\, j^{2} + 175 \\, j + 49}{30 \\, {\\left(j^{5} + 5 \\, j^{4} + 10 \\, j^{3} + 10 \\, j^{2} + 5 \\, j + 1\\right)}}$"
      ],
      "text/plain": [
       "<IPython.core.display.Math object>"
      ]
     },
     "metadata": {},
     "output_type": "display_data"
    }
   ],
   "source": [
    "display(Math(latex(int_R_p_j(u, j).subs(u==1))))"
   ]
  },
  {
   "cell_type": "code",
   "execution_count": 44,
   "metadata": {},
   "outputs": [
    {
     "data": {
      "text/latex": [
       "$\\displaystyle -\\frac{5 \\, j^{2} + 5 \\, j + 1}{30 \\, {\\left(j^{10} + 5 \\, j^{9} + 10 \\, j^{8} + 10 \\, j^{7} + 5 \\, j^{6} + j^{5}\\right)}}$"
      ],
      "text/plain": [
       "<IPython.core.display.Math object>"
      ]
     },
     "metadata": {},
     "output_type": "display_data"
    }
   ],
   "source": [
    "int_R_p = lambda j : (int_R_p_j(u, j).subs(u==1)-int_R_p_j(u, j).subs(u==0)).full_simplify()\n",
    "display(Math(latex(int_R_p(j))))"
   ]
  },
  {
   "cell_type": "code",
   "execution_count": 45,
   "metadata": {},
   "outputs": [
    {
     "data": {
      "text/latex": [
       "$\\displaystyle -\\frac{5 \\, j^{2} + 5 \\, j + 1}{30 \\, {\\left(j^{10} + 5 \\, j^{9} + 10 \\, j^{8} + 10 \\, j^{7} + 5 \\, j^{6} + j^{5}\\right)}}$"
      ],
      "text/plain": [
       "<IPython.core.display.Math object>"
      ]
     },
     "metadata": {},
     "output_type": "display_data"
    }
   ],
   "source": [
    "display(Math(latex((int_R_p_j(u, j).subs(u==1)-int_R_p_j(u, j).subs(u==0)).full_simplify())))"
   ]
  },
  {
   "cell_type": "code",
   "execution_count": 46,
   "metadata": {},
   "outputs": [
    {
     "data": {
      "text/latex": [
       "$\\displaystyle -\\frac{5 \\, j^{2} + 5 \\, j + 1}{30 \\, {\\left(j^{10} + 5 \\, j^{9} + 10 \\, j^{8} + 10 \\, j^{7} + 5 \\, j^{6} + j^{5}\\right)}}$"
      ],
      "text/plain": [
       "<IPython.core.display.Math object>"
      ]
     },
     "metadata": {},
     "output_type": "display_data"
    }
   ],
   "source": [
    "display(Math(latex(int_R_p(j))))"
   ]
  },
  {
   "cell_type": "code",
   "execution_count": 47,
   "metadata": {},
   "outputs": [
    {
     "data": {
      "text/latex": [
       "$\\displaystyle -\\frac{11}{960}$"
      ],
      "text/plain": [
       "<IPython.core.display.Math object>"
      ]
     },
     "metadata": {},
     "output_type": "display_data"
    }
   ],
   "source": [
    "display(Math(latex(int_R_p(1))))"
   ]
  },
  {
   "cell_type": "code",
   "execution_count": 48,
   "metadata": {},
   "outputs": [
    {
     "data": {
      "text/latex": [
       "$\\displaystyle -\\frac{31}{233280}$"
      ],
      "text/plain": [
       "<IPython.core.display.Math object>"
      ]
     },
     "metadata": {},
     "output_type": "display_data"
    }
   ],
   "source": [
    "display(Math(latex(int_R_p(2))))"
   ]
  },
  {
   "cell_type": "code",
   "execution_count": 49,
   "metadata": {},
   "outputs": [
    {
     "data": {
      "text/latex": [
       "$\\displaystyle -\\frac{61}{7464960}$"
      ],
      "text/plain": [
       "<IPython.core.display.Math object>"
      ]
     },
     "metadata": {},
     "output_type": "display_data"
    }
   ],
   "source": [
    "display(Math(latex(int_R_p(3))))"
   ]
  },
  {
   "cell_type": "code",
   "execution_count": 50,
   "metadata": {},
   "outputs": [
    {
     "data": {
      "text/plain": [
       "1/6*pi^2 - 49/30"
      ]
     },
     "execution_count": 50,
     "metadata": {},
     "output_type": "execute_result"
    }
   ],
   "source": [
    "R_p = (-1)^(p+1)*sum(int_R_p(j), j, a, Infinity)\n",
    "R_p"
   ]
  },
  {
   "cell_type": "code",
   "execution_count": 51,
   "metadata": {},
   "outputs": [
    {
     "data": {
      "text/plain": [
       "49/30"
      ]
     },
     "execution_count": 51,
     "metadata": {},
     "output_type": "execute_result"
    }
   ],
   "source": [
    "int_f+(f(a))/2-sum_dfdx_a_bernoullis(p)"
   ]
  },
  {
   "cell_type": "code",
   "execution_count": 52,
   "metadata": {},
   "outputs": [
    {
     "data": {
      "text/plain": [
       "1.63333333333333"
      ]
     },
     "execution_count": 52,
     "metadata": {},
     "output_type": "execute_result"
    }
   ],
   "source": [
    "(int_f+(f(a))/2-sum_dfdx_a_bernoullis(p)).n()"
   ]
  },
  {
   "cell_type": "code",
   "execution_count": 53,
   "metadata": {},
   "outputs": [
    {
     "data": {
      "text/plain": [
       "1/6*pi^2"
      ]
     },
     "execution_count": 53,
     "metadata": {},
     "output_type": "execute_result"
    }
   ],
   "source": [
    "int_f+(f(a))/2-sum_dfdx_a_bernoullis(p)+R_p"
   ]
  },
  {
   "cell_type": "code",
   "execution_count": 54,
   "metadata": {},
   "outputs": [
    {
     "data": {
      "text/plain": [
       "1.64493406684823"
      ]
     },
     "execution_count": 54,
     "metadata": {},
     "output_type": "execute_result"
    }
   ],
   "source": [
    "(int_f+(f(a))/2-sum_dfdx_a_bernoullis(p)+R_p).n()"
   ]
  },
  {
   "cell_type": "code",
   "execution_count": 55,
   "metadata": {},
   "outputs": [
    {
     "data": {
      "text/plain": [
       "1.6333333333333333333333333333333333333333333333333"
      ]
     },
     "execution_count": 55,
     "metadata": {},
     "output_type": "execute_result"
    }
   ],
   "source": [
    "test_mpmath_sumem(f, a)"
   ]
  },
  {
   "cell_type": "code",
   "execution_count": 56,
   "metadata": {},
   "outputs": [],
   "source": [
    "def my_euler_maclaurin(fn,symb,a,b,p,calc_R_p=False):\n",
    "    #sum_dfdx_a_bernoullis = lambda _a : sum([(fn.diff(x,k-1)).subs(x == _a)*(bernoulli(k)/factorial(k)) for k in range(1,1+p)])\n",
    "    sum_dfdx_a_bernoullis = sum([(fn.diff(symb,k-1))*(bernoulli(k)/factorial(k)) for k in range(1,1+p)])\n",
    "    u, j = var(\"u, j\")\n",
    "    assume(j>0)\n",
    "\n",
    "    if True:\n",
    "        B = lambda x, p : bernoulli_polynomial(x, p)\n",
    "        fact = lambda n : factorial(n)\n",
    "    else:\n",
    "        B = function(\"B\")(x,p)\n",
    "        fact = function(\"fact\")(n)\n",
    "\n",
    "    if True == calc_R_p:\n",
    "        #int_R_p_j = lambda u, j : integral(fn.diff(x,p).subs(x == u+j) * B(u,p)/factorial(p), u)\n",
    "        #int_R_p = lambda j : (int_R_p_j(u, j).subs(u==1)-int_R_p_j(u, j).subs(u==0)).full_simplify()\n",
    "        int_R_p = lambda j : integral(fn.diff(symb,p).subs(symb == u+j) * B(x=u,p=p)/fact(n=p), (u,0,1))\n",
    "        R_p = (-1)^(p+1)*sum(int_R_p(j), j, a, b-1)\n",
    "    int_fn_a_b = integral(fn, (x, a, b))\n",
    "    s = int_fn_a_b + sum_dfdx_a_bernoullis.subs(symb == b) - sum_dfdx_a_bernoullis.subs(symb == a)\n",
    "    if True == calc_R_p:\n",
    "        s += R_p\n",
    "    if True:\n",
    "        print(int_fn_a_b)\n",
    "        print(fn(x=a))\n",
    "        print(fn(x=b))\n",
    "        print(sum_dfdx_a_bernoullis.subs(symb == a))\n",
    "        print(sum_dfdx_a_bernoullis.subs(symb == b))\n",
    "        if True == calc_R_p:\n",
    "            print(\"R_p\", R_p)\n",
    "        print(\"s\", s)\n",
    "    return s"
   ]
  },
  {
   "cell_type": "code",
   "execution_count": 57,
   "metadata": {},
   "outputs": [
    {
     "name": "stdout",
     "output_type": "stream",
     "text": [
      "1\n",
      "1\n",
      "0\n",
      "-19/30\n",
      "0\n",
      "R_p 1/6*pi^2 - 49/30\n",
      "s 1/6*pi^2\n"
     ]
    },
    {
     "data": {
      "text/plain": [
       "1/6*pi^2"
      ]
     },
     "execution_count": 57,
     "metadata": {},
     "output_type": "execute_result"
    }
   ],
   "source": [
    "my_euler_maclaurin(fn, x, a, Infinity, p, calc_R_p=True)"
   ]
  },
  {
   "cell_type": "code",
   "execution_count": 58,
   "metadata": {},
   "outputs": [
    {
     "name": "stdout",
     "output_type": "stream",
     "text": [
      "1\n",
      "1\n",
      "0\n",
      "-19/30\n",
      "0\n",
      "s 49/30\n"
     ]
    },
    {
     "data": {
      "text/plain": [
       "49/30"
      ]
     },
     "execution_count": 58,
     "metadata": {},
     "output_type": "execute_result"
    }
   ],
   "source": [
    "my_euler_maclaurin(fn, x, a, Infinity, p)"
   ]
  },
  {
   "cell_type": "code",
   "execution_count": null,
   "metadata": {},
   "outputs": [],
   "source": []
  }
 ],
 "metadata": {
  "kernelspec": {
   "display_name": "SageMath 9.3",
   "language": "sage",
   "name": "sagemath"
  },
  "language_info": {
   "codemirror_mode": {
    "name": "ipython",
    "version": 3
   },
   "file_extension": ".py",
   "mimetype": "text/x-python",
   "name": "python",
   "nbconvert_exporter": "python",
   "pygments_lexer": "ipython3",
   "version": "3.9.2"
  }
 },
 "nbformat": 4,
 "nbformat_minor": 2
}
