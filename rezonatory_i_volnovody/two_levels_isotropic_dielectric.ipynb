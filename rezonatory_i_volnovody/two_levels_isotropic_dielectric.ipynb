{
 "cells": [
  {
   "cell_type": "markdown",
   "metadata": {},
   "source": [
    "two_levels_isotropic_dielectric"
   ]
  },
  {
   "cell_type": "code",
   "execution_count": 1,
   "metadata": {},
   "outputs": [],
   "source": [
    "from IPython.display import display, Math, Latex\n",
    "\n",
    "k = var ('k')\n",
    "\n",
    "a = var('a')\n",
    "assume(a, 'real')\n",
    "assume(a>0)\n",
    "\n",
    "x = var('x')\n",
    "y = var('y')\n",
    "z = var('z')\n",
    "\n",
    "assume(x, 'real')\n",
    "assume(y, 'real')\n",
    "assume(z, 'real')\n",
    "\n",
    "c = var('c')\n",
    "assume(c, 'real')\n",
    "assume(c>0)\n",
    "\n",
    "omega = var('omega')\n",
    "assume(omega, 'real')"
   ]
  },
  {
   "cell_type": "markdown",
   "metadata": {},
   "source": [
    "$rot\\,\\vec{E} = \\mu\\,\\frac{i\\,\\omega}{c}\\,\\vec{H}$\n",
    "\n",
    "$rot\\,\\vec{H} = - \\frac{i\\,\\omega}{c} \\epsilon \\vec{E}$\n",
    "\n",
    "$rot\\,rot\\,\\vec{E} = \\mu\\,\\frac{i\\,\\omega}{c}rot\\,\\vec{H}$\n",
    "\n",
    "$rot\\,rot\\,\\vec{E} = \\mu\\,\\frac{i\\,\\omega}{c}\\left(- \\frac{i\\,\\omega}{c} \\epsilon \\vec{E}\\right)$\n",
    "\n",
    "$rot\\,rot\\,\\vec{E} = \\mu\\,\\frac{\\omega^2}{c^2} \\epsilon \\vec{E}$\n",
    "\n",
    "$rot\\,rot\\,\\vec{E} = grad\\,div\\,\\vec{E} - Laplasian\\,\\vec{E}$\n",
    "\n",
    "$Laplasian\\,\\vec{E} + \\frac{\\mu \\epsilon \\omega^2}{c^2}\\,\\vec{E} - grad\\,div\\,\\vec{E} = 0$\n",
    "\n",
    "Ищем решение в виде\n",
    "\n",
    "$E = E(x)\\,e^{i\\,k\\,z}\\,e^{-i\\,\\omega\\,t}$\n",
    "\n",
    "подставляя в исходное уравнение приходим к обыкновенному дифференциальному уравнению\n",
    "\n",
    "diff (E(x), x, 2) + (mu * epsilon * omega^2 / c^2 - k^2) * E(x) = 0\n",
    "\n",
    "для диэлектрика\n",
    "\n",
    "kappa^2 = (mu * epsilon * omega^2 / c^2 - k^2)\n",
    "\n",
    "diff (E(x), x, 2) + kappa^2 * E(x) = 0"
   ]
  },
  {
   "cell_type": "code",
   "execution_count": 2,
   "metadata": {},
   "outputs": [
    {
     "data": {
      "text/latex": [
       "$$\\left[\\kappa_{0}, \\kappa_{1}\\right]$$"
      ],
      "text/plain": [
       "<IPython.core.display.Math object>"
      ]
     },
     "metadata": {},
     "output_type": "display_data"
    }
   ],
   "source": [
    "n_layers = 2\n",
    "\n",
    "kappa = []\n",
    "for i in range(n_layers):\n",
    "    exec (\"kappa_\" + str(i) + \" = var ('kappa_\" + str(i) + \"') \")\n",
    "    exec (\"assume(kappa_\" + str(i) + \", 'real')\")\n",
    "    exec (\"assume(kappa_\" + str(i) + \" > 0)\")\n",
    "    exec (\"kappa += [kappa_\" + str(i) + \"]\")\n",
    "\n",
    "display(Math(latex(kappa)))"
   ]
  },
  {
   "cell_type": "code",
   "execution_count": 3,
   "metadata": {},
   "outputs": [
    {
     "data": {
      "text/latex": [
       "$$\\left[\\epsilon_{0}, \\epsilon_{1}\\right]$$"
      ],
      "text/plain": [
       "<IPython.core.display.Math object>"
      ]
     },
     "metadata": {},
     "output_type": "display_data"
    }
   ],
   "source": [
    "epsilon = []\n",
    "for i in range(n_layers):\n",
    "    exec (\"epsilon_\" + str(i) + \" = var ('epsilon_\" + str(i) + \"') \")\n",
    "    exec (\"assume(epsilon_\" + str(i) + \", 'real')\")\n",
    "    exec (\"assume(epsilon_\" + str(i) + \" > 0)\")\n",
    "    exec (\"epsilon += [epsilon_\" + str(i) + \"]\")\n",
    "\n",
    "display(Math(latex(epsilon)))"
   ]
  },
  {
   "cell_type": "code",
   "execution_count": 4,
   "metadata": {},
   "outputs": [
    {
     "data": {
      "text/latex": [
       "$$\\left[\\mu_{0}, \\mu_{1}\\right]$$"
      ],
      "text/plain": [
       "<IPython.core.display.Math object>"
      ]
     },
     "metadata": {},
     "output_type": "display_data"
    }
   ],
   "source": [
    "mu = []\n",
    "for i in range(n_layers):\n",
    "    exec (\"mu_\" + str(i) + \" = var ('mu_\" + str(i) + \"') \")\n",
    "    exec (\"assume(mu_\" + str(i) + \", 'real')\")\n",
    "    exec (\"assume(mu_\" + str(i) + \" > 0)\")\n",
    "    exec (\"mu += [mu_\" + str(i) + \"]\")\n",
    "\n",
    "display(Math(latex(mu)))"
   ]
  },
  {
   "cell_type": "code",
   "execution_count": 5,
   "metadata": {},
   "outputs": [
    {
     "data": {
      "text/latex": [
       "$$\\left[-k^{2} + \\frac{\\epsilon_{0} \\mu_{0} \\omega^{2}}{c^{2}} = \\kappa_{0}^{2}, -k^{2} + \\frac{\\epsilon_{1} \\mu_{1} \\omega^{2}}{c^{2}} = \\kappa_{1}^{2}\\right]$$"
      ],
      "text/plain": [
       "<IPython.core.display.Math object>"
      ]
     },
     "metadata": {},
     "output_type": "display_data"
    }
   ],
   "source": [
    "# исходя из вида дифференциальных уравнений для диэлектрика\n",
    "# записываем соотнощения для волнового вектора в виде уравнений\n",
    "eq_kappa = []\n",
    "for i in range(n_layers):\n",
    "    eq_kappa += [mu[i] * epsilon[i] * omega^2 / c^2 - k^2 == kappa[i]^2]\n",
    "\n",
    "display(Math(latex(eq_kappa)))"
   ]
  },
  {
   "cell_type": "code",
   "execution_count": 6,
   "metadata": {},
   "outputs": [
    {
     "data": {
      "text/latex": [
       "$$K_{2} \\cos\\left(\\kappa_{1} x\\right) + K_{1} \\sin\\left(\\kappa_{1} x\\right)$$"
      ],
      "text/plain": [
       "<IPython.core.display.Math object>"
      ]
     },
     "metadata": {},
     "output_type": "display_data"
    }
   ],
   "source": [
    "# решаем полученные обыкновенные дифференциальные уравнения\n",
    "E_x = function('E_x')(x)\n",
    "\n",
    "de_dielectric_x = diff (E_x, x, 2) + kappa[i]^2 * E_x == 0\n",
    "E_dielectric_x = desolve(de_dielectric_x, E_x, ivar = x)\n",
    "\n",
    "\n",
    "# получая таким образом выражения для электрического поля в диэлектрике\n",
    "display(Math(latex(E_dielectric_x)))\n",
    "# _K2*cos(kappa*x) + _K1*sin(kappa*x)"
   ]
  },
  {
   "cell_type": "code",
   "execution_count": 7,
   "metadata": {},
   "outputs": [
    {
     "data": {
      "text/latex": [
       "$$\\left[\\mathit{Ax}_{0}, \\mathit{Ax}_{1}\\right]$$"
      ],
      "text/plain": [
       "<IPython.core.display.Math object>"
      ]
     },
     "metadata": {},
     "output_type": "display_data"
    },
    {
     "data": {
      "text/latex": [
       "$$\\left[\\mathit{Az}_{0}, \\mathit{Az}_{1}\\right]$$"
      ],
      "text/plain": [
       "<IPython.core.display.Math object>"
      ]
     },
     "metadata": {},
     "output_type": "display_data"
    },
    {
     "data": {
      "text/latex": [
       "$$\\left[\\mathit{Bx}_{0}, \\mathit{Bx}_{1}\\right]$$"
      ],
      "text/plain": [
       "<IPython.core.display.Math object>"
      ]
     },
     "metadata": {},
     "output_type": "display_data"
    },
    {
     "data": {
      "text/latex": [
       "$$\\left[\\mathit{Bz}_{0}, \\mathit{Bz}_{1}\\right]$$"
      ],
      "text/plain": [
       "<IPython.core.display.Math object>"
      ]
     },
     "metadata": {},
     "output_type": "display_data"
    }
   ],
   "source": [
    "Ax = []\n",
    "Az = []\n",
    "Bx = []\n",
    "Bz = []\n",
    "for i in range(n_layers):\n",
    "    exec (\"Ax_\" + str(i) + \" = var ('Ax_\" + str(i) + \"') \")\n",
    "    exec (\"Az_\" + str(i) + \" = var ('Az_\" + str(i) + \"') \")\n",
    "    exec (\"Bx_\" + str(i) + \" = var ('Bx_\" + str(i) + \"') \")\n",
    "    exec (\"Bz_\" + str(i) + \" = var ('Bz_\" + str(i) + \"') \")\n",
    "    exec (\"assume(Ax_\" + str(i) + \", 'real')\")\n",
    "    exec (\"assume(Az_\" + str(i) + \", 'real')\")\n",
    "    exec (\"assume(Bx_\" + str(i) + \", 'real')\")\n",
    "    exec (\"assume(Bz_\" + str(i) + \", 'real')\")\n",
    "    exec (\"Ax += [Ax_\" + str(i) + \"]\")\n",
    "    exec (\"Bx += [Bx_\" + str(i) + \"]\")\n",
    "    exec (\"Az += [Az_\" + str(i) + \"]\")\n",
    "    exec (\"Bz += [Bz_\" + str(i) + \"]\")\n",
    "\n",
    "display(Math(latex(Ax)))\n",
    "display(Math(latex(Az)))\n",
    "display(Math(latex(Bx)))\n",
    "display(Math(latex(Bz)))"
   ]
  },
  {
   "cell_type": "code",
   "execution_count": 8,
   "metadata": {},
   "outputs": [
    {
     "data": {
      "text/latex": [
       "$$\\mathit{Ax}_{0} \\cos\\left(\\kappa_{0} x\\right) + \\mathit{Bx}_{0} \\sin\\left(\\kappa_{0} x\\right)$$"
      ],
      "text/plain": [
       "<IPython.core.display.Math object>"
      ]
     },
     "metadata": {},
     "output_type": "display_data"
    },
    {
     "data": {
      "text/latex": [
       "$$\\mathit{Az}_{0} \\cos\\left(\\kappa_{0} x\\right) + \\mathit{Bz}_{0} \\sin\\left(\\kappa_{0} x\\right)$$"
      ],
      "text/plain": [
       "<IPython.core.display.Math object>"
      ]
     },
     "metadata": {},
     "output_type": "display_data"
    },
    {
     "name": "stdout",
     "output_type": "stream",
     "text": [
      "\n"
     ]
    },
    {
     "data": {
      "text/latex": [
       "$$\\mathit{Ax}_{1} \\cos\\left(\\kappa_{1} x\\right) + \\mathit{Bx}_{1} \\sin\\left(\\kappa_{1} x\\right)$$"
      ],
      "text/plain": [
       "<IPython.core.display.Math object>"
      ]
     },
     "metadata": {},
     "output_type": "display_data"
    },
    {
     "data": {
      "text/latex": [
       "$$\\mathit{Az}_{1} \\cos\\left(\\kappa_{1} x\\right) + \\mathit{Bz}_{1} \\sin\\left(\\kappa_{1} x\\right)$$"
      ],
      "text/plain": [
       "<IPython.core.display.Math object>"
      ]
     },
     "metadata": {},
     "output_type": "display_data"
    },
    {
     "name": "stdout",
     "output_type": "stream",
     "text": [
      "\n"
     ]
    }
   ],
   "source": [
    "Ex = []\n",
    "Ez = []\n",
    "for i in range(n_layers):\n",
    "    Ex += [ lambda x, i=i : Ax[i] * cos(kappa[i] * x) + Bx[i] * sin(kappa[i] * x)]\n",
    "    Ez += [ lambda x, i=i : Az[i] * cos(kappa[i] * x) + Bz[i] * sin(kappa[i] * x)]\n",
    "\n",
    "for i in range(n_layers):\n",
    "    display(Math(latex(Ex[i](x))))\n",
    "    display(Math(latex(Ez[i](x))))\n",
    "    print(\"\")"
   ]
  },
  {
   "cell_type": "code",
   "execution_count": 9,
   "metadata": {},
   "outputs": [
    {
     "data": {
      "text/latex": [
       "$$-\\mathit{Bz}_{0} \\kappa_{0} \\cos\\left(\\kappa_{0} x\\right) + \\mathit{Az}_{0} \\kappa_{0} \\sin\\left(\\kappa_{0} x\\right) + i \\, {\\left(\\mathit{Ax}_{0} \\cos\\left(\\kappa_{0} x\\right) + \\mathit{Bx}_{0} \\sin\\left(\\kappa_{0} x\\right)\\right)} k$$"
      ],
      "text/plain": [
       "<IPython.core.display.Math object>"
      ]
     },
     "metadata": {},
     "output_type": "display_data"
    },
    {
     "data": {
      "text/latex": [
       "$$-\\mathit{Bz}_{0} \\kappa_{0} \\cos\\left(\\kappa_{0} x\\right) + \\mathit{Az}_{0} \\kappa_{0} \\sin\\left(\\kappa_{0} x\\right) + {\\left(i \\, \\mathit{Ax}_{0} \\cos\\left(\\kappa_{0} x\\right) + i \\, \\mathit{Bx}_{0} \\sin\\left(\\kappa_{0} x\\right)\\right)} k$$"
      ],
      "text/plain": [
       "<IPython.core.display.Math object>"
      ]
     },
     "metadata": {},
     "output_type": "display_data"
    },
    {
     "name": "stdout",
     "output_type": "stream",
     "text": [
      "\n"
     ]
    },
    {
     "data": {
      "text/latex": [
       "$$\\frac{i \\, {\\left(\\mathit{Bz}_{0} \\kappa_{0} \\cos\\left(\\kappa_{0} x\\right) - \\mathit{Az}_{0} \\kappa_{0} \\sin\\left(\\kappa_{0} x\\right) - {\\left(i \\, \\mathit{Ax}_{0} \\cos\\left(\\kappa_{0} x\\right) + i \\, \\mathit{Bx}_{0} \\sin\\left(\\kappa_{0} x\\right)\\right)} k\\right)} c}{\\mu_{0} \\omega}$$"
      ],
      "text/plain": [
       "<IPython.core.display.Math object>"
      ]
     },
     "metadata": {},
     "output_type": "display_data"
    },
    {
     "name": "stdout",
     "output_type": "stream",
     "text": [
      "\n"
     ]
    },
    {
     "data": {
      "text/latex": [
       "$$-\\mathit{Bz}_{1} \\kappa_{1} \\cos\\left(\\kappa_{1} x\\right) + \\mathit{Az}_{1} \\kappa_{1} \\sin\\left(\\kappa_{1} x\\right) + i \\, {\\left(\\mathit{Ax}_{1} \\cos\\left(\\kappa_{1} x\\right) + \\mathit{Bx}_{1} \\sin\\left(\\kappa_{1} x\\right)\\right)} k$$"
      ],
      "text/plain": [
       "<IPython.core.display.Math object>"
      ]
     },
     "metadata": {},
     "output_type": "display_data"
    },
    {
     "data": {
      "text/latex": [
       "$$-\\mathit{Bz}_{1} \\kappa_{1} \\cos\\left(\\kappa_{1} x\\right) + \\mathit{Az}_{1} \\kappa_{1} \\sin\\left(\\kappa_{1} x\\right) + {\\left(i \\, \\mathit{Ax}_{1} \\cos\\left(\\kappa_{1} x\\right) + i \\, \\mathit{Bx}_{1} \\sin\\left(\\kappa_{1} x\\right)\\right)} k$$"
      ],
      "text/plain": [
       "<IPython.core.display.Math object>"
      ]
     },
     "metadata": {},
     "output_type": "display_data"
    },
    {
     "name": "stdout",
     "output_type": "stream",
     "text": [
      "\n"
     ]
    },
    {
     "data": {
      "text/latex": [
       "$$\\frac{i \\, {\\left(\\mathit{Bz}_{1} \\kappa_{1} \\cos\\left(\\kappa_{1} x\\right) - \\mathit{Az}_{1} \\kappa_{1} \\sin\\left(\\kappa_{1} x\\right) - {\\left(i \\, \\mathit{Ax}_{1} \\cos\\left(\\kappa_{1} x\\right) + i \\, \\mathit{Bx}_{1} \\sin\\left(\\kappa_{1} x\\right)\\right)} k\\right)} c}{\\mu_{1} \\omega}$$"
      ],
      "text/plain": [
       "<IPython.core.display.Math object>"
      ]
     },
     "metadata": {},
     "output_type": "display_data"
    },
    {
     "name": "stdout",
     "output_type": "stream",
     "text": [
      "\n"
     ]
    }
   ],
   "source": [
    "rot_E_y = []\n",
    "rotE_y = []\n",
    "Hy = []\n",
    "for i in range(n_layers):\n",
    "    rot_E_y += [lambda x, i=i : (I * k * Ex[i](x) - diff(Ez[i](x), x))]\n",
    "    exec (\"rotE_y += [lambda x, i=i :\"+ str(rot_E_y[i](x)) + \"]\")\n",
    "    Hy      += [lambda x, i=i : c / (mu[i] * I * omega) * rotE_y[i](x)]\n",
    "\n",
    "    display(Math(latex(rot_E_y[i](x))))\n",
    "    display(Math(latex(rotE_y[i](x))))\n",
    "    print(\"\")\n",
    "    display(Math(latex(Hy[i](x))))\n",
    "    print(\"\")"
   ]
  },
  {
   "cell_type": "code",
   "execution_count": 10,
   "metadata": {},
   "outputs": [
    {
     "data": {
      "text/latex": [
       "$$\\frac{{\\left(\\mathit{Bz}_{0} \\kappa_{0} \\cos\\left(\\kappa_{0} x\\right) - \\mathit{Az}_{0} \\kappa_{0} \\sin\\left(\\kappa_{0} x\\right) - {\\left(i \\, \\mathit{Ax}_{0} \\cos\\left(\\kappa_{0} x\\right) + i \\, \\mathit{Bx}_{0} \\sin\\left(\\kappa_{0} x\\right)\\right)} k\\right)} c k}{\\mu_{0} \\omega}$$"
      ],
      "text/plain": [
       "<IPython.core.display.Math object>"
      ]
     },
     "metadata": {},
     "output_type": "display_data"
    },
    {
     "data": {
      "text/latex": [
       "$$-\\frac{i \\, {\\left(\\mathit{Az}_{0} \\kappa_{0}^{2} \\cos\\left(\\kappa_{0} x\\right) + \\mathit{Bz}_{0} \\kappa_{0}^{2} \\sin\\left(\\kappa_{0} x\\right) + {\\left(i \\, \\mathit{Bx}_{0} \\kappa_{0} \\cos\\left(\\kappa_{0} x\\right) - i \\, \\mathit{Ax}_{0} \\kappa_{0} \\sin\\left(\\kappa_{0} x\\right)\\right)} k\\right)} c}{\\mu_{0} \\omega}$$"
      ],
      "text/plain": [
       "<IPython.core.display.Math object>"
      ]
     },
     "metadata": {},
     "output_type": "display_data"
    },
    {
     "name": "stdout",
     "output_type": "stream",
     "text": [
      "\n"
     ]
    },
    {
     "data": {
      "text/latex": [
       "$$\\frac{{\\left(\\mathit{Bz}_{1} \\kappa_{1} \\cos\\left(\\kappa_{1} x\\right) - \\mathit{Az}_{1} \\kappa_{1} \\sin\\left(\\kappa_{1} x\\right) - {\\left(i \\, \\mathit{Ax}_{1} \\cos\\left(\\kappa_{1} x\\right) + i \\, \\mathit{Bx}_{1} \\sin\\left(\\kappa_{1} x\\right)\\right)} k\\right)} c k}{\\mu_{1} \\omega}$$"
      ],
      "text/plain": [
       "<IPython.core.display.Math object>"
      ]
     },
     "metadata": {},
     "output_type": "display_data"
    },
    {
     "data": {
      "text/latex": [
       "$$-\\frac{i \\, {\\left(\\mathit{Az}_{1} \\kappa_{1}^{2} \\cos\\left(\\kappa_{1} x\\right) + \\mathit{Bz}_{1} \\kappa_{1}^{2} \\sin\\left(\\kappa_{1} x\\right) + {\\left(i \\, \\mathit{Bx}_{1} \\kappa_{1} \\cos\\left(\\kappa_{1} x\\right) - i \\, \\mathit{Ax}_{1} \\kappa_{1} \\sin\\left(\\kappa_{1} x\\right)\\right)} k\\right)} c}{\\mu_{1} \\omega}$$"
      ],
      "text/plain": [
       "<IPython.core.display.Math object>"
      ]
     },
     "metadata": {},
     "output_type": "display_data"
    },
    {
     "name": "stdout",
     "output_type": "stream",
     "text": [
      "\n"
     ]
    }
   ],
   "source": [
    "rot_H_x = []\n",
    "rot_H_z = []\n",
    "for i in range(n_layers):\n",
    "    rot_H_x += [lambda x, i=i : -I * k * Hy[i](x)]\n",
    "    rot_H_z += [lambda x, i=i : diff(Hy[i](x), x)]\n",
    "\n",
    "    display(Math(latex(rot_H_x[i](x))))\n",
    "    display(Math(latex(rot_H_z[i](x))))\n",
    "    print(\"\")"
   ]
  },
  {
   "cell_type": "code",
   "execution_count": 11,
   "metadata": {},
   "outputs": [
    {
     "data": {
      "text/latex": [
       "$$\\frac{{\\left(\\mathit{Bz}_{0} \\kappa_{0} \\cos\\left(\\kappa_{0} x\\right) - \\mathit{Az}_{0} \\kappa_{0} \\sin\\left(\\kappa_{0} x\\right) - {\\left(i \\, \\mathit{Ax}_{0} \\cos\\left(\\kappa_{0} x\\right) + i \\, \\mathit{Bx}_{0} \\sin\\left(\\kappa_{0} x\\right)\\right)} k\\right)} c k}{\\mu_{0} \\omega} = -\\frac{i \\, {\\left(\\mathit{Ax}_{0} \\cos\\left(\\kappa_{0} x\\right) + \\mathit{Bx}_{0} \\sin\\left(\\kappa_{0} x\\right)\\right)} \\epsilon_{0} \\omega}{c}$$"
      ],
      "text/plain": [
       "<IPython.core.display.Math object>"
      ]
     },
     "metadata": {},
     "output_type": "display_data"
    },
    {
     "name": "stdout",
     "output_type": "stream",
     "text": [
      "\n"
     ]
    },
    {
     "data": {
      "text/latex": [
       "$$-\\frac{i \\, {\\left(\\mathit{Az}_{0} \\kappa_{0}^{2} \\cos\\left(\\kappa_{0} x\\right) + \\mathit{Bz}_{0} \\kappa_{0}^{2} \\sin\\left(\\kappa_{0} x\\right) + {\\left(i \\, \\mathit{Bx}_{0} \\kappa_{0} \\cos\\left(\\kappa_{0} x\\right) - i \\, \\mathit{Ax}_{0} \\kappa_{0} \\sin\\left(\\kappa_{0} x\\right)\\right)} k\\right)} c}{\\mu_{0} \\omega} = -\\frac{i \\, {\\left(\\mathit{Az}_{0} \\cos\\left(\\kappa_{0} x\\right) + \\mathit{Bz}_{0} \\sin\\left(\\kappa_{0} x\\right)\\right)} \\epsilon_{0} \\omega}{c}$$"
      ],
      "text/plain": [
       "<IPython.core.display.Math object>"
      ]
     },
     "metadata": {},
     "output_type": "display_data"
    },
    {
     "name": "stdout",
     "output_type": "stream",
     "text": [
      "\n"
     ]
    },
    {
     "data": {
      "text/latex": [
       "$$\\frac{{\\left(\\mathit{Bz}_{1} \\kappa_{1} \\cos\\left(\\kappa_{1} x\\right) - \\mathit{Az}_{1} \\kappa_{1} \\sin\\left(\\kappa_{1} x\\right) - {\\left(i \\, \\mathit{Ax}_{1} \\cos\\left(\\kappa_{1} x\\right) + i \\, \\mathit{Bx}_{1} \\sin\\left(\\kappa_{1} x\\right)\\right)} k\\right)} c k}{\\mu_{1} \\omega} = -\\frac{i \\, {\\left(\\mathit{Ax}_{1} \\cos\\left(\\kappa_{1} x\\right) + \\mathit{Bx}_{1} \\sin\\left(\\kappa_{1} x\\right)\\right)} \\epsilon_{1} \\omega}{c}$$"
      ],
      "text/plain": [
       "<IPython.core.display.Math object>"
      ]
     },
     "metadata": {},
     "output_type": "display_data"
    },
    {
     "name": "stdout",
     "output_type": "stream",
     "text": [
      "\n"
     ]
    },
    {
     "data": {
      "text/latex": [
       "$$-\\frac{i \\, {\\left(\\mathit{Az}_{1} \\kappa_{1}^{2} \\cos\\left(\\kappa_{1} x\\right) + \\mathit{Bz}_{1} \\kappa_{1}^{2} \\sin\\left(\\kappa_{1} x\\right) + {\\left(i \\, \\mathit{Bx}_{1} \\kappa_{1} \\cos\\left(\\kappa_{1} x\\right) - i \\, \\mathit{Ax}_{1} \\kappa_{1} \\sin\\left(\\kappa_{1} x\\right)\\right)} k\\right)} c}{\\mu_{1} \\omega} = -\\frac{i \\, {\\left(\\mathit{Az}_{1} \\cos\\left(\\kappa_{1} x\\right) + \\mathit{Bz}_{1} \\sin\\left(\\kappa_{1} x\\right)\\right)} \\epsilon_{1} \\omega}{c}$$"
      ],
      "text/plain": [
       "<IPython.core.display.Math object>"
      ]
     },
     "metadata": {},
     "output_type": "display_data"
    },
    {
     "name": "stdout",
     "output_type": "stream",
     "text": [
      "\n"
     ]
    }
   ],
   "source": [
    "# rot H = (1/c) * dD/dt\n",
    "eq_rot_H_x = []\n",
    "eq_rot_H_z = []\n",
    "for i in range(n_layers):\n",
    "    eq_rot_H_x += [rot_H_x[i](x) == (1/c) *(-I * omega) * epsilon[i] * Ex[i](x)]\n",
    "    eq_rot_H_z += [rot_H_z[i](x) == (1/c) *(-I * omega) * epsilon[i] * Ez[i](x)]\n",
    "\n",
    "    display(Math(latex(eq_rot_H_x[i])))\n",
    "    print(\"\")\n",
    "    display(Math(latex(eq_rot_H_z[i])))\n",
    "    print(\"\")"
   ]
  },
  {
   "cell_type": "code",
   "execution_count": 12,
   "metadata": {},
   "outputs": [
    {
     "data": {
      "text/plain": [
       "[Az_0, Az_1]"
      ]
     },
     "execution_count": 12,
     "metadata": {},
     "output_type": "execute_result"
    }
   ],
   "source": [
    "exclude_vars = [Az[0], Az[n_layers - 1]]\n",
    "exclude_vars"
   ]
  },
  {
   "cell_type": "code",
   "execution_count": 13,
   "metadata": {},
   "outputs": [
    {
     "data": {
      "text/latex": [
       "$$\\left[\\mathit{Az}_{0} = 0.000000000000000, \\mathit{Az}_{1} \\cos\\left(2 \\, a \\kappa_{1}\\right) + \\mathit{Bz}_{1} \\sin\\left(2 \\, a \\kappa_{1}\\right) = 0.000000000000000\\right]$$"
      ],
      "text/plain": [
       "<IPython.core.display.Math object>"
      ]
     },
     "metadata": {},
     "output_type": "display_data"
    },
    {
     "data": {
      "text/latex": [
       "$$\\mathit{Az}_{0} = 0$$"
      ],
      "text/plain": [
       "<IPython.core.display.Math object>"
      ]
     },
     "metadata": {},
     "output_type": "display_data"
    },
    {
     "data": {
      "text/latex": [
       "$$\\mathit{Az}_{1} = -\\frac{\\mathit{Bz}_{1} \\sin\\left(2 \\, a \\kappa_{1}\\right)}{\\cos\\left(2 \\, a \\kappa_{1}\\right)}$$"
      ],
      "text/plain": [
       "<IPython.core.display.Math object>"
      ]
     },
     "metadata": {},
     "output_type": "display_data"
    },
    {
     "data": {
      "text/latex": [
       "$$\\left[\\mathit{Az}_{0} = 0, \\mathit{Az}_{1} = -\\frac{\\mathit{Bz}_{1} \\sin\\left(2 \\, a \\kappa_{1}\\right)}{\\cos\\left(2 \\, a \\kappa_{1}\\right)}\\right]$$"
      ],
      "text/plain": [
       "<IPython.core.display.Math object>"
      ]
     },
     "metadata": {},
     "output_type": "display_data"
    }
   ],
   "source": [
    "# граничные условия\n",
    "# тангенциальная компонента электрического поля\n",
    "eq_Ez_superconductor_boundary_conditions = []\n",
    "eq_Ez_superconductor_boundary_conditions += [Ez[0](0) == 0.0]\n",
    "eq_Ez_superconductor_boundary_conditions += [Ez[n_layers - 1](a*n_layers) == 0.0]\n",
    "\n",
    "display(Math(latex(eq_Ez_superconductor_boundary_conditions)))\n",
    "\n",
    "boundary_subs_begin = solve(eq_Ez_superconductor_boundary_conditions[0], Az[0])[0]\n",
    "boundary_subs_end = solve(eq_Ez_superconductor_boundary_conditions[1], Az[n_layers - 1])[0]\n",
    "\n",
    "display(Math(latex(boundary_subs_begin)))\n",
    "display(Math(latex(boundary_subs_end)))\n",
    "\n",
    "boundary_subs = [boundary_subs_begin, boundary_subs_end]\n",
    "display(Math(latex(boundary_subs)))"
   ]
  },
  {
   "cell_type": "code",
   "execution_count": 14,
   "metadata": {},
   "outputs": [
    {
     "data": {
      "text/latex": [
       "$$\\mathit{Az}_{0} \\cos\\left(a \\kappa_{0}\\right) + \\mathit{Bz}_{0} \\sin\\left(a \\kappa_{0}\\right) = \\mathit{Az}_{1} \\cos\\left(a \\kappa_{1}\\right) + \\mathit{Bz}_{1} \\sin\\left(a \\kappa_{1}\\right)$$"
      ],
      "text/plain": [
       "<IPython.core.display.Math object>"
      ]
     },
     "metadata": {},
     "output_type": "display_data"
    },
    {
     "name": "stdout",
     "output_type": "stream",
     "text": [
      "\n"
     ]
    }
   ],
   "source": [
    "# граничные условия на гринице диэлектрика и диэлектрика\n",
    "# тангенциальная компонента электрического поля\n",
    "eq_Ez_boundary_conditions = []\n",
    "for i in range(n_layers - 1):\n",
    "    eq_Ez_boundary_conditions += [Ez[i] (a*(i+1)) == Ez[i+1](a*(i+1))]\n",
    "\n",
    "    display(Math(latex(eq_Ez_boundary_conditions[i])))\n",
    "    print(\"\")"
   ]
  },
  {
   "cell_type": "code",
   "execution_count": 15,
   "metadata": {},
   "outputs": [
    {
     "data": {
      "text/latex": [
       "$${\\left(\\mathit{Ax}_{0} \\cos\\left(a \\kappa_{0}\\right) + \\mathit{Bx}_{0} \\sin\\left(a \\kappa_{0}\\right)\\right)} \\epsilon_{0} = {\\left(\\mathit{Ax}_{1} \\cos\\left(a \\kappa_{1}\\right) + \\mathit{Bx}_{1} \\sin\\left(a \\kappa_{1}\\right)\\right)} \\epsilon_{1}$$"
      ],
      "text/plain": [
       "<IPython.core.display.Math object>"
      ]
     },
     "metadata": {},
     "output_type": "display_data"
    },
    {
     "name": "stdout",
     "output_type": "stream",
     "text": [
      "\n"
     ]
    }
   ],
   "source": [
    "# граничные условия на гринице диэлектрика и диэлектрика\n",
    "# нормальная компонента электрического смещения\n",
    "eq_Ex_boundary_conditions = []\n",
    "for i in range(n_layers - 1):\n",
    "    eq_Ex_boundary_conditions += [epsilon[i] * Ex[i](a*(i+1)) == epsilon[i+1] * Ex[i+1](a*(i+1))]\n",
    "\n",
    "    display(Math(latex(eq_Ex_boundary_conditions[i])))\n",
    "    print(\"\")"
   ]
  },
  {
   "cell_type": "code",
   "execution_count": 16,
   "metadata": {},
   "outputs": [
    {
     "data": {
      "text/latex": [
       "$$\\frac{i \\, {\\left(\\mathit{Bz}_{0} \\kappa_{0} \\cos\\left(a \\kappa_{0}\\right) - \\mathit{Az}_{0} \\kappa_{0} \\sin\\left(a \\kappa_{0}\\right) - {\\left(i \\, \\mathit{Ax}_{0} \\cos\\left(a \\kappa_{0}\\right) + i \\, \\mathit{Bx}_{0} \\sin\\left(a \\kappa_{0}\\right)\\right)} k\\right)} c}{\\mu_{0} \\omega} = \\frac{i \\, {\\left(\\mathit{Bz}_{1} \\kappa_{1} \\cos\\left(a \\kappa_{1}\\right) - \\mathit{Az}_{1} \\kappa_{1} \\sin\\left(a \\kappa_{1}\\right) - {\\left(i \\, \\mathit{Ax}_{1} \\cos\\left(a \\kappa_{1}\\right) + i \\, \\mathit{Bx}_{1} \\sin\\left(a \\kappa_{1}\\right)\\right)} k\\right)} c}{\\mu_{1} \\omega}$$"
      ],
      "text/plain": [
       "<IPython.core.display.Math object>"
      ]
     },
     "metadata": {},
     "output_type": "display_data"
    },
    {
     "name": "stdout",
     "output_type": "stream",
     "text": [
      "\n"
     ]
    }
   ],
   "source": [
    "# граничные условия на гринице диэлектрика и диэлектрика\n",
    "# тангенциальная компонента поля H\n",
    "eq_Hy_boundary_conditions = []\n",
    "for i in range(n_layers - 1):\n",
    "    eq_Hy_boundary_conditions += [Hy[i] (a*(i+1)) == Hy[i+1](a*(i+1))]\n",
    "\n",
    "    display(Math(latex(eq_Hy_boundary_conditions[i])))\n",
    "    print(\"\")"
   ]
  },
  {
   "cell_type": "code",
   "execution_count": 17,
   "metadata": {},
   "outputs": [],
   "source": [
    "def GenerateMatrix(equsys, vars):\n",
    "    A=matrix(SR, [[(equ.lhs() - equ.rhs()).coefficient(v) for v in vars] for equ in equsys])\n",
    "    return A\n",
    "\n",
    "def GenerateMatrixMult(equsys, vars):\n",
    "    A=matrix(SR, [[(equ.lhs() - equ.rhs()).coefficient(v) * v for v in vars] for equ in equsys])\n",
    "    return A\n",
    "\n",
    "def reduceDependedRows(M):\n",
    "    print (\"\")\n",
    "    print (\"M.nrows()\", M.nrows())\n",
    "    print (\"M.ncols()\", M.ncols())\n",
    "    print (\"M.rank()\", M.rank())\n",
    "\n",
    "    M_pivot_rows = M.pivot_rows()\n",
    "    print (\"M.pivot_rows() =\", M_pivot_rows)\n",
    "\n",
    "    M_rows = M.rows()\n",
    "    for row in M_rows:\n",
    "        print(\"row =\")\n",
    "        display(Math(latex(row)))\n",
    "\n",
    "    reduced_list = []\n",
    "    for r in M_pivot_rows:\n",
    "        print (\"M_rows[\", r, \"] =\")\n",
    "        display(Math(latex(M_rows[r])))\n",
    "        reduced_list.append(M_rows[r])\n",
    "\n",
    "    reduced_M = matrix(SR, len(M_pivot_rows), M.ncols(), reduced_list)\n",
    "    if reduced_M.nrows() == reduced_M.ncols():\n",
    "        reduced_M_det = reduced_M.det()\n",
    "        print (\"\")\n",
    "        print (\"reduced_M.det() =\")\n",
    "        display(Math(latex(reduced_M_det)))\n",
    "    return reduced_M"
   ]
  },
  {
   "cell_type": "code",
   "execution_count": 18,
   "metadata": {},
   "outputs": [],
   "source": [
    "def rot_H_solve(M_rotH, vars, eq_kappa, kappa):\n",
    "    if (M_rotH.nrows() != 2):\n",
    "        return\n",
    "    if (M_rotH.ncols() != len(vars)):\n",
    "        return\n",
    "    xx = vector(SR, vars)\n",
    "    yy = vector(SR, [0, 0])\n",
    "    print(\"eqns =\")\n",
    "    eqns = [(M_rotH*xx)[index] == yy[index] for index in [0,1]]\n",
    "    display(Math(latex(eqns)))\n",
    "    res = []\n",
    "\n",
    "    for index in [0,1]:\n",
    "        row_M = M_rotH[index]\n",
    "        print(\"row_M =\")\n",
    "        display(Math(latex(row_M)))\n",
    "        eq = eqns[index].full_simplify()\n",
    "        print (\"eq =\")\n",
    "        display(Math(latex(eq)))\n",
    "        print (\"\")\n",
    "        \n",
    "        eq2 = (eq / cos(kappa * x)).full_simplify().expand()\n",
    "        print (\"eq2 =\")\n",
    "        display(Math(latex(eq2)))\n",
    "        \n",
    "        tg_kappa_x_coeff = eq2.lhs().coefficient(sin(kappa * x) / cos(kappa * x))\n",
    "        print (\"tg_kappa_x_coeff =\")\n",
    "        display(Math(latex(tg_kappa_x_coeff)))\n",
    "        \n",
    "        eq_tg_kappa_x_coeff = tg_kappa_x_coeff == 0\n",
    "        for var in vars:\n",
    "            print (\"var =\")\n",
    "            display(Math(latex(var)))\n",
    "            sol_tg_kappa_x_coeff = solve(eq_tg_kappa_x_coeff, var)\n",
    "            print(\"sol_tg_kappa_x_coeff=\")\n",
    "            display(Math(latex(sol_tg_kappa_x_coeff)))\n",
    "            if len(sol_tg_kappa_x_coeff) > 0:\n",
    "                res += sol_tg_kappa_x_coeff            \n",
    "            \n",
    "                eq4 = eq.subs(sol_tg_kappa_x_coeff)\n",
    "                print (\"eq4 =\")\n",
    "                display(Math(latex(eq4)))\n",
    "\n",
    "                eq4 = eq4.full_simplify()\n",
    "                print (\"eq4 =\")\n",
    "                display(Math(latex(eq4)))\n",
    "\n",
    "                for var in vars:\n",
    "                    print (\"var =\")\n",
    "                    display(Math(latex(var)))\n",
    "                    print (\"\")\n",
    "                    sol = solve(eq4, var)\n",
    "                    print(\"sol=\")\n",
    "                    display(Math(latex(sol)))\n",
    "                    print (\"\")\n",
    "                    res += sol\n",
    "    return res"
   ]
  },
  {
   "cell_type": "code",
   "execution_count": 19,
   "metadata": {},
   "outputs": [
    {
     "name": "stdout",
     "output_type": "stream",
     "text": [
      "eq_rot_H_x = \n"
     ]
    },
    {
     "data": {
      "text/latex": [
       "$$-\\frac{\\mathit{Bx}_{0} k^{2} \\sin\\left(\\kappa_{0} x\\right) + {\\left(\\mathit{Ax}_{0} k^{2} + i \\, \\mathit{Bz}_{0} k \\kappa_{0}\\right)} \\cos\\left(\\kappa_{0} x\\right)}{\\mu_{0}} = -\\frac{{\\left(\\mathit{Ax}_{0} k^{2} + \\mathit{Ax}_{0} \\kappa_{0}^{2}\\right)} \\cos\\left(\\kappa_{0} x\\right) + {\\left(\\mathit{Bx}_{0} k^{2} + \\mathit{Bx}_{0} \\kappa_{0}^{2}\\right)} \\sin\\left(\\kappa_{0} x\\right)}{\\mu_{0}}$$"
      ],
      "text/plain": [
       "<IPython.core.display.Math object>"
      ]
     },
     "metadata": {},
     "output_type": "display_data"
    },
    {
     "name": "stdout",
     "output_type": "stream",
     "text": [
      "eq_rot_H_z = \n"
     ]
    },
    {
     "data": {
      "text/latex": [
       "$$\\frac{-i \\, \\mathit{Bx}_{0} k \\kappa_{0} \\cos\\left(\\kappa_{0} x\\right) + {\\left(i \\, \\mathit{Ax}_{0} k \\kappa_{0} - \\mathit{Bz}_{0} \\kappa_{0}^{2}\\right)} \\sin\\left(\\kappa_{0} x\\right)}{\\mu_{0}} = -\\frac{{\\left(\\mathit{Bz}_{0} k^{2} + \\mathit{Bz}_{0} \\kappa_{0}^{2}\\right)} \\sin\\left(\\kappa_{0} x\\right)}{\\mu_{0}}$$"
      ],
      "text/plain": [
       "<IPython.core.display.Math object>"
      ]
     },
     "metadata": {},
     "output_type": "display_data"
    },
    {
     "name": "stdout",
     "output_type": "stream",
     "text": [
      "\n"
     ]
    },
    {
     "data": {
      "text/latex": [
       "$$\\left[\\mathit{Ax}_{0}, \\mathit{Bx}_{0}, \\mathit{Bz}_{0}\\right]$$"
      ],
      "text/plain": [
       "<IPython.core.display.Math object>"
      ]
     },
     "metadata": {},
     "output_type": "display_data"
    },
    {
     "name": "stdout",
     "output_type": "stream",
     "text": [
      "M_rotH =\n"
     ]
    },
    {
     "data": {
      "text/latex": [
       "$$\\left(\\begin{array}{rrr}\n",
       "-\\frac{k^{2} \\cos\\left(\\kappa_{0} x\\right)}{\\mu_{0}} + \\frac{{\\left(k^{2} + \\kappa_{0}^{2}\\right)} \\cos\\left(\\kappa_{0} x\\right)}{\\mu_{0}} & -\\frac{k^{2} \\sin\\left(\\kappa_{0} x\\right)}{\\mu_{0}} + \\frac{{\\left(k^{2} + \\kappa_{0}^{2}\\right)} \\sin\\left(\\kappa_{0} x\\right)}{\\mu_{0}} & -\\frac{i \\, k \\kappa_{0} \\cos\\left(\\kappa_{0} x\\right)}{\\mu_{0}} \\\\\n",
       "\\frac{i \\, k \\kappa_{0} \\sin\\left(\\kappa_{0} x\\right)}{\\mu_{0}} & -\\frac{i \\, k \\kappa_{0} \\cos\\left(\\kappa_{0} x\\right)}{\\mu_{0}} & -\\frac{\\kappa_{0}^{2} \\sin\\left(\\kappa_{0} x\\right)}{\\mu_{0}} + \\frac{{\\left(k^{2} + \\kappa_{0}^{2}\\right)} \\sin\\left(\\kappa_{0} x\\right)}{\\mu_{0}}\n",
       "\\end{array}\\right)$$"
      ],
      "text/plain": [
       "<IPython.core.display.Math object>"
      ]
     },
     "metadata": {},
     "output_type": "display_data"
    },
    {
     "name": "stdout",
     "output_type": "stream",
     "text": [
      "M_rotH.nrows = 2\n",
      "M_rotH.ncols = 3\n",
      "M_rotH.rank = 2\n",
      "eqns =\n"
     ]
    },
    {
     "data": {
      "text/latex": [
       "$$\\left[-\\frac{i \\, \\mathit{Bz}_{0} k \\kappa_{0} \\cos\\left(\\kappa_{0} x\\right)}{\\mu_{0}} - {\\left(\\frac{k^{2} \\cos\\left(\\kappa_{0} x\\right)}{\\mu_{0}} - \\frac{{\\left(k^{2} + \\kappa_{0}^{2}\\right)} \\cos\\left(\\kappa_{0} x\\right)}{\\mu_{0}}\\right)} \\mathit{Ax}_{0} - {\\left(\\frac{k^{2} \\sin\\left(\\kappa_{0} x\\right)}{\\mu_{0}} - \\frac{{\\left(k^{2} + \\kappa_{0}^{2}\\right)} \\sin\\left(\\kappa_{0} x\\right)}{\\mu_{0}}\\right)} \\mathit{Bx}_{0} = 0, -\\frac{i \\, \\mathit{Bx}_{0} k \\kappa_{0} \\cos\\left(\\kappa_{0} x\\right)}{\\mu_{0}} + \\frac{i \\, \\mathit{Ax}_{0} k \\kappa_{0} \\sin\\left(\\kappa_{0} x\\right)}{\\mu_{0}} - {\\left(\\frac{\\kappa_{0}^{2} \\sin\\left(\\kappa_{0} x\\right)}{\\mu_{0}} - \\frac{{\\left(k^{2} + \\kappa_{0}^{2}\\right)} \\sin\\left(\\kappa_{0} x\\right)}{\\mu_{0}}\\right)} \\mathit{Bz}_{0} = 0\\right]$$"
      ],
      "text/plain": [
       "<IPython.core.display.Math object>"
      ]
     },
     "metadata": {},
     "output_type": "display_data"
    },
    {
     "name": "stdout",
     "output_type": "stream",
     "text": [
      "row_M =\n"
     ]
    },
    {
     "data": {
      "text/latex": [
       "$$\\left(-\\frac{k^{2} \\cos\\left(\\kappa_{0} x\\right)}{\\mu_{0}} + \\frac{{\\left(k^{2} + \\kappa_{0}^{2}\\right)} \\cos\\left(\\kappa_{0} x\\right)}{\\mu_{0}},\\,-\\frac{k^{2} \\sin\\left(\\kappa_{0} x\\right)}{\\mu_{0}} + \\frac{{\\left(k^{2} + \\kappa_{0}^{2}\\right)} \\sin\\left(\\kappa_{0} x\\right)}{\\mu_{0}},\\,-\\frac{i \\, k \\kappa_{0} \\cos\\left(\\kappa_{0} x\\right)}{\\mu_{0}}\\right)$$"
      ],
      "text/plain": [
       "<IPython.core.display.Math object>"
      ]
     },
     "metadata": {},
     "output_type": "display_data"
    },
    {
     "name": "stdout",
     "output_type": "stream",
     "text": [
      "eq =\n"
     ]
    },
    {
     "data": {
      "text/latex": [
       "$$\\frac{\\mathit{Bx}_{0} \\kappa_{0}^{2} \\sin\\left(\\kappa_{0} x\\right) + {\\left(-i \\, \\mathit{Bz}_{0} k \\kappa_{0} + \\mathit{Ax}_{0} \\kappa_{0}^{2}\\right)} \\cos\\left(\\kappa_{0} x\\right)}{\\mu_{0}} = 0$$"
      ],
      "text/plain": [
       "<IPython.core.display.Math object>"
      ]
     },
     "metadata": {},
     "output_type": "display_data"
    },
    {
     "name": "stdout",
     "output_type": "stream",
     "text": [
      "\n",
      "eq2 =\n"
     ]
    },
    {
     "data": {
      "text/latex": [
       "$$-\\frac{i \\, \\mathit{Bz}_{0} k \\kappa_{0}}{\\mu_{0}} + \\frac{\\mathit{Ax}_{0} \\kappa_{0}^{2}}{\\mu_{0}} + \\frac{\\mathit{Bx}_{0} \\kappa_{0}^{2} \\sin\\left(\\kappa_{0} x\\right)}{\\mu_{0} \\cos\\left(\\kappa_{0} x\\right)} = 0$$"
      ],
      "text/plain": [
       "<IPython.core.display.Math object>"
      ]
     },
     "metadata": {},
     "output_type": "display_data"
    },
    {
     "name": "stdout",
     "output_type": "stream",
     "text": [
      "tg_kappa_x_coeff =\n"
     ]
    },
    {
     "data": {
      "text/latex": [
       "$$\\frac{\\mathit{Bx}_{0} \\kappa_{0}^{2}}{\\mu_{0}}$$"
      ],
      "text/plain": [
       "<IPython.core.display.Math object>"
      ]
     },
     "metadata": {},
     "output_type": "display_data"
    },
    {
     "name": "stdout",
     "output_type": "stream",
     "text": [
      "var =\n"
     ]
    },
    {
     "data": {
      "text/latex": [
       "$$\\mathit{Ax}_{0}$$"
      ],
      "text/plain": [
       "<IPython.core.display.Math object>"
      ]
     },
     "metadata": {},
     "output_type": "display_data"
    },
    {
     "name": "stdout",
     "output_type": "stream",
     "text": [
      "sol_tg_kappa_x_coeff=\n"
     ]
    },
    {
     "data": {
      "text/latex": [
       "$$\\left[\\right]$$"
      ],
      "text/plain": [
       "<IPython.core.display.Math object>"
      ]
     },
     "metadata": {},
     "output_type": "display_data"
    },
    {
     "name": "stdout",
     "output_type": "stream",
     "text": [
      "var =\n"
     ]
    },
    {
     "data": {
      "text/latex": [
       "$$\\mathit{Bx}_{0}$$"
      ],
      "text/plain": [
       "<IPython.core.display.Math object>"
      ]
     },
     "metadata": {},
     "output_type": "display_data"
    },
    {
     "name": "stdout",
     "output_type": "stream",
     "text": [
      "sol_tg_kappa_x_coeff=\n"
     ]
    },
    {
     "data": {
      "text/latex": [
       "$$\\left[\\mathit{Bx}_{0} = 0\\right]$$"
      ],
      "text/plain": [
       "<IPython.core.display.Math object>"
      ]
     },
     "metadata": {},
     "output_type": "display_data"
    },
    {
     "name": "stdout",
     "output_type": "stream",
     "text": [
      "eq4 =\n"
     ]
    },
    {
     "data": {
      "text/latex": [
       "$$\\frac{{\\left(-i \\, \\mathit{Bz}_{0} k \\kappa_{0} + \\mathit{Ax}_{0} \\kappa_{0}^{2}\\right)} \\cos\\left(\\kappa_{0} x\\right)}{\\mu_{0}} = 0$$"
      ],
      "text/plain": [
       "<IPython.core.display.Math object>"
      ]
     },
     "metadata": {},
     "output_type": "display_data"
    },
    {
     "name": "stdout",
     "output_type": "stream",
     "text": [
      "eq4 =\n"
     ]
    },
    {
     "data": {
      "text/latex": [
       "$$\\frac{{\\left(-i \\, \\mathit{Bz}_{0} k \\kappa_{0} + \\mathit{Ax}_{0} \\kappa_{0}^{2}\\right)} \\cos\\left(\\kappa_{0} x\\right)}{\\mu_{0}} = 0$$"
      ],
      "text/plain": [
       "<IPython.core.display.Math object>"
      ]
     },
     "metadata": {},
     "output_type": "display_data"
    },
    {
     "name": "stdout",
     "output_type": "stream",
     "text": [
      "var =\n"
     ]
    },
    {
     "data": {
      "text/latex": [
       "$$\\mathit{Ax}_{0}$$"
      ],
      "text/plain": [
       "<IPython.core.display.Math object>"
      ]
     },
     "metadata": {},
     "output_type": "display_data"
    },
    {
     "name": "stdout",
     "output_type": "stream",
     "text": [
      "\n",
      "sol=\n"
     ]
    },
    {
     "data": {
      "text/latex": [
       "$$\\left[\\mathit{Ax}_{0} = \\frac{i \\, \\mathit{Bz}_{0} k}{\\kappa_{0}}\\right]$$"
      ],
      "text/plain": [
       "<IPython.core.display.Math object>"
      ]
     },
     "metadata": {},
     "output_type": "display_data"
    },
    {
     "name": "stdout",
     "output_type": "stream",
     "text": [
      "\n",
      "var =\n"
     ]
    },
    {
     "data": {
      "text/latex": [
       "$$\\mathit{Bx}_{0}$$"
      ],
      "text/plain": [
       "<IPython.core.display.Math object>"
      ]
     },
     "metadata": {},
     "output_type": "display_data"
    },
    {
     "name": "stdout",
     "output_type": "stream",
     "text": [
      "\n",
      "sol=\n"
     ]
    },
    {
     "data": {
      "text/latex": [
       "$$\\left[\\right]$$"
      ],
      "text/plain": [
       "<IPython.core.display.Math object>"
      ]
     },
     "metadata": {},
     "output_type": "display_data"
    },
    {
     "name": "stdout",
     "output_type": "stream",
     "text": [
      "\n",
      "var =\n"
     ]
    },
    {
     "data": {
      "text/latex": [
       "$$\\mathit{Bz}_{0}$$"
      ],
      "text/plain": [
       "<IPython.core.display.Math object>"
      ]
     },
     "metadata": {},
     "output_type": "display_data"
    },
    {
     "name": "stdout",
     "output_type": "stream",
     "text": [
      "\n",
      "sol=\n"
     ]
    },
    {
     "data": {
      "text/latex": [
       "$$\\left[\\mathit{Bz}_{0} = -\\frac{i \\, \\mathit{Ax}_{0} \\kappa_{0}}{k}\\right]$$"
      ],
      "text/plain": [
       "<IPython.core.display.Math object>"
      ]
     },
     "metadata": {},
     "output_type": "display_data"
    },
    {
     "name": "stdout",
     "output_type": "stream",
     "text": [
      "\n",
      "var =\n"
     ]
    },
    {
     "data": {
      "text/latex": [
       "$$\\mathit{Bz}_{0}$$"
      ],
      "text/plain": [
       "<IPython.core.display.Math object>"
      ]
     },
     "metadata": {},
     "output_type": "display_data"
    },
    {
     "name": "stdout",
     "output_type": "stream",
     "text": [
      "sol_tg_kappa_x_coeff=\n"
     ]
    },
    {
     "data": {
      "text/latex": [
       "$$\\left[\\right]$$"
      ],
      "text/plain": [
       "<IPython.core.display.Math object>"
      ]
     },
     "metadata": {},
     "output_type": "display_data"
    },
    {
     "name": "stdout",
     "output_type": "stream",
     "text": [
      "row_M =\n"
     ]
    },
    {
     "data": {
      "text/latex": [
       "$$\\left(\\frac{i \\, k \\kappa_{0} \\sin\\left(\\kappa_{0} x\\right)}{\\mu_{0}},\\,-\\frac{i \\, k \\kappa_{0} \\cos\\left(\\kappa_{0} x\\right)}{\\mu_{0}},\\,-\\frac{\\kappa_{0}^{2} \\sin\\left(\\kappa_{0} x\\right)}{\\mu_{0}} + \\frac{{\\left(k^{2} + \\kappa_{0}^{2}\\right)} \\sin\\left(\\kappa_{0} x\\right)}{\\mu_{0}}\\right)$$"
      ],
      "text/plain": [
       "<IPython.core.display.Math object>"
      ]
     },
     "metadata": {},
     "output_type": "display_data"
    },
    {
     "name": "stdout",
     "output_type": "stream",
     "text": [
      "eq =\n"
     ]
    },
    {
     "data": {
      "text/latex": [
       "$$\\frac{-i \\, \\mathit{Bx}_{0} k \\kappa_{0} \\cos\\left(\\kappa_{0} x\\right) + {\\left(\\mathit{Bz}_{0} k^{2} + i \\, \\mathit{Ax}_{0} k \\kappa_{0}\\right)} \\sin\\left(\\kappa_{0} x\\right)}{\\mu_{0}} = 0$$"
      ],
      "text/plain": [
       "<IPython.core.display.Math object>"
      ]
     },
     "metadata": {},
     "output_type": "display_data"
    },
    {
     "name": "stdout",
     "output_type": "stream",
     "text": [
      "\n",
      "eq2 =\n"
     ]
    },
    {
     "data": {
      "text/latex": [
       "$$-\\frac{i \\, \\mathit{Bx}_{0} k \\kappa_{0}}{\\mu_{0}} + \\frac{\\mathit{Bz}_{0} k^{2} \\sin\\left(\\kappa_{0} x\\right)}{\\mu_{0} \\cos\\left(\\kappa_{0} x\\right)} + \\frac{i \\, \\mathit{Ax}_{0} k \\kappa_{0} \\sin\\left(\\kappa_{0} x\\right)}{\\mu_{0} \\cos\\left(\\kappa_{0} x\\right)} = 0$$"
      ],
      "text/plain": [
       "<IPython.core.display.Math object>"
      ]
     },
     "metadata": {},
     "output_type": "display_data"
    },
    {
     "name": "stdout",
     "output_type": "stream",
     "text": [
      "tg_kappa_x_coeff =\n"
     ]
    },
    {
     "data": {
      "text/latex": [
       "$$\\frac{\\mathit{Bz}_{0} k^{2}}{\\mu_{0}} + \\frac{i \\, \\mathit{Ax}_{0} k \\kappa_{0}}{\\mu_{0}}$$"
      ],
      "text/plain": [
       "<IPython.core.display.Math object>"
      ]
     },
     "metadata": {},
     "output_type": "display_data"
    },
    {
     "name": "stdout",
     "output_type": "stream",
     "text": [
      "var =\n"
     ]
    },
    {
     "data": {
      "text/latex": [
       "$$\\mathit{Ax}_{0}$$"
      ],
      "text/plain": [
       "<IPython.core.display.Math object>"
      ]
     },
     "metadata": {},
     "output_type": "display_data"
    },
    {
     "name": "stdout",
     "output_type": "stream",
     "text": [
      "sol_tg_kappa_x_coeff=\n"
     ]
    },
    {
     "data": {
      "text/latex": [
       "$$\\left[\\mathit{Ax}_{0} = \\frac{i \\, \\mathit{Bz}_{0} k}{\\kappa_{0}}\\right]$$"
      ],
      "text/plain": [
       "<IPython.core.display.Math object>"
      ]
     },
     "metadata": {},
     "output_type": "display_data"
    },
    {
     "name": "stdout",
     "output_type": "stream",
     "text": [
      "eq4 =\n"
     ]
    },
    {
     "data": {
      "text/latex": [
       "$$-\\frac{i \\, \\mathit{Bx}_{0} k \\kappa_{0} \\cos\\left(\\kappa_{0} x\\right)}{\\mu_{0}} = 0$$"
      ],
      "text/plain": [
       "<IPython.core.display.Math object>"
      ]
     },
     "metadata": {},
     "output_type": "display_data"
    },
    {
     "name": "stdout",
     "output_type": "stream",
     "text": [
      "eq4 =\n"
     ]
    },
    {
     "data": {
      "text/latex": [
       "$$-\\frac{i \\, \\mathit{Bx}_{0} k \\kappa_{0} \\cos\\left(\\kappa_{0} x\\right)}{\\mu_{0}} = 0$$"
      ],
      "text/plain": [
       "<IPython.core.display.Math object>"
      ]
     },
     "metadata": {},
     "output_type": "display_data"
    },
    {
     "name": "stdout",
     "output_type": "stream",
     "text": [
      "var =\n"
     ]
    },
    {
     "data": {
      "text/latex": [
       "$$\\mathit{Ax}_{0}$$"
      ],
      "text/plain": [
       "<IPython.core.display.Math object>"
      ]
     },
     "metadata": {},
     "output_type": "display_data"
    },
    {
     "name": "stdout",
     "output_type": "stream",
     "text": [
      "\n",
      "sol=\n"
     ]
    },
    {
     "data": {
      "text/latex": [
       "$$\\left[\\right]$$"
      ],
      "text/plain": [
       "<IPython.core.display.Math object>"
      ]
     },
     "metadata": {},
     "output_type": "display_data"
    },
    {
     "name": "stdout",
     "output_type": "stream",
     "text": [
      "\n",
      "var =\n"
     ]
    },
    {
     "data": {
      "text/latex": [
       "$$\\mathit{Bx}_{0}$$"
      ],
      "text/plain": [
       "<IPython.core.display.Math object>"
      ]
     },
     "metadata": {},
     "output_type": "display_data"
    },
    {
     "name": "stdout",
     "output_type": "stream",
     "text": [
      "\n",
      "sol=\n"
     ]
    },
    {
     "data": {
      "text/latex": [
       "$$\\left[\\mathit{Bx}_{0} = 0\\right]$$"
      ],
      "text/plain": [
       "<IPython.core.display.Math object>"
      ]
     },
     "metadata": {},
     "output_type": "display_data"
    },
    {
     "name": "stdout",
     "output_type": "stream",
     "text": [
      "\n",
      "var =\n"
     ]
    },
    {
     "data": {
      "text/latex": [
       "$$\\mathit{Bz}_{0}$$"
      ],
      "text/plain": [
       "<IPython.core.display.Math object>"
      ]
     },
     "metadata": {},
     "output_type": "display_data"
    },
    {
     "name": "stdout",
     "output_type": "stream",
     "text": [
      "\n",
      "sol=\n"
     ]
    },
    {
     "data": {
      "text/latex": [
       "$$\\left[\\right]$$"
      ],
      "text/plain": [
       "<IPython.core.display.Math object>"
      ]
     },
     "metadata": {},
     "output_type": "display_data"
    },
    {
     "name": "stdout",
     "output_type": "stream",
     "text": [
      "\n",
      "var =\n"
     ]
    },
    {
     "data": {
      "text/latex": [
       "$$\\mathit{Bx}_{0}$$"
      ],
      "text/plain": [
       "<IPython.core.display.Math object>"
      ]
     },
     "metadata": {},
     "output_type": "display_data"
    },
    {
     "name": "stdout",
     "output_type": "stream",
     "text": [
      "sol_tg_kappa_x_coeff=\n"
     ]
    },
    {
     "data": {
      "text/latex": [
       "$$\\left[\\right]$$"
      ],
      "text/plain": [
       "<IPython.core.display.Math object>"
      ]
     },
     "metadata": {},
     "output_type": "display_data"
    },
    {
     "name": "stdout",
     "output_type": "stream",
     "text": [
      "var =\n"
     ]
    },
    {
     "data": {
      "text/latex": [
       "$$\\mathit{Bz}_{0}$$"
      ],
      "text/plain": [
       "<IPython.core.display.Math object>"
      ]
     },
     "metadata": {},
     "output_type": "display_data"
    },
    {
     "name": "stdout",
     "output_type": "stream",
     "text": [
      "sol_tg_kappa_x_coeff=\n"
     ]
    },
    {
     "data": {
      "text/latex": [
       "$$\\left[\\mathit{Bz}_{0} = -\\frac{i \\, \\mathit{Ax}_{0} \\kappa_{0}}{k}\\right]$$"
      ],
      "text/plain": [
       "<IPython.core.display.Math object>"
      ]
     },
     "metadata": {},
     "output_type": "display_data"
    },
    {
     "name": "stdout",
     "output_type": "stream",
     "text": [
      "eq4 =\n"
     ]
    },
    {
     "data": {
      "text/latex": [
       "$$-\\frac{i \\, \\mathit{Bx}_{0} k \\kappa_{0} \\cos\\left(\\kappa_{0} x\\right)}{\\mu_{0}} = 0$$"
      ],
      "text/plain": [
       "<IPython.core.display.Math object>"
      ]
     },
     "metadata": {},
     "output_type": "display_data"
    },
    {
     "name": "stdout",
     "output_type": "stream",
     "text": [
      "eq4 =\n"
     ]
    },
    {
     "data": {
      "text/latex": [
       "$$-\\frac{i \\, \\mathit{Bx}_{0} k \\kappa_{0} \\cos\\left(\\kappa_{0} x\\right)}{\\mu_{0}} = 0$$"
      ],
      "text/plain": [
       "<IPython.core.display.Math object>"
      ]
     },
     "metadata": {},
     "output_type": "display_data"
    },
    {
     "name": "stdout",
     "output_type": "stream",
     "text": [
      "var =\n"
     ]
    },
    {
     "data": {
      "text/latex": [
       "$$\\mathit{Ax}_{0}$$"
      ],
      "text/plain": [
       "<IPython.core.display.Math object>"
      ]
     },
     "metadata": {},
     "output_type": "display_data"
    },
    {
     "name": "stdout",
     "output_type": "stream",
     "text": [
      "\n",
      "sol=\n"
     ]
    },
    {
     "data": {
      "text/latex": [
       "$$\\left[\\right]$$"
      ],
      "text/plain": [
       "<IPython.core.display.Math object>"
      ]
     },
     "metadata": {},
     "output_type": "display_data"
    },
    {
     "name": "stdout",
     "output_type": "stream",
     "text": [
      "\n",
      "var =\n"
     ]
    },
    {
     "data": {
      "text/latex": [
       "$$\\mathit{Bx}_{0}$$"
      ],
      "text/plain": [
       "<IPython.core.display.Math object>"
      ]
     },
     "metadata": {},
     "output_type": "display_data"
    },
    {
     "name": "stdout",
     "output_type": "stream",
     "text": [
      "\n",
      "sol=\n"
     ]
    },
    {
     "data": {
      "text/latex": [
       "$$\\left[\\mathit{Bx}_{0} = 0\\right]$$"
      ],
      "text/plain": [
       "<IPython.core.display.Math object>"
      ]
     },
     "metadata": {},
     "output_type": "display_data"
    },
    {
     "name": "stdout",
     "output_type": "stream",
     "text": [
      "\n",
      "var =\n"
     ]
    },
    {
     "data": {
      "text/latex": [
       "$$\\mathit{Bz}_{0}$$"
      ],
      "text/plain": [
       "<IPython.core.display.Math object>"
      ]
     },
     "metadata": {},
     "output_type": "display_data"
    },
    {
     "name": "stdout",
     "output_type": "stream",
     "text": [
      "\n",
      "sol=\n"
     ]
    },
    {
     "data": {
      "text/latex": [
       "$$\\left[\\right]$$"
      ],
      "text/plain": [
       "<IPython.core.display.Math object>"
      ]
     },
     "metadata": {},
     "output_type": "display_data"
    },
    {
     "name": "stdout",
     "output_type": "stream",
     "text": [
      "\n",
      "eq_rot_H_x = \n"
     ]
    },
    {
     "data": {
      "text/latex": [
       "$$\\frac{{\\left(\\mathit{Ax}_{1} k^{2} + i \\, \\mathit{Bz}_{1} k \\kappa_{1} - {\\left(2 \\, \\mathit{Ax}_{1} k^{2} + 2 i \\, \\mathit{Bz}_{1} k \\kappa_{1}\\right)} \\cos\\left(a \\kappa_{1}\\right)^{2}\\right)} \\cos\\left(\\kappa_{1} x\\right) - {\\left(2 \\, \\mathit{Bx}_{1} k^{2} \\cos\\left(a \\kappa_{1}\\right)^{2} + 2 i \\, \\mathit{Bz}_{1} k \\kappa_{1} \\cos\\left(a \\kappa_{1}\\right) \\sin\\left(a \\kappa_{1}\\right) - \\mathit{Bx}_{1} k^{2}\\right)} \\sin\\left(\\kappa_{1} x\\right)}{{\\left(2 \\, \\cos\\left(a \\kappa_{1}\\right)^{2} - 1\\right)} \\mu_{1}} = -\\frac{{\\left(\\mathit{Ax}_{1} k^{2} + \\mathit{Ax}_{1} \\kappa_{1}^{2}\\right)} \\cos\\left(\\kappa_{1} x\\right) + {\\left(\\mathit{Bx}_{1} k^{2} + \\mathit{Bx}_{1} \\kappa_{1}^{2}\\right)} \\sin\\left(\\kappa_{1} x\\right)}{\\mu_{1}}$$"
      ],
      "text/plain": [
       "<IPython.core.display.Math object>"
      ]
     },
     "metadata": {},
     "output_type": "display_data"
    },
    {
     "name": "stdout",
     "output_type": "stream",
     "text": [
      "eq_rot_H_z = \n"
     ]
    },
    {
     "data": {
      "text/latex": [
       "$$-\\frac{{\\left(2 \\, \\mathit{Bz}_{1} \\kappa_{1}^{2} \\cos\\left(a \\kappa_{1}\\right) \\sin\\left(a \\kappa_{1}\\right) + 2 i \\, \\mathit{Bx}_{1} k \\kappa_{1} \\sin\\left(a \\kappa_{1}\\right)^{2} - i \\, \\mathit{Bx}_{1} k \\kappa_{1}\\right)} \\cos\\left(\\kappa_{1} x\\right) + {\\left(i \\, \\mathit{Ax}_{1} k \\kappa_{1} - \\mathit{Bz}_{1} \\kappa_{1}^{2} - 2 \\, {\\left(i \\, \\mathit{Ax}_{1} k \\kappa_{1} - \\mathit{Bz}_{1} \\kappa_{1}^{2}\\right)} \\sin\\left(a \\kappa_{1}\\right)^{2}\\right)} \\sin\\left(\\kappa_{1} x\\right)}{{\\left(2 \\, \\sin\\left(a \\kappa_{1}\\right)^{2} - 1\\right)} \\mu_{1}} = -\\frac{2 \\, {\\left(\\mathit{Bz}_{1} k^{2} + \\mathit{Bz}_{1} \\kappa_{1}^{2}\\right)} \\cos\\left(a \\kappa_{1}\\right) \\cos\\left(\\kappa_{1} x\\right) \\sin\\left(a \\kappa_{1}\\right) - {\\left(\\mathit{Bz}_{1} k^{2} + \\mathit{Bz}_{1} \\kappa_{1}^{2} - 2 \\, {\\left(\\mathit{Bz}_{1} k^{2} + \\mathit{Bz}_{1} \\kappa_{1}^{2}\\right)} \\sin\\left(a \\kappa_{1}\\right)^{2}\\right)} \\sin\\left(\\kappa_{1} x\\right)}{{\\left(2 \\, \\sin\\left(a \\kappa_{1}\\right)^{2} - 1\\right)} \\mu_{1}}$$"
      ],
      "text/plain": [
       "<IPython.core.display.Math object>"
      ]
     },
     "metadata": {},
     "output_type": "display_data"
    },
    {
     "name": "stdout",
     "output_type": "stream",
     "text": [
      "\n"
     ]
    },
    {
     "data": {
      "text/latex": [
       "$$\\left[\\mathit{Ax}_{1}, \\mathit{Bx}_{1}, \\mathit{Bz}_{1}\\right]$$"
      ],
      "text/plain": [
       "<IPython.core.display.Math object>"
      ]
     },
     "metadata": {},
     "output_type": "display_data"
    },
    {
     "name": "stdout",
     "output_type": "stream",
     "text": [
      "M_rotH =\n"
     ]
    },
    {
     "data": {
      "text/latex": [
       "$$\\left(\\begin{array}{rrr}\n",
       "\\frac{{\\left(k^{2} + \\kappa_{1}^{2}\\right)} \\cos\\left(\\kappa_{1} x\\right)}{\\mu_{1}} - \\frac{{\\left(2 \\, k^{2} \\cos\\left(a \\kappa_{1}\\right)^{2} - k^{2}\\right)} \\cos\\left(\\kappa_{1} x\\right)}{{\\left(2 \\, \\cos\\left(a \\kappa_{1}\\right)^{2} - 1\\right)} \\mu_{1}} & \\frac{{\\left(k^{2} + \\kappa_{1}^{2}\\right)} \\sin\\left(\\kappa_{1} x\\right)}{\\mu_{1}} - \\frac{{\\left(2 \\, k^{2} \\cos\\left(a \\kappa_{1}\\right)^{2} - k^{2}\\right)} \\sin\\left(\\kappa_{1} x\\right)}{{\\left(2 \\, \\cos\\left(a \\kappa_{1}\\right)^{2} - 1\\right)} \\mu_{1}} & \\frac{-2 i \\, k \\kappa_{1} \\cos\\left(a \\kappa_{1}\\right) \\sin\\left(a \\kappa_{1}\\right) \\sin\\left(\\kappa_{1} x\\right) + {\\left(-2 i \\, k \\kappa_{1} \\cos\\left(a \\kappa_{1}\\right)^{2} + i \\, k \\kappa_{1}\\right)} \\cos\\left(\\kappa_{1} x\\right)}{{\\left(2 \\, \\cos\\left(a \\kappa_{1}\\right)^{2} - 1\\right)} \\mu_{1}} \\\\\n",
       "-\\frac{{\\left(-2 i \\, k \\kappa_{1} \\sin\\left(a \\kappa_{1}\\right)^{2} + i \\, k \\kappa_{1}\\right)} \\sin\\left(\\kappa_{1} x\\right)}{{\\left(2 \\, \\sin\\left(a \\kappa_{1}\\right)^{2} - 1\\right)} \\mu_{1}} & -\\frac{{\\left(2 i \\, k \\kappa_{1} \\sin\\left(a \\kappa_{1}\\right)^{2} - i \\, k \\kappa_{1}\\right)} \\cos\\left(\\kappa_{1} x\\right)}{{\\left(2 \\, \\sin\\left(a \\kappa_{1}\\right)^{2} - 1\\right)} \\mu_{1}} & -\\frac{2 \\, \\kappa_{1}^{2} \\cos\\left(a \\kappa_{1}\\right) \\cos\\left(\\kappa_{1} x\\right) \\sin\\left(a \\kappa_{1}\\right) + {\\left(2 \\, \\kappa_{1}^{2} \\sin\\left(a \\kappa_{1}\\right)^{2} - \\kappa_{1}^{2}\\right)} \\sin\\left(\\kappa_{1} x\\right)}{{\\left(2 \\, \\sin\\left(a \\kappa_{1}\\right)^{2} - 1\\right)} \\mu_{1}} + \\frac{2 \\, {\\left(k^{2} + \\kappa_{1}^{2}\\right)} \\cos\\left(a \\kappa_{1}\\right) \\cos\\left(\\kappa_{1} x\\right) \\sin\\left(a \\kappa_{1}\\right) + {\\left(2 \\, {\\left(k^{2} + \\kappa_{1}^{2}\\right)} \\sin\\left(a \\kappa_{1}\\right)^{2} - k^{2} - \\kappa_{1}^{2}\\right)} \\sin\\left(\\kappa_{1} x\\right)}{{\\left(2 \\, \\sin\\left(a \\kappa_{1}\\right)^{2} - 1\\right)} \\mu_{1}}\n",
       "\\end{array}\\right)$$"
      ],
      "text/plain": [
       "<IPython.core.display.Math object>"
      ]
     },
     "metadata": {},
     "output_type": "display_data"
    },
    {
     "name": "stdout",
     "output_type": "stream",
     "text": [
      "M_rotH.nrows = 2\n",
      "M_rotH.ncols = 3\n",
      "M_rotH.rank = 2\n",
      "eqns =\n"
     ]
    },
    {
     "data": {
      "text/latex": [
       "$$\\left[\\mathit{Ax}_{1} {\\left(\\frac{{\\left(k^{2} + \\kappa_{1}^{2}\\right)} \\cos\\left(\\kappa_{1} x\\right)}{\\mu_{1}} - \\frac{{\\left(2 \\, k^{2} \\cos\\left(a \\kappa_{1}\\right)^{2} - k^{2}\\right)} \\cos\\left(\\kappa_{1} x\\right)}{{\\left(2 \\, \\cos\\left(a \\kappa_{1}\\right)^{2} - 1\\right)} \\mu_{1}}\\right)} + \\mathit{Bx}_{1} {\\left(\\frac{{\\left(k^{2} + \\kappa_{1}^{2}\\right)} \\sin\\left(\\kappa_{1} x\\right)}{\\mu_{1}} - \\frac{{\\left(2 \\, k^{2} \\cos\\left(a \\kappa_{1}\\right)^{2} - k^{2}\\right)} \\sin\\left(\\kappa_{1} x\\right)}{{\\left(2 \\, \\cos\\left(a \\kappa_{1}\\right)^{2} - 1\\right)} \\mu_{1}}\\right)} + \\frac{{\\left(-2 i \\, k \\kappa_{1} \\cos\\left(a \\kappa_{1}\\right) \\sin\\left(a \\kappa_{1}\\right) \\sin\\left(\\kappa_{1} x\\right) + {\\left(-2 i \\, k \\kappa_{1} \\cos\\left(a \\kappa_{1}\\right)^{2} + i \\, k \\kappa_{1}\\right)} \\cos\\left(\\kappa_{1} x\\right)\\right)} \\mathit{Bz}_{1}}{{\\left(2 \\, \\cos\\left(a \\kappa_{1}\\right)^{2} - 1\\right)} \\mu_{1}} = 0, -\\mathit{Bz}_{1} {\\left(\\frac{2 \\, \\kappa_{1}^{2} \\cos\\left(a \\kappa_{1}\\right) \\cos\\left(\\kappa_{1} x\\right) \\sin\\left(a \\kappa_{1}\\right) + {\\left(2 \\, \\kappa_{1}^{2} \\sin\\left(a \\kappa_{1}\\right)^{2} - \\kappa_{1}^{2}\\right)} \\sin\\left(\\kappa_{1} x\\right)}{{\\left(2 \\, \\sin\\left(a \\kappa_{1}\\right)^{2} - 1\\right)} \\mu_{1}} - \\frac{2 \\, {\\left(k^{2} + \\kappa_{1}^{2}\\right)} \\cos\\left(a \\kappa_{1}\\right) \\cos\\left(\\kappa_{1} x\\right) \\sin\\left(a \\kappa_{1}\\right) + {\\left(2 \\, {\\left(k^{2} + \\kappa_{1}^{2}\\right)} \\sin\\left(a \\kappa_{1}\\right)^{2} - k^{2} - \\kappa_{1}^{2}\\right)} \\sin\\left(\\kappa_{1} x\\right)}{{\\left(2 \\, \\sin\\left(a \\kappa_{1}\\right)^{2} - 1\\right)} \\mu_{1}}\\right)} - \\frac{{\\left(2 i \\, k \\kappa_{1} \\sin\\left(a \\kappa_{1}\\right)^{2} - i \\, k \\kappa_{1}\\right)} \\mathit{Bx}_{1} \\cos\\left(\\kappa_{1} x\\right)}{{\\left(2 \\, \\sin\\left(a \\kappa_{1}\\right)^{2} - 1\\right)} \\mu_{1}} - \\frac{{\\left(-2 i \\, k \\kappa_{1} \\sin\\left(a \\kappa_{1}\\right)^{2} + i \\, k \\kappa_{1}\\right)} \\mathit{Ax}_{1} \\sin\\left(\\kappa_{1} x\\right)}{{\\left(2 \\, \\sin\\left(a \\kappa_{1}\\right)^{2} - 1\\right)} \\mu_{1}} = 0\\right]$$"
      ],
      "text/plain": [
       "<IPython.core.display.Math object>"
      ]
     },
     "metadata": {},
     "output_type": "display_data"
    },
    {
     "name": "stdout",
     "output_type": "stream",
     "text": [
      "row_M =\n"
     ]
    },
    {
     "data": {
      "text/latex": [
       "$$\\left(\\frac{{\\left(k^{2} + \\kappa_{1}^{2}\\right)} \\cos\\left(\\kappa_{1} x\\right)}{\\mu_{1}} - \\frac{{\\left(2 \\, k^{2} \\cos\\left(a \\kappa_{1}\\right)^{2} - k^{2}\\right)} \\cos\\left(\\kappa_{1} x\\right)}{{\\left(2 \\, \\cos\\left(a \\kappa_{1}\\right)^{2} - 1\\right)} \\mu_{1}},\\,\\frac{{\\left(k^{2} + \\kappa_{1}^{2}\\right)} \\sin\\left(\\kappa_{1} x\\right)}{\\mu_{1}} - \\frac{{\\left(2 \\, k^{2} \\cos\\left(a \\kappa_{1}\\right)^{2} - k^{2}\\right)} \\sin\\left(\\kappa_{1} x\\right)}{{\\left(2 \\, \\cos\\left(a \\kappa_{1}\\right)^{2} - 1\\right)} \\mu_{1}},\\,\\frac{-2 i \\, k \\kappa_{1} \\cos\\left(a \\kappa_{1}\\right) \\sin\\left(a \\kappa_{1}\\right) \\sin\\left(\\kappa_{1} x\\right) + {\\left(-2 i \\, k \\kappa_{1} \\cos\\left(a \\kappa_{1}\\right)^{2} + i \\, k \\kappa_{1}\\right)} \\cos\\left(\\kappa_{1} x\\right)}{{\\left(2 \\, \\cos\\left(a \\kappa_{1}\\right)^{2} - 1\\right)} \\mu_{1}}\\right)$$"
      ],
      "text/plain": [
       "<IPython.core.display.Math object>"
      ]
     },
     "metadata": {},
     "output_type": "display_data"
    },
    {
     "name": "stdout",
     "output_type": "stream",
     "text": [
      "eq =\n"
     ]
    },
    {
     "data": {
      "text/latex": [
       "$$\\frac{{\\left(i \\, \\mathit{Bz}_{1} k \\kappa_{1} - \\mathit{Ax}_{1} \\kappa_{1}^{2} + {\\left(-2 i \\, \\mathit{Bz}_{1} k \\kappa_{1} + 2 \\, \\mathit{Ax}_{1} \\kappa_{1}^{2}\\right)} \\sin\\left(a \\kappa_{1}\\right)^{2}\\right)} \\cos\\left(\\kappa_{1} x\\right) + {\\left(2 i \\, \\mathit{Bz}_{1} k \\kappa_{1} \\cos\\left(a \\kappa_{1}\\right) \\sin\\left(a \\kappa_{1}\\right) + 2 \\, \\mathit{Bx}_{1} \\kappa_{1}^{2} \\sin\\left(a \\kappa_{1}\\right)^{2} - \\mathit{Bx}_{1} \\kappa_{1}^{2}\\right)} \\sin\\left(\\kappa_{1} x\\right)}{{\\left(2 \\, \\sin\\left(a \\kappa_{1}\\right)^{2} - 1\\right)} \\mu_{1}} = 0$$"
      ],
      "text/plain": [
       "<IPython.core.display.Math object>"
      ]
     },
     "metadata": {},
     "output_type": "display_data"
    },
    {
     "name": "stdout",
     "output_type": "stream",
     "text": [
      "\n",
      "eq2 =\n"
     ]
    },
    {
     "data": {
      "text/latex": [
       "$$-\\frac{2 i \\, \\mathit{Bz}_{1} k \\kappa_{1} \\sin\\left(a \\kappa_{1}\\right)^{2}}{{\\left(2 \\, \\sin\\left(a \\kappa_{1}\\right)^{2} - 1\\right)} \\mu_{1}} + \\frac{2 \\, \\mathit{Ax}_{1} \\kappa_{1}^{2} \\sin\\left(a \\kappa_{1}\\right)^{2}}{{\\left(2 \\, \\sin\\left(a \\kappa_{1}\\right)^{2} - 1\\right)} \\mu_{1}} + \\frac{2 i \\, \\mathit{Bz}_{1} k \\kappa_{1} \\cos\\left(a \\kappa_{1}\\right) \\sin\\left(a \\kappa_{1}\\right) \\sin\\left(\\kappa_{1} x\\right)}{{\\left(2 \\, \\sin\\left(a \\kappa_{1}\\right)^{2} - 1\\right)} \\mu_{1} \\cos\\left(\\kappa_{1} x\\right)} + \\frac{2 \\, \\mathit{Bx}_{1} \\kappa_{1}^{2} \\sin\\left(a \\kappa_{1}\\right)^{2} \\sin\\left(\\kappa_{1} x\\right)}{{\\left(2 \\, \\sin\\left(a \\kappa_{1}\\right)^{2} - 1\\right)} \\mu_{1} \\cos\\left(\\kappa_{1} x\\right)} + \\frac{i \\, \\mathit{Bz}_{1} k \\kappa_{1}}{{\\left(2 \\, \\sin\\left(a \\kappa_{1}\\right)^{2} - 1\\right)} \\mu_{1}} - \\frac{\\mathit{Ax}_{1} \\kappa_{1}^{2}}{{\\left(2 \\, \\sin\\left(a \\kappa_{1}\\right)^{2} - 1\\right)} \\mu_{1}} - \\frac{\\mathit{Bx}_{1} \\kappa_{1}^{2} \\sin\\left(\\kappa_{1} x\\right)}{{\\left(2 \\, \\sin\\left(a \\kappa_{1}\\right)^{2} - 1\\right)} \\mu_{1} \\cos\\left(\\kappa_{1} x\\right)} = 0$$"
      ],
      "text/plain": [
       "<IPython.core.display.Math object>"
      ]
     },
     "metadata": {},
     "output_type": "display_data"
    },
    {
     "name": "stdout",
     "output_type": "stream",
     "text": [
      "tg_kappa_x_coeff =\n"
     ]
    },
    {
     "data": {
      "text/latex": [
       "$$\\frac{2 i \\, \\mathit{Bz}_{1} k \\kappa_{1} \\cos\\left(a \\kappa_{1}\\right) \\sin\\left(a \\kappa_{1}\\right)}{{\\left(2 \\, \\sin\\left(a \\kappa_{1}\\right)^{2} - 1\\right)} \\mu_{1}} + \\frac{2 \\, \\mathit{Bx}_{1} \\kappa_{1}^{2} \\sin\\left(a \\kappa_{1}\\right)^{2}}{{\\left(2 \\, \\sin\\left(a \\kappa_{1}\\right)^{2} - 1\\right)} \\mu_{1}} - \\frac{\\mathit{Bx}_{1} \\kappa_{1}^{2}}{{\\left(2 \\, \\sin\\left(a \\kappa_{1}\\right)^{2} - 1\\right)} \\mu_{1}}$$"
      ],
      "text/plain": [
       "<IPython.core.display.Math object>"
      ]
     },
     "metadata": {},
     "output_type": "display_data"
    },
    {
     "name": "stdout",
     "output_type": "stream",
     "text": [
      "var =\n"
     ]
    },
    {
     "data": {
      "text/latex": [
       "$$\\mathit{Ax}_{1}$$"
      ],
      "text/plain": [
       "<IPython.core.display.Math object>"
      ]
     },
     "metadata": {},
     "output_type": "display_data"
    },
    {
     "name": "stdout",
     "output_type": "stream",
     "text": [
      "sol_tg_kappa_x_coeff=\n"
     ]
    },
    {
     "data": {
      "text/latex": [
       "$$\\left[\\right]$$"
      ],
      "text/plain": [
       "<IPython.core.display.Math object>"
      ]
     },
     "metadata": {},
     "output_type": "display_data"
    },
    {
     "name": "stdout",
     "output_type": "stream",
     "text": [
      "var =\n"
     ]
    },
    {
     "data": {
      "text/latex": [
       "$$\\mathit{Bx}_{1}$$"
      ],
      "text/plain": [
       "<IPython.core.display.Math object>"
      ]
     },
     "metadata": {},
     "output_type": "display_data"
    },
    {
     "name": "stdout",
     "output_type": "stream",
     "text": [
      "sol_tg_kappa_x_coeff=\n"
     ]
    },
    {
     "data": {
      "text/latex": [
       "$$\\left[\\mathit{Bx}_{1} = -\\frac{2 i \\, \\mathit{Bz}_{1} k \\cos\\left(a \\kappa_{1}\\right) \\sin\\left(a \\kappa_{1}\\right)}{2 \\, \\kappa_{1} \\sin\\left(a \\kappa_{1}\\right)^{2} - \\kappa_{1}}\\right]$$"
      ],
      "text/plain": [
       "<IPython.core.display.Math object>"
      ]
     },
     "metadata": {},
     "output_type": "display_data"
    },
    {
     "name": "stdout",
     "output_type": "stream",
     "text": [
      "eq4 =\n"
     ]
    },
    {
     "data": {
      "text/latex": [
       "$$\\frac{{\\left(i \\, \\mathit{Bz}_{1} k \\kappa_{1} - \\mathit{Ax}_{1} \\kappa_{1}^{2} + {\\left(-2 i \\, \\mathit{Bz}_{1} k \\kappa_{1} + 2 \\, \\mathit{Ax}_{1} \\kappa_{1}^{2}\\right)} \\sin\\left(a \\kappa_{1}\\right)^{2}\\right)} \\cos\\left(\\kappa_{1} x\\right) + {\\left(-\\frac{4 i \\, \\mathit{Bz}_{1} k \\kappa_{1}^{2} \\cos\\left(a \\kappa_{1}\\right) \\sin\\left(a \\kappa_{1}\\right)^{3}}{2 \\, \\kappa_{1} \\sin\\left(a \\kappa_{1}\\right)^{2} - \\kappa_{1}} + 2 i \\, \\mathit{Bz}_{1} k \\kappa_{1} \\cos\\left(a \\kappa_{1}\\right) \\sin\\left(a \\kappa_{1}\\right) + \\frac{2 i \\, \\mathit{Bz}_{1} k \\kappa_{1}^{2} \\cos\\left(a \\kappa_{1}\\right) \\sin\\left(a \\kappa_{1}\\right)}{2 \\, \\kappa_{1} \\sin\\left(a \\kappa_{1}\\right)^{2} - \\kappa_{1}}\\right)} \\sin\\left(\\kappa_{1} x\\right)}{{\\left(2 \\, \\sin\\left(a \\kappa_{1}\\right)^{2} - 1\\right)} \\mu_{1}} = 0$$"
      ],
      "text/plain": [
       "<IPython.core.display.Math object>"
      ]
     },
     "metadata": {},
     "output_type": "display_data"
    },
    {
     "name": "stdout",
     "output_type": "stream",
     "text": [
      "eq4 =\n"
     ]
    },
    {
     "data": {
      "text/latex": [
       "$$\\frac{{\\left(-i \\, \\mathit{Bz}_{1} k \\kappa_{1} + \\mathit{Ax}_{1} \\kappa_{1}^{2}\\right)} \\cos\\left(\\kappa_{1} x\\right)}{\\mu_{1}} = 0$$"
      ],
      "text/plain": [
       "<IPython.core.display.Math object>"
      ]
     },
     "metadata": {},
     "output_type": "display_data"
    },
    {
     "name": "stdout",
     "output_type": "stream",
     "text": [
      "var =\n"
     ]
    },
    {
     "data": {
      "text/latex": [
       "$$\\mathit{Ax}_{1}$$"
      ],
      "text/plain": [
       "<IPython.core.display.Math object>"
      ]
     },
     "metadata": {},
     "output_type": "display_data"
    },
    {
     "name": "stdout",
     "output_type": "stream",
     "text": [
      "\n",
      "sol=\n"
     ]
    },
    {
     "data": {
      "text/latex": [
       "$$\\left[\\mathit{Ax}_{1} = \\frac{i \\, \\mathit{Bz}_{1} k}{\\kappa_{1}}\\right]$$"
      ],
      "text/plain": [
       "<IPython.core.display.Math object>"
      ]
     },
     "metadata": {},
     "output_type": "display_data"
    },
    {
     "name": "stdout",
     "output_type": "stream",
     "text": [
      "\n",
      "var =\n"
     ]
    },
    {
     "data": {
      "text/latex": [
       "$$\\mathit{Bx}_{1}$$"
      ],
      "text/plain": [
       "<IPython.core.display.Math object>"
      ]
     },
     "metadata": {},
     "output_type": "display_data"
    },
    {
     "name": "stdout",
     "output_type": "stream",
     "text": [
      "\n",
      "sol=\n"
     ]
    },
    {
     "data": {
      "text/latex": [
       "$$\\left[\\right]$$"
      ],
      "text/plain": [
       "<IPython.core.display.Math object>"
      ]
     },
     "metadata": {},
     "output_type": "display_data"
    },
    {
     "name": "stdout",
     "output_type": "stream",
     "text": [
      "\n",
      "var =\n"
     ]
    },
    {
     "data": {
      "text/latex": [
       "$$\\mathit{Bz}_{1}$$"
      ],
      "text/plain": [
       "<IPython.core.display.Math object>"
      ]
     },
     "metadata": {},
     "output_type": "display_data"
    },
    {
     "name": "stdout",
     "output_type": "stream",
     "text": [
      "\n",
      "sol=\n"
     ]
    },
    {
     "data": {
      "text/latex": [
       "$$\\left[\\mathit{Bz}_{1} = -\\frac{i \\, \\mathit{Ax}_{1} \\kappa_{1}}{k}\\right]$$"
      ],
      "text/plain": [
       "<IPython.core.display.Math object>"
      ]
     },
     "metadata": {},
     "output_type": "display_data"
    },
    {
     "name": "stdout",
     "output_type": "stream",
     "text": [
      "\n",
      "var =\n"
     ]
    },
    {
     "data": {
      "text/latex": [
       "$$\\mathit{Bz}_{1}$$"
      ],
      "text/plain": [
       "<IPython.core.display.Math object>"
      ]
     },
     "metadata": {},
     "output_type": "display_data"
    },
    {
     "name": "stdout",
     "output_type": "stream",
     "text": [
      "sol_tg_kappa_x_coeff=\n"
     ]
    },
    {
     "data": {
      "text/latex": [
       "$$\\left[\\mathit{Bz}_{1} = \\frac{2 i \\, \\mathit{Bx}_{1} \\kappa_{1} \\sin\\left(a \\kappa_{1}\\right)^{2} - i \\, \\mathit{Bx}_{1} \\kappa_{1}}{2 \\, k \\cos\\left(a \\kappa_{1}\\right) \\sin\\left(a \\kappa_{1}\\right)}\\right]$$"
      ],
      "text/plain": [
       "<IPython.core.display.Math object>"
      ]
     },
     "metadata": {},
     "output_type": "display_data"
    },
    {
     "name": "stdout",
     "output_type": "stream",
     "text": [
      "eq4 =\n"
     ]
    },
    {
     "data": {
      "text/latex": [
       "$$-\\frac{{\\left(2 \\, \\mathit{Ax}_{1} \\kappa_{1}^{2} - 2 \\, {\\left(2 \\, \\mathit{Ax}_{1} \\kappa_{1}^{2} - \\frac{i \\, {\\left(2 i \\, \\mathit{Bx}_{1} \\kappa_{1} \\sin\\left(a \\kappa_{1}\\right)^{2} - i \\, \\mathit{Bx}_{1} \\kappa_{1}\\right)} \\kappa_{1}}{\\cos\\left(a \\kappa_{1}\\right) \\sin\\left(a \\kappa_{1}\\right)}\\right)} \\sin\\left(a \\kappa_{1}\\right)^{2} - \\frac{i \\, {\\left(2 i \\, \\mathit{Bx}_{1} \\kappa_{1} \\sin\\left(a \\kappa_{1}\\right)^{2} - i \\, \\mathit{Bx}_{1} \\kappa_{1}\\right)} \\kappa_{1}}{\\cos\\left(a \\kappa_{1}\\right) \\sin\\left(a \\kappa_{1}\\right)}\\right)} \\cos\\left(\\kappa_{1} x\\right) - 2 \\, {\\left(2 \\, \\mathit{Bx}_{1} \\kappa_{1}^{2} \\sin\\left(a \\kappa_{1}\\right)^{2} - \\mathit{Bx}_{1} \\kappa_{1}^{2} + i \\, {\\left(2 i \\, \\mathit{Bx}_{1} \\kappa_{1} \\sin\\left(a \\kappa_{1}\\right)^{2} - i \\, \\mathit{Bx}_{1} \\kappa_{1}\\right)} \\kappa_{1}\\right)} \\sin\\left(\\kappa_{1} x\\right)}{2 \\, {\\left(2 \\, \\sin\\left(a \\kappa_{1}\\right)^{2} - 1\\right)} \\mu_{1}} = 0$$"
      ],
      "text/plain": [
       "<IPython.core.display.Math object>"
      ]
     },
     "metadata": {},
     "output_type": "display_data"
    },
    {
     "name": "stdout",
     "output_type": "stream",
     "text": [
      "eq4 =\n"
     ]
    },
    {
     "data": {
      "text/latex": [
       "$$\\frac{{\\left(2 \\, \\mathit{Ax}_{1} \\kappa_{1}^{2} \\cos\\left(a \\kappa_{1}\\right) \\sin\\left(a \\kappa_{1}\\right) + 2 \\, \\mathit{Bx}_{1} \\kappa_{1}^{2} \\sin\\left(a \\kappa_{1}\\right)^{2} - \\mathit{Bx}_{1} \\kappa_{1}^{2}\\right)} \\cos\\left(\\kappa_{1} x\\right)}{2 \\, \\mu_{1} \\cos\\left(a \\kappa_{1}\\right) \\sin\\left(a \\kappa_{1}\\right)} = 0$$"
      ],
      "text/plain": [
       "<IPython.core.display.Math object>"
      ]
     },
     "metadata": {},
     "output_type": "display_data"
    },
    {
     "name": "stdout",
     "output_type": "stream",
     "text": [
      "var =\n"
     ]
    },
    {
     "data": {
      "text/latex": [
       "$$\\mathit{Ax}_{1}$$"
      ],
      "text/plain": [
       "<IPython.core.display.Math object>"
      ]
     },
     "metadata": {},
     "output_type": "display_data"
    },
    {
     "name": "stdout",
     "output_type": "stream",
     "text": [
      "\n",
      "sol=\n"
     ]
    },
    {
     "data": {
      "text/latex": [
       "$$\\left[\\mathit{Ax}_{1} = -\\frac{2 \\, \\mathit{Bx}_{1} \\sin\\left(a \\kappa_{1}\\right)^{2} - \\mathit{Bx}_{1}}{2 \\, \\cos\\left(a \\kappa_{1}\\right) \\sin\\left(a \\kappa_{1}\\right)}\\right]$$"
      ],
      "text/plain": [
       "<IPython.core.display.Math object>"
      ]
     },
     "metadata": {},
     "output_type": "display_data"
    },
    {
     "name": "stdout",
     "output_type": "stream",
     "text": [
      "\n",
      "var =\n"
     ]
    },
    {
     "data": {
      "text/latex": [
       "$$\\mathit{Bx}_{1}$$"
      ],
      "text/plain": [
       "<IPython.core.display.Math object>"
      ]
     },
     "metadata": {},
     "output_type": "display_data"
    },
    {
     "name": "stdout",
     "output_type": "stream",
     "text": [
      "\n",
      "sol=\n"
     ]
    },
    {
     "data": {
      "text/latex": [
       "$$\\left[\\mathit{Bx}_{1} = -\\frac{2 \\, \\mathit{Ax}_{1} \\cos\\left(a \\kappa_{1}\\right) \\sin\\left(a \\kappa_{1}\\right)}{2 \\, \\sin\\left(a \\kappa_{1}\\right)^{2} - 1}\\right]$$"
      ],
      "text/plain": [
       "<IPython.core.display.Math object>"
      ]
     },
     "metadata": {},
     "output_type": "display_data"
    },
    {
     "name": "stdout",
     "output_type": "stream",
     "text": [
      "\n",
      "var =\n"
     ]
    },
    {
     "data": {
      "text/latex": [
       "$$\\mathit{Bz}_{1}$$"
      ],
      "text/plain": [
       "<IPython.core.display.Math object>"
      ]
     },
     "metadata": {},
     "output_type": "display_data"
    },
    {
     "name": "stdout",
     "output_type": "stream",
     "text": [
      "\n",
      "sol=\n"
     ]
    },
    {
     "data": {
      "text/latex": [
       "$$\\left[\\right]$$"
      ],
      "text/plain": [
       "<IPython.core.display.Math object>"
      ]
     },
     "metadata": {},
     "output_type": "display_data"
    },
    {
     "name": "stdout",
     "output_type": "stream",
     "text": [
      "\n",
      "row_M =\n"
     ]
    },
    {
     "data": {
      "text/latex": [
       "$$\\left(-\\frac{{\\left(-2 i \\, k \\kappa_{1} \\sin\\left(a \\kappa_{1}\\right)^{2} + i \\, k \\kappa_{1}\\right)} \\sin\\left(\\kappa_{1} x\\right)}{{\\left(2 \\, \\sin\\left(a \\kappa_{1}\\right)^{2} - 1\\right)} \\mu_{1}},\\,-\\frac{{\\left(2 i \\, k \\kappa_{1} \\sin\\left(a \\kappa_{1}\\right)^{2} - i \\, k \\kappa_{1}\\right)} \\cos\\left(\\kappa_{1} x\\right)}{{\\left(2 \\, \\sin\\left(a \\kappa_{1}\\right)^{2} - 1\\right)} \\mu_{1}},\\,-\\frac{2 \\, \\kappa_{1}^{2} \\cos\\left(a \\kappa_{1}\\right) \\cos\\left(\\kappa_{1} x\\right) \\sin\\left(a \\kappa_{1}\\right) + {\\left(2 \\, \\kappa_{1}^{2} \\sin\\left(a \\kappa_{1}\\right)^{2} - \\kappa_{1}^{2}\\right)} \\sin\\left(\\kappa_{1} x\\right)}{{\\left(2 \\, \\sin\\left(a \\kappa_{1}\\right)^{2} - 1\\right)} \\mu_{1}} + \\frac{2 \\, {\\left(k^{2} + \\kappa_{1}^{2}\\right)} \\cos\\left(a \\kappa_{1}\\right) \\cos\\left(\\kappa_{1} x\\right) \\sin\\left(a \\kappa_{1}\\right) + {\\left(2 \\, {\\left(k^{2} + \\kappa_{1}^{2}\\right)} \\sin\\left(a \\kappa_{1}\\right)^{2} - k^{2} - \\kappa_{1}^{2}\\right)} \\sin\\left(\\kappa_{1} x\\right)}{{\\left(2 \\, \\sin\\left(a \\kappa_{1}\\right)^{2} - 1\\right)} \\mu_{1}}\\right)$$"
      ],
      "text/plain": [
       "<IPython.core.display.Math object>"
      ]
     },
     "metadata": {},
     "output_type": "display_data"
    },
    {
     "name": "stdout",
     "output_type": "stream",
     "text": [
      "eq =\n"
     ]
    },
    {
     "data": {
      "text/latex": [
       "$$\\frac{{\\left(2 \\, \\mathit{Bz}_{1} k^{2} \\cos\\left(a \\kappa_{1}\\right) \\sin\\left(a \\kappa_{1}\\right) - 2 i \\, \\mathit{Bx}_{1} k \\kappa_{1} \\sin\\left(a \\kappa_{1}\\right)^{2} + i \\, \\mathit{Bx}_{1} k \\kappa_{1}\\right)} \\cos\\left(\\kappa_{1} x\\right) - {\\left(\\mathit{Bz}_{1} k^{2} + i \\, \\mathit{Ax}_{1} k \\kappa_{1} - {\\left(2 \\, \\mathit{Bz}_{1} k^{2} + 2 i \\, \\mathit{Ax}_{1} k \\kappa_{1}\\right)} \\sin\\left(a \\kappa_{1}\\right)^{2}\\right)} \\sin\\left(\\kappa_{1} x\\right)}{{\\left(2 \\, \\sin\\left(a \\kappa_{1}\\right)^{2} - 1\\right)} \\mu_{1}} = 0$$"
      ],
      "text/plain": [
       "<IPython.core.display.Math object>"
      ]
     },
     "metadata": {},
     "output_type": "display_data"
    },
    {
     "name": "stdout",
     "output_type": "stream",
     "text": [
      "\n",
      "eq2 =\n"
     ]
    },
    {
     "data": {
      "text/latex": [
       "$$\\frac{2 \\, \\mathit{Bz}_{1} k^{2} \\cos\\left(a \\kappa_{1}\\right) \\sin\\left(a \\kappa_{1}\\right)}{{\\left(2 \\, \\sin\\left(a \\kappa_{1}\\right)^{2} - 1\\right)} \\mu_{1}} - \\frac{2 i \\, \\mathit{Bx}_{1} k \\kappa_{1} \\sin\\left(a \\kappa_{1}\\right)^{2}}{{\\left(2 \\, \\sin\\left(a \\kappa_{1}\\right)^{2} - 1\\right)} \\mu_{1}} + \\frac{2 \\, \\mathit{Bz}_{1} k^{2} \\sin\\left(a \\kappa_{1}\\right)^{2} \\sin\\left(\\kappa_{1} x\\right)}{{\\left(2 \\, \\sin\\left(a \\kappa_{1}\\right)^{2} - 1\\right)} \\mu_{1} \\cos\\left(\\kappa_{1} x\\right)} + \\frac{2 i \\, \\mathit{Ax}_{1} k \\kappa_{1} \\sin\\left(a \\kappa_{1}\\right)^{2} \\sin\\left(\\kappa_{1} x\\right)}{{\\left(2 \\, \\sin\\left(a \\kappa_{1}\\right)^{2} - 1\\right)} \\mu_{1} \\cos\\left(\\kappa_{1} x\\right)} + \\frac{i \\, \\mathit{Bx}_{1} k \\kappa_{1}}{{\\left(2 \\, \\sin\\left(a \\kappa_{1}\\right)^{2} - 1\\right)} \\mu_{1}} - \\frac{\\mathit{Bz}_{1} k^{2} \\sin\\left(\\kappa_{1} x\\right)}{{\\left(2 \\, \\sin\\left(a \\kappa_{1}\\right)^{2} - 1\\right)} \\mu_{1} \\cos\\left(\\kappa_{1} x\\right)} - \\frac{i \\, \\mathit{Ax}_{1} k \\kappa_{1} \\sin\\left(\\kappa_{1} x\\right)}{{\\left(2 \\, \\sin\\left(a \\kappa_{1}\\right)^{2} - 1\\right)} \\mu_{1} \\cos\\left(\\kappa_{1} x\\right)} = 0$$"
      ],
      "text/plain": [
       "<IPython.core.display.Math object>"
      ]
     },
     "metadata": {},
     "output_type": "display_data"
    },
    {
     "name": "stdout",
     "output_type": "stream",
     "text": [
      "tg_kappa_x_coeff =\n"
     ]
    },
    {
     "data": {
      "text/latex": [
       "$$\\frac{2 \\, \\mathit{Bz}_{1} k^{2} \\sin\\left(a \\kappa_{1}\\right)^{2}}{{\\left(2 \\, \\sin\\left(a \\kappa_{1}\\right)^{2} - 1\\right)} \\mu_{1}} + \\frac{2 i \\, \\mathit{Ax}_{1} k \\kappa_{1} \\sin\\left(a \\kappa_{1}\\right)^{2}}{{\\left(2 \\, \\sin\\left(a \\kappa_{1}\\right)^{2} - 1\\right)} \\mu_{1}} - \\frac{\\mathit{Bz}_{1} k^{2}}{{\\left(2 \\, \\sin\\left(a \\kappa_{1}\\right)^{2} - 1\\right)} \\mu_{1}} - \\frac{i \\, \\mathit{Ax}_{1} k \\kappa_{1}}{{\\left(2 \\, \\sin\\left(a \\kappa_{1}\\right)^{2} - 1\\right)} \\mu_{1}}$$"
      ],
      "text/plain": [
       "<IPython.core.display.Math object>"
      ]
     },
     "metadata": {},
     "output_type": "display_data"
    },
    {
     "name": "stdout",
     "output_type": "stream",
     "text": [
      "var =\n"
     ]
    },
    {
     "data": {
      "text/latex": [
       "$$\\mathit{Ax}_{1}$$"
      ],
      "text/plain": [
       "<IPython.core.display.Math object>"
      ]
     },
     "metadata": {},
     "output_type": "display_data"
    },
    {
     "name": "stdout",
     "output_type": "stream",
     "text": [
      "sol_tg_kappa_x_coeff=\n"
     ]
    },
    {
     "data": {
      "text/latex": [
       "$$\\left[\\mathit{Ax}_{1} = \\frac{i \\, \\mathit{Bz}_{1} k}{\\kappa_{1}}\\right]$$"
      ],
      "text/plain": [
       "<IPython.core.display.Math object>"
      ]
     },
     "metadata": {},
     "output_type": "display_data"
    },
    {
     "name": "stdout",
     "output_type": "stream",
     "text": [
      "eq4 =\n"
     ]
    },
    {
     "data": {
      "text/latex": [
       "$$\\frac{{\\left(2 \\, \\mathit{Bz}_{1} k^{2} \\cos\\left(a \\kappa_{1}\\right) \\sin\\left(a \\kappa_{1}\\right) - 2 i \\, \\mathit{Bx}_{1} k \\kappa_{1} \\sin\\left(a \\kappa_{1}\\right)^{2} + i \\, \\mathit{Bx}_{1} k \\kappa_{1}\\right)} \\cos\\left(\\kappa_{1} x\\right)}{{\\left(2 \\, \\sin\\left(a \\kappa_{1}\\right)^{2} - 1\\right)} \\mu_{1}} = 0$$"
      ],
      "text/plain": [
       "<IPython.core.display.Math object>"
      ]
     },
     "metadata": {},
     "output_type": "display_data"
    },
    {
     "name": "stdout",
     "output_type": "stream",
     "text": [
      "eq4 =\n"
     ]
    },
    {
     "data": {
      "text/latex": [
       "$$-\\frac{{\\left(2 i \\, \\mathit{Bx}_{1} k \\kappa_{1} \\cos\\left(a \\kappa_{1}\\right)^{2} + 2 \\, \\mathit{Bz}_{1} k^{2} \\cos\\left(a \\kappa_{1}\\right) \\sin\\left(a \\kappa_{1}\\right) - i \\, \\mathit{Bx}_{1} k \\kappa_{1}\\right)} \\cos\\left(\\kappa_{1} x\\right)}{{\\left(2 \\, \\cos\\left(a \\kappa_{1}\\right)^{2} - 1\\right)} \\mu_{1}} = 0$$"
      ],
      "text/plain": [
       "<IPython.core.display.Math object>"
      ]
     },
     "metadata": {},
     "output_type": "display_data"
    },
    {
     "name": "stdout",
     "output_type": "stream",
     "text": [
      "var =\n"
     ]
    },
    {
     "data": {
      "text/latex": [
       "$$\\mathit{Ax}_{1}$$"
      ],
      "text/plain": [
       "<IPython.core.display.Math object>"
      ]
     },
     "metadata": {},
     "output_type": "display_data"
    },
    {
     "name": "stdout",
     "output_type": "stream",
     "text": [
      "\n",
      "sol=\n"
     ]
    },
    {
     "data": {
      "text/latex": [
       "$$\\left[\\right]$$"
      ],
      "text/plain": [
       "<IPython.core.display.Math object>"
      ]
     },
     "metadata": {},
     "output_type": "display_data"
    },
    {
     "name": "stdout",
     "output_type": "stream",
     "text": [
      "\n",
      "var =\n"
     ]
    },
    {
     "data": {
      "text/latex": [
       "$$\\mathit{Bx}_{1}$$"
      ],
      "text/plain": [
       "<IPython.core.display.Math object>"
      ]
     },
     "metadata": {},
     "output_type": "display_data"
    },
    {
     "name": "stdout",
     "output_type": "stream",
     "text": [
      "\n",
      "sol=\n"
     ]
    },
    {
     "data": {
      "text/latex": [
       "$$\\left[\\mathit{Bx}_{1} = -\\frac{2 \\, \\mathit{Bz}_{1} k \\cos\\left(a \\kappa_{1}\\right) \\sin\\left(a \\kappa_{1}\\right)}{2 i \\, \\kappa_{1} \\cos\\left(a \\kappa_{1}\\right)^{2} - i \\, \\kappa_{1}}\\right]$$"
      ],
      "text/plain": [
       "<IPython.core.display.Math object>"
      ]
     },
     "metadata": {},
     "output_type": "display_data"
    },
    {
     "name": "stdout",
     "output_type": "stream",
     "text": [
      "\n",
      "var =\n"
     ]
    },
    {
     "data": {
      "text/latex": [
       "$$\\mathit{Bz}_{1}$$"
      ],
      "text/plain": [
       "<IPython.core.display.Math object>"
      ]
     },
     "metadata": {},
     "output_type": "display_data"
    },
    {
     "name": "stdout",
     "output_type": "stream",
     "text": [
      "\n",
      "sol=\n"
     ]
    },
    {
     "data": {
      "text/latex": [
       "$$\\left[\\mathit{Bz}_{1} = \\frac{-2 i \\, \\mathit{Bx}_{1} \\kappa_{1} \\cos\\left(a \\kappa_{1}\\right)^{2} + i \\, \\mathit{Bx}_{1} \\kappa_{1}}{2 \\, k \\cos\\left(a \\kappa_{1}\\right) \\sin\\left(a \\kappa_{1}\\right)}\\right]$$"
      ],
      "text/plain": [
       "<IPython.core.display.Math object>"
      ]
     },
     "metadata": {},
     "output_type": "display_data"
    },
    {
     "name": "stdout",
     "output_type": "stream",
     "text": [
      "\n",
      "var =\n"
     ]
    },
    {
     "data": {
      "text/latex": [
       "$$\\mathit{Bx}_{1}$$"
      ],
      "text/plain": [
       "<IPython.core.display.Math object>"
      ]
     },
     "metadata": {},
     "output_type": "display_data"
    },
    {
     "name": "stdout",
     "output_type": "stream",
     "text": [
      "sol_tg_kappa_x_coeff=\n"
     ]
    },
    {
     "data": {
      "text/latex": [
       "$$\\left[\\right]$$"
      ],
      "text/plain": [
       "<IPython.core.display.Math object>"
      ]
     },
     "metadata": {},
     "output_type": "display_data"
    },
    {
     "name": "stdout",
     "output_type": "stream",
     "text": [
      "var =\n"
     ]
    },
    {
     "data": {
      "text/latex": [
       "$$\\mathit{Bz}_{1}$$"
      ],
      "text/plain": [
       "<IPython.core.display.Math object>"
      ]
     },
     "metadata": {},
     "output_type": "display_data"
    },
    {
     "name": "stdout",
     "output_type": "stream",
     "text": [
      "sol_tg_kappa_x_coeff=\n"
     ]
    },
    {
     "data": {
      "text/latex": [
       "$$\\left[\\mathit{Bz}_{1} = -\\frac{i \\, \\mathit{Ax}_{1} \\kappa_{1}}{k}\\right]$$"
      ],
      "text/plain": [
       "<IPython.core.display.Math object>"
      ]
     },
     "metadata": {},
     "output_type": "display_data"
    },
    {
     "name": "stdout",
     "output_type": "stream",
     "text": [
      "eq4 =\n"
     ]
    },
    {
     "data": {
      "text/latex": [
       "$$\\frac{{\\left(-2 i \\, \\mathit{Ax}_{1} k \\kappa_{1} \\cos\\left(a \\kappa_{1}\\right) \\sin\\left(a \\kappa_{1}\\right) - 2 i \\, \\mathit{Bx}_{1} k \\kappa_{1} \\sin\\left(a \\kappa_{1}\\right)^{2} + i \\, \\mathit{Bx}_{1} k \\kappa_{1}\\right)} \\cos\\left(\\kappa_{1} x\\right)}{{\\left(2 \\, \\sin\\left(a \\kappa_{1}\\right)^{2} - 1\\right)} \\mu_{1}} = 0$$"
      ],
      "text/plain": [
       "<IPython.core.display.Math object>"
      ]
     },
     "metadata": {},
     "output_type": "display_data"
    },
    {
     "name": "stdout",
     "output_type": "stream",
     "text": [
      "eq4 =\n"
     ]
    },
    {
     "data": {
      "text/latex": [
       "$$\\frac{{\\left(-2 i \\, \\mathit{Bx}_{1} k \\kappa_{1} \\cos\\left(a \\kappa_{1}\\right)^{2} + 2 i \\, \\mathit{Ax}_{1} k \\kappa_{1} \\cos\\left(a \\kappa_{1}\\right) \\sin\\left(a \\kappa_{1}\\right) + i \\, \\mathit{Bx}_{1} k \\kappa_{1}\\right)} \\cos\\left(\\kappa_{1} x\\right)}{{\\left(2 \\, \\cos\\left(a \\kappa_{1}\\right)^{2} - 1\\right)} \\mu_{1}} = 0$$"
      ],
      "text/plain": [
       "<IPython.core.display.Math object>"
      ]
     },
     "metadata": {},
     "output_type": "display_data"
    },
    {
     "name": "stdout",
     "output_type": "stream",
     "text": [
      "var =\n"
     ]
    },
    {
     "data": {
      "text/latex": [
       "$$\\mathit{Ax}_{1}$$"
      ],
      "text/plain": [
       "<IPython.core.display.Math object>"
      ]
     },
     "metadata": {},
     "output_type": "display_data"
    },
    {
     "name": "stdout",
     "output_type": "stream",
     "text": [
      "\n",
      "sol=\n"
     ]
    },
    {
     "data": {
      "text/latex": [
       "$$\\left[\\mathit{Ax}_{1} = \\frac{2 \\, \\mathit{Bx}_{1} \\cos\\left(a \\kappa_{1}\\right)^{2} - \\mathit{Bx}_{1}}{2 \\, \\cos\\left(a \\kappa_{1}\\right) \\sin\\left(a \\kappa_{1}\\right)}\\right]$$"
      ],
      "text/plain": [
       "<IPython.core.display.Math object>"
      ]
     },
     "metadata": {},
     "output_type": "display_data"
    },
    {
     "name": "stdout",
     "output_type": "stream",
     "text": [
      "\n",
      "var =\n"
     ]
    },
    {
     "data": {
      "text/latex": [
       "$$\\mathit{Bx}_{1}$$"
      ],
      "text/plain": [
       "<IPython.core.display.Math object>"
      ]
     },
     "metadata": {},
     "output_type": "display_data"
    },
    {
     "name": "stdout",
     "output_type": "stream",
     "text": [
      "\n",
      "sol=\n"
     ]
    },
    {
     "data": {
      "text/latex": [
       "$$\\left[\\mathit{Bx}_{1} = \\frac{2 \\, \\mathit{Ax}_{1} \\cos\\left(a \\kappa_{1}\\right) \\sin\\left(a \\kappa_{1}\\right)}{2 \\, \\cos\\left(a \\kappa_{1}\\right)^{2} - 1}\\right]$$"
      ],
      "text/plain": [
       "<IPython.core.display.Math object>"
      ]
     },
     "metadata": {},
     "output_type": "display_data"
    },
    {
     "name": "stdout",
     "output_type": "stream",
     "text": [
      "\n",
      "var =\n"
     ]
    },
    {
     "data": {
      "text/latex": [
       "$$\\mathit{Bz}_{1}$$"
      ],
      "text/plain": [
       "<IPython.core.display.Math object>"
      ]
     },
     "metadata": {},
     "output_type": "display_data"
    },
    {
     "name": "stdout",
     "output_type": "stream",
     "text": [
      "\n",
      "sol=\n"
     ]
    },
    {
     "data": {
      "text/latex": [
       "$$\\left[\\right]$$"
      ],
      "text/plain": [
       "<IPython.core.display.Math object>"
      ]
     },
     "metadata": {},
     "output_type": "display_data"
    },
    {
     "name": "stdout",
     "output_type": "stream",
     "text": [
      "\n"
     ]
    }
   ],
   "source": [
    "res_rot_H = []\n",
    "for i in range(n_layers):\n",
    "    eqs_rotH = [(eq_rot_H_x[i]*(-I)*omega/c)\n",
    "                     .subs(solve(eq_kappa[i], omega^2))\n",
    "                     .subs(boundary_subs_begin).subs(boundary_subs_end)\n",
    "                     .full_simplify(),\n",
    "                (eq_rot_H_z[i]*(-I)*omega/c)\n",
    "                     .subs(solve(eq_kappa[i], omega^2))\n",
    "                     .subs(boundary_subs_begin).subs(boundary_subs_end)\n",
    "                     .full_simplify(),\n",
    "               ]\n",
    "\n",
    "    print(\"eq_rot_H_x = \")\n",
    "    display(Math(latex(eqs_rotH[0])))\n",
    "    print(\"eq_rot_H_z = \")\n",
    "    display(Math(latex(eqs_rotH[1])))\n",
    "    print(\"\")\n",
    "    \n",
    "    vars_dielectric = [Ax[i], Az[i], Bx[i], Bz[i]]\n",
    "    \n",
    "    vars_dielectric = [var for var in vars_dielectric if var not in exclude_vars]\n",
    "    display(Math(latex(vars_dielectric)))\n",
    "    M_rotH = GenerateMatrix(eqs_rotH, vars_dielectric)\n",
    "    print (\"M_rotH =\")\n",
    "    display(Math(latex(M_rotH)))\n",
    "    print (\"M_rotH.nrows =\", M_rotH.nrows())\n",
    "    print (\"M_rotH.ncols =\", M_rotH.ncols())\n",
    "    print (\"M_rotH.rank =\", M_rotH.rank())\n",
    "    res_rot_H += rot_H_solve(M_rotH, vars_dielectric, eq_kappa[i], kappa[i])"
   ]
  },
  {
   "cell_type": "code",
   "execution_count": 20,
   "metadata": {},
   "outputs": [
    {
     "data": {
      "text/latex": [
       "$$\\left[\\mathit{Bx}_{0} = 0, \\mathit{Ax}_{0} = \\frac{i \\, \\mathit{Bz}_{0} k}{\\kappa_{0}}, \\mathit{Bz}_{0} = -\\frac{i \\, \\mathit{Ax}_{0} \\kappa_{0}}{k}, \\mathit{Ax}_{0} = \\frac{i \\, \\mathit{Bz}_{0} k}{\\kappa_{0}}, \\mathit{Bx}_{0} = 0, \\mathit{Bz}_{0} = -\\frac{i \\, \\mathit{Ax}_{0} \\kappa_{0}}{k}, \\mathit{Bx}_{0} = 0, \\mathit{Bx}_{1} = -\\frac{2 i \\, \\mathit{Bz}_{1} k \\cos\\left(a \\kappa_{1}\\right) \\sin\\left(a \\kappa_{1}\\right)}{2 \\, \\kappa_{1} \\sin\\left(a \\kappa_{1}\\right)^{2} - \\kappa_{1}}, \\mathit{Ax}_{1} = \\frac{i \\, \\mathit{Bz}_{1} k}{\\kappa_{1}}, \\mathit{Bz}_{1} = -\\frac{i \\, \\mathit{Ax}_{1} \\kappa_{1}}{k}, \\mathit{Bz}_{1} = \\frac{2 i \\, \\mathit{Bx}_{1} \\kappa_{1} \\sin\\left(a \\kappa_{1}\\right)^{2} - i \\, \\mathit{Bx}_{1} \\kappa_{1}}{2 \\, k \\cos\\left(a \\kappa_{1}\\right) \\sin\\left(a \\kappa_{1}\\right)}, \\mathit{Ax}_{1} = -\\frac{2 \\, \\mathit{Bx}_{1} \\sin\\left(a \\kappa_{1}\\right)^{2} - \\mathit{Bx}_{1}}{2 \\, \\cos\\left(a \\kappa_{1}\\right) \\sin\\left(a \\kappa_{1}\\right)}, \\mathit{Bx}_{1} = -\\frac{2 \\, \\mathit{Ax}_{1} \\cos\\left(a \\kappa_{1}\\right) \\sin\\left(a \\kappa_{1}\\right)}{2 \\, \\sin\\left(a \\kappa_{1}\\right)^{2} - 1}, \\mathit{Ax}_{1} = \\frac{i \\, \\mathit{Bz}_{1} k}{\\kappa_{1}}, \\mathit{Bx}_{1} = -\\frac{2 \\, \\mathit{Bz}_{1} k \\cos\\left(a \\kappa_{1}\\right) \\sin\\left(a \\kappa_{1}\\right)}{2 i \\, \\kappa_{1} \\cos\\left(a \\kappa_{1}\\right)^{2} - i \\, \\kappa_{1}}, \\mathit{Bz}_{1} = \\frac{-2 i \\, \\mathit{Bx}_{1} \\kappa_{1} \\cos\\left(a \\kappa_{1}\\right)^{2} + i \\, \\mathit{Bx}_{1} \\kappa_{1}}{2 \\, k \\cos\\left(a \\kappa_{1}\\right) \\sin\\left(a \\kappa_{1}\\right)}, \\mathit{Bz}_{1} = -\\frac{i \\, \\mathit{Ax}_{1} \\kappa_{1}}{k}, \\mathit{Ax}_{1} = \\frac{2 \\, \\mathit{Bx}_{1} \\cos\\left(a \\kappa_{1}\\right)^{2} - \\mathit{Bx}_{1}}{2 \\, \\cos\\left(a \\kappa_{1}\\right) \\sin\\left(a \\kappa_{1}\\right)}, \\mathit{Bx}_{1} = \\frac{2 \\, \\mathit{Ax}_{1} \\cos\\left(a \\kappa_{1}\\right) \\sin\\left(a \\kappa_{1}\\right)}{2 \\, \\cos\\left(a \\kappa_{1}\\right)^{2} - 1}\\right]$$"
      ],
      "text/plain": [
       "<IPython.core.display.Math object>"
      ]
     },
     "metadata": {},
     "output_type": "display_data"
    }
   ],
   "source": [
    "display(Math(latex(res_rot_H)))"
   ]
  },
  {
   "cell_type": "code",
   "execution_count": 21,
   "metadata": {},
   "outputs": [
    {
     "data": {
      "text/plain": [
       "[Ax_0, Ax_1, Az_0, Az_1, Bx_0, Bx_1, Bz_0, Bz_1]"
      ]
     },
     "execution_count": 21,
     "metadata": {},
     "output_type": "execute_result"
    }
   ],
   "source": [
    "vars = Ax + Az + Bx + Bz\n",
    "vars"
   ]
  },
  {
   "cell_type": "code",
   "execution_count": 22,
   "metadata": {},
   "outputs": [
    {
     "data": {
      "text/latex": [
       "$$\\left(\\begin{array}{rrrrrrrr}\n",
       "0 & 0 & 0 & 0 & 1 & 0 & 0 & 0 \\\\\n",
       "1 & 0 & 0 & 0 & 0 & 0 & -\\frac{i \\, k}{\\kappa_{0}} & 0 \\\\\n",
       "\\frac{i \\, \\kappa_{0}}{k} & 0 & 0 & 0 & 0 & 0 & 1 & 0 \\\\\n",
       "1 & 0 & 0 & 0 & 0 & 0 & -\\frac{i \\, k}{\\kappa_{0}} & 0 \\\\\n",
       "0 & 0 & 0 & 0 & 1 & 0 & 0 & 0 \\\\\n",
       "\\frac{i \\, \\kappa_{0}}{k} & 0 & 0 & 0 & 0 & 0 & 1 & 0 \\\\\n",
       "0 & 0 & 0 & 0 & 1 & 0 & 0 & 0 \\\\\n",
       "0 & 0 & 0 & 0 & 0 & 1 & 0 & \\frac{2 i \\, k \\cos\\left(a \\kappa_{1}\\right) \\sin\\left(a \\kappa_{1}\\right)}{2 \\, \\kappa_{1} \\sin\\left(a \\kappa_{1}\\right)^{2} - \\kappa_{1}} \\\\\n",
       "0 & 1 & 0 & 0 & 0 & 0 & 0 & -\\frac{i \\, k}{\\kappa_{1}} \\\\\n",
       "0 & \\frac{i \\, \\kappa_{1}}{k} & 0 & 0 & 0 & 0 & 0 & 1 \\\\\n",
       "0 & 0 & 0 & 0 & 0 & -\\frac{2 i \\, \\kappa_{1} \\sin\\left(a \\kappa_{1}\\right)^{2} - i \\, \\kappa_{1}}{2 \\, k \\cos\\left(a \\kappa_{1}\\right) \\sin\\left(a \\kappa_{1}\\right)} & 0 & 1 \\\\\n",
       "0 & 1 & 0 & 0 & 0 & \\frac{2 \\, \\sin\\left(a \\kappa_{1}\\right)^{2} - 1}{2 \\, \\cos\\left(a \\kappa_{1}\\right) \\sin\\left(a \\kappa_{1}\\right)} & 0 & 0 \\\\\n",
       "0 & \\frac{2 \\, \\cos\\left(a \\kappa_{1}\\right) \\sin\\left(a \\kappa_{1}\\right)}{2 \\, \\sin\\left(a \\kappa_{1}\\right)^{2} - 1} & 0 & 0 & 0 & 1 & 0 & 0 \\\\\n",
       "0 & 1 & 0 & 0 & 0 & 0 & 0 & -\\frac{i \\, k}{\\kappa_{1}} \\\\\n",
       "0 & 0 & 0 & 0 & 0 & 1 & 0 & \\frac{2 \\, k \\cos\\left(a \\kappa_{1}\\right) \\sin\\left(a \\kappa_{1}\\right)}{2 i \\, \\kappa_{1} \\cos\\left(a \\kappa_{1}\\right)^{2} - i \\, \\kappa_{1}} \\\\\n",
       "0 & 0 & 0 & 0 & 0 & -\\frac{-2 i \\, \\kappa_{1} \\cos\\left(a \\kappa_{1}\\right)^{2} + i \\, \\kappa_{1}}{2 \\, k \\cos\\left(a \\kappa_{1}\\right) \\sin\\left(a \\kappa_{1}\\right)} & 0 & 1 \\\\\n",
       "0 & \\frac{i \\, \\kappa_{1}}{k} & 0 & 0 & 0 & 0 & 0 & 1 \\\\\n",
       "0 & 1 & 0 & 0 & 0 & -\\frac{2 \\, \\cos\\left(a \\kappa_{1}\\right)^{2} - 1}{2 \\, \\cos\\left(a \\kappa_{1}\\right) \\sin\\left(a \\kappa_{1}\\right)} & 0 & 0 \\\\\n",
       "0 & -\\frac{2 \\, \\cos\\left(a \\kappa_{1}\\right) \\sin\\left(a \\kappa_{1}\\right)}{2 \\, \\cos\\left(a \\kappa_{1}\\right)^{2} - 1} & 0 & 0 & 0 & 1 & 0 & 0\n",
       "\\end{array}\\right)$$"
      ],
      "text/plain": [
       "<IPython.core.display.Math object>"
      ]
     },
     "metadata": {},
     "output_type": "display_data"
    }
   ],
   "source": [
    "M_res_rot_H = GenerateMatrix(res_rot_H, vars)\n",
    "display(Math(latex(M_res_rot_H)))"
   ]
  },
  {
   "cell_type": "code",
   "execution_count": 23,
   "metadata": {},
   "outputs": [
    {
     "name": "stdout",
     "output_type": "stream",
     "text": [
      "\n",
      "M.nrows() 19\n",
      "M.ncols() 8\n",
      "M.rank() 4\n",
      "M.pivot_rows() = (0, 1, 7, 8)\n",
      "row =\n"
     ]
    },
    {
     "data": {
      "text/latex": [
       "$$\\left(0,\\,0,\\,0,\\,0,\\,1,\\,0,\\,0,\\,0\\right)$$"
      ],
      "text/plain": [
       "<IPython.core.display.Math object>"
      ]
     },
     "metadata": {},
     "output_type": "display_data"
    },
    {
     "name": "stdout",
     "output_type": "stream",
     "text": [
      "row =\n"
     ]
    },
    {
     "data": {
      "text/latex": [
       "$$\\left(1,\\,0,\\,0,\\,0,\\,0,\\,0,\\,-\\frac{i \\, k}{\\kappa_{0}},\\,0\\right)$$"
      ],
      "text/plain": [
       "<IPython.core.display.Math object>"
      ]
     },
     "metadata": {},
     "output_type": "display_data"
    },
    {
     "name": "stdout",
     "output_type": "stream",
     "text": [
      "row =\n"
     ]
    },
    {
     "data": {
      "text/latex": [
       "$$\\left(\\frac{i \\, \\kappa_{0}}{k},\\,0,\\,0,\\,0,\\,0,\\,0,\\,1,\\,0\\right)$$"
      ],
      "text/plain": [
       "<IPython.core.display.Math object>"
      ]
     },
     "metadata": {},
     "output_type": "display_data"
    },
    {
     "name": "stdout",
     "output_type": "stream",
     "text": [
      "row =\n"
     ]
    },
    {
     "data": {
      "text/latex": [
       "$$\\left(1,\\,0,\\,0,\\,0,\\,0,\\,0,\\,-\\frac{i \\, k}{\\kappa_{0}},\\,0\\right)$$"
      ],
      "text/plain": [
       "<IPython.core.display.Math object>"
      ]
     },
     "metadata": {},
     "output_type": "display_data"
    },
    {
     "name": "stdout",
     "output_type": "stream",
     "text": [
      "row =\n"
     ]
    },
    {
     "data": {
      "text/latex": [
       "$$\\left(0,\\,0,\\,0,\\,0,\\,1,\\,0,\\,0,\\,0\\right)$$"
      ],
      "text/plain": [
       "<IPython.core.display.Math object>"
      ]
     },
     "metadata": {},
     "output_type": "display_data"
    },
    {
     "name": "stdout",
     "output_type": "stream",
     "text": [
      "row =\n"
     ]
    },
    {
     "data": {
      "text/latex": [
       "$$\\left(\\frac{i \\, \\kappa_{0}}{k},\\,0,\\,0,\\,0,\\,0,\\,0,\\,1,\\,0\\right)$$"
      ],
      "text/plain": [
       "<IPython.core.display.Math object>"
      ]
     },
     "metadata": {},
     "output_type": "display_data"
    },
    {
     "name": "stdout",
     "output_type": "stream",
     "text": [
      "row =\n"
     ]
    },
    {
     "data": {
      "text/latex": [
       "$$\\left(0,\\,0,\\,0,\\,0,\\,1,\\,0,\\,0,\\,0\\right)$$"
      ],
      "text/plain": [
       "<IPython.core.display.Math object>"
      ]
     },
     "metadata": {},
     "output_type": "display_data"
    },
    {
     "name": "stdout",
     "output_type": "stream",
     "text": [
      "row =\n"
     ]
    },
    {
     "data": {
      "text/latex": [
       "$$\\left(0,\\,0,\\,0,\\,0,\\,0,\\,1,\\,0,\\,\\frac{2 i \\, k \\cos\\left(a \\kappa_{1}\\right) \\sin\\left(a \\kappa_{1}\\right)}{2 \\, \\kappa_{1} \\sin\\left(a \\kappa_{1}\\right)^{2} - \\kappa_{1}}\\right)$$"
      ],
      "text/plain": [
       "<IPython.core.display.Math object>"
      ]
     },
     "metadata": {},
     "output_type": "display_data"
    },
    {
     "name": "stdout",
     "output_type": "stream",
     "text": [
      "row =\n"
     ]
    },
    {
     "data": {
      "text/latex": [
       "$$\\left(0,\\,1,\\,0,\\,0,\\,0,\\,0,\\,0,\\,-\\frac{i \\, k}{\\kappa_{1}}\\right)$$"
      ],
      "text/plain": [
       "<IPython.core.display.Math object>"
      ]
     },
     "metadata": {},
     "output_type": "display_data"
    },
    {
     "name": "stdout",
     "output_type": "stream",
     "text": [
      "row =\n"
     ]
    },
    {
     "data": {
      "text/latex": [
       "$$\\left(0,\\,\\frac{i \\, \\kappa_{1}}{k},\\,0,\\,0,\\,0,\\,0,\\,0,\\,1\\right)$$"
      ],
      "text/plain": [
       "<IPython.core.display.Math object>"
      ]
     },
     "metadata": {},
     "output_type": "display_data"
    },
    {
     "name": "stdout",
     "output_type": "stream",
     "text": [
      "row =\n"
     ]
    },
    {
     "data": {
      "text/latex": [
       "$$\\left(0,\\,0,\\,0,\\,0,\\,0,\\,-\\frac{2 i \\, \\kappa_{1} \\sin\\left(a \\kappa_{1}\\right)^{2} - i \\, \\kappa_{1}}{2 \\, k \\cos\\left(a \\kappa_{1}\\right) \\sin\\left(a \\kappa_{1}\\right)},\\,0,\\,1\\right)$$"
      ],
      "text/plain": [
       "<IPython.core.display.Math object>"
      ]
     },
     "metadata": {},
     "output_type": "display_data"
    },
    {
     "name": "stdout",
     "output_type": "stream",
     "text": [
      "row =\n"
     ]
    },
    {
     "data": {
      "text/latex": [
       "$$\\left(0,\\,1,\\,0,\\,0,\\,0,\\,\\frac{2 \\, \\sin\\left(a \\kappa_{1}\\right)^{2} - 1}{2 \\, \\cos\\left(a \\kappa_{1}\\right) \\sin\\left(a \\kappa_{1}\\right)},\\,0,\\,0\\right)$$"
      ],
      "text/plain": [
       "<IPython.core.display.Math object>"
      ]
     },
     "metadata": {},
     "output_type": "display_data"
    },
    {
     "name": "stdout",
     "output_type": "stream",
     "text": [
      "row =\n"
     ]
    },
    {
     "data": {
      "text/latex": [
       "$$\\left(0,\\,\\frac{2 \\, \\cos\\left(a \\kappa_{1}\\right) \\sin\\left(a \\kappa_{1}\\right)}{2 \\, \\sin\\left(a \\kappa_{1}\\right)^{2} - 1},\\,0,\\,0,\\,0,\\,1,\\,0,\\,0\\right)$$"
      ],
      "text/plain": [
       "<IPython.core.display.Math object>"
      ]
     },
     "metadata": {},
     "output_type": "display_data"
    },
    {
     "name": "stdout",
     "output_type": "stream",
     "text": [
      "row =\n"
     ]
    },
    {
     "data": {
      "text/latex": [
       "$$\\left(0,\\,1,\\,0,\\,0,\\,0,\\,0,\\,0,\\,-\\frac{i \\, k}{\\kappa_{1}}\\right)$$"
      ],
      "text/plain": [
       "<IPython.core.display.Math object>"
      ]
     },
     "metadata": {},
     "output_type": "display_data"
    },
    {
     "name": "stdout",
     "output_type": "stream",
     "text": [
      "row =\n"
     ]
    },
    {
     "data": {
      "text/latex": [
       "$$\\left(0,\\,0,\\,0,\\,0,\\,0,\\,1,\\,0,\\,\\frac{2 \\, k \\cos\\left(a \\kappa_{1}\\right) \\sin\\left(a \\kappa_{1}\\right)}{2 i \\, \\kappa_{1} \\cos\\left(a \\kappa_{1}\\right)^{2} - i \\, \\kappa_{1}}\\right)$$"
      ],
      "text/plain": [
       "<IPython.core.display.Math object>"
      ]
     },
     "metadata": {},
     "output_type": "display_data"
    },
    {
     "name": "stdout",
     "output_type": "stream",
     "text": [
      "row =\n"
     ]
    },
    {
     "data": {
      "text/latex": [
       "$$\\left(0,\\,0,\\,0,\\,0,\\,0,\\,-\\frac{-2 i \\, \\kappa_{1} \\cos\\left(a \\kappa_{1}\\right)^{2} + i \\, \\kappa_{1}}{2 \\, k \\cos\\left(a \\kappa_{1}\\right) \\sin\\left(a \\kappa_{1}\\right)},\\,0,\\,1\\right)$$"
      ],
      "text/plain": [
       "<IPython.core.display.Math object>"
      ]
     },
     "metadata": {},
     "output_type": "display_data"
    },
    {
     "name": "stdout",
     "output_type": "stream",
     "text": [
      "row =\n"
     ]
    },
    {
     "data": {
      "text/latex": [
       "$$\\left(0,\\,\\frac{i \\, \\kappa_{1}}{k},\\,0,\\,0,\\,0,\\,0,\\,0,\\,1\\right)$$"
      ],
      "text/plain": [
       "<IPython.core.display.Math object>"
      ]
     },
     "metadata": {},
     "output_type": "display_data"
    },
    {
     "name": "stdout",
     "output_type": "stream",
     "text": [
      "row =\n"
     ]
    },
    {
     "data": {
      "text/latex": [
       "$$\\left(0,\\,1,\\,0,\\,0,\\,0,\\,-\\frac{2 \\, \\cos\\left(a \\kappa_{1}\\right)^{2} - 1}{2 \\, \\cos\\left(a \\kappa_{1}\\right) \\sin\\left(a \\kappa_{1}\\right)},\\,0,\\,0\\right)$$"
      ],
      "text/plain": [
       "<IPython.core.display.Math object>"
      ]
     },
     "metadata": {},
     "output_type": "display_data"
    },
    {
     "name": "stdout",
     "output_type": "stream",
     "text": [
      "row =\n"
     ]
    },
    {
     "data": {
      "text/latex": [
       "$$\\left(0,\\,-\\frac{2 \\, \\cos\\left(a \\kappa_{1}\\right) \\sin\\left(a \\kappa_{1}\\right)}{2 \\, \\cos\\left(a \\kappa_{1}\\right)^{2} - 1},\\,0,\\,0,\\,0,\\,1,\\,0,\\,0\\right)$$"
      ],
      "text/plain": [
       "<IPython.core.display.Math object>"
      ]
     },
     "metadata": {},
     "output_type": "display_data"
    },
    {
     "name": "stdout",
     "output_type": "stream",
     "text": [
      "M_rows[ 0 ] =\n"
     ]
    },
    {
     "data": {
      "text/latex": [
       "$$\\left(0,\\,0,\\,0,\\,0,\\,1,\\,0,\\,0,\\,0\\right)$$"
      ],
      "text/plain": [
       "<IPython.core.display.Math object>"
      ]
     },
     "metadata": {},
     "output_type": "display_data"
    },
    {
     "name": "stdout",
     "output_type": "stream",
     "text": [
      "M_rows[ 1 ] =\n"
     ]
    },
    {
     "data": {
      "text/latex": [
       "$$\\left(1,\\,0,\\,0,\\,0,\\,0,\\,0,\\,-\\frac{i \\, k}{\\kappa_{0}},\\,0\\right)$$"
      ],
      "text/plain": [
       "<IPython.core.display.Math object>"
      ]
     },
     "metadata": {},
     "output_type": "display_data"
    },
    {
     "name": "stdout",
     "output_type": "stream",
     "text": [
      "M_rows[ 7 ] =\n"
     ]
    },
    {
     "data": {
      "text/latex": [
       "$$\\left(0,\\,0,\\,0,\\,0,\\,0,\\,1,\\,0,\\,\\frac{2 i \\, k \\cos\\left(a \\kappa_{1}\\right) \\sin\\left(a \\kappa_{1}\\right)}{2 \\, \\kappa_{1} \\sin\\left(a \\kappa_{1}\\right)^{2} - \\kappa_{1}}\\right)$$"
      ],
      "text/plain": [
       "<IPython.core.display.Math object>"
      ]
     },
     "metadata": {},
     "output_type": "display_data"
    },
    {
     "name": "stdout",
     "output_type": "stream",
     "text": [
      "M_rows[ 8 ] =\n"
     ]
    },
    {
     "data": {
      "text/latex": [
       "$$\\left(0,\\,1,\\,0,\\,0,\\,0,\\,0,\\,0,\\,-\\frac{i \\, k}{\\kappa_{1}}\\right)$$"
      ],
      "text/plain": [
       "<IPython.core.display.Math object>"
      ]
     },
     "metadata": {},
     "output_type": "display_data"
    }
   ],
   "source": [
    "reduced_M_res_rot_H = reduceDependedRows(M_res_rot_H)"
   ]
  },
  {
   "cell_type": "code",
   "execution_count": 24,
   "metadata": {},
   "outputs": [
    {
     "data": {
      "text/latex": [
       "$$\\left(\\begin{array}{rrrrrrrr}\n",
       "0 & 0 & 0 & 0 & 1 & 0 & 0 & 0 \\\\\n",
       "1 & 0 & 0 & 0 & 0 & 0 & -\\frac{i \\, k}{\\kappa_{0}} & 0 \\\\\n",
       "0 & 0 & 0 & 0 & 0 & 1 & 0 & \\frac{2 i \\, k \\cos\\left(a \\kappa_{1}\\right) \\sin\\left(a \\kappa_{1}\\right)}{2 \\, \\kappa_{1} \\sin\\left(a \\kappa_{1}\\right)^{2} - \\kappa_{1}} \\\\\n",
       "0 & 1 & 0 & 0 & 0 & 0 & 0 & -\\frac{i \\, k}{\\kappa_{1}}\n",
       "\\end{array}\\right)$$"
      ],
      "text/plain": [
       "<IPython.core.display.Math object>"
      ]
     },
     "metadata": {},
     "output_type": "display_data"
    }
   ],
   "source": [
    "display(Math(latex(reduced_M_res_rot_H)))"
   ]
  },
  {
   "cell_type": "code",
   "execution_count": 25,
   "metadata": {},
   "outputs": [],
   "source": [
    "def make_eqsys_from_reduced_M(M_rotH, vars):\n",
    "    xx = vector(SR, vars)\n",
    "    print(\"eqns =\")\n",
    "    eqns = [(M_rotH*xx)[index] == 0 for index in range(M_rotH.nrows())]\n",
    "    display(Math(latex(eqns)))\n",
    "    return (eqns)"
   ]
  },
  {
   "cell_type": "code",
   "execution_count": 26,
   "metadata": {},
   "outputs": [
    {
     "name": "stdout",
     "output_type": "stream",
     "text": [
      "eqns =\n"
     ]
    },
    {
     "data": {
      "text/latex": [
       "$$\\left[\\mathit{Bx}_{0} = 0, \\mathit{Ax}_{0} - \\frac{i \\, \\mathit{Bz}_{0} k}{\\kappa_{0}} = 0, \\frac{2 i \\, \\mathit{Bz}_{1} k \\cos\\left(a \\kappa_{1}\\right) \\sin\\left(a \\kappa_{1}\\right)}{2 \\, \\kappa_{1} \\sin\\left(a \\kappa_{1}\\right)^{2} - \\kappa_{1}} + \\mathit{Bx}_{1} = 0, \\mathit{Ax}_{1} - \\frac{i \\, \\mathit{Bz}_{1} k}{\\kappa_{1}} = 0\\right]$$"
      ],
      "text/plain": [
       "<IPython.core.display.Math object>"
      ]
     },
     "metadata": {},
     "output_type": "display_data"
    }
   ],
   "source": [
    "eqsys_rotH_simplified = make_eqsys_from_reduced_M(reduced_M_res_rot_H, vars)"
   ]
  },
  {
   "cell_type": "code",
   "execution_count": 27,
   "metadata": {},
   "outputs": [
    {
     "data": {
      "text/latex": [
       "$$\\left[\\mathit{Bx}_{0} = 0, \\mathit{Ax}_{0} = \\frac{i \\, \\mathit{Bz}_{0} k}{\\kappa_{0}}, \\mathit{Bx}_{1} = -\\frac{2 i \\, \\mathit{Bz}_{1} k \\cos\\left(a \\kappa_{1}\\right) \\sin\\left(a \\kappa_{1}\\right)}{2 \\, \\kappa_{1} \\sin\\left(a \\kappa_{1}\\right)^{2} - \\kappa_{1}}, \\mathit{Ax}_{1} = \\frac{i \\, \\mathit{Bz}_{1} k}{\\kappa_{1}}\\right]$$"
      ],
      "text/plain": [
       "<IPython.core.display.Math object>"
      ]
     },
     "metadata": {},
     "output_type": "display_data"
    }
   ],
   "source": [
    "eqsys_rotH_subs = []\n",
    "for eq_rotH_simplified in eqsys_rotH_simplified:\n",
    "    for var in Ax + Bx:\n",
    "        if var in eq_rotH_simplified.variables():\n",
    "            eqsys_rotH_subs += solve (eq_rotH_simplified, var)\n",
    "\n",
    "display(Math(latex(eqsys_rotH_subs)))"
   ]
  },
  {
   "cell_type": "code",
   "execution_count": 28,
   "metadata": {},
   "outputs": [
    {
     "data": {
      "text/latex": [
       "$$\\mathit{Bz}_{1} = \\frac{{\\left(2 \\, {\\left(\\mathit{Bz}_{0} k^{2} + \\mathit{Bz}_{0} \\kappa_{0}^{2}\\right)} \\kappa_{1} \\cos\\left(a \\kappa_{0}\\right) \\cos\\left(a \\kappa_{1}\\right)^{2} - {\\left(\\mathit{Bz}_{0} k^{2} + \\mathit{Bz}_{0} \\kappa_{0}^{2}\\right)} \\kappa_{1} \\cos\\left(a \\kappa_{0}\\right)\\right)} \\mu_{1}}{{\\left(k^{2} \\kappa_{0} + \\kappa_{0} \\kappa_{1}^{2}\\right)} \\mu_{0} \\cos\\left(a \\kappa_{1}\\right)}$$"
      ],
      "text/plain": [
       "<IPython.core.display.Math object>"
      ]
     },
     "metadata": {},
     "output_type": "display_data"
    }
   ],
   "source": [
    "# граничные условия на гринице диэлектрика и диэлектрика\n",
    "# тангенциальная компонента поля H\n",
    "# eq_Hy_boundary_conditions = []\n",
    "Bz_eqs = []\n",
    "for i in range(n_layers - 1):\n",
    "    # eq_Hy_boundary_conditions += [Hy[i] (a*(i+1)) == Hy[i+1](a*(i+1))]\n",
    "    eq_Hy_bound_cond = eq_Hy_boundary_conditions[i].subs(eqsys_rotH_subs).subs(boundary_subs).full_simplify().expand()\n",
    "    Bz_eqs += solve(eq_Hy_bound_cond, Bz[i+1])\n",
    "    display(Math(latex(Bz_eqs[i])))"
   ]
  },
  {
   "cell_type": "code",
   "execution_count": 29,
   "metadata": {},
   "outputs": [
    {
     "data": {
      "text/latex": [
       "$$\\left[\\mathit{Az}_{0} \\cos\\left(a \\kappa_{0}\\right) + \\mathit{Bz}_{0} \\sin\\left(a \\kappa_{0}\\right) = \\mathit{Az}_{1} \\cos\\left(a \\kappa_{1}\\right) + \\mathit{Bz}_{1} \\sin\\left(a \\kappa_{1}\\right), {\\left(\\mathit{Ax}_{0} \\cos\\left(a \\kappa_{0}\\right) + \\mathit{Bx}_{0} \\sin\\left(a \\kappa_{0}\\right)\\right)} \\epsilon_{0} = {\\left(\\mathit{Ax}_{1} \\cos\\left(a \\kappa_{1}\\right) + \\mathit{Bx}_{1} \\sin\\left(a \\kappa_{1}\\right)\\right)} \\epsilon_{1}, \\mathit{Bx}_{0} = 0, \\mathit{Ax}_{0} - \\frac{i \\, \\mathit{Bz}_{0} k}{\\kappa_{0}} = 0, \\frac{2 i \\, \\mathit{Bz}_{1} k \\cos\\left(a \\kappa_{1}\\right) \\sin\\left(a \\kappa_{1}\\right)}{2 \\, \\kappa_{1} \\sin\\left(a \\kappa_{1}\\right)^{2} - \\kappa_{1}} + \\mathit{Bx}_{1} = 0, \\mathit{Ax}_{1} - \\frac{i \\, \\mathit{Bz}_{1} k}{\\kappa_{1}} = 0\\right]$$"
      ],
      "text/plain": [
       "<IPython.core.display.Math object>"
      ]
     },
     "metadata": {},
     "output_type": "display_data"
    }
   ],
   "source": [
    "        # + eq_Hy_boundary_conditions \\\n",
    "all_eqs = eq_Ez_boundary_conditions \\\n",
    "        + eq_Ex_boundary_conditions \\\n",
    "        + eqsys_rotH_simplified\n",
    "display(Math(latex(all_eqs)))"
   ]
  },
  {
   "cell_type": "code",
   "execution_count": 30,
   "metadata": {},
   "outputs": [
    {
     "data": {
      "text/latex": [
       "$$\\left[\\mathit{Az}_{0} \\cos\\left(a \\kappa_{0}\\right) + \\mathit{Bz}_{0} \\sin\\left(a \\kappa_{0}\\right) = \\mathit{Az}_{1} \\cos\\left(a \\kappa_{1}\\right) + \\mathit{Bz}_{1} \\sin\\left(a \\kappa_{1}\\right), {\\left(\\mathit{Ax}_{0} \\cos\\left(a \\kappa_{0}\\right) + \\mathit{Bx}_{0} \\sin\\left(a \\kappa_{0}\\right)\\right)} \\epsilon_{0} = {\\left(\\mathit{Ax}_{1} \\cos\\left(a \\kappa_{1}\\right) + \\mathit{Bx}_{1} \\sin\\left(a \\kappa_{1}\\right)\\right)} \\epsilon_{1}, \\mathit{Bx}_{0} = 0, \\mathit{Ax}_{0} - \\frac{i \\, \\mathit{Bz}_{0} k}{\\kappa_{0}} = 0, \\frac{2 i \\, \\mathit{Bz}_{1} k \\cos\\left(a \\kappa_{1}\\right) \\sin\\left(a \\kappa_{1}\\right)}{2 \\, \\kappa_{1} \\sin\\left(a \\kappa_{1}\\right)^{2} - \\kappa_{1}} + \\mathit{Bx}_{1} = 0, \\mathit{Ax}_{1} - \\frac{i \\, \\mathit{Bz}_{1} k}{\\kappa_{1}} = 0, \\mathit{Az}_{0} = 0.000000000000000, \\mathit{Az}_{1} \\cos\\left(2 \\, a \\kappa_{1}\\right) + \\mathit{Bz}_{1} \\sin\\left(2 \\, a \\kappa_{1}\\right) = 0.000000000000000\\right]$$"
      ],
      "text/plain": [
       "<IPython.core.display.Math object>"
      ]
     },
     "metadata": {},
     "output_type": "display_data"
    }
   ],
   "source": [
    "all_eqs += eq_Ez_superconductor_boundary_conditions\n",
    "display(Math(latex(all_eqs)))"
   ]
  },
  {
   "cell_type": "code",
   "execution_count": 31,
   "metadata": {},
   "outputs": [
    {
     "data": {
      "text/plain": [
       "8"
      ]
     },
     "execution_count": 31,
     "metadata": {},
     "output_type": "execute_result"
    }
   ],
   "source": [
    "len(all_eqs)"
   ]
  },
  {
   "cell_type": "code",
   "execution_count": 32,
   "metadata": {},
   "outputs": [
    {
     "data": {
      "text/latex": [
       "$$\\left(\\begin{array}{rrrrrrrr}\n",
       "0 & 0 & \\cos\\left(a \\kappa_{0}\\right) & -\\cos\\left(a \\kappa_{1}\\right) & 0 & 0 & \\sin\\left(a \\kappa_{0}\\right) & -\\sin\\left(a \\kappa_{1}\\right) \\\\\n",
       "\\epsilon_{0} \\cos\\left(a \\kappa_{0}\\right) & -\\epsilon_{1} \\cos\\left(a \\kappa_{1}\\right) & 0 & 0 & \\epsilon_{0} \\sin\\left(a \\kappa_{0}\\right) & -\\epsilon_{1} \\sin\\left(a \\kappa_{1}\\right) & 0 & 0 \\\\\n",
       "0 & 0 & 0 & 0 & 1 & 0 & 0 & 0 \\\\\n",
       "1 & 0 & 0 & 0 & 0 & 0 & -\\frac{i \\, k}{\\kappa_{0}} & 0 \\\\\n",
       "0 & 0 & 0 & 0 & 0 & 1 & 0 & \\frac{2 i \\, k \\cos\\left(a \\kappa_{1}\\right) \\sin\\left(a \\kappa_{1}\\right)}{2 \\, \\kappa_{1} \\sin\\left(a \\kappa_{1}\\right)^{2} - \\kappa_{1}} \\\\\n",
       "0 & 1 & 0 & 0 & 0 & 0 & 0 & -\\frac{i \\, k}{\\kappa_{1}} \\\\\n",
       "0 & 0 & 1 & 0 & 0 & 0 & 0 & 0 \\\\\n",
       "0 & 0 & 0 & \\cos\\left(2 \\, a \\kappa_{1}\\right) & 0 & 0 & 0 & \\sin\\left(2 \\, a \\kappa_{1}\\right)\n",
       "\\end{array}\\right)$$"
      ],
      "text/plain": [
       "<IPython.core.display.Math object>"
      ]
     },
     "metadata": {},
     "output_type": "display_data"
    }
   ],
   "source": [
    "M = GenerateMatrix(all_eqs, vars)\n",
    "display(Math(latex(M)))"
   ]
  },
  {
   "cell_type": "code",
   "execution_count": 33,
   "metadata": {},
   "outputs": [
    {
     "name": "stdout",
     "output_type": "stream",
     "text": [
      "\n",
      "M.nrows() 8\n",
      "M.ncols() 8\n",
      "M.rank() 8\n",
      "M.pivot_rows() = (0, 1, 2, 3, 4, 5, 6, 7)\n",
      "row =\n"
     ]
    },
    {
     "data": {
      "text/latex": [
       "$$\\left(0,\\,0,\\,\\cos\\left(a \\kappa_{0}\\right),\\,-\\cos\\left(a \\kappa_{1}\\right),\\,0,\\,0,\\,\\sin\\left(a \\kappa_{0}\\right),\\,-\\sin\\left(a \\kappa_{1}\\right)\\right)$$"
      ],
      "text/plain": [
       "<IPython.core.display.Math object>"
      ]
     },
     "metadata": {},
     "output_type": "display_data"
    },
    {
     "name": "stdout",
     "output_type": "stream",
     "text": [
      "row =\n"
     ]
    },
    {
     "data": {
      "text/latex": [
       "$$\\left(\\epsilon_{0} \\cos\\left(a \\kappa_{0}\\right),\\,-\\epsilon_{1} \\cos\\left(a \\kappa_{1}\\right),\\,0,\\,0,\\,\\epsilon_{0} \\sin\\left(a \\kappa_{0}\\right),\\,-\\epsilon_{1} \\sin\\left(a \\kappa_{1}\\right),\\,0,\\,0\\right)$$"
      ],
      "text/plain": [
       "<IPython.core.display.Math object>"
      ]
     },
     "metadata": {},
     "output_type": "display_data"
    },
    {
     "name": "stdout",
     "output_type": "stream",
     "text": [
      "row =\n"
     ]
    },
    {
     "data": {
      "text/latex": [
       "$$\\left(0,\\,0,\\,0,\\,0,\\,1,\\,0,\\,0,\\,0\\right)$$"
      ],
      "text/plain": [
       "<IPython.core.display.Math object>"
      ]
     },
     "metadata": {},
     "output_type": "display_data"
    },
    {
     "name": "stdout",
     "output_type": "stream",
     "text": [
      "row =\n"
     ]
    },
    {
     "data": {
      "text/latex": [
       "$$\\left(1,\\,0,\\,0,\\,0,\\,0,\\,0,\\,-\\frac{i \\, k}{\\kappa_{0}},\\,0\\right)$$"
      ],
      "text/plain": [
       "<IPython.core.display.Math object>"
      ]
     },
     "metadata": {},
     "output_type": "display_data"
    },
    {
     "name": "stdout",
     "output_type": "stream",
     "text": [
      "row =\n"
     ]
    },
    {
     "data": {
      "text/latex": [
       "$$\\left(0,\\,0,\\,0,\\,0,\\,0,\\,1,\\,0,\\,\\frac{2 i \\, k \\cos\\left(a \\kappa_{1}\\right) \\sin\\left(a \\kappa_{1}\\right)}{2 \\, \\kappa_{1} \\sin\\left(a \\kappa_{1}\\right)^{2} - \\kappa_{1}}\\right)$$"
      ],
      "text/plain": [
       "<IPython.core.display.Math object>"
      ]
     },
     "metadata": {},
     "output_type": "display_data"
    },
    {
     "name": "stdout",
     "output_type": "stream",
     "text": [
      "row =\n"
     ]
    },
    {
     "data": {
      "text/latex": [
       "$$\\left(0,\\,1,\\,0,\\,0,\\,0,\\,0,\\,0,\\,-\\frac{i \\, k}{\\kappa_{1}}\\right)$$"
      ],
      "text/plain": [
       "<IPython.core.display.Math object>"
      ]
     },
     "metadata": {},
     "output_type": "display_data"
    },
    {
     "name": "stdout",
     "output_type": "stream",
     "text": [
      "row =\n"
     ]
    },
    {
     "data": {
      "text/latex": [
       "$$\\left(0,\\,0,\\,1,\\,0,\\,0,\\,0,\\,0,\\,0\\right)$$"
      ],
      "text/plain": [
       "<IPython.core.display.Math object>"
      ]
     },
     "metadata": {},
     "output_type": "display_data"
    },
    {
     "name": "stdout",
     "output_type": "stream",
     "text": [
      "row =\n"
     ]
    },
    {
     "data": {
      "text/latex": [
       "$$\\left(0,\\,0,\\,0,\\,\\cos\\left(2 \\, a \\kappa_{1}\\right),\\,0,\\,0,\\,0,\\,\\sin\\left(2 \\, a \\kappa_{1}\\right)\\right)$$"
      ],
      "text/plain": [
       "<IPython.core.display.Math object>"
      ]
     },
     "metadata": {},
     "output_type": "display_data"
    },
    {
     "name": "stdout",
     "output_type": "stream",
     "text": [
      "M_rows[ 0 ] =\n"
     ]
    },
    {
     "data": {
      "text/latex": [
       "$$\\left(0,\\,0,\\,\\cos\\left(a \\kappa_{0}\\right),\\,-\\cos\\left(a \\kappa_{1}\\right),\\,0,\\,0,\\,\\sin\\left(a \\kappa_{0}\\right),\\,-\\sin\\left(a \\kappa_{1}\\right)\\right)$$"
      ],
      "text/plain": [
       "<IPython.core.display.Math object>"
      ]
     },
     "metadata": {},
     "output_type": "display_data"
    },
    {
     "name": "stdout",
     "output_type": "stream",
     "text": [
      "M_rows[ 1 ] =\n"
     ]
    },
    {
     "data": {
      "text/latex": [
       "$$\\left(\\epsilon_{0} \\cos\\left(a \\kappa_{0}\\right),\\,-\\epsilon_{1} \\cos\\left(a \\kappa_{1}\\right),\\,0,\\,0,\\,\\epsilon_{0} \\sin\\left(a \\kappa_{0}\\right),\\,-\\epsilon_{1} \\sin\\left(a \\kappa_{1}\\right),\\,0,\\,0\\right)$$"
      ],
      "text/plain": [
       "<IPython.core.display.Math object>"
      ]
     },
     "metadata": {},
     "output_type": "display_data"
    },
    {
     "name": "stdout",
     "output_type": "stream",
     "text": [
      "M_rows[ 2 ] =\n"
     ]
    },
    {
     "data": {
      "text/latex": [
       "$$\\left(0,\\,0,\\,0,\\,0,\\,1,\\,0,\\,0,\\,0\\right)$$"
      ],
      "text/plain": [
       "<IPython.core.display.Math object>"
      ]
     },
     "metadata": {},
     "output_type": "display_data"
    },
    {
     "name": "stdout",
     "output_type": "stream",
     "text": [
      "M_rows[ 3 ] =\n"
     ]
    },
    {
     "data": {
      "text/latex": [
       "$$\\left(1,\\,0,\\,0,\\,0,\\,0,\\,0,\\,-\\frac{i \\, k}{\\kappa_{0}},\\,0\\right)$$"
      ],
      "text/plain": [
       "<IPython.core.display.Math object>"
      ]
     },
     "metadata": {},
     "output_type": "display_data"
    },
    {
     "name": "stdout",
     "output_type": "stream",
     "text": [
      "M_rows[ 4 ] =\n"
     ]
    },
    {
     "data": {
      "text/latex": [
       "$$\\left(0,\\,0,\\,0,\\,0,\\,0,\\,1,\\,0,\\,\\frac{2 i \\, k \\cos\\left(a \\kappa_{1}\\right) \\sin\\left(a \\kappa_{1}\\right)}{2 \\, \\kappa_{1} \\sin\\left(a \\kappa_{1}\\right)^{2} - \\kappa_{1}}\\right)$$"
      ],
      "text/plain": [
       "<IPython.core.display.Math object>"
      ]
     },
     "metadata": {},
     "output_type": "display_data"
    },
    {
     "name": "stdout",
     "output_type": "stream",
     "text": [
      "M_rows[ 5 ] =\n"
     ]
    },
    {
     "data": {
      "text/latex": [
       "$$\\left(0,\\,1,\\,0,\\,0,\\,0,\\,0,\\,0,\\,-\\frac{i \\, k}{\\kappa_{1}}\\right)$$"
      ],
      "text/plain": [
       "<IPython.core.display.Math object>"
      ]
     },
     "metadata": {},
     "output_type": "display_data"
    },
    {
     "name": "stdout",
     "output_type": "stream",
     "text": [
      "M_rows[ 6 ] =\n"
     ]
    },
    {
     "data": {
      "text/latex": [
       "$$\\left(0,\\,0,\\,1,\\,0,\\,0,\\,0,\\,0,\\,0\\right)$$"
      ],
      "text/plain": [
       "<IPython.core.display.Math object>"
      ]
     },
     "metadata": {},
     "output_type": "display_data"
    },
    {
     "name": "stdout",
     "output_type": "stream",
     "text": [
      "M_rows[ 7 ] =\n"
     ]
    },
    {
     "data": {
      "text/latex": [
       "$$\\left(0,\\,0,\\,0,\\,\\cos\\left(2 \\, a \\kappa_{1}\\right),\\,0,\\,0,\\,0,\\,\\sin\\left(2 \\, a \\kappa_{1}\\right)\\right)$$"
      ],
      "text/plain": [
       "<IPython.core.display.Math object>"
      ]
     },
     "metadata": {},
     "output_type": "display_data"
    },
    {
     "name": "stdout",
     "output_type": "stream",
     "text": [
      "\n",
      "reduced_M.det() =\n"
     ]
    },
    {
     "data": {
      "text/latex": [
       "$$-\\frac{2 i \\, \\epsilon_{1} k \\cos\\left(2 \\, a \\kappa_{1}\\right) \\cos\\left(a \\kappa_{1}\\right) \\sin\\left(a \\kappa_{0}\\right) \\sin\\left(a \\kappa_{1}\\right)^{2}}{2 \\, \\kappa_{1} \\sin\\left(a \\kappa_{1}\\right)^{2} - \\kappa_{1}} + \\frac{i \\, \\epsilon_{1} k \\cos\\left(2 \\, a \\kappa_{1}\\right) \\cos\\left(a \\kappa_{1}\\right) \\sin\\left(a \\kappa_{0}\\right)}{\\kappa_{1}} + \\frac{i \\, \\epsilon_{0} k \\cos\\left(a \\kappa_{0}\\right) \\cos\\left(a \\kappa_{1}\\right) \\sin\\left(2 \\, a \\kappa_{1}\\right)}{\\kappa_{0}} - \\frac{i \\, \\epsilon_{0} k \\cos\\left(a \\kappa_{0}\\right) \\cos\\left(2 \\, a \\kappa_{1}\\right) \\sin\\left(a \\kappa_{1}\\right)}{\\kappa_{0}}$$"
      ],
      "text/plain": [
       "<IPython.core.display.Math object>"
      ]
     },
     "metadata": {},
     "output_type": "display_data"
    }
   ],
   "source": [
    "reduced_M = reduceDependedRows(M)"
   ]
  },
  {
   "cell_type": "code",
   "execution_count": 34,
   "metadata": {
    "scrolled": true
   },
   "outputs": [
    {
     "data": {
      "text/latex": [
       "$$\\left(\\begin{array}{rrrrrrrr}\n",
       "0 & 0 & \\cos\\left(a \\kappa_{0}\\right) & -\\cos\\left(a \\kappa_{1}\\right) & 0 & 0 & \\sin\\left(a \\kappa_{0}\\right) & -\\sin\\left(a \\kappa_{1}\\right) \\\\\n",
       "\\epsilon_{0} \\cos\\left(a \\kappa_{0}\\right) & -\\epsilon_{1} \\cos\\left(a \\kappa_{1}\\right) & 0 & 0 & \\epsilon_{0} \\sin\\left(a \\kappa_{0}\\right) & -\\epsilon_{1} \\sin\\left(a \\kappa_{1}\\right) & 0 & 0 \\\\\n",
       "0 & 0 & 0 & 0 & 1 & 0 & 0 & 0 \\\\\n",
       "1 & 0 & 0 & 0 & 0 & 0 & -\\frac{i \\, k}{\\kappa_{0}} & 0 \\\\\n",
       "0 & 0 & 0 & 0 & 0 & 1 & 0 & \\frac{2 i \\, k \\cos\\left(a \\kappa_{1}\\right) \\sin\\left(a \\kappa_{1}\\right)}{2 \\, \\kappa_{1} \\sin\\left(a \\kappa_{1}\\right)^{2} - \\kappa_{1}} \\\\\n",
       "0 & 1 & 0 & 0 & 0 & 0 & 0 & -\\frac{i \\, k}{\\kappa_{1}} \\\\\n",
       "0 & 0 & 1 & 0 & 0 & 0 & 0 & 0 \\\\\n",
       "0 & 0 & 0 & \\cos\\left(2 \\, a \\kappa_{1}\\right) & 0 & 0 & 0 & \\sin\\left(2 \\, a \\kappa_{1}\\right)\n",
       "\\end{array}\\right)$$"
      ],
      "text/plain": [
       "<IPython.core.display.Math object>"
      ]
     },
     "metadata": {},
     "output_type": "display_data"
    }
   ],
   "source": [
    "display(Math(latex(reduced_M)))"
   ]
  },
  {
   "cell_type": "code",
   "execution_count": 35,
   "metadata": {},
   "outputs": [
    {
     "data": {
      "text/latex": [
       "$$\\left[\\mathit{Ax}_{0}, \\mathit{Ax}_{1}, \\mathit{Az}_{0}, \\mathit{Az}_{1}, \\mathit{Bx}_{0}, \\mathit{Bx}_{1}, \\mathit{Bz}_{0}, \\mathit{Bz}_{1}\\right]$$"
      ],
      "text/plain": [
       "<IPython.core.display.Math object>"
      ]
     },
     "metadata": {},
     "output_type": "display_data"
    }
   ],
   "source": [
    "display(Math(latex(vars)))"
   ]
  },
  {
   "cell_type": "code",
   "execution_count": 36,
   "metadata": {},
   "outputs": [
    {
     "name": "stdout",
     "output_type": "stream",
     "text": [
      "eqns =\n"
     ]
    },
    {
     "data": {
      "text/latex": [
       "$$\\left[\\mathit{Az}_{0} \\cos\\left(a \\kappa_{0}\\right) - \\mathit{Az}_{1} \\cos\\left(a \\kappa_{1}\\right) + \\mathit{Bz}_{0} \\sin\\left(a \\kappa_{0}\\right) - \\mathit{Bz}_{1} \\sin\\left(a \\kappa_{1}\\right) = 0, \\mathit{Ax}_{0} \\epsilon_{0} \\cos\\left(a \\kappa_{0}\\right) - \\mathit{Ax}_{1} \\epsilon_{1} \\cos\\left(a \\kappa_{1}\\right) + \\mathit{Bx}_{0} \\epsilon_{0} \\sin\\left(a \\kappa_{0}\\right) - \\mathit{Bx}_{1} \\epsilon_{1} \\sin\\left(a \\kappa_{1}\\right) = 0, \\mathit{Bx}_{0} = 0, \\mathit{Ax}_{0} - \\frac{i \\, \\mathit{Bz}_{0} k}{\\kappa_{0}} = 0, \\frac{2 i \\, \\mathit{Bz}_{1} k \\cos\\left(a \\kappa_{1}\\right) \\sin\\left(a \\kappa_{1}\\right)}{2 \\, \\kappa_{1} \\sin\\left(a \\kappa_{1}\\right)^{2} - \\kappa_{1}} + \\mathit{Bx}_{1} = 0, \\mathit{Ax}_{1} - \\frac{i \\, \\mathit{Bz}_{1} k}{\\kappa_{1}} = 0, \\mathit{Az}_{0} = 0, \\mathit{Az}_{1} \\cos\\left(2 \\, a \\kappa_{1}\\right) + \\mathit{Bz}_{1} \\sin\\left(2 \\, a \\kappa_{1}\\right) = 0\\right]$$"
      ],
      "text/plain": [
       "<IPython.core.display.Math object>"
      ]
     },
     "metadata": {},
     "output_type": "display_data"
    }
   ],
   "source": [
    "eqsys_simplified = make_eqsys_from_reduced_M(reduced_M, vars)"
   ]
  },
  {
   "cell_type": "code",
   "execution_count": 37,
   "metadata": {},
   "outputs": [
    {
     "data": {
      "text/latex": [
       "$$-\\frac{2 i \\, \\epsilon_{1} k \\cos\\left(2 \\, a \\kappa_{1}\\right) \\cos\\left(a \\kappa_{1}\\right) \\sin\\left(a \\kappa_{0}\\right) \\sin\\left(a \\kappa_{1}\\right)^{2}}{2 \\, \\kappa_{1} \\sin\\left(a \\kappa_{1}\\right)^{2} - \\kappa_{1}} + \\frac{i \\, \\epsilon_{1} k \\cos\\left(2 \\, a \\kappa_{1}\\right) \\cos\\left(a \\kappa_{1}\\right) \\sin\\left(a \\kappa_{0}\\right)}{\\kappa_{1}} + \\frac{i \\, \\epsilon_{0} k \\cos\\left(a \\kappa_{0}\\right) \\cos\\left(a \\kappa_{1}\\right) \\sin\\left(2 \\, a \\kappa_{1}\\right)}{\\kappa_{0}} - \\frac{i \\, \\epsilon_{0} k \\cos\\left(a \\kappa_{0}\\right) \\cos\\left(2 \\, a \\kappa_{1}\\right) \\sin\\left(a \\kappa_{1}\\right)}{\\kappa_{0}}$$"
      ],
      "text/plain": [
       "<IPython.core.display.Math object>"
      ]
     },
     "metadata": {},
     "output_type": "display_data"
    }
   ],
   "source": [
    "reduced_M_det = reduced_M.det()\n",
    "display(Math(latex(reduced_M_det)))"
   ]
  },
  {
   "cell_type": "code",
   "execution_count": 38,
   "metadata": {},
   "outputs": [
    {
     "data": {
      "text/latex": [
       "$$\\frac{i \\, \\epsilon_{1} k \\kappa_{0} \\cos\\left(a \\kappa_{1}\\right) \\sin\\left(a \\kappa_{0}\\right) + i \\, \\epsilon_{0} k \\kappa_{1} \\cos\\left(a \\kappa_{0}\\right) \\sin\\left(a \\kappa_{1}\\right)}{\\kappa_{0} \\kappa_{1}} = 0$$"
      ],
      "text/plain": [
       "<IPython.core.display.Math object>"
      ]
     },
     "metadata": {},
     "output_type": "display_data"
    }
   ],
   "source": [
    "disp_eq = (reduced_M_det == 0).full_simplify()\n",
    "display(Math(latex(disp_eq)))"
   ]
  },
  {
   "cell_type": "code",
   "execution_count": 39,
   "metadata": {},
   "outputs": [
    {
     "data": {
      "text/latex": [
       "$$\\frac{\\epsilon_{1} \\kappa_{0} \\cos\\left(a \\kappa_{1}\\right) \\sin\\left(a \\kappa_{0}\\right) + \\epsilon_{0} \\kappa_{1} \\cos\\left(a \\kappa_{0}\\right) \\sin\\left(a \\kappa_{1}\\right)}{\\kappa_{0} \\kappa_{1}} = 0$$"
      ],
      "text/plain": [
       "<IPython.core.display.Math object>"
      ]
     },
     "metadata": {},
     "output_type": "display_data"
    }
   ],
   "source": [
    "disp_eq = (disp_eq / I / k).full_simplify()\n",
    "display(Math(latex(disp_eq)))"
   ]
  },
  {
   "cell_type": "code",
   "execution_count": 40,
   "metadata": {},
   "outputs": [
    {
     "data": {
      "text/latex": [
       "$$\\frac{\\kappa_{0} \\sin\\left(a \\kappa_{0}\\right)}{\\epsilon_{0} \\cos\\left(a \\kappa_{0}\\right)} + \\frac{\\kappa_{1} \\sin\\left(a \\kappa_{1}\\right)}{\\epsilon_{1} \\cos\\left(a \\kappa_{1}\\right)} = 0$$"
      ],
      "text/plain": [
       "<IPython.core.display.Math object>"
      ]
     },
     "metadata": {},
     "output_type": "display_data"
    }
   ],
   "source": [
    "for i in range(n_layers):\n",
    "    disp_eq = (disp_eq*kappa[i]/cos(a*kappa[i])/epsilon[i]).full_simplify().expand()\n",
    "display(Math(latex(disp_eq)))"
   ]
  },
  {
   "cell_type": "code",
   "execution_count": 41,
   "metadata": {},
   "outputs": [
    {
     "data": {
      "text/latex": [
       "$$\\left[\\frac{\\omega^{2}}{c^{2}} = \\frac{\\kappa_{0}^{2} - \\kappa_{1}^{2}}{\\epsilon_{0} \\mu_{0} - \\epsilon_{1} \\mu_{1}}\\right]$$"
      ],
      "text/plain": [
       "<IPython.core.display.Math object>"
      ]
     },
     "metadata": {},
     "output_type": "display_data"
    }
   ],
   "source": [
    "# исходя из вида дифференциальных уравнений для диэлектрика\n",
    "# записываем соотнощения для волнового вектора в виде уравнений\n",
    "eq_kappa_kappa = []\n",
    "eq_kappa2_kappa2 = []\n",
    "\n",
    "for i in range(n_layers - 1):\n",
    "    # eq_kappa_s = eq_kappa.subs(solve(eq_s, k^2)).full_simplify()\n",
    "    eq_kappa_kappa += [eq_kappa[i].subs(solve(eq_kappa[i+1], k^2)).full_simplify()]\n",
    "    eq_kappa2_kappa2 += [(solve(eq_kappa_kappa[i], omega^2)[0]/c^2).full_simplify()]\n",
    "\n",
    "# display(Math(latex(eq_kappa_kappa)))\n",
    "display(Math(latex(eq_kappa2_kappa2)))"
   ]
  },
  {
   "cell_type": "code",
   "execution_count": 42,
   "metadata": {},
   "outputs": [
    {
     "name": "stdout",
     "output_type": "stream",
     "text": [
      "eqs_kappa [ 0 ] =\n"
     ]
    },
    {
     "data": {
      "text/latex": [
       "$$\\frac{\\kappa_{0} \\sin\\left(a \\kappa_{0}\\right)}{\\epsilon_{0} \\cos\\left(a \\kappa_{0}\\right)} + \\frac{\\sqrt{c^{2} \\kappa_{0}^{2} - \\epsilon_{0} \\mu_{0} \\omega^{2} + \\epsilon_{1} \\mu_{1} \\omega^{2}} \\sin\\left(\\frac{\\sqrt{c^{2} \\kappa_{0}^{2} - \\epsilon_{0} \\mu_{0} \\omega^{2} + \\epsilon_{1} \\mu_{1} \\omega^{2}} a}{c}\\right)}{c \\epsilon_{1} \\cos\\left(\\frac{\\sqrt{c^{2} \\kappa_{0}^{2} - \\epsilon_{0} \\mu_{0} \\omega^{2} + \\epsilon_{1} \\mu_{1} \\omega^{2}} a}{c}\\right)} = 0$$"
      ],
      "text/plain": [
       "<IPython.core.display.Math object>"
      ]
     },
     "metadata": {},
     "output_type": "display_data"
    },
    {
     "name": "stdout",
     "output_type": "stream",
     "text": [
      "eqs_kappa [ 1 ] =\n"
     ]
    },
    {
     "data": {
      "text/latex": [
       "$$\\frac{\\kappa_{1} \\sin\\left(a \\kappa_{1}\\right)}{\\epsilon_{1} \\cos\\left(a \\kappa_{1}\\right)} + \\frac{\\sqrt{c^{2} \\kappa_{1}^{2} + \\epsilon_{0} \\mu_{0} \\omega^{2} - \\epsilon_{1} \\mu_{1} \\omega^{2}} \\sin\\left(\\frac{\\sqrt{c^{2} \\kappa_{1}^{2} + \\epsilon_{0} \\mu_{0} \\omega^{2} - \\epsilon_{1} \\mu_{1} \\omega^{2}} a}{c}\\right)}{c \\epsilon_{0} \\cos\\left(\\frac{\\sqrt{c^{2} \\kappa_{1}^{2} + \\epsilon_{0} \\mu_{0} \\omega^{2} - \\epsilon_{1} \\mu_{1} \\omega^{2}} a}{c}\\right)} = 0$$"
      ],
      "text/plain": [
       "<IPython.core.display.Math object>"
      ]
     },
     "metadata": {},
     "output_type": "display_data"
    }
   ],
   "source": [
    "eqs_kappa = []\n",
    "for i in range(n_layers):\n",
    "    eqs_kappa += [disp_eq]\n",
    "    for j in range(0, i):\n",
    "        eqs_kappa[i] = eqs_kappa[i].subs(solve(eq_kappa2_kappa2[j], kappa[j]))\n",
    "\n",
    "    for j in range(n_layers-1, i,-1):\n",
    "        eqs_kappa[i] = eqs_kappa[i].subs(solve(eq_kappa2_kappa2[j-1], kappa[j]))\n",
    "        \n",
    "    print (\"eqs_kappa [\", i, \"] =\")\n",
    "    display(Math(latex(eqs_kappa[i])))"
   ]
  },
  {
   "cell_type": "code",
   "execution_count": 43,
   "metadata": {},
   "outputs": [
    {
     "data": {
      "text/latex": [
       "$$\\left[\\kappa_{0} = \\frac{\\pi}{2 \\, a}, \\kappa_{0} = \\frac{\\sqrt{4 \\, a^{2} \\epsilon_{0} \\mu_{0} \\omega^{2} - 4 \\, a^{2} \\epsilon_{1} \\mu_{1} \\omega^{2} + \\pi^{2} c^{2}}}{2 \\, a c}\\right]$$"
      ],
      "text/plain": [
       "<IPython.core.display.Math object>"
      ]
     },
     "metadata": {},
     "output_type": "display_data"
    },
    {
     "data": {
      "text/latex": [
       "$$\\left[\\kappa_{1} = \\frac{\\pi}{2 \\, a}, \\kappa_{1} = \\frac{\\sqrt{-4 \\, a^{2} \\epsilon_{0} \\mu_{0} \\omega^{2} + 4 \\, a^{2} \\epsilon_{1} \\mu_{1} \\omega^{2} + \\pi^{2} c^{2}}}{2 \\, a c}\\right]$$"
      ],
      "text/plain": [
       "<IPython.core.display.Math object>"
      ]
     },
     "metadata": {},
     "output_type": "display_data"
    },
    {
     "data": {
      "text/latex": [
       "$$\\left[\\left[\\kappa_{0} = \\frac{\\pi}{2 \\, a}, \\kappa_{0} = \\frac{\\sqrt{4 \\, a^{2} \\epsilon_{0} \\mu_{0} \\omega^{2} - 4 \\, a^{2} \\epsilon_{1} \\mu_{1} \\omega^{2} + \\pi^{2} c^{2}}}{2 \\, a c}\\right], \\left[\\kappa_{1} = \\frac{\\pi}{2 \\, a}, \\kappa_{1} = \\frac{\\sqrt{-4 \\, a^{2} \\epsilon_{0} \\mu_{0} \\omega^{2} + 4 \\, a^{2} \\epsilon_{1} \\mu_{1} \\omega^{2} + \\pi^{2} c^{2}}}{2 \\, a c}\\right]\\right]$$"
      ],
      "text/plain": [
       "<IPython.core.display.Math object>"
      ]
     },
     "metadata": {},
     "output_type": "display_data"
    }
   ],
   "source": [
    "kappa_den_zeros = []\n",
    "for i in range(n_layers):\n",
    "    kappa_den_zeros += [[]]\n",
    "    \n",
    "for i in range(n_layers):\n",
    "    terms = eqs_kappa[i].lhs().expand().operands()\n",
    "    \n",
    "    kappa_i_den_zeros = []\n",
    "    for term in terms:\n",
    "        kappa_i_den_zeros += solve(term.denominator(), kappa[i])\n",
    "       \n",
    "    kappa_den_zeros[i] += kappa_i_den_zeros\n",
    "        \n",
    "    display(Math(latex(kappa_i_den_zeros)))\n",
    "    \n",
    "display(Math(latex(kappa_den_zeros)))"
   ]
  },
  {
   "cell_type": "code",
   "execution_count": 44,
   "metadata": {},
   "outputs": [
    {
     "name": "stdout",
     "output_type": "stream",
     "text": [
      "[omega == 6.28318530717959e12, c == 29979245800, mu_0 == 1, epsilon_0 == 4.00000000000000, mu_1 == 1, epsilon_1 == 4.50000000000000]\n"
     ]
    }
   ],
   "source": [
    "# sgs\n",
    "A = 0.01\n",
    "digit_values = [omega == 2*pi.n()*10^12, c == 299792458 * 100]\n",
    "for i in range(n_layers):\n",
    "    digit_values += [mu[i] == 1]\n",
    "    digit_values += [epsilon[i] == 4 + 0.5*(i)]\n",
    "print (digit_values)"
   ]
  },
  {
   "cell_type": "code",
   "execution_count": 45,
   "metadata": {},
   "outputs": [
    {
     "name": "stdout",
     "output_type": "stream",
     "text": [
      "eqs_kappa_d = 0.250000000000000*kappa_0*sin(0.0100000000000000*kappa_0)/cos(0.0100000000000000*kappa_0) + (7.41253544884782e-12)*sqrt(898755178736817640000*kappa_0^2 + 1.97392088021787e25)*sin((3.33564095198152e-13)*sqrt(898755178736817640000*kappa_0^2 + 1.97392088021787e25))/cos((3.33564095198152e-13)*sqrt(898755178736817640000*kappa_0^2 + 1.97392088021787e25)) == 0\n",
      "\n",
      "eqs_kappa_d = 0.222222222222222*kappa_1*sin(0.0100000000000000*kappa_1)/cos(0.0100000000000000*kappa_1) + (8.33910237995380e-12)*sqrt(898755178736817640000*kappa_1^2 - 1.97392088021787e25)*sin((3.33564095198152e-13)*sqrt(898755178736817640000*kappa_1^2 - 1.97392088021787e25))/cos((3.33564095198152e-13)*sqrt(898755178736817640000*kappa_1^2 - 1.97392088021787e25)) == 0\n",
      "\n"
     ]
    }
   ],
   "source": [
    "eqs_kappa_d = []\n",
    "for i in range(n_layers):\n",
    "    eqs_kappa_d += [eqs_kappa[i].subs(digit_values).subs(a == A)]\n",
    "    print(\"eqs_kappa_d =\", eqs_kappa_d[i])\n",
    "    print(\"\")"
   ]
  },
  {
   "cell_type": "code",
   "execution_count": 46,
   "metadata": {},
   "outputs": [
    {
     "name": "stdout",
     "output_type": "stream",
     "text": [
      "[[157.079632679490, 52.0689852265739], [157.079632679490, 215.955650037043]]\n",
      "[[52.0689852265739, 157.079632679490], [157.079632679490, 215.955650037043]]\n"
     ]
    }
   ],
   "source": [
    "kappa_den_zeros_d = []\n",
    "for i in range(n_layers):\n",
    "    kappa_den_zeros_d += [[]]\n",
    "    for kappa_den_zero in kappa_den_zeros[i]:\n",
    "        kappa_den_zero_d = kappa_den_zero.rhs().subs(digit_values).subs(a == A).n()\n",
    "        if kappa_den_zero_d.is_real() and kappa_den_zero_d > 0:\n",
    "            if not kappa_den_zero_d in kappa_den_zeros_d[i]:\n",
    "                kappa_den_zeros_d[i] += [kappa_den_zero_d]\n",
    "                \n",
    "print(kappa_den_zeros_d)\n",
    "\n",
    "for i in range(n_layers):\n",
    "    kappa_den_zeros_d[i] = sorted(kappa_den_zeros_d[i])\n",
    "\n",
    "print(kappa_den_zeros_d)"
   ]
  },
  {
   "cell_type": "code",
   "execution_count": 47,
   "metadata": {},
   "outputs": [
    {
     "name": "stdout",
     "output_type": "stream",
     "text": [
      "i = 0\n",
      "0.250000000000000*kappa_0*sin(0.0100000000000000*kappa_0)/cos(0.0100000000000000*kappa_0) + (7.41253544884782e-12)*sqrt(898755178736817640000*kappa_0^2 + 1.97392088021787e25)*sin((3.33564095198152e-13)*sqrt(898755178736817640000*kappa_0^2 + 1.97392088021787e25))/cos((3.33564095198152e-13)*sqrt(898755178736817640000*kappa_0^2 + 1.97392088021787e25))\n",
      "0.000000000000000 51.9689852265738\n"
     ]
    },
    {
     "data": {
      "image/png": "[encoded data removed]",
      "text/plain": [
       "Graphics object consisting of 1 graphics primitive"
      ]
     },
     "metadata": {},
     "output_type": "display_data"
    },
    {
     "name": "stdout",
     "output_type": "stream",
     "text": [
      "0.250000000000000*kappa_0*sin(0.0100000000000000*kappa_0)/cos(0.0100000000000000*kappa_0) + (7.41253544884782e-12)*sqrt(898755178736817640000*kappa_0^2 + 1.97392088021787e25)*sin((3.33564095198152e-13)*sqrt(898755178736817640000*kappa_0^2 + 1.97392088021787e25))/cos((3.33564095198152e-13)*sqrt(898755178736817640000*kappa_0^2 + 1.97392088021787e25))\n",
      "52.1689852265739 156.979632679490\n"
     ]
    },
    {
     "data": {
      "image/png": "[encoded data removed]",
      "text/plain": [
       "Graphics object consisting of 1 graphics primitive"
      ]
     },
     "metadata": {},
     "output_type": "display_data"
    },
    {
     "name": "stdout",
     "output_type": "stream",
     "text": [
      "0.250000000000000*kappa_0*sin(0.0100000000000000*kappa_0)/cos(0.0100000000000000*kappa_0) + (7.41253544884782e-12)*sqrt(898755178736817640000*kappa_0^2 + 1.97392088021787e25)*sin((3.33564095198152e-13)*sqrt(898755178736817640000*kappa_0^2 + 1.97392088021787e25))/cos((3.33564095198152e-13)*sqrt(898755178736817640000*kappa_0^2 + 1.97392088021787e25))\n",
      "157.179632679490 314.359265358979\n"
     ]
    },
    {
     "data": {
      "image/png": "[encoded data removed]",
      "text/plain": [
       "Graphics object consisting of 1 graphics primitive"
      ]
     },
     "metadata": {},
     "output_type": "display_data"
    },
    {
     "name": "stdout",
     "output_type": "stream",
     "text": [
      "i = 1\n",
      "0.222222222222222*kappa_1*sin(0.0100000000000000*kappa_1)/cos(0.0100000000000000*kappa_1) + (8.33910237995380e-12)*sqrt(898755178736817640000*kappa_1^2 - 1.97392088021787e25)*sin((3.33564095198152e-13)*sqrt(898755178736817640000*kappa_1^2 - 1.97392088021787e25))/cos((3.33564095198152e-13)*sqrt(898755178736817640000*kappa_1^2 - 1.97392088021787e25))\n",
      "0.000000000000000 156.979632679490\n"
     ]
    },
    {
     "data": {
      "image/png": "[encoded data removed]",
      "text/plain": [
       "Graphics object consisting of 1 graphics primitive"
      ]
     },
     "metadata": {},
     "output_type": "display_data"
    },
    {
     "name": "stdout",
     "output_type": "stream",
     "text": [
      "0.222222222222222*kappa_1*sin(0.0100000000000000*kappa_1)/cos(0.0100000000000000*kappa_1) + (8.33910237995380e-12)*sqrt(898755178736817640000*kappa_1^2 - 1.97392088021787e25)*sin((3.33564095198152e-13)*sqrt(898755178736817640000*kappa_1^2 - 1.97392088021787e25))/cos((3.33564095198152e-13)*sqrt(898755178736817640000*kappa_1^2 - 1.97392088021787e25))\n",
      "157.179632679490 215.855650037043\n"
     ]
    },
    {
     "data": {
      "image/png": "[encoded data removed]",
      "text/plain": [
       "Graphics object consisting of 1 graphics primitive"
      ]
     },
     "metadata": {},
     "output_type": "display_data"
    },
    {
     "name": "stdout",
     "output_type": "stream",
     "text": [
      "0.222222222222222*kappa_1*sin(0.0100000000000000*kappa_1)/cos(0.0100000000000000*kappa_1) + (8.33910237995380e-12)*sqrt(898755178736817640000*kappa_1^2 - 1.97392088021787e25)*sin((3.33564095198152e-13)*sqrt(898755178736817640000*kappa_1^2 - 1.97392088021787e25))/cos((3.33564095198152e-13)*sqrt(898755178736817640000*kappa_1^2 - 1.97392088021787e25))\n",
      "216.055650037043 432.111300074085\n"
     ]
    },
    {
     "data": {
      "image/png": "[encoded data removed]",
      "text/plain": [
       "Graphics object consisting of 1 graphics primitive"
      ]
     },
     "metadata": {},
     "output_type": "display_data"
    }
   ],
   "source": [
    "eps = 0.1\n",
    "for i in range(n_layers):\n",
    "    print (\"i =\", i)\n",
    "    ai = 0.0\n",
    "    for kappa_den_zero_d in kappa_den_zeros_d[i]:\n",
    "        bi = kappa_den_zero_d - eps\n",
    "        print(eqs_kappa_d[i].lhs())\n",
    "        print(ai, bi)\n",
    "        plot(eqs_kappa_d[i].lhs(), ai, bi).show()\n",
    "        ai = kappa_den_zero_d + eps\n",
    "    bi = ai * 2\n",
    "    print(eqs_kappa_d[i].lhs())\n",
    "    print(ai, bi)\n",
    "    plot(eqs_kappa_d[i].lhs(), ai, bi).show()"
   ]
  },
  {
   "cell_type": "code",
   "execution_count": 48,
   "metadata": {},
   "outputs": [
    {
     "name": "stdout",
     "output_type": "stream",
     "text": [
      "ai = 0.100000000000000 bi = 51.9689852265738\n",
      "eq_kappa_f(ai) = 369.851329497554 eq_kappa_f(bi) = 105380.102834185\n"
     ]
    },
    {
     "data": {
      "image/png": "[encoded data removed]",
      "text/plain": [
       "Graphics object consisting of 1 graphics primitive"
      ]
     },
     "metadata": {},
     "output_type": "display_data"
    },
    {
     "name": "stdout",
     "output_type": "stream",
     "text": [
      "f(a) and f(b) must have different signs\n",
      "ai = 52.1689852265739 bi = 156.979632679490\n",
      "eq_kappa_f(ai) = -105229.598093888 eq_kappa_f(bi) = 39172.9388390474\n"
     ]
    },
    {
     "data": {
      "image/png": "[encoded data removed]",
      "text/plain": [
       "Graphics object consisting of 1 graphics primitive"
      ]
     },
     "metadata": {},
     "output_type": "display_data"
    },
    {
     "name": "stdout",
     "output_type": "stream",
     "text": [
      "kappa_0 = 127.95562472612484\n",
      "ai = 157.179632679490 bi = 314.359265358979\n",
      "eq_kappa_f(ai) = -39366.6733542639 eq_kappa_f(bi) = 26.9404461634066\n"
     ]
    },
    {
     "data": {
      "image/png": "[encoded data removed]",
      "text/plain": [
       "Graphics object consisting of 1 graphics primitive"
      ]
     },
     "metadata": {},
     "output_type": "display_data"
    },
    {
     "name": "stdout",
     "output_type": "stream",
     "text": [
      "kappa_0 = 296.7400143992569\n",
      "\n",
      "ai = 0.100000000000000 bi = 156.979632679490\n",
      "eq_kappa_f(ai) = -33.4128090447072 eq_kappa_f(bi) = 34891.7210067469\n"
     ]
    },
    {
     "data": {
      "image/png": "[encoded data removed]",
      "text/plain": [
       "Graphics object consisting of 1 graphics primitive"
      ]
     },
     "metadata": {},
     "output_type": "display_data"
    },
    {
     "name": "stdout",
     "output_type": "stream",
     "text": [
      "kappa_1 = 89.14149433751464\n",
      "ai = 157.179632679490 bi = 215.855650037043\n",
      "eq_kappa_f(ai) = -34921.2349294116 eq_kappa_f(bi) = 28460.8496443907\n"
     ]
    },
    {
     "data": {
      "image/png": "[encoded data removed]",
      "text/plain": [
       "Graphics object consisting of 1 graphics primitive"
      ]
     },
     "metadata": {},
     "output_type": "display_data"
    },
    {
     "name": "stdout",
     "output_type": "stream",
     "text": [
      "kappa_1 = 195.79446794853806\n",
      "ai = 216.055650037043 bi = 432.111300074085\n",
      "eq_kappa_f(ai) = -28666.3576637079 eq_kappa_f(bi) = 365.319182164439\n"
     ]
    },
    {
     "data": {
      "image/png": "[encoded data removed]",
      "text/plain": [
       "Graphics object consisting of 1 graphics primitive"
      ]
     },
     "metadata": {},
     "output_type": "display_data"
    },
    {
     "name": "stdout",
     "output_type": "stream",
     "text": [
      "kappa_1 = 331.6888118792514\n",
      "\n"
     ]
    }
   ],
   "source": [
    "kappa_d = []\n",
    "for i in range(n_layers):\n",
    "    kappa_d += [[]]\n",
    "\n",
    "eps = 0.1\n",
    "from scipy.optimize import fsolve, root, brentq\n",
    "for i in range(n_layers):\n",
    "    ai = 0.0 + eps\n",
    "    for kappa_den_zero_d in kappa_den_zeros_d[i]:\n",
    "        bi = kappa_den_zero_d - eps\n",
    "        exec(preparse( \"eq_kappa_f = lambda x :\" + str(eqs_kappa_d[i].lhs().subs(kappa[i] == x))))\n",
    "        print (\"ai =\", ai, \"bi =\", bi)\n",
    "        print (\"eq_kappa_f(ai) =\", eq_kappa_f(ai), \"eq_kappa_f(bi) =\", eq_kappa_f(bi))\n",
    "        plot(eq_kappa_f, ai, bi).show()\n",
    "        try:\n",
    "            kappa_root = brentq(eq_kappa_f, ai, bi)\n",
    "            kappa_d[i] += [kappa_root]\n",
    "            print (kappa[i], \"=\", kappa_root)\n",
    "        except Exception as ex:\n",
    "            print (ex)\n",
    "        ai = kappa_den_zero_d + eps\n",
    "    bi = ai * 2\n",
    "\n",
    "    exec(preparse( \"eq_kappa_f = lambda x :\" + str(eqs_kappa_d[i].lhs().subs(kappa[i] == x))))\n",
    "    print (\"ai =\", ai, \"bi =\", bi)\n",
    "    print (\"eq_kappa_f(ai) =\", eq_kappa_f(ai), \"eq_kappa_f(bi) =\", eq_kappa_f(bi))\n",
    "    plot(eq_kappa_f, ai, bi).show()\n",
    "    try:\n",
    "        kappa_root = brentq(eq_kappa_f, ai, bi)\n",
    "        kappa_d[i] += [kappa_root]\n",
    "        print (kappa[i], \"=\", kappa_root)\n",
    "    except Exception as ex:\n",
    "        print (ex)\n",
    "\n",
    "    print(\"\") "
   ]
  },
  {
   "cell_type": "code",
   "execution_count": 49,
   "metadata": {},
   "outputs": [
    {
     "name": "stdout",
     "output_type": "stream",
     "text": [
      "[[127.95562472612484, 296.7400143992569], [89.14149433751464, 195.79446794853806, 331.6888118792514]]\n"
     ]
    }
   ],
   "source": [
    "print (kappa_d)"
   ]
  },
  {
   "cell_type": "code",
   "execution_count": 50,
   "metadata": {},
   "outputs": [
    {
     "name": "stdout",
     "output_type": "stream",
     "text": [
      "digit_kappa_i [ 0 ] = [kappa_0 == 127.95562472612484]\n",
      "j 1\n",
      "[\n",
      "kappa_1 == sqrt(c^2*kappa_0^2 - epsilon_0*mu_0*omega^2 + epsilon_1*mu_1*omega^2)/c\n",
      "]\n",
      "digit_kappa_i_j [ 0 , 1 ] = kappa_1 == 195.794467948538\n",
      "digit_kappa_i_j [ 0 , 1 ].is_real() = True\n",
      "digit_kappa_i [ 0 ] = [kappa_0 == 127.95562472612484, kappa_1 == 195.794467948538]\n",
      "\n",
      "digit_kappa_i [ 0 ] = [kappa_0 == 296.7400143992569]\n",
      "j 1\n",
      "[\n",
      "kappa_1 == sqrt(c^2*kappa_0^2 - epsilon_0*mu_0*omega^2 + epsilon_1*mu_1*omega^2)/c\n",
      "]\n",
      "digit_kappa_i_j [ 0 , 1 ] = kappa_1 == 331.688811879251\n",
      "digit_kappa_i_j [ 0 , 1 ].is_real() = True\n",
      "digit_kappa_i [ 0 ] = [kappa_0 == 296.7400143992569, kappa_1 == 331.688811879251]\n",
      "\n",
      "digit_kappa_i [ 1 ] = [kappa_1 == 89.14149433751464]\n",
      "j 0\n",
      "[\n",
      "kappa_0 == sqrt(c^2*kappa_1^2 + epsilon_0*mu_0*omega^2 - epsilon_1*mu_1*omega^2)/c\n",
      "]\n",
      "digit_kappa_i_j [ 1 , 0 ] = kappa_0 == (7.24940887498388e-15 + 118.391831506540*I)\n",
      "digit_kappa_i_j [ 1 , 0 ].is_real() = False\n",
      "digit_kappa_i [ 1 ] = [kappa_1 == 89.14149433751464]\n",
      "\n",
      "digit_kappa_i [ 1 ] = [kappa_1 == 195.79446794853806]\n",
      "j 0\n",
      "[\n",
      "kappa_0 == sqrt(c^2*kappa_1^2 + epsilon_0*mu_0*omega^2 - epsilon_1*mu_1*omega^2)/c\n",
      "]\n",
      "digit_kappa_i_j [ 1 , 0 ] = kappa_0 == 127.955624726125\n",
      "digit_kappa_i_j [ 1 , 0 ].is_real() = True\n",
      "digit_kappa_i [ 1 ] = [kappa_1 == 195.79446794853806, kappa_0 == 127.955624726125]\n",
      "\n",
      "digit_kappa_i [ 1 ] = [kappa_1 == 331.6888118792514]\n",
      "j 0\n",
      "[\n",
      "kappa_0 == sqrt(c^2*kappa_1^2 + epsilon_0*mu_0*omega^2 - epsilon_1*mu_1*omega^2)/c\n",
      "]\n",
      "digit_kappa_i_j [ 1 , 0 ] = kappa_0 == 296.740014399257\n",
      "digit_kappa_i_j [ 1 , 0 ].is_real() = True\n",
      "digit_kappa_i [ 1 ] = [kappa_1 == 331.6888118792514, kappa_0 == 296.740014399257]\n",
      "\n"
     ]
    }
   ],
   "source": [
    "digit_kappas = []\n",
    "for i in range(n_layers):\n",
    "    for kk in range(len(kappa_d[i])):\n",
    "        digit_kappa_i = [kappa[i] == kappa_d[i][kk]]\n",
    "        print(\"digit_kappa_i [\", i, \"] =\", digit_kappa_i)\n",
    "        \n",
    "        # for j in range(0, i):\n",
    "        for j in range(i-1, -1, -1):\n",
    "            print (\"j\", j)\n",
    "            print(solve(eq_kappa2_kappa2[j], kappa[j]))\n",
    "            digit_kappa_i_j = solve(eq_kappa2_kappa2[j], kappa[j])[0].subs(digit_kappa_i).subs(digit_values)\n",
    "            print(\"digit_kappa_i_j [\", i, \",\", j, \"] =\", digit_kappa_i_j)\n",
    "            print(\"digit_kappa_i_j [\", i, \",\", j, \"].is_real() =\", digit_kappa_i_j.rhs().is_real())\n",
    "            if digit_kappa_i_j.rhs().is_real():\n",
    "                digit_kappa_i += [digit_kappa_i_j]\n",
    "            print(\"digit_kappa_i [\", i, \"] =\", digit_kappa_i)\n",
    "\n",
    "        # for j in range(n_layers-1, i,-1):\n",
    "        for j in range(i+1, n_layers):\n",
    "            print (\"j\", j)\n",
    "            print(solve(eq_kappa2_kappa2[j-1], kappa[j]))\n",
    "            digit_kappa_i_j = solve(eq_kappa2_kappa2[j-1], kappa[j])[0].subs(digit_kappa_i).subs(digit_values)\n",
    "            print(\"digit_kappa_i_j [\", i, \",\", j, \"] =\", digit_kappa_i_j)\n",
    "            print(\"digit_kappa_i_j [\", i, \",\", j, \"].is_real() =\", digit_kappa_i_j.rhs().is_real())\n",
    "            if digit_kappa_i_j.rhs().is_real():\n",
    "                digit_kappa_i += [digit_kappa_i_j]\n",
    "            print(\"digit_kappa_i [\", i, \"] =\", digit_kappa_i)\n",
    "        \n",
    "        print(\"\")\n",
    "        if len(digit_kappa_i) == n_layers:\n",
    "            digit_kappas += [digit_kappa_i]"
   ]
  },
  {
   "cell_type": "code",
   "execution_count": 51,
   "metadata": {},
   "outputs": [
    {
     "name": "stdout",
     "output_type": "stream",
     "text": [
      "[[kappa_0 == 127.95562472612484, kappa_1 == 195.794467948538], [kappa_0 == 296.7400143992569, kappa_1 == 331.688811879251], [kappa_1 == 195.79446794853806, kappa_0 == 127.955624726125], [kappa_1 == 331.6888118792514, kappa_0 == 296.740014399257]]\n"
     ]
    }
   ],
   "source": [
    "print(digit_kappas)"
   ]
  },
  {
   "cell_type": "code",
   "execution_count": 52,
   "metadata": {},
   "outputs": [
    {
     "name": "stdout",
     "output_type": "stream",
     "text": [
      "-k^2 + 175702.654241586 == 16372.641899052891 <class 'sage.symbolic.expression.Expression'>\n",
      "[\n",
      "k == -1/117723*sqrt(18756807043)*sqrt(117723),\n",
      "k == 1/117723*sqrt(18756807043)*sqrt(117723)\n",
      "]\n",
      "399.161636862228\n",
      "-k^2 + 175702.654241586 == 88054.63614567119 <class 'sage.symbolic.expression.Expression'>\n",
      "[\n",
      "k == -1/32383*sqrt(2838305770)*sqrt(32383),\n",
      "k == 1/32383*sqrt(2838305770)*sqrt(32383)\n",
      "]\n",
      "296.054079681254\n",
      "-k^2 + 175702.654241586 == 16372.6418990529 <class 'sage.symbolic.expression.Expression'>\n",
      "[\n",
      "k == -2/90257*sqrt(3595162231)*sqrt(90257),\n",
      "k == 2/90257*sqrt(3595162231)*sqrt(90257)\n",
      "]\n",
      "399.161636862228\n",
      "-k^2 + 175702.654241586 == 88054.6361456712 <class 'sage.symbolic.expression.Expression'>\n",
      "[\n",
      "k == -1/32383*sqrt(2838305770)*sqrt(32383),\n",
      "k == 1/32383*sqrt(2838305770)*sqrt(32383)\n",
      "]\n",
      "296.054079681254\n"
     ]
    }
   ],
   "source": [
    "for j in range(len(digit_kappas)):\n",
    "    for i in range(n_layers - 1):\n",
    "        eq = eq_kappa[i].subs(digit_kappas[j]).subs(digit_values)\n",
    "        print (eq, type(eq))\n",
    "        digit_k_j = solve(eq, k)\n",
    "        print (digit_k_j)\n",
    "        for digit_k in digit_k_j:\n",
    "            if digit_k.rhs() > 0:\n",
    "                print (digit_k.rhs().n())\n",
    "                if 0 == i:\n",
    "                    digit_kappas[j] += [k == digit_k.rhs().n()]"
   ]
  },
  {
   "cell_type": "code",
   "execution_count": 53,
   "metadata": {},
   "outputs": [
    {
     "name": "stdout",
     "output_type": "stream",
     "text": [
      "[[kappa_0 == 127.95562472612484, kappa_1 == 195.794467948538, k == 399.161636862228], [kappa_0 == 296.7400143992569, kappa_1 == 331.688811879251, k == 296.054079681254], [kappa_1 == 195.79446794853806, kappa_0 == 127.955624726125, k == 399.161636862228], [kappa_1 == 331.6888118792514, kappa_0 == 296.740014399257, k == 296.054079681254]]\n"
     ]
    }
   ],
   "source": [
    "print(digit_kappas)"
   ]
  },
  {
   "cell_type": "code",
   "execution_count": 54,
   "metadata": {},
   "outputs": [
    {
     "name": "stdout",
     "output_type": "stream",
     "text": [
      "[[kappa_0 == 127.95562472612484, kappa_1 == 195.794467948538, k == 399.161636862228], [kappa_0 == 296.7400143992569, kappa_1 == 331.688811879251, k == 296.054079681254], [kappa_1 == 195.79446794853806, kappa_0 == 127.955624726125, k == 399.161636862228], [kappa_1 == 331.6888118792514, kappa_0 == 296.740014399257, k == 296.054079681254]]\n"
     ]
    }
   ],
   "source": [
    "digit_kappas_k = []\n",
    "for j in range(len(digit_kappas)):\n",
    "    if n_layers + 1 == len(digit_kappas[j]):\n",
    "        digit_kappas_k += [digit_kappas[j]]\n",
    "        \n",
    "print(digit_kappas_k)"
   ]
  },
  {
   "cell_type": "code",
   "execution_count": 55,
   "metadata": {},
   "outputs": [
    {
     "name": "stdout",
     "output_type": "stream",
     "text": [
      "Ex[ 0 ]=\n"
     ]
    },
    {
     "data": {
      "text/latex": [
       "$$\\frac{i \\, \\mathit{Bz}_{0} k \\cos\\left(\\kappa_{0} x\\right)}{\\kappa_{0}}$$"
      ],
      "text/plain": [
       "<IPython.core.display.Math object>"
      ]
     },
     "metadata": {},
     "output_type": "display_data"
    },
    {
     "name": "stdout",
     "output_type": "stream",
     "text": [
      "Ez[ 0 ]=\n"
     ]
    },
    {
     "data": {
      "text/latex": [
       "$$\\mathit{Bz}_{0} \\sin\\left(\\kappa_{0} x\\right)$$"
      ],
      "text/plain": [
       "<IPython.core.display.Math object>"
      ]
     },
     "metadata": {},
     "output_type": "display_data"
    },
    {
     "name": "stdout",
     "output_type": "stream",
     "text": [
      "\n",
      "Ex[ 1 ]=\n"
     ]
    },
    {
     "data": {
      "text/latex": [
       "$$-\\frac{2 i \\, \\mathit{Bz}_{1} k \\cos\\left(a \\kappa_{1}\\right)^{2} \\cos\\left(\\kappa_{1} x\\right)}{2 \\, \\kappa_{1} \\sin\\left(a \\kappa_{1}\\right)^{2} - \\kappa_{1}} - \\frac{2 i \\, \\mathit{Bz}_{1} k \\cos\\left(a \\kappa_{1}\\right) \\sin\\left(a \\kappa_{1}\\right) \\sin\\left(\\kappa_{1} x\\right)}{2 \\, \\kappa_{1} \\sin\\left(a \\kappa_{1}\\right)^{2} - \\kappa_{1}} + \\frac{i \\, \\mathit{Bz}_{1} k \\cos\\left(\\kappa_{1} x\\right)}{2 \\, \\kappa_{1} \\sin\\left(a \\kappa_{1}\\right)^{2} - \\kappa_{1}}$$"
      ],
      "text/plain": [
       "<IPython.core.display.Math object>"
      ]
     },
     "metadata": {},
     "output_type": "display_data"
    },
    {
     "name": "stdout",
     "output_type": "stream",
     "text": [
      "Ez[ 1 ]=\n"
     ]
    },
    {
     "data": {
      "text/latex": [
       "$$\\frac{2 \\, \\mathit{Bz}_{1} \\cos\\left(a \\kappa_{1}\\right) \\cos\\left(\\kappa_{1} x\\right) \\sin\\left(a \\kappa_{1}\\right)}{2 \\, \\sin\\left(a \\kappa_{1}\\right)^{2} - 1} - \\frac{2 \\, \\mathit{Bz}_{1} \\cos\\left(a \\kappa_{1}\\right)^{2} \\sin\\left(\\kappa_{1} x\\right)}{2 \\, \\sin\\left(a \\kappa_{1}\\right)^{2} - 1} + \\frac{\\mathit{Bz}_{1} \\sin\\left(\\kappa_{1} x\\right)}{2 \\, \\sin\\left(a \\kappa_{1}\\right)^{2} - 1}$$"
      ],
      "text/plain": [
       "<IPython.core.display.Math object>"
      ]
     },
     "metadata": {},
     "output_type": "display_data"
    },
    {
     "name": "stdout",
     "output_type": "stream",
     "text": [
      "\n",
      "\n",
      "Ex[ 1 ]=\n"
     ]
    },
    {
     "data": {
      "text/latex": [
       "$$\\frac{2 i \\, \\mathit{Bz}_{0} k^{3} \\mu_{1} \\cos\\left(a \\kappa_{0}\\right) \\cos\\left(a \\kappa_{1}\\right) \\cos\\left(\\kappa_{1} x\\right)}{{\\left(k^{2} \\kappa_{0} + \\kappa_{0} \\kappa_{1}^{2}\\right)} \\mu_{0}} + \\frac{2 i \\, \\mathit{Bz}_{0} k \\kappa_{0}^{2} \\mu_{1} \\cos\\left(a \\kappa_{0}\\right) \\cos\\left(a \\kappa_{1}\\right) \\cos\\left(\\kappa_{1} x\\right)}{{\\left(k^{2} \\kappa_{0} + \\kappa_{0} \\kappa_{1}^{2}\\right)} \\mu_{0}} + \\frac{2 i \\, \\mathit{Bz}_{0} k^{3} \\mu_{1} \\cos\\left(a \\kappa_{0}\\right) \\sin\\left(a \\kappa_{1}\\right) \\sin\\left(\\kappa_{1} x\\right)}{{\\left(k^{2} \\kappa_{0} + \\kappa_{0} \\kappa_{1}^{2}\\right)} \\mu_{0}} + \\frac{2 i \\, \\mathit{Bz}_{0} k \\kappa_{0}^{2} \\mu_{1} \\cos\\left(a \\kappa_{0}\\right) \\sin\\left(a \\kappa_{1}\\right) \\sin\\left(\\kappa_{1} x\\right)}{{\\left(k^{2} \\kappa_{0} + \\kappa_{0} \\kappa_{1}^{2}\\right)} \\mu_{0}} - \\frac{i \\, \\mathit{Bz}_{0} k^{3} \\mu_{1} \\cos\\left(a \\kappa_{0}\\right) \\cos\\left(\\kappa_{1} x\\right)}{{\\left(k^{2} \\kappa_{0} + \\kappa_{0} \\kappa_{1}^{2}\\right)} \\mu_{0} \\cos\\left(a \\kappa_{1}\\right)} - \\frac{i \\, \\mathit{Bz}_{0} k \\kappa_{0}^{2} \\mu_{1} \\cos\\left(a \\kappa_{0}\\right) \\cos\\left(\\kappa_{1} x\\right)}{{\\left(k^{2} \\kappa_{0} + \\kappa_{0} \\kappa_{1}^{2}\\right)} \\mu_{0} \\cos\\left(a \\kappa_{1}\\right)}$$"
      ],
      "text/plain": [
       "<IPython.core.display.Math object>"
      ]
     },
     "metadata": {},
     "output_type": "display_data"
    },
    {
     "name": "stdout",
     "output_type": "stream",
     "text": [
      "Ez[ 1 ]=\n"
     ]
    },
    {
     "data": {
      "text/latex": [
       "$$-\\frac{2 \\, \\mathit{Bz}_{0} k^{2} \\kappa_{1} \\mu_{1} \\cos\\left(a \\kappa_{0}\\right) \\cos\\left(\\kappa_{1} x\\right) \\sin\\left(a \\kappa_{1}\\right)}{{\\left(k^{2} \\kappa_{0} + \\kappa_{0} \\kappa_{1}^{2}\\right)} \\mu_{0}} - \\frac{2 \\, \\mathit{Bz}_{0} \\kappa_{0}^{2} \\kappa_{1} \\mu_{1} \\cos\\left(a \\kappa_{0}\\right) \\cos\\left(\\kappa_{1} x\\right) \\sin\\left(a \\kappa_{1}\\right)}{{\\left(k^{2} \\kappa_{0} + \\kappa_{0} \\kappa_{1}^{2}\\right)} \\mu_{0}} + \\frac{2 \\, \\mathit{Bz}_{0} k^{2} \\kappa_{1} \\mu_{1} \\cos\\left(a \\kappa_{0}\\right) \\cos\\left(a \\kappa_{1}\\right) \\sin\\left(\\kappa_{1} x\\right)}{{\\left(k^{2} \\kappa_{0} + \\kappa_{0} \\kappa_{1}^{2}\\right)} \\mu_{0}} + \\frac{2 \\, \\mathit{Bz}_{0} \\kappa_{0}^{2} \\kappa_{1} \\mu_{1} \\cos\\left(a \\kappa_{0}\\right) \\cos\\left(a \\kappa_{1}\\right) \\sin\\left(\\kappa_{1} x\\right)}{{\\left(k^{2} \\kappa_{0} + \\kappa_{0} \\kappa_{1}^{2}\\right)} \\mu_{0}} - \\frac{\\mathit{Bz}_{0} k^{2} \\kappa_{1} \\mu_{1} \\cos\\left(a \\kappa_{0}\\right) \\sin\\left(\\kappa_{1} x\\right)}{{\\left(k^{2} \\kappa_{0} + \\kappa_{0} \\kappa_{1}^{2}\\right)} \\mu_{0} \\cos\\left(a \\kappa_{1}\\right)} - \\frac{\\mathit{Bz}_{0} \\kappa_{0}^{2} \\kappa_{1} \\mu_{1} \\cos\\left(a \\kappa_{0}\\right) \\sin\\left(\\kappa_{1} x\\right)}{{\\left(k^{2} \\kappa_{0} + \\kappa_{0} \\kappa_{1}^{2}\\right)} \\mu_{0} \\cos\\left(a \\kappa_{1}\\right)}$$"
      ],
      "text/plain": [
       "<IPython.core.display.Math object>"
      ]
     },
     "metadata": {},
     "output_type": "display_data"
    },
    {
     "name": "stdout",
     "output_type": "stream",
     "text": [
      "\n"
     ]
    }
   ],
   "source": [
    "Ex_res = []\n",
    "Ez_res = []\n",
    "for i in range(n_layers):\n",
    "    Ex_res += [ lambda x, i=i : Ex[i](x).subs(eqsys_rotH_subs).subs(boundary_subs).full_simplify().expand()]\n",
    "    Ez_res += [ lambda x, i=i : Ez[i](x).subs(eqsys_rotH_subs).subs(boundary_subs).full_simplify().expand()]\n",
    "\n",
    "for i in range(n_layers):\n",
    "    print (\"Ex[\", i, \"]=\")\n",
    "    display(Math(latex(Ex_res[i](x))))\n",
    "    print (\"Ez[\", i, \"]=\")\n",
    "    display(Math(latex(Ez_res[i](x))))\n",
    "    print(\"\")\n",
    "    \n",
    "for i in range(n_layers):\n",
    "    if i > 0:\n",
    "        print (\"Ex[\", i, \"]=\")\n",
    "        display(Math(latex(Ex_res[i](x).subs(Bz_eqs[i-1]).full_simplify().expand())))\n",
    "        print (\"Ez[\", i, \"]=\")\n",
    "        display(Math(latex(Ez_res[i](x).subs(Bz_eqs[i-1]).full_simplify().expand())))\n",
    "    print(\"\")"
   ]
  },
  {
   "cell_type": "code",
   "execution_count": 56,
   "metadata": {},
   "outputs": [
    {
     "name": "stdout",
     "output_type": "stream",
     "text": [
      "Hy[ 0 ]=\n"
     ]
    },
    {
     "data": {
      "text/latex": [
       "$$\\frac{{\\left(i \\, \\mathit{Bz}_{0} c k^{2} + i \\, \\mathit{Bz}_{0} c \\kappa_{0}^{2}\\right)} \\cos\\left(\\kappa_{0} x\\right)}{\\kappa_{0} \\mu_{0} \\omega}$$"
      ],
      "text/plain": [
       "<IPython.core.display.Math object>"
      ]
     },
     "metadata": {},
     "output_type": "display_data"
    },
    {
     "name": "stdout",
     "output_type": "stream",
     "text": [
      "\n",
      "Hy[ 1 ]=\n"
     ]
    },
    {
     "data": {
      "text/latex": [
       "$$\\frac{{\\left({\\left(4 i \\, \\mathit{Bz}_{1} c k^{2} + 4 i \\, \\mathit{Bz}_{1} c \\kappa_{1}^{2}\\right)} \\cos\\left(a \\kappa_{1}\\right)^{3} + {\\left(-2 i \\, \\mathit{Bz}_{1} c k^{2} - 2 i \\, \\mathit{Bz}_{1} c \\kappa_{1}^{2}\\right)} \\cos\\left(a \\kappa_{1}\\right)\\right)} \\sin\\left(a \\kappa_{1}\\right) \\sin\\left(\\kappa_{1} x\\right) + {\\left({\\left(4 i \\, \\mathit{Bz}_{1} c k^{2} + 4 i \\, \\mathit{Bz}_{1} c \\kappa_{1}^{2}\\right)} \\cos\\left(a \\kappa_{1}\\right)^{4} + i \\, \\mathit{Bz}_{1} c k^{2} + i \\, \\mathit{Bz}_{1} c \\kappa_{1}^{2} + {\\left(-4 i \\, \\mathit{Bz}_{1} c k^{2} - 4 i \\, \\mathit{Bz}_{1} c \\kappa_{1}^{2}\\right)} \\cos\\left(a \\kappa_{1}\\right)^{2}\\right)} \\cos\\left(\\kappa_{1} x\\right)}{{\\left(4 \\, \\kappa_{1} \\sin\\left(a \\kappa_{1}\\right)^{4} - 4 \\, \\kappa_{1} \\sin\\left(a \\kappa_{1}\\right)^{2} + \\kappa_{1}\\right)} \\mu_{1} \\omega}$$"
      ],
      "text/plain": [
       "<IPython.core.display.Math object>"
      ]
     },
     "metadata": {},
     "output_type": "display_data"
    },
    {
     "name": "stdout",
     "output_type": "stream",
     "text": [
      "Hy[ 1 ]=\n"
     ]
    },
    {
     "data": {
      "text/latex": [
       "$$\\frac{2 i \\, \\mathit{Bz}_{0} c k^{2} \\cos\\left(a \\kappa_{0}\\right) \\cos\\left(a \\kappa_{1}\\right) \\cos\\left(\\kappa_{1} x\\right)}{\\kappa_{0} \\mu_{0} \\omega} + \\frac{2 i \\, \\mathit{Bz}_{0} c \\kappa_{0} \\cos\\left(a \\kappa_{0}\\right) \\cos\\left(a \\kappa_{1}\\right) \\cos\\left(\\kappa_{1} x\\right)}{\\mu_{0} \\omega} + \\frac{2 i \\, \\mathit{Bz}_{0} c k^{2} \\cos\\left(a \\kappa_{0}\\right) \\sin\\left(a \\kappa_{1}\\right) \\sin\\left(\\kappa_{1} x\\right)}{\\kappa_{0} \\mu_{0} \\omega} + \\frac{2 i \\, \\mathit{Bz}_{0} c \\kappa_{0} \\cos\\left(a \\kappa_{0}\\right) \\sin\\left(a \\kappa_{1}\\right) \\sin\\left(\\kappa_{1} x\\right)}{\\mu_{0} \\omega} - \\frac{i \\, \\mathit{Bz}_{0} c k^{2} \\cos\\left(a \\kappa_{0}\\right) \\cos\\left(\\kappa_{1} x\\right)}{\\kappa_{0} \\mu_{0} \\omega \\cos\\left(a \\kappa_{1}\\right)} - \\frac{i \\, \\mathit{Bz}_{0} c \\kappa_{0} \\cos\\left(a \\kappa_{0}\\right) \\cos\\left(\\kappa_{1} x\\right)}{\\mu_{0} \\omega \\cos\\left(a \\kappa_{1}\\right)}$$"
      ],
      "text/plain": [
       "<IPython.core.display.Math object>"
      ]
     },
     "metadata": {},
     "output_type": "display_data"
    },
    {
     "name": "stdout",
     "output_type": "stream",
     "text": [
      "\n"
     ]
    }
   ],
   "source": [
    "Hy_res = []\n",
    "for i in range(n_layers):\n",
    "    Hy_res  += [lambda x, i=i : Hy[i](x).subs(eqsys_rotH_subs).subs(boundary_subs).full_simplify()]\n",
    "    print (\"Hy[\", i, \"]=\")\n",
    "    display(Math(latex(Hy_res[i](x))))\n",
    "    if i > 0:\n",
    "        print (\"Hy[\", i, \"]=\")\n",
    "        display(Math(latex(Hy_res[i](x).subs(Bz_eqs[i-1]).full_simplify().expand())))\n",
    "\n",
    "    print(\"\")"
   ]
  },
  {
   "cell_type": "code",
   "execution_count": 57,
   "metadata": {},
   "outputs": [],
   "source": [
    "def Re(v):\n",
    "    return v.real_part()\n",
    "\n",
    "def Im(v):\n",
    "    return v.imag_part()"
   ]
  },
  {
   "cell_type": "code",
   "execution_count": 58,
   "metadata": {},
   "outputs": [],
   "source": [
    "E2_8pi_x = []\n",
    "for i in range(n_layers):\n",
    "    exec(preparse(\"E2_8pi_x += [lambda x, i=i:\" + str(\n",
    "        ( (Re(Ex_res[i](x))^2 +\n",
    "           Im(Ex_res[i](x))^2)) / (2*8*pi)\n",
    "    ) + \"]\"))"
   ]
  },
  {
   "cell_type": "code",
   "execution_count": 59,
   "metadata": {},
   "outputs": [],
   "source": [
    "E2_8pi_z = []\n",
    "for i in range(n_layers):\n",
    "    exec(preparse(\"E2_8pi_z += [lambda x, i=i:\" + str(\n",
    "        ( (Re(Ez_res[i](x))^2 +\n",
    "           Im(Ez_res[i](x))^2)) / (2*8*pi)\n",
    "    ) + \"]\"))"
   ]
  },
  {
   "cell_type": "code",
   "execution_count": 60,
   "metadata": {},
   "outputs": [],
   "source": [
    "H2_8pi_y = []\n",
    "for i in range(n_layers):\n",
    "    exec(preparse(\"H2_8pi_y += [lambda x, i=i:\" + str(\n",
    "        ( (Re(Hy_res[i](x))^2 +\n",
    "           Im(Hy_res[i](x))^2)) / (2*8*pi)\n",
    "    ) + \"]\"))"
   ]
  },
  {
   "cell_type": "code",
   "execution_count": 61,
   "metadata": {},
   "outputs": [
    {
     "name": "stdout",
     "output_type": "stream",
     "text": [
      "Ex[ 0 ][ 0 ]=\n"
     ]
    },
    {
     "data": {
      "text/latex": [
       "$$3.119531772961055i \\, \\cos\\left(127.95562472612484 \\, x\\right)$$"
      ],
      "text/plain": [
       "<IPython.core.display.Math object>"
      ]
     },
     "metadata": {},
     "output_type": "display_data"
    },
    {
     "name": "stdout",
     "output_type": "stream",
     "text": [
      "Ez[ 0 ][ 0 ]=\n"
     ]
    },
    {
     "data": {
      "text/latex": [
       "$$\\sin\\left(127.95562472612484 \\, x\\right)$$"
      ],
      "text/plain": [
       "<IPython.core.display.Math object>"
      ]
     },
     "metadata": {},
     "output_type": "display_data"
    },
    {
     "name": "stdout",
     "output_type": "stream",
     "text": [
      "Hy[ 0 ][ 0 ]=\n"
     ]
    },
    {
     "data": {
      "text/latex": [
       "$$6.551787079114686i \\, \\cos\\left(127.95562472612484 \\, x\\right)$$"
      ],
      "text/plain": [
       "<IPython.core.display.Math object>"
      ]
     },
     "metadata": {},
     "output_type": "display_data"
    },
    {
     "name": "stdout",
     "output_type": "stream",
     "text": [
      "\n",
      "Ex[ 0 ][ 1 ]=\n"
     ]
    },
    {
     "data": {
      "text/latex": [
       "$$1.50768454112883i \\, \\cos\\left(195.794467948538 \\, x\\right) + 1.47457574363656i \\, \\sin\\left(195.794467948538 \\, x\\right)$$"
      ],
      "text/plain": [
       "<IPython.core.display.Math object>"
      ]
     },
     "metadata": {},
     "output_type": "display_data"
    },
    {
     "name": "stdout",
     "output_type": "stream",
     "text": [
      "Ez[ 0 ][ 1 ]=\n"
     ]
    },
    {
     "data": {
      "text/latex": [
       "$$-0.723300403928326 \\, \\cos\\left(195.794467948538 \\, x\\right) + 0.739540740650997 \\, \\sin\\left(195.794467948538 \\, x\\right)$$"
      ],
      "text/plain": [
       "<IPython.core.display.Math object>"
      ]
     },
     "metadata": {},
     "output_type": "display_data"
    },
    {
     "name": "stdout",
     "output_type": "stream",
     "text": [
      "Hy[ 0 ][ 1 ]=\n"
     ]
    },
    {
     "data": {
      "text/latex": [
       "$$3.56232358466868i \\, \\cos\\left(195.794467948538 \\, x\\right) + 3.48409485249741i \\, \\sin\\left(195.794467948538 \\, x\\right)$$"
      ],
      "text/plain": [
       "<IPython.core.display.Math object>"
      ]
     },
     "metadata": {},
     "output_type": "display_data"
    },
    {
     "name": "stdout",
     "output_type": "stream",
     "text": [
      "\n",
      "Ex[ 1 ][ 0 ]=\n"
     ]
    },
    {
     "data": {
      "text/latex": [
       "$$0.9976884320121397i \\, \\cos\\left(296.7400143992569 \\, x\\right)$$"
      ],
      "text/plain": [
       "<IPython.core.display.Math object>"
      ]
     },
     "metadata": {},
     "output_type": "display_data"
    },
    {
     "name": "stdout",
     "output_type": "stream",
     "text": [
      "Ez[ 1 ][ 0 ]=\n"
     ]
    },
    {
     "data": {
      "text/latex": [
       "$$\\sin\\left(296.7400143992569 \\, x\\right)$$"
      ],
      "text/plain": [
       "<IPython.core.display.Math object>"
      ]
     },
     "metadata": {},
     "output_type": "display_data"
    },
    {
     "name": "stdout",
     "output_type": "stream",
     "text": [
      "Hy[ 1 ][ 0 ]=\n"
     ]
    },
    {
     "data": {
      "text/latex": [
       "$$2.825159965291056i \\, \\cos\\left(296.7400143992569 \\, x\\right)$$"
      ],
      "text/plain": [
       "<IPython.core.display.Math object>"
      ]
     },
     "metadata": {},
     "output_type": "display_data"
    },
    {
     "name": "stdout",
     "output_type": "stream",
     "text": [
      "\n",
      "Ex[ 1 ][ 1 ]=\n"
     ]
    },
    {
     "data": {
      "text/latex": [
       "$$0.833050165351760i \\, \\cos\\left(331.688811879251 \\, x\\right) + 0.304645036608731i \\, \\sin\\left(331.688811879251 \\, x\\right)$$"
      ],
      "text/plain": [
       "<IPython.core.display.Math object>"
      ]
     },
     "metadata": {},
     "output_type": "display_data"
    },
    {
     "name": "stdout",
     "output_type": "stream",
     "text": [
      "Ez[ 1 ][ 1 ]=\n"
     ]
    },
    {
     "data": {
      "text/latex": [
       "$$-0.341313824644651 \\, \\cos\\left(331.688811879251 \\, x\\right) + 0.933320763148513 \\, \\sin\\left(331.688811879251 \\, x\\right)$$"
      ],
      "text/plain": [
       "<IPython.core.display.Math object>"
      ]
     },
     "metadata": {},
     "output_type": "display_data"
    },
    {
     "name": "stdout",
     "output_type": "stream",
     "text": [
      "Hy[ 1 ][ 1 ]=\n"
     ]
    },
    {
     "data": {
      "text/latex": [
       "$$2.65382196315526i \\, \\cos\\left(331.688811879251 \\, x\\right) + 0.970498203763162i \\, \\sin\\left(331.688811879251 \\, x\\right)$$"
      ],
      "text/plain": [
       "<IPython.core.display.Math object>"
      ]
     },
     "metadata": {},
     "output_type": "display_data"
    },
    {
     "name": "stdout",
     "output_type": "stream",
     "text": [
      "\n",
      "Ex[ 2 ][ 0 ]=\n"
     ]
    },
    {
     "data": {
      "text/latex": [
       "$$3.11953177296106i \\, \\cos\\left(127.955624726125 \\, x\\right)$$"
      ],
      "text/plain": [
       "<IPython.core.display.Math object>"
      ]
     },
     "metadata": {},
     "output_type": "display_data"
    },
    {
     "name": "stdout",
     "output_type": "stream",
     "text": [
      "Ez[ 2 ][ 0 ]=\n"
     ]
    },
    {
     "data": {
      "text/latex": [
       "$$\\sin\\left(127.955624726125 \\, x\\right)$$"
      ],
      "text/plain": [
       "<IPython.core.display.Math object>"
      ]
     },
     "metadata": {},
     "output_type": "display_data"
    },
    {
     "name": "stdout",
     "output_type": "stream",
     "text": [
      "Hy[ 2 ][ 0 ]=\n"
     ]
    },
    {
     "data": {
      "text/latex": [
       "$$6.55178707911470i \\, \\cos\\left(127.955624726125 \\, x\\right)$$"
      ],
      "text/plain": [
       "<IPython.core.display.Math object>"
      ]
     },
     "metadata": {},
     "output_type": "display_data"
    },
    {
     "name": "stdout",
     "output_type": "stream",
     "text": [
      "\n",
      "Ex[ 2 ][ 1 ]=\n"
     ]
    },
    {
     "data": {
      "text/latex": [
       "$$1.50768454112885i \\, \\cos\\left(195.79446794853806 \\, x\\right) + 1.47457574363657i \\, \\sin\\left(195.79446794853806 \\, x\\right)$$"
      ],
      "text/plain": [
       "<IPython.core.display.Math object>"
      ]
     },
     "metadata": {},
     "output_type": "display_data"
    },
    {
     "name": "stdout",
     "output_type": "stream",
     "text": [
      "Ez[ 2 ][ 1 ]=\n"
     ]
    },
    {
     "data": {
      "text/latex": [
       "$$-0.723300403928331 \\, \\cos\\left(195.79446794853806 \\, x\\right) + 0.739540740651003 \\, \\sin\\left(195.79446794853806 \\, x\\right)$$"
      ],
      "text/plain": [
       "<IPython.core.display.Math object>"
      ]
     },
     "metadata": {},
     "output_type": "display_data"
    },
    {
     "name": "stdout",
     "output_type": "stream",
     "text": [
      "Hy[ 2 ][ 1 ]=\n"
     ]
    },
    {
     "data": {
      "text/latex": [
       "$$3.56232358466871i \\, \\cos\\left(195.79446794853806 \\, x\\right) + 3.48409485249743i \\, \\sin\\left(195.79446794853806 \\, x\\right)$$"
      ],
      "text/plain": [
       "<IPython.core.display.Math object>"
      ]
     },
     "metadata": {},
     "output_type": "display_data"
    },
    {
     "name": "stdout",
     "output_type": "stream",
     "text": [
      "\n",
      "Ex[ 3 ][ 0 ]=\n"
     ]
    },
    {
     "data": {
      "text/latex": [
       "$$0.997688432012140i \\, \\cos\\left(296.740014399257 \\, x\\right)$$"
      ],
      "text/plain": [
       "<IPython.core.display.Math object>"
      ]
     },
     "metadata": {},
     "output_type": "display_data"
    },
    {
     "name": "stdout",
     "output_type": "stream",
     "text": [
      "Ez[ 3 ][ 0 ]=\n"
     ]
    },
    {
     "data": {
      "text/latex": [
       "$$\\sin\\left(296.740014399257 \\, x\\right)$$"
      ],
      "text/plain": [
       "<IPython.core.display.Math object>"
      ]
     },
     "metadata": {},
     "output_type": "display_data"
    },
    {
     "name": "stdout",
     "output_type": "stream",
     "text": [
      "Hy[ 3 ][ 0 ]=\n"
     ]
    },
    {
     "data": {
      "text/latex": [
       "$$2.82515996529106i \\, \\cos\\left(296.740014399257 \\, x\\right)$$"
      ],
      "text/plain": [
       "<IPython.core.display.Math object>"
      ]
     },
     "metadata": {},
     "output_type": "display_data"
    },
    {
     "name": "stdout",
     "output_type": "stream",
     "text": [
      "\n",
      "Ex[ 3 ][ 1 ]=\n"
     ]
    },
    {
     "data": {
      "text/latex": [
       "$$0.833050165351760i \\, \\cos\\left(331.6888118792514 \\, x\\right) + 0.304645036608731i \\, \\sin\\left(331.6888118792514 \\, x\\right)$$"
      ],
      "text/plain": [
       "<IPython.core.display.Math object>"
      ]
     },
     "metadata": {},
     "output_type": "display_data"
    },
    {
     "name": "stdout",
     "output_type": "stream",
     "text": [
      "Ez[ 3 ][ 1 ]=\n"
     ]
    },
    {
     "data": {
      "text/latex": [
       "$$-0.341313824644651 \\, \\cos\\left(331.6888118792514 \\, x\\right) + 0.933320763148513 \\, \\sin\\left(331.6888118792514 \\, x\\right)$$"
      ],
      "text/plain": [
       "<IPython.core.display.Math object>"
      ]
     },
     "metadata": {},
     "output_type": "display_data"
    },
    {
     "name": "stdout",
     "output_type": "stream",
     "text": [
      "Hy[ 3 ][ 1 ]=\n"
     ]
    },
    {
     "data": {
      "text/latex": [
       "$$2.65382196315526i \\, \\cos\\left(331.6888118792514 \\, x\\right) + 0.970498203763162i \\, \\sin\\left(331.6888118792514 \\, x\\right)$$"
      ],
      "text/plain": [
       "<IPython.core.display.Math object>"
      ]
     },
     "metadata": {},
     "output_type": "display_data"
    },
    {
     "name": "stdout",
     "output_type": "stream",
     "text": [
      "\n"
     ]
    }
   ],
   "source": [
    "Ex_d = []\n",
    "Ez_d = []\n",
    "Hy_d = []\n",
    "for j in range(len(digit_kappas_k)):\n",
    "    Ex_d += [[]]\n",
    "    Ez_d += [[]]\n",
    "    Hy_d += [[]]\n",
    "    for i in range(n_layers):\n",
    "        if i > 0:\n",
    "            Ex_d[j] += [ lambda x, i=i : Ex_res[i](x).subs(Bz_eqs[i-1]).subs(digit_values).subs(a==A,Bz_0==1).subs(digit_kappas_k[j])]\n",
    "            Ez_d[j] += [ lambda x, i=i : Ez_res[i](x).subs(Bz_eqs[i-1]).subs(digit_values).subs(a==A,Bz_0==1).subs(digit_kappas_k[j])]\n",
    "            Hy_d[j] += [ lambda x, i=i : Hy_res[i](x).subs(Bz_eqs[i-1]).subs(digit_values).subs(a==A,Bz_0==1).subs(digit_kappas_k[j])]\n",
    "        else:\n",
    "            Ex_d[j] += [ lambda x, i=i : Ex_res[i](x).subs(digit_values).subs(a==A,Bz_0==1).subs(digit_kappas_k[j])]\n",
    "            Ez_d[j] += [ lambda x, i=i : Ez_res[i](x).subs(digit_values).subs(a==A,Bz_0==1).subs(digit_kappas_k[j])]\n",
    "            Hy_d[j] += [ lambda x, i=i : Hy_res[i](x).subs(digit_values).subs(a==A,Bz_0==1).subs(digit_kappas_k[j])]\n",
    "        \n",
    "    for i in range(n_layers):\n",
    "        print (\"Ex[\", j, \"][\", i, \"]=\")\n",
    "        display(Math(latex(Ex_d[j][i](x))))\n",
    "        print (\"Ez[\", j, \"][\", i, \"]=\")\n",
    "        display(Math(latex(Ez_d[j][i](x))))\n",
    "        print (\"Hy[\", j, \"][\", i, \"]=\")\n",
    "        display(Math(latex(Hy_d[j][i](x))))\n",
    "        print(\"\")"
   ]
  },
  {
   "cell_type": "code",
   "execution_count": 62,
   "metadata": {},
   "outputs": [
    {
     "data": {
      "image/png": "[encoded data removed]",
      "text/plain": [
       "Graphics object consisting of 2 graphics primitives"
      ]
     },
     "metadata": {},
     "output_type": "display_data"
    },
    {
     "data": {
      "image/png": "[encoded data removed]",
      "text/plain": [
       "Graphics object consisting of 2 graphics primitives"
      ]
     },
     "metadata": {},
     "output_type": "display_data"
    },
    {
     "data": {
      "image/png": "[encoded data removed]",
      "text/plain": [
       "Graphics object consisting of 2 graphics primitives"
      ]
     },
     "metadata": {},
     "output_type": "display_data"
    },
    {
     "data": {
      "image/png": "[encoded data removed]",
      "text/plain": [
       "Graphics object consisting of 2 graphics primitives"
      ]
     },
     "metadata": {},
     "output_type": "display_data"
    }
   ],
   "source": [
    "for j in range(len(digit_kappas_k)):\n",
    "    p = sage.plot.graphics.Graphics()\n",
    "    for i in range(n_layers):\n",
    "        p += plot(Ez_d[j][i] (x), (x, i*A, (i+1)*A))\n",
    "\n",
    "    p.show()"
   ]
  },
  {
   "cell_type": "code",
   "execution_count": 63,
   "metadata": {},
   "outputs": [
    {
     "data": {
      "image/png": "[encoded data removed]",
      "text/plain": [
       "Graphics object consisting of 2 graphics primitives"
      ]
     },
     "metadata": {},
     "output_type": "display_data"
    },
    {
     "data": {
      "image/png": "[encoded data removed]",
      "text/plain": [
       "Graphics object consisting of 2 graphics primitives"
      ]
     },
     "metadata": {},
     "output_type": "display_data"
    },
    {
     "data": {
      "image/png": "[encoded data removed]",
      "text/plain": [
       "Graphics object consisting of 2 graphics primitives"
      ]
     },
     "metadata": {},
     "output_type": "display_data"
    },
    {
     "data": {
      "image/png": "[encoded data removed]",
      "text/plain": [
       "Graphics object consisting of 2 graphics primitives"
      ]
     },
     "metadata": {},
     "output_type": "display_data"
    }
   ],
   "source": [
    "for j in range(len(digit_kappas_k)):\n",
    "    p = sage.plot.graphics.Graphics()\n",
    "    for i in range(n_layers):\n",
    "        p += plot(Ex_d[j][i] (x).imag(), (x, i*A, (i+1)*A))\n",
    "\n",
    "    p.show()"
   ]
  },
  {
   "cell_type": "code",
   "execution_count": 64,
   "metadata": {},
   "outputs": [
    {
     "data": {
      "image/png": "[encoded data removed]",
      "text/plain": [
       "Graphics object consisting of 2 graphics primitives"
      ]
     },
     "metadata": {},
     "output_type": "display_data"
    },
    {
     "data": {
      "image/png": "[encoded data removed]",
      "text/plain": [
       "Graphics object consisting of 2 graphics primitives"
      ]
     },
     "metadata": {},
     "output_type": "display_data"
    },
    {
     "data": {
      "image/png": "[encoded data removed]",
      "text/plain": [
       "Graphics object consisting of 2 graphics primitives"
      ]
     },
     "metadata": {},
     "output_type": "display_data"
    },
    {
     "data": {
      "image/png": "[encoded data removed]",
      "text/plain": [
       "Graphics object consisting of 2 graphics primitives"
      ]
     },
     "metadata": {},
     "output_type": "display_data"
    }
   ],
   "source": [
    "for j in range(len(digit_kappas_k)):\n",
    "    p = sage.plot.graphics.Graphics()\n",
    "    for i in range(n_layers):\n",
    "        p += plot(epsilon[i].subs(digit_values) * (Ex_d[j][i] (x).imag()), (x, i*A, (i+1)*A))\n",
    "\n",
    "    p.show()"
   ]
  },
  {
   "cell_type": "code",
   "execution_count": 65,
   "metadata": {},
   "outputs": [
    {
     "data": {
      "image/png": "[encoded data removed]",
      "text/plain": [
       "Graphics object consisting of 2 graphics primitives"
      ]
     },
     "metadata": {},
     "output_type": "display_data"
    },
    {
     "data": {
      "image/png": "[encoded data removed]",
      "text/plain": [
       "Graphics object consisting of 2 graphics primitives"
      ]
     },
     "metadata": {},
     "output_type": "display_data"
    },
    {
     "data": {
      "image/png": "[encoded data removed]",
      "text/plain": [
       "Graphics object consisting of 2 graphics primitives"
      ]
     },
     "metadata": {},
     "output_type": "display_data"
    },
    {
     "data": {
      "image/png": "[encoded data removed]",
      "text/plain": [
       "Graphics object consisting of 2 graphics primitives"
      ]
     },
     "metadata": {},
     "output_type": "display_data"
    }
   ],
   "source": [
    "for j in range(len(digit_kappas_k)):\n",
    "    p = sage.plot.graphics.Graphics()\n",
    "    for i in range(n_layers):\n",
    "        p += plot(Hy_d[j][i] (x).imag(), (x, i*A, (i+1)*A))\n",
    "\n",
    "    p.show()"
   ]
  },
  {
   "cell_type": "markdown",
   "metadata": {},
   "source": [
    "Решение получено.\n",
    "\n",
    "Теперь посчитаем:\n",
    "\n",
    "1) силу Абрагама, приложенную к диэлектрику\n",
    "\n",
    "2) пондемоторную силу, приложенную к идеальному проводнику"
   ]
  },
  {
   "cell_type": "code",
   "execution_count": 66,
   "metadata": {},
   "outputs": [
    {
     "name": "stdout",
     "output_type": "stream",
     "text": [
      "Abraham_f_x =\n"
     ]
    },
    {
     "data": {
      "text/latex": [
       "$$\\frac{{\\left({\\left(\\frac{\\mathit{Bz}_{0} c \\kappa_{0} \\cos\\left(\\kappa_{0} x\\right)}{\\mu_{0} \\omega} - \\frac{\\mathit{Bz}_{0} c \\cos\\left(\\kappa_{0} x\\right) \\Im \\left( k \\right)^{2}}{\\kappa_{0} \\mu_{0} \\omega} + \\frac{\\mathit{Bz}_{0} c \\cos\\left(\\kappa_{0} x\\right) \\Re \\left( k \\right)^{2}}{\\kappa_{0} \\mu_{0} \\omega}\\right)} \\mathit{Bz}_{0} \\omega \\sin\\left(\\kappa_{0} x\\right) - {\\left(\\frac{\\mathit{Bz}_{0} c \\kappa_{0} \\cos\\left(\\kappa_{0} x\\right)}{\\mu_{0}} - \\frac{\\mathit{Bz}_{0} c \\cos\\left(\\kappa_{0} x\\right) \\Im \\left( k \\right)^{2}}{\\kappa_{0} \\mu_{0}} + \\frac{\\mathit{Bz}_{0} c \\cos\\left(\\kappa_{0} x\\right) \\Re \\left( k \\right)^{2}}{\\kappa_{0} \\mu_{0}}\\right)} \\mathit{Bz}_{0} \\sin\\left(\\kappa_{0} x\\right)\\right)} {\\left(\\epsilon_{0} \\mu_{0} - 1\\right)}}{8 \\, \\pi c}$$"
      ],
      "text/plain": [
       "<IPython.core.display.Math object>"
      ]
     },
     "metadata": {},
     "output_type": "display_data"
    },
    {
     "name": "stdout",
     "output_type": "stream",
     "text": [
      "Abraham_f_x =\n"
     ]
    },
    {
     "data": {
      "text/latex": [
       "$$\\frac{{\\left({\\left(\\frac{4 \\, \\mathit{Bz}_{1} c \\kappa_{1}^{2} \\cos\\left(a \\kappa_{1}\\right)^{4} \\cos\\left(\\kappa_{1} x\\right)}{{\\left(4 \\, \\kappa_{1} \\sin\\left(a \\kappa_{1}\\right)^{4} - 4 \\, \\kappa_{1} \\sin\\left(a \\kappa_{1}\\right)^{2} + \\kappa_{1}\\right)} \\mu_{1} \\omega} - \\frac{4 \\, \\mathit{Bz}_{1} c \\cos\\left(a \\kappa_{1}\\right)^{4} \\cos\\left(\\kappa_{1} x\\right) \\Im \\left( k \\right)^{2}}{{\\left(4 \\, \\kappa_{1} \\sin\\left(a \\kappa_{1}\\right)^{4} - 4 \\, \\kappa_{1} \\sin\\left(a \\kappa_{1}\\right)^{2} + \\kappa_{1}\\right)} \\mu_{1} \\omega} + \\frac{4 \\, \\mathit{Bz}_{1} c \\cos\\left(a \\kappa_{1}\\right)^{4} \\cos\\left(\\kappa_{1} x\\right) \\Re \\left( k \\right)^{2}}{{\\left(4 \\, \\kappa_{1} \\sin\\left(a \\kappa_{1}\\right)^{4} - 4 \\, \\kappa_{1} \\sin\\left(a \\kappa_{1}\\right)^{2} + \\kappa_{1}\\right)} \\mu_{1} \\omega} + \\frac{4 \\, \\mathit{Bz}_{1} c \\kappa_{1}^{2} \\cos\\left(a \\kappa_{1}\\right)^{3} \\sin\\left(a \\kappa_{1}\\right) \\sin\\left(\\kappa_{1} x\\right)}{{\\left(4 \\, \\kappa_{1} \\sin\\left(a \\kappa_{1}\\right)^{4} - 4 \\, \\kappa_{1} \\sin\\left(a \\kappa_{1}\\right)^{2} + \\kappa_{1}\\right)} \\mu_{1} \\omega} - \\frac{4 \\, \\mathit{Bz}_{1} c \\cos\\left(a \\kappa_{1}\\right)^{3} \\Im \\left( k \\right)^{2} \\sin\\left(a \\kappa_{1}\\right) \\sin\\left(\\kappa_{1} x\\right)}{{\\left(4 \\, \\kappa_{1} \\sin\\left(a \\kappa_{1}\\right)^{4} - 4 \\, \\kappa_{1} \\sin\\left(a \\kappa_{1}\\right)^{2} + \\kappa_{1}\\right)} \\mu_{1} \\omega} + \\frac{4 \\, \\mathit{Bz}_{1} c \\cos\\left(a \\kappa_{1}\\right)^{3} \\Re \\left( k \\right)^{2} \\sin\\left(a \\kappa_{1}\\right) \\sin\\left(\\kappa_{1} x\\right)}{{\\left(4 \\, \\kappa_{1} \\sin\\left(a \\kappa_{1}\\right)^{4} - 4 \\, \\kappa_{1} \\sin\\left(a \\kappa_{1}\\right)^{2} + \\kappa_{1}\\right)} \\mu_{1} \\omega} - \\frac{4 \\, \\mathit{Bz}_{1} c \\kappa_{1}^{2} \\cos\\left(a \\kappa_{1}\\right)^{2} \\cos\\left(\\kappa_{1} x\\right)}{{\\left(4 \\, \\kappa_{1} \\sin\\left(a \\kappa_{1}\\right)^{4} - 4 \\, \\kappa_{1} \\sin\\left(a \\kappa_{1}\\right)^{2} + \\kappa_{1}\\right)} \\mu_{1} \\omega} + \\frac{4 \\, \\mathit{Bz}_{1} c \\cos\\left(a \\kappa_{1}\\right)^{2} \\cos\\left(\\kappa_{1} x\\right) \\Im \\left( k \\right)^{2}}{{\\left(4 \\, \\kappa_{1} \\sin\\left(a \\kappa_{1}\\right)^{4} - 4 \\, \\kappa_{1} \\sin\\left(a \\kappa_{1}\\right)^{2} + \\kappa_{1}\\right)} \\mu_{1} \\omega} - \\frac{4 \\, \\mathit{Bz}_{1} c \\cos\\left(a \\kappa_{1}\\right)^{2} \\cos\\left(\\kappa_{1} x\\right) \\Re \\left( k \\right)^{2}}{{\\left(4 \\, \\kappa_{1} \\sin\\left(a \\kappa_{1}\\right)^{4} - 4 \\, \\kappa_{1} \\sin\\left(a \\kappa_{1}\\right)^{2} + \\kappa_{1}\\right)} \\mu_{1} \\omega} - \\frac{2 \\, \\mathit{Bz}_{1} c \\kappa_{1}^{2} \\cos\\left(a \\kappa_{1}\\right) \\sin\\left(a \\kappa_{1}\\right) \\sin\\left(\\kappa_{1} x\\right)}{{\\left(4 \\, \\kappa_{1} \\sin\\left(a \\kappa_{1}\\right)^{4} - 4 \\, \\kappa_{1} \\sin\\left(a \\kappa_{1}\\right)^{2} + \\kappa_{1}\\right)} \\mu_{1} \\omega} + \\frac{2 \\, \\mathit{Bz}_{1} c \\cos\\left(a \\kappa_{1}\\right) \\Im \\left( k \\right)^{2} \\sin\\left(a \\kappa_{1}\\right) \\sin\\left(\\kappa_{1} x\\right)}{{\\left(4 \\, \\kappa_{1} \\sin\\left(a \\kappa_{1}\\right)^{4} - 4 \\, \\kappa_{1} \\sin\\left(a \\kappa_{1}\\right)^{2} + \\kappa_{1}\\right)} \\mu_{1} \\omega} - \\frac{2 \\, \\mathit{Bz}_{1} c \\cos\\left(a \\kappa_{1}\\right) \\Re \\left( k \\right)^{2} \\sin\\left(a \\kappa_{1}\\right) \\sin\\left(\\kappa_{1} x\\right)}{{\\left(4 \\, \\kappa_{1} \\sin\\left(a \\kappa_{1}\\right)^{4} - 4 \\, \\kappa_{1} \\sin\\left(a \\kappa_{1}\\right)^{2} + \\kappa_{1}\\right)} \\mu_{1} \\omega} + \\frac{\\mathit{Bz}_{1} c \\kappa_{1}^{2} \\cos\\left(\\kappa_{1} x\\right)}{{\\left(4 \\, \\kappa_{1} \\sin\\left(a \\kappa_{1}\\right)^{4} - 4 \\, \\kappa_{1} \\sin\\left(a \\kappa_{1}\\right)^{2} + \\kappa_{1}\\right)} \\mu_{1} \\omega} - \\frac{\\mathit{Bz}_{1} c \\cos\\left(\\kappa_{1} x\\right) \\Im \\left( k \\right)^{2}}{{\\left(4 \\, \\kappa_{1} \\sin\\left(a \\kappa_{1}\\right)^{4} - 4 \\, \\kappa_{1} \\sin\\left(a \\kappa_{1}\\right)^{2} + \\kappa_{1}\\right)} \\mu_{1} \\omega} + \\frac{\\mathit{Bz}_{1} c \\cos\\left(\\kappa_{1} x\\right) \\Re \\left( k \\right)^{2}}{{\\left(4 \\, \\kappa_{1} \\sin\\left(a \\kappa_{1}\\right)^{4} - 4 \\, \\kappa_{1} \\sin\\left(a \\kappa_{1}\\right)^{2} + \\kappa_{1}\\right)} \\mu_{1} \\omega}\\right)} {\\left(\\frac{2 \\, \\mathit{Bz}_{1} \\omega \\cos\\left(a \\kappa_{1}\\right) \\cos\\left(\\kappa_{1} x\\right) \\sin\\left(a \\kappa_{1}\\right)}{2 \\, \\sin\\left(a \\kappa_{1}\\right)^{2} - 1} - \\frac{2 \\, \\mathit{Bz}_{1} \\omega \\cos\\left(a \\kappa_{1}\\right)^{2} \\sin\\left(\\kappa_{1} x\\right)}{2 \\, \\sin\\left(a \\kappa_{1}\\right)^{2} - 1} + \\frac{\\mathit{Bz}_{1} \\omega \\sin\\left(\\kappa_{1} x\\right)}{2 \\, \\sin\\left(a \\kappa_{1}\\right)^{2} - 1}\\right)} - {\\left(\\frac{4 \\, \\mathit{Bz}_{1} c \\kappa_{1}^{2} \\cos\\left(a \\kappa_{1}\\right)^{4} \\cos\\left(\\kappa_{1} x\\right)}{{\\left(4 \\, \\kappa_{1} \\sin\\left(a \\kappa_{1}\\right)^{4} - 4 \\, \\kappa_{1} \\sin\\left(a \\kappa_{1}\\right)^{2} + \\kappa_{1}\\right)} \\mu_{1}} - \\frac{4 \\, \\mathit{Bz}_{1} c \\cos\\left(a \\kappa_{1}\\right)^{4} \\cos\\left(\\kappa_{1} x\\right) \\Im \\left( k \\right)^{2}}{{\\left(4 \\, \\kappa_{1} \\sin\\left(a \\kappa_{1}\\right)^{4} - 4 \\, \\kappa_{1} \\sin\\left(a \\kappa_{1}\\right)^{2} + \\kappa_{1}\\right)} \\mu_{1}} + \\frac{4 \\, \\mathit{Bz}_{1} c \\cos\\left(a \\kappa_{1}\\right)^{4} \\cos\\left(\\kappa_{1} x\\right) \\Re \\left( k \\right)^{2}}{{\\left(4 \\, \\kappa_{1} \\sin\\left(a \\kappa_{1}\\right)^{4} - 4 \\, \\kappa_{1} \\sin\\left(a \\kappa_{1}\\right)^{2} + \\kappa_{1}\\right)} \\mu_{1}} + \\frac{4 \\, \\mathit{Bz}_{1} c \\kappa_{1}^{2} \\cos\\left(a \\kappa_{1}\\right)^{3} \\sin\\left(a \\kappa_{1}\\right) \\sin\\left(\\kappa_{1} x\\right)}{{\\left(4 \\, \\kappa_{1} \\sin\\left(a \\kappa_{1}\\right)^{4} - 4 \\, \\kappa_{1} \\sin\\left(a \\kappa_{1}\\right)^{2} + \\kappa_{1}\\right)} \\mu_{1}} - \\frac{4 \\, \\mathit{Bz}_{1} c \\cos\\left(a \\kappa_{1}\\right)^{3} \\Im \\left( k \\right)^{2} \\sin\\left(a \\kappa_{1}\\right) \\sin\\left(\\kappa_{1} x\\right)}{{\\left(4 \\, \\kappa_{1} \\sin\\left(a \\kappa_{1}\\right)^{4} - 4 \\, \\kappa_{1} \\sin\\left(a \\kappa_{1}\\right)^{2} + \\kappa_{1}\\right)} \\mu_{1}} + \\frac{4 \\, \\mathit{Bz}_{1} c \\cos\\left(a \\kappa_{1}\\right)^{3} \\Re \\left( k \\right)^{2} \\sin\\left(a \\kappa_{1}\\right) \\sin\\left(\\kappa_{1} x\\right)}{{\\left(4 \\, \\kappa_{1} \\sin\\left(a \\kappa_{1}\\right)^{4} - 4 \\, \\kappa_{1} \\sin\\left(a \\kappa_{1}\\right)^{2} + \\kappa_{1}\\right)} \\mu_{1}} - \\frac{4 \\, \\mathit{Bz}_{1} c \\kappa_{1}^{2} \\cos\\left(a \\kappa_{1}\\right)^{2} \\cos\\left(\\kappa_{1} x\\right)}{{\\left(4 \\, \\kappa_{1} \\sin\\left(a \\kappa_{1}\\right)^{4} - 4 \\, \\kappa_{1} \\sin\\left(a \\kappa_{1}\\right)^{2} + \\kappa_{1}\\right)} \\mu_{1}} + \\frac{4 \\, \\mathit{Bz}_{1} c \\cos\\left(a \\kappa_{1}\\right)^{2} \\cos\\left(\\kappa_{1} x\\right) \\Im \\left( k \\right)^{2}}{{\\left(4 \\, \\kappa_{1} \\sin\\left(a \\kappa_{1}\\right)^{4} - 4 \\, \\kappa_{1} \\sin\\left(a \\kappa_{1}\\right)^{2} + \\kappa_{1}\\right)} \\mu_{1}} - \\frac{4 \\, \\mathit{Bz}_{1} c \\cos\\left(a \\kappa_{1}\\right)^{2} \\cos\\left(\\kappa_{1} x\\right) \\Re \\left( k \\right)^{2}}{{\\left(4 \\, \\kappa_{1} \\sin\\left(a \\kappa_{1}\\right)^{4} - 4 \\, \\kappa_{1} \\sin\\left(a \\kappa_{1}\\right)^{2} + \\kappa_{1}\\right)} \\mu_{1}} - \\frac{2 \\, \\mathit{Bz}_{1} c \\kappa_{1}^{2} \\cos\\left(a \\kappa_{1}\\right) \\sin\\left(a \\kappa_{1}\\right) \\sin\\left(\\kappa_{1} x\\right)}{{\\left(4 \\, \\kappa_{1} \\sin\\left(a \\kappa_{1}\\right)^{4} - 4 \\, \\kappa_{1} \\sin\\left(a \\kappa_{1}\\right)^{2} + \\kappa_{1}\\right)} \\mu_{1}} + \\frac{2 \\, \\mathit{Bz}_{1} c \\cos\\left(a \\kappa_{1}\\right) \\Im \\left( k \\right)^{2} \\sin\\left(a \\kappa_{1}\\right) \\sin\\left(\\kappa_{1} x\\right)}{{\\left(4 \\, \\kappa_{1} \\sin\\left(a \\kappa_{1}\\right)^{4} - 4 \\, \\kappa_{1} \\sin\\left(a \\kappa_{1}\\right)^{2} + \\kappa_{1}\\right)} \\mu_{1}} - \\frac{2 \\, \\mathit{Bz}_{1} c \\cos\\left(a \\kappa_{1}\\right) \\Re \\left( k \\right)^{2} \\sin\\left(a \\kappa_{1}\\right) \\sin\\left(\\kappa_{1} x\\right)}{{\\left(4 \\, \\kappa_{1} \\sin\\left(a \\kappa_{1}\\right)^{4} - 4 \\, \\kappa_{1} \\sin\\left(a \\kappa_{1}\\right)^{2} + \\kappa_{1}\\right)} \\mu_{1}} + \\frac{\\mathit{Bz}_{1} c \\kappa_{1}^{2} \\cos\\left(\\kappa_{1} x\\right)}{{\\left(4 \\, \\kappa_{1} \\sin\\left(a \\kappa_{1}\\right)^{4} - 4 \\, \\kappa_{1} \\sin\\left(a \\kappa_{1}\\right)^{2} + \\kappa_{1}\\right)} \\mu_{1}} - \\frac{\\mathit{Bz}_{1} c \\cos\\left(\\kappa_{1} x\\right) \\Im \\left( k \\right)^{2}}{{\\left(4 \\, \\kappa_{1} \\sin\\left(a \\kappa_{1}\\right)^{4} - 4 \\, \\kappa_{1} \\sin\\left(a \\kappa_{1}\\right)^{2} + \\kappa_{1}\\right)} \\mu_{1}} + \\frac{\\mathit{Bz}_{1} c \\cos\\left(\\kappa_{1} x\\right) \\Re \\left( k \\right)^{2}}{{\\left(4 \\, \\kappa_{1} \\sin\\left(a \\kappa_{1}\\right)^{4} - 4 \\, \\kappa_{1} \\sin\\left(a \\kappa_{1}\\right)^{2} + \\kappa_{1}\\right)} \\mu_{1}}\\right)} {\\left(\\frac{2 \\, \\mathit{Bz}_{1} \\cos\\left(a \\kappa_{1}\\right) \\cos\\left(\\kappa_{1} x\\right) \\sin\\left(a \\kappa_{1}\\right)}{2 \\, \\sin\\left(a \\kappa_{1}\\right)^{2} - 1} - \\frac{2 \\, \\mathit{Bz}_{1} \\cos\\left(a \\kappa_{1}\\right)^{2} \\sin\\left(\\kappa_{1} x\\right)}{2 \\, \\sin\\left(a \\kappa_{1}\\right)^{2} - 1} + \\frac{\\mathit{Bz}_{1} \\sin\\left(\\kappa_{1} x\\right)}{2 \\, \\sin\\left(a \\kappa_{1}\\right)^{2} - 1}\\right)}\\right)} {\\left(\\epsilon_{1} \\mu_{1} - 1\\right)}}{8 \\, \\pi c}$$"
      ],
      "text/plain": [
       "<IPython.core.display.Math object>"
      ]
     },
     "metadata": {},
     "output_type": "display_data"
    },
    {
     "name": "stdout",
     "output_type": "stream",
     "text": [
      "Abraham_f_x_d[ 0 ][ 0 ] =\n"
     ]
    },
    {
     "data": {
      "text/latex": [
       "$$0$$"
      ],
      "text/plain": [
       "<IPython.core.display.Math object>"
      ]
     },
     "metadata": {},
     "output_type": "display_data"
    },
    {
     "name": "stdout",
     "output_type": "stream",
     "text": [
      "Abraham_f_x_d[ 0 ][ 1 ] =\n"
     ]
    },
    {
     "data": {
      "text/latex": [
       "$$-\\frac{\\left(1.45934291649192 \\times 10^{-11}\\right) \\, {\\left({\\left(4.54463047063952 \\times 10^{12} \\, \\cos\\left(195.794467948538 \\, x\\right) - 4.64667151571905 \\times 10^{12} \\, \\sin\\left(195.794467948538 \\, x\\right)\\right)} {\\left(3.56232358466868 \\, \\cos\\left(195.794467948538 \\, x\\right) + 3.48409485249741 \\, \\sin\\left(195.794467948538 \\, x\\right)\\right)} + {\\left(2.23827392066095 \\times 10^{13} \\, \\cos\\left(195.794467948538 \\, x\\right) + 2.18912135860317 \\times 10^{13} \\, \\sin\\left(195.794467948538 \\, x\\right)\\right)} {\\left(-0.723300403928326 \\, \\cos\\left(195.794467948538 \\, x\\right) + 0.739540740650997 \\, \\sin\\left(195.794467948538 \\, x\\right)\\right)}\\right)}}{\\pi}$$"
      ],
      "text/plain": [
       "<IPython.core.display.Math object>"
      ]
     },
     "metadata": {},
     "output_type": "display_data"
    },
    {
     "name": "stdout",
     "output_type": "stream",
     "text": [
      "Abraham_f_x_d[ 1 ][ 0 ] =\n"
     ]
    },
    {
     "data": {
      "text/latex": [
       "$$0$$"
      ],
      "text/plain": [
       "<IPython.core.display.Math object>"
      ]
     },
     "metadata": {},
     "output_type": "display_data"
    },
    {
     "name": "stdout",
     "output_type": "stream",
     "text": [
      "Abraham_f_x_d[ 1 ][ 1 ] =\n"
     ]
    },
    {
     "data": {
      "text/latex": [
       "$$-\\frac{\\left(1.45934291649192 \\times 10^{-11}\\right) \\, {\\left({\\left(2.14453800814454 \\times 10^{12} \\, \\cos\\left(331.688811879251 \\, x\\right) - 5.86422730590038 \\times 10^{12} \\, \\sin\\left(331.688811879251 \\, x\\right)\\right)} {\\left(2.65382196315526 \\, \\cos\\left(331.688811879251 \\, x\\right) + 0.970498203763162 \\, \\sin\\left(331.688811879251 \\, x\\right)\\right)} + {\\left(1.66744551667676 \\times 10^{13} \\, \\cos\\left(331.688811879251 \\, x\\right) + 6.09782005452888 \\times 10^{12} \\, \\sin\\left(331.688811879251 \\, x\\right)\\right)} {\\left(-0.341313824644651 \\, \\cos\\left(331.688811879251 \\, x\\right) + 0.933320763148513 \\, \\sin\\left(331.688811879251 \\, x\\right)\\right)}\\right)}}{\\pi}$$"
      ],
      "text/plain": [
       "<IPython.core.display.Math object>"
      ]
     },
     "metadata": {},
     "output_type": "display_data"
    },
    {
     "name": "stdout",
     "output_type": "stream",
     "text": [
      "Abraham_f_x_d[ 2 ][ 0 ] =\n"
     ]
    },
    {
     "data": {
      "text/latex": [
       "$$0$$"
      ],
      "text/plain": [
       "<IPython.core.display.Math object>"
      ]
     },
     "metadata": {},
     "output_type": "display_data"
    },
    {
     "name": "stdout",
     "output_type": "stream",
     "text": [
      "Abraham_f_x_d[ 2 ][ 1 ] =\n"
     ]
    },
    {
     "data": {
      "text/latex": [
       "$$-\\frac{\\left(1.45934291649192 \\times 10^{-11}\\right) \\, {\\left({\\left(4.54463047063955 \\times 10^{12} \\, \\cos\\left(195.79446794853806 \\, x\\right) - 4.64667151571909 \\times 10^{12} \\, \\sin\\left(195.79446794853806 \\, x\\right)\\right)} {\\left(3.56232358466871 \\, \\cos\\left(195.79446794853806 \\, x\\right) + 3.48409485249743 \\, \\sin\\left(195.79446794853806 \\, x\\right)\\right)} + {\\left(2.23827392066097 \\times 10^{13} \\, \\cos\\left(195.79446794853806 \\, x\\right) + 2.18912135860319 \\times 10^{13} \\, \\sin\\left(195.79446794853806 \\, x\\right)\\right)} {\\left(-0.723300403928331 \\, \\cos\\left(195.79446794853806 \\, x\\right) + 0.739540740651003 \\, \\sin\\left(195.79446794853806 \\, x\\right)\\right)}\\right)}}{\\pi}$$"
      ],
      "text/plain": [
       "<IPython.core.display.Math object>"
      ]
     },
     "metadata": {},
     "output_type": "display_data"
    },
    {
     "name": "stdout",
     "output_type": "stream",
     "text": [
      "Abraham_f_x_d[ 3 ][ 0 ] =\n"
     ]
    },
    {
     "data": {
      "text/latex": [
       "$$0$$"
      ],
      "text/plain": [
       "<IPython.core.display.Math object>"
      ]
     },
     "metadata": {},
     "output_type": "display_data"
    },
    {
     "name": "stdout",
     "output_type": "stream",
     "text": [
      "Abraham_f_x_d[ 3 ][ 1 ] =\n"
     ]
    },
    {
     "data": {
      "text/latex": [
       "$$-\\frac{\\left(1.45934291649192 \\times 10^{-11}\\right) \\, {\\left({\\left(2.14453800814454 \\times 10^{12} \\, \\cos\\left(331.6888118792514 \\, x\\right) - 5.86422730590038 \\times 10^{12} \\, \\sin\\left(331.6888118792514 \\, x\\right)\\right)} {\\left(2.65382196315526 \\, \\cos\\left(331.6888118792514 \\, x\\right) + 0.970498203763162 \\, \\sin\\left(331.6888118792514 \\, x\\right)\\right)} + {\\left(1.66744551667676 \\times 10^{13} \\, \\cos\\left(331.6888118792514 \\, x\\right) + 6.09782005452888 \\times 10^{12} \\, \\sin\\left(331.6888118792514 \\, x\\right)\\right)} {\\left(-0.341313824644651 \\, \\cos\\left(331.6888118792514 \\, x\\right) + 0.933320763148513 \\, \\sin\\left(331.6888118792514 \\, x\\right)\\right)}\\right)}}{\\pi}$$"
      ],
      "text/plain": [
       "<IPython.core.display.Math object>"
      ]
     },
     "metadata": {},
     "output_type": "display_data"
    }
   ],
   "source": [
    "# Abraham force\n",
    "# (epsilon * mu - 1) / (4 * pi * c) * ([E x H]).diff(t)\n",
    "# (epsilon * mu - 1) / (4 * pi * c) * ([E.diff(t) x H] + [E x H.diff(t)])\n",
    "# ([a x b])_x = a_y * b_z - a_z * b_y\n",
    "# f_x = (epsilon * mu - 1) / (4 * pi * c) * (-E_z.diff(t) * H_y - E_z * H_y.diff(t))\n",
    "# E_z.diff(t) = -I * omega * E_z\n",
    "# H_y.diff(t) = -I * omega * H_y\n",
    "\n",
    "# ---f_x = (epsilon * mu - 1) / (4 * pi * c) * (E_z * H_y + E_z * H_y) * I * omega\n",
    "# ---f_x = (epsilon * mu - 1) / (2 * pi * c) * (E_z * H_y) * I * omega\n",
    "\n",
    "#\n",
    "# alpha = - omega * t\n",
    "#\n",
    "\n",
    "# f_x = (epsilon * mu - 1) / (4 * pi * c) * \n",
    "#       integrate(\n",
    "#         ( - Re(-I*omega * E_z * e^alpha) * Re(H_y * e^alpha)) +\n",
    "#         ( - Re(E_z * e^alpha) * Re(-I*omega * H_y * e^alpha)) \n",
    "#       (alpha, 0, 2*pi))\n",
    "\n",
    "\n",
    "# f_x = (epsilon * mu - 1) / (2 * 4 * pi * c) * (\n",
    "#             ( - Re(-I*omega * E_z) * Re(H_y) - Im(-I*omega * E_z) * Im(H_y)) +\n",
    "#             ( - Re(E_z) * Re(-I*omega * H_y) - Im(E_z) * Im(-I*omega * H_y)) \n",
    "#       )\n",
    "\n",
    "Abraham_f_x = []\n",
    "for i in range(n_layers):\n",
    "    # Abraham_f_x   += [ lambda x, i=i : ((epsilon[i] * mu[i] - 1) / (2 * pi * c) * (Ez_res[i] (x) * Hy_res[i] (x)) * I * omega).full_simplify()]\n",
    "    Abraham_f_x += [ lambda x, i=i : (epsilon[i] * mu[i] - 1) / (8 * pi * c) * \\\n",
    "        ( \\\n",
    "            - ( -I * omega * Ez_res[i] (x)).real_part() * (Hy_res[i](x)).real_part() \\\n",
    "            - ( -I * omega * Ez_res[i] (x)).imag_part() * (Hy_res[i](x)).imag_part() \\\n",
    "            - (Ez_res[i] (x)).real_part() * ( -I * omega * Hy_res[i](x)).real_part() \\\n",
    "            - (Ez_res[i] (x)).imag_part() * ( -I * omega * Hy_res[i](x)).imag_part() \\\n",
    "        ) ]\n",
    "    print(\"Abraham_f_x =\")\n",
    "    display(Math(latex(Abraham_f_x[i](x))))\n",
    "    \n",
    "Abraham_f_x_d = []\n",
    "for j in range(len(digit_kappas_k)):\n",
    "    Abraham_f_x_d += [[]]\n",
    "    for i in range(n_layers):\n",
    "        # Abraham_f_x_d[j] += [ lambda x, i=i : ((epsilon[i] * mu[i] - 1) / (2 * pi * c) * (Ez_d[j][i] (x) * Hy_d[j][i] (x)) * I * omega).subs(digit_values) ]\n",
    "        Abraham_f_x_d[j] += [ lambda x, i=i : ((epsilon[i] * mu[i] - 1) / (8 * pi * c) * \\\n",
    "            ( \\\n",
    "                - ( -I * omega * Ez_d[j][i] (x)).real_part() * (Hy_d[j][i](x)).real_part() \\\n",
    "                - ( -I * omega * Ez_d[j][i] (x)).imag_part() * (Hy_d[j][i](x)).imag_part() \\\n",
    "                - (Ez_d[j][i] (x)).real_part() * ( -I * omega * Hy_d[j][i](x)).real_part() \\\n",
    "                - (Ez_d[j][i] (x)).imag_part() * ( -I * omega * Hy_d[j][i](x)).imag_part() \\\n",
    "            )).subs(digit_values) ]\n",
    "        print(\"Abraham_f_x_d[\", j, \"][\", i, \"] =\")\n",
    "        display(Math(latex(Abraham_f_x_d[j][i](x))))"
   ]
  },
  {
   "cell_type": "code",
   "execution_count": 67,
   "metadata": {},
   "outputs": [
    {
     "data": {
      "image/png": "[encoded data removed]",
      "text/plain": [
       "Graphics object consisting of 2 graphics primitives"
      ]
     },
     "metadata": {},
     "output_type": "display_data"
    },
    {
     "data": {
      "image/png": "[encoded data removed]",
      "text/plain": [
       "Graphics object consisting of 2 graphics primitives"
      ]
     },
     "metadata": {},
     "output_type": "display_data"
    },
    {
     "data": {
      "image/png": "[encoded data removed]",
      "text/plain": [
       "Graphics object consisting of 2 graphics primitives"
      ]
     },
     "metadata": {},
     "output_type": "display_data"
    },
    {
     "data": {
      "image/png": "[encoded data removed]",
      "text/plain": [
       "Graphics object consisting of 2 graphics primitives"
      ]
     },
     "metadata": {},
     "output_type": "display_data"
    }
   ],
   "source": [
    "for j in range(len(digit_kappas_k)):\n",
    "    p = sage.plot.graphics.Graphics()\n",
    "    for i in range(n_layers):\n",
    "        p += plot(Abraham_f_x_d[j][i] (x), (x, i*A, (i+1)*A))\n",
    "\n",
    "    p.show()"
   ]
  },
  {
   "cell_type": "code",
   "execution_count": 68,
   "metadata": {},
   "outputs": [
    {
     "name": "stdout",
     "output_type": "stream",
     "text": [
      "Abraham_F_x[ 0 ][ 0 ]= 0\n",
      "Abraham_F_x[ 0 ][ 1 ]= -(2.2267805732603685e-16)/pi\n",
      "Abraham_F_x = -(2.2267805732603685e-16)/pi\n",
      "Abraham_F_x[ 1 ][ 0 ]= 0\n",
      "Abraham_F_x[ 1 ][ 1 ]= -(1.3395476886019405e-16)/pi\n",
      "Abraham_F_x = -(1.3395476886019405e-16)/pi\n",
      "Abraham_F_x[ 2 ][ 0 ]= 0\n",
      "Abraham_F_x[ 2 ][ 1 ]= 0\n",
      "Abraham_F_x = 0\n",
      "Abraham_F_x[ 3 ][ 0 ]= 0\n",
      "Abraham_F_x[ 3 ][ 1 ]= -(1.3395476886019405e-16)/pi\n",
      "Abraham_F_x = -(1.3395476886019405e-16)/pi\n"
     ]
    }
   ],
   "source": [
    "Abraham_F_x = []\n",
    "for j in range(len(digit_kappas_k)):\n",
    "    Abraham_F_x += [0]\n",
    "    for i in range(n_layers):\n",
    "        Abraham_F_x_i = integrate(Abraham_f_x_d[j][i] (x), (x, i*A, (i+1)*A))\n",
    "        print(\"Abraham_F_x[\", j, \"][\", i, \"]=\", Abraham_F_x_i)\n",
    "        Abraham_F_x[j] += Abraham_F_x_i\n",
    "    print(\"Abraham_F_x =\", Abraham_F_x[j])"
   ]
  },
  {
   "cell_type": "code",
   "execution_count": 69,
   "metadata": {},
   "outputs": [
    {
     "name": "stdout",
     "output_type": "stream",
     "text": [
      "6.551787079114686*I\n",
      "2.825159965291056*I\n",
      "6.55178707911470*I\n",
      "2.82515996529106*I\n"
     ]
    }
   ],
   "source": [
    "for j in range(len(digit_kappas_k)):\n",
    "    print(Hy_d[j][0] (0))"
   ]
  },
  {
   "cell_type": "code",
   "execution_count": 70,
   "metadata": {},
   "outputs": [
    {
     "name": "stdout",
     "output_type": "stream",
     "text": [
      "-4.98287730764923*I\n",
      "2.82571013652016*I\n",
      "-4.98287730764927*I\n",
      "2.82571013652016*I\n"
     ]
    }
   ],
   "source": [
    "for j in range(len(digit_kappas_k)):\n",
    "    print(Hy_d[j][n_layers-1] (n_layers * A))"
   ]
  },
  {
   "cell_type": "code",
   "execution_count": 71,
   "metadata": {},
   "outputs": [
    {
     "name": "stdout",
     "output_type": "stream",
     "text": [
      "f_superconductor_[ 0 ]_down = -5.36573924125677/pi\n",
      "f_superconductor_[ 0 ]_up = 3.10363328288570/pi\n",
      "f_superconductor[ 0 ] = -2.26210595837107/pi\n",
      "f_superconductor_[ 1 ]_down = -0.9976911036854202/pi\n",
      "f_superconductor_[ 1 ]_up = 0.998079721954095/pi\n",
      "f_superconductor[ 1 ] = 0.000388618268674312/pi\n",
      "f_superconductor_[ 2 ]_down = -5.36573924125679/pi\n",
      "f_superconductor_[ 2 ]_up = 3.10363328288575/pi\n",
      "f_superconductor[ 2 ] = -2.26210595837104/pi\n",
      "f_superconductor_[ 3 ]_down = -0.997691103685421/pi\n",
      "f_superconductor_[ 3 ]_up = 0.998079721954095/pi\n",
      "f_superconductor[ 3 ] = 0.000388618268673424/pi\n"
     ]
    }
   ],
   "source": [
    "# superconductor force\n",
    "f_superconductor = []\n",
    "for j in range(len(digit_kappas_k)):\n",
    "    f_superconductor_j_down = - abs(((Hy_d[j][0] (0))^2) / (8* pi))\n",
    "    f_superconductor_j_up   = + abs(((Hy_d[j][n_layers-1] (n_layers * A))^2) / (8* pi))\n",
    "    f_superconductor_j = f_superconductor_j_down + f_superconductor_j_up\n",
    "    print(\"f_superconductor_[\", j, \"]_down =\", f_superconductor_j_down)\n",
    "    print(\"f_superconductor_[\", j, \"]_up =\", f_superconductor_j_up)\n",
    "    print(\"f_superconductor[\", j, \"] =\", f_superconductor_j)\n",
    "    \n",
    "    f_superconductor += [f_superconductor_j]"
   ]
  },
  {
   "cell_type": "code",
   "execution_count": 72,
   "metadata": {},
   "outputs": [
    {
     "name": "stdout",
     "output_type": "stream",
     "text": [
      "f_sum = -2.26210595837107/pi\n",
      "f_sum = 0.000388618268674178/pi\n",
      "f_sum = -2.26210595837104/pi\n",
      "f_sum = 0.000388618268673290/pi\n"
     ]
    }
   ],
   "source": [
    "for j in range(len(digit_kappas_k)):\n",
    "    f_sum = Abraham_F_x[j] + f_superconductor[j]\n",
    "    print(\"f_sum =\", f_sum)"
   ]
  },
  {
   "cell_type": "code",
   "execution_count": 73,
   "metadata": {},
   "outputs": [],
   "source": [
    "f_dielectric_surf_z_ = []\n",
    "f_dielectric_surf_x_ = []\n",
    "border_h = []\n",
    "for i in range(n_layers - 1):\n",
    "    if 0 == i:\n",
    "        border_h += [a*(i+1)]\n",
    "    else:\n",
    "        border_h += [a*(i+1)]\n",
    "\n",
    "    fE_susbtitutions = [a == A, Bz_0 == 1]\n",
    "    if i > 0:\n",
    "        fE_susbtitutions += [Bz_eqs[i-1]]\n",
    "\n",
    "\n",
    "    f_dielectric_surf_z_ += [lambda i=i: (epsilon[i]-epsilon[i+1]) *\n",
    "                              E2_8pi_z[i  ](border_h[i]).subs(fE_susbtitutions)]\n",
    "\n",
    "    f_dielectric_surf_x_ += [lambda i=i: (epsilon[i]-epsilon[i+1])*\n",
    "                             (epsilon[i]/epsilon[i+1])*\n",
    "                             E2_8pi_x[i  ](border_h[i]).subs(fE_susbtitutions)]\n",
    "    #f_dielectric_surf_x += [(epsilon_d[i]-epsilon_d[i+1])*\n",
    "    #                        (epsilon_d[i+1]/epsilon_d[i])*\n",
    "    #                        E2_8pi_x[i+1](rh,ph,border_h[i], 1)]\n",
    "\n",
    "f_dielectric_surf_ = sum ([f_dielectric_surf_z_[i]() + \n",
    "                                          f_dielectric_surf_x_[i]() for i in range(n_layers - 1)])"
   ]
  },
  {
   "cell_type": "code",
   "execution_count": 74,
   "metadata": {},
   "outputs": [
    {
     "data": {
      "text/plain": [
       "1/16*(epsilon_0 - epsilon_1)*sin(0.0100000000000000*kappa_0)^2/pi + 1/16*(cos(0.0100000000000000*kappa_0)^2*imag_part(k)^2/kappa_0^2 + cos(0.0100000000000000*kappa_0)^2*real_part(k)^2/kappa_0^2)*(epsilon_0 - epsilon_1)*epsilon_0/(pi*epsilon_1)"
      ]
     },
     "execution_count": 74,
     "metadata": {},
     "output_type": "execute_result"
    }
   ],
   "source": [
    "f_dielectric_surf_"
   ]
  },
  {
   "cell_type": "code",
   "execution_count": 75,
   "metadata": {},
   "outputs": [
    {
     "data": {
      "text/plain": [
       "-0.0312500000000000*sin(0.0100000000000000*kappa_0)^2/pi - 0.0277777777777778*(cos(0.0100000000000000*kappa_0)^2*imag_part(k)^2/kappa_0^2 + cos(0.0100000000000000*kappa_0)^2*real_part(k)^2/kappa_0^2)/pi"
      ]
     },
     "execution_count": 75,
     "metadata": {},
     "output_type": "execute_result"
    }
   ],
   "source": [
    "f_dielectric_surf_.subs(digit_values)"
   ]
  },
  {
   "cell_type": "code",
   "execution_count": 81,
   "metadata": {},
   "outputs": [
    {
     "name": "stdout",
     "output_type": "stream",
     "text": [
      "0 -0.0509611197702992/pi\n",
      "1 -0.0277576551362235/pi\n",
      "2 -0.0509611197702994/pi\n",
      "3 -0.0277576551362235/pi\n"
     ]
    }
   ],
   "source": [
    "for j in range(len(digit_kappas_k)):\n",
    "    print(j, f_dielectric_surf_.subs(digit_values).subs(digit_kappas_k[j]))"
   ]
  },
  {
   "cell_type": "code",
   "execution_count": null,
   "metadata": {},
   "outputs": [],
   "source": []
  }
 ],
 "metadata": {
  "kernelspec": {
   "display_name": "SageMath 9.1",
   "language": "sage",
   "name": "sagemath"
  },
  "language_info": {
   "codemirror_mode": {
    "name": "ipython",
    "version": 3
   },
   "file_extension": ".py",
   "mimetype": "text/x-python",
   "name": "python",
   "nbconvert_exporter": "python",
   "pygments_lexer": "ipython3",
   "version": "3.7.9"
  }
 },
 "nbformat": 4,
 "nbformat_minor": 2
}
