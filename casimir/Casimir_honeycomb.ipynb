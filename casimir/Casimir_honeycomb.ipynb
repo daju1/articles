{
 "cells": [
  {
   "cell_type": "markdown",
   "metadata": {},
   "source": [
    "https://www.dwc.knaw.nl/DL/publications/PU00018547.pdf\n",
    "\n",
    "Mathematics.\n",
    "\n",
    "# On the force to perfectly conducting honeycomb on a plate.\n",
    "\n",
    "By A. Ju. Drozdov\n",
    "\n",
    "(Feb 14. 2021. - Feb 09. 2022) "
   ]
  },
  {
   "cell_type": "markdown",
   "metadata": {},
   "source": [
    "Let us consider a cubic cavity of volume $L^3$ bounded by perfectly conducting walls and let a perfectly conducting square plate with side $L$ be\n",
    "placed in this cavity parallel to the $xy$ face and let us compare the\n",
    "situation in whieh this plate is at a very large, say $L/2$ distance a from the $xy$ face. \n",
    "\n",
    "One side of this perfectly conducting square plate is a pure plane and other is covered by perfectly conducting honeycomb.\n",
    "\n",
    "On both sided of the the plate\n",
    "expressions $\\frac{1}{2}\\sum\\,\\hbar\\omega$ where the summation extends over all possible\n",
    "resonance frequencies of the cavity $L/2\\times L\\times L$ (large cavity beetween pure plane and $xy$ face) and the cavity $L/2\\times a\\times a$ (small cavity, one honeycomb) are divergent and devoid of physical\n",
    "meaning but the difference between these sums on the opposite sides,\n",
    "$\\frac{1}{2\\,V_{I}}\\left(\\sum\\,\\,\\hbar\\omega\\right)_{I} - \\frac{1}{2\\,V_{II}}\\left(\\sum\\,\\,\\hbar\\omega\\right)_{II}$, will be shown to have a weIl defined value and this\n",
    "value will be interpreted as the interaction between the plate and the both\n",
    "$xy$ faces."
   ]
  },
  {
   "cell_type": "markdown",
   "metadata": {},
   "source": [
    "The possible vibrations of the cavities defined by "
   ]
  },
  {
   "cell_type": "markdown",
   "metadata": {},
   "source": [
    "$0<=x<=L$, $0<=y<=L$, $0<=z<=L/2$ (large cavity beetween pure plane and $xy$ face)"
   ]
  },
  {
   "cell_type": "markdown",
   "metadata": {},
   "source": [
    "and"
   ]
  },
  {
   "cell_type": "markdown",
   "metadata": {},
   "source": [
    "$0<=x<=a$, $0<=y<=a$, $0<=z<=L/2$ (small cavity, one honeycomb)"
   ]
  },
  {
   "cell_type": "markdown",
   "metadata": {},
   "source": [
    "have wave numbers "
   ]
  },
  {
   "cell_type": "markdown",
   "metadata": {},
   "source": [
    "$k_x = \\frac{\\pi}{L}\\,n_x$, $k_y = \\frac{\\pi}{L}\\,n_y$, $k_z = \\frac{\\pi}{L/2}\\,n_z$ (large cavity beetween pure plane and $xy$ face),"
   ]
  },
  {
   "cell_type": "markdown",
   "metadata": {},
   "source": [
    "and"
   ]
  },
  {
   "cell_type": "markdown",
   "metadata": {},
   "source": [
    "$k_x = \\frac{\\pi}{a}\\,n_x$, $k_y = \\frac{\\pi}{a}\\,n_y$, $k_z = \\frac{\\pi}{L/2}\\,n_z$ (small cavity, one honeycomb),\n",
    "\n",
    "where $n_x$. $n_y$, $n_z$:\n",
    "\n",
    "are positive integers;"
   ]
  },
  {
   "cell_type": "markdown",
   "metadata": {},
   "source": [
    "$k = \\sqrt{k_x^2+k_y^2+k_z^2} = \\sqrt{\\kappa^2+k_z^2}$. "
   ]
  },
  {
   "cell_type": "markdown",
   "metadata": {},
   "source": [
    "$E = \\frac{1}{2}\\sum\\,\\hbar\\omega = \\hbar\\,c\\frac{1}{2}\\sum\\limits_{n_x}^{}\\sum\\limits_{n_y}^{}\\sum\\limits_{n_z}^{}k$"
   ]
  },
  {
   "cell_type": "markdown",
   "metadata": {},
   "source": [
    "To every $k_x$, $k_y$, $k_z$ correspond two standing waves unless one of the $n_i$\n",
    "is zero, when there is only one."
   ]
  },
  {
   "cell_type": "markdown",
   "metadata": {},
   "source": [
    "In case of one honeycomb cavity for $k_z$ this is without importance since\n",
    "for very large $L/2$ we may regard $k_z$ as continuous variable. Thus we\n",
    "find "
   ]
  },
  {
   "cell_type": "markdown",
   "metadata": {},
   "source": [
    "$\\frac{1}{2}\\sum\\,\\hbar\\omega = \\hbar\\,c\\frac{1}{2}\\int\\limits_{0}^{\\infty}\\left[{\\sqrt{k_z^2}+2\\sum\\limits_{n_x=1}^{\\infty}\\sum\\limits_{n_y=1}^{\\infty}\\sqrt{n_x^2\\frac{\\pi^2}{a^2}+n_y^2\\frac{\\pi^2}{a^2}+k_z^2}}\\right]d{n_z}$  (small cavity, one honeycomb),"
   ]
  },
  {
   "cell_type": "markdown",
   "metadata": {},
   "source": [
    "$dn_z = \\frac{L/2}{\\pi}\\,dk_z$,"
   ]
  },
  {
   "cell_type": "markdown",
   "metadata": {},
   "source": [
    "$\\frac{1}{2\\,V}\\sum\\,\\hbar\\omega = \\frac{1}{a^2\\,L/2}\\hbar\\,c\\frac{1}{2}\\int\\limits_{0}^{\\infty}\\left[{\\sqrt{k_z^2}+2\\sum\\limits_{n_x=1}^{\\infty}\\sum\\limits_{n_y=1}^{\\infty}\\sqrt{n_x^2\\frac{\\pi^2}{a^2}+n_y^2\\frac{\\pi^2}{a^2}+k_z^2}}\\right]\\frac{L/2}{\\pi}\\,dk_z$  (small cavity, one honeycomb),"
   ]
  },
  {
   "cell_type": "markdown",
   "metadata": {},
   "source": [
    "$\\frac{1}{2\\,V}\\sum\\,\\hbar\\omega = \\frac{1}{a^2\\,\\pi}\\hbar\\,c\\int\\limits_{0}^{\\infty}\\left[{\\frac{1}{2}\\sqrt{k_z^2}+\\sum\\limits_{n_x=1}^{\\infty}\\sum\\limits_{n_y=1}^{\\infty}\\sqrt{n_x^2\\frac{\\pi^2}{a^2}+n_y^2\\frac{\\pi^2}{a^2}+k_z^2}}\\right]\\,dk_z$  (small cavity, one honeycomb),"
   ]
  },
  {
   "cell_type": "markdown",
   "metadata": {},
   "source": [
    "$\\frac{1}{2\\,V}\\sum\\,\\hbar\\omega = \\frac{1}{a^2\\,\\pi}\\hbar\\,c\\int\\limits_{0}^{\\infty}\\left[{\\sum\\limits_{n_x=(0)1}^{\\infty}\\sum\\limits_{n_y=(0)1}^{\\infty}\\sqrt{n_x^2\\frac{\\pi^2}{a^2}+n_y^2\\frac{\\pi^2}{a^2}+k_z^2}}\\right]\\,dk_z$  (small cavity, one honeycomb),"
   ]
  },
  {
   "cell_type": "markdown",
   "metadata": {},
   "source": [
    "where the notation $\\left(0\\right) 1$ is meant to indicate that the term with $n_x = 0$ and $n_y = 0$\n",
    "has to be multiplied by $\\frac{1}{2}$. "
   ]
  },
  {
   "cell_type": "markdown",
   "metadata": {},
   "source": [
    "$\\frac{1}{2\\,V}\\sum\\,\\hbar\\omega = \\frac{1}{a^2\\,\\pi}\\hbar\\,c\\sum\\limits_{n_x=(0)1}^{\\infty}\\sum\\limits_{n_y=(0)1}^{\\infty}\\left[\\int\\limits_{0}^{\\infty}\\sqrt{n_x^2\\frac{\\pi^2}{a^2}+n_y^2\\frac{\\pi^2}{a^2}+k_z^2}\\,dk_z\\right]$  (small cavity, one honeycomb),"
   ]
  },
  {
   "cell_type": "code",
   "execution_count": null,
   "metadata": {},
   "outputs": [],
   "source": []
  },
  {
   "cell_type": "markdown",
   "metadata": {},
   "source": [
    "And in case of large cavity for $k_x$, $k_y$ this is without importance since\n",
    "for very large $L$ we may regard $k_x$, $k_y$ as continuous variables. Thus we\n",
    "find "
   ]
  },
  {
   "cell_type": "markdown",
   "metadata": {},
   "source": [
    "$\\frac{1}{2}\\sum\\,\\hbar\\omega = \\hbar\\,c\\frac{1}{2}\\int\\limits_{0}^{\\infty}\\int\\limits_{0}^{\\infty}\\left[{\\sqrt{k_x^2+k_y^2}+2\\sum\\limits_{n_z=1}^{\\infty}\\sqrt{n_z^2\\frac{\\pi^2}{(L/2)^2}+k_x^2+k_y^2}}\\right]d{n_x}d{n_y}$ (large cavity beetween pure plane and $xy$ face),"
   ]
  },
  {
   "cell_type": "markdown",
   "metadata": {},
   "source": [
    "For very large $L/2$ also this last summation may\n",
    "be replaced by an integral and it is therefore easily seen that our interaction energy is given by "
   ]
  },
  {
   "cell_type": "markdown",
   "metadata": {},
   "source": [
    "$\\frac{1}{2}\\sum\\,\\hbar\\omega = \\hbar\\,c\\int\\limits_{0}^{\\infty}\\int\\limits_{0}^{\\infty}\\int\\limits_{0}^{\\infty}\\sqrt{k_z^2+k_x^2+k_y^2}\\,d{n_x}\\,d{n_y}\\,d{n_z}$ (large cavity beetween pure plane and $xy$ face),"
   ]
  },
  {
   "cell_type": "markdown",
   "metadata": {},
   "source": [
    "$dn_x = \\frac{L}{\\pi}\\,dk_x$, $dn_y = \\frac{L}{\\pi}\\,dk_y$, $dn_z = \\frac{L/2}{\\pi}\\,dk_z$,"
   ]
  },
  {
   "cell_type": "markdown",
   "metadata": {},
   "source": [
    "$\\frac{1}{2\\,V}\\sum\\,\\hbar\\omega = \\frac{1}{L^3/2}\\hbar\\,c\\int\\limits_{0}^{\\infty}\\int\\limits_{0}^{\\infty}\\int\\limits_{0}^{\\infty}\\sqrt{k_z^2+k_x^2+k_y^2}\\,dn_x\\,dn_y\\,\\frac{L/2}{\\pi}\\,dk_z$ (large cavity beetween pure plane and $xy$ face),"
   ]
  },
  {
   "cell_type": "markdown",
   "metadata": {},
   "source": [
    "$\\frac{1}{2\\,V}\\sum\\,\\hbar\\omega = \\frac{1}{L^2\\,\\pi}\\hbar\\,c\\int\\limits_{0}^{\\infty}\\int\\limits_{0}^{\\infty}\\left[\\,\\int\\limits_{0}^{\\infty}\\sqrt{k_z^2+k_x^2+k_y^2}\\,dk_z\\right]\\,dn_x\\,dn_y$ (large cavity beetween pure plane and $xy$ face),"
   ]
  },
  {
   "cell_type": "code",
   "execution_count": null,
   "metadata": {},
   "outputs": [],
   "source": []
  },
  {
   "cell_type": "markdown",
   "metadata": {},
   "source": [
    "$\\frac{1}{2\\,V}\\sum\\,\\hbar\\omega = \\frac{1}{a^2\\,\\pi}\\hbar\\,c\\sum\\limits_{n_x=(0)1}^{\\infty}\\sum\\limits_{n_y=(0)1}^{\\infty}\\left[\\,\\int\\limits_{0}^{\\infty}\\sqrt{n_x^2\\frac{\\pi^2}{a^2}+n_y^2\\frac{\\pi^2}{a^2}+k_z^2}\\,dk_z\\right]$  (small cavity, one honeycomb),"
   ]
  },
  {
   "cell_type": "markdown",
   "metadata": {},
   "source": [
    "$\\frac{1}{2\\,V}\\sum\\,\\hbar\\omega = \\frac{1}{L^2\\,\\pi}\\hbar\\,c\\int\\limits_{0}^{\\infty}\\int\\limits_{0}^{\\infty}\\left[\\,\\int\\limits_{0}^{\\infty}\\sqrt{k_x^2+k_y^2+k_z^2}\\,dk_z\\right]\\,dn_x\\,dn_y$ (large cavity beetween pure plane and $xy$ face),"
   ]
  },
  {
   "cell_type": "markdown",
   "metadata": {},
   "source": [
    "$\\frac{1}{2\\,V}\\sum\\,\\hbar\\omega = \\frac{1}{L^2\\,\\pi}\\hbar\\,c\\int\\limits_{0}^{\\infty}\\int\\limits_{0}^{\\infty}\\left[\\,\\int\\limits_{0}^{\\infty}\\sqrt{k_x^2+k_y^2+k_z^2}\\,dk_z\\right]\\,\\left(\\frac{L}{\\pi}dk_x\\right)\\,\\left(\\frac{L}{\\pi}dk_y\\right)$ (large cavity beetween pure plane and $xy$ face),"
   ]
  },
  {
   "cell_type": "markdown",
   "metadata": {},
   "source": [
    "$\\frac{a^2}{2\\,V}\\sum\\,\\hbar\\omega = \\frac{1}{\\pi}\\hbar\\,c\\int\\limits_{0}^{\\infty}\\int\\limits_{0}^{\\infty}\\left[\\,\\int\\limits_{0}^{\\infty}\\sqrt{k_x^2+k_y^2+k_z^2}\\,dk_z\\right]\\,\\left(\\frac{a}{\\pi}dk_x\\right)\\,\\left(\\frac{a}{\\pi}dk_y\\right)$ (large cavity beetween pure plane and $xy$ face),"
   ]
  },
  {
   "cell_type": "markdown",
   "metadata": {},
   "source": [
    "$\\frac{1}{2\\,V}\\sum\\,\\hbar\\omega = \\frac{1}{a^2\\,\\pi}\\hbar\\,c\\int\\limits_{0}^{\\infty}\\int\\limits_{0}^{\\infty}\\left[\\,\\int\\limits_{0}^{\\infty}\\sqrt{k_x^2+k_y^2+k_z^2}\\,dk_z\\right]\\,\\left(\\frac{a}{\\pi}dk_x\\right)\\,\\left(\\frac{a}{\\pi}dk_y\\right)$ (large cavity beetween pure plane and $xy$ face),"
   ]
  },
  {
   "cell_type": "markdown",
   "metadata": {},
   "source": [
    "it is therefore easily seen that our interaction energy is given by "
   ]
  },
  {
   "cell_type": "markdown",
   "metadata": {},
   "source": [
    "$\\delta\\,\\frac{E}{V} = \\frac{1}{a^2\\,\\pi}\\hbar\\,c\\left\\{\\sum\\limits_{n_x=(0)1}^{\\infty}\\sum\\limits_{n_y=(0)1}^{\\infty}\\left[\\,\\int\\limits_{0}^{\\infty}\\sqrt{n_x^2\\frac{\\pi^2}{a^2}+n_y^2\\frac{\\pi^2}{a^2}+k_z^2}\\,dk_z\\right] - \\int\\limits_{0}^{\\infty}\\int\\limits_{0}^{\\infty}\\left[\\,\\int\\limits_{0}^{\\infty}\\sqrt{k_x^2+k_y^2+k_z^2}\\,dk_z\\right]\\,\\left(\\frac{a}{\\pi}dk_x\\right)\\,\\left(\\frac{a}{\\pi}dk_y\\right)\\right\\}$"
   ]
  },
  {
   "cell_type": "markdown",
   "metadata": {},
   "source": [
    "$\\delta\\,\\frac{E}{V} = \\frac{1}{a^2\\,\\pi}\\hbar\\,c\\left\\{\\sum\\limits_{n_x=(0)1}^{\\infty}\\sum\\limits_{n_y=(0)1}^{\\infty}\\left[\\,\\int\\limits_{0}^{\\infty}\\sqrt{n_x^2\\frac{\\pi^2}{a^2}+n_y^2\\frac{\\pi^2}{a^2}+k_z^2}\\,dk_z\\right] - \\int\\limits_{0}^{\\infty}\\int\\limits_{0}^{\\infty}\\left[\\,\\int\\limits_{0}^{\\infty}\\sqrt{k_x^2+k_y^2+k_z^2}\\,dk_z\\right]\\,dn_x\\,dn_y\\right\\}$"
   ]
  },
  {
   "cell_type": "code",
   "execution_count": null,
   "metadata": {},
   "outputs": [],
   "source": []
  },
  {
   "cell_type": "markdown",
   "metadata": {},
   "source": [
    "${\\left(\\frac{E}{V}\\right)_{small\\,cavity} = \\frac{1}{a^2}\\hbar \\, \\sum\\limits_{n_x=(0)1}^{\\infty}\\sum\\limits_{n_y=(0)1}^{\\infty}\\,\\int\\limits_{0}^{\\infty} {\\frac {dk_{z}}{\\pi}}\\omega _{n_x,n_y}.}$"
   ]
  },
  {
   "cell_type": "markdown",
   "metadata": {},
   "source": [
    "where $\\omega _{n_x,n_y} = c\\,\\sqrt{n_x^2\\frac{\\pi^2}{a^2}+n_y^2\\frac{\\pi^2}{a^2}+k_z^2}$"
   ]
  },
  {
   "cell_type": "markdown",
   "metadata": {},
   "source": [
    "This expression is clearly infinite, and to proceed with the calculation, it is convenient to introduce a regulator."
   ]
  },
  {
   "cell_type": "markdown",
   "metadata": {},
   "source": [
    "In order to obtain a finite result it is necessary to multiply the integrands\n",
    "by a function $f(k/k_m)$ which is unity for $k << k_m$ but tends to zero sufficiently rapidly for $(k/k_m)\\, \\rightarrow\\,\\infty$. where km may be defined by $f(1) = \\frac{1}{2}$.\n",
    "The physical meaning is obvious: for very short waves (X~rays e.g.)\n",
    "our plate is hardly an obstacle at all and therefore the zero point energy\n",
    "of these waves will not be influenced by the position of this plate. "
   ]
  },
  {
   "cell_type": "markdown",
   "metadata": {},
   "source": [
    "The regulator will serve to make the expression finite, and in the end will be removed. The regulated version of the energy per unit-area of the plate is"
   ]
  },
  {
   "cell_type": "markdown",
   "metadata": {},
   "source": [
    "Introducing the variable $u^2 = a^2\\,k_z^2/\\pi^2$"
   ]
  },
  {
   "cell_type": "markdown",
   "metadata": {},
   "source": [
    "$du = a/\\pi\\,dk_z$"
   ]
  },
  {
   "cell_type": "markdown",
   "metadata": {},
   "source": [
    "\\begin{equation}\n",
    "\\delta\\,\\frac{E}{V} = \\frac{\\hbar\\,c\\,\\pi}{a^4}\\left\\{\n",
    "\\sum\\limits_{n_x=\\left(0\\right)\\,1}^{\\infty}\n",
    "\\sum\\limits_{n_y=\\left(0\\right)\\,1}^{\\infty}\n",
    "\\int\\limits_{0}^{\\infty}\n",
    "{\\sqrt{n_x^2 + n_y^2 + u^2}}\n",
    "f\\left(\\frac{\\pi\\sqrt{n_x^2 + n_y^2 + u^2}}{a\\,k_m}\\right)\n",
    "\\,d{u}\n",
    "-\n",
    "\\int\\limits_{0}^{\\infty}\n",
    "\\int\\limits_{0}^{\\infty}\n",
    "\\int\\limits_{0}^{\\infty}\n",
    "{\\sqrt{n_x^2 + n_y^2 + u^2}}\n",
    "f\\left(\\frac{\\pi\\sqrt{n_x^2 + n_y^2 + u^2}}{a\\,k_m}\\right)\n",
    "\\,d{u}\\,d{n_x}\\,d{n_y}\n",
    "\\right\\}\n",
    "\\end{equation}"
   ]
  },
  {
   "cell_type": "markdown",
   "metadata": {},
   "source": [
    "\\begin{equation}\n",
    "F\\left(n_x, n_y\\right) = \n",
    "\\int\\limits_{0}^{\\infty}{\\sqrt{n_x^2 + n_y^2+u^2}}\n",
    "f\\left(\\frac{\\pi\\sqrt{n_x^2 + n_y^2+u^2}}{a\\,k_m}\\right)\\,d{u}\n",
    "\\end{equation}"
   ]
  },
  {
   "cell_type": "markdown",
   "metadata": {},
   "source": [
    "\\begin{equation}\n",
    "\\delta\\,\\frac{E}{V} = \\frac{\\hbar\\,c\\,\\pi}{a^4}\\left\\{\n",
    "\\sum\\limits_{n_x=\\left(0\\right)\\,1}^{\\infty}\n",
    "\\sum\\limits_{n_y=\\left(0\\right)\\,1}^{\\infty}\n",
    "F\\left(n_x, n_y\\right)\n",
    "-\n",
    "\\int\\limits_{0}^{\\infty}\n",
    "\\int\\limits_{0}^{\\infty}\n",
    "F\\left(n_x, n_y\\right)\\,d{n_x}\\,d{n_y}\n",
    "\\right\\}\n",
    "\\end{equation}"
   ]
  },
  {
   "cell_type": "markdown",
   "metadata": {},
   "source": [
    "Introducing $w^2 = u^2 + n_x^2 + n_y^2$ we have "
   ]
  },
  {
   "cell_type": "code",
   "execution_count": 1,
   "metadata": {},
   "outputs": [],
   "source": [
    "from IPython.display import display, Math, Latex"
   ]
  },
  {
   "cell_type": "code",
   "execution_count": 2,
   "metadata": {},
   "outputs": [],
   "source": [
    "n_x = var(\"n_x\")\n",
    "assume(n_x, \"real\")\n",
    "assume(n_x > 0)\n",
    "n_y = var(\"n_y\")\n",
    "assume(n_y, \"real\")\n",
    "assume(n_y > 0)\n",
    "n_z = var(\"n_z\")"
   ]
  },
  {
   "cell_type": "code",
   "execution_count": 3,
   "metadata": {},
   "outputs": [],
   "source": [
    "#u = a*k_z/(pi)\n",
    "u = var(\"u\")"
   ]
  },
  {
   "cell_type": "code",
   "execution_count": 4,
   "metadata": {},
   "outputs": [],
   "source": [
    "# w^2 = u^2 + n_x^2 + n_y^2\n",
    "w = var(\"w\")\n",
    "assume(w > sqrt(n_x^2 + n_y^2))"
   ]
  },
  {
   "cell_type": "code",
   "execution_count": 5,
   "metadata": {},
   "outputs": [],
   "source": [
    "eq_w2 = w^2 == u^2 - n_x^2 - n_y^2"
   ]
  },
  {
   "cell_type": "code",
   "execution_count": 6,
   "metadata": {},
   "outputs": [
    {
     "data": {
      "text/plain": [
       "[u == -sqrt(n_x^2 + n_y^2 + w^2), u == sqrt(n_x^2 + n_y^2 + w^2)]"
      ]
     },
     "execution_count": 6,
     "metadata": {},
     "output_type": "execute_result"
    }
   ],
   "source": [
    "uu = solve(eq_w2, u)\n",
    "uu"
   ]
  },
  {
   "cell_type": "code",
   "execution_count": 7,
   "metadata": {},
   "outputs": [
    {
     "data": {
      "text/latex": [
       "$\\displaystyle u = \\sqrt{n_{x}^{2} + n_{y}^{2} + w^{2}}$"
      ],
      "text/plain": [
       "<IPython.core.display.Math object>"
      ]
     },
     "metadata": {},
     "output_type": "display_data"
    }
   ],
   "source": [
    "display(Math(latex(uu[1])))"
   ]
  },
  {
   "cell_type": "markdown",
   "metadata": {},
   "source": [
    "\\begin{equation}\n",
    "u = \\sqrt{w^2 - \\left( n_x^2 + n_y^2 \\right)}\n",
    "\\end{equation}"
   ]
  },
  {
   "cell_type": "code",
   "execution_count": 8,
   "metadata": {},
   "outputs": [
    {
     "data": {
      "text/plain": [
       "w/sqrt(n_x^2 + n_y^2 + w^2)"
      ]
     },
     "execution_count": 8,
     "metadata": {},
     "output_type": "execute_result"
    }
   ],
   "source": [
    "dudw = diff(uu[1].rhs(), w)\n",
    "dudw"
   ]
  },
  {
   "cell_type": "code",
   "execution_count": 9,
   "metadata": {},
   "outputs": [
    {
     "data": {
      "text/latex": [
       "$\\displaystyle \\frac{w}{\\sqrt{n_{x}^{2} + n_{y}^{2} + w^{2}}}$"
      ],
      "text/plain": [
       "<IPython.core.display.Math object>"
      ]
     },
     "metadata": {},
     "output_type": "display_data"
    }
   ],
   "source": [
    "display(Math(latex(dudw)))"
   ]
  },
  {
   "cell_type": "markdown",
   "metadata": {},
   "source": [
    "\\begin{equation}\n",
    "du = \\frac{w {d w}}{\\sqrt{w^2 - (n_x^2 + n_y^2)}}\n",
    "\\end{equation}"
   ]
  },
  {
   "cell_type": "markdown",
   "metadata": {},
   "source": [
    "\\begin{equation}\n",
    "F\\left(n_x, n_y\\right) = \n",
    "\\int\\limits_{0}^{\\infty}{w}\n",
    "f\\left(\\frac{\\pi\\,w}{a\\,k_m}\\right)\\,d{u}\n",
    "\\end{equation}"
   ]
  },
  {
   "cell_type": "markdown",
   "metadata": {},
   "source": [
    "\\begin{equation}\n",
    "F\\left(n_x, n_y\\right) =\n",
    "\\int\\limits_{n_x^2 + n_y^2}^{\\infty}\n",
    "\\frac{{w^2}f\\left(\\frac{\\pi w}{a\\,k_m}\\right)}{\\sqrt{w^2 - (n_x^2 + n_y^2)}}\\,{d w}\n",
    "\\end{equation}"
   ]
  },
  {
   "cell_type": "code",
   "execution_count": 10,
   "metadata": {},
   "outputs": [],
   "source": [
    "a = var(\"a\")\n",
    "assume(a, 'real')\n",
    "assume(a>0)\n",
    "\n",
    "L = var(\"L\")\n",
    "\n",
    "k_x = var(\"k_x\")\n",
    "k_y = var(\"k_y\")\n",
    "k_z = var(\"k_z\")"
   ]
  },
  {
   "cell_type": "code",
   "execution_count": 11,
   "metadata": {},
   "outputs": [],
   "source": [
    "k_x = pi * n_x / a\n",
    "k_y = pi * n_y / a\n",
    "k_z = pi * n_z / (L/2)"
   ]
  },
  {
   "cell_type": "code",
   "execution_count": 12,
   "metadata": {},
   "outputs": [],
   "source": [
    "k_m = var(\"k_m\")\n",
    "assume(k_m, 'real')\n",
    "assume(k_m > 0)"
   ]
  },
  {
   "cell_type": "code",
   "execution_count": 13,
   "metadata": {},
   "outputs": [],
   "source": [
    "#f = function('f')(var(\"k_km\"))\n",
    "f = lambda k_km : 1 / (exp(k_km)-1)\n",
    "f = lambda k_km : 1 / (exp(k_km)+1)\n",
    "f = lambda k_km : 1 / (1 + (k_km)^4)"
   ]
  },
  {
   "cell_type": "code",
   "execution_count": 14,
   "metadata": {},
   "outputs": [
    {
     "data": {
      "image/png": "[encoded data removed]",
      "text/plain": [
       "Graphics object consisting of 1 graphics primitive"
      ]
     },
     "execution_count": 14,
     "metadata": {},
     "output_type": "execute_result"
    }
   ],
   "source": [
    "plot(f(x), (x, 0, 3))"
   ]
  },
  {
   "cell_type": "code",
   "execution_count": 15,
   "metadata": {},
   "outputs": [
    {
     "data": {
      "text/latex": [
       "$\\displaystyle \\frac{w^{2}}{\\sqrt{n_{x}^{2} + n_{y}^{2} + w^{2}} {\\left(\\frac{\\pi^{4} w^{4}}{a^{4} k_{m}^{4}} + 1\\right)}}$"
      ],
      "text/plain": [
       "<IPython.core.display.Math object>"
      ]
     },
     "metadata": {},
     "output_type": "display_data"
    },
    {
     "data": {
      "text/plain": [
       "w^2/(sqrt(n_x^2 + n_y^2 + w^2)*(pi^4*w^4/(a^4*k_m^4) + 1))"
      ]
     },
     "execution_count": 15,
     "metadata": {},
     "output_type": "execute_result"
    }
   ],
   "source": [
    "integrand_w = w*f(pi*w/(a*k_m))*dudw\n",
    "display(Math(latex(integrand_w)))\n",
    "integrand_w"
   ]
  },
  {
   "cell_type": "code",
   "execution_count": 16,
   "metadata": {},
   "outputs": [
    {
     "data": {
      "text/plain": [
       "w^2/((pi^4*w^4 + 1)*sqrt(w^2 + 2))"
      ]
     },
     "execution_count": 16,
     "metadata": {},
     "output_type": "execute_result"
    }
   ],
   "source": [
    "integrand_w.subs(n_x == 1, n_y == 1, a == 1, k_m == 1)"
   ]
  },
  {
   "cell_type": "code",
   "execution_count": 17,
   "metadata": {},
   "outputs": [
    {
     "data": {
      "image/png": "[encoded data removed]",
      "text/plain": [
       "Graphics object consisting of 1 graphics primitive"
      ]
     },
     "execution_count": 17,
     "metadata": {},
     "output_type": "execute_result"
    }
   ],
   "source": [
    "plot(integrand_w.subs(n_x == 1, n_y == 1, a == 1, k_m == 1), w, 0, 5)"
   ]
  },
  {
   "cell_type": "code",
   "execution_count": 18,
   "metadata": {},
   "outputs": [],
   "source": [
    "def my_taylor(f, v, a, n):\n",
    "    s = 0\n",
    "    #print(\"f\", f)\n",
    "    #print(\"v\", v)\n",
    "    for i in range(n):\n",
    "        fdiff_i = lambda v : diff(f, v, i)\n",
    "        #print(\"fdiff_i\", fdiff_i(v))\n",
    "        fact_i = factorial(i)\n",
    "        fdiff_i_a = fdiff_i(v).subs(v == a)\n",
    "        #print(\"fdiff_i(a)\", fdiff_i_a)\n",
    "        term = fdiff_i_a/fact_i*(v-a)^i\n",
    "        #print(\"term\", term)\n",
    "        s += term\n",
    "    return s"
   ]
  },
  {
   "cell_type": "code",
   "execution_count": 20,
   "metadata": {},
   "outputs": [
    {
     "data": {
      "text/latex": [
       "$\\displaystyle 2 \\, {\\left(w - \\sqrt{2}\\right)} {\\left(\\frac{\\sqrt{2}}{\\sqrt{n_{x}^{2} + n_{y}^{2} + 2} {\\left(\\frac{4 \\, \\pi^{4}}{a^{4} k_{m}^{4}} + 1\\right)}} - \\frac{\\sqrt{2}}{{\\left(n_{x}^{2} + n_{y}^{2} + 2\\right)}^{\\frac{3}{2}} {\\left(\\frac{4 \\, \\pi^{4}}{a^{4} k_{m}^{4}} + 1\\right)}} - \\frac{8 \\, \\sqrt{2} \\pi^{4}}{\\sqrt{n_{x}^{2} + n_{y}^{2} + 2} a^{4} k_{m}^{4} {\\left(\\frac{4 \\, \\pi^{4}}{a^{4} k_{m}^{4}} + 1\\right)}^{2}}\\right)} + \\frac{2}{\\sqrt{n_{x}^{2} + n_{y}^{2} + 2} {\\left(\\frac{4 \\, \\pi^{4}}{a^{4} k_{m}^{4}} + 1\\right)}}$"
      ],
      "text/plain": [
       "<IPython.core.display.Math object>"
      ]
     },
     "metadata": {},
     "output_type": "display_data"
    },
    {
     "data": {
      "text/plain": [
       "2*(w - sqrt(2))*(sqrt(2)/(sqrt(n_x^2 + n_y^2 + 2)*(4*pi^4/(a^4*k_m^4) + 1)) - sqrt(2)/((n_x^2 + n_y^2 + 2)^(3/2)*(4*pi^4/(a^4*k_m^4) + 1)) - 8*sqrt(2)*pi^4/(sqrt(n_x^2 + n_y^2 + 2)*a^4*k_m^4*(4*pi^4/(a^4*k_m^4) + 1)^2)) + 2/(sqrt(n_x^2 + n_y^2 + 2)*(4*pi^4/(a^4*k_m^4) + 1))"
      ]
     },
     "execution_count": 20,
     "metadata": {},
     "output_type": "execute_result"
    }
   ],
   "source": [
    "integrand_w_taylor = my_taylor(integrand_w, w, sqrt(2), 2)\n",
    "display(Math(latex(integrand_w_taylor)))\n",
    "integrand_w_taylor"
   ]
  },
  {
   "cell_type": "code",
   "execution_count": 28,
   "metadata": {},
   "outputs": [
    {
     "data": {
      "text/latex": [
       "$\\displaystyle \\frac{2 \\, \\sqrt{n_{x}^{2} + n_{y}^{2} + 2} a^{4} k_{m}^{4}}{2 \\, a^{4} k_{m}^{4} + 8 \\, \\pi^{4} + {\\left(a^{4} k_{m}^{4} + 4 \\, \\pi^{4}\\right)} n_{x}^{2} + {\\left(a^{4} k_{m}^{4} + 4 \\, \\pi^{4}\\right)} n_{y}^{2}} - \\frac{{\\left(160 \\, \\pi^{4} \\sqrt{n_{x}^{2} + n_{y}^{2} + 2} a^{8} k_{m}^{8} - 384 \\, \\pi^{8} \\sqrt{n_{x}^{2} + n_{y}^{2} + 2} a^{4} k_{m}^{4} - {\\left(\\sqrt{n_{x}^{2} + n_{y}^{2} + 2} a^{12} k_{m}^{12} - 48 \\, \\pi^{4} \\sqrt{n_{x}^{2} + n_{y}^{2} + 2} a^{8} k_{m}^{8} + 48 \\, \\pi^{8} \\sqrt{n_{x}^{2} + n_{y}^{2} + 2} a^{4} k_{m}^{4}\\right)} n_{x}^{4} - {\\left(\\sqrt{n_{x}^{2} + n_{y}^{2} + 2} a^{12} k_{m}^{12} - 48 \\, \\pi^{4} \\sqrt{n_{x}^{2} + n_{y}^{2} + 2} a^{8} k_{m}^{8} + 48 \\, \\pi^{8} \\sqrt{n_{x}^{2} + n_{y}^{2} + 2} a^{4} k_{m}^{4}\\right)} n_{y}^{4} + {\\left(\\sqrt{n_{x}^{2} + n_{y}^{2} + 2} a^{12} k_{m}^{12} + 200 \\, \\pi^{4} \\sqrt{n_{x}^{2} + n_{y}^{2} + 2} a^{8} k_{m}^{8} - 240 \\, \\pi^{8} \\sqrt{n_{x}^{2} + n_{y}^{2} + 2} a^{4} k_{m}^{4}\\right)} n_{x}^{2} + {\\left(\\sqrt{n_{x}^{2} + n_{y}^{2} + 2} a^{12} k_{m}^{12} + 200 \\, \\pi^{4} \\sqrt{n_{x}^{2} + n_{y}^{2} + 2} a^{8} k_{m}^{8} - 240 \\, \\pi^{8} \\sqrt{n_{x}^{2} + n_{y}^{2} + 2} a^{4} k_{m}^{4} - 2 \\, {\\left(\\sqrt{n_{x}^{2} + n_{y}^{2} + 2} a^{12} k_{m}^{12} - 48 \\, \\pi^{4} \\sqrt{n_{x}^{2} + n_{y}^{2} + 2} a^{8} k_{m}^{8} + 48 \\, \\pi^{8} \\sqrt{n_{x}^{2} + n_{y}^{2} + 2} a^{4} k_{m}^{4}\\right)} n_{x}^{2}\\right)} n_{y}^{2}\\right)} {\\left(w - \\sqrt{2}\\right)}^{2}}{8 \\, a^{12} k_{m}^{12} + 96 \\, \\pi^{4} a^{8} k_{m}^{8} + 384 \\, \\pi^{8} a^{4} k_{m}^{4} + 512 \\, \\pi^{12} + {\\left(a^{12} k_{m}^{12} + 12 \\, \\pi^{4} a^{8} k_{m}^{8} + 48 \\, \\pi^{8} a^{4} k_{m}^{4} + 64 \\, \\pi^{12}\\right)} n_{x}^{6} + {\\left(a^{12} k_{m}^{12} + 12 \\, \\pi^{4} a^{8} k_{m}^{8} + 48 \\, \\pi^{8} a^{4} k_{m}^{4} + 64 \\, \\pi^{12}\\right)} n_{y}^{6} + 6 \\, {\\left(a^{12} k_{m}^{12} + 12 \\, \\pi^{4} a^{8} k_{m}^{8} + 48 \\, \\pi^{8} a^{4} k_{m}^{4} + 64 \\, \\pi^{12}\\right)} n_{x}^{4} + 3 \\, {\\left(2 \\, a^{12} k_{m}^{12} + 24 \\, \\pi^{4} a^{8} k_{m}^{8} + 96 \\, \\pi^{8} a^{4} k_{m}^{4} + 128 \\, \\pi^{12} + {\\left(a^{12} k_{m}^{12} + 12 \\, \\pi^{4} a^{8} k_{m}^{8} + 48 \\, \\pi^{8} a^{4} k_{m}^{4} + 64 \\, \\pi^{12}\\right)} n_{x}^{2}\\right)} n_{y}^{4} + 12 \\, {\\left(a^{12} k_{m}^{12} + 12 \\, \\pi^{4} a^{8} k_{m}^{8} + 48 \\, \\pi^{8} a^{4} k_{m}^{4} + 64 \\, \\pi^{12}\\right)} n_{x}^{2} + 3 \\, {\\left(4 \\, a^{12} k_{m}^{12} + 48 \\, \\pi^{4} a^{8} k_{m}^{8} + 192 \\, \\pi^{8} a^{4} k_{m}^{4} + 256 \\, \\pi^{12} + {\\left(a^{12} k_{m}^{12} + 12 \\, \\pi^{4} a^{8} k_{m}^{8} + 48 \\, \\pi^{8} a^{4} k_{m}^{4} + 64 \\, \\pi^{12}\\right)} n_{x}^{4} + 4 \\, {\\left(a^{12} k_{m}^{12} + 12 \\, \\pi^{4} a^{8} k_{m}^{8} + 48 \\, \\pi^{8} a^{4} k_{m}^{4} + 64 \\, \\pi^{12}\\right)} n_{x}^{2}\\right)} n_{y}^{2}} + \\frac{2 \\, {\\left(\\sqrt{2} \\sqrt{n_{x}^{2} + n_{y}^{2} + 2} a^{8} k_{m}^{8} - 12 \\, \\sqrt{2} \\pi^{4} \\sqrt{n_{x}^{2} + n_{y}^{2} + 2} a^{4} k_{m}^{4} + {\\left(\\sqrt{2} \\sqrt{n_{x}^{2} + n_{y}^{2} + 2} a^{8} k_{m}^{8} - 4 \\, \\sqrt{2} \\pi^{4} \\sqrt{n_{x}^{2} + n_{y}^{2} + 2} a^{4} k_{m}^{4}\\right)} n_{x}^{2} + {\\left(\\sqrt{2} \\sqrt{n_{x}^{2} + n_{y}^{2} + 2} a^{8} k_{m}^{8} - 4 \\, \\sqrt{2} \\pi^{4} \\sqrt{n_{x}^{2} + n_{y}^{2} + 2} a^{4} k_{m}^{4}\\right)} n_{y}^{2}\\right)} {\\left(w - \\sqrt{2}\\right)}}{4 \\, a^{8} k_{m}^{8} + 32 \\, \\pi^{4} a^{4} k_{m}^{4} + 64 \\, \\pi^{8} + {\\left(a^{8} k_{m}^{8} + 8 \\, \\pi^{4} a^{4} k_{m}^{4} + 16 \\, \\pi^{8}\\right)} n_{x}^{4} + {\\left(a^{8} k_{m}^{8} + 8 \\, \\pi^{4} a^{4} k_{m}^{4} + 16 \\, \\pi^{8}\\right)} n_{y}^{4} + 4 \\, {\\left(a^{8} k_{m}^{8} + 8 \\, \\pi^{4} a^{4} k_{m}^{4} + 16 \\, \\pi^{8}\\right)} n_{x}^{2} + 2 \\, {\\left(2 \\, a^{8} k_{m}^{8} + 16 \\, \\pi^{4} a^{4} k_{m}^{4} + 32 \\, \\pi^{8} + {\\left(a^{8} k_{m}^{8} + 8 \\, \\pi^{4} a^{4} k_{m}^{4} + 16 \\, \\pi^{8}\\right)} n_{x}^{2}\\right)} n_{y}^{2}}$"
      ],
      "text/plain": [
       "<IPython.core.display.Math object>"
      ]
     },
     "metadata": {},
     "output_type": "display_data"
    },
    {
     "data": {
      "text/plain": [
       "2*sqrt(n_x^2 + n_y^2 + 2)*a^4*k_m^4/(2*a^4*k_m^4 + 8*pi^4 + (a^4*k_m^4 + 4*pi^4)*n_x^2 + (a^4*k_m^4 + 4*pi^4)*n_y^2) - (160*pi^4*sqrt(n_x^2 + n_y^2 + 2)*a^8*k_m^8 - 384*pi^8*sqrt(n_x^2 + n_y^2 + 2)*a^4*k_m^4 - (sqrt(n_x^2 + n_y^2 + 2)*a^12*k_m^12 - 48*pi^4*sqrt(n_x^2 + n_y^2 + 2)*a^8*k_m^8 + 48*pi^8*sqrt(n_x^2 + n_y^2 + 2)*a^4*k_m^4)*n_x^4 - (sqrt(n_x^2 + n_y^2 + 2)*a^12*k_m^12 - 48*pi^4*sqrt(n_x^2 + n_y^2 + 2)*a^8*k_m^8 + 48*pi^8*sqrt(n_x^2 + n_y^2 + 2)*a^4*k_m^4)*n_y^4 + (sqrt(n_x^2 + n_y^2 + 2)*a^12*k_m^12 + 200*pi^4*sqrt(n_x^2 + n_y^2 + 2)*a^8*k_m^8 - 240*pi^8*sqrt(n_x^2 + n_y^2 + 2)*a^4*k_m^4)*n_x^2 + (sqrt(n_x^2 + n_y^2 + 2)*a^12*k_m^12 + 200*pi^4*sqrt(n_x^2 + n_y^2 + 2)*a^8*k_m^8 - 240*pi^8*sqrt(n_x^2 + n_y^2 + 2)*a^4*k_m^4 - 2*(sqrt(n_x^2 + n_y^2 + 2)*a^12*k_m^12 - 48*pi^4*sqrt(n_x^2 + n_y^2 + 2)*a^8*k_m^8 + 48*pi^8*sqrt(n_x^2 + n_y^2 + 2)*a^4*k_m^4)*n_x^2)*n_y^2)*(w - sqrt(2))^2/(8*a^12*k_m^12 + 96*pi^4*a^8*k_m^8 + 384*pi^8*a^4*k_m^4 + 512*pi^12 + (a^12*k_m^12 + 12*pi^4*a^8*k_m^8 + 48*pi^8*a^4*k_m^4 + 64*pi^12)*n_x^6 + (a^12*k_m^12 + 12*pi^4*a^8*k_m^8 + 48*pi^8*a^4*k_m^4 + 64*pi^12)*n_y^6 + 6*(a^12*k_m^12 + 12*pi^4*a^8*k_m^8 + 48*pi^8*a^4*k_m^4 + 64*pi^12)*n_x^4 + 3*(2*a^12*k_m^12 + 24*pi^4*a^8*k_m^8 + 96*pi^8*a^4*k_m^4 + 128*pi^12 + (a^12*k_m^12 + 12*pi^4*a^8*k_m^8 + 48*pi^8*a^4*k_m^4 + 64*pi^12)*n_x^2)*n_y^4 + 12*(a^12*k_m^12 + 12*pi^4*a^8*k_m^8 + 48*pi^8*a^4*k_m^4 + 64*pi^12)*n_x^2 + 3*(4*a^12*k_m^12 + 48*pi^4*a^8*k_m^8 + 192*pi^8*a^4*k_m^4 + 256*pi^12 + (a^12*k_m^12 + 12*pi^4*a^8*k_m^8 + 48*pi^8*a^4*k_m^4 + 64*pi^12)*n_x^4 + 4*(a^12*k_m^12 + 12*pi^4*a^8*k_m^8 + 48*pi^8*a^4*k_m^4 + 64*pi^12)*n_x^2)*n_y^2) + 2*(sqrt(2)*sqrt(n_x^2 + n_y^2 + 2)*a^8*k_m^8 - 12*sqrt(2)*pi^4*sqrt(n_x^2 + n_y^2 + 2)*a^4*k_m^4 + (sqrt(2)*sqrt(n_x^2 + n_y^2 + 2)*a^8*k_m^8 - 4*sqrt(2)*pi^4*sqrt(n_x^2 + n_y^2 + 2)*a^4*k_m^4)*n_x^2 + (sqrt(2)*sqrt(n_x^2 + n_y^2 + 2)*a^8*k_m^8 - 4*sqrt(2)*pi^4*sqrt(n_x^2 + n_y^2 + 2)*a^4*k_m^4)*n_y^2)*(w - sqrt(2))/(4*a^8*k_m^8 + 32*pi^4*a^4*k_m^4 + 64*pi^8 + (a^8*k_m^8 + 8*pi^4*a^4*k_m^4 + 16*pi^8)*n_x^4 + (a^8*k_m^8 + 8*pi^4*a^4*k_m^4 + 16*pi^8)*n_y^4 + 4*(a^8*k_m^8 + 8*pi^4*a^4*k_m^4 + 16*pi^8)*n_x^2 + 2*(2*a^8*k_m^8 + 16*pi^4*a^4*k_m^4 + 32*pi^8 + (a^8*k_m^8 + 8*pi^4*a^4*k_m^4 + 16*pi^8)*n_x^2)*n_y^2)"
      ]
     },
     "execution_count": 28,
     "metadata": {},
     "output_type": "execute_result"
    }
   ],
   "source": [
    "integrand_w_taylor = integrand_w.taylor(w, sqrt(2), 2)\n",
    "display(Math(latex(integrand_w_taylor)))\n",
    "integrand_w_taylor"
   ]
  },
  {
   "cell_type": "code",
   "execution_count": 22,
   "metadata": {},
   "outputs": [
    {
     "data": {
      "image/png": "[encoded data removed]",
      "text/plain": [
       "Graphics object consisting of 1 graphics primitive"
      ]
     },
     "execution_count": 22,
     "metadata": {},
     "output_type": "execute_result"
    }
   ],
   "source": [
    "plot(integrand_w_taylor.subs(n_x == 1, n_y == 1, a == 1, k_m == 1), w, 0, 1)"
   ]
  },
  {
   "cell_type": "raw",
   "metadata": {},
   "source": [
    "F_w(n_x, n_y) = integrate(integrand_w_taylor, w, n_y^2+n_x^2, Infinity, algorithm=\"sympy\")\n",
    "F_w(n_x, n_y)"
   ]
  },
  {
   "cell_type": "code",
   "execution_count": null,
   "metadata": {},
   "outputs": [],
   "source": []
  },
  {
   "cell_type": "code",
   "execution_count": 23,
   "metadata": {},
   "outputs": [],
   "source": [
    "# below should be reworked"
   ]
  },
  {
   "cell_type": "code",
   "execution_count": null,
   "metadata": {},
   "outputs": [],
   "source": []
  },
  {
   "cell_type": "markdown",
   "metadata": {},
   "source": [
    "$F\\left(n\\right) = \\int\\limits_{n^2}^{\\infty}{\\sqrt{w}}f\\left(\\pi\\sqrt{w}/\\left(a\\,k_m\\right)\\right)\\,d{w}$"
   ]
  },
  {
   "cell_type": "markdown",
   "metadata": {},
   "source": [
    "whence"
   ]
  },
  {
   "cell_type": "markdown",
   "metadata": {},
   "source": [
    "$F'\\left(n\\right) = -2\\,n^2f\\left(\\pi\\,n/\\left(a\\,k_m\\right)\\right)$"
   ]
  },
  {
   "cell_type": "markdown",
   "metadata": {},
   "source": [
    "$F'\\left(0\\right) = 0$"
   ]
  },
  {
   "cell_type": "markdown",
   "metadata": {},
   "source": [
    "$F'''\\left(0\\right) = -4$"
   ]
  },
  {
   "cell_type": "markdown",
   "metadata": {},
   "source": [
    "The higher derivatives will contain powers of $(\\pi/(a\\,k_m))$ . Thus we find"
   ]
  },
  {
   "cell_type": "markdown",
   "metadata": {},
   "source": [
    "We apply the EULER-MACLAURIN 2D formula:"
   ]
  },
  {
   "cell_type": "markdown",
   "metadata": {},
   "source": [
    "$\\sum\\limits_{\\left(0\\right)\\,1}^{\\infty}\\sum\\limits_{\\left(0\\right)\\,1}^{\\infty}{F\\left(n_x, n_y\\right)}-\\int\\limits_{0}^{\\infty}\\int\\limits_{0}^{\\infty}{F\\left(n_x, n_y\\right)} =  - \\frac{1}{12} \\, \\int_{0}^{\\infty} \\frac{\\partial}{\\partial n_{x}}F\\left(0, n_y\\right)\\,{d n_y} - \\frac{1}{12} \\, \\int_{0}^{\\infty} \\frac{\\partial}{\\partial n_{y}}F\\left(n_x, 0\\right)\\,{d n_x} + \\frac{1}{144} \\, \\frac{\\partial^{2}}{\\partial n_{x}\\partial n_{y}}F\\left(0, 0\\right) \\,+\\,...$"
   ]
  },
  {
   "cell_type": "markdown",
   "metadata": {},
   "source": [
    "or using more terms in the EULER-MACLAURIN 2D formula:"
   ]
  },
  {
   "cell_type": "markdown",
   "metadata": {},
   "source": [
    "$\\sum\\limits_{\\left(0\\right)\\,1}^{\\infty}\\sum\\limits_{\\left(0\\right)\\,1}^{\\infty}{F\\left(n_x, n_y\\right)}-\\int\\limits_{0}^{\\infty}\\int\\limits_{0}^{\\infty}{F\\left(n_x, n_y\\right)} = - \\frac{1}{12} \\, \\int_{0}^{\\infty}  \\, \\frac{\\partial}{\\partial n_{x}}F\\left(0, n_y\\right)\\,{d n_y} + \\frac{1}{720} \\, \\int_{0}^{\\infty} \\frac{\\partial^{3}}{(\\partial n_{x})^{3}}F\\left(0, y\\right)\\,{d n_y} - \\frac{1}{12} \\, \\int_{0}^{\\infty} \\frac{\\partial}{\\partial n_{y}}F\\left(n_x, 0\\right)\\,{d n_x} + \\frac{1}{720} \\, \\int_{0}^{\\infty} \\frac{\\partial^{3}}{(\\partial n_{y})^{3}}F\\left(n_x, 0\\right)\\,{d n_x} - \\frac{1}{8640} \\, \\frac{\\partial^{4}}{(\\partial n_{x})^{3}\\partial n_{y}}F\\left(0, 0\\right) + \\frac{1}{518400} \\, \\frac{\\partial^{6}}{(\\partial n_{x})^{3}(\\partial n_{y})^{3}}F\\left(0, 0\\right) + \\frac{1}{144} \\, \\frac{\\partial^{2}}{\\partial n_{x}\\partial n_{y}}F\\left(0, 0\\right) - \\frac{1}{8640} \\, \\frac{\\partial^{4}}{\\partial n_{x}(\\partial n_{y})^{3}}F\\left(0, 0\\right)\\,+\\,...$"
   ]
  },
  {
   "cell_type": "markdown",
   "metadata": {},
   "source": [
    "$\\delta\\,E/L^2 = \\hbar\\,c\\frac{\\pi^2}{4\\,a^3}\\left\\{\\frac{-4}{24\\times30}\\right\\}$"
   ]
  },
  {
   "cell_type": "markdown",
   "metadata": {},
   "source": [
    "a formula which holds as long as $a\\,k_m\\,»\\,1$. For the force per $cm^2$ we find"
   ]
  },
  {
   "cell_type": "markdown",
   "metadata": {},
   "source": [
    "$F = \\hbar\\,c\\frac{\\pi^2}{240}\\frac{1}{a^4}\\,=\\,0.013\\,\\frac{1}{a_{\\mu}^4}\\,dyne/cm^2$"
   ]
  },
  {
   "cell_type": "markdown",
   "metadata": {},
   "source": [
    "where $a_{\\mu}$ is the distance measured in microns. "
   ]
  },
  {
   "cell_type": "markdown",
   "metadata": {},
   "source": [
    "We are thus led to the following conclusions. There exists an attractive\n",
    "force between two metal plates which is independent of the material of\n",
    "the plates as long as the distance is so large that for wave . lengths\n",
    "comparable with that distance the penetration depth is small compared with\n",
    "the distance. This force may be interpreted as a zero point pressure of\n",
    "electromagnetic waves."
   ]
  },
  {
   "cell_type": "markdown",
   "metadata": {},
   "source": [
    "Although the effect is smalI, an experimental confirmation seems not\n",
    "unfeasable and might be of a certain interest. "
   ]
  },
  {
   "cell_type": "markdown",
   "metadata": {},
   "source": [
    "Natuurkundig Laboratorium der N.V. Philips'\n",
    "Gloeilampenfabrieken. Eindhoven .) "
   ]
  },
  {
   "cell_type": "markdown",
   "metadata": {},
   "source": [
    "30 January 2019\n",
    "\n",
    "Metal nano-honeycomb fabricated by colloidal assembly and femtosecond-laser annealing\n",
    "\n",
    "https://www.spiedigitallibrary.org/conference-proceedings-of-spie/10841/108410A/Metal-nano-honeycomb-fabricated-by-colloidal-assembly-and-femtosecond-laser/10.1117/12.2508593.full?SSO=1"
   ]
  },
  {
   "cell_type": "markdown",
   "metadata": {},
   "source": [
    "Bio-Inspired Engineering of Honeycomb Structure - Using Nature to Inspire Human Innovation\n",
    "\n",
    "https://www.researchgate.net/figure/Mechanical-behavior-of-micro-and-nano-honeycomb-materials_tbl1_280239925"
   ]
  },
  {
   "cell_type": "markdown",
   "metadata": {},
   "source": [
    "Nano-honeycomb structures for optimal energy absorption: numerical analysis and experiments\n",
    "\n",
    "https://www.alliedacademies.org/articles/nanohoneycomb-structures-for-optimal-energy-absorption-numerical-analysisand-experiments-8375.html"
   ]
  },
  {
   "cell_type": "code",
   "execution_count": 24,
   "metadata": {},
   "outputs": [],
   "source": [
    "#kappa = sqrt(k_x^2+k_y^2)\n",
    "kappa = var(\"kappa\")"
   ]
  },
  {
   "cell_type": "code",
   "execution_count": 25,
   "metadata": {},
   "outputs": [
    {
     "data": {
      "text/plain": [
       "sqrt(kappa^2 + 4*pi^2*n_z^2/L^2)"
      ]
     },
     "execution_count": 25,
     "metadata": {},
     "output_type": "execute_result"
    }
   ],
   "source": [
    "k = sqrt(kappa^2+k_z^2)\n",
    "k"
   ]
  },
  {
   "cell_type": "markdown",
   "metadata": {},
   "source": [
    "$F\\left(n_x, n_y\\right) = \\int\\limits_{n_x^2 + n_y^2}^{\\infty}\\frac{{w^2}f\\left(\\pi w/\\left(a\\,k_m\\right)\\right)}{\\sqrt{w^2 - (n_x^2 + n_y^2)}}\\,{d w}$"
   ]
  },
  {
   "cell_type": "code",
   "execution_count": 26,
   "metadata": {},
   "outputs": [],
   "source": [
    "N = var (\"N\") # Infinity\n",
    "forget()\n",
    "\n",
    "\n",
    "from sage.symbolic.integration.integral import definite_integral\n",
    "#F_w(n_x, n_y) = definite_integral(integrand_w, w, n_y^2+n_x^2, Infinity)\n"
   ]
  },
  {
   "cell_type": "code",
   "execution_count": null,
   "metadata": {},
   "outputs": [],
   "source": [
    "def definite_integral_derivative(f, x, a, b, diff_param=None):\n",
    "    \"\"\"\n",
    "    Return the derivative of symbolic integration\n",
    "\n",
    "    EXAMPLES::\n",
    "\n",
    "        sage: from sage.symbolic.integration.integral import definite_integral\n",
    "        sage: f = function('f'); a,b=var('a,b')\n",
    "        sage: h = definite_integral(f(x), x,a,b)\n",
    "        sage: h.diff(x) # indirect doctest\n",
    "        0\n",
    "        sage: h.diff(a)\n",
    "        -f(a)\n",
    "        sage: h.diff(b)\n",
    "        f(b)\n",
    "    \"\"\"\n",
    "    if not x.has(diff_param):\n",
    "        # integration variable != differentiation variable\n",
    "        #ans = definite_integral(f.diff(diff_param), x, a, b)\n",
    "        ans = integrate(f.diff(diff_param), x, a, b, algorithm=\"sympy\")\n",
    "    else:\n",
    "        ans = SR.zero()\n",
    "\n",
    "    if hasattr(b, 'diff'):\n",
    "        if b.diff(diff_param) != 0:\n",
    "            ans += f.subs(x == b) * b.diff(diff_param)\n",
    "    if hasattr(a, 'diff'):\n",
    "        if a.diff(diff_param) != 0:\n",
    "            ans -= f.subs(x == a) * a.diff(diff_param)\n",
    "\n",
    "    return ans"
   ]
  },
  {
   "cell_type": "code",
   "execution_count": null,
   "metadata": {},
   "outputs": [],
   "source": [
    "dFdnx(n_x, n_y) = definite_integral_derivative(integrand_w, w, n_y^2+n_x^2, Infinity, n_x)\n",
    "display(Math(latex(dFdnx(n_x, n_y))))"
   ]
  },
  {
   "cell_type": "raw",
   "metadata": {},
   "source": [
    "int_dFdnx = integrate(dFdnx(n_x, n_y), (n_y, 0, Infinity), algorithm=\"sympy\")\n",
    "display(Math(latex(int_dFdnx)))"
   ]
  },
  {
   "cell_type": "raw",
   "metadata": {},
   "source": [
    "d2Fdnxdny = dFdnx(n_x, n_y).diff(n_y)\n",
    "display(Math(latex(d2Fdnxdny)))"
   ]
  },
  {
   "cell_type": "raw",
   "metadata": {},
   "source": [
    "display(Math(latex(d2Fdnxdny.subs(n_x == 0.0000001, n_y = 0.0000001))))"
   ]
  },
  {
   "cell_type": "raw",
   "metadata": {},
   "source": [
    "d3Fdnx3 = dFdnx(n_x, n_y).diff(n_x, 2)\n",
    "display(Math(latex(d3Fdnx3.subs(n_x == 0.0000001, n_y = 0.0000001))))"
   ]
  },
  {
   "cell_type": "raw",
   "metadata": {},
   "source": [
    "display(Math(latex(d3Fdnx3.subs(n_x == 0.0000001))))"
   ]
  },
  {
   "cell_type": "raw",
   "metadata": {},
   "source": [
    "try:\n",
    "    display(Math(latex((d3Fdnx3).expand().subs(n_x == 0, n_y = 0))))\n",
    "except Exception as ex:\n",
    "    print(ex)\n",
    "    pass"
   ]
  },
  {
   "cell_type": "raw",
   "metadata": {},
   "source": [
    "try:\n",
    "    int_d3Fdnx3 = integrate(d3Fdnx3, n_y, 0, Infinity)\n",
    "    display(Math(latex(int_d3Fdnx3)))\n",
    "except Exception as ex:\n",
    "    print(ex)\n",
    "    # Can't calculate derivative wrt pi*(n_x**2 + n_y**2)/(a*k_m).\n",
    "    pass"
   ]
  },
  {
   "cell_type": "code",
   "execution_count": null,
   "metadata": {},
   "outputs": [],
   "source": [
    "#display(Math(latex(int_d3Fdnx3.expand().subs(n_x == 0.0000001, n_y = 0.0000001))))"
   ]
  },
  {
   "cell_type": "raw",
   "metadata": {},
   "source": [
    "try:\n",
    "    display(Math(latex(int_d3Fdnx3.expand().subs(n_x == 0, n_y = 0))))\n",
    "except Exception as ex:\n",
    "    print(ex)\n",
    "    pass"
   ]
  },
  {
   "cell_type": "raw",
   "metadata": {},
   "source": [
    "display(Math(latex((d3Fdnx3).expand().subs(n_x == 0.0000001, n_y = 0.0000001))))"
   ]
  },
  {
   "cell_type": "raw",
   "metadata": {},
   "source": [
    "d4Fdnx3dny1 = d3Fdnx3.diff(n_y, 1)\n",
    "try:\n",
    "    display(Math(latex(d4Fdnx3dny1.expand().subs(n_x == 0, n_y = 0))))\n",
    "except Exception as ex:\n",
    "    print(ex)\n",
    "    pass"
   ]
  },
  {
   "cell_type": "raw",
   "metadata": {},
   "source": [
    "d4Fdnx3dny1 = d3Fdnx3.diff(n_y, 1)\n",
    "display(Math(latex(d4Fdnx3dny1.expand().subs(n_x == 0.0000001, n_y = 0.0000001))))"
   ]
  },
  {
   "cell_type": "raw",
   "metadata": {},
   "source": [
    "d6Fdnx3dny3 = d3Fdnx3.diff(n_y, 3)\n",
    "display(Math(latex(d6Fdnx3dny3.expand().subs(n_x == 0.0000001, n_y = 0.0000001))))"
   ]
  },
  {
   "cell_type": "raw",
   "metadata": {},
   "source": [
    "try:\n",
    "    display(Math(latex(d6Fdnx3dny3.expand().subs(n_x == 0, n_y = 0))))\n",
    "except Exception as ex:\n",
    "    print(ex)\n",
    "    pass"
   ]
  },
  {
   "cell_type": "raw",
   "metadata": {},
   "source": [
    "# https://ask.sagemath.org/question/10215/lazy-evaluation-of-derivatives-of-an-unknown-function/\n",
    "from sage.symbolic.operators import FDerivativeOperator\n",
    "class Dclass(object):\n",
    "    def __init__(self,L=None):\n",
    "        if L is None:\n",
    "            self.L=[]\n",
    "        else:\n",
    "            self.L=L\n",
    "    def __getitem__(self,index):\n",
    "        if isinstance(index,tuple):\n",
    "            index=list(index)\n",
    "        elif not(isinstance(index,list)):\n",
    "            index=[index]\n",
    "        return Dclass(self.L+index)\n",
    "    def __call__(self,arg):\n",
    "        return FDerivativeOperator(arg,self.L)\n",
    "    def __repr__(self):\n",
    "        return \"D\"+str(self.L)\n",
    "D=Dclass()"
   ]
  }
 ],
 "metadata": {
  "kernelspec": {
   "display_name": "SageMath 9.4.rc2",
   "language": "sage",
   "name": "sagemath"
  },
  "language_info": {
   "codemirror_mode": {
    "name": "ipython",
    "version": 3
   },
   "file_extension": ".py",
   "mimetype": "text/x-python",
   "name": "python",
   "nbconvert_exporter": "python",
   "pygments_lexer": "ipython3",
   "version": "3.9.5"
  }
 },
 "nbformat": 4,
 "nbformat_minor": 2
}
