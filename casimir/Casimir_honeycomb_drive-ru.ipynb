{
 "cells": [
  {
   "cell_type": "markdown",
   "metadata": {},
   "source": [
    "\\title{Сотовый движитель Казимира: О силе с разных сторон идеально проводящих сот на пластине.}"
   ]
  },
  {
   "cell_type": "markdown",
   "metadata": {},
   "source": [
    "\\begin{abstract}\n",
    "\n",
    "По аналогии с классическим одномерным эффектом Казимира двух тел, когда на каждую из пластин действует приталкивающая сила Казимира как разность электромагнитных давлений квантовых колебаний вакуума нулевой температуры по разные стороны каждой из пластин, за счет того, что геометрия вакуумного резонатора во внутренней и во внешней областях различна, можно попытаться создать разницу электромагнитных давлений квантовых колебаний вакуума по разные стороны только лишь одной пластины за счет различия геометрии вакуумных резонаторов по обе ее стороны. Для этого на одной из поверхностей гладкой металлической пластины нужно вырастить наносоты.\n",
    "\n",
    "В данной работе проанализирован двумерный эффект Казимира одного тела на примере наносот квадратной формы. В результате было обнаружено, что формула для силы на единицу и для разности плотности энергии на единицу площади $F/S \\approx \\delta\\left(E/V\\right) = R\\left(a k_m\\right)\\cdot\\left(\\hbar\\,c\\,\\pi/{a^4}\\right)$ очень похожа на формулу классического Эффект Казимира, за исключением значения коэффициента пропорциональности.\n",
    "\n",
    "\\end{abstract}"
   ]
  },
  {
   "cell_type": "markdown",
   "metadata": {},
   "source": [
    "\\begin{keywords}\n",
    "Двумерный эффект Казимира одного тела\n",
    "\\end{keywords}"
   ]
  },
  {
   "cell_type": "markdown",
   "metadata": {},
   "source": [
    "# Введение\n",
    "\n",
    "Введение Планком в 1911 году полуквантов в контексте излучения черного тела стало предпосылкой открытия эффекта Казимира, что было сделано в основополагающей статье Казимира \\cite{Casimir1948}. Это явление является одним из самых прямых проявлений квантово-релятивистского явления, вызванного нулевыми колебаниями квантованных полей.\n",
    "\n",
    "Эффект Казимира в его простейшей форме представляет собой приталкивание пары нейтральных параллельных проводящих пластин, возникающее в результате модификации электромагнитного вакуума границами.\n",
    "\n",
    "Вычисление силы Казимира представляет собой особенно сложную теоретическую задачу. Примечательно, что для замкнутых конфигураций, т.е. для эффекта Казимира для одного тела вместо двух, сила Казимира может быть не только притягивающей, но и отталкивающей. Как показал Бойер \\cite{Boyer1968}, последнее верно для идеальной металлической сферической оболочки.\n",
    "\n",
    "Антипин А. В. \\cite{Antipin2012} предполагает, что в результате различия воздействия виртуальных частиц (фотонов) на внешние и внутренние отражающие поверхности пирамидальной, конической или угловой формы, появление движущей силы (за счет эффекта Казимира на  одном теле).\n",
    "\n",
    "Данная работа посвящена эффекту Казимира одного тела для открытой конфигурации идеально проводящих наносот."
   ]
  },
  {
   "cell_type": "markdown",
   "metadata": {},
   "source": [
    "\\begin{wrapfigure}{r}{0.5\\textwidth}\n",
    "\\begin{center}\n",
    "\\includegraphics[width=0.48\\textwidth]{Casimir_honeycomb_images/honeycomb_box_L.png}\n",
    "\\caption{}{Кубическая полость с пластиной \\\\ покрытой сотами}\n",
    "\\end{center}\n",
    "\\label{fig:honeycomb_box_L}\n",
    "\\end{wrapfigure}"
   ]
  },
  {
   "cell_type": "markdown",
   "metadata": {},
   "source": [
    "# Двумерный подход Казимира"
   ]
  },
  {
   "cell_type": "markdown",
   "metadata": {},
   "source": [
    "Рассмотрим кубическую полость объемом $L^3$, ограниченную идеально проводящими стенками, и пусть в эту полость параллельно грани $xy$ помещена идеально проводящая квадратная пластина со стороной $L$, и представим ситуацию, когда эта пластина находится на очень большом, скажем, $L/2$ расстоянии a от грани $xy$.\n",
    "\n",
    "Одна сторона этой идеально проводящей квадратной пластины представляет собой чистую плоскость, а другая покрыта идеально проводящими сотами квадратной формы со стороной квадрата $a$.\n",
    "\n",
    "По обеим сторонам пластины выражения $\\sum\\hbar\\omega\\big/2$, где суммирование распространяется на все возможные резонансные частоты полости $L/2\\times L\\times L$ (большая полость: между чистой плоскостью и гранью $xy$) и полости $L/2\\times a\\times a$ (маленькая полость, одна сотовая ячейка: между донышком сотовой ячейки и противоположной гранью $xy$) расходятся и лишены физического смысла, но разность этих сумм по противоположные стороны $\\left(\\sum\\,\\,\\hbar\\omega\\right)_{I}\\big/{\\left(2\\,V_{ I}\\right)} - \\left(\\sum\\,\\,\\hbar\\omega\\right)_{II}\\big/{\\left(2\\,V_{II}\\right)}$, будет иметь хорошо определенное значение, и это значение будет интерпретироваться как взаимодействие между пластиной и обеими удаленными гранями $xy$."
   ]
  },
  {
   "cell_type": "markdown",
   "metadata": {},
   "source": [
    "Возможные колебания внутри полостей, определяемые"
   ]
  },
  {
   "cell_type": "markdown",
   "metadata": {},
   "source": [
    "$0<=x<=L$, $0<=y<=L$, $0<=z<=L/2$ (большая полость: между чистой плоскостью и гранью $xy$)"
   ]
  },
  {
   "cell_type": "markdown",
   "metadata": {},
   "source": [
    "и"
   ]
  },
  {
   "cell_type": "markdown",
   "metadata": {},
   "source": [
    "$0<=x<=a$, $0<=y<=a$, $0<=z<=L/2$ (маленькая полость, одна сотовая ячейка)"
   ]
  },
  {
   "cell_type": "markdown",
   "metadata": {},
   "source": [
    "имеют волновые векторы"
   ]
  },
  {
   "cell_type": "markdown",
   "metadata": {},
   "source": [
    "$k_x = \\frac{\\pi}{L}\\,n_x$, $k_y = \\frac{\\pi}{L}\\,n_y$, $k_z = \\frac{\\pi}{L/2}\\,n_z$ (большая полость: между чистой плоскостью и гранью $xy$),"
   ]
  },
  {
   "cell_type": "markdown",
   "metadata": {},
   "source": [
    "и"
   ]
  },
  {
   "cell_type": "markdown",
   "metadata": {},
   "source": [
    "$k_x = \\frac{\\pi}{a}\\,n_x$, $k_y = \\frac{\\pi}{a}\\,n_y$, $k_z = \\frac{\\pi}{L/2}\\,n_z$ (маленькая полость, одна сотовая ячейка),\n",
    "\n",
    "где $n_x$. $n_y$, $n_z$ положительные целые числа;"
   ]
  },
  {
   "cell_type": "markdown",
   "metadata": {},
   "source": [
    "$k = \\sqrt{k_x^2+k_y^2+k_z^2} = \\sqrt{\\kappa^2+k_z^2}$. "
   ]
  },
  {
   "cell_type": "markdown",
   "metadata": {},
   "source": [
    "$E = \\frac{1}{2}\\sum\\,\\hbar\\omega = \\hbar\\,c\\frac{1}{2}\\sum\\limits_{n_x}^{}\\sum\\limits_{n_y}^{}\\sum\\limits_{n_z}^{}k$"
   ]
  },
  {
   "cell_type": "markdown",
   "metadata": {},
   "source": [
    "Каждому $k_x$, $k_y$, $k_z$ соответствуют две стоячие волны, если только одна из $n_i$ не равна нулю, когда существует только одна."
   ]
  },
  {
   "cell_type": "markdown",
   "metadata": {},
   "source": [
    "В случае маленькой полости для одной сотовой ячейки при очень больших $L/2$ мы можем рассматривать $k_z$ как непрерывную переменную, заменив суммирование по $n_z$ на интегрирование. Таким образом, мы находим"
   ]
  },
  {
   "cell_type": "markdown",
   "metadata": {},
   "source": [
    "$\\frac{1}{2}\\sum\\,\\hbar\\omega = \\hbar\\,c\\frac{1}{2}\\int\\limits_{0}^{\\infty}\\left[{\\sqrt{k_z^2}+2\\sum\\limits_{n_x=1}^{\\infty}\\sum\\limits_{n_y=1}^{\\infty}\\sqrt{n_x^2\\frac{\\pi^2}{a^2}+n_y^2\\frac{\\pi^2}{a^2}+k_z^2}}\\right]d{n_z}$  (маленькая полость, одна сотовая ячейка),"
   ]
  },
  {
   "cell_type": "markdown",
   "metadata": {},
   "source": [
    "$dn_z = \\frac{L/2}{\\pi}\\,dk_z$,"
   ]
  },
  {
   "cell_type": "markdown",
   "metadata": {},
   "source": [
    "Теперь мы можем найти удельную плотность энергии $E/V$, где $V = V_{small} = a^2 L/2$:"
   ]
  },
  {
   "cell_type": "markdown",
   "metadata": {},
   "source": [
    "$\\frac{1}{2\\,V}\\sum\\,\\hbar\\omega = \\frac{\\hbar\\,c}{a^2\\,L/2}\\frac{1}{2}\\int\\limits_{0}^{\\infty}\\left[{\\sqrt{k_z^2}+2\\sum\\limits_{n_x=1}^{\\infty}\\sum\\limits_{n_y=1}^{\\infty}\\sqrt{n_x^2\\frac{\\pi^2}{a^2}+n_y^2\\frac{\\pi^2}{a^2}+k_z^2}}\\right]\\frac{L/2}{\\pi}\\,dk_z$  (маленькая полость, одна сотовая ячейка),"
   ]
  },
  {
   "cell_type": "markdown",
   "metadata": {},
   "source": [
    "$\\frac{1}{2\\,V}\\sum\\,\\hbar\\omega = \\frac{\\hbar\\,c}{a^2\\,\\pi}\\int\\limits_{0}^{\\infty}\\left[{\\frac{1}{2}\\sqrt{k_z^2}+\\sum\\limits_{n_x=1}^{\\infty}\\sum\\limits_{n_y=1}^{\\infty}\\sqrt{n_x^2\\frac{\\pi^2}{a^2}+n_y^2\\frac{\\pi^2}{a^2}+k_z^2}}\\right]\\,dk_z$ (маленькая полость, одна сотовая ячейка),"
   ]
  },
  {
   "cell_type": "markdown",
   "metadata": {},
   "source": [
    "$\\frac{1}{2\\,V}\\sum\\,\\hbar\\omega = \\frac{\\hbar\\,c}{a^2\\,\\pi}\\int\\limits_{0}^{\\infty}\\left[{\\sum\\limits_{n_x=(0)1}^{\\infty}\\sum\\limits_{n_y=(0)1}^{\\infty}\\sqrt{n_x^2\\frac{\\pi^2}{a^2}+n_y^2\\frac{\\pi^2}{a^2}+k_z^2}}\\right]\\,dk_z$ (маленькая полость, одна сотовая ячейка),"
   ]
  },
  {
   "cell_type": "markdown",
   "metadata": {},
   "source": [
    "где обозначение $\\left(0\\right) 1$ означает, что терм с $n_x = 0$ и $n_y = 0$ должен быть умножен на $1\\big/2$."
   ]
  },
  {
   "cell_type": "markdown",
   "metadata": {},
   "source": [
    "$\\frac{1}{2\\,V}\\sum\\,\\hbar\\omega = \\frac{\\hbar\\,c}{a^2\\,\\pi}\\sum\\limits_{n_x=(0)1}^{\\infty}\\sum\\limits_{n_y=(0)1}^{\\infty}\\left[\\int\\limits_{0}^{\\infty}\\sqrt{n_x^2\\frac{\\pi^2}{a^2}+n_y^2\\frac{\\pi^2}{a^2}+k_z^2}\\,dk_z\\right]$ (маленькая полость, одна сотовая ячейка),"
   ]
  },
  {
   "cell_type": "raw",
   "metadata": {},
   "source": []
  },
  {
   "cell_type": "markdown",
   "metadata": {},
   "source": [
    "И в случае большой полости при очень больших $L$ мы можем рассматривать $k_x$, $k_y$ как непрерывные переменные. Таким образом, мы находим"
   ]
  },
  {
   "cell_type": "markdown",
   "metadata": {},
   "source": [
    "$\\frac{1}{2}\\sum\\,\\hbar\\omega = \\hbar\\,c\\frac{1}{2}\\int\\limits_{0}^{\\infty}\\int\\limits_{0}^{\\infty}\\left[{\\sqrt{k_x^2+k_y^2}+2\\sum\\limits_{n_z=1}^{\\infty}\\sqrt{n_z^2\\frac{\\pi^2}{(L/2)^2}+k_x^2+k_y^2}}\\right]d{n_x}d{n_y}$ (большая полость: между чистой плоскостью и гранью $xy$),"
   ]
  },
  {
   "cell_type": "markdown",
   "metadata": {},
   "source": [
    "Для очень больших $L/2$ и это последнее суммирование можно заменить интегралом, и поэтому легко видеть, что энергия определяется выражением"
   ]
  },
  {
   "cell_type": "markdown",
   "metadata": {},
   "source": [
    "$\\frac{1}{2}\\sum\\,\\hbar\\omega = \\hbar\\,c\\int\\limits_{0}^{\\infty}\\int\\limits_{0}^{\\infty}\\int\\limits_{0}^{\\infty}\\sqrt{k_z^2+k_x^2+k_y^2}\\,d{n_x}\\,d{n_y}\\,d{n_z}$ (большая полость: между чистой плоскостью и гранью $xy$),"
   ]
  },
  {
   "cell_type": "markdown",
   "metadata": {},
   "source": [
    "$dn_x = \\frac{L}{\\pi}\\,dk_x$, $dn_y = \\frac{L}{\\pi}\\,dk_y$, $dn_z = \\frac{L/2}{\\pi}\\,dk_z$,"
   ]
  },
  {
   "cell_type": "markdown",
   "metadata": {},
   "source": [
    "Теперь мы можем найти удельную плотность энергии $E/V$, где $V = V_{large} = L^3/2$ :"
   ]
  },
  {
   "cell_type": "markdown",
   "metadata": {},
   "source": [
    "$\\frac{1}{2\\,V}\\sum\\,\\hbar\\omega = \\frac{\\hbar\\,c}{L^3/2}\\int\\limits_{0}^{\\infty}\\int\\limits_{0}^{\\infty}\\int\\limits_{0}^{\\infty}\\sqrt{k_z^2+k_x^2+k_y^2}\\,dn_x\\,dn_y\\,\\frac{L/2}{\\pi}\\,dk_z$ (большая полость: между чистой плоскостью и гранью $xy$),"
   ]
  },
  {
   "cell_type": "markdown",
   "metadata": {},
   "source": [
    "$\\frac{1}{2\\,V}\\sum\\,\\hbar\\omega = \\frac{\\hbar\\,c}{L^2\\,\\pi}\\int\\limits_{0}^{\\infty}\\int\\limits_{0}^{\\infty}\\left[\\,\\int\\limits_{0}^{\\infty}\\sqrt{k_z^2+k_x^2+k_y^2}\\,dk_z\\right]\\,dn_x\\,dn_y$ (большая полость: между чистой плоскостью и гранью $xy$),"
   ]
  },
  {
   "cell_type": "raw",
   "metadata": {},
   "source": []
  },
  {
   "cell_type": "markdown",
   "metadata": {},
   "source": [
    "$\\frac{1}{2\\,V}\\sum\\,\\hbar\\omega = \\frac{\\hbar\\,c}{L^2\\,\\pi}\\int\\limits_{0}^{\\infty}\\int\\limits_{0}^{\\infty}\\left[\\,\\int\\limits_{0}^{\\infty}\\sqrt{k_x^2+k_y^2+k_z^2}\\,dk_z\\right]\\,dn_x\\,dn_y$ (большая полость: между чистой плоскостью и гранью $xy$),"
   ]
  },
  {
   "cell_type": "markdown",
   "metadata": {},
   "source": [
    "$\\frac{1}{2\\,V}\\sum\\,\\hbar\\omega = \\frac{\\hbar\\,c}{L^2\\,\\pi}\\int\\limits_{0}^{\\infty}\\int\\limits_{0}^{\\infty}\\left[\\,\\int\\limits_{0}^{\\infty}\\sqrt{k_x^2+k_y^2+k_z^2}\\,dk_z\\right]\\,\\left(\\frac{L}{\\pi}dk_x\\right)\\,\\left(\\frac{L}{\\pi}dk_y\\right)$ (большая полость: между чистой плоскостью и гранью $xy$),"
   ]
  },
  {
   "cell_type": "markdown",
   "metadata": {},
   "source": [
    "$\\frac{1}{2\\,V}\\sum\\,\\hbar\\omega = \\frac{\\hbar\\,c}{a^2\\,\\pi}\\int\\limits_{0}^{\\infty}\\int\\limits_{0}^{\\infty}\\left[\\,\\int\\limits_{0}^{\\infty}\\sqrt{k_x^2+k_y^2+k_z^2}\\,dk_z\\right]\\,\\left(\\frac{a}{\\pi}dk_x\\right)\\,\\left(\\frac{a}{\\pi}dk_y\\right)$ (большая полость: между чистой плоскостью и гранью $xy$),"
   ]
  },
  {
   "cell_type": "markdown",
   "metadata": {},
   "source": [
    "$\\frac{1}{2\\,V}\\sum\\,\\hbar\\omega = \\frac{\\hbar\\,c}{a^2\\,\\pi}\\sum\\limits_{n_x=(0)1}^{\\infty}\\sum\\limits_{n_y=(0)1}^{\\infty}\\left[\\,\\int\\limits_{0}^{\\infty}\\sqrt{n_x^2\\frac{\\pi^2}{a^2}+n_y^2\\frac{\\pi^2}{a^2}+k_z^2}\\,dk_z\\right]$ (маленькая полость, одна сотовая ячейка),"
   ]
  },
  {
   "cell_type": "markdown",
   "metadata": {},
   "source": [
    "легко видеть, что наша энергия взаимодействия определяется выражением"
   ]
  },
  {
   "cell_type": "markdown",
   "metadata": {},
   "source": [
    "$$\\begin{array}{lr}\n",
    "\\delta\\,\\frac{E}{V} = \n",
    "\\begin{array}{c}\n",
    "\\frac{\\hbar\\,c}{a^2\\,\\pi}\\Bigg\\{\\sum\\limits_{n_x=(0)1}^{\\infty}\\sum\\limits_{n_y=(0)1}^{\\infty}\\left[\\,\\int\\limits_{0}^{\\infty}\\sqrt{n_x^2\\frac{\\pi^2}{a^2}+n_y^2\\frac{\\pi^2}{a^2}+k_z^2}\\,dk_z\\right] - \\\\\n",
    "\\int\\limits_{0}^{\\infty}\\int\\limits_{0}^{\\infty}\\left[\\,\\int\\limits_{0}^{\\infty}\\sqrt{k_x^2+k_y^2+k_z^2}\\,dk_z\\right]\\,\\left(\\frac{a}{\\pi}dk_x\\right)\\,\\left(\\frac{a}{\\pi}dk_y\\right)\\Bigg\\}\n",
    "\\end{array}\\end{array}$$"
   ]
  },
  {
   "cell_type": "markdown",
   "metadata": {},
   "source": [
    "$$\\begin{array}{lr}\n",
    "\\delta\\,\\frac{E}{V} =\n",
    "\\begin{array}{c}\n",
    "\\frac{\\hbar\\,c}{a^2\\,\\pi}\\Bigg\\{\\sum\\limits_{n_x=(0)1}^{\\infty}\\sum\\limits_{n_y=(0)1}^{\\infty}\\left[\\,\\int\\limits_{0}^{\\infty}\\sqrt{n_x^2\\frac{\\pi^2}{a^2}+n_y^2\\frac{\\pi^2}{a^2}+k_z^2}\\,dk_z\\right] - \\\\ \\int\\limits_{0}^{\\infty}\\int\\limits_{0}^{\\infty}\\left[\\,\\int\\limits_{0}^{\\infty}\\sqrt{k_x^2+k_y^2+k_z^2}\\,dk_z\\right]\\,dn_x\\,dn_y\\Bigg\\}\n",
    "\\end{array}\\end{array}$$"
   ]
  },
  {
   "cell_type": "markdown",
   "metadata": {},
   "source": []
  },
  {
   "cell_type": "markdown",
   "metadata": {},
   "source": [
    "${\\left(\\frac{E}{V}\\right)_{small\\,cavity} = \\frac{1}{a^2}\\,\\hbar \\, \\sum\\limits_{n_x=(0)1}^{\\infty}\\sum\\limits_{n_y=(0)1}^{\\infty}\\,\\int\\limits_{0}^{\\infty} {\\frac {dk_{z}}{\\pi}}\\,\\omega _{n_x,n_y},}$"
   ]
  },
  {
   "cell_type": "markdown",
   "metadata": {},
   "source": [
    "где $\\omega _{n_x,n_y} = c\\,\\sqrt{n_x^2\\frac{\\pi^2}{a^2}+n_y^2\\frac{\\pi^2}{a^2}+k_z^2}$"
   ]
  },
  {
   "cell_type": "markdown",
   "metadata": {},
   "source": [
    "Очевидно, что это выражение бесконечно, и чтобы продолжить расчет, удобно ввести регулятор."
   ]
  },
  {
   "cell_type": "markdown",
   "metadata": {},
   "source": [
    "Для получения конечного результата необходимо умножить подынтегральные выражения на регуляризационную функцию $f(k/k_m)$, которая равна единице при $k << k_m$, но достаточно быстро стремится к нулю при $(k/k_m)\\, \\rightarrow\\,\\infty$. Где $k_m$ можно определить как $f(1) = \\frac{1}{2}$. Физический смысл очевиден: для очень коротких волн (например, рентгеновских лучей) наша пластина вообще не является препятствием, и поэтому на энергию нулевой точки этих волн не будет влиять положение этой пластины."
   ]
  },
  {
   "cell_type": "markdown",
   "metadata": {},
   "source": [
    "Функция регуляризации будет служить для того, чтобы сделать выражение конечным, и в конце концов влияние ее конкретного вида устраняется предельным переходом."
   ]
  },
  {
   "cell_type": "markdown",
   "metadata": {},
   "source": [
    "Вводя переменную $u^2 = a^2\\,k_z^2/\\pi^2$, $du = a/\\pi\\,dk_z$, имеем:"
   ]
  },
  {
   "cell_type": "markdown",
   "metadata": {},
   "source": [
    "\\begin{equation}\n",
    "\\begin{array}{lr}\n",
    "\\delta\\,\\frac{E}{V} =\n",
    "\\begin{array}{c}\n",
    "\\frac{\\hbar\\,c\\,\\pi}{a^4}\\Bigg\\{\n",
    "\\sum\\limits_{n_x=\\left(0\\right)\\,1}^{\\infty}\n",
    "\\sum\\limits_{n_y=\\left(0\\right)\\,1}^{\\infty}\n",
    "\\int\\limits_{0}^{\\infty}\n",
    "{\\sqrt{n_x^2 + n_y^2 + u^2}}\n",
    "f\\left(\\frac{\\pi\\sqrt{n_x^2 + n_y^2 + u^2}}{a\\,k_m}\\right)\n",
    "\\,d{u} \\\\\n",
    "- \\int\\limits_{0}^{\\infty}\n",
    "\\int\\limits_{0}^{\\infty}\n",
    "\\int\\limits_{0}^{\\infty}\n",
    "{\\sqrt{n_x^2 + n_y^2 + u^2}}\n",
    "f\\left(\\frac{\\pi\\sqrt{n_x^2 + n_y^2 + u^2}}{a\\,k_m}\\right)\n",
    "\\,d{u}\\,d{n_x}\\,d{n_y}\n",
    "\\Bigg\\}\n",
    "\\end{array}\n",
    "\\end{array}\n",
    "\\end{equation}"
   ]
  },
  {
   "cell_type": "markdown",
   "metadata": {},
   "source": [
    "If $\\omega _{n_x,n_y} = c\\,\\sqrt{n_x^2\\frac{\\pi^2}{a^2}+n_y^2\\frac{\\pi^2}{a^2}+k_z^2}$ и $k_z^2 = u^2 \\frac{\\pi^2}{a^2}$ имеем $\\omega _{n_x,n_y} = c \\, \\frac{\\pi}{a} \\sqrt{n_x^2+n_y^2+u^2}$ so $f\\left(\\frac{\\pi\\sqrt{n_x^2 + n_y^2+u^2}}{a\\,k_m}\\right) = f\\left(\\frac{\\omega _{n_x,n_y}}{c\\,k_m}\\right)$\n",
    "где частота обрезания\n",
    "$\\omega_m = c\\,k_m$"
   ]
  },
  {
   "cell_type": "markdown",
   "metadata": {},
   "source": [
    "Путем введения функции:"
   ]
  },
  {
   "cell_type": "markdown",
   "metadata": {},
   "source": [
    "\\begin{equation}\n",
    "F\\left(u, n_x, n_y\\right) = \n",
    "\\sqrt{n_x^2 + n_y^2+u^2}\\,\n",
    "f\\left(\\frac{\\pi\\sqrt{n_x^2 + n_y^2+u^2}}{a\\,k_m}\\right)\n",
    "\\end{equation}"
   ]
  },
  {
   "cell_type": "markdown",
   "metadata": {},
   "source": [
    "мы можем записать:"
   ]
  },
  {
   "cell_type": "markdown",
   "metadata": {},
   "source": [
    "\\begin{equation}\n",
    "\\begin{array}{lr}\n",
    "\\delta\\,\\frac{E}{V} =\n",
    "\\begin{array}{c}\n",
    "\\frac{\\hbar\\,c\\,\\pi}{a^4}\n",
    "\\Bigg\\{\n",
    "\\sum\\limits_{n_x=\\left(0\\right)\\,1}^{\\infty}\n",
    "\\sum\\limits_{n_y=\\left(0\\right)\\,1}^{\\infty}\n",
    "\\left(\\int\\limits_{0}^{\\infty}F\\left(u, n_x, n_y\\right)\\,d{u}\\right)\n",
    "- \\\\\n",
    "\\int\\limits_{0}^{\\infty}\n",
    "\\int\\limits_{0}^{\\infty}\n",
    "\\left(\\int\\limits_{0}^{\\infty}F\\left(u, n_x, n_y\\right)\\,d{u}\\right)\n",
    "\\,d{n_x}\\,d{n_y}\n",
    "\\Bigg\\}\n",
    "\\end{array}\n",
    "\\end{array}\n",
    "\\end{equation}"
   ]
  },
  {
   "cell_type": "markdown",
   "metadata": {},
   "source": [
    "И наконец, используя"
   ]
  },
  {
   "cell_type": "markdown",
   "metadata": {},
   "source": [
    "\\begin{equation}\n",
    "G\\left(n_x, n_y\\right) = \\int\\limits_{0}^{\\infty}F\\left(u, n_x, n_y\\right)\\,d{u}\n",
    "\\end{equation}"
   ]
  },
  {
   "cell_type": "markdown",
   "metadata": {},
   "source": [
    "Имеем"
   ]
  },
  {
   "cell_type": "markdown",
   "metadata": {},
   "source": [
    "\\begin{equation}\n",
    "\\delta\\,\\frac{E}{V} = \\frac{\\hbar\\,c\\,\\pi}{a^4}\n",
    "\\left\\{\n",
    "\\sum\\limits_{n_x=\\left(0\\right)\\,1}^{\\infty}\n",
    "\\sum\\limits_{n_y=\\left(0\\right)\\,1}^{\\infty}\n",
    "G\\left(n_x, n_y\\right)\n",
    "-\n",
    "\\int\\limits_{0}^{\\infty}\n",
    "\\int\\limits_{0}^{\\infty}\n",
    "G\\left(n_x, n_y\\right)\n",
    "\\,d{n_x}\\,d{n_y}\n",
    "\\right\\}\n",
    "\\end{equation}\n",
    "\n",
    "Интегрирование функции $G\\left(n_x, n_y\\right)$ с тестовой функцией регуляризации см. в Приложении A."
   ]
  },
  {
   "cell_type": "markdown",
   "metadata": {},
   "source": [
    "Теперь, стремясь получить способ вычисления $\\delta\\left(E/V\\right)$, мы должны рассмотреть\n",
    "\n",
    "# Двумерную формулу Эйлера – Маклорена\n",
    "\n",
    "В соответствии с A.Bikyalis \\cite{Bikyalis1968} мы просто дважды применяем формулу Эйлера - Маклорена к $n_x$ и к $n_y$\n",
    "\n",
    "Начиная со следующего представления этой формулы\n",
    "\n",
    "$${\\displaystyle \\sum _{i=a}^{b}f(i)=\\int _{a}^{b}f(x)\\,dx+{\\frac {f(a)+f(b)}{2}}+\\sum _{k=1}^{\\lfloor p/2\\rfloor }{\\frac {B_{2k}}{(2k)!}}\\left(f^{(2k-1)}(b)-f^{(2k-1)}(a)\\right)+R_{p},}$$\n",
    "\n",
    "$${\\displaystyle P_{k}(x)=B_{k}\\left(x-\\lfloor x\\rfloor \\right),}$$\n",
    "\n",
    "$${\\displaystyle R_{p}=(-1)^{p+1}\\int _{a}^{b}f^{(p)}(x){\\frac {P_{p}(x)}{p!}}\\,dx.}$$\n",
    "\n",
    "или лучше поскольку мы имеем дело с математически весьма сложной задачей численного интегрирования довольно непростой, часто осциллирующей и терпящей разрывы в точках каждого целого значения аргумента благодаря наличию множителя $(x-\\lfloor x\\rfloor )$ функции, воспользуемся тем, что остаточный член можно выразить также в виде:\n",
    "\n",
    "$${\\displaystyle R_{p}=(-1)^{p+1}\\sum_{j=a}^{b-1} \\int _{0}^{1}f^{(p)}(v+j){\\frac {B_{p}(v)}{p!}}\\,dv.}$$\n",
    "\n",
    "мы видим, что она состоит из 4 членов:\n",
    "\n",
    "интеграл $\\int\\limits_{x}^{}=\\int _{x_a}^{x_b}f(x)\\,dx$,\n",
    "\n",
    "половинная сумма $\\underset{x}{H_{\\sum}}={\\left( {f(x_a)+f(x_b)}\\right)/{2}}$, \n",
    "\n",
    "сумма многочленов Бернулли ${\\sum\\limits_{x}^{}}^{B}=\\sum _{k=1}^{\\lfloor p/2\\rfloor }{\\frac {B_{2k}}{(2k)!}}\\left(f^{(2k-1)}(x_b)-f^{(2k-1)}(x_a)\\right)$ \n",
    "\n",
    "и остаточный член $\\underset{x}{R_{p}}=(-1)^{p+1}\\sum_{j=x_a}^{x_b-1} \\int _{0}^{1}f^{(p)}(v_x+j_x){\\frac {B_{p}(v_x)}{p!}}\\,dv_x$. \n",
    "\n",
    "Применяя её дважды к $G$ по $n_x$ и по $n_y$, мы получим следующие термы, которые можно представить в виде таблицы:"
   ]
  },
  {
   "cell_type": "markdown",
   "metadata": {},
   "source": [
    "\\begin{equation}\n",
    "\\begin{array}{cccc}\n",
    " \\int\\limits_{n_y}^{} \\int\\limits_{n_x}^{} G  &  \\int\\limits_{n_y}^{} \\underset{n_x}{H_{\\sum}}\\,G  &  \\int\\limits_{n_y}^{}{\\sum\\limits_{n_x}^{}}^{B}\\,G  &  \\int\\limits_{n_y}^{}\\,\\underset{n_x}{R_{p}}\\,G  \\\\\n",
    " \\underset{n_y}{H_{\\sum}}\\,\\int\\limits_{n_x}^{}\\,G &  \\underset{n_y}{H_{\\sum}}\\,\\underset{n_x}{H_{\\sum}}\\,G &  \\underset{n_y}{H_{\\sum}}\\,{\\sum\\limits_{n_x}^{}}^{B}\\,G &  \\underset{n_y}{H_{\\sum}}\\,\\underset{n_x}{R_{p}}\\,G \\\\\n",
    " {\\sum\\limits_{n_y}^{}}^{B}\\,\\int\\limits_{n_x}^{}\\,G  &  {\\sum\\limits_{n_y}^{}}^{B}\\,\\underset{n_x}{H_{\\sum}}\\,G  &  {\\sum\\limits_{n_y}^{}}^{B}\\,{\\sum\\limits_{n_x}^{}}^{B}\\,G  &  {\\sum\\limits_{n_y}^{}}^{B}\\,\\underset{n_x}{R_{p}}\\,G  \\\\\n",
    " \\underset{n_y}{R_{p}}\\,\\int\\limits_{n_x}^{}\\,G   &  \\underset{n_y}{R_{p}}\\,\\underset{n_x}{H_{\\sum}}\\,G   &  \\underset{n_y}{R_{p}}\\,{\\sum\\limits_{n_x}^{}}^{B}\\,G   &  \\underset{n_y}{R_{p}}\\,\\underset{n_x}{R_{p}}\\,G\n",
    "\\end{array}\\end{equation}"
   ]
  },
  {
   "cell_type": "markdown",
   "metadata": {},
   "source": [
    "А учитывая, что у нас есть функция $G$, симметричная относительно своих аргументов $n_x$ и $n_y$, значит, приведенная выше двумерная матрица Эйлера–Маклорена тоже симметрична."
   ]
  },
  {
   "cell_type": "markdown",
   "metadata": {},
   "source": [
    "# Сводка двумерного Эйлера – Маклорена\n",
    "\n",
    "Принимая значение параметра $p = 1$, имеем:"
   ]
  },
  {
   "cell_type": "markdown",
   "metadata": {},
   "source": [
    "\\begin{center}\n",
    "\\begin{tabular}{ | l | }\n",
    "\\hline\n",
    "\n",
    "$\\int\\limits_{n_y}^{} \\int\\limits_{n_x}^{} G = \\int_{a_{y}}^{b_{y}} \\int_{a_{x}}^{b_{x}} G\\left(n_{x}, n_{y}\\right)\\,{d n_{x}}\\,{d n_{y}}$ \\\\\n",
    "\n",
    "$\\int\\limits_{n_y}^{} \\underset{n_x}{H_{\\sum}}\\,G = \\frac{1}{2} \\, \\int_{a_{y}}^{b_{y}} G\\left(a_{x}, n_{y}\\right)\\,{d n_{y}}$ \\\\\n",
    "\n",
    "$\\int\\limits_{n_y}^{} {\\sum\\limits_{n_x}^{}}^{B}\\,G = 0$ \\\\\n",
    "\n",
    "$\\int\\limits_{n_y}^{} \\underset{n_x}{R_{p}}\\,G = {\\sum_{j_{x}=a_{x}}^{b_{x} - 1} \\int_{a_{y}}^{b_{y}} \\int_{0}^{1} \\frac{1}{2} \\, {\\left(2 \\, v_{n_{x}} - 1\\right)} \\mathrm{D}_{0}\\left(G\\right)\\left(j_{x} + v_{n_{x}}, n_{y}\\right)\\,{d v_{n_{x}}}\\,{d n_{y}}}$ \\\\\n",
    "\n",
    "\\hline\\hline\n",
    "\n",
    "$\\underset{n_y}{H_{\\sum}}\\,\\int\\limits_{n_x}^{}\\,G = \\frac{1}{2} \\, \\int_{a_{x}}^{b_{x}} G\\left(n_{x}, a_{y}\\right)\\,{d n_{x}}$ \\\\\n",
    "\n",
    "$\\underset{n_y}{H_{\\sum}}\\,\\underset{n_x}{H_{\\sum}}\\,G = \\frac{1}{4} \\, G\\left(a_{x}, a_{y}\\right)$ \\\\\n",
    "\n",
    "$\\underset{n_y}{H_{\\sum}}\\,{\\sum\\limits_{n_x}^{}}^{B}\\,G = 0$ \\\\\n",
    "\n",
    "$\\underset{n_y}{H_{\\sum}}\\,\\underset{n_x}{R_{p}}\\,G = {\\sum_{j_{n_{x}}=a_{x}}^{b_{x} - 1} \\frac{1}{4} \\, \\int_{0}^{1} \\left(2 \\, v_{n_{x}} - 1 \\right) \\mathrm{D}_{0}\\left(G\\right)\\left(j_{n_{x}} + v_{n_{x}}, a_{y}\\right)\\,{d v_{n_{x}}} }$ \\\\\n",
    "\n",
    "\\hline\\hline\n",
    "\n",
    "${\\sum\\limits_{n_y}^{}}^{B}\\,\\int\\limits_{n_x}^{}\\,G = 0$ \\\\\n",
    "\n",
    "${\\sum\\limits_{n_y}^{}}^{B}\\,\\underset{n_x}{H_{\\sum}}\\,G = 0$ \\\\\n",
    "\n",
    "${\\sum\\limits_{n_y}^{}}^{B}\\,{\\sum\\limits_{n_x}^{}}^{B}\\,G = 0$ \\\\\n",
    "\n",
    "${\\sum\\limits_{n_y}^{}}^{B}\\,\\underset{n_x}{R_{p}}\\,G = 0$ \\\\\n",
    "\n",
    "\\hline\\hline\n",
    "\n",
    "$\\underset{n_y}{R_{p}}\\,\\int\\limits_{n_x}^{}\\,G = {\\sum_{j_{x}=a_{x}}^{b_{x} - 1} \\int_{a_{y}}^{b_{y}} \\int_{0}^{1} \\frac{1}{2} \\, {\\left(2 \\, v_{n_{x}} - 1\\right)} \\mathrm{D}_{0}\\left(G\\right)\\left(j_{x} + v_{n_{x}}, n_{y}\\right)\\,{d v_{n_{x}}}\\,{d n_{y}}}$ \\\\\n",
    "\n",
    "$\\underset{n_y}{R_{p}}\\,\\underset{n_x}{H_{\\sum}}\\,G = {\\sum_{j_{n_{y}}=a_{y}}^{b_{y} - 1} \\int_{0}^{1} \\frac{1}{4} \\, {\\left(2 \\, v_{n_{y}} - 1\\right)} \\mathrm{D}_{1}\\left(G\\right)\\left(a_{x}, j_{n_{y}} + v_{n_{y}}\\right)\\,{d v_{n_{y}}}}$ \\\\\n",
    "\n",
    "$\\underset{n_y}{R_{p}}\\,{\\sum\\limits_{n_x}^{}}^{B}\\,G = 0$ \\\\\n",
    "\n",
    "$\\underset{n_y}{R_{p}}\\,\\underset{n_x}{R_{p}}\\,G = {\\sum_{j_{y}=a_{y}}^{b_{y} - 1} {\\sum_{j_{x}=a_{x}}^{b_{x} - 1} \\int_{0}^{1} \\int_{0}^{1}\\frac{1}{4} \\, {\\left(2 \\, v_{y} - 1\\right)}  {\\left(2 \\, v_{x} - 1\\right)} \\mathrm{D}_{0, 1}\\left(G\\right)\\left(j_{x} + v_{x}, j_{y} + v_{y}\\right)\\,{d v_{x}}}\\,{d v_{y}}}$ \\\\\n",
    "\n",
    "\\hline\n",
    "\n",
    "\\end{tabular}\n",
    "\\end{center}"
   ]
  },
  {
   "cell_type": "markdown",
   "metadata": {},
   "source": [
    "# Способ расчета $\\delta\\left(E/V\\right)$"
   ]
  },
  {
   "cell_type": "markdown",
   "metadata": {},
   "source": [
    "Давайте рассмотрим\n",
    "\n",
    "$$\n",
    "\\sum\\limits_{n_x=\\left(0\\right)\\,1}^{\\infty}\n",
    "\\sum\\limits_{n_y=\\left(0\\right)\\,1}^{\\infty}\n",
    "G\\left(n_x, n_y\\right)\n",
    "-\n",
    "\\int\\limits_{0}^{\\infty}\n",
    "\\int\\limits_{0}^{\\infty}\n",
    "G\\left(n_x, n_y\\right)\\,d{n_x}\\,d{n_y}\n",
    "$$"
   ]
  },
  {
   "cell_type": "markdown",
   "metadata": {},
   "source": [
    "Сначала мы видим, что"
   ]
  },
  {
   "cell_type": "markdown",
   "metadata": {},
   "source": [
    "$\\sum\\limits_{n_x=\\left(0\\right)\\,1}^{\\infty}\n",
    "\\sum\\limits_{n_y=\\left(0\\right)\\,1}^{\\infty}\n",
    "{G\\left(n_x, n_y\\right)} = \\\\\n",
    "\\sum\\limits_{n_x=\\left(0\\right)\\,1}^{\\infty}\n",
    "\\left(\n",
    "-\\frac{1}{2}G\\left(n_x, 0\\right) + \\sum\\limits_{n_y=0}^{\\infty}{G\\left(n_x, n_y\\right)}\n",
    "\\right) = \\\\\n",
    "-\\frac{1}{2}\n",
    "\\left(\n",
    "-\\frac{1}{2}G\\left(0, 0\\right) + \\sum\\limits_{n_y=0}^{\\infty}{G\\left(0, n_y\\right)}\n",
    "\\right)\n",
    "+\\sum\\limits_{n_x=0}^{\\infty}\n",
    "\\left(\n",
    "-\\frac{1}{2}G\\left(n_x, 0\\right) + \\sum\\limits_{n_y=0}^{\\infty}{G\\left(n_x, n_y\\right)}\n",
    "\\right) = \\\\\n",
    "\\frac{1}{4}G\\left(0, 0\\right)\n",
    "- \\frac{1}{2}\\sum\\limits_{n_y=0}^{\\infty}{G\\left(0, n_y\\right)}\n",
    "- \\frac{1}{2}\\sum\\limits_{n_x=0}^{\\infty}{G\\left(n_x, 0\\right)}\n",
    "+ \\sum\\limits_{n_x=0}^{\\infty}\\sum\\limits_{n_y=0}^{\\infty}{G\\left(n_x, n_y\\right)}$"
   ]
  },
  {
   "cell_type": "markdown",
   "metadata": {},
   "source": [
    "Итак, мы имеем\n",
    "\n",
    "$\\sum\\limits_{n_x=\\left(0\\right)\\,1}^{\\infty}\n",
    "\\sum\\limits_{n_y=\\left(0\\right)\\,1}^{\\infty}\n",
    "G\\left(n_x, n_y\\right)\n",
    "-\n",
    "\\int\\limits_{0}^{\\infty}\n",
    "\\int\\limits_{0}^{\\infty}\n",
    "G\\left(n_x, n_y\\right)\\,d{n_x}\\,d{n_y} = \\\\\n",
    "\\frac{1}{4}G\\left(0, 0\\right)\n",
    "-\\frac{1}{2}\\sum\\limits_{n_y=0}^{\\infty}{G\\left(0, n_y\\right)}\n",
    "-\\frac{1}{2}\\sum\\limits_{n_x=0}^{\\infty}{G\\left(n_x, 0\\right)}\n",
    "+\\sum\\limits_{n_x=0}^{\\infty}\\sum\\limits_{n_y=0}^{\\infty}{G\\left(n_x, n_y\\right)}\n",
    "-\n",
    "\\int\\limits_{0}^{\\infty}\n",
    "\\int\\limits_{0}^{\\infty}\n",
    "G\\left(n_x, n_y\\right)\\,d{n_x}\\,d{n_y}$"
   ]
  },
  {
   "cell_type": "raw",
   "metadata": {},
   "source": []
  },
  {
   "cell_type": "markdown",
   "metadata": {},
   "source": [
    "С другой стороны, мы обнаружили, что\n",
    "\n",
    "$\\sum\\limits_{n_x=0}^{\\infty}\n",
    "\\sum\\limits_{n_y=0}^{\\infty}\n",
    "G\\left(n_x, n_y\\right)\n",
    "-\\int\\limits_{0}^{\\infty}\n",
    "\\int\\limits_{0}^{\\infty}\n",
    "G\\left(n_x, n_y\\right)\\,d{n_x}\\,d{n_y} = \\\\\n",
    "\\begin{array}{cccc}\n",
    "      \\, &\n",
    "      \\int\\limits_{n_y}^{} \\underset{n_x}{H_{\\sum}}\\,G &\n",
    "    + \\int\\limits_{n_y}^{}{\\sum\\limits_{n_x}^{}}^{B}\\,G &\n",
    "    + \\int\\limits_{n_y}^{}\\,\\underset{n_x}{R_{p}}\\,G  \\\\\n",
    "    +\\underset{n_y}{H_{\\sum}}\\,\\int\\limits_{n_x}^{}\\,G &\n",
    "    + \\underset{n_y}{H_{\\sum}}\\,\\underset{n_x}{H_{\\sum}}\\,G &\n",
    "    + \\underset{n_y}{H_{\\sum}}\\,{\\sum\\limits_{n_x}^{}}^{B}\\,G &\n",
    "    + \\underset{n_y}{H_{\\sum}}\\,\\underset{n_x}{R_{p}}\\,G \\\\\n",
    "    + {\\sum\\limits_{n_y}^{}}^{B}\\,\\int\\limits_{n_x}^{}\\,G &\n",
    "    + {\\sum\\limits_{n_y}^{}}^{B}\\,\\underset{n_x}{H_{\\sum}}\\,G &\n",
    "    + {\\sum\\limits_{n_y}^{}}^{B}\\,{\\sum\\limits_{n_x}^{}}^{B}\\,G &\n",
    "    + {\\sum\\limits_{n_y}^{}}^{B}\\,\\underset{n_x}{R_{p}}\\,G \\\\\n",
    "    + \\underset{n_y}{R_{p}}\\,\\int\\limits_{n_x}^{}\\,G &\n",
    "    + \\underset{n_y}{R_{p}}\\,\\underset{n_x}{H_{\\sum}}\\,G &\n",
    "    +  \\underset{n_y}{R_{p}}\\,{\\sum\\limits_{n_x}^{}}^{B}\\,G &\n",
    "    + \\underset{n_y}{R_{p}}\\,\\underset{n_x}{R_{p}}\\,G\n",
    "\\end{array}$"
   ]
  },
  {
   "cell_type": "raw",
   "metadata": {},
   "source": []
  },
  {
   "cell_type": "markdown",
   "metadata": {},
   "source": [
    "где $\\underset{n_y}{H_{\\sum}}\\,\\underset{n_x}{H_{\\sum}}\\,G$, $\\int\\limits_{n_y}^{} \\underset{n_x}{H_{\\sum}}\\,G$ и $\\underset{n_y}{H_{\\sum}}\\,\\int\\limits_{n_x}^{}\\,G$ есть соответственно:"
   ]
  },
  {
   "cell_type": "markdown",
   "metadata": {},
   "source": [
    "$\\frac{1}{4} \\, G\\left(a_{x}, a_{y}\\right) , \\frac{1}{2} \\, \\int_{a_{y}}^{b_{y}} G\\left(a_{x}, n_{y}\\right)\\,{d n_{y}} , \\frac{1}{2} \\, \\int_{a_{x}}^{b_{x}} G\\left(n_{x}, a_{y}\\right)\\,{d n_{x}}$"
   ]
  },
  {
   "cell_type": "markdown",
   "metadata": {},
   "source": [
    "Теперь, используя одномерную формулу Эйлера-Маклорена в виде:"
   ]
  },
  {
   "cell_type": "markdown",
   "metadata": {},
   "source": [
    "$${\\displaystyle \\sum _{i=a}^{b}f(i)=\\int _{a}^{b}f(x)\\,dx+{\\frac {f(a)+f(b)}{2}}+\\sum _{k=1}^{\\lfloor p/2\\rfloor }{\\frac {B_{2k}}{(2k)!}}(f^{(2k-1)}(b)-f^{(2k-1)}(a))+R_{p},}$$"
   ]
  },
  {
   "cell_type": "markdown",
   "metadata": {},
   "source": [
    "мы видим, что"
   ]
  },
  {
   "cell_type": "markdown",
   "metadata": {},
   "source": [
    "$$\n",
    "\\frac{1}{4}G\\left(0, 0\\right)\n",
    "- \\frac{1}{2}\\sum\\limits_{n_y=0}^{\\infty}{G\\left(0, n_y\\right)}\n",
    "- \\frac{1}{2}\\sum\\limits_{n_x=0}^{\\infty}{G\\left(n_x, 0\\right)}\n",
    "$$"
   ]
  },
  {
   "cell_type": "markdown",
   "metadata": {},
   "source": [
    "будет равно"
   ]
  },
  {
   "cell_type": "markdown",
   "metadata": {},
   "source": [
    "$\\begin{array}{rrllll}\n",
    "    \\underset{n_y}{H_{\\sum}}\\,\\underset{n_x}{H_{\\sum}}\\,G \\\\\n",
    "    \\, &\n",
    "    - \\int\\limits_{n_y}^{} \\underset{n_x}{H_{\\sum}}\\,G &\n",
    "    - \\underset{n_y}{H_{\\sum}} \\underset{n_x}{H_{\\sum}}\\,G &\n",
    "    - \\frac{1}{2}{\\sum\\limits_{n_y}^{}}^{B}\\,G &\n",
    "    - \\frac{1}{2}\\underset{n_y}{R_{p}}\\,G/2 \\\\\n",
    "    \\,&\n",
    "    - \\underset{n_y}{H_{\\sum}}\\int\\limits_{n_x}^{} \\,G &\n",
    "    - \\underset{n_y}{H_{\\sum}} \\underset{n_x}{H_{\\sum}}\\,G &\n",
    "    - \\frac{1}{2}{\\sum\\limits_{n_x}^{}}^{B}\\,G &\n",
    "    - \\frac{1}{2}\\underset{n_x}{R_{p}}\\,G/2 \\\\\n",
    "\\end{array}$"
   ]
  },
  {
   "cell_type": "markdown",
   "metadata": {},
   "source": [
    "Итак, мы можем найти\n",
    "\n",
    "$\\sum\\limits_{n_x=\\left(0\\right)\\,1}^{\\infty}\n",
    "\\sum\\limits_{n_y=\\left(0\\right)\\,1}^{\\infty}\n",
    "G\\left(n_x, n_y\\right)\n",
    "-\n",
    "\\int\\limits_{0}^{\\infty}\n",
    "\\int\\limits_{0}^{\\infty}\n",
    "G\\left(n_x, n_y\\right)\\,d{n_x}\\,d{n_y}$\n",
    "\n",
    "используя следующую формулу:"
   ]
  },
  {
   "cell_type": "markdown",
   "metadata": {},
   "source": [
    "$\\begin{array}{llll}\n",
    "    \\,&\n",
    "    \\,&\n",
    "    + \\int\\limits_{n_y}^{}{\\sum\\limits_{n_x}^{}}^{B}\\,G &\n",
    "    + \\int\\limits_{n_y}^{}\\,\\underset{n_x}{R_{p}}\\,G  \\\\\n",
    "    \\,&\n",
    "    \\,&\n",
    "    + \\underset{n_y}{H_{\\sum}}\\,{\\sum\\limits_{n_x}^{}}^{B}\\,G &\n",
    "    + \\underset{n_y}{H_{\\sum}}\\,\\underset{n_x}{R_{p}}\\,G \\\\\n",
    "    + {\\sum\\limits_{n_y}^{}}^{B}\\,\\int\\limits_{n_x}^{}\\,G &\n",
    "    + {\\sum\\limits_{n_y}^{}}^{B}\\,\\underset{n_x}{H_{\\sum}}\\,G &\n",
    "    + {\\sum\\limits_{n_y}^{}}^{B}\\,{\\sum\\limits_{n_x}^{}}^{B}\\,G &\n",
    "    + {\\sum\\limits_{n_y}^{}}^{B}\\,\\underset{n_x}{R_{p}}\\,G \\\\\n",
    "    + \\underset{n_y}{R_{p}}\\,\\int\\limits_{n_x}^{}\\,G &\n",
    "    + \\underset{n_y}{R_{p}}\\,\\underset{n_x}{H_{\\sum}}\\,G &\n",
    "    +  \\underset{n_y}{R_{p}}\\,{\\sum\\limits_{n_x}^{}}^{B}\\,G &\n",
    "    + \\underset{n_y}{R_{p}}\\,\\underset{n_x}{R_{p}}\\,G \\\\\n",
    "    \\,&\n",
    "    \\,&\n",
    "    - \\frac{1}{2}{\\sum\\limits_{n_y}^{}}^{B}\\,G &\n",
    "    - \\frac{1}{2}\\underset{n_y}{R_{p}}\\,G \\\\\n",
    "    \\,&\n",
    "    \\,&\n",
    "    - \\frac{1}{2}{\\sum\\limits_{n_x}^{}}^{B}\\,G &\n",
    "    - \\frac{1}{2}\\underset{n_x}{R_{p}}\\,G \\\\\n",
    "\\end{array}$"
   ]
  },
  {
   "cell_type": "markdown",
   "metadata": {},
   "source": [
    "Легко видеть, что все слагаемые без остаточного члена"
   ]
  },
  {
   "cell_type": "markdown",
   "metadata": {},
   "source": [
    "$\\begin{array}{llll}\n",
    "    \\,&\n",
    "    \\,&\n",
    "    + \\int\\limits_{n_y}^{}{\\sum\\limits_{n_x}^{}}^{B}\\,G \\\\\n",
    "    \\,&\n",
    "    \\,&\n",
    "    + \\underset{n_y}{H_{\\sum}}\\,{\\sum\\limits_{n_x}^{}}^{B}\\,G \\\\\n",
    "    + {\\sum\\limits_{n_y}^{}}^{B}\\,\\int\\limits_{n_x}^{}\\,G &\n",
    "    + {\\sum\\limits_{n_y}^{}}^{B}\\,\\underset{n_x}{H_{\\sum}}\\,G &\n",
    "    + {\\sum\\limits_{n_y}^{}}^{B}\\,{\\sum\\limits_{n_x}^{}}^{B}\\,G\\\\\n",
    "    \\,&\n",
    "    \\,&\n",
    "    - \\frac{1}{2}{\\sum\\limits_{n_y}^{}}^{B}\\,G \\\\\n",
    "    \\,&\n",
    "    \\,&\n",
    "    - \\frac{1}{2}{\\sum\\limits_{n_x}^{}}^{B}\\,G \\\\\n",
    "\\end{array}$"
   ]
  },
  {
   "cell_type": "markdown",
   "metadata": {},
   "source": [
    "в сумме равны 0. И поэтому любой возможный ненулевой результат должен быть связан с остатком:"
   ]
  },
  {
   "cell_type": "markdown",
   "metadata": {},
   "source": [
    "$\\begin{array}{r}\n",
    "\\sum\\limits_{n_x=\\left(0\\right)\\,1}^{\\infty}\n",
    "\\sum\\limits_{n_y=\\left(0\\right)\\,1}^{\\infty}\n",
    "G\\left(n_x, n_y\\right)\n",
    "-\n",
    "\\int\\limits_{0}^{\\infty}\n",
    "\\int\\limits_{0}^{\\infty}\n",
    "G\\left(n_x, n_y\\right)\\,d{n_x}\\,d{n_y} =\n",
    "\\end{array}$"
   ]
  },
  {
   "cell_type": "markdown",
   "metadata": {},
   "source": [
    "$\\begin{array}{llll}\n",
    "    \\,&\n",
    "    \\,&\n",
    "    \\,&\n",
    "    + \\int\\limits_{n_y}^{}\\,\\underset{n_x}{R_{p}}\\,G  \\\\\n",
    "    \\,&\n",
    "    \\,&\n",
    "    \\,&\n",
    "    + \\underset{n_y}{H_{\\sum}}\\,\\underset{n_x}{R_{p}}\\,G \\\\\n",
    "    \\,&\n",
    "    \\,&\n",
    "    \\,&\n",
    "    + {\\sum\\limits_{n_y}^{}}^{B}\\,\\underset{n_x}{R_{p}}\\,G \\\\\n",
    "    + \\underset{n_y}{R_{p}}\\,\\int\\limits_{n_x}^{}\\,G &\n",
    "    + \\underset{n_y}{R_{p}}\\,\\underset{n_x}{H_{\\sum}}\\,G &\n",
    "    +  \\underset{n_y}{R_{p}}\\,{\\sum\\limits_{n_x}^{}}^{B}\\,G &\n",
    "    + \\underset{n_y}{R_{p}}\\,\\underset{n_x}{R_{p}}\\,G \\\\\n",
    "    \\,&\n",
    "    \\,&\n",
    "    \\,&\n",
    "    - \\frac{1}{2}\\underset{n_y}{R_{p}}\\,G \\\\\n",
    "    \\,&\n",
    "    \\,&\n",
    "    \\,&\n",
    "    - \\frac{1}{2}\\underset{n_x}{R_{p}}\\,G \\\\\n",
    "\\end{array}$"
   ]
  },
  {
   "cell_type": "markdown",
   "metadata": {},
   "source": [
    "Или, используя симметричные свойства $G$, мы можем переписать результирующую формулу:"
   ]
  },
  {
   "cell_type": "markdown",
   "metadata": {},
   "source": [
    "$\\begin{array}{r}\n",
    "\\sum\\limits_{n_x=\\left(0\\right)\\,1}^{\\infty}\n",
    "\\sum\\limits_{n_y=\\left(0\\right)\\,1}^{\\infty}\n",
    "G\\left(n_x, n_y\\right)\n",
    "-\n",
    "\\int\\limits_{0}^{\\infty}\n",
    "\\int\\limits_{0}^{\\infty}\n",
    "G\\left(n_x, n_y\\right)\\,d{n_x}\\,d{n_y} =\n",
    "\\end{array}$"
   ]
  },
  {
   "cell_type": "markdown",
   "metadata": {},
   "source": [
    "$+\\,2\\cdot\\underset{n_y}{R_{p}}\\,\\int\\limits_{n_x}^{}\\,G\n",
    "+\\,2\\cdot\\underset{n_y}{R_{p}}\\,\\underset{n_x}{H_{\\sum}}\\,G\n",
    "+\\,2\\cdot\\underset{n_y}{R_{p}}\\,{\\sum\\limits_{n_x}^{}}^{B}\\,G\n",
    "+\\,\\underset{n_y}{R_{p}}\\,\\underset{n_x}{R_{p}}\\,G\n",
    "-\\,\\underset{n_y}{R_{p}}\\,G$"
   ]
  },
  {
   "cell_type": "markdown",
   "metadata": {},
   "source": [
    "со следующими слагаемыми:\n",
    "\n",
    "$2\\cdot\\underset{n_y}{R_{p}}\\,\\int\\limits_{n_x}^{}\\,G\\left(u\\right) = 2 \\, {\\sum\\limits_{j_{x}=a_{x}}^{b_{x} - 1} \\int\\limits_{a_{y}}^{b_{y}} \\int\\limits_{0}^{1} \\frac{1}{2} \\, {\\left(2 \\, v_{n_{x}} - 1\\right)} \\mathrm{D}_{0}\\left(G\\right)\\left(j_{x} + v_{n_{x}}, n_{y}\\right)\\,{d v_{n_{x}}}\\,{d n_{y}}}$\n",
    "\n",
    "$2\\cdot\\underset{n_y}{R_{p}}\\,\\underset{n_x}{H_{\\sum}}\\,G\\left(u\\right) = 2 \\, {\\sum\\limits_{j_{n_{y}}=a_{y}}^{b_{y} - 1} \\int\\limits_{0}^{1} \\frac{1}{4} \\, {\\left(2 \\, v_{n_{y}} - 1\\right)} \\mathrm{D}_{1}\\left(G\\right)\\left(a_{x}, j_{n_{y}} + v_{n_{y}}\\right)\\,{d v_{n_{y}}}}$\n",
    "\n",
    "$2\\cdot\\underset{n_y}{R_{p}}\\,{\\sum\\limits_{n_x}^{}}^{B}\\,G\\left(u\\right) = 2 \\, {\\sum\\limits_{j_{n_{y}}=a_{y}}^{b_{y} - 1} \\int\\limits_{0}^{1} 0\\,{d v_{n_{y}}}}$\n",
    "\n",
    "$\\underset{n_y}{R_{p}}\\,\\underset{n_x}{R_{p}}\\,G = {\\sum\\limits_{j_{y}=a_{y}}^{b_{y} - 1} {\\sum\\limits_{j_{x}=a_{x}}^{b_{x} - 1} \\int\\limits_{0}^{1} \\int\\limits_{0}^{1} \\frac{1}{4} \\, {\\left(2 \\, v_{y} - 1\\right)} {\\left(2 \\, v_{x} - 1\\right)} \\mathrm{D}_{0, 1}\\left(G\\right)\\left(j_{x} + v_{x}, j_{y} + v_{y}\\right)\\,{d v_{x}}}\\,{d v_{y}}}$\n",
    "\n",
    "$-\\underset{n_y}{R_{p}}\\,G = -{\\sum\\limits_{j_{n_{y}}=a_{y}}^{b_{y} - 1} \\int\\limits_{0}^{1} \\frac{1}{2} \\, {\\left(2 \\, v_{n_{y}} - 1\\right)} \\mathrm{D}_{1}\\left(G\\right)\\left(n_{x}, j_{n_{y}} + v_{n_{y}}\\right)\\,{d v_{n_{y}}}}$"
   ]
  },
  {
   "cell_type": "markdown",
   "metadata": {},
   "source": [
    "Учитывая, что $\\underset{n_y}{R_{p}}\\,{\\sum\\limits_{n_x}^{}}^{B}\\,G$ должно быть равно $0$, потому что производная по $n_x$ при $n_x = 0$ дает $0$, а $\\,2\\cdot\\underset{n_y}{R_{p}}\\,\\underset{n_x}{H_{\\sum}}\\,G -\\,\\underset{n_y}{ R_{p}}\\,G$ дает $0$ в сумме, мы можем упростить результат в виде:"
   ]
  },
  {
   "cell_type": "markdown",
   "metadata": {},
   "source": [
    "\\begin{equation}\n",
    "\\begin{array}{r}\n",
    "\\sum\\limits_{n_x=\\left(0\\right)\\,1}^{\\infty}\n",
    "\\sum\\limits_{n_y=\\left(0\\right)\\,1}^{\\infty}\n",
    "G\\left(n_x, n_y\\right)\n",
    "-\n",
    "\\int\\limits_{0}^{\\infty}\n",
    "\\int\\limits_{0}^{\\infty}\n",
    "G\\left(n_x, n_y\\right)\\,d{n_x}\\,d{n_y} =\n",
    "\\,2\\cdot\\underset{n_y}{R_{p}}\\,\\int\\limits_{n_x}^{}\\,G \n",
    "+\\,\\underset{n_y}{R_{p}}\\,\\underset{n_x}{R_{p}}\\,G\n",
    "\\end{array}\n",
    "\\end{equation}"
   ]
  },
  {
   "cell_type": "markdown",
   "metadata": {},
   "source": [
    "или в подробной форме:\n",
    "\n",
    "\\begin{equation}\n",
    "\\begin{array}{l}\n",
    "\\sum\\limits_{n_x=\\left(0\\right)\\,1}^{\\infty}\n",
    "\\sum\\limits_{n_y=\\left(0\\right)\\,1}^{\\infty}\n",
    "G\\left(n_x, n_y\\right)\n",
    "-\n",
    "\\int\\limits_{0}^{\\infty}\n",
    "\\int\\limits_{0}^{\\infty}\n",
    "G\\left(n_x, n_y\\right)\\,d{n_x}\\,d{n_y} = \\\\\n",
    "{\\sum\\limits_{j_{x}=0}^{\\infty} \\int\\limits_{n_{y}=0}^{\\infty} \\int\\limits_{v_x=0}^{1}  {\\left(2 \\, v_{n_{x}} - 1\\right)} \\mathrm{D}_{0}\\left(G\\right)\\left(j_{x} + v_{n_{x}}, n_{y}\\right)\\,{d v_{n_{x}}}\\,{d n_{y}}} + \\\\\n",
    "\\frac{1}{4} \\, {\\sum\\limits_{j_{y}=0}^{\\infty} {\\sum\\limits_{j_{x}=0}^{\\infty} \\int\\limits_{0}^{1} \\int\\limits_{0}^{1} {\\left(2 \\, v_{y} - 1\\right)} {\\left(2 \\, v_{x} - 1\\right)} \\mathrm{D}_{0, 1}\\left(G\\right)\\left(j_{x} + v_{x}, j_{y} + v_{y}\\right)\\,{d v_{x}}}\\,{d v_{y}}}\n",
    "\\end{array}\n",
    "\\end{equation}"
   ]
  },
  {
   "cell_type": "markdown",
   "metadata": {},
   "source": [
    "# Как $\\delta\\left(E/V\\right)$ зависит от $a k_m$ ?"
   ]
  },
  {
   "cell_type": "markdown",
   "metadata": {},
   "source": [
    "Казимир в своей оригинальной работе представил свою формулу в предположении, что $a\\,k_m\\,»\\,1$. Но теперь мы можем исследовать, как\n",
    "\n",
    "$\\sum\\limits_{n_x=\\left(0\\right)\\,1}^{\\infty}\n",
    "\\sum\\limits_{n_y=\\left(0\\right)\\,1}^{\\infty}\n",
    "G\\left(n_x, n_y\\right)\n",
    "-\n",
    "\\int\\limits_{0}^{\\infty}\n",
    "\\int\\limits_{0}^{\\infty}\n",
    "G\\left(n_x, n_y\\right)\\,d{n_x}\\,d{n_y}$\n",
    "\n",
    "будет зависеть от $a k_m$"
   ]
  },
  {
   "cell_type": "markdown",
   "metadata": {},
   "source": [
    "\\begin{center}\n",
    "\\begin{tabular}{ | l | c | c | c | }\n",
    "\\hline\n",
    "$a \\cdot k_m$ & $\\sum\\limits_{\\left(0\\right)\\,1}^{\\infty}\\sum\\limits_{\\left(0\\right)\\,1}^{\\infty}-\\int\\limits_{0}^{\\infty}\\int\\limits_{0}^{\\infty}G$ & $\\epsilon$ & $j_{max}$ \\\\\n",
    "\\hline\n",
    "0.25 & 0.0010898998026781217 & 4.996697073620143e-07 & 2 \\\\\n",
    "0.5 & 0.0032237749029524953 & 7.998369526561223e-07 & 6 \\\\\n",
    "0.75 & 0.004403922584267899 & 8.721734991096397e-07 & 11 \\\\\n",
    "1.0 & 0.003048368039753142 & 8.495559555607291e-07 & 17 \\\\\n",
    "1.25 & -0.0014811539004775248 & 1.7711588730298828e-06 & 18 \\\\\n",
    "1.5 & -0.008708226320289525 & 3.6727148564415e-06 & 18 \\\\\n",
    "1.75 & -0.01722786703218093 & 6.80405403998826e-06 & 18 \\\\\n",
    "2.0 & -0.025174603512904688 & 9.989436530283013e-06 & 19 \\\\\n",
    "2.25 & -0.030834142522710325 & 9.370330676246764e-06 & 23 \\\\\n",
    "2.5 & -0.03328670643720081 & 1.4281938944775391e-05 & 23 \\\\\n",
    "2.75 & -0.03243630208049284 & 2.091015549165456e-05 & 23 \\\\\n",
    "3.0 & -0.028986396523536337 & 2.961508478431949e-05 & 23 \\\\\n",
    "3.25 & -0.024047951283080123 & 4.0789713256873105e-05 & 23 \\\\\n",
    "3.5 & -0.018309169743688476 & 8.561178612309775e-06 & 45 \\\\\n",
    "3.75 & -0.013591792977477306 & 2.1853680230903085e-05 & 36 \\\\\n",
    "4 & -0.009731507224089121 & 1.4610545561998458e-05 & 45 \\\\\n",
    "4.5 & -0.006342700310733549 & 1.9329818693328873e-05 & 48 \\\\\n",
    "5 & -0.007323343929996339 & 2.3242272627768528e-05 & 52 \\\\\n",
    "6 & -0.012436017530558603 & 2.3732800946523056e-05 & 66 \\\\\n",
    "7 & -0.014209420986523558 & 3.8533275062919475e-05 & 69 \\\\\n",
    "8 & -0.0136610172109347 & 3.293747500025098e-05 & 87 \\\\\n",
    "9 & -0.013782731174753638 & 3.585979757156756e-05 & 99 \\\\\n",
    "\\hline\n",
    "\\end{tabular}\n",
    "\\end{center}"
   ]
  },
  {
   "cell_type": "markdown",
   "metadata": {},
   "source": [
    "Таким образом, для разности плотности энергии на $sm^2$ находим"
   ]
  },
  {
   "cell_type": "markdown",
   "metadata": {},
   "source": [
    "$\\delta\\,\\frac{E}{V} = \\frac{\\hbar\\,c\\,\\pi}{a^4}\n",
    "\\int\\limits_{0}^{\\infty}{\n",
    "\\left\\{\n",
    "\\sum\\limits_{n_x=\\left(0\\right)\\,1}^{\\infty}\n",
    "\\sum\\limits_{n_y=\\left(0\\right)\\,1}^{\\infty}\n",
    "F\\left(n_x, n_y\\right)\n",
    "-\n",
    "\\int\\limits_{0}^{\\infty}\n",
    "\\int\\limits_{0}^{\\infty}\n",
    "F\\left(n_x, n_y\\right)\\,d{n_x}\\,d{n_y}\n",
    "\\right\\}\n",
    "}\\,d{u}$"
   ]
  },
  {
   "cell_type": "markdown",
   "metadata": {},
   "source": [
    "В соответствии с нашими расчетами мы видим, что"
   ]
  },
  {
   "cell_type": "markdown",
   "metadata": {},
   "source": [
    "$\\int\\limits_{0}^{\\infty}{\n",
    "\\left\\{\n",
    "\\sum\\limits_{n_x=\\left(0\\right)\\,1}^{\\infty}\n",
    "\\sum\\limits_{n_y=\\left(0\\right)\\,1}^{\\infty}\n",
    "F\\left(n_x, n_y\\right)\n",
    "-\n",
    "\\int\\limits_{0}^{\\infty}\n",
    "\\int\\limits_{0}^{\\infty}\n",
    "F\\left(n_x, n_y\\right)\\,d{n_x}\\,d{n_y}\n",
    "\\right\\}\n",
    "}\\,d{u} \\approx R\\left(a k_m\\right)$"
   ]
  },
  {
   "cell_type": "markdown",
   "metadata": {},
   "source": [
    "\\begin{wrapfigure}{r}{0.5\\textwidth}\n",
    "\\begin{center}\n",
    "\\includegraphics[width=0.48\\textwidth]{Casimir_honeycomb_images/sum_sum_int_int_G_on_a_km.png}\n",
    "\\caption{}{How $\\delta\\left(E/V\\right)$ depends on $a k_m$}\n",
    "\\end{center}\n",
    "\\label{fig:G_on_a_km}\n",
    "\\end{wrapfigure}"
   ]
  },
  {
   "cell_type": "markdown",
   "metadata": {},
   "source": [
    "Где $R\\left(a k_m\\right)$ — некоторая функция, зависящая от свойств материала, с четко определенным пределом при $a\\,k_m\\,»\\,1$. Итак,"
   ]
  },
  {
   "cell_type": "markdown",
   "metadata": {},
   "source": [
    "\\begin{equation}\n",
    "\\delta\\,\\frac{E}{V} = R\\left(a k_m\\right)\\,\\frac{\\hbar\\,c\\,\\pi}{a^4}\n",
    "\\end{equation}"
   ]
  },
  {
   "cell_type": "markdown",
   "metadata": {},
   "source": [
    "Для разности плотности энергии на $sm^2$ (в пределе при $a\\,k_m\\,\\rightarrow \\,10$) находим"
   ]
  },
  {
   "cell_type": "markdown",
   "metadata": {},
   "source": [
    "$\\delta\\,\\frac{E}{V} = \\hbar\\,c\\, \\pi\\frac{R}{a^4}\\,=\\,0.0136\\,\\frac{1}{a_{\\mu}^4}\\,dyne/cm^2$"
   ]
  },
  {
   "cell_type": "markdown",
   "metadata": {},
   "source": [
    "где $a_{\\mu}$ — сторона квадрата сот, измеряемая в микронах."
   ]
  },
  {
   "cell_type": "markdown",
   "metadata": {},
   "source": [
    "Можно ли интерпретировать эту разницу удельной плотности энергии $\\delta\\left(E/V\\right)$ как причину действия силы $F$ на идеально проводящие соты на пластине? Например, мои исследования исходной конфигурации Казимира показали, что в геометрической конфигурации двух идеально проводящих пластин $F = -3 \\cdot \\delta\\left(E/V\\right)$. А как насчет конфигурации сот? Исследование этого вопроса в приложениях B и C показало, что $F/S \\approx \\delta\\left(E/V\\right)$."
   ]
  },
  {
   "cell_type": "markdown",
   "metadata": {},
   "source": [
    "# Выводы"
   ]
  },
  {
   "cell_type": "markdown",
   "metadata": {},
   "source": [
    "Таким образом, мы приходим к следующим выводам. Существует сила, приложенная к идеально проводящим сотам на пластине в результате разности удельной плотности энергии на разных ее сторонах. Эта сила зависит, по меньшей мере от частоты обрезания $\\omega_m$ материала пластины с сотами. Эту силу можно интерпретировать как давление электромагнитных колебаний нулевой точки."
   ]
  },
  {
   "cell_type": "markdown",
   "metadata": {},
   "source": [
    "Хотя эффект невелик, экспериментальное подтверждение не представляется невозможным и может представлять определенный интерес."
   ]
  },
  {
   "cell_type": "markdown",
   "metadata": {},
   "source": [
    "Tuo Qu, Fang Liu, Yuechai Lin, Yidong Huang \\cite{Tuo2019} сообщили о производстве золотых наносот размером около 2 мкм.\n",
    "\n",
    "Согласно полученной в данной работе формуле, такие соты должны иметь разность плотностей энергии Казимира около $\\delta\\left(E/V\\right) = 0.0136/({2^4}) = 0.0008555\\,dyne/cm^2 = 0.0008555 \\cdot 10^4 = 8.55\\,dyne/m^2$, то есть 8.55 дин на квадратный метр панели, что уже является вполне приемлемой величиной для практического использования ожидаемого эффекта для коррекции спутниковых орбит.\n",
    "\n",
    "Единственное, что следует отметить, это то, что, согласно моему методу расчета, полученная формула дает $\\delta\\left(E/V\\right)$, вычисленную не для общей площади поверхности сот, а для части площади панели, занятой углублениями (за вычетом части площади сот, занимаемой стенками).\n",
    "\n",
    "Это не означает необходимости стремиться делать очень тонкие стенки сот, так как с уменьшением толщины стенки будет уменьшаться и значение $k_m$.\n",
    "\n",
    "Кроме того, слабым местом моего расчета является неявное предположение о бесконечном значении высоты стенок сот, в то время как реальная высота стенок будет конечной. \n",
    "\n",
    "В то же время, используя подход Антипина (см. приложение D), можно показать, что эффект должен наблюдаться также и при конечной высоте ребер, хотя зависимость эффекта от этой высоты может быть объектом дальнейших исследований.\n",
    "\n",
    "По поводу критики: Hrvoje \\cite{Hrvoje2016} рассматривает эффект Казимира не как следствие существования виртуальных квантовых фотонов, а лишь как проявление дисперсионных сил Лондона-Ван-дер-Ваальса.\n",
    "\n",
    "Хочу отметить, что постановка эксперимента по измерению силы тяги, создаваемой наноячейками, выращенными на металле, могла бы послужить своего рода критическим экспериментом по выяснению того, какая из точек зрения на природу сил Казимира соответствует действительности."
   ]
  },
  {
   "cell_type": "markdown",
   "metadata": {},
   "source": [
    "# Приложение A. Детали интегрирования"
   ]
  },
  {
   "cell_type": "markdown",
   "metadata": {},
   "source": [
    "Воспользуемся функцией регуляризации в виде"
   ]
  },
  {
   "cell_type": "markdown",
   "metadata": {},
   "source": [
    "$$f\\left(\\frac{k}{k_m}\\right) = \\frac{1}{\\frac{k^{4}}{k_{m}^{4}} + 1}$$"
   ]
  },
  {
   "cell_type": "markdown",
   "metadata": {},
   "source": [
    "Начиная с"
   ]
  },
  {
   "cell_type": "markdown",
   "metadata": {},
   "source": [
    "$$F\\left(u, n_x, n_y, a, k_m\\right) = \\sqrt{n_{x}^{2} + n_{y}^{2} + u^{2}} f\\left(\\frac{\\pi \\sqrt{n_{x}^{2} + n_{y}^{2} + u^{2}}}{a k_{m}}\\right)$$"
   ]
  },
  {
   "cell_type": "markdown",
   "metadata": {},
   "source": [
    "Введя переменную\n",
    "\n",
    "$n_{xy} = \\sqrt{n_x^2 + n_y^2}$"
   ]
  },
  {
   "cell_type": "markdown",
   "metadata": {},
   "source": [
    "$F\\left(u, n_{xy}, ak_m\\right) = \\frac{\\sqrt{n_{\\mathit{xy}}^{2} + u^{2}}}{\\frac{\\pi^{4} {\\left(n_{\\mathit{xy}}^{2} + u^{2}\\right)}^{2}}{\\mathit{ak}_{m}^{4}} + 1}$"
   ]
  },
  {
   "cell_type": "markdown",
   "metadata": {},
   "source": [
    "имеем\n",
    "\n",
    "$n = \\sqrt{n_x^2 + n_y^2 + u^2} = \\sqrt{n_{xy}^2 + u^2}$\n",
    "\n",
    "И используя эту переменную, мы можем сделать следующую замену\n",
    "\n",
    "$u = \\sqrt{n^2 - n_x^2 - n_y^2} = \\sqrt{n^2 - n_{xy}^2}$\n",
    "\n",
    "$\\frac{du}{dn} = \\frac{n}{\\sqrt{n^{2} - \\mathit{n_{xy}}^{2}}}$\n",
    "\n",
    "$d{u}= \\frac{n\\,d{n}}{\\sqrt{n^{2} - \\mathit{n_{xy}}^{2}}}$"
   ]
  },
  {
   "cell_type": "markdown",
   "metadata": {},
   "source": [
    "И теперь мы можем переписать наш интеграл"
   ]
  },
  {
   "cell_type": "markdown",
   "metadata": {},
   "source": [
    "$$G\\left(n_x, n_y\\right) = \\int\\limits_{0}^{\\infty}\\sqrt{n_x^2 + n_y^2+u^2}\\,\n",
    "f\\left(\\frac{\\pi\\sqrt{n_x^2 + n_y^2+u^2}}{a\\,k_m}\\right)\\,d{u}, \n",
    "$$\n",
    "\n",
    "измененяя переменную интегрирования с $u$ на $n$"
   ]
  },
  {
   "cell_type": "markdown",
   "metadata": {},
   "source": [
    "$$\n",
    "G\\left(n_x, n_y\\right) = \\int\\limits_{\\sqrt{n_x^2 + n_y^2}}^{\\infty}\\sqrt{n_x^2 + n_y^2+u^2}\\,\n",
    "f\\left(\\frac{\\pi\\sqrt{n_x^2 + n_y^2+u^2}}{a\\,k_m}\\right)\\,dn\\,{\\frac{n}{\\sqrt{n^{2} - n_{x}^{2} - n_{y}^{2}}}}\n",
    "$$"
   ]
  },
  {
   "cell_type": "markdown",
   "metadata": {},
   "source": [
    "$$\n",
    "G\\left(n_x, n_y\\right) = \\int\\limits_{n_{xy}}^{\\infty}n\\,\n",
    "f\\left(\\frac{\\pi\\,n}{a\\,k_m}\\right)\\,dn\\,{\\frac{n}{\\sqrt{n^{2} - n_{xy}^{2}}}}\n",
    "$$"
   ]
  },
  {
   "cell_type": "markdown",
   "metadata": {},
   "source": [
    "Потому что в таком виде этот интеграл можно взять аналитически. Итак, мы имеем следующее подынтегральное выражение:"
   ]
  },
  {
   "cell_type": "markdown",
   "metadata": {},
   "source": [
    "$$F\\left(n, n_{xy}, ak_m\\right) = \\frac{n^{2}}{{\\left(\\frac{\\pi^{4} n^{4}}{\\mathit{ak}_{m}^{4}} + 1\\right)} \\sqrt{n^{2} - n_{\\mathit{xy}}^{2}}}$$"
   ]
  },
  {
   "cell_type": "markdown",
   "metadata": {},
   "source": [
    "и следующие пределы интегрирования по $n$: $n_a = n_{xy}$, $n_b = \\infty$"
   ]
  },
  {
   "cell_type": "markdown",
   "metadata": {},
   "source": [
    "Используем замену Абеля:\n",
    "\n",
    "$$t = \\left(\\sqrt{n^2-n_{xy}^2}\\right)'$$"
   ]
  },
  {
   "cell_type": "markdown",
   "metadata": {},
   "source": [
    "$$t = \\frac{n}{\\sqrt{n^{2} - n_{\\mathit{xy}}^{2}}}$$"
   ]
  },
  {
   "cell_type": "markdown",
   "metadata": {},
   "source": [
    "и следующие пределы интегрирования по $t$: $t_a = +\\infty$, $t_b = +1$"
   ]
  },
  {
   "cell_type": "markdown",
   "metadata": {},
   "source": [
    "Запишем зависимость $n$ от $t$"
   ]
  },
  {
   "cell_type": "markdown",
   "metadata": {},
   "source": [
    "$$n^{2} = \\frac{n_{\\mathit{xy}}^{2} t^{2}}{t^{2} - 1}$$"
   ]
  },
  {
   "cell_type": "markdown",
   "metadata": {},
   "source": [
    "$$n = n_{\\mathit{xy}} \\sqrt{\\frac{t^{2}}{t^{2} - 1}}$$"
   ]
  },
  {
   "cell_type": "markdown",
   "metadata": {},
   "source": [
    "и производные:"
   ]
  },
  {
   "cell_type": "markdown",
   "metadata": {},
   "source": [
    "$$\\frac{dt}{dn} = \\frac{d}{dn} \\left( \\frac{n}{\\sqrt{n^{2} - n_{\\mathit{xy}}^{2}}} \\right)= -\\frac{n^{2}}{{\\left(n^{2} - n_{\\mathit{xy}}^{2}\\right)}^{\\frac{3}{2}}} + \\frac{1}{\\sqrt{n^{2} - n_{\\mathit{xy}}^{2}}}$$"
   ]
  },
  {
   "cell_type": "markdown",
   "metadata": {},
   "source": [
    "$$\\frac{dn}{dt} = -\\frac{n^{4} - 2 \\, n^{2} n_{\\mathit{xy}}^{2} + n_{\\mathit{xy}}^{4}}{\\sqrt{n^{2} - n_{\\mathit{xy}}^{2}} n_{\\mathit{xy}}^{2}}$$"
   ]
  },
  {
   "cell_type": "markdown",
   "metadata": {},
   "source": [
    "Теперь мы можем переписать подынтегральную функцию так, чтобы она зависела от $t$"
   ]
  },
  {
   "cell_type": "markdown",
   "metadata": {},
   "source": [
    "$$F\\left(t, n_{xy}, ak_m\\right) = F\\left(n, n_{xy}, ak_m\\right) \\cdot \\frac{dn}{dt} \\, \\Bigg\\rvert_{ n = n_{\\mathit{xy}} \\sqrt{\\frac{t^{2}}{t^{2} - 1}} }$$\n",
    "\n",
    "$$F\\left(n, n_{xy}, ak_m\\right) \\cdot \\frac{dn}{dt} = -\\frac{{\\left(n^{4} - 2 \\, n^{2} n_{\\mathit{xy}}^{2} + n_{\\mathit{xy}}^{4}\\right)} n^{2}}{{\\left(\\frac{\\pi^{4} n^{4}}{\\mathit{ak}_{m}^{4}} + 1\\right)} {\\left(n^{2} - n_{\\mathit{xy}}^{2}\\right)} n_{\\mathit{xy}}^{2}}$$\n",
    "\n",
    "$$F\\left(t, n_{xy}, ak_m\\right) = -\\frac{{\\left(\\frac{n_{\\mathit{xy}}^{4} t^{4}}{{\\left(t^{2} - 1\\right)}^{2}} - \\frac{2 \\, n_{\\mathit{xy}}^{4} t^{2}}{t^{2} - 1} + n_{\\mathit{xy}}^{4}\\right)} t^{2}}{{\\left(\\frac{\\pi^{4} n_{\\mathit{xy}}^{4} t^{4}}{{\\left(t^{2} - 1\\right)}^{2} \\mathit{ak}_{m}^{4}} + 1\\right)} {\\left(\\frac{n_{\\mathit{xy}}^{2} t^{2}}{t^{2} - 1} - n_{\\mathit{xy}}^{2}\\right)} {\\left(t^{2} - 1\\right)}}$$\n",
    "\n",
    "$$F\\left(t, n_{xy}, ak_m\\right) = \\frac{\\mathit{ak}_{m}^{4} n_{\\mathit{xy}}^{2} t^{2}}{2 \\, \\mathit{ak}_{m}^{4} t^{2} - {\\left(\\pi^{4} n_{\\mathit{xy}}^{4} + \\mathit{ak}_{m}^{4}\\right)} t^{4} - \\mathit{ak}_{m}^{4}}$$"
   ]
  },
  {
   "cell_type": "markdown",
   "metadata": {},
   "source": [
    "Выделим коэффициент при $t^4$ из знаменателя"
   ]
  },
  {
   "cell_type": "markdown",
   "metadata": {},
   "source": [
    "Теперь давайте переместим вышеуказанный коэффициент в числитель. Таким образом, новый числитель будет:"
   ]
  },
  {
   "cell_type": "markdown",
   "metadata": {},
   "source": [
    "$$-\\frac{\\mathit{ak}_{m}^{4} n_{\\mathit{xy}}^{2} t^{2}}{\\pi^{4} n_{\\mathit{xy}}^{4} + \\mathit{ak}_{m}^{4}}$$"
   ]
  },
  {
   "cell_type": "markdown",
   "metadata": {},
   "source": [
    "И, соответственно, новый знаменатель будет:"
   ]
  },
  {
   "cell_type": "markdown",
   "metadata": {},
   "source": [
    "$$-\\frac{2 \\, \\mathit{ak}_{m}^{4} t^{2}}{\\pi^{4} n_{\\mathit{xy}}^{4} + \\mathit{ak}_{m}^{4}} + t^{4} + \\frac{\\mathit{ak}_{m}^{4}}{\\pi^{4} n_{\\mathit{xy}}^{4} + \\mathit{ak}_{m}^{4}}$$"
   ]
  },
  {
   "cell_type": "markdown",
   "metadata": {},
   "source": [
    "Теперь мы должны преобразовать этот знаменатель к следующему виду:"
   ]
  },
  {
   "cell_type": "markdown",
   "metadata": {},
   "source": [
    "$$-{\\left(\\alpha_{1} t + t^{2} + \\beta_{1}\\right)} {\\left(\\alpha_{1} t - t^{2} - \\beta_{1}\\right)}$$\n",
    "\n",
    "$$t^{4} - {\\left(\\alpha_{1}^{2} - 2 \\, \\beta_{1}\\right)} t^{2} + \\beta_{1}^{2}$$"
   ]
  },
  {
   "cell_type": "markdown",
   "metadata": {},
   "source": [
    "Начинаем:"
   ]
  },
  {
   "cell_type": "markdown",
   "metadata": {},
   "source": [
    "Итак, мы имеем следующее уравнение\n",
    "\n",
    "$$-\\frac{2 \\, \\mathit{ak}_{m}^{4} t^{2}}{\\pi^{4} n_{\\mathit{xy}}^{4} + \\mathit{ak}_{m}^{4}} + t^{4} + \\frac{\\mathit{ak}_{m}^{4}}{\\pi^{4} n_{\\mathit{xy}}^{4} + \\mathit{ak}_{m}^{4}} = t^{4} - {\\left(\\alpha_{1}^{2} - 2 \\, \\beta_{1}\\right)} t^{2} + \\beta_{1}^{2}$$\n",
    "\n",
    "и его решение\n",
    "\n",
    "$$\\beta_{1} = \\frac{\\mathit{ak}_{m}^{2}}{\\sqrt{\\pi^{4} n_{\\mathit{xy}}^{4} + \\mathit{ak}_{m}^{4}}}, \\alpha_{1} = \\sqrt{2} \\mathit{ak}_{m} \\sqrt{\\frac{\\mathit{ak}_{m}^{2} + \\sqrt{\\pi^{4} n_{\\mathit{xy}}^{4} + \\mathit{ak}_{m}^{4}}}{\\pi^{4} n_{\\mathit{xy}}^{4} + \\mathit{ak}_{m}^{4}}}$$"
   ]
  },
  {
   "cell_type": "markdown",
   "metadata": {},
   "source": [
    "После определенного выше преобразования подынтегральная функция может быть записана как:"
   ]
  },
  {
   "cell_type": "markdown",
   "metadata": {},
   "source": [
    "$$\\frac{\\mathit{ak}_{m}^{4} n_{\\mathit{xy}}^{2} t^{2}}{{\\left(\\pi^{4} n_{\\mathit{xy}}^{4} + \\mathit{ak}_{m}^{4}\\right)} {\\left(\\alpha_{1} t + t^{2} + \\beta_{1}\\right)} {\\left(\\alpha_{1} t - t^{2} - \\beta_{1}\\right)}}$$"
   ]
  },
  {
   "cell_type": "markdown",
   "metadata": {},
   "source": [
    "Проверим определитель $\\alpha_1^2 - 4\\beta_1$, используя найденное выражение для $\\alpha_1$ и $\\beta_1$."
   ]
  },
  {
   "cell_type": "markdown",
   "metadata": {},
   "source": [
    "Определитель отрицательный. Таким образом, интеграл легко взять:"
   ]
  },
  {
   "cell_type": "markdown",
   "metadata": {},
   "source": [
    "$\\begin{array}{r}\n",
    "\\int F\\left(t, n_{xy}, ak_m\\right) dt = -\\frac{\\mathit{ak}_{m}^{4} n_{\\mathit{xy}}^{2}}{4 \\, {\\left(\\pi^{4} n_{\\mathit{xy}}^{4} + \\mathit{ak}_{m}^{4}\\right)}} \n",
    "\\Bigg(\\frac{2 \\, \\arctan\\left(\\frac{\\alpha_{1} + 2 \\, t}{\\sqrt{-\\alpha_{1}^{2} + 4 \\, \\beta_{1}}}\\right)}{\\sqrt{-\\alpha_{1}^{2} \n",
    "+ 4 \\, \\beta_{1}}} + \\\\\n",
    "\\frac{2 \\, \\arctan\\left(-\\frac{\\alpha_{1} - 2 \\, t}{\\sqrt{-\\alpha_{1}^{2} + 4 \\, \\beta_{1}}}\\right)}{\\sqrt{-\\alpha_{1}^{2} + 4 \\, \\beta_{1}}} \n",
    "- \\frac{\\log\\left(\\alpha_{1} t + t^{2} + \\beta_{1}\\right)}{\\alpha_{1}} \n",
    "+ \\frac{\\log\\left(-\\alpha_{1} t + t^{2} + \\beta_{1}\\right)}{\\alpha_{1}}\\Bigg)\n",
    "\\end{array}$"
   ]
  },
  {
   "cell_type": "markdown",
   "metadata": {},
   "source": [
    "А после подстановки $t$ значение $\\int F\\left(n, n_{xy}, ak_m\\right) dn$ равно:"
   ]
  },
  {
   "cell_type": "markdown",
   "metadata": {},
   "source": [
    "$\\begin{array}{r}\n",
    "\\int F\\left(n, n_{xy}, ak_m\\right) dn = -\\frac{\\mathit{ak}_{m}^{4} n_{\\mathit{xy}}^{2}}{4 \\, {\\left(\\pi^{4} n_{\\mathit{xy}}^{4} + \\mathit{ak}_{m}^{4}\\right)}}\n",
    "\\Bigg(\\frac{2 \\, \\arctan\\left(\\frac{\\alpha_{1} + \\frac{2 \\, n}{\\sqrt{n^{2} - n_{\\mathit{xy}}^{2}}}}{\\sqrt{-\\alpha_{1}^{2} + 4 \\, \\beta_{1}}}\\right)}{\\sqrt{-\\alpha_{1}^{2} + 4 \\, \\beta_{1}}} + \\\\\n",
    "\\frac{2 \\, \\arctan\\left(-\\frac{\\alpha_{1} - \\frac{2 \\, n}{\\sqrt{n^{2} - n_{\\mathit{xy}}^{2}}}}{\\sqrt{-\\alpha_{1}^{2} + 4 \\, \\beta_{1}}}\\right)}{\\sqrt{-\\alpha_{1}^{2} + 4 \\, \\beta_{1}}} - \\frac{\\log\\left(\\frac{\\alpha_{1} n}{\\sqrt{n^{2} - n_{\\mathit{xy}}^{2}}} + \\beta_{1} + \\frac{n^{2}}{n^{2} - n_{\\mathit{xy}}^{2}}\\right)}{\\alpha_{1}} + \\frac{\\log\\left(-\\frac{\\alpha_{1} n}{\\sqrt{n^{2} - n_{\\mathit{xy}}^{2}}} + \\beta_{1} + \\frac{n^{2}}{n^{2} - n_{\\mathit{xy}}^{2}}\\right)}{\\alpha_{1}}\\Bigg)\n",
    "\\end{array}$"
   ]
  },
  {
   "cell_type": "markdown",
   "metadata": {},
   "source": [
    "Проверяем истинность найденного интеграла дифференцированием:"
   ]
  },
  {
   "cell_type": "markdown",
   "metadata": {},
   "source": [
    "$$\\left( \\int F\\left(n, n_{xy}, ak_m\\right) dn \\right)' = \\frac{\\sqrt{n^{2} - n_{\\mathit{xy}}^{2}} \\mathit{ak}_{m}^{4} n^{2}}{\\pi^{4} n^{6} + \\mathit{ak}_{m}^{4} n^{2} - {\\left(\\pi^{4} n^{4} + \\mathit{ak}_{m}^{4}\\right)} n_{\\mathit{xy}}^{2}}$$\n",
    "\n",
    "$$F\\left(n, n_{xy}, ak_m\\right)= \\frac{n^{2}}{{\\left(\\frac{\\pi^{4} n^{4}}{\\mathit{ak}_{m}^{4}} + 1\\right)} \\sqrt{n^{2} - n_{\\mathit{xy}}^{2}}}$$\n",
    "\n",
    "$$\\left( \\int F\\left(n, n_{xy}, ak_m\\right) dn \\right)'-F\\left(n, n_{xy}, ak_m\\right) = 0$$\n"
   ]
  },
  {
   "cell_type": "markdown",
   "metadata": {},
   "source": [
    "Итак, мы получили истинное выражение интеграла $\\int F\\left(n, n_{xy}, ak_m\\right) dn$\n",
    "\n",
    "Теперь, используя его пределы $t_a$ и $t_b$, находим следующий интеграл:"
   ]
  },
  {
   "cell_type": "markdown",
   "metadata": {},
   "source": [
    "$\\begin{array}{r}\n",
    " G\\left(n_{xy}\\right) = \\int\\limits_{0}^{\\infty}\\sqrt{n_{xy}^2+u^2}\\,\n",
    "f\\left(\\frac{\\pi\\sqrt{n_{xy}^2+u^2}}{a\\,k_m}\\right)\\,d{u} = \\\\\n",
    " -\\frac{\\mathit{ak}_{m}^{4} n_{\\mathit{xy}}^{2} {\\left(\\frac{2 \\, \\arctan\\left(\\frac{\\alpha_{1} + 2}{\\sqrt{-\\alpha_{1}^{2} + 4 \\, \\beta_{1}}}\\right)}{\\sqrt{-\\alpha_{1}^{2} + 4 \\, \\beta_{1}}} + \\frac{2 \\, \\arctan\\left(-\\frac{\\alpha_{1} - 2}{\\sqrt{-\\alpha_{1}^{2} + 4 \\, \\beta_{1}}}\\right)}{\\sqrt{-\\alpha_{1}^{2} + 4 \\, \\beta_{1}}} - \\frac{\\log\\left(\\alpha_{1} + \\beta_{1} + 1\\right)}{\\alpha_{1}} + \\frac{\\log\\left(-\\alpha_{1} + \\beta_{1} + 1\\right)}{\\alpha_{1}}\\right)}}{4 \\, {\\left(\\pi^{4} n_{\\mathit{xy}}^{4} + \\mathit{ak}_{m}^{4}\\right)}} \\\\\n",
    "+\\frac{\\pi \\mathit{ak}_{m}^{4} n_{\\mathit{xy}}^{2}}{2 \\, {\\left(\\pi^{4} \\sqrt{-\\alpha_{1}^{2} + 4 \\, \\beta_{1}} n_{\\mathit{xy}}^{4} + \\sqrt{-\\alpha_{1}^{2} + 4 \\, \\beta_{1}} \\mathit{ak}_{m}^{4}\\right)}}\n",
    "\\end{array}$"
   ]
  },
  {
   "cell_type": "markdown",
   "metadata": {},
   "source": [
    "# Приложение B. Расчет электромагнитного давления"
   ]
  },
  {
   "cell_type": "markdown",
   "metadata": {},
   "source": [
    "Рассмотрим прямоугольный резонатор."
   ]
  },
  {
   "cell_type": "markdown",
   "metadata": {},
   "source": [
    "<b>\\textbf{В случае волн электрического типа}</b>\n",
    "\n",
    "$\\nabla\\,\\vec{E} + \\frac{\\omega^2}{c^2}\\,\\vec{E} = 0$ имеем следующее решение\n",
    "\n",
    "$$E_{x} = A_{x} \\cos\\left(\\frac{\\pi n_{x} x}{a}\\right) \\sin\\left(\\frac{\\pi n_{y} y}{b}\\right) \\sin\\left(k_{z} z\\right)$$\n",
    "$$E_{y} = A_{y} \\cos\\left(\\frac{\\pi n_{y} y}{b}\\right) \\sin\\left(\\frac{\\pi n_{x} x}{a}\\right) \\sin\\left(k_{z} z\\right)$$\n",
    "$$E_{z} = A_{z} \\cos\\left(k_{z} z\\right) \\sin\\left(\\frac{\\pi n_{x} x}{a}\\right) \\sin\\left(\\frac{\\pi n_{y} y}{b}\\right)$$\n",
    "\n",
    "и \n",
    "\n",
    "$$H_{x} = \\frac{i \\, {\\left(A_{y} b k_{z} - \\pi A_{z} n_{y}\\right)} c \\cos\\left(\\frac{\\pi n_{y} y}{b}\\right) \\cos\\left(k_{z} z\\right) \\sin\\left(\\frac{\\pi n_{x} x}{a}\\right)}{b \\mu \\omega}$$\n",
    "$$H_{y} = -\\frac{i \\, {\\left(A_{x} k_{z} - \\frac{\\pi A_{z} n_{x}}{a}\\right)} c \\cos\\left(\\frac{\\pi n_{x} x}{a}\\right) \\cos\\left(k_{z} z\\right) \\sin\\left(\\frac{\\pi n_{y} y}{b}\\right)}{\\mu \\omega}$$\n",
    "$$H_{z} = -\\frac{i \\, {\\left(\\frac{\\pi A_{y} n_{x}}{a} - \\frac{\\pi A_{x} n_{y}}{b}\\right)} c \\cos\\left(\\frac{\\pi n_{x} x}{a}\\right) \\cos\\left(\\frac{\\pi n_{y} y}{b}\\right) \\sin\\left(k_{z} z\\right)}{\\mu \\omega}$$\n",
    "\n",
    "с\n",
    "\n",
    "$$k_{z}^{2} + \\frac{\\pi^{2} n_{x}^{2}}{a^{2}} + \\frac{\\pi^{2} n_{y}^{2}}{a^{2}} - \\frac{\\omega^{2}}{c^{2}} = 0$$\n",
    "\n",
    "\n",
    "используя $div\\,\\vec{E} = 0$ имеем\n",
    "\n",
    "$$A_{z} k_{z} + \\frac{\\pi A_{x} n_{x}}{a} + \\frac{\\pi A_{y} n_{y}}{a} = 0$$\n",
    "\n",
    "Плотность энергии электрического поля $\\left(\\int \\frac{E_x^2+E_y^2+E_z^2}{8 \\pi}dV\\right)\\big/{V}$ равна\n",
    "\n",
    "$$\\frac{E}{V} = \\frac{{A_{x}^{2} + A_{y}^{2} + A_{z}^{2}}}{64 \\, \\pi}$$"
   ]
  },
  {
   "cell_type": "markdown",
   "metadata": {},
   "source": [
    "Полная плотность энергии поля  $\\left(\\int \\frac{E_x^2+E_y^2+E_z^2}{8 \\pi}dV + \\int \\frac{H_x^2+H_y^2+H_z^2}{8 \\pi}dV\\right)\\big/{V}$ is"
   ]
  },
  {
   "cell_type": "markdown",
   "metadata": {},
   "source": [
    "$$\\frac{E}{V} = \\frac{{A_{x}^{2} + A_{y}^{2} + A_{z}^{2}}}{32 \\, \\pi}$$"
   ]
  },
  {
   "cell_type": "markdown",
   "metadata": {},
   "source": [
    "Электромагнитное давление $\\left({\\int \\frac {H_x^2+H_y^2}{8 \\pi} dS}\\right)\\big/{S}$ на пластину $xy$ равно"
   ]
  },
  {
   "cell_type": "markdown",
   "metadata": {},
   "source": [
    "$$\\frac{f_z}{S} = -\\frac{2 \\, \\pi A_{x} A_{z} a b^{2} k_{z} n_{x} - \\pi^{2} A_{z}^{2} b^{2} n_{x}^{2} + 2 \\, \\pi A_{y} A_{z} a^{2} b k_{z} n_{y} - \\pi^{2} A_{z}^{2} a^{2} n_{y}^{2} - {\\left(A_{x}^{2} + A_{y}^{2}\\right)} a^{2} b^{2} k_{z}^{2}}{32 \\, {\\left(\\pi a^{2} b^{2} k_{z}^{2} + \\pi^{3} b^{2} n_{x}^{2} + \\pi^{3} a^{2} n_{y}^{2}\\right)}}$$"
   ]
  },
  {
   "cell_type": "markdown",
   "metadata": {},
   "source": [
    "Их отношение $\\frac{f_z/S}{E/V}$ равно"
   ]
  },
  {
   "cell_type": "markdown",
   "metadata": {},
   "source": [
    "$$\\frac{f_z/S}{E/V} = \\frac{A_{x}^{2} a^{2} b^{2} k_{z}^{2} + A_{y}^{2} a^{2} b^{2} k_{z}^{2} - 2 \\, \\pi A_{x} A_{z} a b^{2} k_{z} n_{x} + \\pi^{2} A_{z}^{2} b^{2} n_{x}^{2} - 2 \\, \\pi A_{y} A_{z} a^{2} b k_{z} n_{y} + \\pi^{2} A_{z}^{2} a^{2} n_{y}^{2}}{{\\left(a^{2} b^{2} k_{z}^{2} + \\pi^{2} b^{2} n_{x}^{2} + \\pi^{2} a^{2} n_{y}^{2}\\right)} {\\left(A_{x}^{2} + A_{y}^{2} + A_{z}^{2}\\right)}}$$"
   ]
  },
  {
   "cell_type": "markdown",
   "metadata": {},
   "source": [
    "Рассматривая решение с распространением волны в направлении $z$, имеем $H_z = 0$, что дает:"
   ]
  },
  {
   "cell_type": "markdown",
   "metadata": {},
   "source": [
    "$$\\pi A_{y} b n_{x} - \\pi A_{x} a n_{y} = 0$$"
   ]
  },
  {
   "cell_type": "markdown",
   "metadata": {},
   "source": [
    "и\n",
    "\n",
    "$$A_{x} = -\\frac{A_{z} a b^{2} k_{z} n_{x}}{\\pi b^{2} n_{x}^{2} + \\pi a^{2} n_{y}^{2}},\n",
    "A_{y} = -\\frac{A_{z} a^{2} b k_{z} n_{y}}{\\pi b^{2} n_{x}^{2} + \\pi a^{2} n_{y}^{2}}$$"
   ]
  },
  {
   "cell_type": "markdown",
   "metadata": {},
   "source": [
    "Отношение электромагнитного давления к плотности энергии поля в этом случае равно $1$\n",
    "\n",
    "$$\\frac{f_z/S}{E/V} = 1$$"
   ]
  },
  {
   "cell_type": "markdown",
   "metadata": {},
   "source": [
    "Рассматривая решение с распространением волны в направлении $x$, имеем $H_x = 0$, что дает:"
   ]
  },
  {
   "cell_type": "markdown",
   "metadata": {},
   "source": [
    "$$A_{z} = -\\frac{\\pi A_{x} b^{2} k_{z} n_{x}}{a b^{2} k_{z}^{2} + \\pi^{2} a n_{y}^{2}},\n",
    "A_{y} = -\\frac{\\pi^{2} A_{x} b n_{x} n_{y}}{a b^{2} k_{z}^{2} + \\pi^{2} a n_{y}^{2}}$$"
   ]
  },
  {
   "cell_type": "markdown",
   "metadata": {},
   "source": [
    "Отношение электромагнитного давления к плотности энергии поля в этом случае имеет вид\n",
    "\n",
    "$$\\frac{f_z/S}{E/V} = \\frac{b^{2} k_{z}^{2}}{b^{2} k_{z}^{2} + \\pi^{2} n_{y}^{2}}$$"
   ]
  },
  {
   "cell_type": "markdown",
   "metadata": {},
   "source": [
    "Рассмотрение решения с распространением волны в направлении $y$ $H_y = 0$ аналогично решению в направлении $x$\n",
    "\n",
    "$$A_{x} = -\\frac{\\pi^{2} A_{y} a n_{x} n_{y}}{a^{2} b k_{z}^{2} + \\pi^{2} b n_{x}^{2}},\n",
    "A_{z} = -\\frac{\\pi A_{y} a^{2} k_{z} n_{y}}{a^{2} b k_{z}^{2} + \\pi^{2} b n_{x}^{2}}$$\n",
    "\n",
    "$$\\frac{f_z/S}{E/V} = \\frac{a^{2} k_{z}^{2}}{a^{2} k_{z}^{2} + \\pi^{2} n_{x}^{2}}$$"
   ]
  },
  {
   "cell_type": "markdown",
   "metadata": {},
   "source": [
    "<b>\\textbf{В случае волн магнитного типа}</b>\n",
    "\n",
    "$\\nabla\\,\\vec{H} + \\frac{\\omega^2}{c^2}\\,\\vec{H} = 0$ имеем следующее решение"
   ]
  },
  {
   "cell_type": "markdown",
   "metadata": {},
   "source": [
    "$$H_{x} = B_{1} \\cos\\left(\\frac{\\pi n_{y} y}{b}\\right) \\cos\\left(k_{z} z\\right) \\sin\\left(\\frac{\\pi n_{x} x}{a}\\right)$$\n",
    "$$H_{y} = B_{2} \\cos\\left(\\frac{\\pi n_{x} x}{a}\\right) \\cos\\left(k_{z} z\\right) \\sin\\left(\\frac{\\pi n_{y} y}{b}\\right)$$\n",
    "$$H_{z} = B_{3} \\cos\\left(\\frac{\\pi n_{x} x}{a}\\right) \\cos\\left(\\frac{\\pi n_{y} y}{b}\\right) \\sin\\left(k_{z} z\\right)$$"
   ]
  },
  {
   "cell_type": "markdown",
   "metadata": {},
   "source": [
    "и\n",
    "\n",
    "$$E_{x} = \\frac{i \\, {\\left(B_{2} k_{z} - \\frac{\\pi B_{3} n_{y}}{b}\\right)} c \\cos\\left(\\frac{\\pi n_{x} x}{a}\\right) \\sin\\left(\\frac{\\pi n_{y} y}{b}\\right) \\sin\\left(k_{z} z\\right)}{\\mu \\omega}$$\n",
    "$$E_{y} = -\\frac{i \\, {\\left(B_{1} k_{z} - \\frac{\\pi B_{3} n_{x}}{a}\\right)} c \\cos\\left(\\frac{\\pi n_{y} y}{b}\\right) \\sin\\left(\\frac{\\pi n_{x} x}{a}\\right) \\sin\\left(k_{z} z\\right)}{\\mu \\omega}$$\n",
    "$$E_{z} = -\\frac{i \\, {\\left(\\frac{\\pi B_{2} n_{x}}{a} - \\frac{\\pi B_{1} n_{y}}{b}\\right)} c \\cos\\left(k_{z} z\\right) \\sin\\left(\\frac{\\pi n_{x} x}{a}\\right) \\sin\\left(\\frac{\\pi n_{y} y}{b}\\right)}{\\mu \\omega}$$"
   ]
  },
  {
   "cell_type": "markdown",
   "metadata": {},
   "source": [
    "с\n",
    "\n",
    "$$k_{z}^{2} + \\frac{\\pi^{2} n_{x}^{2}}{a^{2}} + \\frac{\\pi^{2} n_{y}^{2}}{a^{2}} - \\frac{\\omega^{2}}{c^{2}} = 0$$"
   ]
  },
  {
   "cell_type": "markdown",
   "metadata": {},
   "source": [
    "используя $div\\,\\vec{H} = 0$, имеем\n",
    "\n",
    "$$B_{3} k_{z} + \\frac{\\pi B_{1} n_{x}}{a} + \\frac{\\pi B_{2} n_{y}}{a} = 0$$"
   ]
  },
  {
   "cell_type": "markdown",
   "metadata": {},
   "source": [
    "Плотность энергии магнитного поля $\\left(\\int \\frac{H_x^2+H_y^2+H_z^2}{8 \\pi}dV\\right)\\big/{V}$ равна\n",
    "\n",
    "$$\\frac{E}{V} = \\frac{{B_{1}^{2} + B_{2}^{2} + B_{3}^{2}}}{64 \\, \\pi}$$"
   ]
  },
  {
   "cell_type": "markdown",
   "metadata": {},
   "source": [
    "Полная плотность энергии поля $\\left(\\int \\frac{E_x^2+E_y^2+E_z^2}{8 \\pi}dV + \\int \\frac{H_x^2+H_y^2+H_z^2}{ 8 \\pi}dV\\right)\\big/{V}$ есть"
   ]
  },
  {
   "cell_type": "markdown",
   "metadata": {},
   "source": [
    "$$\\frac{E}{V} = \\frac{{B_{1}^{2} + B_{2}^{2} + B_{3}^{2}}}{32 \\, \\pi}$$"
   ]
  },
  {
   "cell_type": "markdown",
   "metadata": {},
   "source": [
    "Электромагнитное давление $\\left({\\int \\frac {H_x^2+H_y^2}{8 \\pi} dS}\\right)\\big/{S}$ на пластину $xy$ равно\n",
    "\n",
    "$$\\frac{f_z}{S}=\\frac{{B_{1}^{2} + B_{2}^{2}}}{32 \\, \\pi}$$\n",
    "\n",
    "Их отношение $\\frac{f_z/S}{E/V}$ равно\n",
    "\n",
    "$$\\frac{f_z/S}{E/V} = \\frac{{B_{1}^{2} + B_{2}^{2}}}{B_{1}^{2} + B_{2}^{2} + B_{3}^{2}}$$\n",
    "\n",
    "Рассматривая решение с распространением волны в направлении $z$, имеем $E_z = 0$, что дает:\n",
    "\n",
    "$$\\frac{\\pi B_{2} n_{x}}{a} - \\frac{\\pi B_{1} n_{y}}{a} = 0$$\n",
    "\n",
    "и\n",
    "\n",
    "$$B_1 = -\\frac{B_{3} a k_{z} n_{x}}{\\pi n_{x}^{2} + \\pi n_{y}^{2}},\n",
    "B_2 = -\\frac{B_{3} a k_{z} n_{y}}{\\pi n_{x}^{2} + \\pi n_{y}^{2}}$$\n",
    "\n",
    "Отношение электромагнитного давления к плотности энергии поля в этом случае имеет вид\n",
    "\n",
    "$$\\frac{f_z/S}{E/V} = \\frac{a^{2} k_{z}^{2}}{a^{2} k_{z}^{2} + \\pi^{2} n_{x}^{2} + \\pi^{2} n_{y}^{2}}$$\n"
   ]
  },
  {
   "cell_type": "markdown",
   "metadata": {},
   "source": [
    "Рассматривая решение с распространением волны в направлении $x$, имеем $E_x = 0$, что дает:\n",
    "\n",
    "$$B_3 = -\\frac{\\pi B_{1} a k_{z} n_{x}}{a^{2} k_{z}^{2} + \\pi^{2} n_{y}^{2}}, \n",
    "B_2 = -\\frac{\\pi^{2} B_{1} n_{x} n_{y}}{a^{2} k_{z}^{2} + \\pi^{2} n_{y}^{2}}$$\n",
    "\n",
    "Отношение электромагнитного давления к плотности энергии поля в этом случае имеет вид\n",
    "\n",
    "$$\\frac{f_z/S}{E/V} = \\frac{a^{2} b^{4} k_{z}^{4} + 2 \\, \\pi^{2} a^{2} b^{2} k_{z}^{2} n_{y}^{2} + \\pi^{4} b^{2} n_{x}^{2} n_{y}^{2} + \\pi^{4} a^{2} n_{y}^{4}}{{\\left(a^{2} b^{2} k_{z}^{2} + \\pi^{2} b^{2} n_{x}^{2} + \\pi^{2} a^{2} n_{y}^{2}\\right)} {\\left(b^{2} k_{z}^{2} + \\pi^{2} n_{y}^{2}\\right)}}$$\n",
    "\n",
    "Рассмотрение решения с распространением волны в направлении $y$ $E_y = 0$ аналогично решению в направлении $x$"
   ]
  },
  {
   "cell_type": "markdown",
   "metadata": {},
   "source": [
    "$$B_3 = -\\frac{\\pi B_{2} a k_{z} n_{y}}{a^{2} k_{z}^{2} + \\pi^{2} n_{x}^{2}}, \n",
    "B_1 = -\\frac{\\pi^{2} B_{2} n_{x} n_{y}}{a^{2} k_{z}^{2} + \\pi^{2} n_{x}^{2}}$$\n",
    "\n",
    "$$\\frac{f_z/S}{E/V} = \\frac{a^{4} b^{2} k_{z}^{4} + 2 \\, \\pi^{2} a^{2} b^{2} k_{z}^{2} n_{x}^{2} + \\pi^{4} b^{2} n_{x}^{4} + \\pi^{4} a^{2} n_{x}^{2} n_{y}^{2}}{{\\left(a^{2} b^{2} k_{z}^{2} + \\pi^{2} b^{2} n_{x}^{2} + \\pi^{2} a^{2} n_{y}^{2}\\right)} {\\left(a^{2} k_{z}^{2} + \\pi^{2} n_{x}^{2}\\right)}}$$"
   ]
  },
  {
   "cell_type": "markdown",
   "metadata": {},
   "source": [
    "Итак, мы видим, что задача расчета электромагнитной силы в конфигурации наносот довольно проста, потому что мы можем видеть, что\n",
    "\n",
    "$$\\lim_{k_z \\to \\infty}\\frac{f_z/S}{E/V} = 1$$\n",
    "\n",
    "Также мы видим, что если мы уменьшим $a$, то мы уменьшим $\\frac{f_z/S}{E/V}$. Таким образом, это приводит к\n",
    "\n",
    "$$\\frac{F}{S} \\geq \\delta\\,\\frac{E}{V} = \\hbar\\,c\\, \\pi\\frac{R}{a^4}$$\n",
    "\n",
    "С другой стороны, я могу показать тот же результат, используя"
   ]
  },
  {
   "cell_type": "markdown",
   "metadata": {},
   "source": [
    "# Приложение C. Подход гамильтоновой механики"
   ]
  },
  {
   "cell_type": "markdown",
   "metadata": {},
   "source": [
    "Рассмотрим кубическую полость объемом $L^3$, ограниченную идеально проводящими стенками, и пусть в эту полость параллельно грани $xy$ помещена идеально проводящая квадратная пластина со стороной $L$, и рассмотрим ситуацию, при которой эта пластина находится на очень большом, скажем, $l = L/2$ расстоянии a от грани $xy$.\n",
    "\n",
    "Одна сторона этой идеально проводящей квадратной пластины представляет собой чистую плоскость, а другая покрыта идеально проводящими сотами.\n",
    "\n",
    "По обеим сторонам пластины выражения $1\\big/2\\sum\\,\\hbar\\omega$ где суммирование распространяется на все возможные резонансные частоты резонатора $\\left(L-l\\right)\\times L\\times L$ (большая полость между чистой плоскостью и гранью $xy$) и полость $l\\times a\\times a$ (маленькая полость, одна сотовая ячейка) расходятся и лишены физического смысла, но производная ${d\\left<0|\\hat {\\mathcal{H}}|0\\right>}\\big/{dl}$ вакуумного Гамильтониана всей системы для этих сумм для обеих противоположных сторон, $\\left<0|\\hat{\\mathcal{H}}|0\\right> = 1\\big/2\\,\\left(\\sum\\,\\,\\hbar\\omega\\right)_{I} + 1\\big/2\\,\\left(\\sum\\,\\,\\hbar\\omega\\right)_{II}$, как будет показано, имеет четко определенное значение, и это значение будет интерпретировано как взаимодействие между пластиной и обеими гранями $xy$."
   ]
  },
  {
   "cell_type": "markdown",
   "metadata": {},
   "source": [
    "Возможные колебания внутри полостей, определяемые\n",
    "\n",
    "$0<=x<=L$, $0<=y<=L$, $0>=z>=-\\,(L-l)$ (большая полость: между чистой плоскостью и гранью $xy$)\n",
    "\n",
    "и\n",
    "\n",
    "$0<=x<=a$, $0<=y<=a$, $0<=z<=l$ (маленькая полость, одна сотовая ячейка)"
   ]
  },
  {
   "cell_type": "markdown",
   "metadata": {},
   "source": [
    "имеют волновые векторы\n",
    "\n",
    "$k_x = \\frac{\\pi}{L}\\,n_x$, $k_y = \\frac{\\pi}{L}\\,n_y$, $k_z = \\frac{\\pi}{L-l}\\,n_z$ (большая полость: между чистой плоскостью и гранью $xy$),\n",
    "\n",
    "и\n",
    "\n",
    "$k_x = \\frac{\\pi}{a}\\,n_x$, $k_y = \\frac{\\pi}{a}\\,n_y$, $k_z = \\frac{\\pi}{l}\\,n_z$ (маленькая полость, одна сотовая ячейка),\n",
    "\n",
    "где $n_x$. $n_y$, $n_z$ положительные целые числа;\n",
    "\n",
    "$k = \\sqrt{k_x^2+k_y^2+k_z^2} = \\sqrt{\\kappa^2+k_z^2}$.\n",
    "\n",
    "$E = \\frac{1}{2}\\sum\\,\\hbar\\omega = \\hbar\\,c\\frac{1}{2}\\sum\\limits_{n_x}^{}\\sum\\limits_{n_y}^{}\\sum\\limits_{n_z}^{}k$"
   ]
  },
  {
   "cell_type": "markdown",
   "metadata": {},
   "source": [
    "Каждому $k_x$, $k_y$, $k_z$ соответствуют две стоячие волны, если только одна из $n_i$ не равна нулю, когда существует только одна.\n",
    "\n",
    "В случае маленькой полости для одной сотовой ячейки при очень больших $l$ мы можем рассматривать $k_z$ как непрерывную переменную, заменив суммирование по $n_z$ на интегрирование. Таким образом, мы находим\n",
    "\n",
    "$\\frac{1}{2}\\sum\\,\\hbar\\omega = \\hbar\\,c\\frac{1}{2}\\int\\limits_{0}^{\\infty}\\left[{\\sqrt{k_z^2}+2\\sum\\limits_{n_x=1}^{\\infty}\\sum\\limits_{n_y=1}^{\\infty}\\sqrt{n_x^2\\frac{\\pi^2}{a^2}+n_y^2\\frac{\\pi^2}{a^2}+k_z^2}}\\right]d{n_z}$ (маленькая полость, одна сотовая ячейка),\n",
    "\n",
    "$dn_z = \\frac{l}{\\pi}\\,dk_z$."
   ]
  },
  {
   "cell_type": "markdown",
   "metadata": {},
   "source": [
    "Теперь мы можем найти удельную (по площади) плотность энергии $E/S$, где $S = S_{small} = a^2$:"
   ]
  },
  {
   "cell_type": "markdown",
   "metadata": {},
   "source": [
    "$\\frac{1}{2 S}\\sum\\,\\hbar\\omega = \\frac{\\hbar\\,c}{a^2}\\int\\limits_{0}^{\\infty}\\left[{\\frac{1}{2}\\sqrt{k_z^2}+\\sum\\limits_{n_x=1}^{\\infty}\\sum\\limits_{n_y=1}^{\\infty}\\sqrt{n_x^2\\frac{\\pi^2}{a^2}+n_y^2\\frac{\\pi^2}{a^2}+k_z^2}}\\right]\\frac{l}{\\pi}\\,dk_z$ (маленькая полость, одна сотовая ячейка),"
   ]
  },
  {
   "cell_type": "markdown",
   "metadata": {},
   "source": [
    "$\\frac{1}{2 S}\\sum\\,\\hbar\\omega = \\frac{\\hbar\\,c}{a^2\\,\\pi}\\sum\\limits_{n_x=(0)1}^{\\infty}\\sum\\limits_{n_y=(0)1}^{\\infty}\\left[\\int\\limits_{0}^{\\infty}\\sqrt{n_x^2\\frac{\\pi^2}{a^2}+n_y^2\\frac{\\pi^2}{a^2}+k_z^2}\\,dk_z\\right]$ (маленькая полость, одна сотовая ячейка),"
   ]
  },
  {
   "cell_type": "markdown",
   "metadata": {},
   "source": [
    "И в случае большой полости при очень больших $L$ мы можем рассматривать $k_x$, $k_y$ как непрерывные переменные. Таким образом, мы находим\n",
    "\n",
    "$\\frac{1}{2}\\sum\\,\\hbar\\omega = \\hbar\\,c\\frac{1}{2}\\int\\limits_{0}^{\\infty}\\int\\limits_{0}^{\\infty}\\left[{\\sqrt{k_x^2+k_y^2}+2\\sum\\limits_{n_z=1}^{\\infty}\\sqrt{n_z^2\\frac{\\pi^2}{(L-l)^2}+k_x^2+k_y^2}}\\right]d{n_x}d{n_y}$ (большая полость: между чистой плоскостью и гранью $xy$),\n",
    "\n",
    "Для очень больших $L-l$ и это последнее суммирование можно заменить интегралом, и поэтому легко видеть, что энергия определяется выражением\n",
    "\n",
    "$\\frac{1}{2}\\sum\\,\\hbar\\omega = \\hbar\\,c\\int\\limits_{0}^{\\infty}\\int\\limits_{0}^{\\infty}\\int\\limits_{0}^{\\infty}\\sqrt{k_z^2+k_x^2+k_y^2}\\,d{n_x}\\,d{n_y}\\,d{n_z}$ (большая полость: между чистой плоскостью и гранью $xy$),\n",
    "\n",
    "$dn_x = \\frac{L}{\\pi}\\,dk_x$, $dn_y = \\frac{L}{\\pi}\\,dk_y$, $dn_z = \\frac{L-l}{\\pi}\\,dk_z$."
   ]
  },
  {
   "cell_type": "markdown",
   "metadata": {},
   "source": [
    "Теперь мы можем найти удельную (по площади) плотность энергии $E/S$, где $S = S_{large} = L^2$:\n",
    "\n",
    "$\\frac{\\sum\\hbar\\omega}{2 S} = \\frac{\\hbar\\,c}{L^2}\\int\\limits_{0}^{\\infty}\\int\\limits_{0}^{\\infty}\\int\\limits_{0}^{\\infty}\\sqrt{k_z^2+k_x^2+k_y^2}\\,dn_x\\,dn_y\\,\\frac{L-l}{\\pi}\\,dk_z$ (большая полость: между чистой плоскостью и гранью $xy$),\n",
    "\n",
    "$\\frac{\\sum\\hbar\\omega}{2 S} = \\frac{L-l}{L^2\\,\\pi}\\hbar\\,c\\int\\limits_{0}^{\\infty}\\int\\limits_{0}^{\\infty}\\left[\\,\\int\\limits_{0}^{\\infty}\\sqrt{k_z^2+k_x^2+k_y^2}\\,dk_z\\right]\\,dn_x\\,dn_y$ (большая полость: между чистой плоскостью и гранью $xy$),\n",
    "\n",
    "$\\frac{\\sum\\hbar\\omega}{2\\,S} = \\frac{L-l}{L^2\\,\\pi}\\hbar\\,c\\int\\limits_{0}^{\\infty}\\int\\limits_{0}^{\\infty}\\left[\\,\\int\\limits_{0}^{\\infty}\\sqrt{k_x^2+k_y^2+k_z^2}\\,dk_z\\right]\\,\\left(\\frac{L}{\\pi}dk_x\\right)\\,\\left(\\frac{L}{\\pi}dk_y\\right)$ (большая полость: между чистой плоскостью и гранью $xy$),\n",
    "\n",
    "$\\frac{\\sum\\hbar\\omega}{2\\,S} = \\frac{L-l}{a^2\\,\\pi}\\hbar\\,c\\int\\limits_{0}^{\\infty}\\int\\limits_{0}^{\\infty}\\left[\\,\\int\\limits_{0}^{\\infty}\\sqrt{k_x^2+k_y^2+k_z^2}\\,dk_z\\right]\\,\\left(\\frac{a}{\\pi}dk_x\\right)\\,\\left(\\frac{a}{\\pi}dk_y\\right)$ (большая полость: между чистой плоскостью и гранью $xy$)."
   ]
  },
  {
   "cell_type": "markdown",
   "metadata": {},
   "source": [
    "Поэтому легко видеть, что удельный (по площади) вакуумный Гамильтониан $\\frac{\\left<0|\\hat{\\mathcal{H}}|0\\right>}{S}$ всей системы задается\n",
    "\n",
    "$$\\begin{array}{lr}\n",
    "\\frac{\\left<0|\\hat{\\mathcal{H}}|0\\right>}{S} =\n",
    "\\begin{array}{c}\\frac{\\hbar\\,c}{a^2\\,\\pi}\\Bigg\\{l\\sum\\limits_{n_x=(0)1}^{\\infty}\\sum\\limits_{n_y=(0)1}^{\\infty}\\left[\\,\\int\\limits_{0}^{\\infty}\\sqrt{n_x^2\\frac{\\pi^2}{a^2}+n_y^2\\frac{\\pi^2}{a^2}+k_z^2}\\,dk_z\\right] + \\\\\n",
    "(L-l)\\int\\limits_{0}^{\\infty}\\int\\limits_{0}^{\\infty}\\left[\\,\\int\\limits_{0}^{\\infty}\\sqrt{k_x^2+k_y^2+k_z^2}\\,dk_z\\right]\\,\\left(\\frac{a}{\\pi}dk_x\\right)\\,\\left(\\frac{a}{\\pi}dk_y\\right)\\Bigg\\}\n",
    "\\end{array}\\end{array}$$\n",
    "\n",
    "и взаимодействие $\\frac{F}{S} = \\frac{d}{dl} \\,\\frac{\\left<0|\\hat{\\mathcal{H}}|0\\right>}{S}$:\n",
    "\n",
    "$$\\begin{array}{lr}\\frac{F}{S} =\n",
    "\\begin{array}{c}\\frac{\\hbar\\,c}{a^2\\,\\pi}\\Bigg\\{\\sum\\limits_{n_x=(0)1}^{\\infty}\\sum\\limits_{n_y=(0)1}^{\\infty}\\left[\\,\\int\\limits_{0}^{\\infty}\\sqrt{n_x^2\\frac{\\pi^2}{a^2}+n_y^2\\frac{\\pi^2}{a^2}+k_z^2}\\,dk_z\\right] - \\\\\n",
    "\\int\\limits_{0}^{\\infty}\\int\\limits_{0}^{\\infty}\\left[\\,\\int\\limits_{0}^{\\infty}\\sqrt{k_x^2+k_y^2+k_z^2}\\,dk_z\\right]\\,dn_x\\,dn_y\\Bigg\\}\\end{array}\\end{array}$$"
   ]
  },
  {
   "cell_type": "markdown",
   "metadata": {},
   "source": [
    "Таким образом, используя подход гамильтоновой механики, я вижу, что формула для силы, воздействующей на идеально проводящие соты на пластине ${F}/{S}$, такая же, как и для разности удельных плотностей энергии на разных ее сторонах $\\delta\\left({E}/{V}\\right)$."
   ]
  },
  {
   "cell_type": "markdown",
   "metadata": {},
   "source": [
    "\\begin{wrapfigure}{r}{0.5\\textwidth}\n",
    "\\begin{center}\n",
    "\\includegraphics[width=0.48\\textwidth]{Casimir_honeycomb_images/Antipins_angle_ru.png}\n",
    "\\caption{}{Уголок Антипина}\n",
    "\\end{center}\n",
    "\\label{fig:Antipins_angle}\n",
    "\\end{wrapfigure}"
   ]
  },
  {
   "cell_type": "markdown",
   "metadata": {},
   "source": [
    "# Приложение D. Вывод формулы тяги сот на основе формулы Антипина для тяги металлического уголка"
   ]
  },
  {
   "cell_type": "markdown",
   "metadata": {},
   "source": [
    "Антипин \\cite{Antipin2012} приводит оценочный расчёт силы тяги «уголка» при помощи формулы Казимира, «при самых общих и естественных приближениях, известных, как PFA (Proximity Force Approximation), или PAA (Pairwise Additive Approximation), способ расчёта \\cite{Intravaia2013}, \\cite{Rodriguez2011}».\n",
    "\n",
    "Энергия взаимодействия Казимира определяется выражением\n",
    "$$\\delta\\,E/L^2 = \\hbar\\,c\\frac{\\pi^2}{4\\,a^3}\\left\\{\\frac{-4}{24\\times30}\\right\\}$$\n",
    "\n",
    "Сила Казимира\n",
    "$$F_{c} = \\hbar\\,c\\frac{-3\\,\\pi^2}{4\\,a^4}\\left\\{\\frac{-4}{24\\times30}\\right\\}$$\n",
    "\n",
    "Движущая сила металлического уголка\n",
    "\n",
    "$$F_{тяги} = 2 \\int F_{c} \\, sin\\, \\alpha \\,dS$$\n",
    "\n",
    "$$dS = b\\,dz$$\n",
    "\n",
    "$$F_{тяги} = 2\\, \\frac{-3\\,\\pi^2\\hbar c b}{4}\\int\\limits_{z_{min}}^{z_{max}} \\left\\{\\frac{-4}{24\\times30}\\right\\}\\frac{sin\\, \\alpha}{\\left(a\\left(z\\right)\\right)^4}dz$$\n",
    "\n",
    "делаем подстановку\n",
    "\n",
    "$$a\\left(z\\right) = 2\\,z\\,tg\\, \\alpha$$\n",
    "\n",
    "$$F_{тяги} = 2\\, \\frac{-3\\,\\pi^2\\hbar c b}{4}\\int\\limits_{z_{min}}^{z_{max}} \\left\\{\\frac{-4}{24\\times30}\\right\\}\\frac{sin\\, \\alpha}{\\left(2\\,z\\,tg \\alpha\\right)^4}dz$$\n",
    "\n",
    "$$F_{тяги} = 2\\, \\frac{-3\\,\\pi^2\\hbar c b}{4} \\frac{sin\\, \\alpha}{\\left(2\\,tg\\, \\alpha\\right)^4} \\int\\limits_{z_{min}}^{z_{max}} \\left\\{\\frac{-4}{24\\times30}\\right\\} \\frac{dz}{z^4}$$\n",
    "\n",
    "$$F_{тяги} = -2\\cdot3\\, \\frac{\\pi^2\\hbar c b}{240} \\frac{sin\\, \\alpha}{\\left(2\\,tg\\, \\alpha\\right)^4} \\left(\\frac{1}{z^3}\\right)\\Bigg\\rvert_{\\,z_{min}}^{\\,z_{max}} $$"
   ]
  },
  {
   "cell_type": "markdown",
   "metadata": {},
   "source": [
    "Можно сделать подстановку\n",
    "$$z = l\\, cos\\, \\alpha$$\n",
    "\n",
    "$$F_{тяги} = -2\\cdot3\\, \\frac{\\pi^2\\hbar c b}{240} \\frac{sin\\, \\alpha}{2^4\\left(tg\\,\\alpha\\right)^4\\left(cos\\, \\alpha\\right)^3} \\left(\\frac{1}{l^3}\\right)\\Bigg\\rvert_{\\,l_{min}}^{\\,l_{max}} $$\n",
    "\n",
    "$$F_{тяги} = -2\\cdot3\\, \\frac{\\pi^2\\hbar c b}{240} \\frac{cos\\, \\alpha}{2^4\\left(sin\\, \\alpha\\right)^4} \\left(\\frac{1}{l^3}\\right)\\Bigg\\rvert_{\\,l_{min}}^{\\,l_{max}} $$\n",
    "\n",
    "$$F_{тяги} = \\frac{\\pi^2\\hbar c b}{640} \\frac{cos\\, \\alpha}{\\left(sin\\, \\alpha\\right)^4} \\left(\\frac{1}{l_{min}^3} - \\frac{1}{l_{max}^3}\\right)$$\n",
    "\n",
    "Таким образом получена формула тяги уголка исходя из длины его крыльев.\n",
    "\n",
    "Антипин указывает, что величина $l_{min}$ ограничена снизу уровнем «обрезания», который определяется технологически:\n",
    "\n",
    "- точностью изготовления пластин (их шероховатостью, степенью плоскостности), а также\n",
    "\n",
    "- минимальной длиной волны фотонов, которые может эффективно отражать вещество, из которого изготовлен уголок (величиной $k_m$)."
   ]
  },
  {
   "cell_type": "markdown",
   "metadata": {},
   "source": [
    "Исследуя зависимость коэффициента в формуле тяги уголка, зависящего от половинного угла раствора $\\alpha$ можно видеть, что при заданной длине крыльев уголка выгоднее делать минимально возможный угол раствора. Однако для целей настоящей работы (исследование возможности получения тяги с помощью наносот) важно заметить что для уголка с прямым углом $\\alpha = {\\pi}/{4}$ коэффициент $\\left({cos\\, \\alpha}\\right)\\big/\\left({\\left(sin\\, \\alpha\\right)^4}\\right) = 2\\sqrt{2}$. Таким образом  составляя из множества прямоугольных уголков конструкцию в виде сот показывается, что тяга панели состоящей из прямоугольных сот не нулевая.\n",
    "\n",
    "Действительно, прямоугольную соту с размером ячейки $b \\times b$ и с такой же самой  высотой ребра равной $b = l_{max}$ можно представить себе как комбинацию четырёх уголков с половинным углом раствора равным $\\alpha = {\\pi}/{4}$. Тягу каждого уголка \n",
    "\n",
    "$$F_{тяги} = - \\frac{\\pi^2\\hbar c l_{max}}{640} 2\\sqrt{2} \\left(\\frac{1}{l_{min}^3} - \\frac{1}{l_{max}^3}\\right)$$\n",
    "\n",
    "направленную вдоль биссектрисы каждого угла нужно умножить на $sin\\left({\\pi}/{4}\\right)={\\sqrt{2}}\\big/{2}$ и при умножении на 4 тяга одной квадратной \"распечатанной\" соты будет равна \n",
    "\n",
    "$$F_{тяги} = - \\frac{\\pi^2\\hbar c b}{640} 2\\sqrt{2}\\cdot4\\,\\frac{\\sqrt{2}}{2} \\left(\\frac{1}{l_{min}^3} - \\frac{1}{b^3}\\right)$$\n",
    "\n",
    "$$F_{тяги} = - \\frac{\\pi^2\\hbar c b}{640} 2\\cdot4\\,\\left(\\frac{1}{l_{min}^3} - \\frac{1}{b^3}\\right)$$\n",
    "\n",
    "$$F_{тяги} = - \\frac{\\pi^2\\hbar c b}{80} \\left(\\frac{1}{l_{min}^3} - \\frac{1}{b^3}\\right)$$\n",
    "\n",
    "Итак, формула для удельной тяги сот, полученная с помощью метода PFA (Proximity Force Approximation), или PAA (Pairwise Additive Approximation)\n",
    "\n",
    "$$\\frac{F_{тяги}}{S} = - \\frac{\\pi^2\\hbar c}{80\\, b} \\left(\\frac{1}{l_{min}^3} - \\frac{1}{b^3}\\right)$$\n",
    "\n",
    "в какой-то степени похожа на формулу величины двумерного эффекта Казимира на сотах, произведённую в первой части данной работы: по меньшей мере значением показатель степени в знаменателе совпадает.\n",
    "\n",
    "$$\\delta\\,\\frac{E}{V} \\approx R\\left(b k_m\\right)\\,\\frac{\\hbar\\,c\\,\\pi}{b^4}$$\n",
    "\n",
    "Здесь нужно отметить, что данная формула получена без учета конечности высоты ребра сот (иными словами в приближении бесконечной высоты ребер), в отличие от PFA варианта формулы для которого высота ребра принята равной ширине ячейки. \n",
    "\n",
    "Приблизительное соответствие этих формул говорит о том эффект должен наблюдаться также и при конечной высоте ребер, хотя зависимость эффекта от этой высоты может быть объектом дальнейших исследований.\n",
    "\n",
    "С помощью панели из остроугольных уголков можно теоретически добиваться бОльшей величины тяги, но технологически производство панелей из сот представляется более простым, чем производство панелей из V-образных уголков"
   ]
  },
  {
   "cell_type": "markdown",
   "metadata": {},
   "source": [
    "\\begin{thebibliography}{99}\n",
    "\n",
    "\\bibitem{Casimir1948}\n",
    "\\textit{Casimir, H. B. G. (1948). On the attraction between two perfectly conducting plates. Proc. K. Ned. Akad. Wet. B 51, 793–5.\n",
    "https://www.dwc.knaw.nl/DL/publications/PU00018547.pdf}\n",
    "\n",
    "\\bibitem{Boyer1968}\n",
    "\\textit{Boyer, T. H. (1968). Quantum electromagnetic zero-point energy of a conducting spherical shell and Casimir model for a charged particle. Phys. Rev. 174, 1764–76.}\n",
    "\n",
    "\\bibitem{Antipin2012}\n",
    "\\textit{Antipin A. V. (2012). RU 2 610 018 C2. Method for propulsion of bodies by Casimir effect and/or its analogue.}\n",
    "\n",
    "\\bibitem{Bikyalis1968}\n",
    "\\textit{A.Bikyalis (1968). Euler-Maclaurin summation formula for a function of many variables.  Lietuvos matematikos rinkinys. Литовский математический сборник. p.681\n",
    "https://www.journals.vu.lt/LMJ/article/view/20600/19701}\n",
    "\n",
    "\\bibitem{Tuo2019}\n",
    "\\textit{Tuo Qu, Fang Liu, Yuechai Lin, Yidong Huang, \"Metal nano-honeycomb fabricated by colloidal assembly and femtosecond-laser annealing,\" Proc. SPIE 10841, 9th International Symposium on Advanced Optical Manufacturing and Testing Technologies: Meta-Surface-Wave and Planar Optics, 108410A (30 January 2019); https://doi.org/10.1117/12.2508593}\n",
    "\n",
    "\\bibitem{Hrvoje2016}\n",
    "\\textit{Nikolic, Hrvoje (2016). \"Proof that Casimir force does not originate from vacuum energy\". Physics Letters B. 761: 197–202. arXiv:1605.04143. Bibcode:2016PhLB..761..197N. doi:10.1016/j.physletb.2016.08.036. S2CID 119265677.}\n",
    "\n",
    "\\bibitem{Intravaia2013}\n",
    "\\textit{F. Intravaia et al., Strong Casimir force reduction through metallic surface nanostructuring // Nature Comm, art. 2515, 4 (Sep. 2013) pp. 1-20}\n",
    "\n",
    "\\bibitem{Rodriguez2011}\n",
    "\\textit{A.W. Rodriguez, F. Capasso, S.G. Johnson, The Casimir effect in microstructured geometries // Nature Photonics, V.5, (Apr. 2011), p.211-221}\n",
    "\n",
    "\\end{thebibliography}"
   ]
  }
 ],
 "metadata": {
  "kernelspec": {
   "display_name": "SageMath 9.6.beta7",
   "language": "sage",
   "name": "sagemath"
  },
  "language_info": {
   "codemirror_mode": {
    "name": "ipython",
    "version": 3
   },
   "file_extension": ".py",
   "mimetype": "text/x-python",
   "name": "python",
   "nbconvert_exporter": "python",
   "pygments_lexer": "ipython3",
   "version": "3.10.3"
  }
 },
 "nbformat": 4,
 "nbformat_minor": 2
}
