{
 "cells": [
  {
   "cell_type": "markdown",
   "metadata": {},
   "source": [
    "# Электродинамический расчёт волнового двигателя с внутренним расходом энергии Ф.Ф.Менде (MenDrive)\n",
    "\n",
    "А.Ю.Дроздов"
   ]
  },
  {
   "cell_type": "markdown",
   "metadata": {},
   "source": [
    "Основываясь на решении задач из задачника Батыгина Топтыгина\n",
    "\n",
    "Batygin_Toptygin_task_464_465.sage\n",
    "\n",
    "В. В. БАТЫГИН, И. Н. ТОПТЫГИН\n",
    "СБОРНИК ЗАДАЧ\n",
    "по\n",
    "ЭЛЕКТРОДИНАМИКЕ\n",
    "МОСКВА 1970\n",
    "\n",
    "512. Бесконечно протяженный диэлектрический слой заполняет в вакууме область $-a<=x<=a$ и имеет проницаемости $\\epsilon$ и $\\mu$.\n",
    "Показать, что такой слой может действовать как волновод (для этого нужно, чтобы поле бегущей электромагнитной волны концентрировалось, в основном, внутри слоя). Определить типы волн, которые могут распространяться в таком волноводе. Ограничиться случаем, когда векторы поля не зависят от координаты $y$.\n",
    "\n",
    "513. Диэлектрический слой с проницаемостями $\\epsilon$, $\\mu$, заполняющий область $0<=x<=a$, нанесен на поверхность идеального\n",
    "проводника. В области $x>a$ - вакуум. Какие типы электромагнитных волн с амплитудой, убывающей при удалении от слоя, могут распространяться вдоль слоя? Сравнить возможные типы волн с системой волн, полученной в предыдущей задаче.\n",
    "\n",
    "В издании 1962 года номера этих задач 464 и 465"
   ]
  },
  {
   "cell_type": "markdown",
   "metadata": {},
   "source": [
    "рассчитаем тягу в\n",
    "\n",
    "http://fmnauka.narod.ru/dvigatel_emdrive.pdf\n",
    "\n",
    "Ф.Ф. МЕНДЕ, ВОЛНОВОЙ ДВИГАТЕЛЬ С ВНУТРЕННИМ РАСХОДОМ ЭНЕРГИИ ЭЛЕКТРОМАГНИТНЫХ КОЛЕБАНИЙ"
   ]
  },
  {
   "cell_type": "markdown",
   "metadata": {},
   "source": [
    "геометрия задачи следующая: \n",
    "\n",
    "поверхность идеального проводника $x<=-a$\n",
    "\n",
    "вакуума внутри резонатора заполняет область $-a<=x<=0$\n",
    "\n",
    "В области $x>0$ - плохой проводник"
   ]
  },
  {
   "cell_type": "markdown",
   "metadata": {},
   "source": [
    "$$rot\\,\\vec{E} = \\mu\\,\\frac{i\\,\\omega}{c}\\,\\vec{H}$$\n",
    "\n",
    "$$rot\\,\\vec{H} = \\frac{1}{c}\\frac{\\partial \\vec D}{\\partial t} + \\frac{4\\pi}{c} \\vec j = - \\frac{i\\,\\omega}{c} \\epsilon \\vec{E} + \\frac{4\\pi}{c}\\sigma \\vec E$$\n",
    "\n",
    "$$rot\\,rot\\,\\vec{E} = \\mu\\,\\frac{i\\,\\omega}{c}rot\\,\\vec{H}$$\n",
    "\n",
    "$$rot\\,rot\\,\\vec{E} = \\mu\\,\\frac{i\\,\\omega}{c}\\left(- \\frac{i\\,\\omega}{c} \\epsilon \\vec{E} + \\frac{4\\pi}{c}\\sigma \\vec E\\right)$$\n",
    "\n",
    "$$rot\\,rot\\,\\vec{E} = \\epsilon \\mu\\,\\frac{\\omega^2}{c^2} \\vec{E} + i\\,\\omega\\,\\sigma\\,\\mu\\,\\frac{4\\pi}{c^2} \\vec E$$\n",
    "\n",
    "$$rot\\,rot\\,\\vec{E} = grad\\,div\\,\\vec{E} - Laplasian\\,\\vec{E}$$\n",
    "\n",
    "$$Laplasian\\,\\vec{E} + \\epsilon \\mu \\frac{\\omega^2}{c^2}\\,\\vec{E} + i\\,\\omega\\,\\sigma\\,\\mu\\,\\frac{4\\pi}{c^2} \\vec E - grad\\,div\\,\\vec{E} = 0$$\n"
   ]
  },
  {
   "cell_type": "markdown",
   "metadata": {},
   "source": [
    "$$div\\,\\vec{E} = - \\frac{\\vec{n}}{c} \\frac{\\partial \\vec E}{\\partial t}$$\n",
    "\n",
    "$$grad\\,div\\,\\vec{E} = - grad\\,\\frac{\\vec{n}}{c} \\frac{\\partial \\vec E}{\\partial t}$$\n",
    "\n",
    "для вакуума внутри резонатора ищем решение в виде\n",
    "\n",
    "$$\\vec{E} = \\vec{E}(x)\\,e^{i\\,k\\,z}\\,e^{-i\\,\\omega\\,t}$$"
   ]
  },
  {
   "cell_type": "markdown",
   "metadata": {},
   "source": [
    "подставляя в исходное уравнение приходим к обыкновенному дифференциальному уравнению\n",
    "\n",
    "$$\\frac{\\partial^{2}}{(\\partial {x})^{2}}\\vec{E}(x) + \\frac{\\partial^{2}}{(\\partial {y})^{2}}\\vec{E}(x) + \\left(\\epsilon  \\mu \\frac{\\omega^2}{c^2} + i\\,\\omega\\,\\sigma\\,\\mu\\,\\frac{4\\pi}{c^2} - {k'_z}^2\\right)\\,\\vec{E}(x) - grad\\,div\\,\\vec{E} = 0$$"
   ]
  },
  {
   "cell_type": "markdown",
   "metadata": {},
   "source": [
    "производим следующую замену переменных\n",
    "\n",
    "$$\\kappa^2 = \\epsilon \\mu \\frac{\\omega^2}{c^2} + i\\,\\omega\\,\\sigma\\,\\mu\\,\\frac{4\\pi}{c^2}$$\n",
    "\n",
    "теперь получаем дифференциальное уравнение\n",
    "\n",
    "$$\\frac{\\partial^{2}}{(\\partial {x})^{2}}\\vec{E}(x) + \\frac{\\partial^{2}}{(\\partial {y})^{2}}\\vec{E}(x) + \\left(\\kappa^2 - {k'_z}^2\\right)\\,\\vec{E}(x) = 0$$"
   ]
  },
  {
   "cell_type": "code",
   "execution_count": null,
   "metadata": {},
   "outputs": [],
   "source": []
  },
  {
   "cell_type": "markdown",
   "metadata": {},
   "source": [
    "для проводящего металла с потерями ищем решение в виде\n",
    "\n",
    "$$\\vec{E} = \\vec{E}\\,e^{i\\,k'_x\\,x}\\,e^{i\\,k'_z\\,z}\\,e^{-i\\,\\omega\\,t}$$\n",
    "\n",
    "в котором волновой вектор, направленный вдоль оси z комплексный $k'_z = k_z + i\\,s_z$, как и волновой вектор, направленный вдоль оси x может быть комплексным $k'_x = k_x + i\\,s_x$\n",
    "\n",
    "$$\\vec{E} = \\vec{E}\\,e^{i\\,(k_x + i\\,s_x)\\,(x-a)}\\,e^{i\\,(k_z + i\\,s_z)\\,z}\\,e^{-i\\,\\omega\\,t}$$"
   ]
  },
  {
   "cell_type": "code",
   "execution_count": null,
   "metadata": {},
   "outputs": [],
   "source": []
  },
  {
   "cell_type": "markdown",
   "metadata": {},
   "source": [
    "принимая модель комплексного представления диэлектрической проницаемости $\\epsilon' = \\epsilon + \\frac{4\\pi\\,\\sigma}{\\omega}\\,i$ (плохой проводник)"
   ]
  },
  {
   "cell_type": "markdown",
   "metadata": {},
   "source": [
    "подставляем решение в\n",
    "\n",
    "$$Laplasian\\,\\vec{E} + \\frac{\\mu \\omega^2}{c^2}\\left(\\epsilon + \\frac{4\\pi\\,\\sigma}{\\omega}\\,i\\right)\\,\\vec{E} - grad\\,div\\,\\vec{E} = 0$$\n",
    "\n",
    "и принимая\n",
    "\n",
    "$$div\\,\\vec{E} = - \\frac{\\vec{n}}{c} \\frac{\\partial \\vec E}{\\partial t}$$"
   ]
  },
  {
   "cell_type": "markdown",
   "metadata": {},
   "source": [
    "приходим к\n",
    "\n",
    "$$\\frac{\\partial^{2}}{(\\partial {x})^{2}}\\vec{E}(x) + \\frac{\\partial^{2}}{(\\partial {y})^{2}}\\vec{E}(x) + \\left(\\frac{\\mu \\omega^2}{c^2}\\left(\\epsilon + \\frac{4\\pi\\,\\sigma}{\\omega}\\,i\\right)  - {k'_z}^2\\right)\\,\\vec{E} - grad\\, \\left(\\frac{\\vec{n}}{c} \\frac{\\partial \\vec E}{\\partial t} \\right) = 0$$"
   ]
  },
  {
   "cell_type": "markdown",
   "metadata": {},
   "source": [
    "$$ k = \\frac{\\omega}{c}\\,\\sqrt{\\mu\\,\\left(\\epsilon  + \\frac{4\\pi\\,\\sigma}{\\omega}\\,i\\right)}$$"
   ]
  },
  {
   "cell_type": "markdown",
   "metadata": {},
   "source": [
    "$${k'_z}^2=\\left(k_z + i\\,s_z \\right)^2 = k_z^2 - s_z^2 + 2\\,i\\,k_z\\,s_z$$"
   ]
  },
  {
   "cell_type": "markdown",
   "metadata": {},
   "source": [
    "приходим к\n",
    "\n",
    "$$\\frac{\\partial^{2}}{(\\partial {x})^{2}}\\vec{E}(x) + \\frac{\\partial^{2}}{(\\partial {y})^{2}}\\vec{E}(x) + \\left(\\frac{\\mu \\omega^2}{c^2}\\epsilon + \\frac{\\mu \\omega^2}{c^2}\\frac{4\\pi\\,\\sigma}{\\omega}\\,i - {k'_z}^{2}\\right) = 0$$\n"
   ]
  },
  {
   "cell_type": "code",
   "execution_count": 1,
   "metadata": {},
   "outputs": [],
   "source": [
    "from IPython.display import display, Math, Latex\n",
    "\n",
    "mu = var('mu')\n",
    "assume(mu, 'real')\n",
    "assume(mu>0)\n",
    "\n",
    "epsilon = var('epsilon')\n",
    "assume(epsilon, 'real')\n",
    "assume(epsilon>0)\n",
    "\n",
    "mu_0 = 1\n",
    "epsilon_0 = 1\n",
    "\n",
    "sigma = var('sigma')\n",
    "assume(sigma, 'real')\n",
    "assume(sigma>0)\n",
    "\n",
    "sx = var ('sx')\n",
    "assume(sx, 'real')\n",
    "assume(sx>0)\n",
    "\n",
    "sy = var ('sy')\n",
    "assume(sy, 'real')\n",
    "assume(sy>0)\n",
    "\n",
    "sz = var ('sz')\n",
    "assume(sz, 'real')\n",
    "assume(sz>0)\n",
    "\n",
    "kappa_vacuum = var ('kappa_vacuum')\n",
    "assume(kappa_vacuum, 'real')\n",
    "assume(kappa_vacuum>0)\n",
    "\n",
    "#k, kappa = var('k, kappa')\n",
    "kappa = var('kappa')\n",
    "#assume(k, 'complex')\n",
    "assume(kappa, 'complex')\n",
    "\n",
    "kx = var ('kx')\n",
    "assume(kx, 'real')\n",
    "\n",
    "ky = var ('ky')\n",
    "assume(ky, 'real')\n",
    "\n",
    "kz = var ('kz')\n",
    "assume(kz, 'real')\n",
    "\n",
    "k__x = var ('k__x')\n",
    "assume(k__x, 'complex')\n",
    "\n",
    "k__y = var ('k__y')\n",
    "assume(k__x, 'complex')\n",
    "\n",
    "k__z = var ('k__z')\n",
    "assume(k__z, 'complex')\n",
    "\n",
    "k_x = var ('k_x')\n",
    "assume(k_x, 'complex')\n",
    "\n",
    "k_y = var ('k_y')\n",
    "assume(k_x, 'complex')\n",
    "\n",
    "k_z = var ('k_z')\n",
    "assume(k_z, 'complex')\n",
    "\n",
    "\n",
    "a = var('a')\n",
    "assume(a, 'real')\n",
    "assume(a>0)\n",
    "\n",
    "x = var('x')\n",
    "y = var('y')\n",
    "z = var('z')\n",
    "\n",
    "assume(x, 'real')\n",
    "assume(y, 'real')\n",
    "assume(z, 'real')\n",
    "\n",
    "c = var('c')\n",
    "assume(c, 'real')\n",
    "assume(c>0)\n",
    "\n",
    "omega = var('omega')\n",
    "assume(omega, 'real')"
   ]
  },
  {
   "cell_type": "code",
   "execution_count": 2,
   "metadata": {},
   "outputs": [],
   "source": [
    "p = var(\"p\") # angle of phase shift of A1_z\n",
    "# k = var(\"k\") # wave vector along x\n",
    "\n",
    "assume(a, \"real\")\n",
    "assume(p, \"real\")\n",
    "\n",
    "# assume(k, \"complex\")"
   ]
  },
  {
   "cell_type": "markdown",
   "metadata": {},
   "source": [
    "$$\\kappa^2 = \\epsilon \\mu \\frac{\\omega^2}{c^2} + i\\,\\omega\\,\\sigma\\,\\mu\\,\\frac{4\\pi}{c^2}$$"
   ]
  },
  {
   "cell_type": "code",
   "execution_count": 3,
   "metadata": {},
   "outputs": [
    {
     "name": "stdout",
     "output_type": "stream",
     "text": [
      "eq_kappa =\n"
     ]
    },
    {
     "data": {
      "text/latex": [
       "$\\displaystyle \\kappa^{2} = \\frac{4 i \\, \\pi \\mu \\omega \\sigma}{c} + \\frac{\\epsilon \\mu \\omega^{2}}{c^{2}}$"
      ],
      "text/plain": [
       "<IPython.core.display.Math object>"
      ]
     },
     "metadata": {},
     "output_type": "display_data"
    },
    {
     "name": "stdout",
     "output_type": "stream",
     "text": [
      "eq_kappa_inner_vacuum =\n"
     ]
    },
    {
     "data": {
      "text/latex": [
       "$\\displaystyle \\kappa_{\\mathit{vacuum}}^{2} = \\frac{\\omega^{2}}{c^{2}}$"
      ],
      "text/plain": [
       "<IPython.core.display.Math object>"
      ]
     },
     "metadata": {},
     "output_type": "display_data"
    }
   ],
   "source": [
    "# исходя из вида дифференциальных уравнений для вакуума внутри резонатора и проводящего металла с потерями\n",
    "# записываем соотнощения для волнового вектора в виде уравнений\n",
    "\n",
    "eq_kappa              = kappa^2 == mu * epsilon * omega^2 / c^2 + I*omega*sigma*mu*4*pi/c\n",
    "eq_kappa_inner_vacuum = kappa_vacuum^2 == omega^2 / c^2\n",
    "\n",
    "kappa_sol = solve(eq_kappa, kappa)[1]\n",
    "#kappa_vacuum_sol = omega / c\n",
    "\n",
    "print(\"eq_kappa =\")\n",
    "display(Math(latex(eq_kappa)))\n",
    "\n",
    "print(\"eq_kappa_inner_vacuum =\")\n",
    "display(Math(latex(eq_kappa_inner_vacuum)))"
   ]
  },
  {
   "cell_type": "code",
   "execution_count": null,
   "metadata": {},
   "outputs": [],
   "source": []
  },
  {
   "cell_type": "markdown",
   "metadata": {},
   "source": [
    "принимая модель комплексного представления диэлектрической проницаемости $\\epsilon' = \\epsilon + \\frac{4\\pi\\,\\sigma}{\\omega}\\,i$ (плохой проводник)"
   ]
  },
  {
   "cell_type": "code",
   "execution_count": 4,
   "metadata": {},
   "outputs": [],
   "source": [
    "epsilon_complex = epsilon + I * 4 * pi * sigma / omega"
   ]
  },
  {
   "cell_type": "markdown",
   "metadata": {},
   "source": [
    "приходим к\n",
    "\n",
    "$$\\frac{\\partial^{2}}{(\\partial {x})^{2}}\\vec{E}(x) + \\frac{\\partial^{2}}{(\\partial {y})^{2}}\\vec{E}(x) +  \\left(\\frac{\\mu \\omega^2}{c^2}\\epsilon + \\frac{\\mu \\omega^2}{c^2}\\frac{4\\pi\\,\\sigma}{\\omega}\\,i - {k'_z}^{2}\\right) = 0$$\n"
   ]
  },
  {
   "cell_type": "markdown",
   "metadata": {},
   "source": [
    "$${k'_z}^2=\\left(k_z + i\\,s_z \\right)^2 = k_z^2 - s_z^2 + 2\\,i\\,k_z\\,s_z$$"
   ]
  },
  {
   "cell_type": "markdown",
   "metadata": {},
   "source": []
  },
  {
   "cell_type": "code",
   "execution_count": 5,
   "metadata": {},
   "outputs": [],
   "source": [
    "k__y_subs = k__y == 0 #ky + I * sy"
   ]
  },
  {
   "cell_type": "code",
   "execution_count": 6,
   "metadata": {},
   "outputs": [],
   "source": [
    "k__z_subs = k__z == kz + I * sz"
   ]
  },
  {
   "cell_type": "code",
   "execution_count": null,
   "metadata": {},
   "outputs": [],
   "source": []
  },
  {
   "cell_type": "markdown",
   "metadata": {},
   "source": [
    "$$\\frac{\\partial^{2}}{(\\partial {x})^{2}}\\vec{E}(x) + \\frac{\\partial^{2}}{(\\partial {y})^{2}}\\vec{E}(x) + \\left(\\frac{\\mu \\epsilon \\omega^2}{c^2} - {k'_z}^2\\right)\\,\\vec{E}(x) - grad\\,div\\,\\vec{E} = 0$$"
   ]
  },
  {
   "cell_type": "markdown",
   "metadata": {},
   "source": [
    "зависимость поля от $y$ отсутствует"
   ]
  },
  {
   "cell_type": "markdown",
   "metadata": {},
   "source": [
    "$$\\frac{\\partial^{2}}{(\\partial {x})^{2}}\\vec{E}(x) + \\left(\\frac{\\mu \\epsilon \\omega^2}{c^2} - {k'_z}^2\\right)\\,\\vec{E}(x) - grad\\,div\\,\\vec{E} = 0$$"
   ]
  },
  {
   "cell_type": "code",
   "execution_count": 7,
   "metadata": {},
   "outputs": [
    {
     "name": "stdout",
     "output_type": "stream",
     "text": [
      "de_inner_vacuum =\n"
     ]
    },
    {
     "data": {
      "text/latex": [
       "$\\displaystyle -{\\left(k_{z}^{2} - \\kappa^{2}\\right)} E\\left(x\\right) + \\frac{\\partial^{2}}{(\\partial x)^{2}}E\\left(x\\right) = 0$"
      ],
      "text/plain": [
       "<IPython.core.display.Math object>"
      ]
     },
     "metadata": {},
     "output_type": "display_data"
    }
   ],
   "source": [
    "# решаем полученные обыкновенные дифференциальные уравнения\n",
    "E = function('E')(x)\n",
    "\n",
    "\n",
    "de_inner_vacuum = diff (E, x, 2) + diff (E, y, 2) + (kappa^2 - k_z^2) * E == 0\n",
    "# diff (E, y, 2) == 0\n",
    "de_inner_vacuum = diff (E, x, 2) + (kappa^2 - k_z^2) * E == 0\n",
    "# получая таким образом выражения для электрического поля в вакуума внутри резонатора и внутри проводящего металла с потерями\n",
    "print(\"de_inner_vacuum =\")\n",
    "display(Math(latex(de_inner_vacuum)))"
   ]
  },
  {
   "cell_type": "code",
   "execution_count": 8,
   "metadata": {},
   "outputs": [
    {
     "name": "stdout",
     "output_type": "stream",
     "text": [
      "E_inner_vacuum =\n"
     ]
    },
    {
     "data": {
      "text/latex": [
       "$\\displaystyle K_{1} e^{\\left(i \\, \\sqrt{-k_{z}^{2} + \\kappa^{2}} x\\right)} + K_{2} e^{\\left(-i \\, \\sqrt{-k_{z}^{2} + \\kappa^{2}} x\\right)}$"
      ],
      "text/plain": [
       "<IPython.core.display.Math object>"
      ]
     },
     "metadata": {},
     "output_type": "display_data"
    }
   ],
   "source": [
    "assume(k_z^2-kappa^2 > 0)\n",
    "\n",
    "E_inner_vacuum = desolve(de_inner_vacuum, E, ivar = x)\n",
    "#E_inner_vacuum = desolve(de_inner_vacuum, E, ivar = [x, y], contrib_ode = True)\n",
    "\n",
    "# получая таким образом выражения для электрического поля в вакуума внутри резонатора и внутри проводящего металла с потерями\n",
    "print(\"E_inner_vacuum =\")\n",
    "display(Math(latex(E_inner_vacuum)))"
   ]
  },
  {
   "cell_type": "code",
   "execution_count": 9,
   "metadata": {},
   "outputs": [],
   "source": [
    "# eq_kx_vacuum = k_x = I*sqrt(kappa_vacuum^2-k_z^2)\n",
    "# eq_kx        = k_x = I*sqrt(kappa^2-k_z^2)"
   ]
  },
  {
   "cell_type": "code",
   "execution_count": null,
   "metadata": {},
   "outputs": [],
   "source": []
  },
  {
   "cell_type": "code",
   "execution_count": 10,
   "metadata": {},
   "outputs": [],
   "source": [
    "B1_x = var ('B1_x')\n",
    "B2_x = var ('B2_x')\n",
    "\n",
    "A1_x = var ('A1_x')\n",
    "A2_x = var ('A2_x')\n",
    "\n",
    "\n",
    "B1_y = var ('B1_y')\n",
    "B2_y = var ('B2_y')\n",
    "\n",
    "A1_y = var ('A1_y')\n",
    "A2_y = var ('A2_y')\n",
    "\n",
    "\n",
    "B1_z = var ('B1_z')\n",
    "B2_z = var ('B2_z')\n",
    "\n",
    "A1_z = var ('A1_z')\n",
    "A2_z = var ('A2_z')\n",
    "\n",
    "A1_x_re, A1_y_re, A1_z_re = var(\"A1_x_re, A1_y_re, A1_z_re\")\n",
    "A1_x_im, A1_y_im, A1_z_im = var(\"A1_x_im, A1_y_im, A1_z_im\")\n",
    "\n",
    "A2_x_re, A2_y_re, A2_z_re = var(\"A2_x_re, A2_y_re, A2_z_re\")\n",
    "A2_x_im, A2_y_im, A2_z_im = var(\"A2_x_im, A2_y_im, A2_z_im\")\n",
    "\n",
    "B1_x_re, B1_y_re, B1_z_re = var(\"B1_x_re, B1_y_re, B1_z_re\")\n",
    "B1_x_im, B1_y_im, B1_z_im = var(\"B1_x_im, B1_y_im, B1_z_im\")\n",
    "\n",
    "\n",
    "assume(A1_x_re, \"real\")\n",
    "assume(A1_x_im, \"real\")\n",
    "\n",
    "assume(A2_x_re, \"real\")\n",
    "assume(A2_x_im, \"real\")\n",
    "\n",
    "assume(A1_y_re, \"real\")\n",
    "assume(A1_y_im, \"real\")\n",
    "\n",
    "assume(A2_y_re, \"real\")\n",
    "assume(A2_y_im, \"real\")\n",
    "\n",
    "assume(A1_z_re, \"real\")\n",
    "assume(A1_z_im, \"real\")\n",
    "\n",
    "assume(A2_z_re, \"real\")\n",
    "assume(A2_z_im, \"real\")\n",
    "\n",
    "\n",
    "assume(B1_x_re, \"real\")\n",
    "assume(B1_x_im, \"real\")\n",
    "\n",
    "assume(B1_y_re, \"real\")\n",
    "assume(B1_y_im, \"real\")\n",
    "\n",
    "assume(B1_z_re, \"real\")\n",
    "assume(B1_z_im, \"real\")"
   ]
  },
  {
   "cell_type": "code",
   "execution_count": 11,
   "metadata": {},
   "outputs": [],
   "source": [
    "A1_x_re_im_subs = A1_x == A1_x_re + I * A1_x_im\n",
    "A2_x_re_im_subs = A2_x == A2_x_re + I * A2_x_im\n",
    "\n",
    "A1_y_re_im_subs = A1_y == A1_y_re + I * A1_y_im\n",
    "A2_y_re_im_subs = A2_y == A2_y_re + I * A2_y_im\n",
    "\n",
    "A1_z_re_im_subs = A1_z == A1_z_re + I * A1_z_im\n",
    "A2_z_re_im_subs = A2_z == A2_z_re + I * A2_z_im\n",
    "\n",
    "B1_x_re_im_subs = B1_x == B1_x_re + I * B1_x_im\n",
    "B1_y_re_im_subs = B1_y == B1_y_re + I * B1_y_im\n",
    "B1_z_re_im_subs = B1_z == B1_z_re + I * B1_z_im"
   ]
  },
  {
   "cell_type": "code",
   "execution_count": 12,
   "metadata": {},
   "outputs": [],
   "source": [
    "# 2D\n",
    "# отсутсвие изменения поля вдоль оси y\n",
    "set_Ey_0 = False"
   ]
  },
  {
   "cell_type": "code",
   "execution_count": 13,
   "metadata": {},
   "outputs": [],
   "source": [
    "if set_Ey_0:\n",
    "    B1_y = 0\n",
    "    B2_y = 0\n",
    "\n",
    "    A1_y = 0\n",
    "    A2_y = 0\n",
    "\n",
    "    ky   = 0"
   ]
  },
  {
   "cell_type": "code",
   "execution_count": 14,
   "metadata": {},
   "outputs": [],
   "source": [
    "# K_vacuum = sqrt(kappa_vacuum^2-k_z^2)\n",
    "# K_conductor = sqrt(kappa^2-k_z^2)\n",
    "\n",
    "K_vacuum    = var(\"K_vacuum\")\n",
    "K_conductor = var(\"K_conductor\")"
   ]
  },
  {
   "cell_type": "code",
   "execution_count": 15,
   "metadata": {},
   "outputs": [
    {
     "name": "stdout",
     "output_type": "stream",
     "text": [
      "E_inner_vacuum_sol_z (x) \n"
     ]
    },
    {
     "data": {
      "text/latex": [
       "$\\displaystyle \\mathit{A2}_{z} e^{\\left(i \\, K_{\\mathit{vacuum}} x\\right)} + \\mathit{A1}_{z} e^{\\left(-i \\, K_{\\mathit{vacuum}} x\\right)}$"
      ],
      "text/plain": [
       "<IPython.core.display.Math object>"
      ]
     },
     "metadata": {},
     "output_type": "display_data"
    },
    {
     "name": "stdout",
     "output_type": "stream",
     "text": [
      "E_inner_vacuum_sol_x (x) =\n"
     ]
    },
    {
     "data": {
      "text/latex": [
       "$\\displaystyle \\mathit{A2}_{x} e^{\\left(i \\, K_{\\mathit{vacuum}} x\\right)} + \\mathit{A1}_{x} e^{\\left(-i \\, K_{\\mathit{vacuum}} x\\right)}$"
      ],
      "text/plain": [
       "<IPython.core.display.Math object>"
      ]
     },
     "metadata": {},
     "output_type": "display_data"
    },
    {
     "name": "stdout",
     "output_type": "stream",
     "text": [
      "E_inner_vacuum_sol_y (x) =\n"
     ]
    },
    {
     "data": {
      "text/latex": [
       "$\\displaystyle \\mathit{A2}_{y} e^{\\left(i \\, K_{\\mathit{vacuum}} x\\right)} + \\mathit{A1}_{y} e^{\\left(-i \\, K_{\\mathit{vacuum}} x\\right)}$"
      ],
      "text/plain": [
       "<IPython.core.display.Math object>"
      ]
     },
     "metadata": {},
     "output_type": "display_data"
    }
   ],
   "source": [
    "if False:\n",
    "    # выражения для электрического поля\n",
    "    # в вакууме внутри резонатора\n",
    "    E_inner_vacuum_z (x) = (A1_z_re*cos(sqrt(kappa_vacuum^2-k_z^2)*x) + A1_z_im*sin(sqrt(kappa_vacuum^2-k_z^2)*x))\n",
    "    E_inner_vacuum_x (x) = (A1_x_re*cos(sqrt(kappa_vacuum^2-k_z^2)*x) + A1_x_im*sin(sqrt(kappa_vacuum^2-k_z^2)*x))\n",
    "    E_inner_vacuum_y (x) = (A1_y_re*cos(sqrt(kappa_vacuum^2-k_z^2)*x) + A1_y_im*sin(sqrt(kappa_vacuum^2-k_z^2)*x))\n",
    "\n",
    "    # знак перед корнем будем выбирать всегда так чтобы корень имел положительную мнимую часть\n",
    "    E_inner_vacuum_z (x) = (A1_z*exp(- I * sqrt(kappa_vacuum^2-k_z^2)*x))\n",
    "    E_inner_vacuum_x (x) = (A1_x*exp(- I * sqrt(kappa_vacuum^2-k_z^2)*x))\n",
    "    E_inner_vacuum_y (x) = (A1_y*exp(- I * sqrt(kappa_vacuum^2-k_z^2)*x))\n",
    "\n",
    "    print (\"E_inner_vacuum_z \")\n",
    "    display(Math(latex(E_inner_vacuum_z)))\n",
    "    print (\"E_inner_vacuum_x =\")\n",
    "    display(Math(latex(E_inner_vacuum_x)))\n",
    "    print (\"E_inner_vacuum_y =\")\n",
    "    display(Math(latex(E_inner_vacuum_y)))\n",
    "else:\n",
    "    # знак перед корнем (K_vacuum) будем выбирать всегда так чтобы корень имел положительную мнимую часть\n",
    "    E_inner_vacuum_sol_z (x) = A1_z*exp(- I * K_vacuum*x) + A2_z*exp( I * K_vacuum*x)\n",
    "    E_inner_vacuum_sol_x (x) = A1_x*exp(- I * K_vacuum*x) + A2_x*exp( I * K_vacuum*x)\n",
    "    E_inner_vacuum_sol_y (x) = A1_y*exp(- I * K_vacuum*x) + A2_y*exp( I * K_vacuum*x)\n",
    "\n",
    "    E_inner_vacuum_z = function(\"E_inner_vacuum_z\")\n",
    "    E_inner_vacuum_x = function(\"E_inner_vacuum_x\")\n",
    "    E_inner_vacuum_y = function(\"E_inner_vacuum_y\")\n",
    "\n",
    "\n",
    "\n",
    "print (\"E_inner_vacuum_sol_z (x) \")\n",
    "display(Math(latex(E_inner_vacuum_sol_z (x))))\n",
    "print (\"E_inner_vacuum_sol_x (x) =\")\n",
    "display(Math(latex(E_inner_vacuum_sol_x (x))))\n",
    "print (\"E_inner_vacuum_sol_y (x) =\")\n",
    "display(Math(latex(E_inner_vacuum_sol_y (x))))"
   ]
  },
  {
   "cell_type": "markdown",
   "metadata": {},
   "source": [
    "решение для проводящего металла с потерями\n",
    "\n",
    "$\\vec{E} = \\vec{E}\\,e^{i\\,k_x'\\,x}\\,e^{i\\,k_z\\,z}\\,e^{-i\\,\\omega\\,t}$\n",
    "\n",
    "$k_x' = k_x + i\\,s_x$\n",
    "\n",
    "$\\vec{E} = \\vec{E}\\,e^{-s_x\\,x}\\,e^{i\\,k_x\\,x}\\,e^{i\\,k_z\\,z}\\,e^{-i\\,\\omega\\,t}$"
   ]
  },
  {
   "cell_type": "code",
   "execution_count": 16,
   "metadata": {},
   "outputs": [
    {
     "name": "stdout",
     "output_type": "stream",
     "text": [
      "E_bad_conductor_sol_z (x) \n"
     ]
    },
    {
     "data": {
      "text/latex": [
       "$\\displaystyle \\mathit{B1}_{z} e^{\\left(i \\, K_{\\mathit{conductor}} x\\right)}$"
      ],
      "text/plain": [
       "<IPython.core.display.Math object>"
      ]
     },
     "metadata": {},
     "output_type": "display_data"
    },
    {
     "name": "stdout",
     "output_type": "stream",
     "text": [
      "E_bad_conductor_sol_x (x) =\n"
     ]
    },
    {
     "data": {
      "text/latex": [
       "$\\displaystyle \\mathit{B1}_{x} e^{\\left(i \\, K_{\\mathit{conductor}} x\\right)}$"
      ],
      "text/plain": [
       "<IPython.core.display.Math object>"
      ]
     },
     "metadata": {},
     "output_type": "display_data"
    },
    {
     "name": "stdout",
     "output_type": "stream",
     "text": [
      "E_bad_conductor_sol_y (x) =\n"
     ]
    },
    {
     "data": {
      "text/latex": [
       "$\\displaystyle \\mathit{B1}_{y} e^{\\left(i \\, K_{\\mathit{conductor}} x\\right)}$"
      ],
      "text/plain": [
       "<IPython.core.display.Math object>"
      ]
     },
     "metadata": {},
     "output_type": "display_data"
    }
   ],
   "source": [
    "if False:\n",
    "    # x > a-{k'_x}^{2}-{k'_y}^{2} +\n",
    "    # в проводящем металле с потерями\n",
    "    #if True:\n",
    "    #    E_bad_conductor_z (x) = A2_z * e^(-sx*x) * e^(I*kx*x)\n",
    "    #    E_bad_conductor_x (x) = A2_x * e^(-sx*x) * e^(I*kx*x)\n",
    "    #    E_bad_conductor_y (x) = A2_y * e^(-sx*x) * e^(I*kx*x)\n",
    "    #else:\n",
    "    #    E_bad_conductor_z (x) = A2_z * e^(-sx*(x-a)) * e^(I*kx*(x-a))\n",
    "    #    E_bad_conductor_x (x) = A2_x * e^(-sx*(x-a)) * e^(I*kx*(x-a))\n",
    "    #    E_bad_conductor_y (x) = A2_y * e^(-sx*(x-a)) * e^(I*kx*(x-a))\n",
    "\n",
    "    E_bad_conductor_z (x) = B1_z*cos(sqrt(kappa^2-k_z^2)*x) + B2_z*sin(sqrt(kappa^2-k_z^2)*x)\n",
    "    E_bad_conductor_x (x) = B1_x*cos(sqrt(kappa^2-k_z^2)*x) + B2_x*sin(sqrt(kappa^2-k_z^2)*x)\n",
    "    E_bad_conductor_y (x) = B1_y*cos(sqrt(kappa^2-k_z^2)*x) + B2_y*sin(sqrt(kappa^2-k_z^2)*x)\n",
    "\n",
    "    print (\"E_bad_conductor_z \")\n",
    "    display(Math(latex(E_bad_conductor_z)))\n",
    "    print (\"E_bad_conductor_x =\")\n",
    "    display(Math(latex(E_bad_conductor_x)))\n",
    "    print (\"E_bad_conductor_y =\")\n",
    "    display(Math(latex(E_bad_conductor_y)))\n",
    "else:\n",
    "    # знак перед корнем будем выбирать всегда так чтобы корень имел положительную мнимую часть\n",
    "    E_bad_conductor_sol_z (x) = B1_z*exp(I * K_conductor*x)\n",
    "    E_bad_conductor_sol_x (x) = B1_x*exp(I * K_conductor*x)\n",
    "    E_bad_conductor_sol_y (x) = B1_y*exp(I * K_conductor*x)\n",
    "\n",
    "    E_bad_conductor_z = function(\"E_bad_conductor_z\")\n",
    "    E_bad_conductor_x = function(\"E_bad_conductor_x\")\n",
    "    E_bad_conductor_y = function(\"E_bad_conductor_y\")\n",
    "\n",
    "\n",
    "print (\"E_bad_conductor_sol_z (x) \")\n",
    "display(Math(latex(E_bad_conductor_sol_z (x))))\n",
    "print (\"E_bad_conductor_sol_x (x) =\")\n",
    "display(Math(latex(E_bad_conductor_sol_x (x))))\n",
    "print (\"E_bad_conductor_sol_y (x) =\")\n",
    "display(Math(latex(E_bad_conductor_sol_y (x))))"
   ]
  },
  {
   "cell_type": "code",
   "execution_count": 17,
   "metadata": {},
   "outputs": [
    {
     "name": "stdout",
     "output_type": "stream",
     "text": [
      "H_inner_vacuum_s_y \n"
     ]
    },
    {
     "data": {
      "text/latex": [
       "$\\displaystyle x \\ {\\mapsto}\\ -\\frac{i \\, {\\left(i \\, k_{z} E_{{\\rm inner}_{{\\rm vacuum}_{x}}}\\left(x\\right) - \\frac{\\partial}{\\partial x}E_{{\\rm inner}_{{\\rm vacuum}_{z}}}\\left(x\\right)\\right)} c}{\\omega}$"
      ],
      "text/plain": [
       "<IPython.core.display.Math object>"
      ]
     },
     "metadata": {},
     "output_type": "display_data"
    },
    {
     "name": "stdout",
     "output_type": "stream",
     "text": [
      "H_bad_conductor_s_y =\n"
     ]
    },
    {
     "data": {
      "text/latex": [
       "$\\displaystyle x \\ {\\mapsto}\\ -\\frac{i \\, {\\left(i \\, k_{z} E_{{\\rm bad}_{{\\rm conductor}_{x}}}\\left(x\\right) - \\frac{\\partial}{\\partial x}E_{{\\rm bad}_{{\\rm conductor}_{z}}}\\left(x\\right)\\right)} c}{\\mu \\omega}$"
      ],
      "text/plain": [
       "<IPython.core.display.Math object>"
      ]
     },
     "metadata": {},
     "output_type": "display_data"
    },
    {
     "name": "stdout",
     "output_type": "stream",
     "text": [
      "H_inner_vacuum_sol_y (x) \n"
     ]
    },
    {
     "data": {
      "text/latex": [
       "$\\displaystyle -\\frac{i \\, {\\left(-i \\, \\mathit{A2}_{z} K_{\\mathit{vacuum}} e^{\\left(i \\, K_{\\mathit{vacuum}} x\\right)} + i \\, \\mathit{A1}_{z} K_{\\mathit{vacuum}} e^{\\left(-i \\, K_{\\mathit{vacuum}} x\\right)} + i \\, {\\left(\\mathit{A2}_{x} e^{\\left(i \\, K_{\\mathit{vacuum}} x\\right)} + \\mathit{A1}_{x} e^{\\left(-i \\, K_{\\mathit{vacuum}} x\\right)}\\right)} k_{z}\\right)} c}{\\omega}$"
      ],
      "text/plain": [
       "<IPython.core.display.Math object>"
      ]
     },
     "metadata": {},
     "output_type": "display_data"
    },
    {
     "name": "stdout",
     "output_type": "stream",
     "text": [
      "H_bad_conductor_sol_y (x) =\n"
     ]
    },
    {
     "data": {
      "text/latex": [
       "$\\displaystyle -\\frac{i \\, {\\left(-i \\, \\mathit{B1}_{z} K_{\\mathit{conductor}} e^{\\left(i \\, K_{\\mathit{conductor}} x\\right)} + i \\, \\mathit{B1}_{x} k_{z} e^{\\left(i \\, K_{\\mathit{conductor}} x\\right)}\\right)} c}{\\mu \\omega}$"
      ],
      "text/plain": [
       "<IPython.core.display.Math object>"
      ]
     },
     "metadata": {},
     "output_type": "display_data"
    }
   ],
   "source": [
    "# выражения для магнитного поля в вакууме внутри резонатора и в проводящем металле с потерями\n",
    "# rot E = -1/c dB/dt\n",
    "# H_y = c / (I * omega * mu) * (diff(E_x, z) - diff(E_z, x))\n",
    "\n",
    "# H_inner_vacuum_y  (x) = c / (I * omega)      * (I*k_z*E_inner_vacuum_x  (x) - diff(E_inner_vacuum_z  (x), x))\n",
    "# H_bad_conductor_y (x) = c / (I * omega * mu) * (I*k_z*E_bad_conductor_x (x) - diff(E_bad_conductor_z (x), x))\n",
    "\n",
    "H_inner_vacuum_y  = c/(I*omega)   *(I*k_z*E_inner_vacuum_x (x) - diff(E_inner_vacuum_z (x), x))\n",
    "H_bad_conductor_y = c/(I*omega*mu)*(I*k_z*E_bad_conductor_x(x) - diff(E_bad_conductor_z(x), x))\n",
    "\n",
    "H_inner_vacuum_f_y  = function(\"H_inner_vacuum_f_y\")\n",
    "H_bad_conductor_f_y = function(\"H_bad_conductor_f_y\")\n",
    "\n",
    "H_inner_vacuum_y  = var(\"H_inner_vacuum_y\")\n",
    "H_bad_conductor_y = var(\"H_bad_conductor_y\")\n",
    "\n",
    "H_inner_vacuum_s_y  (x) = c/(I*omega)   *(I*k_z*E_inner_vacuum_x (x) - diff(E_inner_vacuum_z (x), x))\n",
    "H_bad_conductor_s_y (x) = c/(I*omega*mu)*(I*k_z*E_bad_conductor_x(x) - diff(E_bad_conductor_z(x), x))\n",
    "\n",
    "H_inner_vacuum_sol_y  (x) = c/(I*omega)   *(I*k_z*E_inner_vacuum_sol_x (x) - diff(E_inner_vacuum_sol_z (x), x))\n",
    "H_bad_conductor_sol_y (x) = c/(I*omega*mu)*(I*k_z*E_bad_conductor_sol_x(x) - diff(E_bad_conductor_sol_z(x), x))\n",
    "\n",
    "print (\"H_inner_vacuum_s_y \")\n",
    "display(Math(latex(H_inner_vacuum_s_y.simplify())))\n",
    "print (\"H_bad_conductor_s_y =\")\n",
    "display(Math(latex(H_bad_conductor_s_y)))\n",
    "\n",
    "print (\"H_inner_vacuum_sol_y (x) \")\n",
    "display(Math(latex(H_inner_vacuum_sol_y (x).simplify())))\n",
    "print (\"H_bad_conductor_sol_y (x) =\")\n",
    "display(Math(latex(H_bad_conductor_sol_y (x))))"
   ]
  },
  {
   "cell_type": "code",
   "execution_count": 18,
   "metadata": {},
   "outputs": [
    {
     "name": "stdout",
     "output_type": "stream",
     "text": [
      "H_inner_vacuum_s_x \n"
     ]
    },
    {
     "data": {
      "text/latex": [
       "$\\displaystyle x \\ {\\mapsto}\\ -\\frac{i \\, {\\left(-i \\, k_{z} E_{{\\rm inner}_{{\\rm vacuum}_{y}}}\\left(x\\right) + i \\, k_{y} E_{{\\rm inner}_{{\\rm vacuum}_{z}}}\\left(x\\right)\\right)} c}{\\omega}$"
      ],
      "text/plain": [
       "<IPython.core.display.Math object>"
      ]
     },
     "metadata": {},
     "output_type": "display_data"
    },
    {
     "name": "stdout",
     "output_type": "stream",
     "text": [
      "H_bad_conductor_s_x (x) =\n"
     ]
    },
    {
     "data": {
      "text/latex": [
       "$\\displaystyle x \\ {\\mapsto}\\ -\\frac{i \\, {\\left(-i \\, k_{z} E_{{\\rm bad}_{{\\rm conductor}_{y}}}\\left(x\\right) + i \\, k_{y} E_{{\\rm bad}_{{\\rm conductor}_{z}}}\\left(x\\right)\\right)} c}{\\mu \\omega}$"
      ],
      "text/plain": [
       "<IPython.core.display.Math object>"
      ]
     },
     "metadata": {},
     "output_type": "display_data"
    },
    {
     "name": "stdout",
     "output_type": "stream",
     "text": [
      "H_inner_vacuum_sol_x (x) \n"
     ]
    },
    {
     "data": {
      "text/latex": [
       "$\\displaystyle -\\frac{i \\, {\\left(i \\, {\\left(\\mathit{A2}_{z} e^{\\left(i \\, K_{\\mathit{vacuum}} x\\right)} + \\mathit{A1}_{z} e^{\\left(-i \\, K_{\\mathit{vacuum}} x\\right)}\\right)} k_{y} - i \\, {\\left(\\mathit{A2}_{y} e^{\\left(i \\, K_{\\mathit{vacuum}} x\\right)} + \\mathit{A1}_{y} e^{\\left(-i \\, K_{\\mathit{vacuum}} x\\right)}\\right)} k_{z}\\right)} c}{\\omega}$"
      ],
      "text/plain": [
       "<IPython.core.display.Math object>"
      ]
     },
     "metadata": {},
     "output_type": "display_data"
    },
    {
     "name": "stdout",
     "output_type": "stream",
     "text": [
      "H_bad_conductor_sol_x (x) =\n"
     ]
    },
    {
     "data": {
      "text/latex": [
       "$\\displaystyle -\\frac{i \\, {\\left(i \\, \\mathit{B1}_{z} k_{y} e^{\\left(i \\, K_{\\mathit{conductor}} x\\right)} - i \\, \\mathit{B1}_{y} k_{z} e^{\\left(i \\, K_{\\mathit{conductor}} x\\right)}\\right)} c}{\\mu \\omega}$"
      ],
      "text/plain": [
       "<IPython.core.display.Math object>"
      ]
     },
     "metadata": {},
     "output_type": "display_data"
    }
   ],
   "source": [
    "# выражения для магнитного поля в вакууме внутри резонатора и в проводящем металле с потерями\n",
    "# rot E = -1/c dB/dt\n",
    "# H_x = c / (I * omega * mu) * (diff(E_z, y) - diff(E_y, z))\n",
    "\n",
    "H_inner_vacuum_f_x  = function(\"H_inner_vacuum_f_x\")\n",
    "H_bad_conductor_f_x = function(\"H_bad_conductor_f_x\")\n",
    "\n",
    "H_inner_vacuum_x  = var(\"H_inner_vacuum_x\")\n",
    "H_bad_conductor_x = var(\"H_bad_conductor_x\")\n",
    "\n",
    "H_inner_vacuum_s_x(x)  = c/(I*omega)   *(I*k_y*E_inner_vacuum_z (x) - I*k_z*E_inner_vacuum_y (x))\n",
    "H_bad_conductor_s_x(x) = c/(I*omega*mu)*(I*k_y*E_bad_conductor_z(x) - I*k_z*E_bad_conductor_y(x))\n",
    "\n",
    "H_inner_vacuum_sol_x (x) = c/(I*omega)   *(I*k_y*E_inner_vacuum_sol_z (x) - I*k_z*E_inner_vacuum_sol_y (x))\n",
    "H_bad_conductor_sol_x(x) = c/(I*omega*mu)*(I*k_y*E_bad_conductor_sol_z(x) - I*k_z*E_bad_conductor_sol_y(x))\n",
    "\n",
    "print (\"H_inner_vacuum_s_x \")\n",
    "display(Math(latex(H_inner_vacuum_s_x.simplify())))\n",
    "print (\"H_bad_conductor_s_x (x) =\")\n",
    "display(Math(latex(H_bad_conductor_s_x)))\n",
    "\n",
    "print (\"H_inner_vacuum_sol_x (x) \")\n",
    "display(Math(latex(H_inner_vacuum_sol_x (x).simplify())))\n",
    "print (\"H_bad_conductor_sol_x (x) =\")\n",
    "display(Math(latex(H_bad_conductor_sol_x (x))))"
   ]
  },
  {
   "cell_type": "code",
   "execution_count": 19,
   "metadata": {},
   "outputs": [
    {
     "name": "stdout",
     "output_type": "stream",
     "text": [
      "H_inner_vacuum_s_z \n"
     ]
    },
    {
     "data": {
      "text/latex": [
       "$\\displaystyle x \\ {\\mapsto}\\ -\\frac{i \\, {\\left(-i \\, k_{y} E_{{\\rm inner}_{{\\rm vacuum}_{x}}}\\left(x\\right) + \\frac{\\partial}{\\partial x}E_{{\\rm inner}_{{\\rm vacuum}_{y}}}\\left(x\\right)\\right)} c}{\\omega}$"
      ],
      "text/plain": [
       "<IPython.core.display.Math object>"
      ]
     },
     "metadata": {},
     "output_type": "display_data"
    },
    {
     "name": "stdout",
     "output_type": "stream",
     "text": [
      "H_bad_conductor_s_z =\n"
     ]
    },
    {
     "data": {
      "text/latex": [
       "$\\displaystyle x \\ {\\mapsto}\\ -\\frac{i \\, {\\left(-i \\, k_{y} E_{{\\rm bad}_{{\\rm conductor}_{x}}}\\left(x\\right) + \\frac{\\partial}{\\partial x}E_{{\\rm bad}_{{\\rm conductor}_{y}}}\\left(x\\right)\\right)} c}{\\mu \\omega}$"
      ],
      "text/plain": [
       "<IPython.core.display.Math object>"
      ]
     },
     "metadata": {},
     "output_type": "display_data"
    },
    {
     "name": "stdout",
     "output_type": "stream",
     "text": [
      "H_inner_vacuum_sol_z (x) \n"
     ]
    },
    {
     "data": {
      "text/latex": [
       "$\\displaystyle -\\frac{i \\, {\\left(i \\, \\mathit{A2}_{y} K_{\\mathit{vacuum}} e^{\\left(i \\, K_{\\mathit{vacuum}} x\\right)} - i \\, \\mathit{A1}_{y} K_{\\mathit{vacuum}} e^{\\left(-i \\, K_{\\mathit{vacuum}} x\\right)} - i \\, {\\left(\\mathit{A2}_{x} e^{\\left(i \\, K_{\\mathit{vacuum}} x\\right)} + \\mathit{A1}_{x} e^{\\left(-i \\, K_{\\mathit{vacuum}} x\\right)}\\right)} k_{y}\\right)} c}{\\omega}$"
      ],
      "text/plain": [
       "<IPython.core.display.Math object>"
      ]
     },
     "metadata": {},
     "output_type": "display_data"
    },
    {
     "name": "stdout",
     "output_type": "stream",
     "text": [
      "H_bad_conductor_sol_z (x) =\n"
     ]
    },
    {
     "data": {
      "text/latex": [
       "$\\displaystyle -\\frac{i \\, {\\left(i \\, \\mathit{B1}_{y} K_{\\mathit{conductor}} e^{\\left(i \\, K_{\\mathit{conductor}} x\\right)} - i \\, \\mathit{B1}_{x} k_{y} e^{\\left(i \\, K_{\\mathit{conductor}} x\\right)}\\right)} c}{\\mu \\omega}$"
      ],
      "text/plain": [
       "<IPython.core.display.Math object>"
      ]
     },
     "metadata": {},
     "output_type": "display_data"
    }
   ],
   "source": [
    "# выражения для магнитного поля в вакууме внутри резонатора и в проводящем металле с потерями\n",
    "# rot E = -1/c dB/dt\n",
    "# H_z = c / (I * omega * mu) * (diff(E_y, x) - diff(E_x, y))\n",
    "\n",
    "H_inner_vacuum_z  = c / (I*omega)   *(diff(E_inner_vacuum_y (x), x) - I*k_y*E_inner_vacuum_x (x))\n",
    "H_bad_conductor_z = c / (I*omega*mu)*(diff(E_bad_conductor_y(x), x) - I*k_y*E_bad_conductor_x(x))\n",
    "\n",
    "H_inner_vacuum_f_z  = function(\"H_inner_vacuum_f_z\")\n",
    "H_bad_conductor_f_z = function(\"H_bad_conductor_f_z\")\n",
    "\n",
    "H_inner_vacuum_z  = var(\"H_inner_vacuum_z\")\n",
    "H_bad_conductor_z = var(\"H_bad_conductor_z\")\n",
    "\n",
    "H_inner_vacuum_s_z(x)  = c / (I*omega)   * (diff(E_inner_vacuum_y (x), x) - I*k_y*E_inner_vacuum_x (x))\n",
    "H_bad_conductor_s_z(x) = c / (I*omega*mu)*(diff(E_bad_conductor_y(x), x) - I*k_y*E_bad_conductor_x(x))\n",
    "\n",
    "H_inner_vacuum_sol_z  (x) = c / (I*omega)   *(diff(E_inner_vacuum_sol_y (x), x) - I*k_y*E_inner_vacuum_sol_x (x))\n",
    "H_bad_conductor_sol_z (x) = c / (I*omega*mu)*(diff(E_bad_conductor_sol_y(x), x) - I*k_y*E_bad_conductor_sol_x(x))\n",
    "\n",
    "print (\"H_inner_vacuum_s_z \")\n",
    "display(Math(latex(H_inner_vacuum_s_z.simplify())))\n",
    "print (\"H_bad_conductor_s_z =\")\n",
    "display(Math(latex(H_bad_conductor_s_z)))\n",
    "\n",
    "print (\"H_inner_vacuum_sol_z (x) \")\n",
    "display(Math(latex(H_inner_vacuum_sol_z (x).simplify())))\n",
    "print (\"H_bad_conductor_sol_z (x) =\")\n",
    "display(Math(latex(H_bad_conductor_sol_z (x))))"
   ]
  },
  {
   "cell_type": "code",
   "execution_count": 20,
   "metadata": {},
   "outputs": [
    {
     "name": "stdout",
     "output_type": "stream",
     "text": [
      "rot_H_inner_vacuum_x =\n"
     ]
    },
    {
     "data": {
      "text/latex": [
       "$\\displaystyle -i \\, k_{z} H_{{\\rm inner}_{{\\rm vacuum}_{f_{y}}}}\\left(x\\right) + i \\, k_{y} H_{{\\rm inner}_{{\\rm vacuum}_{f_{z}}}}\\left(x\\right)$"
      ],
      "text/plain": [
       "<IPython.core.display.Math object>"
      ]
     },
     "metadata": {},
     "output_type": "display_data"
    },
    {
     "name": "stdout",
     "output_type": "stream",
     "text": [
      "rot_H_bad_conductor_x =\n"
     ]
    },
    {
     "data": {
      "text/latex": [
       "$\\displaystyle -i \\, k_{z} H_{{\\rm bad}_{{\\rm conductor}_{f_{y}}}}\\left(x\\right) + i \\, k_{y} H_{{\\rm bad}_{{\\rm conductor}_{f_{z}}}}\\left(x\\right)$"
      ],
      "text/plain": [
       "<IPython.core.display.Math object>"
      ]
     },
     "metadata": {},
     "output_type": "display_data"
    },
    {
     "name": "stdout",
     "output_type": "stream",
     "text": [
      "rot_H_inner_vacuum_y =\n"
     ]
    },
    {
     "data": {
      "text/latex": [
       "$\\displaystyle i \\, k_{z} H_{{\\rm inner}_{{\\rm vacuum}_{f_{x}}}}\\left(x\\right) - \\frac{\\partial}{\\partial x}H_{{\\rm inner}_{{\\rm vacuum}_{f_{z}}}}\\left(x\\right)$"
      ],
      "text/plain": [
       "<IPython.core.display.Math object>"
      ]
     },
     "metadata": {},
     "output_type": "display_data"
    },
    {
     "name": "stdout",
     "output_type": "stream",
     "text": [
      "rot_H_bad_conductor_y =\n"
     ]
    },
    {
     "data": {
      "text/latex": [
       "$\\displaystyle i \\, k_{z} H_{{\\rm bad}_{{\\rm conductor}_{f_{x}}}}\\left(x\\right) - \\frac{\\partial}{\\partial x}H_{{\\rm bad}_{{\\rm conductor}_{f_{z}}}}\\left(x\\right)$"
      ],
      "text/plain": [
       "<IPython.core.display.Math object>"
      ]
     },
     "metadata": {},
     "output_type": "display_data"
    },
    {
     "name": "stdout",
     "output_type": "stream",
     "text": [
      "rot_H_inner_vacuum_z =\n"
     ]
    },
    {
     "data": {
      "text/latex": [
       "$\\displaystyle -i \\, k_{y} H_{{\\rm inner}_{{\\rm vacuum}_{f_{x}}}}\\left(x\\right) + \\frac{\\partial}{\\partial x}H_{{\\rm inner}_{{\\rm vacuum}_{f_{y}}}}\\left(x\\right)$"
      ],
      "text/plain": [
       "<IPython.core.display.Math object>"
      ]
     },
     "metadata": {},
     "output_type": "display_data"
    },
    {
     "name": "stdout",
     "output_type": "stream",
     "text": [
      "rot_H_bad_conductor_z =\n"
     ]
    },
    {
     "data": {
      "text/latex": [
       "$\\displaystyle -i \\, k_{y} H_{{\\rm bad}_{{\\rm conductor}_{f_{x}}}}\\left(x\\right) + \\frac{\\partial}{\\partial x}H_{{\\rm bad}_{{\\rm conductor}_{f_{y}}}}\\left(x\\right)$"
      ],
      "text/plain": [
       "<IPython.core.display.Math object>"
      ]
     },
     "metadata": {},
     "output_type": "display_data"
    },
    {
     "name": "stdout",
     "output_type": "stream",
     "text": [
      "rot_H_inner_vacuum_s_x =\n"
     ]
    },
    {
     "data": {
      "text/latex": [
       "$\\displaystyle x \\ {\\mapsto}\\ \\frac{{\\left(-i \\, k_{y} E_{{\\rm inner}_{{\\rm vacuum}_{x}}}\\left(x\\right) + \\frac{\\partial}{\\partial x}E_{{\\rm inner}_{{\\rm vacuum}_{y}}}\\left(x\\right)\\right)} c k_{y}}{\\omega} - \\frac{{\\left(i \\, k_{z} E_{{\\rm inner}_{{\\rm vacuum}_{x}}}\\left(x\\right) - \\frac{\\partial}{\\partial x}E_{{\\rm inner}_{{\\rm vacuum}_{z}}}\\left(x\\right)\\right)} c k_{z}}{\\omega}$"
      ],
      "text/plain": [
       "<IPython.core.display.Math object>"
      ]
     },
     "metadata": {},
     "output_type": "display_data"
    },
    {
     "name": "stdout",
     "output_type": "stream",
     "text": [
      "rot_H_bad_conductor_s_x =\n"
     ]
    },
    {
     "data": {
      "text/latex": [
       "$\\displaystyle x \\ {\\mapsto}\\ \\frac{{\\left(-i \\, k_{y} E_{{\\rm bad}_{{\\rm conductor}_{x}}}\\left(x\\right) + \\frac{\\partial}{\\partial x}E_{{\\rm bad}_{{\\rm conductor}_{y}}}\\left(x\\right)\\right)} c k_{y}}{\\mu \\omega} - \\frac{{\\left(i \\, k_{z} E_{{\\rm bad}_{{\\rm conductor}_{x}}}\\left(x\\right) - \\frac{\\partial}{\\partial x}E_{{\\rm bad}_{{\\rm conductor}_{z}}}\\left(x\\right)\\right)} c k_{z}}{\\mu \\omega}$"
      ],
      "text/plain": [
       "<IPython.core.display.Math object>"
      ]
     },
     "metadata": {},
     "output_type": "display_data"
    },
    {
     "name": "stdout",
     "output_type": "stream",
     "text": [
      "rot_H_inner_vacuum_s_y =\n"
     ]
    },
    {
     "data": {
      "text/latex": [
       "$\\displaystyle x \\ {\\mapsto}\\ \\frac{{\\left(-i \\, k_{z} E_{{\\rm inner}_{{\\rm vacuum}_{y}}}\\left(x\\right) + i \\, k_{y} E_{{\\rm inner}_{{\\rm vacuum}_{z}}}\\left(x\\right)\\right)} c k_{z}}{\\omega} + \\frac{i \\, {\\left(-i \\, k_{y} \\frac{\\partial}{\\partial x}E_{{\\rm inner}_{{\\rm vacuum}_{x}}}\\left(x\\right) + \\frac{\\partial^{2}}{(\\partial x)^{2}}E_{{\\rm inner}_{{\\rm vacuum}_{y}}}\\left(x\\right)\\right)} c}{\\omega}$"
      ],
      "text/plain": [
       "<IPython.core.display.Math object>"
      ]
     },
     "metadata": {},
     "output_type": "display_data"
    },
    {
     "name": "stdout",
     "output_type": "stream",
     "text": [
      "rot_H_bad_conductor_s_y =\n"
     ]
    },
    {
     "data": {
      "text/latex": [
       "$\\displaystyle x \\ {\\mapsto}\\ \\frac{{\\left(-i \\, k_{z} E_{{\\rm bad}_{{\\rm conductor}_{y}}}\\left(x\\right) + i \\, k_{y} E_{{\\rm bad}_{{\\rm conductor}_{z}}}\\left(x\\right)\\right)} c k_{z}}{\\mu \\omega} + \\frac{i \\, {\\left(-i \\, k_{y} \\frac{\\partial}{\\partial x}E_{{\\rm bad}_{{\\rm conductor}_{x}}}\\left(x\\right) + \\frac{\\partial^{2}}{(\\partial x)^{2}}E_{{\\rm bad}_{{\\rm conductor}_{y}}}\\left(x\\right)\\right)} c}{\\mu \\omega}$"
      ],
      "text/plain": [
       "<IPython.core.display.Math object>"
      ]
     },
     "metadata": {},
     "output_type": "display_data"
    },
    {
     "name": "stdout",
     "output_type": "stream",
     "text": [
      "rot_H_inner_vacuum_s_z =\n"
     ]
    },
    {
     "data": {
      "text/latex": [
       "$\\displaystyle x \\ {\\mapsto}\\ -\\frac{{\\left(-i \\, k_{z} E_{{\\rm inner}_{{\\rm vacuum}_{y}}}\\left(x\\right) + i \\, k_{y} E_{{\\rm inner}_{{\\rm vacuum}_{z}}}\\left(x\\right)\\right)} c k_{y}}{\\omega} - \\frac{i \\, {\\left(i \\, k_{z} \\frac{\\partial}{\\partial x}E_{{\\rm inner}_{{\\rm vacuum}_{x}}}\\left(x\\right) - \\frac{\\partial^{2}}{(\\partial x)^{2}}E_{{\\rm inner}_{{\\rm vacuum}_{z}}}\\left(x\\right)\\right)} c}{\\omega}$"
      ],
      "text/plain": [
       "<IPython.core.display.Math object>"
      ]
     },
     "metadata": {},
     "output_type": "display_data"
    },
    {
     "name": "stdout",
     "output_type": "stream",
     "text": [
      "rot_H_bad_conductor_s_z =\n"
     ]
    },
    {
     "data": {
      "text/latex": [
       "$\\displaystyle x \\ {\\mapsto}\\ -\\frac{{\\left(-i \\, k_{z} E_{{\\rm bad}_{{\\rm conductor}_{y}}}\\left(x\\right) + i \\, k_{y} E_{{\\rm bad}_{{\\rm conductor}_{z}}}\\left(x\\right)\\right)} c k_{y}}{\\mu \\omega} - \\frac{i \\, {\\left(i \\, k_{z} \\frac{\\partial}{\\partial x}E_{{\\rm bad}_{{\\rm conductor}_{x}}}\\left(x\\right) - \\frac{\\partial^{2}}{(\\partial x)^{2}}E_{{\\rm bad}_{{\\rm conductor}_{z}}}\\left(x\\right)\\right)} c}{\\mu \\omega}$"
      ],
      "text/plain": [
       "<IPython.core.display.Math object>"
      ]
     },
     "metadata": {},
     "output_type": "display_data"
    },
    {
     "name": "stdout",
     "output_type": "stream",
     "text": [
      "rot_H_inner_vacuum_sol_x =\n"
     ]
    },
    {
     "data": {
      "text/latex": [
       "$\\displaystyle \\frac{{\\left(i \\, \\mathit{A2}_{y} K_{\\mathit{vacuum}} e^{\\left(i \\, K_{\\mathit{vacuum}} x\\right)} - i \\, \\mathit{A1}_{y} K_{\\mathit{vacuum}} e^{\\left(-i \\, K_{\\mathit{vacuum}} x\\right)} - i \\, {\\left(\\mathit{A2}_{x} e^{\\left(i \\, K_{\\mathit{vacuum}} x\\right)} + \\mathit{A1}_{x} e^{\\left(-i \\, K_{\\mathit{vacuum}} x\\right)}\\right)} k_{y}\\right)} c k_{y}}{\\omega} - \\frac{{\\left(-i \\, \\mathit{A2}_{z} K_{\\mathit{vacuum}} e^{\\left(i \\, K_{\\mathit{vacuum}} x\\right)} + i \\, \\mathit{A1}_{z} K_{\\mathit{vacuum}} e^{\\left(-i \\, K_{\\mathit{vacuum}} x\\right)} + i \\, {\\left(\\mathit{A2}_{x} e^{\\left(i \\, K_{\\mathit{vacuum}} x\\right)} + \\mathit{A1}_{x} e^{\\left(-i \\, K_{\\mathit{vacuum}} x\\right)}\\right)} k_{z}\\right)} c k_{z}}{\\omega}$"
      ],
      "text/plain": [
       "<IPython.core.display.Math object>"
      ]
     },
     "metadata": {},
     "output_type": "display_data"
    },
    {
     "name": "stdout",
     "output_type": "stream",
     "text": [
      "rot_H_bad_conductor_sol_x =\n"
     ]
    },
    {
     "data": {
      "text/latex": [
       "$\\displaystyle \\frac{{\\left(i \\, \\mathit{B1}_{y} K_{\\mathit{conductor}} e^{\\left(i \\, K_{\\mathit{conductor}} x\\right)} - i \\, \\mathit{B1}_{x} k_{y} e^{\\left(i \\, K_{\\mathit{conductor}} x\\right)}\\right)} c k_{y}}{\\mu \\omega} - \\frac{{\\left(-i \\, \\mathit{B1}_{z} K_{\\mathit{conductor}} e^{\\left(i \\, K_{\\mathit{conductor}} x\\right)} + i \\, \\mathit{B1}_{x} k_{z} e^{\\left(i \\, K_{\\mathit{conductor}} x\\right)}\\right)} c k_{z}}{\\mu \\omega}$"
      ],
      "text/plain": [
       "<IPython.core.display.Math object>"
      ]
     },
     "metadata": {},
     "output_type": "display_data"
    },
    {
     "name": "stdout",
     "output_type": "stream",
     "text": [
      "rot_H_inner_vacuum_sol_y =\n"
     ]
    },
    {
     "data": {
      "text/latex": [
       "$\\displaystyle \\frac{{\\left(i \\, {\\left(\\mathit{A2}_{z} e^{\\left(i \\, K_{\\mathit{vacuum}} x\\right)} + \\mathit{A1}_{z} e^{\\left(-i \\, K_{\\mathit{vacuum}} x\\right)}\\right)} k_{y} - i \\, {\\left(\\mathit{A2}_{y} e^{\\left(i \\, K_{\\mathit{vacuum}} x\\right)} + \\mathit{A1}_{y} e^{\\left(-i \\, K_{\\mathit{vacuum}} x\\right)}\\right)} k_{z}\\right)} c k_{z}}{\\omega} - \\frac{i \\, {\\left(\\mathit{A2}_{y} K_{\\mathit{vacuum}}^{2} e^{\\left(i \\, K_{\\mathit{vacuum}} x\\right)} + \\mathit{A1}_{y} K_{\\mathit{vacuum}}^{2} e^{\\left(-i \\, K_{\\mathit{vacuum}} x\\right)} + i \\, {\\left(i \\, \\mathit{A2}_{x} K_{\\mathit{vacuum}} e^{\\left(i \\, K_{\\mathit{vacuum}} x\\right)} - i \\, \\mathit{A1}_{x} K_{\\mathit{vacuum}} e^{\\left(-i \\, K_{\\mathit{vacuum}} x\\right)}\\right)} k_{y}\\right)} c}{\\omega}$"
      ],
      "text/plain": [
       "<IPython.core.display.Math object>"
      ]
     },
     "metadata": {},
     "output_type": "display_data"
    },
    {
     "name": "stdout",
     "output_type": "stream",
     "text": [
      "rot_H_bad_conductor_sol_y =\n"
     ]
    },
    {
     "data": {
      "text/latex": [
       "$\\displaystyle \\frac{{\\left(i \\, \\mathit{B1}_{z} k_{y} e^{\\left(i \\, K_{\\mathit{conductor}} x\\right)} - i \\, \\mathit{B1}_{y} k_{z} e^{\\left(i \\, K_{\\mathit{conductor}} x\\right)}\\right)} c k_{z}}{\\mu \\omega} - \\frac{i \\, {\\left(\\mathit{B1}_{y} K_{\\mathit{conductor}}^{2} e^{\\left(i \\, K_{\\mathit{conductor}} x\\right)} - \\mathit{B1}_{x} K_{\\mathit{conductor}} k_{y} e^{\\left(i \\, K_{\\mathit{conductor}} x\\right)}\\right)} c}{\\mu \\omega}$"
      ],
      "text/plain": [
       "<IPython.core.display.Math object>"
      ]
     },
     "metadata": {},
     "output_type": "display_data"
    },
    {
     "name": "stdout",
     "output_type": "stream",
     "text": [
      "rot_H_inner_vacuum_sol_z =\n"
     ]
    },
    {
     "data": {
      "text/latex": [
       "$\\displaystyle -\\frac{{\\left(i \\, {\\left(\\mathit{A2}_{z} e^{\\left(i \\, K_{\\mathit{vacuum}} x\\right)} + \\mathit{A1}_{z} e^{\\left(-i \\, K_{\\mathit{vacuum}} x\\right)}\\right)} k_{y} - i \\, {\\left(\\mathit{A2}_{y} e^{\\left(i \\, K_{\\mathit{vacuum}} x\\right)} + \\mathit{A1}_{y} e^{\\left(-i \\, K_{\\mathit{vacuum}} x\\right)}\\right)} k_{z}\\right)} c k_{y}}{\\omega} - \\frac{i \\, {\\left(\\mathit{A2}_{z} K_{\\mathit{vacuum}}^{2} e^{\\left(i \\, K_{\\mathit{vacuum}} x\\right)} + \\mathit{A1}_{z} K_{\\mathit{vacuum}}^{2} e^{\\left(-i \\, K_{\\mathit{vacuum}} x\\right)} + i \\, {\\left(i \\, \\mathit{A2}_{x} K_{\\mathit{vacuum}} e^{\\left(i \\, K_{\\mathit{vacuum}} x\\right)} - i \\, \\mathit{A1}_{x} K_{\\mathit{vacuum}} e^{\\left(-i \\, K_{\\mathit{vacuum}} x\\right)}\\right)} k_{z}\\right)} c}{\\omega}$"
      ],
      "text/plain": [
       "<IPython.core.display.Math object>"
      ]
     },
     "metadata": {},
     "output_type": "display_data"
    },
    {
     "name": "stdout",
     "output_type": "stream",
     "text": [
      "rot_H_bad_conductor_sol_z =\n"
     ]
    },
    {
     "data": {
      "text/latex": [
       "$\\displaystyle -\\frac{{\\left(i \\, \\mathit{B1}_{z} k_{y} e^{\\left(i \\, K_{\\mathit{conductor}} x\\right)} - i \\, \\mathit{B1}_{y} k_{z} e^{\\left(i \\, K_{\\mathit{conductor}} x\\right)}\\right)} c k_{y}}{\\mu \\omega} - \\frac{i \\, {\\left(\\mathit{B1}_{z} K_{\\mathit{conductor}}^{2} e^{\\left(i \\, K_{\\mathit{conductor}} x\\right)} - \\mathit{B1}_{x} K_{\\mathit{conductor}} k_{z} e^{\\left(i \\, K_{\\mathit{conductor}} x\\right)}\\right)} c}{\\mu \\omega}$"
      ],
      "text/plain": [
       "<IPython.core.display.Math object>"
      ]
     },
     "metadata": {},
     "output_type": "display_data"
    }
   ],
   "source": [
    "# уравнение Максвелла для тока смещения\n",
    "# rot_H   = - I * epsilon * omega / c * E\n",
    "# rot_H_x = diff(H_z, y) - diff(H_y, z)\n",
    "# rot_H_y = diff(H_x, z) - diff(H_z, x)\n",
    "# rot_H_z = diff(H_y, x) - diff(H_x, y)\n",
    "\n",
    "# rot_H_x = diff(H_z, y) - diff(H_y, z)\n",
    "rot_H_inner_vacuum_x  = I*k_y*H_inner_vacuum_f_z(x)  - I*k_z*H_inner_vacuum_f_y(x)\n",
    "rot_H_bad_conductor_x = I*k_y*H_bad_conductor_f_z(x) - I*k_z*H_bad_conductor_f_y(x)\n",
    "\n",
    "# rot_H_y = diff(H_x, z) - diff(H_z, x)\n",
    "rot_H_inner_vacuum_y  = I*k_z*H_inner_vacuum_f_x(x)  - diff(H_inner_vacuum_f_z(x), x)\n",
    "rot_H_bad_conductor_y = I*k_z*H_bad_conductor_f_x(x) - diff(H_bad_conductor_f_z(x), x)\n",
    "\n",
    "# rot_H_z = diff(H_y, x) - diff(H_x, y)\n",
    "rot_H_inner_vacuum_z  = diff(H_inner_vacuum_f_y(x) , x) - I*k_y*H_inner_vacuum_f_x(x)\n",
    "rot_H_bad_conductor_z = diff(H_bad_conductor_f_y(x), x) - I*k_y*H_bad_conductor_f_x(x)\n",
    "\n",
    "# rot_H_x = diff(H_z, y) - diff(H_y, z)\n",
    "rot_H_inner_vacuum_s_x  = I*k_y*H_inner_vacuum_s_z  - I*k_z*H_inner_vacuum_s_y\n",
    "rot_H_bad_conductor_s_x = I*k_y*H_bad_conductor_s_z - I*k_z*H_bad_conductor_s_y\n",
    "\n",
    "# rot_H_y = diff(H_x, z) - diff(H_z, x)\n",
    "rot_H_inner_vacuum_s_y  = I*k_z*H_inner_vacuum_s_x  - diff(H_inner_vacuum_s_z, x)\n",
    "rot_H_bad_conductor_s_y = I*k_z*H_bad_conductor_s_x - diff(H_bad_conductor_s_z, x)\n",
    "\n",
    "#H_inner_vacuum_s_z(x)  = c / (I*omega)   *(-I*sqrt(kappa_vacuum^2-k^2)*E_inner_vacuum_y (x) - I*k_y*E_inner_vacuum_x (x))\n",
    "#H_bad_conductor_s_z(x) = c / (I*omega*mu)*( I*sqrt(kappa       ^2-k^2)*E_bad_conductor_y(x) - I*k_y*E_bad_conductor_x(x))\n",
    "\n",
    "#print(diff(H_inner_vacuum_s_z, x) \\\n",
    "#      .substitute_function(diff(E_inner_vacuum_y(x), x), - I*sqrt(-k^2 + kappa_vacuum^2) * E_inner_vacuum_y(x)) \\\n",
    "#      .substitute_function(diff(E_inner_vacuum_x(x), x), - I*sqrt(-k^2 + kappa_vacuum^2) * E_inner_vacuum_x(x))) \\\n",
    "\n",
    "#rot_H_inner_vacuum_s_y  = I*k_z*H_inner_vacuum_s_x  - c / (I*omega)*(-I*sqrt(kappa_vacuum^2-k_z^2)*\n",
    "#                                                                     (-I*sqrt(kappa_vacuum^2-k_z^2))*\n",
    "#                                                                             E_inner_vacuum_y (x) \n",
    "#                                                                     - I*k_y*(-I*sqrt(kappa_vacuum^2-k_z^2))*\n",
    "#                                                                             E_inner_vacuum_x (x))\n",
    "#\n",
    "#rot_H_bad_conductor_s_y = I*k_z*H_bad_conductor_s_x - c / (I*omega*mu)*( I*sqrt(kappa^2-k_z^2)*\n",
    "#                                                                         I*sqrt(kappa^2-k_z^2)*\n",
    "#                                                                             E_bad_conductor_y(x) \n",
    "#                                                                       - I*k_y*\n",
    "#                                                                        I*sqrt(kappa^2-k_z^2)*\n",
    "#                                                                        E_bad_conductor_x(x))\n",
    "\n",
    "# rot_H_y = diff(H_x, z) - diff(H_z, x)\n",
    "rot_H_inner_vacuum_s_y  = I*k_z*H_inner_vacuum_s_x  - diff(H_inner_vacuum_s_z, x)\n",
    "rot_H_bad_conductor_s_y = I*k_z*H_bad_conductor_s_x - diff(H_bad_conductor_s_z, x)\n",
    "\n",
    "\n",
    "# rot_H_z = diff(H_y, x) - diff(H_x, y)\n",
    "rot_H_inner_vacuum_s_z  = diff(H_inner_vacuum_s_y , x) - I*k_y*H_inner_vacuum_s_x\n",
    "rot_H_bad_conductor_s_z = diff(H_bad_conductor_s_y, x) - I*k_y*H_bad_conductor_s_x\n",
    "\n",
    "rot_H_inner_vacuum_s_z  = diff(H_inner_vacuum_s_y, x)  - I*k_y*H_inner_vacuum_s_x\n",
    "rot_H_bad_conductor_s_z =  diff(H_bad_conductor_s_y, x) - I*k_y*H_bad_conductor_s_x\n",
    "\n",
    "\n",
    "# sol\n",
    "rot_H_inner_vacuum_sol_x  = I*k_y*H_inner_vacuum_sol_z (x) - I*k_z*H_inner_vacuum_sol_y (x)\n",
    "rot_H_bad_conductor_sol_x = I*k_y*H_bad_conductor_sol_z(x) - I*k_z*H_bad_conductor_sol_y(x)\n",
    "\n",
    "rot_H_inner_vacuum_sol_y  = I*k_z*H_inner_vacuum_sol_x (x) - diff(H_inner_vacuum_sol_z (x), x)\n",
    "rot_H_bad_conductor_sol_y = I*k_z*H_bad_conductor_sol_x(x) - diff(H_bad_conductor_sol_z(x), x)\n",
    "\n",
    "rot_H_inner_vacuum_sol_z  = diff(H_inner_vacuum_sol_y (x), x) - I*k_y*H_inner_vacuum_sol_x (x)\n",
    "rot_H_bad_conductor_sol_z = diff(H_bad_conductor_sol_y(x), x) - I*k_y*H_bad_conductor_sol_x(x)\n",
    "\n",
    "\n",
    "print (\"rot_H_inner_vacuum_x =\")\n",
    "display(Math(latex(rot_H_inner_vacuum_x)))\n",
    "print (\"rot_H_bad_conductor_x =\")\n",
    "display(Math(latex(rot_H_bad_conductor_x)))\n",
    "\n",
    "print (\"rot_H_inner_vacuum_y =\")\n",
    "display(Math(latex(rot_H_inner_vacuum_y)))\n",
    "print (\"rot_H_bad_conductor_y =\")\n",
    "display(Math(latex(rot_H_bad_conductor_y)))\n",
    "\n",
    "print (\"rot_H_inner_vacuum_z =\")\n",
    "display(Math(latex(rot_H_inner_vacuum_z)))\n",
    "print (\"rot_H_bad_conductor_z =\")\n",
    "display(Math(latex(rot_H_bad_conductor_z)))\n",
    "\n",
    "\n",
    "\n",
    "print (\"rot_H_inner_vacuum_s_x =\")\n",
    "display(Math(latex(rot_H_inner_vacuum_s_x)))\n",
    "print (\"rot_H_bad_conductor_s_x =\")\n",
    "display(Math(latex(rot_H_bad_conductor_s_x)))\n",
    "\n",
    "print (\"rot_H_inner_vacuum_s_y =\")\n",
    "display(Math(latex(rot_H_inner_vacuum_s_y)))\n",
    "print (\"rot_H_bad_conductor_s_y =\")\n",
    "display(Math(latex(rot_H_bad_conductor_s_y)))\n",
    "\n",
    "print (\"rot_H_inner_vacuum_s_z =\")\n",
    "display(Math(latex(rot_H_inner_vacuum_s_z)))\n",
    "print (\"rot_H_bad_conductor_s_z =\")\n",
    "display(Math(latex(rot_H_bad_conductor_s_z)))\n",
    "\n",
    "\n",
    "\n",
    "print (\"rot_H_inner_vacuum_sol_x =\")\n",
    "display(Math(latex(rot_H_inner_vacuum_sol_x)))\n",
    "print (\"rot_H_bad_conductor_sol_x =\")\n",
    "display(Math(latex(rot_H_bad_conductor_sol_x)))\n",
    "\n",
    "print (\"rot_H_inner_vacuum_sol_y =\")\n",
    "display(Math(latex(rot_H_inner_vacuum_sol_y)))\n",
    "print (\"rot_H_bad_conductor_sol_y =\")\n",
    "display(Math(latex(rot_H_bad_conductor_sol_y)))\n",
    "\n",
    "print (\"rot_H_inner_vacuum_sol_z =\")\n",
    "display(Math(latex(rot_H_inner_vacuum_sol_z)))\n",
    "print (\"rot_H_bad_conductor_sol_z =\")\n",
    "display(Math(latex(rot_H_bad_conductor_sol_z)))"
   ]
  },
  {
   "cell_type": "code",
   "execution_count": 21,
   "metadata": {},
   "outputs": [],
   "source": [
    "eq_rot_H_inner_vacuum_sol_x  = rot_H_inner_vacuum_sol_x  == -I*omega/c*E_inner_vacuum_sol_x(x)\n",
    "eq_rot_H_inner_vacuum_sol_y  = rot_H_inner_vacuum_sol_y  == -I*omega/c*E_inner_vacuum_sol_y(x)\n",
    "eq_rot_H_inner_vacuum_sol_z  = rot_H_inner_vacuum_sol_z  == -I*omega/c*E_inner_vacuum_sol_z(x)\n",
    "\n",
    "eq_rot_H_bad_conductor_sol_x = rot_H_bad_conductor_sol_x == -I*omega/c*epsilon*E_bad_conductor_sol_x(x)\n",
    "eq_rot_H_bad_conductor_sol_y = rot_H_bad_conductor_sol_y == -I*omega/c*epsilon*E_bad_conductor_sol_y(x)\n",
    "eq_rot_H_bad_conductor_sol_z = rot_H_bad_conductor_sol_z == -I*omega/c*epsilon*E_bad_conductor_sol_z(x)"
   ]
  },
  {
   "cell_type": "code",
   "execution_count": 22,
   "metadata": {},
   "outputs": [],
   "source": [
    "eq_rot_H_inner_vacuum_s_x  = rot_H_inner_vacuum_s_x  == -I*omega/c*E_inner_vacuum_x(x)\n",
    "eq_rot_H_inner_vacuum_s_y  = rot_H_inner_vacuum_s_y  == -I*omega/c*E_inner_vacuum_y(x)\n",
    "eq_rot_H_inner_vacuum_s_z  = rot_H_inner_vacuum_s_z  == -I*omega/c*E_inner_vacuum_z(x)\n",
    "\n",
    "eq_rot_H_bad_conductor_s_x = rot_H_bad_conductor_s_x == -I*omega/c*epsilon*E_bad_conductor_x(x)\n",
    "eq_rot_H_bad_conductor_s_y = rot_H_bad_conductor_s_y == -I*omega/c*epsilon*E_bad_conductor_y(x)\n",
    "eq_rot_H_bad_conductor_s_z = rot_H_bad_conductor_s_z == -I*omega/c*epsilon*E_bad_conductor_z(x)"
   ]
  },
  {
   "cell_type": "code",
   "execution_count": 23,
   "metadata": {},
   "outputs": [],
   "source": [
    "eq_rot_H_inner_vacuum_x  = rot_H_inner_vacuum_x  == -I*omega/c*E_inner_vacuum_x(x)\n",
    "eq_rot_H_inner_vacuum_y  = rot_H_inner_vacuum_y  == -I*omega/c*E_inner_vacuum_y(x)\n",
    "eq_rot_H_inner_vacuum_z  = rot_H_inner_vacuum_z  == -I*omega/c*E_inner_vacuum_z(x)\n",
    "\n",
    "eq_rot_H_bad_conductor_x = rot_H_bad_conductor_x == -I*omega/c*epsilon*E_bad_conductor_x(x)\n",
    "eq_rot_H_bad_conductor_y = rot_H_bad_conductor_y == -I*omega/c*epsilon*E_bad_conductor_y(x)\n",
    "eq_rot_H_bad_conductor_z = rot_H_bad_conductor_z == -I*omega/c*epsilon*E_bad_conductor_z(x)"
   ]
  },
  {
   "cell_type": "code",
   "execution_count": 24,
   "metadata": {},
   "outputs": [
    {
     "name": "stdout",
     "output_type": "stream",
     "text": [
      "eq_rot_H_inner_vacuum_s_x =\n"
     ]
    },
    {
     "data": {
      "text/latex": [
       "$\\displaystyle x \\ {\\mapsto}\\ \\frac{{\\left(-i \\, k_{y} E_{{\\rm inner}_{{\\rm vacuum}_{x}}}\\left(x\\right) + \\frac{\\partial}{\\partial x}E_{{\\rm inner}_{{\\rm vacuum}_{y}}}\\left(x\\right)\\right)} c k_{y}}{\\omega} - \\frac{{\\left(i \\, k_{z} E_{{\\rm inner}_{{\\rm vacuum}_{x}}}\\left(x\\right) - \\frac{\\partial}{\\partial x}E_{{\\rm inner}_{{\\rm vacuum}_{z}}}\\left(x\\right)\\right)} c k_{z}}{\\omega} = -\\frac{i \\, \\omega E_{{\\rm inner}_{{\\rm vacuum}_{x}}}\\left(x\\right)}{c}$"
      ],
      "text/plain": [
       "<IPython.core.display.Math object>"
      ]
     },
     "metadata": {},
     "output_type": "display_data"
    },
    {
     "name": "stdout",
     "output_type": "stream",
     "text": [
      "eq_rot_H_inner_vacuum_s_y =\n"
     ]
    },
    {
     "data": {
      "text/latex": [
       "$\\displaystyle x \\ {\\mapsto}\\ \\frac{{\\left(-i \\, k_{z} E_{{\\rm inner}_{{\\rm vacuum}_{y}}}\\left(x\\right) + i \\, k_{y} E_{{\\rm inner}_{{\\rm vacuum}_{z}}}\\left(x\\right)\\right)} c k_{z}}{\\omega} + \\frac{i \\, {\\left(-i \\, k_{y} \\frac{\\partial}{\\partial x}E_{{\\rm inner}_{{\\rm vacuum}_{x}}}\\left(x\\right) + \\frac{\\partial^{2}}{(\\partial x)^{2}}E_{{\\rm inner}_{{\\rm vacuum}_{y}}}\\left(x\\right)\\right)} c}{\\omega} = -\\frac{i \\, \\omega E_{{\\rm inner}_{{\\rm vacuum}_{y}}}\\left(x\\right)}{c}$"
      ],
      "text/plain": [
       "<IPython.core.display.Math object>"
      ]
     },
     "metadata": {},
     "output_type": "display_data"
    },
    {
     "name": "stdout",
     "output_type": "stream",
     "text": [
      "eq_rot_H_inner_vacuum_s_z =\n"
     ]
    },
    {
     "data": {
      "text/latex": [
       "$\\displaystyle x \\ {\\mapsto}\\ -\\frac{{\\left(-i \\, k_{z} E_{{\\rm inner}_{{\\rm vacuum}_{y}}}\\left(x\\right) + i \\, k_{y} E_{{\\rm inner}_{{\\rm vacuum}_{z}}}\\left(x\\right)\\right)} c k_{y}}{\\omega} - \\frac{i \\, {\\left(i \\, k_{z} \\frac{\\partial}{\\partial x}E_{{\\rm inner}_{{\\rm vacuum}_{x}}}\\left(x\\right) - \\frac{\\partial^{2}}{(\\partial x)^{2}}E_{{\\rm inner}_{{\\rm vacuum}_{z}}}\\left(x\\right)\\right)} c}{\\omega} = -\\frac{i \\, \\omega E_{{\\rm inner}_{{\\rm vacuum}_{z}}}\\left(x\\right)}{c}$"
      ],
      "text/plain": [
       "<IPython.core.display.Math object>"
      ]
     },
     "metadata": {},
     "output_type": "display_data"
    }
   ],
   "source": [
    "print (\"eq_rot_H_inner_vacuum_s_x =\")\n",
    "display(Math(latex(eq_rot_H_inner_vacuum_s_x.simplify())))\n",
    "\n",
    "print (\"eq_rot_H_inner_vacuum_s_y =\")\n",
    "display(Math(latex(eq_rot_H_inner_vacuum_s_y.simplify())))\n",
    "\n",
    "print (\"eq_rot_H_inner_vacuum_s_z =\")\n",
    "display(Math(latex(eq_rot_H_inner_vacuum_s_z.simplify())))"
   ]
  },
  {
   "cell_type": "code",
   "execution_count": 25,
   "metadata": {},
   "outputs": [
    {
     "name": "stdout",
     "output_type": "stream",
     "text": [
      "eq_rot_H_inner_vacuum_sol_x =\n"
     ]
    },
    {
     "data": {
      "text/latex": [
       "$\\displaystyle \\frac{{\\left(i \\, \\mathit{A2}_{y} K_{\\mathit{vacuum}} e^{\\left(i \\, K_{\\mathit{vacuum}} x\\right)} - i \\, \\mathit{A1}_{y} K_{\\mathit{vacuum}} e^{\\left(-i \\, K_{\\mathit{vacuum}} x\\right)} - i \\, {\\left(\\mathit{A2}_{x} e^{\\left(i \\, K_{\\mathit{vacuum}} x\\right)} + \\mathit{A1}_{x} e^{\\left(-i \\, K_{\\mathit{vacuum}} x\\right)}\\right)} k_{y}\\right)} c k_{y}}{\\omega} - \\frac{{\\left(-i \\, \\mathit{A2}_{z} K_{\\mathit{vacuum}} e^{\\left(i \\, K_{\\mathit{vacuum}} x\\right)} + i \\, \\mathit{A1}_{z} K_{\\mathit{vacuum}} e^{\\left(-i \\, K_{\\mathit{vacuum}} x\\right)} + i \\, {\\left(\\mathit{A2}_{x} e^{\\left(i \\, K_{\\mathit{vacuum}} x\\right)} + \\mathit{A1}_{x} e^{\\left(-i \\, K_{\\mathit{vacuum}} x\\right)}\\right)} k_{z}\\right)} c k_{z}}{\\omega} = -\\frac{i \\, {\\left(\\mathit{A2}_{x} e^{\\left(i \\, K_{\\mathit{vacuum}} x\\right)} + \\mathit{A1}_{x} e^{\\left(-i \\, K_{\\mathit{vacuum}} x\\right)}\\right)} \\omega}{c}$"
      ],
      "text/plain": [
       "<IPython.core.display.Math object>"
      ]
     },
     "metadata": {},
     "output_type": "display_data"
    },
    {
     "name": "stdout",
     "output_type": "stream",
     "text": [
      "eq_rot_H_inner_vacuum_sol_y =\n"
     ]
    },
    {
     "data": {
      "text/latex": [
       "$\\displaystyle \\frac{{\\left(i \\, {\\left(\\mathit{A2}_{z} e^{\\left(i \\, K_{\\mathit{vacuum}} x\\right)} + \\mathit{A1}_{z} e^{\\left(-i \\, K_{\\mathit{vacuum}} x\\right)}\\right)} k_{y} - i \\, {\\left(\\mathit{A2}_{y} e^{\\left(i \\, K_{\\mathit{vacuum}} x\\right)} + \\mathit{A1}_{y} e^{\\left(-i \\, K_{\\mathit{vacuum}} x\\right)}\\right)} k_{z}\\right)} c k_{z}}{\\omega} - \\frac{i \\, {\\left(\\mathit{A2}_{y} K_{\\mathit{vacuum}}^{2} e^{\\left(i \\, K_{\\mathit{vacuum}} x\\right)} + \\mathit{A1}_{y} K_{\\mathit{vacuum}}^{2} e^{\\left(-i \\, K_{\\mathit{vacuum}} x\\right)} + i \\, {\\left(i \\, \\mathit{A2}_{x} K_{\\mathit{vacuum}} e^{\\left(i \\, K_{\\mathit{vacuum}} x\\right)} - i \\, \\mathit{A1}_{x} K_{\\mathit{vacuum}} e^{\\left(-i \\, K_{\\mathit{vacuum}} x\\right)}\\right)} k_{y}\\right)} c}{\\omega} = -\\frac{i \\, {\\left(\\mathit{A2}_{y} e^{\\left(i \\, K_{\\mathit{vacuum}} x\\right)} + \\mathit{A1}_{y} e^{\\left(-i \\, K_{\\mathit{vacuum}} x\\right)}\\right)} \\omega}{c}$"
      ],
      "text/plain": [
       "<IPython.core.display.Math object>"
      ]
     },
     "metadata": {},
     "output_type": "display_data"
    },
    {
     "name": "stdout",
     "output_type": "stream",
     "text": [
      "eq_rot_H_inner_vacuum_sol_z =\n"
     ]
    },
    {
     "data": {
      "text/latex": [
       "$\\displaystyle -\\frac{{\\left(i \\, {\\left(\\mathit{A2}_{z} e^{\\left(i \\, K_{\\mathit{vacuum}} x\\right)} + \\mathit{A1}_{z} e^{\\left(-i \\, K_{\\mathit{vacuum}} x\\right)}\\right)} k_{y} - i \\, {\\left(\\mathit{A2}_{y} e^{\\left(i \\, K_{\\mathit{vacuum}} x\\right)} + \\mathit{A1}_{y} e^{\\left(-i \\, K_{\\mathit{vacuum}} x\\right)}\\right)} k_{z}\\right)} c k_{y}}{\\omega} - \\frac{i \\, {\\left(\\mathit{A2}_{z} K_{\\mathit{vacuum}}^{2} e^{\\left(i \\, K_{\\mathit{vacuum}} x\\right)} + \\mathit{A1}_{z} K_{\\mathit{vacuum}}^{2} e^{\\left(-i \\, K_{\\mathit{vacuum}} x\\right)} + i \\, {\\left(i \\, \\mathit{A2}_{x} K_{\\mathit{vacuum}} e^{\\left(i \\, K_{\\mathit{vacuum}} x\\right)} - i \\, \\mathit{A1}_{x} K_{\\mathit{vacuum}} e^{\\left(-i \\, K_{\\mathit{vacuum}} x\\right)}\\right)} k_{z}\\right)} c}{\\omega} = -\\frac{i \\, {\\left(\\mathit{A2}_{z} e^{\\left(i \\, K_{\\mathit{vacuum}} x\\right)} + \\mathit{A1}_{z} e^{\\left(-i \\, K_{\\mathit{vacuum}} x\\right)}\\right)} \\omega}{c}$"
      ],
      "text/plain": [
       "<IPython.core.display.Math object>"
      ]
     },
     "metadata": {},
     "output_type": "display_data"
    }
   ],
   "source": [
    "print (\"eq_rot_H_inner_vacuum_sol_x =\")\n",
    "display(Math(latex(eq_rot_H_inner_vacuum_sol_x.simplify())))\n",
    "\n",
    "print (\"eq_rot_H_inner_vacuum_sol_y =\")\n",
    "display(Math(latex(eq_rot_H_inner_vacuum_sol_y.simplify())))\n",
    "\n",
    "print (\"eq_rot_H_inner_vacuum_sol_z =\")\n",
    "display(Math(latex(eq_rot_H_inner_vacuum_sol_z.simplify())))"
   ]
  },
  {
   "cell_type": "raw",
   "metadata": {},
   "source": [
    "print (\"eq_rot_H_inner_vacuum_x =\")\n",
    "display(Math(latex(eq_rot_H_inner_vacuum_x.simplify())))\n",
    "\n",
    "print (\"eq_rot_H_inner_vacuum_y =\")\n",
    "display(Math(latex(eq_rot_H_inner_vacuum_y.simplify())))\n",
    "\n",
    "print (\"eq_rot_H_inner_vacuum_z =\")\n",
    "display(Math(latex(eq_rot_H_inner_vacuum_z.simplify())))"
   ]
  },
  {
   "cell_type": "code",
   "execution_count": 26,
   "metadata": {},
   "outputs": [
    {
     "name": "stdout",
     "output_type": "stream",
     "text": [
      "eq_rot_H_bad_conductor_sol_x =\n"
     ]
    },
    {
     "data": {
      "text/latex": [
       "$\\displaystyle \\frac{{\\left(i \\, \\mathit{B1}_{y} K_{\\mathit{conductor}} e^{\\left(i \\, K_{\\mathit{conductor}} x\\right)} - i \\, \\mathit{B1}_{x} k_{y} e^{\\left(i \\, K_{\\mathit{conductor}} x\\right)}\\right)} c k_{y}}{\\mu \\omega} - \\frac{{\\left(-i \\, \\mathit{B1}_{z} K_{\\mathit{conductor}} e^{\\left(i \\, K_{\\mathit{conductor}} x\\right)} + i \\, \\mathit{B1}_{x} k_{z} e^{\\left(i \\, K_{\\mathit{conductor}} x\\right)}\\right)} c k_{z}}{\\mu \\omega} = -\\frac{i \\, \\mathit{B1}_{x} \\epsilon \\omega e^{\\left(i \\, K_{\\mathit{conductor}} x\\right)}}{c}$"
      ],
      "text/plain": [
       "<IPython.core.display.Math object>"
      ]
     },
     "metadata": {},
     "output_type": "display_data"
    },
    {
     "name": "stdout",
     "output_type": "stream",
     "text": [
      "eq_rot_H_bad_conductor_sol_y =\n"
     ]
    },
    {
     "data": {
      "text/latex": [
       "$\\displaystyle \\frac{{\\left(i \\, \\mathit{B1}_{z} k_{y} e^{\\left(i \\, K_{\\mathit{conductor}} x\\right)} - i \\, \\mathit{B1}_{y} k_{z} e^{\\left(i \\, K_{\\mathit{conductor}} x\\right)}\\right)} c k_{z}}{\\mu \\omega} - \\frac{i \\, {\\left(\\mathit{B1}_{y} K_{\\mathit{conductor}}^{2} e^{\\left(i \\, K_{\\mathit{conductor}} x\\right)} - \\mathit{B1}_{x} K_{\\mathit{conductor}} k_{y} e^{\\left(i \\, K_{\\mathit{conductor}} x\\right)}\\right)} c}{\\mu \\omega} = -\\frac{i \\, \\mathit{B1}_{y} \\epsilon \\omega e^{\\left(i \\, K_{\\mathit{conductor}} x\\right)}}{c}$"
      ],
      "text/plain": [
       "<IPython.core.display.Math object>"
      ]
     },
     "metadata": {},
     "output_type": "display_data"
    },
    {
     "name": "stdout",
     "output_type": "stream",
     "text": [
      "eq_rot_H_bad_conductor_sol_z =\n"
     ]
    },
    {
     "data": {
      "text/latex": [
       "$\\displaystyle -\\frac{{\\left(i \\, \\mathit{B1}_{z} k_{y} e^{\\left(i \\, K_{\\mathit{conductor}} x\\right)} - i \\, \\mathit{B1}_{y} k_{z} e^{\\left(i \\, K_{\\mathit{conductor}} x\\right)}\\right)} c k_{y}}{\\mu \\omega} - \\frac{i \\, {\\left(\\mathit{B1}_{z} K_{\\mathit{conductor}}^{2} e^{\\left(i \\, K_{\\mathit{conductor}} x\\right)} - \\mathit{B1}_{x} K_{\\mathit{conductor}} k_{z} e^{\\left(i \\, K_{\\mathit{conductor}} x\\right)}\\right)} c}{\\mu \\omega} = -\\frac{i \\, \\mathit{B1}_{z} \\epsilon \\omega e^{\\left(i \\, K_{\\mathit{conductor}} x\\right)}}{c}$"
      ],
      "text/plain": [
       "<IPython.core.display.Math object>"
      ]
     },
     "metadata": {},
     "output_type": "display_data"
    }
   ],
   "source": [
    "print (\"eq_rot_H_bad_conductor_sol_x =\")\n",
    "display(Math(latex(eq_rot_H_bad_conductor_sol_x.simplify())))\n",
    "\n",
    "print (\"eq_rot_H_bad_conductor_sol_y =\")\n",
    "display(Math(latex(eq_rot_H_bad_conductor_sol_y.simplify())))\n",
    "\n",
    "print (\"eq_rot_H_bad_conductor_sol_z =\")\n",
    "display(Math(latex(eq_rot_H_bad_conductor_sol_z.simplify())))"
   ]
  },
  {
   "cell_type": "raw",
   "metadata": {},
   "source": [
    "print (\"eq_rot_H_bad_conductor_x =\")\n",
    "display(Math(latex(eq_rot_H_bad_conductor_x.simplify())))\n",
    "\n",
    "print (\"eq_rot_H_bad_conductor_y =\")\n",
    "display(Math(latex(eq_rot_H_bad_conductor_y.simplify())))\n",
    "\n",
    "print (\"eq_rot_H_bad_conductor_z =\")\n",
    "display(Math(latex(eq_rot_H_bad_conductor_z.simplify())))"
   ]
  },
  {
   "cell_type": "code",
   "execution_count": 27,
   "metadata": {},
   "outputs": [
    {
     "name": "stdout",
     "output_type": "stream",
     "text": [
      "eq_rot_H_inner_vacuum_x =\n"
     ]
    },
    {
     "data": {
      "text/latex": [
       "$\\displaystyle \\left[E_{{\\rm inner}_{{\\rm vacuum}_{x}}}\\left(x\\right) = \\frac{k_{z} H_{{\\rm inner}_{{\\rm vacuum}_{f_{y}}}}\\left(x\\right) - k_{y} H_{{\\rm inner}_{{\\rm vacuum}_{f_{z}}}}\\left(x\\right)}{\\kappa_{\\mathit{vacuum}}}\\right]$"
      ],
      "text/plain": [
       "<IPython.core.display.Math object>"
      ]
     },
     "metadata": {},
     "output_type": "display_data"
    },
    {
     "name": "stdout",
     "output_type": "stream",
     "text": [
      "H_inner_vacuum_y  (x) =\n"
     ]
    },
    {
     "data": {
      "text/latex": [
       "$\\displaystyle H_{\\mathit{inner}_{\\mathit{vacuum}_{y}}}$"
      ],
      "text/plain": [
       "<IPython.core.display.Math object>"
      ]
     },
     "metadata": {},
     "output_type": "display_data"
    },
    {
     "name": "stdout",
     "output_type": "stream",
     "text": [
      "eq_rot_H_bad_conductor_x =\n"
     ]
    },
    {
     "data": {
      "text/latex": [
       "$\\displaystyle \\left[E_{{\\rm bad}_{{\\rm conductor}_{x}}}\\left(x\\right) = \\frac{\\sqrt{\\epsilon \\mu} k_{z} H_{{\\rm bad}_{{\\rm conductor}_{f_{y}}}}\\left(x\\right) - \\sqrt{\\epsilon \\mu} k_{y} H_{{\\rm bad}_{{\\rm conductor}_{f_{z}}}}\\left(x\\right)}{\\epsilon \\kappa}\\right]$"
      ],
      "text/plain": [
       "<IPython.core.display.Math object>"
      ]
     },
     "metadata": {},
     "output_type": "display_data"
    },
    {
     "name": "stdout",
     "output_type": "stream",
     "text": [
      "H_bad_conductor_y (x) =\n"
     ]
    },
    {
     "data": {
      "text/latex": [
       "$\\displaystyle H_{\\mathit{bad}_{\\mathit{conductor}_{y}}}$"
      ],
      "text/plain": [
       "<IPython.core.display.Math object>"
      ]
     },
     "metadata": {},
     "output_type": "display_data"
    }
   ],
   "source": [
    "print (\"eq_rot_H_inner_vacuum_x =\")\n",
    "eq_rot_H_inner_vacuum_x_subs = eq_rot_H_inner_vacuum_x.subs(omega==c*kappa_vacuum/sqrt(epsilon_0*mu_0))\n",
    "eq_rot_H_inner_vacuum_x_subs_solve = solve(eq_rot_H_inner_vacuum_x_subs, E_inner_vacuum_x(x))\n",
    "display(Math(latex(eq_rot_H_inner_vacuum_x_subs_solve)))\n",
    "\n",
    "print (\"H_inner_vacuum_y  (x) =\")\n",
    "H_inner_vacuum_subs_y = H_inner_vacuum_y.subs(omega==c*kappa_vacuum/sqrt(epsilon_0*mu_0), eq_rot_H_inner_vacuum_x_subs_solve)\n",
    "display(Math(latex(H_inner_vacuum_subs_y)))\n",
    "\n",
    "print (\"eq_rot_H_bad_conductor_x =\")\n",
    "eq_rot_H_bad_conductor_x_subs = eq_rot_H_bad_conductor_x.subs(omega==c*kappa/sqrt(epsilon*mu))\n",
    "eq_rot_H_bad_conductor_x_subs_solve = solve(eq_rot_H_bad_conductor_x_subs, E_bad_conductor_x(x))\n",
    "display(Math(latex(eq_rot_H_bad_conductor_x_subs_solve)))\n",
    "\n",
    "print (\"H_bad_conductor_y (x) =\")\n",
    "H_bad_conductor_subs_y = H_bad_conductor_y.subs(omega==c*kappa/sqrt(epsilon*mu), eq_rot_H_bad_conductor_x_subs_solve)\n",
    "display(Math(latex(H_bad_conductor_subs_y)))"
   ]
  },
  {
   "cell_type": "code",
   "execution_count": 28,
   "metadata": {},
   "outputs": [
    {
     "data": {
      "text/latex": [
       "$\\displaystyle \\left[\\kappa_{\\mathit{vacuum}} = -\\frac{\\omega}{c}, \\kappa_{\\mathit{vacuum}} = \\frac{\\omega}{c}\\right]$"
      ],
      "text/plain": [
       "<IPython.core.display.Math object>"
      ]
     },
     "metadata": {},
     "output_type": "display_data"
    }
   ],
   "source": [
    "res = solve(eq_kappa_inner_vacuum, kappa_vacuum)\n",
    "display(Math(latex(res)))"
   ]
  },
  {
   "cell_type": "code",
   "execution_count": 29,
   "metadata": {},
   "outputs": [
    {
     "data": {
      "text/plain": [
       "A1_z*e^(I*K_vacuum*a) + A2_z*e^(-I*K_vacuum*a)"
      ]
     },
     "execution_count": 29,
     "metadata": {},
     "output_type": "execute_result"
    }
   ],
   "source": [
    "E_inner_vacuum_sol_z(-a)"
   ]
  },
  {
   "cell_type": "code",
   "execution_count": null,
   "metadata": {},
   "outputs": [],
   "source": []
  },
  {
   "cell_type": "code",
   "execution_count": 30,
   "metadata": {},
   "outputs": [],
   "source": [
    "# выражения для электрического поля\n",
    "# в вакууме внутри резонатора \n",
    "#    E_inner_vacuum_z (x) = A1_z_re*cos(sqrt(kappa_vacuum^2-k_z^2)*x) + A1_z_im*sin(sqrt(kappa_vacuum^2-k_z^2)*x)\n",
    "#    E_inner_vacuum_x (x) = A1_x_re*cos(sqrt(kappa_vacuum^2-k_z^2)*x) + A1_x_im*sin(sqrt(kappa_vacuum^2-k_z^2)*x)\n",
    "#    E_inner_vacuum_y (x) = A1_y_re*cos(sqrt(kappa_vacuum^2-k_z^2)*x) + A1_y_im*sin(sqrt(kappa_vacuum^2-k_z^2)*x)\n"
   ]
  },
  {
   "cell_type": "code",
   "execution_count": null,
   "metadata": {},
   "outputs": [],
   "source": []
  },
  {
   "cell_type": "code",
   "execution_count": 31,
   "metadata": {},
   "outputs": [
    {
     "name": "stdout",
     "output_type": "stream",
     "text": [
      "eqEz_0 = \n"
     ]
    },
    {
     "data": {
      "text/latex": [
       "$\\displaystyle \\mathit{A1}_{z} e^{\\left(i \\, K_{\\mathit{vacuum}} a\\right)} + \\mathit{A2}_{z} e^{\\left(-i \\, K_{\\mathit{vacuum}} a\\right)} = 0$"
      ],
      "text/plain": [
       "<IPython.core.display.Math object>"
      ]
     },
     "metadata": {},
     "output_type": "display_data"
    },
    {
     "name": "stdout",
     "output_type": "stream",
     "text": [
      "eqEy_0 = \n"
     ]
    },
    {
     "data": {
      "text/latex": [
       "$\\displaystyle \\mathit{A1}_{y} e^{\\left(i \\, K_{\\mathit{vacuum}} a\\right)} + \\mathit{A2}_{y} e^{\\left(-i \\, K_{\\mathit{vacuum}} a\\right)} = 0$"
      ],
      "text/plain": [
       "<IPython.core.display.Math object>"
      ]
     },
     "metadata": {},
     "output_type": "display_data"
    }
   ],
   "source": [
    "# граничные условия на границе идеального проводника и вакуума внутри резонатора\n",
    "# тангенциальная компонента электрического поля\n",
    "# eqEz_0 = solve(E_inner_vacuum_sol_z(-a) == 0, A1_z)\n",
    "eqEz_0 = E_inner_vacuum_sol_z(-a) == 0\n",
    "# E_inner_vacuum_z (x) = A1_z_re*cos(sqrt(kappa_vacuum^2-k_z^2)*x) + A1_z_im*sin(sqrt(kappa_vacuum^2-k^2)*x)\n",
    "# eqEz_0 = A1_z_re*cos(sqrt(kappa_vacuum^2-k_z^2)*x) + A1_z_im*sin(sqrt(kappa_vacuum^2-k_z^2)*x) == 0\n",
    "\n",
    "print (\"eqEz_0 = \")\n",
    "display(Math(latex(eqEz_0)))\n",
    "\n",
    "if 0 != A1_y:\n",
    "    #eqEy_0 = solve(E_inner_vacuum_sol_y(-a) == 0, A1_y)\n",
    "    eqEy_0 = E_inner_vacuum_sol_y(-a) == 0\n",
    "    print (\"eqEy_0 = \")\n",
    "    display(Math(latex(eqEy_0)))"
   ]
  },
  {
   "cell_type": "code",
   "execution_count": 32,
   "metadata": {},
   "outputs": [
    {
     "name": "stdout",
     "output_type": "stream",
     "text": [
      "eqEz_a = \n"
     ]
    },
    {
     "data": {
      "text/latex": [
       "$\\displaystyle \\mathit{B1}_{z} = \\mathit{A1}_{z} + \\mathit{A2}_{z}$"
      ],
      "text/plain": [
       "<IPython.core.display.Math object>"
      ]
     },
     "metadata": {},
     "output_type": "display_data"
    },
    {
     "name": "stdout",
     "output_type": "stream",
     "text": [
      "eqEy_a = \n"
     ]
    },
    {
     "data": {
      "text/latex": [
       "$\\displaystyle \\mathit{B1}_{y} = \\mathit{A1}_{y} + \\mathit{A2}_{y}$"
      ],
      "text/plain": [
       "<IPython.core.display.Math object>"
      ]
     },
     "metadata": {},
     "output_type": "display_data"
    }
   ],
   "source": [
    "# граничные условия на границе вакуума внутри резонатора и проводящего металла с потерями\n",
    "# тангенциальная компонента электрического поля\n",
    "eqEz_a = E_bad_conductor_sol_z(0) == E_inner_vacuum_sol_z(0)\n",
    "eqEy_a = E_bad_conductor_sol_y(0) == E_inner_vacuum_sol_y(0)\n",
    "\n",
    "print (\"eqEz_a = \")\n",
    "display(Math(latex(eqEz_a)))\n",
    "print (\"eqEy_a = \")\n",
    "display(Math(latex(eqEy_a)))"
   ]
  },
  {
   "cell_type": "code",
   "execution_count": 33,
   "metadata": {},
   "outputs": [
    {
     "name": "stdout",
     "output_type": "stream",
     "text": [
      "eqDx_a =\n"
     ]
    },
    {
     "data": {
      "text/latex": [
       "$\\displaystyle \\mathit{A1}_{x} + \\mathit{A2}_{x} = \\mathit{B1}_{x} {\\left(\\epsilon + \\frac{4 i \\, \\pi \\sigma}{\\omega}\\right)}$"
      ],
      "text/plain": [
       "<IPython.core.display.Math object>"
      ]
     },
     "metadata": {},
     "output_type": "display_data"
    }
   ],
   "source": [
    "# нормальная компонента электрического смещения\n",
    "eqDx_a = E_inner_vacuum_sol_x(0) == E_bad_conductor_sol_x(0) * epsilon_complex\n",
    "\n",
    "print (\"eqDx_a =\")\n",
    "display(Math(latex(eqDx_a)))"
   ]
  },
  {
   "cell_type": "code",
   "execution_count": 34,
   "metadata": {},
   "outputs": [
    {
     "name": "stdout",
     "output_type": "stream",
     "text": [
      "H_bad_conductor_sol_z (0), H_inner_vacuum_sol_z (x) =\n"
     ]
    },
    {
     "data": {
      "text/latex": [
       "$\\displaystyle \\left[-\\frac{i \\, {\\left(i \\, \\mathit{B1}_{y} K_{\\mathit{conductor}} e^{\\left(i \\, K_{\\mathit{conductor}} x\\right)} - i \\, \\mathit{B1}_{x} k_{y} e^{\\left(i \\, K_{\\mathit{conductor}} x\\right)}\\right)} c}{\\mu \\omega}, -\\frac{i \\, {\\left(i \\, \\mathit{A2}_{y} K_{\\mathit{vacuum}} e^{\\left(i \\, K_{\\mathit{vacuum}} x\\right)} - i \\, \\mathit{A1}_{y} K_{\\mathit{vacuum}} e^{\\left(-i \\, K_{\\mathit{vacuum}} x\\right)} - i \\, {\\left(\\mathit{A2}_{x} e^{\\left(i \\, K_{\\mathit{vacuum}} x\\right)} + \\mathit{A1}_{x} e^{\\left(-i \\, K_{\\mathit{vacuum}} x\\right)}\\right)} k_{y}\\right)} c}{\\omega}\\right]$"
      ],
      "text/plain": [
       "<IPython.core.display.Math object>"
      ]
     },
     "metadata": {},
     "output_type": "display_data"
    },
    {
     "name": "stdout",
     "output_type": "stream",
     "text": [
      "H_bad_conductor_sol_y (0), H_inner_vacuum_sol_y (x) =\n"
     ]
    },
    {
     "data": {
      "text/latex": [
       "$\\displaystyle \\left[-\\frac{i \\, {\\left(-i \\, \\mathit{B1}_{z} K_{\\mathit{conductor}} e^{\\left(i \\, K_{\\mathit{conductor}} x\\right)} + i \\, \\mathit{B1}_{x} k_{z} e^{\\left(i \\, K_{\\mathit{conductor}} x\\right)}\\right)} c}{\\mu \\omega}, -\\frac{i \\, {\\left(-i \\, \\mathit{A2}_{z} K_{\\mathit{vacuum}} e^{\\left(i \\, K_{\\mathit{vacuum}} x\\right)} + i \\, \\mathit{A1}_{z} K_{\\mathit{vacuum}} e^{\\left(-i \\, K_{\\mathit{vacuum}} x\\right)} + i \\, {\\left(\\mathit{A2}_{x} e^{\\left(i \\, K_{\\mathit{vacuum}} x\\right)} + \\mathit{A1}_{x} e^{\\left(-i \\, K_{\\mathit{vacuum}} x\\right)}\\right)} k_{z}\\right)} c}{\\omega}\\right]$"
      ],
      "text/plain": [
       "<IPython.core.display.Math object>"
      ]
     },
     "metadata": {},
     "output_type": "display_data"
    },
    {
     "name": "stdout",
     "output_type": "stream",
     "text": [
      "sqrt(mu/epsilon)*H_bad_conductor_sol_z (0), sqrt(mu/epsilon)*H_inner_vacuum_sol_z (x) =\n"
     ]
    },
    {
     "data": {
      "text/latex": [
       "$\\displaystyle \\left[-\\frac{i \\, {\\left(i \\, \\mathit{B1}_{y} K_{\\mathit{conductor}} e^{\\left(i \\, K_{\\mathit{conductor}} x\\right)} - i \\, \\mathit{B1}_{x} k_{y} e^{\\left(i \\, K_{\\mathit{conductor}} x\\right)}\\right)} c \\sqrt{\\frac{\\mu}{\\epsilon}}}{\\mu \\omega}, -\\frac{i \\, {\\left(i \\, \\mathit{A2}_{y} K_{\\mathit{vacuum}} e^{\\left(i \\, K_{\\mathit{vacuum}} x\\right)} - i \\, \\mathit{A1}_{y} K_{\\mathit{vacuum}} e^{\\left(-i \\, K_{\\mathit{vacuum}} x\\right)} - i \\, {\\left(\\mathit{A2}_{x} e^{\\left(i \\, K_{\\mathit{vacuum}} x\\right)} + \\mathit{A1}_{x} e^{\\left(-i \\, K_{\\mathit{vacuum}} x\\right)}\\right)} k_{y}\\right)} c}{\\omega}\\right]$"
      ],
      "text/plain": [
       "<IPython.core.display.Math object>"
      ]
     },
     "metadata": {},
     "output_type": "display_data"
    },
    {
     "name": "stdout",
     "output_type": "stream",
     "text": [
      "H_bad_conductor_y (0), H_inner_vacuum_y (0) =\n"
     ]
    },
    {
     "data": {
      "text/latex": [
       "$\\displaystyle \\left[-\\frac{i \\, {\\left(-i \\, \\mathit{B1}_{z} K_{\\mathit{conductor}} e^{\\left(i \\, K_{\\mathit{conductor}} x\\right)} + i \\, \\mathit{B1}_{x} k_{z} e^{\\left(i \\, K_{\\mathit{conductor}} x\\right)}\\right)} c \\sqrt{\\frac{\\mu}{\\epsilon}}}{\\mu \\omega}, -\\frac{i \\, {\\left(-i \\, \\mathit{A2}_{z} K_{\\mathit{vacuum}} e^{\\left(i \\, K_{\\mathit{vacuum}} x\\right)} + i \\, \\mathit{A1}_{z} K_{\\mathit{vacuum}} e^{\\left(-i \\, K_{\\mathit{vacuum}} x\\right)} + i \\, {\\left(\\mathit{A2}_{x} e^{\\left(i \\, K_{\\mathit{vacuum}} x\\right)} + \\mathit{A1}_{x} e^{\\left(-i \\, K_{\\mathit{vacuum}} x\\right)}\\right)} k_{z}\\right)} c}{\\omega}\\right]$"
      ],
      "text/plain": [
       "<IPython.core.display.Math object>"
      ]
     },
     "metadata": {},
     "output_type": "display_data"
    },
    {
     "name": "stdout",
     "output_type": "stream",
     "text": [
      "eqEz_0, eqEy_0 = \n"
     ]
    },
    {
     "data": {
      "text/latex": [
       "$\\displaystyle \\left[\\mathit{A1}_{z} e^{\\left(i \\, K_{\\mathit{vacuum}} a\\right)} + \\mathit{A2}_{z} e^{\\left(-i \\, K_{\\mathit{vacuum}} a\\right)} = 0, \\mathit{A1}_{y} e^{\\left(i \\, K_{\\mathit{vacuum}} a\\right)} + \\mathit{A2}_{y} e^{\\left(-i \\, K_{\\mathit{vacuum}} a\\right)} = 0\\right]$"
      ],
      "text/plain": [
       "<IPython.core.display.Math object>"
      ]
     },
     "metadata": {},
     "output_type": "display_data"
    },
    {
     "name": "stdout",
     "output_type": "stream",
     "text": [
      "eqHz_a =\n"
     ]
    },
    {
     "data": {
      "text/latex": [
       "$\\displaystyle -\\frac{i \\, {\\left(i \\, \\mathit{B1}_{y} K_{\\mathit{conductor}} - i \\, \\mathit{B1}_{x} k_{y}\\right)} c}{\\mu \\omega} = -\\frac{i \\, {\\left(-i \\, \\mathit{A1}_{y} K_{\\mathit{vacuum}} + i \\, \\mathit{A2}_{y} K_{\\mathit{vacuum}} - i \\, {\\left(\\mathit{A1}_{x} + \\mathit{A2}_{x}\\right)} k_{y}\\right)} c}{\\omega}$"
      ],
      "text/plain": [
       "<IPython.core.display.Math object>"
      ]
     },
     "metadata": {},
     "output_type": "display_data"
    },
    {
     "name": "stdout",
     "output_type": "stream",
     "text": [
      "eqHy_a =\n"
     ]
    },
    {
     "data": {
      "text/latex": [
       "$\\displaystyle -\\frac{i \\, {\\left(-i \\, \\mathit{B1}_{z} K_{\\mathit{conductor}} + i \\, \\mathit{B1}_{x} k_{z}\\right)} c}{\\mu \\omega} = -\\frac{i \\, {\\left(i \\, \\mathit{A1}_{z} K_{\\mathit{vacuum}} - i \\, \\mathit{A2}_{z} K_{\\mathit{vacuum}} + i \\, {\\left(\\mathit{A1}_{x} + \\mathit{A2}_{x}\\right)} k_{z}\\right)} c}{\\omega}$"
      ],
      "text/plain": [
       "<IPython.core.display.Math object>"
      ]
     },
     "metadata": {},
     "output_type": "display_data"
    }
   ],
   "source": [
    "# тангенциальная компонента напряженности магнитного поля\n",
    "eqHz_a  = (H_bad_conductor_sol_z(0)  == H_inner_vacuum_sol_z(0)).subs(eqEz_0, eqEy_0)\n",
    "eqHy_a  = (H_bad_conductor_sol_y(0)  == H_inner_vacuum_sol_y(0)).subs(eqEy_0, eqEz_0)\n",
    "\n",
    "print (\"H_bad_conductor_sol_z (0), H_inner_vacuum_sol_z (x) =\")\n",
    "display(Math(latex([H_bad_conductor_sol_z (x), H_inner_vacuum_sol_z (x)])))\n",
    "\n",
    "print (\"H_bad_conductor_sol_y (0), H_inner_vacuum_sol_y (x) =\")\n",
    "display(Math(latex([H_bad_conductor_sol_y (x), H_inner_vacuum_sol_y (x)])))\n",
    "\n",
    "print (\"sqrt(mu/epsilon)*H_bad_conductor_sol_z (0), sqrt(mu/epsilon)*H_inner_vacuum_sol_z (x) =\")\n",
    "display(Math(latex([sqrt(mu/epsilon)*H_bad_conductor_sol_z (x), sqrt(1/epsilon_0)*H_inner_vacuum_sol_z (x)])))\n",
    "\n",
    "print (\"H_bad_conductor_y (0), H_inner_vacuum_y (0) =\")\n",
    "display(Math(latex([sqrt(mu/epsilon)*H_bad_conductor_sol_y (x), sqrt(1/epsilon_0)*H_inner_vacuum_sol_y (x)])))\n",
    "\n",
    "print (\"eqEz_0, eqEy_0 = \")\n",
    "display(Math(latex([eqEz_0, eqEy_0])))\n",
    "\n",
    "\n",
    "print (\"eqHz_a =\")\n",
    "display(Math(latex(eqHz_a)))\n",
    "print (\"eqHy_a =\")\n",
    "display(Math(latex(eqHy_a)))\n",
    "\n",
    "#eqHz_a_subs = (eqHz_a.lhs().subs(omega == kappa/sqrt(epsilon*mu))/k_y/A1_x == eqHz_a.rhs().subs(omega == kappa/sqrt(epsilon*mu))/k_y/A1_x)\n",
    "#eqHy_a_subs = (eqHy_a.lhs().subs(omega == kappa/sqrt(epsilon*mu))/k_z/A1_x == eqHy_a.rhs().subs(omega == kappa/sqrt(epsilon*mu))/k_z/A1_x)\n",
    "\n",
    "#print (\"eqHz_a_subs =\")\n",
    "#display(Math(latex(eqHz_a_subs)))\n",
    "#print (\"eqHy_a_subs =\")//buf = buf | 0xA0;\n",
    "#display(Math(latex(eqHy_a_subs)))"
   ]
  },
  {
   "cell_type": "code",
   "execution_count": 35,
   "metadata": {},
   "outputs": [
    {
     "name": "stdout",
     "output_type": "stream",
     "text": [
      "eqBx_a =\n"
     ]
    },
    {
     "data": {
      "text/latex": [
       "$\\displaystyle -\\frac{i \\, {\\left(i \\, \\mathit{B1}_{z} k_{y} - i \\, \\mathit{B1}_{y} k_{z}\\right)} c}{\\omega} = -\\frac{i \\, {\\left(i \\, {\\left(\\mathit{A1}_{z} + \\mathit{A2}_{z}\\right)} k_{y} - i \\, {\\left(\\mathit{A1}_{y} + \\mathit{A2}_{y}\\right)} k_{z}\\right)} c}{\\omega}$"
      ],
      "text/plain": [
       "<IPython.core.display.Math object>"
      ]
     },
     "metadata": {},
     "output_type": "display_data"
    }
   ],
   "source": [
    "# нормальная компонента индукции магнитного поля\n",
    "eqBx_a  = mu * H_bad_conductor_sol_x (0)  == H_inner_vacuum_sol_x (0)\n",
    "\n",
    "print (\"eqBx_a =\")\n",
    "display(Math(latex(eqBx_a)))"
   ]
  },
  {
   "cell_type": "code",
   "execution_count": 36,
   "metadata": {},
   "outputs": [
    {
     "name": "stdout",
     "output_type": "stream",
     "text": [
      "eq_rot_H_inner_vacuum_y rot H (E_y) =\n",
      "I*k_z*H_inner_vacuum_f_x(x) - diff(H_inner_vacuum_f_z(x), x) == -I*omega*E_inner_vacuum_y(x)/c\n"
     ]
    },
    {
     "data": {
      "text/latex": [
       "$\\displaystyle i \\, k_{z} H_{{\\rm inner}_{{\\rm vacuum}_{f_{x}}}}\\left(x\\right) - \\frac{\\partial}{\\partial x}H_{{\\rm inner}_{{\\rm vacuum}_{f_{z}}}}\\left(x\\right) = -\\frac{i \\, \\omega E_{{\\rm inner}_{{\\rm vacuum}_{y}}}\\left(x\\right)}{c}$"
      ],
      "text/plain": [
       "<IPython.core.display.Math object>"
      ]
     },
     "metadata": {},
     "output_type": "display_data"
    },
    {
     "name": "stdout",
     "output_type": "stream",
     "text": [
      "eq_rot_H_inner_vacuum_y_subs_solve rot H (E_y) =\n",
      "kappa_vacuum*E_inner_vacuum_y(x) == -k_z*H_inner_vacuum_f_x(x) - I*diff(H_inner_vacuum_f_z(x), x)\n"
     ]
    },
    {
     "data": {
      "text/latex": [
       "$\\displaystyle \\kappa_{\\mathit{vacuum}} E_{{\\rm inner}_{{\\rm vacuum}_{y}}}\\left(x\\right) = -k_{z} H_{{\\rm inner}_{{\\rm vacuum}_{f_{x}}}}\\left(x\\right) - i \\, \\frac{\\partial}{\\partial x}H_{{\\rm inner}_{{\\rm vacuum}_{f_{z}}}}\\left(x\\right)$"
      ],
      "text/plain": [
       "<IPython.core.display.Math object>"
      ]
     },
     "metadata": {},
     "output_type": "display_data"
    },
    {
     "name": "stdout",
     "output_type": "stream",
     "text": [
      "eq_rot_E_inner_vacuum_x_subs (x) rot E =\n",
      "kappa_vacuum*H_inner_vacuum_f_x(x) == -k_z*E_inner_vacuum_y(x) + k_y*E_inner_vacuum_z(x)\n"
     ]
    },
    {
     "data": {
      "text/latex": [
       "$\\displaystyle \\kappa_{\\mathit{vacuum}} H_{{\\rm inner}_{{\\rm vacuum}_{f_{x}}}}\\left(x\\right) = -k_{z} E_{{\\rm inner}_{{\\rm vacuum}_{y}}}\\left(x\\right) + k_{y} E_{{\\rm inner}_{{\\rm vacuum}_{z}}}\\left(x\\right)$"
      ],
      "text/plain": [
       "<IPython.core.display.Math object>"
      ]
     },
     "metadata": {},
     "output_type": "display_data"
    },
    {
     "name": "stdout",
     "output_type": "stream",
     "text": [
      "eq_rot_H_inner_vacuum_y_subs_solve_m =\n",
      "kappa_vacuum*E_inner_vacuum_y(x) + k_z*H_inner_vacuum_f_x(x) == -I*diff(H_inner_vacuum_f_z(x), x)\n"
     ]
    },
    {
     "data": {
      "text/latex": [
       "$\\displaystyle \\kappa_{\\mathit{vacuum}} E_{{\\rm inner}_{{\\rm vacuum}_{y}}}\\left(x\\right) + k_{z} H_{{\\rm inner}_{{\\rm vacuum}_{f_{x}}}}\\left(x\\right) = -i \\, \\frac{\\partial}{\\partial x}H_{{\\rm inner}_{{\\rm vacuum}_{f_{z}}}}\\left(x\\right)$"
      ],
      "text/plain": [
       "<IPython.core.display.Math object>"
      ]
     },
     "metadata": {},
     "output_type": "display_data"
    },
    {
     "name": "stdout",
     "output_type": "stream",
     "text": [
      "eq_rot_E_inner_vacuum_x_subs_m =\n",
      "k_z*E_inner_vacuum_y(x) + kappa_vacuum*H_inner_vacuum_f_x(x) == k_y*E_inner_vacuum_z(x)\n"
     ]
    },
    {
     "data": {
      "text/latex": [
       "$\\displaystyle k_{z} E_{{\\rm inner}_{{\\rm vacuum}_{y}}}\\left(x\\right) + \\kappa_{\\mathit{vacuum}} H_{{\\rm inner}_{{\\rm vacuum}_{f_{x}}}}\\left(x\\right) = k_{y} E_{{\\rm inner}_{{\\rm vacuum}_{z}}}\\left(x\\right)$"
      ],
      "text/plain": [
       "<IPython.core.display.Math object>"
      ]
     },
     "metadata": {},
     "output_type": "display_data"
    },
    {
     "name": "stdout",
     "output_type": "stream",
     "text": [
      "eq_1 =\n",
      "-(k_z^2 - kappa_vacuum^2)*E_inner_vacuum_y(x) == -k_y*k_z*E_inner_vacuum_z(x) - I*kappa_vacuum*diff(H_inner_vacuum_f_z(x), x)\n"
     ]
    },
    {
     "data": {
      "text/latex": [
       "$\\displaystyle -{\\left(k_{z}^{2} - \\kappa_{\\mathit{vacuum}}^{2}\\right)} E_{{\\rm inner}_{{\\rm vacuum}_{y}}}\\left(x\\right) = -k_{y} k_{z} E_{{\\rm inner}_{{\\rm vacuum}_{z}}}\\left(x\\right) - i \\, \\kappa_{\\mathit{vacuum}} \\frac{\\partial}{\\partial x}H_{{\\rm inner}_{{\\rm vacuum}_{f_{z}}}}\\left(x\\right)$"
      ],
      "text/plain": [
       "<IPython.core.display.Math object>"
      ]
     },
     "metadata": {},
     "output_type": "display_data"
    },
    {
     "name": "stdout",
     "output_type": "stream",
     "text": [
      "eq_2 =\n",
      "(k_z^2 - kappa_vacuum^2)*H_inner_vacuum_f_x(x) == -k_y*kappa_vacuum*E_inner_vacuum_z(x) - I*k_z*diff(H_inner_vacuum_f_z(x), x)\n"
     ]
    },
    {
     "data": {
      "text/latex": [
       "$\\displaystyle {\\left(k_{z}^{2} - \\kappa_{\\mathit{vacuum}}^{2}\\right)} H_{{\\rm inner}_{{\\rm vacuum}_{f_{x}}}}\\left(x\\right) = -k_{y} \\kappa_{\\mathit{vacuum}} E_{{\\rm inner}_{{\\rm vacuum}_{z}}}\\left(x\\right) - i \\, k_{z} \\frac{\\partial}{\\partial x}H_{{\\rm inner}_{{\\rm vacuum}_{f_{z}}}}\\left(x\\right)$"
      ],
      "text/plain": [
       "<IPython.core.display.Math object>"
      ]
     },
     "metadata": {},
     "output_type": "display_data"
    }
   ],
   "source": [
    "eq_rot_H_inner_vacuum_y_subs       = eq_rot_H_inner_vacuum_y.subs(omega==c*kappa_vacuum/sqrt(epsilon_0*mu_0))\n",
    "print (\"eq_rot_H_inner_vacuum_y rot H (E_y) =\")\n",
    "print(eq_rot_H_inner_vacuum_y)\n",
    "display(Math(latex(eq_rot_H_inner_vacuum_y)))\n",
    "\n",
    "eq_rot_H_inner_vacuum_y_subs_solve = solve(eq_rot_H_inner_vacuum_y_subs, E_inner_vacuum_y(x))[0] * kappa_vacuum\n",
    "print (\"eq_rot_H_inner_vacuum_y_subs_solve rot H (E_y) =\")\n",
    "print(eq_rot_H_inner_vacuum_y_subs_solve)\n",
    "display(Math(latex(eq_rot_H_inner_vacuum_y_subs_solve)))\n",
    "\n",
    "eq_rot_E_inner_vacuum_x = H_inner_vacuum_f_x(x) == H_inner_vacuum_s_x(x)\n",
    "eq_rot_E_inner_vacuum_x_subs = eq_rot_E_inner_vacuum_x.subs(omega==c*kappa_vacuum/sqrt(epsilon_0*mu_0)) * kappa_vacuum\n",
    "print (\"eq_rot_E_inner_vacuum_x_subs (x) rot E =\")\n",
    "print             (eq_rot_E_inner_vacuum_x_subs)\n",
    "display(Math(latex(eq_rot_E_inner_vacuum_x_subs)))\n",
    "\n",
    "eq_rot_H_inner_vacuum_y_subs_solve_m \\\n",
    "    =  eq_rot_H_inner_vacuum_y_subs_solve.lhs() \\\n",
    "    -  eq_rot_H_inner_vacuum_y_subs_solve.rhs().expand().operands()[0] \\\n",
    "    == eq_rot_H_inner_vacuum_y_subs_solve.rhs().expand().operands()[1]\n",
    "print (\"eq_rot_H_inner_vacuum_y_subs_solve_m =\")\n",
    "print             (eq_rot_H_inner_vacuum_y_subs_solve_m)\n",
    "display(Math(latex(eq_rot_H_inner_vacuum_y_subs_solve_m)))\n",
    "\n",
    "eq_rot_E_inner_vacuum_x_subs_m \\\n",
    "    =  eq_rot_E_inner_vacuum_x_subs.lhs() \\\n",
    "    -  eq_rot_E_inner_vacuum_x_subs.rhs().expand().operands()[0] \\\n",
    "    == eq_rot_E_inner_vacuum_x_subs.rhs().expand().operands()[1]\n",
    "print (\"eq_rot_E_inner_vacuum_x_subs_m =\")\n",
    "print             (eq_rot_E_inner_vacuum_x_subs_m)\n",
    "display(Math(latex(eq_rot_E_inner_vacuum_x_subs_m)))\n",
    "\n",
    "eq_1 = (eq_rot_H_inner_vacuum_y_subs_solve_m*kappa_vacuum - eq_rot_E_inner_vacuum_x_subs_m*k_z).full_simplify()\n",
    "print (\"eq_1 =\")\n",
    "print             (eq_1)\n",
    "display(Math(latex(eq_1)))\n",
    "\n",
    "eq_2 = (eq_rot_H_inner_vacuum_y_subs_solve_m*k_z - eq_rot_E_inner_vacuum_x_subs_m*kappa_vacuum).full_simplify()\n",
    "print (\"eq_2 =\")\n",
    "print             (eq_2)\n",
    "display(Math(latex(eq_2)))"
   ]
  },
  {
   "cell_type": "code",
   "execution_count": 37,
   "metadata": {},
   "outputs": [
    {
     "name": "stdout",
     "output_type": "stream",
     "text": [
      "eq_rot_H_bad_conductor_y rot_H = epsilon*d/dt(E_y) =\n",
      "I*k_z*H_bad_conductor_f_x(x) - diff(H_bad_conductor_f_z(x), x) == -I*epsilon*omega*E_bad_conductor_y(x)/c\n"
     ]
    },
    {
     "data": {
      "text/latex": [
       "$\\displaystyle i \\, k_{z} H_{{\\rm bad}_{{\\rm conductor}_{f_{x}}}}\\left(x\\right) - \\frac{\\partial}{\\partial x}H_{{\\rm bad}_{{\\rm conductor}_{f_{z}}}}\\left(x\\right) = -\\frac{i \\, \\epsilon \\omega E_{{\\rm bad}_{{\\rm conductor}_{y}}}\\left(x\\right)}{c}$"
      ],
      "text/plain": [
       "<IPython.core.display.Math object>"
      ]
     },
     "metadata": {},
     "output_type": "display_data"
    },
    {
     "name": "stdout",
     "output_type": "stream",
     "text": [
      "eq_rot_H_bad_conductor_y_subs_solve rot H = epsilon*d/dt(E_y) =\n",
      "kappa*E_bad_conductor_y(x) == -(sqrt(epsilon*mu)*k_z*H_bad_conductor_f_x(x) + I*sqrt(epsilon*mu)*diff(H_bad_conductor_f_z(x), x))/epsilon\n"
     ]
    },
    {
     "data": {
      "text/latex": [
       "$\\displaystyle \\kappa E_{{\\rm bad}_{{\\rm conductor}_{y}}}\\left(x\\right) = -\\frac{\\sqrt{\\epsilon \\mu} k_{z} H_{{\\rm bad}_{{\\rm conductor}_{f_{x}}}}\\left(x\\right) + i \\, \\sqrt{\\epsilon \\mu} \\frac{\\partial}{\\partial x}H_{{\\rm bad}_{{\\rm conductor}_{f_{z}}}}\\left(x\\right)}{\\epsilon}$"
      ],
      "text/plain": [
       "<IPython.core.display.Math object>"
      ]
     },
     "metadata": {},
     "output_type": "display_data"
    },
    {
     "name": "stdout",
     "output_type": "stream",
     "text": [
      "eq_rot_E_bad_conductor_x_subs (x) rot E =\n",
      "kappa*H_bad_conductor_f_x(x) == -I*sqrt(epsilon*mu)*(-I*k_z*E_bad_conductor_y(x) + I*k_y*E_bad_conductor_z(x))/mu\n"
     ]
    },
    {
     "data": {
      "text/latex": [
       "$\\displaystyle \\kappa H_{{\\rm bad}_{{\\rm conductor}_{f_{x}}}}\\left(x\\right) = -\\frac{i \\, \\sqrt{\\epsilon \\mu} {\\left(-i \\, k_{z} E_{{\\rm bad}_{{\\rm conductor}_{y}}}\\left(x\\right) + i \\, k_{y} E_{{\\rm bad}_{{\\rm conductor}_{z}}}\\left(x\\right)\\right)}}{\\mu}$"
      ],
      "text/plain": [
       "<IPython.core.display.Math object>"
      ]
     },
     "metadata": {},
     "output_type": "display_data"
    },
    {
     "name": "stdout",
     "output_type": "stream",
     "text": [
      "eq_rot_H_bad_conductor_y_subs_solve_m =\n",
      "kappa*E_bad_conductor_y(x) + k_z*sqrt(mu)*H_bad_conductor_f_x(x)/sqrt(epsilon) == -I*sqrt(mu)*diff(H_bad_conductor_f_z(x), x)/sqrt(epsilon)\n"
     ]
    },
    {
     "data": {
      "text/latex": [
       "$\\displaystyle \\kappa E_{{\\rm bad}_{{\\rm conductor}_{y}}}\\left(x\\right) + \\frac{k_{z} \\sqrt{\\mu} H_{{\\rm bad}_{{\\rm conductor}_{f_{x}}}}\\left(x\\right)}{\\sqrt{\\epsilon}} = -\\frac{i \\, \\sqrt{\\mu} \\frac{\\partial}{\\partial x}H_{{\\rm bad}_{{\\rm conductor}_{f_{z}}}}\\left(x\\right)}{\\sqrt{\\epsilon}}$"
      ],
      "text/plain": [
       "<IPython.core.display.Math object>"
      ]
     },
     "metadata": {},
     "output_type": "display_data"
    },
    {
     "name": "stdout",
     "output_type": "stream",
     "text": [
      "eq_rot_E_bad_conductor_x_subs_m =\n",
      "sqrt(epsilon)*k_z*E_bad_conductor_y(x)/sqrt(mu) + kappa*H_bad_conductor_f_x(x) == sqrt(epsilon)*k_y*E_bad_conductor_z(x)/sqrt(mu)\n"
     ]
    },
    {
     "data": {
      "text/latex": [
       "$\\displaystyle \\frac{\\sqrt{\\epsilon} k_{z} E_{{\\rm bad}_{{\\rm conductor}_{y}}}\\left(x\\right)}{\\sqrt{\\mu}} + \\kappa H_{{\\rm bad}_{{\\rm conductor}_{f_{x}}}}\\left(x\\right) = \\frac{\\sqrt{\\epsilon} k_{y} E_{{\\rm bad}_{{\\rm conductor}_{z}}}\\left(x\\right)}{\\sqrt{\\mu}}$"
      ],
      "text/plain": [
       "<IPython.core.display.Math object>"
      ]
     },
     "metadata": {},
     "output_type": "display_data"
    },
    {
     "name": "stdout",
     "output_type": "stream",
     "text": [
      "eq_3 =\n",
      "-(k_z^2 - kappa^2)*E_bad_conductor_y(x) == -(sqrt(epsilon)*k_y*k_z*E_bad_conductor_z(x) + I*kappa*sqrt(mu)*diff(H_bad_conductor_f_z(x), x))/sqrt(epsilon)\n"
     ]
    },
    {
     "data": {
      "text/latex": [
       "$\\displaystyle -{\\left(k_{z}^{2} - \\kappa^{2}\\right)} E_{{\\rm bad}_{{\\rm conductor}_{y}}}\\left(x\\right) = -\\frac{\\sqrt{\\epsilon} k_{y} k_{z} E_{{\\rm bad}_{{\\rm conductor}_{z}}}\\left(x\\right) + i \\, \\kappa \\sqrt{\\mu} \\frac{\\partial}{\\partial x}H_{{\\rm bad}_{{\\rm conductor}_{f_{z}}}}\\left(x\\right)}{\\sqrt{\\epsilon}}$"
      ],
      "text/plain": [
       "<IPython.core.display.Math object>"
      ]
     },
     "metadata": {},
     "output_type": "display_data"
    },
    {
     "name": "stdout",
     "output_type": "stream",
     "text": [
      "eq_4 =\n",
      "(k_z^2 - kappa^2)*sqrt(mu)*H_bad_conductor_f_x(x)/sqrt(epsilon) == -(sqrt(epsilon)*k_y*kappa*E_bad_conductor_z(x) + I*k_z*sqrt(mu)*diff(H_bad_conductor_f_z(x), x))/sqrt(epsilon)\n"
     ]
    },
    {
     "data": {
      "text/latex": [
       "$\\displaystyle \\frac{{\\left(k_{z}^{2} - \\kappa^{2}\\right)} \\sqrt{\\mu} H_{{\\rm bad}_{{\\rm conductor}_{f_{x}}}}\\left(x\\right)}{\\sqrt{\\epsilon}} = -\\frac{\\sqrt{\\epsilon} k_{y} \\kappa E_{{\\rm bad}_{{\\rm conductor}_{z}}}\\left(x\\right) + i \\, k_{z} \\sqrt{\\mu} \\frac{\\partial}{\\partial x}H_{{\\rm bad}_{{\\rm conductor}_{f_{z}}}}\\left(x\\right)}{\\sqrt{\\epsilon}}$"
      ],
      "text/plain": [
       "<IPython.core.display.Math object>"
      ]
     },
     "metadata": {},
     "output_type": "display_data"
    }
   ],
   "source": [
    "eq_rot_H_bad_conductor_y_subs       = eq_rot_H_bad_conductor_y.subs(omega==c*kappa/sqrt(epsilon*mu))\n",
    "print (\"eq_rot_H_bad_conductor_y rot_H = epsilon*d/dt(E_y) =\")\n",
    "print(eq_rot_H_bad_conductor_y)\n",
    "display(Math(latex(eq_rot_H_bad_conductor_y)))\n",
    "\n",
    "eq_rot_H_bad_conductor_y_subs_solve = solve(eq_rot_H_bad_conductor_y_subs, E_bad_conductor_y(x))[0] * kappa\n",
    "print (\"eq_rot_H_bad_conductor_y_subs_solve rot H = epsilon*d/dt(E_y) =\")\n",
    "print(eq_rot_H_bad_conductor_y_subs_solve)\n",
    "display(Math(latex(eq_rot_H_bad_conductor_y_subs_solve)))\n",
    "\n",
    "eq_rot_E_bad_conductor_x = H_bad_conductor_f_x(x) == H_bad_conductor_s_x(x)\n",
    "eq_rot_E_bad_conductor_x_subs = eq_rot_E_bad_conductor_x.subs(omega==c*kappa/sqrt(epsilon*mu)) * kappa\n",
    "print (\"eq_rot_E_bad_conductor_x_subs (x) rot E =\")\n",
    "print             (eq_rot_E_bad_conductor_x_subs)\n",
    "display(Math(latex(eq_rot_E_bad_conductor_x_subs)))\n",
    "\n",
    "eq_rot_H_bad_conductor_y_subs_solve_m \\\n",
    "    =  eq_rot_H_bad_conductor_y_subs_solve.lhs() \\\n",
    "    -  eq_rot_H_bad_conductor_y_subs_solve.rhs().expand().operands()[0] \\\n",
    "    == eq_rot_H_bad_conductor_y_subs_solve.rhs().expand().operands()[1]\n",
    "print (\"eq_rot_H_bad_conductor_y_subs_solve_m =\")\n",
    "print             (eq_rot_H_bad_conductor_y_subs_solve_m)\n",
    "display(Math(latex(eq_rot_H_bad_conductor_y_subs_solve_m)))\n",
    "\n",
    "eq_rot_E_bad_conductor_x_subs_m \\\n",
    "    =  eq_rot_E_bad_conductor_x_subs.lhs() \\\n",
    "    -  eq_rot_E_bad_conductor_x_subs.rhs().expand().operands()[0] \\\n",
    "    == eq_rot_E_bad_conductor_x_subs.rhs().expand().operands()[1]\n",
    "print (\"eq_rot_E_bad_conductor_x_subs_m =\")\n",
    "print             (eq_rot_E_bad_conductor_x_subs_m)\n",
    "display(Math(latex(eq_rot_E_bad_conductor_x_subs_m)))\n",
    "\n",
    "m3 = k_z*sqrt(mu)/sqrt(epsilon)\n",
    "m4 = sqrt(mu)*kappa/sqrt(epsilon)\n",
    "\n",
    "eq_3 = (eq_rot_H_bad_conductor_y_subs_solve_m*kappa - eq_rot_E_bad_conductor_x_subs_m * m3).full_simplify()\n",
    "print (\"eq_3 =\")\n",
    "print             (eq_3)\n",
    "display(Math(latex(eq_3)))\n",
    "\n",
    "eq_4 = (eq_rot_H_bad_conductor_y_subs_solve_m*k_z - eq_rot_E_bad_conductor_x_subs_m * m4).full_simplify()\n",
    "print (\"eq_4 =\")\n",
    "print             (eq_4)\n",
    "display(Math(latex(eq_4)))"
   ]
  },
  {
   "cell_type": "code",
   "execution_count": 38,
   "metadata": {},
   "outputs": [
    {
     "name": "stdout",
     "output_type": "stream",
     "text": [
      "eq_rot_H_inner_vacuum_y rot H (E_x) =\n",
      "-I*k_z*H_inner_vacuum_f_y(x) + I*k_y*H_inner_vacuum_f_z(x) == -I*omega*E_inner_vacuum_x(x)/c\n"
     ]
    },
    {
     "data": {
      "text/latex": [
       "$\\displaystyle -i \\, k_{z} H_{{\\rm inner}_{{\\rm vacuum}_{f_{y}}}}\\left(x\\right) + i \\, k_{y} H_{{\\rm inner}_{{\\rm vacuum}_{f_{z}}}}\\left(x\\right) = -\\frac{i \\, \\omega E_{{\\rm inner}_{{\\rm vacuum}_{x}}}\\left(x\\right)}{c}$"
      ],
      "text/plain": [
       "<IPython.core.display.Math object>"
      ]
     },
     "metadata": {},
     "output_type": "display_data"
    },
    {
     "name": "stdout",
     "output_type": "stream",
     "text": [
      "eq_rot_H_inner_vacuum_x_subs_solve rot H (E_x) =\n",
      "kappa_vacuum*E_inner_vacuum_x(x) == k_z*H_inner_vacuum_f_y(x) - k_y*H_inner_vacuum_f_z(x)\n"
     ]
    },
    {
     "data": {
      "text/latex": [
       "$\\displaystyle \\kappa_{\\mathit{vacuum}} E_{{\\rm inner}_{{\\rm vacuum}_{x}}}\\left(x\\right) = k_{z} H_{{\\rm inner}_{{\\rm vacuum}_{f_{y}}}}\\left(x\\right) - k_{y} H_{{\\rm inner}_{{\\rm vacuum}_{f_{z}}}}\\left(x\\right)$"
      ],
      "text/plain": [
       "<IPython.core.display.Math object>"
      ]
     },
     "metadata": {},
     "output_type": "display_data"
    },
    {
     "name": "stdout",
     "output_type": "stream",
     "text": [
      "eq_rot_E_inner_vacuum_y_subs (x) rot E =\n",
      "kappa_vacuum*H_inner_vacuum_f_y(x) == k_z*E_inner_vacuum_x(x) + I*diff(E_inner_vacuum_z(x), x)\n"
     ]
    },
    {
     "data": {
      "text/latex": [
       "$\\displaystyle \\kappa_{\\mathit{vacuum}} H_{{\\rm inner}_{{\\rm vacuum}_{f_{y}}}}\\left(x\\right) = k_{z} E_{{\\rm inner}_{{\\rm vacuum}_{x}}}\\left(x\\right) + i \\, \\frac{\\partial}{\\partial x}E_{{\\rm inner}_{{\\rm vacuum}_{z}}}\\left(x\\right)$"
      ],
      "text/plain": [
       "<IPython.core.display.Math object>"
      ]
     },
     "metadata": {},
     "output_type": "display_data"
    },
    {
     "name": "stdout",
     "output_type": "stream",
     "text": [
      "eq_rot_H_inner_vacuum_x_subs_solve_m =\n",
      "kappa_vacuum*E_inner_vacuum_x(x) - k_z*H_inner_vacuum_f_y(x) == -k_y*H_inner_vacuum_f_z(x)\n"
     ]
    },
    {
     "data": {
      "text/latex": [
       "$\\displaystyle \\kappa_{\\mathit{vacuum}} E_{{\\rm inner}_{{\\rm vacuum}_{x}}}\\left(x\\right) - k_{z} H_{{\\rm inner}_{{\\rm vacuum}_{f_{y}}}}\\left(x\\right) = -k_{y} H_{{\\rm inner}_{{\\rm vacuum}_{f_{z}}}}\\left(x\\right)$"
      ],
      "text/plain": [
       "<IPython.core.display.Math object>"
      ]
     },
     "metadata": {},
     "output_type": "display_data"
    },
    {
     "name": "stdout",
     "output_type": "stream",
     "text": [
      "eq_rot_E_inner_vacuum_y_subs_m =\n",
      "-k_z*E_inner_vacuum_x(x) + kappa_vacuum*H_inner_vacuum_f_y(x) == I*diff(E_inner_vacuum_z(x), x)\n"
     ]
    },
    {
     "data": {
      "text/latex": [
       "$\\displaystyle -k_{z} E_{{\\rm inner}_{{\\rm vacuum}_{x}}}\\left(x\\right) + \\kappa_{\\mathit{vacuum}} H_{{\\rm inner}_{{\\rm vacuum}_{f_{y}}}}\\left(x\\right) = i \\, \\frac{\\partial}{\\partial x}E_{{\\rm inner}_{{\\rm vacuum}_{z}}}\\left(x\\right)$"
      ],
      "text/plain": [
       "<IPython.core.display.Math object>"
      ]
     },
     "metadata": {},
     "output_type": "display_data"
    },
    {
     "name": "stdout",
     "output_type": "stream",
     "text": [
      "eq_5 =\n",
      "-(k_z^2 - kappa_vacuum^2)*E_inner_vacuum_x(x) == -k_y*kappa_vacuum*H_inner_vacuum_f_z(x) + I*k_z*diff(E_inner_vacuum_z(x), x)\n"
     ]
    },
    {
     "data": {
      "text/latex": [
       "$\\displaystyle -{\\left(k_{z}^{2} - \\kappa_{\\mathit{vacuum}}^{2}\\right)} E_{{\\rm inner}_{{\\rm vacuum}_{x}}}\\left(x\\right) = -k_{y} \\kappa_{\\mathit{vacuum}} H_{{\\rm inner}_{{\\rm vacuum}_{f_{z}}}}\\left(x\\right) + i \\, k_{z} \\frac{\\partial}{\\partial x}E_{{\\rm inner}_{{\\rm vacuum}_{z}}}\\left(x\\right)$"
      ],
      "text/plain": [
       "<IPython.core.display.Math object>"
      ]
     },
     "metadata": {},
     "output_type": "display_data"
    },
    {
     "name": "stdout",
     "output_type": "stream",
     "text": [
      "eq_6 =\n",
      "-(k_z^2 - kappa_vacuum^2)*H_inner_vacuum_f_y(x) == -k_y*k_z*H_inner_vacuum_f_z(x) + I*kappa_vacuum*diff(E_inner_vacuum_z(x), x)\n"
     ]
    },
    {
     "data": {
      "text/latex": [
       "$\\displaystyle -{\\left(k_{z}^{2} - \\kappa_{\\mathit{vacuum}}^{2}\\right)} H_{{\\rm inner}_{{\\rm vacuum}_{f_{y}}}}\\left(x\\right) = -k_{y} k_{z} H_{{\\rm inner}_{{\\rm vacuum}_{f_{z}}}}\\left(x\\right) + i \\, \\kappa_{\\mathit{vacuum}} \\frac{\\partial}{\\partial x}E_{{\\rm inner}_{{\\rm vacuum}_{z}}}\\left(x\\right)$"
      ],
      "text/plain": [
       "<IPython.core.display.Math object>"
      ]
     },
     "metadata": {},
     "output_type": "display_data"
    }
   ],
   "source": [
    "eq_rot_H_inner_vacuum_x_subs       = eq_rot_H_inner_vacuum_x.subs(omega==c*kappa_vacuum/sqrt(epsilon_0*mu_0))\n",
    "print (\"eq_rot_H_inner_vacuum_y rot H (E_x) =\")\n",
    "print(eq_rot_H_inner_vacuum_x)\n",
    "display(Math(latex(eq_rot_H_inner_vacuum_x)))\n",
    "\n",
    "eq_rot_H_inner_vacuum_x_subs_solve = solve(eq_rot_H_inner_vacuum_x_subs, E_inner_vacuum_x(x))[0] * kappa_vacuum\n",
    "print (\"eq_rot_H_inner_vacuum_x_subs_solve rot H (E_x) =\")\n",
    "print(eq_rot_H_inner_vacuum_x_subs_solve)\n",
    "display(Math(latex(eq_rot_H_inner_vacuum_x_subs_solve)))\n",
    "\n",
    "eq_rot_E_inner_vacuum_y = H_inner_vacuum_f_y(x) == H_inner_vacuum_s_y(x)\n",
    "eq_rot_E_inner_vacuum_y_subs = eq_rot_E_inner_vacuum_y.subs(omega==c*kappa_vacuum/sqrt(epsilon_0*mu_0)) * kappa_vacuum\n",
    "print (\"eq_rot_E_inner_vacuum_y_subs (x) rot E =\")\n",
    "print             (eq_rot_E_inner_vacuum_y_subs)\n",
    "display(Math(latex(eq_rot_E_inner_vacuum_y_subs)))\n",
    "\n",
    "eq_rot_H_inner_vacuum_x_subs_solve_m \\\n",
    "    =  eq_rot_H_inner_vacuum_x_subs_solve.lhs() \\\n",
    "    -  eq_rot_H_inner_vacuum_x_subs_solve.rhs().expand().operands()[0] \\\n",
    "    == eq_rot_H_inner_vacuum_x_subs_solve.rhs().expand().operands()[1]\n",
    "print (\"eq_rot_H_inner_vacuum_x_subs_solve_m =\")\n",
    "print             (eq_rot_H_inner_vacuum_x_subs_solve_m)\n",
    "display(Math(latex(eq_rot_H_inner_vacuum_x_subs_solve_m)))\n",
    "\n",
    "eq_rot_E_inner_vacuum_y_subs_m \\\n",
    "    =  eq_rot_E_inner_vacuum_y_subs.lhs() \\\n",
    "    -  eq_rot_E_inner_vacuum_y_subs.rhs().expand().operands()[0] \\\n",
    "    == eq_rot_E_inner_vacuum_y_subs.rhs().expand().operands()[1]\n",
    "print (\"eq_rot_E_inner_vacuum_y_subs_m =\")\n",
    "print             (eq_rot_E_inner_vacuum_y_subs_m)\n",
    "display(Math(latex(eq_rot_E_inner_vacuum_y_subs_m)))\n",
    "\n",
    "eq_5 = (eq_rot_H_inner_vacuum_x_subs_solve_m*kappa_vacuum + eq_rot_E_inner_vacuum_y_subs_m*k_z).full_simplify()\n",
    "print (\"eq_5 =\")\n",
    "print             (eq_5)\n",
    "display(Math(latex(eq_5)))\n",
    "\n",
    "eq_6 = (eq_rot_H_inner_vacuum_x_subs_solve_m*k_z + eq_rot_E_inner_vacuum_y_subs_m*kappa_vacuum).full_simplify()\n",
    "print (\"eq_6 =\")\n",
    "print             (eq_6)\n",
    "display(Math(latex(eq_6)))"
   ]
  },
  {
   "cell_type": "code",
   "execution_count": 39,
   "metadata": {},
   "outputs": [
    {
     "name": "stdout",
     "output_type": "stream",
     "text": [
      "eq_rot_H_bad_conductor_x rot_H = epsilon*d/dt(E_x) =\n",
      "-I*k_z*H_bad_conductor_f_y(x) + I*k_y*H_bad_conductor_f_z(x) == -I*epsilon*omega*E_bad_conductor_x(x)/c\n"
     ]
    },
    {
     "data": {
      "text/latex": [
       "$\\displaystyle -i \\, k_{z} H_{{\\rm bad}_{{\\rm conductor}_{f_{y}}}}\\left(x\\right) + i \\, k_{y} H_{{\\rm bad}_{{\\rm conductor}_{f_{z}}}}\\left(x\\right) = -\\frac{i \\, \\epsilon \\omega E_{{\\rm bad}_{{\\rm conductor}_{x}}}\\left(x\\right)}{c}$"
      ],
      "text/plain": [
       "<IPython.core.display.Math object>"
      ]
     },
     "metadata": {},
     "output_type": "display_data"
    },
    {
     "name": "stdout",
     "output_type": "stream",
     "text": [
      "eq_rot_H_bad_conductor_x_subs rot_H = epsilon*d/dt(E_x) =\n",
      "-I*k_z*H_bad_conductor_f_y(x) + I*k_y*H_bad_conductor_f_z(x) == -I*epsilon*kappa*E_bad_conductor_x(x)/sqrt(epsilon*mu)\n"
     ]
    },
    {
     "data": {
      "text/latex": [
       "$\\displaystyle -i \\, k_{z} H_{{\\rm bad}_{{\\rm conductor}_{f_{y}}}}\\left(x\\right) + i \\, k_{y} H_{{\\rm bad}_{{\\rm conductor}_{f_{z}}}}\\left(x\\right) = -\\frac{i \\, \\epsilon \\kappa E_{{\\rm bad}_{{\\rm conductor}_{x}}}\\left(x\\right)}{\\sqrt{\\epsilon \\mu}}$"
      ],
      "text/plain": [
       "<IPython.core.display.Math object>"
      ]
     },
     "metadata": {},
     "output_type": "display_data"
    },
    {
     "name": "stdout",
     "output_type": "stream",
     "text": [
      "eq_rot_H_bad_conductor_x_subs_solve rot H = epsilon*d/dt(E_x) =\n",
      "kappa*E_bad_conductor_x(x) == (sqrt(epsilon*mu)*k_z*H_bad_conductor_f_y(x) - sqrt(epsilon*mu)*k_y*H_bad_conductor_f_z(x))/epsilon\n"
     ]
    },
    {
     "data": {
      "text/latex": [
       "$\\displaystyle \\kappa E_{{\\rm bad}_{{\\rm conductor}_{x}}}\\left(x\\right) = \\frac{\\sqrt{\\epsilon \\mu} k_{z} H_{{\\rm bad}_{{\\rm conductor}_{f_{y}}}}\\left(x\\right) - \\sqrt{\\epsilon \\mu} k_{y} H_{{\\rm bad}_{{\\rm conductor}_{f_{z}}}}\\left(x\\right)}{\\epsilon}$"
      ],
      "text/plain": [
       "<IPython.core.display.Math object>"
      ]
     },
     "metadata": {},
     "output_type": "display_data"
    },
    {
     "name": "stdout",
     "output_type": "stream",
     "text": [
      "eq_rot_E_bad_conductor_y_subs (x) rot E =\n",
      "kappa*H_bad_conductor_f_y(x) == -I*sqrt(epsilon*mu)*(I*k_z*E_bad_conductor_x(x) - diff(E_bad_conductor_z(x), x))/mu\n"
     ]
    },
    {
     "data": {
      "text/latex": [
       "$\\displaystyle \\kappa H_{{\\rm bad}_{{\\rm conductor}_{f_{y}}}}\\left(x\\right) = -\\frac{i \\, \\sqrt{\\epsilon \\mu} {\\left(i \\, k_{z} E_{{\\rm bad}_{{\\rm conductor}_{x}}}\\left(x\\right) - \\frac{\\partial}{\\partial x}E_{{\\rm bad}_{{\\rm conductor}_{z}}}\\left(x\\right)\\right)}}{\\mu}$"
      ],
      "text/plain": [
       "<IPython.core.display.Math object>"
      ]
     },
     "metadata": {},
     "output_type": "display_data"
    },
    {
     "name": "stdout",
     "output_type": "stream",
     "text": [
      "eq_rot_H_bad_conductor_x_subs_solve_m =\n",
      "kappa*E_bad_conductor_x(x) - k_z*sqrt(mu)*H_bad_conductor_f_y(x)/sqrt(epsilon) == -k_y*sqrt(mu)*H_bad_conductor_f_z(x)/sqrt(epsilon)\n"
     ]
    },
    {
     "data": {
      "text/latex": [
       "$\\displaystyle \\kappa E_{{\\rm bad}_{{\\rm conductor}_{x}}}\\left(x\\right) - \\frac{k_{z} \\sqrt{\\mu} H_{{\\rm bad}_{{\\rm conductor}_{f_{y}}}}\\left(x\\right)}{\\sqrt{\\epsilon}} = -\\frac{k_{y} \\sqrt{\\mu} H_{{\\rm bad}_{{\\rm conductor}_{f_{z}}}}\\left(x\\right)}{\\sqrt{\\epsilon}}$"
      ],
      "text/plain": [
       "<IPython.core.display.Math object>"
      ]
     },
     "metadata": {},
     "output_type": "display_data"
    },
    {
     "name": "stdout",
     "output_type": "stream",
     "text": [
      "eq_rot_E_bad_conductor_y_subs_m =\n",
      "-sqrt(epsilon)*k_z*E_bad_conductor_x(x)/sqrt(mu) + kappa*H_bad_conductor_f_y(x) == I*sqrt(epsilon)*diff(E_bad_conductor_z(x), x)/sqrt(mu)\n"
     ]
    },
    {
     "data": {
      "text/latex": [
       "$\\displaystyle -\\frac{\\sqrt{\\epsilon} k_{z} E_{{\\rm bad}_{{\\rm conductor}_{x}}}\\left(x\\right)}{\\sqrt{\\mu}} + \\kappa H_{{\\rm bad}_{{\\rm conductor}_{f_{y}}}}\\left(x\\right) = \\frac{i \\, \\sqrt{\\epsilon} \\frac{\\partial}{\\partial x}E_{{\\rm bad}_{{\\rm conductor}_{z}}}\\left(x\\right)}{\\sqrt{\\mu}}$"
      ],
      "text/plain": [
       "<IPython.core.display.Math object>"
      ]
     },
     "metadata": {},
     "output_type": "display_data"
    },
    {
     "name": "stdout",
     "output_type": "stream",
     "text": [
      "eq_7 =\n",
      "-(k_z^2 - kappa^2)*E_bad_conductor_x(x) == -(k_y*kappa*sqrt(mu)*H_bad_conductor_f_z(x) - I*sqrt(epsilon)*k_z*diff(E_bad_conductor_z(x), x))/sqrt(epsilon)\n"
     ]
    },
    {
     "data": {
      "text/latex": [
       "$\\displaystyle -{\\left(k_{z}^{2} - \\kappa^{2}\\right)} E_{{\\rm bad}_{{\\rm conductor}_{x}}}\\left(x\\right) = -\\frac{k_{y} \\kappa \\sqrt{\\mu} H_{{\\rm bad}_{{\\rm conductor}_{f_{z}}}}\\left(x\\right) - i \\, \\sqrt{\\epsilon} k_{z} \\frac{\\partial}{\\partial x}E_{{\\rm bad}_{{\\rm conductor}_{z}}}\\left(x\\right)}{\\sqrt{\\epsilon}}$"
      ],
      "text/plain": [
       "<IPython.core.display.Math object>"
      ]
     },
     "metadata": {},
     "output_type": "display_data"
    },
    {
     "name": "stdout",
     "output_type": "stream",
     "text": [
      "eq_8 =\n",
      "-(k_z^2 - kappa^2)*sqrt(mu)*H_bad_conductor_f_y(x)/sqrt(epsilon) == -(k_y*k_z*sqrt(mu)*H_bad_conductor_f_z(x) - I*sqrt(epsilon)*kappa*diff(E_bad_conductor_z(x), x))/sqrt(epsilon)\n"
     ]
    },
    {
     "data": {
      "text/latex": [
       "$\\displaystyle -\\frac{{\\left(k_{z}^{2} - \\kappa^{2}\\right)} \\sqrt{\\mu} H_{{\\rm bad}_{{\\rm conductor}_{f_{y}}}}\\left(x\\right)}{\\sqrt{\\epsilon}} = -\\frac{k_{y} k_{z} \\sqrt{\\mu} H_{{\\rm bad}_{{\\rm conductor}_{f_{z}}}}\\left(x\\right) - i \\, \\sqrt{\\epsilon} \\kappa \\frac{\\partial}{\\partial x}E_{{\\rm bad}_{{\\rm conductor}_{z}}}\\left(x\\right)}{\\sqrt{\\epsilon}}$"
      ],
      "text/plain": [
       "<IPython.core.display.Math object>"
      ]
     },
     "metadata": {},
     "output_type": "display_data"
    }
   ],
   "source": [
    "eq_rot_H_bad_conductor_x_subs       = eq_rot_H_bad_conductor_x.subs(omega==c*kappa/sqrt(epsilon*mu))\n",
    "print (\"eq_rot_H_bad_conductor_x rot_H = epsilon*d/dt(E_x) =\")\n",
    "print(eq_rot_H_bad_conductor_x)\n",
    "display(Math(latex(eq_rot_H_bad_conductor_x)))\n",
    "\n",
    "print (\"eq_rot_H_bad_conductor_x_subs rot_H = epsilon*d/dt(E_x) =\")\n",
    "print(eq_rot_H_bad_conductor_x_subs)\n",
    "display(Math(latex(eq_rot_H_bad_conductor_x_subs)))\n",
    "\n",
    "\n",
    "eq_rot_H_bad_conductor_x_subs_solve = solve(eq_rot_H_bad_conductor_x_subs, E_bad_conductor_x(x))[0] * kappa\n",
    "print (\"eq_rot_H_bad_conductor_x_subs_solve rot H = epsilon*d/dt(E_x) =\")\n",
    "print(eq_rot_H_bad_conductor_x_subs_solve)\n",
    "display(Math(latex(eq_rot_H_bad_conductor_x_subs_solve)))\n",
    "\n",
    "eq_rot_E_bad_conductor_y = H_bad_conductor_f_y(x) == H_bad_conductor_s_y(x)\n",
    "eq_rot_E_bad_conductor_y_subs = eq_rot_E_bad_conductor_y.subs(omega==c*kappa/sqrt(epsilon*mu)) * kappa\n",
    "print (\"eq_rot_E_bad_conductor_y_subs (x) rot E =\")\n",
    "print             (eq_rot_E_bad_conductor_y_subs)\n",
    "display(Math(latex(eq_rot_E_bad_conductor_y_subs)))\n",
    "\n",
    "eq_rot_H_bad_conductor_x_subs_solve_m \\\n",
    "    =  eq_rot_H_bad_conductor_x_subs_solve.lhs() \\\n",
    "    -  eq_rot_H_bad_conductor_x_subs_solve.rhs().expand().operands()[0] \\\n",
    "    == eq_rot_H_bad_conductor_x_subs_solve.rhs().expand().operands()[1]\n",
    "print (\"eq_rot_H_bad_conductor_x_subs_solve_m =\")\n",
    "print             (eq_rot_H_bad_conductor_x_subs_solve_m)\n",
    "display(Math(latex(eq_rot_H_bad_conductor_x_subs_solve_m)))\n",
    "\n",
    "eq_rot_E_bad_conductor_y_subs_m \\\n",
    "    =  eq_rot_E_bad_conductor_y_subs.lhs() \\\n",
    "    -  eq_rot_E_bad_conductor_y_subs.rhs().expand().operands()[0] \\\n",
    "    == eq_rot_E_bad_conductor_y_subs.rhs().expand().operands()[1]\n",
    "print (\"eq_rot_E_bad_conductor_y_subs_m =\")\n",
    "print             (eq_rot_E_bad_conductor_y_subs_m)\n",
    "display(Math(latex(eq_rot_E_bad_conductor_y_subs_m)))\n",
    "\n",
    "m3 = k_z*sqrt(mu)/sqrt(epsilon)\n",
    "m4 = sqrt(mu)*kappa/sqrt(epsilon)\n",
    "\n",
    "eq_7 = (eq_rot_H_bad_conductor_x_subs_solve_m*kappa + eq_rot_E_bad_conductor_y_subs_m * m3).full_simplify()\n",
    "print (\"eq_7 =\")\n",
    "print             (eq_7)\n",
    "display(Math(latex(eq_7)))\n",
    "\n",
    "eq_8 = (eq_rot_H_bad_conductor_x_subs_solve_m*k_z + eq_rot_E_bad_conductor_y_subs_m * m4).full_simplify()\n",
    "print (\"eq_8 =\")\n",
    "print             (eq_8)\n",
    "display(Math(latex(eq_8)))"
   ]
  },
  {
   "cell_type": "code",
   "execution_count": 40,
   "metadata": {},
   "outputs": [
    {
     "name": "stdout",
     "output_type": "stream",
     "text": [
      "eq_1 =\n",
      "-(k_z^2 - kappa_vacuum^2)*E_inner_vacuum_y(x) == -k_y*k_z*E_inner_vacuum_z(x) - I*kappa_vacuum*diff(H_inner_vacuum_f_z(x), x)\n"
     ]
    },
    {
     "data": {
      "text/latex": [
       "$\\displaystyle -{\\left(k_{z}^{2} - \\kappa_{\\mathit{vacuum}}^{2}\\right)} E_{{\\rm inner}_{{\\rm vacuum}_{y}}}\\left(x\\right) = -k_{y} k_{z} E_{{\\rm inner}_{{\\rm vacuum}_{z}}}\\left(x\\right) - i \\, \\kappa_{\\mathit{vacuum}} \\frac{\\partial}{\\partial x}H_{{\\rm inner}_{{\\rm vacuum}_{f_{z}}}}\\left(x\\right)$"
      ],
      "text/plain": [
       "<IPython.core.display.Math object>"
      ]
     },
     "metadata": {},
     "output_type": "display_data"
    },
    {
     "name": "stdout",
     "output_type": "stream",
     "text": [
      "eq_2 =\n",
      "(k_z^2 - kappa_vacuum^2)*H_inner_vacuum_f_x(x) == -k_y*kappa_vacuum*E_inner_vacuum_z(x) - I*k_z*diff(H_inner_vacuum_f_z(x), x)\n"
     ]
    },
    {
     "data": {
      "text/latex": [
       "$\\displaystyle {\\left(k_{z}^{2} - \\kappa_{\\mathit{vacuum}}^{2}\\right)} H_{{\\rm inner}_{{\\rm vacuum}_{f_{x}}}}\\left(x\\right) = -k_{y} \\kappa_{\\mathit{vacuum}} E_{{\\rm inner}_{{\\rm vacuum}_{z}}}\\left(x\\right) - i \\, k_{z} \\frac{\\partial}{\\partial x}H_{{\\rm inner}_{{\\rm vacuum}_{f_{z}}}}\\left(x\\right)$"
      ],
      "text/plain": [
       "<IPython.core.display.Math object>"
      ]
     },
     "metadata": {},
     "output_type": "display_data"
    },
    {
     "name": "stdout",
     "output_type": "stream",
     "text": [
      "eq_3 =\n",
      "-(k_z^2 - kappa^2)*E_bad_conductor_y(x) == -(sqrt(epsilon)*k_y*k_z*E_bad_conductor_z(x) + I*kappa*sqrt(mu)*diff(H_bad_conductor_f_z(x), x))/sqrt(epsilon)\n"
     ]
    },
    {
     "data": {
      "text/latex": [
       "$\\displaystyle -{\\left(k_{z}^{2} - \\kappa^{2}\\right)} E_{{\\rm bad}_{{\\rm conductor}_{y}}}\\left(x\\right) = -\\frac{\\sqrt{\\epsilon} k_{y} k_{z} E_{{\\rm bad}_{{\\rm conductor}_{z}}}\\left(x\\right) + i \\, \\kappa \\sqrt{\\mu} \\frac{\\partial}{\\partial x}H_{{\\rm bad}_{{\\rm conductor}_{f_{z}}}}\\left(x\\right)}{\\sqrt{\\epsilon}}$"
      ],
      "text/plain": [
       "<IPython.core.display.Math object>"
      ]
     },
     "metadata": {},
     "output_type": "display_data"
    },
    {
     "name": "stdout",
     "output_type": "stream",
     "text": [
      "eq_4 =\n",
      "(k_z^2 - kappa^2)*sqrt(mu)*H_bad_conductor_f_x(x)/sqrt(epsilon) == -(sqrt(epsilon)*k_y*kappa*E_bad_conductor_z(x) + I*k_z*sqrt(mu)*diff(H_bad_conductor_f_z(x), x))/sqrt(epsilon)\n"
     ]
    },
    {
     "data": {
      "text/latex": [
       "$\\displaystyle \\frac{{\\left(k_{z}^{2} - \\kappa^{2}\\right)} \\sqrt{\\mu} H_{{\\rm bad}_{{\\rm conductor}_{f_{x}}}}\\left(x\\right)}{\\sqrt{\\epsilon}} = -\\frac{\\sqrt{\\epsilon} k_{y} \\kappa E_{{\\rm bad}_{{\\rm conductor}_{z}}}\\left(x\\right) + i \\, k_{z} \\sqrt{\\mu} \\frac{\\partial}{\\partial x}H_{{\\rm bad}_{{\\rm conductor}_{f_{z}}}}\\left(x\\right)}{\\sqrt{\\epsilon}}$"
      ],
      "text/plain": [
       "<IPython.core.display.Math object>"
      ]
     },
     "metadata": {},
     "output_type": "display_data"
    }
   ],
   "source": [
    "print (\"eq_1 =\")\n",
    "print             (eq_1)\n",
    "display(Math(latex(eq_1)))\n",
    "\n",
    "print (\"eq_2 =\")\n",
    "print             (eq_2)\n",
    "display(Math(latex(eq_2)))\n",
    "\n",
    "print (\"eq_3 =\")\n",
    "print             (eq_3)\n",
    "display(Math(latex(eq_3)))\n",
    "\n",
    "print (\"eq_4 =\")\n",
    "print             (eq_4)\n",
    "display(Math(latex(eq_4)))"
   ]
  },
  {
   "cell_type": "code",
   "execution_count": 41,
   "metadata": {},
   "outputs": [
    {
     "name": "stdout",
     "output_type": "stream",
     "text": [
      "eq_1 =\n",
      "-(k_z^2 - kappa_vacuum^2)*E_inner_vacuum_y(x) == -k_y*k_z*E_inner_vacuum_z(x) - I*kappa_vacuum*diff(H_inner_vacuum_f_z(x), x)\n"
     ]
    },
    {
     "data": {
      "text/latex": [
       "$\\displaystyle -{\\left(k_{z}^{2} - \\kappa_{\\mathit{vacuum}}^{2}\\right)} E_{{\\rm inner}_{{\\rm vacuum}_{y}}}\\left(x\\right) = -k_{y} k_{z} E_{{\\rm inner}_{{\\rm vacuum}_{z}}}\\left(x\\right) - i \\, \\kappa_{\\mathit{vacuum}} \\frac{\\partial}{\\partial x}H_{{\\rm inner}_{{\\rm vacuum}_{f_{z}}}}\\left(x\\right)$"
      ],
      "text/plain": [
       "<IPython.core.display.Math object>"
      ]
     },
     "metadata": {},
     "output_type": "display_data"
    }
   ],
   "source": [
    "print (\"eq_1 =\")\n",
    "print             (eq_1)\n",
    "display(Math(latex(eq_1)))"
   ]
  },
  {
   "cell_type": "code",
   "execution_count": 42,
   "metadata": {
    "scrolled": true
   },
   "outputs": [
    {
     "name": "stdout",
     "output_type": "stream",
     "text": [
      "-(k_z^2 - kappa_vacuum^2)*E_inner_vacuum_y(x) == -I*kappa_vacuum*diff(H_inner_vacuum_f_z(x), x)\n"
     ]
    },
    {
     "data": {
      "text/latex": [
       "$\\displaystyle -{\\left(k_{z}^{2} - \\kappa_{\\mathit{vacuum}}^{2}\\right)} E_{{\\rm inner}_{{\\rm vacuum}_{y}}}\\left(x\\right) = -i \\, \\kappa_{\\mathit{vacuum}} \\frac{\\partial}{\\partial x}H_{{\\rm inner}_{{\\rm vacuum}_{f_{z}}}}\\left(x\\right)$"
      ],
      "text/plain": [
       "<IPython.core.display.Math object>"
      ]
     },
     "metadata": {},
     "output_type": "display_data"
    }
   ],
   "source": [
    "eq_1_subs1 = eq_1.subs(k_y == 0)\n",
    "print             (eq_1_subs1)\n",
    "display(Math(latex(eq_1_subs1)))"
   ]
  },
  {
   "cell_type": "code",
   "execution_count": 43,
   "metadata": {
    "scrolled": true
   },
   "outputs": [
    {
     "name": "stdout",
     "output_type": "stream",
     "text": [
      "E_inner_vacuum_y(x) == I*kappa_vacuum*diff(H_inner_vacuum_f_z(x), x)/(k_z^2 - kappa_vacuum^2)\n"
     ]
    },
    {
     "data": {
      "text/latex": [
       "$\\displaystyle E_{{\\rm inner}_{{\\rm vacuum}_{y}}}\\left(x\\right) = \\frac{i \\, \\kappa_{\\mathit{vacuum}} \\frac{\\partial}{\\partial x}H_{{\\rm inner}_{{\\rm vacuum}_{f_{z}}}}\\left(x\\right)}{k_{z}^{2} - \\kappa_{\\mathit{vacuum}}^{2}}$"
      ],
      "text/plain": [
       "<IPython.core.display.Math object>"
      ]
     },
     "metadata": {},
     "output_type": "display_data"
    }
   ],
   "source": [
    "eq_1_subs2 = (eq_1_subs1/(kappa_vacuum^2 - k_z^2)).full_simplify()\n",
    "print             (eq_1_subs2)\n",
    "display(Math(latex(eq_1_subs2)))"
   ]
  },
  {
   "cell_type": "code",
   "execution_count": 44,
   "metadata": {
    "scrolled": true
   },
   "outputs": [
    {
     "name": "stdout",
     "output_type": "stream",
     "text": [
      "E_inner_vacuum_y(x) == -(A2_y*K_vacuum^2*e^(I*K_vacuum*x) + A1_y*K_vacuum^2*e^(-I*K_vacuum*x) + I*(I*A2_x*K_vacuum*e^(I*K_vacuum*x) - I*A1_x*K_vacuum*e^(-I*K_vacuum*x))*k_y)*c*kappa_vacuum/((k_z^2 - kappa_vacuum^2)*omega)\n"
     ]
    },
    {
     "data": {
      "text/latex": [
       "$\\displaystyle E_{{\\rm inner}_{{\\rm vacuum}_{y}}}\\left(x\\right) = -\\frac{{\\left(\\mathit{A2}_{y} K_{\\mathit{vacuum}}^{2} e^{\\left(i \\, K_{\\mathit{vacuum}} x\\right)} + \\mathit{A1}_{y} K_{\\mathit{vacuum}}^{2} e^{\\left(-i \\, K_{\\mathit{vacuum}} x\\right)} + i \\, {\\left(i \\, \\mathit{A2}_{x} K_{\\mathit{vacuum}} e^{\\left(i \\, K_{\\mathit{vacuum}} x\\right)} - i \\, \\mathit{A1}_{x} K_{\\mathit{vacuum}} e^{\\left(-i \\, K_{\\mathit{vacuum}} x\\right)}\\right)} k_{y}\\right)} c \\kappa_{\\mathit{vacuum}}}{{\\left(k_{z}^{2} - \\kappa_{\\mathit{vacuum}}^{2}\\right)} \\omega}$"
      ],
      "text/plain": [
       "<IPython.core.display.Math object>"
      ]
     },
     "metadata": {},
     "output_type": "display_data"
    }
   ],
   "source": [
    "eq_1_subs3 = eq_1_subs2.substitute_function(H_inner_vacuum_f_z, H_inner_vacuum_sol_z)\n",
    "print             (eq_1_subs3)\n",
    "display(Math(latex(eq_1_subs3)))"
   ]
  },
  {
   "cell_type": "code",
   "execution_count": 45,
   "metadata": {},
   "outputs": [
    {
     "name": "stdout",
     "output_type": "stream",
     "text": [
      "E_inner_vacuum_y(x) == -(A2_y*K_vacuum^2*e^(I*K_vacuum*x) + A1_y*K_vacuum^2*e^(-I*K_vacuum*x) + I*(I*A2_x*K_vacuum*e^(I*K_vacuum*x) - I*A1_x*K_vacuum*e^(-I*K_vacuum*x))*k_y)/(k_z^2 - kappa_vacuum^2)\n"
     ]
    },
    {
     "data": {
      "text/latex": [
       "$\\displaystyle E_{{\\rm inner}_{{\\rm vacuum}_{y}}}\\left(x\\right) = -\\frac{\\mathit{A2}_{y} K_{\\mathit{vacuum}}^{2} e^{\\left(i \\, K_{\\mathit{vacuum}} x\\right)} + \\mathit{A1}_{y} K_{\\mathit{vacuum}}^{2} e^{\\left(-i \\, K_{\\mathit{vacuum}} x\\right)} + i \\, {\\left(i \\, \\mathit{A2}_{x} K_{\\mathit{vacuum}} e^{\\left(i \\, K_{\\mathit{vacuum}} x\\right)} - i \\, \\mathit{A1}_{x} K_{\\mathit{vacuum}} e^{\\left(-i \\, K_{\\mathit{vacuum}} x\\right)}\\right)} k_{y}}{k_{z}^{2} - \\kappa_{\\mathit{vacuum}}^{2}}$"
      ],
      "text/plain": [
       "<IPython.core.display.Math object>"
      ]
     },
     "metadata": {},
     "output_type": "display_data"
    }
   ],
   "source": [
    "eq_1_subs4 = eq_1_subs3.subs(omega==c*kappa_vacuum/sqrt(epsilon_0*mu_0))\n",
    "print             (eq_1_subs4)\n",
    "display(Math(latex(eq_1_subs4)))"
   ]
  },
  {
   "cell_type": "code",
   "execution_count": null,
   "metadata": {},
   "outputs": [],
   "source": []
  },
  {
   "cell_type": "code",
   "execution_count": 46,
   "metadata": {},
   "outputs": [
    {
     "name": "stdout",
     "output_type": "stream",
     "text": [
      "eq_2 =\n",
      "(k_z^2 - kappa_vacuum^2)*H_inner_vacuum_f_x(x) == -k_y*kappa_vacuum*E_inner_vacuum_z(x) - I*k_z*diff(H_inner_vacuum_f_z(x), x)\n"
     ]
    },
    {
     "data": {
      "text/latex": [
       "$\\displaystyle {\\left(k_{z}^{2} - \\kappa_{\\mathit{vacuum}}^{2}\\right)} H_{{\\rm inner}_{{\\rm vacuum}_{f_{x}}}}\\left(x\\right) = -k_{y} \\kappa_{\\mathit{vacuum}} E_{{\\rm inner}_{{\\rm vacuum}_{z}}}\\left(x\\right) - i \\, k_{z} \\frac{\\partial}{\\partial x}H_{{\\rm inner}_{{\\rm vacuum}_{f_{z}}}}\\left(x\\right)$"
      ],
      "text/plain": [
       "<IPython.core.display.Math object>"
      ]
     },
     "metadata": {},
     "output_type": "display_data"
    }
   ],
   "source": [
    "print (\"eq_2 =\")\n",
    "print             (eq_2)\n",
    "display(Math(latex(eq_2)))"
   ]
  },
  {
   "cell_type": "code",
   "execution_count": 47,
   "metadata": {
    "scrolled": true
   },
   "outputs": [
    {
     "name": "stdout",
     "output_type": "stream",
     "text": [
      "(k_z^2 - kappa_vacuum^2)*H_inner_vacuum_f_x(x) == -I*k_z*diff(H_inner_vacuum_f_z(x), x)\n"
     ]
    },
    {
     "data": {
      "text/latex": [
       "$\\displaystyle {\\left(k_{z}^{2} - \\kappa_{\\mathit{vacuum}}^{2}\\right)} H_{{\\rm inner}_{{\\rm vacuum}_{f_{x}}}}\\left(x\\right) = -i \\, k_{z} \\frac{\\partial}{\\partial x}H_{{\\rm inner}_{{\\rm vacuum}_{f_{z}}}}\\left(x\\right)$"
      ],
      "text/plain": [
       "<IPython.core.display.Math object>"
      ]
     },
     "metadata": {},
     "output_type": "display_data"
    }
   ],
   "source": [
    "eq_2_subs1 = eq_2.subs(k_y == 0)\n",
    "print             (eq_2_subs1)\n",
    "display(Math(latex(eq_2_subs1)))"
   ]
  },
  {
   "cell_type": "code",
   "execution_count": 48,
   "metadata": {
    "scrolled": true
   },
   "outputs": [
    {
     "name": "stdout",
     "output_type": "stream",
     "text": [
      "-H_inner_vacuum_f_x(x) == I*k_z*diff(H_inner_vacuum_f_z(x), x)/(k_z^2 - kappa_vacuum^2)\n"
     ]
    },
    {
     "data": {
      "text/latex": [
       "$\\displaystyle -H_{{\\rm inner}_{{\\rm vacuum}_{f_{x}}}}\\left(x\\right) = \\frac{i \\, k_{z} \\frac{\\partial}{\\partial x}H_{{\\rm inner}_{{\\rm vacuum}_{f_{z}}}}\\left(x\\right)}{k_{z}^{2} - \\kappa_{\\mathit{vacuum}}^{2}}$"
      ],
      "text/plain": [
       "<IPython.core.display.Math object>"
      ]
     },
     "metadata": {},
     "output_type": "display_data"
    }
   ],
   "source": [
    "eq_2_subs2 = (eq_2_subs1/(kappa_vacuum^2 - k_z^2)).full_simplify()\n",
    "print             (eq_2_subs2)\n",
    "display(Math(latex(eq_2_subs2)))"
   ]
  },
  {
   "cell_type": "code",
   "execution_count": 49,
   "metadata": {
    "scrolled": true
   },
   "outputs": [
    {
     "name": "stdout",
     "output_type": "stream",
     "text": [
      "-H_inner_vacuum_f_x(x) == -(A2_y*K_vacuum^2*e^(I*K_vacuum*x) + A1_y*K_vacuum^2*e^(-I*K_vacuum*x) + I*(I*A2_x*K_vacuum*e^(I*K_vacuum*x) - I*A1_x*K_vacuum*e^(-I*K_vacuum*x))*k_y)*c*k_z/((k_z^2 - kappa_vacuum^2)*omega)\n"
     ]
    },
    {
     "data": {
      "text/latex": [
       "$\\displaystyle -H_{{\\rm inner}_{{\\rm vacuum}_{f_{x}}}}\\left(x\\right) = -\\frac{{\\left(\\mathit{A2}_{y} K_{\\mathit{vacuum}}^{2} e^{\\left(i \\, K_{\\mathit{vacuum}} x\\right)} + \\mathit{A1}_{y} K_{\\mathit{vacuum}}^{2} e^{\\left(-i \\, K_{\\mathit{vacuum}} x\\right)} + i \\, {\\left(i \\, \\mathit{A2}_{x} K_{\\mathit{vacuum}} e^{\\left(i \\, K_{\\mathit{vacuum}} x\\right)} - i \\, \\mathit{A1}_{x} K_{\\mathit{vacuum}} e^{\\left(-i \\, K_{\\mathit{vacuum}} x\\right)}\\right)} k_{y}\\right)} c k_{z}}{{\\left(k_{z}^{2} - \\kappa_{\\mathit{vacuum}}^{2}\\right)} \\omega}$"
      ],
      "text/plain": [
       "<IPython.core.display.Math object>"
      ]
     },
     "metadata": {},
     "output_type": "display_data"
    }
   ],
   "source": [
    "eq_2_subs3 = eq_2_subs2.substitute_function(H_inner_vacuum_f_z, H_inner_vacuum_sol_z)\n",
    "print             (eq_2_subs3)\n",
    "display(Math(latex(eq_2_subs3)))"
   ]
  },
  {
   "cell_type": "code",
   "execution_count": 50,
   "metadata": {},
   "outputs": [
    {
     "name": "stdout",
     "output_type": "stream",
     "text": [
      "-H_inner_vacuum_f_x(x) == -(A2_y*K_vacuum^2*e^(I*K_vacuum*x) + A1_y*K_vacuum^2*e^(-I*K_vacuum*x) + I*(I*A2_x*K_vacuum*e^(I*K_vacuum*x) - I*A1_x*K_vacuum*e^(-I*K_vacuum*x))*k_y)*k_z/((k_z^2 - kappa_vacuum^2)*kappa_vacuum)\n"
     ]
    },
    {
     "data": {
      "text/latex": [
       "$\\displaystyle -H_{{\\rm inner}_{{\\rm vacuum}_{f_{x}}}}\\left(x\\right) = -\\frac{{\\left(\\mathit{A2}_{y} K_{\\mathit{vacuum}}^{2} e^{\\left(i \\, K_{\\mathit{vacuum}} x\\right)} + \\mathit{A1}_{y} K_{\\mathit{vacuum}}^{2} e^{\\left(-i \\, K_{\\mathit{vacuum}} x\\right)} + i \\, {\\left(i \\, \\mathit{A2}_{x} K_{\\mathit{vacuum}} e^{\\left(i \\, K_{\\mathit{vacuum}} x\\right)} - i \\, \\mathit{A1}_{x} K_{\\mathit{vacuum}} e^{\\left(-i \\, K_{\\mathit{vacuum}} x\\right)}\\right)} k_{y}\\right)} k_{z}}{{\\left(k_{z}^{2} - \\kappa_{\\mathit{vacuum}}^{2}\\right)} \\kappa_{\\mathit{vacuum}}}$"
      ],
      "text/plain": [
       "<IPython.core.display.Math object>"
      ]
     },
     "metadata": {},
     "output_type": "display_data"
    }
   ],
   "source": [
    "eq_2_subs4 = eq_2_subs3.subs(omega==c*kappa_vacuum/sqrt(epsilon_0*mu_0))\n",
    "print             (eq_2_subs4)\n",
    "display(Math(latex(eq_2_subs4)))"
   ]
  },
  {
   "cell_type": "code",
   "execution_count": null,
   "metadata": {},
   "outputs": [],
   "source": []
  },
  {
   "cell_type": "code",
   "execution_count": 51,
   "metadata": {},
   "outputs": [
    {
     "name": "stdout",
     "output_type": "stream",
     "text": [
      "eq_3 =\n",
      "-(k_z^2 - kappa^2)*E_bad_conductor_y(x) == -(sqrt(epsilon)*k_y*k_z*E_bad_conductor_z(x) + I*kappa*sqrt(mu)*diff(H_bad_conductor_f_z(x), x))/sqrt(epsilon)\n"
     ]
    },
    {
     "data": {
      "text/latex": [
       "$\\displaystyle -{\\left(k_{z}^{2} - \\kappa^{2}\\right)} E_{{\\rm bad}_{{\\rm conductor}_{y}}}\\left(x\\right) = -\\frac{\\sqrt{\\epsilon} k_{y} k_{z} E_{{\\rm bad}_{{\\rm conductor}_{z}}}\\left(x\\right) + i \\, \\kappa \\sqrt{\\mu} \\frac{\\partial}{\\partial x}H_{{\\rm bad}_{{\\rm conductor}_{f_{z}}}}\\left(x\\right)}{\\sqrt{\\epsilon}}$"
      ],
      "text/plain": [
       "<IPython.core.display.Math object>"
      ]
     },
     "metadata": {},
     "output_type": "display_data"
    }
   ],
   "source": [
    "print (\"eq_3 =\")\n",
    "print             (eq_3)\n",
    "display(Math(latex(eq_3)))"
   ]
  },
  {
   "cell_type": "code",
   "execution_count": 52,
   "metadata": {
    "scrolled": true
   },
   "outputs": [
    {
     "name": "stdout",
     "output_type": "stream",
     "text": [
      "-(k_z^2 - kappa^2)*E_bad_conductor_y(x) == -I*kappa*sqrt(mu)*diff(H_bad_conductor_f_z(x), x)/sqrt(epsilon)\n"
     ]
    },
    {
     "data": {
      "text/latex": [
       "$\\displaystyle -{\\left(k_{z}^{2} - \\kappa^{2}\\right)} E_{{\\rm bad}_{{\\rm conductor}_{y}}}\\left(x\\right) = -\\frac{i \\, \\kappa \\sqrt{\\mu} \\frac{\\partial}{\\partial x}H_{{\\rm bad}_{{\\rm conductor}_{f_{z}}}}\\left(x\\right)}{\\sqrt{\\epsilon}}$"
      ],
      "text/plain": [
       "<IPython.core.display.Math object>"
      ]
     },
     "metadata": {},
     "output_type": "display_data"
    }
   ],
   "source": [
    "eq_3_subs1 = eq_3.subs(k_y == 0)\n",
    "print             (eq_3_subs1)\n",
    "display(Math(latex(eq_3_subs1)))"
   ]
  },
  {
   "cell_type": "code",
   "execution_count": 53,
   "metadata": {
    "scrolled": true
   },
   "outputs": [
    {
     "name": "stdout",
     "output_type": "stream",
     "text": [
      "E_bad_conductor_y(x) == I*kappa*sqrt(mu)*diff(H_bad_conductor_f_z(x), x)/((k_z^2 - kappa^2)*sqrt(epsilon))\n"
     ]
    },
    {
     "data": {
      "text/latex": [
       "$\\displaystyle E_{{\\rm bad}_{{\\rm conductor}_{y}}}\\left(x\\right) = \\frac{i \\, \\kappa \\sqrt{\\mu} \\frac{\\partial}{\\partial x}H_{{\\rm bad}_{{\\rm conductor}_{f_{z}}}}\\left(x\\right)}{{\\left(k_{z}^{2} - \\kappa^{2}\\right)} \\sqrt{\\epsilon}}$"
      ],
      "text/plain": [
       "<IPython.core.display.Math object>"
      ]
     },
     "metadata": {},
     "output_type": "display_data"
    }
   ],
   "source": [
    "eq_3_subs2 = (eq_3_subs1/(kappa^2 - k_z^2)).full_simplify()\n",
    "print             (eq_3_subs2)\n",
    "display(Math(latex(eq_3_subs2)))"
   ]
  },
  {
   "cell_type": "code",
   "execution_count": 54,
   "metadata": {
    "scrolled": true
   },
   "outputs": [
    {
     "name": "stdout",
     "output_type": "stream",
     "text": [
      "E_bad_conductor_y(x) == -(B1_y*K_conductor^2*e^(I*K_conductor*x) - B1_x*K_conductor*k_y*e^(I*K_conductor*x))*c*kappa/((k_z^2 - kappa^2)*sqrt(epsilon)*sqrt(mu)*omega)\n"
     ]
    },
    {
     "data": {
      "text/latex": [
       "$\\displaystyle E_{{\\rm bad}_{{\\rm conductor}_{y}}}\\left(x\\right) = -\\frac{{\\left(\\mathit{B1}_{y} K_{\\mathit{conductor}}^{2} e^{\\left(i \\, K_{\\mathit{conductor}} x\\right)} - \\mathit{B1}_{x} K_{\\mathit{conductor}} k_{y} e^{\\left(i \\, K_{\\mathit{conductor}} x\\right)}\\right)} c \\kappa}{{\\left(k_{z}^{2} - \\kappa^{2}\\right)} \\sqrt{\\epsilon} \\sqrt{\\mu} \\omega}$"
      ],
      "text/plain": [
       "<IPython.core.display.Math object>"
      ]
     },
     "metadata": {},
     "output_type": "display_data"
    }
   ],
   "source": [
    "eq_3_subs3 = eq_3_subs2.substitute_function(H_bad_conductor_f_z, H_bad_conductor_sol_z)\n",
    "print             (eq_3_subs3)\n",
    "display(Math(latex(eq_3_subs3)))"
   ]
  },
  {
   "cell_type": "code",
   "execution_count": 55,
   "metadata": {},
   "outputs": [
    {
     "name": "stdout",
     "output_type": "stream",
     "text": [
      "E_bad_conductor_y(x) == -(B1_y*K_conductor^2*e^(I*K_conductor*x) - B1_x*K_conductor*k_y*e^(I*K_conductor*x))*sqrt(epsilon*mu)/((k_z^2 - kappa^2)*sqrt(epsilon)*sqrt(mu))\n"
     ]
    },
    {
     "data": {
      "text/latex": [
       "$\\displaystyle E_{{\\rm bad}_{{\\rm conductor}_{y}}}\\left(x\\right) = -\\frac{{\\left(\\mathit{B1}_{y} K_{\\mathit{conductor}}^{2} e^{\\left(i \\, K_{\\mathit{conductor}} x\\right)} - \\mathit{B1}_{x} K_{\\mathit{conductor}} k_{y} e^{\\left(i \\, K_{\\mathit{conductor}} x\\right)}\\right)} \\sqrt{\\epsilon \\mu}}{{\\left(k_{z}^{2} - \\kappa^{2}\\right)} \\sqrt{\\epsilon} \\sqrt{\\mu}}$"
      ],
      "text/plain": [
       "<IPython.core.display.Math object>"
      ]
     },
     "metadata": {},
     "output_type": "display_data"
    }
   ],
   "source": [
    "eq_3_subs4 = eq_3_subs3.subs(omega==c*kappa/sqrt(epsilon*mu))\n",
    "print             (eq_3_subs4)\n",
    "display(Math(latex(eq_3_subs4)))"
   ]
  },
  {
   "cell_type": "code",
   "execution_count": null,
   "metadata": {},
   "outputs": [],
   "source": []
  },
  {
   "cell_type": "code",
   "execution_count": 56,
   "metadata": {},
   "outputs": [
    {
     "name": "stdout",
     "output_type": "stream",
     "text": [
      "eq_4 =\n",
      "(k_z^2 - kappa^2)*sqrt(mu)*H_bad_conductor_f_x(x)/sqrt(epsilon) == -(sqrt(epsilon)*k_y*kappa*E_bad_conductor_z(x) + I*k_z*sqrt(mu)*diff(H_bad_conductor_f_z(x), x))/sqrt(epsilon)\n"
     ]
    },
    {
     "data": {
      "text/latex": [
       "$\\displaystyle \\frac{{\\left(k_{z}^{2} - \\kappa^{2}\\right)} \\sqrt{\\mu} H_{{\\rm bad}_{{\\rm conductor}_{f_{x}}}}\\left(x\\right)}{\\sqrt{\\epsilon}} = -\\frac{\\sqrt{\\epsilon} k_{y} \\kappa E_{{\\rm bad}_{{\\rm conductor}_{z}}}\\left(x\\right) + i \\, k_{z} \\sqrt{\\mu} \\frac{\\partial}{\\partial x}H_{{\\rm bad}_{{\\rm conductor}_{f_{z}}}}\\left(x\\right)}{\\sqrt{\\epsilon}}$"
      ],
      "text/plain": [
       "<IPython.core.display.Math object>"
      ]
     },
     "metadata": {},
     "output_type": "display_data"
    }
   ],
   "source": [
    "print (\"eq_4 =\")\n",
    "print             (eq_4)\n",
    "display(Math(latex(eq_4)))"
   ]
  },
  {
   "cell_type": "code",
   "execution_count": 57,
   "metadata": {
    "scrolled": true
   },
   "outputs": [
    {
     "name": "stdout",
     "output_type": "stream",
     "text": [
      "(k_z^2 - kappa^2)*sqrt(mu)*H_bad_conductor_f_x(x)/sqrt(epsilon) == -I*k_z*sqrt(mu)*diff(H_bad_conductor_f_z(x), x)/sqrt(epsilon)\n"
     ]
    },
    {
     "data": {
      "text/latex": [
       "$\\displaystyle \\frac{{\\left(k_{z}^{2} - \\kappa^{2}\\right)} \\sqrt{\\mu} H_{{\\rm bad}_{{\\rm conductor}_{f_{x}}}}\\left(x\\right)}{\\sqrt{\\epsilon}} = -\\frac{i \\, k_{z} \\sqrt{\\mu} \\frac{\\partial}{\\partial x}H_{{\\rm bad}_{{\\rm conductor}_{f_{z}}}}\\left(x\\right)}{\\sqrt{\\epsilon}}$"
      ],
      "text/plain": [
       "<IPython.core.display.Math object>"
      ]
     },
     "metadata": {},
     "output_type": "display_data"
    }
   ],
   "source": [
    "eq_4_subs1 = eq_4.subs(k_y == 0)\n",
    "print             (eq_4_subs1)\n",
    "display(Math(latex(eq_4_subs1)))"
   ]
  },
  {
   "cell_type": "code",
   "execution_count": 58,
   "metadata": {
    "scrolled": true
   },
   "outputs": [
    {
     "name": "stdout",
     "output_type": "stream",
     "text": [
      "-sqrt(mu)*H_bad_conductor_f_x(x)/sqrt(epsilon) == I*k_z*sqrt(mu)*diff(H_bad_conductor_f_z(x), x)/((k_z^2 - kappa^2)*sqrt(epsilon))\n"
     ]
    },
    {
     "data": {
      "text/latex": [
       "$\\displaystyle -\\frac{\\sqrt{\\mu} H_{{\\rm bad}_{{\\rm conductor}_{f_{x}}}}\\left(x\\right)}{\\sqrt{\\epsilon}} = \\frac{i \\, k_{z} \\sqrt{\\mu} \\frac{\\partial}{\\partial x}H_{{\\rm bad}_{{\\rm conductor}_{f_{z}}}}\\left(x\\right)}{{\\left(k_{z}^{2} - \\kappa^{2}\\right)} \\sqrt{\\epsilon}}$"
      ],
      "text/plain": [
       "<IPython.core.display.Math object>"
      ]
     },
     "metadata": {},
     "output_type": "display_data"
    }
   ],
   "source": [
    "eq_4_subs2 = (eq_4_subs1/(kappa^2 - k_z^2)).full_simplify()\n",
    "print             (eq_4_subs2)\n",
    "display(Math(latex(eq_4_subs2)))"
   ]
  },
  {
   "cell_type": "code",
   "execution_count": 59,
   "metadata": {
    "scrolled": true
   },
   "outputs": [
    {
     "name": "stdout",
     "output_type": "stream",
     "text": [
      "-sqrt(mu)*H_bad_conductor_f_x(x)/sqrt(epsilon) == -(B1_y*K_conductor^2*e^(I*K_conductor*x) - B1_x*K_conductor*k_y*e^(I*K_conductor*x))*c*k_z/((k_z^2 - kappa^2)*sqrt(epsilon)*sqrt(mu)*omega)\n"
     ]
    },
    {
     "data": {
      "text/latex": [
       "$\\displaystyle -\\frac{\\sqrt{\\mu} H_{{\\rm bad}_{{\\rm conductor}_{f_{x}}}}\\left(x\\right)}{\\sqrt{\\epsilon}} = -\\frac{{\\left(\\mathit{B1}_{y} K_{\\mathit{conductor}}^{2} e^{\\left(i \\, K_{\\mathit{conductor}} x\\right)} - \\mathit{B1}_{x} K_{\\mathit{conductor}} k_{y} e^{\\left(i \\, K_{\\mathit{conductor}} x\\right)}\\right)} c k_{z}}{{\\left(k_{z}^{2} - \\kappa^{2}\\right)} \\sqrt{\\epsilon} \\sqrt{\\mu} \\omega}$"
      ],
      "text/plain": [
       "<IPython.core.display.Math object>"
      ]
     },
     "metadata": {},
     "output_type": "display_data"
    }
   ],
   "source": [
    "eq_4_subs3 = eq_4_subs2.substitute_function(H_bad_conductor_f_z, H_bad_conductor_sol_z)\n",
    "print             (eq_4_subs3)\n",
    "display(Math(latex(eq_4_subs3)))"
   ]
  },
  {
   "cell_type": "code",
   "execution_count": 60,
   "metadata": {},
   "outputs": [
    {
     "name": "stdout",
     "output_type": "stream",
     "text": [
      "-sqrt(mu)*H_bad_conductor_f_x(x)/sqrt(epsilon) == -(B1_y*K_conductor^2*e^(I*K_conductor*x) - B1_x*K_conductor*k_y*e^(I*K_conductor*x))*sqrt(epsilon*mu)*k_z/((k_z^2 - kappa^2)*sqrt(epsilon)*kappa*sqrt(mu))\n"
     ]
    },
    {
     "data": {
      "text/latex": [
       "$\\displaystyle -\\frac{\\sqrt{\\mu} H_{{\\rm bad}_{{\\rm conductor}_{f_{x}}}}\\left(x\\right)}{\\sqrt{\\epsilon}} = -\\frac{{\\left(\\mathit{B1}_{y} K_{\\mathit{conductor}}^{2} e^{\\left(i \\, K_{\\mathit{conductor}} x\\right)} - \\mathit{B1}_{x} K_{\\mathit{conductor}} k_{y} e^{\\left(i \\, K_{\\mathit{conductor}} x\\right)}\\right)} \\sqrt{\\epsilon \\mu} k_{z}}{{\\left(k_{z}^{2} - \\kappa^{2}\\right)} \\sqrt{\\epsilon} \\kappa \\sqrt{\\mu}}$"
      ],
      "text/plain": [
       "<IPython.core.display.Math object>"
      ]
     },
     "metadata": {},
     "output_type": "display_data"
    }
   ],
   "source": [
    "eq_4_subs4 = eq_4_subs3.subs(omega==c*kappa/sqrt(epsilon*mu))\n",
    "print             (eq_4_subs4)\n",
    "display(Math(latex(eq_4_subs4)))"
   ]
  },
  {
   "cell_type": "code",
   "execution_count": null,
   "metadata": {},
   "outputs": [],
   "source": []
  },
  {
   "cell_type": "code",
   "execution_count": 61,
   "metadata": {},
   "outputs": [
    {
     "name": "stdout",
     "output_type": "stream",
     "text": [
      "eq_5 =\n",
      "-(k_z^2 - kappa_vacuum^2)*E_inner_vacuum_x(x) == -k_y*kappa_vacuum*H_inner_vacuum_f_z(x) + I*k_z*diff(E_inner_vacuum_z(x), x)\n"
     ]
    },
    {
     "data": {
      "text/latex": [
       "$\\displaystyle -{\\left(k_{z}^{2} - \\kappa_{\\mathit{vacuum}}^{2}\\right)} E_{{\\rm inner}_{{\\rm vacuum}_{x}}}\\left(x\\right) = -k_{y} \\kappa_{\\mathit{vacuum}} H_{{\\rm inner}_{{\\rm vacuum}_{f_{z}}}}\\left(x\\right) + i \\, k_{z} \\frac{\\partial}{\\partial x}E_{{\\rm inner}_{{\\rm vacuum}_{z}}}\\left(x\\right)$"
      ],
      "text/plain": [
       "<IPython.core.display.Math object>"
      ]
     },
     "metadata": {},
     "output_type": "display_data"
    },
    {
     "name": "stdout",
     "output_type": "stream",
     "text": [
      "eq_6 =\n",
      "-(k_z^2 - kappa_vacuum^2)*H_inner_vacuum_f_y(x) == -k_y*k_z*H_inner_vacuum_f_z(x) + I*kappa_vacuum*diff(E_inner_vacuum_z(x), x)\n"
     ]
    },
    {
     "data": {
      "text/latex": [
       "$\\displaystyle -{\\left(k_{z}^{2} - \\kappa_{\\mathit{vacuum}}^{2}\\right)} H_{{\\rm inner}_{{\\rm vacuum}_{f_{y}}}}\\left(x\\right) = -k_{y} k_{z} H_{{\\rm inner}_{{\\rm vacuum}_{f_{z}}}}\\left(x\\right) + i \\, \\kappa_{\\mathit{vacuum}} \\frac{\\partial}{\\partial x}E_{{\\rm inner}_{{\\rm vacuum}_{z}}}\\left(x\\right)$"
      ],
      "text/plain": [
       "<IPython.core.display.Math object>"
      ]
     },
     "metadata": {},
     "output_type": "display_data"
    },
    {
     "name": "stdout",
     "output_type": "stream",
     "text": [
      "eq_7 =\n",
      "-(k_z^2 - kappa^2)*E_bad_conductor_x(x) == -(k_y*kappa*sqrt(mu)*H_bad_conductor_f_z(x) - I*sqrt(epsilon)*k_z*diff(E_bad_conductor_z(x), x))/sqrt(epsilon)\n"
     ]
    },
    {
     "data": {
      "text/latex": [
       "$\\displaystyle -{\\left(k_{z}^{2} - \\kappa^{2}\\right)} E_{{\\rm bad}_{{\\rm conductor}_{x}}}\\left(x\\right) = -\\frac{k_{y} \\kappa \\sqrt{\\mu} H_{{\\rm bad}_{{\\rm conductor}_{f_{z}}}}\\left(x\\right) - i \\, \\sqrt{\\epsilon} k_{z} \\frac{\\partial}{\\partial x}E_{{\\rm bad}_{{\\rm conductor}_{z}}}\\left(x\\right)}{\\sqrt{\\epsilon}}$"
      ],
      "text/plain": [
       "<IPython.core.display.Math object>"
      ]
     },
     "metadata": {},
     "output_type": "display_data"
    },
    {
     "name": "stdout",
     "output_type": "stream",
     "text": [
      "eq_8 =\n",
      "-(k_z^2 - kappa^2)*sqrt(mu)*H_bad_conductor_f_y(x)/sqrt(epsilon) == -(k_y*k_z*sqrt(mu)*H_bad_conductor_f_z(x) - I*sqrt(epsilon)*kappa*diff(E_bad_conductor_z(x), x))/sqrt(epsilon)\n"
     ]
    },
    {
     "data": {
      "text/latex": [
       "$\\displaystyle -\\frac{{\\left(k_{z}^{2} - \\kappa^{2}\\right)} \\sqrt{\\mu} H_{{\\rm bad}_{{\\rm conductor}_{f_{y}}}}\\left(x\\right)}{\\sqrt{\\epsilon}} = -\\frac{k_{y} k_{z} \\sqrt{\\mu} H_{{\\rm bad}_{{\\rm conductor}_{f_{z}}}}\\left(x\\right) - i \\, \\sqrt{\\epsilon} \\kappa \\frac{\\partial}{\\partial x}E_{{\\rm bad}_{{\\rm conductor}_{z}}}\\left(x\\right)}{\\sqrt{\\epsilon}}$"
      ],
      "text/plain": [
       "<IPython.core.display.Math object>"
      ]
     },
     "metadata": {},
     "output_type": "display_data"
    }
   ],
   "source": [
    "print (\"eq_5 =\")\n",
    "print             (eq_5)\n",
    "display(Math(latex(eq_5)))\n",
    "\n",
    "print (\"eq_6 =\")\n",
    "print             (eq_6)\n",
    "display(Math(latex(eq_6)))\n",
    "\n",
    "print (\"eq_7 =\")\n",
    "print             (eq_7)\n",
    "display(Math(latex(eq_7)))\n",
    "\n",
    "print (\"eq_8 =\")\n",
    "print             (eq_8)\n",
    "display(Math(latex(eq_8)))"
   ]
  },
  {
   "cell_type": "code",
   "execution_count": null,
   "metadata": {},
   "outputs": [],
   "source": []
  },
  {
   "cell_type": "code",
   "execution_count": 62,
   "metadata": {},
   "outputs": [
    {
     "name": "stdout",
     "output_type": "stream",
     "text": [
      "eq_5 =\n",
      "-(k_z^2 - kappa_vacuum^2)*E_inner_vacuum_x(x) == -k_y*kappa_vacuum*H_inner_vacuum_f_z(x) + I*k_z*diff(E_inner_vacuum_z(x), x)\n"
     ]
    },
    {
     "data": {
      "text/latex": [
       "$\\displaystyle -{\\left(k_{z}^{2} - \\kappa_{\\mathit{vacuum}}^{2}\\right)} E_{{\\rm inner}_{{\\rm vacuum}_{x}}}\\left(x\\right) = -k_{y} \\kappa_{\\mathit{vacuum}} H_{{\\rm inner}_{{\\rm vacuum}_{f_{z}}}}\\left(x\\right) + i \\, k_{z} \\frac{\\partial}{\\partial x}E_{{\\rm inner}_{{\\rm vacuum}_{z}}}\\left(x\\right)$"
      ],
      "text/plain": [
       "<IPython.core.display.Math object>"
      ]
     },
     "metadata": {},
     "output_type": "display_data"
    }
   ],
   "source": [
    "print (\"eq_5 =\")\n",
    "print             (eq_5)\n",
    "display(Math(latex(eq_5)))"
   ]
  },
  {
   "cell_type": "code",
   "execution_count": 63,
   "metadata": {
    "scrolled": true
   },
   "outputs": [
    {
     "name": "stdout",
     "output_type": "stream",
     "text": [
      "-(k_z^2 - kappa_vacuum^2)*E_inner_vacuum_x(x) == I*k_z*diff(E_inner_vacuum_z(x), x)\n"
     ]
    },
    {
     "data": {
      "text/latex": [
       "$\\displaystyle -{\\left(k_{z}^{2} - \\kappa_{\\mathit{vacuum}}^{2}\\right)} E_{{\\rm inner}_{{\\rm vacuum}_{x}}}\\left(x\\right) = i \\, k_{z} \\frac{\\partial}{\\partial x}E_{{\\rm inner}_{{\\rm vacuum}_{z}}}\\left(x\\right)$"
      ],
      "text/plain": [
       "<IPython.core.display.Math object>"
      ]
     },
     "metadata": {},
     "output_type": "display_data"
    }
   ],
   "source": [
    "eq_5_subs1 = eq_5.subs(k_y == 0)\n",
    "print             (eq_5_subs1)\n",
    "display(Math(latex(eq_5_subs1)))"
   ]
  },
  {
   "cell_type": "code",
   "execution_count": 64,
   "metadata": {
    "scrolled": true
   },
   "outputs": [
    {
     "name": "stdout",
     "output_type": "stream",
     "text": [
      "E_inner_vacuum_x(x) == -I*k_z*diff(E_inner_vacuum_z(x), x)/(k_z^2 - kappa_vacuum^2)\n"
     ]
    },
    {
     "data": {
      "text/latex": [
       "$\\displaystyle E_{{\\rm inner}_{{\\rm vacuum}_{x}}}\\left(x\\right) = -\\frac{i \\, k_{z} \\frac{\\partial}{\\partial x}E_{{\\rm inner}_{{\\rm vacuum}_{z}}}\\left(x\\right)}{k_{z}^{2} - \\kappa_{\\mathit{vacuum}}^{2}}$"
      ],
      "text/plain": [
       "<IPython.core.display.Math object>"
      ]
     },
     "metadata": {},
     "output_type": "display_data"
    }
   ],
   "source": [
    "eq_5_subs2 = (eq_5_subs1/(kappa_vacuum^2 - k_z^2)).full_simplify()\n",
    "print             (eq_5_subs2)\n",
    "display(Math(latex(eq_5_subs2)))"
   ]
  },
  {
   "cell_type": "code",
   "execution_count": 65,
   "metadata": {
    "scrolled": true
   },
   "outputs": [
    {
     "name": "stdout",
     "output_type": "stream",
     "text": [
      "E_inner_vacuum_x(x) == -I*(I*A2_z*K_vacuum*e^(I*K_vacuum*x) - I*A1_z*K_vacuum*e^(-I*K_vacuum*x))*k_z/(k_z^2 - kappa_vacuum^2)\n"
     ]
    },
    {
     "data": {
      "text/latex": [
       "$\\displaystyle E_{{\\rm inner}_{{\\rm vacuum}_{x}}}\\left(x\\right) = -\\frac{i \\, {\\left(i \\, \\mathit{A2}_{z} K_{\\mathit{vacuum}} e^{\\left(i \\, K_{\\mathit{vacuum}} x\\right)} - i \\, \\mathit{A1}_{z} K_{\\mathit{vacuum}} e^{\\left(-i \\, K_{\\mathit{vacuum}} x\\right)}\\right)} k_{z}}{k_{z}^{2} - \\kappa_{\\mathit{vacuum}}^{2}}$"
      ],
      "text/plain": [
       "<IPython.core.display.Math object>"
      ]
     },
     "metadata": {},
     "output_type": "display_data"
    }
   ],
   "source": [
    "eq_5_subs4 = eq_5_subs2.substitute_function(E_inner_vacuum_z, E_inner_vacuum_sol_z)\n",
    "print             (eq_5_subs4)\n",
    "display(Math(latex(eq_5_subs4)))"
   ]
  },
  {
   "cell_type": "code",
   "execution_count": null,
   "metadata": {},
   "outputs": [],
   "source": []
  },
  {
   "cell_type": "code",
   "execution_count": 66,
   "metadata": {},
   "outputs": [
    {
     "name": "stdout",
     "output_type": "stream",
     "text": [
      "eq_6 =\n",
      "-(k_z^2 - kappa_vacuum^2)*H_inner_vacuum_f_y(x) == -k_y*k_z*H_inner_vacuum_f_z(x) + I*kappa_vacuum*diff(E_inner_vacuum_z(x), x)\n"
     ]
    },
    {
     "data": {
      "text/latex": [
       "$\\displaystyle -{\\left(k_{z}^{2} - \\kappa_{\\mathit{vacuum}}^{2}\\right)} H_{{\\rm inner}_{{\\rm vacuum}_{f_{y}}}}\\left(x\\right) = -k_{y} k_{z} H_{{\\rm inner}_{{\\rm vacuum}_{f_{z}}}}\\left(x\\right) + i \\, \\kappa_{\\mathit{vacuum}} \\frac{\\partial}{\\partial x}E_{{\\rm inner}_{{\\rm vacuum}_{z}}}\\left(x\\right)$"
      ],
      "text/plain": [
       "<IPython.core.display.Math object>"
      ]
     },
     "metadata": {},
     "output_type": "display_data"
    }
   ],
   "source": [
    "print (\"eq_6 =\")\n",
    "print             (eq_6)\n",
    "display(Math(latex(eq_6)))"
   ]
  },
  {
   "cell_type": "code",
   "execution_count": 67,
   "metadata": {
    "scrolled": true
   },
   "outputs": [
    {
     "name": "stdout",
     "output_type": "stream",
     "text": [
      "-(k_z^2 - kappa_vacuum^2)*H_inner_vacuum_f_y(x) == I*kappa_vacuum*diff(E_inner_vacuum_z(x), x)\n"
     ]
    },
    {
     "data": {
      "text/latex": [
       "$\\displaystyle -{\\left(k_{z}^{2} - \\kappa_{\\mathit{vacuum}}^{2}\\right)} H_{{\\rm inner}_{{\\rm vacuum}_{f_{y}}}}\\left(x\\right) = i \\, \\kappa_{\\mathit{vacuum}} \\frac{\\partial}{\\partial x}E_{{\\rm inner}_{{\\rm vacuum}_{z}}}\\left(x\\right)$"
      ],
      "text/plain": [
       "<IPython.core.display.Math object>"
      ]
     },
     "metadata": {},
     "output_type": "display_data"
    }
   ],
   "source": [
    "eq_6_subs1 = eq_6.subs(k_y == 0)\n",
    "print             (eq_6_subs1)\n",
    "display(Math(latex(eq_6_subs1)))"
   ]
  },
  {
   "cell_type": "code",
   "execution_count": 68,
   "metadata": {
    "scrolled": true
   },
   "outputs": [
    {
     "name": "stdout",
     "output_type": "stream",
     "text": [
      "H_inner_vacuum_f_y(x) == -I*kappa_vacuum*diff(E_inner_vacuum_z(x), x)/(k_z^2 - kappa_vacuum^2)\n"
     ]
    },
    {
     "data": {
      "text/latex": [
       "$\\displaystyle H_{{\\rm inner}_{{\\rm vacuum}_{f_{y}}}}\\left(x\\right) = -\\frac{i \\, \\kappa_{\\mathit{vacuum}} \\frac{\\partial}{\\partial x}E_{{\\rm inner}_{{\\rm vacuum}_{z}}}\\left(x\\right)}{k_{z}^{2} - \\kappa_{\\mathit{vacuum}}^{2}}$"
      ],
      "text/plain": [
       "<IPython.core.display.Math object>"
      ]
     },
     "metadata": {},
     "output_type": "display_data"
    }
   ],
   "source": [
    "eq_6_subs2 = (eq_6_subs1/(kappa_vacuum^2 - k_z^2)).full_simplify()\n",
    "print             (eq_6_subs2)\n",
    "display(Math(latex(eq_6_subs2)))"
   ]
  },
  {
   "cell_type": "code",
   "execution_count": 69,
   "metadata": {
    "scrolled": true
   },
   "outputs": [
    {
     "name": "stdout",
     "output_type": "stream",
     "text": [
      "H_inner_vacuum_f_y(x) == -I*(I*A2_z*K_vacuum*e^(I*K_vacuum*x) - I*A1_z*K_vacuum*e^(-I*K_vacuum*x))*kappa_vacuum/(k_z^2 - kappa_vacuum^2)\n"
     ]
    },
    {
     "data": {
      "text/latex": [
       "$\\displaystyle H_{{\\rm inner}_{{\\rm vacuum}_{f_{y}}}}\\left(x\\right) = -\\frac{i \\, {\\left(i \\, \\mathit{A2}_{z} K_{\\mathit{vacuum}} e^{\\left(i \\, K_{\\mathit{vacuum}} x\\right)} - i \\, \\mathit{A1}_{z} K_{\\mathit{vacuum}} e^{\\left(-i \\, K_{\\mathit{vacuum}} x\\right)}\\right)} \\kappa_{\\mathit{vacuum}}}{k_{z}^{2} - \\kappa_{\\mathit{vacuum}}^{2}}$"
      ],
      "text/plain": [
       "<IPython.core.display.Math object>"
      ]
     },
     "metadata": {},
     "output_type": "display_data"
    }
   ],
   "source": [
    "eq_6_subs4 = eq_6_subs2.substitute_function(E_inner_vacuum_z, E_inner_vacuum_sol_z)\n",
    "print             (eq_6_subs4)\n",
    "display(Math(latex(eq_6_subs4)))"
   ]
  },
  {
   "cell_type": "code",
   "execution_count": null,
   "metadata": {},
   "outputs": [],
   "source": []
  },
  {
   "cell_type": "code",
   "execution_count": 70,
   "metadata": {},
   "outputs": [
    {
     "name": "stdout",
     "output_type": "stream",
     "text": [
      "eq_7 =\n",
      "-(k_z^2 - kappa^2)*E_bad_conductor_x(x) == -(k_y*kappa*sqrt(mu)*H_bad_conductor_f_z(x) - I*sqrt(epsilon)*k_z*diff(E_bad_conductor_z(x), x))/sqrt(epsilon)\n"
     ]
    },
    {
     "data": {
      "text/latex": [
       "$\\displaystyle -{\\left(k_{z}^{2} - \\kappa^{2}\\right)} E_{{\\rm bad}_{{\\rm conductor}_{x}}}\\left(x\\right) = -\\frac{k_{y} \\kappa \\sqrt{\\mu} H_{{\\rm bad}_{{\\rm conductor}_{f_{z}}}}\\left(x\\right) - i \\, \\sqrt{\\epsilon} k_{z} \\frac{\\partial}{\\partial x}E_{{\\rm bad}_{{\\rm conductor}_{z}}}\\left(x\\right)}{\\sqrt{\\epsilon}}$"
      ],
      "text/plain": [
       "<IPython.core.display.Math object>"
      ]
     },
     "metadata": {},
     "output_type": "display_data"
    }
   ],
   "source": [
    "print (\"eq_7 =\")\n",
    "print             (eq_7)\n",
    "display(Math(latex(eq_7)))"
   ]
  },
  {
   "cell_type": "code",
   "execution_count": 71,
   "metadata": {
    "scrolled": true
   },
   "outputs": [
    {
     "name": "stdout",
     "output_type": "stream",
     "text": [
      "-(k_z^2 - kappa^2)*E_bad_conductor_x(x) == I*k_z*diff(E_bad_conductor_z(x), x)\n"
     ]
    },
    {
     "data": {
      "text/latex": [
       "$\\displaystyle -{\\left(k_{z}^{2} - \\kappa^{2}\\right)} E_{{\\rm bad}_{{\\rm conductor}_{x}}}\\left(x\\right) = i \\, k_{z} \\frac{\\partial}{\\partial x}E_{{\\rm bad}_{{\\rm conductor}_{z}}}\\left(x\\right)$"
      ],
      "text/plain": [
       "<IPython.core.display.Math object>"
      ]
     },
     "metadata": {},
     "output_type": "display_data"
    }
   ],
   "source": [
    "eq_7_subs1 = eq_7.subs(k_y == 0)\n",
    "print             (eq_7_subs1)\n",
    "display(Math(latex(eq_7_subs1)))"
   ]
  },
  {
   "cell_type": "code",
   "execution_count": 72,
   "metadata": {
    "scrolled": true
   },
   "outputs": [
    {
     "name": "stdout",
     "output_type": "stream",
     "text": [
      "E_bad_conductor_x(x) == -I*k_z*diff(E_bad_conductor_z(x), x)/(k_z^2 - kappa^2)\n"
     ]
    },
    {
     "data": {
      "text/latex": [
       "$\\displaystyle E_{{\\rm bad}_{{\\rm conductor}_{x}}}\\left(x\\right) = -\\frac{i \\, k_{z} \\frac{\\partial}{\\partial x}E_{{\\rm bad}_{{\\rm conductor}_{z}}}\\left(x\\right)}{k_{z}^{2} - \\kappa^{2}}$"
      ],
      "text/plain": [
       "<IPython.core.display.Math object>"
      ]
     },
     "metadata": {},
     "output_type": "display_data"
    }
   ],
   "source": [
    "eq_7_subs2 = (eq_7_subs1/(kappa^2 - k_z^2)).full_simplify()\n",
    "print             (eq_7_subs2)\n",
    "display(Math(latex(eq_7_subs2)))"
   ]
  },
  {
   "cell_type": "code",
   "execution_count": 73,
   "metadata": {
    "scrolled": true
   },
   "outputs": [
    {
     "name": "stdout",
     "output_type": "stream",
     "text": [
      "E_bad_conductor_x(x) == B1_z*K_conductor*k_z*e^(I*K_conductor*x)/(k_z^2 - kappa^2)\n"
     ]
    },
    {
     "data": {
      "text/latex": [
       "$\\displaystyle E_{{\\rm bad}_{{\\rm conductor}_{x}}}\\left(x\\right) = \\frac{\\mathit{B1}_{z} K_{\\mathit{conductor}} k_{z} e^{\\left(i \\, K_{\\mathit{conductor}} x\\right)}}{k_{z}^{2} - \\kappa^{2}}$"
      ],
      "text/plain": [
       "<IPython.core.display.Math object>"
      ]
     },
     "metadata": {},
     "output_type": "display_data"
    }
   ],
   "source": [
    "eq_7_subs4 = eq_7_subs2.substitute_function(E_bad_conductor_z, E_bad_conductor_sol_z)\n",
    "print             (eq_7_subs4)\n",
    "display(Math(latex(eq_7_subs4)))"
   ]
  },
  {
   "cell_type": "code",
   "execution_count": null,
   "metadata": {},
   "outputs": [],
   "source": []
  },
  {
   "cell_type": "code",
   "execution_count": 74,
   "metadata": {},
   "outputs": [
    {
     "name": "stdout",
     "output_type": "stream",
     "text": [
      "eq_8 =\n",
      "-(k_z^2 - kappa^2)*sqrt(mu)*H_bad_conductor_f_y(x)/sqrt(epsilon) == -(k_y*k_z*sqrt(mu)*H_bad_conductor_f_z(x) - I*sqrt(epsilon)*kappa*diff(E_bad_conductor_z(x), x))/sqrt(epsilon)\n"
     ]
    },
    {
     "data": {
      "text/latex": [
       "$\\displaystyle -\\frac{{\\left(k_{z}^{2} - \\kappa^{2}\\right)} \\sqrt{\\mu} H_{{\\rm bad}_{{\\rm conductor}_{f_{y}}}}\\left(x\\right)}{\\sqrt{\\epsilon}} = -\\frac{k_{y} k_{z} \\sqrt{\\mu} H_{{\\rm bad}_{{\\rm conductor}_{f_{z}}}}\\left(x\\right) - i \\, \\sqrt{\\epsilon} \\kappa \\frac{\\partial}{\\partial x}E_{{\\rm bad}_{{\\rm conductor}_{z}}}\\left(x\\right)}{\\sqrt{\\epsilon}}$"
      ],
      "text/plain": [
       "<IPython.core.display.Math object>"
      ]
     },
     "metadata": {},
     "output_type": "display_data"
    }
   ],
   "source": [
    "print (\"eq_8 =\")\n",
    "print             (eq_8)\n",
    "display(Math(latex(eq_8)))"
   ]
  },
  {
   "cell_type": "code",
   "execution_count": 75,
   "metadata": {
    "scrolled": true
   },
   "outputs": [
    {
     "name": "stdout",
     "output_type": "stream",
     "text": [
      "-(k_z^2 - kappa^2)*sqrt(mu)*H_bad_conductor_f_y(x)/sqrt(epsilon) == I*kappa*diff(E_bad_conductor_z(x), x)\n"
     ]
    },
    {
     "data": {
      "text/latex": [
       "$\\displaystyle -\\frac{{\\left(k_{z}^{2} - \\kappa^{2}\\right)} \\sqrt{\\mu} H_{{\\rm bad}_{{\\rm conductor}_{f_{y}}}}\\left(x\\right)}{\\sqrt{\\epsilon}} = i \\, \\kappa \\frac{\\partial}{\\partial x}E_{{\\rm bad}_{{\\rm conductor}_{z}}}\\left(x\\right)$"
      ],
      "text/plain": [
       "<IPython.core.display.Math object>"
      ]
     },
     "metadata": {},
     "output_type": "display_data"
    }
   ],
   "source": [
    "eq_8_subs1 = eq_8.subs(k_y == 0)\n",
    "print             (eq_8_subs1)\n",
    "display(Math(latex(eq_8_subs1)))"
   ]
  },
  {
   "cell_type": "code",
   "execution_count": 76,
   "metadata": {
    "scrolled": true
   },
   "outputs": [
    {
     "name": "stdout",
     "output_type": "stream",
     "text": [
      "sqrt(mu)*H_bad_conductor_f_y(x)/sqrt(epsilon) == -I*kappa*diff(E_bad_conductor_z(x), x)/(k_z^2 - kappa^2)\n"
     ]
    },
    {
     "data": {
      "text/latex": [
       "$\\displaystyle \\frac{\\sqrt{\\mu} H_{{\\rm bad}_{{\\rm conductor}_{f_{y}}}}\\left(x\\right)}{\\sqrt{\\epsilon}} = -\\frac{i \\, \\kappa \\frac{\\partial}{\\partial x}E_{{\\rm bad}_{{\\rm conductor}_{z}}}\\left(x\\right)}{k_{z}^{2} - \\kappa^{2}}$"
      ],
      "text/plain": [
       "<IPython.core.display.Math object>"
      ]
     },
     "metadata": {},
     "output_type": "display_data"
    }
   ],
   "source": [
    "eq_8_subs2 = (eq_8_subs1/(kappa^2 - k_z^2)).full_simplify()\n",
    "print             (eq_8_subs2)\n",
    "display(Math(latex(eq_8_subs2)))"
   ]
  },
  {
   "cell_type": "code",
   "execution_count": 77,
   "metadata": {
    "scrolled": true
   },
   "outputs": [
    {
     "name": "stdout",
     "output_type": "stream",
     "text": [
      "sqrt(mu)*H_bad_conductor_f_y(x)/sqrt(epsilon) == B1_z*K_conductor*kappa*e^(I*K_conductor*x)/(k_z^2 - kappa^2)\n"
     ]
    },
    {
     "data": {
      "text/latex": [
       "$\\displaystyle \\frac{\\sqrt{\\mu} H_{{\\rm bad}_{{\\rm conductor}_{f_{y}}}}\\left(x\\right)}{\\sqrt{\\epsilon}} = \\frac{\\mathit{B1}_{z} K_{\\mathit{conductor}} \\kappa e^{\\left(i \\, K_{\\mathit{conductor}} x\\right)}}{k_{z}^{2} - \\kappa^{2}}$"
      ],
      "text/plain": [
       "<IPython.core.display.Math object>"
      ]
     },
     "metadata": {},
     "output_type": "display_data"
    }
   ],
   "source": [
    "eq_8_subs4 = eq_8_subs2.substitute_function(E_bad_conductor_z, E_bad_conductor_sol_z)\n",
    "print             (eq_8_subs4)\n",
    "display(Math(latex(eq_8_subs4)))"
   ]
  },
  {
   "cell_type": "code",
   "execution_count": null,
   "metadata": {},
   "outputs": [],
   "source": []
  },
  {
   "cell_type": "code",
   "execution_count": 78,
   "metadata": {},
   "outputs": [
    {
     "name": "stdout",
     "output_type": "stream",
     "text": [
      "H_inner_vacuum_f_y(x) == -I*(I*A2_z*K_vacuum*e^(I*K_vacuum*x) - I*A1_z*K_vacuum*e^(-I*K_vacuum*x))*kappa_vacuum/(k_z^2 - kappa_vacuum^2)\n"
     ]
    },
    {
     "data": {
      "text/latex": [
       "$\\displaystyle H_{{\\rm inner}_{{\\rm vacuum}_{f_{y}}}}\\left(x\\right) = -\\frac{i \\, {\\left(i \\, \\mathit{A2}_{z} K_{\\mathit{vacuum}} e^{\\left(i \\, K_{\\mathit{vacuum}} x\\right)} - i \\, \\mathit{A1}_{z} K_{\\mathit{vacuum}} e^{\\left(-i \\, K_{\\mathit{vacuum}} x\\right)}\\right)} \\kappa_{\\mathit{vacuum}}}{k_{z}^{2} - \\kappa_{\\mathit{vacuum}}^{2}}$"
      ],
      "text/plain": [
       "<IPython.core.display.Math object>"
      ]
     },
     "metadata": {},
     "output_type": "display_data"
    }
   ],
   "source": [
    "eq_6_subs4 = eq_6_subs2.substitute_function(E_inner_vacuum_z, E_inner_vacuum_sol_z)\n",
    "print             (eq_6_subs4)\n",
    "display(Math(latex(eq_6_subs4)))"
   ]
  },
  {
   "cell_type": "code",
   "execution_count": null,
   "metadata": {},
   "outputs": [],
   "source": []
  },
  {
   "cell_type": "code",
   "execution_count": 79,
   "metadata": {},
   "outputs": [],
   "source": [
    "K_vacuum_subs = K_vacuum == sqrt(kappa_vacuum^2-k_z^2)\n",
    "K_conductor_subs = K_conductor == sqrt(kappa^2-k_z^2)"
   ]
  },
  {
   "cell_type": "code",
   "execution_count": 80,
   "metadata": {},
   "outputs": [
    {
     "name": "stdout",
     "output_type": "stream",
     "text": [
      "sqrt(mu)*H_bad_conductor_f_y(x)/sqrt(epsilon) == B1_z*K_conductor*kappa*e^(I*K_conductor*x)/(k_z^2 - kappa^2)\n",
      "\n",
      "H_inner_vacuum_f_y(x) == -I*(I*A2_z*K_vacuum*e^(I*K_vacuum*x) - I*A1_z*K_vacuum*e^(-I*K_vacuum*x))*kappa_vacuum/(k_z^2 - kappa_vacuum^2)\n",
      "\n"
     ]
    },
    {
     "data": {
      "text/latex": [
       "$\\displaystyle -\\frac{\\mathit{B1}_{z} \\kappa^{2}}{\\sqrt{-k_{z}^{2} + \\kappa^{2}} \\mu} = \\frac{{\\left(\\mathit{A1}_{z} - \\mathit{A2}_{z}\\right)} \\kappa_{\\mathit{vacuum}}^{2}}{\\sqrt{-k_{z}^{2} + \\kappa_{\\mathit{vacuum}}^{2}}}$"
      ],
      "text/plain": [
       "<IPython.core.display.Math object>"
      ]
     },
     "metadata": {},
     "output_type": "display_data"
    }
   ],
   "source": [
    "# тангенциальная компонента напряженности магнитного поля\n",
    "# eqHz_a  = (H_bad_conductor_sol_z(0)  == H_inner_vacuum_sol_z(0)).subs(eqEz_0, eqEy_0)\n",
    "# eqHy_a  = (H_bad_conductor_sol_y(0)  == H_inner_vacuum_sol_y(0)).subs(eqEy_0, eqEz_0)\n",
    "print(eq_8_subs4)\n",
    "print(\"\")\n",
    "print(eq_6_subs4)\n",
    "print(\"\")\n",
    "\n",
    "#8 sqrt(mu)*H_bad_conductor_f_y(x)/sqrt(epsilon) == B1_z*K_conductor*kappa*e^(I*K_conductor*x)/(k_z^2 - kappa^2)\n",
    "#6 H_inner_vacuum_f_y(x) == -I*(I*A2_z*K_vacuum*e^(I*K_vacuum*x) - I*A1_z*K_vacuum*e^(-I*K_vacuum*x))*kappa_vacuum/(k_z^2 - kappa_vacuum^2)\n",
    "\n",
    "# eq_Hy_0 = eq_8_subs4.rhs().subs(x == 0)*sqrt(epsilon_complex)/sqrt(mu) == eq_6_subs4.rhs().subs(x == 0)\n",
    "eq_Hy_0 = (eq_8_subs4.rhs().subs(x == 0).subs(K_conductor_subs)*sqrt(epsilon_complex)/sqrt(mu)) \\\n",
    "        == eq_6_subs4.rhs().subs(x == 0).subs(K_vacuum_subs)\n",
    "\n",
    "# sqrt(mu / epsilon_complex) = omega * mu / kappa\n",
    "# kappa/mu == omega * sqrt(epsilon_complex/mu)\n",
    "# sqrt(mu_0 / epsilon_0) = omega * mu_0 / kappa_vacuum\n",
    "\n",
    "#eq_Hy_0 = (eq_8_subs4.rhs().subs(x == 0).subs(K_conductor_subs)*kappa/(mu*omega)) \\\n",
    "#        == eq_6_subs4.rhs().subs(x == 0).subs(K_vacuum_subs)*kappa_vacuum/(mu_0*omega)\n",
    "\n",
    "eq_Hy_0 =((eq_8_subs4.rhs().subs(x == 0).subs(K_conductor_subs)*kappa/(mu)) \\\n",
    "        == eq_6_subs4.rhs().subs(x == 0).subs(K_vacuum_subs)*kappa_vacuum/(mu_0)) \\\n",
    "          .full_simplify()\n",
    "\n",
    "display(Math(latex(eq_Hy_0)))"
   ]
  },
  {
   "cell_type": "code",
   "execution_count": null,
   "metadata": {},
   "outputs": [],
   "source": []
  },
  {
   "cell_type": "code",
   "execution_count": 81,
   "metadata": {},
   "outputs": [],
   "source": [
    "eq_Hy_0_lhs_num = eq_Hy_0.lhs().numerator()\n",
    "eq_Hy_0_lhs_den = eq_Hy_0.lhs().denominator()\n",
    "\n",
    "eq_Hy_0_rhs_num = eq_Hy_0.rhs().numerator()\n",
    "eq_Hy_0_rhs_den = eq_Hy_0.rhs().denominator()"
   ]
  },
  {
   "cell_type": "code",
   "execution_count": 82,
   "metadata": {},
   "outputs": [
    {
     "data": {
      "text/latex": [
       "$\\displaystyle -\\mathit{B1}_{z} \\kappa^{2}$"
      ],
      "text/plain": [
       "<IPython.core.display.Math object>"
      ]
     },
     "metadata": {},
     "output_type": "display_data"
    },
    {
     "data": {
      "text/latex": [
       "$\\displaystyle \\sqrt{-k_{z}^{2} + \\kappa^{2}} \\mu$"
      ],
      "text/plain": [
       "<IPython.core.display.Math object>"
      ]
     },
     "metadata": {},
     "output_type": "display_data"
    },
    {
     "data": {
      "text/latex": [
       "$\\displaystyle {\\left(\\mathit{A1}_{z} - \\mathit{A2}_{z}\\right)} \\kappa_{\\mathit{vacuum}}^{2}$"
      ],
      "text/plain": [
       "<IPython.core.display.Math object>"
      ]
     },
     "metadata": {},
     "output_type": "display_data"
    },
    {
     "data": {
      "text/latex": [
       "$\\displaystyle \\sqrt{-k_{z}^{2} + \\kappa_{\\mathit{vacuum}}^{2}}$"
      ],
      "text/plain": [
       "<IPython.core.display.Math object>"
      ]
     },
     "metadata": {},
     "output_type": "display_data"
    }
   ],
   "source": [
    "display(Math(latex(eq_Hy_0_lhs_num)))\n",
    "display(Math(latex(eq_Hy_0_lhs_den)))\n",
    "\n",
    "display(Math(latex(eq_Hy_0_rhs_num)))\n",
    "display(Math(latex(eq_Hy_0_rhs_den)))"
   ]
  },
  {
   "cell_type": "code",
   "execution_count": 83,
   "metadata": {},
   "outputs": [
    {
     "data": {
      "text/plain": [
       "kappa_vacuum^2 == omega^2/c^2"
      ]
     },
     "execution_count": 83,
     "metadata": {},
     "output_type": "execute_result"
    }
   ],
   "source": [
    "eq_kappa_inner_vacuum"
   ]
  },
  {
   "cell_type": "code",
   "execution_count": 84,
   "metadata": {},
   "outputs": [],
   "source": [
    "eq_Hy_0_2 = \\\n",
    "    (eq_Hy_0_rhs_den * eq_Hy_0_lhs_num)^2 - \\\n",
    "    (eq_Hy_0_rhs_num * eq_Hy_0_lhs_den)^2 == 0"
   ]
  },
  {
   "cell_type": "code",
   "execution_count": 85,
   "metadata": {},
   "outputs": [
    {
     "name": "stdout",
     "output_type": "stream",
     "text": [
      "(k_z^2 - kappa^2)*(A1_z - A2_z)^2*kappa_vacuum^4*mu^2 - (k_z^2 - kappa_vacuum^2)*B1_z^2*kappa^4 == 0\n"
     ]
    }
   ],
   "source": [
    "print(eq_Hy_0_2)"
   ]
  },
  {
   "cell_type": "code",
   "execution_count": 86,
   "metadata": {},
   "outputs": [
    {
     "data": {
      "text/latex": [
       "$\\displaystyle {\\left(k_{z}^{2} - \\kappa^{2}\\right)} {\\left(\\mathit{A1}_{z} - \\mathit{A2}_{z}\\right)}^{2} \\kappa_{\\mathit{vacuum}}^{4} \\mu^{2} - {\\left(k_{z}^{2} - \\kappa_{\\mathit{vacuum}}^{2}\\right)} \\mathit{B1}_{z}^{2} \\kappa^{4} = 0$"
      ],
      "text/plain": [
       "<IPython.core.display.Math object>"
      ]
     },
     "metadata": {},
     "output_type": "display_data"
    }
   ],
   "source": [
    "display(Math(latex(eq_Hy_0_2)))"
   ]
  },
  {
   "cell_type": "code",
   "execution_count": 87,
   "metadata": {},
   "outputs": [],
   "source": [
    "eq_Hy_0_2_expand = eq_Hy_0_2.expand()"
   ]
  },
  {
   "cell_type": "code",
   "execution_count": 88,
   "metadata": {},
   "outputs": [
    {
     "name": "stdout",
     "output_type": "stream",
     "text": [
      "kappa_vacuum == omega/c\n"
     ]
    }
   ],
   "source": [
    "kappa_vacuum_sol = solve(eq_kappa_inner_vacuum, kappa_vacuum)[1]\n",
    "print(kappa_vacuum_sol)"
   ]
  },
  {
   "cell_type": "code",
   "execution_count": 89,
   "metadata": {},
   "outputs": [
    {
     "name": "stdout",
     "output_type": "stream",
     "text": [
      "kappa == sqrt(4*I*pi*c*mu*omega*sigma + epsilon*mu*omega^2)/c\n"
     ]
    }
   ],
   "source": [
    "kappa_sol = solve(eq_kappa, kappa)[1]\n",
    "print(kappa_sol)"
   ]
  },
  {
   "cell_type": "code",
   "execution_count": null,
   "metadata": {},
   "outputs": [],
   "source": []
  },
  {
   "cell_type": "code",
   "execution_count": 90,
   "metadata": {},
   "outputs": [],
   "source": [
    "eq_Hy_0_2_expand = eq_Hy_0_2_expand.subs(kappa_vacuum_sol)#.subs(kappa_sol)"
   ]
  },
  {
   "cell_type": "code",
   "execution_count": 91,
   "metadata": {},
   "outputs": [
    {
     "data": {
      "text/latex": [
       "$\\displaystyle k_{z} = -\\sqrt{\\frac{\\mathit{B1}_{z}^{2} c^{2} \\kappa^{2}}{\\mathit{B1}_{z}^{2} c^{4} \\kappa^{4} - \\mathit{A1}_{z}^{2} \\mu^{2} \\omega^{4} + 2 \\, \\mathit{A1}_{z} \\mathit{A2}_{z} \\mu^{2} \\omega^{4} - \\mathit{A2}_{z}^{2} \\mu^{2} \\omega^{4}} - \\frac{\\mathit{A1}_{z}^{2} \\mu^{2} \\omega^{2}}{\\mathit{B1}_{z}^{2} c^{4} \\kappa^{4} - \\mathit{A1}_{z}^{2} \\mu^{2} \\omega^{4} + 2 \\, \\mathit{A1}_{z} \\mathit{A2}_{z} \\mu^{2} \\omega^{4} - \\mathit{A2}_{z}^{2} \\mu^{2} \\omega^{4}} + \\frac{2 \\, \\mathit{A1}_{z} \\mathit{A2}_{z} \\mu^{2} \\omega^{2}}{\\mathit{B1}_{z}^{2} c^{4} \\kappa^{4} - \\mathit{A1}_{z}^{2} \\mu^{2} \\omega^{4} + 2 \\, \\mathit{A1}_{z} \\mathit{A2}_{z} \\mu^{2} \\omega^{4} - \\mathit{A2}_{z}^{2} \\mu^{2} \\omega^{4}} - \\frac{\\mathit{A2}_{z}^{2} \\mu^{2} \\omega^{2}}{\\mathit{B1}_{z}^{2} c^{4} \\kappa^{4} - \\mathit{A1}_{z}^{2} \\mu^{2} \\omega^{4} + 2 \\, \\mathit{A1}_{z} \\mathit{A2}_{z} \\mu^{2} \\omega^{4} - \\mathit{A2}_{z}^{2} \\mu^{2} \\omega^{4}}} \\kappa \\omega$"
      ],
      "text/plain": [
       "<IPython.core.display.Math object>"
      ]
     },
     "metadata": {},
     "output_type": "display_data"
    },
    {
     "name": "stdout",
     "output_type": "stream",
     "text": [
      "\n"
     ]
    },
    {
     "data": {
      "text/latex": [
       "$\\displaystyle k_{z} = \\sqrt{\\frac{\\mathit{B1}_{z}^{2} c^{2} \\kappa^{2}}{\\mathit{B1}_{z}^{2} c^{4} \\kappa^{4} - \\mathit{A1}_{z}^{2} \\mu^{2} \\omega^{4} + 2 \\, \\mathit{A1}_{z} \\mathit{A2}_{z} \\mu^{2} \\omega^{4} - \\mathit{A2}_{z}^{2} \\mu^{2} \\omega^{4}} - \\frac{\\mathit{A1}_{z}^{2} \\mu^{2} \\omega^{2}}{\\mathit{B1}_{z}^{2} c^{4} \\kappa^{4} - \\mathit{A1}_{z}^{2} \\mu^{2} \\omega^{4} + 2 \\, \\mathit{A1}_{z} \\mathit{A2}_{z} \\mu^{2} \\omega^{4} - \\mathit{A2}_{z}^{2} \\mu^{2} \\omega^{4}} + \\frac{2 \\, \\mathit{A1}_{z} \\mathit{A2}_{z} \\mu^{2} \\omega^{2}}{\\mathit{B1}_{z}^{2} c^{4} \\kappa^{4} - \\mathit{A1}_{z}^{2} \\mu^{2} \\omega^{4} + 2 \\, \\mathit{A1}_{z} \\mathit{A2}_{z} \\mu^{2} \\omega^{4} - \\mathit{A2}_{z}^{2} \\mu^{2} \\omega^{4}} - \\frac{\\mathit{A2}_{z}^{2} \\mu^{2} \\omega^{2}}{\\mathit{B1}_{z}^{2} c^{4} \\kappa^{4} - \\mathit{A1}_{z}^{2} \\mu^{2} \\omega^{4} + 2 \\, \\mathit{A1}_{z} \\mathit{A2}_{z} \\mu^{2} \\omega^{4} - \\mathit{A2}_{z}^{2} \\mu^{2} \\omega^{4}}} \\kappa \\omega$"
      ],
      "text/plain": [
       "<IPython.core.display.Math object>"
      ]
     },
     "metadata": {},
     "output_type": "display_data"
    },
    {
     "name": "stdout",
     "output_type": "stream",
     "text": [
      "\n"
     ]
    }
   ],
   "source": [
    "k_z_sol = solve(eq_Hy_0_2_expand, k_z)\n",
    "\n",
    "for i in range(len(k_z_sol)):\n",
    "    #print(k_z_sol[i])\n",
    "    display(Math(latex(k_z_sol[i])))\n",
    "    print(\"\")"
   ]
  },
  {
   "cell_type": "code",
   "execution_count": null,
   "metadata": {},
   "outputs": [],
   "source": []
  },
  {
   "cell_type": "code",
   "execution_count": null,
   "metadata": {},
   "outputs": [],
   "source": []
  },
  {
   "cell_type": "code",
   "execution_count": 92,
   "metadata": {},
   "outputs": [],
   "source": [
    "#E_vacuum_z = A1_z_im*sin(sqrt(kappa_vacuum^2-k_z^2)*(x+a))\n",
    "#E_vacuum_z"
   ]
  },
  {
   "cell_type": "code",
   "execution_count": 93,
   "metadata": {},
   "outputs": [
    {
     "data": {
      "text/plain": [
       "A2_z*e^(I*K_vacuum*x) + A1_z*e^(-I*K_vacuum*x)"
      ]
     },
     "execution_count": 93,
     "metadata": {},
     "output_type": "execute_result"
    }
   ],
   "source": [
    "E_inner_vacuum_sol_z(x)"
   ]
  },
  {
   "cell_type": "code",
   "execution_count": 94,
   "metadata": {},
   "outputs": [
    {
     "data": {
      "text/plain": [
       "A1_z + A2_z == B1_z"
      ]
     },
     "execution_count": 94,
     "metadata": {},
     "output_type": "execute_result"
    }
   ],
   "source": [
    "eqEz_a.rhs() == eqEz_a.lhs()"
   ]
  },
  {
   "cell_type": "code",
   "execution_count": 95,
   "metadata": {},
   "outputs": [
    {
     "data": {
      "text/plain": [
       "B1_z == A1_z + A2_z"
      ]
     },
     "execution_count": 95,
     "metadata": {},
     "output_type": "execute_result"
    }
   ],
   "source": [
    "eqEz_a"
   ]
  },
  {
   "cell_type": "code",
   "execution_count": 96,
   "metadata": {
    "scrolled": true
   },
   "outputs": [
    {
     "data": {
      "text/plain": [
       "(A1_z, A2_z, c, k_z, kappa, mu, omega)"
      ]
     },
     "execution_count": 96,
     "metadata": {},
     "output_type": "execute_result"
    }
   ],
   "source": [
    "k_z_sol_subs = k_z_sol[1].subs(eqEz_a).full_simplify()\n",
    "k_z_sol_subs.variables()"
   ]
  },
  {
   "cell_type": "code",
   "execution_count": 97,
   "metadata": {},
   "outputs": [],
   "source": [
    "# display(Math(latex(k_z_sol)))"
   ]
  },
  {
   "cell_type": "code",
   "execution_count": 98,
   "metadata": {},
   "outputs": [
    {
     "data": {
      "text/plain": [
       "A1_x + A2_x == B1_x*(epsilon + 4*I*pi*sigma/omega)"
      ]
     },
     "execution_count": 98,
     "metadata": {},
     "output_type": "execute_result"
    }
   ],
   "source": [
    "# нормальная компонента электрического смещения\n",
    "# eqDx_a = E_inner_vacuum_sol_x(0) == E_bad_conductor_sol_x(0) * epsilon\n",
    "eqDx_a"
   ]
  },
  {
   "cell_type": "code",
   "execution_count": 99,
   "metadata": {},
   "outputs": [
    {
     "name": "stdout",
     "output_type": "stream",
     "text": [
      "E_inner_vacuum_x(x) == -I*(I*A2_z*K_vacuum*e^(I*K_vacuum*x) - I*A1_z*K_vacuum*e^(-I*K_vacuum*x))*k_z/(k_z^2 - kappa_vacuum^2)\n"
     ]
    },
    {
     "data": {
      "text/latex": [
       "$\\displaystyle E_{{\\rm inner}_{{\\rm vacuum}_{x}}}\\left(x\\right) = -\\frac{i \\, {\\left(i \\, \\mathit{A2}_{z} K_{\\mathit{vacuum}} e^{\\left(i \\, K_{\\mathit{vacuum}} x\\right)} - i \\, \\mathit{A1}_{z} K_{\\mathit{vacuum}} e^{\\left(-i \\, K_{\\mathit{vacuum}} x\\right)}\\right)} k_{z}}{k_{z}^{2} - \\kappa_{\\mathit{vacuum}}^{2}}$"
      ],
      "text/plain": [
       "<IPython.core.display.Math object>"
      ]
     },
     "metadata": {},
     "output_type": "display_data"
    }
   ],
   "source": [
    "print             (eq_5_subs4)\n",
    "display(Math(latex(eq_5_subs4)))"
   ]
  },
  {
   "cell_type": "code",
   "execution_count": 100,
   "metadata": {},
   "outputs": [
    {
     "name": "stdout",
     "output_type": "stream",
     "text": [
      "E_bad_conductor_x(x) == B1_z*K_conductor*k_z*e^(I*K_conductor*x)/(k_z^2 - kappa^2)\n"
     ]
    },
    {
     "data": {
      "text/latex": [
       "$\\displaystyle E_{{\\rm bad}_{{\\rm conductor}_{x}}}\\left(x\\right) = \\frac{\\mathit{B1}_{z} K_{\\mathit{conductor}} k_{z} e^{\\left(i \\, K_{\\mathit{conductor}} x\\right)}}{k_{z}^{2} - \\kappa^{2}}$"
      ],
      "text/plain": [
       "<IPython.core.display.Math object>"
      ]
     },
     "metadata": {},
     "output_type": "display_data"
    }
   ],
   "source": [
    "print             (eq_7_subs4)\n",
    "display(Math(latex(eq_7_subs4)))"
   ]
  },
  {
   "cell_type": "code",
   "execution_count": 101,
   "metadata": {},
   "outputs": [
    {
     "name": "stdout",
     "output_type": "stream",
     "text": [
      "-I*(-I*sqrt(-k_z^2 + kappa_vacuum^2)*A1_z + I*sqrt(-k_z^2 + kappa_vacuum^2)*A2_z)*k_z/(k_z^2 - kappa_vacuum^2) == sqrt(-k_z^2 + kappa^2)*B1_z*(epsilon + 4*I*pi*sigma/omega)*k_z/(k_z^2 - kappa^2)\n"
     ]
    },
    {
     "data": {
      "text/latex": [
       "$\\displaystyle -\\frac{i \\, {\\left(-i \\, \\sqrt{-k_{z}^{2} + \\kappa_{\\mathit{vacuum}}^{2}} \\mathit{A1}_{z} + i \\, \\sqrt{-k_{z}^{2} + \\kappa_{\\mathit{vacuum}}^{2}} \\mathit{A2}_{z}\\right)} k_{z}}{k_{z}^{2} - \\kappa_{\\mathit{vacuum}}^{2}} = \\frac{\\sqrt{-k_{z}^{2} + \\kappa^{2}} \\mathit{B1}_{z} {\\left(\\epsilon + \\frac{4 i \\, \\pi \\sigma}{\\omega}\\right)} k_{z}}{k_{z}^{2} - \\kappa^{2}}$"
      ],
      "text/plain": [
       "<IPython.core.display.Math object>"
      ]
     },
     "metadata": {},
     "output_type": "display_data"
    }
   ],
   "source": [
    "eq_eqDx_a = eq_5_subs4.rhs().subs(x == 0).subs(K_vacuum_subs) \\\n",
    "         == (eq_7_subs4.rhs().subs(x == 0)*epsilon_complex).subs(K_conductor_subs)\n",
    "print             (eq_eqDx_a)\n",
    "display(Math(latex(eq_eqDx_a)))"
   ]
  },
  {
   "cell_type": "code",
   "execution_count": null,
   "metadata": {},
   "outputs": [],
   "source": []
  },
  {
   "cell_type": "code",
   "execution_count": 102,
   "metadata": {},
   "outputs": [
    {
     "name": "stdout",
     "output_type": "stream",
     "text": [
      "eqEz_0 = \n"
     ]
    },
    {
     "data": {
      "text/latex": [
       "$\\displaystyle \\mathit{A1}_{z} e^{\\left(i \\, K_{\\mathit{vacuum}} a\\right)} + \\mathit{A2}_{z} e^{\\left(-i \\, K_{\\mathit{vacuum}} a\\right)} = 0$"
      ],
      "text/plain": [
       "<IPython.core.display.Math object>"
      ]
     },
     "metadata": {},
     "output_type": "display_data"
    },
    {
     "name": "stdout",
     "output_type": "stream",
     "text": [
      "eqEz_0 = \n"
     ]
    },
    {
     "data": {
      "text/latex": [
       "$\\displaystyle \\mathit{A1}_{z} e^{\\left(i \\, K_{\\mathit{vacuum}} a\\right)} + \\mathit{A2}_{z} e^{\\left(-i \\, K_{\\mathit{vacuum}} a\\right)} = 0$"
      ],
      "text/plain": [
       "<IPython.core.display.Math object>"
      ]
     },
     "metadata": {},
     "output_type": "display_data"
    },
    {
     "name": "stdout",
     "output_type": "stream",
     "text": [
      "eqEz_0, eqEy_0 = \n"
     ]
    },
    {
     "data": {
      "text/latex": [
       "$\\displaystyle \\left[\\mathit{A1}_{z} e^{\\left(i \\, K_{\\mathit{vacuum}} a\\right)} + \\mathit{A2}_{z} e^{\\left(-i \\, K_{\\mathit{vacuum}} a\\right)} = 0, \\mathit{A1}_{y} e^{\\left(i \\, K_{\\mathit{vacuum}} a\\right)} + \\mathit{A2}_{y} e^{\\left(-i \\, K_{\\mathit{vacuum}} a\\right)} = 0\\right]$"
      ],
      "text/plain": [
       "<IPython.core.display.Math object>"
      ]
     },
     "metadata": {},
     "output_type": "display_data"
    },
    {
     "name": "stdout",
     "output_type": "stream",
     "text": [
      "eqHz_a =\n"
     ]
    },
    {
     "data": {
      "text/latex": [
       "$\\displaystyle -\\frac{i \\, {\\left(i \\, \\mathit{B1}_{y} K_{\\mathit{conductor}} - i \\, \\mathit{B1}_{x} k_{y}\\right)} c}{\\mu \\omega} = -\\frac{i \\, {\\left(-i \\, \\mathit{A1}_{y} K_{\\mathit{vacuum}} + i \\, \\mathit{A2}_{y} K_{\\mathit{vacuum}} - i \\, {\\left(\\mathit{A1}_{x} + \\mathit{A2}_{x}\\right)} k_{y}\\right)} c}{\\omega}$"
      ],
      "text/plain": [
       "<IPython.core.display.Math object>"
      ]
     },
     "metadata": {},
     "output_type": "display_data"
    },
    {
     "name": "stdout",
     "output_type": "stream",
     "text": [
      "eqHy_a =\n"
     ]
    },
    {
     "data": {
      "text/latex": [
       "$\\displaystyle -\\frac{i \\, {\\left(-i \\, \\mathit{B1}_{z} K_{\\mathit{conductor}} + i \\, \\mathit{B1}_{x} k_{z}\\right)} c}{\\mu \\omega} = -\\frac{i \\, {\\left(i \\, \\mathit{A1}_{z} K_{\\mathit{vacuum}} - i \\, \\mathit{A2}_{z} K_{\\mathit{vacuum}} + i \\, {\\left(\\mathit{A1}_{x} + \\mathit{A2}_{x}\\right)} k_{z}\\right)} c}{\\omega}$"
      ],
      "text/plain": [
       "<IPython.core.display.Math object>"
      ]
     },
     "metadata": {},
     "output_type": "display_data"
    },
    {
     "name": "stdout",
     "output_type": "stream",
     "text": [
      "eqHz_a =\n"
     ]
    },
    {
     "data": {
      "text/latex": [
       "$\\displaystyle -\\frac{i \\, {\\left(i \\, {\\left(i \\, \\mathit{B1}_{y_{\\mathit{im}}} + \\mathit{B1}_{y_{\\mathit{re}}}\\right)} K_{\\mathit{conductor}} - i \\, {\\left(i \\, \\mathit{B1}_{x_{\\mathit{im}}} + \\mathit{B1}_{x_{\\mathit{re}}}\\right)} k_{y}\\right)} c}{\\mu \\omega} = -\\frac{i \\, {\\left(-i \\, {\\left(i \\, \\mathit{A1}_{y_{\\mathit{im}}} + \\mathit{A1}_{y_{\\mathit{re}}}\\right)} K_{\\mathit{vacuum}} + i \\, {\\left(i \\, \\mathit{A2}_{y_{\\mathit{im}}} + \\mathit{A2}_{y_{\\mathit{re}}}\\right)} K_{\\mathit{vacuum}} - i \\, {\\left(i \\, \\mathit{A1}_{x_{\\mathit{im}}} + \\mathit{A1}_{x_{\\mathit{re}}} + i \\, \\mathit{A2}_{x_{\\mathit{im}}} + \\mathit{A2}_{x_{\\mathit{re}}}\\right)} k_{y}\\right)} c}{\\omega}$"
      ],
      "text/plain": [
       "<IPython.core.display.Math object>"
      ]
     },
     "metadata": {},
     "output_type": "display_data"
    },
    {
     "name": "stdout",
     "output_type": "stream",
     "text": [
      "eqHy_a =\n"
     ]
    },
    {
     "data": {
      "text/latex": [
       "$\\displaystyle -\\frac{i \\, {\\left(-i \\, {\\left(i \\, \\mathit{B1}_{z_{\\mathit{im}}} + \\mathit{B1}_{z_{\\mathit{re}}}\\right)} K_{\\mathit{conductor}} + i \\, {\\left(i \\, \\mathit{B1}_{x_{\\mathit{im}}} + \\mathit{B1}_{x_{\\mathit{re}}}\\right)} k_{z}\\right)} c}{\\mu \\omega} = -\\frac{i \\, {\\left(i \\, {\\left(i \\, \\mathit{A1}_{z_{\\mathit{im}}} + \\mathit{A1}_{z_{\\mathit{re}}}\\right)} K_{\\mathit{vacuum}} - i \\, {\\left(i \\, \\mathit{A2}_{z_{\\mathit{im}}} + \\mathit{A2}_{z_{\\mathit{re}}}\\right)} K_{\\mathit{vacuum}} + i \\, {\\left(i \\, \\mathit{A1}_{x_{\\mathit{im}}} + \\mathit{A1}_{x_{\\mathit{re}}} + i \\, \\mathit{A2}_{x_{\\mathit{im}}} + \\mathit{A2}_{x_{\\mathit{re}}}\\right)} k_{z}\\right)} c}{\\omega}$"
      ],
      "text/plain": [
       "<IPython.core.display.Math object>"
      ]
     },
     "metadata": {},
     "output_type": "display_data"
    },
    {
     "name": "stdout",
     "output_type": "stream",
     "text": [
      "eqEz_a = \n"
     ]
    },
    {
     "data": {
      "text/latex": [
       "$\\displaystyle \\mathit{B1}_{z} = \\mathit{A1}_{z} + \\mathit{A2}_{z}$"
      ],
      "text/plain": [
       "<IPython.core.display.Math object>"
      ]
     },
     "metadata": {},
     "output_type": "display_data"
    },
    {
     "name": "stdout",
     "output_type": "stream",
     "text": [
      "eqEy_a = \n"
     ]
    },
    {
     "data": {
      "text/latex": [
       "$\\displaystyle \\mathit{B1}_{y} = \\mathit{A1}_{y} + \\mathit{A2}_{y}$"
      ],
      "text/plain": [
       "<IPython.core.display.Math object>"
      ]
     },
     "metadata": {},
     "output_type": "display_data"
    },
    {
     "name": "stdout",
     "output_type": "stream",
     "text": [
      "eqBx_a =\n"
     ]
    },
    {
     "data": {
      "text/latex": [
       "$\\displaystyle -\\frac{i \\, {\\left(i \\, \\mathit{B1}_{z} k_{y} - i \\, \\mathit{B1}_{y} k_{z}\\right)} c}{\\omega} = -\\frac{i \\, {\\left(i \\, {\\left(\\mathit{A1}_{z} + \\mathit{A2}_{z}\\right)} k_{y} - i \\, {\\left(\\mathit{A1}_{y} + \\mathit{A2}_{y}\\right)} k_{z}\\right)} c}{\\omega}$"
      ],
      "text/plain": [
       "<IPython.core.display.Math object>"
      ]
     },
     "metadata": {},
     "output_type": "display_data"
    },
    {
     "name": "stdout",
     "output_type": "stream",
     "text": [
      "eqBx_a_ =\n"
     ]
    },
    {
     "data": {
      "text/latex": [
       "$\\displaystyle -\\frac{i \\, {\\left(i \\, {\\left(i \\, \\mathit{B1}_{z_{\\mathit{im}}} + \\mathit{B1}_{z_{\\mathit{re}}}\\right)} k_{y} - i \\, {\\left(i \\, \\mathit{B1}_{y_{\\mathit{im}}} + \\mathit{B1}_{y_{\\mathit{re}}}\\right)} k_{z}\\right)} c}{\\omega} = -\\frac{i \\, {\\left(i \\, {\\left(i \\, \\mathit{A1}_{z_{\\mathit{im}}} + \\mathit{A1}_{z_{\\mathit{re}}} + i \\, \\mathit{A2}_{z_{\\mathit{im}}} + \\mathit{A2}_{z_{\\mathit{re}}}\\right)} k_{y} - i \\, {\\left(i \\, \\mathit{A1}_{y_{\\mathit{im}}} + \\mathit{A1}_{y_{\\mathit{re}}} + i \\, \\mathit{A2}_{y_{\\mathit{im}}} + \\mathit{A2}_{y_{\\mathit{re}}}\\right)} k_{z}\\right)} c}{\\omega}$"
      ],
      "text/plain": [
       "<IPython.core.display.Math object>"
      ]
     },
     "metadata": {},
     "output_type": "display_data"
    },
    {
     "name": "stdout",
     "output_type": "stream",
     "text": [
      "eqDx_a =\n"
     ]
    },
    {
     "data": {
      "text/latex": [
       "$\\displaystyle \\mathit{A1}_{x} + \\mathit{A2}_{x} = \\mathit{B1}_{x} {\\left(\\epsilon + \\frac{4 i \\, \\pi \\sigma}{\\omega}\\right)}$"
      ],
      "text/plain": [
       "<IPython.core.display.Math object>"
      ]
     },
     "metadata": {},
     "output_type": "display_data"
    },
    {
     "name": "stdout",
     "output_type": "stream",
     "text": [
      "eqDx_a_ =\n"
     ]
    },
    {
     "data": {
      "text/latex": [
       "$\\displaystyle i \\, \\mathit{A1}_{x_{\\mathit{im}}} + \\mathit{A1}_{x_{\\mathit{re}}} + i \\, \\mathit{A2}_{x_{\\mathit{im}}} + \\mathit{A2}_{x_{\\mathit{re}}} = {\\left(i \\, \\mathit{B1}_{x_{\\mathit{im}}} + \\mathit{B1}_{x_{\\mathit{re}}}\\right)} {\\left(\\epsilon + \\frac{4 i \\, \\pi \\sigma}{\\omega}\\right)}$"
      ],
      "text/plain": [
       "<IPython.core.display.Math object>"
      ]
     },
     "metadata": {},
     "output_type": "display_data"
    }
   ],
   "source": [
    "# граничные условия на границе идеального проводника и вакуума внутри резонатора\n",
    "# тангенциальная компонента электрического поля\n",
    "\n",
    "print (\"eqEz_0 = \")\n",
    "display(Math(latex(eqEz_0)))\n",
    "\n",
    "eqEz_0_ = eqEz_0.subs(A1_z_re_im_subs).subs(A2_z_re_im_subs)\n",
    "eqEy_0_ = eqEy_0.subs(A1_y_re_im_subs).subs(A2_y_re_im_subs)\n",
    "\n",
    "print (\"eqEz_0 = \")\n",
    "display(Math(latex(eqEz_0)))\n",
    "\n",
    "\n",
    "print (\"eqEz_0, eqEy_0 = \")\n",
    "display(Math(latex([eqEz_0, eqEy_0])))\n",
    "\n",
    "# тангенциальная компонента напряженности магнитного поля\n",
    "print (\"eqHz_a =\")\n",
    "display(Math(latex(eqHz_a)))\n",
    "print (\"eqHy_a =\")\n",
    "display(Math(latex(eqHy_a)))\n",
    "\n",
    "eqHz_a_ = eqHz_a \\\n",
    "        .subs(A1_x_re_im_subs).subs(A2_x_re_im_subs) \\\n",
    "        .subs(A1_y_re_im_subs).subs(A2_y_re_im_subs) \\\n",
    "        .subs(A1_z_re_im_subs).subs(A2_z_re_im_subs) \\\n",
    "        .subs(B1_x_re_im_subs) \\\n",
    "        .subs(B1_y_re_im_subs) \\\n",
    "        .subs(B1_z_re_im_subs)\n",
    "\n",
    "\n",
    "eqHy_a_ = eqHy_a \\\n",
    "        .subs(A1_x_re_im_subs).subs(A2_x_re_im_subs) \\\n",
    "        .subs(A1_y_re_im_subs).subs(A2_y_re_im_subs) \\\n",
    "        .subs(A1_z_re_im_subs).subs(A2_z_re_im_subs) \\\n",
    "        .subs(B1_x_re_im_subs) \\\n",
    "        .subs(B1_y_re_im_subs) \\\n",
    "        .subs(B1_z_re_im_subs)\n",
    "\n",
    "print (\"eqHz_a =\")\n",
    "display(Math(latex(eqHz_a_)))\n",
    "print (\"eqHy_a =\")\n",
    "display(Math(latex(eqHy_a_)))\n",
    "\n",
    "# граничные условия на границе вакуума внутри резонатора и проводящего металла с потерями\n",
    "# тангенциальная компонента электрического поля\n",
    "print (\"eqEz_a = \")\n",
    "display(Math(latex(eqEz_a)))\n",
    "print (\"eqEy_a = \")\n",
    "display(Math(latex(eqEy_a)))\n",
    "\n",
    "eqEz_a_ = eqEz_a \\\n",
    "        .subs(A1_z_re_im_subs).subs(A2_z_re_im_subs) \\\n",
    "        .subs(B1_z_re_im_subs)\n",
    "\n",
    "eqEy_a_ = eqEy_a \\\n",
    "        .subs(A1_y_re_im_subs).subs(A2_y_re_im_subs) \\\n",
    "        .subs(B1_y_re_im_subs)\n",
    "\n",
    "# нормальная компонента индукции магнитного поля\n",
    "#eqBx_a  = mu * H_bad_conductor_sol_x (0)  == H_inner_vacuum_sol_x (0)\n",
    "\n",
    "print (\"eqBx_a =\")\n",
    "display(Math(latex(eqBx_a)))\n",
    "\n",
    "eqBx_a_ = eqBx_a \\\n",
    "        .subs(A1_x_re_im_subs).subs(A2_x_re_im_subs) \\\n",
    "        .subs(A1_y_re_im_subs).subs(A2_y_re_im_subs) \\\n",
    "        .subs(A1_z_re_im_subs).subs(A2_z_re_im_subs) \\\n",
    "        .subs(B1_x_re_im_subs) \\\n",
    "        .subs(B1_y_re_im_subs) \\\n",
    "        .subs(B1_z_re_im_subs)\n",
    "\n",
    "print (\"eqBx_a_ =\")\n",
    "display(Math(latex(eqBx_a_)))\n",
    "\n",
    "# нормальная компонента электрического смещения\n",
    "\n",
    "print (\"eqDx_a =\")\n",
    "display(Math(latex(eqDx_a)))\n",
    "\n",
    "eqDx_a_ = eqDx_a \\\n",
    "        .subs(A1_x_re_im_subs).subs(A2_x_re_im_subs) \\\n",
    "        .subs(A1_y_re_im_subs).subs(A2_y_re_im_subs) \\\n",
    "        .subs(A1_z_re_im_subs).subs(A2_z_re_im_subs) \\\n",
    "        .subs(B1_x_re_im_subs) \\\n",
    "        .subs(B1_y_re_im_subs) \\\n",
    "        .subs(B1_z_re_im_subs)\n",
    "\n",
    "print (\"eqDx_a_ =\")\n",
    "display(Math(latex(eqDx_a_)))"
   ]
  },
  {
   "cell_type": "code",
   "execution_count": 103,
   "metadata": {},
   "outputs": [],
   "source": [
    "# граничные условия на границе идеального проводника и вакуума внутри резонатора\n",
    "# тангенциальная компонента электрического поля"
   ]
  },
  {
   "cell_type": "code",
   "execution_count": 104,
   "metadata": {},
   "outputs": [],
   "source": [
    "eqEz_0_re = eqEz_0_.lhs().real() == 0\n",
    "eqEz_0_im = eqEz_0_.lhs().imag() == 0"
   ]
  },
  {
   "cell_type": "code",
   "execution_count": 105,
   "metadata": {},
   "outputs": [],
   "source": [
    "eqEy_0_re = eqEy_0_.lhs().real() == 0\n",
    "eqEy_0_im = eqEy_0_.lhs().imag() == 0"
   ]
  },
  {
   "cell_type": "code",
   "execution_count": 106,
   "metadata": {},
   "outputs": [],
   "source": [
    "# тангенциальная компонента напряженности магнитного поля"
   ]
  },
  {
   "cell_type": "code",
   "execution_count": 107,
   "metadata": {},
   "outputs": [],
   "source": [
    "#eqHz_a"
   ]
  },
  {
   "cell_type": "code",
   "execution_count": 108,
   "metadata": {},
   "outputs": [],
   "source": [
    "#eqHy_a"
   ]
  },
  {
   "cell_type": "code",
   "execution_count": 109,
   "metadata": {},
   "outputs": [],
   "source": [
    "eqHz_a_re = eqHz_a_.lhs().real() == eqHz_a_.rhs().real()\n",
    "eqHz_a_im = eqHz_a_.lhs().imag() == eqHz_a_.rhs().imag()"
   ]
  },
  {
   "cell_type": "code",
   "execution_count": 110,
   "metadata": {},
   "outputs": [],
   "source": [
    "eqHy_a_re = eqHy_a_.lhs().real() == eqHy_a_.rhs().real()\n",
    "eqHy_a_im = eqHy_a_.lhs().imag() == eqHy_a_.rhs().imag()"
   ]
  },
  {
   "cell_type": "code",
   "execution_count": 111,
   "metadata": {},
   "outputs": [],
   "source": [
    "# граничные условия на границе вакуума внутри резонатора и проводящего металла с потерями\n",
    "# тангенциальная компонента электрического поля"
   ]
  },
  {
   "cell_type": "code",
   "execution_count": 112,
   "metadata": {},
   "outputs": [],
   "source": [
    "#eqEz_a"
   ]
  },
  {
   "cell_type": "code",
   "execution_count": 113,
   "metadata": {},
   "outputs": [],
   "source": [
    "eqEz_a_re = eqEz_a_.lhs().real() == eqEz_a_.rhs().real()\n",
    "eqEz_a_im = eqEz_a_.lhs().imag() == eqEz_a_.rhs().imag()"
   ]
  },
  {
   "cell_type": "code",
   "execution_count": 114,
   "metadata": {},
   "outputs": [],
   "source": [
    "#eqEy_a"
   ]
  },
  {
   "cell_type": "code",
   "execution_count": 115,
   "metadata": {},
   "outputs": [],
   "source": [
    "eqEy_a_re = eqEy_a_.lhs().real() == eqEy_a_.rhs().real()\n",
    "eqEy_a_im = eqEy_a_.lhs().imag() == eqEy_a_.rhs().imag()"
   ]
  },
  {
   "cell_type": "code",
   "execution_count": 116,
   "metadata": {},
   "outputs": [],
   "source": [
    "# нормальная компонента индукции магнитного поля\n",
    "# на границе вакуума внутри резонатора и проводящего металла с потерями"
   ]
  },
  {
   "cell_type": "code",
   "execution_count": 117,
   "metadata": {},
   "outputs": [],
   "source": [
    "#eqBx_a"
   ]
  },
  {
   "cell_type": "code",
   "execution_count": 118,
   "metadata": {},
   "outputs": [],
   "source": [
    "eqBx_a_re = eqBx_a_.lhs().real() == eqBx_a_.rhs().real()\n",
    "eqBx_a_im = eqBx_a_.lhs().imag() == eqBx_a_.rhs().imag()"
   ]
  },
  {
   "cell_type": "code",
   "execution_count": 119,
   "metadata": {},
   "outputs": [],
   "source": [
    "# нормальная компонента электрического смещения\n",
    "# на границе вакуума внутри резонатора и проводящего металла с потерями"
   ]
  },
  {
   "cell_type": "code",
   "execution_count": 120,
   "metadata": {},
   "outputs": [],
   "source": [
    "#eqDx_a"
   ]
  },
  {
   "cell_type": "code",
   "execution_count": 121,
   "metadata": {},
   "outputs": [],
   "source": [
    "eqDx_a_re = eqDx_a_.lhs().real() == eqDx_a_.rhs().real()\n",
    "eqDx_a_im = eqDx_a_.lhs().imag() == eqDx_a_.rhs().imag()"
   ]
  },
  {
   "cell_type": "raw",
   "metadata": {},
   "source": [
    "for i in range(len(sol_sys_eqEz_0)):\n",
    "    print (\"solution #\", i)\n",
    "    print(\"\")\n",
    "    for j in range(len(sol_sys_eqEz_0[i])):\n",
    "        print(sol_sys_eqEz_0[i][j])\n",
    "        print(\"\")"
   ]
  },
  {
   "cell_type": "code",
   "execution_count": 122,
   "metadata": {},
   "outputs": [
    {
     "data": {
      "text/latex": [
       "$\\displaystyle k_{z} = \\kappa \\omega \\sqrt{\\frac{{\\left(\\mathit{A1}_{z}^{2} + 2 \\, \\mathit{A1}_{z} \\mathit{A2}_{z} + \\mathit{A2}_{z}^{2}\\right)} c^{2} \\kappa^{2} - {\\left(\\mathit{A1}_{z}^{2} - 2 \\, \\mathit{A1}_{z} \\mathit{A2}_{z} + \\mathit{A2}_{z}^{2}\\right)} \\mu^{2} \\omega^{2}}{{\\left(\\mathit{A1}_{z}^{2} + 2 \\, \\mathit{A1}_{z} \\mathit{A2}_{z} + \\mathit{A2}_{z}^{2}\\right)} c^{4} \\kappa^{4} - {\\left(\\mathit{A1}_{z}^{2} - 2 \\, \\mathit{A1}_{z} \\mathit{A2}_{z} + \\mathit{A2}_{z}^{2}\\right)} \\mu^{2} \\omega^{4}}}$"
      ],
      "text/plain": [
       "<IPython.core.display.Math object>"
      ]
     },
     "metadata": {},
     "output_type": "display_data"
    }
   ],
   "source": [
    "display(Math(latex(k_z_sol_subs)))"
   ]
  },
  {
   "cell_type": "code",
   "execution_count": 123,
   "metadata": {},
   "outputs": [],
   "source": [
    "k_z_sol_subs = k_z_sol_subs.subs(K_vacuum_subs).subs(K_conductor_subs).subs(kappa_vacuum_sol).subs(kappa_sol) \\\n",
    "    .subs(A1_z == A1_z_re + I * A1_z_im) \\\n",
    "    .subs(A2_z == A2_z_re + I * A2_z_im)"
   ]
  },
  {
   "cell_type": "code",
   "execution_count": 124,
   "metadata": {},
   "outputs": [
    {
     "data": {
      "text/latex": [
       "$\\displaystyle k_{z} = \\frac{\\sqrt{4 i \\, \\pi c \\mu \\omega \\sigma + \\epsilon \\mu \\omega^{2}} \\omega \\sqrt{\\frac{{\\left({\\left(i \\, \\mathit{A1}_{z_{\\mathit{im}}} + \\mathit{A1}_{z_{\\mathit{re}}}\\right)}^{2} - 2 \\, {\\left(i \\, \\mathit{A1}_{z_{\\mathit{im}}} + \\mathit{A1}_{z_{\\mathit{re}}}\\right)} {\\left(i \\, \\mathit{A2}_{z_{\\mathit{im}}} + \\mathit{A2}_{z_{\\mathit{re}}}\\right)} + {\\left(i \\, \\mathit{A2}_{z_{\\mathit{im}}} + \\mathit{A2}_{z_{\\mathit{re}}}\\right)}^{2}\\right)} \\mu^{2} \\omega^{2} - {\\left(4 i \\, \\pi c \\mu \\omega \\sigma + \\epsilon \\mu \\omega^{2}\\right)} {\\left({\\left(i \\, \\mathit{A1}_{z_{\\mathit{im}}} + \\mathit{A1}_{z_{\\mathit{re}}}\\right)}^{2} + 2 \\, {\\left(i \\, \\mathit{A1}_{z_{\\mathit{im}}} + \\mathit{A1}_{z_{\\mathit{re}}}\\right)} {\\left(i \\, \\mathit{A2}_{z_{\\mathit{im}}} + \\mathit{A2}_{z_{\\mathit{re}}}\\right)} + {\\left(i \\, \\mathit{A2}_{z_{\\mathit{im}}} + \\mathit{A2}_{z_{\\mathit{re}}}\\right)}^{2}\\right)}}{{\\left({\\left(i \\, \\mathit{A1}_{z_{\\mathit{im}}} + \\mathit{A1}_{z_{\\mathit{re}}}\\right)}^{2} - 2 \\, {\\left(i \\, \\mathit{A1}_{z_{\\mathit{im}}} + \\mathit{A1}_{z_{\\mathit{re}}}\\right)} {\\left(i \\, \\mathit{A2}_{z_{\\mathit{im}}} + \\mathit{A2}_{z_{\\mathit{re}}}\\right)} + {\\left(i \\, \\mathit{A2}_{z_{\\mathit{im}}} + \\mathit{A2}_{z_{\\mathit{re}}}\\right)}^{2}\\right)} \\mu^{2} \\omega^{4} - {\\left(4 i \\, \\pi c \\mu \\omega \\sigma + \\epsilon \\mu \\omega^{2}\\right)}^{2} {\\left({\\left(i \\, \\mathit{A1}_{z_{\\mathit{im}}} + \\mathit{A1}_{z_{\\mathit{re}}}\\right)}^{2} + 2 \\, {\\left(i \\, \\mathit{A1}_{z_{\\mathit{im}}} + \\mathit{A1}_{z_{\\mathit{re}}}\\right)} {\\left(i \\, \\mathit{A2}_{z_{\\mathit{im}}} + \\mathit{A2}_{z_{\\mathit{re}}}\\right)} + {\\left(i \\, \\mathit{A2}_{z_{\\mathit{im}}} + \\mathit{A2}_{z_{\\mathit{re}}}\\right)}^{2}\\right)}}}}{c}$"
      ],
      "text/plain": [
       "<IPython.core.display.Math object>"
      ]
     },
     "metadata": {},
     "output_type": "display_data"
    }
   ],
   "source": [
    "display(Math(latex(k_z_sol_subs)))"
   ]
  },
  {
   "cell_type": "code",
   "execution_count": 125,
   "metadata": {},
   "outputs": [
    {
     "data": {
      "text/plain": [
       "(A1_z_im, A1_z_re, A2_z_im, A2_z_re, c, epsilon, mu, omega, sigma)"
      ]
     },
     "execution_count": 125,
     "metadata": {},
     "output_type": "execute_result"
    }
   ],
   "source": [
    "K_vacuum_s = K_vacuum_subs.subs(k_z_sol_subs).subs(kappa_vacuum_sol).subs(kappa_sol)\n",
    "K_vacuum_s.rhs().variables()"
   ]
  },
  {
   "cell_type": "code",
   "execution_count": 126,
   "metadata": {},
   "outputs": [
    {
     "data": {
      "text/plain": [
       "(A1_z_im, A1_z_re, A2_z_im, A2_z_re, c, epsilon, mu, omega, sigma)"
      ]
     },
     "execution_count": 126,
     "metadata": {},
     "output_type": "execute_result"
    }
   ],
   "source": [
    "K_conductor_s = K_conductor_subs.subs(k_z_sol_subs).subs(kappa_vacuum_sol).subs(kappa_sol)\n",
    "K_conductor_s.rhs().variables()"
   ]
  },
  {
   "cell_type": "code",
   "execution_count": 127,
   "metadata": {},
   "outputs": [],
   "source": [
    "#k_z_sol_subs"
   ]
  },
  {
   "cell_type": "code",
   "execution_count": 128,
   "metadata": {},
   "outputs": [
    {
     "data": {
      "text/plain": [
       "(A1_z_im, A1_z_re, A2_z_im, A2_z_re, c, epsilon, mu, omega, sigma)"
      ]
     },
     "execution_count": 128,
     "metadata": {},
     "output_type": "execute_result"
    }
   ],
   "source": [
    "K_vacuum_s = K_vacuum_subs.subs(k_z_sol_subs).subs(kappa_vacuum_sol).subs(kappa_sol) \\\n",
    "    .subs(A1_z == A1_z_re + I * A1_z_im) \\\n",
    "    .subs(A2_z == A2_z_re + I * A2_z_im)\n",
    "\n",
    "K_vacuum_s.rhs().variables()"
   ]
  },
  {
   "cell_type": "code",
   "execution_count": 129,
   "metadata": {},
   "outputs": [
    {
     "data": {
      "text/plain": [
       "(A1_z_im, A1_z_re, A2_z_im, A2_z_re, c, epsilon, mu, omega, sigma)"
      ]
     },
     "execution_count": 129,
     "metadata": {},
     "output_type": "execute_result"
    }
   ],
   "source": [
    "K_conductor_s = K_conductor_subs.subs(k_z_sol_subs).subs(kappa_vacuum_sol).subs(kappa_sol) \\\n",
    "    .subs(A1_z == A1_z_re + I * A1_z_im) \\\n",
    "    .subs(A2_z == A2_z_re + I * A2_z_im)\n",
    "\n",
    "K_conductor_s.rhs().variables()"
   ]
  },
  {
   "cell_type": "code",
   "execution_count": 130,
   "metadata": {},
   "outputs": [],
   "source": [
    "#im00"
   ]
  },
  {
   "cell_type": "code",
   "execution_count": 131,
   "metadata": {},
   "outputs": [],
   "source": [
    "K_vacuum_s_A_re11_im00 = K_vacuum_s.subs(A1_z_re==1,A1_z_im==0).subs(A2_z_re==1,A2_z_im==0)"
   ]
  },
  {
   "cell_type": "code",
   "execution_count": 132,
   "metadata": {},
   "outputs": [],
   "source": [
    "K_vacuum_s_A_re01_im00 = K_vacuum_s.subs(A1_z_re==0,A1_z_im==0).subs(A2_z_re==1,A2_z_im==0)"
   ]
  },
  {
   "cell_type": "code",
   "execution_count": 133,
   "metadata": {},
   "outputs": [],
   "source": [
    "K_vacuum_s_A_re10_im00 = K_vacuum_s.subs(A1_z_re==1,A1_z_im==0).subs(A2_z_re==0,A2_z_im==0)"
   ]
  },
  {
   "cell_type": "code",
   "execution_count": 134,
   "metadata": {},
   "outputs": [],
   "source": [
    "#re00"
   ]
  },
  {
   "cell_type": "code",
   "execution_count": 135,
   "metadata": {},
   "outputs": [],
   "source": [
    "K_vacuum_s_A_re00_im11 = K_vacuum_s.subs(A1_z_re==0,A1_z_im==1).subs(A2_z_re==0,A2_z_im==1)"
   ]
  },
  {
   "cell_type": "code",
   "execution_count": 136,
   "metadata": {},
   "outputs": [],
   "source": [
    "K_vacuum_s_A_re00_im10 = K_vacuum_s.subs(A1_z_re==0,A1_z_im==1).subs(A2_z_re==0,A2_z_im==0)"
   ]
  },
  {
   "cell_type": "code",
   "execution_count": 137,
   "metadata": {},
   "outputs": [],
   "source": [
    "K_vacuum_s_A_re00_im01 = K_vacuum_s.subs(A1_z_re==0,A1_z_im==0).subs(A2_z_re==0,A2_z_im==1)"
   ]
  },
  {
   "cell_type": "code",
   "execution_count": 138,
   "metadata": {},
   "outputs": [],
   "source": [
    "#re11"
   ]
  },
  {
   "cell_type": "code",
   "execution_count": 139,
   "metadata": {},
   "outputs": [],
   "source": [
    "K_vacuum_s_A_re11_im11 = K_vacuum_s.subs(A1_z_re==1,A1_z_im==1).subs(A2_z_re==1,A2_z_im==1)"
   ]
  },
  {
   "cell_type": "code",
   "execution_count": 140,
   "metadata": {},
   "outputs": [],
   "source": [
    "K_vacuum_s_A_re11_im10 = K_vacuum_s.subs(A1_z_re==1,A1_z_im==1).subs(A2_z_re==1,A2_z_im==0)"
   ]
  },
  {
   "cell_type": "code",
   "execution_count": 141,
   "metadata": {},
   "outputs": [],
   "source": [
    "K_vacuum_s_A_re11_im01 = K_vacuum_s.subs(A1_z_re==1,A1_z_im==0).subs(A2_z_re==1,A2_z_im==1)"
   ]
  },
  {
   "cell_type": "code",
   "execution_count": null,
   "metadata": {},
   "outputs": [],
   "source": []
  },
  {
   "cell_type": "code",
   "execution_count": 142,
   "metadata": {},
   "outputs": [],
   "source": [
    "#im00"
   ]
  },
  {
   "cell_type": "code",
   "execution_count": 143,
   "metadata": {},
   "outputs": [],
   "source": [
    "K_conductor_s_A_re11_im00=K_conductor_s.subs(A1_z_re==1,A1_z_im==0,A2_z_re==1,A2_z_im==0)"
   ]
  },
  {
   "cell_type": "code",
   "execution_count": 144,
   "metadata": {},
   "outputs": [],
   "source": [
    "K_conductor_s_A_re01_im00=K_conductor_s.subs(A1_z_re==0,A1_z_im==0,A2_z_re==1,A2_z_im==0)"
   ]
  },
  {
   "cell_type": "code",
   "execution_count": 145,
   "metadata": {},
   "outputs": [],
   "source": [
    "K_conductor_s_A_re10_im00=K_conductor_s.subs(A1_z_re==1,A1_z_im==0,A2_z_re==0,A2_z_im==0)"
   ]
  },
  {
   "cell_type": "code",
   "execution_count": 146,
   "metadata": {},
   "outputs": [],
   "source": [
    "#im11"
   ]
  },
  {
   "cell_type": "code",
   "execution_count": 147,
   "metadata": {},
   "outputs": [],
   "source": [
    "K_conductor_s_A_re00_im11=K_conductor_s.subs(A1_z_re==0,A1_z_im==1,A2_z_re==0,A2_z_im==1)"
   ]
  },
  {
   "cell_type": "code",
   "execution_count": 148,
   "metadata": {},
   "outputs": [],
   "source": [
    "K_conductor_s_A_re10_im11=K_conductor_s.subs(A1_z_re==1,A1_z_im==1,A2_z_re==0,A2_z_im==1)"
   ]
  },
  {
   "cell_type": "code",
   "execution_count": 149,
   "metadata": {},
   "outputs": [],
   "source": [
    "K_conductor_s_A_re01_im11=K_conductor_s.subs(A1_z_re==0,A1_z_im==1,A2_z_re==1,A2_z_im==1)"
   ]
  },
  {
   "cell_type": "code",
   "execution_count": 150,
   "metadata": {},
   "outputs": [],
   "source": [
    "#re11"
   ]
  },
  {
   "cell_type": "code",
   "execution_count": 151,
   "metadata": {},
   "outputs": [],
   "source": [
    "K_conductor_s_A_re11_im11=K_conductor_s.subs(A1_z_re==1,A1_z_im==1,A2_z_re==1,A2_z_im==1)"
   ]
  },
  {
   "cell_type": "code",
   "execution_count": 152,
   "metadata": {},
   "outputs": [],
   "source": [
    "K_conductor_s_A_re11_im10=K_conductor_s.subs(A1_z_re==1,A1_z_im==1,A2_z_re==1,A2_z_im==0)"
   ]
  },
  {
   "cell_type": "code",
   "execution_count": 153,
   "metadata": {},
   "outputs": [],
   "source": [
    "K_conductor_s_A_re11_im01=K_conductor_s.subs(A1_z_re==1,A1_z_im==0,A2_z_re==1,A2_z_im==1)"
   ]
  },
  {
   "cell_type": "code",
   "execution_count": null,
   "metadata": {},
   "outputs": [],
   "source": []
  },
  {
   "cell_type": "code",
   "execution_count": 154,
   "metadata": {},
   "outputs": [
    {
     "data": {
      "text/plain": [
       "[mu == 1, c == 29979245800, sigma == 25, epsilon == 5, a == 0.150000000000000]"
      ]
     },
     "execution_count": 154,
     "metadata": {},
     "output_type": "execute_result"
    }
   ],
   "source": [
    "# sgs\n",
    "A = 0.15\n",
    "kappa_A_max = 13*pi.n()/2\n",
    "s_A_max = 20\n",
    "epsilon_d = 5\n",
    "\n",
    "lambda_d = 632*100*10^-9\n",
    "# 632 nm\n",
    "\n",
    "lambda_d = 632*100*10^-6\n",
    "# 0.632 mm\n",
    "\n",
    "lambda_d = 632*100*10^-4\n",
    "# 63.2 mm\n",
    "# 6.32 sm\n",
    "\n",
    "c_value  = [ c == 299792458 * 100]\n",
    "omega_value = [ omega  == ((2*pi * c)/ lambda_d).subs (c_value) ]\n",
    "digit_values_init = [mu == 1, c == 299792458 * 100, sigma == 25, epsilon == epsilon_d, a == A]\n",
    "digit_values = digit_values_init\n",
    "digit_values"
   ]
  },
  {
   "cell_type": "code",
   "execution_count": 155,
   "metadata": {},
   "outputs": [
    {
     "data": {
      "text/plain": [
       "(A1_z_im, A1_z_re, A2_z_im, A2_z_re, omega)"
      ]
     },
     "execution_count": 155,
     "metadata": {},
     "output_type": "execute_result"
    }
   ],
   "source": [
    "K_vacuum_s_d = K_vacuum_s.subs(digit_values)\n",
    "K_vacuum_s_d.rhs().variables()"
   ]
  },
  {
   "cell_type": "code",
   "execution_count": 156,
   "metadata": {},
   "outputs": [
    {
     "data": {
      "text/plain": [
       "(A1_z_im, A1_z_re, A2_z_im, A2_z_re, omega)"
      ]
     },
     "execution_count": 156,
     "metadata": {},
     "output_type": "execute_result"
    }
   ],
   "source": [
    "K_conductor_s_d = K_conductor_s.subs(digit_values)\n",
    "K_conductor_s_d.rhs().variables()"
   ]
  },
  {
   "cell_type": "code",
   "execution_count": 157,
   "metadata": {},
   "outputs": [],
   "source": [
    "#re11"
   ]
  },
  {
   "cell_type": "code",
   "execution_count": 158,
   "metadata": {},
   "outputs": [
    {
     "data": {
      "text/plain": [
       "K_vacuum == 0"
      ]
     },
     "execution_count": 158,
     "metadata": {},
     "output_type": "execute_result"
    }
   ],
   "source": [
    "K_vacuum_s_A_re11_im00_d = K_vacuum_s_A_re11_im00.subs(digit_values)\n",
    "K_vacuum_s_A_re11_im00_d"
   ]
  },
  {
   "cell_type": "code",
   "execution_count": 159,
   "metadata": {},
   "outputs": [
    {
     "data": {
      "text/plain": [
       "K_vacuum == 1/29979245800*sqrt(20*(-599584916000*I*pi*omega - omega^2)*((2248443435000*I - 2997924580000)*pi*omega + (5*I + 4)*omega^2)*omega^2/(omega^4 + (4*I + 3)*(2997924580000*I*pi*omega + 5*omega^2)^2) + omega^2)"
      ]
     },
     "execution_count": 159,
     "metadata": {},
     "output_type": "execute_result"
    }
   ],
   "source": [
    "K_vacuum_s_A_re11_im10_d = K_vacuum_s_A_re11_im10.subs(digit_values)\n",
    "K_vacuum_s_A_re11_im10_d"
   ]
  },
  {
   "cell_type": "code",
   "execution_count": 160,
   "metadata": {},
   "outputs": [
    {
     "data": {
      "text/plain": [
       "K_vacuum == 1/29979245800*sqrt(20*(-599584916000*I*pi*omega - omega^2)*((2248443435000*I - 2997924580000)*pi*omega + (5*I + 4)*omega^2)*omega^2/(omega^4 + (4*I + 3)*(2997924580000*I*pi*omega + 5*omega^2)^2) + omega^2)"
      ]
     },
     "execution_count": 160,
     "metadata": {},
     "output_type": "execute_result"
    }
   ],
   "source": [
    "K_vacuum_s_A_re11_im01_d = K_vacuum_s_A_re11_im01.subs(digit_values)\n",
    "K_vacuum_s_A_re11_im01_d"
   ]
  },
  {
   "cell_type": "code",
   "execution_count": 161,
   "metadata": {},
   "outputs": [],
   "source": [
    "#re00"
   ]
  },
  {
   "cell_type": "code",
   "execution_count": 162,
   "metadata": {},
   "outputs": [
    {
     "data": {
      "text/plain": [
       "K_vacuum == sqrt(-1/179751035747363528000*(599584916000*I*pi*omega + omega^2)*omega^2/(2997924580000*I*pi*omega + 5*omega^2) + 1/898755178736817640000*omega^2)"
      ]
     },
     "execution_count": 162,
     "metadata": {},
     "output_type": "execute_result"
    }
   ],
   "source": [
    "K_vacuum_s_A_re00_im11_d = K_vacuum_s_A_re00_im11.subs(digit_values)\n",
    "K_vacuum_s_A_re00_im11_d"
   ]
  },
  {
   "cell_type": "code",
   "execution_count": 163,
   "metadata": {},
   "outputs": [
    {
     "data": {
      "text/plain": [
       "K_vacuum == 1/29979245800*sqrt(20*(-599584916000*I*pi*omega - omega^2)*(-749481145000*I*pi*omega - omega^2)*omega^2/(omega^4 - (2997924580000*I*pi*omega + 5*omega^2)^2) + omega^2)"
      ]
     },
     "execution_count": 163,
     "metadata": {},
     "output_type": "execute_result"
    }
   ],
   "source": [
    "K_vacuum_s_A_re00_im10_d = K_vacuum_s_A_re00_im10.subs(digit_values)\n",
    "K_vacuum_s_A_re00_im10_d"
   ]
  },
  {
   "cell_type": "code",
   "execution_count": 164,
   "metadata": {},
   "outputs": [
    {
     "data": {
      "text/plain": [
       "K_vacuum == 1/29979245800*sqrt(20*(-599584916000*I*pi*omega - omega^2)*(-749481145000*I*pi*omega - omega^2)*omega^2/(omega^4 - (2997924580000*I*pi*omega + 5*omega^2)^2) + omega^2)"
      ]
     },
     "execution_count": 164,
     "metadata": {},
     "output_type": "execute_result"
    }
   ],
   "source": [
    "K_vacuum_s_A_re00_im01_d = K_vacuum_s_A_re00_im01.subs(digit_values)\n",
    "K_vacuum_s_A_re00_im01_d"
   ]
  },
  {
   "cell_type": "code",
   "execution_count": 165,
   "metadata": {},
   "outputs": [],
   "source": [
    "#re11"
   ]
  },
  {
   "cell_type": "code",
   "execution_count": 166,
   "metadata": {},
   "outputs": [
    {
     "data": {
      "text/plain": [
       "K_vacuum == sqrt(-1/179751035747363528000*I*(599584916000*pi*omega - I*omega^2)*omega^2/(2997924580000*I*pi*omega + 5*omega^2) + 1/898755178736817640000*omega^2)"
      ]
     },
     "execution_count": 166,
     "metadata": {},
     "output_type": "execute_result"
    }
   ],
   "source": [
    "K_vacuum_s_A_re11_im11_d = K_vacuum_s_A_re11_im11.subs(digit_values)\n",
    "K_vacuum_s_A_re11_im11_d"
   ]
  },
  {
   "cell_type": "code",
   "execution_count": 167,
   "metadata": {},
   "outputs": [
    {
     "data": {
      "text/plain": [
       "K_vacuum == 1/29979245800*sqrt(20*(-599584916000*I*pi*omega - omega^2)*((2248443435000*I - 2997924580000)*pi*omega + (5*I + 4)*omega^2)*omega^2/(omega^4 + (4*I + 3)*(2997924580000*I*pi*omega + 5*omega^2)^2) + omega^2)"
      ]
     },
     "execution_count": 167,
     "metadata": {},
     "output_type": "execute_result"
    }
   ],
   "source": [
    "K_vacuum_s_A_re11_im10_d = K_vacuum_s_A_re11_im10.subs(digit_values)\n",
    "K_vacuum_s_A_re11_im10_d"
   ]
  },
  {
   "cell_type": "code",
   "execution_count": 168,
   "metadata": {},
   "outputs": [
    {
     "data": {
      "text/plain": [
       "K_vacuum == 1/29979245800*sqrt(20*(-599584916000*I*pi*omega - omega^2)*((2248443435000*I - 2997924580000)*pi*omega + (5*I + 4)*omega^2)*omega^2/(omega^4 + (4*I + 3)*(2997924580000*I*pi*omega + 5*omega^2)^2) + omega^2)"
      ]
     },
     "execution_count": 168,
     "metadata": {},
     "output_type": "execute_result"
    }
   ],
   "source": [
    "K_vacuum_s_A_re11_im01_d = K_vacuum_s_A_re11_im01.subs(digit_values)\n",
    "K_vacuum_s_A_re11_im01_d"
   ]
  },
  {
   "cell_type": "code",
   "execution_count": null,
   "metadata": {},
   "outputs": [],
   "source": []
  },
  {
   "cell_type": "code",
   "execution_count": 169,
   "metadata": {},
   "outputs": [],
   "source": [
    "#re11"
   ]
  },
  {
   "cell_type": "code",
   "execution_count": 170,
   "metadata": {},
   "outputs": [
    {
     "data": {
      "text/plain": [
       "K_conductor == sqrt(1/299792458*I*pi*omega + 1/224688794684204410000*omega^2)"
      ]
     },
     "execution_count": 170,
     "metadata": {},
     "output_type": "execute_result"
    }
   ],
   "source": [
    "K_conductor_s_A_re11_im00_d = K_conductor_s_A_re11_im00.subs(digit_values)\n",
    "K_conductor_s_A_re11_im00_d"
   ]
  },
  {
   "cell_type": "code",
   "execution_count": 171,
   "metadata": {},
   "outputs": [
    {
     "data": {
      "text/plain": [
       "K_conductor == 1/5995849160*sqrt(1/5)*sqrt(4*(-599584916000*I*pi*omega - omega^2)*((2248443435000*I - 2997924580000)*pi*omega + (5*I + 4)*omega^2)*omega^2/(omega^4 + (4*I + 3)*(2997924580000*I*pi*omega + 5*omega^2)^2) + 599584916000*I*pi*omega + omega^2)"
      ]
     },
     "execution_count": 171,
     "metadata": {},
     "output_type": "execute_result"
    }
   ],
   "source": [
    "K_conductor_s_A_re11_im10_d = K_conductor_s_A_re11_im10.subs(digit_values)\n",
    "K_conductor_s_A_re11_im10_d"
   ]
  },
  {
   "cell_type": "code",
   "execution_count": 172,
   "metadata": {},
   "outputs": [
    {
     "data": {
      "text/plain": [
       "K_conductor == 1/5995849160*sqrt(1/5)*sqrt(4*(-599584916000*I*pi*omega - omega^2)*((2248443435000*I - 2997924580000)*pi*omega + (5*I + 4)*omega^2)*omega^2/(omega^4 + (4*I + 3)*(2997924580000*I*pi*omega + 5*omega^2)^2) + 599584916000*I*pi*omega + omega^2)"
      ]
     },
     "execution_count": 172,
     "metadata": {},
     "output_type": "execute_result"
    }
   ],
   "source": [
    "K_conductor_s_A_re11_im01_d = K_conductor_s_A_re11_im01.subs(digit_values)\n",
    "K_conductor_s_A_re11_im01_d"
   ]
  },
  {
   "cell_type": "code",
   "execution_count": 173,
   "metadata": {},
   "outputs": [],
   "source": [
    "#im11"
   ]
  },
  {
   "cell_type": "code",
   "execution_count": 174,
   "metadata": {},
   "outputs": [
    {
     "data": {
      "text/plain": [
       "K_conductor == sqrt(1/299792458*I*pi*omega - 1/179751035747363528000*(599584916000*I*pi*omega + omega^2)*omega^2/(2997924580000*I*pi*omega + 5*omega^2) + 1/179751035747363528000*omega^2)"
      ]
     },
     "execution_count": 174,
     "metadata": {},
     "output_type": "execute_result"
    }
   ],
   "source": [
    "K_conductor_s_A_re00_im11_d = K_conductor_s_A_re00_im11.subs(digit_values)\n",
    "K_conductor_s_A_re00_im11_d"
   ]
  },
  {
   "cell_type": "code",
   "execution_count": 175,
   "metadata": {},
   "outputs": [
    {
     "data": {
      "text/plain": [
       "K_conductor == sqrt(-1/44937758936840882000*(-599584916000*I*pi*omega - omega^2)*(-(2248443435000*I + 2997924580000)*pi*omega + (5*I - 4)*omega^2)*omega^2/(omega^4 - (4*I - 3)*(2997924580000*I*pi*omega + 5*omega^2)^2) + 1/299792458*I*pi*omega + 1/179751035747363528000*omega^2)"
      ]
     },
     "execution_count": 175,
     "metadata": {},
     "output_type": "execute_result"
    }
   ],
   "source": [
    "K_conductor_s_A_re10_im11_d = K_conductor_s_A_re10_im11.subs(digit_values)\n",
    "K_conductor_s_A_re10_im11_d"
   ]
  },
  {
   "cell_type": "code",
   "execution_count": 176,
   "metadata": {},
   "outputs": [
    {
     "data": {
      "text/plain": [
       "K_conductor == sqrt(-1/44937758936840882000*(-599584916000*I*pi*omega - omega^2)*(-(2248443435000*I + 2997924580000)*pi*omega + (5*I - 4)*omega^2)*omega^2/(omega^4 - (4*I - 3)*(2997924580000*I*pi*omega + 5*omega^2)^2) + 1/299792458*I*pi*omega + 1/179751035747363528000*omega^2)"
      ]
     },
     "execution_count": 176,
     "metadata": {},
     "output_type": "execute_result"
    }
   ],
   "source": [
    "K_conductor_s_A_re01_im11_d = K_conductor_s_A_re01_im11.subs(digit_values)\n",
    "K_conductor_s_A_re01_im11_d"
   ]
  },
  {
   "cell_type": "code",
   "execution_count": 177,
   "metadata": {},
   "outputs": [],
   "source": [
    "#im00"
   ]
  },
  {
   "cell_type": "code",
   "execution_count": 178,
   "metadata": {},
   "outputs": [
    {
     "data": {
      "text/plain": [
       "K_conductor == sqrt(-1/44937758936840882000*(749481145000*I*pi*omega + omega^2)*(-599584916000*I*pi*omega - omega^2)*omega^2/(omega^4 - (2997924580000*I*pi*omega + 5*omega^2)^2) + 1/299792458*I*pi*omega + 1/179751035747363528000*omega^2)"
      ]
     },
     "execution_count": 178,
     "metadata": {},
     "output_type": "execute_result"
    }
   ],
   "source": [
    "K_conductor_s_A_re10_im00_d = K_conductor_s_A_re10_im00.subs(digit_values)\n",
    "K_conductor_s_A_re10_im00_d"
   ]
  },
  {
   "cell_type": "code",
   "execution_count": 179,
   "metadata": {},
   "outputs": [
    {
     "data": {
      "text/plain": [
       "K_conductor == sqrt(-1/44937758936840882000*(749481145000*I*pi*omega + omega^2)*(-599584916000*I*pi*omega - omega^2)*omega^2/(omega^4 - (2997924580000*I*pi*omega + 5*omega^2)^2) + 1/299792458*I*pi*omega + 1/179751035747363528000*omega^2)"
      ]
     },
     "execution_count": 179,
     "metadata": {},
     "output_type": "execute_result"
    }
   ],
   "source": [
    "K_conductor_s_A_re01_im00_d = K_conductor_s_A_re01_im00.subs(digit_values)\n",
    "K_conductor_s_A_re01_im00_d"
   ]
  },
  {
   "cell_type": "code",
   "execution_count": 180,
   "metadata": {},
   "outputs": [
    {
     "data": {
      "text/plain": [
       "K_conductor == sqrt(-1/44937758936840882000*(749481145000*I*pi*omega + omega^2)*(-599584916000*I*pi*omega - omega^2)*omega^2/(omega^4 - (2997924580000*I*pi*omega + 5*omega^2)^2) + 1/299792458*I*pi*omega + 1/179751035747363528000*omega^2)"
      ]
     },
     "execution_count": 180,
     "metadata": {},
     "output_type": "execute_result"
    }
   ],
   "source": [
    "K_conductor_s_A_re10_im00_d = K_conductor_s_A_re10_im00.subs(digit_values)\n",
    "K_conductor_s_A_re10_im00_d"
   ]
  },
  {
   "cell_type": "code",
   "execution_count": 181,
   "metadata": {},
   "outputs": [],
   "source": [
    "#re11"
   ]
  },
  {
   "cell_type": "code",
   "execution_count": 182,
   "metadata": {},
   "outputs": [
    {
     "data": {
      "text/plain": [
       "K_conductor == sqrt(1/299792458*I*pi*omega - 1/179751035747363528000*I*(599584916000*pi*omega - I*omega^2)*omega^2/(2997924580000*I*pi*omega + 5*omega^2) + 1/179751035747363528000*omega^2)"
      ]
     },
     "execution_count": 182,
     "metadata": {},
     "output_type": "execute_result"
    }
   ],
   "source": [
    "K_conductor_s_A_re11_im11_d = K_conductor_s_A_re11_im11.subs(digit_values)\n",
    "K_conductor_s_A_re11_im11_d"
   ]
  },
  {
   "cell_type": "code",
   "execution_count": null,
   "metadata": {},
   "outputs": [],
   "source": []
  },
  {
   "cell_type": "code",
   "execution_count": 183,
   "metadata": {},
   "outputs": [
    {
     "data": {
      "image/png": "[encoded data removed]",
      "text/plain": [
       "Graphics object consisting of 1 graphics primitive"
      ]
     },
     "execution_count": 183,
     "metadata": {},
     "output_type": "execute_result"
    }
   ],
   "source": [
    "plot(K_vacuum_s_A_re11_im10_d.rhs().real()/omega/pi, (omega, 0, 1e13))"
   ]
  },
  {
   "cell_type": "code",
   "execution_count": 184,
   "metadata": {},
   "outputs": [
    {
     "data": {
      "image/png": "[encoded data removed]",
      "text/plain": [
       "Graphics object consisting of 1 graphics primitive"
      ]
     },
     "execution_count": 184,
     "metadata": {},
     "output_type": "execute_result"
    }
   ],
   "source": [
    "plot(K_vacuum_s_A_re11_im10_d.rhs().imag()/omega/pi, (omega, 0, 1e13))"
   ]
  },
  {
   "cell_type": "code",
   "execution_count": 185,
   "metadata": {},
   "outputs": [
    {
     "data": {
      "image/png": "[encoded data removed]",
      "text/plain": [
       "Graphics object consisting of 1 graphics primitive"
      ]
     },
     "execution_count": 185,
     "metadata": {},
     "output_type": "execute_result"
    }
   ],
   "source": [
    "plot(K_vacuum_s_A_re11_im10_d.rhs().abs()/omega/pi, (omega, 0, 1e13))"
   ]
  },
  {
   "cell_type": "code",
   "execution_count": null,
   "metadata": {},
   "outputs": [],
   "source": []
  },
  {
   "cell_type": "code",
   "execution_count": 186,
   "metadata": {},
   "outputs": [
    {
     "data": {
      "image/png": "[encoded data removed]",
      "text/plain": [
       "Graphics object consisting of 1 graphics primitive"
      ]
     },
     "execution_count": 186,
     "metadata": {},
     "output_type": "execute_result"
    }
   ],
   "source": [
    "plot(K_vacuum_s_A_re11_im11_d.rhs().abs()/omega/pi, (omega, 0, 1e13))"
   ]
  },
  {
   "cell_type": "code",
   "execution_count": 187,
   "metadata": {},
   "outputs": [
    {
     "data": {
      "image/png": "[encoded data removed]",
      "text/plain": [
       "Graphics object consisting of 1 graphics primitive"
      ]
     },
     "execution_count": 187,
     "metadata": {},
     "output_type": "execute_result"
    }
   ],
   "source": [
    "plot(K_vacuum_s_A_re00_im11_d.rhs().abs()/omega/pi, (omega, 0, 1e13))"
   ]
  },
  {
   "cell_type": "raw",
   "metadata": {},
   "source": [
    "i_sol_sys_eqEz_0 = 0\n",
    "A1_z_subs = [sol_sys_eqEz_0[i_sol_sys_eqEz_0][j].lhs() == \\\n",
    "            (sol_sys_eqEz_0[i_sol_sys_eqEz_0][j].rhs() \\\n",
    "             .subs(cot_a_re_k == cos(a_re_k)/sin(a_re_k))).n() \\\n",
    "             for j in range(len(sol_sys_eqEz_0[i_sol_sys_eqEz_0]))]"
   ]
  },
  {
   "cell_type": "raw",
   "metadata": {
    "scrolled": true
   },
   "source": [
    "A1_z_subs"
   ]
  },
  {
   "cell_type": "code",
   "execution_count": 188,
   "metadata": {},
   "outputs": [
    {
     "name": "stdout",
     "output_type": "stream",
     "text": [
      "[mu == 1, c == 29979245800, sigma == 25, epsilon == 5, a == 0.150000000000000, omega == 749481145000/79*pi]\n"
     ]
    }
   ],
   "source": [
    "digit_values = digit_values_init\n",
    "digit_values += omega_value\n",
    "#digit_values += A1_z_subs\n",
    "print (digit_values)"
   ]
  },
  {
   "cell_type": "code",
   "execution_count": 189,
   "metadata": {},
   "outputs": [
    {
     "data": {
      "text/plain": [
       "[k_y == 0]"
      ]
     },
     "execution_count": 189,
     "metadata": {},
     "output_type": "execute_result"
    }
   ],
   "source": [
    "# отсутсвие изменения поля вдоль оси y\n",
    "k_y0_subs = [k_y == 0]\n",
    "\n",
    "#            A1_y_im == 0, \\\n",
    "#            A1_y_re == 0, \\\n",
    "#            A2_y_im == 0, \\\n",
    "#            A2_y_re == 0]\n",
    "k_y0_subs"
   ]
  },
  {
   "cell_type": "code",
   "execution_count": 190,
   "metadata": {},
   "outputs": [],
   "source": [
    "K_vacuum_subs_2 = K_vacuum_subs.subs(kappa_vacuum_sol)#.subs(k_z_sol_subs)"
   ]
  },
  {
   "cell_type": "code",
   "execution_count": 191,
   "metadata": {},
   "outputs": [],
   "source": [
    "K_conductor_subs_2 = K_conductor_subs.subs(kappa_sol)#.subs(k_z_sol_subs)"
   ]
  },
  {
   "cell_type": "code",
   "execution_count": 192,
   "metadata": {},
   "outputs": [],
   "source": [
    "K_vacuum_subs_3 = K_vacuum_subs.subs(kappa_vacuum_sol)#.subs(k_z_sol_subs).subs(digit_values)"
   ]
  },
  {
   "cell_type": "code",
   "execution_count": 193,
   "metadata": {},
   "outputs": [],
   "source": [
    "K_conductor_subs_3 = K_conductor_subs.subs(kappa_sol)#.subs(k_z_sol_subs).subs(digit_values)"
   ]
  },
  {
   "cell_type": "code",
   "execution_count": 194,
   "metadata": {},
   "outputs": [],
   "source": [
    "# граничные условия на границе идеального проводника и вакуума внутри резонатора\n",
    "# тангенциальная компонента электрического поля"
   ]
  },
  {
   "cell_type": "code",
   "execution_count": 195,
   "metadata": {},
   "outputs": [],
   "source": [
    "eqEz_0_re_d = eqEz_0_re.subs(K_vacuum_subs_3)#.subs(a == A)\n",
    "eqEz_0_im_d = eqEz_0_im.subs(K_vacuum_subs_3)#.subs(a == A)"
   ]
  },
  {
   "cell_type": "code",
   "execution_count": 196,
   "metadata": {},
   "outputs": [],
   "source": [
    "eqEy_0_re_d = eqEy_0_re.subs(K_vacuum_subs_3)#.subs(a == A)\n",
    "eqEy_0_im_d = eqEy_0_im.subs(K_vacuum_subs_3)#.subs(a == A)"
   ]
  },
  {
   "cell_type": "code",
   "execution_count": 197,
   "metadata": {},
   "outputs": [
    {
     "data": {
      "text/plain": [
       "(A1_z_im, A1_z_re, A2_z_im, A2_z_re, a, c, k_z, omega)"
      ]
     },
     "execution_count": 197,
     "metadata": {},
     "output_type": "execute_result"
    }
   ],
   "source": [
    "eqEz_0_re_d.variables()"
   ]
  },
  {
   "cell_type": "code",
   "execution_count": 198,
   "metadata": {},
   "outputs": [],
   "source": [
    "# тангенциальная компонента напряженности магнитного поля\n",
    "# на границе вакуума внутри резонатора и проводящего металла с потерями"
   ]
  },
  {
   "cell_type": "code",
   "execution_count": 199,
   "metadata": {},
   "outputs": [],
   "source": [
    "eqHy_a_re_d = eqHy_a_re.subs(K_vacuum_subs_3).subs(K_conductor_subs_3)#.subs(digit_values).subs(k_z_sol_subs).subs(digit_values)\n",
    "eqHy_a_im_d = eqHy_a_im.subs(K_vacuum_subs_3).subs(K_conductor_subs_3)#.subs(digit_values).subs(k_z_sol_subs).subs(digit_values)"
   ]
  },
  {
   "cell_type": "code",
   "execution_count": 200,
   "metadata": {},
   "outputs": [],
   "source": [
    "eqHz_a_re_d = eqHz_a_re.subs(K_vacuum_subs_3).subs(K_conductor_subs_3)#.subs(digit_values).subs(k_z_sol_subs).subs(digit_values).subs(k_y0_subs)\n",
    "eqHz_a_im_d = eqHz_a_im.subs(K_vacuum_subs_3).subs(K_conductor_subs_3)#.subs(digit_values).subs(k_z_sol_subs).subs(digit_values).subs(k_y0_subs)"
   ]
  },
  {
   "cell_type": "code",
   "execution_count": 201,
   "metadata": {},
   "outputs": [],
   "source": [
    "# граничные условия на границе идеального проводника и вакуума внутри резонатора\n",
    "# тангенциальная компонента электрического поля"
   ]
  },
  {
   "cell_type": "code",
   "execution_count": 202,
   "metadata": {},
   "outputs": [],
   "source": [
    "eqEz_a_re_d = eqEz_a_re\n",
    "eqEz_a_im_d = eqEz_a_im"
   ]
  },
  {
   "cell_type": "code",
   "execution_count": 203,
   "metadata": {},
   "outputs": [],
   "source": [
    "eqEy_a_re_d = eqEy_a_re\n",
    "eqEy_a_im_d = eqEy_a_im"
   ]
  },
  {
   "cell_type": "code",
   "execution_count": 204,
   "metadata": {},
   "outputs": [],
   "source": [
    "# нормальная компонента индукции магнитного поля\n",
    "# на границе вакуума внутри резонатора и проводящего металла с потерями"
   ]
  },
  {
   "cell_type": "code",
   "execution_count": 205,
   "metadata": {},
   "outputs": [],
   "source": [
    "eqBx_a_re_d = eqBx_a_re.subs(kappa_vacuum_sol)#.subs(k_y0_subs).subs(k_z_sol_subs).subs(digit_values)\n",
    "eqBx_a_im_d = eqBx_a_im.subs(kappa_vacuum_sol)#.subs(k_y0_subs).subs(k_z_sol_subs).subs(digit_values)"
   ]
  },
  {
   "cell_type": "code",
   "execution_count": 206,
   "metadata": {},
   "outputs": [],
   "source": [
    "# нормальная компонента электрического смещения\n",
    "# на границе вакуума внутри резонатора и проводящего металла с потерями"
   ]
  },
  {
   "cell_type": "code",
   "execution_count": 207,
   "metadata": {},
   "outputs": [],
   "source": [
    "eqDx_a_re_d = eqDx_a_re.subs(kappa_vacuum_sol)#.subs(k_z_sol_subs).subs(digit_values)\n",
    "eqDx_a_im_d = eqDx_a_im.subs(kappa_vacuum_sol)#.subs(k_z_sol_subs).subs(digit_values)"
   ]
  },
  {
   "cell_type": "code",
   "execution_count": 208,
   "metadata": {},
   "outputs": [
    {
     "data": {
      "text/plain": [
       "A1_x_im + A2_x_im == B1_x_im*epsilon + 4*pi*B1_x_re*sigma/omega"
      ]
     },
     "execution_count": 208,
     "metadata": {},
     "output_type": "execute_result"
    }
   ],
   "source": [
    "eqEz_0_re\n",
    "eqEz_0_im\n",
    "\n",
    "eqEy_0_re\n",
    "eqEy_0_im\n",
    "\n",
    "eqHy_a_re\n",
    "eqHy_a_im\n",
    "\n",
    "eqHz_a_re\n",
    "eqHz_a_im\n",
    "\n",
    "eqEz_a_re\n",
    "eqEz_a_im\n",
    "\n",
    "eqEy_a_re\n",
    "eqEy_a_im\n",
    "\n",
    "eqBx_a_re\n",
    "eqBx_a_im\n",
    "\n",
    "eqDx_a_re\n",
    "eqDx_a_im"
   ]
  },
  {
   "cell_type": "code",
   "execution_count": 209,
   "metadata": {},
   "outputs": [],
   "source": [
    "def GenerateMatrix(equsys, vars):\n",
    "    A=matrix(SR, [[(equ.lhs() - equ.rhs()).coefficient(v) for v in vars] for equ in equsys])\n",
    "    return A"
   ]
  },
  {
   "cell_type": "code",
   "execution_count": 236,
   "metadata": {},
   "outputs": [],
   "source": [
    "def reduceDependedRows(M):\n",
    "    print (\"\")\n",
    "    print (\"M.nrows()\", M.nrows())\n",
    "    print (\"M.ncols()\", M.ncols())\n",
    "    #print (\"M.rank()\", M.rank())\n",
    "\n",
    "    M_pivot_rows = M.pivot_rows()\n",
    "    print (\"M.pivot_rows() =\", M_pivot_rows)\n",
    "\n",
    "    M_rows = M.rows()\n",
    "    for row in M_rows:\n",
    "        print (\"row =\", row)\n",
    "\n",
    "    reduced_list = []\n",
    "    for r in M_pivot_rows:\n",
    "        print (\"M_rows[\", r, \"] =\")\n",
    "        display(Math(latex(M_rows[r])))\n",
    "        reduced_list.append(M_rows[r])\n",
    "\n",
    "    reduced_M = matrix(SR, len(M_pivot_rows), M.ncols(), reduced_list)\n",
    "    reduced_M_det = reduced_M.det()\n",
    "    print (\"\")\n",
    "    print(\"reduced_M.det() =\", reduced_M_det)\n",
    "    return reduced_M"
   ]
  },
  {
   "cell_type": "code",
   "execution_count": 244,
   "metadata": {},
   "outputs": [],
   "source": [
    "def reduceRows(M, M_pivot_rows):\n",
    "    print (\"\")\n",
    "    print (\"M.nrows()\", M.nrows())\n",
    "    print (\"M.ncols()\", M.ncols())\n",
    "    #print (\"M.rank()\", M.rank())\n",
    "\n",
    "    print (\"M.pivot_rows() =\", M_pivot_rows)\n",
    "\n",
    "    M_rows = M.rows()\n",
    "    for row in M_rows:\n",
    "        print (\"row =\", row)\n",
    "\n",
    "    reduced_list = []\n",
    "    for r in M_pivot_rows:\n",
    "        print (\"M_rows[\", r, \"] =\")\n",
    "        display(Math(latex(M_rows[r])))\n",
    "        reduced_list.append(M_rows[r])\n",
    "\n",
    "    reduced_M = matrix(SR, len(M_pivot_rows), M.ncols(), reduced_list)\n",
    "    #reduced_M_det = reduced_M.det()\n",
    "    print (\"\")\n",
    "    #print(\"reduced_M.det() =\", reduced_M_det)\n",
    "    return reduced_M"
   ]
  },
  {
   "cell_type": "raw",
   "metadata": {},
   "source": [
    "sys_d = [eqEz_0_re_d, eqEz_0_im_d, \\\n",
    "         eqEy_0_re_d, eqEy_0_im_d, \\\n",
    "         eqHy_a_re_d, eqHy_a_im_d, \\\n",
    "         eqHz_a_re_d, eqHz_a_im_d, \\\n",
    "         eqEz_a_re_d, eqEz_a_im_d, \\\n",
    "         eqEy_a_re_d, eqEy_a_im_d, \\\n",
    "         eqBx_a_re_d, eqBx_a_im_d, \\\n",
    "         eqDx_a_re_d, eqDx_a_im_d]\n",
    "\n",
    "# 16 equations"
   ]
  },
  {
   "cell_type": "code",
   "execution_count": 210,
   "metadata": {},
   "outputs": [],
   "source": [
    "sys_d = [eqEz_0_re_d, eqEz_0_im_d, \\\n",
    "         #eqEy_0_re_d, eqEy_0_im_d, \\\n",
    "         eqHy_a_re_d, eqHy_a_im_d, \\\n",
    "         eqHz_a_re_d, eqHz_a_im_d, \\\n",
    "         eqEz_a_re_d, eqEz_a_im_d, \\\n",
    "         eqEy_a_re_d, eqEy_a_im_d, \\\n",
    "         eqBx_a_re_d, eqBx_a_im_d, eqDx_a_re_d, eqDx_a_im_d]\n",
    "\n",
    "# 14 equations"
   ]
  },
  {
   "cell_type": "raw",
   "metadata": {},
   "source": [
    "vars_d = [A1_x_re, A1_x_im, \\\n",
    "          A1_y_re, A1_y_im, \\\n",
    "          A1_z_re, A1_z_im, \\\n",
    "          A2_x_re, A2_x_im, \\\n",
    "          A2_y_re, A2_y_im, \\\n",
    "          A2_z_re, A2_z_im, \\\n",
    "          B1_x_re, B1_x_im, \\\n",
    "          B1_y_re, B1_y_im, \\\n",
    "          B1_z_re, B1_z_im]\n",
    "# 18 variables"
   ]
  },
  {
   "cell_type": "code",
   "execution_count": 211,
   "metadata": {},
   "outputs": [],
   "source": [
    "vars_d = [A1_x_re, A1_x_im, \\\n",
    "          A1_z_re, A1_z_im, \\\n",
    "          A2_x_re, A2_x_im, \\\n",
    "          A2_z_re, A2_z_im, \\\n",
    "          B1_x_re, B1_x_im, \\\n",
    "          B1_y_re, B1_y_im, \\\n",
    "          B1_z_re, B1_z_im]\n",
    "# 14 variables"
   ]
  },
  {
   "cell_type": "code",
   "execution_count": 212,
   "metadata": {},
   "outputs": [],
   "source": [
    "M = GenerateMatrix(sys_d, vars_d)"
   ]
  },
  {
   "cell_type": "code",
   "execution_count": 213,
   "metadata": {},
   "outputs": [
    {
     "data": {
      "text/plain": [
       "(14, 14)"
      ]
     },
     "execution_count": 213,
     "metadata": {},
     "output_type": "execute_result"
    }
   ],
   "source": [
    "M.nrows(), M.ncols()"
   ]
  },
  {
   "cell_type": "code",
   "execution_count": 214,
   "metadata": {},
   "outputs": [
    {
     "data": {
      "text/plain": [
       "(a, c, epsilon, k_y, k_z, mu, omega, sigma)"
      ]
     },
     "execution_count": 214,
     "metadata": {},
     "output_type": "execute_result"
    }
   ],
   "source": [
    "M.variables()"
   ]
  },
  {
   "cell_type": "code",
   "execution_count": 232,
   "metadata": {},
   "outputs": [],
   "source": [
    "M_det = M.det()"
   ]
  },
  {
   "cell_type": "code",
   "execution_count": 233,
   "metadata": {},
   "outputs": [
    {
     "data": {
      "text/plain": [
       "0"
      ]
     },
     "execution_count": 233,
     "metadata": {},
     "output_type": "execute_result"
    }
   ],
   "source": [
    "M_det"
   ]
  },
  {
   "cell_type": "code",
   "execution_count": 216,
   "metadata": {},
   "outputs": [
    {
     "data": {
      "text/latex": [
       "$\\displaystyle \\left(\\begin{array}{rrrrrrrrrrrrrr}\n",
       "0 & 0 & \\cos\\left(a \\sqrt{{\\left| -k_{z}^{2} + \\frac{\\omega^{2}}{c^{2}} \\right|}} \\cos\\left(\\frac{1}{2} \\, \\arctan\\left(-2 \\, \\Im \\left( k_{z} \\right) \\Re \\left( k_{z} \\right), \\Im \\left( k_{z} \\right)^{2} - \\Re \\left( k_{z} \\right)^{2} + \\frac{\\omega^{2}}{c^{2}}\\right)\\right)\\right) e^{\\left(-a \\sqrt{{\\left| -k_{z}^{2} + \\frac{\\omega^{2}}{c^{2}} \\right|}} \\sin\\left(\\frac{1}{2} \\, \\arctan\\left(-2 \\, \\Im \\left( k_{z} \\right) \\Re \\left( k_{z} \\right), \\Im \\left( k_{z} \\right)^{2} - \\Re \\left( k_{z} \\right)^{2} + \\frac{\\omega^{2}}{c^{2}}\\right)\\right)\\right)} & -e^{\\left(-a \\sqrt{{\\left| -k_{z}^{2} + \\frac{\\omega^{2}}{c^{2}} \\right|}} \\sin\\left(\\frac{1}{2} \\, \\arctan\\left(-2 \\, \\Im \\left( k_{z} \\right) \\Re \\left( k_{z} \\right), \\Im \\left( k_{z} \\right)^{2} - \\Re \\left( k_{z} \\right)^{2} + \\frac{\\omega^{2}}{c^{2}}\\right)\\right)\\right)} \\sin\\left(a \\sqrt{{\\left| -k_{z}^{2} + \\frac{\\omega^{2}}{c^{2}} \\right|}} \\cos\\left(\\frac{1}{2} \\, \\arctan\\left(-2 \\, \\Im \\left( k_{z} \\right) \\Re \\left( k_{z} \\right), \\Im \\left( k_{z} \\right)^{2} - \\Re \\left( k_{z} \\right)^{2} + \\frac{\\omega^{2}}{c^{2}}\\right)\\right)\\right) & 0 & 0 & \\cos\\left(-a \\sqrt{{\\left| -k_{z}^{2} + \\frac{\\omega^{2}}{c^{2}} \\right|}} \\cos\\left(\\frac{1}{2} \\, \\arctan\\left(-2 \\, \\Im \\left( k_{z} \\right) \\Re \\left( k_{z} \\right), \\Im \\left( k_{z} \\right)^{2} - \\Re \\left( k_{z} \\right)^{2} + \\frac{\\omega^{2}}{c^{2}}\\right)\\right)\\right) e^{\\left(a \\sqrt{{\\left| -k_{z}^{2} + \\frac{\\omega^{2}}{c^{2}} \\right|}} \\sin\\left(\\frac{1}{2} \\, \\arctan\\left(-2 \\, \\Im \\left( k_{z} \\right) \\Re \\left( k_{z} \\right), \\Im \\left( k_{z} \\right)^{2} - \\Re \\left( k_{z} \\right)^{2} + \\frac{\\omega^{2}}{c^{2}}\\right)\\right)\\right)} & -e^{\\left(a \\sqrt{{\\left| -k_{z}^{2} + \\frac{\\omega^{2}}{c^{2}} \\right|}} \\sin\\left(\\frac{1}{2} \\, \\arctan\\left(-2 \\, \\Im \\left( k_{z} \\right) \\Re \\left( k_{z} \\right), \\Im \\left( k_{z} \\right)^{2} - \\Re \\left( k_{z} \\right)^{2} + \\frac{\\omega^{2}}{c^{2}}\\right)\\right)\\right)} \\sin\\left(-a \\sqrt{{\\left| -k_{z}^{2} + \\frac{\\omega^{2}}{c^{2}} \\right|}} \\cos\\left(\\frac{1}{2} \\, \\arctan\\left(-2 \\, \\Im \\left( k_{z} \\right) \\Re \\left( k_{z} \\right), \\Im \\left( k_{z} \\right)^{2} - \\Re \\left( k_{z} \\right)^{2} + \\frac{\\omega^{2}}{c^{2}}\\right)\\right)\\right) & 0 & 0 & 0 & 0 & 0 & 0 \\\\\n",
       "0 & 0 & e^{\\left(-a \\sqrt{{\\left| -k_{z}^{2} + \\frac{\\omega^{2}}{c^{2}} \\right|}} \\sin\\left(\\frac{1}{2} \\, \\arctan\\left(-2 \\, \\Im \\left( k_{z} \\right) \\Re \\left( k_{z} \\right), \\Im \\left( k_{z} \\right)^{2} - \\Re \\left( k_{z} \\right)^{2} + \\frac{\\omega^{2}}{c^{2}}\\right)\\right)\\right)} \\sin\\left(a \\sqrt{{\\left| -k_{z}^{2} + \\frac{\\omega^{2}}{c^{2}} \\right|}} \\cos\\left(\\frac{1}{2} \\, \\arctan\\left(-2 \\, \\Im \\left( k_{z} \\right) \\Re \\left( k_{z} \\right), \\Im \\left( k_{z} \\right)^{2} - \\Re \\left( k_{z} \\right)^{2} + \\frac{\\omega^{2}}{c^{2}}\\right)\\right)\\right) & \\cos\\left(a \\sqrt{{\\left| -k_{z}^{2} + \\frac{\\omega^{2}}{c^{2}} \\right|}} \\cos\\left(\\frac{1}{2} \\, \\arctan\\left(-2 \\, \\Im \\left( k_{z} \\right) \\Re \\left( k_{z} \\right), \\Im \\left( k_{z} \\right)^{2} - \\Re \\left( k_{z} \\right)^{2} + \\frac{\\omega^{2}}{c^{2}}\\right)\\right)\\right) e^{\\left(-a \\sqrt{{\\left| -k_{z}^{2} + \\frac{\\omega^{2}}{c^{2}} \\right|}} \\sin\\left(\\frac{1}{2} \\, \\arctan\\left(-2 \\, \\Im \\left( k_{z} \\right) \\Re \\left( k_{z} \\right), \\Im \\left( k_{z} \\right)^{2} - \\Re \\left( k_{z} \\right)^{2} + \\frac{\\omega^{2}}{c^{2}}\\right)\\right)\\right)} & 0 & 0 & e^{\\left(a \\sqrt{{\\left| -k_{z}^{2} + \\frac{\\omega^{2}}{c^{2}} \\right|}} \\sin\\left(\\frac{1}{2} \\, \\arctan\\left(-2 \\, \\Im \\left( k_{z} \\right) \\Re \\left( k_{z} \\right), \\Im \\left( k_{z} \\right)^{2} - \\Re \\left( k_{z} \\right)^{2} + \\frac{\\omega^{2}}{c^{2}}\\right)\\right)\\right)} \\sin\\left(-a \\sqrt{{\\left| -k_{z}^{2} + \\frac{\\omega^{2}}{c^{2}} \\right|}} \\cos\\left(\\frac{1}{2} \\, \\arctan\\left(-2 \\, \\Im \\left( k_{z} \\right) \\Re \\left( k_{z} \\right), \\Im \\left( k_{z} \\right)^{2} - \\Re \\left( k_{z} \\right)^{2} + \\frac{\\omega^{2}}{c^{2}}\\right)\\right)\\right) & \\cos\\left(-a \\sqrt{{\\left| -k_{z}^{2} + \\frac{\\omega^{2}}{c^{2}} \\right|}} \\cos\\left(\\frac{1}{2} \\, \\arctan\\left(-2 \\, \\Im \\left( k_{z} \\right) \\Re \\left( k_{z} \\right), \\Im \\left( k_{z} \\right)^{2} - \\Re \\left( k_{z} \\right)^{2} + \\frac{\\omega^{2}}{c^{2}}\\right)\\right)\\right) e^{\\left(a \\sqrt{{\\left| -k_{z}^{2} + \\frac{\\omega^{2}}{c^{2}} \\right|}} \\sin\\left(\\frac{1}{2} \\, \\arctan\\left(-2 \\, \\Im \\left( k_{z} \\right) \\Re \\left( k_{z} \\right), \\Im \\left( k_{z} \\right)^{2} - \\Re \\left( k_{z} \\right)^{2} + \\frac{\\omega^{2}}{c^{2}}\\right)\\right)\\right)} & 0 & 0 & 0 & 0 & 0 & 0 \\\\\n",
       "-\\frac{c \\Re \\left( k_{z} \\right)}{\\omega} & \\frac{c \\Im \\left( k_{z} \\right)}{\\omega} & -\\frac{c \\sqrt{{\\left| -k_{z}^{2} + \\frac{\\omega^{2}}{c^{2}} \\right|}} \\cos\\left(\\frac{1}{2} \\, \\arctan\\left(-2 \\, \\Im \\left( k_{z} \\right) \\Re \\left( k_{z} \\right), \\Im \\left( k_{z} \\right)^{2} - \\Re \\left( k_{z} \\right)^{2} + \\frac{\\omega^{2}}{c^{2}}\\right)\\right)}{\\omega} & \\frac{c \\sqrt{{\\left| -k_{z}^{2} + \\frac{\\omega^{2}}{c^{2}} \\right|}} \\sin\\left(\\frac{1}{2} \\, \\arctan\\left(-2 \\, \\Im \\left( k_{z} \\right) \\Re \\left( k_{z} \\right), \\Im \\left( k_{z} \\right)^{2} - \\Re \\left( k_{z} \\right)^{2} + \\frac{\\omega^{2}}{c^{2}}\\right)\\right)}{\\omega} & -\\frac{c \\Re \\left( k_{z} \\right)}{\\omega} & \\frac{c \\Im \\left( k_{z} \\right)}{\\omega} & \\frac{c \\sqrt{{\\left| -k_{z}^{2} + \\frac{\\omega^{2}}{c^{2}} \\right|}} \\cos\\left(\\frac{1}{2} \\, \\arctan\\left(-2 \\, \\Im \\left( k_{z} \\right) \\Re \\left( k_{z} \\right), \\Im \\left( k_{z} \\right)^{2} - \\Re \\left( k_{z} \\right)^{2} + \\frac{\\omega^{2}}{c^{2}}\\right)\\right)}{\\omega} & -\\frac{c \\sqrt{{\\left| -k_{z}^{2} + \\frac{\\omega^{2}}{c^{2}} \\right|}} \\sin\\left(\\frac{1}{2} \\, \\arctan\\left(-2 \\, \\Im \\left( k_{z} \\right) \\Re \\left( k_{z} \\right), \\Im \\left( k_{z} \\right)^{2} - \\Re \\left( k_{z} \\right)^{2} + \\frac{\\omega^{2}}{c^{2}}\\right)\\right)}{\\omega} & \\frac{c \\Re \\left( k_{z} \\right)}{\\mu \\omega} & -\\frac{c \\Im \\left( k_{z} \\right)}{\\mu \\omega} & 0 & 0 & -\\frac{c \\sqrt{{\\left| \\frac{4 i \\, \\pi \\mu \\omega \\sigma}{c} - k_{z}^{2} + \\frac{\\epsilon \\mu \\omega^{2}}{c^{2}} \\right|}} \\cos\\left(\\frac{1}{2} \\, \\arctan\\left(\\frac{4 \\, \\pi \\mu \\omega \\sigma}{c} - 2 \\, \\Im \\left( k_{z} \\right) \\Re \\left( k_{z} \\right), \\frac{\\epsilon \\mu \\omega^{2}}{c^{2}} + \\Im \\left( k_{z} \\right)^{2} - \\Re \\left( k_{z} \\right)^{2}\\right)\\right)}{\\mu \\omega} & \\frac{c \\sqrt{{\\left| \\frac{4 i \\, \\pi \\mu \\omega \\sigma}{c} - k_{z}^{2} + \\frac{\\epsilon \\mu \\omega^{2}}{c^{2}} \\right|}} \\sin\\left(\\frac{1}{2} \\, \\arctan\\left(\\frac{4 \\, \\pi \\mu \\omega \\sigma}{c} - 2 \\, \\Im \\left( k_{z} \\right) \\Re \\left( k_{z} \\right), \\frac{\\epsilon \\mu \\omega^{2}}{c^{2}} + \\Im \\left( k_{z} \\right)^{2} - \\Re \\left( k_{z} \\right)^{2}\\right)\\right)}{\\mu \\omega} \\\\\n",
       "-\\frac{c \\Im \\left( k_{z} \\right)}{\\omega} & -\\frac{c \\Re \\left( k_{z} \\right)}{\\omega} & -\\frac{c \\sqrt{{\\left| -k_{z}^{2} + \\frac{\\omega^{2}}{c^{2}} \\right|}} \\sin\\left(\\frac{1}{2} \\, \\arctan\\left(-2 \\, \\Im \\left( k_{z} \\right) \\Re \\left( k_{z} \\right), \\Im \\left( k_{z} \\right)^{2} - \\Re \\left( k_{z} \\right)^{2} + \\frac{\\omega^{2}}{c^{2}}\\right)\\right)}{\\omega} & -\\frac{c \\sqrt{{\\left| -k_{z}^{2} + \\frac{\\omega^{2}}{c^{2}} \\right|}} \\cos\\left(\\frac{1}{2} \\, \\arctan\\left(-2 \\, \\Im \\left( k_{z} \\right) \\Re \\left( k_{z} \\right), \\Im \\left( k_{z} \\right)^{2} - \\Re \\left( k_{z} \\right)^{2} + \\frac{\\omega^{2}}{c^{2}}\\right)\\right)}{\\omega} & -\\frac{c \\Im \\left( k_{z} \\right)}{\\omega} & -\\frac{c \\Re \\left( k_{z} \\right)}{\\omega} & \\frac{c \\sqrt{{\\left| -k_{z}^{2} + \\frac{\\omega^{2}}{c^{2}} \\right|}} \\sin\\left(\\frac{1}{2} \\, \\arctan\\left(-2 \\, \\Im \\left( k_{z} \\right) \\Re \\left( k_{z} \\right), \\Im \\left( k_{z} \\right)^{2} - \\Re \\left( k_{z} \\right)^{2} + \\frac{\\omega^{2}}{c^{2}}\\right)\\right)}{\\omega} & \\frac{c \\sqrt{{\\left| -k_{z}^{2} + \\frac{\\omega^{2}}{c^{2}} \\right|}} \\cos\\left(\\frac{1}{2} \\, \\arctan\\left(-2 \\, \\Im \\left( k_{z} \\right) \\Re \\left( k_{z} \\right), \\Im \\left( k_{z} \\right)^{2} - \\Re \\left( k_{z} \\right)^{2} + \\frac{\\omega^{2}}{c^{2}}\\right)\\right)}{\\omega} & \\frac{c \\Im \\left( k_{z} \\right)}{\\mu \\omega} & \\frac{c \\Re \\left( k_{z} \\right)}{\\mu \\omega} & 0 & 0 & -\\frac{c \\sqrt{{\\left| \\frac{4 i \\, \\pi \\mu \\omega \\sigma}{c} - k_{z}^{2} + \\frac{\\epsilon \\mu \\omega^{2}}{c^{2}} \\right|}} \\sin\\left(\\frac{1}{2} \\, \\arctan\\left(\\frac{4 \\, \\pi \\mu \\omega \\sigma}{c} - 2 \\, \\Im \\left( k_{z} \\right) \\Re \\left( k_{z} \\right), \\frac{\\epsilon \\mu \\omega^{2}}{c^{2}} + \\Im \\left( k_{z} \\right)^{2} - \\Re \\left( k_{z} \\right)^{2}\\right)\\right)}{\\mu \\omega} & -\\frac{c \\sqrt{{\\left| \\frac{4 i \\, \\pi \\mu \\omega \\sigma}{c} - k_{z}^{2} + \\frac{\\epsilon \\mu \\omega^{2}}{c^{2}} \\right|}} \\cos\\left(\\frac{1}{2} \\, \\arctan\\left(\\frac{4 \\, \\pi \\mu \\omega \\sigma}{c} - 2 \\, \\Im \\left( k_{z} \\right) \\Re \\left( k_{z} \\right), \\frac{\\epsilon \\mu \\omega^{2}}{c^{2}} + \\Im \\left( k_{z} \\right)^{2} - \\Re \\left( k_{z} \\right)^{2}\\right)\\right)}{\\mu \\omega} \\\\\n",
       "\\frac{c \\Re \\left( k_{y} \\right)}{\\omega} & -\\frac{c \\Im \\left( k_{y} \\right)}{\\omega} & 0 & 0 & \\frac{c \\Re \\left( k_{y} \\right)}{\\omega} & -\\frac{c \\Im \\left( k_{y} \\right)}{\\omega} & 0 & 0 & -\\frac{c \\Re \\left( k_{y} \\right)}{\\mu \\omega} & \\frac{c \\Im \\left( k_{y} \\right)}{\\mu \\omega} & \\frac{c \\sqrt{{\\left| \\frac{4 i \\, \\pi \\mu \\omega \\sigma}{c} - k_{z}^{2} + \\frac{\\epsilon \\mu \\omega^{2}}{c^{2}} \\right|}} \\cos\\left(\\frac{1}{2} \\, \\arctan\\left(\\frac{4 \\, \\pi \\mu \\omega \\sigma}{c} - 2 \\, \\Im \\left( k_{z} \\right) \\Re \\left( k_{z} \\right), \\frac{\\epsilon \\mu \\omega^{2}}{c^{2}} + \\Im \\left( k_{z} \\right)^{2} - \\Re \\left( k_{z} \\right)^{2}\\right)\\right)}{\\mu \\omega} & -\\frac{c \\sqrt{{\\left| \\frac{4 i \\, \\pi \\mu \\omega \\sigma}{c} - k_{z}^{2} + \\frac{\\epsilon \\mu \\omega^{2}}{c^{2}} \\right|}} \\sin\\left(\\frac{1}{2} \\, \\arctan\\left(\\frac{4 \\, \\pi \\mu \\omega \\sigma}{c} - 2 \\, \\Im \\left( k_{z} \\right) \\Re \\left( k_{z} \\right), \\frac{\\epsilon \\mu \\omega^{2}}{c^{2}} + \\Im \\left( k_{z} \\right)^{2} - \\Re \\left( k_{z} \\right)^{2}\\right)\\right)}{\\mu \\omega} & 0 & 0 \\\\\n",
       "\\frac{c \\Im \\left( k_{y} \\right)}{\\omega} & \\frac{c \\Re \\left( k_{y} \\right)}{\\omega} & 0 & 0 & \\frac{c \\Im \\left( k_{y} \\right)}{\\omega} & \\frac{c \\Re \\left( k_{y} \\right)}{\\omega} & 0 & 0 & -\\frac{c \\Im \\left( k_{y} \\right)}{\\mu \\omega} & -\\frac{c \\Re \\left( k_{y} \\right)}{\\mu \\omega} & \\frac{c \\sqrt{{\\left| \\frac{4 i \\, \\pi \\mu \\omega \\sigma}{c} - k_{z}^{2} + \\frac{\\epsilon \\mu \\omega^{2}}{c^{2}} \\right|}} \\sin\\left(\\frac{1}{2} \\, \\arctan\\left(\\frac{4 \\, \\pi \\mu \\omega \\sigma}{c} - 2 \\, \\Im \\left( k_{z} \\right) \\Re \\left( k_{z} \\right), \\frac{\\epsilon \\mu \\omega^{2}}{c^{2}} + \\Im \\left( k_{z} \\right)^{2} - \\Re \\left( k_{z} \\right)^{2}\\right)\\right)}{\\mu \\omega} & \\frac{c \\sqrt{{\\left| \\frac{4 i \\, \\pi \\mu \\omega \\sigma}{c} - k_{z}^{2} + \\frac{\\epsilon \\mu \\omega^{2}}{c^{2}} \\right|}} \\cos\\left(\\frac{1}{2} \\, \\arctan\\left(\\frac{4 \\, \\pi \\mu \\omega \\sigma}{c} - 2 \\, \\Im \\left( k_{z} \\right) \\Re \\left( k_{z} \\right), \\frac{\\epsilon \\mu \\omega^{2}}{c^{2}} + \\Im \\left( k_{z} \\right)^{2} - \\Re \\left( k_{z} \\right)^{2}\\right)\\right)}{\\mu \\omega} & 0 & 0 \\\\\n",
       "0 & 0 & -1 & 0 & 0 & 0 & -1 & 0 & 0 & 0 & 0 & 0 & 1 & 0 \\\\\n",
       "0 & 0 & 0 & -1 & 0 & 0 & 0 & -1 & 0 & 0 & 0 & 0 & 0 & 1 \\\\\n",
       "0 & 0 & 0 & 0 & 0 & 0 & 0 & 0 & 0 & 0 & 1 & 0 & 0 & 0 \\\\\n",
       "0 & 0 & 0 & 0 & 0 & 0 & 0 & 0 & 0 & 0 & 0 & 1 & 0 & 0 \\\\\n",
       "0 & 0 & -\\frac{c \\Re \\left( k_{y} \\right)}{\\omega} & \\frac{c \\Im \\left( k_{y} \\right)}{\\omega} & 0 & 0 & -\\frac{c \\Re \\left( k_{y} \\right)}{\\omega} & \\frac{c \\Im \\left( k_{y} \\right)}{\\omega} & 0 & 0 & -\\frac{c \\Re \\left( k_{z} \\right)}{\\omega} & \\frac{c \\Im \\left( k_{z} \\right)}{\\omega} & \\frac{c \\Re \\left( k_{y} \\right)}{\\omega} & -\\frac{c \\Im \\left( k_{y} \\right)}{\\omega} \\\\\n",
       "0 & 0 & -\\frac{c \\Im \\left( k_{y} \\right)}{\\omega} & -\\frac{c \\Re \\left( k_{y} \\right)}{\\omega} & 0 & 0 & -\\frac{c \\Im \\left( k_{y} \\right)}{\\omega} & -\\frac{c \\Re \\left( k_{y} \\right)}{\\omega} & 0 & 0 & -\\frac{c \\Im \\left( k_{z} \\right)}{\\omega} & -\\frac{c \\Re \\left( k_{z} \\right)}{\\omega} & \\frac{c \\Im \\left( k_{y} \\right)}{\\omega} & \\frac{c \\Re \\left( k_{y} \\right)}{\\omega} \\\\\n",
       "1 & 0 & 0 & 0 & 1 & 0 & 0 & 0 & -\\epsilon & \\frac{4 \\, \\pi \\sigma}{\\omega} & 0 & 0 & 0 & 0 \\\\\n",
       "0 & 1 & 0 & 0 & 0 & 1 & 0 & 0 & -\\frac{4 \\, \\pi \\sigma}{\\omega} & -\\epsilon & 0 & 0 & 0 & 0\n",
       "\\end{array}\\right)$"
      ],
      "text/plain": [
       "<IPython.core.display.Math object>"
      ]
     },
     "metadata": {},
     "output_type": "display_data"
    }
   ],
   "source": [
    "display(Math(latex(M)))"
   ]
  },
  {
   "cell_type": "code",
   "execution_count": 245,
   "metadata": {},
   "outputs": [
    {
     "name": "stdout",
     "output_type": "stream",
     "text": [
      "\n",
      "M.nrows() 14\n",
      "M.ncols() 14\n",
      "M.pivot_rows() = (0, 2, 4, 6, 7, 9, 11, 13)\n",
      "row = (0, 0, cos(a*sqrt(abs(-k_z^2 + omega^2/c^2))*cos(1/2*arctan2(-2*imag_part(k_z)*real_part(k_z), imag_part(k_z)^2 - real_part(k_z)^2 + omega^2/c^2)))*e^(-a*sqrt(abs(-k_z^2 + omega^2/c^2))*sin(1/2*arctan2(-2*imag_part(k_z)*real_part(k_z), imag_part(k_z)^2 - real_part(k_z)^2 + omega^2/c^2))), -e^(-a*sqrt(abs(-k_z^2 + omega^2/c^2))*sin(1/2*arctan2(-2*imag_part(k_z)*real_part(k_z), imag_part(k_z)^2 - real_part(k_z)^2 + omega^2/c^2)))*sin(a*sqrt(abs(-k_z^2 + omega^2/c^2))*cos(1/2*arctan2(-2*imag_part(k_z)*real_part(k_z), imag_part(k_z)^2 - real_part(k_z)^2 + omega^2/c^2))), 0, 0, cos(-a*sqrt(abs(-k_z^2 + omega^2/c^2))*cos(1/2*arctan2(-2*imag_part(k_z)*real_part(k_z), imag_part(k_z)^2 - real_part(k_z)^2 + omega^2/c^2)))*e^(a*sqrt(abs(-k_z^2 + omega^2/c^2))*sin(1/2*arctan2(-2*imag_part(k_z)*real_part(k_z), imag_part(k_z)^2 - real_part(k_z)^2 + omega^2/c^2))), -e^(a*sqrt(abs(-k_z^2 + omega^2/c^2))*sin(1/2*arctan2(-2*imag_part(k_z)*real_part(k_z), imag_part(k_z)^2 - real_part(k_z)^2 + omega^2/c^2)))*sin(-a*sqrt(abs(-k_z^2 + omega^2/c^2))*cos(1/2*arctan2(-2*imag_part(k_z)*real_part(k_z), imag_part(k_z)^2 - real_part(k_z)^2 + omega^2/c^2))), 0, 0, 0, 0, 0, 0)\n",
      "row = (0, 0, e^(-a*sqrt(abs(-k_z^2 + omega^2/c^2))*sin(1/2*arctan2(-2*imag_part(k_z)*real_part(k_z), imag_part(k_z)^2 - real_part(k_z)^2 + omega^2/c^2)))*sin(a*sqrt(abs(-k_z^2 + omega^2/c^2))*cos(1/2*arctan2(-2*imag_part(k_z)*real_part(k_z), imag_part(k_z)^2 - real_part(k_z)^2 + omega^2/c^2))), cos(a*sqrt(abs(-k_z^2 + omega^2/c^2))*cos(1/2*arctan2(-2*imag_part(k_z)*real_part(k_z), imag_part(k_z)^2 - real_part(k_z)^2 + omega^2/c^2)))*e^(-a*sqrt(abs(-k_z^2 + omega^2/c^2))*sin(1/2*arctan2(-2*imag_part(k_z)*real_part(k_z), imag_part(k_z)^2 - real_part(k_z)^2 + omega^2/c^2))), 0, 0, e^(a*sqrt(abs(-k_z^2 + omega^2/c^2))*sin(1/2*arctan2(-2*imag_part(k_z)*real_part(k_z), imag_part(k_z)^2 - real_part(k_z)^2 + omega^2/c^2)))*sin(-a*sqrt(abs(-k_z^2 + omega^2/c^2))*cos(1/2*arctan2(-2*imag_part(k_z)*real_part(k_z), imag_part(k_z)^2 - real_part(k_z)^2 + omega^2/c^2))), cos(-a*sqrt(abs(-k_z^2 + omega^2/c^2))*cos(1/2*arctan2(-2*imag_part(k_z)*real_part(k_z), imag_part(k_z)^2 - real_part(k_z)^2 + omega^2/c^2)))*e^(a*sqrt(abs(-k_z^2 + omega^2/c^2))*sin(1/2*arctan2(-2*imag_part(k_z)*real_part(k_z), imag_part(k_z)^2 - real_part(k_z)^2 + omega^2/c^2))), 0, 0, 0, 0, 0, 0)\n",
      "row = (-c*real_part(k_z)/omega, c*imag_part(k_z)/omega, -c*sqrt(abs(-k_z^2 + omega^2/c^2))*cos(1/2*arctan2(-2*imag_part(k_z)*real_part(k_z), imag_part(k_z)^2 - real_part(k_z)^2 + omega^2/c^2))/omega, c*sqrt(abs(-k_z^2 + omega^2/c^2))*sin(1/2*arctan2(-2*imag_part(k_z)*real_part(k_z), imag_part(k_z)^2 - real_part(k_z)^2 + omega^2/c^2))/omega, -c*real_part(k_z)/omega, c*imag_part(k_z)/omega, c*sqrt(abs(-k_z^2 + omega^2/c^2))*cos(1/2*arctan2(-2*imag_part(k_z)*real_part(k_z), imag_part(k_z)^2 - real_part(k_z)^2 + omega^2/c^2))/omega, -c*sqrt(abs(-k_z^2 + omega^2/c^2))*sin(1/2*arctan2(-2*imag_part(k_z)*real_part(k_z), imag_part(k_z)^2 - real_part(k_z)^2 + omega^2/c^2))/omega, c*real_part(k_z)/(mu*omega), -c*imag_part(k_z)/(mu*omega), 0, 0, -c*sqrt(abs(4*I*pi*mu*omega*sigma/c - k_z^2 + epsilon*mu*omega^2/c^2))*cos(1/2*arctan2(4*pi*mu*omega*sigma/c - 2*imag_part(k_z)*real_part(k_z), epsilon*mu*omega^2/c^2 + imag_part(k_z)^2 - real_part(k_z)^2))/(mu*omega), c*sqrt(abs(4*I*pi*mu*omega*sigma/c - k_z^2 + epsilon*mu*omega^2/c^2))*sin(1/2*arctan2(4*pi*mu*omega*sigma/c - 2*imag_part(k_z)*real_part(k_z), epsilon*mu*omega^2/c^2 + imag_part(k_z)^2 - real_part(k_z)^2))/(mu*omega))\n",
      "row = (-c*imag_part(k_z)/omega, -c*real_part(k_z)/omega, -c*sqrt(abs(-k_z^2 + omega^2/c^2))*sin(1/2*arctan2(-2*imag_part(k_z)*real_part(k_z), imag_part(k_z)^2 - real_part(k_z)^2 + omega^2/c^2))/omega, -c*sqrt(abs(-k_z^2 + omega^2/c^2))*cos(1/2*arctan2(-2*imag_part(k_z)*real_part(k_z), imag_part(k_z)^2 - real_part(k_z)^2 + omega^2/c^2))/omega, -c*imag_part(k_z)/omega, -c*real_part(k_z)/omega, c*sqrt(abs(-k_z^2 + omega^2/c^2))*sin(1/2*arctan2(-2*imag_part(k_z)*real_part(k_z), imag_part(k_z)^2 - real_part(k_z)^2 + omega^2/c^2))/omega, c*sqrt(abs(-k_z^2 + omega^2/c^2))*cos(1/2*arctan2(-2*imag_part(k_z)*real_part(k_z), imag_part(k_z)^2 - real_part(k_z)^2 + omega^2/c^2))/omega, c*imag_part(k_z)/(mu*omega), c*real_part(k_z)/(mu*omega), 0, 0, -c*sqrt(abs(4*I*pi*mu*omega*sigma/c - k_z^2 + epsilon*mu*omega^2/c^2))*sin(1/2*arctan2(4*pi*mu*omega*sigma/c - 2*imag_part(k_z)*real_part(k_z), epsilon*mu*omega^2/c^2 + imag_part(k_z)^2 - real_part(k_z)^2))/(mu*omega), -c*sqrt(abs(4*I*pi*mu*omega*sigma/c - k_z^2 + epsilon*mu*omega^2/c^2))*cos(1/2*arctan2(4*pi*mu*omega*sigma/c - 2*imag_part(k_z)*real_part(k_z), epsilon*mu*omega^2/c^2 + imag_part(k_z)^2 - real_part(k_z)^2))/(mu*omega))\n",
      "row = (c*real_part(k_y)/omega, -c*imag_part(k_y)/omega, 0, 0, c*real_part(k_y)/omega, -c*imag_part(k_y)/omega, 0, 0, -c*real_part(k_y)/(mu*omega), c*imag_part(k_y)/(mu*omega), c*sqrt(abs(4*I*pi*mu*omega*sigma/c - k_z^2 + epsilon*mu*omega^2/c^2))*cos(1/2*arctan2(4*pi*mu*omega*sigma/c - 2*imag_part(k_z)*real_part(k_z), epsilon*mu*omega^2/c^2 + imag_part(k_z)^2 - real_part(k_z)^2))/(mu*omega), -c*sqrt(abs(4*I*pi*mu*omega*sigma/c - k_z^2 + epsilon*mu*omega^2/c^2))*sin(1/2*arctan2(4*pi*mu*omega*sigma/c - 2*imag_part(k_z)*real_part(k_z), epsilon*mu*omega^2/c^2 + imag_part(k_z)^2 - real_part(k_z)^2))/(mu*omega), 0, 0)\n",
      "row = (c*imag_part(k_y)/omega, c*real_part(k_y)/omega, 0, 0, c*imag_part(k_y)/omega, c*real_part(k_y)/omega, 0, 0, -c*imag_part(k_y)/(mu*omega), -c*real_part(k_y)/(mu*omega), c*sqrt(abs(4*I*pi*mu*omega*sigma/c - k_z^2 + epsilon*mu*omega^2/c^2))*sin(1/2*arctan2(4*pi*mu*omega*sigma/c - 2*imag_part(k_z)*real_part(k_z), epsilon*mu*omega^2/c^2 + imag_part(k_z)^2 - real_part(k_z)^2))/(mu*omega), c*sqrt(abs(4*I*pi*mu*omega*sigma/c - k_z^2 + epsilon*mu*omega^2/c^2))*cos(1/2*arctan2(4*pi*mu*omega*sigma/c - 2*imag_part(k_z)*real_part(k_z), epsilon*mu*omega^2/c^2 + imag_part(k_z)^2 - real_part(k_z)^2))/(mu*omega), 0, 0)\n",
      "row = (0, 0, -1, 0, 0, 0, -1, 0, 0, 0, 0, 0, 1, 0)\n",
      "row = (0, 0, 0, -1, 0, 0, 0, -1, 0, 0, 0, 0, 0, 1)\n",
      "row = (0, 0, 0, 0, 0, 0, 0, 0, 0, 0, 1, 0, 0, 0)\n",
      "row = (0, 0, 0, 0, 0, 0, 0, 0, 0, 0, 0, 1, 0, 0)\n",
      "row = (0, 0, -c*real_part(k_y)/omega, c*imag_part(k_y)/omega, 0, 0, -c*real_part(k_y)/omega, c*imag_part(k_y)/omega, 0, 0, -c*real_part(k_z)/omega, c*imag_part(k_z)/omega, c*real_part(k_y)/omega, -c*imag_part(k_y)/omega)\n",
      "row = (0, 0, -c*imag_part(k_y)/omega, -c*real_part(k_y)/omega, 0, 0, -c*imag_part(k_y)/omega, -c*real_part(k_y)/omega, 0, 0, -c*imag_part(k_z)/omega, -c*real_part(k_z)/omega, c*imag_part(k_y)/omega, c*real_part(k_y)/omega)\n",
      "row = (1, 0, 0, 0, 1, 0, 0, 0, -epsilon, 4*pi*sigma/omega, 0, 0, 0, 0)\n",
      "row = (0, 1, 0, 0, 0, 1, 0, 0, -4*pi*sigma/omega, -epsilon, 0, 0, 0, 0)\n",
      "M_rows[ 0 ] =\n"
     ]
    },
    {
     "data": {
      "text/latex": [
       "$\\displaystyle \\left(0,\\,0,\\,\\cos\\left(a \\sqrt{{\\left| -k_{z}^{2} + \\frac{\\omega^{2}}{c^{2}} \\right|}} \\cos\\left(\\frac{1}{2} \\, \\arctan\\left(-2 \\, \\Im \\left( k_{z} \\right) \\Re \\left( k_{z} \\right), \\Im \\left( k_{z} \\right)^{2} - \\Re \\left( k_{z} \\right)^{2} + \\frac{\\omega^{2}}{c^{2}}\\right)\\right)\\right) e^{\\left(-a \\sqrt{{\\left| -k_{z}^{2} + \\frac{\\omega^{2}}{c^{2}} \\right|}} \\sin\\left(\\frac{1}{2} \\, \\arctan\\left(-2 \\, \\Im \\left( k_{z} \\right) \\Re \\left( k_{z} \\right), \\Im \\left( k_{z} \\right)^{2} - \\Re \\left( k_{z} \\right)^{2} + \\frac{\\omega^{2}}{c^{2}}\\right)\\right)\\right)},\\,-e^{\\left(-a \\sqrt{{\\left| -k_{z}^{2} + \\frac{\\omega^{2}}{c^{2}} \\right|}} \\sin\\left(\\frac{1}{2} \\, \\arctan\\left(-2 \\, \\Im \\left( k_{z} \\right) \\Re \\left( k_{z} \\right), \\Im \\left( k_{z} \\right)^{2} - \\Re \\left( k_{z} \\right)^{2} + \\frac{\\omega^{2}}{c^{2}}\\right)\\right)\\right)} \\sin\\left(a \\sqrt{{\\left| -k_{z}^{2} + \\frac{\\omega^{2}}{c^{2}} \\right|}} \\cos\\left(\\frac{1}{2} \\, \\arctan\\left(-2 \\, \\Im \\left( k_{z} \\right) \\Re \\left( k_{z} \\right), \\Im \\left( k_{z} \\right)^{2} - \\Re \\left( k_{z} \\right)^{2} + \\frac{\\omega^{2}}{c^{2}}\\right)\\right)\\right),\\,0,\\,0,\\,\\cos\\left(-a \\sqrt{{\\left| -k_{z}^{2} + \\frac{\\omega^{2}}{c^{2}} \\right|}} \\cos\\left(\\frac{1}{2} \\, \\arctan\\left(-2 \\, \\Im \\left( k_{z} \\right) \\Re \\left( k_{z} \\right), \\Im \\left( k_{z} \\right)^{2} - \\Re \\left( k_{z} \\right)^{2} + \\frac{\\omega^{2}}{c^{2}}\\right)\\right)\\right) e^{\\left(a \\sqrt{{\\left| -k_{z}^{2} + \\frac{\\omega^{2}}{c^{2}} \\right|}} \\sin\\left(\\frac{1}{2} \\, \\arctan\\left(-2 \\, \\Im \\left( k_{z} \\right) \\Re \\left( k_{z} \\right), \\Im \\left( k_{z} \\right)^{2} - \\Re \\left( k_{z} \\right)^{2} + \\frac{\\omega^{2}}{c^{2}}\\right)\\right)\\right)},\\,-e^{\\left(a \\sqrt{{\\left| -k_{z}^{2} + \\frac{\\omega^{2}}{c^{2}} \\right|}} \\sin\\left(\\frac{1}{2} \\, \\arctan\\left(-2 \\, \\Im \\left( k_{z} \\right) \\Re \\left( k_{z} \\right), \\Im \\left( k_{z} \\right)^{2} - \\Re \\left( k_{z} \\right)^{2} + \\frac{\\omega^{2}}{c^{2}}\\right)\\right)\\right)} \\sin\\left(-a \\sqrt{{\\left| -k_{z}^{2} + \\frac{\\omega^{2}}{c^{2}} \\right|}} \\cos\\left(\\frac{1}{2} \\, \\arctan\\left(-2 \\, \\Im \\left( k_{z} \\right) \\Re \\left( k_{z} \\right), \\Im \\left( k_{z} \\right)^{2} - \\Re \\left( k_{z} \\right)^{2} + \\frac{\\omega^{2}}{c^{2}}\\right)\\right)\\right),\\,0,\\,0,\\,0,\\,0,\\,0,\\,0\\right)$"
      ],
      "text/plain": [
       "<IPython.core.display.Math object>"
      ]
     },
     "metadata": {},
     "output_type": "display_data"
    },
    {
     "name": "stdout",
     "output_type": "stream",
     "text": [
      "M_rows[ 2 ] =\n"
     ]
    },
    {
     "data": {
      "text/latex": [
       "$\\displaystyle \\left(-\\frac{c \\Re \\left( k_{z} \\right)}{\\omega},\\,\\frac{c \\Im \\left( k_{z} \\right)}{\\omega},\\,-\\frac{c \\sqrt{{\\left| -k_{z}^{2} + \\frac{\\omega^{2}}{c^{2}} \\right|}} \\cos\\left(\\frac{1}{2} \\, \\arctan\\left(-2 \\, \\Im \\left( k_{z} \\right) \\Re \\left( k_{z} \\right), \\Im \\left( k_{z} \\right)^{2} - \\Re \\left( k_{z} \\right)^{2} + \\frac{\\omega^{2}}{c^{2}}\\right)\\right)}{\\omega},\\,\\frac{c \\sqrt{{\\left| -k_{z}^{2} + \\frac{\\omega^{2}}{c^{2}} \\right|}} \\sin\\left(\\frac{1}{2} \\, \\arctan\\left(-2 \\, \\Im \\left( k_{z} \\right) \\Re \\left( k_{z} \\right), \\Im \\left( k_{z} \\right)^{2} - \\Re \\left( k_{z} \\right)^{2} + \\frac{\\omega^{2}}{c^{2}}\\right)\\right)}{\\omega},\\,-\\frac{c \\Re \\left( k_{z} \\right)}{\\omega},\\,\\frac{c \\Im \\left( k_{z} \\right)}{\\omega},\\,\\frac{c \\sqrt{{\\left| -k_{z}^{2} + \\frac{\\omega^{2}}{c^{2}} \\right|}} \\cos\\left(\\frac{1}{2} \\, \\arctan\\left(-2 \\, \\Im \\left( k_{z} \\right) \\Re \\left( k_{z} \\right), \\Im \\left( k_{z} \\right)^{2} - \\Re \\left( k_{z} \\right)^{2} + \\frac{\\omega^{2}}{c^{2}}\\right)\\right)}{\\omega},\\,-\\frac{c \\sqrt{{\\left| -k_{z}^{2} + \\frac{\\omega^{2}}{c^{2}} \\right|}} \\sin\\left(\\frac{1}{2} \\, \\arctan\\left(-2 \\, \\Im \\left( k_{z} \\right) \\Re \\left( k_{z} \\right), \\Im \\left( k_{z} \\right)^{2} - \\Re \\left( k_{z} \\right)^{2} + \\frac{\\omega^{2}}{c^{2}}\\right)\\right)}{\\omega},\\,\\frac{c \\Re \\left( k_{z} \\right)}{\\mu \\omega},\\,-\\frac{c \\Im \\left( k_{z} \\right)}{\\mu \\omega},\\,0,\\,0,\\,-\\frac{c \\sqrt{{\\left| \\frac{4 i \\, \\pi \\mu \\omega \\sigma}{c} - k_{z}^{2} + \\frac{\\epsilon \\mu \\omega^{2}}{c^{2}} \\right|}} \\cos\\left(\\frac{1}{2} \\, \\arctan\\left(\\frac{4 \\, \\pi \\mu \\omega \\sigma}{c} - 2 \\, \\Im \\left( k_{z} \\right) \\Re \\left( k_{z} \\right), \\frac{\\epsilon \\mu \\omega^{2}}{c^{2}} + \\Im \\left( k_{z} \\right)^{2} - \\Re \\left( k_{z} \\right)^{2}\\right)\\right)}{\\mu \\omega},\\,\\frac{c \\sqrt{{\\left| \\frac{4 i \\, \\pi \\mu \\omega \\sigma}{c} - k_{z}^{2} + \\frac{\\epsilon \\mu \\omega^{2}}{c^{2}} \\right|}} \\sin\\left(\\frac{1}{2} \\, \\arctan\\left(\\frac{4 \\, \\pi \\mu \\omega \\sigma}{c} - 2 \\, \\Im \\left( k_{z} \\right) \\Re \\left( k_{z} \\right), \\frac{\\epsilon \\mu \\omega^{2}}{c^{2}} + \\Im \\left( k_{z} \\right)^{2} - \\Re \\left( k_{z} \\right)^{2}\\right)\\right)}{\\mu \\omega}\\right)$"
      ],
      "text/plain": [
       "<IPython.core.display.Math object>"
      ]
     },
     "metadata": {},
     "output_type": "display_data"
    },
    {
     "name": "stdout",
     "output_type": "stream",
     "text": [
      "M_rows[ 4 ] =\n"
     ]
    },
    {
     "data": {
      "text/latex": [
       "$\\displaystyle \\left(\\frac{c \\Re \\left( k_{y} \\right)}{\\omega},\\,-\\frac{c \\Im \\left( k_{y} \\right)}{\\omega},\\,0,\\,0,\\,\\frac{c \\Re \\left( k_{y} \\right)}{\\omega},\\,-\\frac{c \\Im \\left( k_{y} \\right)}{\\omega},\\,0,\\,0,\\,-\\frac{c \\Re \\left( k_{y} \\right)}{\\mu \\omega},\\,\\frac{c \\Im \\left( k_{y} \\right)}{\\mu \\omega},\\,\\frac{c \\sqrt{{\\left| \\frac{4 i \\, \\pi \\mu \\omega \\sigma}{c} - k_{z}^{2} + \\frac{\\epsilon \\mu \\omega^{2}}{c^{2}} \\right|}} \\cos\\left(\\frac{1}{2} \\, \\arctan\\left(\\frac{4 \\, \\pi \\mu \\omega \\sigma}{c} - 2 \\, \\Im \\left( k_{z} \\right) \\Re \\left( k_{z} \\right), \\frac{\\epsilon \\mu \\omega^{2}}{c^{2}} + \\Im \\left( k_{z} \\right)^{2} - \\Re \\left( k_{z} \\right)^{2}\\right)\\right)}{\\mu \\omega},\\,-\\frac{c \\sqrt{{\\left| \\frac{4 i \\, \\pi \\mu \\omega \\sigma}{c} - k_{z}^{2} + \\frac{\\epsilon \\mu \\omega^{2}}{c^{2}} \\right|}} \\sin\\left(\\frac{1}{2} \\, \\arctan\\left(\\frac{4 \\, \\pi \\mu \\omega \\sigma}{c} - 2 \\, \\Im \\left( k_{z} \\right) \\Re \\left( k_{z} \\right), \\frac{\\epsilon \\mu \\omega^{2}}{c^{2}} + \\Im \\left( k_{z} \\right)^{2} - \\Re \\left( k_{z} \\right)^{2}\\right)\\right)}{\\mu \\omega},\\,0,\\,0\\right)$"
      ],
      "text/plain": [
       "<IPython.core.display.Math object>"
      ]
     },
     "metadata": {},
     "output_type": "display_data"
    },
    {
     "name": "stdout",
     "output_type": "stream",
     "text": [
      "M_rows[ 6 ] =\n"
     ]
    },
    {
     "data": {
      "text/latex": [
       "$\\displaystyle \\left(0,\\,0,\\,-1,\\,0,\\,0,\\,0,\\,-1,\\,0,\\,0,\\,0,\\,0,\\,0,\\,1,\\,0\\right)$"
      ],
      "text/plain": [
       "<IPython.core.display.Math object>"
      ]
     },
     "metadata": {},
     "output_type": "display_data"
    },
    {
     "name": "stdout",
     "output_type": "stream",
     "text": [
      "M_rows[ 7 ] =\n"
     ]
    },
    {
     "data": {
      "text/latex": [
       "$\\displaystyle \\left(0,\\,0,\\,0,\\,-1,\\,0,\\,0,\\,0,\\,-1,\\,0,\\,0,\\,0,\\,0,\\,0,\\,1\\right)$"
      ],
      "text/plain": [
       "<IPython.core.display.Math object>"
      ]
     },
     "metadata": {},
     "output_type": "display_data"
    },
    {
     "name": "stdout",
     "output_type": "stream",
     "text": [
      "M_rows[ 9 ] =\n"
     ]
    },
    {
     "data": {
      "text/latex": [
       "$\\displaystyle \\left(0,\\,0,\\,0,\\,0,\\,0,\\,0,\\,0,\\,0,\\,0,\\,0,\\,0,\\,1,\\,0,\\,0\\right)$"
      ],
      "text/plain": [
       "<IPython.core.display.Math object>"
      ]
     },
     "metadata": {},
     "output_type": "display_data"
    },
    {
     "name": "stdout",
     "output_type": "stream",
     "text": [
      "M_rows[ 11 ] =\n"
     ]
    },
    {
     "data": {
      "text/latex": [
       "$\\displaystyle \\left(0,\\,0,\\,-\\frac{c \\Im \\left( k_{y} \\right)}{\\omega},\\,-\\frac{c \\Re \\left( k_{y} \\right)}{\\omega},\\,0,\\,0,\\,-\\frac{c \\Im \\left( k_{y} \\right)}{\\omega},\\,-\\frac{c \\Re \\left( k_{y} \\right)}{\\omega},\\,0,\\,0,\\,-\\frac{c \\Im \\left( k_{z} \\right)}{\\omega},\\,-\\frac{c \\Re \\left( k_{z} \\right)}{\\omega},\\,\\frac{c \\Im \\left( k_{y} \\right)}{\\omega},\\,\\frac{c \\Re \\left( k_{y} \\right)}{\\omega}\\right)$"
      ],
      "text/plain": [
       "<IPython.core.display.Math object>"
      ]
     },
     "metadata": {},
     "output_type": "display_data"
    },
    {
     "name": "stdout",
     "output_type": "stream",
     "text": [
      "M_rows[ 13 ] =\n"
     ]
    },
    {
     "data": {
      "text/latex": [
       "$\\displaystyle \\left(0,\\,1,\\,0,\\,0,\\,0,\\,1,\\,0,\\,0,\\,-\\frac{4 \\, \\pi \\sigma}{\\omega},\\,-\\epsilon,\\,0,\\,0,\\,0,\\,0\\right)$"
      ],
      "text/plain": [
       "<IPython.core.display.Math object>"
      ]
     },
     "metadata": {},
     "output_type": "display_data"
    },
    {
     "name": "stdout",
     "output_type": "stream",
     "text": [
      "\n"
     ]
    }
   ],
   "source": [
    "M_pivot_rows = (0, 2, 4, 6, 7, 9, 11, 13)\n",
    "reduced_M = reduceRows(M, M_pivot_rows)"
   ]
  },
  {
   "cell_type": "code",
   "execution_count": 247,
   "metadata": {},
   "outputs": [],
   "source": [
    "#reduced_M = reduceDependedRows(M)"
   ]
  },
  {
   "cell_type": "code",
   "execution_count": 248,
   "metadata": {},
   "outputs": [],
   "source": [
    "#reduced_M_det = reduced_M.det()"
   ]
  },
  {
   "cell_type": "code",
   "execution_count": 246,
   "metadata": {},
   "outputs": [
    {
     "data": {
      "text/latex": [
       "$\\displaystyle \\left(\\begin{array}{rrrrrrrrrrrrrr}\n",
       "0 & 0 & \\cos\\left(a \\sqrt{{\\left| -k_{z}^{2} + \\frac{\\omega^{2}}{c^{2}} \\right|}} \\cos\\left(\\frac{1}{2} \\, \\arctan\\left(-2 \\, \\Im \\left( k_{z} \\right) \\Re \\left( k_{z} \\right), \\Im \\left( k_{z} \\right)^{2} - \\Re \\left( k_{z} \\right)^{2} + \\frac{\\omega^{2}}{c^{2}}\\right)\\right)\\right) e^{\\left(-a \\sqrt{{\\left| -k_{z}^{2} + \\frac{\\omega^{2}}{c^{2}} \\right|}} \\sin\\left(\\frac{1}{2} \\, \\arctan\\left(-2 \\, \\Im \\left( k_{z} \\right) \\Re \\left( k_{z} \\right), \\Im \\left( k_{z} \\right)^{2} - \\Re \\left( k_{z} \\right)^{2} + \\frac{\\omega^{2}}{c^{2}}\\right)\\right)\\right)} & -e^{\\left(-a \\sqrt{{\\left| -k_{z}^{2} + \\frac{\\omega^{2}}{c^{2}} \\right|}} \\sin\\left(\\frac{1}{2} \\, \\arctan\\left(-2 \\, \\Im \\left( k_{z} \\right) \\Re \\left( k_{z} \\right), \\Im \\left( k_{z} \\right)^{2} - \\Re \\left( k_{z} \\right)^{2} + \\frac{\\omega^{2}}{c^{2}}\\right)\\right)\\right)} \\sin\\left(a \\sqrt{{\\left| -k_{z}^{2} + \\frac{\\omega^{2}}{c^{2}} \\right|}} \\cos\\left(\\frac{1}{2} \\, \\arctan\\left(-2 \\, \\Im \\left( k_{z} \\right) \\Re \\left( k_{z} \\right), \\Im \\left( k_{z} \\right)^{2} - \\Re \\left( k_{z} \\right)^{2} + \\frac{\\omega^{2}}{c^{2}}\\right)\\right)\\right) & 0 & 0 & \\cos\\left(-a \\sqrt{{\\left| -k_{z}^{2} + \\frac{\\omega^{2}}{c^{2}} \\right|}} \\cos\\left(\\frac{1}{2} \\, \\arctan\\left(-2 \\, \\Im \\left( k_{z} \\right) \\Re \\left( k_{z} \\right), \\Im \\left( k_{z} \\right)^{2} - \\Re \\left( k_{z} \\right)^{2} + \\frac{\\omega^{2}}{c^{2}}\\right)\\right)\\right) e^{\\left(a \\sqrt{{\\left| -k_{z}^{2} + \\frac{\\omega^{2}}{c^{2}} \\right|}} \\sin\\left(\\frac{1}{2} \\, \\arctan\\left(-2 \\, \\Im \\left( k_{z} \\right) \\Re \\left( k_{z} \\right), \\Im \\left( k_{z} \\right)^{2} - \\Re \\left( k_{z} \\right)^{2} + \\frac{\\omega^{2}}{c^{2}}\\right)\\right)\\right)} & -e^{\\left(a \\sqrt{{\\left| -k_{z}^{2} + \\frac{\\omega^{2}}{c^{2}} \\right|}} \\sin\\left(\\frac{1}{2} \\, \\arctan\\left(-2 \\, \\Im \\left( k_{z} \\right) \\Re \\left( k_{z} \\right), \\Im \\left( k_{z} \\right)^{2} - \\Re \\left( k_{z} \\right)^{2} + \\frac{\\omega^{2}}{c^{2}}\\right)\\right)\\right)} \\sin\\left(-a \\sqrt{{\\left| -k_{z}^{2} + \\frac{\\omega^{2}}{c^{2}} \\right|}} \\cos\\left(\\frac{1}{2} \\, \\arctan\\left(-2 \\, \\Im \\left( k_{z} \\right) \\Re \\left( k_{z} \\right), \\Im \\left( k_{z} \\right)^{2} - \\Re \\left( k_{z} \\right)^{2} + \\frac{\\omega^{2}}{c^{2}}\\right)\\right)\\right) & 0 & 0 & 0 & 0 & 0 & 0 \\\\\n",
       "-\\frac{c \\Re \\left( k_{z} \\right)}{\\omega} & \\frac{c \\Im \\left( k_{z} \\right)}{\\omega} & -\\frac{c \\sqrt{{\\left| -k_{z}^{2} + \\frac{\\omega^{2}}{c^{2}} \\right|}} \\cos\\left(\\frac{1}{2} \\, \\arctan\\left(-2 \\, \\Im \\left( k_{z} \\right) \\Re \\left( k_{z} \\right), \\Im \\left( k_{z} \\right)^{2} - \\Re \\left( k_{z} \\right)^{2} + \\frac{\\omega^{2}}{c^{2}}\\right)\\right)}{\\omega} & \\frac{c \\sqrt{{\\left| -k_{z}^{2} + \\frac{\\omega^{2}}{c^{2}} \\right|}} \\sin\\left(\\frac{1}{2} \\, \\arctan\\left(-2 \\, \\Im \\left( k_{z} \\right) \\Re \\left( k_{z} \\right), \\Im \\left( k_{z} \\right)^{2} - \\Re \\left( k_{z} \\right)^{2} + \\frac{\\omega^{2}}{c^{2}}\\right)\\right)}{\\omega} & -\\frac{c \\Re \\left( k_{z} \\right)}{\\omega} & \\frac{c \\Im \\left( k_{z} \\right)}{\\omega} & \\frac{c \\sqrt{{\\left| -k_{z}^{2} + \\frac{\\omega^{2}}{c^{2}} \\right|}} \\cos\\left(\\frac{1}{2} \\, \\arctan\\left(-2 \\, \\Im \\left( k_{z} \\right) \\Re \\left( k_{z} \\right), \\Im \\left( k_{z} \\right)^{2} - \\Re \\left( k_{z} \\right)^{2} + \\frac{\\omega^{2}}{c^{2}}\\right)\\right)}{\\omega} & -\\frac{c \\sqrt{{\\left| -k_{z}^{2} + \\frac{\\omega^{2}}{c^{2}} \\right|}} \\sin\\left(\\frac{1}{2} \\, \\arctan\\left(-2 \\, \\Im \\left( k_{z} \\right) \\Re \\left( k_{z} \\right), \\Im \\left( k_{z} \\right)^{2} - \\Re \\left( k_{z} \\right)^{2} + \\frac{\\omega^{2}}{c^{2}}\\right)\\right)}{\\omega} & \\frac{c \\Re \\left( k_{z} \\right)}{\\mu \\omega} & -\\frac{c \\Im \\left( k_{z} \\right)}{\\mu \\omega} & 0 & 0 & -\\frac{c \\sqrt{{\\left| \\frac{4 i \\, \\pi \\mu \\omega \\sigma}{c} - k_{z}^{2} + \\frac{\\epsilon \\mu \\omega^{2}}{c^{2}} \\right|}} \\cos\\left(\\frac{1}{2} \\, \\arctan\\left(\\frac{4 \\, \\pi \\mu \\omega \\sigma}{c} - 2 \\, \\Im \\left( k_{z} \\right) \\Re \\left( k_{z} \\right), \\frac{\\epsilon \\mu \\omega^{2}}{c^{2}} + \\Im \\left( k_{z} \\right)^{2} - \\Re \\left( k_{z} \\right)^{2}\\right)\\right)}{\\mu \\omega} & \\frac{c \\sqrt{{\\left| \\frac{4 i \\, \\pi \\mu \\omega \\sigma}{c} - k_{z}^{2} + \\frac{\\epsilon \\mu \\omega^{2}}{c^{2}} \\right|}} \\sin\\left(\\frac{1}{2} \\, \\arctan\\left(\\frac{4 \\, \\pi \\mu \\omega \\sigma}{c} - 2 \\, \\Im \\left( k_{z} \\right) \\Re \\left( k_{z} \\right), \\frac{\\epsilon \\mu \\omega^{2}}{c^{2}} + \\Im \\left( k_{z} \\right)^{2} - \\Re \\left( k_{z} \\right)^{2}\\right)\\right)}{\\mu \\omega} \\\\\n",
       "\\frac{c \\Re \\left( k_{y} \\right)}{\\omega} & -\\frac{c \\Im \\left( k_{y} \\right)}{\\omega} & 0 & 0 & \\frac{c \\Re \\left( k_{y} \\right)}{\\omega} & -\\frac{c \\Im \\left( k_{y} \\right)}{\\omega} & 0 & 0 & -\\frac{c \\Re \\left( k_{y} \\right)}{\\mu \\omega} & \\frac{c \\Im \\left( k_{y} \\right)}{\\mu \\omega} & \\frac{c \\sqrt{{\\left| \\frac{4 i \\, \\pi \\mu \\omega \\sigma}{c} - k_{z}^{2} + \\frac{\\epsilon \\mu \\omega^{2}}{c^{2}} \\right|}} \\cos\\left(\\frac{1}{2} \\, \\arctan\\left(\\frac{4 \\, \\pi \\mu \\omega \\sigma}{c} - 2 \\, \\Im \\left( k_{z} \\right) \\Re \\left( k_{z} \\right), \\frac{\\epsilon \\mu \\omega^{2}}{c^{2}} + \\Im \\left( k_{z} \\right)^{2} - \\Re \\left( k_{z} \\right)^{2}\\right)\\right)}{\\mu \\omega} & -\\frac{c \\sqrt{{\\left| \\frac{4 i \\, \\pi \\mu \\omega \\sigma}{c} - k_{z}^{2} + \\frac{\\epsilon \\mu \\omega^{2}}{c^{2}} \\right|}} \\sin\\left(\\frac{1}{2} \\, \\arctan\\left(\\frac{4 \\, \\pi \\mu \\omega \\sigma}{c} - 2 \\, \\Im \\left( k_{z} \\right) \\Re \\left( k_{z} \\right), \\frac{\\epsilon \\mu \\omega^{2}}{c^{2}} + \\Im \\left( k_{z} \\right)^{2} - \\Re \\left( k_{z} \\right)^{2}\\right)\\right)}{\\mu \\omega} & 0 & 0 \\\\\n",
       "0 & 0 & -1 & 0 & 0 & 0 & -1 & 0 & 0 & 0 & 0 & 0 & 1 & 0 \\\\\n",
       "0 & 0 & 0 & -1 & 0 & 0 & 0 & -1 & 0 & 0 & 0 & 0 & 0 & 1 \\\\\n",
       "0 & 0 & 0 & 0 & 0 & 0 & 0 & 0 & 0 & 0 & 0 & 1 & 0 & 0 \\\\\n",
       "0 & 0 & -\\frac{c \\Im \\left( k_{y} \\right)}{\\omega} & -\\frac{c \\Re \\left( k_{y} \\right)}{\\omega} & 0 & 0 & -\\frac{c \\Im \\left( k_{y} \\right)}{\\omega} & -\\frac{c \\Re \\left( k_{y} \\right)}{\\omega} & 0 & 0 & -\\frac{c \\Im \\left( k_{z} \\right)}{\\omega} & -\\frac{c \\Re \\left( k_{z} \\right)}{\\omega} & \\frac{c \\Im \\left( k_{y} \\right)}{\\omega} & \\frac{c \\Re \\left( k_{y} \\right)}{\\omega} \\\\\n",
       "0 & 1 & 0 & 0 & 0 & 1 & 0 & 0 & -\\frac{4 \\, \\pi \\sigma}{\\omega} & -\\epsilon & 0 & 0 & 0 & 0\n",
       "\\end{array}\\right)$"
      ],
      "text/plain": [
       "<IPython.core.display.Math object>"
      ]
     },
     "metadata": {},
     "output_type": "display_data"
    }
   ],
   "source": [
    "display(Math(latex(reduced_M)))"
   ]
  },
  {
   "cell_type": "code",
   "execution_count": 269,
   "metadata": {},
   "outputs": [],
   "source": [
    "reduced_sys = [eqEz_0_re_d,\\\n",
    "         eqHy_a_re_d, #eqHy_a_im_d, \\\n",
    "         eqHz_a_re_d, #eqHz_a_im_d, \\\n",
    "         eqEz_a_re_d, #eqEz_a_im_d, \\\n",
    "         #eqEy_a_re_d, #eqBx_a_im_d, \\\n",
    "         eqDx_a_re_d] #eqDx_a_im_d]\n",
    "\n",
    "# 14 equations"
   ]
  },
  {
   "cell_type": "code",
   "execution_count": 270,
   "metadata": {},
   "outputs": [],
   "source": [
    "reduced_vars = [A1_x_re, \\\n",
    "          A1_z_re, \\\n",
    "          #A2_x_re, \\\n",
    "          A2_z_re, \\\n",
    "          B1_x_re, \\\n",
    "          #B1_y_re, \\\n",
    "          B1_z_re ]\n",
    "# 14 variables"
   ]
  },
  {
   "cell_type": "code",
   "execution_count": 271,
   "metadata": {},
   "outputs": [],
   "source": [
    "reduced_M = GenerateMatrix(reduced_sys, reduced_vars)"
   ]
  },
  {
   "cell_type": "code",
   "execution_count": 272,
   "metadata": {},
   "outputs": [
    {
     "data": {
      "text/latex": [
       "$\\displaystyle \\left(\\begin{array}{rrrrr}\n",
       "0 & \\cos\\left(a \\sqrt{{\\left| -k_{z}^{2} + \\frac{\\omega^{2}}{c^{2}} \\right|}} \\cos\\left(\\frac{1}{2} \\, \\arctan\\left(-2 \\, \\Im \\left( k_{z} \\right) \\Re \\left( k_{z} \\right), \\Im \\left( k_{z} \\right)^{2} - \\Re \\left( k_{z} \\right)^{2} + \\frac{\\omega^{2}}{c^{2}}\\right)\\right)\\right) e^{\\left(-a \\sqrt{{\\left| -k_{z}^{2} + \\frac{\\omega^{2}}{c^{2}} \\right|}} \\sin\\left(\\frac{1}{2} \\, \\arctan\\left(-2 \\, \\Im \\left( k_{z} \\right) \\Re \\left( k_{z} \\right), \\Im \\left( k_{z} \\right)^{2} - \\Re \\left( k_{z} \\right)^{2} + \\frac{\\omega^{2}}{c^{2}}\\right)\\right)\\right)} & \\cos\\left(-a \\sqrt{{\\left| -k_{z}^{2} + \\frac{\\omega^{2}}{c^{2}} \\right|}} \\cos\\left(\\frac{1}{2} \\, \\arctan\\left(-2 \\, \\Im \\left( k_{z} \\right) \\Re \\left( k_{z} \\right), \\Im \\left( k_{z} \\right)^{2} - \\Re \\left( k_{z} \\right)^{2} + \\frac{\\omega^{2}}{c^{2}}\\right)\\right)\\right) e^{\\left(a \\sqrt{{\\left| -k_{z}^{2} + \\frac{\\omega^{2}}{c^{2}} \\right|}} \\sin\\left(\\frac{1}{2} \\, \\arctan\\left(-2 \\, \\Im \\left( k_{z} \\right) \\Re \\left( k_{z} \\right), \\Im \\left( k_{z} \\right)^{2} - \\Re \\left( k_{z} \\right)^{2} + \\frac{\\omega^{2}}{c^{2}}\\right)\\right)\\right)} & 0 & 0 \\\\\n",
       "-\\frac{c \\Re \\left( k_{z} \\right)}{\\omega} & -\\frac{c \\sqrt{{\\left| -k_{z}^{2} + \\frac{\\omega^{2}}{c^{2}} \\right|}} \\cos\\left(\\frac{1}{2} \\, \\arctan\\left(-2 \\, \\Im \\left( k_{z} \\right) \\Re \\left( k_{z} \\right), \\Im \\left( k_{z} \\right)^{2} - \\Re \\left( k_{z} \\right)^{2} + \\frac{\\omega^{2}}{c^{2}}\\right)\\right)}{\\omega} & \\frac{c \\sqrt{{\\left| -k_{z}^{2} + \\frac{\\omega^{2}}{c^{2}} \\right|}} \\cos\\left(\\frac{1}{2} \\, \\arctan\\left(-2 \\, \\Im \\left( k_{z} \\right) \\Re \\left( k_{z} \\right), \\Im \\left( k_{z} \\right)^{2} - \\Re \\left( k_{z} \\right)^{2} + \\frac{\\omega^{2}}{c^{2}}\\right)\\right)}{\\omega} & \\frac{c \\Re \\left( k_{z} \\right)}{\\mu \\omega} & -\\frac{c \\sqrt{{\\left| \\frac{4 i \\, \\pi \\mu \\omega \\sigma}{c} - k_{z}^{2} + \\frac{\\epsilon \\mu \\omega^{2}}{c^{2}} \\right|}} \\cos\\left(\\frac{1}{2} \\, \\arctan\\left(\\frac{4 \\, \\pi \\mu \\omega \\sigma}{c} - 2 \\, \\Im \\left( k_{z} \\right) \\Re \\left( k_{z} \\right), \\frac{\\epsilon \\mu \\omega^{2}}{c^{2}} + \\Im \\left( k_{z} \\right)^{2} - \\Re \\left( k_{z} \\right)^{2}\\right)\\right)}{\\mu \\omega} \\\\\n",
       "\\frac{c \\Re \\left( k_{y} \\right)}{\\omega} & 0 & 0 & -\\frac{c \\Re \\left( k_{y} \\right)}{\\mu \\omega} & 0 \\\\\n",
       "0 & -1 & -1 & 0 & 1 \\\\\n",
       "1 & 0 & 0 & -\\epsilon & 0\n",
       "\\end{array}\\right)$"
      ],
      "text/plain": [
       "<IPython.core.display.Math object>"
      ]
     },
     "metadata": {},
     "output_type": "display_data"
    }
   ],
   "source": [
    "display(Math(latex(reduced_M)))"
   ]
  },
  {
   "cell_type": "code",
   "execution_count": 274,
   "metadata": {},
   "outputs": [],
   "source": [
    "reduced_M_det = reduced_M.det()"
   ]
  },
  {
   "cell_type": "code",
   "execution_count": 275,
   "metadata": {},
   "outputs": [
    {
     "data": {
      "text/latex": [
       "$\\displaystyle \\frac{c^{2} \\epsilon k_{y} \\sqrt{{\\left| -k_{z}^{2} + \\frac{\\omega^{2}}{c^{2}} \\right|}} \\cos\\left(a \\sqrt{{\\left| -k_{z}^{2} + \\frac{\\omega^{2}}{c^{2}} \\right|}} \\cos\\left(\\frac{1}{2} \\, \\arctan\\left(2 \\, \\Im \\left( k_{z} \\right) \\Re \\left( k_{z} \\right), \\Im \\left( k_{z} \\right)^{2} - \\Re \\left( k_{z} \\right)^{2} + \\frac{\\omega^{2}}{c^{2}}\\right)\\right)\\right) \\cos\\left(\\frac{1}{2} \\, \\arctan\\left(2 \\, \\Im \\left( k_{z} \\right) \\Re \\left( k_{z} \\right), \\Im \\left( k_{z} \\right)^{2} - \\Re \\left( k_{z} \\right)^{2} + \\frac{\\omega^{2}}{c^{2}}\\right)\\right) e^{\\left(a \\sqrt{{\\left| -k_{z}^{2} + \\frac{\\omega^{2}}{c^{2}} \\right|}} \\sin\\left(\\frac{1}{2} \\, \\arctan\\left(2 \\, \\Im \\left( k_{z} \\right) \\Re \\left( k_{z} \\right), \\Im \\left( k_{z} \\right)^{2} - \\Re \\left( k_{z} \\right)^{2} + \\frac{\\omega^{2}}{c^{2}}\\right)\\right)\\right)}}{\\omega^{2}} + \\frac{c^{2} \\epsilon k_{y} \\sqrt{{\\left| -k_{z}^{2} + \\frac{\\omega^{2}}{c^{2}} \\right|}} \\cos\\left(a \\sqrt{{\\left| -k_{z}^{2} + \\frac{\\omega^{2}}{c^{2}} \\right|}} \\cos\\left(\\frac{1}{2} \\, \\arctan\\left(2 \\, \\Im \\left( k_{z} \\right) \\Re \\left( k_{z} \\right), \\Im \\left( k_{z} \\right)^{2} - \\Re \\left( k_{z} \\right)^{2} + \\frac{\\omega^{2}}{c^{2}}\\right)\\right)\\right) \\cos\\left(\\frac{1}{2} \\, \\arctan\\left(2 \\, \\Im \\left( k_{z} \\right) \\Re \\left( k_{z} \\right), \\Im \\left( k_{z} \\right)^{2} - \\Re \\left( k_{z} \\right)^{2} + \\frac{\\omega^{2}}{c^{2}}\\right)\\right) e^{\\left(-a \\sqrt{{\\left| -k_{z}^{2} + \\frac{\\omega^{2}}{c^{2}} \\right|}} \\sin\\left(\\frac{1}{2} \\, \\arctan\\left(2 \\, \\Im \\left( k_{z} \\right) \\Re \\left( k_{z} \\right), \\Im \\left( k_{z} \\right)^{2} - \\Re \\left( k_{z} \\right)^{2} + \\frac{\\omega^{2}}{c^{2}}\\right)\\right)\\right)}}{\\omega^{2}} - \\frac{c^{2} \\epsilon k_{y} \\sqrt{{\\left| \\frac{4 i \\, \\pi \\mu \\omega \\sigma}{c} - k_{z}^{2} + \\frac{\\epsilon \\mu \\omega^{2}}{c^{2}} \\right|}} \\cos\\left(a \\sqrt{{\\left| -k_{z}^{2} + \\frac{\\omega^{2}}{c^{2}} \\right|}} \\cos\\left(\\frac{1}{2} \\, \\arctan\\left(2 \\, \\Im \\left( k_{z} \\right) \\Re \\left( k_{z} \\right), \\Im \\left( k_{z} \\right)^{2} - \\Re \\left( k_{z} \\right)^{2} + \\frac{\\omega^{2}}{c^{2}}\\right)\\right)\\right) \\cos\\left(\\frac{1}{2} \\, \\arctan\\left(\\frac{4 \\, \\pi \\mu \\omega \\sigma}{c} - 2 \\, \\Im \\left( k_{z} \\right) \\Re \\left( k_{z} \\right), \\frac{\\epsilon \\mu \\omega^{2}}{c^{2}} + \\Im \\left( k_{z} \\right)^{2} - \\Re \\left( k_{z} \\right)^{2}\\right)\\right) e^{\\left(a \\sqrt{{\\left| -k_{z}^{2} + \\frac{\\omega^{2}}{c^{2}} \\right|}} \\sin\\left(\\frac{1}{2} \\, \\arctan\\left(2 \\, \\Im \\left( k_{z} \\right) \\Re \\left( k_{z} \\right), \\Im \\left( k_{z} \\right)^{2} - \\Re \\left( k_{z} \\right)^{2} + \\frac{\\omega^{2}}{c^{2}}\\right)\\right)\\right)}}{\\mu \\omega^{2}} + \\frac{c^{2} \\epsilon k_{y} \\sqrt{{\\left| \\frac{4 i \\, \\pi \\mu \\omega \\sigma}{c} - k_{z}^{2} + \\frac{\\epsilon \\mu \\omega^{2}}{c^{2}} \\right|}} \\cos\\left(a \\sqrt{{\\left| -k_{z}^{2} + \\frac{\\omega^{2}}{c^{2}} \\right|}} \\cos\\left(\\frac{1}{2} \\, \\arctan\\left(2 \\, \\Im \\left( k_{z} \\right) \\Re \\left( k_{z} \\right), \\Im \\left( k_{z} \\right)^{2} - \\Re \\left( k_{z} \\right)^{2} + \\frac{\\omega^{2}}{c^{2}}\\right)\\right)\\right) \\cos\\left(\\frac{1}{2} \\, \\arctan\\left(\\frac{4 \\, \\pi \\mu \\omega \\sigma}{c} - 2 \\, \\Im \\left( k_{z} \\right) \\Re \\left( k_{z} \\right), \\frac{\\epsilon \\mu \\omega^{2}}{c^{2}} + \\Im \\left( k_{z} \\right)^{2} - \\Re \\left( k_{z} \\right)^{2}\\right)\\right) e^{\\left(-a \\sqrt{{\\left| -k_{z}^{2} + \\frac{\\omega^{2}}{c^{2}} \\right|}} \\sin\\left(\\frac{1}{2} \\, \\arctan\\left(2 \\, \\Im \\left( k_{z} \\right) \\Re \\left( k_{z} \\right), \\Im \\left( k_{z} \\right)^{2} - \\Re \\left( k_{z} \\right)^{2} + \\frac{\\omega^{2}}{c^{2}}\\right)\\right)\\right)}}{\\mu \\omega^{2}} - \\frac{c^{2} k_{y} \\sqrt{{\\left| -k_{z}^{2} + \\frac{\\omega^{2}}{c^{2}} \\right|}} \\cos\\left(a \\sqrt{{\\left| -k_{z}^{2} + \\frac{\\omega^{2}}{c^{2}} \\right|}} \\cos\\left(\\frac{1}{2} \\, \\arctan\\left(2 \\, \\Im \\left( k_{z} \\right) \\Re \\left( k_{z} \\right), \\Im \\left( k_{z} \\right)^{2} - \\Re \\left( k_{z} \\right)^{2} + \\frac{\\omega^{2}}{c^{2}}\\right)\\right)\\right) \\cos\\left(\\frac{1}{2} \\, \\arctan\\left(2 \\, \\Im \\left( k_{z} \\right) \\Re \\left( k_{z} \\right), \\Im \\left( k_{z} \\right)^{2} - \\Re \\left( k_{z} \\right)^{2} + \\frac{\\omega^{2}}{c^{2}}\\right)\\right) e^{\\left(a \\sqrt{{\\left| -k_{z}^{2} + \\frac{\\omega^{2}}{c^{2}} \\right|}} \\sin\\left(\\frac{1}{2} \\, \\arctan\\left(2 \\, \\Im \\left( k_{z} \\right) \\Re \\left( k_{z} \\right), \\Im \\left( k_{z} \\right)^{2} - \\Re \\left( k_{z} \\right)^{2} + \\frac{\\omega^{2}}{c^{2}}\\right)\\right)\\right)}}{\\mu \\omega^{2}} - \\frac{c^{2} k_{y} \\sqrt{{\\left| -k_{z}^{2} + \\frac{\\omega^{2}}{c^{2}} \\right|}} \\cos\\left(a \\sqrt{{\\left| -k_{z}^{2} + \\frac{\\omega^{2}}{c^{2}} \\right|}} \\cos\\left(\\frac{1}{2} \\, \\arctan\\left(2 \\, \\Im \\left( k_{z} \\right) \\Re \\left( k_{z} \\right), \\Im \\left( k_{z} \\right)^{2} - \\Re \\left( k_{z} \\right)^{2} + \\frac{\\omega^{2}}{c^{2}}\\right)\\right)\\right) \\cos\\left(\\frac{1}{2} \\, \\arctan\\left(2 \\, \\Im \\left( k_{z} \\right) \\Re \\left( k_{z} \\right), \\Im \\left( k_{z} \\right)^{2} - \\Re \\left( k_{z} \\right)^{2} + \\frac{\\omega^{2}}{c^{2}}\\right)\\right) e^{\\left(-a \\sqrt{{\\left| -k_{z}^{2} + \\frac{\\omega^{2}}{c^{2}} \\right|}} \\sin\\left(\\frac{1}{2} \\, \\arctan\\left(2 \\, \\Im \\left( k_{z} \\right) \\Re \\left( k_{z} \\right), \\Im \\left( k_{z} \\right)^{2} - \\Re \\left( k_{z} \\right)^{2} + \\frac{\\omega^{2}}{c^{2}}\\right)\\right)\\right)}}{\\mu \\omega^{2}} + \\frac{c^{2} k_{y} \\sqrt{{\\left| \\frac{4 i \\, \\pi \\mu \\omega \\sigma}{c} - k_{z}^{2} + \\frac{\\epsilon \\mu \\omega^{2}}{c^{2}} \\right|}} \\cos\\left(a \\sqrt{{\\left| -k_{z}^{2} + \\frac{\\omega^{2}}{c^{2}} \\right|}} \\cos\\left(\\frac{1}{2} \\, \\arctan\\left(2 \\, \\Im \\left( k_{z} \\right) \\Re \\left( k_{z} \\right), \\Im \\left( k_{z} \\right)^{2} - \\Re \\left( k_{z} \\right)^{2} + \\frac{\\omega^{2}}{c^{2}}\\right)\\right)\\right) \\cos\\left(\\frac{1}{2} \\, \\arctan\\left(\\frac{4 \\, \\pi \\mu \\omega \\sigma}{c} - 2 \\, \\Im \\left( k_{z} \\right) \\Re \\left( k_{z} \\right), \\frac{\\epsilon \\mu \\omega^{2}}{c^{2}} + \\Im \\left( k_{z} \\right)^{2} - \\Re \\left( k_{z} \\right)^{2}\\right)\\right) e^{\\left(a \\sqrt{{\\left| -k_{z}^{2} + \\frac{\\omega^{2}}{c^{2}} \\right|}} \\sin\\left(\\frac{1}{2} \\, \\arctan\\left(2 \\, \\Im \\left( k_{z} \\right) \\Re \\left( k_{z} \\right), \\Im \\left( k_{z} \\right)^{2} - \\Re \\left( k_{z} \\right)^{2} + \\frac{\\omega^{2}}{c^{2}}\\right)\\right)\\right)}}{\\mu^{2} \\omega^{2}} - \\frac{c^{2} k_{y} \\sqrt{{\\left| \\frac{4 i \\, \\pi \\mu \\omega \\sigma}{c} - k_{z}^{2} + \\frac{\\epsilon \\mu \\omega^{2}}{c^{2}} \\right|}} \\cos\\left(a \\sqrt{{\\left| -k_{z}^{2} + \\frac{\\omega^{2}}{c^{2}} \\right|}} \\cos\\left(\\frac{1}{2} \\, \\arctan\\left(2 \\, \\Im \\left( k_{z} \\right) \\Re \\left( k_{z} \\right), \\Im \\left( k_{z} \\right)^{2} - \\Re \\left( k_{z} \\right)^{2} + \\frac{\\omega^{2}}{c^{2}}\\right)\\right)\\right) \\cos\\left(\\frac{1}{2} \\, \\arctan\\left(\\frac{4 \\, \\pi \\mu \\omega \\sigma}{c} - 2 \\, \\Im \\left( k_{z} \\right) \\Re \\left( k_{z} \\right), \\frac{\\epsilon \\mu \\omega^{2}}{c^{2}} + \\Im \\left( k_{z} \\right)^{2} - \\Re \\left( k_{z} \\right)^{2}\\right)\\right) e^{\\left(-a \\sqrt{{\\left| -k_{z}^{2} + \\frac{\\omega^{2}}{c^{2}} \\right|}} \\sin\\left(\\frac{1}{2} \\, \\arctan\\left(2 \\, \\Im \\left( k_{z} \\right) \\Re \\left( k_{z} \\right), \\Im \\left( k_{z} \\right)^{2} - \\Re \\left( k_{z} \\right)^{2} + \\frac{\\omega^{2}}{c^{2}}\\right)\\right)\\right)}}{\\mu^{2} \\omega^{2}}$"
      ],
      "text/plain": [
       "<IPython.core.display.Math object>"
      ]
     },
     "metadata": {},
     "output_type": "display_data"
    }
   ],
   "source": [
    "display(Math(latex(reduced_M_det)))"
   ]
  },
  {
   "cell_type": "code",
   "execution_count": 276,
   "metadata": {},
   "outputs": [
    {
     "data": {
      "text/plain": [
       "cos(a*sqrt(abs(-k_z^2 + omega^2/c^2))*cos(1/2*arctan2(-2*imag_part(k_z)*real_part(k_z), imag_part(k_z)^2 - real_part(k_z)^2 + omega^2/c^2)))*e^(-a*sqrt(abs(-k_z^2 + omega^2/c^2))*sin(1/2*arctan2(-2*imag_part(k_z)*real_part(k_z), imag_part(k_z)^2 - real_part(k_z)^2 + omega^2/c^2)))"
      ]
     },
     "execution_count": 276,
     "metadata": {},
     "output_type": "execute_result"
    }
   ],
   "source": [
    "reduced_M[0][1]"
   ]
  },
  {
   "cell_type": "code",
   "execution_count": 277,
   "metadata": {},
   "outputs": [
    {
     "data": {
      "text/plain": [
       "cos(-a*sqrt(abs(-k_z^2 + omega^2/c^2))*cos(1/2*arctan2(-2*imag_part(k_z)*real_part(k_z), imag_part(k_z)^2 - real_part(k_z)^2 + omega^2/c^2)))*e^(a*sqrt(abs(-k_z^2 + omega^2/c^2))*sin(1/2*arctan2(-2*imag_part(k_z)*real_part(k_z), imag_part(k_z)^2 - real_part(k_z)^2 + omega^2/c^2)))"
      ]
     },
     "execution_count": 277,
     "metadata": {},
     "output_type": "execute_result"
    }
   ],
   "source": [
    "reduced_M[0][2]"
   ]
  },
  {
   "cell_type": "code",
   "execution_count": 281,
   "metadata": {},
   "outputs": [],
   "source": [
    "m = e^(a*sqrt(abs(-k_z^2 + omega^2/c^2))*sin(1/2*arctan2(-2*imag_part(k_z)*real_part(k_z), imag_part(k_z)^2 - real_part(k_z)^2 + omega^2/c^2)))"
   ]
  },
  {
   "cell_type": "code",
   "execution_count": 283,
   "metadata": {},
   "outputs": [
    {
     "data": {
      "text/plain": [
       "cos(a*sqrt(abs(-c^2*k_z^2 + omega^2))*cos(1/2*arctan2(2*imag_part(k_z)*real_part(k_z), (c^2*imag_part(k_z)^2 - c^2*real_part(k_z)^2 + omega^2)/c^2))/c)"
      ]
     },
     "execution_count": 283,
     "metadata": {},
     "output_type": "execute_result"
    }
   ],
   "source": [
    "(reduced_M[0][1]*m).full_simplify()"
   ]
  },
  {
   "cell_type": "code",
   "execution_count": 217,
   "metadata": {},
   "outputs": [],
   "source": [
    "Ex_bad_conductor = (eq_7_subs4.rhs()).subs(kappa_vacuum_sol).subs(kappa_sol).subs(k_z_sol_subs).subs(eqEz_a).subs(A1_x_re_im_subs, A2_x_re_im_subs)\n",
    "Ex_vacuum        = (eq_5_subs4.rhs()).subs(kappa_vacuum_sol).subs(kappa_sol).subs(k_z_sol_subs).subs(eqEz_a).subs(A1_x_re_im_subs, A2_x_re_im_subs)"
   ]
  },
  {
   "cell_type": "raw",
   "metadata": {},
   "source": [
    "print             (Ex_vacuum)\n",
    "display(Math(latex(Ex_vacuum)))"
   ]
  },
  {
   "cell_type": "raw",
   "metadata": {},
   "source": [
    "print             (Ex_bad_conductor)\n",
    "display(Math(latex(Ex_bad_conductor)))"
   ]
  },
  {
   "cell_type": "code",
   "execution_count": 218,
   "metadata": {},
   "outputs": [],
   "source": [
    "Hy_bad_conductor = (eq_8_subs4.rhs()*sqrt(epsilon_complex)/sqrt(mu)).subs(kappa_vacuum_sol).subs(kappa_sol).subs(k_z_sol_subs).subs(eqEz_a).subs(A1_x_re_im_subs, A2_x_re_im_subs)\n",
    "Hy_vacuum        = (eq_6_subs4.rhs()).subs(kappa_vacuum_sol).subs(kappa_sol).subs(k_z_sol_subs).subs(eqEz_a).subs(A1_x_re_im_subs, A2_x_re_im_subs)"
   ]
  },
  {
   "cell_type": "raw",
   "metadata": {},
   "source": [
    "print             (Hy_bad_conductor)\n",
    "display(Math(latex(Hy_bad_conductor)))"
   ]
  },
  {
   "cell_type": "raw",
   "metadata": {},
   "source": [
    "print             (Hy_vacuum)\n",
    "display(Math(latex(Hy_vacuum)))"
   ]
  },
  {
   "cell_type": "code",
   "execution_count": null,
   "metadata": {},
   "outputs": [],
   "source": []
  },
  {
   "cell_type": "code",
   "execution_count": 219,
   "metadata": {},
   "outputs": [],
   "source": [
    "Ex_bad_conductor_d = Ex_bad_conductor.subs(digit_values)\n",
    "Ex_vacuum_d        = Ex_vacuum.subs(digit_values)"
   ]
  },
  {
   "cell_type": "code",
   "execution_count": 220,
   "metadata": {},
   "outputs": [
    {
     "name": "stdout",
     "output_type": "stream",
     "text": [
      "18737028625000/6241*pi*sqrt((2246887946842044100000000/79*I + 2808609933552555125000000/6241)*pi^2)*(A1_z + A2_z)*K_conductor*sqrt(-((316*I + 5)*pi^2*((I*A1_z_im + A1_z_re)^2 + 2*(I*A1_z_im + A1_z_re)*(I*A2_z_im + A2_z_re) + (I*A2_z_im + A2_z_re)^2) - pi^2*((I*A1_z_im + A1_z_re)^2 - 2*(I*A1_z_im + A1_z_re)*(I*A2_z_im + A2_z_re) + (I*A2_z_im + A2_z_re)^2))/(-(12621263614160140983224688665862025000000000000000/493039*I - 31499834196630525862407597355041795444375000000000000/38950081)*pi^4*((I*A1_z_im + A1_z_re)^2 + 2*(I*A1_z_im + A1_z_re)*(I*A2_z_im + A2_z_re) + (I*A2_z_im + A2_z_re)^2) + 315531590354003524580617216646550625000000000000/38950081*pi^4*((I*A1_z_im + A1_z_re)^2 - 2*(I*A1_z_im + A1_z_re)*(I*A2_z_im + A2_z_re) + (I*A2_z_im + A2_z_re)^2)))*e^(I*K_conductor*x)/(-(788828975885008811451543041616376562500000000000000/3077056399*I + 986036219856261014314428802020470703125000000000000/243087455521)*pi^4*((316*I + 5)*pi^2*((I*A1_z_im + A1_z_re)^2 + 2*(I*A1_z_im + A1_z_re)*(I*A2_z_im + A2_z_re) + (I*A2_z_im + A2_z_re)^2) - pi^2*((I*A1_z_im + A1_z_re)^2 - 2*(I*A1_z_im + A1_z_re)*(I*A2_z_im + A2_z_re) + (I*A2_z_im + A2_z_re)^2))/(-(12621263614160140983224688665862025000000000000000/493039*I - 31499834196630525862407597355041795444375000000000000/38950081)*pi^4*((I*A1_z_im + A1_z_re)^2 + 2*(I*A1_z_im + A1_z_re)*(I*A2_z_im + A2_z_re) + (I*A2_z_im + A2_z_re)^2) + 315531590354003524580617216646550625000000000000/38950081*pi^4*((I*A1_z_im + A1_z_re)^2 - 2*(I*A1_z_im + A1_z_re)*(I*A2_z_im + A2_z_re) + (I*A2_z_im + A2_z_re)^2)) - (2500/79*I + 3125/6241)*pi^2)\n"
     ]
    },
    {
     "data": {
      "text/latex": [
       "$\\displaystyle \\frac{18737028625000 \\, \\pi \\sqrt{\\left(\\frac{2246887946842044100000000}{79} i + \\frac{2808609933552555125000000}{6241}\\right) \\, \\pi^{2}} {\\left(\\mathit{A1}_{z} + \\mathit{A2}_{z}\\right)} K_{\\mathit{conductor}} \\sqrt{-\\frac{\\left(316 i + 5\\right) \\, \\pi^{2} {\\left({\\left(i \\, \\mathit{A1}_{z_{\\mathit{im}}} + \\mathit{A1}_{z_{\\mathit{re}}}\\right)}^{2} + 2 \\, {\\left(i \\, \\mathit{A1}_{z_{\\mathit{im}}} + \\mathit{A1}_{z_{\\mathit{re}}}\\right)} {\\left(i \\, \\mathit{A2}_{z_{\\mathit{im}}} + \\mathit{A2}_{z_{\\mathit{re}}}\\right)} + {\\left(i \\, \\mathit{A2}_{z_{\\mathit{im}}} + \\mathit{A2}_{z_{\\mathit{re}}}\\right)}^{2}\\right)} - \\pi^{2} {\\left({\\left(i \\, \\mathit{A1}_{z_{\\mathit{im}}} + \\mathit{A1}_{z_{\\mathit{re}}}\\right)}^{2} - 2 \\, {\\left(i \\, \\mathit{A1}_{z_{\\mathit{im}}} + \\mathit{A1}_{z_{\\mathit{re}}}\\right)} {\\left(i \\, \\mathit{A2}_{z_{\\mathit{im}}} + \\mathit{A2}_{z_{\\mathit{re}}}\\right)} + {\\left(i \\, \\mathit{A2}_{z_{\\mathit{im}}} + \\mathit{A2}_{z_{\\mathit{re}}}\\right)}^{2}\\right)}}{-\\left(\\frac{12621263614160140983224688665862025000000000000000}{493039} i - \\frac{31499834196630525862407597355041795444375000000000000}{38950081}\\right) \\, \\pi^{4} {\\left({\\left(i \\, \\mathit{A1}_{z_{\\mathit{im}}} + \\mathit{A1}_{z_{\\mathit{re}}}\\right)}^{2} + 2 \\, {\\left(i \\, \\mathit{A1}_{z_{\\mathit{im}}} + \\mathit{A1}_{z_{\\mathit{re}}}\\right)} {\\left(i \\, \\mathit{A2}_{z_{\\mathit{im}}} + \\mathit{A2}_{z_{\\mathit{re}}}\\right)} + {\\left(i \\, \\mathit{A2}_{z_{\\mathit{im}}} + \\mathit{A2}_{z_{\\mathit{re}}}\\right)}^{2}\\right)} + \\frac{315531590354003524580617216646550625000000000000}{38950081} \\, \\pi^{4} {\\left({\\left(i \\, \\mathit{A1}_{z_{\\mathit{im}}} + \\mathit{A1}_{z_{\\mathit{re}}}\\right)}^{2} - 2 \\, {\\left(i \\, \\mathit{A1}_{z_{\\mathit{im}}} + \\mathit{A1}_{z_{\\mathit{re}}}\\right)} {\\left(i \\, \\mathit{A2}_{z_{\\mathit{im}}} + \\mathit{A2}_{z_{\\mathit{re}}}\\right)} + {\\left(i \\, \\mathit{A2}_{z_{\\mathit{im}}} + \\mathit{A2}_{z_{\\mathit{re}}}\\right)}^{2}\\right)}}} e^{\\left(i \\, K_{\\mathit{conductor}} x\\right)}}{6241 \\, {\\left(-\\frac{\\left(62317489094915696104671900287693748437500000000000000 i + 986036219856261014314428802020470703125000000000000\\right) \\, \\pi^{4} {\\left(\\left(316 i + 5\\right) \\, \\pi^{2} {\\left({\\left(i \\, \\mathit{A1}_{z_{\\mathit{im}}} + \\mathit{A1}_{z_{\\mathit{re}}}\\right)}^{2} + 2 \\, {\\left(i \\, \\mathit{A1}_{z_{\\mathit{im}}} + \\mathit{A1}_{z_{\\mathit{re}}}\\right)} {\\left(i \\, \\mathit{A2}_{z_{\\mathit{im}}} + \\mathit{A2}_{z_{\\mathit{re}}}\\right)} + {\\left(i \\, \\mathit{A2}_{z_{\\mathit{im}}} + \\mathit{A2}_{z_{\\mathit{re}}}\\right)}^{2}\\right)} - \\pi^{2} {\\left({\\left(i \\, \\mathit{A1}_{z_{\\mathit{im}}} + \\mathit{A1}_{z_{\\mathit{re}}}\\right)}^{2} - 2 \\, {\\left(i \\, \\mathit{A1}_{z_{\\mathit{im}}} + \\mathit{A1}_{z_{\\mathit{re}}}\\right)} {\\left(i \\, \\mathit{A2}_{z_{\\mathit{im}}} + \\mathit{A2}_{z_{\\mathit{re}}}\\right)} + {\\left(i \\, \\mathit{A2}_{z_{\\mathit{im}}} + \\mathit{A2}_{z_{\\mathit{re}}}\\right)}^{2}\\right)}\\right)}}{243087455521 \\, {\\left(-\\left(\\frac{12621263614160140983224688665862025000000000000000}{493039} i - \\frac{31499834196630525862407597355041795444375000000000000}{38950081}\\right) \\, \\pi^{4} {\\left({\\left(i \\, \\mathit{A1}_{z_{\\mathit{im}}} + \\mathit{A1}_{z_{\\mathit{re}}}\\right)}^{2} + 2 \\, {\\left(i \\, \\mathit{A1}_{z_{\\mathit{im}}} + \\mathit{A1}_{z_{\\mathit{re}}}\\right)} {\\left(i \\, \\mathit{A2}_{z_{\\mathit{im}}} + \\mathit{A2}_{z_{\\mathit{re}}}\\right)} + {\\left(i \\, \\mathit{A2}_{z_{\\mathit{im}}} + \\mathit{A2}_{z_{\\mathit{re}}}\\right)}^{2}\\right)} + \\frac{315531590354003524580617216646550625000000000000}{38950081} \\, \\pi^{4} {\\left({\\left(i \\, \\mathit{A1}_{z_{\\mathit{im}}} + \\mathit{A1}_{z_{\\mathit{re}}}\\right)}^{2} - 2 \\, {\\left(i \\, \\mathit{A1}_{z_{\\mathit{im}}} + \\mathit{A1}_{z_{\\mathit{re}}}\\right)} {\\left(i \\, \\mathit{A2}_{z_{\\mathit{im}}} + \\mathit{A2}_{z_{\\mathit{re}}}\\right)} + {\\left(i \\, \\mathit{A2}_{z_{\\mathit{im}}} + \\mathit{A2}_{z_{\\mathit{re}}}\\right)}^{2}\\right)}\\right)}} - \\left(\\frac{2500}{79} i + \\frac{3125}{6241}\\right) \\, \\pi^{2}\\right)}}$"
      ],
      "text/plain": [
       "<IPython.core.display.Math object>"
      ]
     },
     "metadata": {},
     "output_type": "display_data"
    }
   ],
   "source": [
    "print             (Ex_bad_conductor_d)\n",
    "display(Math(latex(Ex_bad_conductor_d)))"
   ]
  },
  {
   "cell_type": "code",
   "execution_count": 221,
   "metadata": {
    "scrolled": true
   },
   "outputs": [
    {
     "name": "stdout",
     "output_type": "stream",
     "text": [
      "-18737028625000/6241*I*pi*(I*A2_z*K_vacuum*e^(I*K_vacuum*x) - I*A1_z*K_vacuum*e^(-I*K_vacuum*x))*sqrt((2246887946842044100000000/79*I + 2808609933552555125000000/6241)*pi^2)*sqrt(-((316*I + 5)*pi^2*((I*A1_z_im + A1_z_re)^2 + 2*(I*A1_z_im + A1_z_re)*(I*A2_z_im + A2_z_re) + (I*A2_z_im + A2_z_re)^2) - pi^2*((I*A1_z_im + A1_z_re)^2 - 2*(I*A1_z_im + A1_z_re)*(I*A2_z_im + A2_z_re) + (I*A2_z_im + A2_z_re)^2))/(-(12621263614160140983224688665862025000000000000000/493039*I - 31499834196630525862407597355041795444375000000000000/38950081)*pi^4*((I*A1_z_im + A1_z_re)^2 + 2*(I*A1_z_im + A1_z_re)*(I*A2_z_im + A2_z_re) + (I*A2_z_im + A2_z_re)^2) + 315531590354003524580617216646550625000000000000/38950081*pi^4*((I*A1_z_im + A1_z_re)^2 - 2*(I*A1_z_im + A1_z_re)*(I*A2_z_im + A2_z_re) + (I*A2_z_im + A2_z_re)^2)))/(-(788828975885008811451543041616376562500000000000000/3077056399*I + 986036219856261014314428802020470703125000000000000/243087455521)*pi^4*((316*I + 5)*pi^2*((I*A1_z_im + A1_z_re)^2 + 2*(I*A1_z_im + A1_z_re)*(I*A2_z_im + A2_z_re) + (I*A2_z_im + A2_z_re)^2) - pi^2*((I*A1_z_im + A1_z_re)^2 - 2*(I*A1_z_im + A1_z_re)*(I*A2_z_im + A2_z_re) + (I*A2_z_im + A2_z_re)^2))/(-(12621263614160140983224688665862025000000000000000/493039*I - 31499834196630525862407597355041795444375000000000000/38950081)*pi^4*((I*A1_z_im + A1_z_re)^2 + 2*(I*A1_z_im + A1_z_re)*(I*A2_z_im + A2_z_re) + (I*A2_z_im + A2_z_re)^2) + 315531590354003524580617216646550625000000000000/38950081*pi^4*((I*A1_z_im + A1_z_re)^2 - 2*(I*A1_z_im + A1_z_re)*(I*A2_z_im + A2_z_re) + (I*A2_z_im + A2_z_re)^2)) - 625/6241*pi^2)\n"
     ]
    },
    {
     "data": {
      "text/latex": [
       "$\\displaystyle -\\frac{18737028625000 i \\, \\pi {\\left(i \\, \\mathit{A2}_{z} K_{\\mathit{vacuum}} e^{\\left(i \\, K_{\\mathit{vacuum}} x\\right)} - i \\, \\mathit{A1}_{z} K_{\\mathit{vacuum}} e^{\\left(-i \\, K_{\\mathit{vacuum}} x\\right)}\\right)} \\sqrt{\\left(\\frac{2246887946842044100000000}{79} i + \\frac{2808609933552555125000000}{6241}\\right) \\, \\pi^{2}} \\sqrt{-\\frac{\\left(316 i + 5\\right) \\, \\pi^{2} {\\left({\\left(i \\, \\mathit{A1}_{z_{\\mathit{im}}} + \\mathit{A1}_{z_{\\mathit{re}}}\\right)}^{2} + 2 \\, {\\left(i \\, \\mathit{A1}_{z_{\\mathit{im}}} + \\mathit{A1}_{z_{\\mathit{re}}}\\right)} {\\left(i \\, \\mathit{A2}_{z_{\\mathit{im}}} + \\mathit{A2}_{z_{\\mathit{re}}}\\right)} + {\\left(i \\, \\mathit{A2}_{z_{\\mathit{im}}} + \\mathit{A2}_{z_{\\mathit{re}}}\\right)}^{2}\\right)} - \\pi^{2} {\\left({\\left(i \\, \\mathit{A1}_{z_{\\mathit{im}}} + \\mathit{A1}_{z_{\\mathit{re}}}\\right)}^{2} - 2 \\, {\\left(i \\, \\mathit{A1}_{z_{\\mathit{im}}} + \\mathit{A1}_{z_{\\mathit{re}}}\\right)} {\\left(i \\, \\mathit{A2}_{z_{\\mathit{im}}} + \\mathit{A2}_{z_{\\mathit{re}}}\\right)} + {\\left(i \\, \\mathit{A2}_{z_{\\mathit{im}}} + \\mathit{A2}_{z_{\\mathit{re}}}\\right)}^{2}\\right)}}{-\\left(\\frac{12621263614160140983224688665862025000000000000000}{493039} i - \\frac{31499834196630525862407597355041795444375000000000000}{38950081}\\right) \\, \\pi^{4} {\\left({\\left(i \\, \\mathit{A1}_{z_{\\mathit{im}}} + \\mathit{A1}_{z_{\\mathit{re}}}\\right)}^{2} + 2 \\, {\\left(i \\, \\mathit{A1}_{z_{\\mathit{im}}} + \\mathit{A1}_{z_{\\mathit{re}}}\\right)} {\\left(i \\, \\mathit{A2}_{z_{\\mathit{im}}} + \\mathit{A2}_{z_{\\mathit{re}}}\\right)} + {\\left(i \\, \\mathit{A2}_{z_{\\mathit{im}}} + \\mathit{A2}_{z_{\\mathit{re}}}\\right)}^{2}\\right)} + \\frac{315531590354003524580617216646550625000000000000}{38950081} \\, \\pi^{4} {\\left({\\left(i \\, \\mathit{A1}_{z_{\\mathit{im}}} + \\mathit{A1}_{z_{\\mathit{re}}}\\right)}^{2} - 2 \\, {\\left(i \\, \\mathit{A1}_{z_{\\mathit{im}}} + \\mathit{A1}_{z_{\\mathit{re}}}\\right)} {\\left(i \\, \\mathit{A2}_{z_{\\mathit{im}}} + \\mathit{A2}_{z_{\\mathit{re}}}\\right)} + {\\left(i \\, \\mathit{A2}_{z_{\\mathit{im}}} + \\mathit{A2}_{z_{\\mathit{re}}}\\right)}^{2}\\right)}}}}{6241 \\, {\\left(-\\frac{\\left(62317489094915696104671900287693748437500000000000000 i + 986036219856261014314428802020470703125000000000000\\right) \\, \\pi^{4} {\\left(\\left(316 i + 5\\right) \\, \\pi^{2} {\\left({\\left(i \\, \\mathit{A1}_{z_{\\mathit{im}}} + \\mathit{A1}_{z_{\\mathit{re}}}\\right)}^{2} + 2 \\, {\\left(i \\, \\mathit{A1}_{z_{\\mathit{im}}} + \\mathit{A1}_{z_{\\mathit{re}}}\\right)} {\\left(i \\, \\mathit{A2}_{z_{\\mathit{im}}} + \\mathit{A2}_{z_{\\mathit{re}}}\\right)} + {\\left(i \\, \\mathit{A2}_{z_{\\mathit{im}}} + \\mathit{A2}_{z_{\\mathit{re}}}\\right)}^{2}\\right)} - \\pi^{2} {\\left({\\left(i \\, \\mathit{A1}_{z_{\\mathit{im}}} + \\mathit{A1}_{z_{\\mathit{re}}}\\right)}^{2} - 2 \\, {\\left(i \\, \\mathit{A1}_{z_{\\mathit{im}}} + \\mathit{A1}_{z_{\\mathit{re}}}\\right)} {\\left(i \\, \\mathit{A2}_{z_{\\mathit{im}}} + \\mathit{A2}_{z_{\\mathit{re}}}\\right)} + {\\left(i \\, \\mathit{A2}_{z_{\\mathit{im}}} + \\mathit{A2}_{z_{\\mathit{re}}}\\right)}^{2}\\right)}\\right)}}{243087455521 \\, {\\left(-\\left(\\frac{12621263614160140983224688665862025000000000000000}{493039} i - \\frac{31499834196630525862407597355041795444375000000000000}{38950081}\\right) \\, \\pi^{4} {\\left({\\left(i \\, \\mathit{A1}_{z_{\\mathit{im}}} + \\mathit{A1}_{z_{\\mathit{re}}}\\right)}^{2} + 2 \\, {\\left(i \\, \\mathit{A1}_{z_{\\mathit{im}}} + \\mathit{A1}_{z_{\\mathit{re}}}\\right)} {\\left(i \\, \\mathit{A2}_{z_{\\mathit{im}}} + \\mathit{A2}_{z_{\\mathit{re}}}\\right)} + {\\left(i \\, \\mathit{A2}_{z_{\\mathit{im}}} + \\mathit{A2}_{z_{\\mathit{re}}}\\right)}^{2}\\right)} + \\frac{315531590354003524580617216646550625000000000000}{38950081} \\, \\pi^{4} {\\left({\\left(i \\, \\mathit{A1}_{z_{\\mathit{im}}} + \\mathit{A1}_{z_{\\mathit{re}}}\\right)}^{2} - 2 \\, {\\left(i \\, \\mathit{A1}_{z_{\\mathit{im}}} + \\mathit{A1}_{z_{\\mathit{re}}}\\right)} {\\left(i \\, \\mathit{A2}_{z_{\\mathit{im}}} + \\mathit{A2}_{z_{\\mathit{re}}}\\right)} + {\\left(i \\, \\mathit{A2}_{z_{\\mathit{im}}} + \\mathit{A2}_{z_{\\mathit{re}}}\\right)}^{2}\\right)}\\right)}} - \\frac{625}{6241} \\, \\pi^{2}\\right)}}$"
      ],
      "text/plain": [
       "<IPython.core.display.Math object>"
      ]
     },
     "metadata": {},
     "output_type": "display_data"
    }
   ],
   "source": [
    "print             (Ex_vacuum_d)\n",
    "display(Math(latex(Ex_vacuum_d)))"
   ]
  },
  {
   "cell_type": "code",
   "execution_count": null,
   "metadata": {},
   "outputs": [],
   "source": []
  },
  {
   "cell_type": "code",
   "execution_count": 222,
   "metadata": {},
   "outputs": [],
   "source": [
    "Hy_bad_conductor_d = Hy_bad_conductor.subs(digit_values)\n",
    "Hy_vacuum_d        = Hy_vacuum.subs(digit_values)"
   ]
  },
  {
   "cell_type": "code",
   "execution_count": 223,
   "metadata": {},
   "outputs": [
    {
     "name": "stdout",
     "output_type": "stream",
     "text": [
      "1/29979245800*sqrt(79/7494811450*I + 5)*sqrt((2246887946842044100000000/79*I + 2808609933552555125000000/6241)*pi^2)*(A1_z + A2_z)*K_conductor*e^(I*K_conductor*x)/(-(788828975885008811451543041616376562500000000000000/3077056399*I + 986036219856261014314428802020470703125000000000000/243087455521)*pi^4*((316*I + 5)*pi^2*((I*A1_z_im + A1_z_re)^2 + 2*(I*A1_z_im + A1_z_re)*(I*A2_z_im + A2_z_re) + (I*A2_z_im + A2_z_re)^2) - pi^2*((I*A1_z_im + A1_z_re)^2 - 2*(I*A1_z_im + A1_z_re)*(I*A2_z_im + A2_z_re) + (I*A2_z_im + A2_z_re)^2))/(-(12621263614160140983224688665862025000000000000000/493039*I - 31499834196630525862407597355041795444375000000000000/38950081)*pi^4*((I*A1_z_im + A1_z_re)^2 + 2*(I*A1_z_im + A1_z_re)*(I*A2_z_im + A2_z_re) + (I*A2_z_im + A2_z_re)^2) + 315531590354003524580617216646550625000000000000/38950081*pi^4*((I*A1_z_im + A1_z_re)^2 - 2*(I*A1_z_im + A1_z_re)*(I*A2_z_im + A2_z_re) + (I*A2_z_im + A2_z_re)^2)) - (2500/79*I + 3125/6241)*pi^2)\n"
     ]
    },
    {
     "data": {
      "text/latex": [
       "$\\displaystyle \\frac{\\sqrt{\\frac{79}{7494811450} i + 5} \\sqrt{\\left(\\frac{2246887946842044100000000}{79} i + \\frac{2808609933552555125000000}{6241}\\right) \\, \\pi^{2}} {\\left(\\mathit{A1}_{z} + \\mathit{A2}_{z}\\right)} K_{\\mathit{conductor}} e^{\\left(i \\, K_{\\mathit{conductor}} x\\right)}}{29979245800 \\, {\\left(-\\frac{\\left(62317489094915696104671900287693748437500000000000000 i + 986036219856261014314428802020470703125000000000000\\right) \\, \\pi^{4} {\\left(\\left(316 i + 5\\right) \\, \\pi^{2} {\\left({\\left(i \\, \\mathit{A1}_{z_{\\mathit{im}}} + \\mathit{A1}_{z_{\\mathit{re}}}\\right)}^{2} + 2 \\, {\\left(i \\, \\mathit{A1}_{z_{\\mathit{im}}} + \\mathit{A1}_{z_{\\mathit{re}}}\\right)} {\\left(i \\, \\mathit{A2}_{z_{\\mathit{im}}} + \\mathit{A2}_{z_{\\mathit{re}}}\\right)} + {\\left(i \\, \\mathit{A2}_{z_{\\mathit{im}}} + \\mathit{A2}_{z_{\\mathit{re}}}\\right)}^{2}\\right)} - \\pi^{2} {\\left({\\left(i \\, \\mathit{A1}_{z_{\\mathit{im}}} + \\mathit{A1}_{z_{\\mathit{re}}}\\right)}^{2} - 2 \\, {\\left(i \\, \\mathit{A1}_{z_{\\mathit{im}}} + \\mathit{A1}_{z_{\\mathit{re}}}\\right)} {\\left(i \\, \\mathit{A2}_{z_{\\mathit{im}}} + \\mathit{A2}_{z_{\\mathit{re}}}\\right)} + {\\left(i \\, \\mathit{A2}_{z_{\\mathit{im}}} + \\mathit{A2}_{z_{\\mathit{re}}}\\right)}^{2}\\right)}\\right)}}{243087455521 \\, {\\left(-\\left(\\frac{12621263614160140983224688665862025000000000000000}{493039} i - \\frac{31499834196630525862407597355041795444375000000000000}{38950081}\\right) \\, \\pi^{4} {\\left({\\left(i \\, \\mathit{A1}_{z_{\\mathit{im}}} + \\mathit{A1}_{z_{\\mathit{re}}}\\right)}^{2} + 2 \\, {\\left(i \\, \\mathit{A1}_{z_{\\mathit{im}}} + \\mathit{A1}_{z_{\\mathit{re}}}\\right)} {\\left(i \\, \\mathit{A2}_{z_{\\mathit{im}}} + \\mathit{A2}_{z_{\\mathit{re}}}\\right)} + {\\left(i \\, \\mathit{A2}_{z_{\\mathit{im}}} + \\mathit{A2}_{z_{\\mathit{re}}}\\right)}^{2}\\right)} + \\frac{315531590354003524580617216646550625000000000000}{38950081} \\, \\pi^{4} {\\left({\\left(i \\, \\mathit{A1}_{z_{\\mathit{im}}} + \\mathit{A1}_{z_{\\mathit{re}}}\\right)}^{2} - 2 \\, {\\left(i \\, \\mathit{A1}_{z_{\\mathit{im}}} + \\mathit{A1}_{z_{\\mathit{re}}}\\right)} {\\left(i \\, \\mathit{A2}_{z_{\\mathit{im}}} + \\mathit{A2}_{z_{\\mathit{re}}}\\right)} + {\\left(i \\, \\mathit{A2}_{z_{\\mathit{im}}} + \\mathit{A2}_{z_{\\mathit{re}}}\\right)}^{2}\\right)}\\right)}} - \\left(\\frac{2500}{79} i + \\frac{3125}{6241}\\right) \\, \\pi^{2}\\right)}}$"
      ],
      "text/plain": [
       "<IPython.core.display.Math object>"
      ]
     },
     "metadata": {},
     "output_type": "display_data"
    }
   ],
   "source": [
    "print             (Hy_bad_conductor_d)\n",
    "display(Math(latex(Hy_bad_conductor_d)))"
   ]
  },
  {
   "cell_type": "code",
   "execution_count": 224,
   "metadata": {
    "scrolled": true
   },
   "outputs": [
    {
     "name": "stdout",
     "output_type": "stream",
     "text": [
      "-25/79*I*pi*(I*A2_z*K_vacuum*e^(I*K_vacuum*x) - I*A1_z*K_vacuum*e^(-I*K_vacuum*x))/(-(788828975885008811451543041616376562500000000000000/3077056399*I + 986036219856261014314428802020470703125000000000000/243087455521)*pi^4*((316*I + 5)*pi^2*((I*A1_z_im + A1_z_re)^2 + 2*(I*A1_z_im + A1_z_re)*(I*A2_z_im + A2_z_re) + (I*A2_z_im + A2_z_re)^2) - pi^2*((I*A1_z_im + A1_z_re)^2 - 2*(I*A1_z_im + A1_z_re)*(I*A2_z_im + A2_z_re) + (I*A2_z_im + A2_z_re)^2))/(-(12621263614160140983224688665862025000000000000000/493039*I - 31499834196630525862407597355041795444375000000000000/38950081)*pi^4*((I*A1_z_im + A1_z_re)^2 + 2*(I*A1_z_im + A1_z_re)*(I*A2_z_im + A2_z_re) + (I*A2_z_im + A2_z_re)^2) + 315531590354003524580617216646550625000000000000/38950081*pi^4*((I*A1_z_im + A1_z_re)^2 - 2*(I*A1_z_im + A1_z_re)*(I*A2_z_im + A2_z_re) + (I*A2_z_im + A2_z_re)^2)) - 625/6241*pi^2)\n"
     ]
    },
    {
     "data": {
      "text/latex": [
       "$\\displaystyle -\\frac{25 i \\, \\pi {\\left(i \\, \\mathit{A2}_{z} K_{\\mathit{vacuum}} e^{\\left(i \\, K_{\\mathit{vacuum}} x\\right)} - i \\, \\mathit{A1}_{z} K_{\\mathit{vacuum}} e^{\\left(-i \\, K_{\\mathit{vacuum}} x\\right)}\\right)}}{79 \\, {\\left(-\\frac{\\left(62317489094915696104671900287693748437500000000000000 i + 986036219856261014314428802020470703125000000000000\\right) \\, \\pi^{4} {\\left(\\left(316 i + 5\\right) \\, \\pi^{2} {\\left({\\left(i \\, \\mathit{A1}_{z_{\\mathit{im}}} + \\mathit{A1}_{z_{\\mathit{re}}}\\right)}^{2} + 2 \\, {\\left(i \\, \\mathit{A1}_{z_{\\mathit{im}}} + \\mathit{A1}_{z_{\\mathit{re}}}\\right)} {\\left(i \\, \\mathit{A2}_{z_{\\mathit{im}}} + \\mathit{A2}_{z_{\\mathit{re}}}\\right)} + {\\left(i \\, \\mathit{A2}_{z_{\\mathit{im}}} + \\mathit{A2}_{z_{\\mathit{re}}}\\right)}^{2}\\right)} - \\pi^{2} {\\left({\\left(i \\, \\mathit{A1}_{z_{\\mathit{im}}} + \\mathit{A1}_{z_{\\mathit{re}}}\\right)}^{2} - 2 \\, {\\left(i \\, \\mathit{A1}_{z_{\\mathit{im}}} + \\mathit{A1}_{z_{\\mathit{re}}}\\right)} {\\left(i \\, \\mathit{A2}_{z_{\\mathit{im}}} + \\mathit{A2}_{z_{\\mathit{re}}}\\right)} + {\\left(i \\, \\mathit{A2}_{z_{\\mathit{im}}} + \\mathit{A2}_{z_{\\mathit{re}}}\\right)}^{2}\\right)}\\right)}}{243087455521 \\, {\\left(-\\left(\\frac{12621263614160140983224688665862025000000000000000}{493039} i - \\frac{31499834196630525862407597355041795444375000000000000}{38950081}\\right) \\, \\pi^{4} {\\left({\\left(i \\, \\mathit{A1}_{z_{\\mathit{im}}} + \\mathit{A1}_{z_{\\mathit{re}}}\\right)}^{2} + 2 \\, {\\left(i \\, \\mathit{A1}_{z_{\\mathit{im}}} + \\mathit{A1}_{z_{\\mathit{re}}}\\right)} {\\left(i \\, \\mathit{A2}_{z_{\\mathit{im}}} + \\mathit{A2}_{z_{\\mathit{re}}}\\right)} + {\\left(i \\, \\mathit{A2}_{z_{\\mathit{im}}} + \\mathit{A2}_{z_{\\mathit{re}}}\\right)}^{2}\\right)} + \\frac{315531590354003524580617216646550625000000000000}{38950081} \\, \\pi^{4} {\\left({\\left(i \\, \\mathit{A1}_{z_{\\mathit{im}}} + \\mathit{A1}_{z_{\\mathit{re}}}\\right)}^{2} - 2 \\, {\\left(i \\, \\mathit{A1}_{z_{\\mathit{im}}} + \\mathit{A1}_{z_{\\mathit{re}}}\\right)} {\\left(i \\, \\mathit{A2}_{z_{\\mathit{im}}} + \\mathit{A2}_{z_{\\mathit{re}}}\\right)} + {\\left(i \\, \\mathit{A2}_{z_{\\mathit{im}}} + \\mathit{A2}_{z_{\\mathit{re}}}\\right)}^{2}\\right)}\\right)}} - \\frac{625}{6241} \\, \\pi^{2}\\right)}}$"
      ],
      "text/plain": [
       "<IPython.core.display.Math object>"
      ]
     },
     "metadata": {},
     "output_type": "display_data"
    }
   ],
   "source": [
    "print             (Hy_vacuum_d)\n",
    "display(Math(latex(Hy_vacuum_d)))"
   ]
  },
  {
   "cell_type": "code",
   "execution_count": null,
   "metadata": {},
   "outputs": [],
   "source": []
  },
  {
   "cell_type": "code",
   "execution_count": 225,
   "metadata": {},
   "outputs": [
    {
     "data": {
      "text/plain": [
       "(-25/79*I*pi*(-I*A1_z*K_vacuum*e^(0.150000000000000*I*K_vacuum) + I*A2_z*K_vacuum*e^(-0.150000000000000*I*K_vacuum))/(-(788828975885008811451543041616376562500000000000000/3077056399*I + 986036219856261014314428802020470703125000000000000/243087455521)*pi^4*((316*I + 5)*pi^2*((I*A1_z_im + A1_z_re)^2 + 2*(I*A1_z_im + A1_z_re)*(I*A2_z_im + A2_z_re) + (I*A2_z_im + A2_z_re)^2) - pi^2*((I*A1_z_im + A1_z_re)^2 - 2*(I*A1_z_im + A1_z_re)*(I*A2_z_im + A2_z_re) + (I*A2_z_im + A2_z_re)^2))/(-(12621263614160140983224688665862025000000000000000/493039*I - 31499834196630525862407597355041795444375000000000000/38950081)*pi^4*((I*A1_z_im + A1_z_re)^2 + 2*(I*A1_z_im + A1_z_re)*(I*A2_z_im + A2_z_re) + (I*A2_z_im + A2_z_re)^2) + 315531590354003524580617216646550625000000000000/38950081*pi^4*((I*A1_z_im + A1_z_re)^2 - 2*(I*A1_z_im + A1_z_re)*(I*A2_z_im + A2_z_re) + (I*A2_z_im + A2_z_re)^2)) - 625/6241*pi^2),\n",
       " -18737028625000/6241*I*pi*(-I*A1_z*K_vacuum*e^(0.150000000000000*I*K_vacuum) + I*A2_z*K_vacuum*e^(-0.150000000000000*I*K_vacuum))*sqrt((2246887946842044100000000/79*I + 2808609933552555125000000/6241)*pi^2)*sqrt(-((316*I + 5)*pi^2*((I*A1_z_im + A1_z_re)^2 + 2*(I*A1_z_im + A1_z_re)*(I*A2_z_im + A2_z_re) + (I*A2_z_im + A2_z_re)^2) - pi^2*((I*A1_z_im + A1_z_re)^2 - 2*(I*A1_z_im + A1_z_re)*(I*A2_z_im + A2_z_re) + (I*A2_z_im + A2_z_re)^2))/(-(12621263614160140983224688665862025000000000000000/493039*I - 31499834196630525862407597355041795444375000000000000/38950081)*pi^4*((I*A1_z_im + A1_z_re)^2 + 2*(I*A1_z_im + A1_z_re)*(I*A2_z_im + A2_z_re) + (I*A2_z_im + A2_z_re)^2) + 315531590354003524580617216646550625000000000000/38950081*pi^4*((I*A1_z_im + A1_z_re)^2 - 2*(I*A1_z_im + A1_z_re)*(I*A2_z_im + A2_z_re) + (I*A2_z_im + A2_z_re)^2)))/(-(788828975885008811451543041616376562500000000000000/3077056399*I + 986036219856261014314428802020470703125000000000000/243087455521)*pi^4*((316*I + 5)*pi^2*((I*A1_z_im + A1_z_re)^2 + 2*(I*A1_z_im + A1_z_re)*(I*A2_z_im + A2_z_re) + (I*A2_z_im + A2_z_re)^2) - pi^2*((I*A1_z_im + A1_z_re)^2 - 2*(I*A1_z_im + A1_z_re)*(I*A2_z_im + A2_z_re) + (I*A2_z_im + A2_z_re)^2))/(-(12621263614160140983224688665862025000000000000000/493039*I - 31499834196630525862407597355041795444375000000000000/38950081)*pi^4*((I*A1_z_im + A1_z_re)^2 + 2*(I*A1_z_im + A1_z_re)*(I*A2_z_im + A2_z_re) + (I*A2_z_im + A2_z_re)^2) + 315531590354003524580617216646550625000000000000/38950081*pi^4*((I*A1_z_im + A1_z_re)^2 - 2*(I*A1_z_im + A1_z_re)*(I*A2_z_im + A2_z_re) + (I*A2_z_im + A2_z_re)^2)) - 625/6241*pi^2))"
      ]
     },
     "execution_count": 225,
     "metadata": {},
     "output_type": "execute_result"
    }
   ],
   "source": [
    "Hy_vacuum_d.subs(x == -A), Ex_vacuum_d.subs(x == -A)"
   ]
  },
  {
   "cell_type": "code",
   "execution_count": 226,
   "metadata": {},
   "outputs": [
    {
     "data": {
      "text/plain": [
       "(-25/79*I*pi*(-I*A1_z*K_vacuum + I*A2_z*K_vacuum)/(-(788828975885008811451543041616376562500000000000000/3077056399*I + 986036219856261014314428802020470703125000000000000/243087455521)*pi^4*((316*I + 5)*pi^2*((I*A1_z_im + A1_z_re)^2 + 2*(I*A1_z_im + A1_z_re)*(I*A2_z_im + A2_z_re) + (I*A2_z_im + A2_z_re)^2) - pi^2*((I*A1_z_im + A1_z_re)^2 - 2*(I*A1_z_im + A1_z_re)*(I*A2_z_im + A2_z_re) + (I*A2_z_im + A2_z_re)^2))/(-(12621263614160140983224688665862025000000000000000/493039*I - 31499834196630525862407597355041795444375000000000000/38950081)*pi^4*((I*A1_z_im + A1_z_re)^2 + 2*(I*A1_z_im + A1_z_re)*(I*A2_z_im + A2_z_re) + (I*A2_z_im + A2_z_re)^2) + 315531590354003524580617216646550625000000000000/38950081*pi^4*((I*A1_z_im + A1_z_re)^2 - 2*(I*A1_z_im + A1_z_re)*(I*A2_z_im + A2_z_re) + (I*A2_z_im + A2_z_re)^2)) - 625/6241*pi^2),\n",
       " -18737028625000/6241*I*pi*sqrt((2246887946842044100000000/79*I + 2808609933552555125000000/6241)*pi^2)*(-I*A1_z*K_vacuum + I*A2_z*K_vacuum)*sqrt(-((316*I + 5)*pi^2*((I*A1_z_im + A1_z_re)^2 + 2*(I*A1_z_im + A1_z_re)*(I*A2_z_im + A2_z_re) + (I*A2_z_im + A2_z_re)^2) - pi^2*((I*A1_z_im + A1_z_re)^2 - 2*(I*A1_z_im + A1_z_re)*(I*A2_z_im + A2_z_re) + (I*A2_z_im + A2_z_re)^2))/(-(12621263614160140983224688665862025000000000000000/493039*I - 31499834196630525862407597355041795444375000000000000/38950081)*pi^4*((I*A1_z_im + A1_z_re)^2 + 2*(I*A1_z_im + A1_z_re)*(I*A2_z_im + A2_z_re) + (I*A2_z_im + A2_z_re)^2) + 315531590354003524580617216646550625000000000000/38950081*pi^4*((I*A1_z_im + A1_z_re)^2 - 2*(I*A1_z_im + A1_z_re)*(I*A2_z_im + A2_z_re) + (I*A2_z_im + A2_z_re)^2)))/(-(788828975885008811451543041616376562500000000000000/3077056399*I + 986036219856261014314428802020470703125000000000000/243087455521)*pi^4*((316*I + 5)*pi^2*((I*A1_z_im + A1_z_re)^2 + 2*(I*A1_z_im + A1_z_re)*(I*A2_z_im + A2_z_re) + (I*A2_z_im + A2_z_re)^2) - pi^2*((I*A1_z_im + A1_z_re)^2 - 2*(I*A1_z_im + A1_z_re)*(I*A2_z_im + A2_z_re) + (I*A2_z_im + A2_z_re)^2))/(-(12621263614160140983224688665862025000000000000000/493039*I - 31499834196630525862407597355041795444375000000000000/38950081)*pi^4*((I*A1_z_im + A1_z_re)^2 + 2*(I*A1_z_im + A1_z_re)*(I*A2_z_im + A2_z_re) + (I*A2_z_im + A2_z_re)^2) + 315531590354003524580617216646550625000000000000/38950081*pi^4*((I*A1_z_im + A1_z_re)^2 - 2*(I*A1_z_im + A1_z_re)*(I*A2_z_im + A2_z_re) + (I*A2_z_im + A2_z_re)^2)) - 625/6241*pi^2))"
      ]
     },
     "execution_count": 226,
     "metadata": {},
     "output_type": "execute_result"
    }
   ],
   "source": [
    "Hy_vacuum_d.subs(x == 0), Ex_vacuum_d.subs(x == 0)"
   ]
  },
  {
   "cell_type": "code",
   "execution_count": 227,
   "metadata": {},
   "outputs": [
    {
     "data": {
      "text/plain": [
       "(1/29979245800*sqrt(79/7494811450*I + 5)*sqrt((2246887946842044100000000/79*I + 2808609933552555125000000/6241)*pi^2)*(A1_z + A2_z)*K_conductor/(-(788828975885008811451543041616376562500000000000000/3077056399*I + 986036219856261014314428802020470703125000000000000/243087455521)*pi^4*((316*I + 5)*pi^2*((I*A1_z_im + A1_z_re)^2 + 2*(I*A1_z_im + A1_z_re)*(I*A2_z_im + A2_z_re) + (I*A2_z_im + A2_z_re)^2) - pi^2*((I*A1_z_im + A1_z_re)^2 - 2*(I*A1_z_im + A1_z_re)*(I*A2_z_im + A2_z_re) + (I*A2_z_im + A2_z_re)^2))/(-(12621263614160140983224688665862025000000000000000/493039*I - 31499834196630525862407597355041795444375000000000000/38950081)*pi^4*((I*A1_z_im + A1_z_re)^2 + 2*(I*A1_z_im + A1_z_re)*(I*A2_z_im + A2_z_re) + (I*A2_z_im + A2_z_re)^2) + 315531590354003524580617216646550625000000000000/38950081*pi^4*((I*A1_z_im + A1_z_re)^2 - 2*(I*A1_z_im + A1_z_re)*(I*A2_z_im + A2_z_re) + (I*A2_z_im + A2_z_re)^2)) - (2500/79*I + 3125/6241)*pi^2),\n",
       " 93685143125000/6241*pi*sqrt((2246887946842044100000000/79*I + 2808609933552555125000000/6241)*pi^2)*(A1_z + A2_z)*K_conductor*sqrt(-((316*I + 5)*pi^2*((I*A1_z_im + A1_z_re)^2 + 2*(I*A1_z_im + A1_z_re)*(I*A2_z_im + A2_z_re) + (I*A2_z_im + A2_z_re)^2) - pi^2*((I*A1_z_im + A1_z_re)^2 - 2*(I*A1_z_im + A1_z_re)*(I*A2_z_im + A2_z_re) + (I*A2_z_im + A2_z_re)^2))/(-(12621263614160140983224688665862025000000000000000/493039*I - 31499834196630525862407597355041795444375000000000000/38950081)*pi^4*((I*A1_z_im + A1_z_re)^2 + 2*(I*A1_z_im + A1_z_re)*(I*A2_z_im + A2_z_re) + (I*A2_z_im + A2_z_re)^2) + 315531590354003524580617216646550625000000000000/38950081*pi^4*((I*A1_z_im + A1_z_re)^2 - 2*(I*A1_z_im + A1_z_re)*(I*A2_z_im + A2_z_re) + (I*A2_z_im + A2_z_re)^2)))/(-(788828975885008811451543041616376562500000000000000/3077056399*I + 986036219856261014314428802020470703125000000000000/243087455521)*pi^4*((316*I + 5)*pi^2*((I*A1_z_im + A1_z_re)^2 + 2*(I*A1_z_im + A1_z_re)*(I*A2_z_im + A2_z_re) + (I*A2_z_im + A2_z_re)^2) - pi^2*((I*A1_z_im + A1_z_re)^2 - 2*(I*A1_z_im + A1_z_re)*(I*A2_z_im + A2_z_re) + (I*A2_z_im + A2_z_re)^2))/(-(12621263614160140983224688665862025000000000000000/493039*I - 31499834196630525862407597355041795444375000000000000/38950081)*pi^4*((I*A1_z_im + A1_z_re)^2 + 2*(I*A1_z_im + A1_z_re)*(I*A2_z_im + A2_z_re) + (I*A2_z_im + A2_z_re)^2) + 315531590354003524580617216646550625000000000000/38950081*pi^4*((I*A1_z_im + A1_z_re)^2 - 2*(I*A1_z_im + A1_z_re)*(I*A2_z_im + A2_z_re) + (I*A2_z_im + A2_z_re)^2)) - (2500/79*I + 3125/6241)*pi^2))"
      ]
     },
     "execution_count": 227,
     "metadata": {},
     "output_type": "execute_result"
    }
   ],
   "source": [
    "Hy_bad_conductor_d.subs(x == 0), epsilon_d * Ex_bad_conductor_d.subs(x == 0)"
   ]
  },
  {
   "cell_type": "code",
   "execution_count": 228,
   "metadata": {},
   "outputs": [
    {
     "data": {
      "text/plain": [
       "(1/29979245800*sqrt(79/7494811450*I + 5)*sqrt((2246887946842044100000000/79*I + 2808609933552555125000000/6241)*pi^2)*(A1_z + A2_z)*K_conductor*e^(0.150000000000000*I*K_conductor)/(-(788828975885008811451543041616376562500000000000000/3077056399*I + 986036219856261014314428802020470703125000000000000/243087455521)*pi^4*((316*I + 5)*pi^2*((I*A1_z_im + A1_z_re)^2 + 2*(I*A1_z_im + A1_z_re)*(I*A2_z_im + A2_z_re) + (I*A2_z_im + A2_z_re)^2) - pi^2*((I*A1_z_im + A1_z_re)^2 - 2*(I*A1_z_im + A1_z_re)*(I*A2_z_im + A2_z_re) + (I*A2_z_im + A2_z_re)^2))/(-(12621263614160140983224688665862025000000000000000/493039*I - 31499834196630525862407597355041795444375000000000000/38950081)*pi^4*((I*A1_z_im + A1_z_re)^2 + 2*(I*A1_z_im + A1_z_re)*(I*A2_z_im + A2_z_re) + (I*A2_z_im + A2_z_re)^2) + 315531590354003524580617216646550625000000000000/38950081*pi^4*((I*A1_z_im + A1_z_re)^2 - 2*(I*A1_z_im + A1_z_re)*(I*A2_z_im + A2_z_re) + (I*A2_z_im + A2_z_re)^2)) - (2500/79*I + 3125/6241)*pi^2),\n",
       " 18737028625000/6241*pi*sqrt((2246887946842044100000000/79*I + 2808609933552555125000000/6241)*pi^2)*(A1_z + A2_z)*K_conductor*sqrt(-((316*I + 5)*pi^2*((I*A1_z_im + A1_z_re)^2 + 2*(I*A1_z_im + A1_z_re)*(I*A2_z_im + A2_z_re) + (I*A2_z_im + A2_z_re)^2) - pi^2*((I*A1_z_im + A1_z_re)^2 - 2*(I*A1_z_im + A1_z_re)*(I*A2_z_im + A2_z_re) + (I*A2_z_im + A2_z_re)^2))/(-(12621263614160140983224688665862025000000000000000/493039*I - 31499834196630525862407597355041795444375000000000000/38950081)*pi^4*((I*A1_z_im + A1_z_re)^2 + 2*(I*A1_z_im + A1_z_re)*(I*A2_z_im + A2_z_re) + (I*A2_z_im + A2_z_re)^2) + 315531590354003524580617216646550625000000000000/38950081*pi^4*((I*A1_z_im + A1_z_re)^2 - 2*(I*A1_z_im + A1_z_re)*(I*A2_z_im + A2_z_re) + (I*A2_z_im + A2_z_re)^2)))*e^(0.150000000000000*I*K_conductor)/(-(788828975885008811451543041616376562500000000000000/3077056399*I + 986036219856261014314428802020470703125000000000000/243087455521)*pi^4*((316*I + 5)*pi^2*((I*A1_z_im + A1_z_re)^2 + 2*(I*A1_z_im + A1_z_re)*(I*A2_z_im + A2_z_re) + (I*A2_z_im + A2_z_re)^2) - pi^2*((I*A1_z_im + A1_z_re)^2 - 2*(I*A1_z_im + A1_z_re)*(I*A2_z_im + A2_z_re) + (I*A2_z_im + A2_z_re)^2))/(-(12621263614160140983224688665862025000000000000000/493039*I - 31499834196630525862407597355041795444375000000000000/38950081)*pi^4*((I*A1_z_im + A1_z_re)^2 + 2*(I*A1_z_im + A1_z_re)*(I*A2_z_im + A2_z_re) + (I*A2_z_im + A2_z_re)^2) + 315531590354003524580617216646550625000000000000/38950081*pi^4*((I*A1_z_im + A1_z_re)^2 - 2*(I*A1_z_im + A1_z_re)*(I*A2_z_im + A2_z_re) + (I*A2_z_im + A2_z_re)^2)) - (2500/79*I + 3125/6241)*pi^2))"
      ]
     },
     "execution_count": 228,
     "metadata": {},
     "output_type": "execute_result"
    }
   ],
   "source": [
    "Hy_bad_conductor_d.subs(x == A), Ex_bad_conductor_d.subs(x == A)"
   ]
  },
  {
   "cell_type": "code",
   "execution_count": null,
   "metadata": {},
   "outputs": [],
   "source": []
  },
  {
   "cell_type": "code",
   "execution_count": 229,
   "metadata": {},
   "outputs": [],
   "source": [
    "Ez_vacuum        = E_inner_vacuum_sol_z(x).subs(kappa_vacuum_sol).subs(kappa_sol).subs(k_z_sol_subs).subs(eqEz_a).subs(A1_x_re_im_subs, A2_x_re_im_subs)\n",
    "Ez_bad_conductor = E_bad_conductor_sol_z(x).subs(kappa_vacuum_sol).subs(kappa_sol).subs(k_z_sol_subs).subs(eqEz_a).subs(A1_x_re_im_subs, A2_x_re_im_subs)"
   ]
  },
  {
   "cell_type": "raw",
   "metadata": {},
   "source": [
    "print             (Ez_vacuum)\n",
    "display(Math(latex(Ez_vacuum)))"
   ]
  },
  {
   "cell_type": "code",
   "execution_count": 230,
   "metadata": {},
   "outputs": [],
   "source": [
    "Ez_bad_conductor_d = Ez_bad_conductor.subs(digit_values)\n",
    "Ez_vacuum_d        = Ez_vacuum.subs(digit_values)"
   ]
  },
  {
   "cell_type": "raw",
   "metadata": {},
   "source": [
    "print             (Ez_vacuum_d)\n",
    "display(Math(latex(Ez_vacuum_d)))"
   ]
  },
  {
   "cell_type": "raw",
   "metadata": {},
   "source": [
    "print             (Ez_bad_conductor_d)\n",
    "display(Math(latex(Ez_bad_conductor_d)))"
   ]
  },
  {
   "cell_type": "code",
   "execution_count": 231,
   "metadata": {},
   "outputs": [
    {
     "ename": "SyntaxError",
     "evalue": "invalid syntax (<ipython-input-231-c969fc1745fb>, line 1)",
     "output_type": "error",
     "traceback": [
      "\u001b[0;36m  File \u001b[0;32m\"<ipython-input-231-c969fc1745fb>\"\u001b[0;36m, line \u001b[0;32m1\u001b[0m\n\u001b[0;31m    .Ez_vacuum_d.subs(x == -A), Ez_vacuum_d.subs(x == -A/Integer(2)), Ez_vacuum_d.subs(x == Integer(0))\u001b[0m\n\u001b[0m    ^\u001b[0m\n\u001b[0;31mSyntaxError\u001b[0m\u001b[0;31m:\u001b[0m invalid syntax\n"
     ]
    }
   ],
   "source": [
    ".Ez_vacuum_d.subs(x == -A), Ez_vacuum_d.subs(x == -A/2), Ez_vacuum_d.subs(x == 0)"
   ]
  },
  {
   "cell_type": "code",
   "execution_count": null,
   "metadata": {},
   "outputs": [],
   "source": []
  },
  {
   "cell_type": "code",
   "execution_count": null,
   "metadata": {},
   "outputs": [],
   "source": [
    "print             (Ex_vacuum_d.variables())\n",
    "print             (Ex_bad_conductor_d.variables())"
   ]
  },
  {
   "cell_type": "code",
   "execution_count": null,
   "metadata": {},
   "outputs": [],
   "source": [
    "print             (Ez_vacuum_d.variables())\n",
    "print             (Ez_bad_conductor_d.variables())"
   ]
  },
  {
   "cell_type": "code",
   "execution_count": null,
   "metadata": {},
   "outputs": [],
   "source": [
    "print             (Hy_vacuum_d.variables())\n",
    "print             (Hy_bad_conductor_d.variables())"
   ]
  },
  {
   "cell_type": "code",
   "execution_count": null,
   "metadata": {},
   "outputs": [],
   "source": []
  },
  {
   "cell_type": "raw",
   "metadata": {},
   "source": [
    "eq_Hy_d = Hy_bad_conductor_d.subs(x == 0) == Hy_vacuum_d.subs(x == 0)\n",
    "eq_Hy_d = eq_Hy_d.subs(A1_z == A1_z_re + I * A1_z_im)\n",
    "eq_Hy_d.variables()"
   ]
  },
  {
   "cell_type": "code",
   "execution_count": null,
   "metadata": {},
   "outputs": [],
   "source": []
  },
  {
   "cell_type": "code",
   "execution_count": null,
   "metadata": {},
   "outputs": [],
   "source": [
    "Ez_vacuum_d.subs(x == 0) == Ez_bad_conductor_d.subs(x == 0)"
   ]
  },
  {
   "cell_type": "code",
   "execution_count": null,
   "metadata": {},
   "outputs": [],
   "source": [
    "eq_Ex_d = Ex_vacuum_d.subs(x == 0) == epsilon_complex * Ex_bad_conductor_d.subs(x == 0)\n",
    "eq_Ex_d = eq_Ex_d.subs(digit_values)\n",
    "eq_Ex_d.variables()"
   ]
  },
  {
   "cell_type": "code",
   "execution_count": null,
   "metadata": {},
   "outputs": [],
   "source": [
    "eq_Ex_d = Ex_vacuum_d.subs(x == 0) == epsilon * Ex_bad_conductor_d.subs(x == 0)\n",
    "eq_Ex_d = eq_Ex_d.subs(digit_values)\n",
    "eq_Ex_d.variables()"
   ]
  },
  {
   "cell_type": "code",
   "execution_count": null,
   "metadata": {},
   "outputs": [],
   "source": []
  },
  {
   "cell_type": "code",
   "execution_count": null,
   "metadata": {},
   "outputs": [],
   "source": [
    "plt =  plot(Ez_vacuum_d.real(), (x, -A, 0))\n",
    "plt += plot(Ez_bad_conductor_d.real(), (x, 0, A))\n",
    "plt.show(title=\"График тангенциальной компоненты электрического поля\")"
   ]
  },
  {
   "cell_type": "code",
   "execution_count": null,
   "metadata": {},
   "outputs": [],
   "source": [
    "plt =  plot(Ez_vacuum_d.imag(), (x, -A, 0))\n",
    "plt += plot(Ez_bad_conductor_d.imag(), (x, 0, A))\n",
    "plt.show(title=\"График тангенциальной компоненты электрического поля\")"
   ]
  },
  {
   "cell_type": "code",
   "execution_count": null,
   "metadata": {},
   "outputs": [],
   "source": [
    "plt =  plot(Ez_vacuum_d.abs(), (x, -A, 0))\n",
    "plt += plot(Ez_bad_conductor_d.abs(), (x, 0, A))\n",
    "plt.show(title=\"График тангенциальной компоненты электрического поля\")"
   ]
  },
  {
   "cell_type": "code",
   "execution_count": null,
   "metadata": {},
   "outputs": [],
   "source": []
  },
  {
   "cell_type": "code",
   "execution_count": null,
   "metadata": {},
   "outputs": [],
   "source": [
    "plt =  plot(Ex_vacuum_d.real(), (x, -A, 0))\n",
    "plt += plot(Ex_bad_conductor_d.real(), (x, 0, A))\n",
    "plt.show(title=\"График нормальной компоненты электрического поля\")"
   ]
  },
  {
   "cell_type": "code",
   "execution_count": null,
   "metadata": {},
   "outputs": [],
   "source": [
    "plt =  plot(Ex_vacuum_d.imag(), (x, -A, 0))\n",
    "plt+= plot(Ex_bad_conductor_d.imag(), (x, 0, A))\n",
    "plt.show(title=\"График нормальной компоненты электрического поля\")"
   ]
  },
  {
   "cell_type": "code",
   "execution_count": null,
   "metadata": {
    "scrolled": true
   },
   "outputs": [],
   "source": [
    "plt =  plot(Ex_vacuum_d.abs(), (x, -A, 0))\n",
    "plt += plot(Ex_bad_conductor_d.abs(), (x, 0, A))\n",
    "plt.show(title=\"График нормальной компоненты электрического поля\")"
   ]
  },
  {
   "cell_type": "code",
   "execution_count": null,
   "metadata": {},
   "outputs": [],
   "source": []
  },
  {
   "cell_type": "raw",
   "metadata": {},
   "source": [
    "plt =  plot(even_E_inner_vacuum_x_d (x).imag(), (x, 0, A))\n",
    "plt += plot(even_E_bad_conductor_x_d (x).imag()*epsilon.subs(digit_values), (x, A, 3*A))\n",
    "plt.show(title=\"График нормальной компоненты электрического смещения\")"
   ]
  },
  {
   "cell_type": "code",
   "execution_count": null,
   "metadata": {},
   "outputs": [],
   "source": [
    "plt =  plot(Ex_vacuum_d.real(), (x, -A, 0))\n",
    "plt += plot(Ex_bad_conductor_d.real() * epsilon_d, (x, 0, A))\n",
    "plt.show(title=\"График нормальной компоненты электрического смещения\")"
   ]
  },
  {
   "cell_type": "code",
   "execution_count": null,
   "metadata": {},
   "outputs": [],
   "source": [
    "plt =  plot(Ex_vacuum_d.imag(), (x, -A, 0))\n",
    "plt += plot(Ex_bad_conductor_d.imag() * epsilon_d, (x, 0, A))\n",
    "plt.show(title=\"График нормальной компоненты электрического смещения\")"
   ]
  },
  {
   "cell_type": "code",
   "execution_count": null,
   "metadata": {
    "scrolled": true
   },
   "outputs": [],
   "source": [
    "plt =  plot(Ex_vacuum_d.abs(), (x, -A, 0))\n",
    "plt += plot(Ex_bad_conductor_d.abs() * epsilon_d, (x, 0, A))\n",
    "plt.show(title=\"График нормальной компоненты электрического смещения\")"
   ]
  },
  {
   "cell_type": "code",
   "execution_count": null,
   "metadata": {},
   "outputs": [],
   "source": []
  },
  {
   "cell_type": "code",
   "execution_count": null,
   "metadata": {},
   "outputs": [],
   "source": [
    "plt =  plot(Hy_vacuum_d.real(), (x, -A, 0))\n",
    "plt += plot(Hy_bad_conductor_d.real(), (x, 0, A))\n",
    "plt.show(title=\"График тангенциальной компоненты напряженности магнитного поля H\")"
   ]
  },
  {
   "cell_type": "code",
   "execution_count": null,
   "metadata": {},
   "outputs": [],
   "source": [
    "plt =  plot(Hy_vacuum_d.imag(), (x, -A, 0))\n",
    "plt += plot(Hy_bad_conductor_d.imag(), (x, 0, A))\n",
    "plt.show(title=\"График тангенциальной компоненты напряженности магнитного поля H\")"
   ]
  },
  {
   "cell_type": "code",
   "execution_count": null,
   "metadata": {},
   "outputs": [],
   "source": [
    "plt =  plot(Hy_vacuum_d.abs(), (x, -A, 0))\n",
    "plt += plot(Hy_bad_conductor_d.abs(), (x, 0, A))\n",
    "plt.show(title=\"График тангенциальной компоненты напряженности магнитного поля H\")"
   ]
  },
  {
   "cell_type": "code",
   "execution_count": null,
   "metadata": {},
   "outputs": [],
   "source": []
  },
  {
   "cell_type": "code",
   "execution_count": null,
   "metadata": {},
   "outputs": [],
   "source": [
    "#even_disp_eq_fa(x)"
   ]
  },
  {
   "cell_type": "markdown",
   "metadata": {},
   "source": [
    "Решение получено и соответствует приведенному в решебнике ответу.\n",
    "\n",
    "Теперь посчитаем:\n",
    "\n",
    "1) пондеромоторную силу, приложенную к идеальному проводнику\n",
    "\n",
    "2) пондеромоторную силу, приложенную к границе диэлектрика и вакуума\n"
   ]
  },
  {
   "cell_type": "code",
   "execution_count": null,
   "metadata": {},
   "outputs": [],
   "source": []
  },
  {
   "cell_type": "markdown",
   "metadata": {},
   "source": [
    "1) пондеромоторная сила, приложенная к идеальному проводнику"
   ]
  },
  {
   "cell_type": "code",
   "execution_count": null,
   "metadata": {},
   "outputs": [],
   "source": [
    "# superconductor force\n",
    "# additional 1/2 arises as result of integration on period\n",
    "f_superconductor = - abs((even_H_inner_vacuum_y (0)^2) / (2*8*pi))\n",
    "print(\"f_superconductor =\", f_superconductor)"
   ]
  },
  {
   "cell_type": "code",
   "execution_count": null,
   "metadata": {},
   "outputs": [],
   "source": [
    "f_superconductor_d = f_superconductor.subs(digit_values).subs(B2_z == 1, kappa == even_kappa_sol)\n",
    "print(\"f_superconductor_d =\", f_superconductor_d)"
   ]
  },
  {
   "cell_type": "markdown",
   "metadata": {},
   "source": [
    "2) пондеромоторная сила, приложенная к плохому проводнику"
   ]
  },
  {
   "cell_type": "code",
   "execution_count": null,
   "metadata": {},
   "outputs": [],
   "source": [
    "# bad conductor force\n",
    "# additional 1/2 arises as result of integration on period\n",
    "f_bad_conductor = abs((even_H_inner_vacuum_y (a)^2) / (2*8*pi))\n",
    "print(\"f_bad_conductor =\", f_bad_conductor)"
   ]
  },
  {
   "cell_type": "code",
   "execution_count": null,
   "metadata": {},
   "outputs": [],
   "source": [
    "f_bad_conductor_d  = f_bad_conductor .subs(digit_values).subs(B2_z == 1, kappa == even_kappa_sol, a == A)\n",
    "print(\"f_bad_conductor_d  =\", f_bad_conductor_d )"
   ]
  },
  {
   "cell_type": "code",
   "execution_count": null,
   "metadata": {},
   "outputs": [],
   "source": []
  },
  {
   "cell_type": "code",
   "execution_count": null,
   "metadata": {},
   "outputs": [],
   "source": [
    "# bad conductor force\n",
    "# additional 1/2 arises as result of integration on period\n",
    "p_bad_conductor = (1.0 - epsilon) *(even_E_inner_vacuum_z (a)^2) / (2*8*pi)\n",
    "print(\"p_bad_conductor =\", p_bad_conductor)"
   ]
  },
  {
   "cell_type": "code",
   "execution_count": null,
   "metadata": {},
   "outputs": [],
   "source": [
    "p_bad_conductor_d  = p_bad_conductor .subs(digit_values).subs(B2_z == 1, kappa == even_kappa_sol, a == A)\n",
    "print(\"p_bad_conductor_d  =\", p_bad_conductor_d )"
   ]
  },
  {
   "cell_type": "code",
   "execution_count": null,
   "metadata": {},
   "outputs": [],
   "source": []
  },
  {
   "cell_type": "code",
   "execution_count": null,
   "metadata": {
    "scrolled": true
   },
   "outputs": [],
   "source": [
    "# super conductor tension\n",
    "# additional 1/2 arises as result of integration on period\n",
    "t_super_conductor = (0.0 - 1/1.) *(even_E_inner_vacuum_x (0).imag()^2 + even_E_inner_vacuum_x(0).real()^2) / (2*8*pi)\n",
    "print(\"t_super_conductor =\", t_super_conductor)"
   ]
  },
  {
   "cell_type": "code",
   "execution_count": null,
   "metadata": {},
   "outputs": [],
   "source": [
    "t_super_conductor_d  = t_super_conductor .subs(digit_values).subs(B2_z == 1, kappa == even_kappa_sol, k_z == even_kz_sol, a == A)\n",
    "print(\"t_super_conductor_d  =\", t_super_conductor_d )"
   ]
  },
  {
   "cell_type": "code",
   "execution_count": null,
   "metadata": {},
   "outputs": [],
   "source": [
    "# bad conductor force\n",
    "# additional 1/2 arises as result of integration on period\n",
    "t_bad_conductor = (1.0/1.0 - 1/epsilon) *(even_E_inner_vacuum_x (a).imag()^2 + even_E_inner_vacuum_x(a).real()^2) / (2*8*pi)\n",
    "print(\"t_bad_conductor =\", t_bad_conductor)"
   ]
  },
  {
   "cell_type": "code",
   "execution_count": null,
   "metadata": {},
   "outputs": [],
   "source": [
    "t_bad_conductor_d  = t_bad_conductor .subs(digit_values).subs(B2_z == 1, kappa == even_kappa_sol, k_z == even_kz_sol, a == A)\n",
    "print(\"t_bad_conductor_d  =\", t_bad_conductor_d )"
   ]
  },
  {
   "cell_type": "code",
   "execution_count": null,
   "metadata": {},
   "outputs": [],
   "source": []
  },
  {
   "cell_type": "markdown",
   "metadata": {},
   "source": [
    "Результаты вычислений показывают, что тяга в волновом двигателе с внутренним расходом энергии Ф.Ф.Менде (MenDrive) ненулевая и равна"
   ]
  },
  {
   "cell_type": "code",
   "execution_count": null,
   "metadata": {},
   "outputs": [],
   "source": [
    "(f_superconductor + f_bad_conductor).full_simplify()"
   ]
  },
  {
   "cell_type": "code",
   "execution_count": null,
   "metadata": {},
   "outputs": [],
   "source": [
    "f_superconductor_d + f_bad_conductor_d + t_super_conductor_d + t_bad_conductor_d - p_bad_conductor_d"
   ]
  },
  {
   "cell_type": "code",
   "execution_count": null,
   "metadata": {},
   "outputs": [],
   "source": [
    "(f_superconductor_d + f_bad_conductor_d)"
   ]
  },
  {
   "cell_type": "code",
   "execution_count": null,
   "metadata": {},
   "outputs": [],
   "source": [
    "(t_super_conductor_d + t_bad_conductor_d)"
   ]
  },
  {
   "cell_type": "code",
   "execution_count": null,
   "metadata": {},
   "outputs": [],
   "source": [
    "-p_bad_conductor_d"
   ]
  },
  {
   "cell_type": "markdown",
   "metadata": {},
   "source": [
    "положительный знак соответствует направлению тяги в сторону увеличения значений x"
   ]
  },
  {
   "cell_type": "code",
   "execution_count": null,
   "metadata": {},
   "outputs": [],
   "source": []
  },
  {
   "cell_type": "code",
   "execution_count": null,
   "metadata": {},
   "outputs": [],
   "source": []
  },
  {
   "cell_type": "code",
   "execution_count": null,
   "metadata": {},
   "outputs": [],
   "source": []
  }
 ],
 "metadata": {
  "kernelspec": {
   "display_name": "SageMath 9.4.rc2",
   "language": "sage",
   "name": "sagemath"
  },
  "language_info": {
   "codemirror_mode": {
    "name": "ipython",
    "version": 3
   },
   "file_extension": ".py",
   "mimetype": "text/x-python",
   "name": "python",
   "nbconvert_exporter": "python",
   "pygments_lexer": "ipython3",
   "version": "3.9.5"
  }
 },
 "nbformat": 4,
 "nbformat_minor": 4
}
