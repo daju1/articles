{
 "cells": [
  {
   "cell_type": "markdown",
   "metadata": {},
   "source": [
    "# Электродинамический расчёт волнового двигателя с внутренним расходом энергии Ф.Ф.Менде (MenDrive)\n",
    "\n",
    "А.Ю.Дроздов"
   ]
  },
  {
   "cell_type": "markdown",
   "metadata": {},
   "source": [
    "опираясь на выкладки из параграфа 20 Электродинамики Зоммерфельда"
   ]
  },
  {
   "cell_type": "markdown",
   "metadata": {},
   "source": [
    "рассчитаем тягу в\n",
    "\n",
    "http://fmnauka.narod.ru/dvigatel_emdrive.pdf\n",
    "\n",
    "Ф.Ф. МЕНДЕ, ВОЛНОВОЙ ДВИГАТЕЛЬ С ВНУТРЕННИМ РАСХОДОМ ЭНЕРГИИ ЭЛЕКТРОМАГНИТНЫХ КОЛЕБАНИЙ"
   ]
  },
  {
   "cell_type": "markdown",
   "metadata": {},
   "source": [
    "геометрия задачи следующая: \n",
    "\n",
    "поверхность идеального проводника $x<=-a$\n",
    "\n",
    "вакуум внутри резонатора заполняет область $-a<=x<=0$\n",
    "\n",
    "В области $x>0$ - плохой проводник"
   ]
  },
  {
   "cell_type": "markdown",
   "metadata": {},
   "source": [
    "По признанию самого автора изложенному в сообщениях форума\n",
    "\n",
    "http://www.forum.za-nauku.ru/index.php/topic,4911.0.html\n",
    "\n",
    "в статье Менде \"есть скрытая ошибка\" и \"такой двигатель работать не будет\".\n",
    "\n",
    "```\n",
    "Найти ошибку в представленной мной работе нетрудно. Рассмотрите случай, когда из волновода выбрасываются в разные стороны не ЭМ волны, а два одинаковых шара с одинаковыми скоростями, положив, что от одной стенки шар упруго отражается, а по отношению к другой стенке удар является неупругим.\n",
    "```\n",
    "```\n",
    "Вы имеете в виду что на полностью поглощающую поверхность падают на самом деле две (а не одна, как в Вашей работе) падающие волны: одна суть отраженная от полностью отражающей поверхности, а другая от источника подводимой электромагнитной энергии?\n",
    "```\n",
    "\n",
    "```\n",
    "Вот именно.\n",
    "```"
   ]
  },
  {
   "cell_type": "markdown",
   "metadata": {},
   "source": [
    "В ходе нижеприведенного расчёта действительно было установлено, что если резонатор состоит из только лишь идеального проводника с одной стороны и обычного проводника с омическими потерями с другой стороны, то результирующая пондеромоторная очень и очень мало отличается от нуля.\n",
    "\n",
    "Но если вместо плохого проводника произвести моделирование с материалом который обладает не только лишь проводимостью, но также и достаточно заметной диэлетрической и магнитными проницаемостями тогда формируется конфигурация поля приводящая к заметным и весьма интересным с практической точки зрения значениям пондеромоторной силы имеющих в моих расчётах порядок несколько миллиньютонов на киловатт"
   ]
  },
  {
   "cell_type": "markdown",
   "metadata": {},
   "source": [
    "Итак начинаем расчёт с записи первой пары уравнений Максвелла"
   ]
  },
  {
   "cell_type": "markdown",
   "metadata": {},
   "source": [
    "$$rot\\,\\vec{E} = -\\frac{1}{c}\\frac{\\partial \\vec B}{\\partial t} - \\frac{4\\pi}{c}\\vec j_m = \\mu\\,\\frac{i\\,\\omega}{c}\\,\\vec{H} - \\frac{4\\pi}{c}\\sigma_m \\vec H $$\n",
    "\n",
    "$$rot\\,\\vec{H} = \\frac{1}{c}\\frac{\\partial \\vec D}{\\partial t} + \\frac{4\\pi}{c} \\vec j_e = - \\frac{i\\,\\omega}{c} \\epsilon \\vec{E} + \\frac{4\\pi}{c}\\sigma_e \\vec E$$"
   ]
  },
  {
   "cell_type": "markdown",
   "metadata": {},
   "source": [
    "ищем решение в виде позволяющем разделить переменные\n",
    "\n",
    "$$\\vec{E}(t) = \\vec{E}(x, y)\\,e^{i\\,K_z\\,z}\\,e^{-i\\,\\omega\\,t}$$\n",
    "\n",
    "$$\\vec{E} = \\vec{E}(x, y)\\,e^{i\\,K_z\\,z}$$"
   ]
  },
  {
   "cell_type": "markdown",
   "metadata": {},
   "source": [
    "$$\\vec{H}(t) = \\vec{H}(x, y)\\,e^{i\\,K_z\\,z}\\,e^{-i\\,\\omega\\,t}$$\n",
    "\n",
    "$$\\vec{H} = \\vec{H}(x, y)\\,e^{i\\,K_z\\,z}$$"
   ]
  },
  {
   "cell_type": "markdown",
   "metadata": {},
   "source": [
    "расписываем ротор через производные"
   ]
  },
  {
   "cell_type": "markdown",
   "metadata": {},
   "source": [
    "$$\\mu\\,\\frac{i\\,\\omega}{c}\\,\\vec{H} - \\frac{4\\pi}{c}\\sigma_m \\vec H = {\\displaystyle {\\text{rot}}\\vec {E} =\\left({\\frac {\\partial E_{z}}{\\partial y}}-{\\frac {\\partial E_{y}}{\\partial z}}\\right)\\mathbf {i} +\\left({\\frac {\\partial E_{x}}{\\partial z}}-{\\frac {\\partial E_{z}}{\\partial x}}\\right)\\mathbf {j} +\\left({\\frac {\\partial E_{y}}{\\partial x}}-{\\frac {\\partial E_{x}}{\\partial y}}\\right)\\mathbf {k} }$$"
   ]
  },
  {
   "cell_type": "markdown",
   "metadata": {},
   "source": [
    "$$ - \\frac{i\\,\\omega}{c} \\epsilon \\vec{E} + \\frac{4\\pi}{c}\\sigma_e \\vec E = {\\displaystyle {\\text{rot}}\\vec {H} =\\left({\\frac {\\partial H_{z}}{\\partial y}}-{\\frac {\\partial H_{y}}{\\partial z}}\\right)\\mathbf {i} +\\left({\\frac {\\partial H_{x}}{\\partial z}}-{\\frac {\\partial H_{z}}{\\partial x}}\\right)\\mathbf {j} +\\left({\\frac {\\partial H_{y}}{\\partial x}}-{\\frac {\\partial H_{x}}{\\partial y}}\\right)\\mathbf {k} }$$"
   ]
  },
  {
   "cell_type": "markdown",
   "metadata": {},
   "source": [
    "учитывая, что дифференцирование по $z$ приводит к умножению на $i K_z$"
   ]
  },
  {
   "cell_type": "markdown",
   "metadata": {},
   "source": [
    "$$\\left(\\mu\\,\\frac{i\\,\\omega}{c} - \\frac{4\\pi}{c}\\sigma_m \\right) \\vec H = { \\left({\\frac {\\partial E_{z}}{\\partial y}}-i K_z E_{y}\\right)\\mathbf {i} +\\left(i K_z E_{x}-{\\frac {\\partial E_{z}}{\\partial x}}\\right)\\mathbf {j} +\\left({\\frac {\\partial E_{y}}{\\partial x}}-{\\frac {\\partial E_{x}}{\\partial y}}\\right)\\mathbf {k} }$$"
   ]
  },
  {
   "cell_type": "markdown",
   "metadata": {},
   "source": [
    "$$ \\left(- \\frac{i\\,\\omega}{c} \\epsilon + \\frac{4\\pi}{c}\\sigma_e \\right) \\vec E = \\left({\\frac {\\partial H_{z}}{\\partial y}}-i K_z H_{y}\\right)\\mathbf {i} +\\left(i K_z H_{x}-{\\frac {\\partial H_{z}}{\\partial x}}\\right)\\mathbf {j} +\\left({\\frac {\\partial H_{y}}{\\partial x}}-{\\frac {\\partial H_{x}}{\\partial y}}\\right)\\mathbf {k} $$"
   ]
  },
  {
   "cell_type": "markdown",
   "metadata": {},
   "source": [
    "$$\\frac{i\\,\\omega}{c}\\left(\\mu + i \\frac{4\\pi}{\\omega}\\sigma_m \\right) \\vec H = { \\left({\\frac {\\partial E_{z}}{\\partial y}}-i K_z E_{y}\\right)\\mathbf {i} +\\left(i K_z E_{x}-{\\frac {\\partial E_{z}}{\\partial x}}\\right)\\mathbf {j} +\\left({\\frac {\\partial E_{y}}{\\partial x}}-{\\frac {\\partial E_{x}}{\\partial y}}\\right)\\mathbf {k} }$$"
   ]
  },
  {
   "cell_type": "markdown",
   "metadata": {},
   "source": [
    "$$ - \\frac{i\\,\\omega}{c}\\left( \\epsilon + i \\frac{4\\pi}{\\omega}\\sigma_e \\right) \\vec E = \\left({\\frac {\\partial H_{z}}{\\partial y}}-i K_z H_{y}\\right)\\mathbf {i} +\\left(i K_z H_{x}-{\\frac {\\partial H_{z}}{\\partial x}}\\right)\\mathbf {j} +\\left({\\frac {\\partial H_{y}}{\\partial x}}-{\\frac {\\partial H_{x}}{\\partial y}}\\right)\\mathbf {k} $$"
   ]
  },
  {
   "cell_type": "markdown",
   "metadata": {},
   "source": [
    "принимая модель комплексного представления магнитной проницаемости $\\mu' = \\mu + \\frac{4\\pi\\,\\sigma_m}{\\omega}\\,i$ (магнитный проводник)"
   ]
  },
  {
   "cell_type": "markdown",
   "metadata": {},
   "source": [
    "и комплексного представления диэлектрической проницаемости $\\epsilon' = \\epsilon + \\frac{4\\pi\\,\\sigma}{\\omega}\\,i$ (плохой проводник)"
   ]
  },
  {
   "cell_type": "markdown",
   "metadata": {},
   "source": [
    "$$\\frac{i\\,\\omega}{c}\\mu' \\vec H = { \\left({\\frac {\\partial E_{z}}{\\partial y}}-i K_z E_{y}\\right)\\mathbf {i} +\\left(i K_z E_{x}-{\\frac {\\partial E_{z}}{\\partial x}}\\right)\\mathbf {j} +\\left({\\frac {\\partial E_{y}}{\\partial x}}-{\\frac {\\partial E_{x}}{\\partial y}}\\right)\\mathbf {k} }$$"
   ]
  },
  {
   "cell_type": "markdown",
   "metadata": {},
   "source": [
    "$$ - \\frac{i\\,\\omega}{c} \\epsilon' \\vec E = \\left({\\frac {\\partial H_{z}}{\\partial y}}-i K_z H_{y}\\right)\\mathbf {i} +\\left(i K_z H_{x}-{\\frac {\\partial H_{z}}{\\partial x}}\\right)\\mathbf {j} +\\left({\\frac {\\partial H_{y}}{\\partial x}}-{\\frac {\\partial H_{x}}{\\partial y}}\\right)\\mathbf {k} $$"
   ]
  },
  {
   "cell_type": "markdown",
   "metadata": {},
   "source": [
    "Покомпонентно (если тензоры магнитной и электрической проницаемостей диагональны)"
   ]
  },
  {
   "cell_type": "markdown",
   "metadata": {},
   "source": [
    "$$\\frac{i\\,\\omega}{c}{{\\mu'}_{xx}} H_x = \\frac {\\partial E_{z}}{\\partial y}-i K_z E_{y}$$"
   ]
  },
  {
   "cell_type": "markdown",
   "metadata": {},
   "source": [
    "$$\\frac{i\\,\\omega}{c}{\\mu'}_{yy} H_y = i K_z E_{x}-{\\frac {\\partial E_{z}}{\\partial x}}$$"
   ]
  },
  {
   "cell_type": "markdown",
   "metadata": {},
   "source": [
    "$$\\frac{i\\,\\omega}{c}{\\mu'}_{zz} H_z = {\\frac {\\partial E_{y}}{\\partial x}}-{\\frac {\\partial E_{x}}{\\partial y}}$$"
   ]
  },
  {
   "cell_type": "markdown",
   "metadata": {},
   "source": [
    "и"
   ]
  },
  {
   "cell_type": "markdown",
   "metadata": {},
   "source": [
    "$$ - \\frac{i\\,\\omega}{c} {\\epsilon'}_{xx} E_x = {\\frac {\\partial H_{z}}{\\partial y}}-i K_z H_{y} $$"
   ]
  },
  {
   "cell_type": "markdown",
   "metadata": {},
   "source": [
    "$$ - \\frac{i\\,\\omega}{c} {\\epsilon'}_{yy} E_y = i K_z H_{x}-{\\frac {\\partial H_{z}}{\\partial x}}$$"
   ]
  },
  {
   "cell_type": "markdown",
   "metadata": {},
   "source": [
    "$$ - \\frac{i\\,\\omega}{c} {\\epsilon'}_{zz} E_z = {\\frac {\\partial H_{y}}{\\partial x}}-{\\frac {\\partial H_{x}}{\\partial y}}$$"
   ]
  },
  {
   "cell_type": "markdown",
   "metadata": {},
   "source": [
    "Группируем уравнения в пары, удобные для исключения переменных поля в левой части"
   ]
  },
  {
   "cell_type": "markdown",
   "metadata": {},
   "source": [
    "$$\\frac{i\\,\\omega}{c}{\\mu'}_{xx} H_x+i K_z E_{y} = \\frac {\\partial E_{z}}{\\partial y}$$"
   ]
  },
  {
   "cell_type": "markdown",
   "metadata": {},
   "source": [
    "$$ - \\frac{i\\,\\omega}{c} {\\epsilon'}_{yy} E_y - i K_z H_{x}= -{\\frac {\\partial H_{z}}{\\partial x}}$$"
   ]
  },
  {
   "cell_type": "markdown",
   "metadata": {},
   "source": [
    "и"
   ]
  },
  {
   "cell_type": "markdown",
   "metadata": {},
   "source": [
    "$$\\frac{i\\,\\omega}{c}{\\mu'}_{yy} H_y - i K_z E_{x} = -{\\frac {\\partial E_{z}}{\\partial x}}$$"
   ]
  },
  {
   "cell_type": "markdown",
   "metadata": {},
   "source": [
    "$$ i K_z H_{y}- \\frac{i\\,\\omega}{c} {\\epsilon'}_{xx} E_x = {\\frac {\\partial H_{z}}{\\partial y}} $$"
   ]
  },
  {
   "cell_type": "markdown",
   "metadata": {},
   "source": [
    "Производя исключение"
   ]
  },
  {
   "cell_type": "markdown",
   "metadata": {},
   "source": [
    "$$\\left(\\frac{i \\omega {\\mu'}_{xx}}{K_z c} - \\frac{i\\,K_z c}{\\omega {\\epsilon'}_{yy}}\\right) H_{x}= \\frac{1}{K_z }\\frac {\\partial E_{z}}{\\partial y}-\\frac{c}{\\omega {\\epsilon'}_{yy}}{\\frac {\\partial H_{z}}{\\partial x}}$$"
   ]
  },
  {
   "cell_type": "markdown",
   "metadata": {},
   "source": [
    "$$\\left(\\frac{i K_z c}{\\omega {\\mu'}_{xx}} - \\frac{i\\,\\omega {\\epsilon'}_{yy}}{K_z c}  \\right)E_y = \\frac{c}{\\omega {\\mu'}_{xx}} \\frac {\\partial E_{z}}{\\partial y}-\\frac{1}{K_z}{\\frac {\\partial H_{z}}{\\partial x}}$$"
   ]
  },
  {
   "cell_type": "markdown",
   "metadata": {},
   "source": [
    "и"
   ]
  },
  {
   "cell_type": "markdown",
   "metadata": {},
   "source": [
    "$$\\left(\\frac{i\\,\\omega}{K_z c}{\\mu'}_{yy}  - \\frac{i K_z c}{\\omega {\\epsilon'}_{xx}} \\right) H_{y} = -\\frac{1}{K_z}{\\frac {\\partial E_{z}}{\\partial x}} - \\frac{c}{\\omega {\\epsilon'}_{xx}} {\\frac {\\partial H_{z}}{\\partial y}}$$"
   ]
  },
  {
   "cell_type": "markdown",
   "metadata": {},
   "source": [
    "$$ \\left(\\frac{i K_z c}{\\omega{\\mu'}_{yy}} - \\frac{i\\,\\omega}{K_z c} {\\epsilon'}_{xx} \\right) E_x = \\frac{1}{K_z} {\\frac {\\partial H_{z}}{\\partial y}} + \\frac{c}{\\omega{\\mu'}_{yy}}{\\frac {\\partial E_{z}}{\\partial x}} $$"
   ]
  },
  {
   "cell_type": "markdown",
   "metadata": {},
   "source": [
    "Получаем выражение для поперечных (по отношению к оси волновода $z$ ) компонент поля через продольные"
   ]
  },
  {
   "cell_type": "markdown",
   "metadata": {},
   "source": [
    "Учитывая также запись третьего уравнения Максвелла в виде\n",
    "\n",
    "$$div\\,\\vec{D} = 4\\pi\\rho$$"
   ]
  },
  {
   "cell_type": "markdown",
   "metadata": {},
   "source": [
    "$$div\\,\\epsilon\\vec{E} = 4\\pi\\rho$$\n"
   ]
  },
  {
   "cell_type": "markdown",
   "metadata": {},
   "source": [
    "Итак начинаем расчёт с записи первой пары уравнений Максвелла"
   ]
  },
  {
   "cell_type": "markdown",
   "metadata": {},
   "source": [
    "$$rot\\,\\vec{E} = -\\frac{1}{c}\\frac{\\partial \\vec B}{\\partial t} - \\frac{4\\pi}{c}\\vec j_m = \\frac{i\\,\\omega}{c}\\mu'\\,\\vec{H}$$\n",
    "\n",
    "$$rot\\,\\vec{H} = \\frac{1}{c}\\frac{\\partial \\vec D}{\\partial t} + \\frac{4\\pi}{c} \\vec j_e = - \\frac{i\\,\\omega}{c} \\epsilon' \\vec{E}$$"
   ]
  },
  {
   "cell_type": "markdown",
   "metadata": {},
   "source": [
    "Применяя к первому уравнению из этой пары операцию ротора\n",
    "\n",
    "$$rot\\,rot\\,\\vec{E} =  \\frac{i\\,\\omega}{c} \\, rot\\left(\\mu'\\,\\vec{H}\\right)$$"
   ]
  },
  {
   "cell_type": "markdown",
   "metadata": {},
   "source": [
    "при условии диагональности тензора магнитной проницаемости"
   ]
  },
  {
   "cell_type": "markdown",
   "metadata": {},
   "source": [
    "$$ rot\\left(\\mu'\\,\\vec{H}\\right) =\n",
    "\\left({\\frac {\\partial \\left(\\mu'_{zz}H_{z}\\right)}{\\partial y}}-{\\frac {\\partial\\left( \\mu'_{yy} H_{y}\\right)}{\\partial z}}\\right)\\mathbf {i} +\\left({\\frac {\\partial \\left(\\mu'_{xx} H_{x}\\right)}{\\partial z}}-{\\frac {\\partial \\left(\\mu'_{zz} H_{z}\\right)}{\\partial x}}\\right)\\mathbf {j} +\\left({\\frac {\\partial \\left(\\mu'_{yy}H_{y}\\right)}{\\partial x}}-{\\frac {\\partial \\left(\\mu'_{xx} H_{x}\\right)}{\\partial y}}\\right)\\mathbf {k}$$"
   ]
  },
  {
   "cell_type": "markdown",
   "metadata": {},
   "source": [
    "Поскольку нам нужно получить дифференциальное уравнение для продольной (z) компоненты поля (ибо поперечные компоненты поля выше уже удалось выразить через продольные, мы далее пишем"
   ]
  },
  {
   "cell_type": "markdown",
   "metadata": {},
   "source": [
    "$$\\left(rot\\,rot\\,\\vec{E}\\right)_x = \\frac{i\\,\\omega}{c} \\, \\left({\\frac {\\partial \\left(\\mu'_{zz}H_{z}\\right)}{\\partial y}}-{\\frac {\\partial \\left(\\mu'_{yy} H_{y}\\right)}{\\partial z}}\\right)$$"
   ]
  },
  {
   "cell_type": "markdown",
   "metadata": {},
   "source": [
    "$$\\left(rot\\,rot\\,\\vec{E}\\right)_x = \\frac{i\\,\\omega}{c} \\, \\left({\\frac {\\partial \\left(\\left(\\mu'_{zz}-\\mu'_{yy}+\\mu'_{yy}\\right)H_{z}\\right)}{\\partial y}}-{\\frac {\\partial \\left(\\mu'_{yy} H_{y}\\right)}{\\partial z}}\\right)$$"
   ]
  },
  {
   "cell_type": "markdown",
   "metadata": {},
   "source": [
    "$$\\left(rot\\,rot\\,\\vec{E}\\right)_x = \\frac{i\\,\\omega}{c} \\, \\left({\\frac {\\partial \\left(\\left(\\mu'_{zz}-\\mu'_{yy}\\right)H_{z}\\right)}{\\partial y}}\\right) + \\frac{i\\,\\omega}{c} \\, \\left({\\frac {\\partial \\left(\\mu'_{yy} H_{z}\\right)}{\\partial y}}-{\\frac {\\partial \\left(\\mu'_{yy} H_{y}\\right)}{\\partial z}}\\right)$$"
   ]
  },
  {
   "cell_type": "markdown",
   "metadata": {},
   "source": [
    "$$\\left(rot\\,rot\\,\\vec{E}\\right)_x = \\left(\\mu'_{zz}-\\mu'_{yy}\\right) \\frac{i\\,\\omega}{c} \\, \\left({\\frac {\\partial H_{z}}{\\partial y}}\\right) + \\frac{i\\,\\omega}{c} \\, \\mu'_{yy}\\left(rot \\vec H\\right)_x$$"
   ]
  },
  {
   "cell_type": "markdown",
   "metadata": {},
   "source": [
    "$$\\left(rot\\,rot\\,\\vec{E}\\right)_x = \\left(\\mu'_{zz}-\\mu'_{yy}\\right) \\frac{i\\,\\omega}{c} \\, \\left({\\frac {\\partial H_{z}}{\\partial y}}\\right) + \\frac{i\\,\\omega}{c} \\, \\mu'_{yy}\\left(- \\frac{i\\,\\omega}{c} \\epsilon' \\vec{E}\\right)_x$$"
   ]
  },
  {
   "cell_type": "markdown",
   "metadata": {},
   "source": [
    "$$\\left(rot\\,rot\\,\\vec{E}\\right)_x = \\left(\\mu'_{zz}-\\mu'_{yy}\\right) \\frac{i\\,\\omega}{c} \\, \\left({\\frac {\\partial H_{z}}{\\partial y}}\\right) + \\frac{\\omega^2}{c^2} \\, \\mu'_{yy}\\epsilon'_{xx} {E_x}$$"
   ]
  },
  {
   "cell_type": "code",
   "execution_count": null,
   "metadata": {},
   "outputs": [],
   "source": []
  },
  {
   "cell_type": "markdown",
   "metadata": {},
   "source": [
    "\n",
    "$$\\left(rot\\,rot\\,\\vec{E}\\right)_y =  \\frac{i\\,\\omega}{c} \\, \\left({\\frac {\\partial \\left( \\mu'_{xx} H_{x}\\right)}{\\partial z}}-{\\frac {\\partial \\left(\\mu'_{zz} H_{z}\\right)}{\\partial x}}\\right)$$"
   ]
  },
  {
   "cell_type": "markdown",
   "metadata": {},
   "source": [
    "\n",
    "$$\\left(rot\\,rot\\,\\vec{E}\\right)_y =  \\frac{i\\,\\omega}{c} \\, \\left({\\frac {\\partial \\left( \\left(\\mu'_{xx} - \\mu'_{zz} + \\mu'_{zz}\\right) H_{x}\\right)}{\\partial z}}-{\\frac {\\partial \\left(\\mu'_{zz} H_{z}\\right)}{\\partial x}}\\right)$$"
   ]
  },
  {
   "cell_type": "markdown",
   "metadata": {},
   "source": [
    "$$\\left(rot\\,rot\\,\\vec{E}\\right)_y =  \\frac{i\\,\\omega}{c} \\, {\\frac {\\partial \\left( \\left(\\mu'_{xx} - \\mu'_{zz}\\right) H_{x}\\right)}{\\partial z}} + \\frac{i\\,\\omega}{c} \\, \\left({\\frac {\\partial \\left( \\mu'_{zz} H_{x}\\right)}{\\partial z}}-{\\frac {\\partial \\left(\\mu'_{zz} H_{z}\\right)}{\\partial x}}\\right)$$"
   ]
  },
  {
   "cell_type": "markdown",
   "metadata": {},
   "source": [
    "$$\\left(rot\\,rot\\,\\vec{E}\\right)_y = \\left(\\mu'_{xx} - \\mu'_{zz}\\right) \\frac{i\\,\\omega}{c} \\, {\\frac {\\partial   H_{x}}{\\partial z}} + \\frac{i\\,\\omega}{c} \\, \\mu'_{zz}\\left(rot \\vec H\\right)_y$$"
   ]
  },
  {
   "cell_type": "markdown",
   "metadata": {},
   "source": [
    "$$\\left(rot\\,rot\\,\\vec{E}\\right)_y = \\left(\\mu'_{xx} - \\mu'_{zz}\\right) \\frac{i\\,\\omega}{c} \\, {\\frac {\\partial   H_{x}}{\\partial z}} + \\frac{i\\,\\omega}{c} \\, \\mu'_{zz}\\left(- \\frac{i\\,\\omega}{c} \\epsilon' \\vec{E}\\right)_y$$"
   ]
  },
  {
   "cell_type": "markdown",
   "metadata": {},
   "source": [
    "$$\\left(rot\\,rot\\,\\vec{E}\\right)_y = \\left(\\mu'_{xx} - \\mu'_{zz}\\right) \\frac{i\\,\\omega}{c} \\, {\\frac {\\partial   H_{x}}{\\partial z}} + \\frac{\\omega^2}{c^2} \\, \\mu'_{zz} \\epsilon'_{yy} {E}_y$$"
   ]
  },
  {
   "cell_type": "code",
   "execution_count": null,
   "metadata": {},
   "outputs": [],
   "source": []
  },
  {
   "cell_type": "markdown",
   "metadata": {},
   "source": [
    "\n",
    "$$\\left(rot\\,rot\\,\\vec{E}\\right)_z =  \\frac{i\\,\\omega}{c} \\, \\left({\\frac {\\partial \\left(\\mu'_{yy}H_{y}\\right)}{\\partial x}}-{\\frac {\\partial \\left(\\mu'_{xx} H_{x}\\right)}{\\partial y}}\\right)$$"
   ]
  },
  {
   "cell_type": "markdown",
   "metadata": {},
   "source": [
    "$$\\left(rot\\,rot\\,\\vec{E}\\right)_z =  \\frac{i\\,\\omega}{c} \\, \\left({\\frac {\\partial \\left(\\left(\\mu'_{yy}-\\mu'_{xx}+\\mu'_{xx}\\right)H_{y}\\right)}{\\partial x}}-{\\frac {\\partial \\left(\\mu'_{xx} H_{x}\\right)}{\\partial y}}\\right)$$"
   ]
  },
  {
   "cell_type": "markdown",
   "metadata": {},
   "source": [
    "$$\\left(rot\\,rot\\,\\vec{E}\\right)_z =  \\frac{i\\,\\omega}{c} \\, {\\frac {\\partial \\left(\\left(\\mu'_{yy}-\\mu'_{xx}\\right)H_{y}\\right)}{\\partial x}} + \\frac{i\\,\\omega}{c} \\, \\left({\\frac {\\partial \\left(\\mu'_{xx}\\,H_{y}\\right)}{\\partial x}}-{\\frac {\\partial \\left(\\mu'_{xx}\\, H_{x}\\right)}{\\partial y}}\\right)$$"
   ]
  },
  {
   "cell_type": "markdown",
   "metadata": {},
   "source": [
    "$$\\left(rot\\,rot\\,\\vec{E}\\right)_z =  \\left(\\mu'_{yy}-\\mu'_{xx}\\right)\\frac{i\\,\\omega}{c} \\, {\\frac {\\partial H_{y}}{\\partial x}} + \\frac{i\\,\\omega}{c} \\, \\mu'_{xx}\\left(rot \\vec H\\right)_z$$"
   ]
  },
  {
   "cell_type": "markdown",
   "metadata": {},
   "source": [
    "$$\\left(rot\\,rot\\,\\vec{E}\\right)_z = \\left(\\mu'_{yy}-\\mu'_{xx}\\right) \\frac{i\\,\\omega}{c} \\, {\\frac {\\partial H_{y}}{\\partial x}} + \\frac{i\\,\\omega}{c} \\, \\mu'_{xx}\\left(- \\frac{i\\,\\omega}{c} \\epsilon' \\vec{E}\\right)_z$$"
   ]
  },
  {
   "cell_type": "markdown",
   "metadata": {},
   "source": [
    "$$\\left(rot\\,rot\\,\\vec{E}\\right)_z = \\left(\\mu'_{yy}-\\mu'_{xx}\\right) \\frac{i\\,\\omega}{c} \\, {\\frac {\\partial  H_{y}}{\\partial x}} + \\frac{\\omega^2}{c^2} \\, \\mu'_{xx}\\epsilon'_{zz} {E}_z$$"
   ]
  },
  {
   "cell_type": "markdown",
   "metadata": {},
   "source": [
    "$$rot\\,rot\\,\\vec{E} = grad\\,div\\,\\vec{E} - Laplasian\\,\\vec{E}$$"
   ]
  },
  {
   "cell_type": "markdown",
   "metadata": {},
   "source": [
    "$$\\left(Laplasian\\,\\vec{E}\\right)_z + \\left(\\mu'_{yy}-\\mu'_{xx}\\right) \\frac{i\\,\\omega}{c} \\, {\\frac {\\partial  H_{y}}{\\partial x}} + \\frac{\\omega^2}{c^2} \\, \\mu'_{xx}\\epsilon'_{zz} {E}_z - \\left(grad\\,div\\,\\vec{E} \\right)_z = 0$$"
   ]
  },
  {
   "cell_type": "markdown",
   "metadata": {},
   "source": [
    "Рассмотрим сейчас градиент дивергенции"
   ]
  },
  {
   "cell_type": "markdown",
   "metadata": {},
   "source": [
    "ищем решение в виде позволяющем разделить переменные\n",
    "\n",
    "$$\\vec{E}(t) = \\vec{E}(x, y)\\,e^{i\\,K_z\\,z}\\,e^{-i\\,\\omega\\,t}$$\n",
    "\n",
    "$$\\vec{E} = \\vec{E}(x, y)\\,e^{i\\,K_z\\,z}$$"
   ]
  },
  {
   "cell_type": "markdown",
   "metadata": {},
   "source": [
    "$$div = \\left(\\frac{\\partial}{\\partial x} \\hat i + \\frac{\\partial}{\\partial y} \\hat j+ \\frac{\\partial}{\\partial z} \\hat k\\right) \\cdot$$"
   ]
  },
  {
   "cell_type": "markdown",
   "metadata": {},
   "source": [
    "$$div\\,\\vec{E} = \\left(\\frac{\\partial E_x(x, y)\\,e^{i\\,K_z\\,z}}{\\partial x} + \\frac{\\partial E_y(x, y)\\,e^{i\\,K_z\\,z}}{\\partial y} + \\frac{\\partial E_z(x, y)\\,e^{i\\,K_z\\,z}}{\\partial z}\\right)\\,e^{-i\\,\\omega\\,t} $$"
   ]
  },
  {
   "cell_type": "markdown",
   "metadata": {},
   "source": [
    "$$div\\,\\vec{E} = \\left(\\frac{\\partial E_x(x, y)}{\\partial x} + \\frac{\\partial E_y(x, y)}{\\partial y} + i\\,K_z E_z(x, y)\\right)\\,e^{i\\,K_z\\,z} \\,e^{-i\\,\\omega\\,t}$$"
   ]
  },
  {
   "cell_type": "markdown",
   "metadata": {},
   "source": [
    "выберем решение для которого поле не изменяется вдоль y"
   ]
  },
  {
   "cell_type": "markdown",
   "metadata": {},
   "source": [
    "$$\\left(grad \\, div\\,\\vec{E}\\right)_x = \\frac{\\partial}{\\partial x}\\left(\\frac{\\partial E_x(x, y)}{\\partial x} +  i\\,K_z E_z(x, y)\\right)\\,e^{i\\,K_z\\,z} \\,e^{-i\\,\\omega\\,t}$$"
   ]
  },
  {
   "cell_type": "markdown",
   "metadata": {},
   "source": [
    "$$\\left(grad \\, div\\,\\vec{E}\\right)_x = \\left(\\frac{\\partial^2 E_x(x, y)}{\\partial x^2} +  i\\,K_z \\frac{\\partial E_z(x, y)}{\\partial x}\\right)\\,e^{i\\,K_z\\,z} \\,e^{-i\\,\\omega\\,t}$$"
   ]
  },
  {
   "cell_type": "markdown",
   "metadata": {},
   "source": [
    "$$\\left(grad \\, div\\,\\vec{E}\\right)_y = 0$$"
   ]
  },
  {
   "cell_type": "markdown",
   "metadata": {},
   "source": [
    "$$\\left(grad \\, div\\,\\vec{E}\\right)_z = \\frac{\\partial}{\\partial z}\\left\\{\\left(\\frac{\\partial E_x(x, y)}{\\partial x} +  i\\,K_z E_z(x, y)\\right)\\,e^{i\\,K_z\\,z}\\right\\} \\,e^{-i\\,\\omega\\,t}$$"
   ]
  },
  {
   "cell_type": "markdown",
   "metadata": {},
   "source": [
    "$$\\left(grad \\, div\\,\\vec{E}\\right)_z = i \\,K_z\\left(\\frac{\\partial E_x(x, y)}{\\partial x} + i\\,K_z E_z(x, y)\\right)\\,e^{i\\,K_z\\,z} \\,e^{-i\\,\\omega\\,t}$$"
   ]
  },
  {
   "cell_type": "markdown",
   "metadata": {},
   "source": [
    "$$\\left(grad \\, div\\,\\vec{E}\\right)_z = \\left(i \\,K_z\\,\\frac{\\partial E_x(x, y)}{\\partial x} -\\,K_z^2 E_z(x, y)\\right)\\,e^{i\\,K_z\\,z} \\,e^{-i\\,\\omega\\,t}$$"
   ]
  },
  {
   "cell_type": "markdown",
   "metadata": {},
   "source": [
    "С.Б. Каравашкин. ТРАНСФОРМАЦИЯ ТЕОРЕМЫ О ДИВЕРГЕНЦИИ ВЕКТОРА В ДИНАМИЧЕСКИХ ПОЛЯХ\n",
    "\n",
    "Впервые опубликовано:  Archivum mathematicum (BRNO), 37(2001) No 3, сс. 233 - 243\n",
    "В статье приводятся результаты исследования потока и дивергенции вектора в динамических полях, проведенного на основе стандартного определения дивергенции и с использованием стандартной методики определения потока вектора. Выявлено, что в динамических полях поток и дивергенция вектора не обращаются в ноль. Показано изменение в формализме ЕМ полей, обусловленное учетом динамических процессов в поле.\n",
    "\n",
    "https://selftrans.narod.ru/archive/div/divergence/div5/div5rus.html\n",
    "\n",
    "$$div\\,\\vec{E} = - \\frac{\\vec{n}}{c} \\frac{\\partial \\vec E}{\\partial t}$$\n",
    "\n",
    "\n",
    "где  $\\vec{n}$ направление распространения поля"
   ]
  },
  {
   "cell_type": "markdown",
   "metadata": {},
   "source": [
    "Анализ теоремы Каравашкина о дивергенции показал, что она применима к полям, для которых можно выделить трубку поля у которой поток через боковую поверхность равен нулю.\n",
    "\n",
    "Поскольку в резонаторе такую трубку поля можно выделить только лишь отдельно для каждой компоненты поля, то применяя теорему Каравашкина три раза последовательно к трём компонента вектора (например напряжённости электрического поля)  получаем"
   ]
  },
  {
   "cell_type": "markdown",
   "metadata": {},
   "source": [
    "$$div\\,\\vec{E} = - \\frac{1}{{v_{ф}}_z} \\frac{\\partial E_z}{\\partial t} - \\frac{1}{{v_{ф}}_y} \\frac{\\partial E_y}{\\partial t} - \\frac{1}{{v_{ф}}_x} \\frac{\\partial E_x}{\\partial t}$$\n",
    "\n",
    "Применение этой формулы, однако потребует знания фазовых скоростей в резонаторе которая не обязательно будет соответствовать скорости света"
   ]
  },
  {
   "cell_type": "markdown",
   "metadata": {},
   "source": [
    "Учитывая однотипность временного множителя для всех компонент поля\n",
    "\n",
    "$$div\\,\\vec{E} = i\\,\\omega \\left( \\frac{E_z}{{v_{ф}}_z} + \\frac{E_y}{{v_{ф}}_y} + \\frac{E_x}{{v_{ф}}_x} \\right)$$"
   ]
  },
  {
   "cell_type": "code",
   "execution_count": null,
   "metadata": {},
   "outputs": [],
   "source": []
  },
  {
   "cell_type": "markdown",
   "metadata": {},
   "source": [
    "$$grad\\,div\\,\\vec{E} = grad\\,\\left(i\\,\\omega \\left( \\frac{E_z}{{v_{ф}}_z} + \\frac{E_y}{{v_{ф}}_y} + \\frac{E_x}{{v_{ф}}_x} \\right)\\right)$$"
   ]
  },
  {
   "cell_type": "markdown",
   "metadata": {},
   "source": [
    "для проводящего металла с потерями ищем решение в виде\n",
    "\n",
    "$$\\vec{E} = \\vec{E}(x, y)\\,e^{i\\,k'_z\\,z}\\,e^{-i\\,\\omega\\,t}$$\n",
    "\n",
    "в котором волновой вектор, направленный вдоль оси z комплексный $k'_z = k_z + i\\,s_z$, как и волновой вектор, направленный вдоль оси x может быть комплексным $k'_x = k_x + i\\,s_x$\n",
    "\n",
    "$$\\vec{E}(t) = \\vec{E}_0\\,e^{i\\,(k_x + i\\,s_x)\\,x}\\,e^{i\\,(k_z + i\\,s_z)\\,z}\\,e^{-i\\,\\omega\\,t}$$\n",
    "\n",
    "$$\\vec{E} = \\vec{E}_0\\,e^{i\\,(k_x + i\\,s_x)\\,x}\\,e^{i\\,(k_z + i\\,s_z)\\,z}$$\n",
    "\n",
    "$$\\vec{E} = \\vec{E}(x, y)\\,e^{i\\,(k_z + i\\,s_z)\\,z}$$\n",
    "\n",
    "\n",
    "$\\vec {E} (x, y) = \\vec{E}_0\\,e^{i\\,(k_x + i\\,s_x)\\,x}$"
   ]
  },
  {
   "cell_type": "markdown",
   "metadata": {},
   "source": [
    "$$\\left(Laplasian\\,\\vec{E}\\right)_z + \\left(\\mu'_{yy}-\\mu'_{xx}\\right)\\frac{i\\,\\omega}{c} \\, {\\frac {\\partial H_{y}}{\\partial x}} + \\frac{\\omega^2}{c^2} \\, \\mu'_{xx}\\epsilon'_{zz} \\vec{E}_z - \\left(grad\\,div\\,\\vec{E} \\right)_z = 0$$"
   ]
  },
  {
   "cell_type": "markdown",
   "metadata": {},
   "source": [
    "подставляя в исходное уравнение приходим к обыкновенному дифференциальному уравнению\n",
    "\n",
    "$$\\frac{\\partial^{2}}{(\\partial {x})^{2}}{E_z}(x,y) + \\frac{\\partial^{2}}{(\\partial {y})^{2}}{E_z}(x,y) + \\left(\\mu'_{xx}\\epsilon'_{zz} \\frac{\\omega^2}{c^2} - {k'_z}^2\\right)\\,{E_z}(x,y)  + \\left(\\mu'_{yy}-\\mu'_{xx}\\right)\\frac{i\\,\\omega}{c} \\, {\\frac {\\partial H_{y}}{\\partial x}} - \\left(grad\\,div\\,\\vec{E}\\right)_z = 0$$"
   ]
  },
  {
   "cell_type": "markdown",
   "metadata": {},
   "source": [
    "производим следующую замену переменных\n",
    "\n",
    "$$\\kappa_z^2 = \\mu'_{xx}\\epsilon'_{zz} \\frac{\\omega^2}{c^2}$$"
   ]
  },
  {
   "cell_type": "markdown",
   "metadata": {},
   "source": [
    "$${k'_z}^2=\\left(k_z + i\\,s_z \\right)^2 = k_z^2 - s_z^2 + 2\\,i\\,k_z\\,s_z$$"
   ]
  },
  {
   "cell_type": "markdown",
   "metadata": {},
   "source": [
    "Выберем направлние распространения волны в промежутке между пластинами плоского резонатора $z$ \n",
    "\n",
    "$$k'_y = 0$$\n",
    "\n",
    "$$\\vec{k'} = \\hat{i} k'_x + \\hat{k} k'_z$$"
   ]
  },
  {
   "cell_type": "markdown",
   "metadata": {},
   "source": [
    "$$\\frac{\\partial^{2}}{(\\partial {x})^{2}}{E_z}(x,y) + \\frac{\\partial^{2}}{(\\partial {y})^{2}}{E_z}(x,y) + \\left(\\kappa^2 - {k'_z}^2\\right)\\,{E_z}(x,y)  + \\frac{i\\,\\omega}{c} \\, {\\frac {\\partial \\left( \\left(\\mu'_{yy}-\\mu'_{xx}\\right)H_{y}\\right)}{\\partial x}} - \\left(grad\\,div\\,\\vec{E}\\right)_z = 0$$"
   ]
  },
  {
   "cell_type": "markdown",
   "metadata": {},
   "source": [
    "выбирая решение для которого поле не изменяется вдоль y"
   ]
  },
  {
   "cell_type": "markdown",
   "metadata": {},
   "source": [
    "$$\\left(grad \\, div\\,\\vec{E}\\right)_x = \\left(\\frac{\\partial^2 E_x(x, y)}{\\partial x^2} +  i\\,k'_z \\frac{\\partial E_z(x, y)}{\\partial x}\\right)$$"
   ]
  },
  {
   "cell_type": "markdown",
   "metadata": {},
   "source": [
    "$$\\left(grad \\, div\\,\\vec{E}\\right)_y = 0$$"
   ]
  },
  {
   "cell_type": "markdown",
   "metadata": {},
   "source": [
    "$$\\left(grad \\, div\\,\\vec{E}\\right)_z = \\left(i \\,k'_z\\,\\frac{\\partial E_x(x, y)}{\\partial x} -\\,{k'_z}^2 E_z(x, y)\\right)$$"
   ]
  },
  {
   "cell_type": "markdown",
   "metadata": {},
   "source": [
    "получаем"
   ]
  },
  {
   "cell_type": "markdown",
   "metadata": {},
   "source": [
    "$$\\frac{\\partial^{2}}{(\\partial {x})^{2}}{E_x}(x,y) + \\frac{\\partial^{2}}{(\\partial {y})^{2}}{E_x}(x,y) + \\left( \\, \\mu'_{yy}\\epsilon'_{xx}\\frac{\\omega^2}{c^2} - {k'_z}^2\\right)\\,{E_x}(x,y) = \\left(\\frac{\\partial^2 E_x(x, y)}{\\partial x^2} +  i\\,k'_z \\frac{\\partial E_z(x, y)}{\\partial x}\\right)-\\left(\\mu'_{zz}-\\mu'_{yy}\\right) \\frac{i\\,\\omega}{c} \\, \\left({\\frac {\\partial H_{z}}{\\partial y}}\\right)$$"
   ]
  },
  {
   "cell_type": "markdown",
   "metadata": {},
   "source": [
    "$$\\frac{\\partial^{2}}{(\\partial {x})^{2}}{E_y}(x,y) + \\frac{\\partial^{2}}{(\\partial {y})^{2}}{E_y}(x,y) + \\left(\\mu'_{zz} \\epsilon'_{yy}\\frac{ \\omega^2}{c^2}- {k'_z}^2\\right)\\,{E_y}(x,y) = -\\left(\\mu'_{xx} - \\mu'_{zz}\\right) \\frac{i\\,\\omega}{c} \\, {\\frac {\\partial   H_{x}}{\\partial z}}$$"
   ]
  },
  {
   "cell_type": "markdown",
   "metadata": {},
   "source": [
    "$$\\frac{\\partial^{2}}{(\\partial {x})^{2}}{E_z}(x,y) + \\frac{\\partial^{2}}{(\\partial {y})^{2}}{E_z}(x,y) + \\left(\\mu'_{xx}\\epsilon'_{zz} \\frac{\\omega^2}{c^2} - {k'_z}^2\\right)\\,{E_z}(x,y) = \\left(i \\,k'_z\\,\\frac{\\partial E_x(x, y)}{\\partial x} -\\,{k'_z}^2 E_z(x, y)\\right)-\\left(\\mu'_{yy}-\\mu'_{xx}\\right)\\frac{i\\,\\omega}{c} \\, {\\frac {\\partial H_{y}}{\\partial x}}$$"
   ]
  },
  {
   "cell_type": "code",
   "execution_count": null,
   "metadata": {},
   "outputs": [],
   "source": []
  },
  {
   "cell_type": "markdown",
   "metadata": {},
   "source": [
    "$$\\frac{\\partial^{2}}{(\\partial {x})^{2}}{E_z}(x,y) + \\left(\\mu'_{xx}\\epsilon'_{zz} \\frac{\\omega^2}{c^2}\\right)\\,{E_z}(x,y) = \\left(i \\,k'_z\\,\\frac{\\partial E_x(x, y)}{\\partial x}\\right)-\\left(\\mu'_{yy}-\\mu'_{xx}\\right)\\frac{i\\,\\omega}{c} \\, {\\frac {\\partial H_{y}}{\\partial x}}$$"
   ]
  },
  {
   "cell_type": "markdown",
   "metadata": {},
   "source": [
    "Рассмотрим TM волну для которой $H_z = 0$. Для этой волны учитывая что $K_z = {k'_z}$"
   ]
  },
  {
   "cell_type": "markdown",
   "metadata": {},
   "source": [
    "$$\\left(\\frac{i\\,\\omega}{{k'_z} c}{\\mu'}_{yy}  - \\frac{i {k'_z} c}{\\omega {\\epsilon'}_{xx}} \\right) H_{y} = -\\frac{1}{{k'_z}}{\\frac {\\partial E_{z}}{\\partial x}}$$"
   ]
  },
  {
   "cell_type": "markdown",
   "metadata": {},
   "source": [
    "$$ \\left(\\frac{i {k'_z} c}{\\omega{\\mu'}_{yy}} - \\frac{i\\,\\omega}{{k'_z}c} {\\epsilon'}_{xx} \\right) E_x = \\frac{c}{\\omega{\\mu'}_{yy}}{\\frac {\\partial E_{z}}{\\partial x}} $$"
   ]
  },
  {
   "cell_type": "markdown",
   "metadata": {},
   "source": [
    "откуда"
   ]
  },
  {
   "cell_type": "markdown",
   "metadata": {},
   "source": [
    "$$ H_{y} = -\\frac{1}{{k'_z} \\left(\\frac{i\\,\\omega}{{k'_z} c}{\\mu'}_{yy}  - \\frac{i {k'_z} c}{\\omega {\\epsilon'}_{xx}} \\right)}{\\frac {\\partial E_{z}}{\\partial x}}$$"
   ]
  },
  {
   "cell_type": "markdown",
   "metadata": {},
   "source": [
    "$$  E_x = \\frac{c}{\\omega{\\mu'}_{yy}\\left(\\frac{i {k'_z} c}{\\omega{\\mu'}_{yy}} - \\frac{i\\,\\omega}{{k'_z}c} {\\epsilon'}_{xx} \\right)}{\\frac {\\partial E_{z}}{\\partial x}} $$"
   ]
  },
  {
   "cell_type": "markdown",
   "metadata": {},
   "source": [
    "упрощая"
   ]
  },
  {
   "cell_type": "markdown",
   "metadata": {},
   "source": [
    "$$ H_{y} = -\\frac{1}{\\left(\\frac{i\\,\\omega}{c}{\\mu'}_{yy}  - \\frac{i {k'_z}^2 c}{\\omega {\\epsilon'}_{xx}} \\right)}{\\frac {\\partial E_{z}}{\\partial x}}$$"
   ]
  },
  {
   "cell_type": "markdown",
   "metadata": {},
   "source": [
    "$$  E_x = \\frac{c}{\\left({i {k'_z} c} - \\frac{i\\,\\omega^2}{{k'_z}c} {\\mu'}_{yy} {\\epsilon'}_{xx} \\right)}{\\frac {\\partial E_{z}}{\\partial x}} $$"
   ]
  },
  {
   "cell_type": "markdown",
   "metadata": {},
   "source": [
    "дифференцируя по x"
   ]
  },
  {
   "cell_type": "markdown",
   "metadata": {},
   "source": [
    "$$ \\frac{\\partial H_{y}}{\\partial x} = -\\frac{1}{\\left(\\frac{i\\,\\omega}{c}{\\mu'}_{yy}  - \\frac{i {k'_z}^2 c}{\\omega {\\epsilon'}_{xx}} \\right)}{\\frac {\\partial^2 E_{z}}{\\partial x^2}}$$"
   ]
  },
  {
   "cell_type": "markdown",
   "metadata": {},
   "source": [
    "$$\\frac{\\partial E_x}{\\partial x} = \\frac{1}{\\left({i {k'_z}} - \\frac{i\\,\\omega^2}{{k'_z}c^2} {\\mu'}_{yy} {\\epsilon'}_{xx} \\right)}{\\frac {\\partial^2 E_{z}}{\\partial x^2}} $$"
   ]
  },
  {
   "cell_type": "markdown",
   "metadata": {},
   "source": [
    "подставляя в уравнение"
   ]
  },
  {
   "cell_type": "markdown",
   "metadata": {},
   "source": [
    "$$\\frac{\\partial^{2}}{(\\partial {x})^{2}}{E_z}(x,y) + \\left(\\mu'_{xx}\\epsilon'_{zz} \\frac{\\omega^2}{c^2}\\right)\\,{E_z}(x,y) = \\left(i \\,k'_z\\,\\frac{\\partial E_x(x, y)}{\\partial x}\\right)-\\left(\\mu'_{yy}-\\mu'_{xx}\\right)\\frac{i\\,\\omega}{c} \\, {\\frac {\\partial H_{y}}{\\partial x}}$$"
   ]
  },
  {
   "cell_type": "markdown",
   "metadata": {},
   "source": [
    "$$\\frac{\\partial^{2}}{(\\partial {x})^{2}}{E_z}(x,y) + \\left(\\mu'_{xx}\\epsilon'_{zz} \\frac{\\omega^2}{c^2}\\right)\\,{E_z}(x,y) = \\left(\\frac{k'_z}{\\left({ {k'_z}} - \\frac{\\omega^2}{{k'_z}c^2} {\\mu'}_{yy} {\\epsilon'}_{xx} \\right)}{\\frac {\\partial^2 E_{z}}{\\partial x^2}}\\right)+\\left(\\mu'_{yy}-\\mu'_{xx}\\right)\\frac{i\\,\\omega}{c} \\, \\frac{1}{\\left(\\frac{i\\,\\omega}{c}{\\mu'}_{yy}  - \\frac{i {k'_z}^2 c}{\\omega {\\epsilon'}_{xx}} \\right)}{\\frac {\\partial^2 E_{z}}{\\partial x^2}}$$"
   ]
  },
  {
   "cell_type": "markdown",
   "metadata": {},
   "source": [
    "$$\\frac{\\partial^{2}}{(\\partial {x})^{2}}{E_z}(x,y) + \\left(\\mu'_{xx}\\epsilon'_{zz} \\frac{\\omega^2}{c^2}\\right)\\,{E_z}(x,y) = \\left(\\frac{k'_z}{\\left({ {k'_z}} - \\frac{\\omega^2}{{k'_z}c^2} {\\mu'}_{yy} {\\epsilon'}_{xx} \\right)}{\\frac {\\partial^2 E_{z}}{\\partial x^2}}\\right)+ \\frac{\\left(\\mu'_{yy}-\\mu'_{xx}\\right)}{\\left({\\mu'}_{yy}  - \\frac{{k'_z}^2 c^2}{\\omega^2 {\\epsilon'}_{xx}} \\right)}{\\frac {\\partial^2 E_{z}}{\\partial x^2}}$$"
   ]
  },
  {
   "cell_type": "markdown",
   "metadata": {},
   "source": [
    "$$\\left(1 - \\frac{k'_z}{\\left({ {k'_z}} - \\frac{\\omega^2}{{k'_z}c^2} {\\mu'}_{yy} {\\epsilon'}_{xx} \\right)} - \\frac{\\left(\\mu'_{yy}-\\mu'_{xx}\\right)}{\\left({\\mu'}_{yy}  - \\frac{{k'_z}^2 c^2}{\\omega^2 {\\epsilon'}_{xx}} \\right)}\\right)\\frac{\\partial^{2}}{(\\partial {x})^{2}}{E_z}(x,y) + \\left(\\mu'_{xx}\\epsilon'_{zz} \\frac{\\omega^2}{c^2}\\right)\\,{E_z}(x,y) = 0$$"
   ]
  },
  {
   "cell_type": "markdown",
   "metadata": {},
   "source": [
    "$$\\frac{\\partial^{2}}{(\\partial {x})^{2}}{E_z}(x,y) + \\frac{ \\mu'_{xx}\\epsilon'_{zz} \\frac{\\omega^2}{c^2}}{\\left(1 - \\frac{k'_z}{\\left({ {k'_z}} - \\frac{\\omega^2}{{k'_z}c^2} {\\mu'}_{yy} {\\epsilon'}_{xx} \\right)} - \\frac{\\left(\\mu'_{yy}-\\mu'_{xx}\\right)}{\\left({\\mu'}_{yy}  - \\frac{{k'_z}^2 c^2}{\\omega^2 {\\epsilon'}_{xx}} \\right)}\\right)}\\,{E_z}(x,y) = 0$$"
   ]
  },
  {
   "cell_type": "markdown",
   "metadata": {},
   "source": [
    "$$K_x^2 = \\frac{ \\mu'_{xx}\\epsilon'_{zz} \\frac{\\omega^2}{c^2}}{\\left(1 - \\frac{k'_z}{\\left({ {k'_z}} - \\frac{\\omega^2}{{k'_z}c^2} {\\mu'}_{yy} {\\epsilon'}_{xx} \\right)} - \\frac{\\left(\\mu'_{yy}-\\mu'_{xx}\\right)}{\\left({\\mu'}_{yy}  - \\frac{{k'_z}^2 c^2}{\\omega^2 {\\epsilon'}_{xx}} \\right)}\\right)}$$"
   ]
  },
  {
   "cell_type": "markdown",
   "metadata": {},
   "source": [
    "$$\\frac{\\partial^{2}}{(\\partial {x})^{2}}{E_z}(x,y) + K_x^2\\,{E_z}(x,y) = 0$$"
   ]
  },
  {
   "cell_type": "markdown",
   "metadata": {},
   "source": [
    "Решение этого дифференциального уравнения для TM волны"
   ]
  },
  {
   "cell_type": "markdown",
   "metadata": {},
   "source": [
    "$${C_{0}} e^{i\\,K_x x} + {C_{1}} e^{-i\\, K_x x}$$"
   ]
  },
  {
   "cell_type": "markdown",
   "metadata": {},
   "source": [
    "В случае если $\\mu'_{yy}=\\mu'_{xx}$"
   ]
  },
  {
   "cell_type": "markdown",
   "metadata": {},
   "source": [
    "$$\\frac{\\partial^{2}}{(\\partial {x})^{2}}{E_z}(x,y) + \\frac{ \\mu'_{xx}\\epsilon'_{zz} \\frac{\\omega^2}{c^2}}{\\left(1 - \\frac{k'_z}{\\left({ {k'_z}} - \\frac{\\omega^2}{{k'_z}c^2} {\\mu'}_{yy} {\\epsilon'}_{xx} \\right)} \\right)}\\,{E_z}(x,y) = 0$$"
   ]
  },
  {
   "cell_type": "markdown",
   "metadata": {},
   "source": [
    "$$\\frac{\\partial^{2}}{(\\partial {x})^{2}}{E_z}(x,y) + \\left({ {k'_z}} - \\frac{\\omega^2}{{k'_z}c^2} {\\mu'}_{yy} {\\epsilon'}_{xx} \\right)\\frac{ \\mu'_{xx}\\epsilon'_{zz} \\frac{\\omega^2}{c^2}}{\\left(\\left({ {k'_z}} - \\frac{\\omega^2}{{k'_z}c^2} {\\mu'}_{yy} {\\epsilon'}_{xx} \\right) - k'_z \\right)}\\,{E_z}(x,y) = 0$$"
   ]
  },
  {
   "cell_type": "markdown",
   "metadata": {},
   "source": [
    "$$\\frac{\\partial^{2}}{(\\partial {x})^{2}}{E_z}(x,y) + \\left({ {k'_z}} - \\frac{\\omega^2}{{k'_z}c^2} {\\mu'}_{yy} {\\epsilon'}_{xx} \\right)\\frac{ \\mu'_{xx}\\epsilon'_{zz} \\frac{\\omega^2}{c^2}}{ - \\frac{\\omega^2}{{k'_z}c^2} {\\mu'}_{yy} {\\epsilon'}_{xx} }\\,{E_z}(x,y) = 0$$"
   ]
  },
  {
   "cell_type": "markdown",
   "metadata": {},
   "source": [
    "$$\\frac{\\partial^{2}}{(\\partial {x})^{2}}{E_z}(x,y) + \\left(\\frac{\\omega^2}{{k'_z}c^2} {\\mu'}_{yy} {\\epsilon'}_{xx} - { {k'_z}} \\right)\\frac{ \\mu'_{xx}\\epsilon'_{zz}}{ \\frac{1}{{k'_z}} {\\mu'}_{yy} {\\epsilon'}_{xx} }\\,{E_z}(x,y) = 0$$"
   ]
  },
  {
   "cell_type": "markdown",
   "metadata": {},
   "source": [
    "$$\\frac{\\partial^{2}}{(\\partial {x})^{2}}{E_z}(x,y) + \\left(\\frac{\\omega^2}{c^2} {\\mu'}_{yy} {\\epsilon'}_{xx} - { {k'_z}^2} \\right)\\frac{ \\epsilon'_{zz}}{ {\\epsilon'}_{xx} }\\,{E_z}(x,y) = 0$$"
   ]
  },
  {
   "cell_type": "markdown",
   "metadata": {},
   "source": [
    "$$\\frac{\\partial^{2}}{(\\partial {x})^{2}}{E_z}(x,y) + \\left(\\frac{\\omega^2}{c^2} {\\mu'}_{yy} {\\epsilon'}_{zz} - { {k'_z}^2} \\frac{ \\epsilon'_{zz}}{ {\\epsilon'}_{xx} }\\right)\\,{E_z}(x,y) = 0$$"
   ]
  },
  {
   "cell_type": "markdown",
   "metadata": {},
   "source": [
    "Имея теперь систему неоднородных дифференциальных уравнений с ненулевой правой частью будем искать решение как сумму общего решения однородной части этой системы дифференциального уравнения и частного решения"
   ]
  },
  {
   "cell_type": "markdown",
   "metadata": {},
   "source": [
    "Далее произведём преобразования со вторым уравнением Максвелла"
   ]
  },
  {
   "cell_type": "markdown",
   "metadata": {},
   "source": [
    "\n",
    "$$rot\\,\\vec{H} = \\frac{1}{c}\\frac{\\partial \\vec D}{\\partial t} + \\frac{4\\pi}{c} \\vec j = - \\frac{i\\,\\omega}{c} \\epsilon \\vec{E} + \\frac{4\\pi}{c}\\sigma \\vec E$$\n"
   ]
  },
  {
   "cell_type": "markdown",
   "metadata": {},
   "source": [
    "\n",
    "$$rot \\, rot\\,\\vec{H} = \\left( - \\frac{i\\,\\omega}{c} \\epsilon + \\frac{4\\pi}{c}\\sigma \\right) rot \\vec E$$\n"
   ]
  },
  {
   "cell_type": "markdown",
   "metadata": {},
   "source": [
    "$$rot\\,\\vec{E} = -\\frac{1}{c}\\frac{\\partial \\vec B}{\\partial t} = \\mu\\,\\frac{i\\,\\omega}{c}\\,\\vec{H}$$"
   ]
  },
  {
   "cell_type": "markdown",
   "metadata": {},
   "source": [
    "\n",
    "$$rot \\, rot\\,\\vec{H} = \\left( - \\frac{i\\,\\omega}{c} \\epsilon + \\frac{4\\pi}{c}\\sigma \\right)  \\mu\\,\\frac{i\\,\\omega}{c}\\,\\vec{H}$$\n"
   ]
  },
  {
   "cell_type": "markdown",
   "metadata": {},
   "source": [
    "$$rot \\, rot\\,\\vec{H} = \\left( - \\frac{i\\,\\omega}{c} \\epsilon \\mu\\,\\frac{i\\,\\omega}{c} + \\frac{4\\pi}{c}\\sigma \\mu\\,\\frac{i\\,\\omega}{c} \\right)  \\,\\vec{H}$$"
   ]
  },
  {
   "cell_type": "markdown",
   "metadata": {},
   "source": [
    "$$rot \\, rot\\,\\vec{H} = \\left( \\epsilon \\mu\\,\\frac{\\omega^2}{c^2} + i \\,4\\pi\\,\\sigma \\mu\\,\\frac{\\omega}{c^2} \\right)  \\,\\vec{H}$$"
   ]
  },
  {
   "cell_type": "markdown",
   "metadata": {},
   "source": [
    "$$rot\\,rot\\,\\vec{H} = grad\\,div\\,\\vec{H} - Laplasian\\,\\vec{H}$$"
   ]
  },
  {
   "cell_type": "markdown",
   "metadata": {},
   "source": [
    "$$ Laplasian\\,\\vec{H} + \\left( \\epsilon \\mu\\,\\frac{\\omega^2}{c^2} + i \\,4\\pi\\,\\sigma \\mu\\,\\frac{\\omega}{c^2} \\right)  \\,\\vec{H} - grad\\,div\\,\\vec{H} = 0$$"
   ]
  },
  {
   "cell_type": "markdown",
   "metadata": {},
   "source": [
    "для вакуума внутри резонатора ищем решение в виде\n",
    "\n",
    "$$\\vec{H}(t) = \\vec{H}(x, y)\\,e^{i\\,k\\,z}\\,e^{-i\\,\\omega\\,t}$$\n",
    "\n",
    "$$\\vec{H} = \\vec{H}(x, y)\\,e^{i\\,k\\,z}$$"
   ]
  },
  {
   "cell_type": "markdown",
   "metadata": {},
   "source": [
    "подставляя в исходное уравнение приходим к обыкновенному дифференциальному уравнению\n",
    "\n",
    "$$\\frac{\\partial^{2}}{(\\partial {x})^{2}}\\vec{H}(x,y) + \\frac{\\partial^{2}}{(\\partial {y})^{2}}\\vec{H}(x,y) + \\left(\\epsilon  \\mu \\frac{\\omega^2}{c^2} + i\\,\\omega\\,\\sigma\\,\\mu\\,\\frac{4\\pi}{c^2} - {k'_z}^2\\right)\\,\\vec{H}(x,y) - grad\\,div\\,\\vec{H} = 0$$"
   ]
  },
  {
   "cell_type": "markdown",
   "metadata": {},
   "source": [
    "покомпонентно"
   ]
  },
  {
   "cell_type": "markdown",
   "metadata": {},
   "source": [
    "$$\\frac{\\partial^{2}}{(\\partial {x})^{2}}{H_x}(x,y) + \\frac{\\partial^{2}}{(\\partial {y})^{2}}{H_x}(x,y) + \\left(\\kappa^2 - {k'_z}^2\\right)\\,{H_x}(x,y) - \\left(grad\\,div\\,\\vec{H}\\right)_x = 0$$"
   ]
  },
  {
   "cell_type": "markdown",
   "metadata": {},
   "source": [
    "$$\\frac{\\partial^{2}}{(\\partial {x})^{2}}{H_y}(x,y) + \\frac{\\partial^{2}}{(\\partial {y})^{2}}{H_y}(x,y) + \\left(\\kappa^2 - {k'_z}^2\\right)\\,{H_y}(x,y) - \\left(grad\\,div\\,\\vec{H}\\right)_y = 0$$"
   ]
  },
  {
   "cell_type": "markdown",
   "metadata": {},
   "source": [
    "$$\\frac{\\partial^{2}}{(\\partial {x})^{2}}{H_z}(x,y) + \\frac{\\partial^{2}}{(\\partial {y})^{2}}{H_z}(x,y) + \\left(\\kappa^2 - {k'_z}^2\\right)\\,{H_z}(x,y) - \\left(grad\\,div\\,\\vec{H}\\right)_z = 0$$"
   ]
  },
  {
   "cell_type": "markdown",
   "metadata": {},
   "source": [
    "Таким образом из этого уравнения можно вытащить $z$ компоненту электрического поля"
   ]
  },
  {
   "cell_type": "markdown",
   "metadata": {},
   "source": [
    "$$\\frac{\\partial^{2}}{(\\partial {x})^{2}}{H_z}(x,y) + \\frac{\\partial^{2}}{(\\partial {y})^{2}}{H_z}(x,y) + \\left(\\kappa^2 - {k'_z}^2\\right)\\,{H_z}(x,y) = \\left(grad\\,div\\,\\vec{H}\\right)_z$$"
   ]
  },
  {
   "cell_type": "code",
   "execution_count": 1,
   "metadata": {},
   "outputs": [],
   "source": [
    "import numpy as np\n",
    "# sgs\n",
    "A = np.float128(1)\n",
    "\n",
    "\n",
    "# на низких частотах\n",
    "# ферриты обладают высокой относительной\n",
    "# диэлектрической проницаемостью, примерно 10^5\n",
    "epsilon_xx_d = np.float128(1000)\n",
    "epsilon_yy_d = np.float128(1000)\n",
    "epsilon_zz_d = np.float128(1000)\n",
    "\n",
    "mu_xx_d = np.float128(1000)\n",
    "mu_yy_d = np.float128(1000)\n",
    "mu_zz_d = np.float128(1000)\n",
    "\n",
    "sigma_e_xx_d = np.float128(1000)\n",
    "sigma_e_yy_d = np.float128(1000)\n",
    "sigma_e_zz_d = np.float128(1000)\n",
    "\n",
    "sigma_m_xx_d = np.float128(1000)\n",
    "sigma_m_yy_d = np.float128(1000)\n",
    "sigma_m_zz_d = np.float128(1000)\n",
    "# https://ru.wikipedia.org/wiki/%D0%AD%D0%BB%D0%B5%D0%BA%D1%82%D1%80%D0%BE%D0%BF%D1%80%D0%BE%D0%B2%D0%BE%D0%B4%D0%BD%D0%BE%D1%81%D1%82%D1%8C\n",
    "# серебро    62 500 000\n",
    "# медь       59 500 000\n",
    "# константан  2 000 000\n",
    "\n",
    "# См/м\n",
    "# 1 См = 1 / Ом\n",
    "\n",
    "sigma_l_d = np.float128(62500000 * (9*10^9))\n",
    "sigma_r_d =  np.float128(2000000 * (9*10^9))\n",
    "\n",
    "#sigma_d = sigma_r_d\n",
    "#sigma_d = sigma_l_d / 1000000\n",
    "\n",
    "#lambda_d = np.float128(632*100*10^-9)\n",
    "# 632 nm\n",
    "\n",
    "#lambda_d = np.float128(632*100*10^-6)\n",
    "# 0.632 mm\n",
    "\n",
    "lambda_d = np.float128(632*100*10^-4*1000)\n",
    "# 63.2 mm\n",
    "# 6.32 sm\n",
    "\n",
    "# lambda_d = np.float128(632*100*10^-4*100000)\n"
   ]
  },
  {
   "cell_type": "code",
   "execution_count": 2,
   "metadata": {},
   "outputs": [],
   "source": [
    "from IPython.display import display, Math, Latex\n",
    "\n",
    "def disp(ex):\n",
    "    display(Math(latex(ex)))\n",
    "\n",
    "mu_xx_ = var('mu_xx_')\n",
    "mu_xx = var('mu_xx')\n",
    "assume(mu_xx, 'real')\n",
    "assume(mu_xx > 0)\n",
    "\n",
    "mu_yy_ = var('mu_yy_')\n",
    "mu_yy = var('mu_yy')\n",
    "assume(mu_yy, 'real')\n",
    "assume(mu_yy > 0)\n",
    "\n",
    "mu_zz_ = var('mu_zz_')\n",
    "mu_zz = var('mu_zz')\n",
    "assume(mu_zz, 'real')\n",
    "assume(mu_zz > 0)\n",
    "\n",
    "epsilon_xx_ = var('epsilon_xx_')\n",
    "epsilon_xx = var('epsilon_xx')\n",
    "assume(epsilon_xx, 'real')\n",
    "assume(epsilon_xx > 0)\n",
    "\n",
    "epsilon_yy_ = var('epsilon_yy_')\n",
    "epsilon_yy = var('epsilon_yy')\n",
    "assume(epsilon_yy, 'real')\n",
    "assume(epsilon_yy > 0)\n",
    "\n",
    "epsilon_zz_ = var('epsilon_zz_')\n",
    "epsilon_zz = var('epsilon_zz')\n",
    "assume(epsilon_zz, 'real')\n",
    "assume(epsilon_zz > 0)\n",
    "\n",
    "mu_0 = 1\n",
    "epsilon_0 = 1\n",
    "\n",
    "sigma_e_xx = var('sigma_e_xx')\n",
    "assume(sigma_e_xx, 'real')\n",
    "assume(sigma_e_xx>0)\n",
    "\n",
    "sigma_e_yy = var('sigma_e_yy')\n",
    "assume(sigma_e_yy, 'real')\n",
    "assume(sigma_e_yy>0)\n",
    "\n",
    "sigma_e_zz = var('sigma_e_zz')\n",
    "assume(sigma_e_zz, 'real')\n",
    "assume(sigma_e_zz>0)\n",
    "\n",
    "sigma_m_xx = var('sigma_m_xx')\n",
    "assume(sigma_m_xx, 'real')\n",
    "assume(sigma_m_xx>0)\n",
    "\n",
    "sigma_m_yy = var('sigma_m_yy')\n",
    "assume(sigma_m_yy, 'real')\n",
    "assume(sigma_m_yy>0)\n",
    "\n",
    "sigma_m_zz = var('sigma_m_zz')\n",
    "assume(sigma_m_zz, 'real')\n",
    "assume(sigma_m_zz>0)\n",
    "\n",
    "sx = var ('sx')\n",
    "assume(sx, 'real')\n",
    "assume(sx>0)\n",
    "\n",
    "sy = var ('sy')\n",
    "assume(sy, 'real')\n",
    "assume(sy>0)\n",
    "\n",
    "sz = var ('sz')\n",
    "assume(sz, 'real')\n",
    "assume(sz>0)\n",
    "\n",
    "kappa_vacuum = var ('kappa_vacuum')\n",
    "assume(kappa_vacuum, 'real')\n",
    "assume(kappa_vacuum>0)\n",
    "\n",
    "kappa = var('kappa')\n",
    "assume(kappa, 'complex')\n",
    "\n",
    "kx = var ('kx')\n",
    "assume(kx, 'real')\n",
    "\n",
    "ky = var ('ky')\n",
    "assume(ky, 'real')\n",
    "\n",
    "kz = var ('kz')\n",
    "assume(kz, 'real')\n",
    "\n",
    "k__x = var ('k__x')\n",
    "assume(k__x, 'complex')\n",
    "\n",
    "k__y = var ('k__y')\n",
    "assume(k__x, 'complex')\n",
    "\n",
    "k__z = var ('k__z')\n",
    "assume(k__z, 'complex')\n",
    "\n",
    "k_x = var ('k_x')\n",
    "assume(k_x, 'complex')\n",
    "\n",
    "k_y = var ('k_y')\n",
    "assume(k_x, 'complex')\n",
    "\n",
    "k_z = var ('k_z')\n",
    "assume(k_z, 'complex')\n",
    "\n",
    "\n",
    "a = var('a')\n",
    "assume(a, 'real')\n",
    "assume(a>0)\n",
    "\n",
    "x = var('x')\n",
    "y = var('y')\n",
    "z = var('z')\n",
    "\n",
    "assume(x, 'real')\n",
    "assume(y, 'real')\n",
    "assume(z, 'real')\n",
    "\n",
    "c = var('c')\n",
    "assume(c, 'real')\n",
    "assume(c>0)\n",
    "\n",
    "omega = var('omega')\n",
    "assume(omega, 'real')"
   ]
  },
  {
   "cell_type": "code",
   "execution_count": 3,
   "metadata": {},
   "outputs": [
    {
     "data": {
      "text/plain": [
       "2.98046134067857e7"
      ]
     },
     "execution_count": 3,
     "metadata": {},
     "output_type": "execute_result"
    }
   ],
   "source": [
    "c_value           = [ c == np.float128(299792458 * 100)]\n",
    "omega_value       = [ omega  == ((np.float128(2*pi) * c)/ lambda_d).subs (c_value) ]\n",
    "digit_values_init = [ mu_xx == mu_xx_d,\n",
    "                     mu_yy == mu_yy_d,\n",
    "                     mu_zz == mu_zz_d,\n",
    "                     epsilon_xx == epsilon_xx_d,\n",
    "                     epsilon_yy == epsilon_yy_d,\n",
    "                     epsilon_zz == epsilon_zz_d,\n",
    "                     a == A] + c_value\n",
    "digit_values_sigma_0 = digit_values_init + [sigma == 0]\n",
    "omega_value[0].rhs().n()"
   ]
  },
  {
   "cell_type": "code",
   "execution_count": 4,
   "metadata": {},
   "outputs": [],
   "source": [
    "h_conductor = np.float128(0.02*A)"
   ]
  },
  {
   "cell_type": "code",
   "execution_count": 5,
   "metadata": {},
   "outputs": [
    {
     "name": "stdout",
     "output_type": "stream",
     "text": [
      "[mu_xx == 1000.0, mu_yy == 1000.0, mu_zz == 1000.0, epsilon_xx == 1000.0, epsilon_yy == 1000.0, epsilon_zz == 1000.0, a == 1.0, c == 29979245800.0, sigma_e_xx == 1000.0, sigma_e_yy == 1000.0, sigma_e_zz == 1000.0, sigma_m_xx == 1000.0, sigma_m_yy == 1000.0, sigma_m_zz == 1000.0, omega == 29804613.406785656]\n"
     ]
    }
   ],
   "source": [
    "digit_values = digit_values_init + [sigma_e_xx == sigma_e_xx_d,\n",
    "                                    sigma_e_yy == sigma_e_yy_d,\n",
    "                                    sigma_e_zz == sigma_e_zz_d,\n",
    "                                    sigma_m_xx == sigma_m_xx_d,\n",
    "                                    sigma_m_yy == sigma_m_yy_d,\n",
    "                                    sigma_m_zz == sigma_m_zz_d,\n",
    "                                   ]\n",
    "digit_values += omega_value\n",
    "print (digit_values)"
   ]
  },
  {
   "cell_type": "code",
   "execution_count": 6,
   "metadata": {},
   "outputs": [
    {
     "name": "stdout",
     "output_type": "stream",
     "text": [
      "eq_kappa_inner_vacuum =\n"
     ]
    },
    {
     "data": {
      "text/latex": [
       "$\\displaystyle \\kappa_{\\mathit{vacuum}}^{2} = \\frac{\\omega^{2}}{c^{2}}$"
      ],
      "text/plain": [
       "<IPython.core.display.Math object>"
      ]
     },
     "metadata": {},
     "output_type": "display_data"
    }
   ],
   "source": [
    "# исходя из вида дифференциальных уравнений для вакуума внутри резонатора и проводящего металла с потерями\n",
    "# записываем соотнощения для волнового вектора в виде уравнений\n",
    "\n",
    "# eq_kappa              = kappa^2 == mu * epsilon * omega^2 / c^2 + I*omega*sigma*mu*4*pi/c^2\n",
    "eq_kappa_inner_vacuum = kappa_vacuum^2 == omega^2 / c^2\n",
    "\n",
    "#kappa_sol = solve(eq_kappa, kappa)[1]\n",
    "#kappa_vacuum_sol = omega / c\n",
    "\n",
    "#print(\"eq_kappa =\")\n",
    "#display(Math(latex(eq_kappa)))\n",
    "\n",
    "print(\"eq_kappa_inner_vacuum =\")\n",
    "display(Math(latex(eq_kappa_inner_vacuum)))"
   ]
  },
  {
   "cell_type": "markdown",
   "metadata": {},
   "source": [
    "принимая модель комплексного представления диэлектрической проницаемости $\\epsilon' = \\epsilon + \\frac{4\\pi\\,\\sigma}{\\omega}\\,i$ (плохой проводник)"
   ]
  },
  {
   "cell_type": "code",
   "execution_count": 7,
   "metadata": {},
   "outputs": [],
   "source": [
    "epsilon_xx_complex = epsilon_xx + I * 4 * pi * sigma_e_xx / omega\n",
    "epsilon_yy_complex = epsilon_yy + I * 4 * pi * sigma_e_yy / omega\n",
    "epsilon_zz_complex = epsilon_zz + I * 4 * pi * sigma_e_zz / omega"
   ]
  },
  {
   "cell_type": "markdown",
   "metadata": {},
   "source": [
    "принимая модель комплексного представления магнитной проницаемости $\\mu' = \\mu + \\frac{4\\pi\\,\\sigma_m}{\\omega}\\,i$ (магнитный проводник)"
   ]
  },
  {
   "cell_type": "code",
   "execution_count": 8,
   "metadata": {},
   "outputs": [],
   "source": [
    "mu_xx_complex = mu_xx + I * 4 * pi * sigma_m_xx / omega\n",
    "mu_yy_complex = mu_yy + I * 4 * pi * sigma_m_yy / omega\n",
    "mu_zz_complex = mu_zz + I * 4 * pi * sigma_m_zz / omega"
   ]
  },
  {
   "cell_type": "code",
   "execution_count": null,
   "metadata": {},
   "outputs": [],
   "source": []
  },
  {
   "cell_type": "markdown",
   "metadata": {},
   "source": [
    "$${k'_z}^2=\\left(k_z + i\\,s_z \\right)^2 = k_z^2 - s_z^2 + 2\\,i\\,k_z\\,s_z$$"
   ]
  },
  {
   "cell_type": "markdown",
   "metadata": {},
   "source": [
    "зависимость поля от $y$ отсутствует"
   ]
  },
  {
   "cell_type": "code",
   "execution_count": 9,
   "metadata": {},
   "outputs": [],
   "source": [
    "k__y_subs = k__y == 0"
   ]
  },
  {
   "cell_type": "code",
   "execution_count": 10,
   "metadata": {},
   "outputs": [],
   "source": [
    "k__z_subs = k__z == kz + I * sz"
   ]
  },
  {
   "cell_type": "code",
   "execution_count": 11,
   "metadata": {},
   "outputs": [
    {
     "name": "stdout",
     "output_type": "stream",
     "text": [
      "de_inner_vacuum =\n"
     ]
    },
    {
     "data": {
      "text/latex": [
       "$\\displaystyle -{\\left(k_{z}^{2} - \\kappa^{2}\\right)} E\\left(x\\right) + \\frac{\\partial^{2}}{(\\partial x)^{2}}E\\left(x\\right) = 0$"
      ],
      "text/plain": [
       "<IPython.core.display.Math object>"
      ]
     },
     "metadata": {},
     "output_type": "display_data"
    }
   ],
   "source": [
    "# решаем полученные обыкновенные дифференциальные уравнения\n",
    "E = function('E')(x)\n",
    "\n",
    "de_inner_vacuum = diff (E, x, 2) + diff (E, y, 2) + (kappa^2 - k_z^2) * E == 0\n",
    "# diff (E, y, 2) == 0\n",
    "de_inner_vacuum = diff (E, x, 2) + (kappa^2 - k_z^2) * E == 0\n",
    "# получая таким образом выражения для электрического поля в вакуума внутри резонатора и внутри проводящего металла с потерями\n",
    "print(\"de_inner_vacuum =\")\n",
    "display(Math(latex(de_inner_vacuum)))"
   ]
  },
  {
   "cell_type": "code",
   "execution_count": 12,
   "metadata": {},
   "outputs": [
    {
     "name": "stdout",
     "output_type": "stream",
     "text": [
      "E_inner_vacuum =\n"
     ]
    },
    {
     "data": {
      "text/latex": [
       "$\\displaystyle _{C_{0}} e^{\\left(\\sqrt{k_{z}^{2} - \\kappa^{2}} x\\right)} + _{C_{1}} e^{\\left(-\\sqrt{k_{z}^{2} - \\kappa^{2}} x\\right)}$"
      ],
      "text/plain": [
       "<IPython.core.display.Math object>"
      ]
     },
     "metadata": {},
     "output_type": "display_data"
    },
    {
     "data": {
      "text/plain": [
       "_{C_{0}} e^{\\left(\\sqrt{k_{z}^{2} - \\kappa^{2}} x\\right)} + _{C_{1}} e^{\\left(-\\sqrt{k_{z}^{2} - \\kappa^{2}} x\\right)}"
      ]
     },
     "execution_count": 12,
     "metadata": {},
     "output_type": "execute_result"
    }
   ],
   "source": [
    "assume(kappa^2-k_z^2 > 0)\n",
    "\n",
    "E_inner_vacuum = desolve(de_inner_vacuum, E, ivar = x, algorithm=\"fricas\")\n",
    "\n",
    "# получая таким образом выражения для электрического поля в вакуума внутри резонатора и внутри проводящего металла с потерями\n",
    "print(\"E_inner_vacuum =\")\n",
    "display(Math(latex(E_inner_vacuum)))\n",
    "latex(E_inner_vacuum)"
   ]
  },
  {
   "cell_type": "code",
   "execution_count": null,
   "metadata": {},
   "outputs": [],
   "source": []
  },
  {
   "cell_type": "code",
   "execution_count": 13,
   "metadata": {},
   "outputs": [],
   "source": [
    "B1_x = var ('B1_x')\n",
    "B2_x = var ('B2_x')\n",
    "\n",
    "A1_x = var ('A1_x')\n",
    "A2_x = var ('A2_x')\n",
    "\n",
    "\n",
    "B1_y = var ('B1_y')\n",
    "B2_y = var ('B2_y')\n",
    "\n",
    "A1_y = var ('A1_y')\n",
    "A2_y = var ('A2_y')\n",
    "\n",
    "\n",
    "B1_z = var ('B1_z')\n",
    "B2_z = var ('B2_z')\n",
    "\n",
    "A1_z = var ('A1_z')\n",
    "A2_z = var ('A2_z')\n",
    "\n",
    "A1_x_re, A1_y_re, A1_z_re = var(\"A1_x_re, A1_y_re, A1_z_re\")\n",
    "A1_x_im, A1_y_im, A1_z_im = var(\"A1_x_im, A1_y_im, A1_z_im\")\n",
    "\n",
    "A2_x_re, A2_y_re, A2_z_re = var(\"A2_x_re, A2_y_re, A2_z_re\")\n",
    "A2_x_im, A2_y_im, A2_z_im = var(\"A2_x_im, A2_y_im, A2_z_im\")\n",
    "\n",
    "B1_x_re, B1_y_re, B1_z_re = var(\"B1_x_re, B1_y_re, B1_z_re\")\n",
    "B1_x_im, B1_y_im, B1_z_im = var(\"B1_x_im, B1_y_im, B1_z_im\")\n",
    "\n",
    "\n",
    "assume(A1_x_re, \"real\")\n",
    "assume(A1_x_im, \"real\")\n",
    "\n",
    "assume(A2_x_re, \"real\")\n",
    "assume(A2_x_im, \"real\")\n",
    "\n",
    "assume(A1_y_re, \"real\")\n",
    "assume(A1_y_im, \"real\")\n",
    "\n",
    "assume(A2_y_re, \"real\")\n",
    "assume(A2_y_im, \"real\")\n",
    "\n",
    "assume(A1_z_re, \"real\")\n",
    "assume(A1_z_im, \"real\")\n",
    "\n",
    "assume(A2_z_re, \"real\")\n",
    "assume(A2_z_im, \"real\")\n",
    "\n",
    "\n",
    "assume(B1_x_re, \"real\")\n",
    "assume(B1_x_im, \"real\")\n",
    "\n",
    "assume(B1_y_re, \"real\")\n",
    "assume(B1_y_im, \"real\")\n",
    "\n",
    "assume(B1_z_re, \"real\")\n",
    "assume(B1_z_im, \"real\")"
   ]
  },
  {
   "cell_type": "code",
   "execution_count": 14,
   "metadata": {},
   "outputs": [],
   "source": [
    "A1_x_re_im_subs = A1_x == A1_x_re + I * A1_x_im\n",
    "A2_x_re_im_subs = A2_x == A2_x_re + I * A2_x_im\n",
    "\n",
    "A1_y_re_im_subs = A1_y == A1_y_re + I * A1_y_im\n",
    "A2_y_re_im_subs = A2_y == A2_y_re + I * A2_y_im\n",
    "\n",
    "A1_z_re_im_subs = A1_z == A1_z_re + I * A1_z_im\n",
    "A2_z_re_im_subs = A2_z == A2_z_re + I * A2_z_im\n",
    "\n",
    "B1_x_re_im_subs = B1_x == B1_x_re + I * B1_x_im\n",
    "B1_y_re_im_subs = B1_y == B1_y_re + I * B1_y_im\n",
    "B1_z_re_im_subs = B1_z == B1_z_re + I * B1_z_im"
   ]
  },
  {
   "cell_type": "code",
   "execution_count": 15,
   "metadata": {},
   "outputs": [],
   "source": [
    "coefs_re_im_subs = [A1_x == A1_x_re + I * A1_x_im,\n",
    "                    A2_x == A2_x_re + I * A2_x_im,\n",
    "                    A1_y == A1_y_re + I * A1_y_im,\n",
    "                    A2_y == A2_y_re + I * A2_y_im,\n",
    "                    A1_z == A1_z_re + I * A1_z_im,\n",
    "                    A2_z == A2_z_re + I * A2_z_im,\n",
    "                    B1_x == B1_x_re + I * B1_x_im,\n",
    "                    B1_y == B1_y_re + I * B1_y_im,\n",
    "                    B1_z == B1_z_re + I * B1_z_im]"
   ]
  },
  {
   "cell_type": "code",
   "execution_count": 16,
   "metadata": {},
   "outputs": [],
   "source": [
    "# 2D\n",
    "# отсутсвие изменения поля вдоль оси y\n",
    "set_Ey_0 = False"
   ]
  },
  {
   "cell_type": "code",
   "execution_count": 17,
   "metadata": {},
   "outputs": [],
   "source": [
    "if set_Ey_0:\n",
    "    B1_y = 0\n",
    "    B2_y = 0\n",
    "\n",
    "    A1_y = 0\n",
    "    A2_y = 0\n",
    "\n",
    "    ky   = 0"
   ]
  },
  {
   "cell_type": "markdown",
   "metadata": {},
   "source": [
    "$$K_x^2 = \\frac{ \\mu'_{xx}\\epsilon'_{zz} \\frac{\\omega^2}{c^2}}{\\left(1 - \\frac{k'_z}{\\left({ {k'_z}} - \\frac{\\omega^2}{{k'_z}c^2} {\\mu'}_{yy} {\\epsilon'}_{xx} \\right)} - \\frac{\\left(\\mu'_{yy}-\\mu'_{xx}\\right)}{\\left({\\mu'}_{yy}  - \\frac{{k'_z}^2 c^2}{\\omega^2 {\\epsilon'}_{xx}} \\right)}\\right)}$$"
   ]
  },
  {
   "cell_type": "code",
   "execution_count": 18,
   "metadata": {},
   "outputs": [],
   "source": [
    "# K_vacuum = sqrt(kappa_vacuum^2-k_z^2)\n",
    "# K_conductor = sqrt(kappa^2-k_z^2)\n",
    "\n",
    "K_vacuum    = var(\"K_vacuum\")\n",
    "K_conductor = var(\"K_conductor\")"
   ]
  },
  {
   "cell_type": "markdown",
   "metadata": {},
   "source": [
    "$$\\frac{\\partial^{2}}{(\\partial {x})^{2}}{E_z}(x,y) + K_x^2\\,{E_z}(x,y) = 0$$"
   ]
  },
  {
   "cell_type": "markdown",
   "metadata": {},
   "source": [
    "Решение этого дифференциального уравнения для TM волны"
   ]
  },
  {
   "cell_type": "markdown",
   "metadata": {},
   "source": [
    "$${C_{0}} e^{i\\,K_x x} + {C_{1}} e^{-i\\, K_x x}$$"
   ]
  },
  {
   "cell_type": "code",
   "execution_count": 19,
   "metadata": {},
   "outputs": [],
   "source": [
    "E_inner_vacuum_f_z = function(\"E_inner_vacuum_f_z\")\n",
    "E_inner_vacuum_f_x = function(\"E_inner_vacuum_f_x\")\n",
    "E_inner_vacuum_f_y = function(\"E_inner_vacuum_f_y\")\n",
    "\n",
    "E_bad_conductor_f_z = function(\"E_bad_conductor_f_z\")\n",
    "E_bad_conductor_f_x = function(\"E_bad_conductor_f_x\")\n",
    "E_bad_conductor_f_y = function(\"E_bad_conductor_f_y\")"
   ]
  },
  {
   "cell_type": "code",
   "execution_count": 20,
   "metadata": {},
   "outputs": [],
   "source": [
    "E_inner_vacuum_z = var(\"E_inner_vacuum_z\")\n",
    "E_inner_vacuum_x = var(\"E_inner_vacuum_x\")\n",
    "E_inner_vacuum_y = var(\"E_inner_vacuum_y\")\n",
    "\n",
    "E_bad_conductor_z = var(\"E_bad_conductor_z\")\n",
    "E_bad_conductor_x = var(\"E_bad_conductor_x\")\n",
    "E_bad_conductor_y = var(\"E_bad_conductor_y\")"
   ]
  },
  {
   "cell_type": "code",
   "execution_count": 21,
   "metadata": {},
   "outputs": [
    {
     "name": "stdout",
     "output_type": "stream",
     "text": [
      "E_inner_vacuum_sol_z (x) \n"
     ]
    },
    {
     "data": {
      "text/latex": [
       "$\\displaystyle \\mathit{A2}_{z} e^{\\left(i \\, K_{\\mathit{vacuum}} x\\right)} + \\mathit{A1}_{z} e^{\\left(-i \\, K_{\\mathit{vacuum}} x\\right)}$"
      ],
      "text/plain": [
       "<IPython.core.display.Math object>"
      ]
     },
     "metadata": {},
     "output_type": "display_data"
    },
    {
     "name": "stdout",
     "output_type": "stream",
     "text": [
      "E_inner_vacuum_sol_x (x) =\n"
     ]
    },
    {
     "data": {
      "text/latex": [
       "$\\displaystyle \\mathit{A2}_{x} e^{\\left(i \\, K_{\\mathit{vacuum}} x\\right)} + \\mathit{A1}_{x} e^{\\left(-i \\, K_{\\mathit{vacuum}} x\\right)}$"
      ],
      "text/plain": [
       "<IPython.core.display.Math object>"
      ]
     },
     "metadata": {},
     "output_type": "display_data"
    },
    {
     "name": "stdout",
     "output_type": "stream",
     "text": [
      "E_inner_vacuum_sol_y (x) =\n"
     ]
    },
    {
     "data": {
      "text/latex": [
       "$\\displaystyle \\mathit{A2}_{y} e^{\\left(i \\, K_{\\mathit{vacuum}} x\\right)} + \\mathit{A1}_{y} e^{\\left(-i \\, K_{\\mathit{vacuum}} x\\right)}$"
      ],
      "text/plain": [
       "<IPython.core.display.Math object>"
      ]
     },
     "metadata": {},
     "output_type": "display_data"
    }
   ],
   "source": [
    "# выражения для электрического поля\n",
    "# в вакууме внутри резонатора\n",
    "\n",
    "# знак перед корнем (K_vacuum) будем выбирать всегда так чтобы корень имел положительную мнимую часть\n",
    "E_inner_vacuum_sol_z (x) = A1_z*exp(- I * K_vacuum*x) + A2_z*exp( I * K_vacuum*x)\n",
    "E_inner_vacuum_sol_x (x) = A1_x*exp(- I * K_vacuum*x) + A2_x*exp( I * K_vacuum*x)\n",
    "E_inner_vacuum_sol_y (x) = A1_y*exp(- I * K_vacuum*x) + A2_y*exp( I * K_vacuum*x)\n",
    "\n",
    "\n",
    "print (\"E_inner_vacuum_sol_z (x) \")\n",
    "display(Math(latex(E_inner_vacuum_sol_z (x))))\n",
    "print (\"E_inner_vacuum_sol_x (x) =\")\n",
    "display(Math(latex(E_inner_vacuum_sol_x (x))))\n",
    "print (\"E_inner_vacuum_sol_y (x) =\")\n",
    "display(Math(latex(E_inner_vacuum_sol_y (x))))"
   ]
  },
  {
   "cell_type": "markdown",
   "metadata": {},
   "source": [
    "решение для проводящего металла с потерями\n",
    "\n",
    "$\\vec{E} = \\vec{E}\\,e^{i\\,k_x'\\,x}\\,e^{i\\,k_z\\,z}\\,e^{-i\\,\\omega\\,t}$\n",
    "\n",
    "$k_x' = k_x + i\\,s_x$\n",
    "\n",
    "$\\vec{E} = \\vec{E}\\,e^{-s_x\\,x}\\,e^{i\\,k_x\\,x}\\,e^{i\\,k_z\\,z}\\,e^{-i\\,\\omega\\,t}$"
   ]
  },
  {
   "cell_type": "code",
   "execution_count": 22,
   "metadata": {},
   "outputs": [
    {
     "name": "stdout",
     "output_type": "stream",
     "text": [
      "E_bad_conductor_sol_z (x) \n"
     ]
    },
    {
     "data": {
      "text/latex": [
       "$\\displaystyle \\mathit{B1}_{z} e^{\\left(i \\, K_{\\mathit{conductor}} x\\right)}$"
      ],
      "text/plain": [
       "<IPython.core.display.Math object>"
      ]
     },
     "metadata": {},
     "output_type": "display_data"
    },
    {
     "name": "stdout",
     "output_type": "stream",
     "text": [
      "E_bad_conductor_sol_x (x) =\n"
     ]
    },
    {
     "data": {
      "text/latex": [
       "$\\displaystyle \\mathit{B1}_{x} e^{\\left(i \\, K_{\\mathit{conductor}} x\\right)}$"
      ],
      "text/plain": [
       "<IPython.core.display.Math object>"
      ]
     },
     "metadata": {},
     "output_type": "display_data"
    },
    {
     "name": "stdout",
     "output_type": "stream",
     "text": [
      "E_bad_conductor_sol_y (x) =\n"
     ]
    },
    {
     "data": {
      "text/latex": [
       "$\\displaystyle \\mathit{B1}_{y} e^{\\left(i \\, K_{\\mathit{conductor}} x\\right)}$"
      ],
      "text/plain": [
       "<IPython.core.display.Math object>"
      ]
     },
     "metadata": {},
     "output_type": "display_data"
    }
   ],
   "source": [
    "# x > a-{k'_x}^{2}-{k'_y}^{2} +\n",
    "# в проводящем металле с потерями\n",
    "\n",
    "# знак перед корнем будем выбирать всегда так чтобы корень имел положительную мнимую часть\n",
    "E_bad_conductor_sol_z (x) = B1_z*exp(I * K_conductor*x)\n",
    "E_bad_conductor_sol_x (x) = B1_x*exp(I * K_conductor*x)\n",
    "E_bad_conductor_sol_y (x) = B1_y*exp(I * K_conductor*x)\n",
    "\n",
    "print (\"E_bad_conductor_sol_z (x) \")\n",
    "display(Math(latex(E_bad_conductor_sol_z (x))))\n",
    "print (\"E_bad_conductor_sol_x (x) =\")\n",
    "display(Math(latex(E_bad_conductor_sol_x (x))))\n",
    "print (\"E_bad_conductor_sol_y (x) =\")\n",
    "display(Math(latex(E_bad_conductor_sol_y (x))))"
   ]
  },
  {
   "cell_type": "code",
   "execution_count": 23,
   "metadata": {},
   "outputs": [
    {
     "name": "stdout",
     "output_type": "stream",
     "text": [
      "rot_E_inner_vacuum_x =\n"
     ]
    },
    {
     "data": {
      "text/latex": [
       "$\\displaystyle i \\, E_{\\mathit{inner}_{\\mathit{vacuum}_{z}}} k_{y} - i \\, E_{\\mathit{inner}_{\\mathit{vacuum}_{y}}} k_{z}$"
      ],
      "text/plain": [
       "<IPython.core.display.Math object>"
      ]
     },
     "metadata": {},
     "output_type": "display_data"
    },
    {
     "name": "stdout",
     "output_type": "stream",
     "text": [
      "rot_E_bad_conductor_x =\n"
     ]
    },
    {
     "data": {
      "text/latex": [
       "$\\displaystyle i \\, E_{\\mathit{bad}_{\\mathit{conductor}_{z}}} k_{y} - i \\, E_{\\mathit{bad}_{\\mathit{conductor}_{y}}} k_{z}$"
      ],
      "text/plain": [
       "<IPython.core.display.Math object>"
      ]
     },
     "metadata": {},
     "output_type": "display_data"
    },
    {
     "name": "stdout",
     "output_type": "stream",
     "text": [
      "rot_E_inner_vacuum_y =\n"
     ]
    },
    {
     "data": {
      "text/latex": [
       "$\\displaystyle i \\, E_{\\mathit{inner}_{\\mathit{vacuum}_{x}}} k_{z} - \\frac{\\partial}{\\partial x}E_{{\\rm inner}_{{\\rm vacuum}_{f_{z}}}}\\left(x\\right)$"
      ],
      "text/plain": [
       "<IPython.core.display.Math object>"
      ]
     },
     "metadata": {},
     "output_type": "display_data"
    },
    {
     "name": "stdout",
     "output_type": "stream",
     "text": [
      "rot_E_bad_conductor_y =\n"
     ]
    },
    {
     "data": {
      "text/latex": [
       "$\\displaystyle i \\, E_{\\mathit{bad}_{\\mathit{conductor}_{x}}} k_{z} - \\frac{\\partial}{\\partial x}E_{{\\rm bad}_{{\\rm conductor}_{f_{z}}}}\\left(x\\right)$"
      ],
      "text/plain": [
       "<IPython.core.display.Math object>"
      ]
     },
     "metadata": {},
     "output_type": "display_data"
    },
    {
     "name": "stdout",
     "output_type": "stream",
     "text": [
      "rot_E_inner_vacuum_z =\n"
     ]
    },
    {
     "data": {
      "text/latex": [
       "$\\displaystyle -i \\, E_{\\mathit{inner}_{\\mathit{vacuum}_{x}}} k_{y} + \\frac{\\partial}{\\partial x}E_{{\\rm inner}_{{\\rm vacuum}_{f_{y}}}}\\left(x\\right)$"
      ],
      "text/plain": [
       "<IPython.core.display.Math object>"
      ]
     },
     "metadata": {},
     "output_type": "display_data"
    },
    {
     "name": "stdout",
     "output_type": "stream",
     "text": [
      "rot_H_bad_conductor_z =\n"
     ]
    },
    {
     "data": {
      "text/latex": [
       "$\\displaystyle -i \\, E_{\\mathit{bad}_{\\mathit{conductor}_{x}}} k_{y} + \\frac{\\partial}{\\partial x}E_{{\\rm bad}_{{\\rm conductor}_{f_{y}}}}\\left(x\\right)$"
      ],
      "text/plain": [
       "<IPython.core.display.Math object>"
      ]
     },
     "metadata": {},
     "output_type": "display_data"
    }
   ],
   "source": [
    "# уравнение Максвелла для тока смещения\n",
    "# rot E = -1/c dB/dt\n",
    "# rot_E_x = diff(E_z, y) - diff(E_y, z)\n",
    "# rot_E_y = diff(E_x, z) - diff(E_z, x)\n",
    "# rot_E_z = diff(E_y, x) - diff(E_x, y)\n",
    "\n",
    "# rot_E_x = diff(E_z, y) - diff(E_y, z)\n",
    "rot_E_inner_vacuum_x  = I*k_y*E_inner_vacuum_z  - I*k_z*E_inner_vacuum_y\n",
    "rot_E_bad_conductor_x = I*k_y*E_bad_conductor_z - I*k_z*E_bad_conductor_y\n",
    "\n",
    "# rot_E_y = diff(E_x, z) - diff(E_z, x)\n",
    "rot_E_inner_vacuum_y  = I*k_z*E_inner_vacuum_x  - diff(E_inner_vacuum_f_z(x), x)\n",
    "rot_E_bad_conductor_y = I*k_z*E_bad_conductor_x - diff(E_bad_conductor_f_z(x), x)\n",
    "\n",
    "# rot_E_z = diff(E_y, x) - diff(E_x, y)\n",
    "rot_E_inner_vacuum_z  = diff(E_inner_vacuum_f_y(x) , x) - I*k_y*E_inner_vacuum_x\n",
    "rot_E_bad_conductor_z = diff(E_bad_conductor_f_y(x), x) - I*k_y*E_bad_conductor_x\n",
    "\n",
    "print (\"rot_E_inner_vacuum_x =\")\n",
    "display(Math(latex(rot_E_inner_vacuum_x)))\n",
    "print (\"rot_E_bad_conductor_x =\")\n",
    "display(Math(latex(rot_E_bad_conductor_x)))\n",
    "\n",
    "print (\"rot_E_inner_vacuum_y =\")\n",
    "display(Math(latex(rot_E_inner_vacuum_y)))\n",
    "print (\"rot_E_bad_conductor_y =\")\n",
    "display(Math(latex(rot_E_bad_conductor_y)))\n",
    "\n",
    "print (\"rot_E_inner_vacuum_z =\")\n",
    "display(Math(latex(rot_E_inner_vacuum_z)))\n",
    "print (\"rot_H_bad_conductor_z =\")\n",
    "display(Math(latex(rot_E_bad_conductor_z)))"
   ]
  },
  {
   "cell_type": "markdown",
   "metadata": {},
   "source": [
    "Исходя из записи первого уравнения Максвелла"
   ]
  },
  {
   "cell_type": "markdown",
   "metadata": {},
   "source": [
    "$$rot\\,\\vec{E} = -\\frac{1}{c}\\frac{\\partial \\vec B}{\\partial t} - \\frac{4\\pi}{c}\\vec j_m = \\mu\\,\\frac{i\\,\\omega}{c}\\,\\vec{H} - \\frac{4\\pi}{c}\\sigma_m \\vec H $$"
   ]
  },
  {
   "cell_type": "code",
   "execution_count": 24,
   "metadata": {},
   "outputs": [],
   "source": [
    "H_inner_vacuum_x  = var(\"H_inner_vacuum_x\")\n",
    "H_bad_conductor_x = var(\"H_bad_conductor_x\")\n",
    "\n",
    "H_inner_vacuum_y  = var(\"H_inner_vacuum_y\")\n",
    "H_bad_conductor_y = var(\"H_bad_conductor_y\")\n",
    "\n",
    "H_inner_vacuum_z  = var(\"H_inner_vacuum_z\")\n",
    "H_bad_conductor_z = var(\"H_bad_conductor_z\")"
   ]
  },
  {
   "cell_type": "code",
   "execution_count": 25,
   "metadata": {},
   "outputs": [],
   "source": [
    "H_inner_vacuum_f_x  = function(\"H_inner_vacuum_f_x\")\n",
    "H_bad_conductor_f_x = function(\"H_bad_conductor_f_x\")\n",
    "\n",
    "H_inner_vacuum_f_y  = function(\"H_inner_vacuum_f_y\")\n",
    "H_bad_conductor_f_y = function(\"H_bad_conductor_f_y\")\n",
    "\n",
    "H_inner_vacuum_f_z  = function(\"H_inner_vacuum_f_z\")\n",
    "H_bad_conductor_f_z = function(\"H_bad_conductor_f_z\")"
   ]
  },
  {
   "cell_type": "code",
   "execution_count": 26,
   "metadata": {},
   "outputs": [
    {
     "data": {
      "text/plain": [
       "[I*E_bad_conductor_z*k_y - I*E_bad_conductor_y*k_z == -I*H_bad_conductor_x*mu_xx_*omega/c,\n",
       " I*E_bad_conductor_x*k_z - diff(E_bad_conductor_f_z(x), x) == -I*H_bad_conductor_y*mu_yy_*omega/c,\n",
       " -I*E_bad_conductor_x*k_y + diff(E_bad_conductor_f_y(x), x) == -I*H_bad_conductor_z*mu_zz_*omega/c]"
      ]
     },
     "execution_count": 26,
     "metadata": {},
     "output_type": "execute_result"
    }
   ],
   "source": [
    "eq_rot_E_bad_conductor_x  = rot_E_bad_conductor_x  == -I*omega/c*mu_xx_*H_bad_conductor_x\n",
    "eq_rot_E_bad_conductor_y  = rot_E_bad_conductor_y  == -I*omega/c*mu_yy_*H_bad_conductor_y\n",
    "eq_rot_E_bad_conductor_z  = rot_E_bad_conductor_z  == -I*omega/c*mu_zz_*H_bad_conductor_z\n",
    "\n",
    "eq_rot_E_bad_conductor = [\n",
    "    eq_rot_E_bad_conductor_x,\n",
    "    eq_rot_E_bad_conductor_y,\n",
    "    eq_rot_E_bad_conductor_z,\n",
    "]\n",
    "eq_rot_E_bad_conductor"
   ]
  },
  {
   "cell_type": "code",
   "execution_count": 27,
   "metadata": {},
   "outputs": [
    {
     "data": {
      "text/plain": [
       "[I*E_inner_vacuum_z*k_y - I*E_inner_vacuum_y*k_z == -I*H_inner_vacuum_x*omega/c,\n",
       " I*E_inner_vacuum_x*k_z - diff(E_inner_vacuum_f_z(x), x) == -I*H_inner_vacuum_y*omega/c,\n",
       " -I*E_inner_vacuum_x*k_y + diff(E_inner_vacuum_f_y(x), x) == -I*H_inner_vacuum_z*omega/c]"
      ]
     },
     "execution_count": 27,
     "metadata": {},
     "output_type": "execute_result"
    }
   ],
   "source": [
    "eq_rot_E_inner_vacuum_x  = rot_E_inner_vacuum_x  == -I*omega/c*H_inner_vacuum_x\n",
    "eq_rot_E_inner_vacuum_y  = rot_E_inner_vacuum_y  == -I*omega/c*H_inner_vacuum_y\n",
    "eq_rot_E_inner_vacuum_z  = rot_E_inner_vacuum_z  == -I*omega/c*H_inner_vacuum_z\n",
    "\n",
    "eq_rot_E_inner_vacuum = [\n",
    "    eq_rot_E_inner_vacuum_x,\n",
    "    eq_rot_E_inner_vacuum_y,\n",
    "    eq_rot_E_inner_vacuum_z,\n",
    "]\n",
    "eq_rot_E_inner_vacuum"
   ]
  },
  {
   "cell_type": "markdown",
   "metadata": {},
   "source": [
    "Покомпонентно (если тензоры магнитной и электрической проницаемостей диагональны)"
   ]
  },
  {
   "cell_type": "markdown",
   "metadata": {},
   "source": [
    "$$\\frac{i\\,\\omega}{c}{\\mu'}_{yy} H_y = i K_z E_{x}-{\\frac {\\partial E_{z}}{\\partial x}}$$"
   ]
  },
  {
   "cell_type": "markdown",
   "metadata": {},
   "source": [
    "$$\\frac{i\\,\\omega}{c}{{\\mu'}_{xx}} H_x = \\frac {\\partial E_{z}}{\\partial y}-i K_z E_{y}$$"
   ]
  },
  {
   "cell_type": "markdown",
   "metadata": {},
   "source": [
    "$$\\frac{i\\,\\omega}{c}{\\mu'}_{zz} H_z = {\\frac {\\partial E_{y}}{\\partial x}}-{\\frac {\\partial E_{x}}{\\partial y}}$$"
   ]
  },
  {
   "cell_type": "markdown",
   "metadata": {},
   "source": [
    "Исходя из записи второго уравнения Максвелла"
   ]
  },
  {
   "cell_type": "markdown",
   "metadata": {},
   "source": [
    "$$rot\\,\\vec{H} = \\frac{1}{c}\\frac{\\partial \\vec D}{\\partial t} + \\frac{4\\pi}{c} \\vec j_e = - \\frac{i\\,\\omega}{c} \\epsilon \\vec{E} + \\frac{4\\pi}{c}\\sigma_e \\vec E$$"
   ]
  },
  {
   "cell_type": "markdown",
   "metadata": {},
   "source": [
    "$$ - \\frac{i\\,\\omega}{c} {\\epsilon'}_{xx} E_x = {\\frac {\\partial H_{z}}{\\partial y}}-i K_z H_{y} $$"
   ]
  },
  {
   "cell_type": "markdown",
   "metadata": {},
   "source": [
    "$$ - \\frac{i\\,\\omega}{c} {\\epsilon'}_{yy} E_y = i K_z H_{x}-{\\frac {\\partial H_{z}}{\\partial x}}$$"
   ]
  },
  {
   "cell_type": "markdown",
   "metadata": {},
   "source": [
    "$$ - \\frac{i\\,\\omega}{c} {\\epsilon'}_{zz} E_z = {\\frac {\\partial H_{y}}{\\partial x}}-{\\frac {\\partial H_{x}}{\\partial y}}$$"
   ]
  },
  {
   "cell_type": "code",
   "execution_count": 28,
   "metadata": {},
   "outputs": [
    {
     "name": "stdout",
     "output_type": "stream",
     "text": [
      "rot_H_inner_vacuum_x =\n"
     ]
    },
    {
     "data": {
      "text/latex": [
       "$\\displaystyle i \\, H_{\\mathit{inner}_{\\mathit{vacuum}_{z}}} k_{y} - i \\, H_{\\mathit{inner}_{\\mathit{vacuum}_{y}}} k_{z}$"
      ],
      "text/plain": [
       "<IPython.core.display.Math object>"
      ]
     },
     "metadata": {},
     "output_type": "display_data"
    },
    {
     "name": "stdout",
     "output_type": "stream",
     "text": [
      "rot_H_bad_conductor_x =\n"
     ]
    },
    {
     "data": {
      "text/latex": [
       "$\\displaystyle i \\, H_{\\mathit{bad}_{\\mathit{conductor}_{z}}} k_{y} - i \\, H_{\\mathit{bad}_{\\mathit{conductor}_{y}}} k_{z}$"
      ],
      "text/plain": [
       "<IPython.core.display.Math object>"
      ]
     },
     "metadata": {},
     "output_type": "display_data"
    },
    {
     "name": "stdout",
     "output_type": "stream",
     "text": [
      "rot_H_inner_vacuum_y =\n"
     ]
    },
    {
     "data": {
      "text/latex": [
       "$\\displaystyle i \\, H_{\\mathit{inner}_{\\mathit{vacuum}_{x}}} k_{z} - \\frac{\\partial}{\\partial x}H_{{\\rm inner}_{{\\rm vacuum}_{f_{z}}}}\\left(x\\right)$"
      ],
      "text/plain": [
       "<IPython.core.display.Math object>"
      ]
     },
     "metadata": {},
     "output_type": "display_data"
    },
    {
     "name": "stdout",
     "output_type": "stream",
     "text": [
      "rot_H_bad_conductor_y =\n"
     ]
    },
    {
     "data": {
      "text/latex": [
       "$\\displaystyle i \\, H_{\\mathit{bad}_{\\mathit{conductor}_{x}}} k_{z} - \\frac{\\partial}{\\partial x}H_{{\\rm bad}_{{\\rm conductor}_{f_{z}}}}\\left(x\\right)$"
      ],
      "text/plain": [
       "<IPython.core.display.Math object>"
      ]
     },
     "metadata": {},
     "output_type": "display_data"
    },
    {
     "name": "stdout",
     "output_type": "stream",
     "text": [
      "rot_H_inner_vacuum_z =\n"
     ]
    },
    {
     "data": {
      "text/latex": [
       "$\\displaystyle -i \\, H_{\\mathit{inner}_{\\mathit{vacuum}_{x}}} k_{y} + \\frac{\\partial}{\\partial x}H_{{\\rm inner}_{{\\rm vacuum}_{f_{y}}}}\\left(x\\right)$"
      ],
      "text/plain": [
       "<IPython.core.display.Math object>"
      ]
     },
     "metadata": {},
     "output_type": "display_data"
    },
    {
     "name": "stdout",
     "output_type": "stream",
     "text": [
      "rot_H_bad_conductor_z =\n"
     ]
    },
    {
     "data": {
      "text/latex": [
       "$\\displaystyle -i \\, H_{\\mathit{bad}_{\\mathit{conductor}_{x}}} k_{y} + \\frac{\\partial}{\\partial x}H_{{\\rm bad}_{{\\rm conductor}_{f_{y}}}}\\left(x\\right)$"
      ],
      "text/plain": [
       "<IPython.core.display.Math object>"
      ]
     },
     "metadata": {},
     "output_type": "display_data"
    }
   ],
   "source": [
    "# уравнение Максвелла для тока смещения\n",
    "# rot_H   = - I * epsilon * omega / c * E\n",
    "# rot_H_x = diff(H_z, y) - diff(H_y, z)\n",
    "# rot_H_y = diff(H_x, z) - diff(H_z, x)\n",
    "# rot_H_z = diff(H_y, x) - diff(H_x, y)\n",
    "\n",
    "# rot_H_x = diff(H_z, y) - diff(H_y, z)\n",
    "rot_H_inner_vacuum_x  = I*k_y*H_inner_vacuum_z  - I*k_z*H_inner_vacuum_y\n",
    "rot_H_bad_conductor_x = I*k_y*H_bad_conductor_z - I*k_z*H_bad_conductor_y\n",
    "\n",
    "# rot_H_y = diff(H_x, z) - diff(H_z, x)\n",
    "rot_H_inner_vacuum_y  = I*k_z*H_inner_vacuum_x  - diff(H_inner_vacuum_f_z(x), x)\n",
    "rot_H_bad_conductor_y = I*k_z*H_bad_conductor_x - diff(H_bad_conductor_f_z(x), x)\n",
    "\n",
    "# rot_H_z = diff(H_y, x) - diff(H_x, y)\n",
    "rot_H_inner_vacuum_z  = diff(H_inner_vacuum_f_y(x) , x) - I*k_y*H_inner_vacuum_x\n",
    "rot_H_bad_conductor_z = diff(H_bad_conductor_f_y(x), x) - I*k_y*H_bad_conductor_x\n",
    "\n",
    "print (\"rot_H_inner_vacuum_x =\")\n",
    "display(Math(latex(rot_H_inner_vacuum_x)))\n",
    "print (\"rot_H_bad_conductor_x =\")\n",
    "display(Math(latex(rot_H_bad_conductor_x)))\n",
    "\n",
    "print (\"rot_H_inner_vacuum_y =\")\n",
    "display(Math(latex(rot_H_inner_vacuum_y)))\n",
    "print (\"rot_H_bad_conductor_y =\")\n",
    "display(Math(latex(rot_H_bad_conductor_y)))\n",
    "\n",
    "print (\"rot_H_inner_vacuum_z =\")\n",
    "display(Math(latex(rot_H_inner_vacuum_z)))\n",
    "print (\"rot_H_bad_conductor_z =\")\n",
    "display(Math(latex(rot_H_bad_conductor_z)))"
   ]
  },
  {
   "cell_type": "code",
   "execution_count": 29,
   "metadata": {},
   "outputs": [
    {
     "data": {
      "text/plain": [
       "([x |--> A2_x*e^(I*K_vacuum*x) + A1_x*e^(-I*K_vacuum*x),\n",
       "  x |--> A2_y*e^(I*K_vacuum*x) + A1_y*e^(-I*K_vacuum*x),\n",
       "  x |--> A2_z*e^(I*K_vacuum*x) + A1_z*e^(-I*K_vacuum*x)],\n",
       " [x |--> B1_x*e^(I*K_conductor*x),\n",
       "  x |--> B1_y*e^(I*K_conductor*x),\n",
       "  x |--> B1_z*e^(I*K_conductor*x)])"
      ]
     },
     "execution_count": 29,
     "metadata": {},
     "output_type": "execute_result"
    }
   ],
   "source": [
    "E_inner_vacuum_sol = [\n",
    "    E_inner_vacuum_sol_x,\n",
    "    E_inner_vacuum_sol_y,\n",
    "    E_inner_vacuum_sol_z,\n",
    "]\n",
    "\n",
    "E_bad_conductor_sol = [\n",
    "    E_bad_conductor_sol_x,\n",
    "    E_bad_conductor_sol_y,\n",
    "    E_bad_conductor_sol_z,\n",
    "]\n",
    "\n",
    "E_inner_vacuum_sol, E_bad_conductor_sol"
   ]
  },
  {
   "cell_type": "code",
   "execution_count": 30,
   "metadata": {},
   "outputs": [
    {
     "data": {
      "text/plain": [
       "([E_inner_vacuum_f_x, E_inner_vacuum_f_y, E_inner_vacuum_f_z],\n",
       " [E_bad_conductor_f_x, E_bad_conductor_f_y, E_bad_conductor_f_z])"
      ]
     },
     "execution_count": 30,
     "metadata": {},
     "output_type": "execute_result"
    }
   ],
   "source": [
    "E_inner_vacuum_f = [\n",
    "    E_inner_vacuum_f_x,\n",
    "    E_inner_vacuum_f_y,\n",
    "    E_inner_vacuum_f_z,\n",
    "]\n",
    "\n",
    "E_bad_conductor_f = [\n",
    "    E_bad_conductor_f_x,\n",
    "    E_bad_conductor_f_y,\n",
    "    E_bad_conductor_f_z,\n",
    "]\n",
    "\n",
    "E_inner_vacuum_f, E_bad_conductor_f"
   ]
  },
  {
   "cell_type": "code",
   "execution_count": 31,
   "metadata": {},
   "outputs": [
    {
     "data": {
      "text/plain": [
       "([E_inner_vacuum_x, E_inner_vacuum_y, E_inner_vacuum_z],\n",
       " [E_bad_conductor_x, E_bad_conductor_y, E_bad_conductor_z])"
      ]
     },
     "execution_count": 31,
     "metadata": {},
     "output_type": "execute_result"
    }
   ],
   "source": [
    "E_inner_vacuum = [\n",
    "    E_inner_vacuum_x,\n",
    "    E_inner_vacuum_y,\n",
    "    E_inner_vacuum_z,\n",
    "]\n",
    "\n",
    "E_bad_conductor = [\n",
    "    E_bad_conductor_x,\n",
    "    E_bad_conductor_y,\n",
    "    E_bad_conductor_z,\n",
    "]\n",
    "\n",
    "E_inner_vacuum, E_bad_conductor"
   ]
  },
  {
   "cell_type": "code",
   "execution_count": 32,
   "metadata": {},
   "outputs": [
    {
     "data": {
      "text/plain": [
       "([H_inner_vacuum_x, H_inner_vacuum_y, H_inner_vacuum_z],\n",
       " [H_bad_conductor_x, H_bad_conductor_y, H_bad_conductor_z])"
      ]
     },
     "execution_count": 32,
     "metadata": {},
     "output_type": "execute_result"
    }
   ],
   "source": [
    "H_inner_vacuum = [\n",
    "    H_inner_vacuum_x,\n",
    "    H_inner_vacuum_y,\n",
    "    H_inner_vacuum_z,\n",
    "]\n",
    "\n",
    "H_bad_conductor = [\n",
    "    H_bad_conductor_x,\n",
    "    H_bad_conductor_y,\n",
    "    H_bad_conductor_z,\n",
    "]\n",
    "\n",
    "H_inner_vacuum, H_bad_conductor"
   ]
  },
  {
   "cell_type": "code",
   "execution_count": 33,
   "metadata": {},
   "outputs": [
    {
     "data": {
      "text/plain": [
       "([H_inner_vacuum_f_x, H_inner_vacuum_f_y, H_inner_vacuum_f_z],\n",
       " [H_bad_conductor_f_x, H_bad_conductor_f_y, H_bad_conductor_f_z])"
      ]
     },
     "execution_count": 33,
     "metadata": {},
     "output_type": "execute_result"
    }
   ],
   "source": [
    "H_inner_vacuum_f = [\n",
    "    H_inner_vacuum_f_x,\n",
    "    H_inner_vacuum_f_y,\n",
    "    H_inner_vacuum_f_z,\n",
    "]\n",
    "\n",
    "H_bad_conductor_f = [\n",
    "    H_bad_conductor_f_x,\n",
    "    H_bad_conductor_f_y,\n",
    "    H_bad_conductor_f_z,\n",
    "]\n",
    "\n",
    "H_inner_vacuum_f, H_bad_conductor_f"
   ]
  },
  {
   "cell_type": "code",
   "execution_count": null,
   "metadata": {},
   "outputs": [],
   "source": []
  },
  {
   "cell_type": "markdown",
   "metadata": {},
   "source": [
    "$$rot\\,\\vec{H} = \\frac{1}{c}\\frac{\\partial \\vec E}{\\partial t} = - \\frac{i\\,\\omega}{c} \\vec{E}$$"
   ]
  },
  {
   "cell_type": "markdown",
   "metadata": {},
   "source": [
    "$$rot\\,\\vec{H} = \\frac{1}{c}\\frac{\\partial \\vec D}{\\partial t} + \\frac{4\\pi}{c} \\vec j = - \\frac{i\\,\\omega}{c} \\epsilon \\vec{E} + \\frac{4\\pi}{c}\\sigma \\vec E$$"
   ]
  },
  {
   "cell_type": "markdown",
   "metadata": {},
   "source": [
    "принимая модель комплексного представления диэлектрической проницаемости $\\epsilon' = \\epsilon + \\frac{4\\pi\\,\\sigma}{\\omega}\\,i$ (плохой проводник)"
   ]
  },
  {
   "cell_type": "markdown",
   "metadata": {},
   "source": [
    "$$rot\\,\\vec{H} = \\frac{1}{c}\\frac{\\partial \\vec D}{\\partial t} + \\frac{4\\pi}{c} \\vec j = - \\frac{i\\,\\omega}{c} \\epsilon \\vec{E} + \\frac{4\\pi}{c}\\sigma \\vec E  = - \\frac{i\\,\\omega}{c} \\epsilon' \\vec{E}$$"
   ]
  },
  {
   "cell_type": "code",
   "execution_count": 34,
   "metadata": {},
   "outputs": [],
   "source": [
    "eq_rot_H_inner_vacuum_x  = rot_H_inner_vacuum_x  == -I*omega/c*E_inner_vacuum_x\n",
    "eq_rot_H_inner_vacuum_y  = rot_H_inner_vacuum_y  == -I*omega/c*E_inner_vacuum_y\n",
    "eq_rot_H_inner_vacuum_z  = rot_H_inner_vacuum_z  == -I*omega/c*E_inner_vacuum_z\n",
    "\n",
    "eq_rot_H_inner_vacuum = [\n",
    "    eq_rot_H_inner_vacuum_x,\n",
    "    eq_rot_H_inner_vacuum_y,\n",
    "    eq_rot_H_inner_vacuum_z,\n",
    "]"
   ]
  },
  {
   "cell_type": "code",
   "execution_count": 35,
   "metadata": {},
   "outputs": [
    {
     "data": {
      "text/plain": [
       "[I*H_bad_conductor_z*k_y - I*H_bad_conductor_y*k_z == -I*E_bad_conductor_x*epsilon_xx_*omega/c,\n",
       " I*H_bad_conductor_x*k_z - diff(H_bad_conductor_f_z(x), x) == -I*E_bad_conductor_y*epsilon_yy_*omega/c,\n",
       " -I*H_bad_conductor_x*k_y + diff(H_bad_conductor_f_y(x), x) == -I*E_bad_conductor_z*epsilon_zz_*omega/c]"
      ]
     },
     "execution_count": 35,
     "metadata": {},
     "output_type": "execute_result"
    }
   ],
   "source": [
    "eq_rot_H_bad_conductor_x = rot_H_bad_conductor_x == -I*omega/c*epsilon_xx_*E_bad_conductor_x\n",
    "eq_rot_H_bad_conductor_y = rot_H_bad_conductor_y == -I*omega/c*epsilon_yy_*E_bad_conductor_y\n",
    "eq_rot_H_bad_conductor_z = rot_H_bad_conductor_z == -I*omega/c*epsilon_zz_*E_bad_conductor_z\n",
    "\n",
    "eq_rot_H_bad_conductor = [\n",
    "    eq_rot_H_bad_conductor_x,\n",
    "    eq_rot_H_bad_conductor_y,\n",
    "    eq_rot_H_bad_conductor_z,\n",
    "]\n",
    "eq_rot_H_bad_conductor"
   ]
  },
  {
   "cell_type": "code",
   "execution_count": 36,
   "metadata": {},
   "outputs": [],
   "source": [
    "def get_field(eq_rot_E, eq_rot_H, eq_rot_E_index, eq_rot_H_index, field_for_exclude, field_for_solve):\n",
    "    excluding_1 = solve(eq_rot_E[eq_rot_E_index], field_for_exclude)\n",
    "    excluding_2 = solve(eq_rot_H[eq_rot_H_index], field_for_exclude)\n",
    "    if len(excluding_1) > 0 and len(excluding_2):\n",
    "        return (solve(\n",
    "            excluding_1[0].rhs() == \\\n",
    "            excluding_2[0].rhs(),\n",
    "        field_for_solve))[0]"
   ]
  },
  {
   "cell_type": "code",
   "execution_count": 37,
   "metadata": {},
   "outputs": [
    {
     "data": {
      "text/html": [
       "<html>\\(\\displaystyle E_{\\mathit{bad}_{\\mathit{conductor}_{y}}} = \\frac{E_{\\mathit{bad}_{\\mathit{conductor}_{z}}} c^{2} k_{y} k_{z} - i \\, c \\mu_{\\mathit{xx}} \\omega \\frac{\\partial}{\\partial x}H_{{\\rm bad}_{{\\rm conductor}_{f_{z}}}}\\left(x\\right)}{c^{2} k_{z}^{2} + \\epsilon_{\\mathit{yy}} \\mu_{\\mathit{xx}} \\omega^{2}}\\)</html>"
      ],
      "text/latex": [
       "$\\displaystyle E_{\\mathit{bad}_{\\mathit{conductor}_{y}}} = \\frac{E_{\\mathit{bad}_{\\mathit{conductor}_{z}}} c^{2} k_{y} k_{z} - i \\, c \\mu_{\\mathit{xx}} \\omega \\frac{\\partial}{\\partial x}H_{{\\rm bad}_{{\\rm conductor}_{f_{z}}}}\\left(x\\right)}{c^{2} k_{z}^{2} + \\epsilon_{\\mathit{yy}} \\mu_{\\mathit{xx}} \\omega^{2}}$"
      ],
      "text/plain": [
       "E_bad_conductor_y == (E_bad_conductor_z*c^2*k_y*k_z - I*c*mu_xx_*omega*diff(H_bad_conductor_f_z(x), x))/(c^2*k_z^2 + epsilon_yy_*mu_xx_*omega^2)"
      ]
     },
     "metadata": {},
     "output_type": "display_data"
    }
   ],
   "source": [
    "# Группируем уравнения в пары, удобные для исключения переменных поля в левой части\n",
    "eq_rot_E_index = 0\n",
    "eq_rot_H_index = 1\n",
    "# Получаем выражение для поперечных (по отношению к оси волновода z) компонент поля через продольные\n",
    "field_for_exclude = H_bad_conductor[0]\n",
    "field_for_solve   = E_bad_conductor[1]\n",
    "\n",
    "E_bad_conductor_sb_y = get_field(eq_rot_E_bad_conductor, eq_rot_H_bad_conductor,\n",
    "                                eq_rot_E_index, eq_rot_H_index,\n",
    "                                field_for_exclude, field_for_solve)\n",
    "show(E_bad_conductor_sb_y)"
   ]
  },
  {
   "cell_type": "code",
   "execution_count": 38,
   "metadata": {},
   "outputs": [
    {
     "data": {
      "text/html": [
       "<html>\\(\\displaystyle H_{\\mathit{bad}_{\\mathit{conductor}_{x}}} = -\\frac{E_{\\mathit{bad}_{\\mathit{conductor}_{z}}} c \\epsilon_{\\mathit{yy}} k_{y} \\omega + i \\, c^{2} k_{z} \\frac{\\partial}{\\partial x}H_{{\\rm bad}_{{\\rm conductor}_{f_{z}}}}\\left(x\\right)}{c^{2} k_{z}^{2} + \\epsilon_{\\mathit{yy}} \\mu_{\\mathit{xx}} \\omega^{2}}\\)</html>"
      ],
      "text/latex": [
       "$\\displaystyle H_{\\mathit{bad}_{\\mathit{conductor}_{x}}} = -\\frac{E_{\\mathit{bad}_{\\mathit{conductor}_{z}}} c \\epsilon_{\\mathit{yy}} k_{y} \\omega + i \\, c^{2} k_{z} \\frac{\\partial}{\\partial x}H_{{\\rm bad}_{{\\rm conductor}_{f_{z}}}}\\left(x\\right)}{c^{2} k_{z}^{2} + \\epsilon_{\\mathit{yy}} \\mu_{\\mathit{xx}} \\omega^{2}}$"
      ],
      "text/plain": [
       "H_bad_conductor_x == -(E_bad_conductor_z*c*epsilon_yy_*k_y*omega + I*c^2*k_z*diff(H_bad_conductor_f_z(x), x))/(c^2*k_z^2 + epsilon_yy_*mu_xx_*omega^2)"
      ]
     },
     "metadata": {},
     "output_type": "display_data"
    }
   ],
   "source": [
    "# Группируем уравнения в пары, удобные для исключения переменных поля в левой части\n",
    "eq_rot_E_index = 0\n",
    "eq_rot_H_index = 1\n",
    "# Получаем выражение для поперечных (по отношению к оси волновода z) компонент поля через продольные\n",
    "field_for_exclude = E_bad_conductor[1]\n",
    "field_for_solve   = H_bad_conductor[0]\n",
    "\n",
    "H_bad_conductor_sb_x = get_field(eq_rot_E_bad_conductor, eq_rot_H_bad_conductor,\n",
    "                                eq_rot_E_index, eq_rot_H_index,\n",
    "                                field_for_exclude, field_for_solve)\n",
    "show(H_bad_conductor_sb_x)"
   ]
  },
  {
   "cell_type": "code",
   "execution_count": 39,
   "metadata": {},
   "outputs": [
    {
     "data": {
      "text/html": [
       "<html>\\(\\displaystyle E_{\\mathit{bad}_{\\mathit{conductor}_{x}}} = -\\frac{H_{\\mathit{bad}_{\\mathit{conductor}_{z}}} c k_{y} \\mu_{\\mathit{yy}} \\omega + i \\, c^{2} k_{z} \\frac{\\partial}{\\partial x}E_{{\\rm bad}_{{\\rm conductor}_{f_{z}}}}\\left(x\\right)}{c^{2} k_{z}^{2} + \\epsilon_{\\mathit{xx}} \\mu_{\\mathit{yy}} \\omega^{2}}\\)</html>"
      ],
      "text/latex": [
       "$\\displaystyle E_{\\mathit{bad}_{\\mathit{conductor}_{x}}} = -\\frac{H_{\\mathit{bad}_{\\mathit{conductor}_{z}}} c k_{y} \\mu_{\\mathit{yy}} \\omega + i \\, c^{2} k_{z} \\frac{\\partial}{\\partial x}E_{{\\rm bad}_{{\\rm conductor}_{f_{z}}}}\\left(x\\right)}{c^{2} k_{z}^{2} + \\epsilon_{\\mathit{xx}} \\mu_{\\mathit{yy}} \\omega^{2}}$"
      ],
      "text/plain": [
       "E_bad_conductor_x == -(H_bad_conductor_z*c*k_y*mu_yy_*omega + I*c^2*k_z*diff(E_bad_conductor_f_z(x), x))/(c^2*k_z^2 + epsilon_xx_*mu_yy_*omega^2)"
      ]
     },
     "metadata": {},
     "output_type": "display_data"
    }
   ],
   "source": [
    "# Группируем уравнения в пары, удобные для исключения переменных поля в левой части\n",
    "eq_rot_E_index = 1\n",
    "eq_rot_H_index = 0\n",
    "# Получаем выражение для поперечных (по отношению к оси волновода z) компонент поля через продольные\n",
    "field_for_exclude = H_bad_conductor[1]\n",
    "field_for_solve   = E_bad_conductor[0]\n",
    "\n",
    "E_bad_conductor_sb_x = get_field(eq_rot_E_bad_conductor, eq_rot_H_bad_conductor,\n",
    "                                eq_rot_E_index, eq_rot_H_index,\n",
    "                                field_for_exclude, field_for_solve)\n",
    "show(E_bad_conductor_sb_x)"
   ]
  },
  {
   "cell_type": "code",
   "execution_count": 40,
   "metadata": {},
   "outputs": [
    {
     "data": {
      "text/html": [
       "<html>\\(\\displaystyle H_{\\mathit{bad}_{\\mathit{conductor}_{y}}} = \\frac{H_{\\mathit{bad}_{\\mathit{conductor}_{z}}} c^{2} k_{y} k_{z} - i \\, c \\epsilon_{\\mathit{xx}} \\omega \\frac{\\partial}{\\partial x}E_{{\\rm bad}_{{\\rm conductor}_{f_{z}}}}\\left(x\\right)}{c^{2} k_{z}^{2} + \\epsilon_{\\mathit{xx}} \\mu_{\\mathit{yy}} \\omega^{2}}\\)</html>"
      ],
      "text/latex": [
       "$\\displaystyle H_{\\mathit{bad}_{\\mathit{conductor}_{y}}} = \\frac{H_{\\mathit{bad}_{\\mathit{conductor}_{z}}} c^{2} k_{y} k_{z} - i \\, c \\epsilon_{\\mathit{xx}} \\omega \\frac{\\partial}{\\partial x}E_{{\\rm bad}_{{\\rm conductor}_{f_{z}}}}\\left(x\\right)}{c^{2} k_{z}^{2} + \\epsilon_{\\mathit{xx}} \\mu_{\\mathit{yy}} \\omega^{2}}$"
      ],
      "text/plain": [
       "H_bad_conductor_y == (H_bad_conductor_z*c^2*k_y*k_z - I*c*epsilon_xx_*omega*diff(E_bad_conductor_f_z(x), x))/(c^2*k_z^2 + epsilon_xx_*mu_yy_*omega^2)"
      ]
     },
     "metadata": {},
     "output_type": "display_data"
    }
   ],
   "source": [
    "# Группируем уравнения в пары, удобные для исключения переменных поля в левой части\n",
    "eq_rot_E_index = 1\n",
    "eq_rot_H_index = 0\n",
    "# Получаем выражение для поперечных (по отношению к оси волновода z) компонент поля через продольные\n",
    "field_for_exclude = E_bad_conductor[0]\n",
    "field_for_solve   = H_bad_conductor[1]\n",
    "\n",
    "H_bad_conductor_sb_y = get_field(eq_rot_E_bad_conductor, eq_rot_H_bad_conductor,\n",
    "                                eq_rot_E_index, eq_rot_H_index,\n",
    "                                field_for_exclude, field_for_solve)\n",
    "show(H_bad_conductor_sb_y)"
   ]
  },
  {
   "cell_type": "code",
   "execution_count": null,
   "metadata": {},
   "outputs": [],
   "source": []
  },
  {
   "cell_type": "code",
   "execution_count": 41,
   "metadata": {},
   "outputs": [
    {
     "data": {
      "text/html": [
       "<html>\\(\\displaystyle E_{\\mathit{inner}_{\\mathit{vacuum}_{y}}} = \\frac{E_{\\mathit{inner}_{\\mathit{vacuum}_{z}}} c^{2} k_{y} k_{z} - i \\, c \\omega \\frac{\\partial}{\\partial x}H_{{\\rm inner}_{{\\rm vacuum}_{f_{z}}}}\\left(x\\right)}{c^{2} k_{z}^{2} + \\omega^{2}}\\)</html>"
      ],
      "text/latex": [
       "$\\displaystyle E_{\\mathit{inner}_{\\mathit{vacuum}_{y}}} = \\frac{E_{\\mathit{inner}_{\\mathit{vacuum}_{z}}} c^{2} k_{y} k_{z} - i \\, c \\omega \\frac{\\partial}{\\partial x}H_{{\\rm inner}_{{\\rm vacuum}_{f_{z}}}}\\left(x\\right)}{c^{2} k_{z}^{2} + \\omega^{2}}$"
      ],
      "text/plain": [
       "E_inner_vacuum_y == (E_inner_vacuum_z*c^2*k_y*k_z - I*c*omega*diff(H_inner_vacuum_f_z(x), x))/(c^2*k_z^2 + omega^2)"
      ]
     },
     "metadata": {},
     "output_type": "display_data"
    }
   ],
   "source": [
    "# Группируем уравнения в пары, удобные для исключения переменных поля в левой части\n",
    "eq_rot_E_index = 0\n",
    "eq_rot_H_index = 1\n",
    "# Получаем выражение для поперечных (по отношению к оси волновода z) компонент поля через продольные\n",
    "field_for_exclude = H_inner_vacuum[0]\n",
    "field_for_solve   = E_inner_vacuum[1]\n",
    "\n",
    "E_inner_vacuum_sb_y = get_field(eq_rot_E_inner_vacuum, eq_rot_H_inner_vacuum,\n",
    "                               eq_rot_E_index, eq_rot_H_index,\n",
    "                               field_for_exclude, field_for_solve)\n",
    "show(E_inner_vacuum_sb_y)"
   ]
  },
  {
   "cell_type": "code",
   "execution_count": 42,
   "metadata": {},
   "outputs": [
    {
     "data": {
      "text/html": [
       "<html>\\(\\displaystyle H_{\\mathit{inner}_{\\mathit{vacuum}_{x}}} = -\\frac{E_{\\mathit{inner}_{\\mathit{vacuum}_{z}}} c k_{y} \\omega + i \\, c^{2} k_{z} \\frac{\\partial}{\\partial x}H_{{\\rm inner}_{{\\rm vacuum}_{f_{z}}}}\\left(x\\right)}{c^{2} k_{z}^{2} + \\omega^{2}}\\)</html>"
      ],
      "text/latex": [
       "$\\displaystyle H_{\\mathit{inner}_{\\mathit{vacuum}_{x}}} = -\\frac{E_{\\mathit{inner}_{\\mathit{vacuum}_{z}}} c k_{y} \\omega + i \\, c^{2} k_{z} \\frac{\\partial}{\\partial x}H_{{\\rm inner}_{{\\rm vacuum}_{f_{z}}}}\\left(x\\right)}{c^{2} k_{z}^{2} + \\omega^{2}}$"
      ],
      "text/plain": [
       "H_inner_vacuum_x == -(E_inner_vacuum_z*c*k_y*omega + I*c^2*k_z*diff(H_inner_vacuum_f_z(x), x))/(c^2*k_z^2 + omega^2)"
      ]
     },
     "metadata": {},
     "output_type": "display_data"
    }
   ],
   "source": [
    "# Группируем уравнения в пары, удобные для исключения переменных поля в левой части\n",
    "eq_rot_E_index = 0\n",
    "eq_rot_H_index = 1\n",
    "# Получаем выражение для поперечных (по отношению к оси волновода z) компонент поля через продольные\n",
    "field_for_exclude = E_inner_vacuum[1]\n",
    "field_for_solve   = H_inner_vacuum[0]\n",
    "\n",
    "H_inner_vacuum_sb_x = get_field(eq_rot_E_inner_vacuum, eq_rot_H_inner_vacuum,\n",
    "                               eq_rot_E_index, eq_rot_H_index,\n",
    "                               field_for_exclude, field_for_solve)\n",
    "show(H_inner_vacuum_sb_x)"
   ]
  },
  {
   "cell_type": "code",
   "execution_count": 43,
   "metadata": {},
   "outputs": [
    {
     "data": {
      "text/html": [
       "<html>\\(\\displaystyle E_{\\mathit{inner}_{\\mathit{vacuum}_{x}}} = -\\frac{H_{\\mathit{inner}_{\\mathit{vacuum}_{z}}} c k_{y} \\omega + i \\, c^{2} k_{z} \\frac{\\partial}{\\partial x}E_{{\\rm inner}_{{\\rm vacuum}_{f_{z}}}}\\left(x\\right)}{c^{2} k_{z}^{2} + \\omega^{2}}\\)</html>"
      ],
      "text/latex": [
       "$\\displaystyle E_{\\mathit{inner}_{\\mathit{vacuum}_{x}}} = -\\frac{H_{\\mathit{inner}_{\\mathit{vacuum}_{z}}} c k_{y} \\omega + i \\, c^{2} k_{z} \\frac{\\partial}{\\partial x}E_{{\\rm inner}_{{\\rm vacuum}_{f_{z}}}}\\left(x\\right)}{c^{2} k_{z}^{2} + \\omega^{2}}$"
      ],
      "text/plain": [
       "E_inner_vacuum_x == -(H_inner_vacuum_z*c*k_y*omega + I*c^2*k_z*diff(E_inner_vacuum_f_z(x), x))/(c^2*k_z^2 + omega^2)"
      ]
     },
     "metadata": {},
     "output_type": "display_data"
    }
   ],
   "source": [
    "# Группируем уравнения в пары, удобные для исключения переменных поля в левой части\n",
    "eq_rot_E_index = 1\n",
    "eq_rot_H_index = 0\n",
    "# Получаем выражение для поперечных (по отношению к оси волновода z) компонент поля через продольные\n",
    "field_for_exclude = H_inner_vacuum[1]\n",
    "field_for_solve   = E_inner_vacuum[0]\n",
    "\n",
    "E_inner_vacuum_sb_x = get_field(eq_rot_E_inner_vacuum, eq_rot_H_inner_vacuum,\n",
    "                               eq_rot_E_index, eq_rot_H_index,\n",
    "                               field_for_exclude, field_for_solve)\n",
    "show(E_inner_vacuum_sb_x)"
   ]
  },
  {
   "cell_type": "code",
   "execution_count": 44,
   "metadata": {},
   "outputs": [
    {
     "data": {
      "text/html": [
       "<html>\\(\\displaystyle H_{\\mathit{inner}_{\\mathit{vacuum}_{y}}} = \\frac{H_{\\mathit{inner}_{\\mathit{vacuum}_{z}}} c^{2} k_{y} k_{z} - i \\, c \\omega \\frac{\\partial}{\\partial x}E_{{\\rm inner}_{{\\rm vacuum}_{f_{z}}}}\\left(x\\right)}{c^{2} k_{z}^{2} + \\omega^{2}}\\)</html>"
      ],
      "text/latex": [
       "$\\displaystyle H_{\\mathit{inner}_{\\mathit{vacuum}_{y}}} = \\frac{H_{\\mathit{inner}_{\\mathit{vacuum}_{z}}} c^{2} k_{y} k_{z} - i \\, c \\omega \\frac{\\partial}{\\partial x}E_{{\\rm inner}_{{\\rm vacuum}_{f_{z}}}}\\left(x\\right)}{c^{2} k_{z}^{2} + \\omega^{2}}$"
      ],
      "text/plain": [
       "H_inner_vacuum_y == (H_inner_vacuum_z*c^2*k_y*k_z - I*c*omega*diff(E_inner_vacuum_f_z(x), x))/(c^2*k_z^2 + omega^2)"
      ]
     },
     "metadata": {},
     "output_type": "display_data"
    }
   ],
   "source": [
    "# Группируем уравнения в пары, удобные для исключения переменных поля в левой части\n",
    "eq_rot_E_index = 1\n",
    "eq_rot_H_index = 0\n",
    "# Получаем выражение для поперечных (по отношению к оси волновода z) компонент поля через продольные\n",
    "field_for_exclude = E_inner_vacuum[0]\n",
    "field_for_solve   = H_inner_vacuum[1]\n",
    "\n",
    "H_inner_vacuum_sb_y = get_field(eq_rot_E_inner_vacuum, eq_rot_H_inner_vacuum,\n",
    "                               eq_rot_E_index, eq_rot_H_index,\n",
    "                               field_for_exclude, field_for_solve)\n",
    "show(H_inner_vacuum_sb_y)"
   ]
  },
  {
   "cell_type": "code",
   "execution_count": null,
   "metadata": {},
   "outputs": [],
   "source": []
  },
  {
   "cell_type": "code",
   "execution_count": 45,
   "metadata": {},
   "outputs": [],
   "source": [
    "# Получаем выражение для продольной (по отношению к оси волновода z) компоненте H_z поля\n",
    "# исходя из выражения для ротора E"
   ]
  },
  {
   "cell_type": "code",
   "execution_count": 46,
   "metadata": {},
   "outputs": [
    {
     "data": {
      "text/html": [
       "<html>\\(\\displaystyle H_{\\mathit{inner}_{\\mathit{vacuum}_{x}}} = -\\frac{E_{\\mathit{inner}_{\\mathit{vacuum}_{z}}} c k_{y} - E_{\\mathit{inner}_{\\mathit{vacuum}_{y}}} c k_{z}}{\\omega}\\)</html>"
      ],
      "text/latex": [
       "$\\displaystyle H_{\\mathit{inner}_{\\mathit{vacuum}_{x}}} = -\\frac{E_{\\mathit{inner}_{\\mathit{vacuum}_{z}}} c k_{y} - E_{\\mathit{inner}_{\\mathit{vacuum}_{y}}} c k_{z}}{\\omega}$"
      ],
      "text/plain": [
       "H_inner_vacuum_x == -(E_inner_vacuum_z*c*k_y - E_inner_vacuum_y*c*k_z)/omega"
      ]
     },
     "metadata": {},
     "output_type": "display_data"
    },
    {
     "data": {
      "text/html": [
       "<html>\\(\\displaystyle H_{\\mathit{inner}_{\\mathit{vacuum}_{y}}} = -\\frac{E_{\\mathit{inner}_{\\mathit{vacuum}_{x}}} c k_{z} + i \\, c \\frac{\\partial}{\\partial x}E_{{\\rm inner}_{{\\rm vacuum}_{f_{z}}}}\\left(x\\right)}{\\omega}\\)</html>"
      ],
      "text/latex": [
       "$\\displaystyle H_{\\mathit{inner}_{\\mathit{vacuum}_{y}}} = -\\frac{E_{\\mathit{inner}_{\\mathit{vacuum}_{x}}} c k_{z} + i \\, c \\frac{\\partial}{\\partial x}E_{{\\rm inner}_{{\\rm vacuum}_{f_{z}}}}\\left(x\\right)}{\\omega}$"
      ],
      "text/plain": [
       "H_inner_vacuum_y == -(E_inner_vacuum_x*c*k_z + I*c*diff(E_inner_vacuum_f_z(x), x))/omega"
      ]
     },
     "metadata": {},
     "output_type": "display_data"
    },
    {
     "data": {
      "text/html": [
       "<html>\\(\\displaystyle H_{\\mathit{inner}_{\\mathit{vacuum}_{z}}} = \\frac{E_{\\mathit{inner}_{\\mathit{vacuum}_{x}}} c k_{y} + i \\, c \\frac{\\partial}{\\partial x}E_{{\\rm inner}_{{\\rm vacuum}_{f_{y}}}}\\left(x\\right)}{\\omega}\\)</html>"
      ],
      "text/latex": [
       "$\\displaystyle H_{\\mathit{inner}_{\\mathit{vacuum}_{z}}} = \\frac{E_{\\mathit{inner}_{\\mathit{vacuum}_{x}}} c k_{y} + i \\, c \\frac{\\partial}{\\partial x}E_{{\\rm inner}_{{\\rm vacuum}_{f_{y}}}}\\left(x\\right)}{\\omega}$"
      ],
      "text/plain": [
       "H_inner_vacuum_z == (E_inner_vacuum_x*c*k_y + I*c*diff(E_inner_vacuum_f_y(x), x))/omega"
      ]
     },
     "metadata": {},
     "output_type": "display_data"
    }
   ],
   "source": [
    "H_inner_vacuum_s_x = solve(eq_rot_E_inner_vacuum_x, H_inner_vacuum_x)[0]\n",
    "H_inner_vacuum_s_y = solve(eq_rot_E_inner_vacuum_y, H_inner_vacuum_y)[0]\n",
    "H_inner_vacuum_s_z = solve(eq_rot_E_inner_vacuum_z, H_inner_vacuum_z)[0]\n",
    "show(H_inner_vacuum_s_x)\n",
    "show(H_inner_vacuum_s_y)\n",
    "show(H_inner_vacuum_s_z)"
   ]
  },
  {
   "cell_type": "code",
   "execution_count": 47,
   "metadata": {},
   "outputs": [
    {
     "data": {
      "text/html": [
       "<html>\\(\\displaystyle H_{\\mathit{bad}_{\\mathit{conductor}_{x}}} = -\\frac{E_{\\mathit{bad}_{\\mathit{conductor}_{z}}} c k_{y} - E_{\\mathit{bad}_{\\mathit{conductor}_{y}}} c k_{z}}{\\mu_{\\mathit{xx}} \\omega}\\)</html>"
      ],
      "text/latex": [
       "$\\displaystyle H_{\\mathit{bad}_{\\mathit{conductor}_{x}}} = -\\frac{E_{\\mathit{bad}_{\\mathit{conductor}_{z}}} c k_{y} - E_{\\mathit{bad}_{\\mathit{conductor}_{y}}} c k_{z}}{\\mu_{\\mathit{xx}} \\omega}$"
      ],
      "text/plain": [
       "H_bad_conductor_x == -(E_bad_conductor_z*c*k_y - E_bad_conductor_y*c*k_z)/(mu_xx_*omega)"
      ]
     },
     "metadata": {},
     "output_type": "display_data"
    },
    {
     "data": {
      "text/html": [
       "<html>\\(\\displaystyle H_{\\mathit{bad}_{\\mathit{conductor}_{y}}} = -\\frac{E_{\\mathit{bad}_{\\mathit{conductor}_{x}}} c k_{z} + i \\, c \\frac{\\partial}{\\partial x}E_{{\\rm bad}_{{\\rm conductor}_{f_{z}}}}\\left(x\\right)}{\\mu_{\\mathit{yy}} \\omega}\\)</html>"
      ],
      "text/latex": [
       "$\\displaystyle H_{\\mathit{bad}_{\\mathit{conductor}_{y}}} = -\\frac{E_{\\mathit{bad}_{\\mathit{conductor}_{x}}} c k_{z} + i \\, c \\frac{\\partial}{\\partial x}E_{{\\rm bad}_{{\\rm conductor}_{f_{z}}}}\\left(x\\right)}{\\mu_{\\mathit{yy}} \\omega}$"
      ],
      "text/plain": [
       "H_bad_conductor_y == -(E_bad_conductor_x*c*k_z + I*c*diff(E_bad_conductor_f_z(x), x))/(mu_yy_*omega)"
      ]
     },
     "metadata": {},
     "output_type": "display_data"
    },
    {
     "data": {
      "text/html": [
       "<html>\\(\\displaystyle H_{\\mathit{bad}_{\\mathit{conductor}_{z}}} = \\frac{E_{\\mathit{bad}_{\\mathit{conductor}_{x}}} c k_{y} + i \\, c \\frac{\\partial}{\\partial x}E_{{\\rm bad}_{{\\rm conductor}_{f_{y}}}}\\left(x\\right)}{\\mu_{\\mathit{zz}} \\omega}\\)</html>"
      ],
      "text/latex": [
       "$\\displaystyle H_{\\mathit{bad}_{\\mathit{conductor}_{z}}} = \\frac{E_{\\mathit{bad}_{\\mathit{conductor}_{x}}} c k_{y} + i \\, c \\frac{\\partial}{\\partial x}E_{{\\rm bad}_{{\\rm conductor}_{f_{y}}}}\\left(x\\right)}{\\mu_{\\mathit{zz}} \\omega}$"
      ],
      "text/plain": [
       "H_bad_conductor_z == (E_bad_conductor_x*c*k_y + I*c*diff(E_bad_conductor_f_y(x), x))/(mu_zz_*omega)"
      ]
     },
     "metadata": {},
     "output_type": "display_data"
    }
   ],
   "source": [
    "H_bad_conductor_s_x = solve(eq_rot_E_bad_conductor_x, H_bad_conductor_x)[0]\n",
    "H_bad_conductor_s_y = solve(eq_rot_E_bad_conductor_y, H_bad_conductor_y)[0]\n",
    "H_bad_conductor_s_z = solve(eq_rot_E_bad_conductor_z, H_bad_conductor_z)[0]\n",
    "show(H_bad_conductor_s_x)\n",
    "show(H_bad_conductor_s_y)\n",
    "show(H_bad_conductor_s_z)"
   ]
  },
  {
   "cell_type": "code",
   "execution_count": 48,
   "metadata": {},
   "outputs": [],
   "source": [
    "# Подставляем в выражение для продольной (по отношению к оси волновода z) компоненте H_z поля\n",
    "# исходное решение для электрического поля"
   ]
  },
  {
   "cell_type": "code",
   "execution_count": 49,
   "metadata": {},
   "outputs": [
    {
     "data": {
      "text/html": [
       "<html>\\(\\displaystyle x \\ {\\mapsto}\\ -\\frac{\\mathit{A2}_{y} K_{\\mathit{vacuum}} c e^{\\left(i \\, K_{\\mathit{vacuum}} x\\right)}}{\\omega} + \\frac{\\mathit{A1}_{y} K_{\\mathit{vacuum}} c e^{\\left(-i \\, K_{\\mathit{vacuum}} x\\right)}}{\\omega}\\)</html>"
      ],
      "text/latex": [
       "$\\displaystyle x \\ {\\mapsto}\\ -\\frac{\\mathit{A2}_{y} K_{\\mathit{vacuum}} c e^{\\left(i \\, K_{\\mathit{vacuum}} x\\right)}}{\\omega} + \\frac{\\mathit{A1}_{y} K_{\\mathit{vacuum}} c e^{\\left(-i \\, K_{\\mathit{vacuum}} x\\right)}}{\\omega}$"
      ],
      "text/plain": [
       "x |--> -A2_y*K_vacuum*c*e^(I*K_vacuum*x)/omega + A1_y*K_vacuum*c*e^(-I*K_vacuum*x)/omega"
      ]
     },
     "metadata": {},
     "output_type": "display_data"
    },
    {
     "data": {
      "text/html": [
       "<html>\\(\\displaystyle x \\ {\\mapsto}\\ \\frac{\\mathit{A2}_{z} K_{\\mathit{vacuum}} c e^{\\left(i \\, K_{\\mathit{vacuum}} x\\right)}}{\\omega} - \\frac{\\mathit{A2}_{x} c k_{z} e^{\\left(i \\, K_{\\mathit{vacuum}} x\\right)}}{\\omega} - \\frac{\\mathit{A1}_{z} K_{\\mathit{vacuum}} c e^{\\left(-i \\, K_{\\mathit{vacuum}} x\\right)}}{\\omega} - \\frac{\\mathit{A1}_{x} c k_{z} e^{\\left(-i \\, K_{\\mathit{vacuum}} x\\right)}}{\\omega}\\)</html>"
      ],
      "text/latex": [
       "$\\displaystyle x \\ {\\mapsto}\\ \\frac{\\mathit{A2}_{z} K_{\\mathit{vacuum}} c e^{\\left(i \\, K_{\\mathit{vacuum}} x\\right)}}{\\omega} - \\frac{\\mathit{A2}_{x} c k_{z} e^{\\left(i \\, K_{\\mathit{vacuum}} x\\right)}}{\\omega} - \\frac{\\mathit{A1}_{z} K_{\\mathit{vacuum}} c e^{\\left(-i \\, K_{\\mathit{vacuum}} x\\right)}}{\\omega} - \\frac{\\mathit{A1}_{x} c k_{z} e^{\\left(-i \\, K_{\\mathit{vacuum}} x\\right)}}{\\omega}$"
      ],
      "text/plain": [
       "x |--> A2_z*K_vacuum*c*e^(I*K_vacuum*x)/omega - A2_x*c*k_z*e^(I*K_vacuum*x)/omega - A1_z*K_vacuum*c*e^(-I*K_vacuum*x)/omega - A1_x*c*k_z*e^(-I*K_vacuum*x)/omega"
      ]
     },
     "metadata": {},
     "output_type": "display_data"
    },
    {
     "data": {
      "text/html": [
       "<html>\\(\\displaystyle x \\ {\\mapsto}\\ \\frac{{\\left(\\mathit{A2}_{y} e^{\\left(i \\, K_{\\mathit{vacuum}} x\\right)} + \\mathit{A1}_{y} e^{\\left(-i \\, K_{\\mathit{vacuum}} x\\right)}\\right)} c k_{z}}{\\omega}\\)</html>"
      ],
      "text/latex": [
       "$\\displaystyle x \\ {\\mapsto}\\ \\frac{{\\left(\\mathit{A2}_{y} e^{\\left(i \\, K_{\\mathit{vacuum}} x\\right)} + \\mathit{A1}_{y} e^{\\left(-i \\, K_{\\mathit{vacuum}} x\\right)}\\right)} c k_{z}}{\\omega}$"
      ],
      "text/plain": [
       "x |--> (A2_y*e^(I*K_vacuum*x) + A1_y*e^(-I*K_vacuum*x))*c*k_z/omega"
      ]
     },
     "metadata": {},
     "output_type": "display_data"
    }
   ],
   "source": [
    "H_inner_vacuum_sol_z (x) = H_inner_vacuum_s_z.rhs().subs(k_y == 0) \\\n",
    "    .substitute_function(E_inner_vacuum_f[1],\n",
    "                         E_inner_vacuum_sol[1]).expand()\n",
    "\n",
    "H_inner_vacuum_sol_y (x) = H_inner_vacuum_s_y.rhs().subs(k_y == 0) \\\n",
    "    .subs(E_inner_vacuum[0] == E_inner_vacuum_sol[0]) \\\n",
    "    .substitute_function(E_inner_vacuum_f[2],\n",
    "                         E_inner_vacuum_sol[2]).expand()\n",
    "\n",
    "H_inner_vacuum_sol_x (x) = H_inner_vacuum_s_x.rhs().subs(k_y == 0) \\\n",
    "    .subs(E_inner_vacuum[1] == E_inner_vacuum_sol[1])\n",
    "\n",
    "show(H_inner_vacuum_sol_z)\n",
    "show(H_inner_vacuum_sol_y)\n",
    "show(H_inner_vacuum_sol_x)"
   ]
  },
  {
   "cell_type": "code",
   "execution_count": 50,
   "metadata": {},
   "outputs": [
    {
     "data": {
      "text/html": [
       "<html>\\(\\displaystyle x \\ {\\mapsto}\\ -\\frac{\\mathit{B1}_{y} K_{\\mathit{conductor}} c e^{\\left(i \\, K_{\\mathit{conductor}} x\\right)}}{\\mu_{\\mathit{zz}} \\omega}\\)</html>"
      ],
      "text/latex": [
       "$\\displaystyle x \\ {\\mapsto}\\ -\\frac{\\mathit{B1}_{y} K_{\\mathit{conductor}} c e^{\\left(i \\, K_{\\mathit{conductor}} x\\right)}}{\\mu_{\\mathit{zz}} \\omega}$"
      ],
      "text/plain": [
       "x |--> -B1_y*K_conductor*c*e^(I*K_conductor*x)/(mu_zz_*omega)"
      ]
     },
     "metadata": {},
     "output_type": "display_data"
    },
    {
     "data": {
      "text/html": [
       "<html>\\(\\displaystyle x \\ {\\mapsto}\\ \\frac{\\mathit{B1}_{z} K_{\\mathit{conductor}} c e^{\\left(i \\, K_{\\mathit{conductor}} x\\right)}}{\\mu_{\\mathit{yy}} \\omega} - \\frac{\\mathit{B1}_{x} c k_{z} e^{\\left(i \\, K_{\\mathit{conductor}} x\\right)}}{\\mu_{\\mathit{yy}} \\omega}\\)</html>"
      ],
      "text/latex": [
       "$\\displaystyle x \\ {\\mapsto}\\ \\frac{\\mathit{B1}_{z} K_{\\mathit{conductor}} c e^{\\left(i \\, K_{\\mathit{conductor}} x\\right)}}{\\mu_{\\mathit{yy}} \\omega} - \\frac{\\mathit{B1}_{x} c k_{z} e^{\\left(i \\, K_{\\mathit{conductor}} x\\right)}}{\\mu_{\\mathit{yy}} \\omega}$"
      ],
      "text/plain": [
       "x |--> B1_z*K_conductor*c*e^(I*K_conductor*x)/(mu_yy_*omega) - B1_x*c*k_z*e^(I*K_conductor*x)/(mu_yy_*omega)"
      ]
     },
     "metadata": {},
     "output_type": "display_data"
    },
    {
     "data": {
      "text/html": [
       "<html>\\(\\displaystyle x \\ {\\mapsto}\\ \\frac{\\mathit{B1}_{y} c k_{z} e^{\\left(i \\, K_{\\mathit{conductor}} x\\right)}}{\\mu_{\\mathit{xx}} \\omega}\\)</html>"
      ],
      "text/latex": [
       "$\\displaystyle x \\ {\\mapsto}\\ \\frac{\\mathit{B1}_{y} c k_{z} e^{\\left(i \\, K_{\\mathit{conductor}} x\\right)}}{\\mu_{\\mathit{xx}} \\omega}$"
      ],
      "text/plain": [
       "x |--> B1_y*c*k_z*e^(I*K_conductor*x)/(mu_xx_*omega)"
      ]
     },
     "metadata": {},
     "output_type": "display_data"
    }
   ],
   "source": [
    "H_bad_conductor_sol_z (x) = H_bad_conductor_s_z.rhs().subs(k_y == 0) \\\n",
    "    .substitute_function(E_bad_conductor_f[1],\n",
    "                         E_bad_conductor_sol[1]).expand()\n",
    "\n",
    "H_bad_conductor_sol_y (x) = H_bad_conductor_s_y.rhs().subs(k_y == 0) \\\n",
    "    .subs(E_bad_conductor[0] == E_bad_conductor_sol[0]) \\\n",
    "    .substitute_function(E_bad_conductor_f[2],\n",
    "                         E_bad_conductor_sol[2]).expand()\n",
    "\n",
    "H_bad_conductor_sol_x (x) = H_bad_conductor_s_x.rhs().subs(k_y == 0) \\\n",
    "    .subs(E_bad_conductor[1] == E_bad_conductor_sol[1])\n",
    "\n",
    "show(H_bad_conductor_sol_z)\n",
    "show(H_bad_conductor_sol_y)\n",
    "show(H_bad_conductor_sol_x)"
   ]
  },
  {
   "cell_type": "code",
   "execution_count": null,
   "metadata": {},
   "outputs": [],
   "source": []
  },
  {
   "cell_type": "code",
   "execution_count": 51,
   "metadata": {},
   "outputs": [],
   "source": [
    "# ТМ - волна\n",
    "# H_z = 0\n",
    "H_inner_vacuum_sol_z (x) = 0\n",
    "H_bad_conductor_sol_z (x) = 0"
   ]
  },
  {
   "cell_type": "code",
   "execution_count": null,
   "metadata": {},
   "outputs": [],
   "source": []
  },
  {
   "cell_type": "code",
   "execution_count": 52,
   "metadata": {
    "scrolled": true
   },
   "outputs": [
    {
     "data": {
      "text/html": [
       "<html>\\(\\displaystyle \\frac{\\mathit{A2}_{z} K_{\\mathit{vacuum}} c \\omega e^{\\left(i \\, K_{\\mathit{vacuum}} x\\right)}}{c^{2} k_{z}^{2} + \\omega^{2}} - \\frac{\\mathit{A1}_{z} K_{\\mathit{vacuum}} c \\omega e^{\\left(-i \\, K_{\\mathit{vacuum}} x\\right)}}{c^{2} k_{z}^{2} + \\omega^{2}}\\)</html>"
      ],
      "text/latex": [
       "$\\displaystyle \\frac{\\mathit{A2}_{z} K_{\\mathit{vacuum}} c \\omega e^{\\left(i \\, K_{\\mathit{vacuum}} x\\right)}}{c^{2} k_{z}^{2} + \\omega^{2}} - \\frac{\\mathit{A1}_{z} K_{\\mathit{vacuum}} c \\omega e^{\\left(-i \\, K_{\\mathit{vacuum}} x\\right)}}{c^{2} k_{z}^{2} + \\omega^{2}}$"
      ],
      "text/plain": [
       "A2_z*K_vacuum*c*omega*e^(I*K_vacuum*x)/(c^2*k_z^2 + omega^2) - A1_z*K_vacuum*c*omega*e^(-I*K_vacuum*x)/(c^2*k_z^2 + omega^2)"
      ]
     },
     "metadata": {},
     "output_type": "display_data"
    }
   ],
   "source": [
    "H_inner_vacuum_sub_y (x) = H_inner_vacuum_sb_y.rhs().subs(k_y == 0) \\\n",
    "    .substitute_function(E_inner_vacuum_f_z,\n",
    "                         E_inner_vacuum_sol_z).expand()\n",
    "show(H_inner_vacuum_sub_y(x))"
   ]
  },
  {
   "cell_type": "code",
   "execution_count": 53,
   "metadata": {},
   "outputs": [
    {
     "data": {
      "text/html": [
       "<html>\\(\\displaystyle \\frac{\\mathit{B1}_{z} K_{\\mathit{conductor}} c \\epsilon_{\\mathit{xx}} \\omega e^{\\left(i \\, K_{\\mathit{conductor}} x\\right)}}{c^{2} k_{z}^{2} + \\epsilon_{\\mathit{xx}} \\mu_{\\mathit{yy}} \\omega^{2}}\\)</html>"
      ],
      "text/latex": [
       "$\\displaystyle \\frac{\\mathit{B1}_{z} K_{\\mathit{conductor}} c \\epsilon_{\\mathit{xx}} \\omega e^{\\left(i \\, K_{\\mathit{conductor}} x\\right)}}{c^{2} k_{z}^{2} + \\epsilon_{\\mathit{xx}} \\mu_{\\mathit{yy}} \\omega^{2}}$"
      ],
      "text/plain": [
       "B1_z*K_conductor*c*epsilon_xx_*omega*e^(I*K_conductor*x)/(c^2*k_z^2 + epsilon_xx_*mu_yy_*omega^2)"
      ]
     },
     "metadata": {},
     "output_type": "display_data"
    }
   ],
   "source": [
    "H_bad_conductor_sub_y (x) = H_bad_conductor_sb_y.rhs().subs(k_y == 0) \\\n",
    "    .substitute_function(E_bad_conductor_f_z,\n",
    "                         E_bad_conductor_sol_z).expand()\n",
    "show(H_bad_conductor_sub_y(x))"
   ]
  },
  {
   "cell_type": "code",
   "execution_count": null,
   "metadata": {},
   "outputs": [],
   "source": []
  },
  {
   "cell_type": "code",
   "execution_count": 54,
   "metadata": {},
   "outputs": [
    {
     "data": {
      "text/html": [
       "<html>\\(\\displaystyle x \\ {\\mapsto}\\ 0\\)</html>"
      ],
      "text/latex": [
       "$\\displaystyle x \\ {\\mapsto}\\ 0$"
      ],
      "text/plain": [
       "x |--> 0"
      ]
     },
     "metadata": {},
     "output_type": "display_data"
    }
   ],
   "source": [
    "H_inner_vacuum_sub_x (x) = H_inner_vacuum_sb_x.rhs().subs(k_y == 0) \\\n",
    "    .substitute_function(H_inner_vacuum_f_z,\n",
    "                         H_inner_vacuum_sol_z).expand()\n",
    "show(H_inner_vacuum_sub_x)"
   ]
  },
  {
   "cell_type": "code",
   "execution_count": 55,
   "metadata": {
    "scrolled": true
   },
   "outputs": [
    {
     "data": {
      "text/html": [
       "<html>\\(\\displaystyle x \\ {\\mapsto}\\ 0\\)</html>"
      ],
      "text/latex": [
       "$\\displaystyle x \\ {\\mapsto}\\ 0$"
      ],
      "text/plain": [
       "x |--> 0"
      ]
     },
     "metadata": {},
     "output_type": "display_data"
    }
   ],
   "source": [
    "H_bad_conductor_sub_x (x) = H_bad_conductor_sb_x.rhs().subs(k_y == 0) \\\n",
    "    .substitute_function(H_bad_conductor_f_z,\n",
    "                         H_bad_conductor_sol_z).expand()\n",
    "show(H_bad_conductor_sub_x)"
   ]
  },
  {
   "cell_type": "code",
   "execution_count": null,
   "metadata": {},
   "outputs": [],
   "source": []
  },
  {
   "cell_type": "code",
   "execution_count": 56,
   "metadata": {
    "scrolled": true
   },
   "outputs": [
    {
     "data": {
      "text/html": [
       "<html>\\(\\displaystyle 0\\)</html>"
      ],
      "text/latex": [
       "$\\displaystyle 0$"
      ],
      "text/plain": [
       "0"
      ]
     },
     "metadata": {},
     "output_type": "display_data"
    },
    {
     "data": {
      "text/html": [
       "<html>\\(\\displaystyle \\mathit{A2}_{y} e^{\\left(i \\, K_{\\mathit{vacuum}} x\\right)} + \\mathit{A1}_{y} e^{\\left(-i \\, K_{\\mathit{vacuum}} x\\right)}\\)</html>"
      ],
      "text/latex": [
       "$\\displaystyle \\mathit{A2}_{y} e^{\\left(i \\, K_{\\mathit{vacuum}} x\\right)} + \\mathit{A1}_{y} e^{\\left(-i \\, K_{\\mathit{vacuum}} x\\right)}$"
      ],
      "text/plain": [
       "A2_y*e^(I*K_vacuum*x) + A1_y*e^(-I*K_vacuum*x)"
      ]
     },
     "metadata": {},
     "output_type": "display_data"
    }
   ],
   "source": [
    "E_inner_vacuum_sub_y (x) = E_inner_vacuum_sb_y.rhs().subs(k_y == 0) \\\n",
    "    .substitute_function(H_inner_vacuum_f_z,\n",
    "                         H_inner_vacuum_sol_z).expand()\n",
    "show(E_inner_vacuum_sub_y (x))\n",
    "show(E_inner_vacuum_sol_y (x))"
   ]
  },
  {
   "cell_type": "code",
   "execution_count": 57,
   "metadata": {},
   "outputs": [
    {
     "data": {
      "text/html": [
       "<html>\\(\\displaystyle 0\\)</html>"
      ],
      "text/latex": [
       "$\\displaystyle 0$"
      ],
      "text/plain": [
       "0"
      ]
     },
     "metadata": {},
     "output_type": "display_data"
    },
    {
     "data": {
      "text/html": [
       "<html>\\(\\displaystyle \\mathit{B1}_{y} e^{\\left(i \\, K_{\\mathit{conductor}} x\\right)}\\)</html>"
      ],
      "text/latex": [
       "$\\displaystyle \\mathit{B1}_{y} e^{\\left(i \\, K_{\\mathit{conductor}} x\\right)}$"
      ],
      "text/plain": [
       "B1_y*e^(I*K_conductor*x)"
      ]
     },
     "metadata": {},
     "output_type": "display_data"
    }
   ],
   "source": [
    "E_bad_conductor_sub_y (x) = E_bad_conductor_sb_y.rhs().subs(k_y == 0) \\\n",
    "    .substitute_function(H_bad_conductor_f_z,\n",
    "                         H_bad_conductor_sol_z).expand()\n",
    "show(E_bad_conductor_sub_y (x))\n",
    "show(E_bad_conductor_sol_y (x))"
   ]
  },
  {
   "cell_type": "code",
   "execution_count": null,
   "metadata": {},
   "outputs": [],
   "source": []
  },
  {
   "cell_type": "code",
   "execution_count": 58,
   "metadata": {},
   "outputs": [
    {
     "data": {
      "text/html": [
       "<html>\\(\\displaystyle x \\ {\\mapsto}\\ \\frac{\\mathit{A2}_{z} K_{\\mathit{vacuum}} c^{2} k_{z} e^{\\left(i \\, K_{\\mathit{vacuum}} x\\right)}}{c^{2} k_{z}^{2} + \\omega^{2}} - \\frac{\\mathit{A1}_{z} K_{\\mathit{vacuum}} c^{2} k_{z} e^{\\left(-i \\, K_{\\mathit{vacuum}} x\\right)}}{c^{2} k_{z}^{2} + \\omega^{2}}\\)</html>"
      ],
      "text/latex": [
       "$\\displaystyle x \\ {\\mapsto}\\ \\frac{\\mathit{A2}_{z} K_{\\mathit{vacuum}} c^{2} k_{z} e^{\\left(i \\, K_{\\mathit{vacuum}} x\\right)}}{c^{2} k_{z}^{2} + \\omega^{2}} - \\frac{\\mathit{A1}_{z} K_{\\mathit{vacuum}} c^{2} k_{z} e^{\\left(-i \\, K_{\\mathit{vacuum}} x\\right)}}{c^{2} k_{z}^{2} + \\omega^{2}}$"
      ],
      "text/plain": [
       "x |--> A2_z*K_vacuum*c^2*k_z*e^(I*K_vacuum*x)/(c^2*k_z^2 + omega^2) - A1_z*K_vacuum*c^2*k_z*e^(-I*K_vacuum*x)/(c^2*k_z^2 + omega^2)"
      ]
     },
     "metadata": {},
     "output_type": "display_data"
    },
    {
     "data": {
      "text/html": [
       "<html>\\(\\displaystyle x \\ {\\mapsto}\\ \\mathit{A2}_{x} e^{\\left(i \\, K_{\\mathit{vacuum}} x\\right)} + \\mathit{A1}_{x} e^{\\left(-i \\, K_{\\mathit{vacuum}} x\\right)}\\)</html>"
      ],
      "text/latex": [
       "$\\displaystyle x \\ {\\mapsto}\\ \\mathit{A2}_{x} e^{\\left(i \\, K_{\\mathit{vacuum}} x\\right)} + \\mathit{A1}_{x} e^{\\left(-i \\, K_{\\mathit{vacuum}} x\\right)}$"
      ],
      "text/plain": [
       "x |--> A2_x*e^(I*K_vacuum*x) + A1_x*e^(-I*K_vacuum*x)"
      ]
     },
     "metadata": {},
     "output_type": "display_data"
    }
   ],
   "source": [
    "E_inner_vacuum_sub_x (x) = E_inner_vacuum_sb_x.rhs().subs(k_y == 0) \\\n",
    "    .substitute_function(E_inner_vacuum_f_z,\n",
    "                         E_inner_vacuum_sol_z).expand()\n",
    "show(E_inner_vacuum_sub_x)\n",
    "show(E_inner_vacuum_sol_x)"
   ]
  },
  {
   "cell_type": "code",
   "execution_count": 59,
   "metadata": {
    "scrolled": true
   },
   "outputs": [
    {
     "data": {
      "text/html": [
       "<html>\\(\\displaystyle x \\ {\\mapsto}\\ \\frac{\\mathit{B1}_{z} K_{\\mathit{conductor}} c^{2} k_{z} e^{\\left(i \\, K_{\\mathit{conductor}} x\\right)}}{c^{2} k_{z}^{2} + \\epsilon_{\\mathit{xx}} \\mu_{\\mathit{yy}} \\omega^{2}}\\)</html>"
      ],
      "text/latex": [
       "$\\displaystyle x \\ {\\mapsto}\\ \\frac{\\mathit{B1}_{z} K_{\\mathit{conductor}} c^{2} k_{z} e^{\\left(i \\, K_{\\mathit{conductor}} x\\right)}}{c^{2} k_{z}^{2} + \\epsilon_{\\mathit{xx}} \\mu_{\\mathit{yy}} \\omega^{2}}$"
      ],
      "text/plain": [
       "x |--> B1_z*K_conductor*c^2*k_z*e^(I*K_conductor*x)/(c^2*k_z^2 + epsilon_xx_*mu_yy_*omega^2)"
      ]
     },
     "metadata": {},
     "output_type": "display_data"
    },
    {
     "data": {
      "text/html": [
       "<html>\\(\\displaystyle x \\ {\\mapsto}\\ \\mathit{B1}_{x} e^{\\left(i \\, K_{\\mathit{conductor}} x\\right)}\\)</html>"
      ],
      "text/latex": [
       "$\\displaystyle x \\ {\\mapsto}\\ \\mathit{B1}_{x} e^{\\left(i \\, K_{\\mathit{conductor}} x\\right)}$"
      ],
      "text/plain": [
       "x |--> B1_x*e^(I*K_conductor*x)"
      ]
     },
     "metadata": {},
     "output_type": "display_data"
    }
   ],
   "source": [
    "E_bad_conductor_sub_x (x) = E_bad_conductor_sb_x.rhs().subs(k_y == 0) \\\n",
    "    .substitute_function(E_bad_conductor_f_z,\n",
    "                         E_bad_conductor_sol_z).expand()\n",
    "show(E_bad_conductor_sub_x)\n",
    "show(E_bad_conductor_sol_x)"
   ]
  },
  {
   "cell_type": "code",
   "execution_count": null,
   "metadata": {},
   "outputs": [],
   "source": []
  },
  {
   "cell_type": "code",
   "execution_count": 60,
   "metadata": {},
   "outputs": [
    {
     "data": {
      "text/html": [
       "<html>\\(\\displaystyle \\mathit{B1}_{x} = \\frac{\\mathit{B1}_{z} K_{\\mathit{conductor}} c^{2} k_{z}}{c^{2} k_{z}^{2} + \\epsilon_{\\mathit{xx}} \\mu_{\\mathit{yy}} \\omega^{2}}\\)</html>"
      ],
      "text/latex": [
       "$\\displaystyle \\mathit{B1}_{x} = \\frac{\\mathit{B1}_{z} K_{\\mathit{conductor}} c^{2} k_{z}}{c^{2} k_{z}^{2} + \\epsilon_{\\mathit{xx}} \\mu_{\\mathit{yy}} \\omega^{2}}$"
      ],
      "text/plain": [
       "B1_x == B1_z*K_conductor*c^2*k_z/(c^2*k_z^2 + epsilon_xx_*mu_yy_*omega^2)"
      ]
     },
     "metadata": {},
     "output_type": "display_data"
    }
   ],
   "source": [
    "eq_bad_conductor = solve(E_bad_conductor_sub_x(x) == E_bad_conductor_sol_x(x), B1_x)[0]\n",
    "show(eq_bad_conductor)"
   ]
  },
  {
   "cell_type": "code",
   "execution_count": null,
   "metadata": {},
   "outputs": [],
   "source": []
  },
  {
   "cell_type": "code",
   "execution_count": 61,
   "metadata": {},
   "outputs": [],
   "source": [
    "# выражения для электрического поля\n",
    "# в вакууме внутри резонатора \n",
    "#    E_inner_vacuum_z (x) = A1_z_re*cos(sqrt(kappa_vacuum^2-k_z^2)*x) + A1_z_im*sin(sqrt(kappa_vacuum^2-k_z^2)*x)\n",
    "#    E_inner_vacuum_x (x) = A1_x_re*cos(sqrt(kappa_vacuum^2-k_z^2)*x) + A1_x_im*sin(sqrt(kappa_vacuum^2-k_z^2)*x)\n",
    "#    E_inner_vacuum_y (x) = A1_y_re*cos(sqrt(kappa_vacuum^2-k_z^2)*x) + A1_y_im*sin(sqrt(kappa_vacuum^2-k_z^2)*x)"
   ]
  },
  {
   "cell_type": "code",
   "execution_count": 62,
   "metadata": {},
   "outputs": [],
   "source": [
    "# rename eqEz_0 -> eqEz__a"
   ]
  },
  {
   "cell_type": "code",
   "execution_count": 63,
   "metadata": {},
   "outputs": [
    {
     "name": "stdout",
     "output_type": "stream",
     "text": [
      "eqEz__a = \n"
     ]
    },
    {
     "data": {
      "text/latex": [
       "$\\displaystyle \\mathit{A1}_{z} e^{\\left(i \\, K_{\\mathit{vacuum}} a\\right)} + \\mathit{A2}_{z} e^{\\left(-i \\, K_{\\mathit{vacuum}} a\\right)} = 0$"
      ],
      "text/plain": [
       "<IPython.core.display.Math object>"
      ]
     },
     "metadata": {},
     "output_type": "display_data"
    },
    {
     "name": "stdout",
     "output_type": "stream",
     "text": [
      "eqEy__a = \n"
     ]
    },
    {
     "data": {
      "text/latex": [
       "$\\displaystyle \\mathit{A1}_{y} e^{\\left(i \\, K_{\\mathit{vacuum}} a\\right)} + \\mathit{A2}_{y} e^{\\left(-i \\, K_{\\mathit{vacuum}} a\\right)} = 0$"
      ],
      "text/plain": [
       "<IPython.core.display.Math object>"
      ]
     },
     "metadata": {},
     "output_type": "display_data"
    },
    {
     "name": "stdout",
     "output_type": "stream",
     "text": [
      "eqHz__a = \n"
     ]
    },
    {
     "data": {
      "text/latex": [
       "$\\displaystyle 0 = 0$"
      ],
      "text/plain": [
       "<IPython.core.display.Math object>"
      ]
     },
     "metadata": {},
     "output_type": "display_data"
    },
    {
     "name": "stdout",
     "output_type": "stream",
     "text": [
      "eqHy__a = \n"
     ]
    },
    {
     "data": {
      "text/latex": [
       "$\\displaystyle -\\frac{\\mathit{A1}_{z} K_{\\mathit{vacuum}} c e^{\\left(i \\, K_{\\mathit{vacuum}} a\\right)}}{\\omega} - \\frac{\\mathit{A1}_{x} c k_{z} e^{\\left(i \\, K_{\\mathit{vacuum}} a\\right)}}{\\omega} + \\frac{\\mathit{A2}_{z} K_{\\mathit{vacuum}} c e^{\\left(-i \\, K_{\\mathit{vacuum}} a\\right)}}{\\omega} - \\frac{\\mathit{A2}_{x} c k_{z} e^{\\left(-i \\, K_{\\mathit{vacuum}} a\\right)}}{\\omega} = 0$"
      ],
      "text/plain": [
       "<IPython.core.display.Math object>"
      ]
     },
     "metadata": {},
     "output_type": "display_data"
    },
    {
     "name": "stdout",
     "output_type": "stream",
     "text": [
      "eq_Hy_a = \n"
     ]
    },
    {
     "data": {
      "text/latex": [
       "$\\displaystyle -\\frac{\\mathit{A1}_{z} K_{\\mathit{vacuum}} c \\omega e^{\\left(i \\, K_{\\mathit{vacuum}} a\\right)}}{c^{2} k_{z}^{2} + \\omega^{2}} + \\frac{\\mathit{A2}_{z} K_{\\mathit{vacuum}} c \\omega e^{\\left(-i \\, K_{\\mathit{vacuum}} a\\right)}}{c^{2} k_{z}^{2} + \\omega^{2}} = 0$"
      ],
      "text/plain": [
       "<IPython.core.display.Math object>"
      ]
     },
     "metadata": {},
     "output_type": "display_data"
    }
   ],
   "source": [
    "# граничные условия на границе идеального проводника и вакуума внутри резонатора\n",
    "# тангенциальная компонента электрического поля\n",
    "# eqEz_0 = solve(E_inner_vacuum_sol_z(-a) == 0, A1_z)\n",
    "eqEz__a = E_inner_vacuum_sol_z(-a) == 0\n",
    "# E_inner_vacuum_z (x) = A1_z_re*cos(sqrt(kappa_vacuum^2-k_z^2)*x) + A1_z_im*sin(sqrt(kappa_vacuum^2-k^2)*x)\n",
    "# eqEz_0 = A1_z_re*cos(sqrt(kappa_vacuum^2-k_z^2)*x) + A1_z_im*sin(sqrt(kappa_vacuum^2-k_z^2)*x) == 0\n",
    "\n",
    "print (\"eqEz__a = \")\n",
    "display(Math(latex(eqEz__a)))\n",
    "\n",
    "if 0 != A1_y:\n",
    "    #eqEy_ _a = solve(E_inner_vacuum_sol_y(-a) == 0, A1_y)\n",
    "    eqEy__a = E_inner_vacuum_sol_y(-a) == 0\n",
    "    print (\"eqEy__a = \")\n",
    "    display(Math(latex(eqEy__a)))\n",
    "\n",
    "# тангенциальная компонента магнитного поля\n",
    "eqHy__a = H_inner_vacuum_sol_y(-a) == 0\n",
    "eq_Hy_a = H_inner_vacuum_sub_y(-a) == 0\n",
    "eqHz__a = H_inner_vacuum_sol_z(-a) == 0\n",
    "\n",
    "print (\"eqHz__a = \")\n",
    "disp(eqHz__a)\n",
    "print (\"eqHy__a = \")\n",
    "disp(eqHy__a)\n",
    "print (\"eq_Hy_a = \")\n",
    "disp(eq_Hy_a)"
   ]
  },
  {
   "cell_type": "code",
   "execution_count": 64,
   "metadata": {},
   "outputs": [],
   "source": [
    "# rename eqEz_a -> eqEz__0"
   ]
  },
  {
   "cell_type": "code",
   "execution_count": 142,
   "metadata": {},
   "outputs": [
    {
     "name": "stdout",
     "output_type": "stream",
     "text": [
      "eqEz__0 = \n"
     ]
    },
    {
     "data": {
      "text/latex": [
       "$\\displaystyle \\mathit{B1}_{z} = \\mathit{A1}_{z} + \\mathit{A2}_{z}$"
      ],
      "text/plain": [
       "<IPython.core.display.Math object>"
      ]
     },
     "metadata": {},
     "output_type": "display_data"
    },
    {
     "name": "stdout",
     "output_type": "stream",
     "text": [
      "eqEy__0 = \n"
     ]
    },
    {
     "data": {
      "text/latex": [
       "$\\displaystyle \\mathit{B1}_{y} = \\mathit{A1}_{y} + \\mathit{A2}_{y}$"
      ],
      "text/plain": [
       "<IPython.core.display.Math object>"
      ]
     },
     "metadata": {},
     "output_type": "display_data"
    }
   ],
   "source": [
    "# граничные условия на границе вакуума внутри резонатора и проводящего металла с потерями\n",
    "# тангенциальная компонента электрического поля\n",
    "eqEz__0 = E_bad_conductor_sol_z(0) == E_inner_vacuum_sol_z(0)\n",
    "eqEy__0 = E_bad_conductor_sol_y(0) == E_inner_vacuum_sol_y(0)\n",
    "\n",
    "print (\"eqEz__0 = \")\n",
    "display(Math(latex(eqEz__0)))\n",
    "print (\"eqEy__0 = \")\n",
    "display(Math(latex(eqEy__0)))"
   ]
  },
  {
   "cell_type": "code",
   "execution_count": 66,
   "metadata": {},
   "outputs": [],
   "source": [
    "#rename eqDx_a -> eqDx__0"
   ]
  },
  {
   "cell_type": "raw",
   "metadata": {},
   "source": [
    "# граничные условия на границе вакуума внутри резонатора и проводящего металла с потерями\n",
    "# нормальная компонента электрического смещения\n",
    "eqDx__0 = E_inner_vacuum_sol_x(0) == E_bad_conductor_sol_x(0) * epsilon_complex\n",
    "\n",
    "print (\"eqDx__0 =\")\n",
    "display(Math(latex(eqDx__0)))"
   ]
  },
  {
   "cell_type": "code",
   "execution_count": 67,
   "metadata": {},
   "outputs": [],
   "source": [
    "#rename eqHz_a -> eqHz__0\n",
    "#rename eqHy_a -> eqHy__0"
   ]
  },
  {
   "cell_type": "code",
   "execution_count": 143,
   "metadata": {},
   "outputs": [
    {
     "name": "stdout",
     "output_type": "stream",
     "text": [
      "eqEz__0, eqEy__0 = \n"
     ]
    },
    {
     "data": {
      "text/latex": [
       "$\\displaystyle \\left[\\mathit{B1}_{z} = \\mathit{A1}_{z} + \\mathit{A2}_{z}, \\mathit{B1}_{y} = \\mathit{A1}_{y} + \\mathit{A2}_{y}\\right]$"
      ],
      "text/plain": [
       "<IPython.core.display.Math object>"
      ]
     },
     "metadata": {},
     "output_type": "display_data"
    },
    {
     "name": "stdout",
     "output_type": "stream",
     "text": [
      "eqHz__0 =\n"
     ]
    },
    {
     "data": {
      "text/latex": [
       "$\\displaystyle 0 = 0$"
      ],
      "text/plain": [
       "<IPython.core.display.Math object>"
      ]
     },
     "metadata": {},
     "output_type": "display_data"
    },
    {
     "name": "stdout",
     "output_type": "stream",
     "text": [
      "eqHy__0 =\n"
     ]
    },
    {
     "data": {
      "text/latex": [
       "$\\displaystyle \\frac{\\mathit{B1}_{z} K_{\\mathit{conductor}} c}{\\mu_{\\mathit{yy}} \\omega} - \\frac{\\mathit{B1}_{x} c k_{z}}{\\mu_{\\mathit{yy}} \\omega} = -\\frac{\\mathit{A1}_{z} K_{\\mathit{vacuum}} c}{\\omega} + \\frac{\\mathit{A2}_{z} K_{\\mathit{vacuum}} c}{\\omega} - \\frac{\\mathit{A1}_{x} c k_{z}}{\\omega} - \\frac{\\mathit{A2}_{x} c k_{z}}{\\omega}$"
      ],
      "text/plain": [
       "<IPython.core.display.Math object>"
      ]
     },
     "metadata": {},
     "output_type": "display_data"
    },
    {
     "name": "stdout",
     "output_type": "stream",
     "text": [
      "eq_Hy__0 =\n"
     ]
    },
    {
     "data": {
      "text/latex": [
       "$\\displaystyle \\frac{\\mathit{B1}_{z} K_{\\mathit{conductor}} c \\epsilon_{\\mathit{xx}} \\omega}{c^{2} k_{z}^{2} + \\epsilon_{\\mathit{xx}} \\mu_{\\mathit{yy}} \\omega^{2}} = -\\frac{\\mathit{A1}_{z} K_{\\mathit{vacuum}} c \\omega}{c^{2} k_{z}^{2} + \\omega^{2}} + \\frac{\\mathit{A2}_{z} K_{\\mathit{vacuum}} c \\omega}{c^{2} k_{z}^{2} + \\omega^{2}}$"
      ],
      "text/plain": [
       "<IPython.core.display.Math object>"
      ]
     },
     "metadata": {},
     "output_type": "display_data"
    }
   ],
   "source": [
    "# граничные условия на границе вакуума внутри резонатора и проводящего металла с потерями\n",
    "# тангенциальная компонента напряженности магнитного поля\n",
    "eqHz__0  = (H_bad_conductor_sol_z(0)  == H_inner_vacuum_sol_z(0))#.subs(eqEz__0, eqEy__0)\n",
    "eqHy__0  = (H_bad_conductor_sol_y(0)  == H_inner_vacuum_sol_y(0))#.subs(eqEy__0, eqEz__0)\n",
    "eq_Hy_0  = (H_bad_conductor_sub_y(0)  == H_inner_vacuum_sub_y(0))#.subs(eqEy__0, eqEz__0)\n",
    "\n",
    "#print (\"H_bad_conductor_sol_z (0), H_inner_vacuum_sol_z (x) =\")\n",
    "#display(Math(latex([H_bad_conductor_sol_z (x), H_inner_vacuum_sol_z (x)])))\n",
    "\n",
    "#print (\"H_bad_conductor_sol_y (0), H_inner_vacuum_sol_y (x) =\")\n",
    "#display(Math(latex([H_bad_conductor_sol_y (x), H_inner_vacuum_sol_y (x)])))\n",
    "\n",
    "#print (\"sqrt(mu/epsilon)*H_bad_conductor_sol_z (0), sqrt(mu/epsilon)*H_inner_vacuum_sol_z (x) =\")\n",
    "#display(Math(latex([sqrt(mu/epsilon)*H_bad_conductor_sol_z (x), sqrt(1/epsilon_0)*H_inner_vacuum_sol_z (x)])))\n",
    "\n",
    "#print (\"H_bad_conductor_y (0), H_inner_vacuum_y (0) =\")\n",
    "#display(Math(latex([sqrt(mu/epsilon)*H_bad_conductor_sol_y (x), sqrt(1/epsilon_0)*H_inner_vacuum_sol_y (x)])))\n",
    "\n",
    "print (\"eqEz__0, eqEy__0 = \")\n",
    "display(Math(latex([eqEz__0, eqEy__0])))\n",
    "\n",
    "print (\"eqHz__0 =\")\n",
    "display(Math(latex(eqHz__0)))\n",
    "print (\"eqHy__0 =\")\n",
    "display(Math(latex(eqHy__0)))\n",
    "print (\"eq_Hy__0 =\")\n",
    "display(Math(latex(eq_Hy_0)))"
   ]
  },
  {
   "cell_type": "code",
   "execution_count": 144,
   "metadata": {},
   "outputs": [
    {
     "data": {
      "text/plain": [
       "x |--> B1_z*K_conductor*c*e^(I*K_conductor*x)/(mu_yy_*omega) - B1_x*c*k_z*e^(I*K_conductor*x)/(mu_yy_*omega)"
      ]
     },
     "execution_count": 144,
     "metadata": {},
     "output_type": "execute_result"
    }
   ],
   "source": [
    "H_bad_conductor_sol_y"
   ]
  },
  {
   "cell_type": "code",
   "execution_count": 146,
   "metadata": {},
   "outputs": [
    {
     "name": "stdout",
     "output_type": "stream",
     "text": [
      "eqBx__0 =\n"
     ]
    },
    {
     "data": {
      "text/latex": [
       "$\\displaystyle \\frac{\\mathit{B1}_{y} c k_{z}}{\\omega} = \\frac{{\\left(\\mathit{A1}_{y} + \\mathit{A2}_{y}\\right)} c k_{z}}{\\omega}$"
      ],
      "text/plain": [
       "<IPython.core.display.Math object>"
      ]
     },
     "metadata": {},
     "output_type": "display_data"
    },
    {
     "name": "stdout",
     "output_type": "stream",
     "text": [
      "eq_Bx_0 =\n"
     ]
    },
    {
     "data": {
      "text/latex": [
       "$\\displaystyle 0 = 0$"
      ],
      "text/plain": [
       "<IPython.core.display.Math object>"
      ]
     },
     "metadata": {},
     "output_type": "display_data"
    },
    {
     "name": "stdout",
     "output_type": "stream",
     "text": [
      "eqBx_a =\n"
     ]
    },
    {
     "data": {
      "text/latex": [
       "$\\displaystyle 0 = \\frac{{\\left(\\mathit{A1}_{y} e^{\\left(i \\, K_{\\mathit{vacuum}} a\\right)} + \\mathit{A2}_{y} e^{\\left(-i \\, K_{\\mathit{vacuum}} a\\right)}\\right)} c k_{z}}{\\omega}$"
      ],
      "text/plain": [
       "<IPython.core.display.Math object>"
      ]
     },
     "metadata": {},
     "output_type": "display_data"
    }
   ],
   "source": [
    "# граничные условия на границе вакуума внутри резонатора и проводящего металла с потерями\n",
    "# нормальная компонента индукции магнитного поля\n",
    "eqBx__0  = mu_xx_ * H_bad_conductor_sol_x (0)  == H_inner_vacuum_sol_x (0)\n",
    "eq_Bx_0  = mu_xx_ * H_bad_conductor_sub_x (0)  == H_inner_vacuum_sub_x (0)\n",
    "\n",
    "print (\"eqBx__0 =\")\n",
    "display(Math(latex(eqBx__0)))\n",
    "print (\"eq_Bx_0 =\")\n",
    "display(Math(latex(eq_Bx_0)))\n",
    "\n",
    "\n",
    "\n",
    "# На границе идеального проводника нормальная (перпендикулярная) компонента вектора магнитной индукции равна нулю\n",
    "eqBx_a  = 0  == H_inner_vacuum_sol_x (x = -a)\n",
    "\n",
    "print (\"eqBx_a =\")\n",
    "display(Math(latex(eqBx_a)))"
   ]
  },
  {
   "cell_type": "code",
   "execution_count": null,
   "metadata": {},
   "outputs": [],
   "source": []
  },
  {
   "cell_type": "code",
   "execution_count": 71,
   "metadata": {},
   "outputs": [],
   "source": [
    "K_vacuum_subs = K_vacuum == sqrt(kappa_vacuum^2 - k_z^2)\n",
    "#K_conductor_subs = K_conductor == sqrt(kappa^2 - k_z^2)"
   ]
  },
  {
   "cell_type": "code",
   "execution_count": null,
   "metadata": {},
   "outputs": [],
   "source": []
  },
  {
   "cell_type": "markdown",
   "metadata": {},
   "source": [
    "$$K_x^2 = \\frac{ \\mu'_{xx}\\epsilon'_{zz} \\frac{\\omega^2}{c^2}}{\\left(1 - \\frac{k'_z}{\\left({ {k'_z}} - \\frac{\\omega^2}{{k'_z}c^2} {\\mu'}_{yy} {\\epsilon'}_{xx} \\right)} - \\frac{\\left(\\mu'_{yy}-\\mu'_{xx}\\right)}{\\left({\\mu'}_{yy}  - \\frac{{k'_z}^2 c^2}{\\omega^2 {\\epsilon'}_{xx}} \\right)}\\right)}$$"
   ]
  },
  {
   "cell_type": "code",
   "execution_count": 75,
   "metadata": {},
   "outputs": [],
   "source": [
    "K_conductor_subs = K_conductor == sqrt(\n",
    "    mu_xx_ * epsilon_zz_ * omega^2/c^2/(\n",
    "        1-k_z/(k_z-mu_yy_*epsilon_xx_*omega^2/(c^2*k_z)) \n",
    "         - (mu_yy_ - mu_xx_) / (mu_yy_ - k_z^2*c^2/(omega^2*epsilon_xx_))\n",
    "    )\n",
    ")"
   ]
  },
  {
   "cell_type": "code",
   "execution_count": 76,
   "metadata": {},
   "outputs": [
    {
     "data": {
      "text/html": [
       "<html>\\(\\displaystyle K_{\\mathit{conductor}} = \\sqrt{-\\frac{\\epsilon_{\\mathit{zz}} \\mu_{\\mathit{xx}} \\omega^{2}}{c^{2} {\\left(\\frac{k_{z}}{k_{z} - \\frac{\\epsilon_{\\mathit{xx}} \\mu_{\\mathit{yy}} \\omega^{2}}{c^{2} k_{z}}} - \\frac{\\mu_{\\mathit{xx}} - \\mu_{\\mathit{yy}}}{\\mu_{\\mathit{yy}} - \\frac{c^{2} k_{z}^{2}}{\\epsilon_{\\mathit{xx}} \\omega^{2}}} - 1\\right)}}}\\)</html>"
      ],
      "text/latex": [
       "$\\displaystyle K_{\\mathit{conductor}} = \\sqrt{-\\frac{\\epsilon_{\\mathit{zz}} \\mu_{\\mathit{xx}} \\omega^{2}}{c^{2} {\\left(\\frac{k_{z}}{k_{z} - \\frac{\\epsilon_{\\mathit{xx}} \\mu_{\\mathit{yy}} \\omega^{2}}{c^{2} k_{z}}} - \\frac{\\mu_{\\mathit{xx}} - \\mu_{\\mathit{yy}}}{\\mu_{\\mathit{yy}} - \\frac{c^{2} k_{z}^{2}}{\\epsilon_{\\mathit{xx}} \\omega^{2}}} - 1\\right)}}}$"
      ],
      "text/plain": [
       "K_conductor == sqrt(-epsilon_zz_*mu_xx_*omega^2/(c^2*(k_z/(k_z - epsilon_xx_*mu_yy_*omega^2/(c^2*k_z)) - (mu_xx_ - mu_yy_)/(mu_yy_ - c^2*k_z^2/(epsilon_xx_*omega^2)) - 1)))"
      ]
     },
     "metadata": {},
     "output_type": "display_data"
    }
   ],
   "source": [
    "show(K_conductor_subs)"
   ]
  },
  {
   "cell_type": "code",
   "execution_count": 234,
   "metadata": {},
   "outputs": [],
   "source": [
    "epsilon_mu_subs = [epsilon_zz_ == epsilon_zz_complex,\n",
    "                                         epsilon_yy_ == epsilon_yy_complex,\n",
    "                                         epsilon_xx_ == epsilon_xx_complex,\n",
    "                                         mu_zz_ == mu_zz_complex,\n",
    "                                         mu_yy_ == mu_yy_complex,\n",
    "                                         mu_xx_ == mu_xx_complex,]"
   ]
  },
  {
   "cell_type": "code",
   "execution_count": 235,
   "metadata": {},
   "outputs": [],
   "source": [
    "K_conductor_subs = K_conductor_subs.subs(epsilon_mu_subs)"
   ]
  },
  {
   "cell_type": "code",
   "execution_count": 236,
   "metadata": {},
   "outputs": [
    {
     "data": {
      "text/html": [
       "<html>\\(\\displaystyle K_{\\mathit{conductor}} = \\sqrt{-\\frac{{\\left(\\epsilon_{\\mathit{zz}} + \\frac{4 i \\, \\pi \\sigma_{e_{\\mathit{zz}}}}{\\omega}\\right)} {\\left(\\mu_{\\mathit{xx}} + \\frac{4 i \\, \\pi \\sigma_{m_{\\mathit{xx}}}}{\\omega}\\right)} \\omega^{2}}{c^{2} {\\left(\\frac{k_{z}}{k_{z} - \\frac{{\\left(\\epsilon_{\\mathit{xx}} + \\frac{4 i \\, \\pi \\sigma_{e_{\\mathit{xx}}}}{\\omega}\\right)} {\\left(\\mu_{\\mathit{yy}} + \\frac{4 i \\, \\pi \\sigma_{m_{\\mathit{yy}}}}{\\omega}\\right)} \\omega^{2}}{c^{2} k_{z}}} - \\frac{\\mu_{\\mathit{xx}} - \\mu_{\\mathit{yy}} + \\frac{4 i \\, \\pi \\sigma_{m_{\\mathit{xx}}}}{\\omega} - \\frac{4 i \\, \\pi \\sigma_{m_{\\mathit{yy}}}}{\\omega}}{\\mu_{\\mathit{yy}} - \\frac{c^{2} k_{z}^{2}}{{\\left(\\epsilon_{\\mathit{xx}} + \\frac{4 i \\, \\pi \\sigma_{e_{\\mathit{xx}}}}{\\omega}\\right)} \\omega^{2}} + \\frac{4 i \\, \\pi \\sigma_{m_{\\mathit{yy}}}}{\\omega}} - 1\\right)}}}\\)</html>"
      ],
      "text/latex": [
       "$\\displaystyle K_{\\mathit{conductor}} = \\sqrt{-\\frac{{\\left(\\epsilon_{\\mathit{zz}} + \\frac{4 i \\, \\pi \\sigma_{e_{\\mathit{zz}}}}{\\omega}\\right)} {\\left(\\mu_{\\mathit{xx}} + \\frac{4 i \\, \\pi \\sigma_{m_{\\mathit{xx}}}}{\\omega}\\right)} \\omega^{2}}{c^{2} {\\left(\\frac{k_{z}}{k_{z} - \\frac{{\\left(\\epsilon_{\\mathit{xx}} + \\frac{4 i \\, \\pi \\sigma_{e_{\\mathit{xx}}}}{\\omega}\\right)} {\\left(\\mu_{\\mathit{yy}} + \\frac{4 i \\, \\pi \\sigma_{m_{\\mathit{yy}}}}{\\omega}\\right)} \\omega^{2}}{c^{2} k_{z}}} - \\frac{\\mu_{\\mathit{xx}} - \\mu_{\\mathit{yy}} + \\frac{4 i \\, \\pi \\sigma_{m_{\\mathit{xx}}}}{\\omega} - \\frac{4 i \\, \\pi \\sigma_{m_{\\mathit{yy}}}}{\\omega}}{\\mu_{\\mathit{yy}} - \\frac{c^{2} k_{z}^{2}}{{\\left(\\epsilon_{\\mathit{xx}} + \\frac{4 i \\, \\pi \\sigma_{e_{\\mathit{xx}}}}{\\omega}\\right)} \\omega^{2}} + \\frac{4 i \\, \\pi \\sigma_{m_{\\mathit{yy}}}}{\\omega}} - 1\\right)}}}$"
      ],
      "text/plain": [
       "K_conductor == sqrt(-(epsilon_zz + 4*I*pi*sigma_e_zz/omega)*(mu_xx + 4*I*pi*sigma_m_xx/omega)*omega^2/(c^2*(k_z/(k_z - (epsilon_xx + 4*I*pi*sigma_e_xx/omega)*(mu_yy + 4*I*pi*sigma_m_yy/omega)*omega^2/(c^2*k_z)) - (mu_xx - mu_yy + 4*I*pi*sigma_m_xx/omega - 4*I*pi*sigma_m_yy/omega)/(mu_yy - c^2*k_z^2/((epsilon_xx + 4*I*pi*sigma_e_xx/omega)*omega^2) + 4*I*pi*sigma_m_yy/omega) - 1)))"
      ]
     },
     "metadata": {},
     "output_type": "display_data"
    }
   ],
   "source": [
    "show(K_conductor_subs)"
   ]
  },
  {
   "cell_type": "markdown",
   "metadata": {},
   "source": [
    "проверяем чему равен градиент дивергенции"
   ]
  },
  {
   "cell_type": "markdown",
   "metadata": {},
   "source": [
    "$$\\left(grad \\, div\\,\\vec{E}\\right)_x = \\left(\\frac{\\partial^2 E_x(x, y)}{\\partial x^2} +  i\\,k'_z \\frac{\\partial E_z(x, y)}{\\partial x}\\right)$$"
   ]
  },
  {
   "cell_type": "markdown",
   "metadata": {},
   "source": [
    "$$\\left(grad \\, div\\,\\vec{E}\\right)_y = 0$$"
   ]
  },
  {
   "cell_type": "markdown",
   "metadata": {},
   "source": [
    "$$\\left(grad \\, div\\,\\vec{E}\\right)_z = \\left(i \\,k'_z\\,\\frac{\\partial E_x(x, y)}{\\partial x} -\\,{k'_z}^2 E_z(x, y)\\right)$$"
   ]
  },
  {
   "cell_type": "code",
   "execution_count": 237,
   "metadata": {},
   "outputs": [
    {
     "data": {
      "text/html": [
       "<html>\\(\\displaystyle -\\mathit{B1}_{z} k_{z}^{2} e^{\\left(\\frac{i \\, \\sqrt{-\\frac{\\epsilon_{\\mathit{zz}} \\mu_{\\mathit{xx}} \\omega^{2}}{\\frac{k_{z}}{k_{z} - \\frac{\\epsilon_{\\mathit{xx}} \\mu_{\\mathit{yy}} \\omega^{2}}{c^{2} k_{z}} - \\frac{4 i \\, \\pi \\mu_{\\mathit{yy}} \\omega \\sigma_{e_{\\mathit{xx}}}}{c^{2} k_{z}} - \\frac{4 i \\, \\pi \\epsilon_{\\mathit{xx}} \\omega \\sigma_{m_{\\mathit{yy}}}}{c^{2} k_{z}} + \\frac{16 \\, \\pi^{2} \\sigma_{e_{\\mathit{xx}}} \\sigma_{m_{\\mathit{yy}}}}{c^{2} k_{z}}} - \\frac{\\mu_{\\mathit{xx}}}{\\mu_{\\mathit{yy}} - \\frac{c^{2} k_{z}^{2}}{{\\left(\\epsilon_{\\mathit{xx}} + \\frac{4 i \\, \\pi \\sigma_{e_{\\mathit{xx}}}}{\\omega}\\right)} \\omega^{2}} + \\frac{4 i \\, \\pi \\sigma_{m_{\\mathit{yy}}}}{\\omega}} + \\frac{\\mu_{\\mathit{yy}}}{\\mu_{\\mathit{yy}} - \\frac{c^{2} k_{z}^{2}}{{\\left(\\epsilon_{\\mathit{xx}} + \\frac{4 i \\, \\pi \\sigma_{e_{\\mathit{xx}}}}{\\omega}\\right)} \\omega^{2}} + \\frac{4 i \\, \\pi \\sigma_{m_{\\mathit{yy}}}}{\\omega}} - \\frac{4 i \\, \\pi \\sigma_{m_{\\mathit{xx}}}}{{\\left(\\mu_{\\mathit{yy}} - \\frac{c^{2} k_{z}^{2}}{{\\left(\\epsilon_{\\mathit{xx}} + \\frac{4 i \\, \\pi \\sigma_{e_{\\mathit{xx}}}}{\\omega}\\right)} \\omega^{2}} + \\frac{4 i \\, \\pi \\sigma_{m_{\\mathit{yy}}}}{\\omega}\\right)} \\omega} + \\frac{4 i \\, \\pi \\sigma_{m_{\\mathit{yy}}}}{{\\left(\\mu_{\\mathit{yy}} - \\frac{c^{2} k_{z}^{2}}{{\\left(\\epsilon_{\\mathit{xx}} + \\frac{4 i \\, \\pi \\sigma_{e_{\\mathit{xx}}}}{\\omega}\\right)} \\omega^{2}} + \\frac{4 i \\, \\pi \\sigma_{m_{\\mathit{yy}}}}{\\omega}\\right)} \\omega} - 1} - \\frac{4 i \\, \\pi \\mu_{\\mathit{xx}} \\omega \\sigma_{e_{\\mathit{zz}}}}{\\frac{k_{z}}{k_{z} - \\frac{\\epsilon_{\\mathit{xx}} \\mu_{\\mathit{yy}} \\omega^{2}}{c^{2} k_{z}} - \\frac{4 i \\, \\pi \\mu_{\\mathit{yy}} \\omega \\sigma_{e_{\\mathit{xx}}}}{c^{2} k_{z}} - \\frac{4 i \\, \\pi \\epsilon_{\\mathit{xx}} \\omega \\sigma_{m_{\\mathit{yy}}}}{c^{2} k_{z}} + \\frac{16 \\, \\pi^{2} \\sigma_{e_{\\mathit{xx}}} \\sigma_{m_{\\mathit{yy}}}}{c^{2} k_{z}}} - \\frac{\\mu_{\\mathit{xx}}}{\\mu_{\\mathit{yy}} - \\frac{c^{2} k_{z}^{2}}{{\\left(\\epsilon_{\\mathit{xx}} + \\frac{4 i \\, \\pi \\sigma_{e_{\\mathit{xx}}}}{\\omega}\\right)} \\omega^{2}} + \\frac{4 i \\, \\pi \\sigma_{m_{\\mathit{yy}}}}{\\omega}} + \\frac{\\mu_{\\mathit{yy}}}{\\mu_{\\mathit{yy}} - \\frac{c^{2} k_{z}^{2}}{{\\left(\\epsilon_{\\mathit{xx}} + \\frac{4 i \\, \\pi \\sigma_{e_{\\mathit{xx}}}}{\\omega}\\right)} \\omega^{2}} + \\frac{4 i \\, \\pi \\sigma_{m_{\\mathit{yy}}}}{\\omega}} - \\frac{4 i \\, \\pi \\sigma_{m_{\\mathit{xx}}}}{{\\left(\\mu_{\\mathit{yy}} - \\frac{c^{2} k_{z}^{2}}{{\\left(\\epsilon_{\\mathit{xx}} + \\frac{4 i \\, \\pi \\sigma_{e_{\\mathit{xx}}}}{\\omega}\\right)} \\omega^{2}} + \\frac{4 i \\, \\pi \\sigma_{m_{\\mathit{yy}}}}{\\omega}\\right)} \\omega} + \\frac{4 i \\, \\pi \\sigma_{m_{\\mathit{yy}}}}{{\\left(\\mu_{\\mathit{yy}} - \\frac{c^{2} k_{z}^{2}}{{\\left(\\epsilon_{\\mathit{xx}} + \\frac{4 i \\, \\pi \\sigma_{e_{\\mathit{xx}}}}{\\omega}\\right)} \\omega^{2}} + \\frac{4 i \\, \\pi \\sigma_{m_{\\mathit{yy}}}}{\\omega}\\right)} \\omega} - 1} - \\frac{4 i \\, \\pi \\epsilon_{\\mathit{zz}} \\omega \\sigma_{m_{\\mathit{xx}}}}{\\frac{k_{z}}{k_{z} - \\frac{\\epsilon_{\\mathit{xx}} \\mu_{\\mathit{yy}} \\omega^{2}}{c^{2} k_{z}} - \\frac{4 i \\, \\pi \\mu_{\\mathit{yy}} \\omega \\sigma_{e_{\\mathit{xx}}}}{c^{2} k_{z}} - \\frac{4 i \\, \\pi \\epsilon_{\\mathit{xx}} \\omega \\sigma_{m_{\\mathit{yy}}}}{c^{2} k_{z}} + \\frac{16 \\, \\pi^{2} \\sigma_{e_{\\mathit{xx}}} \\sigma_{m_{\\mathit{yy}}}}{c^{2} k_{z}}} - \\frac{\\mu_{\\mathit{xx}}}{\\mu_{\\mathit{yy}} - \\frac{c^{2} k_{z}^{2}}{{\\left(\\epsilon_{\\mathit{xx}} + \\frac{4 i \\, \\pi \\sigma_{e_{\\mathit{xx}}}}{\\omega}\\right)} \\omega^{2}} + \\frac{4 i \\, \\pi \\sigma_{m_{\\mathit{yy}}}}{\\omega}} + \\frac{\\mu_{\\mathit{yy}}}{\\mu_{\\mathit{yy}} - \\frac{c^{2} k_{z}^{2}}{{\\left(\\epsilon_{\\mathit{xx}} + \\frac{4 i \\, \\pi \\sigma_{e_{\\mathit{xx}}}}{\\omega}\\right)} \\omega^{2}} + \\frac{4 i \\, \\pi \\sigma_{m_{\\mathit{yy}}}}{\\omega}} - \\frac{4 i \\, \\pi \\sigma_{m_{\\mathit{xx}}}}{{\\left(\\mu_{\\mathit{yy}} - \\frac{c^{2} k_{z}^{2}}{{\\left(\\epsilon_{\\mathit{xx}} + \\frac{4 i \\, \\pi \\sigma_{e_{\\mathit{xx}}}}{\\omega}\\right)} \\omega^{2}} + \\frac{4 i \\, \\pi \\sigma_{m_{\\mathit{yy}}}}{\\omega}\\right)} \\omega} + \\frac{4 i \\, \\pi \\sigma_{m_{\\mathit{yy}}}}{{\\left(\\mu_{\\mathit{yy}} - \\frac{c^{2} k_{z}^{2}}{{\\left(\\epsilon_{\\mathit{xx}} + \\frac{4 i \\, \\pi \\sigma_{e_{\\mathit{xx}}}}{\\omega}\\right)} \\omega^{2}} + \\frac{4 i \\, \\pi \\sigma_{m_{\\mathit{yy}}}}{\\omega}\\right)} \\omega} - 1} + \\frac{16 \\, \\pi^{2} \\sigma_{e_{\\mathit{zz}}} \\sigma_{m_{\\mathit{xx}}}}{\\frac{k_{z}}{k_{z} - \\frac{\\epsilon_{\\mathit{xx}} \\mu_{\\mathit{yy}} \\omega^{2}}{c^{2} k_{z}} - \\frac{4 i \\, \\pi \\mu_{\\mathit{yy}} \\omega \\sigma_{e_{\\mathit{xx}}}}{c^{2} k_{z}} - \\frac{4 i \\, \\pi \\epsilon_{\\mathit{xx}} \\omega \\sigma_{m_{\\mathit{yy}}}}{c^{2} k_{z}} + \\frac{16 \\, \\pi^{2} \\sigma_{e_{\\mathit{xx}}} \\sigma_{m_{\\mathit{yy}}}}{c^{2} k_{z}}} - \\frac{\\mu_{\\mathit{xx}}}{\\mu_{\\mathit{yy}} - \\frac{c^{2} k_{z}^{2}}{{\\left(\\epsilon_{\\mathit{xx}} + \\frac{4 i \\, \\pi \\sigma_{e_{\\mathit{xx}}}}{\\omega}\\right)} \\omega^{2}} + \\frac{4 i \\, \\pi \\sigma_{m_{\\mathit{yy}}}}{\\omega}} + \\frac{\\mu_{\\mathit{yy}}}{\\mu_{\\mathit{yy}} - \\frac{c^{2} k_{z}^{2}}{{\\left(\\epsilon_{\\mathit{xx}} + \\frac{4 i \\, \\pi \\sigma_{e_{\\mathit{xx}}}}{\\omega}\\right)} \\omega^{2}} + \\frac{4 i \\, \\pi \\sigma_{m_{\\mathit{yy}}}}{\\omega}} - \\frac{4 i \\, \\pi \\sigma_{m_{\\mathit{xx}}}}{{\\left(\\mu_{\\mathit{yy}} - \\frac{c^{2} k_{z}^{2}}{{\\left(\\epsilon_{\\mathit{xx}} + \\frac{4 i \\, \\pi \\sigma_{e_{\\mathit{xx}}}}{\\omega}\\right)} \\omega^{2}} + \\frac{4 i \\, \\pi \\sigma_{m_{\\mathit{yy}}}}{\\omega}\\right)} \\omega} + \\frac{4 i \\, \\pi \\sigma_{m_{\\mathit{yy}}}}{{\\left(\\mu_{\\mathit{yy}} - \\frac{c^{2} k_{z}^{2}}{{\\left(\\epsilon_{\\mathit{xx}} + \\frac{4 i \\, \\pi \\sigma_{e_{\\mathit{xx}}}}{\\omega}\\right)} \\omega^{2}} + \\frac{4 i \\, \\pi \\sigma_{m_{\\mathit{yy}}}}{\\omega}\\right)} \\omega} - 1}} x}{c}\\right)} - \\frac{\\sqrt{-\\frac{\\epsilon_{\\mathit{zz}} \\mu_{\\mathit{xx}} \\omega^{2}}{\\frac{k_{z}}{k_{z} - \\frac{\\epsilon_{\\mathit{xx}} \\mu_{\\mathit{yy}} \\omega^{2}}{c^{2} k_{z}} - \\frac{4 i \\, \\pi \\mu_{\\mathit{yy}} \\omega \\sigma_{e_{\\mathit{xx}}}}{c^{2} k_{z}} - \\frac{4 i \\, \\pi \\epsilon_{\\mathit{xx}} \\omega \\sigma_{m_{\\mathit{yy}}}}{c^{2} k_{z}} + \\frac{16 \\, \\pi^{2} \\sigma_{e_{\\mathit{xx}}} \\sigma_{m_{\\mathit{yy}}}}{c^{2} k_{z}}} - \\frac{\\mu_{\\mathit{xx}}}{\\mu_{\\mathit{yy}} - \\frac{c^{2} k_{z}^{2}}{{\\left(\\epsilon_{\\mathit{xx}} + \\frac{4 i \\, \\pi \\sigma_{e_{\\mathit{xx}}}}{\\omega}\\right)} \\omega^{2}} + \\frac{4 i \\, \\pi \\sigma_{m_{\\mathit{yy}}}}{\\omega}} + \\frac{\\mu_{\\mathit{yy}}}{\\mu_{\\mathit{yy}} - \\frac{c^{2} k_{z}^{2}}{{\\left(\\epsilon_{\\mathit{xx}} + \\frac{4 i \\, \\pi \\sigma_{e_{\\mathit{xx}}}}{\\omega}\\right)} \\omega^{2}} + \\frac{4 i \\, \\pi \\sigma_{m_{\\mathit{yy}}}}{\\omega}} - \\frac{4 i \\, \\pi \\sigma_{m_{\\mathit{xx}}}}{{\\left(\\mu_{\\mathit{yy}} - \\frac{c^{2} k_{z}^{2}}{{\\left(\\epsilon_{\\mathit{xx}} + \\frac{4 i \\, \\pi \\sigma_{e_{\\mathit{xx}}}}{\\omega}\\right)} \\omega^{2}} + \\frac{4 i \\, \\pi \\sigma_{m_{\\mathit{yy}}}}{\\omega}\\right)} \\omega} + \\frac{4 i \\, \\pi \\sigma_{m_{\\mathit{yy}}}}{{\\left(\\mu_{\\mathit{yy}} - \\frac{c^{2} k_{z}^{2}}{{\\left(\\epsilon_{\\mathit{xx}} + \\frac{4 i \\, \\pi \\sigma_{e_{\\mathit{xx}}}}{\\omega}\\right)} \\omega^{2}} + \\frac{4 i \\, \\pi \\sigma_{m_{\\mathit{yy}}}}{\\omega}\\right)} \\omega} - 1} - \\frac{4 i \\, \\pi \\mu_{\\mathit{xx}} \\omega \\sigma_{e_{\\mathit{zz}}}}{\\frac{k_{z}}{k_{z} - \\frac{\\epsilon_{\\mathit{xx}} \\mu_{\\mathit{yy}} \\omega^{2}}{c^{2} k_{z}} - \\frac{4 i \\, \\pi \\mu_{\\mathit{yy}} \\omega \\sigma_{e_{\\mathit{xx}}}}{c^{2} k_{z}} - \\frac{4 i \\, \\pi \\epsilon_{\\mathit{xx}} \\omega \\sigma_{m_{\\mathit{yy}}}}{c^{2} k_{z}} + \\frac{16 \\, \\pi^{2} \\sigma_{e_{\\mathit{xx}}} \\sigma_{m_{\\mathit{yy}}}}{c^{2} k_{z}}} - \\frac{\\mu_{\\mathit{xx}}}{\\mu_{\\mathit{yy}} - \\frac{c^{2} k_{z}^{2}}{{\\left(\\epsilon_{\\mathit{xx}} + \\frac{4 i \\, \\pi \\sigma_{e_{\\mathit{xx}}}}{\\omega}\\right)} \\omega^{2}} + \\frac{4 i \\, \\pi \\sigma_{m_{\\mathit{yy}}}}{\\omega}} + \\frac{\\mu_{\\mathit{yy}}}{\\mu_{\\mathit{yy}} - \\frac{c^{2} k_{z}^{2}}{{\\left(\\epsilon_{\\mathit{xx}} + \\frac{4 i \\, \\pi \\sigma_{e_{\\mathit{xx}}}}{\\omega}\\right)} \\omega^{2}} + \\frac{4 i \\, \\pi \\sigma_{m_{\\mathit{yy}}}}{\\omega}} - \\frac{4 i \\, \\pi \\sigma_{m_{\\mathit{xx}}}}{{\\left(\\mu_{\\mathit{yy}} - \\frac{c^{2} k_{z}^{2}}{{\\left(\\epsilon_{\\mathit{xx}} + \\frac{4 i \\, \\pi \\sigma_{e_{\\mathit{xx}}}}{\\omega}\\right)} \\omega^{2}} + \\frac{4 i \\, \\pi \\sigma_{m_{\\mathit{yy}}}}{\\omega}\\right)} \\omega} + \\frac{4 i \\, \\pi \\sigma_{m_{\\mathit{yy}}}}{{\\left(\\mu_{\\mathit{yy}} - \\frac{c^{2} k_{z}^{2}}{{\\left(\\epsilon_{\\mathit{xx}} + \\frac{4 i \\, \\pi \\sigma_{e_{\\mathit{xx}}}}{\\omega}\\right)} \\omega^{2}} + \\frac{4 i \\, \\pi \\sigma_{m_{\\mathit{yy}}}}{\\omega}\\right)} \\omega} - 1} - \\frac{4 i \\, \\pi \\epsilon_{\\mathit{zz}} \\omega \\sigma_{m_{\\mathit{xx}}}}{\\frac{k_{z}}{k_{z} - \\frac{\\epsilon_{\\mathit{xx}} \\mu_{\\mathit{yy}} \\omega^{2}}{c^{2} k_{z}} - \\frac{4 i \\, \\pi \\mu_{\\mathit{yy}} \\omega \\sigma_{e_{\\mathit{xx}}}}{c^{2} k_{z}} - \\frac{4 i \\, \\pi \\epsilon_{\\mathit{xx}} \\omega \\sigma_{m_{\\mathit{yy}}}}{c^{2} k_{z}} + \\frac{16 \\, \\pi^{2} \\sigma_{e_{\\mathit{xx}}} \\sigma_{m_{\\mathit{yy}}}}{c^{2} k_{z}}} - \\frac{\\mu_{\\mathit{xx}}}{\\mu_{\\mathit{yy}} - \\frac{c^{2} k_{z}^{2}}{{\\left(\\epsilon_{\\mathit{xx}} + \\frac{4 i \\, \\pi \\sigma_{e_{\\mathit{xx}}}}{\\omega}\\right)} \\omega^{2}} + \\frac{4 i \\, \\pi \\sigma_{m_{\\mathit{yy}}}}{\\omega}} + \\frac{\\mu_{\\mathit{yy}}}{\\mu_{\\mathit{yy}} - \\frac{c^{2} k_{z}^{2}}{{\\left(\\epsilon_{\\mathit{xx}} + \\frac{4 i \\, \\pi \\sigma_{e_{\\mathit{xx}}}}{\\omega}\\right)} \\omega^{2}} + \\frac{4 i \\, \\pi \\sigma_{m_{\\mathit{yy}}}}{\\omega}} - \\frac{4 i \\, \\pi \\sigma_{m_{\\mathit{xx}}}}{{\\left(\\mu_{\\mathit{yy}} - \\frac{c^{2} k_{z}^{2}}{{\\left(\\epsilon_{\\mathit{xx}} + \\frac{4 i \\, \\pi \\sigma_{e_{\\mathit{xx}}}}{\\omega}\\right)} \\omega^{2}} + \\frac{4 i \\, \\pi \\sigma_{m_{\\mathit{yy}}}}{\\omega}\\right)} \\omega} + \\frac{4 i \\, \\pi \\sigma_{m_{\\mathit{yy}}}}{{\\left(\\mu_{\\mathit{yy}} - \\frac{c^{2} k_{z}^{2}}{{\\left(\\epsilon_{\\mathit{xx}} + \\frac{4 i \\, \\pi \\sigma_{e_{\\mathit{xx}}}}{\\omega}\\right)} \\omega^{2}} + \\frac{4 i \\, \\pi \\sigma_{m_{\\mathit{yy}}}}{\\omega}\\right)} \\omega} - 1} + \\frac{16 \\, \\pi^{2} \\sigma_{e_{\\mathit{zz}}} \\sigma_{m_{\\mathit{xx}}}}{\\frac{k_{z}}{k_{z} - \\frac{\\epsilon_{\\mathit{xx}} \\mu_{\\mathit{yy}} \\omega^{2}}{c^{2} k_{z}} - \\frac{4 i \\, \\pi \\mu_{\\mathit{yy}} \\omega \\sigma_{e_{\\mathit{xx}}}}{c^{2} k_{z}} - \\frac{4 i \\, \\pi \\epsilon_{\\mathit{xx}} \\omega \\sigma_{m_{\\mathit{yy}}}}{c^{2} k_{z}} + \\frac{16 \\, \\pi^{2} \\sigma_{e_{\\mathit{xx}}} \\sigma_{m_{\\mathit{yy}}}}{c^{2} k_{z}}} - \\frac{\\mu_{\\mathit{xx}}}{\\mu_{\\mathit{yy}} - \\frac{c^{2} k_{z}^{2}}{{\\left(\\epsilon_{\\mathit{xx}} + \\frac{4 i \\, \\pi \\sigma_{e_{\\mathit{xx}}}}{\\omega}\\right)} \\omega^{2}} + \\frac{4 i \\, \\pi \\sigma_{m_{\\mathit{yy}}}}{\\omega}} + \\frac{\\mu_{\\mathit{yy}}}{\\mu_{\\mathit{yy}} - \\frac{c^{2} k_{z}^{2}}{{\\left(\\epsilon_{\\mathit{xx}} + \\frac{4 i \\, \\pi \\sigma_{e_{\\mathit{xx}}}}{\\omega}\\right)} \\omega^{2}} + \\frac{4 i \\, \\pi \\sigma_{m_{\\mathit{yy}}}}{\\omega}} - \\frac{4 i \\, \\pi \\sigma_{m_{\\mathit{xx}}}}{{\\left(\\mu_{\\mathit{yy}} - \\frac{c^{2} k_{z}^{2}}{{\\left(\\epsilon_{\\mathit{xx}} + \\frac{4 i \\, \\pi \\sigma_{e_{\\mathit{xx}}}}{\\omega}\\right)} \\omega^{2}} + \\frac{4 i \\, \\pi \\sigma_{m_{\\mathit{yy}}}}{\\omega}\\right)} \\omega} + \\frac{4 i \\, \\pi \\sigma_{m_{\\mathit{yy}}}}{{\\left(\\mu_{\\mathit{yy}} - \\frac{c^{2} k_{z}^{2}}{{\\left(\\epsilon_{\\mathit{xx}} + \\frac{4 i \\, \\pi \\sigma_{e_{\\mathit{xx}}}}{\\omega}\\right)} \\omega^{2}} + \\frac{4 i \\, \\pi \\sigma_{m_{\\mathit{yy}}}}{\\omega}\\right)} \\omega} - 1}} \\mathit{B1}_{x} k_{z} e^{\\left(\\frac{i \\, \\sqrt{-\\frac{\\epsilon_{\\mathit{zz}} \\mu_{\\mathit{xx}} \\omega^{2}}{\\frac{k_{z}}{k_{z} - \\frac{\\epsilon_{\\mathit{xx}} \\mu_{\\mathit{yy}} \\omega^{2}}{c^{2} k_{z}} - \\frac{4 i \\, \\pi \\mu_{\\mathit{yy}} \\omega \\sigma_{e_{\\mathit{xx}}}}{c^{2} k_{z}} - \\frac{4 i \\, \\pi \\epsilon_{\\mathit{xx}} \\omega \\sigma_{m_{\\mathit{yy}}}}{c^{2} k_{z}} + \\frac{16 \\, \\pi^{2} \\sigma_{e_{\\mathit{xx}}} \\sigma_{m_{\\mathit{yy}}}}{c^{2} k_{z}}} - \\frac{\\mu_{\\mathit{xx}}}{\\mu_{\\mathit{yy}} - \\frac{c^{2} k_{z}^{2}}{{\\left(\\epsilon_{\\mathit{xx}} + \\frac{4 i \\, \\pi \\sigma_{e_{\\mathit{xx}}}}{\\omega}\\right)} \\omega^{2}} + \\frac{4 i \\, \\pi \\sigma_{m_{\\mathit{yy}}}}{\\omega}} + \\frac{\\mu_{\\mathit{yy}}}{\\mu_{\\mathit{yy}} - \\frac{c^{2} k_{z}^{2}}{{\\left(\\epsilon_{\\mathit{xx}} + \\frac{4 i \\, \\pi \\sigma_{e_{\\mathit{xx}}}}{\\omega}\\right)} \\omega^{2}} + \\frac{4 i \\, \\pi \\sigma_{m_{\\mathit{yy}}}}{\\omega}} - \\frac{4 i \\, \\pi \\sigma_{m_{\\mathit{xx}}}}{{\\left(\\mu_{\\mathit{yy}} - \\frac{c^{2} k_{z}^{2}}{{\\left(\\epsilon_{\\mathit{xx}} + \\frac{4 i \\, \\pi \\sigma_{e_{\\mathit{xx}}}}{\\omega}\\right)} \\omega^{2}} + \\frac{4 i \\, \\pi \\sigma_{m_{\\mathit{yy}}}}{\\omega}\\right)} \\omega} + \\frac{4 i \\, \\pi \\sigma_{m_{\\mathit{yy}}}}{{\\left(\\mu_{\\mathit{yy}} - \\frac{c^{2} k_{z}^{2}}{{\\left(\\epsilon_{\\mathit{xx}} + \\frac{4 i \\, \\pi \\sigma_{e_{\\mathit{xx}}}}{\\omega}\\right)} \\omega^{2}} + \\frac{4 i \\, \\pi \\sigma_{m_{\\mathit{yy}}}}{\\omega}\\right)} \\omega} - 1} - \\frac{4 i \\, \\pi \\mu_{\\mathit{xx}} \\omega \\sigma_{e_{\\mathit{zz}}}}{\\frac{k_{z}}{k_{z} - \\frac{\\epsilon_{\\mathit{xx}} \\mu_{\\mathit{yy}} \\omega^{2}}{c^{2} k_{z}} - \\frac{4 i \\, \\pi \\mu_{\\mathit{yy}} \\omega \\sigma_{e_{\\mathit{xx}}}}{c^{2} k_{z}} - \\frac{4 i \\, \\pi \\epsilon_{\\mathit{xx}} \\omega \\sigma_{m_{\\mathit{yy}}}}{c^{2} k_{z}} + \\frac{16 \\, \\pi^{2} \\sigma_{e_{\\mathit{xx}}} \\sigma_{m_{\\mathit{yy}}}}{c^{2} k_{z}}} - \\frac{\\mu_{\\mathit{xx}}}{\\mu_{\\mathit{yy}} - \\frac{c^{2} k_{z}^{2}}{{\\left(\\epsilon_{\\mathit{xx}} + \\frac{4 i \\, \\pi \\sigma_{e_{\\mathit{xx}}}}{\\omega}\\right)} \\omega^{2}} + \\frac{4 i \\, \\pi \\sigma_{m_{\\mathit{yy}}}}{\\omega}} + \\frac{\\mu_{\\mathit{yy}}}{\\mu_{\\mathit{yy}} - \\frac{c^{2} k_{z}^{2}}{{\\left(\\epsilon_{\\mathit{xx}} + \\frac{4 i \\, \\pi \\sigma_{e_{\\mathit{xx}}}}{\\omega}\\right)} \\omega^{2}} + \\frac{4 i \\, \\pi \\sigma_{m_{\\mathit{yy}}}}{\\omega}} - \\frac{4 i \\, \\pi \\sigma_{m_{\\mathit{xx}}}}{{\\left(\\mu_{\\mathit{yy}} - \\frac{c^{2} k_{z}^{2}}{{\\left(\\epsilon_{\\mathit{xx}} + \\frac{4 i \\, \\pi \\sigma_{e_{\\mathit{xx}}}}{\\omega}\\right)} \\omega^{2}} + \\frac{4 i \\, \\pi \\sigma_{m_{\\mathit{yy}}}}{\\omega}\\right)} \\omega} + \\frac{4 i \\, \\pi \\sigma_{m_{\\mathit{yy}}}}{{\\left(\\mu_{\\mathit{yy}} - \\frac{c^{2} k_{z}^{2}}{{\\left(\\epsilon_{\\mathit{xx}} + \\frac{4 i \\, \\pi \\sigma_{e_{\\mathit{xx}}}}{\\omega}\\right)} \\omega^{2}} + \\frac{4 i \\, \\pi \\sigma_{m_{\\mathit{yy}}}}{\\omega}\\right)} \\omega} - 1} - \\frac{4 i \\, \\pi \\epsilon_{\\mathit{zz}} \\omega \\sigma_{m_{\\mathit{xx}}}}{\\frac{k_{z}}{k_{z} - \\frac{\\epsilon_{\\mathit{xx}} \\mu_{\\mathit{yy}} \\omega^{2}}{c^{2} k_{z}} - \\frac{4 i \\, \\pi \\mu_{\\mathit{yy}} \\omega \\sigma_{e_{\\mathit{xx}}}}{c^{2} k_{z}} - \\frac{4 i \\, \\pi \\epsilon_{\\mathit{xx}} \\omega \\sigma_{m_{\\mathit{yy}}}}{c^{2} k_{z}} + \\frac{16 \\, \\pi^{2} \\sigma_{e_{\\mathit{xx}}} \\sigma_{m_{\\mathit{yy}}}}{c^{2} k_{z}}} - \\frac{\\mu_{\\mathit{xx}}}{\\mu_{\\mathit{yy}} - \\frac{c^{2} k_{z}^{2}}{{\\left(\\epsilon_{\\mathit{xx}} + \\frac{4 i \\, \\pi \\sigma_{e_{\\mathit{xx}}}}{\\omega}\\right)} \\omega^{2}} + \\frac{4 i \\, \\pi \\sigma_{m_{\\mathit{yy}}}}{\\omega}} + \\frac{\\mu_{\\mathit{yy}}}{\\mu_{\\mathit{yy}} - \\frac{c^{2} k_{z}^{2}}{{\\left(\\epsilon_{\\mathit{xx}} + \\frac{4 i \\, \\pi \\sigma_{e_{\\mathit{xx}}}}{\\omega}\\right)} \\omega^{2}} + \\frac{4 i \\, \\pi \\sigma_{m_{\\mathit{yy}}}}{\\omega}} - \\frac{4 i \\, \\pi \\sigma_{m_{\\mathit{xx}}}}{{\\left(\\mu_{\\mathit{yy}} - \\frac{c^{2} k_{z}^{2}}{{\\left(\\epsilon_{\\mathit{xx}} + \\frac{4 i \\, \\pi \\sigma_{e_{\\mathit{xx}}}}{\\omega}\\right)} \\omega^{2}} + \\frac{4 i \\, \\pi \\sigma_{m_{\\mathit{yy}}}}{\\omega}\\right)} \\omega} + \\frac{4 i \\, \\pi \\sigma_{m_{\\mathit{yy}}}}{{\\left(\\mu_{\\mathit{yy}} - \\frac{c^{2} k_{z}^{2}}{{\\left(\\epsilon_{\\mathit{xx}} + \\frac{4 i \\, \\pi \\sigma_{e_{\\mathit{xx}}}}{\\omega}\\right)} \\omega^{2}} + \\frac{4 i \\, \\pi \\sigma_{m_{\\mathit{yy}}}}{\\omega}\\right)} \\omega} - 1} + \\frac{16 \\, \\pi^{2} \\sigma_{e_{\\mathit{zz}}} \\sigma_{m_{\\mathit{xx}}}}{\\frac{k_{z}}{k_{z} - \\frac{\\epsilon_{\\mathit{xx}} \\mu_{\\mathit{yy}} \\omega^{2}}{c^{2} k_{z}} - \\frac{4 i \\, \\pi \\mu_{\\mathit{yy}} \\omega \\sigma_{e_{\\mathit{xx}}}}{c^{2} k_{z}} - \\frac{4 i \\, \\pi \\epsilon_{\\mathit{xx}} \\omega \\sigma_{m_{\\mathit{yy}}}}{c^{2} k_{z}} + \\frac{16 \\, \\pi^{2} \\sigma_{e_{\\mathit{xx}}} \\sigma_{m_{\\mathit{yy}}}}{c^{2} k_{z}}} - \\frac{\\mu_{\\mathit{xx}}}{\\mu_{\\mathit{yy}} - \\frac{c^{2} k_{z}^{2}}{{\\left(\\epsilon_{\\mathit{xx}} + \\frac{4 i \\, \\pi \\sigma_{e_{\\mathit{xx}}}}{\\omega}\\right)} \\omega^{2}} + \\frac{4 i \\, \\pi \\sigma_{m_{\\mathit{yy}}}}{\\omega}} + \\frac{\\mu_{\\mathit{yy}}}{\\mu_{\\mathit{yy}} - \\frac{c^{2} k_{z}^{2}}{{\\left(\\epsilon_{\\mathit{xx}} + \\frac{4 i \\, \\pi \\sigma_{e_{\\mathit{xx}}}}{\\omega}\\right)} \\omega^{2}} + \\frac{4 i \\, \\pi \\sigma_{m_{\\mathit{yy}}}}{\\omega}} - \\frac{4 i \\, \\pi \\sigma_{m_{\\mathit{xx}}}}{{\\left(\\mu_{\\mathit{yy}} - \\frac{c^{2} k_{z}^{2}}{{\\left(\\epsilon_{\\mathit{xx}} + \\frac{4 i \\, \\pi \\sigma_{e_{\\mathit{xx}}}}{\\omega}\\right)} \\omega^{2}} + \\frac{4 i \\, \\pi \\sigma_{m_{\\mathit{yy}}}}{\\omega}\\right)} \\omega} + \\frac{4 i \\, \\pi \\sigma_{m_{\\mathit{yy}}}}{{\\left(\\mu_{\\mathit{yy}} - \\frac{c^{2} k_{z}^{2}}{{\\left(\\epsilon_{\\mathit{xx}} + \\frac{4 i \\, \\pi \\sigma_{e_{\\mathit{xx}}}}{\\omega}\\right)} \\omega^{2}} + \\frac{4 i \\, \\pi \\sigma_{m_{\\mathit{yy}}}}{\\omega}\\right)} \\omega} - 1}} x}{c}\\right)}}{c}\\)</html>"
      ],
      "text/latex": [
       "$\\displaystyle -\\mathit{B1}_{z} k_{z}^{2} e^{\\left(\\frac{i \\, \\sqrt{-\\frac{\\epsilon_{\\mathit{zz}} \\mu_{\\mathit{xx}} \\omega^{2}}{\\frac{k_{z}}{k_{z} - \\frac{\\epsilon_{\\mathit{xx}} \\mu_{\\mathit{yy}} \\omega^{2}}{c^{2} k_{z}} - \\frac{4 i \\, \\pi \\mu_{\\mathit{yy}} \\omega \\sigma_{e_{\\mathit{xx}}}}{c^{2} k_{z}} - \\frac{4 i \\, \\pi \\epsilon_{\\mathit{xx}} \\omega \\sigma_{m_{\\mathit{yy}}}}{c^{2} k_{z}} + \\frac{16 \\, \\pi^{2} \\sigma_{e_{\\mathit{xx}}} \\sigma_{m_{\\mathit{yy}}}}{c^{2} k_{z}}} - \\frac{\\mu_{\\mathit{xx}}}{\\mu_{\\mathit{yy}} - \\frac{c^{2} k_{z}^{2}}{{\\left(\\epsilon_{\\mathit{xx}} + \\frac{4 i \\, \\pi \\sigma_{e_{\\mathit{xx}}}}{\\omega}\\right)} \\omega^{2}} + \\frac{4 i \\, \\pi \\sigma_{m_{\\mathit{yy}}}}{\\omega}} + \\frac{\\mu_{\\mathit{yy}}}{\\mu_{\\mathit{yy}} - \\frac{c^{2} k_{z}^{2}}{{\\left(\\epsilon_{\\mathit{xx}} + \\frac{4 i \\, \\pi \\sigma_{e_{\\mathit{xx}}}}{\\omega}\\right)} \\omega^{2}} + \\frac{4 i \\, \\pi \\sigma_{m_{\\mathit{yy}}}}{\\omega}} - \\frac{4 i \\, \\pi \\sigma_{m_{\\mathit{xx}}}}{{\\left(\\mu_{\\mathit{yy}} - \\frac{c^{2} k_{z}^{2}}{{\\left(\\epsilon_{\\mathit{xx}} + \\frac{4 i \\, \\pi \\sigma_{e_{\\mathit{xx}}}}{\\omega}\\right)} \\omega^{2}} + \\frac{4 i \\, \\pi \\sigma_{m_{\\mathit{yy}}}}{\\omega}\\right)} \\omega} + \\frac{4 i \\, \\pi \\sigma_{m_{\\mathit{yy}}}}{{\\left(\\mu_{\\mathit{yy}} - \\frac{c^{2} k_{z}^{2}}{{\\left(\\epsilon_{\\mathit{xx}} + \\frac{4 i \\, \\pi \\sigma_{e_{\\mathit{xx}}}}{\\omega}\\right)} \\omega^{2}} + \\frac{4 i \\, \\pi \\sigma_{m_{\\mathit{yy}}}}{\\omega}\\right)} \\omega} - 1} - \\frac{4 i \\, \\pi \\mu_{\\mathit{xx}} \\omega \\sigma_{e_{\\mathit{zz}}}}{\\frac{k_{z}}{k_{z} - \\frac{\\epsilon_{\\mathit{xx}} \\mu_{\\mathit{yy}} \\omega^{2}}{c^{2} k_{z}} - \\frac{4 i \\, \\pi \\mu_{\\mathit{yy}} \\omega \\sigma_{e_{\\mathit{xx}}}}{c^{2} k_{z}} - \\frac{4 i \\, \\pi \\epsilon_{\\mathit{xx}} \\omega \\sigma_{m_{\\mathit{yy}}}}{c^{2} k_{z}} + \\frac{16 \\, \\pi^{2} \\sigma_{e_{\\mathit{xx}}} \\sigma_{m_{\\mathit{yy}}}}{c^{2} k_{z}}} - \\frac{\\mu_{\\mathit{xx}}}{\\mu_{\\mathit{yy}} - \\frac{c^{2} k_{z}^{2}}{{\\left(\\epsilon_{\\mathit{xx}} + \\frac{4 i \\, \\pi \\sigma_{e_{\\mathit{xx}}}}{\\omega}\\right)} \\omega^{2}} + \\frac{4 i \\, \\pi \\sigma_{m_{\\mathit{yy}}}}{\\omega}} + \\frac{\\mu_{\\mathit{yy}}}{\\mu_{\\mathit{yy}} - \\frac{c^{2} k_{z}^{2}}{{\\left(\\epsilon_{\\mathit{xx}} + \\frac{4 i \\, \\pi \\sigma_{e_{\\mathit{xx}}}}{\\omega}\\right)} \\omega^{2}} + \\frac{4 i \\, \\pi \\sigma_{m_{\\mathit{yy}}}}{\\omega}} - \\frac{4 i \\, \\pi \\sigma_{m_{\\mathit{xx}}}}{{\\left(\\mu_{\\mathit{yy}} - \\frac{c^{2} k_{z}^{2}}{{\\left(\\epsilon_{\\mathit{xx}} + \\frac{4 i \\, \\pi \\sigma_{e_{\\mathit{xx}}}}{\\omega}\\right)} \\omega^{2}} + \\frac{4 i \\, \\pi \\sigma_{m_{\\mathit{yy}}}}{\\omega}\\right)} \\omega} + \\frac{4 i \\, \\pi \\sigma_{m_{\\mathit{yy}}}}{{\\left(\\mu_{\\mathit{yy}} - \\frac{c^{2} k_{z}^{2}}{{\\left(\\epsilon_{\\mathit{xx}} + \\frac{4 i \\, \\pi \\sigma_{e_{\\mathit{xx}}}}{\\omega}\\right)} \\omega^{2}} + \\frac{4 i \\, \\pi \\sigma_{m_{\\mathit{yy}}}}{\\omega}\\right)} \\omega} - 1} - \\frac{4 i \\, \\pi \\epsilon_{\\mathit{zz}} \\omega \\sigma_{m_{\\mathit{xx}}}}{\\frac{k_{z}}{k_{z} - \\frac{\\epsilon_{\\mathit{xx}} \\mu_{\\mathit{yy}} \\omega^{2}}{c^{2} k_{z}} - \\frac{4 i \\, \\pi \\mu_{\\mathit{yy}} \\omega \\sigma_{e_{\\mathit{xx}}}}{c^{2} k_{z}} - \\frac{4 i \\, \\pi \\epsilon_{\\mathit{xx}} \\omega \\sigma_{m_{\\mathit{yy}}}}{c^{2} k_{z}} + \\frac{16 \\, \\pi^{2} \\sigma_{e_{\\mathit{xx}}} \\sigma_{m_{\\mathit{yy}}}}{c^{2} k_{z}}} - \\frac{\\mu_{\\mathit{xx}}}{\\mu_{\\mathit{yy}} - \\frac{c^{2} k_{z}^{2}}{{\\left(\\epsilon_{\\mathit{xx}} + \\frac{4 i \\, \\pi \\sigma_{e_{\\mathit{xx}}}}{\\omega}\\right)} \\omega^{2}} + \\frac{4 i \\, \\pi \\sigma_{m_{\\mathit{yy}}}}{\\omega}} + \\frac{\\mu_{\\mathit{yy}}}{\\mu_{\\mathit{yy}} - \\frac{c^{2} k_{z}^{2}}{{\\left(\\epsilon_{\\mathit{xx}} + \\frac{4 i \\, \\pi \\sigma_{e_{\\mathit{xx}}}}{\\omega}\\right)} \\omega^{2}} + \\frac{4 i \\, \\pi \\sigma_{m_{\\mathit{yy}}}}{\\omega}} - \\frac{4 i \\, \\pi \\sigma_{m_{\\mathit{xx}}}}{{\\left(\\mu_{\\mathit{yy}} - \\frac{c^{2} k_{z}^{2}}{{\\left(\\epsilon_{\\mathit{xx}} + \\frac{4 i \\, \\pi \\sigma_{e_{\\mathit{xx}}}}{\\omega}\\right)} \\omega^{2}} + \\frac{4 i \\, \\pi \\sigma_{m_{\\mathit{yy}}}}{\\omega}\\right)} \\omega} + \\frac{4 i \\, \\pi \\sigma_{m_{\\mathit{yy}}}}{{\\left(\\mu_{\\mathit{yy}} - \\frac{c^{2} k_{z}^{2}}{{\\left(\\epsilon_{\\mathit{xx}} + \\frac{4 i \\, \\pi \\sigma_{e_{\\mathit{xx}}}}{\\omega}\\right)} \\omega^{2}} + \\frac{4 i \\, \\pi \\sigma_{m_{\\mathit{yy}}}}{\\omega}\\right)} \\omega} - 1} + \\frac{16 \\, \\pi^{2} \\sigma_{e_{\\mathit{zz}}} \\sigma_{m_{\\mathit{xx}}}}{\\frac{k_{z}}{k_{z} - \\frac{\\epsilon_{\\mathit{xx}} \\mu_{\\mathit{yy}} \\omega^{2}}{c^{2} k_{z}} - \\frac{4 i \\, \\pi \\mu_{\\mathit{yy}} \\omega \\sigma_{e_{\\mathit{xx}}}}{c^{2} k_{z}} - \\frac{4 i \\, \\pi \\epsilon_{\\mathit{xx}} \\omega \\sigma_{m_{\\mathit{yy}}}}{c^{2} k_{z}} + \\frac{16 \\, \\pi^{2} \\sigma_{e_{\\mathit{xx}}} \\sigma_{m_{\\mathit{yy}}}}{c^{2} k_{z}}} - \\frac{\\mu_{\\mathit{xx}}}{\\mu_{\\mathit{yy}} - \\frac{c^{2} k_{z}^{2}}{{\\left(\\epsilon_{\\mathit{xx}} + \\frac{4 i \\, \\pi \\sigma_{e_{\\mathit{xx}}}}{\\omega}\\right)} \\omega^{2}} + \\frac{4 i \\, \\pi \\sigma_{m_{\\mathit{yy}}}}{\\omega}} + \\frac{\\mu_{\\mathit{yy}}}{\\mu_{\\mathit{yy}} - \\frac{c^{2} k_{z}^{2}}{{\\left(\\epsilon_{\\mathit{xx}} + \\frac{4 i \\, \\pi \\sigma_{e_{\\mathit{xx}}}}{\\omega}\\right)} \\omega^{2}} + \\frac{4 i \\, \\pi \\sigma_{m_{\\mathit{yy}}}}{\\omega}} - \\frac{4 i \\, \\pi \\sigma_{m_{\\mathit{xx}}}}{{\\left(\\mu_{\\mathit{yy}} - \\frac{c^{2} k_{z}^{2}}{{\\left(\\epsilon_{\\mathit{xx}} + \\frac{4 i \\, \\pi \\sigma_{e_{\\mathit{xx}}}}{\\omega}\\right)} \\omega^{2}} + \\frac{4 i \\, \\pi \\sigma_{m_{\\mathit{yy}}}}{\\omega}\\right)} \\omega} + \\frac{4 i \\, \\pi \\sigma_{m_{\\mathit{yy}}}}{{\\left(\\mu_{\\mathit{yy}} - \\frac{c^{2} k_{z}^{2}}{{\\left(\\epsilon_{\\mathit{xx}} + \\frac{4 i \\, \\pi \\sigma_{e_{\\mathit{xx}}}}{\\omega}\\right)} \\omega^{2}} + \\frac{4 i \\, \\pi \\sigma_{m_{\\mathit{yy}}}}{\\omega}\\right)} \\omega} - 1}} x}{c}\\right)} - \\frac{\\sqrt{-\\frac{\\epsilon_{\\mathit{zz}} \\mu_{\\mathit{xx}} \\omega^{2}}{\\frac{k_{z}}{k_{z} - \\frac{\\epsilon_{\\mathit{xx}} \\mu_{\\mathit{yy}} \\omega^{2}}{c^{2} k_{z}} - \\frac{4 i \\, \\pi \\mu_{\\mathit{yy}} \\omega \\sigma_{e_{\\mathit{xx}}}}{c^{2} k_{z}} - \\frac{4 i \\, \\pi \\epsilon_{\\mathit{xx}} \\omega \\sigma_{m_{\\mathit{yy}}}}{c^{2} k_{z}} + \\frac{16 \\, \\pi^{2} \\sigma_{e_{\\mathit{xx}}} \\sigma_{m_{\\mathit{yy}}}}{c^{2} k_{z}}} - \\frac{\\mu_{\\mathit{xx}}}{\\mu_{\\mathit{yy}} - \\frac{c^{2} k_{z}^{2}}{{\\left(\\epsilon_{\\mathit{xx}} + \\frac{4 i \\, \\pi \\sigma_{e_{\\mathit{xx}}}}{\\omega}\\right)} \\omega^{2}} + \\frac{4 i \\, \\pi \\sigma_{m_{\\mathit{yy}}}}{\\omega}} + \\frac{\\mu_{\\mathit{yy}}}{\\mu_{\\mathit{yy}} - \\frac{c^{2} k_{z}^{2}}{{\\left(\\epsilon_{\\mathit{xx}} + \\frac{4 i \\, \\pi \\sigma_{e_{\\mathit{xx}}}}{\\omega}\\right)} \\omega^{2}} + \\frac{4 i \\, \\pi \\sigma_{m_{\\mathit{yy}}}}{\\omega}} - \\frac{4 i \\, \\pi \\sigma_{m_{\\mathit{xx}}}}{{\\left(\\mu_{\\mathit{yy}} - \\frac{c^{2} k_{z}^{2}}{{\\left(\\epsilon_{\\mathit{xx}} + \\frac{4 i \\, \\pi \\sigma_{e_{\\mathit{xx}}}}{\\omega}\\right)} \\omega^{2}} + \\frac{4 i \\, \\pi \\sigma_{m_{\\mathit{yy}}}}{\\omega}\\right)} \\omega} + \\frac{4 i \\, \\pi \\sigma_{m_{\\mathit{yy}}}}{{\\left(\\mu_{\\mathit{yy}} - \\frac{c^{2} k_{z}^{2}}{{\\left(\\epsilon_{\\mathit{xx}} + \\frac{4 i \\, \\pi \\sigma_{e_{\\mathit{xx}}}}{\\omega}\\right)} \\omega^{2}} + \\frac{4 i \\, \\pi \\sigma_{m_{\\mathit{yy}}}}{\\omega}\\right)} \\omega} - 1} - \\frac{4 i \\, \\pi \\mu_{\\mathit{xx}} \\omega \\sigma_{e_{\\mathit{zz}}}}{\\frac{k_{z}}{k_{z} - \\frac{\\epsilon_{\\mathit{xx}} \\mu_{\\mathit{yy}} \\omega^{2}}{c^{2} k_{z}} - \\frac{4 i \\, \\pi \\mu_{\\mathit{yy}} \\omega \\sigma_{e_{\\mathit{xx}}}}{c^{2} k_{z}} - \\frac{4 i \\, \\pi \\epsilon_{\\mathit{xx}} \\omega \\sigma_{m_{\\mathit{yy}}}}{c^{2} k_{z}} + \\frac{16 \\, \\pi^{2} \\sigma_{e_{\\mathit{xx}}} \\sigma_{m_{\\mathit{yy}}}}{c^{2} k_{z}}} - \\frac{\\mu_{\\mathit{xx}}}{\\mu_{\\mathit{yy}} - \\frac{c^{2} k_{z}^{2}}{{\\left(\\epsilon_{\\mathit{xx}} + \\frac{4 i \\, \\pi \\sigma_{e_{\\mathit{xx}}}}{\\omega}\\right)} \\omega^{2}} + \\frac{4 i \\, \\pi \\sigma_{m_{\\mathit{yy}}}}{\\omega}} + \\frac{\\mu_{\\mathit{yy}}}{\\mu_{\\mathit{yy}} - \\frac{c^{2} k_{z}^{2}}{{\\left(\\epsilon_{\\mathit{xx}} + \\frac{4 i \\, \\pi \\sigma_{e_{\\mathit{xx}}}}{\\omega}\\right)} \\omega^{2}} + \\frac{4 i \\, \\pi \\sigma_{m_{\\mathit{yy}}}}{\\omega}} - \\frac{4 i \\, \\pi \\sigma_{m_{\\mathit{xx}}}}{{\\left(\\mu_{\\mathit{yy}} - \\frac{c^{2} k_{z}^{2}}{{\\left(\\epsilon_{\\mathit{xx}} + \\frac{4 i \\, \\pi \\sigma_{e_{\\mathit{xx}}}}{\\omega}\\right)} \\omega^{2}} + \\frac{4 i \\, \\pi \\sigma_{m_{\\mathit{yy}}}}{\\omega}\\right)} \\omega} + \\frac{4 i \\, \\pi \\sigma_{m_{\\mathit{yy}}}}{{\\left(\\mu_{\\mathit{yy}} - \\frac{c^{2} k_{z}^{2}}{{\\left(\\epsilon_{\\mathit{xx}} + \\frac{4 i \\, \\pi \\sigma_{e_{\\mathit{xx}}}}{\\omega}\\right)} \\omega^{2}} + \\frac{4 i \\, \\pi \\sigma_{m_{\\mathit{yy}}}}{\\omega}\\right)} \\omega} - 1} - \\frac{4 i \\, \\pi \\epsilon_{\\mathit{zz}} \\omega \\sigma_{m_{\\mathit{xx}}}}{\\frac{k_{z}}{k_{z} - \\frac{\\epsilon_{\\mathit{xx}} \\mu_{\\mathit{yy}} \\omega^{2}}{c^{2} k_{z}} - \\frac{4 i \\, \\pi \\mu_{\\mathit{yy}} \\omega \\sigma_{e_{\\mathit{xx}}}}{c^{2} k_{z}} - \\frac{4 i \\, \\pi \\epsilon_{\\mathit{xx}} \\omega \\sigma_{m_{\\mathit{yy}}}}{c^{2} k_{z}} + \\frac{16 \\, \\pi^{2} \\sigma_{e_{\\mathit{xx}}} \\sigma_{m_{\\mathit{yy}}}}{c^{2} k_{z}}} - \\frac{\\mu_{\\mathit{xx}}}{\\mu_{\\mathit{yy}} - \\frac{c^{2} k_{z}^{2}}{{\\left(\\epsilon_{\\mathit{xx}} + \\frac{4 i \\, \\pi \\sigma_{e_{\\mathit{xx}}}}{\\omega}\\right)} \\omega^{2}} + \\frac{4 i \\, \\pi \\sigma_{m_{\\mathit{yy}}}}{\\omega}} + \\frac{\\mu_{\\mathit{yy}}}{\\mu_{\\mathit{yy}} - \\frac{c^{2} k_{z}^{2}}{{\\left(\\epsilon_{\\mathit{xx}} + \\frac{4 i \\, \\pi \\sigma_{e_{\\mathit{xx}}}}{\\omega}\\right)} \\omega^{2}} + \\frac{4 i \\, \\pi \\sigma_{m_{\\mathit{yy}}}}{\\omega}} - \\frac{4 i \\, \\pi \\sigma_{m_{\\mathit{xx}}}}{{\\left(\\mu_{\\mathit{yy}} - \\frac{c^{2} k_{z}^{2}}{{\\left(\\epsilon_{\\mathit{xx}} + \\frac{4 i \\, \\pi \\sigma_{e_{\\mathit{xx}}}}{\\omega}\\right)} \\omega^{2}} + \\frac{4 i \\, \\pi \\sigma_{m_{\\mathit{yy}}}}{\\omega}\\right)} \\omega} + \\frac{4 i \\, \\pi \\sigma_{m_{\\mathit{yy}}}}{{\\left(\\mu_{\\mathit{yy}} - \\frac{c^{2} k_{z}^{2}}{{\\left(\\epsilon_{\\mathit{xx}} + \\frac{4 i \\, \\pi \\sigma_{e_{\\mathit{xx}}}}{\\omega}\\right)} \\omega^{2}} + \\frac{4 i \\, \\pi \\sigma_{m_{\\mathit{yy}}}}{\\omega}\\right)} \\omega} - 1} + \\frac{16 \\, \\pi^{2} \\sigma_{e_{\\mathit{zz}}} \\sigma_{m_{\\mathit{xx}}}}{\\frac{k_{z}}{k_{z} - \\frac{\\epsilon_{\\mathit{xx}} \\mu_{\\mathit{yy}} \\omega^{2}}{c^{2} k_{z}} - \\frac{4 i \\, \\pi \\mu_{\\mathit{yy}} \\omega \\sigma_{e_{\\mathit{xx}}}}{c^{2} k_{z}} - \\frac{4 i \\, \\pi \\epsilon_{\\mathit{xx}} \\omega \\sigma_{m_{\\mathit{yy}}}}{c^{2} k_{z}} + \\frac{16 \\, \\pi^{2} \\sigma_{e_{\\mathit{xx}}} \\sigma_{m_{\\mathit{yy}}}}{c^{2} k_{z}}} - \\frac{\\mu_{\\mathit{xx}}}{\\mu_{\\mathit{yy}} - \\frac{c^{2} k_{z}^{2}}{{\\left(\\epsilon_{\\mathit{xx}} + \\frac{4 i \\, \\pi \\sigma_{e_{\\mathit{xx}}}}{\\omega}\\right)} \\omega^{2}} + \\frac{4 i \\, \\pi \\sigma_{m_{\\mathit{yy}}}}{\\omega}} + \\frac{\\mu_{\\mathit{yy}}}{\\mu_{\\mathit{yy}} - \\frac{c^{2} k_{z}^{2}}{{\\left(\\epsilon_{\\mathit{xx}} + \\frac{4 i \\, \\pi \\sigma_{e_{\\mathit{xx}}}}{\\omega}\\right)} \\omega^{2}} + \\frac{4 i \\, \\pi \\sigma_{m_{\\mathit{yy}}}}{\\omega}} - \\frac{4 i \\, \\pi \\sigma_{m_{\\mathit{xx}}}}{{\\left(\\mu_{\\mathit{yy}} - \\frac{c^{2} k_{z}^{2}}{{\\left(\\epsilon_{\\mathit{xx}} + \\frac{4 i \\, \\pi \\sigma_{e_{\\mathit{xx}}}}{\\omega}\\right)} \\omega^{2}} + \\frac{4 i \\, \\pi \\sigma_{m_{\\mathit{yy}}}}{\\omega}\\right)} \\omega} + \\frac{4 i \\, \\pi \\sigma_{m_{\\mathit{yy}}}}{{\\left(\\mu_{\\mathit{yy}} - \\frac{c^{2} k_{z}^{2}}{{\\left(\\epsilon_{\\mathit{xx}} + \\frac{4 i \\, \\pi \\sigma_{e_{\\mathit{xx}}}}{\\omega}\\right)} \\omega^{2}} + \\frac{4 i \\, \\pi \\sigma_{m_{\\mathit{yy}}}}{\\omega}\\right)} \\omega} - 1}} \\mathit{B1}_{x} k_{z} e^{\\left(\\frac{i \\, \\sqrt{-\\frac{\\epsilon_{\\mathit{zz}} \\mu_{\\mathit{xx}} \\omega^{2}}{\\frac{k_{z}}{k_{z} - \\frac{\\epsilon_{\\mathit{xx}} \\mu_{\\mathit{yy}} \\omega^{2}}{c^{2} k_{z}} - \\frac{4 i \\, \\pi \\mu_{\\mathit{yy}} \\omega \\sigma_{e_{\\mathit{xx}}}}{c^{2} k_{z}} - \\frac{4 i \\, \\pi \\epsilon_{\\mathit{xx}} \\omega \\sigma_{m_{\\mathit{yy}}}}{c^{2} k_{z}} + \\frac{16 \\, \\pi^{2} \\sigma_{e_{\\mathit{xx}}} \\sigma_{m_{\\mathit{yy}}}}{c^{2} k_{z}}} - \\frac{\\mu_{\\mathit{xx}}}{\\mu_{\\mathit{yy}} - \\frac{c^{2} k_{z}^{2}}{{\\left(\\epsilon_{\\mathit{xx}} + \\frac{4 i \\, \\pi \\sigma_{e_{\\mathit{xx}}}}{\\omega}\\right)} \\omega^{2}} + \\frac{4 i \\, \\pi \\sigma_{m_{\\mathit{yy}}}}{\\omega}} + \\frac{\\mu_{\\mathit{yy}}}{\\mu_{\\mathit{yy}} - \\frac{c^{2} k_{z}^{2}}{{\\left(\\epsilon_{\\mathit{xx}} + \\frac{4 i \\, \\pi \\sigma_{e_{\\mathit{xx}}}}{\\omega}\\right)} \\omega^{2}} + \\frac{4 i \\, \\pi \\sigma_{m_{\\mathit{yy}}}}{\\omega}} - \\frac{4 i \\, \\pi \\sigma_{m_{\\mathit{xx}}}}{{\\left(\\mu_{\\mathit{yy}} - \\frac{c^{2} k_{z}^{2}}{{\\left(\\epsilon_{\\mathit{xx}} + \\frac{4 i \\, \\pi \\sigma_{e_{\\mathit{xx}}}}{\\omega}\\right)} \\omega^{2}} + \\frac{4 i \\, \\pi \\sigma_{m_{\\mathit{yy}}}}{\\omega}\\right)} \\omega} + \\frac{4 i \\, \\pi \\sigma_{m_{\\mathit{yy}}}}{{\\left(\\mu_{\\mathit{yy}} - \\frac{c^{2} k_{z}^{2}}{{\\left(\\epsilon_{\\mathit{xx}} + \\frac{4 i \\, \\pi \\sigma_{e_{\\mathit{xx}}}}{\\omega}\\right)} \\omega^{2}} + \\frac{4 i \\, \\pi \\sigma_{m_{\\mathit{yy}}}}{\\omega}\\right)} \\omega} - 1} - \\frac{4 i \\, \\pi \\mu_{\\mathit{xx}} \\omega \\sigma_{e_{\\mathit{zz}}}}{\\frac{k_{z}}{k_{z} - \\frac{\\epsilon_{\\mathit{xx}} \\mu_{\\mathit{yy}} \\omega^{2}}{c^{2} k_{z}} - \\frac{4 i \\, \\pi \\mu_{\\mathit{yy}} \\omega \\sigma_{e_{\\mathit{xx}}}}{c^{2} k_{z}} - \\frac{4 i \\, \\pi \\epsilon_{\\mathit{xx}} \\omega \\sigma_{m_{\\mathit{yy}}}}{c^{2} k_{z}} + \\frac{16 \\, \\pi^{2} \\sigma_{e_{\\mathit{xx}}} \\sigma_{m_{\\mathit{yy}}}}{c^{2} k_{z}}} - \\frac{\\mu_{\\mathit{xx}}}{\\mu_{\\mathit{yy}} - \\frac{c^{2} k_{z}^{2}}{{\\left(\\epsilon_{\\mathit{xx}} + \\frac{4 i \\, \\pi \\sigma_{e_{\\mathit{xx}}}}{\\omega}\\right)} \\omega^{2}} + \\frac{4 i \\, \\pi \\sigma_{m_{\\mathit{yy}}}}{\\omega}} + \\frac{\\mu_{\\mathit{yy}}}{\\mu_{\\mathit{yy}} - \\frac{c^{2} k_{z}^{2}}{{\\left(\\epsilon_{\\mathit{xx}} + \\frac{4 i \\, \\pi \\sigma_{e_{\\mathit{xx}}}}{\\omega}\\right)} \\omega^{2}} + \\frac{4 i \\, \\pi \\sigma_{m_{\\mathit{yy}}}}{\\omega}} - \\frac{4 i \\, \\pi \\sigma_{m_{\\mathit{xx}}}}{{\\left(\\mu_{\\mathit{yy}} - \\frac{c^{2} k_{z}^{2}}{{\\left(\\epsilon_{\\mathit{xx}} + \\frac{4 i \\, \\pi \\sigma_{e_{\\mathit{xx}}}}{\\omega}\\right)} \\omega^{2}} + \\frac{4 i \\, \\pi \\sigma_{m_{\\mathit{yy}}}}{\\omega}\\right)} \\omega} + \\frac{4 i \\, \\pi \\sigma_{m_{\\mathit{yy}}}}{{\\left(\\mu_{\\mathit{yy}} - \\frac{c^{2} k_{z}^{2}}{{\\left(\\epsilon_{\\mathit{xx}} + \\frac{4 i \\, \\pi \\sigma_{e_{\\mathit{xx}}}}{\\omega}\\right)} \\omega^{2}} + \\frac{4 i \\, \\pi \\sigma_{m_{\\mathit{yy}}}}{\\omega}\\right)} \\omega} - 1} - \\frac{4 i \\, \\pi \\epsilon_{\\mathit{zz}} \\omega \\sigma_{m_{\\mathit{xx}}}}{\\frac{k_{z}}{k_{z} - \\frac{\\epsilon_{\\mathit{xx}} \\mu_{\\mathit{yy}} \\omega^{2}}{c^{2} k_{z}} - \\frac{4 i \\, \\pi \\mu_{\\mathit{yy}} \\omega \\sigma_{e_{\\mathit{xx}}}}{c^{2} k_{z}} - \\frac{4 i \\, \\pi \\epsilon_{\\mathit{xx}} \\omega \\sigma_{m_{\\mathit{yy}}}}{c^{2} k_{z}} + \\frac{16 \\, \\pi^{2} \\sigma_{e_{\\mathit{xx}}} \\sigma_{m_{\\mathit{yy}}}}{c^{2} k_{z}}} - \\frac{\\mu_{\\mathit{xx}}}{\\mu_{\\mathit{yy}} - \\frac{c^{2} k_{z}^{2}}{{\\left(\\epsilon_{\\mathit{xx}} + \\frac{4 i \\, \\pi \\sigma_{e_{\\mathit{xx}}}}{\\omega}\\right)} \\omega^{2}} + \\frac{4 i \\, \\pi \\sigma_{m_{\\mathit{yy}}}}{\\omega}} + \\frac{\\mu_{\\mathit{yy}}}{\\mu_{\\mathit{yy}} - \\frac{c^{2} k_{z}^{2}}{{\\left(\\epsilon_{\\mathit{xx}} + \\frac{4 i \\, \\pi \\sigma_{e_{\\mathit{xx}}}}{\\omega}\\right)} \\omega^{2}} + \\frac{4 i \\, \\pi \\sigma_{m_{\\mathit{yy}}}}{\\omega}} - \\frac{4 i \\, \\pi \\sigma_{m_{\\mathit{xx}}}}{{\\left(\\mu_{\\mathit{yy}} - \\frac{c^{2} k_{z}^{2}}{{\\left(\\epsilon_{\\mathit{xx}} + \\frac{4 i \\, \\pi \\sigma_{e_{\\mathit{xx}}}}{\\omega}\\right)} \\omega^{2}} + \\frac{4 i \\, \\pi \\sigma_{m_{\\mathit{yy}}}}{\\omega}\\right)} \\omega} + \\frac{4 i \\, \\pi \\sigma_{m_{\\mathit{yy}}}}{{\\left(\\mu_{\\mathit{yy}} - \\frac{c^{2} k_{z}^{2}}{{\\left(\\epsilon_{\\mathit{xx}} + \\frac{4 i \\, \\pi \\sigma_{e_{\\mathit{xx}}}}{\\omega}\\right)} \\omega^{2}} + \\frac{4 i \\, \\pi \\sigma_{m_{\\mathit{yy}}}}{\\omega}\\right)} \\omega} - 1} + \\frac{16 \\, \\pi^{2} \\sigma_{e_{\\mathit{zz}}} \\sigma_{m_{\\mathit{xx}}}}{\\frac{k_{z}}{k_{z} - \\frac{\\epsilon_{\\mathit{xx}} \\mu_{\\mathit{yy}} \\omega^{2}}{c^{2} k_{z}} - \\frac{4 i \\, \\pi \\mu_{\\mathit{yy}} \\omega \\sigma_{e_{\\mathit{xx}}}}{c^{2} k_{z}} - \\frac{4 i \\, \\pi \\epsilon_{\\mathit{xx}} \\omega \\sigma_{m_{\\mathit{yy}}}}{c^{2} k_{z}} + \\frac{16 \\, \\pi^{2} \\sigma_{e_{\\mathit{xx}}} \\sigma_{m_{\\mathit{yy}}}}{c^{2} k_{z}}} - \\frac{\\mu_{\\mathit{xx}}}{\\mu_{\\mathit{yy}} - \\frac{c^{2} k_{z}^{2}}{{\\left(\\epsilon_{\\mathit{xx}} + \\frac{4 i \\, \\pi \\sigma_{e_{\\mathit{xx}}}}{\\omega}\\right)} \\omega^{2}} + \\frac{4 i \\, \\pi \\sigma_{m_{\\mathit{yy}}}}{\\omega}} + \\frac{\\mu_{\\mathit{yy}}}{\\mu_{\\mathit{yy}} - \\frac{c^{2} k_{z}^{2}}{{\\left(\\epsilon_{\\mathit{xx}} + \\frac{4 i \\, \\pi \\sigma_{e_{\\mathit{xx}}}}{\\omega}\\right)} \\omega^{2}} + \\frac{4 i \\, \\pi \\sigma_{m_{\\mathit{yy}}}}{\\omega}} - \\frac{4 i \\, \\pi \\sigma_{m_{\\mathit{xx}}}}{{\\left(\\mu_{\\mathit{yy}} - \\frac{c^{2} k_{z}^{2}}{{\\left(\\epsilon_{\\mathit{xx}} + \\frac{4 i \\, \\pi \\sigma_{e_{\\mathit{xx}}}}{\\omega}\\right)} \\omega^{2}} + \\frac{4 i \\, \\pi \\sigma_{m_{\\mathit{yy}}}}{\\omega}\\right)} \\omega} + \\frac{4 i \\, \\pi \\sigma_{m_{\\mathit{yy}}}}{{\\left(\\mu_{\\mathit{yy}} - \\frac{c^{2} k_{z}^{2}}{{\\left(\\epsilon_{\\mathit{xx}} + \\frac{4 i \\, \\pi \\sigma_{e_{\\mathit{xx}}}}{\\omega}\\right)} \\omega^{2}} + \\frac{4 i \\, \\pi \\sigma_{m_{\\mathit{yy}}}}{\\omega}\\right)} \\omega} - 1}} x}{c}\\right)}}{c}$"
      ],
      "text/plain": [
       "-B1_z*k_z^2*e^(I*sqrt(-epsilon_zz*mu_xx*omega^2/(k_z/(k_z - epsilon_xx*mu_yy*omega^2/(c^2*k_z) - 4*I*pi*mu_yy*omega*sigma_e_xx/(c^2*k_z) - 4*I*pi*epsilon_xx*omega*sigma_m_yy/(c^2*k_z) + 16*pi^2*sigma_e_xx*sigma_m_yy/(c^2*k_z)) - mu_xx/(mu_yy - c^2*k_z^2/((epsilon_xx + 4*I*pi*sigma_e_xx/omega)*omega^2) + 4*I*pi*sigma_m_yy/omega) + mu_yy/(mu_yy - c^2*k_z^2/((epsilon_xx + 4*I*pi*sigma_e_xx/omega)*omega^2) + 4*I*pi*sigma_m_yy/omega) - 4*I*pi*sigma_m_xx/((mu_yy - c^2*k_z^2/((epsilon_xx + 4*I*pi*sigma_e_xx/omega)*omega^2) + 4*I*pi*sigma_m_yy/omega)*omega) + 4*I*pi*sigma_m_yy/((mu_yy - c^2*k_z^2/((epsilon_xx + 4*I*pi*sigma_e_xx/omega)*omega^2) + 4*I*pi*sigma_m_yy/omega)*omega) - 1) - 4*I*pi*mu_xx*omega*sigma_e_zz/(k_z/(k_z - epsilon_xx*mu_yy*omega^2/(c^2*k_z) - 4*I*pi*mu_yy*omega*sigma_e_xx/(c^2*k_z) - 4*I*pi*epsilon_xx*omega*sigma_m_yy/(c^2*k_z) + 16*pi^2*sigma_e_xx*sigma_m_yy/(c^2*k_z)) - mu_xx/(mu_yy - c^2*k_z^2/((epsilon_xx + 4*I*pi*sigma_e_xx/omega)*omega^2) + 4*I*pi*sigma_m_yy/omega) + mu_yy/(mu_yy - c^2*k_z^2/((epsilon_xx + 4*I*pi*sigma_e_xx/omega)*omega^2) + 4*I*pi*sigma_m_yy/omega) - 4*I*pi*sigma_m_xx/((mu_yy - c^2*k_z^2/((epsilon_xx + 4*I*pi*sigma_e_xx/omega)*omega^2) + 4*I*pi*sigma_m_yy/omega)*omega) + 4*I*pi*sigma_m_yy/((mu_yy - c^2*k_z^2/((epsilon_xx + 4*I*pi*sigma_e_xx/omega)*omega^2) + 4*I*pi*sigma_m_yy/omega)*omega) - 1) - 4*I*pi*epsilon_zz*omega*sigma_m_xx/(k_z/(k_z - epsilon_xx*mu_yy*omega^2/(c^2*k_z) - 4*I*pi*mu_yy*omega*sigma_e_xx/(c^2*k_z) - 4*I*pi*epsilon_xx*omega*sigma_m_yy/(c^2*k_z) + 16*pi^2*sigma_e_xx*sigma_m_yy/(c^2*k_z)) - mu_xx/(mu_yy - c^2*k_z^2/((epsilon_xx + 4*I*pi*sigma_e_xx/omega)*omega^2) + 4*I*pi*sigma_m_yy/omega) + mu_yy/(mu_yy - c^2*k_z^2/((epsilon_xx + 4*I*pi*sigma_e_xx/omega)*omega^2) + 4*I*pi*sigma_m_yy/omega) - 4*I*pi*sigma_m_xx/((mu_yy - c^2*k_z^2/((epsilon_xx + 4*I*pi*sigma_e_xx/omega)*omega^2) + 4*I*pi*sigma_m_yy/omega)*omega) + 4*I*pi*sigma_m_yy/((mu_yy - c^2*k_z^2/((epsilon_xx + 4*I*pi*sigma_e_xx/omega)*omega^2) + 4*I*pi*sigma_m_yy/omega)*omega) - 1) + 16*pi^2*sigma_e_zz*sigma_m_xx/(k_z/(k_z - epsilon_xx*mu_yy*omega^2/(c^2*k_z) - 4*I*pi*mu_yy*omega*sigma_e_xx/(c^2*k_z) - 4*I*pi*epsilon_xx*omega*sigma_m_yy/(c^2*k_z) + 16*pi^2*sigma_e_xx*sigma_m_yy/(c^2*k_z)) - mu_xx/(mu_yy - c^2*k_z^2/((epsilon_xx + 4*I*pi*sigma_e_xx/omega)*omega^2) + 4*I*pi*sigma_m_yy/omega) + mu_yy/(mu_yy - c^2*k_z^2/((epsilon_xx + 4*I*pi*sigma_e_xx/omega)*omega^2) + 4*I*pi*sigma_m_yy/omega) - 4*I*pi*sigma_m_xx/((mu_yy - c^2*k_z^2/((epsilon_xx + 4*I*pi*sigma_e_xx/omega)*omega^2) + 4*I*pi*sigma_m_yy/omega)*omega) + 4*I*pi*sigma_m_yy/((mu_yy - c^2*k_z^2/((epsilon_xx + 4*I*pi*sigma_e_xx/omega)*omega^2) + 4*I*pi*sigma_m_yy/omega)*omega) - 1))*x/c) - sqrt(-epsilon_zz*mu_xx*omega^2/(k_z/(k_z - epsilon_xx*mu_yy*omega^2/(c^2*k_z) - 4*I*pi*mu_yy*omega*sigma_e_xx/(c^2*k_z) - 4*I*pi*epsilon_xx*omega*sigma_m_yy/(c^2*k_z) + 16*pi^2*sigma_e_xx*sigma_m_yy/(c^2*k_z)) - mu_xx/(mu_yy - c^2*k_z^2/((epsilon_xx + 4*I*pi*sigma_e_xx/omega)*omega^2) + 4*I*pi*sigma_m_yy/omega) + mu_yy/(mu_yy - c^2*k_z^2/((epsilon_xx + 4*I*pi*sigma_e_xx/omega)*omega^2) + 4*I*pi*sigma_m_yy/omega) - 4*I*pi*sigma_m_xx/((mu_yy - c^2*k_z^2/((epsilon_xx + 4*I*pi*sigma_e_xx/omega)*omega^2) + 4*I*pi*sigma_m_yy/omega)*omega) + 4*I*pi*sigma_m_yy/((mu_yy - c^2*k_z^2/((epsilon_xx + 4*I*pi*sigma_e_xx/omega)*omega^2) + 4*I*pi*sigma_m_yy/omega)*omega) - 1) - 4*I*pi*mu_xx*omega*sigma_e_zz/(k_z/(k_z - epsilon_xx*mu_yy*omega^2/(c^2*k_z) - 4*I*pi*mu_yy*omega*sigma_e_xx/(c^2*k_z) - 4*I*pi*epsilon_xx*omega*sigma_m_yy/(c^2*k_z) + 16*pi^2*sigma_e_xx*sigma_m_yy/(c^2*k_z)) - mu_xx/(mu_yy - c^2*k_z^2/((epsilon_xx + 4*I*pi*sigma_e_xx/omega)*omega^2) + 4*I*pi*sigma_m_yy/omega) + mu_yy/(mu_yy - c^2*k_z^2/((epsilon_xx + 4*I*pi*sigma_e_xx/omega)*omega^2) + 4*I*pi*sigma_m_yy/omega) - 4*I*pi*sigma_m_xx/((mu_yy - c^2*k_z^2/((epsilon_xx + 4*I*pi*sigma_e_xx/omega)*omega^2) + 4*I*pi*sigma_m_yy/omega)*omega) + 4*I*pi*sigma_m_yy/((mu_yy - c^2*k_z^2/((epsilon_xx + 4*I*pi*sigma_e_xx/omega)*omega^2) + 4*I*pi*sigma_m_yy/omega)*omega) - 1) - 4*I*pi*epsilon_zz*omega*sigma_m_xx/(k_z/(k_z - epsilon_xx*mu_yy*omega^2/(c^2*k_z) - 4*I*pi*mu_yy*omega*sigma_e_xx/(c^2*k_z) - 4*I*pi*epsilon_xx*omega*sigma_m_yy/(c^2*k_z) + 16*pi^2*sigma_e_xx*sigma_m_yy/(c^2*k_z)) - mu_xx/(mu_yy - c^2*k_z^2/((epsilon_xx + 4*I*pi*sigma_e_xx/omega)*omega^2) + 4*I*pi*sigma_m_yy/omega) + mu_yy/(mu_yy - c^2*k_z^2/((epsilon_xx + 4*I*pi*sigma_e_xx/omega)*omega^2) + 4*I*pi*sigma_m_yy/omega) - 4*I*pi*sigma_m_xx/((mu_yy - c^2*k_z^2/((epsilon_xx + 4*I*pi*sigma_e_xx/omega)*omega^2) + 4*I*pi*sigma_m_yy/omega)*omega) + 4*I*pi*sigma_m_yy/((mu_yy - c^2*k_z^2/((epsilon_xx + 4*I*pi*sigma_e_xx/omega)*omega^2) + 4*I*pi*sigma_m_yy/omega)*omega) - 1) + 16*pi^2*sigma_e_zz*sigma_m_xx/(k_z/(k_z - epsilon_xx*mu_yy*omega^2/(c^2*k_z) - 4*I*pi*mu_yy*omega*sigma_e_xx/(c^2*k_z) - 4*I*pi*epsilon_xx*omega*sigma_m_yy/(c^2*k_z) + 16*pi^2*sigma_e_xx*sigma_m_yy/(c^2*k_z)) - mu_xx/(mu_yy - c^2*k_z^2/((epsilon_xx + 4*I*pi*sigma_e_xx/omega)*omega^2) + 4*I*pi*sigma_m_yy/omega) + mu_yy/(mu_yy - c^2*k_z^2/((epsilon_xx + 4*I*pi*sigma_e_xx/omega)*omega^2) + 4*I*pi*sigma_m_yy/omega) - 4*I*pi*sigma_m_xx/((mu_yy - c^2*k_z^2/((epsilon_xx + 4*I*pi*sigma_e_xx/omega)*omega^2) + 4*I*pi*sigma_m_yy/omega)*omega) + 4*I*pi*sigma_m_yy/((mu_yy - c^2*k_z^2/((epsilon_xx + 4*I*pi*sigma_e_xx/omega)*omega^2) + 4*I*pi*sigma_m_yy/omega)*omega) - 1))*B1_x*k_z*e^(I*sqrt(-epsilon_zz*mu_xx*omega^2/(k_z/(k_z - epsilon_xx*mu_yy*omega^2/(c^2*k_z) - 4*I*pi*mu_yy*omega*sigma_e_xx/(c^2*k_z) - 4*I*pi*epsilon_xx*omega*sigma_m_yy/(c^2*k_z) + 16*pi^2*sigma_e_xx*sigma_m_yy/(c^2*k_z)) - mu_xx/(mu_yy - c^2*k_z^2/((epsilon_xx + 4*I*pi*sigma_e_xx/omega)*omega^2) + 4*I*pi*sigma_m_yy/omega) + mu_yy/(mu_yy - c^2*k_z^2/((epsilon_xx + 4*I*pi*sigma_e_xx/omega)*omega^2) + 4*I*pi*sigma_m_yy/omega) - 4*I*pi*sigma_m_xx/((mu_yy - c^2*k_z^2/((epsilon_xx + 4*I*pi*sigma_e_xx/omega)*omega^2) + 4*I*pi*sigma_m_yy/omega)*omega) + 4*I*pi*sigma_m_yy/((mu_yy - c^2*k_z^2/((epsilon_xx + 4*I*pi*sigma_e_xx/omega)*omega^2) + 4*I*pi*sigma_m_yy/omega)*omega) - 1) - 4*I*pi*mu_xx*omega*sigma_e_zz/(k_z/(k_z - epsilon_xx*mu_yy*omega^2/(c^2*k_z) - 4*I*pi*mu_yy*omega*sigma_e_xx/(c^2*k_z) - 4*I*pi*epsilon_xx*omega*sigma_m_yy/(c^2*k_z) + 16*pi^2*sigma_e_xx*sigma_m_yy/(c^2*k_z)) - mu_xx/(mu_yy - c^2*k_z^2/((epsilon_xx + 4*I*pi*sigma_e_xx/omega)*omega^2) + 4*I*pi*sigma_m_yy/omega) + mu_yy/(mu_yy - c^2*k_z^2/((epsilon_xx + 4*I*pi*sigma_e_xx/omega)*omega^2) + 4*I*pi*sigma_m_yy/omega) - 4*I*pi*sigma_m_xx/((mu_yy - c^2*k_z^2/((epsilon_xx + 4*I*pi*sigma_e_xx/omega)*omega^2) + 4*I*pi*sigma_m_yy/omega)*omega) + 4*I*pi*sigma_m_yy/((mu_yy - c^2*k_z^2/((epsilon_xx + 4*I*pi*sigma_e_xx/omega)*omega^2) + 4*I*pi*sigma_m_yy/omega)*omega) - 1) - 4*I*pi*epsilon_zz*omega*sigma_m_xx/(k_z/(k_z - epsilon_xx*mu_yy*omega^2/(c^2*k_z) - 4*I*pi*mu_yy*omega*sigma_e_xx/(c^2*k_z) - 4*I*pi*epsilon_xx*omega*sigma_m_yy/(c^2*k_z) + 16*pi^2*sigma_e_xx*sigma_m_yy/(c^2*k_z)) - mu_xx/(mu_yy - c^2*k_z^2/((epsilon_xx + 4*I*pi*sigma_e_xx/omega)*omega^2) + 4*I*pi*sigma_m_yy/omega) + mu_yy/(mu_yy - c^2*k_z^2/((epsilon_xx + 4*I*pi*sigma_e_xx/omega)*omega^2) + 4*I*pi*sigma_m_yy/omega) - 4*I*pi*sigma_m_xx/((mu_yy - c^2*k_z^2/((epsilon_xx + 4*I*pi*sigma_e_xx/omega)*omega^2) + 4*I*pi*sigma_m_yy/omega)*omega) + 4*I*pi*sigma_m_yy/((mu_yy - c^2*k_z^2/((epsilon_xx + 4*I*pi*sigma_e_xx/omega)*omega^2) + 4*I*pi*sigma_m_yy/omega)*omega) - 1) + 16*pi^2*sigma_e_zz*sigma_m_xx/(k_z/(k_z - epsilon_xx*mu_yy*omega^2/(c^2*k_z) - 4*I*pi*mu_yy*omega*sigma_e_xx/(c^2*k_z) - 4*I*pi*epsilon_xx*omega*sigma_m_yy/(c^2*k_z) + 16*pi^2*sigma_e_xx*sigma_m_yy/(c^2*k_z)) - mu_xx/(mu_yy - c^2*k_z^2/((epsilon_xx + 4*I*pi*sigma_e_xx/omega)*omega^2) + 4*I*pi*sigma_m_yy/omega) + mu_yy/(mu_yy - c^2*k_z^2/((epsilon_xx + 4*I*pi*sigma_e_xx/omega)*omega^2) + 4*I*pi*sigma_m_yy/omega) - 4*I*pi*sigma_m_xx/((mu_yy - c^2*k_z^2/((epsilon_xx + 4*I*pi*sigma_e_xx/omega)*omega^2) + 4*I*pi*sigma_m_yy/omega)*omega) + 4*I*pi*sigma_m_yy/((mu_yy - c^2*k_z^2/((epsilon_xx + 4*I*pi*sigma_e_xx/omega)*omega^2) + 4*I*pi*sigma_m_yy/omega)*omega) - 1))*x/c)/c"
      ]
     },
     "metadata": {},
     "output_type": "display_data"
    }
   ],
   "source": [
    "grad_div_E_z \\\n",
    "    = I * k_z * E_bad_conductor_sol_x(x).subs(K_conductor_subs).diff(x).expand() \\\n",
    "    - k_z^2   * E_bad_conductor_sol_z(x).subs(K_conductor_subs).expand()\n",
    "grad_div_E_z"
   ]
  },
  {
   "cell_type": "code",
   "execution_count": 238,
   "metadata": {},
   "outputs": [
    {
     "data": {
      "text/html": [
       "<html>\\(\\displaystyle i \\, \\mathit{B1}_{z} k_{z}^{2} e^{\\left(\\frac{i \\, \\sqrt{-\\frac{\\epsilon_{\\mathit{zz}} \\mu_{\\mathit{xx}} \\omega^{2}}{\\frac{k_{z}}{k_{z} - \\frac{\\epsilon_{\\mathit{xx}} \\mu_{\\mathit{yy}} \\omega^{2}}{c^{2} k_{z}} - \\frac{4 i \\, \\pi \\mu_{\\mathit{yy}} \\omega \\sigma_{e_{\\mathit{xx}}}}{c^{2} k_{z}} - \\frac{4 i \\, \\pi \\epsilon_{\\mathit{xx}} \\omega \\sigma_{m_{\\mathit{yy}}}}{c^{2} k_{z}} + \\frac{16 \\, \\pi^{2} \\sigma_{e_{\\mathit{xx}}} \\sigma_{m_{\\mathit{yy}}}}{c^{2} k_{z}}} - \\frac{\\mu_{\\mathit{xx}}}{\\mu_{\\mathit{yy}} - \\frac{c^{2} k_{z}^{2}}{{\\left(\\epsilon_{\\mathit{xx}} + \\frac{4 i \\, \\pi \\sigma_{e_{\\mathit{xx}}}}{\\omega}\\right)} \\omega^{2}} + \\frac{4 i \\, \\pi \\sigma_{m_{\\mathit{yy}}}}{\\omega}} + \\frac{\\mu_{\\mathit{yy}}}{\\mu_{\\mathit{yy}} - \\frac{c^{2} k_{z}^{2}}{{\\left(\\epsilon_{\\mathit{xx}} + \\frac{4 i \\, \\pi \\sigma_{e_{\\mathit{xx}}}}{\\omega}\\right)} \\omega^{2}} + \\frac{4 i \\, \\pi \\sigma_{m_{\\mathit{yy}}}}{\\omega}} - \\frac{4 i \\, \\pi \\sigma_{m_{\\mathit{xx}}}}{{\\left(\\mu_{\\mathit{yy}} - \\frac{c^{2} k_{z}^{2}}{{\\left(\\epsilon_{\\mathit{xx}} + \\frac{4 i \\, \\pi \\sigma_{e_{\\mathit{xx}}}}{\\omega}\\right)} \\omega^{2}} + \\frac{4 i \\, \\pi \\sigma_{m_{\\mathit{yy}}}}{\\omega}\\right)} \\omega} + \\frac{4 i \\, \\pi \\sigma_{m_{\\mathit{yy}}}}{{\\left(\\mu_{\\mathit{yy}} - \\frac{c^{2} k_{z}^{2}}{{\\left(\\epsilon_{\\mathit{xx}} + \\frac{4 i \\, \\pi \\sigma_{e_{\\mathit{xx}}}}{\\omega}\\right)} \\omega^{2}} + \\frac{4 i \\, \\pi \\sigma_{m_{\\mathit{yy}}}}{\\omega}\\right)} \\omega} - 1} - \\frac{4 i \\, \\pi \\mu_{\\mathit{xx}} \\omega \\sigma_{e_{\\mathit{zz}}}}{\\frac{k_{z}}{k_{z} - \\frac{\\epsilon_{\\mathit{xx}} \\mu_{\\mathit{yy}} \\omega^{2}}{c^{2} k_{z}} - \\frac{4 i \\, \\pi \\mu_{\\mathit{yy}} \\omega \\sigma_{e_{\\mathit{xx}}}}{c^{2} k_{z}} - \\frac{4 i \\, \\pi \\epsilon_{\\mathit{xx}} \\omega \\sigma_{m_{\\mathit{yy}}}}{c^{2} k_{z}} + \\frac{16 \\, \\pi^{2} \\sigma_{e_{\\mathit{xx}}} \\sigma_{m_{\\mathit{yy}}}}{c^{2} k_{z}}} - \\frac{\\mu_{\\mathit{xx}}}{\\mu_{\\mathit{yy}} - \\frac{c^{2} k_{z}^{2}}{{\\left(\\epsilon_{\\mathit{xx}} + \\frac{4 i \\, \\pi \\sigma_{e_{\\mathit{xx}}}}{\\omega}\\right)} \\omega^{2}} + \\frac{4 i \\, \\pi \\sigma_{m_{\\mathit{yy}}}}{\\omega}} + \\frac{\\mu_{\\mathit{yy}}}{\\mu_{\\mathit{yy}} - \\frac{c^{2} k_{z}^{2}}{{\\left(\\epsilon_{\\mathit{xx}} + \\frac{4 i \\, \\pi \\sigma_{e_{\\mathit{xx}}}}{\\omega}\\right)} \\omega^{2}} + \\frac{4 i \\, \\pi \\sigma_{m_{\\mathit{yy}}}}{\\omega}} - \\frac{4 i \\, \\pi \\sigma_{m_{\\mathit{xx}}}}{{\\left(\\mu_{\\mathit{yy}} - \\frac{c^{2} k_{z}^{2}}{{\\left(\\epsilon_{\\mathit{xx}} + \\frac{4 i \\, \\pi \\sigma_{e_{\\mathit{xx}}}}{\\omega}\\right)} \\omega^{2}} + \\frac{4 i \\, \\pi \\sigma_{m_{\\mathit{yy}}}}{\\omega}\\right)} \\omega} + \\frac{4 i \\, \\pi \\sigma_{m_{\\mathit{yy}}}}{{\\left(\\mu_{\\mathit{yy}} - \\frac{c^{2} k_{z}^{2}}{{\\left(\\epsilon_{\\mathit{xx}} + \\frac{4 i \\, \\pi \\sigma_{e_{\\mathit{xx}}}}{\\omega}\\right)} \\omega^{2}} + \\frac{4 i \\, \\pi \\sigma_{m_{\\mathit{yy}}}}{\\omega}\\right)} \\omega} - 1} - \\frac{4 i \\, \\pi \\epsilon_{\\mathit{zz}} \\omega \\sigma_{m_{\\mathit{xx}}}}{\\frac{k_{z}}{k_{z} - \\frac{\\epsilon_{\\mathit{xx}} \\mu_{\\mathit{yy}} \\omega^{2}}{c^{2} k_{z}} - \\frac{4 i \\, \\pi \\mu_{\\mathit{yy}} \\omega \\sigma_{e_{\\mathit{xx}}}}{c^{2} k_{z}} - \\frac{4 i \\, \\pi \\epsilon_{\\mathit{xx}} \\omega \\sigma_{m_{\\mathit{yy}}}}{c^{2} k_{z}} + \\frac{16 \\, \\pi^{2} \\sigma_{e_{\\mathit{xx}}} \\sigma_{m_{\\mathit{yy}}}}{c^{2} k_{z}}} - \\frac{\\mu_{\\mathit{xx}}}{\\mu_{\\mathit{yy}} - \\frac{c^{2} k_{z}^{2}}{{\\left(\\epsilon_{\\mathit{xx}} + \\frac{4 i \\, \\pi \\sigma_{e_{\\mathit{xx}}}}{\\omega}\\right)} \\omega^{2}} + \\frac{4 i \\, \\pi \\sigma_{m_{\\mathit{yy}}}}{\\omega}} + \\frac{\\mu_{\\mathit{yy}}}{\\mu_{\\mathit{yy}} - \\frac{c^{2} k_{z}^{2}}{{\\left(\\epsilon_{\\mathit{xx}} + \\frac{4 i \\, \\pi \\sigma_{e_{\\mathit{xx}}}}{\\omega}\\right)} \\omega^{2}} + \\frac{4 i \\, \\pi \\sigma_{m_{\\mathit{yy}}}}{\\omega}} - \\frac{4 i \\, \\pi \\sigma_{m_{\\mathit{xx}}}}{{\\left(\\mu_{\\mathit{yy}} - \\frac{c^{2} k_{z}^{2}}{{\\left(\\epsilon_{\\mathit{xx}} + \\frac{4 i \\, \\pi \\sigma_{e_{\\mathit{xx}}}}{\\omega}\\right)} \\omega^{2}} + \\frac{4 i \\, \\pi \\sigma_{m_{\\mathit{yy}}}}{\\omega}\\right)} \\omega} + \\frac{4 i \\, \\pi \\sigma_{m_{\\mathit{yy}}}}{{\\left(\\mu_{\\mathit{yy}} - \\frac{c^{2} k_{z}^{2}}{{\\left(\\epsilon_{\\mathit{xx}} + \\frac{4 i \\, \\pi \\sigma_{e_{\\mathit{xx}}}}{\\omega}\\right)} \\omega^{2}} + \\frac{4 i \\, \\pi \\sigma_{m_{\\mathit{yy}}}}{\\omega}\\right)} \\omega} - 1} + \\frac{16 \\, \\pi^{2} \\sigma_{e_{\\mathit{zz}}} \\sigma_{m_{\\mathit{xx}}}}{\\frac{k_{z}}{k_{z} - \\frac{\\epsilon_{\\mathit{xx}} \\mu_{\\mathit{yy}} \\omega^{2}}{c^{2} k_{z}} - \\frac{4 i \\, \\pi \\mu_{\\mathit{yy}} \\omega \\sigma_{e_{\\mathit{xx}}}}{c^{2} k_{z}} - \\frac{4 i \\, \\pi \\epsilon_{\\mathit{xx}} \\omega \\sigma_{m_{\\mathit{yy}}}}{c^{2} k_{z}} + \\frac{16 \\, \\pi^{2} \\sigma_{e_{\\mathit{xx}}} \\sigma_{m_{\\mathit{yy}}}}{c^{2} k_{z}}} - \\frac{\\mu_{\\mathit{xx}}}{\\mu_{\\mathit{yy}} - \\frac{c^{2} k_{z}^{2}}{{\\left(\\epsilon_{\\mathit{xx}} + \\frac{4 i \\, \\pi \\sigma_{e_{\\mathit{xx}}}}{\\omega}\\right)} \\omega^{2}} + \\frac{4 i \\, \\pi \\sigma_{m_{\\mathit{yy}}}}{\\omega}} + \\frac{\\mu_{\\mathit{yy}}}{\\mu_{\\mathit{yy}} - \\frac{c^{2} k_{z}^{2}}{{\\left(\\epsilon_{\\mathit{xx}} + \\frac{4 i \\, \\pi \\sigma_{e_{\\mathit{xx}}}}{\\omega}\\right)} \\omega^{2}} + \\frac{4 i \\, \\pi \\sigma_{m_{\\mathit{yy}}}}{\\omega}} - \\frac{4 i \\, \\pi \\sigma_{m_{\\mathit{xx}}}}{{\\left(\\mu_{\\mathit{yy}} - \\frac{c^{2} k_{z}^{2}}{{\\left(\\epsilon_{\\mathit{xx}} + \\frac{4 i \\, \\pi \\sigma_{e_{\\mathit{xx}}}}{\\omega}\\right)} \\omega^{2}} + \\frac{4 i \\, \\pi \\sigma_{m_{\\mathit{yy}}}}{\\omega}\\right)} \\omega} + \\frac{4 i \\, \\pi \\sigma_{m_{\\mathit{yy}}}}{{\\left(\\mu_{\\mathit{yy}} - \\frac{c^{2} k_{z}^{2}}{{\\left(\\epsilon_{\\mathit{xx}} + \\frac{4 i \\, \\pi \\sigma_{e_{\\mathit{xx}}}}{\\omega}\\right)} \\omega^{2}} + \\frac{4 i \\, \\pi \\sigma_{m_{\\mathit{yy}}}}{\\omega}\\right)} \\omega} - 1}} x}{c}\\right)} + \\frac{\\mathit{B1}_{x} \\epsilon_{\\mathit{zz}} \\mu_{\\mathit{xx}} \\omega^{2} e^{\\left(\\frac{i \\, \\sqrt{-\\frac{\\epsilon_{\\mathit{zz}} \\mu_{\\mathit{xx}} \\omega^{2}}{\\frac{k_{z}}{k_{z} - \\frac{\\epsilon_{\\mathit{xx}} \\mu_{\\mathit{yy}} \\omega^{2}}{c^{2} k_{z}} - \\frac{4 i \\, \\pi \\mu_{\\mathit{yy}} \\omega \\sigma_{e_{\\mathit{xx}}}}{c^{2} k_{z}} - \\frac{4 i \\, \\pi \\epsilon_{\\mathit{xx}} \\omega \\sigma_{m_{\\mathit{yy}}}}{c^{2} k_{z}} + \\frac{16 \\, \\pi^{2} \\sigma_{e_{\\mathit{xx}}} \\sigma_{m_{\\mathit{yy}}}}{c^{2} k_{z}}} - \\frac{\\mu_{\\mathit{xx}}}{\\mu_{\\mathit{yy}} - \\frac{c^{2} k_{z}^{2}}{{\\left(\\epsilon_{\\mathit{xx}} + \\frac{4 i \\, \\pi \\sigma_{e_{\\mathit{xx}}}}{\\omega}\\right)} \\omega^{2}} + \\frac{4 i \\, \\pi \\sigma_{m_{\\mathit{yy}}}}{\\omega}} + \\frac{\\mu_{\\mathit{yy}}}{\\mu_{\\mathit{yy}} - \\frac{c^{2} k_{z}^{2}}{{\\left(\\epsilon_{\\mathit{xx}} + \\frac{4 i \\, \\pi \\sigma_{e_{\\mathit{xx}}}}{\\omega}\\right)} \\omega^{2}} + \\frac{4 i \\, \\pi \\sigma_{m_{\\mathit{yy}}}}{\\omega}} - \\frac{4 i \\, \\pi \\sigma_{m_{\\mathit{xx}}}}{{\\left(\\mu_{\\mathit{yy}} - \\frac{c^{2} k_{z}^{2}}{{\\left(\\epsilon_{\\mathit{xx}} + \\frac{4 i \\, \\pi \\sigma_{e_{\\mathit{xx}}}}{\\omega}\\right)} \\omega^{2}} + \\frac{4 i \\, \\pi \\sigma_{m_{\\mathit{yy}}}}{\\omega}\\right)} \\omega} + \\frac{4 i \\, \\pi \\sigma_{m_{\\mathit{yy}}}}{{\\left(\\mu_{\\mathit{yy}} - \\frac{c^{2} k_{z}^{2}}{{\\left(\\epsilon_{\\mathit{xx}} + \\frac{4 i \\, \\pi \\sigma_{e_{\\mathit{xx}}}}{\\omega}\\right)} \\omega^{2}} + \\frac{4 i \\, \\pi \\sigma_{m_{\\mathit{yy}}}}{\\omega}\\right)} \\omega} - 1} - \\frac{4 i \\, \\pi \\mu_{\\mathit{xx}} \\omega \\sigma_{e_{\\mathit{zz}}}}{\\frac{k_{z}}{k_{z} - \\frac{\\epsilon_{\\mathit{xx}} \\mu_{\\mathit{yy}} \\omega^{2}}{c^{2} k_{z}} - \\frac{4 i \\, \\pi \\mu_{\\mathit{yy}} \\omega \\sigma_{e_{\\mathit{xx}}}}{c^{2} k_{z}} - \\frac{4 i \\, \\pi \\epsilon_{\\mathit{xx}} \\omega \\sigma_{m_{\\mathit{yy}}}}{c^{2} k_{z}} + \\frac{16 \\, \\pi^{2} \\sigma_{e_{\\mathit{xx}}} \\sigma_{m_{\\mathit{yy}}}}{c^{2} k_{z}}} - \\frac{\\mu_{\\mathit{xx}}}{\\mu_{\\mathit{yy}} - \\frac{c^{2} k_{z}^{2}}{{\\left(\\epsilon_{\\mathit{xx}} + \\frac{4 i \\, \\pi \\sigma_{e_{\\mathit{xx}}}}{\\omega}\\right)} \\omega^{2}} + \\frac{4 i \\, \\pi \\sigma_{m_{\\mathit{yy}}}}{\\omega}} + \\frac{\\mu_{\\mathit{yy}}}{\\mu_{\\mathit{yy}} - \\frac{c^{2} k_{z}^{2}}{{\\left(\\epsilon_{\\mathit{xx}} + \\frac{4 i \\, \\pi \\sigma_{e_{\\mathit{xx}}}}{\\omega}\\right)} \\omega^{2}} + \\frac{4 i \\, \\pi \\sigma_{m_{\\mathit{yy}}}}{\\omega}} - \\frac{4 i \\, \\pi \\sigma_{m_{\\mathit{xx}}}}{{\\left(\\mu_{\\mathit{yy}} - \\frac{c^{2} k_{z}^{2}}{{\\left(\\epsilon_{\\mathit{xx}} + \\frac{4 i \\, \\pi \\sigma_{e_{\\mathit{xx}}}}{\\omega}\\right)} \\omega^{2}} + \\frac{4 i \\, \\pi \\sigma_{m_{\\mathit{yy}}}}{\\omega}\\right)} \\omega} + \\frac{4 i \\, \\pi \\sigma_{m_{\\mathit{yy}}}}{{\\left(\\mu_{\\mathit{yy}} - \\frac{c^{2} k_{z}^{2}}{{\\left(\\epsilon_{\\mathit{xx}} + \\frac{4 i \\, \\pi \\sigma_{e_{\\mathit{xx}}}}{\\omega}\\right)} \\omega^{2}} + \\frac{4 i \\, \\pi \\sigma_{m_{\\mathit{yy}}}}{\\omega}\\right)} \\omega} - 1} - \\frac{4 i \\, \\pi \\epsilon_{\\mathit{zz}} \\omega \\sigma_{m_{\\mathit{xx}}}}{\\frac{k_{z}}{k_{z} - \\frac{\\epsilon_{\\mathit{xx}} \\mu_{\\mathit{yy}} \\omega^{2}}{c^{2} k_{z}} - \\frac{4 i \\, \\pi \\mu_{\\mathit{yy}} \\omega \\sigma_{e_{\\mathit{xx}}}}{c^{2} k_{z}} - \\frac{4 i \\, \\pi \\epsilon_{\\mathit{xx}} \\omega \\sigma_{m_{\\mathit{yy}}}}{c^{2} k_{z}} + \\frac{16 \\, \\pi^{2} \\sigma_{e_{\\mathit{xx}}} \\sigma_{m_{\\mathit{yy}}}}{c^{2} k_{z}}} - \\frac{\\mu_{\\mathit{xx}}}{\\mu_{\\mathit{yy}} - \\frac{c^{2} k_{z}^{2}}{{\\left(\\epsilon_{\\mathit{xx}} + \\frac{4 i \\, \\pi \\sigma_{e_{\\mathit{xx}}}}{\\omega}\\right)} \\omega^{2}} + \\frac{4 i \\, \\pi \\sigma_{m_{\\mathit{yy}}}}{\\omega}} + \\frac{\\mu_{\\mathit{yy}}}{\\mu_{\\mathit{yy}} - \\frac{c^{2} k_{z}^{2}}{{\\left(\\epsilon_{\\mathit{xx}} + \\frac{4 i \\, \\pi \\sigma_{e_{\\mathit{xx}}}}{\\omega}\\right)} \\omega^{2}} + \\frac{4 i \\, \\pi \\sigma_{m_{\\mathit{yy}}}}{\\omega}} - \\frac{4 i \\, \\pi \\sigma_{m_{\\mathit{xx}}}}{{\\left(\\mu_{\\mathit{yy}} - \\frac{c^{2} k_{z}^{2}}{{\\left(\\epsilon_{\\mathit{xx}} + \\frac{4 i \\, \\pi \\sigma_{e_{\\mathit{xx}}}}{\\omega}\\right)} \\omega^{2}} + \\frac{4 i \\, \\pi \\sigma_{m_{\\mathit{yy}}}}{\\omega}\\right)} \\omega} + \\frac{4 i \\, \\pi \\sigma_{m_{\\mathit{yy}}}}{{\\left(\\mu_{\\mathit{yy}} - \\frac{c^{2} k_{z}^{2}}{{\\left(\\epsilon_{\\mathit{xx}} + \\frac{4 i \\, \\pi \\sigma_{e_{\\mathit{xx}}}}{\\omega}\\right)} \\omega^{2}} + \\frac{4 i \\, \\pi \\sigma_{m_{\\mathit{yy}}}}{\\omega}\\right)} \\omega} - 1} + \\frac{16 \\, \\pi^{2} \\sigma_{e_{\\mathit{zz}}} \\sigma_{m_{\\mathit{xx}}}}{\\frac{k_{z}}{k_{z} - \\frac{\\epsilon_{\\mathit{xx}} \\mu_{\\mathit{yy}} \\omega^{2}}{c^{2} k_{z}} - \\frac{4 i \\, \\pi \\mu_{\\mathit{yy}} \\omega \\sigma_{e_{\\mathit{xx}}}}{c^{2} k_{z}} - \\frac{4 i \\, \\pi \\epsilon_{\\mathit{xx}} \\omega \\sigma_{m_{\\mathit{yy}}}}{c^{2} k_{z}} + \\frac{16 \\, \\pi^{2} \\sigma_{e_{\\mathit{xx}}} \\sigma_{m_{\\mathit{yy}}}}{c^{2} k_{z}}} - \\frac{\\mu_{\\mathit{xx}}}{\\mu_{\\mathit{yy}} - \\frac{c^{2} k_{z}^{2}}{{\\left(\\epsilon_{\\mathit{xx}} + \\frac{4 i \\, \\pi \\sigma_{e_{\\mathit{xx}}}}{\\omega}\\right)} \\omega^{2}} + \\frac{4 i \\, \\pi \\sigma_{m_{\\mathit{yy}}}}{\\omega}} + \\frac{\\mu_{\\mathit{yy}}}{\\mu_{\\mathit{yy}} - \\frac{c^{2} k_{z}^{2}}{{\\left(\\epsilon_{\\mathit{xx}} + \\frac{4 i \\, \\pi \\sigma_{e_{\\mathit{xx}}}}{\\omega}\\right)} \\omega^{2}} + \\frac{4 i \\, \\pi \\sigma_{m_{\\mathit{yy}}}}{\\omega}} - \\frac{4 i \\, \\pi \\sigma_{m_{\\mathit{xx}}}}{{\\left(\\mu_{\\mathit{yy}} - \\frac{c^{2} k_{z}^{2}}{{\\left(\\epsilon_{\\mathit{xx}} + \\frac{4 i \\, \\pi \\sigma_{e_{\\mathit{xx}}}}{\\omega}\\right)} \\omega^{2}} + \\frac{4 i \\, \\pi \\sigma_{m_{\\mathit{yy}}}}{\\omega}\\right)} \\omega} + \\frac{4 i \\, \\pi \\sigma_{m_{\\mathit{yy}}}}{{\\left(\\mu_{\\mathit{yy}} - \\frac{c^{2} k_{z}^{2}}{{\\left(\\epsilon_{\\mathit{xx}} + \\frac{4 i \\, \\pi \\sigma_{e_{\\mathit{xx}}}}{\\omega}\\right)} \\omega^{2}} + \\frac{4 i \\, \\pi \\sigma_{m_{\\mathit{yy}}}}{\\omega}\\right)} \\omega} - 1}} x}{c}\\right)}}{c^{2} {\\left(\\frac{k_{z}}{k_{z} - \\frac{\\epsilon_{\\mathit{xx}} \\mu_{\\mathit{yy}} \\omega^{2}}{c^{2} k_{z}} - \\frac{4 i \\, \\pi \\mu_{\\mathit{yy}} \\omega \\sigma_{e_{\\mathit{xx}}}}{c^{2} k_{z}} - \\frac{4 i \\, \\pi \\epsilon_{\\mathit{xx}} \\omega \\sigma_{m_{\\mathit{yy}}}}{c^{2} k_{z}} + \\frac{16 \\, \\pi^{2} \\sigma_{e_{\\mathit{xx}}} \\sigma_{m_{\\mathit{yy}}}}{c^{2} k_{z}}} - \\frac{\\mu_{\\mathit{xx}}}{\\mu_{\\mathit{yy}} - \\frac{c^{2} k_{z}^{2}}{{\\left(\\epsilon_{\\mathit{xx}} + \\frac{4 i \\, \\pi \\sigma_{e_{\\mathit{xx}}}}{\\omega}\\right)} \\omega^{2}} + \\frac{4 i \\, \\pi \\sigma_{m_{\\mathit{yy}}}}{\\omega}} + \\frac{\\mu_{\\mathit{yy}}}{\\mu_{\\mathit{yy}} - \\frac{c^{2} k_{z}^{2}}{{\\left(\\epsilon_{\\mathit{xx}} + \\frac{4 i \\, \\pi \\sigma_{e_{\\mathit{xx}}}}{\\omega}\\right)} \\omega^{2}} + \\frac{4 i \\, \\pi \\sigma_{m_{\\mathit{yy}}}}{\\omega}} - \\frac{4 i \\, \\pi \\sigma_{m_{\\mathit{xx}}}}{{\\left(\\mu_{\\mathit{yy}} - \\frac{c^{2} k_{z}^{2}}{{\\left(\\epsilon_{\\mathit{xx}} + \\frac{4 i \\, \\pi \\sigma_{e_{\\mathit{xx}}}}{\\omega}\\right)} \\omega^{2}} + \\frac{4 i \\, \\pi \\sigma_{m_{\\mathit{yy}}}}{\\omega}\\right)} \\omega} + \\frac{4 i \\, \\pi \\sigma_{m_{\\mathit{yy}}}}{{\\left(\\mu_{\\mathit{yy}} - \\frac{c^{2} k_{z}^{2}}{{\\left(\\epsilon_{\\mathit{xx}} + \\frac{4 i \\, \\pi \\sigma_{e_{\\mathit{xx}}}}{\\omega}\\right)} \\omega^{2}} + \\frac{4 i \\, \\pi \\sigma_{m_{\\mathit{yy}}}}{\\omega}\\right)} \\omega} - 1\\right)}} + \\frac{4 i \\, \\pi \\mathit{B1}_{x} \\mu_{\\mathit{xx}} \\omega \\sigma_{e_{\\mathit{zz}}} e^{\\left(\\frac{i \\, \\sqrt{-\\frac{\\epsilon_{\\mathit{zz}} \\mu_{\\mathit{xx}} \\omega^{2}}{\\frac{k_{z}}{k_{z} - \\frac{\\epsilon_{\\mathit{xx}} \\mu_{\\mathit{yy}} \\omega^{2}}{c^{2} k_{z}} - \\frac{4 i \\, \\pi \\mu_{\\mathit{yy}} \\omega \\sigma_{e_{\\mathit{xx}}}}{c^{2} k_{z}} - \\frac{4 i \\, \\pi \\epsilon_{\\mathit{xx}} \\omega \\sigma_{m_{\\mathit{yy}}}}{c^{2} k_{z}} + \\frac{16 \\, \\pi^{2} \\sigma_{e_{\\mathit{xx}}} \\sigma_{m_{\\mathit{yy}}}}{c^{2} k_{z}}} - \\frac{\\mu_{\\mathit{xx}}}{\\mu_{\\mathit{yy}} - \\frac{c^{2} k_{z}^{2}}{{\\left(\\epsilon_{\\mathit{xx}} + \\frac{4 i \\, \\pi \\sigma_{e_{\\mathit{xx}}}}{\\omega}\\right)} \\omega^{2}} + \\frac{4 i \\, \\pi \\sigma_{m_{\\mathit{yy}}}}{\\omega}} + \\frac{\\mu_{\\mathit{yy}}}{\\mu_{\\mathit{yy}} - \\frac{c^{2} k_{z}^{2}}{{\\left(\\epsilon_{\\mathit{xx}} + \\frac{4 i \\, \\pi \\sigma_{e_{\\mathit{xx}}}}{\\omega}\\right)} \\omega^{2}} + \\frac{4 i \\, \\pi \\sigma_{m_{\\mathit{yy}}}}{\\omega}} - \\frac{4 i \\, \\pi \\sigma_{m_{\\mathit{xx}}}}{{\\left(\\mu_{\\mathit{yy}} - \\frac{c^{2} k_{z}^{2}}{{\\left(\\epsilon_{\\mathit{xx}} + \\frac{4 i \\, \\pi \\sigma_{e_{\\mathit{xx}}}}{\\omega}\\right)} \\omega^{2}} + \\frac{4 i \\, \\pi \\sigma_{m_{\\mathit{yy}}}}{\\omega}\\right)} \\omega} + \\frac{4 i \\, \\pi \\sigma_{m_{\\mathit{yy}}}}{{\\left(\\mu_{\\mathit{yy}} - \\frac{c^{2} k_{z}^{2}}{{\\left(\\epsilon_{\\mathit{xx}} + \\frac{4 i \\, \\pi \\sigma_{e_{\\mathit{xx}}}}{\\omega}\\right)} \\omega^{2}} + \\frac{4 i \\, \\pi \\sigma_{m_{\\mathit{yy}}}}{\\omega}\\right)} \\omega} - 1} - \\frac{4 i \\, \\pi \\mu_{\\mathit{xx}} \\omega \\sigma_{e_{\\mathit{zz}}}}{\\frac{k_{z}}{k_{z} - \\frac{\\epsilon_{\\mathit{xx}} \\mu_{\\mathit{yy}} \\omega^{2}}{c^{2} k_{z}} - \\frac{4 i \\, \\pi \\mu_{\\mathit{yy}} \\omega \\sigma_{e_{\\mathit{xx}}}}{c^{2} k_{z}} - \\frac{4 i \\, \\pi \\epsilon_{\\mathit{xx}} \\omega \\sigma_{m_{\\mathit{yy}}}}{c^{2} k_{z}} + \\frac{16 \\, \\pi^{2} \\sigma_{e_{\\mathit{xx}}} \\sigma_{m_{\\mathit{yy}}}}{c^{2} k_{z}}} - \\frac{\\mu_{\\mathit{xx}}}{\\mu_{\\mathit{yy}} - \\frac{c^{2} k_{z}^{2}}{{\\left(\\epsilon_{\\mathit{xx}} + \\frac{4 i \\, \\pi \\sigma_{e_{\\mathit{xx}}}}{\\omega}\\right)} \\omega^{2}} + \\frac{4 i \\, \\pi \\sigma_{m_{\\mathit{yy}}}}{\\omega}} + \\frac{\\mu_{\\mathit{yy}}}{\\mu_{\\mathit{yy}} - \\frac{c^{2} k_{z}^{2}}{{\\left(\\epsilon_{\\mathit{xx}} + \\frac{4 i \\, \\pi \\sigma_{e_{\\mathit{xx}}}}{\\omega}\\right)} \\omega^{2}} + \\frac{4 i \\, \\pi \\sigma_{m_{\\mathit{yy}}}}{\\omega}} - \\frac{4 i \\, \\pi \\sigma_{m_{\\mathit{xx}}}}{{\\left(\\mu_{\\mathit{yy}} - \\frac{c^{2} k_{z}^{2}}{{\\left(\\epsilon_{\\mathit{xx}} + \\frac{4 i \\, \\pi \\sigma_{e_{\\mathit{xx}}}}{\\omega}\\right)} \\omega^{2}} + \\frac{4 i \\, \\pi \\sigma_{m_{\\mathit{yy}}}}{\\omega}\\right)} \\omega} + \\frac{4 i \\, \\pi \\sigma_{m_{\\mathit{yy}}}}{{\\left(\\mu_{\\mathit{yy}} - \\frac{c^{2} k_{z}^{2}}{{\\left(\\epsilon_{\\mathit{xx}} + \\frac{4 i \\, \\pi \\sigma_{e_{\\mathit{xx}}}}{\\omega}\\right)} \\omega^{2}} + \\frac{4 i \\, \\pi \\sigma_{m_{\\mathit{yy}}}}{\\omega}\\right)} \\omega} - 1} - \\frac{4 i \\, \\pi \\epsilon_{\\mathit{zz}} \\omega \\sigma_{m_{\\mathit{xx}}}}{\\frac{k_{z}}{k_{z} - \\frac{\\epsilon_{\\mathit{xx}} \\mu_{\\mathit{yy}} \\omega^{2}}{c^{2} k_{z}} - \\frac{4 i \\, \\pi \\mu_{\\mathit{yy}} \\omega \\sigma_{e_{\\mathit{xx}}}}{c^{2} k_{z}} - \\frac{4 i \\, \\pi \\epsilon_{\\mathit{xx}} \\omega \\sigma_{m_{\\mathit{yy}}}}{c^{2} k_{z}} + \\frac{16 \\, \\pi^{2} \\sigma_{e_{\\mathit{xx}}} \\sigma_{m_{\\mathit{yy}}}}{c^{2} k_{z}}} - \\frac{\\mu_{\\mathit{xx}}}{\\mu_{\\mathit{yy}} - \\frac{c^{2} k_{z}^{2}}{{\\left(\\epsilon_{\\mathit{xx}} + \\frac{4 i \\, \\pi \\sigma_{e_{\\mathit{xx}}}}{\\omega}\\right)} \\omega^{2}} + \\frac{4 i \\, \\pi \\sigma_{m_{\\mathit{yy}}}}{\\omega}} + \\frac{\\mu_{\\mathit{yy}}}{\\mu_{\\mathit{yy}} - \\frac{c^{2} k_{z}^{2}}{{\\left(\\epsilon_{\\mathit{xx}} + \\frac{4 i \\, \\pi \\sigma_{e_{\\mathit{xx}}}}{\\omega}\\right)} \\omega^{2}} + \\frac{4 i \\, \\pi \\sigma_{m_{\\mathit{yy}}}}{\\omega}} - \\frac{4 i \\, \\pi \\sigma_{m_{\\mathit{xx}}}}{{\\left(\\mu_{\\mathit{yy}} - \\frac{c^{2} k_{z}^{2}}{{\\left(\\epsilon_{\\mathit{xx}} + \\frac{4 i \\, \\pi \\sigma_{e_{\\mathit{xx}}}}{\\omega}\\right)} \\omega^{2}} + \\frac{4 i \\, \\pi \\sigma_{m_{\\mathit{yy}}}}{\\omega}\\right)} \\omega} + \\frac{4 i \\, \\pi \\sigma_{m_{\\mathit{yy}}}}{{\\left(\\mu_{\\mathit{yy}} - \\frac{c^{2} k_{z}^{2}}{{\\left(\\epsilon_{\\mathit{xx}} + \\frac{4 i \\, \\pi \\sigma_{e_{\\mathit{xx}}}}{\\omega}\\right)} \\omega^{2}} + \\frac{4 i \\, \\pi \\sigma_{m_{\\mathit{yy}}}}{\\omega}\\right)} \\omega} - 1} + \\frac{16 \\, \\pi^{2} \\sigma_{e_{\\mathit{zz}}} \\sigma_{m_{\\mathit{xx}}}}{\\frac{k_{z}}{k_{z} - \\frac{\\epsilon_{\\mathit{xx}} \\mu_{\\mathit{yy}} \\omega^{2}}{c^{2} k_{z}} - \\frac{4 i \\, \\pi \\mu_{\\mathit{yy}} \\omega \\sigma_{e_{\\mathit{xx}}}}{c^{2} k_{z}} - \\frac{4 i \\, \\pi \\epsilon_{\\mathit{xx}} \\omega \\sigma_{m_{\\mathit{yy}}}}{c^{2} k_{z}} + \\frac{16 \\, \\pi^{2} \\sigma_{e_{\\mathit{xx}}} \\sigma_{m_{\\mathit{yy}}}}{c^{2} k_{z}}} - \\frac{\\mu_{\\mathit{xx}}}{\\mu_{\\mathit{yy}} - \\frac{c^{2} k_{z}^{2}}{{\\left(\\epsilon_{\\mathit{xx}} + \\frac{4 i \\, \\pi \\sigma_{e_{\\mathit{xx}}}}{\\omega}\\right)} \\omega^{2}} + \\frac{4 i \\, \\pi \\sigma_{m_{\\mathit{yy}}}}{\\omega}} + \\frac{\\mu_{\\mathit{yy}}}{\\mu_{\\mathit{yy}} - \\frac{c^{2} k_{z}^{2}}{{\\left(\\epsilon_{\\mathit{xx}} + \\frac{4 i \\, \\pi \\sigma_{e_{\\mathit{xx}}}}{\\omega}\\right)} \\omega^{2}} + \\frac{4 i \\, \\pi \\sigma_{m_{\\mathit{yy}}}}{\\omega}} - \\frac{4 i \\, \\pi \\sigma_{m_{\\mathit{xx}}}}{{\\left(\\mu_{\\mathit{yy}} - \\frac{c^{2} k_{z}^{2}}{{\\left(\\epsilon_{\\mathit{xx}} + \\frac{4 i \\, \\pi \\sigma_{e_{\\mathit{xx}}}}{\\omega}\\right)} \\omega^{2}} + \\frac{4 i \\, \\pi \\sigma_{m_{\\mathit{yy}}}}{\\omega}\\right)} \\omega} + \\frac{4 i \\, \\pi \\sigma_{m_{\\mathit{yy}}}}{{\\left(\\mu_{\\mathit{yy}} - \\frac{c^{2} k_{z}^{2}}{{\\left(\\epsilon_{\\mathit{xx}} + \\frac{4 i \\, \\pi \\sigma_{e_{\\mathit{xx}}}}{\\omega}\\right)} \\omega^{2}} + \\frac{4 i \\, \\pi \\sigma_{m_{\\mathit{yy}}}}{\\omega}\\right)} \\omega} - 1}} x}{c}\\right)}}{c^{2} {\\left(\\frac{k_{z}}{k_{z} - \\frac{\\epsilon_{\\mathit{xx}} \\mu_{\\mathit{yy}} \\omega^{2}}{c^{2} k_{z}} - \\frac{4 i \\, \\pi \\mu_{\\mathit{yy}} \\omega \\sigma_{e_{\\mathit{xx}}}}{c^{2} k_{z}} - \\frac{4 i \\, \\pi \\epsilon_{\\mathit{xx}} \\omega \\sigma_{m_{\\mathit{yy}}}}{c^{2} k_{z}} + \\frac{16 \\, \\pi^{2} \\sigma_{e_{\\mathit{xx}}} \\sigma_{m_{\\mathit{yy}}}}{c^{2} k_{z}}} - \\frac{\\mu_{\\mathit{xx}}}{\\mu_{\\mathit{yy}} - \\frac{c^{2} k_{z}^{2}}{{\\left(\\epsilon_{\\mathit{xx}} + \\frac{4 i \\, \\pi \\sigma_{e_{\\mathit{xx}}}}{\\omega}\\right)} \\omega^{2}} + \\frac{4 i \\, \\pi \\sigma_{m_{\\mathit{yy}}}}{\\omega}} + \\frac{\\mu_{\\mathit{yy}}}{\\mu_{\\mathit{yy}} - \\frac{c^{2} k_{z}^{2}}{{\\left(\\epsilon_{\\mathit{xx}} + \\frac{4 i \\, \\pi \\sigma_{e_{\\mathit{xx}}}}{\\omega}\\right)} \\omega^{2}} + \\frac{4 i \\, \\pi \\sigma_{m_{\\mathit{yy}}}}{\\omega}} - \\frac{4 i \\, \\pi \\sigma_{m_{\\mathit{xx}}}}{{\\left(\\mu_{\\mathit{yy}} - \\frac{c^{2} k_{z}^{2}}{{\\left(\\epsilon_{\\mathit{xx}} + \\frac{4 i \\, \\pi \\sigma_{e_{\\mathit{xx}}}}{\\omega}\\right)} \\omega^{2}} + \\frac{4 i \\, \\pi \\sigma_{m_{\\mathit{yy}}}}{\\omega}\\right)} \\omega} + \\frac{4 i \\, \\pi \\sigma_{m_{\\mathit{yy}}}}{{\\left(\\mu_{\\mathit{yy}} - \\frac{c^{2} k_{z}^{2}}{{\\left(\\epsilon_{\\mathit{xx}} + \\frac{4 i \\, \\pi \\sigma_{e_{\\mathit{xx}}}}{\\omega}\\right)} \\omega^{2}} + \\frac{4 i \\, \\pi \\sigma_{m_{\\mathit{yy}}}}{\\omega}\\right)} \\omega} - 1\\right)}} + \\frac{4 i \\, \\pi \\mathit{B1}_{x} \\epsilon_{\\mathit{zz}} \\omega \\sigma_{m_{\\mathit{xx}}} e^{\\left(\\frac{i \\, \\sqrt{-\\frac{\\epsilon_{\\mathit{zz}} \\mu_{\\mathit{xx}} \\omega^{2}}{\\frac{k_{z}}{k_{z} - \\frac{\\epsilon_{\\mathit{xx}} \\mu_{\\mathit{yy}} \\omega^{2}}{c^{2} k_{z}} - \\frac{4 i \\, \\pi \\mu_{\\mathit{yy}} \\omega \\sigma_{e_{\\mathit{xx}}}}{c^{2} k_{z}} - \\frac{4 i \\, \\pi \\epsilon_{\\mathit{xx}} \\omega \\sigma_{m_{\\mathit{yy}}}}{c^{2} k_{z}} + \\frac{16 \\, \\pi^{2} \\sigma_{e_{\\mathit{xx}}} \\sigma_{m_{\\mathit{yy}}}}{c^{2} k_{z}}} - \\frac{\\mu_{\\mathit{xx}}}{\\mu_{\\mathit{yy}} - \\frac{c^{2} k_{z}^{2}}{{\\left(\\epsilon_{\\mathit{xx}} + \\frac{4 i \\, \\pi \\sigma_{e_{\\mathit{xx}}}}{\\omega}\\right)} \\omega^{2}} + \\frac{4 i \\, \\pi \\sigma_{m_{\\mathit{yy}}}}{\\omega}} + \\frac{\\mu_{\\mathit{yy}}}{\\mu_{\\mathit{yy}} - \\frac{c^{2} k_{z}^{2}}{{\\left(\\epsilon_{\\mathit{xx}} + \\frac{4 i \\, \\pi \\sigma_{e_{\\mathit{xx}}}}{\\omega}\\right)} \\omega^{2}} + \\frac{4 i \\, \\pi \\sigma_{m_{\\mathit{yy}}}}{\\omega}} - \\frac{4 i \\, \\pi \\sigma_{m_{\\mathit{xx}}}}{{\\left(\\mu_{\\mathit{yy}} - \\frac{c^{2} k_{z}^{2}}{{\\left(\\epsilon_{\\mathit{xx}} + \\frac{4 i \\, \\pi \\sigma_{e_{\\mathit{xx}}}}{\\omega}\\right)} \\omega^{2}} + \\frac{4 i \\, \\pi \\sigma_{m_{\\mathit{yy}}}}{\\omega}\\right)} \\omega} + \\frac{4 i \\, \\pi \\sigma_{m_{\\mathit{yy}}}}{{\\left(\\mu_{\\mathit{yy}} - \\frac{c^{2} k_{z}^{2}}{{\\left(\\epsilon_{\\mathit{xx}} + \\frac{4 i \\, \\pi \\sigma_{e_{\\mathit{xx}}}}{\\omega}\\right)} \\omega^{2}} + \\frac{4 i \\, \\pi \\sigma_{m_{\\mathit{yy}}}}{\\omega}\\right)} \\omega} - 1} - \\frac{4 i \\, \\pi \\mu_{\\mathit{xx}} \\omega \\sigma_{e_{\\mathit{zz}}}}{\\frac{k_{z}}{k_{z} - \\frac{\\epsilon_{\\mathit{xx}} \\mu_{\\mathit{yy}} \\omega^{2}}{c^{2} k_{z}} - \\frac{4 i \\, \\pi \\mu_{\\mathit{yy}} \\omega \\sigma_{e_{\\mathit{xx}}}}{c^{2} k_{z}} - \\frac{4 i \\, \\pi \\epsilon_{\\mathit{xx}} \\omega \\sigma_{m_{\\mathit{yy}}}}{c^{2} k_{z}} + \\frac{16 \\, \\pi^{2} \\sigma_{e_{\\mathit{xx}}} \\sigma_{m_{\\mathit{yy}}}}{c^{2} k_{z}}} - \\frac{\\mu_{\\mathit{xx}}}{\\mu_{\\mathit{yy}} - \\frac{c^{2} k_{z}^{2}}{{\\left(\\epsilon_{\\mathit{xx}} + \\frac{4 i \\, \\pi \\sigma_{e_{\\mathit{xx}}}}{\\omega}\\right)} \\omega^{2}} + \\frac{4 i \\, \\pi \\sigma_{m_{\\mathit{yy}}}}{\\omega}} + \\frac{\\mu_{\\mathit{yy}}}{\\mu_{\\mathit{yy}} - \\frac{c^{2} k_{z}^{2}}{{\\left(\\epsilon_{\\mathit{xx}} + \\frac{4 i \\, \\pi \\sigma_{e_{\\mathit{xx}}}}{\\omega}\\right)} \\omega^{2}} + \\frac{4 i \\, \\pi \\sigma_{m_{\\mathit{yy}}}}{\\omega}} - \\frac{4 i \\, \\pi \\sigma_{m_{\\mathit{xx}}}}{{\\left(\\mu_{\\mathit{yy}} - \\frac{c^{2} k_{z}^{2}}{{\\left(\\epsilon_{\\mathit{xx}} + \\frac{4 i \\, \\pi \\sigma_{e_{\\mathit{xx}}}}{\\omega}\\right)} \\omega^{2}} + \\frac{4 i \\, \\pi \\sigma_{m_{\\mathit{yy}}}}{\\omega}\\right)} \\omega} + \\frac{4 i \\, \\pi \\sigma_{m_{\\mathit{yy}}}}{{\\left(\\mu_{\\mathit{yy}} - \\frac{c^{2} k_{z}^{2}}{{\\left(\\epsilon_{\\mathit{xx}} + \\frac{4 i \\, \\pi \\sigma_{e_{\\mathit{xx}}}}{\\omega}\\right)} \\omega^{2}} + \\frac{4 i \\, \\pi \\sigma_{m_{\\mathit{yy}}}}{\\omega}\\right)} \\omega} - 1} - \\frac{4 i \\, \\pi \\epsilon_{\\mathit{zz}} \\omega \\sigma_{m_{\\mathit{xx}}}}{\\frac{k_{z}}{k_{z} - \\frac{\\epsilon_{\\mathit{xx}} \\mu_{\\mathit{yy}} \\omega^{2}}{c^{2} k_{z}} - \\frac{4 i \\, \\pi \\mu_{\\mathit{yy}} \\omega \\sigma_{e_{\\mathit{xx}}}}{c^{2} k_{z}} - \\frac{4 i \\, \\pi \\epsilon_{\\mathit{xx}} \\omega \\sigma_{m_{\\mathit{yy}}}}{c^{2} k_{z}} + \\frac{16 \\, \\pi^{2} \\sigma_{e_{\\mathit{xx}}} \\sigma_{m_{\\mathit{yy}}}}{c^{2} k_{z}}} - \\frac{\\mu_{\\mathit{xx}}}{\\mu_{\\mathit{yy}} - \\frac{c^{2} k_{z}^{2}}{{\\left(\\epsilon_{\\mathit{xx}} + \\frac{4 i \\, \\pi \\sigma_{e_{\\mathit{xx}}}}{\\omega}\\right)} \\omega^{2}} + \\frac{4 i \\, \\pi \\sigma_{m_{\\mathit{yy}}}}{\\omega}} + \\frac{\\mu_{\\mathit{yy}}}{\\mu_{\\mathit{yy}} - \\frac{c^{2} k_{z}^{2}}{{\\left(\\epsilon_{\\mathit{xx}} + \\frac{4 i \\, \\pi \\sigma_{e_{\\mathit{xx}}}}{\\omega}\\right)} \\omega^{2}} + \\frac{4 i \\, \\pi \\sigma_{m_{\\mathit{yy}}}}{\\omega}} - \\frac{4 i \\, \\pi \\sigma_{m_{\\mathit{xx}}}}{{\\left(\\mu_{\\mathit{yy}} - \\frac{c^{2} k_{z}^{2}}{{\\left(\\epsilon_{\\mathit{xx}} + \\frac{4 i \\, \\pi \\sigma_{e_{\\mathit{xx}}}}{\\omega}\\right)} \\omega^{2}} + \\frac{4 i \\, \\pi \\sigma_{m_{\\mathit{yy}}}}{\\omega}\\right)} \\omega} + \\frac{4 i \\, \\pi \\sigma_{m_{\\mathit{yy}}}}{{\\left(\\mu_{\\mathit{yy}} - \\frac{c^{2} k_{z}^{2}}{{\\left(\\epsilon_{\\mathit{xx}} + \\frac{4 i \\, \\pi \\sigma_{e_{\\mathit{xx}}}}{\\omega}\\right)} \\omega^{2}} + \\frac{4 i \\, \\pi \\sigma_{m_{\\mathit{yy}}}}{\\omega}\\right)} \\omega} - 1} + \\frac{16 \\, \\pi^{2} \\sigma_{e_{\\mathit{zz}}} \\sigma_{m_{\\mathit{xx}}}}{\\frac{k_{z}}{k_{z} - \\frac{\\epsilon_{\\mathit{xx}} \\mu_{\\mathit{yy}} \\omega^{2}}{c^{2} k_{z}} - \\frac{4 i \\, \\pi \\mu_{\\mathit{yy}} \\omega \\sigma_{e_{\\mathit{xx}}}}{c^{2} k_{z}} - \\frac{4 i \\, \\pi \\epsilon_{\\mathit{xx}} \\omega \\sigma_{m_{\\mathit{yy}}}}{c^{2} k_{z}} + \\frac{16 \\, \\pi^{2} \\sigma_{e_{\\mathit{xx}}} \\sigma_{m_{\\mathit{yy}}}}{c^{2} k_{z}}} - \\frac{\\mu_{\\mathit{xx}}}{\\mu_{\\mathit{yy}} - \\frac{c^{2} k_{z}^{2}}{{\\left(\\epsilon_{\\mathit{xx}} + \\frac{4 i \\, \\pi \\sigma_{e_{\\mathit{xx}}}}{\\omega}\\right)} \\omega^{2}} + \\frac{4 i \\, \\pi \\sigma_{m_{\\mathit{yy}}}}{\\omega}} + \\frac{\\mu_{\\mathit{yy}}}{\\mu_{\\mathit{yy}} - \\frac{c^{2} k_{z}^{2}}{{\\left(\\epsilon_{\\mathit{xx}} + \\frac{4 i \\, \\pi \\sigma_{e_{\\mathit{xx}}}}{\\omega}\\right)} \\omega^{2}} + \\frac{4 i \\, \\pi \\sigma_{m_{\\mathit{yy}}}}{\\omega}} - \\frac{4 i \\, \\pi \\sigma_{m_{\\mathit{xx}}}}{{\\left(\\mu_{\\mathit{yy}} - \\frac{c^{2} k_{z}^{2}}{{\\left(\\epsilon_{\\mathit{xx}} + \\frac{4 i \\, \\pi \\sigma_{e_{\\mathit{xx}}}}{\\omega}\\right)} \\omega^{2}} + \\frac{4 i \\, \\pi \\sigma_{m_{\\mathit{yy}}}}{\\omega}\\right)} \\omega} + \\frac{4 i \\, \\pi \\sigma_{m_{\\mathit{yy}}}}{{\\left(\\mu_{\\mathit{yy}} - \\frac{c^{2} k_{z}^{2}}{{\\left(\\epsilon_{\\mathit{xx}} + \\frac{4 i \\, \\pi \\sigma_{e_{\\mathit{xx}}}}{\\omega}\\right)} \\omega^{2}} + \\frac{4 i \\, \\pi \\sigma_{m_{\\mathit{yy}}}}{\\omega}\\right)} \\omega} - 1}} x}{c}\\right)}}{c^{2} {\\left(\\frac{k_{z}}{k_{z} - \\frac{\\epsilon_{\\mathit{xx}} \\mu_{\\mathit{yy}} \\omega^{2}}{c^{2} k_{z}} - \\frac{4 i \\, \\pi \\mu_{\\mathit{yy}} \\omega \\sigma_{e_{\\mathit{xx}}}}{c^{2} k_{z}} - \\frac{4 i \\, \\pi \\epsilon_{\\mathit{xx}} \\omega \\sigma_{m_{\\mathit{yy}}}}{c^{2} k_{z}} + \\frac{16 \\, \\pi^{2} \\sigma_{e_{\\mathit{xx}}} \\sigma_{m_{\\mathit{yy}}}}{c^{2} k_{z}}} - \\frac{\\mu_{\\mathit{xx}}}{\\mu_{\\mathit{yy}} - \\frac{c^{2} k_{z}^{2}}{{\\left(\\epsilon_{\\mathit{xx}} + \\frac{4 i \\, \\pi \\sigma_{e_{\\mathit{xx}}}}{\\omega}\\right)} \\omega^{2}} + \\frac{4 i \\, \\pi \\sigma_{m_{\\mathit{yy}}}}{\\omega}} + \\frac{\\mu_{\\mathit{yy}}}{\\mu_{\\mathit{yy}} - \\frac{c^{2} k_{z}^{2}}{{\\left(\\epsilon_{\\mathit{xx}} + \\frac{4 i \\, \\pi \\sigma_{e_{\\mathit{xx}}}}{\\omega}\\right)} \\omega^{2}} + \\frac{4 i \\, \\pi \\sigma_{m_{\\mathit{yy}}}}{\\omega}} - \\frac{4 i \\, \\pi \\sigma_{m_{\\mathit{xx}}}}{{\\left(\\mu_{\\mathit{yy}} - \\frac{c^{2} k_{z}^{2}}{{\\left(\\epsilon_{\\mathit{xx}} + \\frac{4 i \\, \\pi \\sigma_{e_{\\mathit{xx}}}}{\\omega}\\right)} \\omega^{2}} + \\frac{4 i \\, \\pi \\sigma_{m_{\\mathit{yy}}}}{\\omega}\\right)} \\omega} + \\frac{4 i \\, \\pi \\sigma_{m_{\\mathit{yy}}}}{{\\left(\\mu_{\\mathit{yy}} - \\frac{c^{2} k_{z}^{2}}{{\\left(\\epsilon_{\\mathit{xx}} + \\frac{4 i \\, \\pi \\sigma_{e_{\\mathit{xx}}}}{\\omega}\\right)} \\omega^{2}} + \\frac{4 i \\, \\pi \\sigma_{m_{\\mathit{yy}}}}{\\omega}\\right)} \\omega} - 1\\right)}} - \\frac{16 \\, \\pi^{2} \\mathit{B1}_{x} \\sigma_{e_{\\mathit{zz}}} \\sigma_{m_{\\mathit{xx}}} e^{\\left(\\frac{i \\, \\sqrt{-\\frac{\\epsilon_{\\mathit{zz}} \\mu_{\\mathit{xx}} \\omega^{2}}{\\frac{k_{z}}{k_{z} - \\frac{\\epsilon_{\\mathit{xx}} \\mu_{\\mathit{yy}} \\omega^{2}}{c^{2} k_{z}} - \\frac{4 i \\, \\pi \\mu_{\\mathit{yy}} \\omega \\sigma_{e_{\\mathit{xx}}}}{c^{2} k_{z}} - \\frac{4 i \\, \\pi \\epsilon_{\\mathit{xx}} \\omega \\sigma_{m_{\\mathit{yy}}}}{c^{2} k_{z}} + \\frac{16 \\, \\pi^{2} \\sigma_{e_{\\mathit{xx}}} \\sigma_{m_{\\mathit{yy}}}}{c^{2} k_{z}}} - \\frac{\\mu_{\\mathit{xx}}}{\\mu_{\\mathit{yy}} - \\frac{c^{2} k_{z}^{2}}{{\\left(\\epsilon_{\\mathit{xx}} + \\frac{4 i \\, \\pi \\sigma_{e_{\\mathit{xx}}}}{\\omega}\\right)} \\omega^{2}} + \\frac{4 i \\, \\pi \\sigma_{m_{\\mathit{yy}}}}{\\omega}} + \\frac{\\mu_{\\mathit{yy}}}{\\mu_{\\mathit{yy}} - \\frac{c^{2} k_{z}^{2}}{{\\left(\\epsilon_{\\mathit{xx}} + \\frac{4 i \\, \\pi \\sigma_{e_{\\mathit{xx}}}}{\\omega}\\right)} \\omega^{2}} + \\frac{4 i \\, \\pi \\sigma_{m_{\\mathit{yy}}}}{\\omega}} - \\frac{4 i \\, \\pi \\sigma_{m_{\\mathit{xx}}}}{{\\left(\\mu_{\\mathit{yy}} - \\frac{c^{2} k_{z}^{2}}{{\\left(\\epsilon_{\\mathit{xx}} + \\frac{4 i \\, \\pi \\sigma_{e_{\\mathit{xx}}}}{\\omega}\\right)} \\omega^{2}} + \\frac{4 i \\, \\pi \\sigma_{m_{\\mathit{yy}}}}{\\omega}\\right)} \\omega} + \\frac{4 i \\, \\pi \\sigma_{m_{\\mathit{yy}}}}{{\\left(\\mu_{\\mathit{yy}} - \\frac{c^{2} k_{z}^{2}}{{\\left(\\epsilon_{\\mathit{xx}} + \\frac{4 i \\, \\pi \\sigma_{e_{\\mathit{xx}}}}{\\omega}\\right)} \\omega^{2}} + \\frac{4 i \\, \\pi \\sigma_{m_{\\mathit{yy}}}}{\\omega}\\right)} \\omega} - 1} - \\frac{4 i \\, \\pi \\mu_{\\mathit{xx}} \\omega \\sigma_{e_{\\mathit{zz}}}}{\\frac{k_{z}}{k_{z} - \\frac{\\epsilon_{\\mathit{xx}} \\mu_{\\mathit{yy}} \\omega^{2}}{c^{2} k_{z}} - \\frac{4 i \\, \\pi \\mu_{\\mathit{yy}} \\omega \\sigma_{e_{\\mathit{xx}}}}{c^{2} k_{z}} - \\frac{4 i \\, \\pi \\epsilon_{\\mathit{xx}} \\omega \\sigma_{m_{\\mathit{yy}}}}{c^{2} k_{z}} + \\frac{16 \\, \\pi^{2} \\sigma_{e_{\\mathit{xx}}} \\sigma_{m_{\\mathit{yy}}}}{c^{2} k_{z}}} - \\frac{\\mu_{\\mathit{xx}}}{\\mu_{\\mathit{yy}} - \\frac{c^{2} k_{z}^{2}}{{\\left(\\epsilon_{\\mathit{xx}} + \\frac{4 i \\, \\pi \\sigma_{e_{\\mathit{xx}}}}{\\omega}\\right)} \\omega^{2}} + \\frac{4 i \\, \\pi \\sigma_{m_{\\mathit{yy}}}}{\\omega}} + \\frac{\\mu_{\\mathit{yy}}}{\\mu_{\\mathit{yy}} - \\frac{c^{2} k_{z}^{2}}{{\\left(\\epsilon_{\\mathit{xx}} + \\frac{4 i \\, \\pi \\sigma_{e_{\\mathit{xx}}}}{\\omega}\\right)} \\omega^{2}} + \\frac{4 i \\, \\pi \\sigma_{m_{\\mathit{yy}}}}{\\omega}} - \\frac{4 i \\, \\pi \\sigma_{m_{\\mathit{xx}}}}{{\\left(\\mu_{\\mathit{yy}} - \\frac{c^{2} k_{z}^{2}}{{\\left(\\epsilon_{\\mathit{xx}} + \\frac{4 i \\, \\pi \\sigma_{e_{\\mathit{xx}}}}{\\omega}\\right)} \\omega^{2}} + \\frac{4 i \\, \\pi \\sigma_{m_{\\mathit{yy}}}}{\\omega}\\right)} \\omega} + \\frac{4 i \\, \\pi \\sigma_{m_{\\mathit{yy}}}}{{\\left(\\mu_{\\mathit{yy}} - \\frac{c^{2} k_{z}^{2}}{{\\left(\\epsilon_{\\mathit{xx}} + \\frac{4 i \\, \\pi \\sigma_{e_{\\mathit{xx}}}}{\\omega}\\right)} \\omega^{2}} + \\frac{4 i \\, \\pi \\sigma_{m_{\\mathit{yy}}}}{\\omega}\\right)} \\omega} - 1} - \\frac{4 i \\, \\pi \\epsilon_{\\mathit{zz}} \\omega \\sigma_{m_{\\mathit{xx}}}}{\\frac{k_{z}}{k_{z} - \\frac{\\epsilon_{\\mathit{xx}} \\mu_{\\mathit{yy}} \\omega^{2}}{c^{2} k_{z}} - \\frac{4 i \\, \\pi \\mu_{\\mathit{yy}} \\omega \\sigma_{e_{\\mathit{xx}}}}{c^{2} k_{z}} - \\frac{4 i \\, \\pi \\epsilon_{\\mathit{xx}} \\omega \\sigma_{m_{\\mathit{yy}}}}{c^{2} k_{z}} + \\frac{16 \\, \\pi^{2} \\sigma_{e_{\\mathit{xx}}} \\sigma_{m_{\\mathit{yy}}}}{c^{2} k_{z}}} - \\frac{\\mu_{\\mathit{xx}}}{\\mu_{\\mathit{yy}} - \\frac{c^{2} k_{z}^{2}}{{\\left(\\epsilon_{\\mathit{xx}} + \\frac{4 i \\, \\pi \\sigma_{e_{\\mathit{xx}}}}{\\omega}\\right)} \\omega^{2}} + \\frac{4 i \\, \\pi \\sigma_{m_{\\mathit{yy}}}}{\\omega}} + \\frac{\\mu_{\\mathit{yy}}}{\\mu_{\\mathit{yy}} - \\frac{c^{2} k_{z}^{2}}{{\\left(\\epsilon_{\\mathit{xx}} + \\frac{4 i \\, \\pi \\sigma_{e_{\\mathit{xx}}}}{\\omega}\\right)} \\omega^{2}} + \\frac{4 i \\, \\pi \\sigma_{m_{\\mathit{yy}}}}{\\omega}} - \\frac{4 i \\, \\pi \\sigma_{m_{\\mathit{xx}}}}{{\\left(\\mu_{\\mathit{yy}} - \\frac{c^{2} k_{z}^{2}}{{\\left(\\epsilon_{\\mathit{xx}} + \\frac{4 i \\, \\pi \\sigma_{e_{\\mathit{xx}}}}{\\omega}\\right)} \\omega^{2}} + \\frac{4 i \\, \\pi \\sigma_{m_{\\mathit{yy}}}}{\\omega}\\right)} \\omega} + \\frac{4 i \\, \\pi \\sigma_{m_{\\mathit{yy}}}}{{\\left(\\mu_{\\mathit{yy}} - \\frac{c^{2} k_{z}^{2}}{{\\left(\\epsilon_{\\mathit{xx}} + \\frac{4 i \\, \\pi \\sigma_{e_{\\mathit{xx}}}}{\\omega}\\right)} \\omega^{2}} + \\frac{4 i \\, \\pi \\sigma_{m_{\\mathit{yy}}}}{\\omega}\\right)} \\omega} - 1} + \\frac{16 \\, \\pi^{2} \\sigma_{e_{\\mathit{zz}}} \\sigma_{m_{\\mathit{xx}}}}{\\frac{k_{z}}{k_{z} - \\frac{\\epsilon_{\\mathit{xx}} \\mu_{\\mathit{yy}} \\omega^{2}}{c^{2} k_{z}} - \\frac{4 i \\, \\pi \\mu_{\\mathit{yy}} \\omega \\sigma_{e_{\\mathit{xx}}}}{c^{2} k_{z}} - \\frac{4 i \\, \\pi \\epsilon_{\\mathit{xx}} \\omega \\sigma_{m_{\\mathit{yy}}}}{c^{2} k_{z}} + \\frac{16 \\, \\pi^{2} \\sigma_{e_{\\mathit{xx}}} \\sigma_{m_{\\mathit{yy}}}}{c^{2} k_{z}}} - \\frac{\\mu_{\\mathit{xx}}}{\\mu_{\\mathit{yy}} - \\frac{c^{2} k_{z}^{2}}{{\\left(\\epsilon_{\\mathit{xx}} + \\frac{4 i \\, \\pi \\sigma_{e_{\\mathit{xx}}}}{\\omega}\\right)} \\omega^{2}} + \\frac{4 i \\, \\pi \\sigma_{m_{\\mathit{yy}}}}{\\omega}} + \\frac{\\mu_{\\mathit{yy}}}{\\mu_{\\mathit{yy}} - \\frac{c^{2} k_{z}^{2}}{{\\left(\\epsilon_{\\mathit{xx}} + \\frac{4 i \\, \\pi \\sigma_{e_{\\mathit{xx}}}}{\\omega}\\right)} \\omega^{2}} + \\frac{4 i \\, \\pi \\sigma_{m_{\\mathit{yy}}}}{\\omega}} - \\frac{4 i \\, \\pi \\sigma_{m_{\\mathit{xx}}}}{{\\left(\\mu_{\\mathit{yy}} - \\frac{c^{2} k_{z}^{2}}{{\\left(\\epsilon_{\\mathit{xx}} + \\frac{4 i \\, \\pi \\sigma_{e_{\\mathit{xx}}}}{\\omega}\\right)} \\omega^{2}} + \\frac{4 i \\, \\pi \\sigma_{m_{\\mathit{yy}}}}{\\omega}\\right)} \\omega} + \\frac{4 i \\, \\pi \\sigma_{m_{\\mathit{yy}}}}{{\\left(\\mu_{\\mathit{yy}} - \\frac{c^{2} k_{z}^{2}}{{\\left(\\epsilon_{\\mathit{xx}} + \\frac{4 i \\, \\pi \\sigma_{e_{\\mathit{xx}}}}{\\omega}\\right)} \\omega^{2}} + \\frac{4 i \\, \\pi \\sigma_{m_{\\mathit{yy}}}}{\\omega}\\right)} \\omega} - 1}} x}{c}\\right)}}{c^{2} {\\left(\\frac{k_{z}}{k_{z} - \\frac{\\epsilon_{\\mathit{xx}} \\mu_{\\mathit{yy}} \\omega^{2}}{c^{2} k_{z}} - \\frac{4 i \\, \\pi \\mu_{\\mathit{yy}} \\omega \\sigma_{e_{\\mathit{xx}}}}{c^{2} k_{z}} - \\frac{4 i \\, \\pi \\epsilon_{\\mathit{xx}} \\omega \\sigma_{m_{\\mathit{yy}}}}{c^{2} k_{z}} + \\frac{16 \\, \\pi^{2} \\sigma_{e_{\\mathit{xx}}} \\sigma_{m_{\\mathit{yy}}}}{c^{2} k_{z}}} - \\frac{\\mu_{\\mathit{xx}}}{\\mu_{\\mathit{yy}} - \\frac{c^{2} k_{z}^{2}}{{\\left(\\epsilon_{\\mathit{xx}} + \\frac{4 i \\, \\pi \\sigma_{e_{\\mathit{xx}}}}{\\omega}\\right)} \\omega^{2}} + \\frac{4 i \\, \\pi \\sigma_{m_{\\mathit{yy}}}}{\\omega}} + \\frac{\\mu_{\\mathit{yy}}}{\\mu_{\\mathit{yy}} - \\frac{c^{2} k_{z}^{2}}{{\\left(\\epsilon_{\\mathit{xx}} + \\frac{4 i \\, \\pi \\sigma_{e_{\\mathit{xx}}}}{\\omega}\\right)} \\omega^{2}} + \\frac{4 i \\, \\pi \\sigma_{m_{\\mathit{yy}}}}{\\omega}} - \\frac{4 i \\, \\pi \\sigma_{m_{\\mathit{xx}}}}{{\\left(\\mu_{\\mathit{yy}} - \\frac{c^{2} k_{z}^{2}}{{\\left(\\epsilon_{\\mathit{xx}} + \\frac{4 i \\, \\pi \\sigma_{e_{\\mathit{xx}}}}{\\omega}\\right)} \\omega^{2}} + \\frac{4 i \\, \\pi \\sigma_{m_{\\mathit{yy}}}}{\\omega}\\right)} \\omega} + \\frac{4 i \\, \\pi \\sigma_{m_{\\mathit{yy}}}}{{\\left(\\mu_{\\mathit{yy}} - \\frac{c^{2} k_{z}^{2}}{{\\left(\\epsilon_{\\mathit{xx}} + \\frac{4 i \\, \\pi \\sigma_{e_{\\mathit{xx}}}}{\\omega}\\right)} \\omega^{2}} + \\frac{4 i \\, \\pi \\sigma_{m_{\\mathit{yy}}}}{\\omega}\\right)} \\omega} - 1\\right)}}\\)</html>"
      ],
      "text/latex": [
       "$\\displaystyle i \\, \\mathit{B1}_{z} k_{z}^{2} e^{\\left(\\frac{i \\, \\sqrt{-\\frac{\\epsilon_{\\mathit{zz}} \\mu_{\\mathit{xx}} \\omega^{2}}{\\frac{k_{z}}{k_{z} - \\frac{\\epsilon_{\\mathit{xx}} \\mu_{\\mathit{yy}} \\omega^{2}}{c^{2} k_{z}} - \\frac{4 i \\, \\pi \\mu_{\\mathit{yy}} \\omega \\sigma_{e_{\\mathit{xx}}}}{c^{2} k_{z}} - \\frac{4 i \\, \\pi \\epsilon_{\\mathit{xx}} \\omega \\sigma_{m_{\\mathit{yy}}}}{c^{2} k_{z}} + \\frac{16 \\, \\pi^{2} \\sigma_{e_{\\mathit{xx}}} \\sigma_{m_{\\mathit{yy}}}}{c^{2} k_{z}}} - \\frac{\\mu_{\\mathit{xx}}}{\\mu_{\\mathit{yy}} - \\frac{c^{2} k_{z}^{2}}{{\\left(\\epsilon_{\\mathit{xx}} + \\frac{4 i \\, \\pi \\sigma_{e_{\\mathit{xx}}}}{\\omega}\\right)} \\omega^{2}} + \\frac{4 i \\, \\pi \\sigma_{m_{\\mathit{yy}}}}{\\omega}} + \\frac{\\mu_{\\mathit{yy}}}{\\mu_{\\mathit{yy}} - \\frac{c^{2} k_{z}^{2}}{{\\left(\\epsilon_{\\mathit{xx}} + \\frac{4 i \\, \\pi \\sigma_{e_{\\mathit{xx}}}}{\\omega}\\right)} \\omega^{2}} + \\frac{4 i \\, \\pi \\sigma_{m_{\\mathit{yy}}}}{\\omega}} - \\frac{4 i \\, \\pi \\sigma_{m_{\\mathit{xx}}}}{{\\left(\\mu_{\\mathit{yy}} - \\frac{c^{2} k_{z}^{2}}{{\\left(\\epsilon_{\\mathit{xx}} + \\frac{4 i \\, \\pi \\sigma_{e_{\\mathit{xx}}}}{\\omega}\\right)} \\omega^{2}} + \\frac{4 i \\, \\pi \\sigma_{m_{\\mathit{yy}}}}{\\omega}\\right)} \\omega} + \\frac{4 i \\, \\pi \\sigma_{m_{\\mathit{yy}}}}{{\\left(\\mu_{\\mathit{yy}} - \\frac{c^{2} k_{z}^{2}}{{\\left(\\epsilon_{\\mathit{xx}} + \\frac{4 i \\, \\pi \\sigma_{e_{\\mathit{xx}}}}{\\omega}\\right)} \\omega^{2}} + \\frac{4 i \\, \\pi \\sigma_{m_{\\mathit{yy}}}}{\\omega}\\right)} \\omega} - 1} - \\frac{4 i \\, \\pi \\mu_{\\mathit{xx}} \\omega \\sigma_{e_{\\mathit{zz}}}}{\\frac{k_{z}}{k_{z} - \\frac{\\epsilon_{\\mathit{xx}} \\mu_{\\mathit{yy}} \\omega^{2}}{c^{2} k_{z}} - \\frac{4 i \\, \\pi \\mu_{\\mathit{yy}} \\omega \\sigma_{e_{\\mathit{xx}}}}{c^{2} k_{z}} - \\frac{4 i \\, \\pi \\epsilon_{\\mathit{xx}} \\omega \\sigma_{m_{\\mathit{yy}}}}{c^{2} k_{z}} + \\frac{16 \\, \\pi^{2} \\sigma_{e_{\\mathit{xx}}} \\sigma_{m_{\\mathit{yy}}}}{c^{2} k_{z}}} - \\frac{\\mu_{\\mathit{xx}}}{\\mu_{\\mathit{yy}} - \\frac{c^{2} k_{z}^{2}}{{\\left(\\epsilon_{\\mathit{xx}} + \\frac{4 i \\, \\pi \\sigma_{e_{\\mathit{xx}}}}{\\omega}\\right)} \\omega^{2}} + \\frac{4 i \\, \\pi \\sigma_{m_{\\mathit{yy}}}}{\\omega}} + \\frac{\\mu_{\\mathit{yy}}}{\\mu_{\\mathit{yy}} - \\frac{c^{2} k_{z}^{2}}{{\\left(\\epsilon_{\\mathit{xx}} + \\frac{4 i \\, \\pi \\sigma_{e_{\\mathit{xx}}}}{\\omega}\\right)} \\omega^{2}} + \\frac{4 i \\, \\pi \\sigma_{m_{\\mathit{yy}}}}{\\omega}} - \\frac{4 i \\, \\pi \\sigma_{m_{\\mathit{xx}}}}{{\\left(\\mu_{\\mathit{yy}} - \\frac{c^{2} k_{z}^{2}}{{\\left(\\epsilon_{\\mathit{xx}} + \\frac{4 i \\, \\pi \\sigma_{e_{\\mathit{xx}}}}{\\omega}\\right)} \\omega^{2}} + \\frac{4 i \\, \\pi \\sigma_{m_{\\mathit{yy}}}}{\\omega}\\right)} \\omega} + \\frac{4 i \\, \\pi \\sigma_{m_{\\mathit{yy}}}}{{\\left(\\mu_{\\mathit{yy}} - \\frac{c^{2} k_{z}^{2}}{{\\left(\\epsilon_{\\mathit{xx}} + \\frac{4 i \\, \\pi \\sigma_{e_{\\mathit{xx}}}}{\\omega}\\right)} \\omega^{2}} + \\frac{4 i \\, \\pi \\sigma_{m_{\\mathit{yy}}}}{\\omega}\\right)} \\omega} - 1} - \\frac{4 i \\, \\pi \\epsilon_{\\mathit{zz}} \\omega \\sigma_{m_{\\mathit{xx}}}}{\\frac{k_{z}}{k_{z} - \\frac{\\epsilon_{\\mathit{xx}} \\mu_{\\mathit{yy}} \\omega^{2}}{c^{2} k_{z}} - \\frac{4 i \\, \\pi \\mu_{\\mathit{yy}} \\omega \\sigma_{e_{\\mathit{xx}}}}{c^{2} k_{z}} - \\frac{4 i \\, \\pi \\epsilon_{\\mathit{xx}} \\omega \\sigma_{m_{\\mathit{yy}}}}{c^{2} k_{z}} + \\frac{16 \\, \\pi^{2} \\sigma_{e_{\\mathit{xx}}} \\sigma_{m_{\\mathit{yy}}}}{c^{2} k_{z}}} - \\frac{\\mu_{\\mathit{xx}}}{\\mu_{\\mathit{yy}} - \\frac{c^{2} k_{z}^{2}}{{\\left(\\epsilon_{\\mathit{xx}} + \\frac{4 i \\, \\pi \\sigma_{e_{\\mathit{xx}}}}{\\omega}\\right)} \\omega^{2}} + \\frac{4 i \\, \\pi \\sigma_{m_{\\mathit{yy}}}}{\\omega}} + \\frac{\\mu_{\\mathit{yy}}}{\\mu_{\\mathit{yy}} - \\frac{c^{2} k_{z}^{2}}{{\\left(\\epsilon_{\\mathit{xx}} + \\frac{4 i \\, \\pi \\sigma_{e_{\\mathit{xx}}}}{\\omega}\\right)} \\omega^{2}} + \\frac{4 i \\, \\pi \\sigma_{m_{\\mathit{yy}}}}{\\omega}} - \\frac{4 i \\, \\pi \\sigma_{m_{\\mathit{xx}}}}{{\\left(\\mu_{\\mathit{yy}} - \\frac{c^{2} k_{z}^{2}}{{\\left(\\epsilon_{\\mathit{xx}} + \\frac{4 i \\, \\pi \\sigma_{e_{\\mathit{xx}}}}{\\omega}\\right)} \\omega^{2}} + \\frac{4 i \\, \\pi \\sigma_{m_{\\mathit{yy}}}}{\\omega}\\right)} \\omega} + \\frac{4 i \\, \\pi \\sigma_{m_{\\mathit{yy}}}}{{\\left(\\mu_{\\mathit{yy}} - \\frac{c^{2} k_{z}^{2}}{{\\left(\\epsilon_{\\mathit{xx}} + \\frac{4 i \\, \\pi \\sigma_{e_{\\mathit{xx}}}}{\\omega}\\right)} \\omega^{2}} + \\frac{4 i \\, \\pi \\sigma_{m_{\\mathit{yy}}}}{\\omega}\\right)} \\omega} - 1} + \\frac{16 \\, \\pi^{2} \\sigma_{e_{\\mathit{zz}}} \\sigma_{m_{\\mathit{xx}}}}{\\frac{k_{z}}{k_{z} - \\frac{\\epsilon_{\\mathit{xx}} \\mu_{\\mathit{yy}} \\omega^{2}}{c^{2} k_{z}} - \\frac{4 i \\, \\pi \\mu_{\\mathit{yy}} \\omega \\sigma_{e_{\\mathit{xx}}}}{c^{2} k_{z}} - \\frac{4 i \\, \\pi \\epsilon_{\\mathit{xx}} \\omega \\sigma_{m_{\\mathit{yy}}}}{c^{2} k_{z}} + \\frac{16 \\, \\pi^{2} \\sigma_{e_{\\mathit{xx}}} \\sigma_{m_{\\mathit{yy}}}}{c^{2} k_{z}}} - \\frac{\\mu_{\\mathit{xx}}}{\\mu_{\\mathit{yy}} - \\frac{c^{2} k_{z}^{2}}{{\\left(\\epsilon_{\\mathit{xx}} + \\frac{4 i \\, \\pi \\sigma_{e_{\\mathit{xx}}}}{\\omega}\\right)} \\omega^{2}} + \\frac{4 i \\, \\pi \\sigma_{m_{\\mathit{yy}}}}{\\omega}} + \\frac{\\mu_{\\mathit{yy}}}{\\mu_{\\mathit{yy}} - \\frac{c^{2} k_{z}^{2}}{{\\left(\\epsilon_{\\mathit{xx}} + \\frac{4 i \\, \\pi \\sigma_{e_{\\mathit{xx}}}}{\\omega}\\right)} \\omega^{2}} + \\frac{4 i \\, \\pi \\sigma_{m_{\\mathit{yy}}}}{\\omega}} - \\frac{4 i \\, \\pi \\sigma_{m_{\\mathit{xx}}}}{{\\left(\\mu_{\\mathit{yy}} - \\frac{c^{2} k_{z}^{2}}{{\\left(\\epsilon_{\\mathit{xx}} + \\frac{4 i \\, \\pi \\sigma_{e_{\\mathit{xx}}}}{\\omega}\\right)} \\omega^{2}} + \\frac{4 i \\, \\pi \\sigma_{m_{\\mathit{yy}}}}{\\omega}\\right)} \\omega} + \\frac{4 i \\, \\pi \\sigma_{m_{\\mathit{yy}}}}{{\\left(\\mu_{\\mathit{yy}} - \\frac{c^{2} k_{z}^{2}}{{\\left(\\epsilon_{\\mathit{xx}} + \\frac{4 i \\, \\pi \\sigma_{e_{\\mathit{xx}}}}{\\omega}\\right)} \\omega^{2}} + \\frac{4 i \\, \\pi \\sigma_{m_{\\mathit{yy}}}}{\\omega}\\right)} \\omega} - 1}} x}{c}\\right)} + \\frac{\\mathit{B1}_{x} \\epsilon_{\\mathit{zz}} \\mu_{\\mathit{xx}} \\omega^{2} e^{\\left(\\frac{i \\, \\sqrt{-\\frac{\\epsilon_{\\mathit{zz}} \\mu_{\\mathit{xx}} \\omega^{2}}{\\frac{k_{z}}{k_{z} - \\frac{\\epsilon_{\\mathit{xx}} \\mu_{\\mathit{yy}} \\omega^{2}}{c^{2} k_{z}} - \\frac{4 i \\, \\pi \\mu_{\\mathit{yy}} \\omega \\sigma_{e_{\\mathit{xx}}}}{c^{2} k_{z}} - \\frac{4 i \\, \\pi \\epsilon_{\\mathit{xx}} \\omega \\sigma_{m_{\\mathit{yy}}}}{c^{2} k_{z}} + \\frac{16 \\, \\pi^{2} \\sigma_{e_{\\mathit{xx}}} \\sigma_{m_{\\mathit{yy}}}}{c^{2} k_{z}}} - \\frac{\\mu_{\\mathit{xx}}}{\\mu_{\\mathit{yy}} - \\frac{c^{2} k_{z}^{2}}{{\\left(\\epsilon_{\\mathit{xx}} + \\frac{4 i \\, \\pi \\sigma_{e_{\\mathit{xx}}}}{\\omega}\\right)} \\omega^{2}} + \\frac{4 i \\, \\pi \\sigma_{m_{\\mathit{yy}}}}{\\omega}} + \\frac{\\mu_{\\mathit{yy}}}{\\mu_{\\mathit{yy}} - \\frac{c^{2} k_{z}^{2}}{{\\left(\\epsilon_{\\mathit{xx}} + \\frac{4 i \\, \\pi \\sigma_{e_{\\mathit{xx}}}}{\\omega}\\right)} \\omega^{2}} + \\frac{4 i \\, \\pi \\sigma_{m_{\\mathit{yy}}}}{\\omega}} - \\frac{4 i \\, \\pi \\sigma_{m_{\\mathit{xx}}}}{{\\left(\\mu_{\\mathit{yy}} - \\frac{c^{2} k_{z}^{2}}{{\\left(\\epsilon_{\\mathit{xx}} + \\frac{4 i \\, \\pi \\sigma_{e_{\\mathit{xx}}}}{\\omega}\\right)} \\omega^{2}} + \\frac{4 i \\, \\pi \\sigma_{m_{\\mathit{yy}}}}{\\omega}\\right)} \\omega} + \\frac{4 i \\, \\pi \\sigma_{m_{\\mathit{yy}}}}{{\\left(\\mu_{\\mathit{yy}} - \\frac{c^{2} k_{z}^{2}}{{\\left(\\epsilon_{\\mathit{xx}} + \\frac{4 i \\, \\pi \\sigma_{e_{\\mathit{xx}}}}{\\omega}\\right)} \\omega^{2}} + \\frac{4 i \\, \\pi \\sigma_{m_{\\mathit{yy}}}}{\\omega}\\right)} \\omega} - 1} - \\frac{4 i \\, \\pi \\mu_{\\mathit{xx}} \\omega \\sigma_{e_{\\mathit{zz}}}}{\\frac{k_{z}}{k_{z} - \\frac{\\epsilon_{\\mathit{xx}} \\mu_{\\mathit{yy}} \\omega^{2}}{c^{2} k_{z}} - \\frac{4 i \\, \\pi \\mu_{\\mathit{yy}} \\omega \\sigma_{e_{\\mathit{xx}}}}{c^{2} k_{z}} - \\frac{4 i \\, \\pi \\epsilon_{\\mathit{xx}} \\omega \\sigma_{m_{\\mathit{yy}}}}{c^{2} k_{z}} + \\frac{16 \\, \\pi^{2} \\sigma_{e_{\\mathit{xx}}} \\sigma_{m_{\\mathit{yy}}}}{c^{2} k_{z}}} - \\frac{\\mu_{\\mathit{xx}}}{\\mu_{\\mathit{yy}} - \\frac{c^{2} k_{z}^{2}}{{\\left(\\epsilon_{\\mathit{xx}} + \\frac{4 i \\, \\pi \\sigma_{e_{\\mathit{xx}}}}{\\omega}\\right)} \\omega^{2}} + \\frac{4 i \\, \\pi \\sigma_{m_{\\mathit{yy}}}}{\\omega}} + \\frac{\\mu_{\\mathit{yy}}}{\\mu_{\\mathit{yy}} - \\frac{c^{2} k_{z}^{2}}{{\\left(\\epsilon_{\\mathit{xx}} + \\frac{4 i \\, \\pi \\sigma_{e_{\\mathit{xx}}}}{\\omega}\\right)} \\omega^{2}} + \\frac{4 i \\, \\pi \\sigma_{m_{\\mathit{yy}}}}{\\omega}} - \\frac{4 i \\, \\pi \\sigma_{m_{\\mathit{xx}}}}{{\\left(\\mu_{\\mathit{yy}} - \\frac{c^{2} k_{z}^{2}}{{\\left(\\epsilon_{\\mathit{xx}} + \\frac{4 i \\, \\pi \\sigma_{e_{\\mathit{xx}}}}{\\omega}\\right)} \\omega^{2}} + \\frac{4 i \\, \\pi \\sigma_{m_{\\mathit{yy}}}}{\\omega}\\right)} \\omega} + \\frac{4 i \\, \\pi \\sigma_{m_{\\mathit{yy}}}}{{\\left(\\mu_{\\mathit{yy}} - \\frac{c^{2} k_{z}^{2}}{{\\left(\\epsilon_{\\mathit{xx}} + \\frac{4 i \\, \\pi \\sigma_{e_{\\mathit{xx}}}}{\\omega}\\right)} \\omega^{2}} + \\frac{4 i \\, \\pi \\sigma_{m_{\\mathit{yy}}}}{\\omega}\\right)} \\omega} - 1} - \\frac{4 i \\, \\pi \\epsilon_{\\mathit{zz}} \\omega \\sigma_{m_{\\mathit{xx}}}}{\\frac{k_{z}}{k_{z} - \\frac{\\epsilon_{\\mathit{xx}} \\mu_{\\mathit{yy}} \\omega^{2}}{c^{2} k_{z}} - \\frac{4 i \\, \\pi \\mu_{\\mathit{yy}} \\omega \\sigma_{e_{\\mathit{xx}}}}{c^{2} k_{z}} - \\frac{4 i \\, \\pi \\epsilon_{\\mathit{xx}} \\omega \\sigma_{m_{\\mathit{yy}}}}{c^{2} k_{z}} + \\frac{16 \\, \\pi^{2} \\sigma_{e_{\\mathit{xx}}} \\sigma_{m_{\\mathit{yy}}}}{c^{2} k_{z}}} - \\frac{\\mu_{\\mathit{xx}}}{\\mu_{\\mathit{yy}} - \\frac{c^{2} k_{z}^{2}}{{\\left(\\epsilon_{\\mathit{xx}} + \\frac{4 i \\, \\pi \\sigma_{e_{\\mathit{xx}}}}{\\omega}\\right)} \\omega^{2}} + \\frac{4 i \\, \\pi \\sigma_{m_{\\mathit{yy}}}}{\\omega}} + \\frac{\\mu_{\\mathit{yy}}}{\\mu_{\\mathit{yy}} - \\frac{c^{2} k_{z}^{2}}{{\\left(\\epsilon_{\\mathit{xx}} + \\frac{4 i \\, \\pi \\sigma_{e_{\\mathit{xx}}}}{\\omega}\\right)} \\omega^{2}} + \\frac{4 i \\, \\pi \\sigma_{m_{\\mathit{yy}}}}{\\omega}} - \\frac{4 i \\, \\pi \\sigma_{m_{\\mathit{xx}}}}{{\\left(\\mu_{\\mathit{yy}} - \\frac{c^{2} k_{z}^{2}}{{\\left(\\epsilon_{\\mathit{xx}} + \\frac{4 i \\, \\pi \\sigma_{e_{\\mathit{xx}}}}{\\omega}\\right)} \\omega^{2}} + \\frac{4 i \\, \\pi \\sigma_{m_{\\mathit{yy}}}}{\\omega}\\right)} \\omega} + \\frac{4 i \\, \\pi \\sigma_{m_{\\mathit{yy}}}}{{\\left(\\mu_{\\mathit{yy}} - \\frac{c^{2} k_{z}^{2}}{{\\left(\\epsilon_{\\mathit{xx}} + \\frac{4 i \\, \\pi \\sigma_{e_{\\mathit{xx}}}}{\\omega}\\right)} \\omega^{2}} + \\frac{4 i \\, \\pi \\sigma_{m_{\\mathit{yy}}}}{\\omega}\\right)} \\omega} - 1} + \\frac{16 \\, \\pi^{2} \\sigma_{e_{\\mathit{zz}}} \\sigma_{m_{\\mathit{xx}}}}{\\frac{k_{z}}{k_{z} - \\frac{\\epsilon_{\\mathit{xx}} \\mu_{\\mathit{yy}} \\omega^{2}}{c^{2} k_{z}} - \\frac{4 i \\, \\pi \\mu_{\\mathit{yy}} \\omega \\sigma_{e_{\\mathit{xx}}}}{c^{2} k_{z}} - \\frac{4 i \\, \\pi \\epsilon_{\\mathit{xx}} \\omega \\sigma_{m_{\\mathit{yy}}}}{c^{2} k_{z}} + \\frac{16 \\, \\pi^{2} \\sigma_{e_{\\mathit{xx}}} \\sigma_{m_{\\mathit{yy}}}}{c^{2} k_{z}}} - \\frac{\\mu_{\\mathit{xx}}}{\\mu_{\\mathit{yy}} - \\frac{c^{2} k_{z}^{2}}{{\\left(\\epsilon_{\\mathit{xx}} + \\frac{4 i \\, \\pi \\sigma_{e_{\\mathit{xx}}}}{\\omega}\\right)} \\omega^{2}} + \\frac{4 i \\, \\pi \\sigma_{m_{\\mathit{yy}}}}{\\omega}} + \\frac{\\mu_{\\mathit{yy}}}{\\mu_{\\mathit{yy}} - \\frac{c^{2} k_{z}^{2}}{{\\left(\\epsilon_{\\mathit{xx}} + \\frac{4 i \\, \\pi \\sigma_{e_{\\mathit{xx}}}}{\\omega}\\right)} \\omega^{2}} + \\frac{4 i \\, \\pi \\sigma_{m_{\\mathit{yy}}}}{\\omega}} - \\frac{4 i \\, \\pi \\sigma_{m_{\\mathit{xx}}}}{{\\left(\\mu_{\\mathit{yy}} - \\frac{c^{2} k_{z}^{2}}{{\\left(\\epsilon_{\\mathit{xx}} + \\frac{4 i \\, \\pi \\sigma_{e_{\\mathit{xx}}}}{\\omega}\\right)} \\omega^{2}} + \\frac{4 i \\, \\pi \\sigma_{m_{\\mathit{yy}}}}{\\omega}\\right)} \\omega} + \\frac{4 i \\, \\pi \\sigma_{m_{\\mathit{yy}}}}{{\\left(\\mu_{\\mathit{yy}} - \\frac{c^{2} k_{z}^{2}}{{\\left(\\epsilon_{\\mathit{xx}} + \\frac{4 i \\, \\pi \\sigma_{e_{\\mathit{xx}}}}{\\omega}\\right)} \\omega^{2}} + \\frac{4 i \\, \\pi \\sigma_{m_{\\mathit{yy}}}}{\\omega}\\right)} \\omega} - 1}} x}{c}\\right)}}{c^{2} {\\left(\\frac{k_{z}}{k_{z} - \\frac{\\epsilon_{\\mathit{xx}} \\mu_{\\mathit{yy}} \\omega^{2}}{c^{2} k_{z}} - \\frac{4 i \\, \\pi \\mu_{\\mathit{yy}} \\omega \\sigma_{e_{\\mathit{xx}}}}{c^{2} k_{z}} - \\frac{4 i \\, \\pi \\epsilon_{\\mathit{xx}} \\omega \\sigma_{m_{\\mathit{yy}}}}{c^{2} k_{z}} + \\frac{16 \\, \\pi^{2} \\sigma_{e_{\\mathit{xx}}} \\sigma_{m_{\\mathit{yy}}}}{c^{2} k_{z}}} - \\frac{\\mu_{\\mathit{xx}}}{\\mu_{\\mathit{yy}} - \\frac{c^{2} k_{z}^{2}}{{\\left(\\epsilon_{\\mathit{xx}} + \\frac{4 i \\, \\pi \\sigma_{e_{\\mathit{xx}}}}{\\omega}\\right)} \\omega^{2}} + \\frac{4 i \\, \\pi \\sigma_{m_{\\mathit{yy}}}}{\\omega}} + \\frac{\\mu_{\\mathit{yy}}}{\\mu_{\\mathit{yy}} - \\frac{c^{2} k_{z}^{2}}{{\\left(\\epsilon_{\\mathit{xx}} + \\frac{4 i \\, \\pi \\sigma_{e_{\\mathit{xx}}}}{\\omega}\\right)} \\omega^{2}} + \\frac{4 i \\, \\pi \\sigma_{m_{\\mathit{yy}}}}{\\omega}} - \\frac{4 i \\, \\pi \\sigma_{m_{\\mathit{xx}}}}{{\\left(\\mu_{\\mathit{yy}} - \\frac{c^{2} k_{z}^{2}}{{\\left(\\epsilon_{\\mathit{xx}} + \\frac{4 i \\, \\pi \\sigma_{e_{\\mathit{xx}}}}{\\omega}\\right)} \\omega^{2}} + \\frac{4 i \\, \\pi \\sigma_{m_{\\mathit{yy}}}}{\\omega}\\right)} \\omega} + \\frac{4 i \\, \\pi \\sigma_{m_{\\mathit{yy}}}}{{\\left(\\mu_{\\mathit{yy}} - \\frac{c^{2} k_{z}^{2}}{{\\left(\\epsilon_{\\mathit{xx}} + \\frac{4 i \\, \\pi \\sigma_{e_{\\mathit{xx}}}}{\\omega}\\right)} \\omega^{2}} + \\frac{4 i \\, \\pi \\sigma_{m_{\\mathit{yy}}}}{\\omega}\\right)} \\omega} - 1\\right)}} + \\frac{4 i \\, \\pi \\mathit{B1}_{x} \\mu_{\\mathit{xx}} \\omega \\sigma_{e_{\\mathit{zz}}} e^{\\left(\\frac{i \\, \\sqrt{-\\frac{\\epsilon_{\\mathit{zz}} \\mu_{\\mathit{xx}} \\omega^{2}}{\\frac{k_{z}}{k_{z} - \\frac{\\epsilon_{\\mathit{xx}} \\mu_{\\mathit{yy}} \\omega^{2}}{c^{2} k_{z}} - \\frac{4 i \\, \\pi \\mu_{\\mathit{yy}} \\omega \\sigma_{e_{\\mathit{xx}}}}{c^{2} k_{z}} - \\frac{4 i \\, \\pi \\epsilon_{\\mathit{xx}} \\omega \\sigma_{m_{\\mathit{yy}}}}{c^{2} k_{z}} + \\frac{16 \\, \\pi^{2} \\sigma_{e_{\\mathit{xx}}} \\sigma_{m_{\\mathit{yy}}}}{c^{2} k_{z}}} - \\frac{\\mu_{\\mathit{xx}}}{\\mu_{\\mathit{yy}} - \\frac{c^{2} k_{z}^{2}}{{\\left(\\epsilon_{\\mathit{xx}} + \\frac{4 i \\, \\pi \\sigma_{e_{\\mathit{xx}}}}{\\omega}\\right)} \\omega^{2}} + \\frac{4 i \\, \\pi \\sigma_{m_{\\mathit{yy}}}}{\\omega}} + \\frac{\\mu_{\\mathit{yy}}}{\\mu_{\\mathit{yy}} - \\frac{c^{2} k_{z}^{2}}{{\\left(\\epsilon_{\\mathit{xx}} + \\frac{4 i \\, \\pi \\sigma_{e_{\\mathit{xx}}}}{\\omega}\\right)} \\omega^{2}} + \\frac{4 i \\, \\pi \\sigma_{m_{\\mathit{yy}}}}{\\omega}} - \\frac{4 i \\, \\pi \\sigma_{m_{\\mathit{xx}}}}{{\\left(\\mu_{\\mathit{yy}} - \\frac{c^{2} k_{z}^{2}}{{\\left(\\epsilon_{\\mathit{xx}} + \\frac{4 i \\, \\pi \\sigma_{e_{\\mathit{xx}}}}{\\omega}\\right)} \\omega^{2}} + \\frac{4 i \\, \\pi \\sigma_{m_{\\mathit{yy}}}}{\\omega}\\right)} \\omega} + \\frac{4 i \\, \\pi \\sigma_{m_{\\mathit{yy}}}}{{\\left(\\mu_{\\mathit{yy}} - \\frac{c^{2} k_{z}^{2}}{{\\left(\\epsilon_{\\mathit{xx}} + \\frac{4 i \\, \\pi \\sigma_{e_{\\mathit{xx}}}}{\\omega}\\right)} \\omega^{2}} + \\frac{4 i \\, \\pi \\sigma_{m_{\\mathit{yy}}}}{\\omega}\\right)} \\omega} - 1} - \\frac{4 i \\, \\pi \\mu_{\\mathit{xx}} \\omega \\sigma_{e_{\\mathit{zz}}}}{\\frac{k_{z}}{k_{z} - \\frac{\\epsilon_{\\mathit{xx}} \\mu_{\\mathit{yy}} \\omega^{2}}{c^{2} k_{z}} - \\frac{4 i \\, \\pi \\mu_{\\mathit{yy}} \\omega \\sigma_{e_{\\mathit{xx}}}}{c^{2} k_{z}} - \\frac{4 i \\, \\pi \\epsilon_{\\mathit{xx}} \\omega \\sigma_{m_{\\mathit{yy}}}}{c^{2} k_{z}} + \\frac{16 \\, \\pi^{2} \\sigma_{e_{\\mathit{xx}}} \\sigma_{m_{\\mathit{yy}}}}{c^{2} k_{z}}} - \\frac{\\mu_{\\mathit{xx}}}{\\mu_{\\mathit{yy}} - \\frac{c^{2} k_{z}^{2}}{{\\left(\\epsilon_{\\mathit{xx}} + \\frac{4 i \\, \\pi \\sigma_{e_{\\mathit{xx}}}}{\\omega}\\right)} \\omega^{2}} + \\frac{4 i \\, \\pi \\sigma_{m_{\\mathit{yy}}}}{\\omega}} + \\frac{\\mu_{\\mathit{yy}}}{\\mu_{\\mathit{yy}} - \\frac{c^{2} k_{z}^{2}}{{\\left(\\epsilon_{\\mathit{xx}} + \\frac{4 i \\, \\pi \\sigma_{e_{\\mathit{xx}}}}{\\omega}\\right)} \\omega^{2}} + \\frac{4 i \\, \\pi \\sigma_{m_{\\mathit{yy}}}}{\\omega}} - \\frac{4 i \\, \\pi \\sigma_{m_{\\mathit{xx}}}}{{\\left(\\mu_{\\mathit{yy}} - \\frac{c^{2} k_{z}^{2}}{{\\left(\\epsilon_{\\mathit{xx}} + \\frac{4 i \\, \\pi \\sigma_{e_{\\mathit{xx}}}}{\\omega}\\right)} \\omega^{2}} + \\frac{4 i \\, \\pi \\sigma_{m_{\\mathit{yy}}}}{\\omega}\\right)} \\omega} + \\frac{4 i \\, \\pi \\sigma_{m_{\\mathit{yy}}}}{{\\left(\\mu_{\\mathit{yy}} - \\frac{c^{2} k_{z}^{2}}{{\\left(\\epsilon_{\\mathit{xx}} + \\frac{4 i \\, \\pi \\sigma_{e_{\\mathit{xx}}}}{\\omega}\\right)} \\omega^{2}} + \\frac{4 i \\, \\pi \\sigma_{m_{\\mathit{yy}}}}{\\omega}\\right)} \\omega} - 1} - \\frac{4 i \\, \\pi \\epsilon_{\\mathit{zz}} \\omega \\sigma_{m_{\\mathit{xx}}}}{\\frac{k_{z}}{k_{z} - \\frac{\\epsilon_{\\mathit{xx}} \\mu_{\\mathit{yy}} \\omega^{2}}{c^{2} k_{z}} - \\frac{4 i \\, \\pi \\mu_{\\mathit{yy}} \\omega \\sigma_{e_{\\mathit{xx}}}}{c^{2} k_{z}} - \\frac{4 i \\, \\pi \\epsilon_{\\mathit{xx}} \\omega \\sigma_{m_{\\mathit{yy}}}}{c^{2} k_{z}} + \\frac{16 \\, \\pi^{2} \\sigma_{e_{\\mathit{xx}}} \\sigma_{m_{\\mathit{yy}}}}{c^{2} k_{z}}} - \\frac{\\mu_{\\mathit{xx}}}{\\mu_{\\mathit{yy}} - \\frac{c^{2} k_{z}^{2}}{{\\left(\\epsilon_{\\mathit{xx}} + \\frac{4 i \\, \\pi \\sigma_{e_{\\mathit{xx}}}}{\\omega}\\right)} \\omega^{2}} + \\frac{4 i \\, \\pi \\sigma_{m_{\\mathit{yy}}}}{\\omega}} + \\frac{\\mu_{\\mathit{yy}}}{\\mu_{\\mathit{yy}} - \\frac{c^{2} k_{z}^{2}}{{\\left(\\epsilon_{\\mathit{xx}} + \\frac{4 i \\, \\pi \\sigma_{e_{\\mathit{xx}}}}{\\omega}\\right)} \\omega^{2}} + \\frac{4 i \\, \\pi \\sigma_{m_{\\mathit{yy}}}}{\\omega}} - \\frac{4 i \\, \\pi \\sigma_{m_{\\mathit{xx}}}}{{\\left(\\mu_{\\mathit{yy}} - \\frac{c^{2} k_{z}^{2}}{{\\left(\\epsilon_{\\mathit{xx}} + \\frac{4 i \\, \\pi \\sigma_{e_{\\mathit{xx}}}}{\\omega}\\right)} \\omega^{2}} + \\frac{4 i \\, \\pi \\sigma_{m_{\\mathit{yy}}}}{\\omega}\\right)} \\omega} + \\frac{4 i \\, \\pi \\sigma_{m_{\\mathit{yy}}}}{{\\left(\\mu_{\\mathit{yy}} - \\frac{c^{2} k_{z}^{2}}{{\\left(\\epsilon_{\\mathit{xx}} + \\frac{4 i \\, \\pi \\sigma_{e_{\\mathit{xx}}}}{\\omega}\\right)} \\omega^{2}} + \\frac{4 i \\, \\pi \\sigma_{m_{\\mathit{yy}}}}{\\omega}\\right)} \\omega} - 1} + \\frac{16 \\, \\pi^{2} \\sigma_{e_{\\mathit{zz}}} \\sigma_{m_{\\mathit{xx}}}}{\\frac{k_{z}}{k_{z} - \\frac{\\epsilon_{\\mathit{xx}} \\mu_{\\mathit{yy}} \\omega^{2}}{c^{2} k_{z}} - \\frac{4 i \\, \\pi \\mu_{\\mathit{yy}} \\omega \\sigma_{e_{\\mathit{xx}}}}{c^{2} k_{z}} - \\frac{4 i \\, \\pi \\epsilon_{\\mathit{xx}} \\omega \\sigma_{m_{\\mathit{yy}}}}{c^{2} k_{z}} + \\frac{16 \\, \\pi^{2} \\sigma_{e_{\\mathit{xx}}} \\sigma_{m_{\\mathit{yy}}}}{c^{2} k_{z}}} - \\frac{\\mu_{\\mathit{xx}}}{\\mu_{\\mathit{yy}} - \\frac{c^{2} k_{z}^{2}}{{\\left(\\epsilon_{\\mathit{xx}} + \\frac{4 i \\, \\pi \\sigma_{e_{\\mathit{xx}}}}{\\omega}\\right)} \\omega^{2}} + \\frac{4 i \\, \\pi \\sigma_{m_{\\mathit{yy}}}}{\\omega}} + \\frac{\\mu_{\\mathit{yy}}}{\\mu_{\\mathit{yy}} - \\frac{c^{2} k_{z}^{2}}{{\\left(\\epsilon_{\\mathit{xx}} + \\frac{4 i \\, \\pi \\sigma_{e_{\\mathit{xx}}}}{\\omega}\\right)} \\omega^{2}} + \\frac{4 i \\, \\pi \\sigma_{m_{\\mathit{yy}}}}{\\omega}} - \\frac{4 i \\, \\pi \\sigma_{m_{\\mathit{xx}}}}{{\\left(\\mu_{\\mathit{yy}} - \\frac{c^{2} k_{z}^{2}}{{\\left(\\epsilon_{\\mathit{xx}} + \\frac{4 i \\, \\pi \\sigma_{e_{\\mathit{xx}}}}{\\omega}\\right)} \\omega^{2}} + \\frac{4 i \\, \\pi \\sigma_{m_{\\mathit{yy}}}}{\\omega}\\right)} \\omega} + \\frac{4 i \\, \\pi \\sigma_{m_{\\mathit{yy}}}}{{\\left(\\mu_{\\mathit{yy}} - \\frac{c^{2} k_{z}^{2}}{{\\left(\\epsilon_{\\mathit{xx}} + \\frac{4 i \\, \\pi \\sigma_{e_{\\mathit{xx}}}}{\\omega}\\right)} \\omega^{2}} + \\frac{4 i \\, \\pi \\sigma_{m_{\\mathit{yy}}}}{\\omega}\\right)} \\omega} - 1}} x}{c}\\right)}}{c^{2} {\\left(\\frac{k_{z}}{k_{z} - \\frac{\\epsilon_{\\mathit{xx}} \\mu_{\\mathit{yy}} \\omega^{2}}{c^{2} k_{z}} - \\frac{4 i \\, \\pi \\mu_{\\mathit{yy}} \\omega \\sigma_{e_{\\mathit{xx}}}}{c^{2} k_{z}} - \\frac{4 i \\, \\pi \\epsilon_{\\mathit{xx}} \\omega \\sigma_{m_{\\mathit{yy}}}}{c^{2} k_{z}} + \\frac{16 \\, \\pi^{2} \\sigma_{e_{\\mathit{xx}}} \\sigma_{m_{\\mathit{yy}}}}{c^{2} k_{z}}} - \\frac{\\mu_{\\mathit{xx}}}{\\mu_{\\mathit{yy}} - \\frac{c^{2} k_{z}^{2}}{{\\left(\\epsilon_{\\mathit{xx}} + \\frac{4 i \\, \\pi \\sigma_{e_{\\mathit{xx}}}}{\\omega}\\right)} \\omega^{2}} + \\frac{4 i \\, \\pi \\sigma_{m_{\\mathit{yy}}}}{\\omega}} + \\frac{\\mu_{\\mathit{yy}}}{\\mu_{\\mathit{yy}} - \\frac{c^{2} k_{z}^{2}}{{\\left(\\epsilon_{\\mathit{xx}} + \\frac{4 i \\, \\pi \\sigma_{e_{\\mathit{xx}}}}{\\omega}\\right)} \\omega^{2}} + \\frac{4 i \\, \\pi \\sigma_{m_{\\mathit{yy}}}}{\\omega}} - \\frac{4 i \\, \\pi \\sigma_{m_{\\mathit{xx}}}}{{\\left(\\mu_{\\mathit{yy}} - \\frac{c^{2} k_{z}^{2}}{{\\left(\\epsilon_{\\mathit{xx}} + \\frac{4 i \\, \\pi \\sigma_{e_{\\mathit{xx}}}}{\\omega}\\right)} \\omega^{2}} + \\frac{4 i \\, \\pi \\sigma_{m_{\\mathit{yy}}}}{\\omega}\\right)} \\omega} + \\frac{4 i \\, \\pi \\sigma_{m_{\\mathit{yy}}}}{{\\left(\\mu_{\\mathit{yy}} - \\frac{c^{2} k_{z}^{2}}{{\\left(\\epsilon_{\\mathit{xx}} + \\frac{4 i \\, \\pi \\sigma_{e_{\\mathit{xx}}}}{\\omega}\\right)} \\omega^{2}} + \\frac{4 i \\, \\pi \\sigma_{m_{\\mathit{yy}}}}{\\omega}\\right)} \\omega} - 1\\right)}} + \\frac{4 i \\, \\pi \\mathit{B1}_{x} \\epsilon_{\\mathit{zz}} \\omega \\sigma_{m_{\\mathit{xx}}} e^{\\left(\\frac{i \\, \\sqrt{-\\frac{\\epsilon_{\\mathit{zz}} \\mu_{\\mathit{xx}} \\omega^{2}}{\\frac{k_{z}}{k_{z} - \\frac{\\epsilon_{\\mathit{xx}} \\mu_{\\mathit{yy}} \\omega^{2}}{c^{2} k_{z}} - \\frac{4 i \\, \\pi \\mu_{\\mathit{yy}} \\omega \\sigma_{e_{\\mathit{xx}}}}{c^{2} k_{z}} - \\frac{4 i \\, \\pi \\epsilon_{\\mathit{xx}} \\omega \\sigma_{m_{\\mathit{yy}}}}{c^{2} k_{z}} + \\frac{16 \\, \\pi^{2} \\sigma_{e_{\\mathit{xx}}} \\sigma_{m_{\\mathit{yy}}}}{c^{2} k_{z}}} - \\frac{\\mu_{\\mathit{xx}}}{\\mu_{\\mathit{yy}} - \\frac{c^{2} k_{z}^{2}}{{\\left(\\epsilon_{\\mathit{xx}} + \\frac{4 i \\, \\pi \\sigma_{e_{\\mathit{xx}}}}{\\omega}\\right)} \\omega^{2}} + \\frac{4 i \\, \\pi \\sigma_{m_{\\mathit{yy}}}}{\\omega}} + \\frac{\\mu_{\\mathit{yy}}}{\\mu_{\\mathit{yy}} - \\frac{c^{2} k_{z}^{2}}{{\\left(\\epsilon_{\\mathit{xx}} + \\frac{4 i \\, \\pi \\sigma_{e_{\\mathit{xx}}}}{\\omega}\\right)} \\omega^{2}} + \\frac{4 i \\, \\pi \\sigma_{m_{\\mathit{yy}}}}{\\omega}} - \\frac{4 i \\, \\pi \\sigma_{m_{\\mathit{xx}}}}{{\\left(\\mu_{\\mathit{yy}} - \\frac{c^{2} k_{z}^{2}}{{\\left(\\epsilon_{\\mathit{xx}} + \\frac{4 i \\, \\pi \\sigma_{e_{\\mathit{xx}}}}{\\omega}\\right)} \\omega^{2}} + \\frac{4 i \\, \\pi \\sigma_{m_{\\mathit{yy}}}}{\\omega}\\right)} \\omega} + \\frac{4 i \\, \\pi \\sigma_{m_{\\mathit{yy}}}}{{\\left(\\mu_{\\mathit{yy}} - \\frac{c^{2} k_{z}^{2}}{{\\left(\\epsilon_{\\mathit{xx}} + \\frac{4 i \\, \\pi \\sigma_{e_{\\mathit{xx}}}}{\\omega}\\right)} \\omega^{2}} + \\frac{4 i \\, \\pi \\sigma_{m_{\\mathit{yy}}}}{\\omega}\\right)} \\omega} - 1} - \\frac{4 i \\, \\pi \\mu_{\\mathit{xx}} \\omega \\sigma_{e_{\\mathit{zz}}}}{\\frac{k_{z}}{k_{z} - \\frac{\\epsilon_{\\mathit{xx}} \\mu_{\\mathit{yy}} \\omega^{2}}{c^{2} k_{z}} - \\frac{4 i \\, \\pi \\mu_{\\mathit{yy}} \\omega \\sigma_{e_{\\mathit{xx}}}}{c^{2} k_{z}} - \\frac{4 i \\, \\pi \\epsilon_{\\mathit{xx}} \\omega \\sigma_{m_{\\mathit{yy}}}}{c^{2} k_{z}} + \\frac{16 \\, \\pi^{2} \\sigma_{e_{\\mathit{xx}}} \\sigma_{m_{\\mathit{yy}}}}{c^{2} k_{z}}} - \\frac{\\mu_{\\mathit{xx}}}{\\mu_{\\mathit{yy}} - \\frac{c^{2} k_{z}^{2}}{{\\left(\\epsilon_{\\mathit{xx}} + \\frac{4 i \\, \\pi \\sigma_{e_{\\mathit{xx}}}}{\\omega}\\right)} \\omega^{2}} + \\frac{4 i \\, \\pi \\sigma_{m_{\\mathit{yy}}}}{\\omega}} + \\frac{\\mu_{\\mathit{yy}}}{\\mu_{\\mathit{yy}} - \\frac{c^{2} k_{z}^{2}}{{\\left(\\epsilon_{\\mathit{xx}} + \\frac{4 i \\, \\pi \\sigma_{e_{\\mathit{xx}}}}{\\omega}\\right)} \\omega^{2}} + \\frac{4 i \\, \\pi \\sigma_{m_{\\mathit{yy}}}}{\\omega}} - \\frac{4 i \\, \\pi \\sigma_{m_{\\mathit{xx}}}}{{\\left(\\mu_{\\mathit{yy}} - \\frac{c^{2} k_{z}^{2}}{{\\left(\\epsilon_{\\mathit{xx}} + \\frac{4 i \\, \\pi \\sigma_{e_{\\mathit{xx}}}}{\\omega}\\right)} \\omega^{2}} + \\frac{4 i \\, \\pi \\sigma_{m_{\\mathit{yy}}}}{\\omega}\\right)} \\omega} + \\frac{4 i \\, \\pi \\sigma_{m_{\\mathit{yy}}}}{{\\left(\\mu_{\\mathit{yy}} - \\frac{c^{2} k_{z}^{2}}{{\\left(\\epsilon_{\\mathit{xx}} + \\frac{4 i \\, \\pi \\sigma_{e_{\\mathit{xx}}}}{\\omega}\\right)} \\omega^{2}} + \\frac{4 i \\, \\pi \\sigma_{m_{\\mathit{yy}}}}{\\omega}\\right)} \\omega} - 1} - \\frac{4 i \\, \\pi \\epsilon_{\\mathit{zz}} \\omega \\sigma_{m_{\\mathit{xx}}}}{\\frac{k_{z}}{k_{z} - \\frac{\\epsilon_{\\mathit{xx}} \\mu_{\\mathit{yy}} \\omega^{2}}{c^{2} k_{z}} - \\frac{4 i \\, \\pi \\mu_{\\mathit{yy}} \\omega \\sigma_{e_{\\mathit{xx}}}}{c^{2} k_{z}} - \\frac{4 i \\, \\pi \\epsilon_{\\mathit{xx}} \\omega \\sigma_{m_{\\mathit{yy}}}}{c^{2} k_{z}} + \\frac{16 \\, \\pi^{2} \\sigma_{e_{\\mathit{xx}}} \\sigma_{m_{\\mathit{yy}}}}{c^{2} k_{z}}} - \\frac{\\mu_{\\mathit{xx}}}{\\mu_{\\mathit{yy}} - \\frac{c^{2} k_{z}^{2}}{{\\left(\\epsilon_{\\mathit{xx}} + \\frac{4 i \\, \\pi \\sigma_{e_{\\mathit{xx}}}}{\\omega}\\right)} \\omega^{2}} + \\frac{4 i \\, \\pi \\sigma_{m_{\\mathit{yy}}}}{\\omega}} + \\frac{\\mu_{\\mathit{yy}}}{\\mu_{\\mathit{yy}} - \\frac{c^{2} k_{z}^{2}}{{\\left(\\epsilon_{\\mathit{xx}} + \\frac{4 i \\, \\pi \\sigma_{e_{\\mathit{xx}}}}{\\omega}\\right)} \\omega^{2}} + \\frac{4 i \\, \\pi \\sigma_{m_{\\mathit{yy}}}}{\\omega}} - \\frac{4 i \\, \\pi \\sigma_{m_{\\mathit{xx}}}}{{\\left(\\mu_{\\mathit{yy}} - \\frac{c^{2} k_{z}^{2}}{{\\left(\\epsilon_{\\mathit{xx}} + \\frac{4 i \\, \\pi \\sigma_{e_{\\mathit{xx}}}}{\\omega}\\right)} \\omega^{2}} + \\frac{4 i \\, \\pi \\sigma_{m_{\\mathit{yy}}}}{\\omega}\\right)} \\omega} + \\frac{4 i \\, \\pi \\sigma_{m_{\\mathit{yy}}}}{{\\left(\\mu_{\\mathit{yy}} - \\frac{c^{2} k_{z}^{2}}{{\\left(\\epsilon_{\\mathit{xx}} + \\frac{4 i \\, \\pi \\sigma_{e_{\\mathit{xx}}}}{\\omega}\\right)} \\omega^{2}} + \\frac{4 i \\, \\pi \\sigma_{m_{\\mathit{yy}}}}{\\omega}\\right)} \\omega} - 1} + \\frac{16 \\, \\pi^{2} \\sigma_{e_{\\mathit{zz}}} \\sigma_{m_{\\mathit{xx}}}}{\\frac{k_{z}}{k_{z} - \\frac{\\epsilon_{\\mathit{xx}} \\mu_{\\mathit{yy}} \\omega^{2}}{c^{2} k_{z}} - \\frac{4 i \\, \\pi \\mu_{\\mathit{yy}} \\omega \\sigma_{e_{\\mathit{xx}}}}{c^{2} k_{z}} - \\frac{4 i \\, \\pi \\epsilon_{\\mathit{xx}} \\omega \\sigma_{m_{\\mathit{yy}}}}{c^{2} k_{z}} + \\frac{16 \\, \\pi^{2} \\sigma_{e_{\\mathit{xx}}} \\sigma_{m_{\\mathit{yy}}}}{c^{2} k_{z}}} - \\frac{\\mu_{\\mathit{xx}}}{\\mu_{\\mathit{yy}} - \\frac{c^{2} k_{z}^{2}}{{\\left(\\epsilon_{\\mathit{xx}} + \\frac{4 i \\, \\pi \\sigma_{e_{\\mathit{xx}}}}{\\omega}\\right)} \\omega^{2}} + \\frac{4 i \\, \\pi \\sigma_{m_{\\mathit{yy}}}}{\\omega}} + \\frac{\\mu_{\\mathit{yy}}}{\\mu_{\\mathit{yy}} - \\frac{c^{2} k_{z}^{2}}{{\\left(\\epsilon_{\\mathit{xx}} + \\frac{4 i \\, \\pi \\sigma_{e_{\\mathit{xx}}}}{\\omega}\\right)} \\omega^{2}} + \\frac{4 i \\, \\pi \\sigma_{m_{\\mathit{yy}}}}{\\omega}} - \\frac{4 i \\, \\pi \\sigma_{m_{\\mathit{xx}}}}{{\\left(\\mu_{\\mathit{yy}} - \\frac{c^{2} k_{z}^{2}}{{\\left(\\epsilon_{\\mathit{xx}} + \\frac{4 i \\, \\pi \\sigma_{e_{\\mathit{xx}}}}{\\omega}\\right)} \\omega^{2}} + \\frac{4 i \\, \\pi \\sigma_{m_{\\mathit{yy}}}}{\\omega}\\right)} \\omega} + \\frac{4 i \\, \\pi \\sigma_{m_{\\mathit{yy}}}}{{\\left(\\mu_{\\mathit{yy}} - \\frac{c^{2} k_{z}^{2}}{{\\left(\\epsilon_{\\mathit{xx}} + \\frac{4 i \\, \\pi \\sigma_{e_{\\mathit{xx}}}}{\\omega}\\right)} \\omega^{2}} + \\frac{4 i \\, \\pi \\sigma_{m_{\\mathit{yy}}}}{\\omega}\\right)} \\omega} - 1}} x}{c}\\right)}}{c^{2} {\\left(\\frac{k_{z}}{k_{z} - \\frac{\\epsilon_{\\mathit{xx}} \\mu_{\\mathit{yy}} \\omega^{2}}{c^{2} k_{z}} - \\frac{4 i \\, \\pi \\mu_{\\mathit{yy}} \\omega \\sigma_{e_{\\mathit{xx}}}}{c^{2} k_{z}} - \\frac{4 i \\, \\pi \\epsilon_{\\mathit{xx}} \\omega \\sigma_{m_{\\mathit{yy}}}}{c^{2} k_{z}} + \\frac{16 \\, \\pi^{2} \\sigma_{e_{\\mathit{xx}}} \\sigma_{m_{\\mathit{yy}}}}{c^{2} k_{z}}} - \\frac{\\mu_{\\mathit{xx}}}{\\mu_{\\mathit{yy}} - \\frac{c^{2} k_{z}^{2}}{{\\left(\\epsilon_{\\mathit{xx}} + \\frac{4 i \\, \\pi \\sigma_{e_{\\mathit{xx}}}}{\\omega}\\right)} \\omega^{2}} + \\frac{4 i \\, \\pi \\sigma_{m_{\\mathit{yy}}}}{\\omega}} + \\frac{\\mu_{\\mathit{yy}}}{\\mu_{\\mathit{yy}} - \\frac{c^{2} k_{z}^{2}}{{\\left(\\epsilon_{\\mathit{xx}} + \\frac{4 i \\, \\pi \\sigma_{e_{\\mathit{xx}}}}{\\omega}\\right)} \\omega^{2}} + \\frac{4 i \\, \\pi \\sigma_{m_{\\mathit{yy}}}}{\\omega}} - \\frac{4 i \\, \\pi \\sigma_{m_{\\mathit{xx}}}}{{\\left(\\mu_{\\mathit{yy}} - \\frac{c^{2} k_{z}^{2}}{{\\left(\\epsilon_{\\mathit{xx}} + \\frac{4 i \\, \\pi \\sigma_{e_{\\mathit{xx}}}}{\\omega}\\right)} \\omega^{2}} + \\frac{4 i \\, \\pi \\sigma_{m_{\\mathit{yy}}}}{\\omega}\\right)} \\omega} + \\frac{4 i \\, \\pi \\sigma_{m_{\\mathit{yy}}}}{{\\left(\\mu_{\\mathit{yy}} - \\frac{c^{2} k_{z}^{2}}{{\\left(\\epsilon_{\\mathit{xx}} + \\frac{4 i \\, \\pi \\sigma_{e_{\\mathit{xx}}}}{\\omega}\\right)} \\omega^{2}} + \\frac{4 i \\, \\pi \\sigma_{m_{\\mathit{yy}}}}{\\omega}\\right)} \\omega} - 1\\right)}} - \\frac{16 \\, \\pi^{2} \\mathit{B1}_{x} \\sigma_{e_{\\mathit{zz}}} \\sigma_{m_{\\mathit{xx}}} e^{\\left(\\frac{i \\, \\sqrt{-\\frac{\\epsilon_{\\mathit{zz}} \\mu_{\\mathit{xx}} \\omega^{2}}{\\frac{k_{z}}{k_{z} - \\frac{\\epsilon_{\\mathit{xx}} \\mu_{\\mathit{yy}} \\omega^{2}}{c^{2} k_{z}} - \\frac{4 i \\, \\pi \\mu_{\\mathit{yy}} \\omega \\sigma_{e_{\\mathit{xx}}}}{c^{2} k_{z}} - \\frac{4 i \\, \\pi \\epsilon_{\\mathit{xx}} \\omega \\sigma_{m_{\\mathit{yy}}}}{c^{2} k_{z}} + \\frac{16 \\, \\pi^{2} \\sigma_{e_{\\mathit{xx}}} \\sigma_{m_{\\mathit{yy}}}}{c^{2} k_{z}}} - \\frac{\\mu_{\\mathit{xx}}}{\\mu_{\\mathit{yy}} - \\frac{c^{2} k_{z}^{2}}{{\\left(\\epsilon_{\\mathit{xx}} + \\frac{4 i \\, \\pi \\sigma_{e_{\\mathit{xx}}}}{\\omega}\\right)} \\omega^{2}} + \\frac{4 i \\, \\pi \\sigma_{m_{\\mathit{yy}}}}{\\omega}} + \\frac{\\mu_{\\mathit{yy}}}{\\mu_{\\mathit{yy}} - \\frac{c^{2} k_{z}^{2}}{{\\left(\\epsilon_{\\mathit{xx}} + \\frac{4 i \\, \\pi \\sigma_{e_{\\mathit{xx}}}}{\\omega}\\right)} \\omega^{2}} + \\frac{4 i \\, \\pi \\sigma_{m_{\\mathit{yy}}}}{\\omega}} - \\frac{4 i \\, \\pi \\sigma_{m_{\\mathit{xx}}}}{{\\left(\\mu_{\\mathit{yy}} - \\frac{c^{2} k_{z}^{2}}{{\\left(\\epsilon_{\\mathit{xx}} + \\frac{4 i \\, \\pi \\sigma_{e_{\\mathit{xx}}}}{\\omega}\\right)} \\omega^{2}} + \\frac{4 i \\, \\pi \\sigma_{m_{\\mathit{yy}}}}{\\omega}\\right)} \\omega} + \\frac{4 i \\, \\pi \\sigma_{m_{\\mathit{yy}}}}{{\\left(\\mu_{\\mathit{yy}} - \\frac{c^{2} k_{z}^{2}}{{\\left(\\epsilon_{\\mathit{xx}} + \\frac{4 i \\, \\pi \\sigma_{e_{\\mathit{xx}}}}{\\omega}\\right)} \\omega^{2}} + \\frac{4 i \\, \\pi \\sigma_{m_{\\mathit{yy}}}}{\\omega}\\right)} \\omega} - 1} - \\frac{4 i \\, \\pi \\mu_{\\mathit{xx}} \\omega \\sigma_{e_{\\mathit{zz}}}}{\\frac{k_{z}}{k_{z} - \\frac{\\epsilon_{\\mathit{xx}} \\mu_{\\mathit{yy}} \\omega^{2}}{c^{2} k_{z}} - \\frac{4 i \\, \\pi \\mu_{\\mathit{yy}} \\omega \\sigma_{e_{\\mathit{xx}}}}{c^{2} k_{z}} - \\frac{4 i \\, \\pi \\epsilon_{\\mathit{xx}} \\omega \\sigma_{m_{\\mathit{yy}}}}{c^{2} k_{z}} + \\frac{16 \\, \\pi^{2} \\sigma_{e_{\\mathit{xx}}} \\sigma_{m_{\\mathit{yy}}}}{c^{2} k_{z}}} - \\frac{\\mu_{\\mathit{xx}}}{\\mu_{\\mathit{yy}} - \\frac{c^{2} k_{z}^{2}}{{\\left(\\epsilon_{\\mathit{xx}} + \\frac{4 i \\, \\pi \\sigma_{e_{\\mathit{xx}}}}{\\omega}\\right)} \\omega^{2}} + \\frac{4 i \\, \\pi \\sigma_{m_{\\mathit{yy}}}}{\\omega}} + \\frac{\\mu_{\\mathit{yy}}}{\\mu_{\\mathit{yy}} - \\frac{c^{2} k_{z}^{2}}{{\\left(\\epsilon_{\\mathit{xx}} + \\frac{4 i \\, \\pi \\sigma_{e_{\\mathit{xx}}}}{\\omega}\\right)} \\omega^{2}} + \\frac{4 i \\, \\pi \\sigma_{m_{\\mathit{yy}}}}{\\omega}} - \\frac{4 i \\, \\pi \\sigma_{m_{\\mathit{xx}}}}{{\\left(\\mu_{\\mathit{yy}} - \\frac{c^{2} k_{z}^{2}}{{\\left(\\epsilon_{\\mathit{xx}} + \\frac{4 i \\, \\pi \\sigma_{e_{\\mathit{xx}}}}{\\omega}\\right)} \\omega^{2}} + \\frac{4 i \\, \\pi \\sigma_{m_{\\mathit{yy}}}}{\\omega}\\right)} \\omega} + \\frac{4 i \\, \\pi \\sigma_{m_{\\mathit{yy}}}}{{\\left(\\mu_{\\mathit{yy}} - \\frac{c^{2} k_{z}^{2}}{{\\left(\\epsilon_{\\mathit{xx}} + \\frac{4 i \\, \\pi \\sigma_{e_{\\mathit{xx}}}}{\\omega}\\right)} \\omega^{2}} + \\frac{4 i \\, \\pi \\sigma_{m_{\\mathit{yy}}}}{\\omega}\\right)} \\omega} - 1} - \\frac{4 i \\, \\pi \\epsilon_{\\mathit{zz}} \\omega \\sigma_{m_{\\mathit{xx}}}}{\\frac{k_{z}}{k_{z} - \\frac{\\epsilon_{\\mathit{xx}} \\mu_{\\mathit{yy}} \\omega^{2}}{c^{2} k_{z}} - \\frac{4 i \\, \\pi \\mu_{\\mathit{yy}} \\omega \\sigma_{e_{\\mathit{xx}}}}{c^{2} k_{z}} - \\frac{4 i \\, \\pi \\epsilon_{\\mathit{xx}} \\omega \\sigma_{m_{\\mathit{yy}}}}{c^{2} k_{z}} + \\frac{16 \\, \\pi^{2} \\sigma_{e_{\\mathit{xx}}} \\sigma_{m_{\\mathit{yy}}}}{c^{2} k_{z}}} - \\frac{\\mu_{\\mathit{xx}}}{\\mu_{\\mathit{yy}} - \\frac{c^{2} k_{z}^{2}}{{\\left(\\epsilon_{\\mathit{xx}} + \\frac{4 i \\, \\pi \\sigma_{e_{\\mathit{xx}}}}{\\omega}\\right)} \\omega^{2}} + \\frac{4 i \\, \\pi \\sigma_{m_{\\mathit{yy}}}}{\\omega}} + \\frac{\\mu_{\\mathit{yy}}}{\\mu_{\\mathit{yy}} - \\frac{c^{2} k_{z}^{2}}{{\\left(\\epsilon_{\\mathit{xx}} + \\frac{4 i \\, \\pi \\sigma_{e_{\\mathit{xx}}}}{\\omega}\\right)} \\omega^{2}} + \\frac{4 i \\, \\pi \\sigma_{m_{\\mathit{yy}}}}{\\omega}} - \\frac{4 i \\, \\pi \\sigma_{m_{\\mathit{xx}}}}{{\\left(\\mu_{\\mathit{yy}} - \\frac{c^{2} k_{z}^{2}}{{\\left(\\epsilon_{\\mathit{xx}} + \\frac{4 i \\, \\pi \\sigma_{e_{\\mathit{xx}}}}{\\omega}\\right)} \\omega^{2}} + \\frac{4 i \\, \\pi \\sigma_{m_{\\mathit{yy}}}}{\\omega}\\right)} \\omega} + \\frac{4 i \\, \\pi \\sigma_{m_{\\mathit{yy}}}}{{\\left(\\mu_{\\mathit{yy}} - \\frac{c^{2} k_{z}^{2}}{{\\left(\\epsilon_{\\mathit{xx}} + \\frac{4 i \\, \\pi \\sigma_{e_{\\mathit{xx}}}}{\\omega}\\right)} \\omega^{2}} + \\frac{4 i \\, \\pi \\sigma_{m_{\\mathit{yy}}}}{\\omega}\\right)} \\omega} - 1} + \\frac{16 \\, \\pi^{2} \\sigma_{e_{\\mathit{zz}}} \\sigma_{m_{\\mathit{xx}}}}{\\frac{k_{z}}{k_{z} - \\frac{\\epsilon_{\\mathit{xx}} \\mu_{\\mathit{yy}} \\omega^{2}}{c^{2} k_{z}} - \\frac{4 i \\, \\pi \\mu_{\\mathit{yy}} \\omega \\sigma_{e_{\\mathit{xx}}}}{c^{2} k_{z}} - \\frac{4 i \\, \\pi \\epsilon_{\\mathit{xx}} \\omega \\sigma_{m_{\\mathit{yy}}}}{c^{2} k_{z}} + \\frac{16 \\, \\pi^{2} \\sigma_{e_{\\mathit{xx}}} \\sigma_{m_{\\mathit{yy}}}}{c^{2} k_{z}}} - \\frac{\\mu_{\\mathit{xx}}}{\\mu_{\\mathit{yy}} - \\frac{c^{2} k_{z}^{2}}{{\\left(\\epsilon_{\\mathit{xx}} + \\frac{4 i \\, \\pi \\sigma_{e_{\\mathit{xx}}}}{\\omega}\\right)} \\omega^{2}} + \\frac{4 i \\, \\pi \\sigma_{m_{\\mathit{yy}}}}{\\omega}} + \\frac{\\mu_{\\mathit{yy}}}{\\mu_{\\mathit{yy}} - \\frac{c^{2} k_{z}^{2}}{{\\left(\\epsilon_{\\mathit{xx}} + \\frac{4 i \\, \\pi \\sigma_{e_{\\mathit{xx}}}}{\\omega}\\right)} \\omega^{2}} + \\frac{4 i \\, \\pi \\sigma_{m_{\\mathit{yy}}}}{\\omega}} - \\frac{4 i \\, \\pi \\sigma_{m_{\\mathit{xx}}}}{{\\left(\\mu_{\\mathit{yy}} - \\frac{c^{2} k_{z}^{2}}{{\\left(\\epsilon_{\\mathit{xx}} + \\frac{4 i \\, \\pi \\sigma_{e_{\\mathit{xx}}}}{\\omega}\\right)} \\omega^{2}} + \\frac{4 i \\, \\pi \\sigma_{m_{\\mathit{yy}}}}{\\omega}\\right)} \\omega} + \\frac{4 i \\, \\pi \\sigma_{m_{\\mathit{yy}}}}{{\\left(\\mu_{\\mathit{yy}} - \\frac{c^{2} k_{z}^{2}}{{\\left(\\epsilon_{\\mathit{xx}} + \\frac{4 i \\, \\pi \\sigma_{e_{\\mathit{xx}}}}{\\omega}\\right)} \\omega^{2}} + \\frac{4 i \\, \\pi \\sigma_{m_{\\mathit{yy}}}}{\\omega}\\right)} \\omega} - 1}} x}{c}\\right)}}{c^{2} {\\left(\\frac{k_{z}}{k_{z} - \\frac{\\epsilon_{\\mathit{xx}} \\mu_{\\mathit{yy}} \\omega^{2}}{c^{2} k_{z}} - \\frac{4 i \\, \\pi \\mu_{\\mathit{yy}} \\omega \\sigma_{e_{\\mathit{xx}}}}{c^{2} k_{z}} - \\frac{4 i \\, \\pi \\epsilon_{\\mathit{xx}} \\omega \\sigma_{m_{\\mathit{yy}}}}{c^{2} k_{z}} + \\frac{16 \\, \\pi^{2} \\sigma_{e_{\\mathit{xx}}} \\sigma_{m_{\\mathit{yy}}}}{c^{2} k_{z}}} - \\frac{\\mu_{\\mathit{xx}}}{\\mu_{\\mathit{yy}} - \\frac{c^{2} k_{z}^{2}}{{\\left(\\epsilon_{\\mathit{xx}} + \\frac{4 i \\, \\pi \\sigma_{e_{\\mathit{xx}}}}{\\omega}\\right)} \\omega^{2}} + \\frac{4 i \\, \\pi \\sigma_{m_{\\mathit{yy}}}}{\\omega}} + \\frac{\\mu_{\\mathit{yy}}}{\\mu_{\\mathit{yy}} - \\frac{c^{2} k_{z}^{2}}{{\\left(\\epsilon_{\\mathit{xx}} + \\frac{4 i \\, \\pi \\sigma_{e_{\\mathit{xx}}}}{\\omega}\\right)} \\omega^{2}} + \\frac{4 i \\, \\pi \\sigma_{m_{\\mathit{yy}}}}{\\omega}} - \\frac{4 i \\, \\pi \\sigma_{m_{\\mathit{xx}}}}{{\\left(\\mu_{\\mathit{yy}} - \\frac{c^{2} k_{z}^{2}}{{\\left(\\epsilon_{\\mathit{xx}} + \\frac{4 i \\, \\pi \\sigma_{e_{\\mathit{xx}}}}{\\omega}\\right)} \\omega^{2}} + \\frac{4 i \\, \\pi \\sigma_{m_{\\mathit{yy}}}}{\\omega}\\right)} \\omega} + \\frac{4 i \\, \\pi \\sigma_{m_{\\mathit{yy}}}}{{\\left(\\mu_{\\mathit{yy}} - \\frac{c^{2} k_{z}^{2}}{{\\left(\\epsilon_{\\mathit{xx}} + \\frac{4 i \\, \\pi \\sigma_{e_{\\mathit{xx}}}}{\\omega}\\right)} \\omega^{2}} + \\frac{4 i \\, \\pi \\sigma_{m_{\\mathit{yy}}}}{\\omega}\\right)} \\omega} - 1\\right)}}$"
      ],
      "text/plain": [
       "I*B1_z*k_z^2*e^(I*sqrt(-epsilon_zz*mu_xx*omega^2/(k_z/(k_z - epsilon_xx*mu_yy*omega^2/(c^2*k_z) - 4*I*pi*mu_yy*omega*sigma_e_xx/(c^2*k_z) - 4*I*pi*epsilon_xx*omega*sigma_m_yy/(c^2*k_z) + 16*pi^2*sigma_e_xx*sigma_m_yy/(c^2*k_z)) - mu_xx/(mu_yy - c^2*k_z^2/((epsilon_xx + 4*I*pi*sigma_e_xx/omega)*omega^2) + 4*I*pi*sigma_m_yy/omega) + mu_yy/(mu_yy - c^2*k_z^2/((epsilon_xx + 4*I*pi*sigma_e_xx/omega)*omega^2) + 4*I*pi*sigma_m_yy/omega) - 4*I*pi*sigma_m_xx/((mu_yy - c^2*k_z^2/((epsilon_xx + 4*I*pi*sigma_e_xx/omega)*omega^2) + 4*I*pi*sigma_m_yy/omega)*omega) + 4*I*pi*sigma_m_yy/((mu_yy - c^2*k_z^2/((epsilon_xx + 4*I*pi*sigma_e_xx/omega)*omega^2) + 4*I*pi*sigma_m_yy/omega)*omega) - 1) - 4*I*pi*mu_xx*omega*sigma_e_zz/(k_z/(k_z - epsilon_xx*mu_yy*omega^2/(c^2*k_z) - 4*I*pi*mu_yy*omega*sigma_e_xx/(c^2*k_z) - 4*I*pi*epsilon_xx*omega*sigma_m_yy/(c^2*k_z) + 16*pi^2*sigma_e_xx*sigma_m_yy/(c^2*k_z)) - mu_xx/(mu_yy - c^2*k_z^2/((epsilon_xx + 4*I*pi*sigma_e_xx/omega)*omega^2) + 4*I*pi*sigma_m_yy/omega) + mu_yy/(mu_yy - c^2*k_z^2/((epsilon_xx + 4*I*pi*sigma_e_xx/omega)*omega^2) + 4*I*pi*sigma_m_yy/omega) - 4*I*pi*sigma_m_xx/((mu_yy - c^2*k_z^2/((epsilon_xx + 4*I*pi*sigma_e_xx/omega)*omega^2) + 4*I*pi*sigma_m_yy/omega)*omega) + 4*I*pi*sigma_m_yy/((mu_yy - c^2*k_z^2/((epsilon_xx + 4*I*pi*sigma_e_xx/omega)*omega^2) + 4*I*pi*sigma_m_yy/omega)*omega) - 1) - 4*I*pi*epsilon_zz*omega*sigma_m_xx/(k_z/(k_z - epsilon_xx*mu_yy*omega^2/(c^2*k_z) - 4*I*pi*mu_yy*omega*sigma_e_xx/(c^2*k_z) - 4*I*pi*epsilon_xx*omega*sigma_m_yy/(c^2*k_z) + 16*pi^2*sigma_e_xx*sigma_m_yy/(c^2*k_z)) - mu_xx/(mu_yy - c^2*k_z^2/((epsilon_xx + 4*I*pi*sigma_e_xx/omega)*omega^2) + 4*I*pi*sigma_m_yy/omega) + mu_yy/(mu_yy - c^2*k_z^2/((epsilon_xx + 4*I*pi*sigma_e_xx/omega)*omega^2) + 4*I*pi*sigma_m_yy/omega) - 4*I*pi*sigma_m_xx/((mu_yy - c^2*k_z^2/((epsilon_xx + 4*I*pi*sigma_e_xx/omega)*omega^2) + 4*I*pi*sigma_m_yy/omega)*omega) + 4*I*pi*sigma_m_yy/((mu_yy - c^2*k_z^2/((epsilon_xx + 4*I*pi*sigma_e_xx/omega)*omega^2) + 4*I*pi*sigma_m_yy/omega)*omega) - 1) + 16*pi^2*sigma_e_zz*sigma_m_xx/(k_z/(k_z - epsilon_xx*mu_yy*omega^2/(c^2*k_z) - 4*I*pi*mu_yy*omega*sigma_e_xx/(c^2*k_z) - 4*I*pi*epsilon_xx*omega*sigma_m_yy/(c^2*k_z) + 16*pi^2*sigma_e_xx*sigma_m_yy/(c^2*k_z)) - mu_xx/(mu_yy - c^2*k_z^2/((epsilon_xx + 4*I*pi*sigma_e_xx/omega)*omega^2) + 4*I*pi*sigma_m_yy/omega) + mu_yy/(mu_yy - c^2*k_z^2/((epsilon_xx + 4*I*pi*sigma_e_xx/omega)*omega^2) + 4*I*pi*sigma_m_yy/omega) - 4*I*pi*sigma_m_xx/((mu_yy - c^2*k_z^2/((epsilon_xx + 4*I*pi*sigma_e_xx/omega)*omega^2) + 4*I*pi*sigma_m_yy/omega)*omega) + 4*I*pi*sigma_m_yy/((mu_yy - c^2*k_z^2/((epsilon_xx + 4*I*pi*sigma_e_xx/omega)*omega^2) + 4*I*pi*sigma_m_yy/omega)*omega) - 1))*x/c) + B1_x*epsilon_zz*mu_xx*omega^2*e^(I*sqrt(-epsilon_zz*mu_xx*omega^2/(k_z/(k_z - epsilon_xx*mu_yy*omega^2/(c^2*k_z) - 4*I*pi*mu_yy*omega*sigma_e_xx/(c^2*k_z) - 4*I*pi*epsilon_xx*omega*sigma_m_yy/(c^2*k_z) + 16*pi^2*sigma_e_xx*sigma_m_yy/(c^2*k_z)) - mu_xx/(mu_yy - c^2*k_z^2/((epsilon_xx + 4*I*pi*sigma_e_xx/omega)*omega^2) + 4*I*pi*sigma_m_yy/omega) + mu_yy/(mu_yy - c^2*k_z^2/((epsilon_xx + 4*I*pi*sigma_e_xx/omega)*omega^2) + 4*I*pi*sigma_m_yy/omega) - 4*I*pi*sigma_m_xx/((mu_yy - c^2*k_z^2/((epsilon_xx + 4*I*pi*sigma_e_xx/omega)*omega^2) + 4*I*pi*sigma_m_yy/omega)*omega) + 4*I*pi*sigma_m_yy/((mu_yy - c^2*k_z^2/((epsilon_xx + 4*I*pi*sigma_e_xx/omega)*omega^2) + 4*I*pi*sigma_m_yy/omega)*omega) - 1) - 4*I*pi*mu_xx*omega*sigma_e_zz/(k_z/(k_z - epsilon_xx*mu_yy*omega^2/(c^2*k_z) - 4*I*pi*mu_yy*omega*sigma_e_xx/(c^2*k_z) - 4*I*pi*epsilon_xx*omega*sigma_m_yy/(c^2*k_z) + 16*pi^2*sigma_e_xx*sigma_m_yy/(c^2*k_z)) - mu_xx/(mu_yy - c^2*k_z^2/((epsilon_xx + 4*I*pi*sigma_e_xx/omega)*omega^2) + 4*I*pi*sigma_m_yy/omega) + mu_yy/(mu_yy - c^2*k_z^2/((epsilon_xx + 4*I*pi*sigma_e_xx/omega)*omega^2) + 4*I*pi*sigma_m_yy/omega) - 4*I*pi*sigma_m_xx/((mu_yy - c^2*k_z^2/((epsilon_xx + 4*I*pi*sigma_e_xx/omega)*omega^2) + 4*I*pi*sigma_m_yy/omega)*omega) + 4*I*pi*sigma_m_yy/((mu_yy - c^2*k_z^2/((epsilon_xx + 4*I*pi*sigma_e_xx/omega)*omega^2) + 4*I*pi*sigma_m_yy/omega)*omega) - 1) - 4*I*pi*epsilon_zz*omega*sigma_m_xx/(k_z/(k_z - epsilon_xx*mu_yy*omega^2/(c^2*k_z) - 4*I*pi*mu_yy*omega*sigma_e_xx/(c^2*k_z) - 4*I*pi*epsilon_xx*omega*sigma_m_yy/(c^2*k_z) + 16*pi^2*sigma_e_xx*sigma_m_yy/(c^2*k_z)) - mu_xx/(mu_yy - c^2*k_z^2/((epsilon_xx + 4*I*pi*sigma_e_xx/omega)*omega^2) + 4*I*pi*sigma_m_yy/omega) + mu_yy/(mu_yy - c^2*k_z^2/((epsilon_xx + 4*I*pi*sigma_e_xx/omega)*omega^2) + 4*I*pi*sigma_m_yy/omega) - 4*I*pi*sigma_m_xx/((mu_yy - c^2*k_z^2/((epsilon_xx + 4*I*pi*sigma_e_xx/omega)*omega^2) + 4*I*pi*sigma_m_yy/omega)*omega) + 4*I*pi*sigma_m_yy/((mu_yy - c^2*k_z^2/((epsilon_xx + 4*I*pi*sigma_e_xx/omega)*omega^2) + 4*I*pi*sigma_m_yy/omega)*omega) - 1) + 16*pi^2*sigma_e_zz*sigma_m_xx/(k_z/(k_z - epsilon_xx*mu_yy*omega^2/(c^2*k_z) - 4*I*pi*mu_yy*omega*sigma_e_xx/(c^2*k_z) - 4*I*pi*epsilon_xx*omega*sigma_m_yy/(c^2*k_z) + 16*pi^2*sigma_e_xx*sigma_m_yy/(c^2*k_z)) - mu_xx/(mu_yy - c^2*k_z^2/((epsilon_xx + 4*I*pi*sigma_e_xx/omega)*omega^2) + 4*I*pi*sigma_m_yy/omega) + mu_yy/(mu_yy - c^2*k_z^2/((epsilon_xx + 4*I*pi*sigma_e_xx/omega)*omega^2) + 4*I*pi*sigma_m_yy/omega) - 4*I*pi*sigma_m_xx/((mu_yy - c^2*k_z^2/((epsilon_xx + 4*I*pi*sigma_e_xx/omega)*omega^2) + 4*I*pi*sigma_m_yy/omega)*omega) + 4*I*pi*sigma_m_yy/((mu_yy - c^2*k_z^2/((epsilon_xx + 4*I*pi*sigma_e_xx/omega)*omega^2) + 4*I*pi*sigma_m_yy/omega)*omega) - 1))*x/c)/(c^2*(k_z/(k_z - epsilon_xx*mu_yy*omega^2/(c^2*k_z) - 4*I*pi*mu_yy*omega*sigma_e_xx/(c^2*k_z) - 4*I*pi*epsilon_xx*omega*sigma_m_yy/(c^2*k_z) + 16*pi^2*sigma_e_xx*sigma_m_yy/(c^2*k_z)) - mu_xx/(mu_yy - c^2*k_z^2/((epsilon_xx + 4*I*pi*sigma_e_xx/omega)*omega^2) + 4*I*pi*sigma_m_yy/omega) + mu_yy/(mu_yy - c^2*k_z^2/((epsilon_xx + 4*I*pi*sigma_e_xx/omega)*omega^2) + 4*I*pi*sigma_m_yy/omega) - 4*I*pi*sigma_m_xx/((mu_yy - c^2*k_z^2/((epsilon_xx + 4*I*pi*sigma_e_xx/omega)*omega^2) + 4*I*pi*sigma_m_yy/omega)*omega) + 4*I*pi*sigma_m_yy/((mu_yy - c^2*k_z^2/((epsilon_xx + 4*I*pi*sigma_e_xx/omega)*omega^2) + 4*I*pi*sigma_m_yy/omega)*omega) - 1)) + 4*I*pi*B1_x*mu_xx*omega*sigma_e_zz*e^(I*sqrt(-epsilon_zz*mu_xx*omega^2/(k_z/(k_z - epsilon_xx*mu_yy*omega^2/(c^2*k_z) - 4*I*pi*mu_yy*omega*sigma_e_xx/(c^2*k_z) - 4*I*pi*epsilon_xx*omega*sigma_m_yy/(c^2*k_z) + 16*pi^2*sigma_e_xx*sigma_m_yy/(c^2*k_z)) - mu_xx/(mu_yy - c^2*k_z^2/((epsilon_xx + 4*I*pi*sigma_e_xx/omega)*omega^2) + 4*I*pi*sigma_m_yy/omega) + mu_yy/(mu_yy - c^2*k_z^2/((epsilon_xx + 4*I*pi*sigma_e_xx/omega)*omega^2) + 4*I*pi*sigma_m_yy/omega) - 4*I*pi*sigma_m_xx/((mu_yy - c^2*k_z^2/((epsilon_xx + 4*I*pi*sigma_e_xx/omega)*omega^2) + 4*I*pi*sigma_m_yy/omega)*omega) + 4*I*pi*sigma_m_yy/((mu_yy - c^2*k_z^2/((epsilon_xx + 4*I*pi*sigma_e_xx/omega)*omega^2) + 4*I*pi*sigma_m_yy/omega)*omega) - 1) - 4*I*pi*mu_xx*omega*sigma_e_zz/(k_z/(k_z - epsilon_xx*mu_yy*omega^2/(c^2*k_z) - 4*I*pi*mu_yy*omega*sigma_e_xx/(c^2*k_z) - 4*I*pi*epsilon_xx*omega*sigma_m_yy/(c^2*k_z) + 16*pi^2*sigma_e_xx*sigma_m_yy/(c^2*k_z)) - mu_xx/(mu_yy - c^2*k_z^2/((epsilon_xx + 4*I*pi*sigma_e_xx/omega)*omega^2) + 4*I*pi*sigma_m_yy/omega) + mu_yy/(mu_yy - c^2*k_z^2/((epsilon_xx + 4*I*pi*sigma_e_xx/omega)*omega^2) + 4*I*pi*sigma_m_yy/omega) - 4*I*pi*sigma_m_xx/((mu_yy - c^2*k_z^2/((epsilon_xx + 4*I*pi*sigma_e_xx/omega)*omega^2) + 4*I*pi*sigma_m_yy/omega)*omega) + 4*I*pi*sigma_m_yy/((mu_yy - c^2*k_z^2/((epsilon_xx + 4*I*pi*sigma_e_xx/omega)*omega^2) + 4*I*pi*sigma_m_yy/omega)*omega) - 1) - 4*I*pi*epsilon_zz*omega*sigma_m_xx/(k_z/(k_z - epsilon_xx*mu_yy*omega^2/(c^2*k_z) - 4*I*pi*mu_yy*omega*sigma_e_xx/(c^2*k_z) - 4*I*pi*epsilon_xx*omega*sigma_m_yy/(c^2*k_z) + 16*pi^2*sigma_e_xx*sigma_m_yy/(c^2*k_z)) - mu_xx/(mu_yy - c^2*k_z^2/((epsilon_xx + 4*I*pi*sigma_e_xx/omega)*omega^2) + 4*I*pi*sigma_m_yy/omega) + mu_yy/(mu_yy - c^2*k_z^2/((epsilon_xx + 4*I*pi*sigma_e_xx/omega)*omega^2) + 4*I*pi*sigma_m_yy/omega) - 4*I*pi*sigma_m_xx/((mu_yy - c^2*k_z^2/((epsilon_xx + 4*I*pi*sigma_e_xx/omega)*omega^2) + 4*I*pi*sigma_m_yy/omega)*omega) + 4*I*pi*sigma_m_yy/((mu_yy - c^2*k_z^2/((epsilon_xx + 4*I*pi*sigma_e_xx/omega)*omega^2) + 4*I*pi*sigma_m_yy/omega)*omega) - 1) + 16*pi^2*sigma_e_zz*sigma_m_xx/(k_z/(k_z - epsilon_xx*mu_yy*omega^2/(c^2*k_z) - 4*I*pi*mu_yy*omega*sigma_e_xx/(c^2*k_z) - 4*I*pi*epsilon_xx*omega*sigma_m_yy/(c^2*k_z) + 16*pi^2*sigma_e_xx*sigma_m_yy/(c^2*k_z)) - mu_xx/(mu_yy - c^2*k_z^2/((epsilon_xx + 4*I*pi*sigma_e_xx/omega)*omega^2) + 4*I*pi*sigma_m_yy/omega) + mu_yy/(mu_yy - c^2*k_z^2/((epsilon_xx + 4*I*pi*sigma_e_xx/omega)*omega^2) + 4*I*pi*sigma_m_yy/omega) - 4*I*pi*sigma_m_xx/((mu_yy - c^2*k_z^2/((epsilon_xx + 4*I*pi*sigma_e_xx/omega)*omega^2) + 4*I*pi*sigma_m_yy/omega)*omega) + 4*I*pi*sigma_m_yy/((mu_yy - c^2*k_z^2/((epsilon_xx + 4*I*pi*sigma_e_xx/omega)*omega^2) + 4*I*pi*sigma_m_yy/omega)*omega) - 1))*x/c)/(c^2*(k_z/(k_z - epsilon_xx*mu_yy*omega^2/(c^2*k_z) - 4*I*pi*mu_yy*omega*sigma_e_xx/(c^2*k_z) - 4*I*pi*epsilon_xx*omega*sigma_m_yy/(c^2*k_z) + 16*pi^2*sigma_e_xx*sigma_m_yy/(c^2*k_z)) - mu_xx/(mu_yy - c^2*k_z^2/((epsilon_xx + 4*I*pi*sigma_e_xx/omega)*omega^2) + 4*I*pi*sigma_m_yy/omega) + mu_yy/(mu_yy - c^2*k_z^2/((epsilon_xx + 4*I*pi*sigma_e_xx/omega)*omega^2) + 4*I*pi*sigma_m_yy/omega) - 4*I*pi*sigma_m_xx/((mu_yy - c^2*k_z^2/((epsilon_xx + 4*I*pi*sigma_e_xx/omega)*omega^2) + 4*I*pi*sigma_m_yy/omega)*omega) + 4*I*pi*sigma_m_yy/((mu_yy - c^2*k_z^2/((epsilon_xx + 4*I*pi*sigma_e_xx/omega)*omega^2) + 4*I*pi*sigma_m_yy/omega)*omega) - 1)) + 4*I*pi*B1_x*epsilon_zz*omega*sigma_m_xx*e^(I*sqrt(-epsilon_zz*mu_xx*omega^2/(k_z/(k_z - epsilon_xx*mu_yy*omega^2/(c^2*k_z) - 4*I*pi*mu_yy*omega*sigma_e_xx/(c^2*k_z) - 4*I*pi*epsilon_xx*omega*sigma_m_yy/(c^2*k_z) + 16*pi^2*sigma_e_xx*sigma_m_yy/(c^2*k_z)) - mu_xx/(mu_yy - c^2*k_z^2/((epsilon_xx + 4*I*pi*sigma_e_xx/omega)*omega^2) + 4*I*pi*sigma_m_yy/omega) + mu_yy/(mu_yy - c^2*k_z^2/((epsilon_xx + 4*I*pi*sigma_e_xx/omega)*omega^2) + 4*I*pi*sigma_m_yy/omega) - 4*I*pi*sigma_m_xx/((mu_yy - c^2*k_z^2/((epsilon_xx + 4*I*pi*sigma_e_xx/omega)*omega^2) + 4*I*pi*sigma_m_yy/omega)*omega) + 4*I*pi*sigma_m_yy/((mu_yy - c^2*k_z^2/((epsilon_xx + 4*I*pi*sigma_e_xx/omega)*omega^2) + 4*I*pi*sigma_m_yy/omega)*omega) - 1) - 4*I*pi*mu_xx*omega*sigma_e_zz/(k_z/(k_z - epsilon_xx*mu_yy*omega^2/(c^2*k_z) - 4*I*pi*mu_yy*omega*sigma_e_xx/(c^2*k_z) - 4*I*pi*epsilon_xx*omega*sigma_m_yy/(c^2*k_z) + 16*pi^2*sigma_e_xx*sigma_m_yy/(c^2*k_z)) - mu_xx/(mu_yy - c^2*k_z^2/((epsilon_xx + 4*I*pi*sigma_e_xx/omega)*omega^2) + 4*I*pi*sigma_m_yy/omega) + mu_yy/(mu_yy - c^2*k_z^2/((epsilon_xx + 4*I*pi*sigma_e_xx/omega)*omega^2) + 4*I*pi*sigma_m_yy/omega) - 4*I*pi*sigma_m_xx/((mu_yy - c^2*k_z^2/((epsilon_xx + 4*I*pi*sigma_e_xx/omega)*omega^2) + 4*I*pi*sigma_m_yy/omega)*omega) + 4*I*pi*sigma_m_yy/((mu_yy - c^2*k_z^2/((epsilon_xx + 4*I*pi*sigma_e_xx/omega)*omega^2) + 4*I*pi*sigma_m_yy/omega)*omega) - 1) - 4*I*pi*epsilon_zz*omega*sigma_m_xx/(k_z/(k_z - epsilon_xx*mu_yy*omega^2/(c^2*k_z) - 4*I*pi*mu_yy*omega*sigma_e_xx/(c^2*k_z) - 4*I*pi*epsilon_xx*omega*sigma_m_yy/(c^2*k_z) + 16*pi^2*sigma_e_xx*sigma_m_yy/(c^2*k_z)) - mu_xx/(mu_yy - c^2*k_z^2/((epsilon_xx + 4*I*pi*sigma_e_xx/omega)*omega^2) + 4*I*pi*sigma_m_yy/omega) + mu_yy/(mu_yy - c^2*k_z^2/((epsilon_xx + 4*I*pi*sigma_e_xx/omega)*omega^2) + 4*I*pi*sigma_m_yy/omega) - 4*I*pi*sigma_m_xx/((mu_yy - c^2*k_z^2/((epsilon_xx + 4*I*pi*sigma_e_xx/omega)*omega^2) + 4*I*pi*sigma_m_yy/omega)*omega) + 4*I*pi*sigma_m_yy/((mu_yy - c^2*k_z^2/((epsilon_xx + 4*I*pi*sigma_e_xx/omega)*omega^2) + 4*I*pi*sigma_m_yy/omega)*omega) - 1) + 16*pi^2*sigma_e_zz*sigma_m_xx/(k_z/(k_z - epsilon_xx*mu_yy*omega^2/(c^2*k_z) - 4*I*pi*mu_yy*omega*sigma_e_xx/(c^2*k_z) - 4*I*pi*epsilon_xx*omega*sigma_m_yy/(c^2*k_z) + 16*pi^2*sigma_e_xx*sigma_m_yy/(c^2*k_z)) - mu_xx/(mu_yy - c^2*k_z^2/((epsilon_xx + 4*I*pi*sigma_e_xx/omega)*omega^2) + 4*I*pi*sigma_m_yy/omega) + mu_yy/(mu_yy - c^2*k_z^2/((epsilon_xx + 4*I*pi*sigma_e_xx/omega)*omega^2) + 4*I*pi*sigma_m_yy/omega) - 4*I*pi*sigma_m_xx/((mu_yy - c^2*k_z^2/((epsilon_xx + 4*I*pi*sigma_e_xx/omega)*omega^2) + 4*I*pi*sigma_m_yy/omega)*omega) + 4*I*pi*sigma_m_yy/((mu_yy - c^2*k_z^2/((epsilon_xx + 4*I*pi*sigma_e_xx/omega)*omega^2) + 4*I*pi*sigma_m_yy/omega)*omega) - 1))*x/c)/(c^2*(k_z/(k_z - epsilon_xx*mu_yy*omega^2/(c^2*k_z) - 4*I*pi*mu_yy*omega*sigma_e_xx/(c^2*k_z) - 4*I*pi*epsilon_xx*omega*sigma_m_yy/(c^2*k_z) + 16*pi^2*sigma_e_xx*sigma_m_yy/(c^2*k_z)) - mu_xx/(mu_yy - c^2*k_z^2/((epsilon_xx + 4*I*pi*sigma_e_xx/omega)*omega^2) + 4*I*pi*sigma_m_yy/omega) + mu_yy/(mu_yy - c^2*k_z^2/((epsilon_xx + 4*I*pi*sigma_e_xx/omega)*omega^2) + 4*I*pi*sigma_m_yy/omega) - 4*I*pi*sigma_m_xx/((mu_yy - c^2*k_z^2/((epsilon_xx + 4*I*pi*sigma_e_xx/omega)*omega^2) + 4*I*pi*sigma_m_yy/omega)*omega) + 4*I*pi*sigma_m_yy/((mu_yy - c^2*k_z^2/((epsilon_xx + 4*I*pi*sigma_e_xx/omega)*omega^2) + 4*I*pi*sigma_m_yy/omega)*omega) - 1)) - 16*pi^2*B1_x*sigma_e_zz*sigma_m_xx*e^(I*sqrt(-epsilon_zz*mu_xx*omega^2/(k_z/(k_z - epsilon_xx*mu_yy*omega^2/(c^2*k_z) - 4*I*pi*mu_yy*omega*sigma_e_xx/(c^2*k_z) - 4*I*pi*epsilon_xx*omega*sigma_m_yy/(c^2*k_z) + 16*pi^2*sigma_e_xx*sigma_m_yy/(c^2*k_z)) - mu_xx/(mu_yy - c^2*k_z^2/((epsilon_xx + 4*I*pi*sigma_e_xx/omega)*omega^2) + 4*I*pi*sigma_m_yy/omega) + mu_yy/(mu_yy - c^2*k_z^2/((epsilon_xx + 4*I*pi*sigma_e_xx/omega)*omega^2) + 4*I*pi*sigma_m_yy/omega) - 4*I*pi*sigma_m_xx/((mu_yy - c^2*k_z^2/((epsilon_xx + 4*I*pi*sigma_e_xx/omega)*omega^2) + 4*I*pi*sigma_m_yy/omega)*omega) + 4*I*pi*sigma_m_yy/((mu_yy - c^2*k_z^2/((epsilon_xx + 4*I*pi*sigma_e_xx/omega)*omega^2) + 4*I*pi*sigma_m_yy/omega)*omega) - 1) - 4*I*pi*mu_xx*omega*sigma_e_zz/(k_z/(k_z - epsilon_xx*mu_yy*omega^2/(c^2*k_z) - 4*I*pi*mu_yy*omega*sigma_e_xx/(c^2*k_z) - 4*I*pi*epsilon_xx*omega*sigma_m_yy/(c^2*k_z) + 16*pi^2*sigma_e_xx*sigma_m_yy/(c^2*k_z)) - mu_xx/(mu_yy - c^2*k_z^2/((epsilon_xx + 4*I*pi*sigma_e_xx/omega)*omega^2) + 4*I*pi*sigma_m_yy/omega) + mu_yy/(mu_yy - c^2*k_z^2/((epsilon_xx + 4*I*pi*sigma_e_xx/omega)*omega^2) + 4*I*pi*sigma_m_yy/omega) - 4*I*pi*sigma_m_xx/((mu_yy - c^2*k_z^2/((epsilon_xx + 4*I*pi*sigma_e_xx/omega)*omega^2) + 4*I*pi*sigma_m_yy/omega)*omega) + 4*I*pi*sigma_m_yy/((mu_yy - c^2*k_z^2/((epsilon_xx + 4*I*pi*sigma_e_xx/omega)*omega^2) + 4*I*pi*sigma_m_yy/omega)*omega) - 1) - 4*I*pi*epsilon_zz*omega*sigma_m_xx/(k_z/(k_z - epsilon_xx*mu_yy*omega^2/(c^2*k_z) - 4*I*pi*mu_yy*omega*sigma_e_xx/(c^2*k_z) - 4*I*pi*epsilon_xx*omega*sigma_m_yy/(c^2*k_z) + 16*pi^2*sigma_e_xx*sigma_m_yy/(c^2*k_z)) - mu_xx/(mu_yy - c^2*k_z^2/((epsilon_xx + 4*I*pi*sigma_e_xx/omega)*omega^2) + 4*I*pi*sigma_m_yy/omega) + mu_yy/(mu_yy - c^2*k_z^2/((epsilon_xx + 4*I*pi*sigma_e_xx/omega)*omega^2) + 4*I*pi*sigma_m_yy/omega) - 4*I*pi*sigma_m_xx/((mu_yy - c^2*k_z^2/((epsilon_xx + 4*I*pi*sigma_e_xx/omega)*omega^2) + 4*I*pi*sigma_m_yy/omega)*omega) + 4*I*pi*sigma_m_yy/((mu_yy - c^2*k_z^2/((epsilon_xx + 4*I*pi*sigma_e_xx/omega)*omega^2) + 4*I*pi*sigma_m_yy/omega)*omega) - 1) + 16*pi^2*sigma_e_zz*sigma_m_xx/(k_z/(k_z - epsilon_xx*mu_yy*omega^2/(c^2*k_z) - 4*I*pi*mu_yy*omega*sigma_e_xx/(c^2*k_z) - 4*I*pi*epsilon_xx*omega*sigma_m_yy/(c^2*k_z) + 16*pi^2*sigma_e_xx*sigma_m_yy/(c^2*k_z)) - mu_xx/(mu_yy - c^2*k_z^2/((epsilon_xx + 4*I*pi*sigma_e_xx/omega)*omega^2) + 4*I*pi*sigma_m_yy/omega) + mu_yy/(mu_yy - c^2*k_z^2/((epsilon_xx + 4*I*pi*sigma_e_xx/omega)*omega^2) + 4*I*pi*sigma_m_yy/omega) - 4*I*pi*sigma_m_xx/((mu_yy - c^2*k_z^2/((epsilon_xx + 4*I*pi*sigma_e_xx/omega)*omega^2) + 4*I*pi*sigma_m_yy/omega)*omega) + 4*I*pi*sigma_m_yy/((mu_yy - c^2*k_z^2/((epsilon_xx + 4*I*pi*sigma_e_xx/omega)*omega^2) + 4*I*pi*sigma_m_yy/omega)*omega) - 1))*x/c)/(c^2*(k_z/(k_z - epsilon_xx*mu_yy*omega^2/(c^2*k_z) - 4*I*pi*mu_yy*omega*sigma_e_xx/(c^2*k_z) - 4*I*pi*epsilon_xx*omega*sigma_m_yy/(c^2*k_z) + 16*pi^2*sigma_e_xx*sigma_m_yy/(c^2*k_z)) - mu_xx/(mu_yy - c^2*k_z^2/((epsilon_xx + 4*I*pi*sigma_e_xx/omega)*omega^2) + 4*I*pi*sigma_m_yy/omega) + mu_yy/(mu_yy - c^2*k_z^2/((epsilon_xx + 4*I*pi*sigma_e_xx/omega)*omega^2) + 4*I*pi*sigma_m_yy/omega) - 4*I*pi*sigma_m_xx/((mu_yy - c^2*k_z^2/((epsilon_xx + 4*I*pi*sigma_e_xx/omega)*omega^2) + 4*I*pi*sigma_m_yy/omega)*omega) + 4*I*pi*sigma_m_yy/((mu_yy - c^2*k_z^2/((epsilon_xx + 4*I*pi*sigma_e_xx/omega)*omega^2) + 4*I*pi*sigma_m_yy/omega)*omega) - 1))"
      ]
     },
     "metadata": {},
     "output_type": "display_data"
    }
   ],
   "source": [
    "grad_div_E_x \\\n",
    "    = E_bad_conductor_sol_x(x).subs(K_conductor_subs).diff(x, 2).expand() \\\n",
    "    + I * k_z^2 * E_bad_conductor_sol_z(x).subs(K_conductor_subs).expand()\n",
    "grad_div_E_x"
   ]
  },
  {
   "cell_type": "code",
   "execution_count": 239,
   "metadata": {},
   "outputs": [
    {
     "data": {
      "text/html": [
       "<html>\\(\\displaystyle i \\, \\sqrt{-k_{z}^{2} + \\kappa_{\\mathit{vacuum}}^{2}} \\mathit{A2}_{x} e^{\\left(i \\, \\sqrt{-k_{z}^{2} + \\kappa_{\\mathit{vacuum}}^{2}} x\\right)} - i \\, \\sqrt{-k_{z}^{2} + \\kappa_{\\mathit{vacuum}}^{2}} \\mathit{A1}_{x} e^{\\left(-i \\, \\sqrt{-k_{z}^{2} + \\kappa_{\\mathit{vacuum}}^{2}} x\\right)}\\)</html>"
      ],
      "text/latex": [
       "$\\displaystyle i \\, \\sqrt{-k_{z}^{2} + \\kappa_{\\mathit{vacuum}}^{2}} \\mathit{A2}_{x} e^{\\left(i \\, \\sqrt{-k_{z}^{2} + \\kappa_{\\mathit{vacuum}}^{2}} x\\right)} - i \\, \\sqrt{-k_{z}^{2} + \\kappa_{\\mathit{vacuum}}^{2}} \\mathit{A1}_{x} e^{\\left(-i \\, \\sqrt{-k_{z}^{2} + \\kappa_{\\mathit{vacuum}}^{2}} x\\right)}$"
      ],
      "text/plain": [
       "I*sqrt(-k_z^2 + kappa_vacuum^2)*A2_x*e^(I*sqrt(-k_z^2 + kappa_vacuum^2)*x) - I*sqrt(-k_z^2 + kappa_vacuum^2)*A1_x*e^(-I*sqrt(-k_z^2 + kappa_vacuum^2)*x)"
      ]
     },
     "metadata": {},
     "output_type": "display_data"
    },
    {
     "data": {
      "text/html": [
       "<html>\\(\\displaystyle -i \\, \\mathit{A2}_{z} k_{z} e^{\\left(i \\, \\sqrt{-k_{z}^{2} + \\kappa_{\\mathit{vacuum}}^{2}} x\\right)} - i \\, \\mathit{A1}_{z} k_{z} e^{\\left(-i \\, \\sqrt{-k_{z}^{2} + \\kappa_{\\mathit{vacuum}}^{2}} x\\right)}\\)</html>"
      ],
      "text/latex": [
       "$\\displaystyle -i \\, \\mathit{A2}_{z} k_{z} e^{\\left(i \\, \\sqrt{-k_{z}^{2} + \\kappa_{\\mathit{vacuum}}^{2}} x\\right)} - i \\, \\mathit{A1}_{z} k_{z} e^{\\left(-i \\, \\sqrt{-k_{z}^{2} + \\kappa_{\\mathit{vacuum}}^{2}} x\\right)}$"
      ],
      "text/plain": [
       "-I*A2_z*k_z*e^(I*sqrt(-k_z^2 + kappa_vacuum^2)*x) - I*A1_z*k_z*e^(-I*sqrt(-k_z^2 + kappa_vacuum^2)*x)"
      ]
     },
     "metadata": {},
     "output_type": "display_data"
    }
   ],
   "source": [
    "show(E_inner_vacuum_sol_x(x).subs(K_vacuum_subs).diff(x).expand())\n",
    "show((E_inner_vacuum_sol_z(x).subs(K_vacuum_subs)*k_z/I).expand())"
   ]
  },
  {
   "cell_type": "code",
   "execution_count": 240,
   "metadata": {},
   "outputs": [],
   "source": [
    "fix_c_epsilon_complex = False"
   ]
  },
  {
   "cell_type": "code",
   "execution_count": 241,
   "metadata": {},
   "outputs": [
    {
     "data": {
      "text/plain": [
       "kappa_vacuum^2 == omega^2/c^2"
      ]
     },
     "execution_count": 241,
     "metadata": {},
     "output_type": "execute_result"
    }
   ],
   "source": [
    "eq_kappa_inner_vacuum"
   ]
  },
  {
   "cell_type": "code",
   "execution_count": null,
   "metadata": {},
   "outputs": [],
   "source": []
  },
  {
   "cell_type": "code",
   "execution_count": 242,
   "metadata": {},
   "outputs": [
    {
     "name": "stdout",
     "output_type": "stream",
     "text": [
      "kappa_vacuum == omega/c\n"
     ]
    }
   ],
   "source": [
    "kappa_vacuum_sol = solve(eq_kappa_inner_vacuum, kappa_vacuum)[1]\n",
    "print(kappa_vacuum_sol)"
   ]
  },
  {
   "cell_type": "code",
   "execution_count": 243,
   "metadata": {},
   "outputs": [],
   "source": [
    "# rename eq_Dx_a -> eq_Dx__0"
   ]
  },
  {
   "cell_type": "raw",
   "metadata": {},
   "source": [
    "# нормальная компонента индукции магнитного поля\n",
    "eq_2_subs4x0 = eq_2_subs4.subs(x == 0)\n",
    "#print(eq_5_subs4x0)\n",
    "display(Math(latex(eq_2_subs4x0)))\n",
    "\n",
    "print(\"\")\n",
    "\n",
    "eq_4_subs5x0 = eq_4_subs5.subs(x == 0)\n",
    "#print(eq_7_subs4x0)\n",
    "display(Math(latex(eq_4_subs5x0)))\n",
    "print(\"\")\n",
    "\n",
    "\n",
    "# граничные условия на границе вакуума внутри резонатора и проводящего металла с потерями\n",
    "# нормальная компонента индукции магнитного поля\n",
    "#eqBx__0  = mu * H_bad_conductor_sol_x (0)  == H_inner_vacuum_sol_x (0)\n",
    "eq_Bx__0  = mu *eq_4_subs5x0.rhs()  == eq_2_subs4x0.rhs()\n",
    "\n",
    "print(\"eqBx__0 =\")\n",
    "display(Math(latex(eqBx__0)))\n",
    "print(\"eq_Bx__0 =\")\n",
    "display(Math(latex(eq_Bx__0)))\n",
    "print(\"\")"
   ]
  },
  {
   "cell_type": "code",
   "execution_count": null,
   "metadata": {},
   "outputs": [],
   "source": []
  },
  {
   "cell_type": "raw",
   "metadata": {},
   "source": [
    "# отсутсвие изменения поля вдоль оси y\n",
    "k_y0_subs = [k_y == 0]\n",
    "\n",
    "#            A1_y_im == 0, \\\n",
    "#            A1_y_re == 0, \\\n",
    "#            A2_y_im == 0, \\\n",
    "#            A2_y_re == 0]\n",
    "k_y0_subs"
   ]
  },
  {
   "cell_type": "code",
   "execution_count": 244,
   "metadata": {},
   "outputs": [],
   "source": [
    "def GenerateMatrix(equsys, vars):\n",
    "    A=matrix(SR, [[(equ.lhs() - equ.rhs()).expand().coefficient(v) for v in vars] for equ in equsys])\n",
    "    return A"
   ]
  },
  {
   "cell_type": "code",
   "execution_count": 245,
   "metadata": {},
   "outputs": [],
   "source": [
    "def GenerateMatrixReIm(equsys, coefs_re_im_subs, vars):\n",
    "    A=matrix(SR, [[(equ.lhs().real() - equ.rhs().real()).subs(k_z == kz + I * sz).subs(coefs_re_im_subs).expand().coefficient(v) for v in vars] for equ in equsys] + \\\n",
    "                 [[(equ.lhs().imag() - equ.rhs().imag()).subs(k_z == kz + I * sz).subs(coefs_re_im_subs).expand().coefficient(v) for v in vars] for equ in equsys])\n",
    "    return A"
   ]
  },
  {
   "cell_type": "code",
   "execution_count": 246,
   "metadata": {},
   "outputs": [],
   "source": [
    "def GenerateMatrixNumeric(equsys, vars):\n",
    "    A=matrix(SR, [[(equ.lhs() - equ.rhs()).coefficient(v).n() for v in vars] for equ in equsys])\n",
    "    return A"
   ]
  },
  {
   "cell_type": "code",
   "execution_count": null,
   "metadata": {},
   "outputs": [],
   "source": []
  },
  {
   "cell_type": "code",
   "execution_count": 247,
   "metadata": {},
   "outputs": [],
   "source": [
    "#Hy_bad_conductor = (eq_8_subs3.rhs()*sqrt(epsilon_complex)/sqrt(mu)).subs(K_conductor_subs_d).subs(kappa_vacuum_sol).subs(kappa_sol).subs(k_z_sol).subs(eqEz_a).subs(A1_x_re_im_subs, A2_x_re_im_subs)\n",
    "#Hy_vacuum        = (eq_6_subs3.rhs()).subs(K_vacuum_subs_d).subs(kappa_vacuum_sol).subs(kappa_sol).subs(k_z_sol).subs(eqEz_a).subs(A1_x_re_im_subs, A2_x_re_im_subs)"
   ]
  },
  {
   "cell_type": "code",
   "execution_count": 248,
   "metadata": {},
   "outputs": [],
   "source": [
    "# sqrt(mu / epsilon_complex) = omega/c * mu / kappa\n",
    "# sqrt(mu / epsilon_complex) = omega/c * mu_rel * mu_0 / kappa\n",
    "\n",
    "# kappa/mu == omega * sqrt(epsilon_complex/mu)\n",
    "# sqrt(mu_0 / epsilon_0) = omega * mu_0 / kappa_vacuum\n",
    "\n",
    "# kappa_vacuum == omega/c\n",
    "# sqrt(mu_0 / epsilon_0) = c * mu_0\n",
    "# c = 1 / sqrt(mu_0 * epsilon_0)\n",
    "\n",
    "# kappa = omega/c * sqrt(epsilon_comlex*mu)\n",
    "# kappa_vacuum = omega/c * sqrt(epsilon_0*mu_0) = omega/c\n",
    "\n",
    "# sqrt(mu_0 / epsilon_0) = 1/(c*epsilon_0) = omega/c * mu_0 / kappa_vacuum\n",
    "# sqrt(mu / epsilon_complex) = 1/(c*epsilon_complex) = omega/c * mu / kappa\n",
    "\n",
    "# 1/mu_0 = c^2*epsolon_0"
   ]
  },
  {
   "cell_type": "raw",
   "metadata": {},
   "source": [
    "Ex_bad_conductor = (eq_7_subs3.rhs())\n",
    "Ex_vacuum        = (eq_5_subs3.rhs())"
   ]
  },
  {
   "cell_type": "code",
   "execution_count": 249,
   "metadata": {},
   "outputs": [],
   "source": [
    "Hz_vacuum        = H_inner_vacuum_sol_z(x)\n",
    "Hz_bad_conductor = H_bad_conductor_sol_z(x)"
   ]
  },
  {
   "cell_type": "code",
   "execution_count": 250,
   "metadata": {},
   "outputs": [],
   "source": [
    "Hy_vacuum        = H_inner_vacuum_sol_y(x)\n",
    "Hy_bad_conductor = H_bad_conductor_sol_y(x)"
   ]
  },
  {
   "cell_type": "code",
   "execution_count": 251,
   "metadata": {},
   "outputs": [],
   "source": [
    "Ex_bad_conductor = E_bad_conductor_sol_x(x)\n",
    "Ex_vacuum        = E_inner_vacuum_sol_x(x)"
   ]
  },
  {
   "cell_type": "code",
   "execution_count": 252,
   "metadata": {},
   "outputs": [],
   "source": [
    "Ey_bad_conductor = E_bad_conductor_sol_y(x)\n",
    "Ey_vacuum        = E_inner_vacuum_sol_y(x)"
   ]
  },
  {
   "cell_type": "code",
   "execution_count": 253,
   "metadata": {},
   "outputs": [],
   "source": [
    "Ez_bad_conductor = E_bad_conductor_sol_z(x)\n",
    "Ez_vacuum        = E_inner_vacuum_sol_z(x)"
   ]
  },
  {
   "cell_type": "code",
   "execution_count": 254,
   "metadata": {},
   "outputs": [],
   "source": [
    "rot_H_vacuum_x = - diff(Hy_vacuum(x=x)*e^(I*k_z*z), z)\n",
    "rot_H_vacuum_y =   0\n",
    "rot_H_vacuum_z =   diff(Hy_vacuum(x=x)*e^(I*k_z*z), x)"
   ]
  },
  {
   "cell_type": "code",
   "execution_count": 255,
   "metadata": {},
   "outputs": [],
   "source": [
    "eq_rot_H_vacuum_x = rot_H_vacuum_x == (-I*omega/c*Ex_vacuum(x=x)*e^(I*k_z*z))\n",
    "eq_rot_H_vacuum_z = rot_H_vacuum_z == (-I*omega/c*Ez_vacuum(x=x)*e^(I*k_z*z))"
   ]
  },
  {
   "cell_type": "code",
   "execution_count": 256,
   "metadata": {},
   "outputs": [],
   "source": [
    "rot_H_conductor_x = - diff(Hy_bad_conductor(x=x)*e^(I*k_z*z), z)\n",
    "rot_H_conductor_y =   0\n",
    "rot_H_conductor_z =   diff(Hy_bad_conductor(x=x)*e^(I*k_z*z), x)"
   ]
  },
  {
   "cell_type": "raw",
   "metadata": {},
   "source": [
    "eq_rot_H_conductor_x = rot_H_conductor_x == ((-I*epsilon_complex*omega/c) * Ex_bad_conductor(x=x)*e^(I*k_z*z))\n",
    "eq_rot_H_conductor_z = rot_H_conductor_z == ((-I*epsilon_complex*omega/c) * Ez_bad_conductor(x=x)*e^(I*k_z*z))"
   ]
  },
  {
   "cell_type": "raw",
   "metadata": {},
   "source": [
    "display(Math(latex(eq_Hy_0_lhs_num)))\n",
    "display(Math(latex(eq_Hy_0_lhs_den)))\n",
    "\n",
    "display(Math(latex(eq_Hy_0_rhs_num)))\n",
    "display(Math(latex(eq_Hy_0_rhs_den)))"
   ]
  },
  {
   "cell_type": "code",
   "execution_count": null,
   "metadata": {},
   "outputs": [],
   "source": []
  },
  {
   "cell_type": "code",
   "execution_count": null,
   "metadata": {},
   "outputs": [],
   "source": []
  },
  {
   "cell_type": "raw",
   "metadata": {},
   "source": [
    "eq_Dx_r = (Ex_vacuum == Ex_bad_conductor * epsilon_complex).subs(x == 0).subs(K_conductor_subs).subs(eq_kappa).subs(K_vacuum_subs).subs(kappa_vacuum == omega/c)"
   ]
  },
  {
   "cell_type": "raw",
   "metadata": {},
   "source": [
    "eq_Dx_r_re = (eq_Dx_r.lhs().real() == eq_Dx_r.rhs().real()).subs(k_z = kz + I * sz).subs(B1_z == I * B1_z_im + B1_z_re, A2_z = I * A2_z_im + A2_z_re, A1_z = I * A1_z_im + A1_z_re)\n",
    "eq_Dx_r_im = (eq_Dx_r.lhs().imag() == eq_Dx_r.rhs().imag()).subs(k_z = kz + I * sz).subs(B1_z == I * B1_z_im + B1_z_re, A2_z = I * A2_z_im + A2_z_re, A1_z = I * A1_z_im + A1_z_re)"
   ]
  },
  {
   "cell_type": "raw",
   "metadata": {},
   "source": [
    "eq_Dx_r_re_d = eq_Dx_r_re.subs(digit_values)\n",
    "eq_Dx_r_im_d = eq_Dx_r_im.subs(digit_values)"
   ]
  },
  {
   "cell_type": "raw",
   "metadata": {},
   "source": [
    "print (\"eq_rot_H_inner_vacuum_sol_x =\")\n",
    "#display(Math(latex(eq_rot_H_inner_vacuum_sol_x.simplify())))\n",
    "display(Math(latex(eq_rot_H_inner_vacuum_sol_x.subs(k_y == 0).subs(x == 0))))\n",
    "\n",
    "print (\"eq_rot_H_inner_vacuum_sol_y =\")\n",
    "#display(Math(latex(eq_rot_H_inner_vacuum_sol_y.simplify())))\n",
    "display(Math(latex(eq_rot_H_inner_vacuum_sol_y.subs(k_y == 0))))\n",
    "\n",
    "print (\"eq_rot_H_inner_vacuum_sol_z =\")\n",
    "#display(Math(latex(eq_rot_H_inner_vacuum_sol_z.simplify())))\n",
    "display(Math(latex(eq_rot_H_inner_vacuum_sol_z.subs(k_y == 0))))\n"
   ]
  },
  {
   "cell_type": "code",
   "execution_count": null,
   "metadata": {},
   "outputs": [],
   "source": []
  },
  {
   "cell_type": "raw",
   "metadata": {},
   "source": [
    "sys9 = [eqEz__0, \\\n",
    "        eqEy__0, \\\n",
    "        eqEz__a.subs(K_vacuum_subs).subs(kappa_vacuum_sol), \\\n",
    "        eqEy__a.subs(K_vacuum_subs).subs(kappa_vacuum_sol), \\\n",
    "        eqHy__0.subs(K_conductor_subs).subs(kappa_sol).subs(K_vacuum_subs).subs(kappa_vacuum_sol), \\\n",
    "        eqHz__0.subs(k_y == 0).subs(K_conductor_subs).subs(kappa_sol).subs(K_vacuum_subs).subs(kappa_vacuum_sol), \\\n",
    "        eqHy__a.subs(K_vacuum_subs).subs(kappa_vacuum_sol), \\\n",
    "        eq_Hy_a.subs(K_vacuum_subs).subs(kappa_vacuum_sol), \\\n",
    "        eq_rot_H_4.subs(K_conductor_subs).subs(kappa_sol).subs(K_vacuum_subs).subs(kappa_vacuum_sol),\n",
    "       ]\n",
    "sys9"
   ]
  },
  {
   "cell_type": "raw",
   "metadata": {},
   "source": [
    "sys6 = [eqEz__0, \\\n",
    "        eqEz__a.subs(K_vacuum_subs).subs(kappa_vacuum_sol), \\\n",
    "        eqHy__0.subs(K_conductor_subs).subs(kappa_sol).subs(K_vacuum_subs).subs(kappa_vacuum_sol), \\\n",
    "        eqHy__a.subs(K_vacuum_subs).subs(kappa_vacuum_sol), \\\n",
    "        eq_Hy_a.subs(K_vacuum_subs).subs(kappa_vacuum_sol), \\\n",
    "        eq_rot_H_4.subs(K_conductor_subs).subs(kappa_sol).subs(K_vacuum_subs).subs(kappa_vacuum_sol),\n",
    "       ]\n",
    "sys6"
   ]
  },
  {
   "cell_type": "code",
   "execution_count": 257,
   "metadata": {},
   "outputs": [
    {
     "data": {
      "text/plain": [
       "[B1_z == A1_z + A2_z,\n",
       " A1_z*e^(I*K_vacuum*a) + A2_z*e^(-I*K_vacuum*a) == 0,\n",
       " B1_z*K_conductor*c*epsilon_xx_*omega/(c^2*k_z^2 + epsilon_xx_*mu_yy_*omega^2) == -A1_z*K_vacuum*c*omega/(c^2*k_z^2 + omega^2) + A2_z*K_vacuum*c*omega/(c^2*k_z^2 + omega^2),\n",
       " -A1_z*K_vacuum*c*omega*e^(I*K_vacuum*a)/(c^2*k_z^2 + omega^2) + A2_z*K_vacuum*c*omega*e^(-I*K_vacuum*a)/(c^2*k_z^2 + omega^2) == 0]"
      ]
     },
     "execution_count": 257,
     "metadata": {},
     "output_type": "execute_result"
    }
   ],
   "source": [
    "sys4_boundaries = [eqEz__0, \\\n",
    "        eqEz__a, \\\n",
    "        eq_Hy_0, \\\n",
    "        eq_Hy_a, \\\n",
    "       ]\n",
    "sys4_boundaries"
   ]
  },
  {
   "cell_type": "raw",
   "metadata": {},
   "source": [
    "sys4_boundaries = [eqEz__0, \\\n",
    "        eqEz__a.subs(K_vacuum_subs).subs(kappa_vacuum_sol), \\\n",
    "        eqHy__0.subs(K_conductor_subs).subs(kappa_sol).subs(K_vacuum_subs).subs(kappa_vacuum_sol), \\\n",
    "        eqHy__a.subs(K_vacuum_subs).subs(kappa_vacuum_sol), \\\n",
    "        eq_rot_H_4.subs(K_conductor_subs).subs(kappa_sol).subs(K_vacuum_subs).subs(kappa_vacuum_sol),\n",
    "       ]\n",
    "sys4_boundaries"
   ]
  },
  {
   "cell_type": "code",
   "execution_count": 258,
   "metadata": {},
   "outputs": [
    {
     "data": {
      "text/plain": [
       "[B1_z == A1_z + A2_z,\n",
       " A1_z*e^(I*K_vacuum*a) + A2_z*e^(-I*K_vacuum*a) == 0,\n",
       " B1_z*K_conductor*c*epsilon_xx_*omega/(c^2*k_z^2 + epsilon_xx_*mu_yy_*omega^2) == -A1_z*K_vacuum*c*omega/(c^2*k_z^2 + omega^2) + A2_z*K_vacuum*c*omega/(c^2*k_z^2 + omega^2)]"
      ]
     },
     "execution_count": 258,
     "metadata": {},
     "output_type": "execute_result"
    }
   ],
   "source": [
    "sys6 = [eqEz__0, \\\n",
    "        eqEz__a, \\\n",
    "        eq_Hy_0, \\\n",
    "#        eq_Hy_a, \\\n",
    "       ]\n",
    "sys6"
   ]
  },
  {
   "cell_type": "code",
   "execution_count": 259,
   "metadata": {},
   "outputs": [
    {
     "name": "stdout",
     "output_type": "stream",
     "text": [
      "(A1_z, A2_z, B1_z)\n",
      "(A1_z, A2_z, K_vacuum)\n",
      "(A1_z, A2_z, B1_z, K_conductor, K_vacuum, epsilon_xx_, k_z, mu_yy_)\n"
     ]
    },
    {
     "data": {
      "text/plain": [
       "{k_z, A2_z, mu_yy_, K_vacuum, B1_z, epsilon_xx_, A1_z, K_conductor}"
      ]
     },
     "execution_count": 259,
     "metadata": {},
     "output_type": "execute_result"
    }
   ],
   "source": [
    "sys_subs_v = [eq.subs(digit_values) for eq in sys6]\n",
    "\n",
    "vv = set()\n",
    "for eq in sys_subs_v:\n",
    "    print(eq.variables())\n",
    "    for variable in eq.variables():\n",
    "        vv.add(variable)\n",
    "vv"
   ]
  },
  {
   "cell_type": "code",
   "execution_count": 260,
   "metadata": {},
   "outputs": [],
   "source": [
    "vars6 = [\n",
    "#    A1_x,\n",
    "#   A1_y,\n",
    "    A1_z,\n",
    "#    A2_x,\n",
    "#   A2_y,\n",
    "    A2_z,\n",
    "#    B1_x,\n",
    "#   B1_y,\n",
    "    B1_z,\n",
    "]\n",
    "# 3 variables"
   ]
  },
  {
   "cell_type": "code",
   "execution_count": 261,
   "metadata": {},
   "outputs": [],
   "source": [
    "vars6reim = [\n",
    "#    A1_x_re, A1_x_im,\n",
    "#   A1_y_re, A1_y_im,\n",
    "    A1_z_re, A1_z_im,\n",
    "#    A2_x_re, A2_x_im,\n",
    "#   A2_y_re, A2_y_im,\n",
    "    A2_z_re, A2_z_im,\n",
    "#    B1_x_re, B1_x_im,\n",
    "#   B1_y_re, B1_y_im,\n",
    "    B1_z_re, B1_z_im,\n",
    "]\n",
    "# 3 variables"
   ]
  },
  {
   "cell_type": "code",
   "execution_count": 262,
   "metadata": {},
   "outputs": [],
   "source": [
    "M6 = GenerateMatrix(sys6, vars6)"
   ]
  },
  {
   "cell_type": "code",
   "execution_count": 263,
   "metadata": {},
   "outputs": [
    {
     "data": {
      "text/plain": [
       "(3, 3)"
      ]
     },
     "execution_count": 263,
     "metadata": {},
     "output_type": "execute_result"
    }
   ],
   "source": [
    "M6.nrows(), M6.ncols()"
   ]
  },
  {
   "cell_type": "code",
   "execution_count": 264,
   "metadata": {},
   "outputs": [
    {
     "data": {
      "text/latex": [
       "$\\displaystyle \\left(\\begin{array}{rrr}\n",
       "-1 & -1 & 1 \\\\\n",
       "e^{\\left(i \\, K_{\\mathit{vacuum}} a\\right)} & e^{\\left(-i \\, K_{\\mathit{vacuum}} a\\right)} & 0 \\\\\n",
       "\\frac{K_{\\mathit{vacuum}} c \\omega}{c^{2} k_{z}^{2} + \\omega^{2}} & -\\frac{K_{\\mathit{vacuum}} c \\omega}{c^{2} k_{z}^{2} + \\omega^{2}} & \\frac{K_{\\mathit{conductor}} c \\epsilon_{\\mathit{xx}} \\omega}{c^{2} k_{z}^{2} + \\epsilon_{\\mathit{xx}} \\mu_{\\mathit{yy}} \\omega^{2}}\n",
       "\\end{array}\\right)$"
      ],
      "text/plain": [
       "<IPython.core.display.Math object>"
      ]
     },
     "metadata": {},
     "output_type": "display_data"
    }
   ],
   "source": [
    "disp(M6)"
   ]
  },
  {
   "cell_type": "code",
   "execution_count": 265,
   "metadata": {},
   "outputs": [
    {
     "data": {
      "text/plain": [
       "3"
      ]
     },
     "execution_count": 265,
     "metadata": {},
     "output_type": "execute_result"
    }
   ],
   "source": [
    "M6.rank()\n",
    "# 6"
   ]
  },
  {
   "cell_type": "raw",
   "metadata": {},
   "source": [
    "#3. Finding Linearly Dependent Rows:\n",
    "#To find linearly dependent rows, reduce the matrix to its row echelon form: \n",
    "\n",
    "M6_echelon_form = M6.echelon_form()\n",
    "show(M6_echelon_form)"
   ]
  },
  {
   "cell_type": "code",
   "execution_count": 266,
   "metadata": {},
   "outputs": [],
   "source": [
    "M6_det = M6.det()"
   ]
  },
  {
   "cell_type": "code",
   "execution_count": 267,
   "metadata": {},
   "outputs": [
    {
     "data": {
      "text/latex": [
       "$\\displaystyle -\\frac{K_{\\mathit{conductor}} c \\epsilon_{\\mathit{xx}} \\omega e^{\\left(-i \\, K_{\\mathit{vacuum}} a\\right)}}{c^{2} k_{z}^{2} + \\epsilon_{\\mathit{xx}} \\mu_{\\mathit{yy}} \\omega^{2}} - \\frac{K_{\\mathit{vacuum}} c \\omega e^{\\left(-i \\, K_{\\mathit{vacuum}} a\\right)}}{c^{2} k_{z}^{2} + \\omega^{2}} + {\\left(\\frac{K_{\\mathit{conductor}} c \\epsilon_{\\mathit{xx}} \\omega}{c^{2} k_{z}^{2} + \\epsilon_{\\mathit{xx}} \\mu_{\\mathit{yy}} \\omega^{2}} - \\frac{K_{\\mathit{vacuum}} c \\omega}{c^{2} k_{z}^{2} + \\omega^{2}}\\right)} e^{\\left(i \\, K_{\\mathit{vacuum}} a\\right)}$"
      ],
      "text/plain": [
       "<IPython.core.display.Math object>"
      ]
     },
     "metadata": {},
     "output_type": "display_data"
    }
   ],
   "source": [
    "display(Math(latex(M6_det)))"
   ]
  },
  {
   "cell_type": "code",
   "execution_count": 268,
   "metadata": {},
   "outputs": [
    {
     "data": {
      "text/html": [
       "<html>\\(\\displaystyle -\\frac{K_{\\mathit{conductor}} c \\epsilon_{\\mathit{xx}} \\omega e^{\\left(-i \\, \\sqrt{-k_{z}^{2} + \\frac{\\omega^{2}}{c^{2}}} a\\right)}}{c^{2} k_{z}^{2} + \\epsilon_{\\mathit{xx}} \\mu_{\\mathit{yy}} \\omega^{2}} - \\frac{\\sqrt{-k_{z}^{2} + \\frac{\\omega^{2}}{c^{2}}} c \\omega e^{\\left(-i \\, \\sqrt{-k_{z}^{2} + \\frac{\\omega^{2}}{c^{2}}} a\\right)}}{c^{2} k_{z}^{2} + \\omega^{2}} + {\\left(\\frac{K_{\\mathit{conductor}} c \\epsilon_{\\mathit{xx}} \\omega}{c^{2} k_{z}^{2} + \\epsilon_{\\mathit{xx}} \\mu_{\\mathit{yy}} \\omega^{2}} - \\frac{\\sqrt{-k_{z}^{2} + \\frac{\\omega^{2}}{c^{2}}} c \\omega}{c^{2} k_{z}^{2} + \\omega^{2}}\\right)} e^{\\left(i \\, \\sqrt{-k_{z}^{2} + \\frac{\\omega^{2}}{c^{2}}} a\\right)}\\)</html>"
      ],
      "text/latex": [
       "$\\displaystyle -\\frac{K_{\\mathit{conductor}} c \\epsilon_{\\mathit{xx}} \\omega e^{\\left(-i \\, \\sqrt{-k_{z}^{2} + \\frac{\\omega^{2}}{c^{2}}} a\\right)}}{c^{2} k_{z}^{2} + \\epsilon_{\\mathit{xx}} \\mu_{\\mathit{yy}} \\omega^{2}} - \\frac{\\sqrt{-k_{z}^{2} + \\frac{\\omega^{2}}{c^{2}}} c \\omega e^{\\left(-i \\, \\sqrt{-k_{z}^{2} + \\frac{\\omega^{2}}{c^{2}}} a\\right)}}{c^{2} k_{z}^{2} + \\omega^{2}} + {\\left(\\frac{K_{\\mathit{conductor}} c \\epsilon_{\\mathit{xx}} \\omega}{c^{2} k_{z}^{2} + \\epsilon_{\\mathit{xx}} \\mu_{\\mathit{yy}} \\omega^{2}} - \\frac{\\sqrt{-k_{z}^{2} + \\frac{\\omega^{2}}{c^{2}}} c \\omega}{c^{2} k_{z}^{2} + \\omega^{2}}\\right)} e^{\\left(i \\, \\sqrt{-k_{z}^{2} + \\frac{\\omega^{2}}{c^{2}}} a\\right)}$"
      ],
      "text/plain": [
       "-K_conductor*c*epsilon_xx_*omega*e^(-I*sqrt(-k_z^2 + omega^2/c^2)*a)/(c^2*k_z^2 + epsilon_xx_*mu_yy_*omega^2) - sqrt(-k_z^2 + omega^2/c^2)*c*omega*e^(-I*sqrt(-k_z^2 + omega^2/c^2)*a)/(c^2*k_z^2 + omega^2) + (K_conductor*c*epsilon_xx_*omega/(c^2*k_z^2 + epsilon_xx_*mu_yy_*omega^2) - sqrt(-k_z^2 + omega^2/c^2)*c*omega/(c^2*k_z^2 + omega^2))*e^(I*sqrt(-k_z^2 + omega^2/c^2)*a)"
      ]
     },
     "metadata": {},
     "output_type": "display_data"
    }
   ],
   "source": [
    "M6_det = M6_det.subs(K_vacuum_subs).subs(kappa_vacuum_sol)\n",
    "show(M6_det)"
   ]
  },
  {
   "cell_type": "code",
   "execution_count": 283,
   "metadata": {},
   "outputs": [
    {
     "data": {
      "text/html": [
       "<html>\\(\\displaystyle -\\frac{c {\\left(\\epsilon_{\\mathit{xx}} + \\frac{4 i \\, \\pi \\sigma_{e_{\\mathit{xx}}}}{\\omega}\\right)} \\omega \\sqrt{-\\frac{{\\left(\\epsilon_{\\mathit{zz}} + \\frac{4 i \\, \\pi \\sigma_{e_{\\mathit{zz}}}}{\\omega}\\right)} {\\left(\\mu_{\\mathit{xx}} + \\frac{4 i \\, \\pi \\sigma_{m_{\\mathit{xx}}}}{\\omega}\\right)} \\omega^{2}}{c^{2} {\\left(\\frac{k_{z}}{k_{z} - \\frac{{\\left(\\epsilon_{\\mathit{xx}} + \\frac{4 i \\, \\pi \\sigma_{e_{\\mathit{xx}}}}{\\omega}\\right)} {\\left(\\mu_{\\mathit{yy}} + \\frac{4 i \\, \\pi \\sigma_{m_{\\mathit{yy}}}}{\\omega}\\right)} \\omega^{2}}{c^{2} k_{z}}} - \\frac{\\mu_{\\mathit{xx}} - \\mu_{\\mathit{yy}} + \\frac{4 i \\, \\pi \\sigma_{m_{\\mathit{xx}}}}{\\omega} - \\frac{4 i \\, \\pi \\sigma_{m_{\\mathit{yy}}}}{\\omega}}{\\mu_{\\mathit{yy}} - \\frac{c^{2} k_{z}^{2}}{{\\left(\\epsilon_{\\mathit{xx}} + \\frac{4 i \\, \\pi \\sigma_{e_{\\mathit{xx}}}}{\\omega}\\right)} \\omega^{2}} + \\frac{4 i \\, \\pi \\sigma_{m_{\\mathit{yy}}}}{\\omega}} - 1\\right)}}} e^{\\left(-i \\, \\sqrt{-k_{z}^{2} + \\frac{\\omega^{2}}{c^{2}}} a\\right)}}{c^{2} k_{z}^{2} + {\\left(\\epsilon_{\\mathit{xx}} + \\frac{4 i \\, \\pi \\sigma_{e_{\\mathit{xx}}}}{\\omega}\\right)} {\\left(\\mu_{\\mathit{yy}} + \\frac{4 i \\, \\pi \\sigma_{m_{\\mathit{yy}}}}{\\omega}\\right)} \\omega^{2}} - \\frac{\\sqrt{-k_{z}^{2} + \\frac{\\omega^{2}}{c^{2}}} c \\omega e^{\\left(-i \\, \\sqrt{-k_{z}^{2} + \\frac{\\omega^{2}}{c^{2}}} a\\right)}}{c^{2} k_{z}^{2} + \\omega^{2}} + {\\left(\\frac{c {\\left(\\epsilon_{\\mathit{xx}} + \\frac{4 i \\, \\pi \\sigma_{e_{\\mathit{xx}}}}{\\omega}\\right)} \\omega \\sqrt{-\\frac{{\\left(\\epsilon_{\\mathit{zz}} + \\frac{4 i \\, \\pi \\sigma_{e_{\\mathit{zz}}}}{\\omega}\\right)} {\\left(\\mu_{\\mathit{xx}} + \\frac{4 i \\, \\pi \\sigma_{m_{\\mathit{xx}}}}{\\omega}\\right)} \\omega^{2}}{c^{2} {\\left(\\frac{k_{z}}{k_{z} - \\frac{{\\left(\\epsilon_{\\mathit{xx}} + \\frac{4 i \\, \\pi \\sigma_{e_{\\mathit{xx}}}}{\\omega}\\right)} {\\left(\\mu_{\\mathit{yy}} + \\frac{4 i \\, \\pi \\sigma_{m_{\\mathit{yy}}}}{\\omega}\\right)} \\omega^{2}}{c^{2} k_{z}}} - \\frac{\\mu_{\\mathit{xx}} - \\mu_{\\mathit{yy}} + \\frac{4 i \\, \\pi \\sigma_{m_{\\mathit{xx}}}}{\\omega} - \\frac{4 i \\, \\pi \\sigma_{m_{\\mathit{yy}}}}{\\omega}}{\\mu_{\\mathit{yy}} - \\frac{c^{2} k_{z}^{2}}{{\\left(\\epsilon_{\\mathit{xx}} + \\frac{4 i \\, \\pi \\sigma_{e_{\\mathit{xx}}}}{\\omega}\\right)} \\omega^{2}} + \\frac{4 i \\, \\pi \\sigma_{m_{\\mathit{yy}}}}{\\omega}} - 1\\right)}}}}{c^{2} k_{z}^{2} + {\\left(\\epsilon_{\\mathit{xx}} + \\frac{4 i \\, \\pi \\sigma_{e_{\\mathit{xx}}}}{\\omega}\\right)} {\\left(\\mu_{\\mathit{yy}} + \\frac{4 i \\, \\pi \\sigma_{m_{\\mathit{yy}}}}{\\omega}\\right)} \\omega^{2}} - \\frac{\\sqrt{-k_{z}^{2} + \\frac{\\omega^{2}}{c^{2}}} c \\omega}{c^{2} k_{z}^{2} + \\omega^{2}}\\right)} e^{\\left(i \\, \\sqrt{-k_{z}^{2} + \\frac{\\omega^{2}}{c^{2}}} a\\right)}\\)</html>"
      ],
      "text/latex": [
       "$\\displaystyle -\\frac{c {\\left(\\epsilon_{\\mathit{xx}} + \\frac{4 i \\, \\pi \\sigma_{e_{\\mathit{xx}}}}{\\omega}\\right)} \\omega \\sqrt{-\\frac{{\\left(\\epsilon_{\\mathit{zz}} + \\frac{4 i \\, \\pi \\sigma_{e_{\\mathit{zz}}}}{\\omega}\\right)} {\\left(\\mu_{\\mathit{xx}} + \\frac{4 i \\, \\pi \\sigma_{m_{\\mathit{xx}}}}{\\omega}\\right)} \\omega^{2}}{c^{2} {\\left(\\frac{k_{z}}{k_{z} - \\frac{{\\left(\\epsilon_{\\mathit{xx}} + \\frac{4 i \\, \\pi \\sigma_{e_{\\mathit{xx}}}}{\\omega}\\right)} {\\left(\\mu_{\\mathit{yy}} + \\frac{4 i \\, \\pi \\sigma_{m_{\\mathit{yy}}}}{\\omega}\\right)} \\omega^{2}}{c^{2} k_{z}}} - \\frac{\\mu_{\\mathit{xx}} - \\mu_{\\mathit{yy}} + \\frac{4 i \\, \\pi \\sigma_{m_{\\mathit{xx}}}}{\\omega} - \\frac{4 i \\, \\pi \\sigma_{m_{\\mathit{yy}}}}{\\omega}}{\\mu_{\\mathit{yy}} - \\frac{c^{2} k_{z}^{2}}{{\\left(\\epsilon_{\\mathit{xx}} + \\frac{4 i \\, \\pi \\sigma_{e_{\\mathit{xx}}}}{\\omega}\\right)} \\omega^{2}} + \\frac{4 i \\, \\pi \\sigma_{m_{\\mathit{yy}}}}{\\omega}} - 1\\right)}}} e^{\\left(-i \\, \\sqrt{-k_{z}^{2} + \\frac{\\omega^{2}}{c^{2}}} a\\right)}}{c^{2} k_{z}^{2} + {\\left(\\epsilon_{\\mathit{xx}} + \\frac{4 i \\, \\pi \\sigma_{e_{\\mathit{xx}}}}{\\omega}\\right)} {\\left(\\mu_{\\mathit{yy}} + \\frac{4 i \\, \\pi \\sigma_{m_{\\mathit{yy}}}}{\\omega}\\right)} \\omega^{2}} - \\frac{\\sqrt{-k_{z}^{2} + \\frac{\\omega^{2}}{c^{2}}} c \\omega e^{\\left(-i \\, \\sqrt{-k_{z}^{2} + \\frac{\\omega^{2}}{c^{2}}} a\\right)}}{c^{2} k_{z}^{2} + \\omega^{2}} + {\\left(\\frac{c {\\left(\\epsilon_{\\mathit{xx}} + \\frac{4 i \\, \\pi \\sigma_{e_{\\mathit{xx}}}}{\\omega}\\right)} \\omega \\sqrt{-\\frac{{\\left(\\epsilon_{\\mathit{zz}} + \\frac{4 i \\, \\pi \\sigma_{e_{\\mathit{zz}}}}{\\omega}\\right)} {\\left(\\mu_{\\mathit{xx}} + \\frac{4 i \\, \\pi \\sigma_{m_{\\mathit{xx}}}}{\\omega}\\right)} \\omega^{2}}{c^{2} {\\left(\\frac{k_{z}}{k_{z} - \\frac{{\\left(\\epsilon_{\\mathit{xx}} + \\frac{4 i \\, \\pi \\sigma_{e_{\\mathit{xx}}}}{\\omega}\\right)} {\\left(\\mu_{\\mathit{yy}} + \\frac{4 i \\, \\pi \\sigma_{m_{\\mathit{yy}}}}{\\omega}\\right)} \\omega^{2}}{c^{2} k_{z}}} - \\frac{\\mu_{\\mathit{xx}} - \\mu_{\\mathit{yy}} + \\frac{4 i \\, \\pi \\sigma_{m_{\\mathit{xx}}}}{\\omega} - \\frac{4 i \\, \\pi \\sigma_{m_{\\mathit{yy}}}}{\\omega}}{\\mu_{\\mathit{yy}} - \\frac{c^{2} k_{z}^{2}}{{\\left(\\epsilon_{\\mathit{xx}} + \\frac{4 i \\, \\pi \\sigma_{e_{\\mathit{xx}}}}{\\omega}\\right)} \\omega^{2}} + \\frac{4 i \\, \\pi \\sigma_{m_{\\mathit{yy}}}}{\\omega}} - 1\\right)}}}}{c^{2} k_{z}^{2} + {\\left(\\epsilon_{\\mathit{xx}} + \\frac{4 i \\, \\pi \\sigma_{e_{\\mathit{xx}}}}{\\omega}\\right)} {\\left(\\mu_{\\mathit{yy}} + \\frac{4 i \\, \\pi \\sigma_{m_{\\mathit{yy}}}}{\\omega}\\right)} \\omega^{2}} - \\frac{\\sqrt{-k_{z}^{2} + \\frac{\\omega^{2}}{c^{2}}} c \\omega}{c^{2} k_{z}^{2} + \\omega^{2}}\\right)} e^{\\left(i \\, \\sqrt{-k_{z}^{2} + \\frac{\\omega^{2}}{c^{2}}} a\\right)}$"
      ],
      "text/plain": [
       "-c*(epsilon_xx + 4*I*pi*sigma_e_xx/omega)*omega*sqrt(-(epsilon_zz + 4*I*pi*sigma_e_zz/omega)*(mu_xx + 4*I*pi*sigma_m_xx/omega)*omega^2/(c^2*(k_z/(k_z - (epsilon_xx + 4*I*pi*sigma_e_xx/omega)*(mu_yy + 4*I*pi*sigma_m_yy/omega)*omega^2/(c^2*k_z)) - (mu_xx - mu_yy + 4*I*pi*sigma_m_xx/omega - 4*I*pi*sigma_m_yy/omega)/(mu_yy - c^2*k_z^2/((epsilon_xx + 4*I*pi*sigma_e_xx/omega)*omega^2) + 4*I*pi*sigma_m_yy/omega) - 1)))*e^(-I*sqrt(-k_z^2 + omega^2/c^2)*a)/(c^2*k_z^2 + (epsilon_xx + 4*I*pi*sigma_e_xx/omega)*(mu_yy + 4*I*pi*sigma_m_yy/omega)*omega^2) - sqrt(-k_z^2 + omega^2/c^2)*c*omega*e^(-I*sqrt(-k_z^2 + omega^2/c^2)*a)/(c^2*k_z^2 + omega^2) + (c*(epsilon_xx + 4*I*pi*sigma_e_xx/omega)*omega*sqrt(-(epsilon_zz + 4*I*pi*sigma_e_zz/omega)*(mu_xx + 4*I*pi*sigma_m_xx/omega)*omega^2/(c^2*(k_z/(k_z - (epsilon_xx + 4*I*pi*sigma_e_xx/omega)*(mu_yy + 4*I*pi*sigma_m_yy/omega)*omega^2/(c^2*k_z)) - (mu_xx - mu_yy + 4*I*pi*sigma_m_xx/omega - 4*I*pi*sigma_m_yy/omega)/(mu_yy - c^2*k_z^2/((epsilon_xx + 4*I*pi*sigma_e_xx/omega)*omega^2) + 4*I*pi*sigma_m_yy/omega) - 1)))/(c^2*k_z^2 + (epsilon_xx + 4*I*pi*sigma_e_xx/omega)*(mu_yy + 4*I*pi*sigma_m_yy/omega)*omega^2) - sqrt(-k_z^2 + omega^2/c^2)*c*omega/(c^2*k_z^2 + omega^2))*e^(I*sqrt(-k_z^2 + omega^2/c^2)*a)"
      ]
     },
     "metadata": {},
     "output_type": "display_data"
    }
   ],
   "source": [
    "M6_det = M6_det.subs(K_conductor_subs).subs(K_vacuum_subs).subs(kappa_vacuum_sol).subs(epsilon_mu_subs)\n",
    "show(M6_det)"
   ]
  },
  {
   "cell_type": "code",
   "execution_count": 284,
   "metadata": {},
   "outputs": [],
   "source": [
    "M4_boundaries = GenerateMatrix(sys4_boundaries, vars6)"
   ]
  },
  {
   "cell_type": "code",
   "execution_count": 285,
   "metadata": {},
   "outputs": [
    {
     "data": {
      "text/html": [
       "<html>\\(\\displaystyle \\left(\\begin{array}{rrr}\n",
       "-1 & -1 & 1 \\\\\n",
       "e^{\\left(i \\, K_{\\mathit{vacuum}} a\\right)} & e^{\\left(-i \\, K_{\\mathit{vacuum}} a\\right)} & 0 \\\\\n",
       "\\frac{K_{\\mathit{vacuum}} c \\omega}{c^{2} k_{z}^{2} + \\omega^{2}} & -\\frac{K_{\\mathit{vacuum}} c \\omega}{c^{2} k_{z}^{2} + \\omega^{2}} & \\frac{K_{\\mathit{conductor}} c \\epsilon_{\\mathit{xx}} \\omega}{c^{2} k_{z}^{2} + \\epsilon_{\\mathit{xx}} \\mu_{\\mathit{yy}} \\omega^{2}} \\\\\n",
       "-\\frac{K_{\\mathit{vacuum}} c \\omega e^{\\left(i \\, K_{\\mathit{vacuum}} a\\right)}}{c^{2} k_{z}^{2} + \\omega^{2}} & \\frac{K_{\\mathit{vacuum}} c \\omega e^{\\left(-i \\, K_{\\mathit{vacuum}} a\\right)}}{c^{2} k_{z}^{2} + \\omega^{2}} & 0\n",
       "\\end{array}\\right)\\)</html>"
      ],
      "text/latex": [
       "$\\displaystyle \\left(\\begin{array}{rrr}\n",
       "-1 & -1 & 1 \\\\\n",
       "e^{\\left(i \\, K_{\\mathit{vacuum}} a\\right)} & e^{\\left(-i \\, K_{\\mathit{vacuum}} a\\right)} & 0 \\\\\n",
       "\\frac{K_{\\mathit{vacuum}} c \\omega}{c^{2} k_{z}^{2} + \\omega^{2}} & -\\frac{K_{\\mathit{vacuum}} c \\omega}{c^{2} k_{z}^{2} + \\omega^{2}} & \\frac{K_{\\mathit{conductor}} c \\epsilon_{\\mathit{xx}} \\omega}{c^{2} k_{z}^{2} + \\epsilon_{\\mathit{xx}} \\mu_{\\mathit{yy}} \\omega^{2}} \\\\\n",
       "-\\frac{K_{\\mathit{vacuum}} c \\omega e^{\\left(i \\, K_{\\mathit{vacuum}} a\\right)}}{c^{2} k_{z}^{2} + \\omega^{2}} & \\frac{K_{\\mathit{vacuum}} c \\omega e^{\\left(-i \\, K_{\\mathit{vacuum}} a\\right)}}{c^{2} k_{z}^{2} + \\omega^{2}} & 0\n",
       "\\end{array}\\right)$"
      ],
      "text/plain": [
       "[                                                                      -1                                                                       -1                                                                        1]\n",
       "[                                                        e^(I*K_vacuum*a)                                                        e^(-I*K_vacuum*a)                                                                        0]\n",
       "[                                  K_vacuum*c*omega/(c^2*k_z^2 + omega^2)                                  -K_vacuum*c*omega/(c^2*k_z^2 + omega^2) K_conductor*c*epsilon_xx_*omega/(c^2*k_z^2 + epsilon_xx_*mu_yy_*omega^2)]\n",
       "[                -K_vacuum*c*omega*e^(I*K_vacuum*a)/(c^2*k_z^2 + omega^2)                 K_vacuum*c*omega*e^(-I*K_vacuum*a)/(c^2*k_z^2 + omega^2)                                                                        0]"
      ]
     },
     "metadata": {},
     "output_type": "display_data"
    }
   ],
   "source": [
    "show(M4_boundaries)"
   ]
  },
  {
   "cell_type": "code",
   "execution_count": 286,
   "metadata": {},
   "outputs": [],
   "source": [
    "M4_boundaries_ReIm = GenerateMatrixReIm(sys4_boundaries, coefs_re_im_subs, vars6reim)"
   ]
  },
  {
   "cell_type": "code",
   "execution_count": 287,
   "metadata": {},
   "outputs": [],
   "source": [
    "M6_ReIm = GenerateMatrixReIm(sys6, coefs_re_im_subs, vars6reim)"
   ]
  },
  {
   "cell_type": "code",
   "execution_count": 288,
   "metadata": {},
   "outputs": [
    {
     "data": {
      "text/plain": [
       "(6, 6)"
      ]
     },
     "execution_count": 288,
     "metadata": {},
     "output_type": "execute_result"
    }
   ],
   "source": [
    "M6_ReIm.nrows(), M6_ReIm.ncols()"
   ]
  },
  {
   "cell_type": "code",
   "execution_count": 289,
   "metadata": {},
   "outputs": [
    {
     "data": {
      "text/plain": [
       "(K_conductor, K_vacuum, a, c, epsilon_xx_, k_z, mu_yy_, omega)"
      ]
     },
     "execution_count": 289,
     "metadata": {},
     "output_type": "execute_result"
    }
   ],
   "source": [
    "M6.variables()"
   ]
  },
  {
   "cell_type": "code",
   "execution_count": 290,
   "metadata": {},
   "outputs": [
    {
     "data": {
      "text/plain": [
       "(K_conductor, K_vacuum, a, c, epsilon_xx_, kz, mu_yy_, omega, sz)"
      ]
     },
     "execution_count": 290,
     "metadata": {},
     "output_type": "execute_result"
    }
   ],
   "source": [
    "M6_ReIm.variables()"
   ]
  },
  {
   "cell_type": "code",
   "execution_count": null,
   "metadata": {},
   "outputs": [],
   "source": []
  },
  {
   "cell_type": "code",
   "execution_count": null,
   "metadata": {},
   "outputs": [],
   "source": []
  },
  {
   "cell_type": "code",
   "execution_count": 291,
   "metadata": {},
   "outputs": [],
   "source": [
    "M6_det_kz_sz = M6_det.subs(k_z == kz + I * sz)"
   ]
  },
  {
   "cell_type": "raw",
   "metadata": {},
   "source": [
    "display(Math(latex(M6_det_kz_sz)))"
   ]
  },
  {
   "cell_type": "code",
   "execution_count": null,
   "metadata": {},
   "outputs": [],
   "source": []
  },
  {
   "cell_type": "code",
   "execution_count": 292,
   "metadata": {},
   "outputs": [],
   "source": [
    "make_investigation_plots = True"
   ]
  },
  {
   "cell_type": "code",
   "execution_count": 293,
   "metadata": {},
   "outputs": [],
   "source": [
    "M6_det_d = M6_det_kz_sz.subs(digit_values)"
   ]
  },
  {
   "cell_type": "code",
   "execution_count": 294,
   "metadata": {},
   "outputs": [
    {
     "data": {
      "text/latex": [
       "$\\displaystyle \\left(\\mathit{kz}, \\mathit{sz}\\right)$"
      ],
      "text/plain": [
       "<IPython.core.display.Math object>"
      ]
     },
     "metadata": {},
     "output_type": "display_data"
    }
   ],
   "source": [
    "display(Math(latex(M6_det_d.variables())))"
   ]
  },
  {
   "cell_type": "code",
   "execution_count": 295,
   "metadata": {},
   "outputs": [
    {
     "data": {
      "text/plain": [
       "(kz, sz)"
      ]
     },
     "execution_count": 295,
     "metadata": {},
     "output_type": "execute_result"
    }
   ],
   "source": [
    "M6_det_d.variables()"
   ]
  },
  {
   "cell_type": "code",
   "execution_count": 296,
   "metadata": {},
   "outputs": [],
   "source": [
    "make_investigation_plots = True"
   ]
  },
  {
   "cell_type": "code",
   "execution_count": 297,
   "metadata": {},
   "outputs": [],
   "source": [
    "def init_det_plot2d(kz_min, kz_max, nk, sz_min, sz_max, ns):\n",
    "    import numpy as np\n",
    "\n",
    "    kz_linspace = np.linspace(np.float128(kz_min), np.float128(kz_max), nk)\n",
    "    sz_linspace = np.linspace(np.float128(sz_min), np.float128(sz_max), ns)\n",
    "\n",
    "    kz_list = kz_linspace.tolist()\n",
    "    sz_list = sz_linspace.tolist()\n",
    "\n",
    "    kz_grid, sz_grid = np.meshgrid(kz_linspace, sz_linspace)\n",
    "\n",
    "    u = kz_grid * np.nan\n",
    "    v = sz_grid * np.nan\n",
    "    \n",
    "    return kz_grid, sz_grid, kz_list, sz_list, u, v"
   ]
  },
  {
   "cell_type": "code",
   "execution_count": 298,
   "metadata": {},
   "outputs": [],
   "source": [
    "def make_det_plot2d(M_d):\n",
    "    import numpy as np\n",
    "    \n",
    "    for ikz in np.arange(0, len(kz_list), 1):\n",
    "        print(ikz, len(kz_list))\n",
    "        for isz in np.arange(0, len(sz_list), 1):\n",
    "            kz_i = kz_list[ikz]\n",
    "            sz_i = sz_list[isz]\n",
    "            try:\n",
    "                M_d_i = M_d.subs(kz == kz_i).subs(sz == sz_i)\n",
    "                u[isz][ikz] = M_d_i.real().n()\n",
    "                v[isz][ikz] = M_d_i.imag().n()\n",
    "                print(kz_i, sz_i, u[isz][ikz], v[isz][ikz])\n",
    "            except Exception as ex:\n",
    "                print(ex)                "
   ]
  },
  {
   "cell_type": "code",
   "execution_count": 299,
   "metadata": {},
   "outputs": [],
   "source": [
    "if make_investigation_plots:\n",
    "    kz_grid, sz_grid, kz_list, sz_list, u, v = init_det_plot2d(\n",
    "                                         kz_min=-5e-1, kz_max=5e-1, nk=20,\n",
    "                                         sz_min=-1e+2, sz_max=1e+2, ns=20)\n",
    "    # if nk == 201 I have \n",
    "    # negative number cannot be raised to a fractional power"
   ]
  },
  {
   "cell_type": "code",
   "execution_count": null,
   "metadata": {},
   "outputs": [
    {
     "name": "stdout",
     "output_type": "stream",
     "text": [
      "0 20\n",
      "-0.5 -100.0 -0.008973192410901078414 0.011304852797245379739\n",
      "-0.5 -89.47368421052631579 -0.000572893567152891808 -0.025007514634280823829\n",
      "-0.5 -78.94736842105263158 0.011954228795553476297 0.011329987545612398708\n",
      "-0.5 -68.421052631578947366 -0.011771805368002914369 0.020870358211360628964\n",
      "-0.5 -57.894736842105263157 -0.0036545988300372509588 -0.037784481874790040723\n",
      "-0.5 -47.368421052631578948 0.021067515784172128473 0.011684483874787109786\n",
      "-0.5 -36.842105263157894735 -0.019015219876714475195 0.045771642889981471736\n",
      "-0.5 -26.315789473684210523 -0.013374144513368390469 -0.07926310967275579378\n",
      "-0.5 -15.789473684210526314 0.06521199993598947309 0.013715011787063370249\n",
      "-0.5 -5.2631578947368421045 -0.1471018104854090458 0.36727507715508256325\n",
      "-0.5 5.2631578947368421045 0.14757495989388139113 0.36756574165931749087\n",
      "-0.5 15.7894736842105263205 -0.06549444837698763233 0.013734585599752203305\n",
      "-0.5 26.31578947368421053 0.013437233135849461704 -0.07933719502893256392\n",
      "-0.5 36.842105263157894746 0.019095430460286225843 0.045813085848284071377\n",
      "-0.5 47.368421052631578955 -0.021159254450522711755 0.0116960255800551606725\n",
      "-0.5 57.894736842105263164 0.003671588200645916917 -0.03781951843836019178\n",
      "-0.5 68.42105263157894737 0.011822306428659327959 0.020889370470191605256\n",
      "-0.5 78.94736842105263158 -0.012006318331024846621 0.011340711162417643418\n",
      "-0.5 89.47368421052631579 0.00057587603194459162544 -0.025030646942567350705\n",
      "-0.5 100.0 0.009011902727418568543 0.011315159891813430376\n",
      "1 20\n",
      "-0.44736842105263157894 -100.0 -0.007960732651813401742 0.011054126536517262097\n",
      "-0.44736842105263157894 -89.47368421052631579 -0.00051011760910053599496 -0.024434104688579545706\n",
      "-0.44736842105263157894 -78.94736842105263158 0.010607355904747489336 0.011056583708960782478\n",
      "-0.44736842105263157894 -68.421052631578947366 -0.010442609201165728439 0.020408079405030334769\n",
      "-0.44736842105263157894 -57.894736842105263157 -0.0032468195986918081154 -0.03691321952679945534\n",
      "-0.44736842105263157894 -47.368421052631578948 0.018694066615324411718 0.0113760492842769414534\n",
      "-0.44736842105263157894 -36.842105263157894735 -0.016863668920010673608 0.044770662875507127865\n",
      "-0.44736842105263157894 -26.315789473684210523 -0.0118866243214025245345 -0.07740106838818366919\n",
      "-0.44736842105263157894 -15.789473684210526314 0.057875918768517692348 0.013018434138791655855\n",
      "-0.44736842105263157894 -5.2631578947368421045 -0.13029981391542622138 0.36174918780388037876\n",
      "-0.44736842105263157894 5.2631578947368421045 0.13075713728170013095 0.3620081524817035934\n",
      "-0.44736842105263157894 15.7894736842105263205 -0.058152002328007018628 0.013035689653736529797\n",
      "-0.44736842105263157894 26.31578947368421053 0.011948523024013541979 -0.0774668032499162551\n",
      "-0.44736842105263157894 36.842105263157894746 0.01694193609356228064 0.044807456690519255338\n",
      "-0.44736842105263157894 47.368421052631578955 -0.018783722495699001903 0.011386279255506512667\n",
      "-0.44736842105263157894 57.894736842105263164 0.0032634744935942684718 -0.0369443108778202689\n",
      "-0.44736842105263157894 68.42105263157894737 0.010491925976411438717 0.020424956703986967\n",
      "-0.44736842105263157894 78.94736842105263158 -0.010658262553477924894 0.011066095984726811996\n",
      "-0.44736842105263157894 89.47368421052631579 0.0005130552929330095546 -0.024454633133205793544\n",
      "-0.44736842105263157894 100.0 0.007998545230046508886 0.011063276073509190414\n",
      "2 20\n",
      "-0.39473684210526315788 -100.0 -0.0069705735813177091206 0.010832972779697320337\n",
      "-0.39473684210526315788 -89.47368421052631579 -0.00044811972327879077884 -0.023928465110604410504\n",
      "-0.39473684210526315788 -78.94736842105263158 0.009289519887578047072 0.010815589911298705353\n",
      "-0.39473684210526315788 -68.421052631578947366 -0.009143003015198247416 0.02000031798373358427\n",
      "-0.39473684210526315788 -57.894736842105263157 -0.0028465390016715070437 -0.03614495710222608016\n",
      "-0.39473684210526315788 -47.368421052631578948 0.016371718635273788817 0.0111043524217917764785\n",
      "-0.39473684210526315788 -36.842105263157894735 -0.01476146513680240413 0.04388760769222985192\n",
      "-0.39473684210526315788 -26.315789473684210523 -0.010424901357174378921 -0.07575928404516245329\n",
      "-0.39473684210526315788 -15.789473684210526314 0.05069436018396181881 0.012406723624830945374\n",
      "-0.39473684210526315788 -5.2631578947368421045 -0.11393382579444016889 0.35684727117001363572\n",
      "-0.39473684210526315788 5.2631578947368421045 0.11437719099567930647 0.35707490463995122942\n",
      "-0.39473684210526315788 15.7894736842105263205 -0.05096482753150232553 0.012421748128184308471\n",
      "-0.39473684210526315788 26.31578947368421053 0.0104857485475939350705 -0.07581685446583372179\n",
      "-0.39473684210526315788 36.842105263157894746 0.014838018836951643101 0.043919848926474214235\n",
      "-0.39473684210526315788 47.368421052631578955 -0.016459537221721085715 0.011113303331466607357\n",
      "-0.39473684210526315788 57.894736842105263164 0.0028628984686341800783 -0.03617218990401469686\n",
      "-0.39473684210526315788 68.42105263157894737 0.00919127538671130756 0.0200151053495824377\n",
      "-0.39473684210526315788 78.94736842105263158 -0.009339383092862009461 0.010823918677047237799\n",
      "-0.39473684210526315788 89.47368421052631579 0.0004510177355958134367 -0.023946446604734630131\n",
      "-0.39473684210526315788 100.0 0.0070075943910462915043 0.01084098921535861515\n",
      "3 20\n",
      "-0.34210526315789473685 -100.0 -0.005999941559831199582 0.01064080103978108649\n",
      "-0.34210526315789473685 -89.47368421052631579 -0.00038680710759399125056 -0.023489194774997303877\n",
      "-0.34210526315789473685 -78.94736842105263158 0.00799711351515000092 0.010606302553944740516\n",
      "-0.34210526315789473685 -68.421052631578947366 -0.007869304686487619063 0.01964598784661530581\n",
      "-0.34210526315789473685 -57.894736842105263157 -0.0024528341933773112164 -0.035477555788930227598\n",
      "-0.34210526315789473685 -47.368421052631578948 0.014094124749884882897 0.01086853534960027616\n",
      "-0.34210526315789473685 -36.842105263157894735 -0.012702459840526307555 0.043120170389927055254\n",
      "-0.34210526315789473685 -26.315789473684210523 -0.00898581388113188842 -0.074333138299529755155\n",
      "-0.34210526315789473685 -15.789473684210526314 0.04364818110749496549 0.01187724704535950658\n",
      "-0.34210526315789473685 -5.2631578947368421045 -0.09795044858597454218 0.35256635642888484172\n",
      "-0.34210526315789473685 5.2631578947368421045 0.09838168460162979856 0.35276298349203699667\n",
      "-0.34210526315789473685 15.7894736842105263205 -0.043913766150009803102 0.011890116774036752281\n",
      "-0.34210526315789473685 26.31578947368421053 0.009045745766538108162 -0.07438270723875105295\n",
      "-0.34210526315789473685 36.842105263157894746 0.012777525012377003583 0.043147943663109325496\n",
      "-0.34210526315789473685 47.368421052631578955 -0.014180346521177665184 0.010876235790203950607\n",
      "-0.34210526315789473685 57.894736842105263164 0.0024689366103084237243 -0.03550100595088659383\n",
      "-0.34210526315789473685 68.42105263157894737 0.007916669579777836294 0.019658724731252113366\n",
      "-0.34210526315789473685 78.94736842105263158 -0.008046069865846296881 0.0106134721787061094694\n",
      "-0.34210526315789473685 89.47368421052631579 0.00038967051076155842862 -0.023504679170978010072\n",
      "-0.34210526315789473685 100.0 0.006036274353832088088 0.010647705801970160783\n",
      "4 20\n",
      "-0.2894736842105263158 -100.0 -0.005046117599357398918 0.0104770982055325326265\n",
      "-0.2894736842105263158 -89.47368421052631579 -0.0003260873176680547541 -0.02311507645727949728\n",
      "-0.2894736842105263158 -78.94736842105263158 0.006726599071899463586 0.010428110590494098914\n",
      "-0.2894736842105263158 -68.421052631578947366 -0.006617905341279182313 0.019344145191510245252\n",
      "-0.2894736842105263158 -57.894736842105263157 -0.002064796884922526568 -0.034909157538156349032\n",
      "-0.2894736842105263158 -47.368421052631578948 0.011855059749011586517 0.0106678533202568693455\n",
      "-0.2894736842105263158 -36.842105263157894735 -0.010680629636065907054 0.042466345954241417615\n",
      "-0.2894736842105263158 -26.315789473684210523 -0.007566245140895227865 -0.07311861907253251747\n",
      "-0.2894736842105263158 -15.789473684210526314 0.0367185878590452347 0.0114277212421405871545\n",
      "-0.2894736842105263158 -5.2631578947368421045 -0.082297043582973433695 0.34890386234260423182\n",
      "-0.2894736842105263158 5.2631578947368421045 0.08271794553004714612 0.34906976415244850287\n",
      "-0.2894736842105263158 15.7894736842105263205 -0.03698001166731944983 0.011438501679408441189\n"
     ]
    },
    {
     "name": "stdout",
     "output_type": "stream",
     "text": [
      "-0.2894736842105263158 26.31578947368421053 0.0076253960119546503743 -0.07316032685184610529\n",
      "-0.2894736842105263158 36.842105263157894746 0.010754426888229912454 0.042489724163400528767\n",
      "-0.2894736842105263158 47.368421052631578955 -0.011939920826699725737 0.0106743278936517992095\n",
      "-0.2894736842105263158 57.894736842105263164 0.0020806800467295574059 -0.03492889042685560358\n",
      "-0.2894736842105263158 68.42105263157894737 0.0066644971132448450543 0.019354865576956127582\n",
      "-0.2894736842105263158 78.94736842105263158 -0.0067747826761229562598 0.0104341420523900822726\n",
      "-0.2894736842105263158 89.47368421052631579 0.00032892113276998356927 -0.02312810668467163086\n",
      "-0.2894736842105263158 100.0 0.005081864203870899502 0.010482909750809310881\n",
      "5 20\n",
      "-0.23684210526315789474 -100.0 -0.0041064297539461129885 0.01034142717440067992\n",
      "-0.23684210526315789474 -89.47368421052631579 -0.00026586822515826171462 -0.022805073464219650925\n",
      "-0.23684210526315789474 -78.94736842105263158 0.005474498685619754064 0.010280493749910257079\n",
      "-0.23684210526315789474 -68.421052631578947366 -0.005385259153123604821 0.01909398600914280486\n",
      "-0.23684210526315789474 -57.894736842105263157 -0.0016815313373695311809 -0.03443817990421176034\n",
      "-0.23684210526315789474 -47.368421052631578948 0.009648403354982027988 0.01050167246964156878\n",
      "-0.23684210526315789474 -36.842105263157894735 -0.00869005895562158584 0.041924426115301158258\n",
      "-0.23684210526315789474 -26.315789473684210523 -0.006163117202110489877 -0.07211230940092384911\n",
      "-0.23684210526315789474 -15.789473684210526314 0.029887087701549779756 0.011056204911933419435\n",
      "-0.23684210526315789474 -5.2631578947368421045 -0.06692162486566831381 0.34585759115483355464\n",
      "-0.23684210526315789474 5.2631578947368421045 0.067333958964276449666 0.34599300536382449067\n",
      "-0.23684210526315789474 15.7894736842105263205 -0.030145060404059963871 0.011064951041592959932\n",
      "-0.23684210526315789474 26.31578947368421053 0.0062216197133817142256 -0.07214627409623038112\n",
      "-0.23684210526315789474 36.842105263157894746 0.008762805202713176353 0.041943470624465850616\n",
      "-0.23684210526315789474 47.368421052631578955 -0.009732136147627209674 0.010506941863998118386\n",
      "-0.23684210526315789474 57.894736842105263164 0.0016972325415607566503 -0.034454250525221163937\n",
      "-0.23684210526315789474 68.42105263157894737 0.0054312099722819496064 0.019102718497824619504\n",
      "-0.23684210526315789474 78.94736842105263158 -0.0055220415375552521497 0.010285404697247578845\n",
      "-0.23684210526315789474 89.47368421052631579 0.0002686774378310723306 -0.02281568564881455638\n",
      "-0.23684210526315789474 100.0 0.0041416903538368625426 0.0103461610373354571946\n",
      "6 20\n",
      "-0.1842105263157894737 -100.0 -0.0031782456416779149115 0.010233425687912777943\n",
      "-0.1842105263157894737 -89.47368421052631579 -0.00020605797329483895269 -0.022558326764144986942\n",
      "-0.1842105263157894737 -78.94736842105263158 0.0042373848207673120436 0.010163021023550294908\n",
      "-0.1842105263157894737 -68.421052631578947366 -0.0041678733181122586474 0.018894843948285104662\n"
     ]
    }
   ],
   "source": [
    "if make_investigation_plots:\n",
    "    make_det_plot2d(M6_det_d)"
   ]
  },
  {
   "cell_type": "code",
   "execution_count": null,
   "metadata": {},
   "outputs": [],
   "source": [
    "if make_investigation_plots:\n",
    "    import matplotlib.pyplot as plt\n",
    "    \n",
    "    fig,ax=plt.subplots(1,1)\n",
    "\n",
    "    cp = ax.contourf(kz_grid,sz_grid, u)\n",
    "    fig.colorbar(cp) # Add a colorbar to a plot\n",
    "    ax.set_title('M6 det real')\n",
    "    ax.set_xlabel('kz')\n",
    "    ax.set_ylabel('sz')\n",
    "    plt.show()"
   ]
  },
  {
   "cell_type": "code",
   "execution_count": null,
   "metadata": {},
   "outputs": [],
   "source": [
    "if make_investigation_plots:\n",
    "    import matplotlib.pyplot as plt    \n",
    "    fig,ax=plt.subplots(1,1)\n",
    "\n",
    "    cp = ax.contourf(kz_grid,sz_grid, v)\n",
    "    fig.colorbar(cp) # Add a colorbar to a plot\n",
    "    ax.set_title('M6 det imag')\n",
    "    ax.set_xlabel('kz')\n",
    "    ax.set_ylabel('sz')\n",
    "    plt.show()"
   ]
  },
  {
   "cell_type": "markdown",
   "metadata": {},
   "source": [
    "Искомый волновой вектор можно найти графическим методом как точку пересечения двух нулевых изолиний на контурных графиках зависимости действительной и мнимой компонент детерминанта от действительной и мнимой компонент волнового вектора"
   ]
  },
  {
   "cell_type": "code",
   "execution_count": null,
   "metadata": {},
   "outputs": [],
   "source": [
    "# Get coordinates from a contour\n",
    "# https://stackoverflow.com/questions/19418901/get-coordinates-from-a-contour\n",
    "\n",
    "import matplotlib.pyplot as plt\n",
    "fig, ax=plt.subplots(1,1)\n",
    "cu = ax.contour(kz_grid,sz_grid, u)\n",
    "cv = ax.contour(kz_grid,sz_grid, v)\n",
    "plt.show()"
   ]
  },
  {
   "cell_type": "code",
   "execution_count": null,
   "metadata": {},
   "outputs": [],
   "source": [
    "cu_index_of_zero_level=cu.levels.tolist().index(0.)\n",
    "cv_index_of_zero_level=cv.levels.tolist().index(0.)\n",
    "cu_zero_levels_number = len(cu.allsegs[cu_index_of_zero_level])\n",
    "cv_zero_levels_number = len(cv.allsegs[cv_index_of_zero_level])\n",
    "cu_zero_levels_number, cv_zero_levels_number"
   ]
  },
  {
   "cell_type": "markdown",
   "metadata": {},
   "source": [
    "Get coordinates from a contour\n",
    "\n",
    "https://stackoverflow.com/questions/19418901/get-coordinates-from-a-contour"
   ]
  },
  {
   "cell_type": "code",
   "execution_count": null,
   "metadata": {},
   "outputs": [],
   "source": [
    "pl = Graphics()\n",
    "for seg in cu.allsegs[cu_index_of_zero_level]:\n",
    "    #print(\"seg\", seg)\n",
    "    pl += list_plot(seg)\n",
    "    pl += line(seg)\n",
    "for seg in cv.allsegs[cv_index_of_zero_level]:\n",
    "    #print(\"seg\", seg)\n",
    "    pl += list_plot(seg, color=\"red\")\n",
    "    pl += line(seg, color=\"red\")\n",
    "pl.show()"
   ]
  },
  {
   "cell_type": "code",
   "execution_count": null,
   "metadata": {},
   "outputs": [],
   "source": [
    "# https://stackoverflow.com/questions/8094374/python-matplotlib-find-intersection-of-lineplots\n",
    "def intersect_interp1d(M_d, x1, y1, x2, y2, ax, ds=0.1):\n",
    "    import numpy as np\n",
    "    from numpy.linalg import norm\n",
    "    from scipy.optimize import fsolve\n",
    "    from scipy.interpolate import interp1d\n",
    "    import matplotlib.pyplot as plt\n",
    "\n",
    "    x1_array = np.array(x1)\n",
    "    y1_array = np.array(y1)\n",
    "    x2_array = np.array(x2)\n",
    "    y2_array = np.array(y2)\n",
    "\n",
    "    s1_array = np.linspace(0,1,num=len(x1_array))\n",
    "    s2_array = np.linspace(0,1,num=len(x2_array))\n",
    "\n",
    "    # Arguments given to interp1d:\n",
    "    #  - extrapolate: to make sure we don't get a fatal value error when fsolve searches\n",
    "    #                 beyond the bounds of [0,1]\n",
    "    #  - copy: use refs to the arrays\n",
    "    #  - assume_sorted: because s_array ('x') increases monotonically across [0,1]\n",
    "    kwargs_ = dict(fill_value='extrapolate', copy=False, assume_sorted=True)\n",
    "    x1_interp = interp1d(s1_array,x1_array, **kwargs_)\n",
    "    y1_interp = interp1d(s1_array,y1_array, **kwargs_)\n",
    "    x2_interp = interp1d(s2_array,x2_array, **kwargs_)\n",
    "    y2_interp = interp1d(s2_array,y2_array, **kwargs_)\n",
    "    \n",
    "    xydiff_lambda = lambda s12: (np.abs(x1_interp(s12[0])-x2_interp(s12[1])),\n",
    "                                 np.abs(y1_interp(s12[0])-y2_interp(s12[1])))\n",
    "    \n",
    "    foundset = []\n",
    "    \n",
    "    for s1 in np.arange(ds, 1.0, ds):\n",
    "        for s2 in np.arange(ds, 1.0, ds):\n",
    "\n",
    "            s12_intercept, _, ier, mesg \\\n",
    "                = fsolve(xydiff_lambda, [s1, s2], full_output=True) \n",
    "\n",
    "            xy1_intercept = x1_interp(s12_intercept[0]),y1_interp(s12_intercept[0])\n",
    "            xy2_intercept = x2_interp(s12_intercept[1]),y2_interp(s12_intercept[1])\n",
    "            \n",
    "            is_intercept_really_good = s12_intercept[0]>=0 and s12_intercept[0]<=1 \\\n",
    "                  and s12_intercept[1]>=0 and s12_intercept[1]<=1 \\\n",
    "                  and np.isclose(0,norm(xydiff_lambda(s12_intercept)))\n",
    "            \n",
    "            if is_intercept_really_good:\n",
    "\n",
    "                found = (float(xy1_intercept[0]), float(xy1_intercept[1]))\n",
    "                \n",
    "                if found not in foundset:\n",
    "                    foundset += [found]\n",
    "                    \n",
    "                    fig, ax = plt.subplots(1,1)\n",
    "                \n",
    "                    ax.plot(x1_interp(s1_array),y1_interp(s1_array),'b.', ls='-', label='x1 data')\n",
    "                    ax.plot(x2_interp(s2_array),y2_interp(s2_array),'r.', ls='-', label='x2 data')\n",
    "                    if s12_intercept[0]>0 and s12_intercept[0]<1:\n",
    "                        \n",
    "                        ax.plot(*xy1_intercept,'bo', ms=12, label='x1 intercept')\n",
    "                        ax.plot(*xy2_intercept,'ro', ms=8, label='x2 intercept')\n",
    "                        ax.legend()\n",
    "                        plt.show()\n",
    "\n",
    "                        M_det = M_d \\\n",
    "                            .subs(kz == float(xy1_intercept[0])) \\\n",
    "                            .subs(sz == float(xy1_intercept[1])).n()\n",
    "\n",
    "                        print(\"M_det=\", M_det)\n",
    "                \n",
    "                        print('intercept @ s1={}, s2={}\\n'.format(s12_intercept[0],s12_intercept[1]), \n",
    "                              'intercept @ xy1={}\\n'.format(np.array(xy1_intercept)), \n",
    "                              'intercept @ xy2={}\\n'.format(np.array(xy2_intercept)), \n",
    "                              'fsolve apparent success? {}: \"{}\"\\n'.format(ier==1,mesg,), \n",
    "                              'is intercept really good? {}\\n'.format( is_intercept_really_good ))\n",
    "\n",
    "                        return foundset\n",
    "    return foundset"
   ]
  },
  {
   "cell_type": "code",
   "execution_count": null,
   "metadata": {},
   "outputs": [],
   "source": [
    "def test_contour_line_intersection(M, i, j, cu, cv, cu_index, cv_index):\n",
    "    dat_u = cu.allsegs[cu_index][i]\n",
    "    dat_v = cv.allsegs[cv_index][j]\n",
    "    \n",
    "    xu = dat_u[:,0]\n",
    "    yu = dat_u[:,1]\n",
    "    xv = dat_v[:,0]\n",
    "    yv = dat_v[:,1]\n",
    "    \n",
    "    if len(xu) < 2:\n",
    "        return None\n",
    "    if len(xv) < 2:\n",
    "        return None\n",
    "    \n",
    "    return intersect_interp1d(M, xu, yu, xv, yv, ax)"
   ]
  },
  {
   "cell_type": "markdown",
   "metadata": {},
   "source": [
    "Искомый волновой вектор можно найти графическим методом как точку пересечения двух нулевых изолиний на контурных графиках зависимости действительной и мнимой компонент детерминанта от действительной и мнимой компонент волнового вектора\n",
    "\n",
    "Get coordinates from a contour\n",
    "\n",
    "https://stackoverflow.com/questions/19418901/get-coordinates-from-a-contour"
   ]
  },
  {
   "cell_type": "code",
   "execution_count": null,
   "metadata": {},
   "outputs": [],
   "source": [
    "k_z_graphic_solutions = []\n",
    "for i in range(0, cu_zero_levels_number):\n",
    "    for j in range(0, cv_zero_levels_number):\n",
    "        result = test_contour_line_intersection(M6_det_d,\n",
    "                                                i, j, cu, cv,\n",
    "                                                cu_index_of_zero_level,\n",
    "                                                cv_index_of_zero_level)\n",
    "        if None == result:\n",
    "            continue\n",
    "            \n",
    "        for found in result:\n",
    "            print(\"found\", found)\n",
    "            xy_intercept = found\n",
    "        \n",
    "            k_z_graphic_solutions += [xy_intercept]"
   ]
  },
  {
   "cell_type": "code",
   "execution_count": null,
   "metadata": {},
   "outputs": [],
   "source": [
    "k_z_graphic_solutions"
   ]
  },
  {
   "cell_type": "markdown",
   "metadata": {},
   "source": [
    "```\n",
    "знак перед корнем будем всегда выбирать так, чтобы корень имел положительнею мнимую часть (Зоммерфельд, Электродинамика, параграф 20, Б. Волновое поле и скин-эффект в полупространстве)\n",
    "```"
   ]
  },
  {
   "cell_type": "code",
   "execution_count": null,
   "metadata": {},
   "outputs": [],
   "source": [
    "max_abs_kz_sol = 0\n",
    "for k_z_sol_i in [k_z_graphic_solutions[5]]:\n",
    "    k_z_sol_i_kz = float(k_z_sol_i[0])\n",
    "    k_z_sol_i_sz = float(k_z_sol_i[1])\n",
    "    print(k_z_sol_i_kz, k_z_sol_i_sz)\n",
    "    # знак перед корнем K_conductor будем всегда выбирать так, чтобы корень имел положительнею мнимую часть (Зоммерфельд, Электродинамика, параграф 20, Б)\n",
    "    # потому что нужно обеспечить затухание поля в проводнике\n",
    "    # E_bad_conductor_sol_z (x) = B1_z*exp(I * K_conductor*x)\n",
    "    # E_bad_conductor_sol_x (x) = B1_x*exp(I * K_conductor*x)\n",
    "    K_ = K_conductor_subs \\\n",
    "        .subs(kappa_vacuum_sol) \\\n",
    "        .subs(kappa_sol) \\\n",
    "        .subs(digit_values) \\\n",
    "        .subs(k_z == k_z_sol_i_kz + I * k_z_sol_i_sz)\n",
    "    #show(K_)\n",
    "    #show(K_.lhs() == K_.rhs().n())\n",
    "    #plot(E_bad_conductor_sol_z (x).subs(K_, B1_z == 1+I).real(), x, 0, h_conductor).show()\n",
    "    \n",
    "    abs_kz_sol = abs(k_z_sol_i_kz)\n",
    "    #print(\"abs_k_z_sol,\", abs_k_z_sol)\n",
    "    #if max_abs_k_z_sol < abs_k_z_sol:\n",
    "    #max_abs_k_z_sol = abs_k_z_sol\n",
    "        # выберем решение с максимальным модулем kz\n",
    "        # для того чтобы обеспечить лучшую сходимость итерационной процедуры\n",
    "        \n",
    "        #if k_z_sol_i_kz > 0:\n",
    "\n",
    "    k_z_sol_kz = k_z_sol_i_kz \n",
    "    k_z_sol_sz = k_z_sol_i_sz "
   ]
  },
  {
   "cell_type": "code",
   "execution_count": null,
   "metadata": {},
   "outputs": [],
   "source": [
    "k_z_sol_kz, k_z_sol_sz"
   ]
  },
  {
   "cell_type": "markdown",
   "metadata": {},
   "source": [
    "метод ньютона для комплексной функции от комплексного аргумента\n",
    "комплексная функция представляется в виде двух функций: ее действительной и мнимой частей\n",
    "также мы предварительно должны посчитать все четыре варианта первых производных: действительной компоненты функции от обоих компонент аргумента и также и для мнимой части\n",
    "\n",
    "на вход метода find_newton_complex_root() подается:\n",
    "\n",
    "- выражения для действительной и мнимой частей исследуемой комплексной функции\n",
    "\n",
    "- четыре выражения для отношения каждой компоненты комплексной функции к ее производной по каждой компоненте аргумента\n",
    "\n",
    "- символьное представление действительной и мнимой части аргумента\n",
    "\n",
    "- начальные значения действительной и мнимой части аргумента"
   ]
  },
  {
   "cell_type": "code",
   "execution_count": null,
   "metadata": {},
   "outputs": [],
   "source": [
    "class newton_prec():\n",
    "    def __init__(self, M_det_kz_sz, xn_re, xn_im):\n",
    "        self.xn_re = xn_re\n",
    "        self.xn_im = xn_im\n",
    "        # выражения для действительной и мнимой частей исследуемой комплексной функции\n",
    "        self.M_det = M_det_kz_sz\n",
    "\n",
    "        # четыре выражения для производной комплексной функции по каждой компоненте аргумента\n",
    "        self.M_det_diff_kz = self.M_det.diff(kz)\n",
    "        self.M_det_diff_sz = self.M_det.diff(sz)\n",
    "        \n",
    "        #self.grad = vector([self.M_det_diff_kz, self.M_det_diff_sz])\n",
    "        \n",
    "        self.jac =  matrix([\n",
    "            [self.M_det_diff_kz.real(), self.M_det_diff_sz.real()],\n",
    "            [self.M_det_diff_kz.imag(), self.M_det_diff_sz.imag()],\n",
    "        ])\n",
    "\n",
    "        self.M_det_diff_kz_kz = self.M_det_diff_kz.diff(kz)\n",
    "        self.M_det_diff_kz_sz = self.M_det_diff_kz.diff(sz)\n",
    "        \n",
    "        self.M_det_diff_sz_kz = self.M_det_diff_sz.diff(kz)\n",
    "        self.M_det_diff_sz_sz = self.M_det_diff_sz.diff(sz)\n",
    "        \n",
    "        #self.gessian = matrix([[self.M_det_diff_kz_kz, self.M_det_diff_kz_sz],\n",
    "        #                       [self.M_det_diff_sz_kz, self.M_det_diff_sz_sz]])\n",
    "\n",
    "        # четыре выражения для отношения каждой компоненты комплексной функции к ее производной по каждой компоненте аргумента\n",
    "        self.M_det_div_diff_kz = (self.M_det / self.M_det_diff_kz)\n",
    "        self.M_det_div_diff_sz = (self.M_det / self.M_det_diff_sz)\n",
    "        \n",
    "        self.M_det_d = self.M_det.subs(digit_values)\n",
    "        \n",
    "        self.jac_d = self.jac.subs(digit_values)\n",
    "\n",
    "        self.M_det_div_diff_kz_d = self.M_det_div_diff_kz.subs(digit_values)\n",
    "        self.M_det_div_diff_sz_d = self.M_det_div_diff_sz.subs(digit_values)\n",
    "\n",
    "    def get_root(self):\n",
    "        return self.xn_re, self.xn_im\n",
    "\n",
    "    # инициализируем метод ньютона значениями найденными графическим методом\n",
    "    def prec_root(self, nsteps = 100):\n",
    "        self.find_newton_complex_root(nsteps = nsteps)\n",
    "\n",
    "    def find_newton_complex_root(self, nsteps):\n",
    "    \n",
    "        f = self.M_det_d\n",
    "        f_div_df_re = self.M_det_div_diff_kz_d\n",
    "        f_div_df_im = self.M_det_div_diff_sz_d\n",
    "        xre = kz\n",
    "        xim = sz\n",
    "        self.xn_re = self.xn_re\n",
    "        self.xn_im = self.xn_im\n",
    "        \n",
    "        def NewtonIt(f_div_df, x, xn, step, re):\n",
    "            print(\"xn\", xn)\n",
    "            #print(\"(f/df)\", f_div_df)\n",
    "\n",
    "            #delta = (f/df).subs(x == xn)\n",
    "            if True == re:\n",
    "                delta = f_div_df.subs(x == xn).n().real()\n",
    "            else:\n",
    "                delta = f_div_df.subs(x == xn).n().imag()\n",
    "\n",
    "            #print(\"delta\", delta)\n",
    "            #print(\"step\", step)\n",
    "            step_delta = step*delta\n",
    "            print(\"step_delta\", step_delta)\n",
    "\n",
    "            res = xn-step_delta\n",
    "            #print (\"res\", res)\n",
    "            return res, step_delta\n",
    "\n",
    "        logging = False\n",
    "\n",
    "        if logging:\n",
    "            print (\"xre\", xre)\n",
    "            print (\"xim\", xim)\n",
    "            print (\"xn_re\", self.xn_re)\n",
    "            print (\"xn_im\", self.xn_im)\n",
    "            #print (\"f_div_df_re\", f_div_df_re)\n",
    "            #print (\"f_div_df_im\", f_div_df_im)\n",
    "\n",
    "        step_init = np.float128(0.95)\n",
    "        step_init_im_re = np.float128(0.95)\n",
    "        step_init_re_im = np.float128(0.95)\n",
    "\n",
    "        step_re_im = step_init_re_im\n",
    "        step_im_im = step_init\n",
    "        step_re_re = step_init\n",
    "        step_im_re = step_init_im_re\n",
    "\n",
    "        step__m = np.float128(0.1)\n",
    "        step_m = np.float128(0.2)\n",
    "        abs_m = np.float128(1.0)\n",
    "\n",
    "        delta_epsilon = np.float128(1e-32)\n",
    "        f_abs_epsilon = np.float128(1e-16)\n",
    "\n",
    "        f_new = f.subs(xre == self.xn_re).subs(xim == self.xn_im).n()\n",
    "        if logging:\n",
    "            print(\"\\nf_new = \", f_new)\n",
    "\n",
    "        f_abs = f_new.abs()\n",
    "\n",
    "        if logging:\n",
    "            print(\"\\nf_abs = \", f_abs)\n",
    "        N = 10\n",
    "\n",
    "        for i in range(nsteps):\n",
    "            n = N\n",
    "            while n > 0:\n",
    "                n = n-1\n",
    "                if logging:\n",
    "                    print(\"\\nre_d_re xn = \", self.xn_re, self.xn_im, \"step = \", step_re_re)\n",
    "\n",
    "                xn_re_new, delta_re_re = NewtonIt(f_div_df_re.subs(xim == self.xn_im), xre, self.xn_re, step_re_re, re=True)\n",
    "                f_new = f.subs(xre == xn_re_new).subs(xim == self.xn_im).n()\n",
    "                f_abs_new = f_new.abs()\n",
    "\n",
    "\n",
    "                if logging:\n",
    "                    print(\"f_abs_new\", f_abs_new)\n",
    "\n",
    "                if f_abs_new > abs_m*f_abs:\n",
    "                    step_re_re *= step__m\n",
    "                    continue\n",
    "                else:\n",
    "                    self.xn_re = xn_re_new\n",
    "                    f_abs = f_abs_new\n",
    "                    if step_re_re < 0.9:\n",
    "                        step_re_re /= step_m\n",
    "\n",
    "                    print (\"f_new\", f_new)\n",
    "                    print(\"f_abs_new\", f_abs_new)\n",
    "                    break\n",
    "\n",
    "            n = N\n",
    "            while n > 0:\n",
    "                n = n-1\n",
    "                if logging:\n",
    "                    print(\"\\nim_d_re xn = \", self.xn_re, self.xn_im, \"step = \", step_im_re)\n",
    "\n",
    "                xn_re_new, delta_im_re = NewtonIt(f_div_df_re.subs(xim == self.xn_im), xre, self.xn_re, step_im_re, re=False)\n",
    "                f_new = f.subs(xre == xn_re_new).subs(xim == self.xn_im).n()\n",
    "                f_abs_new = f_new.abs()\n",
    "\n",
    "                if logging:\n",
    "                    print(\"f_abs_new\", f_abs_new)\n",
    "\n",
    "                if f_abs_new > abs_m*f_abs:\n",
    "                    step_im_re *= step__m\n",
    "                    continue\n",
    "                else:\n",
    "                    self.xn_re = xn_re_new\n",
    "                    f_abs = f_abs_new\n",
    "                    if step_im_re < 0.9:\n",
    "                        step_im_re /= step_m\n",
    "\n",
    "                    print (\"f_new\", f_new)\n",
    "                    print(\"f_abs_new\", f_abs_new)\n",
    "                    break\n",
    "\n",
    "            n = N\n",
    "            while n > 0:\n",
    "                n = n-1\n",
    "                if logging:\n",
    "                    print(\"\\nre_d_im xn = \", self.xn_re, self.xn_im, \"step = \", step_re_im)\n",
    "\n",
    "                xn_im_new, delta_re_im = NewtonIt(f_div_df_im.subs(xre == self.xn_re), xim, self.xn_im, step_re_im, re=True)\n",
    "                f_new = f.subs(xre == self.xn_re).subs(xim == xn_im_new).n()\n",
    "                f_abs_new = f_new.abs()\n",
    "\n",
    "                if logging:\n",
    "                    print(\"f_abs_new\", f_abs_new)\n",
    "\n",
    "                if f_abs_new > abs_m*f_abs:\n",
    "                    step_re_im *= step__m\n",
    "                    continue\n",
    "                else:\n",
    "                    self.xn_im = xn_im_new\n",
    "                    f_abs = f_abs_new\n",
    "                    if step_re_im < 0.9:\n",
    "                        step_re_im /= step_m\n",
    "\n",
    "                    print (\"f_new\", f_new)\n",
    "                    print(\"f_abs_new\", f_abs_new)\n",
    "                    break\n",
    "\n",
    "            n = N\n",
    "            while n > 0:\n",
    "                n = n-1\n",
    "                if logging:\n",
    "                    print(\"\\nim_d_im xn = \", xn_re, xn_im, \"step = \", step_im_im)\n",
    "\n",
    "                xn_im_new, delta_im_im = NewtonIt(f_div_df_im.subs(xre == self.xn_re), xim, self.xn_im, step_im_im, re=False)\n",
    "                f_new = f.subs(xre == self.xn_re).subs(xim == xn_im_new).n()\n",
    "                f_abs_new = f_new.abs()\n",
    "\n",
    "                if logging:\n",
    "                    print(\"f_abs_new\", f_abs_new)\n",
    "\n",
    "                if f_abs_new > abs_m*f_abs:\n",
    "                    step_im_im *= step__m\n",
    "                    continue\n",
    "                else:\n",
    "                    self.xn_im = xn_im_new\n",
    "                    f_abs = f_abs_new\n",
    "                    if step_im_im < 0.9:\n",
    "                        step_im_im /= step_m\n",
    "\n",
    "                    print (\"f_new\", f_new)\n",
    "                    print(\"f_abs_new\", f_abs_new)\n",
    "                    break\n",
    "\n",
    "\n",
    "            if abs(delta_re_re) < delta_epsilon and \\\n",
    "               abs(delta_re_im) < delta_epsilon and \\\n",
    "               abs(delta_im_re) < delta_epsilon and \\\n",
    "               abs(delta_im_im) < delta_epsilon:\n",
    "                print(\"algorithm finished via delta_epsilon\",\n",
    "                      delta_re_re,\n",
    "                      delta_re_im,\n",
    "                      delta_im_re,\n",
    "                      delta_im_im\n",
    "                     )\n",
    "                break\n",
    "            if f_abs < f_abs_epsilon:\n",
    "                print(\"algorithm finished via f_abs_epsilon\",\n",
    "                      f_abs\n",
    "                     )\n",
    "                break\n",
    "\n",
    "\n",
    "    def find_newton_root(self, nsteps):\n",
    "    \n",
    "        f = self.M_det_d\n",
    "        f_div_df_re = self.M_det_div_diff_kz_d\n",
    "        f_div_df_im = self.M_det_div_diff_sz_d\n",
    "        xre = kz\n",
    "        xim = sz\n",
    "        self.xn_re = self.xn_re\n",
    "        self.xn_im = self.xn_im\n",
    "        \n",
    "        def NewtonIt(f_div_df, x, xn, step):\n",
    "            print(\"xn\", xn)\n",
    "            #print(\"(f/df)\", f_div_df)\n",
    "\n",
    "            #delta = (f/df).subs(x == xn)\n",
    "            delta = f_div_df.subs(x == xn).n().abs()\n",
    "\n",
    "            #print(\"delta\", delta)\n",
    "            #print(\"step\", step)\n",
    "            step_delta = step*delta\n",
    "            print(\"step_delta\", step_delta)\n",
    "\n",
    "            res = xn-step_delta\n",
    "            #print (\"res\", res)\n",
    "            return res, step_delta\n",
    "\n",
    "        logging = False\n",
    "\n",
    "        if logging:\n",
    "            print (\"xre\", xre)\n",
    "            print (\"xim\", xim)\n",
    "            print (\"xn_re\", self.xn_re)\n",
    "            print (\"xn_im\", self.xn_im)\n",
    "            #print (\"f_div_df_re\", f_div_df_re)\n",
    "            #print (\"f_div_df_im\", f_div_df_im)\n",
    "\n",
    "        step_init = np.float128(0.095)\n",
    "\n",
    "        step_re_im = step_init\n",
    "        step_re_re = step_init\n",
    "\n",
    "        step__m = np.float128(0.1)\n",
    "        step_m = np.float128(0.2)\n",
    "        abs_m = np.float128(1.0)\n",
    "\n",
    "        delta_epsilon = np.float128(1e-32)\n",
    "        f_abs_epsilon = np.float128(1e-32)\n",
    "\n",
    "        f_new = f.subs(xre == self.xn_re).subs(xim == self.xn_im).n()\n",
    "        print(\"\\nf_new = \", f_new)\n",
    "\n",
    "        f_abs = f_new.abs()\n",
    "        print(\"\\nf_abs = \", f_abs)\n",
    "        \n",
    "        N = 10\n",
    "\n",
    "        for i in range(nsteps):\n",
    "            n = N\n",
    "            while n > 0:\n",
    "                n = n-1\n",
    "                if logging:\n",
    "                    print(\"\\nre_d_re xn = \", self.xn_re, self.xn_im, \"step = \", step_re_re)\n",
    "\n",
    "                xn_re_new, delta_re_re = NewtonIt(f_div_df_re.subs(xim == self.xn_im), xre, self.xn_re, step_re_re)\n",
    "                f_new = f.subs(xre == xn_re_new).subs(xim == self.xn_im).n()\n",
    "                f_abs_new = f_new.abs()\n",
    "\n",
    "\n",
    "                if logging:\n",
    "                    print(\"f_abs_new\", f_abs_new)\n",
    "\n",
    "                if f_abs_new > abs_m*f_abs:\n",
    "                    step_re_re *= step__m\n",
    "                    continue\n",
    "                else:\n",
    "                    self.xn_re = xn_re_new\n",
    "                    f_abs = f_abs_new\n",
    "                    if step_re_re < 0.9:\n",
    "                        step_re_re /= step_m\n",
    "\n",
    "                    print (\"f_new\", f_new)\n",
    "                    print(\"f_abs_new\", f_abs_new)\n",
    "                    break\n",
    "\n",
    "            n = N\n",
    "            while n > 0:\n",
    "                n = n-1\n",
    "                if logging:\n",
    "                    print(\"\\nre_d_im xn = \", self.xn_re, self.xn_im, \"step = \", step_re_im)\n",
    "\n",
    "                xn_im_new, delta_re_im = NewtonIt(f_div_df_im.subs(xre == self.xn_re), xim, self.xn_im, step_re_im)\n",
    "                f_new = f.subs(xre == self.xn_re).subs(xim == xn_im_new).n()\n",
    "                f_abs_new = f_new.abs()\n",
    "\n",
    "                if logging:\n",
    "                    print(\"f_abs_new\", f_abs_new)\n",
    "\n",
    "                if f_abs_new > abs_m*f_abs:\n",
    "                    step_re_im *= step__m\n",
    "                    continue\n",
    "                else:\n",
    "                    self.xn_im = xn_im_new\n",
    "                    f_abs = f_abs_new\n",
    "                    if step_re_im < 0.9:\n",
    "                        step_re_im /= step_m\n",
    "\n",
    "                    print (\"f_new\", f_new)\n",
    "                    print(\"f_abs_new\", f_abs_new)\n",
    "                    break\n",
    "\n",
    "            if abs(delta_re_re) < delta_epsilon and \\\n",
    "               abs(delta_re_im) < delta_epsilon:\n",
    "                print(\"algorithm finished via delta_epsilon\",\n",
    "                      delta_re_re,\n",
    "                      delta_re_im\n",
    "                     )\n",
    "                break\n",
    "            if f_abs < f_abs_epsilon:\n",
    "                print(\"algorithm finished via f_abs_epsilon\",\n",
    "                      f_abs\n",
    "                     )\n",
    "                break\n",
    "\n",
    "    def find_newton_grad_root(self, nsteps):\n",
    "    \n",
    "        f = self.M_det_d\n",
    "        f_div_df_re = self.M_det_div_diff_kz_d\n",
    "        f_div_df_im = self.M_det_div_diff_sz_d\n",
    "        xre = kz\n",
    "        xim = sz\n",
    "        self.xn_re = self.xn_re\n",
    "        self.xn_im = self.xn_im\n",
    "        \n",
    "        def NewtonIt(xre, xn_re, xim, xn_im, step):\n",
    "            print(\"xn\", xn_re, xn_im)\n",
    "            #print(\"(f/df)\", f_div_df)\n",
    "\n",
    "            #delta = (f/df).subs(x == xn)\n",
    "            delta_re = f_div_df_re.subs(xre == xn_re, xim == xn_im).n().abs()\n",
    "            delta_im = f_div_df_im.subs(xre == xn_re, xim == xn_im).n().abs()\n",
    "\n",
    "            #print(\"delta\", delta)\n",
    "            #print(\"step\", step)\n",
    "            step_delta_re = step*delta_re\n",
    "            step_delta_im = step*delta_im\n",
    "            print(\"step_delta\", step_delta_re, step_delta_im)\n",
    "\n",
    "            res_re = xn_re-step_delta_re\n",
    "            res_im = xn_im-step_delta_im\n",
    "            #print (\"res\", res)\n",
    "            return res_re, res_im, step_delta_re, step_delta_im\n",
    "\n",
    "        logging = False\n",
    "\n",
    "        if logging:\n",
    "            print (\"xre\", xre)\n",
    "            print (\"xim\", xim)\n",
    "            print (\"xn_re\", self.xn_re)\n",
    "            print (\"xn_im\", self.xn_im)\n",
    "            #print (\"f_div_df_re\", f_div_df_re)\n",
    "            #print (\"f_div_df_im\", f_div_df_im)\n",
    "\n",
    "        step_init = np.float128(0.095)\n",
    "\n",
    "        step_re_im = step_init\n",
    "        step_re_re = step_init\n",
    "\n",
    "        step__m = np.float128(0.1)\n",
    "        step_m = np.float128(0.2)\n",
    "        abs_m = np.float128(1.0)\n",
    "\n",
    "        delta_epsilon = np.float128(1e-32)\n",
    "        f_abs_epsilon = np.float128(1e-32)\n",
    "\n",
    "        f_new = f.subs(xre == self.xn_re).subs(xim == self.xn_im).n()\n",
    "        print(\"\\nf_new = \", f_new)\n",
    "\n",
    "        f_abs = f_new.abs()\n",
    "        print(\"\\nf_abs = \", f_abs)\n",
    "        \n",
    "        N = 10\n",
    "\n",
    "        for i in range(nsteps):\n",
    "            n = N\n",
    "            while n > 0:\n",
    "                n = n-1\n",
    "                if logging:\n",
    "                    print(\"\\nre_d_re xn = \", self.xn_re, self.xn_im, \"step = \", step_re_re)\n",
    "\n",
    "                xn_re_new, xn_im_new, delta_re_re, delta_re_im = \\\n",
    "                    NewtonIt(xre, self.xn_re, xim, self.xn_im, step_re_re)\n",
    "                f_new = f.subs(xre == xn_re_new).subs(xim == xn_im_new).n()\n",
    "                f_abs_new = f_new.abs()\n",
    "\n",
    "\n",
    "                if logging:\n",
    "                    print(\"f_abs_new\", f_abs_new)\n",
    "\n",
    "                if f_abs_new > abs_m*f_abs:\n",
    "                    step_re_re *= step__m\n",
    "                    continue\n",
    "                else:\n",
    "                    self.xn_re = xn_re_new\n",
    "                    self.xn_im = xn_im_new\n",
    "                    f_abs = f_abs_new\n",
    "                    if step_re_re < 0.9:\n",
    "                        step_re_re /= step_m\n",
    "\n",
    "                    print (\"f_new\", f_new)\n",
    "                    print(\"f_abs_new\", f_abs_new)\n",
    "                    break\n",
    "\n",
    "\n",
    "            if abs(delta_re_re) < delta_epsilon and \\\n",
    "               abs(delta_re_im) < delta_epsilon:\n",
    "                print(\"algorithm finished via delta_epsilon\",\n",
    "                      delta_re_re,\n",
    "                      delta_re_im\n",
    "                     )\n",
    "                break\n",
    "            if f_abs < f_abs_epsilon:\n",
    "                print(\"algorithm finished via f_abs_epsilon\",\n",
    "                      f_abs\n",
    "                     )\n",
    "                break\n"
   ]
  },
  {
   "cell_type": "code",
   "execution_count": null,
   "metadata": {},
   "outputs": [],
   "source": [
    "k_z_sol_kz, k_z_sol_sz"
   ]
  },
  {
   "cell_type": "code",
   "execution_count": null,
   "metadata": {},
   "outputs": [],
   "source": [
    "use_newton_prec = True"
   ]
  },
  {
   "cell_type": "code",
   "execution_count": null,
   "metadata": {},
   "outputs": [],
   "source": [
    "if use_newton_prec:\n",
    "    my_newton_prec = newton_prec(M_det_kz_sz = M6_det_d,\n",
    "                                 xn_re = k_z_sol_kz, xn_im = k_z_sol_sz)"
   ]
  },
  {
   "cell_type": "raw",
   "metadata": {},
   "source": [
    "import numpy as np\n",
    "from scipy import optimize\n",
    "\n",
    "def fun(x):\n",
    "    _kz = x[0]\n",
    "    _sz = x[1]\n",
    "    _det = my_newton_prec.M_det_d.subs(kz == _kz, sz == _sz).n()\n",
    "    return [_det.real(), _det.imag()]\n",
    "\n",
    "def jac(x):\n",
    "    _kz = x[0]\n",
    "    _sz = x[1]\n",
    "    _jac = my_newton_prec.jac_d.subs(kz == _kz, sz == _sz).n()\n",
    "    return np.array(_jac)\n",
    "\n",
    "def callback(x, f):\n",
    "    print(x,f)\n",
    "\n",
    "x0 = [my_newton_prec.get_root()[0], my_newton_prec.get_root()[1]]\n",
    "sol = optimize.root(fun, x0, jac=jac, tol=1e-9, method='hybr', callback = callback)\n",
    "print(sol)"
   ]
  },
  {
   "cell_type": "raw",
   "metadata": {},
   "source": [
    "M6_det_diff_k_z = M6_det.diff(k_z)\n",
    "M6_det_diff_k_z_d = M6_det_diff_k_z.subs(digit_values)\n",
    "\n",
    "from scipy import optimize\n",
    "\n",
    "def f(z):\n",
    "    re = z.real\n",
    "    im = z.imag\n",
    "    return complex(my_newton_prec.M_det_d.subs(kz == re, sz == im).n())\n",
    "\n",
    "def fp(z):\n",
    "    return complex(M6_det_diff_k_z_d.subs(k_z == z))\n",
    "\n",
    "r = optimize.newton(func=f,\n",
    "        x0=complex(my_newton_prec.get_root()[0], my_newton_prec.get_root()[1]),\n",
    "        fprime=fp,\n",
    "        tol=1e-12,\n",
    "        full_output=True)\n",
    "print(r)"
   ]
  },
  {
   "cell_type": "code",
   "execution_count": null,
   "metadata": {},
   "outputs": [],
   "source": [
    "if use_newton_prec:\n",
    "    my_newton_prec.find_newton_complex_root(nsteps = 100)"
   ]
  },
  {
   "cell_type": "raw",
   "metadata": {},
   "source": [
    "if use_newton_prec:\n",
    "    my_newton_prec.find_newton_root(nsteps = 100)"
   ]
  },
  {
   "cell_type": "raw",
   "metadata": {},
   "source": [
    "if use_newton_prec:\n",
    "    my_newton_prec.find_newton_grad_root(nsteps = 100)"
   ]
  },
  {
   "cell_type": "code",
   "execution_count": null,
   "metadata": {},
   "outputs": [],
   "source": [
    "if use_newton_prec:\n",
    "    k_z_root = my_newton_prec.get_root()\n",
    "    k_z_sol = [kz == k_z_root[0],   sz == k_z_root[1],\n",
    "               k_z == k_z_root[0] + I * k_z_root[1]]\n",
    "else:\n",
    "    k_z_sol = [kz  == k_z_sol_kz, sz == k_z_sol_sz,\n",
    "               k_z == k_z_sol_kz + I * k_z_sol_sz]"
   ]
  },
  {
   "cell_type": "code",
   "execution_count": null,
   "metadata": {},
   "outputs": [],
   "source": [
    "if use_newton_prec:\n",
    "    print(k_z_root)"
   ]
  },
  {
   "cell_type": "code",
   "execution_count": null,
   "metadata": {},
   "outputs": [],
   "source": [
    "k_z_sol"
   ]
  },
  {
   "cell_type": "code",
   "execution_count": null,
   "metadata": {},
   "outputs": [],
   "source": []
  },
  {
   "cell_type": "code",
   "execution_count": null,
   "metadata": {},
   "outputs": [],
   "source": [
    "M6_subs_d = M6_det_d.subs(digit_values).subs(k_z_sol)\n",
    "disp(M6_subs_d.n())"
   ]
  },
  {
   "cell_type": "code",
   "execution_count": null,
   "metadata": {},
   "outputs": [],
   "source": [
    "M6_d = M6.subs(digit_values).subs(k_z_sol).n()"
   ]
  },
  {
   "cell_type": "code",
   "execution_count": null,
   "metadata": {},
   "outputs": [],
   "source": [
    "disp(M6_d)"
   ]
  },
  {
   "cell_type": "code",
   "execution_count": null,
   "metadata": {},
   "outputs": [],
   "source": [
    "M6_ReIm_d = M6_ReIm.subs(digit_values).subs(k_z_sol).n()"
   ]
  },
  {
   "cell_type": "code",
   "execution_count": null,
   "metadata": {},
   "outputs": [],
   "source": [
    "disp(M6_ReIm.variables())"
   ]
  },
  {
   "cell_type": "code",
   "execution_count": null,
   "metadata": {},
   "outputs": [],
   "source": [
    "disp(M6_ReIm_d)"
   ]
  },
  {
   "cell_type": "markdown",
   "metadata": {},
   "source": [
    "Желая улучшить сшивку решения по граничным условиям создаём весовую матрицу назначив строкам отвечающим за граничные условия больший вес"
   ]
  },
  {
   "cell_type": "raw",
   "metadata": {},
   "source": [
    "W = np.float128(1e+6) * identity_matrix(M6_ReIm.nrows())\n",
    "W[8,8] = np.float128(1)\n",
    "W[9,9] = np.float128(1)\n",
    "#W"
   ]
  },
  {
   "cell_type": "markdown",
   "metadata": {},
   "source": [
    "M6_ReIm_d = (W*M6_ReIm).subs(digit_values).subs(k_z_sol).n()"
   ]
  },
  {
   "cell_type": "code",
   "execution_count": null,
   "metadata": {},
   "outputs": [],
   "source": [
    "disp(M6_ReIm_d)"
   ]
  },
  {
   "cell_type": "code",
   "execution_count": null,
   "metadata": {},
   "outputs": [],
   "source": [
    "# M6_subs_d.rank() gives 6\n",
    "# but M6_subs_d.det().n() gives -2.66693594449750e-21\n",
    "# so real rank is 5"
   ]
  },
  {
   "cell_type": "code",
   "execution_count": null,
   "metadata": {},
   "outputs": [],
   "source": [
    "# искомые коэффициенты интенсивности полей\n",
    "X6_ReIm = vector(vars6reim)\n",
    "print(X6_ReIm)"
   ]
  },
  {
   "cell_type": "code",
   "execution_count": null,
   "metadata": {},
   "outputs": [],
   "source": [
    "# умножая матрицу системы уравнений\n",
    "# на вектор искомых коэффициентов интенсивности полей\n",
    "# находим систему 12 уравнений для нахождения\n",
    "# коэффициентов интенсивности полей\n",
    "\n",
    "M6_ReIm_d_X = M6_ReIm_d * X6_ReIm\n",
    "# print(M6_ReIm_d_X)"
   ]
  },
  {
   "cell_type": "markdown",
   "metadata": {},
   "source": [
    "поскольку детерминант матрицы нулевой для нахождения нетривиального решения\n",
    "назначим числовое значение одному из 6-ти неизвестных коэффициентов"
   ]
  },
  {
   "cell_type": "code",
   "execution_count": null,
   "metadata": {},
   "outputs": [],
   "source": [
    "# для решения системы уравнений\n",
    "# на вектор искомых коэффициентов интенсивности полей\n",
    "# устанавливаем один из 12 искомых коэффициентов в 1\n",
    "A1_z_re_d = np.float128(1e6)"
   ]
  },
  {
   "cell_type": "code",
   "execution_count": null,
   "metadata": {},
   "outputs": [],
   "source": [
    "colomn_to_remove = 2\n",
    "columns = [i for i in range(0, len(vars6reim))]\n",
    "columns.remove(colomn_to_remove)\n",
    "columns"
   ]
  },
  {
   "cell_type": "markdown",
   "metadata": {},
   "source": [
    "Вычеркивая из матрицы соответствующую переменной $A_{re}$ колонку получаем матрицу переопределённой системы уравнений"
   ]
  },
  {
   "cell_type": "code",
   "execution_count": null,
   "metadata": {
    "scrolled": true
   },
   "outputs": [],
   "source": [
    "vM11 = M6_ReIm_d.delete_columns([colomn_to_remove])\n",
    "show(vM11)"
   ]
  },
  {
   "cell_type": "markdown",
   "metadata": {},
   "source": [
    "Создаем правую часть переопределённой системы уравнений"
   ]
  },
  {
   "cell_type": "code",
   "execution_count": null,
   "metadata": {},
   "outputs": [],
   "source": [
    "Y12 = - A1_z_re_d * M6_ReIm_d.delete_columns(columns)\n",
    "Y12"
   ]
  },
  {
   "cell_type": "markdown",
   "metadata": {},
   "source": [
    "Решаем переопределённую систему уравнений"
   ]
  },
  {
   "cell_type": "code",
   "execution_count": null,
   "metadata": {},
   "outputs": [],
   "source": [
    "X11_solve_right = vM11.solve_right(Y12)\n",
    "X11_solve_right"
   ]
  },
  {
   "cell_type": "markdown",
   "metadata": {},
   "source": [
    "тестируем найденное решение"
   ]
  },
  {
   "cell_type": "code",
   "execution_count": null,
   "metadata": {},
   "outputs": [],
   "source": [
    "Err_12_solve_right = vM11*X11_solve_right-Y12\n",
    "sum_of_squares_solve_right = Err_12_solve_right.norm()\n",
    "Err_12_solve_right, sum_of_squares_solve_right"
   ]
  },
  {
   "cell_type": "markdown",
   "metadata": {},
   "source": [
    "Решаем переопределённую систему уравнений методом псевдообратной матрицы"
   ]
  },
  {
   "cell_type": "code",
   "execution_count": null,
   "metadata": {},
   "outputs": [],
   "source": [
    "def pseudo_inverse(mat) :\n",
    "    from scipy import linalg\n",
    "    return matrix(linalg.pinv(mat))"
   ]
  },
  {
   "cell_type": "code",
   "execution_count": null,
   "metadata": {},
   "outputs": [],
   "source": [
    "X11_pseudo_inverse = pseudo_inverse(vM11)*Y12\n",
    "X11_pseudo_inverse"
   ]
  },
  {
   "cell_type": "markdown",
   "metadata": {},
   "source": [
    "тестируем найденное решение"
   ]
  },
  {
   "cell_type": "code",
   "execution_count": null,
   "metadata": {},
   "outputs": [],
   "source": [
    "Err_12_pseudo_inverse = vM11*X11_pseudo_inverse-Y12\n",
    "sum_of_squares_pseudo_inverse = Err_12_pseudo_inverse.norm()\n",
    "Err_12_pseudo_inverse, sum_of_squares_pseudo_inverse"
   ]
  },
  {
   "cell_type": "markdown",
   "metadata": {},
   "source": [
    "Выбираем решение с наименьшей ошибкой"
   ]
  },
  {
   "cell_type": "code",
   "execution_count": null,
   "metadata": {},
   "outputs": [],
   "source": [
    "if sum_of_squares_pseudo_inverse < sum_of_squares_solve_right:\n",
    "    X11 = X11_pseudo_inverse\n",
    "else:\n",
    "    X11 = X11_solve_right"
   ]
  },
  {
   "cell_type": "markdown",
   "metadata": {},
   "source": [
    "вставляем в вектор найденного решения изначально назначенный коэффициент"
   ]
  },
  {
   "cell_type": "code",
   "execution_count": null,
   "metadata": {},
   "outputs": [],
   "source": [
    "X11_list = X11.list()\n",
    "X11_list.insert(colomn_to_remove, A1_z_re_d)\n",
    "X12 = vector(X11_list)\n",
    "X12"
   ]
  },
  {
   "cell_type": "markdown",
   "metadata": {},
   "source": [
    "ещё раз тестируем найденное решение"
   ]
  },
  {
   "cell_type": "code",
   "execution_count": null,
   "metadata": {},
   "outputs": [],
   "source": [
    "Err_12 = M6_ReIm_d*X12\n",
    "sum_of_squares = Err_12.norm()\n",
    "Err_12.list(), sum_of_squares"
   ]
  },
  {
   "cell_type": "raw",
   "metadata": {},
   "source": [
    "X12 = vector(sol.x)"
   ]
  },
  {
   "cell_type": "code",
   "execution_count": null,
   "metadata": {},
   "outputs": [],
   "source": []
  },
  {
   "cell_type": "code",
   "execution_count": null,
   "metadata": {},
   "outputs": [],
   "source": [
    "M4_boundaries_ReIm_d = M4_boundaries_ReIm.subs(digit_values).subs(k_z_sol).n()"
   ]
  },
  {
   "cell_type": "code",
   "execution_count": null,
   "metadata": {},
   "outputs": [],
   "source": [
    "M4_boundaries_ReIm_d"
   ]
  },
  {
   "cell_type": "code",
   "execution_count": null,
   "metadata": {},
   "outputs": [],
   "source": [
    "X10_init = X12.list()\n",
    "A1_z_re_d = X10_init.pop(colomn_to_remove)\n",
    "A1_z_im_d = X10_init.pop(colomn_to_remove+1)\n",
    "X10_init"
   ]
  },
  {
   "cell_type": "markdown",
   "metadata": {},
   "source": [
    "Создаем правую часть системы уравнений для граничных условий"
   ]
  },
  {
   "cell_type": "code",
   "execution_count": null,
   "metadata": {},
   "outputs": [],
   "source": [
    "columns = [i for i in range(0, len(vars6reim))]\n",
    "columns.remove(colomn_to_remove)\n",
    "#columns.remove(colomn_to_remove+1)\n",
    "columns"
   ]
  },
  {
   "cell_type": "code",
   "execution_count": null,
   "metadata": {},
   "outputs": [],
   "source": [
    "Y10_re = - A1_z_re_d * M4_boundaries_ReIm_d.delete_columns(columns)\n",
    "Y10_re"
   ]
  },
  {
   "cell_type": "code",
   "execution_count": null,
   "metadata": {},
   "outputs": [],
   "source": [
    "columns = [i for i in range(0, len(vars6reim))]\n",
    "#columns.remove(colomn_to_remove)\n",
    "columns.remove(colomn_to_remove+1)\n",
    "columns"
   ]
  },
  {
   "cell_type": "code",
   "execution_count": null,
   "metadata": {},
   "outputs": [],
   "source": [
    "Y10_im = - A1_z_im_d * M4_boundaries_ReIm_d.delete_columns(columns)\n",
    "Y10_im"
   ]
  },
  {
   "cell_type": "code",
   "execution_count": null,
   "metadata": {},
   "outputs": [],
   "source": [
    "Y10 = Y10_re + Y10_im\n",
    "Y10"
   ]
  },
  {
   "cell_type": "markdown",
   "metadata": {},
   "source": [
    "Вычеркивая из матрицы соответствующую переменной $A1_{z}$ колонку получаем матрицу системы уравнений boundaries"
   ]
  },
  {
   "cell_type": "code",
   "execution_count": null,
   "metadata": {
    "scrolled": true
   },
   "outputs": [],
   "source": [
    "vM10 = M4_boundaries_ReIm_d.delete_columns([colomn_to_remove, colomn_to_remove+1])\n",
    "show(vM10)"
   ]
  },
  {
   "cell_type": "code",
   "execution_count": null,
   "metadata": {},
   "outputs": [],
   "source": [
    "disp(M4_boundaries_ReIm_d)"
   ]
  },
  {
   "cell_type": "code",
   "execution_count": null,
   "metadata": {},
   "outputs": [],
   "source": [
    "X10 = vM10.solve_right(Y10)\n",
    "X10 = pseudo_inverse(vM10)*Y10\n",
    "X10"
   ]
  },
  {
   "cell_type": "code",
   "execution_count": null,
   "metadata": {},
   "outputs": [],
   "source": [
    "vM10*X10-Y10"
   ]
  },
  {
   "cell_type": "code",
   "execution_count": null,
   "metadata": {},
   "outputs": [],
   "source": [
    "X10_list = X10.list()\n",
    "X10_list.insert(colomn_to_remove, A1_z_re_d)\n",
    "X10_list.insert(colomn_to_remove+1, A1_z_im_d)\n",
    "#X12 = vector(X10_list)\n",
    "X12"
   ]
  },
  {
   "cell_type": "code",
   "execution_count": null,
   "metadata": {},
   "outputs": [],
   "source": [
    "M4_boundaries_ReIm_d*X12"
   ]
  },
  {
   "cell_type": "raw",
   "metadata": {},
   "source": [
    "\n",
    "import numpy as np\n",
    "from scipy import optimize\n",
    "\n",
    "def fun(x):\n",
    "    return M4_boundaries_ReIm_d * vector(x)\n",
    "\n",
    "x0 = X12\n",
    "sol = optimize.root(fun, x0, method='lm')\n",
    "print(sol.x)"
   ]
  },
  {
   "cell_type": "code",
   "execution_count": null,
   "metadata": {},
   "outputs": [],
   "source": []
  },
  {
   "cell_type": "markdown",
   "metadata": {},
   "source": [
    "ещё раз тестируем найденное решение"
   ]
  },
  {
   "cell_type": "code",
   "execution_count": null,
   "metadata": {},
   "outputs": [],
   "source": [
    "Err_12 = M6_ReIm_d*X12\n",
    "sum_of_squares = Err_12.norm()\n",
    "Err_12.list(), sum_of_squares"
   ]
  },
  {
   "cell_type": "code",
   "execution_count": null,
   "metadata": {},
   "outputs": [],
   "source": [
    "# получаем значения оставшихся искомых коэффициентов интенсивности полей\n",
    "coeffs_subs = []\n",
    "for i in range(len(X12)):\n",
    "    coeffs_subs += [vars6reim[i] == X12[i]]\n",
    "coeffs_subs"
   ]
  },
  {
   "cell_type": "code",
   "execution_count": null,
   "metadata": {},
   "outputs": [],
   "source": [
    "coeffs_subs += [\n",
    "    A1_y_re == 0,\n",
    "    A1_y_im == 0,\n",
    "    A2_y_re == 0,\n",
    "    A2_y_im == 0,\n",
    "    B1_y_re == 0,\n",
    "    B1_y_im == 0,\n",
    "]\n",
    "coeffs_subs"
   ]
  },
  {
   "cell_type": "code",
   "execution_count": null,
   "metadata": {},
   "outputs": [],
   "source": [
    "K_vacuum_subs_d = K_vacuum_subs.subs(kappa_vacuum_sol).subs(kappa_sol).subs(k_z_sol) \\\n",
    "    .subs(digit_values)\n",
    "\n",
    "K_vacuum_subs_d"
   ]
  },
  {
   "cell_type": "code",
   "execution_count": null,
   "metadata": {},
   "outputs": [],
   "source": [
    "K_vacuum_subs_d.rhs().n()"
   ]
  },
  {
   "cell_type": "code",
   "execution_count": null,
   "metadata": {},
   "outputs": [],
   "source": [
    "K_conductor_subs_d = K_conductor_subs.subs(kappa_vacuum_sol).subs(kappa_sol).subs(k_z_sol) \\\n",
    "   .subs(digit_values)\n",
    "\n",
    "K_conductor_subs_d"
   ]
  },
  {
   "cell_type": "code",
   "execution_count": null,
   "metadata": {},
   "outputs": [],
   "source": [
    "K_conductor_subs_d.rhs().n()"
   ]
  },
  {
   "cell_type": "markdown",
   "metadata": {},
   "source": [
    "знак перед корнем будем всегда выбирать так, чтобы корень имел положительнею мнимую часть (Зоммерфельд, Электродинамика, параграф 20, Б)"
   ]
  },
  {
   "cell_type": "raw",
   "metadata": {},
   "source": [
    "if K_conductor_subs_d.rhs().n().imag() < 0:\n",
    "    K_conductor_subs_d = K_conductor_subs_d.lhs() == - K_conductor_subs_d.rhs()"
   ]
  },
  {
   "cell_type": "code",
   "execution_count": null,
   "metadata": {},
   "outputs": [],
   "source": [
    "K_conductor_subs_d.rhs().n()"
   ]
  },
  {
   "cell_type": "code",
   "execution_count": null,
   "metadata": {},
   "outputs": [],
   "source": [
    "K_vacuum_subs_d.rhs().n()"
   ]
  },
  {
   "cell_type": "raw",
   "metadata": {},
   "source": [
    "if K_vacuum_subs_d.rhs().n().imag() < 0:\n",
    "    K_vacuum_subs_d = K_vacuum_subs_d.lhs() == - K_vacuum_subs_d.rhs()"
   ]
  },
  {
   "cell_type": "code",
   "execution_count": null,
   "metadata": {},
   "outputs": [],
   "source": [
    "Hy_bad_conductor_subs = Hy_bad_conductor.subs(K_conductor_subs_d) \\\n",
    "    .subs(kappa_vacuum_sol).subs(kappa_sol).subs(k_z_sol) \\\n",
    "    .subs(eqEz__0).subs(A1_z_re_im_subs, A2_z_re_im_subs)\n",
    "Hy_vacuum_subs        = Hy_vacuum       .subs(K_vacuum_subs_d) \\\n",
    "    .subs(kappa_vacuum_sol).subs(kappa_sol).subs(k_z_sol) \\\n",
    "    .subs(eqEz__0).subs(A1_z_re_im_subs, A2_z_re_im_subs)"
   ]
  },
  {
   "cell_type": "code",
   "execution_count": null,
   "metadata": {},
   "outputs": [],
   "source": [
    "Hz_bad_conductor_subs = Hz_bad_conductor.subs(K_conductor_subs_d) \\\n",
    "    .subs(kappa_vacuum_sol).subs(kappa_sol).subs(k_z_sol) \\\n",
    "    .subs(eqEz__0).subs(A1_z_re_im_subs, A2_z_re_im_subs)\n",
    "Hz_vacuum_subs        = Hz_vacuum       .subs(K_vacuum_subs_d) \\\n",
    "    .subs(kappa_vacuum_sol).subs(kappa_sol).subs(k_z_sol) \\\n",
    "    .subs(eqEz__0).subs(A1_z_re_im_subs, A2_z_re_im_subs)"
   ]
  },
  {
   "cell_type": "code",
   "execution_count": null,
   "metadata": {},
   "outputs": [],
   "source": [
    "Dx_bad_conductor = Ex_bad_conductor * epsilon_complex\n",
    "Dx_vacuum        = Ex_vacuum"
   ]
  },
  {
   "cell_type": "code",
   "execution_count": null,
   "metadata": {},
   "outputs": [],
   "source": [
    "Ex_bad_conductor_subs = Ex_bad_conductor \\\n",
    "    .subs(K_conductor_subs_d).subs(kappa_vacuum_sol).subs(kappa_sol).subs(k_z_sol) \\\n",
    "    .subs(eqEz__0).subs(A1_z_re_im_subs, A2_z_re_im_subs)\n",
    "Ex_vacuum_subs        = Ex_vacuum       \\\n",
    "    .subs(K_vacuum_subs_d)   .subs(kappa_vacuum_sol).subs(kappa_sol).subs(k_z_sol) \\\n",
    "    .subs(eqEz__0).subs(A1_z_re_im_subs, A2_z_re_im_subs)"
   ]
  },
  {
   "cell_type": "code",
   "execution_count": null,
   "metadata": {},
   "outputs": [],
   "source": [
    "Ey_bad_conductor_subs = Ey_bad_conductor \\\n",
    "    .subs(K_conductor_subs_d).subs(kappa_vacuum_sol).subs(kappa_sol).subs(k_z_sol) \\\n",
    "    .subs(eqEz__0).subs(A1_z_re_im_subs, A2_z_re_im_subs)\n",
    "Ey_vacuum_subs        = Ey_vacuum       \\\n",
    "    .subs(K_vacuum_subs_d)   .subs(kappa_vacuum_sol).subs(kappa_sol).subs(k_z_sol) \\\n",
    "    .subs(eqEz__0).subs(A1_z_re_im_subs, A2_z_re_im_subs)"
   ]
  },
  {
   "cell_type": "code",
   "execution_count": null,
   "metadata": {},
   "outputs": [],
   "source": [
    "Dx_bad_conductor_subs = Ex_bad_conductor_subs * epsilon_complex\n",
    "Dx_vacuum_subs        = Ex_vacuum_subs"
   ]
  },
  {
   "cell_type": "code",
   "execution_count": null,
   "metadata": {},
   "outputs": [],
   "source": [
    "Ex_bad_conductor_d = Ex_bad_conductor_subs.subs(digit_values).subs(coefs_re_im_subs).subs(coeffs_subs)\n",
    "Ex_vacuum_d        = Ex_vacuum_subs       .subs(digit_values).subs(coefs_re_im_subs).subs(coeffs_subs)"
   ]
  },
  {
   "cell_type": "code",
   "execution_count": null,
   "metadata": {},
   "outputs": [],
   "source": [
    "Ey_bad_conductor_d = Ey_bad_conductor_subs.subs(digit_values).subs(coefs_re_im_subs).subs(coeffs_subs)\n",
    "Ey_vacuum_d        = Ey_vacuum_subs       .subs(digit_values).subs(coefs_re_im_subs).subs(coeffs_subs)"
   ]
  },
  {
   "cell_type": "code",
   "execution_count": null,
   "metadata": {},
   "outputs": [],
   "source": [
    "#print             (Ex_bad_conductor_d)\n",
    "#display(Math(latex(Ex_bad_conductor_d)))"
   ]
  },
  {
   "cell_type": "code",
   "execution_count": null,
   "metadata": {},
   "outputs": [],
   "source": [
    "Dx_bad_conductor_d = Dx_bad_conductor_subs.subs(digit_values).subs(coefs_re_im_subs).subs(coeffs_subs)\n",
    "Dx_vacuum_d        = Dx_vacuum_subs       .subs(digit_values).subs(coefs_re_im_subs).subs(coeffs_subs)"
   ]
  },
  {
   "cell_type": "code",
   "execution_count": null,
   "metadata": {
    "scrolled": true
   },
   "outputs": [],
   "source": [
    "#print             (Ex_vacuum_d)\n",
    "#display(Math(latex(Ex_vacuum_d)))"
   ]
  },
  {
   "cell_type": "code",
   "execution_count": null,
   "metadata": {},
   "outputs": [],
   "source": []
  },
  {
   "cell_type": "code",
   "execution_count": null,
   "metadata": {},
   "outputs": [],
   "source": [
    "Hy_bad_conductor_d = Hy_bad_conductor_subs.subs(digit_values).subs(coefs_re_im_subs).subs(coeffs_subs)\n",
    "Hy_vacuum_d        = Hy_vacuum_subs.subs(digit_values).subs(coefs_re_im_subs).subs(coeffs_subs)"
   ]
  },
  {
   "cell_type": "code",
   "execution_count": null,
   "metadata": {},
   "outputs": [],
   "source": [
    "Hz_bad_conductor_d = Hz_bad_conductor_subs.subs(digit_values).subs(coefs_re_im_subs).subs(coeffs_subs).subs(k_y == 0)\n",
    "Hz_vacuum_d        = Hz_vacuum_subs.subs(digit_values).subs(coefs_re_im_subs).subs(coeffs_subs).subs(k_y == 0)"
   ]
  },
  {
   "cell_type": "code",
   "execution_count": null,
   "metadata": {},
   "outputs": [],
   "source": [
    "#print             (Hy_bad_conductor_d)\n",
    "#display(Math(latex(Hy_bad_conductor_d)))"
   ]
  },
  {
   "cell_type": "code",
   "execution_count": null,
   "metadata": {
    "scrolled": true
   },
   "outputs": [],
   "source": [
    "#print             (Hy_vacuum_d)\n",
    "#display(Math(latex(Hy_vacuum_d)))"
   ]
  },
  {
   "cell_type": "code",
   "execution_count": null,
   "metadata": {},
   "outputs": [],
   "source": []
  },
  {
   "cell_type": "raw",
   "metadata": {},
   "source": [
    "E_inner_vacuum_sol_z(x).subs(K_vacuum_subs_d)"
   ]
  },
  {
   "cell_type": "code",
   "execution_count": null,
   "metadata": {},
   "outputs": [],
   "source": [
    "Ez_vacuum        = E_inner_vacuum_sol_z(x).subs(K_vacuum_subs_d).subs(coefs_re_im_subs).subs(coeffs_subs)\n",
    "Ez_bad_conductor = E_bad_conductor_sol_z(x).subs(K_conductor_subs_d).subs(eqEz__0).subs(coefs_re_im_subs).subs(coeffs_subs)"
   ]
  },
  {
   "cell_type": "code",
   "execution_count": null,
   "metadata": {},
   "outputs": [],
   "source": [
    "#print             (Ez_vacuum)\n",
    "#display(Math(latex(Ez_vacuum)))"
   ]
  },
  {
   "cell_type": "code",
   "execution_count": null,
   "metadata": {},
   "outputs": [],
   "source": [
    "Ez_bad_conductor_d = Ez_bad_conductor.subs(digit_values).subs(coefs_re_im_subs).subs(coeffs_subs)\n",
    "Ez_vacuum_d        = Ez_vacuum       .subs(digit_values).subs(coefs_re_im_subs).subs(coeffs_subs)"
   ]
  },
  {
   "cell_type": "raw",
   "metadata": {},
   "source": [
    "Ey_bad_conductor_d = Ey_bad_conductor.subs(digit_values).subs(coefs_re_im_subs).subs(coeffs_subs)\n",
    "Ey_vacuum_d        = Ey_vacuum       .subs(digit_values).subs(coefs_re_im_subs).subs(coeffs_subs)"
   ]
  },
  {
   "cell_type": "code",
   "execution_count": null,
   "metadata": {},
   "outputs": [],
   "source": [
    "#print             (Ez_vacuum_d)\n",
    "#display(Math(latex(Ez_vacuum_d)))"
   ]
  },
  {
   "cell_type": "code",
   "execution_count": null,
   "metadata": {},
   "outputs": [],
   "source": [
    "#print             (Ez_bad_conductor_d)\n",
    "#display(Math(latex(Ez_bad_conductor_d)))"
   ]
  },
  {
   "cell_type": "code",
   "execution_count": null,
   "metadata": {},
   "outputs": [],
   "source": [
    "Ez_vacuum_d.subs(x == -A).n(), Ez_vacuum_d.subs(x == -A/2).n(), Ez_vacuum_d.subs(x == 0)"
   ]
  },
  {
   "cell_type": "code",
   "execution_count": null,
   "metadata": {},
   "outputs": [],
   "source": []
  },
  {
   "cell_type": "code",
   "execution_count": null,
   "metadata": {},
   "outputs": [],
   "source": [
    "divE_vacuum = I*k_z * Ez_vacuum_d (x=x) + Ex_vacuum_d (x=x).diff(x)"
   ]
  },
  {
   "cell_type": "code",
   "execution_count": null,
   "metadata": {
    "scrolled": false
   },
   "outputs": [],
   "source": [
    "divE_vacuum_d = divE_vacuum.subs(k_z_sol).subs(digit_values).subs(coeffs_subs)"
   ]
  },
  {
   "cell_type": "code",
   "execution_count": null,
   "metadata": {},
   "outputs": [],
   "source": []
  },
  {
   "cell_type": "code",
   "execution_count": null,
   "metadata": {},
   "outputs": [],
   "source": [
    "divE_bad_conductor = I*k_z * Ez_bad_conductor_d (x=x) + Ex_bad_conductor_d (x=x).diff(x)\n",
    "divE_bad_conductor.variables()"
   ]
  },
  {
   "cell_type": "code",
   "execution_count": null,
   "metadata": {
    "scrolled": false
   },
   "outputs": [],
   "source": [
    "divE_bad_conductor_d = divE_bad_conductor.subs(k_z_sol).subs(digit_values).subs(coeffs_subs)\n",
    "divE_bad_conductor_d.variables()"
   ]
  },
  {
   "cell_type": "code",
   "execution_count": null,
   "metadata": {},
   "outputs": [],
   "source": [
    "grad_div_E_z_d = grad_div_E_z.subs(kappa_vacuum_sol).subs(kappa_sol).subs(k_z_sol).subs(digit_values).subs(coefs_re_im_subs).subs(coeffs_subs)\n",
    "grad_div_E_z_d.variables()"
   ]
  },
  {
   "cell_type": "code",
   "execution_count": null,
   "metadata": {},
   "outputs": [],
   "source": [
    "grad_div_E_x_d = grad_div_E_x.subs(kappa_vacuum_sol).subs(kappa_sol).subs(k_z_sol).subs(digit_values).subs(coefs_re_im_subs).subs(coeffs_subs)\n",
    "grad_div_E_x_d.variables()"
   ]
  },
  {
   "cell_type": "code",
   "execution_count": null,
   "metadata": {},
   "outputs": [],
   "source": []
  },
  {
   "cell_type": "code",
   "execution_count": null,
   "metadata": {},
   "outputs": [],
   "source": [
    "pl = plot(divE_bad_conductor_d.real(), (x, 0, h_conductor*100))\n",
    "pl.show(title=\"График real дивергенции электрического поля\")"
   ]
  },
  {
   "cell_type": "code",
   "execution_count": null,
   "metadata": {},
   "outputs": [],
   "source": [
    "pl = plot(divE_bad_conductor_d.imag(), (x, 0, h_conductor*100))\n",
    "pl.show(title=\"График imag дивергенции электрического поля\")"
   ]
  },
  {
   "cell_type": "code",
   "execution_count": null,
   "metadata": {},
   "outputs": [],
   "source": []
  },
  {
   "cell_type": "code",
   "execution_count": null,
   "metadata": {},
   "outputs": [],
   "source": [
    "pl = plot(grad_div_E_z_d.real(), (x, 0, h_conductor*100))\n",
    "pl.show(title=\"График real z компоненты градиента дивергенции электрического поля\")"
   ]
  },
  {
   "cell_type": "code",
   "execution_count": null,
   "metadata": {
    "scrolled": true
   },
   "outputs": [],
   "source": [
    "pl = plot(grad_div_E_z_d.imag(), (x, 0, h_conductor*100))\n",
    "pl.show(title=\"График imag z компоненты градиента дивергенции электрического поля\")"
   ]
  },
  {
   "cell_type": "code",
   "execution_count": null,
   "metadata": {},
   "outputs": [],
   "source": [
    "pl = plot(grad_div_E_x_d.real(), (x, 0, h_conductor*100))\n",
    "pl.show(title=\"График real x компоненты градиента дивергенции электрического поля\")"
   ]
  },
  {
   "cell_type": "code",
   "execution_count": null,
   "metadata": {
    "scrolled": true
   },
   "outputs": [],
   "source": [
    "pl = plot(grad_div_E_x_d.imag(), (x, 0, h_conductor*100))\n",
    "pl.show(title=\"График imag x компоненты градиента дивергенции электрического поля\")"
   ]
  },
  {
   "cell_type": "markdown",
   "metadata": {},
   "source": [
    "# test found solution with boundary conditions"
   ]
  },
  {
   "cell_type": "code",
   "execution_count": null,
   "metadata": {},
   "outputs": [],
   "source": []
  },
  {
   "cell_type": "code",
   "execution_count": null,
   "metadata": {},
   "outputs": [],
   "source": [
    "# граничные условия на границе идеального проводника и вакуума внутри резонатора\n",
    "# тангенциальная компонента электрического поля\n",
    "eqEz__a_d  = Ez_vacuum_d (x=-A) == 0\n",
    "#eqEy_0_d  = even_E_inner_vacuum_y_d (0) == 0\n",
    "\n",
    "print (\"eqEz__a_d.real = \")\n",
    "display(Math(latex(eqEz__a_d.lhs().real().n())))\n",
    "print (\"eqEz_0_d.imag = \")\n",
    "display(Math(latex(eqEz__a_d.lhs().imag().n())))"
   ]
  },
  {
   "cell_type": "code",
   "execution_count": null,
   "metadata": {},
   "outputs": [],
   "source": [
    "# граничные условия на границе вакуума внутри резонатора и проводящего металла с потерями\n",
    "# тангенциальная компонента электрического поля\n",
    "eqEz__0_d  = Ez_vacuum_d (x=0) == Ez_bad_conductor_d (x=0)\n",
    "\n",
    "print (\"eqEz__0_d = \")\n",
    "display(Math(latex(eqEz__0_d)))"
   ]
  },
  {
   "cell_type": "code",
   "execution_count": null,
   "metadata": {},
   "outputs": [],
   "source": [
    "# граничные условия на границе вакуума внутри резонатора и проводящего металла с потерями\n",
    "# тангенциальная компонента электрического поля\n",
    "eqEy_a_d  = Ey_vacuum_d (x=0) == Ey_bad_conductor_d (x=0)\n",
    "\n",
    "print (\"eqEy_a_d = \")\n",
    "display(Math(latex(eqEy_a_d)))"
   ]
  },
  {
   "cell_type": "code",
   "execution_count": null,
   "metadata": {},
   "outputs": [],
   "source": [
    "# нормальная компонента электрического смещения\n",
    "eqDx__0_d  = Ex_vacuum_d (x=0) == (Ex_bad_conductor_d (x=0) * epsilon_complex).subs(digit_values)\n",
    "\n",
    "print (\"eqDx__0_d =\")\n",
    "display(Math(latex(eqDx__0_d.lhs().n())))\n",
    "display(Math(latex(eqDx__0_d.rhs().n())))"
   ]
  },
  {
   "cell_type": "code",
   "execution_count": null,
   "metadata": {},
   "outputs": [],
   "source": [
    "# тангенциальная компонента напряженности магнитного поля\n",
    "eqHy_a_d  = Hy_bad_conductor_d (x=0)  == Hy_vacuum_d (x=0)\n",
    "\n",
    "print (\"eqHy_a_d =\")\n",
    "display(Math(latex(eqHy_a_d.lhs().n())))\n",
    "display(Math(latex(eqHy_a_d.rhs().n())))"
   ]
  },
  {
   "cell_type": "code",
   "execution_count": null,
   "metadata": {},
   "outputs": [],
   "source": [
    "# тангенциальная компонента напряженности магнитного поля\n",
    "eqHz_a_d  = Hz_bad_conductor_d (x=0)  == Hz_vacuum_d (x=0)\n",
    "\n",
    "print (\"eqHy_a_d =\")\n",
    "display(Math(latex(eqHz_a_d.lhs())))\n",
    "display(Math(latex(eqHz_a_d.rhs())))"
   ]
  },
  {
   "cell_type": "raw",
   "metadata": {},
   "source": [
    "# нормальная компонента индукции магнитного поля\n",
    "eqBx_a  = mu * Hx_bad_conductor_d (a)  == Hx_inner_vacuum_d (a)\n",
    "\n",
    "print (\"eqBx_a =\")\n",
    "display(Math(latex(eqBx_a)))"
   ]
  },
  {
   "cell_type": "code",
   "execution_count": null,
   "metadata": {},
   "outputs": [],
   "source": []
  },
  {
   "cell_type": "code",
   "execution_count": null,
   "metadata": {},
   "outputs": [],
   "source": []
  },
  {
   "cell_type": "code",
   "execution_count": null,
   "metadata": {},
   "outputs": [],
   "source": [
    "eq_Hy_d = Hy_bad_conductor_d.subs(x == 0) == Hy_vacuum_d.subs(x == 0)\n",
    "\n",
    "eq_Hy_d.lhs().n(), eq_Hy_d.rhs().n()"
   ]
  },
  {
   "cell_type": "code",
   "execution_count": null,
   "metadata": {},
   "outputs": [],
   "source": []
  },
  {
   "cell_type": "code",
   "execution_count": null,
   "metadata": {},
   "outputs": [],
   "source": [
    "Ez_vacuum_d.subs(x == 0) == Ez_bad_conductor_d.subs(x == 0)"
   ]
  },
  {
   "cell_type": "code",
   "execution_count": null,
   "metadata": {},
   "outputs": [],
   "source": [
    "eq_Ex_d = Ex_vacuum_d.subs(x == 0) == epsilon_complex.subs(digit_values) * Ex_bad_conductor_d.subs(x == 0)\n",
    "eq_Ex_d.lhs().n(), eq_Ex_d.rhs().n()"
   ]
  },
  {
   "cell_type": "code",
   "execution_count": null,
   "metadata": {},
   "outputs": [],
   "source": [
    "eq_Ex_d = Ex_vacuum_d.subs(x == 0) == epsilon_complex.subs(digit_values) * Ex_bad_conductor_d.subs(x == 0)\n",
    "eq_Ex_d.lhs().n(), eq_Ex_d.rhs().n()"
   ]
  },
  {
   "cell_type": "code",
   "execution_count": null,
   "metadata": {},
   "outputs": [],
   "source": [
    "pl =  plot(Ez_vacuum_d.real(), (x, -A, 0))\n",
    "pl += plot(Ez_bad_conductor_d.real(), (x, 0, h_conductor/10))\n",
    "pl.show(title=\"График Re тангенциальной z компоненты электрического поля\")"
   ]
  },
  {
   "cell_type": "code",
   "execution_count": null,
   "metadata": {},
   "outputs": [],
   "source": [
    "pl =  plot(Ez_vacuum_d.imag(), (x, -A, 0))\n",
    "pl += plot(Ez_bad_conductor_d.imag(), (x, 0, h_conductor/10))\n",
    "pl.show(title=\"График Im тангенциальной z компоненты электрического поля\")"
   ]
  },
  {
   "cell_type": "code",
   "execution_count": null,
   "metadata": {},
   "outputs": [],
   "source": [
    "pl =  plot(Ez_vacuum_d.abs(), (x, -A, 0))\n",
    "pl += plot(Ez_bad_conductor_d.abs(), (x, 0, h_conductor))\n",
    "pl.show(title=\"График Abs тангенциальной z компоненты электрического поля\")"
   ]
  },
  {
   "cell_type": "code",
   "execution_count": null,
   "metadata": {},
   "outputs": [],
   "source": [
    "pl =  plot(arg(Ez_vacuum_d)/pi, (x, -A, 0))\n",
    "pl += plot(arg(Ez_bad_conductor_d)/pi, (x, 0, h_conductor))\n",
    "pl.show(title=\"График Arg тангенциальной z компоненты электрического поля\")"
   ]
  },
  {
   "cell_type": "code",
   "execution_count": null,
   "metadata": {},
   "outputs": [],
   "source": []
  },
  {
   "cell_type": "code",
   "execution_count": null,
   "metadata": {},
   "outputs": [],
   "source": [
    "def plot_bad_conductor(expression, re, color_re=\"blue\", color_im=\"blue\"):\n",
    "    v_re = []\n",
    "    v_im = []\n",
    "\n",
    "    mn = 0\n",
    "    mx = h_conductor\n",
    "    st = h_conductor / 100\n",
    "\n",
    "    import numpy as np\n",
    "    for vx in np.arange(mn, mx+st, st):\n",
    "        _Dx = (expression.subs(digit_values).subs(x == vx)).n()\n",
    "        #print(\"x =\", vx, \"_Dx =\", _Dx)\n",
    "        v_re += [(vx, _Dx.real())]\n",
    "        v_im += [(vx, _Dx.imag())]\n",
    "    if re:\n",
    "        return list_plot(v_re, color = color_re)\n",
    "    else:\n",
    "        return list_plot(v_im, color = color_im)"
   ]
  },
  {
   "cell_type": "code",
   "execution_count": null,
   "metadata": {},
   "outputs": [],
   "source": [
    "pl  = plot(Ex_vacuum_d.real(), (x, -A, 0))\n",
    "#pl += plot(((Ex_bad_conductor_d * epsilon_complex).subs(digit_values)).real(), (x, 0, h_conductor/10))\n",
    "pl += plot_bad_conductor((Ex_bad_conductor_d * epsilon_complex), re=True)\n",
    "pl.show(title=\"График Re нормальной x компоненты электрического смещения\")"
   ]
  },
  {
   "cell_type": "code",
   "execution_count": null,
   "metadata": {},
   "outputs": [],
   "source": [
    "pl =  plot(Ex_vacuum_d.imag(), (x, -A, 0))\n",
    "#pl += plot((Ex_bad_conductor_d * epsilon_complex).subs(digit_values).imag(), (x, 0, h_conductor/10))\n",
    "pl += plot_bad_conductor((Ex_bad_conductor_d * epsilon_complex), re=False)\n",
    "pl.show(title=\"График Im нормальной x компоненты электрического смещения\")"
   ]
  },
  {
   "cell_type": "code",
   "execution_count": null,
   "metadata": {},
   "outputs": [],
   "source": [
    "pl =  plot(Ex_vacuum_d.abs(), (x, -A, 0))\n",
    "pl += plot((Ex_bad_conductor_d * epsilon_complex).subs(digit_values).abs(), (x, 0, h_conductor))\n",
    "pl.show(title=\"График Abs нормальной x компоненты электрического смещения\")"
   ]
  },
  {
   "cell_type": "code",
   "execution_count": null,
   "metadata": {},
   "outputs": [],
   "source": [
    "pl =  plot(arg(Ex_vacuum_d)/pi, (x, -A, 0))\n",
    "pl += plot(arg((Ex_bad_conductor_d * epsilon_complex).subs(digit_values))/pi, (x, 0, h_conductor))\n",
    "pl.show(title=\"График Arg нормальной x компоненты электрического смещения\")"
   ]
  },
  {
   "cell_type": "code",
   "execution_count": null,
   "metadata": {},
   "outputs": [],
   "source": []
  },
  {
   "cell_type": "code",
   "execution_count": null,
   "metadata": {},
   "outputs": [],
   "source": [
    "pl =  plot(Hy_vacuum_d.real(), (x, -A, 0))\n",
    "# pl += plot(Hy_bad_conductor_d.real(), (x, 0, h_conductor))\n",
    "pl += plot_bad_conductor(Hy_bad_conductor_d, re=True)\n",
    "pl.show(title=\"График Re тангенциальной компоненты напряженности магнитного поля H\")"
   ]
  },
  {
   "cell_type": "code",
   "execution_count": null,
   "metadata": {},
   "outputs": [],
   "source": [
    "pl =  plot(Hy_vacuum_d.imag(), (x, -A, 0))\n",
    "#pl += plot(Hy_bad_conductor_d.imag(), (x, 0, h_conductor))\n",
    "pl += plot_bad_conductor(Hy_bad_conductor_d, re=False)\n",
    "pl.show(title=\"График Im тангенциальной компоненты напряженности магнитного поля H\")"
   ]
  },
  {
   "cell_type": "code",
   "execution_count": null,
   "metadata": {},
   "outputs": [],
   "source": [
    "pl =  plot(Hy_vacuum_d.abs(), (x, -A, 0))\n",
    "pl += plot(Hy_bad_conductor_d.abs(), (x, 0, h_conductor))\n",
    "pl.show(title=\"График Abs тангенциальной компоненты напряженности магнитного поля H\")"
   ]
  },
  {
   "cell_type": "code",
   "execution_count": null,
   "metadata": {},
   "outputs": [],
   "source": [
    "pl =  plot(arg(Hy_vacuum_d)/pi, (x, -A, 0))\n",
    "pl += plot(arg(Hy_bad_conductor_d)/pi, (x, 0, h_conductor))\n",
    "pl.show(title=\"График Arg тангенциальной компоненты напряженности магнитного поля H\")"
   ]
  },
  {
   "cell_type": "code",
   "execution_count": null,
   "metadata": {},
   "outputs": [],
   "source": [
    "pl =  plot(arg(Hy_vacuum_d)/pi, (x, -A, 0))\n",
    "pl += plot(arg(Hy_bad_conductor_d)/pi, (x, 0, h_conductor))\n",
    "pl +=  plot(arg(Ez_vacuum_d)/pi, (x, -A, 0), color=\"red\")\n",
    "pl += plot(arg(Ez_bad_conductor_d)/pi, (x, 0, h_conductor), color=\"red\")\n",
    "#pl.show(title=\"График Arg тангенциальной компоненты  поля\")\n",
    "pl.show(title=\"График Arg тангенциальной компоненты напряженности электрического магнитного поля H\")"
   ]
  },
  {
   "cell_type": "markdown",
   "metadata": {},
   "source": [
    "Решение получено."
   ]
  },
  {
   "cell_type": "markdown",
   "metadata": {},
   "source": [
    "# test found solution with Maxwell equations"
   ]
  },
  {
   "cell_type": "markdown",
   "metadata": {},
   "source": [
    "$$rot\\,\\vec{E} = \\mu\\,\\frac{i\\,\\omega}{c}\\,\\vec{H}$$\n",
    "\n",
    "$$rot\\,\\vec{H} = \\frac{1}{c}\\frac{\\partial \\vec D}{\\partial t} + \\frac{4\\pi}{c} \\vec j = - \\frac{i\\,\\omega}{c} \\epsilon \\vec{E} + \\frac{4\\pi}{c}\\sigma \\vec E$$\n",
    "\n",
    "$$rot\\,rot\\,\\vec{E} = \\mu\\,\\frac{i\\,\\omega}{c}rot\\,\\vec{H}$$\n",
    "\n",
    "$$rot\\,rot\\,\\vec{E} = \\mu\\,\\frac{i\\,\\omega}{c}\\left(- \\frac{i\\,\\omega}{c} \\epsilon \\vec{E} + \\frac{4\\pi}{c}\\sigma \\vec E\\right)$$\n",
    "\n",
    "$$rot\\,rot\\,\\vec{E} = \\epsilon \\mu\\,\\frac{\\omega^2}{c^2} \\vec{E} + i\\,\\omega\\,\\sigma\\,\\mu\\,\\frac{4\\pi}{c^2} \\vec E$$\n",
    "\n",
    "$$rot\\,rot\\,\\vec{E} = grad\\,div\\,\\vec{E} - Laplasian\\,\\vec{E}$$\n",
    "\n",
    "$$Laplasian\\,\\vec{E} + \\epsilon \\mu \\frac{\\omega^2}{c^2}\\,\\vec{E} + i\\,\\omega\\,\\sigma\\,\\mu\\,\\frac{4\\pi}{c^2} \\vec E - grad\\,div\\,\\vec{E} = 0$$"
   ]
  },
  {
   "cell_type": "code",
   "execution_count": null,
   "metadata": {},
   "outputs": [],
   "source": [
    "# уравнение Максвелла для тока смещения\n",
    "# rot_H   = - I * epsilon * omega / c * E\n",
    "# rot_H_x = diff(H_z, y) - diff(H_y, z)\n",
    "# rot_H_y = diff(H_x, z) - diff(H_z, x)\n",
    "# rot_H_z = diff(H_y, x) - diff(H_x, y)"
   ]
  },
  {
   "cell_type": "code",
   "execution_count": null,
   "metadata": {},
   "outputs": [],
   "source": [
    "rot_H_vacuum_x_d = - diff(Hy_vacuum_d(x=x)*e^(I*k_z*z), z).subs(k_z == kz + I * sz).subs(k_z_sol)\n",
    "rot_H_vacuum_y_d =   0\n",
    "rot_H_vacuum_z_d =   diff(Hy_vacuum_d(x=x)*e^(I*k_z*z), x).subs(k_z == kz + I * sz).subs(k_z_sol)"
   ]
  },
  {
   "cell_type": "code",
   "execution_count": null,
   "metadata": {},
   "outputs": [],
   "source": [
    "eq_rot_H_vacuum_x_d = rot_H_vacuum_x_d == \\\n",
    "(-I*omega/c*Ex_vacuum_d(x=x)*e^(I*k_z*z)).subs(k_z == kz + I * sz).subs(k_z_sol).subs(digit_values)"
   ]
  },
  {
   "cell_type": "code",
   "execution_count": null,
   "metadata": {},
   "outputs": [],
   "source": [
    "eq_rot_H_vacuum_z_d = rot_H_vacuum_z_d == \\\n",
    "(-I*omega/c*Ez_vacuum_d(x=x)*e^(I*k_z*z)).subs(k_z == kz + I * sz).subs(k_z_sol).subs(digit_values)"
   ]
  },
  {
   "cell_type": "code",
   "execution_count": null,
   "metadata": {},
   "outputs": [],
   "source": [
    "(eq_rot_H_vacuum_x_d.rhs() / eq_rot_H_vacuum_x_d.lhs())"
   ]
  },
  {
   "cell_type": "code",
   "execution_count": null,
   "metadata": {},
   "outputs": [],
   "source": [
    "(eq_rot_H_vacuum_x_d.rhs() / eq_rot_H_vacuum_x_d.lhs())"
   ]
  },
  {
   "cell_type": "code",
   "execution_count": null,
   "metadata": {},
   "outputs": [],
   "source": [
    "# too long time\n",
    "# plot((eq_rot_H_vacuum_z_d.rhs() / eq_rot_H_vacuum_z_d.lhs()).real(), (x, -A, 0))"
   ]
  },
  {
   "cell_type": "code",
   "execution_count": null,
   "metadata": {},
   "outputs": [],
   "source": [
    "eq_rot_H_vacuum_z_d.rhs().subs(z == 0, x == 0).n() - \\\n",
    "eq_rot_H_vacuum_z_d.lhs().subs(z == 0, x == 0).n()"
   ]
  },
  {
   "cell_type": "code",
   "execution_count": null,
   "metadata": {},
   "outputs": [],
   "source": [
    "eq_rot_H_vacuum_z_d.rhs().subs(z == 1, x == -A/2).n() - \\\n",
    "eq_rot_H_vacuum_z_d.lhs().subs(z == 1, x == -A/2).n()"
   ]
  },
  {
   "cell_type": "code",
   "execution_count": null,
   "metadata": {},
   "outputs": [],
   "source": [
    "eq_rot_H_vacuum_z_d.rhs().subs(z == 0, x == -A).n() - \\\n",
    "eq_rot_H_vacuum_z_d.lhs().subs(z == 0, x == -A).n()"
   ]
  },
  {
   "cell_type": "code",
   "execution_count": null,
   "metadata": {},
   "outputs": [],
   "source": [
    "# plot((eq_rot_H_vacuum_z_d.rhs() / eq_rot_H_vacuum_z_d.lhs()).imag(), (x, -A, 0))"
   ]
  },
  {
   "cell_type": "code",
   "execution_count": null,
   "metadata": {},
   "outputs": [],
   "source": []
  },
  {
   "cell_type": "markdown",
   "metadata": {},
   "source": [
    "$$rot\\,\\vec{H} = \\frac{1}{c}\\frac{\\partial \\vec D}{\\partial t} + \\frac{4\\pi}{c} \\vec j = - \\frac{i\\,\\omega}{c} \\epsilon \\vec{E} + \\frac{4\\pi}{c}\\sigma \\vec E$$"
   ]
  },
  {
   "cell_type": "code",
   "execution_count": null,
   "metadata": {},
   "outputs": [],
   "source": [
    "# уравнение Максвелла для тока смещения\n",
    "# rot_H   = - I * epsilon * omega / c * E + 4 * pi / c * sigma * E\n",
    "# rot_H_x = diff(H_z, y) - diff(H_y, z)\n",
    "# rot_H_y = diff(H_x, z) - diff(H_z, x)\n",
    "# rot_H_z = diff(H_y, x) - diff(H_x, y)"
   ]
  },
  {
   "cell_type": "code",
   "execution_count": null,
   "metadata": {},
   "outputs": [],
   "source": [
    "rot_H_conductor_x_d = - diff(Hy_bad_conductor_d(x=x)*e^(I*k_z*z), z).subs(k_z == kz + I * sz).subs(k_z_sol)\n",
    "rot_H_conductor_y_d =   0\n",
    "rot_H_conductor_z_d =   diff(Hy_bad_conductor_d(x=x)*e^(I*k_z*z), x).subs(k_z == kz + I * sz).subs(k_z_sol)"
   ]
  },
  {
   "cell_type": "code",
   "execution_count": null,
   "metadata": {},
   "outputs": [],
   "source": [
    "eq_rot_H_conductor_x_d = rot_H_conductor_x_d == \\\n",
    "((-I*epsilon_complex*omega/c) * Ex_bad_conductor_d(x=x)*e^(I*k_z*z)).subs(k_z == kz + I * sz).subs(k_z_sol).subs(digit_values)"
   ]
  },
  {
   "cell_type": "code",
   "execution_count": null,
   "metadata": {},
   "outputs": [],
   "source": [
    "eq_rot_H_conductor_z_d = rot_H_conductor_z_d == \\\n",
    "((-I*epsilon_complex*omega/c)*Ez_bad_conductor_d(x=x)*e^(I*k_z*z)).subs(k_z == kz + I * sz).subs(k_z_sol).subs(digit_values)"
   ]
  },
  {
   "cell_type": "raw",
   "metadata": {},
   "source": [
    "(eq_rot_H_conductor_x.lhs() / eq_rot_H_conductor_x.rhs()).subs(kappa_sol).subs(digit_values).n()"
   ]
  },
  {
   "cell_type": "code",
   "execution_count": null,
   "metadata": {},
   "outputs": [],
   "source": []
  },
  {
   "cell_type": "code",
   "execution_count": null,
   "metadata": {},
   "outputs": [],
   "source": [
    "(eq_rot_H_conductor_x_d.lhs() / eq_rot_H_conductor_x_d.rhs()).n()"
   ]
  },
  {
   "cell_type": "code",
   "execution_count": null,
   "metadata": {},
   "outputs": [],
   "source": [
    "(eq_rot_H_conductor_z_d.lhs() / eq_rot_H_conductor_z_d.rhs()).n()"
   ]
  },
  {
   "cell_type": "code",
   "execution_count": null,
   "metadata": {},
   "outputs": [],
   "source": []
  },
  {
   "cell_type": "code",
   "execution_count": null,
   "metadata": {},
   "outputs": [],
   "source": []
  },
  {
   "cell_type": "markdown",
   "metadata": {},
   "source": [
    "$$rot\\,\\vec{E} = \\mu\\,\\frac{i\\,\\omega}{c}\\,\\vec{H}$$"
   ]
  },
  {
   "cell_type": "code",
   "execution_count": null,
   "metadata": {},
   "outputs": [],
   "source": [
    "# уравнение Максвелла для\n",
    "# rot_E   = I * mu * omega / c * H\n",
    "# rot_E_x = diff(E_z, y) - diff(E_y, z)\n",
    "# rot_E_y = diff(E_x, z) - diff(E_z, x)\n",
    "# rot_E_z = diff(E_y, x) - diff(E_x, y)"
   ]
  },
  {
   "cell_type": "code",
   "execution_count": null,
   "metadata": {},
   "outputs": [],
   "source": [
    "rot_E_vacuum_x_d = diff(Ez_vacuum_d(x=x)*e^(I*k_z*z), y)\n",
    "rot_E_vacuum_y_d = diff(Ex_vacuum_d(x=x)*e^(I*k_z*z), z) - diff(Ez_vacuum_d(x=x)*e^(I*k_z*z), x)\n",
    "rot_E_vacuum_z_d = - diff(Ex_vacuum_d(x=x)*e^(I*k_z*z), y)"
   ]
  },
  {
   "cell_type": "code",
   "execution_count": null,
   "metadata": {},
   "outputs": [],
   "source": [
    "eq_rot_E_vacuum_x_d = rot_E_vacuum_x_d == \\\n",
    "(I * omega / c * 0)"
   ]
  },
  {
   "cell_type": "code",
   "execution_count": null,
   "metadata": {},
   "outputs": [],
   "source": [
    "eq_rot_E_vacuum_y_d = (rot_E_vacuum_y_d == \\\n",
    "I * mu * omega / c * Hy_vacuum_d(x=x)*e^(I*k_z*z)).subs(k_z == kz + I * sz).subs(k_z_sol).subs(digit_values)"
   ]
  },
  {
   "cell_type": "code",
   "execution_count": null,
   "metadata": {},
   "outputs": [],
   "source": [
    "eq_rot_E_vacuum_z_d = rot_E_vacuum_z_d == \\\n",
    "(I * mu * omega / c * 0)"
   ]
  },
  {
   "cell_type": "code",
   "execution_count": null,
   "metadata": {},
   "outputs": [],
   "source": []
  },
  {
   "cell_type": "code",
   "execution_count": null,
   "metadata": {},
   "outputs": [],
   "source": [
    "(eq_rot_E_vacuum_y_d.rhs() / eq_rot_E_vacuum_y_d.lhs()).variables()"
   ]
  },
  {
   "cell_type": "code",
   "execution_count": null,
   "metadata": {},
   "outputs": [],
   "source": [
    "pl = plot(eq_rot_E_vacuum_y_d.rhs().real().subs(z == 0), (x, -A, 0))\n",
    "pl += plot(eq_rot_E_vacuum_y_d.lhs().real().subs(z == 0), (x, -A, 0))\n",
    "pl.show()"
   ]
  },
  {
   "cell_type": "code",
   "execution_count": null,
   "metadata": {},
   "outputs": [],
   "source": [
    "pl = plot(eq_rot_E_vacuum_y_d.rhs().imag().subs(z == 0), (x, -A, 0))\n",
    "pl += plot(eq_rot_E_vacuum_y_d.lhs().imag().subs(z == 0), (x, -A, 0))\n",
    "pl.show()"
   ]
  },
  {
   "cell_type": "code",
   "execution_count": null,
   "metadata": {},
   "outputs": [],
   "source": [
    "pl = plot(eq_rot_E_vacuum_y_d.rhs().abs().subs(z == 0), (x, -A, 0))\n",
    "pl += plot(eq_rot_E_vacuum_y_d.lhs().abs().subs(z == 0), (x, -A, 0))\n",
    "pl.show()"
   ]
  },
  {
   "cell_type": "code",
   "execution_count": null,
   "metadata": {},
   "outputs": [],
   "source": []
  },
  {
   "cell_type": "code",
   "execution_count": null,
   "metadata": {},
   "outputs": [],
   "source": [
    "# уравнение Максвелла для\n",
    "# rot_E   = I * mu * omega / c * H\n",
    "# rot_E_x = diff(E_z, y) - diff(E_y, z)\n",
    "# rot_E_y = diff(E_x, z) - diff(E_z, x)\n",
    "# rot_E_z = diff(E_y, x) - diff(E_x, y)"
   ]
  },
  {
   "cell_type": "code",
   "execution_count": null,
   "metadata": {},
   "outputs": [],
   "source": [
    "rot_E_conductor_x_d = diff(Ez_bad_conductor_d(x=x)*e^(I*k_z*z), y)\n",
    "rot_E_conductor_y_d = diff(Ex_bad_conductor_d(x=x)*e^(I*k_z*z), z) - diff(Ez_bad_conductor_d(x=x)*e^(I*k_z*z), x)\n",
    "rot_E_conductor_z_d = - diff(Ex_bad_conductor_d(x=x)*e^(I*k_z*z), y)"
   ]
  },
  {
   "cell_type": "code",
   "execution_count": null,
   "metadata": {},
   "outputs": [],
   "source": [
    "eq_rot_E_conductor_x_d = rot_E_conductor_x_d == \\\n",
    "(I * mu * omega / c * 0)"
   ]
  },
  {
   "cell_type": "code",
   "execution_count": null,
   "metadata": {},
   "outputs": [],
   "source": [
    "eq_rot_E_conductor_y_d = (rot_E_conductor_y_d == \\\n",
    "I * mu * omega / c * Hy_bad_conductor_d(x=x)*e^(I*k_z*z)).subs(k_z == kz + I * sz).subs(k_z_sol).subs(digit_values)"
   ]
  },
  {
   "cell_type": "code",
   "execution_count": null,
   "metadata": {},
   "outputs": [],
   "source": [
    "eq_rot_E_conductor_z_d = rot_E_conductor_z_d == \\\n",
    "(I * mu * omega / c * 0)"
   ]
  },
  {
   "cell_type": "code",
   "execution_count": null,
   "metadata": {},
   "outputs": [],
   "source": []
  },
  {
   "cell_type": "code",
   "execution_count": null,
   "metadata": {},
   "outputs": [],
   "source": [
    "(eq_rot_E_conductor_y_d.rhs() / eq_rot_E_conductor_y_d.lhs()).variables()"
   ]
  },
  {
   "cell_type": "code",
   "execution_count": null,
   "metadata": {},
   "outputs": [],
   "source": [
    "eq_rot_E_conductor_y_d.rhs().subs(z == 0, x == 0).n() - \\\n",
    "eq_rot_E_conductor_y_d.lhs().subs(z == 0, x == 0).n()"
   ]
  },
  {
   "cell_type": "code",
   "execution_count": null,
   "metadata": {},
   "outputs": [],
   "source": [
    "#pl = plot(eq_rot_E_conductor_y_d.rhs().subs(z == 0).real(), (x, 0, A))\n",
    "#pl += plot(eq_rot_E_conductor_y_d.lhs().subs(z == 0).real(), (x, 0, A))\n",
    "#pl.show()"
   ]
  },
  {
   "cell_type": "code",
   "execution_count": null,
   "metadata": {},
   "outputs": [],
   "source": [
    "#pl = plot(eq_rot_E_conductor_y_d.rhs().subs(z == 0).imag(), (x, 0, A))\n",
    "#pl += plot(eq_rot_E_conductor_y_d.lhs().subs(z == 0).imag(), (x, 0, A))\n",
    "#pl.show()"
   ]
  },
  {
   "cell_type": "code",
   "execution_count": null,
   "metadata": {},
   "outputs": [],
   "source": []
  },
  {
   "cell_type": "code",
   "execution_count": null,
   "metadata": {},
   "outputs": [],
   "source": []
  },
  {
   "cell_type": "markdown",
   "metadata": {},
   "source": [
    "Решение получено.\n",
    "\n",
    "Теперь посчитаем:\n",
    "\n",
    "1) пондеромоторную силу, приложенную к идеальному проводнику\n",
    "\n",
    "2) пондеромоторную силу, приложенную к границе диэлектрика и вакуума\n"
   ]
  },
  {
   "cell_type": "code",
   "execution_count": null,
   "metadata": {},
   "outputs": [],
   "source": []
  },
  {
   "cell_type": "markdown",
   "metadata": {},
   "source": [
    "1) пондеромоторная сила, приложенная к идеальному проводнику"
   ]
  },
  {
   "cell_type": "markdown",
   "metadata": {},
   "source": [
    "$$\\frac{1}{2}\\frac{H_{0}^{2}}{8 \\, \\pi}$$\n",
    "additional 1/2 arises as result of integration on period\n",
    "\n",
    "исходя из результатов\n",
    "\n",
    "https://nbviewer.org/github/daju1/articles/blob/master/rezonatory_i_volnovody/skin_force.ipynb\n",
    "\n",
    "эту силу можно интерпретировать как силу Ампера действующая на индуцированный ток проводимости Фуко со стороны магнитного поля проникающего в скин слой "
   ]
  },
  {
   "cell_type": "code",
   "execution_count": null,
   "metadata": {},
   "outputs": [],
   "source": [
    "# superconductor force\n",
    "# additional 1/2 arises as result of integration on period\n",
    "#f_superconductor = - abs((even_H_inner_vacuum_y (0)^2) / (2*8*pi))\n",
    "p_Ht_superconductor = - (Hy_vacuum_d (x=-A).real()^2 + Hy_vacuum_d (x=-A).imag()^2) / (2*8*pi)\n",
    "print(\"p_Ht_superconductor =\", p_Ht_superconductor.n())"
   ]
  },
  {
   "cell_type": "code",
   "execution_count": null,
   "metadata": {},
   "outputs": [],
   "source": [
    "# superconductor force\n",
    "# additional 1/2 arises as result of integration on period\n",
    "#f_superconductor = - abs((even_H_inner_vacuum_y (0)^2) / (2*8*pi))\n",
    "p_Ht_superconductor = - (\n",
    "    (Hy_vacuum_d (x=-A).abs()^2\n",
    "    +\n",
    "    Hz_vacuum_d (x=-A).abs()^2)\n",
    "    / (2*8*pi)\n",
    ")\n",
    "print(\"pH_superconductor =\", p_Ht_superconductor)"
   ]
  },
  {
   "cell_type": "markdown",
   "metadata": {},
   "source": [
    "2) пондеромоторная сила, приложенная к плохому проводнику"
   ]
  },
  {
   "cell_type": "code",
   "execution_count": null,
   "metadata": {},
   "outputs": [],
   "source": [
    "# bad conductor force\n",
    "# additional 1/2 arises as result of integration on period\n",
    "#f_bad_conductor = abs((even_H_inner_vacuum_y (a)^2) / (2*8*pi))\n",
    "p_Ht_bad_conductor = (\n",
    "    (Hy_vacuum_d (x=0).real()^2\n",
    "     +\n",
    "     Hy_vacuum_d (x=0).imag()^2\n",
    "    ) / (2*8*pi)\n",
    ")\n",
    "\n",
    "print(\"p_Ht_bad_conductor =\", p_Ht_bad_conductor)"
   ]
  },
  {
   "cell_type": "code",
   "execution_count": null,
   "metadata": {},
   "outputs": [],
   "source": [
    "# bad conductor force\n",
    "# additional 1/2 arises as result of integration on period\n",
    "#f_bad_conductor = abs((even_H_inner_vacuum_y (a)^2) / (2*8*pi))\n",
    "p_Ht_bad_conductor = (\n",
    "    (Hy_vacuum_d (x=0).abs()^2\n",
    "     +\n",
    "     Hz_vacuum_d (x=0).abs()^2\n",
    "    ) / (2*8*pi)\n",
    ")\n",
    "\n",
    "print(\"p_Ht_bad_conductor =\", p_Ht_bad_conductor)"
   ]
  },
  {
   "cell_type": "code",
   "execution_count": null,
   "metadata": {},
   "outputs": [],
   "source": [
    "(p_Ht_superconductor + p_Ht_bad_conductor).n()"
   ]
  },
  {
   "cell_type": "code",
   "execution_count": null,
   "metadata": {},
   "outputs": [],
   "source": [
    "pl =  plot(arg(Ez_vacuum_d)/pi-arg(Hy_vacuum_d)/pi, (x, -A, 0))\n",
    "pl += plot(tan(arg(Ez_bad_conductor_d)/pi-arg(Hy_bad_conductor_d)/pi), (x, 0, h_conductor))\n",
    "pl.show(title=\"График разницы фаз тангенциальной компоненты электрического и магнитного полей\")"
   ]
  },
  {
   "cell_type": "markdown",
   "metadata": {},
   "source": [
    "пондеромоторная сила, приложенная к границе диэлектрика и вакуума\n",
    "\n",
    "(здесь мы рассматриваем все же металл с невысокой проводимостью и с учетом его внутренней диэлектрической проницаемостью)\n",
    "\n",
    "компонента силы связанная с тангенциальной составляющей электрического поля\n",
    "\n",
    "$\\int\\limits_{T}^{}\\left(\\frac{D_t\\cdot E_t}{8\\pi}|_{dielectric} - \\frac{D_t \\cdot E_t}{8\\pi}|_{vacuum}\\right)dt$\n",
    "\n",
    "$\\int\\limits_{T}^{}\\left(\\frac{\\epsilon\\, E_t^2}{8\\pi}|_{dielectric} - \\frac{E_t^2}{8\\pi}|_{vacuum}\\right)dt$\n",
    "\n",
    "$E_t|_{dielectric} = E_t|_{vacuum}$\n",
    "\n",
    "$\\left(\\epsilon - 1\\right)\\int\\limits_{T}^{}\\frac{E_t^2}{8\\pi}|_{dielectric}dt$\n",
    "\n",
    "$\\left(\\epsilon - 1\\right)\\frac{E_t^2}{16\\pi}|_{dielectric}$"
   ]
  },
  {
   "cell_type": "markdown",
   "metadata": {},
   "source": [
    "как интерпретировать эту силу? Как силу, аналогичную силе Ампера, действующую со стороны электрического поля на магнитный ток смещения?\n",
    "\n",
    "$$rot\\,\\vec{E} = \\frac{1}{c}\\frac{\\partial \\vec B}{\\partial t} = \\frac{4\\pi}{c} \\vec {j_{см_m}}$$"
   ]
  },
  {
   "cell_type": "code",
   "execution_count": null,
   "metadata": {},
   "outputs": [],
   "source": [
    "# Static and dynamic electricity by William R. Smythe, second edition, 1950\n",
    "# paragraph 18 formula 1.47\n",
    "# давление на границу равно разности давлений по обе стороны от нее\n",
    "# $$ P_n = \\frac{1}{2} \\epsilon'{{E'}_t}^2 - \\frac{1}{2} \\epsilon''{{E''}_t}^2 $$"
   ]
  },
  {
   "cell_type": "markdown",
   "metadata": {},
   "source": [
    "$$ P_n = \\frac{1}{2} \\epsilon'{{E'}_t}^2 - \\frac{1}{2} \\epsilon''{{E''}_t}^2 $$"
   ]
  },
  {
   "cell_type": "code",
   "execution_count": null,
   "metadata": {},
   "outputs": [],
   "source": [
    "# bad conductor force\n",
    "# additional 1/2 arises as result of integration on period\n",
    "p_Et_bad_conductor = -(\n",
    "    ((1.0 - epsilon_complex) * Ez_vacuum_d (x=0))\n",
    "    *\n",
    "    Ez_vacuum_d (x=0)/ (2*8*pi)\n",
    ").subs(digit_values).abs().n()\n",
    "print(\"p_Et_bad_conductor_ =\", p_Et_bad_conductor)"
   ]
  },
  {
   "cell_type": "markdown",
   "metadata": {},
   "source": [
    "пондеромоторная сила, приложенная к границе диэлектрика и вакуума\n",
    "\n",
    "компонента силы связанная с нормальной составляющей электрического поля\n",
    "\n",
    "$\\int\\limits_{T}^{}\\left(\\frac{D_n\\cdot E_n}{8\\pi}|_{dielectric} - \\frac{D_n \\cdot E_n}{8\\pi}|_{vacuum}\\right)dt$\n",
    "\n",
    "$\\int\\limits_{T}^{}\\left(\\frac{\\epsilon\\, E_n^2}{8\\pi}|_{dielectric} - \\frac{E_n^2}{8\\pi}|_{vacuum}\\right)dt$\n",
    "\n",
    "$D_n|_{dielectric} = D_n|_{vacuum}$\n",
    "\n",
    "$\\epsilon\\,E_n|_{dielectric} = E_n|_{vacuum}$\n",
    "\n",
    "$\\int\\limits_{T}^{}\\left(\\frac{\\epsilon\\, E_n^2}{8\\pi}|_{dielectric} - \\frac{\\epsilon^2\\, E_n^2}{8\\pi}|_{dielectric}\\right)dt$\n",
    "\n",
    "$\\left(\\epsilon - \\epsilon^2\\right)\\int\\limits_{T}^{}\\frac{E_n^2}{8\\pi}|_{dielectric}dt$\n",
    "\n",
    "$\\frac{\\left(1 - \\epsilon\\right)\\,\\epsilon\\,E_n^2}{16\\pi}|_{dielectric}$"
   ]
  },
  {
   "cell_type": "markdown",
   "metadata": {},
   "source": [
    "Рассмотрим следующую компоненту тензора натяжения, взятую из Static and dynamic electricity by William R. Smythe, second edition, 1950\n",
    "paragraph 18 formula 1.45 натяжение на границе, созданное нормальными компонентами индукции\n",
    "должно равняться разности натяжений по обе стороны от границы\n",
    " $$ T_n = \\frac{{{D'}_n}^2}{2 \\epsilon'} - \\frac{{{D''}_n}^2}{2 \\epsilon''} $$"
   ]
  },
  {
   "cell_type": "markdown",
   "metadata": {},
   "source": [
    "Поскольку нормальная компонента электрического смещения численно равна заряду, \"накапливающемуся\" на поверхности раздела двух сред, деленному на площадь этой поверхности.\n",
    "И поскольку электрическое смещение связано с полным зарядом (как свободным, так и связанным) в данной области то физический смысл этой компоненты натяжения вероятно состоит в действии электрического поля на поверхностный заряд\n"
   ]
  },
  {
   "cell_type": "code",
   "execution_count": null,
   "metadata": {},
   "outputs": [],
   "source": [
    "# Static and dynamic electricity by William R. Smythe, second edition, 1950\n",
    "# paragraph 18 formula 1.45\n",
    "# натяжение на границе, созданное нормальными компонентами индукции\n",
    "# должно равняться разности натяжений по обе стороны от границы\n",
    "# $$ T_n = \\frac{{{D'}_n}^2}{2 \\epsilon'} - \\frac{{{D''}_n}^2}{2 \\epsilon''} $$"
   ]
  },
  {
   "cell_type": "markdown",
   "metadata": {},
   "source": [
    "$$ T_n = \\frac{{{D'}_n}^2}{2 \\epsilon'} - \\frac{{{D''}_n}^2}{2 \\epsilon''} $$"
   ]
  },
  {
   "cell_type": "code",
   "execution_count": null,
   "metadata": {},
   "outputs": [],
   "source": [
    "# super conductor tension\n",
    "# additional 1/2 arises as result of integration on period\n",
    "# epsilon_superconductor -> Infinity\n",
    "# 1 / epsilon_superconductor -> 0.0\n",
    "t_Dn_super_conductor = (\n",
    "    (np.float128(0.0) - np.float128(1)/np.float128(1.))\n",
    "    * (Dx_vacuum_d (x=-A).abs()^2) / np.float128(2*8*pi))\n",
    "print(\"t_Dn_super_conductor =\", t_Dn_super_conductor, type(t_Dn_super_conductor))"
   ]
  },
  {
   "cell_type": "code",
   "execution_count": null,
   "metadata": {},
   "outputs": [],
   "source": [
    "# super conductor tension\n",
    "# additional 1/2 arises as result of integration on period\n",
    "# epsilon_superconductor -> Infinity\n",
    "# 1 / epsilon_superconductor -> 0.0\n",
    "t_Dn_super_conductor = -(\n",
    "    np.float128(0.0) - (Dx_vacuum_d (x=-A)/np.float128(1))\n",
    "       * (Dx_vacuum_d (x=-A)) / np.float128(2*8*pi)\n",
    ").abs()\n",
    "print(\"t_Dn_super_conductor =\", t_Dn_super_conductor)"
   ]
  },
  {
   "cell_type": "code",
   "execution_count": null,
   "metadata": {},
   "outputs": [],
   "source": [
    "# bad conductor force\n",
    "# additional 1/2 arises as result of integration on period\n",
    "t_Dn_bad_conductor = (\n",
    "    ((Dx_vacuum_d (x=0)/np.float128(1.0)) * Dx_vacuum_d (x=0)\n",
    "     - \n",
    "     ( Dx_bad_conductor_d(x=0) / epsilon_complex )\n",
    "         * Dx_bad_conductor_d(x=0)\n",
    "    ) / np.float128(2*8*pi)\n",
    ").subs(digit_values).abs()\n",
    "print(\"t_Dn_bad_conductor =\", t_Dn_bad_conductor.n())"
   ]
  },
  {
   "cell_type": "code",
   "execution_count": null,
   "metadata": {},
   "outputs": [],
   "source": [
    "(t_Dn_super_conductor + t_Dn_bad_conductor).n()"
   ]
  },
  {
   "cell_type": "markdown",
   "metadata": {},
   "source": [
    "Результаты вычислений показывают, что тяга в волновом двигателе с внутренним расходом энергии Ф.Ф.Менде (MenDrive) ненулевая и равна"
   ]
  },
  {
   "cell_type": "code",
   "execution_count": null,
   "metadata": {},
   "outputs": [],
   "source": [
    "(+ p_Ht_superconductor + p_Ht_bad_conductor).n() + \\\n",
    "(+ t_Dn_super_conductor + t_Dn_bad_conductor).n()"
   ]
  },
  {
   "cell_type": "code",
   "execution_count": null,
   "metadata": {},
   "outputs": [],
   "source": [
    "(+ p_Ht_superconductor + p_Ht_bad_conductor).n() + \\\n",
    "(+ t_Dn_super_conductor + t_Dn_bad_conductor).n() \\\n",
    "- p_Et_bad_conductor"
   ]
  },
  {
   "cell_type": "code",
   "execution_count": null,
   "metadata": {},
   "outputs": [],
   "source": [
    "# H^2/8 pi\n",
    "(p_Ht_superconductor + p_Ht_bad_conductor).n()"
   ]
  },
  {
   "cell_type": "code",
   "execution_count": null,
   "metadata": {},
   "outputs": [],
   "source": [
    "(t_Dn_super_conductor + t_Dn_bad_conductor).n()"
   ]
  },
  {
   "cell_type": "code",
   "execution_count": null,
   "metadata": {},
   "outputs": [],
   "source": [
    "- p_Et_bad_conductor"
   ]
  },
  {
   "cell_type": "markdown",
   "metadata": {},
   "source": [
    "Мощность тепловых потерь"
   ]
  },
  {
   "cell_type": "code",
   "execution_count": null,
   "metadata": {},
   "outputs": [],
   "source": [
    "wr = lambda x : sigma_d * (Ez_bad_conductor_d(x=x).abs()^2\n",
    "                           + Ey_bad_conductor_d(x=x).abs()^2\n",
    "                           + Ex_bad_conductor_d(x=x).abs()^2)"
   ]
  },
  {
   "cell_type": "code",
   "execution_count": null,
   "metadata": {},
   "outputs": [],
   "source": [
    "plot(wr(x=x), (x, 0, h_conductor))"
   ]
  },
  {
   "cell_type": "code",
   "execution_count": null,
   "metadata": {},
   "outputs": [],
   "source": [
    "Wr_integrate_x = wr(x=x).integrate(x)\n",
    "Wr_integrate_x.variables()"
   ]
  },
  {
   "cell_type": "code",
   "execution_count": null,
   "metadata": {},
   "outputs": [],
   "source": [
    "type(wr(x=0).n())"
   ]
  },
  {
   "cell_type": "code",
   "execution_count": null,
   "metadata": {
    "scrolled": true
   },
   "outputs": [],
   "source": [
    "plot(Wr_integrate_x, (x, 0, 100*h_conductor))"
   ]
  },
  {
   "cell_type": "code",
   "execution_count": null,
   "metadata": {},
   "outputs": [],
   "source": [
    "W = Wr_integrate_x.subs(x == 100*h_conductor).n() - Wr_integrate_x.subs(x == 0).n()\n",
    "W"
   ]
  },
  {
   "cell_type": "markdown",
   "metadata": {},
   "source": [
    "Удельная тяга, отнесённая к мощности тепловых потерь"
   ]
  },
  {
   "cell_type": "code",
   "execution_count": null,
   "metadata": {},
   "outputs": [],
   "source": [
    "# F / P\n",
    "# dyne / (erg/s)\n",
    "\n",
    "# 1 erg  = 10^-7 joule\n",
    "# 1 dyne = 10^-5 N\n",
    "\n",
    "# 1 dyne / (erg/s) = 10^-5 / (10^-7) = 100 N/watt"
   ]
  },
  {
   "cell_type": "code",
   "execution_count": null,
   "metadata": {},
   "outputs": [],
   "source": [
    "# dyne / (erg/s)\n",
    "(p_Ht_superconductor + p_Ht_bad_conductor).n()/(W)"
   ]
  },
  {
   "cell_type": "code",
   "execution_count": null,
   "metadata": {},
   "outputs": [],
   "source": [
    "# dyne / (erg/s)\n",
    "(t_Dn_super_conductor + t_Dn_bad_conductor).n()/(W)"
   ]
  },
  {
   "cell_type": "code",
   "execution_count": null,
   "metadata": {},
   "outputs": [],
   "source": [
    "# dyne / (erg/s)\n",
    "(- p_Et_bad_conductor)/(W)"
   ]
  },
  {
   "cell_type": "code",
   "execution_count": null,
   "metadata": {},
   "outputs": [],
   "source": [
    "p_Et_bad_conductor, W"
   ]
  },
  {
   "cell_type": "code",
   "execution_count": null,
   "metadata": {},
   "outputs": [],
   "source": [
    "show(t_Dn_super_conductor.n() + t_Dn_bad_conductor.n() - p_Et_bad_conductor.n())"
   ]
  },
  {
   "cell_type": "code",
   "execution_count": null,
   "metadata": {},
   "outputs": [],
   "source": [
    "# dyne / (erg/s)\n",
    "(t_Dn_super_conductor.n() + t_Dn_bad_conductor.n() - p_Et_bad_conductor.n())/(W)"
   ]
  },
  {
   "cell_type": "code",
   "execution_count": null,
   "metadata": {},
   "outputs": [],
   "source": [
    "# N/watt"
   ]
  },
  {
   "cell_type": "code",
   "execution_count": null,
   "metadata": {},
   "outputs": [],
   "source": [
    "100 * ( \\\n",
    " (+ p_Ht_superconductor + p_Ht_bad_conductor).n() + \\\n",
    " (+ t_Dn_super_conductor + t_Dn_bad_conductor).n() \\\n",
    " - p_Et_bad_conductor\n",
    ")/(W)"
   ]
  },
  {
   "cell_type": "code",
   "execution_count": null,
   "metadata": {},
   "outputs": [],
   "source": [
    "# N/kwatt"
   ]
  },
  {
   "cell_type": "code",
   "execution_count": null,
   "metadata": {},
   "outputs": [],
   "source": [
    "N_kwatt = 10^5*( \\\n",
    " (+ p_Ht_superconductor + p_Ht_bad_conductor).n() + \\\n",
    " (+ t_Dn_super_conductor + t_Dn_bad_conductor).n() \\\n",
    " - p_Et_bad_conductor\n",
    ")/(W)\n",
    "N_kwatt"
   ]
  },
  {
   "cell_type": "code",
   "execution_count": null,
   "metadata": {},
   "outputs": [],
   "source": [
    "N_kwatt"
   ]
  },
  {
   "cell_type": "markdown",
   "metadata": {},
   "source": [
    "положительный знак соответствует направлению тяги в сторону увеличения значений x"
   ]
  },
  {
   "cell_type": "markdown",
   "metadata": {},
   "source": [
    "Здесь нужно отметить, что формула\n",
    "\n",
    "```bash\n",
    "pH_bad_conductor = (Hy_vacuum_d (x=0).abs()^2) / (2*8*pi)\n",
    "```\n",
    "\n",
    "хотя и взята из справочников, ее вывод приводится в Ландау Лифшиц. Электродинамика сплошных сред параграфы 58 и 59\n",
    "\n",
    "и здесь вкратце я этот вывод повторил\n",
    "\n",
    "https://nbviewer.org/github/daju1/articles/blob/master/rezonatory_i_volnovody/skin_force_t.ipynb"
   ]
  },
  {
   "cell_type": "markdown",
   "metadata": {},
   "source": [
    "Но что интересно этот вывод сделан в предположении что фаза электрического поля отстает от фазы магнитного поля на величину $\\pi/4$\n",
    "\n",
    "\n",
    "Далее в работе \n",
    "\n",
    "https://nbviewer.org/github/daju1/articles/blob/master/rezonatory_i_volnovody/skin_force.ipynb\n",
    "\n",
    "Был рассмотрен вопрос\n",
    "\n",
    "```bash\n",
    "# а что если в данном расчете изменится сдвиг фаз между электрическим и магнитным полем?\n",
    "```\n"
   ]
  },
  {
   "cell_type": "code",
   "execution_count": null,
   "metadata": {},
   "outputs": [],
   "source": [
    "pl =  plot(arg(Hy_vacuum_d)/pi, (x, -A, 0))\n",
    "pl += plot(arg(Hy_bad_conductor_d)/pi, (x, 0, h_conductor))\n",
    "pl += plot(arg(Ez_vacuum_d)/pi, (x, -A, 0), color=\"red\")\n",
    "pl += plot(arg(Ez_bad_conductor_d)/pi, (x, 0, h_conductor), color=\"red\")\n",
    "pl.show(title=\"График Arg тангенциальной компоненты напряженности электрического магнитного поля H\")"
   ]
  },
  {
   "cell_type": "code",
   "execution_count": null,
   "metadata": {
    "scrolled": true
   },
   "outputs": [],
   "source": [
    "pl =  plot(arg(Hy_vacuum_d)/pi-arg(Ez_vacuum_d)/pi, (x, -A, 0))\n",
    "pl += plot(arg(Hy_bad_conductor_d)/pi-arg(Ez_bad_conductor_d)/pi, (x, 0, h_conductor))\n",
    "pl.show(title=\"График разности фаз тангенциальной компоненты напряженности электрического магнитного поля H\")"
   ]
  },
  {
   "cell_type": "code",
   "execution_count": null,
   "metadata": {},
   "outputs": [],
   "source": []
  },
  {
   "cell_type": "code",
   "execution_count": null,
   "metadata": {},
   "outputs": [],
   "source": [
    "dphi_vacuum    = lambda x : arg(Ez_vacuum_d       (x=x))/pi - arg(Hy_vacuum_d       (x=x))/pi"
   ]
  },
  {
   "cell_type": "code",
   "execution_count": null,
   "metadata": {},
   "outputs": [],
   "source": [
    "dphi_conductor = lambda x : arg(Ez_bad_conductor_d(x=x))/pi - arg(Hy_bad_conductor_d(x=x))/pi"
   ]
  },
  {
   "cell_type": "markdown",
   "metadata": {},
   "source": [
    "В данном расчёте оказалось что при заданных параметрах сдвиг фаз между электрическим и  магнитнымполем отличается от $-1.25 \\pi$ на величину\n"
   ]
  },
  {
   "cell_type": "code",
   "execution_count": null,
   "metadata": {},
   "outputs": [],
   "source": [
    "dphi_conductor(h_conductor).n()"
   ]
  },
  {
   "cell_type": "code",
   "execution_count": null,
   "metadata": {},
   "outputs": [],
   "source": [
    "dphi_conductor(0).n()"
   ]
  },
  {
   "cell_type": "code",
   "execution_count": null,
   "metadata": {},
   "outputs": [],
   "source": [
    "dphi_conductor(0.001).n()"
   ]
  },
  {
   "cell_type": "code",
   "execution_count": null,
   "metadata": {},
   "outputs": [],
   "source": [
    "dphi_vacuum(0).n()"
   ]
  },
  {
   "cell_type": "code",
   "execution_count": null,
   "metadata": {},
   "outputs": [],
   "source": [
    "dphi_vacuum(-A/2).n()"
   ]
  },
  {
   "cell_type": "code",
   "execution_count": null,
   "metadata": {},
   "outputs": [],
   "source": [
    "dphi_vacuum(-A).n()"
   ]
  },
  {
   "cell_type": "raw",
   "metadata": {},
   "source": [
    "pl =  plot(dphi_vacuum, (x, -A*0.001, 0))\n",
    "pl += plot(dphi_conductor, (x, 0, h_conductor*0.001), color=\"red\")\n",
    "pl.show(title=\"delta Arg тангенциальных H и E\")"
   ]
  },
  {
   "cell_type": "markdown",
   "metadata": {},
   "source": [
    "небольная разница в сдвиге фаз между тангенциальным электрическим и тангенциальным магнитным полем на поверхности проводника в вакуумной фазе и в фазе поверхности является следствием, вероятно, ограниченной точностью сведения детерминанта к нулю на итерационной фазе вычислений"
   ]
  },
  {
   "cell_type": "code",
   "execution_count": null,
   "metadata": {
    "scrolled": true
   },
   "outputs": [],
   "source": [
    "pl =  plot(arg(Hy_vacuum_d)/pi - arg(Ez_vacuum_d)/pi - 1.25, (x, -A+0.01, 0))\n",
    "#pl += plot(arg(Hy_bad_conductor_d)/pi - arg(Ez_bad_conductor_d)/pi - 1.25, (x, 0, h_conductor))\n",
    "pl.show(title=\"График delta Arg тангенциальных компонент H и E\")"
   ]
  },
  {
   "cell_type": "markdown",
   "metadata": {},
   "source": [
    "Этот факт ставит отрытым вопрос об уточнении формулы для pH_bad_conductor"
   ]
  },
  {
   "cell_type": "markdown",
   "metadata": {},
   "source": [
    "В работе \n",
    "\n",
    "https://nbviewer.org/github/daju1/articles/blob/master/rezonatory_i_volnovody/skin_force_phi.ipynb\n",
    "\n",
    "был рассмотрен этот $-1.25 \\pi$ сдвиг фаз. Для этого случая сила действующая на проводник в скинслое равна\n",
    "\n",
    "$$-\\frac{H_{0}^{2}}{16 \\, \\pi}$$\n",
    "\n",
    "а также получена формула, которая говорит, что если реальный сдвиг фаз между электрическим и магнитным полем отличается на величину $\\phi$ тогда сила действующая на проводник в скинслое равна уже\n",
    "\n",
    "$$-\\frac{H_{0}^{2} \\cos\\left(\\phi\\right)}{16 \\, \\pi} - \\frac{H_{0}^{2} \\sin\\left(\\phi\\right)}{16 \\, \\pi}$$\n",
    "\n",
    "$$-\\frac{H_{0}^{2} }{16 \\, \\pi} (\\cos\\left(\\phi\\right) + \\sin\\left(\\phi\\right))$$"
   ]
  },
  {
   "cell_type": "code",
   "execution_count": null,
   "metadata": {},
   "outputs": [],
   "source": [
    "#phi = (1.25+dphi_conductor(0).n())*pi\n",
    "phi = (-0.75+dphi_conductor(0).n())*pi\n",
    "phi"
   ]
  },
  {
   "cell_type": "code",
   "execution_count": null,
   "metadata": {},
   "outputs": [],
   "source": [
    "# N/kwatt\n",
    "\n",
    "N_kwatt_phi = 10^5*( \\\n",
    " + (p_Ht_superconductor + p_Ht_bad_conductor * (cos(phi) + sin(phi))).n() \\\n",
    " + (t_Dn_super_conductor + t_Dn_bad_conductor).n() \\\n",
    " - p_Et_bad_conductor).n()/(W)\n",
    "N_kwatt_phi"
   ]
  },
  {
   "cell_type": "code",
   "execution_count": null,
   "metadata": {},
   "outputs": [],
   "source": [
    "# N/kwatt\n",
    "\n",
    "N_kwatt = 10^5*( \\\n",
    " + (p_Ht_superconductor + p_Ht_bad_conductor).n() \\\n",
    " + (t_Dn_super_conductor + t_Dn_bad_conductor).n() \\\n",
    " - p_Et_bad_conductor).n()/(W)\n",
    "N_kwatt"
   ]
  },
  {
   "cell_type": "code",
   "execution_count": null,
   "metadata": {},
   "outputs": [],
   "source": [
    "N_kwatt_phi - N_kwatt"
   ]
  },
  {
   "cell_type": "markdown",
   "metadata": {},
   "source": [
    "Исходя из результатов опытов С.Б. Каравашкина по исследованию токов Фуко в разных материалах\n",
    "\n",
    "https://sbkaravashkin.blogspot.com/2014/10/1.html\n",
    "\n",
    "https://sbkaravashkin.blogspot.com/2014/10/2.html, изменится ли в данном расчете сдвиг фаз между электрическим и магнитным полем?"
   ]
  },
  {
   "cell_type": "markdown",
   "metadata": {},
   "source": [
    "Очень важным для построения теории Emdrive  я считаю результаты опытов  С.Б. Каравашкина с токами Фуко.\n",
    "\n",
    "\n",
    "http://sbkaravashkin.blogspot.com/2014/10/2.html?m=1\n",
    "\n",
    "С точки зрения полученных результатов становится понятным  расхождение между графиками фаз запаздывания для материалов с доминирующей электронной и ориентационной компонентами. В первых электронная компонента тока Фуко отстаёт от фазы тока в первичной обмотке на 90°. Эдс во вторичной обмотке зависит от направления доминирующей в каждом случае ветви тока Фуко в наставке и в каждом случае тоже запаздывает на 90°. Результирующая фаза эдс может изменяться от 0° до -180°. В материалах с ориентационной компонентой эквивалентный ток опережает ток в первичной обмотке на 90°, а потому результирующая эдс в зависимости от доминирования того или иного направления влияющих элементов эквивалентного тока в накладке, имеющих противоположное направление, может изменяться от 0° до +180°."
   ]
  },
  {
   "cell_type": "markdown",
   "metadata": {},
   "source": [
    "если предположить что формула \n",
    "\n",
    "$$-\\frac{H_{0}^{2} }{16 \\, \\pi} (\\cos\\left(\\phi\\right) + \\sin\\left(\\phi\\right))$$\n",
    "\n",
    "применима также и для вычисления пондеромоторной силы приложенной к идеальному проводнику"
   ]
  },
  {
   "cell_type": "code",
   "execution_count": null,
   "metadata": {},
   "outputs": [],
   "source": [
    "#phi_r = (1.25+dphi_vacuum(0).n())*pi\n",
    "phi_r = (dphi_vacuum(0).n())*pi\n",
    "phi_r"
   ]
  },
  {
   "cell_type": "code",
   "execution_count": null,
   "metadata": {},
   "outputs": [],
   "source": [
    "phi_l = (dphi_vacuum(-A).n())*pi\n",
    "phi_l"
   ]
  },
  {
   "cell_type": "code",
   "execution_count": null,
   "metadata": {},
   "outputs": [],
   "source": [
    "# N/kwatt\n",
    "\n",
    "10^5*( \\\n",
    " + p_Ht_superconductor + p_Ht_bad_conductor \\\n",
    ").n()/(W)"
   ]
  },
  {
   "cell_type": "code",
   "execution_count": null,
   "metadata": {},
   "outputs": [],
   "source": [
    "# N/kwatt\n",
    "\n",
    "10^5*( \\\n",
    " + p_Ht_superconductor * (cos(phi_l) + sin(phi_l)).n() + p_Ht_bad_conductor * (cos(phi_r) + sin(phi_r)).n() \\\n",
    ").n()/(W)"
   ]
  },
  {
   "cell_type": "code",
   "execution_count": null,
   "metadata": {},
   "outputs": [],
   "source": [
    "# N/kwatt\n",
    "\n",
    "10^5*( \\\n",
    " + t_Dn_super_conductor + t_Dn_bad_conductor \\\n",
    ").n()/(W)"
   ]
  },
  {
   "cell_type": "code",
   "execution_count": null,
   "metadata": {},
   "outputs": [],
   "source": [
    "# N/kwatt\n",
    "\n",
    "10^5*( \\\n",
    " + p_Ht_superconductor * (cos(phi_l) + sin(phi_l)).n() + p_Ht_bad_conductor * (cos(phi_r) + sin(phi_r)).n() \\\n",
    " + (t_Dn_super_conductor + t_Dn_bad_conductor).n() \\\n",
    " - p_Et_bad_conductor).n()/(W)"
   ]
  },
  {
   "cell_type": "code",
   "execution_count": null,
   "metadata": {},
   "outputs": [],
   "source": [
    "#Propulsion and Energy Forum\n",
    "#July 28-30, 2014, Cleveland, OH\n",
    "#50th AIAA/ASME/SAE/ASEE Joint Propulsion Conference\n",
    "#Anomalous Thrust Production from an RF Test Device\n",
    "#Measured on a Low-Thrust Torsion Pendulum\n",
    "#David A. Brady * , Harold G. White † , Paul March ‡ , James T. Lawrence § , and Frank J. Davies **\n",
    "#NASA Lyndon B. Johnson Space Center, Houston, Texas 77058\n",
    "\n",
    "\n",
    "#Tapered Cavity RF Evaluation and Testing, TE012 mode\n",
    "#Prior to the TM211 evaluations, COMSOL® analysis indicated that the TE012 was an effective thrust generation\n",
    "#mode for the tapered cavity thruster being evaluated, so this mode was explored early in the evaluation process.\n",
    "#Figure 22 shows a test run at the TE012 mode with an operating frequency of 1880.4 MHz. The measured quality\n",
    "#factor was ~22,000, with a COMSOL prediction of 21,817. The measured power applied to the test article was\n",
    "#measured to be 2.6 watts, and the (net) measured thrust was 55.4 micronewtons. With an input power of 2.6 watts,\n",
    "#correcting for the quality factor, the predicted thrust is 50 micronewtons. However, since the TE012 mode had\n",
    "#numerous other RF modes in very close proximity, it was impractical to repeatedly operate the system in this mode,\n",
    "#so the decision was made to evaluate the TM211 modes instead.\n",
    "\n",
    "#E. Tapered Cavity Testing: Summary of Results\n",
    "# Mode \n",
    "# Frequency (MHz)\n",
    "# Quality Factor, Q \n",
    "\n",
    "# Input Power (W) \n",
    "# Peak Thrust (μN) \n",
    "# Mean Thrust (μN) \n",
    "# Number of Test Runs\n",
    "# TM211 1932.6   7320  16.9  116.0   91.2  5\n",
    "# TM211 1936.7 18,100  16.7   54.1   50.1  2\n",
    "# TE012 1880.4 22,000   2.6   55.4   55.4  1\n",
    "\n",
    "# Harrington, Roger F. (1961). Time-Harmonic Electromagnetic Fields. McGraw-Hill. ISBN 9780070267459.\n",
    "\n",
    "# EEE TRANSACTIONS ON MICROWAVE THEORY AND TECHNIQUES, VOL. 54, NO. 4, APRIL 2006\n",
    "# Two-Resonator Method for Measurement of Dielectric Anisotropy in Multilayer SamplesPlamen I. Dankov, Member, IEEE\n",
    "# https://www.researchgate.net/publication/3131333_Two-resonator_method_for_measurement_of_dielectric_anisotropy_in_multilayer_samples"
   ]
  },
  {
   "cell_type": "code",
   "execution_count": null,
   "metadata": {},
   "outputs": [],
   "source": [
    "# they have obtained\n",
    "# 0,005396449704142\n",
    "# 0,003\n",
    "# 0,0213076923076923\n",
    "# N/kwatt"
   ]
  },
  {
   "cell_type": "code",
   "execution_count": null,
   "metadata": {},
   "outputs": [],
   "source": []
  }
 ],
 "metadata": {
  "kernelspec": {
   "display_name": "SageMath 9.6.beta7",
   "language": "sage",
   "name": "sagemath"
  },
  "language_info": {
   "codemirror_mode": {
    "name": "ipython",
    "version": 3
   },
   "file_extension": ".py",
   "mimetype": "text/x-python",
   "name": "python",
   "nbconvert_exporter": "python",
   "pygments_lexer": "ipython3",
   "version": "3.10.3"
  }
 },
 "nbformat": 4,
 "nbformat_minor": 4
}
