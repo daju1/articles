{
 "cells": [
  {
   "cell_type": "code",
   "execution_count": 19,
   "metadata": {},
   "outputs": [],
   "source": [
    "nquad_default_opts = \\\n",
    "           { 'epsabs' : 1.49e-08,\n",
    "             'epsrel' : 1.49e-08,\n",
    "             'limit'  : 50 }\n",
    "\n",
    "nquad_opts = { 'epsabs' : 1.49e-03,\n",
    "               'epsrel' : 1.49e-03,\n",
    "               'limit'  : 20 }"
   ]
  },
  {
   "cell_type": "code",
   "execution_count": 37,
   "metadata": {},
   "outputs": [],
   "source": [
    "%%cython\n",
    "cdef extern from \"numerical_integrators/cuba/calc_transverse_sphere_mass.c\":\n",
    "    ctypedef struct ProblemParams:\n",
    "        double R0\n",
    "        double rho0\n",
    "        double omega\n",
    "        double c\n",
    "\n",
    "    void int_a (const ProblemParams *params, double q,\n",
    "                double phi_a, double theta_a, double ra,\n",
    "                double phi_q, double theta_q, double rq,\n",
    "        double *E1_rho, double *E1_phi, double *E1_z,\n",
    "        double *E2_rho, double *E2_phi, double *E2_z,\n",
    "        double *E_rho,  double *E_phi,  double *E_z\n",
    "    )\n",
    "\n",
    "def gradient_coulomb_sphere_mass_integrand(r0, q, theta_a, ra, phi_q, theta_q, rq):\n",
    "    cdef double _r0      = r0\n",
    "    cdef double _q       = q\n",
    "    cdef double _theta_a = theta_a\n",
    "    cdef double _ra      = ra\n",
    "    cdef double _phi_q   = phi_q\n",
    "    cdef double _theta_q = theta_q\n",
    "    cdef double _rq      = rq\n",
    "    \n",
    "    cdef double E1_rho\n",
    "    cdef double E1_phi\n",
    "    cdef double E1_z\n",
    "    cdef double E2_rho\n",
    "    cdef double E2_phi\n",
    "    cdef double E2_z\n",
    "    cdef double E_rho\n",
    "    cdef double E_phi\n",
    "    cdef double E_z\n",
    "    \n",
    "    cdef double v_c = 0.1\n",
    "    \n",
    "    cdef ProblemParams params\n",
    "    params.R0 = r0\n",
    "    params.rho0 = 100\n",
    "    params.c = 1\n",
    "    params.omega = v_c * params.c / params.rho0\n",
    "    \n",
    "    int_a(&params, _r0, _q,\n",
    "          phi_a, _theta_a, _ra, _phi_q, _theta_q, _rq,\n",
    "          &E1_rho, &E1_phi, &E1_z,\n",
    "          &E2_rho, &E2_phi, &E2_z,\n",
    "          &E_rho,  &E_phi,  &E_z)\n",
    "    \n",
    "    return E1_rho, E1_phi, E1_z, \\\n",
    "           E2_rho, E2_phi, E2_z, \\\n",
    "           E_rho,  E_phi,  E_z"
   ]
  },
  {
   "cell_type": "code",
   "execution_count": 41,
   "metadata": {},
   "outputs": [
    {
     "ename": "NameError",
     "evalue": "name 'theta_a' is not defined",
     "output_type": "error",
     "traceback": [
      "\u001b[0;31m---------------------------------------------------------------------------\u001b[0m",
      "\u001b[0;31mNameError\u001b[0m                                 Traceback (most recent call last)",
      "\u001b[0;32m/tmp/ipykernel_2934/2378517673.py\u001b[0m in \u001b[0;36m<module>\u001b[0;34m\u001b[0m\n\u001b[1;32m      4\u001b[0m \u001b[0;34m\u001b[0m\u001b[0m\n\u001b[1;32m      5\u001b[0m \u001b[0;34m\u001b[0m\u001b[0m\n\u001b[0;32m----> 6\u001b[0;31m \u001b[0mgradient_coulomb_sphere_mass_integrand\u001b[0m\u001b[0;34m(\u001b[0m\u001b[0mr0\u001b[0m\u001b[0;34m,\u001b[0m \u001b[0mq\u001b[0m\u001b[0;34m,\u001b[0m \u001b[0mtheta_a\u001b[0m\u001b[0;34m,\u001b[0m \u001b[0mra\u001b[0m\u001b[0;34m,\u001b[0m \u001b[0mphi_q\u001b[0m\u001b[0;34m,\u001b[0m \u001b[0mtheta_q\u001b[0m\u001b[0;34m,\u001b[0m \u001b[0mrq\u001b[0m\u001b[0;34m)\u001b[0m\u001b[0;34m\u001b[0m\u001b[0;34m\u001b[0m\u001b[0m\n\u001b[0m",
      "\u001b[0;31mNameError\u001b[0m: name 'theta_a' is not defined"
     ]
    }
   ],
   "source": [
    "r0 = 1\n",
    "q = 1\n",
    "theta_a = 0\n",
    "theta_q = pi\n",
    "\n",
    "\n",
    "\n",
    "gradient_coulomb_sphere_mass_integrand(r0, q, theta_a, ra, phi_q, theta_q, rq)"
   ]
  },
  {
   "cell_type": "code",
   "execution_count": 1,
   "metadata": {},
   "outputs": [],
   "source": [
    "%%cython\n",
    "cdef extern from \"numerical_integrators/cuba/calc_gradient_coulomb_sphere_mass.c\":\n",
    "    # интегрирование по координатам точек наблюдения\n",
    "    double Ia (double r0, double q, double theta_a, double ra, double phi_q, double theta_q, double rq)\n",
    "\n",
    "def gradient_coulomb_sphere_mass_integrand(r0, q, theta_a, ra, phi_q, theta_q, rq):\n",
    "    cdef double _r0      = r0\n",
    "    cdef double _q       = q\n",
    "    cdef double _theta_a = theta_a\n",
    "    cdef double _ra      = ra\n",
    "    cdef double _phi_q   = phi_q\n",
    "    cdef double _theta_q = theta_q\n",
    "    cdef double _rq      = rq\n",
    "    return Ia(_r0, _q, _theta_a, _ra, _phi_q, _theta_q, _rq)"
   ]
  },
  {
   "cell_type": "code",
   "execution_count": 2,
   "metadata": {},
   "outputs": [],
   "source": [
    "%%cython\n",
    "cdef extern from \"numerical_integrators/cuba/calc_gradient_sphere_mass.c\":\n",
    "    # интегрирование по координатам точек наблюдения\n",
    "    double Ia (double r0, double q, double theta_a, double ra, double phi_q, double theta_q, double rq)\n",
    "\n",
    "def gradient_sphere_mass_integrand(r0, q, theta_a, ra, phi_q, theta_q, rq):\n",
    "    cdef double _r0      = r0\n",
    "    cdef double _q       = q\n",
    "    cdef double _theta_a = theta_a\n",
    "    cdef double _ra      = ra\n",
    "    cdef double _phi_q   = phi_q\n",
    "    cdef double _theta_q = theta_q\n",
    "    cdef double _rq      = rq\n",
    "    return Ia(_r0, _q, _theta_a, _ra, _phi_q, _theta_q, _rq)"
   ]
  },
  {
   "cell_type": "code",
   "execution_count": 3,
   "metadata": {},
   "outputs": [],
   "source": [
    "%%cython\n",
    "cdef extern from \"numerical_integrators/cuba/calc_gradient_sphere_mass_a.c\":\n",
    "    # интегрирование по координатам точек наблюдения\n",
    "    double Ia (double r0, double q, double theta_a, double ra, double phi_q, double theta_q, double rq, double c, double a)\n",
    "\n",
    "def gradient_sphere_mass_a_integrand(r0, q, c, a, theta_a, ra, phi_q, theta_q, rq):\n",
    "    cdef double _r0      = r0\n",
    "    cdef double _q       = q\n",
    "    cdef double _theta_a = theta_a\n",
    "    cdef double _ra      = ra\n",
    "    cdef double _phi_q   = phi_q\n",
    "    cdef double _theta_q = theta_q\n",
    "    cdef double _rq      = rq\n",
    "    cdef double _c       = c\n",
    "    cdef double _a       = a\n",
    "\n",
    "    return Ia(_r0, _q, _theta_a, _ra, _phi_q, _theta_q, _rq, _c, _a)"
   ]
  },
  {
   "cell_type": "code",
   "execution_count": 4,
   "metadata": {},
   "outputs": [],
   "source": [
    "%%cython\n",
    "cdef extern from \"numerical_integrators/cuba/calc_gradient_sphere_mass_fermi.c\":\n",
    "    # интегрирование по координатам точек наблюдения\n",
    "    double Ia (double r0, double q, double theta_a, double ra, double phi_q, double theta_q, double rq, double c, double a)\n",
    "\n",
    "def gradient_sphere_mass_fermi_integrand(r0, q, c, a, theta_a, ra, phi_q, theta_q, rq):\n",
    "    cdef double _r0      = r0\n",
    "    cdef double _q       = q\n",
    "    cdef double _theta_a = theta_a\n",
    "    cdef double _ra      = ra\n",
    "    cdef double _phi_q   = phi_q\n",
    "    cdef double _theta_q = theta_q\n",
    "    cdef double _rq      = rq\n",
    "    cdef double _c       = c\n",
    "    cdef double _a       = a\n",
    "\n",
    "    return Ia(_r0, _q, _theta_a, _ra, _phi_q, _theta_q, _rq, _c, _a)"
   ]
  },
  {
   "cell_type": "code",
   "execution_count": 5,
   "metadata": {},
   "outputs": [],
   "source": [
    "%%cython\n",
    "cdef extern from \"numerical_integrators/cuba/calc_inductive_sphere_mass.c\":\n",
    "    # интегрирование по координатам точек наблюдения\n",
    "    double Ia (double r0, double q, double theta_a, double ra, double phi_q, double theta_q, double rq)\n",
    "\n",
    "def inductive_sphere_mass_integrand(r0, q, theta_a, ra, phi_q, theta_q, rq):\n",
    "    cdef double _r0      = r0\n",
    "    cdef double _q       = q\n",
    "    cdef double _theta_a = theta_a\n",
    "    cdef double _ra      = ra\n",
    "    cdef double _phi_q   = phi_q\n",
    "    cdef double _theta_q = theta_q\n",
    "    cdef double _rq      = rq\n",
    "    return Ia(_r0, _q, _theta_a, _ra, _phi_q, _theta_q, _rq)"
   ]
  },
  {
   "cell_type": "code",
   "execution_count": 6,
   "metadata": {},
   "outputs": [],
   "source": [
    "%%cython\n",
    "# Приближение малых скоростей с учётом запаздывания\n",
    "cdef extern from \"numerical_integrators/cuba/calc_inductive_sphere_mass_a.c\":\n",
    "    # интегрирование по координатам точек наблюдения\n",
    "    double Ia (double r0, double q, double theta_a, double ra, double phi_q, double theta_q, double rq, double c, double a)\n",
    "\n",
    "def inductive_sphere_mass_a_integrand(r0, q, c, a, theta_a, ra, phi_q, theta_q, rq):\n",
    "    cdef double _r0      = r0\n",
    "    cdef double _q       = q\n",
    "    cdef double _theta_a = theta_a\n",
    "    cdef double _ra      = ra\n",
    "    cdef double _phi_q   = phi_q\n",
    "    cdef double _theta_q = theta_q\n",
    "    cdef double _rq      = rq\n",
    "    cdef double _c       = c\n",
    "    cdef double _a       = a\n",
    "    return Ia(_r0, _q, _theta_a, _ra, _phi_q, _theta_q, _rq, _c, _a)"
   ]
  },
  {
   "cell_type": "code",
   "execution_count": 7,
   "metadata": {},
   "outputs": [],
   "source": [
    "%%cython\n",
    "# Приближение малых скоростей с учётом запаздывания\n",
    "cdef extern from \"numerical_integrators/cuba/calc_inductive_sphere_mass_fermi.c\":\n",
    "    # интегрирование по координатам точек наблюдения\n",
    "    double Ia (double r0, double q, double theta_a, double ra, double phi_q, double theta_q, double rq, double c, double a)\n",
    "\n",
    "def inductive_sphere_mass_fermi_integrand(r0, q, c, a, theta_a, ra, phi_q, theta_q, rq):\n",
    "    cdef double _r0      = r0\n",
    "    cdef double _q       = q\n",
    "    cdef double _theta_a = theta_a\n",
    "    cdef double _ra      = ra\n",
    "    cdef double _phi_q   = phi_q\n",
    "    cdef double _theta_q = theta_q\n",
    "    cdef double _rq      = rq\n",
    "    cdef double _c       = c\n",
    "    cdef double _a       = a\n",
    "    return Ia(_r0, _q, _theta_a, _ra, _phi_q, _theta_q, _rq, _c, _a)"
   ]
  },
  {
   "cell_type": "code",
   "execution_count": 8,
   "metadata": {},
   "outputs": [],
   "source": [
    "from scipy import integrate as scipy_integrate\n",
    "import numpy as np\n",
    "gradient_coulomb_sphere_mass = lambda r0, q : scipy_integrate.nquad(lambda theta_a, ra, phi_q, theta_q, rq : \\\n",
    "                                  gradient_coulomb_sphere_mass_integrand(r0, q, theta_a, ra, phi_q, theta_q, rq), \\\n",
    "                                  [ [0, np.pi], [0, r0], [0, 2*np.pi],  [0, np.pi],  [0, r0]])#, opts=nquad_opts)\n",
    "#                                    theta_a,    ra,       phi_q,        theta_q,      rq"
   ]
  },
  {
   "cell_type": "code",
   "execution_count": 9,
   "metadata": {},
   "outputs": [],
   "source": [
    "from scipy import integrate as scipy_integrate\n",
    "import numpy as np\n",
    "gradient_sphere_mass = lambda r0, q : scipy_integrate.nquad(lambda theta_a, ra, phi_q, theta_q, rq : \\\n",
    "                                  gradient_sphere_mass_integrand(r0, q, theta_a, ra, phi_q, theta_q, rq), \\\n",
    "                                  [ [0, np.pi], [0, r0], [0, 2*np.pi],  [0, np.pi],  [0, r0]])#, opts=nquad_opts)\n",
    "#                                    theta_a,    ra,       phi_q,        theta_q,      rq"
   ]
  },
  {
   "cell_type": "code",
   "execution_count": 10,
   "metadata": {},
   "outputs": [],
   "source": [
    "from scipy import integrate as scipy_integrate\n",
    "import numpy as np\n",
    "gradient_sphere_mass_on_a = lambda r0, q, c, a : scipy_integrate.nquad(lambda theta_a, ra, phi_q, theta_q, rq : \\\n",
    "                                  gradient_sphere_mass_a_integrand(r0, q, c, a, theta_a, ra, phi_q, theta_q, rq), \\\n",
    "                                  [ [0, np.pi], [0, r0], [0, 2*np.pi],  [0, np.pi],  [0, r0]])#, opts=nquad_opts)\n",
    "#                                    theta_a,    ra,       phi_q,        theta_q,      rq"
   ]
  },
  {
   "cell_type": "code",
   "execution_count": 11,
   "metadata": {},
   "outputs": [],
   "source": [
    "from scipy import integrate as scipy_integrate\n",
    "import numpy as np\n",
    "gradient_sphere_mass_fermi = lambda r0, q, c, a : scipy_integrate.nquad(lambda theta_a, ra, phi_q, theta_q, rq : \\\n",
    "                                  gradient_sphere_mass_fermi_integrand(r0, q, c, a, theta_a, ra, phi_q, theta_q, rq), \\\n",
    "                                  [ [0, np.pi], [0, r0], [0, 2*np.pi],  [0, np.pi],  [0, r0]])#, opts=nquad_opts)\n",
    "#                                    theta_a,    ra,       phi_q,        theta_q,      rq"
   ]
  },
  {
   "cell_type": "code",
   "execution_count": 12,
   "metadata": {},
   "outputs": [],
   "source": [
    "from scipy import integrate as scipy_integrate\n",
    "import numpy as np\n",
    "inductive_sphere_mass = lambda r0, q : scipy_integrate.nquad(lambda theta_a, ra, phi_q, theta_q, rq : \\\n",
    "                                  inductive_sphere_mass_integrand(r0, q, theta_a, ra, phi_q, theta_q, rq), \\\n",
    "                                  [ [0, np.pi], [0, r0], [0, 2*np.pi],  [0, np.pi],  [0, r0]])#, opts=nquad_opts)\n",
    "#                                    theta_a,    ra,       phi_q,        theta_q,      rq"
   ]
  },
  {
   "cell_type": "code",
   "execution_count": 13,
   "metadata": {},
   "outputs": [],
   "source": [
    "from scipy import integrate as scipy_integrate\n",
    "inductive_sphere_mass_on_a = lambda r0, q, c, a : scipy_integrate.nquad(lambda theta_a, ra, phi_q, theta_q, rq : \\\n",
    "                                  inductive_sphere_mass_a_integrand(r0, q, c, a, theta_a, ra, phi_q, theta_q, rq), \\\n",
    "                                  [ [0, np.pi], [0, r0], [0, 2*np.pi],  [0, np.pi],  [0, r0]], opts=nquad_opts)\n",
    "#                                    theta_a,    ra,       phi_q,        theta_q,      rq"
   ]
  },
  {
   "cell_type": "code",
   "execution_count": 14,
   "metadata": {},
   "outputs": [],
   "source": [
    "from scipy import integrate as scipy_integrate\n",
    "inductive_sphere_mass_fermi = lambda r0, q, c, a : scipy_integrate.nquad(lambda theta_a, ra, phi_q, theta_q, rq : \\\n",
    "                                  inductive_sphere_mass_fermi_integrand(r0, q, c, a, theta_a, ra, phi_q, theta_q, rq), \\\n",
    "                                  [ [0, np.pi], [0, r0], [0, 2*np.pi],  [0, np.pi],  [0, r0]], opts=nquad_opts)\n",
    "#                                    theta_a,    ra,       phi_q,        theta_q,      rq"
   ]
  },
  {
   "cell_type": "code",
   "execution_count": 60,
   "metadata": {},
   "outputs": [
    {
     "name": "stderr",
     "output_type": "stream",
     "text": [
      "/usr3/articles/sagemath_docker_build/sage/local/lib/python3.10/site-packages/scipy/integrate/quadpack.py:879: IntegrationWarning: The algorithm does not converge.  Roundoff error is detected\n",
      "  in the extrapolation table.  It is assumed that the requested tolerance\n",
      "  cannot be achieved, and that the returned result (if full_output = 1) is \n",
      "  the best which can be obtained.\n",
      "  quad_r = quad(f, low, high, args=args, full_output=self.full_output,\n"
     ]
    },
    {
     "data": {
      "text/plain": [
       "(0.3999999998324903, 4.54804878027501e-07)"
      ]
     },
     "execution_count": 60,
     "metadata": {},
     "output_type": "execute_result"
    }
   ],
   "source": [
    "gradient_sphere_mass(1,1)"
   ]
  },
  {
   "cell_type": "code",
   "execution_count": 65,
   "metadata": {},
   "outputs": [
    {
     "data": {
      "text/plain": [
       "1.33333333333333"
      ]
     },
     "execution_count": 65,
     "metadata": {},
     "output_type": "execute_result"
    }
   ],
   "source": [
    "_gradient_sphere_mass = 0.4\n",
    "_inductive_sphere_mass = 1.2\n",
    "_electrostatic_energy = 1.2\n",
    "(0.4+1.2)/1.2"
   ]
  },
  {
   "cell_type": "code",
   "execution_count": 63,
   "metadata": {},
   "outputs": [
    {
     "data": {
      "text/plain": [
       "4/3"
      ]
     },
     "execution_count": 63,
     "metadata": {},
     "output_type": "execute_result"
    }
   ],
   "source": [
    "(4+12)/12"
   ]
  },
  {
   "cell_type": "markdown",
   "metadata": {},
   "source": [
    "$^3$ Обычно говорят, что электромагнитная масса равномерно заряженного сферического слоя с общим зарадом $e$ и радиусом $r$ равна $\\frac{2}{3} \\frac{e^2}{r c^2}$; если же заметить, что электростатическая энергия $u = \\frac{1}{2} \\frac{e^2}{r}$, то для массы находим как раз $\\left(\\frac{4}{3}\\right) \\frac{u}{c^2}$."
   ]
  },
  {
   "cell_type": "markdown",
   "metadata": {},
   "source": [
    "$^3$ Обычно говорят, что электромагнитная масса равномерно заряженной сферы с общим зарадом $e$ и радиусом $r$ равна $\\frac{8}{5} \\frac{e^2}{r c^2}$; если же заметить, что электростатическая энергия $u = \\frac{6}{5} \\frac{e^2}{r}$, то для массы находим как раз $\\left(\\frac{4}{3}\\right) \\frac{u}{c^2}$."
   ]
  },
  {
   "cell_type": "code",
   "execution_count": 56,
   "metadata": {},
   "outputs": [
    {
     "data": {
      "text/plain": [
       "(1.1999999997980622, 8.128824378894617e-08)"
      ]
     },
     "execution_count": 56,
     "metadata": {},
     "output_type": "execute_result"
    }
   ],
   "source": [
    "inductive_sphere_mass(1,1)\n",
    "# (1.1999998963704677, 0.005411660477942615)\n",
    "# (1.1999999997980622, 8.128824378894617e-08)"
   ]
  },
  {
   "cell_type": "code",
   "execution_count": 16,
   "metadata": {},
   "outputs": [
    {
     "name": "stderr",
     "output_type": "stream",
     "text": [
      "/usr3/articles/sagemath_docker_build/sage/local/lib/python3.10/site-packages/scipy/integrate/quadpack.py:879: IntegrationWarning: The algorithm does not converge.  Roundoff error is detected\n",
      "  in the extrapolation table.  It is assumed that the requested tolerance\n",
      "  cannot be achieved, and that the returned result (if full_output = 1) is \n",
      "  the best which can be obtained.\n",
      "  quad_r = quad(f, low, high, args=args, full_output=self.full_output,\n"
     ]
    },
    {
     "data": {
      "text/plain": [
       "(0.3999999998324903, 4.54804878027501e-07)"
      ]
     },
     "execution_count": 16,
     "metadata": {},
     "output_type": "execute_result"
    }
   ],
   "source": [
    "gradient_sphere_mass(1,1)"
   ]
  },
  {
   "cell_type": "raw",
   "metadata": {},
   "source": [
    "gradient_coulomb_sphere_mass(1,1)"
   ]
  },
  {
   "cell_type": "code",
   "execution_count": 64,
   "metadata": {},
   "outputs": [
    {
     "data": {
      "text/plain": [
       "(1.1999998963704677, 0.005411660477942615)"
      ]
     },
     "execution_count": 64,
     "metadata": {},
     "output_type": "execute_result"
    }
   ],
   "source": [
    "inductive_sphere_mass(1,1)\n",
    "# (1.1999998963704677, 0.005411660477942615)"
   ]
  },
  {
   "cell_type": "code",
   "execution_count": 22,
   "metadata": {},
   "outputs": [
    {
     "name": "stdout",
     "output_type": "stream",
     "text": [
      "m_grad_coulomb_fermi =  0.400000000000000\n"
     ]
    }
   ],
   "source": [
    "# m_grad_coulomb_fermi = gradient_sphere_mass(r0 = 1, q = 1)[0]\n",
    "m_grad_coulomb_fermi = 0.4\n",
    "print(\"m_grad_coulomb_fermi = \", m_grad_coulomb_fermi)"
   ]
  },
  {
   "cell_type": "code",
   "execution_count": 23,
   "metadata": {},
   "outputs": [],
   "source": [
    "def mass_hysteresis(a):\n",
    "    print(\"a =\", a)\n",
    "    m_ind = inductive_sphere_mass_on_a(r0 = 1, q = 1, c = 1, a = a)\n",
    "    print(\"m_ind = \",  m_ind)\n",
    "    m_grad = gradient_sphere_mass_on_a(r0 = 1, q = 1, c = 1, a = a)\n",
    "    print(\"m_grad = \", m_grad)\n",
    "    m = (m_ind[0] + m_grad[0] - m_grad_coulomb_fermi) / 6 * 5\n",
    "    print(\"a =\", a, \"m =\", m)\n",
    "    return m"
   ]
  },
  {
   "cell_type": "code",
   "execution_count": 24,
   "metadata": {},
   "outputs": [],
   "source": [
    "def mass_hysteresis_fermi(a):\n",
    "    # print(\"a =\", a)\n",
    "    m_ind_fermi = inductive_sphere_mass_fermi(r0 = 1, q = 1, c = 1, a = a)\n",
    "    print(\"m_ind_fermi = \",  m_ind_fermi)\n",
    "    m_grad_fermi = gradient_sphere_mass_fermi(r0 = 1, q = 1, c = 1, a = a)\n",
    "    print(\"m_grad_fermi = \", m_grad_fermi)\n",
    "    m = (m_ind_fermi[0] + m_grad_fermi[0] - m_grad_coulomb_fermi) / 6 * 5\n",
    "    print(\"a =\", a, \"m =\", m)\n",
    "    return m"
   ]
  },
  {
   "cell_type": "raw",
   "metadata": {},
   "source": [
    "mass_hysteresis_fermi_array = []\n",
    "for a in [0.05, 0.06, 0.07, 0.08, 0.09, 0.1, 0.11, 0.12, 0.13, 0.14, 0.15, 0.2, 0.25]:\n",
    "    m_f = mass_hysteresis_fermi(a)\n",
    "    mass_hysteresis_fermi_array += [(a, m_f)]"
   ]
  },
  {
   "cell_type": "code",
   "execution_count": 25,
   "metadata": {},
   "outputs": [
    {
     "name": "stdout",
     "output_type": "stream",
     "text": [
      "a = 0.0500000000000000\n",
      "m_ind =  (1.1995701225903943, 0.005411670190957452)\n",
      "m_grad =  (0.3998709652299156, 3.255951022947786e-05)\n",
      "a = 0.0500000000000000 m = 0.999534239850258\n",
      "m_ind_fermi =  (1.1991408320910102, 0.005411670850874906)\n",
      "m_grad_fermi =  (0.39909926222040615, 3.2559115862621964e-05)\n",
      "a = 0.0500000000000000 m = 0.998533411926180\n",
      "a = 0.0600000000000000\n",
      "m_ind =  (1.1993802561474989, 0.005411663560736635)\n",
      "m_grad =  (0.3998138928211004, 1.317235598346435e-05)\n",
      "a = 0.0600000000000000 m = 0.999328457473833\n",
      "m_ind_fermi =  (1.198761617732484, 0.005411664511406844)\n",
      "m_grad_fermi =  (0.3987024644518463, 1.3172284822050604e-05)\n",
      "a = 0.0600000000000000 m = 0.997886735153609\n",
      "a = 0.0700000000000000\n",
      "m_ind =  (1.1991552545400774, 0.005411665456307002)\n",
      "m_grad =  (0.39974620539208905, 8.393910613574253e-06)\n",
      "a = 0.0700000000000000 m = 0.999084549943472\n",
      "m_ind_fermi =  (1.1983124741199478, 0.005411666750468225)\n",
      "m_grad_fermi =  (0.3982331423376702, 8.39380534920578e-06)\n",
      "a = 0.0700000000000000 m = 0.997121347048015\n",
      "a = 0.0800000000000000\n",
      "m_ind =  (1.1988948019023131, 0.005411665018240086)\n",
      "m_grad =  (0.3996677793443576, 8.386621997517323e-06)\n",
      "a = 0.0800000000000000 m = 0.998802151038892\n",
      "m_ind_fermi =  (1.1977928965388092, 0.005411666708227791)\n",
      "m_grad_fermi =  (0.39769109910585815, 8.386601351472752e-06)\n",
      "a = 0.0800000000000000 m = 0.996236663037223\n",
      "a = 0.0900000000000000\n",
      "m_ind =  (1.1985985235960306, 0.005411660075696378)\n",
      "m_grad =  (0.399578468293125, 5.676251895371013e-06)\n",
      "a = 0.0900000000000000 m = 0.998480826574296\n",
      "m_ind_fermi =  (1.1972022885649987, 0.005411662216554092)\n",
      "m_grad_fermi =  (0.39707610189920983, 5.676181000338429e-06)\n",
      "a = 0.0900000000000000 m = 0.995231992053507\n",
      "a = 0.100000000000000\n",
      "m_ind =  (1.1982659892561969, 0.005411660537869789)\n",
      "m_grad =  (0.39947810151789714, 4.4437358672138336e-06)\n",
      "a = 0.100000000000000 m = 0.998120075645079\n",
      "m_ind_fermi =  (1.1965399591803991, 0.005411663180552306)\n",
      "m_grad_fermi =  (0.3963878789970253, 4.4437535411935865e-06)\n",
      "a = 0.100000000000000 m = 0.994106531814520\n",
      "a = 0.110000000000000\n",
      "m_ind =  (1.1978966987004844, 0.005411663449196524)\n",
      "m_grad =  (0.39936648154491894, 2.7784828631723927e-06)\n",
      "a = 0.110000000000000 m = 0.997719316871170\n",
      "m_ind_fermi =  (1.195805114585354, 0.00541166664692927)\n",
      "m_grad_fermi =  (0.3956261163224023, 2.778462627354663e-06)\n",
      "a = 0.110000000000000 m = 0.992859359089797\n",
      "a = 0.120000000000000\n",
      "m_ind =  (1.1974900838143854, 0.005411662279436236)\n",
      "m_grad =  (0.39924338156297917, 2.706367400336144e-06)\n",
      "a = 0.120000000000000 m = 0.997277887814471\n",
      "m_ind_fermi =  (1.194996849869706, 0.0054116660843517295)\n",
      "m_grad_fermi =  (0.39479045326978807, 2.7063235413034173e-06)\n",
      "a = 0.120000000000000 m = 0.991489419282912\n",
      "a = 0.130000000000000\n",
      "m_ind =  (1.1970454987130035, 0.005411664729052745)\n",
      "m_grad =  (0.39910854215277786, 2.1624016118701877e-06)\n",
      "a = 0.130000000000000 m = 0.996795034054818\n",
      "m_ind_fermi =  (1.1941141364890326, 0.005411669194820501)\n",
      "m_grad_fermi =  (0.39388047750743027, 2.1623701442335286e-06)\n",
      "a = 0.130000000000000 m = 0.989995511663719\n",
      "a = 0.140000000000000\n",
      "m_ind =  (1.1965622131034968, 0.00541166289263062)\n",
      "m_grad =  (0.3989616672360388, 1.688943830779669e-06)\n",
      "a = 0.140000000000000 m = 0.996269900282946\n",
      "m_ind_fermi =  (1.1931558142791236, 0.005411668071548803)\n",
      "m_grad_fermi =  (0.3928957187473106, 1.6889848585403305e-06)\n",
      "a = 0.140000000000000 m = 0.988376277522028\n",
      "a = 0.150000000000000\n",
      "m_ind =  (1.1960394008521256, 0.005411663293528157)\n",
      "m_grad =  (0.39880241910983405, 1.0322689017596194e-06)\n",
      "a = 0.150000000000000 m = 0.995701516634966\n",
      "m_ind_fermi =  (1.19212056598166, 0.005411669239311134)\n",
      "m_grad_fermi =  (0.39183564088138906, 1.0322692439080733e-06)\n",
      "a = 0.150000000000000 m = 0.986630172385874\n",
      "a = 0.200000000000000\n",
      "m_ind =  (1.1927949914577507, 0.005411664969900087)\n",
      "m_grad =  (0.39780490139544106, 4.54808978062049e-07)\n",
      "a = 0.200000000000000 m = 0.992166577377660\n",
      "m_ind_fermi =  (1.185731268570488, 0.005411675540608396)\n",
      "m_grad_fermi =  (0.3853806229848659, 4.548060077089189e-07)\n",
      "a = 0.200000000000000 m = 0.975926576296128\n",
      "a = 0.250000000000000\n",
      "m_ind =  (1.1883474248035728, 0.005411667719436686)\n",
      "m_grad =  (0.3964043334136757, 4.54809892448671e-07)\n",
      "a = 0.250000000000000 m = 0.987293131847707\n",
      "m_ind_fermi =  (1.1770802270999738, 0.005411684235890668)\n",
      "m_grad_fermi =  (0.37689470566837635, 4.54806179120415e-07)\n",
      "a = 0.250000000000000 m = 0.961645777306959\n"
     ]
    }
   ],
   "source": [
    "mass_hysteresis_array = []\n",
    "mass_hysteresis_lw_array = []\n",
    "mass_hysteresis_fermi_array = []\n",
    "for a in [0.05, 0.06, 0.07, 0.08, 0.09, 0.1, 0.11, 0.12, 0.13, 0.14, 0.15, 0.2, 0.25]:\n",
    "    m = mass_hysteresis(a)\n",
    "    m_f = mass_hysteresis_fermi(a)\n",
    "    mass_hysteresis_array += [(a, m, m_f)]\n",
    "    mass_hysteresis_lw_array += [(a, m)]\n",
    "    mass_hysteresis_fermi_array += [(a, m_f)]"
   ]
  },
  {
   "cell_type": "code",
   "execution_count": 27,
   "metadata": {},
   "outputs": [
    {
     "data": {
      "text/plain": [
       "[(0.0500000000000000, 0.999534239850258, 0.998533411926180),\n",
       " (0.0600000000000000, 0.999328457473833, 0.997886735153609),\n",
       " (0.0700000000000000, 0.999084549943472, 0.997121347048015),\n",
       " (0.0800000000000000, 0.998802151038892, 0.996236663037223),\n",
       " (0.0900000000000000, 0.998480826574296, 0.995231992053507),\n",
       " (0.100000000000000, 0.998120075645079, 0.994106531814520),\n",
       " (0.110000000000000, 0.997719316871170, 0.992859359089797),\n",
       " (0.120000000000000, 0.997277887814471, 0.991489419282912),\n",
       " (0.130000000000000, 0.996795034054818, 0.989995511663719),\n",
       " (0.140000000000000, 0.996269900282946, 0.988376277522028),\n",
       " (0.150000000000000, 0.995701516634966, 0.986630172385874),\n",
       " (0.200000000000000, 0.992166577377660, 0.975926576296128),\n",
       " (0.250000000000000, 0.987293131847707, 0.961645777306959)]"
      ]
     },
     "execution_count": 27,
     "metadata": {},
     "output_type": "execute_result"
    }
   ],
   "source": [
    "mass_hysteresis_array"
   ]
  },
  {
   "cell_type": "code",
   "execution_count": 1,
   "metadata": {},
   "outputs": [
    {
     "ename": "NameError",
     "evalue": "name 'mass_hysteresis_lw_array' is not defined",
     "output_type": "error",
     "traceback": [
      "\u001b[0;31m---------------------------------------------------------------------------\u001b[0m",
      "\u001b[0;31mNameError\u001b[0m                                 Traceback (most recent call last)",
      "\u001b[0;32m/tmp/ipykernel_2877/2279451345.py\u001b[0m in \u001b[0;36m<module>\u001b[0;34m\u001b[0m\n\u001b[0;32m----> 1\u001b[0;31m \u001b[0;34m(\u001b[0m\u001b[0mlist_plot\u001b[0m\u001b[0;34m(\u001b[0m\u001b[0mmass_hysteresis_lw_array\u001b[0m\u001b[0;34m)\u001b[0m \u001b[0;34m+\u001b[0m \u001b[0mlist_plot\u001b[0m\u001b[0;34m(\u001b[0m\u001b[0mmass_hysteresis_fermi_array\u001b[0m\u001b[0;34m,\u001b[0m \u001b[0mcolor\u001b[0m\u001b[0;34m=\u001b[0m\u001b[0;34m\"green\"\u001b[0m\u001b[0;34m)\u001b[0m\u001b[0;34m)\u001b[0m\u001b[0;34m.\u001b[0m\u001b[0mshow\u001b[0m\u001b[0;34m(\u001b[0m\u001b[0mtitle\u001b[0m \u001b[0;34m=\u001b[0m \u001b[0;34m\"Зависимость продольной электромагнитной массы от ускорения в приближении малых скоростей с учётом запаздывания. Синий график без учёта поправки Ферми. Зелёный график с учётом поправки Ферми\"\u001b[0m\u001b[0;34m)\u001b[0m\u001b[0;34m\u001b[0m\u001b[0;34m\u001b[0m\u001b[0m\n\u001b[0m",
      "\u001b[0;31mNameError\u001b[0m: name 'mass_hysteresis_lw_array' is not defined"
     ]
    }
   ],
   "source": [
    "(list_plot(mass_hysteresis_lw_array) + list_plot(mass_hysteresis_fermi_array, color=\"green\")).show(title = \"Зависимость продольной электромагнитной массы от ускорения в приближении малых скоростей с учётом запаздывания. Синий график без учёта поправки Ферми. Зелёный график с учётом поправки Ферми\")"
   ]
  },
  {
   "cell_type": "code",
   "execution_count": 76,
   "metadata": {},
   "outputs": [],
   "source": [
    "va = [ \n",
    "    0.0001,\n",
    "     0.001,\n",
    "     0.01,\n",
    "     0.1,\n",
    "     0.2,\n",
    "     0.3,\n",
    "     0.4,\n",
    "     0.5,\n",
    "     0.6,\n",
    "     0.7,\n",
    "     0.8,\n",
    "     0.9,\n",
    "     1.0,\n",
    "     2.0,\n",
    "     5.0,\n",
    "     10.0,\n",
    "     100.0,\n",
    "     1000.0,\n",
    "     1250.0,\n",
    "     1500.0,\n",
    "     1750.0,\n",
    "     2000.0,\n",
    "     2100.0\n",
    "    ]"
   ]
  },
  {
   "cell_type": "code",
   "execution_count": null,
   "metadata": {},
   "outputs": [
    {
     "name": "stdout",
     "output_type": "stream",
     "text": [
      "0.000100000000000000 (inf, inf)\n",
      "0.00100000000000000 (inf, inf)\n",
      "0.0100000000000000 (inf, inf)\n",
      "0.100000000000000 (1.1982659892561969, 0.005411660537869789)\n",
      "0.200000000000000 (1.1927949914577507, 0.005411664969900087)\n"
     ]
    },
    {
     "name": "stderr",
     "output_type": "stream",
     "text": [
      "/usr3/articles/sagemath_docker_build/sage/local/lib/python3.10/site-packages/scipy/integrate/quadpack.py:879: IntegrationWarning: The maximum number of subdivisions (20) has been achieved.\n",
      "  If increasing the limit yields no improvement it is advised to analyze \n",
      "  the integrand in order to determine the difficulties.  If the position of a \n",
      "  local difficulty can be determined (singularity, discontinuity) one will \n",
      "  probably gain from splitting up the interval and calling the integrator \n",
      "  on the subranges.  Perhaps a special-purpose integrator should be used.\n",
      "  quad_r = quad(f, low, high, args=args, full_output=self.full_output,\n"
     ]
    },
    {
     "name": "stdout",
     "output_type": "stream",
     "text": [
      "0.300000000000000 (nan, 0.00665065085663652)\n"
     ]
    }
   ],
   "source": [
    "for a in va:\n",
    "    print(a, inductive_sphere_mass_on_a(1,1,1,a))"
   ]
  },
  {
   "cell_type": "code",
   "execution_count": 29,
   "metadata": {},
   "outputs": [
    {
     "name": "stderr",
     "output_type": "stream",
     "text": [
      "/usr3/articles/sagemath_docker_build/sage/local/lib/python3.10/site-packages/scipy/integrate/quadpack.py:879: IntegrationWarning: The occurrence of roundoff error is detected, which prevents \n",
      "  the requested tolerance from being achieved.  The error may be \n",
      "  underestimated.\n",
      "  quad_r = quad(f, low, high, args=args, full_output=self.full_output,\n",
      "/usr3/articles/sagemath_docker_build/sage/local/lib/python3.10/site-packages/scipy/integrate/quadpack.py:879: IntegrationWarning: The maximum number of subdivisions (50) has been achieved.\n",
      "  If increasing the limit yields no improvement it is advised to analyze \n",
      "  the integrand in order to determine the difficulties.  If the position of a \n",
      "  local difficulty can be determined (singularity, discontinuity) one will \n",
      "  probably gain from splitting up the interval and calling the integrator \n",
      "  on the subranges.  Perhaps a special-purpose integrator should be used.\n",
      "  quad_r = quad(f, low, high, args=args, full_output=self.full_output,\n",
      "/usr3/articles/sagemath_docker_build/sage/local/lib/python3.10/site-packages/scipy/integrate/quadpack.py:879: IntegrationWarning: The algorithm does not converge.  Roundoff error is detected\n",
      "  in the extrapolation table.  It is assumed that the requested tolerance\n",
      "  cannot be achieved, and that the returned result (if full_output = 1) is \n",
      "  the best which can be obtained.\n",
      "  quad_r = quad(f, low, high, args=args, full_output=self.full_output,\n"
     ]
    },
    {
     "name": "stdout",
     "output_type": "stream",
     "text": [
      "-0.200000000000000 (-0.3853806229848659, 5.061357680252008e-07)\n",
      "-0.100000000000000 (-0.3963878789970252, 4.23679882968413e-06)\n",
      "0.100000000000000 (0.3963878789970253, 4.4437535411935865e-06)\n",
      "0.200000000000000 (0.3853806229848659, 4.548060077089189e-07)\n"
     ]
    }
   ],
   "source": [
    "for a in [-0.2,-0.1, 0.1, 0.2]:\n",
    "    print(a, gradient_sphere_mass_fermi(1,1,1,a))"
   ]
  },
  {
   "cell_type": "code",
   "execution_count": null,
   "metadata": {},
   "outputs": [
    {
     "name": "stderr",
     "output_type": "stream",
     "text": [
      "/usr3/articles/sagemath_docker_build/sage/local/lib/python3.10/site-packages/scipy/integrate/quadpack.py:879: IntegrationWarning: The occurrence of roundoff error is detected, which prevents \n",
      "  the requested tolerance from being achieved.  The error may be \n",
      "  underestimated.\n",
      "  quad_r = quad(f, low, high, args=args, full_output=self.full_output,\n",
      "/usr3/articles/sagemath_docker_build/sage/local/lib/python3.10/site-packages/scipy/integrate/quadpack.py:879: IntegrationWarning: The maximum number of subdivisions (50) has been achieved.\n",
      "  If increasing the limit yields no improvement it is advised to analyze \n",
      "  the integrand in order to determine the difficulties.  If the position of a \n",
      "  local difficulty can be determined (singularity, discontinuity) one will \n",
      "  probably gain from splitting up the interval and calling the integrator \n",
      "  on the subranges.  Perhaps a special-purpose integrator should be used.\n",
      "  quad_r = quad(f, low, high, args=args, full_output=self.full_output,\n",
      "/usr3/articles/sagemath_docker_build/sage/local/lib/python3.10/site-packages/scipy/integrate/quadpack.py:879: IntegrationWarning: The algorithm does not converge.  Roundoff error is detected\n",
      "  in the extrapolation table.  It is assumed that the requested tolerance\n",
      "  cannot be achieved, and that the returned result (if full_output = 1) is \n",
      "  the best which can be obtained.\n",
      "  quad_r = quad(f, low, high, args=args, full_output=self.full_output,\n"
     ]
    },
    {
     "name": "stdout",
     "output_type": "stream",
     "text": [
      "-0.200000000000000 (-0.397804901395441, 5.061631976670979e-07)\n",
      "-0.100000000000000 (-0.3994781015178971, 4.236751755173836e-06)\n"
     ]
    }
   ],
   "source": [
    "for a in [-0.2,-0.1, 0.1, 0.2]:\n",
    "    print(a, gradient_sphere_mass_on_a(1,1,1,a))"
   ]
  },
  {
   "cell_type": "code",
   "execution_count": 11,
   "metadata": {},
   "outputs": [
    {
     "name": "stdout",
     "output_type": "stream",
     "text": [
      "-0.200000000000000 (-1.1927949914577507, 0.005411664970004448)\n",
      "-0.100000000000000 (-1.1982659892561969, 0.005411660536732477)\n",
      "0.100000000000000 (1.1982659892561969, 0.005411660537869789)\n",
      "0.200000000000000 (1.1927949914577507, 0.005411664969900087)\n"
     ]
    }
   ],
   "source": [
    "for a in [-0.2,-0.1, 0.1, 0.2]:\n",
    "    print(a, inductive_sphere_mass_on_a(1,1,1,a))"
   ]
  },
  {
   "cell_type": "code",
   "execution_count": 28,
   "metadata": {},
   "outputs": [
    {
     "name": "stdout",
     "output_type": "stream",
     "text": [
      "-0.200000000000000 (-1.1857312685704882, 0.005411675540702543)\n",
      "-0.100000000000000 (-1.1965399591803991, 0.0054116631793981185)\n",
      "0.100000000000000 (1.1965399591803991, 0.005411663180552306)\n",
      "0.200000000000000 (1.185731268570488, 0.005411675540608396)\n"
     ]
    }
   ],
   "source": [
    "for a in [-0.2,-0.1, 0.1, 0.2]:\n",
    "    print(a, inductive_sphere_mass_fermi(1,1,1,a))"
   ]
  },
  {
   "cell_type": "code",
   "execution_count": null,
   "metadata": {},
   "outputs": [],
   "source": [
    "for a in [-0.4, -0.3, -0.2, -0.1, 0.1, 0.2, 0.3, 0.4]:\n",
    "    print(a, inductive_sphere_mass_fermi(1,1,1,a))"
   ]
  },
  {
   "cell_type": "code",
   "execution_count": null,
   "metadata": {},
   "outputs": [],
   "source": [
    "# 0.000100000000000000 (inf, inf)\n",
    "# 0.00100000000000000 (inf, inf)\n",
    "# 0.0100000000000000 (inf, inf)\n",
    "# 0.100000000000000 (1.1982659892561969, 0.005411660537869789)\n",
    "# 0.200000000000000 (1.1927949914577507, 0.005411664969900087)"
   ]
  }
 ],
 "metadata": {
  "kernelspec": {
   "display_name": "SageMath 9.6.beta7",
   "language": "sage",
   "name": "sagemath"
  },
  "language_info": {
   "codemirror_mode": {
    "name": "ipython",
    "version": 3
   },
   "file_extension": ".py",
   "mimetype": "text/x-python",
   "name": "python",
   "nbconvert_exporter": "python",
   "pygments_lexer": "ipython3",
   "version": "3.10.3"
  }
 },
 "nbformat": 4,
 "nbformat_minor": 2
}
