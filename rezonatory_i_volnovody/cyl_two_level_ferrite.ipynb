{
 "cells": [
  {
   "cell_type": "code",
   "execution_count": null,
   "metadata": {},
   "outputs": [],
   "source": []
  },
  {
   "cell_type": "code",
   "execution_count": 1,
   "metadata": {},
   "outputs": [],
   "source": [
    "# %display latex"
   ]
  },
  {
   "cell_type": "code",
   "execution_count": 2,
   "metadata": {},
   "outputs": [],
   "source": [
    "from IPython.display import display, Math, Latex"
   ]
  },
  {
   "cell_type": "code",
   "execution_count": 3,
   "metadata": {},
   "outputs": [],
   "source": [
    "kappa = var(\"kappa\")\n",
    "\n",
    "z = var(\"z\")\n",
    "rh = var(\"rho\")\n",
    "ph = var(\"varphi\")\n",
    "\n",
    "c = var(\"c\")\n",
    "omega = var(\"omega\")\n",
    "\n",
    "a = var(\"a\")\n",
    "b = var(\"b\")\n",
    "\n",
    "m = var(\"m\")\n",
    "\n",
    "assume(kappa, \"real\")\n",
    "assume(kappa > 0)\n",
    "\n",
    "assume(z, \"real\")\n",
    "assume(rh, \"real\")\n",
    "assume(rh > 0)\n",
    "assume(ph, \"real\")\n",
    "\n",
    "assume(c, \"real\")\n",
    "assume(c > 0)\n",
    "assume(omega, \"real\")\n",
    "assume(omega > 0)\n",
    "\n",
    "assume(a, \"real\")\n",
    "assume(a > 0)\n",
    "assume(b, \"real\")\n",
    "assume(b > 0)\n",
    "\n",
    "assume(m, \"real\")\n",
    "assume(m >= 0)\n",
    "\n",
    "#Propulsion and Energy Forum\n",
    "#July 28-30, 2014, Cleveland, OH\n",
    "#50th AIAA/ASME/SAE/ASEE Joint Propulsion Conference\n",
    "#Anomalous Thrust Production from an RF Test Device\n",
    "#Measured on a Low-Thrust Torsion Pendulum\n",
    "#David A. Brady * , Harold G. White † , Paul March ‡ , James T. Lawrence § , and Frank J. Davies **\n",
    "#NASA Lyndon B. Johnson Space Center, Houston, Texas 77058\n",
    "\n",
    "\n",
    "#Tapered Cavity RF Evaluation and Testing, TE012 mode\n",
    "#Prior to the TM211 evaluations, COMSOL® analysis indicated that the TE012 was an effective thrust generation\n",
    "#mode for the tapered cavity thruster being evaluated, so this mode was explored early in the evaluation process.\n",
    "#Figure 22 shows a test run at the TE012 mode with an operating frequency of 1880.4 MHz. The measured quality\n",
    "#factor was ~22,000, with a COMSOL prediction of 21,817. The measured power applied to the test article was\n",
    "#measured to be 2.6 watts, and the (net) measured thrust was 55.4 micronewtons. With an input power of 2.6 watts,\n",
    "#correcting for the quality factor, the predicted thrust is 50 micronewtons. However, since the TE012 mode had\n",
    "#numerous other RF modes in very close proximity, it was impractical to repeatedly operate the system in this mode,\n",
    "#so the decision was made to evaluate the TM211 modes instead.\n",
    "\n",
    "#E. Tapered Cavity Testing: Summary of Results\n",
    "# Mode \n",
    "# Frequency (MHz)\n",
    "# Quality Factor, Q \n",
    "\n",
    "# Input Power (W) \n",
    "# Peak Thrust (μN) \n",
    "# Mean Thrust (μN) \n",
    "# Number of Test Runs\n",
    "# TM211 1932.6   7320  16.9  116.0   91.2  5\n",
    "# TM211 1936.7 18,100  16.7   54.1   50.1  2\n",
    "# TE012 1880.4 22,000   2.6   55.4   55.4  1\n",
    "\n",
    "# Harrington, Roger F. (1961). Time-Harmonic Electromagnetic Fields. McGraw-Hill. ISBN 9780070267459.\n",
    "\n",
    "# EEE TRANSACTIONS ON MICROWAVE THEORY AND TECHNIQUES, VOL. 54, NO. 4, APRIL 2006\n",
    "# Two-Resonator Method for Measurement of Dielectric Anisotropy in Multilayer SamplesPlamen I. Dankov, Member, IEEE\n",
    "# https://www.researchgate.net/publication/3131333_Two-resonator_method_for_measurement_of_dielectric_anisotropy_in_multilayer_samples\n",
    "\n",
    "m_val = 0\n",
    "n_val = 0\n",
    "h_val = 0\n",
    "\n",
    "E_mode = True\n",
    "n_layers = 2\n",
    "\n",
    "a_val = 5\n",
    "amplitude_variable_d = 1\n",
    "phi_arr = [0]#, pi/4, pi/2, 3*pi/4, pi, 5*pi/4, 3*pi/2, 7*pi/4, 2*pi]"
   ]
  },
  {
   "cell_type": "code",
   "execution_count": null,
   "metadata": {},
   "outputs": [],
   "source": []
  },
  {
   "cell_type": "code",
   "execution_count": 4,
   "metadata": {},
   "outputs": [],
   "source": [
    "def m_bessel_J_div_x (m, x):\n",
    "    if 0 == x:\n",
    "        if 1 == m:\n",
    "            return 1/2\n",
    "        return 0\n",
    "    return m * bessel_J(m, x)/(x)\n",
    "\n",
    "def bessel_J_diff(m, arg):\n",
    "    return bessel_J(m, x).diff(x).subs(x == arg)"
   ]
  },
  {
   "cell_type": "code",
   "execution_count": 5,
   "metadata": {},
   "outputs": [],
   "source": [
    "exec(preparse(\"bessel_J_d = lambda m, x: \" + str(bessel_J(m,x).diff(x)) +\"\"))"
   ]
  },
  {
   "cell_type": "code",
   "execution_count": 6,
   "metadata": {},
   "outputs": [],
   "source": [
    "def find_newton_root(f,x,xn, debug = False):\n",
    "    if debug:\n",
    "        print(\"find_newton_root f =\", f)\n",
    "    df = f.diff(x)\n",
    "    if debug:\n",
    "        print (\"df\", df)\n",
    "        print (\"f/df\", f/df)\n",
    "    step = 1.0\n",
    "    #NewtonIt = lambda x_, step : x_-step*(f/df).subs(x == x_)\n",
    "    #xn=(a+b)/2;                      # initial guess\n",
    "    \n",
    "    def NewtonIt(_x, step):\n",
    "        if debug:\n",
    "            print(\"_x\", _x)\n",
    "        delta = (f/df).subs(x == _x)\n",
    "        if debug:\n",
    "            print(\"delta\", delta)\n",
    "            print(\"step\", step)\n",
    "        step_delta = step*delta\n",
    "        if debug:\n",
    "            print(\"step_delta\", step_delta)\n",
    "\n",
    "        res = _x-step_delta\n",
    "        if debug:\n",
    "            print (\"_x-step_delta\", _x-step_delta)\n",
    "            print (\"res\", res)\n",
    "        return res\n",
    "    \n",
    "    if debug:\n",
    "        print (\"xn\", xn)\n",
    "    for i in range(20):\n",
    "        #xn=N(NewtonIt(xn, step), digits=32)\n",
    "        if float != type(xn):\n",
    "            xn = xn.n()\n",
    "        xn=NewtonIt(xn, step)\n",
    "        if float != type(xn):\n",
    "            xn = xn.n()\n",
    "        if debug:\n",
    "            print (\"xn\", xn)\n",
    "\n",
    "        if debug:\n",
    "            f_n = f.subs(x == xn)\n",
    "            print (\"f_n\", f_n)\n",
    "        #step *= 0.999\n",
    "\n",
    "    return xn"
   ]
  },
  {
   "cell_type": "code",
   "execution_count": 7,
   "metadata": {},
   "outputs": [],
   "source": [
    "tol=0.000000000001\n",
    "def find_root_recursive(func,a,b,tol=0.000000000001, debug = False):\n",
    "    if len(func.variables()) != 1:\n",
    "        print(\"find_root_recursive error func.variables()\", func.variables())\n",
    "        return\n",
    "    try:\n",
    "        free_variable = func.variables()[0]\n",
    "    except:\n",
    "        free_variable = x\n",
    "    if debug:\n",
    "        print(\"func.variables()\", func.variables())\n",
    "        print(\"free_variable\", free_variable)\n",
    "        print(\"func\", func(1))\n",
    "    L = []\n",
    "    if b - a < tol:\n",
    "        return L\n",
    "    try:\n",
    "        if debug:\n",
    "            print (\"a = \", a, \"b = \", b)\n",
    "            print (func(free_variable=a), func(free_variable=b))\n",
    "        \n",
    "        x0 = find_root(func,a,b)\n",
    "        if type(x0) is not float:\n",
    "            x0 = x0.n()\n",
    "        if debug:\n",
    "            print (\"x0 =\", x0, \"f(x0)=\", func(x=x0))\n",
    "\n",
    "        x0_newton_prec = find_newton_root(f=func, x=free_variable, xn=x0)\n",
    "        if type(x0_newton_prec) is not float:\n",
    "            x0_newton_prec = x0_newton_prec.n()\n",
    "    \n",
    "        if debug:\n",
    "            print (\"x0_newton_prec =\", x0_newton_prec, \"f(x0_newton_prec)=\", func(x=x0_newton_prec))\n",
    "        \n",
    "        L.append(x0_newton_prec)\n",
    "        \n",
    "        L += find_root_recursive(func,a,x0-tol,tol)       \n",
    "        L += find_root_recursive(func,x0+tol,b,tol)       \n",
    "    except Exception as ex:\n",
    "        if 'f appears to have no zero on the interval' != str(ex):\n",
    "            if debug:\n",
    "                print(str(ex))\n",
    "                print (\"a = \", a, \"b = \", b)\n",
    "                print (func(free_variable=a), func(free_variable=b))\n",
    "                exec(\"print(func(\" + preparse(str(free_variable)) + \"=a))\")\n",
    "                exec(\"print(func(\" + preparse(str(free_variable)) + \"=b))\")\n",
    "                plot(func, (free_variable, a, b)).show()\n",
    "            \n",
    "            xn = (a + b) / 2\n",
    "            if debug:\n",
    "                print(\"xn =\", xn)\n",
    "            x0 = find_newton_root(func, free_variable, xn, debug=False)\n",
    "            if type(x0) is not float:\n",
    "                x0 = x0.n()\n",
    "            if debug:\n",
    "                print(\"x0 found by Newton method =\", x0)\n",
    "            L.append(x0)\n",
    "        pass\n",
    "    return L"
   ]
  },
  {
   "cell_type": "code",
   "execution_count": 8,
   "metadata": {},
   "outputs": [
    {
     "data": {
      "text/plain": [
       "[2.40482555769577,\n",
       " 5.52007811028631,\n",
       " 8.65372791291101,\n",
       " 11.7915344390143,\n",
       " 14.9309177084878,\n",
       " 18.0710639679109,\n",
       " 21.2116366298793,\n",
       " 24.3524715307493,\n",
       " 27.4934791320403,\n",
       " 30.6346064684320,\n",
       " 33.7758202135736,\n",
       " 36.9170983536640,\n",
       " 40.0584257646282,\n",
       " 43.1997917131767,\n",
       " 46.3411883716618,\n",
       " 49.4826098973978]"
      ]
     },
     "execution_count": 8,
     "metadata": {},
     "output_type": "execute_result"
    }
   ],
   "source": [
    "#plot(bessel_J(m_val,x),0.1,50).show()\n",
    "first_bessel_roots = find_root_recursive(bessel_J(m_val,x),0.1,50)\n",
    "first_bessel_roots.sort()\n",
    "first_bessel_roots"
   ]
  },
  {
   "cell_type": "code",
   "execution_count": 9,
   "metadata": {},
   "outputs": [
    {
     "data": {
      "text/plain": [
       "[3.83170597020751,\n",
       " 7.01558666981562,\n",
       " 10.1734681350627,\n",
       " 13.3236919363142,\n",
       " 16.4706300508776,\n",
       " 19.6158585104682,\n",
       " 22.7600843805928,\n",
       " 25.9036720876184,\n",
       " 29.0468285349169,\n",
       " 32.1896799109744,\n",
       " 35.3323075500839,\n",
       " 38.4747662347716,\n",
       " 41.6170942128145,\n",
       " 44.7593189976528,\n",
       " 47.9014608871855]"
      ]
     },
     "execution_count": 9,
     "metadata": {},
     "output_type": "execute_result"
    }
   ],
   "source": [
    "#plot(bessel_J_d(m_val,x),0.1,50).show()\n",
    "first_bessel_d_roots = find_root_recursive(bessel_J_d(m_val,x),0.1,50)\n",
    "first_bessel_d_roots.sort()\n",
    "first_bessel_d_roots"
   ]
  },
  {
   "cell_type": "code",
   "execution_count": 10,
   "metadata": {},
   "outputs": [],
   "source": [
    "mu = []\n",
    "for i in range(n_layers):\n",
    "    exec(\"mu_\" + str(i) + \"= var('mu_\" + str(i) + \"')\")\n",
    "    exec(\"assume(mu_\" + str(i) + \", 'real')\")\n",
    "    exec(\"assume(mu_\" + str(i) + \" > 0)\")\n",
    "    exec(\"mu += [mu_\" + str(i) +\"]\")"
   ]
  },
  {
   "cell_type": "code",
   "execution_count": 11,
   "metadata": {},
   "outputs": [],
   "source": [
    "epsilon = []\n",
    "for i in range(n_layers):\n",
    "    exec(\"epsilon_\" + str(i) + \"= var('epsilon_\" + str(i) + \"')\")\n",
    "    exec(\"assume(epsilon_\" + str(i) + \", 'real')\")\n",
    "    exec(\"assume(epsilon_\" + str(i) + \" > 0)\")\n",
    "    exec(\"epsilon += [epsilon_\" + str(i) +\"]\")"
   ]
  },
  {
   "cell_type": "code",
   "execution_count": 12,
   "metadata": {},
   "outputs": [],
   "source": [
    "sigma = []\n",
    "for i in range(n_layers):\n",
    "    exec(\"sigma_\" + str(i) + \"= var('sigma_\" + str(i) + \"')\")\n",
    "    exec(\"assume(sigma_\" + str(i) + \", 'real')\")\n",
    "    exec(\"assume(sigma_\" + str(i) + \" > 0)\")\n",
    "    exec(\"sigma += [sigma_\" + str(i) +\"]\")"
   ]
  },
  {
   "cell_type": "code",
   "execution_count": 13,
   "metadata": {},
   "outputs": [],
   "source": [
    "g = []\n",
    "for i in range(n_layers):\n",
    "    exec(\"g_\" + str(i) + \"= var('g_\" + str(i) + \"')\")\n",
    "    exec(\"assume(g_\" + str(i) + \", 'real')\")\n",
    "    exec(\"assume(g_\" + str(i) + \" > 0)\")\n",
    "    exec(\"g += [g_\" + str(i) +\"]\")"
   ]
  },
  {
   "cell_type": "code",
   "execution_count": 14,
   "metadata": {},
   "outputs": [],
   "source": [
    "h = []\n",
    "for i in range(n_layers):\n",
    "    exec(\"h_\" + str(i) + \"= var('h_\" + str(i) + \"')\")\n",
    "    exec(\"assume(h_\" + str(i) + \", 'real')\")\n",
    "    exec(\"assume(h_\" + str(i) + \" > 0)\")\n",
    "    exec(\"h += [h_\" + str(i) +\"]\")"
   ]
  },
  {
   "cell_type": "code",
   "execution_count": 15,
   "metadata": {},
   "outputs": [],
   "source": [
    "A_z = []\n",
    "for i in range(n_layers):\n",
    "    exec(\"A_z_\" + str(i) + \"= var('A_z_\" + str(i) + \"')\")\n",
    "    exec(\"assume(A_z_\" + str(i) + \", 'real')\")\n",
    "    exec(\"A_z += [A_z_\" + str(i) +\"]\")"
   ]
  },
  {
   "cell_type": "code",
   "execution_count": 16,
   "metadata": {},
   "outputs": [],
   "source": [
    "B_z = []\n",
    "for i in range(n_layers):\n",
    "    exec(\"B_z_\" + str(i) + \"= var('B_z_\" + str(i) + \"')\")\n",
    "    exec(\"assume(B_z_\" + str(i) + \", 'real')\")\n",
    "    exec(\"B_z += [B_z_\" + str(i) +\"]\")"
   ]
  },
  {
   "cell_type": "code",
   "execution_count": 17,
   "metadata": {},
   "outputs": [],
   "source": [
    "C_z = []\n",
    "for i in range(n_layers):\n",
    "    exec(\"C_z_\" + str(i) + \"= var('C_z_\" + str(i) + \"')\")\n",
    "    exec(\"assume(C_z_\" + str(i) + \", 'real')\")\n",
    "    exec(\"C_z += [C_z_\" + str(i) +\"]\")"
   ]
  },
  {
   "cell_type": "code",
   "execution_count": 18,
   "metadata": {},
   "outputs": [],
   "source": [
    "D_z = []\n",
    "for i in range(n_layers):\n",
    "    exec(\"D_z_\" + str(i) + \"= var('D_z_\" + str(i) + \"')\")\n",
    "    exec(\"assume(D_z_\" + str(i) + \", 'real')\")\n",
    "    exec(\"D_z += [D_z_\" + str(i) +\"]\")"
   ]
  },
  {
   "cell_type": "code",
   "execution_count": 19,
   "metadata": {},
   "outputs": [],
   "source": [
    "k = []\n",
    "for i in range(n_layers):\n",
    "    exec(\"k_\" + str(i) + \"= var('k_\" + str(i) + \"')\")\n",
    "    exec(\"assume(k_\" + str(i) + \", 'real')\")\n",
    "    exec(\"k += [k_\" + str(i) +\"]\")"
   ]
  },
  {
   "cell_type": "code",
   "execution_count": 20,
   "metadata": {},
   "outputs": [],
   "source": [
    "sigma_m = []\n",
    "for i in range(2):\n",
    "    exec(\"sigma_m\" + str(i) + \"= var('sigma_m\" + str(i) + \"')\")\n",
    "    exec(\"assume(sigma_m\" + str(i) + \", 'real')\")\n",
    "    exec(\"assume(sigma_m\" + str(i) + \" > 0)\")\n",
    "    exec(\"sigma_m += [sigma_m\" + str(i) +\"]\")"
   ]
  },
  {
   "cell_type": "code",
   "execution_count": 21,
   "metadata": {},
   "outputs": [],
   "source": [
    "k_m = []\n",
    "for i in range(2):\n",
    "    exec(\"k_m\" + str(i) + \"= var('k_m\" + str(i) + \"')\")\n",
    "    exec(\"assume(k_m\" + str(i) + \", 'real')\")\n",
    "    exec(\"k_m += [k_m\" + str(i) +\"]\")"
   ]
  },
  {
   "cell_type": "code",
   "execution_count": 22,
   "metadata": {},
   "outputs": [],
   "source": [
    "s_m = []\n",
    "for i in range(2):\n",
    "    exec(\"s_m\" + str(i) + \"= var('s_m\" + str(i) + \"')\")\n",
    "    exec(\"assume(s_m\" + str(i) + \", 'real')\")\n",
    "    exec(\"s_m += [s_m\" + str(i) +\"]\")"
   ]
  },
  {
   "cell_type": "markdown",
   "metadata": {},
   "source": [
    "$\\vec{E} = \\vec{E}\\,e^{-i\\,\\omega\\,t}$\n",
    "\n",
    "$\\vec{H} = \\vec{H}\\,e^{-i\\,\\omega\\,t}$\n",
    "\n",
    "\n",
    "$rot\\,\\vec{E} = \\mu\\,\\frac{i\\,\\omega}{c}\\,\\vec{H}$\n",
    "\n",
    "$rot\\,\\vec{H} = - \\frac{i\\,\\omega}{c} \\epsilon_{\\alpha\\,\\beta} \\vec{E} + \\frac{4\\pi}{c}\\vec{j}$\n",
    "\n",
    "$rot\\,\\vec{H} = - \\frac{i\\,\\omega}{c} \\epsilon_{\\alpha\\,\\beta} \\vec{E} + \\frac{4\\pi}{c} \\sigma \\vec{E}$"
   ]
  },
  {
   "cell_type": "code",
   "execution_count": null,
   "metadata": {},
   "outputs": [],
   "source": []
  },
  {
   "cell_type": "markdown",
   "metadata": {},
   "source": [
    "$rot\\,rot\\,\\vec{E} = \\mu\\,\\frac{i\\,\\omega}{c}rot\\,\\vec{H}$\n",
    "\n",
    "$rot\\,rot\\,\\vec{E} = \\mu\\,\\frac{i\\,\\omega}{c}\\left(- \\frac{i\\,\\omega}{c} \\epsilon_{\\alpha\\,\\beta} \\vec{E}  + \\frac{4\\pi}{c} \\sigma \\vec{E} \\right)$\n",
    "\n",
    "$rot\\,rot\\,\\vec{E} = \\mu\\,\\frac{\\omega^2}{c^2} \\epsilon_{\\alpha\\,\\beta} \\vec{E} + \\mu\\,\\frac{4\\pi\\,i\\,\\omega}{c^2} \\sigma \\vec{E}$\n",
    "\n",
    "$rot\\,rot\\,\\vec{E} = \\mu\\,\\frac{\\omega^2}{c^2} \\left( \\epsilon_{\\alpha\\,\\beta} + 4\\pi\\,i\\frac{\\sigma}{\\omega}  \\right) \\vec{E} $\n"
   ]
  },
  {
   "cell_type": "code",
   "execution_count": null,
   "metadata": {},
   "outputs": [],
   "source": []
  },
  {
   "cell_type": "markdown",
   "metadata": {},
   "source": [
    "$rot\\,rot\\,\\vec{H} = - \\frac{i\\,\\omega}{c} \\epsilon_{\\alpha\\,\\beta} rot\\, \\vec{E}  + \\frac{4\\pi}{c} \\sigma rot\\,\\vec{E}$\n",
    "\n",
    "$rot\\,rot\\,\\vec{H} = \\left(- \\frac{i\\,\\omega}{c} \\epsilon_{\\alpha\\,\\beta} + \\frac{4\\pi}{c} \\sigma \\right) rot\\,\\vec{E}$\n",
    "\n",
    "$rot\\,rot\\,\\vec{H} = \\left(- \\frac{i\\,\\omega}{c} \\epsilon_{\\alpha\\,\\beta} + \\frac{4\\pi}{c} \\sigma \\right) \\mu\\,\\frac{i\\,\\omega}{c}\\,\\vec{H}$\n",
    "\n",
    "$rot\\,rot\\,\\vec{H} = \\mu\\,\\left(\\frac{\\omega^2}{c^2} \\epsilon_{\\alpha\\,\\beta} + i\\,\\frac{4\\pi\\omega}{c^2} \\sigma \\right)\\,\\vec{H}$\n",
    "\n",
    "$rot\\,rot\\,\\vec{H} = \\mu\\,\\frac{\\omega^2}{c^2}\\left(\\epsilon_{\\alpha\\,\\beta} + 4\\pi\\,i\\,\\frac{\\sigma}{\\omega}  \\right)\\,\\vec{H}$"
   ]
  },
  {
   "cell_type": "code",
   "execution_count": 23,
   "metadata": {},
   "outputs": [],
   "source": [
    "epsilon_complex = []\n",
    "for i in range(n_layers):\n",
    "    epsilon_complex += [epsilon[i] + I * 4 * pi * sigma[i] / omega]"
   ]
  },
  {
   "cell_type": "markdown",
   "metadata": {},
   "source": [
    "Ищем решение в виде\n",
    "\n",
    "$E_{z}\\left({\\rho}, {\\phi}, \\mathit{z}\\right) = E_{z}(\\rho)\\,E_{z}(\\phi)\\,E_{z}(z)$\n",
    "\n",
    "$H_{z}\\left({\\rho}, {\\phi}, \\mathit{z}\\right) = H_{z}(\\rho)\\,H_{z}(\\phi)\\,H_{z}(z)$\n",
    "\n",
    "\n",
    "подставляя в исходное уравнение"
   ]
  },
  {
   "cell_type": "code",
   "execution_count": 24,
   "metadata": {},
   "outputs": [
    {
     "data": {
      "text/latex": [
       "$\\displaystyle \\frac{\\epsilon_{0} \\mu_{0} \\omega^{2} E_{z}\\left({\\rho}, {\\phi}, \\mathit{zz}\\right)}{c^{2}} + \\frac{4 i \\, \\pi \\mu_{0} \\omega \\sigma_{0} E_{z}\\left({\\rho}, {\\phi}, \\mathit{zz}\\right)}{c^{2}} + \\frac{\\frac{\\partial}{\\partial {\\rho}}E_{z}\\left({\\rho}, {\\phi}, \\mathit{zz}\\right)}{{\\rho}} + \\frac{\\frac{\\partial^{2}}{(\\partial {\\phi})^{2}}E_{z}\\left({\\rho}, {\\phi}, \\mathit{zz}\\right)}{{\\rho}^{2}} + \\frac{\\partial^{2}}{(\\partial {\\rho})^{2}}E_{z}\\left({\\rho}, {\\phi}, \\mathit{zz}\\right) + \\frac{\\partial^{2}}{(\\partial \\mathit{zz})^{2}}E_{z}\\left({\\rho}, {\\phi}, \\mathit{zz}\\right) = 0$"
      ],
      "text/plain": [
       "<IPython.core.display.Math object>"
      ]
     },
     "metadata": {},
     "output_type": "display_data"
    },
    {
     "data": {
      "text/latex": [
       "$\\displaystyle \\frac{\\epsilon_{0} \\mu_{0} \\omega^{2} H_{z}\\left({\\rho}, {\\phi}, \\mathit{zz}\\right)}{c^{2}} + \\frac{4 i \\, \\pi \\mu_{0} \\omega \\sigma_{0} H_{z}\\left({\\rho}, {\\phi}, \\mathit{zz}\\right)}{c^{2}} + \\frac{\\frac{\\partial}{\\partial {\\rho}}H_{z}\\left({\\rho}, {\\phi}, \\mathit{zz}\\right)}{{\\rho}} + \\frac{\\frac{\\partial^{2}}{(\\partial {\\phi})^{2}}H_{z}\\left({\\rho}, {\\phi}, \\mathit{zz}\\right)}{{\\rho}^{2}} + \\frac{\\partial^{2}}{(\\partial {\\rho})^{2}}H_{z}\\left({\\rho}, {\\phi}, \\mathit{zz}\\right) + \\frac{\\partial^{2}}{(\\partial \\mathit{zz})^{2}}H_{z}\\left({\\rho}, {\\phi}, \\mathit{zz}\\right) = 0$"
      ],
      "text/plain": [
       "<IPython.core.display.Math object>"
      ]
     },
     "metadata": {},
     "output_type": "display_data"
    }
   ],
   "source": [
    "# подставляя в исходное уравнение \n",
    "if True:\n",
    "    ES.<rho,phi,zz> = EuclideanSpace(coordinates='cylindrical')\n",
    "\n",
    "    H = ES.vector_field(\n",
    "        function('H_rho_rho')(rho) * function('H_rho_phi')(phi) * function('H_rho_z')(zz),\n",
    "        function('H_phi_pho')(rho) * function('H_phi_phi')(phi) * function('H_phi_z')(zz),\n",
    "        function('H_z_rho')  (rho) * function('H_z_phi')  (phi) * function('H_z_z')  (zz),\n",
    "        name='H')\n",
    "\n",
    "    E = ES.vector_field(\n",
    "        function('E_rho_rho')(rho) * function('E_rho_phi')(phi) * function('E_rho_z')(zz),\n",
    "        function('E_phi_pho')(rho) * function('E_phi_phi')(phi) * function('E_phi_z')(zz),\n",
    "        function('E_z_rho')  (rho) * function('E_z_phi')  (phi) * function('E_z_z')  (zz),\n",
    "        name='E')\n",
    "\n",
    "    E = ES.vector_field(\n",
    "        function('E_rho')(rho,phi,zz),\n",
    "        function('E_phi')(rho,phi,zz),\n",
    "        function('E_z')(rho,phi,zz),\n",
    "        name='E')\n",
    "    \n",
    "    H = ES.vector_field(\n",
    "        function('H_rho')(rho,phi,zz),\n",
    "        function('H_phi')(rho,phi,zz),\n",
    "        function('H_z')(rho,phi,zz),\n",
    "        name='H')\n",
    "    \n",
    "    #E = ES.vector_field(\n",
    "    #    function('E_rho_rho')(rho) * function('E_rho_phi')(phi) * function('E_rho_z')(zz),\n",
    "    #    function('E_phi_pho')(rho) * function('E_phi_phi')(phi) * function('E_phi_z')(zz),\n",
    "    #    function('E_z_rho')  (rho) * cos(m*phi) * e^(I*k[0]*zz),\n",
    "    #    name='E')\n",
    "    \n",
    "    from sage.manifolds.operators import curl, laplacian\n",
    "    rot_rot_E = curl(curl(E))\n",
    "    rot_rot_H = curl(curl(H))\n",
    "    laplacian_E = laplacian(E)\n",
    "    laplacian_H = laplacian(H)\n",
    "\n",
    "    #print (rot_rot_E.display())\n",
    "    #print (rot_rot_H.display())\n",
    "    #print (laplacian_E.display())\n",
    "    \n",
    "    #eq_z = (rot_rot_E[3] - mu[0] * epsilon[0] * omega^2 / c^2 * E[3]).expand()\n",
    "    #display(Math(latex(eq_z.expr())))\n",
    "    \n",
    "    eq_zE = (laplacian_E[3] + mu[0] * epsilon_complex[0] * omega^2 / c^2 * E[3]).expand().expr() == 0\n",
    "    display(Math(latex(eq_zE)))\n",
    "    \n",
    "        \n",
    "    eq_zH = (laplacian_H[3] + mu[0] * epsilon_complex[0] * omega^2 / c^2 * H[3]).expand().expr() == 0\n",
    "    display(Math(latex(eq_zH)))"
   ]
  },
  {
   "cell_type": "markdown",
   "metadata": {},
   "source": [
    "we have \n",
    "\n",
    "$\\frac{\\epsilon \\mu \\omega^{2} E_{z}\\left({\\rho}, {\\phi}, \\mathit{z}\\right)}{c^{2}} + \\frac{\\frac{\\partial}{\\partial {\\rho}}E_{z}\\left({\\rho}, {\\phi}, \\mathit{z}\\right)}{{\\rho}} + \\frac{\\frac{\\partial^{2}}{(\\partial {\\phi})^{2}}E_{z}\\left({\\rho}, {\\phi}, \\mathit{z}\\right)}{{\\rho}^{2}} + \\frac{\\partial^{2}}{(\\partial {\\rho})^{2}}E_{z}\\left({\\rho}, {\\phi}, \\mathit{z}\\right) + \\frac{\\partial^{2}}{(\\partial \\mathit{z})^{2}}E_{z}\\left({\\rho}, {\\phi}, \\mathit{z}\\right)$\n",
    "\n",
    "\n",
    "$\\frac{\\epsilon \\mu \\omega^{2} E_{z}}{c^{2}} + \\frac{\\frac{\\partial}{\\partial {\\rho}}E_{z}}{{\\rho}} + \\frac{\\frac{\\partial^{2}}{(\\partial {\\phi})^{2}}E_{z}}{{\\rho}^{2}} + \\frac{\\partial^{2}}{(\\partial {\\rho})^{2}}E_{z} + \\frac{\\partial^{2}}{(\\partial \\mathit{z})^{2}}E_{z} = 0$\n",
    "\n",
    "assuming\n",
    "\n",
    "$E_{z}(\\phi) = sin(m\\,\\varphi + \\psi_{m})$\n",
    "\n",
    "and\n",
    "\n",
    "$E_{z}(z) = e^{i\\,k\\,z}$\n",
    "\n",
    "or\n",
    "\n",
    "$E_{z}(z) = cos\\left(k\\,z\\right)$\n",
    "or\n",
    "$E_{z}(z) = sin\\left(k\\,z\\right)$"
   ]
  },
  {
   "cell_type": "markdown",
   "metadata": {},
   "source": [
    "приходим к обыкновенному дифференциальному уравнению\n",
    "\n",
    "we arrive to the ordinary differential equation\n",
    "\n",
    "$$\\frac{\\epsilon \\mu \\omega^{2} E_{z}}{c^{2}} \n",
    "+ \\frac{\\frac{\\partial}{\\partial {\\rho}}E_{z}}{{\\rho}}\n",
    "- \\frac{m^{2}\\,E_{z}}{{\\rho}^{2}}\n",
    "+ \\frac{\\partial^{2}}{(\\partial {\\rho})^{2}}E_{z}\n",
    "- k^2\\,E_{z} = 0$$\n",
    "\n",
    "assuming\n",
    "\n",
    "$\\kappa^2 = \\frac{\\mu \\, \\epsilon \\, \\omega^2}{c^2} - k^2$\n",
    "\n",
    "we will receive equation of Bessel type\n",
    "\n",
    "$$\\frac{\\partial^{2}}{(\\partial {\\rho})^{2}}E_{z} + \\frac{\\frac{\\partial}{\\partial {\\rho}}E_{z}}{{\\rho}}\n",
    "+ \\left(\\kappa^2 - \\frac{m^{2}}{{\\rho}^{2}}\\right)\\,E_{z} = 0$$\n"
   ]
  },
  {
   "cell_type": "code",
   "execution_count": null,
   "metadata": {},
   "outputs": [],
   "source": []
  },
  {
   "cell_type": "markdown",
   "metadata": {},
   "source": [
    "In case of complex $\\epsilon' = \\epsilon + \\frac{4\\pi\\,\\sigma}{\\omega}\\,i$ we have\n",
    "\n",
    "$$\\frac{\\left(\\epsilon_{\\alpha\\,\\beta} + \\frac{4\\pi\\,\\sigma}{\\omega}\\,i  \\right) \\mu \\omega^{2} E_{z}}{c^{2}} + \\frac{\\frac{\\partial}{\\partial {\\rho}}E_{z}}{{\\rho}} + \\frac{\\frac{\\partial^{2}}{(\\partial {\\phi})^{2}}E_{z}}{{\\rho}^{2}} + \\frac{\\partial^{2}}{(\\partial {\\rho})^{2}}E_{z} + \\frac{\\partial^{2}}{(\\partial \\mathit{z})^{2}}E_{z} = 0$$\n",
    "\n",
    "assuming for metals\n",
    "\n",
    "$E_{z}(z) = e^{i\\,k'\\,z}$\n",
    "\n",
    "with complex $k' = k + i\\,s$\n",
    "\n",
    "$E_{z}(z) = e^{i\\,k\\,z} \\, e^{-s\\,z}$\n",
    "\n",
    "$$\\frac{\\left(\\epsilon_{\\alpha\\,\\beta} + \\frac{4\\pi\\,\\sigma}{\\omega}\\,i  \\right) \\mu \\omega^{2} E_{z}}{c^{2}} \n",
    "+ \\frac{\\frac{\\partial}{\\partial {\\rho}}E_{z}}{{\\rho}}\n",
    "- \\frac{m^{2}\\,E_{z}}{{\\rho}^{2}}\n",
    "+ \\frac{\\partial^{2}}{(\\partial {\\rho})^{2}}E_{z}\n",
    "- k'^2\\,E_{z} = 0$$\n",
    "\n",
    "we will receive\n",
    "\n",
    "$$\\frac{\\partial^{2}}{(\\partial {\\rho})^{2}}E_{z} + \\frac{\\frac{\\partial}{\\partial {\\rho}}E_{z}}{{\\rho}}\n",
    "+ \\left(\\frac{\\mu \\, \\left(\\epsilon_{\\alpha\\,\\beta} + \\frac{4\\pi\\,\\sigma}{\\omega}\\,i  \\right) \\, \\omega^2}{c^2} - k'^2 - \\frac{m^{2}}{{\\rho}^{2}}\\right)\\,E_{z} = 0$$\n",
    "\n",
    "$k'^2 \n",
    "= \\left(k + i\\,s \\right)^2\n",
    "= k^2 - s^2 + 2\\,i\\,k\\,s$"
   ]
  },
  {
   "cell_type": "markdown",
   "metadata": {},
   "source": [
    "expanding\n",
    "\n",
    "$$\\frac{\\partial^{2}}{(\\partial {\\rho})^{2}}E_{z} \n",
    "+ \\frac{\\frac{\\partial}{\\partial {\\rho}}E_{z}}{{\\rho}}\n",
    "+ \\left(\n",
    "\\frac{\\mu \\, \\left(\\epsilon_{\\alpha\\,\\beta} \\right) \\, \\omega^2}{c^2}\n",
    "+\\frac{\\mu \\, \\left( \\frac{4\\pi\\,\\sigma}{\\omega}\\,i  \\right) \\, \\omega^2}{c^2}\n",
    "- k^2 + s^2 - 2\\,i\\,k\\,s\n",
    "- \\frac{m^{2}}{{\\rho}^{2}}\n",
    "\\right)\n",
    "\\,E_{z} = 0$$"
   ]
  },
  {
   "cell_type": "markdown",
   "metadata": {},
   "source": [
    "$- 2\\,i\\,k\\,s +\\frac{\\mu \\, \\left( \\frac{4\\pi\\,\\sigma}{\\omega}\\,i  \\right) \\, \\omega^2}{c^2} = 0 $\n",
    "\n",
    "$2\\,k\\,s = \\frac{4\\pi\\,\\mu\\,\\sigma\\,\\omega}{c^2}$\n",
    "\n",
    "assuming now\n",
    "\n",
    "$\\kappa^2 = \\frac{\\mu \\, \\left(\\epsilon_{\\alpha\\,\\beta} \\right) \\, \\omega^2}{c^2} - k^2 + s^2$\n",
    "\n",
    "$s = \\frac{2\\pi\\,\\mu\\,\\sigma\\,\\omega}{k\\,c^2}$\n",
    "\n",
    "$\\kappa^2 = \\frac{\\mu \\, \\left(\\epsilon_{\\alpha\\,\\beta} \\right) \\, \\omega^2}{c^2} - k^2 + \\left(\\frac{2\\pi\\,\\mu\\,\\sigma\\,\\omega}{k\\,c^2}\\right)^2$\n",
    "\n",
    "we again have equation of Bessel type\n",
    "\n",
    "\n",
    "$$\\frac{\\partial^{2}}{(\\partial {\\rho})^{2}}E_{z} + \\frac{\\frac{\\partial}{\\partial {\\rho}}E_{z}}{{\\rho}}\n",
    "+ \\left(\\kappa^2 - \\frac{m^{2}}{{\\rho}^{2}}\\right)\\,E_{z} = 0$$"
   ]
  },
  {
   "cell_type": "code",
   "execution_count": null,
   "metadata": {},
   "outputs": [],
   "source": []
  },
  {
   "cell_type": "markdown",
   "metadata": {},
   "source": [
    "Dielectrics\n",
    "\n",
    "assuming for dielectrics\n",
    "\n",
    "$$E_{z}(z,t) = e^{i\\,k\\,z}\\,e^{-i\\,\\omega'\\,t}$$\n",
    "\n",
    "with complex $\\omega' = \\omega - i\\,\\alpha$\n",
    "\n",
    "$$E_{z}(z,t) = e^{i\\,k\\,z}\\,e^{-i\\,\\omega\\,t} \\, e^{-\\alpha\\,t}$$\n",
    "\n",
    "In case of complex $\\epsilon' = \\epsilon + \\frac{4\\pi\\,\\sigma}{\\omega'}\\,i$ we have\n",
    "\n",
    "$$\\frac{\\left(\\epsilon_{\\alpha\\,\\beta} + \\frac{4\\pi\\,\\sigma}{\\omega'}\\,i  \\right) \\mu \\omega'^{2} E_{z}}{c^{2}} + \\frac{\\frac{\\partial}{\\partial {\\rho}}E_{z}}{{\\rho}} + \\frac{\\frac{\\partial^{2}}{(\\partial {\\phi})^{2}}E_{z}}{{\\rho}^{2}} + \\frac{\\partial^{2}}{(\\partial {\\rho})^{2}}E_{z} + \\frac{\\partial^{2}}{(\\partial \\mathit{z})^{2}}E_{z} = 0$$\n",
    "\n",
    "\n",
    "\n",
    "\\begin{equation}\n",
    "\\frac{\\left(\\epsilon_{\\alpha\\,\\beta} + \\frac{4\\pi\\,\\sigma}{\\omega'}\\,i  \\right) \\mu \\omega'^{2} E_{z}}{c^{2}} \n",
    "+ \\frac{\\frac{\\partial}{\\partial {\\rho}}E_{z}}{{\\rho}}\n",
    "- \\frac{m^{2}\\,E_{z}}{{\\rho}^{2}}\n",
    "+ \\frac{\\partial^{2}}{(\\partial {\\rho})^{2}}E_{z}\n",
    "- k^2\\,E_{z} = 0\n",
    "\\end{equation}\n",
    "\n",
    "we will receive\n",
    "\n",
    "\\begin{equation}\n",
    "\\frac{\\partial^{2}}{(\\partial {\\rho})^{2}}E_{z} + \\frac{\\frac{\\partial}{\\partial {\\rho}}E_{z}}{{\\rho}}\n",
    "+ \\left(\\frac{\\mu \\, \\left(\\epsilon_{\\alpha\\,\\beta} + \\frac{4\\pi\\,\\sigma}{\\omega'}\\,i  \\right) \\, \\omega'^2}{c^2} - k^2 - \\frac{m^{2}}{{\\rho}^{2}}\\right)\\,E_{z} = 0\n",
    "\\end{equation}\n",
    "\n",
    "\\begin{equation}\n",
    "\\omega'^2 \n",
    "= \\left(\\omega - i\\,\\alpha \\right)^2\n",
    "= \\omega^2 - \\alpha^2 - 2\\,i\\,\\omega\\,\\alpha\n",
    "\\end{equation}\n",
    "\n",
    "expanding\n",
    "\n",
    "\\begin{equation}\n",
    "\\frac{\\partial^{2}}{(\\partial {\\rho})^{2}}E_{z} \n",
    "+ \\frac{\\frac{\\partial}{\\partial {\\rho}}E_{z}}{{\\rho}}\n",
    "+ \\left(\n",
    "\\frac{\\mu \\, \\left(\\epsilon_{\\alpha\\,\\beta} \\right) \\, \\omega'^2}{c^2}\n",
    "+\\frac{4\\pi\\,\\mu \\, \\sigma\\,\\omega'}{c^2}\\,i\n",
    "- k^2\n",
    "- \\frac{m^{2}}{{\\rho}^{2}}\n",
    "\\right)\n",
    "\\,E_{z} = 0\n",
    "\\end{equation}\n",
    "\n",
    "\\begin{equation}\n",
    "\\frac{\\partial^{2}}{(\\partial {\\rho})^{2}}E_{z} \n",
    "+ \\frac{\\frac{\\partial}{\\partial {\\rho}}E_{z}}{{\\rho}}\n",
    "+ \\left(\n",
    "\\frac{\\mu \\, \\left(\\epsilon_{\\alpha\\,\\beta} \\right) \\, \\left(\\omega^2 - \\alpha^2 - 2\\,i\\,\\omega\\,\\alpha\\right)}{c^2}\n",
    "+\\frac{4\\pi\\,\\mu \\, \\sigma\\,\\left(\\omega - i\\,\\alpha \\right)}{c^2}\\,i\n",
    "- k^2\n",
    "- \\frac{m^{2}}{{\\rho}^{2}}\n",
    "\\right)\n",
    "\\,E_{z} = 0\n",
    "\\end{equation}\n",
    "\n",
    "\\begin{equation}\n",
    "\\frac{\\partial^{2}}{(\\partial {\\rho})^{2}}E_{z} \n",
    "+ \\frac{\\frac{\\partial}{\\partial {\\rho}}E_{z}}{{\\rho}}\n",
    "+ \\left(\n",
    "\\frac{\\mu \\, \\epsilon_{\\alpha\\,\\beta} \\, \\omega^2}{c^2}\n",
    "-\\frac{\\mu \\, \\epsilon_{\\alpha\\,\\beta} \\, \\alpha^2}{c^2}\n",
    "-\\frac{2\\,\\omega\\,\\alpha\\,\\mu \\,\\epsilon_{\\alpha\\,\\beta} \\, }{c^2}\\,i\n",
    "+\\frac{4\\pi\\,\\mu \\, \\sigma\\,\\omega}{c^2}\\,i\n",
    "+\\frac{4\\pi\\,\\mu \\, \\sigma\\,\\alpha}{c^2}\n",
    "- k^2\n",
    "- \\frac{m^{2}}{{\\rho}^{2}}\n",
    "\\right)\n",
    "\\,E_{z} = 0\n",
    "\\end{equation}\n",
    "\n",
    "\\begin{equation}\n",
    "-\\frac{2\\,\\omega\\,\\alpha\\, \\mu \\, \\epsilon_{\\alpha\\,\\beta} \\, }{c^2}\\,i\n",
    "+\\frac{4\\pi\\,\\mu \\, \\sigma\\,\\omega}{c^2}\\,i = 0\n",
    "\\end{equation}\n",
    "\n",
    "\\begin{equation}\n",
    "2\\pi\\,\\sigma = \\epsilon_{\\alpha\\,\\beta}\\,\\alpha\n",
    "\\end{equation}\n",
    "\n",
    "\\begin{equation}\n",
    "\\alpha = \\frac{2\\,\\pi\\,\\sigma}{\\epsilon_{\\alpha\\,\\beta}}\n",
    "\\end{equation}\n",
    "\n",
    "\\begin{equation}\n",
    "\\frac{\\partial^{2}}{(\\partial {\\rho})^{2}}E_{z} \n",
    "+ \\frac{\\frac{\\partial}{\\partial {\\rho}}E_{z}}{{\\rho}}\n",
    "+ \\left(\n",
    "\\frac{\\mu \\, \\epsilon_{\\alpha\\,\\beta} \\, \\omega^2}{c^2}\n",
    "-\\frac{\\mu \\, \\epsilon_{\\alpha\\,\\beta} \\, \\alpha^2}{c^2}\n",
    "+\\frac{4\\pi\\,\\mu \\, \\sigma\\,\\alpha}{c^2}\n",
    "- k^2\n",
    "- \\frac{m^{2}}{{\\rho}^{2}}\n",
    "\\right)\n",
    "\\,E_{z} = 0\n",
    "\\end{equation}\n",
    "\n",
    "\\begin{equation}\n",
    "\\frac{\\partial^{2}}{(\\partial {\\rho})^{2}}E_{z} \n",
    "+ \\frac{\\frac{\\partial}{\\partial {\\rho}}E_{z}}{{\\rho}}\n",
    "+ \\left(\n",
    "\\frac{\\mu \\, \\epsilon_{\\alpha\\,\\beta}\\omega^2}{c^2}\n",
    "-\\frac{\\mu \\, \\epsilon_{\\alpha\\,\\beta} \\, \\left(\\frac{2\\,\\pi\\,\\sigma}{\\epsilon_{\\alpha\\,\\beta}}\\right)^2}{c^2}\n",
    "+\\frac{4\\pi\\,\\mu \\, \\sigma\\,\\left(\\frac{2\\,\\pi\\,\\sigma}{\\epsilon_{\\alpha\\,\\beta}} \\right)}{c^2}\n",
    "- k^2\n",
    "- \\frac{m^{2}}{{\\rho}^{2}}\n",
    "\\right)\n",
    "\\,E_{z} = 0\n",
    "\\end{equation}\n",
    "\n",
    "\\begin{equation}\n",
    "\\frac{\\partial^{2}}{(\\partial {\\rho})^{2}}E_{z} \n",
    "+ \\frac{\\frac{\\partial}{\\partial {\\rho}}E_{z}}{{\\rho}}\n",
    "+ \\left(\n",
    "\\frac{\\mu \\, \\epsilon_{\\alpha\\,\\beta}\\omega^2}{c^2}\n",
    "-\\frac{\\mu \\, \\epsilon_{\\alpha\\,\\beta} \\, \\left(\\frac{2\\,\\pi\\,\\sigma}{\\epsilon_{\\alpha\\,\\beta}}\\right)^2}{c^2}\n",
    "+\\frac{2\\,\\mu \\,\\epsilon_{\\alpha\\,\\beta} \\left(\\frac{2\\,\\pi\\,\\sigma}{\\epsilon_{\\alpha\\,\\beta}} \\right)^2}{c^2}\n",
    "- k^2\n",
    "- \\frac{m^{2}}{{\\rho}^{2}}\n",
    "\\right)\n",
    "\\,E_{z} = 0\n",
    "\\end{equation}\n",
    "\n",
    "\\begin{equation}\n",
    "\\frac{\\partial^{2}}{(\\partial {\\rho})^{2}}E_{z} \n",
    "+ \\frac{\\frac{\\partial}{\\partial {\\rho}}E_{z}}{{\\rho}}\n",
    "+ \\left(\n",
    "\\frac{\\mu \\, \\epsilon_{\\alpha\\,\\beta}\\omega^2}{c^2}\n",
    "+\\frac{\\mu \\,\\epsilon_{\\alpha\\,\\beta} \\left(\\frac{2\\,\\pi\\,\\sigma}{\\epsilon_{\\alpha\\,\\beta}} \\right)^2}{c^2}\n",
    "- k^2\n",
    "- \\frac{m^{2}}{{\\rho}^{2}}\n",
    "\\right)\n",
    "\\,E_{z} = 0\n",
    "\\end{equation}\n",
    "\n",
    "\\begin{equation}\n",
    "\\frac{\\partial^{2}}{(\\partial {\\rho})^{2}}E_{z} \n",
    "+ \\frac{\\frac{\\partial}{\\partial {\\rho}}E_{z}}{{\\rho}}\n",
    "+ \\left(\n",
    "\\frac{\\mu \\, \\epsilon_{\\alpha\\,\\beta}}{c^2}\\left(\\omega^2 + \\left(\\frac{2\\,\\pi\\,\\sigma}{\\epsilon_{\\alpha\\,\\beta}} \\right)^2\\right)\n",
    "- k^2\n",
    "- \\frac{m^{2}}{{\\rho}^{2}}\n",
    "\\right)\n",
    "\\,E_{z} = 0\n",
    "\\end{equation}\n",
    "\n",
    "assuming now\n",
    "\n",
    "$$\\kappa^2 = \\frac{\\mu \\, \\epsilon_{\\alpha\\,\\beta}}{c^2}\\left(\\omega^2 + \\left(\\frac{2\\,\\pi\\,\\sigma}{\\epsilon_{\\alpha\\,\\beta}} \\right)^2\\right)\n",
    "- k^2$$\n",
    "\n",
    "we again have equation of Bessel type\n",
    "\n",
    "\n",
    "\n",
    "\\begin{equation}\n",
    "\\frac{\\partial^{2}}{(\\partial {\\rho})^{2}}E_{z} + \\frac{\\frac{\\partial}{\\partial {\\rho}}E_{z}}{{\\rho}}\n",
    "+ \\left(\\kappa^2 - \\frac{m^{2}}{{\\rho}^{2}}\\right)\\,E_{z} = 0\n",
    "\\end{equation}\n"
   ]
  },
  {
   "cell_type": "code",
   "execution_count": null,
   "metadata": {},
   "outputs": [],
   "source": []
  },
  {
   "cell_type": "markdown",
   "metadata": {},
   "source": [
    "Dielectrics\n",
    "\n",
    "assuming for dielectrics\n",
    "\n",
    "$$E_{z}(z,t) = e^{i\\,k\\,z}\\,e^{-i\\,\\omega'\\,t}$$\n",
    "\n",
    "with complex $\\omega' = \\omega + i\\,\\alpha$\n",
    "\n",
    "$$E_{z}(z,t) = e^{i\\,k\\,z}\\,e^{-i\\,\\omega\\,t} \\, e^{+\\alpha\\,t}$$\n",
    "\n",
    "In case of complex $\\epsilon' = \\epsilon + \\frac{4\\pi\\,\\sigma}{\\omega'}\\,i$ we have\n",
    "\n",
    "$$\\frac{\\left(\\epsilon_{\\alpha\\,\\beta} + \\frac{4\\pi\\,\\sigma}{\\omega'}\\,i  \\right) \\mu \\omega'^{2} E_{z}}{c^{2}} + \\frac{\\frac{\\partial}{\\partial {\\rho}}E_{z}}{{\\rho}} + \\frac{\\frac{\\partial^{2}}{(\\partial {\\phi})^{2}}E_{z}}{{\\rho}^{2}} + \\frac{\\partial^{2}}{(\\partial {\\rho})^{2}}E_{z} + \\frac{\\partial^{2}}{(\\partial \\mathit{z})^{2}}E_{z} = 0$$\n",
    "\n",
    "\n",
    "\n",
    "\\begin{equation}\n",
    "\\frac{\\left(\\epsilon_{\\alpha\\,\\beta} + \\frac{4\\pi\\,\\sigma}{\\omega'}\\,i  \\right) \\mu \\omega'^{2} E_{z}}{c^{2}} \n",
    "+ \\frac{\\frac{\\partial}{\\partial {\\rho}}E_{z}}{{\\rho}}\n",
    "- \\frac{m^{2}\\,E_{z}}{{\\rho}^{2}}\n",
    "+ \\frac{\\partial^{2}}{(\\partial {\\rho})^{2}}E_{z}\n",
    "- k^2\\,E_{z} = 0\n",
    "\\end{equation}\n",
    "\n",
    "we will receive\n",
    "\n",
    "\\begin{equation}\n",
    "\\frac{\\partial^{2}}{(\\partial {\\rho})^{2}}E_{z} + \\frac{\\frac{\\partial}{\\partial {\\rho}}E_{z}}{{\\rho}}\n",
    "+ \\left(\\frac{\\mu \\, \\left(\\epsilon_{\\alpha\\,\\beta} + \\frac{4\\pi\\,\\sigma}{\\omega'}\\,i  \\right) \\, \\omega'^2}{c^2} - k^2 - \\frac{m^{2}}{{\\rho}^{2}}\\right)\\,E_{z} = 0\n",
    "\\end{equation}\n",
    "\n",
    "\\begin{equation}\n",
    "\\omega'^2 \n",
    "= \\left(\\omega + i\\,\\alpha \\right)^2\n",
    "= \\omega^2 - \\alpha^2 + 2\\,i\\,\\omega\\,\\alpha\n",
    "\\end{equation}\n",
    "\n",
    "expanding\n",
    "\n",
    "\\begin{equation}\n",
    "\\frac{\\partial^{2}}{(\\partial {\\rho})^{2}}E_{z} \n",
    "+ \\frac{\\frac{\\partial}{\\partial {\\rho}}E_{z}}{{\\rho}}\n",
    "+ \\left(\n",
    "\\frac{\\mu \\, \\left(\\epsilon_{\\alpha\\,\\beta} \\right) \\, \\omega'^2}{c^2}\n",
    "+\\frac{4\\pi\\,\\mu \\, \\sigma\\,\\omega'}{c^2}\\,i\n",
    "- k^2\n",
    "- \\frac{m^{2}}{{\\rho}^{2}}\n",
    "\\right)\n",
    "\\,E_{z} = 0\n",
    "\\end{equation}\n",
    "\n",
    "\\begin{equation}\n",
    "\\frac{\\partial^{2}}{(\\partial {\\rho})^{2}}E_{z} \n",
    "+ \\frac{\\frac{\\partial}{\\partial {\\rho}}E_{z}}{{\\rho}}\n",
    "+ \\left(\n",
    "\\frac{\\mu \\, \\left(\\epsilon_{\\alpha\\,\\beta} \\right) \\, \\left(\\omega^2 - \\alpha^2 + 2\\,i\\,\\omega\\,\\alpha\\right)}{c^2}\n",
    "+\\frac{4\\pi\\,\\mu \\, \\sigma\\,\\left(\\omega + i\\,\\alpha \\right)}{c^2}\\,i\n",
    "- k^2\n",
    "- \\frac{m^{2}}{{\\rho}^{2}}\n",
    "\\right)\n",
    "\\,E_{z} = 0\n",
    "\\end{equation}\n",
    "\n",
    "\\begin{equation}\n",
    "\\frac{\\partial^{2}}{(\\partial {\\rho})^{2}}E_{z} \n",
    "+ \\frac{\\frac{\\partial}{\\partial {\\rho}}E_{z}}{{\\rho}}\n",
    "+ \\left(\n",
    "\\frac{\\mu \\, \\epsilon_{\\alpha\\,\\beta} \\, \\omega^2}{c^2}\n",
    "-\\frac{\\mu \\, \\epsilon_{\\alpha\\,\\beta} \\, \\alpha^2}{c^2}\n",
    "+\\frac{2\\,\\omega\\,\\alpha\\,\\mu \\,\\epsilon_{\\alpha\\,\\beta} \\, }{c^2}\\,i\n",
    "+\\frac{4\\pi\\,\\mu \\, \\sigma\\,\\omega}{c^2}\\,i\n",
    "-\\frac{4\\pi\\,\\mu \\, \\sigma\\,\\alpha}{c^2}\n",
    "- k^2\n",
    "- \\frac{m^{2}}{{\\rho}^{2}}\n",
    "\\right)\n",
    "\\,E_{z} = 0\n",
    "\\end{equation}\n",
    "\n",
    "\\begin{equation}\n",
    "+\\frac{2\\,\\omega\\,\\alpha\\, \\mu \\, \\epsilon_{\\alpha\\,\\beta} \\, }{c^2}\\,i\n",
    "+\\frac{4\\pi\\,\\mu \\, \\sigma\\,\\omega}{c^2}\\,i = 0\n",
    "\\end{equation}\n",
    "\n",
    "\\begin{equation}\n",
    "2\\pi\\,\\sigma = -\\,\\epsilon_{\\alpha\\,\\beta}\\,\\alpha\n",
    "\\end{equation}\n",
    "\n",
    "\\begin{equation}\n",
    "\\alpha = -\\,\\frac{2\\,\\pi\\,\\sigma}{\\epsilon_{\\alpha\\,\\beta}}\n",
    "\\end{equation}\n",
    "\n",
    "\\begin{equation}\n",
    "\\frac{\\partial^{2}}{(\\partial {\\rho})^{2}}E_{z} \n",
    "+ \\frac{\\frac{\\partial}{\\partial {\\rho}}E_{z}}{{\\rho}}\n",
    "+ \\left(\n",
    "\\frac{\\mu \\, \\epsilon_{\\alpha\\,\\beta} \\, \\omega^2}{c^2}\n",
    "-\\frac{\\mu \\, \\epsilon_{\\alpha\\,\\beta} \\, \\alpha^2}{c^2}\n",
    "-\\frac{4\\pi\\,\\mu \\, \\sigma\\,\\alpha}{c^2}\n",
    "- k^2\n",
    "- \\frac{m^{2}}{{\\rho}^{2}}\n",
    "\\right)\n",
    "\\,E_{z} = 0\n",
    "\\end{equation}\n",
    "\n",
    "\\begin{equation}\n",
    "\\frac{\\partial^{2}}{(\\partial {\\rho})^{2}}E_{z} \n",
    "+ \\frac{\\frac{\\partial}{\\partial {\\rho}}E_{z}}{{\\rho}}\n",
    "+ \\left(\n",
    "\\frac{\\mu \\, \\epsilon_{\\alpha\\,\\beta}\\omega^2}{c^2}\n",
    "-\\frac{\\mu \\, \\epsilon_{\\alpha\\,\\beta} \\, \\left(\\frac{2\\,\\pi\\,\\sigma}{\\epsilon_{\\alpha\\,\\beta}}\\right)^2}{c^2}\n",
    "+\\frac{4\\pi\\,\\mu \\, \\sigma\\,\\left(\\frac{2\\,\\pi\\,\\sigma}{\\epsilon_{\\alpha\\,\\beta}} \\right)}{c^2}\n",
    "- k^2\n",
    "- \\frac{m^{2}}{{\\rho}^{2}}\n",
    "\\right)\n",
    "\\,E_{z} = 0\n",
    "\\end{equation}\n",
    "\n",
    "\\begin{equation}\n",
    "$$\\frac{\\partial^{2}}{(\\partial {\\rho})^{2}}E_{z} \n",
    "+ \\frac{\\frac{\\partial}{\\partial {\\rho}}E_{z}}{{\\rho}}\n",
    "+ \\left(\n",
    "\\frac{\\mu \\, \\epsilon_{\\alpha\\,\\beta}\\omega^2}{c^2}\n",
    "-\\frac{\\mu \\, \\epsilon_{\\alpha\\,\\beta} \\, \\left(\\frac{2\\,\\pi\\,\\sigma}{\\epsilon_{\\alpha\\,\\beta}}\\right)^2}{c^2}\n",
    "+\\frac{2\\,\\mu \\,\\epsilon_{\\alpha\\,\\beta} \\left(\\frac{2\\,\\pi\\,\\sigma}{\\epsilon_{\\alpha\\,\\beta}} \\right)^2}{c^2}\n",
    "- k^2\n",
    "- \\frac{m^{2}}{{\\rho}^{2}}\n",
    "\\right)\n",
    "\\,E_{z} = 0\n",
    "\\end{equation}\n",
    "\n",
    "\\begin{equation}\n",
    "\\frac{\\partial^{2}}{(\\partial {\\rho})^{2}}E_{z} \n",
    "+ \\frac{\\frac{\\partial}{\\partial {\\rho}}E_{z}}{{\\rho}}\n",
    "+ \\left(\n",
    "\\frac{\\mu \\, \\epsilon_{\\alpha\\,\\beta}\\omega^2}{c^2}\n",
    "+\\frac{\\mu \\,\\epsilon_{\\alpha\\,\\beta} \\left(\\frac{2\\,\\pi\\,\\sigma}{\\epsilon_{\\alpha\\,\\beta}} \\right)^2}{c^2}\n",
    "- k^2\n",
    "- \\frac{m^{2}}{{\\rho}^{2}}\n",
    "\\right)\n",
    "\\,E_{z} = 0\n",
    "\\end{equation}\n",
    "\n",
    "\\begin{equation}\n",
    "\\frac{\\partial^{2}}{(\\partial {\\rho})^{2}}E_{z} \n",
    "+ \\frac{\\frac{\\partial}{\\partial {\\rho}}E_{z}}{{\\rho}}\n",
    "+ \\left(\n",
    "\\frac{\\mu \\, \\epsilon_{\\alpha\\,\\beta}}{c^2}\\left(\\omega^2 + \\left(\\frac{2\\,\\pi\\,\\sigma}{\\epsilon_{\\alpha\\,\\beta}} \\right)^2\\right)\n",
    "- k^2\n",
    "- \\frac{m^{2}}{{\\rho}^{2}}\n",
    "\\right)\n",
    "\\,E_{z} = 0\n",
    "\\end{equation}\n",
    "\n",
    "assuming now\n",
    "\n",
    "$$\\kappa^2 = \\frac{\\mu \\, \\epsilon_{\\alpha\\,\\beta}}{c^2}\\left(\\omega^2 + \\left(\\frac{2\\,\\pi\\,\\sigma}{\\epsilon_{\\alpha\\,\\beta}} \\right)^2\\right)\n",
    "- k^2$$\n",
    "\n",
    "we again have equation of Bessel type\n",
    "\n",
    "\n",
    "\n",
    "\\begin{equation}\n",
    "\\frac{\\partial^{2}}{(\\partial {\\rho})^{2}}E_{z} + \\frac{\\frac{\\partial}{\\partial {\\rho}}E_{z}}{{\\rho}}\n",
    "+ \\left(\\kappa^2 - \\frac{m^{2}}{{\\rho}^{2}}\\right)\\,E_{z} = 0\n",
    "\\end{equation}\n"
   ]
  },
  {
   "cell_type": "raw",
   "metadata": {},
   "source": [
    "# исходя из вида дифференциальных уравнений для metal\n",
    "# записываем соотнощения для волнового вектора в виде уравнений\n",
    "eq_kappa_metal = []\n",
    "eq_s_metal = []\n",
    "for i in range(2):\n",
    "    eq_kappa_metal += [omega^2 / c^2 - k_m[i]^2 + s_m[i]^2 == kappa^2]\n",
    "    eq_s_metal     += [4 * pi * sigma_m[i] * omega / c^2 == 2 * k_m[i] * s_m[i]]\n",
    "\n",
    "display(Math(latex(eq_kappa_metal)))\n",
    "display(Math(latex(eq_s_metal)))\n",
    "\n",
    "eq_kappa_metal_s = []\n",
    "for i in range(2):\n",
    "    eq_kappa_metal_s += [eq_kappa_metal[i].subs(solve(eq_s_metal[i],s_m[i]))]\n",
    "\n",
    "display(Math(latex(eq_kappa_metal_s)))"
   ]
  },
  {
   "cell_type": "raw",
   "metadata": {},
   "source": [
    "# исходя из вида дифференциальных уравнений для диэлектрика\n",
    "# записываем соотнощения для волнового вектора в виде уравнений\n",
    "eq_kappa = []\n",
    "for i in range(n_layers):\n",
    "    eq_kappa += [mu[i] * epsilon[i] * omega^2 / c^2 - k[i]^2 == kappa^2]\n",
    "\n",
    "display(Math(latex(eq_kappa)))"
   ]
  },
  {
   "cell_type": "markdown",
   "metadata": {},
   "source": [
    "assuming for dielectric\n",
    "\n",
    "$$\\kappa^2 = \\frac{\\mu \\, \\epsilon_{\\alpha\\,\\beta}}{c^2}\\left(\\omega^2 + \\left(\\frac{2\\,\\pi\\,\\sigma}{\\epsilon_{\\alpha\\,\\beta}} \\right)^2\\right)\n",
    "- k^2$$"
   ]
  },
  {
   "cell_type": "code",
   "execution_count": 25,
   "metadata": {},
   "outputs": [
    {
     "data": {
      "text/latex": [
       "$\\displaystyle \\left[\\kappa^{2} = -k_{0}^{2} + \\frac{{\\left(\\omega^{2} + \\frac{4 \\, \\pi^{2} \\sigma_{0}^{2}}{\\epsilon_{0}^{2}}\\right)} \\epsilon_{0} \\mu_{0}}{c^{2}}, \\kappa^{2} = -k_{1}^{2} + \\frac{{\\left(\\omega^{2} + \\frac{4 \\, \\pi^{2} \\sigma_{1}^{2}}{\\epsilon_{1}^{2}}\\right)} \\epsilon_{1} \\mu_{1}}{c^{2}}\\right]$"
      ],
      "text/plain": [
       "<IPython.core.display.Math object>"
      ]
     },
     "metadata": {},
     "output_type": "display_data"
    }
   ],
   "source": [
    "# исходя из вида дифференциальных уравнений для диэлектрика\n",
    "# записываем соотнощения для волнового вектора в виде уравнений\n",
    "eq_kappa_dielectric = []\n",
    "for i in range(n_layers):\n",
    "    eq_kappa_dielectric += [kappa^2 == mu[i] * epsilon[i] / c^2 * (omega^2 + (2*pi*sigma[i]/epsilon[i])^2) - k[i]^2]\n",
    "\n",
    "display(Math(latex(eq_kappa_dielectric)))"
   ]
  },
  {
   "cell_type": "code",
   "execution_count": 26,
   "metadata": {},
   "outputs": [
    {
     "data": {
      "text/latex": [
       "$\\displaystyle \\left[\\frac{i \\, \\mu_{0} \\omega {\\rm H1}_{\\rho}\\left({\\rho}, {\\phi}\\right) e^{\\left(i \\, \\mathit{kk} \\mathit{zz}\\right)}}{c} = -i \\, \\mathit{kk} {\\rm E1}_{\\phi}\\left({\\rho}, {\\phi}\\right) e^{\\left(i \\, \\mathit{kk} \\mathit{zz}\\right)} + \\frac{e^{\\left(i \\, \\mathit{kk} \\mathit{zz}\\right)} \\frac{\\partial}{\\partial {\\phi}}{\\rm E1}_{z}\\left({\\rho}, {\\phi}\\right)}{{\\rho}}, \\frac{i \\, \\mu_{0} \\omega {\\rm H1}_{\\phi}\\left({\\rho}, {\\phi}\\right) e^{\\left(i \\, \\mathit{kk} \\mathit{zz}\\right)}}{c} = i \\, \\mathit{kk} {\\rm E1}_{\\rho}\\left({\\rho}, {\\phi}\\right) e^{\\left(i \\, \\mathit{kk} \\mathit{zz}\\right)} - e^{\\left(i \\, \\mathit{kk} \\mathit{zz}\\right)} \\frac{\\partial}{\\partial {\\rho}}{\\rm E1}_{z}\\left({\\rho}, {\\phi}\\right)\\right]$"
      ],
      "text/plain": [
       "<IPython.core.display.Math object>"
      ]
     },
     "metadata": {},
     "output_type": "display_data"
    },
    {
     "data": {
      "text/latex": [
       "$\\displaystyle \\left[-\\frac{i \\, \\epsilon_{0} \\omega {\\rm E1}_{\\rho}\\left({\\rho}, {\\phi}\\right) e^{\\left(i \\, \\mathit{kk} \\mathit{zz}\\right)}}{c} + \\frac{4 \\, \\pi \\sigma_{0}}{c} = -i \\, \\mathit{kk} {\\rm H1}_{\\phi}\\left({\\rho}, {\\phi}\\right) e^{\\left(i \\, \\mathit{kk} \\mathit{zz}\\right)} + \\frac{e^{\\left(i \\, \\mathit{kk} \\mathit{zz}\\right)} \\frac{\\partial}{\\partial {\\phi}}{\\rm H1}_{z}\\left({\\rho}, {\\phi}\\right)}{{\\rho}}, -\\frac{i \\, \\epsilon_{0} \\omega {\\rm E1}_{\\phi}\\left({\\rho}, {\\phi}\\right) e^{\\left(i \\, \\mathit{kk} \\mathit{zz}\\right)}}{c} + \\frac{4 \\, \\pi \\sigma_{0}}{c} = i \\, \\mathit{kk} {\\rm H1}_{\\rho}\\left({\\rho}, {\\phi}\\right) e^{\\left(i \\, \\mathit{kk} \\mathit{zz}\\right)} - e^{\\left(i \\, \\mathit{kk} \\mathit{zz}\\right)} \\frac{\\partial}{\\partial {\\rho}}{\\rm H1}_{z}\\left({\\rho}, {\\phi}\\right)\\right]$"
      ],
      "text/plain": [
       "<IPython.core.display.Math object>"
      ]
     },
     "metadata": {},
     "output_type": "display_data"
    }
   ],
   "source": [
    "if True:\n",
    "    i_layer = 0\n",
    "    ES.<rho,phi,zz> = EuclideanSpace(coordinates='cylindrical')\n",
    "\n",
    "    kk = var(\"kk\")\n",
    "    assume(kk, \"real\")\n",
    "    \n",
    "    assume(rho, \"real\")\n",
    "    assume(phi, \"real\")\n",
    "    assume(zz, \"real\")\n",
    "    \n",
    "    E1 = ES.vector_field(\n",
    "        function('E1_rho')(rho,phi) * e^(I*kk*zz),\n",
    "        function('E1_phi')(rho,phi) * e^(I*kk*zz),\n",
    "        function('E1_z')  (rho,phi) * e^(I*kk*zz),\n",
    "        name='E1')\n",
    "    \n",
    "    H1 = ES.vector_field(\n",
    "        function('H1_rho')(rho,phi) * e^(I*kk*zz),\n",
    "        function('H1_phi')(rho,phi) * e^(I*kk*zz),\n",
    "        function('H1_z')  (rho,phi) * e^(I*kk*zz),\n",
    "        name='H1')\n",
    "    \n",
    "    from sage.manifolds.operators import curl, laplacian\n",
    "    rot_E1 = curl(E1)\n",
    "    rot_H1 = curl(H1)\n",
    "    \n",
    "    eq_rot_E1 = []\n",
    "    for j in ES.irange():\n",
    "        if j != 3:\n",
    "            # rot E = -(1/c)*dB/dt\n",
    "            eq_rot_E1 += [ (I * omega * mu[i_layer] / c * H1[j].expr() == rot_E1[j].expr()).expand() ]\n",
    "    display(Math(latex(eq_rot_E1)))\n",
    "    \n",
    "    eq_rot_H1 = []\n",
    "    for j in ES.irange():\n",
    "        if j != 3:\n",
    "            # rot H = (1/c)*dD/dt + 4 pi / c * j\n",
    "            # rot H = -(I * omega/c)*epsilon * E + 4 pi / c * sigma * E\n",
    "            # rot H = - \\frac{i\\,\\omega}{c} \\epsilon_{\\alpha\\,\\beta} \\vec{E} + \\frac{4\\pi}{c}\\vec{j}$\n",
    "            # rot H = - \\frac{i\\,\\omega}{c} \\epsilon_{\\alpha\\,\\beta} \\vec{E} + \\frac{4\\pi}{c} \\sigma \\vec{E}$\n",
    "            eq_rot_H1 += [ (-I*omega/c*epsilon[i_layer]*E1[j].expr() + (4*pi/c)*sigma[i_layer] == rot_H1[j].expr()).expand() ]\n",
    "    display(Math(latex(eq_rot_H1)))"
   ]
  },
  {
   "cell_type": "code",
   "execution_count": 27,
   "metadata": {},
   "outputs": [],
   "source": [
    "E_phi_sol_1 = solve(eq_rot_E1[0], function('E1_phi')(rho,phi))\n",
    "#display(Math(latex(E_phi_sol_1)))\n",
    "E_phi_sol_2 = solve(eq_rot_H1[1], function('E1_phi')(rho,phi))\n",
    "#display(Math(latex(E_phi_sol_2)))"
   ]
  },
  {
   "cell_type": "code",
   "execution_count": 28,
   "metadata": {},
   "outputs": [],
   "source": [
    "H_rho_sol_1 = solve(eq_rot_E1[0], function('H1_rho')(rho,phi))\n",
    "#display(Math(latex(H_rho_sol_1)))\n",
    "H_rho_sol_2 = solve(eq_rot_H1[1], function('H1_rho')(rho,phi))\n",
    "#display(Math(latex(H_rho_sol_2)))"
   ]
  },
  {
   "cell_type": "code",
   "execution_count": 29,
   "metadata": {},
   "outputs": [
    {
     "data": {
      "text/latex": [
       "$\\displaystyle \\left[{\\rm E1}_{\\phi}\\left({\\rho}, {\\phi}\\right) = \\frac{{\\left(4 i \\, \\pi \\mu_{0} \\omega {\\rho} \\sigma_{0} + {\\left(i \\, c \\mu_{0} \\omega {\\rho} \\frac{\\partial}{\\partial {\\rho}}{\\rm H1}_{z}\\left({\\rho}, {\\phi}\\right) - i \\, c^{2} \\mathit{kk} \\frac{\\partial}{\\partial {\\phi}}{\\rm E1}_{z}\\left({\\rho}, {\\phi}\\right)\\right)} e^{\\left(i \\, \\mathit{kk} \\mathit{zz}\\right)}\\right)} e^{\\left(-i \\, \\mathit{kk} \\mathit{zz}\\right)}}{{\\left(c^{2} \\mathit{kk}^{2} - \\epsilon_{0} \\mu_{0} \\omega^{2}\\right)} {\\rho}}\\right]$"
      ],
      "text/plain": [
       "<IPython.core.display.Math object>"
      ]
     },
     "metadata": {},
     "output_type": "display_data"
    },
    {
     "data": {
      "text/latex": [
       "$\\displaystyle \\left[{\\rm E1}_{\\phi}\\left({\\rho}, {\\phi}\\right) = \\frac{{\\left(4 i \\, \\pi \\mu_{0} \\omega {\\rho} \\sigma_{0} + {\\left(i \\, c \\mu_{0} \\omega {\\rho} \\frac{\\partial}{\\partial {\\rho}}{\\rm H1}_{z}\\left({\\rho}, {\\phi}\\right) - i \\, c^{2} \\mathit{kk} \\frac{\\partial}{\\partial {\\phi}}{\\rm E1}_{z}\\left({\\rho}, {\\phi}\\right)\\right)} e^{\\left(i \\, \\mathit{kk} \\mathit{zz}\\right)}\\right)} e^{\\left(-i \\, \\mathit{kk} \\mathit{zz}\\right)}}{{\\left(c^{2} \\mathit{kk}^{2} - \\epsilon_{0} \\mu_{0} \\omega^{2}\\right)} {\\rho}}\\right]$"
      ],
      "text/plain": [
       "<IPython.core.display.Math object>"
      ]
     },
     "metadata": {},
     "output_type": "display_data"
    }
   ],
   "source": [
    "E_phi_solution_1 = solve(E_phi_sol_1[0].subs(H_rho_sol_2),function('E1_phi')(rho,phi) )\n",
    "display(Math(latex(E_phi_solution_1)))\n",
    "E_phi_solution_2 = solve(E_phi_sol_2[0].subs(H_rho_sol_1),function('E1_phi')(rho,phi) )\n",
    "display(Math(latex(E_phi_solution_2)))"
   ]
  },
  {
   "cell_type": "code",
   "execution_count": 30,
   "metadata": {},
   "outputs": [
    {
     "data": {
      "text/latex": [
       "$\\displaystyle \\left[{\\rm H1}_{\\rho}\\left({\\rho}, {\\phi}\\right) = -\\frac{{\\left(4 i \\, \\pi c \\mathit{kk} {\\rho} \\sigma_{0} + {\\left(i \\, c^{2} \\mathit{kk} {\\rho} \\frac{\\partial}{\\partial {\\rho}}{\\rm H1}_{z}\\left({\\rho}, {\\phi}\\right) - i \\, c \\epsilon_{0} \\omega \\frac{\\partial}{\\partial {\\phi}}{\\rm E1}_{z}\\left({\\rho}, {\\phi}\\right)\\right)} e^{\\left(i \\, \\mathit{kk} \\mathit{zz}\\right)}\\right)} e^{\\left(-i \\, \\mathit{kk} \\mathit{zz}\\right)}}{{\\left(c^{2} \\mathit{kk}^{2} - \\epsilon_{0} \\mu_{0} \\omega^{2}\\right)} {\\rho}}\\right]$"
      ],
      "text/plain": [
       "<IPython.core.display.Math object>"
      ]
     },
     "metadata": {},
     "output_type": "display_data"
    },
    {
     "data": {
      "text/latex": [
       "$\\displaystyle \\left[{\\rm H1}_{\\rho}\\left({\\rho}, {\\phi}\\right) = -\\frac{{\\left(4 i \\, \\pi c \\mathit{kk} {\\rho} \\sigma_{0} + {\\left(i \\, c^{2} \\mathit{kk} {\\rho} \\frac{\\partial}{\\partial {\\rho}}{\\rm H1}_{z}\\left({\\rho}, {\\phi}\\right) - i \\, c \\epsilon_{0} \\omega \\frac{\\partial}{\\partial {\\phi}}{\\rm E1}_{z}\\left({\\rho}, {\\phi}\\right)\\right)} e^{\\left(i \\, \\mathit{kk} \\mathit{zz}\\right)}\\right)} e^{\\left(-i \\, \\mathit{kk} \\mathit{zz}\\right)}}{{\\left(c^{2} \\mathit{kk}^{2} - \\epsilon_{0} \\mu_{0} \\omega^{2}\\right)} {\\rho}}\\right]$"
      ],
      "text/plain": [
       "<IPython.core.display.Math object>"
      ]
     },
     "metadata": {},
     "output_type": "display_data"
    }
   ],
   "source": [
    "H_rho_solution_1 = solve(H_rho_sol_1[0].subs(E_phi_sol_2),function('H1_rho')(rho,phi) )\n",
    "display(Math(latex(H_rho_solution_1)))\n",
    "H_rho_solution_2 = solve(H_rho_sol_2[0].subs(E_phi_sol_1),function('H1_rho')(rho,phi) )\n",
    "display(Math(latex(H_rho_solution_2)))"
   ]
  },
  {
   "cell_type": "code",
   "execution_count": 31,
   "metadata": {},
   "outputs": [],
   "source": [
    "E_rho_sol_1 = solve(eq_rot_E1[1], function('E1_rho')(rho,phi))\n",
    "#display(Math(latex(E_rho_sol_1)))\n",
    "E_rho_sol_2 = solve(eq_rot_H1[0], function('E1_rho')(rho,phi))\n",
    "#display(Math(latex(E_rho_sol_2)))"
   ]
  },
  {
   "cell_type": "code",
   "execution_count": 32,
   "metadata": {},
   "outputs": [],
   "source": [
    "H_phi_sol_1 = solve(eq_rot_E1[1], function('H1_phi')(rho,phi))\n",
    "#display(Math(latex(H_phi_sol_1)))\n",
    "H_phi_sol_2 = solve(eq_rot_H1[0], function('H1_phi')(rho,phi))\n",
    "#display(Math(latex(H_phi_sol_2)))"
   ]
  },
  {
   "cell_type": "code",
   "execution_count": 33,
   "metadata": {},
   "outputs": [
    {
     "data": {
      "text/latex": [
       "$\\displaystyle \\left[{\\rm E1}_{\\rho}\\left({\\rho}, {\\phi}\\right) = -\\frac{{\\left(-4 i \\, \\pi \\mu_{0} \\omega {\\rho} \\sigma_{0} + {\\left(i \\, c^{2} \\mathit{kk} {\\rho} \\frac{\\partial}{\\partial {\\rho}}{\\rm E1}_{z}\\left({\\rho}, {\\phi}\\right) + i \\, c \\mu_{0} \\omega \\frac{\\partial}{\\partial {\\phi}}{\\rm H1}_{z}\\left({\\rho}, {\\phi}\\right)\\right)} e^{\\left(i \\, \\mathit{kk} \\mathit{zz}\\right)}\\right)} e^{\\left(-i \\, \\mathit{kk} \\mathit{zz}\\right)}}{{\\left(c^{2} \\mathit{kk}^{2} - \\epsilon_{0} \\mu_{0} \\omega^{2}\\right)} {\\rho}}\\right]$"
      ],
      "text/plain": [
       "<IPython.core.display.Math object>"
      ]
     },
     "metadata": {},
     "output_type": "display_data"
    },
    {
     "data": {
      "text/latex": [
       "$\\displaystyle \\left[{\\rm E1}_{\\rho}\\left({\\rho}, {\\phi}\\right) = -\\frac{{\\left(-4 i \\, \\pi \\mu_{0} \\omega {\\rho} \\sigma_{0} + {\\left(i \\, c^{2} \\mathit{kk} {\\rho} \\frac{\\partial}{\\partial {\\rho}}{\\rm E1}_{z}\\left({\\rho}, {\\phi}\\right) + i \\, c \\mu_{0} \\omega \\frac{\\partial}{\\partial {\\phi}}{\\rm H1}_{z}\\left({\\rho}, {\\phi}\\right)\\right)} e^{\\left(i \\, \\mathit{kk} \\mathit{zz}\\right)}\\right)} e^{\\left(-i \\, \\mathit{kk} \\mathit{zz}\\right)}}{{\\left(c^{2} \\mathit{kk}^{2} - \\epsilon_{0} \\mu_{0} \\omega^{2}\\right)} {\\rho}}\\right]$"
      ],
      "text/plain": [
       "<IPython.core.display.Math object>"
      ]
     },
     "metadata": {},
     "output_type": "display_data"
    }
   ],
   "source": [
    "E_rho_solution_1 = solve(E_rho_sol_1[0].subs(H_phi_sol_2),function('E1_rho')(rho,phi) )\n",
    "display(Math(latex(E_rho_solution_1)))\n",
    "E_rho_solution_2 = solve(E_rho_sol_2[0].subs(H_phi_sol_1),function('E1_rho')(rho,phi) )\n",
    "display(Math(latex(E_rho_solution_2)))"
   ]
  },
  {
   "cell_type": "code",
   "execution_count": 34,
   "metadata": {},
   "outputs": [
    {
     "data": {
      "text/latex": [
       "$\\displaystyle \\left[{\\rm H1}_{\\phi}\\left({\\rho}, {\\phi}\\right) = -\\frac{{\\left(-4 i \\, \\pi c \\mathit{kk} {\\rho} \\sigma_{0} + {\\left(i \\, c \\epsilon_{0} \\omega {\\rho} \\frac{\\partial}{\\partial {\\rho}}{\\rm E1}_{z}\\left({\\rho}, {\\phi}\\right) + i \\, c^{2} \\mathit{kk} \\frac{\\partial}{\\partial {\\phi}}{\\rm H1}_{z}\\left({\\rho}, {\\phi}\\right)\\right)} e^{\\left(i \\, \\mathit{kk} \\mathit{zz}\\right)}\\right)} e^{\\left(-i \\, \\mathit{kk} \\mathit{zz}\\right)}}{{\\left(c^{2} \\mathit{kk}^{2} - \\epsilon_{0} \\mu_{0} \\omega^{2}\\right)} {\\rho}}\\right]$"
      ],
      "text/plain": [
       "<IPython.core.display.Math object>"
      ]
     },
     "metadata": {},
     "output_type": "display_data"
    }
   ],
   "source": [
    "H_phi_solution = solve(H_phi_sol_1[0].subs(E_rho_sol_2),function('H1_phi')(rho,phi) )\n",
    "#display(Math(latex(H_phi_sol)))\n",
    "H_phi_solution = solve(H_phi_sol_2[0].subs(E_rho_sol_1),function('H1_phi')(rho,phi) )\n",
    "display(Math(latex(H_phi_solution)))"
   ]
  },
  {
   "cell_type": "code",
   "execution_count": 35,
   "metadata": {},
   "outputs": [],
   "source": [
    "H_z   = []\n",
    "H_z_a = [] # sin(k[i]*z) = imag_part()\n",
    "H_z_b = [] # cos(k[i]*z) = real_part()\n",
    "for i in range(n_layers):\n",
    "    if E_mode:\n",
    "        H_z   += [lambda r,p,z, i=i : 0]\n",
    "        H_z_a += [lambda r,p,z, i=i : 0]\n",
    "        H_z_b += [lambda r,p,z, i=i : 0]\n",
    "        pass\n",
    "    else:\n",
    "        H_z   += [lambda r,p,z, i=i: bessel_J(m,kappa*r)*(A_z[i]*sin(k[i]*z) + B_z[i]*cos(k[i]*z))*cos(m*p)]\n",
    "        H_z_a += [lambda r,p,z, i=i: bessel_J(m,kappa*r)*(A_z[i]*e^(I*k[i]*z)) * cos(m*p)]\n",
    "        H_z_b += [lambda r,p,z, i=i: bessel_J(m,kappa*r)*(B_z[i]*e^(I*k[i]*z)) * cos(m*p)]"
   ]
  },
  {
   "cell_type": "code",
   "execution_count": 36,
   "metadata": {},
   "outputs": [],
   "source": [
    "E_z   = [] \n",
    "E_z_c = [] # sin(k[i]*z) = imag_part()\n",
    "E_z_d = [] # cos(k[i]*z) = real_part()\n",
    "for i in range(n_layers):\n",
    "    if E_mode:\n",
    "        E_z   += [lambda r,p,z, i=i: bessel_J(m,kappa*r)*( C_z[i]*sin(k[i]*z) + D_z[i]*cos(k[i]*z))*cos(m*p)]\n",
    "        E_z_c += [lambda r,p,z, i=i: bessel_J(m,kappa*r)*( C_z[i]*e^(I*k[i]*z)) * cos(m*p)]\n",
    "        E_z_d += [lambda r,p,z, i=i: bessel_J(m,kappa*r)*( D_z[i]*e^(I*k[i]*z)) * cos(m*p)]\n",
    "    else:\n",
    "        E_z   += [lambda r,p,z, i=i: 0]\n",
    "        E_z_c += [lambda r,p,z, i=i: 0]\n",
    "        E_z_d += [lambda r,p,z, i=i: 0]\n",
    "        pass"
   ]
  },
  {
   "cell_type": "raw",
   "metadata": {},
   "source": [
    "E_z = []\n",
    "for i in range(n_layers):\n",
    "    if E_mode:\n",
    "        E_z += [lambda r,p,z, i=i: bessel_J(m,kappa*r)*( D_z[i]*cos(k[i]*z) + C_z[i]*sin(k[i]*z)) * cos(m*p)]\n",
    "    else:\n",
    "        E_z += [lambda r,p,z, i=i: 0]"
   ]
  },
  {
   "cell_type": "raw",
   "metadata": {},
   "source": [
    "H_z = []\n",
    "for i in range(n_layers):\n",
    "    if E_mode:\n",
    "        H_z += [lambda r,p,z, i=i : 0]\n",
    "    else:\n",
    "        H_z += [lambda r,p,z, i=i: bessel_J(m,kappa*r)*(A_z[i]*sin(k[i]*z) + B_z[i]*cos(k[i]*z)) * cos(m*p)]"
   ]
  },
  {
   "cell_type": "code",
   "execution_count": 37,
   "metadata": {},
   "outputs": [],
   "source": [
    "def expand_re_im_operands(s, expand_real_operands, expand_imag_operands):\n",
    "    from sage.symbolic.operators import add_vararg, mul_vararg\n",
    "    s_factor = s.factor()\n",
    "    #print(\"s_factor\", s_factor)\n",
    "    s_factor_operator = s_factor.operator()\n",
    "    #print(\"s_factor.operator()\", s_factor_operator)\n",
    "    if mul_vararg != s_factor_operator:\n",
    "        print(\"mul_vararg != s_factor.operator()\", s_factor_operator)\n",
    "        print(\"re_im(v_expanded)\", v_expanded)\n",
    "        raise (\"mul_vararg != s_factor.operator()\", s_factor_operator)\n",
    "\n",
    "    current_s_has_image_part = False\n",
    "    current_s_has_exp_of_image_part = False\n",
    "\n",
    "    s_factor_real_operands = ()\n",
    "    s_factor_imag_operands = ()\n",
    "    s_factor_complex_exp_operands = ()\n",
    "    for m in s_factor.operands():\n",
    "        #print(\"operand\", m, m.operator())\n",
    "        if bessel_J == m.operator():\n",
    "            #print(\"bessel_J == m.operator()\", m, m.operator(), m.operands())\n",
    "            s_factor_real_operands += (m,)\n",
    "        elif 'bessel_j' == str(m.operator()):\n",
    "            #print(\"bessel_j == m.operator()\", m, m.operator(), m.operands())\n",
    "            s_factor_real_operands += (bessel_J(*m.operands()),)\n",
    "        elif exp == m.operator():\n",
    "            #print(\"exp == m.operator() m.operands():\",m, m.operands())\n",
    "            current_exp_has_image_part = False\n",
    "            for m_operand in m.operands():\n",
    "                #print(\"m_operand\", m_operand)\n",
    "                m_operand_imag_part = m_operand.imag_part()\n",
    "                #print(\"m_operand_imag_part\", m_operand_imag_part)\n",
    "                #print(\"type(m_operand_imag_part)\", type(m_operand_imag_part))\n",
    "                #print(\"type(0)\", type(0))\n",
    "                m_operand_imag_part_is_0 = 0 is m_operand_imag_part\n",
    "                #print(\"m_operand_imag_part_is_0\", m_operand_imag_part_is_0)\n",
    "                m_operand_imag_part_eq_0 = 0 == m_operand_imag_part\n",
    "                bool_m_operand_imag_part_eq_0 = bool(m_operand_imag_part_eq_0)\n",
    "                #print(\"m_operand_imag_part_eq_0\", m_operand_imag_part_eq_0)\n",
    "                #print(\"type(m_operand_imag_part_eq_0)\", type(m_operand_imag_part_eq_0))\n",
    "                if False == bool_m_operand_imag_part_eq_0:\n",
    "                    #print(\"current_s_has_exp_of_image_part\")\n",
    "                    current_s_has_exp_of_image_part = True\n",
    "                    current_exp_has_image_part = True\n",
    "            if True == current_exp_has_image_part:\n",
    "                #print(\"True == current_exp_has_image_part\")\n",
    "                s_factor_complex_exp_operands += (m,)\n",
    "            else:\n",
    "                #print(\"not True == current_exp_has_image_part\")\n",
    "                s_factor_real_operands += (m,)\n",
    "        else:\n",
    "            #print(\"not bessel, not exp\", m)\n",
    "            m_imag_part = m.imag_part()\n",
    "            #print(\"m_imag_part\", m_imag_part)\n",
    "            #print(\"type(m_imag_part)\", type(m_imag_part))\n",
    "            #print(\"type(0)\", type(0))\n",
    "            m_imag_part_is_0 = 0 is m_imag_part\n",
    "            #print(\"m_imag_part_is_0\", m_imag_part_is_0)\n",
    "            m_imag_part_eq_0 = 0 == m_imag_part\n",
    "            bool_m_imag_part_eq_0 = bool(m_imag_part_eq_0)\n",
    "            #print(\"m_imag_part_eq_0\", m_imag_part_eq_0)\n",
    "            #print(\"bool(m_imag_part_eq_0)\", bool(m_imag_part_eq_0))\n",
    "            #print(\"type(m_imag_part_eq_0)\", type(m_imag_part_eq_0))\n",
    "            if False == bool_m_imag_part_eq_0:\n",
    "                #print(\"current_s_has_image_part = True\")\n",
    "                current_s_has_image_part = True\n",
    "                s_factor_imag_operands += (I,)\n",
    "                s_factor_real_operands += (m/I,)\n",
    "            else:\n",
    "                #print(\"not current_s_has_image_part = True\")\n",
    "                s_factor_real_operands += (m,)\n",
    "\n",
    "    if True == current_s_has_exp_of_image_part:\n",
    "        #print(\"current_s_has_exp_of_image_part\")\n",
    "        if True == current_s_has_image_part:\n",
    "            #print(\"True == current_s_has_image_part\")\n",
    "            imag_part_mul_complex_exp = mul_vararg(*(s_factor_imag_operands + s_factor_complex_exp_operands))\n",
    "            re_out = mul_vararg(*((imag_part_mul_complex_exp.real_part(),) + s_factor_real_operands))\n",
    "            im_out = mul_vararg(*((imag_part_mul_complex_exp.imag_part(),) + s_factor_real_operands))\n",
    "        else:\n",
    "            #print(\"not True == current_s_has_image_part\")\n",
    "            mul_complex_exp = mul_vararg(*(s_factor_complex_exp_operands))\n",
    "            re_out = mul_vararg(*((mul_complex_exp.real_part(),) + s_factor_real_operands))\n",
    "            im_out = mul_vararg(*((mul_complex_exp.imag_part(),) + s_factor_real_operands))\n",
    "    else:\n",
    "        #print(\"not current_s_has_exp_of_image_part\")\n",
    "        if True == current_s_has_image_part:\n",
    "            #print(\"True == current_s_has_image_part\")\n",
    "            imag_part_mul = mul_vararg(*(s_factor_imag_operands))\n",
    "            real_part_mul = mul_vararg(*(s_factor_real_operands))\n",
    "            #print(\"imag_part_mul\", imag_part_mul)\n",
    "            #print(\"real_part_mul\", real_part_mul)\n",
    "            re_out = 0\n",
    "            im_out = (imag_part_mul/I) * real_part_mul\n",
    "        else:\n",
    "            #print(\"not True == current_s_has_image_part\")\n",
    "            im_out = 0\n",
    "            real_part_mul = mul_vararg(*(s_factor_real_operands))\n",
    "            re_out = real_part_mul\n",
    "    #print(\"re_out\", re_out)\n",
    "    #print(\"im_out\", im_out)\n",
    "    expand_real_operands += (re_out,)\n",
    "    expand_imag_operands += (im_out,)\n",
    "    \n",
    "    return (expand_real_operands, expand_imag_operands)\n",
    "\n",
    "\n",
    "def re_im(v_expanded):\n",
    "    from sage.symbolic.operators import add_vararg, mul_vararg\n",
    "    expand_real_operands = ()\n",
    "    expand_imag_operands = ()\n",
    "    v_expanded_operator = v_expanded.operator()\n",
    "    if None == v_expanded_operator:\n",
    "        return (v_expanded.real_part(), v_expanded.imag_part())\n",
    "    elif add_vararg == v_expanded_operator:\n",
    "        for s in v_expanded.operands():\n",
    "            (expand_real_operands, expand_imag_operands) = expand_re_im_operands(s, expand_real_operands, expand_imag_operands)\n",
    "    elif mul_vararg == v_expanded_operator:\n",
    "        (expand_real_operands, expand_imag_operands) = expand_re_im_operands(v_expanded, expand_real_operands, expand_imag_operands)\n",
    "    else:\n",
    "        print(\"add_vararg, mul_vararg and None != v_expanded.operator()\", v_expanded.operator())\n",
    "        print(\"re_im(v_expanded)\", v_expanded)\n",
    "        return (v_expanded.real_part(), v_expanded.imag_part())\n",
    "\n",
    "    if 0 == len(expand_real_operands) and  0 == len(expand_imag_operands):\n",
    "        return (0, 0)\n",
    "    if 0 == len(expand_real_operands) and  0 != len(expand_imag_operands):\n",
    "        return (0, (add_vararg(*expand_imag_operands)).factor())\n",
    "    if 0 != len(expand_real_operands) and  0 == len(expand_imag_operands):\n",
    "        return ((add_vararg(*expand_real_operands)).factor(), 0)\n",
    "    return ((add_vararg(*expand_real_operands)), (add_vararg(*expand_imag_operands)))\n",
    "\n",
    "def Re(v):\n",
    "    if sage.rings.integer.Integer == type(v):\n",
    "        return v\n",
    "    #return v.real_part()\n",
    "\n",
    "    from sage.symbolic.operators import add_vararg, mul_vararg\n",
    "    v_expanded = v.expand()\n",
    "    (re, im) = re_im(v_expanded)\n",
    "    return re\n",
    "\n",
    "def Im(v):\n",
    "    if sage.rings.integer.Integer == type(v):\n",
    "        return 0\n",
    "    #return v.imag_part()\n",
    "\n",
    "    from sage.symbolic.operators import add_vararg, mul_vararg\n",
    "    v_expanded = v.expand()\n",
    "    (re, im) = re_im(v_expanded)\n",
    "    return im"
   ]
  },
  {
   "cell_type": "code",
   "execution_count": 38,
   "metadata": {},
   "outputs": [],
   "source": [
    "r = var('r') #rho\n",
    "p = var('p') #phi\n",
    "assume(r, \"real\")\n",
    "assume(r > 0)\n",
    "assume(p, \"real\")"
   ]
  },
  {
   "cell_type": "code",
   "execution_count": 39,
   "metadata": {},
   "outputs": [],
   "source": [
    "def Preparse(s):\n",
    "    s = s.replace('bessel_j', 'bessel_J')\n",
    "    return preparse(s)"
   ]
  },
  {
   "cell_type": "code",
   "execution_count": 40,
   "metadata": {},
   "outputs": [],
   "source": [
    "def make_field_formula(field_sol, i, i_layer, debug = False):\n",
    "    def str_replacing(s, i, i_layer):\n",
    "        return s.replace('kk', 'k[i]') \\\n",
    "            .replace(str(k[i_layer]), 'k[i]') \\\n",
    "            .replace(str(k[i]), 'k[i]') \\\n",
    "            .replace(str(epsilon[i_layer]), 'epsilon[i]') \\\n",
    "            .replace(str(epsilon[i]), 'epsilon[i]') \\\n",
    "            .replace(str(mu[i_layer]), 'mu[i]') \\\n",
    "            .replace(str(mu[i]), 'mu[i]') \\\n",
    "            .replace(str(sigma[i_layer]), 'sigma[i]') \\\n",
    "            .replace(str(sigma[i]), 'sigma[i]') \\\n",
    "            .replace('rho', 'r') \\\n",
    "            .replace('rh', 'r') \\\n",
    "            .replace('varphi', 'p') \\\n",
    "            .replace('phi', 'p') \\\n",
    "            .replace('ph', 'p') \\\n",
    "            .replace('zz', 'z') \\\n",
    "            .replace(str(A_z[i]), 'A_z[i]') \\\n",
    "            .replace(str(B_z[i]), 'B_z[i]') \\\n",
    "            .replace(str(C_z[i]), 'C_z[i]') \\\n",
    "            .replace(str(D_z[i]), 'D_z[i]') \\\n",
    "            .replace('bessel_j', 'bessel_J')\n",
    "\n",
    "    s = str(field_sol[0].rhs().subs(solve(eq_kappa_dielectric[i_layer], omega^2)))\n",
    "    if debug:\n",
    "        print(\"s =\", s)\n",
    "    s = s.replace(str(k[i_layer]), 'kk')\n",
    "    if debug:\n",
    "        print(\"s =\", s)\n",
    "    s = str_replacing(s, i, i_layer)\n",
    "    if debug:\n",
    "        print(\"s =\", s)\n",
    "    \n",
    "    s_im = s \\\n",
    "        .replace('H1_z(r, p)', 'H_z_a[i](r,p,z)') \\\n",
    "        .replace('E1_z(r, p)', 'E_z_c[i](r,p,z)')\n",
    "    s_re = s \\\n",
    "        .replace('H1_z(r, p)', 'H_z_b[i](r,p,z)') \\\n",
    "        .replace('E1_z(r, p)', 'E_z_d[i](r,p,z)')\n",
    "    s_all = s \\\n",
    "        .replace('H1_z(r, p)', 'H_z[i](r,p,z)') \\\n",
    "        .replace('E1_z(r, p)', 'E_z[i](r,p,z)')\n",
    "    if debug:\n",
    "        print(\"s_im =\", s_im)\n",
    "        print(\"s_re =\", s_re)\n",
    "        print(\"s_all =\", s_all)\n",
    "\n",
    "    f_Im = []\n",
    "    f_Re = []\n",
    "    f_im = []\n",
    "    f_re = []\n",
    "    f = []\n",
    "    exec(\"f_im += [\" + preparse(\"(\" + s_im + \").imag_part()\") + \"]\")\n",
    "    exec(\"f_re += [\" + preparse(\"(\" + s_re + \").real_part()\") + \"]\")\n",
    "    exec(\"f_Im += [\" + Preparse(\"Im(\" + s_im + \")\") + \"]\")\n",
    "    exec(\"f_Re += [\" + Preparse(\"Re(\" + s_re + \")\") + \"]\")\n",
    "    exec(\"f += [\" + Preparse(s_all) + \"]\")\n",
    "\n",
    "    s1 = str_replacing(str(f[0]), i, i_layer)\n",
    "    s2 = str_replacing(str((f_im[0]+f_re[0]).factor()), i, i_layer)\n",
    "    s3 = str_replacing(str((f_Im[0]+f_Re[0]).factor()), i, i_layer)\n",
    "    return (s1, s2, s3)"
   ]
  },
  {
   "cell_type": "code",
   "execution_count": 41,
   "metadata": {},
   "outputs": [
    {
     "name": "stdout",
     "output_type": "stream",
     "text": [
      "\n",
      "E_rh += [lambda r,p,z, i=i:  -1/2*(-I*(D_z[i]*cos(k[i]*z) + C_z[i]*sin(k[i]*z))*c^2*k[i]*kappa*r*(bessel_J(m + 1, kappa*r) - bessel_J(m - 1, kappa*r))*cos(m*p)*e^(I*k[i]*z) - 8*I*pi*mu[i]*omega*r*sigma[i])*e^(-I*k[i]*z)/((c^2*k[i]^2 - (c^2*epsilon[i]*k[i]^2 + c^2*epsilon[i]*kappa^2 - 4*pi^2*mu[i]*sigma[i]^2)/epsilon[i])*r) ]\n",
      "\n",
      "E_rh += [lambda r,p,z, i=i: -1/2*(C_z[i]*c^2*k[i]*kappa*bessel_J(m + 1, kappa*r)*cos(m*p)*cos(k[i]*z) - C_z[i]*c^2*k[i]*kappa*bessel_J(m - 1, kappa*r)*cos(m*p)*cos(k[i]*z) - D_z[i]*c^2*k[i]*kappa*bessel_J(m + 1, kappa*r)*cos(m*p)*sin(k[i]*z) + D_z[i]*c^2*k[i]*kappa*bessel_J(m - 1, kappa*r)*cos(m*p)*sin(k[i]*z) + 8*pi*mu[i]*omega*sigma[i]*cos(k[i]*z) + 8*pi*mu[i]*omega*sigma[i]*sin(k[i]*z))*epsilon[i]/(c^2*epsilon[i]*kappa^2 - 4*pi^2*mu[i]*sigma[i]^2)]\n",
      "\n",
      "E_rh += [lambda r,p,z, i=i:  -1/2*(C_z[i]*c^2*k[i]*kappa*bessel_J(m + 1, kappa*r)*cos(m*p)*cos(k[i]*z) - C_z[i]*c^2*k[i]*kappa*bessel_J(m - 1, kappa*r)*cos(m*p)*cos(k[i]*z) - D_z[i]*c^2*k[i]*kappa*bessel_J(m + 1, kappa*r)*cos(m*p)*sin(k[i]*z) + D_z[i]*c^2*k[i]*kappa*bessel_J(m - 1, kappa*r)*cos(m*p)*sin(k[i]*z) + 8*pi*mu[i]*omega*sigma[i]*cos(k[i]*z) + 8*pi*mu[i]*omega*sigma[i]*sin(k[i]*z))*epsilon[i]/(c^2*epsilon[i]*kappa^2 - 4*pi^2*mu[i]*sigma[i]^2) ]\n",
      "\n"
     ]
    }
   ],
   "source": [
    "for i in [0]:\n",
    "    (s1, s2, s3) = make_field_formula(E_rho_solution_2, i, i_layer)\n",
    "    print(\"\")\n",
    "    print(\"E_rh += [lambda r,p,z, i=i: \", s1, \"]\")\n",
    "    print(\"\")\n",
    "    str1 = \"E_rh += [lambda r,p,z, i=i: \" + s2 + \"]\"\n",
    "    print(str1)\n",
    "    print(\"\")\n",
    "    print(\"E_rh += [lambda r,p,z, i=i: \", s3, \"]\")\n",
    "    print(\"\")\n",
    "    \n",
    "E_rh = []\n",
    "for i in range(n_layers):\n",
    "    exec(preparse(str1))"
   ]
  },
  {
   "cell_type": "code",
   "execution_count": 42,
   "metadata": {},
   "outputs": [
    {
     "name": "stdout",
     "output_type": "stream",
     "text": [
      "E_ph += [lambda r,p,z, i=i:  (I*(D_z[i]*cos(k[i]*z) + C_z[i]*sin(k[i]*z))*c^2*k[i]*m*bessel_J(m, kappa*r)*e^(I*k[i]*z)*sin(m*p) + 4*I*pi*mu[i]*omega*r*sigma[i])*e^(-I*k[i]*z)/((c^2*k[i]^2 - (c^2*epsilon[i]*k[i]^2 + c^2*epsilon[i]*kappa^2 - 4*pi^2*mu[i]*sigma[i]^2)/epsilon[i])*r) ]\n",
      "\n",
      "E_ph += [lambda r,p,z, i=i: -(C_z[i]*c^2*k[i]*m*bessel_J(m, kappa*r)*cos(k[i]*z)*sin(m*p) - D_z[i]*c^2*k[i]*m*bessel_J(m, kappa*r)*sin(m*p)*sin(k[i]*z) + 4*pi*mu[i]*omega*r*sigma[i]*cos(k[i]*z) + 4*pi*mu[i]*omega*r*sigma[i]*sin(k[i]*z))*epsilon[i]/((c^2*epsilon[i]*kappa^2 - 4*pi^2*mu[i]*sigma[i]^2)*r)]\n",
      "\n",
      "E_ph += [lambda r,p,z, i=i:  -(C_z[i]*c^2*k[i]*m*bessel_J(m, kappa*r)*cos(k[i]*z)*sin(m*p) - D_z[i]*c^2*k[i]*m*bessel_J(m, kappa*r)*sin(m*p)*sin(k[i]*z) + 4*pi*mu[i]*omega*r*sigma[i]*cos(k[i]*z) + 4*pi*mu[i]*omega*r*sigma[i]*sin(k[i]*z))*epsilon[i]/((c^2*epsilon[i]*kappa^2 - 4*pi^2*mu[i]*sigma[i]^2)*r) ]\n",
      "\n"
     ]
    }
   ],
   "source": [
    "for i in [0]:\n",
    "    (s1, s2, s3) = make_field_formula(E_phi_solution_2, i, i_layer)\n",
    "    print(\"E_ph += [lambda r,p,z, i=i: \", s1, \"]\")\n",
    "    print(\"\")\n",
    "    str1 = \"E_ph += [lambda r,p,z, i=i: \" + s2 + \"]\"\n",
    "    print(str1)\n",
    "    print(\"\")\n",
    "    print(\"E_ph += [lambda r,p,z, i=i: \", s3, \"]\")\n",
    "    print(\"\")\n",
    "\n",
    "E_ph = []\n",
    "for i in range(n_layers):\n",
    "    exec(preparse(str1))"
   ]
  },
  {
   "cell_type": "code",
   "execution_count": 43,
   "metadata": {},
   "outputs": [
    {
     "name": "stdout",
     "output_type": "stream",
     "text": [
      "H_rh += [lambda rh,ph,z, i=i: (-I*(D_z[i]*cos(k[i]*z) + C_z[i]*sin(k[i]*z))*c*epsilon[i]*m*omega*bessel_J(m, kappa*r)*e^(I*k[i]*z)*sin(m*p) - 4*I*pi*c*k[i]*r*sigma[i])*e^(-I*k[i]*z)/((c^2*k[i]^2 - (c^2*epsilon[i]*k[i]^2 + c^2*epsilon[i]*kappa^2 - 4*pi^2*mu[i]*sigma[i]^2)/epsilon[i])*r)]\n",
      "\n",
      "H_rh += [lambda rh,ph,z, i=i:  (C_z[i]*epsilon[i]*m*omega*bessel_J(m, kappa*r)*cos(k[i]*z)*sin(m*p) - D_z[i]*epsilon[i]*m*omega*bessel_J(m, kappa*r)*sin(m*p)*sin(k[i]*z) + 4*pi*k[i]*r*sigma[i]*cos(k[i]*z) + 4*pi*k[i]*r*sigma[i]*sin(k[i]*z))*c*epsilon[i]/((c^2*epsilon[i]*kappa^2 - 4*pi^2*mu[i]*sigma[i]^2)*r) ]\n",
      "\n",
      "H_rh += [lambda rh,ph,z, i=i:  (C_z[i]*epsilon[i]*m*omega*bessel_J(m, kappa*r)*cos(k[i]*z)*sin(m*p) - D_z[i]*epsilon[i]*m*omega*bessel_J(m, kappa*r)*sin(m*p)*sin(k[i]*z) + 4*pi*k[i]*r*sigma[i]*cos(k[i]*z) + 4*pi*k[i]*r*sigma[i]*sin(k[i]*z))*c*epsilon[i]/((c^2*epsilon[i]*kappa^2 - 4*pi^2*mu[i]*sigma[i]^2)*r) ]\n",
      "\n"
     ]
    }
   ],
   "source": [
    "for i in [0]:\n",
    "    (s1, s2, s3) = make_field_formula(H_rho_solution_2, i, i_layer)\n",
    "    str1 = \"H_rh += [lambda rh,ph,z, i=i: \" + s1 + \"]\"\n",
    "    print(str1)\n",
    "    print(\"\")\n",
    "    print(\"H_rh += [lambda rh,ph,z, i=i: \", s2, \"]\")\n",
    "    print(\"\")\n",
    "    print(\"H_rh += [lambda rh,ph,z, i=i: \", s3, \"]\")\n",
    "    print(\"\")\n",
    "\n",
    "H_rh = []\n",
    "for i in range(n_layers):\n",
    "    exec(preparse(str1))"
   ]
  },
  {
   "cell_type": "code",
   "execution_count": 44,
   "metadata": {},
   "outputs": [
    {
     "name": "stdout",
     "output_type": "stream",
     "text": [
      "H_ph += [lambda rh,ph,z, i=i: -1/2*(-I*(D_z[i]*cos(k[i]*z) + C_z[i]*sin(k[i]*z))*c*epsilon[i]*kappa*omega*r*(bessel_J(m + 1, kappa*r) - bessel_J(m - 1, kappa*r))*cos(m*p)*e^(I*k[i]*z) - 8*I*pi*c*k[i]*r*sigma[i])*e^(-I*k[i]*z)/((c^2*k[i]^2 - (c^2*epsilon[i]*k[i]^2 + c^2*epsilon[i]*kappa^2 - 4*pi^2*mu[i]*sigma[i]^2)/epsilon[i])*r)]\n",
      "\n",
      "H_ph += [lambda rh,ph,z, i=i:  -1/2*(C_z[i]*epsilon[i]*kappa*omega*bessel_J(m + 1, kappa*r)*cos(m*p)*cos(k[i]*z) - C_z[i]*epsilon[i]*kappa*omega*bessel_J(m - 1, kappa*r)*cos(m*p)*cos(k[i]*z) - D_z[i]*epsilon[i]*kappa*omega*bessel_J(m + 1, kappa*r)*cos(m*p)*sin(k[i]*z) + D_z[i]*epsilon[i]*kappa*omega*bessel_J(m - 1, kappa*r)*cos(m*p)*sin(k[i]*z) + 8*pi*k[i]*sigma[i]*cos(k[i]*z) + 8*pi*k[i]*sigma[i]*sin(k[i]*z))*c*epsilon[i]/(c^2*epsilon[i]*kappa^2 - 4*pi^2*mu[i]*sigma[i]^2) ]\n",
      "\n",
      "H_ph += [lambda rh,ph,z, i=i:  -1/2*(C_z[i]*epsilon[i]*kappa*omega*bessel_J(m + 1, kappa*r)*cos(m*p)*cos(k[i]*z) - C_z[i]*epsilon[i]*kappa*omega*bessel_J(m - 1, kappa*r)*cos(m*p)*cos(k[i]*z) - D_z[i]*epsilon[i]*kappa*omega*bessel_J(m + 1, kappa*r)*cos(m*p)*sin(k[i]*z) + D_z[i]*epsilon[i]*kappa*omega*bessel_J(m - 1, kappa*r)*cos(m*p)*sin(k[i]*z) + 8*pi*k[i]*sigma[i]*cos(k[i]*z) + 8*pi*k[i]*sigma[i]*sin(k[i]*z))*c*epsilon[i]/(c^2*epsilon[i]*kappa^2 - 4*pi^2*mu[i]*sigma[i]^2) ]\n",
      "\n"
     ]
    }
   ],
   "source": [
    "for i in [0]:\n",
    "    (s1, s2, s3) = make_field_formula(H_phi_solution, i, i_layer)\n",
    "    str1 = \"H_ph += [lambda rh,ph,z, i=i: \" + s1 + \"]\"\n",
    "    print(str1)\n",
    "    print(\"\")\n",
    "    print(\"H_ph += [lambda rh,ph,z, i=i: \", s2, \"]\")\n",
    "    print(\"\")\n",
    "    print(\"H_ph += [lambda rh,ph,z, i=i: \", s3, \"]\")\n",
    "    print(\"\")\n",
    "    #print(-2*bessel_J_d(m,kappa*rh))\n",
    "\n",
    "H_ph = []\n",
    "for i in range(n_layers):\n",
    "    exec(preparse(str1))"
   ]
  },
  {
   "cell_type": "code",
   "execution_count": null,
   "metadata": {},
   "outputs": [],
   "source": []
  },
  {
   "cell_type": "raw",
   "metadata": {},
   "source": [
    "E_rh = []\n",
    "for i in range(n_layers):\n",
    "    if E_mode:\n",
    "        #E_rh += [lambda rh,ph,z, i=i: k[i]/kappa * bessel_J_d(m,kappa*rh)*(-D_z[i]*sin(k[i]*z) + C_z[i]*cos(k[i]*z)) * cos(m*ph)]\n",
    "        #E_rh += [lambda r,p,z, i=i: -1/2*(C_z[i]*cos(k[i]*z) - D_z[i]*sin(k[i]*z))*k[i]*(bessel_J(m + 1, kappa*r) - bessel_J(m - 1, kappa*r))*cos(m*p)/kappa]\n",
    "        #E_rh += [lambda rh,ph,z, i=i: -1/2*(C_z[i]*cos(k[i]*z) - D_z[i]*sin(k[i]*z))*c^2*epsilon[i]*k[i]*kappa*(bessel_J(m + 1, kappa*rh) - bessel_J(m - 1, kappa*rh))*cos(m*ph)/(c^2*epsilon[i]*kappa^2 - 4*pi^2*mu[i]*sigma[i]^2) ]\n",
    "        E_rh += [lambda r,p,z, i=i: -1/2*(C_z[i]*c^2*k[i]*kappa*bessel_J(m + 1, kappa*r)*cos(m*p)*cos(k[i]*z) - C_z[i]*c^2*k[i]*kappa*bessel_J(m - 1, kappa*r)*cos(m*p)*cos(k[i]*z) - D_z[i]*c^2*k[i]*kappa*bessel_J(m + 1, kappa*r)*cos(m*p)*sin(k[i]*z) + D_z[i]*c^2*k[i]*kappa*bessel_J(m - 1, kappa*r)*cos(m*p)*sin(k[i]*z) + 8*pi*mu[i]*omega*sigma[i]*cos(k[i]*z) + 8*pi*mu[i]*omega*sigma[i]*sin(k[i]*z))*epsilon[i]/(c^2*epsilon[i]*kappa^2 - 4*pi^2*mu[i]*sigma[i]^2) ]\n",
    "    else:\n",
    "        #E_rh += [lambda rh,ph,z, i=i : I*m*omega*mu[i]/(c*kappa^2*rh) * bessel_J  (m,kappa*rh)*(-B_z[i]*cos(k[i]*z) - A_z[i]*sin(k[i]*z)) * sin(m*ph)]\n",
    "        E_rh += [lambda r,p,z, i=i : -I*(B_z[i]*cos(k[i]*z) + A_z[i]*sin(k[i]*z))*m*mu[i]*omega*bessel_J(m, kappa*r)*sin(m*p)/(c*kappa^2*r)]"
   ]
  },
  {
   "cell_type": "raw",
   "metadata": {},
   "source": [
    "E_ph = []\n",
    "#E_Ph = []\n",
    "for i in range(n_layers):\n",
    "    if E_mode:\n",
    "        #E_ph += [lambda rh,ph,z, i=i: m*k[i]/(kappa^2*rh) * bessel_J  (m,kappa*rh)*(-D_z[i]*sin(k[i]*z) + C_z[i]*cos(k[i]*z)) * sin(m*ph)]\n",
    "        #E_ph += [lambda r,p,z, i=i: -(C_z[i]*cos(k[i]*z) - D_z[i]*sin(k[i]*z))*k[i]*m*bessel_J(m, kappa*r)*sin(m*p)/(kappa^2*r)]\n",
    "        #E_Ph += [lambda r,p,z, i=i: -(C_z[i]*cos(k[i]*z) - D_z[i]*sin(k[i]*z))*k[i]*m_bessel_J_div_x(m, kappa*r)*sin(m*p)/(kappa)]\n",
    "        #E_ph += [lambda rh,ph,z, i=i:  -(C_z[i]*cos(k[i]*z) - D_z[i]*sin(k[i]*z))*c^2*epsilon[i]*k[i]*m*bessel_J(m, kappa*rh)*sin(m*ph)/((c^2*epsilon[i]*kappa^2 - 4*pi^2*mu[i]*sigma[i]^2)*rh) ]\n",
    "        E_ph += [lambda r,p,z, i=i:  -(C_z[i]*c^2*k[i]*m*bessel_J(m, kappa*r)*cos(k[i]*z)*sin(m*p) - D_z[i]*c^2*k[i]*m*bessel_J(m, kappa*r)*sin(m*p)*sin(k[i]*z) + 4*pi*mu[i]*omega*r*sigma[i]*cos(k[i]*z) + 4*pi*mu[i]*omega*r*sigma[i]*sin(k[i]*z))*epsilon[i]/((c^2*epsilon[i]*kappa^2 - 4*pi^2*mu[i]*sigma[i]^2)*r) ]\n",
    "        #E_ph += [lambda r,p,z, i=i:  (I*(D_z[i]*cos(k[i]*z) + C_z[i]*sin(k[i]*z))*c^2*k[i]*m*bessel_J(m, kappa*r)*e^(I*k[i]*z)*sin(m*p) + 4*I*pi*mu[i]*omega*r*sigma[i])*e^(-I*k[i]*z)/((c^2*k[i]^2 - (c^2*epsilon[i]*k[i]^2 + c^2*epsilon[i]*kappa^2 - 4*pi^2*mu[i]*sigma[i]^2)/epsilon[i])*r) ]\n",
    "    else:\n",
    "        # E_ph += [lambda rh,ph,z, i=i : I*omega*mu[i]/(c*kappa) * bessel_J_d(m,kappa*rh)*( B_z[i]*cos(k[i]*z) + A_z[i]*sin(k[i]*z)) * cos(m*ph)]\n",
    "        # 1/2*I*(B_z[i]*cos(k[i]*z) + A_z[i]*sin(k[i]*z))*mu[i]*omega*(bessel_J(m + 1, kappa*rh) - bessel_J(m - 1, kappa*rh))*cos(m*ph)/(c*kappa)\n",
    "        # -1/2*bessel_J(m + 1, kappa*rho) + 1/2*bessel_J(m - 1, kappa*rho)\n",
    "        # -1/2*(bessel_J(m + 1, kappa*rho) - bessel_J(m - 1, kappa*rho))\n",
    "        E_ph += [lambda r,p,z, i=i : - I*omega*mu[i]/(c*kappa) * bessel_J_d(m,kappa*r)*( B_z[i]*cos(k[i]*z) + A_z[i]*sin(k[i]*z)) * cos(m*p)]\n"
   ]
  },
  {
   "cell_type": "raw",
   "metadata": {},
   "source": [
    "H_rh = []\n",
    "H_Rh = []\n",
    "for i in range(n_layers):\n",
    "    if E_mode:\n",
    "        #H_rh += [lambda rh,ph,z, i=i : I*m*omega*epsilon[i]/(kappa^2*c*rh) * bessel_J  (m,kappa*rh)*(-D_z[i]*cos(k[i]*z) - C_z[i]*sin(k[i]*z)) * sin(m*ph)]\n",
    "        #H_rh += [lambda r,p,z, i=i : I*(D_z[i]*cos(k[i]*z) + C_z[i]*sin(k[i]*z))*epsilon[i]*m*omega*bessel_J(m, kappa*r)*sin(m*p)/(c*kappa^2*r)]\n",
    "        #H_Rh += [lambda r,p,z, i=i : I*(D_z[i]*cos(k[i]*z) + C_z[i]*sin(k[i]*z))*epsilon[i]*omega*m_bessel_J_div_x(m, kappa*r)*sin(m*p)/(c*kappa)]\n",
    "        #H_rh += [lambda rh,ph,z, i=i: (C_z[i]*cos(k[i]*z) - D_z[i]*sin(k[i]*z))*c*epsilon[i]^2*m*omega*bessel_J(m, kappa*rh)*sin(m*ph)/((c^2*epsilon[i]*kappa^2 - 4*pi^2*mu[i]*sigma_0^2)*rh) ]\n",
    "        #H_rh += [lambda rh,ph,z, i=i:  -I*(D_z[i]*cos(k[i]*z) + C_z[i]*sin(k[i]*z))*c*epsilon[i]*m*omega*bessel_J(m, kappa*rh)*sin(m*ph)/((c^2*k[i]^2 - (c^2*epsilon[i]*k[i]^2 + c^2*epsilon[i]*kappa^2 - 4*pi^2*mu[i]*sigma[i]^2)/epsilon[i])*rh) ]\n",
    "        H_rh += [lambda r,p,z, i=i:  (-I*(D_z[i]*cos(k[i]*z) + C_z[i]*sin(k[i]*z))*c*epsilon[i]*m*omega*bessel_J(m, kappa*r)*e^(I*k[i]*z)*sin(m*p) - 4*I*pi*c*k[i]*r*sigma[i])*e^(-I*k[i]*z)/((c^2*k[i]^2 - (c^2*epsilon[i]*k[i]^2 + c^2*epsilon[i]*kappa^2 - 4*pi^2*mu[i]*sigma[i]^2)/epsilon[i])*r) ]\n",
    "    else:\n",
    "        H_rh += [lambda r,p,z, i=i: k[i]/kappa * bessel_J_d(m,kappa*r)*(A_z[i]*cos(k[i]*z) - B_z[i]*sin(k[i]*z)) * cos(m*p)]\n",
    "        # -1/2*(A_z[i]*cos(k[i]*z) - B_z[i]*sin(k[i]*z))*k[i]*(bessel_J(m + 1, kappa*rh) - bessel_J(m - 1, kappa*rh))*cos(m*ph)/kappa"
   ]
  },
  {
   "cell_type": "raw",
   "metadata": {},
   "source": [
    "H_ph = []\n",
    "for i in range(n_layers):\n",
    "    if E_mode:\n",
    "        #H_ph += [lambda rh,ph,z, i=i : I*omega*epsilon[i]/(kappa*c) * bessel_J_d(m,kappa*rh)*( D_z[i]*cos(k[i]*z) + C_z[i]*sin(k[i]*z)) * cos(m*ph)]\n",
    "        # -1/2*bessel_J(m + 1, kappa*rho) + 1/2*bessel_J(m - 1, kappa*rho)\n",
    "        # -1/2*(bessel_J(m + 1, kappa*rho) - bessel_J(m - 1, kappa*rho))\n",
    "        #H_ph += [lambda r,p,z, i=i : -1/2*I*(D_z[i]*cos(k[i]*z) + C_z[i]*sin(k[i]*z))*epsilon[i]*omega*(bessel_J(m + 1, kappa*r) - bessel_J(m - 1, kappa*r))*cos(m*p)/(c*kappa)]\n",
    "        #H_ph += [lambda rh,ph,z, i=i: 1/2*I*(D_z[i]*cos(k[i]*z) + C_z[i]*sin(k[i]*z))*c*epsilon[i]*kappa*omega*(bessel_J(m + 1, kappa*rh) - bessel_J(m - 1, kappa*rh))*cos(m*ph)/(c^2*k[i]^2 - (c^2*epsilon[i]*k[i]^2 + c^2*epsilon[i]*kappa^2 - 4*pi^2*mu[i]*sigma[i]^2)/epsilon[i]) ]\n",
    "        H_ph += [lambda r,p,z, i=i:  -1/2*(-I*(D_z[i]*cos(k[i]*z) + C_z[i]*sin(k[i]*z))*c*epsilon[i]*kappa*omega*r*(bessel_J(m + 1, kappa*r) - bessel_J(m - 1, kappa*r))*cos(m*p)*e^(I*k[i]*z) - 8*I*pi*c*k[i]*r*sigma[i])*e^(-I*k[i]*z)/((c^2*k[i]^2 - (c^2*epsilon[i]*k[i]^2 + c^2*epsilon[i]*kappa^2 - 4*pi^2*mu[i]*sigma[i]^2)/epsilon[i])*r) ]\n",
    "    else:\n",
    "        #H_ph += [lambda rh,ph,z, i=i: m*k[i]/(kappa^2*rh) * bessel_J  (m,kappa*rh)*(-B_z[i]*sin(k[i]*z) + A_z[i]*cos(k[i]*z)) * sin(m*ph)]\n",
    "        # -(A_z[i]*cos(k[i]*z) - B_z[i]*sin(k[i]*z))*k[i]*m*bessel_J(m, kappa*rh)*sin(m*ph)/(kappa^2*rh)\n",
    "        H_ph += [lambda r,p,z, i=i: m*k[i]/(kappa^2*r) * bessel_J  (m,kappa*r)*(B_z[i]*sin(k[i]*z) - A_z[i]*cos(k[i]*z)) * sin(m*p)]\n",
    "        "
   ]
  },
  {
   "cell_type": "code",
   "execution_count": null,
   "metadata": {},
   "outputs": [],
   "source": []
  },
  {
   "cell_type": "code",
   "execution_count": 45,
   "metadata": {},
   "outputs": [],
   "source": [
    "make_test_with_maxwell_equations = False"
   ]
  },
  {
   "cell_type": "markdown",
   "metadata": {},
   "source": [
    "$rot\\,\\vec{E} = \\mu\\,\\frac{i\\,\\omega}{c}\\,\\vec{H}$\n",
    "\n",
    "$rot\\,\\vec{H} = - \\frac{i\\,\\omega}{c} \\left( \\epsilon_{\\alpha\\,\\beta} + \\frac{4\\pi}{c} \\sigma \\right) \\vec{E}$\n",
    "\n",
    "$rot\\,rot\\,\\vec{E} = \\mu\\,\\frac{\\omega^2}{c^2} \\left( \\epsilon_{\\alpha\\,\\beta} + 4\\pi\\,i\\frac{\\sigma}{\\omega}  \\right) \\vec{E} $\n",
    "\n",
    "$rot\\,rot\\,\\vec{H} = \\mu\\,\\frac{\\omega^2}{c^2}\\left(\\epsilon_{\\alpha\\,\\beta} + 4\\pi\\,i\\,\\frac{\\sigma}{\\omega}  \\right)\\,\\vec{H}$"
   ]
  },
  {
   "cell_type": "code",
   "execution_count": 46,
   "metadata": {},
   "outputs": [],
   "source": [
    "def test_with_maxwell_equations(i_layer):\n",
    "    ES.<rho,phi,zz> = EuclideanSpace(coordinates='cylindrical')\n",
    "    \n",
    "    E0 = ES.vector_field(\n",
    "        E_rh[i_layer](rho,phi,zz),\n",
    "        E_ph[i_layer](rho,phi,zz),\n",
    "        E_z[i_layer](rho,phi,zz),\n",
    "        name='E0')\n",
    "\n",
    "    H0 = ES.vector_field(\n",
    "        H_rh[i_layer](rho,phi,zz),\n",
    "        H_ph[i_layer](rho,phi,zz),\n",
    "        H_z[i_layer](rho,phi,zz),\n",
    "        name='H0')\n",
    "\n",
    "    from sage.manifolds.operators import curl, laplacian\n",
    "    rot_E0 = curl(E0)\n",
    "    print(\"rot_E0 =\")#, rot_E0.display())\n",
    "    for j in ES.irange():\n",
    "        display(Math(latex(rot_E0[j].expr())))\n",
    "        #display(Math(latex(mu[i_layer] * I * omega / c * H0[j].expr())))\n",
    "        print(\"\")\n",
    "    \n",
    "    rot_H0 = curl(H0)\n",
    "    print(\"rot_H0 =\")#, rot_H0.display())\n",
    "    for j in ES.irange():\n",
    "        display(Math(latex(rot_H0[j].expr())))\n",
    "        print(\"\")\n",
    "    \n",
    "    rot_rot_E0 = curl(rot_E0)\n",
    "    print(\"rot_rot_E0 =\")#, rot_rot_E0.display())\n",
    "    for j in ES.irange():\n",
    "        display(Math(latex(rot_rot_E0[j].expr())))\n",
    "        print(\"\")\n",
    "    \n",
    "    rot_rot_H0 = curl(rot_H0)\n",
    "    print(\"rot_rot_H0 =\")#, rot_rot_H0.display())\n",
    "    for j in ES.irange():\n",
    "        display(Math(latex(rot_rot_H0[j].expr())))\n",
    "        print(\"\")\n",
    "\n",
    "    laplacian_E0 = laplacian(E0)\n",
    "    print(\"laplacian_E0 =\")#, laplacian_E0.display())\n",
    "    for j in ES.irange():\n",
    "        display(Math(latex(laplacian_E0[j].expr())))\n",
    "        print(\"\")\n",
    "\n",
    "    \n",
    "    mu_epsilon_omega2_c2_E0 = mu[i_layer] * epsilon[i_layer] * (omega^2 / c^2) * E0\n",
    "    mu_epsilon_omega2_c2_H0 = mu[i_layer] * epsilon[i_layer] * (omega^2 / c^2) * H0\n",
    "    \n",
    "    print(\"mu_epsilon_omega2_c2_E0 =\", mu_epsilon_omega2_c2_E0.display())\n",
    "    print(\"\")\n",
    "    print(\"mu_epsilon_omega2_c2_H0 =\", mu_epsilon_omega2_c2_H0.display())\n",
    "    print(\"\")\n",
    "    \n",
    "    eq_z = (laplacian_E0[3] + mu_epsilon_omega2_c2_E0[3]).expand().expr() == 0\n",
    "    print(\"eq_z\")\n",
    "    display(Math(latex(eq_z)))\n",
    "    print(\"eq_z/E_z\")\n",
    "    display(Math(latex((eq_z/E_z[i_layer](rho,phi,zz)).full_simplify().expand())))\n",
    "    \n",
    "    eq_rot_E = []\n",
    "    eq_rot_H = []\n",
    "    eq_rot_rot_E = []\n",
    "    eq_rot_rot_H = []\n",
    "    for j in ES.irange():\n",
    "        # eq_kappa += [mu[i] * epsilon[i] * omega^2 / c^2 - k[i]^2 == kappa^2]\n",
    "        omega_2_subs =  solve(eq_kappa[i_layer], omega^2)\n",
    "        exec(\"eq_rot_E += [\" + Preparse(str(( rot_E0[j].expr() - mu[i_layer] * I * omega / c * H0[j].expr()).full_simplify().subs(omega_2_subs).full_simplify().factor() == 0)) + \"]\")\n",
    "        exec(\"eq_rot_H += [\" + Preparse(str(( rot_H0[j].expr() + epsilon[i_layer] * I * omega / c * E0[j].expr()).full_simplify().subs(omega_2_subs).full_simplify().factor() == 0)) + \"]\")\n",
    "        \n",
    "        omega_4_subs = [omega_2_subs[0].lhs()^2 == omega_2_subs[0].rhs()^2]\n",
    "        if E_mode:\n",
    "            exec(\"eq_rot_rot_E += [\" + Preparse(str(( rot_rot_E0[j].expr() - mu_epsilon_omega2_c2_E0[j].expr()).full_simplify().subs(omega_2_subs).full_simplify().factor() == 0)) + \"]\")\n",
    "            exec(\"eq_rot_rot_H += [\" + Preparse(str(((rot_rot_H0[j].expr() - mu_epsilon_omega2_c2_H0[j].expr())*(-I)*omega/c).full_simplify().subs(omega_2_subs).subs(omega_4_subs).full_simplify().factor() == 0)) + \"]\")\n",
    "        else:\n",
    "            exec(\"eq_rot_rot_E += [\" + Preparse(str(((rot_rot_E0[j].expr() - mu_epsilon_omega2_c2_E0[j].expr())*(-I)*omega/c).full_simplify().subs(omega_2_subs).subs(omega_4_subs).full_simplify().factor() == 0)) + \"]\")\n",
    "            exec(\"eq_rot_rot_H += [\" + Preparse(str(( rot_rot_H0[j].expr() - mu_epsilon_omega2_c2_H0[j].expr()).full_simplify().subs(omega_2_subs).full_simplify().factor() == 0)) + \"]\")\n",
    "            \n",
    "    return (eq_rot_E, eq_rot_H, eq_rot_rot_E, eq_rot_rot_H)"
   ]
  },
  {
   "cell_type": "code",
   "execution_count": 47,
   "metadata": {},
   "outputs": [],
   "source": [
    "if make_test_with_maxwell_equations:\n",
    "    (eq_rot_E, eq_rot_H, eq_rot_rot_E, eq_rot_rot_H) = test_with_maxwell_equations(i_layer = 0)"
   ]
  },
  {
   "cell_type": "code",
   "execution_count": 48,
   "metadata": {},
   "outputs": [],
   "source": [
    "if make_test_with_maxwell_equations:\n",
    "    for j in range(3):\n",
    "        display(Math(latex(eq_rot_E[j])))\n",
    "        print(\"\")\n",
    "    if not E_mode:\n",
    "        plot(eq_rot_E[2].lhs().numerator().operands()[0].subs(kappa==1, m == 1), rh).show()        "
   ]
  },
  {
   "cell_type": "code",
   "execution_count": 49,
   "metadata": {},
   "outputs": [],
   "source": [
    "if make_test_with_maxwell_equations:\n",
    "    for j in range(3):\n",
    "        display(Math(latex(eq_rot_H[j])))\n",
    "        print(\"\")\n",
    "    if E_mode:\n",
    "        plot(eq_rot_H[2].lhs().numerator().operands()[0].subs(kappa==1, m == 1), rh).show()"
   ]
  },
  {
   "cell_type": "code",
   "execution_count": 50,
   "metadata": {},
   "outputs": [],
   "source": [
    "if make_test_with_maxwell_equations:\n",
    "    for j in range(3):\n",
    "        print(eq_rot_rot_E[j])\n",
    "        print(\"\")"
   ]
  },
  {
   "cell_type": "code",
   "execution_count": 51,
   "metadata": {},
   "outputs": [],
   "source": [
    "if make_test_with_maxwell_equations:\n",
    "    if E_mode:\n",
    "        eq_rot_rot_Ez = (eq_rot_rot_E[2])\n",
    "        display(Math(latex(eq_rot_rot_Ez)))"
   ]
  },
  {
   "cell_type": "code",
   "execution_count": 52,
   "metadata": {},
   "outputs": [],
   "source": [
    "if make_test_with_maxwell_equations:\n",
    "    if E_mode:\n",
    "        display(Math(latex(eq_rot_rot_Ez.lhs().numerator().operands()[0])))"
   ]
  },
  {
   "cell_type": "code",
   "execution_count": 53,
   "metadata": {},
   "outputs": [],
   "source": [
    "if make_test_with_maxwell_equations:\n",
    "    if E_mode:\n",
    "        print(eq_rot_rot_Ez.lhs().numerator().operands()[0].variables())"
   ]
  },
  {
   "cell_type": "code",
   "execution_count": 54,
   "metadata": {},
   "outputs": [],
   "source": [
    "if make_test_with_maxwell_equations:\n",
    "    if E_mode:\n",
    "        plot(eq_rot_rot_Ez.lhs().numerator().operands()[0].subs(kappa==1, m == 1), rh).show()"
   ]
  },
  {
   "cell_type": "code",
   "execution_count": 55,
   "metadata": {},
   "outputs": [],
   "source": [
    "if make_test_with_maxwell_equations:\n",
    "    if not E_mode:\n",
    "        eq_rot_rot_Erh = (eq_rot_rot_E[0])\n",
    "        display(Math(latex(eq_rot_rot_Erh)))"
   ]
  },
  {
   "cell_type": "code",
   "execution_count": 56,
   "metadata": {},
   "outputs": [],
   "source": [
    "if make_test_with_maxwell_equations:\n",
    "    if not E_mode:\n",
    "        display(Math(latex(eq_rot_rot_Erh.lhs().numerator().operands()[0])))"
   ]
  },
  {
   "cell_type": "code",
   "execution_count": 57,
   "metadata": {},
   "outputs": [],
   "source": [
    "if make_test_with_maxwell_equations:\n",
    "    if not E_mode:\n",
    "        print(eq_rot_rot_Erh.lhs().numerator().operands()[0].variables())"
   ]
  },
  {
   "cell_type": "code",
   "execution_count": 58,
   "metadata": {},
   "outputs": [],
   "source": [
    "if make_test_with_maxwell_equations:\n",
    "    if not E_mode:\n",
    "        plot(eq_rot_rot_Erh.lhs().numerator().operands()[0].subs(kappa==1, m == 1), rh).show()"
   ]
  },
  {
   "cell_type": "code",
   "execution_count": 59,
   "metadata": {},
   "outputs": [],
   "source": [
    "if make_test_with_maxwell_equations:\n",
    "    if not E_mode:\n",
    "        eq_rot_rot_Eph = (eq_rot_rot_E[1])\n",
    "        display(Math(latex(eq_rot_rot_Eph)))"
   ]
  },
  {
   "cell_type": "code",
   "execution_count": 60,
   "metadata": {},
   "outputs": [],
   "source": [
    "if make_test_with_maxwell_equations:\n",
    "    if not E_mode:\n",
    "        display(Math(latex(eq_rot_rot_Eph.lhs().numerator().operands()[0])))"
   ]
  },
  {
   "cell_type": "code",
   "execution_count": 61,
   "metadata": {},
   "outputs": [],
   "source": [
    "if make_test_with_maxwell_equations:\n",
    "    if not E_mode:\n",
    "        print(eq_rot_rot_Eph.lhs().numerator().operands()[0].variables())"
   ]
  },
  {
   "cell_type": "code",
   "execution_count": 62,
   "metadata": {},
   "outputs": [],
   "source": [
    "if make_test_with_maxwell_equations:\n",
    "    if not E_mode:\n",
    "        plot(eq_rot_rot_Eph.lhs().numerator().operands()[0].subs(kappa==1, m == 1), rh).show()"
   ]
  },
  {
   "cell_type": "code",
   "execution_count": 63,
   "metadata": {},
   "outputs": [],
   "source": [
    "if make_test_with_maxwell_equations:\n",
    "    display(Math(latex(eq_rot_rot_H)))"
   ]
  },
  {
   "cell_type": "code",
   "execution_count": 64,
   "metadata": {},
   "outputs": [],
   "source": [
    "if make_test_with_maxwell_equations:\n",
    "    if E_mode:\n",
    "        eq_rot_rot_Hrh = (eq_rot_rot_H[0])\n",
    "        display(Math(latex(eq_rot_rot_Hrh)))"
   ]
  },
  {
   "cell_type": "code",
   "execution_count": 65,
   "metadata": {},
   "outputs": [],
   "source": [
    "if make_test_with_maxwell_equations:\n",
    "    if E_mode:\n",
    "        eq_rot_rot_Hph = (eq_rot_rot_H[1])\n",
    "        display(Math(latex(eq_rot_rot_Hph)))"
   ]
  },
  {
   "cell_type": "code",
   "execution_count": 66,
   "metadata": {},
   "outputs": [],
   "source": [
    "if make_test_with_maxwell_equations:\n",
    "    if E_mode:\n",
    "        print(eq_rot_rot_Hrh.lhs().operator())"
   ]
  },
  {
   "cell_type": "code",
   "execution_count": 67,
   "metadata": {},
   "outputs": [],
   "source": [
    "if make_test_with_maxwell_equations:\n",
    "    if E_mode:\n",
    "        print(eq_rot_rot_Hph.lhs().operator())"
   ]
  },
  {
   "cell_type": "code",
   "execution_count": 68,
   "metadata": {},
   "outputs": [],
   "source": [
    "if make_test_with_maxwell_equations:\n",
    "    if E_mode:\n",
    "        display(Math(latex(eq_rot_rot_Hrh.lhs().operands()[0])))"
   ]
  },
  {
   "cell_type": "code",
   "execution_count": 69,
   "metadata": {},
   "outputs": [],
   "source": [
    "if make_test_with_maxwell_equations:\n",
    "    if E_mode:\n",
    "        plot(eq_rot_rot_Hrh.lhs().operands()[0].subs(kappa==1, m == 1), rh).show()"
   ]
  },
  {
   "cell_type": "code",
   "execution_count": 70,
   "metadata": {},
   "outputs": [],
   "source": [
    "if make_test_with_maxwell_equations:\n",
    "    if E_mode:\n",
    "        display(Math(latex(eq_rot_rot_Hph.lhs().operands()[0])))"
   ]
  },
  {
   "cell_type": "code",
   "execution_count": 71,
   "metadata": {},
   "outputs": [],
   "source": [
    "if make_test_with_maxwell_equations:\n",
    "    if E_mode:\n",
    "        plot(eq_rot_rot_Hph.lhs().operands()[0].subs(kappa==1, m == 1), rh).show()"
   ]
  },
  {
   "cell_type": "code",
   "execution_count": 72,
   "metadata": {},
   "outputs": [],
   "source": [
    "if make_test_with_maxwell_equations:\n",
    "    if not E_mode:\n",
    "        eq_rot_rot_Hz = (eq_rot_rot_H[2])\n",
    "        display(Math(latex(eq_rot_rot_Hz)))"
   ]
  },
  {
   "cell_type": "code",
   "execution_count": 73,
   "metadata": {},
   "outputs": [],
   "source": [
    "if make_test_with_maxwell_equations:\n",
    "    if not E_mode:\n",
    "        print(eq_rot_rot_Hz.lhs().operator())"
   ]
  },
  {
   "cell_type": "code",
   "execution_count": 74,
   "metadata": {},
   "outputs": [],
   "source": [
    "if make_test_with_maxwell_equations:\n",
    "    if not E_mode:\n",
    "        display(Math(latex(eq_rot_rot_Hz.lhs().operands()[0])))"
   ]
  },
  {
   "cell_type": "code",
   "execution_count": 75,
   "metadata": {},
   "outputs": [],
   "source": [
    "if make_test_with_maxwell_equations:\n",
    "    if not E_mode:\n",
    "        plot(eq_rot_rot_Hz.lhs().operands()[0].subs(kappa==1, m == 1), rh).show()"
   ]
  },
  {
   "cell_type": "code",
   "execution_count": 76,
   "metadata": {},
   "outputs": [],
   "source": [
    "rotE_rh = []\n",
    "for i in range(n_layers):\n",
    "    exec(preparse(\"rotE_rh += [lambda r,p,z, i=i: \" + str(diff(E_z[i](r,p,z),p)/r - E_ph[i](r,p,z).diff(z)) +\"]\"))"
   ]
  },
  {
   "cell_type": "code",
   "execution_count": 77,
   "metadata": {},
   "outputs": [],
   "source": [
    "rotE_ph = []\n",
    "for i in range(n_layers):\n",
    "    exec(preparse(\"rotE_ph += [lambda r,p,z, i=i: \" + str(E_rh[i](r,p,z).diff(z)-diff(E_z[i](r,p,z),rh)) +\"]\"))"
   ]
  },
  {
   "cell_type": "code",
   "execution_count": 78,
   "metadata": {},
   "outputs": [],
   "source": [
    "rotE_z = []\n",
    "for i in range(n_layers):\n",
    "    exec(preparse(\"rotE_z += [lambda r,p,z, i=i: \" + str(((r*E_ph[i](r,p,z)).diff(r) - E_rh[i](r,p,z).diff(p))/r) +\"]\"))"
   ]
  },
  {
   "cell_type": "raw",
   "metadata": {
    "scrolled": true
   },
   "source": [
    "rotE_ph[0](rh,ph,z)"
   ]
  },
  {
   "cell_type": "raw",
   "metadata": {},
   "source": [
    "if 1 < n_layers:\n",
    "    rotE_ph[1](rh,ph,z)"
   ]
  },
  {
   "cell_type": "raw",
   "metadata": {},
   "source": [
    "rotE_rh[0](rh,ph,z)"
   ]
  },
  {
   "cell_type": "raw",
   "metadata": {},
   "source": [
    "rotE_z[0](rh,ph,z)"
   ]
  },
  {
   "cell_type": "code",
   "execution_count": 79,
   "metadata": {},
   "outputs": [],
   "source": [
    "H_rh_ = []\n",
    "for i in range(n_layers):\n",
    "    H_rh_ += [lambda r,p,z, i=i : rotE_rh[i](r,p,z)*c/(I*omega *mu[i])]"
   ]
  },
  {
   "cell_type": "code",
   "execution_count": 80,
   "metadata": {},
   "outputs": [],
   "source": [
    "H_ph_ = []\n",
    "for i in range(n_layers):\n",
    "    H_ph_ += [lambda r,p,z, i=i : rotE_ph[i](r,p,z)*c/(I*omega *mu[i])]"
   ]
  },
  {
   "cell_type": "code",
   "execution_count": 81,
   "metadata": {},
   "outputs": [],
   "source": [
    "H_z_ = []\n",
    "for i in range(n_layers):\n",
    "    H_z_ += [lambda r,p,z, i=i : rotE_z[i](r,p,z)*c/(I*omega *mu[i])]"
   ]
  },
  {
   "cell_type": "raw",
   "metadata": {},
   "source": [
    "H_rh_[0](rh,ph,z).factor()"
   ]
  },
  {
   "cell_type": "raw",
   "metadata": {},
   "source": [
    "if 1 < n_layers:\n",
    "    H_rh_[1](rh,ph,z)"
   ]
  },
  {
   "cell_type": "code",
   "execution_count": 82,
   "metadata": {
    "scrolled": true
   },
   "outputs": [
    {
     "data": {
      "text/latex": [
       "$\\displaystyle -\\frac{i \\, {\\left(D_{z_{0}} \\epsilon_{0} \\kappa \\omega J_{m + 1}(\\kappa r) \\cos\\left(m p\\right) \\cos\\left(k_{0} z\\right) e^{\\left(i \\, k_{0} z\\right)} - D_{z_{0}} \\epsilon_{0} \\kappa \\omega J_{m - 1}(\\kappa r) \\cos\\left(m p\\right) \\cos\\left(k_{0} z\\right) e^{\\left(i \\, k_{0} z\\right)} + C_{z_{0}} \\epsilon_{0} \\kappa \\omega J_{m + 1}(\\kappa r) \\cos\\left(m p\\right) e^{\\left(i \\, k_{0} z\\right)} \\sin\\left(k_{0} z\\right) - C_{z_{0}} \\epsilon_{0} \\kappa \\omega J_{m - 1}(\\kappa r) \\cos\\left(m p\\right) e^{\\left(i \\, k_{0} z\\right)} \\sin\\left(k_{0} z\\right) + 8 \\, \\pi k_{0} \\sigma_{0}\\right)} c \\epsilon_{0} e^{\\left(-i \\, k_{0} z\\right)}}{2 \\, {\\left(c^{2} \\epsilon_{0} \\kappa^{2} - 4 \\, \\pi^{2} \\mu_{0} \\sigma_{0}^{2}\\right)}}$"
      ],
      "text/plain": [
       "<IPython.core.display.Math object>"
      ]
     },
     "metadata": {},
     "output_type": "display_data"
    }
   ],
   "source": [
    "display(Math(latex(H_ph[0](rh,ph,z).factor())))"
   ]
  },
  {
   "cell_type": "raw",
   "metadata": {},
   "source": [
    "H_ph_[0](rh,ph,z).subs(m == 0, B_z[0] == 0)"
   ]
  },
  {
   "cell_type": "raw",
   "metadata": {},
   "source": [
    "if 1 < n_layers:\n",
    "    H_ph_[1](rh,ph,z)"
   ]
  },
  {
   "cell_type": "raw",
   "metadata": {},
   "source": [
    "H_z_[0](rh,ph,z)"
   ]
  },
  {
   "cell_type": "raw",
   "metadata": {},
   "source": [
    "if 1 < n_layers:\n",
    "    H_z_[1](rh,ph,z)"
   ]
  },
  {
   "cell_type": "code",
   "execution_count": 83,
   "metadata": {},
   "outputs": [
    {
     "data": {
      "text/latex": [
       "$\\displaystyle \\left[-\\frac{{\\left(C_{z_{0}} c^{2} k_{0} \\kappa J_{m + 1}(\\kappa r) \\cos\\left(m p\\right) - C_{z_{0}} c^{2} k_{0} \\kappa J_{m - 1}(\\kappa r) \\cos\\left(m p\\right) + 8 \\, \\pi \\mu_{0} \\omega \\sigma_{0}\\right)} \\epsilon_{0}}{2 \\, {\\left(c^{2} \\epsilon_{0} \\kappa^{2} - 4 \\, \\pi^{2} \\mu_{0} \\sigma_{0}^{2}\\right)}} = 0.000000000000000, -\\frac{{\\left(C_{z_{1}} c^{2} k_{1} \\kappa J_{m + 1}(\\kappa r) \\cos\\left({\\left(h_{0} + h_{1}\\right)} k_{1}\\right) \\cos\\left(m p\\right) - C_{z_{1}} c^{2} k_{1} \\kappa J_{m - 1}(\\kappa r) \\cos\\left({\\left(h_{0} + h_{1}\\right)} k_{1}\\right) \\cos\\left(m p\\right) - D_{z_{1}} c^{2} k_{1} \\kappa J_{m + 1}(\\kappa r) \\cos\\left(m p\\right) \\sin\\left({\\left(h_{0} + h_{1}\\right)} k_{1}\\right) + D_{z_{1}} c^{2} k_{1} \\kappa J_{m - 1}(\\kappa r) \\cos\\left(m p\\right) \\sin\\left({\\left(h_{0} + h_{1}\\right)} k_{1}\\right) + 8 \\, \\pi \\mu_{1} \\omega \\sigma_{1} \\cos\\left({\\left(h_{0} + h_{1}\\right)} k_{1}\\right) + 8 \\, \\pi \\mu_{1} \\omega \\sigma_{1} \\sin\\left({\\left(h_{0} + h_{1}\\right)} k_{1}\\right)\\right)} \\epsilon_{1}}{2 \\, {\\left(c^{2} \\epsilon_{1} \\kappa^{2} - 4 \\, \\pi^{2} \\mu_{1} \\sigma_{1}^{2}\\right)}} = 0.000000000000000\\right]$"
      ],
      "text/plain": [
       "<IPython.core.display.Math object>"
      ]
     },
     "metadata": {},
     "output_type": "display_data"
    },
    {
     "data": {
      "text/latex": [
       "$\\displaystyle \\left[-\\frac{{\\left(C_{z_{0}} c^{2} k_{0} m J_{m}(\\kappa r) \\sin\\left(m p\\right) + 4 \\, \\pi \\mu_{0} \\omega r \\sigma_{0}\\right)} \\epsilon_{0}}{{\\left(c^{2} \\epsilon_{0} \\kappa^{2} - 4 \\, \\pi^{2} \\mu_{0} \\sigma_{0}^{2}\\right)} r} = 0.000000000000000, -\\frac{{\\left(C_{z_{1}} c^{2} k_{1} m J_{m}(\\kappa r) \\cos\\left({\\left(h_{0} + h_{1}\\right)} k_{1}\\right) \\sin\\left(m p\\right) - D_{z_{1}} c^{2} k_{1} m J_{m}(\\kappa r) \\sin\\left({\\left(h_{0} + h_{1}\\right)} k_{1}\\right) \\sin\\left(m p\\right) + 4 \\, \\pi \\mu_{1} \\omega r \\sigma_{1} \\cos\\left({\\left(h_{0} + h_{1}\\right)} k_{1}\\right) + 4 \\, \\pi \\mu_{1} \\omega r \\sigma_{1} \\sin\\left({\\left(h_{0} + h_{1}\\right)} k_{1}\\right)\\right)} \\epsilon_{1}}{{\\left(c^{2} \\epsilon_{1} \\kappa^{2} - 4 \\, \\pi^{2} \\mu_{1} \\sigma_{1}^{2}\\right)} r} = 0.000000000000000\\right]$"
      ],
      "text/plain": [
       "<IPython.core.display.Math object>"
      ]
     },
     "metadata": {},
     "output_type": "display_data"
    },
    {
     "name": "stdout",
     "output_type": "stream",
     "text": [
      "boundary_Erh\n"
     ]
    },
    {
     "data": {
      "text/latex": [
       "$\\displaystyle \\left[C_{z_{0}} = -\\frac{8 \\, \\pi \\mu_{0} \\omega \\sigma_{0}}{{\\left(c^{2} k_{0} \\kappa J_{m + 1}(\\kappa r) - c^{2} k_{0} \\kappa J_{m - 1}(\\kappa r)\\right)} \\cos\\left(m p\\right)}\\right]$"
      ],
      "text/plain": [
       "<IPython.core.display.Math object>"
      ]
     },
     "metadata": {},
     "output_type": "display_data"
    },
    {
     "data": {
      "text/latex": [
       "$\\displaystyle \\left[C_{z_{1}} = -\\frac{8 \\, \\pi \\mu_{1} \\omega \\sigma_{1} {\\left(\\cos\\left(h_{0} k_{1} + h_{1} k_{1}\\right) + \\sin\\left(h_{0} k_{1} + h_{1} k_{1}\\right)\\right)} - {\\left(D_{z_{1}} c^{2} k_{1} \\kappa J_{m + 1}(\\kappa r) \\sin\\left(h_{0} k_{1} + h_{1} k_{1}\\right) - D_{z_{1}} c^{2} k_{1} \\kappa J_{m - 1}(\\kappa r) \\sin\\left(h_{0} k_{1} + h_{1} k_{1}\\right)\\right)} \\cos\\left(m p\\right)}{{\\left(c^{2} k_{1} \\kappa J_{m + 1}(\\kappa r) \\cos\\left(h_{0} k_{1} + h_{1} k_{1}\\right) - c^{2} k_{1} \\kappa J_{m - 1}(\\kappa r) \\cos\\left(h_{0} k_{1} + h_{1} k_{1}\\right)\\right)} \\cos\\left(m p\\right)}\\right]$"
      ],
      "text/plain": [
       "<IPython.core.display.Math object>"
      ]
     },
     "metadata": {},
     "output_type": "display_data"
    },
    {
     "name": "stdout",
     "output_type": "stream",
     "text": [
      "boundary_Eph\n"
     ]
    },
    {
     "data": {
      "text/latex": [
       "$\\displaystyle \\left[C_{z_{0}} = -\\frac{4 \\, \\pi \\mu_{0} \\omega r \\sigma_{0}}{c^{2} k_{0} m J_{m}(\\kappa r) \\sin\\left(m p\\right)}\\right]$"
      ],
      "text/plain": [
       "<IPython.core.display.Math object>"
      ]
     },
     "metadata": {},
     "output_type": "display_data"
    },
    {
     "data": {
      "text/latex": [
       "$\\displaystyle \\left[C_{z_{1}} = \\frac{D_{z_{1}} c^{2} k_{1} m J_{m}(\\kappa r) \\sin\\left(h_{0} k_{1} + h_{1} k_{1}\\right) \\sin\\left(m p\\right) - 4 \\, \\pi \\mu_{1} \\omega r \\sigma_{1} {\\left(\\cos\\left(h_{0} k_{1} + h_{1} k_{1}\\right) + \\sin\\left(h_{0} k_{1} + h_{1} k_{1}\\right)\\right)}}{c^{2} k_{1} m J_{m}(\\kappa r) \\cos\\left(h_{0} k_{1} + h_{1} k_{1}\\right) \\sin\\left(m p\\right)}\\right]$"
      ],
      "text/plain": [
       "<IPython.core.display.Math object>"
      ]
     },
     "metadata": {},
     "output_type": "display_data"
    },
    {
     "name": "stdout",
     "output_type": "stream",
     "text": [
      "boundary_conductor\n"
     ]
    },
    {
     "data": {
      "text/latex": [
       "$\\displaystyle \\left[C_{z_{0}} = -\\frac{8 \\, \\pi \\mu_{0} \\omega \\sigma_{0}}{{\\left(c^{2} k_{0} \\kappa J_{m + 1}(\\kappa r) - c^{2} k_{0} \\kappa J_{m - 1}(\\kappa r)\\right)} \\cos\\left(m p\\right)}, C_{z_{1}} = -\\frac{8 \\, \\pi \\mu_{1} \\omega \\sigma_{1} {\\left(\\cos\\left(h_{0} k_{1} + h_{1} k_{1}\\right) + \\sin\\left(h_{0} k_{1} + h_{1} k_{1}\\right)\\right)} - {\\left(D_{z_{1}} c^{2} k_{1} \\kappa J_{m + 1}(\\kappa r) \\sin\\left(h_{0} k_{1} + h_{1} k_{1}\\right) - D_{z_{1}} c^{2} k_{1} \\kappa J_{m - 1}(\\kappa r) \\sin\\left(h_{0} k_{1} + h_{1} k_{1}\\right)\\right)} \\cos\\left(m p\\right)}{{\\left(c^{2} k_{1} \\kappa J_{m + 1}(\\kappa r) \\cos\\left(h_{0} k_{1} + h_{1} k_{1}\\right) - c^{2} k_{1} \\kappa J_{m - 1}(\\kappa r) \\cos\\left(h_{0} k_{1} + h_{1} k_{1}\\right)\\right)} \\cos\\left(m p\\right)}\\right]$"
      ],
      "text/plain": [
       "<IPython.core.display.Math object>"
      ]
     },
     "metadata": {},
     "output_type": "display_data"
    }
   ],
   "source": [
    "# граничные условия\n",
    "# тангенциальная компонента электрического поля\n",
    "eq_Erh_superconductor_boundary_conditions = []\n",
    "eq_Erh_superconductor_boundary_conditions += [E_rh[0](r,p,0) == 0.0]\n",
    "eq_Erh_superconductor_boundary_conditions += [E_rh[n_layers - 1](r,p,sum(h)) == 0.0]\n",
    "\n",
    "eq_Eph_superconductor_boundary_conditions = []\n",
    "eq_Eph_superconductor_boundary_conditions += [E_ph[0](r,p,0) == 0.0]\n",
    "eq_Eph_superconductor_boundary_conditions += [E_ph[n_layers - 1](r,p,sum(h)) == 0.0]\n",
    "\n",
    "display(Math(latex(eq_Erh_superconductor_boundary_conditions)))\n",
    "display(Math(latex(eq_Eph_superconductor_boundary_conditions)))\n",
    "\n",
    "if E_mode:\n",
    "    var_begin = C_z[0]\n",
    "    var_end   = C_z[n_layers - 1]\n",
    "else:\n",
    "    var_begin = B_z[0]\n",
    "    var_end   = B_z[n_layers - 1]\n",
    "\n",
    "boundary_Erh_subs_begin = solve(eq_Erh_superconductor_boundary_conditions[0], var_begin)\n",
    "boundary_Erh_subs_end   = solve(eq_Erh_superconductor_boundary_conditions[1], var_end)\n",
    "\n",
    "boundary_Eph_subs_begin = solve(eq_Eph_superconductor_boundary_conditions[0], var_begin)\n",
    "boundary_Eph_subs_end   = solve(eq_Eph_superconductor_boundary_conditions[1], var_end)\n",
    "\n",
    "print(\"boundary_Erh\")\n",
    "display(Math(latex(boundary_Erh_subs_begin)))\n",
    "display(Math(latex(boundary_Erh_subs_end)))\n",
    "\n",
    "print(\"boundary_Eph\")\n",
    "display(Math(latex(boundary_Eph_subs_begin)))\n",
    "display(Math(latex(boundary_Eph_subs_end)))\n",
    "\n",
    "print(\"boundary_conductor\")\n",
    "boundary_conductor = boundary_Erh_subs_begin + boundary_Erh_subs_end\n",
    "#boundary_conductor += boundary_Eph_subs_begin + boundary_Eph_subs_end\n",
    "display(Math(latex(boundary_conductor)))"
   ]
  },
  {
   "cell_type": "code",
   "execution_count": 84,
   "metadata": {},
   "outputs": [],
   "source": [
    "E_rho = []\n",
    "for i in range(n_layers):\n",
    "    exec(preparse(\"E_rho += [ lambda r, p, z, i=i : \" + str(E_rh[i](r,p,z).subs(boundary_conductor)) +\"]\"))"
   ]
  },
  {
   "cell_type": "code",
   "execution_count": 85,
   "metadata": {},
   "outputs": [],
   "source": [
    "E_phi = []\n",
    "E_Phi = []\n",
    "for i in range(n_layers):\n",
    "    exec(preparse(\"E_phi += [ lambda r, p, z, i=i : \" + str(E_ph[i](r,p,z).subs(boundary_conductor)) +\"]\"))\n",
    "    E_Phi += [lambda r, p, z, i=i : E_Ph[i](r,p,z).subs(boundary_conductor)]"
   ]
  },
  {
   "cell_type": "code",
   "execution_count": 86,
   "metadata": {},
   "outputs": [],
   "source": [
    "E_zz = []\n",
    "for i in range(n_layers):\n",
    "    exec(preparse(\"E_zz += [ lambda r, p, z, i=i : \" + str(E_z[i](r,p,z).subs(boundary_conductor)) +\"]\"))"
   ]
  },
  {
   "cell_type": "code",
   "execution_count": 87,
   "metadata": {},
   "outputs": [],
   "source": [
    "H_rho = []\n",
    "H_Rho = []\n",
    "for i in range(n_layers):\n",
    "    exec(preparse(\"H_rho += [ lambda r, p, z, i=i : \" + str(H_rh[i](r,p,z).subs(boundary_conductor)) +\"]\"))\n",
    "    H_Rho += [ lambda r, p, z, i=i : H_Rh[i](r,p,z).subs(boundary_conductor)]"
   ]
  },
  {
   "cell_type": "code",
   "execution_count": 88,
   "metadata": {},
   "outputs": [],
   "source": [
    "H_phi = []\n",
    "for i in range(n_layers):\n",
    "    exec(preparse(\"H_phi += [ lambda r, p, z, i=i : \" + str(H_ph[i](r,p,z).subs(boundary_conductor)) +\"]\"))"
   ]
  },
  {
   "cell_type": "code",
   "execution_count": 89,
   "metadata": {},
   "outputs": [],
   "source": [
    "H_zz = []\n",
    "for i in range(n_layers):\n",
    "    exec(preparse(\"H_zz += [ lambda r, p, z, i=i : \" + str(H_z[i](r,p,z).subs(boundary_conductor)) +\"]\"))"
   ]
  },
  {
   "cell_type": "code",
   "execution_count": null,
   "metadata": {},
   "outputs": [],
   "source": []
  },
  {
   "cell_type": "code",
   "execution_count": 90,
   "metadata": {},
   "outputs": [
    {
     "data": {
      "text/latex": [
       "$\\displaystyle -\\frac{{\\left(C_{z_{0}} c^{2} k_{0} \\kappa J_{m + 1}(\\kappa r) \\cos\\left(m p\\right) \\cos\\left(k_{0} z\\right) - C_{z_{0}} c^{2} k_{0} \\kappa J_{m - 1}(\\kappa r) \\cos\\left(m p\\right) \\cos\\left(k_{0} z\\right) - D_{z_{0}} c^{2} k_{0} \\kappa J_{m + 1}(\\kappa r) \\cos\\left(m p\\right) \\sin\\left(k_{0} z\\right) + D_{z_{0}} c^{2} k_{0} \\kappa J_{m - 1}(\\kappa r) \\cos\\left(m p\\right) \\sin\\left(k_{0} z\\right) + 8 \\, \\pi \\mu_{0} \\omega \\sigma_{0} \\cos\\left(k_{0} z\\right) + 8 \\, \\pi \\mu_{0} \\omega \\sigma_{0} \\sin\\left(k_{0} z\\right)\\right)} \\epsilon_{0}}{2 \\, {\\left(c^{2} \\epsilon_{0} \\kappa^{2} - 4 \\, \\pi^{2} \\mu_{0} \\sigma_{0}^{2}\\right)}}$"
      ],
      "text/plain": [
       "<IPython.core.display.Math object>"
      ]
     },
     "metadata": {},
     "output_type": "display_data"
    },
    {
     "data": {
      "text/latex": [
       "$\\displaystyle \\frac{{\\left(\\frac{8 \\, \\pi c^{2} k_{0} \\kappa \\mu_{0} \\omega \\sigma_{0} J_{m + 1}(\\kappa r) \\cos\\left(k_{0} z\\right)}{c^{2} k_{0} \\kappa J_{m + 1}(\\kappa r) - c^{2} k_{0} \\kappa J_{m - 1}(\\kappa r)} - \\frac{8 \\, \\pi c^{2} k_{0} \\kappa \\mu_{0} \\omega \\sigma_{0} J_{m - 1}(\\kappa r) \\cos\\left(k_{0} z\\right)}{c^{2} k_{0} \\kappa J_{m + 1}(\\kappa r) - c^{2} k_{0} \\kappa J_{m - 1}(\\kappa r)} + D_{z_{0}} c^{2} k_{0} \\kappa J_{m + 1}(\\kappa r) \\cos\\left(m p\\right) \\sin\\left(k_{0} z\\right) - D_{z_{0}} c^{2} k_{0} \\kappa J_{m - 1}(\\kappa r) \\cos\\left(m p\\right) \\sin\\left(k_{0} z\\right) - 8 \\, \\pi \\mu_{0} \\omega \\sigma_{0} \\cos\\left(k_{0} z\\right) - 8 \\, \\pi \\mu_{0} \\omega \\sigma_{0} \\sin\\left(k_{0} z\\right)\\right)} \\epsilon_{0}}{2 \\, {\\left(c^{2} \\epsilon_{0} \\kappa^{2} - 4 \\, \\pi^{2} \\mu_{0} \\sigma_{0}^{2}\\right)}}$"
      ],
      "text/plain": [
       "<IPython.core.display.Math object>"
      ]
     },
     "metadata": {},
     "output_type": "display_data"
    }
   ],
   "source": [
    "if 0 < n_layers:\n",
    "    display(Math(latex(E_rh[0](r,p,z))))\n",
    "    display(Math(latex(E_rho[0](r,p,z))))"
   ]
  },
  {
   "cell_type": "code",
   "execution_count": 91,
   "metadata": {},
   "outputs": [
    {
     "data": {
      "text/latex": [
       "$\\displaystyle -\\frac{{\\left(C_{z_{1}} c^{2} k_{1} \\kappa J_{m + 1}(\\kappa r) \\cos\\left(m p\\right) \\cos\\left(k_{1} z\\right) - C_{z_{1}} c^{2} k_{1} \\kappa J_{m - 1}(\\kappa r) \\cos\\left(m p\\right) \\cos\\left(k_{1} z\\right) - D_{z_{1}} c^{2} k_{1} \\kappa J_{m + 1}(\\kappa r) \\cos\\left(m p\\right) \\sin\\left(k_{1} z\\right) + D_{z_{1}} c^{2} k_{1} \\kappa J_{m - 1}(\\kappa r) \\cos\\left(m p\\right) \\sin\\left(k_{1} z\\right) + 8 \\, \\pi \\mu_{1} \\omega \\sigma_{1} \\cos\\left(k_{1} z\\right) + 8 \\, \\pi \\mu_{1} \\omega \\sigma_{1} \\sin\\left(k_{1} z\\right)\\right)} \\epsilon_{1}}{2 \\, {\\left(c^{2} \\epsilon_{1} \\kappa^{2} - 4 \\, \\pi^{2} \\mu_{1} \\sigma_{1}^{2}\\right)}}$"
      ],
      "text/plain": [
       "<IPython.core.display.Math object>"
      ]
     },
     "metadata": {},
     "output_type": "display_data"
    },
    {
     "data": {
      "text/latex": [
       "$\\displaystyle \\frac{{\\left(D_{z_{1}} c^{2} k_{1} \\kappa J_{m + 1}(\\kappa r) \\cos\\left(m p\\right) \\sin\\left(k_{1} z\\right) - D_{z_{1}} c^{2} k_{1} \\kappa J_{m - 1}(\\kappa r) \\cos\\left(m p\\right) \\sin\\left(k_{1} z\\right) + \\frac{{\\left(8 \\, \\pi \\mu_{1} \\omega \\sigma_{1} {\\left(\\cos\\left(h_{0} k_{1} + h_{1} k_{1}\\right) + \\sin\\left(h_{0} k_{1} + h_{1} k_{1}\\right)\\right)} - {\\left(D_{z_{1}} c^{2} k_{1} \\kappa J_{m + 1}(\\kappa r) \\sin\\left(h_{0} k_{1} + h_{1} k_{1}\\right) - D_{z_{1}} c^{2} k_{1} \\kappa J_{m - 1}(\\kappa r) \\sin\\left(h_{0} k_{1} + h_{1} k_{1}\\right)\\right)} \\cos\\left(m p\\right)\\right)} c^{2} k_{1} \\kappa J_{m + 1}(\\kappa r) \\cos\\left(k_{1} z\\right)}{c^{2} k_{1} \\kappa J_{m + 1}(\\kappa r) \\cos\\left(h_{0} k_{1} + h_{1} k_{1}\\right) - c^{2} k_{1} \\kappa J_{m - 1}(\\kappa r) \\cos\\left(h_{0} k_{1} + h_{1} k_{1}\\right)} - \\frac{{\\left(8 \\, \\pi \\mu_{1} \\omega \\sigma_{1} {\\left(\\cos\\left(h_{0} k_{1} + h_{1} k_{1}\\right) + \\sin\\left(h_{0} k_{1} + h_{1} k_{1}\\right)\\right)} - {\\left(D_{z_{1}} c^{2} k_{1} \\kappa J_{m + 1}(\\kappa r) \\sin\\left(h_{0} k_{1} + h_{1} k_{1}\\right) - D_{z_{1}} c^{2} k_{1} \\kappa J_{m - 1}(\\kappa r) \\sin\\left(h_{0} k_{1} + h_{1} k_{1}\\right)\\right)} \\cos\\left(m p\\right)\\right)} c^{2} k_{1} \\kappa J_{m - 1}(\\kappa r) \\cos\\left(k_{1} z\\right)}{c^{2} k_{1} \\kappa J_{m + 1}(\\kappa r) \\cos\\left(h_{0} k_{1} + h_{1} k_{1}\\right) - c^{2} k_{1} \\kappa J_{m - 1}(\\kappa r) \\cos\\left(h_{0} k_{1} + h_{1} k_{1}\\right)} - 8 \\, \\pi \\mu_{1} \\omega \\sigma_{1} \\cos\\left(k_{1} z\\right) - 8 \\, \\pi \\mu_{1} \\omega \\sigma_{1} \\sin\\left(k_{1} z\\right)\\right)} \\epsilon_{1}}{2 \\, {\\left(c^{2} \\epsilon_{1} \\kappa^{2} - 4 \\, \\pi^{2} \\mu_{1} \\sigma_{1}^{2}\\right)}}$"
      ],
      "text/plain": [
       "<IPython.core.display.Math object>"
      ]
     },
     "metadata": {},
     "output_type": "display_data"
    }
   ],
   "source": [
    "if 1 < n_layers:\n",
    "    display(Math(latex(E_rh[1](r,p,z))))\n",
    "    display(Math(latex(E_rho[1](r,p,z))))"
   ]
  },
  {
   "cell_type": "code",
   "execution_count": 92,
   "metadata": {},
   "outputs": [],
   "source": [
    "if 2 < n_layers:\n",
    "    display(Math(latex(E_rh[2](rh,ph,z))))\n",
    "    display(Math(latex(E_rho[2](rh,ph,z))))"
   ]
  },
  {
   "cell_type": "code",
   "execution_count": 93,
   "metadata": {},
   "outputs": [
    {
     "data": {
      "text/latex": [
       "$\\displaystyle {\\left(D_{z_{0}} \\cos\\left(k_{0} z\\right) + C_{z_{0}} \\sin\\left(k_{0} z\\right)\\right)} J_{m}(\\kappa {\\rho}) \\cos\\left(m \\varphi\\right)$"
      ],
      "text/plain": [
       "<IPython.core.display.Math object>"
      ]
     },
     "metadata": {},
     "output_type": "display_data"
    },
    {
     "data": {
      "text/latex": [
       "$\\displaystyle -{\\left(\\frac{8 \\, \\pi \\mu_{0} \\omega \\sigma_{0} \\sin\\left(k_{0} z\\right)}{{\\left(c^{2} k_{0} \\kappa J_{m + 1}(\\kappa {\\rho}) - c^{2} k_{0} \\kappa J_{m - 1}(\\kappa {\\rho})\\right)} \\cos\\left(m \\varphi\\right)} - D_{z_{0}} \\cos\\left(k_{0} z\\right)\\right)} J_{m}(\\kappa {\\rho}) \\cos\\left(m \\varphi\\right)$"
      ],
      "text/plain": [
       "<IPython.core.display.Math object>"
      ]
     },
     "metadata": {},
     "output_type": "display_data"
    }
   ],
   "source": [
    "if 0 < n_layers:\n",
    "    display(Math(latex(E_z[0](rh,ph,z))))\n",
    "    display(Math(latex(E_zz[0](rh,ph,z))))"
   ]
  },
  {
   "cell_type": "code",
   "execution_count": 94,
   "metadata": {},
   "outputs": [
    {
     "data": {
      "text/latex": [
       "$\\displaystyle {\\left(D_{z_{1}} \\cos\\left(k_{1} z\\right) + C_{z_{1}} \\sin\\left(k_{1} z\\right)\\right)} J_{m}(\\kappa {\\rho}) \\cos\\left(m \\varphi\\right)$"
      ],
      "text/plain": [
       "<IPython.core.display.Math object>"
      ]
     },
     "metadata": {},
     "output_type": "display_data"
    },
    {
     "data": {
      "text/latex": [
       "$\\displaystyle {\\left(D_{z_{1}} \\cos\\left(k_{1} z\\right) - \\frac{{\\left(8 \\, \\pi \\mu_{1} \\omega \\sigma_{1} {\\left(\\cos\\left(h_{0} k_{1} + h_{1} k_{1}\\right) + \\sin\\left(h_{0} k_{1} + h_{1} k_{1}\\right)\\right)} - {\\left(D_{z_{1}} c^{2} k_{1} \\kappa J_{m + 1}(\\kappa {\\rho}) \\sin\\left(h_{0} k_{1} + h_{1} k_{1}\\right) - D_{z_{1}} c^{2} k_{1} \\kappa J_{m - 1}(\\kappa {\\rho}) \\sin\\left(h_{0} k_{1} + h_{1} k_{1}\\right)\\right)} \\cos\\left(m \\varphi\\right)\\right)} \\sin\\left(k_{1} z\\right)}{{\\left(c^{2} k_{1} \\kappa J_{m + 1}(\\kappa {\\rho}) \\cos\\left(h_{0} k_{1} + h_{1} k_{1}\\right) - c^{2} k_{1} \\kappa J_{m - 1}(\\kappa {\\rho}) \\cos\\left(h_{0} k_{1} + h_{1} k_{1}\\right)\\right)} \\cos\\left(m \\varphi\\right)}\\right)} J_{m}(\\kappa {\\rho}) \\cos\\left(m \\varphi\\right)$"
      ],
      "text/plain": [
       "<IPython.core.display.Math object>"
      ]
     },
     "metadata": {},
     "output_type": "display_data"
    }
   ],
   "source": [
    "if 1 < n_layers:\n",
    "    display(Math(latex(E_z[1](rh,ph,z))))\n",
    "    display(Math(latex(E_zz[1](rh,ph,z))))"
   ]
  },
  {
   "cell_type": "code",
   "execution_count": 95,
   "metadata": {},
   "outputs": [],
   "source": [
    "if 2 < n_layers:\n",
    "    display(Math(latex(E_z[2](rh,ph,z))))\n",
    "    display(Math(latex(E_zz[2](rh,ph,z))))"
   ]
  },
  {
   "cell_type": "code",
   "execution_count": 96,
   "metadata": {},
   "outputs": [
    {
     "data": {
      "text/latex": [
       "$\\displaystyle \\frac{{\\left({\\left(-i \\, D_{z_{0}} \\cos\\left(k_{0} z\\right) - i \\, C_{z_{0}} \\sin\\left(k_{0} z\\right)\\right)} c \\epsilon_{0} m \\omega J_{m}(\\kappa r) e^{\\left(i \\, k_{0} z\\right)} \\sin\\left(m p\\right) - 4 i \\, \\pi c k_{0} r \\sigma_{0}\\right)} e^{\\left(-i \\, k_{0} z\\right)}}{{\\left(c^{2} k_{0}^{2} - \\frac{c^{2} \\epsilon_{0} k_{0}^{2} + c^{2} \\epsilon_{0} \\kappa^{2} - 4 \\, \\pi^{2} \\mu_{0} \\sigma_{0}^{2}}{\\epsilon_{0}}\\right)} r}$"
      ],
      "text/plain": [
       "<IPython.core.display.Math object>"
      ]
     },
     "metadata": {},
     "output_type": "display_data"
    },
    {
     "data": {
      "text/latex": [
       "$\\displaystyle \\frac{{\\left({\\left(\\frac{8 i \\, \\pi \\mu_{0} \\omega \\sigma_{0} \\sin\\left(k_{0} z\\right)}{{\\left(c^{2} k_{0} \\kappa J_{m + 1}(\\kappa {\\rho}) - c^{2} k_{0} \\kappa J_{m - 1}(\\kappa {\\rho})\\right)} \\cos\\left(m \\varphi\\right)} - i \\, D_{z_{0}} \\cos\\left(k_{0} z\\right)\\right)} c \\epsilon_{0} m \\omega J_{m}(\\kappa {\\rho}) e^{\\left(i \\, k_{0} z\\right)} \\sin\\left(m \\varphi\\right) - 4 i \\, \\pi c k_{0} {\\rho} \\sigma_{0}\\right)} e^{\\left(-i \\, k_{0} z\\right)}}{{\\left(c^{2} k_{0}^{2} - \\frac{c^{2} \\epsilon_{0} k_{0}^{2} + c^{2} \\epsilon_{0} \\kappa^{2} - 4 \\, \\pi^{2} \\mu_{0} \\sigma_{0}^{2}}{\\epsilon_{0}}\\right)} {\\rho}}$"
      ],
      "text/plain": [
       "<IPython.core.display.Math object>"
      ]
     },
     "metadata": {},
     "output_type": "display_data"
    }
   ],
   "source": [
    "if 0 < n_layers:\n",
    "    display(Math(latex(H_rh[0](rh,ph,z))))\n",
    "    display(Math(latex(H_rho[0](rh,ph,z))))"
   ]
  },
  {
   "cell_type": "code",
   "execution_count": 97,
   "metadata": {},
   "outputs": [
    {
     "data": {
      "text/latex": [
       "$\\displaystyle \\frac{{\\left({\\left(-i \\, D_{z_{1}} \\cos\\left(k_{1} z\\right) - i \\, C_{z_{1}} \\sin\\left(k_{1} z\\right)\\right)} c \\epsilon_{1} m \\omega J_{m}(\\kappa r) e^{\\left(i \\, k_{1} z\\right)} \\sin\\left(m p\\right) - 4 i \\, \\pi c k_{1} r \\sigma_{1}\\right)} e^{\\left(-i \\, k_{1} z\\right)}}{{\\left(c^{2} k_{1}^{2} - \\frac{c^{2} \\epsilon_{1} k_{1}^{2} + c^{2} \\epsilon_{1} \\kappa^{2} - 4 \\, \\pi^{2} \\mu_{1} \\sigma_{1}^{2}}{\\epsilon_{1}}\\right)} r}$"
      ],
      "text/plain": [
       "<IPython.core.display.Math object>"
      ]
     },
     "metadata": {},
     "output_type": "display_data"
    },
    {
     "data": {
      "text/latex": [
       "$\\displaystyle \\frac{{\\left({\\left(-i \\, D_{z_{1}} \\cos\\left(k_{1} z\\right) + \\frac{{\\left(8 i \\, \\pi \\mu_{1} \\omega \\sigma_{1} {\\left(\\cos\\left(h_{0} k_{1} + h_{1} k_{1}\\right) + \\sin\\left(h_{0} k_{1} + h_{1} k_{1}\\right)\\right)} - i \\, {\\left(D_{z_{1}} c^{2} k_{1} \\kappa J_{m + 1}(\\kappa {\\rho}) \\sin\\left(h_{0} k_{1} + h_{1} k_{1}\\right) - D_{z_{1}} c^{2} k_{1} \\kappa J_{m - 1}(\\kappa {\\rho}) \\sin\\left(h_{0} k_{1} + h_{1} k_{1}\\right)\\right)} \\cos\\left(m \\varphi\\right)\\right)} \\sin\\left(k_{1} z\\right)}{{\\left(c^{2} k_{1} \\kappa J_{m + 1}(\\kappa {\\rho}) \\cos\\left(h_{0} k_{1} + h_{1} k_{1}\\right) - c^{2} k_{1} \\kappa J_{m - 1}(\\kappa {\\rho}) \\cos\\left(h_{0} k_{1} + h_{1} k_{1}\\right)\\right)} \\cos\\left(m \\varphi\\right)}\\right)} c \\epsilon_{1} m \\omega J_{m}(\\kappa {\\rho}) e^{\\left(i \\, k_{1} z\\right)} \\sin\\left(m \\varphi\\right) - 4 i \\, \\pi c k_{1} {\\rho} \\sigma_{1}\\right)} e^{\\left(-i \\, k_{1} z\\right)}}{{\\left(c^{2} k_{1}^{2} - \\frac{c^{2} \\epsilon_{1} k_{1}^{2} + c^{2} \\epsilon_{1} \\kappa^{2} - 4 \\, \\pi^{2} \\mu_{1} \\sigma_{1}^{2}}{\\epsilon_{1}}\\right)} {\\rho}}$"
      ],
      "text/plain": [
       "<IPython.core.display.Math object>"
      ]
     },
     "metadata": {},
     "output_type": "display_data"
    }
   ],
   "source": [
    "if 1 < n_layers:\n",
    "    display(Math(latex(H_rh[1](rh,ph,z))))\n",
    "    display(Math(latex(H_rho[1](rh,ph,z))))"
   ]
  },
  {
   "cell_type": "code",
   "execution_count": 98,
   "metadata": {},
   "outputs": [],
   "source": [
    "if 2 < n_layers:\n",
    "    display(Math(latex(H_rh[2](rh,ph,z))))\n",
    "    display(Math(latex(H_rho[2](rh,ph,z))))"
   ]
  },
  {
   "cell_type": "code",
   "execution_count": 99,
   "metadata": {},
   "outputs": [
    {
     "data": {
      "text/latex": [
       "$\\displaystyle -\\frac{{\\left({\\left(-i \\, D_{z_{0}} \\cos\\left(k_{0} z\\right) - i \\, C_{z_{0}} \\sin\\left(k_{0} z\\right)\\right)} c \\epsilon_{0} \\kappa \\omega r {\\left(J_{m + 1}(\\kappa r) - J_{m - 1}(\\kappa r)\\right)} \\cos\\left(m p\\right) e^{\\left(i \\, k_{0} z\\right)} - 8 i \\, \\pi c k_{0} r \\sigma_{0}\\right)} e^{\\left(-i \\, k_{0} z\\right)}}{2 \\, {\\left(c^{2} k_{0}^{2} - \\frac{c^{2} \\epsilon_{0} k_{0}^{2} + c^{2} \\epsilon_{0} \\kappa^{2} - 4 \\, \\pi^{2} \\mu_{0} \\sigma_{0}^{2}}{\\epsilon_{0}}\\right)} r}$"
      ],
      "text/plain": [
       "<IPython.core.display.Math object>"
      ]
     },
     "metadata": {},
     "output_type": "display_data"
    },
    {
     "data": {
      "text/latex": [
       "$\\displaystyle -\\frac{{\\left({\\left(\\frac{8 i \\, \\pi \\mu_{0} \\omega \\sigma_{0} \\sin\\left(k_{0} z\\right)}{{\\left(c^{2} k_{0} \\kappa J_{m + 1}(\\kappa {\\rho}) - c^{2} k_{0} \\kappa J_{m - 1}(\\kappa {\\rho})\\right)} \\cos\\left(m \\varphi\\right)} - i \\, D_{z_{0}} \\cos\\left(k_{0} z\\right)\\right)} c \\epsilon_{0} \\kappa \\omega {\\rho} {\\left(J_{m + 1}(\\kappa {\\rho}) - J_{m - 1}(\\kappa {\\rho})\\right)} \\cos\\left(m \\varphi\\right) e^{\\left(i \\, k_{0} z\\right)} - 8 i \\, \\pi c k_{0} {\\rho} \\sigma_{0}\\right)} e^{\\left(-i \\, k_{0} z\\right)}}{2 \\, {\\left(c^{2} k_{0}^{2} - \\frac{c^{2} \\epsilon_{0} k_{0}^{2} + c^{2} \\epsilon_{0} \\kappa^{2} - 4 \\, \\pi^{2} \\mu_{0} \\sigma_{0}^{2}}{\\epsilon_{0}}\\right)} {\\rho}}$"
      ],
      "text/plain": [
       "<IPython.core.display.Math object>"
      ]
     },
     "metadata": {},
     "output_type": "display_data"
    }
   ],
   "source": [
    "if 0 < n_layers:\n",
    "    display(Math(latex(H_ph[0](rh,ph,z))))\n",
    "    display(Math(latex(H_phi[0](rh,ph,z))))"
   ]
  },
  {
   "cell_type": "code",
   "execution_count": 100,
   "metadata": {},
   "outputs": [
    {
     "data": {
      "text/latex": [
       "$\\displaystyle -\\frac{{\\left({\\left(-i \\, D_{z_{1}} \\cos\\left(k_{1} z\\right) - i \\, C_{z_{1}} \\sin\\left(k_{1} z\\right)\\right)} c \\epsilon_{1} \\kappa \\omega r {\\left(J_{m + 1}(\\kappa r) - J_{m - 1}(\\kappa r)\\right)} \\cos\\left(m p\\right) e^{\\left(i \\, k_{1} z\\right)} - 8 i \\, \\pi c k_{1} r \\sigma_{1}\\right)} e^{\\left(-i \\, k_{1} z\\right)}}{2 \\, {\\left(c^{2} k_{1}^{2} - \\frac{c^{2} \\epsilon_{1} k_{1}^{2} + c^{2} \\epsilon_{1} \\kappa^{2} - 4 \\, \\pi^{2} \\mu_{1} \\sigma_{1}^{2}}{\\epsilon_{1}}\\right)} r}$"
      ],
      "text/plain": [
       "<IPython.core.display.Math object>"
      ]
     },
     "metadata": {},
     "output_type": "display_data"
    },
    {
     "data": {
      "text/latex": [
       "$\\displaystyle -\\frac{{\\left({\\left(-i \\, D_{z_{1}} \\cos\\left(k_{1} z\\right) + \\frac{{\\left(8 i \\, \\pi \\mu_{1} \\omega \\sigma_{1} {\\left(\\cos\\left(h_{0} k_{1} + h_{1} k_{1}\\right) + \\sin\\left(h_{0} k_{1} + h_{1} k_{1}\\right)\\right)} - i \\, {\\left(D_{z_{1}} c^{2} k_{1} \\kappa J_{m + 1}(\\kappa {\\rho}) \\sin\\left(h_{0} k_{1} + h_{1} k_{1}\\right) - D_{z_{1}} c^{2} k_{1} \\kappa J_{m - 1}(\\kappa {\\rho}) \\sin\\left(h_{0} k_{1} + h_{1} k_{1}\\right)\\right)} \\cos\\left(m \\varphi\\right)\\right)} \\sin\\left(k_{1} z\\right)}{{\\left(c^{2} k_{1} \\kappa J_{m + 1}(\\kappa {\\rho}) \\cos\\left(h_{0} k_{1} + h_{1} k_{1}\\right) - c^{2} k_{1} \\kappa J_{m - 1}(\\kappa {\\rho}) \\cos\\left(h_{0} k_{1} + h_{1} k_{1}\\right)\\right)} \\cos\\left(m \\varphi\\right)}\\right)} c \\epsilon_{1} \\kappa \\omega {\\rho} {\\left(J_{m + 1}(\\kappa {\\rho}) - J_{m - 1}(\\kappa {\\rho})\\right)} \\cos\\left(m \\varphi\\right) e^{\\left(i \\, k_{1} z\\right)} - 8 i \\, \\pi c k_{1} {\\rho} \\sigma_{1}\\right)} e^{\\left(-i \\, k_{1} z\\right)}}{2 \\, {\\left(c^{2} k_{1}^{2} - \\frac{c^{2} \\epsilon_{1} k_{1}^{2} + c^{2} \\epsilon_{1} \\kappa^{2} - 4 \\, \\pi^{2} \\mu_{1} \\sigma_{1}^{2}}{\\epsilon_{1}}\\right)} {\\rho}}$"
      ],
      "text/plain": [
       "<IPython.core.display.Math object>"
      ]
     },
     "metadata": {},
     "output_type": "display_data"
    }
   ],
   "source": [
    "if 1 < n_layers:\n",
    "    display(Math(latex(H_ph[1](rh,ph,z))))\n",
    "    display(Math(latex(H_phi[1](rh,ph,z))))"
   ]
  },
  {
   "cell_type": "code",
   "execution_count": 101,
   "metadata": {},
   "outputs": [],
   "source": [
    "if 2 < n_layers:\n",
    "    display(Math(latex(H_ph[2](rh,ph,z))))\n",
    "    display(Math(latex(H_phi[2](rh,ph,z))))"
   ]
  },
  {
   "cell_type": "code",
   "execution_count": 102,
   "metadata": {},
   "outputs": [
    {
     "data": {
      "text/latex": [
       "$\\displaystyle 0$"
      ],
      "text/plain": [
       "<IPython.core.display.Math object>"
      ]
     },
     "metadata": {},
     "output_type": "display_data"
    }
   ],
   "source": [
    "if 0 < n_layers:\n",
    "    display(Math(latex(H_zz[0](rh,ph,z))))"
   ]
  },
  {
   "cell_type": "code",
   "execution_count": 103,
   "metadata": {},
   "outputs": [
    {
     "data": {
      "text/latex": [
       "$\\displaystyle 0$"
      ],
      "text/plain": [
       "<IPython.core.display.Math object>"
      ]
     },
     "metadata": {},
     "output_type": "display_data"
    }
   ],
   "source": [
    "if 1 < n_layers:\n",
    "    display(Math(latex(H_zz[1](rh,ph,z))))"
   ]
  },
  {
   "cell_type": "code",
   "execution_count": 104,
   "metadata": {},
   "outputs": [],
   "source": [
    "if 2 < n_layers:\n",
    "    display(Math(latex(H_zz[2](rh,ph,z))))"
   ]
  },
  {
   "cell_type": "code",
   "execution_count": 105,
   "metadata": {},
   "outputs": [],
   "source": [
    "def GenerateMatrix(equsys, vars):\n",
    "    A=matrix(SR, [[(equ.lhs() - equ.rhs()).coefficient(v) for v in vars] for equ in equsys])\n",
    "    return A"
   ]
  },
  {
   "cell_type": "code",
   "execution_count": 106,
   "metadata": {},
   "outputs": [
    {
     "data": {
      "text/plain": [
       "[C_z_0, D_z_0, C_z_1, D_z_1]"
      ]
     },
     "execution_count": 106,
     "metadata": {},
     "output_type": "execute_result"
    }
   ],
   "source": [
    "all_vars = []\n",
    "if E_mode:\n",
    "    for i in range(n_layers):\n",
    "        all_vars += [C_z[i], D_z[i]]\n",
    "else:\n",
    "    for i in range(n_layers):\n",
    "        all_vars += [A_z[i], B_z[i]]\n",
    "all_vars"
   ]
  },
  {
   "cell_type": "code",
   "execution_count": 107,
   "metadata": {},
   "outputs": [],
   "source": [
    "def reduceDependedRows(M):\n",
    "    print (\"\")\n",
    "    print (\"M.nrows()\", M.nrows())\n",
    "    print (\"M.ncols()\", M.ncols())\n",
    "    print (\"M.rank()\", M.rank())\n",
    "\n",
    "    M_pivot_rows = M.pivot_rows()\n",
    "    print (\"M.pivot_rows() =\", M_pivot_rows)\n",
    "\n",
    "    M_rows = M.rows()\n",
    "    #for row in M_rows:\n",
    "    #    print(\"row =\")\n",
    "    #    display(Math(latex(row)))\n",
    "\n",
    "    reduced_list = []\n",
    "    for r in M_pivot_rows:\n",
    "        #print (\"M_rows[\", r, \"] =\")\n",
    "        #display(Math(latex(M_rows[r])))\n",
    "        reduced_list.append(M_rows[r])\n",
    "\n",
    "    reduced_M = matrix(SR, len(M_pivot_rows), M.ncols(), reduced_list)\n",
    "    #if reduced_M.nrows() == reduced_M.ncols():\n",
    "        #reduced_M_det = reduced_M.det()\n",
    "        #print (\"\")\n",
    "        #print (\"reduced_M.det() =\")\n",
    "        #display(Math(latex(reduced_M_det)))\n",
    "    return reduced_M"
   ]
  },
  {
   "cell_type": "code",
   "execution_count": 108,
   "metadata": {},
   "outputs": [],
   "source": [
    "def make_eqsys_from_reduced_M(M_rotH, vars):\n",
    "    xx = vector(SR, vars)\n",
    "    # print(\"eqns =\")\n",
    "    eqns = [(M_rotH*xx)[index] == 0 for index in range(M_rotH.nrows())]\n",
    "    # display(Math(latex(eqns)))\n",
    "    return (eqns)"
   ]
  },
  {
   "cell_type": "code",
   "execution_count": 109,
   "metadata": {},
   "outputs": [
    {
     "name": "stdout",
     "output_type": "stream",
     "text": [
      "i = 0 boundary_h = h_0\n"
     ]
    }
   ],
   "source": [
    "bch = []\n",
    "bc =  []\n",
    "for i in range (n_layers-1):\n",
    "    boundary_h = sum([h[j] for j in range(i+1)])\n",
    "    print(\"i =\", i, \"boundary_h =\", boundary_h)\n",
    "    if E_mode:\n",
    "        bc += [(E_rho[i](r,p,boundary_h) == E_rho[i+1](r,p,boundary_h)).subs(boundary_conductor)]\n",
    "        bc += [(E_phi[i](r,p,boundary_h) == E_phi[i+1](r,p,boundary_h)).subs(boundary_conductor)]\n",
    "        bc += [(epsilon[i]*E_z[i](r,p,boundary_h) == epsilon[i+1]*E_z[i+1](r,p,boundary_h)).subs(boundary_conductor)]\n",
    "        bch += [(H_phi[i](r,p,boundary_h) == H_phi[i+1](r,p,boundary_h)).subs(boundary_conductor)]\n",
    "    else:\n",
    "        bc += [(H_rho[i](r,p,boundary_h) == H_rho[i+1](r,p,boundary_h)).subs(boundary_conductor)]\n",
    "        bc += [(H_phi[i](r,p,boundary_h) == H_phi[i+1](r,p,boundary_h)).subs(boundary_conductor)]\n",
    "        bc += [(mu[i]*H_z[i](r,p,boundary_h) == mu[i+1]*H_z[i+1](r,p,boundary_h)).subs(boundary_conductor)]\n",
    "        bch += [(E_phi[i](r,p,boundary_h) == E_phi [i+1](r,p,boundary_h)).subs(boundary_conductor)]"
   ]
  },
  {
   "cell_type": "code",
   "execution_count": 110,
   "metadata": {},
   "outputs": [
    {
     "data": {
      "text/latex": [
       "$\\displaystyle \\left[\\frac{{\\left(\\frac{8 \\, \\pi c^{2} k_{0} \\kappa \\mu_{0} \\omega \\sigma_{0} J_{m + 1}(\\kappa r) \\cos\\left(h_{0} k_{0}\\right)}{c^{2} k_{0} \\kappa J_{m + 1}(\\kappa r) - c^{2} k_{0} \\kappa J_{m - 1}(\\kappa r)} - \\frac{8 \\, \\pi c^{2} k_{0} \\kappa \\mu_{0} \\omega \\sigma_{0} J_{m - 1}(\\kappa r) \\cos\\left(h_{0} k_{0}\\right)}{c^{2} k_{0} \\kappa J_{m + 1}(\\kappa r) - c^{2} k_{0} \\kappa J_{m - 1}(\\kappa r)} + D_{z_{0}} c^{2} k_{0} \\kappa J_{m + 1}(\\kappa r) \\cos\\left(m p\\right) \\sin\\left(h_{0} k_{0}\\right) - D_{z_{0}} c^{2} k_{0} \\kappa J_{m - 1}(\\kappa r) \\cos\\left(m p\\right) \\sin\\left(h_{0} k_{0}\\right) - 8 \\, \\pi \\mu_{0} \\omega \\sigma_{0} \\cos\\left(h_{0} k_{0}\\right) - 8 \\, \\pi \\mu_{0} \\omega \\sigma_{0} \\sin\\left(h_{0} k_{0}\\right)\\right)} \\epsilon_{0}}{2 \\, {\\left(c^{2} \\epsilon_{0} \\kappa^{2} - 4 \\, \\pi^{2} \\mu_{0} \\sigma_{0}^{2}\\right)}} = \\frac{{\\left(D_{z_{1}} c^{2} k_{1} \\kappa J_{m + 1}(\\kappa r) \\cos\\left(m p\\right) \\sin\\left(h_{0} k_{1}\\right) - D_{z_{1}} c^{2} k_{1} \\kappa J_{m - 1}(\\kappa r) \\cos\\left(m p\\right) \\sin\\left(h_{0} k_{1}\\right) + \\frac{{\\left(8 \\, \\pi \\mu_{1} \\omega \\sigma_{1} {\\left(\\cos\\left(h_{0} k_{1} + h_{1} k_{1}\\right) + \\sin\\left(h_{0} k_{1} + h_{1} k_{1}\\right)\\right)} - {\\left(D_{z_{1}} c^{2} k_{1} \\kappa J_{m + 1}(\\kappa r) \\sin\\left(h_{0} k_{1} + h_{1} k_{1}\\right) - D_{z_{1}} c^{2} k_{1} \\kappa J_{m - 1}(\\kappa r) \\sin\\left(h_{0} k_{1} + h_{1} k_{1}\\right)\\right)} \\cos\\left(m p\\right)\\right)} c^{2} k_{1} \\kappa J_{m + 1}(\\kappa r) \\cos\\left(h_{0} k_{1}\\right)}{c^{2} k_{1} \\kappa J_{m + 1}(\\kappa r) \\cos\\left(h_{0} k_{1} + h_{1} k_{1}\\right) - c^{2} k_{1} \\kappa J_{m - 1}(\\kappa r) \\cos\\left(h_{0} k_{1} + h_{1} k_{1}\\right)} - \\frac{{\\left(8 \\, \\pi \\mu_{1} \\omega \\sigma_{1} {\\left(\\cos\\left(h_{0} k_{1} + h_{1} k_{1}\\right) + \\sin\\left(h_{0} k_{1} + h_{1} k_{1}\\right)\\right)} - {\\left(D_{z_{1}} c^{2} k_{1} \\kappa J_{m + 1}(\\kappa r) \\sin\\left(h_{0} k_{1} + h_{1} k_{1}\\right) - D_{z_{1}} c^{2} k_{1} \\kappa J_{m - 1}(\\kappa r) \\sin\\left(h_{0} k_{1} + h_{1} k_{1}\\right)\\right)} \\cos\\left(m p\\right)\\right)} c^{2} k_{1} \\kappa J_{m - 1}(\\kappa r) \\cos\\left(h_{0} k_{1}\\right)}{c^{2} k_{1} \\kappa J_{m + 1}(\\kappa r) \\cos\\left(h_{0} k_{1} + h_{1} k_{1}\\right) - c^{2} k_{1} \\kappa J_{m - 1}(\\kappa r) \\cos\\left(h_{0} k_{1} + h_{1} k_{1}\\right)} - 8 \\, \\pi \\mu_{1} \\omega \\sigma_{1} \\cos\\left(h_{0} k_{1}\\right) - 8 \\, \\pi \\mu_{1} \\omega \\sigma_{1} \\sin\\left(h_{0} k_{1}\\right)\\right)} \\epsilon_{1}}{2 \\, {\\left(c^{2} \\epsilon_{1} \\kappa^{2} - 4 \\, \\pi^{2} \\mu_{1} \\sigma_{1}^{2}\\right)}}, \\frac{{\\left(\\frac{8 \\, \\pi c^{2} k_{0} m \\mu_{0} \\omega \\sigma_{0} J_{m}(\\kappa r) \\cos\\left(h_{0} k_{0}\\right) \\sin\\left(m p\\right)}{{\\left(c^{2} k_{0} \\kappa J_{m + 1}(\\kappa r) - c^{2} k_{0} \\kappa J_{m - 1}(\\kappa r)\\right)} \\cos\\left(m p\\right)} + D_{z_{0}} c^{2} k_{0} m J_{m}(\\kappa r) \\sin\\left(h_{0} k_{0}\\right) \\sin\\left(m p\\right) - 4 \\, \\pi \\mu_{0} \\omega r \\sigma_{0} \\cos\\left(h_{0} k_{0}\\right) - 4 \\, \\pi \\mu_{0} \\omega r \\sigma_{0} \\sin\\left(h_{0} k_{0}\\right)\\right)} \\epsilon_{0}}{{\\left(c^{2} \\epsilon_{0} \\kappa^{2} - 4 \\, \\pi^{2} \\mu_{0} \\sigma_{0}^{2}\\right)} r} = \\frac{{\\left(D_{z_{1}} c^{2} k_{1} m J_{m}(\\kappa r) \\sin\\left(h_{0} k_{1}\\right) \\sin\\left(m p\\right) - 4 \\, \\pi \\mu_{1} \\omega r \\sigma_{1} \\cos\\left(h_{0} k_{1}\\right) - 4 \\, \\pi \\mu_{1} \\omega r \\sigma_{1} \\sin\\left(h_{0} k_{1}\\right) + \\frac{{\\left(8 \\, \\pi \\mu_{1} \\omega \\sigma_{1} {\\left(\\cos\\left(h_{0} k_{1} + h_{1} k_{1}\\right) + \\sin\\left(h_{0} k_{1} + h_{1} k_{1}\\right)\\right)} - {\\left(D_{z_{1}} c^{2} k_{1} \\kappa J_{m + 1}(\\kappa r) \\sin\\left(h_{0} k_{1} + h_{1} k_{1}\\right) - D_{z_{1}} c^{2} k_{1} \\kappa J_{m - 1}(\\kappa r) \\sin\\left(h_{0} k_{1} + h_{1} k_{1}\\right)\\right)} \\cos\\left(m p\\right)\\right)} c^{2} k_{1} m J_{m}(\\kappa r) \\cos\\left(h_{0} k_{1}\\right) \\sin\\left(m p\\right)}{{\\left(c^{2} k_{1} \\kappa J_{m + 1}(\\kappa r) \\cos\\left(h_{0} k_{1} + h_{1} k_{1}\\right) - c^{2} k_{1} \\kappa J_{m - 1}(\\kappa r) \\cos\\left(h_{0} k_{1} + h_{1} k_{1}\\right)\\right)} \\cos\\left(m p\\right)}\\right)} \\epsilon_{1}}{{\\left(c^{2} \\epsilon_{1} \\kappa^{2} - 4 \\, \\pi^{2} \\mu_{1} \\sigma_{1}^{2}\\right)} r}, -{\\left(\\frac{8 \\, \\pi \\mu_{0} \\omega \\sigma_{0} \\sin\\left(h_{0} k_{0}\\right)}{{\\left(c^{2} k_{0} \\kappa J_{m + 1}(\\kappa r) - c^{2} k_{0} \\kappa J_{m - 1}(\\kappa r)\\right)} \\cos\\left(m p\\right)} - D_{z_{0}} \\cos\\left(h_{0} k_{0}\\right)\\right)} \\epsilon_{0} J_{m}(\\kappa r) \\cos\\left(m p\\right) = {\\left(D_{z_{1}} \\cos\\left(h_{0} k_{1}\\right) - \\frac{{\\left(8 \\, \\pi \\mu_{1} \\omega \\sigma_{1} {\\left(\\cos\\left(h_{0} k_{1} + h_{1} k_{1}\\right) + \\sin\\left(h_{0} k_{1} + h_{1} k_{1}\\right)\\right)} - {\\left(D_{z_{1}} c^{2} k_{1} \\kappa J_{m + 1}(\\kappa r) \\sin\\left(h_{0} k_{1} + h_{1} k_{1}\\right) - D_{z_{1}} c^{2} k_{1} \\kappa J_{m - 1}(\\kappa r) \\sin\\left(h_{0} k_{1} + h_{1} k_{1}\\right)\\right)} \\cos\\left(m p\\right)\\right)} \\sin\\left(h_{0} k_{1}\\right)}{{\\left(c^{2} k_{1} \\kappa J_{m + 1}(\\kappa r) \\cos\\left(h_{0} k_{1} + h_{1} k_{1}\\right) - c^{2} k_{1} \\kappa J_{m - 1}(\\kappa r) \\cos\\left(h_{0} k_{1} + h_{1} k_{1}\\right)\\right)} \\cos\\left(m p\\right)}\\right)} \\epsilon_{1} J_{m}(\\kappa r) \\cos\\left(m p\\right)\\right]$"
      ],
      "text/plain": [
       "<IPython.core.display.Math object>"
      ]
     },
     "metadata": {},
     "output_type": "display_data"
    }
   ],
   "source": [
    "display(Math(latex(bc)))"
   ]
  },
  {
   "cell_type": "code",
   "execution_count": 111,
   "metadata": {
    "scrolled": true
   },
   "outputs": [
    {
     "data": {
      "text/latex": [
       "$\\displaystyle \\left[-\\frac{{\\left({\\left(\\frac{8 i \\, \\pi \\mu_{0} \\omega \\sigma_{0} \\sin\\left(h_{0} k_{0}\\right)}{{\\left(c^{2} k_{0} \\kappa J_{m + 1}(\\kappa r) - c^{2} k_{0} \\kappa J_{m - 1}(\\kappa r)\\right)} \\cos\\left(m p\\right)} - i \\, D_{z_{0}} \\cos\\left(h_{0} k_{0}\\right)\\right)} c \\epsilon_{0} \\kappa \\omega r {\\left(J_{m + 1}(\\kappa r) - J_{m - 1}(\\kappa r)\\right)} \\cos\\left(m p\\right) e^{\\left(i \\, h_{0} k_{0}\\right)} - 8 i \\, \\pi c k_{0} r \\sigma_{0}\\right)} e^{\\left(-i \\, h_{0} k_{0}\\right)}}{2 \\, {\\left(c^{2} k_{0}^{2} - \\frac{c^{2} \\epsilon_{0} k_{0}^{2} + c^{2} \\epsilon_{0} \\kappa^{2} - 4 \\, \\pi^{2} \\mu_{0} \\sigma_{0}^{2}}{\\epsilon_{0}}\\right)} r} = -\\frac{{\\left({\\left(-i \\, D_{z_{1}} \\cos\\left(h_{0} k_{1}\\right) + \\frac{{\\left(8 i \\, \\pi \\mu_{1} \\omega \\sigma_{1} {\\left(\\cos\\left(h_{0} k_{1} + h_{1} k_{1}\\right) + \\sin\\left(h_{0} k_{1} + h_{1} k_{1}\\right)\\right)} - i \\, {\\left(D_{z_{1}} c^{2} k_{1} \\kappa J_{m + 1}(\\kappa r) \\sin\\left(h_{0} k_{1} + h_{1} k_{1}\\right) - D_{z_{1}} c^{2} k_{1} \\kappa J_{m - 1}(\\kappa r) \\sin\\left(h_{0} k_{1} + h_{1} k_{1}\\right)\\right)} \\cos\\left(m p\\right)\\right)} \\sin\\left(h_{0} k_{1}\\right)}{{\\left(c^{2} k_{1} \\kappa J_{m + 1}(\\kappa r) \\cos\\left(h_{0} k_{1} + h_{1} k_{1}\\right) - c^{2} k_{1} \\kappa J_{m - 1}(\\kappa r) \\cos\\left(h_{0} k_{1} + h_{1} k_{1}\\right)\\right)} \\cos\\left(m p\\right)}\\right)} c \\epsilon_{1} \\kappa \\omega r {\\left(J_{m + 1}(\\kappa r) - J_{m - 1}(\\kappa r)\\right)} \\cos\\left(m p\\right) e^{\\left(i \\, h_{0} k_{1}\\right)} - 8 i \\, \\pi c k_{1} r \\sigma_{1}\\right)} e^{\\left(-i \\, h_{0} k_{1}\\right)}}{2 \\, {\\left(c^{2} k_{1}^{2} - \\frac{c^{2} \\epsilon_{1} k_{1}^{2} + c^{2} \\epsilon_{1} \\kappa^{2} - 4 \\, \\pi^{2} \\mu_{1} \\sigma_{1}^{2}}{\\epsilon_{1}}\\right)} r}\\right]$"
      ],
      "text/plain": [
       "<IPython.core.display.Math object>"
      ]
     },
     "metadata": {},
     "output_type": "display_data"
    }
   ],
   "source": [
    "display(Math(latex(bch)))"
   ]
  },
  {
   "cell_type": "code",
   "execution_count": 112,
   "metadata": {},
   "outputs": [],
   "source": [
    "all_eqs = bc \\\n",
    "        + boundary_conductor\n",
    "\n",
    "#display(Math(latex(all_eqs)))"
   ]
  },
  {
   "cell_type": "code",
   "execution_count": 113,
   "metadata": {},
   "outputs": [],
   "source": [
    "M = GenerateMatrix(all_eqs, all_vars)"
   ]
  },
  {
   "cell_type": "code",
   "execution_count": 114,
   "metadata": {},
   "outputs": [
    {
     "data": {
      "text/latex": [
       "$\\displaystyle \\left(\\begin{array}{rrrr}\n",
       "0 & \\frac{{\\left(c^{2} k_{0} \\kappa J_{m + 1}(\\kappa r) \\cos\\left(m p\\right) \\sin\\left(h_{0} k_{0}\\right) - c^{2} k_{0} \\kappa J_{m - 1}(\\kappa r) \\cos\\left(m p\\right) \\sin\\left(h_{0} k_{0}\\right)\\right)} \\epsilon_{0}}{2 \\, {\\left(c^{2} \\epsilon_{0} \\kappa^{2} - 4 \\, \\pi^{2} \\mu_{0} \\sigma_{0}^{2}\\right)}} & 0 & \\frac{{\\left(\\frac{{\\left(c^{2} k_{1} \\kappa J_{m + 1}(\\kappa r) \\sin\\left(h_{0} k_{1} + h_{1} k_{1}\\right) - c^{2} k_{1} \\kappa J_{m - 1}(\\kappa r) \\sin\\left(h_{0} k_{1} + h_{1} k_{1}\\right)\\right)} c^{2} k_{1} \\kappa J_{m + 1}(\\kappa r) \\cos\\left(h_{0} k_{1}\\right) \\cos\\left(m p\\right)}{c^{2} k_{1} \\kappa J_{m + 1}(\\kappa r) \\cos\\left(h_{0} k_{1} + h_{1} k_{1}\\right) - c^{2} k_{1} \\kappa J_{m - 1}(\\kappa r) \\cos\\left(h_{0} k_{1} + h_{1} k_{1}\\right)} - \\frac{{\\left(c^{2} k_{1} \\kappa J_{m + 1}(\\kappa r) \\sin\\left(h_{0} k_{1} + h_{1} k_{1}\\right) - c^{2} k_{1} \\kappa J_{m - 1}(\\kappa r) \\sin\\left(h_{0} k_{1} + h_{1} k_{1}\\right)\\right)} c^{2} k_{1} \\kappa J_{m - 1}(\\kappa r) \\cos\\left(h_{0} k_{1}\\right) \\cos\\left(m p\\right)}{c^{2} k_{1} \\kappa J_{m + 1}(\\kappa r) \\cos\\left(h_{0} k_{1} + h_{1} k_{1}\\right) - c^{2} k_{1} \\kappa J_{m - 1}(\\kappa r) \\cos\\left(h_{0} k_{1} + h_{1} k_{1}\\right)} - c^{2} k_{1} \\kappa J_{m + 1}(\\kappa r) \\cos\\left(m p\\right) \\sin\\left(h_{0} k_{1}\\right) + c^{2} k_{1} \\kappa J_{m - 1}(\\kappa r) \\cos\\left(m p\\right) \\sin\\left(h_{0} k_{1}\\right)\\right)} \\epsilon_{1}}{2 \\, {\\left(c^{2} \\epsilon_{1} \\kappa^{2} - 4 \\, \\pi^{2} \\mu_{1} \\sigma_{1}^{2}\\right)}} \\\\\n",
       "0 & \\frac{c^{2} \\epsilon_{0} k_{0} m J_{m}(\\kappa r) \\sin\\left(h_{0} k_{0}\\right) \\sin\\left(m p\\right)}{{\\left(c^{2} \\epsilon_{0} \\kappa^{2} - 4 \\, \\pi^{2} \\mu_{0} \\sigma_{0}^{2}\\right)} r} & 0 & \\frac{{\\left(\\frac{{\\left(c^{2} k_{1} \\kappa J_{m + 1}(\\kappa r) \\sin\\left(h_{0} k_{1} + h_{1} k_{1}\\right) - c^{2} k_{1} \\kappa J_{m - 1}(\\kappa r) \\sin\\left(h_{0} k_{1} + h_{1} k_{1}\\right)\\right)} c^{2} k_{1} m J_{m}(\\kappa r) \\cos\\left(h_{0} k_{1}\\right) \\sin\\left(m p\\right)}{c^{2} k_{1} \\kappa J_{m + 1}(\\kappa r) \\cos\\left(h_{0} k_{1} + h_{1} k_{1}\\right) - c^{2} k_{1} \\kappa J_{m - 1}(\\kappa r) \\cos\\left(h_{0} k_{1} + h_{1} k_{1}\\right)} - c^{2} k_{1} m J_{m}(\\kappa r) \\sin\\left(h_{0} k_{1}\\right) \\sin\\left(m p\\right)\\right)} \\epsilon_{1}}{{\\left(c^{2} \\epsilon_{1} \\kappa^{2} - 4 \\, \\pi^{2} \\mu_{1} \\sigma_{1}^{2}\\right)} r} \\\\\n",
       "0 & \\epsilon_{0} J_{m}(\\kappa r) \\cos\\left(h_{0} k_{0}\\right) \\cos\\left(m p\\right) & 0 & -\\epsilon_{1} {\\left(\\frac{{\\left(c^{2} k_{1} \\kappa J_{m + 1}(\\kappa r) \\sin\\left(h_{0} k_{1} + h_{1} k_{1}\\right) - c^{2} k_{1} \\kappa J_{m - 1}(\\kappa r) \\sin\\left(h_{0} k_{1} + h_{1} k_{1}\\right)\\right)} \\sin\\left(h_{0} k_{1}\\right)}{c^{2} k_{1} \\kappa J_{m + 1}(\\kappa r) \\cos\\left(h_{0} k_{1} + h_{1} k_{1}\\right) - c^{2} k_{1} \\kappa J_{m - 1}(\\kappa r) \\cos\\left(h_{0} k_{1} + h_{1} k_{1}\\right)} + \\cos\\left(h_{0} k_{1}\\right)\\right)} J_{m}(\\kappa r) \\cos\\left(m p\\right) \\\\\n",
       "1 & 0 & 0 & 0 \\\\\n",
       "0 & 0 & 1 & -\\frac{c^{2} k_{1} \\kappa J_{m + 1}(\\kappa r) \\sin\\left(h_{0} k_{1} + h_{1} k_{1}\\right) - c^{2} k_{1} \\kappa J_{m - 1}(\\kappa r) \\sin\\left(h_{0} k_{1} + h_{1} k_{1}\\right)}{c^{2} k_{1} \\kappa J_{m + 1}(\\kappa r) \\cos\\left(h_{0} k_{1} + h_{1} k_{1}\\right) - c^{2} k_{1} \\kappa J_{m - 1}(\\kappa r) \\cos\\left(h_{0} k_{1} + h_{1} k_{1}\\right)}\n",
       "\\end{array}\\right)$"
      ],
      "text/plain": [
       "<IPython.core.display.Math object>"
      ]
     },
     "metadata": {},
     "output_type": "display_data"
    }
   ],
   "source": [
    "display(Math(latex(M)))"
   ]
  },
  {
   "cell_type": "code",
   "execution_count": 115,
   "metadata": {},
   "outputs": [
    {
     "data": {
      "text/plain": [
       "(5, 4, 4)"
      ]
     },
     "execution_count": 115,
     "metadata": {},
     "output_type": "execute_result"
    }
   ],
   "source": [
    "M.nrows(), M.ncols(), len(all_vars)"
   ]
  },
  {
   "cell_type": "code",
   "execution_count": 116,
   "metadata": {},
   "outputs": [
    {
     "data": {
      "text/plain": [
       "4"
      ]
     },
     "execution_count": 116,
     "metadata": {},
     "output_type": "execute_result"
    }
   ],
   "source": [
    "M.rank()"
   ]
  },
  {
   "cell_type": "code",
   "execution_count": 117,
   "metadata": {},
   "outputs": [
    {
     "name": "stdout",
     "output_type": "stream",
     "text": [
      "\n",
      "M.nrows() 5\n",
      "M.ncols() 4\n",
      "M.rank() 4\n",
      "M.pivot_rows() = (0, 2, 3, 4)\n"
     ]
    }
   ],
   "source": [
    "reduced_M = reduceDependedRows(M)"
   ]
  },
  {
   "cell_type": "code",
   "execution_count": 118,
   "metadata": {},
   "outputs": [
    {
     "data": {
      "text/plain": [
       "(4, 4)"
      ]
     },
     "execution_count": 118,
     "metadata": {},
     "output_type": "execute_result"
    }
   ],
   "source": [
    "reduced_M.nrows(), reduced_M.ncols(),"
   ]
  },
  {
   "cell_type": "code",
   "execution_count": 119,
   "metadata": {},
   "outputs": [
    {
     "data": {
      "text/plain": [
       "(0, 1, 2, 3)"
      ]
     },
     "execution_count": 119,
     "metadata": {},
     "output_type": "execute_result"
    }
   ],
   "source": [
    "reduced_M.pivots()"
   ]
  },
  {
   "cell_type": "code",
   "execution_count": 120,
   "metadata": {},
   "outputs": [],
   "source": [
    "def reduceEmptyCols(M, vars):\n",
    "    print (\"\")\n",
    "    print (\"M.nrows()\", M.nrows())\n",
    "    print (\"M.ncols()\", M.ncols())\n",
    "    print (\"M.rank()\", M.rank())\n",
    "    print (\"len(vars)\", len(vars))\n",
    "\n",
    "    M_pivots = M.pivots()\n",
    "    print (\"M.pivots() =\", M_pivots)\n",
    "    \n",
    "    M_transposed = M.transpose()\n",
    "\n",
    "    M_cols = M_transposed.rows()\n",
    "    #for col in M_cols:\n",
    "    #    print(\"col =\")\n",
    "    #    display(Math(latex(col)))\n",
    "\n",
    "    reduced_list = []\n",
    "    reduced_vars = []\n",
    "    for c in M_pivots:\n",
    "        #print (\"M_cols[\", c, \"] =\")\n",
    "        #display(Math(latex(M_cols[c])))\n",
    "        reduced_list.append(M_cols[c])\n",
    "        reduced_vars.append(vars[c])\n",
    "\n",
    "    reduced_M_transposed = matrix(SR, len(M_pivots), M.nrows(), reduced_list)\n",
    "    return reduced_vars, reduced_M_transposed.transpose()"
   ]
  },
  {
   "cell_type": "code",
   "execution_count": 121,
   "metadata": {},
   "outputs": [
    {
     "name": "stdout",
     "output_type": "stream",
     "text": [
      "\n",
      "M.nrows() 4\n",
      "M.ncols() 4\n",
      "M.rank() 4\n",
      "len(vars) 4\n",
      "M.pivots() = (0, 1, 2, 3)\n"
     ]
    }
   ],
   "source": [
    "reduced_vars, reduced_reduced_M = reduceEmptyCols(reduced_M, all_vars)"
   ]
  },
  {
   "cell_type": "code",
   "execution_count": 122,
   "metadata": {},
   "outputs": [
    {
     "data": {
      "text/plain": [
       "(4, 4, 4)"
      ]
     },
     "execution_count": 122,
     "metadata": {},
     "output_type": "execute_result"
    }
   ],
   "source": [
    "reduced_reduced_M.nrows(), reduced_reduced_M.ncols(), len(reduced_vars)"
   ]
  },
  {
   "cell_type": "code",
   "execution_count": 123,
   "metadata": {},
   "outputs": [
    {
     "data": {
      "text/plain": [
       "[C_z_0, D_z_0, C_z_1, D_z_1]"
      ]
     },
     "execution_count": 123,
     "metadata": {},
     "output_type": "execute_result"
    }
   ],
   "source": [
    "reduced_vars"
   ]
  },
  {
   "cell_type": "code",
   "execution_count": 124,
   "metadata": {},
   "outputs": [
    {
     "data": {
      "text/latex": [
       "$\\displaystyle \\left(\\begin{array}{rrrr}\n",
       "0 & \\frac{{\\left(c^{2} k_{0} \\kappa J_{m + 1}(\\kappa r) \\cos\\left(m p\\right) \\sin\\left(h_{0} k_{0}\\right) - c^{2} k_{0} \\kappa J_{m - 1}(\\kappa r) \\cos\\left(m p\\right) \\sin\\left(h_{0} k_{0}\\right)\\right)} \\epsilon_{0}}{2 \\, {\\left(c^{2} \\epsilon_{0} \\kappa^{2} - 4 \\, \\pi^{2} \\mu_{0} \\sigma_{0}^{2}\\right)}} & 0 & \\frac{{\\left(\\frac{{\\left(c^{2} k_{1} \\kappa J_{m + 1}(\\kappa r) \\sin\\left(h_{0} k_{1} + h_{1} k_{1}\\right) - c^{2} k_{1} \\kappa J_{m - 1}(\\kappa r) \\sin\\left(h_{0} k_{1} + h_{1} k_{1}\\right)\\right)} c^{2} k_{1} \\kappa J_{m + 1}(\\kappa r) \\cos\\left(h_{0} k_{1}\\right) \\cos\\left(m p\\right)}{c^{2} k_{1} \\kappa J_{m + 1}(\\kappa r) \\cos\\left(h_{0} k_{1} + h_{1} k_{1}\\right) - c^{2} k_{1} \\kappa J_{m - 1}(\\kappa r) \\cos\\left(h_{0} k_{1} + h_{1} k_{1}\\right)} - \\frac{{\\left(c^{2} k_{1} \\kappa J_{m + 1}(\\kappa r) \\sin\\left(h_{0} k_{1} + h_{1} k_{1}\\right) - c^{2} k_{1} \\kappa J_{m - 1}(\\kappa r) \\sin\\left(h_{0} k_{1} + h_{1} k_{1}\\right)\\right)} c^{2} k_{1} \\kappa J_{m - 1}(\\kappa r) \\cos\\left(h_{0} k_{1}\\right) \\cos\\left(m p\\right)}{c^{2} k_{1} \\kappa J_{m + 1}(\\kappa r) \\cos\\left(h_{0} k_{1} + h_{1} k_{1}\\right) - c^{2} k_{1} \\kappa J_{m - 1}(\\kappa r) \\cos\\left(h_{0} k_{1} + h_{1} k_{1}\\right)} - c^{2} k_{1} \\kappa J_{m + 1}(\\kappa r) \\cos\\left(m p\\right) \\sin\\left(h_{0} k_{1}\\right) + c^{2} k_{1} \\kappa J_{m - 1}(\\kappa r) \\cos\\left(m p\\right) \\sin\\left(h_{0} k_{1}\\right)\\right)} \\epsilon_{1}}{2 \\, {\\left(c^{2} \\epsilon_{1} \\kappa^{2} - 4 \\, \\pi^{2} \\mu_{1} \\sigma_{1}^{2}\\right)}} \\\\\n",
       "0 & \\epsilon_{0} J_{m}(\\kappa r) \\cos\\left(h_{0} k_{0}\\right) \\cos\\left(m p\\right) & 0 & -\\epsilon_{1} {\\left(\\frac{{\\left(c^{2} k_{1} \\kappa J_{m + 1}(\\kappa r) \\sin\\left(h_{0} k_{1} + h_{1} k_{1}\\right) - c^{2} k_{1} \\kappa J_{m - 1}(\\kappa r) \\sin\\left(h_{0} k_{1} + h_{1} k_{1}\\right)\\right)} \\sin\\left(h_{0} k_{1}\\right)}{c^{2} k_{1} \\kappa J_{m + 1}(\\kappa r) \\cos\\left(h_{0} k_{1} + h_{1} k_{1}\\right) - c^{2} k_{1} \\kappa J_{m - 1}(\\kappa r) \\cos\\left(h_{0} k_{1} + h_{1} k_{1}\\right)} + \\cos\\left(h_{0} k_{1}\\right)\\right)} J_{m}(\\kappa r) \\cos\\left(m p\\right) \\\\\n",
       "1 & 0 & 0 & 0 \\\\\n",
       "0 & 0 & 1 & -\\frac{c^{2} k_{1} \\kappa J_{m + 1}(\\kappa r) \\sin\\left(h_{0} k_{1} + h_{1} k_{1}\\right) - c^{2} k_{1} \\kappa J_{m - 1}(\\kappa r) \\sin\\left(h_{0} k_{1} + h_{1} k_{1}\\right)}{c^{2} k_{1} \\kappa J_{m + 1}(\\kappa r) \\cos\\left(h_{0} k_{1} + h_{1} k_{1}\\right) - c^{2} k_{1} \\kappa J_{m - 1}(\\kappa r) \\cos\\left(h_{0} k_{1} + h_{1} k_{1}\\right)}\n",
       "\\end{array}\\right)$"
      ],
      "text/plain": [
       "<IPython.core.display.Math object>"
      ]
     },
     "metadata": {},
     "output_type": "display_data"
    }
   ],
   "source": [
    "display(Math(latex(reduced_reduced_M)))"
   ]
  },
  {
   "cell_type": "code",
   "execution_count": 125,
   "metadata": {},
   "outputs": [
    {
     "data": {
      "text/plain": [
       "[                                                                                                                                                                                                                                                                                                                                                                                                                                                                                                                                                                                                                                                                                                                                                                                                                                                        0                                                                                                                                                                                                                                                                                                                                                                                                                                                                                                                                                                                                                                                               1/2*(c^2*k_0*kappa*bessel_J(m + 1, kappa*r)*cos(m*p)*sin(h_0*k_0) - c^2*k_0*kappa*bessel_J(m - 1, kappa*r)*cos(m*p)*sin(h_0*k_0))*epsilon_0/(c^2*epsilon_0*kappa^2 - 4*pi^2*mu_0*sigma_0^2)                                                                                                                                                                                                                                                                                                                                                                                                                                                                                                                                                                                                                                                                                                                                                                                                                                                         0 1/2*((c^2*k_1*kappa*bessel_J(m + 1, kappa*r)*sin(h_0*k_1 + h_1*k_1) - c^2*k_1*kappa*bessel_J(m - 1, kappa*r)*sin(h_0*k_1 + h_1*k_1))*c^2*k_1*kappa*bessel_J(m + 1, kappa*r)*cos(h_0*k_1)*cos(m*p)/(c^2*k_1*kappa*bessel_J(m + 1, kappa*r)*cos(h_0*k_1 + h_1*k_1) - c^2*k_1*kappa*bessel_J(m - 1, kappa*r)*cos(h_0*k_1 + h_1*k_1)) - (c^2*k_1*kappa*bessel_J(m + 1, kappa*r)*sin(h_0*k_1 + h_1*k_1) - c^2*k_1*kappa*bessel_J(m - 1, kappa*r)*sin(h_0*k_1 + h_1*k_1))*c^2*k_1*kappa*bessel_J(m - 1, kappa*r)*cos(h_0*k_1)*cos(m*p)/(c^2*k_1*kappa*bessel_J(m + 1, kappa*r)*cos(h_0*k_1 + h_1*k_1) - c^2*k_1*kappa*bessel_J(m - 1, kappa*r)*cos(h_0*k_1 + h_1*k_1)) - c^2*k_1*kappa*bessel_J(m + 1, kappa*r)*cos(m*p)*sin(h_0*k_1) + c^2*k_1*kappa*bessel_J(m - 1, kappa*r)*cos(m*p)*sin(h_0*k_1))*epsilon_1/(c^2*epsilon_1*kappa^2 - 4*pi^2*mu_1*sigma_1^2)]\n",
       "[                                                                                                                                                                                                                                                                                                                                                                                                                                                                                                                                                                                                                                                                                                                                                                                                                                                        0                                                                                                                                                                                                                                                                                                                                                                                                                                                                                                                                                                                                                                                                                                                                                                                                      epsilon_0*bessel_J(m, kappa*r)*cos(h_0*k_0)*cos(m*p)                                                                                                                                                                                                                                                                                                                                                                                                                                                                                                                                                                                                                                                                                                                                                                                                                                                         0                                                                                                                                                                                                                                                                                                                                                                                                                                                                                                                    -epsilon_1*((c^2*k_1*kappa*bessel_J(m + 1, kappa*r)*sin(h_0*k_1 + h_1*k_1) - c^2*k_1*kappa*bessel_J(m - 1, kappa*r)*sin(h_0*k_1 + h_1*k_1))*sin(h_0*k_1)/(c^2*k_1*kappa*bessel_J(m + 1, kappa*r)*cos(h_0*k_1 + h_1*k_1) - c^2*k_1*kappa*bessel_J(m - 1, kappa*r)*cos(h_0*k_1 + h_1*k_1)) + cos(h_0*k_1))*bessel_J(m, kappa*r)*cos(m*p)]\n",
       "[                                                                                                                                                                                                                                                                                                                                                                                                                                                                                                                                                                                                                                                                                                                                                                                                                                                        1                                                                                                                                                                                                                                                                                                                                                                                                                                                                                                                                                                                                                                                                                                                                                                                                                                                         0                                                                                                                                                                                                                                                                                                                                                                                                                                                                                                                                                                                                                                                                                                                                                                                                                                                         0                                                                                                                                                                                                                                                                                                                                                                                                                                                                                                                                                                                                                                                                                                                                                                                                                                                         0]\n",
       "[                                                                                                                                                                                                                                                                                                                                                                                                                                                                                                                                                                                                                                                                                                                                                                                                                                                        0                                                                                                                                                                                                                                                                                                                                                                                                                                                                                                                                                                                                                                                                                                                                                                                                                                                         0                                                                                                                                                                                                                                                                                                                                                                                                                                                                                                                                                                                                                                                                                                                                                                                                                                                         1                                                                                                                                                                                                                                                                                                                                                                                                                                                                                                                                                                                          -(c^2*k_1*kappa*bessel_J(m + 1, kappa*r)*sin(h_0*k_1 + h_1*k_1) - c^2*k_1*kappa*bessel_J(m - 1, kappa*r)*sin(h_0*k_1 + h_1*k_1))/(c^2*k_1*kappa*bessel_J(m + 1, kappa*r)*cos(h_0*k_1 + h_1*k_1) - c^2*k_1*kappa*bessel_J(m - 1, kappa*r)*cos(h_0*k_1 + h_1*k_1))]"
      ]
     },
     "execution_count": 125,
     "metadata": {},
     "output_type": "execute_result"
    }
   ],
   "source": [
    "reduced_reduced_M"
   ]
  },
  {
   "cell_type": "code",
   "execution_count": 126,
   "metadata": {},
   "outputs": [
    {
     "data": {
      "text/plain": [
       "<class 'sage.matrix.matrix_symbolic_dense.Matrix_symbolic_dense'>"
      ]
     },
     "execution_count": 126,
     "metadata": {},
     "output_type": "execute_result"
    }
   ],
   "source": [
    "type(reduced_reduced_M)"
   ]
  },
  {
   "cell_type": "code",
   "execution_count": 127,
   "metadata": {},
   "outputs": [
    {
     "data": {
      "text/plain": [
       "1/2*c^4*epsilon_0*epsilon_1*k_1^2*kappa^2*bessel_J(m + 1, kappa*r)^2*bessel_J(m, kappa*r)*cos(h_0*k_0)*cos(h_0*k_1)*cos(m*p)^2*sin(h_0*k_1 + h_1*k_1)/((c^2*k_1*kappa*bessel_J(m + 1, kappa*r)*cos(h_0*k_1 + h_1*k_1) - c^2*k_1*kappa*bessel_J(m - 1, kappa*r)*cos(h_0*k_1 + h_1*k_1))*(c^2*epsilon_1*kappa^2 - 4*pi^2*mu_1*sigma_1^2)) - c^4*epsilon_0*epsilon_1*k_1^2*kappa^2*bessel_J(m + 1, kappa*r)*bessel_J(m - 1, kappa*r)*bessel_J(m, kappa*r)*cos(h_0*k_0)*cos(h_0*k_1)*cos(m*p)^2*sin(h_0*k_1 + h_1*k_1)/((c^2*k_1*kappa*bessel_J(m + 1, kappa*r)*cos(h_0*k_1 + h_1*k_1) - c^2*k_1*kappa*bessel_J(m - 1, kappa*r)*cos(h_0*k_1 + h_1*k_1))*(c^2*epsilon_1*kappa^2 - 4*pi^2*mu_1*sigma_1^2)) + 1/2*c^4*epsilon_0*epsilon_1*k_1^2*kappa^2*bessel_J(m - 1, kappa*r)^2*bessel_J(m, kappa*r)*cos(h_0*k_0)*cos(h_0*k_1)*cos(m*p)^2*sin(h_0*k_1 + h_1*k_1)/((c^2*k_1*kappa*bessel_J(m + 1, kappa*r)*cos(h_0*k_1 + h_1*k_1) - c^2*k_1*kappa*bessel_J(m - 1, kappa*r)*cos(h_0*k_1 + h_1*k_1))*(c^2*epsilon_1*kappa^2 - 4*pi^2*mu_1*sigma_1^2)) + 1/2*c^4*epsilon_0*epsilon_1*k_0*k_1*kappa^2*bessel_J(m + 1, kappa*r)^2*bessel_J(m, kappa*r)*cos(m*p)^2*sin(h_0*k_0)*sin(h_0*k_1 + h_1*k_1)*sin(h_0*k_1)/((c^2*k_1*kappa*bessel_J(m + 1, kappa*r)*cos(h_0*k_1 + h_1*k_1) - c^2*k_1*kappa*bessel_J(m - 1, kappa*r)*cos(h_0*k_1 + h_1*k_1))*(c^2*epsilon_0*kappa^2 - 4*pi^2*mu_0*sigma_0^2)) - c^4*epsilon_0*epsilon_1*k_0*k_1*kappa^2*bessel_J(m + 1, kappa*r)*bessel_J(m - 1, kappa*r)*bessel_J(m, kappa*r)*cos(m*p)^2*sin(h_0*k_0)*sin(h_0*k_1 + h_1*k_1)*sin(h_0*k_1)/((c^2*k_1*kappa*bessel_J(m + 1, kappa*r)*cos(h_0*k_1 + h_1*k_1) - c^2*k_1*kappa*bessel_J(m - 1, kappa*r)*cos(h_0*k_1 + h_1*k_1))*(c^2*epsilon_0*kappa^2 - 4*pi^2*mu_0*sigma_0^2)) + 1/2*c^4*epsilon_0*epsilon_1*k_0*k_1*kappa^2*bessel_J(m - 1, kappa*r)^2*bessel_J(m, kappa*r)*cos(m*p)^2*sin(h_0*k_0)*sin(h_0*k_1 + h_1*k_1)*sin(h_0*k_1)/((c^2*k_1*kappa*bessel_J(m + 1, kappa*r)*cos(h_0*k_1 + h_1*k_1) - c^2*k_1*kappa*bessel_J(m - 1, kappa*r)*cos(h_0*k_1 + h_1*k_1))*(c^2*epsilon_0*kappa^2 - 4*pi^2*mu_0*sigma_0^2)) + 1/2*c^2*epsilon_0*epsilon_1*k_0*kappa*bessel_J(m + 1, kappa*r)*bessel_J(m, kappa*r)*cos(h_0*k_1)*cos(m*p)^2*sin(h_0*k_0)/(c^2*epsilon_0*kappa^2 - 4*pi^2*mu_0*sigma_0^2) - 1/2*c^2*epsilon_0*epsilon_1*k_0*kappa*bessel_J(m - 1, kappa*r)*bessel_J(m, kappa*r)*cos(h_0*k_1)*cos(m*p)^2*sin(h_0*k_0)/(c^2*epsilon_0*kappa^2 - 4*pi^2*mu_0*sigma_0^2) - 1/2*c^2*epsilon_0*epsilon_1*k_1*kappa*bessel_J(m + 1, kappa*r)*bessel_J(m, kappa*r)*cos(h_0*k_0)*cos(m*p)^2*sin(h_0*k_1)/(c^2*epsilon_1*kappa^2 - 4*pi^2*mu_1*sigma_1^2) + 1/2*c^2*epsilon_0*epsilon_1*k_1*kappa*bessel_J(m - 1, kappa*r)*bessel_J(m, kappa*r)*cos(h_0*k_0)*cos(m*p)^2*sin(h_0*k_1)/(c^2*epsilon_1*kappa^2 - 4*pi^2*mu_1*sigma_1^2)"
      ]
     },
     "execution_count": 127,
     "metadata": {},
     "output_type": "execute_result"
    }
   ],
   "source": [
    "reduced_reduced_M.det()"
   ]
  },
  {
   "cell_type": "code",
   "execution_count": 128,
   "metadata": {},
   "outputs": [],
   "source": [
    "exec(\"reduced_reduced_M_det = \" + Preparse(str(reduced_reduced_M.det())))"
   ]
  },
  {
   "cell_type": "code",
   "execution_count": 129,
   "metadata": {},
   "outputs": [
    {
     "data": {
      "text/latex": [
       "$\\displaystyle \\frac{c^{4} \\epsilon_{0} \\epsilon_{1} k_{1}^{2} \\kappa^{2} J_{m + 1}(\\kappa r)^{2} J_{m}(\\kappa r) \\cos\\left(h_{0} k_{0}\\right) \\cos\\left(h_{0} k_{1}\\right) \\cos\\left(m p\\right)^{2} \\sin\\left(h_{0} k_{1} + h_{1} k_{1}\\right)}{2 \\, {\\left(c^{2} k_{1} \\kappa J_{m + 1}(\\kappa r) \\cos\\left(h_{0} k_{1} + h_{1} k_{1}\\right) - c^{2} k_{1} \\kappa J_{m - 1}(\\kappa r) \\cos\\left(h_{0} k_{1} + h_{1} k_{1}\\right)\\right)} {\\left(c^{2} \\epsilon_{1} \\kappa^{2} - 4 \\, \\pi^{2} \\mu_{1} \\sigma_{1}^{2}\\right)}} - \\frac{c^{4} \\epsilon_{0} \\epsilon_{1} k_{1}^{2} \\kappa^{2} J_{m + 1}(\\kappa r) J_{m - 1}(\\kappa r) J_{m}(\\kappa r) \\cos\\left(h_{0} k_{0}\\right) \\cos\\left(h_{0} k_{1}\\right) \\cos\\left(m p\\right)^{2} \\sin\\left(h_{0} k_{1} + h_{1} k_{1}\\right)}{{\\left(c^{2} k_{1} \\kappa J_{m + 1}(\\kappa r) \\cos\\left(h_{0} k_{1} + h_{1} k_{1}\\right) - c^{2} k_{1} \\kappa J_{m - 1}(\\kappa r) \\cos\\left(h_{0} k_{1} + h_{1} k_{1}\\right)\\right)} {\\left(c^{2} \\epsilon_{1} \\kappa^{2} - 4 \\, \\pi^{2} \\mu_{1} \\sigma_{1}^{2}\\right)}} + \\frac{c^{4} \\epsilon_{0} \\epsilon_{1} k_{1}^{2} \\kappa^{2} J_{m - 1}(\\kappa r)^{2} J_{m}(\\kappa r) \\cos\\left(h_{0} k_{0}\\right) \\cos\\left(h_{0} k_{1}\\right) \\cos\\left(m p\\right)^{2} \\sin\\left(h_{0} k_{1} + h_{1} k_{1}\\right)}{2 \\, {\\left(c^{2} k_{1} \\kappa J_{m + 1}(\\kappa r) \\cos\\left(h_{0} k_{1} + h_{1} k_{1}\\right) - c^{2} k_{1} \\kappa J_{m - 1}(\\kappa r) \\cos\\left(h_{0} k_{1} + h_{1} k_{1}\\right)\\right)} {\\left(c^{2} \\epsilon_{1} \\kappa^{2} - 4 \\, \\pi^{2} \\mu_{1} \\sigma_{1}^{2}\\right)}} + \\frac{c^{4} \\epsilon_{0} \\epsilon_{1} k_{0} k_{1} \\kappa^{2} J_{m + 1}(\\kappa r)^{2} J_{m}(\\kappa r) \\cos\\left(m p\\right)^{2} \\sin\\left(h_{0} k_{0}\\right) \\sin\\left(h_{0} k_{1} + h_{1} k_{1}\\right) \\sin\\left(h_{0} k_{1}\\right)}{2 \\, {\\left(c^{2} k_{1} \\kappa J_{m + 1}(\\kappa r) \\cos\\left(h_{0} k_{1} + h_{1} k_{1}\\right) - c^{2} k_{1} \\kappa J_{m - 1}(\\kappa r) \\cos\\left(h_{0} k_{1} + h_{1} k_{1}\\right)\\right)} {\\left(c^{2} \\epsilon_{0} \\kappa^{2} - 4 \\, \\pi^{2} \\mu_{0} \\sigma_{0}^{2}\\right)}} - \\frac{c^{4} \\epsilon_{0} \\epsilon_{1} k_{0} k_{1} \\kappa^{2} J_{m + 1}(\\kappa r) J_{m - 1}(\\kappa r) J_{m}(\\kappa r) \\cos\\left(m p\\right)^{2} \\sin\\left(h_{0} k_{0}\\right) \\sin\\left(h_{0} k_{1} + h_{1} k_{1}\\right) \\sin\\left(h_{0} k_{1}\\right)}{{\\left(c^{2} k_{1} \\kappa J_{m + 1}(\\kappa r) \\cos\\left(h_{0} k_{1} + h_{1} k_{1}\\right) - c^{2} k_{1} \\kappa J_{m - 1}(\\kappa r) \\cos\\left(h_{0} k_{1} + h_{1} k_{1}\\right)\\right)} {\\left(c^{2} \\epsilon_{0} \\kappa^{2} - 4 \\, \\pi^{2} \\mu_{0} \\sigma_{0}^{2}\\right)}} + \\frac{c^{4} \\epsilon_{0} \\epsilon_{1} k_{0} k_{1} \\kappa^{2} J_{m - 1}(\\kappa r)^{2} J_{m}(\\kappa r) \\cos\\left(m p\\right)^{2} \\sin\\left(h_{0} k_{0}\\right) \\sin\\left(h_{0} k_{1} + h_{1} k_{1}\\right) \\sin\\left(h_{0} k_{1}\\right)}{2 \\, {\\left(c^{2} k_{1} \\kappa J_{m + 1}(\\kappa r) \\cos\\left(h_{0} k_{1} + h_{1} k_{1}\\right) - c^{2} k_{1} \\kappa J_{m - 1}(\\kappa r) \\cos\\left(h_{0} k_{1} + h_{1} k_{1}\\right)\\right)} {\\left(c^{2} \\epsilon_{0} \\kappa^{2} - 4 \\, \\pi^{2} \\mu_{0} \\sigma_{0}^{2}\\right)}} + \\frac{c^{2} \\epsilon_{0} \\epsilon_{1} k_{0} \\kappa J_{m + 1}(\\kappa r) J_{m}(\\kappa r) \\cos\\left(h_{0} k_{1}\\right) \\cos\\left(m p\\right)^{2} \\sin\\left(h_{0} k_{0}\\right)}{2 \\, {\\left(c^{2} \\epsilon_{0} \\kappa^{2} - 4 \\, \\pi^{2} \\mu_{0} \\sigma_{0}^{2}\\right)}} - \\frac{c^{2} \\epsilon_{0} \\epsilon_{1} k_{0} \\kappa J_{m - 1}(\\kappa r) J_{m}(\\kappa r) \\cos\\left(h_{0} k_{1}\\right) \\cos\\left(m p\\right)^{2} \\sin\\left(h_{0} k_{0}\\right)}{2 \\, {\\left(c^{2} \\epsilon_{0} \\kappa^{2} - 4 \\, \\pi^{2} \\mu_{0} \\sigma_{0}^{2}\\right)}} - \\frac{c^{2} \\epsilon_{0} \\epsilon_{1} k_{1} \\kappa J_{m + 1}(\\kappa r) J_{m}(\\kappa r) \\cos\\left(h_{0} k_{0}\\right) \\cos\\left(m p\\right)^{2} \\sin\\left(h_{0} k_{1}\\right)}{2 \\, {\\left(c^{2} \\epsilon_{1} \\kappa^{2} - 4 \\, \\pi^{2} \\mu_{1} \\sigma_{1}^{2}\\right)}} + \\frac{c^{2} \\epsilon_{0} \\epsilon_{1} k_{1} \\kappa J_{m - 1}(\\kappa r) J_{m}(\\kappa r) \\cos\\left(h_{0} k_{0}\\right) \\cos\\left(m p\\right)^{2} \\sin\\left(h_{0} k_{1}\\right)}{2 \\, {\\left(c^{2} \\epsilon_{1} \\kappa^{2} - 4 \\, \\pi^{2} \\mu_{1} \\sigma_{1}^{2}\\right)}}$"
      ],
      "text/plain": [
       "<IPython.core.display.Math object>"
      ]
     },
     "metadata": {},
     "output_type": "display_data"
    }
   ],
   "source": [
    "display(Math(latex(reduced_reduced_M_det)))"
   ]
  },
  {
   "cell_type": "code",
   "execution_count": 130,
   "metadata": {},
   "outputs": [
    {
     "data": {
      "text/plain": [
       "1/2*c^4*epsilon_0*epsilon_1*k_1^2*kappa^2*bessel_J(m + 1, kappa*r)^2*bessel_J(m, kappa*r)*cos(h_0*k_0)*cos(h_0*k_1)*cos(m*p)^2*sin(h_0*k_1 + h_1*k_1)/((c^2*k_1*kappa*bessel_J(m + 1, kappa*r)*cos(h_0*k_1 + h_1*k_1) - c^2*k_1*kappa*bessel_J(m - 1, kappa*r)*cos(h_0*k_1 + h_1*k_1))*(c^2*epsilon_1*kappa^2 - 4*pi^2*mu_1*sigma_1^2)) - c^4*epsilon_0*epsilon_1*k_1^2*kappa^2*bessel_J(m + 1, kappa*r)*bessel_J(m - 1, kappa*r)*bessel_J(m, kappa*r)*cos(h_0*k_0)*cos(h_0*k_1)*cos(m*p)^2*sin(h_0*k_1 + h_1*k_1)/((c^2*k_1*kappa*bessel_J(m + 1, kappa*r)*cos(h_0*k_1 + h_1*k_1) - c^2*k_1*kappa*bessel_J(m - 1, kappa*r)*cos(h_0*k_1 + h_1*k_1))*(c^2*epsilon_1*kappa^2 - 4*pi^2*mu_1*sigma_1^2)) + 1/2*c^4*epsilon_0*epsilon_1*k_1^2*kappa^2*bessel_J(m - 1, kappa*r)^2*bessel_J(m, kappa*r)*cos(h_0*k_0)*cos(h_0*k_1)*cos(m*p)^2*sin(h_0*k_1 + h_1*k_1)/((c^2*k_1*kappa*bessel_J(m + 1, kappa*r)*cos(h_0*k_1 + h_1*k_1) - c^2*k_1*kappa*bessel_J(m - 1, kappa*r)*cos(h_0*k_1 + h_1*k_1))*(c^2*epsilon_1*kappa^2 - 4*pi^2*mu_1*sigma_1^2)) + 1/2*c^4*epsilon_0*epsilon_1*k_0*k_1*kappa^2*bessel_J(m + 1, kappa*r)^2*bessel_J(m, kappa*r)*cos(m*p)^2*sin(h_0*k_0)*sin(h_0*k_1 + h_1*k_1)*sin(h_0*k_1)/((c^2*k_1*kappa*bessel_J(m + 1, kappa*r)*cos(h_0*k_1 + h_1*k_1) - c^2*k_1*kappa*bessel_J(m - 1, kappa*r)*cos(h_0*k_1 + h_1*k_1))*(c^2*epsilon_0*kappa^2 - 4*pi^2*mu_0*sigma_0^2)) - c^4*epsilon_0*epsilon_1*k_0*k_1*kappa^2*bessel_J(m + 1, kappa*r)*bessel_J(m - 1, kappa*r)*bessel_J(m, kappa*r)*cos(m*p)^2*sin(h_0*k_0)*sin(h_0*k_1 + h_1*k_1)*sin(h_0*k_1)/((c^2*k_1*kappa*bessel_J(m + 1, kappa*r)*cos(h_0*k_1 + h_1*k_1) - c^2*k_1*kappa*bessel_J(m - 1, kappa*r)*cos(h_0*k_1 + h_1*k_1))*(c^2*epsilon_0*kappa^2 - 4*pi^2*mu_0*sigma_0^2)) + 1/2*c^4*epsilon_0*epsilon_1*k_0*k_1*kappa^2*bessel_J(m - 1, kappa*r)^2*bessel_J(m, kappa*r)*cos(m*p)^2*sin(h_0*k_0)*sin(h_0*k_1 + h_1*k_1)*sin(h_0*k_1)/((c^2*k_1*kappa*bessel_J(m + 1, kappa*r)*cos(h_0*k_1 + h_1*k_1) - c^2*k_1*kappa*bessel_J(m - 1, kappa*r)*cos(h_0*k_1 + h_1*k_1))*(c^2*epsilon_0*kappa^2 - 4*pi^2*mu_0*sigma_0^2)) + 1/2*c^2*epsilon_0*epsilon_1*k_0*kappa*bessel_J(m + 1, kappa*r)*bessel_J(m, kappa*r)*cos(h_0*k_1)*cos(m*p)^2*sin(h_0*k_0)/(c^2*epsilon_0*kappa^2 - 4*pi^2*mu_0*sigma_0^2) - 1/2*c^2*epsilon_0*epsilon_1*k_0*kappa*bessel_J(m - 1, kappa*r)*bessel_J(m, kappa*r)*cos(h_0*k_1)*cos(m*p)^2*sin(h_0*k_0)/(c^2*epsilon_0*kappa^2 - 4*pi^2*mu_0*sigma_0^2) - 1/2*c^2*epsilon_0*epsilon_1*k_1*kappa*bessel_J(m + 1, kappa*r)*bessel_J(m, kappa*r)*cos(h_0*k_0)*cos(m*p)^2*sin(h_0*k_1)/(c^2*epsilon_1*kappa^2 - 4*pi^2*mu_1*sigma_1^2) + 1/2*c^2*epsilon_0*epsilon_1*k_1*kappa*bessel_J(m - 1, kappa*r)*bessel_J(m, kappa*r)*cos(h_0*k_0)*cos(m*p)^2*sin(h_0*k_1)/(c^2*epsilon_1*kappa^2 - 4*pi^2*mu_1*sigma_1^2)"
      ]
     },
     "execution_count": 130,
     "metadata": {},
     "output_type": "execute_result"
    }
   ],
   "source": [
    "reduced_reduced_M_det"
   ]
  },
  {
   "cell_type": "code",
   "execution_count": 131,
   "metadata": {},
   "outputs": [],
   "source": [
    "M_det  = reduced_reduced_M_det"
   ]
  },
  {
   "cell_type": "code",
   "execution_count": null,
   "metadata": {},
   "outputs": [],
   "source": []
  },
  {
   "cell_type": "code",
   "execution_count": 132,
   "metadata": {},
   "outputs": [
    {
     "data": {
      "text/plain": [
       "1/2*c^4*epsilon_0*epsilon_1*k_1^2*kappa^2*bessel_J(m + 1, kappa*r)^2*bessel_J(m, kappa*r)*cos(h_0*k_0)*cos(h_0*k_1)*cos(m*p)^2*sin(h_0*k_1 + h_1*k_1)/((c^2*k_1*kappa*bessel_J(m + 1, kappa*r)*cos(h_0*k_1 + h_1*k_1) - c^2*k_1*kappa*bessel_J(m - 1, kappa*r)*cos(h_0*k_1 + h_1*k_1))*(c^2*epsilon_1*kappa^2 - 4*pi^2*mu_1*sigma_1^2)) - c^4*epsilon_0*epsilon_1*k_1^2*kappa^2*bessel_J(m + 1, kappa*r)*bessel_J(m - 1, kappa*r)*bessel_J(m, kappa*r)*cos(h_0*k_0)*cos(h_0*k_1)*cos(m*p)^2*sin(h_0*k_1 + h_1*k_1)/((c^2*k_1*kappa*bessel_J(m + 1, kappa*r)*cos(h_0*k_1 + h_1*k_1) - c^2*k_1*kappa*bessel_J(m - 1, kappa*r)*cos(h_0*k_1 + h_1*k_1))*(c^2*epsilon_1*kappa^2 - 4*pi^2*mu_1*sigma_1^2)) + 1/2*c^4*epsilon_0*epsilon_1*k_1^2*kappa^2*bessel_J(m - 1, kappa*r)^2*bessel_J(m, kappa*r)*cos(h_0*k_0)*cos(h_0*k_1)*cos(m*p)^2*sin(h_0*k_1 + h_1*k_1)/((c^2*k_1*kappa*bessel_J(m + 1, kappa*r)*cos(h_0*k_1 + h_1*k_1) - c^2*k_1*kappa*bessel_J(m - 1, kappa*r)*cos(h_0*k_1 + h_1*k_1))*(c^2*epsilon_1*kappa^2 - 4*pi^2*mu_1*sigma_1^2)) + 1/2*c^4*epsilon_0*epsilon_1*k_0*k_1*kappa^2*bessel_J(m + 1, kappa*r)^2*bessel_J(m, kappa*r)*cos(m*p)^2*sin(h_0*k_0)*sin(h_0*k_1 + h_1*k_1)*sin(h_0*k_1)/((c^2*k_1*kappa*bessel_J(m + 1, kappa*r)*cos(h_0*k_1 + h_1*k_1) - c^2*k_1*kappa*bessel_J(m - 1, kappa*r)*cos(h_0*k_1 + h_1*k_1))*(c^2*epsilon_0*kappa^2 - 4*pi^2*mu_0*sigma_0^2)) - c^4*epsilon_0*epsilon_1*k_0*k_1*kappa^2*bessel_J(m + 1, kappa*r)*bessel_J(m - 1, kappa*r)*bessel_J(m, kappa*r)*cos(m*p)^2*sin(h_0*k_0)*sin(h_0*k_1 + h_1*k_1)*sin(h_0*k_1)/((c^2*k_1*kappa*bessel_J(m + 1, kappa*r)*cos(h_0*k_1 + h_1*k_1) - c^2*k_1*kappa*bessel_J(m - 1, kappa*r)*cos(h_0*k_1 + h_1*k_1))*(c^2*epsilon_0*kappa^2 - 4*pi^2*mu_0*sigma_0^2)) + 1/2*c^4*epsilon_0*epsilon_1*k_0*k_1*kappa^2*bessel_J(m - 1, kappa*r)^2*bessel_J(m, kappa*r)*cos(m*p)^2*sin(h_0*k_0)*sin(h_0*k_1 + h_1*k_1)*sin(h_0*k_1)/((c^2*k_1*kappa*bessel_J(m + 1, kappa*r)*cos(h_0*k_1 + h_1*k_1) - c^2*k_1*kappa*bessel_J(m - 1, kappa*r)*cos(h_0*k_1 + h_1*k_1))*(c^2*epsilon_0*kappa^2 - 4*pi^2*mu_0*sigma_0^2)) + 1/2*c^2*epsilon_0*epsilon_1*k_0*kappa*bessel_J(m + 1, kappa*r)*bessel_J(m, kappa*r)*cos(h_0*k_1)*cos(m*p)^2*sin(h_0*k_0)/(c^2*epsilon_0*kappa^2 - 4*pi^2*mu_0*sigma_0^2) - 1/2*c^2*epsilon_0*epsilon_1*k_0*kappa*bessel_J(m - 1, kappa*r)*bessel_J(m, kappa*r)*cos(h_0*k_1)*cos(m*p)^2*sin(h_0*k_0)/(c^2*epsilon_0*kappa^2 - 4*pi^2*mu_0*sigma_0^2) - 1/2*c^2*epsilon_0*epsilon_1*k_1*kappa*bessel_J(m + 1, kappa*r)*bessel_J(m, kappa*r)*cos(h_0*k_0)*cos(m*p)^2*sin(h_0*k_1)/(c^2*epsilon_1*kappa^2 - 4*pi^2*mu_1*sigma_1^2) + 1/2*c^2*epsilon_0*epsilon_1*k_1*kappa*bessel_J(m - 1, kappa*r)*bessel_J(m, kappa*r)*cos(h_0*k_0)*cos(m*p)^2*sin(h_0*k_1)/(c^2*epsilon_1*kappa^2 - 4*pi^2*mu_1*sigma_1^2)"
      ]
     },
     "execution_count": 132,
     "metadata": {},
     "output_type": "execute_result"
    }
   ],
   "source": [
    "M_det"
   ]
  },
  {
   "cell_type": "code",
   "execution_count": 133,
   "metadata": {},
   "outputs": [],
   "source": [
    "# display(Math(latex(M_det)))"
   ]
  },
  {
   "cell_type": "code",
   "execution_count": 134,
   "metadata": {},
   "outputs": [],
   "source": [
    "M_det_num = M_det.numerator()"
   ]
  },
  {
   "cell_type": "code",
   "execution_count": 135,
   "metadata": {},
   "outputs": [
    {
     "data": {
      "text/plain": [
       "2*((bessel_J(m + 1, kappa*r)*bessel_J(m, kappa*r)*cos(h_0*k_1 + h_1*k_1)*cos(h_0*k_1)*cos(m*p)^2*sin(h_0*k_0) + bessel_J(m + 1, kappa*r)*bessel_J(m, kappa*r)*cos(m*p)^2*sin(h_0*k_0)*sin(h_0*k_1 + h_1*k_1)*sin(h_0*k_1) - (bessel_J(m, kappa*r)*cos(h_0*k_1 + h_1*k_1)*cos(h_0*k_1)*cos(m*p)^2*sin(h_0*k_0) + bessel_J(m, kappa*r)*cos(m*p)^2*sin(h_0*k_0)*sin(h_0*k_1 + h_1*k_1)*sin(h_0*k_1))*bessel_J(m - 1, kappa*r))*epsilon_0*epsilon_1^2*k_0*kappa^3 + (bessel_J(m + 1, kappa*r)*bessel_J(m, kappa*r)*cos(h_0*k_0)*cos(h_0*k_1)*cos(m*p)^2*sin(h_0*k_1 + h_1*k_1) - bessel_J(m - 1, kappa*r)*bessel_J(m, kappa*r)*cos(h_0*k_0)*cos(h_0*k_1)*cos(m*p)^2*sin(h_0*k_1 + h_1*k_1) - (bessel_J(m + 1, kappa*r)*bessel_J(m, kappa*r)*cos(h_0*k_0)*cos(m*p)^2*sin(h_0*k_1) - bessel_J(m - 1, kappa*r)*bessel_J(m, kappa*r)*cos(h_0*k_0)*cos(m*p)^2*sin(h_0*k_1))*cos(h_0*k_1 + h_1*k_1))*epsilon_0^2*epsilon_1*k_1*kappa^3)*c^4 - 8*((pi^2*bessel_J(m + 1, kappa*r)*bessel_J(m, kappa*r)*cos(h_0*k_0)*cos(h_0*k_1)*cos(m*p)^2*sin(h_0*k_1 + h_1*k_1) - pi^2*bessel_J(m - 1, kappa*r)*bessel_J(m, kappa*r)*cos(h_0*k_0)*cos(h_0*k_1)*cos(m*p)^2*sin(h_0*k_1 + h_1*k_1) - (pi^2*bessel_J(m + 1, kappa*r)*bessel_J(m, kappa*r)*cos(h_0*k_0)*cos(m*p)^2*sin(h_0*k_1) - pi^2*bessel_J(m - 1, kappa*r)*bessel_J(m, kappa*r)*cos(h_0*k_0)*cos(m*p)^2*sin(h_0*k_1))*cos(h_0*k_1 + h_1*k_1))*k_1*kappa*mu_0*sigma_0^2 + (pi^2*bessel_J(m + 1, kappa*r)*bessel_J(m, kappa*r)*cos(h_0*k_1 + h_1*k_1)*cos(h_0*k_1)*cos(m*p)^2*sin(h_0*k_0) + pi^2*bessel_J(m + 1, kappa*r)*bessel_J(m, kappa*r)*cos(m*p)^2*sin(h_0*k_0)*sin(h_0*k_1 + h_1*k_1)*sin(h_0*k_1) - (pi^2*bessel_J(m, kappa*r)*cos(h_0*k_1 + h_1*k_1)*cos(h_0*k_1)*cos(m*p)^2*sin(h_0*k_0) + pi^2*bessel_J(m, kappa*r)*cos(m*p)^2*sin(h_0*k_0)*sin(h_0*k_1 + h_1*k_1)*sin(h_0*k_1))*bessel_J(m - 1, kappa*r))*k_0*kappa*mu_1*sigma_1^2)*c^2*epsilon_0*epsilon_1"
      ]
     },
     "execution_count": 135,
     "metadata": {},
     "output_type": "execute_result"
    }
   ],
   "source": [
    "M_det_num"
   ]
  },
  {
   "cell_type": "code",
   "execution_count": 136,
   "metadata": {},
   "outputs": [
    {
     "data": {
      "text/plain": [
       "(c,\n",
       " epsilon_0,\n",
       " epsilon_1,\n",
       " h_0,\n",
       " h_1,\n",
       " k_0,\n",
       " k_1,\n",
       " kappa,\n",
       " m,\n",
       " mu_0,\n",
       " mu_1,\n",
       " p,\n",
       " r,\n",
       " sigma_0,\n",
       " sigma_1)"
      ]
     },
     "execution_count": 136,
     "metadata": {},
     "output_type": "execute_result"
    }
   ],
   "source": [
    "M_det_num.variables()"
   ]
  },
  {
   "cell_type": "code",
   "execution_count": 137,
   "metadata": {},
   "outputs": [
    {
     "data": {
      "text/plain": [
       "-c^4*epsilon_0*epsilon_1^2*k_0*kappa^3*bessel_J(m + 1, kappa*r)*bessel_J(m, kappa*r)*cos(h_1*k_1)*cos(m*p)^2*sin(h_0*k_0) + 4*pi^2*c^2*epsilon_0*epsilon_1*k_0*kappa*mu_1*sigma_1^2*bessel_J(m + 1, kappa*r)*bessel_J(m, kappa*r)*cos(h_1*k_1)*cos(m*p)^2*sin(h_0*k_0) + c^4*epsilon_0*epsilon_1^2*k_0*kappa^3*bessel_J(m - 1, kappa*r)*bessel_J(m, kappa*r)*cos(h_1*k_1)*cos(m*p)^2*sin(h_0*k_0) - 4*pi^2*c^2*epsilon_0*epsilon_1*k_0*kappa*mu_1*sigma_1^2*bessel_J(m - 1, kappa*r)*bessel_J(m, kappa*r)*cos(h_1*k_1)*cos(m*p)^2*sin(h_0*k_0) - c^4*epsilon_0^2*epsilon_1*k_1*kappa^3*bessel_J(m + 1, kappa*r)*bessel_J(m, kappa*r)*cos(h_0*k_0)*cos(m*p)^2*sin(h_1*k_1) + 4*pi^2*c^2*epsilon_0*epsilon_1*k_1*kappa*mu_0*sigma_0^2*bessel_J(m + 1, kappa*r)*bessel_J(m, kappa*r)*cos(h_0*k_0)*cos(m*p)^2*sin(h_1*k_1) + c^4*epsilon_0^2*epsilon_1*k_1*kappa^3*bessel_J(m - 1, kappa*r)*bessel_J(m, kappa*r)*cos(h_0*k_0)*cos(m*p)^2*sin(h_1*k_1) - 4*pi^2*c^2*epsilon_0*epsilon_1*k_1*kappa*mu_0*sigma_0^2*bessel_J(m - 1, kappa*r)*bessel_J(m, kappa*r)*cos(h_0*k_0)*cos(m*p)^2*sin(h_1*k_1)"
      ]
     },
     "execution_count": 137,
     "metadata": {},
     "output_type": "execute_result"
    }
   ],
   "source": [
    "M_det.full_simplify().numerator()"
   ]
  },
  {
   "cell_type": "code",
   "execution_count": 138,
   "metadata": {},
   "outputs": [
    {
     "data": {
      "text/plain": [
       "-2*c^4*epsilon_0*epsilon_1*kappa^4*cos(h_0*k_1)*cos(h_1*k_1) + 8*pi^2*c^2*epsilon_1*kappa^2*mu_0*sigma_0^2*cos(h_0*k_1)*cos(h_1*k_1) + 8*pi^2*c^2*epsilon_0*kappa^2*mu_1*sigma_1^2*cos(h_0*k_1)*cos(h_1*k_1) - 32*pi^4*mu_0*mu_1*sigma_0^2*sigma_1^2*cos(h_0*k_1)*cos(h_1*k_1) + 2*c^4*epsilon_0*epsilon_1*kappa^4*sin(h_0*k_1)*sin(h_1*k_1) - 8*pi^2*c^2*epsilon_1*kappa^2*mu_0*sigma_0^2*sin(h_0*k_1)*sin(h_1*k_1) - 8*pi^2*c^2*epsilon_0*kappa^2*mu_1*sigma_1^2*sin(h_0*k_1)*sin(h_1*k_1) + 32*pi^4*mu_0*mu_1*sigma_0^2*sigma_1^2*sin(h_0*k_1)*sin(h_1*k_1)"
      ]
     },
     "execution_count": 138,
     "metadata": {},
     "output_type": "execute_result"
    }
   ],
   "source": [
    "M_det.full_simplify().denominator()"
   ]
  },
  {
   "cell_type": "code",
   "execution_count": 139,
   "metadata": {},
   "outputs": [],
   "source": [
    "M_det_num_expand = M_det_num.expand()"
   ]
  },
  {
   "cell_type": "code",
   "execution_count": 140,
   "metadata": {},
   "outputs": [
    {
     "data": {
      "text/plain": [
       "<function add_vararg at 0x7fbd31d76670>"
      ]
     },
     "execution_count": 140,
     "metadata": {},
     "output_type": "execute_result"
    }
   ],
   "source": [
    "M_det_num_expand.operator()"
   ]
  },
  {
   "cell_type": "code",
   "execution_count": 141,
   "metadata": {},
   "outputs": [
    {
     "name": "stdout",
     "output_type": "stream",
     "text": [
      "2*c^4*epsilon_0*epsilon_1^2*k_0*kappa^3*bessel_J(m + 1, kappa*r)*bessel_J(m, kappa*r)*cos(h_0*k_1 + h_1*k_1)*cos(h_0*k_1)*cos(m*p)^2*sin(h_0*k_0)\n",
      "\n",
      "-8*pi^2*c^2*epsilon_0*epsilon_1*k_0*kappa*mu_1*sigma_1^2*bessel_J(m + 1, kappa*r)*bessel_J(m, kappa*r)*cos(h_0*k_1 + h_1*k_1)*cos(h_0*k_1)*cos(m*p)^2*sin(h_0*k_0)\n",
      "\n",
      "-2*c^4*epsilon_0*epsilon_1^2*k_0*kappa^3*bessel_J(m - 1, kappa*r)*bessel_J(m, kappa*r)*cos(h_0*k_1 + h_1*k_1)*cos(h_0*k_1)*cos(m*p)^2*sin(h_0*k_0)\n",
      "\n",
      "8*pi^2*c^2*epsilon_0*epsilon_1*k_0*kappa*mu_1*sigma_1^2*bessel_J(m - 1, kappa*r)*bessel_J(m, kappa*r)*cos(h_0*k_1 + h_1*k_1)*cos(h_0*k_1)*cos(m*p)^2*sin(h_0*k_0)\n",
      "\n",
      "2*c^4*epsilon_0^2*epsilon_1*k_1*kappa^3*bessel_J(m + 1, kappa*r)*bessel_J(m, kappa*r)*cos(h_0*k_0)*cos(h_0*k_1)*cos(m*p)^2*sin(h_0*k_1 + h_1*k_1)\n",
      "\n",
      "-8*pi^2*c^2*epsilon_0*epsilon_1*k_1*kappa*mu_0*sigma_0^2*bessel_J(m + 1, kappa*r)*bessel_J(m, kappa*r)*cos(h_0*k_0)*cos(h_0*k_1)*cos(m*p)^2*sin(h_0*k_1 + h_1*k_1)\n",
      "\n",
      "-2*c^4*epsilon_0^2*epsilon_1*k_1*kappa^3*bessel_J(m - 1, kappa*r)*bessel_J(m, kappa*r)*cos(h_0*k_0)*cos(h_0*k_1)*cos(m*p)^2*sin(h_0*k_1 + h_1*k_1)\n",
      "\n",
      "8*pi^2*c^2*epsilon_0*epsilon_1*k_1*kappa*mu_0*sigma_0^2*bessel_J(m - 1, kappa*r)*bessel_J(m, kappa*r)*cos(h_0*k_0)*cos(h_0*k_1)*cos(m*p)^2*sin(h_0*k_1 + h_1*k_1)\n",
      "\n",
      "-2*c^4*epsilon_0^2*epsilon_1*k_1*kappa^3*bessel_J(m + 1, kappa*r)*bessel_J(m, kappa*r)*cos(h_0*k_0)*cos(h_0*k_1 + h_1*k_1)*cos(m*p)^2*sin(h_0*k_1)\n",
      "\n",
      "8*pi^2*c^2*epsilon_0*epsilon_1*k_1*kappa*mu_0*sigma_0^2*bessel_J(m + 1, kappa*r)*bessel_J(m, kappa*r)*cos(h_0*k_0)*cos(h_0*k_1 + h_1*k_1)*cos(m*p)^2*sin(h_0*k_1)\n",
      "\n",
      "2*c^4*epsilon_0^2*epsilon_1*k_1*kappa^3*bessel_J(m - 1, kappa*r)*bessel_J(m, kappa*r)*cos(h_0*k_0)*cos(h_0*k_1 + h_1*k_1)*cos(m*p)^2*sin(h_0*k_1)\n",
      "\n",
      "-8*pi^2*c^2*epsilon_0*epsilon_1*k_1*kappa*mu_0*sigma_0^2*bessel_J(m - 1, kappa*r)*bessel_J(m, kappa*r)*cos(h_0*k_0)*cos(h_0*k_1 + h_1*k_1)*cos(m*p)^2*sin(h_0*k_1)\n",
      "\n",
      "2*c^4*epsilon_0*epsilon_1^2*k_0*kappa^3*bessel_J(m + 1, kappa*r)*bessel_J(m, kappa*r)*cos(m*p)^2*sin(h_0*k_0)*sin(h_0*k_1 + h_1*k_1)*sin(h_0*k_1)\n",
      "\n",
      "-8*pi^2*c^2*epsilon_0*epsilon_1*k_0*kappa*mu_1*sigma_1^2*bessel_J(m + 1, kappa*r)*bessel_J(m, kappa*r)*cos(m*p)^2*sin(h_0*k_0)*sin(h_0*k_1 + h_1*k_1)*sin(h_0*k_1)\n",
      "\n",
      "-2*c^4*epsilon_0*epsilon_1^2*k_0*kappa^3*bessel_J(m - 1, kappa*r)*bessel_J(m, kappa*r)*cos(m*p)^2*sin(h_0*k_0)*sin(h_0*k_1 + h_1*k_1)*sin(h_0*k_1)\n",
      "\n",
      "8*pi^2*c^2*epsilon_0*epsilon_1*k_0*kappa*mu_1*sigma_1^2*bessel_J(m - 1, kappa*r)*bessel_J(m, kappa*r)*cos(m*p)^2*sin(h_0*k_0)*sin(h_0*k_1 + h_1*k_1)*sin(h_0*k_1)\n",
      "\n"
     ]
    }
   ],
   "source": [
    "for operand in M_det_num_expand.operands():\n",
    "    print (operand)\n",
    "    print (\"\")"
   ]
  },
  {
   "cell_type": "code",
   "execution_count": 142,
   "metadata": {},
   "outputs": [
    {
     "data": {
      "text/plain": [
       "2*((bessel_J(m + 1, kappa*r)*bessel_J(m, kappa*r)*cos(h_0*k_1 + h_1*k_1)*cos(h_0*k_1)*cos(m*p)^2*sin(h_0*k_0) + bessel_J(m + 1, kappa*r)*bessel_J(m, kappa*r)*cos(m*p)^2*sin(h_0*k_0)*sin(h_0*k_1 + h_1*k_1)*sin(h_0*k_1) - (bessel_J(m, kappa*r)*cos(h_0*k_1 + h_1*k_1)*cos(h_0*k_1)*cos(m*p)^2*sin(h_0*k_0) + bessel_J(m, kappa*r)*cos(m*p)^2*sin(h_0*k_0)*sin(h_0*k_1 + h_1*k_1)*sin(h_0*k_1))*bessel_J(m - 1, kappa*r))*epsilon_0*epsilon_1^2*k_0*kappa^3 + (bessel_J(m + 1, kappa*r)*bessel_J(m, kappa*r)*cos(h_0*k_0)*cos(h_0*k_1)*cos(m*p)^2*sin(h_0*k_1 + h_1*k_1) - bessel_J(m - 1, kappa*r)*bessel_J(m, kappa*r)*cos(h_0*k_0)*cos(h_0*k_1)*cos(m*p)^2*sin(h_0*k_1 + h_1*k_1) - (bessel_J(m + 1, kappa*r)*bessel_J(m, kappa*r)*cos(h_0*k_0)*cos(m*p)^2*sin(h_0*k_1) - bessel_J(m - 1, kappa*r)*bessel_J(m, kappa*r)*cos(h_0*k_0)*cos(m*p)^2*sin(h_0*k_1))*cos(h_0*k_1 + h_1*k_1))*epsilon_0^2*epsilon_1*k_1*kappa^3)*c^4 - 8*((pi^2*bessel_J(m + 1, kappa*r)*bessel_J(m, kappa*r)*cos(h_0*k_0)*cos(h_0*k_1)*cos(m*p)^2*sin(h_0*k_1 + h_1*k_1) - pi^2*bessel_J(m - 1, kappa*r)*bessel_J(m, kappa*r)*cos(h_0*k_0)*cos(h_0*k_1)*cos(m*p)^2*sin(h_0*k_1 + h_1*k_1) - (pi^2*bessel_J(m + 1, kappa*r)*bessel_J(m, kappa*r)*cos(h_0*k_0)*cos(m*p)^2*sin(h_0*k_1) - pi^2*bessel_J(m - 1, kappa*r)*bessel_J(m, kappa*r)*cos(h_0*k_0)*cos(m*p)^2*sin(h_0*k_1))*cos(h_0*k_1 + h_1*k_1))*k_1*kappa*mu_0*sigma_0^2 + (pi^2*bessel_J(m + 1, kappa*r)*bessel_J(m, kappa*r)*cos(h_0*k_1 + h_1*k_1)*cos(h_0*k_1)*cos(m*p)^2*sin(h_0*k_0) + pi^2*bessel_J(m + 1, kappa*r)*bessel_J(m, kappa*r)*cos(m*p)^2*sin(h_0*k_0)*sin(h_0*k_1 + h_1*k_1)*sin(h_0*k_1) - (pi^2*bessel_J(m, kappa*r)*cos(h_0*k_1 + h_1*k_1)*cos(h_0*k_1)*cos(m*p)^2*sin(h_0*k_0) + pi^2*bessel_J(m, kappa*r)*cos(m*p)^2*sin(h_0*k_0)*sin(h_0*k_1 + h_1*k_1)*sin(h_0*k_1))*bessel_J(m - 1, kappa*r))*k_0*kappa*mu_1*sigma_1^2)*c^2*epsilon_0*epsilon_1"
      ]
     },
     "execution_count": 142,
     "metadata": {},
     "output_type": "execute_result"
    }
   ],
   "source": [
    "M_det_num"
   ]
  },
  {
   "cell_type": "code",
   "execution_count": 143,
   "metadata": {},
   "outputs": [
    {
     "data": {
      "text/plain": [
       "2*(c^2*epsilon_1*k_0*kappa^2*cos((h_0 + h_1)*k_1)*cos(h_0*k_1)*sin(h_0*k_0) - 4*pi^2*k_0*mu_1*sigma_1^2*cos((h_0 + h_1)*k_1)*cos(h_0*k_1)*sin(h_0*k_0) + c^2*epsilon_0*k_1*kappa^2*cos(h_0*k_0)*cos(h_0*k_1)*sin((h_0 + h_1)*k_1) - 4*pi^2*k_1*mu_0*sigma_0^2*cos(h_0*k_0)*cos(h_0*k_1)*sin((h_0 + h_1)*k_1) - c^2*epsilon_0*k_1*kappa^2*cos(h_0*k_0)*cos((h_0 + h_1)*k_1)*sin(h_0*k_1) + 4*pi^2*k_1*mu_0*sigma_0^2*cos(h_0*k_0)*cos((h_0 + h_1)*k_1)*sin(h_0*k_1) + c^2*epsilon_1*k_0*kappa^2*sin(h_0*k_0)*sin((h_0 + h_1)*k_1)*sin(h_0*k_1) - 4*pi^2*k_0*mu_1*sigma_1^2*sin(h_0*k_0)*sin((h_0 + h_1)*k_1)*sin(h_0*k_1))*c^2*epsilon_0*epsilon_1*kappa*(bessel_J(m + 1, kappa*r) - bessel_J(m - 1, kappa*r))*bessel_J(m, kappa*r)*cos(m*p)^2"
      ]
     },
     "execution_count": 143,
     "metadata": {},
     "output_type": "execute_result"
    }
   ],
   "source": [
    "M_det_num_factor = M_det_num.factor()\n",
    "M_det_num_factor"
   ]
  },
  {
   "cell_type": "code",
   "execution_count": 144,
   "metadata": {},
   "outputs": [
    {
     "data": {
      "text/plain": [
       "<function mul_vararg at 0x7fbd31d76790>"
      ]
     },
     "execution_count": 144,
     "metadata": {},
     "output_type": "execute_result"
    }
   ],
   "source": [
    "M_det_num_factor.operator()"
   ]
  },
  {
   "cell_type": "code",
   "execution_count": 145,
   "metadata": {},
   "outputs": [
    {
     "data": {
      "text/plain": [
       "[c^2*epsilon_1*k_0*kappa^2*cos((h_0 + h_1)*k_1)*cos(h_0*k_1)*sin(h_0*k_0) - 4*pi^2*k_0*mu_1*sigma_1^2*cos((h_0 + h_1)*k_1)*cos(h_0*k_1)*sin(h_0*k_0) + c^2*epsilon_0*k_1*kappa^2*cos(h_0*k_0)*cos(h_0*k_1)*sin((h_0 + h_1)*k_1) - 4*pi^2*k_1*mu_0*sigma_0^2*cos(h_0*k_0)*cos(h_0*k_1)*sin((h_0 + h_1)*k_1) - c^2*epsilon_0*k_1*kappa^2*cos(h_0*k_0)*cos((h_0 + h_1)*k_1)*sin(h_0*k_1) + 4*pi^2*k_1*mu_0*sigma_0^2*cos(h_0*k_0)*cos((h_0 + h_1)*k_1)*sin(h_0*k_1) + c^2*epsilon_1*k_0*kappa^2*sin(h_0*k_0)*sin((h_0 + h_1)*k_1)*sin(h_0*k_1) - 4*pi^2*k_0*mu_1*sigma_1^2*sin(h_0*k_0)*sin((h_0 + h_1)*k_1)*sin(h_0*k_1),\n",
       " c^2,\n",
       " epsilon_0,\n",
       " epsilon_1,\n",
       " kappa,\n",
       " bessel_J(m + 1, kappa*r) - bessel_J(m - 1, kappa*r),\n",
       " bessel_J(m, kappa*r),\n",
       " cos(m*p)^2,\n",
       " 2]"
      ]
     },
     "execution_count": 145,
     "metadata": {},
     "output_type": "execute_result"
    }
   ],
   "source": [
    "M_det_num_factor.operands()"
   ]
  },
  {
   "cell_type": "code",
   "execution_count": 146,
   "metadata": {},
   "outputs": [
    {
     "name": "stdout",
     "output_type": "stream",
     "text": [
      "c^2*epsilon_1*k_0*kappa^2*cos((h_0 + h_1)*k_1)*cos(h_0*k_1)*sin(h_0*k_0) - 4*pi^2*k_0*mu_1*sigma_1^2*cos((h_0 + h_1)*k_1)*cos(h_0*k_1)*sin(h_0*k_0) + c^2*epsilon_0*k_1*kappa^2*cos(h_0*k_0)*cos(h_0*k_1)*sin((h_0 + h_1)*k_1) - 4*pi^2*k_1*mu_0*sigma_0^2*cos(h_0*k_0)*cos(h_0*k_1)*sin((h_0 + h_1)*k_1) - c^2*epsilon_0*k_1*kappa^2*cos(h_0*k_0)*cos((h_0 + h_1)*k_1)*sin(h_0*k_1) + 4*pi^2*k_1*mu_0*sigma_0^2*cos(h_0*k_0)*cos((h_0 + h_1)*k_1)*sin(h_0*k_1) + c^2*epsilon_1*k_0*kappa^2*sin(h_0*k_0)*sin((h_0 + h_1)*k_1)*sin(h_0*k_1) - 4*pi^2*k_0*mu_1*sigma_1^2*sin(h_0*k_0)*sin((h_0 + h_1)*k_1)*sin(h_0*k_1)\n",
      "(c, epsilon_0, epsilon_1, h_0, h_1, k_0, k_1, kappa, mu_0, mu_1, sigma_0, sigma_1)\n",
      "\n",
      "c^2\n",
      "(c,)\n",
      "\n",
      "epsilon_0\n",
      "(epsilon_0,)\n",
      "\n",
      "epsilon_1\n",
      "(epsilon_1,)\n",
      "\n",
      "kappa\n",
      "(kappa,)\n",
      "\n",
      "bessel_J(m + 1, kappa*r) - bessel_J(m - 1, kappa*r)\n",
      "(kappa, m, r)\n",
      "\n",
      "bessel_J(m, kappa*r)\n",
      "(kappa, m, r)\n",
      "\n",
      "cos(m*p)^2\n",
      "(m, p)\n",
      "\n",
      "2\n",
      "()\n",
      "\n"
     ]
    },
    {
     "data": {
      "text/plain": [
       "(c^2*epsilon_1*k_0*kappa^2*cos((h_0 + h_1)*k_1)*cos(h_0*k_1)*sin(h_0*k_0) - 4*pi^2*k_0*mu_1*sigma_1^2*cos((h_0 + h_1)*k_1)*cos(h_0*k_1)*sin(h_0*k_0) + c^2*epsilon_0*k_1*kappa^2*cos(h_0*k_0)*cos(h_0*k_1)*sin((h_0 + h_1)*k_1) - 4*pi^2*k_1*mu_0*sigma_0^2*cos(h_0*k_0)*cos(h_0*k_1)*sin((h_0 + h_1)*k_1) - c^2*epsilon_0*k_1*kappa^2*cos(h_0*k_0)*cos((h_0 + h_1)*k_1)*sin(h_0*k_1) + 4*pi^2*k_1*mu_0*sigma_0^2*cos(h_0*k_0)*cos((h_0 + h_1)*k_1)*sin(h_0*k_1) + c^2*epsilon_1*k_0*kappa^2*sin(h_0*k_0)*sin((h_0 + h_1)*k_1)*sin(h_0*k_1) - 4*pi^2*k_0*mu_1*sigma_1^2*sin(h_0*k_0)*sin((h_0 + h_1)*k_1)*sin(h_0*k_1),\n",
       " c^2,\n",
       " epsilon_0,\n",
       " epsilon_1,\n",
       " kappa,\n",
       " 2)"
      ]
     },
     "execution_count": 146,
     "metadata": {},
     "output_type": "execute_result"
    }
   ],
   "source": [
    "M_det_num_factor_operands = ()\n",
    "for operand in M_det_num_factor.operands():\n",
    "    print (operand)\n",
    "    print (operand.variables())\n",
    "    if r not in operand.variables() and p not in operand.variables() and z not in operand.variables():\n",
    "        exec(\"M_det_num_factor_operands += (\" + Preparse(str(operand)) + \",)\")\n",
    "    print (\"\")\n",
    "    \n",
    "M_det_num_factor_operands"
   ]
  },
  {
   "cell_type": "code",
   "execution_count": 147,
   "metadata": {},
   "outputs": [
    {
     "data": {
      "text/plain": [
       "(c^2*epsilon_1*k_0*kappa^2*cos((h_0 + h_1)*k_1)*cos(h_0*k_1)*sin(h_0*k_0) - 4*pi^2*k_0*mu_1*sigma_1^2*cos((h_0 + h_1)*k_1)*cos(h_0*k_1)*sin(h_0*k_0) + c^2*epsilon_0*k_1*kappa^2*cos(h_0*k_0)*cos(h_0*k_1)*sin((h_0 + h_1)*k_1) - 4*pi^2*k_1*mu_0*sigma_0^2*cos(h_0*k_0)*cos(h_0*k_1)*sin((h_0 + h_1)*k_1) - c^2*epsilon_0*k_1*kappa^2*cos(h_0*k_0)*cos((h_0 + h_1)*k_1)*sin(h_0*k_1) + 4*pi^2*k_1*mu_0*sigma_0^2*cos(h_0*k_0)*cos((h_0 + h_1)*k_1)*sin(h_0*k_1) + c^2*epsilon_1*k_0*kappa^2*sin(h_0*k_0)*sin((h_0 + h_1)*k_1)*sin(h_0*k_1) - 4*pi^2*k_0*mu_1*sigma_1^2*sin(h_0*k_0)*sin((h_0 + h_1)*k_1)*sin(h_0*k_1),\n",
       " c^2,\n",
       " epsilon_0,\n",
       " epsilon_1,\n",
       " kappa,\n",
       " 2)"
      ]
     },
     "execution_count": 147,
     "metadata": {},
     "output_type": "execute_result"
    }
   ],
   "source": [
    "M_det_num_factor_operands"
   ]
  },
  {
   "cell_type": "code",
   "execution_count": 148,
   "metadata": {},
   "outputs": [],
   "source": [
    "from sage.symbolic.operators import add_vararg, mul_vararg\n",
    "M_det_num = mul_vararg(*M_det_num_factor_operands)"
   ]
  },
  {
   "cell_type": "code",
   "execution_count": 149,
   "metadata": {},
   "outputs": [
    {
     "data": {
      "text/latex": [
       "$\\displaystyle 2 \\, {\\left(c^{2} \\epsilon_{1} k_{0} \\kappa^{2} \\cos\\left({\\left(h_{0} + h_{1}\\right)} k_{1}\\right) \\cos\\left(h_{0} k_{1}\\right) \\sin\\left(h_{0} k_{0}\\right) - 4 \\, \\pi^{2} k_{0} \\mu_{1} \\sigma_{1}^{2} \\cos\\left({\\left(h_{0} + h_{1}\\right)} k_{1}\\right) \\cos\\left(h_{0} k_{1}\\right) \\sin\\left(h_{0} k_{0}\\right) + c^{2} \\epsilon_{0} k_{1} \\kappa^{2} \\cos\\left(h_{0} k_{0}\\right) \\cos\\left(h_{0} k_{1}\\right) \\sin\\left({\\left(h_{0} + h_{1}\\right)} k_{1}\\right) - 4 \\, \\pi^{2} k_{1} \\mu_{0} \\sigma_{0}^{2} \\cos\\left(h_{0} k_{0}\\right) \\cos\\left(h_{0} k_{1}\\right) \\sin\\left({\\left(h_{0} + h_{1}\\right)} k_{1}\\right) - c^{2} \\epsilon_{0} k_{1} \\kappa^{2} \\cos\\left(h_{0} k_{0}\\right) \\cos\\left({\\left(h_{0} + h_{1}\\right)} k_{1}\\right) \\sin\\left(h_{0} k_{1}\\right) + 4 \\, \\pi^{2} k_{1} \\mu_{0} \\sigma_{0}^{2} \\cos\\left(h_{0} k_{0}\\right) \\cos\\left({\\left(h_{0} + h_{1}\\right)} k_{1}\\right) \\sin\\left(h_{0} k_{1}\\right) + c^{2} \\epsilon_{1} k_{0} \\kappa^{2} \\sin\\left(h_{0} k_{0}\\right) \\sin\\left({\\left(h_{0} + h_{1}\\right)} k_{1}\\right) \\sin\\left(h_{0} k_{1}\\right) - 4 \\, \\pi^{2} k_{0} \\mu_{1} \\sigma_{1}^{2} \\sin\\left(h_{0} k_{0}\\right) \\sin\\left({\\left(h_{0} + h_{1}\\right)} k_{1}\\right) \\sin\\left(h_{0} k_{1}\\right)\\right)} c^{2} \\epsilon_{0} \\epsilon_{1} \\kappa$"
      ],
      "text/plain": [
       "<IPython.core.display.Math object>"
      ]
     },
     "metadata": {},
     "output_type": "display_data"
    }
   ],
   "source": [
    "display(Math(latex(M_det_num.factor())))"
   ]
  },
  {
   "cell_type": "code",
   "execution_count": 150,
   "metadata": {},
   "outputs": [
    {
     "data": {
      "text/plain": [
       "(c,\n",
       " epsilon_0,\n",
       " epsilon_1,\n",
       " h_0,\n",
       " h_1,\n",
       " k_0,\n",
       " k_1,\n",
       " kappa,\n",
       " mu_0,\n",
       " mu_1,\n",
       " sigma_0,\n",
       " sigma_1)"
      ]
     },
     "execution_count": 150,
     "metadata": {},
     "output_type": "execute_result"
    }
   ],
   "source": [
    "M_det_num.variables()"
   ]
  },
  {
   "cell_type": "code",
   "execution_count": 151,
   "metadata": {},
   "outputs": [],
   "source": [
    "for i in range(n_layers):\n",
    "    M_det_num = (M_det_num/(k [i]*sin(h[i]*k[i]))).full_simplify().expand()"
   ]
  },
  {
   "cell_type": "code",
   "execution_count": 152,
   "metadata": {},
   "outputs": [
    {
     "data": {
      "text/plain": [
       "2*c^4*epsilon_0^2*epsilon_1*kappa^3*cos(h_0*k_0)/(k_0*sin(h_0*k_0)) - 8*pi^2*c^2*epsilon_0*epsilon_1*kappa*mu_0*sigma_0^2*cos(h_0*k_0)/(k_0*sin(h_0*k_0)) + 2*c^4*epsilon_0*epsilon_1^2*kappa^3*cos(h_1*k_1)/(k_1*sin(h_1*k_1)) - 8*pi^2*c^2*epsilon_0*epsilon_1*kappa*mu_1*sigma_1^2*cos(h_1*k_1)/(k_1*sin(h_1*k_1))"
      ]
     },
     "execution_count": 152,
     "metadata": {},
     "output_type": "execute_result"
    }
   ],
   "source": [
    "M_det_num"
   ]
  },
  {
   "cell_type": "code",
   "execution_count": 153,
   "metadata": {},
   "outputs": [],
   "source": [
    "disp_eq = M_det_num == 0"
   ]
  },
  {
   "cell_type": "code",
   "execution_count": 154,
   "metadata": {},
   "outputs": [
    {
     "data": {
      "text/latex": [
       "$\\displaystyle \\frac{2 \\, c^{4} \\epsilon_{0}^{2} \\epsilon_{1} \\kappa^{3} \\cos\\left(h_{0} k_{0}\\right)}{k_{0} \\sin\\left(h_{0} k_{0}\\right)} - \\frac{8 \\, \\pi^{2} c^{2} \\epsilon_{0} \\epsilon_{1} \\kappa \\mu_{0} \\sigma_{0}^{2} \\cos\\left(h_{0} k_{0}\\right)}{k_{0} \\sin\\left(h_{0} k_{0}\\right)} + \\frac{2 \\, c^{4} \\epsilon_{0} \\epsilon_{1}^{2} \\kappa^{3} \\cos\\left(h_{1} k_{1}\\right)}{k_{1} \\sin\\left(h_{1} k_{1}\\right)} - \\frac{8 \\, \\pi^{2} c^{2} \\epsilon_{0} \\epsilon_{1} \\kappa \\mu_{1} \\sigma_{1}^{2} \\cos\\left(h_{1} k_{1}\\right)}{k_{1} \\sin\\left(h_{1} k_{1}\\right)} = 0$"
      ],
      "text/plain": [
       "<IPython.core.display.Math object>"
      ]
     },
     "metadata": {},
     "output_type": "display_data"
    }
   ],
   "source": [
    "display(Math(latex(disp_eq)))"
   ]
  },
  {
   "cell_type": "code",
   "execution_count": 155,
   "metadata": {},
   "outputs": [
    {
     "data": {
      "text/plain": [
       "[-1/2*((8*I*pi*mu_0*omega*sigma_0*sin(h_0*k_0)/((c^2*k_0*kappa*bessel_J(m + 1, kappa*r) - c^2*k_0*kappa*bessel_J(m - 1, kappa*r))*cos(m*p)) - I*D_z_0*cos(h_0*k_0))*c*epsilon_0*kappa*omega*r*(bessel_J(m + 1, kappa*r) - bessel_J(m - 1, kappa*r))*cos(m*p)*e^(I*h_0*k_0) - 8*I*pi*c*k_0*r*sigma_0)*e^(-I*h_0*k_0)/((c^2*k_0^2 - (c^2*epsilon_0*k_0^2 + c^2*epsilon_0*kappa^2 - 4*pi^2*mu_0*sigma_0^2)/epsilon_0)*r) == -1/2*((-I*D_z_1*cos(h_0*k_1) + (8*I*pi*mu_1*omega*sigma_1*(cos(h_0*k_1 + h_1*k_1) + sin(h_0*k_1 + h_1*k_1)) - I*(D_z_1*c^2*k_1*kappa*bessel_J(m + 1, kappa*r)*sin(h_0*k_1 + h_1*k_1) - D_z_1*c^2*k_1*kappa*bessel_J(m - 1, kappa*r)*sin(h_0*k_1 + h_1*k_1))*cos(m*p))*sin(h_0*k_1)/((c^2*k_1*kappa*bessel_J(m + 1, kappa*r)*cos(h_0*k_1 + h_1*k_1) - c^2*k_1*kappa*bessel_J(m - 1, kappa*r)*cos(h_0*k_1 + h_1*k_1))*cos(m*p)))*c*epsilon_1*kappa*omega*r*(bessel_J(m + 1, kappa*r) - bessel_J(m - 1, kappa*r))*cos(m*p)*e^(I*h_0*k_1) - 8*I*pi*c*k_1*r*sigma_1)*e^(-I*h_0*k_1)/((c^2*k_1^2 - (c^2*epsilon_1*k_1^2 + c^2*epsilon_1*kappa^2 - 4*pi^2*mu_1*sigma_1^2)/epsilon_1)*r)]"
      ]
     },
     "execution_count": 155,
     "metadata": {},
     "output_type": "execute_result"
    }
   ],
   "source": [
    "bch"
   ]
  },
  {
   "cell_type": "code",
   "execution_count": 156,
   "metadata": {},
   "outputs": [
    {
     "data": {
      "text/latex": [
       "$\\displaystyle \\left[-\\frac{{\\left({\\left(\\frac{8 i \\, \\pi \\mu_{0} \\omega \\sigma_{0} \\sin\\left(h_{0} k_{0}\\right)}{{\\left(c^{2} k_{0} \\kappa J_{m + 1}(\\kappa r) - c^{2} k_{0} \\kappa J_{m - 1}(\\kappa r)\\right)} \\cos\\left(m p\\right)} - i \\, D_{z_{0}} \\cos\\left(h_{0} k_{0}\\right)\\right)} c \\epsilon_{0} \\kappa \\omega r {\\left(J_{m + 1}(\\kappa r) - J_{m - 1}(\\kappa r)\\right)} \\cos\\left(m p\\right) e^{\\left(i \\, h_{0} k_{0}\\right)} - 8 i \\, \\pi c k_{0} r \\sigma_{0}\\right)} e^{\\left(-i \\, h_{0} k_{0}\\right)}}{2 \\, {\\left(c^{2} k_{0}^{2} - \\frac{c^{2} \\epsilon_{0} k_{0}^{2} + c^{2} \\epsilon_{0} \\kappa^{2} - 4 \\, \\pi^{2} \\mu_{0} \\sigma_{0}^{2}}{\\epsilon_{0}}\\right)} r} = -\\frac{{\\left({\\left(-i \\, D_{z_{1}} \\cos\\left(h_{0} k_{1}\\right) + \\frac{{\\left(8 i \\, \\pi \\mu_{1} \\omega \\sigma_{1} {\\left(\\cos\\left(h_{0} k_{1} + h_{1} k_{1}\\right) + \\sin\\left(h_{0} k_{1} + h_{1} k_{1}\\right)\\right)} - i \\, {\\left(D_{z_{1}} c^{2} k_{1} \\kappa J_{m + 1}(\\kappa r) \\sin\\left(h_{0} k_{1} + h_{1} k_{1}\\right) - D_{z_{1}} c^{2} k_{1} \\kappa J_{m - 1}(\\kappa r) \\sin\\left(h_{0} k_{1} + h_{1} k_{1}\\right)\\right)} \\cos\\left(m p\\right)\\right)} \\sin\\left(h_{0} k_{1}\\right)}{{\\left(c^{2} k_{1} \\kappa J_{m + 1}(\\kappa r) \\cos\\left(h_{0} k_{1} + h_{1} k_{1}\\right) - c^{2} k_{1} \\kappa J_{m - 1}(\\kappa r) \\cos\\left(h_{0} k_{1} + h_{1} k_{1}\\right)\\right)} \\cos\\left(m p\\right)}\\right)} c \\epsilon_{1} \\kappa \\omega r {\\left(J_{m + 1}(\\kappa r) - J_{m - 1}(\\kappa r)\\right)} \\cos\\left(m p\\right) e^{\\left(i \\, h_{0} k_{1}\\right)} - 8 i \\, \\pi c k_{1} r \\sigma_{1}\\right)} e^{\\left(-i \\, h_{0} k_{1}\\right)}}{2 \\, {\\left(c^{2} k_{1}^{2} - \\frac{c^{2} \\epsilon_{1} k_{1}^{2} + c^{2} \\epsilon_{1} \\kappa^{2} - 4 \\, \\pi^{2} \\mu_{1} \\sigma_{1}^{2}}{\\epsilon_{1}}\\right)} r}\\right]$"
      ],
      "text/plain": [
       "<IPython.core.display.Math object>"
      ]
     },
     "metadata": {},
     "output_type": "display_data"
    }
   ],
   "source": [
    "display(Math(latex(bch)))"
   ]
  },
  {
   "cell_type": "code",
   "execution_count": 157,
   "metadata": {},
   "outputs": [],
   "source": [
    "bchs = []\n",
    "for i in range(n_layers-1):\n",
    "    if E_mode:\n",
    "        bchs +=  [solve (bch[i].subs(solve (bc[0], C_z[1])), D_z[i+1])[0].full_simplify ().factor () ]\n",
    "    else:\n",
    "        bchs +=  [solve (bch[i].subs(solve (bc[0], B_z[1])), A_z[i+1])[0].full_simplify ().factor () ]\n",
    "bchs.reverse()"
   ]
  },
  {
   "cell_type": "code",
   "execution_count": 158,
   "metadata": {
    "scrolled": true
   },
   "outputs": [
    {
     "data": {
      "text/latex": [
       "$\\displaystyle \\left[D_{z_{1}} = \\frac{{\\left(D_{z_{0}} c^{4} \\epsilon_{0}^{2} \\epsilon_{1} k_{0} k_{1} \\kappa^{3} \\omega J_{m + 1}(\\kappa r) \\cos\\left(h_{0} k_{0}\\right) \\cos\\left(h_{0} k_{1}\\right) \\cos\\left(h_{1} k_{1}\\right) \\cos\\left(m p\\right) e^{\\left(i \\, h_{0} k_{0} + i \\, h_{0} k_{1}\\right)} - 4 \\, \\pi^{2} D_{z_{0}} c^{2} \\epsilon_{0}^{2} k_{0} k_{1} \\kappa \\mu_{1} \\omega \\sigma_{1}^{2} J_{m + 1}(\\kappa r) \\cos\\left(h_{0} k_{0}\\right) \\cos\\left(h_{0} k_{1}\\right) \\cos\\left(h_{1} k_{1}\\right) \\cos\\left(m p\\right) e^{\\left(i \\, h_{0} k_{0} + i \\, h_{0} k_{1}\\right)} - D_{z_{0}} c^{4} \\epsilon_{0}^{2} \\epsilon_{1} k_{0} k_{1} \\kappa^{3} \\omega J_{m - 1}(\\kappa r) \\cos\\left(h_{0} k_{0}\\right) \\cos\\left(h_{0} k_{1}\\right) \\cos\\left(h_{1} k_{1}\\right) \\cos\\left(m p\\right) e^{\\left(i \\, h_{0} k_{0} + i \\, h_{0} k_{1}\\right)} + 4 \\, \\pi^{2} D_{z_{0}} c^{2} \\epsilon_{0}^{2} k_{0} k_{1} \\kappa \\mu_{1} \\omega \\sigma_{1}^{2} J_{m - 1}(\\kappa r) \\cos\\left(h_{0} k_{0}\\right) \\cos\\left(h_{0} k_{1}\\right) \\cos\\left(h_{1} k_{1}\\right) \\cos\\left(m p\\right) e^{\\left(i \\, h_{0} k_{0} + i \\, h_{0} k_{1}\\right)} - D_{z_{0}} c^{4} \\epsilon_{0}^{2} \\epsilon_{1} k_{0} k_{1} \\kappa^{3} \\omega J_{m + 1}(\\kappa r) \\cos\\left(h_{0} k_{0}\\right) \\cos\\left(m p\\right) e^{\\left(i \\, h_{0} k_{0} + i \\, h_{0} k_{1}\\right)} \\sin\\left(h_{0} k_{1}\\right) \\sin\\left(h_{1} k_{1}\\right) + 4 \\, \\pi^{2} D_{z_{0}} c^{2} \\epsilon_{0}^{2} k_{0} k_{1} \\kappa \\mu_{1} \\omega \\sigma_{1}^{2} J_{m + 1}(\\kappa r) \\cos\\left(h_{0} k_{0}\\right) \\cos\\left(m p\\right) e^{\\left(i \\, h_{0} k_{0} + i \\, h_{0} k_{1}\\right)} \\sin\\left(h_{0} k_{1}\\right) \\sin\\left(h_{1} k_{1}\\right) + D_{z_{0}} c^{4} \\epsilon_{0}^{2} \\epsilon_{1} k_{0} k_{1} \\kappa^{3} \\omega J_{m - 1}(\\kappa r) \\cos\\left(h_{0} k_{0}\\right) \\cos\\left(m p\\right) e^{\\left(i \\, h_{0} k_{0} + i \\, h_{0} k_{1}\\right)} \\sin\\left(h_{0} k_{1}\\right) \\sin\\left(h_{1} k_{1}\\right) - 4 \\, \\pi^{2} D_{z_{0}} c^{2} \\epsilon_{0}^{2} k_{0} k_{1} \\kappa \\mu_{1} \\omega \\sigma_{1}^{2} J_{m - 1}(\\kappa r) \\cos\\left(h_{0} k_{0}\\right) \\cos\\left(m p\\right) e^{\\left(i \\, h_{0} k_{0} + i \\, h_{0} k_{1}\\right)} \\sin\\left(h_{0} k_{1}\\right) \\sin\\left(h_{1} k_{1}\\right) - 8 \\, \\pi c^{2} \\epsilon_{0}^{2} \\epsilon_{1} k_{1} \\kappa^{2} \\mu_{0} \\omega^{2} \\sigma_{0} \\cos\\left(h_{0} k_{1}\\right) \\cos\\left(h_{1} k_{1}\\right) e^{\\left(i \\, h_{0} k_{0} + i \\, h_{0} k_{1}\\right)} \\sin\\left(h_{0} k_{0}\\right) + 32 \\, \\pi^{3} \\epsilon_{0}^{2} k_{1} \\mu_{0} \\mu_{1} \\omega^{2} \\sigma_{0} \\sigma_{1}^{2} \\cos\\left(h_{0} k_{1}\\right) \\cos\\left(h_{1} k_{1}\\right) e^{\\left(i \\, h_{0} k_{0} + i \\, h_{0} k_{1}\\right)} \\sin\\left(h_{0} k_{0}\\right) + 8 \\, \\pi c^{2} \\epsilon_{0} \\epsilon_{1}^{2} k_{0} \\kappa^{2} \\mu_{1} \\omega^{2} \\sigma_{1} \\cos\\left(h_{0} k_{1}\\right) \\cos\\left(h_{1} k_{1}\\right) e^{\\left(i \\, h_{0} k_{0} + i \\, h_{0} k_{1}\\right)} \\sin\\left(h_{0} k_{1}\\right) - 32 \\, \\pi^{3} \\epsilon_{1}^{2} k_{0} \\mu_{0} \\mu_{1} \\omega^{2} \\sigma_{0}^{2} \\sigma_{1} \\cos\\left(h_{0} k_{1}\\right) \\cos\\left(h_{1} k_{1}\\right) e^{\\left(i \\, h_{0} k_{0} + i \\, h_{0} k_{1}\\right)} \\sin\\left(h_{0} k_{1}\\right) + 8 \\, \\pi c^{2} \\epsilon_{0} \\epsilon_{1}^{2} k_{0} \\kappa^{2} \\mu_{1} \\omega^{2} \\sigma_{1} \\cos\\left(h_{1} k_{1}\\right) e^{\\left(i \\, h_{0} k_{0} + i \\, h_{0} k_{1}\\right)} \\sin\\left(h_{0} k_{1}\\right)^{2} - 32 \\, \\pi^{3} \\epsilon_{1}^{2} k_{0} \\mu_{0} \\mu_{1} \\omega^{2} \\sigma_{0}^{2} \\sigma_{1} \\cos\\left(h_{1} k_{1}\\right) e^{\\left(i \\, h_{0} k_{0} + i \\, h_{0} k_{1}\\right)} \\sin\\left(h_{0} k_{1}\\right)^{2} + 8 \\, \\pi c^{2} \\epsilon_{0} \\epsilon_{1}^{2} k_{0} \\kappa^{2} \\mu_{1} \\omega^{2} \\sigma_{1} \\cos\\left(h_{0} k_{1}\\right) e^{\\left(i \\, h_{0} k_{0} + i \\, h_{0} k_{1}\\right)} \\sin\\left(h_{0} k_{1}\\right) \\sin\\left(h_{1} k_{1}\\right) - 32 \\, \\pi^{3} \\epsilon_{1}^{2} k_{0} \\mu_{0} \\mu_{1} \\omega^{2} \\sigma_{0}^{2} \\sigma_{1} \\cos\\left(h_{0} k_{1}\\right) e^{\\left(i \\, h_{0} k_{0} + i \\, h_{0} k_{1}\\right)} \\sin\\left(h_{0} k_{1}\\right) \\sin\\left(h_{1} k_{1}\\right) + 8 \\, \\pi c^{2} \\epsilon_{0}^{2} \\epsilon_{1} k_{1} \\kappa^{2} \\mu_{0} \\omega^{2} \\sigma_{0} e^{\\left(i \\, h_{0} k_{0} + i \\, h_{0} k_{1}\\right)} \\sin\\left(h_{0} k_{0}\\right) \\sin\\left(h_{0} k_{1}\\right) \\sin\\left(h_{1} k_{1}\\right) - 32 \\, \\pi^{3} \\epsilon_{0}^{2} k_{1} \\mu_{0} \\mu_{1} \\omega^{2} \\sigma_{0} \\sigma_{1}^{2} e^{\\left(i \\, h_{0} k_{0} + i \\, h_{0} k_{1}\\right)} \\sin\\left(h_{0} k_{0}\\right) \\sin\\left(h_{0} k_{1}\\right) \\sin\\left(h_{1} k_{1}\\right) - 8 \\, \\pi c^{2} \\epsilon_{0} \\epsilon_{1}^{2} k_{0} \\kappa^{2} \\mu_{1} \\omega^{2} \\sigma_{1} e^{\\left(i \\, h_{0} k_{0} + i \\, h_{0} k_{1}\\right)} \\sin\\left(h_{0} k_{1}\\right)^{2} \\sin\\left(h_{1} k_{1}\\right) + 32 \\, \\pi^{3} \\epsilon_{1}^{2} k_{0} \\mu_{0} \\mu_{1} \\omega^{2} \\sigma_{0}^{2} \\sigma_{1} e^{\\left(i \\, h_{0} k_{0} + i \\, h_{0} k_{1}\\right)} \\sin\\left(h_{0} k_{1}\\right)^{2} \\sin\\left(h_{1} k_{1}\\right) - 8 \\, \\pi c^{4} \\epsilon_{0} \\epsilon_{1} k_{0} k_{1}^{2} \\kappa^{2} \\sigma_{1} \\cos\\left(h_{0} k_{1}\\right) \\cos\\left(h_{1} k_{1}\\right) e^{\\left(i \\, h_{0} k_{0}\\right)} + 32 \\, \\pi^{3} c^{2} \\epsilon_{1} k_{0} k_{1}^{2} \\mu_{0} \\sigma_{0}^{2} \\sigma_{1} \\cos\\left(h_{0} k_{1}\\right) \\cos\\left(h_{1} k_{1}\\right) e^{\\left(i \\, h_{0} k_{0}\\right)} + 8 \\, \\pi c^{4} \\epsilon_{0} \\epsilon_{1} k_{0}^{2} k_{1} \\kappa^{2} \\sigma_{0} \\cos\\left(h_{0} k_{1}\\right) \\cos\\left(h_{1} k_{1}\\right) e^{\\left(i \\, h_{0} k_{1}\\right)} - 32 \\, \\pi^{3} c^{2} \\epsilon_{0} k_{0}^{2} k_{1} \\mu_{1} \\sigma_{0} \\sigma_{1}^{2} \\cos\\left(h_{0} k_{1}\\right) \\cos\\left(h_{1} k_{1}\\right) e^{\\left(i \\, h_{0} k_{1}\\right)} + 8 \\, \\pi c^{4} \\epsilon_{0} \\epsilon_{1} k_{0} k_{1}^{2} \\kappa^{2} \\sigma_{1} e^{\\left(i \\, h_{0} k_{0}\\right)} \\sin\\left(h_{0} k_{1}\\right) \\sin\\left(h_{1} k_{1}\\right) - 32 \\, \\pi^{3} c^{2} \\epsilon_{1} k_{0} k_{1}^{2} \\mu_{0} \\sigma_{0}^{2} \\sigma_{1} e^{\\left(i \\, h_{0} k_{0}\\right)} \\sin\\left(h_{0} k_{1}\\right) \\sin\\left(h_{1} k_{1}\\right) - 8 \\, \\pi c^{4} \\epsilon_{0} \\epsilon_{1} k_{0}^{2} k_{1} \\kappa^{2} \\sigma_{0} e^{\\left(i \\, h_{0} k_{1}\\right)} \\sin\\left(h_{0} k_{1}\\right) \\sin\\left(h_{1} k_{1}\\right) + 32 \\, \\pi^{3} c^{2} \\epsilon_{0} k_{0}^{2} k_{1} \\mu_{1} \\sigma_{0} \\sigma_{1}^{2} e^{\\left(i \\, h_{0} k_{1}\\right)} \\sin\\left(h_{0} k_{1}\\right) \\sin\\left(h_{1} k_{1}\\right)\\right)} e^{\\left(-i \\, h_{0} k_{0} - i \\, h_{0} k_{1}\\right)}}{{\\left(c^{2} \\epsilon_{0} \\kappa^{2} - 4 \\, \\pi^{2} \\mu_{0} \\sigma_{0}^{2}\\right)} c^{2} \\epsilon_{1}^{2} k_{0} k_{1} \\kappa \\omega {\\left(J_{m + 1}(\\kappa r) - J_{m - 1}(\\kappa r)\\right)} \\cos\\left(h_{1} k_{1}\\right) \\cos\\left(m p\\right)}\\right]$"
      ],
      "text/plain": [
       "<IPython.core.display.Math object>"
      ]
     },
     "metadata": {},
     "output_type": "display_data"
    }
   ],
   "source": [
    "display(Math(latex(bchs)))"
   ]
  },
  {
   "cell_type": "code",
   "execution_count": 159,
   "metadata": {},
   "outputs": [
    {
     "data": {
      "text/plain": [
       "[]"
      ]
     },
     "execution_count": 159,
     "metadata": {},
     "output_type": "execute_result"
    }
   ],
   "source": [
    "bcs = []\n",
    "for i in range(n_layers-1):\n",
    "    if E_mode:\n",
    "        bcs +=  solve (bc[3*i], C_z[i+1])\n",
    "    else:\n",
    "        bcs +=  solve (bc[3*i], B_z[i+1])\n",
    "bcs"
   ]
  },
  {
   "cell_type": "code",
   "execution_count": 160,
   "metadata": {},
   "outputs": [
    {
     "data": {
      "text/plain": [
       "[h_0 == -b*(g_1 - 1), h_1 == b*g_1]"
      ]
     },
     "execution_count": 160,
     "metadata": {},
     "output_type": "execute_result"
    }
   ],
   "source": [
    "b_s = [h[0] == (1 - sum([g[i] for i in range(1,n_layers)]))*b]\n",
    "for i in range(1,n_layers):\n",
    "    b_s += [h[i] == g[i]*b]\n",
    "    \n",
    "b_s"
   ]
  },
  {
   "cell_type": "code",
   "execution_count": 161,
   "metadata": {},
   "outputs": [],
   "source": [
    "E_rho_s = []\n",
    "for i in range(n_layers):\n",
    "    E_rho_s += [ lambda r, p, z, i=i : E_rho[i](r,p,z).subs(bcs).subs(bchs).subs(bchs).subs(b_s) ]"
   ]
  },
  {
   "cell_type": "code",
   "execution_count": 162,
   "metadata": {},
   "outputs": [],
   "source": [
    "E_phi_s = []\n",
    "#E_Phi_s = []\n",
    "for i in range(n_layers):\n",
    "    E_phi_s += [ lambda r, p, z, i=i : E_phi[i](r,p,z).subs(bcs).subs(bchs).subs(bchs).subs(b_s) ]\n",
    "    #E_Phi_s += [ lambda r, p, z, i=i : E_Phi[i](r,p,z).subs(bcs).subs(bchs).subs(bchs).subs(b_s) ]"
   ]
  },
  {
   "cell_type": "code",
   "execution_count": 163,
   "metadata": {},
   "outputs": [],
   "source": [
    "E_z_s = []\n",
    "for i in range(n_layers):\n",
    "    E_z_s += [ lambda r, p, z, i=i : E_zz[i](r,p,z).subs(bcs).subs(bchs).subs(bchs).subs(b_s) ]"
   ]
  },
  {
   "cell_type": "code",
   "execution_count": 164,
   "metadata": {},
   "outputs": [],
   "source": [
    "H_rho_s = []\n",
    "#H_Rho_s = []\n",
    "for i in range(n_layers):\n",
    "    H_rho_s += [ lambda r, p, z, i=i : H_rho[i](r,p,z).subs(bcs).subs(bchs).subs(bchs).subs(b_s) ]\n",
    "    #H_Rho_s += [ lambda r, p, z, i=i : H_Rho[i](r,p,z).subs(bcs).subs(bchs).subs(bchs).subs(b_s) ]"
   ]
  },
  {
   "cell_type": "code",
   "execution_count": 165,
   "metadata": {},
   "outputs": [],
   "source": [
    "H_phi_s = []\n",
    "for i in range(n_layers):\n",
    "    H_phi_s += [ lambda r, p, z, i=i : H_phi[i](r,p,z).subs(bcs).subs(bchs).subs(bchs).subs(b_s) ]"
   ]
  },
  {
   "cell_type": "code",
   "execution_count": 166,
   "metadata": {},
   "outputs": [],
   "source": [
    "H_z_s = []\n",
    "for i in range(n_layers):\n",
    "    H_z_s += [ lambda r, p, z, i=i : H_zz[i](r,p,z).subs(bcs).subs(bchs).subs(bchs).subs(b_s) ]"
   ]
  },
  {
   "cell_type": "code",
   "execution_count": 167,
   "metadata": {},
   "outputs": [
    {
     "data": {
      "text/latex": [
       "$\\displaystyle \\frac{{\\left(\\frac{8 \\, \\pi c^{2} k_{0} \\kappa \\mu_{0} \\omega \\sigma_{0} J_{m + 1}(\\kappa r) \\cos\\left(k_{0} z\\right)}{c^{2} k_{0} \\kappa J_{m + 1}(\\kappa r) - c^{2} k_{0} \\kappa J_{m - 1}(\\kappa r)} - \\frac{8 \\, \\pi c^{2} k_{0} \\kappa \\mu_{0} \\omega \\sigma_{0} J_{m - 1}(\\kappa r) \\cos\\left(k_{0} z\\right)}{c^{2} k_{0} \\kappa J_{m + 1}(\\kappa r) - c^{2} k_{0} \\kappa J_{m - 1}(\\kappa r)} + D_{z_{0}} c^{2} k_{0} \\kappa J_{m + 1}(\\kappa r) \\cos\\left(m p\\right) \\sin\\left(k_{0} z\\right) - D_{z_{0}} c^{2} k_{0} \\kappa J_{m - 1}(\\kappa r) \\cos\\left(m p\\right) \\sin\\left(k_{0} z\\right) - 8 \\, \\pi \\mu_{0} \\omega \\sigma_{0} \\cos\\left(k_{0} z\\right) - 8 \\, \\pi \\mu_{0} \\omega \\sigma_{0} \\sin\\left(k_{0} z\\right)\\right)} \\epsilon_{0}}{2 \\, {\\left(c^{2} \\epsilon_{0} \\kappa^{2} - 4 \\, \\pi^{2} \\mu_{0} \\sigma_{0}^{2}\\right)}}$"
      ],
      "text/plain": [
       "<IPython.core.display.Math object>"
      ]
     },
     "metadata": {},
     "output_type": "display_data"
    }
   ],
   "source": [
    "if 0 < n_layers:\n",
    "    display(Math(latex(E_rho_s [0](r,p,z))))"
   ]
  },
  {
   "cell_type": "code",
   "execution_count": 168,
   "metadata": {},
   "outputs": [
    {
     "data": {
      "text/latex": [
       "$\\displaystyle \\frac{{\\left(\\frac{{\\left(8 \\, \\pi \\mu_{1} \\omega \\sigma_{1} {\\left(\\cos\\left(-b {\\left(g_{1} - 1\\right)} k_{1} + b g_{1} k_{1}\\right) + \\sin\\left(-b {\\left(g_{1} - 1\\right)} k_{1} + b g_{1} k_{1}\\right)\\right)} - {\\left(\\frac{{\\left(D_{z_{0}} c^{4} \\epsilon_{0}^{2} \\epsilon_{1} k_{0} k_{1} \\kappa^{3} \\omega J_{m + 1}(\\kappa r) \\cos\\left(-b {\\left(g_{1} - 1\\right)} k_{0}\\right) \\cos\\left(-b {\\left(g_{1} - 1\\right)} k_{1}\\right) \\cos\\left(b g_{1} k_{1}\\right) \\cos\\left(m p\\right) e^{\\left(-i \\, b {\\left(g_{1} - 1\\right)} k_{0} - i \\, b {\\left(g_{1} - 1\\right)} k_{1}\\right)} - 4 \\, \\pi^{2} D_{z_{0}} c^{2} \\epsilon_{0}^{2} k_{0} k_{1} \\kappa \\mu_{1} \\omega \\sigma_{1}^{2} J_{m + 1}(\\kappa r) \\cos\\left(-b {\\left(g_{1} - 1\\right)} k_{0}\\right) \\cos\\left(-b {\\left(g_{1} - 1\\right)} k_{1}\\right) \\cos\\left(b g_{1} k_{1}\\right) \\cos\\left(m p\\right) e^{\\left(-i \\, b {\\left(g_{1} - 1\\right)} k_{0} - i \\, b {\\left(g_{1} - 1\\right)} k_{1}\\right)} - D_{z_{0}} c^{4} \\epsilon_{0}^{2} \\epsilon_{1} k_{0} k_{1} \\kappa^{3} \\omega J_{m - 1}(\\kappa r) \\cos\\left(-b {\\left(g_{1} - 1\\right)} k_{0}\\right) \\cos\\left(-b {\\left(g_{1} - 1\\right)} k_{1}\\right) \\cos\\left(b g_{1} k_{1}\\right) \\cos\\left(m p\\right) e^{\\left(-i \\, b {\\left(g_{1} - 1\\right)} k_{0} - i \\, b {\\left(g_{1} - 1\\right)} k_{1}\\right)} + 4 \\, \\pi^{2} D_{z_{0}} c^{2} \\epsilon_{0}^{2} k_{0} k_{1} \\kappa \\mu_{1} \\omega \\sigma_{1}^{2} J_{m - 1}(\\kappa r) \\cos\\left(-b {\\left(g_{1} - 1\\right)} k_{0}\\right) \\cos\\left(-b {\\left(g_{1} - 1\\right)} k_{1}\\right) \\cos\\left(b g_{1} k_{1}\\right) \\cos\\left(m p\\right) e^{\\left(-i \\, b {\\left(g_{1} - 1\\right)} k_{0} - i \\, b {\\left(g_{1} - 1\\right)} k_{1}\\right)} - D_{z_{0}} c^{4} \\epsilon_{0}^{2} \\epsilon_{1} k_{0} k_{1} \\kappa^{3} \\omega J_{m + 1}(\\kappa r) \\cos\\left(-b {\\left(g_{1} - 1\\right)} k_{0}\\right) \\cos\\left(m p\\right) e^{\\left(-i \\, b {\\left(g_{1} - 1\\right)} k_{0} - i \\, b {\\left(g_{1} - 1\\right)} k_{1}\\right)} \\sin\\left(-b {\\left(g_{1} - 1\\right)} k_{1}\\right) \\sin\\left(b g_{1} k_{1}\\right) + 4 \\, \\pi^{2} D_{z_{0}} c^{2} \\epsilon_{0}^{2} k_{0} k_{1} \\kappa \\mu_{1} \\omega \\sigma_{1}^{2} J_{m + 1}(\\kappa r) \\cos\\left(-b {\\left(g_{1} - 1\\right)} k_{0}\\right) \\cos\\left(m p\\right) e^{\\left(-i \\, b {\\left(g_{1} - 1\\right)} k_{0} - i \\, b {\\left(g_{1} - 1\\right)} k_{1}\\right)} \\sin\\left(-b {\\left(g_{1} - 1\\right)} k_{1}\\right) \\sin\\left(b g_{1} k_{1}\\right) + D_{z_{0}} c^{4} \\epsilon_{0}^{2} \\epsilon_{1} k_{0} k_{1} \\kappa^{3} \\omega J_{m - 1}(\\kappa r) \\cos\\left(-b {\\left(g_{1} - 1\\right)} k_{0}\\right) \\cos\\left(m p\\right) e^{\\left(-i \\, b {\\left(g_{1} - 1\\right)} k_{0} - i \\, b {\\left(g_{1} - 1\\right)} k_{1}\\right)} \\sin\\left(-b {\\left(g_{1} - 1\\right)} k_{1}\\right) \\sin\\left(b g_{1} k_{1}\\right) - 4 \\, \\pi^{2} D_{z_{0}} c^{2} \\epsilon_{0}^{2} k_{0} k_{1} \\kappa \\mu_{1} \\omega \\sigma_{1}^{2} J_{m - 1}(\\kappa r) \\cos\\left(-b {\\left(g_{1} - 1\\right)} k_{0}\\right) \\cos\\left(m p\\right) e^{\\left(-i \\, b {\\left(g_{1} - 1\\right)} k_{0} - i \\, b {\\left(g_{1} - 1\\right)} k_{1}\\right)} \\sin\\left(-b {\\left(g_{1} - 1\\right)} k_{1}\\right) \\sin\\left(b g_{1} k_{1}\\right) - 8 \\, \\pi c^{2} \\epsilon_{0}^{2} \\epsilon_{1} k_{1} \\kappa^{2} \\mu_{0} \\omega^{2} \\sigma_{0} \\cos\\left(-b {\\left(g_{1} - 1\\right)} k_{1}\\right) \\cos\\left(b g_{1} k_{1}\\right) e^{\\left(-i \\, b {\\left(g_{1} - 1\\right)} k_{0} - i \\, b {\\left(g_{1} - 1\\right)} k_{1}\\right)} \\sin\\left(-b {\\left(g_{1} - 1\\right)} k_{0}\\right) + 32 \\, \\pi^{3} \\epsilon_{0}^{2} k_{1} \\mu_{0} \\mu_{1} \\omega^{2} \\sigma_{0} \\sigma_{1}^{2} \\cos\\left(-b {\\left(g_{1} - 1\\right)} k_{1}\\right) \\cos\\left(b g_{1} k_{1}\\right) e^{\\left(-i \\, b {\\left(g_{1} - 1\\right)} k_{0} - i \\, b {\\left(g_{1} - 1\\right)} k_{1}\\right)} \\sin\\left(-b {\\left(g_{1} - 1\\right)} k_{0}\\right) + 8 \\, \\pi c^{2} \\epsilon_{0} \\epsilon_{1}^{2} k_{0} \\kappa^{2} \\mu_{1} \\omega^{2} \\sigma_{1} \\cos\\left(-b {\\left(g_{1} - 1\\right)} k_{1}\\right) \\cos\\left(b g_{1} k_{1}\\right) e^{\\left(-i \\, b {\\left(g_{1} - 1\\right)} k_{0} - i \\, b {\\left(g_{1} - 1\\right)} k_{1}\\right)} \\sin\\left(-b {\\left(g_{1} - 1\\right)} k_{1}\\right) - 32 \\, \\pi^{3} \\epsilon_{1}^{2} k_{0} \\mu_{0} \\mu_{1} \\omega^{2} \\sigma_{0}^{2} \\sigma_{1} \\cos\\left(-b {\\left(g_{1} - 1\\right)} k_{1}\\right) \\cos\\left(b g_{1} k_{1}\\right) e^{\\left(-i \\, b {\\left(g_{1} - 1\\right)} k_{0} - i \\, b {\\left(g_{1} - 1\\right)} k_{1}\\right)} \\sin\\left(-b {\\left(g_{1} - 1\\right)} k_{1}\\right) + 8 \\, \\pi c^{2} \\epsilon_{0} \\epsilon_{1}^{2} k_{0} \\kappa^{2} \\mu_{1} \\omega^{2} \\sigma_{1} \\cos\\left(b g_{1} k_{1}\\right) e^{\\left(-i \\, b {\\left(g_{1} - 1\\right)} k_{0} - i \\, b {\\left(g_{1} - 1\\right)} k_{1}\\right)} \\sin\\left(-b {\\left(g_{1} - 1\\right)} k_{1}\\right)^{2} - 32 \\, \\pi^{3} \\epsilon_{1}^{2} k_{0} \\mu_{0} \\mu_{1} \\omega^{2} \\sigma_{0}^{2} \\sigma_{1} \\cos\\left(b g_{1} k_{1}\\right) e^{\\left(-i \\, b {\\left(g_{1} - 1\\right)} k_{0} - i \\, b {\\left(g_{1} - 1\\right)} k_{1}\\right)} \\sin\\left(-b {\\left(g_{1} - 1\\right)} k_{1}\\right)^{2} + 8 \\, \\pi c^{2} \\epsilon_{0} \\epsilon_{1}^{2} k_{0} \\kappa^{2} \\mu_{1} \\omega^{2} \\sigma_{1} \\cos\\left(-b {\\left(g_{1} - 1\\right)} k_{1}\\right) e^{\\left(-i \\, b {\\left(g_{1} - 1\\right)} k_{0} - i \\, b {\\left(g_{1} - 1\\right)} k_{1}\\right)} \\sin\\left(-b {\\left(g_{1} - 1\\right)} k_{1}\\right) \\sin\\left(b g_{1} k_{1}\\right) - 32 \\, \\pi^{3} \\epsilon_{1}^{2} k_{0} \\mu_{0} \\mu_{1} \\omega^{2} \\sigma_{0}^{2} \\sigma_{1} \\cos\\left(-b {\\left(g_{1} - 1\\right)} k_{1}\\right) e^{\\left(-i \\, b {\\left(g_{1} - 1\\right)} k_{0} - i \\, b {\\left(g_{1} - 1\\right)} k_{1}\\right)} \\sin\\left(-b {\\left(g_{1} - 1\\right)} k_{1}\\right) \\sin\\left(b g_{1} k_{1}\\right) + 8 \\, \\pi c^{2} \\epsilon_{0}^{2} \\epsilon_{1} k_{1} \\kappa^{2} \\mu_{0} \\omega^{2} \\sigma_{0} e^{\\left(-i \\, b {\\left(g_{1} - 1\\right)} k_{0} - i \\, b {\\left(g_{1} - 1\\right)} k_{1}\\right)} \\sin\\left(-b {\\left(g_{1} - 1\\right)} k_{0}\\right) \\sin\\left(-b {\\left(g_{1} - 1\\right)} k_{1}\\right) \\sin\\left(b g_{1} k_{1}\\right) - 32 \\, \\pi^{3} \\epsilon_{0}^{2} k_{1} \\mu_{0} \\mu_{1} \\omega^{2} \\sigma_{0} \\sigma_{1}^{2} e^{\\left(-i \\, b {\\left(g_{1} - 1\\right)} k_{0} - i \\, b {\\left(g_{1} - 1\\right)} k_{1}\\right)} \\sin\\left(-b {\\left(g_{1} - 1\\right)} k_{0}\\right) \\sin\\left(-b {\\left(g_{1} - 1\\right)} k_{1}\\right) \\sin\\left(b g_{1} k_{1}\\right) - 8 \\, \\pi c^{2} \\epsilon_{0} \\epsilon_{1}^{2} k_{0} \\kappa^{2} \\mu_{1} \\omega^{2} \\sigma_{1} e^{\\left(-i \\, b {\\left(g_{1} - 1\\right)} k_{0} - i \\, b {\\left(g_{1} - 1\\right)} k_{1}\\right)} \\sin\\left(-b {\\left(g_{1} - 1\\right)} k_{1}\\right)^{2} \\sin\\left(b g_{1} k_{1}\\right) + 32 \\, \\pi^{3} \\epsilon_{1}^{2} k_{0} \\mu_{0} \\mu_{1} \\omega^{2} \\sigma_{0}^{2} \\sigma_{1} e^{\\left(-i \\, b {\\left(g_{1} - 1\\right)} k_{0} - i \\, b {\\left(g_{1} - 1\\right)} k_{1}\\right)} \\sin\\left(-b {\\left(g_{1} - 1\\right)} k_{1}\\right)^{2} \\sin\\left(b g_{1} k_{1}\\right) - 8 \\, \\pi c^{4} \\epsilon_{0} \\epsilon_{1} k_{0} k_{1}^{2} \\kappa^{2} \\sigma_{1} \\cos\\left(-b {\\left(g_{1} - 1\\right)} k_{1}\\right) \\cos\\left(b g_{1} k_{1}\\right) e^{\\left(-i \\, b {\\left(g_{1} - 1\\right)} k_{0}\\right)} + 32 \\, \\pi^{3} c^{2} \\epsilon_{1} k_{0} k_{1}^{2} \\mu_{0} \\sigma_{0}^{2} \\sigma_{1} \\cos\\left(-b {\\left(g_{1} - 1\\right)} k_{1}\\right) \\cos\\left(b g_{1} k_{1}\\right) e^{\\left(-i \\, b {\\left(g_{1} - 1\\right)} k_{0}\\right)} + 8 \\, \\pi c^{4} \\epsilon_{0} \\epsilon_{1} k_{0}^{2} k_{1} \\kappa^{2} \\sigma_{0} \\cos\\left(-b {\\left(g_{1} - 1\\right)} k_{1}\\right) \\cos\\left(b g_{1} k_{1}\\right) e^{\\left(-i \\, b {\\left(g_{1} - 1\\right)} k_{1}\\right)} - 32 \\, \\pi^{3} c^{2} \\epsilon_{0} k_{0}^{2} k_{1} \\mu_{1} \\sigma_{0} \\sigma_{1}^{2} \\cos\\left(-b {\\left(g_{1} - 1\\right)} k_{1}\\right) \\cos\\left(b g_{1} k_{1}\\right) e^{\\left(-i \\, b {\\left(g_{1} - 1\\right)} k_{1}\\right)} + 8 \\, \\pi c^{4} \\epsilon_{0} \\epsilon_{1} k_{0} k_{1}^{2} \\kappa^{2} \\sigma_{1} e^{\\left(-i \\, b {\\left(g_{1} - 1\\right)} k_{0}\\right)} \\sin\\left(-b {\\left(g_{1} - 1\\right)} k_{1}\\right) \\sin\\left(b g_{1} k_{1}\\right) - 32 \\, \\pi^{3} c^{2} \\epsilon_{1} k_{0} k_{1}^{2} \\mu_{0} \\sigma_{0}^{2} \\sigma_{1} e^{\\left(-i \\, b {\\left(g_{1} - 1\\right)} k_{0}\\right)} \\sin\\left(-b {\\left(g_{1} - 1\\right)} k_{1}\\right) \\sin\\left(b g_{1} k_{1}\\right) - 8 \\, \\pi c^{4} \\epsilon_{0} \\epsilon_{1} k_{0}^{2} k_{1} \\kappa^{2} \\sigma_{0} e^{\\left(-i \\, b {\\left(g_{1} - 1\\right)} k_{1}\\right)} \\sin\\left(-b {\\left(g_{1} - 1\\right)} k_{1}\\right) \\sin\\left(b g_{1} k_{1}\\right) + 32 \\, \\pi^{3} c^{2} \\epsilon_{0} k_{0}^{2} k_{1} \\mu_{1} \\sigma_{0} \\sigma_{1}^{2} e^{\\left(-i \\, b {\\left(g_{1} - 1\\right)} k_{1}\\right)} \\sin\\left(-b {\\left(g_{1} - 1\\right)} k_{1}\\right) \\sin\\left(b g_{1} k_{1}\\right)\\right)} J_{m + 1}(\\kappa r) e^{\\left(i \\, b {\\left(g_{1} - 1\\right)} k_{0} + i \\, b {\\left(g_{1} - 1\\right)} k_{1}\\right)} \\sin\\left(-b {\\left(g_{1} - 1\\right)} k_{1} + b g_{1} k_{1}\\right)}{{\\left(c^{2} \\epsilon_{0} \\kappa^{2} - 4 \\, \\pi^{2} \\mu_{0} \\sigma_{0}^{2}\\right)} \\epsilon_{1}^{2} k_{0} \\omega {\\left(J_{m + 1}(\\kappa r) - J_{m - 1}(\\kappa r)\\right)} \\cos\\left(b g_{1} k_{1}\\right) \\cos\\left(m p\\right)} - \\frac{{\\left(D_{z_{0}} c^{4} \\epsilon_{0}^{2} \\epsilon_{1} k_{0} k_{1} \\kappa^{3} \\omega J_{m + 1}(\\kappa r) \\cos\\left(-b {\\left(g_{1} - 1\\right)} k_{0}\\right) \\cos\\left(-b {\\left(g_{1} - 1\\right)} k_{1}\\right) \\cos\\left(b g_{1} k_{1}\\right) \\cos\\left(m p\\right) e^{\\left(-i \\, b {\\left(g_{1} - 1\\right)} k_{0} - i \\, b {\\left(g_{1} - 1\\right)} k_{1}\\right)} - 4 \\, \\pi^{2} D_{z_{0}} c^{2} \\epsilon_{0}^{2} k_{0} k_{1} \\kappa \\mu_{1} \\omega \\sigma_{1}^{2} J_{m + 1}(\\kappa r) \\cos\\left(-b {\\left(g_{1} - 1\\right)} k_{0}\\right) \\cos\\left(-b {\\left(g_{1} - 1\\right)} k_{1}\\right) \\cos\\left(b g_{1} k_{1}\\right) \\cos\\left(m p\\right) e^{\\left(-i \\, b {\\left(g_{1} - 1\\right)} k_{0} - i \\, b {\\left(g_{1} - 1\\right)} k_{1}\\right)} - D_{z_{0}} c^{4} \\epsilon_{0}^{2} \\epsilon_{1} k_{0} k_{1} \\kappa^{3} \\omega J_{m - 1}(\\kappa r) \\cos\\left(-b {\\left(g_{1} - 1\\right)} k_{0}\\right) \\cos\\left(-b {\\left(g_{1} - 1\\right)} k_{1}\\right) \\cos\\left(b g_{1} k_{1}\\right) \\cos\\left(m p\\right) e^{\\left(-i \\, b {\\left(g_{1} - 1\\right)} k_{0} - i \\, b {\\left(g_{1} - 1\\right)} k_{1}\\right)} + 4 \\, \\pi^{2} D_{z_{0}} c^{2} \\epsilon_{0}^{2} k_{0} k_{1} \\kappa \\mu_{1} \\omega \\sigma_{1}^{2} J_{m - 1}(\\kappa r) \\cos\\left(-b {\\left(g_{1} - 1\\right)} k_{0}\\right) \\cos\\left(-b {\\left(g_{1} - 1\\right)} k_{1}\\right) \\cos\\left(b g_{1} k_{1}\\right) \\cos\\left(m p\\right) e^{\\left(-i \\, b {\\left(g_{1} - 1\\right)} k_{0} - i \\, b {\\left(g_{1} - 1\\right)} k_{1}\\right)} - D_{z_{0}} c^{4} \\epsilon_{0}^{2} \\epsilon_{1} k_{0} k_{1} \\kappa^{3} \\omega J_{m + 1}(\\kappa r) \\cos\\left(-b {\\left(g_{1} - 1\\right)} k_{0}\\right) \\cos\\left(m p\\right) e^{\\left(-i \\, b {\\left(g_{1} - 1\\right)} k_{0} - i \\, b {\\left(g_{1} - 1\\right)} k_{1}\\right)} \\sin\\left(-b {\\left(g_{1} - 1\\right)} k_{1}\\right) \\sin\\left(b g_{1} k_{1}\\right) + 4 \\, \\pi^{2} D_{z_{0}} c^{2} \\epsilon_{0}^{2} k_{0} k_{1} \\kappa \\mu_{1} \\omega \\sigma_{1}^{2} J_{m + 1}(\\kappa r) \\cos\\left(-b {\\left(g_{1} - 1\\right)} k_{0}\\right) \\cos\\left(m p\\right) e^{\\left(-i \\, b {\\left(g_{1} - 1\\right)} k_{0} - i \\, b {\\left(g_{1} - 1\\right)} k_{1}\\right)} \\sin\\left(-b {\\left(g_{1} - 1\\right)} k_{1}\\right) \\sin\\left(b g_{1} k_{1}\\right) + D_{z_{0}} c^{4} \\epsilon_{0}^{2} \\epsilon_{1} k_{0} k_{1} \\kappa^{3} \\omega J_{m - 1}(\\kappa r) \\cos\\left(-b {\\left(g_{1} - 1\\right)} k_{0}\\right) \\cos\\left(m p\\right) e^{\\left(-i \\, b {\\left(g_{1} - 1\\right)} k_{0} - i \\, b {\\left(g_{1} - 1\\right)} k_{1}\\right)} \\sin\\left(-b {\\left(g_{1} - 1\\right)} k_{1}\\right) \\sin\\left(b g_{1} k_{1}\\right) - 4 \\, \\pi^{2} D_{z_{0}} c^{2} \\epsilon_{0}^{2} k_{0} k_{1} \\kappa \\mu_{1} \\omega \\sigma_{1}^{2} J_{m - 1}(\\kappa r) \\cos\\left(-b {\\left(g_{1} - 1\\right)} k_{0}\\right) \\cos\\left(m p\\right) e^{\\left(-i \\, b {\\left(g_{1} - 1\\right)} k_{0} - i \\, b {\\left(g_{1} - 1\\right)} k_{1}\\right)} \\sin\\left(-b {\\left(g_{1} - 1\\right)} k_{1}\\right) \\sin\\left(b g_{1} k_{1}\\right) - 8 \\, \\pi c^{2} \\epsilon_{0}^{2} \\epsilon_{1} k_{1} \\kappa^{2} \\mu_{0} \\omega^{2} \\sigma_{0} \\cos\\left(-b {\\left(g_{1} - 1\\right)} k_{1}\\right) \\cos\\left(b g_{1} k_{1}\\right) e^{\\left(-i \\, b {\\left(g_{1} - 1\\right)} k_{0} - i \\, b {\\left(g_{1} - 1\\right)} k_{1}\\right)} \\sin\\left(-b {\\left(g_{1} - 1\\right)} k_{0}\\right) + 32 \\, \\pi^{3} \\epsilon_{0}^{2} k_{1} \\mu_{0} \\mu_{1} \\omega^{2} \\sigma_{0} \\sigma_{1}^{2} \\cos\\left(-b {\\left(g_{1} - 1\\right)} k_{1}\\right) \\cos\\left(b g_{1} k_{1}\\right) e^{\\left(-i \\, b {\\left(g_{1} - 1\\right)} k_{0} - i \\, b {\\left(g_{1} - 1\\right)} k_{1}\\right)} \\sin\\left(-b {\\left(g_{1} - 1\\right)} k_{0}\\right) + 8 \\, \\pi c^{2} \\epsilon_{0} \\epsilon_{1}^{2} k_{0} \\kappa^{2} \\mu_{1} \\omega^{2} \\sigma_{1} \\cos\\left(-b {\\left(g_{1} - 1\\right)} k_{1}\\right) \\cos\\left(b g_{1} k_{1}\\right) e^{\\left(-i \\, b {\\left(g_{1} - 1\\right)} k_{0} - i \\, b {\\left(g_{1} - 1\\right)} k_{1}\\right)} \\sin\\left(-b {\\left(g_{1} - 1\\right)} k_{1}\\right) - 32 \\, \\pi^{3} \\epsilon_{1}^{2} k_{0} \\mu_{0} \\mu_{1} \\omega^{2} \\sigma_{0}^{2} \\sigma_{1} \\cos\\left(-b {\\left(g_{1} - 1\\right)} k_{1}\\right) \\cos\\left(b g_{1} k_{1}\\right) e^{\\left(-i \\, b {\\left(g_{1} - 1\\right)} k_{0} - i \\, b {\\left(g_{1} - 1\\right)} k_{1}\\right)} \\sin\\left(-b {\\left(g_{1} - 1\\right)} k_{1}\\right) + 8 \\, \\pi c^{2} \\epsilon_{0} \\epsilon_{1}^{2} k_{0} \\kappa^{2} \\mu_{1} \\omega^{2} \\sigma_{1} \\cos\\left(b g_{1} k_{1}\\right) e^{\\left(-i \\, b {\\left(g_{1} - 1\\right)} k_{0} - i \\, b {\\left(g_{1} - 1\\right)} k_{1}\\right)} \\sin\\left(-b {\\left(g_{1} - 1\\right)} k_{1}\\right)^{2} - 32 \\, \\pi^{3} \\epsilon_{1}^{2} k_{0} \\mu_{0} \\mu_{1} \\omega^{2} \\sigma_{0}^{2} \\sigma_{1} \\cos\\left(b g_{1} k_{1}\\right) e^{\\left(-i \\, b {\\left(g_{1} - 1\\right)} k_{0} - i \\, b {\\left(g_{1} - 1\\right)} k_{1}\\right)} \\sin\\left(-b {\\left(g_{1} - 1\\right)} k_{1}\\right)^{2} + 8 \\, \\pi c^{2} \\epsilon_{0} \\epsilon_{1}^{2} k_{0} \\kappa^{2} \\mu_{1} \\omega^{2} \\sigma_{1} \\cos\\left(-b {\\left(g_{1} - 1\\right)} k_{1}\\right) e^{\\left(-i \\, b {\\left(g_{1} - 1\\right)} k_{0} - i \\, b {\\left(g_{1} - 1\\right)} k_{1}\\right)} \\sin\\left(-b {\\left(g_{1} - 1\\right)} k_{1}\\right) \\sin\\left(b g_{1} k_{1}\\right) - 32 \\, \\pi^{3} \\epsilon_{1}^{2} k_{0} \\mu_{0} \\mu_{1} \\omega^{2} \\sigma_{0}^{2} \\sigma_{1} \\cos\\left(-b {\\left(g_{1} - 1\\right)} k_{1}\\right) e^{\\left(-i \\, b {\\left(g_{1} - 1\\right)} k_{0} - i \\, b {\\left(g_{1} - 1\\right)} k_{1}\\right)} \\sin\\left(-b {\\left(g_{1} - 1\\right)} k_{1}\\right) \\sin\\left(b g_{1} k_{1}\\right) + 8 \\, \\pi c^{2} \\epsilon_{0}^{2} \\epsilon_{1} k_{1} \\kappa^{2} \\mu_{0} \\omega^{2} \\sigma_{0} e^{\\left(-i \\, b {\\left(g_{1} - 1\\right)} k_{0} - i \\, b {\\left(g_{1} - 1\\right)} k_{1}\\right)} \\sin\\left(-b {\\left(g_{1} - 1\\right)} k_{0}\\right) \\sin\\left(-b {\\left(g_{1} - 1\\right)} k_{1}\\right) \\sin\\left(b g_{1} k_{1}\\right) - 32 \\, \\pi^{3} \\epsilon_{0}^{2} k_{1} \\mu_{0} \\mu_{1} \\omega^{2} \\sigma_{0} \\sigma_{1}^{2} e^{\\left(-i \\, b {\\left(g_{1} - 1\\right)} k_{0} - i \\, b {\\left(g_{1} - 1\\right)} k_{1}\\right)} \\sin\\left(-b {\\left(g_{1} - 1\\right)} k_{0}\\right) \\sin\\left(-b {\\left(g_{1} - 1\\right)} k_{1}\\right) \\sin\\left(b g_{1} k_{1}\\right) - 8 \\, \\pi c^{2} \\epsilon_{0} \\epsilon_{1}^{2} k_{0} \\kappa^{2} \\mu_{1} \\omega^{2} \\sigma_{1} e^{\\left(-i \\, b {\\left(g_{1} - 1\\right)} k_{0} - i \\, b {\\left(g_{1} - 1\\right)} k_{1}\\right)} \\sin\\left(-b {\\left(g_{1} - 1\\right)} k_{1}\\right)^{2} \\sin\\left(b g_{1} k_{1}\\right) + 32 \\, \\pi^{3} \\epsilon_{1}^{2} k_{0} \\mu_{0} \\mu_{1} \\omega^{2} \\sigma_{0}^{2} \\sigma_{1} e^{\\left(-i \\, b {\\left(g_{1} - 1\\right)} k_{0} - i \\, b {\\left(g_{1} - 1\\right)} k_{1}\\right)} \\sin\\left(-b {\\left(g_{1} - 1\\right)} k_{1}\\right)^{2} \\sin\\left(b g_{1} k_{1}\\right) - 8 \\, \\pi c^{4} \\epsilon_{0} \\epsilon_{1} k_{0} k_{1}^{2} \\kappa^{2} \\sigma_{1} \\cos\\left(-b {\\left(g_{1} - 1\\right)} k_{1}\\right) \\cos\\left(b g_{1} k_{1}\\right) e^{\\left(-i \\, b {\\left(g_{1} - 1\\right)} k_{0}\\right)} + 32 \\, \\pi^{3} c^{2} \\epsilon_{1} k_{0} k_{1}^{2} \\mu_{0} \\sigma_{0}^{2} \\sigma_{1} \\cos\\left(-b {\\left(g_{1} - 1\\right)} k_{1}\\right) \\cos\\left(b g_{1} k_{1}\\right) e^{\\left(-i \\, b {\\left(g_{1} - 1\\right)} k_{0}\\right)} + 8 \\, \\pi c^{4} \\epsilon_{0} \\epsilon_{1} k_{0}^{2} k_{1} \\kappa^{2} \\sigma_{0} \\cos\\left(-b {\\left(g_{1} - 1\\right)} k_{1}\\right) \\cos\\left(b g_{1} k_{1}\\right) e^{\\left(-i \\, b {\\left(g_{1} - 1\\right)} k_{1}\\right)} - 32 \\, \\pi^{3} c^{2} \\epsilon_{0} k_{0}^{2} k_{1} \\mu_{1} \\sigma_{0} \\sigma_{1}^{2} \\cos\\left(-b {\\left(g_{1} - 1\\right)} k_{1}\\right) \\cos\\left(b g_{1} k_{1}\\right) e^{\\left(-i \\, b {\\left(g_{1} - 1\\right)} k_{1}\\right)} + 8 \\, \\pi c^{4} \\epsilon_{0} \\epsilon_{1} k_{0} k_{1}^{2} \\kappa^{2} \\sigma_{1} e^{\\left(-i \\, b {\\left(g_{1} - 1\\right)} k_{0}\\right)} \\sin\\left(-b {\\left(g_{1} - 1\\right)} k_{1}\\right) \\sin\\left(b g_{1} k_{1}\\right) - 32 \\, \\pi^{3} c^{2} \\epsilon_{1} k_{0} k_{1}^{2} \\mu_{0} \\sigma_{0}^{2} \\sigma_{1} e^{\\left(-i \\, b {\\left(g_{1} - 1\\right)} k_{0}\\right)} \\sin\\left(-b {\\left(g_{1} - 1\\right)} k_{1}\\right) \\sin\\left(b g_{1} k_{1}\\right) - 8 \\, \\pi c^{4} \\epsilon_{0} \\epsilon_{1} k_{0}^{2} k_{1} \\kappa^{2} \\sigma_{0} e^{\\left(-i \\, b {\\left(g_{1} - 1\\right)} k_{1}\\right)} \\sin\\left(-b {\\left(g_{1} - 1\\right)} k_{1}\\right) \\sin\\left(b g_{1} k_{1}\\right) + 32 \\, \\pi^{3} c^{2} \\epsilon_{0} k_{0}^{2} k_{1} \\mu_{1} \\sigma_{0} \\sigma_{1}^{2} e^{\\left(-i \\, b {\\left(g_{1} - 1\\right)} k_{1}\\right)} \\sin\\left(-b {\\left(g_{1} - 1\\right)} k_{1}\\right) \\sin\\left(b g_{1} k_{1}\\right)\\right)} J_{m - 1}(\\kappa r) e^{\\left(i \\, b {\\left(g_{1} - 1\\right)} k_{0} + i \\, b {\\left(g_{1} - 1\\right)} k_{1}\\right)} \\sin\\left(-b {\\left(g_{1} - 1\\right)} k_{1} + b g_{1} k_{1}\\right)}{{\\left(c^{2} \\epsilon_{0} \\kappa^{2} - 4 \\, \\pi^{2} \\mu_{0} \\sigma_{0}^{2}\\right)} \\epsilon_{1}^{2} k_{0} \\omega {\\left(J_{m + 1}(\\kappa r) - J_{m - 1}(\\kappa r)\\right)} \\cos\\left(b g_{1} k_{1}\\right) \\cos\\left(m p\\right)}\\right)} \\cos\\left(m p\\right)\\right)} c^{2} k_{1} \\kappa J_{m + 1}(\\kappa r) \\cos\\left(k_{1} z\\right)}{c^{2} k_{1} \\kappa J_{m + 1}(\\kappa r) \\cos\\left(-b {\\left(g_{1} - 1\\right)} k_{1} + b g_{1} k_{1}\\right) - c^{2} k_{1} \\kappa J_{m - 1}(\\kappa r) \\cos\\left(-b {\\left(g_{1} - 1\\right)} k_{1} + b g_{1} k_{1}\\right)} - \\frac{{\\left(8 \\, \\pi \\mu_{1} \\omega \\sigma_{1} {\\left(\\cos\\left(-b {\\left(g_{1} - 1\\right)} k_{1} + b g_{1} k_{1}\\right) + \\sin\\left(-b {\\left(g_{1} - 1\\right)} k_{1} + b g_{1} k_{1}\\right)\\right)} - {\\left(\\frac{{\\left(D_{z_{0}} c^{4} \\epsilon_{0}^{2} \\epsilon_{1} k_{0} k_{1} \\kappa^{3} \\omega J_{m + 1}(\\kappa r) \\cos\\left(-b {\\left(g_{1} - 1\\right)} k_{0}\\right) \\cos\\left(-b {\\left(g_{1} - 1\\right)} k_{1}\\right) \\cos\\left(b g_{1} k_{1}\\right) \\cos\\left(m p\\right) e^{\\left(-i \\, b {\\left(g_{1} - 1\\right)} k_{0} - i \\, b {\\left(g_{1} - 1\\right)} k_{1}\\right)} - 4 \\, \\pi^{2} D_{z_{0}} c^{2} \\epsilon_{0}^{2} k_{0} k_{1} \\kappa \\mu_{1} \\omega \\sigma_{1}^{2} J_{m + 1}(\\kappa r) \\cos\\left(-b {\\left(g_{1} - 1\\right)} k_{0}\\right) \\cos\\left(-b {\\left(g_{1} - 1\\right)} k_{1}\\right) \\cos\\left(b g_{1} k_{1}\\right) \\cos\\left(m p\\right) e^{\\left(-i \\, b {\\left(g_{1} - 1\\right)} k_{0} - i \\, b {\\left(g_{1} - 1\\right)} k_{1}\\right)} - D_{z_{0}} c^{4} \\epsilon_{0}^{2} \\epsilon_{1} k_{0} k_{1} \\kappa^{3} \\omega J_{m - 1}(\\kappa r) \\cos\\left(-b {\\left(g_{1} - 1\\right)} k_{0}\\right) \\cos\\left(-b {\\left(g_{1} - 1\\right)} k_{1}\\right) \\cos\\left(b g_{1} k_{1}\\right) \\cos\\left(m p\\right) e^{\\left(-i \\, b {\\left(g_{1} - 1\\right)} k_{0} - i \\, b {\\left(g_{1} - 1\\right)} k_{1}\\right)} + 4 \\, \\pi^{2} D_{z_{0}} c^{2} \\epsilon_{0}^{2} k_{0} k_{1} \\kappa \\mu_{1} \\omega \\sigma_{1}^{2} J_{m - 1}(\\kappa r) \\cos\\left(-b {\\left(g_{1} - 1\\right)} k_{0}\\right) \\cos\\left(-b {\\left(g_{1} - 1\\right)} k_{1}\\right) \\cos\\left(b g_{1} k_{1}\\right) \\cos\\left(m p\\right) e^{\\left(-i \\, b {\\left(g_{1} - 1\\right)} k_{0} - i \\, b {\\left(g_{1} - 1\\right)} k_{1}\\right)} - D_{z_{0}} c^{4} \\epsilon_{0}^{2} \\epsilon_{1} k_{0} k_{1} \\kappa^{3} \\omega J_{m + 1}(\\kappa r) \\cos\\left(-b {\\left(g_{1} - 1\\right)} k_{0}\\right) \\cos\\left(m p\\right) e^{\\left(-i \\, b {\\left(g_{1} - 1\\right)} k_{0} - i \\, b {\\left(g_{1} - 1\\right)} k_{1}\\right)} \\sin\\left(-b {\\left(g_{1} - 1\\right)} k_{1}\\right) \\sin\\left(b g_{1} k_{1}\\right) + 4 \\, \\pi^{2} D_{z_{0}} c^{2} \\epsilon_{0}^{2} k_{0} k_{1} \\kappa \\mu_{1} \\omega \\sigma_{1}^{2} J_{m + 1}(\\kappa r) \\cos\\left(-b {\\left(g_{1} - 1\\right)} k_{0}\\right) \\cos\\left(m p\\right) e^{\\left(-i \\, b {\\left(g_{1} - 1\\right)} k_{0} - i \\, b {\\left(g_{1} - 1\\right)} k_{1}\\right)} \\sin\\left(-b {\\left(g_{1} - 1\\right)} k_{1}\\right) \\sin\\left(b g_{1} k_{1}\\right) + D_{z_{0}} c^{4} \\epsilon_{0}^{2} \\epsilon_{1} k_{0} k_{1} \\kappa^{3} \\omega J_{m - 1}(\\kappa r) \\cos\\left(-b {\\left(g_{1} - 1\\right)} k_{0}\\right) \\cos\\left(m p\\right) e^{\\left(-i \\, b {\\left(g_{1} - 1\\right)} k_{0} - i \\, b {\\left(g_{1} - 1\\right)} k_{1}\\right)} \\sin\\left(-b {\\left(g_{1} - 1\\right)} k_{1}\\right) \\sin\\left(b g_{1} k_{1}\\right) - 4 \\, \\pi^{2} D_{z_{0}} c^{2} \\epsilon_{0}^{2} k_{0} k_{1} \\kappa \\mu_{1} \\omega \\sigma_{1}^{2} J_{m - 1}(\\kappa r) \\cos\\left(-b {\\left(g_{1} - 1\\right)} k_{0}\\right) \\cos\\left(m p\\right) e^{\\left(-i \\, b {\\left(g_{1} - 1\\right)} k_{0} - i \\, b {\\left(g_{1} - 1\\right)} k_{1}\\right)} \\sin\\left(-b {\\left(g_{1} - 1\\right)} k_{1}\\right) \\sin\\left(b g_{1} k_{1}\\right) - 8 \\, \\pi c^{2} \\epsilon_{0}^{2} \\epsilon_{1} k_{1} \\kappa^{2} \\mu_{0} \\omega^{2} \\sigma_{0} \\cos\\left(-b {\\left(g_{1} - 1\\right)} k_{1}\\right) \\cos\\left(b g_{1} k_{1}\\right) e^{\\left(-i \\, b {\\left(g_{1} - 1\\right)} k_{0} - i \\, b {\\left(g_{1} - 1\\right)} k_{1}\\right)} \\sin\\left(-b {\\left(g_{1} - 1\\right)} k_{0}\\right) + 32 \\, \\pi^{3} \\epsilon_{0}^{2} k_{1} \\mu_{0} \\mu_{1} \\omega^{2} \\sigma_{0} \\sigma_{1}^{2} \\cos\\left(-b {\\left(g_{1} - 1\\right)} k_{1}\\right) \\cos\\left(b g_{1} k_{1}\\right) e^{\\left(-i \\, b {\\left(g_{1} - 1\\right)} k_{0} - i \\, b {\\left(g_{1} - 1\\right)} k_{1}\\right)} \\sin\\left(-b {\\left(g_{1} - 1\\right)} k_{0}\\right) + 8 \\, \\pi c^{2} \\epsilon_{0} \\epsilon_{1}^{2} k_{0} \\kappa^{2} \\mu_{1} \\omega^{2} \\sigma_{1} \\cos\\left(-b {\\left(g_{1} - 1\\right)} k_{1}\\right) \\cos\\left(b g_{1} k_{1}\\right) e^{\\left(-i \\, b {\\left(g_{1} - 1\\right)} k_{0} - i \\, b {\\left(g_{1} - 1\\right)} k_{1}\\right)} \\sin\\left(-b {\\left(g_{1} - 1\\right)} k_{1}\\right) - 32 \\, \\pi^{3} \\epsilon_{1}^{2} k_{0} \\mu_{0} \\mu_{1} \\omega^{2} \\sigma_{0}^{2} \\sigma_{1} \\cos\\left(-b {\\left(g_{1} - 1\\right)} k_{1}\\right) \\cos\\left(b g_{1} k_{1}\\right) e^{\\left(-i \\, b {\\left(g_{1} - 1\\right)} k_{0} - i \\, b {\\left(g_{1} - 1\\right)} k_{1}\\right)} \\sin\\left(-b {\\left(g_{1} - 1\\right)} k_{1}\\right) + 8 \\, \\pi c^{2} \\epsilon_{0} \\epsilon_{1}^{2} k_{0} \\kappa^{2} \\mu_{1} \\omega^{2} \\sigma_{1} \\cos\\left(b g_{1} k_{1}\\right) e^{\\left(-i \\, b {\\left(g_{1} - 1\\right)} k_{0} - i \\, b {\\left(g_{1} - 1\\right)} k_{1}\\right)} \\sin\\left(-b {\\left(g_{1} - 1\\right)} k_{1}\\right)^{2} - 32 \\, \\pi^{3} \\epsilon_{1}^{2} k_{0} \\mu_{0} \\mu_{1} \\omega^{2} \\sigma_{0}^{2} \\sigma_{1} \\cos\\left(b g_{1} k_{1}\\right) e^{\\left(-i \\, b {\\left(g_{1} - 1\\right)} k_{0} - i \\, b {\\left(g_{1} - 1\\right)} k_{1}\\right)} \\sin\\left(-b {\\left(g_{1} - 1\\right)} k_{1}\\right)^{2} + 8 \\, \\pi c^{2} \\epsilon_{0} \\epsilon_{1}^{2} k_{0} \\kappa^{2} \\mu_{1} \\omega^{2} \\sigma_{1} \\cos\\left(-b {\\left(g_{1} - 1\\right)} k_{1}\\right) e^{\\left(-i \\, b {\\left(g_{1} - 1\\right)} k_{0} - i \\, b {\\left(g_{1} - 1\\right)} k_{1}\\right)} \\sin\\left(-b {\\left(g_{1} - 1\\right)} k_{1}\\right) \\sin\\left(b g_{1} k_{1}\\right) - 32 \\, \\pi^{3} \\epsilon_{1}^{2} k_{0} \\mu_{0} \\mu_{1} \\omega^{2} \\sigma_{0}^{2} \\sigma_{1} \\cos\\left(-b {\\left(g_{1} - 1\\right)} k_{1}\\right) e^{\\left(-i \\, b {\\left(g_{1} - 1\\right)} k_{0} - i \\, b {\\left(g_{1} - 1\\right)} k_{1}\\right)} \\sin\\left(-b {\\left(g_{1} - 1\\right)} k_{1}\\right) \\sin\\left(b g_{1} k_{1}\\right) + 8 \\, \\pi c^{2} \\epsilon_{0}^{2} \\epsilon_{1} k_{1} \\kappa^{2} \\mu_{0} \\omega^{2} \\sigma_{0} e^{\\left(-i \\, b {\\left(g_{1} - 1\\right)} k_{0} - i \\, b {\\left(g_{1} - 1\\right)} k_{1}\\right)} \\sin\\left(-b {\\left(g_{1} - 1\\right)} k_{0}\\right) \\sin\\left(-b {\\left(g_{1} - 1\\right)} k_{1}\\right) \\sin\\left(b g_{1} k_{1}\\right) - 32 \\, \\pi^{3} \\epsilon_{0}^{2} k_{1} \\mu_{0} \\mu_{1} \\omega^{2} \\sigma_{0} \\sigma_{1}^{2} e^{\\left(-i \\, b {\\left(g_{1} - 1\\right)} k_{0} - i \\, b {\\left(g_{1} - 1\\right)} k_{1}\\right)} \\sin\\left(-b {\\left(g_{1} - 1\\right)} k_{0}\\right) \\sin\\left(-b {\\left(g_{1} - 1\\right)} k_{1}\\right) \\sin\\left(b g_{1} k_{1}\\right) - 8 \\, \\pi c^{2} \\epsilon_{0} \\epsilon_{1}^{2} k_{0} \\kappa^{2} \\mu_{1} \\omega^{2} \\sigma_{1} e^{\\left(-i \\, b {\\left(g_{1} - 1\\right)} k_{0} - i \\, b {\\left(g_{1} - 1\\right)} k_{1}\\right)} \\sin\\left(-b {\\left(g_{1} - 1\\right)} k_{1}\\right)^{2} \\sin\\left(b g_{1} k_{1}\\right) + 32 \\, \\pi^{3} \\epsilon_{1}^{2} k_{0} \\mu_{0} \\mu_{1} \\omega^{2} \\sigma_{0}^{2} \\sigma_{1} e^{\\left(-i \\, b {\\left(g_{1} - 1\\right)} k_{0} - i \\, b {\\left(g_{1} - 1\\right)} k_{1}\\right)} \\sin\\left(-b {\\left(g_{1} - 1\\right)} k_{1}\\right)^{2} \\sin\\left(b g_{1} k_{1}\\right) - 8 \\, \\pi c^{4} \\epsilon_{0} \\epsilon_{1} k_{0} k_{1}^{2} \\kappa^{2} \\sigma_{1} \\cos\\left(-b {\\left(g_{1} - 1\\right)} k_{1}\\right) \\cos\\left(b g_{1} k_{1}\\right) e^{\\left(-i \\, b {\\left(g_{1} - 1\\right)} k_{0}\\right)} + 32 \\, \\pi^{3} c^{2} \\epsilon_{1} k_{0} k_{1}^{2} \\mu_{0} \\sigma_{0}^{2} \\sigma_{1} \\cos\\left(-b {\\left(g_{1} - 1\\right)} k_{1}\\right) \\cos\\left(b g_{1} k_{1}\\right) e^{\\left(-i \\, b {\\left(g_{1} - 1\\right)} k_{0}\\right)} + 8 \\, \\pi c^{4} \\epsilon_{0} \\epsilon_{1} k_{0}^{2} k_{1} \\kappa^{2} \\sigma_{0} \\cos\\left(-b {\\left(g_{1} - 1\\right)} k_{1}\\right) \\cos\\left(b g_{1} k_{1}\\right) e^{\\left(-i \\, b {\\left(g_{1} - 1\\right)} k_{1}\\right)} - 32 \\, \\pi^{3} c^{2} \\epsilon_{0} k_{0}^{2} k_{1} \\mu_{1} \\sigma_{0} \\sigma_{1}^{2} \\cos\\left(-b {\\left(g_{1} - 1\\right)} k_{1}\\right) \\cos\\left(b g_{1} k_{1}\\right) e^{\\left(-i \\, b {\\left(g_{1} - 1\\right)} k_{1}\\right)} + 8 \\, \\pi c^{4} \\epsilon_{0} \\epsilon_{1} k_{0} k_{1}^{2} \\kappa^{2} \\sigma_{1} e^{\\left(-i \\, b {\\left(g_{1} - 1\\right)} k_{0}\\right)} \\sin\\left(-b {\\left(g_{1} - 1\\right)} k_{1}\\right) \\sin\\left(b g_{1} k_{1}\\right) - 32 \\, \\pi^{3} c^{2} \\epsilon_{1} k_{0} k_{1}^{2} \\mu_{0} \\sigma_{0}^{2} \\sigma_{1} e^{\\left(-i \\, b {\\left(g_{1} - 1\\right)} k_{0}\\right)} \\sin\\left(-b {\\left(g_{1} - 1\\right)} k_{1}\\right) \\sin\\left(b g_{1} k_{1}\\right) - 8 \\, \\pi c^{4} \\epsilon_{0} \\epsilon_{1} k_{0}^{2} k_{1} \\kappa^{2} \\sigma_{0} e^{\\left(-i \\, b {\\left(g_{1} - 1\\right)} k_{1}\\right)} \\sin\\left(-b {\\left(g_{1} - 1\\right)} k_{1}\\right) \\sin\\left(b g_{1} k_{1}\\right) + 32 \\, \\pi^{3} c^{2} \\epsilon_{0} k_{0}^{2} k_{1} \\mu_{1} \\sigma_{0} \\sigma_{1}^{2} e^{\\left(-i \\, b {\\left(g_{1} - 1\\right)} k_{1}\\right)} \\sin\\left(-b {\\left(g_{1} - 1\\right)} k_{1}\\right) \\sin\\left(b g_{1} k_{1}\\right)\\right)} J_{m + 1}(\\kappa r) e^{\\left(i \\, b {\\left(g_{1} - 1\\right)} k_{0} + i \\, b {\\left(g_{1} - 1\\right)} k_{1}\\right)} \\sin\\left(-b {\\left(g_{1} - 1\\right)} k_{1} + b g_{1} k_{1}\\right)}{{\\left(c^{2} \\epsilon_{0} \\kappa^{2} - 4 \\, \\pi^{2} \\mu_{0} \\sigma_{0}^{2}\\right)} \\epsilon_{1}^{2} k_{0} \\omega {\\left(J_{m + 1}(\\kappa r) - J_{m - 1}(\\kappa r)\\right)} \\cos\\left(b g_{1} k_{1}\\right) \\cos\\left(m p\\right)} - \\frac{{\\left(D_{z_{0}} c^{4} \\epsilon_{0}^{2} \\epsilon_{1} k_{0} k_{1} \\kappa^{3} \\omega J_{m + 1}(\\kappa r) \\cos\\left(-b {\\left(g_{1} - 1\\right)} k_{0}\\right) \\cos\\left(-b {\\left(g_{1} - 1\\right)} k_{1}\\right) \\cos\\left(b g_{1} k_{1}\\right) \\cos\\left(m p\\right) e^{\\left(-i \\, b {\\left(g_{1} - 1\\right)} k_{0} - i \\, b {\\left(g_{1} - 1\\right)} k_{1}\\right)} - 4 \\, \\pi^{2} D_{z_{0}} c^{2} \\epsilon_{0}^{2} k_{0} k_{1} \\kappa \\mu_{1} \\omega \\sigma_{1}^{2} J_{m + 1}(\\kappa r) \\cos\\left(-b {\\left(g_{1} - 1\\right)} k_{0}\\right) \\cos\\left(-b {\\left(g_{1} - 1\\right)} k_{1}\\right) \\cos\\left(b g_{1} k_{1}\\right) \\cos\\left(m p\\right) e^{\\left(-i \\, b {\\left(g_{1} - 1\\right)} k_{0} - i \\, b {\\left(g_{1} - 1\\right)} k_{1}\\right)} - D_{z_{0}} c^{4} \\epsilon_{0}^{2} \\epsilon_{1} k_{0} k_{1} \\kappa^{3} \\omega J_{m - 1}(\\kappa r) \\cos\\left(-b {\\left(g_{1} - 1\\right)} k_{0}\\right) \\cos\\left(-b {\\left(g_{1} - 1\\right)} k_{1}\\right) \\cos\\left(b g_{1} k_{1}\\right) \\cos\\left(m p\\right) e^{\\left(-i \\, b {\\left(g_{1} - 1\\right)} k_{0} - i \\, b {\\left(g_{1} - 1\\right)} k_{1}\\right)} + 4 \\, \\pi^{2} D_{z_{0}} c^{2} \\epsilon_{0}^{2} k_{0} k_{1} \\kappa \\mu_{1} \\omega \\sigma_{1}^{2} J_{m - 1}(\\kappa r) \\cos\\left(-b {\\left(g_{1} - 1\\right)} k_{0}\\right) \\cos\\left(-b {\\left(g_{1} - 1\\right)} k_{1}\\right) \\cos\\left(b g_{1} k_{1}\\right) \\cos\\left(m p\\right) e^{\\left(-i \\, b {\\left(g_{1} - 1\\right)} k_{0} - i \\, b {\\left(g_{1} - 1\\right)} k_{1}\\right)} - D_{z_{0}} c^{4} \\epsilon_{0}^{2} \\epsilon_{1} k_{0} k_{1} \\kappa^{3} \\omega J_{m + 1}(\\kappa r) \\cos\\left(-b {\\left(g_{1} - 1\\right)} k_{0}\\right) \\cos\\left(m p\\right) e^{\\left(-i \\, b {\\left(g_{1} - 1\\right)} k_{0} - i \\, b {\\left(g_{1} - 1\\right)} k_{1}\\right)} \\sin\\left(-b {\\left(g_{1} - 1\\right)} k_{1}\\right) \\sin\\left(b g_{1} k_{1}\\right) + 4 \\, \\pi^{2} D_{z_{0}} c^{2} \\epsilon_{0}^{2} k_{0} k_{1} \\kappa \\mu_{1} \\omega \\sigma_{1}^{2} J_{m + 1}(\\kappa r) \\cos\\left(-b {\\left(g_{1} - 1\\right)} k_{0}\\right) \\cos\\left(m p\\right) e^{\\left(-i \\, b {\\left(g_{1} - 1\\right)} k_{0} - i \\, b {\\left(g_{1} - 1\\right)} k_{1}\\right)} \\sin\\left(-b {\\left(g_{1} - 1\\right)} k_{1}\\right) \\sin\\left(b g_{1} k_{1}\\right) + D_{z_{0}} c^{4} \\epsilon_{0}^{2} \\epsilon_{1} k_{0} k_{1} \\kappa^{3} \\omega J_{m - 1}(\\kappa r) \\cos\\left(-b {\\left(g_{1} - 1\\right)} k_{0}\\right) \\cos\\left(m p\\right) e^{\\left(-i \\, b {\\left(g_{1} - 1\\right)} k_{0} - i \\, b {\\left(g_{1} - 1\\right)} k_{1}\\right)} \\sin\\left(-b {\\left(g_{1} - 1\\right)} k_{1}\\right) \\sin\\left(b g_{1} k_{1}\\right) - 4 \\, \\pi^{2} D_{z_{0}} c^{2} \\epsilon_{0}^{2} k_{0} k_{1} \\kappa \\mu_{1} \\omega \\sigma_{1}^{2} J_{m - 1}(\\kappa r) \\cos\\left(-b {\\left(g_{1} - 1\\right)} k_{0}\\right) \\cos\\left(m p\\right) e^{\\left(-i \\, b {\\left(g_{1} - 1\\right)} k_{0} - i \\, b {\\left(g_{1} - 1\\right)} k_{1}\\right)} \\sin\\left(-b {\\left(g_{1} - 1\\right)} k_{1}\\right) \\sin\\left(b g_{1} k_{1}\\right) - 8 \\, \\pi c^{2} \\epsilon_{0}^{2} \\epsilon_{1} k_{1} \\kappa^{2} \\mu_{0} \\omega^{2} \\sigma_{0} \\cos\\left(-b {\\left(g_{1} - 1\\right)} k_{1}\\right) \\cos\\left(b g_{1} k_{1}\\right) e^{\\left(-i \\, b {\\left(g_{1} - 1\\right)} k_{0} - i \\, b {\\left(g_{1} - 1\\right)} k_{1}\\right)} \\sin\\left(-b {\\left(g_{1} - 1\\right)} k_{0}\\right) + 32 \\, \\pi^{3} \\epsilon_{0}^{2} k_{1} \\mu_{0} \\mu_{1} \\omega^{2} \\sigma_{0} \\sigma_{1}^{2} \\cos\\left(-b {\\left(g_{1} - 1\\right)} k_{1}\\right) \\cos\\left(b g_{1} k_{1}\\right) e^{\\left(-i \\, b {\\left(g_{1} - 1\\right)} k_{0} - i \\, b {\\left(g_{1} - 1\\right)} k_{1}\\right)} \\sin\\left(-b {\\left(g_{1} - 1\\right)} k_{0}\\right) + 8 \\, \\pi c^{2} \\epsilon_{0} \\epsilon_{1}^{2} k_{0} \\kappa^{2} \\mu_{1} \\omega^{2} \\sigma_{1} \\cos\\left(-b {\\left(g_{1} - 1\\right)} k_{1}\\right) \\cos\\left(b g_{1} k_{1}\\right) e^{\\left(-i \\, b {\\left(g_{1} - 1\\right)} k_{0} - i \\, b {\\left(g_{1} - 1\\right)} k_{1}\\right)} \\sin\\left(-b {\\left(g_{1} - 1\\right)} k_{1}\\right) - 32 \\, \\pi^{3} \\epsilon_{1}^{2} k_{0} \\mu_{0} \\mu_{1} \\omega^{2} \\sigma_{0}^{2} \\sigma_{1} \\cos\\left(-b {\\left(g_{1} - 1\\right)} k_{1}\\right) \\cos\\left(b g_{1} k_{1}\\right) e^{\\left(-i \\, b {\\left(g_{1} - 1\\right)} k_{0} - i \\, b {\\left(g_{1} - 1\\right)} k_{1}\\right)} \\sin\\left(-b {\\left(g_{1} - 1\\right)} k_{1}\\right) + 8 \\, \\pi c^{2} \\epsilon_{0} \\epsilon_{1}^{2} k_{0} \\kappa^{2} \\mu_{1} \\omega^{2} \\sigma_{1} \\cos\\left(b g_{1} k_{1}\\right) e^{\\left(-i \\, b {\\left(g_{1} - 1\\right)} k_{0} - i \\, b {\\left(g_{1} - 1\\right)} k_{1}\\right)} \\sin\\left(-b {\\left(g_{1} - 1\\right)} k_{1}\\right)^{2} - 32 \\, \\pi^{3} \\epsilon_{1}^{2} k_{0} \\mu_{0} \\mu_{1} \\omega^{2} \\sigma_{0}^{2} \\sigma_{1} \\cos\\left(b g_{1} k_{1}\\right) e^{\\left(-i \\, b {\\left(g_{1} - 1\\right)} k_{0} - i \\, b {\\left(g_{1} - 1\\right)} k_{1}\\right)} \\sin\\left(-b {\\left(g_{1} - 1\\right)} k_{1}\\right)^{2} + 8 \\, \\pi c^{2} \\epsilon_{0} \\epsilon_{1}^{2} k_{0} \\kappa^{2} \\mu_{1} \\omega^{2} \\sigma_{1} \\cos\\left(-b {\\left(g_{1} - 1\\right)} k_{1}\\right) e^{\\left(-i \\, b {\\left(g_{1} - 1\\right)} k_{0} - i \\, b {\\left(g_{1} - 1\\right)} k_{1}\\right)} \\sin\\left(-b {\\left(g_{1} - 1\\right)} k_{1}\\right) \\sin\\left(b g_{1} k_{1}\\right) - 32 \\, \\pi^{3} \\epsilon_{1}^{2} k_{0} \\mu_{0} \\mu_{1} \\omega^{2} \\sigma_{0}^{2} \\sigma_{1} \\cos\\left(-b {\\left(g_{1} - 1\\right)} k_{1}\\right) e^{\\left(-i \\, b {\\left(g_{1} - 1\\right)} k_{0} - i \\, b {\\left(g_{1} - 1\\right)} k_{1}\\right)} \\sin\\left(-b {\\left(g_{1} - 1\\right)} k_{1}\\right) \\sin\\left(b g_{1} k_{1}\\right) + 8 \\, \\pi c^{2} \\epsilon_{0}^{2} \\epsilon_{1} k_{1} \\kappa^{2} \\mu_{0} \\omega^{2} \\sigma_{0} e^{\\left(-i \\, b {\\left(g_{1} - 1\\right)} k_{0} - i \\, b {\\left(g_{1} - 1\\right)} k_{1}\\right)} \\sin\\left(-b {\\left(g_{1} - 1\\right)} k_{0}\\right) \\sin\\left(-b {\\left(g_{1} - 1\\right)} k_{1}\\right) \\sin\\left(b g_{1} k_{1}\\right) - 32 \\, \\pi^{3} \\epsilon_{0}^{2} k_{1} \\mu_{0} \\mu_{1} \\omega^{2} \\sigma_{0} \\sigma_{1}^{2} e^{\\left(-i \\, b {\\left(g_{1} - 1\\right)} k_{0} - i \\, b {\\left(g_{1} - 1\\right)} k_{1}\\right)} \\sin\\left(-b {\\left(g_{1} - 1\\right)} k_{0}\\right) \\sin\\left(-b {\\left(g_{1} - 1\\right)} k_{1}\\right) \\sin\\left(b g_{1} k_{1}\\right) - 8 \\, \\pi c^{2} \\epsilon_{0} \\epsilon_{1}^{2} k_{0} \\kappa^{2} \\mu_{1} \\omega^{2} \\sigma_{1} e^{\\left(-i \\, b {\\left(g_{1} - 1\\right)} k_{0} - i \\, b {\\left(g_{1} - 1\\right)} k_{1}\\right)} \\sin\\left(-b {\\left(g_{1} - 1\\right)} k_{1}\\right)^{2} \\sin\\left(b g_{1} k_{1}\\right) + 32 \\, \\pi^{3} \\epsilon_{1}^{2} k_{0} \\mu_{0} \\mu_{1} \\omega^{2} \\sigma_{0}^{2} \\sigma_{1} e^{\\left(-i \\, b {\\left(g_{1} - 1\\right)} k_{0} - i \\, b {\\left(g_{1} - 1\\right)} k_{1}\\right)} \\sin\\left(-b {\\left(g_{1} - 1\\right)} k_{1}\\right)^{2} \\sin\\left(b g_{1} k_{1}\\right) - 8 \\, \\pi c^{4} \\epsilon_{0} \\epsilon_{1} k_{0} k_{1}^{2} \\kappa^{2} \\sigma_{1} \\cos\\left(-b {\\left(g_{1} - 1\\right)} k_{1}\\right) \\cos\\left(b g_{1} k_{1}\\right) e^{\\left(-i \\, b {\\left(g_{1} - 1\\right)} k_{0}\\right)} + 32 \\, \\pi^{3} c^{2} \\epsilon_{1} k_{0} k_{1}^{2} \\mu_{0} \\sigma_{0}^{2} \\sigma_{1} \\cos\\left(-b {\\left(g_{1} - 1\\right)} k_{1}\\right) \\cos\\left(b g_{1} k_{1}\\right) e^{\\left(-i \\, b {\\left(g_{1} - 1\\right)} k_{0}\\right)} + 8 \\, \\pi c^{4} \\epsilon_{0} \\epsilon_{1} k_{0}^{2} k_{1} \\kappa^{2} \\sigma_{0} \\cos\\left(-b {\\left(g_{1} - 1\\right)} k_{1}\\right) \\cos\\left(b g_{1} k_{1}\\right) e^{\\left(-i \\, b {\\left(g_{1} - 1\\right)} k_{1}\\right)} - 32 \\, \\pi^{3} c^{2} \\epsilon_{0} k_{0}^{2} k_{1} \\mu_{1} \\sigma_{0} \\sigma_{1}^{2} \\cos\\left(-b {\\left(g_{1} - 1\\right)} k_{1}\\right) \\cos\\left(b g_{1} k_{1}\\right) e^{\\left(-i \\, b {\\left(g_{1} - 1\\right)} k_{1}\\right)} + 8 \\, \\pi c^{4} \\epsilon_{0} \\epsilon_{1} k_{0} k_{1}^{2} \\kappa^{2} \\sigma_{1} e^{\\left(-i \\, b {\\left(g_{1} - 1\\right)} k_{0}\\right)} \\sin\\left(-b {\\left(g_{1} - 1\\right)} k_{1}\\right) \\sin\\left(b g_{1} k_{1}\\right) - 32 \\, \\pi^{3} c^{2} \\epsilon_{1} k_{0} k_{1}^{2} \\mu_{0} \\sigma_{0}^{2} \\sigma_{1} e^{\\left(-i \\, b {\\left(g_{1} - 1\\right)} k_{0}\\right)} \\sin\\left(-b {\\left(g_{1} - 1\\right)} k_{1}\\right) \\sin\\left(b g_{1} k_{1}\\right) - 8 \\, \\pi c^{4} \\epsilon_{0} \\epsilon_{1} k_{0}^{2} k_{1} \\kappa^{2} \\sigma_{0} e^{\\left(-i \\, b {\\left(g_{1} - 1\\right)} k_{1}\\right)} \\sin\\left(-b {\\left(g_{1} - 1\\right)} k_{1}\\right) \\sin\\left(b g_{1} k_{1}\\right) + 32 \\, \\pi^{3} c^{2} \\epsilon_{0} k_{0}^{2} k_{1} \\mu_{1} \\sigma_{0} \\sigma_{1}^{2} e^{\\left(-i \\, b {\\left(g_{1} - 1\\right)} k_{1}\\right)} \\sin\\left(-b {\\left(g_{1} - 1\\right)} k_{1}\\right) \\sin\\left(b g_{1} k_{1}\\right)\\right)} J_{m - 1}(\\kappa r) e^{\\left(i \\, b {\\left(g_{1} - 1\\right)} k_{0} + i \\, b {\\left(g_{1} - 1\\right)} k_{1}\\right)} \\sin\\left(-b {\\left(g_{1} - 1\\right)} k_{1} + b g_{1} k_{1}\\right)}{{\\left(c^{2} \\epsilon_{0} \\kappa^{2} - 4 \\, \\pi^{2} \\mu_{0} \\sigma_{0}^{2}\\right)} \\epsilon_{1}^{2} k_{0} \\omega {\\left(J_{m + 1}(\\kappa r) - J_{m - 1}(\\kappa r)\\right)} \\cos\\left(b g_{1} k_{1}\\right) \\cos\\left(m p\\right)}\\right)} \\cos\\left(m p\\right)\\right)} c^{2} k_{1} \\kappa J_{m - 1}(\\kappa r) \\cos\\left(k_{1} z\\right)}{c^{2} k_{1} \\kappa J_{m + 1}(\\kappa r) \\cos\\left(-b {\\left(g_{1} - 1\\right)} k_{1} + b g_{1} k_{1}\\right) - c^{2} k_{1} \\kappa J_{m - 1}(\\kappa r) \\cos\\left(-b {\\left(g_{1} - 1\\right)} k_{1} + b g_{1} k_{1}\\right)} - 8 \\, \\pi \\mu_{1} \\omega \\sigma_{1} \\cos\\left(k_{1} z\\right) - 8 \\, \\pi \\mu_{1} \\omega \\sigma_{1} \\sin\\left(k_{1} z\\right) + \\frac{{\\left(D_{z_{0}} c^{4} \\epsilon_{0}^{2} \\epsilon_{1} k_{0} k_{1} \\kappa^{3} \\omega J_{m + 1}(\\kappa r) \\cos\\left(-b {\\left(g_{1} - 1\\right)} k_{0}\\right) \\cos\\left(-b {\\left(g_{1} - 1\\right)} k_{1}\\right) \\cos\\left(b g_{1} k_{1}\\right) \\cos\\left(m p\\right) e^{\\left(-i \\, b {\\left(g_{1} - 1\\right)} k_{0} - i \\, b {\\left(g_{1} - 1\\right)} k_{1}\\right)} - 4 \\, \\pi^{2} D_{z_{0}} c^{2} \\epsilon_{0}^{2} k_{0} k_{1} \\kappa \\mu_{1} \\omega \\sigma_{1}^{2} J_{m + 1}(\\kappa r) \\cos\\left(-b {\\left(g_{1} - 1\\right)} k_{0}\\right) \\cos\\left(-b {\\left(g_{1} - 1\\right)} k_{1}\\right) \\cos\\left(b g_{1} k_{1}\\right) \\cos\\left(m p\\right) e^{\\left(-i \\, b {\\left(g_{1} - 1\\right)} k_{0} - i \\, b {\\left(g_{1} - 1\\right)} k_{1}\\right)} - D_{z_{0}} c^{4} \\epsilon_{0}^{2} \\epsilon_{1} k_{0} k_{1} \\kappa^{3} \\omega J_{m - 1}(\\kappa r) \\cos\\left(-b {\\left(g_{1} - 1\\right)} k_{0}\\right) \\cos\\left(-b {\\left(g_{1} - 1\\right)} k_{1}\\right) \\cos\\left(b g_{1} k_{1}\\right) \\cos\\left(m p\\right) e^{\\left(-i \\, b {\\left(g_{1} - 1\\right)} k_{0} - i \\, b {\\left(g_{1} - 1\\right)} k_{1}\\right)} + 4 \\, \\pi^{2} D_{z_{0}} c^{2} \\epsilon_{0}^{2} k_{0} k_{1} \\kappa \\mu_{1} \\omega \\sigma_{1}^{2} J_{m - 1}(\\kappa r) \\cos\\left(-b {\\left(g_{1} - 1\\right)} k_{0}\\right) \\cos\\left(-b {\\left(g_{1} - 1\\right)} k_{1}\\right) \\cos\\left(b g_{1} k_{1}\\right) \\cos\\left(m p\\right) e^{\\left(-i \\, b {\\left(g_{1} - 1\\right)} k_{0} - i \\, b {\\left(g_{1} - 1\\right)} k_{1}\\right)} - D_{z_{0}} c^{4} \\epsilon_{0}^{2} \\epsilon_{1} k_{0} k_{1} \\kappa^{3} \\omega J_{m + 1}(\\kappa r) \\cos\\left(-b {\\left(g_{1} - 1\\right)} k_{0}\\right) \\cos\\left(m p\\right) e^{\\left(-i \\, b {\\left(g_{1} - 1\\right)} k_{0} - i \\, b {\\left(g_{1} - 1\\right)} k_{1}\\right)} \\sin\\left(-b {\\left(g_{1} - 1\\right)} k_{1}\\right) \\sin\\left(b g_{1} k_{1}\\right) + 4 \\, \\pi^{2} D_{z_{0}} c^{2} \\epsilon_{0}^{2} k_{0} k_{1} \\kappa \\mu_{1} \\omega \\sigma_{1}^{2} J_{m + 1}(\\kappa r) \\cos\\left(-b {\\left(g_{1} - 1\\right)} k_{0}\\right) \\cos\\left(m p\\right) e^{\\left(-i \\, b {\\left(g_{1} - 1\\right)} k_{0} - i \\, b {\\left(g_{1} - 1\\right)} k_{1}\\right)} \\sin\\left(-b {\\left(g_{1} - 1\\right)} k_{1}\\right) \\sin\\left(b g_{1} k_{1}\\right) + D_{z_{0}} c^{4} \\epsilon_{0}^{2} \\epsilon_{1} k_{0} k_{1} \\kappa^{3} \\omega J_{m - 1}(\\kappa r) \\cos\\left(-b {\\left(g_{1} - 1\\right)} k_{0}\\right) \\cos\\left(m p\\right) e^{\\left(-i \\, b {\\left(g_{1} - 1\\right)} k_{0} - i \\, b {\\left(g_{1} - 1\\right)} k_{1}\\right)} \\sin\\left(-b {\\left(g_{1} - 1\\right)} k_{1}\\right) \\sin\\left(b g_{1} k_{1}\\right) - 4 \\, \\pi^{2} D_{z_{0}} c^{2} \\epsilon_{0}^{2} k_{0} k_{1} \\kappa \\mu_{1} \\omega \\sigma_{1}^{2} J_{m - 1}(\\kappa r) \\cos\\left(-b {\\left(g_{1} - 1\\right)} k_{0}\\right) \\cos\\left(m p\\right) e^{\\left(-i \\, b {\\left(g_{1} - 1\\right)} k_{0} - i \\, b {\\left(g_{1} - 1\\right)} k_{1}\\right)} \\sin\\left(-b {\\left(g_{1} - 1\\right)} k_{1}\\right) \\sin\\left(b g_{1} k_{1}\\right) - 8 \\, \\pi c^{2} \\epsilon_{0}^{2} \\epsilon_{1} k_{1} \\kappa^{2} \\mu_{0} \\omega^{2} \\sigma_{0} \\cos\\left(-b {\\left(g_{1} - 1\\right)} k_{1}\\right) \\cos\\left(b g_{1} k_{1}\\right) e^{\\left(-i \\, b {\\left(g_{1} - 1\\right)} k_{0} - i \\, b {\\left(g_{1} - 1\\right)} k_{1}\\right)} \\sin\\left(-b {\\left(g_{1} - 1\\right)} k_{0}\\right) + 32 \\, \\pi^{3} \\epsilon_{0}^{2} k_{1} \\mu_{0} \\mu_{1} \\omega^{2} \\sigma_{0} \\sigma_{1}^{2} \\cos\\left(-b {\\left(g_{1} - 1\\right)} k_{1}\\right) \\cos\\left(b g_{1} k_{1}\\right) e^{\\left(-i \\, b {\\left(g_{1} - 1\\right)} k_{0} - i \\, b {\\left(g_{1} - 1\\right)} k_{1}\\right)} \\sin\\left(-b {\\left(g_{1} - 1\\right)} k_{0}\\right) + 8 \\, \\pi c^{2} \\epsilon_{0} \\epsilon_{1}^{2} k_{0} \\kappa^{2} \\mu_{1} \\omega^{2} \\sigma_{1} \\cos\\left(-b {\\left(g_{1} - 1\\right)} k_{1}\\right) \\cos\\left(b g_{1} k_{1}\\right) e^{\\left(-i \\, b {\\left(g_{1} - 1\\right)} k_{0} - i \\, b {\\left(g_{1} - 1\\right)} k_{1}\\right)} \\sin\\left(-b {\\left(g_{1} - 1\\right)} k_{1}\\right) - 32 \\, \\pi^{3} \\epsilon_{1}^{2} k_{0} \\mu_{0} \\mu_{1} \\omega^{2} \\sigma_{0}^{2} \\sigma_{1} \\cos\\left(-b {\\left(g_{1} - 1\\right)} k_{1}\\right) \\cos\\left(b g_{1} k_{1}\\right) e^{\\left(-i \\, b {\\left(g_{1} - 1\\right)} k_{0} - i \\, b {\\left(g_{1} - 1\\right)} k_{1}\\right)} \\sin\\left(-b {\\left(g_{1} - 1\\right)} k_{1}\\right) + 8 \\, \\pi c^{2} \\epsilon_{0} \\epsilon_{1}^{2} k_{0} \\kappa^{2} \\mu_{1} \\omega^{2} \\sigma_{1} \\cos\\left(b g_{1} k_{1}\\right) e^{\\left(-i \\, b {\\left(g_{1} - 1\\right)} k_{0} - i \\, b {\\left(g_{1} - 1\\right)} k_{1}\\right)} \\sin\\left(-b {\\left(g_{1} - 1\\right)} k_{1}\\right)^{2} - 32 \\, \\pi^{3} \\epsilon_{1}^{2} k_{0} \\mu_{0} \\mu_{1} \\omega^{2} \\sigma_{0}^{2} \\sigma_{1} \\cos\\left(b g_{1} k_{1}\\right) e^{\\left(-i \\, b {\\left(g_{1} - 1\\right)} k_{0} - i \\, b {\\left(g_{1} - 1\\right)} k_{1}\\right)} \\sin\\left(-b {\\left(g_{1} - 1\\right)} k_{1}\\right)^{2} + 8 \\, \\pi c^{2} \\epsilon_{0} \\epsilon_{1}^{2} k_{0} \\kappa^{2} \\mu_{1} \\omega^{2} \\sigma_{1} \\cos\\left(-b {\\left(g_{1} - 1\\right)} k_{1}\\right) e^{\\left(-i \\, b {\\left(g_{1} - 1\\right)} k_{0} - i \\, b {\\left(g_{1} - 1\\right)} k_{1}\\right)} \\sin\\left(-b {\\left(g_{1} - 1\\right)} k_{1}\\right) \\sin\\left(b g_{1} k_{1}\\right) - 32 \\, \\pi^{3} \\epsilon_{1}^{2} k_{0} \\mu_{0} \\mu_{1} \\omega^{2} \\sigma_{0}^{2} \\sigma_{1} \\cos\\left(-b {\\left(g_{1} - 1\\right)} k_{1}\\right) e^{\\left(-i \\, b {\\left(g_{1} - 1\\right)} k_{0} - i \\, b {\\left(g_{1} - 1\\right)} k_{1}\\right)} \\sin\\left(-b {\\left(g_{1} - 1\\right)} k_{1}\\right) \\sin\\left(b g_{1} k_{1}\\right) + 8 \\, \\pi c^{2} \\epsilon_{0}^{2} \\epsilon_{1} k_{1} \\kappa^{2} \\mu_{0} \\omega^{2} \\sigma_{0} e^{\\left(-i \\, b {\\left(g_{1} - 1\\right)} k_{0} - i \\, b {\\left(g_{1} - 1\\right)} k_{1}\\right)} \\sin\\left(-b {\\left(g_{1} - 1\\right)} k_{0}\\right) \\sin\\left(-b {\\left(g_{1} - 1\\right)} k_{1}\\right) \\sin\\left(b g_{1} k_{1}\\right) - 32 \\, \\pi^{3} \\epsilon_{0}^{2} k_{1} \\mu_{0} \\mu_{1} \\omega^{2} \\sigma_{0} \\sigma_{1}^{2} e^{\\left(-i \\, b {\\left(g_{1} - 1\\right)} k_{0} - i \\, b {\\left(g_{1} - 1\\right)} k_{1}\\right)} \\sin\\left(-b {\\left(g_{1} - 1\\right)} k_{0}\\right) \\sin\\left(-b {\\left(g_{1} - 1\\right)} k_{1}\\right) \\sin\\left(b g_{1} k_{1}\\right) - 8 \\, \\pi c^{2} \\epsilon_{0} \\epsilon_{1}^{2} k_{0} \\kappa^{2} \\mu_{1} \\omega^{2} \\sigma_{1} e^{\\left(-i \\, b {\\left(g_{1} - 1\\right)} k_{0} - i \\, b {\\left(g_{1} - 1\\right)} k_{1}\\right)} \\sin\\left(-b {\\left(g_{1} - 1\\right)} k_{1}\\right)^{2} \\sin\\left(b g_{1} k_{1}\\right) + 32 \\, \\pi^{3} \\epsilon_{1}^{2} k_{0} \\mu_{0} \\mu_{1} \\omega^{2} \\sigma_{0}^{2} \\sigma_{1} e^{\\left(-i \\, b {\\left(g_{1} - 1\\right)} k_{0} - i \\, b {\\left(g_{1} - 1\\right)} k_{1}\\right)} \\sin\\left(-b {\\left(g_{1} - 1\\right)} k_{1}\\right)^{2} \\sin\\left(b g_{1} k_{1}\\right) - 8 \\, \\pi c^{4} \\epsilon_{0} \\epsilon_{1} k_{0} k_{1}^{2} \\kappa^{2} \\sigma_{1} \\cos\\left(-b {\\left(g_{1} - 1\\right)} k_{1}\\right) \\cos\\left(b g_{1} k_{1}\\right) e^{\\left(-i \\, b {\\left(g_{1} - 1\\right)} k_{0}\\right)} + 32 \\, \\pi^{3} c^{2} \\epsilon_{1} k_{0} k_{1}^{2} \\mu_{0} \\sigma_{0}^{2} \\sigma_{1} \\cos\\left(-b {\\left(g_{1} - 1\\right)} k_{1}\\right) \\cos\\left(b g_{1} k_{1}\\right) e^{\\left(-i \\, b {\\left(g_{1} - 1\\right)} k_{0}\\right)} + 8 \\, \\pi c^{4} \\epsilon_{0} \\epsilon_{1} k_{0}^{2} k_{1} \\kappa^{2} \\sigma_{0} \\cos\\left(-b {\\left(g_{1} - 1\\right)} k_{1}\\right) \\cos\\left(b g_{1} k_{1}\\right) e^{\\left(-i \\, b {\\left(g_{1} - 1\\right)} k_{1}\\right)} - 32 \\, \\pi^{3} c^{2} \\epsilon_{0} k_{0}^{2} k_{1} \\mu_{1} \\sigma_{0} \\sigma_{1}^{2} \\cos\\left(-b {\\left(g_{1} - 1\\right)} k_{1}\\right) \\cos\\left(b g_{1} k_{1}\\right) e^{\\left(-i \\, b {\\left(g_{1} - 1\\right)} k_{1}\\right)} + 8 \\, \\pi c^{4} \\epsilon_{0} \\epsilon_{1} k_{0} k_{1}^{2} \\kappa^{2} \\sigma_{1} e^{\\left(-i \\, b {\\left(g_{1} - 1\\right)} k_{0}\\right)} \\sin\\left(-b {\\left(g_{1} - 1\\right)} k_{1}\\right) \\sin\\left(b g_{1} k_{1}\\right) - 32 \\, \\pi^{3} c^{2} \\epsilon_{1} k_{0} k_{1}^{2} \\mu_{0} \\sigma_{0}^{2} \\sigma_{1} e^{\\left(-i \\, b {\\left(g_{1} - 1\\right)} k_{0}\\right)} \\sin\\left(-b {\\left(g_{1} - 1\\right)} k_{1}\\right) \\sin\\left(b g_{1} k_{1}\\right) - 8 \\, \\pi c^{4} \\epsilon_{0} \\epsilon_{1} k_{0}^{2} k_{1} \\kappa^{2} \\sigma_{0} e^{\\left(-i \\, b {\\left(g_{1} - 1\\right)} k_{1}\\right)} \\sin\\left(-b {\\left(g_{1} - 1\\right)} k_{1}\\right) \\sin\\left(b g_{1} k_{1}\\right) + 32 \\, \\pi^{3} c^{2} \\epsilon_{0} k_{0}^{2} k_{1} \\mu_{1} \\sigma_{0} \\sigma_{1}^{2} e^{\\left(-i \\, b {\\left(g_{1} - 1\\right)} k_{1}\\right)} \\sin\\left(-b {\\left(g_{1} - 1\\right)} k_{1}\\right) \\sin\\left(b g_{1} k_{1}\\right)\\right)} J_{m + 1}(\\kappa r) e^{\\left(i \\, b {\\left(g_{1} - 1\\right)} k_{0} + i \\, b {\\left(g_{1} - 1\\right)} k_{1}\\right)} \\sin\\left(k_{1} z\\right)}{{\\left(c^{2} \\epsilon_{0} \\kappa^{2} - 4 \\, \\pi^{2} \\mu_{0} \\sigma_{0}^{2}\\right)} \\epsilon_{1}^{2} k_{0} \\omega {\\left(J_{m + 1}(\\kappa r) - J_{m - 1}(\\kappa r)\\right)} \\cos\\left(b g_{1} k_{1}\\right)} - \\frac{{\\left(D_{z_{0}} c^{4} \\epsilon_{0}^{2} \\epsilon_{1} k_{0} k_{1} \\kappa^{3} \\omega J_{m + 1}(\\kappa r) \\cos\\left(-b {\\left(g_{1} - 1\\right)} k_{0}\\right) \\cos\\left(-b {\\left(g_{1} - 1\\right)} k_{1}\\right) \\cos\\left(b g_{1} k_{1}\\right) \\cos\\left(m p\\right) e^{\\left(-i \\, b {\\left(g_{1} - 1\\right)} k_{0} - i \\, b {\\left(g_{1} - 1\\right)} k_{1}\\right)} - 4 \\, \\pi^{2} D_{z_{0}} c^{2} \\epsilon_{0}^{2} k_{0} k_{1} \\kappa \\mu_{1} \\omega \\sigma_{1}^{2} J_{m + 1}(\\kappa r) \\cos\\left(-b {\\left(g_{1} - 1\\right)} k_{0}\\right) \\cos\\left(-b {\\left(g_{1} - 1\\right)} k_{1}\\right) \\cos\\left(b g_{1} k_{1}\\right) \\cos\\left(m p\\right) e^{\\left(-i \\, b {\\left(g_{1} - 1\\right)} k_{0} - i \\, b {\\left(g_{1} - 1\\right)} k_{1}\\right)} - D_{z_{0}} c^{4} \\epsilon_{0}^{2} \\epsilon_{1} k_{0} k_{1} \\kappa^{3} \\omega J_{m - 1}(\\kappa r) \\cos\\left(-b {\\left(g_{1} - 1\\right)} k_{0}\\right) \\cos\\left(-b {\\left(g_{1} - 1\\right)} k_{1}\\right) \\cos\\left(b g_{1} k_{1}\\right) \\cos\\left(m p\\right) e^{\\left(-i \\, b {\\left(g_{1} - 1\\right)} k_{0} - i \\, b {\\left(g_{1} - 1\\right)} k_{1}\\right)} + 4 \\, \\pi^{2} D_{z_{0}} c^{2} \\epsilon_{0}^{2} k_{0} k_{1} \\kappa \\mu_{1} \\omega \\sigma_{1}^{2} J_{m - 1}(\\kappa r) \\cos\\left(-b {\\left(g_{1} - 1\\right)} k_{0}\\right) \\cos\\left(-b {\\left(g_{1} - 1\\right)} k_{1}\\right) \\cos\\left(b g_{1} k_{1}\\right) \\cos\\left(m p\\right) e^{\\left(-i \\, b {\\left(g_{1} - 1\\right)} k_{0} - i \\, b {\\left(g_{1} - 1\\right)} k_{1}\\right)} - D_{z_{0}} c^{4} \\epsilon_{0}^{2} \\epsilon_{1} k_{0} k_{1} \\kappa^{3} \\omega J_{m + 1}(\\kappa r) \\cos\\left(-b {\\left(g_{1} - 1\\right)} k_{0}\\right) \\cos\\left(m p\\right) e^{\\left(-i \\, b {\\left(g_{1} - 1\\right)} k_{0} - i \\, b {\\left(g_{1} - 1\\right)} k_{1}\\right)} \\sin\\left(-b {\\left(g_{1} - 1\\right)} k_{1}\\right) \\sin\\left(b g_{1} k_{1}\\right) + 4 \\, \\pi^{2} D_{z_{0}} c^{2} \\epsilon_{0}^{2} k_{0} k_{1} \\kappa \\mu_{1} \\omega \\sigma_{1}^{2} J_{m + 1}(\\kappa r) \\cos\\left(-b {\\left(g_{1} - 1\\right)} k_{0}\\right) \\cos\\left(m p\\right) e^{\\left(-i \\, b {\\left(g_{1} - 1\\right)} k_{0} - i \\, b {\\left(g_{1} - 1\\right)} k_{1}\\right)} \\sin\\left(-b {\\left(g_{1} - 1\\right)} k_{1}\\right) \\sin\\left(b g_{1} k_{1}\\right) + D_{z_{0}} c^{4} \\epsilon_{0}^{2} \\epsilon_{1} k_{0} k_{1} \\kappa^{3} \\omega J_{m - 1}(\\kappa r) \\cos\\left(-b {\\left(g_{1} - 1\\right)} k_{0}\\right) \\cos\\left(m p\\right) e^{\\left(-i \\, b {\\left(g_{1} - 1\\right)} k_{0} - i \\, b {\\left(g_{1} - 1\\right)} k_{1}\\right)} \\sin\\left(-b {\\left(g_{1} - 1\\right)} k_{1}\\right) \\sin\\left(b g_{1} k_{1}\\right) - 4 \\, \\pi^{2} D_{z_{0}} c^{2} \\epsilon_{0}^{2} k_{0} k_{1} \\kappa \\mu_{1} \\omega \\sigma_{1}^{2} J_{m - 1}(\\kappa r) \\cos\\left(-b {\\left(g_{1} - 1\\right)} k_{0}\\right) \\cos\\left(m p\\right) e^{\\left(-i \\, b {\\left(g_{1} - 1\\right)} k_{0} - i \\, b {\\left(g_{1} - 1\\right)} k_{1}\\right)} \\sin\\left(-b {\\left(g_{1} - 1\\right)} k_{1}\\right) \\sin\\left(b g_{1} k_{1}\\right) - 8 \\, \\pi c^{2} \\epsilon_{0}^{2} \\epsilon_{1} k_{1} \\kappa^{2} \\mu_{0} \\omega^{2} \\sigma_{0} \\cos\\left(-b {\\left(g_{1} - 1\\right)} k_{1}\\right) \\cos\\left(b g_{1} k_{1}\\right) e^{\\left(-i \\, b {\\left(g_{1} - 1\\right)} k_{0} - i \\, b {\\left(g_{1} - 1\\right)} k_{1}\\right)} \\sin\\left(-b {\\left(g_{1} - 1\\right)} k_{0}\\right) + 32 \\, \\pi^{3} \\epsilon_{0}^{2} k_{1} \\mu_{0} \\mu_{1} \\omega^{2} \\sigma_{0} \\sigma_{1}^{2} \\cos\\left(-b {\\left(g_{1} - 1\\right)} k_{1}\\right) \\cos\\left(b g_{1} k_{1}\\right) e^{\\left(-i \\, b {\\left(g_{1} - 1\\right)} k_{0} - i \\, b {\\left(g_{1} - 1\\right)} k_{1}\\right)} \\sin\\left(-b {\\left(g_{1} - 1\\right)} k_{0}\\right) + 8 \\, \\pi c^{2} \\epsilon_{0} \\epsilon_{1}^{2} k_{0} \\kappa^{2} \\mu_{1} \\omega^{2} \\sigma_{1} \\cos\\left(-b {\\left(g_{1} - 1\\right)} k_{1}\\right) \\cos\\left(b g_{1} k_{1}\\right) e^{\\left(-i \\, b {\\left(g_{1} - 1\\right)} k_{0} - i \\, b {\\left(g_{1} - 1\\right)} k_{1}\\right)} \\sin\\left(-b {\\left(g_{1} - 1\\right)} k_{1}\\right) - 32 \\, \\pi^{3} \\epsilon_{1}^{2} k_{0} \\mu_{0} \\mu_{1} \\omega^{2} \\sigma_{0}^{2} \\sigma_{1} \\cos\\left(-b {\\left(g_{1} - 1\\right)} k_{1}\\right) \\cos\\left(b g_{1} k_{1}\\right) e^{\\left(-i \\, b {\\left(g_{1} - 1\\right)} k_{0} - i \\, b {\\left(g_{1} - 1\\right)} k_{1}\\right)} \\sin\\left(-b {\\left(g_{1} - 1\\right)} k_{1}\\right) + 8 \\, \\pi c^{2} \\epsilon_{0} \\epsilon_{1}^{2} k_{0} \\kappa^{2} \\mu_{1} \\omega^{2} \\sigma_{1} \\cos\\left(b g_{1} k_{1}\\right) e^{\\left(-i \\, b {\\left(g_{1} - 1\\right)} k_{0} - i \\, b {\\left(g_{1} - 1\\right)} k_{1}\\right)} \\sin\\left(-b {\\left(g_{1} - 1\\right)} k_{1}\\right)^{2} - 32 \\, \\pi^{3} \\epsilon_{1}^{2} k_{0} \\mu_{0} \\mu_{1} \\omega^{2} \\sigma_{0}^{2} \\sigma_{1} \\cos\\left(b g_{1} k_{1}\\right) e^{\\left(-i \\, b {\\left(g_{1} - 1\\right)} k_{0} - i \\, b {\\left(g_{1} - 1\\right)} k_{1}\\right)} \\sin\\left(-b {\\left(g_{1} - 1\\right)} k_{1}\\right)^{2} + 8 \\, \\pi c^{2} \\epsilon_{0} \\epsilon_{1}^{2} k_{0} \\kappa^{2} \\mu_{1} \\omega^{2} \\sigma_{1} \\cos\\left(-b {\\left(g_{1} - 1\\right)} k_{1}\\right) e^{\\left(-i \\, b {\\left(g_{1} - 1\\right)} k_{0} - i \\, b {\\left(g_{1} - 1\\right)} k_{1}\\right)} \\sin\\left(-b {\\left(g_{1} - 1\\right)} k_{1}\\right) \\sin\\left(b g_{1} k_{1}\\right) - 32 \\, \\pi^{3} \\epsilon_{1}^{2} k_{0} \\mu_{0} \\mu_{1} \\omega^{2} \\sigma_{0}^{2} \\sigma_{1} \\cos\\left(-b {\\left(g_{1} - 1\\right)} k_{1}\\right) e^{\\left(-i \\, b {\\left(g_{1} - 1\\right)} k_{0} - i \\, b {\\left(g_{1} - 1\\right)} k_{1}\\right)} \\sin\\left(-b {\\left(g_{1} - 1\\right)} k_{1}\\right) \\sin\\left(b g_{1} k_{1}\\right) + 8 \\, \\pi c^{2} \\epsilon_{0}^{2} \\epsilon_{1} k_{1} \\kappa^{2} \\mu_{0} \\omega^{2} \\sigma_{0} e^{\\left(-i \\, b {\\left(g_{1} - 1\\right)} k_{0} - i \\, b {\\left(g_{1} - 1\\right)} k_{1}\\right)} \\sin\\left(-b {\\left(g_{1} - 1\\right)} k_{0}\\right) \\sin\\left(-b {\\left(g_{1} - 1\\right)} k_{1}\\right) \\sin\\left(b g_{1} k_{1}\\right) - 32 \\, \\pi^{3} \\epsilon_{0}^{2} k_{1} \\mu_{0} \\mu_{1} \\omega^{2} \\sigma_{0} \\sigma_{1}^{2} e^{\\left(-i \\, b {\\left(g_{1} - 1\\right)} k_{0} - i \\, b {\\left(g_{1} - 1\\right)} k_{1}\\right)} \\sin\\left(-b {\\left(g_{1} - 1\\right)} k_{0}\\right) \\sin\\left(-b {\\left(g_{1} - 1\\right)} k_{1}\\right) \\sin\\left(b g_{1} k_{1}\\right) - 8 \\, \\pi c^{2} \\epsilon_{0} \\epsilon_{1}^{2} k_{0} \\kappa^{2} \\mu_{1} \\omega^{2} \\sigma_{1} e^{\\left(-i \\, b {\\left(g_{1} - 1\\right)} k_{0} - i \\, b {\\left(g_{1} - 1\\right)} k_{1}\\right)} \\sin\\left(-b {\\left(g_{1} - 1\\right)} k_{1}\\right)^{2} \\sin\\left(b g_{1} k_{1}\\right) + 32 \\, \\pi^{3} \\epsilon_{1}^{2} k_{0} \\mu_{0} \\mu_{1} \\omega^{2} \\sigma_{0}^{2} \\sigma_{1} e^{\\left(-i \\, b {\\left(g_{1} - 1\\right)} k_{0} - i \\, b {\\left(g_{1} - 1\\right)} k_{1}\\right)} \\sin\\left(-b {\\left(g_{1} - 1\\right)} k_{1}\\right)^{2} \\sin\\left(b g_{1} k_{1}\\right) - 8 \\, \\pi c^{4} \\epsilon_{0} \\epsilon_{1} k_{0} k_{1}^{2} \\kappa^{2} \\sigma_{1} \\cos\\left(-b {\\left(g_{1} - 1\\right)} k_{1}\\right) \\cos\\left(b g_{1} k_{1}\\right) e^{\\left(-i \\, b {\\left(g_{1} - 1\\right)} k_{0}\\right)} + 32 \\, \\pi^{3} c^{2} \\epsilon_{1} k_{0} k_{1}^{2} \\mu_{0} \\sigma_{0}^{2} \\sigma_{1} \\cos\\left(-b {\\left(g_{1} - 1\\right)} k_{1}\\right) \\cos\\left(b g_{1} k_{1}\\right) e^{\\left(-i \\, b {\\left(g_{1} - 1\\right)} k_{0}\\right)} + 8 \\, \\pi c^{4} \\epsilon_{0} \\epsilon_{1} k_{0}^{2} k_{1} \\kappa^{2} \\sigma_{0} \\cos\\left(-b {\\left(g_{1} - 1\\right)} k_{1}\\right) \\cos\\left(b g_{1} k_{1}\\right) e^{\\left(-i \\, b {\\left(g_{1} - 1\\right)} k_{1}\\right)} - 32 \\, \\pi^{3} c^{2} \\epsilon_{0} k_{0}^{2} k_{1} \\mu_{1} \\sigma_{0} \\sigma_{1}^{2} \\cos\\left(-b {\\left(g_{1} - 1\\right)} k_{1}\\right) \\cos\\left(b g_{1} k_{1}\\right) e^{\\left(-i \\, b {\\left(g_{1} - 1\\right)} k_{1}\\right)} + 8 \\, \\pi c^{4} \\epsilon_{0} \\epsilon_{1} k_{0} k_{1}^{2} \\kappa^{2} \\sigma_{1} e^{\\left(-i \\, b {\\left(g_{1} - 1\\right)} k_{0}\\right)} \\sin\\left(-b {\\left(g_{1} - 1\\right)} k_{1}\\right) \\sin\\left(b g_{1} k_{1}\\right) - 32 \\, \\pi^{3} c^{2} \\epsilon_{1} k_{0} k_{1}^{2} \\mu_{0} \\sigma_{0}^{2} \\sigma_{1} e^{\\left(-i \\, b {\\left(g_{1} - 1\\right)} k_{0}\\right)} \\sin\\left(-b {\\left(g_{1} - 1\\right)} k_{1}\\right) \\sin\\left(b g_{1} k_{1}\\right) - 8 \\, \\pi c^{4} \\epsilon_{0} \\epsilon_{1} k_{0}^{2} k_{1} \\kappa^{2} \\sigma_{0} e^{\\left(-i \\, b {\\left(g_{1} - 1\\right)} k_{1}\\right)} \\sin\\left(-b {\\left(g_{1} - 1\\right)} k_{1}\\right) \\sin\\left(b g_{1} k_{1}\\right) + 32 \\, \\pi^{3} c^{2} \\epsilon_{0} k_{0}^{2} k_{1} \\mu_{1} \\sigma_{0} \\sigma_{1}^{2} e^{\\left(-i \\, b {\\left(g_{1} - 1\\right)} k_{1}\\right)} \\sin\\left(-b {\\left(g_{1} - 1\\right)} k_{1}\\right) \\sin\\left(b g_{1} k_{1}\\right)\\right)} J_{m - 1}(\\kappa r) e^{\\left(i \\, b {\\left(g_{1} - 1\\right)} k_{0} + i \\, b {\\left(g_{1} - 1\\right)} k_{1}\\right)} \\sin\\left(k_{1} z\\right)}{{\\left(c^{2} \\epsilon_{0} \\kappa^{2} - 4 \\, \\pi^{2} \\mu_{0} \\sigma_{0}^{2}\\right)} \\epsilon_{1}^{2} k_{0} \\omega {\\left(J_{m + 1}(\\kappa r) - J_{m - 1}(\\kappa r)\\right)} \\cos\\left(b g_{1} k_{1}\\right)}\\right)} \\epsilon_{1}}{2 \\, {\\left(c^{2} \\epsilon_{1} \\kappa^{2} - 4 \\, \\pi^{2} \\mu_{1} \\sigma_{1}^{2}\\right)}}$"
      ],
      "text/plain": [
       "<IPython.core.display.Math object>"
      ]
     },
     "metadata": {},
     "output_type": "display_data"
    }
   ],
   "source": [
    "if 1 < n_layers:\n",
    "    display(Math(latex(E_rho_s [1](r,p,z))))"
   ]
  },
  {
   "cell_type": "code",
   "execution_count": 169,
   "metadata": {},
   "outputs": [],
   "source": [
    "if 2 < n_layers:\n",
    "    display(Math(latex(E_rho_s [2](r,p,z))))"
   ]
  },
  {
   "cell_type": "code",
   "execution_count": 170,
   "metadata": {},
   "outputs": [
    {
     "data": {
      "text/latex": [
       "$\\displaystyle \\frac{{\\left(\\frac{8 \\, \\pi c^{2} k_{0} m \\mu_{0} \\omega \\sigma_{0} J_{m}(\\kappa r) \\cos\\left(k_{0} z\\right) \\sin\\left(m p\\right)}{{\\left(c^{2} k_{0} \\kappa J_{m + 1}(\\kappa r) - c^{2} k_{0} \\kappa J_{m - 1}(\\kappa r)\\right)} \\cos\\left(m p\\right)} + D_{z_{0}} c^{2} k_{0} m J_{m}(\\kappa r) \\sin\\left(m p\\right) \\sin\\left(k_{0} z\\right) - 4 \\, \\pi \\mu_{0} \\omega r \\sigma_{0} \\cos\\left(k_{0} z\\right) - 4 \\, \\pi \\mu_{0} \\omega r \\sigma_{0} \\sin\\left(k_{0} z\\right)\\right)} \\epsilon_{0}}{{\\left(c^{2} \\epsilon_{0} \\kappa^{2} - 4 \\, \\pi^{2} \\mu_{0} \\sigma_{0}^{2}\\right)} r}$"
      ],
      "text/plain": [
       "<IPython.core.display.Math object>"
      ]
     },
     "metadata": {},
     "output_type": "display_data"
    }
   ],
   "source": [
    "if 0 < n_layers:\n",
    "    display(Math(latex(E_phi_s [0](r,p,z))))"
   ]
  },
  {
   "cell_type": "code",
   "execution_count": 171,
   "metadata": {},
   "outputs": [
    {
     "data": {
      "text/latex": [
       "$\\displaystyle -\\frac{{\\left(4 \\, \\pi \\mu_{1} \\omega {\\rho} \\sigma_{1} \\cos\\left(k_{1} z\\right) - \\frac{{\\left(8 \\, \\pi \\mu_{1} \\omega \\sigma_{1} {\\left(\\cos\\left(-b {\\left(g_{1} - 1\\right)} k_{1} + b g_{1} k_{1}\\right) + \\sin\\left(-b {\\left(g_{1} - 1\\right)} k_{1} + b g_{1} k_{1}\\right)\\right)} - {\\left(\\frac{{\\left(D_{z_{0}} c^{4} \\epsilon_{0}^{2} \\epsilon_{1} k_{0} k_{1} \\kappa^{3} \\omega J_{m + 1}(\\kappa r) \\cos\\left(-b {\\left(g_{1} - 1\\right)} k_{0}\\right) \\cos\\left(-b {\\left(g_{1} - 1\\right)} k_{1}\\right) \\cos\\left(b g_{1} k_{1}\\right) \\cos\\left(m p\\right) e^{\\left(-i \\, b {\\left(g_{1} - 1\\right)} k_{0} - i \\, b {\\left(g_{1} - 1\\right)} k_{1}\\right)} - 4 \\, \\pi^{2} D_{z_{0}} c^{2} \\epsilon_{0}^{2} k_{0} k_{1} \\kappa \\mu_{1} \\omega \\sigma_{1}^{2} J_{m + 1}(\\kappa r) \\cos\\left(-b {\\left(g_{1} - 1\\right)} k_{0}\\right) \\cos\\left(-b {\\left(g_{1} - 1\\right)} k_{1}\\right) \\cos\\left(b g_{1} k_{1}\\right) \\cos\\left(m p\\right) e^{\\left(-i \\, b {\\left(g_{1} - 1\\right)} k_{0} - i \\, b {\\left(g_{1} - 1\\right)} k_{1}\\right)} - D_{z_{0}} c^{4} \\epsilon_{0}^{2} \\epsilon_{1} k_{0} k_{1} \\kappa^{3} \\omega J_{m - 1}(\\kappa r) \\cos\\left(-b {\\left(g_{1} - 1\\right)} k_{0}\\right) \\cos\\left(-b {\\left(g_{1} - 1\\right)} k_{1}\\right) \\cos\\left(b g_{1} k_{1}\\right) \\cos\\left(m p\\right) e^{\\left(-i \\, b {\\left(g_{1} - 1\\right)} k_{0} - i \\, b {\\left(g_{1} - 1\\right)} k_{1}\\right)} + 4 \\, \\pi^{2} D_{z_{0}} c^{2} \\epsilon_{0}^{2} k_{0} k_{1} \\kappa \\mu_{1} \\omega \\sigma_{1}^{2} J_{m - 1}(\\kappa r) \\cos\\left(-b {\\left(g_{1} - 1\\right)} k_{0}\\right) \\cos\\left(-b {\\left(g_{1} - 1\\right)} k_{1}\\right) \\cos\\left(b g_{1} k_{1}\\right) \\cos\\left(m p\\right) e^{\\left(-i \\, b {\\left(g_{1} - 1\\right)} k_{0} - i \\, b {\\left(g_{1} - 1\\right)} k_{1}\\right)} - D_{z_{0}} c^{4} \\epsilon_{0}^{2} \\epsilon_{1} k_{0} k_{1} \\kappa^{3} \\omega J_{m + 1}(\\kappa r) \\cos\\left(-b {\\left(g_{1} - 1\\right)} k_{0}\\right) \\cos\\left(m p\\right) e^{\\left(-i \\, b {\\left(g_{1} - 1\\right)} k_{0} - i \\, b {\\left(g_{1} - 1\\right)} k_{1}\\right)} \\sin\\left(-b {\\left(g_{1} - 1\\right)} k_{1}\\right) \\sin\\left(b g_{1} k_{1}\\right) + 4 \\, \\pi^{2} D_{z_{0}} c^{2} \\epsilon_{0}^{2} k_{0} k_{1} \\kappa \\mu_{1} \\omega \\sigma_{1}^{2} J_{m + 1}(\\kappa r) \\cos\\left(-b {\\left(g_{1} - 1\\right)} k_{0}\\right) \\cos\\left(m p\\right) e^{\\left(-i \\, b {\\left(g_{1} - 1\\right)} k_{0} - i \\, b {\\left(g_{1} - 1\\right)} k_{1}\\right)} \\sin\\left(-b {\\left(g_{1} - 1\\right)} k_{1}\\right) \\sin\\left(b g_{1} k_{1}\\right) + D_{z_{0}} c^{4} \\epsilon_{0}^{2} \\epsilon_{1} k_{0} k_{1} \\kappa^{3} \\omega J_{m - 1}(\\kappa r) \\cos\\left(-b {\\left(g_{1} - 1\\right)} k_{0}\\right) \\cos\\left(m p\\right) e^{\\left(-i \\, b {\\left(g_{1} - 1\\right)} k_{0} - i \\, b {\\left(g_{1} - 1\\right)} k_{1}\\right)} \\sin\\left(-b {\\left(g_{1} - 1\\right)} k_{1}\\right) \\sin\\left(b g_{1} k_{1}\\right) - 4 \\, \\pi^{2} D_{z_{0}} c^{2} \\epsilon_{0}^{2} k_{0} k_{1} \\kappa \\mu_{1} \\omega \\sigma_{1}^{2} J_{m - 1}(\\kappa r) \\cos\\left(-b {\\left(g_{1} - 1\\right)} k_{0}\\right) \\cos\\left(m p\\right) e^{\\left(-i \\, b {\\left(g_{1} - 1\\right)} k_{0} - i \\, b {\\left(g_{1} - 1\\right)} k_{1}\\right)} \\sin\\left(-b {\\left(g_{1} - 1\\right)} k_{1}\\right) \\sin\\left(b g_{1} k_{1}\\right) - 8 \\, \\pi c^{2} \\epsilon_{0}^{2} \\epsilon_{1} k_{1} \\kappa^{2} \\mu_{0} \\omega^{2} \\sigma_{0} \\cos\\left(-b {\\left(g_{1} - 1\\right)} k_{1}\\right) \\cos\\left(b g_{1} k_{1}\\right) e^{\\left(-i \\, b {\\left(g_{1} - 1\\right)} k_{0} - i \\, b {\\left(g_{1} - 1\\right)} k_{1}\\right)} \\sin\\left(-b {\\left(g_{1} - 1\\right)} k_{0}\\right) + 32 \\, \\pi^{3} \\epsilon_{0}^{2} k_{1} \\mu_{0} \\mu_{1} \\omega^{2} \\sigma_{0} \\sigma_{1}^{2} \\cos\\left(-b {\\left(g_{1} - 1\\right)} k_{1}\\right) \\cos\\left(b g_{1} k_{1}\\right) e^{\\left(-i \\, b {\\left(g_{1} - 1\\right)} k_{0} - i \\, b {\\left(g_{1} - 1\\right)} k_{1}\\right)} \\sin\\left(-b {\\left(g_{1} - 1\\right)} k_{0}\\right) + 8 \\, \\pi c^{2} \\epsilon_{0} \\epsilon_{1}^{2} k_{0} \\kappa^{2} \\mu_{1} \\omega^{2} \\sigma_{1} \\cos\\left(-b {\\left(g_{1} - 1\\right)} k_{1}\\right) \\cos\\left(b g_{1} k_{1}\\right) e^{\\left(-i \\, b {\\left(g_{1} - 1\\right)} k_{0} - i \\, b {\\left(g_{1} - 1\\right)} k_{1}\\right)} \\sin\\left(-b {\\left(g_{1} - 1\\right)} k_{1}\\right) - 32 \\, \\pi^{3} \\epsilon_{1}^{2} k_{0} \\mu_{0} \\mu_{1} \\omega^{2} \\sigma_{0}^{2} \\sigma_{1} \\cos\\left(-b {\\left(g_{1} - 1\\right)} k_{1}\\right) \\cos\\left(b g_{1} k_{1}\\right) e^{\\left(-i \\, b {\\left(g_{1} - 1\\right)} k_{0} - i \\, b {\\left(g_{1} - 1\\right)} k_{1}\\right)} \\sin\\left(-b {\\left(g_{1} - 1\\right)} k_{1}\\right) + 8 \\, \\pi c^{2} \\epsilon_{0} \\epsilon_{1}^{2} k_{0} \\kappa^{2} \\mu_{1} \\omega^{2} \\sigma_{1} \\cos\\left(b g_{1} k_{1}\\right) e^{\\left(-i \\, b {\\left(g_{1} - 1\\right)} k_{0} - i \\, b {\\left(g_{1} - 1\\right)} k_{1}\\right)} \\sin\\left(-b {\\left(g_{1} - 1\\right)} k_{1}\\right)^{2} - 32 \\, \\pi^{3} \\epsilon_{1}^{2} k_{0} \\mu_{0} \\mu_{1} \\omega^{2} \\sigma_{0}^{2} \\sigma_{1} \\cos\\left(b g_{1} k_{1}\\right) e^{\\left(-i \\, b {\\left(g_{1} - 1\\right)} k_{0} - i \\, b {\\left(g_{1} - 1\\right)} k_{1}\\right)} \\sin\\left(-b {\\left(g_{1} - 1\\right)} k_{1}\\right)^{2} + 8 \\, \\pi c^{2} \\epsilon_{0} \\epsilon_{1}^{2} k_{0} \\kappa^{2} \\mu_{1} \\omega^{2} \\sigma_{1} \\cos\\left(-b {\\left(g_{1} - 1\\right)} k_{1}\\right) e^{\\left(-i \\, b {\\left(g_{1} - 1\\right)} k_{0} - i \\, b {\\left(g_{1} - 1\\right)} k_{1}\\right)} \\sin\\left(-b {\\left(g_{1} - 1\\right)} k_{1}\\right) \\sin\\left(b g_{1} k_{1}\\right) - 32 \\, \\pi^{3} \\epsilon_{1}^{2} k_{0} \\mu_{0} \\mu_{1} \\omega^{2} \\sigma_{0}^{2} \\sigma_{1} \\cos\\left(-b {\\left(g_{1} - 1\\right)} k_{1}\\right) e^{\\left(-i \\, b {\\left(g_{1} - 1\\right)} k_{0} - i \\, b {\\left(g_{1} - 1\\right)} k_{1}\\right)} \\sin\\left(-b {\\left(g_{1} - 1\\right)} k_{1}\\right) \\sin\\left(b g_{1} k_{1}\\right) + 8 \\, \\pi c^{2} \\epsilon_{0}^{2} \\epsilon_{1} k_{1} \\kappa^{2} \\mu_{0} \\omega^{2} \\sigma_{0} e^{\\left(-i \\, b {\\left(g_{1} - 1\\right)} k_{0} - i \\, b {\\left(g_{1} - 1\\right)} k_{1}\\right)} \\sin\\left(-b {\\left(g_{1} - 1\\right)} k_{0}\\right) \\sin\\left(-b {\\left(g_{1} - 1\\right)} k_{1}\\right) \\sin\\left(b g_{1} k_{1}\\right) - 32 \\, \\pi^{3} \\epsilon_{0}^{2} k_{1} \\mu_{0} \\mu_{1} \\omega^{2} \\sigma_{0} \\sigma_{1}^{2} e^{\\left(-i \\, b {\\left(g_{1} - 1\\right)} k_{0} - i \\, b {\\left(g_{1} - 1\\right)} k_{1}\\right)} \\sin\\left(-b {\\left(g_{1} - 1\\right)} k_{0}\\right) \\sin\\left(-b {\\left(g_{1} - 1\\right)} k_{1}\\right) \\sin\\left(b g_{1} k_{1}\\right) - 8 \\, \\pi c^{2} \\epsilon_{0} \\epsilon_{1}^{2} k_{0} \\kappa^{2} \\mu_{1} \\omega^{2} \\sigma_{1} e^{\\left(-i \\, b {\\left(g_{1} - 1\\right)} k_{0} - i \\, b {\\left(g_{1} - 1\\right)} k_{1}\\right)} \\sin\\left(-b {\\left(g_{1} - 1\\right)} k_{1}\\right)^{2} \\sin\\left(b g_{1} k_{1}\\right) + 32 \\, \\pi^{3} \\epsilon_{1}^{2} k_{0} \\mu_{0} \\mu_{1} \\omega^{2} \\sigma_{0}^{2} \\sigma_{1} e^{\\left(-i \\, b {\\left(g_{1} - 1\\right)} k_{0} - i \\, b {\\left(g_{1} - 1\\right)} k_{1}\\right)} \\sin\\left(-b {\\left(g_{1} - 1\\right)} k_{1}\\right)^{2} \\sin\\left(b g_{1} k_{1}\\right) - 8 \\, \\pi c^{4} \\epsilon_{0} \\epsilon_{1} k_{0} k_{1}^{2} \\kappa^{2} \\sigma_{1} \\cos\\left(-b {\\left(g_{1} - 1\\right)} k_{1}\\right) \\cos\\left(b g_{1} k_{1}\\right) e^{\\left(-i \\, b {\\left(g_{1} - 1\\right)} k_{0}\\right)} + 32 \\, \\pi^{3} c^{2} \\epsilon_{1} k_{0} k_{1}^{2} \\mu_{0} \\sigma_{0}^{2} \\sigma_{1} \\cos\\left(-b {\\left(g_{1} - 1\\right)} k_{1}\\right) \\cos\\left(b g_{1} k_{1}\\right) e^{\\left(-i \\, b {\\left(g_{1} - 1\\right)} k_{0}\\right)} + 8 \\, \\pi c^{4} \\epsilon_{0} \\epsilon_{1} k_{0}^{2} k_{1} \\kappa^{2} \\sigma_{0} \\cos\\left(-b {\\left(g_{1} - 1\\right)} k_{1}\\right) \\cos\\left(b g_{1} k_{1}\\right) e^{\\left(-i \\, b {\\left(g_{1} - 1\\right)} k_{1}\\right)} - 32 \\, \\pi^{3} c^{2} \\epsilon_{0} k_{0}^{2} k_{1} \\mu_{1} \\sigma_{0} \\sigma_{1}^{2} \\cos\\left(-b {\\left(g_{1} - 1\\right)} k_{1}\\right) \\cos\\left(b g_{1} k_{1}\\right) e^{\\left(-i \\, b {\\left(g_{1} - 1\\right)} k_{1}\\right)} + 8 \\, \\pi c^{4} \\epsilon_{0} \\epsilon_{1} k_{0} k_{1}^{2} \\kappa^{2} \\sigma_{1} e^{\\left(-i \\, b {\\left(g_{1} - 1\\right)} k_{0}\\right)} \\sin\\left(-b {\\left(g_{1} - 1\\right)} k_{1}\\right) \\sin\\left(b g_{1} k_{1}\\right) - 32 \\, \\pi^{3} c^{2} \\epsilon_{1} k_{0} k_{1}^{2} \\mu_{0} \\sigma_{0}^{2} \\sigma_{1} e^{\\left(-i \\, b {\\left(g_{1} - 1\\right)} k_{0}\\right)} \\sin\\left(-b {\\left(g_{1} - 1\\right)} k_{1}\\right) \\sin\\left(b g_{1} k_{1}\\right) - 8 \\, \\pi c^{4} \\epsilon_{0} \\epsilon_{1} k_{0}^{2} k_{1} \\kappa^{2} \\sigma_{0} e^{\\left(-i \\, b {\\left(g_{1} - 1\\right)} k_{1}\\right)} \\sin\\left(-b {\\left(g_{1} - 1\\right)} k_{1}\\right) \\sin\\left(b g_{1} k_{1}\\right) + 32 \\, \\pi^{3} c^{2} \\epsilon_{0} k_{0}^{2} k_{1} \\mu_{1} \\sigma_{0} \\sigma_{1}^{2} e^{\\left(-i \\, b {\\left(g_{1} - 1\\right)} k_{1}\\right)} \\sin\\left(-b {\\left(g_{1} - 1\\right)} k_{1}\\right) \\sin\\left(b g_{1} k_{1}\\right)\\right)} J_{m + 1}(\\kappa {\\rho}) e^{\\left(i \\, b {\\left(g_{1} - 1\\right)} k_{0} + i \\, b {\\left(g_{1} - 1\\right)} k_{1}\\right)} \\sin\\left(-b {\\left(g_{1} - 1\\right)} k_{1} + b g_{1} k_{1}\\right)}{{\\left(c^{2} \\epsilon_{0} \\kappa^{2} - 4 \\, \\pi^{2} \\mu_{0} \\sigma_{0}^{2}\\right)} \\epsilon_{1}^{2} k_{0} \\omega {\\left(J_{m + 1}(\\kappa r) - J_{m - 1}(\\kappa r)\\right)} \\cos\\left(b g_{1} k_{1}\\right) \\cos\\left(m p\\right)} - \\frac{{\\left(D_{z_{0}} c^{4} \\epsilon_{0}^{2} \\epsilon_{1} k_{0} k_{1} \\kappa^{3} \\omega J_{m + 1}(\\kappa r) \\cos\\left(-b {\\left(g_{1} - 1\\right)} k_{0}\\right) \\cos\\left(-b {\\left(g_{1} - 1\\right)} k_{1}\\right) \\cos\\left(b g_{1} k_{1}\\right) \\cos\\left(m p\\right) e^{\\left(-i \\, b {\\left(g_{1} - 1\\right)} k_{0} - i \\, b {\\left(g_{1} - 1\\right)} k_{1}\\right)} - 4 \\, \\pi^{2} D_{z_{0}} c^{2} \\epsilon_{0}^{2} k_{0} k_{1} \\kappa \\mu_{1} \\omega \\sigma_{1}^{2} J_{m + 1}(\\kappa r) \\cos\\left(-b {\\left(g_{1} - 1\\right)} k_{0}\\right) \\cos\\left(-b {\\left(g_{1} - 1\\right)} k_{1}\\right) \\cos\\left(b g_{1} k_{1}\\right) \\cos\\left(m p\\right) e^{\\left(-i \\, b {\\left(g_{1} - 1\\right)} k_{0} - i \\, b {\\left(g_{1} - 1\\right)} k_{1}\\right)} - D_{z_{0}} c^{4} \\epsilon_{0}^{2} \\epsilon_{1} k_{0} k_{1} \\kappa^{3} \\omega J_{m - 1}(\\kappa r) \\cos\\left(-b {\\left(g_{1} - 1\\right)} k_{0}\\right) \\cos\\left(-b {\\left(g_{1} - 1\\right)} k_{1}\\right) \\cos\\left(b g_{1} k_{1}\\right) \\cos\\left(m p\\right) e^{\\left(-i \\, b {\\left(g_{1} - 1\\right)} k_{0} - i \\, b {\\left(g_{1} - 1\\right)} k_{1}\\right)} + 4 \\, \\pi^{2} D_{z_{0}} c^{2} \\epsilon_{0}^{2} k_{0} k_{1} \\kappa \\mu_{1} \\omega \\sigma_{1}^{2} J_{m - 1}(\\kappa r) \\cos\\left(-b {\\left(g_{1} - 1\\right)} k_{0}\\right) \\cos\\left(-b {\\left(g_{1} - 1\\right)} k_{1}\\right) \\cos\\left(b g_{1} k_{1}\\right) \\cos\\left(m p\\right) e^{\\left(-i \\, b {\\left(g_{1} - 1\\right)} k_{0} - i \\, b {\\left(g_{1} - 1\\right)} k_{1}\\right)} - D_{z_{0}} c^{4} \\epsilon_{0}^{2} \\epsilon_{1} k_{0} k_{1} \\kappa^{3} \\omega J_{m + 1}(\\kappa r) \\cos\\left(-b {\\left(g_{1} - 1\\right)} k_{0}\\right) \\cos\\left(m p\\right) e^{\\left(-i \\, b {\\left(g_{1} - 1\\right)} k_{0} - i \\, b {\\left(g_{1} - 1\\right)} k_{1}\\right)} \\sin\\left(-b {\\left(g_{1} - 1\\right)} k_{1}\\right) \\sin\\left(b g_{1} k_{1}\\right) + 4 \\, \\pi^{2} D_{z_{0}} c^{2} \\epsilon_{0}^{2} k_{0} k_{1} \\kappa \\mu_{1} \\omega \\sigma_{1}^{2} J_{m + 1}(\\kappa r) \\cos\\left(-b {\\left(g_{1} - 1\\right)} k_{0}\\right) \\cos\\left(m p\\right) e^{\\left(-i \\, b {\\left(g_{1} - 1\\right)} k_{0} - i \\, b {\\left(g_{1} - 1\\right)} k_{1}\\right)} \\sin\\left(-b {\\left(g_{1} - 1\\right)} k_{1}\\right) \\sin\\left(b g_{1} k_{1}\\right) + D_{z_{0}} c^{4} \\epsilon_{0}^{2} \\epsilon_{1} k_{0} k_{1} \\kappa^{3} \\omega J_{m - 1}(\\kappa r) \\cos\\left(-b {\\left(g_{1} - 1\\right)} k_{0}\\right) \\cos\\left(m p\\right) e^{\\left(-i \\, b {\\left(g_{1} - 1\\right)} k_{0} - i \\, b {\\left(g_{1} - 1\\right)} k_{1}\\right)} \\sin\\left(-b {\\left(g_{1} - 1\\right)} k_{1}\\right) \\sin\\left(b g_{1} k_{1}\\right) - 4 \\, \\pi^{2} D_{z_{0}} c^{2} \\epsilon_{0}^{2} k_{0} k_{1} \\kappa \\mu_{1} \\omega \\sigma_{1}^{2} J_{m - 1}(\\kappa r) \\cos\\left(-b {\\left(g_{1} - 1\\right)} k_{0}\\right) \\cos\\left(m p\\right) e^{\\left(-i \\, b {\\left(g_{1} - 1\\right)} k_{0} - i \\, b {\\left(g_{1} - 1\\right)} k_{1}\\right)} \\sin\\left(-b {\\left(g_{1} - 1\\right)} k_{1}\\right) \\sin\\left(b g_{1} k_{1}\\right) - 8 \\, \\pi c^{2} \\epsilon_{0}^{2} \\epsilon_{1} k_{1} \\kappa^{2} \\mu_{0} \\omega^{2} \\sigma_{0} \\cos\\left(-b {\\left(g_{1} - 1\\right)} k_{1}\\right) \\cos\\left(b g_{1} k_{1}\\right) e^{\\left(-i \\, b {\\left(g_{1} - 1\\right)} k_{0} - i \\, b {\\left(g_{1} - 1\\right)} k_{1}\\right)} \\sin\\left(-b {\\left(g_{1} - 1\\right)} k_{0}\\right) + 32 \\, \\pi^{3} \\epsilon_{0}^{2} k_{1} \\mu_{0} \\mu_{1} \\omega^{2} \\sigma_{0} \\sigma_{1}^{2} \\cos\\left(-b {\\left(g_{1} - 1\\right)} k_{1}\\right) \\cos\\left(b g_{1} k_{1}\\right) e^{\\left(-i \\, b {\\left(g_{1} - 1\\right)} k_{0} - i \\, b {\\left(g_{1} - 1\\right)} k_{1}\\right)} \\sin\\left(-b {\\left(g_{1} - 1\\right)} k_{0}\\right) + 8 \\, \\pi c^{2} \\epsilon_{0} \\epsilon_{1}^{2} k_{0} \\kappa^{2} \\mu_{1} \\omega^{2} \\sigma_{1} \\cos\\left(-b {\\left(g_{1} - 1\\right)} k_{1}\\right) \\cos\\left(b g_{1} k_{1}\\right) e^{\\left(-i \\, b {\\left(g_{1} - 1\\right)} k_{0} - i \\, b {\\left(g_{1} - 1\\right)} k_{1}\\right)} \\sin\\left(-b {\\left(g_{1} - 1\\right)} k_{1}\\right) - 32 \\, \\pi^{3} \\epsilon_{1}^{2} k_{0} \\mu_{0} \\mu_{1} \\omega^{2} \\sigma_{0}^{2} \\sigma_{1} \\cos\\left(-b {\\left(g_{1} - 1\\right)} k_{1}\\right) \\cos\\left(b g_{1} k_{1}\\right) e^{\\left(-i \\, b {\\left(g_{1} - 1\\right)} k_{0} - i \\, b {\\left(g_{1} - 1\\right)} k_{1}\\right)} \\sin\\left(-b {\\left(g_{1} - 1\\right)} k_{1}\\right) + 8 \\, \\pi c^{2} \\epsilon_{0} \\epsilon_{1}^{2} k_{0} \\kappa^{2} \\mu_{1} \\omega^{2} \\sigma_{1} \\cos\\left(b g_{1} k_{1}\\right) e^{\\left(-i \\, b {\\left(g_{1} - 1\\right)} k_{0} - i \\, b {\\left(g_{1} - 1\\right)} k_{1}\\right)} \\sin\\left(-b {\\left(g_{1} - 1\\right)} k_{1}\\right)^{2} - 32 \\, \\pi^{3} \\epsilon_{1}^{2} k_{0} \\mu_{0} \\mu_{1} \\omega^{2} \\sigma_{0}^{2} \\sigma_{1} \\cos\\left(b g_{1} k_{1}\\right) e^{\\left(-i \\, b {\\left(g_{1} - 1\\right)} k_{0} - i \\, b {\\left(g_{1} - 1\\right)} k_{1}\\right)} \\sin\\left(-b {\\left(g_{1} - 1\\right)} k_{1}\\right)^{2} + 8 \\, \\pi c^{2} \\epsilon_{0} \\epsilon_{1}^{2} k_{0} \\kappa^{2} \\mu_{1} \\omega^{2} \\sigma_{1} \\cos\\left(-b {\\left(g_{1} - 1\\right)} k_{1}\\right) e^{\\left(-i \\, b {\\left(g_{1} - 1\\right)} k_{0} - i \\, b {\\left(g_{1} - 1\\right)} k_{1}\\right)} \\sin\\left(-b {\\left(g_{1} - 1\\right)} k_{1}\\right) \\sin\\left(b g_{1} k_{1}\\right) - 32 \\, \\pi^{3} \\epsilon_{1}^{2} k_{0} \\mu_{0} \\mu_{1} \\omega^{2} \\sigma_{0}^{2} \\sigma_{1} \\cos\\left(-b {\\left(g_{1} - 1\\right)} k_{1}\\right) e^{\\left(-i \\, b {\\left(g_{1} - 1\\right)} k_{0} - i \\, b {\\left(g_{1} - 1\\right)} k_{1}\\right)} \\sin\\left(-b {\\left(g_{1} - 1\\right)} k_{1}\\right) \\sin\\left(b g_{1} k_{1}\\right) + 8 \\, \\pi c^{2} \\epsilon_{0}^{2} \\epsilon_{1} k_{1} \\kappa^{2} \\mu_{0} \\omega^{2} \\sigma_{0} e^{\\left(-i \\, b {\\left(g_{1} - 1\\right)} k_{0} - i \\, b {\\left(g_{1} - 1\\right)} k_{1}\\right)} \\sin\\left(-b {\\left(g_{1} - 1\\right)} k_{0}\\right) \\sin\\left(-b {\\left(g_{1} - 1\\right)} k_{1}\\right) \\sin\\left(b g_{1} k_{1}\\right) - 32 \\, \\pi^{3} \\epsilon_{0}^{2} k_{1} \\mu_{0} \\mu_{1} \\omega^{2} \\sigma_{0} \\sigma_{1}^{2} e^{\\left(-i \\, b {\\left(g_{1} - 1\\right)} k_{0} - i \\, b {\\left(g_{1} - 1\\right)} k_{1}\\right)} \\sin\\left(-b {\\left(g_{1} - 1\\right)} k_{0}\\right) \\sin\\left(-b {\\left(g_{1} - 1\\right)} k_{1}\\right) \\sin\\left(b g_{1} k_{1}\\right) - 8 \\, \\pi c^{2} \\epsilon_{0} \\epsilon_{1}^{2} k_{0} \\kappa^{2} \\mu_{1} \\omega^{2} \\sigma_{1} e^{\\left(-i \\, b {\\left(g_{1} - 1\\right)} k_{0} - i \\, b {\\left(g_{1} - 1\\right)} k_{1}\\right)} \\sin\\left(-b {\\left(g_{1} - 1\\right)} k_{1}\\right)^{2} \\sin\\left(b g_{1} k_{1}\\right) + 32 \\, \\pi^{3} \\epsilon_{1}^{2} k_{0} \\mu_{0} \\mu_{1} \\omega^{2} \\sigma_{0}^{2} \\sigma_{1} e^{\\left(-i \\, b {\\left(g_{1} - 1\\right)} k_{0} - i \\, b {\\left(g_{1} - 1\\right)} k_{1}\\right)} \\sin\\left(-b {\\left(g_{1} - 1\\right)} k_{1}\\right)^{2} \\sin\\left(b g_{1} k_{1}\\right) - 8 \\, \\pi c^{4} \\epsilon_{0} \\epsilon_{1} k_{0} k_{1}^{2} \\kappa^{2} \\sigma_{1} \\cos\\left(-b {\\left(g_{1} - 1\\right)} k_{1}\\right) \\cos\\left(b g_{1} k_{1}\\right) e^{\\left(-i \\, b {\\left(g_{1} - 1\\right)} k_{0}\\right)} + 32 \\, \\pi^{3} c^{2} \\epsilon_{1} k_{0} k_{1}^{2} \\mu_{0} \\sigma_{0}^{2} \\sigma_{1} \\cos\\left(-b {\\left(g_{1} - 1\\right)} k_{1}\\right) \\cos\\left(b g_{1} k_{1}\\right) e^{\\left(-i \\, b {\\left(g_{1} - 1\\right)} k_{0}\\right)} + 8 \\, \\pi c^{4} \\epsilon_{0} \\epsilon_{1} k_{0}^{2} k_{1} \\kappa^{2} \\sigma_{0} \\cos\\left(-b {\\left(g_{1} - 1\\right)} k_{1}\\right) \\cos\\left(b g_{1} k_{1}\\right) e^{\\left(-i \\, b {\\left(g_{1} - 1\\right)} k_{1}\\right)} - 32 \\, \\pi^{3} c^{2} \\epsilon_{0} k_{0}^{2} k_{1} \\mu_{1} \\sigma_{0} \\sigma_{1}^{2} \\cos\\left(-b {\\left(g_{1} - 1\\right)} k_{1}\\right) \\cos\\left(b g_{1} k_{1}\\right) e^{\\left(-i \\, b {\\left(g_{1} - 1\\right)} k_{1}\\right)} + 8 \\, \\pi c^{4} \\epsilon_{0} \\epsilon_{1} k_{0} k_{1}^{2} \\kappa^{2} \\sigma_{1} e^{\\left(-i \\, b {\\left(g_{1} - 1\\right)} k_{0}\\right)} \\sin\\left(-b {\\left(g_{1} - 1\\right)} k_{1}\\right) \\sin\\left(b g_{1} k_{1}\\right) - 32 \\, \\pi^{3} c^{2} \\epsilon_{1} k_{0} k_{1}^{2} \\mu_{0} \\sigma_{0}^{2} \\sigma_{1} e^{\\left(-i \\, b {\\left(g_{1} - 1\\right)} k_{0}\\right)} \\sin\\left(-b {\\left(g_{1} - 1\\right)} k_{1}\\right) \\sin\\left(b g_{1} k_{1}\\right) - 8 \\, \\pi c^{4} \\epsilon_{0} \\epsilon_{1} k_{0}^{2} k_{1} \\kappa^{2} \\sigma_{0} e^{\\left(-i \\, b {\\left(g_{1} - 1\\right)} k_{1}\\right)} \\sin\\left(-b {\\left(g_{1} - 1\\right)} k_{1}\\right) \\sin\\left(b g_{1} k_{1}\\right) + 32 \\, \\pi^{3} c^{2} \\epsilon_{0} k_{0}^{2} k_{1} \\mu_{1} \\sigma_{0} \\sigma_{1}^{2} e^{\\left(-i \\, b {\\left(g_{1} - 1\\right)} k_{1}\\right)} \\sin\\left(-b {\\left(g_{1} - 1\\right)} k_{1}\\right) \\sin\\left(b g_{1} k_{1}\\right)\\right)} J_{m - 1}(\\kappa {\\rho}) e^{\\left(i \\, b {\\left(g_{1} - 1\\right)} k_{0} + i \\, b {\\left(g_{1} - 1\\right)} k_{1}\\right)} \\sin\\left(-b {\\left(g_{1} - 1\\right)} k_{1} + b g_{1} k_{1}\\right)}{{\\left(c^{2} \\epsilon_{0} \\kappa^{2} - 4 \\, \\pi^{2} \\mu_{0} \\sigma_{0}^{2}\\right)} \\epsilon_{1}^{2} k_{0} \\omega {\\left(J_{m + 1}(\\kappa r) - J_{m - 1}(\\kappa r)\\right)} \\cos\\left(b g_{1} k_{1}\\right) \\cos\\left(m p\\right)}\\right)} \\cos\\left(m \\varphi\\right)\\right)} c^{2} k_{1} m J_{m}(\\kappa {\\rho}) \\cos\\left(k_{1} z\\right) \\sin\\left(m \\varphi\\right)}{{\\left(c^{2} k_{1} \\kappa J_{m + 1}(\\kappa {\\rho}) \\cos\\left(-b {\\left(g_{1} - 1\\right)} k_{1} + b g_{1} k_{1}\\right) - c^{2} k_{1} \\kappa J_{m - 1}(\\kappa {\\rho}) \\cos\\left(-b {\\left(g_{1} - 1\\right)} k_{1} + b g_{1} k_{1}\\right)\\right)} \\cos\\left(m \\varphi\\right)} + 4 \\, \\pi \\mu_{1} \\omega {\\rho} \\sigma_{1} \\sin\\left(k_{1} z\\right) - \\frac{{\\left(D_{z_{0}} c^{4} \\epsilon_{0}^{2} \\epsilon_{1} k_{0} k_{1} \\kappa^{3} \\omega J_{m + 1}(\\kappa r) \\cos\\left(-b {\\left(g_{1} - 1\\right)} k_{0}\\right) \\cos\\left(-b {\\left(g_{1} - 1\\right)} k_{1}\\right) \\cos\\left(b g_{1} k_{1}\\right) \\cos\\left(m p\\right) e^{\\left(-i \\, b {\\left(g_{1} - 1\\right)} k_{0} - i \\, b {\\left(g_{1} - 1\\right)} k_{1}\\right)} - 4 \\, \\pi^{2} D_{z_{0}} c^{2} \\epsilon_{0}^{2} k_{0} k_{1} \\kappa \\mu_{1} \\omega \\sigma_{1}^{2} J_{m + 1}(\\kappa r) \\cos\\left(-b {\\left(g_{1} - 1\\right)} k_{0}\\right) \\cos\\left(-b {\\left(g_{1} - 1\\right)} k_{1}\\right) \\cos\\left(b g_{1} k_{1}\\right) \\cos\\left(m p\\right) e^{\\left(-i \\, b {\\left(g_{1} - 1\\right)} k_{0} - i \\, b {\\left(g_{1} - 1\\right)} k_{1}\\right)} - D_{z_{0}} c^{4} \\epsilon_{0}^{2} \\epsilon_{1} k_{0} k_{1} \\kappa^{3} \\omega J_{m - 1}(\\kappa r) \\cos\\left(-b {\\left(g_{1} - 1\\right)} k_{0}\\right) \\cos\\left(-b {\\left(g_{1} - 1\\right)} k_{1}\\right) \\cos\\left(b g_{1} k_{1}\\right) \\cos\\left(m p\\right) e^{\\left(-i \\, b {\\left(g_{1} - 1\\right)} k_{0} - i \\, b {\\left(g_{1} - 1\\right)} k_{1}\\right)} + 4 \\, \\pi^{2} D_{z_{0}} c^{2} \\epsilon_{0}^{2} k_{0} k_{1} \\kappa \\mu_{1} \\omega \\sigma_{1}^{2} J_{m - 1}(\\kappa r) \\cos\\left(-b {\\left(g_{1} - 1\\right)} k_{0}\\right) \\cos\\left(-b {\\left(g_{1} - 1\\right)} k_{1}\\right) \\cos\\left(b g_{1} k_{1}\\right) \\cos\\left(m p\\right) e^{\\left(-i \\, b {\\left(g_{1} - 1\\right)} k_{0} - i \\, b {\\left(g_{1} - 1\\right)} k_{1}\\right)} - D_{z_{0}} c^{4} \\epsilon_{0}^{2} \\epsilon_{1} k_{0} k_{1} \\kappa^{3} \\omega J_{m + 1}(\\kappa r) \\cos\\left(-b {\\left(g_{1} - 1\\right)} k_{0}\\right) \\cos\\left(m p\\right) e^{\\left(-i \\, b {\\left(g_{1} - 1\\right)} k_{0} - i \\, b {\\left(g_{1} - 1\\right)} k_{1}\\right)} \\sin\\left(-b {\\left(g_{1} - 1\\right)} k_{1}\\right) \\sin\\left(b g_{1} k_{1}\\right) + 4 \\, \\pi^{2} D_{z_{0}} c^{2} \\epsilon_{0}^{2} k_{0} k_{1} \\kappa \\mu_{1} \\omega \\sigma_{1}^{2} J_{m + 1}(\\kappa r) \\cos\\left(-b {\\left(g_{1} - 1\\right)} k_{0}\\right) \\cos\\left(m p\\right) e^{\\left(-i \\, b {\\left(g_{1} - 1\\right)} k_{0} - i \\, b {\\left(g_{1} - 1\\right)} k_{1}\\right)} \\sin\\left(-b {\\left(g_{1} - 1\\right)} k_{1}\\right) \\sin\\left(b g_{1} k_{1}\\right) + D_{z_{0}} c^{4} \\epsilon_{0}^{2} \\epsilon_{1} k_{0} k_{1} \\kappa^{3} \\omega J_{m - 1}(\\kappa r) \\cos\\left(-b {\\left(g_{1} - 1\\right)} k_{0}\\right) \\cos\\left(m p\\right) e^{\\left(-i \\, b {\\left(g_{1} - 1\\right)} k_{0} - i \\, b {\\left(g_{1} - 1\\right)} k_{1}\\right)} \\sin\\left(-b {\\left(g_{1} - 1\\right)} k_{1}\\right) \\sin\\left(b g_{1} k_{1}\\right) - 4 \\, \\pi^{2} D_{z_{0}} c^{2} \\epsilon_{0}^{2} k_{0} k_{1} \\kappa \\mu_{1} \\omega \\sigma_{1}^{2} J_{m - 1}(\\kappa r) \\cos\\left(-b {\\left(g_{1} - 1\\right)} k_{0}\\right) \\cos\\left(m p\\right) e^{\\left(-i \\, b {\\left(g_{1} - 1\\right)} k_{0} - i \\, b {\\left(g_{1} - 1\\right)} k_{1}\\right)} \\sin\\left(-b {\\left(g_{1} - 1\\right)} k_{1}\\right) \\sin\\left(b g_{1} k_{1}\\right) - 8 \\, \\pi c^{2} \\epsilon_{0}^{2} \\epsilon_{1} k_{1} \\kappa^{2} \\mu_{0} \\omega^{2} \\sigma_{0} \\cos\\left(-b {\\left(g_{1} - 1\\right)} k_{1}\\right) \\cos\\left(b g_{1} k_{1}\\right) e^{\\left(-i \\, b {\\left(g_{1} - 1\\right)} k_{0} - i \\, b {\\left(g_{1} - 1\\right)} k_{1}\\right)} \\sin\\left(-b {\\left(g_{1} - 1\\right)} k_{0}\\right) + 32 \\, \\pi^{3} \\epsilon_{0}^{2} k_{1} \\mu_{0} \\mu_{1} \\omega^{2} \\sigma_{0} \\sigma_{1}^{2} \\cos\\left(-b {\\left(g_{1} - 1\\right)} k_{1}\\right) \\cos\\left(b g_{1} k_{1}\\right) e^{\\left(-i \\, b {\\left(g_{1} - 1\\right)} k_{0} - i \\, b {\\left(g_{1} - 1\\right)} k_{1}\\right)} \\sin\\left(-b {\\left(g_{1} - 1\\right)} k_{0}\\right) + 8 \\, \\pi c^{2} \\epsilon_{0} \\epsilon_{1}^{2} k_{0} \\kappa^{2} \\mu_{1} \\omega^{2} \\sigma_{1} \\cos\\left(-b {\\left(g_{1} - 1\\right)} k_{1}\\right) \\cos\\left(b g_{1} k_{1}\\right) e^{\\left(-i \\, b {\\left(g_{1} - 1\\right)} k_{0} - i \\, b {\\left(g_{1} - 1\\right)} k_{1}\\right)} \\sin\\left(-b {\\left(g_{1} - 1\\right)} k_{1}\\right) - 32 \\, \\pi^{3} \\epsilon_{1}^{2} k_{0} \\mu_{0} \\mu_{1} \\omega^{2} \\sigma_{0}^{2} \\sigma_{1} \\cos\\left(-b {\\left(g_{1} - 1\\right)} k_{1}\\right) \\cos\\left(b g_{1} k_{1}\\right) e^{\\left(-i \\, b {\\left(g_{1} - 1\\right)} k_{0} - i \\, b {\\left(g_{1} - 1\\right)} k_{1}\\right)} \\sin\\left(-b {\\left(g_{1} - 1\\right)} k_{1}\\right) + 8 \\, \\pi c^{2} \\epsilon_{0} \\epsilon_{1}^{2} k_{0} \\kappa^{2} \\mu_{1} \\omega^{2} \\sigma_{1} \\cos\\left(b g_{1} k_{1}\\right) e^{\\left(-i \\, b {\\left(g_{1} - 1\\right)} k_{0} - i \\, b {\\left(g_{1} - 1\\right)} k_{1}\\right)} \\sin\\left(-b {\\left(g_{1} - 1\\right)} k_{1}\\right)^{2} - 32 \\, \\pi^{3} \\epsilon_{1}^{2} k_{0} \\mu_{0} \\mu_{1} \\omega^{2} \\sigma_{0}^{2} \\sigma_{1} \\cos\\left(b g_{1} k_{1}\\right) e^{\\left(-i \\, b {\\left(g_{1} - 1\\right)} k_{0} - i \\, b {\\left(g_{1} - 1\\right)} k_{1}\\right)} \\sin\\left(-b {\\left(g_{1} - 1\\right)} k_{1}\\right)^{2} + 8 \\, \\pi c^{2} \\epsilon_{0} \\epsilon_{1}^{2} k_{0} \\kappa^{2} \\mu_{1} \\omega^{2} \\sigma_{1} \\cos\\left(-b {\\left(g_{1} - 1\\right)} k_{1}\\right) e^{\\left(-i \\, b {\\left(g_{1} - 1\\right)} k_{0} - i \\, b {\\left(g_{1} - 1\\right)} k_{1}\\right)} \\sin\\left(-b {\\left(g_{1} - 1\\right)} k_{1}\\right) \\sin\\left(b g_{1} k_{1}\\right) - 32 \\, \\pi^{3} \\epsilon_{1}^{2} k_{0} \\mu_{0} \\mu_{1} \\omega^{2} \\sigma_{0}^{2} \\sigma_{1} \\cos\\left(-b {\\left(g_{1} - 1\\right)} k_{1}\\right) e^{\\left(-i \\, b {\\left(g_{1} - 1\\right)} k_{0} - i \\, b {\\left(g_{1} - 1\\right)} k_{1}\\right)} \\sin\\left(-b {\\left(g_{1} - 1\\right)} k_{1}\\right) \\sin\\left(b g_{1} k_{1}\\right) + 8 \\, \\pi c^{2} \\epsilon_{0}^{2} \\epsilon_{1} k_{1} \\kappa^{2} \\mu_{0} \\omega^{2} \\sigma_{0} e^{\\left(-i \\, b {\\left(g_{1} - 1\\right)} k_{0} - i \\, b {\\left(g_{1} - 1\\right)} k_{1}\\right)} \\sin\\left(-b {\\left(g_{1} - 1\\right)} k_{0}\\right) \\sin\\left(-b {\\left(g_{1} - 1\\right)} k_{1}\\right) \\sin\\left(b g_{1} k_{1}\\right) - 32 \\, \\pi^{3} \\epsilon_{0}^{2} k_{1} \\mu_{0} \\mu_{1} \\omega^{2} \\sigma_{0} \\sigma_{1}^{2} e^{\\left(-i \\, b {\\left(g_{1} - 1\\right)} k_{0} - i \\, b {\\left(g_{1} - 1\\right)} k_{1}\\right)} \\sin\\left(-b {\\left(g_{1} - 1\\right)} k_{0}\\right) \\sin\\left(-b {\\left(g_{1} - 1\\right)} k_{1}\\right) \\sin\\left(b g_{1} k_{1}\\right) - 8 \\, \\pi c^{2} \\epsilon_{0} \\epsilon_{1}^{2} k_{0} \\kappa^{2} \\mu_{1} \\omega^{2} \\sigma_{1} e^{\\left(-i \\, b {\\left(g_{1} - 1\\right)} k_{0} - i \\, b {\\left(g_{1} - 1\\right)} k_{1}\\right)} \\sin\\left(-b {\\left(g_{1} - 1\\right)} k_{1}\\right)^{2} \\sin\\left(b g_{1} k_{1}\\right) + 32 \\, \\pi^{3} \\epsilon_{1}^{2} k_{0} \\mu_{0} \\mu_{1} \\omega^{2} \\sigma_{0}^{2} \\sigma_{1} e^{\\left(-i \\, b {\\left(g_{1} - 1\\right)} k_{0} - i \\, b {\\left(g_{1} - 1\\right)} k_{1}\\right)} \\sin\\left(-b {\\left(g_{1} - 1\\right)} k_{1}\\right)^{2} \\sin\\left(b g_{1} k_{1}\\right) - 8 \\, \\pi c^{4} \\epsilon_{0} \\epsilon_{1} k_{0} k_{1}^{2} \\kappa^{2} \\sigma_{1} \\cos\\left(-b {\\left(g_{1} - 1\\right)} k_{1}\\right) \\cos\\left(b g_{1} k_{1}\\right) e^{\\left(-i \\, b {\\left(g_{1} - 1\\right)} k_{0}\\right)} + 32 \\, \\pi^{3} c^{2} \\epsilon_{1} k_{0} k_{1}^{2} \\mu_{0} \\sigma_{0}^{2} \\sigma_{1} \\cos\\left(-b {\\left(g_{1} - 1\\right)} k_{1}\\right) \\cos\\left(b g_{1} k_{1}\\right) e^{\\left(-i \\, b {\\left(g_{1} - 1\\right)} k_{0}\\right)} + 8 \\, \\pi c^{4} \\epsilon_{0} \\epsilon_{1} k_{0}^{2} k_{1} \\kappa^{2} \\sigma_{0} \\cos\\left(-b {\\left(g_{1} - 1\\right)} k_{1}\\right) \\cos\\left(b g_{1} k_{1}\\right) e^{\\left(-i \\, b {\\left(g_{1} - 1\\right)} k_{1}\\right)} - 32 \\, \\pi^{3} c^{2} \\epsilon_{0} k_{0}^{2} k_{1} \\mu_{1} \\sigma_{0} \\sigma_{1}^{2} \\cos\\left(-b {\\left(g_{1} - 1\\right)} k_{1}\\right) \\cos\\left(b g_{1} k_{1}\\right) e^{\\left(-i \\, b {\\left(g_{1} - 1\\right)} k_{1}\\right)} + 8 \\, \\pi c^{4} \\epsilon_{0} \\epsilon_{1} k_{0} k_{1}^{2} \\kappa^{2} \\sigma_{1} e^{\\left(-i \\, b {\\left(g_{1} - 1\\right)} k_{0}\\right)} \\sin\\left(-b {\\left(g_{1} - 1\\right)} k_{1}\\right) \\sin\\left(b g_{1} k_{1}\\right) - 32 \\, \\pi^{3} c^{2} \\epsilon_{1} k_{0} k_{1}^{2} \\mu_{0} \\sigma_{0}^{2} \\sigma_{1} e^{\\left(-i \\, b {\\left(g_{1} - 1\\right)} k_{0}\\right)} \\sin\\left(-b {\\left(g_{1} - 1\\right)} k_{1}\\right) \\sin\\left(b g_{1} k_{1}\\right) - 8 \\, \\pi c^{4} \\epsilon_{0} \\epsilon_{1} k_{0}^{2} k_{1} \\kappa^{2} \\sigma_{0} e^{\\left(-i \\, b {\\left(g_{1} - 1\\right)} k_{1}\\right)} \\sin\\left(-b {\\left(g_{1} - 1\\right)} k_{1}\\right) \\sin\\left(b g_{1} k_{1}\\right) + 32 \\, \\pi^{3} c^{2} \\epsilon_{0} k_{0}^{2} k_{1} \\mu_{1} \\sigma_{0} \\sigma_{1}^{2} e^{\\left(-i \\, b {\\left(g_{1} - 1\\right)} k_{1}\\right)} \\sin\\left(-b {\\left(g_{1} - 1\\right)} k_{1}\\right) \\sin\\left(b g_{1} k_{1}\\right)\\right)} m J_{m}(\\kappa {\\rho}) e^{\\left(i \\, b {\\left(g_{1} - 1\\right)} k_{0} + i \\, b {\\left(g_{1} - 1\\right)} k_{1}\\right)} \\sin\\left(m \\varphi\\right) \\sin\\left(k_{1} z\\right)}{{\\left(c^{2} \\epsilon_{0} \\kappa^{2} - 4 \\, \\pi^{2} \\mu_{0} \\sigma_{0}^{2}\\right)} \\epsilon_{1}^{2} k_{0} \\kappa \\omega {\\left(J_{m + 1}(\\kappa r) - J_{m - 1}(\\kappa r)\\right)} \\cos\\left(b g_{1} k_{1}\\right) \\cos\\left(m p\\right)}\\right)} \\epsilon_{1}}{{\\left(c^{2} \\epsilon_{1} \\kappa^{2} - 4 \\, \\pi^{2} \\mu_{1} \\sigma_{1}^{2}\\right)} {\\rho}}$"
      ],
      "text/plain": [
       "<IPython.core.display.Math object>"
      ]
     },
     "metadata": {},
     "output_type": "display_data"
    }
   ],
   "source": [
    "if 1 < n_layers:\n",
    "    display(Math(latex(E_phi_s [1](rh,ph,z))))"
   ]
  },
  {
   "cell_type": "code",
   "execution_count": 172,
   "metadata": {},
   "outputs": [],
   "source": [
    "if 2 < n_layers:\n",
    "    display(Math(latex(E_phi_s [2](rh,ph,z))))"
   ]
  },
  {
   "cell_type": "code",
   "execution_count": 173,
   "metadata": {},
   "outputs": [
    {
     "data": {
      "text/latex": [
       "$\\displaystyle -{\\left(\\frac{8 \\, \\pi \\mu_{0} \\omega \\sigma_{0} \\sin\\left(k_{0} z\\right)}{{\\left(c^{2} k_{0} \\kappa J_{m + 1}(\\kappa {\\rho}) - c^{2} k_{0} \\kappa J_{m - 1}(\\kappa {\\rho})\\right)} \\cos\\left(m \\varphi\\right)} - D_{z_{0}} \\cos\\left(k_{0} z\\right)\\right)} J_{m}(\\kappa {\\rho}) \\cos\\left(m \\varphi\\right)$"
      ],
      "text/plain": [
       "<IPython.core.display.Math object>"
      ]
     },
     "metadata": {},
     "output_type": "display_data"
    }
   ],
   "source": [
    "if 0 < n_layers:\n",
    "    if E_mode:\n",
    "        display(Math(latex(E_z_s[0](rh,ph,z))))\n",
    "    else:\n",
    "        display(Math(latex(H_z_s[0](rh,ph,z))))"
   ]
  },
  {
   "cell_type": "code",
   "execution_count": 174,
   "metadata": {},
   "outputs": [
    {
     "data": {
      "text/latex": [
       "$\\displaystyle -{\\left(\\frac{{\\left(8 \\, \\pi \\mu_{1} \\omega \\sigma_{1} {\\left(\\cos\\left(-b {\\left(g_{1} - 1\\right)} k_{1} + b g_{1} k_{1}\\right) + \\sin\\left(-b {\\left(g_{1} - 1\\right)} k_{1} + b g_{1} k_{1}\\right)\\right)} - {\\left(\\frac{{\\left(D_{z_{0}} c^{4} \\epsilon_{0}^{2} \\epsilon_{1} k_{0} k_{1} \\kappa^{3} \\omega J_{m + 1}(\\kappa r) \\cos\\left(-b {\\left(g_{1} - 1\\right)} k_{0}\\right) \\cos\\left(-b {\\left(g_{1} - 1\\right)} k_{1}\\right) \\cos\\left(b g_{1} k_{1}\\right) \\cos\\left(m p\\right) e^{\\left(-i \\, b {\\left(g_{1} - 1\\right)} k_{0} - i \\, b {\\left(g_{1} - 1\\right)} k_{1}\\right)} - 4 \\, \\pi^{2} D_{z_{0}} c^{2} \\epsilon_{0}^{2} k_{0} k_{1} \\kappa \\mu_{1} \\omega \\sigma_{1}^{2} J_{m + 1}(\\kappa r) \\cos\\left(-b {\\left(g_{1} - 1\\right)} k_{0}\\right) \\cos\\left(-b {\\left(g_{1} - 1\\right)} k_{1}\\right) \\cos\\left(b g_{1} k_{1}\\right) \\cos\\left(m p\\right) e^{\\left(-i \\, b {\\left(g_{1} - 1\\right)} k_{0} - i \\, b {\\left(g_{1} - 1\\right)} k_{1}\\right)} - D_{z_{0}} c^{4} \\epsilon_{0}^{2} \\epsilon_{1} k_{0} k_{1} \\kappa^{3} \\omega J_{m - 1}(\\kappa r) \\cos\\left(-b {\\left(g_{1} - 1\\right)} k_{0}\\right) \\cos\\left(-b {\\left(g_{1} - 1\\right)} k_{1}\\right) \\cos\\left(b g_{1} k_{1}\\right) \\cos\\left(m p\\right) e^{\\left(-i \\, b {\\left(g_{1} - 1\\right)} k_{0} - i \\, b {\\left(g_{1} - 1\\right)} k_{1}\\right)} + 4 \\, \\pi^{2} D_{z_{0}} c^{2} \\epsilon_{0}^{2} k_{0} k_{1} \\kappa \\mu_{1} \\omega \\sigma_{1}^{2} J_{m - 1}(\\kappa r) \\cos\\left(-b {\\left(g_{1} - 1\\right)} k_{0}\\right) \\cos\\left(-b {\\left(g_{1} - 1\\right)} k_{1}\\right) \\cos\\left(b g_{1} k_{1}\\right) \\cos\\left(m p\\right) e^{\\left(-i \\, b {\\left(g_{1} - 1\\right)} k_{0} - i \\, b {\\left(g_{1} - 1\\right)} k_{1}\\right)} - D_{z_{0}} c^{4} \\epsilon_{0}^{2} \\epsilon_{1} k_{0} k_{1} \\kappa^{3} \\omega J_{m + 1}(\\kappa r) \\cos\\left(-b {\\left(g_{1} - 1\\right)} k_{0}\\right) \\cos\\left(m p\\right) e^{\\left(-i \\, b {\\left(g_{1} - 1\\right)} k_{0} - i \\, b {\\left(g_{1} - 1\\right)} k_{1}\\right)} \\sin\\left(-b {\\left(g_{1} - 1\\right)} k_{1}\\right) \\sin\\left(b g_{1} k_{1}\\right) + 4 \\, \\pi^{2} D_{z_{0}} c^{2} \\epsilon_{0}^{2} k_{0} k_{1} \\kappa \\mu_{1} \\omega \\sigma_{1}^{2} J_{m + 1}(\\kappa r) \\cos\\left(-b {\\left(g_{1} - 1\\right)} k_{0}\\right) \\cos\\left(m p\\right) e^{\\left(-i \\, b {\\left(g_{1} - 1\\right)} k_{0} - i \\, b {\\left(g_{1} - 1\\right)} k_{1}\\right)} \\sin\\left(-b {\\left(g_{1} - 1\\right)} k_{1}\\right) \\sin\\left(b g_{1} k_{1}\\right) + D_{z_{0}} c^{4} \\epsilon_{0}^{2} \\epsilon_{1} k_{0} k_{1} \\kappa^{3} \\omega J_{m - 1}(\\kappa r) \\cos\\left(-b {\\left(g_{1} - 1\\right)} k_{0}\\right) \\cos\\left(m p\\right) e^{\\left(-i \\, b {\\left(g_{1} - 1\\right)} k_{0} - i \\, b {\\left(g_{1} - 1\\right)} k_{1}\\right)} \\sin\\left(-b {\\left(g_{1} - 1\\right)} k_{1}\\right) \\sin\\left(b g_{1} k_{1}\\right) - 4 \\, \\pi^{2} D_{z_{0}} c^{2} \\epsilon_{0}^{2} k_{0} k_{1} \\kappa \\mu_{1} \\omega \\sigma_{1}^{2} J_{m - 1}(\\kappa r) \\cos\\left(-b {\\left(g_{1} - 1\\right)} k_{0}\\right) \\cos\\left(m p\\right) e^{\\left(-i \\, b {\\left(g_{1} - 1\\right)} k_{0} - i \\, b {\\left(g_{1} - 1\\right)} k_{1}\\right)} \\sin\\left(-b {\\left(g_{1} - 1\\right)} k_{1}\\right) \\sin\\left(b g_{1} k_{1}\\right) - 8 \\, \\pi c^{2} \\epsilon_{0}^{2} \\epsilon_{1} k_{1} \\kappa^{2} \\mu_{0} \\omega^{2} \\sigma_{0} \\cos\\left(-b {\\left(g_{1} - 1\\right)} k_{1}\\right) \\cos\\left(b g_{1} k_{1}\\right) e^{\\left(-i \\, b {\\left(g_{1} - 1\\right)} k_{0} - i \\, b {\\left(g_{1} - 1\\right)} k_{1}\\right)} \\sin\\left(-b {\\left(g_{1} - 1\\right)} k_{0}\\right) + 32 \\, \\pi^{3} \\epsilon_{0}^{2} k_{1} \\mu_{0} \\mu_{1} \\omega^{2} \\sigma_{0} \\sigma_{1}^{2} \\cos\\left(-b {\\left(g_{1} - 1\\right)} k_{1}\\right) \\cos\\left(b g_{1} k_{1}\\right) e^{\\left(-i \\, b {\\left(g_{1} - 1\\right)} k_{0} - i \\, b {\\left(g_{1} - 1\\right)} k_{1}\\right)} \\sin\\left(-b {\\left(g_{1} - 1\\right)} k_{0}\\right) + 8 \\, \\pi c^{2} \\epsilon_{0} \\epsilon_{1}^{2} k_{0} \\kappa^{2} \\mu_{1} \\omega^{2} \\sigma_{1} \\cos\\left(-b {\\left(g_{1} - 1\\right)} k_{1}\\right) \\cos\\left(b g_{1} k_{1}\\right) e^{\\left(-i \\, b {\\left(g_{1} - 1\\right)} k_{0} - i \\, b {\\left(g_{1} - 1\\right)} k_{1}\\right)} \\sin\\left(-b {\\left(g_{1} - 1\\right)} k_{1}\\right) - 32 \\, \\pi^{3} \\epsilon_{1}^{2} k_{0} \\mu_{0} \\mu_{1} \\omega^{2} \\sigma_{0}^{2} \\sigma_{1} \\cos\\left(-b {\\left(g_{1} - 1\\right)} k_{1}\\right) \\cos\\left(b g_{1} k_{1}\\right) e^{\\left(-i \\, b {\\left(g_{1} - 1\\right)} k_{0} - i \\, b {\\left(g_{1} - 1\\right)} k_{1}\\right)} \\sin\\left(-b {\\left(g_{1} - 1\\right)} k_{1}\\right) + 8 \\, \\pi c^{2} \\epsilon_{0} \\epsilon_{1}^{2} k_{0} \\kappa^{2} \\mu_{1} \\omega^{2} \\sigma_{1} \\cos\\left(b g_{1} k_{1}\\right) e^{\\left(-i \\, b {\\left(g_{1} - 1\\right)} k_{0} - i \\, b {\\left(g_{1} - 1\\right)} k_{1}\\right)} \\sin\\left(-b {\\left(g_{1} - 1\\right)} k_{1}\\right)^{2} - 32 \\, \\pi^{3} \\epsilon_{1}^{2} k_{0} \\mu_{0} \\mu_{1} \\omega^{2} \\sigma_{0}^{2} \\sigma_{1} \\cos\\left(b g_{1} k_{1}\\right) e^{\\left(-i \\, b {\\left(g_{1} - 1\\right)} k_{0} - i \\, b {\\left(g_{1} - 1\\right)} k_{1}\\right)} \\sin\\left(-b {\\left(g_{1} - 1\\right)} k_{1}\\right)^{2} + 8 \\, \\pi c^{2} \\epsilon_{0} \\epsilon_{1}^{2} k_{0} \\kappa^{2} \\mu_{1} \\omega^{2} \\sigma_{1} \\cos\\left(-b {\\left(g_{1} - 1\\right)} k_{1}\\right) e^{\\left(-i \\, b {\\left(g_{1} - 1\\right)} k_{0} - i \\, b {\\left(g_{1} - 1\\right)} k_{1}\\right)} \\sin\\left(-b {\\left(g_{1} - 1\\right)} k_{1}\\right) \\sin\\left(b g_{1} k_{1}\\right) - 32 \\, \\pi^{3} \\epsilon_{1}^{2} k_{0} \\mu_{0} \\mu_{1} \\omega^{2} \\sigma_{0}^{2} \\sigma_{1} \\cos\\left(-b {\\left(g_{1} - 1\\right)} k_{1}\\right) e^{\\left(-i \\, b {\\left(g_{1} - 1\\right)} k_{0} - i \\, b {\\left(g_{1} - 1\\right)} k_{1}\\right)} \\sin\\left(-b {\\left(g_{1} - 1\\right)} k_{1}\\right) \\sin\\left(b g_{1} k_{1}\\right) + 8 \\, \\pi c^{2} \\epsilon_{0}^{2} \\epsilon_{1} k_{1} \\kappa^{2} \\mu_{0} \\omega^{2} \\sigma_{0} e^{\\left(-i \\, b {\\left(g_{1} - 1\\right)} k_{0} - i \\, b {\\left(g_{1} - 1\\right)} k_{1}\\right)} \\sin\\left(-b {\\left(g_{1} - 1\\right)} k_{0}\\right) \\sin\\left(-b {\\left(g_{1} - 1\\right)} k_{1}\\right) \\sin\\left(b g_{1} k_{1}\\right) - 32 \\, \\pi^{3} \\epsilon_{0}^{2} k_{1} \\mu_{0} \\mu_{1} \\omega^{2} \\sigma_{0} \\sigma_{1}^{2} e^{\\left(-i \\, b {\\left(g_{1} - 1\\right)} k_{0} - i \\, b {\\left(g_{1} - 1\\right)} k_{1}\\right)} \\sin\\left(-b {\\left(g_{1} - 1\\right)} k_{0}\\right) \\sin\\left(-b {\\left(g_{1} - 1\\right)} k_{1}\\right) \\sin\\left(b g_{1} k_{1}\\right) - 8 \\, \\pi c^{2} \\epsilon_{0} \\epsilon_{1}^{2} k_{0} \\kappa^{2} \\mu_{1} \\omega^{2} \\sigma_{1} e^{\\left(-i \\, b {\\left(g_{1} - 1\\right)} k_{0} - i \\, b {\\left(g_{1} - 1\\right)} k_{1}\\right)} \\sin\\left(-b {\\left(g_{1} - 1\\right)} k_{1}\\right)^{2} \\sin\\left(b g_{1} k_{1}\\right) + 32 \\, \\pi^{3} \\epsilon_{1}^{2} k_{0} \\mu_{0} \\mu_{1} \\omega^{2} \\sigma_{0}^{2} \\sigma_{1} e^{\\left(-i \\, b {\\left(g_{1} - 1\\right)} k_{0} - i \\, b {\\left(g_{1} - 1\\right)} k_{1}\\right)} \\sin\\left(-b {\\left(g_{1} - 1\\right)} k_{1}\\right)^{2} \\sin\\left(b g_{1} k_{1}\\right) - 8 \\, \\pi c^{4} \\epsilon_{0} \\epsilon_{1} k_{0} k_{1}^{2} \\kappa^{2} \\sigma_{1} \\cos\\left(-b {\\left(g_{1} - 1\\right)} k_{1}\\right) \\cos\\left(b g_{1} k_{1}\\right) e^{\\left(-i \\, b {\\left(g_{1} - 1\\right)} k_{0}\\right)} + 32 \\, \\pi^{3} c^{2} \\epsilon_{1} k_{0} k_{1}^{2} \\mu_{0} \\sigma_{0}^{2} \\sigma_{1} \\cos\\left(-b {\\left(g_{1} - 1\\right)} k_{1}\\right) \\cos\\left(b g_{1} k_{1}\\right) e^{\\left(-i \\, b {\\left(g_{1} - 1\\right)} k_{0}\\right)} + 8 \\, \\pi c^{4} \\epsilon_{0} \\epsilon_{1} k_{0}^{2} k_{1} \\kappa^{2} \\sigma_{0} \\cos\\left(-b {\\left(g_{1} - 1\\right)} k_{1}\\right) \\cos\\left(b g_{1} k_{1}\\right) e^{\\left(-i \\, b {\\left(g_{1} - 1\\right)} k_{1}\\right)} - 32 \\, \\pi^{3} c^{2} \\epsilon_{0} k_{0}^{2} k_{1} \\mu_{1} \\sigma_{0} \\sigma_{1}^{2} \\cos\\left(-b {\\left(g_{1} - 1\\right)} k_{1}\\right) \\cos\\left(b g_{1} k_{1}\\right) e^{\\left(-i \\, b {\\left(g_{1} - 1\\right)} k_{1}\\right)} + 8 \\, \\pi c^{4} \\epsilon_{0} \\epsilon_{1} k_{0} k_{1}^{2} \\kappa^{2} \\sigma_{1} e^{\\left(-i \\, b {\\left(g_{1} - 1\\right)} k_{0}\\right)} \\sin\\left(-b {\\left(g_{1} - 1\\right)} k_{1}\\right) \\sin\\left(b g_{1} k_{1}\\right) - 32 \\, \\pi^{3} c^{2} \\epsilon_{1} k_{0} k_{1}^{2} \\mu_{0} \\sigma_{0}^{2} \\sigma_{1} e^{\\left(-i \\, b {\\left(g_{1} - 1\\right)} k_{0}\\right)} \\sin\\left(-b {\\left(g_{1} - 1\\right)} k_{1}\\right) \\sin\\left(b g_{1} k_{1}\\right) - 8 \\, \\pi c^{4} \\epsilon_{0} \\epsilon_{1} k_{0}^{2} k_{1} \\kappa^{2} \\sigma_{0} e^{\\left(-i \\, b {\\left(g_{1} - 1\\right)} k_{1}\\right)} \\sin\\left(-b {\\left(g_{1} - 1\\right)} k_{1}\\right) \\sin\\left(b g_{1} k_{1}\\right) + 32 \\, \\pi^{3} c^{2} \\epsilon_{0} k_{0}^{2} k_{1} \\mu_{1} \\sigma_{0} \\sigma_{1}^{2} e^{\\left(-i \\, b {\\left(g_{1} - 1\\right)} k_{1}\\right)} \\sin\\left(-b {\\left(g_{1} - 1\\right)} k_{1}\\right) \\sin\\left(b g_{1} k_{1}\\right)\\right)} J_{m + 1}(\\kappa {\\rho}) e^{\\left(i \\, b {\\left(g_{1} - 1\\right)} k_{0} + i \\, b {\\left(g_{1} - 1\\right)} k_{1}\\right)} \\sin\\left(-b {\\left(g_{1} - 1\\right)} k_{1} + b g_{1} k_{1}\\right)}{{\\left(c^{2} \\epsilon_{0} \\kappa^{2} - 4 \\, \\pi^{2} \\mu_{0} \\sigma_{0}^{2}\\right)} \\epsilon_{1}^{2} k_{0} \\omega {\\left(J_{m + 1}(\\kappa r) - J_{m - 1}(\\kappa r)\\right)} \\cos\\left(b g_{1} k_{1}\\right) \\cos\\left(m p\\right)} - \\frac{{\\left(D_{z_{0}} c^{4} \\epsilon_{0}^{2} \\epsilon_{1} k_{0} k_{1} \\kappa^{3} \\omega J_{m + 1}(\\kappa r) \\cos\\left(-b {\\left(g_{1} - 1\\right)} k_{0}\\right) \\cos\\left(-b {\\left(g_{1} - 1\\right)} k_{1}\\right) \\cos\\left(b g_{1} k_{1}\\right) \\cos\\left(m p\\right) e^{\\left(-i \\, b {\\left(g_{1} - 1\\right)} k_{0} - i \\, b {\\left(g_{1} - 1\\right)} k_{1}\\right)} - 4 \\, \\pi^{2} D_{z_{0}} c^{2} \\epsilon_{0}^{2} k_{0} k_{1} \\kappa \\mu_{1} \\omega \\sigma_{1}^{2} J_{m + 1}(\\kappa r) \\cos\\left(-b {\\left(g_{1} - 1\\right)} k_{0}\\right) \\cos\\left(-b {\\left(g_{1} - 1\\right)} k_{1}\\right) \\cos\\left(b g_{1} k_{1}\\right) \\cos\\left(m p\\right) e^{\\left(-i \\, b {\\left(g_{1} - 1\\right)} k_{0} - i \\, b {\\left(g_{1} - 1\\right)} k_{1}\\right)} - D_{z_{0}} c^{4} \\epsilon_{0}^{2} \\epsilon_{1} k_{0} k_{1} \\kappa^{3} \\omega J_{m - 1}(\\kappa r) \\cos\\left(-b {\\left(g_{1} - 1\\right)} k_{0}\\right) \\cos\\left(-b {\\left(g_{1} - 1\\right)} k_{1}\\right) \\cos\\left(b g_{1} k_{1}\\right) \\cos\\left(m p\\right) e^{\\left(-i \\, b {\\left(g_{1} - 1\\right)} k_{0} - i \\, b {\\left(g_{1} - 1\\right)} k_{1}\\right)} + 4 \\, \\pi^{2} D_{z_{0}} c^{2} \\epsilon_{0}^{2} k_{0} k_{1} \\kappa \\mu_{1} \\omega \\sigma_{1}^{2} J_{m - 1}(\\kappa r) \\cos\\left(-b {\\left(g_{1} - 1\\right)} k_{0}\\right) \\cos\\left(-b {\\left(g_{1} - 1\\right)} k_{1}\\right) \\cos\\left(b g_{1} k_{1}\\right) \\cos\\left(m p\\right) e^{\\left(-i \\, b {\\left(g_{1} - 1\\right)} k_{0} - i \\, b {\\left(g_{1} - 1\\right)} k_{1}\\right)} - D_{z_{0}} c^{4} \\epsilon_{0}^{2} \\epsilon_{1} k_{0} k_{1} \\kappa^{3} \\omega J_{m + 1}(\\kappa r) \\cos\\left(-b {\\left(g_{1} - 1\\right)} k_{0}\\right) \\cos\\left(m p\\right) e^{\\left(-i \\, b {\\left(g_{1} - 1\\right)} k_{0} - i \\, b {\\left(g_{1} - 1\\right)} k_{1}\\right)} \\sin\\left(-b {\\left(g_{1} - 1\\right)} k_{1}\\right) \\sin\\left(b g_{1} k_{1}\\right) + 4 \\, \\pi^{2} D_{z_{0}} c^{2} \\epsilon_{0}^{2} k_{0} k_{1} \\kappa \\mu_{1} \\omega \\sigma_{1}^{2} J_{m + 1}(\\kappa r) \\cos\\left(-b {\\left(g_{1} - 1\\right)} k_{0}\\right) \\cos\\left(m p\\right) e^{\\left(-i \\, b {\\left(g_{1} - 1\\right)} k_{0} - i \\, b {\\left(g_{1} - 1\\right)} k_{1}\\right)} \\sin\\left(-b {\\left(g_{1} - 1\\right)} k_{1}\\right) \\sin\\left(b g_{1} k_{1}\\right) + D_{z_{0}} c^{4} \\epsilon_{0}^{2} \\epsilon_{1} k_{0} k_{1} \\kappa^{3} \\omega J_{m - 1}(\\kappa r) \\cos\\left(-b {\\left(g_{1} - 1\\right)} k_{0}\\right) \\cos\\left(m p\\right) e^{\\left(-i \\, b {\\left(g_{1} - 1\\right)} k_{0} - i \\, b {\\left(g_{1} - 1\\right)} k_{1}\\right)} \\sin\\left(-b {\\left(g_{1} - 1\\right)} k_{1}\\right) \\sin\\left(b g_{1} k_{1}\\right) - 4 \\, \\pi^{2} D_{z_{0}} c^{2} \\epsilon_{0}^{2} k_{0} k_{1} \\kappa \\mu_{1} \\omega \\sigma_{1}^{2} J_{m - 1}(\\kappa r) \\cos\\left(-b {\\left(g_{1} - 1\\right)} k_{0}\\right) \\cos\\left(m p\\right) e^{\\left(-i \\, b {\\left(g_{1} - 1\\right)} k_{0} - i \\, b {\\left(g_{1} - 1\\right)} k_{1}\\right)} \\sin\\left(-b {\\left(g_{1} - 1\\right)} k_{1}\\right) \\sin\\left(b g_{1} k_{1}\\right) - 8 \\, \\pi c^{2} \\epsilon_{0}^{2} \\epsilon_{1} k_{1} \\kappa^{2} \\mu_{0} \\omega^{2} \\sigma_{0} \\cos\\left(-b {\\left(g_{1} - 1\\right)} k_{1}\\right) \\cos\\left(b g_{1} k_{1}\\right) e^{\\left(-i \\, b {\\left(g_{1} - 1\\right)} k_{0} - i \\, b {\\left(g_{1} - 1\\right)} k_{1}\\right)} \\sin\\left(-b {\\left(g_{1} - 1\\right)} k_{0}\\right) + 32 \\, \\pi^{3} \\epsilon_{0}^{2} k_{1} \\mu_{0} \\mu_{1} \\omega^{2} \\sigma_{0} \\sigma_{1}^{2} \\cos\\left(-b {\\left(g_{1} - 1\\right)} k_{1}\\right) \\cos\\left(b g_{1} k_{1}\\right) e^{\\left(-i \\, b {\\left(g_{1} - 1\\right)} k_{0} - i \\, b {\\left(g_{1} - 1\\right)} k_{1}\\right)} \\sin\\left(-b {\\left(g_{1} - 1\\right)} k_{0}\\right) + 8 \\, \\pi c^{2} \\epsilon_{0} \\epsilon_{1}^{2} k_{0} \\kappa^{2} \\mu_{1} \\omega^{2} \\sigma_{1} \\cos\\left(-b {\\left(g_{1} - 1\\right)} k_{1}\\right) \\cos\\left(b g_{1} k_{1}\\right) e^{\\left(-i \\, b {\\left(g_{1} - 1\\right)} k_{0} - i \\, b {\\left(g_{1} - 1\\right)} k_{1}\\right)} \\sin\\left(-b {\\left(g_{1} - 1\\right)} k_{1}\\right) - 32 \\, \\pi^{3} \\epsilon_{1}^{2} k_{0} \\mu_{0} \\mu_{1} \\omega^{2} \\sigma_{0}^{2} \\sigma_{1} \\cos\\left(-b {\\left(g_{1} - 1\\right)} k_{1}\\right) \\cos\\left(b g_{1} k_{1}\\right) e^{\\left(-i \\, b {\\left(g_{1} - 1\\right)} k_{0} - i \\, b {\\left(g_{1} - 1\\right)} k_{1}\\right)} \\sin\\left(-b {\\left(g_{1} - 1\\right)} k_{1}\\right) + 8 \\, \\pi c^{2} \\epsilon_{0} \\epsilon_{1}^{2} k_{0} \\kappa^{2} \\mu_{1} \\omega^{2} \\sigma_{1} \\cos\\left(b g_{1} k_{1}\\right) e^{\\left(-i \\, b {\\left(g_{1} - 1\\right)} k_{0} - i \\, b {\\left(g_{1} - 1\\right)} k_{1}\\right)} \\sin\\left(-b {\\left(g_{1} - 1\\right)} k_{1}\\right)^{2} - 32 \\, \\pi^{3} \\epsilon_{1}^{2} k_{0} \\mu_{0} \\mu_{1} \\omega^{2} \\sigma_{0}^{2} \\sigma_{1} \\cos\\left(b g_{1} k_{1}\\right) e^{\\left(-i \\, b {\\left(g_{1} - 1\\right)} k_{0} - i \\, b {\\left(g_{1} - 1\\right)} k_{1}\\right)} \\sin\\left(-b {\\left(g_{1} - 1\\right)} k_{1}\\right)^{2} + 8 \\, \\pi c^{2} \\epsilon_{0} \\epsilon_{1}^{2} k_{0} \\kappa^{2} \\mu_{1} \\omega^{2} \\sigma_{1} \\cos\\left(-b {\\left(g_{1} - 1\\right)} k_{1}\\right) e^{\\left(-i \\, b {\\left(g_{1} - 1\\right)} k_{0} - i \\, b {\\left(g_{1} - 1\\right)} k_{1}\\right)} \\sin\\left(-b {\\left(g_{1} - 1\\right)} k_{1}\\right) \\sin\\left(b g_{1} k_{1}\\right) - 32 \\, \\pi^{3} \\epsilon_{1}^{2} k_{0} \\mu_{0} \\mu_{1} \\omega^{2} \\sigma_{0}^{2} \\sigma_{1} \\cos\\left(-b {\\left(g_{1} - 1\\right)} k_{1}\\right) e^{\\left(-i \\, b {\\left(g_{1} - 1\\right)} k_{0} - i \\, b {\\left(g_{1} - 1\\right)} k_{1}\\right)} \\sin\\left(-b {\\left(g_{1} - 1\\right)} k_{1}\\right) \\sin\\left(b g_{1} k_{1}\\right) + 8 \\, \\pi c^{2} \\epsilon_{0}^{2} \\epsilon_{1} k_{1} \\kappa^{2} \\mu_{0} \\omega^{2} \\sigma_{0} e^{\\left(-i \\, b {\\left(g_{1} - 1\\right)} k_{0} - i \\, b {\\left(g_{1} - 1\\right)} k_{1}\\right)} \\sin\\left(-b {\\left(g_{1} - 1\\right)} k_{0}\\right) \\sin\\left(-b {\\left(g_{1} - 1\\right)} k_{1}\\right) \\sin\\left(b g_{1} k_{1}\\right) - 32 \\, \\pi^{3} \\epsilon_{0}^{2} k_{1} \\mu_{0} \\mu_{1} \\omega^{2} \\sigma_{0} \\sigma_{1}^{2} e^{\\left(-i \\, b {\\left(g_{1} - 1\\right)} k_{0} - i \\, b {\\left(g_{1} - 1\\right)} k_{1}\\right)} \\sin\\left(-b {\\left(g_{1} - 1\\right)} k_{0}\\right) \\sin\\left(-b {\\left(g_{1} - 1\\right)} k_{1}\\right) \\sin\\left(b g_{1} k_{1}\\right) - 8 \\, \\pi c^{2} \\epsilon_{0} \\epsilon_{1}^{2} k_{0} \\kappa^{2} \\mu_{1} \\omega^{2} \\sigma_{1} e^{\\left(-i \\, b {\\left(g_{1} - 1\\right)} k_{0} - i \\, b {\\left(g_{1} - 1\\right)} k_{1}\\right)} \\sin\\left(-b {\\left(g_{1} - 1\\right)} k_{1}\\right)^{2} \\sin\\left(b g_{1} k_{1}\\right) + 32 \\, \\pi^{3} \\epsilon_{1}^{2} k_{0} \\mu_{0} \\mu_{1} \\omega^{2} \\sigma_{0}^{2} \\sigma_{1} e^{\\left(-i \\, b {\\left(g_{1} - 1\\right)} k_{0} - i \\, b {\\left(g_{1} - 1\\right)} k_{1}\\right)} \\sin\\left(-b {\\left(g_{1} - 1\\right)} k_{1}\\right)^{2} \\sin\\left(b g_{1} k_{1}\\right) - 8 \\, \\pi c^{4} \\epsilon_{0} \\epsilon_{1} k_{0} k_{1}^{2} \\kappa^{2} \\sigma_{1} \\cos\\left(-b {\\left(g_{1} - 1\\right)} k_{1}\\right) \\cos\\left(b g_{1} k_{1}\\right) e^{\\left(-i \\, b {\\left(g_{1} - 1\\right)} k_{0}\\right)} + 32 \\, \\pi^{3} c^{2} \\epsilon_{1} k_{0} k_{1}^{2} \\mu_{0} \\sigma_{0}^{2} \\sigma_{1} \\cos\\left(-b {\\left(g_{1} - 1\\right)} k_{1}\\right) \\cos\\left(b g_{1} k_{1}\\right) e^{\\left(-i \\, b {\\left(g_{1} - 1\\right)} k_{0}\\right)} + 8 \\, \\pi c^{4} \\epsilon_{0} \\epsilon_{1} k_{0}^{2} k_{1} \\kappa^{2} \\sigma_{0} \\cos\\left(-b {\\left(g_{1} - 1\\right)} k_{1}\\right) \\cos\\left(b g_{1} k_{1}\\right) e^{\\left(-i \\, b {\\left(g_{1} - 1\\right)} k_{1}\\right)} - 32 \\, \\pi^{3} c^{2} \\epsilon_{0} k_{0}^{2} k_{1} \\mu_{1} \\sigma_{0} \\sigma_{1}^{2} \\cos\\left(-b {\\left(g_{1} - 1\\right)} k_{1}\\right) \\cos\\left(b g_{1} k_{1}\\right) e^{\\left(-i \\, b {\\left(g_{1} - 1\\right)} k_{1}\\right)} + 8 \\, \\pi c^{4} \\epsilon_{0} \\epsilon_{1} k_{0} k_{1}^{2} \\kappa^{2} \\sigma_{1} e^{\\left(-i \\, b {\\left(g_{1} - 1\\right)} k_{0}\\right)} \\sin\\left(-b {\\left(g_{1} - 1\\right)} k_{1}\\right) \\sin\\left(b g_{1} k_{1}\\right) - 32 \\, \\pi^{3} c^{2} \\epsilon_{1} k_{0} k_{1}^{2} \\mu_{0} \\sigma_{0}^{2} \\sigma_{1} e^{\\left(-i \\, b {\\left(g_{1} - 1\\right)} k_{0}\\right)} \\sin\\left(-b {\\left(g_{1} - 1\\right)} k_{1}\\right) \\sin\\left(b g_{1} k_{1}\\right) - 8 \\, \\pi c^{4} \\epsilon_{0} \\epsilon_{1} k_{0}^{2} k_{1} \\kappa^{2} \\sigma_{0} e^{\\left(-i \\, b {\\left(g_{1} - 1\\right)} k_{1}\\right)} \\sin\\left(-b {\\left(g_{1} - 1\\right)} k_{1}\\right) \\sin\\left(b g_{1} k_{1}\\right) + 32 \\, \\pi^{3} c^{2} \\epsilon_{0} k_{0}^{2} k_{1} \\mu_{1} \\sigma_{0} \\sigma_{1}^{2} e^{\\left(-i \\, b {\\left(g_{1} - 1\\right)} k_{1}\\right)} \\sin\\left(-b {\\left(g_{1} - 1\\right)} k_{1}\\right) \\sin\\left(b g_{1} k_{1}\\right)\\right)} J_{m - 1}(\\kappa {\\rho}) e^{\\left(i \\, b {\\left(g_{1} - 1\\right)} k_{0} + i \\, b {\\left(g_{1} - 1\\right)} k_{1}\\right)} \\sin\\left(-b {\\left(g_{1} - 1\\right)} k_{1} + b g_{1} k_{1}\\right)}{{\\left(c^{2} \\epsilon_{0} \\kappa^{2} - 4 \\, \\pi^{2} \\mu_{0} \\sigma_{0}^{2}\\right)} \\epsilon_{1}^{2} k_{0} \\omega {\\left(J_{m + 1}(\\kappa r) - J_{m - 1}(\\kappa r)\\right)} \\cos\\left(b g_{1} k_{1}\\right) \\cos\\left(m p\\right)}\\right)} \\cos\\left(m \\varphi\\right)\\right)} \\sin\\left(k_{1} z\\right)}{{\\left(c^{2} k_{1} \\kappa J_{m + 1}(\\kappa {\\rho}) \\cos\\left(-b {\\left(g_{1} - 1\\right)} k_{1} + b g_{1} k_{1}\\right) - c^{2} k_{1} \\kappa J_{m - 1}(\\kappa {\\rho}) \\cos\\left(-b {\\left(g_{1} - 1\\right)} k_{1} + b g_{1} k_{1}\\right)\\right)} \\cos\\left(m \\varphi\\right)} - \\frac{{\\left(D_{z_{0}} c^{4} \\epsilon_{0}^{2} \\epsilon_{1} k_{0} k_{1} \\kappa^{3} \\omega J_{m + 1}(\\kappa r) \\cos\\left(-b {\\left(g_{1} - 1\\right)} k_{0}\\right) \\cos\\left(-b {\\left(g_{1} - 1\\right)} k_{1}\\right) \\cos\\left(b g_{1} k_{1}\\right) \\cos\\left(m p\\right) e^{\\left(-i \\, b {\\left(g_{1} - 1\\right)} k_{0} - i \\, b {\\left(g_{1} - 1\\right)} k_{1}\\right)} - 4 \\, \\pi^{2} D_{z_{0}} c^{2} \\epsilon_{0}^{2} k_{0} k_{1} \\kappa \\mu_{1} \\omega \\sigma_{1}^{2} J_{m + 1}(\\kappa r) \\cos\\left(-b {\\left(g_{1} - 1\\right)} k_{0}\\right) \\cos\\left(-b {\\left(g_{1} - 1\\right)} k_{1}\\right) \\cos\\left(b g_{1} k_{1}\\right) \\cos\\left(m p\\right) e^{\\left(-i \\, b {\\left(g_{1} - 1\\right)} k_{0} - i \\, b {\\left(g_{1} - 1\\right)} k_{1}\\right)} - D_{z_{0}} c^{4} \\epsilon_{0}^{2} \\epsilon_{1} k_{0} k_{1} \\kappa^{3} \\omega J_{m - 1}(\\kappa r) \\cos\\left(-b {\\left(g_{1} - 1\\right)} k_{0}\\right) \\cos\\left(-b {\\left(g_{1} - 1\\right)} k_{1}\\right) \\cos\\left(b g_{1} k_{1}\\right) \\cos\\left(m p\\right) e^{\\left(-i \\, b {\\left(g_{1} - 1\\right)} k_{0} - i \\, b {\\left(g_{1} - 1\\right)} k_{1}\\right)} + 4 \\, \\pi^{2} D_{z_{0}} c^{2} \\epsilon_{0}^{2} k_{0} k_{1} \\kappa \\mu_{1} \\omega \\sigma_{1}^{2} J_{m - 1}(\\kappa r) \\cos\\left(-b {\\left(g_{1} - 1\\right)} k_{0}\\right) \\cos\\left(-b {\\left(g_{1} - 1\\right)} k_{1}\\right) \\cos\\left(b g_{1} k_{1}\\right) \\cos\\left(m p\\right) e^{\\left(-i \\, b {\\left(g_{1} - 1\\right)} k_{0} - i \\, b {\\left(g_{1} - 1\\right)} k_{1}\\right)} - D_{z_{0}} c^{4} \\epsilon_{0}^{2} \\epsilon_{1} k_{0} k_{1} \\kappa^{3} \\omega J_{m + 1}(\\kappa r) \\cos\\left(-b {\\left(g_{1} - 1\\right)} k_{0}\\right) \\cos\\left(m p\\right) e^{\\left(-i \\, b {\\left(g_{1} - 1\\right)} k_{0} - i \\, b {\\left(g_{1} - 1\\right)} k_{1}\\right)} \\sin\\left(-b {\\left(g_{1} - 1\\right)} k_{1}\\right) \\sin\\left(b g_{1} k_{1}\\right) + 4 \\, \\pi^{2} D_{z_{0}} c^{2} \\epsilon_{0}^{2} k_{0} k_{1} \\kappa \\mu_{1} \\omega \\sigma_{1}^{2} J_{m + 1}(\\kappa r) \\cos\\left(-b {\\left(g_{1} - 1\\right)} k_{0}\\right) \\cos\\left(m p\\right) e^{\\left(-i \\, b {\\left(g_{1} - 1\\right)} k_{0} - i \\, b {\\left(g_{1} - 1\\right)} k_{1}\\right)} \\sin\\left(-b {\\left(g_{1} - 1\\right)} k_{1}\\right) \\sin\\left(b g_{1} k_{1}\\right) + D_{z_{0}} c^{4} \\epsilon_{0}^{2} \\epsilon_{1} k_{0} k_{1} \\kappa^{3} \\omega J_{m - 1}(\\kappa r) \\cos\\left(-b {\\left(g_{1} - 1\\right)} k_{0}\\right) \\cos\\left(m p\\right) e^{\\left(-i \\, b {\\left(g_{1} - 1\\right)} k_{0} - i \\, b {\\left(g_{1} - 1\\right)} k_{1}\\right)} \\sin\\left(-b {\\left(g_{1} - 1\\right)} k_{1}\\right) \\sin\\left(b g_{1} k_{1}\\right) - 4 \\, \\pi^{2} D_{z_{0}} c^{2} \\epsilon_{0}^{2} k_{0} k_{1} \\kappa \\mu_{1} \\omega \\sigma_{1}^{2} J_{m - 1}(\\kappa r) \\cos\\left(-b {\\left(g_{1} - 1\\right)} k_{0}\\right) \\cos\\left(m p\\right) e^{\\left(-i \\, b {\\left(g_{1} - 1\\right)} k_{0} - i \\, b {\\left(g_{1} - 1\\right)} k_{1}\\right)} \\sin\\left(-b {\\left(g_{1} - 1\\right)} k_{1}\\right) \\sin\\left(b g_{1} k_{1}\\right) - 8 \\, \\pi c^{2} \\epsilon_{0}^{2} \\epsilon_{1} k_{1} \\kappa^{2} \\mu_{0} \\omega^{2} \\sigma_{0} \\cos\\left(-b {\\left(g_{1} - 1\\right)} k_{1}\\right) \\cos\\left(b g_{1} k_{1}\\right) e^{\\left(-i \\, b {\\left(g_{1} - 1\\right)} k_{0} - i \\, b {\\left(g_{1} - 1\\right)} k_{1}\\right)} \\sin\\left(-b {\\left(g_{1} - 1\\right)} k_{0}\\right) + 32 \\, \\pi^{3} \\epsilon_{0}^{2} k_{1} \\mu_{0} \\mu_{1} \\omega^{2} \\sigma_{0} \\sigma_{1}^{2} \\cos\\left(-b {\\left(g_{1} - 1\\right)} k_{1}\\right) \\cos\\left(b g_{1} k_{1}\\right) e^{\\left(-i \\, b {\\left(g_{1} - 1\\right)} k_{0} - i \\, b {\\left(g_{1} - 1\\right)} k_{1}\\right)} \\sin\\left(-b {\\left(g_{1} - 1\\right)} k_{0}\\right) + 8 \\, \\pi c^{2} \\epsilon_{0} \\epsilon_{1}^{2} k_{0} \\kappa^{2} \\mu_{1} \\omega^{2} \\sigma_{1} \\cos\\left(-b {\\left(g_{1} - 1\\right)} k_{1}\\right) \\cos\\left(b g_{1} k_{1}\\right) e^{\\left(-i \\, b {\\left(g_{1} - 1\\right)} k_{0} - i \\, b {\\left(g_{1} - 1\\right)} k_{1}\\right)} \\sin\\left(-b {\\left(g_{1} - 1\\right)} k_{1}\\right) - 32 \\, \\pi^{3} \\epsilon_{1}^{2} k_{0} \\mu_{0} \\mu_{1} \\omega^{2} \\sigma_{0}^{2} \\sigma_{1} \\cos\\left(-b {\\left(g_{1} - 1\\right)} k_{1}\\right) \\cos\\left(b g_{1} k_{1}\\right) e^{\\left(-i \\, b {\\left(g_{1} - 1\\right)} k_{0} - i \\, b {\\left(g_{1} - 1\\right)} k_{1}\\right)} \\sin\\left(-b {\\left(g_{1} - 1\\right)} k_{1}\\right) + 8 \\, \\pi c^{2} \\epsilon_{0} \\epsilon_{1}^{2} k_{0} \\kappa^{2} \\mu_{1} \\omega^{2} \\sigma_{1} \\cos\\left(b g_{1} k_{1}\\right) e^{\\left(-i \\, b {\\left(g_{1} - 1\\right)} k_{0} - i \\, b {\\left(g_{1} - 1\\right)} k_{1}\\right)} \\sin\\left(-b {\\left(g_{1} - 1\\right)} k_{1}\\right)^{2} - 32 \\, \\pi^{3} \\epsilon_{1}^{2} k_{0} \\mu_{0} \\mu_{1} \\omega^{2} \\sigma_{0}^{2} \\sigma_{1} \\cos\\left(b g_{1} k_{1}\\right) e^{\\left(-i \\, b {\\left(g_{1} - 1\\right)} k_{0} - i \\, b {\\left(g_{1} - 1\\right)} k_{1}\\right)} \\sin\\left(-b {\\left(g_{1} - 1\\right)} k_{1}\\right)^{2} + 8 \\, \\pi c^{2} \\epsilon_{0} \\epsilon_{1}^{2} k_{0} \\kappa^{2} \\mu_{1} \\omega^{2} \\sigma_{1} \\cos\\left(-b {\\left(g_{1} - 1\\right)} k_{1}\\right) e^{\\left(-i \\, b {\\left(g_{1} - 1\\right)} k_{0} - i \\, b {\\left(g_{1} - 1\\right)} k_{1}\\right)} \\sin\\left(-b {\\left(g_{1} - 1\\right)} k_{1}\\right) \\sin\\left(b g_{1} k_{1}\\right) - 32 \\, \\pi^{3} \\epsilon_{1}^{2} k_{0} \\mu_{0} \\mu_{1} \\omega^{2} \\sigma_{0}^{2} \\sigma_{1} \\cos\\left(-b {\\left(g_{1} - 1\\right)} k_{1}\\right) e^{\\left(-i \\, b {\\left(g_{1} - 1\\right)} k_{0} - i \\, b {\\left(g_{1} - 1\\right)} k_{1}\\right)} \\sin\\left(-b {\\left(g_{1} - 1\\right)} k_{1}\\right) \\sin\\left(b g_{1} k_{1}\\right) + 8 \\, \\pi c^{2} \\epsilon_{0}^{2} \\epsilon_{1} k_{1} \\kappa^{2} \\mu_{0} \\omega^{2} \\sigma_{0} e^{\\left(-i \\, b {\\left(g_{1} - 1\\right)} k_{0} - i \\, b {\\left(g_{1} - 1\\right)} k_{1}\\right)} \\sin\\left(-b {\\left(g_{1} - 1\\right)} k_{0}\\right) \\sin\\left(-b {\\left(g_{1} - 1\\right)} k_{1}\\right) \\sin\\left(b g_{1} k_{1}\\right) - 32 \\, \\pi^{3} \\epsilon_{0}^{2} k_{1} \\mu_{0} \\mu_{1} \\omega^{2} \\sigma_{0} \\sigma_{1}^{2} e^{\\left(-i \\, b {\\left(g_{1} - 1\\right)} k_{0} - i \\, b {\\left(g_{1} - 1\\right)} k_{1}\\right)} \\sin\\left(-b {\\left(g_{1} - 1\\right)} k_{0}\\right) \\sin\\left(-b {\\left(g_{1} - 1\\right)} k_{1}\\right) \\sin\\left(b g_{1} k_{1}\\right) - 8 \\, \\pi c^{2} \\epsilon_{0} \\epsilon_{1}^{2} k_{0} \\kappa^{2} \\mu_{1} \\omega^{2} \\sigma_{1} e^{\\left(-i \\, b {\\left(g_{1} - 1\\right)} k_{0} - i \\, b {\\left(g_{1} - 1\\right)} k_{1}\\right)} \\sin\\left(-b {\\left(g_{1} - 1\\right)} k_{1}\\right)^{2} \\sin\\left(b g_{1} k_{1}\\right) + 32 \\, \\pi^{3} \\epsilon_{1}^{2} k_{0} \\mu_{0} \\mu_{1} \\omega^{2} \\sigma_{0}^{2} \\sigma_{1} e^{\\left(-i \\, b {\\left(g_{1} - 1\\right)} k_{0} - i \\, b {\\left(g_{1} - 1\\right)} k_{1}\\right)} \\sin\\left(-b {\\left(g_{1} - 1\\right)} k_{1}\\right)^{2} \\sin\\left(b g_{1} k_{1}\\right) - 8 \\, \\pi c^{4} \\epsilon_{0} \\epsilon_{1} k_{0} k_{1}^{2} \\kappa^{2} \\sigma_{1} \\cos\\left(-b {\\left(g_{1} - 1\\right)} k_{1}\\right) \\cos\\left(b g_{1} k_{1}\\right) e^{\\left(-i \\, b {\\left(g_{1} - 1\\right)} k_{0}\\right)} + 32 \\, \\pi^{3} c^{2} \\epsilon_{1} k_{0} k_{1}^{2} \\mu_{0} \\sigma_{0}^{2} \\sigma_{1} \\cos\\left(-b {\\left(g_{1} - 1\\right)} k_{1}\\right) \\cos\\left(b g_{1} k_{1}\\right) e^{\\left(-i \\, b {\\left(g_{1} - 1\\right)} k_{0}\\right)} + 8 \\, \\pi c^{4} \\epsilon_{0} \\epsilon_{1} k_{0}^{2} k_{1} \\kappa^{2} \\sigma_{0} \\cos\\left(-b {\\left(g_{1} - 1\\right)} k_{1}\\right) \\cos\\left(b g_{1} k_{1}\\right) e^{\\left(-i \\, b {\\left(g_{1} - 1\\right)} k_{1}\\right)} - 32 \\, \\pi^{3} c^{2} \\epsilon_{0} k_{0}^{2} k_{1} \\mu_{1} \\sigma_{0} \\sigma_{1}^{2} \\cos\\left(-b {\\left(g_{1} - 1\\right)} k_{1}\\right) \\cos\\left(b g_{1} k_{1}\\right) e^{\\left(-i \\, b {\\left(g_{1} - 1\\right)} k_{1}\\right)} + 8 \\, \\pi c^{4} \\epsilon_{0} \\epsilon_{1} k_{0} k_{1}^{2} \\kappa^{2} \\sigma_{1} e^{\\left(-i \\, b {\\left(g_{1} - 1\\right)} k_{0}\\right)} \\sin\\left(-b {\\left(g_{1} - 1\\right)} k_{1}\\right) \\sin\\left(b g_{1} k_{1}\\right) - 32 \\, \\pi^{3} c^{2} \\epsilon_{1} k_{0} k_{1}^{2} \\mu_{0} \\sigma_{0}^{2} \\sigma_{1} e^{\\left(-i \\, b {\\left(g_{1} - 1\\right)} k_{0}\\right)} \\sin\\left(-b {\\left(g_{1} - 1\\right)} k_{1}\\right) \\sin\\left(b g_{1} k_{1}\\right) - 8 \\, \\pi c^{4} \\epsilon_{0} \\epsilon_{1} k_{0}^{2} k_{1} \\kappa^{2} \\sigma_{0} e^{\\left(-i \\, b {\\left(g_{1} - 1\\right)} k_{1}\\right)} \\sin\\left(-b {\\left(g_{1} - 1\\right)} k_{1}\\right) \\sin\\left(b g_{1} k_{1}\\right) + 32 \\, \\pi^{3} c^{2} \\epsilon_{0} k_{0}^{2} k_{1} \\mu_{1} \\sigma_{0} \\sigma_{1}^{2} e^{\\left(-i \\, b {\\left(g_{1} - 1\\right)} k_{1}\\right)} \\sin\\left(-b {\\left(g_{1} - 1\\right)} k_{1}\\right) \\sin\\left(b g_{1} k_{1}\\right)\\right)} \\cos\\left(k_{1} z\\right) e^{\\left(i \\, b {\\left(g_{1} - 1\\right)} k_{0} + i \\, b {\\left(g_{1} - 1\\right)} k_{1}\\right)}}{{\\left(c^{2} \\epsilon_{0} \\kappa^{2} - 4 \\, \\pi^{2} \\mu_{0} \\sigma_{0}^{2}\\right)} c^{2} \\epsilon_{1}^{2} k_{0} k_{1} \\kappa \\omega {\\left(J_{m + 1}(\\kappa r) - J_{m - 1}(\\kappa r)\\right)} \\cos\\left(b g_{1} k_{1}\\right) \\cos\\left(m p\\right)}\\right)} J_{m}(\\kappa {\\rho}) \\cos\\left(m \\varphi\\right)$"
      ],
      "text/plain": [
       "<IPython.core.display.Math object>"
      ]
     },
     "metadata": {},
     "output_type": "display_data"
    }
   ],
   "source": [
    "if 1 < n_layers:\n",
    "    if E_mode:\n",
    "        display(Math(latex(E_z_s[1](rh,ph,z))))\n",
    "    else:\n",
    "        display(Math(latex(H_z_s[1](rh,ph,z))))"
   ]
  },
  {
   "cell_type": "code",
   "execution_count": 175,
   "metadata": {},
   "outputs": [],
   "source": [
    "if 2 < n_layers:\n",
    "    if E_mode:\n",
    "        display(Math(latex(E_z_s[2](rh,ph,z))))\n",
    "    else:\n",
    "        display(Math(latex(H_z_s[2](rh,ph,z))))"
   ]
  },
  {
   "cell_type": "code",
   "execution_count": 176,
   "metadata": {},
   "outputs": [
    {
     "data": {
      "text/latex": [
       "$\\displaystyle \\frac{{\\left({\\left(\\frac{8 i \\, \\pi \\mu_{0} \\omega \\sigma_{0} \\sin\\left(k_{0} z\\right)}{{\\left(c^{2} k_{0} \\kappa J_{m + 1}(\\kappa {\\rho}) - c^{2} k_{0} \\kappa J_{m - 1}(\\kappa {\\rho})\\right)} \\cos\\left(m \\varphi\\right)} - i \\, D_{z_{0}} \\cos\\left(k_{0} z\\right)\\right)} c \\epsilon_{0} m \\omega J_{m}(\\kappa {\\rho}) e^{\\left(i \\, k_{0} z\\right)} \\sin\\left(m \\varphi\\right) - 4 i \\, \\pi c k_{0} {\\rho} \\sigma_{0}\\right)} e^{\\left(-i \\, k_{0} z\\right)}}{{\\left(c^{2} k_{0}^{2} - \\frac{c^{2} \\epsilon_{0} k_{0}^{2} + c^{2} \\epsilon_{0} \\kappa^{2} - 4 \\, \\pi^{2} \\mu_{0} \\sigma_{0}^{2}}{\\epsilon_{0}}\\right)} {\\rho}}$"
      ],
      "text/plain": [
       "<IPython.core.display.Math object>"
      ]
     },
     "metadata": {},
     "output_type": "display_data"
    }
   ],
   "source": [
    "if 0 < n_layers:\n",
    "    display(Math(latex(H_rho_s[0](rh,ph,z))))"
   ]
  },
  {
   "cell_type": "code",
   "execution_count": 177,
   "metadata": {},
   "outputs": [
    {
     "data": {
      "text/latex": [
       "$\\displaystyle \\frac{{\\left(c \\epsilon_{1} m \\omega {\\left(\\frac{{\\left(8 i \\, \\pi \\mu_{1} \\omega \\sigma_{1} {\\left(\\cos\\left(-b {\\left(g_{1} - 1\\right)} k_{1} + b g_{1} k_{1}\\right) + \\sin\\left(-b {\\left(g_{1} - 1\\right)} k_{1} + b g_{1} k_{1}\\right)\\right)} - i \\, {\\left(\\frac{{\\left(D_{z_{0}} c^{4} \\epsilon_{0}^{2} \\epsilon_{1} k_{0} k_{1} \\kappa^{3} \\omega J_{m + 1}(\\kappa r) \\cos\\left(-b {\\left(g_{1} - 1\\right)} k_{0}\\right) \\cos\\left(-b {\\left(g_{1} - 1\\right)} k_{1}\\right) \\cos\\left(b g_{1} k_{1}\\right) \\cos\\left(m p\\right) e^{\\left(-i \\, b {\\left(g_{1} - 1\\right)} k_{0} - i \\, b {\\left(g_{1} - 1\\right)} k_{1}\\right)} - 4 \\, \\pi^{2} D_{z_{0}} c^{2} \\epsilon_{0}^{2} k_{0} k_{1} \\kappa \\mu_{1} \\omega \\sigma_{1}^{2} J_{m + 1}(\\kappa r) \\cos\\left(-b {\\left(g_{1} - 1\\right)} k_{0}\\right) \\cos\\left(-b {\\left(g_{1} - 1\\right)} k_{1}\\right) \\cos\\left(b g_{1} k_{1}\\right) \\cos\\left(m p\\right) e^{\\left(-i \\, b {\\left(g_{1} - 1\\right)} k_{0} - i \\, b {\\left(g_{1} - 1\\right)} k_{1}\\right)} - D_{z_{0}} c^{4} \\epsilon_{0}^{2} \\epsilon_{1} k_{0} k_{1} \\kappa^{3} \\omega J_{m - 1}(\\kappa r) \\cos\\left(-b {\\left(g_{1} - 1\\right)} k_{0}\\right) \\cos\\left(-b {\\left(g_{1} - 1\\right)} k_{1}\\right) \\cos\\left(b g_{1} k_{1}\\right) \\cos\\left(m p\\right) e^{\\left(-i \\, b {\\left(g_{1} - 1\\right)} k_{0} - i \\, b {\\left(g_{1} - 1\\right)} k_{1}\\right)} + 4 \\, \\pi^{2} D_{z_{0}} c^{2} \\epsilon_{0}^{2} k_{0} k_{1} \\kappa \\mu_{1} \\omega \\sigma_{1}^{2} J_{m - 1}(\\kappa r) \\cos\\left(-b {\\left(g_{1} - 1\\right)} k_{0}\\right) \\cos\\left(-b {\\left(g_{1} - 1\\right)} k_{1}\\right) \\cos\\left(b g_{1} k_{1}\\right) \\cos\\left(m p\\right) e^{\\left(-i \\, b {\\left(g_{1} - 1\\right)} k_{0} - i \\, b {\\left(g_{1} - 1\\right)} k_{1}\\right)} - D_{z_{0}} c^{4} \\epsilon_{0}^{2} \\epsilon_{1} k_{0} k_{1} \\kappa^{3} \\omega J_{m + 1}(\\kappa r) \\cos\\left(-b {\\left(g_{1} - 1\\right)} k_{0}\\right) \\cos\\left(m p\\right) e^{\\left(-i \\, b {\\left(g_{1} - 1\\right)} k_{0} - i \\, b {\\left(g_{1} - 1\\right)} k_{1}\\right)} \\sin\\left(-b {\\left(g_{1} - 1\\right)} k_{1}\\right) \\sin\\left(b g_{1} k_{1}\\right) + 4 \\, \\pi^{2} D_{z_{0}} c^{2} \\epsilon_{0}^{2} k_{0} k_{1} \\kappa \\mu_{1} \\omega \\sigma_{1}^{2} J_{m + 1}(\\kappa r) \\cos\\left(-b {\\left(g_{1} - 1\\right)} k_{0}\\right) \\cos\\left(m p\\right) e^{\\left(-i \\, b {\\left(g_{1} - 1\\right)} k_{0} - i \\, b {\\left(g_{1} - 1\\right)} k_{1}\\right)} \\sin\\left(-b {\\left(g_{1} - 1\\right)} k_{1}\\right) \\sin\\left(b g_{1} k_{1}\\right) + D_{z_{0}} c^{4} \\epsilon_{0}^{2} \\epsilon_{1} k_{0} k_{1} \\kappa^{3} \\omega J_{m - 1}(\\kappa r) \\cos\\left(-b {\\left(g_{1} - 1\\right)} k_{0}\\right) \\cos\\left(m p\\right) e^{\\left(-i \\, b {\\left(g_{1} - 1\\right)} k_{0} - i \\, b {\\left(g_{1} - 1\\right)} k_{1}\\right)} \\sin\\left(-b {\\left(g_{1} - 1\\right)} k_{1}\\right) \\sin\\left(b g_{1} k_{1}\\right) - 4 \\, \\pi^{2} D_{z_{0}} c^{2} \\epsilon_{0}^{2} k_{0} k_{1} \\kappa \\mu_{1} \\omega \\sigma_{1}^{2} J_{m - 1}(\\kappa r) \\cos\\left(-b {\\left(g_{1} - 1\\right)} k_{0}\\right) \\cos\\left(m p\\right) e^{\\left(-i \\, b {\\left(g_{1} - 1\\right)} k_{0} - i \\, b {\\left(g_{1} - 1\\right)} k_{1}\\right)} \\sin\\left(-b {\\left(g_{1} - 1\\right)} k_{1}\\right) \\sin\\left(b g_{1} k_{1}\\right) - 8 \\, \\pi c^{2} \\epsilon_{0}^{2} \\epsilon_{1} k_{1} \\kappa^{2} \\mu_{0} \\omega^{2} \\sigma_{0} \\cos\\left(-b {\\left(g_{1} - 1\\right)} k_{1}\\right) \\cos\\left(b g_{1} k_{1}\\right) e^{\\left(-i \\, b {\\left(g_{1} - 1\\right)} k_{0} - i \\, b {\\left(g_{1} - 1\\right)} k_{1}\\right)} \\sin\\left(-b {\\left(g_{1} - 1\\right)} k_{0}\\right) + 32 \\, \\pi^{3} \\epsilon_{0}^{2} k_{1} \\mu_{0} \\mu_{1} \\omega^{2} \\sigma_{0} \\sigma_{1}^{2} \\cos\\left(-b {\\left(g_{1} - 1\\right)} k_{1}\\right) \\cos\\left(b g_{1} k_{1}\\right) e^{\\left(-i \\, b {\\left(g_{1} - 1\\right)} k_{0} - i \\, b {\\left(g_{1} - 1\\right)} k_{1}\\right)} \\sin\\left(-b {\\left(g_{1} - 1\\right)} k_{0}\\right) + 8 \\, \\pi c^{2} \\epsilon_{0} \\epsilon_{1}^{2} k_{0} \\kappa^{2} \\mu_{1} \\omega^{2} \\sigma_{1} \\cos\\left(-b {\\left(g_{1} - 1\\right)} k_{1}\\right) \\cos\\left(b g_{1} k_{1}\\right) e^{\\left(-i \\, b {\\left(g_{1} - 1\\right)} k_{0} - i \\, b {\\left(g_{1} - 1\\right)} k_{1}\\right)} \\sin\\left(-b {\\left(g_{1} - 1\\right)} k_{1}\\right) - 32 \\, \\pi^{3} \\epsilon_{1}^{2} k_{0} \\mu_{0} \\mu_{1} \\omega^{2} \\sigma_{0}^{2} \\sigma_{1} \\cos\\left(-b {\\left(g_{1} - 1\\right)} k_{1}\\right) \\cos\\left(b g_{1} k_{1}\\right) e^{\\left(-i \\, b {\\left(g_{1} - 1\\right)} k_{0} - i \\, b {\\left(g_{1} - 1\\right)} k_{1}\\right)} \\sin\\left(-b {\\left(g_{1} - 1\\right)} k_{1}\\right) + 8 \\, \\pi c^{2} \\epsilon_{0} \\epsilon_{1}^{2} k_{0} \\kappa^{2} \\mu_{1} \\omega^{2} \\sigma_{1} \\cos\\left(b g_{1} k_{1}\\right) e^{\\left(-i \\, b {\\left(g_{1} - 1\\right)} k_{0} - i \\, b {\\left(g_{1} - 1\\right)} k_{1}\\right)} \\sin\\left(-b {\\left(g_{1} - 1\\right)} k_{1}\\right)^{2} - 32 \\, \\pi^{3} \\epsilon_{1}^{2} k_{0} \\mu_{0} \\mu_{1} \\omega^{2} \\sigma_{0}^{2} \\sigma_{1} \\cos\\left(b g_{1} k_{1}\\right) e^{\\left(-i \\, b {\\left(g_{1} - 1\\right)} k_{0} - i \\, b {\\left(g_{1} - 1\\right)} k_{1}\\right)} \\sin\\left(-b {\\left(g_{1} - 1\\right)} k_{1}\\right)^{2} + 8 \\, \\pi c^{2} \\epsilon_{0} \\epsilon_{1}^{2} k_{0} \\kappa^{2} \\mu_{1} \\omega^{2} \\sigma_{1} \\cos\\left(-b {\\left(g_{1} - 1\\right)} k_{1}\\right) e^{\\left(-i \\, b {\\left(g_{1} - 1\\right)} k_{0} - i \\, b {\\left(g_{1} - 1\\right)} k_{1}\\right)} \\sin\\left(-b {\\left(g_{1} - 1\\right)} k_{1}\\right) \\sin\\left(b g_{1} k_{1}\\right) - 32 \\, \\pi^{3} \\epsilon_{1}^{2} k_{0} \\mu_{0} \\mu_{1} \\omega^{2} \\sigma_{0}^{2} \\sigma_{1} \\cos\\left(-b {\\left(g_{1} - 1\\right)} k_{1}\\right) e^{\\left(-i \\, b {\\left(g_{1} - 1\\right)} k_{0} - i \\, b {\\left(g_{1} - 1\\right)} k_{1}\\right)} \\sin\\left(-b {\\left(g_{1} - 1\\right)} k_{1}\\right) \\sin\\left(b g_{1} k_{1}\\right) + 8 \\, \\pi c^{2} \\epsilon_{0}^{2} \\epsilon_{1} k_{1} \\kappa^{2} \\mu_{0} \\omega^{2} \\sigma_{0} e^{\\left(-i \\, b {\\left(g_{1} - 1\\right)} k_{0} - i \\, b {\\left(g_{1} - 1\\right)} k_{1}\\right)} \\sin\\left(-b {\\left(g_{1} - 1\\right)} k_{0}\\right) \\sin\\left(-b {\\left(g_{1} - 1\\right)} k_{1}\\right) \\sin\\left(b g_{1} k_{1}\\right) - 32 \\, \\pi^{3} \\epsilon_{0}^{2} k_{1} \\mu_{0} \\mu_{1} \\omega^{2} \\sigma_{0} \\sigma_{1}^{2} e^{\\left(-i \\, b {\\left(g_{1} - 1\\right)} k_{0} - i \\, b {\\left(g_{1} - 1\\right)} k_{1}\\right)} \\sin\\left(-b {\\left(g_{1} - 1\\right)} k_{0}\\right) \\sin\\left(-b {\\left(g_{1} - 1\\right)} k_{1}\\right) \\sin\\left(b g_{1} k_{1}\\right) - 8 \\, \\pi c^{2} \\epsilon_{0} \\epsilon_{1}^{2} k_{0} \\kappa^{2} \\mu_{1} \\omega^{2} \\sigma_{1} e^{\\left(-i \\, b {\\left(g_{1} - 1\\right)} k_{0} - i \\, b {\\left(g_{1} - 1\\right)} k_{1}\\right)} \\sin\\left(-b {\\left(g_{1} - 1\\right)} k_{1}\\right)^{2} \\sin\\left(b g_{1} k_{1}\\right) + 32 \\, \\pi^{3} \\epsilon_{1}^{2} k_{0} \\mu_{0} \\mu_{1} \\omega^{2} \\sigma_{0}^{2} \\sigma_{1} e^{\\left(-i \\, b {\\left(g_{1} - 1\\right)} k_{0} - i \\, b {\\left(g_{1} - 1\\right)} k_{1}\\right)} \\sin\\left(-b {\\left(g_{1} - 1\\right)} k_{1}\\right)^{2} \\sin\\left(b g_{1} k_{1}\\right) - 8 \\, \\pi c^{4} \\epsilon_{0} \\epsilon_{1} k_{0} k_{1}^{2} \\kappa^{2} \\sigma_{1} \\cos\\left(-b {\\left(g_{1} - 1\\right)} k_{1}\\right) \\cos\\left(b g_{1} k_{1}\\right) e^{\\left(-i \\, b {\\left(g_{1} - 1\\right)} k_{0}\\right)} + 32 \\, \\pi^{3} c^{2} \\epsilon_{1} k_{0} k_{1}^{2} \\mu_{0} \\sigma_{0}^{2} \\sigma_{1} \\cos\\left(-b {\\left(g_{1} - 1\\right)} k_{1}\\right) \\cos\\left(b g_{1} k_{1}\\right) e^{\\left(-i \\, b {\\left(g_{1} - 1\\right)} k_{0}\\right)} + 8 \\, \\pi c^{4} \\epsilon_{0} \\epsilon_{1} k_{0}^{2} k_{1} \\kappa^{2} \\sigma_{0} \\cos\\left(-b {\\left(g_{1} - 1\\right)} k_{1}\\right) \\cos\\left(b g_{1} k_{1}\\right) e^{\\left(-i \\, b {\\left(g_{1} - 1\\right)} k_{1}\\right)} - 32 \\, \\pi^{3} c^{2} \\epsilon_{0} k_{0}^{2} k_{1} \\mu_{1} \\sigma_{0} \\sigma_{1}^{2} \\cos\\left(-b {\\left(g_{1} - 1\\right)} k_{1}\\right) \\cos\\left(b g_{1} k_{1}\\right) e^{\\left(-i \\, b {\\left(g_{1} - 1\\right)} k_{1}\\right)} + 8 \\, \\pi c^{4} \\epsilon_{0} \\epsilon_{1} k_{0} k_{1}^{2} \\kappa^{2} \\sigma_{1} e^{\\left(-i \\, b {\\left(g_{1} - 1\\right)} k_{0}\\right)} \\sin\\left(-b {\\left(g_{1} - 1\\right)} k_{1}\\right) \\sin\\left(b g_{1} k_{1}\\right) - 32 \\, \\pi^{3} c^{2} \\epsilon_{1} k_{0} k_{1}^{2} \\mu_{0} \\sigma_{0}^{2} \\sigma_{1} e^{\\left(-i \\, b {\\left(g_{1} - 1\\right)} k_{0}\\right)} \\sin\\left(-b {\\left(g_{1} - 1\\right)} k_{1}\\right) \\sin\\left(b g_{1} k_{1}\\right) - 8 \\, \\pi c^{4} \\epsilon_{0} \\epsilon_{1} k_{0}^{2} k_{1} \\kappa^{2} \\sigma_{0} e^{\\left(-i \\, b {\\left(g_{1} - 1\\right)} k_{1}\\right)} \\sin\\left(-b {\\left(g_{1} - 1\\right)} k_{1}\\right) \\sin\\left(b g_{1} k_{1}\\right) + 32 \\, \\pi^{3} c^{2} \\epsilon_{0} k_{0}^{2} k_{1} \\mu_{1} \\sigma_{0} \\sigma_{1}^{2} e^{\\left(-i \\, b {\\left(g_{1} - 1\\right)} k_{1}\\right)} \\sin\\left(-b {\\left(g_{1} - 1\\right)} k_{1}\\right) \\sin\\left(b g_{1} k_{1}\\right)\\right)} J_{m + 1}(\\kappa {\\rho}) e^{\\left(i \\, b {\\left(g_{1} - 1\\right)} k_{0} + i \\, b {\\left(g_{1} - 1\\right)} k_{1}\\right)} \\sin\\left(-b {\\left(g_{1} - 1\\right)} k_{1} + b g_{1} k_{1}\\right)}{{\\left(c^{2} \\epsilon_{0} \\kappa^{2} - 4 \\, \\pi^{2} \\mu_{0} \\sigma_{0}^{2}\\right)} \\epsilon_{1}^{2} k_{0} \\omega {\\left(J_{m + 1}(\\kappa r) - J_{m - 1}(\\kappa r)\\right)} \\cos\\left(b g_{1} k_{1}\\right) \\cos\\left(m p\\right)} - \\frac{{\\left(D_{z_{0}} c^{4} \\epsilon_{0}^{2} \\epsilon_{1} k_{0} k_{1} \\kappa^{3} \\omega J_{m + 1}(\\kappa r) \\cos\\left(-b {\\left(g_{1} - 1\\right)} k_{0}\\right) \\cos\\left(-b {\\left(g_{1} - 1\\right)} k_{1}\\right) \\cos\\left(b g_{1} k_{1}\\right) \\cos\\left(m p\\right) e^{\\left(-i \\, b {\\left(g_{1} - 1\\right)} k_{0} - i \\, b {\\left(g_{1} - 1\\right)} k_{1}\\right)} - 4 \\, \\pi^{2} D_{z_{0}} c^{2} \\epsilon_{0}^{2} k_{0} k_{1} \\kappa \\mu_{1} \\omega \\sigma_{1}^{2} J_{m + 1}(\\kappa r) \\cos\\left(-b {\\left(g_{1} - 1\\right)} k_{0}\\right) \\cos\\left(-b {\\left(g_{1} - 1\\right)} k_{1}\\right) \\cos\\left(b g_{1} k_{1}\\right) \\cos\\left(m p\\right) e^{\\left(-i \\, b {\\left(g_{1} - 1\\right)} k_{0} - i \\, b {\\left(g_{1} - 1\\right)} k_{1}\\right)} - D_{z_{0}} c^{4} \\epsilon_{0}^{2} \\epsilon_{1} k_{0} k_{1} \\kappa^{3} \\omega J_{m - 1}(\\kappa r) \\cos\\left(-b {\\left(g_{1} - 1\\right)} k_{0}\\right) \\cos\\left(-b {\\left(g_{1} - 1\\right)} k_{1}\\right) \\cos\\left(b g_{1} k_{1}\\right) \\cos\\left(m p\\right) e^{\\left(-i \\, b {\\left(g_{1} - 1\\right)} k_{0} - i \\, b {\\left(g_{1} - 1\\right)} k_{1}\\right)} + 4 \\, \\pi^{2} D_{z_{0}} c^{2} \\epsilon_{0}^{2} k_{0} k_{1} \\kappa \\mu_{1} \\omega \\sigma_{1}^{2} J_{m - 1}(\\kappa r) \\cos\\left(-b {\\left(g_{1} - 1\\right)} k_{0}\\right) \\cos\\left(-b {\\left(g_{1} - 1\\right)} k_{1}\\right) \\cos\\left(b g_{1} k_{1}\\right) \\cos\\left(m p\\right) e^{\\left(-i \\, b {\\left(g_{1} - 1\\right)} k_{0} - i \\, b {\\left(g_{1} - 1\\right)} k_{1}\\right)} - D_{z_{0}} c^{4} \\epsilon_{0}^{2} \\epsilon_{1} k_{0} k_{1} \\kappa^{3} \\omega J_{m + 1}(\\kappa r) \\cos\\left(-b {\\left(g_{1} - 1\\right)} k_{0}\\right) \\cos\\left(m p\\right) e^{\\left(-i \\, b {\\left(g_{1} - 1\\right)} k_{0} - i \\, b {\\left(g_{1} - 1\\right)} k_{1}\\right)} \\sin\\left(-b {\\left(g_{1} - 1\\right)} k_{1}\\right) \\sin\\left(b g_{1} k_{1}\\right) + 4 \\, \\pi^{2} D_{z_{0}} c^{2} \\epsilon_{0}^{2} k_{0} k_{1} \\kappa \\mu_{1} \\omega \\sigma_{1}^{2} J_{m + 1}(\\kappa r) \\cos\\left(-b {\\left(g_{1} - 1\\right)} k_{0}\\right) \\cos\\left(m p\\right) e^{\\left(-i \\, b {\\left(g_{1} - 1\\right)} k_{0} - i \\, b {\\left(g_{1} - 1\\right)} k_{1}\\right)} \\sin\\left(-b {\\left(g_{1} - 1\\right)} k_{1}\\right) \\sin\\left(b g_{1} k_{1}\\right) + D_{z_{0}} c^{4} \\epsilon_{0}^{2} \\epsilon_{1} k_{0} k_{1} \\kappa^{3} \\omega J_{m - 1}(\\kappa r) \\cos\\left(-b {\\left(g_{1} - 1\\right)} k_{0}\\right) \\cos\\left(m p\\right) e^{\\left(-i \\, b {\\left(g_{1} - 1\\right)} k_{0} - i \\, b {\\left(g_{1} - 1\\right)} k_{1}\\right)} \\sin\\left(-b {\\left(g_{1} - 1\\right)} k_{1}\\right) \\sin\\left(b g_{1} k_{1}\\right) - 4 \\, \\pi^{2} D_{z_{0}} c^{2} \\epsilon_{0}^{2} k_{0} k_{1} \\kappa \\mu_{1} \\omega \\sigma_{1}^{2} J_{m - 1}(\\kappa r) \\cos\\left(-b {\\left(g_{1} - 1\\right)} k_{0}\\right) \\cos\\left(m p\\right) e^{\\left(-i \\, b {\\left(g_{1} - 1\\right)} k_{0} - i \\, b {\\left(g_{1} - 1\\right)} k_{1}\\right)} \\sin\\left(-b {\\left(g_{1} - 1\\right)} k_{1}\\right) \\sin\\left(b g_{1} k_{1}\\right) - 8 \\, \\pi c^{2} \\epsilon_{0}^{2} \\epsilon_{1} k_{1} \\kappa^{2} \\mu_{0} \\omega^{2} \\sigma_{0} \\cos\\left(-b {\\left(g_{1} - 1\\right)} k_{1}\\right) \\cos\\left(b g_{1} k_{1}\\right) e^{\\left(-i \\, b {\\left(g_{1} - 1\\right)} k_{0} - i \\, b {\\left(g_{1} - 1\\right)} k_{1}\\right)} \\sin\\left(-b {\\left(g_{1} - 1\\right)} k_{0}\\right) + 32 \\, \\pi^{3} \\epsilon_{0}^{2} k_{1} \\mu_{0} \\mu_{1} \\omega^{2} \\sigma_{0} \\sigma_{1}^{2} \\cos\\left(-b {\\left(g_{1} - 1\\right)} k_{1}\\right) \\cos\\left(b g_{1} k_{1}\\right) e^{\\left(-i \\, b {\\left(g_{1} - 1\\right)} k_{0} - i \\, b {\\left(g_{1} - 1\\right)} k_{1}\\right)} \\sin\\left(-b {\\left(g_{1} - 1\\right)} k_{0}\\right) + 8 \\, \\pi c^{2} \\epsilon_{0} \\epsilon_{1}^{2} k_{0} \\kappa^{2} \\mu_{1} \\omega^{2} \\sigma_{1} \\cos\\left(-b {\\left(g_{1} - 1\\right)} k_{1}\\right) \\cos\\left(b g_{1} k_{1}\\right) e^{\\left(-i \\, b {\\left(g_{1} - 1\\right)} k_{0} - i \\, b {\\left(g_{1} - 1\\right)} k_{1}\\right)} \\sin\\left(-b {\\left(g_{1} - 1\\right)} k_{1}\\right) - 32 \\, \\pi^{3} \\epsilon_{1}^{2} k_{0} \\mu_{0} \\mu_{1} \\omega^{2} \\sigma_{0}^{2} \\sigma_{1} \\cos\\left(-b {\\left(g_{1} - 1\\right)} k_{1}\\right) \\cos\\left(b g_{1} k_{1}\\right) e^{\\left(-i \\, b {\\left(g_{1} - 1\\right)} k_{0} - i \\, b {\\left(g_{1} - 1\\right)} k_{1}\\right)} \\sin\\left(-b {\\left(g_{1} - 1\\right)} k_{1}\\right) + 8 \\, \\pi c^{2} \\epsilon_{0} \\epsilon_{1}^{2} k_{0} \\kappa^{2} \\mu_{1} \\omega^{2} \\sigma_{1} \\cos\\left(b g_{1} k_{1}\\right) e^{\\left(-i \\, b {\\left(g_{1} - 1\\right)} k_{0} - i \\, b {\\left(g_{1} - 1\\right)} k_{1}\\right)} \\sin\\left(-b {\\left(g_{1} - 1\\right)} k_{1}\\right)^{2} - 32 \\, \\pi^{3} \\epsilon_{1}^{2} k_{0} \\mu_{0} \\mu_{1} \\omega^{2} \\sigma_{0}^{2} \\sigma_{1} \\cos\\left(b g_{1} k_{1}\\right) e^{\\left(-i \\, b {\\left(g_{1} - 1\\right)} k_{0} - i \\, b {\\left(g_{1} - 1\\right)} k_{1}\\right)} \\sin\\left(-b {\\left(g_{1} - 1\\right)} k_{1}\\right)^{2} + 8 \\, \\pi c^{2} \\epsilon_{0} \\epsilon_{1}^{2} k_{0} \\kappa^{2} \\mu_{1} \\omega^{2} \\sigma_{1} \\cos\\left(-b {\\left(g_{1} - 1\\right)} k_{1}\\right) e^{\\left(-i \\, b {\\left(g_{1} - 1\\right)} k_{0} - i \\, b {\\left(g_{1} - 1\\right)} k_{1}\\right)} \\sin\\left(-b {\\left(g_{1} - 1\\right)} k_{1}\\right) \\sin\\left(b g_{1} k_{1}\\right) - 32 \\, \\pi^{3} \\epsilon_{1}^{2} k_{0} \\mu_{0} \\mu_{1} \\omega^{2} \\sigma_{0}^{2} \\sigma_{1} \\cos\\left(-b {\\left(g_{1} - 1\\right)} k_{1}\\right) e^{\\left(-i \\, b {\\left(g_{1} - 1\\right)} k_{0} - i \\, b {\\left(g_{1} - 1\\right)} k_{1}\\right)} \\sin\\left(-b {\\left(g_{1} - 1\\right)} k_{1}\\right) \\sin\\left(b g_{1} k_{1}\\right) + 8 \\, \\pi c^{2} \\epsilon_{0}^{2} \\epsilon_{1} k_{1} \\kappa^{2} \\mu_{0} \\omega^{2} \\sigma_{0} e^{\\left(-i \\, b {\\left(g_{1} - 1\\right)} k_{0} - i \\, b {\\left(g_{1} - 1\\right)} k_{1}\\right)} \\sin\\left(-b {\\left(g_{1} - 1\\right)} k_{0}\\right) \\sin\\left(-b {\\left(g_{1} - 1\\right)} k_{1}\\right) \\sin\\left(b g_{1} k_{1}\\right) - 32 \\, \\pi^{3} \\epsilon_{0}^{2} k_{1} \\mu_{0} \\mu_{1} \\omega^{2} \\sigma_{0} \\sigma_{1}^{2} e^{\\left(-i \\, b {\\left(g_{1} - 1\\right)} k_{0} - i \\, b {\\left(g_{1} - 1\\right)} k_{1}\\right)} \\sin\\left(-b {\\left(g_{1} - 1\\right)} k_{0}\\right) \\sin\\left(-b {\\left(g_{1} - 1\\right)} k_{1}\\right) \\sin\\left(b g_{1} k_{1}\\right) - 8 \\, \\pi c^{2} \\epsilon_{0} \\epsilon_{1}^{2} k_{0} \\kappa^{2} \\mu_{1} \\omega^{2} \\sigma_{1} e^{\\left(-i \\, b {\\left(g_{1} - 1\\right)} k_{0} - i \\, b {\\left(g_{1} - 1\\right)} k_{1}\\right)} \\sin\\left(-b {\\left(g_{1} - 1\\right)} k_{1}\\right)^{2} \\sin\\left(b g_{1} k_{1}\\right) + 32 \\, \\pi^{3} \\epsilon_{1}^{2} k_{0} \\mu_{0} \\mu_{1} \\omega^{2} \\sigma_{0}^{2} \\sigma_{1} e^{\\left(-i \\, b {\\left(g_{1} - 1\\right)} k_{0} - i \\, b {\\left(g_{1} - 1\\right)} k_{1}\\right)} \\sin\\left(-b {\\left(g_{1} - 1\\right)} k_{1}\\right)^{2} \\sin\\left(b g_{1} k_{1}\\right) - 8 \\, \\pi c^{4} \\epsilon_{0} \\epsilon_{1} k_{0} k_{1}^{2} \\kappa^{2} \\sigma_{1} \\cos\\left(-b {\\left(g_{1} - 1\\right)} k_{1}\\right) \\cos\\left(b g_{1} k_{1}\\right) e^{\\left(-i \\, b {\\left(g_{1} - 1\\right)} k_{0}\\right)} + 32 \\, \\pi^{3} c^{2} \\epsilon_{1} k_{0} k_{1}^{2} \\mu_{0} \\sigma_{0}^{2} \\sigma_{1} \\cos\\left(-b {\\left(g_{1} - 1\\right)} k_{1}\\right) \\cos\\left(b g_{1} k_{1}\\right) e^{\\left(-i \\, b {\\left(g_{1} - 1\\right)} k_{0}\\right)} + 8 \\, \\pi c^{4} \\epsilon_{0} \\epsilon_{1} k_{0}^{2} k_{1} \\kappa^{2} \\sigma_{0} \\cos\\left(-b {\\left(g_{1} - 1\\right)} k_{1}\\right) \\cos\\left(b g_{1} k_{1}\\right) e^{\\left(-i \\, b {\\left(g_{1} - 1\\right)} k_{1}\\right)} - 32 \\, \\pi^{3} c^{2} \\epsilon_{0} k_{0}^{2} k_{1} \\mu_{1} \\sigma_{0} \\sigma_{1}^{2} \\cos\\left(-b {\\left(g_{1} - 1\\right)} k_{1}\\right) \\cos\\left(b g_{1} k_{1}\\right) e^{\\left(-i \\, b {\\left(g_{1} - 1\\right)} k_{1}\\right)} + 8 \\, \\pi c^{4} \\epsilon_{0} \\epsilon_{1} k_{0} k_{1}^{2} \\kappa^{2} \\sigma_{1} e^{\\left(-i \\, b {\\left(g_{1} - 1\\right)} k_{0}\\right)} \\sin\\left(-b {\\left(g_{1} - 1\\right)} k_{1}\\right) \\sin\\left(b g_{1} k_{1}\\right) - 32 \\, \\pi^{3} c^{2} \\epsilon_{1} k_{0} k_{1}^{2} \\mu_{0} \\sigma_{0}^{2} \\sigma_{1} e^{\\left(-i \\, b {\\left(g_{1} - 1\\right)} k_{0}\\right)} \\sin\\left(-b {\\left(g_{1} - 1\\right)} k_{1}\\right) \\sin\\left(b g_{1} k_{1}\\right) - 8 \\, \\pi c^{4} \\epsilon_{0} \\epsilon_{1} k_{0}^{2} k_{1} \\kappa^{2} \\sigma_{0} e^{\\left(-i \\, b {\\left(g_{1} - 1\\right)} k_{1}\\right)} \\sin\\left(-b {\\left(g_{1} - 1\\right)} k_{1}\\right) \\sin\\left(b g_{1} k_{1}\\right) + 32 \\, \\pi^{3} c^{2} \\epsilon_{0} k_{0}^{2} k_{1} \\mu_{1} \\sigma_{0} \\sigma_{1}^{2} e^{\\left(-i \\, b {\\left(g_{1} - 1\\right)} k_{1}\\right)} \\sin\\left(-b {\\left(g_{1} - 1\\right)} k_{1}\\right) \\sin\\left(b g_{1} k_{1}\\right)\\right)} J_{m - 1}(\\kappa {\\rho}) e^{\\left(i \\, b {\\left(g_{1} - 1\\right)} k_{0} + i \\, b {\\left(g_{1} - 1\\right)} k_{1}\\right)} \\sin\\left(-b {\\left(g_{1} - 1\\right)} k_{1} + b g_{1} k_{1}\\right)}{{\\left(c^{2} \\epsilon_{0} \\kappa^{2} - 4 \\, \\pi^{2} \\mu_{0} \\sigma_{0}^{2}\\right)} \\epsilon_{1}^{2} k_{0} \\omega {\\left(J_{m + 1}(\\kappa r) - J_{m - 1}(\\kappa r)\\right)} \\cos\\left(b g_{1} k_{1}\\right) \\cos\\left(m p\\right)}\\right)} \\cos\\left(m \\varphi\\right)\\right)} \\sin\\left(k_{1} z\\right)}{{\\left(c^{2} k_{1} \\kappa J_{m + 1}(\\kappa {\\rho}) \\cos\\left(-b {\\left(g_{1} - 1\\right)} k_{1} + b g_{1} k_{1}\\right) - c^{2} k_{1} \\kappa J_{m - 1}(\\kappa {\\rho}) \\cos\\left(-b {\\left(g_{1} - 1\\right)} k_{1} + b g_{1} k_{1}\\right)\\right)} \\cos\\left(m \\varphi\\right)} - \\frac{i \\, {\\left(D_{z_{0}} c^{4} \\epsilon_{0}^{2} \\epsilon_{1} k_{0} k_{1} \\kappa^{3} \\omega J_{m + 1}(\\kappa r) \\cos\\left(-b {\\left(g_{1} - 1\\right)} k_{0}\\right) \\cos\\left(-b {\\left(g_{1} - 1\\right)} k_{1}\\right) \\cos\\left(b g_{1} k_{1}\\right) \\cos\\left(m p\\right) e^{\\left(-i \\, b {\\left(g_{1} - 1\\right)} k_{0} - i \\, b {\\left(g_{1} - 1\\right)} k_{1}\\right)} - 4 \\, \\pi^{2} D_{z_{0}} c^{2} \\epsilon_{0}^{2} k_{0} k_{1} \\kappa \\mu_{1} \\omega \\sigma_{1}^{2} J_{m + 1}(\\kappa r) \\cos\\left(-b {\\left(g_{1} - 1\\right)} k_{0}\\right) \\cos\\left(-b {\\left(g_{1} - 1\\right)} k_{1}\\right) \\cos\\left(b g_{1} k_{1}\\right) \\cos\\left(m p\\right) e^{\\left(-i \\, b {\\left(g_{1} - 1\\right)} k_{0} - i \\, b {\\left(g_{1} - 1\\right)} k_{1}\\right)} - D_{z_{0}} c^{4} \\epsilon_{0}^{2} \\epsilon_{1} k_{0} k_{1} \\kappa^{3} \\omega J_{m - 1}(\\kappa r) \\cos\\left(-b {\\left(g_{1} - 1\\right)} k_{0}\\right) \\cos\\left(-b {\\left(g_{1} - 1\\right)} k_{1}\\right) \\cos\\left(b g_{1} k_{1}\\right) \\cos\\left(m p\\right) e^{\\left(-i \\, b {\\left(g_{1} - 1\\right)} k_{0} - i \\, b {\\left(g_{1} - 1\\right)} k_{1}\\right)} + 4 \\, \\pi^{2} D_{z_{0}} c^{2} \\epsilon_{0}^{2} k_{0} k_{1} \\kappa \\mu_{1} \\omega \\sigma_{1}^{2} J_{m - 1}(\\kappa r) \\cos\\left(-b {\\left(g_{1} - 1\\right)} k_{0}\\right) \\cos\\left(-b {\\left(g_{1} - 1\\right)} k_{1}\\right) \\cos\\left(b g_{1} k_{1}\\right) \\cos\\left(m p\\right) e^{\\left(-i \\, b {\\left(g_{1} - 1\\right)} k_{0} - i \\, b {\\left(g_{1} - 1\\right)} k_{1}\\right)} - D_{z_{0}} c^{4} \\epsilon_{0}^{2} \\epsilon_{1} k_{0} k_{1} \\kappa^{3} \\omega J_{m + 1}(\\kappa r) \\cos\\left(-b {\\left(g_{1} - 1\\right)} k_{0}\\right) \\cos\\left(m p\\right) e^{\\left(-i \\, b {\\left(g_{1} - 1\\right)} k_{0} - i \\, b {\\left(g_{1} - 1\\right)} k_{1}\\right)} \\sin\\left(-b {\\left(g_{1} - 1\\right)} k_{1}\\right) \\sin\\left(b g_{1} k_{1}\\right) + 4 \\, \\pi^{2} D_{z_{0}} c^{2} \\epsilon_{0}^{2} k_{0} k_{1} \\kappa \\mu_{1} \\omega \\sigma_{1}^{2} J_{m + 1}(\\kappa r) \\cos\\left(-b {\\left(g_{1} - 1\\right)} k_{0}\\right) \\cos\\left(m p\\right) e^{\\left(-i \\, b {\\left(g_{1} - 1\\right)} k_{0} - i \\, b {\\left(g_{1} - 1\\right)} k_{1}\\right)} \\sin\\left(-b {\\left(g_{1} - 1\\right)} k_{1}\\right) \\sin\\left(b g_{1} k_{1}\\right) + D_{z_{0}} c^{4} \\epsilon_{0}^{2} \\epsilon_{1} k_{0} k_{1} \\kappa^{3} \\omega J_{m - 1}(\\kappa r) \\cos\\left(-b {\\left(g_{1} - 1\\right)} k_{0}\\right) \\cos\\left(m p\\right) e^{\\left(-i \\, b {\\left(g_{1} - 1\\right)} k_{0} - i \\, b {\\left(g_{1} - 1\\right)} k_{1}\\right)} \\sin\\left(-b {\\left(g_{1} - 1\\right)} k_{1}\\right) \\sin\\left(b g_{1} k_{1}\\right) - 4 \\, \\pi^{2} D_{z_{0}} c^{2} \\epsilon_{0}^{2} k_{0} k_{1} \\kappa \\mu_{1} \\omega \\sigma_{1}^{2} J_{m - 1}(\\kappa r) \\cos\\left(-b {\\left(g_{1} - 1\\right)} k_{0}\\right) \\cos\\left(m p\\right) e^{\\left(-i \\, b {\\left(g_{1} - 1\\right)} k_{0} - i \\, b {\\left(g_{1} - 1\\right)} k_{1}\\right)} \\sin\\left(-b {\\left(g_{1} - 1\\right)} k_{1}\\right) \\sin\\left(b g_{1} k_{1}\\right) - 8 \\, \\pi c^{2} \\epsilon_{0}^{2} \\epsilon_{1} k_{1} \\kappa^{2} \\mu_{0} \\omega^{2} \\sigma_{0} \\cos\\left(-b {\\left(g_{1} - 1\\right)} k_{1}\\right) \\cos\\left(b g_{1} k_{1}\\right) e^{\\left(-i \\, b {\\left(g_{1} - 1\\right)} k_{0} - i \\, b {\\left(g_{1} - 1\\right)} k_{1}\\right)} \\sin\\left(-b {\\left(g_{1} - 1\\right)} k_{0}\\right) + 32 \\, \\pi^{3} \\epsilon_{0}^{2} k_{1} \\mu_{0} \\mu_{1} \\omega^{2} \\sigma_{0} \\sigma_{1}^{2} \\cos\\left(-b {\\left(g_{1} - 1\\right)} k_{1}\\right) \\cos\\left(b g_{1} k_{1}\\right) e^{\\left(-i \\, b {\\left(g_{1} - 1\\right)} k_{0} - i \\, b {\\left(g_{1} - 1\\right)} k_{1}\\right)} \\sin\\left(-b {\\left(g_{1} - 1\\right)} k_{0}\\right) + 8 \\, \\pi c^{2} \\epsilon_{0} \\epsilon_{1}^{2} k_{0} \\kappa^{2} \\mu_{1} \\omega^{2} \\sigma_{1} \\cos\\left(-b {\\left(g_{1} - 1\\right)} k_{1}\\right) \\cos\\left(b g_{1} k_{1}\\right) e^{\\left(-i \\, b {\\left(g_{1} - 1\\right)} k_{0} - i \\, b {\\left(g_{1} - 1\\right)} k_{1}\\right)} \\sin\\left(-b {\\left(g_{1} - 1\\right)} k_{1}\\right) - 32 \\, \\pi^{3} \\epsilon_{1}^{2} k_{0} \\mu_{0} \\mu_{1} \\omega^{2} \\sigma_{0}^{2} \\sigma_{1} \\cos\\left(-b {\\left(g_{1} - 1\\right)} k_{1}\\right) \\cos\\left(b g_{1} k_{1}\\right) e^{\\left(-i \\, b {\\left(g_{1} - 1\\right)} k_{0} - i \\, b {\\left(g_{1} - 1\\right)} k_{1}\\right)} \\sin\\left(-b {\\left(g_{1} - 1\\right)} k_{1}\\right) + 8 \\, \\pi c^{2} \\epsilon_{0} \\epsilon_{1}^{2} k_{0} \\kappa^{2} \\mu_{1} \\omega^{2} \\sigma_{1} \\cos\\left(b g_{1} k_{1}\\right) e^{\\left(-i \\, b {\\left(g_{1} - 1\\right)} k_{0} - i \\, b {\\left(g_{1} - 1\\right)} k_{1}\\right)} \\sin\\left(-b {\\left(g_{1} - 1\\right)} k_{1}\\right)^{2} - 32 \\, \\pi^{3} \\epsilon_{1}^{2} k_{0} \\mu_{0} \\mu_{1} \\omega^{2} \\sigma_{0}^{2} \\sigma_{1} \\cos\\left(b g_{1} k_{1}\\right) e^{\\left(-i \\, b {\\left(g_{1} - 1\\right)} k_{0} - i \\, b {\\left(g_{1} - 1\\right)} k_{1}\\right)} \\sin\\left(-b {\\left(g_{1} - 1\\right)} k_{1}\\right)^{2} + 8 \\, \\pi c^{2} \\epsilon_{0} \\epsilon_{1}^{2} k_{0} \\kappa^{2} \\mu_{1} \\omega^{2} \\sigma_{1} \\cos\\left(-b {\\left(g_{1} - 1\\right)} k_{1}\\right) e^{\\left(-i \\, b {\\left(g_{1} - 1\\right)} k_{0} - i \\, b {\\left(g_{1} - 1\\right)} k_{1}\\right)} \\sin\\left(-b {\\left(g_{1} - 1\\right)} k_{1}\\right) \\sin\\left(b g_{1} k_{1}\\right) - 32 \\, \\pi^{3} \\epsilon_{1}^{2} k_{0} \\mu_{0} \\mu_{1} \\omega^{2} \\sigma_{0}^{2} \\sigma_{1} \\cos\\left(-b {\\left(g_{1} - 1\\right)} k_{1}\\right) e^{\\left(-i \\, b {\\left(g_{1} - 1\\right)} k_{0} - i \\, b {\\left(g_{1} - 1\\right)} k_{1}\\right)} \\sin\\left(-b {\\left(g_{1} - 1\\right)} k_{1}\\right) \\sin\\left(b g_{1} k_{1}\\right) + 8 \\, \\pi c^{2} \\epsilon_{0}^{2} \\epsilon_{1} k_{1} \\kappa^{2} \\mu_{0} \\omega^{2} \\sigma_{0} e^{\\left(-i \\, b {\\left(g_{1} - 1\\right)} k_{0} - i \\, b {\\left(g_{1} - 1\\right)} k_{1}\\right)} \\sin\\left(-b {\\left(g_{1} - 1\\right)} k_{0}\\right) \\sin\\left(-b {\\left(g_{1} - 1\\right)} k_{1}\\right) \\sin\\left(b g_{1} k_{1}\\right) - 32 \\, \\pi^{3} \\epsilon_{0}^{2} k_{1} \\mu_{0} \\mu_{1} \\omega^{2} \\sigma_{0} \\sigma_{1}^{2} e^{\\left(-i \\, b {\\left(g_{1} - 1\\right)} k_{0} - i \\, b {\\left(g_{1} - 1\\right)} k_{1}\\right)} \\sin\\left(-b {\\left(g_{1} - 1\\right)} k_{0}\\right) \\sin\\left(-b {\\left(g_{1} - 1\\right)} k_{1}\\right) \\sin\\left(b g_{1} k_{1}\\right) - 8 \\, \\pi c^{2} \\epsilon_{0} \\epsilon_{1}^{2} k_{0} \\kappa^{2} \\mu_{1} \\omega^{2} \\sigma_{1} e^{\\left(-i \\, b {\\left(g_{1} - 1\\right)} k_{0} - i \\, b {\\left(g_{1} - 1\\right)} k_{1}\\right)} \\sin\\left(-b {\\left(g_{1} - 1\\right)} k_{1}\\right)^{2} \\sin\\left(b g_{1} k_{1}\\right) + 32 \\, \\pi^{3} \\epsilon_{1}^{2} k_{0} \\mu_{0} \\mu_{1} \\omega^{2} \\sigma_{0}^{2} \\sigma_{1} e^{\\left(-i \\, b {\\left(g_{1} - 1\\right)} k_{0} - i \\, b {\\left(g_{1} - 1\\right)} k_{1}\\right)} \\sin\\left(-b {\\left(g_{1} - 1\\right)} k_{1}\\right)^{2} \\sin\\left(b g_{1} k_{1}\\right) - 8 \\, \\pi c^{4} \\epsilon_{0} \\epsilon_{1} k_{0} k_{1}^{2} \\kappa^{2} \\sigma_{1} \\cos\\left(-b {\\left(g_{1} - 1\\right)} k_{1}\\right) \\cos\\left(b g_{1} k_{1}\\right) e^{\\left(-i \\, b {\\left(g_{1} - 1\\right)} k_{0}\\right)} + 32 \\, \\pi^{3} c^{2} \\epsilon_{1} k_{0} k_{1}^{2} \\mu_{0} \\sigma_{0}^{2} \\sigma_{1} \\cos\\left(-b {\\left(g_{1} - 1\\right)} k_{1}\\right) \\cos\\left(b g_{1} k_{1}\\right) e^{\\left(-i \\, b {\\left(g_{1} - 1\\right)} k_{0}\\right)} + 8 \\, \\pi c^{4} \\epsilon_{0} \\epsilon_{1} k_{0}^{2} k_{1} \\kappa^{2} \\sigma_{0} \\cos\\left(-b {\\left(g_{1} - 1\\right)} k_{1}\\right) \\cos\\left(b g_{1} k_{1}\\right) e^{\\left(-i \\, b {\\left(g_{1} - 1\\right)} k_{1}\\right)} - 32 \\, \\pi^{3} c^{2} \\epsilon_{0} k_{0}^{2} k_{1} \\mu_{1} \\sigma_{0} \\sigma_{1}^{2} \\cos\\left(-b {\\left(g_{1} - 1\\right)} k_{1}\\right) \\cos\\left(b g_{1} k_{1}\\right) e^{\\left(-i \\, b {\\left(g_{1} - 1\\right)} k_{1}\\right)} + 8 \\, \\pi c^{4} \\epsilon_{0} \\epsilon_{1} k_{0} k_{1}^{2} \\kappa^{2} \\sigma_{1} e^{\\left(-i \\, b {\\left(g_{1} - 1\\right)} k_{0}\\right)} \\sin\\left(-b {\\left(g_{1} - 1\\right)} k_{1}\\right) \\sin\\left(b g_{1} k_{1}\\right) - 32 \\, \\pi^{3} c^{2} \\epsilon_{1} k_{0} k_{1}^{2} \\mu_{0} \\sigma_{0}^{2} \\sigma_{1} e^{\\left(-i \\, b {\\left(g_{1} - 1\\right)} k_{0}\\right)} \\sin\\left(-b {\\left(g_{1} - 1\\right)} k_{1}\\right) \\sin\\left(b g_{1} k_{1}\\right) - 8 \\, \\pi c^{4} \\epsilon_{0} \\epsilon_{1} k_{0}^{2} k_{1} \\kappa^{2} \\sigma_{0} e^{\\left(-i \\, b {\\left(g_{1} - 1\\right)} k_{1}\\right)} \\sin\\left(-b {\\left(g_{1} - 1\\right)} k_{1}\\right) \\sin\\left(b g_{1} k_{1}\\right) + 32 \\, \\pi^{3} c^{2} \\epsilon_{0} k_{0}^{2} k_{1} \\mu_{1} \\sigma_{0} \\sigma_{1}^{2} e^{\\left(-i \\, b {\\left(g_{1} - 1\\right)} k_{1}\\right)} \\sin\\left(-b {\\left(g_{1} - 1\\right)} k_{1}\\right) \\sin\\left(b g_{1} k_{1}\\right)\\right)} \\cos\\left(k_{1} z\\right) e^{\\left(i \\, b {\\left(g_{1} - 1\\right)} k_{0} + i \\, b {\\left(g_{1} - 1\\right)} k_{1}\\right)}}{{\\left(c^{2} \\epsilon_{0} \\kappa^{2} - 4 \\, \\pi^{2} \\mu_{0} \\sigma_{0}^{2}\\right)} c^{2} \\epsilon_{1}^{2} k_{0} k_{1} \\kappa \\omega {\\left(J_{m + 1}(\\kappa r) - J_{m - 1}(\\kappa r)\\right)} \\cos\\left(b g_{1} k_{1}\\right) \\cos\\left(m p\\right)}\\right)} J_{m}(\\kappa {\\rho}) e^{\\left(i \\, k_{1} z\\right)} \\sin\\left(m \\varphi\\right) - 4 i \\, \\pi c k_{1} {\\rho} \\sigma_{1}\\right)} e^{\\left(-i \\, k_{1} z\\right)}}{{\\left(c^{2} k_{1}^{2} - \\frac{c^{2} \\epsilon_{1} k_{1}^{2} + c^{2} \\epsilon_{1} \\kappa^{2} - 4 \\, \\pi^{2} \\mu_{1} \\sigma_{1}^{2}}{\\epsilon_{1}}\\right)} {\\rho}}$"
      ],
      "text/plain": [
       "<IPython.core.display.Math object>"
      ]
     },
     "metadata": {},
     "output_type": "display_data"
    }
   ],
   "source": [
    "if 1 < n_layers:\n",
    "    display(Math(latex(H_rho_s[1](rh,ph,z))))"
   ]
  },
  {
   "cell_type": "code",
   "execution_count": 178,
   "metadata": {},
   "outputs": [],
   "source": [
    "if 2 < n_layers:\n",
    "    display(Math(latex(H_rho_s[2](rh,ph,z))))"
   ]
  },
  {
   "cell_type": "code",
   "execution_count": 179,
   "metadata": {},
   "outputs": [
    {
     "data": {
      "text/latex": [
       "$\\displaystyle -\\frac{{\\left({\\left(\\frac{8 i \\, \\pi \\mu_{0} \\omega \\sigma_{0} \\sin\\left(k_{0} z\\right)}{{\\left(c^{2} k_{0} \\kappa J_{m + 1}(\\kappa {\\rho}) - c^{2} k_{0} \\kappa J_{m - 1}(\\kappa {\\rho})\\right)} \\cos\\left(m \\varphi\\right)} - i \\, D_{z_{0}} \\cos\\left(k_{0} z\\right)\\right)} c \\epsilon_{0} \\kappa \\omega {\\rho} {\\left(J_{m + 1}(\\kappa {\\rho}) - J_{m - 1}(\\kappa {\\rho})\\right)} \\cos\\left(m \\varphi\\right) e^{\\left(i \\, k_{0} z\\right)} - 8 i \\, \\pi c k_{0} {\\rho} \\sigma_{0}\\right)} e^{\\left(-i \\, k_{0} z\\right)}}{2 \\, {\\left(c^{2} k_{0}^{2} - \\frac{c^{2} \\epsilon_{0} k_{0}^{2} + c^{2} \\epsilon_{0} \\kappa^{2} - 4 \\, \\pi^{2} \\mu_{0} \\sigma_{0}^{2}}{\\epsilon_{0}}\\right)} {\\rho}}$"
      ],
      "text/plain": [
       "<IPython.core.display.Math object>"
      ]
     },
     "metadata": {},
     "output_type": "display_data"
    }
   ],
   "source": [
    "if 0 < n_layers:\n",
    "    display(Math(latex(H_phi_s[0](rh,ph,z))))"
   ]
  },
  {
   "cell_type": "code",
   "execution_count": 180,
   "metadata": {},
   "outputs": [
    {
     "data": {
      "text/latex": [
       "$\\displaystyle -\\frac{{\\left(c \\epsilon_{1} \\kappa \\omega {\\rho} {\\left(\\frac{{\\left(8 i \\, \\pi \\mu_{1} \\omega \\sigma_{1} {\\left(\\cos\\left(-b {\\left(g_{1} - 1\\right)} k_{1} + b g_{1} k_{1}\\right) + \\sin\\left(-b {\\left(g_{1} - 1\\right)} k_{1} + b g_{1} k_{1}\\right)\\right)} - i \\, {\\left(\\frac{{\\left(D_{z_{0}} c^{4} \\epsilon_{0}^{2} \\epsilon_{1} k_{0} k_{1} \\kappa^{3} \\omega J_{m + 1}(\\kappa r) \\cos\\left(-b {\\left(g_{1} - 1\\right)} k_{0}\\right) \\cos\\left(-b {\\left(g_{1} - 1\\right)} k_{1}\\right) \\cos\\left(b g_{1} k_{1}\\right) \\cos\\left(m p\\right) e^{\\left(-i \\, b {\\left(g_{1} - 1\\right)} k_{0} - i \\, b {\\left(g_{1} - 1\\right)} k_{1}\\right)} - 4 \\, \\pi^{2} D_{z_{0}} c^{2} \\epsilon_{0}^{2} k_{0} k_{1} \\kappa \\mu_{1} \\omega \\sigma_{1}^{2} J_{m + 1}(\\kappa r) \\cos\\left(-b {\\left(g_{1} - 1\\right)} k_{0}\\right) \\cos\\left(-b {\\left(g_{1} - 1\\right)} k_{1}\\right) \\cos\\left(b g_{1} k_{1}\\right) \\cos\\left(m p\\right) e^{\\left(-i \\, b {\\left(g_{1} - 1\\right)} k_{0} - i \\, b {\\left(g_{1} - 1\\right)} k_{1}\\right)} - D_{z_{0}} c^{4} \\epsilon_{0}^{2} \\epsilon_{1} k_{0} k_{1} \\kappa^{3} \\omega J_{m - 1}(\\kappa r) \\cos\\left(-b {\\left(g_{1} - 1\\right)} k_{0}\\right) \\cos\\left(-b {\\left(g_{1} - 1\\right)} k_{1}\\right) \\cos\\left(b g_{1} k_{1}\\right) \\cos\\left(m p\\right) e^{\\left(-i \\, b {\\left(g_{1} - 1\\right)} k_{0} - i \\, b {\\left(g_{1} - 1\\right)} k_{1}\\right)} + 4 \\, \\pi^{2} D_{z_{0}} c^{2} \\epsilon_{0}^{2} k_{0} k_{1} \\kappa \\mu_{1} \\omega \\sigma_{1}^{2} J_{m - 1}(\\kappa r) \\cos\\left(-b {\\left(g_{1} - 1\\right)} k_{0}\\right) \\cos\\left(-b {\\left(g_{1} - 1\\right)} k_{1}\\right) \\cos\\left(b g_{1} k_{1}\\right) \\cos\\left(m p\\right) e^{\\left(-i \\, b {\\left(g_{1} - 1\\right)} k_{0} - i \\, b {\\left(g_{1} - 1\\right)} k_{1}\\right)} - D_{z_{0}} c^{4} \\epsilon_{0}^{2} \\epsilon_{1} k_{0} k_{1} \\kappa^{3} \\omega J_{m + 1}(\\kappa r) \\cos\\left(-b {\\left(g_{1} - 1\\right)} k_{0}\\right) \\cos\\left(m p\\right) e^{\\left(-i \\, b {\\left(g_{1} - 1\\right)} k_{0} - i \\, b {\\left(g_{1} - 1\\right)} k_{1}\\right)} \\sin\\left(-b {\\left(g_{1} - 1\\right)} k_{1}\\right) \\sin\\left(b g_{1} k_{1}\\right) + 4 \\, \\pi^{2} D_{z_{0}} c^{2} \\epsilon_{0}^{2} k_{0} k_{1} \\kappa \\mu_{1} \\omega \\sigma_{1}^{2} J_{m + 1}(\\kappa r) \\cos\\left(-b {\\left(g_{1} - 1\\right)} k_{0}\\right) \\cos\\left(m p\\right) e^{\\left(-i \\, b {\\left(g_{1} - 1\\right)} k_{0} - i \\, b {\\left(g_{1} - 1\\right)} k_{1}\\right)} \\sin\\left(-b {\\left(g_{1} - 1\\right)} k_{1}\\right) \\sin\\left(b g_{1} k_{1}\\right) + D_{z_{0}} c^{4} \\epsilon_{0}^{2} \\epsilon_{1} k_{0} k_{1} \\kappa^{3} \\omega J_{m - 1}(\\kappa r) \\cos\\left(-b {\\left(g_{1} - 1\\right)} k_{0}\\right) \\cos\\left(m p\\right) e^{\\left(-i \\, b {\\left(g_{1} - 1\\right)} k_{0} - i \\, b {\\left(g_{1} - 1\\right)} k_{1}\\right)} \\sin\\left(-b {\\left(g_{1} - 1\\right)} k_{1}\\right) \\sin\\left(b g_{1} k_{1}\\right) - 4 \\, \\pi^{2} D_{z_{0}} c^{2} \\epsilon_{0}^{2} k_{0} k_{1} \\kappa \\mu_{1} \\omega \\sigma_{1}^{2} J_{m - 1}(\\kappa r) \\cos\\left(-b {\\left(g_{1} - 1\\right)} k_{0}\\right) \\cos\\left(m p\\right) e^{\\left(-i \\, b {\\left(g_{1} - 1\\right)} k_{0} - i \\, b {\\left(g_{1} - 1\\right)} k_{1}\\right)} \\sin\\left(-b {\\left(g_{1} - 1\\right)} k_{1}\\right) \\sin\\left(b g_{1} k_{1}\\right) - 8 \\, \\pi c^{2} \\epsilon_{0}^{2} \\epsilon_{1} k_{1} \\kappa^{2} \\mu_{0} \\omega^{2} \\sigma_{0} \\cos\\left(-b {\\left(g_{1} - 1\\right)} k_{1}\\right) \\cos\\left(b g_{1} k_{1}\\right) e^{\\left(-i \\, b {\\left(g_{1} - 1\\right)} k_{0} - i \\, b {\\left(g_{1} - 1\\right)} k_{1}\\right)} \\sin\\left(-b {\\left(g_{1} - 1\\right)} k_{0}\\right) + 32 \\, \\pi^{3} \\epsilon_{0}^{2} k_{1} \\mu_{0} \\mu_{1} \\omega^{2} \\sigma_{0} \\sigma_{1}^{2} \\cos\\left(-b {\\left(g_{1} - 1\\right)} k_{1}\\right) \\cos\\left(b g_{1} k_{1}\\right) e^{\\left(-i \\, b {\\left(g_{1} - 1\\right)} k_{0} - i \\, b {\\left(g_{1} - 1\\right)} k_{1}\\right)} \\sin\\left(-b {\\left(g_{1} - 1\\right)} k_{0}\\right) + 8 \\, \\pi c^{2} \\epsilon_{0} \\epsilon_{1}^{2} k_{0} \\kappa^{2} \\mu_{1} \\omega^{2} \\sigma_{1} \\cos\\left(-b {\\left(g_{1} - 1\\right)} k_{1}\\right) \\cos\\left(b g_{1} k_{1}\\right) e^{\\left(-i \\, b {\\left(g_{1} - 1\\right)} k_{0} - i \\, b {\\left(g_{1} - 1\\right)} k_{1}\\right)} \\sin\\left(-b {\\left(g_{1} - 1\\right)} k_{1}\\right) - 32 \\, \\pi^{3} \\epsilon_{1}^{2} k_{0} \\mu_{0} \\mu_{1} \\omega^{2} \\sigma_{0}^{2} \\sigma_{1} \\cos\\left(-b {\\left(g_{1} - 1\\right)} k_{1}\\right) \\cos\\left(b g_{1} k_{1}\\right) e^{\\left(-i \\, b {\\left(g_{1} - 1\\right)} k_{0} - i \\, b {\\left(g_{1} - 1\\right)} k_{1}\\right)} \\sin\\left(-b {\\left(g_{1} - 1\\right)} k_{1}\\right) + 8 \\, \\pi c^{2} \\epsilon_{0} \\epsilon_{1}^{2} k_{0} \\kappa^{2} \\mu_{1} \\omega^{2} \\sigma_{1} \\cos\\left(b g_{1} k_{1}\\right) e^{\\left(-i \\, b {\\left(g_{1} - 1\\right)} k_{0} - i \\, b {\\left(g_{1} - 1\\right)} k_{1}\\right)} \\sin\\left(-b {\\left(g_{1} - 1\\right)} k_{1}\\right)^{2} - 32 \\, \\pi^{3} \\epsilon_{1}^{2} k_{0} \\mu_{0} \\mu_{1} \\omega^{2} \\sigma_{0}^{2} \\sigma_{1} \\cos\\left(b g_{1} k_{1}\\right) e^{\\left(-i \\, b {\\left(g_{1} - 1\\right)} k_{0} - i \\, b {\\left(g_{1} - 1\\right)} k_{1}\\right)} \\sin\\left(-b {\\left(g_{1} - 1\\right)} k_{1}\\right)^{2} + 8 \\, \\pi c^{2} \\epsilon_{0} \\epsilon_{1}^{2} k_{0} \\kappa^{2} \\mu_{1} \\omega^{2} \\sigma_{1} \\cos\\left(-b {\\left(g_{1} - 1\\right)} k_{1}\\right) e^{\\left(-i \\, b {\\left(g_{1} - 1\\right)} k_{0} - i \\, b {\\left(g_{1} - 1\\right)} k_{1}\\right)} \\sin\\left(-b {\\left(g_{1} - 1\\right)} k_{1}\\right) \\sin\\left(b g_{1} k_{1}\\right) - 32 \\, \\pi^{3} \\epsilon_{1}^{2} k_{0} \\mu_{0} \\mu_{1} \\omega^{2} \\sigma_{0}^{2} \\sigma_{1} \\cos\\left(-b {\\left(g_{1} - 1\\right)} k_{1}\\right) e^{\\left(-i \\, b {\\left(g_{1} - 1\\right)} k_{0} - i \\, b {\\left(g_{1} - 1\\right)} k_{1}\\right)} \\sin\\left(-b {\\left(g_{1} - 1\\right)} k_{1}\\right) \\sin\\left(b g_{1} k_{1}\\right) + 8 \\, \\pi c^{2} \\epsilon_{0}^{2} \\epsilon_{1} k_{1} \\kappa^{2} \\mu_{0} \\omega^{2} \\sigma_{0} e^{\\left(-i \\, b {\\left(g_{1} - 1\\right)} k_{0} - i \\, b {\\left(g_{1} - 1\\right)} k_{1}\\right)} \\sin\\left(-b {\\left(g_{1} - 1\\right)} k_{0}\\right) \\sin\\left(-b {\\left(g_{1} - 1\\right)} k_{1}\\right) \\sin\\left(b g_{1} k_{1}\\right) - 32 \\, \\pi^{3} \\epsilon_{0}^{2} k_{1} \\mu_{0} \\mu_{1} \\omega^{2} \\sigma_{0} \\sigma_{1}^{2} e^{\\left(-i \\, b {\\left(g_{1} - 1\\right)} k_{0} - i \\, b {\\left(g_{1} - 1\\right)} k_{1}\\right)} \\sin\\left(-b {\\left(g_{1} - 1\\right)} k_{0}\\right) \\sin\\left(-b {\\left(g_{1} - 1\\right)} k_{1}\\right) \\sin\\left(b g_{1} k_{1}\\right) - 8 \\, \\pi c^{2} \\epsilon_{0} \\epsilon_{1}^{2} k_{0} \\kappa^{2} \\mu_{1} \\omega^{2} \\sigma_{1} e^{\\left(-i \\, b {\\left(g_{1} - 1\\right)} k_{0} - i \\, b {\\left(g_{1} - 1\\right)} k_{1}\\right)} \\sin\\left(-b {\\left(g_{1} - 1\\right)} k_{1}\\right)^{2} \\sin\\left(b g_{1} k_{1}\\right) + 32 \\, \\pi^{3} \\epsilon_{1}^{2} k_{0} \\mu_{0} \\mu_{1} \\omega^{2} \\sigma_{0}^{2} \\sigma_{1} e^{\\left(-i \\, b {\\left(g_{1} - 1\\right)} k_{0} - i \\, b {\\left(g_{1} - 1\\right)} k_{1}\\right)} \\sin\\left(-b {\\left(g_{1} - 1\\right)} k_{1}\\right)^{2} \\sin\\left(b g_{1} k_{1}\\right) - 8 \\, \\pi c^{4} \\epsilon_{0} \\epsilon_{1} k_{0} k_{1}^{2} \\kappa^{2} \\sigma_{1} \\cos\\left(-b {\\left(g_{1} - 1\\right)} k_{1}\\right) \\cos\\left(b g_{1} k_{1}\\right) e^{\\left(-i \\, b {\\left(g_{1} - 1\\right)} k_{0}\\right)} + 32 \\, \\pi^{3} c^{2} \\epsilon_{1} k_{0} k_{1}^{2} \\mu_{0} \\sigma_{0}^{2} \\sigma_{1} \\cos\\left(-b {\\left(g_{1} - 1\\right)} k_{1}\\right) \\cos\\left(b g_{1} k_{1}\\right) e^{\\left(-i \\, b {\\left(g_{1} - 1\\right)} k_{0}\\right)} + 8 \\, \\pi c^{4} \\epsilon_{0} \\epsilon_{1} k_{0}^{2} k_{1} \\kappa^{2} \\sigma_{0} \\cos\\left(-b {\\left(g_{1} - 1\\right)} k_{1}\\right) \\cos\\left(b g_{1} k_{1}\\right) e^{\\left(-i \\, b {\\left(g_{1} - 1\\right)} k_{1}\\right)} - 32 \\, \\pi^{3} c^{2} \\epsilon_{0} k_{0}^{2} k_{1} \\mu_{1} \\sigma_{0} \\sigma_{1}^{2} \\cos\\left(-b {\\left(g_{1} - 1\\right)} k_{1}\\right) \\cos\\left(b g_{1} k_{1}\\right) e^{\\left(-i \\, b {\\left(g_{1} - 1\\right)} k_{1}\\right)} + 8 \\, \\pi c^{4} \\epsilon_{0} \\epsilon_{1} k_{0} k_{1}^{2} \\kappa^{2} \\sigma_{1} e^{\\left(-i \\, b {\\left(g_{1} - 1\\right)} k_{0}\\right)} \\sin\\left(-b {\\left(g_{1} - 1\\right)} k_{1}\\right) \\sin\\left(b g_{1} k_{1}\\right) - 32 \\, \\pi^{3} c^{2} \\epsilon_{1} k_{0} k_{1}^{2} \\mu_{0} \\sigma_{0}^{2} \\sigma_{1} e^{\\left(-i \\, b {\\left(g_{1} - 1\\right)} k_{0}\\right)} \\sin\\left(-b {\\left(g_{1} - 1\\right)} k_{1}\\right) \\sin\\left(b g_{1} k_{1}\\right) - 8 \\, \\pi c^{4} \\epsilon_{0} \\epsilon_{1} k_{0}^{2} k_{1} \\kappa^{2} \\sigma_{0} e^{\\left(-i \\, b {\\left(g_{1} - 1\\right)} k_{1}\\right)} \\sin\\left(-b {\\left(g_{1} - 1\\right)} k_{1}\\right) \\sin\\left(b g_{1} k_{1}\\right) + 32 \\, \\pi^{3} c^{2} \\epsilon_{0} k_{0}^{2} k_{1} \\mu_{1} \\sigma_{0} \\sigma_{1}^{2} e^{\\left(-i \\, b {\\left(g_{1} - 1\\right)} k_{1}\\right)} \\sin\\left(-b {\\left(g_{1} - 1\\right)} k_{1}\\right) \\sin\\left(b g_{1} k_{1}\\right)\\right)} J_{m + 1}(\\kappa {\\rho}) e^{\\left(i \\, b {\\left(g_{1} - 1\\right)} k_{0} + i \\, b {\\left(g_{1} - 1\\right)} k_{1}\\right)} \\sin\\left(-b {\\left(g_{1} - 1\\right)} k_{1} + b g_{1} k_{1}\\right)}{{\\left(c^{2} \\epsilon_{0} \\kappa^{2} - 4 \\, \\pi^{2} \\mu_{0} \\sigma_{0}^{2}\\right)} \\epsilon_{1}^{2} k_{0} \\omega {\\left(J_{m + 1}(\\kappa r) - J_{m - 1}(\\kappa r)\\right)} \\cos\\left(b g_{1} k_{1}\\right) \\cos\\left(m p\\right)} - \\frac{{\\left(D_{z_{0}} c^{4} \\epsilon_{0}^{2} \\epsilon_{1} k_{0} k_{1} \\kappa^{3} \\omega J_{m + 1}(\\kappa r) \\cos\\left(-b {\\left(g_{1} - 1\\right)} k_{0}\\right) \\cos\\left(-b {\\left(g_{1} - 1\\right)} k_{1}\\right) \\cos\\left(b g_{1} k_{1}\\right) \\cos\\left(m p\\right) e^{\\left(-i \\, b {\\left(g_{1} - 1\\right)} k_{0} - i \\, b {\\left(g_{1} - 1\\right)} k_{1}\\right)} - 4 \\, \\pi^{2} D_{z_{0}} c^{2} \\epsilon_{0}^{2} k_{0} k_{1} \\kappa \\mu_{1} \\omega \\sigma_{1}^{2} J_{m + 1}(\\kappa r) \\cos\\left(-b {\\left(g_{1} - 1\\right)} k_{0}\\right) \\cos\\left(-b {\\left(g_{1} - 1\\right)} k_{1}\\right) \\cos\\left(b g_{1} k_{1}\\right) \\cos\\left(m p\\right) e^{\\left(-i \\, b {\\left(g_{1} - 1\\right)} k_{0} - i \\, b {\\left(g_{1} - 1\\right)} k_{1}\\right)} - D_{z_{0}} c^{4} \\epsilon_{0}^{2} \\epsilon_{1} k_{0} k_{1} \\kappa^{3} \\omega J_{m - 1}(\\kappa r) \\cos\\left(-b {\\left(g_{1} - 1\\right)} k_{0}\\right) \\cos\\left(-b {\\left(g_{1} - 1\\right)} k_{1}\\right) \\cos\\left(b g_{1} k_{1}\\right) \\cos\\left(m p\\right) e^{\\left(-i \\, b {\\left(g_{1} - 1\\right)} k_{0} - i \\, b {\\left(g_{1} - 1\\right)} k_{1}\\right)} + 4 \\, \\pi^{2} D_{z_{0}} c^{2} \\epsilon_{0}^{2} k_{0} k_{1} \\kappa \\mu_{1} \\omega \\sigma_{1}^{2} J_{m - 1}(\\kappa r) \\cos\\left(-b {\\left(g_{1} - 1\\right)} k_{0}\\right) \\cos\\left(-b {\\left(g_{1} - 1\\right)} k_{1}\\right) \\cos\\left(b g_{1} k_{1}\\right) \\cos\\left(m p\\right) e^{\\left(-i \\, b {\\left(g_{1} - 1\\right)} k_{0} - i \\, b {\\left(g_{1} - 1\\right)} k_{1}\\right)} - D_{z_{0}} c^{4} \\epsilon_{0}^{2} \\epsilon_{1} k_{0} k_{1} \\kappa^{3} \\omega J_{m + 1}(\\kappa r) \\cos\\left(-b {\\left(g_{1} - 1\\right)} k_{0}\\right) \\cos\\left(m p\\right) e^{\\left(-i \\, b {\\left(g_{1} - 1\\right)} k_{0} - i \\, b {\\left(g_{1} - 1\\right)} k_{1}\\right)} \\sin\\left(-b {\\left(g_{1} - 1\\right)} k_{1}\\right) \\sin\\left(b g_{1} k_{1}\\right) + 4 \\, \\pi^{2} D_{z_{0}} c^{2} \\epsilon_{0}^{2} k_{0} k_{1} \\kappa \\mu_{1} \\omega \\sigma_{1}^{2} J_{m + 1}(\\kappa r) \\cos\\left(-b {\\left(g_{1} - 1\\right)} k_{0}\\right) \\cos\\left(m p\\right) e^{\\left(-i \\, b {\\left(g_{1} - 1\\right)} k_{0} - i \\, b {\\left(g_{1} - 1\\right)} k_{1}\\right)} \\sin\\left(-b {\\left(g_{1} - 1\\right)} k_{1}\\right) \\sin\\left(b g_{1} k_{1}\\right) + D_{z_{0}} c^{4} \\epsilon_{0}^{2} \\epsilon_{1} k_{0} k_{1} \\kappa^{3} \\omega J_{m - 1}(\\kappa r) \\cos\\left(-b {\\left(g_{1} - 1\\right)} k_{0}\\right) \\cos\\left(m p\\right) e^{\\left(-i \\, b {\\left(g_{1} - 1\\right)} k_{0} - i \\, b {\\left(g_{1} - 1\\right)} k_{1}\\right)} \\sin\\left(-b {\\left(g_{1} - 1\\right)} k_{1}\\right) \\sin\\left(b g_{1} k_{1}\\right) - 4 \\, \\pi^{2} D_{z_{0}} c^{2} \\epsilon_{0}^{2} k_{0} k_{1} \\kappa \\mu_{1} \\omega \\sigma_{1}^{2} J_{m - 1}(\\kappa r) \\cos\\left(-b {\\left(g_{1} - 1\\right)} k_{0}\\right) \\cos\\left(m p\\right) e^{\\left(-i \\, b {\\left(g_{1} - 1\\right)} k_{0} - i \\, b {\\left(g_{1} - 1\\right)} k_{1}\\right)} \\sin\\left(-b {\\left(g_{1} - 1\\right)} k_{1}\\right) \\sin\\left(b g_{1} k_{1}\\right) - 8 \\, \\pi c^{2} \\epsilon_{0}^{2} \\epsilon_{1} k_{1} \\kappa^{2} \\mu_{0} \\omega^{2} \\sigma_{0} \\cos\\left(-b {\\left(g_{1} - 1\\right)} k_{1}\\right) \\cos\\left(b g_{1} k_{1}\\right) e^{\\left(-i \\, b {\\left(g_{1} - 1\\right)} k_{0} - i \\, b {\\left(g_{1} - 1\\right)} k_{1}\\right)} \\sin\\left(-b {\\left(g_{1} - 1\\right)} k_{0}\\right) + 32 \\, \\pi^{3} \\epsilon_{0}^{2} k_{1} \\mu_{0} \\mu_{1} \\omega^{2} \\sigma_{0} \\sigma_{1}^{2} \\cos\\left(-b {\\left(g_{1} - 1\\right)} k_{1}\\right) \\cos\\left(b g_{1} k_{1}\\right) e^{\\left(-i \\, b {\\left(g_{1} - 1\\right)} k_{0} - i \\, b {\\left(g_{1} - 1\\right)} k_{1}\\right)} \\sin\\left(-b {\\left(g_{1} - 1\\right)} k_{0}\\right) + 8 \\, \\pi c^{2} \\epsilon_{0} \\epsilon_{1}^{2} k_{0} \\kappa^{2} \\mu_{1} \\omega^{2} \\sigma_{1} \\cos\\left(-b {\\left(g_{1} - 1\\right)} k_{1}\\right) \\cos\\left(b g_{1} k_{1}\\right) e^{\\left(-i \\, b {\\left(g_{1} - 1\\right)} k_{0} - i \\, b {\\left(g_{1} - 1\\right)} k_{1}\\right)} \\sin\\left(-b {\\left(g_{1} - 1\\right)} k_{1}\\right) - 32 \\, \\pi^{3} \\epsilon_{1}^{2} k_{0} \\mu_{0} \\mu_{1} \\omega^{2} \\sigma_{0}^{2} \\sigma_{1} \\cos\\left(-b {\\left(g_{1} - 1\\right)} k_{1}\\right) \\cos\\left(b g_{1} k_{1}\\right) e^{\\left(-i \\, b {\\left(g_{1} - 1\\right)} k_{0} - i \\, b {\\left(g_{1} - 1\\right)} k_{1}\\right)} \\sin\\left(-b {\\left(g_{1} - 1\\right)} k_{1}\\right) + 8 \\, \\pi c^{2} \\epsilon_{0} \\epsilon_{1}^{2} k_{0} \\kappa^{2} \\mu_{1} \\omega^{2} \\sigma_{1} \\cos\\left(b g_{1} k_{1}\\right) e^{\\left(-i \\, b {\\left(g_{1} - 1\\right)} k_{0} - i \\, b {\\left(g_{1} - 1\\right)} k_{1}\\right)} \\sin\\left(-b {\\left(g_{1} - 1\\right)} k_{1}\\right)^{2} - 32 \\, \\pi^{3} \\epsilon_{1}^{2} k_{0} \\mu_{0} \\mu_{1} \\omega^{2} \\sigma_{0}^{2} \\sigma_{1} \\cos\\left(b g_{1} k_{1}\\right) e^{\\left(-i \\, b {\\left(g_{1} - 1\\right)} k_{0} - i \\, b {\\left(g_{1} - 1\\right)} k_{1}\\right)} \\sin\\left(-b {\\left(g_{1} - 1\\right)} k_{1}\\right)^{2} + 8 \\, \\pi c^{2} \\epsilon_{0} \\epsilon_{1}^{2} k_{0} \\kappa^{2} \\mu_{1} \\omega^{2} \\sigma_{1} \\cos\\left(-b {\\left(g_{1} - 1\\right)} k_{1}\\right) e^{\\left(-i \\, b {\\left(g_{1} - 1\\right)} k_{0} - i \\, b {\\left(g_{1} - 1\\right)} k_{1}\\right)} \\sin\\left(-b {\\left(g_{1} - 1\\right)} k_{1}\\right) \\sin\\left(b g_{1} k_{1}\\right) - 32 \\, \\pi^{3} \\epsilon_{1}^{2} k_{0} \\mu_{0} \\mu_{1} \\omega^{2} \\sigma_{0}^{2} \\sigma_{1} \\cos\\left(-b {\\left(g_{1} - 1\\right)} k_{1}\\right) e^{\\left(-i \\, b {\\left(g_{1} - 1\\right)} k_{0} - i \\, b {\\left(g_{1} - 1\\right)} k_{1}\\right)} \\sin\\left(-b {\\left(g_{1} - 1\\right)} k_{1}\\right) \\sin\\left(b g_{1} k_{1}\\right) + 8 \\, \\pi c^{2} \\epsilon_{0}^{2} \\epsilon_{1} k_{1} \\kappa^{2} \\mu_{0} \\omega^{2} \\sigma_{0} e^{\\left(-i \\, b {\\left(g_{1} - 1\\right)} k_{0} - i \\, b {\\left(g_{1} - 1\\right)} k_{1}\\right)} \\sin\\left(-b {\\left(g_{1} - 1\\right)} k_{0}\\right) \\sin\\left(-b {\\left(g_{1} - 1\\right)} k_{1}\\right) \\sin\\left(b g_{1} k_{1}\\right) - 32 \\, \\pi^{3} \\epsilon_{0}^{2} k_{1} \\mu_{0} \\mu_{1} \\omega^{2} \\sigma_{0} \\sigma_{1}^{2} e^{\\left(-i \\, b {\\left(g_{1} - 1\\right)} k_{0} - i \\, b {\\left(g_{1} - 1\\right)} k_{1}\\right)} \\sin\\left(-b {\\left(g_{1} - 1\\right)} k_{0}\\right) \\sin\\left(-b {\\left(g_{1} - 1\\right)} k_{1}\\right) \\sin\\left(b g_{1} k_{1}\\right) - 8 \\, \\pi c^{2} \\epsilon_{0} \\epsilon_{1}^{2} k_{0} \\kappa^{2} \\mu_{1} \\omega^{2} \\sigma_{1} e^{\\left(-i \\, b {\\left(g_{1} - 1\\right)} k_{0} - i \\, b {\\left(g_{1} - 1\\right)} k_{1}\\right)} \\sin\\left(-b {\\left(g_{1} - 1\\right)} k_{1}\\right)^{2} \\sin\\left(b g_{1} k_{1}\\right) + 32 \\, \\pi^{3} \\epsilon_{1}^{2} k_{0} \\mu_{0} \\mu_{1} \\omega^{2} \\sigma_{0}^{2} \\sigma_{1} e^{\\left(-i \\, b {\\left(g_{1} - 1\\right)} k_{0} - i \\, b {\\left(g_{1} - 1\\right)} k_{1}\\right)} \\sin\\left(-b {\\left(g_{1} - 1\\right)} k_{1}\\right)^{2} \\sin\\left(b g_{1} k_{1}\\right) - 8 \\, \\pi c^{4} \\epsilon_{0} \\epsilon_{1} k_{0} k_{1}^{2} \\kappa^{2} \\sigma_{1} \\cos\\left(-b {\\left(g_{1} - 1\\right)} k_{1}\\right) \\cos\\left(b g_{1} k_{1}\\right) e^{\\left(-i \\, b {\\left(g_{1} - 1\\right)} k_{0}\\right)} + 32 \\, \\pi^{3} c^{2} \\epsilon_{1} k_{0} k_{1}^{2} \\mu_{0} \\sigma_{0}^{2} \\sigma_{1} \\cos\\left(-b {\\left(g_{1} - 1\\right)} k_{1}\\right) \\cos\\left(b g_{1} k_{1}\\right) e^{\\left(-i \\, b {\\left(g_{1} - 1\\right)} k_{0}\\right)} + 8 \\, \\pi c^{4} \\epsilon_{0} \\epsilon_{1} k_{0}^{2} k_{1} \\kappa^{2} \\sigma_{0} \\cos\\left(-b {\\left(g_{1} - 1\\right)} k_{1}\\right) \\cos\\left(b g_{1} k_{1}\\right) e^{\\left(-i \\, b {\\left(g_{1} - 1\\right)} k_{1}\\right)} - 32 \\, \\pi^{3} c^{2} \\epsilon_{0} k_{0}^{2} k_{1} \\mu_{1} \\sigma_{0} \\sigma_{1}^{2} \\cos\\left(-b {\\left(g_{1} - 1\\right)} k_{1}\\right) \\cos\\left(b g_{1} k_{1}\\right) e^{\\left(-i \\, b {\\left(g_{1} - 1\\right)} k_{1}\\right)} + 8 \\, \\pi c^{4} \\epsilon_{0} \\epsilon_{1} k_{0} k_{1}^{2} \\kappa^{2} \\sigma_{1} e^{\\left(-i \\, b {\\left(g_{1} - 1\\right)} k_{0}\\right)} \\sin\\left(-b {\\left(g_{1} - 1\\right)} k_{1}\\right) \\sin\\left(b g_{1} k_{1}\\right) - 32 \\, \\pi^{3} c^{2} \\epsilon_{1} k_{0} k_{1}^{2} \\mu_{0} \\sigma_{0}^{2} \\sigma_{1} e^{\\left(-i \\, b {\\left(g_{1} - 1\\right)} k_{0}\\right)} \\sin\\left(-b {\\left(g_{1} - 1\\right)} k_{1}\\right) \\sin\\left(b g_{1} k_{1}\\right) - 8 \\, \\pi c^{4} \\epsilon_{0} \\epsilon_{1} k_{0}^{2} k_{1} \\kappa^{2} \\sigma_{0} e^{\\left(-i \\, b {\\left(g_{1} - 1\\right)} k_{1}\\right)} \\sin\\left(-b {\\left(g_{1} - 1\\right)} k_{1}\\right) \\sin\\left(b g_{1} k_{1}\\right) + 32 \\, \\pi^{3} c^{2} \\epsilon_{0} k_{0}^{2} k_{1} \\mu_{1} \\sigma_{0} \\sigma_{1}^{2} e^{\\left(-i \\, b {\\left(g_{1} - 1\\right)} k_{1}\\right)} \\sin\\left(-b {\\left(g_{1} - 1\\right)} k_{1}\\right) \\sin\\left(b g_{1} k_{1}\\right)\\right)} J_{m - 1}(\\kappa {\\rho}) e^{\\left(i \\, b {\\left(g_{1} - 1\\right)} k_{0} + i \\, b {\\left(g_{1} - 1\\right)} k_{1}\\right)} \\sin\\left(-b {\\left(g_{1} - 1\\right)} k_{1} + b g_{1} k_{1}\\right)}{{\\left(c^{2} \\epsilon_{0} \\kappa^{2} - 4 \\, \\pi^{2} \\mu_{0} \\sigma_{0}^{2}\\right)} \\epsilon_{1}^{2} k_{0} \\omega {\\left(J_{m + 1}(\\kappa r) - J_{m - 1}(\\kappa r)\\right)} \\cos\\left(b g_{1} k_{1}\\right) \\cos\\left(m p\\right)}\\right)} \\cos\\left(m \\varphi\\right)\\right)} \\sin\\left(k_{1} z\\right)}{{\\left(c^{2} k_{1} \\kappa J_{m + 1}(\\kappa {\\rho}) \\cos\\left(-b {\\left(g_{1} - 1\\right)} k_{1} + b g_{1} k_{1}\\right) - c^{2} k_{1} \\kappa J_{m - 1}(\\kappa {\\rho}) \\cos\\left(-b {\\left(g_{1} - 1\\right)} k_{1} + b g_{1} k_{1}\\right)\\right)} \\cos\\left(m \\varphi\\right)} - \\frac{i \\, {\\left(D_{z_{0}} c^{4} \\epsilon_{0}^{2} \\epsilon_{1} k_{0} k_{1} \\kappa^{3} \\omega J_{m + 1}(\\kappa r) \\cos\\left(-b {\\left(g_{1} - 1\\right)} k_{0}\\right) \\cos\\left(-b {\\left(g_{1} - 1\\right)} k_{1}\\right) \\cos\\left(b g_{1} k_{1}\\right) \\cos\\left(m p\\right) e^{\\left(-i \\, b {\\left(g_{1} - 1\\right)} k_{0} - i \\, b {\\left(g_{1} - 1\\right)} k_{1}\\right)} - 4 \\, \\pi^{2} D_{z_{0}} c^{2} \\epsilon_{0}^{2} k_{0} k_{1} \\kappa \\mu_{1} \\omega \\sigma_{1}^{2} J_{m + 1}(\\kappa r) \\cos\\left(-b {\\left(g_{1} - 1\\right)} k_{0}\\right) \\cos\\left(-b {\\left(g_{1} - 1\\right)} k_{1}\\right) \\cos\\left(b g_{1} k_{1}\\right) \\cos\\left(m p\\right) e^{\\left(-i \\, b {\\left(g_{1} - 1\\right)} k_{0} - i \\, b {\\left(g_{1} - 1\\right)} k_{1}\\right)} - D_{z_{0}} c^{4} \\epsilon_{0}^{2} \\epsilon_{1} k_{0} k_{1} \\kappa^{3} \\omega J_{m - 1}(\\kappa r) \\cos\\left(-b {\\left(g_{1} - 1\\right)} k_{0}\\right) \\cos\\left(-b {\\left(g_{1} - 1\\right)} k_{1}\\right) \\cos\\left(b g_{1} k_{1}\\right) \\cos\\left(m p\\right) e^{\\left(-i \\, b {\\left(g_{1} - 1\\right)} k_{0} - i \\, b {\\left(g_{1} - 1\\right)} k_{1}\\right)} + 4 \\, \\pi^{2} D_{z_{0}} c^{2} \\epsilon_{0}^{2} k_{0} k_{1} \\kappa \\mu_{1} \\omega \\sigma_{1}^{2} J_{m - 1}(\\kappa r) \\cos\\left(-b {\\left(g_{1} - 1\\right)} k_{0}\\right) \\cos\\left(-b {\\left(g_{1} - 1\\right)} k_{1}\\right) \\cos\\left(b g_{1} k_{1}\\right) \\cos\\left(m p\\right) e^{\\left(-i \\, b {\\left(g_{1} - 1\\right)} k_{0} - i \\, b {\\left(g_{1} - 1\\right)} k_{1}\\right)} - D_{z_{0}} c^{4} \\epsilon_{0}^{2} \\epsilon_{1} k_{0} k_{1} \\kappa^{3} \\omega J_{m + 1}(\\kappa r) \\cos\\left(-b {\\left(g_{1} - 1\\right)} k_{0}\\right) \\cos\\left(m p\\right) e^{\\left(-i \\, b {\\left(g_{1} - 1\\right)} k_{0} - i \\, b {\\left(g_{1} - 1\\right)} k_{1}\\right)} \\sin\\left(-b {\\left(g_{1} - 1\\right)} k_{1}\\right) \\sin\\left(b g_{1} k_{1}\\right) + 4 \\, \\pi^{2} D_{z_{0}} c^{2} \\epsilon_{0}^{2} k_{0} k_{1} \\kappa \\mu_{1} \\omega \\sigma_{1}^{2} J_{m + 1}(\\kappa r) \\cos\\left(-b {\\left(g_{1} - 1\\right)} k_{0}\\right) \\cos\\left(m p\\right) e^{\\left(-i \\, b {\\left(g_{1} - 1\\right)} k_{0} - i \\, b {\\left(g_{1} - 1\\right)} k_{1}\\right)} \\sin\\left(-b {\\left(g_{1} - 1\\right)} k_{1}\\right) \\sin\\left(b g_{1} k_{1}\\right) + D_{z_{0}} c^{4} \\epsilon_{0}^{2} \\epsilon_{1} k_{0} k_{1} \\kappa^{3} \\omega J_{m - 1}(\\kappa r) \\cos\\left(-b {\\left(g_{1} - 1\\right)} k_{0}\\right) \\cos\\left(m p\\right) e^{\\left(-i \\, b {\\left(g_{1} - 1\\right)} k_{0} - i \\, b {\\left(g_{1} - 1\\right)} k_{1}\\right)} \\sin\\left(-b {\\left(g_{1} - 1\\right)} k_{1}\\right) \\sin\\left(b g_{1} k_{1}\\right) - 4 \\, \\pi^{2} D_{z_{0}} c^{2} \\epsilon_{0}^{2} k_{0} k_{1} \\kappa \\mu_{1} \\omega \\sigma_{1}^{2} J_{m - 1}(\\kappa r) \\cos\\left(-b {\\left(g_{1} - 1\\right)} k_{0}\\right) \\cos\\left(m p\\right) e^{\\left(-i \\, b {\\left(g_{1} - 1\\right)} k_{0} - i \\, b {\\left(g_{1} - 1\\right)} k_{1}\\right)} \\sin\\left(-b {\\left(g_{1} - 1\\right)} k_{1}\\right) \\sin\\left(b g_{1} k_{1}\\right) - 8 \\, \\pi c^{2} \\epsilon_{0}^{2} \\epsilon_{1} k_{1} \\kappa^{2} \\mu_{0} \\omega^{2} \\sigma_{0} \\cos\\left(-b {\\left(g_{1} - 1\\right)} k_{1}\\right) \\cos\\left(b g_{1} k_{1}\\right) e^{\\left(-i \\, b {\\left(g_{1} - 1\\right)} k_{0} - i \\, b {\\left(g_{1} - 1\\right)} k_{1}\\right)} \\sin\\left(-b {\\left(g_{1} - 1\\right)} k_{0}\\right) + 32 \\, \\pi^{3} \\epsilon_{0}^{2} k_{1} \\mu_{0} \\mu_{1} \\omega^{2} \\sigma_{0} \\sigma_{1}^{2} \\cos\\left(-b {\\left(g_{1} - 1\\right)} k_{1}\\right) \\cos\\left(b g_{1} k_{1}\\right) e^{\\left(-i \\, b {\\left(g_{1} - 1\\right)} k_{0} - i \\, b {\\left(g_{1} - 1\\right)} k_{1}\\right)} \\sin\\left(-b {\\left(g_{1} - 1\\right)} k_{0}\\right) + 8 \\, \\pi c^{2} \\epsilon_{0} \\epsilon_{1}^{2} k_{0} \\kappa^{2} \\mu_{1} \\omega^{2} \\sigma_{1} \\cos\\left(-b {\\left(g_{1} - 1\\right)} k_{1}\\right) \\cos\\left(b g_{1} k_{1}\\right) e^{\\left(-i \\, b {\\left(g_{1} - 1\\right)} k_{0} - i \\, b {\\left(g_{1} - 1\\right)} k_{1}\\right)} \\sin\\left(-b {\\left(g_{1} - 1\\right)} k_{1}\\right) - 32 \\, \\pi^{3} \\epsilon_{1}^{2} k_{0} \\mu_{0} \\mu_{1} \\omega^{2} \\sigma_{0}^{2} \\sigma_{1} \\cos\\left(-b {\\left(g_{1} - 1\\right)} k_{1}\\right) \\cos\\left(b g_{1} k_{1}\\right) e^{\\left(-i \\, b {\\left(g_{1} - 1\\right)} k_{0} - i \\, b {\\left(g_{1} - 1\\right)} k_{1}\\right)} \\sin\\left(-b {\\left(g_{1} - 1\\right)} k_{1}\\right) + 8 \\, \\pi c^{2} \\epsilon_{0} \\epsilon_{1}^{2} k_{0} \\kappa^{2} \\mu_{1} \\omega^{2} \\sigma_{1} \\cos\\left(b g_{1} k_{1}\\right) e^{\\left(-i \\, b {\\left(g_{1} - 1\\right)} k_{0} - i \\, b {\\left(g_{1} - 1\\right)} k_{1}\\right)} \\sin\\left(-b {\\left(g_{1} - 1\\right)} k_{1}\\right)^{2} - 32 \\, \\pi^{3} \\epsilon_{1}^{2} k_{0} \\mu_{0} \\mu_{1} \\omega^{2} \\sigma_{0}^{2} \\sigma_{1} \\cos\\left(b g_{1} k_{1}\\right) e^{\\left(-i \\, b {\\left(g_{1} - 1\\right)} k_{0} - i \\, b {\\left(g_{1} - 1\\right)} k_{1}\\right)} \\sin\\left(-b {\\left(g_{1} - 1\\right)} k_{1}\\right)^{2} + 8 \\, \\pi c^{2} \\epsilon_{0} \\epsilon_{1}^{2} k_{0} \\kappa^{2} \\mu_{1} \\omega^{2} \\sigma_{1} \\cos\\left(-b {\\left(g_{1} - 1\\right)} k_{1}\\right) e^{\\left(-i \\, b {\\left(g_{1} - 1\\right)} k_{0} - i \\, b {\\left(g_{1} - 1\\right)} k_{1}\\right)} \\sin\\left(-b {\\left(g_{1} - 1\\right)} k_{1}\\right) \\sin\\left(b g_{1} k_{1}\\right) - 32 \\, \\pi^{3} \\epsilon_{1}^{2} k_{0} \\mu_{0} \\mu_{1} \\omega^{2} \\sigma_{0}^{2} \\sigma_{1} \\cos\\left(-b {\\left(g_{1} - 1\\right)} k_{1}\\right) e^{\\left(-i \\, b {\\left(g_{1} - 1\\right)} k_{0} - i \\, b {\\left(g_{1} - 1\\right)} k_{1}\\right)} \\sin\\left(-b {\\left(g_{1} - 1\\right)} k_{1}\\right) \\sin\\left(b g_{1} k_{1}\\right) + 8 \\, \\pi c^{2} \\epsilon_{0}^{2} \\epsilon_{1} k_{1} \\kappa^{2} \\mu_{0} \\omega^{2} \\sigma_{0} e^{\\left(-i \\, b {\\left(g_{1} - 1\\right)} k_{0} - i \\, b {\\left(g_{1} - 1\\right)} k_{1}\\right)} \\sin\\left(-b {\\left(g_{1} - 1\\right)} k_{0}\\right) \\sin\\left(-b {\\left(g_{1} - 1\\right)} k_{1}\\right) \\sin\\left(b g_{1} k_{1}\\right) - 32 \\, \\pi^{3} \\epsilon_{0}^{2} k_{1} \\mu_{0} \\mu_{1} \\omega^{2} \\sigma_{0} \\sigma_{1}^{2} e^{\\left(-i \\, b {\\left(g_{1} - 1\\right)} k_{0} - i \\, b {\\left(g_{1} - 1\\right)} k_{1}\\right)} \\sin\\left(-b {\\left(g_{1} - 1\\right)} k_{0}\\right) \\sin\\left(-b {\\left(g_{1} - 1\\right)} k_{1}\\right) \\sin\\left(b g_{1} k_{1}\\right) - 8 \\, \\pi c^{2} \\epsilon_{0} \\epsilon_{1}^{2} k_{0} \\kappa^{2} \\mu_{1} \\omega^{2} \\sigma_{1} e^{\\left(-i \\, b {\\left(g_{1} - 1\\right)} k_{0} - i \\, b {\\left(g_{1} - 1\\right)} k_{1}\\right)} \\sin\\left(-b {\\left(g_{1} - 1\\right)} k_{1}\\right)^{2} \\sin\\left(b g_{1} k_{1}\\right) + 32 \\, \\pi^{3} \\epsilon_{1}^{2} k_{0} \\mu_{0} \\mu_{1} \\omega^{2} \\sigma_{0}^{2} \\sigma_{1} e^{\\left(-i \\, b {\\left(g_{1} - 1\\right)} k_{0} - i \\, b {\\left(g_{1} - 1\\right)} k_{1}\\right)} \\sin\\left(-b {\\left(g_{1} - 1\\right)} k_{1}\\right)^{2} \\sin\\left(b g_{1} k_{1}\\right) - 8 \\, \\pi c^{4} \\epsilon_{0} \\epsilon_{1} k_{0} k_{1}^{2} \\kappa^{2} \\sigma_{1} \\cos\\left(-b {\\left(g_{1} - 1\\right)} k_{1}\\right) \\cos\\left(b g_{1} k_{1}\\right) e^{\\left(-i \\, b {\\left(g_{1} - 1\\right)} k_{0}\\right)} + 32 \\, \\pi^{3} c^{2} \\epsilon_{1} k_{0} k_{1}^{2} \\mu_{0} \\sigma_{0}^{2} \\sigma_{1} \\cos\\left(-b {\\left(g_{1} - 1\\right)} k_{1}\\right) \\cos\\left(b g_{1} k_{1}\\right) e^{\\left(-i \\, b {\\left(g_{1} - 1\\right)} k_{0}\\right)} + 8 \\, \\pi c^{4} \\epsilon_{0} \\epsilon_{1} k_{0}^{2} k_{1} \\kappa^{2} \\sigma_{0} \\cos\\left(-b {\\left(g_{1} - 1\\right)} k_{1}\\right) \\cos\\left(b g_{1} k_{1}\\right) e^{\\left(-i \\, b {\\left(g_{1} - 1\\right)} k_{1}\\right)} - 32 \\, \\pi^{3} c^{2} \\epsilon_{0} k_{0}^{2} k_{1} \\mu_{1} \\sigma_{0} \\sigma_{1}^{2} \\cos\\left(-b {\\left(g_{1} - 1\\right)} k_{1}\\right) \\cos\\left(b g_{1} k_{1}\\right) e^{\\left(-i \\, b {\\left(g_{1} - 1\\right)} k_{1}\\right)} + 8 \\, \\pi c^{4} \\epsilon_{0} \\epsilon_{1} k_{0} k_{1}^{2} \\kappa^{2} \\sigma_{1} e^{\\left(-i \\, b {\\left(g_{1} - 1\\right)} k_{0}\\right)} \\sin\\left(-b {\\left(g_{1} - 1\\right)} k_{1}\\right) \\sin\\left(b g_{1} k_{1}\\right) - 32 \\, \\pi^{3} c^{2} \\epsilon_{1} k_{0} k_{1}^{2} \\mu_{0} \\sigma_{0}^{2} \\sigma_{1} e^{\\left(-i \\, b {\\left(g_{1} - 1\\right)} k_{0}\\right)} \\sin\\left(-b {\\left(g_{1} - 1\\right)} k_{1}\\right) \\sin\\left(b g_{1} k_{1}\\right) - 8 \\, \\pi c^{4} \\epsilon_{0} \\epsilon_{1} k_{0}^{2} k_{1} \\kappa^{2} \\sigma_{0} e^{\\left(-i \\, b {\\left(g_{1} - 1\\right)} k_{1}\\right)} \\sin\\left(-b {\\left(g_{1} - 1\\right)} k_{1}\\right) \\sin\\left(b g_{1} k_{1}\\right) + 32 \\, \\pi^{3} c^{2} \\epsilon_{0} k_{0}^{2} k_{1} \\mu_{1} \\sigma_{0} \\sigma_{1}^{2} e^{\\left(-i \\, b {\\left(g_{1} - 1\\right)} k_{1}\\right)} \\sin\\left(-b {\\left(g_{1} - 1\\right)} k_{1}\\right) \\sin\\left(b g_{1} k_{1}\\right)\\right)} \\cos\\left(k_{1} z\\right) e^{\\left(i \\, b {\\left(g_{1} - 1\\right)} k_{0} + i \\, b {\\left(g_{1} - 1\\right)} k_{1}\\right)}}{{\\left(c^{2} \\epsilon_{0} \\kappa^{2} - 4 \\, \\pi^{2} \\mu_{0} \\sigma_{0}^{2}\\right)} c^{2} \\epsilon_{1}^{2} k_{0} k_{1} \\kappa \\omega {\\left(J_{m + 1}(\\kappa r) - J_{m - 1}(\\kappa r)\\right)} \\cos\\left(b g_{1} k_{1}\\right) \\cos\\left(m p\\right)}\\right)} {\\left(J_{m + 1}(\\kappa {\\rho}) - J_{m - 1}(\\kappa {\\rho})\\right)} \\cos\\left(m \\varphi\\right) e^{\\left(i \\, k_{1} z\\right)} - 8 i \\, \\pi c k_{1} {\\rho} \\sigma_{1}\\right)} e^{\\left(-i \\, k_{1} z\\right)}}{2 \\, {\\left(c^{2} k_{1}^{2} - \\frac{c^{2} \\epsilon_{1} k_{1}^{2} + c^{2} \\epsilon_{1} \\kappa^{2} - 4 \\, \\pi^{2} \\mu_{1} \\sigma_{1}^{2}}{\\epsilon_{1}}\\right)} {\\rho}}$"
      ],
      "text/plain": [
       "<IPython.core.display.Math object>"
      ]
     },
     "metadata": {},
     "output_type": "display_data"
    }
   ],
   "source": [
    "if 1 < n_layers:\n",
    "    display(Math(latex(H_phi_s[1](rh,ph,z))))"
   ]
  },
  {
   "cell_type": "code",
   "execution_count": 181,
   "metadata": {},
   "outputs": [],
   "source": [
    "if 2 < n_layers:\n",
    "    display(Math(latex(H_phi_s[2](rh,ph,z))))"
   ]
  },
  {
   "cell_type": "code",
   "execution_count": 182,
   "metadata": {},
   "outputs": [
    {
     "data": {
      "text/plain": [
       "[kappa^2 == -k_0^2 + (omega^2 + 4*pi^2*sigma_0^2/epsilon_0^2)*epsilon_0*mu_0/c^2,\n",
       " kappa^2 == -k_1^2 + (omega^2 + 4*pi^2*sigma_1^2/epsilon_1^2)*epsilon_1*mu_1/c^2]"
      ]
     },
     "execution_count": 182,
     "metadata": {},
     "output_type": "execute_result"
    }
   ],
   "source": [
    "eq_kappa_dielectric"
   ]
  },
  {
   "cell_type": "code",
   "execution_count": 183,
   "metadata": {},
   "outputs": [
    {
     "data": {
      "text/plain": [
       "2*c^4*epsilon_0^2*epsilon_1*kappa^3*cos(h_0*k_0)/(k_0*sin(h_0*k_0)) - 8*pi^2*c^2*epsilon_0*epsilon_1*kappa*mu_0*sigma_0^2*cos(h_0*k_0)/(k_0*sin(h_0*k_0)) + 2*c^4*epsilon_0*epsilon_1^2*kappa^3*cos(h_1*k_1)/(k_1*sin(h_1*k_1)) - 8*pi^2*c^2*epsilon_0*epsilon_1*kappa*mu_1*sigma_1^2*cos(h_1*k_1)/(k_1*sin(h_1*k_1)) == 0"
      ]
     },
     "execution_count": 183,
     "metadata": {},
     "output_type": "execute_result"
    }
   ],
   "source": [
    "disp_eq"
   ]
  },
  {
   "cell_type": "code",
   "execution_count": 184,
   "metadata": {},
   "outputs": [
    {
     "data": {
      "text/plain": [
       "2.40482555769577"
      ]
     },
     "execution_count": 184,
     "metadata": {},
     "output_type": "execute_result"
    }
   ],
   "source": [
    "if E_mode:\n",
    "    bessel_root_1 = first_bessel_roots[n_val]\n",
    "else:\n",
    "    bessel_root_1 = first_bessel_d_roots[n_val]\n",
    "\n",
    "bessel_root_1"
   ]
  },
  {
   "cell_type": "code",
   "execution_count": 185,
   "metadata": {
    "scrolled": true
   },
   "outputs": [
    {
     "data": {
      "text/plain": [
       "2.40482555769577/a"
      ]
     },
     "execution_count": 185,
     "metadata": {},
     "output_type": "execute_result"
    }
   ],
   "source": [
    "kappa_d1 = bessel_root_1/a\n",
    "kappa_d1"
   ]
  },
  {
   "cell_type": "code",
   "execution_count": 186,
   "metadata": {},
   "outputs": [
    {
     "name": "stdout",
     "output_type": "stream",
     "text": [
      "2.98046134067857e12\n"
     ]
    }
   ],
   "source": [
    "# sgs\n",
    "# https://iopscience.iop.org/article/10.1149/1.2113993/pdf\n",
    "# DC and ac electrical conductivities of silicon dioxide thermally grown on p‐ (boron‐doped) and n‐type (phosphorous‐doped) silicon have been measured in the temperature range of 25°–1100°C. \n",
    "# Total dc conductivities varied from 10−9 to 10−16 Ω−1cm−1\n",
    "# sigma_sgse = 9*10^9 * sigma_SI\n",
    "\n",
    "# https://technoinfo.ru/catalog/napylenie-oksida-titana-tio2/\n",
    "lambda_d = 632*100*10^-9\n",
    "# 632 nm\n",
    "\n",
    "lambda_d = 632*100*10^-6\n",
    "# 0.632 mm\n",
    "\n",
    "lambda_d = 632*100*10^-4\n",
    "# 63.2 mm\n",
    "# 6.32 sm\n",
    "\n",
    "\n",
    "# на низких частотах ферриты обладают высокой относительной диэлектрической проницаемостью, примерно 10^5\n",
    "#epsilon_l_d = 1000\n",
    "#epsilon_r_d = 100\n",
    "\n",
    "# https://referatwork.ru/category/radio/view/399212_naznachenie_i_harakteristiki_ferritov\n",
    "# https://stankiexpert.ru/spravochnik/materialovedenie/ferrity.html\n",
    "epsilon_l_d = 1\n",
    "epsilon_r_d = 10\n",
    "\n",
    "\n",
    "# https://ru.wikipedia.org/wiki/%D0%AD%D0%BB%D0%B5%D0%BA%D1%82%D1%80%D0%BE%D0%BF%D1%80%D0%BE%D0%B2%D0%BE%D0%B4%D0%BD%D0%BE%D1%81%D1%82%D1%8C\n",
    "# серебро          62 500 000\n",
    "# медь             59 500 000\n",
    "# железо чистое    10 000 000\n",
    "# константан        2 000 000\n",
    "\n",
    "# https://dpva.ru/Guide/GuidePhysics/ElectricityAndMagnethism/MagneticPermeability/MagneticPermeabilityGenaralTable/\n",
    "# Medium                                          Permeability     Relative permeability\n",
    "#                                                     - µ -           μ / μ0\n",
    "#                                                    (Гн/м)\n",
    "\n",
    "# Железо (чистота 99.8%)                            6.3*10−3           5000\n",
    "# Железо (99.95% чистое Fe отожженное в водороде)   2.5*10−1         200000\n",
    "# Железо-кобальтовые сплавы                         2.3*10−2          18000\n",
    "\n",
    "# См/м\n",
    "# 1 См = 1 / Ом\n",
    "\n",
    "sigma_l_d = 62500000 / (9*10^9)\n",
    "sigma_l_d = 0\n",
    "\n",
    "sigma_r_d = 2000000 / (9*10^9)\n",
    "#sigma_r_d = 10000000 / (9*10^9)\n",
    "sigma_r_d = 1000 / (9*10^9)\n",
    "\n",
    "mu_l_d = 1\n",
    "mu_r_d = 20000\n",
    "\n",
    "lambda_d = 632*100*10^-9\n",
    "# 632 nm\n",
    "\n",
    "lambda_d = 632*100*10^-6\n",
    "# 0.632 mm\n",
    "\n",
    "\n",
    "digit_values = [m == m_val, a == a_val, mu[0] == mu_l_d, sigma[0] == sigma_l_d]\n",
    "epsilon_values = [epsilon[0] == epsilon_l_d]\n",
    "\n",
    "if 1 < n_layers:\n",
    "    # https://technoinfo.ru/catalog/napylenie-oksida-alyuminiya-al2o3/\n",
    "    # digit_values += [mu[1] == 1, epsilon[1] == 1.67^2, sigma[1] == 9*10^9 * 10 ^-9]\n",
    "    \n",
    "    # https://technoinfo.ru/catalog/napylenie-oksida-kremniya-sio2/\n",
    "    digit_values += [mu[1] == mu_r_d, sigma[1] == sigma_r_d]\n",
    "    epsilon_values += [epsilon[1] == epsilon_r_d]\n",
    "    #epsilon_values += [epsilon[1] == 2.468^2]\n",
    "    \n",
    "if 2 < n_layers:\n",
    "    # https://technoinfo.ru/catalog/napylenie-oksida-kremniya-sio2/\n",
    "    digit_values += [mu[2] == 1, sigma[2] == 9*10^9 * 10 ^-9]\n",
    "    epsilon_values += [epsilon[2] == 1.487^2]\n",
    "\n",
    "#if 3 < n_layers:\n",
    "#    # https://technoinfo.ru/catalog/napylenie-oksida-kremniya-sio2/\n",
    "#    digit_values += [mu[3] == 1, epsilon[3] == 1.487^2, sigma[3] == 9*10^9 * 10 ^-9]\n",
    "    \n",
    "c_value  = [ c == 299792458 * 100]\n",
    "\n",
    "omega_value = [ omega  == ((2*pi * c)/ lambda_d).subs (c_value) ]\n",
    "print(omega_value[0].rhs().n())"
   ]
  },
  {
   "cell_type": "code",
   "execution_count": 187,
   "metadata": {},
   "outputs": [
    {
     "name": "stdout",
     "output_type": "stream",
     "text": [
      "<class 'sage.symbolic.expression.Expression'>\n",
      "<class 'sage.symbolic.expression.Expression'>\n",
      "<class 'sage.symbolic.expression.Expression'>\n",
      "<class 'sage.symbolic.expression.Expression'>\n",
      "<class 'sage.symbolic.expression.Expression'>\n",
      "<class 'sage.symbolic.expression.Expression'>\n",
      "<class 'sage.symbolic.expression.Expression'>\n",
      "<class 'sage.symbolic.expression.Expression'>\n",
      "<class 'sage.symbolic.expression.Expression'>\n",
      "<class 'sage.symbolic.expression.Expression'>\n"
     ]
    }
   ],
   "source": [
    "print(type(omega_value[0].rhs()))\n",
    "print(type(c_value[0].rhs()))\n",
    "for epsilon_value in epsilon_values:\n",
    "    print(type(epsilon_value.rhs()))\n",
    "for digit_value in digit_values:\n",
    "    print(type(digit_value.rhs()))"
   ]
  },
  {
   "cell_type": "code",
   "execution_count": 188,
   "metadata": {},
   "outputs": [
    {
     "name": "stdout",
     "output_type": "stream",
     "text": [
      "74948114500000/79*pi\n",
      "29979245800\n",
      "1\n",
      "10\n",
      "0\n",
      "5\n",
      "1\n",
      "0\n",
      "20000\n",
      "1/9000000\n"
     ]
    }
   ],
   "source": [
    "print((omega_value[0].rhs()))\n",
    "print((c_value[0].rhs()))\n",
    "for epsilon_value in epsilon_values:\n",
    "    print((epsilon_value.rhs()))\n",
    "for digit_value in digit_values:\n",
    "    print((digit_value.rhs()))"
   ]
  },
  {
   "cell_type": "code",
   "execution_count": 189,
   "metadata": {},
   "outputs": [],
   "source": [
    "epsilon_d = []\n",
    "mu_d = []\n",
    "\n",
    "for i in range(n_layers):\n",
    "    epsilon_d += [epsilon[i].subs(epsilon_values)]\n",
    "    mu_d      += [mu[i].subs(digit_values)]"
   ]
  },
  {
   "cell_type": "code",
   "execution_count": 190,
   "metadata": {},
   "outputs": [],
   "source": [
    "eq_kappa_d = []\n",
    "for i in range(n_layers):\n",
    "    eq_kappa_d += [eq_kappa_dielectric[i].subs(kappa == kappa_d1).subs(digit_values).subs(epsilon_values).subs (c_value).subs(omega_value)]"
   ]
  },
  {
   "cell_type": "code",
   "execution_count": 191,
   "metadata": {
    "scrolled": true
   },
   "outputs": [
    {
     "data": {
      "text/plain": [
       "[0.231327438517871 == 6250000/6241*pi^2 - k_0^2,\n",
       " 0.231327438517871 == 11374870230887848256250000000000000000006241/56792452088776848773805000000000000*pi^2 - k_1^2]"
      ]
     },
     "execution_count": 191,
     "metadata": {},
     "output_type": "execute_result"
    }
   ],
   "source": [
    "eq_kappa_d"
   ]
  },
  {
   "cell_type": "code",
   "execution_count": 192,
   "metadata": {},
   "outputs": [],
   "source": [
    "disp_eq_d = disp_eq.subs(digit_values).subs(epsilon_values).subs (c_value)"
   ]
  },
  {
   "cell_type": "code",
   "execution_count": 193,
   "metadata": {},
   "outputs": [
    {
     "data": {
      "text/plain": [
       "16155217426124980458527601492303392000000000*kappa^3*cos(h_0*k_0)/(k_0*sin(h_0*k_0)) - 179751035747363528/10125*pi^2*kappa*cos(h_1*k_1)/(k_1*sin(h_1*k_1)) + 161552174261249804585276014923033920000000000*kappa^3*cos(h_1*k_1)/(k_1*sin(h_1*k_1)) == 0"
      ]
     },
     "execution_count": 193,
     "metadata": {},
     "output_type": "execute_result"
    }
   ],
   "source": [
    "disp_eq_d"
   ]
  },
  {
   "cell_type": "code",
   "execution_count": 194,
   "metadata": {},
   "outputs": [],
   "source": [
    "k_values = []\n",
    "for i in range(n_layers):\n",
    "    assume (k [i] > 0)\n",
    "    k_values += solve (eq_kappa_d[i], k[i])"
   ]
  },
  {
   "cell_type": "code",
   "execution_count": 195,
   "metadata": {},
   "outputs": [
    {
     "data": {
      "text/plain": [
       "[k_0 == 1/79*sqrt(6250000*pi^2 - 41546156011/28777265),\n",
       " k_1 == 1/106576218819000000*sqrt(11374870230887848256250000000000000000006241/5*pi^2 - 15122628262955076310344217786200000000000/5755453)]"
      ]
     },
     "execution_count": 195,
     "metadata": {},
     "output_type": "execute_result"
    }
   ],
   "source": [
    "k_values"
   ]
  },
  {
   "cell_type": "code",
   "execution_count": 196,
   "metadata": {},
   "outputs": [],
   "source": [
    "k_values_d = []\n",
    "for i in range(n_layers):\n",
    "    k_values_d += [k_values [i].lhs() == k_values [i].rhs().n() ]"
   ]
  },
  {
   "cell_type": "code",
   "execution_count": 197,
   "metadata": {},
   "outputs": [
    {
     "data": {
      "text/plain": [
       "[k_0 == 99.4163256166364, k_1 == 44460.8527255044]"
      ]
     },
     "execution_count": 197,
     "metadata": {},
     "output_type": "execute_result"
    }
   ],
   "source": [
    "k_values_d"
   ]
  },
  {
   "cell_type": "code",
   "execution_count": 198,
   "metadata": {},
   "outputs": [
    {
     "data": {
      "text/plain": [
       "16155217426124980458527601492303392000000000*kappa^3*cos(h_0*k_0)/(k_0*sin(h_0*k_0)) - 179751035747363528/10125*pi^2*kappa*cos(h_1*k_1)/(k_1*sin(h_1*k_1)) + 161552174261249804585276014923033920000000000*kappa^3*cos(h_1*k_1)/(k_1*sin(h_1*k_1)) == 0"
      ]
     },
     "execution_count": 198,
     "metadata": {},
     "output_type": "execute_result"
    }
   ],
   "source": [
    "disp_eq_d"
   ]
  },
  {
   "cell_type": "code",
   "execution_count": 199,
   "metadata": {},
   "outputs": [],
   "source": [
    "disp_eq_s = disp_eq_d.subs(k_values_d).subs(kappa == kappa_d1)"
   ]
  },
  {
   "cell_type": "code",
   "execution_count": 200,
   "metadata": {},
   "outputs": [
    {
     "data": {
      "text/latex": [
       "$\\displaystyle -\\frac{9.60245234564183 \\times 10^{8} \\, \\pi^{2} \\cos\\left(44460.8527255044 \\, h_{1}\\right)}{a \\sin\\left(44460.8527255044 \\, h_{1}\\right)} + \\frac{2.25998645381248 \\times 10^{42} \\, \\cos\\left(99.4163256166364 \\, h_{0}\\right)}{a^{3} \\sin\\left(99.4163256166364 \\, h_{0}\\right)} + \\frac{5.05342420147790 \\times 10^{40} \\, \\cos\\left(44460.8527255044 \\, h_{1}\\right)}{a^{3} \\sin\\left(44460.8527255044 \\, h_{1}\\right)} = 0$"
      ],
      "text/plain": [
       "<IPython.core.display.Math object>"
      ]
     },
     "metadata": {},
     "output_type": "display_data"
    }
   ],
   "source": [
    "display(Math(latex(disp_eq_s)))"
   ]
  },
  {
   "cell_type": "code",
   "execution_count": 201,
   "metadata": {},
   "outputs": [
    {
     "name": "stdout",
     "output_type": "stream",
     "text": [
      "-9.60245234564183e8*pi^2*cos(44460.8527255044*h_1)/(a*sin(44460.8527255044*h_1))\n",
      "(a, h_1)\n",
      "operand_denominator a*sin(44460.8527255044*h_1)\n",
      "operand_denominator_operator <function mul_vararg at 0x7fbd31d76790>\n",
      "operand_denominator_variables (a, h_1)\n",
      "operand2 a\n",
      "operand2.variables() (a,)\n",
      "operand2 sin(44460.8527255044*h_1)\n",
      "operand2.variables() (h_1,)\n",
      "trig_operand.operator() <function mul_vararg at 0x7fbd31d76790>\n",
      "trig_operand.operator() [h_1, 44460.8527255044]\n",
      "operand3 44460.8527255044\n",
      "operand_denominator_roots [0.0000706597480931278, 0.000141319496186256, 0.000211979244279383, 0.000282638992372511, 0.000353298740465639, 0.000423958488558767, 0.000494618236651894, 0.000565277984745022, 0.000635937732838150]\n",
      "key = h_1\n",
      "\n",
      "2.25998645381248e42*cos(99.4163256166364*h_0)/(a^3*sin(99.4163256166364*h_0))\n",
      "(a, h_0)\n",
      "operand_denominator a^3*sin(99.4163256166364*h_0)\n",
      "operand_denominator_operator <function mul_vararg at 0x7fbd31d76790>\n",
      "operand_denominator_variables (a, h_0)\n",
      "operand2 a^3\n",
      "operand2.variables() (a,)\n",
      "operand2 sin(99.4163256166364*h_0)\n",
      "operand2.variables() (h_0,)\n",
      "trig_operand.operator() <function mul_vararg at 0x7fbd31d76790>\n",
      "trig_operand.operator() [h_0, 99.4163256166364]\n",
      "operand3 99.4163256166364\n",
      "operand_denominator_roots [0.0316003697994656, 0.0632007395989312, 0.0948011093983967, 0.126401479197862, 0.158001848997328, 0.189602218796793, 0.221202588596259, 0.252802958395725, 0.284403328195190]\n",
      "key = h_0\n",
      "\n",
      "5.05342420147790e40*cos(44460.8527255044*h_1)/(a^3*sin(44460.8527255044*h_1))\n",
      "(a, h_1)\n",
      "operand_denominator a^3*sin(44460.8527255044*h_1)\n",
      "operand_denominator_operator <function mul_vararg at 0x7fbd31d76790>\n",
      "operand_denominator_variables (a, h_1)\n",
      "operand2 a^3\n",
      "operand2.variables() (a,)\n",
      "operand2 sin(44460.8527255044*h_1)\n",
      "operand2.variables() (h_1,)\n",
      "trig_operand.operator() <function mul_vararg at 0x7fbd31d76790>\n",
      "trig_operand.operator() [h_1, 44460.8527255044]\n",
      "operand3 44460.8527255044\n",
      "operand_denominator_roots [0.0000706597480931278, 0.000141319496186256, 0.000211979244279383, 0.000282638992372511, 0.000353298740465639, 0.000423958488558767, 0.000494618236651894, 0.000565277984745022, 0.000635937732838150]\n",
      "key = h_1\n",
      "\n"
     ]
    }
   ],
   "source": [
    "disp_eq_brakes_dict = dict()\n",
    "for operand in disp_eq_s.lhs().operands():\n",
    "    print (operand)\n",
    "    print (operand.variables())\n",
    "    operand_denominator = operand.denominator()\n",
    "    print (\"operand_denominator\", operand_denominator)\n",
    "    from sage.symbolic.operators import add_vararg, mul_vararg\n",
    "    operand_denominator_operator = operand_denominator.operator()\n",
    "    print (\"operand_denominator_operator\", operand_denominator_operator)\n",
    "    operand_denominator_variables = operand_denominator.variables()\n",
    "    print (\"operand_denominator_variables\", operand_denominator_variables)\n",
    "\n",
    "    if mul_vararg == operand_denominator_operator and len(operand_denominator_variables) > 1: #if 2 < n_layers:\n",
    "        for operand2 in operand_denominator.operands():\n",
    "            print (\"operand2\", operand2)\n",
    "            print (\"operand2.variables()\", operand2.variables())\n",
    "            if operand2.operator() in [sin, cos]:\n",
    "                trig_operand = operand2.operands()[0]\n",
    "                print (\"trig_operand.operator()\", trig_operand.operator())\n",
    "                print (\"trig_operand.operator()\", trig_operand.operands())\n",
    "                if mul_vararg == trig_operand.operator():\n",
    "                    for operand3 in trig_operand.operands():\n",
    "                        if len(operand3.variables()) == 0:\n",
    "                            print(\"operand3\", operand3)\n",
    "                            # print(find_root( operand.denominator() == 0, lambda_d/32, lambda_d/3))\n",
    "                            operand_denominator_roots = find_root_recursive(operand2, pi/operand3/360, 10*pi/operand3)\n",
    "                            operand_denominator_roots.sort()\n",
    "                            print(\"operand_denominator_roots\", operand_denominator_roots)\n",
    "                            key = str(operand2.variables()[0])\n",
    "                            print(\"key =\", key)\n",
    "                            if key in disp_eq_brakes_dict.keys():\n",
    "                                for rt in operand_denominator_roots:\n",
    "                                    if rt not in disp_eq_brakes_dict[key]:\n",
    "                                        disp_eq_brakes_dict[key] += [rt]\n",
    "                            else:\n",
    "                                disp_eq_brakes_dict[key] = operand_denominator_roots\n",
    "\n",
    "                            #if rh not in operand.variables() and ph not in operand.variables() and z not in operand.variables():\n",
    "                            #    M_det_num_factor_operands += (operand,)\n",
    "                            print (\"\")\n",
    "    else:\n",
    "        for operand2 in operand_denominator.operands():\n",
    "            print (\"operand2\", operand2)\n",
    "            print (\"operand2.variables()\", operand2.variables())\n",
    "            if operand2.operator() in [sin, cos]:\n",
    "                trig_operand = operand2.operands()[0]\n",
    "                print (\"trig_operand.operator()\", trig_operand.operator())\n",
    "                print (\"trig_operand.operator()\", trig_operand.operands())\n",
    "                if mul_vararg == trig_operand.operator():\n",
    "                    for operand3 in trig_operand.operands():\n",
    "                        if len(operand3.variables()) == 0:\n",
    "                            print(\"operand3\", operand3)\n",
    "                            \n",
    "                        \n",
    "                            # print(find_root( operand.denominator() == 0, lambda_d/32, lambda_d/3))\n",
    "                            operand_denominator_roots = find_root_recursive(operand_denominator, pi/operand3/360, 10*pi/operand3)\n",
    "                            operand_denominator_roots.sort()\n",
    "                            print(\"operand_denominator_roots\", operand_denominator_roots)\n",
    "                            key = str(operand_denominator.variables()[0])\n",
    "                            print(\"key =\", key)\n",
    "                            if key in disp_eq_brakes_dict.keys():\n",
    "                                for rt in operand_denominator_roots:\n",
    "                                    if rt not in disp_eq_brakes_dict[key]:\n",
    "                                        disp_eq_brakes_dict[key] += [rt]\n",
    "                            else:\n",
    "                                disp_eq_brakes_dict[key] = operand_denominator_roots\n",
    "\n",
    "                            #if rh not in operand.variables() and ph not in operand.variables() and z not in operand.variables():\n",
    "                            #    M_det_num_factor_operands += (operand,)\n",
    "                            print (\"\")\n",
    "\n",
    "for key in disp_eq_brakes_dict.keys():\n",
    "    disp_eq_brakes_dict[key].sort()"
   ]
  },
  {
   "cell_type": "code",
   "execution_count": 202,
   "metadata": {},
   "outputs": [],
   "source": [
    "#disp_eq_brakes = []\n",
    "#for i in range(n_layers):\n",
    "#    disp_eq_brake = find_root( sin(k_values_d[i].rhs()*x) == 0, lambda_d/32, lambda_d/3)\n",
    "#    for j in range (3):\n",
    "#        disp_eq_brakes += [ j * pi / k_values_d [i].rhs() + disp_eq_brake]"
   ]
  },
  {
   "cell_type": "code",
   "execution_count": 203,
   "metadata": {},
   "outputs": [
    {
     "data": {
      "text/plain": [
       "{'h_1': [0.0000706597480931278,\n",
       "  0.000141319496186256,\n",
       "  0.000211979244279383,\n",
       "  0.000282638992372511,\n",
       "  0.000353298740465639,\n",
       "  0.000423958488558767,\n",
       "  0.000494618236651894,\n",
       "  0.000565277984745022,\n",
       "  0.000635937732838150],\n",
       " 'h_0': [0.0316003697994656,\n",
       "  0.0632007395989312,\n",
       "  0.0948011093983967,\n",
       "  0.126401479197862,\n",
       "  0.158001848997328,\n",
       "  0.189602218796793,\n",
       "  0.221202588596259,\n",
       "  0.252802958395725,\n",
       "  0.284403328195190]}"
      ]
     },
     "execution_count": 203,
     "metadata": {},
     "output_type": "execute_result"
    }
   ],
   "source": [
    "disp_eq_brakes_dict"
   ]
  },
  {
   "cell_type": "code",
   "execution_count": 204,
   "metadata": {},
   "outputs": [],
   "source": [
    "#disp_eq_s.lhs ().subs(h  == disp_eq_brakes [0] + lambda_d/64)"
   ]
  },
  {
   "cell_type": "code",
   "execution_count": 205,
   "metadata": {},
   "outputs": [
    {
     "data": {
      "text/plain": [
       "-9.60245234564183e8*pi^2*cos(44460.8527255044*h_1)/(a*sin(44460.8527255044*h_1)) + 2.25998645381248e42*cos(99.4163256166364*h_0)/(a^3*sin(99.4163256166364*h_0)) + 5.05342420147790e40*cos(44460.8527255044*h_1)/(a^3*sin(44460.8527255044*h_1))"
      ]
     },
     "execution_count": 205,
     "metadata": {},
     "output_type": "execute_result"
    }
   ],
   "source": [
    "disp_eq_s.lhs()"
   ]
  },
  {
   "cell_type": "code",
   "execution_count": 206,
   "metadata": {},
   "outputs": [
    {
     "data": {
      "text/plain": [
       "2*c^4*epsilon_0^2*epsilon_1*kappa^3*cos(-b*(g_1 - 1)*k_0)/(k_0*sin(-b*(g_1 - 1)*k_0)) - 8*pi^2*c^2*epsilon_0*epsilon_1*kappa*mu_0*sigma_0^2*cos(-b*(g_1 - 1)*k_0)/(k_0*sin(-b*(g_1 - 1)*k_0)) + 2*c^4*epsilon_0*epsilon_1^2*kappa^3*cos(b*g_1*k_1)/(k_1*sin(b*g_1*k_1)) - 8*pi^2*c^2*epsilon_0*epsilon_1*kappa*mu_1*sigma_1^2*cos(b*g_1*k_1)/(k_1*sin(b*g_1*k_1)) == 0"
      ]
     },
     "execution_count": 206,
     "metadata": {},
     "output_type": "execute_result"
    }
   ],
   "source": [
    "disp_eq_b = disp_eq.subs(h[0] == (1 - sum([g[i] for i in range(1,n_layers)]))*b)\n",
    "for i in range(1,n_layers):\n",
    "    disp_eq_b = disp_eq_b.subs(h[i] == g[i]*b)\n",
    "    \n",
    "disp_eq_b"
   ]
  },
  {
   "cell_type": "code",
   "execution_count": 207,
   "metadata": {},
   "outputs": [
    {
     "data": {
      "text/plain": [
       "-9.60245234564183e8*pi^2*cos(44460.8527255044*b*g_1)/(a*sin(44460.8527255044*b*g_1)) + 2.25998645381248e42*cos(-99.4163256166364*b*(g_1 - 1))/(a^3*sin(-99.4163256166364*b*(g_1 - 1))) + 5.05342420147790e40*cos(44460.8527255044*b*g_1)/(a^3*sin(44460.8527255044*b*g_1)) == 0"
      ]
     },
     "execution_count": 207,
     "metadata": {},
     "output_type": "execute_result"
    }
   ],
   "source": [
    "disp_eq_b_d = disp_eq_b.subs(digit_values).subs(epsilon_values).subs(c_value).subs(k_values_d).subs(kappa == kappa_d1)\n",
    "disp_eq_b_d"
   ]
  },
  {
   "cell_type": "code",
   "execution_count": 208,
   "metadata": {},
   "outputs": [
    {
     "data": {
      "text/latex": [
       "$\\displaystyle \\frac{2 \\, c^{4} \\epsilon_{0}^{2} \\epsilon_{1} \\kappa^{3} \\cos\\left(-b {\\left(g_{1} - 1\\right)} k_{0}\\right)}{k_{0} \\sin\\left(-b {\\left(g_{1} - 1\\right)} k_{0}\\right)} - \\frac{8 \\, \\pi^{2} c^{2} \\epsilon_{0} \\epsilon_{1} \\kappa \\mu_{0} \\sigma_{0}^{2} \\cos\\left(-b {\\left(g_{1} - 1\\right)} k_{0}\\right)}{k_{0} \\sin\\left(-b {\\left(g_{1} - 1\\right)} k_{0}\\right)} + \\frac{2 \\, c^{4} \\epsilon_{0} \\epsilon_{1}^{2} \\kappa^{3} \\cos\\left(b g_{1} k_{1}\\right)}{k_{1} \\sin\\left(b g_{1} k_{1}\\right)} - \\frac{8 \\, \\pi^{2} c^{2} \\epsilon_{0} \\epsilon_{1} \\kappa \\mu_{1} \\sigma_{1}^{2} \\cos\\left(b g_{1} k_{1}\\right)}{k_{1} \\sin\\left(b g_{1} k_{1}\\right)} = 0$"
      ],
      "text/plain": [
       "<IPython.core.display.Math object>"
      ]
     },
     "metadata": {},
     "output_type": "display_data"
    }
   ],
   "source": [
    "display(Math(latex(disp_eq_b)))"
   ]
  },
  {
   "cell_type": "code",
   "execution_count": 209,
   "metadata": {},
   "outputs": [
    {
     "data": {
      "text/latex": [
       "$\\displaystyle -\\frac{9.60245234564183 \\times 10^{8} \\, \\pi^{2} \\cos\\left(44460.8527255044 \\, b g_{1}\\right)}{a \\sin\\left(44460.8527255044 \\, b g_{1}\\right)} + \\frac{2.25998645381248 \\times 10^{42} \\, \\cos\\left(-99.4163256166364 \\, b {\\left(g_{1} - 1\\right)}\\right)}{a^{3} \\sin\\left(-99.4163256166364 \\, b {\\left(g_{1} - 1\\right)}\\right)} + \\frac{5.05342420147790 \\times 10^{40} \\, \\cos\\left(44460.8527255044 \\, b g_{1}\\right)}{a^{3} \\sin\\left(44460.8527255044 \\, b g_{1}\\right)} = 0$"
      ],
      "text/plain": [
       "<IPython.core.display.Math object>"
      ]
     },
     "metadata": {},
     "output_type": "display_data"
    }
   ],
   "source": [
    "display(Math(latex(disp_eq_b_d)))"
   ]
  },
  {
   "cell_type": "code",
   "execution_count": 210,
   "metadata": {},
   "outputs": [],
   "source": [
    "a0 = var(\"a0\")\n",
    "if E_mode:\n",
    "    amplitude_variable = D_z[0]\n",
    "else:\n",
    "    amplitude_variable = A_z[0]"
   ]
  },
  {
   "cell_type": "code",
   "execution_count": 211,
   "metadata": {},
   "outputs": [],
   "source": [
    "E2_8pi_rho = []\n",
    "for i in range(n_layers):\n",
    "    exec(Preparse(\"E2_8pi_rho += [lambda r,p,z, i=i:\" + str(\n",
    "        ( (Re(E_rho[i](r, p, z))^2 +\n",
    "           Im(E_rho[i](r, p, z))^2)) / (2*8*pi)\n",
    "    ) + \"]\"))"
   ]
  },
  {
   "cell_type": "code",
   "execution_count": 212,
   "metadata": {},
   "outputs": [],
   "source": [
    "E2_8pi_phi = []\n",
    "#E2_8pi_Phi = []\n",
    "for i in range(n_layers):\n",
    "    exec(Preparse(\"E2_8pi_phi += [lambda r,p,z,  i=i:\" + str(\n",
    "        ( (Re(E_phi[i](r, p, z))^2 +\n",
    "           Im(E_phi[i](r, p, z))^2)) / (2*8*pi)\n",
    "    ) + \"]\"))\n",
    "    \n",
    "    #E2_8pi_Phi += [lambda r,p,z,  i=i:\n",
    "    #    ( (Re(E_Phi[i](r, p, z))^2 +\n",
    "    #       Im(E_Phi[i](r, p, z))^2)) / (2*8*pi)\n",
    "    #]"
   ]
  },
  {
   "cell_type": "code",
   "execution_count": 213,
   "metadata": {},
   "outputs": [],
   "source": [
    "E2_8pi_z = []\n",
    "for i in range(n_layers):\n",
    "    exec(Preparse(\"E2_8pi_z += [lambda r,p,z,  i=i:\" + str(\n",
    "        ( (Re(E_z[i](r, p, z))^2 +\n",
    "           Im(E_z[i](r, p, z))^2)) / (2*8*pi)\n",
    "    ) + \"]\"))"
   ]
  },
  {
   "cell_type": "code",
   "execution_count": 214,
   "metadata": {},
   "outputs": [],
   "source": [
    "D2_8pi_z = []\n",
    "for i in range(n_layers):\n",
    "    exec(Preparse(\"D2_8pi_z += [lambda r,p,z,  i=i:\" + str(\n",
    "        (epsilon[i]^2) *\n",
    "        ( (Re(E_z[i](r, p, z))^2 +\n",
    "           Im(E_z[i](r, p, z))^2)) / (2*8*pi)\n",
    "    ) + \"]\"))"
   ]
  },
  {
   "cell_type": "code",
   "execution_count": 215,
   "metadata": {},
   "outputs": [
    {
     "data": {
      "text/plain": [
       "1/64*(D_z_0*c^2*epsilon_0*k_0*kappa*bessel_J(m + 1, kappa*r)*cos(m*p)*sin(k_0*z)/(c^2*epsilon_0*kappa^2 - 4*pi^2*mu_0*sigma_0^2) - D_z_0*c^2*epsilon_0*k_0*kappa*bessel_J(m - 1, kappa*r)*cos(m*p)*sin(k_0*z)/(c^2*epsilon_0*kappa^2 - 4*pi^2*mu_0*sigma_0^2) - 8*pi*epsilon_0*mu_0*omega*sigma_0*cos(k_0*z)/(c^2*epsilon_0*kappa^2 - 4*pi^2*mu_0*sigma_0^2) + 8*pi*epsilon_0*mu_0*omega*sigma_0*bessel_J(m + 1, kappa*r)*cos(k_0*z)/((c^2*epsilon_0*kappa^2 - 4*pi^2*mu_0*sigma_0^2)*(bessel_J(m + 1, kappa*r) - bessel_J(m - 1, kappa*r))) - 8*pi*epsilon_0*mu_0*omega*sigma_0*bessel_J(m - 1, kappa*r)*cos(k_0*z)/((c^2*epsilon_0*kappa^2 - 4*pi^2*mu_0*sigma_0^2)*(bessel_J(m + 1, kappa*r) - bessel_J(m - 1, kappa*r))) - 8*pi*epsilon_0*mu_0*omega*sigma_0*sin(k_0*z)/(c^2*epsilon_0*kappa^2 - 4*pi^2*mu_0*sigma_0^2))^2/pi"
      ]
     },
     "execution_count": 215,
     "metadata": {},
     "output_type": "execute_result"
    }
   ],
   "source": [
    "E2_8pi_rho[0](r,p,z)"
   ]
  },
  {
   "cell_type": "code",
   "execution_count": 216,
   "metadata": {},
   "outputs": [
    {
     "data": {
      "text/plain": [
       "[-b*(g_1 - 1)]"
      ]
     },
     "execution_count": 216,
     "metadata": {},
     "output_type": "execute_result"
    }
   ],
   "source": [
    "border_h = [(1 - sum([g[i] for i in range(1,n_layers)]))*b]\n",
    "for i in range(1,n_layers-1):\n",
    "    border_h += [(border_h[i-1] + g[i]*b).expand()]\n",
    "    \n",
    "border_h"
   ]
  },
  {
   "cell_type": "markdown",
   "metadata": {},
   "source": [
    "# Static and dynamic electricity by William R. Smythe, second edition, 1950, paragraph 18 \n",
    "\n",
    "\n",
    "натяжение на границе, созданное нормальными компонентами индукции\n",
    "должно равняться разности натяжений по обе стороны от границы (formula 1.45)\n",
    "\n",
    "$$ T_n = \\frac{{{D'}_n}^2}{2 \\epsilon'} - \\frac{{{D''}_n}^2}{2 \\epsilon''}$$\n",
    "\n",
    "давление на границу равно разности давлений по обе стороны от нее (formula 1.47)\n",
    "\n",
    "$$ P_n = \\frac{1}{2} \\epsilon'{{E'}_t}^2 - \\frac{1}{2} \\epsilon''{{E''}_t}^2$$\n",
    "\n",
    "нормальные натяжения, возникающие на границе двух диэлектриков и направленные из ${\\epsilon'}$ в ${\\epsilon''}$ (formula 1.50)\n",
    "\n",
    "$$ F_n = T_n - P_n $$"
   ]
  },
  {
   "cell_type": "code",
   "execution_count": 217,
   "metadata": {},
   "outputs": [],
   "source": [
    "dDE_8pi_rho = []\n",
    "dDE_8pi_phi = []\n",
    "dDE_8pi_z = []\n",
    "F_Z = []\n",
    "for i in range(n_layers - 1):\n",
    "    # Static and dynamic electricity by William R. Smythe, second edition, 1950\n",
    "    # paragraph 18 formula 1.47\n",
    "    # давление на границу равно разности давлений по обе стороны от нее\n",
    "    # $$ P_n = \\frac{1}{2} \\epsilon'{{E'}_t}^2 - \\frac{1}{2} \\epsilon''{{E''}_t}^2 $$\n",
    "    dDE_8pi_rho += [lambda r,p, i=i: (epsilon[i]-epsilon[i+1]) *\n",
    "                              E2_8pi_rho[i  ](r,p,border_h[i], 1)]\n",
    "\n",
    "    dDE_8pi_phi += [lambda r,p, i=i: (epsilon[i]-epsilon[i+1]) *\n",
    "                              E2_8pi_phi[i  ](r,p,border_h[i], 1)]\n",
    "\n",
    "    # Static and dynamic electricity by William R. Smythe, second edition, 1950\n",
    "    # paragraph 18 formula 1.45\n",
    "    # натяжение на границе, созданное нормальными компонентами индукции\n",
    "    # должно равняться разности натяжений по обе стороны от границы\n",
    "    # $$ T_n = \\frac{{{D'}_n}^2}{2 \\epsilon'} - \\frac{{{D''}_n}^2}{2 \\epsilon''} $$\n",
    "    # dDE_8pi_z += [lambda r,p, i=i: (epsilon[i]-epsilon[i+1]) *\n",
    "    #                          (epsilon[i]/epsilon[i+1]) *\n",
    "    #                          E2_8pi_z[i  ](r,p,border_h[i], 1)]\n",
    "    dDE_8pi_z += [lambda r,p, i=i: (1/epsilon[i]-1/epsilon[i+1]) *\n",
    "                             D2_8pi_z[i  ](r,p,border_h[i], 1)]\n",
    "    \n",
    "    # Static and dynamic electricity by William R. Smythe, second edition, 1950\n",
    "    # paragraph 18 formula 1.50\n",
    "    # нормальные натяжения, возникающие на границе двух диэлектриков\n",
    "    # и направленные из epsilon[i] в epsilon[i+1]\n",
    "    # $$ F_n = T_n - P_n $$\n",
    "    F_Z += [lambda r,p, i=i: dDE_8pi_z[i](r,p) - (dDE_8pi_rho[i](r,p)+dDE_8pi_phi[i](r,p))]\n",
    "\n",
    "dDE_8pi = lambda r,p : sum ([-dDE_8pi_rho[i](r,p) \n",
    "                             -dDE_8pi_phi[i](r,p)\n",
    "                             +dDE_8pi_z  [i](r,p) for i in range(n_layers - 1)])"
   ]
  },
  {
   "cell_type": "raw",
   "metadata": {},
   "source": [
    "dDE_8pi(r,p)"
   ]
  },
  {
   "cell_type": "code",
   "execution_count": 218,
   "metadata": {},
   "outputs": [],
   "source": [
    "dDE_8pi_s = lambda r, p : dDE_8pi(r,p).subs(bcs).subs(bchs).subs(bchs).subs(b_s)"
   ]
  },
  {
   "cell_type": "raw",
   "metadata": {},
   "source": [
    "dDE_8pi_s(r,p)"
   ]
  },
  {
   "cell_type": "code",
   "execution_count": 219,
   "metadata": {},
   "outputs": [],
   "source": [
    "E2_8pi_rho_s = []\n",
    "for i in range(n_layers):\n",
    "    exec(Preparse(\"E2_8pi_rho_s += [lambda r,p,z, i=i:\" + str(\n",
    "        ( (Re(E_rho_s[i](r, p, z))^2 +\n",
    "           Im(E_rho_s[i](r, p, z))^2)) / (2*8*pi)\n",
    "    ) + \"]\"))"
   ]
  },
  {
   "cell_type": "code",
   "execution_count": 220,
   "metadata": {},
   "outputs": [],
   "source": [
    "E2_8pi_phi_s = []\n",
    "E2_8pi_Phi_s = []\n",
    "\n",
    "for i in range(n_layers):\n",
    "    # exec is using for speeding up\n",
    "    exec(Preparse(\"E2_8pi_phi_s += [lambda r,p,z,  i=i:\" + str(\n",
    "        ( (Re(E_phi_s[i](r, p, z))^2 +\n",
    "           Im(E_phi_s[i](r, p, z))^2)) / (2*8*pi)\n",
    "    ) + \"]\"))\n",
    "    \n",
    "    # exact variant is using for fix devide on 0 Exception\n",
    "    E2_8pi_Phi_s += [lambda r,p,z,  i=i:\n",
    "        ( (Re(E_Phi_s[i](r, p, z))^2 +\n",
    "           Im(E_Phi_s[i](r, p, z))^2)) / (2*8*pi)\n",
    "    ]    "
   ]
  },
  {
   "cell_type": "code",
   "execution_count": 221,
   "metadata": {},
   "outputs": [],
   "source": [
    "E2_8pi_z_s = []\n",
    "for i in range(n_layers):\n",
    "    exec(Preparse(\"E2_8pi_z_s += [lambda r,p,z,  i=i:\" + str(\n",
    "        ( (Re(E_z_s[i](r, p, z))^2 +\n",
    "           Im(E_z_s[i](r, p, z))^2)) / (2*8*pi)\n",
    "    ) + \"]\"))"
   ]
  },
  {
   "cell_type": "code",
   "execution_count": 222,
   "metadata": {},
   "outputs": [],
   "source": [
    "D2_8pi_z_s = []\n",
    "for i in range(n_layers):\n",
    "    exec(Preparse(\"D2_8pi_z_s += [lambda r,p,z,  i=i:\" + str(\n",
    "        (epsilon[i]^2) *\n",
    "        ( (Re(E_z_s[i](r, p, z))^2 +\n",
    "           Im(E_z_s[i](r, p, z))^2)) / (2*8*pi)\n",
    "    ) + \"]\"))"
   ]
  },
  {
   "cell_type": "raw",
   "metadata": {},
   "source": [
    "E2_8pi_rho_s[0](r,p,z)"
   ]
  },
  {
   "cell_type": "raw",
   "metadata": {},
   "source": [
    "E2_8pi_phi_s[0](rh,ph,z)"
   ]
  },
  {
   "cell_type": "raw",
   "metadata": {},
   "source": [
    "if E_mode:\n",
    "    print(E2_8pi_z_s[0](rh,ph,z))"
   ]
  },
  {
   "cell_type": "raw",
   "metadata": {},
   "source": [
    "H_rho[i](r, p, z)"
   ]
  },
  {
   "cell_type": "code",
   "execution_count": 223,
   "metadata": {},
   "outputs": [],
   "source": [
    "H2_8pi_rho = []\n",
    "H2_8pi_Rho = []\n",
    "for i in range(n_layers):\n",
    "    exec(Preparse(\"H2_8pi_rho += [lambda r,p,z, i=i:\" + str(\n",
    "        (  Re(H_rho[i](r, p, z))^2 +\n",
    "           Im(H_rho[i](r, p, z))^2 ) / (2*8*pi)\n",
    "    ) + \"]\"))\n",
    "    \n",
    "    H2_8pi_Rho += [lambda r,p,z, i=i:\n",
    "        (  Re(H_Rho[i](r, p, z))^2 +\n",
    "           Im(H_Rho[i](r, p, z))^2 ) / (2*8*pi)\n",
    "    ]    "
   ]
  },
  {
   "cell_type": "code",
   "execution_count": 224,
   "metadata": {},
   "outputs": [],
   "source": [
    "H2_8pi_phi = []\n",
    "for i in range(n_layers):\n",
    "    exec(Preparse(\"H2_8pi_phi += [lambda r,p,z,  i=i:\" + str(\n",
    "        (  Re(H_phi[i](r, p, z))^2 +\n",
    "           Im(H_phi[i](r, p, z))^2 ) / (2*8*pi)\n",
    "    ) + \"]\"))"
   ]
  },
  {
   "cell_type": "code",
   "execution_count": 225,
   "metadata": {},
   "outputs": [],
   "source": [
    "H2_8pi_z = []\n",
    "for i in range(n_layers):\n",
    "    exec(Preparse(\"H2_8pi_z += [lambda r,p,z,  i=i:\" + str(\n",
    "        (  Re(H_z[i](r, p, z))^2 +\n",
    "           Im(H_z[i](r, p, z))^2 ) / (2*8*pi)\n",
    "    ) + \"]\"))"
   ]
  },
  {
   "cell_type": "raw",
   "metadata": {},
   "source": [
    "H2_8pi_rho[0](rh,ph,z)"
   ]
  },
  {
   "cell_type": "raw",
   "metadata": {},
   "source": [
    "H2_8pi_phi[0](rh,ph,z)"
   ]
  },
  {
   "cell_type": "raw",
   "metadata": {},
   "source": [
    "H2_8pi_z[0](rh,ph,z)"
   ]
  },
  {
   "cell_type": "raw",
   "metadata": {},
   "source": [
    "H2_8pi_rho[n_layers-1](rh,ph,z)"
   ]
  },
  {
   "cell_type": "raw",
   "metadata": {},
   "source": [
    "H2_8pi_phi[n_layers-1](rh,ph,z)"
   ]
  },
  {
   "cell_type": "raw",
   "metadata": {},
   "source": [
    "H2_8pi_z[n_layers-1](rh,ph,z)"
   ]
  },
  {
   "cell_type": "code",
   "execution_count": 226,
   "metadata": {},
   "outputs": [],
   "source": [
    "dH2_8pi_rho = lambda r, p : H2_8pi_rho[n_layers-1](r,p,b) - H2_8pi_rho[0](r,p,0)"
   ]
  },
  {
   "cell_type": "code",
   "execution_count": 227,
   "metadata": {},
   "outputs": [],
   "source": [
    "dH2_8pi_phi = lambda r, p : H2_8pi_phi[n_layers-1](r,p,b) - H2_8pi_phi[0](r,p,0)"
   ]
  },
  {
   "cell_type": "code",
   "execution_count": 228,
   "metadata": {},
   "outputs": [],
   "source": [
    "dH2_8pi_z = lambda r, p : H2_8pi_z[n_layers-1](r,p,b) - H2_8pi_z[0](r,p,0)"
   ]
  },
  {
   "cell_type": "code",
   "execution_count": 229,
   "metadata": {},
   "outputs": [],
   "source": [
    "dH2_8pi = lambda r,p : dH2_8pi_rho(r,p) + \\\n",
    "                       dH2_8pi_phi(r,p) + \\\n",
    "                       dH2_8pi_z  (r,p)"
   ]
  },
  {
   "cell_type": "raw",
   "metadata": {},
   "source": [
    "dH2_8pi(r,p)"
   ]
  },
  {
   "cell_type": "code",
   "execution_count": 230,
   "metadata": {},
   "outputs": [],
   "source": [
    "dH2_8pi_s = lambda r, p : dH2_8pi(r,p).subs(bcs).subs(bchs).subs(bchs).subs(b_s)"
   ]
  },
  {
   "cell_type": "raw",
   "metadata": {},
   "source": [
    "dH2_8pi_s(r,p)"
   ]
  },
  {
   "cell_type": "raw",
   "metadata": {},
   "source": [
    "(dH2_8pi(r,p)+dDE_8pi(r,p))"
   ]
  },
  {
   "cell_type": "raw",
   "metadata": {},
   "source": [
    "(dH2_8pi_s(r,p)+dDE_8pi_s(r,p))"
   ]
  },
  {
   "cell_type": "code",
   "execution_count": 231,
   "metadata": {},
   "outputs": [],
   "source": [
    "H2_8pi_rho_s = []\n",
    "for i in range(n_layers):\n",
    "    exec(Preparse(\"H2_8pi_rho_s += [lambda r,p,z, i=i:\" + str(\n",
    "        (  Re(H_rho_s[i](r, p, z))^2 +\n",
    "           Im(H_rho_s[i](r, p, z))^2 ) / (2*8*pi)\n",
    "    ) + \"]\"))"
   ]
  },
  {
   "cell_type": "code",
   "execution_count": 232,
   "metadata": {},
   "outputs": [],
   "source": [
    "B2_8pi_rho_s = []\n",
    "for i in range(n_layers):\n",
    "    exec(Preparse(\"B2_8pi_rho_s += [lambda r,p,z, i=i:\" + str(\n",
    "        mu[i] *\n",
    "        (  Re(H_rho_s[i](r, p, z))^2 +\n",
    "           Im(H_rho_s[i](r, p, z))^2 ) / (2*8*pi)\n",
    "    ) + \"]\"))"
   ]
  },
  {
   "cell_type": "code",
   "execution_count": 233,
   "metadata": {},
   "outputs": [],
   "source": [
    "H2_8pi_phi_s = []\n",
    "for i in range(n_layers):\n",
    "    exec(Preparse(\"H2_8pi_phi_s += [lambda r,p,z,  i=i:\" + str(\n",
    "        (  Re(H_phi_s[i](r, p, z))^2 +\n",
    "           Im(H_phi_s[i](r, p, z))^2 ) / (2*8*pi)\n",
    "    ) + \"]\"))"
   ]
  },
  {
   "cell_type": "code",
   "execution_count": 234,
   "metadata": {},
   "outputs": [],
   "source": [
    "B2_8pi_phi_s = []\n",
    "for i in range(n_layers):\n",
    "    exec(Preparse(\"B2_8pi_phi_s += [lambda r,p,z,  i=i:\" + str(\n",
    "        mu[i] *\n",
    "        (  Re(H_phi_s[i](r, p, z))^2 +\n",
    "           Im(H_phi_s[i](r, p, z))^2 ) / (2*8*pi)\n",
    "    ) + \"]\"))"
   ]
  },
  {
   "cell_type": "code",
   "execution_count": 235,
   "metadata": {},
   "outputs": [],
   "source": [
    "H2_8pi_z_s = []\n",
    "for i in range(n_layers):\n",
    "    exec(Preparse(\"H2_8pi_z_s += [lambda r,p,z,  i=i:\" + str(\n",
    "        (  Re(H_z_s[i](r, p, z))^2 +\n",
    "           Im(H_z_s[i](r, p, z))^2 ) / (2*8*pi)\n",
    "    ) + \"]\"))"
   ]
  },
  {
   "cell_type": "code",
   "execution_count": 236,
   "metadata": {},
   "outputs": [],
   "source": [
    "B2_8pi_z_s = []\n",
    "for i in range(n_layers):\n",
    "    exec(Preparse(\"B2_8pi_z_s += [lambda r,p,z,  i=i:\" + str(\n",
    "        mu[i] *\n",
    "        (  Re(H_z_s[i](r, p, z))^2 +\n",
    "           Im(H_z_s[i](r, p, z))^2 ) / (2*8*pi)\n",
    "    ) + \"]\"))"
   ]
  },
  {
   "cell_type": "raw",
   "metadata": {},
   "source": [
    "H2_8pi_rho_s[0](rh,ph,z)"
   ]
  },
  {
   "cell_type": "raw",
   "metadata": {},
   "source": [
    "H2_8pi_phi_s[0](rh,ph,z)"
   ]
  },
  {
   "cell_type": "raw",
   "metadata": {},
   "source": [
    "H2_8pi_z_s[0](rh,ph,z)"
   ]
  },
  {
   "cell_type": "code",
   "execution_count": 237,
   "metadata": {},
   "outputs": [
    {
     "data": {
      "text/plain": [
       "[1/2*((8*pi*mu_1*omega*sigma_1*(cos(-b*(g_1 - 1)*k_1 + b*g_1*k_1) + sin(-b*(g_1 - 1)*k_1 + b*g_1*k_1)) - (D_z_0*c^4*epsilon_0^2*epsilon_1*k_0*k_1*kappa^3*omega*bessel_J(m + 1, kappa)*cos(-b*(g_1 - 1)*k_0)*cos(-b*(g_1 - 1)*k_1)*cos(b*g_1*k_1)*e^(-I*b*(g_1 - 1)*k_0 - I*b*(g_1 - 1)*k_1) - 4*pi^2*D_z_0*c^2*epsilon_0^2*k_0*k_1*kappa*mu_1*omega*sigma_1^2*bessel_J(m + 1, kappa)*cos(-b*(g_1 - 1)*k_0)*cos(-b*(g_1 - 1)*k_1)*cos(b*g_1*k_1)*e^(-I*b*(g_1 - 1)*k_0 - I*b*(g_1 - 1)*k_1) - D_z_0*c^4*epsilon_0^2*epsilon_1*k_0*k_1*kappa^3*omega*bessel_J(m - 1, kappa)*cos(-b*(g_1 - 1)*k_0)*cos(-b*(g_1 - 1)*k_1)*cos(b*g_1*k_1)*e^(-I*b*(g_1 - 1)*k_0 - I*b*(g_1 - 1)*k_1) + 4*pi^2*D_z_0*c^2*epsilon_0^2*k_0*k_1*kappa*mu_1*omega*sigma_1^2*bessel_J(m - 1, kappa)*cos(-b*(g_1 - 1)*k_0)*cos(-b*(g_1 - 1)*k_1)*cos(b*g_1*k_1)*e^(-I*b*(g_1 - 1)*k_0 - I*b*(g_1 - 1)*k_1) - D_z_0*c^4*epsilon_0^2*epsilon_1*k_0*k_1*kappa^3*omega*bessel_J(m + 1, kappa)*cos(-b*(g_1 - 1)*k_0)*e^(-I*b*(g_1 - 1)*k_0 - I*b*(g_1 - 1)*k_1)*sin(-b*(g_1 - 1)*k_1)*sin(b*g_1*k_1) + 4*pi^2*D_z_0*c^2*epsilon_0^2*k_0*k_1*kappa*mu_1*omega*sigma_1^2*bessel_J(m + 1, kappa)*cos(-b*(g_1 - 1)*k_0)*e^(-I*b*(g_1 - 1)*k_0 - I*b*(g_1 - 1)*k_1)*sin(-b*(g_1 - 1)*k_1)*sin(b*g_1*k_1) + D_z_0*c^4*epsilon_0^2*epsilon_1*k_0*k_1*kappa^3*omega*bessel_J(m - 1, kappa)*cos(-b*(g_1 - 1)*k_0)*e^(-I*b*(g_1 - 1)*k_0 - I*b*(g_1 - 1)*k_1)*sin(-b*(g_1 - 1)*k_1)*sin(b*g_1*k_1) - 4*pi^2*D_z_0*c^2*epsilon_0^2*k_0*k_1*kappa*mu_1*omega*sigma_1^2*bessel_J(m - 1, kappa)*cos(-b*(g_1 - 1)*k_0)*e^(-I*b*(g_1 - 1)*k_0 - I*b*(g_1 - 1)*k_1)*sin(-b*(g_1 - 1)*k_1)*sin(b*g_1*k_1) - 8*pi*c^2*epsilon_0^2*epsilon_1*k_1*kappa^2*mu_0*omega^2*sigma_0*cos(-b*(g_1 - 1)*k_1)*cos(b*g_1*k_1)*e^(-I*b*(g_1 - 1)*k_0 - I*b*(g_1 - 1)*k_1)*sin(-b*(g_1 - 1)*k_0) + 32*pi^3*epsilon_0^2*k_1*mu_0*mu_1*omega^2*sigma_0*sigma_1^2*cos(-b*(g_1 - 1)*k_1)*cos(b*g_1*k_1)*e^(-I*b*(g_1 - 1)*k_0 - I*b*(g_1 - 1)*k_1)*sin(-b*(g_1 - 1)*k_0) + 8*pi*c^2*epsilon_0*epsilon_1^2*k_0*kappa^2*mu_1*omega^2*sigma_1*cos(-b*(g_1 - 1)*k_1)*cos(b*g_1*k_1)*e^(-I*b*(g_1 - 1)*k_0 - I*b*(g_1 - 1)*k_1)*sin(-b*(g_1 - 1)*k_1) - 32*pi^3*epsilon_1^2*k_0*mu_0*mu_1*omega^2*sigma_0^2*sigma_1*cos(-b*(g_1 - 1)*k_1)*cos(b*g_1*k_1)*e^(-I*b*(g_1 - 1)*k_0 - I*b*(g_1 - 1)*k_1)*sin(-b*(g_1 - 1)*k_1) + 8*pi*c^2*epsilon_0*epsilon_1^2*k_0*kappa^2*mu_1*omega^2*sigma_1*cos(b*g_1*k_1)*e^(-I*b*(g_1 - 1)*k_0 - I*b*(g_1 - 1)*k_1)*sin(-b*(g_1 - 1)*k_1)^2 - 32*pi^3*epsilon_1^2*k_0*mu_0*mu_1*omega^2*sigma_0^2*sigma_1*cos(b*g_1*k_1)*e^(-I*b*(g_1 - 1)*k_0 - I*b*(g_1 - 1)*k_1)*sin(-b*(g_1 - 1)*k_1)^2 + 8*pi*c^2*epsilon_0*epsilon_1^2*k_0*kappa^2*mu_1*omega^2*sigma_1*cos(-b*(g_1 - 1)*k_1)*e^(-I*b*(g_1 - 1)*k_0 - I*b*(g_1 - 1)*k_1)*sin(-b*(g_1 - 1)*k_1)*sin(b*g_1*k_1) - 32*pi^3*epsilon_1^2*k_0*mu_0*mu_1*omega^2*sigma_0^2*sigma_1*cos(-b*(g_1 - 1)*k_1)*e^(-I*b*(g_1 - 1)*k_0 - I*b*(g_1 - 1)*k_1)*sin(-b*(g_1 - 1)*k_1)*sin(b*g_1*k_1) + 8*pi*c^2*epsilon_0^2*epsilon_1*k_1*kappa^2*mu_0*omega^2*sigma_0*e^(-I*b*(g_1 - 1)*k_0 - I*b*(g_1 - 1)*k_1)*sin(-b*(g_1 - 1)*k_0)*sin(-b*(g_1 - 1)*k_1)*sin(b*g_1*k_1) - 32*pi^3*epsilon_0^2*k_1*mu_0*mu_1*omega^2*sigma_0*sigma_1^2*e^(-I*b*(g_1 - 1)*k_0 - I*b*(g_1 - 1)*k_1)*sin(-b*(g_1 - 1)*k_0)*sin(-b*(g_1 - 1)*k_1)*sin(b*g_1*k_1) - 8*pi*c^2*epsilon_0*epsilon_1^2*k_0*kappa^2*mu_1*omega^2*sigma_1*e^(-I*b*(g_1 - 1)*k_0 - I*b*(g_1 - 1)*k_1)*sin(-b*(g_1 - 1)*k_1)^2*sin(b*g_1*k_1) + 32*pi^3*epsilon_1^2*k_0*mu_0*mu_1*omega^2*sigma_0^2*sigma_1*e^(-I*b*(g_1 - 1)*k_0 - I*b*(g_1 - 1)*k_1)*sin(-b*(g_1 - 1)*k_1)^2*sin(b*g_1*k_1) - 8*pi*c^4*epsilon_0*epsilon_1*k_0*k_1^2*kappa^2*sigma_1*cos(-b*(g_1 - 1)*k_1)*cos(b*g_1*k_1)*e^(-I*b*(g_1 - 1)*k_0) + 32*pi^3*c^2*epsilon_1*k_0*k_1^2*mu_0*sigma_0^2*sigma_1*cos(-b*(g_1 - 1)*k_1)*cos(b*g_1*k_1)*e^(-I*b*(g_1 - 1)*k_0) + 8*pi*c^4*epsilon_0*epsilon_1*k_0^2*k_1*kappa^2*sigma_0*cos(-b*(g_1 - 1)*k_1)*cos(b*g_1*k_1)*e^(-I*b*(g_1 - 1)*k_1) - 32*pi^3*c^2*epsilon_0*k_0^2*k_1*mu_1*sigma_0*sigma_1^2*cos(-b*(g_1 - 1)*k_1)*cos(b*g_1*k_1)*e^(-I*b*(g_1 - 1)*k_1) + 8*pi*c^4*epsilon_0*epsilon_1*k_0*k_1^2*kappa^2*sigma_1*e^(-I*b*(g_1 - 1)*k_0)*sin(-b*(g_1 - 1)*k_1)*sin(b*g_1*k_1) - 32*pi^3*c^2*epsilon_1*k_0*k_1^2*mu_0*sigma_0^2*sigma_1*e^(-I*b*(g_1 - 1)*k_0)*sin(-b*(g_1 - 1)*k_1)*sin(b*g_1*k_1) - 8*pi*c^4*epsilon_0*epsilon_1*k_0^2*k_1*kappa^2*sigma_0*e^(-I*b*(g_1 - 1)*k_1)*sin(-b*(g_1 - 1)*k_1)*sin(b*g_1*k_1) + 32*pi^3*c^2*epsilon_0*k_0^2*k_1*mu_1*sigma_0*sigma_1^2*e^(-I*b*(g_1 - 1)*k_1)*sin(-b*(g_1 - 1)*k_1)*sin(b*g_1*k_1))*bessel_J(m + 1, kappa)*e^(I*b*(g_1 - 1)*k_0 + I*b*(g_1 - 1)*k_1)*sin(-b*(g_1 - 1)*k_1 + b*g_1*k_1)/((c^2*epsilon_0*kappa^2 - 4*pi^2*mu_0*sigma_0^2)*epsilon_1^2*k_0*omega*(bessel_J(m + 1, kappa) - bessel_J(m - 1, kappa))*cos(b*g_1*k_1)) + (D_z_0*c^4*epsilon_0^2*epsilon_1*k_0*k_1*kappa^3*omega*bessel_J(m + 1, kappa)*cos(-b*(g_1 - 1)*k_0)*cos(-b*(g_1 - 1)*k_1)*cos(b*g_1*k_1)*e^(-I*b*(g_1 - 1)*k_0 - I*b*(g_1 - 1)*k_1) - 4*pi^2*D_z_0*c^2*epsilon_0^2*k_0*k_1*kappa*mu_1*omega*sigma_1^2*bessel_J(m + 1, kappa)*cos(-b*(g_1 - 1)*k_0)*cos(-b*(g_1 - 1)*k_1)*cos(b*g_1*k_1)*e^(-I*b*(g_1 - 1)*k_0 - I*b*(g_1 - 1)*k_1) - D_z_0*c^4*epsilon_0^2*epsilon_1*k_0*k_1*kappa^3*omega*bessel_J(m - 1, kappa)*cos(-b*(g_1 - 1)*k_0)*cos(-b*(g_1 - 1)*k_1)*cos(b*g_1*k_1)*e^(-I*b*(g_1 - 1)*k_0 - I*b*(g_1 - 1)*k_1) + 4*pi^2*D_z_0*c^2*epsilon_0^2*k_0*k_1*kappa*mu_1*omega*sigma_1^2*bessel_J(m - 1, kappa)*cos(-b*(g_1 - 1)*k_0)*cos(-b*(g_1 - 1)*k_1)*cos(b*g_1*k_1)*e^(-I*b*(g_1 - 1)*k_0 - I*b*(g_1 - 1)*k_1) - D_z_0*c^4*epsilon_0^2*epsilon_1*k_0*k_1*kappa^3*omega*bessel_J(m + 1, kappa)*cos(-b*(g_1 - 1)*k_0)*e^(-I*b*(g_1 - 1)*k_0 - I*b*(g_1 - 1)*k_1)*sin(-b*(g_1 - 1)*k_1)*sin(b*g_1*k_1) + 4*pi^2*D_z_0*c^2*epsilon_0^2*k_0*k_1*kappa*mu_1*omega*sigma_1^2*bessel_J(m + 1, kappa)*cos(-b*(g_1 - 1)*k_0)*e^(-I*b*(g_1 - 1)*k_0 - I*b*(g_1 - 1)*k_1)*sin(-b*(g_1 - 1)*k_1)*sin(b*g_1*k_1) + D_z_0*c^4*epsilon_0^2*epsilon_1*k_0*k_1*kappa^3*omega*bessel_J(m - 1, kappa)*cos(-b*(g_1 - 1)*k_0)*e^(-I*b*(g_1 - 1)*k_0 - I*b*(g_1 - 1)*k_1)*sin(-b*(g_1 - 1)*k_1)*sin(b*g_1*k_1) - 4*pi^2*D_z_0*c^2*epsilon_0^2*k_0*k_1*kappa*mu_1*omega*sigma_1^2*bessel_J(m - 1, kappa)*cos(-b*(g_1 - 1)*k_0)*e^(-I*b*(g_1 - 1)*k_0 - I*b*(g_1 - 1)*k_1)*sin(-b*(g_1 - 1)*k_1)*sin(b*g_1*k_1) - 8*pi*c^2*epsilon_0^2*epsilon_1*k_1*kappa^2*mu_0*omega^2*sigma_0*cos(-b*(g_1 - 1)*k_1)*cos(b*g_1*k_1)*e^(-I*b*(g_1 - 1)*k_0 - I*b*(g_1 - 1)*k_1)*sin(-b*(g_1 - 1)*k_0) + 32*pi^3*epsilon_0^2*k_1*mu_0*mu_1*omega^2*sigma_0*sigma_1^2*cos(-b*(g_1 - 1)*k_1)*cos(b*g_1*k_1)*e^(-I*b*(g_1 - 1)*k_0 - I*b*(g_1 - 1)*k_1)*sin(-b*(g_1 - 1)*k_0) + 8*pi*c^2*epsilon_0*epsilon_1^2*k_0*kappa^2*mu_1*omega^2*sigma_1*cos(-b*(g_1 - 1)*k_1)*cos(b*g_1*k_1)*e^(-I*b*(g_1 - 1)*k_0 - I*b*(g_1 - 1)*k_1)*sin(-b*(g_1 - 1)*k_1) - 32*pi^3*epsilon_1^2*k_0*mu_0*mu_1*omega^2*sigma_0^2*sigma_1*cos(-b*(g_1 - 1)*k_1)*cos(b*g_1*k_1)*e^(-I*b*(g_1 - 1)*k_0 - I*b*(g_1 - 1)*k_1)*sin(-b*(g_1 - 1)*k_1) + 8*pi*c^2*epsilon_0*epsilon_1^2*k_0*kappa^2*mu_1*omega^2*sigma_1*cos(b*g_1*k_1)*e^(-I*b*(g_1 - 1)*k_0 - I*b*(g_1 - 1)*k_1)*sin(-b*(g_1 - 1)*k_1)^2 - 32*pi^3*epsilon_1^2*k_0*mu_0*mu_1*omega^2*sigma_0^2*sigma_1*cos(b*g_1*k_1)*e^(-I*b*(g_1 - 1)*k_0 - I*b*(g_1 - 1)*k_1)*sin(-b*(g_1 - 1)*k_1)^2 + 8*pi*c^2*epsilon_0*epsilon_1^2*k_0*kappa^2*mu_1*omega^2*sigma_1*cos(-b*(g_1 - 1)*k_1)*e^(-I*b*(g_1 - 1)*k_0 - I*b*(g_1 - 1)*k_1)*sin(-b*(g_1 - 1)*k_1)*sin(b*g_1*k_1) - 32*pi^3*epsilon_1^2*k_0*mu_0*mu_1*omega^2*sigma_0^2*sigma_1*cos(-b*(g_1 - 1)*k_1)*e^(-I*b*(g_1 - 1)*k_0 - I*b*(g_1 - 1)*k_1)*sin(-b*(g_1 - 1)*k_1)*sin(b*g_1*k_1) + 8*pi*c^2*epsilon_0^2*epsilon_1*k_1*kappa^2*mu_0*omega^2*sigma_0*e^(-I*b*(g_1 - 1)*k_0 - I*b*(g_1 - 1)*k_1)*sin(-b*(g_1 - 1)*k_0)*sin(-b*(g_1 - 1)*k_1)*sin(b*g_1*k_1) - 32*pi^3*epsilon_0^2*k_1*mu_0*mu_1*omega^2*sigma_0*sigma_1^2*e^(-I*b*(g_1 - 1)*k_0 - I*b*(g_1 - 1)*k_1)*sin(-b*(g_1 - 1)*k_0)*sin(-b*(g_1 - 1)*k_1)*sin(b*g_1*k_1) - 8*pi*c^2*epsilon_0*epsilon_1^2*k_0*kappa^2*mu_1*omega^2*sigma_1*e^(-I*b*(g_1 - 1)*k_0 - I*b*(g_1 - 1)*k_1)*sin(-b*(g_1 - 1)*k_1)^2*sin(b*g_1*k_1) + 32*pi^3*epsilon_1^2*k_0*mu_0*mu_1*omega^2*sigma_0^2*sigma_1*e^(-I*b*(g_1 - 1)*k_0 - I*b*(g_1 - 1)*k_1)*sin(-b*(g_1 - 1)*k_1)^2*sin(b*g_1*k_1) - 8*pi*c^4*epsilon_0*epsilon_1*k_0*k_1^2*kappa^2*sigma_1*cos(-b*(g_1 - 1)*k_1)*cos(b*g_1*k_1)*e^(-I*b*(g_1 - 1)*k_0) + 32*pi^3*c^2*epsilon_1*k_0*k_1^2*mu_0*sigma_0^2*sigma_1*cos(-b*(g_1 - 1)*k_1)*cos(b*g_1*k_1)*e^(-I*b*(g_1 - 1)*k_0) + 8*pi*c^4*epsilon_0*epsilon_1*k_0^2*k_1*kappa^2*sigma_0*cos(-b*(g_1 - 1)*k_1)*cos(b*g_1*k_1)*e^(-I*b*(g_1 - 1)*k_1) - 32*pi^3*c^2*epsilon_0*k_0^2*k_1*mu_1*sigma_0*sigma_1^2*cos(-b*(g_1 - 1)*k_1)*cos(b*g_1*k_1)*e^(-I*b*(g_1 - 1)*k_1) + 8*pi*c^4*epsilon_0*epsilon_1*k_0*k_1^2*kappa^2*sigma_1*e^(-I*b*(g_1 - 1)*k_0)*sin(-b*(g_1 - 1)*k_1)*sin(b*g_1*k_1) - 32*pi^3*c^2*epsilon_1*k_0*k_1^2*mu_0*sigma_0^2*sigma_1*e^(-I*b*(g_1 - 1)*k_0)*sin(-b*(g_1 - 1)*k_1)*sin(b*g_1*k_1) - 8*pi*c^4*epsilon_0*epsilon_1*k_0^2*k_1*kappa^2*sigma_0*e^(-I*b*(g_1 - 1)*k_1)*sin(-b*(g_1 - 1)*k_1)*sin(b*g_1*k_1) + 32*pi^3*c^2*epsilon_0*k_0^2*k_1*mu_1*sigma_0*sigma_1^2*e^(-I*b*(g_1 - 1)*k_1)*sin(-b*(g_1 - 1)*k_1)*sin(b*g_1*k_1))*bessel_J(m - 1, kappa)*e^(I*b*(g_1 - 1)*k_0 + I*b*(g_1 - 1)*k_1)*sin(-b*(g_1 - 1)*k_1 + b*g_1*k_1)/((c^2*epsilon_0*kappa^2 - 4*pi^2*mu_0*sigma_0^2)*epsilon_1^2*k_0*omega*(bessel_J(m + 1, kappa) - bessel_J(m - 1, kappa))*cos(b*g_1*k_1)))*c^2*k_1*kappa*bessel_J(m + 1, kappa)*cos(k_1*z)/(c^2*k_1*kappa*bessel_J(m + 1, kappa)*cos(-b*(g_1 - 1)*k_1 + b*g_1*k_1) - c^2*k_1*kappa*bessel_J(m - 1, kappa)*cos(-b*(g_1 - 1)*k_1 + b*g_1*k_1)) - (8*pi*mu_1*omega*sigma_1*(cos(-b*(g_1 - 1)*k_1 + b*g_1*k_1) + sin(-b*(g_1 - 1)*k_1 + b*g_1*k_1)) - (D_z_0*c^4*epsilon_0^2*epsilon_1*k_0*k_1*kappa^3*omega*bessel_J(m + 1, kappa)*cos(-b*(g_1 - 1)*k_0)*cos(-b*(g_1 - 1)*k_1)*cos(b*g_1*k_1)*e^(-I*b*(g_1 - 1)*k_0 - I*b*(g_1 - 1)*k_1) - 4*pi^2*D_z_0*c^2*epsilon_0^2*k_0*k_1*kappa*mu_1*omega*sigma_1^2*bessel_J(m + 1, kappa)*cos(-b*(g_1 - 1)*k_0)*cos(-b*(g_1 - 1)*k_1)*cos(b*g_1*k_1)*e^(-I*b*(g_1 - 1)*k_0 - I*b*(g_1 - 1)*k_1) - D_z_0*c^4*epsilon_0^2*epsilon_1*k_0*k_1*kappa^3*omega*bessel_J(m - 1, kappa)*cos(-b*(g_1 - 1)*k_0)*cos(-b*(g_1 - 1)*k_1)*cos(b*g_1*k_1)*e^(-I*b*(g_1 - 1)*k_0 - I*b*(g_1 - 1)*k_1) + 4*pi^2*D_z_0*c^2*epsilon_0^2*k_0*k_1*kappa*mu_1*omega*sigma_1^2*bessel_J(m - 1, kappa)*cos(-b*(g_1 - 1)*k_0)*cos(-b*(g_1 - 1)*k_1)*cos(b*g_1*k_1)*e^(-I*b*(g_1 - 1)*k_0 - I*b*(g_1 - 1)*k_1) - D_z_0*c^4*epsilon_0^2*epsilon_1*k_0*k_1*kappa^3*omega*bessel_J(m + 1, kappa)*cos(-b*(g_1 - 1)*k_0)*e^(-I*b*(g_1 - 1)*k_0 - I*b*(g_1 - 1)*k_1)*sin(-b*(g_1 - 1)*k_1)*sin(b*g_1*k_1) + 4*pi^2*D_z_0*c^2*epsilon_0^2*k_0*k_1*kappa*mu_1*omega*sigma_1^2*bessel_J(m + 1, kappa)*cos(-b*(g_1 - 1)*k_0)*e^(-I*b*(g_1 - 1)*k_0 - I*b*(g_1 - 1)*k_1)*sin(-b*(g_1 - 1)*k_1)*sin(b*g_1*k_1) + D_z_0*c^4*epsilon_0^2*epsilon_1*k_0*k_1*kappa^3*omega*bessel_J(m - 1, kappa)*cos(-b*(g_1 - 1)*k_0)*e^(-I*b*(g_1 - 1)*k_0 - I*b*(g_1 - 1)*k_1)*sin(-b*(g_1 - 1)*k_1)*sin(b*g_1*k_1) - 4*pi^2*D_z_0*c^2*epsilon_0^2*k_0*k_1*kappa*mu_1*omega*sigma_1^2*bessel_J(m - 1, kappa)*cos(-b*(g_1 - 1)*k_0)*e^(-I*b*(g_1 - 1)*k_0 - I*b*(g_1 - 1)*k_1)*sin(-b*(g_1 - 1)*k_1)*sin(b*g_1*k_1) - 8*pi*c^2*epsilon_0^2*epsilon_1*k_1*kappa^2*mu_0*omega^2*sigma_0*cos(-b*(g_1 - 1)*k_1)*cos(b*g_1*k_1)*e^(-I*b*(g_1 - 1)*k_0 - I*b*(g_1 - 1)*k_1)*sin(-b*(g_1 - 1)*k_0) + 32*pi^3*epsilon_0^2*k_1*mu_0*mu_1*omega^2*sigma_0*sigma_1^2*cos(-b*(g_1 - 1)*k_1)*cos(b*g_1*k_1)*e^(-I*b*(g_1 - 1)*k_0 - I*b*(g_1 - 1)*k_1)*sin(-b*(g_1 - 1)*k_0) + 8*pi*c^2*epsilon_0*epsilon_1^2*k_0*kappa^2*mu_1*omega^2*sigma_1*cos(-b*(g_1 - 1)*k_1)*cos(b*g_1*k_1)*e^(-I*b*(g_1 - 1)*k_0 - I*b*(g_1 - 1)*k_1)*sin(-b*(g_1 - 1)*k_1) - 32*pi^3*epsilon_1^2*k_0*mu_0*mu_1*omega^2*sigma_0^2*sigma_1*cos(-b*(g_1 - 1)*k_1)*cos(b*g_1*k_1)*e^(-I*b*(g_1 - 1)*k_0 - I*b*(g_1 - 1)*k_1)*sin(-b*(g_1 - 1)*k_1) + 8*pi*c^2*epsilon_0*epsilon_1^2*k_0*kappa^2*mu_1*omega^2*sigma_1*cos(b*g_1*k_1)*e^(-I*b*(g_1 - 1)*k_0 - I*b*(g_1 - 1)*k_1)*sin(-b*(g_1 - 1)*k_1)^2 - 32*pi^3*epsilon_1^2*k_0*mu_0*mu_1*omega^2*sigma_0^2*sigma_1*cos(b*g_1*k_1)*e^(-I*b*(g_1 - 1)*k_0 - I*b*(g_1 - 1)*k_1)*sin(-b*(g_1 - 1)*k_1)^2 + 8*pi*c^2*epsilon_0*epsilon_1^2*k_0*kappa^2*mu_1*omega^2*sigma_1*cos(-b*(g_1 - 1)*k_1)*e^(-I*b*(g_1 - 1)*k_0 - I*b*(g_1 - 1)*k_1)*sin(-b*(g_1 - 1)*k_1)*sin(b*g_1*k_1) - 32*pi^3*epsilon_1^2*k_0*mu_0*mu_1*omega^2*sigma_0^2*sigma_1*cos(-b*(g_1 - 1)*k_1)*e^(-I*b*(g_1 - 1)*k_0 - I*b*(g_1 - 1)*k_1)*sin(-b*(g_1 - 1)*k_1)*sin(b*g_1*k_1) + 8*pi*c^2*epsilon_0^2*epsilon_1*k_1*kappa^2*mu_0*omega^2*sigma_0*e^(-I*b*(g_1 - 1)*k_0 - I*b*(g_1 - 1)*k_1)*sin(-b*(g_1 - 1)*k_0)*sin(-b*(g_1 - 1)*k_1)*sin(b*g_1*k_1) - 32*pi^3*epsilon_0^2*k_1*mu_0*mu_1*omega^2*sigma_0*sigma_1^2*e^(-I*b*(g_1 - 1)*k_0 - I*b*(g_1 - 1)*k_1)*sin(-b*(g_1 - 1)*k_0)*sin(-b*(g_1 - 1)*k_1)*sin(b*g_1*k_1) - 8*pi*c^2*epsilon_0*epsilon_1^2*k_0*kappa^2*mu_1*omega^2*sigma_1*e^(-I*b*(g_1 - 1)*k_0 - I*b*(g_1 - 1)*k_1)*sin(-b*(g_1 - 1)*k_1)^2*sin(b*g_1*k_1) + 32*pi^3*epsilon_1^2*k_0*mu_0*mu_1*omega^2*sigma_0^2*sigma_1*e^(-I*b*(g_1 - 1)*k_0 - I*b*(g_1 - 1)*k_1)*sin(-b*(g_1 - 1)*k_1)^2*sin(b*g_1*k_1) - 8*pi*c^4*epsilon_0*epsilon_1*k_0*k_1^2*kappa^2*sigma_1*cos(-b*(g_1 - 1)*k_1)*cos(b*g_1*k_1)*e^(-I*b*(g_1 - 1)*k_0) + 32*pi^3*c^2*epsilon_1*k_0*k_1^2*mu_0*sigma_0^2*sigma_1*cos(-b*(g_1 - 1)*k_1)*cos(b*g_1*k_1)*e^(-I*b*(g_1 - 1)*k_0) + 8*pi*c^4*epsilon_0*epsilon_1*k_0^2*k_1*kappa^2*sigma_0*cos(-b*(g_1 - 1)*k_1)*cos(b*g_1*k_1)*e^(-I*b*(g_1 - 1)*k_1) - 32*pi^3*c^2*epsilon_0*k_0^2*k_1*mu_1*sigma_0*sigma_1^2*cos(-b*(g_1 - 1)*k_1)*cos(b*g_1*k_1)*e^(-I*b*(g_1 - 1)*k_1) + 8*pi*c^4*epsilon_0*epsilon_1*k_0*k_1^2*kappa^2*sigma_1*e^(-I*b*(g_1 - 1)*k_0)*sin(-b*(g_1 - 1)*k_1)*sin(b*g_1*k_1) - 32*pi^3*c^2*epsilon_1*k_0*k_1^2*mu_0*sigma_0^2*sigma_1*e^(-I*b*(g_1 - 1)*k_0)*sin(-b*(g_1 - 1)*k_1)*sin(b*g_1*k_1) - 8*pi*c^4*epsilon_0*epsilon_1*k_0^2*k_1*kappa^2*sigma_0*e^(-I*b*(g_1 - 1)*k_1)*sin(-b*(g_1 - 1)*k_1)*sin(b*g_1*k_1) + 32*pi^3*c^2*epsilon_0*k_0^2*k_1*mu_1*sigma_0*sigma_1^2*e^(-I*b*(g_1 - 1)*k_1)*sin(-b*(g_1 - 1)*k_1)*sin(b*g_1*k_1))*bessel_J(m + 1, kappa)*e^(I*b*(g_1 - 1)*k_0 + I*b*(g_1 - 1)*k_1)*sin(-b*(g_1 - 1)*k_1 + b*g_1*k_1)/((c^2*epsilon_0*kappa^2 - 4*pi^2*mu_0*sigma_0^2)*epsilon_1^2*k_0*omega*(bessel_J(m + 1, kappa) - bessel_J(m - 1, kappa))*cos(b*g_1*k_1)) + (D_z_0*c^4*epsilon_0^2*epsilon_1*k_0*k_1*kappa^3*omega*bessel_J(m + 1, kappa)*cos(-b*(g_1 - 1)*k_0)*cos(-b*(g_1 - 1)*k_1)*cos(b*g_1*k_1)*e^(-I*b*(g_1 - 1)*k_0 - I*b*(g_1 - 1)*k_1) - 4*pi^2*D_z_0*c^2*epsilon_0^2*k_0*k_1*kappa*mu_1*omega*sigma_1^2*bessel_J(m + 1, kappa)*cos(-b*(g_1 - 1)*k_0)*cos(-b*(g_1 - 1)*k_1)*cos(b*g_1*k_1)*e^(-I*b*(g_1 - 1)*k_0 - I*b*(g_1 - 1)*k_1) - D_z_0*c^4*epsilon_0^2*epsilon_1*k_0*k_1*kappa^3*omega*bessel_J(m - 1, kappa)*cos(-b*(g_1 - 1)*k_0)*cos(-b*(g_1 - 1)*k_1)*cos(b*g_1*k_1)*e^(-I*b*(g_1 - 1)*k_0 - I*b*(g_1 - 1)*k_1) + 4*pi^2*D_z_0*c^2*epsilon_0^2*k_0*k_1*kappa*mu_1*omega*sigma_1^2*bessel_J(m - 1, kappa)*cos(-b*(g_1 - 1)*k_0)*cos(-b*(g_1 - 1)*k_1)*cos(b*g_1*k_1)*e^(-I*b*(g_1 - 1)*k_0 - I*b*(g_1 - 1)*k_1) - D_z_0*c^4*epsilon_0^2*epsilon_1*k_0*k_1*kappa^3*omega*bessel_J(m + 1, kappa)*cos(-b*(g_1 - 1)*k_0)*e^(-I*b*(g_1 - 1)*k_0 - I*b*(g_1 - 1)*k_1)*sin(-b*(g_1 - 1)*k_1)*sin(b*g_1*k_1) + 4*pi^2*D_z_0*c^2*epsilon_0^2*k_0*k_1*kappa*mu_1*omega*sigma_1^2*bessel_J(m + 1, kappa)*cos(-b*(g_1 - 1)*k_0)*e^(-I*b*(g_1 - 1)*k_0 - I*b*(g_1 - 1)*k_1)*sin(-b*(g_1 - 1)*k_1)*sin(b*g_1*k_1) + D_z_0*c^4*epsilon_0^2*epsilon_1*k_0*k_1*kappa^3*omega*bessel_J(m - 1, kappa)*cos(-b*(g_1 - 1)*k_0)*e^(-I*b*(g_1 - 1)*k_0 - I*b*(g_1 - 1)*k_1)*sin(-b*(g_1 - 1)*k_1)*sin(b*g_1*k_1) - 4*pi^2*D_z_0*c^2*epsilon_0^2*k_0*k_1*kappa*mu_1*omega*sigma_1^2*bessel_J(m - 1, kappa)*cos(-b*(g_1 - 1)*k_0)*e^(-I*b*(g_1 - 1)*k_0 - I*b*(g_1 - 1)*k_1)*sin(-b*(g_1 - 1)*k_1)*sin(b*g_1*k_1) - 8*pi*c^2*epsilon_0^2*epsilon_1*k_1*kappa^2*mu_0*omega^2*sigma_0*cos(-b*(g_1 - 1)*k_1)*cos(b*g_1*k_1)*e^(-I*b*(g_1 - 1)*k_0 - I*b*(g_1 - 1)*k_1)*sin(-b*(g_1 - 1)*k_0) + 32*pi^3*epsilon_0^2*k_1*mu_0*mu_1*omega^2*sigma_0*sigma_1^2*cos(-b*(g_1 - 1)*k_1)*cos(b*g_1*k_1)*e^(-I*b*(g_1 - 1)*k_0 - I*b*(g_1 - 1)*k_1)*sin(-b*(g_1 - 1)*k_0) + 8*pi*c^2*epsilon_0*epsilon_1^2*k_0*kappa^2*mu_1*omega^2*sigma_1*cos(-b*(g_1 - 1)*k_1)*cos(b*g_1*k_1)*e^(-I*b*(g_1 - 1)*k_0 - I*b*(g_1 - 1)*k_1)*sin(-b*(g_1 - 1)*k_1) - 32*pi^3*epsilon_1^2*k_0*mu_0*mu_1*omega^2*sigma_0^2*sigma_1*cos(-b*(g_1 - 1)*k_1)*cos(b*g_1*k_1)*e^(-I*b*(g_1 - 1)*k_0 - I*b*(g_1 - 1)*k_1)*sin(-b*(g_1 - 1)*k_1) + 8*pi*c^2*epsilon_0*epsilon_1^2*k_0*kappa^2*mu_1*omega^2*sigma_1*cos(b*g_1*k_1)*e^(-I*b*(g_1 - 1)*k_0 - I*b*(g_1 - 1)*k_1)*sin(-b*(g_1 - 1)*k_1)^2 - 32*pi^3*epsilon_1^2*k_0*mu_0*mu_1*omega^2*sigma_0^2*sigma_1*cos(b*g_1*k_1)*e^(-I*b*(g_1 - 1)*k_0 - I*b*(g_1 - 1)*k_1)*sin(-b*(g_1 - 1)*k_1)^2 + 8*pi*c^2*epsilon_0*epsilon_1^2*k_0*kappa^2*mu_1*omega^2*sigma_1*cos(-b*(g_1 - 1)*k_1)*e^(-I*b*(g_1 - 1)*k_0 - I*b*(g_1 - 1)*k_1)*sin(-b*(g_1 - 1)*k_1)*sin(b*g_1*k_1) - 32*pi^3*epsilon_1^2*k_0*mu_0*mu_1*omega^2*sigma_0^2*sigma_1*cos(-b*(g_1 - 1)*k_1)*e^(-I*b*(g_1 - 1)*k_0 - I*b*(g_1 - 1)*k_1)*sin(-b*(g_1 - 1)*k_1)*sin(b*g_1*k_1) + 8*pi*c^2*epsilon_0^2*epsilon_1*k_1*kappa^2*mu_0*omega^2*sigma_0*e^(-I*b*(g_1 - 1)*k_0 - I*b*(g_1 - 1)*k_1)*sin(-b*(g_1 - 1)*k_0)*sin(-b*(g_1 - 1)*k_1)*sin(b*g_1*k_1) - 32*pi^3*epsilon_0^2*k_1*mu_0*mu_1*omega^2*sigma_0*sigma_1^2*e^(-I*b*(g_1 - 1)*k_0 - I*b*(g_1 - 1)*k_1)*sin(-b*(g_1 - 1)*k_0)*sin(-b*(g_1 - 1)*k_1)*sin(b*g_1*k_1) - 8*pi*c^2*epsilon_0*epsilon_1^2*k_0*kappa^2*mu_1*omega^2*sigma_1*e^(-I*b*(g_1 - 1)*k_0 - I*b*(g_1 - 1)*k_1)*sin(-b*(g_1 - 1)*k_1)^2*sin(b*g_1*k_1) + 32*pi^3*epsilon_1^2*k_0*mu_0*mu_1*omega^2*sigma_0^2*sigma_1*e^(-I*b*(g_1 - 1)*k_0 - I*b*(g_1 - 1)*k_1)*sin(-b*(g_1 - 1)*k_1)^2*sin(b*g_1*k_1) - 8*pi*c^4*epsilon_0*epsilon_1*k_0*k_1^2*kappa^2*sigma_1*cos(-b*(g_1 - 1)*k_1)*cos(b*g_1*k_1)*e^(-I*b*(g_1 - 1)*k_0) + 32*pi^3*c^2*epsilon_1*k_0*k_1^2*mu_0*sigma_0^2*sigma_1*cos(-b*(g_1 - 1)*k_1)*cos(b*g_1*k_1)*e^(-I*b*(g_1 - 1)*k_0) + 8*pi*c^4*epsilon_0*epsilon_1*k_0^2*k_1*kappa^2*sigma_0*cos(-b*(g_1 - 1)*k_1)*cos(b*g_1*k_1)*e^(-I*b*(g_1 - 1)*k_1) - 32*pi^3*c^2*epsilon_0*k_0^2*k_1*mu_1*sigma_0*sigma_1^2*cos(-b*(g_1 - 1)*k_1)*cos(b*g_1*k_1)*e^(-I*b*(g_1 - 1)*k_1) + 8*pi*c^4*epsilon_0*epsilon_1*k_0*k_1^2*kappa^2*sigma_1*e^(-I*b*(g_1 - 1)*k_0)*sin(-b*(g_1 - 1)*k_1)*sin(b*g_1*k_1) - 32*pi^3*c^2*epsilon_1*k_0*k_1^2*mu_0*sigma_0^2*sigma_1*e^(-I*b*(g_1 - 1)*k_0)*sin(-b*(g_1 - 1)*k_1)*sin(b*g_1*k_1) - 8*pi*c^4*epsilon_0*epsilon_1*k_0^2*k_1*kappa^2*sigma_0*e^(-I*b*(g_1 - 1)*k_1)*sin(-b*(g_1 - 1)*k_1)*sin(b*g_1*k_1) + 32*pi^3*c^2*epsilon_0*k_0^2*k_1*mu_1*sigma_0*sigma_1^2*e^(-I*b*(g_1 - 1)*k_1)*sin(-b*(g_1 - 1)*k_1)*sin(b*g_1*k_1))*bessel_J(m - 1, kappa)*e^(I*b*(g_1 - 1)*k_0 + I*b*(g_1 - 1)*k_1)*sin(-b*(g_1 - 1)*k_1 + b*g_1*k_1)/((c^2*epsilon_0*kappa^2 - 4*pi^2*mu_0*sigma_0^2)*epsilon_1^2*k_0*omega*(bessel_J(m + 1, kappa) - bessel_J(m - 1, kappa))*cos(b*g_1*k_1)))*c^2*k_1*kappa*bessel_J(m - 1, kappa)*cos(k_1*z)/(c^2*k_1*kappa*bessel_J(m + 1, kappa)*cos(-b*(g_1 - 1)*k_1 + b*g_1*k_1) - c^2*k_1*kappa*bessel_J(m - 1, kappa)*cos(-b*(g_1 - 1)*k_1 + b*g_1*k_1)) - 8*pi*mu_1*omega*sigma_1*cos(k_1*z) - 8*pi*mu_1*omega*sigma_1*sin(k_1*z) + (D_z_0*c^4*epsilon_0^2*epsilon_1*k_0*k_1*kappa^3*omega*bessel_J(m + 1, kappa)*cos(-b*(g_1 - 1)*k_0)*cos(-b*(g_1 - 1)*k_1)*cos(b*g_1*k_1)*e^(-I*b*(g_1 - 1)*k_0 - I*b*(g_1 - 1)*k_1) - 4*pi^2*D_z_0*c^2*epsilon_0^2*k_0*k_1*kappa*mu_1*omega*sigma_1^2*bessel_J(m + 1, kappa)*cos(-b*(g_1 - 1)*k_0)*cos(-b*(g_1 - 1)*k_1)*cos(b*g_1*k_1)*e^(-I*b*(g_1 - 1)*k_0 - I*b*(g_1 - 1)*k_1) - D_z_0*c^4*epsilon_0^2*epsilon_1*k_0*k_1*kappa^3*omega*bessel_J(m - 1, kappa)*cos(-b*(g_1 - 1)*k_0)*cos(-b*(g_1 - 1)*k_1)*cos(b*g_1*k_1)*e^(-I*b*(g_1 - 1)*k_0 - I*b*(g_1 - 1)*k_1) + 4*pi^2*D_z_0*c^2*epsilon_0^2*k_0*k_1*kappa*mu_1*omega*sigma_1^2*bessel_J(m - 1, kappa)*cos(-b*(g_1 - 1)*k_0)*cos(-b*(g_1 - 1)*k_1)*cos(b*g_1*k_1)*e^(-I*b*(g_1 - 1)*k_0 - I*b*(g_1 - 1)*k_1) - D_z_0*c^4*epsilon_0^2*epsilon_1*k_0*k_1*kappa^3*omega*bessel_J(m + 1, kappa)*cos(-b*(g_1 - 1)*k_0)*e^(-I*b*(g_1 - 1)*k_0 - I*b*(g_1 - 1)*k_1)*sin(-b*(g_1 - 1)*k_1)*sin(b*g_1*k_1) + 4*pi^2*D_z_0*c^2*epsilon_0^2*k_0*k_1*kappa*mu_1*omega*sigma_1^2*bessel_J(m + 1, kappa)*cos(-b*(g_1 - 1)*k_0)*e^(-I*b*(g_1 - 1)*k_0 - I*b*(g_1 - 1)*k_1)*sin(-b*(g_1 - 1)*k_1)*sin(b*g_1*k_1) + D_z_0*c^4*epsilon_0^2*epsilon_1*k_0*k_1*kappa^3*omega*bessel_J(m - 1, kappa)*cos(-b*(g_1 - 1)*k_0)*e^(-I*b*(g_1 - 1)*k_0 - I*b*(g_1 - 1)*k_1)*sin(-b*(g_1 - 1)*k_1)*sin(b*g_1*k_1) - 4*pi^2*D_z_0*c^2*epsilon_0^2*k_0*k_1*kappa*mu_1*omega*sigma_1^2*bessel_J(m - 1, kappa)*cos(-b*(g_1 - 1)*k_0)*e^(-I*b*(g_1 - 1)*k_0 - I*b*(g_1 - 1)*k_1)*sin(-b*(g_1 - 1)*k_1)*sin(b*g_1*k_1) - 8*pi*c^2*epsilon_0^2*epsilon_1*k_1*kappa^2*mu_0*omega^2*sigma_0*cos(-b*(g_1 - 1)*k_1)*cos(b*g_1*k_1)*e^(-I*b*(g_1 - 1)*k_0 - I*b*(g_1 - 1)*k_1)*sin(-b*(g_1 - 1)*k_0) + 32*pi^3*epsilon_0^2*k_1*mu_0*mu_1*omega^2*sigma_0*sigma_1^2*cos(-b*(g_1 - 1)*k_1)*cos(b*g_1*k_1)*e^(-I*b*(g_1 - 1)*k_0 - I*b*(g_1 - 1)*k_1)*sin(-b*(g_1 - 1)*k_0) + 8*pi*c^2*epsilon_0*epsilon_1^2*k_0*kappa^2*mu_1*omega^2*sigma_1*cos(-b*(g_1 - 1)*k_1)*cos(b*g_1*k_1)*e^(-I*b*(g_1 - 1)*k_0 - I*b*(g_1 - 1)*k_1)*sin(-b*(g_1 - 1)*k_1) - 32*pi^3*epsilon_1^2*k_0*mu_0*mu_1*omega^2*sigma_0^2*sigma_1*cos(-b*(g_1 - 1)*k_1)*cos(b*g_1*k_1)*e^(-I*b*(g_1 - 1)*k_0 - I*b*(g_1 - 1)*k_1)*sin(-b*(g_1 - 1)*k_1) + 8*pi*c^2*epsilon_0*epsilon_1^2*k_0*kappa^2*mu_1*omega^2*sigma_1*cos(b*g_1*k_1)*e^(-I*b*(g_1 - 1)*k_0 - I*b*(g_1 - 1)*k_1)*sin(-b*(g_1 - 1)*k_1)^2 - 32*pi^3*epsilon_1^2*k_0*mu_0*mu_1*omega^2*sigma_0^2*sigma_1*cos(b*g_1*k_1)*e^(-I*b*(g_1 - 1)*k_0 - I*b*(g_1 - 1)*k_1)*sin(-b*(g_1 - 1)*k_1)^2 + 8*pi*c^2*epsilon_0*epsilon_1^2*k_0*kappa^2*mu_1*omega^2*sigma_1*cos(-b*(g_1 - 1)*k_1)*e^(-I*b*(g_1 - 1)*k_0 - I*b*(g_1 - 1)*k_1)*sin(-b*(g_1 - 1)*k_1)*sin(b*g_1*k_1) - 32*pi^3*epsilon_1^2*k_0*mu_0*mu_1*omega^2*sigma_0^2*sigma_1*cos(-b*(g_1 - 1)*k_1)*e^(-I*b*(g_1 - 1)*k_0 - I*b*(g_1 - 1)*k_1)*sin(-b*(g_1 - 1)*k_1)*sin(b*g_1*k_1) + 8*pi*c^2*epsilon_0^2*epsilon_1*k_1*kappa^2*mu_0*omega^2*sigma_0*e^(-I*b*(g_1 - 1)*k_0 - I*b*(g_1 - 1)*k_1)*sin(-b*(g_1 - 1)*k_0)*sin(-b*(g_1 - 1)*k_1)*sin(b*g_1*k_1) - 32*pi^3*epsilon_0^2*k_1*mu_0*mu_1*omega^2*sigma_0*sigma_1^2*e^(-I*b*(g_1 - 1)*k_0 - I*b*(g_1 - 1)*k_1)*sin(-b*(g_1 - 1)*k_0)*sin(-b*(g_1 - 1)*k_1)*sin(b*g_1*k_1) - 8*pi*c^2*epsilon_0*epsilon_1^2*k_0*kappa^2*mu_1*omega^2*sigma_1*e^(-I*b*(g_1 - 1)*k_0 - I*b*(g_1 - 1)*k_1)*sin(-b*(g_1 - 1)*k_1)^2*sin(b*g_1*k_1) + 32*pi^3*epsilon_1^2*k_0*mu_0*mu_1*omega^2*sigma_0^2*sigma_1*e^(-I*b*(g_1 - 1)*k_0 - I*b*(g_1 - 1)*k_1)*sin(-b*(g_1 - 1)*k_1)^2*sin(b*g_1*k_1) - 8*pi*c^4*epsilon_0*epsilon_1*k_0*k_1^2*kappa^2*sigma_1*cos(-b*(g_1 - 1)*k_1)*cos(b*g_1*k_1)*e^(-I*b*(g_1 - 1)*k_0) + 32*pi^3*c^2*epsilon_1*k_0*k_1^2*mu_0*sigma_0^2*sigma_1*cos(-b*(g_1 - 1)*k_1)*cos(b*g_1*k_1)*e^(-I*b*(g_1 - 1)*k_0) + 8*pi*c^4*epsilon_0*epsilon_1*k_0^2*k_1*kappa^2*sigma_0*cos(-b*(g_1 - 1)*k_1)*cos(b*g_1*k_1)*e^(-I*b*(g_1 - 1)*k_1) - 32*pi^3*c^2*epsilon_0*k_0^2*k_1*mu_1*sigma_0*sigma_1^2*cos(-b*(g_1 - 1)*k_1)*cos(b*g_1*k_1)*e^(-I*b*(g_1 - 1)*k_1) + 8*pi*c^4*epsilon_0*epsilon_1*k_0*k_1^2*kappa^2*sigma_1*e^(-I*b*(g_1 - 1)*k_0)*sin(-b*(g_1 - 1)*k_1)*sin(b*g_1*k_1) - 32*pi^3*c^2*epsilon_1*k_0*k_1^2*mu_0*sigma_0^2*sigma_1*e^(-I*b*(g_1 - 1)*k_0)*sin(-b*(g_1 - 1)*k_1)*sin(b*g_1*k_1) - 8*pi*c^4*epsilon_0*epsilon_1*k_0^2*k_1*kappa^2*sigma_0*e^(-I*b*(g_1 - 1)*k_1)*sin(-b*(g_1 - 1)*k_1)*sin(b*g_1*k_1) + 32*pi^3*c^2*epsilon_0*k_0^2*k_1*mu_1*sigma_0*sigma_1^2*e^(-I*b*(g_1 - 1)*k_1)*sin(-b*(g_1 - 1)*k_1)*sin(b*g_1*k_1))*bessel_J(m + 1, kappa)*e^(I*b*(g_1 - 1)*k_0 + I*b*(g_1 - 1)*k_1)*sin(k_1*z)/((c^2*epsilon_0*kappa^2 - 4*pi^2*mu_0*sigma_0^2)*epsilon_1^2*k_0*omega*(bessel_J(m + 1, kappa) - bessel_J(m - 1, kappa))*cos(b*g_1*k_1)) - (D_z_0*c^4*epsilon_0^2*epsilon_1*k_0*k_1*kappa^3*omega*bessel_J(m + 1, kappa)*cos(-b*(g_1 - 1)*k_0)*cos(-b*(g_1 - 1)*k_1)*cos(b*g_1*k_1)*e^(-I*b*(g_1 - 1)*k_0 - I*b*(g_1 - 1)*k_1) - 4*pi^2*D_z_0*c^2*epsilon_0^2*k_0*k_1*kappa*mu_1*omega*sigma_1^2*bessel_J(m + 1, kappa)*cos(-b*(g_1 - 1)*k_0)*cos(-b*(g_1 - 1)*k_1)*cos(b*g_1*k_1)*e^(-I*b*(g_1 - 1)*k_0 - I*b*(g_1 - 1)*k_1) - D_z_0*c^4*epsilon_0^2*epsilon_1*k_0*k_1*kappa^3*omega*bessel_J(m - 1, kappa)*cos(-b*(g_1 - 1)*k_0)*cos(-b*(g_1 - 1)*k_1)*cos(b*g_1*k_1)*e^(-I*b*(g_1 - 1)*k_0 - I*b*(g_1 - 1)*k_1) + 4*pi^2*D_z_0*c^2*epsilon_0^2*k_0*k_1*kappa*mu_1*omega*sigma_1^2*bessel_J(m - 1, kappa)*cos(-b*(g_1 - 1)*k_0)*cos(-b*(g_1 - 1)*k_1)*cos(b*g_1*k_1)*e^(-I*b*(g_1 - 1)*k_0 - I*b*(g_1 - 1)*k_1) - D_z_0*c^4*epsilon_0^2*epsilon_1*k_0*k_1*kappa^3*omega*bessel_J(m + 1, kappa)*cos(-b*(g_1 - 1)*k_0)*e^(-I*b*(g_1 - 1)*k_0 - I*b*(g_1 - 1)*k_1)*sin(-b*(g_1 - 1)*k_1)*sin(b*g_1*k_1) + 4*pi^2*D_z_0*c^2*epsilon_0^2*k_0*k_1*kappa*mu_1*omega*sigma_1^2*bessel_J(m + 1, kappa)*cos(-b*(g_1 - 1)*k_0)*e^(-I*b*(g_1 - 1)*k_0 - I*b*(g_1 - 1)*k_1)*sin(-b*(g_1 - 1)*k_1)*sin(b*g_1*k_1) + D_z_0*c^4*epsilon_0^2*epsilon_1*k_0*k_1*kappa^3*omega*bessel_J(m - 1, kappa)*cos(-b*(g_1 - 1)*k_0)*e^(-I*b*(g_1 - 1)*k_0 - I*b*(g_1 - 1)*k_1)*sin(-b*(g_1 - 1)*k_1)*sin(b*g_1*k_1) - 4*pi^2*D_z_0*c^2*epsilon_0^2*k_0*k_1*kappa*mu_1*omega*sigma_1^2*bessel_J(m - 1, kappa)*cos(-b*(g_1 - 1)*k_0)*e^(-I*b*(g_1 - 1)*k_0 - I*b*(g_1 - 1)*k_1)*sin(-b*(g_1 - 1)*k_1)*sin(b*g_1*k_1) - 8*pi*c^2*epsilon_0^2*epsilon_1*k_1*kappa^2*mu_0*omega^2*sigma_0*cos(-b*(g_1 - 1)*k_1)*cos(b*g_1*k_1)*e^(-I*b*(g_1 - 1)*k_0 - I*b*(g_1 - 1)*k_1)*sin(-b*(g_1 - 1)*k_0) + 32*pi^3*epsilon_0^2*k_1*mu_0*mu_1*omega^2*sigma_0*sigma_1^2*cos(-b*(g_1 - 1)*k_1)*cos(b*g_1*k_1)*e^(-I*b*(g_1 - 1)*k_0 - I*b*(g_1 - 1)*k_1)*sin(-b*(g_1 - 1)*k_0) + 8*pi*c^2*epsilon_0*epsilon_1^2*k_0*kappa^2*mu_1*omega^2*sigma_1*cos(-b*(g_1 - 1)*k_1)*cos(b*g_1*k_1)*e^(-I*b*(g_1 - 1)*k_0 - I*b*(g_1 - 1)*k_1)*sin(-b*(g_1 - 1)*k_1) - 32*pi^3*epsilon_1^2*k_0*mu_0*mu_1*omega^2*sigma_0^2*sigma_1*cos(-b*(g_1 - 1)*k_1)*cos(b*g_1*k_1)*e^(-I*b*(g_1 - 1)*k_0 - I*b*(g_1 - 1)*k_1)*sin(-b*(g_1 - 1)*k_1) + 8*pi*c^2*epsilon_0*epsilon_1^2*k_0*kappa^2*mu_1*omega^2*sigma_1*cos(b*g_1*k_1)*e^(-I*b*(g_1 - 1)*k_0 - I*b*(g_1 - 1)*k_1)*sin(-b*(g_1 - 1)*k_1)^2 - 32*pi^3*epsilon_1^2*k_0*mu_0*mu_1*omega^2*sigma_0^2*sigma_1*cos(b*g_1*k_1)*e^(-I*b*(g_1 - 1)*k_0 - I*b*(g_1 - 1)*k_1)*sin(-b*(g_1 - 1)*k_1)^2 + 8*pi*c^2*epsilon_0*epsilon_1^2*k_0*kappa^2*mu_1*omega^2*sigma_1*cos(-b*(g_1 - 1)*k_1)*e^(-I*b*(g_1 - 1)*k_0 - I*b*(g_1 - 1)*k_1)*sin(-b*(g_1 - 1)*k_1)*sin(b*g_1*k_1) - 32*pi^3*epsilon_1^2*k_0*mu_0*mu_1*omega^2*sigma_0^2*sigma_1*cos(-b*(g_1 - 1)*k_1)*e^(-I*b*(g_1 - 1)*k_0 - I*b*(g_1 - 1)*k_1)*sin(-b*(g_1 - 1)*k_1)*sin(b*g_1*k_1) + 8*pi*c^2*epsilon_0^2*epsilon_1*k_1*kappa^2*mu_0*omega^2*sigma_0*e^(-I*b*(g_1 - 1)*k_0 - I*b*(g_1 - 1)*k_1)*sin(-b*(g_1 - 1)*k_0)*sin(-b*(g_1 - 1)*k_1)*sin(b*g_1*k_1) - 32*pi^3*epsilon_0^2*k_1*mu_0*mu_1*omega^2*sigma_0*sigma_1^2*e^(-I*b*(g_1 - 1)*k_0 - I*b*(g_1 - 1)*k_1)*sin(-b*(g_1 - 1)*k_0)*sin(-b*(g_1 - 1)*k_1)*sin(b*g_1*k_1) - 8*pi*c^2*epsilon_0*epsilon_1^2*k_0*kappa^2*mu_1*omega^2*sigma_1*e^(-I*b*(g_1 - 1)*k_0 - I*b*(g_1 - 1)*k_1)*sin(-b*(g_1 - 1)*k_1)^2*sin(b*g_1*k_1) + 32*pi^3*epsilon_1^2*k_0*mu_0*mu_1*omega^2*sigma_0^2*sigma_1*e^(-I*b*(g_1 - 1)*k_0 - I*b*(g_1 - 1)*k_1)*sin(-b*(g_1 - 1)*k_1)^2*sin(b*g_1*k_1) - 8*pi*c^4*epsilon_0*epsilon_1*k_0*k_1^2*kappa^2*sigma_1*cos(-b*(g_1 - 1)*k_1)*cos(b*g_1*k_1)*e^(-I*b*(g_1 - 1)*k_0) + 32*pi^3*c^2*epsilon_1*k_0*k_1^2*mu_0*sigma_0^2*sigma_1*cos(-b*(g_1 - 1)*k_1)*cos(b*g_1*k_1)*e^(-I*b*(g_1 - 1)*k_0) + 8*pi*c^4*epsilon_0*epsilon_1*k_0^2*k_1*kappa^2*sigma_0*cos(-b*(g_1 - 1)*k_1)*cos(b*g_1*k_1)*e^(-I*b*(g_1 - 1)*k_1) - 32*pi^3*c^2*epsilon_0*k_0^2*k_1*mu_1*sigma_0*sigma_1^2*cos(-b*(g_1 - 1)*k_1)*cos(b*g_1*k_1)*e^(-I*b*(g_1 - 1)*k_1) + 8*pi*c^4*epsilon_0*epsilon_1*k_0*k_1^2*kappa^2*sigma_1*e^(-I*b*(g_1 - 1)*k_0)*sin(-b*(g_1 - 1)*k_1)*sin(b*g_1*k_1) - 32*pi^3*c^2*epsilon_1*k_0*k_1^2*mu_0*sigma_0^2*sigma_1*e^(-I*b*(g_1 - 1)*k_0)*sin(-b*(g_1 - 1)*k_1)*sin(b*g_1*k_1) - 8*pi*c^4*epsilon_0*epsilon_1*k_0^2*k_1*kappa^2*sigma_0*e^(-I*b*(g_1 - 1)*k_1)*sin(-b*(g_1 - 1)*k_1)*sin(b*g_1*k_1) + 32*pi^3*c^2*epsilon_0*k_0^2*k_1*mu_1*sigma_0*sigma_1^2*e^(-I*b*(g_1 - 1)*k_1)*sin(-b*(g_1 - 1)*k_1)*sin(b*g_1*k_1))*bessel_J(m - 1, kappa)*e^(I*b*(g_1 - 1)*k_0 + I*b*(g_1 - 1)*k_1)*sin(k_1*z)/((c^2*epsilon_0*kappa^2 - 4*pi^2*mu_0*sigma_0^2)*epsilon_1^2*k_0*omega*(bessel_J(m + 1, kappa) - bessel_J(m - 1, kappa))*cos(b*g_1*k_1)))*epsilon_1/(c^2*epsilon_1*kappa^2 - 4*pi^2*mu_1*sigma_1^2)]"
      ]
     },
     "execution_count": 237,
     "metadata": {},
     "output_type": "execute_result"
    }
   ],
   "source": [
    "[E_rho_s[i](r,p,z).subs(r == rho, p == phi) for rho in [1] for phi in [0]]"
   ]
  },
  {
   "cell_type": "code",
   "execution_count": 240,
   "metadata": {},
   "outputs": [],
   "source": [
    "def calc_f_surf(ra, g1, epsilon0, epsilon1, debug = False, verbose = False):\n",
    "    eq_kappa_d_ = []\n",
    "    for i in range(n_layers):\n",
    "        eq_kappa_d_ += [eq_kappa_dielectric[i].subs(kappa == kappa_d1).subs(digit_values) \\\n",
    "                        .subs(epsilon[0] == epsilon0).subs(epsilon[1] == epsilon1) \\\n",
    "                        .subs (c_value).subs(omega_value)]\n",
    "    k_values_symbolic = []\n",
    "    k_values_symbolic_d_ = []\n",
    "    k_values_ = []\n",
    "    k_values_d_ = []\n",
    "    for i in range(n_layers):\n",
    "        assume (k [i] > 0)\n",
    "        k_values_symbolic += solve (eq_kappa_dielectric[i], k[i])\n",
    "        k_values_ += solve (eq_kappa_d_[i], k[i])\n",
    "        k_values_d_ += [k_values_ [i].lhs() == k_values_ [i].rhs().n() ]\n",
    "        k_values_symbolic_d_ += [k[i] == k_values_symbolic[i].rhs().subs(kappa == kappa_d1).subs(digit_values) \\\n",
    "                                 .subs(epsilon[0] == epsilon0).subs(epsilon[1] == epsilon1) \\\n",
    "                                 .subs(c_value).subs(omega_value).n()]\n",
    "        if verbose:\n",
    "            print(\"k_values_symbolic[\", i, \"]\", k_values_symbolic[i])\n",
    "            print(\"k_values_symbolic_d_[\", i, \"]\", k_values_symbolic_d_[i].rhs().n())\n",
    "\n",
    "    if verbose:\n",
    "        print(\"eq_kappa = \", eq_kappa_dielectric)\n",
    "        print(\"\")\n",
    "        print(\"eq_kappa_d_ = \", eq_kappa_d_)\n",
    "        print(\"\")\n",
    "        print(\"k_values_symbolic\", k_values_symbolic)\n",
    "        print(\"\")\n",
    "        print(\"k_values_symbolic_d_ = \", k_values_symbolic_d_)\n",
    "        print(\"\")\n",
    "        print(\"k_values_d_ = \", k_values_d_)\n",
    "        print(\"\")\n",
    "\n",
    "    if debug:\n",
    "        print(\"disp_eq_b = \")\n",
    "        display(Math(latex(disp_eq_b)))\n",
    "    \n",
    "    disp_eq_b_symb = disp_eq_b.subs(k_values_symbolic)\n",
    "\n",
    "    disp_eq_b_symb_d_ = disp_eq_b_symb.subs(kappa == kappa_d1).subs(digit_values) \\\n",
    "                                      .subs(epsilon[0] == epsilon0).subs(epsilon[1] == epsilon1) \\\n",
    "                                      .subs(c_value).subs(omega_value).full_simplify()\n",
    "    #.subs(k_values_d)\n",
    "    disp_eq_b_d_ = disp_eq_b.subs(digit_values).subs(epsilon[0] == epsilon0).subs(epsilon[1] == epsilon1) \\\n",
    "                            .subs(c_value).subs(k_values_d_).subs(kappa == kappa_d1)\n",
    "    disp_eq_b_d_s = disp_eq_b_d_.subs(g_1 == g1).subs(epsilon[0] == epsilon0).subs(epsilon[1] == epsilon1).subs(a == a_val)\n",
    "    disp_eq_b_symb_d_s_ = disp_eq_b_symb_d_.subs(g_1 == g1).full_simplify()\n",
    "    \n",
    "    if debug:\n",
    "        print (\"disp_eq_b_symb =\")\n",
    "        display(Math(latex(disp_eq_b_symb)))\n",
    "\n",
    "    if verbose:\n",
    "        print (\"disp_eq_b_symb_d_ =\", disp_eq_b_symb_d_)\n",
    "        print (\"\")\n",
    "        print (\"disp_eq_b_symb_d_.variables() =\", disp_eq_b_symb_d_.variables())\n",
    "        print (\"\")\n",
    "        print (\"disp_eq_b_d_s =\", disp_eq_b_d_s)\n",
    "        print (\"\")\n",
    "        print (\"disp_eq_b_d_s.variables() =\", disp_eq_b_d_s.variables())\n",
    "        print (\"\")\n",
    "        print (\"disp_eq_b_symb_d_s_ =\", disp_eq_b_symb_d_s_)\n",
    "        print (\"\")\n",
    "        print (\"disp_eq_b_symb_d_s_.variables() =\", disp_eq_b_symb_d_s_.variables())\n",
    "        print (\"\")\n",
    "    \n",
    "    #disp_eq_b_d_s\n",
    "    disp_eq_brakes_b = [0]\n",
    "    if verbose:\n",
    "        print(\"disp_eq_b_d_s.lhs().operands()\", disp_eq_b_d_s.lhs().operands())\n",
    "\n",
    "    for operand in disp_eq_b_d_s.lhs().operands():\n",
    "        if verbose:\n",
    "            print (\"operand\", operand)\n",
    "            print (\"operand.variables()\", operand.variables())\n",
    "        operand_denominator = operand.denominator()\n",
    "        if verbose:\n",
    "            print (\"operand_denominator\", operand_denominator)\n",
    "        from sage.symbolic.operators import add_vararg, mul_vararg\n",
    "        operand_denominator_operator = operand_denominator.operator()\n",
    "        if verbose:\n",
    "            print (\"operand_denominator_operator\", operand_denominator_operator)\n",
    "        operand_denominator_variables = operand_denominator.variables()\n",
    "        if verbose:\n",
    "            print (\"operand_denominator_variables\", operand_denominator_variables)\n",
    "\n",
    "        if mul_vararg == operand_denominator_operator and len(operand_denominator_variables) > 1: #if 2 < n_layers:\n",
    "            for operand_denominator_i in operand_denominator.operands():\n",
    "                if verbose:\n",
    "                    print(\"operand_denominator_i\", operand_denominator_i)\n",
    "                if operand_denominator_i.operator() in [sin, cos]:\n",
    "                    trig_operand = operand_denominator_i.operands()[0]\n",
    "                    if verbose:\n",
    "                        print (\"trig_operand.operator()\", trig_operand.operator())\n",
    "                        print (\"trig_operand.operator()\", trig_operand.operands())\n",
    "                    if mul_vararg == trig_operand.operator():\n",
    "                        for operand3 in trig_operand.operands():\n",
    "                            if len(operand3.variables()) == 0:\n",
    "                                if verbose:\n",
    "                                    print(\"operand3\", operand3)\n",
    "                                operand_denominator_i_roots = find_root_recursive(operand_denominator_i, pi/operand3/360, 10*pi/operand3)\n",
    "                                operand_denominator_i_roots.sort()\n",
    "                                if verbose:\n",
    "                                    print(\"operand_denominator_i_roots\", operand_denominator_i_roots)\n",
    "\n",
    "                                if len(operand_denominator_i_roots) > 0:\n",
    "                                    for rt in operand_denominator_i_roots:\n",
    "                                        if rt not in disp_eq_brakes_b:\n",
    "                                            disp_eq_brakes_b += [rt]\n",
    "                                else:\n",
    "                                    operand_denominator_sols_i = solve(operand_denominator_i, operand_denominator_i.variables()[0])\n",
    "                                    if verbose:\n",
    "                                        print(\"operand_denominator_sols_i\", operand_denominator_sols_i)\n",
    "                                    for sl in operand_denominator_sols_i:\n",
    "                                        if sl.rhs() not in disp_eq_brakes_b:\n",
    "                                            disp_eq_brakes_b += [sl.rhs()]                          \n",
    "        else:\n",
    "            if verbose:\n",
    "                print(\"operand_denominator\", operand_denominator)\n",
    "            if operand_denominator.operator() in [sin, cos]:\n",
    "                trig_operand = operand_denominator.operands()[0]\n",
    "                if verbose:\n",
    "                    print (\"trig_operand.operator()\", trig_operand.operator())\n",
    "                    print (\"trig_operand.operator()\", trig_operand.operands())\n",
    "                if mul_vararg == trig_operand.operator():\n",
    "                    for operand3 in trig_operand.operands():\n",
    "                        if len(operand3.variables()) == 0:\n",
    "                            if verbose:\n",
    "                                print(\"operand3\", operand3)\n",
    "                            operand_denominator_roots = find_root_recursive(operand_denominator, pi/operand3/360, 10*pi/operand3)\n",
    "                            operand_denominator_roots.sort()\n",
    "                            if verbose:\n",
    "                                print(\"operand_denominator_roots\", operand_denominator_roots)\n",
    "\n",
    "                            if len(operand_denominator_roots) > 0:\n",
    "                                for rt in operand_denominator_roots:\n",
    "                                    if rt not in disp_eq_brakes_b:\n",
    "                                        disp_eq_brakes_b += [rt]\n",
    "                            elif len(operand_denominator_variables) > 0:\n",
    "                                operand_denominator_sols = solve(operand_denominator, operand_denominator.variables()[0])\n",
    "                                if verbose:\n",
    "                                    print(\"operand_denominator_sols\", operand_denominator_sols)\n",
    "                                for sl in operand_denominator_sols:\n",
    "                                    if sl.rhs() not in disp_eq_brakes_b:\n",
    "                                        disp_eq_brakes_b += [sl.rhs()]\n",
    "\n",
    "    disp_eq_brakes_b.sort()\n",
    "\n",
    "    if verbose:\n",
    "        print (\"\")\n",
    "        print (\"disp_eq_brakes_b =\", disp_eq_brakes_b)\n",
    "        print (\"\")\n",
    "\n",
    "    b_lst_ = []\n",
    "    \n",
    "    if verbose:\n",
    "        print(\"disp_eq_b_d_s.lhs()\", disp_eq_b_d_s.lhs())\n",
    "\n",
    "    xeps = lambda_d/10240000\n",
    "    for i in range(len(disp_eq_brakes_b)-1):\n",
    "        try:\n",
    "            b_lst_ += find_root_recursive (disp_eq_b_d_s.lhs(), disp_eq_brakes_b[i] + xeps, disp_eq_brakes_b[i+1] - xeps)\n",
    "        except  Exception as ex:\n",
    "            print(str(ex))\n",
    "            print(disp_eq_brakes_b[i])\n",
    "            print(disp_eq_brakes_b[i+1])\n",
    "    b_lst_.sort()\n",
    "    \n",
    "    if verbose:\n",
    "        print (\"\")\n",
    "        print (\"b_lst_ =\", b_lst_)\n",
    "        print (\"\")\n",
    "\n",
    "    b_sol_ = b_lst_[h_val]\n",
    "\n",
    "    if debug:\n",
    "        print (\"\")\n",
    "        print(\"b_sol_\", b_sol_)\n",
    "        print (\"\")\n",
    "\n",
    "    b_sol_ = find_newton_root(f = disp_eq_b_d_s.lhs(), x = b, xn = b_sol_)\n",
    "    \n",
    "    if verbose:\n",
    "        print (\"\")\n",
    "        print(\"b_sol_\", b_sol_)\n",
    "        print (\"\")\n",
    "\n",
    "    h_s_ = []\n",
    "    for i in range(n_layers):\n",
    "        h_s_ += [b_s[i].subs(digit_values).subs(b == b_sol_).subs(g_1 == g1)]\n",
    "\n",
    "    if verbose:\n",
    "        print (\"\")\n",
    "        print(\"h_s_\", h_s_)\n",
    "        print (\"\")\n",
    "\n",
    "    h_sol_ = [0]\n",
    "    for i in range(n_layers):\n",
    "        h_sol_ += [h_sol_[i] + h_s_[i].rhs()]\n",
    "    \n",
    "    if debug:\n",
    "        print (\"\")\n",
    "        print(\"h_sol_\", h_sol_)\n",
    "        print (\"\")\n",
    "\n",
    "    if debug:\n",
    "        plt = sage.plot.graphics.Graphics()\n",
    "        plt += plot (disp_eq_b_d_s.lhs(), (b, b_sol_*0.1, b_sol_*1.1))\n",
    "        plt.show (title=\"disp_eq_b_d_s.lhs()\")\n",
    "    \n",
    "        #plt = sage.plot.graphics.Graphics()\n",
    "        #plt += plot (disp_eq_b_symb_d_s_.lhs(), (b, b_sol_*0.1, b_sol_*1.1))\n",
    "        #plt.show (title=\"disp_eq_b_symb_d_s_.lhs()\")\n",
    "        \n",
    "        #plt = sage.plot.graphics.Graphics()\n",
    "        #plt += plot ([disp_eq_b_d_s.lhs(), disp_eq_b_symb_d_s_.lhs()], (b, b_sol_*0.1, b_sol_*1.1))\n",
    "        #plt.show (title=\"disp_eq_b_d_s.lhs(), disp_eq_b_symb_d_s_.lhs()\")\n",
    "\n",
    "    if debug:\n",
    "        \n",
    "        if E_mode:\n",
    "            plt = sage.plot.graphics.Graphics()\n",
    "            for i in range(n_layers):\n",
    "                plt += plot ([E_rho_s[i](r,p,z).subs(r == rho, p == phi).subs(digit_values) \\\n",
    "                              .subs(omega_value) \\\n",
    "                              .subs(kappa == kappa_d1) \\\n",
    "                              .subs(c_value) \\\n",
    "                              .subs(k_values_d_).subs(digit_values).subs(b == b_sol_).subs(g_1 == g1) \\\n",
    "                              .subs(epsilon[0] == epsilon0).subs(epsilon[1] == epsilon1) \\\n",
    "                              .subs(amplitude_variable == 1).real_part() \\\n",
    "                             for rho in [0..int(a_val)] for phi in phi_arr],(z, h_sol_[i], h_sol_[i+1]))\n",
    "            plt.show (title=\"Re(E_rho_s)\")\n",
    "            plt = sage.plot.graphics.Graphics()\n",
    "            for i in range(n_layers):\n",
    "                plt += plot ([E_rho_s[i](r,p,z).subs(r == rho, p == phi).subs(digit_values) \\\n",
    "                              .subs(omega_value) \\\n",
    "                              .subs(kappa == kappa_d1) \\\n",
    "                              .subs(c_value) \\\n",
    "                              .subs(k_values_d_).subs(digit_values).subs(b == b_sol_).subs(g_1 == g1) \\\n",
    "                              .subs(epsilon[0] == epsilon0).subs(epsilon[1] == epsilon1) \\\n",
    "                              .subs(amplitude_variable == 1).imag_part() \\\n",
    "                              for rho in [0..int(a_val)] for phi in phi_arr],(z, h_sol_[i], h_sol_[i+1]))\n",
    "            plt.show (title=\"Im(E_rho_s)\")\n",
    "        else:\n",
    "            plt = sage.plot.graphics.Graphics()\n",
    "            for i in range(n_layers):\n",
    "                plt += plot ([E_rho_s[i](r,p,z).subs(digit_values) \\\n",
    "                              .subs(omega_value) \\\n",
    "                              .subs(kappa == kappa_d1) \\\n",
    "                              .subs(c_value) \\\n",
    "                              .subs(k_values_d_).subs(digit_values).subs(b == b_sol_).subs(g_1 == g1) \\\n",
    "                              .subs(epsilon[0] == epsilon0).subs(epsilon[1] == epsilon1) \\\n",
    "                              .subs(amplitude_variable == 1).imag_part() \\\n",
    "                              for r in [0..int(a_val)] for p in phi_arr],(z, h_sol_[i], h_sol_[i+1]))\n",
    "            plt.show (title=\"E_rho_s\")\n",
    "\n",
    "    if debug:\n",
    "        if E_mode:\n",
    "            plt = sage.plot.graphics.Graphics()\n",
    "            for i in range(n_layers):\n",
    "                plt += plot ([E_phi_s[i](r,p,z).subs(r == rho, p == phi).subs(digit_values) \\\n",
    "                              .subs(omega_value) \\\n",
    "                              .subs(kappa == kappa_d1) \\\n",
    "                              .subs(c_value) \\\n",
    "                              .subs(k_values_d_).subs(digit_values).subs(b == b_sol_).subs(g_1 == g1) \\\n",
    "                              .subs(epsilon[0] == epsilon0).subs(epsilon[1] == epsilon1) \\\n",
    "                              .subs(amplitude_variable == 1).real() \\\n",
    "                              for rho in [1..int(a_val)] for phi in phi_arr],(z, h_sol_[i], h_sol_[i+1]))\n",
    "            plt.show (title=\"Re(E_phi_s)\")\n",
    "            plt = sage.plot.graphics.Graphics()\n",
    "            for i in range(n_layers):\n",
    "                 plt += plot ([E_phi_s[i](r,p,z).subs(r == rho, p == phi).subs(digit_values) \\\n",
    "                              .subs(omega_value) \\\n",
    "                              .subs(kappa == kappa_d1) \\\n",
    "                              .subs(c_value) \\\n",
    "                              .subs(k_values_d_).subs(digit_values).subs(b == b_sol_).subs(g_1 == g1) \\\n",
    "                              .subs(epsilon[0] == epsilon0).subs(epsilon[1] == epsilon1) \\\n",
    "                              .subs(amplitude_variable == 1).imag() \\\n",
    "                              for rho in [1..int(a_val)] for phi in phi_arr],(z, h_sol_[i], h_sol_[i+1]))\n",
    "            plt.show (title=\"Im(E_phi_s)\")\n",
    "        else:\n",
    "            plt = sage.plot.graphics.Graphics()\n",
    "            for i in range(n_layers):\n",
    "                plt += plot ([E_phi_s[i](r,p,z).subs(r == rho, p == phi).subs(digit_values) \\\n",
    "                              .subs(omega_value) \\\n",
    "                              .subs(kappa == kappa_d1) \\\n",
    "                              .subs(c_value) \\\n",
    "                              .subs(k_values_d_).subs(digit_values).subs(b == b_sol_).subs(g_1 == g1) \\\n",
    "                              .subs(epsilon[0] == epsilon0).subs(epsilon[1] == epsilon1) \\\n",
    "                              .subs(amplitude_variable == 1).imag_part() \\\n",
    "                              for rho in [0..int(a_val)] for phi in phi_arr],(z, h_sol_[i], h_sol_[i+1]))\n",
    "            plt.show (title=\"E_phi_s\")\n",
    "\n",
    "    if debug:\n",
    "        if E_mode:\n",
    "            plt = sage.plot.graphics.Graphics()\n",
    "            for i in range(n_layers):\n",
    "                plt += plot ([(epsilon_complex[i]*E_z_s[i](r,p,z)).subs(r == rho, p == phi).subs(digit_values) \\\n",
    "                              .subs(omega_value) \\\n",
    "                              .subs(kappa == kappa_d1) \\\n",
    "                              .subs(c_value) \\\n",
    "                              .subs(k_values_d_).subs(digit_values).subs(b == b_sol_).subs(g_1 == g1) \\\n",
    "                              .subs(epsilon[0] == epsilon0).subs(epsilon[1] == epsilon1) \\\n",
    "                              .subs(amplitude_variable == 1).real() \\\n",
    "                              for rho in [1..int(a_val)] for phi in phi_arr],(z, h_sol_[i], h_sol_[i+1]))\n",
    "            plt.show (title=\"Re(E_z_s)\")\n",
    "            plt = sage.plot.graphics.Graphics()\n",
    "            for i in range(n_layers):\n",
    "                 plt += plot ([(epsilon_complex[i]*E_z_s[i](r,p,z)).subs(r == rho, p == phi).subs(digit_values) \\\n",
    "                              .subs(omega_value) \\\n",
    "                              .subs(kappa == kappa_d1) \\\n",
    "                              .subs(c_value) \\\n",
    "                              .subs(k_values_d_).subs(digit_values).subs(b == b_sol_).subs(g_1 == g1) \\\n",
    "                              .subs(epsilon[0] == epsilon0).subs(epsilon[1] == epsilon1) \\\n",
    "                              .subs(amplitude_variable == 1).imag() \\\n",
    "                              for rho in [1..int(a_val)] for phi in phi_arr],(z, h_sol_[i], h_sol_[i+1]))\n",
    "            plt.show (title=\"Im(E_z_s)\")\n",
    "        else:\n",
    "            plt = sage.plot.graphics.Graphics()\n",
    "            for i in range(n_layers):\n",
    "                plt += plot ([H_z_s[i](r,p,z).subs(r == rho, p == phi).subs(digit_values) \\\n",
    "                              .subs(omega_value) \\\n",
    "                              .subs(kappa == kappa_d1) \\\n",
    "                              .subs(c_value) \\\n",
    "                              .subs(k_values_d_).subs(digit_values).subs(b == b_sol_).subs(g_1 == g1) \\\n",
    "                              .subs(epsilon[0] == epsilon0).subs(epsilon[1] == epsilon1) \\\n",
    "                              .subs(amplitude_variable == 1).imag_part() \\\n",
    "                              for rho in [0..int(a_val)] for phi in phi_arr],(z, h_sol_[i], h_sol_[i+1]))\n",
    "            plt.show (title=\"H_z_s\")\n",
    "\n",
    "    if debug:\n",
    "        if E_mode:\n",
    "            plt = sage.plot.graphics.Graphics()\n",
    "            for i in range(n_layers):\n",
    "                plt += plot ([H_rho_s[i](r,p,z).subs(r == rho, p == phi).subs(digit_values) \\\n",
    "                              .subs(omega_value) \\\n",
    "                              .subs(kappa == kappa_d1) \\\n",
    "                              .subs(c_value) \\\n",
    "                              .subs(k_values_d_).subs(digit_values).subs(b == b_sol_).subs(g_1 == g1) \\\n",
    "                              .subs(epsilon[0] == epsilon0).subs(epsilon[1] == epsilon1) \\\n",
    "                              .subs(amplitude_variable == 1).real() \\\n",
    "                              for rho in [1..int(a_val)] for phi in phi_arr],(z, h_sol_[i], h_sol_[i+1]))\n",
    "            plt.show (title=\"Re(H_rho_s)\")\n",
    "            plt = sage.plot.graphics.Graphics()\n",
    "            for i in range(n_layers):\n",
    "                plt += plot ([H_rho_s[i](r,p,z).subs(r == rho, p == phi).subs(digit_values) \\\n",
    "                              .subs(omega_value) \\\n",
    "                              .subs(kappa == kappa_d1) \\\n",
    "                              .subs(c_value) \\\n",
    "                              .subs(k_values_d_).subs(digit_values).subs(b == b_sol_).subs(g_1 == g1) \\\n",
    "                              .subs(epsilon[0] == epsilon0).subs(epsilon[1] == epsilon1) \\\n",
    "                              .subs(amplitude_variable == 1).imag() \\\n",
    "                              for rho in [1..int(a_val)] for phi in phi_arr],(z, h_sol_[i], h_sol_[i+1]))\n",
    "            plt.show (title=\"Im(H_rho_s)\")\n",
    "        else:\n",
    "            plt = sage.plot.graphics.Graphics()\n",
    "            for i in range(n_layers):\n",
    "                plt += plot ([H_rho_s[i](r,p,z).subs(digit_values) \\\n",
    "                              .subs(omega_value) \\\n",
    "                              .subs(kappa == kappa_d1) \\\n",
    "                              .subs(c_value) \\\n",
    "                              .subs(k_values_d_).subs(digit_values).subs(b == b_sol_).subs(g_1 == g1) \\\n",
    "                              .subs(epsilon[0] == epsilon0).subs(epsilon[1] == epsilon1) \\\n",
    "                              .subs(amplitude_variable == 1) \\\n",
    "                              for r in [0..int(a_val)] for p in phi_arr],(z, h_sol_[i], h_sol_[i+1]))\n",
    "            plt.show (title=\"H_rho_s\")\n",
    "\n",
    "    if debug:\n",
    "        if E_mode:\n",
    "            plt = sage.plot.graphics.Graphics()\n",
    "            for i in range(n_layers):\n",
    "                plt += plot ([H_phi_s[i](r,p,z).subs(r == rho, p == phi).subs(digit_values) \\\n",
    "                              .subs(omega_value) \\\n",
    "                              .subs(kappa == kappa_d1) \\\n",
    "                              .subs(c_value) \\\n",
    "                              .subs(k_values_d_).subs(digit_values).subs(b == b_sol_).subs(g_1 == g1) \\\n",
    "                              .subs(epsilon[0] == epsilon0).subs(epsilon[1] == epsilon1) \\\n",
    "                              .subs(amplitude_variable == 1).real_part() \\\n",
    "                              for rho in [1..int(a_val)] for phi in phi_arr],(z, h_sol_[i], h_sol_[i+1]))\n",
    "            plt.show (title=\"Re(H_phi_s)\")\n",
    "            plt = sage.plot.graphics.Graphics()\n",
    "            for i in range(n_layers):\n",
    "                plt += plot ([H_phi_s[i](r,p,z).subs(r == rho, p == phi).subs(digit_values) \\\n",
    "                              .subs(omega_value) \\\n",
    "                              .subs(kappa == kappa_d1) \\\n",
    "                              .subs(c_value) \\\n",
    "                              .subs(k_values_d_).subs(digit_values).subs(b == b_sol_).subs(g_1 == g1) \\\n",
    "                              .subs(epsilon[0] == epsilon0).subs(epsilon[1] == epsilon1) \\\n",
    "                              .subs(amplitude_variable == 1).imag_part() \\\n",
    "                              for rho in [1..int(a_val)] for phi in phi_arr],(z, h_sol_[i], h_sol_[i+1]))\n",
    "            plt.show (title=\"Im(H_phi_s)\")\n",
    "        else:\n",
    "            plt = sage.plot.graphics.Graphics()\n",
    "            for i in range(n_layers):\n",
    "                plt += plot ([H_phi_s[i](r,p,z).subs(digit_values) \\\n",
    "                              .subs(omega_value) \\\n",
    "                              .subs(kappa == kappa_d1) \\\n",
    "                              .subs(c_value) \\\n",
    "                              .subs(k_values_d_).subs(digit_values).subs(b == b_sol_).subs(g_1 == g1) \\\n",
    "                              .subs(epsilon[0] == epsilon0).subs(epsilon[1] == epsilon1) \\\n",
    "                              .subs(amplitude_variable == 1) \\\n",
    "                              for rho in [0..int(a_val)] for phi in phi_arr],(z, h_sol_[i], h_sol_[i+1]))\n",
    "            plt.show (title=\"H_phi_s\")\n",
    "\n",
    "    if debug:\n",
    "        plt = sage.plot.graphics.Graphics()\n",
    "        for i in range(n_layers):\n",
    "            plt += plot ([H2_8pi_phi_s[i](r,p,z,1).subs(digit_values) \\\n",
    "                          .subs(omega_value) \\\n",
    "                          .subs(kappa == kappa_d1) \\\n",
    "                          .subs(c_value) \\\n",
    "                          .subs(k_values_d_).subs(digit_values).subs(b == b_sol_).subs(g_1 == g1) \\\n",
    "                          .subs(epsilon[0] == epsilon0).subs(epsilon[1] == epsilon1) \\\n",
    "                          .subs(amplitude_variable == 1) \\\n",
    "                          for r in [0..int(a_val)] for p in phi_arr],(z, h_sol_[i], h_sol_[i+1]))\n",
    "        plt.show (title=\"H2_8pi_phi_s\")\n",
    "\n",
    "    if debug:\n",
    "        plt = sage.plot.graphics.Graphics()\n",
    "        for i in range(n_layers):\n",
    "            plt += plot ([E2_8pi_rho_s[i](r,p,z,1).subs(digit_values) \\\n",
    "                          .subs(omega_value) \\\n",
    "                          .subs(kappa == kappa_d1) \\\n",
    "                          .subs(c_value) \\\n",
    "                          .subs(k_values_d_).subs(digit_values).subs(b == b_sol_).subs(g_1 == g1) \\\n",
    "                          .subs(epsilon[0] == epsilon0).subs(epsilon[1] == epsilon1) \\\n",
    "                          .subs(amplitude_variable == 1) \\\n",
    "                          for r in [0..int(a_val)] for p in phi_arr],(z, h_sol_[i], h_sol_[i+1]))\n",
    "        plt.show (title=\"E2_8pi_rho_s\")\n",
    "        \n",
    "    # Ландау Лифшиц. Электродинамика сплошных сред (параграф 75)\n",
    "    # - 1/(4*pi)  *[D x rotE]      - 1/(4*pi)  *[B x rotH]\n",
    "    # + 1/(4*pi*c)*[D x B.diff(t)] - 1/(4*pi*c)*[B x (D.diff(t) + 4*pi*sigma*E)]\n",
    "\n",
    "    # + ([D x B.diff(t)])_z    = + D_rh * B_ph.diff(t)    - D_ph * B_rh.diff(t)\n",
    "    # - ([B x D.diff(t)])_z    = - B_rh * D_ph.diff(t)    + B_ph * D_rh.diff(t)\n",
    "    # - ([B x 4*pi*sigma*E])_z = - B_rh * 4*pi*sigma*E_ph + B_ph * 4*pi*sigma*E_rh\n",
    "\n",
    "    Abraham_f_z_ = []\n",
    "    for i in range(n_layers):\n",
    "        Abraham_f_z_ += [lambda r,p,z,  i=i:\n",
    "             (1) / (8 * pi * c) * (\n",
    "            +(Re(-I*omega * epsilon[i] * E_rho_s[i](r,p,z)) * Re(mu[i]*H_phi_s[i](r,p,z)) # - ([B x D.diff(t)])_z\n",
    "            + Im(-I*omega * epsilon[i] * E_rho_s[i](r,p,z)) * Im(mu[i]*H_phi_s[i](r,p,z)) \n",
    "            - Re(-I*omega * epsilon[i] * E_phi_s[i](r,p,z)) * Re(mu[i]*H_rho_s[i](r,p,z))\n",
    "            - Im(-I*omega * epsilon[i] * E_phi_s[i](r,p,z)) * Im(mu[i]*H_rho_s[i](r,p,z)))\n",
    "            +(Re((epsilon[i] + 4*pi*I*sigma[i]/omega) * E_rho_s[i](r,p,z)) * Re(-I*omega * mu[i]*H_phi_s[i](r,p,z)) # + ([D x B.diff(t)])_z\n",
    "            + Im((epsilon[i] + 4*pi*I*sigma[i]/omega) * E_rho_s[i](r,p,z)) * Im(-I*omega * mu[i]*H_phi_s[i](r,p,z))\n",
    "            - Re((epsilon[i] + 4*pi*I*sigma[i]/omega) * E_phi_s[i](r,p,z)) * Re(-I*omega * mu[i]*H_rho_s[i](r,p,z))\n",
    "            - Im((epsilon[i] + 4*pi*I*sigma[i]/omega) * E_phi_s[i](r,p,z)) * Im(-I*omega * mu[i]*H_rho_s[i](r,p,z))) \n",
    "            )\n",
    "        ]\n",
    "    \n",
    "    # вычитаем изменение импульса единицы объёма поля\n",
    "    # - 1/(4*pi)  *[E x rotE]      - 1/(4*pi)  *[H x rotH]\n",
    "    # + 1/(4*pi*c)*[E x H.diff(t)] - 1/(4*pi*c)*[H x E.diff(t)]\n",
    "    # + ([E x H.diff(t)])_z = + E_rh * H_ph.diff(t) - E_ph * H_rh.diff(t)\n",
    "    # - ([H x E.diff(t)])_z = - H_rh * E_ph.diff(t) + H_ph * E_rh.diff(t)\n",
    "\n",
    "    field_f_z_ = []\n",
    "    for i in range(n_layers):\n",
    "        field_f_z_ += [lambda r,p,z,  i=i:\n",
    "             (1) / (8 * pi * c) * (\n",
    "             (Re(-I*omega * E_rho_s[i](r,p,z)) * Re(H_phi_s[i](r,p,z)) # - ([H x E.diff(t)])_z\n",
    "            + Im(-I*omega * E_rho_s[i](r,p,z)) * Im(H_phi_s[i](r,p,z)) \n",
    "            - Re(-I*omega * E_phi_s[i](r,p,z)) * Re(H_rho_s[i](r,p,z))\n",
    "            - Im(-I*omega * E_phi_s[i](r,p,z)) * Im(H_rho_s[i](r,p,z)))\n",
    "            +(Re(E_rho_s[i](r,p,z)) * Re(-I*omega * H_phi_s[i](r,p,z)) # + ([E x H.diff(t)])_z\n",
    "            + Im(E_rho_s[i](r,p,z)) * Im(-I*omega * H_phi_s[i](r,p,z))\n",
    "            - Re(E_phi_s[i](r,p,z)) * Re(-I*omega * H_rho_s[i](r,p,z))\n",
    "            - Im(E_phi_s[i](r,p,z)) * Im(-I*omega * H_rho_s[i](r,p,z))) \n",
    "            )\n",
    "        ]\n",
    "\n",
    "    Abraham_sigma_f_z_ = []\n",
    "    for i in range(n_layers):\n",
    "        Abraham_sigma_f_z_ += [lambda r,p,z,  i=i:\n",
    "             (1) / (8 * pi * c) * (\n",
    "            +(Re(4*pi*sigma[i] * E_rho_s[i](r,p,z)) * Re(mu[i]*H_phi_s[i](r,p,z)) # - ([B x 4*pi*sigma*E])_z\n",
    "            + Im(4*pi*sigma[i] * E_rho_s[i](r,p,z)) * Im(mu[i]*H_phi_s[i](r,p,z)) \n",
    "            - Re(4*pi*sigma[i] * E_phi_s[i](r,p,z)) * Re(mu[i]*H_rho_s[i](r,p,z))\n",
    "            - Im(4*pi*sigma[i] * E_phi_s[i](r,p,z)) * Im(mu[i]*H_rho_s[i](r,p,z)))\n",
    "            )\n",
    "        ]\n",
    "\n",
    "    Abraham_Minkovsky_f_z_ = []\n",
    "    for i in range(n_layers):\n",
    "        Abraham_Minkovsky_f_z_ += [lambda r,p,z, i=i: (Abraham_f_z_[i](r,p,z) - field_f_z_[i](r,p,z))]\n",
    "\n",
    "    Abraham_Minkovsky_int_z_ = []\n",
    "    for i in range(n_layers):\n",
    "        Abraham_Minkovsky_int_z_ += [ lambda r, p, i=i: \n",
    "                                    integrate(Abraham_Minkovsky_f_z_[i](r,p,z), (z, h_sol_[i], h_sol_[i+1]))]\n",
    "\n",
    "    Abraham_Minkovsky_surf_ = lambda rh,ph : sum ([ Abraham_Minkovsky_int_z_[i](rh,ph)\n",
    "                                              for i in range(n_layers) ])\n",
    "\n",
    "    Abraham_sigma_int_z_ = []\n",
    "    for i in range(n_layers):\n",
    "        Abraham_sigma_int_z_ += [ lambda r, p, i=i: \n",
    "                                    integrate(Abraham_sigma_f_z_[i](r,p,z), (z, h_sol_[i], h_sol_[i+1]))]\n",
    "\n",
    "    Abraham_sigma_surf_ = lambda rh,ph : sum ([ Abraham_sigma_int_z_[i](rh,ph)\n",
    "                                              for i in range(n_layers) ])\n",
    "\n",
    "\n",
    "    if verbose:\n",
    "        plt = sage.plot.graphics.Graphics()\n",
    "        for i in range(n_layers):\n",
    "            plt += plot ([Abraham_f_z_[i](r,p,z,1).subs(r == rho, p == phi).subs(digit_values) \\\n",
    "                          .subs(omega_value) \\\n",
    "                          .subs(kappa == kappa_d1) \\\n",
    "                          .subs(c_value) \\\n",
    "                          .subs(k_values_d_).subs(digit_values).subs(b == b_sol_).subs(g_1 == g1) \\\n",
    "                          .subs(epsilon[0] == epsilon0).subs(epsilon[1] == epsilon1) \\\n",
    "                          .subs(amplitude_variable == 1) \\\n",
    "                          for rho in [1..int(a_val)] for phi in [0]],(z, h_sol_[i], h_sol_[i+1]))\n",
    "        plt.show (title=\"Abraham_f_z\")\n",
    "\n",
    "    if verbose:\n",
    "        plt = sage.plot.graphics.Graphics()\n",
    "        for i in range(n_layers):\n",
    "            plt += plot ([field_f_z_[i](r,p,z,1).subs(r == rho, p == phi).subs(digit_values) \\\n",
    "                          .subs(omega_value) \\\n",
    "                          .subs(kappa == kappa_d1) \\\n",
    "                          .subs(c_value) \\\n",
    "                          .subs(k_values_d_).subs(digit_values).subs(b == b_sol_).subs(g_1 == g1) \\\n",
    "                          .subs(epsilon[0] == epsilon0).subs(epsilon[1] == epsilon1) \\\n",
    "                          .subs(amplitude_variable == 1) \\\n",
    "                          for rho in [1..int(a_val)] for phi in [0]],(z, h_sol_[i], h_sol_[i+1]))\n",
    "        plt.show (title=\"field_f_z\")\n",
    "\n",
    "    if debug:\n",
    "        plt = sage.plot.graphics.Graphics()\n",
    "        for i in range(n_layers):\n",
    "            plt += plot ([Abraham_sigma_f_z_[i](r,p,z,1).subs(r == rho, p == phi).subs(digit_values) \\\n",
    "                          .subs(omega_value) \\\n",
    "                          .subs(kappa == kappa_d1) \\\n",
    "                          .subs(c_value) \\\n",
    "                          .subs(k_values_d_).subs(digit_values).subs(b == b_sol_).subs(g_1 == g1) \\\n",
    "                          .subs(epsilon[0] == epsilon0).subs(epsilon[1] == epsilon1) \\\n",
    "                          .subs(amplitude_variable == 1) \\\n",
    "                          for rho in [1..int(a_val)] for phi in [0]],(z, h_sol_[i], h_sol_[i+1]))\n",
    "        plt.show (title=\"Abraham_sigma_f_z\")\n",
    "\n",
    "\n",
    "    p_dielectric_surf_rho_ = []\n",
    "    p_dielectric_surf_phi_ = []\n",
    "\n",
    "    p_ferromagnetic_surf_rho_ = []\n",
    "    p_ferromagnetic_surf_phi_ = []\n",
    "\n",
    "    #p_dielectric_surf_rho_ += [lambda rh,ph, i=i : (1.0-epsilon[0]) *\n",
    "    #                          E2_8pi_rho_s[i  ](rh,ph,0, 1)]\n",
    "\n",
    "    #p_dielectric_surf_phi_ += [lambda rh,ph, i=i : (1.0-epsilon[0]) *\n",
    "    #                          E2_8pi_phi_s[i  ](rh,ph,0, 1)]\n",
    "\n",
    "    p_ferromagnetic_surf_rho_ += [lambda rh,ph, i=i : (1.0-mu[0]) *\n",
    "                              H2_8pi_rho_s[i  ](rh,ph,0, 1)]\n",
    "\n",
    "    p_ferromagnetic_surf_phi_ += [lambda rh,ph, i=i : (1.0-mu[0]) *\n",
    "                              H2_8pi_phi_s[i  ](rh,ph,0, 1)]\n",
    "\n",
    "    for i in range(n_layers - 1):\n",
    "        # Static and dynamic electricity by William R. Smythe, second edition, 1950\n",
    "        # paragraph 18 formula 1.47\n",
    "        # давление на границу равно разности давлений по обе стороны от нее\n",
    "        # $$ P_n = \\frac{1}{2} \\epsilon'{{E'}_t}^2 - \\frac{1}{2} \\epsilon''{{E''}_t}^2 $$\n",
    "        p_dielectric_surf_rho_ += [lambda rh,ph, i=i : (epsilon[i]-epsilon[i+1]) *\n",
    "                                  E2_8pi_rho_s[i  ](rh,ph,border_h[i], 1)]\n",
    "\n",
    "        p_dielectric_surf_phi_ += [lambda rh,ph, i=i : (epsilon[i]-epsilon[i+1]) *\n",
    "                                  E2_8pi_phi_s[i  ](rh,ph,border_h[i], 1)]\n",
    "\n",
    "        p_ferromagnetic_surf_rho_ += [lambda rh,ph, i=i : (mu[i]-mu[i+1]) *\n",
    "                                  H2_8pi_rho_s[i  ](rh,ph,border_h[i], 1)]\n",
    "\n",
    "        p_ferromagnetic_surf_phi_ += [lambda rh,ph, i=i : (mu[i]-mu[i+1]) *\n",
    "                                  H2_8pi_phi_s[i  ](rh,ph,border_h[i], 1)]\n",
    "\n",
    "    #p_dielectric_surf_rho_ += [lambda rh,ph, i=i : (epsilon[n_layers - 1]-1.0) *\n",
    "    #                          E2_8pi_rho_s[i  ](rh,ph,b_sol_, 1)]\n",
    "\n",
    "    #p_dielectric_surf_phi_ += [lambda rh,ph, i=i : (epsilon[n_layers - 1]-1.0) *\n",
    "    #                          E2_8pi_phi_s[i  ](rh,ph,b_sol_, 1)]\n",
    "\n",
    "    p_ferromagnetic_surf_rho_ += [lambda rh,ph, i=i : (mu[n_layers - 1]-1.0) *\n",
    "                              H2_8pi_rho_s[i  ](rh,ph,b_sol_, 1)]\n",
    "\n",
    "    p_ferromagnetic_surf_phi_ += [lambda rh,ph, i=i : (mu[n_layers - 1]-1.0) *\n",
    "                              H2_8pi_phi_s[i  ](rh,ph,b_sol_, 1)]\n",
    "\n",
    "    t_dielectric_surf_z_ = []\n",
    "    t_ferromagnetic_surf_z_ = []\n",
    "    t_dielectric_surf_z_ += [lambda rh,ph, i=i : (0.0 - 1/epsilon[0]) * \\\n",
    "                                               D2_8pi_z_s[0](rh,ph,h_sol_[0],1)]\n",
    "    t_ferromagnetic_surf_z_ += [lambda rh,ph, i=i : (0.0 - 1/mu[0]) * \\\n",
    "                                               B2_8pi_z_s[0](rh,ph,h_sol_[0],1)]\n",
    "\n",
    "    for i in range(n_layers - 1):\n",
    "        # Static and dynamic electricity by William R. Smythe, second edition, 1950\n",
    "        # paragraph 18 formula 1.45\n",
    "        # натяжение на границе, созданное нормальными компонентами индукции\n",
    "        # должно равняться разности натяжений по обе стороны от границы\n",
    "        # $$ T_n = \\frac{{{D'}_n}^2}{2 \\epsilon'} - \\frac{{{D''}_n}^2}{2 \\epsilon''} $$\n",
    "        t_dielectric_surf_z_ += [lambda rh,ph, i=i : (1/epsilon[i] - 1/epsilon[i+1]) *\n",
    "                                 D2_8pi_z_s[i  ](rh,ph,border_h[i], 1)]\n",
    "        t_ferromagnetic_surf_z_ += [lambda rh,ph, i=i : (1/mu[i] - 1/mu[i+1]) *\n",
    "                                 B2_8pi_z_s[i  ](rh,ph,border_h[i], 1)]\n",
    "        \n",
    "    t_dielectric_surf_z_ += [lambda rh,ph, i=i : (1/epsilon[n_layers-1] - 0.0) * \\\n",
    "                                              D2_8pi_z_s[n_layers-1](rh,ph,b_sol_,1)]\n",
    "    t_ferromagnetic_surf_z_ += [lambda rh,ph, i=i : (1/mu[n_layers-1] - 0.0) * \\\n",
    "                                              B2_8pi_z_s[n_layers-1](rh,ph,b_sol_,1)]\n",
    "\n",
    "    # Static and dynamic electricity by William R. Smythe, second edition, 1950\n",
    "    # paragraph 18 formula 1.50\n",
    "    # нормальные натяжения, возникающие на границе двух диэлектриков и направленные\n",
    "    # из ${\\epsilon'}$ в ${\\epsilon''}$ (formula 1.50)\n",
    "    # из epsilon[i] в epsilon[i+1]\n",
    "    # $$ F_n = T_n - P_n $$\n",
    "\n",
    "    p_dielectric_surf_ = lambda rh,ph : sum ([ + p_dielectric_surf_rho_[i](rh,ph)\n",
    "                                               + p_dielectric_surf_phi_[i](rh,ph)\n",
    "                                              for i in range(n_layers - 1) ])\n",
    "\n",
    "    p_ferromagnetic_surf_ = lambda rh,ph : sum ([ + p_ferromagnetic_surf_rho_[i](rh,ph)\n",
    "                                                  + p_ferromagnetic_surf_phi_[i](rh,ph)\n",
    "                                              for i in range(n_layers + 1) ])\n",
    "\n",
    "    t_dielectric_surf_ = lambda rh,ph : sum ([ + t_dielectric_surf_z_[i](rh,ph)\n",
    "                                              for i in range(n_layers + 1) ])\n",
    "    \n",
    "    t_ferromagnetic_surf_ = lambda rh,ph : sum ([ + t_ferromagnetic_surf_z_[i](rh,ph)\n",
    "                                              for i in range(n_layers + 1) ])\n",
    "\n",
    "    # Static and dynamic electricity by William R. Smythe, second edition, 1950\n",
    "    # paragraph 18 formula 1.45\n",
    "    # натяжение на границе, созданное нормальными компонентами индукции\n",
    "    # должно равняться разности натяжений по обе стороны от границы\n",
    "    # $$ T_n = \\frac{{{D'}_n}^2}{2 \\epsilon'} - \\frac{{{D''}_n}^2}{2 \\epsilon''} $$\n",
    "\n",
    "    # The tension produced by normal components of E (beetween metal and dielectric).\n",
    "    # assuming epsilon for metals = Infinity\n",
    "    # Does it really exists?\n",
    "\n",
    "    if verbose:\n",
    "        print (\"\")\n",
    "        print(\"(0.0 - 1/epsilon[0])\", (0.0 - 1/epsilon[0]))\n",
    "        print (\"\")\n",
    "        print(\"(1/epsilon[n_layers-1] - 0.0)\", (1/epsilon[n_layers-1] - 0.0))\n",
    "        print (\"\")\n",
    "\n",
    "    p_metal_surf_up_ = lambda rh, ph : \\\n",
    "        (H2_8pi_rho_s[n_layers - 1](rh,ph,b_sol_,1) + \n",
    "         H2_8pi_phi_s[n_layers - 1](rh,ph,b_sol_,1) +\n",
    "         H2_8pi_z_s  [n_layers - 1](rh,ph,b_sol_,1) )\n",
    "\n",
    "    p_metal_surf_down_ = lambda rh, ph : \\\n",
    "        (H2_8pi_rho_s[0](rh,ph,0,1) + \n",
    "         H2_8pi_phi_s[0](rh,ph,0,1) +\n",
    "         H2_8pi_z_s  [0](rh,ph,0,1) )\n",
    "    \n",
    "    # metal surf force is really Abraham_sigma force inside metal's skin layer\n",
    "\n",
    "    p_metal_surf_ = lambda rh, ph : p_metal_surf_up_(rh, ph) - p_metal_surf_down_(rh, ph)\n",
    "    \n",
    "    calc_Abraham_force = True\n",
    "    if calc_Abraham_force:\n",
    "        f_surf_ = lambda rh,ph : - t_dielectric_surf_(rh,ph) \\\n",
    "                                 - t_ferromagnetic_surf_(rh,ph) \\\n",
    "                                 + p_dielectric_surf_(rh,ph) \\\n",
    "                                 + p_ferromagnetic_surf_(rh,ph) \\\n",
    "                                 + p_metal_surf_(rh,ph) \\\n",
    "                                 + Abraham_Minkovsky_surf_(rh,ph) \\\n",
    "                                 + Abraham_sigma_surf_(rh,ph)\n",
    "    else:\n",
    "        f_surf_ = lambda rh,ph : - t_dielectric_surf_(rh,ph) \\\n",
    "                                 - t_ferromagnetic_surf_(rh,ph) \\\n",
    "                                 + p_dielectric_surf_(rh,ph) \\\n",
    "                                 + p_ferromagnetic_surf_(rh,ph) \\\n",
    "                                 + p_metal_surf_(rh,ph)\n",
    "        \n",
    "\n",
    "    if verbose:\n",
    "        print(\"f_surf_(rh,ph) =\", f_surf_(rh,ph) )\n",
    "        print(\"\")\n",
    "        print(\"f_surf_(rh,ph).variables() =\", f_surf_(rh,ph).variables())\n",
    "        print(\"\")\n",
    "\n",
    "    f_surf_sol(rh,ph) = f_surf_(rh,ph).subs(digit_values) \\\n",
    "              .subs(omega_value) \\\n",
    "              .subs(kappa == kappa_d1) \\\n",
    "              .subs(c_value) \\\n",
    "              .subs(k_values_d_).subs(digit_values) \\\n",
    "              .subs(epsilon[0] == epsilon0).subs(epsilon[1] == epsilon1) \\\n",
    "              .subs(amplitude_variable == 1)\n",
    "\n",
    "    p_metal_surf_sol(rh,ph) = p_metal_surf_(rh,ph).subs(digit_values) \\\n",
    "              .subs(omega_value) \\\n",
    "              .subs(kappa == kappa_d1) \\\n",
    "              .subs(c_value) \\\n",
    "              .subs(k_values_d_).subs(digit_values) \\\n",
    "              .subs(epsilon[0] == epsilon0).subs(epsilon[1] == epsilon1) \\\n",
    "              .subs(amplitude_variable == 1)\n",
    "\n",
    "    Abraham_Minkovsky_surf_sol(rh,ph) = Abraham_Minkovsky_surf_(rh,ph).subs(digit_values) \\\n",
    "              .subs(omega_value) \\\n",
    "              .subs(kappa == kappa_d1) \\\n",
    "              .subs(c_value) \\\n",
    "              .subs(k_values_d_).subs(digit_values) \\\n",
    "              .subs(epsilon[0] == epsilon0).subs(epsilon[1] == epsilon1) \\\n",
    "              .subs(amplitude_variable == 1)\n",
    "\n",
    "    Abraham_sigma_surf_sol(rh,ph) = Abraham_sigma_surf_(rh,ph).subs(digit_values) \\\n",
    "              .subs(omega_value) \\\n",
    "              .subs(kappa == kappa_d1) \\\n",
    "              .subs(c_value) \\\n",
    "              .subs(k_values_d_).subs(digit_values) \\\n",
    "              .subs(epsilon[0] == epsilon0).subs(epsilon[1] == epsilon1) \\\n",
    "              .subs(amplitude_variable == 1)\n",
    "\n",
    "    t_dielectric_surf_sol(rh,ph) = t_dielectric_surf_(rh,ph).subs(digit_values) \\\n",
    "              .subs(omega_value) \\\n",
    "              .subs(kappa == kappa_d1) \\\n",
    "              .subs(c_value) \\\n",
    "              .subs(k_values_d_).subs(digit_values) \\\n",
    "              .subs(epsilon[0] == epsilon0).subs(epsilon[1] == epsilon1) \\\n",
    "              .subs(amplitude_variable == 1)\n",
    "\n",
    "    t_dielectric_surf_z_sol = []\n",
    "    for i in range(n_layers + 1):\n",
    "        t_dielectric_surf_z_sol += [lambda rh,ph, i=i : t_dielectric_surf_z_[i](rh,ph) \\\n",
    "              .subs(digit_values) \\\n",
    "              .subs(omega_value) \\\n",
    "              .subs(kappa == kappa_d1) \\\n",
    "              .subs(c_value) \\\n",
    "              .subs(k_values_d_).subs(digit_values) \\\n",
    "              .subs(epsilon[0] == epsilon0).subs(epsilon[1] == epsilon1) \\\n",
    "              .subs(amplitude_variable == 1)]\n",
    "\n",
    "    t_ferromagnetic_surf_sol(rh,ph) = t_ferromagnetic_surf_(rh,ph).subs(digit_values) \\\n",
    "              .subs(omega_value) \\\n",
    "              .subs(kappa == kappa_d1) \\\n",
    "              .subs(c_value) \\\n",
    "              .subs(k_values_d_).subs(digit_values) \\\n",
    "              .subs(epsilon[0] == epsilon0).subs(epsilon[1] == epsilon1) \\\n",
    "              .subs(amplitude_variable == 1)\n",
    "\n",
    "    p_dielectric_surf_sol(rh,ph) = p_dielectric_surf_(rh,ph).subs(digit_values) \\\n",
    "              .subs(omega_value) \\\n",
    "              .subs(kappa == kappa_d1) \\\n",
    "              .subs(c_value) \\\n",
    "              .subs(k_values_d_).subs(digit_values) \\\n",
    "              .subs(epsilon[0] == epsilon0).subs(epsilon[1] == epsilon1) \\\n",
    "              .subs(amplitude_variable == 1)\n",
    "\n",
    "    p_ferromagnetic_surf_sol(rh,ph) = p_ferromagnetic_surf_(rh,ph).subs(digit_values) \\\n",
    "              .subs(omega_value) \\\n",
    "              .subs(kappa == kappa_d1) \\\n",
    "              .subs(c_value) \\\n",
    "              .subs(k_values_d_).subs(digit_values) \\\n",
    "              .subs(epsilon[0] == epsilon0).subs(epsilon[1] == epsilon1) \\\n",
    "              .subs(amplitude_variable == 1)\n",
    "\n",
    "    f_surf_sol_rh_int_ph = []\n",
    "\n",
    "    p_metal_surf_sol_rh_int_ph = []\n",
    "    Abraham_Minkovsky_surf_sol_rh_int_ph = []\n",
    "    Abraham_sigma_surf_sol_rh_int_ph = []\n",
    "\n",
    "    t_dielectric_surf_sol_rh_int_ph = []\n",
    "    t_ferromagnetic_surf_sol_rh_int_ph = []\n",
    "    \n",
    "    p_dielectric_surf_sol_rh_int_ph = []\n",
    "    p_ferromagnetic_surf_sol_rh_int_ph = []\n",
    "\n",
    "    if debug:\n",
    "        print (\"start exec\")\n",
    "\n",
    "    exec(preparse(\"f_surf_sol_rh_int_ph += [lambda rh : \" +  str(integrate(f_surf_sol(rh,ph) * rh, (ph,0,2*pi))) + \"]\"))\n",
    "\n",
    "    exec(preparse(\"p_metal_surf_sol_rh_int_ph += [lambda rh : \" +  str(integrate(p_metal_surf_sol(rh,ph) * rh, (ph,0,2*pi))) + \"]\"))\n",
    "    if calc_Abraham_force:\n",
    "        exec(preparse(\"Abraham_Minkovsky_surf_sol_rh_int_ph += [lambda rh : \" +  str(integrate(Abraham_Minkovsky_surf_sol(rh,ph) * rh, (ph,0,2*pi))) + \"]\"))\n",
    "        exec(preparse(\"Abraham_sigma_surf_sol_rh_int_ph += [lambda rh : \" +  str(integrate(Abraham_sigma_surf_sol(rh,ph) * rh, (ph,0,2*pi))) + \"]\"))\n",
    "\n",
    "    if debug:\n",
    "        print (\"end Abraham_Minkovsky exec\")\n",
    "\n",
    "    exec(preparse(\"t_dielectric_surf_sol_rh_int_ph += [lambda rh : \" +  str(integrate(t_dielectric_surf_sol(rh,ph) * rh, (ph,0,2*pi))) + \"]\"))\n",
    "\n",
    "    t_dielectric_surf_z_sol_rh_int_ph = []\n",
    "    for i in range(n_layers + 1):\n",
    "        t_dielectric_surf_z_sol_rh_int_ph += [lambda rh, i=i : integrate(t_dielectric_surf_z_sol[i](rh,ph) * rh, (ph,0,2*pi))]\n",
    "\n",
    "    exec(preparse(\"t_ferromagnetic_surf_sol_rh_int_ph += [lambda rh : \" +  str(integrate(t_ferromagnetic_surf_sol(rh,ph) * rh, (ph,0,2*pi))) + \"]\"))\n",
    "\n",
    "    exec(preparse(\"p_dielectric_surf_sol_rh_int_ph += [lambda rh : \" +  str(integrate(p_dielectric_surf_sol(rh,ph) * rh, (ph,0,2*pi))) + \"]\"))\n",
    "    exec(preparse(\"p_ferromagnetic_surf_sol_rh_int_ph += [lambda rh : \" +  str(integrate(p_ferromagnetic_surf_sol(rh,ph) * rh, (ph,0,2*pi))) + \"]\"))\n",
    "    \n",
    "    if debug:\n",
    "        print (\"end exec\")\n",
    "    \n",
    "    if (ra == ra):\n",
    "        f_surf_sol_rh_int_ph_r = f_surf_sol_rh_int_ph[0](ra)\n",
    "        f_surf_sol_rh_int_ph_r = f_surf_sol_rh_int_ph_r.subs(b == b_sol_)\n",
    "        f_surf_sol_rh_int_ph_r = f_surf_sol_rh_int_ph_r.subs(g_1 == g1)\n",
    "\n",
    "        p_metal_surf_sol_rh_int_ph_r            = p_metal_surf_sol_rh_int_ph[0](ra).subs(b == b_sol_).subs(g_1 == g1)\n",
    "        if calc_Abraham_force:\n",
    "            Abraham_Minkovsky_surf_sol_rh_int_ph_r  = Abraham_Minkovsky_surf_sol_rh_int_ph[0](ra).subs(b == b_sol_).subs(g_1 == g1)\n",
    "            Abraham_sigma_surf_sol_rh_int_ph_r      = Abraham_sigma_surf_sol_rh_int_ph[0](ra).subs(b == b_sol_).subs(g_1 == g1)\n",
    "        else:\n",
    "            Abraham_Minkovsky_surf_sol_rh_int_ph_r = 0\n",
    "            Abraham_sigma_surf_sol_rh_int_ph_r     = 0\n",
    "\n",
    "        t_dielectric_surf_sol_rh_int_ph_r       = t_dielectric_surf_sol_rh_int_ph[0](ra).subs(b == b_sol_).subs(g_1 == g1)\n",
    "        t_dielectric_surf_z_sol_rh_int_ph_r = []\n",
    "        for i in range(n_layers + 1):\n",
    "            t_dielectric_surf_z_sol_rh_int_ph_r += [t_dielectric_surf_z_sol_rh_int_ph[i](ra).subs(b == b_sol_).subs(g_1 == g1)]\n",
    "\n",
    "        t_ferromagnetic_surf_sol_rh_int_ph_r    = t_ferromagnetic_surf_sol_rh_int_ph[0](ra).subs(b == b_sol_).subs(g_1 == g1)\n",
    "\n",
    "        p_dielectric_surf_sol_rh_int_ph_r       = p_dielectric_surf_sol_rh_int_ph[0](ra).subs(b == b_sol_).subs(g_1 == g1)\n",
    "        p_ferromagnetic_surf_sol_rh_int_ph_r    = p_ferromagnetic_surf_sol_rh_int_ph[0](ra).subs(b == b_sol_).subs(g_1 == g1)\n",
    "    else: # ra is nan\n",
    "        if debug:\n",
    "            print (\"ra is nan so integrate (rh, 0, a_val)\")\n",
    "        from scipy import integrate as scipy_integrate\n",
    "\n",
    "        f_surf_sol_rh_int_ph_integrand = f_surf_sol_rh_int_ph[0](rh).subs(b == b_sol_).subs(g_1 == g1)\n",
    "        if debug:\n",
    "            print(\"f_surf_sol_rh_int_ph_integrand\", f_surf_sol_rh_int_ph_integrand)\n",
    "        if 0 != f_surf_sol_rh_int_ph_integrand:\n",
    "            f_surf_sol_rh_int_ph_r = scipy_integrate.quad(f_surf_sol_rh_int_ph_integrand, 0, a_val)[0]\n",
    "        else:\n",
    "            f_surf_sol_rh_int_ph_r = 0\n",
    "\n",
    "        p_metal_surf_sol_rh_int_ph_integrand = p_metal_surf_sol_rh_int_ph[0](rh).subs(b == b_sol_).subs(g_1 == g1)\n",
    "        if 0 != p_metal_surf_sol_rh_int_ph_integrand:\n",
    "            p_metal_surf_sol_rh_int_ph_r = scipy_integrate.quad(p_metal_surf_sol_rh_int_ph_integrand, 0, a_val)[0]\n",
    "        else:\n",
    "            p_metal_surf_sol_rh_int_ph_r = 0\n",
    "\n",
    "        if calc_Abraham_force:\n",
    "            Abraham_Minkovsky_surf_sol_rh_int_ph_integrand = Abraham_Minkovsky_surf_sol_rh_int_ph[0](rh).subs(b == b_sol_).subs(g_1 == g1)\n",
    "            if debug:\n",
    "                print(\"Abraham_Minkovsky_surf_sol_rh_int_ph_integrand\", Abraham_Minkovsky_surf_sol_rh_int_ph_integrand)\n",
    "            if 0 != Abraham_Minkovsky_surf_sol_rh_int_ph_integrand:\n",
    "                Abraham_Minkovsky_surf_sol_rh_int_ph_r = scipy_integrate.quad(Abraham_Minkovsky_surf_sol_rh_int_ph_integrand, 0, a_val)[0]\n",
    "            else:\n",
    "                Abraham_Minkovsky_surf_sol_rh_int_ph_r = 0\n",
    "\n",
    "            Abraham_sigma_surf_sol_rh_int_ph_integrand = Abraham_sigma_surf_sol_rh_int_ph[0](rh).subs(b == b_sol_).subs(g_1 == g1)\n",
    "            if debug:\n",
    "                print(\"Abraham_sigma_surf_sol_rh_int_ph_integrand\", Abraham_sigma_surf_sol_rh_int_ph_integrand)\n",
    "            if 0 != Abraham_sigma_surf_sol_rh_int_ph_integrand:\n",
    "                Abraham_sigma_surf_sol_rh_int_ph_r = scipy_integrate.quad(Abraham_sigma_surf_sol_rh_int_ph_integrand, 0, a_val)[0]\n",
    "            else:\n",
    "                Abraham_sigma_surf_sol_rh_int_ph_r = 0\n",
    "        else:\n",
    "            Abraham_Minkovsky_surf_sol_rh_int_ph_r = 0\n",
    "            Abraham_sigma_surf_sol_rh_int_ph_r     = 0\n",
    "\n",
    "        t_dielectric_surf_sol_rh_int_ph_integrand = t_dielectric_surf_sol_rh_int_ph[0](rh).subs(b == b_sol_).subs(g_1 == g1)\n",
    "        if debug:\n",
    "            print(\"t_dielectric_surf_sol_rh_int_ph_integrand\", t_dielectric_surf_sol_rh_int_ph_integrand)\n",
    "        if 0 != t_dielectric_surf_sol_rh_int_ph_integrand:\n",
    "            t_dielectric_surf_sol_rh_int_ph_r = scipy_integrate.quad(t_dielectric_surf_sol_rh_int_ph_integrand, 0, a_val)[0]\n",
    "        else:\n",
    "            t_dielectric_surf_sol_rh_int_ph_r = 0\n",
    "\n",
    "        t_dielectric_surf_z_sol_rh_int_ph_r = []\n",
    "        for i in range(n_layers + 1):\n",
    "            t_dielectric_surf_z_sol_rh_int_ph_integrand = t_dielectric_surf_z_sol_rh_int_ph[i](rh).subs(b == b_sol_).subs(g_1 == g1)\n",
    "            if debug:\n",
    "                print(\"t_dielectric_surf_z_sol_rh_int_ph_integrand\", t_dielectric_surf_z_sol_rh_int_ph_integrand)\n",
    "            if 0 != t_dielectric_surf_z_sol_rh_int_ph_integrand:\n",
    "                t_dielectric_surf_z_sol_rh_int_ph_r += [scipy_integrate.quad(t_dielectric_surf_z_sol_rh_int_ph_integrand, 0, a_val)[0]]\n",
    "            else:\n",
    "                t_dielectric_surf_z_sol_rh_int_ph_r += [0]\n",
    "\n",
    "        t_ferromagnetic_surf_sol_rh_int_ph_integrand = t_ferromagnetic_surf_sol_rh_int_ph[0](rh).subs(b == b_sol_).subs(g_1 == g1)\n",
    "        if debug:\n",
    "            print(\"t_ferromagnetic_surf_sol_rh_int_ph_integrand\", t_ferromagnetic_surf_sol_rh_int_ph_integrand)\n",
    "        if 0 != t_ferromagnetic_surf_sol_rh_int_ph_integrand:\n",
    "            t_ferromagnetic_surf_sol_rh_int_ph_r = scipy_integrate.quad(t_ferromagnetic_surf_sol_rh_int_ph_integrand, 0, a_val)[0]\n",
    "        else:\n",
    "            t_ferromagnetic_surf_sol_rh_int_ph_r = 0\n",
    "\n",
    "        p_dielectric_surf_sol_rh_int_ph_integrand = p_dielectric_surf_sol_rh_int_ph[0](rh).subs(b == b_sol_).subs(g_1 == g1)\n",
    "        if debug:\n",
    "            print(\"p_dielectric_surf_sol_rh_int_ph_integrand\", p_dielectric_surf_sol_rh_int_ph_integrand)\n",
    "        if 0 != p_dielectric_surf_sol_rh_int_ph_integrand:\n",
    "            p_dielectric_surf_sol_rh_int_ph_r = scipy_integrate.quad(p_dielectric_surf_sol_rh_int_ph_integrand, 0, a_val)[0]\n",
    "        else:\n",
    "            p_dielectric_surf_sol_rh_int_ph_r = 0\n",
    "\n",
    "        p_ferromagnetic_surf_sol_rh_int_ph_integrand = p_ferromagnetic_surf_sol_rh_int_ph[0](rh).subs(b == b_sol_).subs(g_1 == g1)\n",
    "        if debug:\n",
    "            print(\"p_ferromagnetic_surf_sol_rh_int_ph_integrand\", p_ferromagnetic_surf_sol_rh_int_ph_integrand)\n",
    "        if 0 != p_ferromagnetic_surf_sol_rh_int_ph_integrand:\n",
    "            p_ferromagnetic_surf_sol_rh_int_ph_r = scipy_integrate.quad(p_ferromagnetic_surf_sol_rh_int_ph_integrand, 0, a_val)[0]\n",
    "        else:\n",
    "            p_ferromagnetic_surf_sol_rh_int_ph_r = 0\n",
    "\n",
    "\n",
    "    return {\"f_surf\": f_surf_sol_rh_int_ph_r,\n",
    "            \"b_sol\" : b_sol_,\n",
    "            \"p_metal\" : p_metal_surf_sol_rh_int_ph_r,\n",
    "            \"Abraham_Minkovsky\" : Abraham_Minkovsky_surf_sol_rh_int_ph_r,\n",
    "            \"Abraham_sigma\" : Abraham_sigma_surf_sol_rh_int_ph_r,\n",
    "            \"t_dielectric\" : t_dielectric_surf_sol_rh_int_ph_r,\n",
    "            \"t_dielectrics\" : t_dielectric_surf_z_sol_rh_int_ph_r,\n",
    "            \"t_ferromagnetic\" : t_ferromagnetic_surf_sol_rh_int_ph_r,\n",
    "            \"p_dielectric\" : p_dielectric_surf_sol_rh_int_ph_r,\n",
    "            \"p_ferromagnetic\" : p_ferromagnetic_surf_sol_rh_int_ph_r,\n",
    "           }"
   ]
  },
  {
   "cell_type": "code",
   "execution_count": null,
   "metadata": {},
   "outputs": [
    {
     "name": "stdout",
     "output_type": "stream",
     "text": [
      "k_values_symbolic[ 0 ] k_0 == sqrt(-c^2*kappa^2 + epsilon_0*mu_0*omega^2 + 4*pi^2*mu_0*sigma_0^2/epsilon_0)/c\n",
      "k_values_symbolic_d_[ 0 ] 99.4163256166364\n",
      "k_values_symbolic[ 1 ] k_1 == sqrt(-c^2*kappa^2 + epsilon_1*mu_1*omega^2 + 4*pi^2*mu_1*sigma_1^2/epsilon_1)/c\n",
      "k_values_symbolic_d_[ 1 ] 44460.8527255044\n",
      "eq_kappa =  [kappa^2 == -k_0^2 + (omega^2 + 4*pi^2*sigma_0^2/epsilon_0^2)*epsilon_0*mu_0/c^2, kappa^2 == -k_1^2 + (omega^2 + 4*pi^2*sigma_1^2/epsilon_1^2)*epsilon_1*mu_1/c^2]\n",
      "\n",
      "eq_kappa_d_ =  [0.231327438517871 == 6250000/6241*pi^2 - k_0^2, 0.231327438517871 == 11374870230887848256250000000000000000006241/56792452088776848773805000000000000*pi^2 - k_1^2]\n",
      "\n",
      "k_values_symbolic [k_0 == sqrt(-c^2*kappa^2 + epsilon_0*mu_0*omega^2 + 4*pi^2*mu_0*sigma_0^2/epsilon_0)/c, k_1 == sqrt(-c^2*kappa^2 + epsilon_1*mu_1*omega^2 + 4*pi^2*mu_1*sigma_1^2/epsilon_1)/c]\n",
      "\n",
      "k_values_symbolic_d_ =  [k_0 == 99.4163256166364, k_1 == 44460.8527255044]\n",
      "\n",
      "k_values_d_ =  [k_0 == 99.4163256166364, k_1 == 44460.8527255044]\n",
      "\n",
      "disp_eq_b = \n"
     ]
    },
    {
     "data": {
      "text/latex": [
       "$\\displaystyle \\frac{2 \\, c^{4} \\epsilon_{0}^{2} \\epsilon_{1} \\kappa^{3} \\cos\\left(-b {\\left(g_{1} - 1\\right)} k_{0}\\right)}{k_{0} \\sin\\left(-b {\\left(g_{1} - 1\\right)} k_{0}\\right)} - \\frac{8 \\, \\pi^{2} c^{2} \\epsilon_{0} \\epsilon_{1} \\kappa \\mu_{0} \\sigma_{0}^{2} \\cos\\left(-b {\\left(g_{1} - 1\\right)} k_{0}\\right)}{k_{0} \\sin\\left(-b {\\left(g_{1} - 1\\right)} k_{0}\\right)} + \\frac{2 \\, c^{4} \\epsilon_{0} \\epsilon_{1}^{2} \\kappa^{3} \\cos\\left(b g_{1} k_{1}\\right)}{k_{1} \\sin\\left(b g_{1} k_{1}\\right)} - \\frac{8 \\, \\pi^{2} c^{2} \\epsilon_{0} \\epsilon_{1} \\kappa \\mu_{1} \\sigma_{1}^{2} \\cos\\left(b g_{1} k_{1}\\right)}{k_{1} \\sin\\left(b g_{1} k_{1}\\right)} = 0$"
      ],
      "text/plain": [
       "<IPython.core.display.Math object>"
      ]
     },
     "metadata": {},
     "output_type": "display_data"
    },
    {
     "name": "stdout",
     "output_type": "stream",
     "text": [
      "disp_eq_b_symb =\n"
     ]
    },
    {
     "data": {
      "text/latex": [
       "$\\displaystyle \\frac{2 \\, c^{5} \\epsilon_{0}^{2} \\epsilon_{1} \\kappa^{3} \\cos\\left(-\\frac{\\sqrt{-c^{2} \\kappa^{2} + \\epsilon_{0} \\mu_{0} \\omega^{2} + \\frac{4 \\, \\pi^{2} \\mu_{0} \\sigma_{0}^{2}}{\\epsilon_{0}}} b g_{1}}{c} + \\frac{\\sqrt{-c^{2} \\kappa^{2} + \\epsilon_{0} \\mu_{0} \\omega^{2} + \\frac{4 \\, \\pi^{2} \\mu_{0} \\sigma_{0}^{2}}{\\epsilon_{0}}} b}{c}\\right)}{\\sqrt{-c^{2} \\kappa^{2} + \\epsilon_{0} \\mu_{0} \\omega^{2} + \\frac{4 \\, \\pi^{2} \\mu_{0} \\sigma_{0}^{2}}{\\epsilon_{0}}} \\sin\\left(-\\frac{\\sqrt{-c^{2} \\kappa^{2} + \\epsilon_{0} \\mu_{0} \\omega^{2} + \\frac{4 \\, \\pi^{2} \\mu_{0} \\sigma_{0}^{2}}{\\epsilon_{0}}} b g_{1}}{c} + \\frac{\\sqrt{-c^{2} \\kappa^{2} + \\epsilon_{0} \\mu_{0} \\omega^{2} + \\frac{4 \\, \\pi^{2} \\mu_{0} \\sigma_{0}^{2}}{\\epsilon_{0}}} b}{c}\\right)} - \\frac{8 \\, \\pi^{2} c^{3} \\epsilon_{0} \\epsilon_{1} \\kappa \\mu_{0} \\sigma_{0}^{2} \\cos\\left(-\\frac{\\sqrt{-c^{2} \\kappa^{2} + \\epsilon_{0} \\mu_{0} \\omega^{2} + \\frac{4 \\, \\pi^{2} \\mu_{0} \\sigma_{0}^{2}}{\\epsilon_{0}}} b g_{1}}{c} + \\frac{\\sqrt{-c^{2} \\kappa^{2} + \\epsilon_{0} \\mu_{0} \\omega^{2} + \\frac{4 \\, \\pi^{2} \\mu_{0} \\sigma_{0}^{2}}{\\epsilon_{0}}} b}{c}\\right)}{\\sqrt{-c^{2} \\kappa^{2} + \\epsilon_{0} \\mu_{0} \\omega^{2} + \\frac{4 \\, \\pi^{2} \\mu_{0} \\sigma_{0}^{2}}{\\epsilon_{0}}} \\sin\\left(-\\frac{\\sqrt{-c^{2} \\kappa^{2} + \\epsilon_{0} \\mu_{0} \\omega^{2} + \\frac{4 \\, \\pi^{2} \\mu_{0} \\sigma_{0}^{2}}{\\epsilon_{0}}} b g_{1}}{c} + \\frac{\\sqrt{-c^{2} \\kappa^{2} + \\epsilon_{0} \\mu_{0} \\omega^{2} + \\frac{4 \\, \\pi^{2} \\mu_{0} \\sigma_{0}^{2}}{\\epsilon_{0}}} b}{c}\\right)} + \\frac{2 \\, c^{5} \\epsilon_{0} \\epsilon_{1}^{2} \\kappa^{3} \\cos\\left(\\frac{\\sqrt{-c^{2} \\kappa^{2} + \\epsilon_{1} \\mu_{1} \\omega^{2} + \\frac{4 \\, \\pi^{2} \\mu_{1} \\sigma_{1}^{2}}{\\epsilon_{1}}} b g_{1}}{c}\\right)}{\\sqrt{-c^{2} \\kappa^{2} + \\epsilon_{1} \\mu_{1} \\omega^{2} + \\frac{4 \\, \\pi^{2} \\mu_{1} \\sigma_{1}^{2}}{\\epsilon_{1}}} \\sin\\left(\\frac{\\sqrt{-c^{2} \\kappa^{2} + \\epsilon_{1} \\mu_{1} \\omega^{2} + \\frac{4 \\, \\pi^{2} \\mu_{1} \\sigma_{1}^{2}}{\\epsilon_{1}}} b g_{1}}{c}\\right)} - \\frac{8 \\, \\pi^{2} c^{3} \\epsilon_{0} \\epsilon_{1} \\kappa \\mu_{1} \\sigma_{1}^{2} \\cos\\left(\\frac{\\sqrt{-c^{2} \\kappa^{2} + \\epsilon_{1} \\mu_{1} \\omega^{2} + \\frac{4 \\, \\pi^{2} \\mu_{1} \\sigma_{1}^{2}}{\\epsilon_{1}}} b g_{1}}{c}\\right)}{\\sqrt{-c^{2} \\kappa^{2} + \\epsilon_{1} \\mu_{1} \\omega^{2} + \\frac{4 \\, \\pi^{2} \\mu_{1} \\sigma_{1}^{2}}{\\epsilon_{1}}} \\sin\\left(\\frac{\\sqrt{-c^{2} \\kappa^{2} + \\epsilon_{1} \\mu_{1} \\omega^{2} + \\frac{4 \\, \\pi^{2} \\mu_{1} \\sigma_{1}^{2}}{\\epsilon_{1}}} b g_{1}}{c}\\right)} = 0$"
      ],
      "text/plain": [
       "<IPython.core.display.Math object>"
      ]
     },
     "metadata": {},
     "output_type": "display_data"
    },
    {
     "name": "stdout",
     "output_type": "stream",
     "text": [
      "disp_eq_b_symb_d_ = -((((4.55009282271421e+29)*sqrt(10)*sqrt(2)*pi^2 - (9.57819871908485e+59)*sqrt(10)*sqrt(2))*cos(1/2368360418200*sqrt((5.61721986710511e+27)*pi^2 - 1.29754592284896e+24)*b)*sin(1/2368360418200*sqrt((5.61721986710511e+27)*pi^2 - 1.29754592284896e+24)*b*g_1) + (-(4.55009282271421e+29)*sqrt(10)*sqrt(2)*pi^2 + (9.57819871908485e+59)*sqrt(10)*sqrt(2))*cos(1/2368360418200*sqrt((5.61721986710511e+27)*pi^2 - 1.29754592284896e+24)*b*g_1)*sin(1/2368360418200*sqrt((5.61721986710511e+27)*pi^2 - 1.29754592284896e+24)*b))*sqrt((1.13748702308878e+43)*pi^2 - 1.31376524688457e+34)*sqrt((5.61721986710511e+27)*pi^2 - 1.29754592284896e+24)*cos(1/1065762188190000000*sqrt(10)*sqrt(2)*sqrt((1.13748702308878e+43)*pi^2 - 1.31376524688457e+34)*b*g_1) + (((4.84225633223317e+97)*pi^2 - 5.59266871328354e+88)*cos(1/2368360418200*sqrt((5.61721986710511e+27)*pi^2 - 1.29754592284896e+24)*b*g_1)*cos(1/2368360418200*sqrt((5.61721986710511e+27)*pi^2 - 1.29754592284896e+24)*b) + ((4.84225633223317e+97)*pi^2 - 5.59266871328354e+88)*sin(1/2368360418200*sqrt((5.61721986710511e+27)*pi^2 - 1.29754592284896e+24)*b*g_1)*sin(1/2368360418200*sqrt((5.61721986710511e+27)*pi^2 - 1.29754592284896e+24)*b))*sin(1/1065762188190000000*sqrt(10)*sqrt(2)*sqrt((1.13748702308878e+43)*pi^2 - 1.31376524688457e+34)*b*g_1))/((((1.13748702308878e+43)*pi^2 - 1.31376524688457e+34)*cos(1/2368360418200*sqrt((5.61721986710511e+27)*pi^2 - 1.29754592284896e+24)*b)*sin(1/2368360418200*sqrt((5.61721986710511e+27)*pi^2 - 1.29754592284896e+24)*b*g_1) + (-(1.13748702308878e+43)*pi^2 + 1.31376524688457e+34)*cos(1/2368360418200*sqrt((5.61721986710511e+27)*pi^2 - 1.29754592284896e+24)*b*g_1)*sin(1/2368360418200*sqrt((5.61721986710511e+27)*pi^2 - 1.29754592284896e+24)*b))*sqrt((5.61721986710511e+27)*pi^2 - 1.29754592284896e+24)*sin(1/1065762188190000000*sqrt(10)*sqrt(2)*sqrt((1.13748702308878e+43)*pi^2 - 1.31376524688457e+34)*b*g_1)) == 0\n",
      "\n",
      "disp_eq_b_symb_d_.variables() = (b, g_1)\n",
      "\n",
      "disp_eq_b_d_s = -1.92049046912837e8*pi^2*cos(4446.08527255044*b)/sin(4446.08527255044*b) + 4.04273936118232e38*cos(4446.08527255044*b)/sin(4446.08527255044*b) + 1.80798916304998e40*cos(89.4746930549728*b)/sin(89.4746930549728*b) == 0\n",
      "\n",
      "disp_eq_b_d_s.variables() = (b,)\n",
      "\n",
      "disp_eq_b_symb_d_s_ = -((((4.55009282271421e+29)*sqrt(10)*sqrt(2)*pi^2 - (9.57819871908485e+59)*sqrt(10)*sqrt(2))*cos((4.22233031896395e-14)*sqrt((5.61721986710511e+27)*pi^2 - 1.29754592284896e+24)*b)*sin(1/2368360418200*sqrt((5.61721986710511e+27)*pi^2 - 1.29754592284896e+24)*b) + (-(4.55009282271421e+29)*sqrt(10)*sqrt(2)*pi^2 + (9.57819871908485e+59)*sqrt(10)*sqrt(2))*cos(1/2368360418200*sqrt((5.61721986710511e+27)*pi^2 - 1.29754592284896e+24)*b)*sin((4.22233031896395e-14)*sqrt((5.61721986710511e+27)*pi^2 - 1.29754592284896e+24)*b))*sqrt((1.13748702308878e+43)*pi^2 - 1.31376524688457e+34)*sqrt((5.61721986710511e+27)*pi^2 - 1.29754592284896e+24)*cos((9.38295626436433e-20)*sqrt(10)*sqrt(2)*sqrt((1.13748702308878e+43)*pi^2 - 1.31376524688457e+34)*b) + ((-(4.84225633223317e+97)*pi^2 + 5.59266871328354e+88)*cos(1/2368360418200*sqrt((5.61721986710511e+27)*pi^2 - 1.29754592284896e+24)*b)*cos((4.22233031896395e-14)*sqrt((5.61721986710511e+27)*pi^2 - 1.29754592284896e+24)*b) + (-(4.84225633223317e+97)*pi^2 + 5.59266871328354e+88)*sin(1/2368360418200*sqrt((5.61721986710511e+27)*pi^2 - 1.29754592284896e+24)*b)*sin((4.22233031896395e-14)*sqrt((5.61721986710511e+27)*pi^2 - 1.29754592284896e+24)*b))*sin((9.38295626436433e-20)*sqrt(10)*sqrt(2)*sqrt((1.13748702308878e+43)*pi^2 - 1.31376524688457e+34)*b))/((((1.13748702308878e+43)*pi^2 - 1.31376524688457e+34)*cos((4.22233031896395e-14)*sqrt((5.61721986710511e+27)*pi^2 - 1.29754592284896e+24)*b)*sin(1/2368360418200*sqrt((5.61721986710511e+27)*pi^2 - 1.29754592284896e+24)*b) + (-(1.13748702308878e+43)*pi^2 + 1.31376524688457e+34)*cos(1/2368360418200*sqrt((5.61721986710511e+27)*pi^2 - 1.29754592284896e+24)*b)*sin((4.22233031896395e-14)*sqrt((5.61721986710511e+27)*pi^2 - 1.29754592284896e+24)*b))*sqrt((5.61721986710511e+27)*pi^2 - 1.29754592284896e+24)*sin((9.38295626436433e-20)*sqrt(10)*sqrt(2)*sqrt((1.13748702308878e+43)*pi^2 - 1.31376524688457e+34)*b)) == 0\n",
      "\n",
      "disp_eq_b_symb_d_s_.variables() = (b,)\n",
      "\n",
      "disp_eq_b_d_s.lhs().operands() [-1.92049046912837e8*pi^2*cos(4446.08527255044*b)/sin(4446.08527255044*b), 4.04273936118232e38*cos(4446.08527255044*b)/sin(4446.08527255044*b), 1.80798916304998e40*cos(89.4746930549728*b)/sin(89.4746930549728*b)]\n",
      "operand -1.92049046912837e8*pi^2*cos(4446.08527255044*b)/sin(4446.08527255044*b)\n",
      "operand.variables() (b,)\n",
      "operand_denominator sin(4446.08527255044*b)\n",
      "operand_denominator_operator sin\n",
      "operand_denominator_variables (b,)\n",
      "operand_denominator sin(4446.08527255044*b)\n",
      "trig_operand.operator() <function mul_vararg at 0x7fbd31d76790>\n",
      "trig_operand.operator() [b, 4446.08527255044]\n",
      "operand3 4446.08527255044\n",
      "operand_denominator_roots [0.000706597480931278, 0.00141319496186256, 0.00211979244279383, 0.00282638992372511, 0.00353298740465639, 0.00423958488558767, 0.00494618236651894, 0.00565277984745022, 0.00635937732838150, 0.00706597480931278]\n",
      "operand 4.04273936118232e38*cos(4446.08527255044*b)/sin(4446.08527255044*b)\n",
      "operand.variables() (b,)\n",
      "operand_denominator sin(4446.08527255044*b)\n",
      "operand_denominator_operator sin\n",
      "operand_denominator_variables (b,)\n",
      "operand_denominator sin(4446.08527255044*b)\n",
      "trig_operand.operator() <function mul_vararg at 0x7fbd31d76790>\n",
      "trig_operand.operator() [b, 4446.08527255044]\n",
      "operand3 4446.08527255044\n",
      "operand_denominator_roots [0.000706597480931278, 0.00141319496186256, 0.00211979244279383, 0.00282638992372511, 0.00353298740465639, 0.00423958488558767, 0.00494618236651894, 0.00565277984745022, 0.00635937732838150, 0.00706597480931278]\n",
      "operand 1.80798916304998e40*cos(89.4746930549728*b)/sin(89.4746930549728*b)\n",
      "operand.variables() (b,)\n",
      "operand_denominator sin(89.4746930549728*b)\n",
      "operand_denominator_operator sin\n",
      "operand_denominator_variables (b,)\n",
      "operand_denominator sin(89.4746930549728*b)\n",
      "trig_operand.operator() <function mul_vararg at 0x7fbd31d76790>\n",
      "trig_operand.operator() [b, 89.4746930549728]\n",
      "operand3 89.4746930549728\n",
      "operand_denominator_roots [0.0351115219994062, 0.0702230439988124, 0.105334565998219, 0.140446087997625, 0.175557609997031, 0.210669131996437, 0.245780653995843, 0.280892175995250, 0.316003697994656]\n",
      "\n",
      "disp_eq_brakes_b = [0, 0.000706597480931278, 0.00141319496186256, 0.00211979244279383, 0.00282638992372511, 0.00353298740465639, 0.00423958488558767, 0.00494618236651894, 0.00565277984745022, 0.00635937732838150, 0.00706597480931278, 0.0351115219994062, 0.0702230439988124, 0.105334565998219, 0.140446087997625, 0.175557609997031, 0.210669131996437, 0.245780653995843, 0.280892175995250, 0.316003697994656]\n",
      "\n",
      "disp_eq_b_d_s.lhs() -1.92049046912837e8*pi^2*cos(4446.08527255044*b)/sin(4446.08527255044*b) + 4.04273936118232e38*cos(4446.08527255044*b)/sin(4446.08527255044*b) + 1.80798916304998e40*cos(89.4746930549728*b)/sin(89.4746930549728*b)\n",
      "\n",
      "b_lst_ = [0.000706279239179016, 0.0162106219896515, 0.0168788802014647, 0.0170110924537705, 0.0174221037432534, 0.0174221037432534, 0.0174221037432534, 0.0174221037432534, 0.0174221037432534, 0.0174221037432534, 0.0174221037432534, 0.0178308030904162, 0.0178308030904162, 0.0178308030904162, 0.0219167379809579, 0.0226214376460455, 0.0268552840356801, 0.0521814202699259, 0.0526537131857506, 0.0531102832642946, 0.0874663723748032, 0.0878827383438534, 0.0884094608227578, 0.0884094608227578, 0.0884094608227578, 0.0890739670308745, 0.0897657274660605, 0.0911671252574556, 0.0918707746353131, 0.0925752516027889, 0.0932802402719311, 0.0946911274903581, 0.0961027116840377, 0.0996330587407323, 0.122725690859804, 0.122725690859804, 0.123129520249950, 0.123129520249950, 0.123129520249950, 0.123129520249950, 0.123720231310712, 0.124397884730236, 0.125092838553154, 0.125793232570112, 0.125793232570112, 0.127904583868264, 0.128609691308670, 0.130020717654064, 0.131432376590304, 0.157472153129417, 0.157960988796254, 0.158403082519939, 0.158403082519939, 0.158403082519939, 0.158403082519939, 0.158403082519939, 0.160420426168816, 0.161121735962600, 0.161824929047245, 0.162529138858482, 0.163939170628778, 0.165350322340507, 0.166056133363709, 0.166762049827758, 0.167468047409997, 0.192762074859659, 0.193188624457425, 0.193188624457425, 0.193188624457425, 0.193188624457425, 0.193188624457425, 0.194358672287948, 0.194358672287948, 0.195748376808622, 0.199268675222645, 0.199974221430093, 0.200679940275097, 0.201385786999511, 0.202091730764901, 0.202797749593430, 0.203503827358619, 0.226779494962856, 0.228027861861875, 0.228429803325671, 0.229007036132061, 0.262102884672890, 0.263267816734000, 0.263697105056224, 0.274163278291373, 0.298056404897063, 0.298495304485052, 0.298495304485052, 0.298495304485052, 0.298495304485052, 0.298988125877767, 0.298988125877767, 0.298988125877767, 0.298988125877767, 0.298988125877767, 0.299643506600534, 0.301031827437900, 0.304551784954767, 0.305257316278713, 0.305963024256019, 0.306668862827513, 0.307374800343581, 0.308080814299865, 0.308786888216545, 0.309493009707166]\n",
      "\n",
      "\n",
      "b_sol_ 0.000706279239179016\n",
      "\n",
      "\n",
      "b_sol_ 0.000706279239179016\n",
      "\n",
      "\n",
      "h_s_ [h_0 == 0.000635651315261114, h_1 == 0.0000706279239179016]\n",
      "\n",
      "\n",
      "h_sol_ [0, 0.000635651315261114, 0.000706279239179016]\n",
      "\n"
     ]
    },
    {
     "data": {
      "image/png": "[encoded data removed]",
      "text/plain": [
       "Graphics object consisting of 1 graphics primitive"
      ]
     },
     "metadata": {},
     "output_type": "display_data"
    },
    {
     "data": {
      "image/png": "[encoded data removed]",
      "text/plain": [
       "Graphics object consisting of 12 graphics primitives"
      ]
     },
     "metadata": {},
     "output_type": "display_data"
    },
    {
     "data": {
      "image/png": "[encoded data removed]",
      "text/plain": [
       "Graphics object consisting of 12 graphics primitives"
      ]
     },
     "metadata": {},
     "output_type": "display_data"
    },
    {
     "data": {
      "image/png": "[encoded data removed]",
      "text/plain": [
       "Graphics object consisting of 10 graphics primitives"
      ]
     },
     "metadata": {},
     "output_type": "display_data"
    },
    {
     "data": {
      "image/png": "[encoded data removed]",
      "text/plain": [
       "Graphics object consisting of 10 graphics primitives"
      ]
     },
     "metadata": {},
     "output_type": "display_data"
    },
    {
     "data": {
      "image/png": "[encoded data removed]",
      "text/plain": [
       "Graphics object consisting of 10 graphics primitives"
      ]
     },
     "metadata": {},
     "output_type": "display_data"
    },
    {
     "data": {
      "image/png": "[encoded data removed]",
      "text/plain": [
       "Graphics object consisting of 10 graphics primitives"
      ]
     },
     "metadata": {},
     "output_type": "display_data"
    },
    {
     "data": {
      "image/png": "[encoded data removed]",
      "text/plain": [
       "Graphics object consisting of 10 graphics primitives"
      ]
     },
     "metadata": {},
     "output_type": "display_data"
    },
    {
     "data": {
      "image/png": "[encoded data removed]",
      "text/plain": [
       "Graphics object consisting of 10 graphics primitives"
      ]
     },
     "metadata": {},
     "output_type": "display_data"
    },
    {
     "data": {
      "image/png": "[encoded data removed]",
      "text/plain": [
       "Graphics object consisting of 10 graphics primitives"
      ]
     },
     "metadata": {},
     "output_type": "display_data"
    },
    {
     "data": {
      "image/png": "[encoded data removed]",
      "text/plain": [
       "Graphics object consisting of 10 graphics primitives"
      ]
     },
     "metadata": {},
     "output_type": "display_data"
    },
    {
     "data": {
      "image/png": "[encoded data removed]",
      "text/plain": [
       "Graphics object consisting of 12 graphics primitives"
      ]
     },
     "metadata": {},
     "output_type": "display_data"
    },
    {
     "data": {
      "image/png": "[encoded data removed]",
      "text/plain": [
       "Graphics object consisting of 12 graphics primitives"
      ]
     },
     "metadata": {},
     "output_type": "display_data"
    }
   ],
   "source": [
    "fs001 = calc_f_surf(ra = 1, g1 = 0.1, epsilon0 = epsilon_d[0], epsilon1 = epsilon_d[1], debug = True, verbose = True)\n",
    "print(fs001)\n",
    "print(fs001[\"f_surf\"].n())"
   ]
  },
  {
   "cell_type": "code",
   "execution_count": null,
   "metadata": {},
   "outputs": [],
   "source": [
    "fs00 = calc_f_surf(ra = float(\"NaN\"), g1 = 0.1, epsilon0 = epsilon_d[0], epsilon1 = epsilon_d[1], debug = True)\n",
    "print(fs00)\n",
    "print(fs00[\"f_surf\"])"
   ]
  },
  {
   "cell_type": "code",
   "execution_count": null,
   "metadata": {},
   "outputs": [],
   "source": [
    "fs11 = calc_f_surf(ra = float(\"NaN\"), g1 = 0.1, epsilon0 = epsilon_d[0], epsilon1 = 1.0, debug = True)\n",
    "print(fs11)\n",
    "print(fs11[\"f_surf\"])"
   ]
  },
  {
   "cell_type": "code",
   "execution_count": null,
   "metadata": {},
   "outputs": [],
   "source": [
    "make_investigation_plots = True"
   ]
  },
  {
   "cell_type": "code",
   "execution_count": null,
   "metadata": {},
   "outputs": [],
   "source": [
    "if make_investigation_plots:\n",
    "    # calc_f_surf(ra = float(\"NaN\"), g1 = 0.5, epsilon0 = 2, epsilon1 = 2, debug = True)\n",
    "    fs01 = calc_f_surf(ra = float(\"NaN\"), g1 = 0.3, epsilon0 = 2, epsilon1 = 2, debug = True)\n",
    "    print(fs01)\n",
    "    print(fs01[\"f_surf\"])"
   ]
  },
  {
   "cell_type": "code",
   "execution_count": null,
   "metadata": {},
   "outputs": [],
   "source": [
    "def plot_f_surf(ra, epsilon0, epsilon1):\n",
    "    import numpy as np\n",
    "    fs_a = [(g1, calc_f_surf(ra = ra, g1 = g1, epsilon0 = epsilon0, epsilon1 = epsilon1, debug = False)) \n",
    "              for g1 in np.linspace(0.05, 0.95, 19)]\n",
    "    #          for g1 in np.linspace(0.01, 0.99, 99)]\n",
    "    \n",
    "    fs_plt_f = []\n",
    "    \n",
    "    fs_plt_p_metal = []\n",
    "    fs_plt_p_dielectric = []\n",
    "    fs_plt_p_metal_plus_p_dielectric = []\n",
    "    \n",
    "    min_p_metal_plus_p_dielectric = +Infinity\n",
    "    max_p_metal_plus_p_dielectric = -Infinity\n",
    "    \n",
    "    fs_plt_f_dielectric = []\n",
    "    fs_plt_f_b = []\n",
    "    \n",
    "    fs_plt_t_metal_dielectric_floor = []\n",
    "    fs_plt_t_dielectric_metal_ceil = []\n",
    "    fs_plt_t_metal_dielectric = []\n",
    "  \n",
    "    \n",
    "    fs_plt_t_dielectric = []\n",
    "    fs_plt_t_dielectric_plus_t_metal_dielectric = []\n",
    "    \n",
    "    min_t_dielectric = +Infinity\n",
    "    max_t_dielectric = -Infinity\n",
    "\n",
    "    for (g1,v) in fs_a:\n",
    "        fs_plt_f                        += [(g1, v[\"f_surf\"])]\n",
    "        fs_plt_p_metal                  += [(g1, v[\"p_metal\"])]\n",
    "        #fs_plt_f_dielectric             += [(g1, v[\"f_dielectric\"])]\n",
    "        fs_plt_f_b                      += [(g1, v[\"b_sol\"])]\n",
    "        #fs_plt_t_metal_dielectric       += [(g1, v[\"t_metal_dielectric\"])]\n",
    "        #fs_plt_t_metal_dielectric_floor += [(g1, v[\"t_metal_dielectric_floor\"])]\n",
    "        #fs_plt_t_dielectric_metal_ceil  += [(g1, v[\"t_dielectric_metal_ceil\"])]\n",
    "        fs_plt_t_dielectric             += [(g1, v[\"t_dielectric\"])]\n",
    "        fs_plt_p_dielectric             += [(g1, v[\"p_dielectric\"])]\n",
    "        \n",
    "        p_metal_plus_p_dielectric = v[\"p_metal\"] + v[\"p_dielectric\"]\n",
    "        fs_plt_p_metal_plus_p_dielectric += [(g1, p_metal_plus_p_dielectric)]\n",
    "        \n",
    "        if  min_p_metal_plus_p_dielectric > p_metal_plus_p_dielectric:\n",
    "            min_p_metal_plus_p_dielectric = p_metal_plus_p_dielectric\n",
    "            \n",
    "        if  max_p_metal_plus_p_dielectric < p_metal_plus_p_dielectric:\n",
    "            max_p_metal_plus_p_dielectric = p_metal_plus_p_dielectric\n",
    "        \n",
    "        t_dielectric = v[\"t_dielectric\"]\n",
    "        fs_plt_t_dielectric += [(g1, t_dielectric)]\n",
    "        \n",
    "        if  min_t_dielectric > t_dielectric:\n",
    "            min_t_dielectric = t_dielectric\n",
    "            \n",
    "        if  max_t_dielectric < t_dielectric:\n",
    "            max_t_dielectric = t_dielectric\n",
    "            \n",
    "    if type(min_t_dielectric) is not float:\n",
    "        min_t_dielectric = min_t_dielectric.n()\n",
    "    if type(max_t_dielectric) is not float:\n",
    "        max_t_dielectric = max_t_dielectric.n()\n",
    "        \n",
    "    if type(min_p_metal_plus_p_dielectric) is not float:\n",
    "        min_p_metal_plus_p_dielectric = min_p_metal_plus_p_dielectric.n()\n",
    "    if type(max_p_metal_plus_p_dielectric) is not float:\n",
    "        max_p_metal_plus_p_dielectric = max_p_metal_plus_p_dielectric.n()\n",
    "        \n",
    "    plt = sage.plot.graphics.Graphics()\n",
    "    plt += list_plot (fs_plt_f)\n",
    "    plt += plot(0, (x, 0, 1))\n",
    "    plt.show (title=\"f\")\n",
    "    \n",
    "    plt = sage.plot.graphics.Graphics()\n",
    "    plt += list_plot (fs_plt_p_metal)\n",
    "    plt += plot(0, (x, 0, 1))\n",
    "    plt.show (title=\"p_metal\")\n",
    "    \n",
    "    plt = sage.plot.graphics.Graphics()\n",
    "    plt += list_plot (fs_plt_p_dielectric)\n",
    "    plt += plot(0, (x, 0, 1))\n",
    "    plt.show (title=\"p_dielectric\")\n",
    "    \n",
    "    plt = sage.plot.graphics.Graphics()\n",
    "    plt += list_plot (fs_plt_p_metal_plus_p_dielectric)\n",
    "    plt += plot(0, (x, 0, 1))\n",
    "    plt.show (title=\"p_metal + p_dielectric\"\n",
    "             + str(min_p_metal_plus_p_dielectric) + \"..\"\n",
    "             + str(max_p_metal_plus_p_dielectric)\n",
    "             )    \n",
    "\n",
    "\n",
    "    plt = sage.plot.graphics.Graphics()\n",
    "    plt += list_plot (fs_plt_t_dielectric)\n",
    "    plt += plot(0, (x, 0, 1))\n",
    "    plt.show (title=\"t_dielectric\"\n",
    "             + str(min_t_dielectric) + \"..\"\n",
    "             + str(max_t_dielectric)\n",
    "             )\n",
    "\n",
    "    plt = sage.plot.graphics.Graphics()\n",
    "    plt += list_plot (fs_plt_f_dielectric)\n",
    "    plt += plot(0, (x, 0, 1))\n",
    "    plt.show (title=\"fs_a_plt_f_dielectric\")\n",
    "    \n",
    "    plt = sage.plot.graphics.Graphics()\n",
    "    plt += list_plot (fs_plt_f_b)\n",
    "    plt.show (title=\"fs_plt_f_b\")\n",
    "    \n",
    "    return fs_a"
   ]
  },
  {
   "cell_type": "code",
   "execution_count": null,
   "metadata": {},
   "outputs": [],
   "source": [
    "if make_investigation_plots:\n",
    "    fs02 = plot_f_surf(ra=float(\"NaN\"), epsilon0=epsilon_d[0], epsilon1=epsilon_d[1])"
   ]
  },
  {
   "cell_type": "code",
   "execution_count": null,
   "metadata": {},
   "outputs": [],
   "source": [
    "if make_investigation_plots:\n",
    "    for g1,fs in fs02:\n",
    "        print(g1, fs[\"f_surf\"].n())"
   ]
  },
  {
   "cell_type": "code",
   "execution_count": null,
   "metadata": {},
   "outputs": [],
   "source": [
    "if make_investigation_plots:\n",
    "    fs031 = []\n",
    "    for ra in [1..a_val]:\n",
    "        fs031+=[ra, plot_f_surf(ra=ra, epsilon0=epsilon_d[0], epsilon1=epsilon_d[1])]"
   ]
  },
  {
   "cell_type": "code",
   "execution_count": null,
   "metadata": {},
   "outputs": [],
   "source": [
    "if make_investigation_plots:\n",
    "    fs03=plot_f_surf(ra=a_val/2, epsilon0=epsilon_d[0], epsilon1=1.0)"
   ]
  },
  {
   "cell_type": "code",
   "execution_count": null,
   "metadata": {},
   "outputs": [],
   "source": [
    "if make_investigation_plots:\n",
    "    for g1,fs in fs03:\n",
    "        print(g1, fs[\"f_surf\"].n())"
   ]
  },
  {
   "cell_type": "code",
   "execution_count": null,
   "metadata": {},
   "outputs": [],
   "source": [
    "if make_investigation_plots:\n",
    "    f04=plot_f_surf(ra=a_val/2, epsilon0=2, epsilon1=2)"
   ]
  },
  {
   "cell_type": "code",
   "execution_count": null,
   "metadata": {},
   "outputs": [],
   "source": [
    "if make_investigation_plots:\n",
    "    f05=plot_f_surf(ra=float(\"NaN\"), epsilon0=epsilon_d[0], epsilon1=epsilon_d[1])"
   ]
  },
  {
   "cell_type": "code",
   "execution_count": null,
   "metadata": {},
   "outputs": [],
   "source": [
    "if make_investigation_plots:\n",
    "    f06=plot_f_surf(ra=float(\"NaN\"), epsilon0=2, epsilon1=2)"
   ]
  },
  {
   "cell_type": "code",
   "execution_count": null,
   "metadata": {},
   "outputs": [],
   "source": [
    "if make_investigation_plots:\n",
    "    import numpy as np\n",
    "    import matplotlib.pyplot as plt\n",
    "    %matplotlib inline\n",
    "\n",
    "    #ga_linspace = np.linspace(0.01, 0.99, 99)\n",
    "    ga_linspace = np.linspace(0.05, 0.95, 19)\n",
    "\n",
    "    epsilon0_linspace = np.linspace(1, 2*epsilon_d[0].n(), 12)\n",
    "\n",
    "    ga_list = ga_linspace.tolist()\n",
    "    epsilon0_list = epsilon0_linspace.tolist()\n",
    "\n",
    "    ga_grid,epsilon0_grid = np.meshgrid(ga_linspace, epsilon0_linspace)\n",
    "\n",
    "    u = ga_grid * np.nan\n",
    "    v = ga_grid * np.nan\n",
    "\n",
    "    for ig in np.arange(0, len(ga_linspace), 1):\n",
    "        for iep0 in np.arange(0, len(epsilon0_linspace), 1):\n",
    "            Ga = ga_list[ig]\n",
    "            Ep0 = epsilon0_list[iep0]\n",
    "            u[iep0][ig] = calc_f_surf(ra=float(\"NaN\"), epsilon0 = Ep0, epsilon1 = epsilon_d[1], g1=Ga)[\"f_surf\"]"
   ]
  },
  {
   "cell_type": "code",
   "execution_count": null,
   "metadata": {},
   "outputs": [],
   "source": [
    "if make_investigation_plots:\n",
    "    fig,ax=plt.subplots(1,1)\n",
    "\n",
    "    cp = ax.contourf(ga_grid,epsilon0_grid, u)\n",
    "    fig.colorbar(cp) # Add a colorbar to a plot\n",
    "    ax.set_title('f_surf_sol_diff_g_1_rh_int_ph_sa0')\n",
    "    ax.set_xlabel('g')\n",
    "    ax.set_ylabel('epsilon_0')\n",
    "    plt.show()"
   ]
  },
  {
   "cell_type": "code",
   "execution_count": null,
   "metadata": {},
   "outputs": [],
   "source": [
    "if make_investigation_plots:\n",
    "    from mpl_toolkits import mplot3d\n",
    "    import numpy as np\n",
    "    import matplotlib.pyplot as plt\n",
    "    fig = plt.figure()\n",
    "\n",
    "    ax = plt.axes(projection='3d')\n",
    "    ax.set_xlabel('g')\n",
    "    ax.set_ylabel('epsilon_0')\n",
    "    ax.plot_surface(ga_grid,epsilon0_grid, u, cmap='viridis', edgecolor='none')\n",
    "    ax.set_title('f_surf_sol_diff_g_1_rh_int_ph_sa0')\n",
    "    plt.show()"
   ]
  },
  {
   "cell_type": "code",
   "execution_count": null,
   "metadata": {},
   "outputs": [],
   "source": [
    "if make_investigation_plots:\n",
    "    import numpy as np\n",
    "    import matplotlib.pyplot as plt\n",
    "    %matplotlib inline\n",
    "\n",
    "    ga_linspace = np.linspace(0.05, 0.95, 19)\n",
    "\n",
    "    #epsilon1_linspace = np.linspace(1, 2*epsilon_d[1].n(), 2*12)\n",
    "    epsilon1_linspace = np.linspace(1, 4.0, 12)\n",
    "\n",
    "    ga_list = ga_linspace.tolist()\n",
    "    epsilon1_list = epsilon1_linspace.tolist()\n",
    "\n",
    "    ga_grid,epsilon1_grid = np.meshgrid(ga_linspace, epsilon1_linspace)\n",
    "\n",
    "    u = ga_grid * np.nan\n",
    "    v = ga_grid * np.nan\n",
    "\n",
    "    for ig in np.arange(0, len(ga_linspace), 1):\n",
    "        for iep1 in np.arange(0, len(epsilon1_linspace), 1):\n",
    "            Ga = ga_list[ig]\n",
    "            Ep1 = epsilon1_list[iep1]\n",
    "            u[iep1][ig] = calc_f_surf(ra=float(\"NaN\"), epsilon0 = epsilon_d[0], epsilon1 = Ep1, g1=Ga)[\"f_surf\"]\n",
    "            #u[iep1][ig] = calc_f_surf(ra=a_val/2, epsilon0 = 2.0, epsilon1 = Ep1, g1=Ga)[0]"
   ]
  },
  {
   "cell_type": "code",
   "execution_count": null,
   "metadata": {},
   "outputs": [],
   "source": [
    "if make_investigation_plots:\n",
    "    fig,ax=plt.subplots(1,1)\n",
    "\n",
    "    cp = ax.contourf(ga_grid,epsilon1_grid, u)\n",
    "    fig.colorbar(cp) # Add a colorbar to a plot\n",
    "    ax.set_title('f_surf_sol_diff_g_1_rh_int_ph_sa0')\n",
    "    ax.set_xlabel('g')\n",
    "    ax.set_ylabel('epsilon_1')\n",
    "    plt.show()"
   ]
  },
  {
   "cell_type": "code",
   "execution_count": null,
   "metadata": {},
   "outputs": [],
   "source": [
    "if make_investigation_plots:\n",
    "    from mpl_toolkits import mplot3d\n",
    "    import numpy as np\n",
    "    import matplotlib.pyplot as plt\n",
    "    fig = plt.figure()\n",
    "\n",
    "    ax = plt.axes(projection='3d')\n",
    "    ax.set_xlabel('g')\n",
    "    ax.set_ylabel('epsilon_1')\n",
    "    ax.plot_surface(ga_grid,epsilon1_grid, u, cmap='viridis', edgecolor='none')\n",
    "    ax.set_title('f_surf_sol_diff_g_1_rh_int_ph_sa0')\n",
    "    plt.show()"
   ]
  },
  {
   "cell_type": "code",
   "execution_count": null,
   "metadata": {},
   "outputs": [],
   "source": [
    "if make_investigation_plots:\n",
    "    import numpy as np\n",
    "    import matplotlib.pyplot as plt\n",
    "    %matplotlib inline\n",
    "\n",
    "    ga_linspace = np.linspace(0.05, 0.95, 19)\n",
    "    #if True == E_mode:\n",
    "    #    ga_linspace = np.linspace(0.58, 0.63, 63-58+1)\n",
    "    #else:\n",
    "    #    ga_linspace = np.linspace(0.001, 0.250, 250)\n",
    "\n",
    "    #epsilon0_linspace = np.linspace(1.0, 2.0*epsilon_d[0].n(), 2*12)\n",
    "    epsilon0_linspace = np.linspace(1.0, 4.0, 12)\n",
    "\n",
    "    ga_list = ga_linspace.tolist()\n",
    "    epsilon0_list = epsilon0_linspace.tolist()\n",
    "\n",
    "    ga_grid,epsilon0_grid = np.meshgrid(ga_linspace, epsilon0_linspace)\n",
    "\n",
    "    u = ga_grid * np.nan\n",
    "    v = ga_grid * np.nan\n",
    "\n",
    "    for ig in np.arange(0, len(ga_linspace), 1):\n",
    "        for iep0 in np.arange(0, len(epsilon0_linspace), 1):\n",
    "            Ga = ga_list[ig]\n",
    "            Ep0 = epsilon0_list[iep0]\n",
    "            u[iep0][ig] = calc_f_surf(ra=float(\"NaN\"), epsilon0 = Ep0, epsilon1 = epsilon_d[1], g1=Ga)[\"f_surf\"]\n",
    "            #u[iep0][ig] = calc_f_surf(ra=a_val/2, epsilon0 = Ep0, epsilon1 = 2.0, g1=Ga)[0]"
   ]
  },
  {
   "cell_type": "code",
   "execution_count": null,
   "metadata": {},
   "outputs": [],
   "source": [
    "if make_investigation_plots:\n",
    "    fig,ax=plt.subplots(1,1)\n",
    "\n",
    "    cp = ax.contourf(ga_grid,epsilon0_grid, u)\n",
    "    fig.colorbar(cp) # Add a colorbar to a plot\n",
    "    ax.set_title('f_surf_sol_diff_g_1_rh_int_ph_sa0')\n",
    "    ax.set_xlabel('g')\n",
    "    ax.set_ylabel('epsilon_0')\n",
    "    plt.show()"
   ]
  },
  {
   "cell_type": "code",
   "execution_count": null,
   "metadata": {},
   "outputs": [],
   "source": [
    "if make_investigation_plots:\n",
    "    from mpl_toolkits import mplot3d\n",
    "    import numpy as np\n",
    "    import matplotlib.pyplot as plt\n",
    "    fig = plt.figure()\n",
    "\n",
    "    ax = plt.axes(projection='3d')\n",
    "    ax.set_xlabel('g')\n",
    "    ax.set_ylabel('epsilon_0')\n",
    "    ax.plot_surface(ga_grid,epsilon0_grid, u, cmap='viridis', edgecolor='none')\n",
    "    ax.set_title('f_surf_sol_diff_g_1_rh_int_ph_sa0')\n",
    "    plt.show()"
   ]
  },
  {
   "cell_type": "code",
   "execution_count": null,
   "metadata": {},
   "outputs": [],
   "source": [
    "if make_investigation_plots:\n",
    "    import numpy as np\n",
    "    import matplotlib.pyplot as plt\n",
    "    %matplotlib inline\n",
    "\n",
    "    #ga_linspace = np.linspace(0.01, 0.99, 99)\n",
    "    ga_linspace = np.linspace(0.05, 0.95, 19)\n",
    "    #if True == E_mode:\n",
    "    #    ga_linspace = np.linspace(0.58, 0.63, 63-58+1)\n",
    "    #else:\n",
    "    #    ga_linspace = np.linspace(0.001, 0.250, 250)\n",
    "\n",
    "    ra_linspace = np.linspace(1, a_val, 12)\n",
    "\n",
    "    ga_list = ga_linspace.tolist()\n",
    "    ra_list = ra_linspace.tolist()\n",
    "\n",
    "    ga_grid,ra_grid = np.meshgrid(ga_linspace, ra_linspace)\n",
    "\n",
    "    u = ga_grid * np.nan\n",
    "    v = ga_grid * np.nan\n",
    "\n",
    "    for ig in np.arange(0, len(ga_linspace), 1):\n",
    "        for ir in np.arange(0, len(ra_linspace), 1):\n",
    "            Ga = ga_list[ig]\n",
    "            Ra = ra_list[ir]\n",
    "            u[ir][ig] = calc_f_surf(ra=Ra, epsilon0 = epsilon_d[0], epsilon1 = epsilon_d[1], g1=Ga)[\"f_surf\"]"
   ]
  },
  {
   "cell_type": "code",
   "execution_count": null,
   "metadata": {},
   "outputs": [],
   "source": [
    "if make_investigation_plots:\n",
    "    fig,ax=plt.subplots(1,1)\n",
    "\n",
    "    cp = ax.contourf(ga_grid,ra_grid, u)\n",
    "    fig.colorbar(cp) # Add a colorbar to a plot\n",
    "    ax.set_title('f_surf_sol_diff_g_1_rh_int_ph_sa0')\n",
    "    ax.set_xlabel('g')\n",
    "    ax.set_ylabel('r (cm)')\n",
    "    plt.show()"
   ]
  },
  {
   "cell_type": "code",
   "execution_count": null,
   "metadata": {},
   "outputs": [],
   "source": [
    "if make_investigation_plots:\n",
    "    from mpl_toolkits import mplot3d\n",
    "    import numpy as np\n",
    "    import matplotlib.pyplot as plt\n",
    "    fig = plt.figure()\n",
    "\n",
    "    ax = plt.axes(projection='3d')\n",
    "    ax.set_xlabel('g')\n",
    "    ax.set_ylabel('r (cm)')\n",
    "    ax.plot_surface(ga_grid,ra_grid, u, cmap='viridis', edgecolor='none')\n",
    "    ax.set_title('f_surf_sol_diff_g_1_rh_int_ph_sa0')\n",
    "    plt.show()"
   ]
  },
  {
   "cell_type": "code",
   "execution_count": null,
   "metadata": {},
   "outputs": [],
   "source": [
    "g_values = []\n",
    "\n",
    "if 1 < n_layers:\n",
    "    if True == E_mode:\n",
    "        #g_values += [g[1] == 0.620]\n",
    "        #g_values += [g[1] == 0.95]\n",
    "        g_values += [g[1] == 0.05]\n",
    "    else:\n",
    "        g_values += [g[1] == 0.018]\n",
    "    \n",
    "#if 2 < n_layers:\n",
    "#    g_values += [g[2] == 0.05]\n"
   ]
  },
  {
   "cell_type": "code",
   "execution_count": null,
   "metadata": {},
   "outputs": [],
   "source": [
    "disp_eq_b"
   ]
  },
  {
   "cell_type": "code",
   "execution_count": null,
   "metadata": {},
   "outputs": [],
   "source": [
    "disp_eq_b_d"
   ]
  },
  {
   "cell_type": "code",
   "execution_count": null,
   "metadata": {},
   "outputs": [],
   "source": [
    "disp_eq_b_s = disp_eq_b_d.subs(g_values)\n",
    "disp_eq_b_s"
   ]
  },
  {
   "cell_type": "code",
   "execution_count": null,
   "metadata": {},
   "outputs": [],
   "source": [
    "disp_eq_brakes = [0]\n",
    "for operand in disp_eq_b_s.lhs().operands():\n",
    "    print (operand)\n",
    "    print (operand.variables())\n",
    "    operand_denominator = operand.denominator()\n",
    "    print (\"operand_denominator\", operand_denominator)\n",
    "    from sage.symbolic.operators import add_vararg, mul_vararg\n",
    "    operand_denominator_operator = operand_denominator.operator()\n",
    "    print (\"operand_denominator_operator\", operand_denominator_operator)\n",
    "    operand_denominator_variables = operand_denominator.variables()\n",
    "    print (\"operand_denominator_variables\", operand_denominator_variables)\n",
    "\n",
    "    if mul_vararg == operand_denominator_operator and len(operand_denominator_variables) > 1: #if 2 < n_layers:\n",
    "        for operand2 in operand_denominator.operands():\n",
    "            print(\"operand2\", operand2)\n",
    "            if operand2.operator() in [sin, cos]:\n",
    "                trig_operand = operand2.operands()[0]\n",
    "                print (\"trig_operand.operator()\", trig_operand.operator())\n",
    "                print (\"trig_operand.operator()\", trig_operand.operands())\n",
    "                if mul_vararg == trig_operand.operator():\n",
    "                    for operand3 in trig_operand.operands():\n",
    "                        if len(operand3.variables()) == 0:\n",
    "                            print(\"operand3\", operand3)\n",
    "                            # print(find_root( operand.denominator() == 0, lambda_d/32, lambda_d/3))\n",
    "                            #operand_denominator_roots = find_root_recursive(operand2, lambda_d/32, 10*lambda_d)\n",
    "                            operand_denominator_roots = find_root_recursive(operand2, pi/operand3/360, 10*pi/operand3)\n",
    "                            operand_denominator_roots.sort()\n",
    "                            print(\"operand_denominator_roots\", operand_denominator_roots)\n",
    "                            #disp_eq_brakes += operand_denominator_roots\n",
    "                            for rt in operand_denominator_roots:\n",
    "                                if rt not in disp_eq_brakes:\n",
    "                                    disp_eq_brakes += [rt]\n",
    "                            #if rh not in operand.variables() and ph not in operand.variables() and z not in operand.variables():\n",
    "                            #    M_det_num_factor_operands += (operand,)\n",
    "                            print (\"\")\n",
    "    else:\n",
    "        for operand2 in operand_denominator.operands():\n",
    "            print (\"operand2\", operand2)\n",
    "            print (\"operand2.variables()\", operand2.variables())\n",
    "            if operand2.operator() in [sin, cos]:\n",
    "                trig_operand = operand2.operands()[0]\n",
    "                print (\"trig_operand.operator()\", trig_operand.operator())\n",
    "                print (\"trig_operand.operator()\", trig_operand.operands())\n",
    "                if mul_vararg == trig_operand.operator():\n",
    "                    for operand3 in trig_operand.operands():\n",
    "                        if len(operand3.variables()) == 0:\n",
    "                            print(\"operand3\", operand3)\n",
    "                            \n",
    "                            print(\"operand_denominator\", operand_denominator)\n",
    "                            # print(find_root( operand.denominator() == 0, lambda_d/32, lambda_d/3))\n",
    "                            #operand_denominator_roots = find_root_recursive(operand_denominator, lambda_d/32, 10*lambda_d)\n",
    "                            operand_denominator_roots = find_root_recursive(operand2, pi/operand3/360, 10*pi/operand3)\n",
    "                            operand_denominator_roots.sort()\n",
    "                            print(\"operand_denominator_roots\", operand_denominator_roots)\n",
    "                            #disp_eq_brakes += operand_denominator_roots\n",
    "                            for rt in operand_denominator_roots:\n",
    "                                if rt not in disp_eq_brakes:\n",
    "                                    disp_eq_brakes += [rt]\n",
    "                            #if rh not in operand.variables() and ph not in operand.variables() and z not in operand.variables():\n",
    "                            #    M_det_num_factor_operands += (operand,)\n",
    "                            print (\"\")       \n",
    "\n",
    "disp_eq_brakes.sort()"
   ]
  },
  {
   "cell_type": "code",
   "execution_count": null,
   "metadata": {},
   "outputs": [],
   "source": [
    "disp_eq_brakes"
   ]
  },
  {
   "cell_type": "code",
   "execution_count": null,
   "metadata": {},
   "outputs": [],
   "source": [
    "plt = sage.plot.graphics.Graphics()\n",
    "ylim = 10^+44\n",
    "xeps = lambda_d/102400000\n",
    "plt += plot(disp_eq_b_s.lhs().subs(a == a_val), xeps, disp_eq_brakes[0])\n",
    "disp_eq_brakes_plot_range = min(len(disp_eq_brakes), 12)\n",
    "for i in range(disp_eq_brakes_plot_range-1):\n",
    "    plt += plot (disp_eq_b_s.lhs().subs(a == a_val), disp_eq_brakes[i] + xeps, disp_eq_brakes[i+1] - xeps, ymin = -ylim, ymax = ylim)\n",
    "for i in range(disp_eq_brakes_plot_range):\n",
    "    plt += line ( [(disp_eq_brakes[i],-ylim), (disp_eq_brakes[i],ylim)], color = 'red')\n",
    "\n",
    "plt.show()"
   ]
  },
  {
   "cell_type": "code",
   "execution_count": null,
   "metadata": {},
   "outputs": [],
   "source": [
    "b_lst = []\n",
    "\n",
    "xeps = lambda_d/1024\n",
    "for i in range(len(disp_eq_brakes)-1):\n",
    "    try:\n",
    "        #h_lst += [find_root (disp_eq_s.lhs(), disp_eq_brakes[i] + xeps, disp_eq_brakes[i+1] - xeps)]\n",
    "        b_lst += find_root_recursive (disp_eq_b_s.lhs().subs(a == a_val), disp_eq_brakes[i] + xeps, disp_eq_brakes[i+1] - xeps)\n",
    "    except  Exception as ex:\n",
    "        print(str(ex))\n",
    "        print(disp_eq_brakes[i])\n",
    "        print(disp_eq_brakes [i+1])\n",
    "b_lst.sort()"
   ]
  },
  {
   "cell_type": "code",
   "execution_count": null,
   "metadata": {},
   "outputs": [],
   "source": [
    "b_lst "
   ]
  },
  {
   "cell_type": "code",
   "execution_count": null,
   "metadata": {},
   "outputs": [],
   "source": [
    "b_lst, h_val"
   ]
  },
  {
   "cell_type": "code",
   "execution_count": null,
   "metadata": {},
   "outputs": [],
   "source": [
    "b_sol = b_lst[h_val]"
   ]
  },
  {
   "cell_type": "code",
   "execution_count": null,
   "metadata": {},
   "outputs": [],
   "source": [
    "b_sol, h_val"
   ]
  },
  {
   "cell_type": "code",
   "execution_count": null,
   "metadata": {},
   "outputs": [],
   "source": [
    "disp_eq_b_s.subs(b == b_sol)"
   ]
  },
  {
   "cell_type": "code",
   "execution_count": null,
   "metadata": {},
   "outputs": [],
   "source": [
    "b_sol = find_newton_root(f = disp_eq_b_s.lhs().subs(a == a_val), x = b, xn = b_sol)"
   ]
  },
  {
   "cell_type": "code",
   "execution_count": null,
   "metadata": {},
   "outputs": [],
   "source": [
    "disp_eq_b_s.subs(a == a_val).subs(b == b_sol)"
   ]
  },
  {
   "cell_type": "code",
   "execution_count": null,
   "metadata": {},
   "outputs": [],
   "source": [
    "h_s = []\n",
    "for i in range(n_layers):\n",
    "    h_s += [b_s[i].subs(digit_values).subs(b == b_sol).subs(g_values)]\n",
    "    \n",
    "h_s"
   ]
  },
  {
   "cell_type": "code",
   "execution_count": null,
   "metadata": {},
   "outputs": [],
   "source": [
    "h_sol = [0]\n",
    "for i in range(n_layers):\n",
    "    h_sol += [h_sol[i] + h_s[i].rhs()]\n",
    "h_sol"
   ]
  },
  {
   "cell_type": "code",
   "execution_count": null,
   "metadata": {},
   "outputs": [],
   "source": [
    "E_rho_sol = []\n",
    "for i in range(n_layers):\n",
    "    E_rho_sol += [lambda r,p,z, a0, i=i: E_rho_s[i](r,p,z)\n",
    "                  .subs(digit_values)\n",
    "                  .subs(epsilon_values)\n",
    "                  .subs(g_values)\n",
    "                  .subs(b == b_sol)\n",
    "                  .subs(omega_value)\n",
    "                  .subs(kappa == kappa_d1)\n",
    "                  .subs(c_value)\n",
    "                  .subs(k_values_d)\n",
    "                  .subs(digit_values)\n",
    "                  .subs(amplitude_variable == a0)\n",
    "                 ]"
   ]
  },
  {
   "cell_type": "code",
   "execution_count": null,
   "metadata": {},
   "outputs": [],
   "source": [
    "E_phi_sol = []\n",
    "for i in range(n_layers):\n",
    "    E_phi_sol += [lambda r,p,z, a0, i=i: (E_phi_s[i](r,p,z))# if r != 0 else E_Phi_s[i](r,p,z))\n",
    "                  .subs(digit_values)\n",
    "                  .subs(epsilon_values)\n",
    "                  .subs(g_values)\n",
    "                  .subs(b == b_sol)\n",
    "                  .subs(omega_value)\n",
    "                  .subs(kappa == kappa_d1)\n",
    "                  .subs(c_value)\n",
    "                  .subs(k_values_d)\n",
    "                  .subs(digit_values)\n",
    "                  .subs(amplitude_variable == a0)\n",
    "                 ]"
   ]
  },
  {
   "cell_type": "code",
   "execution_count": null,
   "metadata": {},
   "outputs": [],
   "source": [
    "E_z_sol = []\n",
    "for i in range(n_layers):\n",
    "    E_z_sol += [lambda r,p,z, a0, i=i: E_z_s[i](r,p,z)\n",
    "                .subs(digit_values)\n",
    "                .subs(epsilon_values)\n",
    "                .subs(g_values)\n",
    "                .subs(b == b_sol)\n",
    "                .subs(omega_value)\n",
    "                .subs(kappa == kappa_d1)\n",
    "                .subs(c_value)\n",
    "                .subs(k_values_d)\n",
    "                .subs(digit_values)\n",
    "                .subs(amplitude_variable == a0)\n",
    "               ]"
   ]
  },
  {
   "cell_type": "code",
   "execution_count": null,
   "metadata": {},
   "outputs": [],
   "source": [
    "H_rho_sol = []\n",
    "for i in range(n_layers):\n",
    "    H_rho_sol += [lambda r,p,z, a0, i=i: (H_rho_s[i](r,p,z))# if r != 0 else H_Rho_s[i](r,p,z))\n",
    "                  .subs(digit_values)\n",
    "                  .subs(epsilon_values)\n",
    "                  .subs(g_values)\n",
    "                  .subs(b == b_sol)\n",
    "                  .subs(omega_value)\n",
    "                  .subs(kappa == kappa_d1)\n",
    "                  .subs(c_value)\n",
    "                  .subs(k_values_d)\n",
    "                  .subs(digit_values)\n",
    "                  .subs(amplitude_variable == a0)\n",
    "                 ]"
   ]
  },
  {
   "cell_type": "code",
   "execution_count": null,
   "metadata": {},
   "outputs": [],
   "source": [
    "H_phi_sol = []\n",
    "for i in range(n_layers):\n",
    "    H_phi_sol += [lambda r,p,z, a0, i=i: H_phi_s[i](r,p,z)\n",
    "                  .subs(digit_values)\n",
    "                  .subs(epsilon_values)\n",
    "                  .subs(g_values)\n",
    "                  .subs(b == b_sol)\n",
    "                  .subs(omega_value)\n",
    "                  .subs(kappa == kappa_d1)\n",
    "                  .subs(c_value)\n",
    "                  .subs(k_values_d)\n",
    "                  .subs(digit_values)\n",
    "                  .subs(amplitude_variable == a0)\n",
    "                 ]"
   ]
  },
  {
   "cell_type": "code",
   "execution_count": null,
   "metadata": {},
   "outputs": [],
   "source": [
    "H_z_sol = []\n",
    "for i in range(n_layers):\n",
    "    H_z_sol += [lambda r,p,z, a0, i=i: H_z_s[i](r,p,z)\n",
    "                  .subs(digit_values)\n",
    "                  .subs(epsilon_values)\n",
    "                  .subs(g_values)\n",
    "                  .subs(b == b_sol)\n",
    "                  .subs(omega_value)\n",
    "                  .subs(kappa == kappa_d1)\n",
    "                  .subs(c_value)\n",
    "                  .subs(k_values_d)\n",
    "                  .subs(digit_values)\n",
    "                  .subs(amplitude_variable == a0)\n",
    "                 ]"
   ]
  },
  {
   "cell_type": "code",
   "execution_count": null,
   "metadata": {},
   "outputs": [],
   "source": [
    "if E_mode:\n",
    "    print([E_z_sol [1](rho,ph,z, a0) for rho in [0..int(a_val)]])"
   ]
  },
  {
   "cell_type": "code",
   "execution_count": null,
   "metadata": {},
   "outputs": [],
   "source": [
    "[H_rho_sol [1](rho,ph,z, a0) for rho in [1..int(a_val)]]"
   ]
  },
  {
   "cell_type": "code",
   "execution_count": null,
   "metadata": {},
   "outputs": [],
   "source": [
    "[H_phi_sol [1](rho,ph,z, a0) for rho in [0..int(a_val)]]"
   ]
  },
  {
   "cell_type": "code",
   "execution_count": null,
   "metadata": {},
   "outputs": [],
   "source": [
    "if not E_mode:\n",
    "    print([H_z_sol [1](rho,ph,z, a0) for rho in [0..int(a_val)]])"
   ]
  },
  {
   "cell_type": "code",
   "execution_count": null,
   "metadata": {},
   "outputs": [],
   "source": [
    "digit_values"
   ]
  },
  {
   "cell_type": "code",
   "execution_count": null,
   "metadata": {},
   "outputs": [],
   "source": [
    "plt = sage.plot.graphics.Graphics()\n",
    "\n",
    "for i in range(n_layers):\n",
    "    if E_mode:\n",
    "        plt += plot ([E_rho_sol[i](rh,ph,z,1).subs(rh == rho, ph == phi) for rho in [0..int(a_val)] for phi in phi_arr],(z, h_sol[i], h_sol[i+1]))\n",
    "    else:\n",
    "        plt += plot ([E_rho_sol[i](rh,ph,z,1).subs(rh == rho, ph == phi).imag_part() for rho in [0..int(a_val)] for phi in phi_arr],(z, h_sol[i], h_sol[i+1]))\n",
    "        \n",
    "plt.show (title=\"График тангенциальной (rho) компоненты электрического поля E (от высоты цилиндра)\")"
   ]
  },
  {
   "cell_type": "code",
   "execution_count": null,
   "metadata": {},
   "outputs": [],
   "source": [
    "plt = sage.plot.graphics.Graphics()\n",
    "\n",
    "for i in range(n_layers):\n",
    "    if E_mode:\n",
    "        plt += plot ([E_phi_sol[i](rh,ph,z,1).subs(rh == rho, ph == phi) for rho in [0..int(a_val)] for phi in phi_arr],(z, h_sol[i], h_sol[i+1]))\n",
    "    else:\n",
    "        plt += plot ([E_phi_sol[i](rh,ph,z,1).subs(rh == rho, ph == phi).imag_part() for rho in [0..int(a_val)] for phi in phi_arr],(z, h_sol[i], h_sol[i+1]))\n",
    "        \n",
    "plt.show ()"
   ]
  },
  {
   "cell_type": "code",
   "execution_count": null,
   "metadata": {},
   "outputs": [],
   "source": [
    "plt = sage.plot.graphics.Graphics()\n",
    "\n",
    "for i in range(n_layers):\n",
    "    if E_mode:\n",
    "        plt += plot ([E_z_sol[i](rh,ph,z,1).subs(rh == rho, ph == phi) for rho in [0..int(a_val)] for phi in phi_arr],(z, h_sol[i], h_sol[i+1]))\n",
    "    else:\n",
    "        plt += plot ([H_z_sol[i](rh,ph,z,1).subs(rh == rho, ph == phi) for rho in [0..int(a_val)] for phi in phi_arr],(z, h_sol[i], h_sol[i+1]))\n",
    "\n",
    "if E_mode:\n",
    "    plt.show (title=\"График нормальной (z) компоненты электрического поля E (от высоты цилиндра)\")\n",
    "else:\n",
    "    plt.show (title=\"График нормальной (z) компоненты магнитного поля H (от высоты цилиндра)\")"
   ]
  },
  {
   "cell_type": "code",
   "execution_count": null,
   "metadata": {},
   "outputs": [],
   "source": [
    "plt = sage.plot.graphics.Graphics()\n",
    "\n",
    "for i in range(n_layers):\n",
    "    if E_mode:\n",
    "        plt += plot ([epsilon_d[i]*E_z_sol[i](rh,ph,z,1).subs(rh == rho, ph == phi) for rho in [0..int(a_val)] for phi in phi_arr],(z, h_sol[i], h_sol[i+1]))\n",
    "    else:\n",
    "        plt += plot ([mu_d[i]*H_z_sol[i](rh,ph,z,1).subs(rh == rho, ph == phi) for rho in [0..int(a_val)] for phi in phi_arr],(z, h_sol[i], h_sol[i+1]))\n",
    "\n",
    "if E_mode:\n",
    "    plt.show (title=\"График нормальной (z) компоненты электрического смещения D (от высоты цилиндра)\")\n",
    "else:\n",
    "    plt.show (title=\"График нормальной (z) компоненты магнитной индукции B (от высоты цилиндра)\")"
   ]
  },
  {
   "cell_type": "code",
   "execution_count": null,
   "metadata": {},
   "outputs": [],
   "source": [
    "plt = sage.plot.graphics.Graphics()\n",
    "\n",
    "for i in range(n_layers):\n",
    "    if E_mode:\n",
    "        plt += plot ([H_rho_sol[i](rh,ph,z,1).subs(rh == rho, ph == phi).imag_part() for rho in [0..int(a_val)] for phi in phi_arr],(z, h_sol[i], h_sol[i+1]))\n",
    "    else:\n",
    "        plt += plot ([H_rho_sol[i](rh,ph,z,1).subs(rh == rho, ph == phi) for rho in [0..int(a_val)] for phi in phi_arr],(z, h_sol[i], h_sol[i+1]))\n",
    "        \n",
    "plt.show ()"
   ]
  },
  {
   "cell_type": "code",
   "execution_count": null,
   "metadata": {},
   "outputs": [],
   "source": [
    "plt = sage.plot.graphics.Graphics()\n",
    "\n",
    "for i in range(n_layers):\n",
    "    if E_mode:\n",
    "        plt += plot ([H_phi_sol[i](rh,ph,z,1).subs(rh == rho, ph == phi).imag_part() for rho in [0..int(a_val)] for phi in phi_arr],(z, h_sol[i], h_sol[i+1]))\n",
    "    else:\n",
    "        plt += plot ([H_phi_sol[i](rh,ph,z,1).subs(rh == rho, ph == phi) for rho in [0..int(a_val)] for phi in phi_arr],(z, h_sol[i], h_sol[i+1]))\n",
    "\n",
    "plt.show (title=\"График тангенциальной (phi) компоненты напряженности магнитного поля H (от высоты цилиндра)\")"
   ]
  },
  {
   "cell_type": "code",
   "execution_count": null,
   "metadata": {},
   "outputs": [],
   "source": []
  },
  {
   "cell_type": "code",
   "execution_count": null,
   "metadata": {},
   "outputs": [],
   "source": [
    "plt = sage.plot.graphics.Graphics()\n",
    "\n",
    "for i in range(n_layers):\n",
    "    if E_mode:\n",
    "        plt += plot ([E_rho_sol[i](rh,ph,h_sol[i],1).subs(ph == phi) for phi in phi_arr],(rh, 0, a_val))\n",
    "    else:\n",
    "        plt += plot ([E_rho_sol[i](rh,ph,h_sol[i],1).subs(ph == phi).imag_part() for phi in phi_arr],(rh, 0, a_val))\n",
    "        \n",
    "plt.show (title=\"График (rho) компоненты электрического поля E (от радиуса цилиндра, на границе диэлектриков)\")"
   ]
  },
  {
   "cell_type": "code",
   "execution_count": null,
   "metadata": {},
   "outputs": [],
   "source": [
    "plt = sage.plot.graphics.Graphics()\n",
    "\n",
    "for i in range(n_layers):\n",
    "    if E_mode:\n",
    "        plt += plot ([E_z_sol[i](rh,ph,h_sol[i],1).subs(ph == phi) for phi in phi_arr],(rh, 0, a_val))\n",
    "    else:\n",
    "        plt += plot ([H_z_sol[i](rh,ph,h_sol[i],1).subs(ph == phi) for phi in phi_arr],(rh, 0, a_val))\n",
    "\n",
    "if E_mode:\n",
    "    plt.show (title=\"График нормальной (z) компоненты электрического поля E (от радиуса цилиндра, на границе диэлектриков)\")\n",
    "else:\n",
    "    plt.show (title=\"График нормальной (z) компоненты магнитного поля H (от радиуса цилиндра, на границе диэлектриков)\")"
   ]
  },
  {
   "cell_type": "code",
   "execution_count": null,
   "metadata": {},
   "outputs": [],
   "source": [
    "plt = sage.plot.graphics.Graphics()\n",
    "\n",
    "if E_mode:\n",
    "    plt += plot ([H_rho_sol[0](rh,ph,0,1).subs(ph == phi).imag_part() for phi in phi_arr],(rh, 0, a_val))\n",
    "else:\n",
    "    plt += plot ([H_rho_sol[0](rh,ph,0,1).subs(ph == phi) for phi in phi_arr],(rh, 0, a_val))\n",
    "        \n",
    "plt.show ()"
   ]
  },
  {
   "cell_type": "code",
   "execution_count": null,
   "metadata": {
    "scrolled": true
   },
   "outputs": [],
   "source": [
    "plt = sage.plot.graphics.Graphics()\n",
    "\n",
    "if E_mode:\n",
    "    plt += plot ([H_rho_sol[n_layers - 1](rh,ph,b_sol,1).subs(ph == phi).imag_part() for phi in phi_arr],(rh, 0, a_val))\n",
    "else:\n",
    "    plt += plot ([H_rho_sol[n_layers - 1](rh,ph,b_sol,1).subs(ph == phi) for phi in phi_arr],(rh, 0, a_val))\n",
    "        \n",
    "plt.show ()"
   ]
  },
  {
   "cell_type": "code",
   "execution_count": null,
   "metadata": {},
   "outputs": [],
   "source": [
    "plt = sage.plot.graphics.Graphics()\n",
    "\n",
    "if E_mode:\n",
    "    plt += plot ([H_phi_sol[0](rh,ph,0,1).subs(ph == phi).imag_part() for phi in phi_arr],(rh, 0, a_val))\n",
    "else:\n",
    "    plt += plot ([H_phi_sol[0](rh,ph,0,1).subs(ph == phi) for phi in phi_arr],(rh, 0, a_val))\n",
    "        \n",
    "plt.show(title=\"График (phi) компоненты магнитного поля H (от радиуса цилиндра, на его нижнем торце)\")"
   ]
  },
  {
   "cell_type": "code",
   "execution_count": null,
   "metadata": {},
   "outputs": [],
   "source": [
    "plt = sage.plot.graphics.Graphics()\n",
    "\n",
    "if E_mode:\n",
    "    plt += plot ([H_phi_sol[n_layers - 1](rh,ph,b_sol,1).subs(ph == phi).imag_part() for phi in phi_arr],(rh, 0, a_val))\n",
    "else:\n",
    "    plt += plot ([H_phi_sol[n_layers - 1](rh,ph,b_sol,1).subs(ph == phi) for phi in phi_arr],(rh, 0, a_val))\n",
    "        \n",
    "plt.show(title=\"График (phi) компоненты магнитного поля H (от радиуса цилиндра, на его верхнем торце)\")"
   ]
  },
  {
   "cell_type": "code",
   "execution_count": null,
   "metadata": {},
   "outputs": [],
   "source": [
    "plt = sage.plot.graphics.Graphics()\n",
    "\n",
    "if E_mode:\n",
    "    plt += plot ([H_phi_sol[0](rh,ph,0,1).subs(ph == phi).imag_part() + H_phi_sol[n_layers - 1](rh,ph,b_sol,1).subs(ph == phi).imag_part() for phi in phi_arr],(rh, 0, a_val))\n",
    "else:\n",
    "    plt += plot ([H_phi_sol[0](rh,ph,0,1).subs(ph == phi) + H_phi_sol[n_layers - 1](rh,ph,b_sol,1).subs(ph == phi) for phi in phi_arr],(rh, 0, a_val))\n",
    "        \n",
    "plt.show(title=\"График суммы (phi) компонент магнитного поля H (от радиуса цилиндра, на его нижнем и верхнем торцах)\")"
   ]
  },
  {
   "cell_type": "code",
   "execution_count": null,
   "metadata": {},
   "outputs": [],
   "source": [
    "if E_mode:\n",
    "    plot_vector_field((H_rho_sol[n_layers - 1](rh,ph,b_sol,1).imag_part(),\n",
    "                       H_phi_sol[n_layers - 1](rh,ph,b_sol,1).imag_part()),\n",
    "                      (rh, 0, a_val), (ph, 0, 2*pi)).show()\n",
    "else:\n",
    "    plot_vector_field((H_rho_sol[n_layers - 1](rh,ph,b_sol,1),\n",
    "                       H_phi_sol[n_layers - 1](rh,ph,b_sol,1)),\n",
    "                      (rh, 0, a_val), (ph, 0, 2*pi)).show()"
   ]
  },
  {
   "cell_type": "code",
   "execution_count": null,
   "metadata": {},
   "outputs": [],
   "source": [
    "if E_mode:\n",
    "    ESpolar.<rho,phi> = EuclideanSpace(coordinates='polar')\n",
    "    H1 = ESpolar.vector_field(\n",
    "        H_rho_sol[n_layers - 1](rho,phi,b_sol,1).imag_part(),\n",
    "        H_phi_sol[n_layers - 1](rho,phi,b_sol,1).imag_part(),\n",
    "        name='H1')\n",
    "\n",
    "    print(H1.display())\n",
    "    #H1.plot()\n",
    "else:\n",
    "    ESpolar.<rho,phi> = EuclideanSpace(coordinates='polar')\n",
    "    H1 = ESpolar.vector_field(\n",
    "        H_rho_sol[n_layers - 1](rho,phi,b_sol,1),\n",
    "        H_phi_sol[n_layers - 1](rho,phi,b_sol,1),\n",
    "        name='H1')\n",
    "\n",
    "    print(H1.display())\n",
    "    #H1.plot()\n"
   ]
  },
  {
   "cell_type": "code",
   "execution_count": null,
   "metadata": {},
   "outputs": [],
   "source": [
    "def get_integrand_view(f):\n",
    "    return f(x)\n",
    "\n",
    "#class my_dummy_integral:\n",
    "#    f = None\n",
    "#    a = None\n",
    "#    b = None\n",
    "#    def __init__(self, f, a, b):\n",
    "#        print (\"my_dummy_integral \", f, a, b)\n",
    "#        self.f = f\n",
    "#        self.a = a\n",
    "#        self.b = b\n",
    "\n",
    "def num_int(f, a, b):\n",
    "    from scipy import integrate\n",
    "    \n",
    "    #try:\n",
    "    #    print (\"integrand = \", get_integrand_view(f))\n",
    "    #except Exception as ex1:\n",
    "    #    print (\"Exception ex1 = \", ex1)\n",
    "    #print (\"a, b = \", a, b)\n",
    "    \n",
    "    #to_call_integration = True\n",
    "\n",
    "    #if type(f) is my_dummy_integral:\n",
    "    #    to_call_integration = False\n",
    "\n",
    "    #import inspect\n",
    "    #stack = inspect.stack()\n",
    "    #for frame in stack:\n",
    "    #    func_name = frame[3]\n",
    "    #    #print (\"func_name = \", func_name)\n",
    "    #    if ('get_integrand_view' == func_name):\n",
    "    #        to_call_integration = False\n",
    "    #        break;\n",
    "\n",
    "    #if not to_call_integration:\n",
    "    #    return my_dummy_integral(f,a,b)\n",
    "\n",
    "    try:\n",
    "        integral = integrate.quad(f, a, b)\n",
    "\n",
    "        result = integral[0]\n",
    "        return result\n",
    "\n",
    "    except Exception as ex:\n",
    "\n",
    "        print (\"Exception ex = \", str(ex))\n",
    "        print (\"f = \", f)\n",
    "        try:\n",
    "            print (\"integrand = \", get_integrand_view(f))\n",
    "        except Exception as ex2:\n",
    "            print (\"Exception ex2 = \", ex2)\n",
    "        print (\"a, b = \", a, b)\n",
    "\n",
    "        import inspect\n",
    "        stack = inspect.stack()\n",
    "        for frame in stack:\n",
    "            func_name = frame[3]\n",
    "            print (\"func_name = \", func_name)\n",
    "            #if ('get_integrand_view' == func_name):\n",
    "                #to_call_integration = False\n",
    "                #break;\n",
    "\n",
    "        \n",
    "        raise ex"
   ]
  },
  {
   "cell_type": "code",
   "execution_count": null,
   "metadata": {},
   "outputs": [],
   "source": [
    "E2_8pi_rho_sol = []\n",
    "for i in range(n_layers):\n",
    "    E2_8pi_rho_sol += [lambda r,p,z, a0, i=i: E2_8pi_rho_s[i](r,p,z)\n",
    "                  .subs(digit_values).subs(g_values).subs(epsilon_values)\n",
    "                  .subs(b == b_sol)\n",
    "                  .subs(omega_value)\n",
    "                  .subs(kappa == kappa_d1)\n",
    "                  .subs(c_value)\n",
    "                  .subs(k_values_d)\n",
    "                  .subs(digit_values)\n",
    "                  .subs(amplitude_variable == a0)\n",
    "                 ]"
   ]
  },
  {
   "cell_type": "code",
   "execution_count": null,
   "metadata": {},
   "outputs": [],
   "source": [
    "E2_8pi_phi_sol = []\n",
    "for i in range(n_layers):\n",
    "    E2_8pi_phi_sol += [lambda r,p,z, a0, i=i: (E2_8pi_phi_s[i](r,p,z))# if r != 0 else E2_8pi_Phi_s[i](r,p,z))\n",
    "                  .subs(digit_values).subs(g_values).subs(epsilon_values)\n",
    "                  .subs(b == b_sol)\n",
    "                  .subs(omega_value)\n",
    "                  .subs(kappa == kappa_d1)\n",
    "                  .subs(c_value)\n",
    "                  .subs(k_values_d)\n",
    "                  .subs(digit_values)\n",
    "                  .subs(amplitude_variable == a0)\n",
    "                 ]"
   ]
  },
  {
   "cell_type": "code",
   "execution_count": null,
   "metadata": {},
   "outputs": [],
   "source": [
    "E2_8pi_z_sol = []\n",
    "for i in range(n_layers):\n",
    "    E2_8pi_z_sol += [lambda r,p,z, a0, i=i: E2_8pi_z_s[i](r,p,z)\n",
    "                  .subs(digit_values).subs(g_values).subs(epsilon_values)\n",
    "                  .subs(b == b_sol)\n",
    "                  .subs(omega_value)\n",
    "                  .subs(kappa == kappa_d1)\n",
    "                  .subs(c_value)\n",
    "                  .subs(k_values_d)\n",
    "                  .subs(digit_values)\n",
    "                  .subs(amplitude_variable == a0)\n",
    "                 ]"
   ]
  },
  {
   "cell_type": "code",
   "execution_count": null,
   "metadata": {},
   "outputs": [],
   "source": [
    "D2_8pi_z_sol = []\n",
    "for i in range(n_layers):\n",
    "    D2_8pi_z_sol += [lambda r,p,z, a0, i=i: D2_8pi_z_s[i](r,p,z)\n",
    "                  .subs(digit_values).subs(g_values).subs(epsilon_values)\n",
    "                  .subs(b == b_sol)\n",
    "                  .subs(omega_value)\n",
    "                  .subs(kappa == kappa_d1)\n",
    "                  .subs(c_value)\n",
    "                  .subs(k_values_d)\n",
    "                  .subs(digit_values)\n",
    "                  .subs(amplitude_variable == a0)\n",
    "                 ]"
   ]
  },
  {
   "cell_type": "code",
   "execution_count": null,
   "metadata": {},
   "outputs": [],
   "source": [
    "E2_8pi_rho_sol[0](r,p,z, a0)"
   ]
  },
  {
   "cell_type": "code",
   "execution_count": null,
   "metadata": {},
   "outputs": [],
   "source": [
    "E2_8pi_phi_sol[0](r,p,z, a0)"
   ]
  },
  {
   "cell_type": "code",
   "execution_count": null,
   "metadata": {},
   "outputs": [],
   "source": [
    "E2_8pi_z_sol[0](r,p,z, a0)"
   ]
  },
  {
   "cell_type": "code",
   "execution_count": null,
   "metadata": {},
   "outputs": [],
   "source": [
    "if E_mode:\n",
    "    print(E2_8pi_z_sol[0](rh,ph,z, a0))"
   ]
  },
  {
   "cell_type": "code",
   "execution_count": null,
   "metadata": {},
   "outputs": [],
   "source": [
    "plt = sage.plot.graphics.Graphics()\n",
    "\n",
    "for i in range(n_layers - 1):\n",
    "    plt += plot ([(epsilon_d[i]-epsilon_d[i+1]) * \n",
    "                (E2_8pi_rho_sol[i](rh,ph,h_sol[i+1],1) + \n",
    "                 E2_8pi_phi_sol[i](rh,ph,h_sol[i+1],1) )\n",
    "                .subs(rh == rho, ph == phi) for phi in phi_arr],(rho, 0, a_val))\n",
    "plt.show ()"
   ]
  },
  {
   "cell_type": "code",
   "execution_count": null,
   "metadata": {},
   "outputs": [],
   "source": [
    "plt = sage.plot.graphics.Graphics()\n",
    "\n",
    "plt += plot ([sum([(epsilon_d[i]-epsilon_d[i+1]) * \n",
    "            (E2_8pi_rho_sol[i](rh,ph,h_sol[i+1],1) + \n",
    "             E2_8pi_phi_sol[i](rh,ph,h_sol[i+1],1) )\n",
    "            for i in range(n_layers - 1)]).subs(rh == rho, ph == phi) for phi in phi_arr],(rho, 0, a_val))\n",
    "plt.show ()"
   ]
  },
  {
   "cell_type": "code",
   "execution_count": null,
   "metadata": {},
   "outputs": [],
   "source": [
    "E2_8pi_rho_sol_rh = []\n",
    "for i in range(n_layers):\n",
    "    E2_8pi_rho_sol_rh += [lambda r,p,z, a0, i=i: E2_8pi_rho_sol[i](r,p,z, a0) * r]"
   ]
  },
  {
   "cell_type": "code",
   "execution_count": null,
   "metadata": {},
   "outputs": [],
   "source": [
    "E2_8pi_phi_sol_rh = []\n",
    "for i in range(n_layers):\n",
    "    E2_8pi_phi_sol_rh += [lambda r,p,z, a0, i=i: E2_8pi_phi_sol[i](r,p,z, a0) * r]"
   ]
  },
  {
   "cell_type": "code",
   "execution_count": null,
   "metadata": {},
   "outputs": [],
   "source": [
    "E2_8pi_z_sol_rh = []\n",
    "for i in range(n_layers):\n",
    "    E2_8pi_z_sol_rh += [lambda r,p,z, a0, i=i: E2_8pi_z_sol[i](r,p,z, a0) * r]"
   ]
  },
  {
   "cell_type": "code",
   "execution_count": null,
   "metadata": {},
   "outputs": [],
   "source": [
    "D2_8pi_z_sol_rh = []\n",
    "for i in range(n_layers):\n",
    "    D2_8pi_z_sol_rh += [lambda r,p,z, a0, i=i: D2_8pi_z_sol[i](r,p,z, a0) * r]"
   ]
  },
  {
   "cell_type": "code",
   "execution_count": null,
   "metadata": {},
   "outputs": [],
   "source": [
    "E2_8pi_rho_sol_rh[0](rh,ph,z,1)"
   ]
  },
  {
   "cell_type": "code",
   "execution_count": null,
   "metadata": {},
   "outputs": [],
   "source": [
    "E2_8pi_phi_sol_rh[0](rh,ph,z,1)"
   ]
  },
  {
   "cell_type": "code",
   "execution_count": null,
   "metadata": {},
   "outputs": [],
   "source": [
    "print(E2_8pi_z_sol_rh[0](rh,ph,z,1))"
   ]
  },
  {
   "cell_type": "code",
   "execution_count": null,
   "metadata": {
    "scrolled": true
   },
   "outputs": [],
   "source": [
    "plt = sage.plot.graphics.Graphics()\n",
    "\n",
    "for i in range(n_layers - 1):\n",
    "    plt += plot ([(epsilon_d[i]-epsilon_d[i+1]) * \n",
    "                (E2_8pi_rho_sol_rh[i](rh,ph,h_sol[i+1],1) + \n",
    "                 E2_8pi_phi_sol_rh[i](rh,ph,h_sol[i+1],1) )\n",
    "                .subs(rh == rho, ph == phi) for phi in phi_arr],(rho, 0, a_val))\n",
    "plt.show ()"
   ]
  },
  {
   "cell_type": "code",
   "execution_count": null,
   "metadata": {},
   "outputs": [],
   "source": [
    "plt = sage.plot.graphics.Graphics()\n",
    "\n",
    "plt += plot ([sum([(epsilon_d[i]-epsilon_d[i+1]) * \n",
    "            (E2_8pi_rho_sol_rh[i](rh,ph,h_sol[i+1],1) + \n",
    "             E2_8pi_phi_sol_rh[i](rh,ph,h_sol[i+1],1) )\n",
    "            for i in range(n_layers - 1)]).subs(rh == rho, ph == phi)  for phi in phi_arr],(rho, 0, a_val))\n",
    "plt.show ()"
   ]
  },
  {
   "cell_type": "code",
   "execution_count": null,
   "metadata": {},
   "outputs": [],
   "source": [
    "E2_8pi_rho_sol_rh_int_ph = []\n",
    "for i in range(n_layers):\n",
    "    E2_8pi_rho_sol_rh_int_ph += [lambda r, z, a0, i=i: \n",
    "                                  num_int(\n",
    "                                      lambda p : E2_8pi_rho_sol_rh[i](r,p,z, a0), \n",
    "                                      0, 2*pi)\n",
    "                                 ]"
   ]
  },
  {
   "cell_type": "raw",
   "metadata": {
    "scrolled": true
   },
   "source": [
    "[E2_8pi_rho_sol_rh_int_ph [0](rho,0, 1) for rho in [0..int(a_val)]]"
   ]
  },
  {
   "cell_type": "raw",
   "metadata": {},
   "source": [
    "E2_8pi_rho_sol_rh[1](r,p,z, a0)"
   ]
  },
  {
   "cell_type": "raw",
   "metadata": {},
   "source": [
    "if 1 < n_layers:\n",
    "    print([E2_8pi_rho_sol_rh_int_ph [1](rho,h_sol[2], 1) for rho in [0..int(a_val)]])"
   ]
  },
  {
   "cell_type": "code",
   "execution_count": null,
   "metadata": {},
   "outputs": [],
   "source": [
    "E2_8pi_phi_sol_rh_int_ph = []\n",
    "for i in range(n_layers):\n",
    "    E2_8pi_phi_sol_rh_int_ph += [lambda r, z, a0, i=i: \n",
    "                                  num_int(\n",
    "                                      lambda p : E2_8pi_phi_sol_rh[i](r,p,z, a0),\n",
    "                                      0, 2*pi)\n",
    "                                 ]"
   ]
  },
  {
   "cell_type": "raw",
   "metadata": {},
   "source": [
    "try:\n",
    "    E2_8pi_phi_sol_rh[i](0,p,z, a0)\n",
    "except Exception as ex:\n",
    "    print (ex)"
   ]
  },
  {
   "cell_type": "raw",
   "metadata": {},
   "source": [
    "E2_8pi_phi_sol_rh[i](0,p,z, a0)"
   ]
  },
  {
   "cell_type": "raw",
   "metadata": {
    "scrolled": false
   },
   "source": [
    "[E2_8pi_phi_sol_rh_int_ph [0](r,h_sol[1], 1) for r in [1..int(a_val)]]"
   ]
  },
  {
   "cell_type": "raw",
   "metadata": {
    "scrolled": true
   },
   "source": [
    "if 1 < n_layers:\n",
    "    print([E2_8pi_Phi_sol_rh_int_ph [1](rho,h_sol[1], 1) if rho == 0 else E2_8pi_phi_sol_rh_int_ph [1](rho,h_sol[1], 1) for rho in [1..int(a_val)]])"
   ]
  },
  {
   "cell_type": "code",
   "execution_count": null,
   "metadata": {},
   "outputs": [],
   "source": [
    "E2_8pi_z_sol_rh_int_ph = []\n",
    "for i in range(n_layers):\n",
    "    E2_8pi_z_sol_rh_int_ph += [lambda r, z, a0, i=i: \n",
    "                                  num_int(\n",
    "                                      lambda p : E2_8pi_z_sol_rh[i](r,p,z, a0), \n",
    "                                      0, 2*pi)\n",
    "                                 ]"
   ]
  },
  {
   "cell_type": "code",
   "execution_count": null,
   "metadata": {},
   "outputs": [],
   "source": [
    "D2_8pi_z_sol_rh_int_ph = []\n",
    "for i in range(n_layers):\n",
    "    D2_8pi_z_sol_rh_int_ph += [lambda r, z, a0, i=i: \n",
    "                                  num_int(\n",
    "                                      lambda p : D2_8pi_z_sol_rh[i](r,p,z, a0), \n",
    "                                      0, 2*pi)\n",
    "                                 ]"
   ]
  },
  {
   "cell_type": "raw",
   "metadata": {
    "scrolled": false
   },
   "source": [
    "if E_mode:\n",
    "    print([E2_8pi_z_sol_rh_int_ph [0](rho,0, 1) for rho in [0..int(a_val)]])"
   ]
  },
  {
   "cell_type": "raw",
   "metadata": {},
   "source": [
    "if E_mode:\n",
    "    if 1 < n_layers:\n",
    "        print([E2_8pi_z_sol_rh_int_ph [1](rho,h_sol[2], 1) for rho in [0..int(a_val)]])"
   ]
  },
  {
   "cell_type": "code",
   "execution_count": null,
   "metadata": {
    "scrolled": true
   },
   "outputs": [],
   "source": [
    "plt = sage.plot.graphics.Graphics()\n",
    "\n",
    "f_E2_8pi_sol_rh_int_ph_list = [sum([(epsilon_d[i]-epsilon_d[i+1]) *\n",
    "            (E2_8pi_rho_sol_rh_int_ph[i](rho,h_sol[i+1],1) +\n",
    "             E2_8pi_phi_sol_rh_int_ph[i](rho,h_sol[i+1],1))\n",
    "                                    \n",
    "             + (epsilon_d[i]-epsilon_d[i+1])*(epsilon_d[i]/epsilon_d[i+1]) *\n",
    "            E2_8pi_z_sol_rh_int_ph[i  ](rho,h_sol[i+1], 1)\n",
    "                        for i in range(n_layers - 1)])\n",
    "                               \n",
    "            for rho in [1..int(a_val)] ]\n",
    "\n",
    "plt += list_plot (f_E2_8pi_sol_rh_int_ph_list)\n",
    "plt.show ()"
   ]
  },
  {
   "cell_type": "raw",
   "metadata": {},
   "source": [
    "print(f_E2_8pi_sol_rh_int_ph_list)"
   ]
  },
  {
   "cell_type": "code",
   "execution_count": null,
   "metadata": {},
   "outputs": [],
   "source": [
    "E2_8pi_rho_sol_rh_int_ph_int_rh = []\n",
    "for i in range(n_layers):\n",
    "    E2_8pi_rho_sol_rh_int_ph_int_rh += [lambda rh1, rh2, zz, a0, i=i: \n",
    "                                         num_int(\n",
    "                                             lambda r : E2_8pi_rho_sol_rh_int_ph[i](r,zz,a0),\n",
    "                                             rh1, rh2)\n",
    "                                        ]"
   ]
  },
  {
   "cell_type": "code",
   "execution_count": null,
   "metadata": {},
   "outputs": [],
   "source": [
    "E2_8pi_phi_sol_rh_int_ph_int_rh = []\n",
    "for i in range(n_layers):\n",
    "    E2_8pi_phi_sol_rh_int_ph_int_rh += [lambda rh1, rh2, zz, a0, i=i: \n",
    "                                         num_int(\n",
    "                                             lambda r : E2_8pi_phi_sol_rh_int_ph[i](r,zz,a0),\n",
    "                                             rh1, rh2)\n",
    "                                        ]"
   ]
  },
  {
   "cell_type": "code",
   "execution_count": null,
   "metadata": {},
   "outputs": [],
   "source": [
    "E2_8pi_z_sol_rh_int_ph_int_rh = []\n",
    "for i in range(n_layers):\n",
    "    E2_8pi_z_sol_rh_int_ph_int_rh += [lambda rh1, rh2, zz, a0, i=i: \n",
    "                                         num_int(\n",
    "                                             lambda r : E2_8pi_z_sol_rh_int_ph[i](r,zz,a0),\n",
    "                                             rh1, rh2)\n",
    "                                        ]"
   ]
  },
  {
   "cell_type": "code",
   "execution_count": null,
   "metadata": {},
   "outputs": [],
   "source": [
    "D2_8pi_z_sol_rh_int_ph_int_rh = []\n",
    "for i in range(n_layers):\n",
    "    D2_8pi_z_sol_rh_int_ph_int_rh += [lambda rh1, rh2, zz, a0, i=i: \n",
    "                                         num_int(\n",
    "                                             lambda r : D2_8pi_z_sol_rh_int_ph[i](r,zz,a0),\n",
    "                                             rh1, rh2)\n",
    "                                        ]"
   ]
  },
  {
   "cell_type": "code",
   "execution_count": null,
   "metadata": {
    "scrolled": true
   },
   "outputs": [],
   "source": [
    "# Static and dynamic electricity by William R. Smythe, second edition, 1950\n",
    "# paragraph 18 formula 1.47\n",
    "\n",
    "p_dielectric_surf_rho = []\n",
    "for i in range(n_layers - 1):\n",
    "    p_dielectric_surf_rho += [(epsilon_d[i]-epsilon_d[i+1])*E2_8pi_rho_sol_rh_int_ph_int_rh[i  ](0, a_val, h_sol[i+1], 1)]\n",
    "    #f_dielectric_surf_rho += [(epsilon[i]-epsilon[i+1]).subs(digit_values)*E2_8pi_rho_sol_rh_int_ph_int_rh[i+1](0, a_val,  h_sol[i+1], 1)]"
   ]
  },
  {
   "cell_type": "code",
   "execution_count": null,
   "metadata": {
    "scrolled": true
   },
   "outputs": [],
   "source": [
    "p_dielectric_surf_phi = []\n",
    "for i in range(n_layers - 1):\n",
    "    p_dielectric_surf_phi += [(epsilon_d[i]-epsilon_d[i+1])*E2_8pi_phi_sol_rh_int_ph_int_rh[i  ](0, a_val,  h_sol[i+1], 1)]\n",
    "    #f_dielectric_surf_phi += [(epsilon[i]-epsilon[i+1]).subs(digit_values)*E2_8pi_phi_sol_rh_int_ph_int_rh[i+1](0, a_val,  h_sol[i+1], 1)]"
   ]
  },
  {
   "cell_type": "code",
   "execution_count": null,
   "metadata": {
    "scrolled": true
   },
   "outputs": [],
   "source": [
    "# Static and dynamic electricity by William R. Smythe, second edition, 1950\n",
    "# paragraph 18 formula 1.45\n",
    "\n",
    "#f_dielectric_surf_z = []\n",
    "t_dielectric_surf_z = []\n",
    "for i in range(n_layers - 1):\n",
    "    epsilon_d[i]*E_z_sol[i](rh,ph,z,1)\n",
    "    #f_dielectric_surf_z += [(epsilon_d[i]-epsilon_d[i+1])*(epsilon_d[i]/epsilon_d[i+1])*E2_8pi_z_sol_rh_int_ph_int_rh[i  ](0, a_val,  h_sol[i+1], 1)]\n",
    "    #f_dielectric_surf_z += [(epsilon_d[i]-epsilon_d[i+1])*(epsilon_d[i+1]/epsilon_d[i])*E2_8pi_z_sol_rh_int_ph_int_rh[i+1](0, a_val,  h_sol[i+1], 1)]\n",
    "    \n",
    "    t_dielectric_surf_z += [(1/epsilon_d[i]-1/epsilon_d[i+1])*D2_8pi_z_sol_rh_int_ph_int_rh[i  ](0, a_val,  h_sol[i+1], 1)]"
   ]
  },
  {
   "cell_type": "code",
   "execution_count": null,
   "metadata": {},
   "outputs": [],
   "source": [
    "# Static and dynamic electricity by William R. Smythe, second edition, 1950\n",
    "# paragraph 18 formula 1.45\n",
    "\n",
    "# The tension produced by normal components of E (beetween metal and dielectric).\n",
    "# assuming epsilon for metals =Infinity\n",
    "# Does it really exists?\n",
    "\n",
    "t_metal_dielectric_z = (0.0                     - 1/epsilon_d[0]) * D2_8pi_z_sol_rh_int_ph_int_rh[0](0, a_val, h_sol[0],1)\n",
    "t_dielectric_metal_z = (1/epsilon_d[n_layers-1] - 0.0           ) * D2_8pi_z_sol_rh_int_ph_int_rh[n_layers - 1](0, a_val, b_sol,1)"
   ]
  },
  {
   "cell_type": "code",
   "execution_count": null,
   "metadata": {},
   "outputs": [],
   "source": [
    "if E_mode:\n",
    "    print(E2_8pi_z_sol_rh_int_ph_int_rh[0](0, a_val, 0, 1))\n",
    "    print(E2_8pi_z_sol_rh_int_ph_int_rh[0](0, a_val, h_sol[1], 1))"
   ]
  },
  {
   "cell_type": "code",
   "execution_count": null,
   "metadata": {},
   "outputs": [],
   "source": [
    "if E_mode:\n",
    "    if 1 < n_layers:\n",
    "        print(E2_8pi_z_sol_rh_int_ph_int_rh[1](0, a_val, h_sol[1], 1))\n",
    "        print(E2_8pi_z_sol_rh_int_ph_int_rh[1](0, a_val, h_sol[2], 1))"
   ]
  },
  {
   "cell_type": "code",
   "execution_count": null,
   "metadata": {},
   "outputs": [],
   "source": [
    "E2_8pi_rho_sol_rh_int_ph_int_rh_int_z = []\n",
    "for i in range(n_layers):\n",
    "    E2_8pi_rho_sol_rh_int_ph_int_rh_int_z += [lambda rh1, rh2, z1, z2, a0, i=i: \n",
    "                                         num_int(\n",
    "                                             lambda zz : E2_8pi_rho_sol_rh_int_ph_int_rh[i](rh1, rh2, zz, a0),\n",
    "                                             z1, z2)\n",
    "                                        ]"
   ]
  },
  {
   "cell_type": "code",
   "execution_count": null,
   "metadata": {},
   "outputs": [],
   "source": [
    "E2_8pi_phi_sol_rh_int_ph_int_rh_int_z = []\n",
    "for i in range(n_layers):\n",
    "    E2_8pi_phi_sol_rh_int_ph_int_rh_int_z += [lambda rh1, rh2, z1, z2, a0, i=i: \n",
    "                                         num_int(\n",
    "                                             lambda zz : E2_8pi_phi_sol_rh_int_ph_int_rh[i](rh1, rh2, zz, a0),\n",
    "                                             z1, z2)\n",
    "                                        ]"
   ]
  },
  {
   "cell_type": "code",
   "execution_count": null,
   "metadata": {},
   "outputs": [],
   "source": [
    "E2_8pi_z_sol_rh_int_ph_int_rh_int_z = []\n",
    "for i in range(n_layers):\n",
    "    E2_8pi_z_sol_rh_int_ph_int_rh_int_z += [lambda rh1, rh2, z1, z2, a0, i=i: \n",
    "                                         num_int(\n",
    "                                             lambda zz : E2_8pi_z_sol_rh_int_ph_int_rh[i](rh1, rh2, zz, a0),\n",
    "                                             z1, z2)\n",
    "                                        ]"
   ]
  },
  {
   "cell_type": "code",
   "execution_count": null,
   "metadata": {},
   "outputs": [],
   "source": []
  },
  {
   "cell_type": "code",
   "execution_count": null,
   "metadata": {},
   "outputs": [],
   "source": [
    "H2_8pi_rho_sol = []\n",
    "for i in range(n_layers):\n",
    "    H2_8pi_rho_sol += [lambda r,p,z, a0, i=i: (H2_8pi_rho_s[i](r,p,z))# if r != 0 else H2_8pi_Rho_s[i](r,p,z))\n",
    "                  .subs(digit_values).subs(g_values).subs(epsilon_values)\n",
    "                  .subs(b == b_sol)\n",
    "                  .subs(omega_value)\n",
    "                  .subs(kappa == kappa_d1)\n",
    "                  .subs(c_value)\n",
    "                  .subs(k_values_d)\n",
    "                  .subs(digit_values)\n",
    "                  .subs(amplitude_variable == a0)\n",
    "                 ]"
   ]
  },
  {
   "cell_type": "code",
   "execution_count": null,
   "metadata": {},
   "outputs": [],
   "source": [
    "H2_8pi_phi_sol = []\n",
    "for i in range(n_layers):\n",
    "    H2_8pi_phi_sol += [lambda r,p,z, a0, i=i: H2_8pi_phi_s[i](r,p,z)\n",
    "                  .subs(digit_values).subs(g_values).subs(epsilon_values)\n",
    "                  .subs(b == b_sol)\n",
    "                  .subs(omega_value)\n",
    "                  .subs(kappa == kappa_d1)\n",
    "                  .subs(c_value)\n",
    "                  .subs(k_values_d)\n",
    "                  .subs(digit_values)\n",
    "                  .subs(amplitude_variable == a0)\n",
    "                 ]"
   ]
  },
  {
   "cell_type": "code",
   "execution_count": null,
   "metadata": {},
   "outputs": [],
   "source": [
    "H2_8pi_z_sol = []\n",
    "for i in range(n_layers):\n",
    "    H2_8pi_z_sol += [lambda r,p,z, a0, i=i: H2_8pi_z_s[i](r,p,z)\n",
    "                  .subs(digit_values).subs(g_values).subs(epsilon_values)\n",
    "                  .subs(b == b_sol)\n",
    "                  .subs(omega_value)\n",
    "                  .subs(kappa == kappa_d1)\n",
    "                  .subs(c_value)\n",
    "                  .subs(k_values_d)\n",
    "                  .subs(digit_values)\n",
    "                  .subs(amplitude_variable == a0)\n",
    "                 ]"
   ]
  },
  {
   "cell_type": "code",
   "execution_count": null,
   "metadata": {},
   "outputs": [],
   "source": [
    "H2_8pi_rho_sol[0](rh,ph,z, a0)"
   ]
  },
  {
   "cell_type": "code",
   "execution_count": null,
   "metadata": {},
   "outputs": [],
   "source": [
    "H2_8pi_rho_sol[0](1,ph,z, a0)"
   ]
  },
  {
   "cell_type": "code",
   "execution_count": null,
   "metadata": {},
   "outputs": [],
   "source": [
    "H2_8pi_phi_sol[0](rh,ph,z, a0)"
   ]
  },
  {
   "cell_type": "code",
   "execution_count": null,
   "metadata": {},
   "outputs": [],
   "source": [
    "H2_8pi_z_sol[0](rh,ph,z, a0)"
   ]
  },
  {
   "cell_type": "code",
   "execution_count": null,
   "metadata": {},
   "outputs": [],
   "source": [
    "plt = sage.plot.graphics.Graphics()\n",
    "\n",
    "if E_mode:\n",
    "    plt += plot ([- H2_8pi_phi_sol[0](rh,ph,0,1).subs(ph == phi) + H2_8pi_phi_sol[n_layers - 1](rh,ph,b_sol,1).subs(ph == phi) for phi in [0 .. 2*pi]],(rh, 0, a_val))\n",
    "else:\n",
    "    plt += plot ([- H2_8pi_phi_sol[0](rh,ph,0,1).subs(ph == phi) + H2_8pi_phi_sol[n_layers - 1](rh,ph,b_sol,1).subs(ph == phi) for phi in [0 .. 2*pi]],(rh, 0, a_val))\n",
    "        \n",
    "plt.show ()"
   ]
  },
  {
   "cell_type": "markdown",
   "metadata": {},
   "source": [
    "The force produced by tangential components of H (beetween metal and dielectric)"
   ]
  },
  {
   "cell_type": "code",
   "execution_count": null,
   "metadata": {},
   "outputs": [],
   "source": [
    "plt = sage.plot.graphics.Graphics()\n",
    "\n",
    "plt += plot ([\n",
    "            ((H2_8pi_rho_sol[n_layers - 1](rh,ph,b_sol,1) + \n",
    "             H2_8pi_phi_sol[n_layers - 1](rh,ph,b_sol,1) +\n",
    "             H2_8pi_z_sol  [n_layers - 1](rh,ph,b_sol,1) )\n",
    "            -\n",
    "            (H2_8pi_rho_sol[0](rh,ph,0,1) + \n",
    "             H2_8pi_phi_sol[0](rh,ph,0,1) +\n",
    "             H2_8pi_z_sol  [0](rh,ph,0,1) ))\n",
    "\n",
    "            for ph in phi_arr],(rh, 0, a_val))\n",
    "plt.show ()"
   ]
  },
  {
   "cell_type": "markdown",
   "metadata": {},
   "source": [
    "The pressure produced by tangential components of E (beetween dielectrics)"
   ]
  },
  {
   "cell_type": "code",
   "execution_count": null,
   "metadata": {},
   "outputs": [],
   "source": [
    "operand_denominatorplt = sage.plot.graphics.Graphics()\n",
    "\n",
    "plt += plot ([sum([(epsilon_d[i]-epsilon_d[i+1]) *    #\n",
    "            (E2_8pi_rho_sol[i](rh,ph,h_sol[i+1],1) +  # p_dielectric_surf_rho\n",
    "             E2_8pi_phi_sol[i](rh,ph,h_sol[i+1],1) )  # p_dielectric_surf_phi\n",
    "\n",
    "            for i in range(n_layers - 1)]) for ph in phi_arr],(rh, 0, a_val))\n",
    "plt.show ()"
   ]
  },
  {
   "cell_type": "markdown",
   "metadata": {},
   "source": [
    "The pressures produced by tangential components of H (between metal and dielectric) and E (between dielectrics) seems like compensate each other"
   ]
  },
  {
   "cell_type": "code",
   "execution_count": null,
   "metadata": {},
   "outputs": [],
   "source": [
    "plt = sage.plot.graphics.Graphics()\n",
    "\n",
    "plt += plot ([\n",
    "            ((H2_8pi_rho_sol[n_layers - 1](rh,ph,b_sol,1) + \n",
    "             H2_8pi_phi_sol[n_layers - 1](rh,ph,b_sol,1) +\n",
    "             H2_8pi_z_sol  [n_layers - 1](rh,ph,b_sol,1) )\n",
    "            -\n",
    "            (H2_8pi_rho_sol[0](rh,ph,0,1) + \n",
    "             H2_8pi_phi_sol[0](rh,ph,0,1) +\n",
    "             H2_8pi_z_sol  [0](rh,ph,0,1) )\n",
    "            +\n",
    "            sum([(epsilon_d[i]-epsilon_d[i+1]) * \n",
    "            (E2_8pi_rho_sol[i](rh,ph,h_sol[i+1],1) + \n",
    "             E2_8pi_phi_sol[i](rh,ph,h_sol[i+1],1) )\n",
    "            for i in range(n_layers - 1)]))\n",
    "            for ph in [0]],(rh, 0, a_val))\n",
    "plt.show ()"
   ]
  },
  {
   "cell_type": "code",
   "execution_count": null,
   "metadata": {},
   "outputs": [],
   "source": [
    "[\n",
    "    ((H2_8pi_rho_sol[n_layers - 1](rh,ph,b_sol,1) + \n",
    "     H2_8pi_phi_sol[n_layers - 1](rh,ph,b_sol,1) +\n",
    "     H2_8pi_z_sol  [n_layers - 1](rh,ph,b_sol,1) )\n",
    "    -\n",
    "    (H2_8pi_rho_sol[0](rh,ph,0,1) + \n",
    "     H2_8pi_phi_sol[0](rh,ph,0,1) +\n",
    "     H2_8pi_z_sol  [0](rh,ph,0,1) )\n",
    "    +\n",
    "    sum([(epsilon_d[i]-epsilon_d[i+1]) * \n",
    "    (E2_8pi_rho_sol[i](rh,ph,h_sol[i+1],1) + \n",
    "     E2_8pi_phi_sol[i](rh,ph,h_sol[i+1],1) )\n",
    "    for i in range(n_layers - 1)])).n()\n",
    "\n",
    "    for ph in [0] for rh in [1..a_val]]"
   ]
  },
  {
   "cell_type": "markdown",
   "metadata": {},
   "source": [
    "The pressure produced by tangential components of E (beetween metal and dielectric). Does it really exists?"
   ]
  },
  {
   "cell_type": "code",
   "execution_count": null,
   "metadata": {},
   "outputs": [],
   "source": [
    "plt = sage.plot.graphics.Graphics()\n",
    "\n",
    "plt += plot ([(1.0-epsilon_d[0]) * \n",
    "            (E2_8pi_rho_sol[0](rh,ph,h_sol[0],1) + \n",
    "             E2_8pi_phi_sol[0](rh,ph,h_sol[0],1)\n",
    "            ) for ph in phi_arr],(rh, 0, a_val))\n",
    "\n",
    "plt += plot ([(epsilon_d[n_layers - 1] - 1.0) * \n",
    "            (E2_8pi_rho_sol[n_layers - 1](rh,ph,b_sol,1) + \n",
    "             E2_8pi_phi_sol[n_layers - 1](rh,ph,b_sol,1)\n",
    "            ) for ph in phi_arr],(rh, 0, a_val))\n",
    "plt.show ()"
   ]
  },
  {
   "cell_type": "markdown",
   "metadata": {},
   "source": [
    "The tension produced by normal components of E (beetween metal and dielectric).\n",
    "\n",
    "Static and dynamic electricity by William R. Smythe, second edition, 1950\n",
    "paragraph 18 formula 1.45\n",
    "\n",
    "assuming epsilon for metalls = Infinity"
   ]
  },
  {
   "cell_type": "code",
   "execution_count": null,
   "metadata": {},
   "outputs": [],
   "source": [
    "plt = sage.plot.graphics.Graphics()\n",
    "\n",
    "plt += plot ([(0.0-1/epsilon_d[0]) * D2_8pi_z_sol[0](rh,ph,h_sol[0],1)\n",
    "              for ph in phi_arr],(rh, 0, a_val), color=\"red\")\n",
    "plt += plot ([(1/epsilon_d[n_layers-1]-0.0) * D2_8pi_z_sol[n_layers-1](rh,ph,b_sol,1)\n",
    "              for ph in phi_arr],(rh, 0, a_val), color = \"green\")\n",
    "plt.show ()"
   ]
  },
  {
   "cell_type": "code",
   "execution_count": null,
   "metadata": {},
   "outputs": [],
   "source": [
    "plt = sage.plot.graphics.Graphics()\n",
    "\n",
    "plt += plot ([(+(0.0-1/epsilon_d[0]) * D2_8pi_z_sol[0](rh,ph,h_sol[0],1)\n",
    "               +(1/epsilon_d[n_layers-1]-0.0) * D2_8pi_z_sol[n_layers-1](rh,ph,b_sol,1))\n",
    "              for ph in phi_arr],(rh, 0, a_val), color = \"green\")\n",
    "plt.show ()"
   ]
  },
  {
   "cell_type": "markdown",
   "metadata": {},
   "source": [
    "The tension produced by normal component of E (beetween dielectrics)"
   ]
  },
  {
   "cell_type": "code",
   "execution_count": null,
   "metadata": {},
   "outputs": [],
   "source": [
    "plt = sage.plot.graphics.Graphics()\n",
    "\n",
    "plt += plot ([sum([\n",
    "            # f_dielectric_surf_z                   \n",
    "            # Static and dynamic electricity by William R. Smythe, second edition, 1950\n",
    "            # paragraph 18 formula 1.45\n",
    "            (epsilon_d[i]-epsilon_d[i+1])*(epsilon_d[i]/epsilon_d[i+1]) *\n",
    "             E2_8pi_z_sol  [i](rh,ph,h_sol[i+1], 1)\n",
    "\n",
    "            for i in range(n_layers - 1)]) for ph in phi_arr],(rh, 0, a_val))\n",
    "plt.show ()"
   ]
  },
  {
   "cell_type": "code",
   "execution_count": null,
   "metadata": {},
   "outputs": [],
   "source": [
    "plt = sage.plot.graphics.Graphics()\n",
    "\n",
    "plt += plot ([sum([\n",
    "            # f_dielectric_surf_z                   \n",
    "            # Static and dynamic electricity by William R. Smythe, second edition, 1950\n",
    "            # paragraph 18 formula 1.45\n",
    "            (1/epsilon_d[i]-1/epsilon_d[i+1]) * D2_8pi_z_sol  [i](rh,ph,h_sol[i+1], 1)\n",
    "\n",
    "            for i in range(n_layers - 1)]) for ph in phi_arr],(rh, 0, a_val))\n",
    "plt.show ()"
   ]
  },
  {
   "cell_type": "code",
   "execution_count": null,
   "metadata": {},
   "outputs": [],
   "source": [
    "[sum([\n",
    "    # f_dielectric_surf_z                   \n",
    "    +  # Static and dynamic electricity by William R. Smythe, second edition, 1950\n",
    "       # paragraph 18 formula 1.45\n",
    "    (epsilon_d[i]-epsilon_d[i+1])*(epsilon_d[i]/epsilon_d[i+1]) *\n",
    "     E2_8pi_z_sol  [i](rh,ph,h_sol[i+1], 1)\n",
    "\n",
    "    for i in range(n_layers - 1)]) for ph in [0] for rh in [0..a_val]]"
   ]
  },
  {
   "cell_type": "markdown",
   "metadata": {},
   "source": [
    "The tension produced by normal components of E (beetween metal and dielectric) + The tension produced by normal component of E (beetween dielectrics)"
   ]
  },
  {
   "cell_type": "code",
   "execution_count": null,
   "metadata": {},
   "outputs": [],
   "source": [
    "plt = sage.plot.graphics.Graphics()\n",
    "\n",
    "plt += plot ([( + (0.0-1/epsilon_d[0]) * D2_8pi_z_sol[0](rh,ph,h_sol[0],1)\n",
    "                + (1/epsilon_d[n_layers-1]-0.0) * D2_8pi_z_sol[n_layers-1](rh,ph,b_sol,1)\n",
    "                + sum([\n",
    "                # f_dielectric_surf_z                   \n",
    "                # Static and dynamic electricity by William R. Smythe, second edition, 1950\n",
    "                # paragraph 18 formula 1.45\n",
    "                + (1/epsilon_d[i]-1/epsilon_d[i+1]) * D2_8pi_z_sol  [i](rh,ph,h_sol[i+1], 1)\n",
    "                for i in range(n_layers - 1)])\n",
    "                )\n",
    "\n",
    "              for ph in phi_arr],(rh, 0, a_val), color = \"green\")\n",
    "plt.show ()"
   ]
  },
  {
   "cell_type": "code",
   "execution_count": null,
   "metadata": {},
   "outputs": [],
   "source": [
    "[( + (0.0-1/epsilon_d[0]) * D2_8pi_z_sol[0](rh,ph,h_sol[0],1)\n",
    "                + (1/epsilon_d[n_layers-1]-0.0) * D2_8pi_z_sol[n_layers-1](rh,ph,b_sol,1)\n",
    "                + sum([\n",
    "                # f_dielectric_surf_z                   \n",
    "                # Static and dynamic electricity by William R. Smythe, second edition, 1950\n",
    "                # paragraph 18 formula 1.45\n",
    "                + (1/epsilon_d[i]-1/epsilon_d[i+1]) * D2_8pi_z_sol  [i](rh,ph,h_sol[i+1], 1)\n",
    "                for i in range(n_layers - 1)])).n()\n",
    "              for ph in [0] for rh in [0..a_val]]"
   ]
  },
  {
   "cell_type": "markdown",
   "metadata": {},
   "source": [
    "The force produced by tangential and normal components of E (beetween dielectrics) "
   ]
  },
  {
   "cell_type": "code",
   "execution_count": null,
   "metadata": {},
   "outputs": [],
   "source": [
    "plt = sage.plot.graphics.Graphics()\n",
    "\n",
    "plt += plot ([sum([\n",
    "            # Static and dynamic electricity by William R. Smythe, second edition, 1950\n",
    "            # paragraph 18 formula 1.47\n",
    "            (epsilon_d[i]-epsilon_d[i+1]) *    #\n",
    "            (E2_8pi_rho_sol[i](rh,ph,h_sol[i+1],1)  # f_dielectric_surf_rho\n",
    "             +(E2_8pi_phi_sol[i](rh,ph,h_sol[i+1],1)) )  # f_dielectric_surf_phi\n",
    "                                                      # f_dielectric_surf_z                   \n",
    "            # Static and dynamic electricity by William R. Smythe, second edition, 1950\n",
    "            # paragraph 18 formula 1.45\n",
    "            +(epsilon_d[i]-epsilon_d[i+1])*(epsilon_d[i]/epsilon_d[i+1]) *\n",
    "             E2_8pi_z_sol  [i](rh,ph,h_sol[i+1], 1)\n",
    "\n",
    "            for i in range(n_layers - 1)]) for ph in phi_arr],(rh, 0, a_val))\n",
    "plt += plot(0, (rh, 0, a_val))\n",
    "plt.show ()"
   ]
  },
  {
   "cell_type": "code",
   "execution_count": null,
   "metadata": {},
   "outputs": [],
   "source": [
    "[(rh, sum([\n",
    "    # Static and dynamic electricity by William R. Smythe, second edition, 1950\n",
    "    # paragraph 18 formula 1.47\n",
    "    (epsilon_d[i]-epsilon_d[i+1]) *    #\n",
    "    (E2_8pi_rho_sol[i](rh,ph,h_sol[i+1],1)   # f_dielectric_surf_rho\n",
    "    +(E2_8pi_phi_sol[i](rh,ph,h_sol[i+1],1) if 0 == rh else E2_8pi_phi_sol[i](rh,ph,h_sol[i+1],1) ))  # f_dielectric_surf_phi\n",
    "                                              # f_dielectric_surf_z                   \n",
    "    +  # Static and dynamic electricity by William R. Smythe, second edition, 1950\n",
    "       # paragraph 18 formula 1.45\n",
    "    (epsilon_d[i]-epsilon_d[i+1])*(epsilon_d[i]/epsilon_d[i+1]) *\n",
    "     E2_8pi_z_sol  [i](rh,ph,h_sol[i+1], 1)\n",
    "\n",
    "    for i in range(n_layers - 1)])) for ph in [0] for rh in [1.. a_val]]"
   ]
  },
  {
   "cell_type": "code",
   "execution_count": null,
   "metadata": {},
   "outputs": [],
   "source": [
    "[(rh, sum([\n",
    "    # Static and dynamic electricity by William R. Smythe, second edition, 1950\n",
    "    # paragraph 18 formula 1.47\n",
    "    (epsilon_d[i]-epsilon_d[i+1]) *    #\n",
    "    (E2_8pi_rho_sol[i](rh,ph,h_sol[i+1],1)  # f_dielectric_surf_rho\n",
    "    +(E2_8pi_phi_sol[i](rh,ph,h_sol[i+1],1) if 0 == rh else E2_8pi_phi_sol[i](rh,ph,h_sol[i+1],1)) )  # f_dielectric_surf_phi\n",
    "\n",
    "    for i in range(n_layers - 1)])) for ph in [0] for rh in [1.. a_val]]"
   ]
  },
  {
   "cell_type": "markdown",
   "metadata": {},
   "source": [
    "The summaric force produced\n",
    "by tangential components of H (beetween metal and dielectric)\n",
    "and\n",
    "by tangential and normal components of E (beetween dielectrics) "
   ]
  },
  {
   "cell_type": "code",
   "execution_count": null,
   "metadata": {},
   "outputs": [],
   "source": [
    "plt = sage.plot.graphics.Graphics()\n",
    "\n",
    "plt += plot ([\n",
    "            ((H2_8pi_rho_sol[n_layers - 1](rh,ph,b_sol,1) + \n",
    "             H2_8pi_phi_sol[n_layers - 1](rh,ph,b_sol,1) +\n",
    "             H2_8pi_z_sol  [n_layers - 1](rh,ph,b_sol,1) )\n",
    "            -\n",
    "            (H2_8pi_rho_sol[0](rh,ph,0,1) + \n",
    "             H2_8pi_phi_sol[0](rh,ph,0,1) +\n",
    "             H2_8pi_z_sol  [0](rh,ph,0,1) )\n",
    "            +\n",
    "            sum([(epsilon_d[i]-epsilon_d[i+1]) * \n",
    "            (E2_8pi_rho_sol[i](rh,ph,h_sol[i+1],1) + \n",
    "             E2_8pi_phi_sol[i](rh,ph,h_sol[i+1],1) )\n",
    "\n",
    "            # f_dielectric_surf_z                   \n",
    "            +  # Static and dynamic electricity by William R. Smythe, second edition, 1950\n",
    "               # paragraph 18 formula 1.45\n",
    "            (epsilon_d[i]-epsilon_d[i+1])*(epsilon_d[i]/epsilon_d[i+1]) *\n",
    "             E2_8pi_z_sol  [i](rh,ph,h_sol[i+1], 1)\n",
    "\n",
    "            for i in range(n_layers - 1)]))\n",
    "\n",
    "            for ph in phi_arr],(rh, 0, a_val))\n",
    "plt.show ()"
   ]
  },
  {
   "cell_type": "code",
   "execution_count": null,
   "metadata": {},
   "outputs": [],
   "source": [
    "H2_8pi_rho_sol_rh = []\n",
    "for i in range(n_layers):\n",
    "    H2_8pi_rho_sol_rh += [lambda r,p,z, a0, i=i: H2_8pi_rho_sol[i](r,p,z, a0) * r]"
   ]
  },
  {
   "cell_type": "code",
   "execution_count": null,
   "metadata": {},
   "outputs": [],
   "source": [
    "H2_8pi_phi_sol_rh = []\n",
    "for i in range(n_layers):\n",
    "    H2_8pi_phi_sol_rh += [lambda r,p,z, a0, i=i: H2_8pi_phi_sol[i](r,p,z, a0) * r]"
   ]
  },
  {
   "cell_type": "code",
   "execution_count": null,
   "metadata": {},
   "outputs": [],
   "source": [
    "H2_8pi_z_sol_rh = []\n",
    "for i in range(n_layers):\n",
    "    H2_8pi_z_sol_rh += [lambda r,p,z, a0, i=i: H2_8pi_z_sol[i](r,p,z, a0) * r]"
   ]
  },
  {
   "cell_type": "code",
   "execution_count": null,
   "metadata": {},
   "outputs": [],
   "source": [
    "H2_8pi_rho_sol_rh[0](rh,ph,z,1)"
   ]
  },
  {
   "cell_type": "code",
   "execution_count": null,
   "metadata": {},
   "outputs": [],
   "source": [
    "H2_8pi_phi_sol_rh[0](rh,ph,z,1)"
   ]
  },
  {
   "cell_type": "code",
   "execution_count": null,
   "metadata": {},
   "outputs": [],
   "source": [
    "H2_8pi_phi_sol_rh[n_layers - 1](rh,ph,z,1)"
   ]
  },
  {
   "cell_type": "code",
   "execution_count": null,
   "metadata": {},
   "outputs": [],
   "source": [
    "H2_8pi_phi_sol_rh[n_layers - 1](rh,ph,0,1) - H2_8pi_phi_sol_rh[0](rh,ph,b_sol,1)"
   ]
  },
  {
   "cell_type": "code",
   "execution_count": null,
   "metadata": {},
   "outputs": [],
   "source": [
    "plot(H2_8pi_phi_sol_rh[n_layers - 1](rh,ph,b_sol,1) - H2_8pi_phi_sol_rh[0](rh,ph,0,1),(rh,0,a_val))"
   ]
  },
  {
   "cell_type": "code",
   "execution_count": null,
   "metadata": {},
   "outputs": [],
   "source": [
    "H2_8pi_z_sol_rh[0](rh,ph,z,1)"
   ]
  },
  {
   "cell_type": "code",
   "execution_count": null,
   "metadata": {},
   "outputs": [],
   "source": [
    "plt = sage.plot.graphics.Graphics()\n",
    "\n",
    "plt += plot ([\n",
    "            ((H2_8pi_rho_sol_rh[n_layers - 1](rh,ph,b_sol,1) + \n",
    "             H2_8pi_phi_sol_rh[n_layers - 1](rh,ph,b_sol,1) +\n",
    "             H2_8pi_z_sol_rh  [n_layers - 1](rh,ph,b_sol,1) )\n",
    "            -\n",
    "            (H2_8pi_rho_sol_rh[0](rh,ph,0,1) + \n",
    "             H2_8pi_phi_sol_rh[0](rh,ph,0,1) +\n",
    "             H2_8pi_z_sol_rh  [0](rh,ph,0,1) )\n",
    "            +\n",
    "            sum([(epsilon_d[i]-epsilon_d[i+1]) * \n",
    "            (E2_8pi_rho_sol_rh[i](rh,ph,h_sol[i+1],1) + \n",
    "             E2_8pi_phi_sol_rh[i](rh,ph,h_sol[i+1],1) )\n",
    "            for i in range(n_layers - 1)]))\n",
    "\n",
    "            for ph in phi_arr],(rh, 0, a_val))\n",
    "plt.show ()"
   ]
  },
  {
   "cell_type": "code",
   "execution_count": null,
   "metadata": {},
   "outputs": [],
   "source": [
    "H2_8pi_rho_sol_rh_int_ph = []\n",
    "for i in range(n_layers):\n",
    "    H2_8pi_rho_sol_rh_int_ph += [lambda r, z, a0, i=i: \n",
    "                                  num_int(\n",
    "                                      lambda p : H2_8pi_rho_sol_rh[i](r,p,z, a0), \n",
    "                                      0, 2*pi)\n",
    "                                 ]"
   ]
  },
  {
   "cell_type": "code",
   "execution_count": null,
   "metadata": {
    "scrolled": true
   },
   "outputs": [],
   "source": [
    "[H2_8pi_rho_sol_rh_int_ph [0](rho,0, 1) for rho in [1..int(a_val)]]"
   ]
  },
  {
   "cell_type": "code",
   "execution_count": null,
   "metadata": {
    "scrolled": true
   },
   "outputs": [],
   "source": [
    "if 1 < n_layers:\n",
    "    print([H2_8pi_rho_sol_rh_int_ph [1](rho,h_sol[2], 1) for rho in [1..int(a_val)]])"
   ]
  },
  {
   "cell_type": "code",
   "execution_count": null,
   "metadata": {},
   "outputs": [],
   "source": [
    "H2_8pi_phi_sol_rh_int_ph = []\n",
    "for i in range(n_layers):\n",
    "    H2_8pi_phi_sol_rh_int_ph += [lambda r, z, a0, i=i: \n",
    "                                  num_int(\n",
    "                                      lambda p : H2_8pi_phi_sol_rh[i](r,p,z, a0), \n",
    "                                      0, 2*pi)\n",
    "                                 ]"
   ]
  },
  {
   "cell_type": "code",
   "execution_count": null,
   "metadata": {
    "scrolled": true
   },
   "outputs": [],
   "source": [
    "[H2_8pi_phi_sol_rh_int_ph [0](rho,0, 1) for rho in [0..int(a_val)]]"
   ]
  },
  {
   "cell_type": "code",
   "execution_count": null,
   "metadata": {
    "scrolled": true
   },
   "outputs": [],
   "source": [
    "if 1 < n_layers:\n",
    "    print([H2_8pi_phi_sol_rh_int_ph [1](rho,h_sol[2], 1) for rho in [0..int(a_val)]])"
   ]
  },
  {
   "cell_type": "code",
   "execution_count": null,
   "metadata": {},
   "outputs": [],
   "source": [
    "H2_8pi_z_sol_rh_int_ph = []\n",
    "for i in range(n_layers):\n",
    "    H2_8pi_z_sol_rh_int_ph += [lambda r, z, a0, i=i: \n",
    "                                  num_int(\n",
    "                                      lambda p : H2_8pi_z_sol_rh[i](r,p,z, a0), \n",
    "                                      0, 2*pi)\n",
    "                                 ]"
   ]
  },
  {
   "cell_type": "code",
   "execution_count": null,
   "metadata": {
    "scrolled": false
   },
   "outputs": [],
   "source": [
    "[H2_8pi_z_sol_rh_int_ph [0](rho,0, 1) for rho in [0..int(a_val)]]"
   ]
  },
  {
   "cell_type": "code",
   "execution_count": null,
   "metadata": {},
   "outputs": [],
   "source": [
    "if 1 < n_layers:\n",
    "    print([H2_8pi_z_sol_rh_int_ph [1](rho,h_sol[2], 1) for rho in [0..int(a_val)]])"
   ]
  },
  {
   "cell_type": "code",
   "execution_count": null,
   "metadata": {
    "scrolled": true
   },
   "outputs": [],
   "source": [
    "plt = sage.plot.graphics.Graphics()\n",
    "\n",
    "plt += list_plot ([\n",
    "    ((H2_8pi_rho_sol_rh_int_ph[n_layers - 1](rho,b_sol,1) + \n",
    "     H2_8pi_phi_sol_rh_int_ph[n_layers - 1](rho,b_sol,1) +\n",
    "     H2_8pi_z_sol_rh_int_ph  [n_layers - 1](rho,b_sol,1) )\n",
    "    -\n",
    "    (H2_8pi_rho_sol_rh_int_ph[0](rho,0,1) + \n",
    "     H2_8pi_phi_sol_rh_int_ph[0](rho,0,1) +\n",
    "     H2_8pi_z_sol_rh_int_ph  [0](rho,0,1) )\n",
    "    +\n",
    "    sum([(epsilon_d[i]-epsilon_d[i+1]) * \n",
    "    (E2_8pi_rho_sol_rh_int_ph[i](rho,h_sol[i+1],1) + \n",
    "     E2_8pi_phi_sol_rh_int_ph[i](rho,h_sol[i+1],1) ) for i in range(n_layers - 1)]))\n",
    "    for rho in [1..int(a_val)] ])\n",
    "plt.show ()"
   ]
  },
  {
   "cell_type": "code",
   "execution_count": null,
   "metadata": {},
   "outputs": [],
   "source": [
    "H2_8pi_rho_sol_rh_int_ph_int_rh = []\n",
    "for i in range(n_layers):\n",
    "    H2_8pi_rho_sol_rh_int_ph_int_rh += [lambda rh1, rh2, zz, a0, i=i: \n",
    "                                         num_int(\n",
    "                                             lambda r : H2_8pi_rho_sol_rh_int_ph[i](r,zz,a0),\n",
    "                                             rh1, rh2)\n",
    "                                        ]"
   ]
  },
  {
   "cell_type": "code",
   "execution_count": null,
   "metadata": {},
   "outputs": [],
   "source": [
    "H2_8pi_phi_sol_rh_int_ph_int_rh = []\n",
    "for i in range(n_layers):\n",
    "    H2_8pi_phi_sol_rh_int_ph_int_rh += [lambda rh1, rh2, zz, a0, i=i: \n",
    "                                         num_int(\n",
    "                                             lambda r : H2_8pi_phi_sol_rh_int_ph[i](r,zz,a0),\n",
    "                                             rh1, rh2)\n",
    "                                        ]"
   ]
  },
  {
   "cell_type": "code",
   "execution_count": null,
   "metadata": {},
   "outputs": [],
   "source": [
    "H2_8pi_z_sol_rh_int_ph_int_rh = []\n",
    "for i in range(n_layers):\n",
    "    H2_8pi_z_sol_rh_int_ph_int_rh += [lambda rh1, rh2, zz, a0, i=i: \n",
    "                                         num_int(\n",
    "                                             lambda r : H2_8pi_z_sol_rh_int_ph[i](r,zz,a0),\n",
    "                                             rh1, rh2)\n",
    "                                        ]"
   ]
  },
  {
   "cell_type": "code",
   "execution_count": null,
   "metadata": {
    "scrolled": true
   },
   "outputs": [],
   "source": [
    "f_surf_0_rho = H2_8pi_rho_sol_rh_int_ph_int_rh[0](0, a_val, 0, 1)\n",
    "f_surf_0_rho"
   ]
  },
  {
   "cell_type": "code",
   "execution_count": null,
   "metadata": {
    "scrolled": true
   },
   "outputs": [],
   "source": [
    "f_surf_0_phi = H2_8pi_phi_sol_rh_int_ph_int_rh[0](0, a_val, 0, 1)\n",
    "f_surf_0_phi"
   ]
  },
  {
   "cell_type": "code",
   "execution_count": null,
   "metadata": {
    "scrolled": true
   },
   "outputs": [],
   "source": [
    "f_surf_0_z   = H2_8pi_z_sol_rh_int_ph_int_rh[0](0, a_val, 0, 1)\n",
    "f_surf_0_z"
   ]
  },
  {
   "cell_type": "code",
   "execution_count": null,
   "metadata": {},
   "outputs": [],
   "source": [
    "f_surf_1_rho = H2_8pi_rho_sol_rh_int_ph_int_rh[n_layers - 1](0, a_val, b_sol, 1)\n",
    "f_surf_1_rho"
   ]
  },
  {
   "cell_type": "code",
   "execution_count": null,
   "metadata": {},
   "outputs": [],
   "source": [
    "f_surf_1_phi = H2_8pi_phi_sol_rh_int_ph_int_rh[n_layers - 1](0, a_val, b_sol, 1)\n",
    "f_surf_1_phi"
   ]
  },
  {
   "cell_type": "code",
   "execution_count": null,
   "metadata": {},
   "outputs": [],
   "source": [
    "f_surf_1_z   = H2_8pi_z_sol_rh_int_ph_int_rh[n_layers - 1](0, a_val, b_sol, 1)\n",
    "f_surf_1_z"
   ]
  },
  {
   "cell_type": "code",
   "execution_count": null,
   "metadata": {},
   "outputs": [],
   "source": []
  },
  {
   "cell_type": "code",
   "execution_count": null,
   "metadata": {},
   "outputs": [],
   "source": []
  },
  {
   "cell_type": "code",
   "execution_count": null,
   "metadata": {},
   "outputs": [],
   "source": [
    "surf_f_z = - (f_surf_0_rho + f_surf_0_phi + f_surf_0_z) + (f_surf_1_rho + f_surf_1_phi + f_surf_1_z)"
   ]
  },
  {
   "cell_type": "code",
   "execution_count": null,
   "metadata": {
    "scrolled": true
   },
   "outputs": [],
   "source": [
    "surf_f_z"
   ]
  },
  {
   "cell_type": "code",
   "execution_count": null,
   "metadata": {},
   "outputs": [],
   "source": [
    "p_dielectric_surf_rho"
   ]
  },
  {
   "cell_type": "code",
   "execution_count": null,
   "metadata": {},
   "outputs": [],
   "source": [
    "p_dielectric_surf_phi"
   ]
  },
  {
   "cell_type": "code",
   "execution_count": null,
   "metadata": {},
   "outputs": [],
   "source": [
    "t_dielectric_surf_z"
   ]
  },
  {
   "cell_type": "code",
   "execution_count": null,
   "metadata": {},
   "outputs": [],
   "source": [
    "t_metal_dielectric_z"
   ]
  },
  {
   "cell_type": "code",
   "execution_count": null,
   "metadata": {},
   "outputs": [],
   "source": [
    "t_dielectric_metal_z"
   ]
  },
  {
   "cell_type": "markdown",
   "metadata": {},
   "source": [
    "The pressure produced by tangential components of E (between dielectrics)"
   ]
  },
  {
   "cell_type": "code",
   "execution_count": null,
   "metadata": {},
   "outputs": [],
   "source": [
    "p_dielectric_surf = 0\n",
    "for i in range(n_layers - 1):\n",
    "    p_dielectric_surf += p_dielectric_surf_rho[i] + p_dielectric_surf_phi[i]\n",
    "    \n",
    "print(p_dielectric_surf)"
   ]
  },
  {
   "cell_type": "markdown",
   "metadata": {},
   "source": [
    "The pressures produced by tangential components of H (between metal and dielectric) and E (between dielectrics) seems like compensate each other"
   ]
  },
  {
   "cell_type": "code",
   "execution_count": null,
   "metadata": {},
   "outputs": [],
   "source": [
    "sum_surf_f_z = surf_f_z + p_dielectric_surf\n",
    "print(sum_surf_f_z)"
   ]
  },
  {
   "cell_type": "code",
   "execution_count": null,
   "metadata": {},
   "outputs": [],
   "source": [
    "sum_t_dielectric_surf_z = 0\n",
    "for i in range(n_layers - 1):\n",
    "    sum_t_dielectric_surf_z += t_dielectric_surf_z[i]\n",
    "    \n",
    "print(sum_t_dielectric_surf_z)"
   ]
  },
  {
   "cell_type": "code",
   "execution_count": null,
   "metadata": {},
   "outputs": [],
   "source": [
    "sum_surf_f_z = surf_f_z + sum_t_dielectric_surf_z"
   ]
  },
  {
   "cell_type": "code",
   "execution_count": null,
   "metadata": {},
   "outputs": [],
   "source": [
    "sum_surf_f_z"
   ]
  },
  {
   "cell_type": "code",
   "execution_count": null,
   "metadata": {},
   "outputs": [],
   "source": [
    "H2_8pi_rho_sol_rh_int_ph_int_rh_int_z = []\n",
    "for i in range(n_layers):\n",
    "    H2_8pi_rho_sol_rh_int_ph_int_rh_int_z += [lambda rh1, rh2, z1, z2, a0, i=i: \n",
    "                                         num_int(\n",
    "                                             lambda zz : H2_8pi_rho_sol_rh_int_ph_int_rh[i](rh1, rh2, zz, a0),\n",
    "                                             z1, z2)\n",
    "                                        ]"
   ]
  },
  {
   "cell_type": "code",
   "execution_count": null,
   "metadata": {},
   "outputs": [],
   "source": [
    "H2_8pi_phi_sol_rh_int_ph_int_rh_int_z = []\n",
    "for i in range(n_layers):\n",
    "    H2_8pi_phi_sol_rh_int_ph_int_rh_int_z += [lambda rh1, rh2, z1, z2, a0, i=i: \n",
    "                                         num_int(\n",
    "                                             lambda zz : H2_8pi_phi_sol_rh_int_ph_int_rh[i](rh1, rh2, zz, a0),\n",
    "                                             z1, z2)\n",
    "                                        ]"
   ]
  },
  {
   "cell_type": "code",
   "execution_count": null,
   "metadata": {},
   "outputs": [],
   "source": [
    "H2_8pi_z_sol_rh_int_ph_int_rh_int_z = []\n",
    "for i in range(n_layers):\n",
    "    H2_8pi_z_sol_rh_int_ph_int_rh_int_z += [lambda rh1, rh2, z1, z2, a0, i=i: \n",
    "                                         num_int(\n",
    "                                             lambda zz : H2_8pi_z_sol_rh_int_ph_int_rh[i](rh1, rh2, zz, a0),\n",
    "                                             z1, z2)\n",
    "                                        ]"
   ]
  },
  {
   "cell_type": "code",
   "execution_count": null,
   "metadata": {},
   "outputs": [],
   "source": [
    "calc_field_energy = False"
   ]
  },
  {
   "cell_type": "code",
   "execution_count": null,
   "metadata": {},
   "outputs": [],
   "source": [
    "if calc_field_energy:\n",
    "    ED_8pi_rho = []\n",
    "    for i in range(n_layers):\n",
    "        ED_8pi_rho += [epsilon_d[i] * E2_8pi_rho_sol_rh_int_ph_int_rh_int_z [i](0, a_val, h_sol[i], h_sol[i+1], 1)]"
   ]
  },
  {
   "cell_type": "code",
   "execution_count": null,
   "metadata": {},
   "outputs": [],
   "source": [
    "if calc_field_energy:\n",
    "    #ED_8pi_rho_0 + ED_8pi_rho_1\n",
    "    sum(ED_8pi_rho)"
   ]
  },
  {
   "cell_type": "code",
   "execution_count": null,
   "metadata": {},
   "outputs": [],
   "source": [
    "if calc_field_energy:\n",
    "    ED_8pi_phi = []\n",
    "    for i in range(n_layers):\n",
    "        ED_8pi_phi += [epsilon_d[i] * E2_8pi_phi_sol_rh_int_ph_int_rh_int_z [i](0, a_val, h_sol[i],  h_sol[i+1], 1)]"
   ]
  },
  {
   "cell_type": "code",
   "execution_count": null,
   "metadata": {},
   "outputs": [],
   "source": [
    "if calc_field_energy:\n",
    "    #ED_8pi_phi_0 + ED_8pi_phi_1\n",
    "    sum(ED_8pi_phi)"
   ]
  },
  {
   "cell_type": "code",
   "execution_count": null,
   "metadata": {},
   "outputs": [],
   "source": []
  },
  {
   "cell_type": "code",
   "execution_count": null,
   "metadata": {},
   "outputs": [],
   "source": [
    "if calc_field_energy:\n",
    "    ED_8pi_z = []\n",
    "    for i in range(n_layers):\n",
    "        ED_8pi_z += [epsilon_d[i] * E2_8pi_z_sol_rh_int_ph_int_rh_int_z [i](0, a_val, h_sol[i],  h_sol[i+1], 1)]"
   ]
  },
  {
   "cell_type": "code",
   "execution_count": null,
   "metadata": {},
   "outputs": [],
   "source": [
    "if calc_field_energy:\n",
    "    #ED_8pi_z_0 + ED_8pi_z_1\n",
    "    sum(ED_8pi_z)"
   ]
  },
  {
   "cell_type": "code",
   "execution_count": null,
   "metadata": {},
   "outputs": [],
   "source": []
  },
  {
   "cell_type": "code",
   "execution_count": null,
   "metadata": {},
   "outputs": [],
   "source": [
    "if calc_field_energy:\n",
    "    HB_8pi_rho = []\n",
    "    for i in range(n_layers):\n",
    "        HB_8pi_rho += [mu_d[i] * H2_8pi_rho_sol_rh_int_ph_int_rh_int_z [i](0, a_val, h_sol[i],  h_sol[i+1], 1)]"
   ]
  },
  {
   "cell_type": "code",
   "execution_count": null,
   "metadata": {},
   "outputs": [],
   "source": [
    "if calc_field_energy:\n",
    "    #H2_8pi_rho_0 + H2_8pi_rho_1\n",
    "    sum(HB_8pi_rho)"
   ]
  },
  {
   "cell_type": "code",
   "execution_count": null,
   "metadata": {},
   "outputs": [],
   "source": [
    "if calc_field_energy:\n",
    "    HB_8pi_phi = []\n",
    "    for i in range(n_layers):\n",
    "        HB_8pi_phi += [mu_d[i] * H2_8pi_phi_sol_rh_int_ph_int_rh_int_z [i](0, a_val, h_sol[i],  h_sol[i+1], 1)]"
   ]
  },
  {
   "cell_type": "code",
   "execution_count": null,
   "metadata": {},
   "outputs": [],
   "source": [
    "if calc_field_energy:\n",
    "    #H2_8pi_phi_0 + H2_8pi_phi_1\n",
    "    sum(HB_8pi_phi)"
   ]
  },
  {
   "cell_type": "code",
   "execution_count": null,
   "metadata": {},
   "outputs": [],
   "source": [
    "if calc_field_energy:\n",
    "    HB_8pi_z = []\n",
    "    for i in range(n_layers):\n",
    "        HB_8pi_z += [mu_d[i] * H2_8pi_z_sol_rh_int_ph_int_rh_int_z [i](0, a_val, h_sol[i],  h_sol[i+1], 1)]"
   ]
  },
  {
   "cell_type": "code",
   "execution_count": null,
   "metadata": {},
   "outputs": [],
   "source": [
    "if calc_field_energy:\n",
    "    #H2_8pi_z_0 + H2_8pi_z_1\n",
    "    sum(HB_8pi_z)"
   ]
  },
  {
   "cell_type": "code",
   "execution_count": null,
   "metadata": {},
   "outputs": [],
   "source": []
  },
  {
   "cell_type": "code",
   "execution_count": null,
   "metadata": {},
   "outputs": [],
   "source": []
  },
  {
   "cell_type": "code",
   "execution_count": null,
   "metadata": {},
   "outputs": [],
   "source": [
    "if calc_field_energy:\n",
    "    field_energy = sum(HB_8pi_rho) + sum(HB_8pi_phi) + sum(HB_8pi_z) \\\n",
    "             + sum(ED_8pi_rho) + sum(ED_8pi_phi) + sum(ED_8pi_z)\n",
    "    field_energy"
   ]
  },
  {
   "cell_type": "code",
   "execution_count": null,
   "metadata": {},
   "outputs": [],
   "source": []
  },
  {
   "cell_type": "code",
   "execution_count": null,
   "metadata": {},
   "outputs": [],
   "source": [
    "# E x H = (-E_z(rh, ph, z)*H_phi(rh, ph, z) + E_phi(rh, ph, z)*H_z(rh, ph, z)) e_rh \n",
    "#       + ( E_z(rh, ph, z)*H_rho(rh, ph, z) - E_rho(rh, ph, z)*H_z(rh, ph, z)) e_ph\n",
    "#       + (E_rho(rh, ph, z)*H_phi(rh, ph, z) - E_phi(rh, ph, z)*H_rho(rh, ph, z)) e_z"
   ]
  },
  {
   "cell_type": "code",
   "execution_count": null,
   "metadata": {},
   "outputs": [],
   "source": [
    "# Abraham force\n",
    "# Minkovsky form without dissipation\n",
    "# (epsilon * mu - 1) / (4 * pi * c) * ([E x H]).diff(t)\n",
    "# (epsilon * mu - 1) / (4 * pi * c) * ([E.diff(t) x H] + [E x H.diff(t)])\n",
    "# ([E x H])_z = E_rh * H_ph - E_ph * H_rh\n",
    "# ([E.diff(t) x H])_z = E_rh.diff(t) * H_ph - E_ph.diff(t) * H_rh\n",
    "# ([E x H.diff(t)])_z = E_rh * H_ph.diff(t) - E_ph * H_rh.diff(t)\n",
    "# f_z = (epsilon * mu - 1) / (4 * pi * c) * (\n",
    "#                      (E_rh.diff(t) * H_ph - E_ph.diff(t) * H_rh) +\n",
    "#                      (E_rh * H_ph.diff(t) - E_ph * H_rh.diff(t)) )\n",
    "# E_rh.diff(t) = -I * omega * E_rh\n",
    "# E_ph.diff(t) = -I * omega * E_ph\n",
    "# H_ph.diff(t) = -I * omega * H_ph\n",
    "# H_rh.diff(t) = -I * omega * H_rh\n",
    "\n",
    "#\n",
    "# alpha = - omega * t\n",
    "#\n",
    "\n",
    "# f_z = (epsilon * mu - 1) / (4 * pi * c) * \n",
    "#       integrate(\n",
    "#         (Re(-I*omega * E_rh * e^alpha) * Re(H_ph * e^alpha) - Re(-I*omega * E_ph * e^alpha) * Re(H_rh * e^alpha)) +\n",
    "#         (Re(E_rh * e^alpha) * Re(-I*omega * H_ph * e^alpha) - Re(E_ph * e^alpha) * Re(-I*omega * H_rh * e^alpha)) \n",
    "#       (alpha, 0, 2*pi))\n",
    "\n",
    "\n",
    "# f_z = (epsilon * mu - 1) / (2 * 4 * pi * c) * (\n",
    "#         (Re(-I*omega * E_rh) * Re(H_ph) + Im(-I*omega * E_rh) * Im(H_ph) \n",
    "#        - Re(-I*omega * E_ph) * Re(H_rh) - Im(-I*omega * E_ph) * Im(H_rh)) +\n",
    "#         (Re(E_rh) * Re(-I*omega * H_ph) + Im(E_rh) * Im(-I*omega * H_ph)\n",
    "#        - Re(E_ph) * Re(-I*omega * H_rh) - Im(E_ph) * Im(-I*omega * H_rh)) \n",
    "#       )\n"
   ]
  },
  {
   "cell_type": "code",
   "execution_count": null,
   "metadata": {},
   "outputs": [],
   "source": [
    "Abraham_Minkovsky_f_z = []\n",
    "for i in range(n_layers):\n",
    "    exec(Preparse(\"Abraham_Minkovsky_f_z += [lambda r,p,z,  i=i: \" + str(\n",
    "         (epsilon[i] * mu[i] - 1) / (8 * pi * c) * (            \n",
    "         (Re(-I*omega * E_rho[i](r,p,z)) * Re(H_phi[i](r,p,z)) + Im(-I*omega * E_rho[i](r,p,z)) * Im(H_phi[i](r,p,z)) \n",
    "        - Re(-I*omega * E_phi[i](r,p,z)) * Re(H_rho[i](r,p,z)) - Im(-I*omega * E_phi[i](r,p,z)) * Im(H_rho[i](r,p,z)))\n",
    "        +(Re(E_rho[i](r,p,z)) * Re(-I*omega * H_phi[i](r,p,z)) + Im(E_rho[i](r,p,z)) * Im(-I*omega * H_phi[i](r,p,z))\n",
    "        - Re(E_phi[i](r,p,z)) * Re(-I*omega * H_rho[i](r,p,z)) - Im(E_phi[i](r,p,z)) * Im(-I*omega * H_rho[i](r,p,z))) \n",
    "        )\n",
    "    ) + \"]\"))"
   ]
  },
  {
   "cell_type": "code",
   "execution_count": null,
   "metadata": {},
   "outputs": [],
   "source": [
    "print(Abraham_Minkovsky_f_z[0](rh, ph, z))"
   ]
  },
  {
   "cell_type": "code",
   "execution_count": null,
   "metadata": {},
   "outputs": [],
   "source": [
    "display(Math(latex(Abraham_Minkovsky_f_z[0](rh, ph, z))))"
   ]
  },
  {
   "cell_type": "code",
   "execution_count": null,
   "metadata": {},
   "outputs": [],
   "source": [
    "display(Math(latex(Abraham_Minkovsky_f_z[0](rh, ph, z).expand())))"
   ]
  },
  {
   "cell_type": "code",
   "execution_count": null,
   "metadata": {},
   "outputs": [],
   "source": [
    "if 1 < n_layers:\n",
    "    display(Math(latex(Abraham_Minkovsky_f_z[1](rh, ph, z))))"
   ]
  },
  {
   "cell_type": "code",
   "execution_count": null,
   "metadata": {},
   "outputs": [],
   "source": [
    "if 1 < n_layers:\n",
    "    display(Math(latex(Abraham_Minkovsky_f_z[1](rh, ph, z).expand())))"
   ]
  },
  {
   "cell_type": "code",
   "execution_count": null,
   "metadata": {},
   "outputs": [],
   "source": [
    "Abraham_Minkovsky_f_z_s = []\n",
    "for i in range(n_layers):\n",
    "    exec(Preparse(\"Abraham_Minkovsky_f_z_s += [lambda r,p,z,  i=i: \" + str(\n",
    "        (epsilon[i] * mu[i] - 1) / (8 * pi * c) * (            \n",
    "         (Re(-I*omega * E_rho_s[i](r,p,z)) * Re(H_phi_s[i](r,p,z)) + Im(-I*omega * E_rho_s[i](r,p,z)) * Im(H_phi_s[i](r,p,z)) \n",
    "        - Re(-I*omega * E_phi_s[i](r,p,z)) * Re(H_rho_s[i](r,p,z)) - Im(-I*omega * E_phi_s[i](r,p,z)) * Im(H_rho_s[i](r,p,z)))\n",
    "        +(Re(E_rho_s[i](r,p,z)) * Re(-I*omega * H_phi_s[i](r,p,z)) + Im(E_rho_s[i](r,p,z)) * Im(-I*omega * H_phi_s[i](r,p,z))\n",
    "        - Re(E_phi_s[i](r,p,z)) * Re(-I*omega * H_rho_s[i](r,p,z)) - Im(E_phi_s[i](r,p,z)) * Im(-I*omega * H_rho_s[i](r,p,z))) \n",
    "        )\n",
    "    ) + \"]\"))"
   ]
  },
  {
   "cell_type": "code",
   "execution_count": null,
   "metadata": {},
   "outputs": [],
   "source": [
    "display(Math(latex(Abraham_Minkovsky_f_z_s[0](rh, ph, z))))"
   ]
  },
  {
   "cell_type": "code",
   "execution_count": null,
   "metadata": {},
   "outputs": [],
   "source": [
    "display(Math(latex(Abraham_Minkovsky_f_z_s[0](rh, ph, z).expand())))"
   ]
  },
  {
   "cell_type": "code",
   "execution_count": null,
   "metadata": {},
   "outputs": [],
   "source": [
    "if 1 < n_layers:\n",
    "    display(Math(latex(Abraham_Minkovsky_f_z_s[1](rh, ph, z))))"
   ]
  },
  {
   "cell_type": "code",
   "execution_count": null,
   "metadata": {},
   "outputs": [],
   "source": [
    "if 1 < n_layers:\n",
    "    display(Math(latex(Abraham_Minkovsky_f_z_s[1](rh, ph, z).expand())))"
   ]
  },
  {
   "cell_type": "code",
   "execution_count": null,
   "metadata": {},
   "outputs": [],
   "source": [
    "# Abraham force\n",
    "# Abraham form with dissipation\n",
    "# ((epsilon + 4*pi*i*sigma/omega) * mu) / (4 * pi * c) * ([E x H]).diff(t)\n",
    "# ((epsilon + 4*pi*i*sigma/omega) * mu) / (4 * pi * c) * ([E.diff(t) x H] + [E x H.diff(t)])\n",
    "# ([E x H])_z = E_rh * H_ph - E_ph * H_rh\n",
    "# ([E.diff(t) x H])_z = E_rh.diff(t) * H_ph - E_ph.diff(t) * H_rh\n",
    "# ([E x H.diff(t)])_z = E_rh * H_ph.diff(t) - E_ph * H_rh.diff(t)\n",
    "# f_z = (epsilon * mu - 1) / (4 * pi * c) * (\n",
    "#                      (E_rh.diff(t) * H_ph - E_ph.diff(t) * H_rh) +\n",
    "#                      (E_rh * H_ph.diff(t) - E_ph * H_rh.diff(t)) )\n",
    "# E_rh.diff(t) = -I * omega * E_rh\n",
    "# E_ph.diff(t) = -I * omega * E_ph\n",
    "# H_ph.diff(t) = -I * omega * H_ph\n",
    "# H_rh.diff(t) = -I * omega * H_rh\n",
    "\n",
    "#\n",
    "# alpha = - omega * t\n",
    "#\n",
    "\n",
    "# f_z = (mu) / (4 * pi * c) * \n",
    "#       integrate(\n",
    "#         (Re(-I*omega * (epsilon + 4*pi*i*sigma/omega) * E_rh * e^alpha) * Re(H_ph * e^alpha) - Re(-I*omega * (epsilon + 4*pi*i*sigma/omega) * E_ph * e^alpha) * Re(H_rh * e^alpha)) +\n",
    "#         (Re((epsilon + 4*pi*i*sigma/omega) * E_rh * e^alpha) * Re(-I*omega * H_ph * e^alpha) - Re((epsilon + 4*pi*i*sigma/omega) * E_ph * e^alpha) * Re(-I*omega * H_rh * e^alpha)) \n",
    "#       (alpha, 0, 2*pi))\n",
    "\n",
    "\n",
    "# f_z = (mu) / (2 * 4 * pi * c) * (\n",
    "#         (Re(-I*omega * (epsilon + 4*pi*i*sigma/omega) * E_rh) * Re(H_ph) + Im(-I*omega * (epsilon + 4*pi*i*sigma/omega) * E_rh) * Im(H_ph) \n",
    "#        - Re(-I*omega * (epsilon + 4*pi*i*sigma/omega) * E_ph) * Re(H_rh) - Im(-I*omega * (epsilon + 4*pi*i*sigma/omega) * E_ph) * Im(H_rh)) +\n",
    "#         (Re((epsilon + 4*pi*i*sigma/omega) * E_rh) * Re(-I*omega * H_ph) + Im((epsilon + 4*pi*i*sigma/omega) * E_rh) * Im(-I*omega * H_ph)\n",
    "#        - Re((epsilon + 4*pi*i*sigma/omega) * E_ph) * Re(-I*omega * H_rh) - Im((epsilon + 4*pi*i*sigma/omega) * E_ph) * Im(-I*omega * H_rh)) \n",
    "#       )\n"
   ]
  },
  {
   "cell_type": "code",
   "execution_count": null,
   "metadata": {},
   "outputs": [],
   "source": [
    "# Ландау Лифшиц. Электродинамика сплошных сред (параграф 75)\n",
    "# - 1/(4*pi)  *[D x rotE]      - 1/(4*pi)  *[B x rotH]\n",
    "# + 1/(4*pi*c)*[D x B.diff(t)] - 1/(4*pi*c)*[B x (D.diff(t) + 4*pi*sigma*E)]\n",
    "\n",
    "# + ([D x B.diff(t)])_z    = + D_rh * B_ph.diff(t)    - D_ph * B_rh.diff(t)\n",
    "# - ([B x D.diff(t)])_z    = - B_rh * D_ph.diff(t)    + B_ph * D_rh.diff(t)\n",
    "# - ([B x 4*pi*sigma*E])_z = - B_rh * 4*pi*sigma*E_ph + B_ph * 4*pi*sigma*E_rh\n",
    "\n",
    "Abraham_f_z = []\n",
    "for i in range(n_layers):\n",
    "    exec(Preparse(\"Abraham_f_z += [lambda r,p,z,  i=i: \" + str(\n",
    "         (1) / (8 * pi * c) * (            \n",
    "        +(Re(-I*omega * epsilon[i] * E_rho[i](r,p,z)) * Re(mu[i]*H_phi[i](r,p,z)) # - ([B x D.diff(t)])_z\n",
    "        + Im(-I*omega * epsilon[i] * E_rho[i](r,p,z)) * Im(mu[i]*H_phi[i](r,p,z)) \n",
    "        - Re(-I*omega * epsilon[i] * E_phi[i](r,p,z)) * Re(mu[i]*H_rho[i](r,p,z))\n",
    "        - Im(-I*omega * epsilon[i] * E_phi[i](r,p,z)) * Im(mu[i]*H_rho[i](r,p,z)))\n",
    "        +(Re(4*pi*sigma[i] * E_rho[i](r,p,z)) * Re(mu[i]*H_phi[i](r,p,z)) # - ([B x 4*pi*sigma*E])_z\n",
    "        + Im(4*pi*sigma[i] * E_rho[i](r,p,z)) * Im(mu[i]*H_phi[i](r,p,z)) \n",
    "        - Re(4*pi*sigma[i] * E_phi[i](r,p,z)) * Re(mu[i]*H_rho[i](r,p,z))\n",
    "        - Im(4*pi*sigma[i] * E_phi[i](r,p,z)) * Im(mu[i]*H_rho[i](r,p,z)))\n",
    "        +(Re((epsilon[i] + 4*pi*I*sigma[i]/omega) * E_rho[i](r,p,z)) * Re(-I*omega * mu[i]*H_phi[i](r,p,z)) # + ([D x B.diff(t)])_z\n",
    "        + Im((epsilon[i] + 4*pi*I*sigma[i]/omega) * E_rho[i](r,p,z)) * Im(-I*omega * mu[i]*H_phi[i](r,p,z))\n",
    "        - Re((epsilon[i] + 4*pi*I*sigma[i]/omega) * E_phi[i](r,p,z)) * Re(-I*omega * mu[i]*H_rho[i](r,p,z))\n",
    "        - Im((epsilon[i] + 4*pi*I*sigma[i]/omega) * E_phi[i](r,p,z)) * Im(-I*omega * mu[i]*H_rho[i](r,p,z))) \n",
    "        )\n",
    "    ) + \"]\"))"
   ]
  },
  {
   "cell_type": "code",
   "execution_count": null,
   "metadata": {},
   "outputs": [],
   "source": [
    "# вычитаем изменение импульса единицы объёма поля\n",
    "# - 1/(4*pi)  *[E x rotE]      - 1/(4*pi)  *[H x rotH]\n",
    "# + 1/(4*pi*c)*[E x H.diff(t)] - 1/(4*pi*c)*[H x E.diff(t)]\n",
    "# + ([E x H.diff(t)])_z = + E_rh * H_ph.diff(t) - E_ph * H_rh.diff(t)\n",
    "# - ([H x E.diff(t)])_z = - H_rh * E_ph.diff(t) + H_ph * E_rh.diff(t)\n",
    "\n",
    "field_f_z = []\n",
    "for i in range(n_layers):\n",
    "    exec(Preparse(\"field_f_z += [lambda r,p,z,  i=i: \" + str(\n",
    "         (1) / (8 * pi * c) * (            \n",
    "         (Re(-I*omega * E_rho[i](r,p,z)) * Re(H_phi[i](r,p,z)) # - ([H x E.diff(t)])_z\n",
    "        + Im(-I*omega * E_rho[i](r,p,z)) * Im(H_phi[i](r,p,z)) \n",
    "        - Re(-I*omega * E_phi[i](r,p,z)) * Re(H_rho[i](r,p,z))\n",
    "        - Im(-I*omega * E_phi[i](r,p,z)) * Im(H_rho[i](r,p,z)))\n",
    "        +(Re(E_rho[i](r,p,z)) * Re(-I*omega * H_phi[i](r,p,z)) # + ([E x H.diff(t)])_z\n",
    "        + Im(E_rho[i](r,p,z)) * Im(-I*omega * H_phi[i](r,p,z))\n",
    "        - Re(E_phi[i](r,p,z)) * Re(-I*omega * H_rho[i](r,p,z))\n",
    "        - Im(E_phi[i](r,p,z)) * Im(-I*omega * H_rho[i](r,p,z))) \n",
    "        )\n",
    "    ) + \"]\"))"
   ]
  },
  {
   "cell_type": "code",
   "execution_count": null,
   "metadata": {},
   "outputs": [],
   "source": [
    "display(Math(latex(Abraham_f_z[0](rh, ph, z))))"
   ]
  },
  {
   "cell_type": "code",
   "execution_count": null,
   "metadata": {},
   "outputs": [],
   "source": [
    "if 1 < n_layers:\n",
    "    display(Math(latex(Abraham_f_z[1](rh, ph, z))))"
   ]
  },
  {
   "cell_type": "code",
   "execution_count": null,
   "metadata": {},
   "outputs": [],
   "source": [
    "Abraham_f_z_s = []\n",
    "for i in range(n_layers):\n",
    "    exec(Preparse(\"Abraham_f_z_s += [lambda r,p,z,  i=i: \" + str(\n",
    "         ( mu[i]) / (8 * pi * c) * (            \n",
    "         (Re(-I*omega * (epsilon[i] + 4*pi*I*sigma[i]/omega) * E_rho_s[i](r,p,z)) * Re(H_phi_s[i](r,p,z)) + Im(-I*omega * (epsilon[i] + 4*pi*I*sigma[i]/omega) * E_rho_s[i](r,p,z)) * Im(H_phi_s[i](r,p,z)) \n",
    "        - Re(-I*omega * (epsilon[i] + 4*pi*I*sigma[i]/omega) * E_phi_s[i](r,p,z)) * Re(H_rho_s[i](r,p,z)) - Im(-I*omega * (epsilon[i] + 4*pi*I*sigma[i]/omega) * E_phi_s[i](r,p,z)) * Im(H_rho_s[i](r,p,z)))\n",
    "        +(Re((epsilon[i] + 4*pi*I*sigma[i]/omega) * E_rho_s[i](r,p,z)) * Re(-I*omega * H_phi_s[i](r,p,z)) + Im((epsilon[i] + 4*pi*I*sigma[i]/omega) * E_rho_s[i](r,p,z)) * Im(-I*omega * H_phi_s[i](r,p,z))\n",
    "        - Re((epsilon[i] + 4*pi*I*sigma[i]/omega) * E_phi_s[i](r,p,z)) * Re(-I*omega * H_rho_s[i](r,p,z)) - Im((epsilon[i] + 4*pi*I*sigma[i]/omega) * E_phi_s[i](r,p,z)) * Im(-I*omega * H_rho_s[i](r,p,z))) \n",
    "        )\n",
    "    ) + \"]\"))"
   ]
  },
  {
   "cell_type": "code",
   "execution_count": null,
   "metadata": {},
   "outputs": [],
   "source": [
    "display(Math(latex(Abraham_f_z_s[0](rh, ph, z))))"
   ]
  },
  {
   "cell_type": "code",
   "execution_count": null,
   "metadata": {},
   "outputs": [],
   "source": [
    "if 1 < n_layers:\n",
    "    display(Math(latex(Abraham_f_z_s[1](rh, ph, z))))"
   ]
  },
  {
   "cell_type": "code",
   "execution_count": null,
   "metadata": {},
   "outputs": [],
   "source": [
    "calc_Abraham_force = True"
   ]
  },
  {
   "cell_type": "code",
   "execution_count": null,
   "metadata": {},
   "outputs": [],
   "source": [
    "Abraham_f_z_sol = []\n",
    "for i in range(n_layers):\n",
    "    Abraham_f_z_sol += [lambda r,p,z, a0, i=i: Abraham_f_z_s[i](r,p,z)\n",
    "                  .subs(digit_values).subs(g_values).subs(epsilon_values)\n",
    "                  .subs(b == b_sol)\n",
    "                  .subs(omega_value)\n",
    "                  .subs(kappa == kappa_d1)\n",
    "                  .subs(c_value)\n",
    "                  .subs(k_values_d)\n",
    "                  .subs(digit_values)\n",
    "                  .subs(amplitude_variable == a0)\n",
    "                 ]"
   ]
  },
  {
   "cell_type": "code",
   "execution_count": null,
   "metadata": {},
   "outputs": [],
   "source": [
    "#[Abraham_f_z_sol [0](rho,ph,z,a0) for rho in [0..int(a_val)]]"
   ]
  },
  {
   "cell_type": "code",
   "execution_count": null,
   "metadata": {},
   "outputs": [],
   "source": [
    "#[Abraham_f_z_sol [1](rho,ph,z,a0) for rho in [0..int(a_val)]]"
   ]
  },
  {
   "cell_type": "code",
   "execution_count": null,
   "metadata": {},
   "outputs": [],
   "source": [
    "plt = sage.plot.graphics.Graphics()\n",
    "\n",
    "for i in range(n_layers):\n",
    "    plt += plot ([Abraham_f_z_sol[i](rh,ph,z,1).subs(rh == rho).subs(ph == phi) for rho in [0..int(a_val)] for phi in [0 .. 2*pi]],(z, h_sol[i], h_sol[i+1]))\n",
    "plt.show ()"
   ]
  },
  {
   "cell_type": "code",
   "execution_count": null,
   "metadata": {},
   "outputs": [],
   "source": [
    "plt = sage.plot.graphics.Graphics()\n",
    "\n",
    "for i in range(n_layers):\n",
    "    plt += plot ([Abraham_f_z_sol[i](rh,ph,z,1).subs(rh == rho).subs(ph == phi) for rho in [int(a_val)] for phi in [0]],(z, h_sol[i], h_sol[i+1]))\n",
    "plt.show ()"
   ]
  },
  {
   "cell_type": "code",
   "execution_count": null,
   "metadata": {},
   "outputs": [],
   "source": [
    "[Abraham_f_z_sol[0](rh,ph,z,1).subs(rh == rho).subs(ph == phi) for rho in [int(a_val)] for phi in [0]]"
   ]
  },
  {
   "cell_type": "code",
   "execution_count": null,
   "metadata": {},
   "outputs": [],
   "source": [
    "[Abraham_f_z_sol[0](rh,ph,z,1).subs(rh == rho).subs(ph == phi) for rho in [int(a_val)] for phi in [0]]"
   ]
  },
  {
   "cell_type": "code",
   "execution_count": null,
   "metadata": {},
   "outputs": [],
   "source": [
    "[Abraham_f_z_sol[1](rh,ph,z,1).subs(rh == rho, ph == phi) for rho in [int(a_val)] for phi in [0]]"
   ]
  },
  {
   "cell_type": "code",
   "execution_count": null,
   "metadata": {},
   "outputs": [],
   "source": [
    "[Abraham_f_z_sol[1](rh,ph,z,1).subs(rh == rho, ph == phi) for rho in [int(a_val)] for phi in [0]]"
   ]
  },
  {
   "cell_type": "code",
   "execution_count": null,
   "metadata": {},
   "outputs": [],
   "source": [
    "Abraham_f_z_sol_rh = []\n",
    "for i in range(n_layers):\n",
    "    Abraham_f_z_sol_rh += [lambda r,p,z, a0, i=i: Abraham_f_z_sol[i](r,p,z, a0) * r]"
   ]
  },
  {
   "cell_type": "code",
   "execution_count": null,
   "metadata": {},
   "outputs": [],
   "source": [
    "plt = sage.plot.graphics.Graphics()\n",
    "\n",
    "for i in range(n_layers):\n",
    "    plt += plot ([Abraham_f_z_sol_rh[i](rh,ph,z, 1).subs(rh == rho).subs(ph == phi) for rho in [0..int(a_val)] for phi in [0 .. 2*pi]],(z, h_sol[i], h_sol[i+1]))\n",
    "plt.show ()"
   ]
  },
  {
   "cell_type": "code",
   "execution_count": null,
   "metadata": {},
   "outputs": [],
   "source": [
    "Abraham_f_z_sol_rh_int_ph = []\n",
    "for i in range(n_layers):\n",
    "    Abraham_f_z_sol_rh_int_ph += [lambda r,z,a0, i=i: \n",
    "                                  num_int(\n",
    "                                      lambda p : Abraham_f_z_sol_rh[i](r,p,z,a0), \n",
    "                                      0, 2*pi)\n",
    "                                 ]"
   ]
  },
  {
   "cell_type": "code",
   "execution_count": null,
   "metadata": {},
   "outputs": [],
   "source": [
    "Abraham_f_z_sol_rh_int_ph_int_rh = []\n",
    "for i in range(n_layers):\n",
    "    Abraham_f_z_sol_rh_int_ph_int_rh += [lambda rh1, rh2, zz, a0, i=i: \n",
    "                                         num_int(\n",
    "                                             lambda r : Abraham_f_z_sol_rh_int_ph[i](r,zz,a0),\n",
    "                                             rh1, rh2)\n",
    "                                        ]"
   ]
  },
  {
   "cell_type": "code",
   "execution_count": null,
   "metadata": {},
   "outputs": [],
   "source": [
    "Abraham_f_z_sol_rh_int_ph_int_rh_int_z = []\n",
    "for i in range(n_layers):\n",
    "    Abraham_f_z_sol_rh_int_ph_int_rh_int_z += [lambda rh1, rh2, z1, z2, a0, i=i: \n",
    "                                         num_int(\n",
    "                                             lambda zz : Abraham_f_z_sol_rh_int_ph_int_rh[i](rh1, rh2, zz, a0),\n",
    "                                             z1, z2)\n",
    "                                        ]"
   ]
  },
  {
   "cell_type": "code",
   "execution_count": null,
   "metadata": {},
   "outputs": [],
   "source": [
    "if calc_Abraham_force:\n",
    "    Abraham_f_z = []\n",
    "    for i in range(n_layers):\n",
    "        Abraham_f_z += [Abraham_f_z_sol_rh_int_ph_int_rh_int_z [i](0, a_val, h_sol[i],  h_sol[i+1], 1)]"
   ]
  },
  {
   "cell_type": "code",
   "execution_count": null,
   "metadata": {},
   "outputs": [],
   "source": [
    "if calc_Abraham_force:\n",
    "    print(Abraham_f_z)"
   ]
  },
  {
   "cell_type": "code",
   "execution_count": null,
   "metadata": {},
   "outputs": [],
   "source": [
    "if calc_Abraham_force:\n",
    "    print(sum(Abraham_f_z))"
   ]
  },
  {
   "cell_type": "code",
   "execution_count": null,
   "metadata": {},
   "outputs": [],
   "source": []
  },
  {
   "cell_type": "code",
   "execution_count": null,
   "metadata": {},
   "outputs": [],
   "source": [
    "#Abraham_f_z_0 + Abraham_f_z_1"
   ]
  },
  {
   "cell_type": "code",
   "execution_count": null,
   "metadata": {},
   "outputs": [],
   "source": [
    "sum_f_z = sum_surf_f_z\n",
    "if calc_Abraham_force:\n",
    "    sum_f_z += sum(Abraham_f_z)"
   ]
  },
  {
   "cell_type": "code",
   "execution_count": null,
   "metadata": {},
   "outputs": [],
   "source": [
    "sum_f_z"
   ]
  },
  {
   "cell_type": "code",
   "execution_count": null,
   "metadata": {},
   "outputs": [],
   "source": [
    "sum_f_z / (field_energy)"
   ]
  },
  {
   "cell_type": "code",
   "execution_count": null,
   "metadata": {},
   "outputs": [],
   "source": [
    "S = pi.n() * a_val^2\n",
    "S"
   ]
  },
  {
   "cell_type": "code",
   "execution_count": null,
   "metadata": {},
   "outputs": [],
   "source": [
    "V = b_sol * S\n",
    "V"
   ]
  },
  {
   "cell_type": "code",
   "execution_count": null,
   "metadata": {},
   "outputs": [],
   "source": [
    "h_sol"
   ]
  },
  {
   "cell_type": "code",
   "execution_count": null,
   "metadata": {},
   "outputs": [],
   "source": [
    "# мкм\n",
    "b_sol*10*1000 "
   ]
  },
  {
   "cell_type": "code",
   "execution_count": null,
   "metadata": {},
   "outputs": [],
   "source": [
    "field_energy"
   ]
  },
  {
   "cell_type": "code",
   "execution_count": null,
   "metadata": {},
   "outputs": [],
   "source": [
    "# эрг / куб см\n",
    "(field_energy)/V"
   ]
  },
  {
   "cell_type": "code",
   "execution_count": null,
   "metadata": {},
   "outputs": [],
   "source": [
    "# волоконная оптика 1 мВт / 9 мкм\n",
    "# 10^4 эрг в сек / 0.0009 см\n",
    "w = (10^4 /(pi.n()*0.00045^2*c)).subs(c_value)\n",
    "w # эрг в куб см"
   ]
  },
  {
   "cell_type": "markdown",
   "metadata": {},
   "source": [
    "https://iopscience.iop.org/article/10.1088/1367-2630/18/5/053042\n",
    "\n",
    "A uniform electric field $E={10}^{6}$ V m−1 along the $z$ direction is applied. This electric field corresponds to an average laser intensity of ${I}_{0}=1.33\\ \\mathrm{mW}\\;\\mu {{\\rm{m}}}^{-2}$ as used under typical experiment conditions"
   ]
  },
  {
   "cell_type": "code",
   "execution_count": null,
   "metadata": {},
   "outputs": [],
   "source": [
    "# 1.33 мВт / 1 мкм^2\n",
    "# 1.33 * 10^4 эрг в сек / 0.0001 см\n",
    "w = (1.33 * 10^4 /(0.0001^2*c)).subs(c_value)\n",
    "w # эрг в куб см"
   ]
  },
  {
   "cell_type": "code",
   "execution_count": null,
   "metadata": {},
   "outputs": [],
   "source": [
    "# дин\n",
    "F_z = sum_f_z / (field_energy) * w\n",
    "F_z"
   ]
  },
  {
   "cell_type": "code",
   "execution_count": null,
   "metadata": {},
   "outputs": [],
   "source": [
    "# Ньютон\n",
    "F_z / 10^5"
   ]
  },
  {
   "cell_type": "code",
   "execution_count": null,
   "metadata": {},
   "outputs": [],
   "source": [
    "# gramm\n",
    "F_z / 10^5 *101"
   ]
  },
  {
   "cell_type": "code",
   "execution_count": null,
   "metadata": {},
   "outputs": [],
   "source": [
    "# Толщина серебряного слоя для всех зеркал должна быть не менее 0,15 мкм\n",
    "# вес одной ячейки\n",
    "m_of_Layer_gramm = V/2 * 3.95 + V/2 * 4.23 + V/2 * 10.49\n",
    "m_of_Layer_gramm"
   ]
  },
  {
   "cell_type": "code",
   "execution_count": null,
   "metadata": {},
   "outputs": [],
   "source": [
    "omega_value[0].rhs().n()"
   ]
  },
  {
   "cell_type": "code",
   "execution_count": null,
   "metadata": {},
   "outputs": [],
   "source": [
    "# число ячеек в #сантиметре\n",
    "nLayers_per_sm = 1/(15e-06 + b_sol)\n",
    "nLayers_per_sm"
   ]
  },
  {
   "cell_type": "code",
   "execution_count": null,
   "metadata": {},
   "outputs": [],
   "source": [
    "# вес сантиметрово\n",
    "m_of_Layer_gramm * nLayers_per_sm / 1000"
   ]
  },
  {
   "cell_type": "code",
   "execution_count": null,
   "metadata": {},
   "outputs": [],
   "source": [
    "# кг / см толщины\n",
    "1.0/(15e-06 + b_sol) * F_z / 10^5 *101/1000"
   ]
  },
  {
   "cell_type": "code",
   "execution_count": null,
   "metadata": {},
   "outputs": [],
   "source": []
  }
 ],
 "metadata": {
  "kernelspec": {
   "display_name": "SageMath 9.4.rc2",
   "language": "sage",
   "name": "sagemath"
  },
  "language_info": {
   "codemirror_mode": {
    "name": "ipython",
    "version": 3
   },
   "file_extension": ".py",
   "mimetype": "text/x-python",
   "name": "python",
   "nbconvert_exporter": "python",
   "pygments_lexer": "ipython3",
   "version": "3.9.5"
  }
 },
 "nbformat": 4,
 "nbformat_minor": 4
}
