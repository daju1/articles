{
 "cells": [
  {
   "cell_type": "markdown",
   "id": "68ccde62",
   "metadata": {},
   "source": [
    "I have a question about kinetic Energy\n",
    "\n",
    "\n",
    "Have you ever seen the following form of the kinetic Energy in MD\n",
    "\n",
    "\n",
    "$T = \\sum_{i}^{} \\frac{1}{2} m_i \\dot{x_i}^2 + \\sum_{i}^{} \\sum_{j}^{} \\frac{1}{2} m_{ij} \\left(\\vec {\\dot{x_i}}, \\vec {\\dot{x_j}}\\right)$"
   ]
  },
  {
   "cell_type": "markdown",
   "id": "586f534e",
   "metadata": {},
   "source": [
    "$m_i$ - self-induction coefficient of the particle (electromagnetic mass)"
   ]
  },
  {
   "cell_type": "markdown",
   "id": "c2ce44fb",
   "metadata": {},
   "source": [
    "$m_{ij}$ - mutual induction coefficient of two particles (electromagnetic cross mass)"
   ]
  },
  {
   "cell_type": "markdown",
   "id": "fb0207b4",
   "metadata": {},
   "source": [
    "Позаимстовав из И.Е.Тамм. Основы теории электричества. 1957 формулу\n",
    "\n",
    "потенциальной \"энергии\" системы двух токов"
   ]
  },
  {
   "cell_type": "markdown",
   "id": "06fe1756",
   "metadata": {},
   "source": [
    "$U = -\\frac{1}{c^2}\\left(\\frac{1}{2}L_{11}\\,J_{1}^2+L_{12}\\,J_{1}\\,J_{2}+\\frac{1}{2}L_{22}\\,J_{2}^2\\right). \\,\\,\\,(52.9)$"
   ]
  },
  {
   "cell_type": "markdown",
   "id": "36b3d9bf",
   "metadata": {},
   "source": [
    "$U = -\\frac{1}{c^2}\\frac{1}{2}\\left(L_{11}\\,J_{1}^2+L_{12}\\,J_{1}\\,J_{2}+L_{21}\\,J_{2}\\,J_{1}+L_{22}\\,J_{2}^2\\right). \\,\\,\\,(52.10)$"
   ]
  },
  {
   "cell_type": "markdown",
   "id": "e9f87bc2",
   "metadata": {},
   "source": [
    "Если сфера радиуса R, имеющая объем\n",
    "\n",
    "    V = 4/3 * pi * R^3\n",
    "    \n",
    "с плотностью электрического заряда rho имеет суммарный заряд\n",
    "\n",
    "    q = rho * V\n",
    "    \n",
    "тогда, если она двигается со скоростью v ее полный ток J можно вычислить по формуле\n",
    "\n",
    "    J = (rho*v).integrate(dS) -> (mean) -> (rho*v).integrate(dV) / (2*R) = q*v / (2 * R)\n",
    "    J = q * v / (2 * R)\n",
    "    \n",
    "Учитывая эту формулу мы можем переписать \"потенциальную энергию\" (52.10) системы двух движущихся электрически заряженных сфер в следующем виде"
   ]
  },
  {
   "cell_type": "markdown",
   "id": "d0df7592",
   "metadata": {},
   "source": [
    "$U = -\\frac{1}{c^2}\\frac{1}{2}\\left(L_{11}\\,\\left(\\frac{q_{1}\\,v_1}{2\\,R_1}\\right)^2+L_{12}\\,\\left(\\frac{q_{1}\\,v_1}{2\\,R_1}\\right)\\,\\left(\\frac{q_{2}\\,v_2}{2\\,R_2}\\right)+L_{21}\\,\\left(\\frac{q_{2}\\,v_2}{2\\,R_2}\\right)\\,\\left(\\frac{q_{1}\\,v_1}{2\\,R_1}\\right)+L_{22}\\,\\left(\\frac{q_{2}\\,v_2}{2\\,R_2}\\right)^2\\right). \\,\\,\\,(52.10)$"
   ]
  },
  {
   "cell_type": "markdown",
   "id": "52d68339",
   "metadata": {},
   "source": [
    "легко видеть, что эта формула по своей структуре соответствует формуле кинетической энергии\n",
    "\n",
    "$T = \\sum_{i}^{} \\frac{1}{2} m_i \\dot{x_i}^2 + \\sum_{i}^{} \\sum_{j}^{} \\frac{1}{2} m_{ij} \\left(\\vec {\\dot{x_i}}, \\vec {\\dot{x_j}}\\right)$\n",
    "\n",
    "если для масс и для кросс-масс принять следующие выражения"
   ]
  },
  {
   "cell_type": "markdown",
   "id": "ae92d32c",
   "metadata": {},
   "source": [
    "обычная масса имеет смысл коэффициента самоиндукции\n",
    "\n",
    "$m_i = \\frac{L_{ii}}{c^2}=\\frac{1}{c^2\\,J_i^2}\\int\\limits_{V_i}\\int\\limits_{V_i}\\frac{\\left(\\vec{j_i},\\vec{j'_i}\\right)\\,dV\\,dV'}{r}$"
   ]
  },
  {
   "cell_type": "markdown",
   "id": "bf1e4e58",
   "metadata": {},
   "source": [
    "кросс масса имеет смысл коэффициента взаимоиндукции\n",
    "\n",
    "$m_{ij} = m_{ji} = \\left(\\frac{q_{i}\\,q_{j}}{4\\,R_i\\,R_j}\\right)\\frac{L_{ij}}{c^2} = \\frac{q_{i}\\,q_{j}}{4\\,R_i\\,R_j}\\frac{L_{ji}}{c^2} = \\\\\n",
    "\\left(\\frac{q_{i}\\,q_{j}}{4\\,R_i\\,R_j}\\right)\\frac{1}{c^2\\,J_i\\,J_j}\\int\\limits_{V_i}\\int\\limits_{V_j}\\frac{\\left(\\vec{j_i},\\vec{j_j}\\right)\\,dV_i\\,dV_j}{r} = \\\\\n",
    "\\left(\\frac{q_{i}\\,q_{j}}{4\\,R_i\\,R_j}\\right)\\frac{1}{c^2\\,J_i\\,J_j}\\int\\limits_{V_i}\\int\\limits_{V_j}\\frac{\\left(\\rho_i\\,\\vec{v_i},\\rho_j\\,\\vec{v_j}\\right)\\,dV_i\\,dV_j}{r} \\approx \\frac{q_{i}\\,q_{j}}{4\\,R_i\\,R_j}\\frac{1}{c^2\\,J_i\\,J_j}\\,q_i\\,q_j\\,\\frac{\\left(\\vec{v_i},\\vec{v_j}\\right)}{r}$"
   ]
  },
  {
   "cell_type": "markdown",
   "id": "2ad44332",
   "metadata": {},
   "source": [
    "Учитывая формулу для векторного потенциала\n",
    "\n",
    "$A_{i} = \\frac{1}{c}\\int\\limits_{V_i}\\frac{\\vec{j_i}\\,dV_i}{r} = \\frac{1}{c}\\int\\limits_{V_i}\\frac{\\rho_i\\vec{v_i}\\,dV_i}{r}$"
   ]
  },
  {
   "cell_type": "markdown",
   "id": "182812c1",
   "metadata": {},
   "source": [
    "для кроссмассы имеем также\n",
    "\n",
    "$m_{ij} = m_{ji} = \\frac{q_{i}\\,q_{j}}{4\\,R_i\\,R_j}\\frac{L_{ij}}{c^2} = \\frac{q_{i}\\,q_{j}}{4\\,R_i\\,R_j}\\frac{L_{ji}}{c^2} = \\frac{q_{i}\\,q_{j}}{4\\,R_i\\,R_j}\\frac{1}{c\\,J_i\\,J_j}\\int\\limits_{V_j}{\\left(\\vec{A_i},\\vec{j_j}\\right)\\,dV_i\\,dV_j}$"
   ]
  },
  {
   "cell_type": "markdown",
   "id": "1052bcd4",
   "metadata": {},
   "source": [
    "В данной работе для кроссмассы примем приблизительное значение\n",
    "\n",
    "$m_{ij} \\approx \\frac{q_{i}\\,q_{j}}{4\\,R_i\\,R_j}\\frac{1}{c^2\\,J_i\\,J_j}\\,q_i\\,q_j\\,\\frac{\\left(\\vec{v_i},\\vec{v_j}\\right)}{r} = \\frac{q_{i}\\,q_{j}}{4\\,R_i\\,R_j}\\frac{2\\,R_i\\,2\\,R_j}{c^2\\,q_i\\,v_i\\,q_j\\,v_j}\\,q_i\\,q_j\\,\\frac{\\left(\\vec{v_i},\\vec{v_j}\\right)}{r} = \\frac{q_{i}\\,q_{j}}{c^2}\\,\\frac{cos\\left(\\vec{v_i},\\vec{v_j}\\right)}{r}$"
   ]
  },
  {
   "cell_type": "markdown",
   "id": "43f5a821",
   "metadata": {},
   "source": [
    "Запишем Лагранжиан\n",
    "\n",
    "$L = T - V$"
   ]
  },
  {
   "cell_type": "markdown",
   "id": "a85459bb",
   "metadata": {},
   "source": [
    "$L = \\sum_{i}^{} \\frac{1}{2} m_i \\dot{x_i}^2 + \\sum_{i}^{} \\sum_{j}^{} \\frac{1}{2} m_{ij} \\dot{x_i} \\dot{x_j} - V(x)$"
   ]
  },
  {
   "cell_type": "markdown",
   "id": "1f7a5ea5",
   "metadata": {},
   "source": [
    "$L = \\sum_{i}^{} \\frac{1}{2} m_i \\dot{x_i}^2 + \\sum_{i}^{} \\sum_{j}^{} \\frac{1}{2} \\frac{q_{i}\\,q_{j}}{c^2}\\,\\frac{cos\\left(\\vec{\\dot{x_i}},\\vec{\\dot{x_j}}\\right)}{r} \\dot{x_i} \\dot{x_j} - V(r)$"
   ]
  },
  {
   "cell_type": "markdown",
   "id": "82c455bf",
   "metadata": {},
   "source": [
    "$L = \\sum_{i}^{} \\frac{1}{2} m_i \\dot{x_i}^2 + \\sum_{i}^{} \\sum_{j}^{} \\frac{1}{2} \\frac{q_{i}\\,q_{j}}{c^2}\\,\\frac{\\left(\\vec{\\dot{x_i}},\\vec{\\dot{x_j}}\\right)}{r} - V(r)$"
   ]
  },
  {
   "cell_type": "markdown",
   "id": "1cfbef48",
   "metadata": {},
   "source": [
    "$L = \\sum_{i}^{} \\frac{1}{2} m_i \\left(\\dot{x_i}^2+\\dot{y_i}^2+\\dot{z_i}^2\\right) + \\sum_{i}^{} \\sum_{j}^{} \\frac{1}{2} \\frac{q_{i}\\,q_{j}}{c^2}\\,\\frac{\\left(\\dot{x_i}\\dot{x_j} + \\dot{y_i}\\dot{y_j}+\\dot{z_i}\\dot{z_j}\\right)}{r} - V(r)$"
   ]
  },
  {
   "cell_type": "markdown",
   "id": "9207a8d9",
   "metadata": {},
   "source": [
    "$L = \\sum_{i}^{} \\frac{1}{2} m_i \\left(\\dot{x_i}^2+\\dot{y_i}^2+\\dot{z_i}^2\\right) + \\sum_{i}^{} \\sum_{j}^{} \\frac{1}{2} \\frac{q_{i}\\,q_{j}}{c^2}\\,\\frac{\\left(\\dot{x_i}\\dot{x_j} + \\dot{y_i}\\dot{y_j}+\\dot{z_i}\\dot{z_j}\\right)}{\\sqrt{\\left(x_i-x_j\\right)^2+\\left(y_i-y_j\\right)^2+\\left(z_i-z_j\\right)^2}} - V\\left(\\sqrt{\\left(x_i-x_j\\right)^2+\\left(y_i-y_j\\right)^2+\\left(z_i-z_j\\right)^2}\\right)$"
   ]
  },
  {
   "cell_type": "markdown",
   "id": "4f2725e8",
   "metadata": {},
   "source": [
    "Далее в данной работе введём коэффициент $С = \\frac{1}{2} \\frac{q_{i}\\,q_{j}}{c^2}$. Если сфера имеет распределение заряда отличающееся от равномерного коэффициент $С$ получит иное выражение. В данной работе будем рассматривать этот коэффициент как изменяемый параметр."
   ]
  },
  {
   "cell_type": "code",
   "execution_count": 1,
   "id": "56b59648",
   "metadata": {},
   "outputs": [],
   "source": [
    "from IPython.display import display, Math, Latex\n",
    "\n",
    "def disp(ex):\n",
    "    display(Math(latex(ex)))\n",
    "\n",
    "def displ(tex):\n",
    "    display(Math(tex))"
   ]
  },
  {
   "cell_type": "code",
   "execution_count": 2,
   "id": "418cb484",
   "metadata": {},
   "outputs": [],
   "source": [
    "# Объявление переменных и функций\n",
    "\n",
    "m_1,m_2 = var(\"m_1,m_2\")\n",
    "t = var(\"t\")\n",
    "C = var(\"C\")\n",
    "\n",
    "V_x_1 = var(\"v_x_1\")\n",
    "v_x_1 = function(\"v_x_1\")(t)\n",
    "\n",
    "V_x_2 = var(\"v_x_2\")\n",
    "v_x_2 = function(\"v_x_2\")(t)\n",
    "\n",
    "V_y_1 = var(\"v_y_1\")\n",
    "v_y_1 = function(\"v_y_1\")(t)\n",
    "\n",
    "V_y_2 = var(\"v_y_2\")\n",
    "v_y_2 = function(\"v_y_2\")(t)\n",
    "\n",
    "V_z_1 = var(\"v_z_1\")\n",
    "v_z_1 = function(\"v_z_1\")(t)\n",
    "\n",
    "V_z_2 = var(\"v_z_2\")\n",
    "v_z_2 = function(\"v_z_2\")(t)\n",
    "\n",
    "X_1 = var(\"x_1\")\n",
    "x_1 = function(\"x_1\")(t)\n",
    "\n",
    "X_2 = var(\"x_2\")\n",
    "x_2 = function(\"x_2\")(t)\n",
    "\n",
    "Y_1 = var(\"y_1\")\n",
    "y_1 = function(\"y_1\")(t)\n",
    "\n",
    "Y_2 = var(\"y_2\")\n",
    "y_2 = function(\"y_2\")(t)\n",
    "\n",
    "Z_1 = var(\"z_1\")\n",
    "z_1 = function(\"z_1\")(t)\n",
    "\n",
    "Z_2 = var(\"z_2\")\n",
    "z_2 = function(\"z_2\")(t)\n",
    "\n",
    "r = var(\"r\")\n",
    "V = function(\"V\")(r)\n",
    "\n",
    "P = var(\"p\")\n",
    "p = function(\"p\")(t)"
   ]
  },
  {
   "cell_type": "code",
   "execution_count": 3,
   "id": "af275ede",
   "metadata": {},
   "outputs": [],
   "source": [
    "# Lennard Jones\n",
    "#V = 1/r^12-1/r^6"
   ]
  },
  {
   "cell_type": "code",
   "execution_count": 4,
   "id": "ada865e3",
   "metadata": {},
   "outputs": [
    {
     "data": {
      "text/latex": [
       "$\\displaystyle \\frac{1}{2} \\, {\\left(\\frac{\\partial}{\\partial t}x_{1}\\left(t\\right)^{2} + \\frac{\\partial}{\\partial t}y_{1}\\left(t\\right)^{2} + \\frac{\\partial}{\\partial t}z_{1}\\left(t\\right)^{2}\\right)} m_{1} + \\frac{1}{2} \\, {\\left(\\frac{\\partial}{\\partial t}x_{2}\\left(t\\right)^{2} + \\frac{\\partial}{\\partial t}y_{2}\\left(t\\right)^{2} + \\frac{\\partial}{\\partial t}z_{2}\\left(t\\right)^{2}\\right)} m_{2} + \\frac{{\\left(\\frac{\\partial}{\\partial t}x_{1}\\left(t\\right) \\frac{\\partial}{\\partial t}x_{2}\\left(t\\right) + \\frac{\\partial}{\\partial t}y_{1}\\left(t\\right) \\frac{\\partial}{\\partial t}y_{2}\\left(t\\right) + \\frac{\\partial}{\\partial t}z_{1}\\left(t\\right) \\frac{\\partial}{\\partial t}z_{2}\\left(t\\right)\\right)} C}{\\sqrt{{\\left(x_{1}\\left(t\\right) - x_{2}\\left(t\\right)\\right)}^{2} + {\\left(y_{1}\\left(t\\right) - y_{2}\\left(t\\right)\\right)}^{2} + {\\left(z_{1}\\left(t\\right) - z_{2}\\left(t\\right)\\right)}^{2}}}$"
      ],
      "text/plain": [
       "<IPython.core.display.Math object>"
      ]
     },
     "metadata": {},
     "output_type": "display_data"
    }
   ],
   "source": [
    "# Кинетическая энергия\n",
    "\n",
    "T = (1/2) * m_1 * ((x_1.diff(t))^2 + (y_1.diff(t))^2 + (z_1.diff(t))^2) \\\n",
    "  + (1/2) * m_2 * ((x_2.diff(t))^2 + (y_2.diff(t))^2 + (z_2.diff(t))^2) \\\n",
    "  + C * (x_1.diff(t)*x_2.diff(t) + y_1.diff(t)*y_2.diff(t) + z_1.diff(t)*z_2.diff(t)) \\\n",
    "  / sqrt((x_1 - x_2)^2 + (y_1 - y_2)^2 + (z_1 - z_2)^2)\n",
    "disp(T)"
   ]
  },
  {
   "cell_type": "code",
   "execution_count": 5,
   "id": "b99fefd9",
   "metadata": {},
   "outputs": [
    {
     "data": {
      "text/latex": [
       "$\\displaystyle V\\left(\\sqrt{{\\left(x_{1}\\left(t\\right) - x_{2}\\left(t\\right)\\right)}^{2} + {\\left(y_{1}\\left(t\\right) - y_{2}\\left(t\\right)\\right)}^{2} + {\\left(z_{1}\\left(t\\right) - z_{2}\\left(t\\right)\\right)}^{2}}\\right)$"
      ],
      "text/plain": [
       "<IPython.core.display.Math object>"
      ]
     },
     "metadata": {},
     "output_type": "display_data"
    }
   ],
   "source": [
    "U = V(r = sqrt((x_1 - x_2)^2 + (y_1 - y_2)^2 + (z_1 - z_2)^2))\n",
    "disp(U)"
   ]
  },
  {
   "cell_type": "code",
   "execution_count": 6,
   "id": "2140a2f7",
   "metadata": {},
   "outputs": [
    {
     "data": {
      "text/latex": [
       "$\\displaystyle \\frac{1}{2} \\, {\\left(\\frac{\\partial}{\\partial t}x_{1}\\left(t\\right)^{2} + \\frac{\\partial}{\\partial t}y_{1}\\left(t\\right)^{2} + \\frac{\\partial}{\\partial t}z_{1}\\left(t\\right)^{2}\\right)} m_{1} + \\frac{1}{2} \\, {\\left(\\frac{\\partial}{\\partial t}x_{2}\\left(t\\right)^{2} + \\frac{\\partial}{\\partial t}y_{2}\\left(t\\right)^{2} + \\frac{\\partial}{\\partial t}z_{2}\\left(t\\right)^{2}\\right)} m_{2} + \\frac{{\\left(\\frac{\\partial}{\\partial t}x_{1}\\left(t\\right) \\frac{\\partial}{\\partial t}x_{2}\\left(t\\right) + \\frac{\\partial}{\\partial t}y_{1}\\left(t\\right) \\frac{\\partial}{\\partial t}y_{2}\\left(t\\right) + \\frac{\\partial}{\\partial t}z_{1}\\left(t\\right) \\frac{\\partial}{\\partial t}z_{2}\\left(t\\right)\\right)} C}{\\sqrt{{\\left(x_{1}\\left(t\\right) - x_{2}\\left(t\\right)\\right)}^{2} + {\\left(y_{1}\\left(t\\right) - y_{2}\\left(t\\right)\\right)}^{2} + {\\left(z_{1}\\left(t\\right) - z_{2}\\left(t\\right)\\right)}^{2}}} - V\\left(\\sqrt{{\\left(x_{1}\\left(t\\right) - x_{2}\\left(t\\right)\\right)}^{2} + {\\left(y_{1}\\left(t\\right) - y_{2}\\left(t\\right)\\right)}^{2} + {\\left(z_{1}\\left(t\\right) - z_{2}\\left(t\\right)\\right)}^{2}}\\right)$"
      ],
      "text/plain": [
       "<IPython.core.display.Math object>"
      ]
     },
     "metadata": {},
     "output_type": "display_data"
    }
   ],
   "source": [
    "L = T - U\n",
    "disp(L)"
   ]
  },
  {
   "cell_type": "code",
   "execution_count": 7,
   "id": "90fddf09",
   "metadata": {},
   "outputs": [
    {
     "data": {
      "text/latex": [
       "$\\displaystyle \\left[\\frac{\\partial}{\\partial t}x_{1}\\left(t\\right) = v_{x_{1}}, \\frac{\\partial}{\\partial t}y_{1}\\left(t\\right) = v_{y_{1}}, \\frac{\\partial}{\\partial t}z_{1}\\left(t\\right) = v_{z_{1}}, \\frac{\\partial}{\\partial t}x_{2}\\left(t\\right) = v_{x_{2}}, \\frac{\\partial}{\\partial t}y_{2}\\left(t\\right) = v_{y_{2}}, \\frac{\\partial}{\\partial t}z_{2}\\left(t\\right) = v_{z_{2}}\\right]$"
      ],
      "text/plain": [
       "<IPython.core.display.Math object>"
      ]
     },
     "metadata": {},
     "output_type": "display_data"
    },
    {
     "data": {
      "text/latex": [
       "$\\displaystyle \\left[\\frac{\\partial}{\\partial t}x_{1}\\left(t\\right) = v_{x_{1}}\\left(t\\right), \\frac{\\partial}{\\partial t}y_{1}\\left(t\\right) = v_{y_{1}}\\left(t\\right), \\frac{\\partial}{\\partial t}z_{1}\\left(t\\right) = v_{z_{1}}\\left(t\\right), \\frac{\\partial}{\\partial t}x_{2}\\left(t\\right) = v_{x_{2}}\\left(t\\right), \\frac{\\partial}{\\partial t}y_{2}\\left(t\\right) = v_{y_{2}}\\left(t\\right), \\frac{\\partial}{\\partial t}z_{2}\\left(t\\right) = v_{z_{2}}\\left(t\\right)\\right]$"
      ],
      "text/plain": [
       "<IPython.core.display.Math object>"
      ]
     },
     "metadata": {},
     "output_type": "display_data"
    }
   ],
   "source": [
    "# уравнения замены производных обобщенных координат на v\n",
    "\n",
    "xdot_to_v      = [x_1.diff(t) == V_x_1,\n",
    "                  y_1.diff(t) == V_y_1,\n",
    "                  z_1.diff(t) == V_z_1,\n",
    "                  x_2.diff(t) == V_x_2,\n",
    "                  y_2.diff(t) == V_y_2,\n",
    "                  z_2.diff(t) == V_z_2,\n",
    "                 ]\n",
    "disp(xdot_to_v)\n",
    "\n",
    "xdot_to_v_func = [x_1.diff(t) == v_x_1,\n",
    "                  y_1.diff(t) == v_y_1,\n",
    "                  z_1.diff(t) == v_z_1,\n",
    "                  x_2.diff(t) == v_x_2,\n",
    "                  y_2.diff(t) == v_y_2,\n",
    "                  z_2.diff(t) == v_z_2,\n",
    "                 ]\n",
    "disp(xdot_to_v_func)"
   ]
  },
  {
   "cell_type": "code",
   "execution_count": 8,
   "id": "95b71e0d",
   "metadata": {},
   "outputs": [
    {
     "data": {
      "text/latex": [
       "$\\displaystyle \\left[v_{x_{1}} = \\frac{\\partial}{\\partial t}x_{1}\\left(t\\right), v_{y_{1}} = \\frac{\\partial}{\\partial t}y_{1}\\left(t\\right), v_{z_{1}} = \\frac{\\partial}{\\partial t}z_{1}\\left(t\\right), v_{x_{2}} = \\frac{\\partial}{\\partial t}x_{2}\\left(t\\right), v_{y_{2}} = \\frac{\\partial}{\\partial t}y_{2}\\left(t\\right), v_{z_{2}} = \\frac{\\partial}{\\partial t}z_{2}\\left(t\\right)\\right]$"
      ],
      "text/plain": [
       "<IPython.core.display.Math object>"
      ]
     },
     "metadata": {},
     "output_type": "display_data"
    }
   ],
   "source": [
    "# уравнения замены производных обобщенных координат на v\n",
    "\n",
    "v_to_xdot      = [V_x_1 == x_1.diff(t),\n",
    "                  V_y_1 == y_1.diff(t),\n",
    "                  V_z_1 == z_1.diff(t),\n",
    "                  V_x_2 == x_2.diff(t),\n",
    "                  V_y_2 == y_2.diff(t),\n",
    "                  V_z_2 == z_2.diff(t),\n",
    "                 ]\n",
    "disp(v_to_xdot)"
   ]
  },
  {
   "cell_type": "code",
   "execution_count": null,
   "id": "b52e3128",
   "metadata": {},
   "outputs": [],
   "source": []
  },
  {
   "cell_type": "code",
   "execution_count": null,
   "id": "ac079591",
   "metadata": {},
   "outputs": [],
   "source": []
  },
  {
   "cell_type": "code",
   "execution_count": 9,
   "id": "89831a0b",
   "metadata": {},
   "outputs": [
    {
     "data": {
      "text/latex": [
       "$\\displaystyle \\left[x_{1} = x_{1}\\left(t\\right), y_{1} = y_{1}\\left(t\\right), z_{1} = z_{1}\\left(t\\right), x_{2} = x_{2}\\left(t\\right), y_{2} = y_{2}\\left(t\\right), z_{2} = z_{2}\\left(t\\right)\\right]$"
      ],
      "text/plain": [
       "<IPython.core.display.Math object>"
      ]
     },
     "metadata": {},
     "output_type": "display_data"
    }
   ],
   "source": [
    "X_to_x = [X_1 == x_1,\n",
    "          Y_1 == y_1,\n",
    "          Z_1 == z_1,\n",
    "          X_2 == x_2,\n",
    "          Y_2 == y_2,\n",
    "          Z_2 == z_2,\n",
    "         ]\n",
    "disp(X_to_x)"
   ]
  },
  {
   "cell_type": "code",
   "execution_count": 10,
   "id": "a92a2d10",
   "metadata": {},
   "outputs": [
    {
     "data": {
      "text/latex": [
       "$\\displaystyle \\left[x_{1}\\left(t\\right) = x_{1}, y_{1}\\left(t\\right) = y_{1}, z_{1}\\left(t\\right) = z_{1}, x_{2}\\left(t\\right) = x_{2}, y_{2}\\left(t\\right) = y_{2}, z_{2}\\left(t\\right) = z_{2}\\right]$"
      ],
      "text/plain": [
       "<IPython.core.display.Math object>"
      ]
     },
     "metadata": {},
     "output_type": "display_data"
    }
   ],
   "source": [
    "x_to_X = [x_1 == X_1,\n",
    "          y_1 == Y_1,\n",
    "          z_1 == Z_1,\n",
    "          x_2 == X_2,\n",
    "          y_2 == Y_2,\n",
    "          z_2 == Z_2,\n",
    "         ]\n",
    "disp(x_to_X)"
   ]
  },
  {
   "cell_type": "markdown",
   "id": "a831604f",
   "metadata": {},
   "source": [
    "Найдем обобщенные импульсы\n",
    "\n",
    "$P = \\frac{\\partial L}{\\partial \\dot{x}} = \\frac{\\partial L}{\\partial {v}}$"
   ]
  },
  {
   "cell_type": "code",
   "execution_count": 11,
   "id": "de80f1f6",
   "metadata": {},
   "outputs": [
    {
     "data": {
      "text/latex": [
       "$\\displaystyle \\frac{1}{2} \\, {\\left(v_{x_{1}}^{2} + v_{y_{1}}^{2} + v_{z_{1}}^{2}\\right)} m_{1} + \\frac{1}{2} \\, {\\left(v_{x_{2}}^{2} + v_{y_{2}}^{2} + v_{z_{2}}^{2}\\right)} m_{2} + \\frac{{\\left(v_{x_{1}} v_{x_{2}} + v_{y_{1}} v_{y_{2}} + v_{z_{1}} v_{z_{2}}\\right)} C}{\\sqrt{{\\left(x_{1}\\left(t\\right) - x_{2}\\left(t\\right)\\right)}^{2} + {\\left(y_{1}\\left(t\\right) - y_{2}\\left(t\\right)\\right)}^{2} + {\\left(z_{1}\\left(t\\right) - z_{2}\\left(t\\right)\\right)}^{2}}} - V\\left(\\sqrt{{\\left(x_{1}\\left(t\\right) - x_{2}\\left(t\\right)\\right)}^{2} + {\\left(y_{1}\\left(t\\right) - y_{2}\\left(t\\right)\\right)}^{2} + {\\left(z_{1}\\left(t\\right) - z_{2}\\left(t\\right)\\right)}^{2}}\\right)$"
      ],
      "text/plain": [
       "<IPython.core.display.Math object>"
      ]
     },
     "metadata": {},
     "output_type": "display_data"
    }
   ],
   "source": [
    "L_ = L.subs(xdot_to_v)\n",
    "disp(L_)"
   ]
  },
  {
   "cell_type": "code",
   "execution_count": 12,
   "id": "1357ed06",
   "metadata": {},
   "outputs": [
    {
     "data": {
      "text/latex": [
       "$\\displaystyle Px_1= m_{1} \\frac{\\partial}{\\partial t}x_{1}\\left(t\\right) + \\frac{C \\frac{\\partial}{\\partial t}x_{2}\\left(t\\right)}{\\sqrt{{\\left(x_{1}\\left(t\\right) - x_{2}\\left(t\\right)\\right)}^{2} + {\\left(y_{1}\\left(t\\right) - y_{2}\\left(t\\right)\\right)}^{2} + {\\left(z_{1}\\left(t\\right) - z_{2}\\left(t\\right)\\right)}^{2}}}$"
      ],
      "text/plain": [
       "<IPython.core.display.Math object>"
      ]
     },
     "metadata": {},
     "output_type": "display_data"
    },
    {
     "data": {
      "text/latex": [
       "$\\displaystyle Px_2= m_{2} \\frac{\\partial}{\\partial t}x_{2}\\left(t\\right) + \\frac{C \\frac{\\partial}{\\partial t}x_{1}\\left(t\\right)}{\\sqrt{{\\left(x_{1}\\left(t\\right) - x_{2}\\left(t\\right)\\right)}^{2} + {\\left(y_{1}\\left(t\\right) - y_{2}\\left(t\\right)\\right)}^{2} + {\\left(z_{1}\\left(t\\right) - z_{2}\\left(t\\right)\\right)}^{2}}}$"
      ],
      "text/plain": [
       "<IPython.core.display.Math object>"
      ]
     },
     "metadata": {},
     "output_type": "display_data"
    },
    {
     "name": "stdout",
     "output_type": "stream",
     "text": [
      "\n"
     ]
    },
    {
     "data": {
      "text/latex": [
       "$\\displaystyle Py_1= m_{1} \\frac{\\partial}{\\partial t}y_{1}\\left(t\\right) + \\frac{C \\frac{\\partial}{\\partial t}y_{2}\\left(t\\right)}{\\sqrt{{\\left(x_{1}\\left(t\\right) - x_{2}\\left(t\\right)\\right)}^{2} + {\\left(y_{1}\\left(t\\right) - y_{2}\\left(t\\right)\\right)}^{2} + {\\left(z_{1}\\left(t\\right) - z_{2}\\left(t\\right)\\right)}^{2}}}$"
      ],
      "text/plain": [
       "<IPython.core.display.Math object>"
      ]
     },
     "metadata": {},
     "output_type": "display_data"
    },
    {
     "data": {
      "text/latex": [
       "$\\displaystyle Py_2= m_{2} \\frac{\\partial}{\\partial t}y_{2}\\left(t\\right) + \\frac{C \\frac{\\partial}{\\partial t}y_{1}\\left(t\\right)}{\\sqrt{{\\left(x_{1}\\left(t\\right) - x_{2}\\left(t\\right)\\right)}^{2} + {\\left(y_{1}\\left(t\\right) - y_{2}\\left(t\\right)\\right)}^{2} + {\\left(z_{1}\\left(t\\right) - z_{2}\\left(t\\right)\\right)}^{2}}}$"
      ],
      "text/plain": [
       "<IPython.core.display.Math object>"
      ]
     },
     "metadata": {},
     "output_type": "display_data"
    },
    {
     "name": "stdout",
     "output_type": "stream",
     "text": [
      "\n"
     ]
    },
    {
     "data": {
      "text/latex": [
       "$\\displaystyle Pz_1= m_{1} \\frac{\\partial}{\\partial t}z_{1}\\left(t\\right) + \\frac{C \\frac{\\partial}{\\partial t}z_{2}\\left(t\\right)}{\\sqrt{{\\left(x_{1}\\left(t\\right) - x_{2}\\left(t\\right)\\right)}^{2} + {\\left(y_{1}\\left(t\\right) - y_{2}\\left(t\\right)\\right)}^{2} + {\\left(z_{1}\\left(t\\right) - z_{2}\\left(t\\right)\\right)}^{2}}}$"
      ],
      "text/plain": [
       "<IPython.core.display.Math object>"
      ]
     },
     "metadata": {},
     "output_type": "display_data"
    },
    {
     "data": {
      "text/latex": [
       "$\\displaystyle Pz_2= m_{2} \\frac{\\partial}{\\partial t}z_{2}\\left(t\\right) + \\frac{C \\frac{\\partial}{\\partial t}z_{1}\\left(t\\right)}{\\sqrt{{\\left(x_{1}\\left(t\\right) - x_{2}\\left(t\\right)\\right)}^{2} + {\\left(y_{1}\\left(t\\right) - y_{2}\\left(t\\right)\\right)}^{2} + {\\left(z_{1}\\left(t\\right) - z_{2}\\left(t\\right)\\right)}^{2}}}$"
      ],
      "text/plain": [
       "<IPython.core.display.Math object>"
      ]
     },
     "metadata": {},
     "output_type": "display_data"
    }
   ],
   "source": [
    "Px1 = L_.diff(V_x_1).subs(v_to_xdot)\n",
    "Px2 = L_.diff(V_x_2).subs(v_to_xdot)\n",
    "\n",
    "displ(\"Px_1=\" + latex(Px1))\n",
    "displ(\"Px_2=\" + latex(Px2))\n",
    "print(\"\")\n",
    "\n",
    "Py1 = L_.diff(V_y_1).subs(v_to_xdot)\n",
    "Py2 = L_.diff(V_y_2).subs(v_to_xdot)\n",
    "\n",
    "displ(\"Py_1=\"+latex(Py1))\n",
    "displ(\"Py_2=\"+latex(Py2))\n",
    "print(\"\")\n",
    "\n",
    "Pz1 = L_.diff(V_z_1).subs(v_to_xdot)\n",
    "Pz2 = L_.diff(V_z_2).subs(v_to_xdot)\n",
    "\n",
    "displ(\"Pz_1=\"+latex(Pz1))\n",
    "displ(\"Pz_2=\"+latex(Pz2))"
   ]
  },
  {
   "cell_type": "markdown",
   "id": "07d4cd95",
   "metadata": {},
   "source": [
    "Найдем обобщенные силы\n",
    "\n",
    "$\\frac{\\partial L}{\\partial {x}} = F$"
   ]
  },
  {
   "cell_type": "code",
   "execution_count": 13,
   "id": "a06a9f70",
   "metadata": {},
   "outputs": [
    {
     "data": {
      "text/latex": [
       "$\\displaystyle Fx_1= -\\frac{{\\left(\\frac{\\partial}{\\partial t}x_{1}\\left(t\\right) \\frac{\\partial}{\\partial t}x_{2}\\left(t\\right) + \\frac{\\partial}{\\partial t}y_{1}\\left(t\\right) \\frac{\\partial}{\\partial t}y_{2}\\left(t\\right) + \\frac{\\partial}{\\partial t}z_{1}\\left(t\\right) \\frac{\\partial}{\\partial t}z_{2}\\left(t\\right)\\right)} C {\\left(x_{1}\\left(t\\right) - x_{2}\\left(t\\right)\\right)}}{{\\left({\\left(x_{1}\\left(t\\right) - x_{2}\\left(t\\right)\\right)}^{2} + {\\left(y_{1}\\left(t\\right) - y_{2}\\left(t\\right)\\right)}^{2} + {\\left(z_{1}\\left(t\\right) - z_{2}\\left(t\\right)\\right)}^{2}\\right)}^{\\frac{3}{2}}} - \\frac{{\\left(x_{1}\\left(t\\right) - x_{2}\\left(t\\right)\\right)} \\mathrm{D}_{0}\\left(V\\right)\\left(\\sqrt{{\\left(x_{1}\\left(t\\right) - x_{2}\\left(t\\right)\\right)}^{2} + {\\left(y_{1}\\left(t\\right) - y_{2}\\left(t\\right)\\right)}^{2} + {\\left(z_{1}\\left(t\\right) - z_{2}\\left(t\\right)\\right)}^{2}}\\right)}{\\sqrt{{\\left(x_{1}\\left(t\\right) - x_{2}\\left(t\\right)\\right)}^{2} + {\\left(y_{1}\\left(t\\right) - y_{2}\\left(t\\right)\\right)}^{2} + {\\left(z_{1}\\left(t\\right) - z_{2}\\left(t\\right)\\right)}^{2}}}$"
      ],
      "text/plain": [
       "<IPython.core.display.Math object>"
      ]
     },
     "metadata": {},
     "output_type": "display_data"
    },
    {
     "data": {
      "text/latex": [
       "$\\displaystyle Fx_2= \\frac{{\\left(\\frac{\\partial}{\\partial t}x_{1}\\left(t\\right) \\frac{\\partial}{\\partial t}x_{2}\\left(t\\right) + \\frac{\\partial}{\\partial t}y_{1}\\left(t\\right) \\frac{\\partial}{\\partial t}y_{2}\\left(t\\right) + \\frac{\\partial}{\\partial t}z_{1}\\left(t\\right) \\frac{\\partial}{\\partial t}z_{2}\\left(t\\right)\\right)} C {\\left(x_{1}\\left(t\\right) - x_{2}\\left(t\\right)\\right)}}{{\\left({\\left(x_{1}\\left(t\\right) - x_{2}\\left(t\\right)\\right)}^{2} + {\\left(y_{1}\\left(t\\right) - y_{2}\\left(t\\right)\\right)}^{2} + {\\left(z_{1}\\left(t\\right) - z_{2}\\left(t\\right)\\right)}^{2}\\right)}^{\\frac{3}{2}}} + \\frac{{\\left(x_{1}\\left(t\\right) - x_{2}\\left(t\\right)\\right)} \\mathrm{D}_{0}\\left(V\\right)\\left(\\sqrt{{\\left(x_{1}\\left(t\\right) - x_{2}\\left(t\\right)\\right)}^{2} + {\\left(y_{1}\\left(t\\right) - y_{2}\\left(t\\right)\\right)}^{2} + {\\left(z_{1}\\left(t\\right) - z_{2}\\left(t\\right)\\right)}^{2}}\\right)}{\\sqrt{{\\left(x_{1}\\left(t\\right) - x_{2}\\left(t\\right)\\right)}^{2} + {\\left(y_{1}\\left(t\\right) - y_{2}\\left(t\\right)\\right)}^{2} + {\\left(z_{1}\\left(t\\right) - z_{2}\\left(t\\right)\\right)}^{2}}}$"
      ],
      "text/plain": [
       "<IPython.core.display.Math object>"
      ]
     },
     "metadata": {},
     "output_type": "display_data"
    },
    {
     "name": "stdout",
     "output_type": "stream",
     "text": [
      "\n"
     ]
    },
    {
     "data": {
      "text/latex": [
       "$\\displaystyle Fy_1= -\\frac{{\\left(\\frac{\\partial}{\\partial t}x_{1}\\left(t\\right) \\frac{\\partial}{\\partial t}x_{2}\\left(t\\right) + \\frac{\\partial}{\\partial t}y_{1}\\left(t\\right) \\frac{\\partial}{\\partial t}y_{2}\\left(t\\right) + \\frac{\\partial}{\\partial t}z_{1}\\left(t\\right) \\frac{\\partial}{\\partial t}z_{2}\\left(t\\right)\\right)} C {\\left(y_{1}\\left(t\\right) - y_{2}\\left(t\\right)\\right)}}{{\\left({\\left(x_{1}\\left(t\\right) - x_{2}\\left(t\\right)\\right)}^{2} + {\\left(y_{1}\\left(t\\right) - y_{2}\\left(t\\right)\\right)}^{2} + {\\left(z_{1}\\left(t\\right) - z_{2}\\left(t\\right)\\right)}^{2}\\right)}^{\\frac{3}{2}}} - \\frac{{\\left(y_{1}\\left(t\\right) - y_{2}\\left(t\\right)\\right)} \\mathrm{D}_{0}\\left(V\\right)\\left(\\sqrt{{\\left(x_{1}\\left(t\\right) - x_{2}\\left(t\\right)\\right)}^{2} + {\\left(y_{1}\\left(t\\right) - y_{2}\\left(t\\right)\\right)}^{2} + {\\left(z_{1}\\left(t\\right) - z_{2}\\left(t\\right)\\right)}^{2}}\\right)}{\\sqrt{{\\left(x_{1}\\left(t\\right) - x_{2}\\left(t\\right)\\right)}^{2} + {\\left(y_{1}\\left(t\\right) - y_{2}\\left(t\\right)\\right)}^{2} + {\\left(z_{1}\\left(t\\right) - z_{2}\\left(t\\right)\\right)}^{2}}}$"
      ],
      "text/plain": [
       "<IPython.core.display.Math object>"
      ]
     },
     "metadata": {},
     "output_type": "display_data"
    },
    {
     "data": {
      "text/latex": [
       "$\\displaystyle Fy_2= \\frac{{\\left(\\frac{\\partial}{\\partial t}x_{1}\\left(t\\right) \\frac{\\partial}{\\partial t}x_{2}\\left(t\\right) + \\frac{\\partial}{\\partial t}y_{1}\\left(t\\right) \\frac{\\partial}{\\partial t}y_{2}\\left(t\\right) + \\frac{\\partial}{\\partial t}z_{1}\\left(t\\right) \\frac{\\partial}{\\partial t}z_{2}\\left(t\\right)\\right)} C {\\left(x_{1}\\left(t\\right) - x_{2}\\left(t\\right)\\right)}}{{\\left({\\left(x_{1}\\left(t\\right) - x_{2}\\left(t\\right)\\right)}^{2} + {\\left(y_{1}\\left(t\\right) - y_{2}\\left(t\\right)\\right)}^{2} + {\\left(z_{1}\\left(t\\right) - z_{2}\\left(t\\right)\\right)}^{2}\\right)}^{\\frac{3}{2}}} + \\frac{{\\left(x_{1}\\left(t\\right) - x_{2}\\left(t\\right)\\right)} \\mathrm{D}_{0}\\left(V\\right)\\left(\\sqrt{{\\left(x_{1}\\left(t\\right) - x_{2}\\left(t\\right)\\right)}^{2} + {\\left(y_{1}\\left(t\\right) - y_{2}\\left(t\\right)\\right)}^{2} + {\\left(z_{1}\\left(t\\right) - z_{2}\\left(t\\right)\\right)}^{2}}\\right)}{\\sqrt{{\\left(x_{1}\\left(t\\right) - x_{2}\\left(t\\right)\\right)}^{2} + {\\left(y_{1}\\left(t\\right) - y_{2}\\left(t\\right)\\right)}^{2} + {\\left(z_{1}\\left(t\\right) - z_{2}\\left(t\\right)\\right)}^{2}}}$"
      ],
      "text/plain": [
       "<IPython.core.display.Math object>"
      ]
     },
     "metadata": {},
     "output_type": "display_data"
    },
    {
     "name": "stdout",
     "output_type": "stream",
     "text": [
      "\n"
     ]
    },
    {
     "data": {
      "text/latex": [
       "$\\displaystyle Fz_1= -\\frac{{\\left(\\frac{\\partial}{\\partial t}x_{1}\\left(t\\right) \\frac{\\partial}{\\partial t}x_{2}\\left(t\\right) + \\frac{\\partial}{\\partial t}y_{1}\\left(t\\right) \\frac{\\partial}{\\partial t}y_{2}\\left(t\\right) + \\frac{\\partial}{\\partial t}z_{1}\\left(t\\right) \\frac{\\partial}{\\partial t}z_{2}\\left(t\\right)\\right)} C {\\left(z_{1}\\left(t\\right) - z_{2}\\left(t\\right)\\right)}}{{\\left({\\left(x_{1}\\left(t\\right) - x_{2}\\left(t\\right)\\right)}^{2} + {\\left(y_{1}\\left(t\\right) - y_{2}\\left(t\\right)\\right)}^{2} + {\\left(z_{1}\\left(t\\right) - z_{2}\\left(t\\right)\\right)}^{2}\\right)}^{\\frac{3}{2}}} - \\frac{{\\left(z_{1}\\left(t\\right) - z_{2}\\left(t\\right)\\right)} \\mathrm{D}_{0}\\left(V\\right)\\left(\\sqrt{{\\left(x_{1}\\left(t\\right) - x_{2}\\left(t\\right)\\right)}^{2} + {\\left(y_{1}\\left(t\\right) - y_{2}\\left(t\\right)\\right)}^{2} + {\\left(z_{1}\\left(t\\right) - z_{2}\\left(t\\right)\\right)}^{2}}\\right)}{\\sqrt{{\\left(x_{1}\\left(t\\right) - x_{2}\\left(t\\right)\\right)}^{2} + {\\left(y_{1}\\left(t\\right) - y_{2}\\left(t\\right)\\right)}^{2} + {\\left(z_{1}\\left(t\\right) - z_{2}\\left(t\\right)\\right)}^{2}}}$"
      ],
      "text/plain": [
       "<IPython.core.display.Math object>"
      ]
     },
     "metadata": {},
     "output_type": "display_data"
    },
    {
     "data": {
      "text/latex": [
       "$\\displaystyle Fx_2= \\frac{{\\left(\\frac{\\partial}{\\partial t}x_{1}\\left(t\\right) \\frac{\\partial}{\\partial t}x_{2}\\left(t\\right) + \\frac{\\partial}{\\partial t}y_{1}\\left(t\\right) \\frac{\\partial}{\\partial t}y_{2}\\left(t\\right) + \\frac{\\partial}{\\partial t}z_{1}\\left(t\\right) \\frac{\\partial}{\\partial t}z_{2}\\left(t\\right)\\right)} C {\\left(z_{1}\\left(t\\right) - z_{2}\\left(t\\right)\\right)}}{{\\left({\\left(x_{1}\\left(t\\right) - x_{2}\\left(t\\right)\\right)}^{2} + {\\left(y_{1}\\left(t\\right) - y_{2}\\left(t\\right)\\right)}^{2} + {\\left(z_{1}\\left(t\\right) - z_{2}\\left(t\\right)\\right)}^{2}\\right)}^{\\frac{3}{2}}} + \\frac{{\\left(z_{1}\\left(t\\right) - z_{2}\\left(t\\right)\\right)} \\mathrm{D}_{0}\\left(V\\right)\\left(\\sqrt{{\\left(x_{1}\\left(t\\right) - x_{2}\\left(t\\right)\\right)}^{2} + {\\left(y_{1}\\left(t\\right) - y_{2}\\left(t\\right)\\right)}^{2} + {\\left(z_{1}\\left(t\\right) - z_{2}\\left(t\\right)\\right)}^{2}}\\right)}{\\sqrt{{\\left(x_{1}\\left(t\\right) - x_{2}\\left(t\\right)\\right)}^{2} + {\\left(y_{1}\\left(t\\right) - y_{2}\\left(t\\right)\\right)}^{2} + {\\left(z_{1}\\left(t\\right) - z_{2}\\left(t\\right)\\right)}^{2}}}$"
      ],
      "text/plain": [
       "<IPython.core.display.Math object>"
      ]
     },
     "metadata": {},
     "output_type": "display_data"
    }
   ],
   "source": [
    "Fx1 = L.subs(x_to_X).diff(X_1).subs(X_to_x)\n",
    "Fx2 = L.subs(x_to_X).diff(X_2).subs(X_to_x)\n",
    "\n",
    "Fy1 = L.subs(x_to_X).diff(Y_1).subs(X_to_x)\n",
    "Fy2 = L.subs(x_to_X).diff(Y_2).subs(X_to_x)\n",
    "\n",
    "Fz1 = L.subs(x_to_X).diff(Z_1).subs(X_to_x)\n",
    "Fz2 = L.subs(x_to_X).diff(Z_2).subs(X_to_x)\n",
    "\n",
    "displ(\"Fx_1=\" + latex(Fx1))\n",
    "displ(\"Fx_2=\" + latex(Fx2))\n",
    "print(\"\")\n",
    "\n",
    "displ(\"Fy_1=\" + latex(Fy1))\n",
    "displ(\"Fy_2=\" + latex(Fx2))\n",
    "print(\"\")\n",
    "\n",
    "displ(\"Fz_1=\" + latex(Fz1))\n",
    "displ(\"Fx_2=\" + latex(Fz2))"
   ]
  },
  {
   "cell_type": "markdown",
   "id": "4bfa994d",
   "metadata": {},
   "source": [
    "Запишем уравнения Эйлера-Лагранжа\n",
    "\n",
    "$\\frac{d}{dt}\\frac{\\partial L}{\\partial \\dot{x}} - \\frac{\\partial L}{\\partial {x}} = 0$"
   ]
  },
  {
   "cell_type": "code",
   "execution_count": 14,
   "id": "d2782850",
   "metadata": {},
   "outputs": [
    {
     "data": {
      "text/latex": [
       "$\\displaystyle m_{1} \\frac{\\partial^{2}}{(\\partial t)^{2}}x_{1}\\left(t\\right) - \\frac{{\\left({\\left(v_{x_{1}} - v_{x_{2}}\\right)} {\\left(x_{1} - x_{2}\\right)} + {\\left(v_{y_{1}} - v_{y_{2}}\\right)} {\\left(y_{1} - y_{2}\\right)} + {\\left(v_{z_{1}} - v_{z_{2}}\\right)} {\\left(z_{1} - z_{2}\\right)}\\right)} C v_{x_{2}}}{{\\left({\\left(x_{1} - x_{2}\\right)}^{2} + {\\left(y_{1} - y_{2}\\right)}^{2} + {\\left(z_{1} - z_{2}\\right)}^{2}\\right)}^{\\frac{3}{2}}} + \\frac{{\\left(v_{x_{1}} v_{x_{2}} + v_{y_{1}} v_{y_{2}} + v_{z_{1}} v_{z_{2}}\\right)} C {\\left(x_{1} - x_{2}\\right)}}{{\\left({\\left(x_{1} - x_{2}\\right)}^{2} + {\\left(y_{1} - y_{2}\\right)}^{2} + {\\left(z_{1} - z_{2}\\right)}^{2}\\right)}^{\\frac{3}{2}}} + \\frac{{\\left(x_{1} - x_{2}\\right)} \\mathrm{D}_{0}\\left(V\\right)\\left(\\sqrt{{\\left(x_{1} - x_{2}\\right)}^{2} + {\\left(y_{1} - y_{2}\\right)}^{2} + {\\left(z_{1} - z_{2}\\right)}^{2}}\\right)}{\\sqrt{{\\left(x_{1} - x_{2}\\right)}^{2} + {\\left(y_{1} - y_{2}\\right)}^{2} + {\\left(z_{1} - z_{2}\\right)}^{2}}} + \\frac{C \\frac{\\partial^{2}}{(\\partial t)^{2}}x_{2}\\left(t\\right)}{\\sqrt{{\\left(x_{1} - x_{2}\\right)}^{2} + {\\left(y_{1} - y_{2}\\right)}^{2} + {\\left(z_{1} - z_{2}\\right)}^{2}}} = 0$"
      ],
      "text/plain": [
       "<IPython.core.display.Math object>"
      ]
     },
     "metadata": {},
     "output_type": "display_data"
    }
   ],
   "source": [
    "dex1 = Px1.diff(t) - Fx1 == 0\n",
    "deX1 = dex1.subs(xdot_to_v).subs(x_to_X)\n",
    "disp(deX1)"
   ]
  },
  {
   "cell_type": "code",
   "execution_count": 15,
   "id": "967d8868",
   "metadata": {},
   "outputs": [
    {
     "data": {
      "text/latex": [
       "$\\displaystyle m_{2} \\frac{\\partial^{2}}{(\\partial t)^{2}}x_{2}\\left(t\\right) - \\frac{{\\left({\\left(v_{x_{1}} - v_{x_{2}}\\right)} {\\left(x_{1} - x_{2}\\right)} + {\\left(v_{y_{1}} - v_{y_{2}}\\right)} {\\left(y_{1} - y_{2}\\right)} + {\\left(v_{z_{1}} - v_{z_{2}}\\right)} {\\left(z_{1} - z_{2}\\right)}\\right)} C v_{x_{1}}}{{\\left({\\left(x_{1} - x_{2}\\right)}^{2} + {\\left(y_{1} - y_{2}\\right)}^{2} + {\\left(z_{1} - z_{2}\\right)}^{2}\\right)}^{\\frac{3}{2}}} - \\frac{{\\left(v_{x_{1}} v_{x_{2}} + v_{y_{1}} v_{y_{2}} + v_{z_{1}} v_{z_{2}}\\right)} C {\\left(x_{1} - x_{2}\\right)}}{{\\left({\\left(x_{1} - x_{2}\\right)}^{2} + {\\left(y_{1} - y_{2}\\right)}^{2} + {\\left(z_{1} - z_{2}\\right)}^{2}\\right)}^{\\frac{3}{2}}} - \\frac{{\\left(x_{1} - x_{2}\\right)} \\mathrm{D}_{0}\\left(V\\right)\\left(\\sqrt{{\\left(x_{1} - x_{2}\\right)}^{2} + {\\left(y_{1} - y_{2}\\right)}^{2} + {\\left(z_{1} - z_{2}\\right)}^{2}}\\right)}{\\sqrt{{\\left(x_{1} - x_{2}\\right)}^{2} + {\\left(y_{1} - y_{2}\\right)}^{2} + {\\left(z_{1} - z_{2}\\right)}^{2}}} + \\frac{C \\frac{\\partial^{2}}{(\\partial t)^{2}}x_{1}\\left(t\\right)}{\\sqrt{{\\left(x_{1} - x_{2}\\right)}^{2} + {\\left(y_{1} - y_{2}\\right)}^{2} + {\\left(z_{1} - z_{2}\\right)}^{2}}} = 0$"
      ],
      "text/plain": [
       "<IPython.core.display.Math object>"
      ]
     },
     "metadata": {},
     "output_type": "display_data"
    }
   ],
   "source": [
    "dex2 = Px2.diff(t) - Fx2 == 0\n",
    "deX2 = dex2.subs(xdot_to_v).subs(x_to_X)\n",
    "disp(deX2)"
   ]
  },
  {
   "cell_type": "code",
   "execution_count": 16,
   "id": "f973158c",
   "metadata": {},
   "outputs": [
    {
     "data": {
      "text/latex": [
       "$\\displaystyle -m_{1} \\frac{\\partial^{2}}{(\\partial t)^{2}}x_{1}\\left(t\\right) + m_{2} \\frac{\\partial^{2}}{(\\partial t)^{2}}x_{2}\\left(t\\right) - \\frac{{\\left({\\left(v_{x_{1}} - v_{x_{2}}\\right)} {\\left(x_{1} - x_{2}\\right)} + {\\left(v_{y_{1}} - v_{y_{2}}\\right)} {\\left(y_{1} - y_{2}\\right)} + {\\left(v_{z_{1}} - v_{z_{2}}\\right)} {\\left(z_{1} - z_{2}\\right)}\\right)} C v_{x_{1}}}{{\\left({\\left(x_{1} - x_{2}\\right)}^{2} + {\\left(y_{1} - y_{2}\\right)}^{2} + {\\left(z_{1} - z_{2}\\right)}^{2}\\right)}^{\\frac{3}{2}}} + \\frac{{\\left({\\left(v_{x_{1}} - v_{x_{2}}\\right)} {\\left(x_{1} - x_{2}\\right)} + {\\left(v_{y_{1}} - v_{y_{2}}\\right)} {\\left(y_{1} - y_{2}\\right)} + {\\left(v_{z_{1}} - v_{z_{2}}\\right)} {\\left(z_{1} - z_{2}\\right)}\\right)} C v_{x_{2}}}{{\\left({\\left(x_{1} - x_{2}\\right)}^{2} + {\\left(y_{1} - y_{2}\\right)}^{2} + {\\left(z_{1} - z_{2}\\right)}^{2}\\right)}^{\\frac{3}{2}}} - \\frac{2 \\, {\\left(v_{x_{1}} v_{x_{2}} + v_{y_{1}} v_{y_{2}} + v_{z_{1}} v_{z_{2}}\\right)} C {\\left(x_{1} - x_{2}\\right)}}{{\\left({\\left(x_{1} - x_{2}\\right)}^{2} + {\\left(y_{1} - y_{2}\\right)}^{2} + {\\left(z_{1} - z_{2}\\right)}^{2}\\right)}^{\\frac{3}{2}}} - \\frac{2 \\, {\\left(x_{1} - x_{2}\\right)} \\mathrm{D}_{0}\\left(V\\right)\\left(\\sqrt{{\\left(x_{1} - x_{2}\\right)}^{2} + {\\left(y_{1} - y_{2}\\right)}^{2} + {\\left(z_{1} - z_{2}\\right)}^{2}}\\right)}{\\sqrt{{\\left(x_{1} - x_{2}\\right)}^{2} + {\\left(y_{1} - y_{2}\\right)}^{2} + {\\left(z_{1} - z_{2}\\right)}^{2}}} + \\frac{C \\frac{\\partial^{2}}{(\\partial t)^{2}}x_{1}\\left(t\\right)}{\\sqrt{{\\left(x_{1} - x_{2}\\right)}^{2} + {\\left(y_{1} - y_{2}\\right)}^{2} + {\\left(z_{1} - z_{2}\\right)}^{2}}} - \\frac{C \\frac{\\partial^{2}}{(\\partial t)^{2}}x_{2}\\left(t\\right)}{\\sqrt{{\\left(x_{1} - x_{2}\\right)}^{2} + {\\left(y_{1} - y_{2}\\right)}^{2} + {\\left(z_{1} - z_{2}\\right)}^{2}}} = 0$"
      ],
      "text/plain": [
       "<IPython.core.display.Math object>"
      ]
     },
     "metadata": {},
     "output_type": "display_data"
    }
   ],
   "source": [
    "disp((deX2-deX1))"
   ]
  },
  {
   "cell_type": "markdown",
   "id": "f180d087",
   "metadata": {},
   "source": [
    "Выразим энергию через Лагранжиан\n",
    "\n",
    "$E = \\Sigma_{i}^{} \\frac {\\partial L}{\\partial \\dot{q}_i} \\frac {q_i}{dt} - L$"
   ]
  },
  {
   "cell_type": "code",
   "execution_count": 17,
   "id": "2b4f1691",
   "metadata": {},
   "outputs": [],
   "source": [
    "E = Px1 * x_1.diff(t) + Px2 * x_2.diff(t) \\\n",
    "  + Py1 * y_1.diff(t) + Py2 * y_2.diff(t) \\\n",
    "  + Pz1 * z_1.diff(t) + Pz2 * z_2.diff(t) \\\n",
    "  - L\n",
    "E = E.expand()\n",
    "#disp(E)"
   ]
  },
  {
   "cell_type": "code",
   "execution_count": 18,
   "id": "4213df14",
   "metadata": {},
   "outputs": [],
   "source": [
    "Ev = E.subs(xdot_to_v)\n",
    "#disp(Ev)"
   ]
  },
  {
   "cell_type": "markdown",
   "id": "7ffa00f3",
   "metadata": {},
   "source": [
    "# Интегрирование уравнений Гамильтона"
   ]
  },
  {
   "cell_type": "code",
   "execution_count": 19,
   "id": "2dd66f4f",
   "metadata": {},
   "outputs": [],
   "source": [
    "# Объявление переменных - обобщенные импульсы\n",
    "\n",
    "p_x_1, p_x_2 = var (\"p_x_1, p_x_2\")\n",
    "p_y_1, p_y_2 = var (\"p_y_1, p_y_2\")\n",
    "p_z_1, p_z_2 = var (\"p_z_1, p_z_2\")"
   ]
  },
  {
   "cell_type": "code",
   "execution_count": 20,
   "id": "ada9864c",
   "metadata": {},
   "outputs": [],
   "source": [
    "V = [V_x_1,V_x_2,V_y_1,V_y_2,V_z_1,V_z_2]\n",
    "X = [X_1,X_2,Y_1,Y_2,Z_1,Z_2]\n",
    "P = [p_x_1,p_x_2,p_y_1,p_y_2,p_z_1,p_z_2]"
   ]
  },
  {
   "cell_type": "code",
   "execution_count": 21,
   "id": "b9369688",
   "metadata": {},
   "outputs": [
    {
     "data": {
      "text/latex": [
       "$\\displaystyle p_{x_{1}} = m_{1} v_{x_{1}} + \\frac{C v_{x_{2}}}{\\sqrt{{\\left(x_{1}\\left(t\\right) - x_{2}\\left(t\\right)\\right)}^{2} + {\\left(y_{1}\\left(t\\right) - y_{2}\\left(t\\right)\\right)}^{2} + {\\left(z_{1}\\left(t\\right) - z_{2}\\left(t\\right)\\right)}^{2}}}$"
      ],
      "text/plain": [
       "<IPython.core.display.Math object>"
      ]
     },
     "metadata": {},
     "output_type": "display_data"
    },
    {
     "data": {
      "text/latex": [
       "$\\displaystyle p_{x_{2}} = m_{2} v_{x_{2}} + \\frac{C v_{x_{1}}}{\\sqrt{{\\left(x_{1}\\left(t\\right) - x_{2}\\left(t\\right)\\right)}^{2} + {\\left(y_{1}\\left(t\\right) - y_{2}\\left(t\\right)\\right)}^{2} + {\\left(z_{1}\\left(t\\right) - z_{2}\\left(t\\right)\\right)}^{2}}}$"
      ],
      "text/plain": [
       "<IPython.core.display.Math object>"
      ]
     },
     "metadata": {},
     "output_type": "display_data"
    },
    {
     "data": {
      "text/latex": [
       "$\\displaystyle p_{y_{1}} = m_{1} v_{y_{1}} + \\frac{C v_{y_{2}}}{\\sqrt{{\\left(x_{1}\\left(t\\right) - x_{2}\\left(t\\right)\\right)}^{2} + {\\left(y_{1}\\left(t\\right) - y_{2}\\left(t\\right)\\right)}^{2} + {\\left(z_{1}\\left(t\\right) - z_{2}\\left(t\\right)\\right)}^{2}}}$"
      ],
      "text/plain": [
       "<IPython.core.display.Math object>"
      ]
     },
     "metadata": {},
     "output_type": "display_data"
    },
    {
     "data": {
      "text/latex": [
       "$\\displaystyle p_{y_{2}} = m_{2} v_{y_{2}} + \\frac{C v_{y_{1}}}{\\sqrt{{\\left(x_{1}\\left(t\\right) - x_{2}\\left(t\\right)\\right)}^{2} + {\\left(y_{1}\\left(t\\right) - y_{2}\\left(t\\right)\\right)}^{2} + {\\left(z_{1}\\left(t\\right) - z_{2}\\left(t\\right)\\right)}^{2}}}$"
      ],
      "text/plain": [
       "<IPython.core.display.Math object>"
      ]
     },
     "metadata": {},
     "output_type": "display_data"
    },
    {
     "data": {
      "text/latex": [
       "$\\displaystyle p_{z_{1}} = m_{1} v_{z_{1}} + \\frac{C v_{z_{2}}}{\\sqrt{{\\left(x_{1}\\left(t\\right) - x_{2}\\left(t\\right)\\right)}^{2} + {\\left(y_{1}\\left(t\\right) - y_{2}\\left(t\\right)\\right)}^{2} + {\\left(z_{1}\\left(t\\right) - z_{2}\\left(t\\right)\\right)}^{2}}}$"
      ],
      "text/plain": [
       "<IPython.core.display.Math object>"
      ]
     },
     "metadata": {},
     "output_type": "display_data"
    },
    {
     "data": {
      "text/latex": [
       "$\\displaystyle p_{z_{2}} = m_{2} v_{z_{2}} + \\frac{C v_{z_{1}}}{\\sqrt{{\\left(x_{1}\\left(t\\right) - x_{2}\\left(t\\right)\\right)}^{2} + {\\left(y_{1}\\left(t\\right) - y_{2}\\left(t\\right)\\right)}^{2} + {\\left(z_{1}\\left(t\\right) - z_{2}\\left(t\\right)\\right)}^{2}}}$"
      ],
      "text/plain": [
       "<IPython.core.display.Math object>"
      ]
     },
     "metadata": {},
     "output_type": "display_data"
    }
   ],
   "source": [
    "# Записываем уравнения выражающие обобщенные импульсы\n",
    "# через производные Лагранжиана по скорости изменения обобщенной координаты (по v)\n",
    "\n",
    "eq_p_v = [p_x_1 == L_.diff(V_x_1),\n",
    "          p_x_2 == L_.diff(V_x_2),\n",
    "          p_y_1 == L_.diff(V_y_1),\n",
    "          p_y_2 == L_.diff(V_y_2),\n",
    "          p_z_1 == L_.diff(V_z_1),\n",
    "          p_z_2 == L_.diff(V_z_2),\n",
    "         ]\n",
    "for eq_p in eq_p_v:\n",
    "    disp(eq_p)"
   ]
  },
  {
   "cell_type": "code",
   "execution_count": 22,
   "id": "ec779dc2",
   "metadata": {},
   "outputs": [
    {
     "data": {
      "text/latex": [
       "$\\displaystyle v_{x_{1}} = -\\frac{C v_{x_{2}} - \\sqrt{{\\left(x_{1}\\left(t\\right) - x_{2}\\left(t\\right)\\right)}^{2} + {\\left(y_{1}\\left(t\\right) - y_{2}\\left(t\\right)\\right)}^{2} + {\\left(z_{1}\\left(t\\right) - z_{2}\\left(t\\right)\\right)}^{2}} p_{x_{1}}}{\\sqrt{{\\left(x_{1}\\left(t\\right) - x_{2}\\left(t\\right)\\right)}^{2} + {\\left(y_{1}\\left(t\\right) - y_{2}\\left(t\\right)\\right)}^{2} + {\\left(z_{1}\\left(t\\right) - z_{2}\\left(t\\right)\\right)}^{2}} m_{1}}$"
      ],
      "text/plain": [
       "<IPython.core.display.Math object>"
      ]
     },
     "metadata": {},
     "output_type": "display_data"
    },
    {
     "data": {
      "text/latex": [
       "$\\displaystyle v_{x_{2}} = -\\frac{C v_{x_{1}} - \\sqrt{{\\left(x_{1}\\left(t\\right) - x_{2}\\left(t\\right)\\right)}^{2} + {\\left(y_{1}\\left(t\\right) - y_{2}\\left(t\\right)\\right)}^{2} + {\\left(z_{1}\\left(t\\right) - z_{2}\\left(t\\right)\\right)}^{2}} p_{x_{2}}}{\\sqrt{{\\left(x_{1}\\left(t\\right) - x_{2}\\left(t\\right)\\right)}^{2} + {\\left(y_{1}\\left(t\\right) - y_{2}\\left(t\\right)\\right)}^{2} + {\\left(z_{1}\\left(t\\right) - z_{2}\\left(t\\right)\\right)}^{2}} m_{2}}$"
      ],
      "text/plain": [
       "<IPython.core.display.Math object>"
      ]
     },
     "metadata": {},
     "output_type": "display_data"
    },
    {
     "data": {
      "text/latex": [
       "$\\displaystyle v_{y_{1}} = -\\frac{C v_{y_{2}} - \\sqrt{{\\left(x_{1}\\left(t\\right) - x_{2}\\left(t\\right)\\right)}^{2} + {\\left(y_{1}\\left(t\\right) - y_{2}\\left(t\\right)\\right)}^{2} + {\\left(z_{1}\\left(t\\right) - z_{2}\\left(t\\right)\\right)}^{2}} p_{y_{1}}}{\\sqrt{{\\left(x_{1}\\left(t\\right) - x_{2}\\left(t\\right)\\right)}^{2} + {\\left(y_{1}\\left(t\\right) - y_{2}\\left(t\\right)\\right)}^{2} + {\\left(z_{1}\\left(t\\right) - z_{2}\\left(t\\right)\\right)}^{2}} m_{1}}$"
      ],
      "text/plain": [
       "<IPython.core.display.Math object>"
      ]
     },
     "metadata": {},
     "output_type": "display_data"
    },
    {
     "data": {
      "text/latex": [
       "$\\displaystyle v_{y_{2}} = -\\frac{C v_{y_{1}} - \\sqrt{{\\left(x_{1}\\left(t\\right) - x_{2}\\left(t\\right)\\right)}^{2} + {\\left(y_{1}\\left(t\\right) - y_{2}\\left(t\\right)\\right)}^{2} + {\\left(z_{1}\\left(t\\right) - z_{2}\\left(t\\right)\\right)}^{2}} p_{y_{2}}}{\\sqrt{{\\left(x_{1}\\left(t\\right) - x_{2}\\left(t\\right)\\right)}^{2} + {\\left(y_{1}\\left(t\\right) - y_{2}\\left(t\\right)\\right)}^{2} + {\\left(z_{1}\\left(t\\right) - z_{2}\\left(t\\right)\\right)}^{2}} m_{2}}$"
      ],
      "text/plain": [
       "<IPython.core.display.Math object>"
      ]
     },
     "metadata": {},
     "output_type": "display_data"
    },
    {
     "data": {
      "text/latex": [
       "$\\displaystyle v_{z_{1}} = -\\frac{C v_{z_{2}} - \\sqrt{{\\left(x_{1}\\left(t\\right) - x_{2}\\left(t\\right)\\right)}^{2} + {\\left(y_{1}\\left(t\\right) - y_{2}\\left(t\\right)\\right)}^{2} + {\\left(z_{1}\\left(t\\right) - z_{2}\\left(t\\right)\\right)}^{2}} p_{z_{1}}}{\\sqrt{{\\left(x_{1}\\left(t\\right) - x_{2}\\left(t\\right)\\right)}^{2} + {\\left(y_{1}\\left(t\\right) - y_{2}\\left(t\\right)\\right)}^{2} + {\\left(z_{1}\\left(t\\right) - z_{2}\\left(t\\right)\\right)}^{2}} m_{1}}$"
      ],
      "text/plain": [
       "<IPython.core.display.Math object>"
      ]
     },
     "metadata": {},
     "output_type": "display_data"
    },
    {
     "data": {
      "text/latex": [
       "$\\displaystyle v_{z_{2}} = -\\frac{C v_{z_{1}} - \\sqrt{{\\left(x_{1}\\left(t\\right) - x_{2}\\left(t\\right)\\right)}^{2} + {\\left(y_{1}\\left(t\\right) - y_{2}\\left(t\\right)\\right)}^{2} + {\\left(z_{1}\\left(t\\right) - z_{2}\\left(t\\right)\\right)}^{2}} p_{z_{2}}}{\\sqrt{{\\left(x_{1}\\left(t\\right) - x_{2}\\left(t\\right)\\right)}^{2} + {\\left(y_{1}\\left(t\\right) - y_{2}\\left(t\\right)\\right)}^{2} + {\\left(z_{1}\\left(t\\right) - z_{2}\\left(t\\right)\\right)}^{2}} m_{2}}$"
      ],
      "text/plain": [
       "<IPython.core.display.Math object>"
      ]
     },
     "metadata": {},
     "output_type": "display_data"
    }
   ],
   "source": [
    "# Ищем выражение для v через обобщенные импульсы, решая вышесозданную систему уравнений\n",
    "\n",
    "sol_v_p = []\n",
    "for i in range(len(V)):\n",
    "    sol_v_p += solve(eq_p_v[i], V[i])\n",
    "    disp(sol_v_p[i])"
   ]
  },
  {
   "cell_type": "code",
   "execution_count": 23,
   "id": "55c121b6",
   "metadata": {},
   "outputs": [],
   "source": [
    "sol_vp = []\n",
    "for i in range(len(V)):\n",
    "    vp = sol_v_p[i].lhs() == sol_v_p[i].rhs().subs(sol_v_p)\n",
    "    #disp(vp)\n",
    "    v_p = vp.solve(V[i])[0].full_simplify()\n",
    "    #disp(v_p)\n",
    "    sol_vp += [v_p]"
   ]
  },
  {
   "cell_type": "code",
   "execution_count": 30,
   "id": "5e1c6d3e",
   "metadata": {},
   "outputs": [
    {
     "data": {
      "text/latex": [
       "$\\displaystyle \\frac{{\\left(m_{2} p_{x_{1}} x_{1}^{2} - 2 \\, m_{2} p_{x_{1}} x_{1} x_{2} + m_{2} p_{x_{1}} x_{2}^{2} + m_{2} p_{x_{1}} y_{1}^{2} - 2 \\, m_{2} p_{x_{1}} y_{1} y_{2} + m_{2} p_{x_{1}} y_{2}^{2} + m_{2} p_{x_{1}} z_{1}^{2} - 2 \\, m_{2} p_{x_{1}} z_{1} z_{2} + m_{2} p_{x_{1}} z_{2}^{2} - \\sqrt{x_{1}^{2} - 2 \\, x_{1} x_{2} + x_{2}^{2} + y_{1}^{2} - 2 \\, y_{1} y_{2} + y_{2}^{2} + z_{1}^{2} - 2 \\, z_{1} z_{2} + z_{2}^{2}} C p_{x_{2}}\\right)}^{2} m_{1}}{2 \\, {\\left(m_{1} m_{2} x_{1}^{2} - 2 \\, m_{1} m_{2} x_{1} x_{2} + m_{1} m_{2} x_{2}^{2} + m_{1} m_{2} y_{1}^{2} - 2 \\, m_{1} m_{2} y_{1} y_{2} + m_{1} m_{2} y_{2}^{2} + m_{1} m_{2} z_{1}^{2} - 2 \\, m_{1} m_{2} z_{1} z_{2} + m_{1} m_{2} z_{2}^{2} - C^{2}\\right)}^{2}} + \\frac{{\\left(m_{2} p_{y_{1}} x_{1}^{2} - 2 \\, m_{2} p_{y_{1}} x_{1} x_{2} + m_{2} p_{y_{1}} x_{2}^{2} + m_{2} p_{y_{1}} y_{1}^{2} - 2 \\, m_{2} p_{y_{1}} y_{1} y_{2} + m_{2} p_{y_{1}} y_{2}^{2} + m_{2} p_{y_{1}} z_{1}^{2} - 2 \\, m_{2} p_{y_{1}} z_{1} z_{2} + m_{2} p_{y_{1}} z_{2}^{2} - \\sqrt{x_{1}^{2} - 2 \\, x_{1} x_{2} + x_{2}^{2} + y_{1}^{2} - 2 \\, y_{1} y_{2} + y_{2}^{2} + z_{1}^{2} - 2 \\, z_{1} z_{2} + z_{2}^{2}} C p_{y_{2}}\\right)}^{2} m_{1}}{2 \\, {\\left(m_{1} m_{2} x_{1}^{2} - 2 \\, m_{1} m_{2} x_{1} x_{2} + m_{1} m_{2} x_{2}^{2} + m_{1} m_{2} y_{1}^{2} - 2 \\, m_{1} m_{2} y_{1} y_{2} + m_{1} m_{2} y_{2}^{2} + m_{1} m_{2} z_{1}^{2} - 2 \\, m_{1} m_{2} z_{1} z_{2} + m_{1} m_{2} z_{2}^{2} - C^{2}\\right)}^{2}} + \\frac{{\\left(m_{2} p_{z_{1}} x_{1}^{2} - 2 \\, m_{2} p_{z_{1}} x_{1} x_{2} + m_{2} p_{z_{1}} x_{2}^{2} + m_{2} p_{z_{1}} y_{1}^{2} - 2 \\, m_{2} p_{z_{1}} y_{1} y_{2} + m_{2} p_{z_{1}} y_{2}^{2} + m_{2} p_{z_{1}} z_{1}^{2} - 2 \\, m_{2} p_{z_{1}} z_{1} z_{2} + m_{2} p_{z_{1}} z_{2}^{2} - \\sqrt{x_{1}^{2} - 2 \\, x_{1} x_{2} + x_{2}^{2} + y_{1}^{2} - 2 \\, y_{1} y_{2} + y_{2}^{2} + z_{1}^{2} - 2 \\, z_{1} z_{2} + z_{2}^{2}} C p_{z_{2}}\\right)}^{2} m_{1}}{2 \\, {\\left(m_{1} m_{2} x_{1}^{2} - 2 \\, m_{1} m_{2} x_{1} x_{2} + m_{1} m_{2} x_{2}^{2} + m_{1} m_{2} y_{1}^{2} - 2 \\, m_{1} m_{2} y_{1} y_{2} + m_{1} m_{2} y_{2}^{2} + m_{1} m_{2} z_{1}^{2} - 2 \\, m_{1} m_{2} z_{1} z_{2} + m_{1} m_{2} z_{2}^{2} - C^{2}\\right)}^{2}} + \\frac{{\\left(m_{1} p_{x_{2}} x_{1}^{2} - 2 \\, m_{1} p_{x_{2}} x_{1} x_{2} + m_{1} p_{x_{2}} x_{2}^{2} + m_{1} p_{x_{2}} y_{1}^{2} - 2 \\, m_{1} p_{x_{2}} y_{1} y_{2} + m_{1} p_{x_{2}} y_{2}^{2} + m_{1} p_{x_{2}} z_{1}^{2} - 2 \\, m_{1} p_{x_{2}} z_{1} z_{2} + m_{1} p_{x_{2}} z_{2}^{2} - \\sqrt{x_{1}^{2} - 2 \\, x_{1} x_{2} + x_{2}^{2} + y_{1}^{2} - 2 \\, y_{1} y_{2} + y_{2}^{2} + z_{1}^{2} - 2 \\, z_{1} z_{2} + z_{2}^{2}} C p_{x_{1}}\\right)}^{2} m_{2}}{2 \\, {\\left(m_{1} m_{2} x_{1}^{2} - 2 \\, m_{1} m_{2} x_{1} x_{2} + m_{1} m_{2} x_{2}^{2} + m_{1} m_{2} y_{1}^{2} - 2 \\, m_{1} m_{2} y_{1} y_{2} + m_{1} m_{2} y_{2}^{2} + m_{1} m_{2} z_{1}^{2} - 2 \\, m_{1} m_{2} z_{1} z_{2} + m_{1} m_{2} z_{2}^{2} - C^{2}\\right)}^{2}} + \\frac{{\\left(m_{1} p_{y_{2}} x_{1}^{2} - 2 \\, m_{1} p_{y_{2}} x_{1} x_{2} + m_{1} p_{y_{2}} x_{2}^{2} + m_{1} p_{y_{2}} y_{1}^{2} - 2 \\, m_{1} p_{y_{2}} y_{1} y_{2} + m_{1} p_{y_{2}} y_{2}^{2} + m_{1} p_{y_{2}} z_{1}^{2} - 2 \\, m_{1} p_{y_{2}} z_{1} z_{2} + m_{1} p_{y_{2}} z_{2}^{2} - \\sqrt{x_{1}^{2} - 2 \\, x_{1} x_{2} + x_{2}^{2} + y_{1}^{2} - 2 \\, y_{1} y_{2} + y_{2}^{2} + z_{1}^{2} - 2 \\, z_{1} z_{2} + z_{2}^{2}} C p_{y_{1}}\\right)}^{2} m_{2}}{2 \\, {\\left(m_{1} m_{2} x_{1}^{2} - 2 \\, m_{1} m_{2} x_{1} x_{2} + m_{1} m_{2} x_{2}^{2} + m_{1} m_{2} y_{1}^{2} - 2 \\, m_{1} m_{2} y_{1} y_{2} + m_{1} m_{2} y_{2}^{2} + m_{1} m_{2} z_{1}^{2} - 2 \\, m_{1} m_{2} z_{1} z_{2} + m_{1} m_{2} z_{2}^{2} - C^{2}\\right)}^{2}} + \\frac{{\\left(m_{1} p_{z_{2}} x_{1}^{2} - 2 \\, m_{1} p_{z_{2}} x_{1} x_{2} + m_{1} p_{z_{2}} x_{2}^{2} + m_{1} p_{z_{2}} y_{1}^{2} - 2 \\, m_{1} p_{z_{2}} y_{1} y_{2} + m_{1} p_{z_{2}} y_{2}^{2} + m_{1} p_{z_{2}} z_{1}^{2} - 2 \\, m_{1} p_{z_{2}} z_{1} z_{2} + m_{1} p_{z_{2}} z_{2}^{2} - \\sqrt{x_{1}^{2} - 2 \\, x_{1} x_{2} + x_{2}^{2} + y_{1}^{2} - 2 \\, y_{1} y_{2} + y_{2}^{2} + z_{1}^{2} - 2 \\, z_{1} z_{2} + z_{2}^{2}} C p_{z_{1}}\\right)}^{2} m_{2}}{2 \\, {\\left(m_{1} m_{2} x_{1}^{2} - 2 \\, m_{1} m_{2} x_{1} x_{2} + m_{1} m_{2} x_{2}^{2} + m_{1} m_{2} y_{1}^{2} - 2 \\, m_{1} m_{2} y_{1} y_{2} + m_{1} m_{2} y_{2}^{2} + m_{1} m_{2} z_{1}^{2} - 2 \\, m_{1} m_{2} z_{1} z_{2} + m_{1} m_{2} z_{2}^{2} - C^{2}\\right)}^{2}} + \\frac{{\\left(m_{2} p_{x_{1}} x_{1}^{2} - 2 \\, m_{2} p_{x_{1}} x_{1} x_{2} + m_{2} p_{x_{1}} x_{2}^{2} + m_{2} p_{x_{1}} y_{1}^{2} - 2 \\, m_{2} p_{x_{1}} y_{1} y_{2} + m_{2} p_{x_{1}} y_{2}^{2} + m_{2} p_{x_{1}} z_{1}^{2} - 2 \\, m_{2} p_{x_{1}} z_{1} z_{2} + m_{2} p_{x_{1}} z_{2}^{2} - \\sqrt{x_{1}^{2} - 2 \\, x_{1} x_{2} + x_{2}^{2} + y_{1}^{2} - 2 \\, y_{1} y_{2} + y_{2}^{2} + z_{1}^{2} - 2 \\, z_{1} z_{2} + z_{2}^{2}} C p_{x_{2}}\\right)} {\\left(m_{1} p_{x_{2}} x_{1}^{2} - 2 \\, m_{1} p_{x_{2}} x_{1} x_{2} + m_{1} p_{x_{2}} x_{2}^{2} + m_{1} p_{x_{2}} y_{1}^{2} - 2 \\, m_{1} p_{x_{2}} y_{1} y_{2} + m_{1} p_{x_{2}} y_{2}^{2} + m_{1} p_{x_{2}} z_{1}^{2} - 2 \\, m_{1} p_{x_{2}} z_{1} z_{2} + m_{1} p_{x_{2}} z_{2}^{2} - \\sqrt{x_{1}^{2} - 2 \\, x_{1} x_{2} + x_{2}^{2} + y_{1}^{2} - 2 \\, y_{1} y_{2} + y_{2}^{2} + z_{1}^{2} - 2 \\, z_{1} z_{2} + z_{2}^{2}} C p_{x_{1}}\\right)} C}{{\\left(m_{1} m_{2} x_{1}^{2} - 2 \\, m_{1} m_{2} x_{1} x_{2} + m_{1} m_{2} x_{2}^{2} + m_{1} m_{2} y_{1}^{2} - 2 \\, m_{1} m_{2} y_{1} y_{2} + m_{1} m_{2} y_{2}^{2} + m_{1} m_{2} z_{1}^{2} - 2 \\, m_{1} m_{2} z_{1} z_{2} + m_{1} m_{2} z_{2}^{2} - C^{2}\\right)}^{2} \\sqrt{x_{1}^{2} - 2 \\, x_{1} x_{2} + x_{2}^{2} + y_{1}^{2} - 2 \\, y_{1} y_{2} + y_{2}^{2} + z_{1}^{2} - 2 \\, z_{1} z_{2} + z_{2}^{2}}} + \\frac{{\\left(m_{2} p_{y_{1}} x_{1}^{2} - 2 \\, m_{2} p_{y_{1}} x_{1} x_{2} + m_{2} p_{y_{1}} x_{2}^{2} + m_{2} p_{y_{1}} y_{1}^{2} - 2 \\, m_{2} p_{y_{1}} y_{1} y_{2} + m_{2} p_{y_{1}} y_{2}^{2} + m_{2} p_{y_{1}} z_{1}^{2} - 2 \\, m_{2} p_{y_{1}} z_{1} z_{2} + m_{2} p_{y_{1}} z_{2}^{2} - \\sqrt{x_{1}^{2} - 2 \\, x_{1} x_{2} + x_{2}^{2} + y_{1}^{2} - 2 \\, y_{1} y_{2} + y_{2}^{2} + z_{1}^{2} - 2 \\, z_{1} z_{2} + z_{2}^{2}} C p_{y_{2}}\\right)} {\\left(m_{1} p_{y_{2}} x_{1}^{2} - 2 \\, m_{1} p_{y_{2}} x_{1} x_{2} + m_{1} p_{y_{2}} x_{2}^{2} + m_{1} p_{y_{2}} y_{1}^{2} - 2 \\, m_{1} p_{y_{2}} y_{1} y_{2} + m_{1} p_{y_{2}} y_{2}^{2} + m_{1} p_{y_{2}} z_{1}^{2} - 2 \\, m_{1} p_{y_{2}} z_{1} z_{2} + m_{1} p_{y_{2}} z_{2}^{2} - \\sqrt{x_{1}^{2} - 2 \\, x_{1} x_{2} + x_{2}^{2} + y_{1}^{2} - 2 \\, y_{1} y_{2} + y_{2}^{2} + z_{1}^{2} - 2 \\, z_{1} z_{2} + z_{2}^{2}} C p_{y_{1}}\\right)} C}{{\\left(m_{1} m_{2} x_{1}^{2} - 2 \\, m_{1} m_{2} x_{1} x_{2} + m_{1} m_{2} x_{2}^{2} + m_{1} m_{2} y_{1}^{2} - 2 \\, m_{1} m_{2} y_{1} y_{2} + m_{1} m_{2} y_{2}^{2} + m_{1} m_{2} z_{1}^{2} - 2 \\, m_{1} m_{2} z_{1} z_{2} + m_{1} m_{2} z_{2}^{2} - C^{2}\\right)}^{2} \\sqrt{x_{1}^{2} - 2 \\, x_{1} x_{2} + x_{2}^{2} + y_{1}^{2} - 2 \\, y_{1} y_{2} + y_{2}^{2} + z_{1}^{2} - 2 \\, z_{1} z_{2} + z_{2}^{2}}} + \\frac{{\\left(m_{2} p_{z_{1}} x_{1}^{2} - 2 \\, m_{2} p_{z_{1}} x_{1} x_{2} + m_{2} p_{z_{1}} x_{2}^{2} + m_{2} p_{z_{1}} y_{1}^{2} - 2 \\, m_{2} p_{z_{1}} y_{1} y_{2} + m_{2} p_{z_{1}} y_{2}^{2} + m_{2} p_{z_{1}} z_{1}^{2} - 2 \\, m_{2} p_{z_{1}} z_{1} z_{2} + m_{2} p_{z_{1}} z_{2}^{2} - \\sqrt{x_{1}^{2} - 2 \\, x_{1} x_{2} + x_{2}^{2} + y_{1}^{2} - 2 \\, y_{1} y_{2} + y_{2}^{2} + z_{1}^{2} - 2 \\, z_{1} z_{2} + z_{2}^{2}} C p_{z_{2}}\\right)} {\\left(m_{1} p_{z_{2}} x_{1}^{2} - 2 \\, m_{1} p_{z_{2}} x_{1} x_{2} + m_{1} p_{z_{2}} x_{2}^{2} + m_{1} p_{z_{2}} y_{1}^{2} - 2 \\, m_{1} p_{z_{2}} y_{1} y_{2} + m_{1} p_{z_{2}} y_{2}^{2} + m_{1} p_{z_{2}} z_{1}^{2} - 2 \\, m_{1} p_{z_{2}} z_{1} z_{2} + m_{1} p_{z_{2}} z_{2}^{2} - \\sqrt{x_{1}^{2} - 2 \\, x_{1} x_{2} + x_{2}^{2} + y_{1}^{2} - 2 \\, y_{1} y_{2} + y_{2}^{2} + z_{1}^{2} - 2 \\, z_{1} z_{2} + z_{2}^{2}} C p_{z_{1}}\\right)} C}{{\\left(m_{1} m_{2} x_{1}^{2} - 2 \\, m_{1} m_{2} x_{1} x_{2} + m_{1} m_{2} x_{2}^{2} + m_{1} m_{2} y_{1}^{2} - 2 \\, m_{1} m_{2} y_{1} y_{2} + m_{1} m_{2} y_{2}^{2} + m_{1} m_{2} z_{1}^{2} - 2 \\, m_{1} m_{2} z_{1} z_{2} + m_{1} m_{2} z_{2}^{2} - C^{2}\\right)}^{2} \\sqrt{x_{1}^{2} - 2 \\, x_{1} x_{2} + x_{2}^{2} + y_{1}^{2} - 2 \\, y_{1} y_{2} + y_{2}^{2} + z_{1}^{2} - 2 \\, z_{1} z_{2} + z_{2}^{2}}} + V\\left(\\sqrt{x_{1}^{2} - 2 \\, x_{1} x_{2} + x_{2}^{2} + y_{1}^{2} - 2 \\, y_{1} y_{2} + y_{2}^{2} + z_{1}^{2} - 2 \\, z_{1} z_{2} + z_{2}^{2}}\\right)$"
      ],
      "text/plain": [
       "<IPython.core.display.Math object>"
      ]
     },
     "metadata": {},
     "output_type": "display_data"
    }
   ],
   "source": [
    "# Находим выражение для Гамильтониана исходя из\n",
    "# выражения энергии через Лагранжиан\n",
    "# используя вышенайденную подстановку,\n",
    "# выражающую v через обобщенные импульсы и координаты\n",
    "\n",
    "H = (Ev).subs(sol_vp).subs(x_to_X)\n",
    "disp(H)"
   ]
  },
  {
   "cell_type": "code",
   "execution_count": 25,
   "id": "a0ffc9b2",
   "metadata": {},
   "outputs": [
    {
     "data": {
      "text/plain": [
       "(C,\n",
       " m_1,\n",
       " m_2,\n",
       " p_x_1,\n",
       " p_x_2,\n",
       " p_y_1,\n",
       " p_y_2,\n",
       " p_z_1,\n",
       " p_z_2,\n",
       " x_1,\n",
       " x_2,\n",
       " y_1,\n",
       " y_2,\n",
       " z_1,\n",
       " z_2)"
      ]
     },
     "execution_count": 25,
     "metadata": {},
     "output_type": "execute_result"
    }
   ],
   "source": [
    "H.variables()"
   ]
  },
  {
   "cell_type": "code",
   "execution_count": 36,
   "id": "c48452a0",
   "metadata": {},
   "outputs": [
    {
     "data": {
      "text/latex": [
       "$\\displaystyle \\frac{m_{2} p_{x_{1}}^{2} + m_{1} p_{x_{2}}^{2} + m_{2} p_{y_{1}}^{2} + m_{1} p_{y_{2}}^{2} + m_{2} p_{z_{1}}^{2} + m_{1} p_{z_{2}}^{2} + 2 \\, m_{1} m_{2} V\\left(\\sqrt{x_{1}^{2} - 2 \\, x_{1} x_{2} + x_{2}^{2} + y_{1}^{2} - 2 \\, y_{1} y_{2} + y_{2}^{2} + z_{1}^{2} - 2 \\, z_{1} z_{2} + z_{2}^{2}}\\right)}{2 \\, m_{1} m_{2}}$"
      ],
      "text/plain": [
       "<IPython.core.display.Math object>"
      ]
     },
     "metadata": {},
     "output_type": "display_data"
    }
   ],
   "source": [
    "# Обычный Гамильтониан без использования кроссмасс\n",
    "H0 = H.subs(C == 0)\n",
    "H0 = H0.factor()\n",
    "disp(H0)"
   ]
  },
  {
   "cell_type": "markdown",
   "id": "c6cda84b",
   "metadata": {},
   "source": [
    "Записываем уравнения Гамильтона\n",
    "\n",
    "$\\dot{p}_i = - \\frac{\\partial H}{\\partial q_i}$\n",
    "\n",
    "$\\dot{q}_i = \\frac{\\partial H}{\\partial p_i}$"
   ]
  },
  {
   "cell_type": "code",
   "execution_count": 37,
   "id": "81849b0d",
   "metadata": {},
   "outputs": [
    {
     "data": {
      "text/plain": [
       "[p_x_1, p_x_2, p_y_1, p_y_2, p_z_1, p_z_2, x_1, x_2, y_1, y_2, z_1, z_2]"
      ]
     },
     "execution_count": 37,
     "metadata": {},
     "output_type": "execute_result"
    }
   ],
   "source": [
    "dvars=P+X\n",
    "dvars"
   ]
  },
  {
   "cell_type": "code",
   "execution_count": 38,
   "id": "91f932d8",
   "metadata": {},
   "outputs": [],
   "source": [
    "dot_P = []\n",
    "dot_X = []\n",
    "for i in range(len(X)):\n",
    "    dot_p_i = - H.diff(X[i])\n",
    "    dot_x_i =   H.diff(P[i])\n",
    "    dot_P += [dot_p_i]\n",
    "    dot_X += [dot_x_i]\n",
    "    #disp(dot_p_i)\n",
    "    #disp(dot_x_i)"
   ]
  },
  {
   "cell_type": "code",
   "execution_count": 39,
   "id": "0deaa008",
   "metadata": {},
   "outputs": [
    {
     "data": {
      "text/latex": [
       "$\\displaystyle -\\frac{{\\left(x_{1} - x_{2}\\right)} \\mathrm{D}_{0}\\left(V\\right)\\left(\\sqrt{x_{1}^{2} - 2 \\, x_{1} x_{2} + x_{2}^{2} + y_{1}^{2} - 2 \\, y_{1} y_{2} + y_{2}^{2} + z_{1}^{2} - 2 \\, z_{1} z_{2} + z_{2}^{2}}\\right)}{\\sqrt{x_{1}^{2} - 2 \\, x_{1} x_{2} + x_{2}^{2} + y_{1}^{2} - 2 \\, y_{1} y_{2} + y_{2}^{2} + z_{1}^{2} - 2 \\, z_{1} z_{2} + z_{2}^{2}}}$"
      ],
      "text/plain": [
       "<IPython.core.display.Math object>"
      ]
     },
     "metadata": {},
     "output_type": "display_data"
    },
    {
     "data": {
      "text/latex": [
       "$\\displaystyle \\frac{p_{x_{1}}}{m_{1}}$"
      ],
      "text/plain": [
       "<IPython.core.display.Math object>"
      ]
     },
     "metadata": {},
     "output_type": "display_data"
    },
    {
     "data": {
      "text/latex": [
       "$\\displaystyle \\frac{{\\left(x_{1} - x_{2}\\right)} \\mathrm{D}_{0}\\left(V\\right)\\left(\\sqrt{x_{1}^{2} - 2 \\, x_{1} x_{2} + x_{2}^{2} + y_{1}^{2} - 2 \\, y_{1} y_{2} + y_{2}^{2} + z_{1}^{2} - 2 \\, z_{1} z_{2} + z_{2}^{2}}\\right)}{\\sqrt{x_{1}^{2} - 2 \\, x_{1} x_{2} + x_{2}^{2} + y_{1}^{2} - 2 \\, y_{1} y_{2} + y_{2}^{2} + z_{1}^{2} - 2 \\, z_{1} z_{2} + z_{2}^{2}}}$"
      ],
      "text/plain": [
       "<IPython.core.display.Math object>"
      ]
     },
     "metadata": {},
     "output_type": "display_data"
    },
    {
     "data": {
      "text/latex": [
       "$\\displaystyle \\frac{p_{x_{2}}}{m_{2}}$"
      ],
      "text/plain": [
       "<IPython.core.display.Math object>"
      ]
     },
     "metadata": {},
     "output_type": "display_data"
    },
    {
     "data": {
      "text/latex": [
       "$\\displaystyle -\\frac{{\\left(y_{1} - y_{2}\\right)} \\mathrm{D}_{0}\\left(V\\right)\\left(\\sqrt{x_{1}^{2} - 2 \\, x_{1} x_{2} + x_{2}^{2} + y_{1}^{2} - 2 \\, y_{1} y_{2} + y_{2}^{2} + z_{1}^{2} - 2 \\, z_{1} z_{2} + z_{2}^{2}}\\right)}{\\sqrt{x_{1}^{2} - 2 \\, x_{1} x_{2} + x_{2}^{2} + y_{1}^{2} - 2 \\, y_{1} y_{2} + y_{2}^{2} + z_{1}^{2} - 2 \\, z_{1} z_{2} + z_{2}^{2}}}$"
      ],
      "text/plain": [
       "<IPython.core.display.Math object>"
      ]
     },
     "metadata": {},
     "output_type": "display_data"
    },
    {
     "data": {
      "text/latex": [
       "$\\displaystyle \\frac{p_{y_{1}}}{m_{1}}$"
      ],
      "text/plain": [
       "<IPython.core.display.Math object>"
      ]
     },
     "metadata": {},
     "output_type": "display_data"
    },
    {
     "data": {
      "text/latex": [
       "$\\displaystyle \\frac{{\\left(y_{1} - y_{2}\\right)} \\mathrm{D}_{0}\\left(V\\right)\\left(\\sqrt{x_{1}^{2} - 2 \\, x_{1} x_{2} + x_{2}^{2} + y_{1}^{2} - 2 \\, y_{1} y_{2} + y_{2}^{2} + z_{1}^{2} - 2 \\, z_{1} z_{2} + z_{2}^{2}}\\right)}{\\sqrt{x_{1}^{2} - 2 \\, x_{1} x_{2} + x_{2}^{2} + y_{1}^{2} - 2 \\, y_{1} y_{2} + y_{2}^{2} + z_{1}^{2} - 2 \\, z_{1} z_{2} + z_{2}^{2}}}$"
      ],
      "text/plain": [
       "<IPython.core.display.Math object>"
      ]
     },
     "metadata": {},
     "output_type": "display_data"
    },
    {
     "data": {
      "text/latex": [
       "$\\displaystyle \\frac{p_{y_{2}}}{m_{2}}$"
      ],
      "text/plain": [
       "<IPython.core.display.Math object>"
      ]
     },
     "metadata": {},
     "output_type": "display_data"
    },
    {
     "data": {
      "text/latex": [
       "$\\displaystyle -\\frac{{\\left(z_{1} - z_{2}\\right)} \\mathrm{D}_{0}\\left(V\\right)\\left(\\sqrt{x_{1}^{2} - 2 \\, x_{1} x_{2} + x_{2}^{2} + y_{1}^{2} - 2 \\, y_{1} y_{2} + y_{2}^{2} + z_{1}^{2} - 2 \\, z_{1} z_{2} + z_{2}^{2}}\\right)}{\\sqrt{x_{1}^{2} - 2 \\, x_{1} x_{2} + x_{2}^{2} + y_{1}^{2} - 2 \\, y_{1} y_{2} + y_{2}^{2} + z_{1}^{2} - 2 \\, z_{1} z_{2} + z_{2}^{2}}}$"
      ],
      "text/plain": [
       "<IPython.core.display.Math object>"
      ]
     },
     "metadata": {},
     "output_type": "display_data"
    },
    {
     "data": {
      "text/latex": [
       "$\\displaystyle \\frac{p_{z_{1}}}{m_{1}}$"
      ],
      "text/plain": [
       "<IPython.core.display.Math object>"
      ]
     },
     "metadata": {},
     "output_type": "display_data"
    },
    {
     "data": {
      "text/latex": [
       "$\\displaystyle \\frac{{\\left(z_{1} - z_{2}\\right)} \\mathrm{D}_{0}\\left(V\\right)\\left(\\sqrt{x_{1}^{2} - 2 \\, x_{1} x_{2} + x_{2}^{2} + y_{1}^{2} - 2 \\, y_{1} y_{2} + y_{2}^{2} + z_{1}^{2} - 2 \\, z_{1} z_{2} + z_{2}^{2}}\\right)}{\\sqrt{x_{1}^{2} - 2 \\, x_{1} x_{2} + x_{2}^{2} + y_{1}^{2} - 2 \\, y_{1} y_{2} + y_{2}^{2} + z_{1}^{2} - 2 \\, z_{1} z_{2} + z_{2}^{2}}}$"
      ],
      "text/plain": [
       "<IPython.core.display.Math object>"
      ]
     },
     "metadata": {},
     "output_type": "display_data"
    },
    {
     "data": {
      "text/latex": [
       "$\\displaystyle \\frac{p_{z_{2}}}{m_{2}}$"
      ],
      "text/plain": [
       "<IPython.core.display.Math object>"
      ]
     },
     "metadata": {},
     "output_type": "display_data"
    }
   ],
   "source": [
    "dot_P0 = []\n",
    "dot_X0 = []\n",
    "for i in range(len(X)):\n",
    "    dot_p0_i = - H0.diff(X[i])\n",
    "    dot_x0_i =   H0.diff(P[i])\n",
    "    dot_P0 += [dot_p0_i]\n",
    "    dot_X0 += [dot_x0_i]\n",
    "    disp(dot_p0_i)\n",
    "    disp(dot_x0_i)"
   ]
  },
  {
   "cell_type": "code",
   "execution_count": 29,
   "id": "4103acf0",
   "metadata": {},
   "outputs": [],
   "source": [
    "# полученные уравнения Гамильтона обьединяем в систему из 2 уравнений\n",
    "des = dot_P + dot_X\n",
    "#disp(des)"
   ]
  },
  {
   "cell_type": "code",
   "execution_count": 31,
   "id": "540f85e8",
   "metadata": {},
   "outputs": [
    {
     "data": {
      "text/plain": [
       "[m_1 == 1, m_2 == 1, C == 1]"
      ]
     },
     "execution_count": 31,
     "metadata": {},
     "output_type": "execute_result"
    }
   ],
   "source": [
    "values = [m_1 == 1, m_2 == 1, C == 1]\n",
    "values"
   ]
  },
  {
   "cell_type": "code",
   "execution_count": 33,
   "id": "ae40ed51",
   "metadata": {},
   "outputs": [],
   "source": [
    "# в которой делаем подстановку численных значений масс\n",
    "f = [de_i.subs(values) for de_i in des]\n",
    "#disp(f)"
   ]
  },
  {
   "cell_type": "code",
   "execution_count": null,
   "id": "06e16ad6",
   "metadata": {},
   "outputs": [],
   "source": []
  }
 ],
 "metadata": {
  "kernelspec": {
   "display_name": "SageMath 9.6.beta7",
   "language": "sage",
   "name": "sagemath"
  },
  "language_info": {
   "codemirror_mode": {
    "name": "ipython",
    "version": 3
   },
   "file_extension": ".py",
   "mimetype": "text/x-python",
   "name": "python",
   "nbconvert_exporter": "python",
   "pygments_lexer": "ipython3",
   "version": "3.10.3"
  }
 },
 "nbformat": 4,
 "nbformat_minor": 5
}
