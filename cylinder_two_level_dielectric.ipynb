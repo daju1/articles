{
 "cells": [
  {
   "cell_type": "code",
   "execution_count": 1,
   "metadata": {},
   "outputs": [],
   "source": [
    "%display latex"
   ]
  },
  {
   "cell_type": "code",
   "execution_count": 2,
   "metadata": {},
   "outputs": [],
   "source": [
    "from IPython.display import display, Math, Latex"
   ]
  },
  {
   "cell_type": "code",
   "execution_count": 3,
   "metadata": {},
   "outputs": [],
   "source": [
    "kappa = var(\"kappa\")\n",
    "\n",
    "z = var(\"z\")\n",
    "rh = var(\"rho\")\n",
    "ph = var(\"varphi\")\n",
    "\n",
    "c = var(\"c\")\n",
    "omega = var(\"omega\")\n",
    "\n",
    "h = var(\"h\")\n",
    "a = var(\"a\")"
   ]
  },
  {
   "cell_type": "code",
   "execution_count": 4,
   "metadata": {},
   "outputs": [],
   "source": [
    "n_layers = 2"
   ]
  },
  {
   "cell_type": "code",
   "execution_count": 5,
   "metadata": {},
   "outputs": [],
   "source": [
    "mu = []\n",
    "for i in range(n_layers):\n",
    "    exec(\"mu_\" + str(i) + \"= var('mu_\" + str(i) + \"')\")\n",
    "    exec(\"mu += [mu_\" + str(i) +\"]\")"
   ]
  },
  {
   "cell_type": "code",
   "execution_count": 6,
   "metadata": {},
   "outputs": [],
   "source": [
    "epsilon = []\n",
    "for i in range(n_layers):\n",
    "    exec(\"epsilon_\" + str(i) + \"= var('epsilon_\" + str(i) + \"')\")\n",
    "    exec(\"epsilon += [epsilon_\" + str(i) +\"]\")"
   ]
  },
  {
   "cell_type": "code",
   "execution_count": 7,
   "metadata": {},
   "outputs": [],
   "source": [
    "A_z = []\n",
    "for i in range(n_layers):\n",
    "    exec(\"A_z_\" + str(i) + \"= var('A_z_\" + str(i) + \"')\")\n",
    "    exec(\"A_z += [A_z_\" + str(i) +\"]\")"
   ]
  },
  {
   "cell_type": "code",
   "execution_count": 8,
   "metadata": {},
   "outputs": [],
   "source": [
    "A_r = []\n",
    "for i in range(n_layers):\n",
    "    exec(\"A_r_\" + str(i) + \"= var('A_r_\" + str(i) + \"')\")\n",
    "    exec(\"A_r += [A_r_\" + str(i) +\"]\")"
   ]
  },
  {
   "cell_type": "code",
   "execution_count": 9,
   "metadata": {},
   "outputs": [
    {
     "data": {
      "text/html": [
       "<html><script type=\"math/tex; mode=display\">\\newcommand{\\Bold}[1]{\\mathbf{#1}}\\left(\\left[A_{z_{0}}, A_{z_{1}}\\right], \\left[A_{r_{0}}, A_{r_{1}}\\right]\\right)</script></html>"
      ],
      "text/plain": [
       "([A_z_0, A_z_1], [A_r_0, A_r_1])"
      ]
     },
     "execution_count": 9,
     "metadata": {},
     "output_type": "execute_result"
    }
   ],
   "source": [
    "A_z,A_r"
   ]
  },
  {
   "cell_type": "code",
   "execution_count": 10,
   "metadata": {},
   "outputs": [],
   "source": [
    "B_z = []\n",
    "for i in range(n_layers):\n",
    "    exec(\"B_z_\" + str(i) + \"= var('B_z_\" + str(i) + \"')\")\n",
    "    exec(\"B_z += [B_z_\" + str(i) +\"]\")"
   ]
  },
  {
   "cell_type": "code",
   "execution_count": 11,
   "metadata": {},
   "outputs": [],
   "source": [
    "B_r = []\n",
    "for i in range(n_layers):\n",
    "    exec(\"B_r_\" + str(i) + \"= var('B_r_\" + str(i) + \"')\")\n",
    "    exec(\"B_r += [B_r_\" + str(i) +\"]\")"
   ]
  },
  {
   "cell_type": "code",
   "execution_count": 12,
   "metadata": {},
   "outputs": [
    {
     "data": {
      "text/html": [
       "<html><script type=\"math/tex; mode=display\">\\newcommand{\\Bold}[1]{\\mathbf{#1}}\\left(\\left[B_{z_{0}}, B_{z_{1}}\\right], \\left[B_{r_{0}}, B_{r_{1}}\\right]\\right)</script></html>"
      ],
      "text/plain": [
       "([B_z_0, B_z_1], [B_r_0, B_r_1])"
      ]
     },
     "execution_count": 12,
     "metadata": {},
     "output_type": "execute_result"
    }
   ],
   "source": [
    "B_z,B_r"
   ]
  },
  {
   "cell_type": "code",
   "execution_count": 13,
   "metadata": {},
   "outputs": [],
   "source": [
    "k = []\n",
    "for i in range(n_layers):\n",
    "    exec(\"k_\" + str(i) + \"= var('k_\" + str(i) + \"')\")\n",
    "    exec(\"k += [k_\" + str(i) +\"]\")"
   ]
  },
  {
   "cell_type": "code",
   "execution_count": 14,
   "metadata": {},
   "outputs": [
    {
     "data": {
      "text/latex": [
       "$$\\left[-k_{0}^{2} + \\frac{\\epsilon_{0} \\mu_{0} \\omega^{2}}{c^{2}} = \\kappa^{2}, -k_{1}^{2} + \\frac{\\epsilon_{1} \\mu_{1} \\omega^{2}}{c^{2}} = \\kappa^{2}\\right]$$"
      ],
      "text/plain": [
       "<IPython.core.display.Math object>"
      ]
     },
     "metadata": {},
     "output_type": "display_data"
    }
   ],
   "source": [
    "# исходя из вида дифференциальных уравнений для диэлектрика\n",
    "# записываем соотнощения для волнового вектора в виде уравнений\n",
    "eq_kappa = []\n",
    "for i in range(n_layers):\n",
    "    eq_kappa += [mu[i] * epsilon[i] * omega^2 / c^2 - k[i]^2 == kappa^2]\n",
    "\n",
    "display(Math(latex(eq_kappa)))"
   ]
  },
  {
   "cell_type": "code",
   "execution_count": 15,
   "metadata": {},
   "outputs": [],
   "source": [
    "E_r = []\n",
    "for i in range(n_layers):\n",
    "    exec(\"Erh_\" + str(i) + \" = function('E_r_\" + str(i) + \"', nargs=2)\")\n",
    "    exec(\"E_r += [Erh_\" + str(i) +\"]\")"
   ]
  },
  {
   "cell_type": "code",
   "execution_count": 16,
   "metadata": {},
   "outputs": [
    {
     "data": {
      "text/html": [
       "<html><script type=\"math/tex; mode=display\">\\newcommand{\\Bold}[1]{\\mathbf{#1}}E_{r_{0}}\\left(\\rho, \\varphi\\right)</script></html>"
      ],
      "text/plain": [
       "E_r_0(rho, varphi)"
      ]
     },
     "execution_count": 16,
     "metadata": {},
     "output_type": "execute_result"
    }
   ],
   "source": [
    "E_r[0](rh,ph)"
   ]
  },
  {
   "cell_type": "code",
   "execution_count": 17,
   "metadata": {},
   "outputs": [],
   "source": [
    "E_rh = []\n",
    "for i in range(n_layers):\n",
    "    E_rh += [lambda rh,ph,z, i=i: E_r[i](rh,ph)*(B_r[i]*sin(k[i]*z)+A_r[i]*cos(k[i]*z))]"
   ]
  },
  {
   "cell_type": "code",
   "execution_count": 18,
   "metadata": {},
   "outputs": [
    {
     "data": {
      "text/html": [
       "<html><script type=\"math/tex; mode=display\">\\newcommand{\\Bold}[1]{\\mathbf{#1}}{\\left(A_{r_{0}} \\cos\\left(k_{0} z\\right) + B_{r_{0}} \\sin\\left(k_{0} z\\right)\\right)} E_{r_{0}}\\left(\\rho, \\varphi\\right)</script></html>"
      ],
      "text/plain": [
       "(A_r_0*cos(k_0*z) + B_r_0*sin(k_0*z))*E_r_0(rho, varphi)"
      ]
     },
     "execution_count": 18,
     "metadata": {},
     "output_type": "execute_result"
    }
   ],
   "source": [
    "E_rh[0](rh,ph,z)"
   ]
  },
  {
   "cell_type": "code",
   "execution_count": 19,
   "metadata": {},
   "outputs": [
    {
     "data": {
      "text/html": [
       "<html><script type=\"math/tex; mode=display\">\\newcommand{\\Bold}[1]{\\mathbf{#1}}{\\left(A_{r_{1}} \\cos\\left(k_{1} z\\right) + B_{r_{1}} \\sin\\left(k_{1} z\\right)\\right)} E_{r_{1}}\\left(\\rho, \\varphi\\right)</script></html>"
      ],
      "text/plain": [
       "(A_r_1*cos(k_1*z) + B_r_1*sin(k_1*z))*E_r_1(rho, varphi)"
      ]
     },
     "execution_count": 19,
     "metadata": {},
     "output_type": "execute_result"
    }
   ],
   "source": [
    "E_rh[1](rh,ph,z)"
   ]
  },
  {
   "cell_type": "code",
   "execution_count": 20,
   "metadata": {},
   "outputs": [],
   "source": [
    "E_z = []\n",
    "for i in range(n_layers):\n",
    "    E_z += [lambda rh,ph,z, i=i: bessel_J(0,kappa*rh)*(B_z[i]*sin(k[i]*z)+A_z[i]*cos(k[i]*z))]"
   ]
  },
  {
   "cell_type": "code",
   "execution_count": 21,
   "metadata": {},
   "outputs": [
    {
     "data": {
      "text/html": [
       "<html><script type=\"math/tex; mode=display\">\\newcommand{\\Bold}[1]{\\mathbf{#1}}{\\left(A_{z_{0}} \\cos\\left(k_{0} z\\right) + B_{z_{0}} \\sin\\left(k_{0} z\\right)\\right)} J_{0}(\\kappa \\rho)</script></html>"
      ],
      "text/plain": [
       "(A_z_0*cos(k_0*z) + B_z_0*sin(k_0*z))*bessel_J(0, kappa*rho)"
      ]
     },
     "execution_count": 21,
     "metadata": {},
     "output_type": "execute_result"
    }
   ],
   "source": [
    "E_z[0](rh,ph,z)"
   ]
  },
  {
   "cell_type": "code",
   "execution_count": 22,
   "metadata": {
    "scrolled": true
   },
   "outputs": [
    {
     "data": {
      "text/html": [
       "<html><script type=\"math/tex; mode=display\">\\newcommand{\\Bold}[1]{\\mathbf{#1}}{\\left(A_{z_{1}} \\cos\\left(k_{1} z\\right) + B_{z_{1}} \\sin\\left(k_{1} z\\right)\\right)} J_{0}(\\kappa \\rho)</script></html>"
      ],
      "text/plain": [
       "(A_z_1*cos(k_1*z) + B_z_1*sin(k_1*z))*bessel_J(0, kappa*rho)"
      ]
     },
     "execution_count": 22,
     "metadata": {},
     "output_type": "execute_result"
    }
   ],
   "source": [
    "E_z[1](rh,ph,z)"
   ]
  },
  {
   "cell_type": "code",
   "execution_count": 23,
   "metadata": {},
   "outputs": [],
   "source": [
    "rotE_ph =[]\n",
    "for i in range(n_layers):\n",
    "    exec(preparse(\"rotE_ph += [lambda rh,ph,z, i=i: \" + str(E_rh[i](rh,ph,z).diff(z)-E_z[i](rh,ph,z).diff(rh)) +\"]\"))"
   ]
  },
  {
   "cell_type": "code",
   "execution_count": 24,
   "metadata": {
    "scrolled": true
   },
   "outputs": [
    {
     "data": {
      "text/html": [
       "<html><script type=\"math/tex; mode=display\">\\newcommand{\\Bold}[1]{\\mathbf{#1}}\\frac{1}{2} \\, {\\left(A_{z_{0}} \\cos\\left(k_{0} z\\right) + B_{z_{0}} \\sin\\left(k_{0} z\\right)\\right)} \\kappa {\\left(J_{1}(\\kappa \\rho) - J_{-1}(\\kappa \\rho)\\right)} + {\\left(B_{r_{0}} k_{0} \\cos\\left(k_{0} z\\right) - A_{r_{0}} k_{0} \\sin\\left(k_{0} z\\right)\\right)} E_{r_{0}}\\left(\\rho, \\varphi\\right)</script></html>"
      ],
      "text/plain": [
       "1/2*(A_z_0*cos(k_0*z) + B_z_0*sin(k_0*z))*kappa*(bessel_J(1, kappa*rho) - bessel_J(-1, kappa*rho)) + (B_r_0*k_0*cos(k_0*z) - A_r_0*k_0*sin(k_0*z))*E_r_0(rho, varphi)"
      ]
     },
     "execution_count": 24,
     "metadata": {},
     "output_type": "execute_result"
    }
   ],
   "source": [
    "rotE_ph[0](rh,ph,z)"
   ]
  },
  {
   "cell_type": "code",
   "execution_count": 25,
   "metadata": {},
   "outputs": [
    {
     "data": {
      "text/html": [
       "<html><script type=\"math/tex; mode=display\">\\newcommand{\\Bold}[1]{\\mathbf{#1}}\\frac{1}{2} \\, {\\left(A_{z_{1}} \\cos\\left(k_{1} z\\right) + B_{z_{1}} \\sin\\left(k_{1} z\\right)\\right)} \\kappa {\\left(J_{1}(\\kappa \\rho) - J_{-1}(\\kappa \\rho)\\right)} + {\\left(B_{r_{1}} k_{1} \\cos\\left(k_{1} z\\right) - A_{r_{1}} k_{1} \\sin\\left(k_{1} z\\right)\\right)} E_{r_{1}}\\left(\\rho, \\varphi\\right)</script></html>"
      ],
      "text/plain": [
       "1/2*(A_z_1*cos(k_1*z) + B_z_1*sin(k_1*z))*kappa*(bessel_J(1, kappa*rho) - bessel_J(-1, kappa*rho)) + (B_r_1*k_1*cos(k_1*z) - A_r_1*k_1*sin(k_1*z))*E_r_1(rho, varphi)"
      ]
     },
     "execution_count": 25,
     "metadata": {},
     "output_type": "execute_result"
    }
   ],
   "source": [
    "rotE_ph[1](rh,ph,z)"
   ]
  },
  {
   "cell_type": "code",
   "execution_count": 26,
   "metadata": {},
   "outputs": [],
   "source": [
    "H_ph = []\n",
    "for i in range(n_layers):\n",
    "    H_ph += [lambda rh,ph,z, i=i : rotE_ph[i](rh,ph,z)*c/(I*omega *mu[i])]"
   ]
  },
  {
   "cell_type": "code",
   "execution_count": 27,
   "metadata": {
    "scrolled": true
   },
   "outputs": [
    {
     "data": {
      "text/html": [
       "<html><script type=\"math/tex; mode=display\">\\newcommand{\\Bold}[1]{\\mathbf{#1}}-\\frac{i \\, {\\left({\\left(A_{z_{0}} \\cos\\left(k_{0} z\\right) + B_{z_{0}} \\sin\\left(k_{0} z\\right)\\right)} \\kappa {\\left(J_{1}(\\kappa \\rho) - J_{-1}(\\kappa \\rho)\\right)} + 2 \\, {\\left(B_{r_{0}} k_{0} \\cos\\left(k_{0} z\\right) - A_{r_{0}} k_{0} \\sin\\left(k_{0} z\\right)\\right)} E_{r_{0}}\\left(\\rho, \\varphi\\right)\\right)} c}{2 \\, \\mu_{0} \\omega}</script></html>"
      ],
      "text/plain": [
       "-1/2*I*((A_z_0*cos(k_0*z) + B_z_0*sin(k_0*z))*kappa*(bessel_J(1, kappa*rho) - bessel_J(-1, kappa*rho)) + 2*(B_r_0*k_0*cos(k_0*z) - A_r_0*k_0*sin(k_0*z))*E_r_0(rho, varphi))*c/(mu_0*omega)"
      ]
     },
     "execution_count": 27,
     "metadata": {},
     "output_type": "execute_result"
    }
   ],
   "source": [
    "H_ph[0](rh,ph,z)"
   ]
  },
  {
   "cell_type": "code",
   "execution_count": 28,
   "metadata": {},
   "outputs": [
    {
     "data": {
      "text/html": [
       "<html><script type=\"math/tex; mode=display\">\\newcommand{\\Bold}[1]{\\mathbf{#1}}-\\frac{i \\, {\\left({\\left(A_{z_{1}} \\cos\\left(k_{1} z\\right) + B_{z_{1}} \\sin\\left(k_{1} z\\right)\\right)} \\kappa {\\left(J_{1}(\\kappa \\rho) - J_{-1}(\\kappa \\rho)\\right)} + 2 \\, {\\left(B_{r_{1}} k_{1} \\cos\\left(k_{1} z\\right) - A_{r_{1}} k_{1} \\sin\\left(k_{1} z\\right)\\right)} E_{r_{1}}\\left(\\rho, \\varphi\\right)\\right)} c}{2 \\, \\mu_{1} \\omega}</script></html>"
      ],
      "text/plain": [
       "-1/2*I*((A_z_1*cos(k_1*z) + B_z_1*sin(k_1*z))*kappa*(bessel_J(1, kappa*rho) - bessel_J(-1, kappa*rho)) + 2*(B_r_1*k_1*cos(k_1*z) - A_r_1*k_1*sin(k_1*z))*E_r_1(rho, varphi))*c/(mu_1*omega)"
      ]
     },
     "execution_count": 28,
     "metadata": {},
     "output_type": "execute_result"
    }
   ],
   "source": [
    "H_ph[1](rh,ph,z)"
   ]
  },
  {
   "cell_type": "code",
   "execution_count": 29,
   "metadata": {},
   "outputs": [],
   "source": [
    "rotH_rh = []\n",
    "for i in range(n_layers):\n",
    "    exec(preparse(\"rotH_rh += [lambda rh,ph,z, i=i : \" + str(- H_ph[i](rh,ph,z).diff(z)) + \"]\"))"
   ]
  },
  {
   "cell_type": "code",
   "execution_count": 30,
   "metadata": {},
   "outputs": [
    {
     "data": {
      "text/html": [
       "<html><script type=\"math/tex; mode=display\">\\newcommand{\\Bold}[1]{\\mathbf{#1}}-\\frac{{\\left(-i \\, {\\left(B_{z_{0}} k_{0} \\cos\\left(k_{0} z\\right) - A_{z_{0}} k_{0} \\sin\\left(k_{0} z\\right)\\right)} \\kappa {\\left(J_{1}(\\kappa \\rho) - J_{-1}(\\kappa \\rho)\\right)} + 2 i \\, {\\left(A_{r_{0}} k_{0}^{2} \\cos\\left(k_{0} z\\right) + B_{r_{0}} k_{0}^{2} \\sin\\left(k_{0} z\\right)\\right)} E_{r_{0}}\\left(\\rho, \\varphi\\right)\\right)} c}{2 \\, \\mu_{0} \\omega}</script></html>"
      ],
      "text/plain": [
       "-1/2*(-I*(B_z_0*k_0*cos(k_0*z) - A_z_0*k_0*sin(k_0*z))*kappa*(bessel_J(1, kappa*rho) - bessel_J(-1, kappa*rho)) + 2*I*(A_r_0*k_0^2*cos(k_0*z) + B_r_0*k_0^2*sin(k_0*z))*E_r_0(rho, varphi))*c/(mu_0*omega)"
      ]
     },
     "execution_count": 30,
     "metadata": {},
     "output_type": "execute_result"
    }
   ],
   "source": [
    "rotH_rh[0](rh,ph,z)"
   ]
  },
  {
   "cell_type": "code",
   "execution_count": 31,
   "metadata": {},
   "outputs": [
    {
     "data": {
      "text/html": [
       "<html><script type=\"math/tex; mode=display\">\\newcommand{\\Bold}[1]{\\mathbf{#1}}-\\frac{{\\left(-i \\, {\\left(B_{z_{1}} k_{1} \\cos\\left(k_{1} z\\right) - A_{z_{1}} k_{1} \\sin\\left(k_{1} z\\right)\\right)} \\kappa {\\left(J_{1}(\\kappa \\rho) - J_{-1}(\\kappa \\rho)\\right)} + 2 i \\, {\\left(A_{r_{1}} k_{1}^{2} \\cos\\left(k_{1} z\\right) + B_{r_{1}} k_{1}^{2} \\sin\\left(k_{1} z\\right)\\right)} E_{r_{1}}\\left(\\rho, \\varphi\\right)\\right)} c}{2 \\, \\mu_{1} \\omega}</script></html>"
      ],
      "text/plain": [
       "-1/2*(-I*(B_z_1*k_1*cos(k_1*z) - A_z_1*k_1*sin(k_1*z))*kappa*(bessel_J(1, kappa*rho) - bessel_J(-1, kappa*rho)) + 2*I*(A_r_1*k_1^2*cos(k_1*z) + B_r_1*k_1^2*sin(k_1*z))*E_r_1(rho, varphi))*c/(mu_1*omega)"
      ]
     },
     "execution_count": 31,
     "metadata": {},
     "output_type": "execute_result"
    }
   ],
   "source": [
    "rotH_rh[1](rh,ph,z)"
   ]
  },
  {
   "cell_type": "code",
   "execution_count": 32,
   "metadata": {},
   "outputs": [],
   "source": [
    "eqE_rh = []\n",
    "for i in range(n_layers):\n",
    "    eqE_rh += [rotH_rh[i](rh,ph,z) == -I * omega / c * epsilon[i] * E_rh[i](rh,ph,z) ]"
   ]
  },
  {
   "cell_type": "code",
   "execution_count": 33,
   "metadata": {},
   "outputs": [
    {
     "data": {
      "text/html": [
       "<html><script type=\"math/tex; mode=display\">\\newcommand{\\Bold}[1]{\\mathbf{#1}}-\\frac{{\\left(-i \\, {\\left(B_{z_{0}} k_{0} \\cos\\left(k_{0} z\\right) - A_{z_{0}} k_{0} \\sin\\left(k_{0} z\\right)\\right)} \\kappa {\\left(J_{1}(\\kappa \\rho) - J_{-1}(\\kappa \\rho)\\right)} + 2 i \\, {\\left(A_{r_{0}} k_{0}^{2} \\cos\\left(k_{0} z\\right) + B_{r_{0}} k_{0}^{2} \\sin\\left(k_{0} z\\right)\\right)} E_{r_{0}}\\left(\\rho, \\varphi\\right)\\right)} c}{2 \\, \\mu_{0} \\omega} = -\\frac{i \\, {\\left(A_{r_{0}} \\cos\\left(k_{0} z\\right) + B_{r_{0}} \\sin\\left(k_{0} z\\right)\\right)} \\epsilon_{0} \\omega E_{r_{0}}\\left(\\rho, \\varphi\\right)}{c}</script></html>"
      ],
      "text/plain": [
       "-1/2*(-I*(B_z_0*k_0*cos(k_0*z) - A_z_0*k_0*sin(k_0*z))*kappa*(bessel_J(1, kappa*rho) - bessel_J(-1, kappa*rho)) + 2*I*(A_r_0*k_0^2*cos(k_0*z) + B_r_0*k_0^2*sin(k_0*z))*E_r_0(rho, varphi))*c/(mu_0*omega) == -I*(A_r_0*cos(k_0*z) + B_r_0*sin(k_0*z))*epsilon_0*omega*E_r_0(rho, varphi)/c"
      ]
     },
     "execution_count": 33,
     "metadata": {},
     "output_type": "execute_result"
    }
   ],
   "source": [
    "eqE_rh[0]"
   ]
  },
  {
   "cell_type": "code",
   "execution_count": 34,
   "metadata": {},
   "outputs": [
    {
     "data": {
      "text/html": [
       "<html><script type=\"math/tex; mode=display\">\\newcommand{\\Bold}[1]{\\mathbf{#1}}-\\frac{{\\left(-i \\, {\\left(B_{z_{1}} k_{1} \\cos\\left(k_{1} z\\right) - A_{z_{1}} k_{1} \\sin\\left(k_{1} z\\right)\\right)} \\kappa {\\left(J_{1}(\\kappa \\rho) - J_{-1}(\\kappa \\rho)\\right)} + 2 i \\, {\\left(A_{r_{1}} k_{1}^{2} \\cos\\left(k_{1} z\\right) + B_{r_{1}} k_{1}^{2} \\sin\\left(k_{1} z\\right)\\right)} E_{r_{1}}\\left(\\rho, \\varphi\\right)\\right)} c}{2 \\, \\mu_{1} \\omega} = -\\frac{i \\, {\\left(A_{r_{1}} \\cos\\left(k_{1} z\\right) + B_{r_{1}} \\sin\\left(k_{1} z\\right)\\right)} \\epsilon_{1} \\omega E_{r_{1}}\\left(\\rho, \\varphi\\right)}{c}</script></html>"
      ],
      "text/plain": [
       "-1/2*(-I*(B_z_1*k_1*cos(k_1*z) - A_z_1*k_1*sin(k_1*z))*kappa*(bessel_J(1, kappa*rho) - bessel_J(-1, kappa*rho)) + 2*I*(A_r_1*k_1^2*cos(k_1*z) + B_r_1*k_1^2*sin(k_1*z))*E_r_1(rho, varphi))*c/(mu_1*omega) == -I*(A_r_1*cos(k_1*z) + B_r_1*sin(k_1*z))*epsilon_1*omega*E_r_1(rho, varphi)/c"
      ]
     },
     "execution_count": 34,
     "metadata": {},
     "output_type": "execute_result"
    }
   ],
   "source": [
    "eqE_rh[1]"
   ]
  },
  {
   "cell_type": "code",
   "execution_count": 35,
   "metadata": {},
   "outputs": [],
   "source": [
    "E_rs = []\n",
    "for i in range(n_layers):\n",
    "    exec(preparse(\"E_rs += [lambda rh,ph,i=i : \" + str(solve(eqE_rh[i], E_r[i](rh,ph))[0].rhs()) +\"]\"))"
   ]
  },
  {
   "cell_type": "code",
   "execution_count": 36,
   "metadata": {
    "scrolled": true
   },
   "outputs": [
    {
     "data": {
      "text/html": [
       "<html><script type=\"math/tex; mode=display\">\\newcommand{\\Bold}[1]{\\mathbf{#1}}\\frac{B_{z_{0}} c^{2} k_{0} \\kappa J_{1}(\\kappa \\rho) \\cos\\left(k_{0} z\\right) - A_{z_{0}} c^{2} k_{0} \\kappa J_{1}(\\kappa \\rho) \\sin\\left(k_{0} z\\right)}{{\\left(A_{r_{0}} c^{2} k_{0}^{2} - A_{r_{0}} \\epsilon_{0} \\mu_{0} \\omega^{2}\\right)} \\cos\\left(k_{0} z\\right) + {\\left(B_{r_{0}} c^{2} k_{0}^{2} - B_{r_{0}} \\epsilon_{0} \\mu_{0} \\omega^{2}\\right)} \\sin\\left(k_{0} z\\right)}</script></html>"
      ],
      "text/plain": [
       "(B_z_0*c^2*k_0*kappa*bessel_J(1, kappa*rho)*cos(k_0*z) - A_z_0*c^2*k_0*kappa*bessel_J(1, kappa*rho)*sin(k_0*z))/((A_r_0*c^2*k_0^2 - A_r_0*epsilon_0*mu_0*omega^2)*cos(k_0*z) + (B_r_0*c^2*k_0^2 - B_r_0*epsilon_0*mu_0*omega^2)*sin(k_0*z))"
      ]
     },
     "execution_count": 36,
     "metadata": {},
     "output_type": "execute_result"
    }
   ],
   "source": [
    "E_rs[0](rh,ph)"
   ]
  },
  {
   "cell_type": "code",
   "execution_count": 37,
   "metadata": {},
   "outputs": [
    {
     "data": {
      "text/html": [
       "<html><script type=\"math/tex; mode=display\">\\newcommand{\\Bold}[1]{\\mathbf{#1}}\\frac{B_{z_{1}} c^{2} k_{1} \\kappa J_{1}(\\kappa \\rho) \\cos\\left(k_{1} z\\right) - A_{z_{1}} c^{2} k_{1} \\kappa J_{1}(\\kappa \\rho) \\sin\\left(k_{1} z\\right)}{{\\left(A_{r_{1}} c^{2} k_{1}^{2} - A_{r_{1}} \\epsilon_{1} \\mu_{1} \\omega^{2}\\right)} \\cos\\left(k_{1} z\\right) + {\\left(B_{r_{1}} c^{2} k_{1}^{2} - B_{r_{1}} \\epsilon_{1} \\mu_{1} \\omega^{2}\\right)} \\sin\\left(k_{1} z\\right)}</script></html>"
      ],
      "text/plain": [
       "(B_z_1*c^2*k_1*kappa*bessel_J(1, kappa*rho)*cos(k_1*z) - A_z_1*c^2*k_1*kappa*bessel_J(1, kappa*rho)*sin(k_1*z))/((A_r_1*c^2*k_1^2 - A_r_1*epsilon_1*mu_1*omega^2)*cos(k_1*z) + (B_r_1*c^2*k_1^2 - B_r_1*epsilon_1*mu_1*omega^2)*sin(k_1*z))"
      ]
     },
     "execution_count": 37,
     "metadata": {},
     "output_type": "execute_result"
    }
   ],
   "source": [
    "E_rs[1](rh,ph)"
   ]
  },
  {
   "cell_type": "code",
   "execution_count": 38,
   "metadata": {},
   "outputs": [],
   "source": [
    "E_rs = []\n",
    "for i in range(n_layers):\n",
    "    exec(preparse(\"E_rs += [lambda rh,ph,i=i : \" + str(solve(eqE_rh[i], E_r[i](rh,ph))[0].rhs().subs(solve(eq_kappa[i],omega^2)).full_simplify()) +\"]\"))"
   ]
  },
  {
   "cell_type": "code",
   "execution_count": 39,
   "metadata": {},
   "outputs": [
    {
     "data": {
      "text/html": [
       "<html><script type=\"math/tex; mode=display\">\\newcommand{\\Bold}[1]{\\mathbf{#1}}-\\frac{B_{z_{0}} k_{0} J_{1}(\\kappa \\rho) \\cos\\left(k_{0} z\\right) - A_{z_{0}} k_{0} J_{1}(\\kappa \\rho) \\sin\\left(k_{0} z\\right)}{A_{r_{0}} \\kappa \\cos\\left(k_{0} z\\right) + B_{r_{0}} \\kappa \\sin\\left(k_{0} z\\right)}</script></html>"
      ],
      "text/plain": [
       "-(B_z_0*k_0*bessel_J(1, kappa*rho)*cos(k_0*z) - A_z_0*k_0*bessel_J(1, kappa*rho)*sin(k_0*z))/(A_r_0*kappa*cos(k_0*z) + B_r_0*kappa*sin(k_0*z))"
      ]
     },
     "execution_count": 39,
     "metadata": {},
     "output_type": "execute_result"
    }
   ],
   "source": [
    "E_rs[0](rh,ph)"
   ]
  },
  {
   "cell_type": "code",
   "execution_count": 40,
   "metadata": {
    "scrolled": true
   },
   "outputs": [
    {
     "data": {
      "text/html": [
       "<html><script type=\"math/tex; mode=display\">\\newcommand{\\Bold}[1]{\\mathbf{#1}}-\\frac{B_{z_{1}} k_{1} J_{1}(\\kappa \\rho) \\cos\\left(k_{1} z\\right) - A_{z_{1}} k_{1} J_{1}(\\kappa \\rho) \\sin\\left(k_{1} z\\right)}{A_{r_{1}} \\kappa \\cos\\left(k_{1} z\\right) + B_{r_{1}} \\kappa \\sin\\left(k_{1} z\\right)}</script></html>"
      ],
      "text/plain": [
       "-(B_z_1*k_1*bessel_J(1, kappa*rho)*cos(k_1*z) - A_z_1*k_1*bessel_J(1, kappa*rho)*sin(k_1*z))/(A_r_1*kappa*cos(k_1*z) + B_r_1*kappa*sin(k_1*z))"
      ]
     },
     "execution_count": 40,
     "metadata": {},
     "output_type": "execute_result"
    }
   ],
   "source": [
    "E_rs[1](rh,ph)"
   ]
  },
  {
   "cell_type": "code",
   "execution_count": null,
   "metadata": {},
   "outputs": [],
   "source": []
  },
  {
   "cell_type": "code",
   "execution_count": 41,
   "metadata": {},
   "outputs": [],
   "source": [
    "E_rhs = []\n",
    "for i in range(n_layers):\n",
    "    E_rhs += [lambda rh,ph,z, i=i: E_rs[i](rh,ph)*(B_r[i]*sin(k[i]*z)+A_r[i]*cos(k[i]*z))]"
   ]
  },
  {
   "cell_type": "code",
   "execution_count": 42,
   "metadata": {
    "scrolled": true
   },
   "outputs": [
    {
     "data": {
      "text/html": [
       "<html><script type=\"math/tex; mode=display\">\\newcommand{\\Bold}[1]{\\mathbf{#1}}-\\frac{{\\left(B_{z_{0}} k_{0} J_{1}(\\kappa \\rho) \\cos\\left(k_{0} z\\right) - A_{z_{0}} k_{0} J_{1}(\\kappa \\rho) \\sin\\left(k_{0} z\\right)\\right)} {\\left(A_{r_{0}} \\cos\\left(k_{0} z\\right) + B_{r_{0}} \\sin\\left(k_{0} z\\right)\\right)}}{A_{r_{0}} \\kappa \\cos\\left(k_{0} z\\right) + B_{r_{0}} \\kappa \\sin\\left(k_{0} z\\right)}</script></html>"
      ],
      "text/plain": [
       "-(B_z_0*k_0*bessel_J(1, kappa*rho)*cos(k_0*z) - A_z_0*k_0*bessel_J(1, kappa*rho)*sin(k_0*z))*(A_r_0*cos(k_0*z) + B_r_0*sin(k_0*z))/(A_r_0*kappa*cos(k_0*z) + B_r_0*kappa*sin(k_0*z))"
      ]
     },
     "execution_count": 42,
     "metadata": {},
     "output_type": "execute_result"
    }
   ],
   "source": [
    "E_rhs[0](rh,ph,z)"
   ]
  },
  {
   "cell_type": "code",
   "execution_count": 43,
   "metadata": {},
   "outputs": [
    {
     "data": {
      "text/html": [
       "<html><script type=\"math/tex; mode=display\">\\newcommand{\\Bold}[1]{\\mathbf{#1}}-\\frac{{\\left(B_{z_{1}} k_{1} J_{1}(\\kappa \\rho) \\cos\\left(k_{1} z\\right) - A_{z_{1}} k_{1} J_{1}(\\kappa \\rho) \\sin\\left(k_{1} z\\right)\\right)} {\\left(A_{r_{1}} \\cos\\left(k_{1} z\\right) + B_{r_{1}} \\sin\\left(k_{1} z\\right)\\right)}}{A_{r_{1}} \\kappa \\cos\\left(k_{1} z\\right) + B_{r_{1}} \\kappa \\sin\\left(k_{1} z\\right)}</script></html>"
      ],
      "text/plain": [
       "-(B_z_1*k_1*bessel_J(1, kappa*rho)*cos(k_1*z) - A_z_1*k_1*bessel_J(1, kappa*rho)*sin(k_1*z))*(A_r_1*cos(k_1*z) + B_r_1*sin(k_1*z))/(A_r_1*kappa*cos(k_1*z) + B_r_1*kappa*sin(k_1*z))"
      ]
     },
     "execution_count": 43,
     "metadata": {},
     "output_type": "execute_result"
    }
   ],
   "source": [
    "E_rhs[1](rh,ph,z)"
   ]
  },
  {
   "cell_type": "code",
   "execution_count": 44,
   "metadata": {},
   "outputs": [
    {
     "data": {
      "text/latex": [
       "$$\\left[-\\frac{{\\left(B_{z_{0}} k_{0} J_{1}(\\kappa \\rho) \\cos\\left(k_{0} z\\right) - A_{z_{0}} k_{0} J_{1}(\\kappa \\rho) \\sin\\left(k_{0} z\\right)\\right)} A_{r_{0}}}{A_{r_{0}} \\kappa \\cos\\left(k_{0} z\\right) + B_{r_{0}} \\kappa \\sin\\left(k_{0} z\\right)} = 0.000000000000000, -\\frac{{\\left(B_{z_{1}} k_{1} J_{1}(\\kappa \\rho) \\cos\\left(k_{1} z\\right) - A_{z_{1}} k_{1} J_{1}(\\kappa \\rho) \\sin\\left(k_{1} z\\right)\\right)} {\\left(A_{r_{1}} \\cos\\left(2 \\, h k_{1}\\right) + B_{r_{1}} \\sin\\left(2 \\, h k_{1}\\right)\\right)}}{A_{r_{1}} \\kappa \\cos\\left(k_{1} z\\right) + B_{r_{1}} \\kappa \\sin\\left(k_{1} z\\right)} = 0.000000000000000\\right]$$"
      ],
      "text/plain": [
       "<IPython.core.display.Math object>"
      ]
     },
     "metadata": {},
     "output_type": "display_data"
    },
    {
     "data": {
      "text/latex": [
       "$$\\left[A_{z_{0}} J_{0}(\\kappa \\rho) = 0.000000000000000, {\\left(A_{z_{1}} \\cos\\left(2 \\, h k_{1}\\right) + B_{z_{1}} \\sin\\left(2 \\, h k_{1}\\right)\\right)} J_{0}(\\kappa \\rho) = 0.000000000000000\\right]$$"
      ],
      "text/plain": [
       "<IPython.core.display.Math object>"
      ]
     },
     "metadata": {},
     "output_type": "display_data"
    },
    {
     "data": {
      "text/latex": [
       "$$A_{r_{0}} = 0$$"
      ],
      "text/plain": [
       "<IPython.core.display.Math object>"
      ]
     },
     "metadata": {},
     "output_type": "display_data"
    },
    {
     "data": {
      "text/latex": [
       "$$A_{r_{1}} = -\\frac{B_{r_{1}} \\sin\\left(2 \\, h k_{1}\\right)}{\\cos\\left(2 \\, h k_{1}\\right)}$$"
      ],
      "text/plain": [
       "<IPython.core.display.Math object>"
      ]
     },
     "metadata": {},
     "output_type": "display_data"
    },
    {
     "data": {
      "text/latex": [
       "$$A_{z_{0}} = 0$$"
      ],
      "text/plain": [
       "<IPython.core.display.Math object>"
      ]
     },
     "metadata": {},
     "output_type": "display_data"
    },
    {
     "data": {
      "text/latex": [
       "$$A_{z_{1}} = -\\frac{B_{z_{1}} \\sin\\left(2 \\, h k_{1}\\right)}{\\cos\\left(2 \\, h k_{1}\\right)}$$"
      ],
      "text/plain": [
       "<IPython.core.display.Math object>"
      ]
     },
     "metadata": {},
     "output_type": "display_data"
    },
    {
     "data": {
      "text/latex": [
       "$$\\left[A_{r_{0}} = 0, A_{r_{1}} = -\\frac{B_{r_{1}} \\sin\\left(2 \\, h k_{1}\\right)}{\\cos\\left(2 \\, h k_{1}\\right)}, A_{z_{0}} = 0, A_{z_{1}} = -\\frac{B_{z_{1}} \\sin\\left(2 \\, h k_{1}\\right)}{\\cos\\left(2 \\, h k_{1}\\right)}\\right]$$"
      ],
      "text/plain": [
       "<IPython.core.display.Math object>"
      ]
     },
     "metadata": {},
     "output_type": "display_data"
    }
   ],
   "source": [
    "# граничные условия\n",
    "# тангенциальная компонента электрического поля\n",
    "eq_Erh_superconductor_boundary_conditions = []\n",
    "eq_Erh_superconductor_boundary_conditions += [E_rhs[0](rh,ph,0) == 0.0]\n",
    "eq_Erh_superconductor_boundary_conditions += [E_rhs[n_layers - 1](rh,ph,h*n_layers) == 0.0]\n",
    "\n",
    "eq_Ez_superconductor_boundary_conditions = []\n",
    "eq_Ez_superconductor_boundary_conditions += [E_z[0](rh,ph,0) == 0.0]\n",
    "eq_Ez_superconductor_boundary_conditions += [E_z[n_layers - 1](rh,ph,h*n_layers) == 0.0]\n",
    "\n",
    "display(Math(latex(eq_Erh_superconductor_boundary_conditions)))\n",
    "display(Math(latex(eq_Ez_superconductor_boundary_conditions)))\n",
    "\n",
    "boundary_Erh_subs_begin = solve(eq_Erh_superconductor_boundary_conditions[0], A_r[0])[0]\n",
    "boundary_Erh_subs_end = solve(eq_Erh_superconductor_boundary_conditions[1], A_r[n_layers - 1])[0]\n",
    "\n",
    "boundary_Ez_subs_begin = solve(eq_Ez_superconductor_boundary_conditions[0], A_z[0])[0]\n",
    "boundary_Ez_subs_end = solve(eq_Ez_superconductor_boundary_conditions[1], A_z[n_layers - 1])[0]\n",
    "\n",
    "display(Math(latex(boundary_Erh_subs_begin)))\n",
    "display(Math(latex(boundary_Erh_subs_end)))\n",
    "\n",
    "display(Math(latex(boundary_Ez_subs_begin)))\n",
    "display(Math(latex(boundary_Ez_subs_end)))\n",
    "\n",
    "boundary_subs = [boundary_Erh_subs_begin, boundary_Erh_subs_end, boundary_Ez_subs_begin, boundary_Ez_subs_end]\n",
    "display(Math(latex(boundary_subs)))"
   ]
  },
  {
   "cell_type": "code",
   "execution_count": 45,
   "metadata": {},
   "outputs": [],
   "source": [
    "E_rho = []\n",
    "for i in range(n_layers):\n",
    "    E_rho += [ lambda rh, ph, z, i=i : E_rhs[i](rh,ph,z).subs(boundary_subs).full_simplify()]"
   ]
  },
  {
   "cell_type": "code",
   "execution_count": 46,
   "metadata": {},
   "outputs": [
    {
     "data": {
      "text/html": [
       "<html><script type=\"math/tex; mode=display\">\\newcommand{\\Bold}[1]{\\mathbf{#1}}-\\frac{B_{z_{0}} k_{0} J_{1}(\\kappa \\rho) \\cos\\left(k_{0} z\\right)}{\\kappa}</script></html>"
      ],
      "text/plain": [
       "-B_z_0*k_0*bessel_J(1, kappa*rho)*cos(k_0*z)/kappa"
      ]
     },
     "execution_count": 46,
     "metadata": {},
     "output_type": "execute_result"
    }
   ],
   "source": [
    "E_rho[0](rh,ph,z)"
   ]
  },
  {
   "cell_type": "markdown",
   "metadata": {},
   "source": [
    "E_rho = []\n",
    "for i in range(n_layers):\n",
    "    E_rho += [ lambda rh, ph, z, i=i : (E_rhs[i](rh,ph,z).subs(boundary_subs).full_simplify() \\\n",
    "               \\\n",
    "             / (B_z[i]*k[i]*bessel_J(1, kappa*rho))).full_simplify() \\\n",
    "             .subs(2*sin(h*k[i])^2 - 1 == sin(h*k[i])^2 - cos(h*k[i])^2) \\\n",
    "             .subs(2*cos(h*k[i])^2 - 1 == cos(h*k[i])^2 - sin(h*k[i])^2) \\\n",
    "             ]\n",
    "             #*(B_z[i]*k[i]*bessel_J(1, kappa*rho))]"
   ]
  },
  {
   "cell_type": "code",
   "execution_count": 47,
   "metadata": {},
   "outputs": [
    {
     "data": {
      "text/html": [
       "<html><script type=\"math/tex; mode=display\">\\newcommand{\\Bold}[1]{\\mathbf{#1}}\\frac{2 \\, B_{z_{1}} k_{1} J_{1}(\\kappa \\rho) \\cos\\left(h k_{1}\\right) \\sin\\left(h k_{1}\\right) \\sin\\left(k_{1} z\\right) + {\\left(2 \\, B_{z_{1}} k_{1} J_{1}(\\kappa \\rho) \\cos\\left(h k_{1}\\right)^{2} - B_{z_{1}} k_{1} J_{1}(\\kappa \\rho)\\right)} \\cos\\left(k_{1} z\\right)}{{\\left(2 \\, \\sin\\left(h k_{1}\\right)^{2} - 1\\right)} \\kappa}</script></html>"
      ],
      "text/plain": [
       "(2*B_z_1*k_1*bessel_J(1, kappa*rho)*cos(h*k_1)*sin(h*k_1)*sin(k_1*z) + (2*B_z_1*k_1*bessel_J(1, kappa*rho)*cos(h*k_1)^2 - B_z_1*k_1*bessel_J(1, kappa*rho))*cos(k_1*z))/((2*sin(h*k_1)^2 - 1)*kappa)"
      ]
     },
     "execution_count": 47,
     "metadata": {},
     "output_type": "execute_result"
    }
   ],
   "source": [
    "E_rho[1](rh,ph,z)"
   ]
  },
  {
   "cell_type": "code",
   "execution_count": 109,
   "metadata": {},
   "outputs": [
    {
     "data": {
      "text/html": [
       "<html><script type=\"math/tex; mode=display\">\\newcommand{\\Bold}[1]{\\mathbf{#1}}\\verb|<function|\\phantom{\\verb!x!}\\verb|mul_vararg|\\phantom{\\verb!x!}\\verb|at|\\phantom{\\verb!x!}\\verb|0x6fb7ccc7620>|</script></html>"
      ],
      "text/plain": [
       "<function mul_vararg at 0x6fb7ccc7620>"
      ]
     },
     "execution_count": 109,
     "metadata": {},
     "output_type": "execute_result"
    }
   ],
   "source": [
    "E_rho[1](rh,ph,z).operator()"
   ]
  },
  {
   "cell_type": "code",
   "execution_count": 110,
   "metadata": {},
   "outputs": [
    {
     "data": {
      "text/html": [
       "<html><script type=\"math/tex; mode=display\">\\newcommand{\\Bold}[1]{\\mathbf{#1}}\\left[2 \\, B_{z_{1}} k_{1} J_{1}(\\kappa \\rho) \\cos\\left(h k_{1}\\right) \\sin\\left(h k_{1}\\right) \\sin\\left(k_{1} z\\right) + {\\left(2 \\, B_{z_{1}} k_{1} J_{1}(\\kappa \\rho) \\cos\\left(h k_{1}\\right)^{2} - B_{z_{1}} k_{1} J_{1}(\\kappa \\rho)\\right)} \\cos\\left(k_{1} z\\right), \\frac{1}{2 \\, \\sin\\left(h k_{1}\\right)^{2} - 1}, \\frac{1}{\\kappa}\\right]</script></html>"
      ],
      "text/plain": [
       "[2*B_z_1*k_1*bessel_J(1, kappa*rho)*cos(h*k_1)*sin(h*k_1)*sin(k_1*z) + (2*B_z_1*k_1*bessel_J(1, kappa*rho)*cos(h*k_1)^2 - B_z_1*k_1*bessel_J(1, kappa*rho))*cos(k_1*z),\n",
       " 1/(2*sin(h*k_1)^2 - 1),\n",
       " 1/kappa]"
      ]
     },
     "execution_count": 110,
     "metadata": {},
     "output_type": "execute_result"
    }
   ],
   "source": [
    "E_rho[1](rh,ph,z).operands()"
   ]
  },
  {
   "cell_type": "code",
   "execution_count": 112,
   "metadata": {},
   "outputs": [
    {
     "name": "stdout",
     "output_type": "stream",
     "text": [
      "<function add_vararg at 0x6fb7ccc7510>\n"
     ]
    },
    {
     "data": {
      "text/latex": [
       "$$\\left[2 \\, B_{z_{1}} k_{1} J_{1}(\\kappa \\rho) \\cos\\left(h k_{1}\\right) \\sin\\left(h k_{1}\\right) \\sin\\left(k_{1} z\\right), {\\left(2 \\, B_{z_{1}} k_{1} J_{1}(\\kappa \\rho) \\cos\\left(h k_{1}\\right)^{2} - B_{z_{1}} k_{1} J_{1}(\\kappa \\rho)\\right)} \\cos\\left(k_{1} z\\right)\\right]$$"
      ],
      "text/plain": [
       "<IPython.core.display.Math object>"
      ]
     },
     "metadata": {},
     "output_type": "display_data"
    },
    {
     "name": "stdout",
     "output_type": "stream",
     "text": [
      "<built-in function pow>\n"
     ]
    },
    {
     "data": {
      "text/latex": [
       "$$\\left[2 \\, \\sin\\left(h k_{1}\\right)^{2} - 1, -1\\right]$$"
      ],
      "text/plain": [
       "<IPython.core.display.Math object>"
      ]
     },
     "metadata": {},
     "output_type": "display_data"
    },
    {
     "name": "stdout",
     "output_type": "stream",
     "text": [
      "<built-in function pow>\n"
     ]
    },
    {
     "data": {
      "text/latex": [
       "$$\\left[\\kappa, -1\\right]$$"
      ],
      "text/plain": [
       "<IPython.core.display.Math object>"
      ]
     },
     "metadata": {},
     "output_type": "display_data"
    }
   ],
   "source": [
    "for operand in E_rho[1](rh,ph,z).operands():\n",
    "    print(operand.operator())\n",
    "    display(Math(latex(operand.operands())))"
   ]
  },
  {
   "cell_type": "code",
   "execution_count": 49,
   "metadata": {},
   "outputs": [],
   "source": [
    "E_zz = []\n",
    "for i in range(n_layers):\n",
    "    E_zz += [ lambda rh, ph, z, i=i : E_z[i](rh,ph,z).subs(boundary_subs) ]"
   ]
  },
  {
   "cell_type": "code",
   "execution_count": 50,
   "metadata": {},
   "outputs": [
    {
     "data": {
      "text/html": [
       "<html><script type=\"math/tex; mode=display\">\\newcommand{\\Bold}[1]{\\mathbf{#1}}B_{z_{0}} J_{0}(\\kappa \\rho) \\sin\\left(k_{0} z\\right)</script></html>"
      ],
      "text/plain": [
       "B_z_0*bessel_J(0, kappa*rho)*sin(k_0*z)"
      ]
     },
     "execution_count": 50,
     "metadata": {},
     "output_type": "execute_result"
    }
   ],
   "source": [
    "E_zz[0](rh,ph,z)"
   ]
  },
  {
   "cell_type": "code",
   "execution_count": 51,
   "metadata": {
    "scrolled": true
   },
   "outputs": [
    {
     "data": {
      "text/html": [
       "<html><script type=\"math/tex; mode=display\">\\newcommand{\\Bold}[1]{\\mathbf{#1}}-{\\left(\\frac{B_{z_{1}} \\cos\\left(k_{1} z\\right) \\sin\\left(2 \\, h k_{1}\\right)}{\\cos\\left(2 \\, h k_{1}\\right)} - B_{z_{1}} \\sin\\left(k_{1} z\\right)\\right)} J_{0}(\\kappa \\rho)</script></html>"
      ],
      "text/plain": [
       "-(B_z_1*cos(k_1*z)*sin(2*h*k_1)/cos(2*h*k_1) - B_z_1*sin(k_1*z))*bessel_J(0, kappa*rho)"
      ]
     },
     "execution_count": 51,
     "metadata": {},
     "output_type": "execute_result"
    }
   ],
   "source": [
    "E_zz[1](rh,ph,z)"
   ]
  },
  {
   "cell_type": "code",
   "execution_count": null,
   "metadata": {},
   "outputs": [],
   "source": []
  },
  {
   "cell_type": "code",
   "execution_count": 52,
   "metadata": {},
   "outputs": [],
   "source": [
    "rotE_phi = []\n",
    "for i in range(n_layers):\n",
    "    exec(preparse(\"rotE_phi += [lambda rh,ph,z, i=i: \" + str((E_rho[i](rh,ph,z).diff(z)-E_zz[i](rh,ph,z).diff(rh)).full_simplify()) +\"]\"))"
   ]
  },
  {
   "cell_type": "code",
   "execution_count": 53,
   "metadata": {},
   "outputs": [
    {
     "data": {
      "text/html": [
       "<html><script type=\"math/tex; mode=display\">\\newcommand{\\Bold}[1]{\\mathbf{#1}}\\frac{{\\left(B_{z_{0}} k_{0}^{2} J_{1}(\\kappa \\rho) + B_{z_{0}} \\kappa^{2} J_{1}(\\kappa \\rho)\\right)} \\sin\\left(k_{0} z\\right)}{\\kappa}</script></html>"
      ],
      "text/plain": [
       "(B_z_0*k_0^2*bessel_J(1, kappa*rho) + B_z_0*kappa^2*bessel_J(1, kappa*rho))*sin(k_0*z)/kappa"
      ]
     },
     "execution_count": 53,
     "metadata": {},
     "output_type": "execute_result"
    }
   ],
   "source": [
    "rotE_phi[0](rh,ph,z)"
   ]
  },
  {
   "cell_type": "code",
   "execution_count": 54,
   "metadata": {},
   "outputs": [
    {
     "data": {
      "text/html": [
       "<html><script type=\"math/tex; mode=display\">\\newcommand{\\Bold}[1]{\\mathbf{#1}}-\\frac{2 \\, {\\left(B_{z_{1}} k_{1}^{2} J_{1}(\\kappa \\rho) \\cos\\left(h k_{1}\\right) \\sin\\left(h k_{1}\\right) + B_{z_{1}} \\kappa^{2} J_{1}(\\kappa \\rho) \\cos\\left(h k_{1}\\right) \\sin\\left(h k_{1}\\right)\\right)} \\cos\\left(k_{1} z\\right) - {\\left(2 \\, B_{z_{1}} k_{1}^{2} J_{1}(\\kappa \\rho) \\cos\\left(h k_{1}\\right)^{2} - B_{z_{1}} k_{1}^{2} J_{1}(\\kappa \\rho) + {\\left(2 \\, B_{z_{1}} J_{1}(\\kappa \\rho) \\cos\\left(h k_{1}\\right)^{2} - B_{z_{1}} J_{1}(\\kappa \\rho)\\right)} \\kappa^{2}\\right)} \\sin\\left(k_{1} z\\right)}{{\\left(2 \\, \\cos\\left(h k_{1}\\right)^{2} - 1\\right)} \\kappa}</script></html>"
      ],
      "text/plain": [
       "-(2*(B_z_1*k_1^2*bessel_J(1, kappa*rho)*cos(h*k_1)*sin(h*k_1) + B_z_1*kappa^2*bessel_J(1, kappa*rho)*cos(h*k_1)*sin(h*k_1))*cos(k_1*z) - (2*B_z_1*k_1^2*bessel_J(1, kappa*rho)*cos(h*k_1)^2 - B_z_1*k_1^2*bessel_J(1, kappa*rho) + (2*B_z_1*bessel_J(1, kappa*rho)*cos(h*k_1)^2 - B_z_1*bessel_J(1, kappa*rho))*kappa^2)*sin(k_1*z))/((2*cos(h*k_1)^2 - 1)*kappa)"
      ]
     },
     "execution_count": 54,
     "metadata": {},
     "output_type": "execute_result"
    }
   ],
   "source": [
    "rotE_phi[1](rh,ph,z)"
   ]
  },
  {
   "cell_type": "code",
   "execution_count": 55,
   "metadata": {},
   "outputs": [],
   "source": [
    "rotE_phi = []\n",
    "for i in range(n_layers):\n",
    "    exec(preparse(\"rotE_phi += [lambda rh,ph,z, i=i: \" + str((E_rho[i](rh,ph,z).diff(z)-E_zz[i](rh,ph,z).diff(rh)).full_simplify().subs(solve(eq_kappa[i],kappa^2)).full_simplify()) +\"]\"))"
   ]
  },
  {
   "cell_type": "code",
   "execution_count": 56,
   "metadata": {},
   "outputs": [
    {
     "data": {
      "text/html": [
       "<html><script type=\"math/tex; mode=display\">\\newcommand{\\Bold}[1]{\\mathbf{#1}}\\frac{B_{z_{0}} \\epsilon_{0} \\mu_{0} \\omega^{2} J_{1}(\\kappa \\rho) \\sin\\left(k_{0} z\\right)}{c^{2} \\kappa}</script></html>"
      ],
      "text/plain": [
       "B_z_0*epsilon_0*mu_0*omega^2*bessel_J(1, kappa*rho)*sin(k_0*z)/(c^2*kappa)"
      ]
     },
     "execution_count": 56,
     "metadata": {},
     "output_type": "execute_result"
    }
   ],
   "source": [
    "rotE_phi[0](rh,ph,z)"
   ]
  },
  {
   "cell_type": "code",
   "execution_count": 57,
   "metadata": {},
   "outputs": [
    {
     "data": {
      "text/html": [
       "<html><script type=\"math/tex; mode=display\">\\newcommand{\\Bold}[1]{\\mathbf{#1}}\\frac{2 \\, B_{z_{1}} \\epsilon_{1} \\mu_{1} \\omega^{2} J_{1}(\\kappa \\rho) \\cos\\left(h k_{1}\\right) \\cos\\left(k_{1} z\\right) \\sin\\left(h k_{1}\\right) - {\\left(2 \\, B_{z_{1}} \\epsilon_{1} J_{1}(\\kappa \\rho) \\cos\\left(h k_{1}\\right)^{2} - B_{z_{1}} \\epsilon_{1} J_{1}(\\kappa \\rho)\\right)} \\mu_{1} \\omega^{2} \\sin\\left(k_{1} z\\right)}{{\\left(2 \\, c^{2} \\sin\\left(h k_{1}\\right)^{2} - c^{2}\\right)} \\kappa}</script></html>"
      ],
      "text/plain": [
       "(2*B_z_1*epsilon_1*mu_1*omega^2*bessel_J(1, kappa*rho)*cos(h*k_1)*cos(k_1*z)*sin(h*k_1) - (2*B_z_1*epsilon_1*bessel_J(1, kappa*rho)*cos(h*k_1)^2 - B_z_1*epsilon_1*bessel_J(1, kappa*rho))*mu_1*omega^2*sin(k_1*z))/((2*c^2*sin(h*k_1)^2 - c^2)*kappa)"
      ]
     },
     "execution_count": 57,
     "metadata": {},
     "output_type": "execute_result"
    }
   ],
   "source": [
    "rotE_phi[1](rh,ph,z)"
   ]
  },
  {
   "cell_type": "code",
   "execution_count": 58,
   "metadata": {},
   "outputs": [],
   "source": [
    "H_phi = []\n",
    "for i in range(n_layers):\n",
    "    exec(preparse(\"H_phi += [lambda rh,ph,z, i=i : \" + str(rotE_phi[i](rh,ph,z)*c/(I*omega *mu[i]).full_simplify()) +\"]\"))"
   ]
  },
  {
   "cell_type": "code",
   "execution_count": 59,
   "metadata": {},
   "outputs": [
    {
     "data": {
      "text/html": [
       "<html><script type=\"math/tex; mode=display\">\\newcommand{\\Bold}[1]{\\mathbf{#1}}-\\frac{i \\, B_{z_{0}} \\epsilon_{0} \\omega J_{1}(\\kappa \\rho) \\sin\\left(k_{0} z\\right)}{c \\kappa}</script></html>"
      ],
      "text/plain": [
       "-I*B_z_0*epsilon_0*omega*bessel_J(1, kappa*rho)*sin(k_0*z)/(c*kappa)"
      ]
     },
     "execution_count": 59,
     "metadata": {},
     "output_type": "execute_result"
    }
   ],
   "source": [
    "H_phi[0](rh,ph,z)"
   ]
  },
  {
   "cell_type": "code",
   "execution_count": 60,
   "metadata": {},
   "outputs": [
    {
     "data": {
      "text/html": [
       "<html><script type=\"math/tex; mode=display\">\\newcommand{\\Bold}[1]{\\mathbf{#1}}\\frac{{\\left(-2 i \\, B_{z_{1}} \\epsilon_{1} \\mu_{1} \\omega^{2} J_{1}(\\kappa \\rho) \\cos\\left(h k_{1}\\right) \\cos\\left(k_{1} z\\right) \\sin\\left(h k_{1}\\right) + i \\, {\\left(2 \\, B_{z_{1}} \\epsilon_{1} J_{1}(\\kappa \\rho) \\cos\\left(h k_{1}\\right)^{2} - B_{z_{1}} \\epsilon_{1} J_{1}(\\kappa \\rho)\\right)} \\mu_{1} \\omega^{2} \\sin\\left(k_{1} z\\right)\\right)} c}{{\\left(2 \\, c^{2} \\sin\\left(h k_{1}\\right)^{2} - c^{2}\\right)} \\kappa \\mu_{1} \\omega}</script></html>"
      ],
      "text/plain": [
       "(-2*I*B_z_1*epsilon_1*mu_1*omega^2*bessel_J(1, kappa*rho)*cos(h*k_1)*cos(k_1*z)*sin(h*k_1) + I*(2*B_z_1*epsilon_1*bessel_J(1, kappa*rho)*cos(h*k_1)^2 - B_z_1*epsilon_1*bessel_J(1, kappa*rho))*mu_1*omega^2*sin(k_1*z))*c/((2*c^2*sin(h*k_1)^2 - c^2)*kappa*mu_1*omega)"
      ]
     },
     "execution_count": 60,
     "metadata": {},
     "output_type": "execute_result"
    }
   ],
   "source": [
    "H_phi[1](rh,ph,z)"
   ]
  },
  {
   "cell_type": "code",
   "execution_count": 61,
   "metadata": {},
   "outputs": [],
   "source": [
    "bch = []\n",
    "bc =  []\n",
    "for i  in range (n_layers-1):\n",
    "    bc += [E_rho[i](rh,ph, (i + 1) * h).full_simplify() == E_rho[i+1](rh,ph,(i+1)*h).full_simplify()]\n",
    "\n",
    "    bc += [epsilon[i] * E_zz[i](rh,ph,(i+1)*h).full_simplify() == epsilon[i+1]*E_zz[i+1](rh,ph,(i+1)*h).full_simplify()]\n",
    "\n",
    "    bch += [H_phi [i](rh,ph,(i+1)*h).full_simplify() == H_phi [i+1](rh,ph,(i+1)*h).full_simplify()]"
   ]
  },
  {
   "cell_type": "code",
   "execution_count": 62,
   "metadata": {},
   "outputs": [
    {
     "data": {
      "text/html": [
       "<html><script type=\"math/tex; mode=display\">\\newcommand{\\Bold}[1]{\\mathbf{#1}}\\left[-\\frac{B_{z_{0}} k_{0} J_{1}(\\kappa \\rho) \\cos\\left(k_{0} z\\right) \\sin\\left(h k_{0}\\right)}{\\kappa \\sin\\left(k_{0} z\\right)} = -\\frac{2 \\, B_{z_{1}} k_{1} J_{1}(\\kappa \\rho) \\cos\\left(h k_{1}\\right) \\sin\\left(h k_{1}\\right)^{2} \\sin\\left(k_{1} z\\right) - {\\left(2 \\, B_{z_{1}} k_{1} J_{1}(\\kappa \\rho) \\sin\\left(h k_{1}\\right)^{3} - B_{z_{1}} k_{1} J_{1}(\\kappa \\rho) \\sin\\left(h k_{1}\\right)\\right)} \\cos\\left(k_{1} z\\right)}{2 \\, {\\left(2 \\, \\cos\\left(h k_{1}\\right)^{3} - \\cos\\left(h k_{1}\\right)\\right)} \\kappa \\cos\\left(k_{1} z\\right) \\sin\\left(h k_{1}\\right) - {\\left(4 \\, \\cos\\left(h k_{1}\\right)^{4} - 4 \\, \\cos\\left(h k_{1}\\right)^{2} + 1\\right)} \\kappa \\sin\\left(k_{1} z\\right)}, B_{z_{0}} \\epsilon_{0} J_{0}(\\kappa \\rho) \\sin\\left(h k_{0}\\right) = \\frac{B_{z_{1}} \\epsilon_{1} J_{0}(\\kappa \\rho) \\sin\\left(h k_{1}\\right)}{2 \\, \\sin\\left(h k_{1}\\right)^{2} - 1}\\right]</script></html>"
      ],
      "text/plain": [
       "[-B_z_0*k_0*bessel_J(1, kappa*rho)*cos(k_0*z)*sin(h*k_0)/(kappa*sin(k_0*z)) == -(2*B_z_1*k_1*bessel_J(1, kappa*rho)*cos(h*k_1)*sin(h*k_1)^2*sin(k_1*z) - (2*B_z_1*k_1*bessel_J(1, kappa*rho)*sin(h*k_1)^3 - B_z_1*k_1*bessel_J(1, kappa*rho)*sin(h*k_1))*cos(k_1*z))/(2*(2*cos(h*k_1)^3 - cos(h*k_1))*kappa*cos(k_1*z)*sin(h*k_1) - (4*cos(h*k_1)^4 - 4*cos(h*k_1)^2 + 1)*kappa*sin(k_1*z)),\n",
       " B_z_0*epsilon_0*bessel_J(0, kappa*rho)*sin(h*k_0) == B_z_1*epsilon_1*bessel_J(0, kappa*rho)*sin(h*k_1)/(2*sin(h*k_1)^2 - 1)]"
      ]
     },
     "execution_count": 62,
     "metadata": {},
     "output_type": "execute_result"
    }
   ],
   "source": [
    "bc"
   ]
  },
  {
   "cell_type": "code",
   "execution_count": 63,
   "metadata": {
    "scrolled": true
   },
   "outputs": [
    {
     "data": {
      "text/html": [
       "<html><script type=\"math/tex; mode=display\">\\newcommand{\\Bold}[1]{\\mathbf{#1}}\\left[-\\frac{i \\, B_{z_{0}} \\epsilon_{0} \\omega J_{1}(\\kappa \\rho) \\sin\\left(h k_{0}\\right)}{c \\kappa} = -\\frac{i \\, B_{z_{1}} \\epsilon_{1} \\omega J_{1}(\\kappa \\rho) \\sin\\left(h k_{1}\\right)}{{\\left(2 \\, c \\sin\\left(h k_{1}\\right)^{2} - c\\right)} \\kappa}\\right]</script></html>"
      ],
      "text/plain": [
       "[-I*B_z_0*epsilon_0*omega*bessel_J(1, kappa*rho)*sin(h*k_0)/(c*kappa) == -I*B_z_1*epsilon_1*omega*bessel_J(1, kappa*rho)*sin(h*k_1)/((2*c*sin(h*k_1)^2 - c)*kappa)]"
      ]
     },
     "execution_count": 63,
     "metadata": {},
     "output_type": "execute_result"
    }
   ],
   "source": [
    "bch"
   ]
  },
  {
   "cell_type": "code",
   "execution_count": 64,
   "metadata": {},
   "outputs": [],
   "source": [
    "def GenerateMatrix(equsys, vars):\n",
    "    A=matrix(SR, [[(equ.lhs() - equ.rhs()).coefficient(v) for v in vars] for equ in equsys])\n",
    "    return A"
   ]
  },
  {
   "cell_type": "code",
   "execution_count": 65,
   "metadata": {},
   "outputs": [],
   "source": [
    "M = GenerateMatrix(bc, B_z)"
   ]
  },
  {
   "cell_type": "code",
   "execution_count": 66,
   "metadata": {},
   "outputs": [
    {
     "data": {
      "text/html": [
       "<html><script type=\"math/tex; mode=display\">\\newcommand{\\Bold}[1]{\\mathbf{#1}}\\left(\\begin{array}{rr}\n",
       "-\\frac{k_{0} J_{1}(\\kappa \\rho) \\cos\\left(k_{0} z\\right) \\sin\\left(h k_{0}\\right)}{\\kappa \\sin\\left(k_{0} z\\right)} & \\frac{2 \\, k_{1} J_{1}(\\kappa \\rho) \\cos\\left(h k_{1}\\right) \\sin\\left(h k_{1}\\right)^{2} \\sin\\left(k_{1} z\\right) - {\\left(2 \\, k_{1} J_{1}(\\kappa \\rho) \\sin\\left(h k_{1}\\right)^{3} - k_{1} J_{1}(\\kappa \\rho) \\sin\\left(h k_{1}\\right)\\right)} \\cos\\left(k_{1} z\\right)}{2 \\, {\\left(2 \\, \\cos\\left(h k_{1}\\right)^{3} - \\cos\\left(h k_{1}\\right)\\right)} \\kappa \\cos\\left(k_{1} z\\right) \\sin\\left(h k_{1}\\right) - {\\left(4 \\, \\cos\\left(h k_{1}\\right)^{4} - 4 \\, \\cos\\left(h k_{1}\\right)^{2} + 1\\right)} \\kappa \\sin\\left(k_{1} z\\right)} \\\\\n",
       "\\epsilon_{0} J_{0}(\\kappa \\rho) \\sin\\left(h k_{0}\\right) & -\\frac{\\epsilon_{1} J_{0}(\\kappa \\rho) \\sin\\left(h k_{1}\\right)}{2 \\, \\sin\\left(h k_{1}\\right)^{2} - 1}\n",
       "\\end{array}\\right)</script></html>"
      ],
      "text/plain": [
       "[                                                                                                                                                                                                                     -k_0*bessel_J(1, kappa*rho)*cos(k_0*z)*sin(h*k_0)/(kappa*sin(k_0*z)) (2*k_1*bessel_J(1, kappa*rho)*cos(h*k_1)*sin(h*k_1)^2*sin(k_1*z) - (2*k_1*bessel_J(1, kappa*rho)*sin(h*k_1)^3 - k_1*bessel_J(1, kappa*rho)*sin(h*k_1))*cos(k_1*z))/(2*(2*cos(h*k_1)^3 - cos(h*k_1))*kappa*cos(k_1*z)*sin(h*k_1) - (4*cos(h*k_1)^4 - 4*cos(h*k_1)^2 + 1)*kappa*sin(k_1*z))]\n",
       "[                                                                                                                                                                                                                                              epsilon_0*bessel_J(0, kappa*rho)*sin(h*k_0)                                                                                                                                                                                                                         -epsilon_1*bessel_J(0, kappa*rho)*sin(h*k_1)/(2*sin(h*k_1)^2 - 1)]"
      ]
     },
     "execution_count": 66,
     "metadata": {},
     "output_type": "execute_result"
    }
   ],
   "source": [
    "M"
   ]
  },
  {
   "cell_type": "code",
   "execution_count": 67,
   "metadata": {},
   "outputs": [
    {
     "data": {
      "text/html": [
       "<html><script type=\"math/tex; mode=display\">\\newcommand{\\Bold}[1]{\\mathbf{#1}}2</script></html>"
      ],
      "text/plain": [
       "2"
      ]
     },
     "execution_count": 67,
     "metadata": {},
     "output_type": "execute_result"
    }
   ],
   "source": [
    "M.rank()"
   ]
  },
  {
   "cell_type": "code",
   "execution_count": 68,
   "metadata": {},
   "outputs": [],
   "source": [
    "M_det  = M.det()"
   ]
  },
  {
   "cell_type": "code",
   "execution_count": 69,
   "metadata": {},
   "outputs": [
    {
     "data": {
      "text/html": [
       "<html><script type=\"math/tex; mode=display\">\\newcommand{\\Bold}[1]{\\mathbf{#1}}\\frac{\\epsilon_{1} k_{0} J_{1}(\\kappa \\rho) J_{0}(\\kappa \\rho) \\cos\\left(k_{0} z\\right) \\sin\\left(h k_{0}\\right) \\sin\\left(h k_{1}\\right)}{{\\left(2 \\, \\sin\\left(h k_{1}\\right)^{2} - 1\\right)} \\kappa \\sin\\left(k_{0} z\\right)} - \\frac{{\\left(2 \\, k_{1} J_{1}(\\kappa \\rho) \\cos\\left(h k_{1}\\right) \\sin\\left(h k_{1}\\right)^{2} \\sin\\left(k_{1} z\\right) - {\\left(2 \\, k_{1} J_{1}(\\kappa \\rho) \\sin\\left(h k_{1}\\right)^{3} - k_{1} J_{1}(\\kappa \\rho) \\sin\\left(h k_{1}\\right)\\right)} \\cos\\left(k_{1} z\\right)\\right)} \\epsilon_{0} J_{0}(\\kappa \\rho) \\sin\\left(h k_{0}\\right)}{2 \\, {\\left(2 \\, \\cos\\left(h k_{1}\\right)^{3} - \\cos\\left(h k_{1}\\right)\\right)} \\kappa \\cos\\left(k_{1} z\\right) \\sin\\left(h k_{1}\\right) - {\\left(4 \\, \\cos\\left(h k_{1}\\right)^{4} - 4 \\, \\cos\\left(h k_{1}\\right)^{2} + 1\\right)} \\kappa \\sin\\left(k_{1} z\\right)}</script></html>"
      ],
      "text/plain": [
       "epsilon_1*k_0*bessel_J(1, kappa*rho)*bessel_J(0, kappa*rho)*cos(k_0*z)*sin(h*k_0)*sin(h*k_1)/((2*sin(h*k_1)^2 - 1)*kappa*sin(k_0*z)) - (2*k_1*bessel_J(1, kappa*rho)*cos(h*k_1)*sin(h*k_1)^2*sin(k_1*z) - (2*k_1*bessel_J(1, kappa*rho)*sin(h*k_1)^3 - k_1*bessel_J(1, kappa*rho)*sin(h*k_1))*cos(k_1*z))*epsilon_0*bessel_J(0, kappa*rho)*sin(h*k_0)/(2*(2*cos(h*k_1)^3 - cos(h*k_1))*kappa*cos(k_1*z)*sin(h*k_1) - (4*cos(h*k_1)^4 - 4*cos(h*k_1)^2 + 1)*kappa*sin(k_1*z))"
      ]
     },
     "execution_count": 69,
     "metadata": {},
     "output_type": "execute_result"
    }
   ],
   "source": [
    "M_det"
   ]
  },
  {
   "cell_type": "code",
   "execution_count": 70,
   "metadata": {},
   "outputs": [],
   "source": [
    "M_det_num = M_det.numerator()"
   ]
  },
  {
   "cell_type": "code",
   "execution_count": 71,
   "metadata": {},
   "outputs": [
    {
     "data": {
      "text/html": [
       "<html><script type=\"math/tex; mode=display\">\\newcommand{\\Bold}[1]{\\mathbf{#1}}-4 \\, \\epsilon_{1} k_{0} J_{1}(\\kappa \\rho) J_{0}(\\kappa \\rho) \\cos\\left(h k_{1}\\right)^{3} \\cos\\left(k_{0} z\\right) \\cos\\left(k_{1} z\\right) \\sin\\left(h k_{0}\\right) \\sin\\left(h k_{1}\\right)^{2} - 4 \\, \\epsilon_{0} k_{1} J_{1}(\\kappa \\rho) J_{0}(\\kappa \\rho) \\cos\\left(k_{1} z\\right) \\sin\\left(h k_{0}\\right) \\sin\\left(h k_{1}\\right)^{5} \\sin\\left(k_{0} z\\right) + 4 \\, \\epsilon_{1} k_{0} J_{1}(\\kappa \\rho) J_{0}(\\kappa \\rho) \\cos\\left(h k_{1}\\right)^{4} \\cos\\left(k_{0} z\\right) \\sin\\left(h k_{0}\\right) \\sin\\left(h k_{1}\\right) \\sin\\left(k_{1} z\\right) + 4 \\, \\epsilon_{0} k_{1} J_{1}(\\kappa \\rho) J_{0}(\\kappa \\rho) \\cos\\left(h k_{1}\\right) \\sin\\left(h k_{0}\\right) \\sin\\left(h k_{1}\\right)^{4} \\sin\\left(k_{0} z\\right) \\sin\\left(k_{1} z\\right) + 2 \\, \\epsilon_{1} k_{0} J_{1}(\\kappa \\rho) J_{0}(\\kappa \\rho) \\cos\\left(h k_{1}\\right) \\cos\\left(k_{0} z\\right) \\cos\\left(k_{1} z\\right) \\sin\\left(h k_{0}\\right) \\sin\\left(h k_{1}\\right)^{2} + 4 \\, \\epsilon_{0} k_{1} J_{1}(\\kappa \\rho) J_{0}(\\kappa \\rho) \\cos\\left(k_{1} z\\right) \\sin\\left(h k_{0}\\right) \\sin\\left(h k_{1}\\right)^{3} \\sin\\left(k_{0} z\\right) - 4 \\, \\epsilon_{1} k_{0} J_{1}(\\kappa \\rho) J_{0}(\\kappa \\rho) \\cos\\left(h k_{1}\\right)^{2} \\cos\\left(k_{0} z\\right) \\sin\\left(h k_{0}\\right) \\sin\\left(h k_{1}\\right) \\sin\\left(k_{1} z\\right) - 2 \\, \\epsilon_{0} k_{1} J_{1}(\\kappa \\rho) J_{0}(\\kappa \\rho) \\cos\\left(h k_{1}\\right) \\sin\\left(h k_{0}\\right) \\sin\\left(h k_{1}\\right)^{2} \\sin\\left(k_{0} z\\right) \\sin\\left(k_{1} z\\right) - \\epsilon_{0} k_{1} J_{1}(\\kappa \\rho) J_{0}(\\kappa \\rho) \\cos\\left(k_{1} z\\right) \\sin\\left(h k_{0}\\right) \\sin\\left(h k_{1}\\right) \\sin\\left(k_{0} z\\right) + \\epsilon_{1} k_{0} J_{1}(\\kappa \\rho) J_{0}(\\kappa \\rho) \\cos\\left(k_{0} z\\right) \\sin\\left(h k_{0}\\right) \\sin\\left(h k_{1}\\right) \\sin\\left(k_{1} z\\right)</script></html>"
      ],
      "text/plain": [
       "-4*epsilon_1*k_0*bessel_J(1, kappa*rho)*bessel_J(0, kappa*rho)*cos(h*k_1)^3*cos(k_0*z)*cos(k_1*z)*sin(h*k_0)*sin(h*k_1)^2 - 4*epsilon_0*k_1*bessel_J(1, kappa*rho)*bessel_J(0, kappa*rho)*cos(k_1*z)*sin(h*k_0)*sin(h*k_1)^5*sin(k_0*z) + 4*epsilon_1*k_0*bessel_J(1, kappa*rho)*bessel_J(0, kappa*rho)*cos(h*k_1)^4*cos(k_0*z)*sin(h*k_0)*sin(h*k_1)*sin(k_1*z) + 4*epsilon_0*k_1*bessel_J(1, kappa*rho)*bessel_J(0, kappa*rho)*cos(h*k_1)*sin(h*k_0)*sin(h*k_1)^4*sin(k_0*z)*sin(k_1*z) + 2*epsilon_1*k_0*bessel_J(1, kappa*rho)*bessel_J(0, kappa*rho)*cos(h*k_1)*cos(k_0*z)*cos(k_1*z)*sin(h*k_0)*sin(h*k_1)^2 + 4*epsilon_0*k_1*bessel_J(1, kappa*rho)*bessel_J(0, kappa*rho)*cos(k_1*z)*sin(h*k_0)*sin(h*k_1)^3*sin(k_0*z) - 4*epsilon_1*k_0*bessel_J(1, kappa*rho)*bessel_J(0, kappa*rho)*cos(h*k_1)^2*cos(k_0*z)*sin(h*k_0)*sin(h*k_1)*sin(k_1*z) - 2*epsilon_0*k_1*bessel_J(1, kappa*rho)*bessel_J(0, kappa*rho)*cos(h*k_1)*sin(h*k_0)*sin(h*k_1)^2*sin(k_0*z)*sin(k_1*z) - epsilon_0*k_1*bessel_J(1, kappa*rho)*bessel_J(0, kappa*rho)*cos(k_1*z)*sin(h*k_0)*sin(h*k_1)*sin(k_0*z) + epsilon_1*k_0*bessel_J(1, kappa*rho)*bessel_J(0, kappa*rho)*cos(k_0*z)*sin(h*k_0)*sin(h*k_1)*sin(k_1*z)"
      ]
     },
     "execution_count": 71,
     "metadata": {},
     "output_type": "execute_result"
    }
   ],
   "source": [
    "M_det_num"
   ]
  },
  {
   "cell_type": "code",
   "execution_count": 72,
   "metadata": {},
   "outputs": [],
   "source": [
    "disp_eq = M_det == 0"
   ]
  },
  {
   "cell_type": "code",
   "execution_count": 73,
   "metadata": {},
   "outputs": [
    {
     "data": {
      "text/html": [
       "<html><script type=\"math/tex; mode=display\">\\newcommand{\\Bold}[1]{\\mathbf{#1}}\\frac{\\epsilon_{1} k_{0} J_{1}(\\kappa \\rho) J_{0}(\\kappa \\rho) \\cos\\left(k_{0} z\\right) \\sin\\left(h k_{0}\\right) \\sin\\left(h k_{1}\\right)}{{\\left(2 \\, \\sin\\left(h k_{1}\\right)^{2} - 1\\right)} \\kappa \\sin\\left(k_{0} z\\right)} - \\frac{{\\left(2 \\, k_{1} J_{1}(\\kappa \\rho) \\cos\\left(h k_{1}\\right) \\sin\\left(h k_{1}\\right)^{2} \\sin\\left(k_{1} z\\right) - {\\left(2 \\, k_{1} J_{1}(\\kappa \\rho) \\sin\\left(h k_{1}\\right)^{3} - k_{1} J_{1}(\\kappa \\rho) \\sin\\left(h k_{1}\\right)\\right)} \\cos\\left(k_{1} z\\right)\\right)} \\epsilon_{0} J_{0}(\\kappa \\rho) \\sin\\left(h k_{0}\\right)}{2 \\, {\\left(2 \\, \\cos\\left(h k_{1}\\right)^{3} - \\cos\\left(h k_{1}\\right)\\right)} \\kappa \\cos\\left(k_{1} z\\right) \\sin\\left(h k_{1}\\right) - {\\left(4 \\, \\cos\\left(h k_{1}\\right)^{4} - 4 \\, \\cos\\left(h k_{1}\\right)^{2} + 1\\right)} \\kappa \\sin\\left(k_{1} z\\right)} = 0</script></html>"
      ],
      "text/plain": [
       "epsilon_1*k_0*bessel_J(1, kappa*rho)*bessel_J(0, kappa*rho)*cos(k_0*z)*sin(h*k_0)*sin(h*k_1)/((2*sin(h*k_1)^2 - 1)*kappa*sin(k_0*z)) - (2*k_1*bessel_J(1, kappa*rho)*cos(h*k_1)*sin(h*k_1)^2*sin(k_1*z) - (2*k_1*bessel_J(1, kappa*rho)*sin(h*k_1)^3 - k_1*bessel_J(1, kappa*rho)*sin(h*k_1))*cos(k_1*z))*epsilon_0*bessel_J(0, kappa*rho)*sin(h*k_0)/(2*(2*cos(h*k_1)^3 - cos(h*k_1))*kappa*cos(k_1*z)*sin(h*k_1) - (4*cos(h*k_1)^4 - 4*cos(h*k_1)^2 + 1)*kappa*sin(k_1*z)) == 0"
      ]
     },
     "execution_count": 73,
     "metadata": {},
     "output_type": "execute_result"
    }
   ],
   "source": [
    "disp_eq"
   ]
  },
  {
   "cell_type": "code",
   "execution_count": 74,
   "metadata": {},
   "outputs": [
    {
     "data": {
      "text/html": [
       "<html><script type=\"math/tex; mode=display\">\\newcommand{\\Bold}[1]{\\mathbf{#1}}\\left[-\\frac{i \\, B_{z_{0}} \\epsilon_{0} \\omega J_{1}(\\kappa \\rho) \\sin\\left(h k_{0}\\right)}{c \\kappa} = -\\frac{i \\, B_{z_{1}} \\epsilon_{1} \\omega J_{1}(\\kappa \\rho) \\sin\\left(h k_{1}\\right)}{{\\left(2 \\, c \\sin\\left(h k_{1}\\right)^{2} - c\\right)} \\kappa}\\right]</script></html>"
      ],
      "text/plain": [
       "[-I*B_z_0*epsilon_0*omega*bessel_J(1, kappa*rho)*sin(h*k_0)/(c*kappa) == -I*B_z_1*epsilon_1*omega*bessel_J(1, kappa*rho)*sin(h*k_1)/((2*c*sin(h*k_1)^2 - c)*kappa)]"
      ]
     },
     "execution_count": 74,
     "metadata": {},
     "output_type": "execute_result"
    }
   ],
   "source": [
    "bch"
   ]
  },
  {
   "cell_type": "code",
   "execution_count": 75,
   "metadata": {},
   "outputs": [],
   "source": [
    "bchs = []\n",
    "for i in range(n_layers-1):\n",
    "    bchs +=  [solve (bch, B_z[i+1])[0].full_simplify ().expand () ]"
   ]
  },
  {
   "cell_type": "code",
   "execution_count": 76,
   "metadata": {},
   "outputs": [
    {
     "data": {
      "text/html": [
       "<html><script type=\"math/tex; mode=display\">\\newcommand{\\Bold}[1]{\\mathbf{#1}}\\left[B_{z_{1}} = -\\frac{2 \\, B_{z_{0}} \\epsilon_{0} \\cos\\left(h k_{1}\\right)^{2} \\sin\\left(h k_{0}\\right)}{\\epsilon_{1} \\sin\\left(h k_{1}\\right)} + \\frac{B_{z_{0}} \\epsilon_{0} \\sin\\left(h k_{0}\\right)}{\\epsilon_{1} \\sin\\left(h k_{1}\\right)}\\right]</script></html>"
      ],
      "text/plain": [
       "[B_z_1 == -2*B_z_0*epsilon_0*cos(h*k_1)^2*sin(h*k_0)/(epsilon_1*sin(h*k_1)) + B_z_0*epsilon_0*sin(h*k_0)/(epsilon_1*sin(h*k_1))]"
      ]
     },
     "execution_count": 76,
     "metadata": {},
     "output_type": "execute_result"
    }
   ],
   "source": [
    "bchs"
   ]
  },
  {
   "cell_type": "code",
   "execution_count": null,
   "metadata": {},
   "outputs": [],
   "source": []
  },
  {
   "cell_type": "code",
   "execution_count": 77,
   "metadata": {},
   "outputs": [],
   "source": [
    "E_rho_s = []\n",
    "for i in range(n_layers):\n",
    "    E_rho_s += [ lambda rh, ph, z, i=i : E_rho[i](rh,ph,z).subs(bchs) ]"
   ]
  },
  {
   "cell_type": "code",
   "execution_count": 78,
   "metadata": {},
   "outputs": [],
   "source": [
    "E_zz_s = []\n",
    "for i in range(n_layers):\n",
    "    E_zz_s += [ lambda rh, ph, z, i=i : E_zz[i](rh,ph,z).subs(bchs) ]"
   ]
  },
  {
   "cell_type": "code",
   "execution_count": 79,
   "metadata": {},
   "outputs": [],
   "source": [
    "H_phi_s = []\n",
    "for i in range(n_layers):\n",
    "    H_phi_s += [ lambda rh, ph, z, i=i : H_phi[i](rh,ph,z).subs(bchs) ]\n"
   ]
  },
  {
   "cell_type": "code",
   "execution_count": 80,
   "metadata": {},
   "outputs": [
    {
     "data": {
      "text/html": [
       "<html><script type=\"math/tex; mode=display\">\\newcommand{\\Bold}[1]{\\mathbf{#1}}-\\frac{2 \\, {\\left(\\frac{2 \\, B_{z_{0}} \\epsilon_{0} \\cos\\left(h k_{1}\\right)^{2} \\sin\\left(h k_{0}\\right)}{\\epsilon_{1} \\sin\\left(h k_{1}\\right)} - \\frac{B_{z_{0}} \\epsilon_{0} \\sin\\left(h k_{0}\\right)}{\\epsilon_{1} \\sin\\left(h k_{1}\\right)}\\right)} k_{1} J_{1}(\\kappa \\rho) \\cos\\left(h k_{1}\\right) \\sin\\left(h k_{1}\\right) \\sin\\left(k_{1} z\\right) + {\\left(2 \\, {\\left(\\frac{2 \\, B_{z_{0}} \\epsilon_{0} \\cos\\left(h k_{1}\\right)^{2} \\sin\\left(h k_{0}\\right)}{\\epsilon_{1} \\sin\\left(h k_{1}\\right)} - \\frac{B_{z_{0}} \\epsilon_{0} \\sin\\left(h k_{0}\\right)}{\\epsilon_{1} \\sin\\left(h k_{1}\\right)}\\right)} k_{1} J_{1}(\\kappa \\rho) \\cos\\left(h k_{1}\\right)^{2} - {\\left(\\frac{2 \\, B_{z_{0}} \\epsilon_{0} \\cos\\left(h k_{1}\\right)^{2} \\sin\\left(h k_{0}\\right)}{\\epsilon_{1} \\sin\\left(h k_{1}\\right)} - \\frac{B_{z_{0}} \\epsilon_{0} \\sin\\left(h k_{0}\\right)}{\\epsilon_{1} \\sin\\left(h k_{1}\\right)}\\right)} k_{1} J_{1}(\\kappa \\rho)\\right)} \\cos\\left(k_{1} z\\right)}{{\\left(2 \\, \\sin\\left(h k_{1}\\right)^{2} - 1\\right)} \\kappa}</script></html>"
      ],
      "text/plain": [
       "-(2*(2*B_z_0*epsilon_0*cos(h*k_1)^2*sin(h*k_0)/(epsilon_1*sin(h*k_1)) - B_z_0*epsilon_0*sin(h*k_0)/(epsilon_1*sin(h*k_1)))*k_1*bessel_J(1, kappa*rho)*cos(h*k_1)*sin(h*k_1)*sin(k_1*z) + (2*(2*B_z_0*epsilon_0*cos(h*k_1)^2*sin(h*k_0)/(epsilon_1*sin(h*k_1)) - B_z_0*epsilon_0*sin(h*k_0)/(epsilon_1*sin(h*k_1)))*k_1*bessel_J(1, kappa*rho)*cos(h*k_1)^2 - (2*B_z_0*epsilon_0*cos(h*k_1)^2*sin(h*k_0)/(epsilon_1*sin(h*k_1)) - B_z_0*epsilon_0*sin(h*k_0)/(epsilon_1*sin(h*k_1)))*k_1*bessel_J(1, kappa*rho))*cos(k_1*z))/((2*sin(h*k_1)^2 - 1)*kappa)"
      ]
     },
     "execution_count": 80,
     "metadata": {},
     "output_type": "execute_result"
    }
   ],
   "source": [
    "E_rho_s [1](rh,ph,z)"
   ]
  },
  {
   "cell_type": "code",
   "execution_count": 81,
   "metadata": {},
   "outputs": [
    {
     "data": {
      "text/html": [
       "<html><script type=\"math/tex; mode=display\">\\newcommand{\\Bold}[1]{\\mathbf{#1}}{\\left(\\frac{{\\left(\\frac{2 \\, B_{z_{0}} \\epsilon_{0} \\cos\\left(h k_{1}\\right)^{2} \\sin\\left(h k_{0}\\right)}{\\epsilon_{1} \\sin\\left(h k_{1}\\right)} - \\frac{B_{z_{0}} \\epsilon_{0} \\sin\\left(h k_{0}\\right)}{\\epsilon_{1} \\sin\\left(h k_{1}\\right)}\\right)} \\cos\\left(k_{1} z\\right) \\sin\\left(2 \\, h k_{1}\\right)}{\\cos\\left(2 \\, h k_{1}\\right)} - {\\left(\\frac{2 \\, B_{z_{0}} \\epsilon_{0} \\cos\\left(h k_{1}\\right)^{2} \\sin\\left(h k_{0}\\right)}{\\epsilon_{1} \\sin\\left(h k_{1}\\right)} - \\frac{B_{z_{0}} \\epsilon_{0} \\sin\\left(h k_{0}\\right)}{\\epsilon_{1} \\sin\\left(h k_{1}\\right)}\\right)} \\sin\\left(k_{1} z\\right)\\right)} J_{0}(\\kappa \\rho)</script></html>"
      ],
      "text/plain": [
       "((2*B_z_0*epsilon_0*cos(h*k_1)^2*sin(h*k_0)/(epsilon_1*sin(h*k_1)) - B_z_0*epsilon_0*sin(h*k_0)/(epsilon_1*sin(h*k_1)))*cos(k_1*z)*sin(2*h*k_1)/cos(2*h*k_1) - (2*B_z_0*epsilon_0*cos(h*k_1)^2*sin(h*k_0)/(epsilon_1*sin(h*k_1)) - B_z_0*epsilon_0*sin(h*k_0)/(epsilon_1*sin(h*k_1)))*sin(k_1*z))*bessel_J(0, kappa*rho)"
      ]
     },
     "execution_count": 81,
     "metadata": {},
     "output_type": "execute_result"
    }
   ],
   "source": [
    "E_zz_s[1](rh,ph,z)"
   ]
  },
  {
   "cell_type": "code",
   "execution_count": 82,
   "metadata": {},
   "outputs": [
    {
     "data": {
      "text/html": [
       "<html><script type=\"math/tex; mode=display\">\\newcommand{\\Bold}[1]{\\mathbf{#1}}\\frac{{\\left(2 i \\, {\\left(\\frac{2 \\, B_{z_{0}} \\epsilon_{0} \\cos\\left(h k_{1}\\right)^{2} \\sin\\left(h k_{0}\\right)}{\\epsilon_{1} \\sin\\left(h k_{1}\\right)} - \\frac{B_{z_{0}} \\epsilon_{0} \\sin\\left(h k_{0}\\right)}{\\epsilon_{1} \\sin\\left(h k_{1}\\right)}\\right)} \\epsilon_{1} \\mu_{1} \\omega^{2} J_{1}(\\kappa \\rho) \\cos\\left(h k_{1}\\right) \\cos\\left(k_{1} z\\right) \\sin\\left(h k_{1}\\right) - i \\, {\\left(2 \\, {\\left(\\frac{2 \\, B_{z_{0}} \\epsilon_{0} \\cos\\left(h k_{1}\\right)^{2} \\sin\\left(h k_{0}\\right)}{\\epsilon_{1} \\sin\\left(h k_{1}\\right)} - \\frac{B_{z_{0}} \\epsilon_{0} \\sin\\left(h k_{0}\\right)}{\\epsilon_{1} \\sin\\left(h k_{1}\\right)}\\right)} \\epsilon_{1} J_{1}(\\kappa \\rho) \\cos\\left(h k_{1}\\right)^{2} - {\\left(\\frac{2 \\, B_{z_{0}} \\epsilon_{0} \\cos\\left(h k_{1}\\right)^{2} \\sin\\left(h k_{0}\\right)}{\\epsilon_{1} \\sin\\left(h k_{1}\\right)} - \\frac{B_{z_{0}} \\epsilon_{0} \\sin\\left(h k_{0}\\right)}{\\epsilon_{1} \\sin\\left(h k_{1}\\right)}\\right)} \\epsilon_{1} J_{1}(\\kappa \\rho)\\right)} \\mu_{1} \\omega^{2} \\sin\\left(k_{1} z\\right)\\right)} c}{{\\left(2 \\, c^{2} \\sin\\left(h k_{1}\\right)^{2} - c^{2}\\right)} \\kappa \\mu_{1} \\omega}</script></html>"
      ],
      "text/plain": [
       "(2*I*(2*B_z_0*epsilon_0*cos(h*k_1)^2*sin(h*k_0)/(epsilon_1*sin(h*k_1)) - B_z_0*epsilon_0*sin(h*k_0)/(epsilon_1*sin(h*k_1)))*epsilon_1*mu_1*omega^2*bessel_J(1, kappa*rho)*cos(h*k_1)*cos(k_1*z)*sin(h*k_1) - I*(2*(2*B_z_0*epsilon_0*cos(h*k_1)^2*sin(h*k_0)/(epsilon_1*sin(h*k_1)) - B_z_0*epsilon_0*sin(h*k_0)/(epsilon_1*sin(h*k_1)))*epsilon_1*bessel_J(1, kappa*rho)*cos(h*k_1)^2 - (2*B_z_0*epsilon_0*cos(h*k_1)^2*sin(h*k_0)/(epsilon_1*sin(h*k_1)) - B_z_0*epsilon_0*sin(h*k_0)/(epsilon_1*sin(h*k_1)))*epsilon_1*bessel_J(1, kappa*rho))*mu_1*omega^2*sin(k_1*z))*c/((2*c^2*sin(h*k_1)^2 - c^2)*kappa*mu_1*omega)"
      ]
     },
     "execution_count": 82,
     "metadata": {},
     "output_type": "execute_result"
    }
   ],
   "source": [
    "H_phi_s[1](rh,ph,z)"
   ]
  },
  {
   "cell_type": "code",
   "execution_count": 83,
   "metadata": {},
   "outputs": [
    {
     "data": {
      "text/html": [
       "<html><script type=\"math/tex; mode=display\">\\newcommand{\\Bold}[1]{\\mathbf{#1}}\\left[-k_{0}^{2} + \\frac{\\epsilon_{0} \\mu_{0} \\omega^{2}}{c^{2}} = \\kappa^{2}, -k_{1}^{2} + \\frac{\\epsilon_{1} \\mu_{1} \\omega^{2}}{c^{2}} = \\kappa^{2}\\right]</script></html>"
      ],
      "text/plain": [
       "[-k_0^2 + epsilon_0*mu_0*omega^2/c^2 == kappa^2,\n",
       " -k_1^2 + epsilon_1*mu_1*omega^2/c^2 == kappa^2]"
      ]
     },
     "execution_count": 83,
     "metadata": {},
     "output_type": "execute_result"
    }
   ],
   "source": [
    "eq_kappa"
   ]
  },
  {
   "cell_type": "code",
   "execution_count": 84,
   "metadata": {},
   "outputs": [
    {
     "data": {
      "text/html": [
       "<html><script type=\"math/tex; mode=display\">\\newcommand{\\Bold}[1]{\\mathbf{#1}}\\frac{\\epsilon_{1} k_{0} J_{1}(\\kappa \\rho) J_{0}(\\kappa \\rho) \\cos\\left(k_{0} z\\right) \\sin\\left(h k_{0}\\right) \\sin\\left(h k_{1}\\right)}{{\\left(2 \\, \\sin\\left(h k_{1}\\right)^{2} - 1\\right)} \\kappa \\sin\\left(k_{0} z\\right)} - \\frac{{\\left(2 \\, k_{1} J_{1}(\\kappa \\rho) \\cos\\left(h k_{1}\\right) \\sin\\left(h k_{1}\\right)^{2} \\sin\\left(k_{1} z\\right) - {\\left(2 \\, k_{1} J_{1}(\\kappa \\rho) \\sin\\left(h k_{1}\\right)^{3} - k_{1} J_{1}(\\kappa \\rho) \\sin\\left(h k_{1}\\right)\\right)} \\cos\\left(k_{1} z\\right)\\right)} \\epsilon_{0} J_{0}(\\kappa \\rho) \\sin\\left(h k_{0}\\right)}{2 \\, {\\left(2 \\, \\cos\\left(h k_{1}\\right)^{3} - \\cos\\left(h k_{1}\\right)\\right)} \\kappa \\cos\\left(k_{1} z\\right) \\sin\\left(h k_{1}\\right) - {\\left(4 \\, \\cos\\left(h k_{1}\\right)^{4} - 4 \\, \\cos\\left(h k_{1}\\right)^{2} + 1\\right)} \\kappa \\sin\\left(k_{1} z\\right)} = 0</script></html>"
      ],
      "text/plain": [
       "epsilon_1*k_0*bessel_J(1, kappa*rho)*bessel_J(0, kappa*rho)*cos(k_0*z)*sin(h*k_0)*sin(h*k_1)/((2*sin(h*k_1)^2 - 1)*kappa*sin(k_0*z)) - (2*k_1*bessel_J(1, kappa*rho)*cos(h*k_1)*sin(h*k_1)^2*sin(k_1*z) - (2*k_1*bessel_J(1, kappa*rho)*sin(h*k_1)^3 - k_1*bessel_J(1, kappa*rho)*sin(h*k_1))*cos(k_1*z))*epsilon_0*bessel_J(0, kappa*rho)*sin(h*k_0)/(2*(2*cos(h*k_1)^3 - cos(h*k_1))*kappa*cos(k_1*z)*sin(h*k_1) - (4*cos(h*k_1)^4 - 4*cos(h*k_1)^2 + 1)*kappa*sin(k_1*z)) == 0"
      ]
     },
     "execution_count": 84,
     "metadata": {},
     "output_type": "execute_result"
    }
   ],
   "source": [
    "disp_eq"
   ]
  },
  {
   "cell_type": "code",
   "execution_count": 85,
   "metadata": {},
   "outputs": [],
   "source": [
    "bessel_root_1 = find_root (bessel_J(0,x),  0, pi)"
   ]
  },
  {
   "cell_type": "code",
   "execution_count": 86,
   "metadata": {},
   "outputs": [],
   "source": [
    "bessel_root_2 =  find_root (bessel_J(0,x),  pi, pi*2)"
   ]
  },
  {
   "cell_type": "code",
   "execution_count": 87,
   "metadata": {
    "scrolled": true
   },
   "outputs": [],
   "source": [
    "kappa_d1 = bessel_root_1/a"
   ]
  },
  {
   "cell_type": "code",
   "execution_count": 88,
   "metadata": {},
   "outputs": [],
   "source": [
    "#sgs\n",
    "lambda_d = 632*100*10^-9\n",
    "# 632 nm\n",
    "digit_values = [a == 12, mu[0] == 1, mu[1] == 1, epsilon[0] == 2.468^2, epsilon[1] == 1.67^2]\n",
    "\n",
    "c_value  = [ c == 299792458 * 100]\n",
    "\n",
    "omega_value = [ omega  == ((2*pi * c)/ lambda_d).subs (c_value) ]"
   ]
  },
  {
   "cell_type": "code",
   "execution_count": 89,
   "metadata": {},
   "outputs": [],
   "source": [
    "eq_kappa_d =[]\n",
    "for i in range(n_layers):\n",
    "    eq_kappa_d += [eq_kappa[i].subs(kappa == kappa_d1).subs(digit_values).subs (c_value).subs(omega_value)]"
   ]
  },
  {
   "cell_type": "code",
   "execution_count": 90,
   "metadata": {
    "scrolled": true
   },
   "outputs": [
    {
     "data": {
      "text/html": [
       "<html><script type=\"math/tex; mode=display\">\\newcommand{\\Bold}[1]{\\mathbf{#1}}\\left[6.09980772312129 \\times 10^{9} \\, \\pi^{2} - k_{0}^{2} = 0.04016101363157489, 2.79292180740266 \\times 10^{9} \\, \\pi^{2} - k_{1}^{2} = 0.04016101363157489\\right]</script></html>"
      ],
      "text/plain": [
       "[6.09980772312129e9*pi^2 - k_0^2 == 0.04016101363157489,\n",
       " 2.79292180740266e9*pi^2 - k_1^2 == 0.04016101363157489]"
      ]
     },
     "execution_count": 90,
     "metadata": {},
     "output_type": "execute_result"
    }
   ],
   "source": [
    "eq_kappa_d"
   ]
  },
  {
   "cell_type": "code",
   "execution_count": 91,
   "metadata": {},
   "outputs": [],
   "source": [
    "disp_eq_d = disp_eq.subs(digit_values).subs (c_value)"
   ]
  },
  {
   "cell_type": "code",
   "execution_count": 92,
   "metadata": {},
   "outputs": [
    {
     "data": {
      "text/html": [
       "<html><script type=\"math/tex; mode=display\">\\newcommand{\\Bold}[1]{\\mathbf{#1}}\\frac{2.78890000000000 \\, k_{0} J_{1}(\\kappa \\rho) J_{0}(\\kappa \\rho) \\cos\\left(k_{0} z\\right) \\sin\\left(h k_{0}\\right) \\sin\\left(h k_{1}\\right)}{{\\left(2 \\, \\sin\\left(h k_{1}\\right)^{2} - 1\\right)} \\kappa \\sin\\left(k_{0} z\\right)} - \\frac{6.09102400000000 \\, {\\left(2 \\, k_{1} J_{1}(\\kappa \\rho) \\cos\\left(h k_{1}\\right) \\sin\\left(h k_{1}\\right)^{2} \\sin\\left(k_{1} z\\right) - {\\left(2 \\, k_{1} J_{1}(\\kappa \\rho) \\sin\\left(h k_{1}\\right)^{3} - k_{1} J_{1}(\\kappa \\rho) \\sin\\left(h k_{1}\\right)\\right)} \\cos\\left(k_{1} z\\right)\\right)} J_{0}(\\kappa \\rho) \\sin\\left(h k_{0}\\right)}{2 \\, {\\left(2 \\, \\cos\\left(h k_{1}\\right)^{3} - \\cos\\left(h k_{1}\\right)\\right)} \\kappa \\cos\\left(k_{1} z\\right) \\sin\\left(h k_{1}\\right) - {\\left(4 \\, \\cos\\left(h k_{1}\\right)^{4} - 4 \\, \\cos\\left(h k_{1}\\right)^{2} + 1\\right)} \\kappa \\sin\\left(k_{1} z\\right)} = 0</script></html>"
      ],
      "text/plain": [
       "2.78890000000000*k_0*bessel_J(1, kappa*rho)*bessel_J(0, kappa*rho)*cos(k_0*z)*sin(h*k_0)*sin(h*k_1)/((2*sin(h*k_1)^2 - 1)*kappa*sin(k_0*z)) - 6.09102400000000*(2*k_1*bessel_J(1, kappa*rho)*cos(h*k_1)*sin(h*k_1)^2*sin(k_1*z) - (2*k_1*bessel_J(1, kappa*rho)*sin(h*k_1)^3 - k_1*bessel_J(1, kappa*rho)*sin(h*k_1))*cos(k_1*z))*bessel_J(0, kappa*rho)*sin(h*k_0)/(2*(2*cos(h*k_1)^3 - cos(h*k_1))*kappa*cos(k_1*z)*sin(h*k_1) - (4*cos(h*k_1)^4 - 4*cos(h*k_1)^2 + 1)*kappa*sin(k_1*z)) == 0"
      ]
     },
     "execution_count": 92,
     "metadata": {},
     "output_type": "execute_result"
    }
   ],
   "source": [
    "disp_eq_d"
   ]
  },
  {
   "cell_type": "code",
   "execution_count": 93,
   "metadata": {},
   "outputs": [],
   "source": [
    "k_values = []\n",
    "for i in range(n_layers):\n",
    "    assume (k [i] > 0)\n",
    "    k_values += solve (eq_kappa_d[i], k[i])"
   ]
  },
  {
   "cell_type": "code",
   "execution_count": 94,
   "metadata": {},
   "outputs": [
    {
     "data": {
      "text/html": [
       "<html><script type=\"math/tex; mode=display\">\\newcommand{\\Bold}[1]{\\mathbf{#1}}\\left[k_{0} = \\frac{1}{39} \\, \\sqrt{\\frac{18555615093735}{2} \\, \\pi^{2} - \\frac{926467802}{15166887}}, k_{1} = \\frac{1}{3} \\, \\sqrt{\\frac{5680802956257}{226} \\, \\pi^{2} - \\frac{5482058}{15166887}}\\right]</script></html>"
      ],
      "text/plain": [
       "[k_0 == 1/39*sqrt(18555615093735/2*pi^2 - 926467802/15166887),\n",
       " k_1 == 1/3*sqrt(5680802956257/226*pi^2 - 5482058/15166887)]"
      ]
     },
     "execution_count": 94,
     "metadata": {},
     "output_type": "execute_result"
    }
   ],
   "source": [
    "k_values"
   ]
  },
  {
   "cell_type": "code",
   "execution_count": 95,
   "metadata": {},
   "outputs": [],
   "source": [
    "k_values_d = []\n",
    "for i in range(n_layers):\n",
    "    k_values_d += [k_values [i].lhs() == k_values [i].rhs().n() ]"
   ]
  },
  {
   "cell_type": "code",
   "execution_count": 96,
   "metadata": {},
   "outputs": [
    {
     "data": {
      "text/html": [
       "<html><script type=\"math/tex; mode=display\">\\newcommand{\\Bold}[1]{\\mathbf{#1}}\\left[k_{0} = 245362.362944843, k_{1} = 166027.206692757\\right]</script></html>"
      ],
      "text/plain": [
       "[k_0 == 245362.362944843, k_1 == 166027.206692757]"
      ]
     },
     "execution_count": 96,
     "metadata": {},
     "output_type": "execute_result"
    }
   ],
   "source": [
    "k_values_d"
   ]
  },
  {
   "cell_type": "code",
   "execution_count": 97,
   "metadata": {},
   "outputs": [],
   "source": [
    "disp_eq_s = disp_eq_d.subs(k_values_d)"
   ]
  },
  {
   "cell_type": "code",
   "execution_count": 98,
   "metadata": {},
   "outputs": [
    {
     "data": {
      "text/html": [
       "<html><script type=\"math/tex; mode=display\">\\newcommand{\\Bold}[1]{\\mathbf{#1}}-\\frac{6.09102400000000 \\, {\\left(332054.413385514 \\, J_{1}(\\kappa \\rho) \\cos\\left(166027.206692757 \\, h\\right) \\sin\\left(166027.206692757 \\, h\\right)^{2} \\sin\\left(166027.206692757 \\, z\\right) - {\\left(332054.413385514 \\, J_{1}(\\kappa \\rho) \\sin\\left(166027.206692757 \\, h\\right)^{3} - 166027.206692757 \\, J_{1}(\\kappa \\rho) \\sin\\left(166027.206692757 \\, h\\right)\\right)} \\cos\\left(166027.206692757 \\, z\\right)\\right)} J_{0}(\\kappa \\rho) \\sin\\left(245362.362944843 \\, h\\right)}{2 \\, {\\left(2 \\, \\cos\\left(166027.206692757 \\, h\\right)^{3} - \\cos\\left(166027.206692757 \\, h\\right)\\right)} \\kappa \\cos\\left(166027.206692757 \\, z\\right) \\sin\\left(166027.206692757 \\, h\\right) - {\\left(4 \\, \\cos\\left(166027.206692757 \\, h\\right)^{4} - 4 \\, \\cos\\left(166027.206692757 \\, h\\right)^{2} + 1\\right)} \\kappa \\sin\\left(166027.206692757 \\, z\\right)} + \\frac{684291.094016872 \\, J_{1}(\\kappa \\rho) J_{0}(\\kappa \\rho) \\cos\\left(245362.362944843 \\, z\\right) \\sin\\left(245362.362944843 \\, h\\right) \\sin\\left(166027.206692757 \\, h\\right)}{{\\left(2 \\, \\sin\\left(166027.206692757 \\, h\\right)^{2} - 1\\right)} \\kappa \\sin\\left(245362.362944843 \\, z\\right)} = 0</script></html>"
      ],
      "text/plain": [
       "-6.09102400000000*(332054.413385514*bessel_J(1, kappa*rho)*cos(166027.206692757*h)*sin(166027.206692757*h)^2*sin(166027.206692757*z) - (332054.413385514*bessel_J(1, kappa*rho)*sin(166027.206692757*h)^3 - 166027.206692757*bessel_J(1, kappa*rho)*sin(166027.206692757*h))*cos(166027.206692757*z))*bessel_J(0, kappa*rho)*sin(245362.362944843*h)/(2*(2*cos(166027.206692757*h)^3 - cos(166027.206692757*h))*kappa*cos(166027.206692757*z)*sin(166027.206692757*h) - (4*cos(166027.206692757*h)^4 - 4*cos(166027.206692757*h)^2 + 1)*kappa*sin(166027.206692757*z)) + 684291.094016872*bessel_J(1, kappa*rho)*bessel_J(0, kappa*rho)*cos(245362.362944843*z)*sin(245362.362944843*h)*sin(166027.206692757*h)/((2*sin(166027.206692757*h)^2 - 1)*kappa*sin(245362.362944843*z)) == 0"
      ]
     },
     "execution_count": 98,
     "metadata": {},
     "output_type": "execute_result"
    }
   ],
   "source": [
    "disp_eq_s"
   ]
  },
  {
   "cell_type": "code",
   "execution_count": 99,
   "metadata": {},
   "outputs": [],
   "source": [
    "disp_eq_brakes = []\n",
    "for i in range(n_layers):\n",
    "    disp_eq_brake = find_root( cos(k_values_d[i].rhs()*x) == 0, lambda_d/32, lambda_d/4)\n",
    "    for j in range (3):\n",
    "        disp_eq_brakes += [ j * pi / k_values_d [i].rhs() + disp_eq_brake]"
   ]
  },
  {
   "cell_type": "code",
   "execution_count": 100,
   "metadata": {},
   "outputs": [
    {
     "data": {
      "text/html": [
       "<html><script type=\"math/tex; mode=display\">\\newcommand{\\Bold}[1]{\\mathbf{#1}}\\left[6.401944900718174 \\times 10^{-06}, \\left(4.07560470154422 \\times 10^{-6}\\right) \\, \\pi + 6.401944900718174 \\times 10^{-06}, \\left(8.15120940308844 \\times 10^{-6}\\right) \\, \\pi + 6.401944900718174 \\times 10^{-06}, 9.46107784453728 \\times 10^{-06}, \\left(6.02310922360187 \\times 10^{-6}\\right) \\, \\pi + 9.46107784453728 \\times 10^{-06}, 0.0000120462184472037 \\, \\pi + 9.46107784453728 \\times 10^{-06}\\right]</script></html>"
      ],
      "text/plain": [
       "[6.401944900718174e-06,\n",
       " (4.07560470154422e-6)*pi + 6.401944900718174e-06,\n",
       " (8.15120940308844e-6)*pi + 6.401944900718174e-06,\n",
       " 9.46107784453728e-06,\n",
       " (6.02310922360187e-6)*pi + 9.46107784453728e-06,\n",
       " 0.0000120462184472037*pi + 9.46107784453728e-06]"
      ]
     },
     "execution_count": 100,
     "metadata": {},
     "output_type": "execute_result"
    }
   ],
   "source": [
    "disp_eq_brakes"
   ]
  },
  {
   "cell_type": "code",
   "execution_count": null,
   "metadata": {},
   "outputs": [],
   "source": []
  },
  {
   "cell_type": "code",
   "execution_count": null,
   "metadata": {},
   "outputs": [],
   "source": []
  },
  {
   "cell_type": "code",
   "execution_count": 101,
   "metadata": {},
   "outputs": [
    {
     "data": {
      "image/png": "[encoded data removed]",
      "text/plain": [
       "Graphics object consisting of 2 graphics primitives"
      ]
     },
     "metadata": {},
     "output_type": "display_data"
    }
   ],
   "source": [
    "p = sage.plot.graphics.Graphics()\n",
    "for i in range(n_layers):   p += plot ( cos(k_values_d[i].rhs()* x), lambda_d/32, lambda_d/4)\n",
    "\n",
    "p.show()"
   ]
  },
  {
   "cell_type": "code",
   "execution_count": 102,
   "metadata": {
    "scrolled": true
   },
   "outputs": [
    {
     "data": {
      "text/html": [
       "<html><script type=\"math/tex; mode=display\">\\newcommand{\\Bold}[1]{\\mathbf{#1}}\\left[6.401944900718174 \\times 10^{-06}, \\left(4.07560470154422 \\times 10^{-6}\\right) \\, \\pi + 6.401944900718174 \\times 10^{-06}, \\left(8.15120940308844 \\times 10^{-6}\\right) \\, \\pi + 6.401944900718174 \\times 10^{-06}, 9.46107784453728 \\times 10^{-06}, \\left(6.02310922360187 \\times 10^{-6}\\right) \\, \\pi + 9.46107784453728 \\times 10^{-06}, 0.0000120462184472037 \\, \\pi + 9.46107784453728 \\times 10^{-06}\\right]</script></html>"
      ],
      "text/plain": [
       "[6.401944900718174e-06,\n",
       " (4.07560470154422e-6)*pi + 6.401944900718174e-06,\n",
       " (8.15120940308844e-6)*pi + 6.401944900718174e-06,\n",
       " 9.46107784453728e-06,\n",
       " (6.02310922360187e-6)*pi + 9.46107784453728e-06,\n",
       " 0.0000120462184472037*pi + 9.46107784453728e-06]"
      ]
     },
     "execution_count": 102,
     "metadata": {},
     "output_type": "execute_result"
    }
   ],
   "source": [
    "disp_eq_brakes"
   ]
  },
  {
   "cell_type": "code",
   "execution_count": 103,
   "metadata": {},
   "outputs": [],
   "source": [
    "disp_eq_brakes.sort()"
   ]
  },
  {
   "cell_type": "code",
   "execution_count": 104,
   "metadata": {
    "scrolled": true
   },
   "outputs": [
    {
     "data": {
      "text/latex": [
       "$$6.40194490071817 \\times 10^{-6}$$"
      ],
      "text/plain": [
       "<IPython.core.display.Math object>"
      ]
     },
     "metadata": {},
     "output_type": "display_data"
    },
    {
     "data": {
      "text/latex": [
       "$$9.46107784453728 \\times 10^{-6}$$"
      ],
      "text/plain": [
       "<IPython.core.display.Math object>"
      ]
     },
     "metadata": {},
     "output_type": "display_data"
    },
    {
     "data": {
      "text/latex": [
       "$$0.0000192058346900255$$"
      ],
      "text/plain": [
       "<IPython.core.display.Math object>"
      ]
     },
     "metadata": {},
     "output_type": "display_data"
    },
    {
     "data": {
      "text/latex": [
       "$$0.0000283832335331738$$"
      ],
      "text/plain": [
       "<IPython.core.display.Math object>"
      ]
     },
     "metadata": {},
     "output_type": "display_data"
    },
    {
     "data": {
      "text/latex": [
       "$$0.0000320097244793329$$"
      ],
      "text/plain": [
       "<IPython.core.display.Math object>"
      ]
     },
     "metadata": {},
     "output_type": "display_data"
    },
    {
     "data": {
      "text/latex": [
       "$$0.0000473053892218104$$"
      ],
      "text/plain": [
       "<IPython.core.display.Math object>"
      ]
     },
     "metadata": {},
     "output_type": "display_data"
    }
   ],
   "source": [
    "for i in range(len(disp_eq_brakes)):\n",
    "    display(Math(latex(disp_eq_brakes [i].n())))"
   ]
  },
  {
   "cell_type": "code",
   "execution_count": 105,
   "metadata": {},
   "outputs": [
    {
     "data": {
      "text/html": [
       "<html><script type=\"math/tex; mode=display\">\\newcommand{\\Bold}[1]{\\mathbf{#1}}-\\frac{5.91310402814251 \\, {\\left(-120757.355468890 \\, J_{1}(\\kappa \\rho) \\cos\\left(166027.206692757 \\, z\\right) + 99238.7718376256 \\, J_{1}(\\kappa \\rho) \\sin\\left(166027.206692757 \\, z\\right)\\right)} J_{0}(\\kappa \\rho)}{-0.490523195032213 \\, \\kappa \\cos\\left(166027.206692757 \\, z\\right) - 0.596886506467048 \\, \\kappa \\sin\\left(166027.206692757 \\, z\\right)} + \\frac{809484.743248195 \\, J_{1}(\\kappa \\rho) J_{0}(\\kappa \\rho) \\cos\\left(245362.362944843 \\, z\\right)}{\\kappa \\sin\\left(245362.362944843 \\, z\\right)}</script></html>"
      ],
      "text/plain": [
       "-5.91310402814251*(-120757.355468890*bessel_J(1, kappa*rho)*cos(166027.206692757*z) + 99238.7718376256*bessel_J(1, kappa*rho)*sin(166027.206692757*z))*bessel_J(0, kappa*rho)/(-0.490523195032213*kappa*cos(166027.206692757*z) - 0.596886506467048*kappa*sin(166027.206692757*z)) + 809484.743248195*bessel_J(1, kappa*rho)*bessel_J(0, kappa*rho)*cos(245362.362944843*z)/(kappa*sin(245362.362944843*z))"
      ]
     },
     "execution_count": 105,
     "metadata": {},
     "output_type": "execute_result"
    }
   ],
   "source": [
    "disp_eq_s.lhs ().subs(h  == disp_eq_brakes [0] + lambda_d/64)"
   ]
  },
  {
   "cell_type": "code",
   "execution_count": 106,
   "metadata": {},
   "outputs": [
    {
     "ename": "ValueError",
     "evalue": "Variable 'kappa' not found",
     "output_type": "error",
     "traceback": [
      "\u001b[0;31m---------------------------------------------------------------------------\u001b[0m",
      "\u001b[0;31mValueError\u001b[0m                                Traceback (most recent call last)",
      "\u001b[0;32m/opt/sagemath-9.0/local/lib/python3.7/site-packages/sage/ext/fast_callable.pyx\u001b[0m in \u001b[0;36msage.ext.fast_callable.ExpressionTreeBuilder.var (build/cythonized/sage/ext/fast_callable.c:6758)\u001b[0;34m()\u001b[0m\n\u001b[1;32m    725\u001b[0m         \u001b[0;32mtry\u001b[0m\u001b[0;34m:\u001b[0m\u001b[0;34m\u001b[0m\u001b[0;34m\u001b[0m\u001b[0m\n\u001b[0;32m--> 726\u001b[0;31m             \u001b[0mind\u001b[0m \u001b[0;34m=\u001b[0m \u001b[0mself\u001b[0m\u001b[0;34m.\u001b[0m\u001b[0m_vars\u001b[0m\u001b[0;34m.\u001b[0m\u001b[0mindex\u001b[0m\u001b[0;34m(\u001b[0m\u001b[0mvar_name\u001b[0m\u001b[0;34m)\u001b[0m\u001b[0;34m\u001b[0m\u001b[0;34m\u001b[0m\u001b[0m\n\u001b[0m\u001b[1;32m    727\u001b[0m         \u001b[0;32mexcept\u001b[0m \u001b[0mValueError\u001b[0m\u001b[0;34m:\u001b[0m\u001b[0;34m\u001b[0m\u001b[0;34m\u001b[0m\u001b[0m\n",
      "\u001b[0;31mValueError\u001b[0m: 'kappa' is not in list",
      "\nDuring handling of the above exception, another exception occurred:\n",
      "\u001b[0;31mValueError\u001b[0m                                Traceback (most recent call last)",
      "\u001b[0;32m<ipython-input-106-fd927a6da8fb>\u001b[0m in \u001b[0;36m<module>\u001b[0;34m()\u001b[0m\n\u001b[1;32m      2\u001b[0m \u001b[0mylim\u001b[0m \u001b[0;34m=\u001b[0m \u001b[0mInteger\u001b[0m\u001b[0;34m(\u001b[0m\u001b[0;36m100000\u001b[0m\u001b[0;34m)\u001b[0m\u001b[0;34m*\u001b[0m\u001b[0mInteger\u001b[0m\u001b[0;34m(\u001b[0m\u001b[0;36m5\u001b[0m\u001b[0;34m)\u001b[0m\u001b[0;34m\u001b[0m\u001b[0;34m\u001b[0m\u001b[0m\n\u001b[1;32m      3\u001b[0m \u001b[0mxeps\u001b[0m \u001b[0;34m=\u001b[0m \u001b[0mlambda_d\u001b[0m\u001b[0;34m/\u001b[0m\u001b[0mInteger\u001b[0m\u001b[0;34m(\u001b[0m\u001b[0;36m1024\u001b[0m\u001b[0;34m)\u001b[0m\u001b[0;34m\u001b[0m\u001b[0;34m\u001b[0m\u001b[0m\n\u001b[0;32m----> 4\u001b[0;31m \u001b[0mp\u001b[0m \u001b[0;34m+=\u001b[0m \u001b[0mplot\u001b[0m\u001b[0;34m(\u001b[0m\u001b[0mdisp_eq_s\u001b[0m\u001b[0;34m.\u001b[0m\u001b[0mlhs\u001b[0m\u001b[0;34m(\u001b[0m\u001b[0;34m)\u001b[0m\u001b[0;34m,\u001b[0m \u001b[0mxeps\u001b[0m\u001b[0;34m,\u001b[0m \u001b[0mdisp_eq_brakes\u001b[0m\u001b[0;34m[\u001b[0m\u001b[0mInteger\u001b[0m\u001b[0;34m(\u001b[0m\u001b[0;36m0\u001b[0m\u001b[0;34m)\u001b[0m\u001b[0;34m]\u001b[0m\u001b[0;34m)\u001b[0m\u001b[0;34m\u001b[0m\u001b[0;34m\u001b[0m\u001b[0m\n\u001b[0m\u001b[1;32m      5\u001b[0m \u001b[0;32mfor\u001b[0m \u001b[0mi\u001b[0m \u001b[0;32min\u001b[0m \u001b[0mrange\u001b[0m\u001b[0;34m(\u001b[0m\u001b[0mlen\u001b[0m\u001b[0;34m(\u001b[0m\u001b[0mdisp_eq_brakes\u001b[0m\u001b[0;34m)\u001b[0m\u001b[0;34m-\u001b[0m\u001b[0mInteger\u001b[0m\u001b[0;34m(\u001b[0m\u001b[0;36m1\u001b[0m\u001b[0;34m)\u001b[0m\u001b[0;34m)\u001b[0m\u001b[0;34m:\u001b[0m   \u001b[0mp\u001b[0m \u001b[0;34m+=\u001b[0m \u001b[0mplot\u001b[0m \u001b[0;34m(\u001b[0m\u001b[0mdisp_eq_s\u001b[0m\u001b[0;34m.\u001b[0m\u001b[0mlhs\u001b[0m\u001b[0;34m(\u001b[0m\u001b[0;34m)\u001b[0m\u001b[0;34m,\u001b[0m \u001b[0mdisp_eq_brakes\u001b[0m\u001b[0;34m[\u001b[0m\u001b[0mi\u001b[0m\u001b[0;34m]\u001b[0m \u001b[0;34m+\u001b[0m \u001b[0mxeps\u001b[0m\u001b[0;34m,\u001b[0m \u001b[0mdisp_eq_brakes\u001b[0m\u001b[0;34m[\u001b[0m\u001b[0mi\u001b[0m\u001b[0;34m+\u001b[0m\u001b[0mInteger\u001b[0m\u001b[0;34m(\u001b[0m\u001b[0;36m1\u001b[0m\u001b[0;34m)\u001b[0m\u001b[0;34m]\u001b[0m \u001b[0;34m-\u001b[0m \u001b[0mxeps\u001b[0m\u001b[0;34m,\u001b[0m \u001b[0mymin\u001b[0m \u001b[0;34m=\u001b[0m \u001b[0;34m-\u001b[0m\u001b[0mylim\u001b[0m\u001b[0;34m,\u001b[0m \u001b[0mymax\u001b[0m \u001b[0;34m=\u001b[0m \u001b[0mylim\u001b[0m\u001b[0;34m)\u001b[0m\u001b[0;34m\u001b[0m\u001b[0;34m\u001b[0m\u001b[0m\n\u001b[1;32m      6\u001b[0m \u001b[0;34m\u001b[0m\u001b[0m\n",
      "\u001b[0;32m/opt/sagemath-9.0/local/lib/python3.7/site-packages/sage/misc/decorators.py\u001b[0m in \u001b[0;36mwrapper\u001b[0;34m(*args, **kwds)\u001b[0m\n\u001b[1;32m    491\u001b[0m                 \u001b[0moptions\u001b[0m\u001b[0;34m[\u001b[0m\u001b[0;34m'__original_opts'\u001b[0m\u001b[0;34m]\u001b[0m \u001b[0;34m=\u001b[0m \u001b[0mkwds\u001b[0m\u001b[0;34m\u001b[0m\u001b[0;34m\u001b[0m\u001b[0m\n\u001b[1;32m    492\u001b[0m             \u001b[0moptions\u001b[0m\u001b[0;34m.\u001b[0m\u001b[0mupdate\u001b[0m\u001b[0;34m(\u001b[0m\u001b[0mkwds\u001b[0m\u001b[0;34m)\u001b[0m\u001b[0;34m\u001b[0m\u001b[0;34m\u001b[0m\u001b[0m\n\u001b[0;32m--> 493\u001b[0;31m             \u001b[0;32mreturn\u001b[0m \u001b[0mfunc\u001b[0m\u001b[0;34m(\u001b[0m\u001b[0;34m*\u001b[0m\u001b[0margs\u001b[0m\u001b[0;34m,\u001b[0m \u001b[0;34m**\u001b[0m\u001b[0moptions\u001b[0m\u001b[0;34m)\u001b[0m\u001b[0;34m\u001b[0m\u001b[0;34m\u001b[0m\u001b[0m\n\u001b[0m\u001b[1;32m    494\u001b[0m \u001b[0;34m\u001b[0m\u001b[0m\n\u001b[1;32m    495\u001b[0m         \u001b[0;31m#Add the options specified by @options to the signature of the wrapped\u001b[0m\u001b[0;34m\u001b[0m\u001b[0;34m\u001b[0m\u001b[0;34m\u001b[0m\u001b[0m\n",
      "\u001b[0;32m/opt/sagemath-9.0/local/lib/python3.7/site-packages/sage/plot/plot.py\u001b[0m in \u001b[0;36mplot\u001b[0;34m(funcs, *args, **kwds)\u001b[0m\n\u001b[1;32m   1958\u001b[0m \u001b[0;34m\u001b[0m\u001b[0m\n\u001b[1;32m   1959\u001b[0m     \u001b[0;32mif\u001b[0m \u001b[0mhasattr\u001b[0m\u001b[0;34m(\u001b[0m\u001b[0mfuncs\u001b[0m\u001b[0;34m,\u001b[0m \u001b[0;34m'plot'\u001b[0m\u001b[0;34m)\u001b[0m\u001b[0;34m:\u001b[0m\u001b[0;34m\u001b[0m\u001b[0;34m\u001b[0m\u001b[0m\n\u001b[0;32m-> 1960\u001b[0;31m         \u001b[0mG\u001b[0m \u001b[0;34m=\u001b[0m \u001b[0mfuncs\u001b[0m\u001b[0;34m.\u001b[0m\u001b[0mplot\u001b[0m\u001b[0;34m(\u001b[0m\u001b[0;34m*\u001b[0m\u001b[0margs\u001b[0m\u001b[0;34m,\u001b[0m \u001b[0;34m**\u001b[0m\u001b[0moriginal_opts\u001b[0m\u001b[0;34m)\u001b[0m\u001b[0;34m\u001b[0m\u001b[0;34m\u001b[0m\u001b[0m\n\u001b[0m\u001b[1;32m   1961\u001b[0m \u001b[0;34m\u001b[0m\u001b[0m\n\u001b[1;32m   1962\u001b[0m         \u001b[0;31m# If we have extra keywords already set, then update them\u001b[0m\u001b[0;34m\u001b[0m\u001b[0;34m\u001b[0m\u001b[0;34m\u001b[0m\u001b[0m\n",
      "\u001b[0;32m/opt/sagemath-9.0/local/lib/python3.7/site-packages/sage/symbolic/expression.pyx\u001b[0m in \u001b[0;36msage.symbolic.expression.Expression.plot (build/cythonized/sage/symbolic/expression.cpp:63411)\u001b[0;34m()\u001b[0m\n\u001b[1;32m  12047\u001b[0m                     \u001b[0mf\u001b[0m \u001b[0;34m=\u001b[0m \u001b[0mself\u001b[0m\u001b[0;34m.\u001b[0m\u001b[0m_plot_fast_callable\u001b[0m\u001b[0;34m(\u001b[0m\u001b[0;34m)\u001b[0m\u001b[0;34m\u001b[0m\u001b[0;34m\u001b[0m\u001b[0m\n\u001b[1;32m  12048\u001b[0m                 \u001b[0;32melse\u001b[0m\u001b[0;34m:\u001b[0m\u001b[0;34m\u001b[0m\u001b[0;34m\u001b[0m\u001b[0m\n\u001b[0;32m> 12049\u001b[0;31m                     \u001b[0mparam\u001b[0m \u001b[0;34m=\u001b[0m \u001b[0mA\u001b[0m\u001b[0;34m[\u001b[0m\u001b[0;36m0\u001b[0m\u001b[0;34m]\u001b[0m\u001b[0;34m\u001b[0m\u001b[0;34m\u001b[0m\u001b[0m\n\u001b[0m\u001b[1;32m  12050\u001b[0m                     \u001b[0;32mtry\u001b[0m\u001b[0;34m:\u001b[0m\u001b[0;34m\u001b[0m\u001b[0;34m\u001b[0m\u001b[0m\n\u001b[1;32m  12051\u001b[0m                         \u001b[0mf\u001b[0m \u001b[0;34m=\u001b[0m \u001b[0mself\u001b[0m\u001b[0;34m.\u001b[0m\u001b[0m_plot_fast_callable\u001b[0m\u001b[0;34m(\u001b[0m\u001b[0mparam\u001b[0m\u001b[0;34m)\u001b[0m\u001b[0;34m\u001b[0m\u001b[0;34m\u001b[0m\u001b[0m\n",
      "\u001b[0;32m/opt/sagemath-9.0/local/lib/python3.7/site-packages/sage/symbolic/expression.pyx\u001b[0m in \u001b[0;36msage.symbolic.expression.Expression._plot_fast_callable (build/cythonized/sage/symbolic/expression.cpp:63790)\u001b[0;34m()\u001b[0m\n\u001b[1;32m  12093\u001b[0m             \u001b[0msage\u001b[0m\u001b[0;34m:\u001b[0m \u001b[0mplot\u001b[0m\u001b[0;34m(\u001b[0m\u001b[0mabs\u001b[0m\u001b[0;34m(\u001b[0m\u001b[0mf\u001b[0m\u001b[0;34m(\u001b[0m\u001b[0mx\u001b[0m\u001b[0;34m)\u001b[0m\u001b[0;34m)\u001b[0m\u001b[0;34m,\u001b[0m \u001b[0;36m0\u001b[0m\u001b[0;34m,\u001b[0m\u001b[0;36m5\u001b[0m\u001b[0;34m)\u001b[0m\u001b[0;34m\u001b[0m\u001b[0;34m\u001b[0m\u001b[0m\n\u001b[1;32m  12094\u001b[0m             \u001b[0mGraphics\u001b[0m \u001b[0mobject\u001b[0m \u001b[0mconsisting\u001b[0m \u001b[0mof\u001b[0m \u001b[0;36m1\u001b[0m \u001b[0mgraphics\u001b[0m \u001b[0mprimitive\u001b[0m\u001b[0;34m\u001b[0m\u001b[0;34m\u001b[0m\u001b[0m\n\u001b[0;32m> 12095\u001b[0;31m         \"\"\"\n\u001b[0m\u001b[1;32m  12096\u001b[0m         \u001b[0;32mfrom\u001b[0m \u001b[0msage\u001b[0m\u001b[0;34m.\u001b[0m\u001b[0mext\u001b[0m\u001b[0;34m.\u001b[0m\u001b[0mfast_callable\u001b[0m \u001b[0;32mimport\u001b[0m \u001b[0mfast_callable\u001b[0m\u001b[0;34m\u001b[0m\u001b[0;34m\u001b[0m\u001b[0m\n\u001b[1;32m  12097\u001b[0m         \u001b[0;32mreturn\u001b[0m \u001b[0mfast_callable\u001b[0m\u001b[0;34m(\u001b[0m\u001b[0mself\u001b[0m\u001b[0;34m,\u001b[0m \u001b[0mvars\u001b[0m\u001b[0;34m=\u001b[0m\u001b[0mvars\u001b[0m\u001b[0;34m,\u001b[0m \u001b[0mexpect_one_var\u001b[0m\u001b[0;34m=\u001b[0m\u001b[0;32mTrue\u001b[0m\u001b[0;34m)\u001b[0m\u001b[0;34m\u001b[0m\u001b[0;34m\u001b[0m\u001b[0m\n",
      "\u001b[0;32m/opt/sagemath-9.0/local/lib/python3.7/site-packages/sage/ext/fast_callable.pyx\u001b[0m in \u001b[0;36msage.ext.fast_callable.fast_callable (build/cythonized/sage/ext/fast_callable.c:4749)\u001b[0;34m()\u001b[0m\n\u001b[1;32m    493\u001b[0m \u001b[0;34m\u001b[0m\u001b[0m\n\u001b[1;32m    494\u001b[0m         \u001b[0metb\u001b[0m \u001b[0;34m=\u001b[0m \u001b[0mExpressionTreeBuilder\u001b[0m\u001b[0;34m(\u001b[0m\u001b[0mvars\u001b[0m\u001b[0;34m=\u001b[0m\u001b[0mvars\u001b[0m\u001b[0;34m,\u001b[0m \u001b[0mdomain\u001b[0m\u001b[0;34m=\u001b[0m\u001b[0mdomain\u001b[0m\u001b[0;34m)\u001b[0m\u001b[0;34m\u001b[0m\u001b[0;34m\u001b[0m\u001b[0m\n\u001b[0;32m--> 495\u001b[0;31m         \u001b[0met\u001b[0m \u001b[0;34m=\u001b[0m \u001b[0mx\u001b[0m\u001b[0;34m.\u001b[0m\u001b[0m_fast_callable_\u001b[0m\u001b[0;34m(\u001b[0m\u001b[0metb\u001b[0m\u001b[0;34m)\u001b[0m\u001b[0;34m\u001b[0m\u001b[0;34m\u001b[0m\u001b[0m\n\u001b[0m\u001b[1;32m    496\u001b[0m \u001b[0;34m\u001b[0m\u001b[0m\n\u001b[1;32m    497\u001b[0m     \u001b[0;32mif\u001b[0m \u001b[0misinstance\u001b[0m\u001b[0;34m(\u001b[0m\u001b[0mdomain\u001b[0m\u001b[0;34m,\u001b[0m \u001b[0mRealField_class\u001b[0m\u001b[0;34m)\u001b[0m\u001b[0;34m:\u001b[0m\u001b[0;34m\u001b[0m\u001b[0;34m\u001b[0m\u001b[0m\n",
      "\u001b[0;32m/opt/sagemath-9.0/local/lib/python3.7/site-packages/sage/symbolic/expression.pyx\u001b[0m in \u001b[0;36msage.symbolic.expression.Expression._fast_callable_ (build/cythonized/sage/symbolic/expression.cpp:62644)\u001b[0;34m()\u001b[0m\n\u001b[1;32m  11930\u001b[0m             \u001b[0msage\u001b[0m\u001b[0;34m:\u001b[0m \u001b[0mf\u001b[0m\u001b[0;34m.\u001b[0m\u001b[0m_fast_callable_\u001b[0m\u001b[0;34m(\u001b[0m\u001b[0metb\u001b[0m\u001b[0;34m)\u001b[0m\u001b[0;34m\u001b[0m\u001b[0;34m\u001b[0m\u001b[0m\n\u001b[1;32m  11931\u001b[0m             \u001b[0madd\u001b[0m\u001b[0;34m(\u001b[0m\u001b[0mmul\u001b[0m\u001b[0;34m(\u001b[0m\u001b[0mipow\u001b[0m\u001b[0;34m(\u001b[0m\u001b[0mv_0\u001b[0m\u001b[0;34m,\u001b[0m \u001b[0;36m2\u001b[0m\u001b[0;34m)\u001b[0m\u001b[0;34m,\u001b[0m \u001b[0;36m2\u001b[0m\u001b[0;34m)\u001b[0m\u001b[0;34m,\u001b[0m \u001b[0mv_1\u001b[0m\u001b[0;34m)\u001b[0m\u001b[0;34m\u001b[0m\u001b[0;34m\u001b[0m\u001b[0m\n\u001b[0;32m> 11932\u001b[0;31m         \"\"\"\n\u001b[0m\u001b[1;32m  11933\u001b[0m         \u001b[0;32mfrom\u001b[0m \u001b[0msage\u001b[0m\u001b[0;34m.\u001b[0m\u001b[0msymbolic\u001b[0m\u001b[0;34m.\u001b[0m\u001b[0mexpression_conversions\u001b[0m \u001b[0;32mimport\u001b[0m \u001b[0mfast_callable\u001b[0m\u001b[0;34m\u001b[0m\u001b[0;34m\u001b[0m\u001b[0m\n\u001b[1;32m  11934\u001b[0m         \u001b[0;32mreturn\u001b[0m \u001b[0mfast_callable\u001b[0m\u001b[0;34m(\u001b[0m\u001b[0mself\u001b[0m\u001b[0;34m,\u001b[0m \u001b[0metb\u001b[0m\u001b[0;34m)\u001b[0m\u001b[0;34m\u001b[0m\u001b[0;34m\u001b[0m\u001b[0m\n",
      "\u001b[0;32m/opt/sagemath-9.0/local/lib/python3.7/site-packages/sage/symbolic/expression_conversions.py\u001b[0m in \u001b[0;36mfast_callable\u001b[0;34m(ex, etb)\u001b[0m\n\u001b[1;32m   1880\u001b[0m \u001b[0;34m\u001b[0m\u001b[0m\n\u001b[1;32m   1881\u001b[0m     \"\"\"\n\u001b[0;32m-> 1882\u001b[0;31m     \u001b[0;32mreturn\u001b[0m \u001b[0mFastCallableConverter\u001b[0m\u001b[0;34m(\u001b[0m\u001b[0mex\u001b[0m\u001b[0;34m,\u001b[0m \u001b[0metb\u001b[0m\u001b[0;34m)\u001b[0m\u001b[0;34m(\u001b[0m\u001b[0;34m)\u001b[0m\u001b[0;34m\u001b[0m\u001b[0;34m\u001b[0m\u001b[0m\n\u001b[0m\u001b[1;32m   1883\u001b[0m \u001b[0;34m\u001b[0m\u001b[0m\n\u001b[1;32m   1884\u001b[0m \u001b[0;32mclass\u001b[0m \u001b[0mRingConverter\u001b[0m\u001b[0;34m(\u001b[0m\u001b[0mConverter\u001b[0m\u001b[0;34m)\u001b[0m\u001b[0;34m:\u001b[0m\u001b[0;34m\u001b[0m\u001b[0;34m\u001b[0m\u001b[0m\n",
      "\u001b[0;32m/opt/sagemath-9.0/local/lib/python3.7/site-packages/sage/symbolic/expression_conversions.py\u001b[0m in \u001b[0;36m__call__\u001b[0;34m(self, ex)\u001b[0m\n\u001b[1;32m    216\u001b[0m                 \u001b[0mdiv\u001b[0m \u001b[0;34m=\u001b[0m \u001b[0mself\u001b[0m\u001b[0;34m.\u001b[0m\u001b[0mget_fake_div\u001b[0m\u001b[0;34m(\u001b[0m\u001b[0mex\u001b[0m\u001b[0;34m)\u001b[0m\u001b[0;34m\u001b[0m\u001b[0;34m\u001b[0m\u001b[0m\n\u001b[1;32m    217\u001b[0m                 \u001b[0;32mreturn\u001b[0m \u001b[0mself\u001b[0m\u001b[0;34m.\u001b[0m\u001b[0marithmetic\u001b[0m\u001b[0;34m(\u001b[0m\u001b[0mdiv\u001b[0m\u001b[0;34m,\u001b[0m \u001b[0mdiv\u001b[0m\u001b[0;34m.\u001b[0m\u001b[0moperator\u001b[0m\u001b[0;34m(\u001b[0m\u001b[0;34m)\u001b[0m\u001b[0;34m)\u001b[0m\u001b[0;34m\u001b[0m\u001b[0;34m\u001b[0m\u001b[0m\n\u001b[0;32m--> 218\u001b[0;31m             \u001b[0;32mreturn\u001b[0m \u001b[0mself\u001b[0m\u001b[0;34m.\u001b[0m\u001b[0marithmetic\u001b[0m\u001b[0;34m(\u001b[0m\u001b[0mex\u001b[0m\u001b[0;34m,\u001b[0m \u001b[0moperator\u001b[0m\u001b[0;34m)\u001b[0m\u001b[0;34m\u001b[0m\u001b[0;34m\u001b[0m\u001b[0m\n\u001b[0m\u001b[1;32m    219\u001b[0m         \u001b[0;32melif\u001b[0m \u001b[0moperator\u001b[0m \u001b[0;32min\u001b[0m \u001b[0mrelation_operators\u001b[0m\u001b[0;34m:\u001b[0m\u001b[0;34m\u001b[0m\u001b[0;34m\u001b[0m\u001b[0m\n\u001b[1;32m    220\u001b[0m             \u001b[0;32mreturn\u001b[0m \u001b[0mself\u001b[0m\u001b[0;34m.\u001b[0m\u001b[0mrelation\u001b[0m\u001b[0;34m(\u001b[0m\u001b[0mex\u001b[0m\u001b[0;34m,\u001b[0m \u001b[0moperator\u001b[0m\u001b[0;34m)\u001b[0m\u001b[0;34m\u001b[0m\u001b[0;34m\u001b[0m\u001b[0m\n",
      "\u001b[0;32m/opt/sagemath-9.0/local/lib/python3.7/site-packages/sage/symbolic/expression_conversions.py\u001b[0m in \u001b[0;36marithmetic\u001b[0;34m(self, ex, operator)\u001b[0m\n\u001b[1;32m   1808\u001b[0m         \u001b[0;32melif\u001b[0m \u001b[0moperator\u001b[0m \u001b[0;34m==\u001b[0m \u001b[0mmul_vararg\u001b[0m\u001b[0;34m:\u001b[0m\u001b[0;34m\u001b[0m\u001b[0;34m\u001b[0m\u001b[0m\n\u001b[1;32m   1809\u001b[0m             \u001b[0moperator\u001b[0m \u001b[0;34m=\u001b[0m \u001b[0m_operator\u001b[0m\u001b[0;34m.\u001b[0m\u001b[0mmul\u001b[0m\u001b[0;34m\u001b[0m\u001b[0;34m\u001b[0m\u001b[0m\n\u001b[0;32m-> 1810\u001b[0;31m         \u001b[0;32mreturn\u001b[0m \u001b[0mreduce\u001b[0m\u001b[0;34m(\u001b[0m\u001b[0;32mlambda\u001b[0m \u001b[0mx\u001b[0m\u001b[0;34m,\u001b[0m\u001b[0my\u001b[0m\u001b[0;34m:\u001b[0m \u001b[0mself\u001b[0m\u001b[0;34m.\u001b[0m\u001b[0metb\u001b[0m\u001b[0;34m.\u001b[0m\u001b[0mcall\u001b[0m\u001b[0;34m(\u001b[0m\u001b[0moperator\u001b[0m\u001b[0;34m,\u001b[0m \u001b[0mx\u001b[0m\u001b[0;34m,\u001b[0m\u001b[0my\u001b[0m\u001b[0;34m)\u001b[0m\u001b[0;34m,\u001b[0m \u001b[0moperands\u001b[0m\u001b[0;34m)\u001b[0m\u001b[0;34m\u001b[0m\u001b[0;34m\u001b[0m\u001b[0m\n\u001b[0m\u001b[1;32m   1811\u001b[0m \u001b[0;34m\u001b[0m\u001b[0m\n\u001b[1;32m   1812\u001b[0m     \u001b[0;32mdef\u001b[0m \u001b[0msymbol\u001b[0m\u001b[0;34m(\u001b[0m\u001b[0mself\u001b[0m\u001b[0;34m,\u001b[0m \u001b[0mex\u001b[0m\u001b[0;34m)\u001b[0m\u001b[0;34m:\u001b[0m\u001b[0;34m\u001b[0m\u001b[0;34m\u001b[0m\u001b[0m\n",
      "\u001b[0;32m/opt/sagemath-9.0/local/lib/python3.7/site-packages/sage/symbolic/expression_conversions.py\u001b[0m in \u001b[0;36m<lambda>\u001b[0;34m(x, y)\u001b[0m\n\u001b[1;32m   1808\u001b[0m         \u001b[0;32melif\u001b[0m \u001b[0moperator\u001b[0m \u001b[0;34m==\u001b[0m \u001b[0mmul_vararg\u001b[0m\u001b[0;34m:\u001b[0m\u001b[0;34m\u001b[0m\u001b[0;34m\u001b[0m\u001b[0m\n\u001b[1;32m   1809\u001b[0m             \u001b[0moperator\u001b[0m \u001b[0;34m=\u001b[0m \u001b[0m_operator\u001b[0m\u001b[0;34m.\u001b[0m\u001b[0mmul\u001b[0m\u001b[0;34m\u001b[0m\u001b[0;34m\u001b[0m\u001b[0m\n\u001b[0;32m-> 1810\u001b[0;31m         \u001b[0;32mreturn\u001b[0m \u001b[0mreduce\u001b[0m\u001b[0;34m(\u001b[0m\u001b[0;32mlambda\u001b[0m \u001b[0mx\u001b[0m\u001b[0;34m,\u001b[0m\u001b[0my\u001b[0m\u001b[0;34m:\u001b[0m \u001b[0mself\u001b[0m\u001b[0;34m.\u001b[0m\u001b[0metb\u001b[0m\u001b[0;34m.\u001b[0m\u001b[0mcall\u001b[0m\u001b[0;34m(\u001b[0m\u001b[0moperator\u001b[0m\u001b[0;34m,\u001b[0m \u001b[0mx\u001b[0m\u001b[0;34m,\u001b[0m\u001b[0my\u001b[0m\u001b[0;34m)\u001b[0m\u001b[0;34m,\u001b[0m \u001b[0moperands\u001b[0m\u001b[0;34m)\u001b[0m\u001b[0;34m\u001b[0m\u001b[0;34m\u001b[0m\u001b[0m\n\u001b[0m\u001b[1;32m   1811\u001b[0m \u001b[0;34m\u001b[0m\u001b[0m\n\u001b[1;32m   1812\u001b[0m     \u001b[0;32mdef\u001b[0m \u001b[0msymbol\u001b[0m\u001b[0;34m(\u001b[0m\u001b[0mself\u001b[0m\u001b[0;34m,\u001b[0m \u001b[0mex\u001b[0m\u001b[0;34m)\u001b[0m\u001b[0;34m:\u001b[0m\u001b[0;34m\u001b[0m\u001b[0;34m\u001b[0m\u001b[0m\n",
      "\u001b[0;32m/opt/sagemath-9.0/local/lib/python3.7/site-packages/sage/ext/fast_callable.pyx\u001b[0m in \u001b[0;36msage.ext.fast_callable.ExpressionTreeBuilder.call (build/cythonized/sage/ext/fast_callable.c:7214)\u001b[0;34m()\u001b[0m\n\u001b[1;32m    780\u001b[0m             \u001b[0;32mreturn\u001b[0m \u001b[0mself\u001b[0m\u001b[0;34m(\u001b[0m\u001b[0mbase\u001b[0m\u001b[0;34m)\u001b[0m\u001b[0;34m**\u001b[0m\u001b[0mexponent\u001b[0m\u001b[0;34m\u001b[0m\u001b[0;34m\u001b[0m\u001b[0m\n\u001b[1;32m    781\u001b[0m         \u001b[0;32melse\u001b[0m\u001b[0;34m:\u001b[0m\u001b[0;34m\u001b[0m\u001b[0;34m\u001b[0m\u001b[0m\n\u001b[0;32m--> 782\u001b[0;31m             \u001b[0;32mreturn\u001b[0m \u001b[0mExpressionCall\u001b[0m\u001b[0;34m(\u001b[0m\u001b[0mself\u001b[0m\u001b[0;34m,\u001b[0m \u001b[0mfn\u001b[0m\u001b[0;34m,\u001b[0m \u001b[0;34m[\u001b[0m\u001b[0mself\u001b[0m\u001b[0;34m(\u001b[0m\u001b[0ma\u001b[0m\u001b[0;34m)\u001b[0m \u001b[0;32mfor\u001b[0m \u001b[0ma\u001b[0m \u001b[0;32min\u001b[0m \u001b[0margs\u001b[0m\u001b[0;34m]\u001b[0m\u001b[0;34m)\u001b[0m\u001b[0;34m\u001b[0m\u001b[0;34m\u001b[0m\u001b[0m\n\u001b[0m\u001b[1;32m    783\u001b[0m \u001b[0;34m\u001b[0m\u001b[0m\n\u001b[1;32m    784\u001b[0m     \u001b[0;32mdef\u001b[0m \u001b[0mchoice\u001b[0m\u001b[0;34m(\u001b[0m\u001b[0mself\u001b[0m\u001b[0;34m,\u001b[0m \u001b[0mcond\u001b[0m\u001b[0;34m,\u001b[0m \u001b[0miftrue\u001b[0m\u001b[0;34m,\u001b[0m \u001b[0miffalse\u001b[0m\u001b[0;34m)\u001b[0m\u001b[0;34m:\u001b[0m\u001b[0;34m\u001b[0m\u001b[0;34m\u001b[0m\u001b[0m\n",
      "\u001b[0;32m/opt/sagemath-9.0/local/lib/python3.7/site-packages/sage/ext/fast_callable.pyx\u001b[0m in \u001b[0;36msage.ext.fast_callable.ExpressionTreeBuilder.__call__ (build/cythonized/sage/ext/fast_callable.c:6348)\u001b[0;34m()\u001b[0m\n\u001b[1;32m    654\u001b[0m             \u001b[0;32mreturn\u001b[0m \u001b[0mself\u001b[0m\u001b[0;34m.\u001b[0m\u001b[0mconstant\u001b[0m\u001b[0;34m(\u001b[0m\u001b[0mx\u001b[0m\u001b[0;34m)\u001b[0m\u001b[0;34m\u001b[0m\u001b[0;34m\u001b[0m\u001b[0m\n\u001b[1;32m    655\u001b[0m \u001b[0;34m\u001b[0m\u001b[0m\n\u001b[0;32m--> 656\u001b[0;31m         \u001b[0;32mreturn\u001b[0m \u001b[0mfc\u001b[0m\u001b[0;34m(\u001b[0m\u001b[0mself\u001b[0m\u001b[0;34m)\u001b[0m\u001b[0;34m\u001b[0m\u001b[0;34m\u001b[0m\u001b[0m\n\u001b[0m\u001b[1;32m    657\u001b[0m \u001b[0;34m\u001b[0m\u001b[0m\n\u001b[1;32m    658\u001b[0m     \u001b[0;32mdef\u001b[0m \u001b[0m_clean_var\u001b[0m\u001b[0;34m(\u001b[0m\u001b[0mself\u001b[0m\u001b[0;34m,\u001b[0m \u001b[0mv\u001b[0m\u001b[0;34m)\u001b[0m\u001b[0;34m:\u001b[0m\u001b[0;34m\u001b[0m\u001b[0;34m\u001b[0m\u001b[0m\n",
      "\u001b[0;32m/opt/sagemath-9.0/local/lib/python3.7/site-packages/sage/symbolic/expression.pyx\u001b[0m in \u001b[0;36msage.symbolic.expression.Expression._fast_callable_ (build/cythonized/sage/symbolic/expression.cpp:62644)\u001b[0;34m()\u001b[0m\n\u001b[1;32m  11930\u001b[0m             \u001b[0msage\u001b[0m\u001b[0;34m:\u001b[0m \u001b[0mf\u001b[0m\u001b[0;34m.\u001b[0m\u001b[0m_fast_callable_\u001b[0m\u001b[0;34m(\u001b[0m\u001b[0metb\u001b[0m\u001b[0;34m)\u001b[0m\u001b[0;34m\u001b[0m\u001b[0;34m\u001b[0m\u001b[0m\n\u001b[1;32m  11931\u001b[0m             \u001b[0madd\u001b[0m\u001b[0;34m(\u001b[0m\u001b[0mmul\u001b[0m\u001b[0;34m(\u001b[0m\u001b[0mipow\u001b[0m\u001b[0;34m(\u001b[0m\u001b[0mv_0\u001b[0m\u001b[0;34m,\u001b[0m \u001b[0;36m2\u001b[0m\u001b[0;34m)\u001b[0m\u001b[0;34m,\u001b[0m \u001b[0;36m2\u001b[0m\u001b[0;34m)\u001b[0m\u001b[0;34m,\u001b[0m \u001b[0mv_1\u001b[0m\u001b[0;34m)\u001b[0m\u001b[0;34m\u001b[0m\u001b[0;34m\u001b[0m\u001b[0m\n\u001b[0;32m> 11932\u001b[0;31m         \"\"\"\n\u001b[0m\u001b[1;32m  11933\u001b[0m         \u001b[0;32mfrom\u001b[0m \u001b[0msage\u001b[0m\u001b[0;34m.\u001b[0m\u001b[0msymbolic\u001b[0m\u001b[0;34m.\u001b[0m\u001b[0mexpression_conversions\u001b[0m \u001b[0;32mimport\u001b[0m \u001b[0mfast_callable\u001b[0m\u001b[0;34m\u001b[0m\u001b[0;34m\u001b[0m\u001b[0m\n\u001b[1;32m  11934\u001b[0m         \u001b[0;32mreturn\u001b[0m \u001b[0mfast_callable\u001b[0m\u001b[0;34m(\u001b[0m\u001b[0mself\u001b[0m\u001b[0;34m,\u001b[0m \u001b[0metb\u001b[0m\u001b[0;34m)\u001b[0m\u001b[0;34m\u001b[0m\u001b[0;34m\u001b[0m\u001b[0m\n",
      "\u001b[0;32m/opt/sagemath-9.0/local/lib/python3.7/site-packages/sage/symbolic/expression_conversions.py\u001b[0m in \u001b[0;36mfast_callable\u001b[0;34m(ex, etb)\u001b[0m\n\u001b[1;32m   1880\u001b[0m \u001b[0;34m\u001b[0m\u001b[0m\n\u001b[1;32m   1881\u001b[0m     \"\"\"\n\u001b[0;32m-> 1882\u001b[0;31m     \u001b[0;32mreturn\u001b[0m \u001b[0mFastCallableConverter\u001b[0m\u001b[0;34m(\u001b[0m\u001b[0mex\u001b[0m\u001b[0;34m,\u001b[0m \u001b[0metb\u001b[0m\u001b[0;34m)\u001b[0m\u001b[0;34m(\u001b[0m\u001b[0;34m)\u001b[0m\u001b[0;34m\u001b[0m\u001b[0;34m\u001b[0m\u001b[0m\n\u001b[0m\u001b[1;32m   1883\u001b[0m \u001b[0;34m\u001b[0m\u001b[0m\n\u001b[1;32m   1884\u001b[0m \u001b[0;32mclass\u001b[0m \u001b[0mRingConverter\u001b[0m\u001b[0;34m(\u001b[0m\u001b[0mConverter\u001b[0m\u001b[0;34m)\u001b[0m\u001b[0;34m:\u001b[0m\u001b[0;34m\u001b[0m\u001b[0;34m\u001b[0m\u001b[0m\n",
      "\u001b[0;32m/opt/sagemath-9.0/local/lib/python3.7/site-packages/sage/symbolic/expression_conversions.py\u001b[0m in \u001b[0;36m__call__\u001b[0;34m(self, ex)\u001b[0m\n\u001b[1;32m    215\u001b[0m             \u001b[0;32mif\u001b[0m \u001b[0mgetattr\u001b[0m\u001b[0;34m(\u001b[0m\u001b[0mself\u001b[0m\u001b[0;34m,\u001b[0m \u001b[0;34m'use_fake_div'\u001b[0m\u001b[0;34m,\u001b[0m \u001b[0;32mFalse\u001b[0m\u001b[0;34m)\u001b[0m \u001b[0;32mand\u001b[0m \u001b[0;34m(\u001b[0m\u001b[0moperator\u001b[0m \u001b[0;32mis\u001b[0m \u001b[0m_operator\u001b[0m\u001b[0;34m.\u001b[0m\u001b[0mmul\u001b[0m \u001b[0;32mor\u001b[0m \u001b[0moperator\u001b[0m \u001b[0;32mis\u001b[0m \u001b[0mmul_vararg\u001b[0m\u001b[0;34m)\u001b[0m\u001b[0;34m:\u001b[0m\u001b[0;34m\u001b[0m\u001b[0;34m\u001b[0m\u001b[0m\n\u001b[1;32m    216\u001b[0m                 \u001b[0mdiv\u001b[0m \u001b[0;34m=\u001b[0m \u001b[0mself\u001b[0m\u001b[0;34m.\u001b[0m\u001b[0mget_fake_div\u001b[0m\u001b[0;34m(\u001b[0m\u001b[0mex\u001b[0m\u001b[0;34m)\u001b[0m\u001b[0;34m\u001b[0m\u001b[0;34m\u001b[0m\u001b[0m\n\u001b[0;32m--> 217\u001b[0;31m                 \u001b[0;32mreturn\u001b[0m \u001b[0mself\u001b[0m\u001b[0;34m.\u001b[0m\u001b[0marithmetic\u001b[0m\u001b[0;34m(\u001b[0m\u001b[0mdiv\u001b[0m\u001b[0;34m,\u001b[0m \u001b[0mdiv\u001b[0m\u001b[0;34m.\u001b[0m\u001b[0moperator\u001b[0m\u001b[0;34m(\u001b[0m\u001b[0;34m)\u001b[0m\u001b[0;34m)\u001b[0m\u001b[0;34m\u001b[0m\u001b[0;34m\u001b[0m\u001b[0m\n\u001b[0m\u001b[1;32m    218\u001b[0m             \u001b[0;32mreturn\u001b[0m \u001b[0mself\u001b[0m\u001b[0;34m.\u001b[0m\u001b[0marithmetic\u001b[0m\u001b[0;34m(\u001b[0m\u001b[0mex\u001b[0m\u001b[0;34m,\u001b[0m \u001b[0moperator\u001b[0m\u001b[0;34m)\u001b[0m\u001b[0;34m\u001b[0m\u001b[0;34m\u001b[0m\u001b[0m\n\u001b[1;32m    219\u001b[0m         \u001b[0;32melif\u001b[0m \u001b[0moperator\u001b[0m \u001b[0;32min\u001b[0m \u001b[0mrelation_operators\u001b[0m\u001b[0;34m:\u001b[0m\u001b[0;34m\u001b[0m\u001b[0;34m\u001b[0m\u001b[0m\n",
      "\u001b[0;32m/opt/sagemath-9.0/local/lib/python3.7/site-packages/sage/symbolic/expression_conversions.py\u001b[0m in \u001b[0;36marithmetic\u001b[0;34m(self, ex, operator)\u001b[0m\n\u001b[1;32m   1808\u001b[0m         \u001b[0;32melif\u001b[0m \u001b[0moperator\u001b[0m \u001b[0;34m==\u001b[0m \u001b[0mmul_vararg\u001b[0m\u001b[0;34m:\u001b[0m\u001b[0;34m\u001b[0m\u001b[0;34m\u001b[0m\u001b[0m\n\u001b[1;32m   1809\u001b[0m             \u001b[0moperator\u001b[0m \u001b[0;34m=\u001b[0m \u001b[0m_operator\u001b[0m\u001b[0;34m.\u001b[0m\u001b[0mmul\u001b[0m\u001b[0;34m\u001b[0m\u001b[0;34m\u001b[0m\u001b[0m\n\u001b[0;32m-> 1810\u001b[0;31m         \u001b[0;32mreturn\u001b[0m \u001b[0mreduce\u001b[0m\u001b[0;34m(\u001b[0m\u001b[0;32mlambda\u001b[0m \u001b[0mx\u001b[0m\u001b[0;34m,\u001b[0m\u001b[0my\u001b[0m\u001b[0;34m:\u001b[0m \u001b[0mself\u001b[0m\u001b[0;34m.\u001b[0m\u001b[0metb\u001b[0m\u001b[0;34m.\u001b[0m\u001b[0mcall\u001b[0m\u001b[0;34m(\u001b[0m\u001b[0moperator\u001b[0m\u001b[0;34m,\u001b[0m \u001b[0mx\u001b[0m\u001b[0;34m,\u001b[0m\u001b[0my\u001b[0m\u001b[0;34m)\u001b[0m\u001b[0;34m,\u001b[0m \u001b[0moperands\u001b[0m\u001b[0;34m)\u001b[0m\u001b[0;34m\u001b[0m\u001b[0;34m\u001b[0m\u001b[0m\n\u001b[0m\u001b[1;32m   1811\u001b[0m \u001b[0;34m\u001b[0m\u001b[0m\n\u001b[1;32m   1812\u001b[0m     \u001b[0;32mdef\u001b[0m \u001b[0msymbol\u001b[0m\u001b[0;34m(\u001b[0m\u001b[0mself\u001b[0m\u001b[0;34m,\u001b[0m \u001b[0mex\u001b[0m\u001b[0;34m)\u001b[0m\u001b[0;34m:\u001b[0m\u001b[0;34m\u001b[0m\u001b[0;34m\u001b[0m\u001b[0m\n",
      "\u001b[0;32m/opt/sagemath-9.0/local/lib/python3.7/site-packages/sage/symbolic/expression_conversions.py\u001b[0m in \u001b[0;36m<lambda>\u001b[0;34m(x, y)\u001b[0m\n\u001b[1;32m   1808\u001b[0m         \u001b[0;32melif\u001b[0m \u001b[0moperator\u001b[0m \u001b[0;34m==\u001b[0m \u001b[0mmul_vararg\u001b[0m\u001b[0;34m:\u001b[0m\u001b[0;34m\u001b[0m\u001b[0;34m\u001b[0m\u001b[0m\n\u001b[1;32m   1809\u001b[0m             \u001b[0moperator\u001b[0m \u001b[0;34m=\u001b[0m \u001b[0m_operator\u001b[0m\u001b[0;34m.\u001b[0m\u001b[0mmul\u001b[0m\u001b[0;34m\u001b[0m\u001b[0;34m\u001b[0m\u001b[0m\n\u001b[0;32m-> 1810\u001b[0;31m         \u001b[0;32mreturn\u001b[0m \u001b[0mreduce\u001b[0m\u001b[0;34m(\u001b[0m\u001b[0;32mlambda\u001b[0m \u001b[0mx\u001b[0m\u001b[0;34m,\u001b[0m\u001b[0my\u001b[0m\u001b[0;34m:\u001b[0m \u001b[0mself\u001b[0m\u001b[0;34m.\u001b[0m\u001b[0metb\u001b[0m\u001b[0;34m.\u001b[0m\u001b[0mcall\u001b[0m\u001b[0;34m(\u001b[0m\u001b[0moperator\u001b[0m\u001b[0;34m,\u001b[0m \u001b[0mx\u001b[0m\u001b[0;34m,\u001b[0m\u001b[0my\u001b[0m\u001b[0;34m)\u001b[0m\u001b[0;34m,\u001b[0m \u001b[0moperands\u001b[0m\u001b[0;34m)\u001b[0m\u001b[0;34m\u001b[0m\u001b[0;34m\u001b[0m\u001b[0m\n\u001b[0m\u001b[1;32m   1811\u001b[0m \u001b[0;34m\u001b[0m\u001b[0m\n\u001b[1;32m   1812\u001b[0m     \u001b[0;32mdef\u001b[0m \u001b[0msymbol\u001b[0m\u001b[0;34m(\u001b[0m\u001b[0mself\u001b[0m\u001b[0;34m,\u001b[0m \u001b[0mex\u001b[0m\u001b[0;34m)\u001b[0m\u001b[0;34m:\u001b[0m\u001b[0;34m\u001b[0m\u001b[0;34m\u001b[0m\u001b[0m\n",
      "\u001b[0;32m/opt/sagemath-9.0/local/lib/python3.7/site-packages/sage/ext/fast_callable.pyx\u001b[0m in \u001b[0;36msage.ext.fast_callable.ExpressionTreeBuilder.call (build/cythonized/sage/ext/fast_callable.c:7214)\u001b[0;34m()\u001b[0m\n\u001b[1;32m    780\u001b[0m             \u001b[0;32mreturn\u001b[0m \u001b[0mself\u001b[0m\u001b[0;34m(\u001b[0m\u001b[0mbase\u001b[0m\u001b[0;34m)\u001b[0m\u001b[0;34m**\u001b[0m\u001b[0mexponent\u001b[0m\u001b[0;34m\u001b[0m\u001b[0;34m\u001b[0m\u001b[0m\n\u001b[1;32m    781\u001b[0m         \u001b[0;32melse\u001b[0m\u001b[0;34m:\u001b[0m\u001b[0;34m\u001b[0m\u001b[0;34m\u001b[0m\u001b[0m\n\u001b[0;32m--> 782\u001b[0;31m             \u001b[0;32mreturn\u001b[0m \u001b[0mExpressionCall\u001b[0m\u001b[0;34m(\u001b[0m\u001b[0mself\u001b[0m\u001b[0;34m,\u001b[0m \u001b[0mfn\u001b[0m\u001b[0;34m,\u001b[0m \u001b[0;34m[\u001b[0m\u001b[0mself\u001b[0m\u001b[0;34m(\u001b[0m\u001b[0ma\u001b[0m\u001b[0;34m)\u001b[0m \u001b[0;32mfor\u001b[0m \u001b[0ma\u001b[0m \u001b[0;32min\u001b[0m \u001b[0margs\u001b[0m\u001b[0;34m]\u001b[0m\u001b[0;34m)\u001b[0m\u001b[0;34m\u001b[0m\u001b[0;34m\u001b[0m\u001b[0m\n\u001b[0m\u001b[1;32m    783\u001b[0m \u001b[0;34m\u001b[0m\u001b[0m\n\u001b[1;32m    784\u001b[0m     \u001b[0;32mdef\u001b[0m \u001b[0mchoice\u001b[0m\u001b[0;34m(\u001b[0m\u001b[0mself\u001b[0m\u001b[0;34m,\u001b[0m \u001b[0mcond\u001b[0m\u001b[0;34m,\u001b[0m \u001b[0miftrue\u001b[0m\u001b[0;34m,\u001b[0m \u001b[0miffalse\u001b[0m\u001b[0;34m)\u001b[0m\u001b[0;34m:\u001b[0m\u001b[0;34m\u001b[0m\u001b[0;34m\u001b[0m\u001b[0m\n",
      "\u001b[0;32m/opt/sagemath-9.0/local/lib/python3.7/site-packages/sage/ext/fast_callable.pyx\u001b[0m in \u001b[0;36msage.ext.fast_callable.ExpressionTreeBuilder.__call__ (build/cythonized/sage/ext/fast_callable.c:6348)\u001b[0;34m()\u001b[0m\n\u001b[1;32m    654\u001b[0m             \u001b[0;32mreturn\u001b[0m \u001b[0mself\u001b[0m\u001b[0;34m.\u001b[0m\u001b[0mconstant\u001b[0m\u001b[0;34m(\u001b[0m\u001b[0mx\u001b[0m\u001b[0;34m)\u001b[0m\u001b[0;34m\u001b[0m\u001b[0;34m\u001b[0m\u001b[0m\n\u001b[1;32m    655\u001b[0m \u001b[0;34m\u001b[0m\u001b[0m\n\u001b[0;32m--> 656\u001b[0;31m         \u001b[0;32mreturn\u001b[0m \u001b[0mfc\u001b[0m\u001b[0;34m(\u001b[0m\u001b[0mself\u001b[0m\u001b[0;34m)\u001b[0m\u001b[0;34m\u001b[0m\u001b[0;34m\u001b[0m\u001b[0m\n\u001b[0m\u001b[1;32m    657\u001b[0m \u001b[0;34m\u001b[0m\u001b[0m\n\u001b[1;32m    658\u001b[0m     \u001b[0;32mdef\u001b[0m \u001b[0m_clean_var\u001b[0m\u001b[0;34m(\u001b[0m\u001b[0mself\u001b[0m\u001b[0;34m,\u001b[0m \u001b[0mv\u001b[0m\u001b[0;34m)\u001b[0m\u001b[0;34m:\u001b[0m\u001b[0;34m\u001b[0m\u001b[0;34m\u001b[0m\u001b[0m\n",
      "\u001b[0;32m/opt/sagemath-9.0/local/lib/python3.7/site-packages/sage/symbolic/expression_conversions.py\u001b[0m in \u001b[0;36m_fast_callable_\u001b[0;34m(self, etb)\u001b[0m\n\u001b[1;32m    123\u001b[0m             \u001b[0;34m[\u001b[0m\u001b[0;34m(\u001b[0m\u001b[0;34m'load_arg'\u001b[0m\u001b[0;34m,\u001b[0m \u001b[0;36m0\u001b[0m\u001b[0;34m)\u001b[0m\u001b[0;34m,\u001b[0m \u001b[0;34m(\u001b[0m\u001b[0;34m'load_arg'\u001b[0m\u001b[0;34m,\u001b[0m \u001b[0;36m1\u001b[0m\u001b[0;34m)\u001b[0m\u001b[0;34m,\u001b[0m \u001b[0;34m'div'\u001b[0m\u001b[0;34m,\u001b[0m \u001b[0;34m'return'\u001b[0m\u001b[0;34m]\u001b[0m\u001b[0;34m\u001b[0m\u001b[0;34m\u001b[0m\u001b[0m\n\u001b[1;32m    124\u001b[0m         \"\"\"\n\u001b[0;32m--> 125\u001b[0;31m         \u001b[0;32mreturn\u001b[0m \u001b[0mfast_callable\u001b[0m\u001b[0;34m(\u001b[0m\u001b[0mself\u001b[0m\u001b[0;34m,\u001b[0m \u001b[0metb\u001b[0m\u001b[0;34m)\u001b[0m\u001b[0;34m\u001b[0m\u001b[0;34m\u001b[0m\u001b[0m\n\u001b[0m\u001b[1;32m    126\u001b[0m \u001b[0;34m\u001b[0m\u001b[0m\n\u001b[1;32m    127\u001b[0m     \u001b[0;32mdef\u001b[0m \u001b[0m_fast_float_\u001b[0m\u001b[0;34m(\u001b[0m\u001b[0mself\u001b[0m\u001b[0;34m,\u001b[0m \u001b[0;34m*\u001b[0m\u001b[0mvars\u001b[0m\u001b[0;34m)\u001b[0m\u001b[0;34m:\u001b[0m\u001b[0;34m\u001b[0m\u001b[0;34m\u001b[0m\u001b[0m\n",
      "\u001b[0;32m/opt/sagemath-9.0/local/lib/python3.7/site-packages/sage/symbolic/expression_conversions.py\u001b[0m in \u001b[0;36mfast_callable\u001b[0;34m(ex, etb)\u001b[0m\n\u001b[1;32m   1880\u001b[0m \u001b[0;34m\u001b[0m\u001b[0m\n\u001b[1;32m   1881\u001b[0m     \"\"\"\n\u001b[0;32m-> 1882\u001b[0;31m     \u001b[0;32mreturn\u001b[0m \u001b[0mFastCallableConverter\u001b[0m\u001b[0;34m(\u001b[0m\u001b[0mex\u001b[0m\u001b[0;34m,\u001b[0m \u001b[0metb\u001b[0m\u001b[0;34m)\u001b[0m\u001b[0;34m(\u001b[0m\u001b[0;34m)\u001b[0m\u001b[0;34m\u001b[0m\u001b[0;34m\u001b[0m\u001b[0m\n\u001b[0m\u001b[1;32m   1883\u001b[0m \u001b[0;34m\u001b[0m\u001b[0m\n\u001b[1;32m   1884\u001b[0m \u001b[0;32mclass\u001b[0m \u001b[0mRingConverter\u001b[0m\u001b[0;34m(\u001b[0m\u001b[0mConverter\u001b[0m\u001b[0;34m)\u001b[0m\u001b[0;34m:\u001b[0m\u001b[0;34m\u001b[0m\u001b[0;34m\u001b[0m\u001b[0m\n",
      "\u001b[0;32m/opt/sagemath-9.0/local/lib/python3.7/site-packages/sage/symbolic/expression_conversions.py\u001b[0m in \u001b[0;36m__call__\u001b[0;34m(self, ex)\u001b[0m\n\u001b[1;32m    215\u001b[0m             \u001b[0;32mif\u001b[0m \u001b[0mgetattr\u001b[0m\u001b[0;34m(\u001b[0m\u001b[0mself\u001b[0m\u001b[0;34m,\u001b[0m \u001b[0;34m'use_fake_div'\u001b[0m\u001b[0;34m,\u001b[0m \u001b[0;32mFalse\u001b[0m\u001b[0;34m)\u001b[0m \u001b[0;32mand\u001b[0m \u001b[0;34m(\u001b[0m\u001b[0moperator\u001b[0m \u001b[0;32mis\u001b[0m \u001b[0m_operator\u001b[0m\u001b[0;34m.\u001b[0m\u001b[0mmul\u001b[0m \u001b[0;32mor\u001b[0m \u001b[0moperator\u001b[0m \u001b[0;32mis\u001b[0m \u001b[0mmul_vararg\u001b[0m\u001b[0;34m)\u001b[0m\u001b[0;34m:\u001b[0m\u001b[0;34m\u001b[0m\u001b[0;34m\u001b[0m\u001b[0m\n\u001b[1;32m    216\u001b[0m                 \u001b[0mdiv\u001b[0m \u001b[0;34m=\u001b[0m \u001b[0mself\u001b[0m\u001b[0;34m.\u001b[0m\u001b[0mget_fake_div\u001b[0m\u001b[0;34m(\u001b[0m\u001b[0mex\u001b[0m\u001b[0;34m)\u001b[0m\u001b[0;34m\u001b[0m\u001b[0;34m\u001b[0m\u001b[0m\n\u001b[0;32m--> 217\u001b[0;31m                 \u001b[0;32mreturn\u001b[0m \u001b[0mself\u001b[0m\u001b[0;34m.\u001b[0m\u001b[0marithmetic\u001b[0m\u001b[0;34m(\u001b[0m\u001b[0mdiv\u001b[0m\u001b[0;34m,\u001b[0m \u001b[0mdiv\u001b[0m\u001b[0;34m.\u001b[0m\u001b[0moperator\u001b[0m\u001b[0;34m(\u001b[0m\u001b[0;34m)\u001b[0m\u001b[0;34m)\u001b[0m\u001b[0;34m\u001b[0m\u001b[0;34m\u001b[0m\u001b[0m\n\u001b[0m\u001b[1;32m    218\u001b[0m             \u001b[0;32mreturn\u001b[0m \u001b[0mself\u001b[0m\u001b[0;34m.\u001b[0m\u001b[0marithmetic\u001b[0m\u001b[0;34m(\u001b[0m\u001b[0mex\u001b[0m\u001b[0;34m,\u001b[0m \u001b[0moperator\u001b[0m\u001b[0;34m)\u001b[0m\u001b[0;34m\u001b[0m\u001b[0;34m\u001b[0m\u001b[0m\n\u001b[1;32m    219\u001b[0m         \u001b[0;32melif\u001b[0m \u001b[0moperator\u001b[0m \u001b[0;32min\u001b[0m \u001b[0mrelation_operators\u001b[0m\u001b[0;34m:\u001b[0m\u001b[0;34m\u001b[0m\u001b[0;34m\u001b[0m\u001b[0m\n",
      "\u001b[0;32m/opt/sagemath-9.0/local/lib/python3.7/site-packages/sage/symbolic/expression_conversions.py\u001b[0m in \u001b[0;36marithmetic\u001b[0;34m(self, ex, operator)\u001b[0m\n\u001b[1;32m   1808\u001b[0m         \u001b[0;32melif\u001b[0m \u001b[0moperator\u001b[0m \u001b[0;34m==\u001b[0m \u001b[0mmul_vararg\u001b[0m\u001b[0;34m:\u001b[0m\u001b[0;34m\u001b[0m\u001b[0;34m\u001b[0m\u001b[0m\n\u001b[1;32m   1809\u001b[0m             \u001b[0moperator\u001b[0m \u001b[0;34m=\u001b[0m \u001b[0m_operator\u001b[0m\u001b[0;34m.\u001b[0m\u001b[0mmul\u001b[0m\u001b[0;34m\u001b[0m\u001b[0;34m\u001b[0m\u001b[0m\n\u001b[0;32m-> 1810\u001b[0;31m         \u001b[0;32mreturn\u001b[0m \u001b[0mreduce\u001b[0m\u001b[0;34m(\u001b[0m\u001b[0;32mlambda\u001b[0m \u001b[0mx\u001b[0m\u001b[0;34m,\u001b[0m\u001b[0my\u001b[0m\u001b[0;34m:\u001b[0m \u001b[0mself\u001b[0m\u001b[0;34m.\u001b[0m\u001b[0metb\u001b[0m\u001b[0;34m.\u001b[0m\u001b[0mcall\u001b[0m\u001b[0;34m(\u001b[0m\u001b[0moperator\u001b[0m\u001b[0;34m,\u001b[0m \u001b[0mx\u001b[0m\u001b[0;34m,\u001b[0m\u001b[0my\u001b[0m\u001b[0;34m)\u001b[0m\u001b[0;34m,\u001b[0m \u001b[0moperands\u001b[0m\u001b[0;34m)\u001b[0m\u001b[0;34m\u001b[0m\u001b[0;34m\u001b[0m\u001b[0m\n\u001b[0m\u001b[1;32m   1811\u001b[0m \u001b[0;34m\u001b[0m\u001b[0m\n\u001b[1;32m   1812\u001b[0m     \u001b[0;32mdef\u001b[0m \u001b[0msymbol\u001b[0m\u001b[0;34m(\u001b[0m\u001b[0mself\u001b[0m\u001b[0;34m,\u001b[0m \u001b[0mex\u001b[0m\u001b[0;34m)\u001b[0m\u001b[0;34m:\u001b[0m\u001b[0;34m\u001b[0m\u001b[0;34m\u001b[0m\u001b[0m\n",
      "\u001b[0;32m/opt/sagemath-9.0/local/lib/python3.7/site-packages/sage/symbolic/expression_conversions.py\u001b[0m in \u001b[0;36m<lambda>\u001b[0;34m(x, y)\u001b[0m\n\u001b[1;32m   1808\u001b[0m         \u001b[0;32melif\u001b[0m \u001b[0moperator\u001b[0m \u001b[0;34m==\u001b[0m \u001b[0mmul_vararg\u001b[0m\u001b[0;34m:\u001b[0m\u001b[0;34m\u001b[0m\u001b[0;34m\u001b[0m\u001b[0m\n\u001b[1;32m   1809\u001b[0m             \u001b[0moperator\u001b[0m \u001b[0;34m=\u001b[0m \u001b[0m_operator\u001b[0m\u001b[0;34m.\u001b[0m\u001b[0mmul\u001b[0m\u001b[0;34m\u001b[0m\u001b[0;34m\u001b[0m\u001b[0m\n\u001b[0;32m-> 1810\u001b[0;31m         \u001b[0;32mreturn\u001b[0m \u001b[0mreduce\u001b[0m\u001b[0;34m(\u001b[0m\u001b[0;32mlambda\u001b[0m \u001b[0mx\u001b[0m\u001b[0;34m,\u001b[0m\u001b[0my\u001b[0m\u001b[0;34m:\u001b[0m \u001b[0mself\u001b[0m\u001b[0;34m.\u001b[0m\u001b[0metb\u001b[0m\u001b[0;34m.\u001b[0m\u001b[0mcall\u001b[0m\u001b[0;34m(\u001b[0m\u001b[0moperator\u001b[0m\u001b[0;34m,\u001b[0m \u001b[0mx\u001b[0m\u001b[0;34m,\u001b[0m\u001b[0my\u001b[0m\u001b[0;34m)\u001b[0m\u001b[0;34m,\u001b[0m \u001b[0moperands\u001b[0m\u001b[0;34m)\u001b[0m\u001b[0;34m\u001b[0m\u001b[0;34m\u001b[0m\u001b[0m\n\u001b[0m\u001b[1;32m   1811\u001b[0m \u001b[0;34m\u001b[0m\u001b[0m\n\u001b[1;32m   1812\u001b[0m     \u001b[0;32mdef\u001b[0m \u001b[0msymbol\u001b[0m\u001b[0;34m(\u001b[0m\u001b[0mself\u001b[0m\u001b[0;34m,\u001b[0m \u001b[0mex\u001b[0m\u001b[0;34m)\u001b[0m\u001b[0;34m:\u001b[0m\u001b[0;34m\u001b[0m\u001b[0;34m\u001b[0m\u001b[0m\n",
      "\u001b[0;32m/opt/sagemath-9.0/local/lib/python3.7/site-packages/sage/ext/fast_callable.pyx\u001b[0m in \u001b[0;36msage.ext.fast_callable.ExpressionTreeBuilder.call (build/cythonized/sage/ext/fast_callable.c:7214)\u001b[0;34m()\u001b[0m\n\u001b[1;32m    780\u001b[0m             \u001b[0;32mreturn\u001b[0m \u001b[0mself\u001b[0m\u001b[0;34m(\u001b[0m\u001b[0mbase\u001b[0m\u001b[0;34m)\u001b[0m\u001b[0;34m**\u001b[0m\u001b[0mexponent\u001b[0m\u001b[0;34m\u001b[0m\u001b[0;34m\u001b[0m\u001b[0m\n\u001b[1;32m    781\u001b[0m         \u001b[0;32melse\u001b[0m\u001b[0;34m:\u001b[0m\u001b[0;34m\u001b[0m\u001b[0;34m\u001b[0m\u001b[0m\n\u001b[0;32m--> 782\u001b[0;31m             \u001b[0;32mreturn\u001b[0m \u001b[0mExpressionCall\u001b[0m\u001b[0;34m(\u001b[0m\u001b[0mself\u001b[0m\u001b[0;34m,\u001b[0m \u001b[0mfn\u001b[0m\u001b[0;34m,\u001b[0m \u001b[0;34m[\u001b[0m\u001b[0mself\u001b[0m\u001b[0;34m(\u001b[0m\u001b[0ma\u001b[0m\u001b[0;34m)\u001b[0m \u001b[0;32mfor\u001b[0m \u001b[0ma\u001b[0m \u001b[0;32min\u001b[0m \u001b[0margs\u001b[0m\u001b[0;34m]\u001b[0m\u001b[0;34m)\u001b[0m\u001b[0;34m\u001b[0m\u001b[0;34m\u001b[0m\u001b[0m\n\u001b[0m\u001b[1;32m    783\u001b[0m \u001b[0;34m\u001b[0m\u001b[0m\n\u001b[1;32m    784\u001b[0m     \u001b[0;32mdef\u001b[0m \u001b[0mchoice\u001b[0m\u001b[0;34m(\u001b[0m\u001b[0mself\u001b[0m\u001b[0;34m,\u001b[0m \u001b[0mcond\u001b[0m\u001b[0;34m,\u001b[0m \u001b[0miftrue\u001b[0m\u001b[0;34m,\u001b[0m \u001b[0miffalse\u001b[0m\u001b[0;34m)\u001b[0m\u001b[0;34m:\u001b[0m\u001b[0;34m\u001b[0m\u001b[0;34m\u001b[0m\u001b[0m\n",
      "\u001b[0;32m/opt/sagemath-9.0/local/lib/python3.7/site-packages/sage/ext/fast_callable.pyx\u001b[0m in \u001b[0;36msage.ext.fast_callable.ExpressionTreeBuilder.__call__ (build/cythonized/sage/ext/fast_callable.c:6348)\u001b[0;34m()\u001b[0m\n\u001b[1;32m    654\u001b[0m             \u001b[0;32mreturn\u001b[0m \u001b[0mself\u001b[0m\u001b[0;34m.\u001b[0m\u001b[0mconstant\u001b[0m\u001b[0;34m(\u001b[0m\u001b[0mx\u001b[0m\u001b[0;34m)\u001b[0m\u001b[0;34m\u001b[0m\u001b[0;34m\u001b[0m\u001b[0m\n\u001b[1;32m    655\u001b[0m \u001b[0;34m\u001b[0m\u001b[0m\n\u001b[0;32m--> 656\u001b[0;31m         \u001b[0;32mreturn\u001b[0m \u001b[0mfc\u001b[0m\u001b[0;34m(\u001b[0m\u001b[0mself\u001b[0m\u001b[0;34m)\u001b[0m\u001b[0;34m\u001b[0m\u001b[0;34m\u001b[0m\u001b[0m\n\u001b[0m\u001b[1;32m    657\u001b[0m \u001b[0;34m\u001b[0m\u001b[0m\n\u001b[1;32m    658\u001b[0m     \u001b[0;32mdef\u001b[0m \u001b[0m_clean_var\u001b[0m\u001b[0;34m(\u001b[0m\u001b[0mself\u001b[0m\u001b[0;34m,\u001b[0m \u001b[0mv\u001b[0m\u001b[0;34m)\u001b[0m\u001b[0;34m:\u001b[0m\u001b[0;34m\u001b[0m\u001b[0;34m\u001b[0m\u001b[0m\n",
      "\u001b[0;32m/opt/sagemath-9.0/local/lib/python3.7/site-packages/sage/symbolic/expression.pyx\u001b[0m in \u001b[0;36msage.symbolic.expression.Expression._fast_callable_ (build/cythonized/sage/symbolic/expression.cpp:62644)\u001b[0;34m()\u001b[0m\n\u001b[1;32m  11930\u001b[0m             \u001b[0msage\u001b[0m\u001b[0;34m:\u001b[0m \u001b[0mf\u001b[0m\u001b[0;34m.\u001b[0m\u001b[0m_fast_callable_\u001b[0m\u001b[0;34m(\u001b[0m\u001b[0metb\u001b[0m\u001b[0;34m)\u001b[0m\u001b[0;34m\u001b[0m\u001b[0;34m\u001b[0m\u001b[0m\n\u001b[1;32m  11931\u001b[0m             \u001b[0madd\u001b[0m\u001b[0;34m(\u001b[0m\u001b[0mmul\u001b[0m\u001b[0;34m(\u001b[0m\u001b[0mipow\u001b[0m\u001b[0;34m(\u001b[0m\u001b[0mv_0\u001b[0m\u001b[0;34m,\u001b[0m \u001b[0;36m2\u001b[0m\u001b[0;34m)\u001b[0m\u001b[0;34m,\u001b[0m \u001b[0;36m2\u001b[0m\u001b[0;34m)\u001b[0m\u001b[0;34m,\u001b[0m \u001b[0mv_1\u001b[0m\u001b[0;34m)\u001b[0m\u001b[0;34m\u001b[0m\u001b[0;34m\u001b[0m\u001b[0m\n\u001b[0;32m> 11932\u001b[0;31m         \"\"\"\n\u001b[0m\u001b[1;32m  11933\u001b[0m         \u001b[0;32mfrom\u001b[0m \u001b[0msage\u001b[0m\u001b[0;34m.\u001b[0m\u001b[0msymbolic\u001b[0m\u001b[0;34m.\u001b[0m\u001b[0mexpression_conversions\u001b[0m \u001b[0;32mimport\u001b[0m \u001b[0mfast_callable\u001b[0m\u001b[0;34m\u001b[0m\u001b[0;34m\u001b[0m\u001b[0m\n\u001b[1;32m  11934\u001b[0m         \u001b[0;32mreturn\u001b[0m \u001b[0mfast_callable\u001b[0m\u001b[0;34m(\u001b[0m\u001b[0mself\u001b[0m\u001b[0;34m,\u001b[0m \u001b[0metb\u001b[0m\u001b[0;34m)\u001b[0m\u001b[0;34m\u001b[0m\u001b[0;34m\u001b[0m\u001b[0m\n",
      "\u001b[0;32m/opt/sagemath-9.0/local/lib/python3.7/site-packages/sage/symbolic/expression_conversions.py\u001b[0m in \u001b[0;36mfast_callable\u001b[0;34m(ex, etb)\u001b[0m\n\u001b[1;32m   1880\u001b[0m \u001b[0;34m\u001b[0m\u001b[0m\n\u001b[1;32m   1881\u001b[0m     \"\"\"\n\u001b[0;32m-> 1882\u001b[0;31m     \u001b[0;32mreturn\u001b[0m \u001b[0mFastCallableConverter\u001b[0m\u001b[0;34m(\u001b[0m\u001b[0mex\u001b[0m\u001b[0;34m,\u001b[0m \u001b[0metb\u001b[0m\u001b[0;34m)\u001b[0m\u001b[0;34m(\u001b[0m\u001b[0;34m)\u001b[0m\u001b[0;34m\u001b[0m\u001b[0;34m\u001b[0m\u001b[0m\n\u001b[0m\u001b[1;32m   1883\u001b[0m \u001b[0;34m\u001b[0m\u001b[0m\n\u001b[1;32m   1884\u001b[0m \u001b[0;32mclass\u001b[0m \u001b[0mRingConverter\u001b[0m\u001b[0;34m(\u001b[0m\u001b[0mConverter\u001b[0m\u001b[0;34m)\u001b[0m\u001b[0;34m:\u001b[0m\u001b[0;34m\u001b[0m\u001b[0;34m\u001b[0m\u001b[0m\n",
      "\u001b[0;32m/opt/sagemath-9.0/local/lib/python3.7/site-packages/sage/symbolic/expression_conversions.py\u001b[0m in \u001b[0;36m__call__\u001b[0;34m(self, ex)\u001b[0m\n\u001b[1;32m    216\u001b[0m                 \u001b[0mdiv\u001b[0m \u001b[0;34m=\u001b[0m \u001b[0mself\u001b[0m\u001b[0;34m.\u001b[0m\u001b[0mget_fake_div\u001b[0m\u001b[0;34m(\u001b[0m\u001b[0mex\u001b[0m\u001b[0;34m)\u001b[0m\u001b[0;34m\u001b[0m\u001b[0;34m\u001b[0m\u001b[0m\n\u001b[1;32m    217\u001b[0m                 \u001b[0;32mreturn\u001b[0m \u001b[0mself\u001b[0m\u001b[0;34m.\u001b[0m\u001b[0marithmetic\u001b[0m\u001b[0;34m(\u001b[0m\u001b[0mdiv\u001b[0m\u001b[0;34m,\u001b[0m \u001b[0mdiv\u001b[0m\u001b[0;34m.\u001b[0m\u001b[0moperator\u001b[0m\u001b[0;34m(\u001b[0m\u001b[0;34m)\u001b[0m\u001b[0;34m)\u001b[0m\u001b[0;34m\u001b[0m\u001b[0;34m\u001b[0m\u001b[0m\n\u001b[0;32m--> 218\u001b[0;31m             \u001b[0;32mreturn\u001b[0m \u001b[0mself\u001b[0m\u001b[0;34m.\u001b[0m\u001b[0marithmetic\u001b[0m\u001b[0;34m(\u001b[0m\u001b[0mex\u001b[0m\u001b[0;34m,\u001b[0m \u001b[0moperator\u001b[0m\u001b[0;34m)\u001b[0m\u001b[0;34m\u001b[0m\u001b[0;34m\u001b[0m\u001b[0m\n\u001b[0m\u001b[1;32m    219\u001b[0m         \u001b[0;32melif\u001b[0m \u001b[0moperator\u001b[0m \u001b[0;32min\u001b[0m \u001b[0mrelation_operators\u001b[0m\u001b[0;34m:\u001b[0m\u001b[0;34m\u001b[0m\u001b[0;34m\u001b[0m\u001b[0m\n\u001b[1;32m    220\u001b[0m             \u001b[0;32mreturn\u001b[0m \u001b[0mself\u001b[0m\u001b[0;34m.\u001b[0m\u001b[0mrelation\u001b[0m\u001b[0;34m(\u001b[0m\u001b[0mex\u001b[0m\u001b[0;34m,\u001b[0m \u001b[0moperator\u001b[0m\u001b[0;34m)\u001b[0m\u001b[0;34m\u001b[0m\u001b[0;34m\u001b[0m\u001b[0m\n",
      "\u001b[0;32m/opt/sagemath-9.0/local/lib/python3.7/site-packages/sage/symbolic/expression_conversions.py\u001b[0m in \u001b[0;36marithmetic\u001b[0;34m(self, ex, operator)\u001b[0m\n\u001b[1;32m   1808\u001b[0m         \u001b[0;32melif\u001b[0m \u001b[0moperator\u001b[0m \u001b[0;34m==\u001b[0m \u001b[0mmul_vararg\u001b[0m\u001b[0;34m:\u001b[0m\u001b[0;34m\u001b[0m\u001b[0;34m\u001b[0m\u001b[0m\n\u001b[1;32m   1809\u001b[0m             \u001b[0moperator\u001b[0m \u001b[0;34m=\u001b[0m \u001b[0m_operator\u001b[0m\u001b[0;34m.\u001b[0m\u001b[0mmul\u001b[0m\u001b[0;34m\u001b[0m\u001b[0;34m\u001b[0m\u001b[0m\n\u001b[0;32m-> 1810\u001b[0;31m         \u001b[0;32mreturn\u001b[0m \u001b[0mreduce\u001b[0m\u001b[0;34m(\u001b[0m\u001b[0;32mlambda\u001b[0m \u001b[0mx\u001b[0m\u001b[0;34m,\u001b[0m\u001b[0my\u001b[0m\u001b[0;34m:\u001b[0m \u001b[0mself\u001b[0m\u001b[0;34m.\u001b[0m\u001b[0metb\u001b[0m\u001b[0;34m.\u001b[0m\u001b[0mcall\u001b[0m\u001b[0;34m(\u001b[0m\u001b[0moperator\u001b[0m\u001b[0;34m,\u001b[0m \u001b[0mx\u001b[0m\u001b[0;34m,\u001b[0m\u001b[0my\u001b[0m\u001b[0;34m)\u001b[0m\u001b[0;34m,\u001b[0m \u001b[0moperands\u001b[0m\u001b[0;34m)\u001b[0m\u001b[0;34m\u001b[0m\u001b[0;34m\u001b[0m\u001b[0m\n\u001b[0m\u001b[1;32m   1811\u001b[0m \u001b[0;34m\u001b[0m\u001b[0m\n\u001b[1;32m   1812\u001b[0m     \u001b[0;32mdef\u001b[0m \u001b[0msymbol\u001b[0m\u001b[0;34m(\u001b[0m\u001b[0mself\u001b[0m\u001b[0;34m,\u001b[0m \u001b[0mex\u001b[0m\u001b[0;34m)\u001b[0m\u001b[0;34m:\u001b[0m\u001b[0;34m\u001b[0m\u001b[0;34m\u001b[0m\u001b[0m\n",
      "\u001b[0;32m/opt/sagemath-9.0/local/lib/python3.7/site-packages/sage/symbolic/expression_conversions.py\u001b[0m in \u001b[0;36m<lambda>\u001b[0;34m(x, y)\u001b[0m\n\u001b[1;32m   1808\u001b[0m         \u001b[0;32melif\u001b[0m \u001b[0moperator\u001b[0m \u001b[0;34m==\u001b[0m \u001b[0mmul_vararg\u001b[0m\u001b[0;34m:\u001b[0m\u001b[0;34m\u001b[0m\u001b[0;34m\u001b[0m\u001b[0m\n\u001b[1;32m   1809\u001b[0m             \u001b[0moperator\u001b[0m \u001b[0;34m=\u001b[0m \u001b[0m_operator\u001b[0m\u001b[0;34m.\u001b[0m\u001b[0mmul\u001b[0m\u001b[0;34m\u001b[0m\u001b[0;34m\u001b[0m\u001b[0m\n\u001b[0;32m-> 1810\u001b[0;31m         \u001b[0;32mreturn\u001b[0m \u001b[0mreduce\u001b[0m\u001b[0;34m(\u001b[0m\u001b[0;32mlambda\u001b[0m \u001b[0mx\u001b[0m\u001b[0;34m,\u001b[0m\u001b[0my\u001b[0m\u001b[0;34m:\u001b[0m \u001b[0mself\u001b[0m\u001b[0;34m.\u001b[0m\u001b[0metb\u001b[0m\u001b[0;34m.\u001b[0m\u001b[0mcall\u001b[0m\u001b[0;34m(\u001b[0m\u001b[0moperator\u001b[0m\u001b[0;34m,\u001b[0m \u001b[0mx\u001b[0m\u001b[0;34m,\u001b[0m\u001b[0my\u001b[0m\u001b[0;34m)\u001b[0m\u001b[0;34m,\u001b[0m \u001b[0moperands\u001b[0m\u001b[0;34m)\u001b[0m\u001b[0;34m\u001b[0m\u001b[0;34m\u001b[0m\u001b[0m\n\u001b[0m\u001b[1;32m   1811\u001b[0m \u001b[0;34m\u001b[0m\u001b[0m\n\u001b[1;32m   1812\u001b[0m     \u001b[0;32mdef\u001b[0m \u001b[0msymbol\u001b[0m\u001b[0;34m(\u001b[0m\u001b[0mself\u001b[0m\u001b[0;34m,\u001b[0m \u001b[0mex\u001b[0m\u001b[0;34m)\u001b[0m\u001b[0;34m:\u001b[0m\u001b[0;34m\u001b[0m\u001b[0;34m\u001b[0m\u001b[0m\n",
      "\u001b[0;32m/opt/sagemath-9.0/local/lib/python3.7/site-packages/sage/ext/fast_callable.pyx\u001b[0m in \u001b[0;36msage.ext.fast_callable.ExpressionTreeBuilder.call (build/cythonized/sage/ext/fast_callable.c:7214)\u001b[0;34m()\u001b[0m\n\u001b[1;32m    780\u001b[0m             \u001b[0;32mreturn\u001b[0m \u001b[0mself\u001b[0m\u001b[0;34m(\u001b[0m\u001b[0mbase\u001b[0m\u001b[0;34m)\u001b[0m\u001b[0;34m**\u001b[0m\u001b[0mexponent\u001b[0m\u001b[0;34m\u001b[0m\u001b[0;34m\u001b[0m\u001b[0m\n\u001b[1;32m    781\u001b[0m         \u001b[0;32melse\u001b[0m\u001b[0;34m:\u001b[0m\u001b[0;34m\u001b[0m\u001b[0;34m\u001b[0m\u001b[0m\n\u001b[0;32m--> 782\u001b[0;31m             \u001b[0;32mreturn\u001b[0m \u001b[0mExpressionCall\u001b[0m\u001b[0;34m(\u001b[0m\u001b[0mself\u001b[0m\u001b[0;34m,\u001b[0m \u001b[0mfn\u001b[0m\u001b[0;34m,\u001b[0m \u001b[0;34m[\u001b[0m\u001b[0mself\u001b[0m\u001b[0;34m(\u001b[0m\u001b[0ma\u001b[0m\u001b[0;34m)\u001b[0m \u001b[0;32mfor\u001b[0m \u001b[0ma\u001b[0m \u001b[0;32min\u001b[0m \u001b[0margs\u001b[0m\u001b[0;34m]\u001b[0m\u001b[0;34m)\u001b[0m\u001b[0;34m\u001b[0m\u001b[0;34m\u001b[0m\u001b[0m\n\u001b[0m\u001b[1;32m    783\u001b[0m \u001b[0;34m\u001b[0m\u001b[0m\n\u001b[1;32m    784\u001b[0m     \u001b[0;32mdef\u001b[0m \u001b[0mchoice\u001b[0m\u001b[0;34m(\u001b[0m\u001b[0mself\u001b[0m\u001b[0;34m,\u001b[0m \u001b[0mcond\u001b[0m\u001b[0;34m,\u001b[0m \u001b[0miftrue\u001b[0m\u001b[0;34m,\u001b[0m \u001b[0miffalse\u001b[0m\u001b[0;34m)\u001b[0m\u001b[0;34m:\u001b[0m\u001b[0;34m\u001b[0m\u001b[0;34m\u001b[0m\u001b[0m\n",
      "\u001b[0;32m/opt/sagemath-9.0/local/lib/python3.7/site-packages/sage/ext/fast_callable.pyx\u001b[0m in \u001b[0;36msage.ext.fast_callable.ExpressionTreeBuilder.__call__ (build/cythonized/sage/ext/fast_callable.c:6348)\u001b[0;34m()\u001b[0m\n\u001b[1;32m    654\u001b[0m             \u001b[0;32mreturn\u001b[0m \u001b[0mself\u001b[0m\u001b[0;34m.\u001b[0m\u001b[0mconstant\u001b[0m\u001b[0;34m(\u001b[0m\u001b[0mx\u001b[0m\u001b[0;34m)\u001b[0m\u001b[0;34m\u001b[0m\u001b[0;34m\u001b[0m\u001b[0m\n\u001b[1;32m    655\u001b[0m \u001b[0;34m\u001b[0m\u001b[0m\n\u001b[0;32m--> 656\u001b[0;31m         \u001b[0;32mreturn\u001b[0m \u001b[0mfc\u001b[0m\u001b[0;34m(\u001b[0m\u001b[0mself\u001b[0m\u001b[0;34m)\u001b[0m\u001b[0;34m\u001b[0m\u001b[0;34m\u001b[0m\u001b[0m\n\u001b[0m\u001b[1;32m    657\u001b[0m \u001b[0;34m\u001b[0m\u001b[0m\n\u001b[1;32m    658\u001b[0m     \u001b[0;32mdef\u001b[0m \u001b[0m_clean_var\u001b[0m\u001b[0;34m(\u001b[0m\u001b[0mself\u001b[0m\u001b[0;34m,\u001b[0m \u001b[0mv\u001b[0m\u001b[0;34m)\u001b[0m\u001b[0;34m:\u001b[0m\u001b[0;34m\u001b[0m\u001b[0;34m\u001b[0m\u001b[0m\n",
      "\u001b[0;32m/opt/sagemath-9.0/local/lib/python3.7/site-packages/sage/symbolic/expression.pyx\u001b[0m in \u001b[0;36msage.symbolic.expression.Expression._fast_callable_ (build/cythonized/sage/symbolic/expression.cpp:62644)\u001b[0;34m()\u001b[0m\n\u001b[1;32m  11930\u001b[0m             \u001b[0msage\u001b[0m\u001b[0;34m:\u001b[0m \u001b[0mf\u001b[0m\u001b[0;34m.\u001b[0m\u001b[0m_fast_callable_\u001b[0m\u001b[0;34m(\u001b[0m\u001b[0metb\u001b[0m\u001b[0;34m)\u001b[0m\u001b[0;34m\u001b[0m\u001b[0;34m\u001b[0m\u001b[0m\n\u001b[1;32m  11931\u001b[0m             \u001b[0madd\u001b[0m\u001b[0;34m(\u001b[0m\u001b[0mmul\u001b[0m\u001b[0;34m(\u001b[0m\u001b[0mipow\u001b[0m\u001b[0;34m(\u001b[0m\u001b[0mv_0\u001b[0m\u001b[0;34m,\u001b[0m \u001b[0;36m2\u001b[0m\u001b[0;34m)\u001b[0m\u001b[0;34m,\u001b[0m \u001b[0;36m2\u001b[0m\u001b[0;34m)\u001b[0m\u001b[0;34m,\u001b[0m \u001b[0mv_1\u001b[0m\u001b[0;34m)\u001b[0m\u001b[0;34m\u001b[0m\u001b[0;34m\u001b[0m\u001b[0m\n\u001b[0;32m> 11932\u001b[0;31m         \"\"\"\n\u001b[0m\u001b[1;32m  11933\u001b[0m         \u001b[0;32mfrom\u001b[0m \u001b[0msage\u001b[0m\u001b[0;34m.\u001b[0m\u001b[0msymbolic\u001b[0m\u001b[0;34m.\u001b[0m\u001b[0mexpression_conversions\u001b[0m \u001b[0;32mimport\u001b[0m \u001b[0mfast_callable\u001b[0m\u001b[0;34m\u001b[0m\u001b[0;34m\u001b[0m\u001b[0m\n\u001b[1;32m  11934\u001b[0m         \u001b[0;32mreturn\u001b[0m \u001b[0mfast_callable\u001b[0m\u001b[0;34m(\u001b[0m\u001b[0mself\u001b[0m\u001b[0;34m,\u001b[0m \u001b[0metb\u001b[0m\u001b[0;34m)\u001b[0m\u001b[0;34m\u001b[0m\u001b[0;34m\u001b[0m\u001b[0m\n",
      "\u001b[0;32m/opt/sagemath-9.0/local/lib/python3.7/site-packages/sage/symbolic/expression_conversions.py\u001b[0m in \u001b[0;36mfast_callable\u001b[0;34m(ex, etb)\u001b[0m\n\u001b[1;32m   1880\u001b[0m \u001b[0;34m\u001b[0m\u001b[0m\n\u001b[1;32m   1881\u001b[0m     \"\"\"\n\u001b[0;32m-> 1882\u001b[0;31m     \u001b[0;32mreturn\u001b[0m \u001b[0mFastCallableConverter\u001b[0m\u001b[0;34m(\u001b[0m\u001b[0mex\u001b[0m\u001b[0;34m,\u001b[0m \u001b[0metb\u001b[0m\u001b[0;34m)\u001b[0m\u001b[0;34m(\u001b[0m\u001b[0;34m)\u001b[0m\u001b[0;34m\u001b[0m\u001b[0;34m\u001b[0m\u001b[0m\n\u001b[0m\u001b[1;32m   1883\u001b[0m \u001b[0;34m\u001b[0m\u001b[0m\n\u001b[1;32m   1884\u001b[0m \u001b[0;32mclass\u001b[0m \u001b[0mRingConverter\u001b[0m\u001b[0;34m(\u001b[0m\u001b[0mConverter\u001b[0m\u001b[0;34m)\u001b[0m\u001b[0;34m:\u001b[0m\u001b[0;34m\u001b[0m\u001b[0;34m\u001b[0m\u001b[0m\n",
      "\u001b[0;32m/opt/sagemath-9.0/local/lib/python3.7/site-packages/sage/symbolic/expression_conversions.py\u001b[0m in \u001b[0;36m__call__\u001b[0;34m(self, ex)\u001b[0m\n\u001b[1;32m    215\u001b[0m             \u001b[0;32mif\u001b[0m \u001b[0mgetattr\u001b[0m\u001b[0;34m(\u001b[0m\u001b[0mself\u001b[0m\u001b[0;34m,\u001b[0m \u001b[0;34m'use_fake_div'\u001b[0m\u001b[0;34m,\u001b[0m \u001b[0;32mFalse\u001b[0m\u001b[0;34m)\u001b[0m \u001b[0;32mand\u001b[0m \u001b[0;34m(\u001b[0m\u001b[0moperator\u001b[0m \u001b[0;32mis\u001b[0m \u001b[0m_operator\u001b[0m\u001b[0;34m.\u001b[0m\u001b[0mmul\u001b[0m \u001b[0;32mor\u001b[0m \u001b[0moperator\u001b[0m \u001b[0;32mis\u001b[0m \u001b[0mmul_vararg\u001b[0m\u001b[0;34m)\u001b[0m\u001b[0;34m:\u001b[0m\u001b[0;34m\u001b[0m\u001b[0;34m\u001b[0m\u001b[0m\n\u001b[1;32m    216\u001b[0m                 \u001b[0mdiv\u001b[0m \u001b[0;34m=\u001b[0m \u001b[0mself\u001b[0m\u001b[0;34m.\u001b[0m\u001b[0mget_fake_div\u001b[0m\u001b[0;34m(\u001b[0m\u001b[0mex\u001b[0m\u001b[0;34m)\u001b[0m\u001b[0;34m\u001b[0m\u001b[0;34m\u001b[0m\u001b[0m\n\u001b[0;32m--> 217\u001b[0;31m                 \u001b[0;32mreturn\u001b[0m \u001b[0mself\u001b[0m\u001b[0;34m.\u001b[0m\u001b[0marithmetic\u001b[0m\u001b[0;34m(\u001b[0m\u001b[0mdiv\u001b[0m\u001b[0;34m,\u001b[0m \u001b[0mdiv\u001b[0m\u001b[0;34m.\u001b[0m\u001b[0moperator\u001b[0m\u001b[0;34m(\u001b[0m\u001b[0;34m)\u001b[0m\u001b[0;34m)\u001b[0m\u001b[0;34m\u001b[0m\u001b[0;34m\u001b[0m\u001b[0m\n\u001b[0m\u001b[1;32m    218\u001b[0m             \u001b[0;32mreturn\u001b[0m \u001b[0mself\u001b[0m\u001b[0;34m.\u001b[0m\u001b[0marithmetic\u001b[0m\u001b[0;34m(\u001b[0m\u001b[0mex\u001b[0m\u001b[0;34m,\u001b[0m \u001b[0moperator\u001b[0m\u001b[0;34m)\u001b[0m\u001b[0;34m\u001b[0m\u001b[0;34m\u001b[0m\u001b[0m\n\u001b[1;32m    219\u001b[0m         \u001b[0;32melif\u001b[0m \u001b[0moperator\u001b[0m \u001b[0;32min\u001b[0m \u001b[0mrelation_operators\u001b[0m\u001b[0;34m:\u001b[0m\u001b[0;34m\u001b[0m\u001b[0;34m\u001b[0m\u001b[0m\n",
      "\u001b[0;32m/opt/sagemath-9.0/local/lib/python3.7/site-packages/sage/symbolic/expression_conversions.py\u001b[0m in \u001b[0;36marithmetic\u001b[0;34m(self, ex, operator)\u001b[0m\n\u001b[1;32m   1808\u001b[0m         \u001b[0;32melif\u001b[0m \u001b[0moperator\u001b[0m \u001b[0;34m==\u001b[0m \u001b[0mmul_vararg\u001b[0m\u001b[0;34m:\u001b[0m\u001b[0;34m\u001b[0m\u001b[0;34m\u001b[0m\u001b[0m\n\u001b[1;32m   1809\u001b[0m             \u001b[0moperator\u001b[0m \u001b[0;34m=\u001b[0m \u001b[0m_operator\u001b[0m\u001b[0;34m.\u001b[0m\u001b[0mmul\u001b[0m\u001b[0;34m\u001b[0m\u001b[0;34m\u001b[0m\u001b[0m\n\u001b[0;32m-> 1810\u001b[0;31m         \u001b[0;32mreturn\u001b[0m \u001b[0mreduce\u001b[0m\u001b[0;34m(\u001b[0m\u001b[0;32mlambda\u001b[0m \u001b[0mx\u001b[0m\u001b[0;34m,\u001b[0m\u001b[0my\u001b[0m\u001b[0;34m:\u001b[0m \u001b[0mself\u001b[0m\u001b[0;34m.\u001b[0m\u001b[0metb\u001b[0m\u001b[0;34m.\u001b[0m\u001b[0mcall\u001b[0m\u001b[0;34m(\u001b[0m\u001b[0moperator\u001b[0m\u001b[0;34m,\u001b[0m \u001b[0mx\u001b[0m\u001b[0;34m,\u001b[0m\u001b[0my\u001b[0m\u001b[0;34m)\u001b[0m\u001b[0;34m,\u001b[0m \u001b[0moperands\u001b[0m\u001b[0;34m)\u001b[0m\u001b[0;34m\u001b[0m\u001b[0;34m\u001b[0m\u001b[0m\n\u001b[0m\u001b[1;32m   1811\u001b[0m \u001b[0;34m\u001b[0m\u001b[0m\n\u001b[1;32m   1812\u001b[0m     \u001b[0;32mdef\u001b[0m \u001b[0msymbol\u001b[0m\u001b[0;34m(\u001b[0m\u001b[0mself\u001b[0m\u001b[0;34m,\u001b[0m \u001b[0mex\u001b[0m\u001b[0;34m)\u001b[0m\u001b[0;34m:\u001b[0m\u001b[0;34m\u001b[0m\u001b[0;34m\u001b[0m\u001b[0m\n",
      "\u001b[0;32m/opt/sagemath-9.0/local/lib/python3.7/site-packages/sage/symbolic/expression_conversions.py\u001b[0m in \u001b[0;36m<lambda>\u001b[0;34m(x, y)\u001b[0m\n\u001b[1;32m   1808\u001b[0m         \u001b[0;32melif\u001b[0m \u001b[0moperator\u001b[0m \u001b[0;34m==\u001b[0m \u001b[0mmul_vararg\u001b[0m\u001b[0;34m:\u001b[0m\u001b[0;34m\u001b[0m\u001b[0;34m\u001b[0m\u001b[0m\n\u001b[1;32m   1809\u001b[0m             \u001b[0moperator\u001b[0m \u001b[0;34m=\u001b[0m \u001b[0m_operator\u001b[0m\u001b[0;34m.\u001b[0m\u001b[0mmul\u001b[0m\u001b[0;34m\u001b[0m\u001b[0;34m\u001b[0m\u001b[0m\n\u001b[0;32m-> 1810\u001b[0;31m         \u001b[0;32mreturn\u001b[0m \u001b[0mreduce\u001b[0m\u001b[0;34m(\u001b[0m\u001b[0;32mlambda\u001b[0m \u001b[0mx\u001b[0m\u001b[0;34m,\u001b[0m\u001b[0my\u001b[0m\u001b[0;34m:\u001b[0m \u001b[0mself\u001b[0m\u001b[0;34m.\u001b[0m\u001b[0metb\u001b[0m\u001b[0;34m.\u001b[0m\u001b[0mcall\u001b[0m\u001b[0;34m(\u001b[0m\u001b[0moperator\u001b[0m\u001b[0;34m,\u001b[0m \u001b[0mx\u001b[0m\u001b[0;34m,\u001b[0m\u001b[0my\u001b[0m\u001b[0;34m)\u001b[0m\u001b[0;34m,\u001b[0m \u001b[0moperands\u001b[0m\u001b[0;34m)\u001b[0m\u001b[0;34m\u001b[0m\u001b[0;34m\u001b[0m\u001b[0m\n\u001b[0m\u001b[1;32m   1811\u001b[0m \u001b[0;34m\u001b[0m\u001b[0m\n\u001b[1;32m   1812\u001b[0m     \u001b[0;32mdef\u001b[0m \u001b[0msymbol\u001b[0m\u001b[0;34m(\u001b[0m\u001b[0mself\u001b[0m\u001b[0;34m,\u001b[0m \u001b[0mex\u001b[0m\u001b[0;34m)\u001b[0m\u001b[0;34m:\u001b[0m\u001b[0;34m\u001b[0m\u001b[0;34m\u001b[0m\u001b[0m\n",
      "\u001b[0;32m/opt/sagemath-9.0/local/lib/python3.7/site-packages/sage/ext/fast_callable.pyx\u001b[0m in \u001b[0;36msage.ext.fast_callable.ExpressionTreeBuilder.call (build/cythonized/sage/ext/fast_callable.c:7214)\u001b[0;34m()\u001b[0m\n\u001b[1;32m    780\u001b[0m             \u001b[0;32mreturn\u001b[0m \u001b[0mself\u001b[0m\u001b[0;34m(\u001b[0m\u001b[0mbase\u001b[0m\u001b[0;34m)\u001b[0m\u001b[0;34m**\u001b[0m\u001b[0mexponent\u001b[0m\u001b[0;34m\u001b[0m\u001b[0;34m\u001b[0m\u001b[0m\n\u001b[1;32m    781\u001b[0m         \u001b[0;32melse\u001b[0m\u001b[0;34m:\u001b[0m\u001b[0;34m\u001b[0m\u001b[0;34m\u001b[0m\u001b[0m\n\u001b[0;32m--> 782\u001b[0;31m             \u001b[0;32mreturn\u001b[0m \u001b[0mExpressionCall\u001b[0m\u001b[0;34m(\u001b[0m\u001b[0mself\u001b[0m\u001b[0;34m,\u001b[0m \u001b[0mfn\u001b[0m\u001b[0;34m,\u001b[0m \u001b[0;34m[\u001b[0m\u001b[0mself\u001b[0m\u001b[0;34m(\u001b[0m\u001b[0ma\u001b[0m\u001b[0;34m)\u001b[0m \u001b[0;32mfor\u001b[0m \u001b[0ma\u001b[0m \u001b[0;32min\u001b[0m \u001b[0margs\u001b[0m\u001b[0;34m]\u001b[0m\u001b[0;34m)\u001b[0m\u001b[0;34m\u001b[0m\u001b[0;34m\u001b[0m\u001b[0m\n\u001b[0m\u001b[1;32m    783\u001b[0m \u001b[0;34m\u001b[0m\u001b[0m\n\u001b[1;32m    784\u001b[0m     \u001b[0;32mdef\u001b[0m \u001b[0mchoice\u001b[0m\u001b[0;34m(\u001b[0m\u001b[0mself\u001b[0m\u001b[0;34m,\u001b[0m \u001b[0mcond\u001b[0m\u001b[0;34m,\u001b[0m \u001b[0miftrue\u001b[0m\u001b[0;34m,\u001b[0m \u001b[0miffalse\u001b[0m\u001b[0;34m)\u001b[0m\u001b[0;34m:\u001b[0m\u001b[0;34m\u001b[0m\u001b[0;34m\u001b[0m\u001b[0m\n",
      "\u001b[0;32m/opt/sagemath-9.0/local/lib/python3.7/site-packages/sage/ext/fast_callable.pyx\u001b[0m in \u001b[0;36msage.ext.fast_callable.ExpressionTreeBuilder.__call__ (build/cythonized/sage/ext/fast_callable.c:6348)\u001b[0;34m()\u001b[0m\n\u001b[1;32m    654\u001b[0m             \u001b[0;32mreturn\u001b[0m \u001b[0mself\u001b[0m\u001b[0;34m.\u001b[0m\u001b[0mconstant\u001b[0m\u001b[0;34m(\u001b[0m\u001b[0mx\u001b[0m\u001b[0;34m)\u001b[0m\u001b[0;34m\u001b[0m\u001b[0;34m\u001b[0m\u001b[0m\n\u001b[1;32m    655\u001b[0m \u001b[0;34m\u001b[0m\u001b[0m\n\u001b[0;32m--> 656\u001b[0;31m         \u001b[0;32mreturn\u001b[0m \u001b[0mfc\u001b[0m\u001b[0;34m(\u001b[0m\u001b[0mself\u001b[0m\u001b[0;34m)\u001b[0m\u001b[0;34m\u001b[0m\u001b[0;34m\u001b[0m\u001b[0m\n\u001b[0m\u001b[1;32m    657\u001b[0m \u001b[0;34m\u001b[0m\u001b[0m\n\u001b[1;32m    658\u001b[0m     \u001b[0;32mdef\u001b[0m \u001b[0m_clean_var\u001b[0m\u001b[0;34m(\u001b[0m\u001b[0mself\u001b[0m\u001b[0;34m,\u001b[0m \u001b[0mv\u001b[0m\u001b[0;34m)\u001b[0m\u001b[0;34m:\u001b[0m\u001b[0;34m\u001b[0m\u001b[0;34m\u001b[0m\u001b[0m\n",
      "\u001b[0;32m/opt/sagemath-9.0/local/lib/python3.7/site-packages/sage/symbolic/expression.pyx\u001b[0m in \u001b[0;36msage.symbolic.expression.Expression._fast_callable_ (build/cythonized/sage/symbolic/expression.cpp:62644)\u001b[0;34m()\u001b[0m\n\u001b[1;32m  11930\u001b[0m             \u001b[0msage\u001b[0m\u001b[0;34m:\u001b[0m \u001b[0mf\u001b[0m\u001b[0;34m.\u001b[0m\u001b[0m_fast_callable_\u001b[0m\u001b[0;34m(\u001b[0m\u001b[0metb\u001b[0m\u001b[0;34m)\u001b[0m\u001b[0;34m\u001b[0m\u001b[0;34m\u001b[0m\u001b[0m\n\u001b[1;32m  11931\u001b[0m             \u001b[0madd\u001b[0m\u001b[0;34m(\u001b[0m\u001b[0mmul\u001b[0m\u001b[0;34m(\u001b[0m\u001b[0mipow\u001b[0m\u001b[0;34m(\u001b[0m\u001b[0mv_0\u001b[0m\u001b[0;34m,\u001b[0m \u001b[0;36m2\u001b[0m\u001b[0;34m)\u001b[0m\u001b[0;34m,\u001b[0m \u001b[0;36m2\u001b[0m\u001b[0;34m)\u001b[0m\u001b[0;34m,\u001b[0m \u001b[0mv_1\u001b[0m\u001b[0;34m)\u001b[0m\u001b[0;34m\u001b[0m\u001b[0;34m\u001b[0m\u001b[0m\n\u001b[0;32m> 11932\u001b[0;31m         \"\"\"\n\u001b[0m\u001b[1;32m  11933\u001b[0m         \u001b[0;32mfrom\u001b[0m \u001b[0msage\u001b[0m\u001b[0;34m.\u001b[0m\u001b[0msymbolic\u001b[0m\u001b[0;34m.\u001b[0m\u001b[0mexpression_conversions\u001b[0m \u001b[0;32mimport\u001b[0m \u001b[0mfast_callable\u001b[0m\u001b[0;34m\u001b[0m\u001b[0;34m\u001b[0m\u001b[0m\n\u001b[1;32m  11934\u001b[0m         \u001b[0;32mreturn\u001b[0m \u001b[0mfast_callable\u001b[0m\u001b[0;34m(\u001b[0m\u001b[0mself\u001b[0m\u001b[0;34m,\u001b[0m \u001b[0metb\u001b[0m\u001b[0;34m)\u001b[0m\u001b[0;34m\u001b[0m\u001b[0;34m\u001b[0m\u001b[0m\n",
      "\u001b[0;32m/opt/sagemath-9.0/local/lib/python3.7/site-packages/sage/symbolic/expression_conversions.py\u001b[0m in \u001b[0;36mfast_callable\u001b[0;34m(ex, etb)\u001b[0m\n\u001b[1;32m   1880\u001b[0m \u001b[0;34m\u001b[0m\u001b[0m\n\u001b[1;32m   1881\u001b[0m     \"\"\"\n\u001b[0;32m-> 1882\u001b[0;31m     \u001b[0;32mreturn\u001b[0m \u001b[0mFastCallableConverter\u001b[0m\u001b[0;34m(\u001b[0m\u001b[0mex\u001b[0m\u001b[0;34m,\u001b[0m \u001b[0metb\u001b[0m\u001b[0;34m)\u001b[0m\u001b[0;34m(\u001b[0m\u001b[0;34m)\u001b[0m\u001b[0;34m\u001b[0m\u001b[0;34m\u001b[0m\u001b[0m\n\u001b[0m\u001b[1;32m   1883\u001b[0m \u001b[0;34m\u001b[0m\u001b[0m\n\u001b[1;32m   1884\u001b[0m \u001b[0;32mclass\u001b[0m \u001b[0mRingConverter\u001b[0m\u001b[0;34m(\u001b[0m\u001b[0mConverter\u001b[0m\u001b[0;34m)\u001b[0m\u001b[0;34m:\u001b[0m\u001b[0;34m\u001b[0m\u001b[0;34m\u001b[0m\u001b[0m\n",
      "\u001b[0;32m/opt/sagemath-9.0/local/lib/python3.7/site-packages/sage/symbolic/expression_conversions.py\u001b[0m in \u001b[0;36m__call__\u001b[0;34m(self, ex)\u001b[0m\n\u001b[1;32m    224\u001b[0m             \u001b[0;32mreturn\u001b[0m \u001b[0mself\u001b[0m\u001b[0;34m.\u001b[0m\u001b[0mtuple\u001b[0m\u001b[0;34m(\u001b[0m\u001b[0mex\u001b[0m\u001b[0;34m)\u001b[0m\u001b[0;34m\u001b[0m\u001b[0;34m\u001b[0m\u001b[0m\n\u001b[1;32m    225\u001b[0m         \u001b[0;32melse\u001b[0m\u001b[0;34m:\u001b[0m\u001b[0;34m\u001b[0m\u001b[0;34m\u001b[0m\u001b[0m\n\u001b[0;32m--> 226\u001b[0;31m             \u001b[0;32mreturn\u001b[0m \u001b[0mself\u001b[0m\u001b[0;34m.\u001b[0m\u001b[0mcomposition\u001b[0m\u001b[0;34m(\u001b[0m\u001b[0mex\u001b[0m\u001b[0;34m,\u001b[0m \u001b[0moperator\u001b[0m\u001b[0;34m)\u001b[0m\u001b[0;34m\u001b[0m\u001b[0;34m\u001b[0m\u001b[0m\n\u001b[0m\u001b[1;32m    227\u001b[0m \u001b[0;34m\u001b[0m\u001b[0m\n\u001b[1;32m    228\u001b[0m     \u001b[0;32mdef\u001b[0m \u001b[0mget_fake_div\u001b[0m\u001b[0;34m(\u001b[0m\u001b[0mself\u001b[0m\u001b[0;34m,\u001b[0m \u001b[0mex\u001b[0m\u001b[0;34m)\u001b[0m\u001b[0;34m:\u001b[0m\u001b[0;34m\u001b[0m\u001b[0;34m\u001b[0m\u001b[0m\n",
      "\u001b[0;32m/opt/sagemath-9.0/local/lib/python3.7/site-packages/sage/symbolic/expression_conversions.py\u001b[0m in \u001b[0;36mcomposition\u001b[0;34m(self, ex, function)\u001b[0m\n\u001b[1;32m   1846\u001b[0m             \u001b[0;34m{\u001b[0m\u001b[0marctan2\u001b[0m\u001b[0;34m}\u001b[0m\u001b[0;34m(\u001b[0m\u001b[0mv_0\u001b[0m\u001b[0;34m,\u001b[0m \u001b[0mv_1\u001b[0m\u001b[0;34m)\u001b[0m\u001b[0;34m\u001b[0m\u001b[0;34m\u001b[0m\u001b[0m\n\u001b[1;32m   1847\u001b[0m         \"\"\"\n\u001b[0;32m-> 1848\u001b[0;31m         \u001b[0;32mreturn\u001b[0m \u001b[0mself\u001b[0m\u001b[0;34m.\u001b[0m\u001b[0metb\u001b[0m\u001b[0;34m.\u001b[0m\u001b[0mcall\u001b[0m\u001b[0;34m(\u001b[0m\u001b[0mfunction\u001b[0m\u001b[0;34m,\u001b[0m \u001b[0;34m*\u001b[0m\u001b[0mex\u001b[0m\u001b[0;34m.\u001b[0m\u001b[0moperands\u001b[0m\u001b[0;34m(\u001b[0m\u001b[0;34m)\u001b[0m\u001b[0;34m)\u001b[0m\u001b[0;34m\u001b[0m\u001b[0;34m\u001b[0m\u001b[0m\n\u001b[0m\u001b[1;32m   1849\u001b[0m \u001b[0;34m\u001b[0m\u001b[0m\n\u001b[1;32m   1850\u001b[0m     \u001b[0;32mdef\u001b[0m \u001b[0mtuple\u001b[0m\u001b[0;34m(\u001b[0m\u001b[0mself\u001b[0m\u001b[0;34m,\u001b[0m \u001b[0mex\u001b[0m\u001b[0;34m)\u001b[0m\u001b[0;34m:\u001b[0m\u001b[0;34m\u001b[0m\u001b[0;34m\u001b[0m\u001b[0m\n",
      "\u001b[0;32m/opt/sagemath-9.0/local/lib/python3.7/site-packages/sage/ext/fast_callable.pyx\u001b[0m in \u001b[0;36msage.ext.fast_callable.ExpressionTreeBuilder.call (build/cythonized/sage/ext/fast_callable.c:7214)\u001b[0;34m()\u001b[0m\n\u001b[1;32m    780\u001b[0m             \u001b[0;32mreturn\u001b[0m \u001b[0mself\u001b[0m\u001b[0;34m(\u001b[0m\u001b[0mbase\u001b[0m\u001b[0;34m)\u001b[0m\u001b[0;34m**\u001b[0m\u001b[0mexponent\u001b[0m\u001b[0;34m\u001b[0m\u001b[0;34m\u001b[0m\u001b[0m\n\u001b[1;32m    781\u001b[0m         \u001b[0;32melse\u001b[0m\u001b[0;34m:\u001b[0m\u001b[0;34m\u001b[0m\u001b[0;34m\u001b[0m\u001b[0m\n\u001b[0;32m--> 782\u001b[0;31m             \u001b[0;32mreturn\u001b[0m \u001b[0mExpressionCall\u001b[0m\u001b[0;34m(\u001b[0m\u001b[0mself\u001b[0m\u001b[0;34m,\u001b[0m \u001b[0mfn\u001b[0m\u001b[0;34m,\u001b[0m \u001b[0;34m[\u001b[0m\u001b[0mself\u001b[0m\u001b[0;34m(\u001b[0m\u001b[0ma\u001b[0m\u001b[0;34m)\u001b[0m \u001b[0;32mfor\u001b[0m \u001b[0ma\u001b[0m \u001b[0;32min\u001b[0m \u001b[0margs\u001b[0m\u001b[0;34m]\u001b[0m\u001b[0;34m)\u001b[0m\u001b[0;34m\u001b[0m\u001b[0;34m\u001b[0m\u001b[0m\n\u001b[0m\u001b[1;32m    783\u001b[0m \u001b[0;34m\u001b[0m\u001b[0m\n\u001b[1;32m    784\u001b[0m     \u001b[0;32mdef\u001b[0m \u001b[0mchoice\u001b[0m\u001b[0;34m(\u001b[0m\u001b[0mself\u001b[0m\u001b[0;34m,\u001b[0m \u001b[0mcond\u001b[0m\u001b[0;34m,\u001b[0m \u001b[0miftrue\u001b[0m\u001b[0;34m,\u001b[0m \u001b[0miffalse\u001b[0m\u001b[0;34m)\u001b[0m\u001b[0;34m:\u001b[0m\u001b[0;34m\u001b[0m\u001b[0;34m\u001b[0m\u001b[0m\n",
      "\u001b[0;32m/opt/sagemath-9.0/local/lib/python3.7/site-packages/sage/ext/fast_callable.pyx\u001b[0m in \u001b[0;36msage.ext.fast_callable.ExpressionTreeBuilder.__call__ (build/cythonized/sage/ext/fast_callable.c:6348)\u001b[0;34m()\u001b[0m\n\u001b[1;32m    654\u001b[0m             \u001b[0;32mreturn\u001b[0m \u001b[0mself\u001b[0m\u001b[0;34m.\u001b[0m\u001b[0mconstant\u001b[0m\u001b[0;34m(\u001b[0m\u001b[0mx\u001b[0m\u001b[0;34m)\u001b[0m\u001b[0;34m\u001b[0m\u001b[0;34m\u001b[0m\u001b[0m\n\u001b[1;32m    655\u001b[0m \u001b[0;34m\u001b[0m\u001b[0m\n\u001b[0;32m--> 656\u001b[0;31m         \u001b[0;32mreturn\u001b[0m \u001b[0mfc\u001b[0m\u001b[0;34m(\u001b[0m\u001b[0mself\u001b[0m\u001b[0;34m)\u001b[0m\u001b[0;34m\u001b[0m\u001b[0;34m\u001b[0m\u001b[0m\n\u001b[0m\u001b[1;32m    657\u001b[0m \u001b[0;34m\u001b[0m\u001b[0m\n\u001b[1;32m    658\u001b[0m     \u001b[0;32mdef\u001b[0m \u001b[0m_clean_var\u001b[0m\u001b[0;34m(\u001b[0m\u001b[0mself\u001b[0m\u001b[0;34m,\u001b[0m \u001b[0mv\u001b[0m\u001b[0;34m)\u001b[0m\u001b[0;34m:\u001b[0m\u001b[0;34m\u001b[0m\u001b[0;34m\u001b[0m\u001b[0m\n",
      "\u001b[0;32m/opt/sagemath-9.0/local/lib/python3.7/site-packages/sage/symbolic/expression.pyx\u001b[0m in \u001b[0;36msage.symbolic.expression.Expression._fast_callable_ (build/cythonized/sage/symbolic/expression.cpp:62644)\u001b[0;34m()\u001b[0m\n\u001b[1;32m  11930\u001b[0m             \u001b[0msage\u001b[0m\u001b[0;34m:\u001b[0m \u001b[0mf\u001b[0m\u001b[0;34m.\u001b[0m\u001b[0m_fast_callable_\u001b[0m\u001b[0;34m(\u001b[0m\u001b[0metb\u001b[0m\u001b[0;34m)\u001b[0m\u001b[0;34m\u001b[0m\u001b[0;34m\u001b[0m\u001b[0m\n\u001b[1;32m  11931\u001b[0m             \u001b[0madd\u001b[0m\u001b[0;34m(\u001b[0m\u001b[0mmul\u001b[0m\u001b[0;34m(\u001b[0m\u001b[0mipow\u001b[0m\u001b[0;34m(\u001b[0m\u001b[0mv_0\u001b[0m\u001b[0;34m,\u001b[0m \u001b[0;36m2\u001b[0m\u001b[0;34m)\u001b[0m\u001b[0;34m,\u001b[0m \u001b[0;36m2\u001b[0m\u001b[0;34m)\u001b[0m\u001b[0;34m,\u001b[0m \u001b[0mv_1\u001b[0m\u001b[0;34m)\u001b[0m\u001b[0;34m\u001b[0m\u001b[0;34m\u001b[0m\u001b[0m\n\u001b[0;32m> 11932\u001b[0;31m         \"\"\"\n\u001b[0m\u001b[1;32m  11933\u001b[0m         \u001b[0;32mfrom\u001b[0m \u001b[0msage\u001b[0m\u001b[0;34m.\u001b[0m\u001b[0msymbolic\u001b[0m\u001b[0;34m.\u001b[0m\u001b[0mexpression_conversions\u001b[0m \u001b[0;32mimport\u001b[0m \u001b[0mfast_callable\u001b[0m\u001b[0;34m\u001b[0m\u001b[0;34m\u001b[0m\u001b[0m\n\u001b[1;32m  11934\u001b[0m         \u001b[0;32mreturn\u001b[0m \u001b[0mfast_callable\u001b[0m\u001b[0;34m(\u001b[0m\u001b[0mself\u001b[0m\u001b[0;34m,\u001b[0m \u001b[0metb\u001b[0m\u001b[0;34m)\u001b[0m\u001b[0;34m\u001b[0m\u001b[0;34m\u001b[0m\u001b[0m\n",
      "\u001b[0;32m/opt/sagemath-9.0/local/lib/python3.7/site-packages/sage/symbolic/expression_conversions.py\u001b[0m in \u001b[0;36mfast_callable\u001b[0;34m(ex, etb)\u001b[0m\n\u001b[1;32m   1880\u001b[0m \u001b[0;34m\u001b[0m\u001b[0m\n\u001b[1;32m   1881\u001b[0m     \"\"\"\n\u001b[0;32m-> 1882\u001b[0;31m     \u001b[0;32mreturn\u001b[0m \u001b[0mFastCallableConverter\u001b[0m\u001b[0;34m(\u001b[0m\u001b[0mex\u001b[0m\u001b[0;34m,\u001b[0m \u001b[0metb\u001b[0m\u001b[0;34m)\u001b[0m\u001b[0;34m(\u001b[0m\u001b[0;34m)\u001b[0m\u001b[0;34m\u001b[0m\u001b[0;34m\u001b[0m\u001b[0m\n\u001b[0m\u001b[1;32m   1883\u001b[0m \u001b[0;34m\u001b[0m\u001b[0m\n\u001b[1;32m   1884\u001b[0m \u001b[0;32mclass\u001b[0m \u001b[0mRingConverter\u001b[0m\u001b[0;34m(\u001b[0m\u001b[0mConverter\u001b[0m\u001b[0;34m)\u001b[0m\u001b[0;34m:\u001b[0m\u001b[0;34m\u001b[0m\u001b[0;34m\u001b[0m\u001b[0m\n",
      "\u001b[0;32m/opt/sagemath-9.0/local/lib/python3.7/site-packages/sage/symbolic/expression_conversions.py\u001b[0m in \u001b[0;36m__call__\u001b[0;34m(self, ex)\u001b[0m\n\u001b[1;32m    215\u001b[0m             \u001b[0;32mif\u001b[0m \u001b[0mgetattr\u001b[0m\u001b[0;34m(\u001b[0m\u001b[0mself\u001b[0m\u001b[0;34m,\u001b[0m \u001b[0;34m'use_fake_div'\u001b[0m\u001b[0;34m,\u001b[0m \u001b[0;32mFalse\u001b[0m\u001b[0;34m)\u001b[0m \u001b[0;32mand\u001b[0m \u001b[0;34m(\u001b[0m\u001b[0moperator\u001b[0m \u001b[0;32mis\u001b[0m \u001b[0m_operator\u001b[0m\u001b[0;34m.\u001b[0m\u001b[0mmul\u001b[0m \u001b[0;32mor\u001b[0m \u001b[0moperator\u001b[0m \u001b[0;32mis\u001b[0m \u001b[0mmul_vararg\u001b[0m\u001b[0;34m)\u001b[0m\u001b[0;34m:\u001b[0m\u001b[0;34m\u001b[0m\u001b[0;34m\u001b[0m\u001b[0m\n\u001b[1;32m    216\u001b[0m                 \u001b[0mdiv\u001b[0m \u001b[0;34m=\u001b[0m \u001b[0mself\u001b[0m\u001b[0;34m.\u001b[0m\u001b[0mget_fake_div\u001b[0m\u001b[0;34m(\u001b[0m\u001b[0mex\u001b[0m\u001b[0;34m)\u001b[0m\u001b[0;34m\u001b[0m\u001b[0;34m\u001b[0m\u001b[0m\n\u001b[0;32m--> 217\u001b[0;31m                 \u001b[0;32mreturn\u001b[0m \u001b[0mself\u001b[0m\u001b[0;34m.\u001b[0m\u001b[0marithmetic\u001b[0m\u001b[0;34m(\u001b[0m\u001b[0mdiv\u001b[0m\u001b[0;34m,\u001b[0m \u001b[0mdiv\u001b[0m\u001b[0;34m.\u001b[0m\u001b[0moperator\u001b[0m\u001b[0;34m(\u001b[0m\u001b[0;34m)\u001b[0m\u001b[0;34m)\u001b[0m\u001b[0;34m\u001b[0m\u001b[0;34m\u001b[0m\u001b[0m\n\u001b[0m\u001b[1;32m    218\u001b[0m             \u001b[0;32mreturn\u001b[0m \u001b[0mself\u001b[0m\u001b[0;34m.\u001b[0m\u001b[0marithmetic\u001b[0m\u001b[0;34m(\u001b[0m\u001b[0mex\u001b[0m\u001b[0;34m,\u001b[0m \u001b[0moperator\u001b[0m\u001b[0;34m)\u001b[0m\u001b[0;34m\u001b[0m\u001b[0;34m\u001b[0m\u001b[0m\n\u001b[1;32m    219\u001b[0m         \u001b[0;32melif\u001b[0m \u001b[0moperator\u001b[0m \u001b[0;32min\u001b[0m \u001b[0mrelation_operators\u001b[0m\u001b[0;34m:\u001b[0m\u001b[0;34m\u001b[0m\u001b[0;34m\u001b[0m\u001b[0m\n",
      "\u001b[0;32m/opt/sagemath-9.0/local/lib/python3.7/site-packages/sage/symbolic/expression_conversions.py\u001b[0m in \u001b[0;36marithmetic\u001b[0;34m(self, ex, operator)\u001b[0m\n\u001b[1;32m   1808\u001b[0m         \u001b[0;32melif\u001b[0m \u001b[0moperator\u001b[0m \u001b[0;34m==\u001b[0m \u001b[0mmul_vararg\u001b[0m\u001b[0;34m:\u001b[0m\u001b[0;34m\u001b[0m\u001b[0;34m\u001b[0m\u001b[0m\n\u001b[1;32m   1809\u001b[0m             \u001b[0moperator\u001b[0m \u001b[0;34m=\u001b[0m \u001b[0m_operator\u001b[0m\u001b[0;34m.\u001b[0m\u001b[0mmul\u001b[0m\u001b[0;34m\u001b[0m\u001b[0;34m\u001b[0m\u001b[0m\n\u001b[0;32m-> 1810\u001b[0;31m         \u001b[0;32mreturn\u001b[0m \u001b[0mreduce\u001b[0m\u001b[0;34m(\u001b[0m\u001b[0;32mlambda\u001b[0m \u001b[0mx\u001b[0m\u001b[0;34m,\u001b[0m\u001b[0my\u001b[0m\u001b[0;34m:\u001b[0m \u001b[0mself\u001b[0m\u001b[0;34m.\u001b[0m\u001b[0metb\u001b[0m\u001b[0;34m.\u001b[0m\u001b[0mcall\u001b[0m\u001b[0;34m(\u001b[0m\u001b[0moperator\u001b[0m\u001b[0;34m,\u001b[0m \u001b[0mx\u001b[0m\u001b[0;34m,\u001b[0m\u001b[0my\u001b[0m\u001b[0;34m)\u001b[0m\u001b[0;34m,\u001b[0m \u001b[0moperands\u001b[0m\u001b[0;34m)\u001b[0m\u001b[0;34m\u001b[0m\u001b[0;34m\u001b[0m\u001b[0m\n\u001b[0m\u001b[1;32m   1811\u001b[0m \u001b[0;34m\u001b[0m\u001b[0m\n\u001b[1;32m   1812\u001b[0m     \u001b[0;32mdef\u001b[0m \u001b[0msymbol\u001b[0m\u001b[0;34m(\u001b[0m\u001b[0mself\u001b[0m\u001b[0;34m,\u001b[0m \u001b[0mex\u001b[0m\u001b[0;34m)\u001b[0m\u001b[0;34m:\u001b[0m\u001b[0;34m\u001b[0m\u001b[0;34m\u001b[0m\u001b[0m\n",
      "\u001b[0;32m/opt/sagemath-9.0/local/lib/python3.7/site-packages/sage/symbolic/expression_conversions.py\u001b[0m in \u001b[0;36m<lambda>\u001b[0;34m(x, y)\u001b[0m\n\u001b[1;32m   1808\u001b[0m         \u001b[0;32melif\u001b[0m \u001b[0moperator\u001b[0m \u001b[0;34m==\u001b[0m \u001b[0mmul_vararg\u001b[0m\u001b[0;34m:\u001b[0m\u001b[0;34m\u001b[0m\u001b[0;34m\u001b[0m\u001b[0m\n\u001b[1;32m   1809\u001b[0m             \u001b[0moperator\u001b[0m \u001b[0;34m=\u001b[0m \u001b[0m_operator\u001b[0m\u001b[0;34m.\u001b[0m\u001b[0mmul\u001b[0m\u001b[0;34m\u001b[0m\u001b[0;34m\u001b[0m\u001b[0m\n\u001b[0;32m-> 1810\u001b[0;31m         \u001b[0;32mreturn\u001b[0m \u001b[0mreduce\u001b[0m\u001b[0;34m(\u001b[0m\u001b[0;32mlambda\u001b[0m \u001b[0mx\u001b[0m\u001b[0;34m,\u001b[0m\u001b[0my\u001b[0m\u001b[0;34m:\u001b[0m \u001b[0mself\u001b[0m\u001b[0;34m.\u001b[0m\u001b[0metb\u001b[0m\u001b[0;34m.\u001b[0m\u001b[0mcall\u001b[0m\u001b[0;34m(\u001b[0m\u001b[0moperator\u001b[0m\u001b[0;34m,\u001b[0m \u001b[0mx\u001b[0m\u001b[0;34m,\u001b[0m\u001b[0my\u001b[0m\u001b[0;34m)\u001b[0m\u001b[0;34m,\u001b[0m \u001b[0moperands\u001b[0m\u001b[0;34m)\u001b[0m\u001b[0;34m\u001b[0m\u001b[0;34m\u001b[0m\u001b[0m\n\u001b[0m\u001b[1;32m   1811\u001b[0m \u001b[0;34m\u001b[0m\u001b[0m\n\u001b[1;32m   1812\u001b[0m     \u001b[0;32mdef\u001b[0m \u001b[0msymbol\u001b[0m\u001b[0;34m(\u001b[0m\u001b[0mself\u001b[0m\u001b[0;34m,\u001b[0m \u001b[0mex\u001b[0m\u001b[0;34m)\u001b[0m\u001b[0;34m:\u001b[0m\u001b[0;34m\u001b[0m\u001b[0;34m\u001b[0m\u001b[0m\n",
      "\u001b[0;32m/opt/sagemath-9.0/local/lib/python3.7/site-packages/sage/ext/fast_callable.pyx\u001b[0m in \u001b[0;36msage.ext.fast_callable.ExpressionTreeBuilder.call (build/cythonized/sage/ext/fast_callable.c:7214)\u001b[0;34m()\u001b[0m\n\u001b[1;32m    780\u001b[0m             \u001b[0;32mreturn\u001b[0m \u001b[0mself\u001b[0m\u001b[0;34m(\u001b[0m\u001b[0mbase\u001b[0m\u001b[0;34m)\u001b[0m\u001b[0;34m**\u001b[0m\u001b[0mexponent\u001b[0m\u001b[0;34m\u001b[0m\u001b[0;34m\u001b[0m\u001b[0m\n\u001b[1;32m    781\u001b[0m         \u001b[0;32melse\u001b[0m\u001b[0;34m:\u001b[0m\u001b[0;34m\u001b[0m\u001b[0;34m\u001b[0m\u001b[0m\n\u001b[0;32m--> 782\u001b[0;31m             \u001b[0;32mreturn\u001b[0m \u001b[0mExpressionCall\u001b[0m\u001b[0;34m(\u001b[0m\u001b[0mself\u001b[0m\u001b[0;34m,\u001b[0m \u001b[0mfn\u001b[0m\u001b[0;34m,\u001b[0m \u001b[0;34m[\u001b[0m\u001b[0mself\u001b[0m\u001b[0;34m(\u001b[0m\u001b[0ma\u001b[0m\u001b[0;34m)\u001b[0m \u001b[0;32mfor\u001b[0m \u001b[0ma\u001b[0m \u001b[0;32min\u001b[0m \u001b[0margs\u001b[0m\u001b[0;34m]\u001b[0m\u001b[0;34m)\u001b[0m\u001b[0;34m\u001b[0m\u001b[0;34m\u001b[0m\u001b[0m\n\u001b[0m\u001b[1;32m    783\u001b[0m \u001b[0;34m\u001b[0m\u001b[0m\n\u001b[1;32m    784\u001b[0m     \u001b[0;32mdef\u001b[0m \u001b[0mchoice\u001b[0m\u001b[0;34m(\u001b[0m\u001b[0mself\u001b[0m\u001b[0;34m,\u001b[0m \u001b[0mcond\u001b[0m\u001b[0;34m,\u001b[0m \u001b[0miftrue\u001b[0m\u001b[0;34m,\u001b[0m \u001b[0miffalse\u001b[0m\u001b[0;34m)\u001b[0m\u001b[0;34m:\u001b[0m\u001b[0;34m\u001b[0m\u001b[0;34m\u001b[0m\u001b[0m\n",
      "\u001b[0;32m/opt/sagemath-9.0/local/lib/python3.7/site-packages/sage/ext/fast_callable.pyx\u001b[0m in \u001b[0;36msage.ext.fast_callable.ExpressionTreeBuilder.__call__ (build/cythonized/sage/ext/fast_callable.c:6348)\u001b[0;34m()\u001b[0m\n\u001b[1;32m    654\u001b[0m             \u001b[0;32mreturn\u001b[0m \u001b[0mself\u001b[0m\u001b[0;34m.\u001b[0m\u001b[0mconstant\u001b[0m\u001b[0;34m(\u001b[0m\u001b[0mx\u001b[0m\u001b[0;34m)\u001b[0m\u001b[0;34m\u001b[0m\u001b[0;34m\u001b[0m\u001b[0m\n\u001b[1;32m    655\u001b[0m \u001b[0;34m\u001b[0m\u001b[0m\n\u001b[0;32m--> 656\u001b[0;31m         \u001b[0;32mreturn\u001b[0m \u001b[0mfc\u001b[0m\u001b[0;34m(\u001b[0m\u001b[0mself\u001b[0m\u001b[0;34m)\u001b[0m\u001b[0;34m\u001b[0m\u001b[0;34m\u001b[0m\u001b[0m\n\u001b[0m\u001b[1;32m    657\u001b[0m \u001b[0;34m\u001b[0m\u001b[0m\n\u001b[1;32m    658\u001b[0m     \u001b[0;32mdef\u001b[0m \u001b[0m_clean_var\u001b[0m\u001b[0;34m(\u001b[0m\u001b[0mself\u001b[0m\u001b[0;34m,\u001b[0m \u001b[0mv\u001b[0m\u001b[0;34m)\u001b[0m\u001b[0;34m:\u001b[0m\u001b[0;34m\u001b[0m\u001b[0;34m\u001b[0m\u001b[0m\n",
      "\u001b[0;32m/opt/sagemath-9.0/local/lib/python3.7/site-packages/sage/symbolic/expression.pyx\u001b[0m in \u001b[0;36msage.symbolic.expression.Expression._fast_callable_ (build/cythonized/sage/symbolic/expression.cpp:62644)\u001b[0;34m()\u001b[0m\n\u001b[1;32m  11930\u001b[0m             \u001b[0msage\u001b[0m\u001b[0;34m:\u001b[0m \u001b[0mf\u001b[0m\u001b[0;34m.\u001b[0m\u001b[0m_fast_callable_\u001b[0m\u001b[0;34m(\u001b[0m\u001b[0metb\u001b[0m\u001b[0;34m)\u001b[0m\u001b[0;34m\u001b[0m\u001b[0;34m\u001b[0m\u001b[0m\n\u001b[1;32m  11931\u001b[0m             \u001b[0madd\u001b[0m\u001b[0;34m(\u001b[0m\u001b[0mmul\u001b[0m\u001b[0;34m(\u001b[0m\u001b[0mipow\u001b[0m\u001b[0;34m(\u001b[0m\u001b[0mv_0\u001b[0m\u001b[0;34m,\u001b[0m \u001b[0;36m2\u001b[0m\u001b[0;34m)\u001b[0m\u001b[0;34m,\u001b[0m \u001b[0;36m2\u001b[0m\u001b[0;34m)\u001b[0m\u001b[0;34m,\u001b[0m \u001b[0mv_1\u001b[0m\u001b[0;34m)\u001b[0m\u001b[0;34m\u001b[0m\u001b[0;34m\u001b[0m\u001b[0m\n\u001b[0;32m> 11932\u001b[0;31m         \"\"\"\n\u001b[0m\u001b[1;32m  11933\u001b[0m         \u001b[0;32mfrom\u001b[0m \u001b[0msage\u001b[0m\u001b[0;34m.\u001b[0m\u001b[0msymbolic\u001b[0m\u001b[0;34m.\u001b[0m\u001b[0mexpression_conversions\u001b[0m \u001b[0;32mimport\u001b[0m \u001b[0mfast_callable\u001b[0m\u001b[0;34m\u001b[0m\u001b[0;34m\u001b[0m\u001b[0m\n\u001b[1;32m  11934\u001b[0m         \u001b[0;32mreturn\u001b[0m \u001b[0mfast_callable\u001b[0m\u001b[0;34m(\u001b[0m\u001b[0mself\u001b[0m\u001b[0;34m,\u001b[0m \u001b[0metb\u001b[0m\u001b[0;34m)\u001b[0m\u001b[0;34m\u001b[0m\u001b[0;34m\u001b[0m\u001b[0m\n",
      "\u001b[0;32m/opt/sagemath-9.0/local/lib/python3.7/site-packages/sage/symbolic/expression_conversions.py\u001b[0m in \u001b[0;36mfast_callable\u001b[0;34m(ex, etb)\u001b[0m\n\u001b[1;32m   1880\u001b[0m \u001b[0;34m\u001b[0m\u001b[0m\n\u001b[1;32m   1881\u001b[0m     \"\"\"\n\u001b[0;32m-> 1882\u001b[0;31m     \u001b[0;32mreturn\u001b[0m \u001b[0mFastCallableConverter\u001b[0m\u001b[0;34m(\u001b[0m\u001b[0mex\u001b[0m\u001b[0;34m,\u001b[0m \u001b[0metb\u001b[0m\u001b[0;34m)\u001b[0m\u001b[0;34m(\u001b[0m\u001b[0;34m)\u001b[0m\u001b[0;34m\u001b[0m\u001b[0;34m\u001b[0m\u001b[0m\n\u001b[0m\u001b[1;32m   1883\u001b[0m \u001b[0;34m\u001b[0m\u001b[0m\n\u001b[1;32m   1884\u001b[0m \u001b[0;32mclass\u001b[0m \u001b[0mRingConverter\u001b[0m\u001b[0;34m(\u001b[0m\u001b[0mConverter\u001b[0m\u001b[0;34m)\u001b[0m\u001b[0;34m:\u001b[0m\u001b[0;34m\u001b[0m\u001b[0;34m\u001b[0m\u001b[0m\n",
      "\u001b[0;32m/opt/sagemath-9.0/local/lib/python3.7/site-packages/sage/symbolic/expression_conversions.py\u001b[0m in \u001b[0;36m__call__\u001b[0;34m(self, ex)\u001b[0m\n\u001b[1;32m    210\u001b[0m         \u001b[0moperator\u001b[0m \u001b[0;34m=\u001b[0m \u001b[0mex\u001b[0m\u001b[0;34m.\u001b[0m\u001b[0moperator\u001b[0m\u001b[0;34m(\u001b[0m\u001b[0;34m)\u001b[0m\u001b[0;34m\u001b[0m\u001b[0;34m\u001b[0m\u001b[0m\n\u001b[1;32m    211\u001b[0m         \u001b[0;32mif\u001b[0m \u001b[0moperator\u001b[0m \u001b[0;32mis\u001b[0m \u001b[0;32mNone\u001b[0m\u001b[0;34m:\u001b[0m\u001b[0;34m\u001b[0m\u001b[0;34m\u001b[0m\u001b[0m\n\u001b[0;32m--> 212\u001b[0;31m             \u001b[0;32mreturn\u001b[0m \u001b[0mself\u001b[0m\u001b[0;34m.\u001b[0m\u001b[0msymbol\u001b[0m\u001b[0;34m(\u001b[0m\u001b[0mex\u001b[0m\u001b[0;34m)\u001b[0m\u001b[0;34m\u001b[0m\u001b[0;34m\u001b[0m\u001b[0m\n\u001b[0m\u001b[1;32m    213\u001b[0m \u001b[0;34m\u001b[0m\u001b[0m\n\u001b[1;32m    214\u001b[0m         \u001b[0;32mif\u001b[0m \u001b[0moperator\u001b[0m \u001b[0;32min\u001b[0m \u001b[0marithmetic_operators\u001b[0m\u001b[0;34m:\u001b[0m\u001b[0;34m\u001b[0m\u001b[0;34m\u001b[0m\u001b[0m\n",
      "\u001b[0;32m/opt/sagemath-9.0/local/lib/python3.7/site-packages/sage/symbolic/expression_conversions.py\u001b[0m in \u001b[0;36msymbol\u001b[0;34m(self, ex)\u001b[0m\n\u001b[1;32m   1829\u001b[0m             \u001b[0mValueError\u001b[0m\u001b[0;34m:\u001b[0m \u001b[0mVariable\u001b[0m \u001b[0;34m'z'\u001b[0m \u001b[0;32mnot\u001b[0m \u001b[0mfound\u001b[0m\u001b[0;34m\u001b[0m\u001b[0;34m\u001b[0m\u001b[0m\n\u001b[1;32m   1830\u001b[0m         \"\"\"\n\u001b[0;32m-> 1831\u001b[0;31m         \u001b[0;32mreturn\u001b[0m \u001b[0mself\u001b[0m\u001b[0;34m.\u001b[0m\u001b[0metb\u001b[0m\u001b[0;34m.\u001b[0m\u001b[0mvar\u001b[0m\u001b[0;34m(\u001b[0m\u001b[0mSR\u001b[0m\u001b[0;34m(\u001b[0m\u001b[0mex\u001b[0m\u001b[0;34m)\u001b[0m\u001b[0;34m)\u001b[0m\u001b[0;34m\u001b[0m\u001b[0;34m\u001b[0m\u001b[0m\n\u001b[0m\u001b[1;32m   1832\u001b[0m \u001b[0;34m\u001b[0m\u001b[0m\n\u001b[1;32m   1833\u001b[0m     \u001b[0;32mdef\u001b[0m \u001b[0mcomposition\u001b[0m\u001b[0;34m(\u001b[0m\u001b[0mself\u001b[0m\u001b[0;34m,\u001b[0m \u001b[0mex\u001b[0m\u001b[0;34m,\u001b[0m \u001b[0mfunction\u001b[0m\u001b[0;34m)\u001b[0m\u001b[0;34m:\u001b[0m\u001b[0;34m\u001b[0m\u001b[0;34m\u001b[0m\u001b[0m\n",
      "\u001b[0;32m/opt/sagemath-9.0/local/lib/python3.7/site-packages/sage/ext/fast_callable.pyx\u001b[0m in \u001b[0;36msage.ext.fast_callable.ExpressionTreeBuilder.var (build/cythonized/sage/ext/fast_callable.c:6810)\u001b[0;34m()\u001b[0m\n\u001b[1;32m    726\u001b[0m             \u001b[0mind\u001b[0m \u001b[0;34m=\u001b[0m \u001b[0mself\u001b[0m\u001b[0;34m.\u001b[0m\u001b[0m_vars\u001b[0m\u001b[0;34m.\u001b[0m\u001b[0mindex\u001b[0m\u001b[0;34m(\u001b[0m\u001b[0mvar_name\u001b[0m\u001b[0;34m)\u001b[0m\u001b[0;34m\u001b[0m\u001b[0;34m\u001b[0m\u001b[0m\n\u001b[1;32m    727\u001b[0m         \u001b[0;32mexcept\u001b[0m \u001b[0mValueError\u001b[0m\u001b[0;34m:\u001b[0m\u001b[0;34m\u001b[0m\u001b[0;34m\u001b[0m\u001b[0m\n\u001b[0;32m--> 728\u001b[0;31m             \u001b[0;32mraise\u001b[0m \u001b[0mValueError\u001b[0m\u001b[0;34m(\u001b[0m\u001b[0;34m\"Variable '%s' not found\"\u001b[0m \u001b[0;34m%\u001b[0m \u001b[0mvar_name\u001b[0m\u001b[0;34m)\u001b[0m\u001b[0;34m\u001b[0m\u001b[0;34m\u001b[0m\u001b[0m\n\u001b[0m\u001b[1;32m    729\u001b[0m         \u001b[0;32mreturn\u001b[0m \u001b[0mExpressionVariable\u001b[0m\u001b[0;34m(\u001b[0m\u001b[0mself\u001b[0m\u001b[0;34m,\u001b[0m \u001b[0mind\u001b[0m\u001b[0;34m)\u001b[0m\u001b[0;34m\u001b[0m\u001b[0;34m\u001b[0m\u001b[0m\n\u001b[1;32m    730\u001b[0m \u001b[0;34m\u001b[0m\u001b[0m\n",
      "\u001b[0;31mValueError\u001b[0m: Variable 'kappa' not found"
     ]
    }
   ],
   "source": [
    "p = sage.plot.graphics.Graphics()\n",
    "ylim = 100000*5\n",
    "xeps = lambda_d/1024\n",
    "p += plot(disp_eq_s.lhs(), xeps, disp_eq_brakes[0])\n",
    "for i in range(len(disp_eq_brakes)-1):   p += plot (disp_eq_s.lhs(), disp_eq_brakes[i] + xeps, disp_eq_brakes[i+1] - xeps, ymin = -ylim, ymax = ylim)\n",
    "\n",
    "p.show()"
   ]
  },
  {
   "cell_type": "code",
   "execution_count": null,
   "metadata": {},
   "outputs": [],
   "source": [
    "h_lst =[]\n",
    "\n",
    "xeps = lambda_d/1024\n",
    "for i in range(len(disp_eq_brakes)-1):\n",
    "    try:\n",
    "        \n",
    "        h_lst += [find_root (disp_eq_s.lhs(), disp_eq_brakes[i] + xeps, disp_eq_brakes[i+1] - xeps)]\n",
    "    except  Exception as ex:\n",
    "        print(str(ex))\n",
    "        print(disp_eq_brakes[i].n())\n",
    "        print(disp_eq_brakes [i+1].n())\n",
    "\n"
   ]
  },
  {
   "cell_type": "code",
   "execution_count": null,
   "metadata": {},
   "outputs": [],
   "source": [
    "h_lst "
   ]
  },
  {
   "cell_type": "code",
   "execution_count": null,
   "metadata": {},
   "outputs": [],
   "source": [
    "def find_newton_root(f,x,a,b):\n",
    "    df = f.diff(x)\n",
    "    NewtonIt(x)=x-(f/df)(x)\n",
    "    \n",
    "    xn=(a+b)/2;                      # initial guess\n",
    "\n",
    "    print (xn)\n",
    "    for i in range(10):\n",
    "        xn=N(NewtonIt(xn),digits=20)\n",
    "\n",
    "        \n",
    "        print (xn)\n",
    "\n",
    "    return xn"
   ]
  },
  {
   "cell_type": "code",
   "execution_count": null,
   "metadata": {},
   "outputs": [],
   "source": [
    "h_lst =[]\n",
    "\n",
    "xeps = lambda_d/1024\n",
    "for i in range(len(disp_eq_brakes)-1):\n",
    "    try:\n",
    "        h_lst += [find_newton_root (disp_eq_s.lhs(),h,disp_eq_brakes[i] + xeps, disp_eq_brakes[i+1] - xeps)]\n",
    "    except  Exception as ex:\n",
    "        print(str(ex))\n",
    "        print(disp_eq_brakes[i].n())\n",
    "        print(disp_eq_brakes [i+1].n())\n",
    "\n"
   ]
  },
  {
   "cell_type": "code",
   "execution_count": null,
   "metadata": {},
   "outputs": [],
   "source": [
    "h_lst"
   ]
  },
  {
   "cell_type": "code",
   "execution_count": null,
   "metadata": {},
   "outputs": [],
   "source": [
    "h_sol = h_lst[0]"
   ]
  },
  {
   "cell_type": "code",
   "execution_count": null,
   "metadata": {},
   "outputs": [],
   "source": [
    "h_sol"
   ]
  },
  {
   "cell_type": "code",
   "execution_count": null,
   "metadata": {},
   "outputs": [],
   "source": [
    "E_rho_sol = []\n",
    "for i in range(n_layers):\n",
    "    E_rho_sol += [lambda rh,ph,z,  i=i: E_rho[i](rh,ph,z).subs(digit_values).subs(h == h_sol).subs(omega_value).subs(kappa == kappa_d1).subs(c_value).subs(k_values_d).subs(A[0] == 1).subs (digit_values)]"
   ]
  },
  {
   "cell_type": "code",
   "execution_count": null,
   "metadata": {},
   "outputs": [],
   "source": [
    "E_z_sol = []\n",
    "for i in range(n_layers):\n",
    "    E_z_sol += [lambda rh,ph,z,  i=i: E_zz[i](rh,ph,z).subs(digit_values).subs(h == h_sol).subs(omega_value).subs(kappa == kappa_d1).subs(c_value).subs(k_values_d).subs(A[0] == 1).subs (digit_values)]"
   ]
  },
  {
   "cell_type": "code",
   "execution_count": null,
   "metadata": {},
   "outputs": [],
   "source": [
    "H_phi_sol = []\n",
    "for i in range(n_layers):\n",
    "    H_phi_sol += [lambda rh,ph,z,  i=i: H_phi[i](rh,ph,z).subs(digit_values).subs(h == h_sol).subs(omega_value).subs(kappa == kappa_d1).subs(c_value).subs(k_values_d).subs(A[0] == 1).subs (digit_values)]"
   ]
  },
  {
   "cell_type": "code",
   "execution_count": null,
   "metadata": {},
   "outputs": [],
   "source": [
    "[E_rho_sol [1](rho,ph,z) for rho in [0..12]]"
   ]
  },
  {
   "cell_type": "code",
   "execution_count": null,
   "metadata": {},
   "outputs": [],
   "source": []
  },
  {
   "cell_type": "code",
   "execution_count": null,
   "metadata": {},
   "outputs": [],
   "source": []
  },
  {
   "cell_type": "code",
   "execution_count": null,
   "metadata": {},
   "outputs": [],
   "source": [
    "p = sage.plot.graphics.Graphics()\n",
    "\n",
    "for i in range(n_layers):    p += plot ([E_rho_sol[i](rh,ph,z).subs(rh == rho) for rho in [0..12]],(z, i* h_sol, (i+1)*h_sol))\n",
    "p.show ()\n"
   ]
  },
  {
   "cell_type": "code",
   "execution_count": null,
   "metadata": {},
   "outputs": [],
   "source": [
    "p = sage.plot.graphics.Graphics()\n",
    "\n",
    "for i in range(n_layers):    p += plot ([E_z_sol[i](rh,ph,z).subs(rh == rho) for rho in [0..12]],(z, i* h_sol, (i+1)*h_sol))\n",
    "p.show ()\n"
   ]
  },
  {
   "cell_type": "code",
   "execution_count": null,
   "metadata": {},
   "outputs": [],
   "source": [
    "p = sage.plot.graphics.Graphics()\n",
    "\n",
    "for i in range(n_layers):    p += plot ([H_phi_sol[i](rh,ph,z).subs(rh == rho) for rho in [0..12]],(z, i* h_sol, (i+1)*h_sol))\n",
    "p.show ()\n"
   ]
  },
  {
   "cell_type": "code",
   "execution_count": null,
   "metadata": {},
   "outputs": [],
   "source": []
  },
  {
   "cell_type": "code",
   "execution_count": null,
   "metadata": {},
   "outputs": [],
   "source": []
  },
  {
   "cell_type": "code",
   "execution_count": null,
   "metadata": {},
   "outputs": [],
   "source": []
  },
  {
   "cell_type": "code",
   "execution_count": null,
   "metadata": {},
   "outputs": [],
   "source": []
  },
  {
   "cell_type": "code",
   "execution_count": null,
   "metadata": {},
   "outputs": [],
   "source": [
    "exclude_vars = []"
   ]
  },
  {
   "cell_type": "code",
   "execution_count": null,
   "metadata": {},
   "outputs": [],
   "source": [
    "res_rot_H"
   ]
  },
  {
   "cell_type": "code",
   "execution_count": null,
   "metadata": {},
   "outputs": [],
   "source": []
  }
 ],
 "metadata": {
  "kernelspec": {
   "display_name": "SageMath 9.0",
   "language": "sage",
   "name": "sagemath"
  },
  "language_info": {
   "codemirror_mode": {
    "name": "ipython",
    "version": 3
   },
   "file_extension": ".py",
   "mimetype": "text/x-python",
   "name": "python",
   "nbconvert_exporter": "python",
   "pygments_lexer": "ipython3",
   "version": "3.7.3"
  }
 },
 "nbformat": 4,
 "nbformat_minor": 4
}
