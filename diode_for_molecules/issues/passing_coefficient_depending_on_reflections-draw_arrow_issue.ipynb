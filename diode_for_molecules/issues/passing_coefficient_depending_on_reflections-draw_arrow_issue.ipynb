{
 "cells": [
  {
   "cell_type": "markdown",
   "id": "4fb0b0b7",
   "metadata": {},
   "source": [
    "# Метод классификации клиновидных щелей по числу отражений проходящего луча\n",
    "\n",
    "Задаем размер меньшей (левой) щели и угол раствора клиновидной щели\n",
    "\n",
    "Из центральной точки проходящей левой щели направляем луч траектории вертикально вверх с тем чтобы этот луч отразился от края внутренней поверхности клина и рассматриваем точки отражения данного луча от внутренней поверхности клина\n",
    "\n",
    "В каждой из таких точек отражения мы можем ограничить толщину мембраны и получить таким образом клиновидные щели с разным числом отражений проходящего луча"
   ]
  },
  {
   "cell_type": "code",
   "execution_count": 1,
   "id": "e25bc84f",
   "metadata": {},
   "outputs": [],
   "source": [
    "import wedge"
   ]
  },
  {
   "cell_type": "code",
   "execution_count": 2,
   "id": "186072dc",
   "metadata": {},
   "outputs": [
    {
     "name": "stdout",
     "output_type": "stream",
     "text": [
      "arrow Point2D(0, 0) Point2D(153080849893419151/2500000000000000000000000000000000, 1)\n",
      "arrow Point2D(153080849893419151/2500000000000000000000000000000000, 1) Point2D(27774704738297179/50000000000000000, -53656609248549303/50000000000000000)\n",
      "arrow Point2D(27774704738297179/50000000000000000, -53656609248549303/50000000000000000) Point2D(94828773608402561/50000000000000000, 24993777955478369/20000000000000000)\n",
      "arrow Point2D(94828773608402561/50000000000000000, 24993777955478369/20000000000000000) Point2D(477489064967890009/100000000000000000, -81431313986846521/50000000000000000)\n",
      "arrow Point2D(477489064967890009/100000000000000000, -81431313986846521/50000000000000000) Point2D(12, 63569813714885981254010780721831869/25000000000000000000000000000000000)\n"
     ]
    },
    {
     "data": {
      "image/png": "[encoded data removed]",
      "text/plain": [
       "Graphics object consisting of 15 graphics primitives"
      ]
     },
     "metadata": {},
     "output_type": "display_data"
    }
   ],
   "source": [
    "wedge.draw_normal = True\n",
    "plt, state, number_of_intersections = wedge.integrand_out( \\\n",
    "    alpha=pi/24, r = 1, d = 12, y = 0, ang = pi/2)\n",
    "plt.show(aspect_ratio = 1, axes=True)"
   ]
  },
  {
   "cell_type": "raw",
   "id": "7d1f9fd9",
   "metadata": {},
   "source": [
    "# d толщина мембраны\n",
    "# r половина размера меньшей щели, которая слева\n",
    "# alpha образующий угол клина\n",
    "# R половина размера большей щели, которая справа\n",
    "\n",
    "d * tan(alpha)  = R - r\n",
    "\n",
    "Для клиновидной щели с одним отражением проходящего луча имеем следующие соотношения:\n",
    "\n",
    "1) angle_ray from normal   = 1 * alpha\n",
    "   angle_ray from vertical = 2 * alpha \n",
    "\n",
    "d = d1\n",
    "R = R1\n",
    "r = r1\n",
    "\n",
    "d1 * tan(alpha) = R1 - r1\n",
    "d1/(R1 + r1) = tan(2*alpha) = 2*tan(alpha)/(1-tan(alpha)^2)\n",
    "\n",
    "(pi-passing_angle_y0)/alpha = 5.63866204873193\n",
    "(pi-passing_angle_yR)/alpha = 5.99999936344102\n",
    "(pi-passing_angle_yR) = 6 * alpha\n",
    "passing_angle_yR = pi - 6 * alpha\n",
    "\n",
    "Для клиновидной щели с двумя отражениями проходящего луча имеем следующие соотношения:\n",
    "\n",
    "2) angle_ray from normal   = 3 * alpha\n",
    "   angle_ray from vertical = 4 * alpha\n",
    "   \n",
    "d  = d1+d2\n",
    "r2 = R1\n",
    "R  = R2\n",
    "\n",
    "d2 * tan(alpha) = R2 - r2\n",
    "d2/(R2 + r2) = tan(4*alpha)\n",
    "\n",
    "Для клиновидной щели с тремя отражениями проходящего луча имеем следующие соотношения:\n",
    "\n",
    "3) angle_ray from normal   = 5 * alpha\n",
    "   angle_ray from vertical = 6 * alpha\n",
    "\n",
    "d  = d1+d2+d3\n",
    "r3 = R2\n",
    "R  = R3\n",
    "\n",
    "d3 * tan(alpha) = R3 - r3\n",
    "d3/(R3 + r3) = tan(6*alpha)\n",
    "\n",
    "\n",
    "Для клиновидной щели с четырьмя отражениями проходящего луча имеем следующие соотношения:\n",
    "\n",
    "4) angle_ray from normal   = 7 * alpha\n",
    "   angle_ray from vertical = 8 * alpha\n",
    "\n",
    "d  = d1+d2+d3+d4\n",
    "r4 = R3\n",
    "R  = R4\n",
    "\n",
    "d4 * tan(alpha) = R4 - r4\n",
    "d4/(R4 + r4) = tan(8*alpha)\n"
   ]
  },
  {
   "cell_type": "raw",
   "id": "d76fc2ac",
   "metadata": {},
   "source": [
    "[\n",
    "    R - r  == d * tan(alpha),\n",
    "    d/(R + r) == tan(2*alpha)\n",
    "]\n",
    "\n",
    "[\n",
    "    R - r == d * tan(alpha),\n",
    "    R + r == d / tan(2*alpha)\n",
    "]\n",
    "\n",
    "R + r = (r + r) + (R - r)\n",
    "R + r = 2*r + (R - r)\n",
    "d / tan(2*alpha) = 2*r + d * tan(alpha)\n",
    "d / tan(2*alpha) - d * tan(alpha) = 2*r\n",
    "d * (1/tan(2*alpha)-tan(alpha)) = 2*r\n",
    "d = 2*r / (1/tan(2*alpha)-tan(alpha))"
   ]
  },
  {
   "cell_type": "code",
   "execution_count": 3,
   "id": "263228f1",
   "metadata": {},
   "outputs": [],
   "source": [
    "d, r, R, alpha = var(\"d, r, R, alpha\")"
   ]
  },
  {
   "cell_type": "code",
   "execution_count": 4,
   "id": "4a97dc79",
   "metadata": {},
   "outputs": [],
   "source": [
    "r1, r2, r3, r4 = var(\"r1, r2, r3, r4\")"
   ]
  },
  {
   "cell_type": "code",
   "execution_count": 5,
   "id": "75f3ef6a",
   "metadata": {},
   "outputs": [],
   "source": [
    "R1, R2, R3, R4 = var(\"R1, R2, R3, R4\")"
   ]
  },
  {
   "cell_type": "code",
   "execution_count": 6,
   "id": "b3a84767",
   "metadata": {},
   "outputs": [],
   "source": [
    "d1, d2, d3, d4 = var(\"d1, d2, d3, d4\")"
   ]
  },
  {
   "cell_type": "code",
   "execution_count": 7,
   "id": "e89a4df8",
   "metadata": {},
   "outputs": [],
   "source": [
    "eqs1 = [\n",
    "    R1 == r1 + d1 * tan(alpha),\n",
    "    d1 == 2*r1 / (1/tan(2*alpha)-tan(alpha)),\n",
    "    r1 == r,\n",
    "    ]"
   ]
  },
  {
   "cell_type": "code",
   "execution_count": 8,
   "id": "c56584b4",
   "metadata": {},
   "outputs": [],
   "source": [
    "eqs2 = [\n",
    "    R2 == r2 + d2 * tan(alpha),\n",
    "    d2 == 2*r2 / (1/tan(4*alpha)-tan(alpha)),\n",
    "    r2 == R1,\n",
    "    ]"
   ]
  },
  {
   "cell_type": "code",
   "execution_count": 9,
   "id": "70aa89a5",
   "metadata": {},
   "outputs": [],
   "source": [
    "eqs3 = [\n",
    "    R3 == r3 + d3 * tan(alpha),\n",
    "    d3 == 2*r3 / (1/tan(6*alpha)-tan(alpha)),\n",
    "    r3 == R2,\n",
    "    ]"
   ]
  },
  {
   "cell_type": "code",
   "execution_count": 10,
   "id": "b9889cac",
   "metadata": {},
   "outputs": [],
   "source": [
    "eqs4 = [\n",
    "    R4 == r4 + d4 * tan(alpha),\n",
    "    d4 == 2*r4 / (1/tan(8*alpha)-tan(alpha)),\n",
    "    r4 == R3,\n",
    "    ]"
   ]
  },
  {
   "cell_type": "code",
   "execution_count": 11,
   "id": "b45cce20",
   "metadata": {},
   "outputs": [
    {
     "data": {
      "text/plain": [
       "R1 == r + 2*r*tan(alpha)/(1/tan(2*alpha) - tan(alpha))"
      ]
     },
     "execution_count": 11,
     "metadata": {},
     "output_type": "execute_result"
    }
   ],
   "source": [
    "R1_eq = (eqs1[0]).subs(eqs1[1]).subs(eqs1[2])\n",
    "R1_eq"
   ]
  },
  {
   "cell_type": "code",
   "execution_count": 12,
   "id": "00c49a8e",
   "metadata": {},
   "outputs": [
    {
     "data": {
      "text/plain": [
       "2*tan(alpha)/(1/tan(2*alpha) - tan(alpha)) + 1"
      ]
     },
     "execution_count": 12,
     "metadata": {},
     "output_type": "execute_result"
    }
   ],
   "source": [
    "(R1_eq.rhs()/r).expand()"
   ]
  },
  {
   "cell_type": "code",
   "execution_count": 13,
   "id": "9d7cc62f",
   "metadata": {},
   "outputs": [
    {
     "data": {
      "image/png": "[encoded data removed]",
      "text/plain": [
       "Graphics object consisting of 1 graphics primitive"
      ]
     },
     "execution_count": 13,
     "metadata": {},
     "output_type": "execute_result"
    }
   ],
   "source": [
    "plot((R1_eq.rhs()/r).expand(), alpha, 0, pi/7)"
   ]
  },
  {
   "cell_type": "code",
   "execution_count": 14,
   "id": "d9ff7865",
   "metadata": {},
   "outputs": [
    {
     "data": {
      "image/png": "[encoded data removed]",
      "text/plain": [
       "Graphics object consisting of 1 graphics primitive"
      ]
     },
     "execution_count": 14,
     "metadata": {},
     "output_type": "execute_result"
    }
   ],
   "source": [
    "plot((R1_eq.rhs()/r*(pi - 5.9 * alpha)/pi).expand(), alpha, 0, 0.52)"
   ]
  },
  {
   "cell_type": "code",
   "execution_count": 15,
   "id": "e1b8db43",
   "metadata": {},
   "outputs": [
    {
     "data": {
      "text/plain": [
       "29.2208475516720"
      ]
     },
     "execution_count": 15,
     "metadata": {},
     "output_type": "execute_result"
    }
   ],
   "source": [
    "(0.51/pi*180).n() "
   ]
  },
  {
   "cell_type": "code",
   "execution_count": 16,
   "id": "19e68325",
   "metadata": {},
   "outputs": [
    {
     "data": {
      "text/plain": [
       "2*r/(1/tan(2*alpha) - tan(alpha))"
      ]
     },
     "execution_count": 16,
     "metadata": {},
     "output_type": "execute_result"
    }
   ],
   "source": [
    "# d = (R - r)/tan(alpha)\n",
    "(R1_eq.rhs()-r)/tan(alpha)"
   ]
  },
  {
   "cell_type": "code",
   "execution_count": 17,
   "id": "d8f67545",
   "metadata": {},
   "outputs": [
    {
     "data": {
      "text/plain": [
       "36.4679363049346"
      ]
     },
     "execution_count": 17,
     "metadata": {},
     "output_type": "execute_result"
    }
   ],
   "source": [
    "# d = (R - r)/tan(alpha)\n",
    "((R1_eq.rhs()-r) / tan(alpha)).subs(r == 1, alpha == 0.51)"
   ]
  },
  {
   "cell_type": "code",
   "execution_count": 18,
   "id": "73682c0a",
   "metadata": {},
   "outputs": [
    {
     "data": {
      "text/plain": [
       "21.3986580137499"
      ]
     },
     "execution_count": 18,
     "metadata": {},
     "output_type": "execute_result"
    }
   ],
   "source": [
    "# d = (R - r)/tan(alpha)\n",
    "(R1_eq.rhs()).subs(r == 1, alpha == 0.51)"
   ]
  },
  {
   "cell_type": "code",
   "execution_count": null,
   "id": "2a7fc7e8",
   "metadata": {},
   "outputs": [],
   "source": []
  },
  {
   "cell_type": "code",
   "execution_count": 19,
   "id": "291d88a9",
   "metadata": {},
   "outputs": [
    {
     "data": {
      "text/plain": [
       "R2 == r + 2*(r + 2*r*tan(alpha)/(1/tan(2*alpha) - tan(alpha)))*tan(alpha)/(1/tan(4*alpha) - tan(alpha)) + 2*r*tan(alpha)/(1/tan(2*alpha) - tan(alpha))"
      ]
     },
     "execution_count": 19,
     "metadata": {},
     "output_type": "execute_result"
    }
   ],
   "source": [
    "R2_eq = (eqs2[0]).subs(eqs2[1]).subs(eqs2[2]) \\\n",
    ".subs(eqs1[0]).subs(eqs1[1]).subs(eqs1[2])\n",
    "R2_eq"
   ]
  },
  {
   "cell_type": "code",
   "execution_count": 20,
   "id": "d617b754",
   "metadata": {},
   "outputs": [
    {
     "data": {
      "text/plain": [
       "2*tan(alpha)/(1/tan(4*alpha) - tan(alpha)) + 2*tan(alpha)/(1/tan(2*alpha) - tan(alpha)) + 4*tan(alpha)^2/((1/tan(4*alpha) - tan(alpha))*(1/tan(2*alpha) - tan(alpha))) + 1"
      ]
     },
     "execution_count": 20,
     "metadata": {},
     "output_type": "execute_result"
    }
   ],
   "source": [
    "(R2_eq.rhs()/r).expand()"
   ]
  },
  {
   "cell_type": "code",
   "execution_count": 21,
   "id": "c3c0e288",
   "metadata": {},
   "outputs": [
    {
     "data": {
      "image/png": "[encoded data removed]",
      "text/plain": [
       "Graphics object consisting of 1 graphics primitive"
      ]
     },
     "execution_count": 21,
     "metadata": {},
     "output_type": "execute_result"
    }
   ],
   "source": [
    "plot((R2_eq.rhs()/r).expand(), alpha, 0, pi/11)"
   ]
  },
  {
   "cell_type": "code",
   "execution_count": 22,
   "id": "c60838d9",
   "metadata": {},
   "outputs": [
    {
     "data": {
      "text/plain": [
       "R3 == r + 2*(r + 2*(r + 2*r*tan(alpha)/(1/tan(2*alpha) - tan(alpha)))*tan(alpha)/(1/tan(4*alpha) - tan(alpha)) + 2*r*tan(alpha)/(1/tan(2*alpha) - tan(alpha)))*tan(alpha)/(1/tan(6*alpha) - tan(alpha)) + 2*(r + 2*r*tan(alpha)/(1/tan(2*alpha) - tan(alpha)))*tan(alpha)/(1/tan(4*alpha) - tan(alpha)) + 2*r*tan(alpha)/(1/tan(2*alpha) - tan(alpha))"
      ]
     },
     "execution_count": 22,
     "metadata": {},
     "output_type": "execute_result"
    }
   ],
   "source": [
    "R3_eq = (eqs3[0]).subs(eqs3[1]).subs(eqs3[2]) \\\n",
    ".subs(eqs2[0]).subs(eqs2[1]).subs(eqs2[2]) \\\n",
    ".subs(eqs1[0]).subs(eqs1[1]).subs(eqs1[2])\n",
    "R3_eq"
   ]
  },
  {
   "cell_type": "code",
   "execution_count": 23,
   "id": "a3004520",
   "metadata": {},
   "outputs": [
    {
     "data": {
      "text/plain": [
       "2*tan(alpha)/(1/tan(6*alpha) - tan(alpha)) + 2*tan(alpha)/(1/tan(4*alpha) - tan(alpha)) + 2*tan(alpha)/(1/tan(2*alpha) - tan(alpha)) + 4*tan(alpha)^2/((1/tan(6*alpha) - tan(alpha))*(1/tan(4*alpha) - tan(alpha))) + 4*tan(alpha)^2/((1/tan(6*alpha) - tan(alpha))*(1/tan(2*alpha) - tan(alpha))) + 4*tan(alpha)^2/((1/tan(4*alpha) - tan(alpha))*(1/tan(2*alpha) - tan(alpha))) + 8*tan(alpha)^3/((1/tan(6*alpha) - tan(alpha))*(1/tan(4*alpha) - tan(alpha))*(1/tan(2*alpha) - tan(alpha))) + 1"
      ]
     },
     "execution_count": 23,
     "metadata": {},
     "output_type": "execute_result"
    }
   ],
   "source": [
    "(R3_eq.rhs()/r).expand()"
   ]
  },
  {
   "cell_type": "code",
   "execution_count": 24,
   "id": "d900fdad",
   "metadata": {},
   "outputs": [
    {
     "data": {
      "image/png": "[encoded data removed]",
      "text/plain": [
       "Graphics object consisting of 1 graphics primitive"
      ]
     },
     "execution_count": 24,
     "metadata": {},
     "output_type": "execute_result"
    }
   ],
   "source": [
    "plot((R3_eq.rhs()/r).expand(), alpha, 0, pi/15)"
   ]
  },
  {
   "cell_type": "code",
   "execution_count": 25,
   "id": "f5c16aa3",
   "metadata": {},
   "outputs": [
    {
     "data": {
      "text/plain": [
       "R4 == r + 2*(r + 2*(r + 2*(r + 2*r*tan(alpha)/(1/tan(2*alpha) - tan(alpha)))*tan(alpha)/(1/tan(4*alpha) - tan(alpha)) + 2*r*tan(alpha)/(1/tan(2*alpha) - tan(alpha)))*tan(alpha)/(1/tan(6*alpha) - tan(alpha)) + 2*(r + 2*r*tan(alpha)/(1/tan(2*alpha) - tan(alpha)))*tan(alpha)/(1/tan(4*alpha) - tan(alpha)) + 2*r*tan(alpha)/(1/tan(2*alpha) - tan(alpha)))*tan(alpha)/(1/tan(8*alpha) - tan(alpha)) + 2*(r + 2*(r + 2*r*tan(alpha)/(1/tan(2*alpha) - tan(alpha)))*tan(alpha)/(1/tan(4*alpha) - tan(alpha)) + 2*r*tan(alpha)/(1/tan(2*alpha) - tan(alpha)))*tan(alpha)/(1/tan(6*alpha) - tan(alpha)) + 2*(r + 2*r*tan(alpha)/(1/tan(2*alpha) - tan(alpha)))*tan(alpha)/(1/tan(4*alpha) - tan(alpha)) + 2*r*tan(alpha)/(1/tan(2*alpha) - tan(alpha))"
      ]
     },
     "execution_count": 25,
     "metadata": {},
     "output_type": "execute_result"
    }
   ],
   "source": [
    "R4_eq = eqs4[0].subs(eqs4[1]).subs(eqs4[2]) \\\n",
    ".subs(eqs3[0]).subs(eqs3[1]).subs(eqs3[2]) \\\n",
    ".subs(eqs2[0]).subs(eqs2[1]).subs(eqs2[2]) \\\n",
    ".subs(eqs1[0]).subs(eqs1[1]).subs(eqs1[2])\n",
    "R4_eq"
   ]
  },
  {
   "cell_type": "code",
   "execution_count": 26,
   "id": "ce3f551b",
   "metadata": {},
   "outputs": [
    {
     "data": {
      "text/plain": [
       "2*tan(alpha)/(1/tan(8*alpha) - tan(alpha)) + 2*tan(alpha)/(1/tan(6*alpha) - tan(alpha)) + 2*tan(alpha)/(1/tan(4*alpha) - tan(alpha)) + 2*tan(alpha)/(1/tan(2*alpha) - tan(alpha)) + 4*tan(alpha)^2/((1/tan(8*alpha) - tan(alpha))*(1/tan(6*alpha) - tan(alpha))) + 4*tan(alpha)^2/((1/tan(8*alpha) - tan(alpha))*(1/tan(4*alpha) - tan(alpha))) + 4*tan(alpha)^2/((1/tan(6*alpha) - tan(alpha))*(1/tan(4*alpha) - tan(alpha))) + 4*tan(alpha)^2/((1/tan(8*alpha) - tan(alpha))*(1/tan(2*alpha) - tan(alpha))) + 4*tan(alpha)^2/((1/tan(6*alpha) - tan(alpha))*(1/tan(2*alpha) - tan(alpha))) + 4*tan(alpha)^2/((1/tan(4*alpha) - tan(alpha))*(1/tan(2*alpha) - tan(alpha))) + 8*tan(alpha)^3/((1/tan(8*alpha) - tan(alpha))*(1/tan(6*alpha) - tan(alpha))*(1/tan(4*alpha) - tan(alpha))) + 8*tan(alpha)^3/((1/tan(8*alpha) - tan(alpha))*(1/tan(6*alpha) - tan(alpha))*(1/tan(2*alpha) - tan(alpha))) + 8*tan(alpha)^3/((1/tan(8*alpha) - tan(alpha))*(1/tan(4*alpha) - tan(alpha))*(1/tan(2*alpha) - tan(alpha))) + 8*tan(alpha)^3/((1/tan(6*alpha) - tan(alpha))*(1/tan(4*alpha) - tan(alpha))*(1/tan(2*alpha) - tan(alpha))) + 16*tan(alpha)^4/((1/tan(8*alpha) - tan(alpha))*(1/tan(6*alpha) - tan(alpha))*(1/tan(4*alpha) - tan(alpha))*(1/tan(2*alpha) - tan(alpha))) + 1"
      ]
     },
     "execution_count": 26,
     "metadata": {},
     "output_type": "execute_result"
    }
   ],
   "source": [
    "(R4_eq.rhs()/r).expand()"
   ]
  },
  {
   "cell_type": "code",
   "execution_count": 27,
   "id": "53ff51ce",
   "metadata": {},
   "outputs": [
    {
     "data": {
      "image/png": "[encoded data removed]",
      "text/plain": [
       "Graphics object consisting of 1 graphics primitive"
      ]
     },
     "execution_count": 27,
     "metadata": {},
     "output_type": "execute_result"
    }
   ],
   "source": [
    "plot((R4_eq.rhs()/r).expand(), alpha, 0, pi/19)"
   ]
  },
  {
   "cell_type": "code",
   "execution_count": 28,
   "id": "eef7a1e0",
   "metadata": {},
   "outputs": [],
   "source": [
    "import numpy as np\n",
    "r_ = np.float128(1)"
   ]
  },
  {
   "cell_type": "code",
   "execution_count": 29,
   "id": "be7dc1fa",
   "metadata": {},
   "outputs": [
    {
     "data": {
      "text/plain": [
       "2.59077027517603"
      ]
     },
     "execution_count": 29,
     "metadata": {},
     "output_type": "execute_result"
    }
   ],
   "source": [
    "R4_eq.subs(r == r_, alpha == pi/24).rhs().n()"
   ]
  },
  {
   "cell_type": "code",
   "execution_count": 30,
   "id": "4e407e1b",
   "metadata": {},
   "outputs": [
    {
     "data": {
      "text/plain": [
       "11.9444068944963"
      ]
     },
     "execution_count": 30,
     "metadata": {},
     "output_type": "execute_result"
    }
   ],
   "source": [
    "R4_eq.subs(r == r_, alpha == pi/19).rhs().n()"
   ]
  },
  {
   "cell_type": "code",
   "execution_count": 31,
   "id": "654e5389",
   "metadata": {},
   "outputs": [
    {
     "data": {
      "text/plain": [
       "9.35771530697032"
      ]
     },
     "execution_count": 31,
     "metadata": {},
     "output_type": "execute_result"
    }
   ],
   "source": [
    "R3_eq.subs(r == r_, alpha == pi/15).rhs().n()"
   ]
  },
  {
   "cell_type": "code",
   "execution_count": 32,
   "id": "04dc5750",
   "metadata": {},
   "outputs": [
    {
     "data": {
      "text/plain": [
       "6.74204450678570"
      ]
     },
     "execution_count": 32,
     "metadata": {},
     "output_type": "execute_result"
    }
   ],
   "source": [
    "R2_eq.subs(r == r_, alpha == pi/11).rhs().n()"
   ]
  },
  {
   "cell_type": "code",
   "execution_count": 33,
   "id": "d752b405",
   "metadata": {},
   "outputs": [
    {
     "data": {
      "text/plain": [
       "1.18384122031840e16"
      ]
     },
     "execution_count": 33,
     "metadata": {},
     "output_type": "execute_result"
    }
   ],
   "source": [
    "R2_eq.subs(r == r_, alpha == pi/10).rhs().n()"
   ]
  },
  {
   "cell_type": "code",
   "execution_count": 34,
   "id": "30fa1fa8",
   "metadata": {},
   "outputs": [
    {
     "data": {
      "text/plain": [
       "4.04891733952230"
      ]
     },
     "execution_count": 34,
     "metadata": {},
     "output_type": "execute_result"
    }
   ],
   "source": [
    "R1_eq.subs(r == r_, alpha == pi/7).rhs().n()"
   ]
  },
  {
   "cell_type": "code",
   "execution_count": 35,
   "id": "77576338",
   "metadata": {},
   "outputs": [],
   "source": [
    "def calc_R1_reflection(r_, alpha_):\n",
    "    R_ = R1_eq.rhs().subs([r==r_, alpha==alpha_])\n",
    "    d_ = (R_ - r_)/np.tan(alpha_)\n",
    "\n",
    "    print(\"r\", r_,\n",
    "          \"d\", d_,\n",
    "          \"R\", R_,\n",
    "          \"alpha\", (alpha_/pi*180).n())\n",
    "\n",
    "    plt, state, number_of_intersections = wedge.integrand_out( \\\n",
    "        alpha=alpha_, r = r_, d = d_, y = 0, ang = pi/2)\n",
    "    plt.show(aspect_ratio = 1, axes=True)\n",
    "\n",
    "    try:\n",
    "        passing_angle_yR  = \\\n",
    "            wedge.get_iterate_passing_angle_depending_on_y( \\\n",
    "                y=R_, alpha=alpha_, r=r_, d=d_)\n",
    "    except:\n",
    "        passing_angle_yR  = \\\n",
    "            wedge.get_iterate_passing_angle_depending_on_y( \\\n",
    "                y=0.999999*R_, alpha=alpha_, r=r_, d=d_)\n",
    "    passing_angle_y0      = \\\n",
    "        wedge.get_iterate_passing_angle_depending_on_y( \\\n",
    "            y=0, alpha=alpha_, r=r_, d=d_)\n",
    "\n",
    "    s_in_per_out = R_/r_\n",
    "    passing_coefficient_y0 = (passing_angle_y0/pi * s_in_per_out).n()\n",
    "    passing_coefficient_yR = (passing_angle_yR/pi * s_in_per_out).n()\n",
    "    print(\"passing_angle_y0\", (passing_angle_y0/pi*180).n())\n",
    "    print(\"passing_angle_yR\", (passing_angle_yR/pi*180).n())\n",
    "    print(\"(pi-passing_angle_y0)/alpha\", ((pi-passing_angle_y0)/alpha_).n())\n",
    "    print(\"(pi-passing_angle_yR)/alpha\", ((pi-passing_angle_yR)/alpha_).n())\n",
    "    print(\"(passing_angle_y0)/alpha\", ((passing_angle_y0)/alpha_).n())\n",
    "    print(\"(passing_angle_yR)/alpha\", ((passing_angle_yR)/alpha_).n())\n",
    "    print(\"passing_coefficient_y0\", passing_coefficient_y0)\n",
    "    print(\"passing_coefficient_yR\", passing_coefficient_yR)\n",
    "\n",
    "    return passing_coefficient_y0, passing_coefficient_yR"
   ]
  },
  {
   "cell_type": "code",
   "execution_count": 36,
   "id": "4e4a05d6",
   "metadata": {},
   "outputs": [],
   "source": [
    "def calc_R2_reflection(r_, alpha_):\n",
    "    R_ = R2_eq.rhs().subs([r==r_, alpha==alpha_])\n",
    "    d_ = (R_ - r_)/np.tan(alpha_)\n",
    "\n",
    "    print(\"r\", r_,\n",
    "          \"d\", d_,\n",
    "          \"R\", R_,\n",
    "          \"alpha\", (alpha_/pi*180).n())\n",
    "    \n",
    "    plt, state, number_of_intersections = wedge.integrand_out( \\\n",
    "        alpha=alpha_, r = r_, d = d_, y = 0, ang = pi/2)\n",
    "    print(plt)\n",
    "    plt.show(aspect_ratio = 1, axes=True)\n",
    "\n",
    "    try:\n",
    "        passing_angle_yR  = \\\n",
    "            wedge.get_iterate_passing_angle_depending_on_y( \\\n",
    "                y=R_, alpha=alpha_, r=r_, d=d_)\n",
    "    except:\n",
    "        passing_angle_yR  = \\\n",
    "            wedge.get_iterate_passing_angle_depending_on_y( \\\n",
    "                y=0.999999*R_, alpha=alpha_, r=r_, d=d_)\n",
    "    passing_angle_y0      = \\\n",
    "        wedge.get_iterate_passing_angle_depending_on_y( \\\n",
    "            y=0, alpha=alpha_, r=r_, d=d_)\n",
    "\n",
    "    s_in_per_out = R_/r_\n",
    "    passing_coefficient_y0 = (passing_angle_y0/pi * s_in_per_out).n()\n",
    "    passing_coefficient_yR = (passing_angle_yR/pi * s_in_per_out).n()\n",
    "    print(\"passing_angle_y0\", (passing_angle_y0/pi*180).n())\n",
    "    print(\"passing_angle_yR\", (passing_angle_yR/pi*180).n())\n",
    "    print(\"(pi-passing_angle_y0)/alpha\", ((pi-passing_angle_y0)/alpha_).n())\n",
    "    print(\"(pi-passing_angle_yR)/alpha\", ((pi-passing_angle_yR)/alpha_).n())\n",
    "    print(\"(passing_angle_y0)/alpha\", ((passing_angle_y0)/alpha_).n())\n",
    "    print(\"(passing_angle_yR)/alpha\", ((passing_angle_yR)/alpha_).n())\n",
    "    print(\"passing_coefficient_y0\", passing_coefficient_y0)\n",
    "    print(\"passing_coefficient_yR\", passing_coefficient_yR)\n",
    "\n",
    "    return passing_coefficient_y0, passing_coefficient_yR"
   ]
  },
  {
   "cell_type": "code",
   "execution_count": 37,
   "id": "bc09926e",
   "metadata": {},
   "outputs": [],
   "source": [
    "def calc_R3_reflection(r_, alpha_):\n",
    "    R_ = R3_eq.rhs().subs([r==r_, alpha==alpha_])\n",
    "    d_ = (R_ - r_)/np.tan(alpha_)\n",
    "    print(\"r\", r_,\n",
    "          \"d\", d_,\n",
    "          \"R\", R_,\n",
    "          \"alpha\", (alpha_/pi*180).n())\n",
    "    \n",
    "    plt, state, number_of_intersections = wedge.integrand_out( \\\n",
    "        alpha=alpha_, r = r_, d = d_, y = 0, ang = pi/2)\n",
    "    plt.show(aspect_ratio = 1, axes=True)\n",
    "    \n",
    "    try:\n",
    "        passing_angle_yR  = \\\n",
    "            wedge.get_iterate_passing_angle_depending_on_y( \\\n",
    "                y=R_, alpha=alpha_, r=r_, d=d_)\n",
    "    except:\n",
    "        passing_angle_yR  = \\\n",
    "            wedge.get_iterate_passing_angle_depending_on_y( \\\n",
    "                y=0.999999*R_, alpha=alpha_, r=r_, d=d_)\n",
    "    passing_angle_y0      = \\\n",
    "        wedge.get_iterate_passing_angle_depending_on_y( \\\n",
    "            y=0, alpha=alpha_, r=r_, d=d_)\n",
    "\n",
    "    s_in_per_out = R_/r_\n",
    "    passing_coefficient_y0 = (passing_angle_y0/pi * s_in_per_out).n()\n",
    "    passing_coefficient_yR = (passing_angle_yR/pi * s_in_per_out).n()\n",
    "    print(\"passing_angle_y0\", (passing_angle_y0/pi*180).n())\n",
    "    print(\"passing_angle_yR\", (passing_angle_yR/pi*180).n())\n",
    "    print(\"(pi-passing_angle_y0)/alpha\", ((pi-passing_angle_y0)/alpha_).n())\n",
    "    print(\"(pi-passing_angle_yR)/alpha\", ((pi-passing_angle_yR)/alpha_).n())\n",
    "    print(\"(passing_angle_y0)/alpha\", ((passing_angle_y0)/alpha_).n())\n",
    "    print(\"(passing_angle_yR)/alpha\", ((passing_angle_yR)/alpha_).n())\n",
    "    print(\"passing_coefficient_y0\", passing_coefficient_y0)\n",
    "    print(\"passing_coefficient_yR\", passing_coefficient_yR)\n",
    "\n",
    "    return passing_coefficient_y0, passing_coefficient_yR"
   ]
  },
  {
   "cell_type": "code",
   "execution_count": 38,
   "id": "d893ef4b",
   "metadata": {},
   "outputs": [],
   "source": [
    "def calc_R4_reflection(r_, alpha_):\n",
    "    R_ = R4_eq.rhs().subs([r==r_, alpha==alpha_])\n",
    "    d_ = (R_ - r_)/np.tan(alpha_)\n",
    "    print(\"r\", r_,\n",
    "          \"d\", d_,\n",
    "          \"R\", R_,\n",
    "          \"alpha\", (alpha_/pi*180).n())\n",
    "    \n",
    "    plt, state, number_of_intersections = wedge.integrand_out( \\\n",
    "        alpha=alpha_, r = r_, d = d_, y = 0, ang = pi/2)\n",
    "    plt.show(aspect_ratio = 1, axes=True)\n",
    "    \n",
    "    try:\n",
    "        passing_angle_yR  = \\\n",
    "            wedge.get_iterate_passing_angle_depending_on_y( \\\n",
    "                y=R_, alpha=alpha_, r=r_, d=d_)\n",
    "    except:\n",
    "        passing_angle_yR  = \\\n",
    "            wedge.get_iterate_passing_angle_depending_on_y( \\\n",
    "                y=0.999999*R_, alpha=alpha_, r=r_, d=d_)\n",
    "    passing_angle_y0      = \\\n",
    "        wedge.get_iterate_passing_angle_depending_on_y( \\\n",
    "            y=0, alpha=alpha_, r=r_, d=d_)\n",
    "\n",
    "    s_in_per_out = R_/r_\n",
    "    passing_coefficient_y0 = (passing_angle_y0/pi * s_in_per_out).n()\n",
    "    passing_coefficient_yR = (passing_angle_yR/pi * s_in_per_out).n()\n",
    "    print(\"passing_angle_y0\", (passing_angle_y0/pi*180).n())\n",
    "    print(\"passing_angle_yR\", (passing_angle_yR/pi*180).n())\n",
    "    print(\"(pi-passing_angle_y0)/alpha\", ((pi-passing_angle_y0)/alpha_).n())\n",
    "    print(\"(pi-passing_angle_yR)/alpha\", ((pi-passing_angle_yR)/alpha_).n())\n",
    "    print(\"(passing_angle_y0)/alpha\", ((passing_angle_y0)/alpha_).n())\n",
    "    print(\"(passing_angle_yR)/alpha\", ((passing_angle_yR)/alpha_).n())\n",
    "    print(\"passing_coefficient_y0\", passing_coefficient_y0)\n",
    "    print(\"passing_coefficient_yR\", passing_coefficient_yR)\n",
    "\n",
    "    return passing_coefficient_y0, passing_coefficient_yR"
   ]
  },
  {
   "cell_type": "code",
   "execution_count": 39,
   "id": "bc874248",
   "metadata": {},
   "outputs": [
    {
     "name": "stdout",
     "output_type": "stream",
     "text": [
      "r 1 d 5.8295818150454584e+16 R 1.894145952509445e+16 alpha 18.0000000000000\n",
      "arrow Point2D(0, 0) Point2D(153080849893419151/2500000000000000000000000000000000, 1)\n",
      "arrow Point2D(153080849893419151/2500000000000000000000000000000000, 1) Point2D(190211303259030617/100000000000000000, -80901699437494723/50000000000000000)\n",
      "arrow Point2D(190211303259030617/100000000000000000, -80901699437494723/50000000000000000) Point2D(13149675801412776, 4272588666956239)\n",
      "arrow Point2D(13149675801412776, 4272588666956239) Point2D(58295818150454584, 591920610159201202272946187306373/31250000000000000)\n",
      "Graphics object consisting of 13 graphics primitives\n"
     ]
    },
    {
     "ename": "IndexError",
     "evalue": "list index out of range",
     "output_type": "error",
     "traceback": [
      "\u001b[0;31m---------------------------------------------------------------------------\u001b[0m",
      "\u001b[0;31mIndexError\u001b[0m                                Traceback (most recent call last)",
      "\u001b[0;32m/tmp/ipykernel_9646/1505238824.py\u001b[0m in \u001b[0;36m<module>\u001b[0;34m\u001b[0m\n\u001b[1;32m      4\u001b[0m \u001b[0;32mfor\u001b[0m \u001b[0mi\u001b[0m \u001b[0;32min\u001b[0m \u001b[0mnp\u001b[0m\u001b[0;34m.\u001b[0m\u001b[0marange\u001b[0m\u001b[0;34m(\u001b[0m\u001b[0mInteger\u001b[0m\u001b[0;34m(\u001b[0m\u001b[0;36m0\u001b[0m\u001b[0;34m)\u001b[0m\u001b[0;34m,\u001b[0m \u001b[0mlen\u001b[0m\u001b[0;34m(\u001b[0m\u001b[0malpha_linspace\u001b[0m\u001b[0;34m)\u001b[0m\u001b[0;34m,\u001b[0m \u001b[0mInteger\u001b[0m\u001b[0;34m(\u001b[0m\u001b[0;36m1\u001b[0m\u001b[0;34m)\u001b[0m\u001b[0;34m)\u001b[0m\u001b[0;34m:\u001b[0m\u001b[0;34m\u001b[0m\u001b[0;34m\u001b[0m\u001b[0m\n\u001b[1;32m      5\u001b[0m     \u001b[0malpha_\u001b[0m \u001b[0;34m=\u001b[0m \u001b[0malpha_list\u001b[0m\u001b[0;34m[\u001b[0m\u001b[0mi\u001b[0m\u001b[0;34m]\u001b[0m\u001b[0;34m\u001b[0m\u001b[0;34m\u001b[0m\u001b[0m\n\u001b[0;32m----> 6\u001b[0;31m     \u001b[0mcalc_R2_reflection\u001b[0m\u001b[0;34m(\u001b[0m\u001b[0mr_\u001b[0m\u001b[0;34m=\u001b[0m\u001b[0mInteger\u001b[0m\u001b[0;34m(\u001b[0m\u001b[0;36m1\u001b[0m\u001b[0;34m)\u001b[0m\u001b[0;34m,\u001b[0m \u001b[0malpha_\u001b[0m\u001b[0;34m=\u001b[0m\u001b[0malpha_\u001b[0m\u001b[0;34m)\u001b[0m\u001b[0;34m\u001b[0m\u001b[0;34m\u001b[0m\u001b[0m\n\u001b[0m",
      "\u001b[0;32m/tmp/ipykernel_9646/2578406978.py\u001b[0m in \u001b[0;36mcalc_R2_reflection\u001b[0;34m(r_, alpha_)\u001b[0m\n\u001b[1;32m     10\u001b[0m     \u001b[0mplt\u001b[0m\u001b[0;34m,\u001b[0m \u001b[0mstate\u001b[0m\u001b[0;34m,\u001b[0m \u001b[0mnumber_of_intersections\u001b[0m \u001b[0;34m=\u001b[0m \u001b[0mwedge\u001b[0m\u001b[0;34m.\u001b[0m\u001b[0mintegrand_out\u001b[0m\u001b[0;34m(\u001b[0m         \u001b[0malpha\u001b[0m\u001b[0;34m=\u001b[0m\u001b[0malpha_\u001b[0m\u001b[0;34m,\u001b[0m \u001b[0mr\u001b[0m \u001b[0;34m=\u001b[0m \u001b[0mr_\u001b[0m\u001b[0;34m,\u001b[0m \u001b[0md\u001b[0m \u001b[0;34m=\u001b[0m \u001b[0md_\u001b[0m\u001b[0;34m,\u001b[0m \u001b[0my\u001b[0m \u001b[0;34m=\u001b[0m \u001b[0mInteger\u001b[0m\u001b[0;34m(\u001b[0m\u001b[0;36m0\u001b[0m\u001b[0;34m)\u001b[0m\u001b[0;34m,\u001b[0m \u001b[0mang\u001b[0m \u001b[0;34m=\u001b[0m \u001b[0mpi\u001b[0m\u001b[0;34m/\u001b[0m\u001b[0mInteger\u001b[0m\u001b[0;34m(\u001b[0m\u001b[0;36m2\u001b[0m\u001b[0;34m)\u001b[0m\u001b[0;34m)\u001b[0m\u001b[0;34m\u001b[0m\u001b[0;34m\u001b[0m\u001b[0m\n\u001b[1;32m     11\u001b[0m     \u001b[0mprint\u001b[0m\u001b[0;34m(\u001b[0m\u001b[0mplt\u001b[0m\u001b[0;34m)\u001b[0m\u001b[0;34m\u001b[0m\u001b[0;34m\u001b[0m\u001b[0m\n\u001b[0;32m---> 12\u001b[0;31m     \u001b[0mplt\u001b[0m\u001b[0;34m.\u001b[0m\u001b[0mshow\u001b[0m\u001b[0;34m(\u001b[0m\u001b[0maspect_ratio\u001b[0m \u001b[0;34m=\u001b[0m \u001b[0mInteger\u001b[0m\u001b[0;34m(\u001b[0m\u001b[0;36m1\u001b[0m\u001b[0;34m)\u001b[0m\u001b[0;34m,\u001b[0m \u001b[0maxes\u001b[0m\u001b[0;34m=\u001b[0m\u001b[0;32mTrue\u001b[0m\u001b[0;34m)\u001b[0m\u001b[0;34m\u001b[0m\u001b[0;34m\u001b[0m\u001b[0m\n\u001b[0m\u001b[1;32m     13\u001b[0m \u001b[0;34m\u001b[0m\u001b[0m\n\u001b[1;32m     14\u001b[0m     \u001b[0;32mtry\u001b[0m\u001b[0;34m:\u001b[0m\u001b[0;34m\u001b[0m\u001b[0;34m\u001b[0m\u001b[0m\n",
      "\u001b[0;32m/usr3/articles/sagemath_docker_build/sage/local/lib/python3.10/site-packages/sage/misc/decorators.py\u001b[0m in \u001b[0;36mwrapper\u001b[0;34m(*args, **kwds)\u001b[0m\n\u001b[1;32m    408\u001b[0m             \u001b[0mkwds\u001b[0m\u001b[0;34m[\u001b[0m\u001b[0mself\u001b[0m\u001b[0;34m.\u001b[0m\u001b[0mname\u001b[0m \u001b[0;34m+\u001b[0m \u001b[0;34m\"options\"\u001b[0m\u001b[0;34m]\u001b[0m \u001b[0;34m=\u001b[0m \u001b[0msuboptions\u001b[0m\u001b[0;34m\u001b[0m\u001b[0;34m\u001b[0m\u001b[0m\n\u001b[1;32m    409\u001b[0m \u001b[0;34m\u001b[0m\u001b[0m\n\u001b[0;32m--> 410\u001b[0;31m             \u001b[0;32mreturn\u001b[0m \u001b[0mfunc\u001b[0m\u001b[0;34m(\u001b[0m\u001b[0;34m*\u001b[0m\u001b[0margs\u001b[0m\u001b[0;34m,\u001b[0m \u001b[0;34m**\u001b[0m\u001b[0mkwds\u001b[0m\u001b[0;34m)\u001b[0m\u001b[0;34m\u001b[0m\u001b[0;34m\u001b[0m\u001b[0m\n\u001b[0m\u001b[1;32m    411\u001b[0m \u001b[0;34m\u001b[0m\u001b[0m\n\u001b[1;32m    412\u001b[0m         \u001b[0;31m# Add the options specified by @options to the signature of the wrapped\u001b[0m\u001b[0;34m\u001b[0m\u001b[0;34m\u001b[0m\u001b[0m\n",
      "\u001b[0;32m/usr3/articles/sagemath_docker_build/sage/local/lib/python3.10/site-packages/sage/plot/graphics.py\u001b[0m in \u001b[0;36mshow\u001b[0;34m(self, **kwds)\u001b[0m\n\u001b[1;32m   2132\u001b[0m         \u001b[0;32mfrom\u001b[0m \u001b[0msage\u001b[0m\u001b[0;34m.\u001b[0m\u001b[0mrepl\u001b[0m\u001b[0;34m.\u001b[0m\u001b[0mrich_output\u001b[0m \u001b[0;32mimport\u001b[0m \u001b[0mget_display_manager\u001b[0m\u001b[0;34m\u001b[0m\u001b[0;34m\u001b[0m\u001b[0m\n\u001b[1;32m   2133\u001b[0m         \u001b[0mdm\u001b[0m \u001b[0;34m=\u001b[0m \u001b[0mget_display_manager\u001b[0m\u001b[0;34m(\u001b[0m\u001b[0;34m)\u001b[0m\u001b[0;34m\u001b[0m\u001b[0;34m\u001b[0m\u001b[0m\n\u001b[0;32m-> 2134\u001b[0;31m         \u001b[0mdm\u001b[0m\u001b[0;34m.\u001b[0m\u001b[0mdisplay_immediately\u001b[0m\u001b[0;34m(\u001b[0m\u001b[0mself\u001b[0m\u001b[0;34m,\u001b[0m \u001b[0;34m**\u001b[0m\u001b[0mkwds\u001b[0m\u001b[0;34m)\u001b[0m\u001b[0;34m\u001b[0m\u001b[0;34m\u001b[0m\u001b[0m\n\u001b[0m\u001b[1;32m   2135\u001b[0m \u001b[0;34m\u001b[0m\u001b[0m\n\u001b[1;32m   2136\u001b[0m     \u001b[0;32mdef\u001b[0m \u001b[0mxmin\u001b[0m\u001b[0;34m(\u001b[0m\u001b[0mself\u001b[0m\u001b[0;34m,\u001b[0m \u001b[0mxmin\u001b[0m\u001b[0;34m=\u001b[0m\u001b[0;32mNone\u001b[0m\u001b[0;34m)\u001b[0m\u001b[0;34m:\u001b[0m\u001b[0;34m\u001b[0m\u001b[0;34m\u001b[0m\u001b[0m\n",
      "\u001b[0;32m/usr3/articles/sagemath_docker_build/sage/local/lib/python3.10/site-packages/sage/repl/rich_output/display_manager.py\u001b[0m in \u001b[0;36mdisplay_immediately\u001b[0;34m(self, obj, **rich_repr_kwds)\u001b[0m\n\u001b[1;32m    851\u001b[0m             \u001b[0;36m1\u001b[0m\u001b[0;34m/\u001b[0m\u001b[0;36m2\u001b[0m\u001b[0;34m\u001b[0m\u001b[0;34m\u001b[0m\u001b[0m\n\u001b[1;32m    852\u001b[0m         \"\"\"\n\u001b[0;32m--> 853\u001b[0;31m         \u001b[0mplain_text\u001b[0m\u001b[0;34m,\u001b[0m \u001b[0mrich_output\u001b[0m \u001b[0;34m=\u001b[0m \u001b[0mself\u001b[0m\u001b[0;34m.\u001b[0m\u001b[0m_rich_output_formatter\u001b[0m\u001b[0;34m(\u001b[0m\u001b[0mobj\u001b[0m\u001b[0;34m,\u001b[0m \u001b[0mrich_repr_kwds\u001b[0m\u001b[0;34m)\u001b[0m\u001b[0;34m\u001b[0m\u001b[0;34m\u001b[0m\u001b[0m\n\u001b[0m\u001b[1;32m    854\u001b[0m         \u001b[0mself\u001b[0m\u001b[0;34m.\u001b[0m\u001b[0m_backend\u001b[0m\u001b[0;34m.\u001b[0m\u001b[0mdisplay_immediately\u001b[0m\u001b[0;34m(\u001b[0m\u001b[0mplain_text\u001b[0m\u001b[0;34m,\u001b[0m \u001b[0mrich_output\u001b[0m\u001b[0;34m)\u001b[0m\u001b[0;34m\u001b[0m\u001b[0;34m\u001b[0m\u001b[0m\n\u001b[1;32m    855\u001b[0m \u001b[0;34m\u001b[0m\u001b[0m\n",
      "\u001b[0;32m/usr3/articles/sagemath_docker_build/sage/local/lib/python3.10/site-packages/sage/repl/rich_output/display_manager.py\u001b[0m in \u001b[0;36m_rich_output_formatter\u001b[0;34m(self, obj, rich_repr_kwds)\u001b[0m\n\u001b[1;32m    643\u001b[0m         \u001b[0mhas_rich_repr\u001b[0m \u001b[0;34m=\u001b[0m \u001b[0misinstance\u001b[0m\u001b[0;34m(\u001b[0m\u001b[0mobj\u001b[0m\u001b[0;34m,\u001b[0m \u001b[0mSageObject\u001b[0m\u001b[0;34m)\u001b[0m \u001b[0;32mand\u001b[0m \u001b[0mhasattr\u001b[0m\u001b[0;34m(\u001b[0m\u001b[0mobj\u001b[0m\u001b[0;34m,\u001b[0m \u001b[0;34m'_rich_repr_'\u001b[0m\u001b[0;34m)\u001b[0m\u001b[0;34m\u001b[0m\u001b[0;34m\u001b[0m\u001b[0m\n\u001b[1;32m    644\u001b[0m         \u001b[0;32mif\u001b[0m \u001b[0mhas_rich_repr\u001b[0m\u001b[0;34m:\u001b[0m\u001b[0;34m\u001b[0m\u001b[0;34m\u001b[0m\u001b[0m\n\u001b[0;32m--> 645\u001b[0;31m             \u001b[0mrich_output\u001b[0m \u001b[0;34m=\u001b[0m \u001b[0mself\u001b[0m\u001b[0;34m.\u001b[0m\u001b[0m_call_rich_repr\u001b[0m\u001b[0;34m(\u001b[0m\u001b[0mobj\u001b[0m\u001b[0;34m,\u001b[0m \u001b[0mrich_repr_kwds\u001b[0m\u001b[0;34m)\u001b[0m\u001b[0;34m\u001b[0m\u001b[0;34m\u001b[0m\u001b[0m\n\u001b[0m\u001b[1;32m    646\u001b[0m         \u001b[0;32mif\u001b[0m \u001b[0misinstance\u001b[0m\u001b[0;34m(\u001b[0m\u001b[0mrich_output\u001b[0m\u001b[0;34m,\u001b[0m \u001b[0mOutputPlainText\u001b[0m\u001b[0;34m)\u001b[0m\u001b[0;34m:\u001b[0m\u001b[0;34m\u001b[0m\u001b[0;34m\u001b[0m\u001b[0m\n\u001b[1;32m    647\u001b[0m             \u001b[0mplain_text\u001b[0m \u001b[0;34m=\u001b[0m \u001b[0mrich_output\u001b[0m\u001b[0;34m\u001b[0m\u001b[0;34m\u001b[0m\u001b[0m\n",
      "\u001b[0;32m/usr3/articles/sagemath_docker_build/sage/local/lib/python3.10/site-packages/sage/repl/rich_output/display_manager.py\u001b[0m in \u001b[0;36m_call_rich_repr\u001b[0;34m(self, obj, rich_repr_kwds)\u001b[0m\n\u001b[1;32m    601\u001b[0m         \u001b[0;32mif\u001b[0m \u001b[0mrich_repr_kwds\u001b[0m\u001b[0;34m:\u001b[0m\u001b[0;34m\u001b[0m\u001b[0;34m\u001b[0m\u001b[0m\n\u001b[1;32m    602\u001b[0m             \u001b[0;31m# do not ignore errors from invalid options\u001b[0m\u001b[0;34m\u001b[0m\u001b[0;34m\u001b[0m\u001b[0m\n\u001b[0;32m--> 603\u001b[0;31m             \u001b[0;32mreturn\u001b[0m \u001b[0mobj\u001b[0m\u001b[0;34m.\u001b[0m\u001b[0m_rich_repr_\u001b[0m\u001b[0;34m(\u001b[0m\u001b[0mself\u001b[0m\u001b[0;34m,\u001b[0m \u001b[0;34m**\u001b[0m\u001b[0mrich_repr_kwds\u001b[0m\u001b[0;34m)\u001b[0m\u001b[0;34m\u001b[0m\u001b[0;34m\u001b[0m\u001b[0m\n\u001b[0m\u001b[1;32m    604\u001b[0m         \u001b[0;32mtry\u001b[0m\u001b[0;34m:\u001b[0m\u001b[0;34m\u001b[0m\u001b[0;34m\u001b[0m\u001b[0m\n\u001b[1;32m    605\u001b[0m             \u001b[0;32mreturn\u001b[0m \u001b[0mobj\u001b[0m\u001b[0;34m.\u001b[0m\u001b[0m_rich_repr_\u001b[0m\u001b[0;34m(\u001b[0m\u001b[0mself\u001b[0m\u001b[0;34m)\u001b[0m\u001b[0;34m\u001b[0m\u001b[0;34m\u001b[0m\u001b[0m\n",
      "\u001b[0;32m/usr3/articles/sagemath_docker_build/sage/local/lib/python3.10/site-packages/sage/plot/graphics.py\u001b[0m in \u001b[0;36m_rich_repr_\u001b[0;34m(self, display_manager, **kwds)\u001b[0m\n\u001b[1;32m    999\u001b[0m         \u001b[0;32mfor\u001b[0m \u001b[0mfile_ext\u001b[0m\u001b[0;34m,\u001b[0m \u001b[0moutput_container\u001b[0m \u001b[0;32min\u001b[0m \u001b[0mpreferred\u001b[0m\u001b[0;34m:\u001b[0m\u001b[0;34m\u001b[0m\u001b[0;34m\u001b[0m\u001b[0m\n\u001b[1;32m   1000\u001b[0m             \u001b[0;32mif\u001b[0m \u001b[0moutput_container\u001b[0m \u001b[0;32min\u001b[0m \u001b[0mdisplay_manager\u001b[0m\u001b[0;34m.\u001b[0m\u001b[0msupported_output\u001b[0m\u001b[0;34m(\u001b[0m\u001b[0;34m)\u001b[0m\u001b[0;34m:\u001b[0m\u001b[0;34m\u001b[0m\u001b[0;34m\u001b[0m\u001b[0m\n\u001b[0;32m-> 1001\u001b[0;31m                 return display_manager.graphics_from_save(\n\u001b[0m\u001b[1;32m   1002\u001b[0m                     self.save, kwds, file_ext, output_container)\n\u001b[1;32m   1003\u001b[0m \u001b[0;34m\u001b[0m\u001b[0m\n",
      "\u001b[0;32m/usr3/articles/sagemath_docker_build/sage/local/lib/python3.10/site-packages/sage/repl/rich_output/display_manager.py\u001b[0m in \u001b[0;36mgraphics_from_save\u001b[0;34m(self, save_function, save_kwds, file_extension, output_container, figsize, dpi)\u001b[0m\n\u001b[1;32m    731\u001b[0m         \u001b[0;32mif\u001b[0m \u001b[0mdpi\u001b[0m \u001b[0;32mis\u001b[0m \u001b[0;32mnot\u001b[0m \u001b[0;32mNone\u001b[0m\u001b[0;34m:\u001b[0m\u001b[0;34m\u001b[0m\u001b[0;34m\u001b[0m\u001b[0m\n\u001b[1;32m    732\u001b[0m             \u001b[0mkwds\u001b[0m\u001b[0;34m[\u001b[0m\u001b[0;34m'dpi'\u001b[0m\u001b[0;34m]\u001b[0m \u001b[0;34m=\u001b[0m \u001b[0mdpi\u001b[0m\u001b[0;34m\u001b[0m\u001b[0;34m\u001b[0m\u001b[0m\n\u001b[0;32m--> 733\u001b[0;31m         \u001b[0msave_function\u001b[0m\u001b[0;34m(\u001b[0m\u001b[0mfilename\u001b[0m\u001b[0;34m,\u001b[0m \u001b[0;34m**\u001b[0m\u001b[0mkwds\u001b[0m\u001b[0;34m)\u001b[0m\u001b[0;34m\u001b[0m\u001b[0;34m\u001b[0m\u001b[0m\n\u001b[0m\u001b[1;32m    734\u001b[0m         \u001b[0;32mfrom\u001b[0m \u001b[0msage\u001b[0m\u001b[0;34m.\u001b[0m\u001b[0mrepl\u001b[0m\u001b[0;34m.\u001b[0m\u001b[0mrich_output\u001b[0m\u001b[0;34m.\u001b[0m\u001b[0mbuffer\u001b[0m \u001b[0;32mimport\u001b[0m \u001b[0mOutputBuffer\u001b[0m\u001b[0;34m\u001b[0m\u001b[0;34m\u001b[0m\u001b[0m\n\u001b[1;32m    735\u001b[0m         \u001b[0mbuf\u001b[0m \u001b[0;34m=\u001b[0m \u001b[0mOutputBuffer\u001b[0m\u001b[0;34m.\u001b[0m\u001b[0mfrom_file\u001b[0m\u001b[0;34m(\u001b[0m\u001b[0mfilename\u001b[0m\u001b[0;34m)\u001b[0m\u001b[0;34m\u001b[0m\u001b[0;34m\u001b[0m\u001b[0m\n",
      "\u001b[0;32m/usr3/articles/sagemath_docker_build/sage/local/lib/python3.10/site-packages/sage/misc/decorators.py\u001b[0m in \u001b[0;36mwrapper\u001b[0;34m(*args, **kwds)\u001b[0m\n\u001b[1;32m    408\u001b[0m             \u001b[0mkwds\u001b[0m\u001b[0;34m[\u001b[0m\u001b[0mself\u001b[0m\u001b[0;34m.\u001b[0m\u001b[0mname\u001b[0m \u001b[0;34m+\u001b[0m \u001b[0;34m\"options\"\u001b[0m\u001b[0;34m]\u001b[0m \u001b[0;34m=\u001b[0m \u001b[0msuboptions\u001b[0m\u001b[0;34m\u001b[0m\u001b[0;34m\u001b[0m\u001b[0m\n\u001b[1;32m    409\u001b[0m \u001b[0;34m\u001b[0m\u001b[0m\n\u001b[0;32m--> 410\u001b[0;31m             \u001b[0;32mreturn\u001b[0m \u001b[0mfunc\u001b[0m\u001b[0;34m(\u001b[0m\u001b[0;34m*\u001b[0m\u001b[0margs\u001b[0m\u001b[0;34m,\u001b[0m \u001b[0;34m**\u001b[0m\u001b[0mkwds\u001b[0m\u001b[0;34m)\u001b[0m\u001b[0;34m\u001b[0m\u001b[0;34m\u001b[0m\u001b[0m\n\u001b[0m\u001b[1;32m    411\u001b[0m \u001b[0;34m\u001b[0m\u001b[0m\n\u001b[1;32m    412\u001b[0m         \u001b[0;31m# Add the options specified by @options to the signature of the wrapped\u001b[0m\u001b[0;34m\u001b[0m\u001b[0;34m\u001b[0m\u001b[0m\n",
      "\u001b[0;32m/usr3/articles/sagemath_docker_build/sage/local/lib/python3.10/site-packages/sage/plot/graphics.py\u001b[0m in \u001b[0;36msave\u001b[0;34m(self, filename, **kwds)\u001b[0m\n\u001b[1;32m   3350\u001b[0m                 \u001b[0mopts\u001b[0m\u001b[0;34m[\u001b[0m\u001b[0;34m'bbox_extra_artists'\u001b[0m\u001b[0;34m]\u001b[0m \u001b[0;34m=\u001b[0m \u001b[0mself\u001b[0m\u001b[0;34m.\u001b[0m\u001b[0m_bbox_extra_artists\u001b[0m\u001b[0;34m\u001b[0m\u001b[0;34m\u001b[0m\u001b[0m\n\u001b[1;32m   3351\u001b[0m \u001b[0;34m\u001b[0m\u001b[0m\n\u001b[0;32m-> 3352\u001b[0;31m             \u001b[0mfigure\u001b[0m\u001b[0;34m.\u001b[0m\u001b[0msavefig\u001b[0m\u001b[0;34m(\u001b[0m\u001b[0mfilename\u001b[0m\u001b[0;34m,\u001b[0m \u001b[0;34m**\u001b[0m\u001b[0mopts\u001b[0m\u001b[0;34m)\u001b[0m\u001b[0;34m\u001b[0m\u001b[0;34m\u001b[0m\u001b[0m\n\u001b[0m\u001b[1;32m   3353\u001b[0m \u001b[0;34m\u001b[0m\u001b[0m\n\u001b[1;32m   3354\u001b[0m             \u001b[0;31m# Restore the rcParams to the original, possibly user-set values\u001b[0m\u001b[0;34m\u001b[0m\u001b[0;34m\u001b[0m\u001b[0m\n",
      "\u001b[0;32m/usr3/articles/sagemath_docker_build/sage/local/lib/python3.10/site-packages/matplotlib/figure.py\u001b[0m in \u001b[0;36msavefig\u001b[0;34m(self, fname, transparent, **kwargs)\u001b[0m\n\u001b[1;32m   3017\u001b[0m                         ax.patch._cm_set(facecolor='none', edgecolor='none'))\n\u001b[1;32m   3018\u001b[0m \u001b[0;34m\u001b[0m\u001b[0m\n\u001b[0;32m-> 3019\u001b[0;31m             \u001b[0mself\u001b[0m\u001b[0;34m.\u001b[0m\u001b[0mcanvas\u001b[0m\u001b[0;34m.\u001b[0m\u001b[0mprint_figure\u001b[0m\u001b[0;34m(\u001b[0m\u001b[0mfname\u001b[0m\u001b[0;34m,\u001b[0m \u001b[0;34m**\u001b[0m\u001b[0mkwargs\u001b[0m\u001b[0;34m)\u001b[0m\u001b[0;34m\u001b[0m\u001b[0;34m\u001b[0m\u001b[0m\n\u001b[0m\u001b[1;32m   3020\u001b[0m \u001b[0;34m\u001b[0m\u001b[0m\n\u001b[1;32m   3021\u001b[0m     def ginput(self, n=1, timeout=30, show_clicks=True,\n",
      "\u001b[0;32m/usr3/articles/sagemath_docker_build/sage/local/lib/python3.10/site-packages/matplotlib/backend_bases.py\u001b[0m in \u001b[0;36mprint_figure\u001b[0;34m(self, filename, dpi, facecolor, edgecolor, orientation, format, bbox_inches, pad_inches, bbox_extra_artists, backend, **kwargs)\u001b[0m\n\u001b[1;32m   2293\u001b[0m                 )\n\u001b[1;32m   2294\u001b[0m                 \u001b[0;32mwith\u001b[0m \u001b[0mgetattr\u001b[0m\u001b[0;34m(\u001b[0m\u001b[0mrenderer\u001b[0m\u001b[0;34m,\u001b[0m \u001b[0;34m\"_draw_disabled\"\u001b[0m\u001b[0;34m,\u001b[0m \u001b[0mnullcontext\u001b[0m\u001b[0;34m)\u001b[0m\u001b[0;34m(\u001b[0m\u001b[0;34m)\u001b[0m\u001b[0;34m:\u001b[0m\u001b[0;34m\u001b[0m\u001b[0;34m\u001b[0m\u001b[0m\n\u001b[0;32m-> 2295\u001b[0;31m                     \u001b[0mself\u001b[0m\u001b[0;34m.\u001b[0m\u001b[0mfigure\u001b[0m\u001b[0;34m.\u001b[0m\u001b[0mdraw\u001b[0m\u001b[0;34m(\u001b[0m\u001b[0mrenderer\u001b[0m\u001b[0;34m)\u001b[0m\u001b[0;34m\u001b[0m\u001b[0;34m\u001b[0m\u001b[0m\n\u001b[0m\u001b[1;32m   2296\u001b[0m \u001b[0;34m\u001b[0m\u001b[0m\n\u001b[1;32m   2297\u001b[0m             \u001b[0;32mif\u001b[0m \u001b[0mbbox_inches\u001b[0m\u001b[0;34m:\u001b[0m\u001b[0;34m\u001b[0m\u001b[0;34m\u001b[0m\u001b[0m\n",
      "\u001b[0;32m/usr3/articles/sagemath_docker_build/sage/local/lib/python3.10/site-packages/matplotlib/artist.py\u001b[0m in \u001b[0;36mdraw_wrapper\u001b[0;34m(artist, renderer, *args, **kwargs)\u001b[0m\n\u001b[1;32m     71\u001b[0m     \u001b[0;34m@\u001b[0m\u001b[0mwraps\u001b[0m\u001b[0;34m(\u001b[0m\u001b[0mdraw\u001b[0m\u001b[0;34m)\u001b[0m\u001b[0;34m\u001b[0m\u001b[0;34m\u001b[0m\u001b[0m\n\u001b[1;32m     72\u001b[0m     \u001b[0;32mdef\u001b[0m \u001b[0mdraw_wrapper\u001b[0m\u001b[0;34m(\u001b[0m\u001b[0martist\u001b[0m\u001b[0;34m,\u001b[0m \u001b[0mrenderer\u001b[0m\u001b[0;34m,\u001b[0m \u001b[0;34m*\u001b[0m\u001b[0margs\u001b[0m\u001b[0;34m,\u001b[0m \u001b[0;34m**\u001b[0m\u001b[0mkwargs\u001b[0m\u001b[0;34m)\u001b[0m\u001b[0;34m:\u001b[0m\u001b[0;34m\u001b[0m\u001b[0;34m\u001b[0m\u001b[0m\n\u001b[0;32m---> 73\u001b[0;31m         \u001b[0mresult\u001b[0m \u001b[0;34m=\u001b[0m \u001b[0mdraw\u001b[0m\u001b[0;34m(\u001b[0m\u001b[0martist\u001b[0m\u001b[0;34m,\u001b[0m \u001b[0mrenderer\u001b[0m\u001b[0;34m,\u001b[0m \u001b[0;34m*\u001b[0m\u001b[0margs\u001b[0m\u001b[0;34m,\u001b[0m \u001b[0;34m**\u001b[0m\u001b[0mkwargs\u001b[0m\u001b[0;34m)\u001b[0m\u001b[0;34m\u001b[0m\u001b[0;34m\u001b[0m\u001b[0m\n\u001b[0m\u001b[1;32m     74\u001b[0m         \u001b[0;32mif\u001b[0m \u001b[0mrenderer\u001b[0m\u001b[0;34m.\u001b[0m\u001b[0m_rasterizing\u001b[0m\u001b[0;34m:\u001b[0m\u001b[0;34m\u001b[0m\u001b[0;34m\u001b[0m\u001b[0m\n\u001b[1;32m     75\u001b[0m             \u001b[0mrenderer\u001b[0m\u001b[0;34m.\u001b[0m\u001b[0mstop_rasterizing\u001b[0m\u001b[0;34m(\u001b[0m\u001b[0;34m)\u001b[0m\u001b[0;34m\u001b[0m\u001b[0;34m\u001b[0m\u001b[0m\n",
      "\u001b[0;32m/usr3/articles/sagemath_docker_build/sage/local/lib/python3.10/site-packages/matplotlib/artist.py\u001b[0m in \u001b[0;36mdraw_wrapper\u001b[0;34m(artist, renderer)\u001b[0m\n\u001b[1;32m     48\u001b[0m                 \u001b[0mrenderer\u001b[0m\u001b[0;34m.\u001b[0m\u001b[0mstart_filter\u001b[0m\u001b[0;34m(\u001b[0m\u001b[0;34m)\u001b[0m\u001b[0;34m\u001b[0m\u001b[0;34m\u001b[0m\u001b[0m\n\u001b[1;32m     49\u001b[0m \u001b[0;34m\u001b[0m\u001b[0m\n\u001b[0;32m---> 50\u001b[0;31m             \u001b[0;32mreturn\u001b[0m \u001b[0mdraw\u001b[0m\u001b[0;34m(\u001b[0m\u001b[0martist\u001b[0m\u001b[0;34m,\u001b[0m \u001b[0mrenderer\u001b[0m\u001b[0;34m)\u001b[0m\u001b[0;34m\u001b[0m\u001b[0;34m\u001b[0m\u001b[0m\n\u001b[0m\u001b[1;32m     51\u001b[0m         \u001b[0;32mfinally\u001b[0m\u001b[0;34m:\u001b[0m\u001b[0;34m\u001b[0m\u001b[0;34m\u001b[0m\u001b[0m\n\u001b[1;32m     52\u001b[0m             \u001b[0;32mif\u001b[0m \u001b[0martist\u001b[0m\u001b[0;34m.\u001b[0m\u001b[0mget_agg_filter\u001b[0m\u001b[0;34m(\u001b[0m\u001b[0;34m)\u001b[0m \u001b[0;32mis\u001b[0m \u001b[0;32mnot\u001b[0m \u001b[0;32mNone\u001b[0m\u001b[0;34m:\u001b[0m\u001b[0;34m\u001b[0m\u001b[0;34m\u001b[0m\u001b[0m\n",
      "\u001b[0;32m/usr3/articles/sagemath_docker_build/sage/local/lib/python3.10/site-packages/matplotlib/figure.py\u001b[0m in \u001b[0;36mdraw\u001b[0;34m(self, renderer)\u001b[0m\n\u001b[1;32m   2808\u001b[0m \u001b[0;34m\u001b[0m\u001b[0m\n\u001b[1;32m   2809\u001b[0m             \u001b[0mself\u001b[0m\u001b[0;34m.\u001b[0m\u001b[0mpatch\u001b[0m\u001b[0;34m.\u001b[0m\u001b[0mdraw\u001b[0m\u001b[0;34m(\u001b[0m\u001b[0mrenderer\u001b[0m\u001b[0;34m)\u001b[0m\u001b[0;34m\u001b[0m\u001b[0;34m\u001b[0m\u001b[0m\n\u001b[0;32m-> 2810\u001b[0;31m             mimage._draw_list_compositing_images(\n\u001b[0m\u001b[1;32m   2811\u001b[0m                 renderer, self, artists, self.suppressComposite)\n\u001b[1;32m   2812\u001b[0m \u001b[0;34m\u001b[0m\u001b[0m\n",
      "\u001b[0;32m/usr3/articles/sagemath_docker_build/sage/local/lib/python3.10/site-packages/matplotlib/image.py\u001b[0m in \u001b[0;36m_draw_list_compositing_images\u001b[0;34m(renderer, parent, artists, suppress_composite)\u001b[0m\n\u001b[1;32m    130\u001b[0m     \u001b[0;32mif\u001b[0m \u001b[0mnot_composite\u001b[0m \u001b[0;32mor\u001b[0m \u001b[0;32mnot\u001b[0m \u001b[0mhas_images\u001b[0m\u001b[0;34m:\u001b[0m\u001b[0;34m\u001b[0m\u001b[0;34m\u001b[0m\u001b[0m\n\u001b[1;32m    131\u001b[0m         \u001b[0;32mfor\u001b[0m \u001b[0ma\u001b[0m \u001b[0;32min\u001b[0m \u001b[0martists\u001b[0m\u001b[0;34m:\u001b[0m\u001b[0;34m\u001b[0m\u001b[0;34m\u001b[0m\u001b[0m\n\u001b[0;32m--> 132\u001b[0;31m             \u001b[0ma\u001b[0m\u001b[0;34m.\u001b[0m\u001b[0mdraw\u001b[0m\u001b[0;34m(\u001b[0m\u001b[0mrenderer\u001b[0m\u001b[0;34m)\u001b[0m\u001b[0;34m\u001b[0m\u001b[0;34m\u001b[0m\u001b[0m\n\u001b[0m\u001b[1;32m    133\u001b[0m     \u001b[0;32melse\u001b[0m\u001b[0;34m:\u001b[0m\u001b[0;34m\u001b[0m\u001b[0;34m\u001b[0m\u001b[0m\n\u001b[1;32m    134\u001b[0m         \u001b[0;31m# Composite any adjacent images together\u001b[0m\u001b[0;34m\u001b[0m\u001b[0;34m\u001b[0m\u001b[0m\n",
      "\u001b[0;32m/usr3/articles/sagemath_docker_build/sage/local/lib/python3.10/site-packages/matplotlib/artist.py\u001b[0m in \u001b[0;36mdraw_wrapper\u001b[0;34m(artist, renderer)\u001b[0m\n\u001b[1;32m     48\u001b[0m                 \u001b[0mrenderer\u001b[0m\u001b[0;34m.\u001b[0m\u001b[0mstart_filter\u001b[0m\u001b[0;34m(\u001b[0m\u001b[0;34m)\u001b[0m\u001b[0;34m\u001b[0m\u001b[0;34m\u001b[0m\u001b[0m\n\u001b[1;32m     49\u001b[0m \u001b[0;34m\u001b[0m\u001b[0m\n\u001b[0;32m---> 50\u001b[0;31m             \u001b[0;32mreturn\u001b[0m \u001b[0mdraw\u001b[0m\u001b[0;34m(\u001b[0m\u001b[0martist\u001b[0m\u001b[0;34m,\u001b[0m \u001b[0mrenderer\u001b[0m\u001b[0;34m)\u001b[0m\u001b[0;34m\u001b[0m\u001b[0;34m\u001b[0m\u001b[0m\n\u001b[0m\u001b[1;32m     51\u001b[0m         \u001b[0;32mfinally\u001b[0m\u001b[0;34m:\u001b[0m\u001b[0;34m\u001b[0m\u001b[0;34m\u001b[0m\u001b[0m\n\u001b[1;32m     52\u001b[0m             \u001b[0;32mif\u001b[0m \u001b[0martist\u001b[0m\u001b[0;34m.\u001b[0m\u001b[0mget_agg_filter\u001b[0m\u001b[0;34m(\u001b[0m\u001b[0;34m)\u001b[0m \u001b[0;32mis\u001b[0m \u001b[0;32mnot\u001b[0m \u001b[0;32mNone\u001b[0m\u001b[0;34m:\u001b[0m\u001b[0;34m\u001b[0m\u001b[0;34m\u001b[0m\u001b[0m\n",
      "\u001b[0;32m/usr3/articles/sagemath_docker_build/sage/local/lib/python3.10/site-packages/matplotlib/axes/_base.py\u001b[0m in \u001b[0;36mdraw\u001b[0;34m(self, renderer)\u001b[0m\n\u001b[1;32m   3080\u001b[0m             \u001b[0mrenderer\u001b[0m\u001b[0;34m.\u001b[0m\u001b[0mstop_rasterizing\u001b[0m\u001b[0;34m(\u001b[0m\u001b[0;34m)\u001b[0m\u001b[0;34m\u001b[0m\u001b[0;34m\u001b[0m\u001b[0m\n\u001b[1;32m   3081\u001b[0m \u001b[0;34m\u001b[0m\u001b[0m\n\u001b[0;32m-> 3082\u001b[0;31m         mimage._draw_list_compositing_images(\n\u001b[0m\u001b[1;32m   3083\u001b[0m             renderer, self, artists, self.figure.suppressComposite)\n\u001b[1;32m   3084\u001b[0m \u001b[0;34m\u001b[0m\u001b[0m\n",
      "\u001b[0;32m/usr3/articles/sagemath_docker_build/sage/local/lib/python3.10/site-packages/matplotlib/image.py\u001b[0m in \u001b[0;36m_draw_list_compositing_images\u001b[0;34m(renderer, parent, artists, suppress_composite)\u001b[0m\n\u001b[1;32m    130\u001b[0m     \u001b[0;32mif\u001b[0m \u001b[0mnot_composite\u001b[0m \u001b[0;32mor\u001b[0m \u001b[0;32mnot\u001b[0m \u001b[0mhas_images\u001b[0m\u001b[0;34m:\u001b[0m\u001b[0;34m\u001b[0m\u001b[0;34m\u001b[0m\u001b[0m\n\u001b[1;32m    131\u001b[0m         \u001b[0;32mfor\u001b[0m \u001b[0ma\u001b[0m \u001b[0;32min\u001b[0m \u001b[0martists\u001b[0m\u001b[0;34m:\u001b[0m\u001b[0;34m\u001b[0m\u001b[0;34m\u001b[0m\u001b[0m\n\u001b[0;32m--> 132\u001b[0;31m             \u001b[0ma\u001b[0m\u001b[0;34m.\u001b[0m\u001b[0mdraw\u001b[0m\u001b[0;34m(\u001b[0m\u001b[0mrenderer\u001b[0m\u001b[0;34m)\u001b[0m\u001b[0;34m\u001b[0m\u001b[0;34m\u001b[0m\u001b[0m\n\u001b[0m\u001b[1;32m    133\u001b[0m     \u001b[0;32melse\u001b[0m\u001b[0;34m:\u001b[0m\u001b[0;34m\u001b[0m\u001b[0;34m\u001b[0m\u001b[0m\n\u001b[1;32m    134\u001b[0m         \u001b[0;31m# Composite any adjacent images together\u001b[0m\u001b[0;34m\u001b[0m\u001b[0;34m\u001b[0m\u001b[0m\n",
      "\u001b[0;32m/usr3/articles/sagemath_docker_build/sage/local/lib/python3.10/site-packages/matplotlib/patches.py\u001b[0m in \u001b[0;36mdraw\u001b[0;34m(self, renderer)\u001b[0m\n\u001b[1;32m   4492\u001b[0m \u001b[0;34m\u001b[0m\u001b[0m\n\u001b[1;32m   4493\u001b[0m             \u001b[0;32mfor\u001b[0m \u001b[0mp\u001b[0m\u001b[0;34m,\u001b[0m \u001b[0mf\u001b[0m \u001b[0;32min\u001b[0m \u001b[0mzip\u001b[0m\u001b[0;34m(\u001b[0m\u001b[0mpath\u001b[0m\u001b[0;34m,\u001b[0m \u001b[0mfillable\u001b[0m\u001b[0;34m)\u001b[0m\u001b[0;34m:\u001b[0m\u001b[0;34m\u001b[0m\u001b[0;34m\u001b[0m\u001b[0m\n\u001b[0;32m-> 4494\u001b[0;31m                 draw_path(\n\u001b[0m\u001b[1;32m   4495\u001b[0m                     \u001b[0mp\u001b[0m\u001b[0;34m,\u001b[0m \u001b[0maffine\u001b[0m\u001b[0;34m,\u001b[0m\u001b[0;34m\u001b[0m\u001b[0;34m\u001b[0m\u001b[0m\n\u001b[1;32m   4496\u001b[0m                     self._facecolor if f and self._facecolor[3] else None)\n",
      "\u001b[0;32m/usr3/articles/sagemath_docker_build/sage/local/lib/python3.10/site-packages/matplotlib/patheffects.py\u001b[0m in \u001b[0;36mdraw_path\u001b[0;34m(self, gc, tpath, affine, rgbFace)\u001b[0m\n\u001b[1;32m     99\u001b[0m     \u001b[0;32mdef\u001b[0m \u001b[0mdraw_path\u001b[0m\u001b[0;34m(\u001b[0m\u001b[0mself\u001b[0m\u001b[0;34m,\u001b[0m \u001b[0mgc\u001b[0m\u001b[0;34m,\u001b[0m \u001b[0mtpath\u001b[0m\u001b[0;34m,\u001b[0m \u001b[0maffine\u001b[0m\u001b[0;34m,\u001b[0m \u001b[0mrgbFace\u001b[0m\u001b[0;34m=\u001b[0m\u001b[0;32mNone\u001b[0m\u001b[0;34m)\u001b[0m\u001b[0;34m:\u001b[0m\u001b[0;34m\u001b[0m\u001b[0;34m\u001b[0m\u001b[0m\n\u001b[1;32m    100\u001b[0m         \u001b[0;32mfor\u001b[0m \u001b[0mpath_effect\u001b[0m \u001b[0;32min\u001b[0m \u001b[0mself\u001b[0m\u001b[0;34m.\u001b[0m\u001b[0m_path_effects\u001b[0m\u001b[0;34m:\u001b[0m\u001b[0;34m\u001b[0m\u001b[0;34m\u001b[0m\u001b[0m\n\u001b[0;32m--> 101\u001b[0;31m             path_effect.draw_path(self._renderer, gc, tpath, affine,\n\u001b[0m\u001b[1;32m    102\u001b[0m                                   rgbFace)\n\u001b[1;32m    103\u001b[0m \u001b[0;34m\u001b[0m\u001b[0m\n",
      "\u001b[0;32m/usr3/articles/sagemath_docker_build/sage/local/lib/python3.10/site-packages/sage/plot/arrow.py\u001b[0m in \u001b[0;36mdraw_path\u001b[0;34m(self, renderer, gc, tpath, affine, rgbFace)\u001b[0m\n\u001b[1;32m    433\u001b[0m                 \u001b[0;32mdef\u001b[0m \u001b[0mdraw_path\u001b[0m\u001b[0;34m(\u001b[0m\u001b[0mself\u001b[0m\u001b[0;34m,\u001b[0m \u001b[0mrenderer\u001b[0m\u001b[0;34m,\u001b[0m \u001b[0mgc\u001b[0m\u001b[0;34m,\u001b[0m \u001b[0mtpath\u001b[0m\u001b[0;34m,\u001b[0m \u001b[0maffine\u001b[0m\u001b[0;34m,\u001b[0m \u001b[0mrgbFace\u001b[0m\u001b[0;34m)\u001b[0m\u001b[0;34m:\u001b[0m\u001b[0;34m\u001b[0m\u001b[0;34m\u001b[0m\u001b[0m\n\u001b[1;32m    434\u001b[0m \u001b[0;34m\u001b[0m\u001b[0m\n\u001b[0;32m--> 435\u001b[0;31m                     \u001b[0;32mif\u001b[0m \u001b[0mself\u001b[0m\u001b[0;34m.\u001b[0m\u001b[0m_condition_func\u001b[0m\u001b[0;34m(\u001b[0m\u001b[0mrenderer\u001b[0m\u001b[0;34m,\u001b[0m \u001b[0mgc\u001b[0m\u001b[0;34m,\u001b[0m \u001b[0mtpath\u001b[0m\u001b[0;34m,\u001b[0m \u001b[0maffine\u001b[0m\u001b[0;34m,\u001b[0m \u001b[0mrgbFace\u001b[0m\u001b[0;34m)\u001b[0m\u001b[0;34m:\u001b[0m\u001b[0;34m\u001b[0m\u001b[0;34m\u001b[0m\u001b[0m\n\u001b[0m\u001b[1;32m    436\u001b[0m                         \u001b[0;32mfor\u001b[0m \u001b[0mpe1\u001b[0m \u001b[0;32min\u001b[0m \u001b[0mself\u001b[0m\u001b[0;34m.\u001b[0m\u001b[0m_pe_list\u001b[0m\u001b[0;34m:\u001b[0m\u001b[0;34m\u001b[0m\u001b[0;34m\u001b[0m\u001b[0m\n\u001b[1;32m    437\u001b[0m                             \u001b[0mpe1\u001b[0m\u001b[0;34m.\u001b[0m\u001b[0mdraw_path\u001b[0m\u001b[0;34m(\u001b[0m\u001b[0mrenderer\u001b[0m\u001b[0;34m,\u001b[0m \u001b[0mgc\u001b[0m\u001b[0;34m,\u001b[0m \u001b[0mtpath\u001b[0m\u001b[0;34m,\u001b[0m \u001b[0maffine\u001b[0m\u001b[0;34m,\u001b[0m \u001b[0mrgbFace\u001b[0m\u001b[0;34m)\u001b[0m\u001b[0;34m\u001b[0m\u001b[0;34m\u001b[0m\u001b[0m\n",
      "\u001b[0;32m/usr3/articles/sagemath_docker_build/sage/local/lib/python3.10/site-packages/sage/plot/arrow.py\u001b[0m in \u001b[0;36m__call__\u001b[0;34m(self, renderer, gc, tpath, affine, rgbFace)\u001b[0m\n\u001b[1;32m    414\u001b[0m \u001b[0;34m\u001b[0m\u001b[0m\n\u001b[1;32m    415\u001b[0m                 \u001b[0;32mdef\u001b[0m \u001b[0m__call__\u001b[0m\u001b[0;34m(\u001b[0m\u001b[0mself\u001b[0m\u001b[0;34m,\u001b[0m \u001b[0mrenderer\u001b[0m\u001b[0;34m,\u001b[0m \u001b[0mgc\u001b[0m\u001b[0;34m,\u001b[0m \u001b[0mtpath\u001b[0m\u001b[0;34m,\u001b[0m \u001b[0maffine\u001b[0m\u001b[0;34m,\u001b[0m \u001b[0mrgbFace\u001b[0m\u001b[0;34m)\u001b[0m\u001b[0;34m:\u001b[0m\u001b[0;34m\u001b[0m\u001b[0;34m\u001b[0m\u001b[0m\n\u001b[0;32m--> 416\u001b[0;31m                     \u001b[0mpath\u001b[0m \u001b[0;34m=\u001b[0m \u001b[0mself\u001b[0m\u001b[0;34m.\u001b[0m\u001b[0mget_paths\u001b[0m\u001b[0;34m(\u001b[0m\u001b[0mrenderer\u001b[0m\u001b[0;34m)\u001b[0m\u001b[0;34m[\u001b[0m\u001b[0mself\u001b[0m\u001b[0;34m.\u001b[0m\u001b[0m_n\u001b[0m\u001b[0;34m]\u001b[0m\u001b[0;34m\u001b[0m\u001b[0;34m\u001b[0m\u001b[0m\n\u001b[0m\u001b[1;32m    417\u001b[0m                     \u001b[0mvert1\u001b[0m\u001b[0;34m,\u001b[0m \u001b[0mcode1\u001b[0m \u001b[0;34m=\u001b[0m \u001b[0mpath\u001b[0m\u001b[0;34m.\u001b[0m\u001b[0mvertices\u001b[0m\u001b[0;34m,\u001b[0m \u001b[0mpath\u001b[0m\u001b[0;34m.\u001b[0m\u001b[0mcodes\u001b[0m\u001b[0;34m\u001b[0m\u001b[0;34m\u001b[0m\u001b[0m\n\u001b[1;32m    418\u001b[0m                     \u001b[0;32mimport\u001b[0m \u001b[0mnumpy\u001b[0m \u001b[0;32mas\u001b[0m \u001b[0mnp\u001b[0m\u001b[0;34m\u001b[0m\u001b[0;34m\u001b[0m\u001b[0m\n",
      "\u001b[0;31mIndexError\u001b[0m: list index out of range"
     ]
    }
   ],
   "source": [
    "import numpy as np\n",
    "alpha_linspace = np.linspace(np.float128(pi/10), np.float128(pi/48), 12)\n",
    "alpha_list = alpha_linspace.tolist()\n",
    "for i in np.arange(0, len(alpha_linspace), 1):\n",
    "    alpha_ = alpha_list[i]\n",
    "    calc_R2_reflection(r_=1, alpha_=alpha_)"
   ]
  },
  {
   "cell_type": "code",
   "execution_count": null,
   "id": "43d44d46",
   "metadata": {},
   "outputs": [],
   "source": [
    "alpha_linspace = np.linspace(np.float128(pi/8), np.float128(pi/48), 12)\n",
    "alpha_list = alpha_linspace.tolist()\n",
    "for i in np.arange(0, len(alpha_linspace), 1):\n",
    "    alpha_ = alpha_list[i]\n",
    "    calc_R1_reflection(r_=1, alpha_=alpha_)"
   ]
  },
  {
   "cell_type": "code",
   "execution_count": null,
   "id": "117fdef2",
   "metadata": {},
   "outputs": [],
   "source": [
    "import numpy as np\n",
    "alpha_linspace = np.linspace(np.float128(pi/15), np.float128(pi/48), 12)\n",
    "alpha_list = alpha_linspace.tolist()\n",
    "for i in np.arange(0, len(alpha_linspace), 1):\n",
    "    alpha_ = alpha_list[i]\n",
    "    calc_R3_reflection(r_=1, alpha_=alpha_)"
   ]
  },
  {
   "cell_type": "code",
   "execution_count": null,
   "id": "4061893b",
   "metadata": {},
   "outputs": [],
   "source": [
    "import numpy as np\n",
    "alpha_linspace = np.linspace(np.float128(pi/19), np.float128(pi/48), 12)\n",
    "alpha_list = alpha_linspace.tolist()    iterate_passing_angle_y0      = wedge.get_iterate_passing_angle_depending_on_y(y=0, alpha=alpha_, r=r_, d=d_)\n",
    "\n",
    "for i in np.arange(0, len(alpha_linspace), 1):\n",
    "    alpha_ = alpha_list[i]\n",
    "    calc_R4_reflection(r_=1, alpha_=alpha_)"
   ]
  },
  {
   "cell_type": "code",
   "execution_count": null,
   "id": "a652ea79",
   "metadata": {},
   "outputs": [],
   "source": [
    "eqs_one_reflection = [d * tan(alpha) == R - r, d/(R + r) == 2*tan(alpha)/(1-tan(alpha)^2)]\n",
    "eqs_one_reflection"
   ]
  },
  {
   "cell_type": "code",
   "execution_count": null,
   "id": "25ff4025",
   "metadata": {},
   "outputs": [],
   "source": [
    "eq_one_reflection = eqs_one_reflection[1].subs(solve(eqs_one_reflection[0], tan(alpha)))\n",
    "eq_one_reflection"
   ]
  },
  {
   "cell_type": "code",
   "execution_count": null,
   "id": "92017e18",
   "metadata": {},
   "outputs": [],
   "source": [
    "R_sol_one_reflection = solve(eq_one_reflection, R)[1].rhs()\n",
    "R_sol_one_reflection"
   ]
  },
  {
   "cell_type": "code",
   "execution_count": null,
   "id": "b1970e40",
   "metadata": {},
   "outputs": [],
   "source": [
    "d_ = 2\n",
    "R_ = R_sol_one_reflection.subs([r==r_, d==d_])\n",
    "alpha_ = atan((R_-r_)/d_)\n",
    "R_, alpha_"
   ]
  },
  {
   "cell_type": "code",
   "execution_count": null,
   "id": "d4e7f9fd",
   "metadata": {},
   "outputs": [],
   "source": [
    "def calc_one_reflection(r_, d_):\n",
    "    R_ = R_sol_one_reflection.subs([r==r_, d==d_])\n",
    "    alpha_ = np.atan((R_-r_)/d_)\n",
    "\n",
    "    print(\"r\", r_,\n",
    "          \"d\", d_,\n",
    "          \"R\", R_,\n",
    "          \"alpha\", (alpha_/pi*180).n())\n",
    "\n",
    "    plt, state, number_of_intersections = wedge.integrand_out( \\\n",
    "        alpha=alpha_, r = r_, d = d_, y = 0, ang = pi/2)\n",
    "    plt.show(aspect_ratio = 1, axes=True)\n",
    "    \n",
    "    try:\n",
    "        passing_angle_yR  = \\\n",
    "            wedge.get_iterate_passing_angle_depending_on_y( \\\n",
    "                y=R_, alpha=alpha_, r=r_, d=d_)\n",
    "    except:\n",
    "        passing_angle_yR  = \\\n",
    "            wedge.get_iterate_passing_angle_depending_on_y( \\\n",
    "                y=0.999999*R_, alpha=alpha_, r=r_, d=d_)\n",
    "    passing_angle_y0      = \\\n",
    "        wedge.get_iterate_passing_angle_depending_on_y( \\\n",
    "            y=0, alpha=alpha_, r=r_, d=d_)\n",
    "\n",
    "    s_in_per_out = R_/r_\n",
    "    passing_coefficient_y0 = (passing_angle_y0/pi * s_in_per_out).n()\n",
    "    passing_coefficient_yR = (passing_angle_yR/pi * s_in_per_out).n()\n",
    "    print(\"passing_angle_y0\", (passing_angle_y0/pi*180).n())\n",
    "    print(\"passing_angle_yR\", (passing_angle_yR/pi*180).n())\n",
    "    print(\"(pi-passing_angle_y0)/alpha\", ((pi-passing_angle_y0)/alpha_).n())\n",
    "    print(\"(pi-passing_angle_yR)/alpha\", ((pi-passing_angle_yR)/alpha_).n())\n",
    "    print(\"(passing_angle_y0)/alpha\", ((passing_angle_y0)/alpha_).n())\n",
    "    print(\"(passing_angle_yR)/alpha\", ((passing_angle_yR)/alpha_).n())\n",
    "    print(\"passing_coefficient_y0\", passing_coefficient_y0)\n",
    "    print(\"passing_coefficient_yR\", passing_coefficient_yR)\n",
    "\n",
    "    return passing_coefficient_y0, passing_coefficient_yR"
   ]
  },
  {
   "cell_type": "code",
   "execution_count": null,
   "id": "84c0383d",
   "metadata": {},
   "outputs": [],
   "source": [
    "import numpy as np\n",
    "d_linspace = np.linspace(np.float128(0.1), np.float128(12), 120)\n",
    "d_list = d_linspace.tolist()\n",
    "for i in np.arange(0, len(d_linspace), 1):\n",
    "    d_ = d_list[i]\n",
    "    calc_one_reflection(r_=1, d_=d_)"
   ]
  },
  {
   "cell_type": "raw",
   "id": "4600155c",
   "metadata": {},
   "source": [
    "r 1 d 0.1 R 1.0024953299961576 alpha 1.42942213721921 passing_coefficient 0.963818812635195\n",
    "r 1 d 0.2 R 1.0099261043394812 alpha 2.84128808245282 passing_coefficient 0.926576030172698\n",
    "r 1 d 0.30000000000000004 R 1.0221326106590607 alpha 4.21937327164021 passing_coefficient 0.892851763792368\n",
    "r 1 d 0.4 R 1.0388670162838909 alpha 5.54986733332425 passing_coefficient 0.873225442020848\n",
    "r 1 d 0.5 R 1.0598164905901122 alpha 6.82204239774720 passing_coefficient 0.844255050065765\n",
    "r 1 d 0.6 R 1.0846285113056429 alpha 8.02846656941484 passing_coefficient 0.828267858849513\n",
    "r 1 d 0.7000000000000001 R 1.1129343709017667 alpha 9.16483165264803 passing_coefficient 0.813197786936062\n",
    "r 1 d 0.8 R 1.1443683373730957 alpha 10.2295239947784 passing_coefficient 0.798444155390624\n",
    "r 1 d 0.9 R 1.178581488873731 alpha 11.2230742685357 passing_coefficient 0.783465682326001\n",
    "r 1 d 1.0 R 1.2152504370215302 alpha 12.1475944726823 passing_coefficient 0.767783223636751\n",
    "r 1 d 1.1 R 1.2540818211288756 alpha 13.0062708063665 passing_coefficient 0.764757673514331\n",
    "r 1 d 1.2000000000000002 R 1.2948136734570639 alpha 13.8029450598750 passing_coefficient 0.761142630390841\n",
    "r 1 d 1.3000000000000003 R 1.3372146897583732 alpha 14.5417915084800 passing_coefficient 0.741989064582594\n",
    "r 1 d 1.4000000000000001 R 1.3810822430334473 alpha 15.2270814005638 passing_coefficient 0.751155286627636\n",
    "r 1 d 1.5000000000000002 R 1.4262397540503335 alpha 15.8630204938774 passing_coefficient 0.744373896326887\n",
    "r 1 d 1.6 R 1.472533832709004 alpha 16.4536436816513 passing_coefficient 0.736176019204335\n",
    "r 1 d 1.7000000000000002 R 1.5198314487038458 alpha 17.0027520978896 passing_coefficient 0.726423142426783\n",
    "r 1 d 1.8000000000000003 R 1.568017278496809 alpha 17.5138805598430 passing_coefficient 0.732225352581998\n",
    "r 1 d 1.9000000000000001 R 1.6169913009313137 alpha 17.9902858613554 passing_coefficient 0.719561128914435\n",
    "r 1 d 2.0 R 1.6666666666666665 alpha 18.4349488229220 passing_coefficient 0.723353909465020\n",
    "r 1 d 2.1 R 1.7169678387011504 alpha 18.8505849697547 passing_coefficient 0.726319790038209\n",
    "r 1 d 2.2 R 1.767828986090001 alpha 19.2396602348692 passing_coefficient 0.728411017416713\n",
    "r 1 d 2.3000000000000003 R 1.8191926058681782 alpha 19.6044092233976 passing_coefficient 0.709597412128458\n",
    "r 1 d 2.4000000000000004 R 1.871008345956106 alpha 19.9468544007891 passing_coefficient 0.709250756328176\n",
    "r 1 d 2.5000000000000004 R 1.923232002361576 alpha 20.2688251534901 passing_coefficient 0.707915582103832\n",
    "r 1 d 2.6 R 1.9758246659673226 alpha 20.5719760778694 passing_coefficient 0.705564548927220\n",
    "r 1 d 2.7 R 2.028751996803936 alpha 20.8578041307022 passing_coefficient 0.724464833426591\n",
    "r 1 d 2.8000000000000003 R 2.0819836064805335 alpha 21.1276644598541 passing_coefficient 0.720597659354096\n",
    "r 1 d 2.9000000000000004 R 2.1354925321217695 alpha 21.3827848545598 passing_coefficient 0.715653639314141\n",
    "r 1 d 3.0000000000000004 R 2.189254787610008 alpha 21.6242788308469 passing_coefficient 0.709615857391367\n",
    "r 1 d 3.1 R 2.2432489801035715 alpha 21.8531574134503 passing_coefficient 0.702469263954655\n",
    "r 1 d 3.2 R 2.297455981687498 alpha 22.0703397010033 passing_coefficient 0.719444086117326\n",
    "r 1 d 3.3000000000000003 R 2.3518586476270245 alpha 22.2766623133238 passing_coefficient 0.710638770378660\n",
    "r 1 d 3.4000000000000004 R 2.406441574062162 alpha 22.4728878230292 passing_coefficient 0.700690426225384\n",
    "r 1 d 3.5000000000000004 R 2.461190889133951 alpha 22.6597122717666 passing_coefficient 0.716631939755855\n",
    "r 1 d 3.6 R 2.51609407249932 alpha 22.8377718662371 passing_coefficient 0.704972283646569\n",
    "r 1 d 3.7 R 2.571139798999607 alpha 23.0076489423763 passing_coefficient 0.720395280719705\n",
    "r 1 d 3.8000000000000003 R 2.6263178029226455 alpha 23.1698772784735 passing_coefficient 0.706998267811460\n",
    "r 1 d 3.9000000000000004 R 2.6816187598614727 alpha 23.3249468302919 passing_coefficient 0.721885148873820\n",
    "r 1 d 4.0 R 2.7370341836426593 alpha 23.4733079537360 passing_coefficient 0.706729258652916\n",
    "r 1 d 4.1 R 2.792556336189678 alpha 23.6153751735426 passing_coefficient 0.721065626807495\n",
    "r 1 d 4.2 R 2.8481781485146684 alpha 23.7515305499362 passing_coefficient 0.704132931160571\n",
    "r 1 d 4.3 R 2.90389315130641 alpha 23.8821266892504 passing_coefficient 0.717906917961863\n",
    "r 1 d 4.3999999999999995 R 2.959695413812294 alpha 24.0074894391686 passing_coefficient 0.699182367201213\n",
    "r 1 d 4.5 R 3.01557948990518 alpha 24.1279203044558 passing_coefficient 0.712384117769576\n",
    "r 1 d 4.6 R 3.0715403703883797 alpha 24.2436986148115 passing_coefficient 0.725604012189897\n",
    "r 1 d 4.7 R 3.1275734407288627 alpha 24.3550834727153 passing_coefficient 0.704476264519730\n",
    "r 1 d 4.8 R 3.1836744435242603 alpha 24.4623155058238 passing_coefficient 0.717112842248150\n",
    "r 1 d 4.9 R 3.2398394451070174 alpha 24.5656184455639 passing_coefficient 0.729763835505895\n",
    "r 1 d 5.0 R 3.296064805771863 alpha 24.6652005510020 passing_coefficient 0.706212403755194\n",
    "r 1 d 5.1 R 3.3523471531831937 alpha 24.7612558948198 passing_coefficient 0.718271417820918\n",
    "r 1 d 5.2 R 3.408683358578879 alpha 24.8539655262546 passing_coefficient 0.730341971458475\n",
    "r 1 d 5.3 R 3.465070515438143 alpha 24.9434985241277 passing_coefficient 0.704350444897395\n",
    "r 1 d 5.4 R 3.5215059203248917 alpha 25.0300129515661 passing_coefficient 0.715822160224066\n",
    "r 1 d 5.5 R 3.5779870556552975 alpha 25.1136567226890 passing_coefficient 0.727303171251413\n",
    "r 1 d 5.6 R 3.634511574170652 alpha 25.1945683903586 passing_coefficient 0.698858244045777\n",
    "r 1 d 5.7 R 3.6910772849241105 alpha 25.2728778630691 passing_coefficient 0.709734922378926\n",
    "r 1 d 5.8 R 3.747682140613834 alpha 25.3487070581384 passing_coefficient 0.720619127655068\n",
    "r 1 d 5.9 R 3.8043242261156496 alpha 25.4221704975756 passing_coefficient 0.731510491626559\n",
    "r 1 d 6.0 R 3.861001748086121 alpha 25.4933758522960 passing_coefficient 0.699985316921539\n",
    "r 1 d 6.1 R 3.917713025522454 alpha 25.5624244397338 passing_coefficient 0.710266861478978\n",
    "r 1 d 6.2 R 3.974456481179033 alpha 25.6294116793632 passing_coefficient 0.720554239828569\n",
    "r 1 d 6.3 R 4.031230633752106 alpha 25.6944275101526 passing_coefficient 0.730847183415428\n",
    "r 1 d 6.4 R 4.088034090754326 alpha 25.7575567735534 passing_coefficient 0.696227534345135\n",
    "r 1 d 6.5 R 4.144865542009757 alpha 25.8188795652458 passing_coefficient 0.705906421629934\n",
    "r 1 d 6.6 R 4.201723753707735 alpha 25.8784715585325 passing_coefficient 0.715589866449361\n",
    "r 1 d 6.7 R 4.258607562960835 alpha 25.9364043019734 passing_coefficient 0.725277670753639\n",
    "r 1 d 6.8 R 4.315515872818153 alpha 25.9927454935896 passing_coefficient 0.734969647722548\n",
    "r 1 d 6.9 R 4.372447647690435 alpha 26.0475592337345 passing_coefficient 0.696622677696853\n",
    "r 1 d 7.0 R 4.429401909148169 alpha 26.1009062585185 passing_coefficient 0.705696686883421\n",
    "r 1 d 7.1 R 4.4863777320579326 alpha 26.1528441554880 passing_coefficient 0.714774131261822\n",
    "r 1 d 7.2 R 4.543374241025851 alpha 26.2034275630962 passing_coefficient 0.723854871363440\n",
    "r 1 d 7.3 R 4.600390607120243 alpha 26.2527083553517 passing_coefficient 0.732938775122058\n",
    "r 1 d 7.4 R 4.657426044848406 alpha 26.3007358129013 passing_coefficient 0.690851529985847\n",
    "r 1 d 7.5 R 4.714479809364971 alpha 26.3475567816829 passing_coefficient 0.699314505055804\n",
    "r 1 d 7.6 R 4.77155119389153 alpha 26.3932158201789 passing_coefficient 0.707780093760577\n",
    "r 1 d 7.7 R 4.828639527329218 alpha 26.4377553362051 passing_coefficient 0.716248196553834\n",
    "r 1 d 7.8 R 4.885744172047743 alpha 26.4812157140848 passing_coefficient 0.724718718853749\n",
    "r 1 d 7.9 R 4.9428645218358875 alpha 26.5236354329792 passing_coefficient 0.733191570738990\n",
    "r 1 d 8.0 R 4.999999999999999 alpha 26.5650511770780 passing_coefficient 0.741666666666667\n",
    "r 1 d 8.1 R 5.057150057598198 alpha 26.6054979382894 passing_coefficient 0.694577708528148\n",
    "r 1 d 8.2 R 5.114314171799198 alpha 26.6450091120147 passing_coefficient 0.702428952608223\n",
    "r 1 d 8.3 R 5.17149184435566 alpha 26.6836165865395 passing_coefficient 0.710282058869836\n",
    "r 1 d 8.4 R 5.228682600182885 alpha 26.7213508265286 passing_coefficient 0.718136962062155\n",
    "r 1 d 8.5 R 5.2858859860345415 alpha 26.7582409510702 passing_coefficient 0.725993599933756\n",
    "r 1 d 8.6 R 5.343101569267783 alpha 26.7943148066771 passing_coefficient 0.733851913063013\n",
    "r 1 d 8.7 R 5.400328936690853 alpha 26.8295990356177 passing_coefficient 0.741711844699824\n",
    "r 1 d 8.8 R 5.457567693486836 alpha 26.8641191399201 passing_coefficient 0.689607473368368\n",
    "r 1 d 8.9 R 5.5148174622077795 alpha 26.8978995413624 passing_coefficient 0.696841441057983\n",
    "r 1 d 9.0 R 5.572077881833903 alpha 26.9309636377390 passing_coefficient 0.704076754574938\n",
    "r 1 d 9.1 R 5.629348606893047 alpha 26.9633338556668 passing_coefficient 0.711313370266054\n",
    "r 1 d 9.2 R 5.686629306635927 alpha 26.9950317001772 passing_coefficient 0.718551246338503\n",
    "r 1 d 9.3 R 5.743919664263138 alpha 27.0260778013162 passing_coefficient 0.725790342762139\n",
    "r 1 d 9.4 R 5.801219376200153 alpha 27.0564919579625 passing_coefficient 0.733030621177884\n",
    "r 1 d 9.5 R 5.858528151416925 alpha 27.0862931790514 passing_coefficient 0.740272044811756\n",
    "r 1 d 9.6 R 5.9158457107888855 alpha 27.1154997223833 passing_coefficient 0.747514578394127\n",
    "r 1 d 9.700000000000001 R 5.973171786496489 alpha 27.1441291311787 passing_coefficient 0.689127041293947\n",
    "r 1 d 9.8 R 6.030506121460596 alpha 27.1721982685290 passing_coefficient 0.695741724753695\n",
    "r 1 d 9.9 R 6.087848468811251 alpha 27.1997233498840 passing_coefficient 0.702357332605446\n",
    "r 1 d 10.0 R 6.145198591387564 alpha 27.2267199737032 passing_coefficient 0.708973837487862\n",
    "r 1 d 10.1 R 6.202556261266619 alpha 27.2532031503920 passing_coefficient 0.715591213105390\n",
    "r 1 d 10.200000000000001 R 6.259921259319452 alpha 27.2791873296308 passing_coefficient 0.722209434177041\n",
    "r 1 d 10.3 R 6.317293374792315 alpha 27.3046864262021 passing_coefficient 0.728828476388076\n",
    "r 1 d 10.4 R 6.374672404911569 alpha 27.3297138444088 passing_coefficient 0.735448316344427\n",
    "r 1 d 10.5 R 6.432058154510662 alpha 27.3542825011734 passing_coefficient 0.742068931529656\n",
    "r 1 d 10.6 R 6.489450435677779 alpha 27.3784048478990 passing_coefficient 0.748690300264307\n"
   ]
  },
  {
   "cell_type": "code",
   "execution_count": null,
   "id": "316ffbbf",
   "metadata": {},
   "outputs": [],
   "source": [
    "wedge.draw_normal = True\n",
    "plt, state, number_of_intersections = wedge.integrand_out( \\\n",
    "    alpha=alpha_, r = r_, d = d_, y = r_, ang = 3*pi/2+2*alpha_)\n",
    "plt.show(aspect_ratio = 1, axes=False)"
   ]
  },
  {
   "cell_type": "raw",
   "id": "84ebdff9",
   "metadata": {},
   "source": [
    "d_ang_y0, state_y0, reflections_y0 = wedge.plot_state_depending_on_angle(y=0, alpha=alpha, r=r, d=d, milk_angle=milk_angle)"
   ]
  },
  {
   "cell_type": "code",
   "execution_count": null,
   "id": "7acffe2a",
   "metadata": {},
   "outputs": [],
   "source": [
    "wedge.draw_normal = True\n",
    "plt, state, number_of_intersections = wedge.integrand_out( \\\n",
    "    alpha=pi/24, r = 0.1, d = 1.2, y = 0.1, ang = 3*pi/2+2*pi/24)\n",
    "plt.show(aspect_ratio = 1, axes=False)"
   ]
  },
  {
   "cell_type": "code",
   "execution_count": null,
   "id": "64292015",
   "metadata": {},
   "outputs": [],
   "source": [
    "wedge.draw_normal = True\n",
    "plt, state, number_of_intersections = wedge.integrand_out( \\\n",
    "    alpha=pi/24, r = 0.1, d = 1.2, y = 0, ang = 3*pi/2+2*pi/24)\n",
    "plt.show(aspect_ratio = 1, axes=False)"
   ]
  },
  {
   "cell_type": "code",
   "execution_count": null,
   "id": "074bdc52",
   "metadata": {},
   "outputs": [],
   "source": [
    "(1/12).n()"
   ]
  },
  {
   "cell_type": "code",
   "execution_count": null,
   "id": "0ee80415",
   "metadata": {},
   "outputs": [],
   "source": [
    "(1/24).n()"
   ]
  },
  {
   "cell_type": "code",
   "execution_count": null,
   "id": "d63b5fab",
   "metadata": {},
   "outputs": [],
   "source": []
  }
 ],
 "metadata": {
  "kernelspec": {
   "display_name": "SageMath 9.6.beta7",
   "language": "sage",
   "name": "sagemath"
  },
  "language_info": {
   "codemirror_mode": {
    "name": "ipython",
    "version": 3
   },
   "file_extension": ".py",
   "mimetype": "text/x-python",
   "name": "python",
   "nbconvert_exporter": "python",
   "pygments_lexer": "ipython3",
   "version": "3.10.3"
  }
 },
 "nbformat": 4,
 "nbformat_minor": 5
}
