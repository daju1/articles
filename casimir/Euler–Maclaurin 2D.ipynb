{
 "cells": [
  {
   "cell_type": "markdown",
   "metadata": {},
   "source": [
    "# Euler–Maclaurin 2D formula"
   ]
  },
  {
   "cell_type": "code",
   "execution_count": 1,
   "metadata": {},
   "outputs": [],
   "source": [
    "def num_int(f, a, b):\n",
    "    from scipy import integrate\n",
    "\n",
    "    try:\n",
    "        integral = integrate.quad(f, a, b)\n",
    "\n",
    "        result = integral[0]\n",
    "        return result\n",
    "\n",
    "    except Exception as ex:\n",
    "\n",
    "        print (\"Exception ex = \", str(ex))\n",
    "        print (\"f = \", f)\n",
    "        try:\n",
    "            #print (\"integrand = \", get_integrand_view(f))\n",
    "            print (\"integrand = \", f(x))\n",
    "        except Exception as ex2:\n",
    "            print (\"Exception ex2 = \", ex2)\n",
    "\n",
    "        print (\"a, b = \", a, \",\", b)\n",
    "        try:\n",
    "            print (\"f(a) = \", f(a))\n",
    "        except:\n",
    "            pass\n",
    "        try:\n",
    "            print (\"f(b) = \", f(b))\n",
    "        except:\n",
    "            pass\n",
    "\n",
    "        import inspect\n",
    "        stack = inspect.stack()\n",
    "        for frame in stack:\n",
    "            func_name = frame[3]\n",
    "            print (\"func_name = \", func_name)\n",
    "        \n",
    "        raise ex"
   ]
  },
  {
   "cell_type": "code",
   "execution_count": 2,
   "metadata": {},
   "outputs": [],
   "source": [
    "logging = False\n",
    "\n",
    "calc_R_p=True\n",
    "\n",
    "def my_euler_maclaurin1(f,symb,a,b,p, f_diff_symb_p=None):\n",
    "    if logging:\n",
    "        print(\"f\", f)\n",
    "        print(\"symb,a,b\", symb, a, b)\n",
    "        print(\"\")\n",
    "\n",
    "\n",
    "    sum_dfdx_a_bernoullis = sum([(f.diff(symb,k-1))*(bernoulli(k)/factorial(k)) for k in range(1,1+p)])\n",
    "    if logging:\n",
    "        print(\"sum_dfdx_a_bernoullis\", sum_dfdx_a_bernoullis)\n",
    "        print(\"sum_dfdx_a_bernoullis(a)\", sum_dfdx_a_bernoullis.subs(symb == a))\n",
    "        if Infinity != b:\n",
    "            print(\"sum_dfdx_a_bernoullis(b)\", sum_dfdx_a_bernoullis.subs(symb == b))\n",
    "\n",
    "    if True:\n",
    "        B = lambda x, p : bernoulli_polynomial(x, p)\n",
    "        P = lambda x, p : bernoulli_polynomial(x - floor(x), p)\n",
    "        fact = lambda n : factorial(n)\n",
    "    else:\n",
    "        B = function(\"B\")(x,p)\n",
    "        P = function(\"P\")(x,p)\n",
    "        fact = function(\"fact\")(n)\n",
    "        \n",
    "    if True == calc_R_p:\n",
    "        # Can't calculate derivative wrt j + u.\n",
    "        #int_R_p = lambda j : integral(f.diff(symb,p).subs(symb == u+j) * bernoulli_polynomial(u,p)/factorial(p), (u,0,1))\n",
    "        def int_R_p(f,symb,j):\n",
    "            v = var(\"v\")            \n",
    "            if None == f_diff_symb_p:\n",
    "                deriv = f.diff(symb,p)\n",
    "            else:\n",
    "                deriv = f_diff_symb_p\n",
    "            if logging:\n",
    "                print(\"deriv\", deriv)\n",
    "            deriv_s = deriv.subs(symb == v+j)\n",
    "            if logging:\n",
    "                print(\"deriv_s\", deriv_s)\n",
    "            int_f_diff_B_fact = integral(deriv_s * bernoulli_polynomial(v,p)/factorial(p), (v,0,1))\n",
    "            if logging:\n",
    "                print(\"int_f_diff_B_fact\", int_f_diff_B_fact)\n",
    "            return int_f_diff_B_fact\n",
    "        \n",
    "        def int_R_p_shifted_first(f,symb,j):\n",
    "            v = var(\"v\")\n",
    "            fn_shifted = f.subs(symb == v + j)\n",
    "            if logging:\n",
    "                print(\"fn_shifted\", fn_shifted)\n",
    "            deriv = fn_shifted.diff(v,p)\n",
    "            if logging:\n",
    "                print(\"deriv\", deriv)\n",
    "            int_f_diff_B_fact = integral(deriv * B(x=v,p=p)/fact(n=p), (v,0,1))\n",
    "    \n",
    "            if logging:\n",
    "                print(\"int_f_diff_B_fact\", int_f_diff_B_fact)\n",
    "\n",
    "            return int_f_diff_B_fact\n",
    "\n",
    "        if logging:\n",
    "            print(\"int_R_p(j = a)\", int_R_p(f,symb,j = a))\n",
    "            \n",
    "        if use_int_R_p_j:\n",
    "            v, j = var(\"v, j\")\n",
    "            assume(j>0)\n",
    "            from sage.calculus.calculus import symbolic_sum\n",
    "            if change_R_p_order:\n",
    "                # Change order of summation and integration\n",
    "                if use_int_R_p_shifted_first:\n",
    "                    R_p = (-1)^(p+1)*integral(symbolic_sum(f.subs(symb == v+j).diff(v,p)*B(x=v,p=p)/fact(n=p), \\\n",
    "                                                  j, a, b-1), \\\n",
    "                                              (v,0,1))\n",
    "                else:\n",
    "                    if None == f_diff_symb_p:\n",
    "                        f_diff_symb_p = f.diff(symb,p)\n",
    "                    R_p = (-1)^(p+1)*integral(symbolic_sum(f_diff_symb_p.subs(symb == v+j)*B(x=v,p=p)/fact(n=p), \\\n",
    "                                                  j, a, b-1), \\\n",
    "                                              (v,0,1))\n",
    "            else:\n",
    "                if use_int_R_p_shifted_first:\n",
    "                    R_p = (-1)^(p+1)*symbolic_sum(int_R_p_shifted_first(f,symb,j=j), j, a, b-1)\n",
    "                else:\n",
    "                    R_p = (-1)^(+1)*symbolic_sum(int_R_p(f,symb,j=j), j, a, b-1)\n",
    "                \n",
    "        else:\n",
    "            if None == f_diff_symb_p:\n",
    "                f_diff_symb_p = f.diff(symb,p)\n",
    "            if not use_num_int:\n",
    "                R_p = (-1)^(p+1)*integral(f_diff_symb_p * P(x=symb,p=p)/fact(n=p),(symb,a,b),hold=True)\n",
    "            else:\n",
    "                R_p = (-1)^(p+1)*num_int(lambda symb : f_diff_symb_p * P(x=symb,p=p)/fact(n=p), a, b)\n",
    "                \n",
    "\n",
    "    int_fn_a_b = integral(f, (symb, a, b))\n",
    "    if logging:\n",
    "        print(\"int_fn_a_b\", int_fn_a_b)\n",
    "    \n",
    "    s = int_fn_a_b - sum_dfdx_a_bernoullis.subs(symb == a)\n",
    "    if Infinity != b:\n",
    "        s += sum_dfdx_a_bernoullis.subs(symb == b)\n",
    "    if True == calc_R_p:\n",
    "        s += R_p\n",
    "        \n",
    "    if False:\n",
    "        print(\"int_fn_a_b\", int_fn_a_b)\n",
    "        print(\"sum_dfdx_a_bernoullis(a)\", sum_dfdx_a_bernoullis(a))\n",
    "        if Infinity != b:\n",
    "            print(\"sum_dfdx_a_bernoullis(b)\", sum_dfdx_a_bernoullis(b))\n",
    "        if True == calc_R_p:\n",
    "            print(\"int_R_p(j = a)\", int_R_p(j = a))\n",
    "            print(\"R_p\", R_p)\n",
    "        print(\"\")\n",
    "        print(\"s\",s)\n",
    "    return s"
   ]
  },
  {
   "cell_type": "markdown",
   "metadata": {},
   "source": [
    "$${\\displaystyle \\sum _{i=a}^{b}f(i)=\\int _{a}^{b}f(x)\\,dx+{\\frac {f(a)+f(b)}{2}}+\\sum _{k=1}^{\\lfloor p/2\\rfloor }{\\frac {B_{2k}}{(2k)!}}(f^{(2k-1)}(b)-f^{(2k-1)}(a))+R_{p},}$$"
   ]
  },
  {
   "cell_type": "markdown",
   "metadata": {},
   "source": [
    "$${\\displaystyle \\sum _{i=a}^{b}f(i)=\\int _{a}^{b}f(x)\\,dx+\\sum _{k=1}^{\\lfloor p/2\\rfloor }{\\frac {B_{k}}{(k)!}}(f^{(k-1)}(b)-f^{(k-1)}(a))+R_{p},}$$"
   ]
  },
  {
   "cell_type": "markdown",
   "metadata": {},
   "source": [
    "$${\\displaystyle R_{p}=(-1)^{p+1}\\sum_{j=a}^{b-1} \\int _{0}^{1}f^{(p)}(v+j){\\frac {B_{p}(v)}{p!}}\\,dv.}$$"
   ]
  },
  {
   "cell_type": "markdown",
   "metadata": {},
   "source": [
    "$${\\displaystyle P_{k}(x)=B_{k}(x-\\lfloor x\\rfloor ),}$$\n",
    "\n",
    "$${\\displaystyle R_{p}=(-1)^{p+1}\\int _{a}^{b}f^{(p)}(x){\\frac {P_{p}(x)}{p!}}\\,dx.}$$"
   ]
  },
  {
   "cell_type": "code",
   "execution_count": 3,
   "metadata": {},
   "outputs": [],
   "source": [
    "# https://www.journals.vu.lt/LMJ/article/view/20600/19701\n",
    "# ФОРМУЛА СУММИРОВАНИЯ ЭЙЛЕРА—МАКЛОРЕНА ДЛЯ ФУНКЦИИ МНОГИХ ПЕРЕМЕННЫХ А.БИКЯЛИС\n",
    "# VIII LIETUVOS MATEMATIKOS RINKINYS 4\n",
    "# ЛИТОВСКИЙ МАТЕМАТИЧЕСКИЙ СБОРНИК\n",
    "# 1968\n",
    "\n",
    "# Далее,обе стороны этого равенства суммируем по всем целым m2 из интервала(z2,y2). Получаем\n",
    "\n",
    "if True:\n",
    "    B = lambda x, p : bernoulli_polynomial(x, p)\n",
    "    P = lambda x, p : bernoulli_polynomial(x - floor(x), p)\n",
    "    fact = lambda n : factorial(n)\n",
    "else:\n",
    "    B = function(\"B\")(x,p)\n",
    "    P = function(\"P\")(x,p)\n",
    "    fact = function(\"fact\")(n)\n",
    "\n",
    "def integral_R_p(f,symb,jx,hold, f_diff_symb_p=None):\n",
    "    vx = var(\"v_\"+str(symb))\n",
    "    if None == f_diff_symb_p:\n",
    "        deriv = f.diff(symb,p)\n",
    "    else:\n",
    "        deriv = f_diff_symb_p\n",
    "    if logging:\n",
    "        print(\"deriv\", deriv)\n",
    "\n",
    "    deriv_subs = deriv.subs(symb == vx+jx)\n",
    "    if logging:\n",
    "        print(\"deriv_subs\", deriv_subs)\n",
    "\n",
    "    int_f_diff_B_fact = integral(deriv_subs * bernoulli_polynomial(vx,p)/factorial(p), (vx,0,1), hold=hold)\n",
    "    if logging:\n",
    "        print(\"int_f_diff_B_fact\", int_f_diff_B_fact)\n",
    "\n",
    "    return int_f_diff_B_fact\n",
    "\n",
    "def integral_R_p_shifted_first(f,symb,jx,hold):\n",
    "    vx = var(\"v_\"+str(symb))\n",
    "    fn_shifted = f.subs(symb == vx + jx)\n",
    "    if logging:\n",
    "        print(\"fn_shifted\", fn_shifted)\n",
    "\n",
    "    deriv = fn_shifted.diff(vx,p)\n",
    "    if logging:\n",
    "        print(\"deriv\", deriv)\n",
    "\n",
    "    int_f_diff_B_fact = integral(deriv * B(x=vx,p=p)/fact(n=p), (vx, 0, 1), hold=hold)\n",
    "\n",
    "    if logging:\n",
    "        print(\"int_f_diff_B_fact\", int_f_diff_B_fact)\n",
    "\n",
    "    return int_f_diff_B_fact\n",
    "    \n",
    "    \n",
    "def euler_maclaurin_R_p(f,symb,a,b,p, f_diff_symb_p=None, hold_int=True, hold_sum=True):\n",
    "    if logging:\n",
    "        print(\"f\", f)\n",
    "        print(\"symb,a,b\", symb, a, b)\n",
    "        if f_diff_symb_p is not None:\n",
    "            print(\"f_diff_symb_p\", f_diff_symb_p)\n",
    "        print(\"\")\n",
    "    if use_int_R_p_j:\n",
    "        jx = var('j_'+str(symb))\n",
    "        assume(jx>0)\n",
    "        from sage.calculus.calculus import symbolic_sum\n",
    "        \n",
    "        if change_R_p_order:\n",
    "            vx = var(\"v_\"+str(symb))\n",
    "            # Change order of summation and integration\n",
    "            if use_int_R_p_shifted_first:\n",
    "                R_p = (-1)^(p+1)*integral(symbolic_sum(f.subs(symb == vx+jx).diff(vx,p)*B(x=vx,p=p)/fact(n=p), \\\n",
    "                                              jx, a, b-1, hold=hold_sum), \\\n",
    "                                          (vx,0,1), hold=hold_int)\n",
    "            else:\n",
    "                if None == f_diff_symb_p:\n",
    "                    f_diff_symb_p = f.diff(symb,p)\n",
    "                R_p = (-1)^(p+1)*integral(symbolic_sum(f_diff_symb_p.subs(symb == vx+jx)*B(x=vx,p=p)/fact(n=p), \\\n",
    "                                              jx, a, b-1, hold=hold_sum), \\\n",
    "                                          (vx,0,1), hold=hold_int)\n",
    "        else:       \n",
    "            if use_int_R_p_shifted_first:\n",
    "                term = (-1)^(p+1)*integral_R_p_shifted_first(f=f, symb=symb, jx=jx, hold=hold_int)\n",
    "                R_p = symbolic_sum(term, jx, a, b-1, hold=hold_sum)\n",
    "            else:\n",
    "                term = (-1)^(p+1)*integral_R_p(f=f, symb=symb, jx=jx, hold=hold_int, f_diff_symb_p=f_diff_symb_p)\n",
    "                R_p = symbolic_sum(term, jx, a, b-1, hold=hold_sum)\n",
    "            return R_p, term\n",
    "    else:\n",
    "        if not use_num_int:\n",
    "            if None == f_diff_symb_p:\n",
    "                f_diff_symb_p = f.diff(symb,p)\n",
    "            if logging:\n",
    "                print(\"(-1)^(p+1)*P(x=symb,p=p)/fact(n=p)\", (-1)^(p+1)*P(x=symb,p=p)/fact(n=p))\n",
    "            R_p = (-1)^(p+1)*integral(f_diff_symb_p * P(x=symb,p=p)/fact(n=p),(symb,a,b),hold=hold_int)\n",
    "        else:\n",
    "            R_p = (-1)^(p+1)*num_int(lambda symb: f_diff_symb_p * P(x=symb,p=p)/fact(n=p), a, b)\n",
    "            \n",
    "    return R_p"
   ]
  },
  {
   "cell_type": "markdown",
   "metadata": {},
   "source": [
    "$$\\sum _{k=1}^{\\lfloor p/2\\rfloor }{\\frac {B_{k}}{(k)!}}(f^{(k-1)}(b)-f^{(k-1)}(a))$$"
   ]
  },
  {
   "cell_type": "code",
   "execution_count": 4,
   "metadata": {},
   "outputs": [],
   "source": [
    "def sum_dfdx_bernoulis(f,symb,a,b,p):\n",
    "    dfdx_a_bernoullis = []\n",
    "    for k in range(1,1+p):\n",
    "        dfdx_a_bernoullis += [(f.diff(symb,k-1))*(bernoulli(k)/factorial(k))]\n",
    "        \n",
    "    sum_dfdx_a_bernoullis = sum(dfdx_a_bernoullis)\n",
    "\n",
    "    if logging:\n",
    "        print(\"sum_dfdx_a_bernoullis\", sum_dfdx_a_bernoullis)\n",
    "        print(\"sum_dfdx_a_bernoullis(a)\", sum_dfdx_a_bernoullis.subs(symb == a))\n",
    "        if Infinity != b:\n",
    "            print(\"sum_dfdx_a_bernoullis(b)\", sum_dfdx_a_bernoullis.subs(symb == b))\n",
    "\n",
    "    s = - sum_dfdx_a_bernoullis.subs(symb == a)\n",
    "    if Infinity != b:\n",
    "        s += sum_dfdx_a_bernoullis.subs(symb == b)\n",
    "    return s\n"
   ]
  },
  {
   "cell_type": "code",
   "execution_count": 5,
   "metadata": {},
   "outputs": [],
   "source": [
    "def sum_dfdx_bernoulis_str(f,symb,a,b,p):\n",
    "    sum_dfdx_a_bernoullis = \"\"\n",
    "    for k in range(1,1+p):\n",
    "        if k - 1 > 0:\n",
    "            sum_dfdx_a_bernoullis += \" + (\" + str(bernoulli(k)/factorial(k)) + \") * (\" + str(f) + \").diff(\" + str(symb) + \", \" + str(k-1) + \")\"\n",
    "        else:\n",
    "            sum_dfdx_a_bernoullis += \" + (\" + str(bernoulli(k)/factorial(k)) + \") * (\" + str(f) + \")\"\n",
    "            \n",
    "\n",
    "    if logging:\n",
    "        print(\"sum_dfdx_a_bernoullis\", sum_dfdx_a_bernoullis)\n",
    "        print(\"sum_dfdx_a_bernoullis(a)\", \"(\" + sum_dfdx_a_bernoullis + \").subs(\" + str(symb) + \"==\" + str(a) + \")\")\n",
    "        if Infinity != b:\n",
    "            print(\"sum_dfdx_a_bernoullis(b)\", \"(\" + sum_dfdx_a_bernoullis + \").subs(\" + str(symb) + \"==\" + str(b) + \")\")\n",
    "    s = \"\"\n",
    "\n",
    "    s += \"- (\" + sum_dfdx_a_bernoullis + \").subs(\" + str(symb) + \"==\" + str(a) + \")\"\n",
    "    if Infinity != b:\n",
    "        s += \" + (\" + sum_dfdx_a_bernoullis + \").subs(\" + str(symb) + \"==\" + str(b) + \")\"\n",
    "    return s\n"
   ]
  },
  {
   "cell_type": "code",
   "execution_count": 6,
   "metadata": {},
   "outputs": [],
   "source": [
    "# sumy_sumx = sum_dfdx_bernoulis(sum_dfdx_bernoulis (F(x,y), x, a_x, b_x,p), y, a_y, b_y, p)\n",
    "def sum_dfdy_bernoulis_sum_dfdx_bernoulis_str(f, x, a_x, b_x, y, a_y, b_y, p):\n",
    "    str_f = sum_dfdx_bernoulis_str(f(x,y), x, a_x, b_x, p)\n",
    "    sum_dfdx_a_bernoullis = \"\"\n",
    "    for k in range(1,1+p):\n",
    "        if k - 1 > 0:\n",
    "            sum_dfdx_a_bernoullis += \" + (\" + str(bernoulli(k)/factorial(k)) + \") * (\" + str_f + \").diff(\" + str(y) + \", \" + str(k-1) + \")\"\n",
    "        else:\n",
    "            sum_dfdx_a_bernoullis += \" + (\" + str(bernoulli(k)/factorial(k)) + \") * (\" + str_f + \")\"\n",
    "\n",
    "    if logging:\n",
    "        print(\"sum_dfdx_a_bernoullis\", sum_dfdx_a_bernoullis)\n",
    "        print(\"sum_dfdx_a_bernoullis(a)\", \"(\" + sum_dfdx_a_bernoullis + \").subs(\" + str(y) + \"==\" + str(a_y) + \")\")\n",
    "        if Infinity != b:\n",
    "            print(\"sum_dfdx_a_bernoullis(b)\", \"(\" + sum_dfdx_a_bernoullis + \").subs(\" + str(y) + \"==\" + str(b_y) + \")\")\n",
    "    s = \"\"\n",
    "\n",
    "    s += \"- (\" + sum_dfdx_a_bernoullis + \").subs(\" + str(y) + \"==\" + str(a_y) + \")\"\n",
    "    if Infinity != b_y:\n",
    "        s += \" + (\" + sum_dfdx_a_bernoullis + \").subs(\" + str(y) + \"==\" + str(b_y) + \")\"\n",
    "    return s"
   ]
  },
  {
   "cell_type": "code",
   "execution_count": 7,
   "metadata": {},
   "outputs": [],
   "source": [
    "def definite_integral_derivative(f, x, a, b, diff_param, hold=True):\n",
    "    from sage.symbolic.integration.integral import definite_integral\n",
    "\n",
    "    if not x.has(diff_param):\n",
    "        # integration variable != differentiation variable\n",
    "        ans = definite_integral(f.diff(diff_param), x, a, b, hold=hold)\n",
    "    else:\n",
    "        ans = SR.zero()\n",
    "\n",
    "    if hasattr(b, 'diff'):\n",
    "        if b.diff(diff_param) != 0:\n",
    "            ans += f.subs(x == b) * b.diff(diff_param)\n",
    "    if hasattr(a, 'diff'):\n",
    "        if a.diff(diff_param) != 0:\n",
    "            ans -= f.subs(x == a) * a.diff(diff_param)\n",
    "\n",
    "    return ans\n"
   ]
  },
  {
   "cell_type": "code",
   "execution_count": 8,
   "metadata": {},
   "outputs": [],
   "source": [
    "def definite_integral_derivative_str(f, x, a, b, diff_param=None, hold=False, algorithm=None):\n",
    "\n",
    "    if not x.has(diff_param):\n",
    "        # integration variable != differentiation variable\n",
    "        if algorithm is not None:\n",
    "            ans = \"integrate((\" + str(f) + \").diff(\" + str(diff_param) + \"), \" + str(x) + \", \" + str(a) + \", \" + str(b) + \", algorithm = \"\\\"\"+ algorithm + \", hold = \" + str(hold) + \")\"\n",
    "        else:\n",
    "            ans = \"definite_integral((\" + str(f) + \").diff(\" + str(diff_param) + \"), \" + str(x) + \", \" + str(a) + \", \" + str(b) + \", hold = \" + str(hold) + \")\"\n",
    "    else:\n",
    "        ans = \"\"\n",
    "\n",
    "    if hasattr(b, 'diff'):\n",
    "        if b.diff(diff_param) != 0:\n",
    "            ans += \" + \" + str(f.subs(x == b) * b.diff(diff_param))\n",
    "    if hasattr(a, 'diff'):\n",
    "        if a.diff(diff_param) != 0:\n",
    "            ans += \" - \" + str(f.subs(x == a) * a.diff(diff_param))\n",
    "\n",
    "    return ans"
   ]
  },
  {
   "cell_type": "code",
   "execution_count": 9,
   "metadata": {},
   "outputs": [],
   "source": [
    "def definite_num_int_derivative_str(f, x, a, b, diff_param=None):\n",
    "\n",
    "    if not x.has(diff_param):\n",
    "        # integration variable != differentiation variable\n",
    "        ans = \"num_int(lambda \" + str(x)+ \" : \" + str(f.diff(diff_param)) + \", \" + str(a) + \", \" + str(b) + \")\"\n",
    "    else:\n",
    "        ans = \"\"\n",
    "\n",
    "    if hasattr(b, 'diff'):\n",
    "        if b.diff(diff_param) != 0:\n",
    "            ans += \" + \" + str(f.subs(x == b) * b.diff(diff_param))\n",
    "    if hasattr(a, 'diff'):\n",
    "        if a.diff(diff_param) != 0:\n",
    "            ans += \" - \" + str(f.subs(x == a) * a.diff(diff_param))\n",
    "\n",
    "    return ans"
   ]
  },
  {
   "cell_type": "markdown",
   "metadata": {},
   "source": [
    "$$\\sum _{k=1}^{\\lfloor p/2\\rfloor }{\\frac {B_{k}}{(k)!}}(g(y)^{(k-1)}(b_y)-g(y)^{(k-1)}(a_y))$$\n",
    "where "
   ]
  },
  {
   "cell_type": "markdown",
   "metadata": {},
   "source": [
    "$$g(y) = {\\displaystyle R_{p}(y)=(-1)^{p+1}\\sum_{j=a_x}^{b_x-1} \\int _{0}^{1}\\frac{\\partial^{p}}{\\partial x^{p}}f(v_x+j,y){\\frac {B_{p}(v_x)}{p!}}\\,dv_x.}$$\n",
    "or"
   ]
  },
  {
   "cell_type": "markdown",
   "metadata": {},
   "source": [
    "$${\\displaystyle P_{k}(x)=B_{k}(x-\\lfloor x\\rfloor ),}$$\n",
    "\n",
    "$$g(y) = {\\displaystyle R_{p}=(-1)^{p+1}\\int _{a_x}^{b_x}\\frac{\\partial^{p}}{\\partial x^{p}}f(x,y){\\frac {P_{p}(x)}{p!}}\\,dx.}$$"
   ]
  },
  {
   "cell_type": "code",
   "execution_count": 10,
   "metadata": {},
   "outputs": [],
   "source": [
    "#int_R_p = integral(euler_maclaurin_R_p(f(x,y), x, a_x, b_x,p), (y, a_y, b_y), hold=True)\n",
    "\n",
    "def integral_euler_maclaurin_R_p(f, x, a_x, b_x, y, a_y, b_y, p, f_diff_x_p, hold_int=True, hold_sum=True):\n",
    "    if logging:\n",
    "        print(\"f\", f)\n",
    "        print(\"f(x,y)\", f(x,y))\n",
    "        if None != f_diff_x_p:\n",
    "            print(\"f_diff_x_p\", f_diff_x_p)\n",
    "            print(\"f_diff_x_p(x,y)\", f_diff_x_p(x,y))\n",
    "        print(\"\")\n",
    "    if use_int_R_p_j:\n",
    "        jx = var('j_x')\n",
    "        assume(jx>0)\n",
    "        from sage.calculus.calculus import symbolic_sum\n",
    "        \n",
    "        if change_R_p_order:\n",
    "            vx = var(\"v_\"+str(x))\n",
    "            # Change order of summation and integration\n",
    "            if use_int_R_p_shifted_first:\n",
    "                int_R_p = (-1)^(p+1)*integral(integral(symbolic_sum(f.subs(x == vx+jx).diff(vx,p)*B(x=vx,p=p)/fact(n=p), \\\n",
    "                                              jx, a_x, b_x-1, hold=hold_sum), \\\n",
    "                                          (vx,0,1), hold=hold_int), y, a_y, b_y, hold=hold_int)\n",
    "            else:\n",
    "                if None == f_diff_x_p:\n",
    "                    f_diff_x_p = f.diff(x,p)\n",
    "                int_R_p = (-1)^(p+1)*integral(integral(symbolic_sum(f_diff_x_p.subs(x == vx+jx)*B(x=vx,p=p)/fact(n=p), \\\n",
    "                                              jx, a_x, b_x-1, hold=hold_sum), \\\n",
    "                                          (vx,0,1), hold=hold_int), y, a_y, b_y, hold=hold_int)\n",
    "        else:       \n",
    "            if use_int_R_p_shifted_first:\n",
    "                int_int = (-1)^(p+1)*integral(integral_R_p_shifted_first(f=f, symb=x, jx=jx, hold=hold_int), y, a_y, b_y, hold=hold_int)\n",
    "                int_R_p = symbolic_sum(int_int, jx, a_x, b_x-1, hold=hold_sum)\n",
    "            else:\n",
    "                int_int = (-1)^(p+1)*integral(integral_R_p(f=f, symb=x, jx=jx, hold=hold_int), y, a_y, b_y, hold=hold_int)\n",
    "                int_R_p = symbolic_sum(int_int, jx, a_x, b_x-1, hold=hold_sum)\n",
    "            return (int_R_p, int_int)\n",
    "    else:\n",
    "        if not use_num_int:\n",
    "            if None == f_diff_x_p:\n",
    "                f_diff_x_p = f.diff(x,p)\n",
    "            int_R_p = (-1)^(p+1)*integral(integral(f_diff_x_p * P(x=x,p=p)/fact(n=p),(x,a_x,b_x),hold=hold_int), y, a_y, b_y, hold=hold_int)\n",
    "        else:\n",
    "            int_R_p = (-1)^(p+1)*num_int(lambda y : num_int(lambda x : f_diff_x_p(x,y) * P(x=x,p=p)/fact(n=p), a_x, b_x), a_y, b_y)\n",
    "            \n",
    "    return int_R_p"
   ]
  },
  {
   "cell_type": "code",
   "execution_count": 11,
   "metadata": {},
   "outputs": [],
   "source": [
    "#sum_R_p = sum_dfdx_bernoulis(euler_maclaurin_R_p(F(x,y), x, a_x, b_x,p), y, a_y, b_y, p)\n",
    "def sum_dfdx_bernoulis_euler_maclaurin_R_p(f, x, a_x, b_x, y, a_y, b_y, p):\n",
    "    if logging:\n",
    "        print(\"sum_dfdx_bernoulis_euler_maclaurin_R_p\", f, x, a_x, b_x, y, a_y, b_y, p)\n",
    "    dfdx_a_bernoullis = []\n",
    "    dfdx_a_bernoullis_terms = []\n",
    "    from sage.calculus.calculus import symbolic_sum\n",
    "    from sage.symbolic.integration.integral import definite_integral\n",
    "    \n",
    "    for k in range(1,1+p):\n",
    "        if 1 == k:\n",
    "            if use_int_R_p_j:\n",
    "                vx, jx = var(\"v_x, j_x\")\n",
    "                term_1 = lambda y_symb, y_val, p, jx : (-1)^(p+1)*definite_integral(f(x,y_symb).diff(x,p) \\\n",
    "                                                                                 .subs(x == vx + jx) \\\n",
    "                                                                      * B(x=vx,p=p)/fact(n=p),vx,0,1,hold=False) \\\n",
    "                                                                                .subs(y_symb == y_val)\n",
    "                if logging:\n",
    "                    print(\"k\", k)\n",
    "                    print(\"term_1(y_symb=y, y_val=a_y,jx=a_x) =\", term_1(y_symb=y, y_val=a_y,jx=a_x))\n",
    "                    \n",
    "                R_p_1 = lambda y_symb, y_val, p : symbolic_sum(expression=term_1(y_symb=y_symb, y_val=y_val, p=p, jx=jx), \\\n",
    "                                                                     v=jx, a=a_x, b=b_x-1)\n",
    "                dfdx_a_bernoullis_terms += [lambda y_symb, y_val, p, jx, i=i : \\\n",
    "                                            term_1(y_symb=y_symb, y_val=y_val, jx=jx)*(bernoulli(k)/factorial(k))]\n",
    "            else:\n",
    "                R_p_1 = lambda y_symb, y_val, p : (-1)^(p+1)*definite_integral(f(x,y_symb).diff(x,p) * P(x=x,p=p)/fact(n=p), \\\n",
    "                                                                  x, a_x, b_x, hold=True) \\\n",
    "                                                                  .subs(y_symb == y_val)\n",
    "                if logging:\n",
    "                    print(\"k\", k)\n",
    "                    print(\"R_p_1(y_symb=y, y_val=a_y) =\", R_p_1(y, y, p))\n",
    "                    print(\"R_p_1(y_symb=y, y_val=a_y) =\", R_p_1(y_symb=y, y_val=a_y, p=p))\n",
    "                \n",
    "            if logging:\n",
    "                print(\"R_p(y_symb=y, y_val=a_y) =\", R_p_1(y_symb=y, y_val=a_y, p=p))\n",
    "                print(\"\\n\")\n",
    "\n",
    "            dfdx_a_bernoullis += [lambda y_symb, y_val, p, i=i : R_p_1(y_symb=y_symb, y_val=y_val, p=p)*(bernoulli(k)/factorial(k))]\n",
    "            if logging:\n",
    "                print(\"dfdx_a_bernoullis =\", dfdx_a_bernoullis)\n",
    "                print(\"len(dfdx_a_bernoullis) =\", len(dfdx_a_bernoullis))\n",
    "\n",
    "                for ii in range(len(dfdx_a_bernoullis)):\n",
    "                    print(\"dfdx_a_bernoullis [\",ii, \"]()=\", dfdx_a_bernoullis[ii])\n",
    "                    print(\"dfdx_a_bernoullis [\",ii, \"]()=\", dfdx_a_bernoullis[ii](y, y, p))\n",
    "                    print(\"dfdx_a_bernoullis [\",ii, \"](a_y)=\", dfdx_a_bernoullis[ii](y, a_y, p))\n",
    "                    print(\"dfdx_a_bernoullis [\",ii, \"](a_y)=\", dfdx_a_bernoullis[ii](y_symb=y, y_val=a_y, p=p))\n",
    "\n",
    "        elif 2 == k:\n",
    "            if use_int_R_p_j:\n",
    "                vx, jx = var(\"v_x, j_x\")\n",
    "                term_2 = lambda y_symb, y_val, p, jx : (-1)^(p+1)*definite_integral_derivative(f=f(x,y_symb).diff(x,p) \\\n",
    "                                                                                 .subs(x == vx + jx) \\\n",
    "                                        * B(x=vx,p=p)/fact(n=p), x=vx, a=0, b=1, diff_param=y_symb, hold=False) \\\n",
    "                                                                                .subs(y_symb == y_val)\n",
    "\n",
    "                if logging:\n",
    "                    print(\"k\", k)\n",
    "                    print(\"term_2(y_symb=y, y_val=a_y,jx=a_x) =\", term_2(y_symb=y, y_val=a_y, p=p, jx=a_x))\n",
    "\n",
    "                R_p_2 = lambda y_symb, y_val, p : symbolic_sum(expression=term_2(y_symb=y_symb, y_val=y_val, p=p, jx=jx), \\\n",
    "                                                                 v=jx, a=a_x, b=b_x-1)\n",
    "                dfdx_a_bernoullis_terms += [lambda y_symb, y_val, p, jx, i=i : \\\n",
    "                                            term_2(y_symb=y_symb, y_val=y_val, p=p, jx=jx)*(bernoulli(k)/factorial(k))]\n",
    "            else:\n",
    "                R_p_2 = lambda y_symb, y_val, p : (-1)^(p+1)*definite_integral_derivative(f=f(x,y_symb).diff(x,p) \\\n",
    "                                            * P(x=x,p=p)/fact(n=p), x=x, a=a_x, b=b_x, diff_param=y_symb) \\\n",
    "                                                  .subs(y_symb == y_val)\n",
    "\n",
    "                if logging:\n",
    "                    print(\"k\", k)\n",
    "                    print(\"R_p_2(y_symb=y, y_val=a_y) =\", R_p_2(y, y, p))\n",
    "                    print(\"R_p_2(y_symb=y, y_val=a_y) =\", R_p_2(y_symb=y, y_val=a_y, p=p))\n",
    "                \n",
    "            if logging:\n",
    "                print(\"R_p(y_symb=y, y_val=a_y) =\", R_p_2(y_symb=y, y_val=a_y, p=p))\n",
    "                print(\"\\n\")\n",
    "        \n",
    "            dfdx_a_bernoullis += [lambda y_symb, y_val, p, i=i : R_p_2(y_symb=y_symb, y_val=y_val, p=p)*(bernoulli(k)/factorial(k))]\n",
    "            if logging:\n",
    "                print(\"dfdx_a_bernoullis =\", dfdx_a_bernoullis)\n",
    "                print(\"len(dfdx_a_bernoullis) =\", len(dfdx_a_bernoullis))\n",
    "\n",
    "                for ii in range(len(dfdx_a_bernoullis)):\n",
    "                    print(\"dfdx_a_bernoullis [\",ii, \"]()=\", dfdx_a_bernoullis[ii])\n",
    "                    print(\"dfdx_a_bernoullis [\",ii, \"]()=\", dfdx_a_bernoullis[ii](y, y, p))\n",
    "                    print(\"dfdx_a_bernoullis [\",ii, \"](a_y)=\", dfdx_a_bernoullis[ii](y, a_y, p))\n",
    "                    print(\"dfdx_a_bernoullis [\",ii, \"](a_y)=\", dfdx_a_bernoullis[ii](y_symb=y, y_val=a_y, p=p))\n",
    "        else:\n",
    "            if use_int_R_p_j:\n",
    "                vx, jx = var(\"v_x, j_x\")\n",
    "                term_3 = lambda y_symb, y_val, p, jx : (-1)^(p+1)*definite_integral_derivative(f=f(x,y_symb).diff(x,p) \\\n",
    "                                                                                 .subs(x == vx + jx) \\\n",
    "                                        * B(x=vx,p=p)/fact(n=p), x=vx, a=0, b=1, diff_param=y_symb, hold=False) \\\n",
    "                                            .diff(y_symb, k-2) .subs(y_symb == y_val)\n",
    "\n",
    "                if logging:\n",
    "                    print(\"k\", k)\n",
    "                    print(\"term_3(y_symb=y, y_val=a_y,jx=a_x) =\", term_3(y_symb=y, y_val=a_y, p=p, jx=a_x))\n",
    "                    \n",
    "                R_p_3 = lambda y_symb, y_val, p : symbolic_sum(expression=term_3(y_symb=y_symb, y_val=y_val, p=p, jx=jx), \\\n",
    "                                                                 v=jx, a=a_x, b=b_x-1)\n",
    "                dfdx_a_bernoullis_terms += [lambda y_symb, y_val, p, jx, i=i : \\\n",
    "                                            term_3(y_symb=y_symb, y_val=y_val, p=p, jx=jx)*(bernoulli(k)/factorial(k))]\n",
    "            else:\n",
    "                R_p_3 = lambda y_symb, y_val, p : (-1)^(p+1)*definite_integral_derivative(f=f(x,y_symb).diff(x,p) \\\n",
    "                                                    * P(x=x,p=p)/fact(n=p), x=x, a=a_x, b=b_x, diff_param=y_symb) \\\n",
    "                                                    .diff(y_symb, k-2).subs(y_symb == y_val)\n",
    "                \n",
    "            if logging:\n",
    "                print(\"R_p(y_symb=y, y_val=a_y) =\", R_p_3(y_symb=y, y_val=a_y, p=p))\n",
    "                print(\"\\n\")\n",
    "\n",
    "            dfdx_a_bernoullis += [lambda y_symb, y_val, p, i=i : R_p_3(y_symb=y_symb, y_val=y_val, p=p)*(bernoulli(k)/factorial(k))]\n",
    "            if logging:\n",
    "                print(\"dfdx_a_bernoullis =\", dfdx_a_bernoullis)\n",
    "                print(\"len(dfdx_a_bernoullis) =\", len(dfdx_a_bernoullis))\n",
    "\n",
    "                for ii in range(len(dfdx_a_bernoullis)):\n",
    "                    print(\"dfdx_a_bernoullis [\",ii, \"]()=\", dfdx_a_bernoullis[ii])\n",
    "                    print(\"dfdx_a_bernoullis [\",ii, \"]()=\", dfdx_a_bernoullis[ii](y, y, p))\n",
    "                    print(\"dfdx_a_bernoullis [\",ii, \"](a_y)=\", dfdx_a_bernoullis[ii](y, a_y, p))\n",
    "                    print(\"dfdx_a_bernoullis [\",ii, \"](a_y)=\", dfdx_a_bernoullis[ii](y_symb=y, y_val=a_y, p=p))\n",
    "\n",
    "    if logging:\n",
    "        print(\"dfdx_a_bernoullis =\", dfdx_a_bernoullis)\n",
    "        print(\"len(dfdx_a_bernoullis) =\", len(dfdx_a_bernoullis))\n",
    "        \n",
    "        for ii in range(len(dfdx_a_bernoullis)):\n",
    "            print(\"dfdx_a_bernoullis [\",ii, \"]()=\", dfdx_a_bernoullis[ii])\n",
    "            print(\"dfdx_a_bernoullis [\",ii, \"]()=\", dfdx_a_bernoullis[ii](y, y, p))\n",
    "            print(\"dfdx_a_bernoullis [\",ii, \"](a_y)=\", dfdx_a_bernoullis[ii](y, a_y, p))\n",
    "            print(\"dfdx_a_bernoullis [\",ii, \"](a_y)=\", dfdx_a_bernoullis[ii](y_symb=y, y_val=a_y, p=p))\n",
    "\n",
    "\n",
    "\n",
    "    sum_dfdx_a_bernoullis = lambda y_symb, y_val, p : sum([dfdx_a_bernoullis[i](y_symb, y_val, p) \\\n",
    "                                                      for i in range(len(dfdx_a_bernoullis))])\n",
    "    \n",
    "    sum_dfdx_a_bernoullis_terms = lambda y_symb, y_val, p, jx : sum([dfdx_a_bernoullis_terms[i](y_symb, y_val, p, jx) \\\n",
    "                                                               for i in range(len(dfdx_a_bernoullis_terms))])\n",
    "    \n",
    "    if logging:\n",
    "        print(\"sum_dfdx_a_bernoullis =\", sum_dfdx_a_bernoullis)\n",
    "        print(\"sum_dfdx_a_bernoullis(a_y) =\", sum_dfdx_a_bernoullis(y_symb=y, y_val=a_y, p=p))\n",
    "    \n",
    "    s = - sum_dfdx_a_bernoullis(y_symb=y, y_val=a_y, p=p)\n",
    "    if b_y is Infinity:\n",
    "        s_terms = lambda jx : - sum_dfdx_a_bernoullis_terms(y_symb=y, y_val=a_y, p=p, jx=jx)\n",
    "    else:\n",
    "        s += sum_dfdx_a_bernoullis(y_symb=y, y_val=b_y, p=p)\n",
    "        s_terms = lambda jx : sum_dfdx_a_bernoullis_terms(y_symb=y, y_val=b_y, p=p, jx=jx) - sum_dfdx_a_bernoullis_terms(y_symb=y, y_val=a_y, p=p, jx=jx)\n",
    "    return s, s_terms"
   ]
  },
  {
   "cell_type": "markdown",
   "metadata": {},
   "source": [
    "$${\\displaystyle R_{p}=(-1)^{p+1}\\sum_{j=a_y}^{b_y-1} \\int _{0}^{1}g^{(p)}(v_y+j){\\frac {B_{p}(v_y)}{p!}}\\,dv_y.}$$"
   ]
  },
  {
   "cell_type": "markdown",
   "metadata": {},
   "source": [
    "$${\\displaystyle P_{k}(y)=B_{k}(y-\\lfloor y\\rfloor ),}$$\n",
    "\n",
    "$${\\displaystyle R_{p}=(-1)^{p+1}\\int _{a_y}^{b_y}g^{(p)}(y){\\frac {P_{p}(y)}{p!}}\\,dy.}$$\n",
    "\n",
    "where"
   ]
  },
  {
   "cell_type": "markdown",
   "metadata": {},
   "source": [
    "$$g(y) = {\\displaystyle R_{p}(y)=(-1)^{p+1}\\sum_{j=a_x}^{b_x-1} \\int _{0}^{1}\\frac{\\partial^{p}}{\\partial x^{p}}f(v_x+j,y){\\frac {B_{p}(v_x)}{p!}}\\,dv_x.}$$\n",
    "or"
   ]
  },
  {
   "cell_type": "markdown",
   "metadata": {},
   "source": [
    "$${\\displaystyle P_{k}(x)=B_{k}(x-\\lfloor x\\rfloor ),}$$\n",
    "\n",
    "$$g(y) = {\\displaystyle R_{p}=(-1)^{p+1}\\int _{a_x}^{b_x}\\frac{\\partial^{p}}{\\partial x^{p}}f(x,y){\\frac {P_{p}(x)}{p!}}\\,dx.}$$"
   ]
  },
  {
   "cell_type": "code",
   "execution_count": 12,
   "metadata": {},
   "outputs": [],
   "source": [
    "#R_p_R_p = euler_maclaurin_R_p(euler_maclaurin_R_p(F(x,y), x, a_x, b_x,p), y, a_y, b_y, p)\n",
    "def euler_maclaurin_R_p_euler_maclaurin_R_p(f, x, a_x, b_x, y, a_y, b_y, p, f_diff_x_p_diff_y_p):\n",
    "\n",
    "    from sage.calculus.calculus import symbolic_sum\n",
    "    from sage.symbolic.integration.integral import definite_integral\n",
    "    if use_int_R_p_j:\n",
    "        vx,vy = var(\"v_x, v_y\")\n",
    "        jx,jy = var(\"j_x, j_y\")\n",
    "        assume(v_y+j_y>0)\n",
    "        \n",
    "        if None == f_diff_x_p_diff_y_p:\n",
    "            f_diff_x_p_diff_y_p = f.diff(x,p).diff(y,p)\n",
    "\n",
    "        R_p_R_p = (-1)^(p+1)*symbolic_sum(definite_integral( \\\n",
    "                               (-1)^(p+1)*symbolic_sum(definite_integral(f_diff_x_p_diff_y_p.subs(x == vx + jx)  \\\n",
    "                                                              * B(x=vx,p=p)/fact(n=p), \\\n",
    "                                 vx,0,1,hold=True), v=jx, a=a_x, b=b_x-1,hold=True) \\\n",
    "                                                                        .diff(y,p).subs(y == vy + jy)  \\\n",
    "                                                              * B(x=vy,p=p)/fact(n=p), \\\n",
    "                                 vy,0,1,hold=True), v=jy, a=a_y, b=b_y-1,hold=True)\n",
    "    else:\n",
    "        if not use_num_int:\n",
    "\n",
    "            if None == f_diff_x_p_diff_y_p:\n",
    "                f_diff_x_p_diff_y_p = f.diff(x,p)\n",
    "\n",
    "            R_p_R_p = (-1)^(p+1)*definite_integral( \\\n",
    "                               (-1)^(p+1)*definite_integral(f_diff_x_p_diff_y_p  \\\n",
    "                                                              * P(x=x,p=p)/fact(n=p), \\\n",
    "                                 x, a_x, b_x, hold=True).diff(y,p)  \\\n",
    "                                                              * P(x=y,p=p)/fact(n=p), \\\n",
    "                                 y, a_y, b_y, hold=True)\n",
    "        else:\n",
    "            f_diff_x_p_diff_y_p_num_str = \"f_diff_x_diff_y_num = lambda \" + str(x) + \", \" + str(y) + \":\" + str(f(x,y).diff(x,p).diff(y,p))\n",
    "            print(\"f_diff_x_p_diff_y_p_num_str=\", f_diff_x_p_diff_y_p_num_str)                                                                          \n",
    "            exec(preparse(f_diff_x_p_diff_y_p_num_str))\n",
    "            R_p_R_p = (-1)^(p+1)*num_int(lambda y : \\\n",
    "                               (-1)^(p+1)*num_int(lambda x : f_diff_x_p_diff_y_p_num(x,y)  \\\n",
    "                                                              * P(x=x,p=p)/fact(n=p), \\\n",
    "                                 a_x, b_x)  \\\n",
    "                                                              * P(x=y,p=p)/fact(n=p), \\\n",
    "                                 a_y, b_y)\n",
    "        \n",
    "    return R_p_R_p"
   ]
  },
  {
   "cell_type": "code",
   "execution_count": 13,
   "metadata": {},
   "outputs": [],
   "source": [
    "#R_p_R_p = euler_maclaurin_R_p(euler_maclaurin_R_p(F(x,y), x, a_x, b_x,p), y, a_y, b_y, p)\n",
    "def euler_maclaurin_R_p_euler_maclaurin_R_p_num_int(f_diff_x_p_diff_y_p, x, a_x, b_x, y, a_y, b_y, p):\n",
    "    R_p_R_p = (-1)^(p+1)*num_int(lambda y : \\\n",
    "                       (-1)^(p+1)*num_int(lambda x : f_diff_x_p_diff_y_p(x,y)  \\\n",
    "                                                      * P(x=x,p=p)/fact(n=p), \\\n",
    "                         a_x, b_x)  \\\n",
    "                                                      * P(x=y,p=p)/fact(n=p), \\\n",
    "                         a_y, b_y)\n",
    "    return R_p_R_p"
   ]
  },
  {
   "cell_type": "code",
   "execution_count": 14,
   "metadata": {},
   "outputs": [],
   "source": [
    "def euler_maclaurin1(f, symb, a, b, p, f_diff_symb_p=None, hold_int=True, hold_sum=True):\n",
    "    if logging:\n",
    "        print(\"f\", f)\n",
    "        print(\"symb,a,b\", symb, a, b)\n",
    "        print(\"\")\n",
    "    #u, j = var(\"u, j\")\n",
    "\n",
    "    int_fn_a_b = integral(f, (symb, a, b))\n",
    "    if logging:\n",
    "        print(\"int_fn_a_b\", int_fn_a_b)\n",
    "    \n",
    "    #s = int_fn_a_b + sum_dfdx_a_bernoullis(b) - sum_dfdx_a_bernoullis(a) + R_p\n",
    "    s = int_fn_a_b + sum_dfdx_bernoulis(f,symb,a,b,p)\n",
    "    \n",
    "    if True == calc_R_p:\n",
    "        R_p = euler_maclaurin_R_p(f, symb, a, b, p, f_diff_symb_p=f_diff_symb_p,hold_int=hold_int, hold_sum=hold_sum)\n",
    "        if type(R_p) is tuple:\n",
    "            s += R_p[0]\n",
    "        else:\n",
    "            s += R_p\n",
    "\n",
    "    return s"
   ]
  },
  {
   "cell_type": "code",
   "execution_count": 15,
   "metadata": {},
   "outputs": [],
   "source": [
    "from IPython.display import display, Math, Latex"
   ]
  },
  {
   "cell_type": "code",
   "execution_count": 16,
   "metadata": {},
   "outputs": [
    {
     "name": "stdout",
     "output_type": "stream",
     "text": [
      "s [_SAGE_VAR_n_x>0]\n",
      "parser_output [n_x > 0]\n",
      "s [_SAGE_VAR_b_x>0]\n",
      "parser_output [b_x > 0]\n",
      "s [_SAGE_VAR_n_y>0]\n",
      "parser_output [n_y > 0]\n",
      "s [_SAGE_VAR_b_y>0]\n",
      "parser_output [b_y > 0]\n",
      "F(x, y)\n"
     ]
    }
   ],
   "source": [
    "a_x = var(\"n_x\")\n",
    "b_x = var(\"b_x\")\n",
    "a_y = var(\"n_y\")\n",
    "b_y = var(\"b_y\")\n",
    "\n",
    "assume(a_x, 'real')\n",
    "assume(b_x, 'real')\n",
    "assume(a_y, 'real')\n",
    "assume(b_y, 'real')\n",
    "\n",
    "assume(a_x, 'integer')\n",
    "assume(b_x, 'integer')\n",
    "assume(a_y, 'integer')\n",
    "assume(b_y, 'integer')\n",
    "\n",
    "assume(a_x > 0)\n",
    "assume(b_x > 0)\n",
    "assume(a_y > 0)\n",
    "assume(b_y > 0)\n",
    "\n",
    "x,y = var(\"x,y\")\n",
    "\n",
    "n = QQ['n'].0\n",
    "j = QQ['j'].0\n",
    "\n",
    "p = 4\n",
    "p = 3\n",
    "#p = 2\n",
    "#p = 1\n",
    "\n",
    "F = function(\"F\")(x, y)\n",
    "print(F)"
   ]
  },
  {
   "cell_type": "markdown",
   "metadata": {},
   "source": [
    "$${\\displaystyle R_{p}=(-1)^{p+1}\\sum_{j=a}^{b-1} \\int _{0}^{1}f^{(p)}(u+j){\\frac {B_{p}(u)}{p!}}\\,du.}$$"
   ]
  },
  {
   "cell_type": "code",
   "execution_count": 17,
   "metadata": {},
   "outputs": [],
   "source": [
    "use_int_R_p_j=True\n",
    "change_R_p_order=True\n",
    "use_int_R_p_shifted_first=True\n",
    "use_num_int = False"
   ]
  },
  {
   "cell_type": "code",
   "execution_count": 18,
   "metadata": {},
   "outputs": [
    {
     "name": "stdout",
     "output_type": "stream",
     "text": [
      "inty= integrate(F(x, y), y, n_y, b_y)\n"
     ]
    },
    {
     "data": {
      "text/latex": [
       "$\\displaystyle \\int_{n_{y}}^{b_{y}} F\\left(x, y\\right)\\,{d y}$"
      ],
      "text/plain": [
       "<IPython.core.display.Math object>"
      ]
     },
     "metadata": {},
     "output_type": "display_data"
    },
    {
     "name": "stdout",
     "output_type": "stream",
     "text": [
      "sumy= 1/2*F(x, n_y) - 1/12*diff(F(x, n_y), n_y)\n"
     ]
    },
    {
     "data": {
      "text/latex": [
       "$\\displaystyle \\frac{1}{2} \\, F\\left(x, n_{y}\\right) - \\frac{1}{12} \\, \\frac{\\partial}{\\partial n_{y}}F\\left(x, n_{y}\\right)$"
      ],
      "text/plain": [
       "<IPython.core.display.Math object>"
      ]
     },
     "metadata": {},
     "output_type": "display_data"
    },
    {
     "name": "stdout",
     "output_type": "stream",
     "text": [
      "sumy= - ( + (-1/2) * (F(x, y)) + (1/12) * (F(x, y)).diff(y, 1) + (0) * (F(x, y)).diff(y, 2)).subs(y==n_y)\n",
      "sum_y=- ( + (-Integer(1)/Integer(2)) * (F(x, y)) + (Integer(1)/Integer(12)) * (F(x, y)).diff(y, Integer(1)) + (Integer(0)) * (F(x, y)).diff(y, Integer(2))).subs(y==n_y)\n"
     ]
    },
    {
     "name": "stderr",
     "output_type": "stream",
     "text": [
      "<ipython-input-18-74d9e814f2c2>:13: DeprecationWarning: Substitution using function-call syntax and unnamed arguments is deprecated and will be removed from a future release of Sage; you can use named arguments instead, like EXPR(x=..., y=...)\n",
      "See http://trac.sagemath.org/5930 for details.\n",
      "  exec(preparse(\"sum_y=\" + sumy))\n"
     ]
    },
    {
     "data": {
      "text/latex": [
       "$\\displaystyle sum_y= \\frac{1}{2} \\, F\\left(x, n_{y}\\right) - \\frac{1}{12} \\, \\frac{\\partial}{\\partial n_{y}}F\\left(x, n_{y}\\right)$"
      ],
      "text/plain": [
       "<IPython.core.display.Math object>"
      ]
     },
     "metadata": {},
     "output_type": "display_data"
    },
    {
     "name": "stdout",
     "output_type": "stream",
     "text": [
      "s [_SAGE_VAR_j_y>0]\n",
      "parser_output [j_y > 0]\n",
      "s _SAGE_VAR_n_y-_SAGE_VAR_j_y\n",
      "parser_output -j_y + n_y\n",
      "s _SAGE_VAR_n_y-_SAGE_VAR_j_y\n",
      "parser_output -j_y + n_y\n",
      "s _SAGE_VAR_n_y-_SAGE_VAR_j_y\n",
      "parser_output -j_y + n_y\n",
      "s _SAGE_VAR_n_y-_SAGE_VAR_j_y\n",
      "parser_output -j_y + n_y\n",
      "s _SAGE_VAR_b_y-_SAGE_VAR_j_y\n",
      "parser_output b_y - j_y\n",
      "s _SAGE_VAR_b_y-_SAGE_VAR_j_y\n",
      "parser_output b_y - j_y\n",
      "s _SAGE_VAR_b_y-_SAGE_VAR_j_y\n",
      "parser_output b_y - j_y\n",
      "s _SAGE_VAR_b_y-_SAGE_VAR_j_y\n",
      "parser_output b_y - j_y\n",
      "R_py= integrate(sum(1/12*(2*v_y^3 - 3*v_y^2 + v_y)*D[1, 1, 1](F)(x, j_y + v_y), j_y, n_y, b_y - 1), v_y, 0, 1)\n"
     ]
    },
    {
     "data": {
      "text/latex": [
       "$\\displaystyle \\int_{0}^{1} {\\sum_{j_{y}=n_{y}}^{b_{y} - 1} \\frac{1}{12} \\, {\\left(2 \\, v_{y}^{3} - 3 \\, v_{y}^{2} + v_{y}\\right)} \\mathrm{D}_{1, 1, 1}\\left(F\\right)\\left(x, j_{y} + v_{y}\\right)}\\,{d v_{y}}$"
      ],
      "text/plain": [
       "<IPython.core.display.Math object>"
      ]
     },
     "metadata": {},
     "output_type": "display_data"
    }
   ],
   "source": [
    "inty = integral           (F(x,y),(y, a_y, b_y))\n",
    "print(\"inty=\", inty)\n",
    "#print(\"inty=$\", latex(inty),\"$\")\n",
    "display(Math(latex(inty)))\n",
    "\n",
    "sumy = sum_dfdx_bernoulis (F(x,y), y, a_y, b_y,p)\n",
    "print(\"sumy=\", sumy)\n",
    "#print(\"sumy=$\", latex(sumy),\"$\")\n",
    "display(Math(latex(sumy)))\n",
    "\n",
    "sumy = sum_dfdx_bernoulis_str (F(x,y), y, a_y, b_y,p)\n",
    "print(\"sumy=\", sumy)\n",
    "exec(preparse(\"sum_y=\" + sumy))\n",
    "print(preparse(\"sum_y=\" + sumy))\n",
    "#print(\"sum_y=$\", latex(sum_y),\"$\")\n",
    "display(Math(\"sum_y=\" + latex(sum_y)))\n",
    "\n",
    "R_py = euler_maclaurin_R_p(F(x,y), y, a_y, b_y,p)\n",
    "print(\"R_py=\", R_py)\n",
    "#print(\"R_py=$\", latex(R_py),\"$\")\n",
    "display(Math(latex(R_py)))"
   ]
  },
  {
   "cell_type": "code",
   "execution_count": 19,
   "metadata": {},
   "outputs": [
    {
     "name": "stderr",
     "output_type": "stream",
     "text": [
      "<>:17: DeprecationWarning: invalid escape sequence \\_\n",
      "<>:17: DeprecationWarning: invalid escape sequence \\_\n",
      "<ipython-input-19-0baf85e035c4>:17: DeprecationWarning: invalid escape sequence \\_\n",
      "  display(Math(\"inty\\_sumx = \" + latex(inty_sumx)))\n"
     ]
    },
    {
     "name": "stdout",
     "output_type": "stream",
     "text": [
      "int_int= integrate(integrate(F(x, y), x, n_x, b_x), y, n_y, b_y)\n"
     ]
    },
    {
     "data": {
      "text/latex": [
       "$\\displaystyle \\int_{n_{y}}^{b_{y}} \\int_{n_{x}}^{b_{x}} F\\left(x, y\\right)\\,{d x}\\,{d y}$"
      ],
      "text/plain": [
       "<IPython.core.display.Math object>"
      ]
     },
     "metadata": {},
     "output_type": "display_data"
    },
    {
     "name": "stdout",
     "output_type": "stream",
     "text": [
      "int_sum= -1/12*integrate(-6*F(n_x, y), y, n_y, b_y) - 1/12*integrate(diff(F(n_x, y), n_x), y, n_y, b_y)\n"
     ]
    },
    {
     "data": {
      "text/latex": [
       "$\\displaystyle \\frac{1}{2} \\, \\int_{n_{y}}^{b_{y}} F\\left(n_{x}, y\\right)\\,{d y} - \\frac{1}{12} \\, \\int_{n_{y}}^{b_{y}} \\frac{\\partial}{\\partial n_{x}}F\\left(n_{x}, y\\right)\\,{d y}$"
      ],
      "text/plain": [
       "<IPython.core.display.Math object>"
      ]
     },
     "metadata": {},
     "output_type": "display_data"
    },
    {
     "name": "stdout",
     "output_type": "stream",
     "text": [
      "inty_sumx_str= integral(- ( + (-1/2) * (F(x, y)) + (1/12) * (F(x, y)).diff(x, 1) + (0) * (F(x, y)).diff(x, 2)).subs(x==n_x), (y, a_y, b_y))\n",
      "inty_sumx=integral(- ( + (-Integer(1)/Integer(2)) * (F(x, y)) + (Integer(1)/Integer(12)) * (F(x, y)).diff(x, Integer(1)) + (Integer(0)) * (F(x, y)).diff(x, Integer(2))).subs(x==n_x), (y, a_y, b_y))\n",
      "inty_sumx = $ -\\frac{1}{12} \\, \\int_{n_{y}}^{b_{y}} -6 \\, F\\left(n_{x}, y\\right)\\,{d y} - \\frac{1}{12} \\, \\int_{n_{y}}^{b_{y}} \\frac{\\partial}{\\partial n_{x}}F\\left(n_{x}, y\\right)\\,{d y} $\n"
     ]
    },
    {
     "name": "stderr",
     "output_type": "stream",
     "text": [
      "<ipython-input-19-0baf85e035c4>:14: DeprecationWarning: Substitution using function-call syntax and unnamed arguments is deprecated and will be removed from a future release of Sage; you can use named arguments instead, like EXPR(x=..., y=...)\n",
      "See http://trac.sagemath.org/5930 for details.\n",
      "  exec(preparse(\"inty_sumx=\" + inty_sumx_str))\n"
     ]
    },
    {
     "data": {
      "text/latex": [
       "$\\displaystyle inty\\_sumx = -\\frac{1}{12} \\, \\int_{n_{y}}^{b_{y}} -6 \\, F\\left(n_{x}, y\\right)\\,{d y} - \\frac{1}{12} \\, \\int_{n_{y}}^{b_{y}} \\frac{\\partial}{\\partial n_{x}}F\\left(n_{x}, y\\right)\\,{d y}$"
      ],
      "text/plain": [
       "<IPython.core.display.Math object>"
      ]
     },
     "metadata": {},
     "output_type": "display_data"
    },
    {
     "name": "stdout",
     "output_type": "stream",
     "text": [
      "s [_SAGE_VAR_j_x>0]\n",
      "parser_output [j_x > 0]\n",
      "s _SAGE_VAR_n_x-_SAGE_VAR_j_x\n",
      "parser_output -j_x + n_x\n",
      "s _SAGE_VAR_n_x-_SAGE_VAR_j_x\n",
      "parser_output -j_x + n_x\n",
      "s _SAGE_VAR_n_x-_SAGE_VAR_j_x\n",
      "parser_output -j_x + n_x\n",
      "s _SAGE_VAR_n_x-_SAGE_VAR_j_x\n",
      "parser_output -j_x + n_x\n",
      "s _SAGE_VAR_b_x-_SAGE_VAR_j_x\n",
      "parser_output b_x - j_x\n",
      "s _SAGE_VAR_b_x-_SAGE_VAR_j_x\n",
      "parser_output b_x - j_x\n",
      "s _SAGE_VAR_b_x-_SAGE_VAR_j_x\n",
      "parser_output b_x - j_x\n",
      "s _SAGE_VAR_b_x-_SAGE_VAR_j_x\n",
      "parser_output b_x - j_x\n",
      "inty_R_px= integrate(integrate(sum(1/12*(2*v_x^3 - 3*v_x^2 + v_x)*D[0, 0, 0](F)(j_x + v_x, y), j_x, n_x, b_x - 1), v_x, 0, 1), y, n_y, b_y)\n"
     ]
    },
    {
     "data": {
      "text/latex": [
       "$\\displaystyle \\int_{n_{y}}^{b_{y}} \\int_{0}^{1} {\\sum_{j_{x}=n_{x}}^{b_{x} - 1} \\frac{1}{12} \\, {\\left(2 \\, v_{x}^{3} - 3 \\, v_{x}^{2} + v_{x}\\right)} \\mathrm{D}_{0, 0, 0}\\left(F\\right)\\left(j_{x} + v_{x}, y\\right)}\\,{d v_{x}}\\,{d y}$"
      ],
      "text/plain": [
       "<IPython.core.display.Math object>"
      ]
     },
     "metadata": {},
     "output_type": "display_data"
    },
    {
     "name": "stdout",
     "output_type": "stream",
     "text": [
      "s _SAGE_VAR_n_x-_SAGE_VAR_j_x\n",
      "parser_output -j_x + n_x\n",
      "s _SAGE_VAR_n_x-_SAGE_VAR_j_x\n",
      "parser_output -j_x + n_x\n",
      "s _SAGE_VAR_n_x-_SAGE_VAR_j_x\n",
      "parser_output -j_x + n_x\n",
      "s _SAGE_VAR_n_x-_SAGE_VAR_j_x\n",
      "parser_output -j_x + n_x\n",
      "s _SAGE_VAR_b_x-_SAGE_VAR_j_x\n",
      "parser_output b_x - j_x\n",
      "s _SAGE_VAR_b_x-_SAGE_VAR_j_x\n",
      "parser_output b_x - j_x\n",
      "s _SAGE_VAR_b_x-_SAGE_VAR_j_x\n",
      "parser_output b_x - j_x\n",
      "s _SAGE_VAR_b_x-_SAGE_VAR_j_x\n",
      "parser_output b_x - j_x\n",
      "inty_R_px= integrate(integrate(sum(1/12*(2*v_x^3 - 3*v_x^2 + v_x)*D[0, 0, 0](F)(j_x + v_x, y), j_x, n_x, b_x - 1), v_x, 0, 1), y, n_y, b_y)\n"
     ]
    },
    {
     "data": {
      "text/latex": [
       "$\\displaystyle \\int_{n_{y}}^{b_{y}} \\int_{0}^{1} {\\sum_{j_{x}=n_{x}}^{b_{x} - 1} \\frac{1}{12} \\, {\\left(2 \\, v_{x}^{3} - 3 \\, v_{x}^{2} + v_{x}\\right)} \\mathrm{D}_{0, 0, 0}\\left(F\\right)\\left(j_{x} + v_{x}, y\\right)}\\,{d v_{x}}\\,{d y}$"
      ],
      "text/plain": [
       "<IPython.core.display.Math object>"
      ]
     },
     "metadata": {},
     "output_type": "display_data"
    }
   ],
   "source": [
    "int_int = integral(integral           (F(x,y),(x, a_x, b_x)),  (y, a_y, b_y))\n",
    "print(\"int_int=\", int_int)\n",
    "#print(\"int_int=$\", latex(int_int),\"$\")\n",
    "display(Math(latex(int_int)))\n",
    "\n",
    "int_sum = integral(sum_dfdx_bernoulis (F(x,y), x, a_x, b_x,p), (y, a_y, b_y))\n",
    "print(\"int_sum=\", int_sum)\n",
    "#print(\"int_sum=$\", latex(int_sum.expand()),\"$\")\n",
    "display(Math(latex(int_sum.expand())))\n",
    "\n",
    "sumx_str = sum_dfdx_bernoulis_str (F(x,y), x, a_x, b_x, p)\n",
    "inty_sumx_str = \"integral(\" + sumx_str + \", (y, a_y, b_y))\"\n",
    "print(\"inty_sumx_str=\", inty_sumx_str)\n",
    "exec(preparse(\"inty_sumx=\" + inty_sumx_str))\n",
    "print(preparse(\"inty_sumx=\" + inty_sumx_str))\n",
    "print(\"inty_sumx = $\", latex(inty_sumx),\"$\")\n",
    "display(Math(\"inty\\_sumx = \" + latex(inty_sumx)))\n",
    "\n",
    "R_px = euler_maclaurin_R_p(F(x,y), x, a_x, b_x,p)\n",
    "if type(R_px) is tuple:\n",
    "    inty_R_px = integral(R_px[0], (y, a_y, b_y), hold=True)\n",
    "else:\n",
    "    inty_R_px = integral(R_px, (y, a_y, b_y), hold=True)\n",
    "\n",
    "print(\"inty_R_px=\",inty_R_px)\n",
    "#print(\"inty_R_px=$\",latex(inty_R_px),\"$\")\n",
    "display(Math(latex(inty_R_px)))\n",
    "\n",
    "inty_R_px = integral_euler_maclaurin_R_p(F(x,y), x, a_x, b_x, y, a_y, b_y, p, diff(F(x,y),x,p), hold_int=True, hold_sum=True)\n",
    "print(\"inty_R_px=\",inty_R_px)\n",
    "#print(\"inty_R_px=$\",latex(inty_R_px),\"$\")\n",
    "display(Math(latex(inty_R_px)))\n"
   ]
  },
  {
   "cell_type": "code",
   "execution_count": 20,
   "metadata": {},
   "outputs": [
    {
     "name": "stdout",
     "output_type": "stream",
     "text": [
      "sum_int= 1/2*integrate(F(x, n_y), x, n_x, b_x) - 1/12*integrate(diff(F(x, n_y), n_y), x, n_x, b_x)\n"
     ]
    },
    {
     "data": {
      "text/latex": [
       "$\\displaystyle \\frac{1}{2} \\, \\int_{n_{x}}^{b_{x}} F\\left(x, n_{y}\\right)\\,{d x} - \\frac{1}{12} \\, \\int_{n_{x}}^{b_{x}} \\frac{\\partial}{\\partial n_{y}}F\\left(x, n_{y}\\right)\\,{d x}$"
      ],
      "text/plain": [
       "<IPython.core.display.Math object>"
      ]
     },
     "metadata": {},
     "output_type": "display_data"
    },
    {
     "name": "stdout",
     "output_type": "stream",
     "text": [
      "sum_sum= 1/4*F(n_x, n_y) - 1/24*diff(F(n_x, n_y), n_x) + 1/144*diff(F(n_x, n_y), n_x, n_y) - 1/24*diff(F(n_x, n_y), n_y)\n"
     ]
    },
    {
     "data": {
      "text/latex": [
       "$\\displaystyle \\frac{1}{4} \\, F\\left(n_{x}, n_{y}\\right) - \\frac{1}{24} \\, \\frac{\\partial}{\\partial n_{x}}F\\left(n_{x}, n_{y}\\right) + \\frac{1}{144} \\, \\frac{\\partial^{2}}{\\partial n_{x}\\partial n_{y}}F\\left(n_{x}, n_{y}\\right) - \\frac{1}{24} \\, \\frac{\\partial}{\\partial n_{y}}F\\left(n_{x}, n_{y}\\right)$"
      ],
      "text/plain": [
       "<IPython.core.display.Math object>"
      ]
     },
     "metadata": {},
     "output_type": "display_data"
    },
    {
     "name": "stdout",
     "output_type": "stream",
     "text": [
      "R_px= integrate(1/12*(2*(x - floor(x))^3 - 3*(x - floor(x))^2 + x - floor(x))*diff(F(x, y), x, x, x), x, n_x, b_x)\n"
     ]
    },
    {
     "data": {
      "text/latex": [
       "$\\displaystyle \\int_{n_{x}}^{b_{x}} \\frac{1}{12} \\, {\\left(2 \\, {\\left(x - \\left \\lfloor x \\right \\rfloor\\right)}^{3} - 3 \\, {\\left(x - \\left \\lfloor x \\right \\rfloor\\right)}^{2} + x - \\left \\lfloor x \\right \\rfloor\\right)} \\frac{\\partial^{3}}{(\\partial x)^{3}}F\\left(x, y\\right)\\,{d x}$"
      ],
      "text/plain": [
       "<IPython.core.display.Math object>"
      ]
     },
     "metadata": {},
     "output_type": "display_data"
    },
    {
     "name": "stdout",
     "output_type": "stream",
     "text": [
      "sumy_R_px= 1/24*integrate((2*(x - floor(x))^3 - 3*(x - floor(x))^2 + x - floor(x))*diff(F(x, n_y), x, x, x), x, n_x, b_x) - 1/144*integrate((2*(x - floor(x))^3 - 3*(x - floor(x))^2 + x - floor(x))*diff(F(x, n_y), x, x, x, n_y), x, n_x, b_x)\n"
     ]
    },
    {
     "data": {
      "text/latex": [
       "$\\displaystyle \\frac{1}{24} \\, \\int_{n_{x}}^{b_{x}} {\\left(2 \\, {\\left(x - \\left \\lfloor x \\right \\rfloor\\right)}^{3} - 3 \\, {\\left(x - \\left \\lfloor x \\right \\rfloor\\right)}^{2} + x - \\left \\lfloor x \\right \\rfloor\\right)} \\frac{\\partial^{3}}{(\\partial x)^{3}}F\\left(x, n_{y}\\right)\\,{d x} - \\frac{1}{144} \\, \\int_{n_{x}}^{b_{x}} {\\left(2 \\, {\\left(x - \\left \\lfloor x \\right \\rfloor\\right)}^{3} - 3 \\, {\\left(x - \\left \\lfloor x \\right \\rfloor\\right)}^{2} + x - \\left \\lfloor x \\right \\rfloor\\right)} \\frac{\\partial^{4}}{(\\partial x)^{3}\\partial n_{y}}F\\left(x, n_{y}\\right)\\,{d x}$"
      ],
      "text/plain": [
       "<IPython.core.display.Math object>"
      ]
     },
     "metadata": {},
     "output_type": "display_data"
    },
    {
     "name": "stdout",
     "output_type": "stream",
     "text": [
      "sum_R_p= 1/24*integrate((2*(x - floor(x))^3 - 3*(x - floor(x))^2 + x - floor(x))*diff(F(x, n_y), x, x, x), x, n_x, b_x) - 1/144*integrate((2*(x - floor(x))^3 - 3*(x - floor(x))^2 + x - floor(x))*diff(F(x, n_y), x, x, x, n_y), x, n_x, b_x)\n"
     ]
    },
    {
     "data": {
      "text/latex": [
       "$\\displaystyle \\frac{1}{24} \\, \\int_{n_{x}}^{b_{x}} {\\left(2 \\, {\\left(x - \\left \\lfloor x \\right \\rfloor\\right)}^{3} - 3 \\, {\\left(x - \\left \\lfloor x \\right \\rfloor\\right)}^{2} + x - \\left \\lfloor x \\right \\rfloor\\right)} \\frac{\\partial^{3}}{(\\partial x)^{3}}F\\left(x, n_{y}\\right)\\,{d x} - \\frac{1}{144} \\, \\int_{n_{x}}^{b_{x}} {\\left(2 \\, {\\left(x - \\left \\lfloor x \\right \\rfloor\\right)}^{3} - 3 \\, {\\left(x - \\left \\lfloor x \\right \\rfloor\\right)}^{2} + x - \\left \\lfloor x \\right \\rfloor\\right)} \\frac{\\partial^{4}}{(\\partial x)^{3}\\partial n_{y}}F\\left(x, n_{y}\\right)\\,{d x}$"
      ],
      "text/plain": [
       "<IPython.core.display.Math object>"
      ]
     },
     "metadata": {},
     "output_type": "display_data"
    }
   ],
   "source": [
    "sum_int = sum_dfdx_bernoulis(integral           (F(x,y),(x, a_x, b_x)),  y, a_y, b_y, p)\n",
    "print(\"sum_int=\",sum_int)\n",
    "#print(\"sum_int=$\",latex(sum_int),\"$\")\n",
    "display(Math(latex(sum_int)))\n",
    "\n",
    "sum_sum = sum_dfdx_bernoulis(sum_dfdx_bernoulis (F(x,y), x, a_x, b_x,p), y, a_y, b_y, p)\n",
    "print(\"sum_sum=\",sum_sum)\n",
    "#print(\"sum_sum=$\",latex(sum_sum),\"$\")\n",
    "display(Math(latex(sum_sum)))\n",
    "\n",
    "use_int_R_p_j=False\n",
    "if not use_int_R_p_j:\n",
    "    R_px = euler_maclaurin_R_p(F(x,y), x, a_x, b_x,p, f_diff_symb_p=F(x,y).diff(x,p))\n",
    "    print(\"R_px=\", R_px)\n",
    "    #print(\"R_px=$\",latex(R_px),\"$\")\n",
    "    display(Math(latex(R_px)))\n",
    "\n",
    "    sumy_R_px = sum_dfdx_bernoulis(R_px, y, a_y, b_y, p)\n",
    "    print(\"sumy_R_px=\",sumy_R_px)\n",
    "    #print(\"sumy_R_px=$\",latex(sumy_R_px),\"$\")\n",
    "    display(Math(latex(sumy_R_px)))\n",
    "\n",
    "    sum_R_p = sum_dfdx_bernoulis(euler_maclaurin_R_p(F(x,y), x, a_x, b_x,p, f_diff_symb_p=F(x,y).diff(x,p)), y, a_y, b_y, p)\n",
    "    print(\"sum_R_p=\",sum_R_p)\n",
    "    #print(\"sum_R_p=$\",latex(sum_R_p),\"$\")\n",
    "    display(Math(latex(sum_R_p)))\n",
    "else:\n",
    "    # Sagemath 9.3 has bug diff of symbolic_sum\n",
    "    # https://trac.sagemath.org/ticket/32161\n",
    "    pass\n"
   ]
  },
  {
   "cell_type": "code",
   "execution_count": 21,
   "metadata": {},
   "outputs": [
    {
     "name": "stdout",
     "output_type": "stream",
     "text": [
      "sum_dfdx_bernoulis_euler_maclaurin_R_p F(x, y) x n_x b_x y n_y b_y 3\n",
      "k 1\n",
      "R_p_1(y_symb=y, y_val=a_y) = integrate(1/12*(2*(x - floor(x))^3 - 3*(x - floor(x))^2 + x - floor(x))*diff(F(x, y), x, x, x), x, n_x, b_x)\n",
      "R_p_1(y_symb=y, y_val=a_y) = 1/12*integrate((2*(x - floor(x))^3 - 3*(x - floor(x))^2 + x - floor(x))*diff(F(x, n_y), x, x, x), x, n_x, b_x)\n",
      "R_p(y_symb=y, y_val=a_y) = 1/12*integrate((2*(x - floor(x))^3 - 3*(x - floor(x))^2 + x - floor(x))*diff(F(x, n_y), x, x, x), x, n_x, b_x)\n",
      "\n",
      "\n",
      "dfdx_a_bernoullis = [<function sum_dfdx_bernoulis_euler_maclaurin_R_p.<locals>.<lambda> at 0x7fc8a0567ee0>]\n",
      "len(dfdx_a_bernoullis) = 1\n",
      "dfdx_a_bernoullis [ 0 ]()= <function sum_dfdx_bernoulis_euler_maclaurin_R_p.<locals>.<lambda> at 0x7fc8a0567ee0>\n",
      "dfdx_a_bernoullis [ 0 ]()= -1/2*integrate(1/12*(2*(x - floor(x))^3 - 3*(x - floor(x))^2 + x - floor(x))*diff(F(x, y), x, x, x), x, n_x, b_x)\n",
      "dfdx_a_bernoullis [ 0 ](a_y)= -1/24*integrate((2*(x - floor(x))^3 - 3*(x - floor(x))^2 + x - floor(x))*diff(F(x, n_y), x, x, x), x, n_x, b_x)\n",
      "dfdx_a_bernoullis [ 0 ](a_y)= -1/24*integrate((2*(x - floor(x))^3 - 3*(x - floor(x))^2 + x - floor(x))*diff(F(x, n_y), x, x, x), x, n_x, b_x)\n",
      "k 2\n",
      "R_p_2(y_symb=y, y_val=a_y) = integrate(1/12*(2*(x - floor(x))^3 - 3*(x - floor(x))^2 + x - floor(x))*diff(F(x, y), x, x, x, y), x, n_x, b_x)\n",
      "R_p_2(y_symb=y, y_val=a_y) = 1/12*integrate((2*(x - floor(x))^3 - 3*(x - floor(x))^2 + x - floor(x))*diff(F(x, n_y), x, x, x, n_y), x, n_x, b_x)\n",
      "R_p(y_symb=y, y_val=a_y) = 1/12*integrate((2*(x - floor(x))^3 - 3*(x - floor(x))^2 + x - floor(x))*diff(F(x, n_y), x, x, x, n_y), x, n_x, b_x)\n",
      "\n",
      "\n",
      "dfdx_a_bernoullis = [<function sum_dfdx_bernoulis_euler_maclaurin_R_p.<locals>.<lambda> at 0x7fc8a0567ee0>, <function sum_dfdx_bernoulis_euler_maclaurin_R_p.<locals>.<lambda> at 0x7fc8a05671f0>]\n",
      "len(dfdx_a_bernoullis) = 2\n",
      "dfdx_a_bernoullis [ 0 ]()= <function sum_dfdx_bernoulis_euler_maclaurin_R_p.<locals>.<lambda> at 0x7fc8a0567ee0>\n",
      "dfdx_a_bernoullis [ 0 ]()= 1/12*integrate(1/12*(2*(x - floor(x))^3 - 3*(x - floor(x))^2 + x - floor(x))*diff(F(x, y), x, x, x), x, n_x, b_x)\n",
      "dfdx_a_bernoullis [ 0 ](a_y)= 1/144*integrate((2*(x - floor(x))^3 - 3*(x - floor(x))^2 + x - floor(x))*diff(F(x, n_y), x, x, x), x, n_x, b_x)\n",
      "dfdx_a_bernoullis [ 0 ](a_y)= 1/144*integrate((2*(x - floor(x))^3 - 3*(x - floor(x))^2 + x - floor(x))*diff(F(x, n_y), x, x, x), x, n_x, b_x)\n",
      "dfdx_a_bernoullis [ 1 ]()= <function sum_dfdx_bernoulis_euler_maclaurin_R_p.<locals>.<lambda> at 0x7fc8a05671f0>\n",
      "dfdx_a_bernoullis [ 1 ]()= 1/12*integrate(1/12*(2*(x - floor(x))^3 - 3*(x - floor(x))^2 + x - floor(x))*diff(F(x, y), x, x, x, y), x, n_x, b_x)\n",
      "dfdx_a_bernoullis [ 1 ](a_y)= 1/144*integrate((2*(x - floor(x))^3 - 3*(x - floor(x))^2 + x - floor(x))*diff(F(x, n_y), x, x, x, n_y), x, n_x, b_x)\n",
      "dfdx_a_bernoullis [ 1 ](a_y)= 1/144*integrate((2*(x - floor(x))^3 - 3*(x - floor(x))^2 + x - floor(x))*diff(F(x, n_y), x, x, x, n_y), x, n_x, b_x)\n"
     ]
    },
    {
     "name": "stderr",
     "output_type": "stream",
     "text": [
      "<ipython-input-11-4112e1ee9c8c>:25: DeprecationWarning: Substitution using function-call syntax and unnamed arguments is deprecated and will be removed from a future release of Sage; you can use named arguments instead, like EXPR(x=..., y=...)\n",
      "See http://trac.sagemath.org/5930 for details.\n",
      "  print(\"R_p_1(y_symb=y, y_val=a_y) =\", R_p_1(y, y, p))\n",
      "<ipython-input-11-4112e1ee9c8c>:26: DeprecationWarning: Substitution using function-call syntax and unnamed arguments is deprecated and will be removed from a future release of Sage; you can use named arguments instead, like EXPR(x=..., y=...)\n",
      "See http://trac.sagemath.org/5930 for details.\n",
      "  print(\"R_p_1(y_symb=y, y_val=a_y) =\", R_p_1(y_symb=y, y_val=a_y, p=p))\n",
      "<ipython-input-11-4112e1ee9c8c>:29: DeprecationWarning: Substitution using function-call syntax and unnamed arguments is deprecated and will be removed from a future release of Sage; you can use named arguments instead, like EXPR(x=..., y=...)\n",
      "See http://trac.sagemath.org/5930 for details.\n",
      "  print(\"R_p(y_symb=y, y_val=a_y) =\", R_p_1(y_symb=y, y_val=a_y, p=p))\n",
      "<ipython-input-11-4112e1ee9c8c>:32: DeprecationWarning: Substitution using function-call syntax and unnamed arguments is deprecated and will be removed from a future release of Sage; you can use named arguments instead, like EXPR(x=..., y=...)\n",
      "See http://trac.sagemath.org/5930 for details.\n",
      "  dfdx_a_bernoullis += [lambda y_symb, y_val, p, i=i : R_p_1(y_symb=y_symb, y_val=y_val, p=p)*(bernoulli(k)/factorial(k))]\n",
      "<ipython-input-11-4112e1ee9c8c>:59: DeprecationWarning: Substitution using function-call syntax and unnamed arguments is deprecated and will be removed from a future release of Sage; you can use named arguments instead, like EXPR(x=..., y=...)\n",
      "See http://trac.sagemath.org/5930 for details.\n",
      "  print(\"R_p_2(y_symb=y, y_val=a_y) =\", R_p_2(y, y, p))\n",
      "<ipython-input-11-4112e1ee9c8c>:60: DeprecationWarning: Substitution using function-call syntax and unnamed arguments is deprecated and will be removed from a future release of Sage; you can use named arguments instead, like EXPR(x=..., y=...)\n",
      "See http://trac.sagemath.org/5930 for details.\n",
      "  print(\"R_p_2(y_symb=y, y_val=a_y) =\", R_p_2(y_symb=y, y_val=a_y, p=p))\n",
      "<ipython-input-11-4112e1ee9c8c>:63: DeprecationWarning: Substitution using function-call syntax and unnamed arguments is deprecated and will be removed from a future release of Sage; you can use named arguments instead, like EXPR(x=..., y=...)\n",
      "See http://trac.sagemath.org/5930 for details.\n",
      "  print(\"R_p(y_symb=y, y_val=a_y) =\", R_p_2(y_symb=y, y_val=a_y, p=p))\n",
      "<ipython-input-11-4112e1ee9c8c>:66: DeprecationWarning: Substitution using function-call syntax and unnamed arguments is deprecated and will be removed from a future release of Sage; you can use named arguments instead, like EXPR(x=..., y=...)\n",
      "See http://trac.sagemath.org/5930 for details.\n",
      "  dfdx_a_bernoullis += [lambda y_symb, y_val, p, i=i : R_p_2(y_symb=y_symb, y_val=y_val, p=p)*(bernoulli(k)/factorial(k))]\n",
      "<ipython-input-11-4112e1ee9c8c>:91: DeprecationWarning: Substitution using function-call syntax and unnamed arguments is deprecated and will be removed from a future release of Sage; you can use named arguments instead, like EXPR(x=..., y=...)\n",
      "See http://trac.sagemath.org/5930 for details.\n",
      "  print(\"R_p(y_symb=y, y_val=a_y) =\", R_p_3(y_symb=y, y_val=a_y, p=p))\n"
     ]
    },
    {
     "name": "stdout",
     "output_type": "stream",
     "text": [
      "R_p(y_symb=y, y_val=a_y) = 1/12*integrate((2*(x - floor(x))^3 - 3*(x - floor(x))^2 + x - floor(x))*diff(F(x, n_y), x, x, x, n_y, n_y), x, n_x, b_x)\n",
      "\n",
      "\n",
      "dfdx_a_bernoullis = [<function sum_dfdx_bernoulis_euler_maclaurin_R_p.<locals>.<lambda> at 0x7fc8a0567ee0>, <function sum_dfdx_bernoulis_euler_maclaurin_R_p.<locals>.<lambda> at 0x7fc8a05671f0>, <function sum_dfdx_bernoulis_euler_maclaurin_R_p.<locals>.<lambda> at 0x7fc8a077dc10>]\n",
      "len(dfdx_a_bernoullis) = 3\n",
      "dfdx_a_bernoullis [ 0 ]()= <function sum_dfdx_bernoulis_euler_maclaurin_R_p.<locals>.<lambda> at 0x7fc8a0567ee0>\n",
      "dfdx_a_bernoullis [ 0 ]()= 0\n",
      "dfdx_a_bernoullis [ 0 ](a_y)= 0\n",
      "dfdx_a_bernoullis [ 0 ](a_y)= 0\n",
      "dfdx_a_bernoullis [ 1 ]()= <function sum_dfdx_bernoulis_euler_maclaurin_R_p.<locals>.<lambda> at 0x7fc8a05671f0>\n",
      "dfdx_a_bernoullis [ 1 ]()= 0\n",
      "dfdx_a_bernoullis [ 1 ](a_y)= 0\n",
      "dfdx_a_bernoullis [ 1 ](a_y)= 0\n",
      "dfdx_a_bernoullis [ 2 ]()= <function sum_dfdx_bernoulis_euler_maclaurin_R_p.<locals>.<lambda> at 0x7fc8a077dc10>\n",
      "dfdx_a_bernoullis [ 2 ]()= 0\n"
     ]
    },
    {
     "name": "stderr",
     "output_type": "stream",
     "text": [
      "<ipython-input-11-4112e1ee9c8c>:94: DeprecationWarning: Substitution using function-call syntax and unnamed arguments is deprecated and will be removed from a future release of Sage; you can use named arguments instead, like EXPR(x=..., y=...)\n",
      "See http://trac.sagemath.org/5930 for details.\n",
      "  dfdx_a_bernoullis += [lambda y_symb, y_val, p, i=i : R_p_3(y_symb=y_symb, y_val=y_val, p=p)*(bernoulli(k)/factorial(k))]\n"
     ]
    },
    {
     "name": "stdout",
     "output_type": "stream",
     "text": [
      "dfdx_a_bernoullis [ 2 ](a_y)= 0\n",
      "dfdx_a_bernoullis [ 2 ](a_y)= 0\n",
      "dfdx_a_bernoullis = [<function sum_dfdx_bernoulis_euler_maclaurin_R_p.<locals>.<lambda> at 0x7fc8a0567ee0>, <function sum_dfdx_bernoulis_euler_maclaurin_R_p.<locals>.<lambda> at 0x7fc8a05671f0>, <function sum_dfdx_bernoulis_euler_maclaurin_R_p.<locals>.<lambda> at 0x7fc8a077dc10>]\n",
      "len(dfdx_a_bernoullis) = 3\n",
      "dfdx_a_bernoullis [ 0 ]()= <function sum_dfdx_bernoulis_euler_maclaurin_R_p.<locals>.<lambda> at 0x7fc8a0567ee0>\n",
      "dfdx_a_bernoullis [ 0 ]()= 0\n",
      "dfdx_a_bernoullis [ 0 ](a_y)= 0\n",
      "dfdx_a_bernoullis [ 0 ](a_y)= 0\n",
      "dfdx_a_bernoullis [ 1 ]()= <function sum_dfdx_bernoulis_euler_maclaurin_R_p.<locals>.<lambda> at 0x7fc8a05671f0>\n",
      "dfdx_a_bernoullis [ 1 ]()= 0\n",
      "dfdx_a_bernoullis [ 1 ](a_y)= 0\n",
      "dfdx_a_bernoullis [ 1 ](a_y)= 0\n",
      "dfdx_a_bernoullis [ 2 ]()= <function sum_dfdx_bernoulis_euler_maclaurin_R_p.<locals>.<lambda> at 0x7fc8a077dc10>\n",
      "dfdx_a_bernoullis [ 2 ]()= 0\n",
      "dfdx_a_bernoullis [ 2 ](a_y)= 0\n",
      "dfdx_a_bernoullis [ 2 ](a_y)= 0\n",
      "sum_dfdx_a_bernoullis = <function sum_dfdx_bernoulis_euler_maclaurin_R_p.<locals>.<lambda> at 0x7fc8a052e8b0>\n",
      "sum_dfdx_a_bernoullis(a_y) = 0\n",
      "sum_R_p= 0\n"
     ]
    },
    {
     "data": {
      "text/latex": [
       "$\\displaystyle 0$"
      ],
      "text/plain": [
       "<IPython.core.display.Math object>"
      ]
     },
     "metadata": {},
     "output_type": "display_data"
    }
   ],
   "source": [
    "# with p = 3 I have\n",
    "# bug with zeroing of array of lambdas\n",
    "# here (inside sum_dfdx_bernoulis_euler_maclaurin_R_p)\n",
    "use_int_R_p_j=False\n",
    "logging = True\n",
    "sum_R_p = sum_dfdx_bernoulis_euler_maclaurin_R_p(F(x,y), x, a_x, b_x,    y, a_y, b_y, p)\n",
    "\n",
    "if type(sum_R_p) is tuple:\n",
    "    print(\"sum_R_p=\",sum_R_p[0])\n",
    "    #print(\"sum_R_p=$\",latex(sum_R_p[0]),\"$\")\n",
    "    display(Math(latex(sum_R_p[0])))\n",
    "else:\n",
    "    print(\"sum_R_p=\",sum_R_p)\n",
    "    #print(\"sum_R_p=$\",latex(sum_R_p),\"$\")\n",
    "    display(Math(latex(sum_R_p)))"
   ]
  },
  {
   "cell_type": "code",
   "execution_count": 22,
   "metadata": {},
   "outputs": [
    {
     "name": "stdout",
     "output_type": "stream",
     "text": [
      "f integrate(F(x, y), x, n_x, b_x)\n",
      "symb,a,b y n_y b_y\n",
      "f_diff_symb_p diff(F(x, y), y, y, y)\n",
      "\n",
      "(-1)^(p+1)*P(x=symb,p=p)/fact(n=p) 1/6*(y - floor(y))^3 - 1/4*(y - floor(y))^2 + 1/12*y - 1/12*floor(y)\n",
      "R_p_int= integrate(1/12*(2*(y - floor(y))^3 - 3*(y - floor(y))^2 + y - floor(y))*diff(F(x, y), y, y, y), y, n_y, b_y)\n"
     ]
    },
    {
     "data": {
      "text/latex": [
       "$\\displaystyle \\int_{n_{y}}^{b_{y}} \\frac{1}{12} \\, {\\left(2 \\, {\\left(y - \\left \\lfloor y \\right \\rfloor\\right)}^{3} - 3 \\, {\\left(y - \\left \\lfloor y \\right \\rfloor\\right)}^{2} + y - \\left \\lfloor y \\right \\rfloor\\right)} \\frac{\\partial^{3}}{(\\partial y)^{3}}F\\left(x, y\\right)\\,{d y}$"
      ],
      "text/plain": [
       "<IPython.core.display.Math object>"
      ]
     },
     "metadata": {},
     "output_type": "display_data"
    },
    {
     "name": "stdout",
     "output_type": "stream",
     "text": [
      "sum_dfdx_a_bernoullis -1/2*F(x, y) + 1/12*diff(F(x, y), x)\n",
      "sum_dfdx_a_bernoullis(a) -1/2*F(n_x, y) + 1/12*diff(F(n_x, y), n_x)\n",
      "f 1/2*F(n_x, y) - 1/12*diff(F(n_x, y), n_x)\n",
      "symb,a,b y n_y b_y\n",
      "f_diff_symb_p diff(F(x, y), y, y, y)\n",
      "\n",
      "(-1)^(p+1)*P(x=symb,p=p)/fact(n=p) 1/6*(y - floor(y))^3 - 1/4*(y - floor(y))^2 + 1/12*y - 1/12*floor(y)\n",
      "R_p_sum= integrate(1/12*(2*(y - floor(y))^3 - 3*(y - floor(y))^2 + y - floor(y))*diff(F(x, y), y, y, y), y, n_y, b_y)\n"
     ]
    },
    {
     "data": {
      "text/latex": [
       "$\\displaystyle \\int_{n_{y}}^{b_{y}} \\frac{1}{12} \\, {\\left(2 \\, {\\left(y - \\left \\lfloor y \\right \\rfloor\\right)}^{3} - 3 \\, {\\left(y - \\left \\lfloor y \\right \\rfloor\\right)}^{2} + y - \\left \\lfloor y \\right \\rfloor\\right)} \\frac{\\partial^{3}}{(\\partial y)^{3}}F\\left(x, y\\right)\\,{d y}$"
      ],
      "text/plain": [
       "<IPython.core.display.Math object>"
      ]
     },
     "metadata": {},
     "output_type": "display_data"
    },
    {
     "name": "stdout",
     "output_type": "stream",
     "text": [
      "f F(x, y)\n",
      "symb,a,b x n_x b_x\n",
      "f_diff_symb_p diff(F(x, y), x, x, x)\n",
      "\n",
      "(-1)^(p+1)*P(x=symb,p=p)/fact(n=p) 1/6*(x - floor(x))^3 - 1/4*(x - floor(x))^2 + 1/12*x - 1/12*floor(x)\n",
      "R_px= integrate(1/12*(2*(x - floor(x))^3 - 3*(x - floor(x))^2 + x - floor(x))*diff(F(x, y), x, x, x), x, n_x, b_x)\n"
     ]
    },
    {
     "data": {
      "text/latex": [
       "$\\displaystyle \\int_{n_{x}}^{b_{x}} \\frac{1}{12} \\, {\\left(2 \\, {\\left(x - \\left \\lfloor x \\right \\rfloor\\right)}^{3} - 3 \\, {\\left(x - \\left \\lfloor x \\right \\rfloor\\right)}^{2} + x - \\left \\lfloor x \\right \\rfloor\\right)} \\frac{\\partial^{3}}{(\\partial x)^{3}}F\\left(x, y\\right)\\,{d x}$"
      ],
      "text/plain": [
       "<IPython.core.display.Math object>"
      ]
     },
     "metadata": {},
     "output_type": "display_data"
    },
    {
     "name": "stdout",
     "output_type": "stream",
     "text": [
      "R_px_diff_y_p= 1/12*integrate((2*x - 2*floor(x) - 1)*(x - floor(x))*(x - floor(x) - 1)*diff(F(x, y), x, x, x, y, y, y), x, n_x, b_x)\n"
     ]
    },
    {
     "data": {
      "text/latex": [
       "$\\displaystyle \\frac{1}{12} \\, \\int_{n_{x}}^{b_{x}} {\\left(2 \\, x - 2 \\, \\left \\lfloor x \\right \\rfloor - 1\\right)} {\\left(x - \\left \\lfloor x \\right \\rfloor\\right)} {\\left(x - \\left \\lfloor x \\right \\rfloor - 1\\right)} \\frac{\\partial^{6}}{(\\partial x)^{3}(\\partial y)^{3}}F\\left(x, y\\right)\\,{d x}$"
      ],
      "text/plain": [
       "<IPython.core.display.Math object>"
      ]
     },
     "metadata": {},
     "output_type": "display_data"
    },
    {
     "name": "stdout",
     "output_type": "stream",
     "text": [
      "f integrate(1/12*(2*(x - floor(x))^3 - 3*(x - floor(x))^2 + x - floor(x))*diff(F(x, y), x, x, x), x, n_x, b_x)\n",
      "symb,a,b y n_y b_y\n",
      "f_diff_symb_p 1/12*integrate((2*x - 2*floor(x) - 1)*(x - floor(x))*(x - floor(x) - 1)*diff(F(x, y), x, x, x, y, y, y), x, n_x, b_x)\n",
      "\n",
      "(-1)^(p+1)*P(x=symb,p=p)/fact(n=p) 1/6*(y - floor(y))^3 - 1/4*(y - floor(y))^2 + 1/12*y - 1/12*floor(y)\n",
      "R_p_R_p= integrate(1/144*(2*(y - floor(y))^3 - 3*(y - floor(y))^2 + y - floor(y))*integrate((2*x - 2*floor(x) - 1)*(x - floor(x))*(x - floor(x) - 1)*diff(F(x, y), x, x, x, y, y, y), x, n_x, b_x), y, n_y, b_y)\n"
     ]
    },
    {
     "data": {
      "text/latex": [
       "$\\displaystyle \\int_{n_{y}}^{b_{y}} \\frac{1}{144} \\, {\\left(2 \\, {\\left(y - \\left \\lfloor y \\right \\rfloor\\right)}^{3} - 3 \\, {\\left(y - \\left \\lfloor y \\right \\rfloor\\right)}^{2} + y - \\left \\lfloor y \\right \\rfloor\\right)} \\int_{n_{x}}^{b_{x}} {\\left(2 \\, x - 2 \\, \\left \\lfloor x \\right \\rfloor - 1\\right)} {\\left(x - \\left \\lfloor x \\right \\rfloor\\right)} {\\left(x - \\left \\lfloor x \\right \\rfloor - 1\\right)} \\frac{\\partial^{6}}{(\\partial x)^{3}(\\partial y)^{3}}F\\left(x, y\\right)\\,{d x}\\,{d y}$"
      ],
      "text/plain": [
       "<IPython.core.display.Math object>"
      ]
     },
     "metadata": {},
     "output_type": "display_data"
    },
    {
     "name": "stdout",
     "output_type": "stream",
     "text": [
      "R_p_R_p= integrate(1/144*(2*(y - floor(y))^3 - 3*(y - floor(y))^2 + y - floor(y))*integrate((2*x - 2*floor(x) - 1)*(x - floor(x))*(x - floor(x) - 1)*diff(F(x, y), x, x, x, y, y, y), x, n_x, b_x), y, n_y, b_y)\n"
     ]
    },
    {
     "data": {
      "text/latex": [
       "$\\displaystyle \\int_{n_{y}}^{b_{y}} \\frac{1}{144} \\, {\\left(2 \\, {\\left(y - \\left \\lfloor y \\right \\rfloor\\right)}^{3} - 3 \\, {\\left(y - \\left \\lfloor y \\right \\rfloor\\right)}^{2} + y - \\left \\lfloor y \\right \\rfloor\\right)} \\int_{n_{x}}^{b_{x}} {\\left(2 \\, x - 2 \\, \\left \\lfloor x \\right \\rfloor - 1\\right)} {\\left(x - \\left \\lfloor x \\right \\rfloor\\right)} {\\left(x - \\left \\lfloor x \\right \\rfloor - 1\\right)} \\frac{\\partial^{6}}{(\\partial x)^{3}(\\partial y)^{3}}F\\left(x, y\\right)\\,{d x}\\,{d y}$"
      ],
      "text/plain": [
       "<IPython.core.display.Math object>"
      ]
     },
     "metadata": {},
     "output_type": "display_data"
    }
   ],
   "source": [
    "R_p_int = euler_maclaurin_R_p(integral           (F(x,y),(x, a_x, b_x), hold=True), \\\n",
    "                              y, a_y, b_y, p,f_diff_symb_p=F(x,y).diff(y,p))\n",
    "print(\"R_p_int=\",R_p_int)\n",
    "#print(\"R_p_int=$\",latex(R_p_int),\"$\")\n",
    "display(Math(latex(R_p_int)))\n",
    "\n",
    "R_p_sum = euler_maclaurin_R_p(sum_dfdx_bernoulis (F(x,y), x, a_x, b_x,p), \\\n",
    "                              y, a_y, b_y, p, f_diff_symb_p=F(x,y).diff(y,p))\n",
    "print(\"R_p_sum=\",R_p_sum)\n",
    "#print(\"R_p_sum=$\",latex(R_p_sum),\"$\")\n",
    "display(Math(latex(R_p_sum)))\n",
    "\n",
    "try:\n",
    "    if not use_int_R_p_j:\n",
    "        R_px = euler_maclaurin_R_p(F(x,y), x, a_x, b_x,p, f_diff_symb_p=F(x,y).diff(x,p))\n",
    "        print(\"R_px=\",R_px)\n",
    "        #print(\"R_px=$\",latex(R_px),\"$\")\n",
    "        display(Math(latex(R_px)))\n",
    "\n",
    "        R_px_diff_y_p = R_px.diff(y,p)\n",
    "        print(\"R_px_diff_y_p=\", R_px_diff_y_p)\n",
    "        #print(\"R_px_diff_y_p=$\", latex(R_px_diff_y_p),\"$\")\n",
    "        display(Math(latex(R_px_diff_y_p)))\n",
    "\n",
    "        logging = True\n",
    "\n",
    "        R_p_R_p = euler_maclaurin_R_p(R_px, y, a_y, b_y, p, f_diff_symb_p=R_px_diff_y_p)\n",
    "\n",
    "        logging = False\n",
    "\n",
    "        print(\"R_p_R_p=\",R_p_R_p)\n",
    "        #print(\"R_p_R_p=$\",latex(R_p_R_p),\"$\")\n",
    "        display(Math(latex(R_p_R_p)))\n",
    "    else:\n",
    "        # Sagemath 9.3 has bug diff of symbolic_sum\n",
    "        pass\n",
    "except Exception as ex:\n",
    "    print(ex)\n",
    "\n",
    "\n",
    "try:\n",
    "    R_p_R_p = euler_maclaurin_R_p_euler_maclaurin_R_p(F(x,y), x, a_x, b_x,    y, a_y, b_y, p, f_diff_x_p_diff_y_p=None)\n",
    "\n",
    "    print(\"R_p_R_p=\",R_p_R_p)\n",
    "    #print(\"R_p_R_p=$\",latex(R_p_R_p),\"$\")\n",
    "    display(Math(latex(R_p_R_p)))\n",
    "except Exception as ex:\n",
    "    print(ex)"
   ]
  },
  {
   "cell_type": "code",
   "execution_count": 23,
   "metadata": {},
   "outputs": [],
   "source": [
    "sxy_symb = euler_maclaurin1(euler_maclaurin1(F(x,y),x,a_x,b_x,p,f_diff_symb_p=None), \\\n",
    "                            y,a_y,b_y,p,f_diff_symb_p=None)"
   ]
  },
  {
   "cell_type": "code",
   "execution_count": 24,
   "metadata": {},
   "outputs": [
    {
     "data": {
      "text/plain": [
       "1/4*F(n_x, n_y) - 1/144*integrate((2*x - 2*floor(x) - 1)*(x - floor(x))*(x - floor(x) - 1)*diff(F(x, n_y), x, x, x, n_y), x, n_x, b_x) + integrate(1/144*(2*(y - floor(y))^3 - 3*(y - floor(y))^2 + y - floor(y))*(integrate((2*x - 2*floor(x) - 1)*(x - floor(x))*(x - floor(x) - 1)*diff(F(x, y), x, x, x, y, y, y), x, n_x, b_x) + 12*integrate(diff(F(x, y), y, y, y), x, n_x, b_x) - diff(F(n_x, y), n_x, y, y, y) + 6*diff(F(n_x, y), y, y, y)), y, n_y, b_y) + 1/24*integrate((2*(x - floor(x))^3 - 3*(x - floor(x))^2 + x - floor(x))*diff(F(x, n_y), x, x, x), x, n_x, b_x) - 1/12*integrate(-6*F(n_x, y), y, n_y, b_y) - 1/12*integrate(-12*integrate(1/6*x^3*diff(F(x, y), x, x, x), x, n_x, b_x), y, n_y, b_y) - 1/12*integrate(-12*integrate(-1/2*x^2*floor(x)*diff(F(x, y), x, x, x), x, n_x, b_x), y, n_y, b_y) - 1/12*integrate(-12*integrate(1/2*x*floor(x)^2*diff(F(x, y), x, x, x), x, n_x, b_x), y, n_y, b_y) - 1/12*integrate(-12*integrate(-1/6*floor(x)^3*diff(F(x, y), x, x, x), x, n_x, b_x), y, n_y, b_y) - 1/12*integrate(-12*integrate(-1/4*x^2*diff(F(x, y), x, x, x), x, n_x, b_x), y, n_y, b_y) - 1/12*integrate(-12*integrate(1/2*x*floor(x)*diff(F(x, y), x, x, x), x, n_x, b_x), y, n_y, b_y) - 1/12*integrate(-12*integrate(-1/4*floor(x)^2*diff(F(x, y), x, x, x), x, n_x, b_x), y, n_y, b_y) - 1/12*integrate(-12*integrate(1/12*x*diff(F(x, y), x, x, x), x, n_x, b_x), y, n_y, b_y) - 1/12*integrate(-12*integrate(-1/12*floor(x)*diff(F(x, y), x, x, x), x, n_x, b_x), y, n_y, b_y) - 1/12*integrate(-12*integrate(F(x, y), x, n_x, b_x), y, n_y, b_y) + 1/2*integrate(F(x, n_y), x, n_x, b_x) - 1/12*integrate(diff(F(n_x, y), n_x), y, n_y, b_y) - 1/12*integrate(diff(F(x, n_y), n_y), x, n_x, b_x) - 1/24*diff(F(n_x, n_y), n_x) + 1/144*diff(F(n_x, n_y), n_x, n_y) - 1/24*diff(F(n_x, n_y), n_y)"
      ]
     },
     "execution_count": 24,
     "metadata": {},
     "output_type": "execute_result"
    }
   ],
   "source": [
    "sxy_symb"
   ]
  },
  {
   "cell_type": "code",
   "execution_count": 25,
   "metadata": {},
   "outputs": [
    {
     "data": {
      "text/plain": [
       "\\frac{1}{4} \\, F\\left(n_{x}, n_{y}\\right) - \\frac{1}{144} \\, \\int_{n_{x}}^{b_{x}} {\\left(2 \\, x - 2 \\, \\left \\lfloor x \\right \\rfloor - 1\\right)} {\\left(x - \\left \\lfloor x \\right \\rfloor\\right)} {\\left(x - \\left \\lfloor x \\right \\rfloor - 1\\right)} \\frac{\\partial^{4}}{(\\partial x)^{3}\\partial n_{y}}F\\left(x, n_{y}\\right)\\,{d x} + \\int_{n_{y}}^{b_{y}} \\frac{1}{144} \\, {\\left(2 \\, {\\left(y - \\left \\lfloor y \\right \\rfloor\\right)}^{3} - 3 \\, {\\left(y - \\left \\lfloor y \\right \\rfloor\\right)}^{2} + y - \\left \\lfloor y \\right \\rfloor\\right)} {\\left(\\int_{n_{x}}^{b_{x}} {\\left(2 \\, x - 2 \\, \\left \\lfloor x \\right \\rfloor - 1\\right)} {\\left(x - \\left \\lfloor x \\right \\rfloor\\right)} {\\left(x - \\left \\lfloor x \\right \\rfloor - 1\\right)} \\frac{\\partial^{6}}{(\\partial x)^{3}(\\partial y)^{3}}F\\left(x, y\\right)\\,{d x} + 12 \\, \\int_{n_{x}}^{b_{x}} \\frac{\\partial^{3}}{(\\partial y)^{3}}F\\left(x, y\\right)\\,{d x} - \\frac{\\partial^{4}}{\\partial n_{x}(\\partial y)^{3}}F\\left(n_{x}, y\\right) + 6 \\, \\frac{\\partial^{3}}{(\\partial y)^{3}}F\\left(n_{x}, y\\right)\\right)}\\,{d y} + \\frac{1}{24} \\, \\int_{n_{x}}^{b_{x}} {\\left(2 \\, {\\left(x - \\left \\lfloor x \\right \\rfloor\\right)}^{3} - 3 \\, {\\left(x - \\left \\lfloor x \\right \\rfloor\\right)}^{2} + x - \\left \\lfloor x \\right \\rfloor\\right)} \\frac{\\partial^{3}}{(\\partial x)^{3}}F\\left(x, n_{y}\\right)\\,{d x} - \\frac{1}{12} \\, \\int_{n_{y}}^{b_{y}} -6 \\, F\\left(n_{x}, y\\right)\\,{d y} - \\frac{1}{12} \\, \\int_{n_{y}}^{b_{y}} -12 \\, \\int_{n_{x}}^{b_{x}} \\frac{1}{6} \\, x^{3} \\frac{\\partial^{3}}{(\\partial x)^{3}}F\\left(x, y\\right)\\,{d x}\\,{d y} - \\frac{1}{12} \\, \\int_{n_{y}}^{b_{y}} -12 \\, \\int_{n_{x}}^{b_{x}} -\\frac{1}{2} \\, x^{2} \\left \\lfloor x \\right \\rfloor \\frac{\\partial^{3}}{(\\partial x)^{3}}F\\left(x, y\\right)\\,{d x}\\,{d y} - \\frac{1}{12} \\, \\int_{n_{y}}^{b_{y}} -12 \\, \\int_{n_{x}}^{b_{x}} \\frac{1}{2} \\, x \\left \\lfloor x \\right \\rfloor^{2} \\frac{\\partial^{3}}{(\\partial x)^{3}}F\\left(x, y\\right)\\,{d x}\\,{d y} - \\frac{1}{12} \\, \\int_{n_{y}}^{b_{y}} -12 \\, \\int_{n_{x}}^{b_{x}} -\\frac{1}{6} \\, \\left \\lfloor x \\right \\rfloor^{3} \\frac{\\partial^{3}}{(\\partial x)^{3}}F\\left(x, y\\right)\\,{d x}\\,{d y} - \\frac{1}{12} \\, \\int_{n_{y}}^{b_{y}} -12 \\, \\int_{n_{x}}^{b_{x}} -\\frac{1}{4} \\, x^{2} \\frac{\\partial^{3}}{(\\partial x)^{3}}F\\left(x, y\\right)\\,{d x}\\,{d y} - \\frac{1}{12} \\, \\int_{n_{y}}^{b_{y}} -12 \\, \\int_{n_{x}}^{b_{x}} \\frac{1}{2} \\, x \\left \\lfloor x \\right \\rfloor \\frac{\\partial^{3}}{(\\partial x)^{3}}F\\left(x, y\\right)\\,{d x}\\,{d y} - \\frac{1}{12} \\, \\int_{n_{y}}^{b_{y}} -12 \\, \\int_{n_{x}}^{b_{x}} -\\frac{1}{4} \\, \\left \\lfloor x \\right \\rfloor^{2} \\frac{\\partial^{3}}{(\\partial x)^{3}}F\\left(x, y\\right)\\,{d x}\\,{d y} - \\frac{1}{12} \\, \\int_{n_{y}}^{b_{y}} -12 \\, \\int_{n_{x}}^{b_{x}} \\frac{1}{12} \\, x \\frac{\\partial^{3}}{(\\partial x)^{3}}F\\left(x, y\\right)\\,{d x}\\,{d y} - \\frac{1}{12} \\, \\int_{n_{y}}^{b_{y}} -12 \\, \\int_{n_{x}}^{b_{x}} -\\frac{1}{12} \\, \\left \\lfloor x \\right \\rfloor \\frac{\\partial^{3}}{(\\partial x)^{3}}F\\left(x, y\\right)\\,{d x}\\,{d y} - \\frac{1}{12} \\, \\int_{n_{y}}^{b_{y}} -12 \\, \\int_{n_{x}}^{b_{x}} F\\left(x, y\\right)\\,{d x}\\,{d y} + \\frac{1}{2} \\, \\int_{n_{x}}^{b_{x}} F\\left(x, n_{y}\\right)\\,{d x} - \\frac{1}{12} \\, \\int_{n_{y}}^{b_{y}} \\frac{\\partial}{\\partial n_{x}}F\\left(n_{x}, y\\right)\\,{d y} - \\frac{1}{12} \\, \\int_{n_{x}}^{b_{x}} \\frac{\\partial}{\\partial n_{y}}F\\left(x, n_{y}\\right)\\,{d x} - \\frac{1}{24} \\, \\frac{\\partial}{\\partial n_{x}}F\\left(n_{x}, n_{y}\\right) + \\frac{1}{144} \\, \\frac{\\partial^{2}}{\\partial n_{x}\\partial n_{y}}F\\left(n_{x}, n_{y}\\right) - \\frac{1}{24} \\, \\frac{\\partial}{\\partial n_{y}}F\\left(n_{x}, n_{y}\\right)"
      ]
     },
     "execution_count": 25,
     "metadata": {},
     "output_type": "execute_result"
    }
   ],
   "source": [
    "latex(sxy_symb)"
   ]
  },
  {
   "cell_type": "code",
   "execution_count": 26,
   "metadata": {},
   "outputs": [
    {
     "data": {
      "text/latex": [
       "$\\displaystyle \\frac{1}{4} \\, F\\left(n_{x}, n_{y}\\right) - \\frac{1}{144} \\, \\int_{n_{x}}^{b_{x}} {\\left(2 \\, x - 2 \\, \\left \\lfloor x \\right \\rfloor - 1\\right)} {\\left(x - \\left \\lfloor x \\right \\rfloor\\right)} {\\left(x - \\left \\lfloor x \\right \\rfloor - 1\\right)} \\frac{\\partial^{4}}{(\\partial x)^{3}\\partial n_{y}}F\\left(x, n_{y}\\right)\\,{d x} + \\int_{n_{y}}^{b_{y}} \\frac{1}{144} \\, {\\left(2 \\, {\\left(y - \\left \\lfloor y \\right \\rfloor\\right)}^{3} - 3 \\, {\\left(y - \\left \\lfloor y \\right \\rfloor\\right)}^{2} + y - \\left \\lfloor y \\right \\rfloor\\right)} {\\left(\\int_{n_{x}}^{b_{x}} {\\left(2 \\, x - 2 \\, \\left \\lfloor x \\right \\rfloor - 1\\right)} {\\left(x - \\left \\lfloor x \\right \\rfloor\\right)} {\\left(x - \\left \\lfloor x \\right \\rfloor - 1\\right)} \\frac{\\partial^{6}}{(\\partial x)^{3}(\\partial y)^{3}}F\\left(x, y\\right)\\,{d x} + 12 \\, \\int_{n_{x}}^{b_{x}} \\frac{\\partial^{3}}{(\\partial y)^{3}}F\\left(x, y\\right)\\,{d x} - \\frac{\\partial^{4}}{\\partial n_{x}(\\partial y)^{3}}F\\left(n_{x}, y\\right) + 6 \\, \\frac{\\partial^{3}}{(\\partial y)^{3}}F\\left(n_{x}, y\\right)\\right)}\\,{d y} + \\frac{1}{24} \\, \\int_{n_{x}}^{b_{x}} {\\left(2 \\, {\\left(x - \\left \\lfloor x \\right \\rfloor\\right)}^{3} - 3 \\, {\\left(x - \\left \\lfloor x \\right \\rfloor\\right)}^{2} + x - \\left \\lfloor x \\right \\rfloor\\right)} \\frac{\\partial^{3}}{(\\partial x)^{3}}F\\left(x, n_{y}\\right)\\,{d x} - \\frac{1}{12} \\, \\int_{n_{y}}^{b_{y}} -6 \\, F\\left(n_{x}, y\\right)\\,{d y} - \\frac{1}{12} \\, \\int_{n_{y}}^{b_{y}} -12 \\, \\int_{n_{x}}^{b_{x}} \\frac{1}{6} \\, x^{3} \\frac{\\partial^{3}}{(\\partial x)^{3}}F\\left(x, y\\right)\\,{d x}\\,{d y} - \\frac{1}{12} \\, \\int_{n_{y}}^{b_{y}} -12 \\, \\int_{n_{x}}^{b_{x}} -\\frac{1}{2} \\, x^{2} \\left \\lfloor x \\right \\rfloor \\frac{\\partial^{3}}{(\\partial x)^{3}}F\\left(x, y\\right)\\,{d x}\\,{d y} - \\frac{1}{12} \\, \\int_{n_{y}}^{b_{y}} -12 \\, \\int_{n_{x}}^{b_{x}} \\frac{1}{2} \\, x \\left \\lfloor x \\right \\rfloor^{2} \\frac{\\partial^{3}}{(\\partial x)^{3}}F\\left(x, y\\right)\\,{d x}\\,{d y} - \\frac{1}{12} \\, \\int_{n_{y}}^{b_{y}} -12 \\, \\int_{n_{x}}^{b_{x}} -\\frac{1}{6} \\, \\left \\lfloor x \\right \\rfloor^{3} \\frac{\\partial^{3}}{(\\partial x)^{3}}F\\left(x, y\\right)\\,{d x}\\,{d y} - \\frac{1}{12} \\, \\int_{n_{y}}^{b_{y}} -12 \\, \\int_{n_{x}}^{b_{x}} -\\frac{1}{4} \\, x^{2} \\frac{\\partial^{3}}{(\\partial x)^{3}}F\\left(x, y\\right)\\,{d x}\\,{d y} - \\frac{1}{12} \\, \\int_{n_{y}}^{b_{y}} -12 \\, \\int_{n_{x}}^{b_{x}} \\frac{1}{2} \\, x \\left \\lfloor x \\right \\rfloor \\frac{\\partial^{3}}{(\\partial x)^{3}}F\\left(x, y\\right)\\,{d x}\\,{d y} - \\frac{1}{12} \\, \\int_{n_{y}}^{b_{y}} -12 \\, \\int_{n_{x}}^{b_{x}} -\\frac{1}{4} \\, \\left \\lfloor x \\right \\rfloor^{2} \\frac{\\partial^{3}}{(\\partial x)^{3}}F\\left(x, y\\right)\\,{d x}\\,{d y} - \\frac{1}{12} \\, \\int_{n_{y}}^{b_{y}} -12 \\, \\int_{n_{x}}^{b_{x}} \\frac{1}{12} \\, x \\frac{\\partial^{3}}{(\\partial x)^{3}}F\\left(x, y\\right)\\,{d x}\\,{d y} - \\frac{1}{12} \\, \\int_{n_{y}}^{b_{y}} -12 \\, \\int_{n_{x}}^{b_{x}} -\\frac{1}{12} \\, \\left \\lfloor x \\right \\rfloor \\frac{\\partial^{3}}{(\\partial x)^{3}}F\\left(x, y\\right)\\,{d x}\\,{d y} - \\frac{1}{12} \\, \\int_{n_{y}}^{b_{y}} -12 \\, \\int_{n_{x}}^{b_{x}} F\\left(x, y\\right)\\,{d x}\\,{d y} + \\frac{1}{2} \\, \\int_{n_{x}}^{b_{x}} F\\left(x, n_{y}\\right)\\,{d x} - \\frac{1}{12} \\, \\int_{n_{y}}^{b_{y}} \\frac{\\partial}{\\partial n_{x}}F\\left(n_{x}, y\\right)\\,{d y} - \\frac{1}{12} \\, \\int_{n_{x}}^{b_{x}} \\frac{\\partial}{\\partial n_{y}}F\\left(x, n_{y}\\right)\\,{d x} - \\frac{1}{24} \\, \\frac{\\partial}{\\partial n_{x}}F\\left(n_{x}, n_{y}\\right) + \\frac{1}{144} \\, \\frac{\\partial^{2}}{\\partial n_{x}\\partial n_{y}}F\\left(n_{x}, n_{y}\\right) - \\frac{1}{24} \\, \\frac{\\partial}{\\partial n_{y}}F\\left(n_{x}, n_{y}\\right)$"
      ],
      "text/plain": [
       "<IPython.core.display.Math object>"
      ]
     },
     "metadata": {},
     "output_type": "display_data"
    }
   ],
   "source": [
    "display(Math(latex(sxy_symb)))"
   ]
  },
  {
   "cell_type": "code",
   "execution_count": 27,
   "metadata": {},
   "outputs": [
    {
     "name": "stdout",
     "output_type": "stream",
     "text": [
      "s [_SAGE_VAR_y>0]\n",
      "parser_output [y > 0]\n",
      "s [_SAGE_VAR_x>0]\n",
      "parser_output [x > 0]\n"
     ]
    }
   ],
   "source": [
    "f(x,y)=1/(x^2)\n",
    "assume(y>0)\n",
    "assume(x>0)\n",
    "a_x = 1\n",
    "b_x = Infinity\n",
    "\n",
    "a_y = 1\n",
    "b_y = Infinity"
   ]
  },
  {
   "cell_type": "code",
   "execution_count": 28,
   "metadata": {},
   "outputs": [],
   "source": [
    "calc_R_p=True\n",
    "use_int_R_p_j=False\n",
    "use_int_R_p_shifted_first=True\n",
    "change_R_p_order=True"
   ]
  },
  {
   "cell_type": "code",
   "execution_count": 29,
   "metadata": {},
   "outputs": [
    {
     "data": {
      "text/plain": [
       "integrate(-2*(2*(x - floor(x))^3 - 3*(x - floor(x))^2 + x - floor(x))/x^5, x, 1, +Infinity) + 5/3"
      ]
     },
     "execution_count": 29,
     "metadata": {},
     "output_type": "execute_result"
    }
   ],
   "source": [
    "ans = my_euler_maclaurin1(f(x,y), x, a_x, b_x, p, f_diff_symb_p=None)\n",
    "ans"
   ]
  },
  {
   "cell_type": "code",
   "execution_count": 30,
   "metadata": {},
   "outputs": [
    {
     "data": {
      "text/plain": [
       "integrate(-2*(2*(x - floor(x))^3 - 3*(x - floor(x))^2 + x - floor(x))/x^5, x, 1, +Infinity) + 5/3"
      ]
     },
     "execution_count": 30,
     "metadata": {},
     "output_type": "execute_result"
    }
   ],
   "source": [
    "ans = euler_maclaurin1(f(x,y), x, a_x, b_x, p, f_diff_symb_p=None)\n",
    "ans"
   ]
  },
  {
   "cell_type": "code",
   "execution_count": 31,
   "metadata": {},
   "outputs": [
    {
     "name": "stdout",
     "output_type": "stream",
     "text": [
      "s inf\n",
      "parser_output +Infinity\n"
     ]
    },
    {
     "data": {
      "text/plain": [
       "1.64493413560982"
      ]
     },
     "execution_count": 31,
     "metadata": {},
     "output_type": "execute_result"
    }
   ],
   "source": [
    "ans.n()"
   ]
  },
  {
   "cell_type": "code",
   "execution_count": 32,
   "metadata": {},
   "outputs": [],
   "source": [
    "calc_R_p=True\n",
    "use_int_R_p_j=True\n",
    "use_int_R_p_shifted_first=True\n",
    "change_R_p_order=False"
   ]
  },
  {
   "cell_type": "code",
   "execution_count": 33,
   "metadata": {},
   "outputs": [
    {
     "name": "stdout",
     "output_type": "stream",
     "text": [
      "s [_SAGE_VAR_j>0]\n",
      "parser_output [j > 0]\n",
      "s _SAGE_VAR_x-_SAGE_VAR_v\n",
      "parser_output -v + x\n",
      "s _SAGE_VAR_x-_SAGE_VAR_v\n",
      "parser_output -v + x\n",
      "s _SAGE_VAR_x-_SAGE_VAR_v\n",
      "parser_output -v + x\n",
      "s _SAGE_VAR_x-_SAGE_VAR_v\n",
      "parser_output -v + x\n",
      "s _SAGE_VAR_y-_SAGE_VAR_v\n",
      "parser_output -v + y\n",
      "s _SAGE_VAR_y-_SAGE_VAR_v\n",
      "parser_output -v + y\n",
      "s _SAGE_VAR_y-_SAGE_VAR_v\n",
      "parser_output -v + y\n",
      "s _SAGE_VAR_y-_SAGE_VAR_v\n",
      "parser_output -v + y\n",
      "maxima_eval_res ((MTIMES SIMP) ((RAT SIMP) 1 6)\n",
      " ((MPLUS SIMP) -10 ((MEXPT SIMP RATSIMP) $%PI 2)))\n",
      "s pi\n",
      "parser_output pi\n",
      "s _SAGE_VAR_y-_SAGE_VAR_x\n",
      "parser_output -x + y\n",
      "s _SAGE_VAR_y-_SAGE_VAR_x\n",
      "parser_output -x + y\n",
      "s _SAGE_VAR_y-_SAGE_VAR_x\n",
      "parser_output -x + y\n",
      "s _SAGE_VAR_y-_SAGE_VAR_x\n",
      "parser_output -x + y\n",
      "s _SAGE_VAR_x-_SAGE_VAR_y\n",
      "parser_output x - y\n",
      "s _SAGE_VAR_x-_SAGE_VAR_y\n",
      "parser_output x - y\n",
      "s _SAGE_VAR_x-_SAGE_VAR_y\n",
      "parser_output x - y\n",
      "s _SAGE_VAR_x-_SAGE_VAR_y\n",
      "parser_output x - y\n"
     ]
    },
    {
     "data": {
      "text/plain": [
       "(x, y) |--> 1/6*pi^2"
      ]
     },
     "execution_count": 33,
     "metadata": {},
     "output_type": "execute_result"
    }
   ],
   "source": [
    "ans = my_euler_maclaurin1(f,x,a_x,b_x,p, f_diff_symb_p=None)\n",
    "ans"
   ]
  },
  {
   "cell_type": "code",
   "execution_count": 34,
   "metadata": {},
   "outputs": [
    {
     "data": {
      "text/plain": [
       "sum(integrate(-2*(2*v_x^3 - 3*v_x^2 + v_x)/(j_x + v_x)^5, v_x, 0, 1), j_x, 1, +Infinity) + 5/3"
      ]
     },
     "execution_count": 34,
     "metadata": {},
     "output_type": "execute_result"
    }
   ],
   "source": [
    "ans = euler_maclaurin1(f(x,y),x,a_x,b_x,p, f_diff_symb_p=None)\n",
    "ans"
   ]
  },
  {
   "cell_type": "code",
   "execution_count": 35,
   "metadata": {},
   "outputs": [],
   "source": [
    "calc_R_p=True\n",
    "use_int_R_p_j=True\n",
    "use_int_R_p_shifted_first=True\n",
    "change_R_p_order=True"
   ]
  },
  {
   "cell_type": "code",
   "execution_count": 36,
   "metadata": {},
   "outputs": [
    {
     "name": "stdout",
     "output_type": "stream",
     "text": [
      "maxima_eval_res ((MPLUS SIMP)\n",
      " ((MTIMES SIMP)\n",
      "  ((MPLUS SIMP) ((MTIMES SIMP RATSIMP) -2 ((%ZETA SIMP) 5))\n",
      "   ((MTIMES SIMP RATSIMP) 2 (($GEN_HARMONIC_NUMBER SIMP) 5 |$_SAGE_VAR_v|)))\n",
      "  |$_SAGE_VAR_v|)\n",
      " ((MTIMES SIMP)\n",
      "  ((MPLUS SIMP) ((MTIMES SIMP RATSIMP) 6 ((%ZETA SIMP) 5))\n",
      "   ((MTIMES SIMP RATSIMP) -6 (($GEN_HARMONIC_NUMBER SIMP) 5 |$_SAGE_VAR_v|)))\n",
      "  ((MEXPT SIMP RATSIMP) |$_SAGE_VAR_v| 2))\n",
      " ((MTIMES SIMP)\n",
      "  ((MPLUS SIMP) ((MTIMES SIMP RATSIMP) -4 ((%ZETA SIMP) 5))\n",
      "   ((MTIMES SIMP RATSIMP) 4 (($GEN_HARMONIC_NUMBER SIMP) 5 |$_SAGE_VAR_v|)))\n",
      "  ((MEXPT SIMP RATSIMP) |$_SAGE_VAR_v| 3)))\n",
      "s zeta(5)\n",
      "parser_output zeta(5)\n",
      "s _SAGE_VAR_y-_SAGE_VAR_x\n",
      "parser_output -x + y\n",
      "s _SAGE_VAR_y-_SAGE_VAR_x\n",
      "parser_output -x + y\n",
      "s _SAGE_VAR_y-_SAGE_VAR_x\n",
      "parser_output -x + y\n",
      "s _SAGE_VAR_y-_SAGE_VAR_x\n",
      "parser_output -x + y\n",
      "s _SAGE_VAR_x-_SAGE_VAR_y\n",
      "parser_output x - y\n",
      "s _SAGE_VAR_x-_SAGE_VAR_y\n",
      "parser_output x - y\n",
      "s _SAGE_VAR_x-_SAGE_VAR_y\n",
      "parser_output x - y\n",
      "s _SAGE_VAR_x-_SAGE_VAR_y\n",
      "parser_output x - y\n"
     ]
    },
    {
     "data": {
      "text/plain": [
       "(x, y) |--> integrate(4*v^3*(harmonic_number(v, 5) - zeta(5)) - 6*v^2*(harmonic_number(v, 5) - zeta(5)) + 2*v*(harmonic_number(v, 5) - zeta(5)), v, 0, 1) + 5/3"
      ]
     },
     "execution_count": 36,
     "metadata": {},
     "output_type": "execute_result"
    }
   ],
   "source": [
    "ans = my_euler_maclaurin1(f,x,a_x,b_x,p, f_diff_symb_p=None)\n",
    "ans"
   ]
  },
  {
   "cell_type": "code",
   "execution_count": 37,
   "metadata": {},
   "outputs": [
    {
     "data": {
      "text/plain": [
       "integrate(sum(-2*(2*v_x^3 - 3*v_x^2 + v_x)/(j_x + v_x)^5, j_x, 1, +Infinity), v_x, 0, 1) + 5/3"
      ]
     },
     "execution_count": 37,
     "metadata": {},
     "output_type": "execute_result"
    }
   ],
   "source": [
    "ans = euler_maclaurin1(f(x,y),x,a_x,b_x,p, f_diff_symb_p=None)\n",
    "ans"
   ]
  },
  {
   "cell_type": "code",
   "execution_count": 38,
   "metadata": {},
   "outputs": [
    {
     "data": {
      "text/plain": [
       "integrate(sum(-2*(2*v_x^3 - 3*v_x^2 + v_x)/(j_x + v_x)^5, j_x, 1, +Infinity), v_x, 0, 1) + 5/3"
      ]
     },
     "execution_count": 38,
     "metadata": {},
     "output_type": "execute_result"
    }
   ],
   "source": [
    "ans = euler_maclaurin1(f(x,y),x,a_x,b_x,p, f_diff_symb_p=None, hold_int=False)\n",
    "ans"
   ]
  },
  {
   "cell_type": "code",
   "execution_count": 39,
   "metadata": {},
   "outputs": [],
   "source": [
    "calc_R_p=True\n",
    "use_int_R_p_j=True\n",
    "use_int_R_p_shifted_first=True\n",
    "change_R_p_order=False"
   ]
  },
  {
   "cell_type": "code",
   "execution_count": 40,
   "metadata": {},
   "outputs": [
    {
     "name": "stdout",
     "output_type": "stream",
     "text": [
      "s _SAGE_VAR_x-_SAGE_VAR_v\n",
      "parser_output -v + x\n",
      "s _SAGE_VAR_x-_SAGE_VAR_v\n",
      "parser_output -v + x\n",
      "s _SAGE_VAR_x-_SAGE_VAR_v\n",
      "parser_output -v + x\n",
      "s _SAGE_VAR_x-_SAGE_VAR_v\n",
      "parser_output -v + x\n",
      "s _SAGE_VAR_y-_SAGE_VAR_v\n",
      "parser_output -v + y\n",
      "s _SAGE_VAR_y-_SAGE_VAR_v\n",
      "parser_output -v + y\n",
      "s _SAGE_VAR_y-_SAGE_VAR_v\n",
      "parser_output -v + y\n",
      "s _SAGE_VAR_y-_SAGE_VAR_v\n",
      "parser_output -v + y\n",
      "maxima_eval_res ((MTIMES SIMP) ((RAT SIMP) 1 6)\n",
      " ((MPLUS SIMP) -10 ((MEXPT SIMP RATSIMP) $%PI 2)))\n",
      "s _SAGE_VAR_y-_SAGE_VAR_x\n",
      "parser_output -x + y\n",
      "s _SAGE_VAR_y-_SAGE_VAR_x\n",
      "parser_output -x + y\n",
      "s _SAGE_VAR_y-_SAGE_VAR_x\n",
      "parser_output -x + y\n",
      "s _SAGE_VAR_y-_SAGE_VAR_x\n",
      "parser_output -x + y\n",
      "s _SAGE_VAR_x-_SAGE_VAR_y\n",
      "parser_output x - y\n",
      "s _SAGE_VAR_x-_SAGE_VAR_y\n",
      "parser_output x - y\n",
      "s _SAGE_VAR_x-_SAGE_VAR_y\n",
      "parser_output x - y\n",
      "s _SAGE_VAR_x-_SAGE_VAR_y\n",
      "parser_output x - y\n"
     ]
    },
    {
     "data": {
      "text/plain": [
       "(x, y) |--> 1/6*pi^2"
      ]
     },
     "execution_count": 40,
     "metadata": {},
     "output_type": "execute_result"
    }
   ],
   "source": [
    "ans = my_euler_maclaurin1(f,x,a_x,b_x,p, f_diff_symb_p=None)\n",
    "ans"
   ]
  },
  {
   "cell_type": "code",
   "execution_count": 41,
   "metadata": {},
   "outputs": [
    {
     "data": {
      "text/plain": [
       "sum(integrate(-2*(2*v_x^3 - 3*v_x^2 + v_x)/(j_x + v_x)^5, v_x, 0, 1), j_x, 1, +Infinity) + 5/3"
      ]
     },
     "execution_count": 41,
     "metadata": {},
     "output_type": "execute_result"
    }
   ],
   "source": [
    "ans = euler_maclaurin1(f(x,y),x,a_x,b_x,p, f_diff_symb_p=None)\n",
    "ans"
   ]
  },
  {
   "cell_type": "code",
   "execution_count": 42,
   "metadata": {},
   "outputs": [
    {
     "data": {
      "text/plain": [
       "sum(1/6*(6*j_x^2 + 15*j_x + 10)/(j_x^3 + 3*j_x^2 + 3*j_x + 1) - 1/6*(6*j_x^2 - 3*j_x + 1)/j_x^3, j_x, 1, +Infinity) + 5/3"
      ]
     },
     "execution_count": 42,
     "metadata": {},
     "output_type": "execute_result"
    }
   ],
   "source": [
    "ans = euler_maclaurin1(f(x,y),x,a_x,b_x,p, f_diff_symb_p=None, hold_int=False)\n",
    "ans"
   ]
  },
  {
   "cell_type": "code",
   "execution_count": 43,
   "metadata": {},
   "outputs": [],
   "source": [
    "f(x,y)=1/((x^2+y^2)^2)\n",
    "\n",
    "assume(y>0)\n",
    "assume(x>0)"
   ]
  },
  {
   "cell_type": "code",
   "execution_count": 44,
   "metadata": {},
   "outputs": [],
   "source": [
    "calc_R_p=True\n",
    "use_int_R_p_j=True\n",
    "use_int_R_p_shifted_first=False\n",
    "change_R_p_order=False"
   ]
  },
  {
   "cell_type": "code",
   "execution_count": 45,
   "metadata": {
    "scrolled": false
   },
   "outputs": [
    {
     "name": "stdout",
     "output_type": "stream",
     "text": [
      "int_int= 0.142699081698724\n"
     ]
    },
    {
     "data": {
      "text/latex": [
       "$\\displaystyle \\frac{1}{8} \\, \\pi - \\frac{1}{4}$"
      ],
      "text/plain": [
       "<IPython.core.display.Math object>"
      ]
     },
     "metadata": {},
     "output_type": "display_data"
    },
    {
     "name": "stdout",
     "output_type": "stream",
     "text": [
      "int_sum= 0.0861909779407098\n"
     ]
    },
    {
     "data": {
      "text/latex": [
       "$\\displaystyle \\frac{3}{32} \\, \\pi - \\frac{5}{24}$"
      ],
      "text/plain": [
       "<IPython.core.display.Math object>"
      ]
     },
     "metadata": {},
     "output_type": "display_data"
    },
    {
     "name": "stdout",
     "output_type": "stream",
     "text": [
      "int_R_p= integrate(sum(integrate(-2*(2*v_x^3 - 3*v_x^2 + v_x)*(8*(j_x + v_x)^3/((j_x + v_x)^2 + y^2)^5 - 3*(j_x + v_x)/((j_x + v_x)^2 + y^2)^4), v_x, 0, 1), j_x, 1, +Infinity), y, 1, +Infinity)\n"
     ]
    },
    {
     "data": {
      "text/latex": [
       "$\\displaystyle \\int_{1}^{+\\infty} {\\sum_{j_{x}=1}^{+\\infty} \\int_{0}^{1} -2 \\, {\\left(2 \\, v_{x}^{3} - 3 \\, v_{x}^{2} + v_{x}\\right)} {\\left(\\frac{8 \\, {\\left(j_{x} + v_{x}\\right)}^{3}}{{\\left({\\left(j_{x} + v_{x}\\right)}^{2} + y^{2}\\right)}^{5}} - \\frac{3 \\, {\\left(j_{x} + v_{x}\\right)}}{{\\left({\\left(j_{x} + v_{x}\\right)}^{2} + y^{2}\\right)}^{4}}\\right)}\\,{d v_{x}}}\\,{d y}$"
      ],
      "text/plain": [
       "<IPython.core.display.Math object>"
      ]
     },
     "metadata": {},
     "output_type": "display_data"
    },
    {
     "name": "stdout",
     "output_type": "stream",
     "text": [
      "f_diff_x_p_str= -192*x^3/(x^2 + y^2)^5 + 72*x/(x^2 + y^2)^4\n",
      "f_diff_x_p = $ -\\frac{192 \\, x^{3}}{{\\left(x^{2} + y^{2}\\right)}^{5}} + \\frac{72 \\, x}{{\\left(x^{2} + y^{2}\\right)}^{4}} $\n"
     ]
    },
    {
     "name": "stderr",
     "output_type": "stream",
     "text": [
      "<ipython-input-1-b7de2e928668>:5: IntegrationWarning: The integral is probably divergent, or slowly convergent.\n",
      "  integral = integrate.quad(f, a, b)\n"
     ]
    },
    {
     "name": "stdout",
     "output_type": "stream",
     "text": [
      "int_R_p= -0.00024505599786148506\n"
     ]
    },
    {
     "data": {
      "text/latex": [
       "$\\displaystyle -0.00024505599786148506$"
      ],
      "text/plain": [
       "<IPython.core.display.Math object>"
      ]
     },
     "metadata": {},
     "output_type": "display_data"
    }
   ],
   "source": [
    "use_int_R_p_j = False\n",
    "#use_num_int = False\n",
    "\n",
    "int_int = integral(integral           (f(x,y),(x, a_x, b_x)),  (y, a_y, b_y)) \n",
    "#print(\"int_int=$\", latex(int_int),\"$\")\n",
    "print(\"int_int=\", int_int.n())\n",
    "display(Math(latex(int_int)))\n",
    "\n",
    "int_sum = integral(sum_dfdx_bernoulis (f(x,y), x, a_x, b_x,p), (y, a_y, b_y)) \n",
    "#print(\"int_sum=$\", latex(int_sum.expand()),\"$\")\n",
    "print(\"int_sum=\", int_sum.n())\n",
    "display(Math(latex(int_sum.expand())))\n",
    "\n",
    "try:\n",
    "    use_num_int = True\n",
    "    use_int_R_p_j=True\n",
    "    R_p = euler_maclaurin_R_p(f(x,y), x, a_x, b_x,p, f_diff_symb_p=None)\n",
    "    if type(R_p) is tuple:\n",
    "        int_R_p = integral(R_p[0], (y, a_y, b_y), hold=True)\n",
    "    else:\n",
    "        int_R_p = integral(R_p, (y, a_y, b_y), hold=True)\n",
    "\n",
    "    #print(\"int_R_p=$\",latex(int_R_p),\"$\")\n",
    "    print(\"int_R_p=\", int_R_p)\n",
    "    display(Math(latex(int_R_p)))\n",
    "    #display(Math(latex(int_R_p.n())))\n",
    "except Exception as ex:\n",
    "    print(ex)\n",
    "\n",
    "use_num_int = True\n",
    "use_int_R_p_j = False\n",
    "\n",
    "f_diff_x_p_str = str(f(x,y).diff(x,p))\n",
    "print(\"f_diff_x_p_str=\", f_diff_x_p_str)\n",
    "exec(preparse(\"f_diff_x_p = \" + f_diff_x_p_str))\n",
    "#print(preparse(\"f_diff_x_p = \" + f_diff_x_p_str))\n",
    "print(\"f_diff_x_p = $\", latex(f_diff_x_p),\"$\")\n",
    "\n",
    "int_R_p_ans = integral_euler_maclaurin_R_p(f(x,y), x, a_x, b_x, y, a_y, b_y, p, f_diff_x_p=f_diff_x_p, hold_int=False)\n",
    "if type(int_R_p_ans) is tuple:\n",
    "    (int_R_p,int_int_R_p) = int_R_p_ans\n",
    "else:\n",
    "    int_R_p = int_R_p_ans\n",
    "\n",
    "#print(\"int_R_p=$\",latex(int_R_p),\"$\")\n",
    "print(\"int_R_p=\",int_R_p)\n",
    "#print(\"int_R_p=\", int_R_p.n())\n",
    "display(Math(latex(int_R_p)))"
   ]
  },
  {
   "cell_type": "code",
   "execution_count": 46,
   "metadata": {},
   "outputs": [
    {
     "data": {
      "text/plain": [
       "1/8*pi - 1/4"
      ]
     },
     "execution_count": 46,
     "metadata": {},
     "output_type": "execute_result"
    }
   ],
   "source": [
    "int_int"
   ]
  },
  {
   "cell_type": "code",
   "execution_count": 47,
   "metadata": {},
   "outputs": [
    {
     "data": {
      "text/plain": [
       "0.142699081698724"
      ]
     },
     "execution_count": 47,
     "metadata": {},
     "output_type": "execute_result"
    }
   ],
   "source": [
    "int_int.n()"
   ]
  },
  {
   "cell_type": "code",
   "execution_count": 48,
   "metadata": {},
   "outputs": [
    {
     "data": {
      "text/plain": [
       "3/32*pi - 5/24"
      ]
     },
     "execution_count": 48,
     "metadata": {},
     "output_type": "execute_result"
    }
   ],
   "source": [
    "int_sum"
   ]
  },
  {
   "cell_type": "code",
   "execution_count": 49,
   "metadata": {},
   "outputs": [
    {
     "data": {
      "text/plain": [
       "0.0861909779407098"
      ]
     },
     "execution_count": 49,
     "metadata": {},
     "output_type": "execute_result"
    }
   ],
   "source": [
    "int_sum.n()"
   ]
  },
  {
   "cell_type": "code",
   "execution_count": 50,
   "metadata": {},
   "outputs": [
    {
     "data": {
      "text/plain": [
       "-0.00024505599786148506"
      ]
     },
     "execution_count": 50,
     "metadata": {},
     "output_type": "execute_result"
    }
   ],
   "source": [
    "int_R_p"
   ]
  },
  {
   "cell_type": "code",
   "execution_count": 51,
   "metadata": {},
   "outputs": [
    {
     "name": "stdout",
     "output_type": "stream",
     "text": [
      "name 'int_int_R_p' is not defined\n"
     ]
    }
   ],
   "source": [
    "try:\n",
    "    print(sum(int_int_R_p, j_x, 1, +Infinity))\n",
    "except Exception as ex:\n",
    "    print(ex)"
   ]
  },
  {
   "cell_type": "code",
   "execution_count": 52,
   "metadata": {},
   "outputs": [
    {
     "name": "stdout",
     "output_type": "stream",
     "text": [
      "name 'int_int_R_p' is not defined\n",
      "-0.00024505599786148506\n"
     ]
    }
   ],
   "source": [
    "try:\n",
    "    int_R_p_s = 0\n",
    "    for j in range (1, 1000):\n",
    "        int_R_p_term = int_int_R_p.subs(var(\"j_x\") == j)\n",
    "        int_R_p_s += int_R_p_term\n",
    "        #print(j, int_R_p_term.n(), int_R_p_n.n())\n",
    "    int_R_p_n = int_R_p_s.n()\n",
    "    print(int_R_p_n)\n",
    "except Exception as ex:\n",
    "    print(ex)\n",
    "    int_R_p_n = int_R_p\n",
    "    print(int_R_p_n)"
   ]
  },
  {
   "cell_type": "code",
   "execution_count": 53,
   "metadata": {},
   "outputs": [
    {
     "name": "stdout",
     "output_type": "stream",
     "text": [
      "sum_dfdx_a_bernoullis 1/4*(y^2*arctan(1/y) + y + arctan(1/y))/(y^5 + y^3) + 1/24*(5*y^4 + 3*y^2)*(y^2*arctan(1/y) + y + arctan(1/y))/(y^5 + y^3)^2 - 1/24*(2*y*arctan(1/y) - 1/(1/y^2 + 1) - 1/(y^2*(1/y^2 + 1)) + 1)/(y^5 + y^3) - 1/8*pi/y^3 - 1/16*pi/y^4\n",
      "sum_dfdx_a_bernoullis(a) -3/32*pi + 5/24\n",
      "sum_int= 0.0861909779407098\n"
     ]
    },
    {
     "data": {
      "text/latex": [
       "$\\displaystyle \\frac{3}{32} \\, \\pi - \\frac{5}{24}$"
      ],
      "text/plain": [
       "<IPython.core.display.Math object>"
      ]
     },
     "metadata": {},
     "output_type": "display_data"
    },
    {
     "name": "stdout",
     "output_type": "stream",
     "text": [
      "sum_dfdx_a_bernoullis -1/2/(x^2 + y^2)^2 - 1/3*x/(x^2 + y^2)^3\n",
      "sum_dfdx_a_bernoullis(a) -1/2/(y^2 + 1)^2 - 1/3/(y^2 + 1)^3\n",
      "sum_dfdx_a_bernoullis -1/4/(y^2 + 1)^2 - 1/6*y/(y^2 + 1)^3 - 1/6/(y^2 + 1)^3 - 1/6*y/(y^2 + 1)^4\n",
      "sum_dfdx_a_bernoullis(a) -11/96\n",
      "sum_sum= 0.114583333333333\n"
     ]
    },
    {
     "data": {
      "text/latex": [
       "$\\displaystyle \\frac{11}{96}$"
      ],
      "text/plain": [
       "<IPython.core.display.Math object>"
      ]
     },
     "metadata": {},
     "output_type": "display_data"
    },
    {
     "name": "stdout",
     "output_type": "stream",
     "text": [
      "f_diff_symb_p_str= -192*x^3/(x^2 + y^2)^5 + 72*x/(x^2 + y^2)^4\n",
      "f_diff_symb_p = -Integer(192)*x**Integer(3)/(x**Integer(2) + y**Integer(2))**Integer(5) + Integer(72)*x/(x**Integer(2) + y**Integer(2))**Integer(4)\n",
      "f_diff_symb_p =  -192*x^3/(x^2 + y^2)^5 + 72*x/(x^2 + y^2)^4\n"
     ]
    },
    {
     "data": {
      "text/latex": [
       "$\\displaystyle -\\frac{192 \\, x^{3}}{{\\left(x^{2} + y^{2}\\right)}^{5}} + \\frac{72 \\, x}{{\\left(x^{2} + y^{2}\\right)}^{4}}$"
      ],
      "text/plain": [
       "<IPython.core.display.Math object>"
      ]
     },
     "metadata": {},
     "output_type": "display_data"
    },
    {
     "name": "stdout",
     "output_type": "stream",
     "text": [
      "f (x^2 + y^2)^(-2)\n",
      "symb,a,b x 1 +Infinity\n",
      "f_diff_symb_p -192*x^3/(x^2 + y^2)^5 + 72*x/(x^2 + y^2)^4\n",
      "\n",
      "(-1)^(p+1)*P(x=symb,p=p)/fact(n=p) 1/6*(x - floor(x))^3 - 1/4*(x - floor(x))^2 + 1/12*x - 1/12*floor(x)\n",
      "R_px= integrate(-2*(2*(x - floor(x))^3 - 3*(x - floor(x))^2 + x - floor(x))*(8*x^3/(x^2 + y^2)^5 - 3*x/(x^2 + y^2)^4), x, 1, +Infinity)\n"
     ]
    },
    {
     "data": {
      "text/latex": [
       "$\\displaystyle \\int_{1}^{+\\infty} -2 \\, {\\left(2 \\, {\\left(x - \\left \\lfloor x \\right \\rfloor\\right)}^{3} - 3 \\, {\\left(x - \\left \\lfloor x \\right \\rfloor\\right)}^{2} + x - \\left \\lfloor x \\right \\rfloor\\right)} {\\left(\\frac{8 \\, x^{3}}{{\\left(x^{2} + y^{2}\\right)}^{5}} - \\frac{3 \\, x}{{\\left(x^{2} + y^{2}\\right)}^{4}}\\right)}\\,{d x}$"
      ],
      "text/plain": [
       "<IPython.core.display.Math object>"
      ]
     },
     "metadata": {},
     "output_type": "display_data"
    },
    {
     "name": "stdout",
     "output_type": "stream",
     "text": [
      "sum_dfdx_a_bernoullis -1/2*integrate(-2*(2*(x - floor(x))^3 - 3*(x - floor(x))^2 + x - floor(x))*(8*x^3/(x^2 + y^2)^5 - 3*x/(x^2 + y^2)^4), x, 1, +Infinity) + 4/3*integrate((2*(x - floor(x))^3 - 3*(x - floor(x))^2 + x - floor(x))*(10*x^3*y/(x^2 + y^2)^6 - 3*x*y/(x^2 + y^2)^5), x, 1, +Infinity)\n",
      "sum_dfdx_a_bernoullis(a) 1/32*pi + integrate((2*(x - floor(x))^3 - 3*(x - floor(x))^2 + x - floor(x))*(8*x^3/(x^2 + 1)^5 - 3*x/(x^2 + 1)^4), x, 1, +Infinity) - 5/96\n",
      "sumy_R_px= -1/32*pi - integrate((2*(x - floor(x))^3 - 3*(x - floor(x))^2 + x - floor(x))*(8*x^3/(x^2 + 1)^5 - 3*x/(x^2 + 1)^4), x, 1, +Infinity) + 5/96\n"
     ]
    },
    {
     "data": {
      "text/latex": [
       "$\\displaystyle -\\frac{1}{32} \\, \\pi - \\int_{1}^{+\\infty} {\\left(2 \\, {\\left(x - \\left \\lfloor x \\right \\rfloor\\right)}^{3} - 3 \\, {\\left(x - \\left \\lfloor x \\right \\rfloor\\right)}^{2} + x - \\left \\lfloor x \\right \\rfloor\\right)} {\\left(\\frac{8 \\, x^{3}}{{\\left(x^{2} + 1\\right)}^{5}} - \\frac{3 \\, x}{{\\left(x^{2} + 1\\right)}^{4}}\\right)}\\,{d x} + \\frac{5}{96}$"
      ],
      "text/plain": [
       "<IPython.core.display.Math object>"
      ]
     },
     "metadata": {},
     "output_type": "display_data"
    },
    {
     "data": {
      "text/latex": [
       "$\\displaystyle -0.0473559395595944$"
      ],
      "text/plain": [
       "<IPython.core.display.Math object>"
      ]
     },
     "metadata": {},
     "output_type": "display_data"
    }
   ],
   "source": [
    "logging = True\n",
    "sum_int = sum_dfdx_bernoulis(integral           (f(x,y),(x, a_x, b_x)),  y, a_y, b_y, p)\n",
    "#print(\"sum_int=$\",latex(sum_int),\"$\")\n",
    "print(\"sum_int=\",sum_int.n())\n",
    "display(Math(latex(sum_int)))\n",
    "\n",
    "sum_sum = sum_dfdx_bernoulis(sum_dfdx_bernoulis (f(x,y), x, a_x, b_x,p), y, a_y, b_y, p)\n",
    "#print(\"sum_sum=$\",latex(sum_sum),\"$\")\n",
    "print(\"sum_sum=\", sum_sum.n())\n",
    "display(Math(latex(sum_sum)))\n",
    "\n",
    "if True:\n",
    "    f_diff_symb_p_str = str(f(x,y).diff(x,p))\n",
    "    print(\"f_diff_symb_p_str=\", f_diff_symb_p_str)\n",
    "    exec(preparse(\"f_diff_symb_p = \" + f_diff_symb_p_str))\n",
    "    print(preparse(\"f_diff_symb_p = \" + f_diff_symb_p_str))\n",
    "    print(\"f_diff_symb_p = \", f_diff_symb_p)\n",
    "    #print(\"f_diff_symb_p = $\", latex(f_diff_symb_p),\"$\")\n",
    "    display(Math(latex(f_diff_symb_p)))\n",
    "    #display(Math(latex(f_diff_symb_p(x,y))))\n",
    "    \n",
    "    use_num_int = False\n",
    "\n",
    "    R_px_ans = euler_maclaurin_R_p(f(x,y), x, a_x, b_x,p, f_diff_symb_p=f_diff_symb_p(x,y))\n",
    "    if type(R_px_ans) is tuple:\n",
    "        R_px = R_px_ans[0]\n",
    "    else:\n",
    "        R_px = R_px_ans\n",
    "    print(\"R_px=\",R_px)\n",
    "    #print(\"R_px=$\",latex(R_px),\"$\")\n",
    "    display(Math(latex(R_px)))\n",
    "    \n",
    "    # Sagemath 9.3 gives wrong result here due to    \n",
    "    # https://trac.sagemath.org/ticket/32160\n",
    "    sum_R_p = sum_dfdx_bernoulis(R_px, y, a_y, b_y, p)\n",
    "    print(\"sumy_R_px=\",sum_R_p)\n",
    "    #print(\"sumy_R_px=$\",latex(sum_R_p),\"$\")\n",
    "    display(Math(latex(sum_R_p)))\n",
    "    display(Math(latex(sum_R_p.n())))\n",
    "else:\n",
    "    (sum_R_p, dfdx_a_bernoullis_terms) = sum_dfdx_bernoulis_euler_maclaurin_R_p(f(x,y), x, a_x, b_x,    y, a_y, b_y, p)\n",
    "    #print(\"sum_R_p=$\",latex(sum_R_p),\"$\")\n",
    "    #print(\"sum_R_p=$\",sum_R_p.n())\n",
    "    display(Math(latex(sum_R_p)))\n",
    "    display(Math(latex(sum_R_p.n())))"
   ]
  },
  {
   "cell_type": "code",
   "execution_count": 54,
   "metadata": {},
   "outputs": [
    {
     "data": {
      "text/plain": [
       "1/32*pi - 5/96"
      ]
     },
     "execution_count": 54,
     "metadata": {},
     "output_type": "execute_result"
    }
   ],
   "source": [
    "# https://trac.sagemath.org/ticket/32160\n",
    "4/3*integrate((2*(x - floor(x))^3 - 3*(x - floor(x))^2 + x - floor(x))*(10*x^3/(x^2 + 1)^6 - 3*x/(x^2 + 1)^5), x, 1, +Infinity)"
   ]
  },
  {
   "cell_type": "code",
   "execution_count": 55,
   "metadata": {},
   "outputs": [
    {
     "data": {
      "text/plain": [
       "0.0460914370913477"
      ]
     },
     "execution_count": 55,
     "metadata": {},
     "output_type": "execute_result"
    }
   ],
   "source": [
    "# https://trac.sagemath.org/ticket/32160\n",
    "(4/3*integrate((2*(x - floor(x))^3 - 3*(x - floor(x))^2 + x - floor(x))*(10*x^3/(x^2 + 1)^6 - 3*x/(x^2 + 1)^5), x, 1, +Infinity)).n()"
   ]
  },
  {
   "cell_type": "code",
   "execution_count": 56,
   "metadata": {},
   "outputs": [
    {
     "data": {
      "text/plain": [
       "0.0013260640766765055"
      ]
     },
     "execution_count": 56,
     "metadata": {},
     "output_type": "execute_result"
    }
   ],
   "source": [
    "4/3*num_int((2*(x - floor(x))^3 - 3*(x - floor(x))^2 + x - floor(x))*(10*x^3/(x^2 + 1)^6 - 3*x/(x^2 + 1)^5), 1, +Infinity)"
   ]
  },
  {
   "cell_type": "code",
   "execution_count": 57,
   "metadata": {},
   "outputs": [
    {
     "data": {
      "text/plain": [
       "0.0473559395595944"
      ]
     },
     "execution_count": 57,
     "metadata": {},
     "output_type": "execute_result"
    }
   ],
   "source": [
    "# https://trac.sagemath.org/ticket/32160\n",
    "(-1/2*integrate(-2*(2*(x - floor(x))^3 - 3*(x - floor(x))^2 + x - floor(x))*(8*x^3/(x^2 + 1)^5 - 3*x/(x^2 + 1)^4), x, 1, +Infinity) \n",
    "+ 4/3*integrate((2*(x - floor(x))^3 - 3*(x - floor(x))^2 + x - floor(x))*(10*x^3/(x^2 + 1)^6 - 3*x/(x^2 + 1)^5), x, 1, +Infinity)).n()"
   ]
  },
  {
   "cell_type": "code",
   "execution_count": 58,
   "metadata": {},
   "outputs": [
    {
     "data": {
      "text/plain": [
       "0.0025904503962547384"
      ]
     },
     "execution_count": 58,
     "metadata": {},
     "output_type": "execute_result"
    }
   ],
   "source": [
    "(-1/2*num_int(-2*(2*(x - floor(x))^3 - 3*(x - floor(x))^2 + x - floor(x))*(8*x^3/(x^2 + 1)^5 - 3*x/(x^2 + 1)^4), 1, +Infinity) \n",
    "+ 4/3*num_int((2*(x - floor(x))^3 - 3*(x - floor(x))^2 + x - floor(x))*(10*x^3/(x^2 + 1)^6 - 3*x/(x^2 + 1)^5), 1, +Infinity))"
   ]
  },
  {
   "cell_type": "code",
   "execution_count": 59,
   "metadata": {},
   "outputs": [
    {
     "data": {
      "text/plain": [
       "-1/32*pi - integrate((2*(x - floor(x))^3 - 3*(x - floor(x))^2 + x - floor(x))*(8*x^3/(x^2 + 1)^5 - 3*x/(x^2 + 1)^4), x, 1, +Infinity) + 5/96"
      ]
     },
     "execution_count": 59,
     "metadata": {},
     "output_type": "execute_result"
    }
   ],
   "source": [
    "sum_R_p"
   ]
  },
  {
   "cell_type": "code",
   "execution_count": 60,
   "metadata": {},
   "outputs": [
    {
     "data": {
      "text/latex": [
       "$\\displaystyle -\\frac{1}{32} \\, \\pi - \\int_{1}^{+\\infty} {\\left(2 \\, {\\left(x - \\left \\lfloor x \\right \\rfloor\\right)}^{3} - 3 \\, {\\left(x - \\left \\lfloor x \\right \\rfloor\\right)}^{2} + x - \\left \\lfloor x \\right \\rfloor\\right)} {\\left(\\frac{8 \\, x^{3}}{{\\left(x^{2} + 1\\right)}^{5}} - \\frac{3 \\, x}{{\\left(x^{2} + 1\\right)}^{4}}\\right)}\\,{d x} + \\frac{5}{96}$"
      ],
      "text/plain": [
       "<IPython.core.display.Math object>"
      ]
     },
     "metadata": {},
     "output_type": "display_data"
    }
   ],
   "source": [
    "display(Math(latex(sum_R_p)))"
   ]
  },
  {
   "cell_type": "code",
   "execution_count": 61,
   "metadata": {},
   "outputs": [
    {
     "data": {
      "text/plain": [
       "-0.0473559395595944"
      ]
     },
     "execution_count": 61,
     "metadata": {},
     "output_type": "execute_result"
    }
   ],
   "source": [
    "sum_R_p_n = sum_R_p.n()\n",
    "sum_R_p_n"
   ]
  },
  {
   "cell_type": "code",
   "execution_count": 62,
   "metadata": {},
   "outputs": [],
   "source": [
    "if use_int_R_p_j:\n",
    "    print(dfdx_a_bernoullis_terms(j_x))"
   ]
  },
  {
   "cell_type": "code",
   "execution_count": 63,
   "metadata": {},
   "outputs": [],
   "source": [
    "if use_int_R_p_j:\n",
    "    sum_R_p_j_n = 0\n",
    "    for j_x in range(1,100):\n",
    "        term = dfdx_a_bernoullis_terms(j_x)\n",
    "        sum_R_p_j_n += term\n",
    "        #print(j_x, term.n(), sum_R_p_n)\n",
    "    print(sum_R_p_j_n.n())"
   ]
  },
  {
   "cell_type": "code",
   "execution_count": 64,
   "metadata": {},
   "outputs": [
    {
     "name": "stdout",
     "output_type": "stream",
     "text": [
      "f -1/2*(y^2*arctan(1/y) + y + arctan(1/y))/(y^5 + y^3) + 1/4*pi/y^3\n",
      "symb,a,b y 1 +Infinity\n",
      "\n",
      "(-1)^(p+1)*P(x=symb,p=p)/fact(n=p) 1/6*(y - floor(y))^3 - 1/4*(y - floor(y))^2 + 1/12*y - 1/12*floor(y)\n",
      "R_p_int=$ \\int_{1}^{+\\infty} \\frac{1}{12} \\, {\\left(2 \\, {\\left(y - \\left \\lfloor y \\right \\rfloor\\right)}^{3} - 3 \\, {\\left(y - \\left \\lfloor y \\right \\rfloor\\right)}^{2} + y - \\left \\lfloor y \\right \\rfloor\\right)} {\\left(\\frac{3 \\, {\\left(5 \\, y^{4} + 3 \\, y^{2}\\right)}^{3} {\\left(y^{2} \\arctan\\left(\\frac{1}{y}\\right) + y + \\arctan\\left(\\frac{1}{y}\\right)\\right)}}{{\\left(y^{5} + y^{3}\\right)}^{4}} - \\frac{6 \\, {\\left(5 \\, y^{4} + 3 \\, y^{2}\\right)} {\\left(10 \\, y^{3} + 3 \\, y\\right)} {\\left(y^{2} \\arctan\\left(\\frac{1}{y}\\right) + y + \\arctan\\left(\\frac{1}{y}\\right)\\right)}}{{\\left(y^{5} + y^{3}\\right)}^{3}} + \\frac{3 \\, {\\left(y^{2} \\arctan\\left(\\frac{1}{y}\\right) + y + \\arctan\\left(\\frac{1}{y}\\right)\\right)} {\\left(10 \\, y^{2} + 1\\right)}}{{\\left(y^{5} + y^{3}\\right)}^{2}} - \\frac{3 \\, {\\left(5 \\, y^{4} + 3 \\, y^{2}\\right)}^{2} {\\left(2 \\, y \\arctan\\left(\\frac{1}{y}\\right) - \\frac{1}{\\frac{1}{y^{2}} + 1} - \\frac{1}{y^{2} {\\left(\\frac{1}{y^{2}} + 1\\right)}} + 1\\right)}}{{\\left(y^{5} + y^{3}\\right)}^{3}} + \\frac{3 \\, {\\left(10 \\, y^{3} + 3 \\, y\\right)} {\\left(2 \\, y \\arctan\\left(\\frac{1}{y}\\right) - \\frac{1}{\\frac{1}{y^{2}} + 1} - \\frac{1}{y^{2} {\\left(\\frac{1}{y^{2}} + 1\\right)}} + 1\\right)}}{{\\left(y^{5} + y^{3}\\right)}^{2}} - \\frac{3 \\, {\\left(5 \\, y^{4} + 3 \\, y^{2}\\right)} {\\left(\\frac{1}{y {\\left(\\frac{1}{y^{2}} + 1\\right)}} - \\frac{1}{y^{3} {\\left(\\frac{1}{y^{2}} + 1\\right)}} + \\frac{1}{y^{3} {\\left(\\frac{1}{y^{2}} + 1\\right)}^{2}} + \\frac{1}{y^{5} {\\left(\\frac{1}{y^{2}} + 1\\right)}^{2}} - \\arctan\\left(\\frac{1}{y}\\right)\\right)}}{{\\left(y^{5} + y^{3}\\right)}^{2}} + \\frac{\\frac{3}{y^{4} {\\left(\\frac{1}{y^{2}} + 1\\right)}} - \\frac{1}{y^{4} {\\left(\\frac{1}{y^{2}} + 1\\right)}^{2}} - \\frac{7}{y^{6} {\\left(\\frac{1}{y^{2}} + 1\\right)}^{2}} + \\frac{4}{y^{6} {\\left(\\frac{1}{y^{2}} + 1\\right)}^{3}} + \\frac{4}{y^{8} {\\left(\\frac{1}{y^{2}} + 1\\right)}^{3}}}{y^{5} + y^{3}} - \\frac{15 \\, \\pi}{y^{6}}\\right)}\\,{d y} $\n"
     ]
    },
    {
     "data": {
      "text/latex": [
       "$\\displaystyle \\int_{1}^{+\\infty} \\frac{1}{12} \\, {\\left(2 \\, {\\left(y - \\left \\lfloor y \\right \\rfloor\\right)}^{3} - 3 \\, {\\left(y - \\left \\lfloor y \\right \\rfloor\\right)}^{2} + y - \\left \\lfloor y \\right \\rfloor\\right)} {\\left(\\frac{3 \\, {\\left(5 \\, y^{4} + 3 \\, y^{2}\\right)}^{3} {\\left(y^{2} \\arctan\\left(\\frac{1}{y}\\right) + y + \\arctan\\left(\\frac{1}{y}\\right)\\right)}}{{\\left(y^{5} + y^{3}\\right)}^{4}} - \\frac{6 \\, {\\left(5 \\, y^{4} + 3 \\, y^{2}\\right)} {\\left(10 \\, y^{3} + 3 \\, y\\right)} {\\left(y^{2} \\arctan\\left(\\frac{1}{y}\\right) + y + \\arctan\\left(\\frac{1}{y}\\right)\\right)}}{{\\left(y^{5} + y^{3}\\right)}^{3}} + \\frac{3 \\, {\\left(y^{2} \\arctan\\left(\\frac{1}{y}\\right) + y + \\arctan\\left(\\frac{1}{y}\\right)\\right)} {\\left(10 \\, y^{2} + 1\\right)}}{{\\left(y^{5} + y^{3}\\right)}^{2}} - \\frac{3 \\, {\\left(5 \\, y^{4} + 3 \\, y^{2}\\right)}^{2} {\\left(2 \\, y \\arctan\\left(\\frac{1}{y}\\right) - \\frac{1}{\\frac{1}{y^{2}} + 1} - \\frac{1}{y^{2} {\\left(\\frac{1}{y^{2}} + 1\\right)}} + 1\\right)}}{{\\left(y^{5} + y^{3}\\right)}^{3}} + \\frac{3 \\, {\\left(10 \\, y^{3} + 3 \\, y\\right)} {\\left(2 \\, y \\arctan\\left(\\frac{1}{y}\\right) - \\frac{1}{\\frac{1}{y^{2}} + 1} - \\frac{1}{y^{2} {\\left(\\frac{1}{y^{2}} + 1\\right)}} + 1\\right)}}{{\\left(y^{5} + y^{3}\\right)}^{2}} - \\frac{3 \\, {\\left(5 \\, y^{4} + 3 \\, y^{2}\\right)} {\\left(\\frac{1}{y {\\left(\\frac{1}{y^{2}} + 1\\right)}} - \\frac{1}{y^{3} {\\left(\\frac{1}{y^{2}} + 1\\right)}} + \\frac{1}{y^{3} {\\left(\\frac{1}{y^{2}} + 1\\right)}^{2}} + \\frac{1}{y^{5} {\\left(\\frac{1}{y^{2}} + 1\\right)}^{2}} - \\arctan\\left(\\frac{1}{y}\\right)\\right)}}{{\\left(y^{5} + y^{3}\\right)}^{2}} + \\frac{\\frac{3}{y^{4} {\\left(\\frac{1}{y^{2}} + 1\\right)}} - \\frac{1}{y^{4} {\\left(\\frac{1}{y^{2}} + 1\\right)}^{2}} - \\frac{7}{y^{6} {\\left(\\frac{1}{y^{2}} + 1\\right)}^{2}} + \\frac{4}{y^{6} {\\left(\\frac{1}{y^{2}} + 1\\right)}^{3}} + \\frac{4}{y^{8} {\\left(\\frac{1}{y^{2}} + 1\\right)}^{3}}}{y^{5} + y^{3}} - \\frac{15 \\, \\pi}{y^{6}}\\right)}\\,{d y}$"
      ],
      "text/plain": [
       "<IPython.core.display.Math object>"
      ]
     },
     "metadata": {},
     "output_type": "display_data"
    },
    {
     "name": "stdout",
     "output_type": "stream",
     "text": [
      "sum_dfdx_a_bernoullis -1/2/(x^2 + y^2)^2 - 1/3*x/(x^2 + y^2)^3\n",
      "sum_dfdx_a_bernoullis(a) -1/2/(y^2 + 1)^2 - 1/3/(y^2 + 1)^3\n",
      "f 1/2/(y^2 + 1)^2 + 1/3/(y^2 + 1)^3\n",
      "symb,a,b y 1 +Infinity\n",
      "\n",
      "(-1)^(p+1)*P(x=symb,p=p)/fact(n=p) 1/6*(y - floor(y))^3 - 1/4*(y - floor(y))^2 + 1/12*y - 1/12*floor(y)\n",
      "R_p_sum=$ -\\frac{1}{3} \\, \\int_{1}^{+\\infty} {\\left(2 \\, {\\left(y - \\left \\lfloor y \\right \\rfloor\\right)}^{3} - 3 \\, {\\left(y - \\left \\lfloor y \\right \\rfloor\\right)}^{2} + y - \\left \\lfloor y \\right \\rfloor\\right)} {\\left(\\frac{24 \\, y^{3}}{{\\left(y^{2} + 1\\right)}^{5}} - \\frac{9 \\, y}{{\\left(y^{2} + 1\\right)}^{4}} + \\frac{40 \\, y^{3}}{{\\left(y^{2} + 1\\right)}^{6}} - \\frac{12 \\, y}{{\\left(y^{2} + 1\\right)}^{5}}\\right)}\\,{d y} $\n"
     ]
    },
    {
     "data": {
      "text/latex": [
       "$\\displaystyle -\\frac{1}{3} \\, \\int_{1}^{+\\infty} {\\left(2 \\, {\\left(y - \\left \\lfloor y \\right \\rfloor\\right)}^{3} - 3 \\, {\\left(y - \\left \\lfloor y \\right \\rfloor\\right)}^{2} + y - \\left \\lfloor y \\right \\rfloor\\right)} {\\left(\\frac{24 \\, y^{3}}{{\\left(y^{2} + 1\\right)}^{5}} - \\frac{9 \\, y}{{\\left(y^{2} + 1\\right)}^{4}} + \\frac{40 \\, y^{3}}{{\\left(y^{2} + 1\\right)}^{6}} - \\frac{12 \\, y}{{\\left(y^{2} + 1\\right)}^{5}}\\right)}\\,{d y}$"
      ],
      "text/plain": [
       "<IPython.core.display.Math object>"
      ]
     },
     "metadata": {},
     "output_type": "display_data"
    }
   ],
   "source": [
    "use_int_R_p_j = False\n",
    "use_num_int = False\n",
    "R_p_int = euler_maclaurin_R_p(integral           (f(x,y),(x, a_x, b_x), hold = False),  y, a_y, b_y, p, f_diff_symb_p=None)\n",
    "print(\"R_p_int=$\",latex(R_p_int),\"$\")\n",
    "#print(\"R_p_int=\", R_p_int.n())\n",
    "display(Math(latex(R_p_int)))\n",
    "\n",
    "R_p_sum = euler_maclaurin_R_p(sum_dfdx_bernoulis (f(x,y), x, a_x, b_x,p), y, a_y, b_y, p, f_diff_symb_p=None, hold_int=False)\n",
    "print(\"R_p_sum=$\",latex(R_p_sum),\"$\")\n",
    "#print(\"R_p_sum=$\",R_p_sum.n())\n",
    "display(Math(latex(R_p_sum)))\n"
   ]
  },
  {
   "cell_type": "code",
   "execution_count": 65,
   "metadata": {},
   "outputs": [
    {
     "data": {
      "text/plain": [
       "integrate(1/12*(2*(y - floor(y))^3 - 3*(y - floor(y))^2 + y - floor(y))*(3*(5*y^4 + 3*y^2)^3*(y^2*arctan(1/y) + y + arctan(1/y))/(y^5 + y^3)^4 - 6*(5*y^4 + 3*y^2)*(10*y^3 + 3*y)*(y^2*arctan(1/y) + y + arctan(1/y))/(y^5 + y^3)^3 + 3*(y^2*arctan(1/y) + y + arctan(1/y))*(10*y^2 + 1)/(y^5 + y^3)^2 - 3*(5*y^4 + 3*y^2)^2*(2*y*arctan(1/y) - 1/(1/y^2 + 1) - 1/(y^2*(1/y^2 + 1)) + 1)/(y^5 + y^3)^3 + 3*(10*y^3 + 3*y)*(2*y*arctan(1/y) - 1/(1/y^2 + 1) - 1/(y^2*(1/y^2 + 1)) + 1)/(y^5 + y^3)^2 - 3*(5*y^4 + 3*y^2)*(1/(y*(1/y^2 + 1)) - 1/(y^3*(1/y^2 + 1)) + 1/(y^3*(1/y^2 + 1)^2) + 1/(y^5*(1/y^2 + 1)^2) - arctan(1/y))/(y^5 + y^3)^2 + (3/(y^4*(1/y^2 + 1)) - 1/(y^4*(1/y^2 + 1)^2) - 7/(y^6*(1/y^2 + 1)^2) + 4/(y^6*(1/y^2 + 1)^3) + 4/(y^8*(1/y^2 + 1)^3))/(y^5 + y^3) - 15*pi/y^6), y, 1, +Infinity)"
      ]
     },
     "execution_count": 65,
     "metadata": {},
     "output_type": "execute_result"
    }
   ],
   "source": [
    "R_p_int"
   ]
  },
  {
   "cell_type": "code",
   "execution_count": 66,
   "metadata": {},
   "outputs": [
    {
     "data": {
      "text/plain": [
       "-1/2*(y^2*arctan(1/y) + y + arctan(1/y))/(y^5 + y^3) + 1/4*pi/y^3"
      ]
     },
     "execution_count": 66,
     "metadata": {},
     "output_type": "execute_result"
    }
   ],
   "source": [
    "integral           (f(x,y),(x, a_x, b_x), hold = False)"
   ]
  },
  {
   "cell_type": "code",
   "execution_count": 67,
   "metadata": {},
   "outputs": [
    {
     "data": {
      "text/plain": [
       "-0.000245074944248043"
      ]
     },
     "execution_count": 67,
     "metadata": {},
     "output_type": "execute_result"
    }
   ],
   "source": [
    "R_p_int_n = R_p_int.n()\n",
    "R_p_int_n"
   ]
  },
  {
   "cell_type": "code",
   "execution_count": 68,
   "metadata": {},
   "outputs": [
    {
     "data": {
      "text/plain": [
       "-1/3*integrate((2*(y - floor(y))^3 - 3*(y - floor(y))^2 + y - floor(y))*(24*y^3/(y^2 + 1)^5 - 9*y/(y^2 + 1)^4 + 40*y^3/(y^2 + 1)^6 - 12*y/(y^2 + 1)^5), y, 1, +Infinity)"
      ]
     },
     "execution_count": 68,
     "metadata": {},
     "output_type": "execute_result"
    }
   ],
   "source": [
    "R_p_sum"
   ]
  },
  {
   "cell_type": "code",
   "execution_count": 69,
   "metadata": {},
   "outputs": [
    {
     "data": {
      "text/latex": [
       "$\\displaystyle -\\frac{1}{3} \\, \\int_{1}^{+\\infty} {\\left(2 \\, {\\left(y - \\left \\lfloor y \\right \\rfloor\\right)}^{3} - 3 \\, {\\left(y - \\left \\lfloor y \\right \\rfloor\\right)}^{2} + y - \\left \\lfloor y \\right \\rfloor\\right)} {\\left(\\frac{24 \\, y^{3}}{{\\left(y^{2} + 1\\right)}^{5}} - \\frac{9 \\, y}{{\\left(y^{2} + 1\\right)}^{4}} + \\frac{40 \\, y^{3}}{{\\left(y^{2} + 1\\right)}^{6}} - \\frac{12 \\, y}{{\\left(y^{2} + 1\\right)}^{5}}\\right)}\\,{d y}$"
      ],
      "text/plain": [
       "<IPython.core.display.Math object>"
      ]
     },
     "metadata": {},
     "output_type": "display_data"
    }
   ],
   "source": [
    "display(Math(latex(R_p_sum)))"
   ]
  },
  {
   "cell_type": "code",
   "execution_count": 70,
   "metadata": {},
   "outputs": [
    {
     "data": {
      "text/plain": [
       "-0.00259056586591009"
      ]
     },
     "execution_count": 70,
     "metadata": {},
     "output_type": "execute_result"
    }
   ],
   "source": [
    "R_p_sum_n = R_p_sum.n()\n",
    "R_p_sum_n"
   ]
  },
  {
   "cell_type": "code",
   "execution_count": 71,
   "metadata": {},
   "outputs": [
    {
     "data": {
      "text/latex": [
       "$\\displaystyle -\\frac{1}{32} \\, \\pi - \\int_{1}^{+\\infty} {\\left(2 \\, {\\left(x - \\left \\lfloor x \\right \\rfloor\\right)}^{3} - 3 \\, {\\left(x - \\left \\lfloor x \\right \\rfloor\\right)}^{2} + x - \\left \\lfloor x \\right \\rfloor\\right)} {\\left(\\frac{8 \\, x^{3}}{{\\left(x^{2} + 1\\right)}^{5}} - \\frac{3 \\, x}{{\\left(x^{2} + 1\\right)}^{4}}\\right)}\\,{d x} + \\frac{5}{96}$"
      ],
      "text/plain": [
       "<IPython.core.display.Math object>"
      ]
     },
     "metadata": {},
     "output_type": "display_data"
    }
   ],
   "source": [
    "display(Math(latex(sum_R_p)))"
   ]
  },
  {
   "cell_type": "code",
   "execution_count": 72,
   "metadata": {},
   "outputs": [],
   "source": [
    "#use_num_int = True\n",
    "\n",
    "#R_p_R_p = euler_maclaurin_R_p(euler_maclaurin_R_p(f(x,y), x, a_x, b_x,p), y, a_y, b_y, p)\n",
    "#R_p_R_p = euler_maclaurin_R_p_euler_maclaurin_R_p(f(x,y), x, a_x, b_x,    y, a_y, b_y, p)\n",
    "#print(\"R_p_R_p=$\",latex(R_p_R_p),\"$\")\n",
    "#print(\"R_p_R_p=$\", R_p_R_p.n())\n",
    "#display(Math(latex(R_p_R_p)))"
   ]
  },
  {
   "cell_type": "code",
   "execution_count": 73,
   "metadata": {},
   "outputs": [
    {
     "name": "stdout",
     "output_type": "stream",
     "text": [
      "f_diff_x_p_diff_y_p 322560*x^3*y^3/(x^2 + y^2)^8 - 69120*x^3*y/(x^2 + y^2)^7 - 69120*x*y^3/(x^2 + y^2)^7 + 17280*x*y/(x^2 + y^2)^6\n"
     ]
    }
   ],
   "source": [
    "exec(preparse(\"f_diff_x_p_diff_y_p = lambda x,y:\" + str(f(x,y).diff(x,p).diff(y,p))))\n",
    "print(\"f_diff_x_p_diff_y_p\", f_diff_x_p_diff_y_p(x,y))\n",
    "R_p_R_p = euler_maclaurin_R_p_euler_maclaurin_R_p_num_int(f_diff_x_p_diff_y_p, x, a_x, b_x, y, a_y, b_y, p)"
   ]
  },
  {
   "cell_type": "code",
   "execution_count": 74,
   "metadata": {},
   "outputs": [
    {
     "data": {
      "text/plain": [
       "0.00038638018879801886"
      ]
     },
     "execution_count": 74,
     "metadata": {},
     "output_type": "execute_result"
    }
   ],
   "source": [
    "R_p_R_p"
   ]
  },
  {
   "cell_type": "markdown",
   "metadata": {},
   "source": [
    "# Summary Euler–Maclaurin 2D for $\\sum\\limits_{m,n=1}^{\\infty} \\, \\left(m^{2} + n^{2}\\right)^{-2}$"
   ]
  },
  {
   "cell_type": "code",
   "execution_count": 75,
   "metadata": {},
   "outputs": [
    {
     "data": {
      "text/plain": [
       "(1/8*pi - 1/4, 3/32*pi - 5/24, -0.00024505599786148506)"
      ]
     },
     "execution_count": 75,
     "metadata": {},
     "output_type": "execute_result"
    }
   ],
   "source": [
    "int_int, int_sum, int_R_p"
   ]
  },
  {
   "cell_type": "code",
   "execution_count": 76,
   "metadata": {},
   "outputs": [
    {
     "data": {
      "text/plain": [
       "(3/32*pi - 5/24,\n",
       " 11/96,\n",
       " -1/32*pi - integrate((2*(x - floor(x))^3 - 3*(x - floor(x))^2 + x - floor(x))*(8*x^3/(x^2 + 1)^5 - 3*x/(x^2 + 1)^4), x, 1, +Infinity) + 5/96)"
      ]
     },
     "execution_count": 76,
     "metadata": {},
     "output_type": "execute_result"
    }
   ],
   "source": [
    "sum_int, sum_sum, sum_R_p"
   ]
  },
  {
   "cell_type": "code",
   "execution_count": 77,
   "metadata": {},
   "outputs": [
    {
     "data": {
      "text/plain": [
       "(integrate(1/12*(2*(y - floor(y))^3 - 3*(y - floor(y))^2 + y - floor(y))*(3*(5*y^4 + 3*y^2)^3*(y^2*arctan(1/y) + y + arctan(1/y))/(y^5 + y^3)^4 - 6*(5*y^4 + 3*y^2)*(10*y^3 + 3*y)*(y^2*arctan(1/y) + y + arctan(1/y))/(y^5 + y^3)^3 + 3*(y^2*arctan(1/y) + y + arctan(1/y))*(10*y^2 + 1)/(y^5 + y^3)^2 - 3*(5*y^4 + 3*y^2)^2*(2*y*arctan(1/y) - 1/(1/y^2 + 1) - 1/(y^2*(1/y^2 + 1)) + 1)/(y^5 + y^3)^3 + 3*(10*y^3 + 3*y)*(2*y*arctan(1/y) - 1/(1/y^2 + 1) - 1/(y^2*(1/y^2 + 1)) + 1)/(y^5 + y^3)^2 - 3*(5*y^4 + 3*y^2)*(1/(y*(1/y^2 + 1)) - 1/(y^3*(1/y^2 + 1)) + 1/(y^3*(1/y^2 + 1)^2) + 1/(y^5*(1/y^2 + 1)^2) - arctan(1/y))/(y^5 + y^3)^2 + (3/(y^4*(1/y^2 + 1)) - 1/(y^4*(1/y^2 + 1)^2) - 7/(y^6*(1/y^2 + 1)^2) + 4/(y^6*(1/y^2 + 1)^3) + 4/(y^8*(1/y^2 + 1)^3))/(y^5 + y^3) - 15*pi/y^6), y, 1, +Infinity),\n",
       " -1/3*integrate((2*(y - floor(y))^3 - 3*(y - floor(y))^2 + y - floor(y))*(24*y^3/(y^2 + 1)^5 - 9*y/(y^2 + 1)^4 + 40*y^3/(y^2 + 1)^6 - 12*y/(y^2 + 1)^5), y, 1, +Infinity),\n",
       " 0.00038638018879801886)"
      ]
     },
     "execution_count": 77,
     "metadata": {},
     "output_type": "execute_result"
    }
   ],
   "source": [
    "R_p_int, R_p_sum, R_p_R_p"
   ]
  },
  {
   "cell_type": "markdown",
   "metadata": {},
   "source": [
    "Numerical Euler–Maclaurin 2D for $\\sum\\limits_{m,n=1}^{\\infty} \\, \\left(m^{2} + n^{2}\\right)^{-2}$"
   ]
  },
  {
   "cell_type": "code",
   "execution_count": 78,
   "metadata": {},
   "outputs": [
    {
     "data": {
      "text/plain": [
       "(0.142699081698724, 0.0861909779407098, -0.00024505599786148506)"
      ]
     },
     "execution_count": 78,
     "metadata": {},
     "output_type": "execute_result"
    }
   ],
   "source": [
    "int_int.n(), int_sum.n(), int_R_p_n"
   ]
  },
  {
   "cell_type": "code",
   "execution_count": 79,
   "metadata": {},
   "outputs": [
    {
     "data": {
      "text/plain": [
       "(0.0861909779407098, 0.114583333333333, -0.0473559395595944)"
      ]
     },
     "execution_count": 79,
     "metadata": {},
     "output_type": "execute_result"
    }
   ],
   "source": [
    "sum_int.n(), sum_sum.n(), sum_R_p_n"
   ]
  },
  {
   "cell_type": "code",
   "execution_count": 80,
   "metadata": {},
   "outputs": [
    {
     "data": {
      "text/plain": [
       "(-0.000245074944248043, -0.00259056586591009, 0.00038638018879801886)"
      ]
     },
     "execution_count": 80,
     "metadata": {},
     "output_type": "execute_result"
    }
   ],
   "source": [
    "R_p_int_n, R_p_sum_n, R_p_R_p"
   ]
  },
  {
   "cell_type": "code",
   "execution_count": 81,
   "metadata": {},
   "outputs": [
    {
     "data": {
      "text/plain": [
       "0.379614114734661"
      ]
     },
     "execution_count": 81,
     "metadata": {},
     "output_type": "execute_result"
    }
   ],
   "source": [
    "int_int.n() + int_sum.n() + int_R_p_n + \\\n",
    "sum_int.n() + sum_sum.n() + sum_R_p_n + \\\n",
    "R_p_int_n + R_p_sum_n + R_p_R_p"
   ]
  },
  {
   "cell_type": "code",
   "execution_count": 82,
   "metadata": {},
   "outputs": [
    {
     "data": {
      "text/plain": [
       "0.424379488428345"
      ]
     },
     "execution_count": 82,
     "metadata": {},
     "output_type": "execute_result"
    }
   ],
   "source": [
    "int_int.n() + int_sum.n() + int_R_p_n + \\\n",
    "sum_int.n() + sum_sum.n() + R_p_sum_n + \\\n",
    "R_p_int_n + R_p_sum_n + R_p_R_p"
   ]
  },
  {
   "cell_type": "markdown",
   "metadata": {},
   "source": [
    "$\\sum\\limits_{m,n=1}^{\\infty} \\, \\left(m^{2} + n^{2}\\right)^{-S}$"
   ]
  },
  {
   "cell_type": "code",
   "execution_count": 83,
   "metadata": {},
   "outputs": [],
   "source": [
    "def zeta_2D_1_1(S, N):\n",
    "    \n",
    "    def zeta_2D_row(S, first, N):\n",
    "        #print(\"N\", N, [m for m in range(0,N)])\n",
    "        row_sum = 0\n",
    "        for m in range(first, N):\n",
    "            row_sum += (N^2+m^2)^(-S)\n",
    "            #print(\"m\", m, \"row_sum=\", row_sum)\n",
    "        return row_sum\n",
    "\n",
    "    def zeta_2D_diag(S, N):\n",
    "        diag_elem = (2*N^2)^(-S)\n",
    "        #print(\"N\", N, \"diag_elem=\", diag_elem)\n",
    "        return diag_elem\n",
    "    \n",
    "    zeta_2D_sum = 0\n",
    "    for n in range(1,N):\n",
    "        zeta_2D_add = 2 * zeta_2D_row(S, 1, n) + zeta_2D_diag(S, n)\n",
    "        zeta_2D_sum += zeta_2D_add\n",
    "        \n",
    "        #print(n, zeta_2D_add, zeta_2D_sum)\n",
    "    return zeta_2D_sum"
   ]
  },
  {
   "cell_type": "code",
   "execution_count": 84,
   "metadata": {},
   "outputs": [
    {
     "data": {
      "text/plain": [
       "0.4243791332035987"
      ]
     },
     "execution_count": 84,
     "metadata": {},
     "output_type": "execute_result"
    }
   ],
   "source": [
    "zeta_2D_1_1(2, 1000)"
   ]
  },
  {
   "cell_type": "markdown",
   "metadata": {},
   "source": [
    "R_p=False (Euler–Maclaurin 2D without remainer part)"
   ]
  },
  {
   "cell_type": "code",
   "execution_count": 85,
   "metadata": {},
   "outputs": [
    {
     "data": {
      "text/plain": [
       "0.429664370913477"
      ]
     },
     "execution_count": 85,
     "metadata": {},
     "output_type": "execute_result"
    }
   ],
   "source": [
    "int_int.n() + int_sum.n() + \\\n",
    "sum_int.n() + sum_sum.n()"
   ]
  },
  {
   "cell_type": "markdown",
   "metadata": {},
   "source": [
    "# Two Dimensional Linear Zeta Function"
   ]
  },
  {
   "cell_type": "markdown",
   "metadata": {},
   "source": [
    "https://core.ac.uk/download/pdf/82162715.pdf\n",
    "\n",
    "JOURNAL OF NUMBER THEORY 35, 62-71 (1990)\n",
    "\n",
    "Evaluation of Multidimensional Linear Zeta Functions\n",
    "\n",
    "ALFRED ACTOR*\n",
    "\n",
    "Department of Physics, The Pennsylvania State University,\n",
    "\n",
    "Fogelsville, Pennsylvania 18051\n",
    "\n",
    "Communicated by Hans Zassenhaus\n",
    "\n",
    "Received January 28, 1988; revised May 5, 1989"
   ]
  },
  {
   "cell_type": "code",
   "execution_count": null,
   "metadata": {},
   "outputs": [],
   "source": []
  },
  {
   "cell_type": "markdown",
   "metadata": {},
   "source": [
    "A prototypical formula of this type is [1] \n",
    "\n",
    "$\\sum\\limits_{m,n=-\\infty}^{\\infty} \\, \\left(m^{2} + n^{2}\\right)^{-S} = 4\\,\\zeta\\left(S\\right)\\,\\beta\\left(S\\right)$\n",
    "\n",
    "where of course, $\\zeta\\left(S\\right)$ is the Riemann $\\zeta$-function [2]\n",
    "\n",
    "while $\\beta\\left(S\\right) = \\sum\\limits_{n=0}^{\\infty}\\left( - \\right)^n \\left(2n + 1\\right)^{-S}$\n",
    "defines, for $Res > 0$, a function whose properties throughout the s-plane are\n",
    "well known [3].\n",
    "\n",
    "Thus Eq. (1) fully reveals the properties of the twodimensional Epstein $\\zeta$-function [4] on the left. \n",
    "\n",
    "\n",
    "\n",
    "1. G. H. HARDY, Notes on some points in the integral calculus LII, Mess. Math. 49 (1919),\n",
    "85-91.\n",
    "2. H. M. EDWARDS, “Riemann’s Zeta Function,” Academic Press, New York, 1974.\n",
    "3. A. ERDELYI, W. MAGNUS, F. OEERHETTINGER, AND F. G. TRICOMI (Eds.), “Higher Transcendental Functions,” Vol. 1, McGraw-Hill, New York, 1953. \n",
    "LINEAR ZETA FUNCTIONS 71\n",
    "4. P. EPSTEIN, Zur Theorie allgemeiner Zetafunctionen, Marh. Ann. 56 (1903), 615-645; Zur\n",
    "Theorie allgemeiner Zetafunctionen, II, Math. Ann. 63 (19071, 205-216. "
   ]
  },
  {
   "cell_type": "markdown",
   "metadata": {},
   "source": [
    "$\\sum\\limits_{m,n=(0)1}^{\\infty} \\, \\left(m^{2} + n^{2}\\right)^{-S} = \\zeta\\left(S\\right)\\,\\beta\\left(S\\right)$"
   ]
  },
  {
   "cell_type": "markdown",
   "metadata": {},
   "source": [
    "$\\sum\\limits_{m,n=(0)1}^{\\infty} \\, \\left(\\sqrt{m^{2} + n^{2}}\\right)^{-S} = \\sum\\limits_{m,n=(0)1}^{\\infty} \\, \\left(m^{2} + n^{2}\\right)^{-\\frac{S}{2}} = \\zeta\\left(\\frac{S}{2}\\right)\\,\\beta\\left(\\frac{S}{2}\\right)$"
   ]
  },
  {
   "cell_type": "code",
   "execution_count": 86,
   "metadata": {},
   "outputs": [],
   "source": [
    "def zeta_2D(S, N):\n",
    "    \n",
    "    def zeta_2D_row(S, first, N):\n",
    "        #print(\"N\", N, [m for m in range(0,N)])\n",
    "        row_sum = 0\n",
    "        for m in range(first, N):\n",
    "            row_sum += (N^2+m^2)^(-S)\n",
    "            #print(\"m\", m, \"row_sum=\", row_sum)\n",
    "        return row_sum\n",
    "\n",
    "    def zeta_2D_diag(S, N):\n",
    "        diag_elem = (2*N^2)^(-S)\n",
    "        #print(\"N\", N, \"diag_elem=\", diag_elem)\n",
    "        return diag_elem\n",
    "    \n",
    "    zeta_2D_sum = 0\n",
    "    for n in range(1,N):\n",
    "        zeta_2D_add = zeta_2D_row(S, 0, n) + zeta_2D_row(S, 1, n) + zeta_2D_diag(S, n)\n",
    "        zeta_2D_sum += zeta_2D_add\n",
    "        \n",
    "        #print(n, zeta_2D_add, zeta_2D_sum)\n",
    "    return zeta_2D_sum"
   ]
  },
  {
   "cell_type": "markdown",
   "metadata": {},
   "source": [
    "$\\beta\\left(S\\right) = \\sum\\limits_{n=0}^{\\infty}\\left( - \\right)^n \\left(2n + 1\\right)^{-S}$"
   ]
  },
  {
   "cell_type": "code",
   "execution_count": 87,
   "metadata": {},
   "outputs": [],
   "source": [
    "from sage.calculus.calculus import symbolic_sum\n",
    "n = var(\"n\")\n",
    "S = var(\"S\")\n",
    "beta1_sym = lambda S : symbolic_sum((-1)^n * (2*n + 1)^(-S), n, 0, Infinity)\n",
    "beta1 = lambda S : sum((-1)^n * (2*n + 1)^(-S), n, 0, Infinity)\n",
    "\n",
    "def beta1_dig(S,N):\n",
    "    Sum = 0\n",
    "    for n in range (N):\n",
    "        Sum += (-1)^n * (2*n + 1)^(-S)\n",
    "    return Sum"
   ]
  },
  {
   "cell_type": "markdown",
   "metadata": {},
   "source": [
    "$\\sum\\limits_{m,n=0,1}^{\\infty} \\, \\left(m^{2} + n^{2}\\right)^{-S}=\\sum\\limits_{m,n=1}^{\\infty} \\, \\left(m^{2} + n^{2}\\right)^{-S}+\\zeta(2 S)$"
   ]
  },
  {
   "cell_type": "markdown",
   "metadata": {},
   "source": [
    "$\\sum\\limits_{m,n=0,1}^{\\infty} \\, \\left(m^{2} + n^{2}\\right)^{-2}=\\sum\\limits_{m,n=1}^{\\infty} \\, \\left(m^{2} + n^{2}\\right)^{-2}+\\zeta(4)$"
   ]
  },
  {
   "cell_type": "code",
   "execution_count": 88,
   "metadata": {},
   "outputs": [
    {
     "data": {
      "text/plain": [
       "1.46193734844580"
      ]
     },
     "execution_count": 88,
     "metadata": {},
     "output_type": "execute_result"
    }
   ],
   "source": [
    "int_int.n() + int_sum.n() + int_R_p_n + \\\n",
    "sum_int.n() + sum_sum.n() + sum_R_p_n + \\\n",
    "R_p_int_n + R_p_sum_n + R_p_R_p + \\\n",
    "zeta(4).n()"
   ]
  },
  {
   "cell_type": "markdown",
   "metadata": {},
   "source": [
    "$\\frac{1}{4}\\sum\\limits_{m,n=-\\infty}^{\\infty} \\, \\left(m^{2} + n^{2}\\right)^{-S} = \\,\\zeta\\left(S\\right)\\,\\beta\\left(S\\right)$"
   ]
  },
  {
   "cell_type": "code",
   "execution_count": 89,
   "metadata": {},
   "outputs": [
    {
     "data": {
      "text/plain": [
       "1.50670280430638"
      ]
     },
     "execution_count": 89,
     "metadata": {},
     "output_type": "execute_result"
    }
   ],
   "source": [
    "beta1_dig(2,1000)*zeta(2).n()"
   ]
  },
  {
   "cell_type": "code",
   "execution_count": 90,
   "metadata": {
    "scrolled": true
   },
   "outputs": [
    {
     "data": {
      "text/plain": [
       "1.5067023665809038"
      ]
     },
     "execution_count": 90,
     "metadata": {},
     "output_type": "execute_result"
    }
   ],
   "source": [
    "zeta_2D(2, 1000)"
   ]
  },
  {
   "cell_type": "code",
   "execution_count": null,
   "metadata": {},
   "outputs": [],
   "source": [
    "\n",
    "\n"
   ]
  }
 ],
 "metadata": {
  "kernelspec": {
   "display_name": "SageMath 9.4.beta4",
   "language": "sage",
   "name": "sagemath"
  },
  "language_info": {
   "codemirror_mode": {
    "name": "ipython",
    "version": 3
   },
   "file_extension": ".py",
   "mimetype": "text/x-python",
   "name": "python",
   "nbconvert_exporter": "python",
   "pygments_lexer": "ipython3",
   "version": "3.9.5"
  }
 },
 "nbformat": 4,
 "nbformat_minor": 4
}
