{
 "cells": [
  {
   "cell_type": "code",
   "execution_count": 1,
   "id": "87adc300",
   "metadata": {},
   "outputs": [
    {
     "data": {
      "text/plain": [
       "0"
      ]
     },
     "execution_count": 1,
     "metadata": {},
     "output_type": "execute_result"
    }
   ],
   "source": [
    "import os \n",
    "import numpy as np\n",
    "from scipy import integrate as scipy_integrate, LowLevelCallable\n",
    "# Command to execute\n",
    "cmd = 'cc -fPIC -shared -o lw_vimanic.so lw_rotate.c lw_vimanic.c'\n",
    "\n",
    "# Using os.system() method\n",
    "os.system(cmd)"
   ]
  },
  {
   "cell_type": "code",
   "execution_count": 2,
   "id": "b608d082",
   "metadata": {},
   "outputs": [],
   "source": [
    "# Access your C code\n",
    "import ctypes\n",
    "so_file = \"./lw_vimanic.so\"\n",
    "c_functions = ctypes.CDLL(so_file)"
   ]
  },
  {
   "cell_type": "code",
   "execution_count": 3,
   "id": "20586425",
   "metadata": {},
   "outputs": [],
   "source": [
    "def set_c():\n",
    "    #c_functions.cset_c.restype =  ctypes.c_void\n",
    "    c_functions.cset_c.argtypes = (ctypes.c_longdouble,)\n",
    "    return c_functions.cset_c"
   ]
  },
  {
   "cell_type": "code",
   "execution_count": 4,
   "id": "28a58087",
   "metadata": {},
   "outputs": [],
   "source": [
    "def set_vc():\n",
    "    #c_functions.cset_vc.restype =  ctypes.c_void\n",
    "    c_functions.cset_vc.argtypes = (ctypes.c_longdouble,)\n",
    "    return c_functions.cset_vc"
   ]
  },
  {
   "cell_type": "code",
   "execution_count": 5,
   "id": "e62c1ff2",
   "metadata": {},
   "outputs": [],
   "source": [
    "def set_sphere_R():\n",
    "    #c_functions.cset_sphere_R.restype =  ctypes.c_void\n",
    "    c_functions.cset_sphere_R.argtypes = (ctypes.c_longdouble,)\n",
    "    return c_functions.cset_sphere_R"
   ]
  },
  {
   "cell_type": "code",
   "execution_count": 6,
   "id": "98de7588",
   "metadata": {},
   "outputs": [],
   "source": [
    "def set_S():\n",
    "    #c_functions.cset_S.restype =  ctypes.c_void\n",
    "    c_functions.cset_S.argtypes = (ctypes.c_longdouble,)\n",
    "    return c_functions.cset_S"
   ]
  },
  {
   "cell_type": "code",
   "execution_count": 7,
   "id": "4bc4243c",
   "metadata": {},
   "outputs": [],
   "source": [
    "def get_c():\n",
    "    c_functions.cget_c.restype =  ctypes.c_longdouble\n",
    "    c_functions.cget_c.argtypes = ()\n",
    "    return c_functions.cget_c"
   ]
  },
  {
   "cell_type": "code",
   "execution_count": 8,
   "id": "83fdf3d3",
   "metadata": {},
   "outputs": [],
   "source": [
    "def get_omega():\n",
    "    c_functions.cget_omega.restype =  ctypes.c_longdouble\n",
    "    c_functions.cget_omega.argtypes = ()\n",
    "    return c_functions.cget_omega"
   ]
  },
  {
   "cell_type": "code",
   "execution_count": 9,
   "id": "ef9d33bc",
   "metadata": {},
   "outputs": [],
   "source": [
    "def get_vc():\n",
    "    c_functions.cget_vc.restype =  ctypes.c_longdouble\n",
    "    c_functions.cget_vc.argtypes = ()\n",
    "    return c_functions.cget_vc"
   ]
  },
  {
   "cell_type": "code",
   "execution_count": 10,
   "id": "a09265f1",
   "metadata": {},
   "outputs": [],
   "source": [
    "def get_R_r():\n",
    "    c_functions.cget_R_r.restype =  ctypes.c_longdouble\n",
    "    c_functions.cget_R_r.argtypes = ()\n",
    "    return c_functions.cget_R_r"
   ]
  },
  {
   "cell_type": "code",
   "execution_count": 11,
   "id": "d662c040",
   "metadata": {},
   "outputs": [],
   "source": [
    "def get_R_l():\n",
    "    c_functions.cget_R_l.restype =  ctypes.c_longdouble\n",
    "    c_functions.cget_R_l.argtypes = ()\n",
    "    return c_functions.cget_R_l"
   ]
  },
  {
   "cell_type": "code",
   "execution_count": 12,
   "id": "18bd1c6a",
   "metadata": {},
   "outputs": [],
   "source": [
    "def get_S():\n",
    "    c_functions.cget_S.restype =  ctypes.c_longdouble\n",
    "    c_functions.cget_S.argtypes = ()\n",
    "    return c_functions.cget_S"
   ]
  },
  {
   "cell_type": "code",
   "execution_count": 13,
   "id": "ea87088f",
   "metadata": {},
   "outputs": [],
   "source": [
    "def get_sphere_R():\n",
    "    c_functions.cget_sphere_R.restype =  ctypes.c_longdouble\n",
    "    c_functions.cget_sphere_R.argtypes = ()\n",
    "    return c_functions.cget_sphere_R"
   ]
  },
  {
   "cell_type": "code",
   "execution_count": 14,
   "id": "19688dcf",
   "metadata": {},
   "outputs": [
    {
     "data": {
      "text/plain": [
       "1934541152"
      ]
     },
     "execution_count": 14,
     "metadata": {},
     "output_type": "execute_result"
    }
   ],
   "source": [
    "set_c()(1.0)"
   ]
  },
  {
   "cell_type": "code",
   "execution_count": 15,
   "id": "6a3409b6",
   "metadata": {},
   "outputs": [
    {
     "data": {
      "text/plain": [
       "1.0"
      ]
     },
     "execution_count": 15,
     "metadata": {},
     "output_type": "execute_result"
    }
   ],
   "source": [
    "get_c()()"
   ]
  },
  {
   "cell_type": "code",
   "execution_count": 16,
   "id": "06ca5b1a",
   "metadata": {},
   "outputs": [
    {
     "data": {
      "text/plain": [
       "0.8"
      ]
     },
     "execution_count": 16,
     "metadata": {},
     "output_type": "execute_result"
    }
   ],
   "source": [
    "get_vc()()"
   ]
  },
  {
   "cell_type": "code",
   "execution_count": 17,
   "id": "ac961e9b",
   "metadata": {},
   "outputs": [
    {
     "data": {
      "text/plain": [
       "0"
      ]
     },
     "execution_count": 17,
     "metadata": {},
     "output_type": "execute_result"
    }
   ],
   "source": [
    "set_vc()(0.8)"
   ]
  },
  {
   "cell_type": "code",
   "execution_count": 18,
   "id": "f32c1fa8",
   "metadata": {},
   "outputs": [
    {
     "data": {
      "text/plain": [
       "0.8"
      ]
     },
     "execution_count": 18,
     "metadata": {},
     "output_type": "execute_result"
    }
   ],
   "source": [
    "get_omega()()"
   ]
  },
  {
   "cell_type": "code",
   "execution_count": 19,
   "id": "997f39d4",
   "metadata": {},
   "outputs": [
    {
     "data": {
      "text/plain": [
       "6.15000000000000"
      ]
     },
     "execution_count": 19,
     "metadata": {},
     "output_type": "execute_result"
    }
   ],
   "source": [
    "# радиус сферы интегрирования\n",
    "R = 4 * get_R_l()() + 2 * get_S()()\n",
    "R *= 1.5\n",
    "# R = 40 * get_R_l() + 20 * get_S()\n",
    "\n",
    "R"
   ]
  },
  {
   "cell_type": "code",
   "execution_count": 20,
   "id": "fee2ef03",
   "metadata": {},
   "outputs": [
    {
     "data": {
      "text/plain": [
       "6.1499999999999995"
      ]
     },
     "execution_count": 20,
     "metadata": {},
     "output_type": "execute_result"
    }
   ],
   "source": [
    "set_sphere_R()(R)\n",
    "get_sphere_R()()"
   ]
  },
  {
   "cell_type": "code",
   "execution_count": null,
   "id": "e5857d61",
   "metadata": {},
   "outputs": [],
   "source": []
  },
  {
   "cell_type": "code",
   "execution_count": 21,
   "id": "615c4265",
   "metadata": {},
   "outputs": [],
   "source": [
    "T = np.float128(2*pi)/get_omega()()"
   ]
  },
  {
   "cell_type": "code",
   "execution_count": 22,
   "id": "f10e25f0",
   "metadata": {},
   "outputs": [],
   "source": [
    "def sum_Fy_Integrand():\n",
    "    c_functions.sum_Fy_Integrand.restype =  ctypes.c_double\n",
    "    c_functions.sum_Fy_Integrand.argtypes = (ctypes.c_double, ctypes.c_void_p)\n",
    "    return c_functions.sum_Fy_Integrand"
   ]
  },
  {
   "cell_type": "code",
   "execution_count": 23,
   "id": "653082fa",
   "metadata": {},
   "outputs": [],
   "source": [
    "def Maxwells_stress_tensor_Integrand():\n",
    "    c_functions.Maxwells_stress_tensor_Integrand.restype =  ctypes.c_double\n",
    "    c_functions.Maxwells_stress_tensor_Integrand.argtypes = (ctypes.c_int, ctypes.POINTER(ctypes.c_double), ctypes.c_void_p)\n",
    "    return c_functions.Maxwells_stress_tensor_Integrand"
   ]
  },
  {
   "cell_type": "code",
   "execution_count": 24,
   "id": "bf294ac6",
   "metadata": {},
   "outputs": [
    {
     "data": {
      "text/plain": [
       "(1.9968991436065568, 4.825403699907849e-10)"
      ]
     },
     "execution_count": 24,
     "metadata": {},
     "output_type": "execute_result"
    }
   ],
   "source": [
    "# интеграл компоненты силы по оси y, приложенной к зарядам, по периоду\n",
    "int_fy = scipy_integrate.quad(LowLevelCallable(sum_Fy_Integrand()), 0, T)\n",
    "int_fy"
   ]
  },
  {
   "cell_type": "code",
   "execution_count": 26,
   "id": "0ab15aca",
   "metadata": {},
   "outputs": [
    {
     "data": {
      "text/plain": [
       "0.2542530956487648935"
      ]
     },
     "execution_count": 26,
     "metadata": {},
     "output_type": "execute_result"
    }
   ],
   "source": [
    "# интеграл компоненты силы по оси y, приложенной к зарядам, по периоду отнесённая к периоду\n",
    "int_fy[0] / T"
   ]
  },
  {
   "cell_type": "code",
   "execution_count": null,
   "id": "d3d58fc9",
   "metadata": {},
   "outputs": [],
   "source": [
    "Maxwells_stress_tensor_R_upper_half_sphere = scipy_integrate.nquad( \\\n",
    "    LowLevelCallable(Maxwells_stress_tensor_Integrand()), \\\n",
    "        [ [0, np.float128(pi)/2],  [0, np.float128(2*pi)],  [0, T]])"
   ]
  },
  {
   "cell_type": "code",
   "execution_count": null,
   "id": "87eeb755",
   "metadata": {},
   "outputs": [],
   "source": [
    "Maxwells_stress_tensor_R_upper_half_sphere"
   ]
  },
  {
   "cell_type": "code",
   "execution_count": null,
   "id": "6c5f33e9",
   "metadata": {},
   "outputs": [],
   "source": [
    "Maxwells_stress_tensor_R_down_half_sphere = scipy_integrate.nquad( \\\n",
    "    LowLevelCallable(Maxwells_stress_tensor_Integrand()), \\\n",
    "        [ [np.float128(pi)/2, np.float128(pi)],  [0, np.float128(2*pi)],  [0, T]])"
   ]
  },
  {
   "cell_type": "code",
   "execution_count": null,
   "id": "ad721a26",
   "metadata": {},
   "outputs": [],
   "source": [
    "Maxwells_stress_tensor_R_down_half_sphere"
   ]
  },
  {
   "cell_type": "code",
   "execution_count": null,
   "id": "782436f6",
   "metadata": {},
   "outputs": [],
   "source": [
    "Maxwells_stress_tensor_R_upper_half_sphere[0] + Maxwells_stress_tensor_R_down_half_sphere[0]"
   ]
  },
  {
   "cell_type": "code",
   "execution_count": null,
   "id": "5ee9d3c1",
   "metadata": {},
   "outputs": [],
   "source": [
    "Maxwells_stress_tensor_R = scipy_integrate.nquad(LowLevelCallable(Maxwells_stress_tensor_Integrand()) \\\n",
    "        [ [0, np.float128(pi)],  [0, np.float128(2*pi)],  [0, T]])\n"
   ]
  },
  {
   "cell_type": "code",
   "execution_count": null,
   "id": "14a66d90",
   "metadata": {},
   "outputs": [],
   "source": [
    "Maxwells_stress_tensor_R"
   ]
  },
  {
   "cell_type": "code",
   "execution_count": null,
   "id": "968878f1",
   "metadata": {},
   "outputs": [],
   "source": []
  }
 ],
 "metadata": {
  "kernelspec": {
   "display_name": "SageMath 9.6.beta7",
   "language": "sage",
   "name": "sagemath"
  },
  "language_info": {
   "codemirror_mode": {
    "name": "ipython",
    "version": 3
   },
   "file_extension": ".py",
   "mimetype": "text/x-python",
   "name": "python",
   "nbconvert_exporter": "python",
   "pygments_lexer": "ipython3",
   "version": "3.10.3"
  }
 },
 "nbformat": 4,
 "nbformat_minor": 5
}
