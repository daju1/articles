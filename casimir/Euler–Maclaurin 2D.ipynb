{
 "cells": [
  {
   "cell_type": "code",
   "execution_count": 1,
   "metadata": {},
   "outputs": [],
   "source": [
    "logging = False\n",
    "\n",
    "\n",
    "\n",
    "def my_euler_maclaurin1(f,symb,a,b,p,calc_R_p=False):\n",
    "    if logging:\n",
    "        print(\"f\", f)\n",
    "        print(\"symb,a,b\", symb, a, b)\n",
    "        print(\"\")\n",
    "    u, j = var(\"u, j\")\n",
    "\n",
    "    sum_dfdx_a_bernoullis = sum([(f.diff(symb,k-1))*(bernoulli(k)/factorial(k)) for k in range(1,1+p)])\n",
    "    if logging:\n",
    "        print(\"sum_dfdx_a_bernoullis\", sum_dfdx_a_bernoullis)\n",
    "        print(\"sum_dfdx_a_bernoullis(a)\", sum_dfdx_a_bernoullis.subs(symb == a))\n",
    "        if Infinity != b:\n",
    "            print(\"sum_dfdx_a_bernoullis(b)\", sum_dfdx_a_bernoullis.subs(symb == b))\n",
    "\n",
    "    if True:\n",
    "        B = lambda x, p : bernoulli_polynomial(x, p)\n",
    "        fact = lambda n : factorial(n)\n",
    "    else:\n",
    "        B = function(\"B\")(x,p)\n",
    "        fact = function(\"fact\")(n)\n",
    "        \n",
    "    if True == calc_R_p:\n",
    "        # Can't calculate derivative wrt j + u.\n",
    "        #int_R_p = lambda j : integral(f.diff(symb,p).subs(symb == u+j) * bernoulli_polynomial(u,p)/factorial(p), (u,0,1))\n",
    "        def int_R_p_(j):\n",
    "            deriv = f.diff(symb,p)\n",
    "            if logging:\n",
    "                print(\"deriv\", deriv)\n",
    "            deriv_s = deriv.subs(symb == u+j)\n",
    "            if logging:\n",
    "                print(\"deriv_s\", deriv_s)\n",
    "            int_f_diff_B_fact = integral(deriv_s * bernoulli_polynomial(u,p)/factorial(p), (u,0,1))\n",
    "            if logging:\n",
    "                print(\"int_f_diff_B_fact\", int_f_diff_B_fact)\n",
    "            return int_f_diff_B_fact\n",
    "        \n",
    "        def int_R_p(f,symb,j):\n",
    "            u = var(\"u\")\n",
    "            fn_shifted = f.subs(symb == u + j)\n",
    "            if logging:\n",
    "                print(\"fn_shifted\", fn_shifted)\n",
    "            deriv = fn_shifted.diff(u,p)\n",
    "            if logging:\n",
    "                print(\"deriv\", deriv)\n",
    "            int_f_diff_B_fact = integral(deriv * B(x=u,p=p)/fact(n=p), (u,0,1))\n",
    "    \n",
    "            if logging:\n",
    "                print(\"int_f_diff_B_fact\", int_f_diff_B_fact)\n",
    "\n",
    "            return int_f_diff_B_fact\n",
    "\n",
    "        #print(\"int_R_p(j)\", int_R_p(j))\n",
    "        if logging:\n",
    "            print(\"int_R_p(j = a)\", int_R_p(f,symb,j = a))\n",
    "        assume(j>0)\n",
    "        R_p = (-1)^(p+1)*sum(int_R_p(f,symb,j=j), j, a, b-1)\n",
    "\n",
    "    int_fn_a_b = integral(f, (symb, a, b))\n",
    "    if logging:\n",
    "        print(\"int_fn_a_b\", int_fn_a_b)\n",
    "    \n",
    "    #s = int_fn_a_b + sum_dfdx_a_bernoullis(b) - sum_dfdx_a_bernoullis(a) + R_p\n",
    "    s = int_fn_a_b - sum_dfdx_a_bernoullis.subs(symb == a)\n",
    "    if Infinity != b:\n",
    "        s += sum_dfdx_a_bernoullis.subs(symb == b)\n",
    "    if True == calc_R_p:\n",
    "        s += R_p\n",
    "        \n",
    "    if False:\n",
    "        print(\"int_fn_a_b\", int_fn_a_b)\n",
    "        print(\"sum_dfdx_a_bernoullis(a)\", sum_dfdx_a_bernoullis(a))\n",
    "        if Infinity != b:\n",
    "            print(\"sum_dfdx_a_bernoullis(b)\", sum_dfdx_a_bernoullis(b))\n",
    "        if True == calc_R_p:\n",
    "            print(\"int_R_p(j = a)\", int_R_p(j = a))\n",
    "            print(\"R_p\", R_p)\n",
    "        print(\"\")\n",
    "        print(\"s\",s)\n",
    "    return s"
   ]
  },
  {
   "cell_type": "markdown",
   "metadata": {},
   "source": [
    "$${\\displaystyle \\sum _{i=a}^{b}f(i)=\\int _{a}^{b}f(x)\\,dx+{\\frac {f(a)+f(b)}{2}}+\\sum _{k=1}^{\\lfloor p/2\\rfloor }{\\frac {B_{2k}}{(2k)!}}(f^{(2k-1)}(b)-f^{(2k-1)}(a))+R_{p},}$$"
   ]
  },
  {
   "cell_type": "markdown",
   "metadata": {},
   "source": [
    "$${\\displaystyle \\sum _{i=a}^{b}f(i)=\\int _{a}^{b}f(x)\\,dx+\\sum _{k=1}^{\\lfloor p/2\\rfloor }{\\frac {B_{k}}{(k)!}}(f^{(k-1)}(b)-f^{(k-1)}(a))+R_{p},}$$"
   ]
  },
  {
   "cell_type": "markdown",
   "metadata": {},
   "source": [
    "$${\\displaystyle R_{p}=(-1)^{p+1}\\sum_{j=a}^{b-1} \\int _{0}^{1}f^{(p)}(u+j){\\frac {B_{p}(u)}{p!}}\\,du.}$$"
   ]
  },
  {
   "cell_type": "code",
   "execution_count": 2,
   "metadata": {},
   "outputs": [],
   "source": [
    "if True:\n",
    "    B = lambda x, p : bernoulli_polynomial(x, p)\n",
    "    fact = lambda n : factorial(n)\n",
    "else:\n",
    "    B = function(\"B\")(x,p)\n",
    "    fact = function(\"fact\")(n)\n",
    "\n",
    "def euler_maclaurin_R_p(f,symb,a,b,p):\n",
    "    \n",
    "    def int_R_p_(f,symb,jx):\n",
    "        ux = var(\"u_\"+str(symb))\n",
    "        deriv = f.diff(symb,p)\n",
    "        if logging:\n",
    "            print(\"deriv\", deriv)\n",
    "            \n",
    "        deriv_subs = deriv.subs(symb == ux+jx)\n",
    "        if logging:\n",
    "            print(\"deriv_subs\", deriv_subs)\n",
    "\n",
    "        int_f_diff_B_fact = integral(deriv_subs * bernoulli_polynomial(u,p)/factorial(p), (u,0,1))\n",
    "        if logging:\n",
    "            print(\"int_f_diff_B_fact\", int_f_diff_B_fact)\n",
    "            \n",
    "        return int_f_diff_B_fact\n",
    "    \n",
    "    def int_R_p(f,symb,jx):\n",
    "        ux = var(\"u_\"+str(symb))\n",
    "        fn_shifted = f.subs(symb == ux + jx)\n",
    "        if logging:\n",
    "            print(\"fn_shifted\", fn_shifted)\n",
    "\n",
    "        deriv = fn_shifted.diff(ux,p)\n",
    "        if logging:\n",
    "            print(\"deriv\", deriv)\n",
    "\n",
    "        int_f_diff_B_fact = integral(deriv * B(x=ux,p=p)/fact(n=p), (ux, 0, 1))\n",
    "\n",
    "        if logging:\n",
    "            print(\"int_f_diff_B_fact\", int_f_diff_B_fact)\n",
    "\n",
    "        return int_f_diff_B_fact\n",
    "    \n",
    "    jx = var('j_'+str(symb))\n",
    "    assume(jx>0)\n",
    "    if logging:\n",
    "        print(\"f\", f)\n",
    "        print(\"symb,a,b,jx\", symb, a, b, jx)\n",
    "        print(\"\")\n",
    "    R_p = (-1)^(p+1)*sum(int_R_p(f=f, symb=symb, jx=jx), jx, a, b-1)\n",
    "    return R_p\n",
    "\n",
    "\n",
    "def sum_dfdx_bernoulis(f,symb,a,b,p):\n",
    "    dfdx_a_bernoullis = []\n",
    "    for k in range(1,1+p):\n",
    "        dfdx_a_bernoullis += [(f.diff(symb,k-1))*(bernoulli(k)/factorial(k))]\n",
    "        \n",
    "    sum_dfdx_a_bernoullis = sum(dfdx_a_bernoullis)\n",
    "\n",
    "    if logging:\n",
    "        print(\"sum_dfdx_a_bernoullis\", sum_dfdx_a_bernoullis)\n",
    "        print(\"sum_dfdx_a_bernoullis(a)\", sum_dfdx_a_bernoullis.subs(symb == a))\n",
    "        if Infinity != b:\n",
    "            print(\"sum_dfdx_a_bernoullis(b)\", sum_dfdx_a_bernoullis.subs(symb == b))\n",
    "\n",
    "    s = - sum_dfdx_a_bernoullis.subs(symb == a)\n",
    "    if Infinity != b:\n",
    "        s += sum_dfdx_a_bernoullis.subs(symb == b)\n",
    "    return s\n",
    "\n",
    "def definite_integral_derivative(f, x, a, b, diff_param=None):\n",
    "    from sage.symbolic.integration.integral import definite_integral\n",
    "\n",
    "    if not x.has(diff_param):\n",
    "        # integration variable != differentiation variable\n",
    "        ans = definite_integral(f.diff(diff_param), x, a, b, hold=True)\n",
    "    else:\n",
    "        ans = SR.zero()\n",
    "\n",
    "    if hasattr(b, 'diff'):\n",
    "        if b.diff(diff_param) != 0:\n",
    "            ans += f.subs(x == b) * b.diff(diff_param)\n",
    "    if hasattr(a, 'diff'):\n",
    "        if a.diff(diff_param) != 0:\n",
    "            ans -= f.subs(x == a) * a.diff(diff_param)\n",
    "\n",
    "    return ans\n",
    "\n",
    "#sum_R_p = sum_dfdx_bernoulis(euler_maclaurin_R_p(F(x,y), x, a_x, b_x,p), y, a_y, b_y, p)\n",
    "def sum_dfdx_bernoulis_euler_maclaurin_R_p(f, x, a_x, b_x, y, a_y, b_y, p):\n",
    "    dfdx_a_bernoullis = []\n",
    "    from sage.calculus.calculus import symbolic_sum\n",
    "    ux, jx = var(\"u_x, j_x\")\n",
    "    for k in range(1,1+p):\n",
    "        if 1 == k:\n",
    "            term_1 = lambda y, jx : f(x,y).diff(x,p).subs(x == ux + jx) * B(x=ux,p=p)/fact(n=p)\n",
    "            if logging:\n",
    "                print(\"term_1(a_x) =\", term_1(y=y,jx=a_x))\n",
    "            R_p = lambda y : (-1)^(p+1)*symbolic_sum(expression=term_1(y=y,jx=jx), v=jx, a=a_x, b=b_x-1)            \n",
    "            if logging:\n",
    "                print(\"R_p =\", R_p(y))\n",
    "            dfdx_a_bernoullis += [lambda y, i=i : R_p(y)]\n",
    "        elif 2 == k:\n",
    "            term_2 = lambda y, jx : definite_integral_derivative(f(x,y).diff(x,p).subs(x == ux + jx) \\\n",
    "                                                              * B(x=ux,p=p)/fact(n=p), ux, 0, 1, y)\n",
    "            \n",
    "            if logging:\n",
    "                print(\"term_2(a_x) =\", term_2(y=y,jx=a_x))\n",
    "                \n",
    "            R_p = lambda y : (-1)^(p+1)*symbolic_sum(expression=term_2(y=y,jx=jx), v=jx, a=a_x, b=b_x-1)            \n",
    "            if logging:\n",
    "                print(\"R_p =\", R_p(y))\n",
    "            dfdx_a_bernoullis += [lambda y, i=i : R_p(y)]\n",
    "        else:\n",
    "            term_3 = lambda y,jx : definite_integral_derivative(f(x,y).diff(x,p).subs(x == ux + jx) \\\n",
    "                                                              * B(x=ux,p=p)/fact(n=p), ux, 0, 1, x).diff(y, k-2)\n",
    "            \n",
    "            if logging:\n",
    "                print(\"term_3(a_x) =\", term_3(y=x,jx=a_x))\n",
    "            R_p = lambda y : (-1)^(p+1)*symbolic_sum(expression=term_2(y=y,jx=jx), v=jx, a=a_x, b=b_x-1)            \n",
    "            if logging:\n",
    "                print(\"R_p =\", R_p(y))\n",
    "            dfdx_a_bernoullis += [lambda y, i=i : R_p(y)]\n",
    "\n",
    "    if logging:\n",
    "        print(\"dfdx_a_bernoullis =\", dfdx_a_bernoullis)\n",
    "        print(\"len(dfdx_a_bernoullis) =\", len(dfdx_a_bernoullis))\n",
    "\n",
    "    sum_dfdx_a_bernoullis = lambda y : sum([dfdx_a_bernoullis[i](y) for i in range(len(dfdx_a_bernoullis))])\n",
    "    \n",
    "    if logging:\n",
    "        print(\"sum_dfdx_a_bernoullis =\", sum_dfdx_a_bernoullis)\n",
    "        print(\"sum_dfdx_a_bernoullis(a_y) =\", sum_dfdx_a_bernoullis(y=a_y))\n",
    "    \n",
    "    s = - sum_dfdx_a_bernoullis(a_y)\n",
    "    if Infinity != b_y:\n",
    "        s += sum_dfdx_a_bernoullis(b_y)\n",
    "    return s\n",
    "\n",
    "#R_p_R_p = euler_maclaurin_R_p(euler_maclaurin_R_p(F(x,y), x, a_x, b_x,p), y, a_y, b_y, p)\n",
    "def euler_maclaurin_R_p_euler_maclaurin_R_p(f, x, a_x, b_x, y, a_y, b_y, p):\n",
    "\n",
    "    from sage.calculus.calculus import symbolic_sum\n",
    "    from sage.symbolic.integration.integral import definite_integral\n",
    "    ux,uy = var(\"u_x, u_y\")\n",
    "    jx,jy = var(\"j_x, j_y\")\n",
    "\n",
    "    R_p_R_p = (-1)^(p+1)*symbolic_sum(definite_integral( \\\n",
    "                           (-1)^(p+1)*symbolic_sum(definite_integral(f.diff(x,p).subs(x == ux + jx)  \\\n",
    "                                                          * B(x=ux,p=p)/fact(n=p), \\\n",
    "                             ux,0,1,hold=True), v=jx, a=a_x, b=b_x-1,hold=True)  .diff(y,p).subs(y == uy + jy)  \\\n",
    "                                                          * B(x=uy,p=p)/fact(n=p), \\\n",
    "                             uy,0,1,hold=True), v=jy, a=a_y, b=b_y-1,hold=True)\n",
    "    return R_p_R_p\n",
    "\n",
    "\n",
    "\n",
    "def euler_maclaurin1(f,symb,a,b,p,calc_R_p=False):\n",
    "    if logging:\n",
    "        print(\"f\", f)\n",
    "        print(\"symb,a,b\", symb, a, b)\n",
    "        print(\"\")\n",
    "    #u, j = var(\"u, j\")\n",
    "\n",
    "    int_fn_a_b = integral(f, (symb, a, b))\n",
    "    if logging:\n",
    "        print(\"int_fn_a_b\", int_fn_a_b)\n",
    "    \n",
    "    #s = int_fn_a_b + sum_dfdx_a_bernoullis(b) - sum_dfdx_a_bernoullis(a) + R_p\n",
    "    s = int_fn_a_b + sum_dfdx_bernoulis(f,symb,a,b,p)\n",
    "    \n",
    "    if True == calc_R_p:\n",
    "        s += euler_maclaurin_R_p(f,symb,a,b,p)\n",
    "\n",
    "    return s"
   ]
  },
  {
   "cell_type": "code",
   "execution_count": 3,
   "metadata": {},
   "outputs": [],
   "source": [
    "from IPython.display import display, Math, Latex"
   ]
  },
  {
   "cell_type": "code",
   "execution_count": 4,
   "metadata": {},
   "outputs": [
    {
     "name": "stdout",
     "output_type": "stream",
     "text": [
      "F(x, y)\n"
     ]
    }
   ],
   "source": [
    "a_x = var(\"n_x\")\n",
    "b_x = var(\"b_x\")\n",
    "a_y = var(\"n_y\")\n",
    "b_y = var(\"b_y\")\n",
    "\n",
    "assume(a_x, 'real')\n",
    "assume(b_x, 'real')\n",
    "assume(a_y, 'real')\n",
    "assume(b_y, 'real')\n",
    "\n",
    "assume(a_x, 'integer')\n",
    "assume(b_x, 'integer')\n",
    "assume(a_y, 'integer')\n",
    "assume(b_y, 'integer')\n",
    "\n",
    "assume(a_x > 0)\n",
    "assume(b_x > 0)\n",
    "assume(a_y > 0)\n",
    "assume(b_y > 0)\n",
    "\n",
    "x,y = var(\"x,y\")\n",
    "\n",
    "n = QQ['n'].0\n",
    "j = QQ['j'].0\n",
    "\n",
    "p = 4\n",
    "p = 2\n",
    "\n",
    "F = function(\"F\")(x, y)\n",
    "print(F)"
   ]
  },
  {
   "cell_type": "code",
   "execution_count": 5,
   "metadata": {},
   "outputs": [
    {
     "data": {
      "text/plain": [
       "1/2*F(n_x, y) + integrate(F(x, y), x, n_x, b_x) - 1/12*sum(integrate(6*u^2*D[0, 0](F)(j + u, y) - 6*u*D[0, 0](F)(j + u, y) + D[0, 0](F)(j + u, y), u, 0, 1), j, n_x, b_x - 1) - 1/12*diff(F(n_x, y), n_x)"
      ]
     },
     "execution_count": 5,
     "metadata": {},
     "output_type": "execute_result"
    }
   ],
   "source": [
    "my_euler_maclaurin1(F(x,y),x,a_x,b_x,p, calc_R_p=True)"
   ]
  },
  {
   "cell_type": "code",
   "execution_count": 6,
   "metadata": {},
   "outputs": [],
   "source": [
    "ans = euler_maclaurin1(F(x,y),x,a_x,b_x,p, calc_R_p=True)"
   ]
  },
  {
   "cell_type": "code",
   "execution_count": 7,
   "metadata": {},
   "outputs": [
    {
     "data": {
      "text/latex": [
       "$\\displaystyle \\frac{1}{2} \\, F\\left(n_{x}, y\\right) + \\int_{n_{x}}^{b_{x}} F\\left(x, y\\right)\\,{d x} - \\frac{1}{12} \\, {\\sum_{j_{x}=n_{x}}^{b_{x} - 1} \\int_{0}^{1} 6 \\, u_{x}^{2} \\mathrm{D}_{0, 0}\\left(F\\right)\\left(j_{x} + u_{x}, y\\right) - 6 \\, u_{x} \\mathrm{D}_{0, 0}\\left(F\\right)\\left(j_{x} + u_{x}, y\\right) + \\mathrm{D}_{0, 0}\\left(F\\right)\\left(j_{x} + u_{x}, y\\right)\\,{d u_{x}}} - \\frac{1}{12} \\, \\frac{\\partial}{\\partial n_{x}}F\\left(n_{x}, y\\right)$"
      ],
      "text/plain": [
       "<IPython.core.display.Math object>"
      ]
     },
     "metadata": {},
     "output_type": "display_data"
    }
   ],
   "source": [
    "display(Math(latex(ans)))"
   ]
  },
  {
   "cell_type": "code",
   "execution_count": 8,
   "metadata": {},
   "outputs": [
    {
     "data": {
      "text/plain": [
       "1/2*F(n_x, y) + integrate(F(x, y), x, n_x, b_x) - 1/12*diff(F(n_x, y), n_x)"
      ]
     },
     "execution_count": 8,
     "metadata": {},
     "output_type": "execute_result"
    }
   ],
   "source": [
    "my_euler_maclaurin1(F(x,y),x,a_x,b_x,p)"
   ]
  },
  {
   "cell_type": "code",
   "execution_count": 9,
   "metadata": {},
   "outputs": [
    {
     "data": {
      "text/plain": [
       "1/2*F(n_x, y) + integrate(F(x, y), x, n_x, b_x) - 1/12*diff(F(n_x, y), n_x)"
      ]
     },
     "execution_count": 9,
     "metadata": {},
     "output_type": "execute_result"
    }
   ],
   "source": [
    "euler_maclaurin1(F(x,y),x,a_x,b_x,p)"
   ]
  },
  {
   "cell_type": "code",
   "execution_count": 10,
   "metadata": {},
   "outputs": [
    {
     "data": {
      "text/latex": [
       "$\\displaystyle \\int_{n_{x}}^{b_{x}} F\\left(x, y\\right)\\,{d x}$"
      ],
      "text/plain": [
       "<IPython.core.display.Math object>"
      ]
     },
     "metadata": {},
     "output_type": "display_data"
    },
    {
     "data": {
      "text/latex": [
       "$\\displaystyle \\frac{1}{2} \\, F\\left(n_{x}, y\\right) - \\frac{1}{12} \\, \\frac{\\partial}{\\partial n_{x}}F\\left(n_{x}, y\\right)$"
      ],
      "text/plain": [
       "<IPython.core.display.Math object>"
      ]
     },
     "metadata": {},
     "output_type": "display_data"
    },
    {
     "data": {
      "text/latex": [
       "$\\displaystyle -\\frac{1}{12} \\, {\\sum_{j_{x}=n_{x}}^{b_{x} - 1} \\int_{0}^{1} 6 \\, u_{x}^{2} \\mathrm{D}_{0, 0}\\left(F\\right)\\left(j_{x} + u_{x}, y\\right) - 6 \\, u_{x} \\mathrm{D}_{0, 0}\\left(F\\right)\\left(j_{x} + u_{x}, y\\right) + \\mathrm{D}_{0, 0}\\left(F\\right)\\left(j_{x} + u_{x}, y\\right)\\,{d u_{x}}}$"
      ],
      "text/plain": [
       "<IPython.core.display.Math object>"
      ]
     },
     "metadata": {},
     "output_type": "display_data"
    }
   ],
   "source": [
    "_int = integral           (F(x,y),(x, a_x, b_x))\n",
    "_sum = sum_dfdx_bernoulis (F(x,y), x, a_x, b_x,p)\n",
    "_R_p = euler_maclaurin_R_p(F(x,y), x, a_x, b_x,p)\n",
    "\n",
    "display(Math(latex(_int)))\n",
    "display(Math(latex(_sum)))\n",
    "display(Math(latex(_R_p)))"
   ]
  },
  {
   "cell_type": "markdown",
   "metadata": {},
   "source": [
    "$${\\displaystyle R_{p}=(-1)^{p+1}\\sum_{j=a}^{b-1} \\int _{0}^{1}f^{(p)}(u+j){\\frac {B_{p}(u)}{p!}}\\,du.}$$"
   ]
  },
  {
   "cell_type": "code",
   "execution_count": 11,
   "metadata": {},
   "outputs": [
    {
     "name": "stdout",
     "output_type": "stream",
     "text": [
      "int_int=\n"
     ]
    },
    {
     "data": {
      "text/latex": [
       "$\\displaystyle \\int_{n_{y}}^{b_{y}} \\int_{n_{x}}^{b_{x}} F\\left(x, y\\right)\\,{d x}\\,{d y}$"
      ],
      "text/plain": [
       "<IPython.core.display.Math object>"
      ]
     },
     "metadata": {},
     "output_type": "display_data"
    },
    {
     "name": "stdout",
     "output_type": "stream",
     "text": [
      "int_sum=\n"
     ]
    },
    {
     "data": {
      "text/latex": [
       "$\\displaystyle -\\frac{1}{12} \\, \\int_{n_{y}}^{b_{y}} -6 \\, F\\left(n_{x}, y\\right)\\,{d y} - \\frac{1}{12} \\, \\int_{n_{y}}^{b_{y}} \\frac{\\partial}{\\partial n_{x}}F\\left(n_{x}, y\\right)\\,{d y}$"
      ],
      "text/plain": [
       "<IPython.core.display.Math object>"
      ]
     },
     "metadata": {},
     "output_type": "display_data"
    },
    {
     "name": "stdout",
     "output_type": "stream",
     "text": [
      "int_R_p=\n"
     ]
    },
    {
     "data": {
      "text/latex": [
       "$\\displaystyle -\\frac{1}{12} \\, \\int_{n_{y}}^{b_{y}} {\\sum_{j_{x}=n_{x}}^{b_{x} - 1} \\int_{0}^{1} 6 \\, u_{x}^{2} \\mathrm{D}_{0, 0}\\left(F\\right)\\left(j_{x} + u_{x}, y\\right) - 6 \\, u_{x} \\mathrm{D}_{0, 0}\\left(F\\right)\\left(j_{x} + u_{x}, y\\right) + \\mathrm{D}_{0, 0}\\left(F\\right)\\left(j_{x} + u_{x}, y\\right)\\,{d u_{x}}}\\,{d y}$"
      ],
      "text/plain": [
       "<IPython.core.display.Math object>"
      ]
     },
     "metadata": {},
     "output_type": "display_data"
    }
   ],
   "source": [
    "# sxy2 = my_euler_maclaurin1(my_euler_maclaurin1(f(x,y),x,a_x,b_x,p, calc_R_p=True),y,a_y,b_y,p, calc_R_p=True)\n",
    "# Can't calculate derivative wrt j + u.\n",
    "\n",
    "# integral(f, (symb, a, b)) + sum_dfdx_bernoulis(f,symb,a,b,p) + euler_maclaurin_R_p(f,symb,a,b,p)\n",
    "\n",
    "int_int = integral(integral           (F(x,y),(x, a_x, b_x)),  (y, a_y, b_y)) \n",
    "int_sum = integral(sum_dfdx_bernoulis (F(x,y), x, a_x, b_x,p), (y, a_y, b_y)) \n",
    "int_R_p = integral(euler_maclaurin_R_p(F(x,y), x, a_x, b_x,p), (y, a_y, b_y))\n",
    "\n",
    "print(\"int_int=\")\n",
    "display(Math(latex(int_int)))\n",
    "print(\"int_sum=\")\n",
    "display(Math(latex(int_sum)))\n",
    "print(\"int_R_p=\")\n",
    "display(Math(latex(int_R_p)))"
   ]
  },
  {
   "cell_type": "code",
   "execution_count": 12,
   "metadata": {},
   "outputs": [
    {
     "name": "stderr",
     "output_type": "stream",
     "text": [
      "<ipython-input-2-9ea59e39fb34>:109: DeprecationWarning: Substitution using function-call syntax and unnamed arguments is deprecated and will be removed from a future release of Sage; you can use named arguments instead, like EXPR(x=..., y=...)\n",
      "See http://trac.sagemath.org/5930 for details.\n",
      "  R_p = lambda y : (-Integer(1))**(p+Integer(1))*symbolic_sum(expression=term_2(y=y,jx=jx), v=jx, a=a_x, b=b_x-Integer(1))\n"
     ]
    },
    {
     "name": "stdout",
     "output_type": "stream",
     "text": [
      "sum_int=\n"
     ]
    },
    {
     "data": {
      "text/latex": [
       "$\\displaystyle \\frac{1}{2} \\, \\int_{n_{x}}^{b_{x}} F\\left(x, n_{y}\\right)\\,{d x} - \\frac{1}{12} \\, \\int_{n_{x}}^{b_{x}} \\frac{\\partial}{\\partial n_{y}}F\\left(x, n_{y}\\right)\\,{d x}$"
      ],
      "text/plain": [
       "<IPython.core.display.Math object>"
      ]
     },
     "metadata": {},
     "output_type": "display_data"
    },
    {
     "name": "stdout",
     "output_type": "stream",
     "text": [
      "sum_sum=\n"
     ]
    },
    {
     "data": {
      "text/latex": [
       "$\\displaystyle \\frac{1}{4} \\, F\\left(n_{x}, n_{y}\\right) - \\frac{1}{24} \\, \\frac{\\partial}{\\partial n_{x}}F\\left(n_{x}, n_{y}\\right) + \\frac{1}{144} \\, \\frac{\\partial^{2}}{\\partial n_{x}\\partial n_{y}}F\\left(n_{x}, n_{y}\\right) - \\frac{1}{24} \\, \\frac{\\partial}{\\partial n_{y}}F\\left(n_{x}, n_{y}\\right)$"
      ],
      "text/plain": [
       "<IPython.core.display.Math object>"
      ]
     },
     "metadata": {},
     "output_type": "display_data"
    },
    {
     "name": "stdout",
     "output_type": "stream",
     "text": [
      "sum_R_p=\n"
     ]
    },
    {
     "data": {
      "text/latex": [
       "$\\displaystyle \\frac{1}{6} \\, {\\sum_{j_{x}=n_{x}}^{b_{x} - 1} \\int_{0}^{1} 6 \\, u_{x}^{2} \\mathrm{D}_{0, 0, 1}\\left(F\\right)\\left(j_{x} + u_{x}, n_{y}\\right) - 6 \\, u_{x} \\mathrm{D}_{0, 0, 1}\\left(F\\right)\\left(j_{x} + u_{x}, n_{y}\\right) + \\mathrm{D}_{0, 0, 1}\\left(F\\right)\\left(j_{x} + u_{x}, n_{y}\\right)\\,{d u_{x}}}$"
      ],
      "text/plain": [
       "<IPython.core.display.Math object>"
      ]
     },
     "metadata": {},
     "output_type": "display_data"
    }
   ],
   "source": [
    "# sxy2 = my_euler_maclaurin1(my_euler_maclaurin1(f(x,y),x,a_x,b_x,p, calc_R_p=True),y,a_y,b_y,p, calc_R_p=True)\n",
    "# Can't calculate derivative wrt j + u.\n",
    "\n",
    "# integral(f, (symb, a, b)) + sum_dfdx_bernoulis(f,symb,a,b,p) + euler_maclaurin_R_p(f,symb,a,b,p)\n",
    "\n",
    "sum_int = sum_dfdx_bernoulis(integral           (F(x,y),(x, a_x, b_x)),  y, a_y, b_y, p)\n",
    "sum_sum = sum_dfdx_bernoulis(sum_dfdx_bernoulis (F(x,y), x, a_x, b_x,p), y, a_y, b_y, p)\n",
    "#sum_R_p = sum_dfdx_bernoulis(euler_maclaurin_R_p(F(x,y), x, a_x, b_x,p), y, a_y, b_y, p)\n",
    "sum_R_p = sum_dfdx_bernoulis_euler_maclaurin_R_p(F(x,y), x, a_x, b_x,    y, a_y, b_y, p)\n",
    "\n",
    "print(\"sum_int=\")\n",
    "display(Math(latex(sum_int)))\n",
    "print(\"sum_sum=\")\n",
    "display(Math(latex(sum_sum)))\n",
    "print(\"sum_R_p=\")\n",
    "display(Math(latex(sum_R_p)))"
   ]
  },
  {
   "cell_type": "code",
   "execution_count": 13,
   "metadata": {},
   "outputs": [
    {
     "name": "stdout",
     "output_type": "stream",
     "text": [
      "R_p_int=\n"
     ]
    },
    {
     "data": {
      "text/latex": [
       "$\\displaystyle -\\frac{1}{12} \\, {\\sum_{j_{y}=n_{y}}^{b_{y} - 1} \\int_{0}^{1} 6 \\, u_{y}^{2} \\int_{n_{x}}^{b_{x}} \\mathrm{D}_{1, 1}\\left(F\\right)\\left(x, j_{y} + u_{y}\\right)\\,{d x} - 6 \\, u_{y} \\int_{n_{x}}^{b_{x}} \\mathrm{D}_{1, 1}\\left(F\\right)\\left(x, j_{y} + u_{y}\\right)\\,{d x} + \\int_{n_{x}}^{b_{x}} \\mathrm{D}_{1, 1}\\left(F\\right)\\left(x, j_{y} + u_{y}\\right)\\,{d x}\\,{d u_{y}}}$"
      ],
      "text/plain": [
       "<IPython.core.display.Math object>"
      ]
     },
     "metadata": {},
     "output_type": "display_data"
    },
    {
     "name": "stdout",
     "output_type": "stream",
     "text": [
      "R_p_sum=\n"
     ]
    },
    {
     "data": {
      "text/latex": [
       "$\\displaystyle \\frac{1}{144} \\, {\\sum_{j_{y}=n_{y}}^{b_{y} - 1} \\int_{0}^{1} 6 \\, u_{y}^{2} {\\left(\\mathrm{D}_{0, 1, 1}\\left(F\\right)\\left(n_{x}, j_{y} + u_{y}\\right) - 6 \\, \\mathrm{D}_{1, 1}\\left(F\\right)\\left(n_{x}, j_{y} + u_{y}\\right)\\right)} - 6 \\, u_{y} {\\left(\\mathrm{D}_{0, 1, 1}\\left(F\\right)\\left(n_{x}, j_{y} + u_{y}\\right) - 6 \\, \\mathrm{D}_{1, 1}\\left(F\\right)\\left(n_{x}, j_{y} + u_{y}\\right)\\right)} + \\mathrm{D}_{0, 1, 1}\\left(F\\right)\\left(n_{x}, j_{y} + u_{y}\\right) - 6 \\, \\mathrm{D}_{1, 1}\\left(F\\right)\\left(n_{x}, j_{y} + u_{y}\\right)\\,{d u_{y}}}$"
      ],
      "text/plain": [
       "<IPython.core.display.Math object>"
      ]
     },
     "metadata": {},
     "output_type": "display_data"
    },
    {
     "name": "stdout",
     "output_type": "stream",
     "text": [
      "R_p_R_p=\n"
     ]
    },
    {
     "data": {
      "text/latex": [
       "$\\displaystyle -{\\sum_{j_{y}=n_{y}}^{b_{y} - 1} \\int_{0}^{1} -\\frac{1}{1728} \\, {\\left(\\int_{0}^{1} {\\left(6 \\, u_{x}^{2} - 6 \\, u_{x} + 1\\right)} \\mathrm{D}_{0, 0, 1}\\left(F\\right)\\left(j_{x} + u_{x}, j_{y} + u_{y}\\right)\\,{d u_{x}}^{2} \\mathrm{D}_{0, 0}{\\sum_{j_{x}=n_{x}}^{b_{x} - 1} \\frac{1}{12} \\, \\int_{0}^{1} {\\left(6 \\, u_{x}^{2} - 6 \\, u_{x} + 1\\right)} \\mathrm{D}_{0, 0}\\left(F\\right)\\left(j_{x} + u_{x}, j_{y} + u_{y}\\right)\\,{d u_{x}}} + 12 \\, \\int_{0}^{1} {\\left(6 \\, u_{x}^{2} - 6 \\, u_{x} + 1\\right)} \\mathrm{D}_{0, 0, 1, 1}\\left(F\\right)\\left(j_{x} + u_{x}, j_{y} + u_{y}\\right)\\,{d u_{x}} \\mathrm{D}_{0}{\\sum_{j_{x}=n_{x}}^{b_{x} - 1} \\frac{1}{12} \\, \\int_{0}^{1} {\\left(6 \\, u_{x}^{2} - 6 \\, u_{x} + 1\\right)} \\mathrm{D}_{0, 0}\\left(F\\right)\\left(j_{x} + u_{x}, j_{y} + u_{y}\\right)\\,{d u_{x}}}\\right)} {\\left(6 \\, u_{y}^{2} - 6 \\, u_{y} + 1\\right)}\\,{d u_{y}}}$"
      ],
      "text/plain": [
       "<IPython.core.display.Math object>"
      ]
     },
     "metadata": {},
     "output_type": "display_data"
    }
   ],
   "source": [
    "# sxy2 = my_euler_maclaurin1(my_euler_maclaurin1(f(x,y),x,a_x,b_x,p, calc_R_p=True),y,a_y,b_y,p, calc_R_p=True)\n",
    "# Can't calculate derivative wrt j + u.\n",
    "\n",
    "# integral(f, (symb, a, b)) + sum_dfdx_bernoulis(f,symb,a,b,p) + euler_maclaurin_R_p(f,symb,a,b,p)\n",
    "\n",
    "R_p_int = euler_maclaurin_R_p(integral           (F(x,y),(x, a_x, b_x)),  y, a_y, b_y, p)\n",
    "R_p_sum = euler_maclaurin_R_p(sum_dfdx_bernoulis (F(x,y), x, a_x, b_x,p), y, a_y, b_y, p)\n",
    "#R_p_R_p = euler_maclaurin_R_p(euler_maclaurin_R_p(F(x,y), x, a_x, b_x,p), y, a_y, b_y, p)\n",
    "R_p_R_p = euler_maclaurin_R_p_euler_maclaurin_R_p(F(x,y), x, a_x, b_x,    y, a_y, b_y, p)\n",
    "\n",
    "print(\"R_p_int=\")\n",
    "display(Math(latex(R_p_int)))\n",
    "print(\"R_p_sum=\")\n",
    "display(Math(latex(R_p_sum)))\n",
    "print(\"R_p_R_p=\")\n",
    "display(Math(latex(R_p_R_p)))"
   ]
  },
  {
   "cell_type": "code",
   "execution_count": 14,
   "metadata": {},
   "outputs": [],
   "source": [
    "sxy_symb = euler_maclaurin1(euler_maclaurin1(F(x,y),x,a_x,b_x,p),y,a_y,b_y,p)"
   ]
  },
  {
   "cell_type": "code",
   "execution_count": 15,
   "metadata": {},
   "outputs": [
    {
     "data": {
      "text/plain": [
       "1/4*F(n_x, n_y) - 1/12*integrate(-6*F(n_x, y), y, n_y, b_y) - 1/12*integrate(-12*integrate(F(x, y), x, n_x, b_x), y, n_y, b_y) + 1/2*integrate(F(x, n_y), x, n_x, b_x) - 1/12*integrate(diff(F(n_x, y), n_x), y, n_y, b_y) - 1/12*integrate(diff(F(x, n_y), n_y), x, n_x, b_x) - 1/24*diff(F(n_x, n_y), n_x) + 1/144*diff(F(n_x, n_y), n_x, n_y) - 1/24*diff(F(n_x, n_y), n_y)"
      ]
     },
     "execution_count": 15,
     "metadata": {},
     "output_type": "execute_result"
    }
   ],
   "source": [
    "sxy_symb"
   ]
  },
  {
   "cell_type": "code",
   "execution_count": 16,
   "metadata": {},
   "outputs": [
    {
     "data": {
      "text/plain": [
       "\\frac{1}{4} \\, F\\left(n_{x}, n_{y}\\right) - \\frac{1}{12} \\, \\int_{n_{y}}^{b_{y}} -6 \\, F\\left(n_{x}, y\\right)\\,{d y} - \\frac{1}{12} \\, \\int_{n_{y}}^{b_{y}} -12 \\, \\int_{n_{x}}^{b_{x}} F\\left(x, y\\right)\\,{d x}\\,{d y} + \\frac{1}{2} \\, \\int_{n_{x}}^{b_{x}} F\\left(x, n_{y}\\right)\\,{d x} - \\frac{1}{12} \\, \\int_{n_{y}}^{b_{y}} \\frac{\\partial}{\\partial n_{x}}F\\left(n_{x}, y\\right)\\,{d y} - \\frac{1}{12} \\, \\int_{n_{x}}^{b_{x}} \\frac{\\partial}{\\partial n_{y}}F\\left(x, n_{y}\\right)\\,{d x} - \\frac{1}{24} \\, \\frac{\\partial}{\\partial n_{x}}F\\left(n_{x}, n_{y}\\right) + \\frac{1}{144} \\, \\frac{\\partial^{2}}{\\partial n_{x}\\partial n_{y}}F\\left(n_{x}, n_{y}\\right) - \\frac{1}{24} \\, \\frac{\\partial}{\\partial n_{y}}F\\left(n_{x}, n_{y}\\right)"
      ]
     },
     "execution_count": 16,
     "metadata": {},
     "output_type": "execute_result"
    }
   ],
   "source": [
    "latex(sxy_symb)"
   ]
  },
  {
   "cell_type": "code",
   "execution_count": 17,
   "metadata": {},
   "outputs": [
    {
     "data": {
      "text/latex": [
       "$\\displaystyle \\frac{1}{4} \\, F\\left(n_{x}, n_{y}\\right) - \\frac{1}{12} \\, \\int_{n_{y}}^{b_{y}} -6 \\, F\\left(n_{x}, y\\right)\\,{d y} - \\frac{1}{12} \\, \\int_{n_{y}}^{b_{y}} -12 \\, \\int_{n_{x}}^{b_{x}} F\\left(x, y\\right)\\,{d x}\\,{d y} + \\frac{1}{2} \\, \\int_{n_{x}}^{b_{x}} F\\left(x, n_{y}\\right)\\,{d x} - \\frac{1}{12} \\, \\int_{n_{y}}^{b_{y}} \\frac{\\partial}{\\partial n_{x}}F\\left(n_{x}, y\\right)\\,{d y} - \\frac{1}{12} \\, \\int_{n_{x}}^{b_{x}} \\frac{\\partial}{\\partial n_{y}}F\\left(x, n_{y}\\right)\\,{d x} - \\frac{1}{24} \\, \\frac{\\partial}{\\partial n_{x}}F\\left(n_{x}, n_{y}\\right) + \\frac{1}{144} \\, \\frac{\\partial^{2}}{\\partial n_{x}\\partial n_{y}}F\\left(n_{x}, n_{y}\\right) - \\frac{1}{24} \\, \\frac{\\partial}{\\partial n_{y}}F\\left(n_{x}, n_{y}\\right)$"
      ],
      "text/plain": [
       "<IPython.core.display.Math object>"
      ]
     },
     "metadata": {},
     "output_type": "display_data"
    }
   ],
   "source": [
    "display(Math(latex(sxy_symb)))"
   ]
  },
  {
   "cell_type": "code",
   "execution_count": 18,
   "metadata": {},
   "outputs": [],
   "source": [
    "f(x,y)=1/(x^2)\n",
    "assume(y>0)\n",
    "assume(x>0)\n",
    "a_x = 1\n",
    "b_x = Infinity\n",
    "\n",
    "a_y = 1\n",
    "b_y = Infinity\n",
    "\n",
    "p = 4"
   ]
  },
  {
   "cell_type": "code",
   "execution_count": 19,
   "metadata": {},
   "outputs": [
    {
     "data": {
      "text/plain": [
       "(x, y) |--> 1/6*pi^2"
      ]
     },
     "execution_count": 19,
     "metadata": {},
     "output_type": "execute_result"
    }
   ],
   "source": [
    "my_euler_maclaurin1(f, x, a_x, b_x, p, calc_R_p=True)"
   ]
  },
  {
   "cell_type": "code",
   "execution_count": 20,
   "metadata": {},
   "outputs": [
    {
     "data": {
      "text/plain": [
       "(x, y) |--> 1/6*pi^2"
      ]
     },
     "execution_count": 20,
     "metadata": {},
     "output_type": "execute_result"
    }
   ],
   "source": [
    "euler_maclaurin1(f, x, a_x, b_x, p, calc_R_p=True)"
   ]
  },
  {
   "cell_type": "code",
   "execution_count": 21,
   "metadata": {},
   "outputs": [
    {
     "data": {
      "text/plain": [
       "(x, y) |--> 49/30"
      ]
     },
     "execution_count": 21,
     "metadata": {},
     "output_type": "execute_result"
    }
   ],
   "source": [
    "my_euler_maclaurin1(f,x,a_x,b_x,p)"
   ]
  },
  {
   "cell_type": "code",
   "execution_count": 22,
   "metadata": {},
   "outputs": [
    {
     "data": {
      "text/plain": [
       "(x, y) |--> 49/30"
      ]
     },
     "execution_count": 22,
     "metadata": {},
     "output_type": "execute_result"
    }
   ],
   "source": [
    "euler_maclaurin1(f,x,a_x,b_x,p)"
   ]
  },
  {
   "cell_type": "code",
   "execution_count": 23,
   "metadata": {},
   "outputs": [],
   "source": [
    "f(x,y)=1/(x^2+y^2)\n",
    "assume(y>0)\n",
    "assume(x>0)"
   ]
  },
  {
   "cell_type": "code",
   "execution_count": 24,
   "metadata": {},
   "outputs": [
    {
     "data": {
      "text/plain": [
       "(x, y) |--> 1/2*pi/y - arctan(1/y)/y + 1/2/(y^2 + 1) + 1/6/(y^2 + 1)^2 + 1/30/(y^2 + 1)^3 - 1/15/(y^2 + 1)^4"
      ]
     },
     "execution_count": 24,
     "metadata": {},
     "output_type": "execute_result"
    }
   ],
   "source": [
    "euler_maclaurin1(f,x,a_x,b_x,p)"
   ]
  },
  {
   "cell_type": "code",
   "execution_count": 25,
   "metadata": {},
   "outputs": [
    {
     "data": {
      "text/plain": [
       "(x, y) |--> 1/2*pi/x - arctan(1/x)/x + 1/2/(x^2 + 1) + 1/6/(x^2 + 1)^2 + 1/30/(x^2 + 1)^3 - 1/15/(x^2 + 1)^4"
      ]
     },
     "execution_count": 25,
     "metadata": {},
     "output_type": "execute_result"
    }
   ],
   "source": [
    "euler_maclaurin1(f,y,a_y,b_y,p)"
   ]
  },
  {
   "cell_type": "code",
   "execution_count": 26,
   "metadata": {},
   "outputs": [
    {
     "data": {
      "text/plain": [
       "(x, y) |--> 1/2*pi/y - arctan(1/y)/y + 1/2/(y^2 + 1) + 1/6/(y^2 + 1)^2 + 1/30/(y^2 + 1)^3 - 1/15/(y^2 + 1)^4 - sum(1/30*(30*y^16*(arctan((j + 1)/y) - arctan(j/y)) + 120*((2*j^2 + 2*j + 1)*arctan((j + 1)/y) - (2*j^2 + 2*j + 1)*arctan(j/y))*y^14 - 30*y^15 - 10*(21*j^2 + 21*j + 11)*y^13 + 60*((14*j^4 + 28*j^3 + 26*j^2 + 12*j + 3)*arctan((j + 1)/y) - (14*j^4 + 28*j^3 + 26*j^2 + 12*j + 3)*arctan(j/y))*y^12 - 2*(315*j^4 + 630*j^3 + 590*j^2 + 275*j + 73)*y^11 + 120*((14*j^6 + 42*j^5 + 57*j^4 + 44*j^3 + 21*j^2 + 6*j + 1)*arctan((j + 1)/y) - (14*j^6 + 42*j^5 + 57*j^4 + 44*j^3 + 21*j^2 + 6*j + 1)*arctan(j/y))*y^10 - (1050*j^6 + 3150*j^5 + 4250*j^4 + 3250*j^3 + 1538*j^2 + 438*j + 79)*y^9 + 30*((70*j^8 + 280*j^7 + 500*j^6 + 520*j^5 + 346*j^4 + 152*j^3 + 44*j^2 + 8*j + 1)*arctan((j + 1)/y) - (70*j^8 + 280*j^7 + 500*j^6 + 520*j^5 + 346*j^4 + 152*j^3 + 44*j^2 + 8*j + 1)*arctan(j/y))*y^8 - (1050*j^8 + 4200*j^7 + 7400*j^6 + 7500*j^5 + 4788*j^4 + 1976*j^3 + 532*j^2 + 94*j + 15)*y^7 + 120*((14*j^10 + 70*j^9 + 155*j^8 + 200*j^7 + 166*j^6 + 92*j^5 + 34*j^4 + 8*j^3 + j^2)*arctan((j + 1)/y) - (14*j^10 + 70*j^9 + 155*j^8 + 200*j^7 + 166*j^6 + 92*j^5 + 34*j^4 + 8*j^3 + j^2)*arctan(j/y))*y^6 - (630*j^10 + 3150*j^9 + 6850*j^8 + 8500*j^7 + 6596*j^6 + 3268*j^5 + 978*j^4 + 126*j^3 - 19*j^2 - 9*j)*y^5 + 60*((14*j^12 + 84*j^11 + 222*j^10 + 340*j^9 + 333*j^8 + 216*j^7 + 92*j^6 + 24*j^5 + 3*j^4)*arctan((j + 1)/y) - (14*j^12 + 84*j^11 + 222*j^10 + 340*j^9 + 333*j^8 + 216*j^7 + 92*j^6 + 24*j^5 + 3*j^4)*arctan(j/y))*y^4 - (210*j^12 + 1260*j^11 + 3260*j^10 + 4750*j^9 + 4250*j^8 + 2360*j^7 + 740*j^6 + 50*j^5 - 67*j^4 - 34*j^3 - 8*j^2 - j)*y^3 + 120*((2*j^14 + 14*j^13 + 43*j^12 + 76*j^11 + 85*j^10 + 62*j^9 + 29*j^8 + 8*j^7 + j^6)*arctan((j + 1)/y) - (2*j^14 + 14*j^13 + 43*j^12 + 76*j^11 + 85*j^10 + 62*j^9 + 29*j^8 + 8*j^7 + j^6)*arctan(j/y))*y^2 - (30*j^14 + 210*j^13 + 630*j^12 + 1050*j^11 + 1050*j^10 + 630*j^9 + 215*j^8 + 50*j^7 + 31*j^6 + 23*j^5 + 8*j^4 + j^3)*y + 30*(j^16 + 8*j^15 + 28*j^14 + 56*j^13 + 70*j^12 + 56*j^11 + 28*j^10 + 8*j^9 + j^8)*arctan((j + 1)/y) - 30*(j^16 + 8*j^15 + 28*j^14 + 56*j^13 + 70*j^12 + 56*j^11 + 28*j^10 + 8*j^9 + j^8)*arctan(j/y))/(y^17 + 4*(2*j^2 + 2*j + 1)*y^15 + 2*(14*j^4 + 28*j^3 + 26*j^2 + 12*j + 3)*y^13 + 4*(14*j^6 + 42*j^5 + 57*j^4 + 44*j^3 + 21*j^2 + 6*j + 1)*y^11 + (70*j^8 + 280*j^7 + 500*j^6 + 520*j^5 + 346*j^4 + 152*j^3 + 44*j^2 + 8*j + 1)*y^9 + 4*(14*j^10 + 70*j^9 + 155*j^8 + 200*j^7 + 166*j^6 + 92*j^5 + 34*j^4 + 8*j^3 + j^2)*y^7 + 2*(14*j^12 + 84*j^11 + 222*j^10 + 340*j^9 + 333*j^8 + 216*j^7 + 92*j^6 + 24*j^5 + 3*j^4)*y^5 + 4*(2*j^14 + 14*j^13 + 43*j^12 + 76*j^11 + 85*j^10 + 62*j^9 + 29*j^8 + 8*j^7 + j^6)*y^3 + (j^16 + 8*j^15 + 28*j^14 + 56*j^13 + 70*j^12 + 56*j^11 + 28*j^10 + 8*j^9 + j^8)*y), j, 1, +Infinity)"
      ]
     },
     "execution_count": 26,
     "metadata": {},
     "output_type": "execute_result"
    }
   ],
   "source": [
    "my_euler_maclaurin1(f,x,a_x,b_x,p, calc_R_p=True)"
   ]
  },
  {
   "cell_type": "code",
   "execution_count": 27,
   "metadata": {},
   "outputs": [
    {
     "data": {
      "text/plain": [
       "(x, y) |--> 1/2*pi/x - arctan(1/x)/x + 1/2/(x^2 + 1) + 1/6/(x^2 + 1)^2 + 1/30/(x^2 + 1)^3 - 1/15/(x^2 + 1)^4 - sum(1/30*(30*x^16*(arctan((j + 1)/x) - arctan(j/x)) + 120*((2*j^2 + 2*j + 1)*arctan((j + 1)/x) - (2*j^2 + 2*j + 1)*arctan(j/x))*x^14 - 30*x^15 - 10*(21*j^2 + 21*j + 11)*x^13 + 60*((14*j^4 + 28*j^3 + 26*j^2 + 12*j + 3)*arctan((j + 1)/x) - (14*j^4 + 28*j^3 + 26*j^2 + 12*j + 3)*arctan(j/x))*x^12 - 2*(315*j^4 + 630*j^3 + 590*j^2 + 275*j + 73)*x^11 + 120*((14*j^6 + 42*j^5 + 57*j^4 + 44*j^3 + 21*j^2 + 6*j + 1)*arctan((j + 1)/x) - (14*j^6 + 42*j^5 + 57*j^4 + 44*j^3 + 21*j^2 + 6*j + 1)*arctan(j/x))*x^10 - (1050*j^6 + 3150*j^5 + 4250*j^4 + 3250*j^3 + 1538*j^2 + 438*j + 79)*x^9 + 30*((70*j^8 + 280*j^7 + 500*j^6 + 520*j^5 + 346*j^4 + 152*j^3 + 44*j^2 + 8*j + 1)*arctan((j + 1)/x) - (70*j^8 + 280*j^7 + 500*j^6 + 520*j^5 + 346*j^4 + 152*j^3 + 44*j^2 + 8*j + 1)*arctan(j/x))*x^8 - (1050*j^8 + 4200*j^7 + 7400*j^6 + 7500*j^5 + 4788*j^4 + 1976*j^3 + 532*j^2 + 94*j + 15)*x^7 + 120*((14*j^10 + 70*j^9 + 155*j^8 + 200*j^7 + 166*j^6 + 92*j^5 + 34*j^4 + 8*j^3 + j^2)*arctan((j + 1)/x) - (14*j^10 + 70*j^9 + 155*j^8 + 200*j^7 + 166*j^6 + 92*j^5 + 34*j^4 + 8*j^3 + j^2)*arctan(j/x))*x^6 - (630*j^10 + 3150*j^9 + 6850*j^8 + 8500*j^7 + 6596*j^6 + 3268*j^5 + 978*j^4 + 126*j^3 - 19*j^2 - 9*j)*x^5 + 60*((14*j^12 + 84*j^11 + 222*j^10 + 340*j^9 + 333*j^8 + 216*j^7 + 92*j^6 + 24*j^5 + 3*j^4)*arctan((j + 1)/x) - (14*j^12 + 84*j^11 + 222*j^10 + 340*j^9 + 333*j^8 + 216*j^7 + 92*j^6 + 24*j^5 + 3*j^4)*arctan(j/x))*x^4 - (210*j^12 + 1260*j^11 + 3260*j^10 + 4750*j^9 + 4250*j^8 + 2360*j^7 + 740*j^6 + 50*j^5 - 67*j^4 - 34*j^3 - 8*j^2 - j)*x^3 + 120*((2*j^14 + 14*j^13 + 43*j^12 + 76*j^11 + 85*j^10 + 62*j^9 + 29*j^8 + 8*j^7 + j^6)*arctan((j + 1)/x) - (2*j^14 + 14*j^13 + 43*j^12 + 76*j^11 + 85*j^10 + 62*j^9 + 29*j^8 + 8*j^7 + j^6)*arctan(j/x))*x^2 - (30*j^14 + 210*j^13 + 630*j^12 + 1050*j^11 + 1050*j^10 + 630*j^9 + 215*j^8 + 50*j^7 + 31*j^6 + 23*j^5 + 8*j^4 + j^3)*x + 30*(j^16 + 8*j^15 + 28*j^14 + 56*j^13 + 70*j^12 + 56*j^11 + 28*j^10 + 8*j^9 + j^8)*arctan((j + 1)/x) - 30*(j^16 + 8*j^15 + 28*j^14 + 56*j^13 + 70*j^12 + 56*j^11 + 28*j^10 + 8*j^9 + j^8)*arctan(j/x))/(x^17 + 4*(2*j^2 + 2*j + 1)*x^15 + 2*(14*j^4 + 28*j^3 + 26*j^2 + 12*j + 3)*x^13 + 4*(14*j^6 + 42*j^5 + 57*j^4 + 44*j^3 + 21*j^2 + 6*j + 1)*x^11 + (70*j^8 + 280*j^7 + 500*j^6 + 520*j^5 + 346*j^4 + 152*j^3 + 44*j^2 + 8*j + 1)*x^9 + 4*(14*j^10 + 70*j^9 + 155*j^8 + 200*j^7 + 166*j^6 + 92*j^5 + 34*j^4 + 8*j^3 + j^2)*x^7 + 2*(14*j^12 + 84*j^11 + 222*j^10 + 340*j^9 + 333*j^8 + 216*j^7 + 92*j^6 + 24*j^5 + 3*j^4)*x^5 + 4*(2*j^14 + 14*j^13 + 43*j^12 + 76*j^11 + 85*j^10 + 62*j^9 + 29*j^8 + 8*j^7 + j^6)*x^3 + (j^16 + 8*j^15 + 28*j^14 + 56*j^13 + 70*j^12 + 56*j^11 + 28*j^10 + 8*j^9 + j^8)*x), j, 1, +Infinity)"
      ]
     },
     "execution_count": 27,
     "metadata": {},
     "output_type": "execute_result"
    }
   ],
   "source": [
    "my_euler_maclaurin1(f,y,a_y,b_y,p, calc_R_p=True)"
   ]
  },
  {
   "cell_type": "code",
   "execution_count": 28,
   "metadata": {},
   "outputs": [],
   "source": [
    "my_sxy1 = my_euler_maclaurin1(my_euler_maclaurin1(f,x,a_x,b_x,p),y,a_y,b_y,p)"
   ]
  },
  {
   "cell_type": "code",
   "execution_count": 29,
   "metadata": {},
   "outputs": [],
   "source": [
    "sxy1 = euler_maclaurin1(euler_maclaurin1(f,x,a_x,b_x,p),y,a_y,b_y,p)"
   ]
  },
  {
   "cell_type": "code",
   "execution_count": 30,
   "metadata": {},
   "outputs": [
    {
     "data": {
      "text/latex": [
       "$\\displaystyle \\left( x, y \\right) \\ {\\mapsto} \\ \\frac{23}{160} \\, \\pi - \\frac{1}{30} \\, \\int_{1}^{+\\infty} -\\frac{15 \\, \\pi y^{8}}{y^{9} + 4 \\, y^{7} + 6 \\, y^{5} + 4 \\, y^{3} + y}\\,{d y} - \\frac{1}{30} \\, \\int_{1}^{+\\infty} \\frac{30 \\, y^{8} \\arctan\\left(\\frac{1}{y}\\right)}{y^{9} + 4 \\, y^{7} + 6 \\, y^{5} + 4 \\, y^{3} + y}\\,{d y} - \\frac{1}{30} \\, \\int_{1}^{+\\infty} -\\frac{60 \\, \\pi y^{6}}{y^{9} + 4 \\, y^{7} + 6 \\, y^{5} + 4 \\, y^{3} + y}\\,{d y} - \\frac{1}{30} \\, \\int_{1}^{+\\infty} -\\frac{15 \\, y^{7}}{y^{9} + 4 \\, y^{7} + 6 \\, y^{5} + 4 \\, y^{3} + y}\\,{d y} - \\frac{1}{30} \\, \\int_{1}^{+\\infty} \\frac{120 \\, y^{6} \\arctan\\left(\\frac{1}{y}\\right)}{y^{9} + 4 \\, y^{7} + 6 \\, y^{5} + 4 \\, y^{3} + y}\\,{d y} - \\frac{1}{30} \\, \\int_{1}^{+\\infty} -\\frac{90 \\, \\pi y^{4}}{y^{9} + 4 \\, y^{7} + 6 \\, y^{5} + 4 \\, y^{3} + y}\\,{d y} - \\frac{1}{30} \\, \\int_{1}^{+\\infty} -\\frac{50 \\, y^{5}}{y^{9} + 4 \\, y^{7} + 6 \\, y^{5} + 4 \\, y^{3} + y}\\,{d y} - \\frac{1}{30} \\, \\int_{1}^{+\\infty} \\frac{180 \\, y^{4} \\arctan\\left(\\frac{1}{y}\\right)}{y^{9} + 4 \\, y^{7} + 6 \\, y^{5} + 4 \\, y^{3} + y}\\,{d y} - \\frac{1}{30} \\, \\int_{1}^{+\\infty} -\\frac{60 \\, \\pi y^{2}}{y^{9} + 4 \\, y^{7} + 6 \\, y^{5} + 4 \\, y^{3} + y}\\,{d y} - \\frac{1}{30} \\, \\int_{1}^{+\\infty} -\\frac{56 \\, y^{3}}{y^{9} + 4 \\, y^{7} + 6 \\, y^{5} + 4 \\, y^{3} + y}\\,{d y} - \\frac{1}{30} \\, \\int_{1}^{+\\infty} \\frac{120 \\, y^{2} \\arctan\\left(\\frac{1}{y}\\right)}{y^{9} + 4 \\, y^{7} + 6 \\, y^{5} + 4 \\, y^{3} + y}\\,{d y} - \\frac{1}{30} \\, \\int_{1}^{+\\infty} -\\frac{15 \\, \\pi}{y^{9} + 4 \\, y^{7} + 6 \\, y^{5} + 4 \\, y^{3} + y}\\,{d y} - \\frac{1}{30} \\, \\int_{1}^{+\\infty} -\\frac{19 \\, y}{y^{9} + 4 \\, y^{7} + 6 \\, y^{5} + 4 \\, y^{3} + y}\\,{d y} - \\frac{1}{30} \\, \\int_{1}^{+\\infty} \\frac{30 \\, \\arctan\\left(\\frac{1}{y}\\right)}{y^{9} + 4 \\, y^{7} + 6 \\, y^{5} + 4 \\, y^{3} + y}\\,{d y} + \\frac{1993}{14400}$"
      ],
      "text/plain": [
       "<IPython.core.display.Math object>"
      ]
     },
     "metadata": {},
     "output_type": "display_data"
    }
   ],
   "source": [
    "display(Math(latex(my_sxy1)))"
   ]
  },
  {
   "cell_type": "code",
   "execution_count": 31,
   "metadata": {},
   "outputs": [
    {
     "data": {
      "text/latex": [
       "$\\displaystyle \\left( x, y \\right) \\ {\\mapsto} \\ \\frac{23}{160} \\, \\pi - \\frac{1}{30} \\, \\int_{1}^{+\\infty} -\\frac{15 \\, \\pi y^{8}}{y^{9} + 4 \\, y^{7} + 6 \\, y^{5} + 4 \\, y^{3} + y}\\,{d y} - \\frac{1}{30} \\, \\int_{1}^{+\\infty} \\frac{30 \\, y^{8} \\arctan\\left(\\frac{1}{y}\\right)}{y^{9} + 4 \\, y^{7} + 6 \\, y^{5} + 4 \\, y^{3} + y}\\,{d y} - \\frac{1}{30} \\, \\int_{1}^{+\\infty} -\\frac{60 \\, \\pi y^{6}}{y^{9} + 4 \\, y^{7} + 6 \\, y^{5} + 4 \\, y^{3} + y}\\,{d y} - \\frac{1}{30} \\, \\int_{1}^{+\\infty} -\\frac{15 \\, y^{7}}{y^{9} + 4 \\, y^{7} + 6 \\, y^{5} + 4 \\, y^{3} + y}\\,{d y} - \\frac{1}{30} \\, \\int_{1}^{+\\infty} \\frac{120 \\, y^{6} \\arctan\\left(\\frac{1}{y}\\right)}{y^{9} + 4 \\, y^{7} + 6 \\, y^{5} + 4 \\, y^{3} + y}\\,{d y} - \\frac{1}{30} \\, \\int_{1}^{+\\infty} -\\frac{90 \\, \\pi y^{4}}{y^{9} + 4 \\, y^{7} + 6 \\, y^{5} + 4 \\, y^{3} + y}\\,{d y} - \\frac{1}{30} \\, \\int_{1}^{+\\infty} -\\frac{50 \\, y^{5}}{y^{9} + 4 \\, y^{7} + 6 \\, y^{5} + 4 \\, y^{3} + y}\\,{d y} - \\frac{1}{30} \\, \\int_{1}^{+\\infty} \\frac{180 \\, y^{4} \\arctan\\left(\\frac{1}{y}\\right)}{y^{9} + 4 \\, y^{7} + 6 \\, y^{5} + 4 \\, y^{3} + y}\\,{d y} - \\frac{1}{30} \\, \\int_{1}^{+\\infty} -\\frac{60 \\, \\pi y^{2}}{y^{9} + 4 \\, y^{7} + 6 \\, y^{5} + 4 \\, y^{3} + y}\\,{d y} - \\frac{1}{30} \\, \\int_{1}^{+\\infty} -\\frac{56 \\, y^{3}}{y^{9} + 4 \\, y^{7} + 6 \\, y^{5} + 4 \\, y^{3} + y}\\,{d y} - \\frac{1}{30} \\, \\int_{1}^{+\\infty} \\frac{120 \\, y^{2} \\arctan\\left(\\frac{1}{y}\\right)}{y^{9} + 4 \\, y^{7} + 6 \\, y^{5} + 4 \\, y^{3} + y}\\,{d y} - \\frac{1}{30} \\, \\int_{1}^{+\\infty} -\\frac{15 \\, \\pi}{y^{9} + 4 \\, y^{7} + 6 \\, y^{5} + 4 \\, y^{3} + y}\\,{d y} - \\frac{1}{30} \\, \\int_{1}^{+\\infty} -\\frac{19 \\, y}{y^{9} + 4 \\, y^{7} + 6 \\, y^{5} + 4 \\, y^{3} + y}\\,{d y} - \\frac{1}{30} \\, \\int_{1}^{+\\infty} \\frac{30 \\, \\arctan\\left(\\frac{1}{y}\\right)}{y^{9} + 4 \\, y^{7} + 6 \\, y^{5} + 4 \\, y^{3} + y}\\,{d y} + \\frac{1993}{14400}$"
      ],
      "text/plain": [
       "<IPython.core.display.Math object>"
      ]
     },
     "metadata": {},
     "output_type": "display_data"
    }
   ],
   "source": [
    "display(Math(latex(sxy1)))"
   ]
  },
  {
   "cell_type": "code",
   "execution_count": 32,
   "metadata": {},
   "outputs": [
    {
     "data": {
      "text/plain": [
       "103.683858824338"
      ]
     },
     "execution_count": 32,
     "metadata": {},
     "output_type": "execute_result"
    }
   ],
   "source": [
    "my_sxy1.n()"
   ]
  },
  {
   "cell_type": "code",
   "execution_count": 33,
   "metadata": {},
   "outputs": [
    {
     "data": {
      "text/plain": [
       "103.683858824338"
      ]
     },
     "execution_count": 33,
     "metadata": {},
     "output_type": "execute_result"
    }
   ],
   "source": [
    "sxy1.n()"
   ]
  },
  {
   "cell_type": "code",
   "execution_count": 34,
   "metadata": {},
   "outputs": [],
   "source": [
    "#sxy2 = my_euler_maclaurin1(my_euler_maclaurin1(f,x,a_x,b_x,p, calc_R_p=True),y,a_y,b_y,p, calc_R_p=True)"
   ]
  },
  {
   "cell_type": "code",
   "execution_count": 35,
   "metadata": {},
   "outputs": [],
   "source": [
    "#sxy2 = my_euler_maclaurin1(my_euler_maclaurin1(f,x,a_x,b_x,p),y,a_y,b_y,p, calc_R_p=True)"
   ]
  },
  {
   "cell_type": "code",
   "execution_count": 36,
   "metadata": {},
   "outputs": [],
   "source": [
    "#sxy2"
   ]
  },
  {
   "cell_type": "code",
   "execution_count": 37,
   "metadata": {},
   "outputs": [],
   "source": [
    "#display(Math(latex(sxy2)))"
   ]
  },
  {
   "cell_type": "code",
   "execution_count": 38,
   "metadata": {},
   "outputs": [
    {
     "data": {
      "text/latex": [
       "$\\displaystyle -\\frac{i \\, \\psi\\left(i \\, y + 1\\right) - i \\, \\psi\\left(-i \\, y + 1\\right)}{2 \\, y}$"
      ],
      "text/plain": [
       "<IPython.core.display.Math object>"
      ]
     },
     "metadata": {},
     "output_type": "display_data"
    }
   ],
   "source": [
    "display(Math(latex(sum(1/(x^2+y^2),x,1,Infinity))))"
   ]
  },
  {
   "cell_type": "code",
   "execution_count": 39,
   "metadata": {},
   "outputs": [
    {
     "data": {
      "text/latex": [
       "$\\displaystyle -\\frac{1}{2} \\, {\\sum_{y=1}^{+\\infty} \\frac{i \\, \\psi\\left(i \\, y + 1\\right) - i \\, \\psi\\left(-i \\, y + 1\\right)}{y}}$"
      ],
      "text/plain": [
       "<IPython.core.display.Math object>"
      ]
     },
     "metadata": {},
     "output_type": "display_data"
    }
   ],
   "source": [
    "display(Math(latex(sum(sum(1/(x^2+y^2),x,1,Infinity),y,1,Infinity))))"
   ]
  },
  {
   "cell_type": "code",
   "execution_count": null,
   "metadata": {},
   "outputs": [],
   "source": []
  }
 ],
 "metadata": {
  "kernelspec": {
   "display_name": "SageMath 9.3",
   "language": "sage",
   "name": "sagemath"
  },
  "language_info": {
   "codemirror_mode": {
    "name": "ipython",
    "version": 3
   },
   "file_extension": ".py",
   "mimetype": "text/x-python",
   "name": "python",
   "nbconvert_exporter": "python",
   "pygments_lexer": "ipython3",
   "version": "3.9.2"
  }
 },
 "nbformat": 4,
 "nbformat_minor": 4
}
