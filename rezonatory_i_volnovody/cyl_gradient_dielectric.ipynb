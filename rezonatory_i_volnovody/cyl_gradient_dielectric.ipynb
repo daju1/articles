{
 "cells": [
  {
   "cell_type": "code",
   "execution_count": 1,
   "metadata": {},
   "outputs": [],
   "source": [
    "from IPython.display import display, Math, Latex"
   ]
  },
  {
   "cell_type": "code",
   "execution_count": 2,
   "metadata": {},
   "outputs": [],
   "source": [
    "kappa = var(\"kappa\")\n",
    "\n",
    "z = var(\"z\")\n",
    "rh = var(\"rho\")\n",
    "ph = var(\"varphi\")\n",
    "\n",
    "c = var(\"c\")\n",
    "omega = var(\"omega\")\n",
    "\n",
    "h = var(\"h\")\n",
    "a = var(\"a\")\n",
    "\n",
    "m = var(\"m\")\n",
    "psi_m = var(\"psi_m\")\n",
    "\n",
    "assume(kappa, \"real\")\n",
    "assume(kappa > 0)\n",
    "\n",
    "assume(z, \"real\")\n",
    "assume(rh, \"real\")\n",
    "assume(rh > 0)\n",
    "assume(ph, \"real\")\n",
    "\n",
    "assume(c, \"real\")\n",
    "assume(c > 0)\n",
    "assume(omega, \"real\")\n",
    "assume(omega > 0)\n",
    "\n",
    "assume(h, \"real\")\n",
    "assume(h > 0)\n",
    "assume(a, \"real\")\n",
    "assume(a > 0)\n",
    "\n",
    "assume(m, \"real\")\n",
    "assume(m >= 0)\n",
    "assume(psi_m, \"real\")\n",
    "\n",
    "#Propulsion and Energy Forum\n",
    "#July 28-30, 2014, Cleveland, OH\n",
    "#50th AIAA/ASME/SAE/ASEE Joint Propulsion Conference\n",
    "#Anomalous Thrust Production from an RF Test Device\n",
    "#Measured on a Low-Thrust Torsion Pendulum\n",
    "#David A. Brady * , Harold G. White † , Paul March ‡ , James T. Lawrence § , and Frank J. Davies **\n",
    "#NASA Lyndon B. Johnson Space Center, Houston, Texas 77058\n",
    "\n",
    "\n",
    "#Tapered Cavity RF Evaluation and Testing, TE012 mode\n",
    "#Prior to the TM211 evaluations, COMSOL® analysis indicated that the TE012 was an effective thrust generation\n",
    "#mode for the tapered cavity thruster being evaluated, so this mode was explored early in the evaluation process.\n",
    "#Figure 22 shows a test run at the TE012 mode with an operating frequency of 1880.4 MHz. The measured quality\n",
    "#factor was ~22,000, with a COMSOL prediction of 21,817. The measured power applied to the test article was\n",
    "#measured to be 2.6 watts, and the (net) measured thrust was 55.4 micronewtons. With an input power of 2.6 watts,\n",
    "#correcting for the quality factor, the predicted thrust is 50 micronewtons. However, since the TE012 mode had\n",
    "#numerous other RF modes in very close proximity, it was impractical to repeatedly operate the system in this mode,\n",
    "#so the decision was made to evaluate the TM211 modes instead.\n",
    "\n",
    "#E. Tapered Cavity Testing: Summary of Results\n",
    "# Mode \n",
    "# Frequency (MHz)\n",
    "# Quality Factor, Q \n",
    "\n",
    "# Input Power (W) \n",
    "# Peak Thrust (μN) \n",
    "# Mean Thrust (μN) \n",
    "# Number of Test Runs\n",
    "# TM211 1932.6   7320  16.9  116.0   91.2  5\n",
    "# TM211 1936.7 18,100  16.7   54.1   50.1  2\n",
    "# TE012 1880.4 22,000   2.6   55.4   55.4  1\n",
    "\n",
    "m_val = 1\n",
    "n_val = 0\n",
    "h_val = 0\n",
    "\n",
    "E_mode = False\n",
    "\n",
    "a_val = 6\n",
    "\n",
    "mu = var(\"mu\")\n",
    "assume(mu, 'real')"
   ]
  },
  {
   "cell_type": "markdown",
   "metadata": {},
   "source": [
    "$\\vec{E} = \\vec{E}\\,e^{-i\\,\\omega\\,t}$\n",
    "\n",
    "$\\vec{H} = \\vec{H}\\,e^{-i\\,\\omega\\,t}$\n",
    "\n",
    "\n",
    "$rot\\,\\vec{E} = \\mu\\,\\frac{i\\,\\omega}{c}\\,\\vec{H}$\n",
    "\n",
    "$rot\\,\\vec{H} = - \\frac{i\\,\\omega}{c} \\epsilon_{\\alpha\\,\\beta} \\vec{E} + \\frac{4\\pi}{c}\\vec{j}$\n",
    "\n",
    "$rot\\,\\vec{H} = - \\frac{i\\,\\omega}{c} \\epsilon_{\\alpha\\,\\beta} \\vec{E} + \\frac{4\\pi}{c} \\sigma \\vec{E}$\n",
    "\n",
    "\n",
    "$rot\\,rot\\,\\vec{E} = \\mu\\,\\frac{i\\,\\omega}{c}rot\\,\\vec{H}$\n",
    "\n",
    "$rot\\,rot\\,\\vec{E} = \\mu\\,\\frac{i\\,\\omega}{c}\\left(- \\frac{i\\,\\omega}{c} \\epsilon_{\\alpha\\,\\beta} \\vec{E}  + \\frac{4\\pi}{c} \\sigma \\vec{E} \\right)$\n",
    "\n",
    "$rot\\,rot\\,\\vec{E} = \\mu\\,\\frac{\\omega^2}{c^2} \\epsilon_{\\alpha\\,\\beta} \\vec{E} + \\mu\\,\\frac{4\\pi\\,i\\,\\omega}{c^2} \\sigma \\vec{E}$\n",
    "\n",
    "$rot\\,rot\\,\\vec{E} = \\mu\\,\\frac{\\omega^2}{c^2} \\left( \\epsilon_{\\alpha\\,\\beta} + 4\\pi\\,i\\frac{\\sigma}{\\omega}  \\right) \\vec{E} $\n",
    "\n",
    "\n",
    "$rot\\,rot\\,\\vec{H} = - \\frac{i\\,\\omega}{c} \\epsilon_{\\alpha\\,\\beta} rot\\, \\vec{E}  + \\frac{4\\pi}{c} \\sigma rot\\,\\vec{E}$\n",
    "\n",
    "$rot\\,rot\\,\\vec{H} = \\left(- \\frac{i\\,\\omega}{c} \\epsilon_{\\alpha\\,\\beta} + \\frac{4\\pi}{c} \\sigma \\right) rot\\,\\vec{E}$\n",
    "\n",
    "$rot\\,rot\\,\\vec{H} = \\left(- \\frac{i\\,\\omega}{c} \\epsilon_{\\alpha\\,\\beta} + \\frac{4\\pi}{c} \\sigma \\right) \\mu\\,\\frac{i\\,\\omega}{c}\\,\\vec{H}$\n",
    "\n",
    "$rot\\,rot\\,\\vec{H} = \\mu\\,\\left(\\frac{\\omega^2}{c^2} \\epsilon_{\\alpha\\,\\beta} + i\\,\\frac{4\\pi\\omega}{c^2} \\sigma \\right)\\,\\vec{H}$\n",
    "\n",
    "$rot\\,rot\\,\\vec{H} = \\mu\\,\\frac{\\omega^2}{c^2}\\left(\\epsilon_{\\alpha\\,\\beta} + 4\\pi\\,i\\,\\frac{\\sigma}{\\omega}  \\right)\\,\\vec{H}$\n",
    "\n"
   ]
  },
  {
   "cell_type": "markdown",
   "metadata": {},
   "source": [
    "Ищем решение в виде\n",
    "\n",
    "$E_{z}\\left({\\rho}, {\\phi}, \\mathit{z}\\right) = E_{z}(\\rho)\\,E_{z}(\\phi)\\,E_{z}(z)$\n",
    "\n",
    "подставляя в исходное уравнение"
   ]
  },
  {
   "cell_type": "markdown",
   "metadata": {},
   "source": [
    "we have \n",
    "\n",
    "$\\frac{\\epsilon \\mu \\omega^{2} E_{z}\\left({\\rho}, {\\phi}, \\mathit{z}\\right)}{c^{2}} + \\frac{\\frac{\\partial}{\\partial {\\rho}}E_{z}\\left({\\rho}, {\\phi}, \\mathit{z}\\right)}{{\\rho}} + \\frac{\\frac{\\partial^{2}}{(\\partial {\\phi})^{2}}E_{z}\\left({\\rho}, {\\phi}, \\mathit{z}\\right)}{{\\rho}^{2}} + \\frac{\\partial^{2}}{(\\partial {\\rho})^{2}}E_{z}\\left({\\rho}, {\\phi}, \\mathit{z}\\right) + \\frac{\\partial^{2}}{(\\partial \\mathit{z})^{2}}E_{z}\\left({\\rho}, {\\phi}, \\mathit{z}\\right)$\n",
    "\n",
    "\n",
    "$\\frac{\\epsilon \\mu \\omega^{2} E_{z}}{c^{2}} + \\frac{\\frac{\\partial}{\\partial {\\rho}}E_{z}}{{\\rho}} + \\frac{\\frac{\\partial^{2}}{(\\partial {\\phi})^{2}}E_{z}}{{\\rho}^{2}} + \\frac{\\partial^{2}}{(\\partial {\\rho})^{2}}E_{z} + \\frac{\\partial^{2}}{(\\partial \\mathit{z})^{2}}E_{z} = 0$\n",
    "\n",
    "assuming\n",
    "\n",
    "$E_{z}(\\phi) = sin(m\\,\\varphi + \\psi_{m})$\n",
    "\n",
    "and\n",
    "\n",
    "$E_{z}(z) = e^{i\\,k\\,z}$\n",
    "\n",
    "or\n",
    "\n",
    "$E_{z}(z) = cos\\left(k\\,z\\right)$\n",
    "or\n",
    "$E_{z}(z) = sin\\left(k\\,z\\right)$"
   ]
  },
  {
   "cell_type": "markdown",
   "metadata": {},
   "source": [
    "приходим к обыкновенному дифференциальному уравнению\n",
    "\n",
    "\n",
    "$\\frac{\\epsilon \\mu \\omega^{2} E_{z}}{c^{2}} \n",
    "+ \\frac{\\frac{\\partial}{\\partial {\\rho}}E_{z}}{{\\rho}}\n",
    "- \\frac{m^{2}\\,E_{z}}{{\\rho}^{2}}\n",
    "+ \\frac{\\partial^{2}}{(\\partial {\\rho})^{2}}E_{z}\n",
    "- k^2\\,E_{z} = 0$\n",
    "\n",
    "assuming\n",
    "\n",
    "$\\kappa^2 = \\frac{\\mu \\, \\epsilon \\, \\omega^2}{c^2} - k^2$\n",
    "\n",
    "we will receive equation of Bessel type\n",
    "\n",
    "$\\frac{\\partial^{2}}{(\\partial {\\rho})^{2}}E_{z} + \\frac{\\frac{\\partial}{\\partial {\\rho}}E_{z}}{{\\rho}}\n",
    "+ \\left(\\kappa^2 - \\frac{m^{2}}{{\\rho}^{2}}\\right)\\,E_{z} = 0$"
   ]
  },
  {
   "cell_type": "markdown",
   "metadata": {},
   "source": [
    "but in case of gradient of\n",
    "\n",
    "$\\epsilon = \\epsilon\\left(z\\right)$\n",
    "\n",
    "$\\frac{\\epsilon\\left(z\\right) \\mu \\omega^{2} E_{z}}{c^{2}} + \\frac{\\frac{\\partial}{\\partial {\\rho}}E_{z}}{{\\rho}} + \\frac{\\frac{\\partial^{2}}{(\\partial {\\phi})^{2}}E_{z}}{{\\rho}^{2}} + \\frac{\\partial^{2}}{(\\partial {\\rho})^{2}}E_{z} + \\frac{\\partial^{2}}{(\\partial \\mathit{z})^{2}}E_{z} = 0$\n",
    "\n",
    "\n",
    "приходим к обыкновенному дифференциальному уравнению\n",
    "\n",
    "\n",
    "$\\frac{\\epsilon\\left(z\\right) \\mu \\omega^{2} E_{z}}{c^{2}} \n",
    "+ \\frac{\\frac{\\partial}{\\partial {\\rho}}E_{z}}{{\\rho}}\n",
    "- \\frac{m^{2}\\,E_{z}}{{\\rho}^{2}}\n",
    "+ \\frac{\\partial^{2}}{(\\partial {\\rho})^{2}}E_{z}\n",
    "+ \\frac{\\partial^{2}}{(\\partial \\mathit{z})^{2}}E_{z} = 0$\n",
    "\n",
    "we will receive equation of Bessel type\n",
    "\n",
    "$\\frac{\\partial^{2}}{(\\partial {\\rho})^{2}}E_{z} + \\frac{\\frac{\\partial}{\\partial {\\rho}}E_{z}}{{\\rho}}\n",
    "+ \\left(\\frac{\\epsilon\\left(z\\right) \\mu \\omega^{2}}{c^{2}} + \\frac{\\partial^{2}}{(\\partial \\mathit{z})^{2}} - \\frac{m^{2}}{{\\rho}^{2}}\\right)\\,E_{z} = 0$\n",
    "\n",
    "assuming\n",
    "\n",
    "$\\kappa^2\\,E_{z} = \\left(\\frac{\\epsilon\\left(z\\right) \\mu \\omega^{2}}{c^{2}} + \\frac{\\partial^{2}}{(\\partial \\mathit{z})^{2}}\\right)\\,E_{z}$"
   ]
  },
  {
   "cell_type": "code",
   "execution_count": 3,
   "metadata": {},
   "outputs": [],
   "source": [
    "# Let's assume that epsilon(z) can have form of \n",
    "# https://en.wikipedia.org/wiki/Sigmoid_function"
   ]
  },
  {
   "cell_type": "code",
   "execution_count": 4,
   "metadata": {},
   "outputs": [
    {
     "data": {
      "text/latex": [
       "$$\\epsilon_{0} + \\frac{L}{e^{\\left(-k {\\left(z - z_{0}\\right)}\\right)} + 1}$$"
      ],
      "text/plain": [
       "<IPython.core.display.Math object>"
      ]
     },
     "metadata": {},
     "output_type": "display_data"
    }
   ],
   "source": [
    "# https://en.wikipedia.org/wiki/Logistic_function\n",
    "epsilon_0 = var(\"epsilon_0\")\n",
    "assume(epsilon_0, \"real\")\n",
    "assume(epsilon_0 > 0)\n",
    "\n",
    "L = var(\"L\")\n",
    "assume(L, \"real\")\n",
    "assume(L > 0)\n",
    "\n",
    "z_0 = var(\"z_0\")\n",
    "assume(z_0, \"real\")\n",
    "\n",
    "\n",
    "k = var(\"k\")\n",
    "assume(k, \"real\")\n",
    "assume(k > 0)\n",
    "\n",
    "epsilon_logistic(z) = epsilon_0 + L / (1 + e^(-k*(z-z_0)))\n",
    "display(Math(latex(epsilon_logistic(z))))"
   ]
  },
  {
   "cell_type": "code",
   "execution_count": 5,
   "metadata": {},
   "outputs": [
    {
     "data": {
      "image/png": "[encoded data removed]",
      "text/plain": [
       "Graphics object consisting of 1 graphics primitive"
      ]
     },
     "execution_count": 5,
     "metadata": {},
     "output_type": "execute_result"
    }
   ],
   "source": [
    "plot(epsilon_logistic(z).subs(epsilon_0 == 1.2, L == 1.1, z_0 == 0.71, k == 8.5), (z,0,2))"
   ]
  },
  {
   "cell_type": "code",
   "execution_count": 6,
   "metadata": {},
   "outputs": [
    {
     "data": {
      "text/latex": [
       "$$L \\tanh\\left(k {\\left(z - z_{0}\\right)}\\right) + \\epsilon_{0}$$"
      ],
      "text/plain": [
       "<IPython.core.display.Math object>"
      ]
     },
     "metadata": {},
     "output_type": "display_data"
    }
   ],
   "source": [
    "epsilon_tanh(z) = epsilon_0 + L*tanh(k*(z-z_0))\n",
    "display(Math(latex(epsilon_tanh(z))))"
   ]
  },
  {
   "cell_type": "code",
   "execution_count": 7,
   "metadata": {},
   "outputs": [
    {
     "data": {
      "image/png": "[encoded data removed]",
      "text/plain": [
       "Graphics object consisting of 1 graphics primitive"
      ]
     },
     "execution_count": 7,
     "metadata": {},
     "output_type": "execute_result"
    }
   ],
   "source": [
    "plot(epsilon_tanh(z).subs(epsilon_0 == 1.2, L == 1.1, z_0 == 0.71, k == 8.5), (z,0,2))"
   ]
  },
  {
   "cell_type": "code",
   "execution_count": 8,
   "metadata": {},
   "outputs": [
    {
     "data": {
      "text/latex": [
       "$$L \\arctan\\left(\\frac{k {\\left(z - z_{0}\\right)}}{2 \\, \\pi}\\right) + \\epsilon_{0}$$"
      ],
      "text/plain": [
       "<IPython.core.display.Math object>"
      ]
     },
     "metadata": {},
     "output_type": "display_data"
    }
   ],
   "source": [
    "epsilon_atan(z) = epsilon_0 + L*atan(k*(z-z_0)/2/pi)\n",
    "display(Math(latex(epsilon_atan(z))))"
   ]
  },
  {
   "cell_type": "code",
   "execution_count": 9,
   "metadata": {},
   "outputs": [
    {
     "data": {
      "image/png": "[encoded data removed]",
      "text/plain": [
       "Graphics object consisting of 1 graphics primitive"
      ]
     },
     "execution_count": 9,
     "metadata": {},
     "output_type": "execute_result"
    }
   ],
   "source": [
    "plot(epsilon_atan(z).subs(epsilon_0 == 1.2, L == 1.1, z_0 == 0.71, k == 8.5), (z,0,2))"
   ]
  },
  {
   "cell_type": "code",
   "execution_count": 10,
   "metadata": {},
   "outputs": [
    {
     "data": {
      "text/latex": [
       "$$\\epsilon_{0} + \\frac{L}{{\\left(e^{\\left(-k {\\left(z - z_{0}\\right)}\\right)} + 1\\right)}^{\\left(\\frac{1}{\\mathit{nju}}\\right)}}$$"
      ],
      "text/plain": [
       "<IPython.core.display.Math object>"
      ]
     },
     "metadata": {},
     "output_type": "display_data"
    }
   ],
   "source": [
    "nju = var(\"nju\")\n",
    "assume(nju, \"real\")\n",
    "assume(nju > 0)\n",
    "\n",
    "epsilon_gen_logistic(z) = epsilon_0 + L / (1 + e^(-k*(z-z_0)))^(1/nju)\n",
    "display(Math(latex(epsilon_gen_logistic(z))))"
   ]
  },
  {
   "cell_type": "code",
   "execution_count": 11,
   "metadata": {},
   "outputs": [
    {
     "data": {
      "image/png": "[encoded data removed]",
      "text/plain": [
       "Graphics object consisting of 1 graphics primitive"
      ]
     },
     "execution_count": 11,
     "metadata": {},
     "output_type": "execute_result"
    }
   ],
   "source": [
    "plot(epsilon_gen_logistic(z).subs(epsilon_0 == 1.2, L == 1.1, z_0 == 0.71, k == 8.5, nju == 2), (z,0,2))"
   ]
  },
  {
   "cell_type": "code",
   "execution_count": 12,
   "metadata": {},
   "outputs": [
    {
     "data": {
      "text/latex": [
       "$$\\epsilon_{0} + \\frac{z}{\\sqrt{z^{2} + 1}}$$"
      ],
      "text/plain": [
       "<IPython.core.display.Math object>"
      ]
     },
     "metadata": {},
     "output_type": "display_data"
    }
   ],
   "source": [
    "epsilon_algebraic(z) = epsilon_0 + z / (1 + z^2)^(1/2)\n",
    "display(Math(latex(epsilon_algebraic(z))))"
   ]
  },
  {
   "cell_type": "code",
   "execution_count": 13,
   "metadata": {},
   "outputs": [
    {
     "data": {
      "image/png": "[encoded data removed]",
      "text/plain": [
       "Graphics object consisting of 1 graphics primitive"
      ]
     },
     "execution_count": 13,
     "metadata": {},
     "output_type": "execute_result"
    }
   ],
   "source": [
    "plot(epsilon_algebraic(z).subs(epsilon_0 == 1.2, L == 1.1, z_0 == 0.71, k == 8.5, nju == 2), (z,0,2))"
   ]
  },
  {
   "cell_type": "code",
   "execution_count": 14,
   "metadata": {},
   "outputs": [
    {
     "data": {
      "text/latex": [
       "$$\\frac{1}{2} \\, L \\operatorname{erf}\\left(k {\\left(z - z_{0}\\right)}\\right) + \\epsilon_{0}$$"
      ],
      "text/plain": [
       "<IPython.core.display.Math object>"
      ]
     },
     "metadata": {},
     "output_type": "display_data"
    }
   ],
   "source": [
    "epsilon_erf(z) = epsilon_0 + L/2*erf(k*(z-z_0))\n",
    "display(Math(latex(epsilon_erf(z))))"
   ]
  },
  {
   "cell_type": "code",
   "execution_count": 15,
   "metadata": {},
   "outputs": [
    {
     "data": {
      "image/png": "[encoded data removed]",
      "text/plain": [
       "Graphics object consisting of 1 graphics primitive"
      ]
     },
     "execution_count": 15,
     "metadata": {},
     "output_type": "execute_result"
    }
   ],
   "source": [
    "plot(epsilon_erf(z).subs(epsilon_0 == 1.2, L == 1.1, z_0 == 0.71, k == 8.5, nju == 2), (z,0,2))"
   ]
  },
  {
   "cell_type": "code",
   "execution_count": 16,
   "metadata": {},
   "outputs": [
    {
     "name": "stdout",
     "output_type": "stream",
     "text": [
      "L*e^(-b*e^(-d*z)) + epsilon_0\n"
     ]
    },
    {
     "data": {
      "text/latex": [
       "$$L e^{\\left(-b e^{\\left(-d z\\right)}\\right)} + \\epsilon_{0}$$"
      ],
      "text/plain": [
       "<IPython.core.display.Math object>"
      ]
     },
     "metadata": {},
     "output_type": "display_data"
    }
   ],
   "source": [
    "d = var(\"d\")\n",
    "assume(d, \"real\")\n",
    "assume(d > 0)\n",
    "\n",
    "b = var(\"b\")\n",
    "assume(b, \"real\")\n",
    "assume(b > 0)\n",
    "\n",
    "epsilon_gompertz(z) = epsilon_0 + L* e^(-b*e^(-d*z))\n",
    "print(epsilon_gompertz(z))\n",
    "display(Math(latex(epsilon_gompertz(z))))"
   ]
  },
  {
   "cell_type": "code",
   "execution_count": 17,
   "metadata": {},
   "outputs": [
    {
     "data": {
      "image/png": "[encoded data removed]",
      "text/plain": [
       "Graphics object consisting of 1 graphics primitive"
      ]
     },
     "execution_count": 17,
     "metadata": {},
     "output_type": "execute_result"
    }
   ],
   "source": [
    "plot(epsilon_gompertz(z).subs(epsilon_0 == 1.2, L == 1.1, b == 7.1, d == 5), (z,0,2))"
   ]
  },
  {
   "cell_type": "code",
   "execution_count": 18,
   "metadata": {},
   "outputs": [
    {
     "data": {
      "text/latex": [
       "$$\\frac{{\\left(L e^{\\left(-b e^{\\left(-d z\\right)}\\right)} + \\epsilon_{0}\\right)} \\mu \\omega^{2} E_{z}\\left(z\\right)}{c^{2}} + \\frac{\\partial^{2}}{(\\partial z)^{2}}E_{z}\\left(z\\right) = \\kappa^{2} E_{z}\\left(z\\right)$$"
      ],
      "text/plain": [
       "<IPython.core.display.Math object>"
      ]
     },
     "metadata": {},
     "output_type": "display_data"
    }
   ],
   "source": [
    "E_z = function('E_z')(z)\n",
    "eq_kappa = mu * epsilon_gompertz(z) * omega^2 / c^2 * E_z(z) + diff(diff(E_z(z),z),z) == kappa^2 * E_z(z)\n",
    "\n",
    "display(Math(latex(eq_kappa)))"
   ]
  },
  {
   "cell_type": "code",
   "execution_count": 19,
   "metadata": {},
   "outputs": [],
   "source": [
    "#desolve(eq_kappa, E_z(z), ivar=z, contrib_ode=True)"
   ]
  },
  {
   "cell_type": "code",
   "execution_count": 20,
   "metadata": {},
   "outputs": [
    {
     "data": {
      "text/latex": [
       "$$-K\\left(z\\right)^{2} + \\frac{\\mu \\omega^{2} \\epsilon\\left(z\\right)}{c^{2}} = \\kappa^{2}$$"
      ],
      "text/plain": [
       "<IPython.core.display.Math object>"
      ]
     },
     "metadata": {},
     "output_type": "display_data"
    },
    {
     "data": {
      "text/latex": [
       "$$\\left[K\\left(z\\right)^{2} = -\\frac{c^{2} \\kappa^{2} - \\mu \\omega^{2} \\epsilon\\left(z\\right)}{c^{2}}\\right]$$"
      ],
      "text/plain": [
       "<IPython.core.display.Math object>"
      ]
     },
     "metadata": {},
     "output_type": "display_data"
    }
   ],
   "source": [
    "epsilon = function('epsilon')(z)\n",
    "k = function('k')(z)\n",
    "K = function('K')(z)\n",
    "\n",
    "\n",
    "#assume(k(z), 'real')\n",
    "#assume(K(z), 'real')\n",
    "\n",
    "# исходя из вида дифференциальных уравнений для диэлектрика\n",
    "# записываем соотнощения для волнового вектора в виде уравнений\n",
    "eq_kappa = mu * epsilon(z) * omega^2 / c^2 - K(z)^2 == kappa^2\n",
    "\n",
    "display(Math(latex(eq_kappa)))\n",
    "\n",
    "display(Math(latex(solve(eq_kappa, K(z)^2))))"
   ]
  },
  {
   "cell_type": "code",
   "execution_count": 21,
   "metadata": {},
   "outputs": [
    {
     "data": {
      "text/latex": [
       "$$e^{\\left(i \\, z k\\left(z\\right)\\right)}$$"
      ],
      "text/plain": [
       "<IPython.core.display.Math object>"
      ]
     },
     "metadata": {},
     "output_type": "display_data"
    }
   ],
   "source": [
    "E_z(z) = e^(I*k(z)*z)\n",
    "d2Ez2(z) = diff(diff(E_z(z),z),z)\n",
    "KK(z) = d2Ez2(z)/E_z(z)\n",
    "display(Math(latex(E_z(z))))"
   ]
  },
  {
   "cell_type": "code",
   "execution_count": 22,
   "metadata": {},
   "outputs": [
    {
     "data": {
      "text/latex": [
       "$$z \\ {\\mapsto}\\ {\\left(i \\, z \\frac{\\partial}{\\partial z}k\\left(z\\right) + i \\, k\\left(z\\right)\\right)}^{2} e^{\\left(i \\, z k\\left(z\\right)\\right)} + {\\left(i \\, z \\frac{\\partial^{2}}{(\\partial z)^{2}}k\\left(z\\right) + 2 i \\, \\frac{\\partial}{\\partial z}k\\left(z\\right)\\right)} e^{\\left(i \\, z k\\left(z\\right)\\right)}$$"
      ],
      "text/plain": [
       "<IPython.core.display.Math object>"
      ]
     },
     "metadata": {},
     "output_type": "display_data"
    }
   ],
   "source": [
    "display(Math(latex(d2Ez2)))"
   ]
  },
  {
   "cell_type": "code",
   "execution_count": 23,
   "metadata": {},
   "outputs": [
    {
     "data": {
      "text/latex": [
       "$$z \\ {\\mapsto}\\ -z^{2} e^{\\left(i \\, z k\\left(z\\right)\\right)} \\frac{\\partial}{\\partial z}k\\left(z\\right)^{2} - 2 \\, z e^{\\left(i \\, z k\\left(z\\right)\\right)} k\\left(z\\right) \\frac{\\partial}{\\partial z}k\\left(z\\right) - e^{\\left(i \\, z k\\left(z\\right)\\right)} k\\left(z\\right)^{2} + i \\, z e^{\\left(i \\, z k\\left(z\\right)\\right)} \\frac{\\partial^{2}}{(\\partial z)^{2}}k\\left(z\\right) + 2 i \\, e^{\\left(i \\, z k\\left(z\\right)\\right)} \\frac{\\partial}{\\partial z}k\\left(z\\right)$$"
      ],
      "text/plain": [
       "<IPython.core.display.Math object>"
      ]
     },
     "metadata": {},
     "output_type": "display_data"
    }
   ],
   "source": [
    "display(Math(latex(d2Ez2.expand())))"
   ]
  },
  {
   "cell_type": "code",
   "execution_count": 24,
   "metadata": {},
   "outputs": [
    {
     "data": {
      "text/latex": [
       "$$-z^{2} \\frac{\\partial}{\\partial z}k\\left(z\\right)^{2} - 2 \\, z k\\left(z\\right) \\frac{\\partial}{\\partial z}k\\left(z\\right) - k\\left(z\\right)^{2} + i \\, z \\frac{\\partial^{2}}{(\\partial z)^{2}}k\\left(z\\right) + 2 i \\, \\frac{\\partial}{\\partial z}k\\left(z\\right)$$"
      ],
      "text/plain": [
       "<IPython.core.display.Math object>"
      ]
     },
     "metadata": {},
     "output_type": "display_data"
    }
   ],
   "source": [
    "display(Math(latex(KK(z).expand())))"
   ]
  },
  {
   "cell_type": "code",
   "execution_count": 25,
   "metadata": {},
   "outputs": [
    {
     "name": "stdout",
     "output_type": "stream",
     "text": [
      "-z^2*diff(k(z), z)^2 - 2*z*k(z)*diff(k(z), z) - k(z)^2 + I*z*diff(k(z), z, z) + 2*I*diff(k(z), z)\n"
     ]
    }
   ],
   "source": [
    "print(KK(z).expand())"
   ]
  },
  {
   "cell_type": "code",
   "execution_count": 26,
   "metadata": {},
   "outputs": [],
   "source": [
    "ReKK(z) = -z^2*diff(k(z), z)^2 - 2*z*k(z)*diff(k(z), z) - k(z)^2\n",
    "ImKK(z) = +z*diff(k(z), z, z) + 2*diff(k(z), z)"
   ]
  },
  {
   "cell_type": "code",
   "execution_count": 27,
   "metadata": {},
   "outputs": [
    {
     "data": {
      "text/latex": [
       "$$-z^{2} \\frac{\\partial}{\\partial z}k\\left(z\\right)^{2} - 2 \\, z k\\left(z\\right) \\frac{\\partial}{\\partial z}k\\left(z\\right) - k\\left(z\\right)^{2}$$"
      ],
      "text/plain": [
       "<IPython.core.display.Math object>"
      ]
     },
     "metadata": {},
     "output_type": "display_data"
    }
   ],
   "source": [
    "display(Math(latex(ReKK(z))))"
   ]
  },
  {
   "cell_type": "code",
   "execution_count": 28,
   "metadata": {},
   "outputs": [
    {
     "data": {
      "text/latex": [
       "$$z \\frac{\\partial^{2}}{(\\partial z)^{2}}k\\left(z\\right) + 2 \\, \\frac{\\partial}{\\partial z}k\\left(z\\right)$$"
      ],
      "text/plain": [
       "<IPython.core.display.Math object>"
      ]
     },
     "metadata": {},
     "output_type": "display_data"
    }
   ],
   "source": [
    "display(Math(latex(ImKK(z))))"
   ]
  },
  {
   "cell_type": "code",
   "execution_count": 29,
   "metadata": {},
   "outputs": [
    {
     "data": {
      "text/plain": [
       "_K1 + _K2/z"
      ]
     },
     "execution_count": 29,
     "metadata": {},
     "output_type": "execute_result"
    }
   ],
   "source": [
    "desolve(ImKK(z) == 0, k(z), ivar=z)"
   ]
  },
  {
   "cell_type": "code",
   "execution_count": 30,
   "metadata": {},
   "outputs": [],
   "source": [
    "eq = ReKK(z) - solve(eq_kappa, K(z)^2)[0].rhs()"
   ]
  },
  {
   "cell_type": "code",
   "execution_count": 31,
   "metadata": {},
   "outputs": [],
   "source": [
    "epsilon_1 = var(\"epsilon_1\")\n",
    "epsilon_2 = var(\"epsilon_2\")\n",
    "assume(epsilon_1, \"real\")\n",
    "assume(epsilon_1 > 0)\n",
    "assume(epsilon_2, \"real\")\n",
    "assume(epsilon_2 > 0)\n",
    "eps(z) = epsilon_1 + (epsilon_2 - epsilon_1)/h * z"
   ]
  },
  {
   "cell_type": "code",
   "execution_count": 32,
   "metadata": {},
   "outputs": [],
   "source": [
    "eqs = eq.subs(epsilon(z) == 1 + (2 - 1) * z)"
   ]
  },
  {
   "cell_type": "code",
   "execution_count": 33,
   "metadata": {},
   "outputs": [
    {
     "data": {
      "text/latex": [
       "$$-z^{2} \\frac{\\partial}{\\partial z}k\\left(z\\right)^{2} - 2 \\, z k\\left(z\\right) \\frac{\\partial}{\\partial z}k\\left(z\\right) - k\\left(z\\right)^{2} + \\frac{c^{2} \\kappa^{2} - \\mu \\omega^{2} {\\left(z + 1\\right)}}{c^{2}}$$"
      ],
      "text/plain": [
       "<IPython.core.display.Math object>"
      ]
     },
     "metadata": {},
     "output_type": "display_data"
    }
   ],
   "source": [
    "display(Math(latex(eqs)))"
   ]
  },
  {
   "cell_type": "code",
   "execution_count": 34,
   "metadata": {},
   "outputs": [],
   "source": [
    "s = desolve(eqs == 0, k(z), ivar=z, contrib_ode=True)"
   ]
  },
  {
   "cell_type": "code",
   "execution_count": 35,
   "metadata": {},
   "outputs": [
    {
     "data": {
      "text/latex": [
       "$$\\left[-\\log\\left(-3 \\, c \\mu \\omega^{2} z k\\left(z\\right) + 3 \\, C c \\mu \\omega^{2} + 2 \\, {\\left(c^{2} \\kappa^{2} - \\mu \\omega^{2} z - \\mu \\omega^{2}\\right)}^{\\frac{3}{2}}\\right) = C\\right]$$"
      ],
      "text/plain": [
       "<IPython.core.display.Math object>"
      ]
     },
     "metadata": {},
     "output_type": "display_data"
    }
   ],
   "source": [
    "display(Math(latex(s)))"
   ]
  },
  {
   "cell_type": "code",
   "execution_count": 36,
   "metadata": {},
   "outputs": [],
   "source": [
    "eqc = eq.subs(epsilon(z) == var(\"epsilon\"))"
   ]
  },
  {
   "cell_type": "code",
   "execution_count": 37,
   "metadata": {},
   "outputs": [
    {
     "data": {
      "text/latex": [
       "$$-z^{2} \\frac{\\partial}{\\partial z}k\\left(z\\right)^{2} - 2 \\, z k\\left(z\\right) \\frac{\\partial}{\\partial z}k\\left(z\\right) - k\\left(z\\right)^{2} + \\frac{c^{2} \\kappa^{2} - \\epsilon \\mu \\omega^{2}}{c^{2}}$$"
      ],
      "text/plain": [
       "<IPython.core.display.Math object>"
      ]
     },
     "metadata": {},
     "output_type": "display_data"
    }
   ],
   "source": [
    "display(Math(latex(eqc)))"
   ]
  },
  {
   "cell_type": "code",
   "execution_count": 38,
   "metadata": {},
   "outputs": [
    {
     "data": {
      "text/latex": [
       "$$-\\frac{C}{z} + \\frac{\\sqrt{c^{2} \\kappa^{2} - \\epsilon \\mu \\omega^{2}}}{c} + k\\left(z\\right) = \\frac{e^{\\left(-C\\right)}}{c z}$$"
      ],
      "text/plain": [
       "<IPython.core.display.Math object>"
      ]
     },
     "metadata": {},
     "output_type": "display_data"
    }
   ],
   "source": [
    "cs = desolve(eqc == 0, k(z), ivar=z, contrib_ode=True)\n",
    "display(Math(latex((1/exp(cs[0].lhs())/c/z).expand() == 1/exp(cs[0].rhs())/c/z)))"
   ]
  },
  {
   "cell_type": "code",
   "execution_count": 39,
   "metadata": {},
   "outputs": [],
   "source": [
    "sol = desolve(eq == 0, k(z), ivar=z, contrib_ode=True)"
   ]
  },
  {
   "cell_type": "code",
   "execution_count": 40,
   "metadata": {},
   "outputs": [
    {
     "data": {
      "text/latex": [
       "$$\\left[-\\log\\left(\\mu \\omega^{2} \\int \\frac{z \\frac{\\partial}{\\partial z}\\epsilon\\left(z\\right)}{\\sqrt{c^{2} \\kappa^{2} - \\mu \\omega^{2} \\epsilon\\left(z\\right)}}\\,{d z} + 2 \\, c z k\\left(z\\right) - 2 \\, C c + 2 \\, \\sqrt{c^{2} \\kappa^{2} - \\mu \\omega^{2} \\epsilon\\left(z\\right)} z\\right) = C\\right]$$"
      ],
      "text/plain": [
       "<IPython.core.display.Math object>"
      ]
     },
     "metadata": {},
     "output_type": "display_data"
    }
   ],
   "source": [
    "display(Math(latex(sol)))"
   ]
  },
  {
   "cell_type": "code",
   "execution_count": 41,
   "metadata": {},
   "outputs": [
    {
     "data": {
      "text/latex": [
       "$$\\frac{\\mu \\omega^{2} \\int \\frac{z \\frac{\\partial}{\\partial z}\\epsilon\\left(z\\right)}{\\sqrt{c^{2} \\kappa^{2} - \\mu \\omega^{2} \\epsilon\\left(z\\right)}}\\,{d z}}{c z} - \\frac{2 \\, C}{z} + \\frac{2 \\, \\sqrt{c^{2} \\kappa^{2} - \\mu \\omega^{2} \\epsilon\\left(z\\right)}}{c} + 2 \\, k\\left(z\\right) = \\frac{e^{\\left(-C\\right)}}{c z}$$"
      ],
      "text/plain": [
       "<IPython.core.display.Math object>"
      ]
     },
     "metadata": {},
     "output_type": "display_data"
    }
   ],
   "source": [
    "display(Math(latex((1/exp(sol[0].lhs())/c/z).expand() == 1/exp(sol[0].rhs())/c/z)))"
   ]
  },
  {
   "cell_type": "code",
   "execution_count": 42,
   "metadata": {},
   "outputs": [
    {
     "name": "stdout",
     "output_type": "stream",
     "text": [
      "mu*omega^2*integrate(z*diff(epsilon(z), z)/sqrt(c^2*kappa^2 - mu*omega^2*epsilon(z)), z)/(c*z) - 2*_C/z + 2*sqrt(c^2*kappa^2 - mu*omega^2*epsilon(z))/c + 2*k(z) == e^(-_C)/(c*z)\n"
     ]
    }
   ],
   "source": [
    "print((1/exp(sol[0].lhs())/c/z).expand() == 1/exp(sol[0].rhs())/c/z)"
   ]
  },
  {
   "cell_type": "code",
   "execution_count": 43,
   "metadata": {},
   "outputs": [
    {
     "data": {
      "text/latex": [
       "$$\\frac{2 \\, {\\left(3 \\, \\sqrt{c^{2} \\kappa^{2} - \\epsilon_{1} \\mu \\omega^{2} + \\frac{\\epsilon_{1} \\mu \\omega^{2} z}{h} - \\frac{\\epsilon_{2} \\mu \\omega^{2} z}{h}} c^{2} \\kappa^{2} - 3 \\, \\sqrt{c^{2} \\kappa^{2} - \\epsilon_{1} \\mu \\omega^{2} + \\frac{\\epsilon_{1} \\mu \\omega^{2} z}{h} - \\frac{\\epsilon_{2} \\mu \\omega^{2} z}{h}} \\epsilon_{1} \\mu \\omega^{2} - {\\left(c^{2} \\kappa^{2} - \\epsilon_{1} \\mu \\omega^{2} + \\frac{\\epsilon_{1} \\mu \\omega^{2} z}{h} - \\frac{\\epsilon_{2} \\mu \\omega^{2} z}{h}\\right)}^{\\frac{3}{2}}\\right)} {\\left(\\epsilon_{1} - \\epsilon_{2}\\right)} \\mu \\omega^{2}}{3 \\, {\\left(\\frac{\\epsilon_{1} \\mu \\omega^{2}}{h} - \\frac{\\epsilon_{2} \\mu \\omega^{2}}{h}\\right)}^{2} c h z}$$"
      ],
      "text/plain": [
       "<IPython.core.display.Math object>"
      ]
     },
     "metadata": {},
     "output_type": "display_data"
    },
    {
     "data": {
      "text/latex": [
       "$$\\frac{2 \\, {\\left(3 \\, \\sqrt{c^{2} \\kappa^{2} - \\epsilon_{1} \\mu \\omega^{2}} c^{2} \\kappa^{2} - 3 \\, \\sqrt{c^{2} \\kappa^{2} - \\epsilon_{1} \\mu \\omega^{2}} \\epsilon_{1} \\mu \\omega^{2} - {\\left(c^{2} \\kappa^{2} - \\epsilon_{1} \\mu \\omega^{2}\\right)}^{\\frac{3}{2}}\\right)} {\\left(\\epsilon_{1} - \\epsilon_{2}\\right)} \\mu \\omega^{2}}{3 \\, {\\left(\\frac{\\epsilon_{1} \\mu \\omega^{2}}{h} - \\frac{\\epsilon_{2} \\mu \\omega^{2}}{h}\\right)}^{2} c h}$$"
      ],
      "text/plain": [
       "<IPython.core.display.Math object>"
      ]
     },
     "metadata": {},
     "output_type": "display_data"
    },
    {
     "data": {
      "text/latex": [
       "$$\\frac{2 \\, {\\left(3 \\, \\sqrt{c^{2} \\kappa^{2} - \\epsilon_{2} \\mu \\omega^{2}} c^{2} \\kappa^{2} - 3 \\, \\sqrt{c^{2} \\kappa^{2} - \\epsilon_{2} \\mu \\omega^{2}} \\epsilon_{1} \\mu \\omega^{2} - {\\left(c^{2} \\kappa^{2} - \\epsilon_{2} \\mu \\omega^{2}\\right)}^{\\frac{3}{2}}\\right)} {\\left(\\epsilon_{1} - \\epsilon_{2}\\right)} \\mu \\omega^{2}}{3 \\, {\\left(\\frac{\\epsilon_{1} \\mu \\omega^{2}}{h} - \\frac{\\epsilon_{2} \\mu \\omega^{2}}{h}\\right)}^{2} c h}$$"
      ],
      "text/plain": [
       "<IPython.core.display.Math object>"
      ]
     },
     "metadata": {},
     "output_type": "display_data"
    }
   ],
   "source": [
    "int_eps(z) = mu*omega^2*integrate(z*diff(eps(z), z)/sqrt(c^2*kappa^2 - mu*omega^2*eps(z)), z)/(c*z)\n",
    "display(Math(latex(int_eps(z))))\n",
    "display(Math(latex((z*int_eps(z)).subs(z==0))))\n",
    "display(Math(latex((z*int_eps(h)).subs(z==h))))"
   ]
  },
  {
   "cell_type": "code",
   "execution_count": 44,
   "metadata": {},
   "outputs": [
    {
     "data": {
      "text/latex": [
       "$$\\frac{2 \\, {\\left(3 \\, \\sqrt{c^{2} \\kappa^{2} - \\epsilon_{1} \\mu \\omega^{2} + \\frac{\\epsilon_{1} \\mu \\omega^{2} z}{h} - \\frac{\\epsilon_{2} \\mu \\omega^{2} z}{h}} c^{2} \\kappa^{2} - 3 \\, \\sqrt{c^{2} \\kappa^{2} - \\epsilon_{1} \\mu \\omega^{2} + \\frac{\\epsilon_{1} \\mu \\omega^{2} z}{h} - \\frac{\\epsilon_{2} \\mu \\omega^{2} z}{h}} \\epsilon_{1} \\mu \\omega^{2} - {\\left(c^{2} \\kappa^{2} - \\epsilon_{1} \\mu \\omega^{2} + \\frac{\\epsilon_{1} \\mu \\omega^{2} z}{h} - \\frac{\\epsilon_{2} \\mu \\omega^{2} z}{h}\\right)}^{\\frac{3}{2}}\\right)} {\\left(\\epsilon_{1} - \\epsilon_{2}\\right)} \\mu \\omega^{2}}{3 \\, {\\left(\\frac{\\epsilon_{1} \\mu \\omega^{2}}{h} - \\frac{\\epsilon_{2} \\mu \\omega^{2}}{h}\\right)}^{2} c h z} + \\frac{2 \\, \\sqrt{c^{2} \\kappa^{2} - \\mu \\omega^{2} z}}{c} + 2 \\, k\\left(z\\right) = 0$$"
      ],
      "text/plain": [
       "<IPython.core.display.Math object>"
      ]
     },
     "metadata": {},
     "output_type": "display_data"
    }
   ],
   "source": [
    "test_sol = int_eps(z) + 2*sqrt(c^2*kappa^2 - mu*omega^2*epsilon(z))/c + 2*k(z) == 0\n",
    "display(Math(latex(test_sol)))"
   ]
  },
  {
   "cell_type": "code",
   "execution_count": 45,
   "metadata": {},
   "outputs": [
    {
     "data": {
      "text/latex": [
       "$$-3 \\, \\mu \\omega^{2} k\\left(z\\right) + \\frac{3 \\, C \\mu \\omega^{2}}{z} + \\frac{2 \\, {\\left(c^{2} \\kappa^{2} - \\mu \\omega^{2} z - \\mu \\omega^{2}\\right)}^{\\frac{3}{2}}}{c z} = \\frac{e^{\\left(-C\\right)}}{c z}$$"
      ],
      "text/plain": [
       "<IPython.core.display.Math object>"
      ]
     },
     "metadata": {},
     "output_type": "display_data"
    }
   ],
   "source": [
    "display(Math(latex((1/exp(s[0].lhs())/c/z).expand() == 1/exp(s[0].rhs())/c/z)))"
   ]
  },
  {
   "cell_type": "code",
   "execution_count": null,
   "metadata": {},
   "outputs": [],
   "source": []
  }
 ],
 "metadata": {
  "kernelspec": {
   "display_name": "SageMath 9.1",
   "language": "sage",
   "name": "sagemath"
  },
  "language_info": {
   "codemirror_mode": {
    "name": "ipython",
    "version": 3
   },
   "file_extension": ".py",
   "mimetype": "text/x-python",
   "name": "python",
   "nbconvert_exporter": "python",
   "pygments_lexer": "ipython3",
   "version": "3.7.9"
  }
 },
 "nbformat": 4,
 "nbformat_minor": 2
}
