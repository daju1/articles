{
 "cells": [
  {
   "cell_type": "markdown",
   "metadata": {},
   "source": [
    "В данной работе я, развивая подход Казимира, показываю что по аналогии с обычным эффектом Казимира, когда на каждую из двух пластин действует приталкивающая сила Казимира как разность электромагнитных давлений квантовых колебаний вакуума нулевой температуры по разные стороны каждой из пластин, за счет того, что геометрия вакуумного резонатора во внутренней и во внешней области различна, можно попытаться создать разность электромагнитных давлений квантовых колебаний вакуума по разные стороны только лишь одной пластины за счет различия геометрии вакуумных резонаторов по обе ее стороны. Для этого на одной из поверхностей гладкой металлической пластины нужно вырастить наносоты."
   ]
  },
  {
   "cell_type": "markdown",
   "metadata": {},
   "source": [
    "https://www.dwc.knaw.nl/DL/publications/PU00018547.pdf\n",
    "\n",
    "Mathematics.\n",
    "\n",
    "# On the force to perfectly conducting honeycomb on a plate.\n",
    "\n",
    "By A. Ju. Drozdov\n",
    "\n",
    "(Feb 14. 2021. - Feb 09. 2022 - July 20 2022) "
   ]
  },
  {
   "cell_type": "markdown",
   "metadata": {},
   "source": [
    "Let us consider a cubic cavity of volume $L^3$ bounded by perfectly conducting walls and let a perfectly conducting square plate with side $L$ be\n",
    "placed in this cavity parallel to the $xy$ face and let us compare the\n",
    "situation in whieh this plate is at a very large, say $L/2$ distance a from the $xy$ face. \n",
    "\n",
    "One side of this perfectly conducting square plate is a pure plane and other is covered by perfectly conducting honeycomb.\n",
    "\n",
    "On both sided of the the plate\n",
    "expressions $\\frac{1}{2}\\sum\\,\\hbar\\omega$ where the summation extends over all possible\n",
    "resonance frequencies of the cavity $L/2\\times L\\times L$ (large cavity beetween pure plane and $xy$ face) and the cavity $L/2\\times a\\times a$ (small cavity, one honeycomb) are divergent and devoid of physical\n",
    "meaning but the difference between these sums on the opposite sides,\n",
    "$\\frac{1}{2\\,V_{I}}\\left(\\sum\\,\\,\\hbar\\omega\\right)_{I} - \\frac{1}{2\\,V_{II}}\\left(\\sum\\,\\,\\hbar\\omega\\right)_{II}$, will be shown to have a weIl defined value and this\n",
    "value will be interpreted as the interaction between the plate and the both\n",
    "$xy$ faces."
   ]
  },
  {
   "cell_type": "markdown",
   "metadata": {},
   "source": [
    "The possible vibrations of the cavities defined by "
   ]
  },
  {
   "cell_type": "markdown",
   "metadata": {},
   "source": [
    "$0<=x<=L$, $0<=y<=L$, $0<=z<=L/2$ (large cavity beetween pure plane and $xy$ face)"
   ]
  },
  {
   "cell_type": "markdown",
   "metadata": {},
   "source": [
    "and"
   ]
  },
  {
   "cell_type": "markdown",
   "metadata": {},
   "source": [
    "$0<=x<=a$, $0<=y<=a$, $0<=z<=L/2$ (small cavity, one honeycomb)"
   ]
  },
  {
   "cell_type": "markdown",
   "metadata": {},
   "source": [
    "have wave vectors"
   ]
  },
  {
   "cell_type": "markdown",
   "metadata": {},
   "source": [
    "$k_x = \\frac{\\pi}{L}\\,n_x$, $k_y = \\frac{\\pi}{L}\\,n_y$, $k_z = \\frac{\\pi}{L/2}\\,n_z$ (large cavity beetween pure plane and $xy$ face),"
   ]
  },
  {
   "cell_type": "markdown",
   "metadata": {},
   "source": [
    "and"
   ]
  },
  {
   "cell_type": "markdown",
   "metadata": {},
   "source": [
    "$k_x = \\frac{\\pi}{a}\\,n_x$, $k_y = \\frac{\\pi}{a}\\,n_y$, $k_z = \\frac{\\pi}{L/2}\\,n_z$ (small cavity, one honeycomb),\n",
    "\n",
    "where $n_x$. $n_y$, $n_z$:\n",
    "\n",
    "are positive integers;"
   ]
  },
  {
   "cell_type": "markdown",
   "metadata": {},
   "source": [
    "$k = \\sqrt{k_x^2+k_y^2+k_z^2} = \\sqrt{\\kappa^2+k_z^2}$. "
   ]
  },
  {
   "cell_type": "markdown",
   "metadata": {},
   "source": [
    "$E = \\frac{1}{2}\\sum\\,\\hbar\\omega = \\hbar\\,c\\frac{1}{2}\\sum\\limits_{n_x}^{}\\sum\\limits_{n_y}^{}\\sum\\limits_{n_z}^{}k$"
   ]
  },
  {
   "cell_type": "markdown",
   "metadata": {},
   "source": [
    "To every $k_x$, $k_y$, $k_z$ correspond two standing waves unless one of the $n_i$\n",
    "is zero, when there is only one."
   ]
  },
  {
   "cell_type": "markdown",
   "metadata": {},
   "source": [
    "In case of one honeycomb cavity for $k_z$ this is without importance since\n",
    "for very large $L/2$ we may regard $k_z$ as continuous variable. Thus we\n",
    "find "
   ]
  },
  {
   "cell_type": "markdown",
   "metadata": {},
   "source": [
    "$\\frac{1}{2}\\sum\\,\\hbar\\omega = \\hbar\\,c\\frac{1}{2}\\int\\limits_{0}^{\\infty}\\left[{\\sqrt{k_z^2}+2\\sum\\limits_{n_x=1}^{\\infty}\\sum\\limits_{n_y=1}^{\\infty}\\sqrt{n_x^2\\frac{\\pi^2}{a^2}+n_y^2\\frac{\\pi^2}{a^2}+k_z^2}}\\right]d{n_z}$  (small cavity, one honeycomb),"
   ]
  },
  {
   "cell_type": "markdown",
   "metadata": {},
   "source": [
    "$dn_z = \\frac{L/2}{\\pi}\\,dk_z$,"
   ]
  },
  {
   "cell_type": "markdown",
   "metadata": {},
   "source": [
    "$\\frac{1}{2\\,V}\\sum\\,\\hbar\\omega = \\frac{1}{a^2\\,L/2}\\hbar\\,c\\frac{1}{2}\\int\\limits_{0}^{\\infty}\\left[{\\sqrt{k_z^2}+2\\sum\\limits_{n_x=1}^{\\infty}\\sum\\limits_{n_y=1}^{\\infty}\\sqrt{n_x^2\\frac{\\pi^2}{a^2}+n_y^2\\frac{\\pi^2}{a^2}+k_z^2}}\\right]\\frac{L/2}{\\pi}\\,dk_z$  (small cavity, one honeycomb),"
   ]
  },
  {
   "cell_type": "markdown",
   "metadata": {},
   "source": [
    "$\\frac{1}{2\\,V}\\sum\\,\\hbar\\omega = \\frac{1}{a^2\\,\\pi}\\hbar\\,c\\int\\limits_{0}^{\\infty}\\left[{\\frac{1}{2}\\sqrt{k_z^2}+\\sum\\limits_{n_x=1}^{\\infty}\\sum\\limits_{n_y=1}^{\\infty}\\sqrt{n_x^2\\frac{\\pi^2}{a^2}+n_y^2\\frac{\\pi^2}{a^2}+k_z^2}}\\right]\\,dk_z$  (small cavity, one honeycomb),"
   ]
  },
  {
   "cell_type": "markdown",
   "metadata": {},
   "source": [
    "$\\frac{1}{2\\,V}\\sum\\,\\hbar\\omega = \\frac{1}{a^2\\,\\pi}\\hbar\\,c\\int\\limits_{0}^{\\infty}\\left[{\\sum\\limits_{n_x=(0)1}^{\\infty}\\sum\\limits_{n_y=(0)1}^{\\infty}\\sqrt{n_x^2\\frac{\\pi^2}{a^2}+n_y^2\\frac{\\pi^2}{a^2}+k_z^2}}\\right]\\,dk_z$  (small cavity, one honeycomb),"
   ]
  },
  {
   "cell_type": "markdown",
   "metadata": {},
   "source": [
    "where the notation $\\left(0\\right) 1$ is meant to indicate that the term with $n_x = 0$ and $n_y = 0$\n",
    "has to be multiplied by $\\frac{1}{2}$. "
   ]
  },
  {
   "cell_type": "markdown",
   "metadata": {},
   "source": [
    "$\\frac{1}{2\\,V}\\sum\\,\\hbar\\omega = \\frac{1}{a^2\\,\\pi}\\hbar\\,c\\sum\\limits_{n_x=(0)1}^{\\infty}\\sum\\limits_{n_y=(0)1}^{\\infty}\\left[\\int\\limits_{0}^{\\infty}\\sqrt{n_x^2\\frac{\\pi^2}{a^2}+n_y^2\\frac{\\pi^2}{a^2}+k_z^2}\\,dk_z\\right]$  (small cavity, one honeycomb),"
   ]
  },
  {
   "cell_type": "code",
   "execution_count": null,
   "metadata": {},
   "outputs": [],
   "source": []
  },
  {
   "cell_type": "markdown",
   "metadata": {},
   "source": [
    "And in case of large cavity for $k_x$, $k_y$ this is without importance since\n",
    "for very large $L$ we may regard $k_x$, $k_y$ as continuous variables. Thus we\n",
    "find "
   ]
  },
  {
   "cell_type": "markdown",
   "metadata": {},
   "source": [
    "$\\frac{1}{2}\\sum\\,\\hbar\\omega = \\hbar\\,c\\frac{1}{2}\\int\\limits_{0}^{\\infty}\\int\\limits_{0}^{\\infty}\\left[{\\sqrt{k_x^2+k_y^2}+2\\sum\\limits_{n_z=1}^{\\infty}\\sqrt{n_z^2\\frac{\\pi^2}{(L/2)^2}+k_x^2+k_y^2}}\\right]d{n_x}d{n_y}$ (large cavity beetween pure plane and $xy$ face),"
   ]
  },
  {
   "cell_type": "markdown",
   "metadata": {},
   "source": [
    "For very large $L/2$ also this last summation may\n",
    "be replaced by an integral and it is therefore easily seen that our interaction energy is given by "
   ]
  },
  {
   "cell_type": "markdown",
   "metadata": {},
   "source": [
    "$\\frac{1}{2}\\sum\\,\\hbar\\omega = \\hbar\\,c\\int\\limits_{0}^{\\infty}\\int\\limits_{0}^{\\infty}\\int\\limits_{0}^{\\infty}\\sqrt{k_z^2+k_x^2+k_y^2}\\,d{n_x}\\,d{n_y}\\,d{n_z}$ (large cavity beetween pure plane and $xy$ face),"
   ]
  },
  {
   "cell_type": "markdown",
   "metadata": {},
   "source": [
    "$dn_x = \\frac{L}{\\pi}\\,dk_x$, $dn_y = \\frac{L}{\\pi}\\,dk_y$, $dn_z = \\frac{L/2}{\\pi}\\,dk_z$,"
   ]
  },
  {
   "cell_type": "markdown",
   "metadata": {},
   "source": [
    "$\\frac{1}{2\\,V}\\sum\\,\\hbar\\omega = \\frac{1}{L^3/2}\\hbar\\,c\\int\\limits_{0}^{\\infty}\\int\\limits_{0}^{\\infty}\\int\\limits_{0}^{\\infty}\\sqrt{k_z^2+k_x^2+k_y^2}\\,dn_x\\,dn_y\\,\\frac{L/2}{\\pi}\\,dk_z$ (large cavity beetween pure plane and $xy$ face),"
   ]
  },
  {
   "cell_type": "markdown",
   "metadata": {},
   "source": [
    "$\\frac{1}{2\\,V}\\sum\\,\\hbar\\omega = \\frac{1}{L^2\\,\\pi}\\hbar\\,c\\int\\limits_{0}^{\\infty}\\int\\limits_{0}^{\\infty}\\left[\\,\\int\\limits_{0}^{\\infty}\\sqrt{k_z^2+k_x^2+k_y^2}\\,dk_z\\right]\\,dn_x\\,dn_y$ (large cavity beetween pure plane and $xy$ face),"
   ]
  },
  {
   "cell_type": "code",
   "execution_count": null,
   "metadata": {},
   "outputs": [],
   "source": []
  },
  {
   "cell_type": "markdown",
   "metadata": {},
   "source": [
    "$\\frac{1}{2\\,V}\\sum\\,\\hbar\\omega = \\frac{1}{a^2\\,\\pi}\\hbar\\,c\\sum\\limits_{n_x=(0)1}^{\\infty}\\sum\\limits_{n_y=(0)1}^{\\infty}\\left[\\,\\int\\limits_{0}^{\\infty}\\sqrt{n_x^2\\frac{\\pi^2}{a^2}+n_y^2\\frac{\\pi^2}{a^2}+k_z^2}\\,dk_z\\right]$  (small cavity, one honeycomb),"
   ]
  },
  {
   "cell_type": "markdown",
   "metadata": {},
   "source": [
    "$\\frac{1}{2\\,V}\\sum\\,\\hbar\\omega = \\frac{1}{L^2\\,\\pi}\\hbar\\,c\\int\\limits_{0}^{\\infty}\\int\\limits_{0}^{\\infty}\\left[\\,\\int\\limits_{0}^{\\infty}\\sqrt{k_x^2+k_y^2+k_z^2}\\,dk_z\\right]\\,dn_x\\,dn_y$ (large cavity beetween pure plane and $xy$ face),"
   ]
  },
  {
   "cell_type": "markdown",
   "metadata": {},
   "source": [
    "$\\frac{1}{2\\,V}\\sum\\,\\hbar\\omega = \\frac{1}{L^2\\,\\pi}\\hbar\\,c\\int\\limits_{0}^{\\infty}\\int\\limits_{0}^{\\infty}\\left[\\,\\int\\limits_{0}^{\\infty}\\sqrt{k_x^2+k_y^2+k_z^2}\\,dk_z\\right]\\,\\left(\\frac{L}{\\pi}dk_x\\right)\\,\\left(\\frac{L}{\\pi}dk_y\\right)$ (large cavity beetween pure plane and $xy$ face),"
   ]
  },
  {
   "cell_type": "markdown",
   "metadata": {},
   "source": [
    "$\\frac{a^2}{2\\,V}\\sum\\,\\hbar\\omega = \\frac{1}{\\pi}\\hbar\\,c\\int\\limits_{0}^{\\infty}\\int\\limits_{0}^{\\infty}\\left[\\,\\int\\limits_{0}^{\\infty}\\sqrt{k_x^2+k_y^2+k_z^2}\\,dk_z\\right]\\,\\left(\\frac{a}{\\pi}dk_x\\right)\\,\\left(\\frac{a}{\\pi}dk_y\\right)$ (large cavity beetween pure plane and $xy$ face),"
   ]
  },
  {
   "cell_type": "markdown",
   "metadata": {},
   "source": [
    "$\\frac{1}{2\\,V}\\sum\\,\\hbar\\omega = \\frac{1}{a^2\\,\\pi}\\hbar\\,c\\int\\limits_{0}^{\\infty}\\int\\limits_{0}^{\\infty}\\left[\\,\\int\\limits_{0}^{\\infty}\\sqrt{k_x^2+k_y^2+k_z^2}\\,dk_z\\right]\\,\\left(\\frac{a}{\\pi}dk_x\\right)\\,\\left(\\frac{a}{\\pi}dk_y\\right)$ (large cavity beetween pure plane and $xy$ face),"
   ]
  },
  {
   "cell_type": "markdown",
   "metadata": {},
   "source": [
    "it is therefore easily seen that our interaction energy is given by "
   ]
  },
  {
   "cell_type": "markdown",
   "metadata": {},
   "source": [
    "$\\delta\\,\\frac{E}{V} = \\frac{1}{a^2\\,\\pi}\\hbar\\,c\\left\\{\\sum\\limits_{n_x=(0)1}^{\\infty}\\sum\\limits_{n_y=(0)1}^{\\infty}\\left[\\,\\int\\limits_{0}^{\\infty}\\sqrt{n_x^2\\frac{\\pi^2}{a^2}+n_y^2\\frac{\\pi^2}{a^2}+k_z^2}\\,dk_z\\right] - \\int\\limits_{0}^{\\infty}\\int\\limits_{0}^{\\infty}\\left[\\,\\int\\limits_{0}^{\\infty}\\sqrt{k_x^2+k_y^2+k_z^2}\\,dk_z\\right]\\,\\left(\\frac{a}{\\pi}dk_x\\right)\\,\\left(\\frac{a}{\\pi}dk_y\\right)\\right\\}$"
   ]
  },
  {
   "cell_type": "markdown",
   "metadata": {},
   "source": [
    "$\\delta\\,\\frac{E}{V} = \\frac{1}{a^2\\,\\pi}\\hbar\\,c\\left\\{\\sum\\limits_{n_x=(0)1}^{\\infty}\\sum\\limits_{n_y=(0)1}^{\\infty}\\left[\\,\\int\\limits_{0}^{\\infty}\\sqrt{n_x^2\\frac{\\pi^2}{a^2}+n_y^2\\frac{\\pi^2}{a^2}+k_z^2}\\,dk_z\\right] - \\int\\limits_{0}^{\\infty}\\int\\limits_{0}^{\\infty}\\left[\\,\\int\\limits_{0}^{\\infty}\\sqrt{k_x^2+k_y^2+k_z^2}\\,dk_z\\right]\\,dn_x\\,dn_y\\right\\}$"
   ]
  },
  {
   "cell_type": "code",
   "execution_count": null,
   "metadata": {},
   "outputs": [],
   "source": []
  },
  {
   "cell_type": "markdown",
   "metadata": {},
   "source": [
    "${\\left(\\frac{E}{V}\\right)_{small\\,cavity} = \\frac{1}{a^2}\\hbar \\, \\sum\\limits_{n_x=(0)1}^{\\infty}\\sum\\limits_{n_y=(0)1}^{\\infty}\\,\\int\\limits_{0}^{\\infty} {\\frac {dk_{z}}{\\pi}}\\omega _{n_x,n_y}.}$"
   ]
  },
  {
   "cell_type": "markdown",
   "metadata": {},
   "source": [
    "where $\\omega _{n_x,n_y} = c\\,\\sqrt{n_x^2\\frac{\\pi^2}{a^2}+n_y^2\\frac{\\pi^2}{a^2}+k_z^2}$"
   ]
  },
  {
   "cell_type": "markdown",
   "metadata": {},
   "source": [
    "This expression is clearly infinite, and to proceed with the calculation, it is convenient to introduce a regulator."
   ]
  },
  {
   "cell_type": "markdown",
   "metadata": {},
   "source": [
    "In order to obtain a finite result it is necessary to multiply the integrands\n",
    "by a function $f(k/k_m)$ which is unity for $k << k_m$ but tends to zero sufficiently rapidly for $(k/k_m)\\, \\rightarrow\\,\\infty$. where $k_m$ may be defined by $f(1) = \\frac{1}{2}$.\n",
    "The physical meaning is obvious: for very short waves (X~rays e.g.)\n",
    "our plate is hardly an obstacle at all and therefore the zero point energy\n",
    "of these waves will not be influenced by the position of this plate. "
   ]
  },
  {
   "cell_type": "markdown",
   "metadata": {},
   "source": [
    "The regulator will serve to make the expression finite, and in the end will be removed. The regulated version of the energy per unit-area of the plate is"
   ]
  },
  {
   "cell_type": "markdown",
   "metadata": {},
   "source": [
    "Introducing the variable $u^2 = a^2\\,k_z^2/\\pi^2$"
   ]
  },
  {
   "cell_type": "markdown",
   "metadata": {},
   "source": [
    "$du = a/\\pi\\,dk_z$"
   ]
  },
  {
   "cell_type": "markdown",
   "metadata": {},
   "source": [
    "\\begin{equation}\n",
    "\\delta\\,\\frac{E}{V} = \\frac{\\hbar\\,c\\,\\pi}{a^4}\\left\\{\n",
    "\\sum\\limits_{n_x=\\left(0\\right)\\,1}^{\\infty}\n",
    "\\sum\\limits_{n_y=\\left(0\\right)\\,1}^{\\infty}\n",
    "\\int\\limits_{0}^{\\infty}\n",
    "{\\sqrt{n_x^2 + n_y^2 + u^2}}\n",
    "f\\left(\\frac{\\pi\\sqrt{n_x^2 + n_y^2 + u^2}}{a\\,k_m}\\right)\n",
    "\\,d{u}\n",
    "-\n",
    "\\int\\limits_{0}^{\\infty}\n",
    "\\int\\limits_{0}^{\\infty}\n",
    "\\int\\limits_{0}^{\\infty}\n",
    "{\\sqrt{n_x^2 + n_y^2 + u^2}}\n",
    "f\\left(\\frac{\\pi\\sqrt{n_x^2 + n_y^2 + u^2}}{a\\,k_m}\\right)\n",
    "\\,d{u}\\,d{n_x}\\,d{n_y}\n",
    "\\right\\}\n",
    "\\end{equation}"
   ]
  },
  {
   "cell_type": "markdown",
   "metadata": {},
   "source": [
    "\\begin{equation}\n",
    "\\delta\\,\\frac{E}{V} = \\frac{\\hbar\\,c\\,\\pi}{a^4}\n",
    "\\int\\limits_{0}^{\\infty}\n",
    "\\left\\{\n",
    "\\sum\\limits_{n_x=\\left(0\\right)\\,1}^{\\infty}\n",
    "\\sum\\limits_{n_y=\\left(0\\right)\\,1}^{\\infty}\n",
    "{\\sqrt{n_x^2 + n_y^2 + u^2}}\n",
    "f\\left(\\frac{\\pi\\sqrt{n_x^2 + n_y^2 + u^2}}{a\\,k_m}\\right)\n",
    "-\n",
    "\\int\\limits_{0}^{\\infty}\n",
    "\\int\\limits_{0}^{\\infty}\n",
    "{\\sqrt{n_x^2 + n_y^2 + u^2}}\n",
    "f\\left(\\frac{\\pi\\sqrt{n_x^2 + n_y^2 + u^2}}{a\\,k_m}\\right)\n",
    "\\,d{n_x}\\,d{n_y}\n",
    "\\right\\}\n",
    "\\,d{u}\n",
    "\\end{equation}"
   ]
  },
  {
   "cell_type": "markdown",
   "metadata": {},
   "source": [
    "\\begin{equation}\n",
    "F\\left(n_x, n_y\\right) = \n",
    "\\sqrt{n_x^2 + n_y^2+u^2}\\,\n",
    "f\\left(\\frac{\\pi\\sqrt{n_x^2 + n_y^2+u^2}}{a\\,k_m}\\right)\n",
    "\\end{equation}"
   ]
  },
  {
   "cell_type": "markdown",
   "metadata": {},
   "source": [
    "\\begin{equation}\n",
    "\\delta\\,\\frac{E}{V} = \\frac{\\hbar\\,c\\,\\pi}{a^4}\n",
    "\\int\\limits_{0}^{\\infty}{\n",
    "\\left\\{\n",
    "\\sum\\limits_{n_x=\\left(0\\right)\\,1}^{\\infty}\n",
    "\\sum\\limits_{n_y=\\left(0\\right)\\,1}^{\\infty}\n",
    "F\\left(n_x, n_y\\right)\n",
    "-\n",
    "\\int\\limits_{0}^{\\infty}\n",
    "\\int\\limits_{0}^{\\infty}\n",
    "F\\left(n_x, n_y\\right)\\,d{n_x}\\,d{n_y}\n",
    "\\right\\}\n",
    "}\\,d{u}\n",
    "\\end{equation}"
   ]
  },
  {
   "cell_type": "code",
   "execution_count": 1,
   "metadata": {},
   "outputs": [],
   "source": [
    "from IPython.display import display, Math, Latex\n",
    "def disp(ex):\n",
    "    display(Math(latex(ex)))"
   ]
  },
  {
   "cell_type": "code",
   "execution_count": 2,
   "metadata": {},
   "outputs": [
    {
     "name": "stdout",
     "output_type": "stream",
     "text": [
      "[<function maxima_integrator at 0x7f591adcfa30>, <function giac_integrator at 0x7f591adcfc70>, <function sympy_integrator at 0x7f591adcfac0>]\n"
     ]
    }
   ],
   "source": [
    "from sage.symbolic.integration.integral import definite_integral\n",
    "if 'definite_integral_integrators' not in globals():\n",
    "    definite_integral_integrators = definite_integral.integrators\n",
    "print(definite_integral_integrators)"
   ]
  },
  {
   "cell_type": "code",
   "execution_count": 88,
   "metadata": {},
   "outputs": [
    {
     "name": "stdout",
     "output_type": "stream",
     "text": [
      "[<function sympy_integrator at 0x7f591adcfac0>]\n"
     ]
    }
   ],
   "source": [
    "# workaround remove giac from integrators\n",
    "definite_integral.integrators = []\n",
    "#definite_integral.integrators += [definite_integral_integrators[0]]\n",
    "definite_integral.integrators += [definite_integral_integrators[2]]\n",
    "print(definite_integral.integrators)"
   ]
  },
  {
   "cell_type": "code",
   "execution_count": 4,
   "metadata": {},
   "outputs": [],
   "source": [
    "n_x = var(\"n_x\")\n",
    "assume(n_x, \"real\")\n",
    "assume(n_x > 0)\n",
    "n_y = var(\"n_y\")\n",
    "assume(n_y, \"real\")\n",
    "assume(n_y > 0)\n",
    "n_z = var(\"n_z\")"
   ]
  },
  {
   "cell_type": "code",
   "execution_count": 5,
   "metadata": {},
   "outputs": [],
   "source": [
    "#u = a*k_z/(pi)\n",
    "u = var(\"u\")"
   ]
  },
  {
   "cell_type": "code",
   "execution_count": 6,
   "metadata": {},
   "outputs": [],
   "source": [
    "a = var(\"a\")\n",
    "assume(a, 'real')\n",
    "assume(a>0)\n",
    "\n",
    "L = var(\"L\")\n",
    "\n",
    "k_x = var(\"k_x\")\n",
    "k_y = var(\"k_y\")\n",
    "k_z = var(\"k_z\")"
   ]
  },
  {
   "cell_type": "code",
   "execution_count": 7,
   "metadata": {},
   "outputs": [],
   "source": [
    "k_x = pi * n_x / a\n",
    "k_y = pi * n_y / a\n",
    "k_z = pi * n_z / (L/2)"
   ]
  },
  {
   "cell_type": "code",
   "execution_count": 8,
   "metadata": {},
   "outputs": [],
   "source": [
    "k_m = var(\"k_m\")\n",
    "assume(k_m, 'real')\n",
    "assume(k_m > 0)"
   ]
  },
  {
   "cell_type": "code",
   "execution_count": 9,
   "metadata": {},
   "outputs": [],
   "source": [
    "f = function('f')(var(\"k_km\"))\n",
    "fn = lambda k_km : 1 / (1 + (k_km)^4)"
   ]
  },
  {
   "cell_type": "markdown",
   "metadata": {},
   "source": [
    "$k_m$ may be defined by $f(1) = \\frac{1}{2}$."
   ]
  },
  {
   "cell_type": "code",
   "execution_count": 10,
   "metadata": {},
   "outputs": [
    {
     "data": {
      "text/plain": [
       "1/2"
      ]
     },
     "execution_count": 10,
     "metadata": {},
     "output_type": "execute_result"
    }
   ],
   "source": [
    "fn(1)"
   ]
  },
  {
   "cell_type": "code",
   "execution_count": 11,
   "metadata": {},
   "outputs": [
    {
     "data": {
      "image/png": "[encoded data removed]",
      "text/plain": [
       "Graphics object consisting of 1 graphics primitive"
      ]
     },
     "execution_count": 11,
     "metadata": {},
     "output_type": "execute_result"
    }
   ],
   "source": [
    "plot(fn(x), (x, 0, 3))"
   ]
  },
  {
   "cell_type": "markdown",
   "metadata": {},
   "source": [
    "If $\\omega _{n_x,n_y} = c\\,\\sqrt{n_x^2\\frac{\\pi^2}{a^2}+n_y^2\\frac{\\pi^2}{a^2}+k_z^2}$\n",
    "\n",
    "and \n",
    "\n",
    "$k_z^2 = u^2 \\frac{\\pi^2}{a^2}$\n",
    "\n",
    "we have\n",
    "\n",
    "$\\omega _{n_x,n_y} = c \\, \\frac{\\pi}{a} \\sqrt{n_x^2+n_y^2+u^2}$\n",
    "\n",
    "so\n",
    "\n",
    "$f\\left(\\frac{\\pi\\sqrt{n_x^2 + n_y^2+u^2}}{a\\,k_m}\\right) = f\\left(\\frac{\\omega _{n_x,n_y}}{c\\,k_m}\\right)$\n",
    "\n",
    "and\n",
    "\n",
    "$\\omega_m = c\\,k_m$"
   ]
  },
  {
   "cell_type": "code",
   "execution_count": 12,
   "metadata": {},
   "outputs": [
    {
     "data": {
      "text/latex": [
       "$\\displaystyle \\sqrt{n_{x}^{2} + n_{y}^{2} + u^{2}} f\\left(\\frac{\\pi \\sqrt{n_{x}^{2} + n_{y}^{2} + u^{2}}}{a k_{m}}\\right)$"
      ],
      "text/plain": [
       "<IPython.core.display.Math object>"
      ]
     },
     "metadata": {},
     "output_type": "display_data"
    },
    {
     "data": {
      "text/plain": [
       "sqrt(n_x^2 + n_y^2 + u^2)*f(pi*sqrt(n_x^2 + n_y^2 + u^2)/(a*k_m))"
      ]
     },
     "execution_count": 12,
     "metadata": {},
     "output_type": "execute_result"
    }
   ],
   "source": [
    "Fu = lambda u, n_x, n_y, a, k_m : sqrt(n_x^2 + n_y^2 + u^2)*f(k_km=pi*sqrt(n_x^2 + n_y^2 + u^2)/(a*k_m))\n",
    "display(Math(latex(Fu(u, n_x, n_y, a, k_m))))\n",
    "Fu(u, n_x, n_y, a, k_m)"
   ]
  },
  {
   "cell_type": "code",
   "execution_count": 13,
   "metadata": {},
   "outputs": [
    {
     "data": {
      "text/latex": [
       "$\\displaystyle \\frac{\\sqrt{n_{x}^{2} + n_{y}^{2} + u^{2}}}{\\frac{\\pi^{4} {\\left(n_{x}^{2} + n_{y}^{2} + u^{2}\\right)}^{2}}{a^{4} k_{m}^{4}} + 1}$"
      ],
      "text/plain": [
       "<IPython.core.display.Math object>"
      ]
     },
     "metadata": {},
     "output_type": "display_data"
    },
    {
     "data": {
      "text/plain": [
       "sqrt(n_x^2 + n_y^2 + u^2)/(pi^4*(n_x^2 + n_y^2 + u^2)^2/(a^4*k_m^4) + 1)"
      ]
     },
     "execution_count": 13,
     "metadata": {},
     "output_type": "execute_result"
    }
   ],
   "source": [
    "Fn = lambda u, n_x, n_y, a, k_m : sqrt(n_x^2 + n_y^2 + u^2)*fn(k_km=pi*sqrt(n_x^2 + n_y^2 + u^2)/(a*k_m))\n",
    "display(Math(latex(Fn(u, n_x, n_y, a, k_m))))\n",
    "Fn(u, n_x, n_y, a, k_m)"
   ]
  },
  {
   "cell_type": "code",
   "execution_count": 14,
   "metadata": {},
   "outputs": [],
   "source": [
    "def num_int(f, a, b, v, logging=False):\n",
    "    from scipy import integrate\n",
    "\n",
    "    try:\n",
    "        if logging:\n",
    "            try:\n",
    "                print (\"v = \", v, f(v).variables(), \"integrand = \", f(v))\n",
    "            except Exception as ex2:\n",
    "                print (\"Exception ex2 = \", ex2)\n",
    "            \n",
    "        integral = integrate.quad(f, a, b)\n",
    "\n",
    "        result = integral[0]\n",
    "        return result\n",
    "\n",
    "    except Exception as ex:\n",
    "\n",
    "        if \"unable to simplify to float approximation\" == str(ex):\n",
    "            from sage.symbolic.integration.integral import definite_integral\n",
    "            return definite_integral(f(v), v, a, b, hold=True)\n",
    "\n",
    "        print (\"Exception ex = \", str(ex))\n",
    "        print (\"f = \", f)\n",
    "        try:\n",
    "            print (\"v = \", v, \"integrand = \", f(v))\n",
    "        except Exception as ex2:\n",
    "            print (\"Exception ex2 = \", ex2)\n",
    "\n",
    "        print (\"a, b = \", a, \",\", b)\n",
    "        try:\n",
    "            print (\"f(a) = \", f(a))\n",
    "        except:\n",
    "            pass\n",
    "        try:\n",
    "            print (\"f(b) = \", f(b))\n",
    "        except:\n",
    "            pass\n",
    "\n",
    "        import inspect\n",
    "        stack = inspect.stack()\n",
    "        for frame in stack:\n",
    "            func_name = frame[3]\n",
    "            print (\"func_name = \", func_name)\n",
    "\n",
    "        raise ex"
   ]
  },
  {
   "cell_type": "code",
   "execution_count": 15,
   "metadata": {},
   "outputs": [],
   "source": [
    "Ia = lambda n_x, n_y, a, k_m : num_int(lambda u: Fn(u, n_x, n_y, a, k_m), 0, Infinity, v=u)"
   ]
  },
  {
   "cell_type": "code",
   "execution_count": 16,
   "metadata": {},
   "outputs": [],
   "source": [
    "from sage.symbolic.integration.integral import definite_integral\n",
    "In = definite_integral(Fu(u, n_x, n_y, a = 1, k_m = 1), u, 0, Infinity, hold=True)"
   ]
  },
  {
   "cell_type": "code",
   "execution_count": 17,
   "metadata": {},
   "outputs": [],
   "source": [
    "IIa = lambda n_y, a, k_m : num_int(lambda n_x: Ia(n_x, n_y, a, k_m), 0, Infinity, v=n_x)"
   ]
  },
  {
   "cell_type": "code",
   "execution_count": 18,
   "metadata": {},
   "outputs": [],
   "source": [
    "IIIa = lambda a, k_m : num_int(lambda n_y: IIa(n_y, a, k_m), 0, Infinity, v=n_y)"
   ]
  },
  {
   "cell_type": "code",
   "execution_count": 19,
   "metadata": {},
   "outputs": [
    {
     "data": {
      "image/png": "[encoded data removed]",
      "text/plain": [
       "Graphics object consisting of 1 graphics primitive"
      ]
     },
     "metadata": {},
     "output_type": "display_data"
    }
   ],
   "source": [
    "plot_data_Ia = []\n",
    "\n",
    "for nx in (0.01, 0.02, 0.03, 0.04, 0.05, 0.1, 0.2, 0.3, 0.4, 0.5, 1.0, 1.5, 2.0, 2.5, 3.0, 3.5, 4.0, 4.5, 5.0, 5.5, 6, 7, 8, 9, 10):\n",
    "    plot_data_Ia += [(nx, Ia (n_x=nx, n_y=1, k_m=10, a=1))]\n",
    "    \n",
    "list_plot(plot_data_Ia).show()"
   ]
  },
  {
   "cell_type": "code",
   "execution_count": 20,
   "metadata": {},
   "outputs": [],
   "source": [
    "def sum_Ia(n_y, a, k_m, N):\n",
    "    S = 0.5 * Ia(n_x=0, n_y=n_y, a=a, k_m=k_m)\n",
    "    for i in range(1,N+1):\n",
    "        S += Ia(n_x=i, n_y=n_y, a=a, k_m=k_m)\n",
    "    return S"
   ]
  },
  {
   "cell_type": "code",
   "execution_count": 21,
   "metadata": {},
   "outputs": [],
   "source": [
    "def dsum_Ia(n_y, a, k_m, N1, N2):\n",
    "    S = 0\n",
    "    for i in range(N1,N2+1):\n",
    "        S += Ia(n_x=i, n_y=n_y, a=a, k_m=k_m)\n",
    "    return S"
   ]
  },
  {
   "cell_type": "raw",
   "metadata": {},
   "source": [
    "sum_Ia(n_y = 1, a = 1, k_m = 1, N = 20)"
   ]
  },
  {
   "cell_type": "raw",
   "metadata": {},
   "source": [
    "sum_Ia(n_y = 1, a = 1, k_m = 1, N = 10) + dsum_Ia(n_y = 1, a = 1, k_m = 1, N1 = 11, N2=20)"
   ]
  },
  {
   "cell_type": "code",
   "execution_count": 22,
   "metadata": {},
   "outputs": [],
   "source": [
    "def plot_sum_minus_int(km, N_list):\n",
    "\n",
    "    ii1 = IIa (n_y = 1, a = 1, k_m = km)\n",
    "    print(ii1)\n",
    "\n",
    "    plot_data_sum_Ia = []\n",
    "    plot_data_sum_Ia_ii = []\n",
    "    \n",
    "    i_point = 0\n",
    "\n",
    "    for N in N_list:\n",
    "        if 0 == i_point:\n",
    "            sum1 = sum_Ia (n_y = 1, a = 1, k_m = km, N = N)\n",
    "        else:\n",
    "            sum1 += dsum_Ia (n_y = 1, a = 1, k_m = km, N1 = N_stored+1, N2 = N)\n",
    "            \n",
    "        N_stored = N\n",
    "        \n",
    "        print (N, log(N, 10), sum1, sum1 - ii1)\n",
    "        plot_data_sum_Ia += [(log(N, 10), sum1)]\n",
    "        plot_data_sum_Ia_ii += [(log(N, 10), sum1 - ii1)]\n",
    "        \n",
    "        if i_point > 2:\n",
    "            #list_plot(plot_data_sum_Ia).show()\n",
    "            #list_plot(plot_data_sum_Ia_ii).show()\n",
    "            pass\n",
    "\n",
    "        i_point += 1\n",
    "\n",
    "    list_plot(plot_data_sum_Ia_ii).show()"
   ]
  },
  {
   "cell_type": "raw",
   "metadata": {},
   "source": [
    "plot_sum_minus_int(km=1, N_list = (100, 200, 300, 400, 500, 1000, 5000, 10000))"
   ]
  },
  {
   "cell_type": "raw",
   "metadata": {},
   "source": [
    "plot_sum_minus_int(km=2, N_list = (100, 200, 300, 400, 500, 1000, 5000, 10000))"
   ]
  },
  {
   "cell_type": "raw",
   "metadata": {},
   "source": [
    "plot_sum_minus_int(km=3, N_list = (100, 200, 300, 400, 500, 1000, 5000, 10000, 100000))"
   ]
  },
  {
   "cell_type": "raw",
   "metadata": {},
   "source": [
    "plot_sum_minus_int(km=10, N_list = (1000, 10000, 100000, 1000000))"
   ]
  },
  {
   "cell_type": "code",
   "execution_count": 23,
   "metadata": {},
   "outputs": [],
   "source": [
    "def sum_sum_Ia(a, k_m, N):\n",
    "    S = 0.5 * sum_Ia(n_y=0, a=a, k_m=k_m, N = N)\n",
    "    for j in range(1,N+1):\n",
    "        S += sum_Ia(n_y=j, a=a, k_m=k_m, N = N)\n",
    "    return S\n",
    "    \n",
    "    \n",
    "#sum_sum_Ia(a = 1, k_m = 1, N = 10)"
   ]
  },
  {
   "cell_type": "raw",
   "metadata": {},
   "source": [
    "iii1 = IIIa (a=1, k_m=1)\n",
    "iii1"
   ]
  },
  {
   "cell_type": "raw",
   "metadata": {},
   "source": [
    "plot_data_sum_sum_Ia = []\n",
    "plot_data_sum_sum_Ia_iii = []\n",
    "\n",
    "for N in (1, 5, 10, 20, 30, 40, 50, 100, 300):\n",
    "    sumsum = sum_sum_Ia (a = 1, k_m = 1, N = N)\n",
    "    print (N, sumsum, sumsum-iii1)\n",
    "    plot_data_sum_sum_Ia += [(N, sumsum)]\n",
    "    plot_data_sum_sum_Ia_iii += [(N, sumsum-iii1)]\n",
    "    \n",
    "list_plot(plot_data_sum_sum_Ia).show()\n",
    "list_plot(plot_data_sum_sum_Ia_iii).show()"
   ]
  },
  {
   "cell_type": "markdown",
   "metadata": {},
   "source": [
    "# Euler–Maclaurin 2D formula"
   ]
  },
  {
   "cell_type": "code",
   "execution_count": 24,
   "metadata": {},
   "outputs": [],
   "source": [
    "logging = False\n",
    "\n",
    "calc_R_p=True\n",
    "\n",
    "def my_euler_maclaurin1(f,symb,a,b,p, f_diff_symb_p=None):\n",
    "    if logging:\n",
    "        print(\"f\", f)\n",
    "        print(\"symb,a,b\", symb, a, b)\n",
    "        print(\"\")\n",
    "\n",
    "\n",
    "    sum_dfdx_a_bernoullis = sum([(f.diff(symb,2*k-1))*(bernoulli(2*k)/factorial(2*k)) for k in range(1,1+int(p/2))])\n",
    "    if logging:\n",
    "        print(\"sum_dfdx_a_bernoullis\", sum_dfdx_a_bernoullis)\n",
    "        print(\"sum_dfdx_a_bernoullis(a)\", sum_dfdx_a_bernoullis.subs(symb == a))\n",
    "        if Infinity != b:\n",
    "            print(\"sum_dfdx_a_bernoullis(b)\", sum_dfdx_a_bernoullis.subs(symb == b))\n",
    "\n",
    "    if True:\n",
    "        B = lambda x, p : bernoulli_polynomial(x, p)\n",
    "        P = lambda x, p : bernoulli_polynomial(x - floor(x), p)\n",
    "        fact = lambda n : factorial(n)\n",
    "    else:\n",
    "        B = function(\"B\")(x,p)\n",
    "        P = function(\"P\")(x,p)\n",
    "        fact = function(\"fact\")(n)\n",
    "        \n",
    "    if True == calc_R_p:\n",
    "        # Can't calculate derivative wrt j + u.\n",
    "        #int_R_p = lambda j : integral(f.diff(symb,p).subs(symb == u+j) * bernoulli_polynomial(u,p)/factorial(p), (u,0,1))\n",
    "        def int_R_p(f,symb,j):\n",
    "            v = var(\"v\")            \n",
    "            if None == f_diff_symb_p:\n",
    "                deriv = f.diff(symb,p)\n",
    "            else:\n",
    "                deriv = f_diff_symb_p\n",
    "            if logging:\n",
    "                print(\"deriv\", deriv)\n",
    "            deriv_s = deriv.subs(symb == v+j)\n",
    "            if logging:\n",
    "                print(\"deriv_s\", deriv_s)\n",
    "            int_f_diff_B_fact = integral(deriv_s * bernoulli_polynomial(v,p)/factorial(p), (v,0,1))\n",
    "            if logging:\n",
    "                print(\"int_f_diff_B_fact\", int_f_diff_B_fact)\n",
    "            return int_f_diff_B_fact\n",
    "        \n",
    "        def int_R_p_shifted_first(f,symb,j):\n",
    "            v = var(\"v\")\n",
    "            fn_shifted = f.subs(symb == v + j)\n",
    "            if logging:\n",
    "                print(\"fn_shifted\", fn_shifted)\n",
    "            deriv = fn_shifted.diff(v,p)\n",
    "            if logging:\n",
    "                print(\"deriv\", deriv)\n",
    "            int_f_diff_B_fact = integral(deriv * B(x=v,p=p)/fact(n=p), (v,0,1))\n",
    "    \n",
    "            if logging:\n",
    "                print(\"int_f_diff_B_fact\", int_f_diff_B_fact)\n",
    "\n",
    "            return int_f_diff_B_fact\n",
    "\n",
    "        if logging:\n",
    "            print(\"int_R_p(j = a)\", int_R_p(f,symb,j = a))\n",
    "            \n",
    "        if use_int_R_p_j:\n",
    "            v, j = var(\"v, j\")\n",
    "            assume(j>0)\n",
    "            from sage.calculus.calculus import symbolic_sum\n",
    "            if change_R_p_order:\n",
    "                # Change order of summation and integration\n",
    "                if use_int_R_p_shifted_first:\n",
    "                    R_p = (-1)^(p+1)*integral(symbolic_sum(f.subs(symb == v+j).diff(v,p)*B(x=v,p=p)/fact(n=p), \\\n",
    "                                                  j, a, b-1), \\\n",
    "                                              (v,0,1))\n",
    "                else:\n",
    "                    if None == f_diff_symb_p:\n",
    "                        f_diff_symb_p = f.diff(symb,p)\n",
    "                    R_p = (-1)^(p+1)*integral(symbolic_sum(f_diff_symb_p.subs(symb == v+j)*B(x=v,p=p)/fact(n=p), \\\n",
    "                                                  j, a, b-1), \\\n",
    "                                              (v,0,1))\n",
    "            else:\n",
    "                if use_int_R_p_shifted_first:\n",
    "                    R_p = (-1)^(p+1)*symbolic_sum(int_R_p_shifted_first(f,symb,j=j), j, a, b-1)\n",
    "                else:\n",
    "                    R_p = (-1)^(+1)*symbolic_sum(int_R_p(f,symb,j=j), j, a, b-1)\n",
    "                \n",
    "        else:\n",
    "            if None == f_diff_symb_p:\n",
    "                f_diff_symb_p = f.diff(symb,p)\n",
    "            if not use_num_int:\n",
    "                R_p = (-1)^(p+1)*integral(f_diff_symb_p * P(x=symb,p=p)/fact(n=p),(symb,a,b),hold=True)\n",
    "            else:\n",
    "                R_p = (-1)^(p+1)*num_int(lambda symb : f_diff_symb_p * P(x=symb,p=p)/fact(n=p), a, b, v=symb)\n",
    "                \n",
    "\n",
    "    int_fn_a_b = integral(f, (symb, a, b))\n",
    "    if logging:\n",
    "        print(\"int_fn_a_b\", int_fn_a_b)\n",
    "        \n",
    "    sum_fa_fb_2 = (f.subs(symb == a) + f.subs(symb == b))/2\n",
    "    \n",
    "    s = int_fn_a_b + sum_fa_fb_2 - sum_dfdx_a_bernoullis.subs(symb == a)\n",
    "    if Infinity != b:\n",
    "        s += sum_dfdx_a_bernoullis.subs(symb == b)\n",
    "    if True == calc_R_p:\n",
    "        s += R_p\n",
    "        \n",
    "    if False:\n",
    "        print(\"int_fn_a_b\", int_fn_a_b)\n",
    "        print(\"sum_dfdx_a_bernoullis(a)\", sum_dfdx_a_bernoullis(a))\n",
    "        if Infinity != b:\n",
    "            print(\"sum_dfdx_a_bernoullis(b)\", sum_dfdx_a_bernoullis(b))\n",
    "        if True == calc_R_p:\n",
    "            print(\"int_R_p(j = a)\", int_R_p(j = a))\n",
    "            print(\"R_p\", R_p)\n",
    "        print(\"\")\n",
    "        print(\"s\",s)\n",
    "    return s"
   ]
  },
  {
   "cell_type": "markdown",
   "metadata": {},
   "source": [
    "$${\\displaystyle \\sum _{i=a}^{b}f(i)=\\int _{a}^{b}f(x)\\,dx+{\\frac {f(a)+f(b)}{2}}+\\sum _{k=1}^{\\lfloor p/2\\rfloor }{\\frac {B_{2k}}{(2k)!}}(f^{(2k-1)}(b)-f^{(2k-1)}(a))+R_{p},}$$"
   ]
  },
  {
   "cell_type": "markdown",
   "metadata": {},
   "source": [
    "$${\\displaystyle \\sum _{i=a}^{b}f(i)=\\int _{a}^{b}f(x)\\,dx+\\sum _{k=1}^{\\lfloor p/2\\rfloor }{\\frac {B_{k}}{(k)!}}(f^{(k-1)}(b)-f^{(k-1)}(a))+R_{p},}$$"
   ]
  },
  {
   "cell_type": "markdown",
   "metadata": {},
   "source": [
    "$${\\displaystyle R_{p}=(-1)^{p+1}\\sum_{j=a}^{b-1} \\int _{0}^{1}f^{(p)}(v+j){\\frac {B_{p}(v)}{p!}}\\,dv.}$$"
   ]
  },
  {
   "cell_type": "markdown",
   "metadata": {},
   "source": [
    "$${\\displaystyle P_{k}(x)=B_{k}(x-\\lfloor x\\rfloor ),}$$\n",
    "\n",
    "$${\\displaystyle R_{p}=(-1)^{p+1}\\int _{a}^{b}f^{(p)}(x){\\frac {P_{p}(x)}{p!}}\\,dx.}$$"
   ]
  },
  {
   "cell_type": "code",
   "execution_count": 25,
   "metadata": {},
   "outputs": [],
   "source": [
    "# https://www.journals.vu.lt/LMJ/article/view/20600/19701\n",
    "# ФОРМУЛА СУММИРОВАНИЯ ЭЙЛЕРА—МАКЛОРЕНА ДЛЯ ФУНКЦИИ МНОГИХ ПЕРЕМЕННЫХ А.БИКЯЛИС\n",
    "# VIII LIETUVOS MATEMATIKOS RINKINYS 4\n",
    "# ЛИТОВСКИЙ МАТЕМАТИЧЕСКИЙ СБОРНИК\n",
    "# 1968\n",
    "\n",
    "# Далее,обе стороны этого равенства суммируем по всем целым m2 из интервала(z2,y2). Получаем\n",
    "\n",
    "if True:\n",
    "    B = lambda x, p : bernoulli_polynomial(x, p)\n",
    "    P = lambda x, p : bernoulli_polynomial(x - floor(x), p)\n",
    "    fact = lambda n : factorial(n)\n",
    "else:\n",
    "    B = function(\"B\")(x,p)\n",
    "    P = function(\"P\")(x,p)\n",
    "    fact = function(\"fact\")(n)\n",
    "\n",
    "def integral_R_p(f,symb,jx,hold, f_diff_symb_p=None):\n",
    "    vx = var(\"v_\"+str(symb))\n",
    "    if None == f_diff_symb_p:\n",
    "        deriv = f.diff(symb,p)\n",
    "    else:\n",
    "        deriv = f_diff_symb_p\n",
    "    if logging:\n",
    "        print(\"deriv\", deriv)\n",
    "\n",
    "    deriv_subs = deriv.subs(symb == vx+jx)\n",
    "    if logging:\n",
    "        print(\"deriv_subs\", deriv_subs)\n",
    "\n",
    "    int_f_diff_B_fact = integral(deriv_subs * bernoulli_polynomial(vx,p)/factorial(p), (vx,0,1), hold=hold)\n",
    "    if logging:\n",
    "        print(\"int_f_diff_B_fact\", int_f_diff_B_fact)\n",
    "\n",
    "    return int_f_diff_B_fact\n",
    "\n",
    "def integral_R_p_shifted_first(f,symb,jx,hold):\n",
    "    vx = var(\"v_\"+str(symb))\n",
    "    fn_shifted = f.subs(symb == vx + jx)\n",
    "    if logging:\n",
    "        print(\"fn_shifted\", fn_shifted)\n",
    "\n",
    "    deriv = fn_shifted.diff(vx,p)\n",
    "    if logging:\n",
    "        print(\"deriv\", deriv)\n",
    "\n",
    "    int_f_diff_B_fact = integral(deriv * B(x=vx,p=p)/fact(n=p), (vx, 0, 1), hold=hold)\n",
    "\n",
    "    if logging:\n",
    "        print(\"int_f_diff_B_fact\", int_f_diff_B_fact)\n",
    "\n",
    "    return int_f_diff_B_fact\n",
    "    \n",
    "    \n",
    "def euler_maclaurin_R_p(f,symb,a,b,p, f_diff_symb_p=None, hold_int=True, hold_sum=True):\n",
    "    if logging:\n",
    "        print(\"f\", f)\n",
    "        print(\"symb,a,b\", symb, a, b)\n",
    "        if f_diff_symb_p is not None:\n",
    "            print(\"f_diff_symb_p\", f_diff_symb_p)\n",
    "        print(\"\")\n",
    "    if use_int_R_p_j:\n",
    "        jx = var('j_'+str(symb))\n",
    "        assume(jx>0)\n",
    "        from sage.calculus.calculus import symbolic_sum\n",
    "        \n",
    "        if change_R_p_order:\n",
    "            vx = var(\"v_\"+str(symb))\n",
    "            # Change order of summation and integration\n",
    "            if use_int_R_p_shifted_first:\n",
    "                R_p = (-1)^(p+1)*integral(symbolic_sum(f.subs(symb == vx+jx).diff(vx,p)*B(x=vx,p=p)/fact(n=p), \\\n",
    "                                              jx, a, b-1, hold=hold_sum), \\\n",
    "                                          (vx,0,1), hold=hold_int)\n",
    "            else:\n",
    "                if None == f_diff_symb_p:\n",
    "                    f_diff_symb_p = f.diff(symb,p)\n",
    "                R_p = (-1)^(p+1)*integral(symbolic_sum(f_diff_symb_p.subs(symb == vx+jx)*B(x=vx,p=p)/fact(n=p), \\\n",
    "                                              jx, a, b-1, hold=hold_sum), \\\n",
    "                                          (vx,0,1), hold=hold_int)\n",
    "        else:       \n",
    "            if use_int_R_p_shifted_first:\n",
    "                term = (-1)^(p+1)*integral_R_p_shifted_first(f=f, symb=symb, jx=jx, hold=hold_int)\n",
    "                R_p = symbolic_sum(term, jx, a, b-1, hold=hold_sum)\n",
    "            else:\n",
    "                term = (-1)^(p+1)*integral_R_p(f=f, symb=symb, jx=jx, hold=hold_int, f_diff_symb_p=f_diff_symb_p)\n",
    "                R_p = symbolic_sum(term, jx, a, b-1, hold=hold_sum)\n",
    "            return R_p, term\n",
    "    else:\n",
    "        if None == f_diff_symb_p:\n",
    "            f_diff_symb_p = f.diff(symb,p)\n",
    "        if not use_num_int:\n",
    "            if logging:\n",
    "                print(\"(-1)^(p+1)*P(x=symb,p=p)/fact(n=p)\", (-1)^(p+1)*P(x=symb,p=p)/fact(n=p))\n",
    "            R_p = (-1)^(p+1)*integral(f_diff_symb_p * P(x=symb,p=p)/fact(n=p),(symb,a,b),hold=hold_int)\n",
    "        else:\n",
    "            R_p = (-1)^(p+1)*num_int(lambda symb: f_diff_symb_p * P(x=symb,p=p)/fact(n=p), a, b, v=symb)\n",
    "            \n",
    "    return R_p"
   ]
  },
  {
   "cell_type": "markdown",
   "metadata": {},
   "source": [
    "$$\\sum _{k=1}^{\\lfloor p/2\\rfloor }{\\frac {B_{k}}{(k)!}}(f^{(k-1)}(b)-f^{(k-1)}(a))$$"
   ]
  },
  {
   "cell_type": "code",
   "execution_count": 26,
   "metadata": {},
   "outputs": [],
   "source": [
    "def half_summa(f,symb,a,b):\n",
    "\n",
    "    if logging:\n",
    "        print(\"half_summa\", f,symb, a, b)\n",
    "        print(\"half_sum(a)\", f.subs(symb == a)/2)\n",
    "        if Infinity != b:\n",
    "            print(\"half_sum(b)\", f.subs(symb == b)/2)\n",
    "\n",
    "    s = f.subs(symb == a)/2\n",
    "    if Infinity != b:\n",
    "        s += f.subs(symb == b)/2\n",
    "    return s\n"
   ]
  },
  {
   "cell_type": "code",
   "execution_count": 27,
   "metadata": {},
   "outputs": [],
   "source": [
    "def sum_dfdx_bernoulis(f,symb,a,b,p):\n",
    "    dfdx_a_bernoullis = []\n",
    "    for k in range(1,1+int(p/2)):\n",
    "        dfdx_a_bernoullis += [(f.diff(symb,2*k-1))*(bernoulli(2*k)/factorial(2*k))]\n",
    "        \n",
    "    sum_dfdx_a_bernoullis = sum(dfdx_a_bernoullis)\n",
    "\n",
    "    if logging:\n",
    "        print(\"sum_dfdx_a_bernoullis\", sum_dfdx_a_bernoullis)\n",
    "        print(\"sum_dfdx_a_bernoullis(a)\", sum_dfdx_a_bernoullis.subs(symb == a))\n",
    "        if Infinity != b:\n",
    "            print(\"sum_dfdx_a_bernoullis(b)\", sum_dfdx_a_bernoullis.subs(symb == b))\n",
    "\n",
    "    s = - sum_dfdx_a_bernoullis.subs(symb == a)\n",
    "    if Infinity != b:\n",
    "        s += sum_dfdx_a_bernoullis.subs(symb == b)\n",
    "    return s\n"
   ]
  },
  {
   "cell_type": "code",
   "execution_count": 28,
   "metadata": {},
   "outputs": [],
   "source": [
    "def sum_dfdx_bernoulis_str(f,symb,a,b,p):\n",
    "    sum_dfdx_a_bernoullis = \"\"\n",
    "    for k in range(1,1+int(p/2)):\n",
    "        if k - 1 > 0:\n",
    "            sum_dfdx_a_bernoullis += \" + (\" + str(bernoulli(2*k)/factorial(2*k)) + \") * (\" + str(f) + \").diff(\" + str(symb) + \", \" + str(2*k-1) + \")\"\n",
    "        else:\n",
    "            sum_dfdx_a_bernoullis += \" + (\" + str(bernoulli(2*k)/factorial(2*k)) + \") * (\" + str(f) + \")\"\n",
    "            \n",
    "\n",
    "    if logging:\n",
    "        print(\"sum_dfdx_a_bernoullis\", sum_dfdx_a_bernoullis)\n",
    "        print(\"sum_dfdx_a_bernoullis(a)\", \"(\" + sum_dfdx_a_bernoullis + \").subs(\" + str(symb) + \"==\" + str(a) + \")\")\n",
    "        if Infinity != b:\n",
    "            print(\"sum_dfdx_a_bernoullis(b)\", \"(\" + sum_dfdx_a_bernoullis + \").subs(\" + str(symb) + \"==\" + str(b) + \")\")\n",
    "    s = \"\"\n",
    "\n",
    "    s += \"- (\" + sum_dfdx_a_bernoullis + \").subs(\" + str(symb) + \"==\" + str(a) + \")\"\n",
    "    if Infinity != b:\n",
    "        s += \" + (\" + sum_dfdx_a_bernoullis + \").subs(\" + str(symb) + \"==\" + str(b) + \")\"\n",
    "    return s\n"
   ]
  },
  {
   "cell_type": "code",
   "execution_count": 29,
   "metadata": {},
   "outputs": [],
   "source": [
    "# sumy_sumx = sum_dfdx_bernoulis(sum_dfdx_bernoulis (F(x,y), x, a_x, b_x,p), y, a_y, b_y, p)\n",
    "def sum_dfdy_bernoulis_sum_dfdx_bernoulis_str(f, x, a_x, b_x, y, a_y, b_y, p):\n",
    "    str_f = sum_dfdx_bernoulis_str(f(x=x,y=y), x, a_x, b_x, p)\n",
    "    sum_dfdx_a_bernoullis = \"\"\n",
    "    for k in range(1,1+int(p/2)):\n",
    "        if k - 1 > 0:\n",
    "            sum_dfdx_a_bernoullis += \" + (\" + str(bernoulli(2*k)/factorial(2*k)) + \") * (\" + str_f + \").diff(\" + str(y) + \", \" + str(2*k-1) + \")\"\n",
    "        else:\n",
    "            sum_dfdx_a_bernoullis += \" + (\" + str(bernoulli(2*k)/factorial(2*k)) + \") * (\" + str_f + \")\"\n",
    "\n",
    "    if logging:\n",
    "        print(\"sum_dfdx_a_bernoullis\", sum_dfdx_a_bernoullis)\n",
    "        print(\"sum_dfdx_a_bernoullis(a)\", \"(\" + sum_dfdx_a_bernoullis + \").subs(\" + str(y) + \"==\" + str(a_y) + \")\")\n",
    "        if Infinity != b:\n",
    "            print(\"sum_dfdx_a_bernoullis(b)\", \"(\" + sum_dfdx_a_bernoullis + \").subs(\" + str(y) + \"==\" + str(b_y) + \")\")\n",
    "    s = \"\"\n",
    "\n",
    "    s += \"- (\" + sum_dfdx_a_bernoullis + \").subs(\" + str(y) + \"==\" + str(a_y) + \")\"\n",
    "    if Infinity != b_y:\n",
    "        s += \" + (\" + sum_dfdx_a_bernoullis + \").subs(\" + str(y) + \"==\" + str(b_y) + \")\"\n",
    "    return s"
   ]
  },
  {
   "cell_type": "code",
   "execution_count": 30,
   "metadata": {},
   "outputs": [],
   "source": [
    "def definite_integral_derivative(f, x, a, b, diff_param, hold=True):\n",
    "    from sage.symbolic.integration.integral import definite_integral\n",
    "\n",
    "    if not x.has(diff_param):\n",
    "        # integration variable != differentiation variable\n",
    "        ans = definite_integral(f.diff(diff_param), x, a, b, hold=hold)\n",
    "    else:\n",
    "        ans = SR.zero()\n",
    "\n",
    "    if hasattr(b, 'diff'):\n",
    "        if b.diff(diff_param) != 0:\n",
    "            ans += f.subs(x == b) * b.diff(diff_param)\n",
    "    if hasattr(a, 'diff'):\n",
    "        if a.diff(diff_param) != 0:\n",
    "            ans -= f.subs(x == a) * a.diff(diff_param)\n",
    "\n",
    "    return ans\n"
   ]
  },
  {
   "cell_type": "code",
   "execution_count": 31,
   "metadata": {},
   "outputs": [],
   "source": [
    "def definite_integral_derivative_str(f, x, a, b, diff_param=None, hold=False, algorithm=None):\n",
    "\n",
    "    if not x.has(diff_param):\n",
    "        # integration variable != differentiation variable\n",
    "        if algorithm is not None:\n",
    "            ans = \"integrate((\" + str(f) + \").diff(\" + str(diff_param) + \"), \" + str(x) + \", \" + str(a) + \", \" + str(b) + \", algorithm = \"\\\"\"+ algorithm + \", hold = \" + str(hold) + \")\"\n",
    "        else:\n",
    "            ans = \"definite_integral((\" + str(f) + \").diff(\" + str(diff_param) + \"), \" + str(x) + \", \" + str(a) + \", \" + str(b) + \", hold = \" + str(hold) + \")\"\n",
    "    else:\n",
    "        ans = \"\"\n",
    "\n",
    "    if hasattr(b, 'diff'):\n",
    "        if b.diff(diff_param) != 0:\n",
    "            ans += \" + \" + str(f.subs(x == b) * b.diff(diff_param))\n",
    "    if hasattr(a, 'diff'):\n",
    "        if a.diff(diff_param) != 0:\n",
    "            ans += \" - \" + str(f.subs(x == a) * a.diff(diff_param))\n",
    "\n",
    "    return ans"
   ]
  },
  {
   "cell_type": "code",
   "execution_count": 32,
   "metadata": {},
   "outputs": [],
   "source": [
    "def definite_num_int_derivative_str(f, x, a, b, diff_param=None):\n",
    "\n",
    "    if not x.has(diff_param):\n",
    "        # integration variable != differentiation variable\n",
    "        ans = \"num_int(lambda \" + str(x)+ \" : \" + str(f.diff(diff_param)) + \", \" + str(a) + \", \" + str(b) + \", v = \" + str(x) + \")\"\n",
    "    else:\n",
    "        ans = \"\"\n",
    "\n",
    "    if hasattr(b, 'diff'):\n",
    "        if b.diff(diff_param) != 0:\n",
    "            ans += \" + \" + str(f.subs(x == b) * b.diff(diff_param))\n",
    "    if hasattr(a, 'diff'):\n",
    "        if a.diff(diff_param) != 0:\n",
    "            ans += \" - \" + str(f.subs(x == a) * a.diff(diff_param))\n",
    "\n",
    "    return ans"
   ]
  },
  {
   "cell_type": "markdown",
   "metadata": {},
   "source": [
    "$$\\sum _{k=1}^{\\lfloor p/2\\rfloor }{\\frac {B_{k}}{(k)!}}(g(y)^{(k-1)}(b_y)-g(y)^{(k-1)}(a_y))$$\n",
    "where "
   ]
  },
  {
   "cell_type": "markdown",
   "metadata": {},
   "source": [
    "$$g(y) = {\\displaystyle R_{p}(y)=(-1)^{p+1}\\sum_{j=a_x}^{b_x-1} \\int _{0}^{1}\\frac{\\partial^{p}}{\\partial x^{p}}f(v_x+j,y){\\frac {B_{p}(v_x)}{p!}}\\,dv_x.}$$\n",
    "or"
   ]
  },
  {
   "cell_type": "markdown",
   "metadata": {},
   "source": [
    "$${\\displaystyle P_{k}(x)=B_{k}(x-\\lfloor x\\rfloor ),}$$\n",
    "\n",
    "$$g(y) = {\\displaystyle R_{p}=(-1)^{p+1}\\int _{a_x}^{b_x}\\frac{\\partial^{p}}{\\partial x^{p}}f(x,y){\\frac {P_{p}(x)}{p!}}\\,dx.}$$"
   ]
  },
  {
   "cell_type": "code",
   "execution_count": 33,
   "metadata": {},
   "outputs": [],
   "source": [
    "#int_R_p = integral(euler_maclaurin_R_p(f(x,y), x, a_x, b_x,p), (y, a_y, b_y), hold=True)\n",
    "\n",
    "def integral_euler_maclaurin_R_p(f, x, a_x, b_x, y, a_y, b_y, p, f_diff_x_p, hold_int=True, hold_sum=True):\n",
    "    if logging:\n",
    "        print(\"f\", f)\n",
    "        print(\"f(x,y)\", f(x=x,y=y))\n",
    "        if None != f_diff_x_p:\n",
    "            print(\"f_diff_x_p\", f_diff_x_p)\n",
    "            print(\"f_diff_x_p(x,y)\", f_diff_x_p(x=x,y=y))\n",
    "        print(\"\")\n",
    "    if use_int_R_p_j:\n",
    "        jx = var('j_x')\n",
    "        assume(jx>0)\n",
    "        from sage.calculus.calculus import symbolic_sum\n",
    "        \n",
    "        if change_R_p_order:\n",
    "            vx = var(\"v_\"+str(x))\n",
    "            # Change order of summation and integration\n",
    "            if use_int_R_p_shifted_first:\n",
    "                int_R_p = (-1)^(p+1)*integral(integral(symbolic_sum(f.subs(x == vx+jx).diff(vx,p)*B(x=vx,p=p)/fact(n=p), \\\n",
    "                                              jx, a_x, b_x-1, hold=hold_sum), \\\n",
    "                                          (vx,0,1), hold=hold_int), y, a_y, b_y, hold=hold_int)\n",
    "            else:\n",
    "                if None == f_diff_x_p:\n",
    "                    f_diff_x_p = f.diff(x,p)\n",
    "                int_R_p = (-1)^(p+1)*integral(integral(symbolic_sum(f_diff_x_p.subs(x == vx+jx)*B(x=vx,p=p)/fact(n=p), \\\n",
    "                                              jx, a_x, b_x-1, hold=hold_sum), \\\n",
    "                                          (vx,0,1), hold=hold_int), y, a_y, b_y, hold=hold_int)\n",
    "        else:       \n",
    "            if use_int_R_p_shifted_first:\n",
    "                int_int = (-1)^(p+1)*integral(integral_R_p_shifted_first(f=f, symb=x, jx=jx, hold=hold_int), y, a_y, b_y, hold=hold_int)\n",
    "                int_R_p = symbolic_sum(int_int, jx, a_x, b_x-1, hold=hold_sum)\n",
    "            else:\n",
    "                int_int = (-1)^(p+1)*integral(integral_R_p(f=f, symb=x, jx=jx, hold=hold_int), y, a_y, b_y, hold=hold_int)\n",
    "                int_R_p = symbolic_sum(int_int, jx, a_x, b_x-1, hold=hold_sum)\n",
    "            return (int_R_p, int_int)\n",
    "    else:\n",
    "        if None == f_diff_x_p:\n",
    "            f_diff_x_p = f.diff(x,p)\n",
    "        integrand = lambda x, y, p : f_diff_x_p(x=x,y=y) * P(x=x,p=p)/fact(n=p)\n",
    "        if logging:\n",
    "            print(\"integrand\", integrand(x,y,p))\n",
    "        if not use_num_int:\n",
    "            int_R_p = (-1)^(p+1)*integral(integral(integrand(x,y,p),(x,a_x,b_x),hold=hold_int), y, a_y, b_y, hold=hold_int)\n",
    "        else:\n",
    "            int_R_p = (-1)^(p+1)*num_int(lambda y : num_int(lambda x : integrand(x,y,p), a_x, b_x, x), a_y, b_y, y)\n",
    "            \n",
    "    return int_R_p"
   ]
  },
  {
   "cell_type": "markdown",
   "metadata": {},
   "source": [
    "$${\\displaystyle R_{p}=(-1)^{p+1}\\sum_{j=a_y}^{b_y-1} \\int _{0}^{1}g^{(p)}(v_y+j){\\frac {B_{p}(v_y)}{p!}}\\,dv_y.}$$"
   ]
  },
  {
   "cell_type": "markdown",
   "metadata": {},
   "source": [
    "$${\\displaystyle P_{k}(y)=B_{k}(y-\\lfloor y\\rfloor ),}$$\n",
    "\n",
    "$${\\displaystyle R_{p}=(-1)^{p+1}\\int _{a_y}^{b_y}g^{(p)}(y){\\frac {P_{p}(y)}{p!}}\\,dy.}$$\n",
    "\n",
    "where"
   ]
  },
  {
   "cell_type": "markdown",
   "metadata": {},
   "source": [
    "$$g(y) = {\\displaystyle R_{p}(y)=(-1)^{p+1}\\sum_{j=a_x}^{b_x-1} \\int _{0}^{1}\\frac{\\partial^{p}}{\\partial x^{p}}f(v_x+j,y){\\frac {B_{p}(v_x)}{p!}}\\,dv_x.}$$\n",
    "or"
   ]
  },
  {
   "cell_type": "markdown",
   "metadata": {},
   "source": [
    "$${\\displaystyle P_{k}(x)=B_{k}(x-\\lfloor x\\rfloor ),}$$\n",
    "\n",
    "$$g(y) = {\\displaystyle R_{p}=(-1)^{p+1}\\int _{a_x}^{b_x}\\frac{\\partial^{p}}{\\partial x^{p}}f(x,y){\\frac {P_{p}(x)}{p!}}\\,dx.}$$"
   ]
  },
  {
   "cell_type": "code",
   "execution_count": 34,
   "metadata": {},
   "outputs": [],
   "source": [
    "#R_p_R_p = euler_maclaurin_R_p(euler_maclaurin_R_p(F(x,y), x, a_x, b_x,p), y, a_y, b_y, p)\n",
    "def euler_maclaurin_R_p_euler_maclaurin_R_p(f, x, a_x, b_x, y, a_y, b_y, p, f_diff_x_p_diff_y_p):\n",
    "\n",
    "    from sage.calculus.calculus import symbolic_sum\n",
    "    from sage.symbolic.integration.integral import definite_integral\n",
    "    if use_int_R_p_j:\n",
    "        vx,vy = var(\"v_x, v_y\")\n",
    "        jx,jy = var(\"j_x, j_y\")\n",
    "        assume(v_y+j_y>0)\n",
    "        \n",
    "        if None == f_diff_x_p_diff_y_p:\n",
    "            f_diff_x_p_diff_y_p = f.diff(x,p).diff(y,p)\n",
    "\n",
    "        R_p_R_p = (-1)^(p+1)*symbolic_sum(definite_integral( \\\n",
    "                               (-1)^(p+1)*symbolic_sum(definite_integral(f_diff_x_p_diff_y_p.subs(x == vx + jx)  \\\n",
    "                                                              * B(x=vx,p=p)/fact(n=p), \\\n",
    "                                 vx,0,1,hold=True), v=jx, a=a_x, b=b_x-1,hold=True) \\\n",
    "                                                                        .diff(y,p).subs(y == vy + jy)  \\\n",
    "                                                              * B(x=vy,p=p)/fact(n=p), \\\n",
    "                                 vy,0,1,hold=True), v=jy, a=a_y, b=b_y-1,hold=True)\n",
    "    else:\n",
    "        if not use_num_int:\n",
    "\n",
    "            if None == f_diff_x_p_diff_y_p:\n",
    "                f_diff_x_p_diff_y_p = f.diff(x,p)\n",
    "\n",
    "            R_p_R_p = (-1)^(p+1)*definite_integral( \\\n",
    "                               (-1)^(p+1)*definite_integral(f_diff_x_p_diff_y_p  \\\n",
    "                                                              * P(x=x,p=p)/fact(n=p), \\\n",
    "                                 x, a_x, b_x, hold=True).diff(y,p)  \\\n",
    "                                                              * P(x=y,p=p)/fact(n=p), \\\n",
    "                                 y, a_y, b_y, hold=True)\n",
    "        else:\n",
    "            f_diff_x_p_diff_y_p_num_str = \"f_diff_x_diff_y_num = lambda \" + str(x) + \", \" + str(y) + \":\" + str(f(x,y).diff(x,p).diff(y,p))\n",
    "            print(\"f_diff_x_p_diff_y_p_num_str=\", f_diff_x_p_diff_y_p_num_str)                                                                          \n",
    "            exec(preparse(f_diff_x_p_diff_y_p_num_str))\n",
    "            R_p_R_p = (-1)^(p+1)*num_int(lambda y : \\\n",
    "                               (-1)^(p+1)*num_int(lambda x : f_diff_x_p_diff_y_p_num(x,y)  \\\n",
    "                                                              * P(x=x,p=p)/fact(n=p), \\\n",
    "                                 a_x, b_x, v=x)  \\\n",
    "                                                              * P(x=y,p=p)/fact(n=p), \\\n",
    "                                 a_y, b_y, v=y)\n",
    "        \n",
    "    return R_p_R_p"
   ]
  },
  {
   "cell_type": "code",
   "execution_count": 35,
   "metadata": {},
   "outputs": [],
   "source": [
    "#R_p_R_p = euler_maclaurin_R_p(euler_maclaurin_R_p(F(x,y), x, a_x, b_x,p), y, a_y, b_y, p)\n",
    "def euler_maclaurin_R_p_euler_maclaurin_R_p_num_int(f_diff_x_p_diff_y_p, x, a_x, b_x, y, a_y, b_y, p):\n",
    "    integrand = lambda x, y, p : f_diff_x_p_diff_y_p(x=x,y=y) * P(x=x,p=p)/fact(n=p)\n",
    "    if logging:\n",
    "        print(\"integrand =\", integrand(x,y,p))\n",
    "    R_p_R_p = (-1)^(p+1)*num_int(lambda y : \\\n",
    "              (-1)^(p+1)*num_int(lambda x : integrand(x,y,p), a_x, b_x, x) * P(x=y,p=p)/fact(n=p), a_y, b_y, y)\n",
    "    return R_p_R_p"
   ]
  },
  {
   "cell_type": "code",
   "execution_count": 36,
   "metadata": {},
   "outputs": [],
   "source": [
    "def euler_maclaurin1(f, symb, a, b, p, f_diff_symb_p=None, hold_int=True, hold_sum=True):\n",
    "    if logging:\n",
    "        print(\"f\", f)\n",
    "        print(\"symb,a,b\", symb, a, b)\n",
    "        print(\"\")\n",
    "    #u, j = var(\"u, j\")\n",
    "\n",
    "    int_fn_a_b = integral(f, (symb, a, b))\n",
    "    if logging:\n",
    "        print(\"int_fn_a_b\", int_fn_a_b)\n",
    "        \n",
    "    half = half_summa(f,symb,a,b)\n",
    "    if logging:\n",
    "        print(\"half\", half)\n",
    "    \n",
    "    #s = int_fn_a_b + sum_dfdx_a_bernoullis(b) - sum_dfdx_a_bernoullis(a) + R_p\n",
    "    s = int_fn_a_b + half + sum_dfdx_bernoulis(f,symb,a,b,p)\n",
    "    \n",
    "    if True == calc_R_p:\n",
    "        R_p = euler_maclaurin_R_p(f, symb, a, b, p, f_diff_symb_p=f_diff_symb_p,hold_int=hold_int, hold_sum=hold_sum)\n",
    "        if type(R_p) is tuple:\n",
    "            s += R_p[0]\n",
    "        else:\n",
    "            s += R_p\n",
    "\n",
    "    return s"
   ]
  },
  {
   "cell_type": "code",
   "execution_count": 37,
   "metadata": {},
   "outputs": [],
   "source": [
    "from IPython.display import display, Math, Latex"
   ]
  },
  {
   "cell_type": "code",
   "execution_count": 38,
   "metadata": {},
   "outputs": [
    {
     "name": "stdout",
     "output_type": "stream",
     "text": [
      "F(n_x, n_y)\n"
     ]
    }
   ],
   "source": [
    "a_x = var(\"a_x\")\n",
    "b_x = var(\"b_x\")\n",
    "a_y = var(\"a_y\")\n",
    "b_y = var(\"b_y\")\n",
    "\n",
    "assume(a_x, 'real')\n",
    "assume(b_x, 'real')\n",
    "assume(a_y, 'real')\n",
    "assume(b_y, 'real')\n",
    "\n",
    "assume(a_x, 'integer')\n",
    "assume(b_x, 'integer')\n",
    "assume(a_y, 'integer')\n",
    "assume(b_y, 'integer')\n",
    "\n",
    "assume(a_x > 0)\n",
    "assume(b_x > 0)\n",
    "assume(a_y > 0)\n",
    "assume(b_y > 0)\n",
    "\n",
    "#x,y = var(\"x,y\")\n",
    "\n",
    "n = QQ['n'].0\n",
    "j = QQ['j'].0\n",
    "\n",
    "p = 4\n",
    "#p = 3\n",
    "#p = 2\n",
    "#p = 1\n",
    "\n",
    "F = function(\"F\")(n_x, n_y)\n",
    "print(F)"
   ]
  },
  {
   "cell_type": "markdown",
   "metadata": {},
   "source": [
    "$${\\displaystyle R_{p}=(-1)^{p+1}\\sum_{j=a}^{b-1} \\int _{0}^{1}f^{(p)}(u+j){\\frac {B_{p}(u)}{p!}}\\,du.}$$"
   ]
  },
  {
   "cell_type": "code",
   "execution_count": 39,
   "metadata": {},
   "outputs": [],
   "source": [
    "use_int_R_p_j=False\n",
    "change_R_p_order=True\n",
    "use_int_R_p_shifted_first=True\n",
    "use_num_int = False\n",
    "logging = False"
   ]
  },
  {
   "cell_type": "code",
   "execution_count": 40,
   "metadata": {},
   "outputs": [
    {
     "name": "stdout",
     "output_type": "stream",
     "text": [
      "int_int_F= integrate(integrate(F(n_x, n_y), n_x, a_x, b_x), n_y, a_y, b_y)\n"
     ]
    },
    {
     "data": {
      "text/latex": [
       "$\\displaystyle \\int_{a_{y}}^{b_{y}} \\int_{a_{x}}^{b_{x}} F\\left(n_{x}, n_{y}\\right)\\,{d n_{x}}\\,{d n_{y}}$"
      ],
      "text/plain": [
       "<IPython.core.display.Math object>"
      ]
     },
     "metadata": {},
     "output_type": "display_data"
    }
   ],
   "source": [
    "int_int_F = integral(integral(F,(n_x, a_x, b_x)),  (n_y, a_y, b_y))\n",
    "print(\"int_int_F=\", int_int_F)\n",
    "display(Math(latex(int_int_F)))"
   ]
  },
  {
   "cell_type": "code",
   "execution_count": 41,
   "metadata": {},
   "outputs": [
    {
     "name": "stdout",
     "output_type": "stream",
     "text": [
      "int_half_F= 1/2*integrate(F(a_x, n_y), n_y, a_y, b_y)\n"
     ]
    },
    {
     "data": {
      "text/latex": [
       "$\\displaystyle \\frac{1}{2} \\, \\int_{a_{y}}^{b_{y}} F\\left(a_{x}, n_{y}\\right)\\,{d n_{y}}$"
      ],
      "text/plain": [
       "<IPython.core.display.Math object>"
      ]
     },
     "metadata": {},
     "output_type": "display_data"
    }
   ],
   "source": [
    "int_half_F = integral (half_summa (F, n_x, a_x, b_x), (n_y, a_y, b_y))\n",
    "print(\"int_half_F=\", int_half_F)\n",
    "display(Math(latex(int_half_F)))"
   ]
  },
  {
   "cell_type": "code",
   "execution_count": 42,
   "metadata": {},
   "outputs": [
    {
     "name": "stdout",
     "output_type": "stream",
     "text": [
      "int_half_Fu= <function <lambda> at 0x7f58f049e3b0>\n"
     ]
    },
    {
     "data": {
      "text/latex": [
       "$\\displaystyle \\int_{0}^{+\\infty} \\frac{1}{2} \\, \\sqrt{n_{y}^{2} + u^{2}} f\\left(\\frac{\\pi \\sqrt{n_{y}^{2} + u^{2}}}{a k_{m}}\\right)\\,{d n_{y}}$"
      ],
      "text/plain": [
       "<IPython.core.display.Math object>"
      ]
     },
     "metadata": {},
     "output_type": "display_data"
    }
   ],
   "source": [
    "int_half_Fu = lambda u, a, k_m : num_int(lambda n_y : half_summa (Fu(u, n_x, n_y, a, k_m), n_x, 0, Infinity), 0, Infinity, v = n_y)\n",
    "print(\"int_half_Fu=\", int_half_Fu)\n",
    "display(Math(latex(int_half_Fu(u, a, k_m))))"
   ]
  },
  {
   "cell_type": "code",
   "execution_count": 43,
   "metadata": {},
   "outputs": [
    {
     "name": "stdout",
     "output_type": "stream",
     "text": [
      "int_half_Fn= <function <lambda> at 0x7f58f049ea70>\n"
     ]
    },
    {
     "data": {
      "text/latex": [
       "$\\displaystyle \\int_{0}^{+\\infty} \\frac{\\sqrt{n_{y}^{2} + u^{2}}}{2 \\, {\\left(\\frac{\\pi^{4} {\\left(n_{y}^{2} + u^{2}\\right)}^{2}}{a^{4} k_{m}^{4}} + 1\\right)}}\\,{d n_{y}}$"
      ],
      "text/plain": [
       "<IPython.core.display.Math object>"
      ]
     },
     "metadata": {},
     "output_type": "display_data"
    }
   ],
   "source": [
    "int_half_Fn = lambda u, a, k_m : num_int(lambda n_y : half_summa (Fn(u, n_x, n_y, a, k_m), n_x, 0, Infinity), 0, Infinity, v = n_y)\n",
    "print(\"int_half_Fn=\", int_half_Fn)\n",
    "display(Math(latex(int_half_Fn(u, a, k_m))))"
   ]
  },
  {
   "cell_type": "code",
   "execution_count": 44,
   "metadata": {},
   "outputs": [
    {
     "name": "stdout",
     "output_type": "stream",
     "text": [
      "int_sum_F= -1/12*integrate(diff(F(a_x, n_y), a_x), n_y, a_y, b_y) + 1/720*integrate(diff(F(a_x, n_y), a_x, a_x, a_x), n_y, a_y, b_y)\n"
     ]
    },
    {
     "data": {
      "text/latex": [
       "$\\displaystyle -\\frac{1}{12} \\, \\int_{a_{y}}^{b_{y}} \\frac{\\partial}{\\partial a_{x}}F\\left(a_{x}, n_{y}\\right)\\,{d n_{y}} + \\frac{1}{720} \\, \\int_{a_{y}}^{b_{y}} \\frac{\\partial^{3}}{(\\partial a_{x})^{3}}F\\left(a_{x}, n_{y}\\right)\\,{d n_{y}}$"
      ],
      "text/plain": [
       "<IPython.core.display.Math object>"
      ]
     },
     "metadata": {},
     "output_type": "display_data"
    }
   ],
   "source": [
    "int_sum_F = integral(sum_dfdx_bernoulis (F, n_x, a_x, b_x,p), (n_y, a_y, b_y)).expand()\n",
    "print(\"int_sum_F=\", int_sum_F)\n",
    "display(Math(latex(int_sum_F)))"
   ]
  },
  {
   "cell_type": "code",
   "execution_count": 45,
   "metadata": {},
   "outputs": [
    {
     "name": "stdout",
     "output_type": "stream",
     "text": [
      "int_sum_Fu= <function <lambda> at 0x7f58faf79090>\n"
     ]
    },
    {
     "data": {
      "text/latex": [
       "$\\displaystyle 0.0$"
      ],
      "text/plain": [
       "<IPython.core.display.Math object>"
      ]
     },
     "metadata": {},
     "output_type": "display_data"
    }
   ],
   "source": [
    "int_sum_Fu = lambda u, a, k_m : num_int(lambda n_y : sum_dfdx_bernoulis (Fu(u, n_x, n_y, a, k_m), n_x, 0, Infinity,p), 0, Infinity, v = n_y)\n",
    "print(\"int_sum_Fu=\", int_sum_Fu)\n",
    "display(Math(latex(int_sum_Fu(u, a, k_m))))"
   ]
  },
  {
   "cell_type": "code",
   "execution_count": 46,
   "metadata": {},
   "outputs": [
    {
     "name": "stdout",
     "output_type": "stream",
     "text": [
      "int_sum_Fn= <function <lambda> at 0x7f58faf7bb50>\n"
     ]
    },
    {
     "data": {
      "text/latex": [
       "$\\displaystyle 0.0$"
      ],
      "text/plain": [
       "<IPython.core.display.Math object>"
      ]
     },
     "metadata": {},
     "output_type": "display_data"
    }
   ],
   "source": [
    "int_sum_Fn = lambda u, a, k_m : num_int(lambda n_y : sum_dfdx_bernoulis (Fn(u, n_x, n_y, a, k_m), n_x, 0, Infinity,p), 0, Infinity, v = n_y)\n",
    "print(\"int_sum_Fn=\", int_sum_Fn)\n",
    "display(Math(latex(int_sum_Fn(u, a, k_m))))"
   ]
  },
  {
   "cell_type": "code",
   "execution_count": 47,
   "metadata": {},
   "outputs": [
    {
     "data": {
      "text/latex": [
       "$\\displaystyle \\int_{a_{y}}^{b_{y}} -\\int_{a_{x}}^{b_{x}} \\frac{1}{720} \\, {\\left(30 \\, {\\left(n_{x} - \\left \\lfloor n_{x} \\right \\rfloor\\right)}^{4} - 60 \\, {\\left(n_{x} - \\left \\lfloor n_{x} \\right \\rfloor\\right)}^{3} + 30 \\, {\\left(n_{x} - \\left \\lfloor n_{x} \\right \\rfloor\\right)}^{2} - 1\\right)} \\frac{\\partial^{4}}{(\\partial n_{x})^{4}}F\\left(n_{x}, n_{y}\\right)\\,{d n_{x}}\\,{d n_{y}}$"
      ],
      "text/plain": [
       "<IPython.core.display.Math object>"
      ]
     },
     "metadata": {},
     "output_type": "display_data"
    },
    {
     "data": {
      "text/latex": [
       "$\\displaystyle -\\int_{a_{y}}^{b_{y}} \\int_{a_{x}}^{b_{x}} \\frac{1}{720} \\, {\\left(30 \\, {\\left(n_{x} - \\left \\lfloor n_{x} \\right \\rfloor\\right)}^{4} - 60 \\, {\\left(n_{x} - \\left \\lfloor n_{x} \\right \\rfloor\\right)}^{3} + 30 \\, {\\left(n_{x} - \\left \\lfloor n_{x} \\right \\rfloor\\right)}^{2} - 1\\right)} \\frac{\\partial^{4}}{(\\partial n_{x})^{4}}F\\left(n_{x}, n_{y}\\right)\\,{d n_{x}}\\,{d n_{y}}$"
      ],
      "text/plain": [
       "<IPython.core.display.Math object>"
      ]
     },
     "metadata": {},
     "output_type": "display_data"
    }
   ],
   "source": [
    "R_p_F = euler_maclaurin_R_p(F, n_x, a_x, b_x,p)\n",
    "if type(R_p_F) is tuple:\n",
    "    int_R_p_F = integral(R_p_F[0], (n_y, a_y, b_y), hold=True)\n",
    "else:\n",
    "    int_R_p_F = integral(R_p_F, (n_y, a_y, b_y), hold=True)\n",
    "\n",
    "disp(int_R_p_F)\n",
    "\n",
    "int_R_p_F = integral_euler_maclaurin_R_p(F, n_x, a_x, b_x, n_y, a_y, b_y, p, diff(F,n_x,p), hold_int=True, hold_sum=True)\n",
    "disp(int_R_p_F)"
   ]
  },
  {
   "cell_type": "code",
   "execution_count": 48,
   "metadata": {},
   "outputs": [
    {
     "data": {
      "text/latex": [
       "$\\displaystyle \\int_{0}^{+\\infty} -\\int_{0}^{+\\infty} -\\frac{1}{720} \\, {\\left(30 \\, {\\left(n_{x} - \\left \\lfloor n_{x} \\right \\rfloor\\right)}^{4} - 60 \\, {\\left(n_{x} - \\left \\lfloor n_{x} \\right \\rfloor\\right)}^{3} + 30 \\, {\\left(n_{x} - \\left \\lfloor n_{x} \\right \\rfloor\\right)}^{2} - 1\\right)} {\\left(\\frac{15 \\, n_{x}^{4} f\\left(\\frac{\\pi \\sqrt{n_{x}^{2} + n_{y}^{2} + u^{2}}}{a k_{m}}\\right)}{{\\left(n_{x}^{2} + n_{y}^{2} + u^{2}\\right)}^{\\frac{7}{2}}} - \\frac{15 \\, \\pi n_{x}^{4} \\mathrm{D}_{0}\\left(f\\right)\\left(\\frac{\\pi \\sqrt{n_{x}^{2} + n_{y}^{2} + u^{2}}}{a k_{m}}\\right)}{{\\left(n_{x}^{2} + n_{y}^{2} + u^{2}\\right)}^{3} a k_{m}} - \\frac{18 \\, n_{x}^{2} f\\left(\\frac{\\pi \\sqrt{n_{x}^{2} + n_{y}^{2} + u^{2}}}{a k_{m}}\\right)}{{\\left(n_{x}^{2} + n_{y}^{2} + u^{2}\\right)}^{\\frac{5}{2}}} + \\frac{3 \\, \\pi^{2} n_{x}^{4} \\mathrm{D}_{0, 0}\\left(f\\right)\\left(\\frac{\\pi \\sqrt{n_{x}^{2} + n_{y}^{2} + u^{2}}}{a k_{m}}\\right)}{{\\left(n_{x}^{2} + n_{y}^{2} + u^{2}\\right)}^{\\frac{5}{2}} a^{2} k_{m}^{2}} + \\frac{18 \\, \\pi n_{x}^{2} \\mathrm{D}_{0}\\left(f\\right)\\left(\\frac{\\pi \\sqrt{n_{x}^{2} + n_{y}^{2} + u^{2}}}{a k_{m}}\\right)}{{\\left(n_{x}^{2} + n_{y}^{2} + u^{2}\\right)}^{2} a k_{m}} + \\frac{2 \\, \\pi^{3} n_{x}^{4} \\mathrm{D}_{0, 0, 0}\\left(f\\right)\\left(\\frac{\\pi \\sqrt{n_{x}^{2} + n_{y}^{2} + u^{2}}}{a k_{m}}\\right)}{{\\left(n_{x}^{2} + n_{y}^{2} + u^{2}\\right)}^{2} a^{3} k_{m}^{3}} + \\frac{3 \\, f\\left(\\frac{\\pi \\sqrt{n_{x}^{2} + n_{y}^{2} + u^{2}}}{a k_{m}}\\right)}{{\\left(n_{x}^{2} + n_{y}^{2} + u^{2}\\right)}^{\\frac{3}{2}}} - \\frac{\\pi^{4} n_{x}^{4} \\mathrm{D}_{0, 0, 0, 0}\\left(f\\right)\\left(\\frac{\\pi \\sqrt{n_{x}^{2} + n_{y}^{2} + u^{2}}}{a k_{m}}\\right)}{{\\left(n_{x}^{2} + n_{y}^{2} + u^{2}\\right)}^{\\frac{3}{2}} a^{4} k_{m}^{4}} - \\frac{3 \\, \\pi \\mathrm{D}_{0}\\left(f\\right)\\left(\\frac{\\pi \\sqrt{n_{x}^{2} + n_{y}^{2} + u^{2}}}{a k_{m}}\\right)}{{\\left(n_{x}^{2} + n_{y}^{2} + u^{2}\\right)} a k_{m}} - \\frac{6 \\, \\pi^{3} n_{x}^{2} \\mathrm{D}_{0, 0, 0}\\left(f\\right)\\left(\\frac{\\pi \\sqrt{n_{x}^{2} + n_{y}^{2} + u^{2}}}{a k_{m}}\\right)}{{\\left(n_{x}^{2} + n_{y}^{2} + u^{2}\\right)} a^{3} k_{m}^{3}} - \\frac{3 \\, \\pi^{2} \\mathrm{D}_{0, 0}\\left(f\\right)\\left(\\frac{\\pi \\sqrt{n_{x}^{2} + n_{y}^{2} + u^{2}}}{a k_{m}}\\right)}{\\sqrt{n_{x}^{2} + n_{y}^{2} + u^{2}} a^{2} k_{m}^{2}}\\right)}\\,{d n_{x}}\\,{d n_{y}}$"
      ],
      "text/plain": [
       "<IPython.core.display.Math object>"
      ]
     },
     "metadata": {},
     "output_type": "display_data"
    }
   ],
   "source": [
    "R_p_Fu = euler_maclaurin_R_p(Fu(u, n_x, n_y, a, k_m), n_x, 0, Infinity,p)\n",
    "if type(R_p_Fu) is tuple:\n",
    "    int_R_p_Fu = integral(R_p_Fu[0], (n_y, 0, Infinity), hold=True)\n",
    "else:\n",
    "    int_R_p_Fu = integral(R_p_Fu, (n_y, 0, Infinity), hold=True)\n",
    "\n",
    "display(Math(latex(int_R_p_Fu)))"
   ]
  },
  {
   "cell_type": "code",
   "execution_count": 49,
   "metadata": {},
   "outputs": [
    {
     "data": {
      "text/latex": [
       "$\\displaystyle \\int_{0}^{+\\infty} -\\int_{0}^{+\\infty} -\\frac{1}{240} \\, {\\left(30 \\, {\\left(n_{x} - \\left \\lfloor n_{x} \\right \\rfloor\\right)}^{4} - 60 \\, {\\left(n_{x} - \\left \\lfloor n_{x} \\right \\rfloor\\right)}^{3} + 30 \\, {\\left(n_{x} - \\left \\lfloor n_{x} \\right \\rfloor\\right)}^{2} - 1\\right)} {\\left(\\frac{5 \\, n_{x}^{4}}{{\\left(n_{x}^{2} + n_{y}^{2} + u^{2}\\right)}^{\\frac{7}{2}} {\\left(\\frac{\\pi^{4} {\\left(n_{x}^{2} + n_{y}^{2} + u^{2}\\right)}^{2}}{a^{4} k_{m}^{4}} + 1\\right)}} - \\frac{6 \\, n_{x}^{2}}{{\\left(n_{x}^{2} + n_{y}^{2} + u^{2}\\right)}^{\\frac{5}{2}} {\\left(\\frac{\\pi^{4} {\\left(n_{x}^{2} + n_{y}^{2} + u^{2}\\right)}^{2}}{a^{4} k_{m}^{4}} + 1\\right)}} + \\frac{1}{{\\left(n_{x}^{2} + n_{y}^{2} + u^{2}\\right)}^{\\frac{3}{2}} {\\left(\\frac{\\pi^{4} {\\left(n_{x}^{2} + n_{y}^{2} + u^{2}\\right)}^{2}}{a^{4} k_{m}^{4}} + 1\\right)}} + \\frac{24 \\, \\pi^{4} n_{x}^{2}}{\\sqrt{n_{x}^{2} + n_{y}^{2} + u^{2}} a^{4} k_{m}^{4} {\\left(\\frac{\\pi^{4} {\\left(n_{x}^{2} + n_{y}^{2} + u^{2}\\right)}^{2}}{a^{4} k_{m}^{4}} + 1\\right)}^{2}} + \\frac{16 \\, \\pi^{4} \\sqrt{n_{x}^{2} + n_{y}^{2} + u^{2}}}{a^{4} k_{m}^{4} {\\left(\\frac{\\pi^{4} {\\left(n_{x}^{2} + n_{y}^{2} + u^{2}\\right)}^{2}}{a^{4} k_{m}^{4}} + 1\\right)}^{2}} - \\frac{320 \\, \\pi^{8} \\sqrt{n_{x}^{2} + n_{y}^{2} + u^{2}} n_{x}^{4}}{a^{8} k_{m}^{8} {\\left(\\frac{\\pi^{4} {\\left(n_{x}^{2} + n_{y}^{2} + u^{2}\\right)}^{2}}{a^{4} k_{m}^{4}} + 1\\right)}^{3}} - \\frac{576 \\, \\pi^{8} {\\left(n_{x}^{2} + n_{y}^{2} + u^{2}\\right)}^{\\frac{3}{2}} n_{x}^{2}}{a^{8} k_{m}^{8} {\\left(\\frac{\\pi^{4} {\\left(n_{x}^{2} + n_{y}^{2} + u^{2}\\right)}^{2}}{a^{4} k_{m}^{4}} + 1\\right)}^{3}} - \\frac{32 \\, \\pi^{8} {\\left(n_{x}^{2} + n_{y}^{2} + u^{2}\\right)}^{\\frac{5}{2}}}{a^{8} k_{m}^{8} {\\left(\\frac{\\pi^{4} {\\left(n_{x}^{2} + n_{y}^{2} + u^{2}\\right)}^{2}}{a^{4} k_{m}^{4}} + 1\\right)}^{3}} + \\frac{2048 \\, \\pi^{12} {\\left(n_{x}^{2} + n_{y}^{2} + u^{2}\\right)}^{\\frac{5}{2}} n_{x}^{4}}{a^{12} k_{m}^{12} {\\left(\\frac{\\pi^{4} {\\left(n_{x}^{2} + n_{y}^{2} + u^{2}\\right)}^{2}}{a^{4} k_{m}^{4}} + 1\\right)}^{4}} + \\frac{768 \\, \\pi^{12} {\\left(n_{x}^{2} + n_{y}^{2} + u^{2}\\right)}^{\\frac{7}{2}} n_{x}^{2}}{a^{12} k_{m}^{12} {\\left(\\frac{\\pi^{4} {\\left(n_{x}^{2} + n_{y}^{2} + u^{2}\\right)}^{2}}{a^{4} k_{m}^{4}} + 1\\right)}^{4}} - \\frac{2048 \\, \\pi^{16} {\\left(n_{x}^{2} + n_{y}^{2} + u^{2}\\right)}^{\\frac{9}{2}} n_{x}^{4}}{a^{16} k_{m}^{16} {\\left(\\frac{\\pi^{4} {\\left(n_{x}^{2} + n_{y}^{2} + u^{2}\\right)}^{2}}{a^{4} k_{m}^{4}} + 1\\right)}^{5}}\\right)}\\,{d n_{x}}\\,{d n_{y}}$"
      ],
      "text/plain": [
       "<IPython.core.display.Math object>"
      ]
     },
     "metadata": {},
     "output_type": "display_data"
    }
   ],
   "source": [
    "R_p_Fn = euler_maclaurin_R_p(Fn(u, n_x, n_y, a, k_m), n_x, 0, Infinity,p)\n",
    "if type(R_p_Fn) is tuple:\n",
    "    int_R_p_Fn = integral(R_p_Fn[0], (n_y, 0, Infinity), hold=True)\n",
    "else:\n",
    "    int_R_p_Fn = integral(R_p_Fn, (n_y, 0, Infinity), hold=True)\n",
    "\n",
    "display(Math(latex(int_R_p_Fn)))"
   ]
  },
  {
   "cell_type": "code",
   "execution_count": 50,
   "metadata": {},
   "outputs": [
    {
     "name": "stdout",
     "output_type": "stream",
     "text": [
      "integrand -1/240*(30*(n_x - floor(n_x))^4 - 60*(n_x - floor(n_x))^3 + 30*(n_x - floor(n_x))^2 - 1)*(5*n_x^4/((n_x^2 + n_y^2 + u^2)^(7/2)*(pi^4*(n_x^2 + n_y^2 + u^2)^2/(a^4*k_m^4) + 1)) - 6*n_x^2/((n_x^2 + n_y^2 + u^2)^(5/2)*(pi^4*(n_x^2 + n_y^2 + u^2)^2/(a^4*k_m^4) + 1)) + 1/((n_x^2 + n_y^2 + u^2)^(3/2)*(pi^4*(n_x^2 + n_y^2 + u^2)^2/(a^4*k_m^4) + 1)) + 24*pi^4*n_x^2/(sqrt(n_x^2 + n_y^2 + u^2)*a^4*k_m^4*(pi^4*(n_x^2 + n_y^2 + u^2)^2/(a^4*k_m^4) + 1)^2) + 16*pi^4*sqrt(n_x^2 + n_y^2 + u^2)/(a^4*k_m^4*(pi^4*(n_x^2 + n_y^2 + u^2)^2/(a^4*k_m^4) + 1)^2) - 320*pi^8*sqrt(n_x^2 + n_y^2 + u^2)*n_x^4/(a^8*k_m^8*(pi^4*(n_x^2 + n_y^2 + u^2)^2/(a^4*k_m^4) + 1)^3) - 576*pi^8*(n_x^2 + n_y^2 + u^2)^(3/2)*n_x^2/(a^8*k_m^8*(pi^4*(n_x^2 + n_y^2 + u^2)^2/(a^4*k_m^4) + 1)^3) - 32*pi^8*(n_x^2 + n_y^2 + u^2)^(5/2)/(a^8*k_m^8*(pi^4*(n_x^2 + n_y^2 + u^2)^2/(a^4*k_m^4) + 1)^3) + 2048*pi^12*(n_x^2 + n_y^2 + u^2)^(5/2)*n_x^4/(a^12*k_m^12*(pi^4*(n_x^2 + n_y^2 + u^2)^2/(a^4*k_m^4) + 1)^4) + 768*pi^12*(n_x^2 + n_y^2 + u^2)^(7/2)*n_x^2/(a^12*k_m^12*(pi^4*(n_x^2 + n_y^2 + u^2)^2/(a^4*k_m^4) + 1)^4) - 2048*pi^16*(n_x^2 + n_y^2 + u^2)^(9/2)*n_x^4/(a^16*k_m^16*(pi^4*(n_x^2 + n_y^2 + u^2)^2/(a^4*k_m^4) + 1)^5))\n"
     ]
    }
   ],
   "source": [
    "exec(preparse(\"Fn_diff_x_p = lambda u, n_x, n_y, a, k_m : \" + str(diff(Fn(u, n_x, n_y, a, k_m),n_x,p))))\n",
    "integrand = lambda u, n_x, n_y, a, k_m : Fn_diff_x_p(u, n_x, n_y, a, k_m) * P(x=n_x,p=p)/fact(n=p)\n",
    "\n",
    "print(\"integrand\", integrand(u, n_x, n_y, a, k_m))\n",
    "\n",
    "int_R_p = lambda u, a, k_m : (-1)^(p+1)*num_int(lambda n_y : num_int(lambda n_x : integrand(u, n_x, n_y, a, k_m), 0, Infinity, n_x), 0, Infinity, n_y)\n",
    "#int_R_p (1,1,1)"
   ]
  },
  {
   "cell_type": "raw",
   "metadata": {},
   "source": [
    "int_R_p (1,100,1)"
   ]
  },
  {
   "cell_type": "raw",
   "metadata": {},
   "source": [
    "plot_data_int_R_p = []\n",
    "\n",
    "for _u in (0.01, 0.02, 0.03, 0.04, 0.05, 0.1, 0.2, 0.3, 0.4, 0.5, 1.0, 1.5, 2.0, 2.5, 3.0, 3.5, 4.0, 4.5, 5.0, 5.5, 6, 7, 8, 9, 10):\n",
    "    ans = int_R_p (u=_u, k_m=1, a=1)\n",
    "    print(_u, ans)\n",
    "    plot_data_int_R_p += [(_u, ans)]\n",
    "    \n",
    "list_plot(plot_data_int_R_p).show()"
   ]
  },
  {
   "cell_type": "code",
   "execution_count": 51,
   "metadata": {},
   "outputs": [
    {
     "name": "stdout",
     "output_type": "stream",
     "text": [
      "half_int_F= 1/2*integrate(F(n_x, a_y), n_x, a_x, b_x)\n"
     ]
    },
    {
     "data": {
      "text/latex": [
       "$\\displaystyle \\frac{1}{2} \\, \\int_{a_{x}}^{b_{x}} F\\left(n_{x}, a_{y}\\right)\\,{d n_{x}}$"
      ],
      "text/plain": [
       "<IPython.core.display.Math object>"
      ]
     },
     "metadata": {},
     "output_type": "display_data"
    }
   ],
   "source": [
    "half_int_F = half_summa(integral           (F,(n_x, a_x, b_x)),  n_y, a_y, b_y)\n",
    "print(\"half_int_F=\", half_int_F)\n",
    "display(Math(latex(half_int_F)))"
   ]
  },
  {
   "cell_type": "code",
   "execution_count": 52,
   "metadata": {},
   "outputs": [
    {
     "name": "stdout",
     "output_type": "stream",
     "text": [
      "half_int_Fu= 1/2*integrate(sqrt(n_x^2 + u^2)*f(pi*sqrt(n_x^2 + u^2)/(a*k_m)), n_x, 0, +Infinity)\n"
     ]
    },
    {
     "data": {
      "text/latex": [
       "$\\displaystyle \\frac{1}{2} \\, \\int_{0}^{+\\infty} \\sqrt{n_{x}^{2} + u^{2}} f\\left(\\frac{\\pi \\sqrt{n_{x}^{2} + u^{2}}}{a k_{m}}\\right)\\,{d n_{x}}$"
      ],
      "text/plain": [
       "<IPython.core.display.Math object>"
      ]
     },
     "metadata": {},
     "output_type": "display_data"
    }
   ],
   "source": [
    "half_int_Fu = half_summa(integrate(Fu(u, n_x, n_y, a, k_m),(n_x, 0, Infinity), algorithm=\"sympy\"),  n_y, 0, Infinity)\n",
    "print(\"half_int_Fu=\", half_int_Fu)\n",
    "display(Math(latex(half_int_Fu)))"
   ]
  },
  {
   "cell_type": "raw",
   "metadata": {},
   "source": [
    "# too long time\n",
    "half_int_Fn = half_summa(integrate(Fn(u, n_x, n_y, a, k_m),(n_x, 0, Infinity), algorithm=\"sympy\"),  n_y, 0, Infinity)\n",
    "print(\"half_int_F=\", half_int_Fn)\n",
    "display(Math(latex(half_int_Fn)))"
   ]
  },
  {
   "cell_type": "code",
   "execution_count": 53,
   "metadata": {},
   "outputs": [
    {
     "data": {
      "text/latex": [
       "$\\displaystyle \\int_{0}^{+\\infty} \\frac{\\sqrt{n_{y}^{2} + u^{2}}}{2 \\, {\\left(\\frac{\\pi^{4} {\\left(n_{y}^{2} + u^{2}\\right)}^{2}}{a^{4} k_{m}^{4}} + 1\\right)}}\\,{d n_{y}}$"
      ],
      "text/plain": [
       "<IPython.core.display.Math object>"
      ]
     },
     "metadata": {},
     "output_type": "display_data"
    }
   ],
   "source": [
    "disp(int_half_Fn(u, a, k_m))"
   ]
  },
  {
   "cell_type": "code",
   "execution_count": 54,
   "metadata": {},
   "outputs": [],
   "source": [
    "# too long time\n",
    "# Interrupting Giac...\n",
    "half_int_Fn = int_half_Fn(u, a, k_m).subs(n_y == n_x)"
   ]
  },
  {
   "cell_type": "code",
   "execution_count": 55,
   "metadata": {},
   "outputs": [
    {
     "data": {
      "text/latex": [
       "$\\displaystyle \\frac{1}{2} \\, a^{4} k_{m}^{4} \\int_{0}^{+\\infty} \\frac{\\sqrt{n_{x}^{2} + u^{2}}}{a^{4} k_{m}^{4} + \\pi^{4} n_{x}^{4} + 2 \\, \\pi^{4} n_{x}^{2} u^{2} + \\pi^{4} u^{4}}\\,{d n_{x}}$"
      ],
      "text/plain": [
       "<IPython.core.display.Math object>"
      ]
     },
     "metadata": {},
     "output_type": "display_data"
    }
   ],
   "source": [
    "disp(half_int_Fn)"
   ]
  },
  {
   "cell_type": "code",
   "execution_count": 56,
   "metadata": {},
   "outputs": [
    {
     "name": "stdout",
     "output_type": "stream",
     "text": [
      "half_half_F= 1/4*F(a_x, a_y)\n"
     ]
    },
    {
     "data": {
      "text/latex": [
       "$\\displaystyle \\frac{1}{4} \\, F\\left(a_{x}, a_{y}\\right)$"
      ],
      "text/plain": [
       "<IPython.core.display.Math object>"
      ]
     },
     "metadata": {},
     "output_type": "display_data"
    }
   ],
   "source": [
    "half_half_F = half_summa(half_summa(F, n_x, a_x, b_x), n_y, a_y, b_y)\n",
    "print(\"half_half_F=\", half_half_F)\n",
    "display(Math(latex(half_half_F)))"
   ]
  },
  {
   "cell_type": "code",
   "execution_count": 57,
   "metadata": {},
   "outputs": [
    {
     "name": "stdout",
     "output_type": "stream",
     "text": [
      "half_half_Fu= 1/4*sqrt(u^2)*f(pi*sqrt(u^2)/(a*k_m))\n"
     ]
    },
    {
     "data": {
      "text/latex": [
       "$\\displaystyle \\frac{1}{4} \\, \\sqrt{u^{2}} f\\left(\\frac{\\pi \\sqrt{u^{2}}}{a k_{m}}\\right)$"
      ],
      "text/plain": [
       "<IPython.core.display.Math object>"
      ]
     },
     "metadata": {},
     "output_type": "display_data"
    }
   ],
   "source": [
    "half_half_Fu = half_summa(half_summa(Fu(u, n_x, n_y, a, k_m), n_x, 0, Infinity), n_y, 0, Infinity)\n",
    "print(\"half_half_Fu=\", half_half_Fu)\n",
    "display(Math(latex(half_half_Fu)))"
   ]
  },
  {
   "cell_type": "code",
   "execution_count": 58,
   "metadata": {},
   "outputs": [
    {
     "name": "stdout",
     "output_type": "stream",
     "text": [
      "half_half_Fn= 1/4*sqrt(u^2)/(pi^4*u^4/(a^4*k_m^4) + 1)\n"
     ]
    },
    {
     "data": {
      "text/latex": [
       "$\\displaystyle \\frac{\\sqrt{u^{2}}}{4 \\, {\\left(\\frac{\\pi^{4} u^{4}}{a^{4} k_{m}^{4}} + 1\\right)}}$"
      ],
      "text/plain": [
       "<IPython.core.display.Math object>"
      ]
     },
     "metadata": {},
     "output_type": "display_data"
    }
   ],
   "source": [
    "half_half_Fn = half_summa(half_summa(Fn(u, n_x, n_y, a, k_m), n_x, 0, Infinity), n_y, 0, Infinity)\n",
    "print(\"half_half_Fn=\", half_half_Fn)\n",
    "display(Math(latex(half_half_Fn)))"
   ]
  },
  {
   "cell_type": "code",
   "execution_count": 59,
   "metadata": {},
   "outputs": [
    {
     "name": "stdout",
     "output_type": "stream",
     "text": [
      "half_sum_F= -1/24*diff(F(a_x, a_y), a_x) + 1/1440*diff(F(a_x, a_y), a_x, a_x, a_x)\n"
     ]
    },
    {
     "data": {
      "text/latex": [
       "$\\displaystyle -\\frac{1}{24} \\, \\frac{\\partial}{\\partial a_{x}}F\\left(a_{x}, a_{y}\\right) + \\frac{1}{1440} \\, \\frac{\\partial^{3}}{(\\partial a_{x})^{3}}F\\left(a_{x}, a_{y}\\right)$"
      ],
      "text/plain": [
       "<IPython.core.display.Math object>"
      ]
     },
     "metadata": {},
     "output_type": "display_data"
    }
   ],
   "source": [
    "half_sum_F = half_summa(sum_dfdx_bernoulis (F, n_x, a_x, b_x,p), n_y, a_y, b_y)\n",
    "print(\"half_sum_F=\",half_sum_F)\n",
    "display(Math(latex(half_sum_F)))"
   ]
  },
  {
   "cell_type": "code",
   "execution_count": 60,
   "metadata": {},
   "outputs": [
    {
     "name": "stdout",
     "output_type": "stream",
     "text": [
      "half_sum_Fu= 0\n"
     ]
    },
    {
     "data": {
      "text/latex": [
       "$\\displaystyle 0$"
      ],
      "text/plain": [
       "<IPython.core.display.Math object>"
      ]
     },
     "metadata": {},
     "output_type": "display_data"
    }
   ],
   "source": [
    "half_sum_Fu = half_summa(sum_dfdx_bernoulis (Fu(u, n_x, n_y, a, k_m), n_x, 0, Infinity,p), n_y, 0, Infinity)\n",
    "print(\"half_sum_Fu=\",half_sum_Fu)\n",
    "display(Math(latex(half_sum_Fu)))"
   ]
  },
  {
   "cell_type": "code",
   "execution_count": 61,
   "metadata": {},
   "outputs": [
    {
     "name": "stdout",
     "output_type": "stream",
     "text": [
      "half_sum_Fn= 0\n"
     ]
    },
    {
     "data": {
      "text/latex": [
       "$\\displaystyle 0$"
      ],
      "text/plain": [
       "<IPython.core.display.Math object>"
      ]
     },
     "metadata": {},
     "output_type": "display_data"
    }
   ],
   "source": [
    "half_sum_Fn = half_summa(sum_dfdx_bernoulis (Fn(u, n_x, n_y, a, k_m), n_x, 0, Infinity,p), n_y, 0, Infinity)\n",
    "print(\"half_sum_Fn=\",half_sum_Fn)\n",
    "display(Math(latex(half_sum_Fn)))"
   ]
  },
  {
   "cell_type": "code",
   "execution_count": 62,
   "metadata": {},
   "outputs": [
    {
     "data": {
      "text/latex": [
       "$\\displaystyle -\\frac{1}{1440} \\, \\int_{a_{x}}^{b_{x}} 30 \\, n_{x}^{4} \\frac{\\partial^{4}}{(\\partial n_{x})^{4}}F\\left(n_{x}, a_{y}\\right)\\,{d n_{x}} - \\frac{1}{1440} \\, \\int_{a_{x}}^{b_{x}} -120 \\, n_{x}^{3} \\left \\lfloor n_{x} \\right \\rfloor \\frac{\\partial^{4}}{(\\partial n_{x})^{4}}F\\left(n_{x}, a_{y}\\right)\\,{d n_{x}} - \\frac{1}{1440} \\, \\int_{a_{x}}^{b_{x}} 180 \\, n_{x}^{2} \\left \\lfloor n_{x} \\right \\rfloor^{2} \\frac{\\partial^{4}}{(\\partial n_{x})^{4}}F\\left(n_{x}, a_{y}\\right)\\,{d n_{x}} - \\frac{1}{1440} \\, \\int_{a_{x}}^{b_{x}} -120 \\, n_{x} \\left \\lfloor n_{x} \\right \\rfloor^{3} \\frac{\\partial^{4}}{(\\partial n_{x})^{4}}F\\left(n_{x}, a_{y}\\right)\\,{d n_{x}} - \\frac{1}{1440} \\, \\int_{a_{x}}^{b_{x}} 30 \\, \\left \\lfloor n_{x} \\right \\rfloor^{4} \\frac{\\partial^{4}}{(\\partial n_{x})^{4}}F\\left(n_{x}, a_{y}\\right)\\,{d n_{x}} - \\frac{1}{1440} \\, \\int_{a_{x}}^{b_{x}} -60 \\, n_{x}^{3} \\frac{\\partial^{4}}{(\\partial n_{x})^{4}}F\\left(n_{x}, a_{y}\\right)\\,{d n_{x}} - \\frac{1}{1440} \\, \\int_{a_{x}}^{b_{x}} 180 \\, n_{x}^{2} \\left \\lfloor n_{x} \\right \\rfloor \\frac{\\partial^{4}}{(\\partial n_{x})^{4}}F\\left(n_{x}, a_{y}\\right)\\,{d n_{x}} - \\frac{1}{1440} \\, \\int_{a_{x}}^{b_{x}} -180 \\, n_{x} \\left \\lfloor n_{x} \\right \\rfloor^{2} \\frac{\\partial^{4}}{(\\partial n_{x})^{4}}F\\left(n_{x}, a_{y}\\right)\\,{d n_{x}} - \\frac{1}{1440} \\, \\int_{a_{x}}^{b_{x}} 60 \\, \\left \\lfloor n_{x} \\right \\rfloor^{3} \\frac{\\partial^{4}}{(\\partial n_{x})^{4}}F\\left(n_{x}, a_{y}\\right)\\,{d n_{x}} - \\frac{1}{1440} \\, \\int_{a_{x}}^{b_{x}} 30 \\, n_{x}^{2} \\frac{\\partial^{4}}{(\\partial n_{x})^{4}}F\\left(n_{x}, a_{y}\\right)\\,{d n_{x}} - \\frac{1}{1440} \\, \\int_{a_{x}}^{b_{x}} -60 \\, n_{x} \\left \\lfloor n_{x} \\right \\rfloor \\frac{\\partial^{4}}{(\\partial n_{x})^{4}}F\\left(n_{x}, a_{y}\\right)\\,{d n_{x}} - \\frac{1}{1440} \\, \\int_{a_{x}}^{b_{x}} 30 \\, \\left \\lfloor n_{x} \\right \\rfloor^{2} \\frac{\\partial^{4}}{(\\partial n_{x})^{4}}F\\left(n_{x}, a_{y}\\right)\\,{d n_{x}} - \\frac{1}{1440} \\, \\int_{a_{x}}^{b_{x}} -\\frac{\\partial^{4}}{(\\partial n_{x})^{4}}F\\left(n_{x}, a_{y}\\right)\\,{d n_{x}}$"
      ],
      "text/plain": [
       "<IPython.core.display.Math object>"
      ]
     },
     "metadata": {},
     "output_type": "display_data"
    }
   ],
   "source": [
    "half_R_p_F = half_summa(R_p_F, n_y, a_y, b_y)\n",
    "display(Math(latex(half_R_p_F)))"
   ]
  },
  {
   "cell_type": "code",
   "execution_count": 63,
   "metadata": {},
   "outputs": [
    {
     "data": {
      "text/latex": [
       "$\\displaystyle -\\frac{-90 \\, a^{4} k_{m}^{4} u^{4} \\int_{0}^{+\\infty} \\frac{n_{x}^{4} f\\left(\\frac{\\pi \\sqrt{n_{x}^{2} + u^{2}}}{a k_{m}}\\right)}{\\sqrt{n_{x}^{2} + u^{2}} n_{x}^{6} + 3 \\, \\sqrt{n_{x}^{2} + u^{2}} n_{x}^{4} u^{2} + 3 \\, \\sqrt{n_{x}^{2} + u^{2}} n_{x}^{2} u^{4} + \\sqrt{n_{x}^{2} + u^{2}} u^{6}}\\,{d n_{x}} + 360 \\, a^{4} k_{m}^{4} u^{4} \\int_{0}^{+\\infty} \\frac{n_{x}^{3} f\\left(\\frac{\\pi \\sqrt{n_{x}^{2} + u^{2}}}{a k_{m}}\\right) \\left \\lfloor n_{x} \\right \\rfloor}{\\sqrt{n_{x}^{2} + u^{2}} n_{x}^{6} + 3 \\, \\sqrt{n_{x}^{2} + u^{2}} n_{x}^{4} u^{2} + 3 \\, \\sqrt{n_{x}^{2} + u^{2}} n_{x}^{2} u^{4} + \\sqrt{n_{x}^{2} + u^{2}} u^{6}}\\,{d n_{x}} - 540 \\, a^{4} k_{m}^{4} u^{4} \\int_{0}^{+\\infty} \\frac{n_{x}^{2} f\\left(\\frac{\\pi \\sqrt{n_{x}^{2} + u^{2}}}{a k_{m}}\\right) \\left \\lfloor n_{x} \\right \\rfloor^{2}}{\\sqrt{n_{x}^{2} + u^{2}} n_{x}^{6} + 3 \\, \\sqrt{n_{x}^{2} + u^{2}} n_{x}^{4} u^{2} + 3 \\, \\sqrt{n_{x}^{2} + u^{2}} n_{x}^{2} u^{4} + \\sqrt{n_{x}^{2} + u^{2}} u^{6}}\\,{d n_{x}} + 360 \\, a^{4} k_{m}^{4} u^{4} \\int_{0}^{+\\infty} \\frac{n_{x} f\\left(\\frac{\\pi \\sqrt{n_{x}^{2} + u^{2}}}{a k_{m}}\\right) \\left \\lfloor n_{x} \\right \\rfloor^{3}}{\\sqrt{n_{x}^{2} + u^{2}} n_{x}^{6} + 3 \\, \\sqrt{n_{x}^{2} + u^{2}} n_{x}^{4} u^{2} + 3 \\, \\sqrt{n_{x}^{2} + u^{2}} n_{x}^{2} u^{4} + \\sqrt{n_{x}^{2} + u^{2}} u^{6}}\\,{d n_{x}} - 90 \\, a^{4} k_{m}^{4} u^{4} \\int_{0}^{+\\infty} \\frac{f\\left(\\frac{\\pi \\sqrt{n_{x}^{2} + u^{2}}}{a k_{m}}\\right) \\left \\lfloor n_{x} \\right \\rfloor^{4}}{\\sqrt{n_{x}^{2} + u^{2}} n_{x}^{6} + 3 \\, \\sqrt{n_{x}^{2} + u^{2}} n_{x}^{4} u^{2} + 3 \\, \\sqrt{n_{x}^{2} + u^{2}} n_{x}^{2} u^{4} + \\sqrt{n_{x}^{2} + u^{2}} u^{6}}\\,{d n_{x}} + 90 \\, \\pi^{2} a^{2} k_{m}^{2} u^{6} \\int_{0}^{+\\infty} \\frac{n_{x}^{4} \\mathrm{D}_{0, 0}\\left(f\\right)\\left(\\frac{\\pi \\sqrt{n_{x}^{2} + u^{2}}}{a k_{m}}\\right)}{\\sqrt{n_{x}^{2} + u^{2}} n_{x}^{6} + 3 \\, \\sqrt{n_{x}^{2} + u^{2}} n_{x}^{4} u^{2} + 3 \\, \\sqrt{n_{x}^{2} + u^{2}} n_{x}^{2} u^{4} + \\sqrt{n_{x}^{2} + u^{2}} u^{6}}\\,{d n_{x}} - 360 \\, \\pi^{2} a^{2} k_{m}^{2} u^{6} \\int_{0}^{+\\infty} \\frac{n_{x}^{3} \\left \\lfloor n_{x} \\right \\rfloor \\mathrm{D}_{0, 0}\\left(f\\right)\\left(\\frac{\\pi \\sqrt{n_{x}^{2} + u^{2}}}{a k_{m}}\\right)}{\\sqrt{n_{x}^{2} + u^{2}} n_{x}^{6} + 3 \\, \\sqrt{n_{x}^{2} + u^{2}} n_{x}^{4} u^{2} + 3 \\, \\sqrt{n_{x}^{2} + u^{2}} n_{x}^{2} u^{4} + \\sqrt{n_{x}^{2} + u^{2}} u^{6}}\\,{d n_{x}} + 540 \\, \\pi^{2} a^{2} k_{m}^{2} u^{6} \\int_{0}^{+\\infty} \\frac{n_{x}^{2} \\left \\lfloor n_{x} \\right \\rfloor^{2} \\mathrm{D}_{0, 0}\\left(f\\right)\\left(\\frac{\\pi \\sqrt{n_{x}^{2} + u^{2}}}{a k_{m}}\\right)}{\\sqrt{n_{x}^{2} + u^{2}} n_{x}^{6} + 3 \\, \\sqrt{n_{x}^{2} + u^{2}} n_{x}^{4} u^{2} + 3 \\, \\sqrt{n_{x}^{2} + u^{2}} n_{x}^{2} u^{4} + \\sqrt{n_{x}^{2} + u^{2}} u^{6}}\\,{d n_{x}} - 360 \\, \\pi^{2} a^{2} k_{m}^{2} u^{6} \\int_{0}^{+\\infty} \\frac{n_{x} \\left \\lfloor n_{x} \\right \\rfloor^{3} \\mathrm{D}_{0, 0}\\left(f\\right)\\left(\\frac{\\pi \\sqrt{n_{x}^{2} + u^{2}}}{a k_{m}}\\right)}{\\sqrt{n_{x}^{2} + u^{2}} n_{x}^{6} + 3 \\, \\sqrt{n_{x}^{2} + u^{2}} n_{x}^{4} u^{2} + 3 \\, \\sqrt{n_{x}^{2} + u^{2}} n_{x}^{2} u^{4} + \\sqrt{n_{x}^{2} + u^{2}} u^{6}}\\,{d n_{x}} + 90 \\, \\pi^{2} a^{2} k_{m}^{2} u^{6} \\int_{0}^{+\\infty} \\frac{\\left \\lfloor n_{x} \\right \\rfloor^{4} \\mathrm{D}_{0, 0}\\left(f\\right)\\left(\\frac{\\pi \\sqrt{n_{x}^{2} + u^{2}}}{a k_{m}}\\right)}{\\sqrt{n_{x}^{2} + u^{2}} n_{x}^{6} + 3 \\, \\sqrt{n_{x}^{2} + u^{2}} n_{x}^{4} u^{2} + 3 \\, \\sqrt{n_{x}^{2} + u^{2}} n_{x}^{2} u^{4} + \\sqrt{n_{x}^{2} + u^{2}} u^{6}}\\,{d n_{x}} + 180 \\, a^{4} k_{m}^{4} u^{4} \\int_{0}^{+\\infty} \\frac{n_{x}^{3} f\\left(\\frac{\\pi \\sqrt{n_{x}^{2} + u^{2}}}{a k_{m}}\\right)}{\\sqrt{n_{x}^{2} + u^{2}} n_{x}^{6} + 3 \\, \\sqrt{n_{x}^{2} + u^{2}} n_{x}^{4} u^{2} + 3 \\, \\sqrt{n_{x}^{2} + u^{2}} n_{x}^{2} u^{4} + \\sqrt{n_{x}^{2} + u^{2}} u^{6}}\\,{d n_{x}} - 540 \\, a^{4} k_{m}^{4} u^{4} \\int_{0}^{+\\infty} \\frac{n_{x}^{2} f\\left(\\frac{\\pi \\sqrt{n_{x}^{2} + u^{2}}}{a k_{m}}\\right) \\left \\lfloor n_{x} \\right \\rfloor}{\\sqrt{n_{x}^{2} + u^{2}} n_{x}^{6} + 3 \\, \\sqrt{n_{x}^{2} + u^{2}} n_{x}^{4} u^{2} + 3 \\, \\sqrt{n_{x}^{2} + u^{2}} n_{x}^{2} u^{4} + \\sqrt{n_{x}^{2} + u^{2}} u^{6}}\\,{d n_{x}} + 540 \\, a^{4} k_{m}^{4} u^{4} \\int_{0}^{+\\infty} \\frac{n_{x} f\\left(\\frac{\\pi \\sqrt{n_{x}^{2} + u^{2}}}{a k_{m}}\\right) \\left \\lfloor n_{x} \\right \\rfloor^{2}}{\\sqrt{n_{x}^{2} + u^{2}} n_{x}^{6} + 3 \\, \\sqrt{n_{x}^{2} + u^{2}} n_{x}^{4} u^{2} + 3 \\, \\sqrt{n_{x}^{2} + u^{2}} n_{x}^{2} u^{4} + \\sqrt{n_{x}^{2} + u^{2}} u^{6}}\\,{d n_{x}} - 180 \\, a^{4} k_{m}^{4} u^{4} \\int_{0}^{+\\infty} \\frac{f\\left(\\frac{\\pi \\sqrt{n_{x}^{2} + u^{2}}}{a k_{m}}\\right) \\left \\lfloor n_{x} \\right \\rfloor^{3}}{\\sqrt{n_{x}^{2} + u^{2}} n_{x}^{6} + 3 \\, \\sqrt{n_{x}^{2} + u^{2}} n_{x}^{4} u^{2} + 3 \\, \\sqrt{n_{x}^{2} + u^{2}} n_{x}^{2} u^{4} + \\sqrt{n_{x}^{2} + u^{2}} u^{6}}\\,{d n_{x}} - 180 \\, \\pi^{2} a^{2} k_{m}^{2} u^{6} \\int_{0}^{+\\infty} \\frac{n_{x}^{3} \\mathrm{D}_{0, 0}\\left(f\\right)\\left(\\frac{\\pi \\sqrt{n_{x}^{2} + u^{2}}}{a k_{m}}\\right)}{\\sqrt{n_{x}^{2} + u^{2}} n_{x}^{6} + 3 \\, \\sqrt{n_{x}^{2} + u^{2}} n_{x}^{4} u^{2} + 3 \\, \\sqrt{n_{x}^{2} + u^{2}} n_{x}^{2} u^{4} + \\sqrt{n_{x}^{2} + u^{2}} u^{6}}\\,{d n_{x}} + 540 \\, \\pi^{2} a^{2} k_{m}^{2} u^{6} \\int_{0}^{+\\infty} \\frac{n_{x}^{2} \\left \\lfloor n_{x} \\right \\rfloor \\mathrm{D}_{0, 0}\\left(f\\right)\\left(\\frac{\\pi \\sqrt{n_{x}^{2} + u^{2}}}{a k_{m}}\\right)}{\\sqrt{n_{x}^{2} + u^{2}} n_{x}^{6} + 3 \\, \\sqrt{n_{x}^{2} + u^{2}} n_{x}^{4} u^{2} + 3 \\, \\sqrt{n_{x}^{2} + u^{2}} n_{x}^{2} u^{4} + \\sqrt{n_{x}^{2} + u^{2}} u^{6}}\\,{d n_{x}} - 540 \\, \\pi^{2} a^{2} k_{m}^{2} u^{6} \\int_{0}^{+\\infty} \\frac{n_{x} \\left \\lfloor n_{x} \\right \\rfloor^{2} \\mathrm{D}_{0, 0}\\left(f\\right)\\left(\\frac{\\pi \\sqrt{n_{x}^{2} + u^{2}}}{a k_{m}}\\right)}{\\sqrt{n_{x}^{2} + u^{2}} n_{x}^{6} + 3 \\, \\sqrt{n_{x}^{2} + u^{2}} n_{x}^{4} u^{2} + 3 \\, \\sqrt{n_{x}^{2} + u^{2}} n_{x}^{2} u^{4} + \\sqrt{n_{x}^{2} + u^{2}} u^{6}}\\,{d n_{x}} + 180 \\, \\pi^{2} a^{2} k_{m}^{2} u^{6} \\int_{0}^{+\\infty} \\frac{\\left \\lfloor n_{x} \\right \\rfloor^{3} \\mathrm{D}_{0, 0}\\left(f\\right)\\left(\\frac{\\pi \\sqrt{n_{x}^{2} + u^{2}}}{a k_{m}}\\right)}{\\sqrt{n_{x}^{2} + u^{2}} n_{x}^{6} + 3 \\, \\sqrt{n_{x}^{2} + u^{2}} n_{x}^{4} u^{2} + 3 \\, \\sqrt{n_{x}^{2} + u^{2}} n_{x}^{2} u^{4} + \\sqrt{n_{x}^{2} + u^{2}} u^{6}}\\,{d n_{x}} - 90 \\, a^{4} k_{m}^{4} u^{4} \\int_{0}^{+\\infty} \\frac{n_{x}^{2} f\\left(\\frac{\\pi \\sqrt{n_{x}^{2} + u^{2}}}{a k_{m}}\\right)}{\\sqrt{n_{x}^{2} + u^{2}} n_{x}^{6} + 3 \\, \\sqrt{n_{x}^{2} + u^{2}} n_{x}^{4} u^{2} + 3 \\, \\sqrt{n_{x}^{2} + u^{2}} n_{x}^{2} u^{4} + \\sqrt{n_{x}^{2} + u^{2}} u^{6}}\\,{d n_{x}} + 180 \\, a^{4} k_{m}^{4} u^{4} \\int_{0}^{+\\infty} \\frac{n_{x} f\\left(\\frac{\\pi \\sqrt{n_{x}^{2} + u^{2}}}{a k_{m}}\\right) \\left \\lfloor n_{x} \\right \\rfloor}{\\sqrt{n_{x}^{2} + u^{2}} n_{x}^{6} + 3 \\, \\sqrt{n_{x}^{2} + u^{2}} n_{x}^{4} u^{2} + 3 \\, \\sqrt{n_{x}^{2} + u^{2}} n_{x}^{2} u^{4} + \\sqrt{n_{x}^{2} + u^{2}} u^{6}}\\,{d n_{x}} - 90 \\, a^{4} k_{m}^{4} u^{4} \\int_{0}^{+\\infty} \\frac{f\\left(\\frac{\\pi \\sqrt{n_{x}^{2} + u^{2}}}{a k_{m}}\\right) \\left \\lfloor n_{x} \\right \\rfloor^{2}}{\\sqrt{n_{x}^{2} + u^{2}} n_{x}^{6} + 3 \\, \\sqrt{n_{x}^{2} + u^{2}} n_{x}^{4} u^{2} + 3 \\, \\sqrt{n_{x}^{2} + u^{2}} n_{x}^{2} u^{4} + \\sqrt{n_{x}^{2} + u^{2}} u^{6}}\\,{d n_{x}} + 90 \\, \\pi^{2} a^{2} k_{m}^{2} u^{6} \\int_{0}^{+\\infty} \\frac{n_{x}^{2} \\mathrm{D}_{0, 0}\\left(f\\right)\\left(\\frac{\\pi \\sqrt{n_{x}^{2} + u^{2}}}{a k_{m}}\\right)}{\\sqrt{n_{x}^{2} + u^{2}} n_{x}^{6} + 3 \\, \\sqrt{n_{x}^{2} + u^{2}} n_{x}^{4} u^{2} + 3 \\, \\sqrt{n_{x}^{2} + u^{2}} n_{x}^{2} u^{4} + \\sqrt{n_{x}^{2} + u^{2}} u^{6}}\\,{d n_{x}} - 180 \\, \\pi^{2} a^{2} k_{m}^{2} u^{6} \\int_{0}^{+\\infty} \\frac{n_{x} \\left \\lfloor n_{x} \\right \\rfloor \\mathrm{D}_{0, 0}\\left(f\\right)\\left(\\frac{\\pi \\sqrt{n_{x}^{2} + u^{2}}}{a k_{m}}\\right)}{\\sqrt{n_{x}^{2} + u^{2}} n_{x}^{6} + 3 \\, \\sqrt{n_{x}^{2} + u^{2}} n_{x}^{4} u^{2} + 3 \\, \\sqrt{n_{x}^{2} + u^{2}} n_{x}^{2} u^{4} + \\sqrt{n_{x}^{2} + u^{2}} u^{6}}\\,{d n_{x}} + 90 \\, \\pi^{2} a^{2} k_{m}^{2} u^{6} \\int_{0}^{+\\infty} \\frac{\\left \\lfloor n_{x} \\right \\rfloor^{2} \\mathrm{D}_{0, 0}\\left(f\\right)\\left(\\frac{\\pi \\sqrt{n_{x}^{2} + u^{2}}}{a k_{m}}\\right)}{\\sqrt{n_{x}^{2} + u^{2}} n_{x}^{6} + 3 \\, \\sqrt{n_{x}^{2} + u^{2}} n_{x}^{4} u^{2} + 3 \\, \\sqrt{n_{x}^{2} + u^{2}} n_{x}^{2} u^{4} + \\sqrt{n_{x}^{2} + u^{2}} u^{6}}\\,{d n_{x}} + 3 \\, a^{4} k_{m}^{4} u^{4} \\int_{0}^{+\\infty} \\frac{f\\left(\\frac{\\pi \\sqrt{n_{x}^{2} + u^{2}}}{a k_{m}}\\right)}{\\sqrt{n_{x}^{2} + u^{2}} n_{x}^{6} + 3 \\, \\sqrt{n_{x}^{2} + u^{2}} n_{x}^{4} u^{2} + 3 \\, \\sqrt{n_{x}^{2} + u^{2}} n_{x}^{2} u^{4} + \\sqrt{n_{x}^{2} + u^{2}} u^{6}}\\,{d n_{x}} - 3 \\, \\pi^{2} a^{2} k_{m}^{2} u^{6} \\int_{0}^{+\\infty} \\frac{\\mathrm{D}_{0, 0}\\left(f\\right)\\left(\\frac{\\pi \\sqrt{n_{x}^{2} + u^{2}}}{a k_{m}}\\right)}{\\sqrt{n_{x}^{2} + u^{2}} n_{x}^{6} + 3 \\, \\sqrt{n_{x}^{2} + u^{2}} n_{x}^{4} u^{2} + 3 \\, \\sqrt{n_{x}^{2} + u^{2}} n_{x}^{2} u^{4} + \\sqrt{n_{x}^{2} + u^{2}} u^{6}}\\,{d n_{x}} + 90 \\, \\pi a^{3} k_{m}^{3} u^{4} \\int_{0}^{+\\infty} \\frac{n_{x}^{4} \\mathrm{D}_{0}\\left(f\\right)\\left(\\frac{\\pi \\sqrt{n_{x}^{2} + u^{2}}}{a k_{m}}\\right)}{n_{x}^{6} + 3 \\, n_{x}^{4} u^{2} + 3 \\, n_{x}^{2} u^{4} + u^{6}}\\,{d n_{x}} - 360 \\, \\pi a^{3} k_{m}^{3} u^{4} \\int_{0}^{+\\infty} \\frac{n_{x}^{3} \\left \\lfloor n_{x} \\right \\rfloor \\mathrm{D}_{0}\\left(f\\right)\\left(\\frac{\\pi \\sqrt{n_{x}^{2} + u^{2}}}{a k_{m}}\\right)}{n_{x}^{6} + 3 \\, n_{x}^{4} u^{2} + 3 \\, n_{x}^{2} u^{4} + u^{6}}\\,{d n_{x}} + 540 \\, \\pi a^{3} k_{m}^{3} u^{4} \\int_{0}^{+\\infty} \\frac{n_{x}^{2} \\left \\lfloor n_{x} \\right \\rfloor^{2} \\mathrm{D}_{0}\\left(f\\right)\\left(\\frac{\\pi \\sqrt{n_{x}^{2} + u^{2}}}{a k_{m}}\\right)}{n_{x}^{6} + 3 \\, n_{x}^{4} u^{2} + 3 \\, n_{x}^{2} u^{4} + u^{6}}\\,{d n_{x}} - 360 \\, \\pi a^{3} k_{m}^{3} u^{4} \\int_{0}^{+\\infty} \\frac{n_{x} \\left \\lfloor n_{x} \\right \\rfloor^{3} \\mathrm{D}_{0}\\left(f\\right)\\left(\\frac{\\pi \\sqrt{n_{x}^{2} + u^{2}}}{a k_{m}}\\right)}{n_{x}^{6} + 3 \\, n_{x}^{4} u^{2} + 3 \\, n_{x}^{2} u^{4} + u^{6}}\\,{d n_{x}} + 90 \\, \\pi a^{3} k_{m}^{3} u^{4} \\int_{0}^{+\\infty} \\frac{\\left \\lfloor n_{x} \\right \\rfloor^{4} \\mathrm{D}_{0}\\left(f\\right)\\left(\\frac{\\pi \\sqrt{n_{x}^{2} + u^{2}}}{a k_{m}}\\right)}{n_{x}^{6} + 3 \\, n_{x}^{4} u^{2} + 3 \\, n_{x}^{2} u^{4} + u^{6}}\\,{d n_{x}} - 180 \\, \\pi a^{3} k_{m}^{3} u^{4} \\int_{0}^{+\\infty} \\frac{n_{x}^{3} \\mathrm{D}_{0}\\left(f\\right)\\left(\\frac{\\pi \\sqrt{n_{x}^{2} + u^{2}}}{a k_{m}}\\right)}{n_{x}^{6} + 3 \\, n_{x}^{4} u^{2} + 3 \\, n_{x}^{2} u^{4} + u^{6}}\\,{d n_{x}} + 540 \\, \\pi a^{3} k_{m}^{3} u^{4} \\int_{0}^{+\\infty} \\frac{n_{x}^{2} \\left \\lfloor n_{x} \\right \\rfloor \\mathrm{D}_{0}\\left(f\\right)\\left(\\frac{\\pi \\sqrt{n_{x}^{2} + u^{2}}}{a k_{m}}\\right)}{n_{x}^{6} + 3 \\, n_{x}^{4} u^{2} + 3 \\, n_{x}^{2} u^{4} + u^{6}}\\,{d n_{x}} - 540 \\, \\pi a^{3} k_{m}^{3} u^{4} \\int_{0}^{+\\infty} \\frac{n_{x} \\left \\lfloor n_{x} \\right \\rfloor^{2} \\mathrm{D}_{0}\\left(f\\right)\\left(\\frac{\\pi \\sqrt{n_{x}^{2} + u^{2}}}{a k_{m}}\\right)}{n_{x}^{6} + 3 \\, n_{x}^{4} u^{2} + 3 \\, n_{x}^{2} u^{4} + u^{6}}\\,{d n_{x}} + 180 \\, \\pi a^{3} k_{m}^{3} u^{4} \\int_{0}^{+\\infty} \\frac{\\left \\lfloor n_{x} \\right \\rfloor^{3} \\mathrm{D}_{0}\\left(f\\right)\\left(\\frac{\\pi \\sqrt{n_{x}^{2} + u^{2}}}{a k_{m}}\\right)}{n_{x}^{6} + 3 \\, n_{x}^{4} u^{2} + 3 \\, n_{x}^{2} u^{4} + u^{6}}\\,{d n_{x}} + 90 \\, \\pi a^{3} k_{m}^{3} u^{4} \\int_{0}^{+\\infty} \\frac{n_{x}^{2} \\mathrm{D}_{0}\\left(f\\right)\\left(\\frac{\\pi \\sqrt{n_{x}^{2} + u^{2}}}{a k_{m}}\\right)}{n_{x}^{6} + 3 \\, n_{x}^{4} u^{2} + 3 \\, n_{x}^{2} u^{4} + u^{6}}\\,{d n_{x}} - 180 \\, \\pi a^{3} k_{m}^{3} u^{4} \\int_{0}^{+\\infty} \\frac{n_{x} \\left \\lfloor n_{x} \\right \\rfloor \\mathrm{D}_{0}\\left(f\\right)\\left(\\frac{\\pi \\sqrt{n_{x}^{2} + u^{2}}}{a k_{m}}\\right)}{n_{x}^{6} + 3 \\, n_{x}^{4} u^{2} + 3 \\, n_{x}^{2} u^{4} + u^{6}}\\,{d n_{x}} + 90 \\, \\pi a^{3} k_{m}^{3} u^{4} \\int_{0}^{+\\infty} \\frac{\\left \\lfloor n_{x} \\right \\rfloor^{2} \\mathrm{D}_{0}\\left(f\\right)\\left(\\frac{\\pi \\sqrt{n_{x}^{2} + u^{2}}}{a k_{m}}\\right)}{n_{x}^{6} + 3 \\, n_{x}^{4} u^{2} + 3 \\, n_{x}^{2} u^{4} + u^{6}}\\,{d n_{x}} - 3 \\, \\pi a^{3} k_{m}^{3} u^{4} \\int_{0}^{+\\infty} \\frac{\\mathrm{D}_{0}\\left(f\\right)\\left(\\frac{\\pi \\sqrt{n_{x}^{2} + u^{2}}}{a k_{m}}\\right)}{n_{x}^{6} + 3 \\, n_{x}^{4} u^{2} + 3 \\, n_{x}^{2} u^{4} + u^{6}}\\,{d n_{x}} + 360 \\, a^{4} k_{m}^{4} u^{2} \\int_{0}^{+\\infty} \\frac{n_{x}^{6} f\\left(\\frac{\\pi \\sqrt{n_{x}^{2} + u^{2}}}{a k_{m}}\\right)}{\\sqrt{n_{x}^{2} + u^{2}} n_{x}^{6} + 3 \\, \\sqrt{n_{x}^{2} + u^{2}} n_{x}^{4} u^{2} + 3 \\, \\sqrt{n_{x}^{2} + u^{2}} n_{x}^{2} u^{4} + \\sqrt{n_{x}^{2} + u^{2}} u^{6}}\\,{d n_{x}} - 1440 \\, a^{4} k_{m}^{4} u^{2} \\int_{0}^{+\\infty} \\frac{n_{x}^{5} f\\left(\\frac{\\pi \\sqrt{n_{x}^{2} + u^{2}}}{a k_{m}}\\right) \\left \\lfloor n_{x} \\right \\rfloor}{\\sqrt{n_{x}^{2} + u^{2}} n_{x}^{6} + 3 \\, \\sqrt{n_{x}^{2} + u^{2}} n_{x}^{4} u^{2} + 3 \\, \\sqrt{n_{x}^{2} + u^{2}} n_{x}^{2} u^{4} + \\sqrt{n_{x}^{2} + u^{2}} u^{6}}\\,{d n_{x}} + 2160 \\, a^{4} k_{m}^{4} u^{2} \\int_{0}^{+\\infty} \\frac{n_{x}^{4} f\\left(\\frac{\\pi \\sqrt{n_{x}^{2} + u^{2}}}{a k_{m}}\\right) \\left \\lfloor n_{x} \\right \\rfloor^{2}}{\\sqrt{n_{x}^{2} + u^{2}} n_{x}^{6} + 3 \\, \\sqrt{n_{x}^{2} + u^{2}} n_{x}^{4} u^{2} + 3 \\, \\sqrt{n_{x}^{2} + u^{2}} n_{x}^{2} u^{4} + \\sqrt{n_{x}^{2} + u^{2}} u^{6}}\\,{d n_{x}} - 1440 \\, a^{4} k_{m}^{4} u^{2} \\int_{0}^{+\\infty} \\frac{n_{x}^{3} f\\left(\\frac{\\pi \\sqrt{n_{x}^{2} + u^{2}}}{a k_{m}}\\right) \\left \\lfloor n_{x} \\right \\rfloor^{3}}{\\sqrt{n_{x}^{2} + u^{2}} n_{x}^{6} + 3 \\, \\sqrt{n_{x}^{2} + u^{2}} n_{x}^{4} u^{2} + 3 \\, \\sqrt{n_{x}^{2} + u^{2}} n_{x}^{2} u^{4} + \\sqrt{n_{x}^{2} + u^{2}} u^{6}}\\,{d n_{x}} + 360 \\, a^{4} k_{m}^{4} u^{2} \\int_{0}^{+\\infty} \\frac{n_{x}^{2} f\\left(\\frac{\\pi \\sqrt{n_{x}^{2} + u^{2}}}{a k_{m}}\\right) \\left \\lfloor n_{x} \\right \\rfloor^{4}}{\\sqrt{n_{x}^{2} + u^{2}} n_{x}^{6} + 3 \\, \\sqrt{n_{x}^{2} + u^{2}} n_{x}^{4} u^{2} + 3 \\, \\sqrt{n_{x}^{2} + u^{2}} n_{x}^{2} u^{4} + \\sqrt{n_{x}^{2} + u^{2}} u^{6}}\\,{d n_{x}} + 270 \\, \\pi^{2} a^{2} k_{m}^{2} u^{4} \\int_{0}^{+\\infty} \\frac{n_{x}^{6} \\mathrm{D}_{0, 0}\\left(f\\right)\\left(\\frac{\\pi \\sqrt{n_{x}^{2} + u^{2}}}{a k_{m}}\\right)}{\\sqrt{n_{x}^{2} + u^{2}} n_{x}^{6} + 3 \\, \\sqrt{n_{x}^{2} + u^{2}} n_{x}^{4} u^{2} + 3 \\, \\sqrt{n_{x}^{2} + u^{2}} n_{x}^{2} u^{4} + \\sqrt{n_{x}^{2} + u^{2}} u^{6}}\\,{d n_{x}} - 1080 \\, \\pi^{2} a^{2} k_{m}^{2} u^{4} \\int_{0}^{+\\infty} \\frac{n_{x}^{5} \\left \\lfloor n_{x} \\right \\rfloor \\mathrm{D}_{0, 0}\\left(f\\right)\\left(\\frac{\\pi \\sqrt{n_{x}^{2} + u^{2}}}{a k_{m}}\\right)}{\\sqrt{n_{x}^{2} + u^{2}} n_{x}^{6} + 3 \\, \\sqrt{n_{x}^{2} + u^{2}} n_{x}^{4} u^{2} + 3 \\, \\sqrt{n_{x}^{2} + u^{2}} n_{x}^{2} u^{4} + \\sqrt{n_{x}^{2} + u^{2}} u^{6}}\\,{d n_{x}} + 1620 \\, \\pi^{2} a^{2} k_{m}^{2} u^{4} \\int_{0}^{+\\infty} \\frac{n_{x}^{4} \\left \\lfloor n_{x} \\right \\rfloor^{2} \\mathrm{D}_{0, 0}\\left(f\\right)\\left(\\frac{\\pi \\sqrt{n_{x}^{2} + u^{2}}}{a k_{m}}\\right)}{\\sqrt{n_{x}^{2} + u^{2}} n_{x}^{6} + 3 \\, \\sqrt{n_{x}^{2} + u^{2}} n_{x}^{4} u^{2} + 3 \\, \\sqrt{n_{x}^{2} + u^{2}} n_{x}^{2} u^{4} + \\sqrt{n_{x}^{2} + u^{2}} u^{6}}\\,{d n_{x}} - 1080 \\, \\pi^{2} a^{2} k_{m}^{2} u^{4} \\int_{0}^{+\\infty} \\frac{n_{x}^{3} \\left \\lfloor n_{x} \\right \\rfloor^{3} \\mathrm{D}_{0, 0}\\left(f\\right)\\left(\\frac{\\pi \\sqrt{n_{x}^{2} + u^{2}}}{a k_{m}}\\right)}{\\sqrt{n_{x}^{2} + u^{2}} n_{x}^{6} + 3 \\, \\sqrt{n_{x}^{2} + u^{2}} n_{x}^{4} u^{2} + 3 \\, \\sqrt{n_{x}^{2} + u^{2}} n_{x}^{2} u^{4} + \\sqrt{n_{x}^{2} + u^{2}} u^{6}}\\,{d n_{x}} + 270 \\, \\pi^{2} a^{2} k_{m}^{2} u^{4} \\int_{0}^{+\\infty} \\frac{n_{x}^{2} \\left \\lfloor n_{x} \\right \\rfloor^{4} \\mathrm{D}_{0, 0}\\left(f\\right)\\left(\\frac{\\pi \\sqrt{n_{x}^{2} + u^{2}}}{a k_{m}}\\right)}{\\sqrt{n_{x}^{2} + u^{2}} n_{x}^{6} + 3 \\, \\sqrt{n_{x}^{2} + u^{2}} n_{x}^{4} u^{2} + 3 \\, \\sqrt{n_{x}^{2} + u^{2}} n_{x}^{2} u^{4} + \\sqrt{n_{x}^{2} + u^{2}} u^{6}}\\,{d n_{x}} - 720 \\, a^{4} k_{m}^{4} u^{2} \\int_{0}^{+\\infty} \\frac{n_{x}^{5} f\\left(\\frac{\\pi \\sqrt{n_{x}^{2} + u^{2}}}{a k_{m}}\\right)}{\\sqrt{n_{x}^{2} + u^{2}} n_{x}^{6} + 3 \\, \\sqrt{n_{x}^{2} + u^{2}} n_{x}^{4} u^{2} + 3 \\, \\sqrt{n_{x}^{2} + u^{2}} n_{x}^{2} u^{4} + \\sqrt{n_{x}^{2} + u^{2}} u^{6}}\\,{d n_{x}} + 2160 \\, a^{4} k_{m}^{4} u^{2} \\int_{0}^{+\\infty} \\frac{n_{x}^{4} f\\left(\\frac{\\pi \\sqrt{n_{x}^{2} + u^{2}}}{a k_{m}}\\right) \\left \\lfloor n_{x} \\right \\rfloor}{\\sqrt{n_{x}^{2} + u^{2}} n_{x}^{6} + 3 \\, \\sqrt{n_{x}^{2} + u^{2}} n_{x}^{4} u^{2} + 3 \\, \\sqrt{n_{x}^{2} + u^{2}} n_{x}^{2} u^{4} + \\sqrt{n_{x}^{2} + u^{2}} u^{6}}\\,{d n_{x}} - 2160 \\, a^{4} k_{m}^{4} u^{2} \\int_{0}^{+\\infty} \\frac{n_{x}^{3} f\\left(\\frac{\\pi \\sqrt{n_{x}^{2} + u^{2}}}{a k_{m}}\\right) \\left \\lfloor n_{x} \\right \\rfloor^{2}}{\\sqrt{n_{x}^{2} + u^{2}} n_{x}^{6} + 3 \\, \\sqrt{n_{x}^{2} + u^{2}} n_{x}^{4} u^{2} + 3 \\, \\sqrt{n_{x}^{2} + u^{2}} n_{x}^{2} u^{4} + \\sqrt{n_{x}^{2} + u^{2}} u^{6}}\\,{d n_{x}} + 720 \\, a^{4} k_{m}^{4} u^{2} \\int_{0}^{+\\infty} \\frac{n_{x}^{2} f\\left(\\frac{\\pi \\sqrt{n_{x}^{2} + u^{2}}}{a k_{m}}\\right) \\left \\lfloor n_{x} \\right \\rfloor^{3}}{\\sqrt{n_{x}^{2} + u^{2}} n_{x}^{6} + 3 \\, \\sqrt{n_{x}^{2} + u^{2}} n_{x}^{4} u^{2} + 3 \\, \\sqrt{n_{x}^{2} + u^{2}} n_{x}^{2} u^{4} + \\sqrt{n_{x}^{2} + u^{2}} u^{6}}\\,{d n_{x}} - 540 \\, \\pi^{2} a^{2} k_{m}^{2} u^{4} \\int_{0}^{+\\infty} \\frac{n_{x}^{5} \\mathrm{D}_{0, 0}\\left(f\\right)\\left(\\frac{\\pi \\sqrt{n_{x}^{2} + u^{2}}}{a k_{m}}\\right)}{\\sqrt{n_{x}^{2} + u^{2}} n_{x}^{6} + 3 \\, \\sqrt{n_{x}^{2} + u^{2}} n_{x}^{4} u^{2} + 3 \\, \\sqrt{n_{x}^{2} + u^{2}} n_{x}^{2} u^{4} + \\sqrt{n_{x}^{2} + u^{2}} u^{6}}\\,{d n_{x}} + 1620 \\, \\pi^{2} a^{2} k_{m}^{2} u^{4} \\int_{0}^{+\\infty} \\frac{n_{x}^{4} \\left \\lfloor n_{x} \\right \\rfloor \\mathrm{D}_{0, 0}\\left(f\\right)\\left(\\frac{\\pi \\sqrt{n_{x}^{2} + u^{2}}}{a k_{m}}\\right)}{\\sqrt{n_{x}^{2} + u^{2}} n_{x}^{6} + 3 \\, \\sqrt{n_{x}^{2} + u^{2}} n_{x}^{4} u^{2} + 3 \\, \\sqrt{n_{x}^{2} + u^{2}} n_{x}^{2} u^{4} + \\sqrt{n_{x}^{2} + u^{2}} u^{6}}\\,{d n_{x}} - 1620 \\, \\pi^{2} a^{2} k_{m}^{2} u^{4} \\int_{0}^{+\\infty} \\frac{n_{x}^{3} \\left \\lfloor n_{x} \\right \\rfloor^{2} \\mathrm{D}_{0, 0}\\left(f\\right)\\left(\\frac{\\pi \\sqrt{n_{x}^{2} + u^{2}}}{a k_{m}}\\right)}{\\sqrt{n_{x}^{2} + u^{2}} n_{x}^{6} + 3 \\, \\sqrt{n_{x}^{2} + u^{2}} n_{x}^{4} u^{2} + 3 \\, \\sqrt{n_{x}^{2} + u^{2}} n_{x}^{2} u^{4} + \\sqrt{n_{x}^{2} + u^{2}} u^{6}}\\,{d n_{x}} + 540 \\, \\pi^{2} a^{2} k_{m}^{2} u^{4} \\int_{0}^{+\\infty} \\frac{n_{x}^{2} \\left \\lfloor n_{x} \\right \\rfloor^{3} \\mathrm{D}_{0, 0}\\left(f\\right)\\left(\\frac{\\pi \\sqrt{n_{x}^{2} + u^{2}}}{a k_{m}}\\right)}{\\sqrt{n_{x}^{2} + u^{2}} n_{x}^{6} + 3 \\, \\sqrt{n_{x}^{2} + u^{2}} n_{x}^{4} u^{2} + 3 \\, \\sqrt{n_{x}^{2} + u^{2}} n_{x}^{2} u^{4} + \\sqrt{n_{x}^{2} + u^{2}} u^{6}}\\,{d n_{x}} + 360 \\, a^{4} k_{m}^{4} u^{2} \\int_{0}^{+\\infty} \\frac{n_{x}^{4} f\\left(\\frac{\\pi \\sqrt{n_{x}^{2} + u^{2}}}{a k_{m}}\\right)}{\\sqrt{n_{x}^{2} + u^{2}} n_{x}^{6} + 3 \\, \\sqrt{n_{x}^{2} + u^{2}} n_{x}^{4} u^{2} + 3 \\, \\sqrt{n_{x}^{2} + u^{2}} n_{x}^{2} u^{4} + \\sqrt{n_{x}^{2} + u^{2}} u^{6}}\\,{d n_{x}} - 720 \\, a^{4} k_{m}^{4} u^{2} \\int_{0}^{+\\infty} \\frac{n_{x}^{3} f\\left(\\frac{\\pi \\sqrt{n_{x}^{2} + u^{2}}}{a k_{m}}\\right) \\left \\lfloor n_{x} \\right \\rfloor}{\\sqrt{n_{x}^{2} + u^{2}} n_{x}^{6} + 3 \\, \\sqrt{n_{x}^{2} + u^{2}} n_{x}^{4} u^{2} + 3 \\, \\sqrt{n_{x}^{2} + u^{2}} n_{x}^{2} u^{4} + \\sqrt{n_{x}^{2} + u^{2}} u^{6}}\\,{d n_{x}} + 360 \\, a^{4} k_{m}^{4} u^{2} \\int_{0}^{+\\infty} \\frac{n_{x}^{2} f\\left(\\frac{\\pi \\sqrt{n_{x}^{2} + u^{2}}}{a k_{m}}\\right) \\left \\lfloor n_{x} \\right \\rfloor^{2}}{\\sqrt{n_{x}^{2} + u^{2}} n_{x}^{6} + 3 \\, \\sqrt{n_{x}^{2} + u^{2}} n_{x}^{4} u^{2} + 3 \\, \\sqrt{n_{x}^{2} + u^{2}} n_{x}^{2} u^{4} + \\sqrt{n_{x}^{2} + u^{2}} u^{6}}\\,{d n_{x}} + 270 \\, \\pi^{2} a^{2} k_{m}^{2} u^{4} \\int_{0}^{+\\infty} \\frac{n_{x}^{4} \\mathrm{D}_{0, 0}\\left(f\\right)\\left(\\frac{\\pi \\sqrt{n_{x}^{2} + u^{2}}}{a k_{m}}\\right)}{\\sqrt{n_{x}^{2} + u^{2}} n_{x}^{6} + 3 \\, \\sqrt{n_{x}^{2} + u^{2}} n_{x}^{4} u^{2} + 3 \\, \\sqrt{n_{x}^{2} + u^{2}} n_{x}^{2} u^{4} + \\sqrt{n_{x}^{2} + u^{2}} u^{6}}\\,{d n_{x}} - 540 \\, \\pi^{2} a^{2} k_{m}^{2} u^{4} \\int_{0}^{+\\infty} \\frac{n_{x}^{3} \\left \\lfloor n_{x} \\right \\rfloor \\mathrm{D}_{0, 0}\\left(f\\right)\\left(\\frac{\\pi \\sqrt{n_{x}^{2} + u^{2}}}{a k_{m}}\\right)}{\\sqrt{n_{x}^{2} + u^{2}} n_{x}^{6} + 3 \\, \\sqrt{n_{x}^{2} + u^{2}} n_{x}^{4} u^{2} + 3 \\, \\sqrt{n_{x}^{2} + u^{2}} n_{x}^{2} u^{4} + \\sqrt{n_{x}^{2} + u^{2}} u^{6}}\\,{d n_{x}} + 270 \\, \\pi^{2} a^{2} k_{m}^{2} u^{4} \\int_{0}^{+\\infty} \\frac{n_{x}^{2} \\left \\lfloor n_{x} \\right \\rfloor^{2} \\mathrm{D}_{0, 0}\\left(f\\right)\\left(\\frac{\\pi \\sqrt{n_{x}^{2} + u^{2}}}{a k_{m}}\\right)}{\\sqrt{n_{x}^{2} + u^{2}} n_{x}^{6} + 3 \\, \\sqrt{n_{x}^{2} + u^{2}} n_{x}^{4} u^{2} + 3 \\, \\sqrt{n_{x}^{2} + u^{2}} n_{x}^{2} u^{4} + \\sqrt{n_{x}^{2} + u^{2}} u^{6}}\\,{d n_{x}} - 12 \\, a^{4} k_{m}^{4} u^{2} \\int_{0}^{+\\infty} \\frac{n_{x}^{2} f\\left(\\frac{\\pi \\sqrt{n_{x}^{2} + u^{2}}}{a k_{m}}\\right)}{\\sqrt{n_{x}^{2} + u^{2}} n_{x}^{6} + 3 \\, \\sqrt{n_{x}^{2} + u^{2}} n_{x}^{4} u^{2} + 3 \\, \\sqrt{n_{x}^{2} + u^{2}} n_{x}^{2} u^{4} + \\sqrt{n_{x}^{2} + u^{2}} u^{6}}\\,{d n_{x}} - 9 \\, \\pi^{2} a^{2} k_{m}^{2} u^{4} \\int_{0}^{+\\infty} \\frac{n_{x}^{2} \\mathrm{D}_{0, 0}\\left(f\\right)\\left(\\frac{\\pi \\sqrt{n_{x}^{2} + u^{2}}}{a k_{m}}\\right)}{\\sqrt{n_{x}^{2} + u^{2}} n_{x}^{6} + 3 \\, \\sqrt{n_{x}^{2} + u^{2}} n_{x}^{4} u^{2} + 3 \\, \\sqrt{n_{x}^{2} + u^{2}} n_{x}^{2} u^{4} + \\sqrt{n_{x}^{2} + u^{2}} u^{6}}\\,{d n_{x}} - 360 \\, \\pi a^{3} k_{m}^{3} u^{2} \\int_{0}^{+\\infty} \\frac{n_{x}^{6} \\mathrm{D}_{0}\\left(f\\right)\\left(\\frac{\\pi \\sqrt{n_{x}^{2} + u^{2}}}{a k_{m}}\\right)}{n_{x}^{6} + 3 \\, n_{x}^{4} u^{2} + 3 \\, n_{x}^{2} u^{4} + u^{6}}\\,{d n_{x}} + 1440 \\, \\pi a^{3} k_{m}^{3} u^{2} \\int_{0}^{+\\infty} \\frac{n_{x}^{5} \\left \\lfloor n_{x} \\right \\rfloor \\mathrm{D}_{0}\\left(f\\right)\\left(\\frac{\\pi \\sqrt{n_{x}^{2} + u^{2}}}{a k_{m}}\\right)}{n_{x}^{6} + 3 \\, n_{x}^{4} u^{2} + 3 \\, n_{x}^{2} u^{4} + u^{6}}\\,{d n_{x}} - 2160 \\, \\pi a^{3} k_{m}^{3} u^{2} \\int_{0}^{+\\infty} \\frac{n_{x}^{4} \\left \\lfloor n_{x} \\right \\rfloor^{2} \\mathrm{D}_{0}\\left(f\\right)\\left(\\frac{\\pi \\sqrt{n_{x}^{2} + u^{2}}}{a k_{m}}\\right)}{n_{x}^{6} + 3 \\, n_{x}^{4} u^{2} + 3 \\, n_{x}^{2} u^{4} + u^{6}}\\,{d n_{x}} + 1440 \\, \\pi a^{3} k_{m}^{3} u^{2} \\int_{0}^{+\\infty} \\frac{n_{x}^{3} \\left \\lfloor n_{x} \\right \\rfloor^{3} \\mathrm{D}_{0}\\left(f\\right)\\left(\\frac{\\pi \\sqrt{n_{x}^{2} + u^{2}}}{a k_{m}}\\right)}{n_{x}^{6} + 3 \\, n_{x}^{4} u^{2} + 3 \\, n_{x}^{2} u^{4} + u^{6}}\\,{d n_{x}} - 360 \\, \\pi a^{3} k_{m}^{3} u^{2} \\int_{0}^{+\\infty} \\frac{n_{x}^{2} \\left \\lfloor n_{x} \\right \\rfloor^{4} \\mathrm{D}_{0}\\left(f\\right)\\left(\\frac{\\pi \\sqrt{n_{x}^{2} + u^{2}}}{a k_{m}}\\right)}{n_{x}^{6} + 3 \\, n_{x}^{4} u^{2} + 3 \\, n_{x}^{2} u^{4} + u^{6}}\\,{d n_{x}} + 180 \\, \\pi^{3} a k_{m} u^{4} \\int_{0}^{+\\infty} \\frac{n_{x}^{6} \\mathrm{D}_{0, 0, 0}\\left(f\\right)\\left(\\frac{\\pi \\sqrt{n_{x}^{2} + u^{2}}}{a k_{m}}\\right)}{n_{x}^{6} + 3 \\, n_{x}^{4} u^{2} + 3 \\, n_{x}^{2} u^{4} + u^{6}}\\,{d n_{x}} - 720 \\, \\pi^{3} a k_{m} u^{4} \\int_{0}^{+\\infty} \\frac{n_{x}^{5} \\left \\lfloor n_{x} \\right \\rfloor \\mathrm{D}_{0, 0, 0}\\left(f\\right)\\left(\\frac{\\pi \\sqrt{n_{x}^{2} + u^{2}}}{a k_{m}}\\right)}{n_{x}^{6} + 3 \\, n_{x}^{4} u^{2} + 3 \\, n_{x}^{2} u^{4} + u^{6}}\\,{d n_{x}} + 1080 \\, \\pi^{3} a k_{m} u^{4} \\int_{0}^{+\\infty} \\frac{n_{x}^{4} \\left \\lfloor n_{x} \\right \\rfloor^{2} \\mathrm{D}_{0, 0, 0}\\left(f\\right)\\left(\\frac{\\pi \\sqrt{n_{x}^{2} + u^{2}}}{a k_{m}}\\right)}{n_{x}^{6} + 3 \\, n_{x}^{4} u^{2} + 3 \\, n_{x}^{2} u^{4} + u^{6}}\\,{d n_{x}} - 720 \\, \\pi^{3} a k_{m} u^{4} \\int_{0}^{+\\infty} \\frac{n_{x}^{3} \\left \\lfloor n_{x} \\right \\rfloor^{3} \\mathrm{D}_{0, 0, 0}\\left(f\\right)\\left(\\frac{\\pi \\sqrt{n_{x}^{2} + u^{2}}}{a k_{m}}\\right)}{n_{x}^{6} + 3 \\, n_{x}^{4} u^{2} + 3 \\, n_{x}^{2} u^{4} + u^{6}}\\,{d n_{x}} + 180 \\, \\pi^{3} a k_{m} u^{4} \\int_{0}^{+\\infty} \\frac{n_{x}^{2} \\left \\lfloor n_{x} \\right \\rfloor^{4} \\mathrm{D}_{0, 0, 0}\\left(f\\right)\\left(\\frac{\\pi \\sqrt{n_{x}^{2} + u^{2}}}{a k_{m}}\\right)}{n_{x}^{6} + 3 \\, n_{x}^{4} u^{2} + 3 \\, n_{x}^{2} u^{4} + u^{6}}\\,{d n_{x}} + 720 \\, \\pi a^{3} k_{m}^{3} u^{2} \\int_{0}^{+\\infty} \\frac{n_{x}^{5} \\mathrm{D}_{0}\\left(f\\right)\\left(\\frac{\\pi \\sqrt{n_{x}^{2} + u^{2}}}{a k_{m}}\\right)}{n_{x}^{6} + 3 \\, n_{x}^{4} u^{2} + 3 \\, n_{x}^{2} u^{4} + u^{6}}\\,{d n_{x}} - 2160 \\, \\pi a^{3} k_{m}^{3} u^{2} \\int_{0}^{+\\infty} \\frac{n_{x}^{4} \\left \\lfloor n_{x} \\right \\rfloor \\mathrm{D}_{0}\\left(f\\right)\\left(\\frac{\\pi \\sqrt{n_{x}^{2} + u^{2}}}{a k_{m}}\\right)}{n_{x}^{6} + 3 \\, n_{x}^{4} u^{2} + 3 \\, n_{x}^{2} u^{4} + u^{6}}\\,{d n_{x}} + 2160 \\, \\pi a^{3} k_{m}^{3} u^{2} \\int_{0}^{+\\infty} \\frac{n_{x}^{3} \\left \\lfloor n_{x} \\right \\rfloor^{2} \\mathrm{D}_{0}\\left(f\\right)\\left(\\frac{\\pi \\sqrt{n_{x}^{2} + u^{2}}}{a k_{m}}\\right)}{n_{x}^{6} + 3 \\, n_{x}^{4} u^{2} + 3 \\, n_{x}^{2} u^{4} + u^{6}}\\,{d n_{x}} - 720 \\, \\pi a^{3} k_{m}^{3} u^{2} \\int_{0}^{+\\infty} \\frac{n_{x}^{2} \\left \\lfloor n_{x} \\right \\rfloor^{3} \\mathrm{D}_{0}\\left(f\\right)\\left(\\frac{\\pi \\sqrt{n_{x}^{2} + u^{2}}}{a k_{m}}\\right)}{n_{x}^{6} + 3 \\, n_{x}^{4} u^{2} + 3 \\, n_{x}^{2} u^{4} + u^{6}}\\,{d n_{x}} - 360 \\, \\pi^{3} a k_{m} u^{4} \\int_{0}^{+\\infty} \\frac{n_{x}^{5} \\mathrm{D}_{0, 0, 0}\\left(f\\right)\\left(\\frac{\\pi \\sqrt{n_{x}^{2} + u^{2}}}{a k_{m}}\\right)}{n_{x}^{6} + 3 \\, n_{x}^{4} u^{2} + 3 \\, n_{x}^{2} u^{4} + u^{6}}\\,{d n_{x}} + 1080 \\, \\pi^{3} a k_{m} u^{4} \\int_{0}^{+\\infty} \\frac{n_{x}^{4} \\left \\lfloor n_{x} \\right \\rfloor \\mathrm{D}_{0, 0, 0}\\left(f\\right)\\left(\\frac{\\pi \\sqrt{n_{x}^{2} + u^{2}}}{a k_{m}}\\right)}{n_{x}^{6} + 3 \\, n_{x}^{4} u^{2} + 3 \\, n_{x}^{2} u^{4} + u^{6}}\\,{d n_{x}} - 1080 \\, \\pi^{3} a k_{m} u^{4} \\int_{0}^{+\\infty} \\frac{n_{x}^{3} \\left \\lfloor n_{x} \\right \\rfloor^{2} \\mathrm{D}_{0, 0, 0}\\left(f\\right)\\left(\\frac{\\pi \\sqrt{n_{x}^{2} + u^{2}}}{a k_{m}}\\right)}{n_{x}^{6} + 3 \\, n_{x}^{4} u^{2} + 3 \\, n_{x}^{2} u^{4} + u^{6}}\\,{d n_{x}} + 360 \\, \\pi^{3} a k_{m} u^{4} \\int_{0}^{+\\infty} \\frac{n_{x}^{2} \\left \\lfloor n_{x} \\right \\rfloor^{3} \\mathrm{D}_{0, 0, 0}\\left(f\\right)\\left(\\frac{\\pi \\sqrt{n_{x}^{2} + u^{2}}}{a k_{m}}\\right)}{n_{x}^{6} + 3 \\, n_{x}^{4} u^{2} + 3 \\, n_{x}^{2} u^{4} + u^{6}}\\,{d n_{x}} - 360 \\, \\pi a^{3} k_{m}^{3} u^{2} \\int_{0}^{+\\infty} \\frac{n_{x}^{4} \\mathrm{D}_{0}\\left(f\\right)\\left(\\frac{\\pi \\sqrt{n_{x}^{2} + u^{2}}}{a k_{m}}\\right)}{n_{x}^{6} + 3 \\, n_{x}^{4} u^{2} + 3 \\, n_{x}^{2} u^{4} + u^{6}}\\,{d n_{x}} + 720 \\, \\pi a^{3} k_{m}^{3} u^{2} \\int_{0}^{+\\infty} \\frac{n_{x}^{3} \\left \\lfloor n_{x} \\right \\rfloor \\mathrm{D}_{0}\\left(f\\right)\\left(\\frac{\\pi \\sqrt{n_{x}^{2} + u^{2}}}{a k_{m}}\\right)}{n_{x}^{6} + 3 \\, n_{x}^{4} u^{2} + 3 \\, n_{x}^{2} u^{4} + u^{6}}\\,{d n_{x}} - 360 \\, \\pi a^{3} k_{m}^{3} u^{2} \\int_{0}^{+\\infty} \\frac{n_{x}^{2} \\left \\lfloor n_{x} \\right \\rfloor^{2} \\mathrm{D}_{0}\\left(f\\right)\\left(\\frac{\\pi \\sqrt{n_{x}^{2} + u^{2}}}{a k_{m}}\\right)}{n_{x}^{6} + 3 \\, n_{x}^{4} u^{2} + 3 \\, n_{x}^{2} u^{4} + u^{6}}\\,{d n_{x}} + 180 \\, \\pi^{3} a k_{m} u^{4} \\int_{0}^{+\\infty} \\frac{n_{x}^{4} \\mathrm{D}_{0, 0, 0}\\left(f\\right)\\left(\\frac{\\pi \\sqrt{n_{x}^{2} + u^{2}}}{a k_{m}}\\right)}{n_{x}^{6} + 3 \\, n_{x}^{4} u^{2} + 3 \\, n_{x}^{2} u^{4} + u^{6}}\\,{d n_{x}} - 360 \\, \\pi^{3} a k_{m} u^{4} \\int_{0}^{+\\infty} \\frac{n_{x}^{3} \\left \\lfloor n_{x} \\right \\rfloor \\mathrm{D}_{0, 0, 0}\\left(f\\right)\\left(\\frac{\\pi \\sqrt{n_{x}^{2} + u^{2}}}{a k_{m}}\\right)}{n_{x}^{6} + 3 \\, n_{x}^{4} u^{2} + 3 \\, n_{x}^{2} u^{4} + u^{6}}\\,{d n_{x}} + 180 \\, \\pi^{3} a k_{m} u^{4} \\int_{0}^{+\\infty} \\frac{n_{x}^{2} \\left \\lfloor n_{x} \\right \\rfloor^{2} \\mathrm{D}_{0, 0, 0}\\left(f\\right)\\left(\\frac{\\pi \\sqrt{n_{x}^{2} + u^{2}}}{a k_{m}}\\right)}{n_{x}^{6} + 3 \\, n_{x}^{4} u^{2} + 3 \\, n_{x}^{2} u^{4} + u^{6}}\\,{d n_{x}} + 12 \\, \\pi a^{3} k_{m}^{3} u^{2} \\int_{0}^{+\\infty} \\frac{n_{x}^{2} \\mathrm{D}_{0}\\left(f\\right)\\left(\\frac{\\pi \\sqrt{n_{x}^{2} + u^{2}}}{a k_{m}}\\right)}{n_{x}^{6} + 3 \\, n_{x}^{4} u^{2} + 3 \\, n_{x}^{2} u^{4} + u^{6}}\\,{d n_{x}} - 6 \\, \\pi^{3} a k_{m} u^{4} \\int_{0}^{+\\infty} \\frac{n_{x}^{2} \\mathrm{D}_{0, 0, 0}\\left(f\\right)\\left(\\frac{\\pi \\sqrt{n_{x}^{2} + u^{2}}}{a k_{m}}\\right)}{n_{x}^{6} + 3 \\, n_{x}^{4} u^{2} + 3 \\, n_{x}^{2} u^{4} + u^{6}}\\,{d n_{x}} + 180 \\, \\pi^{2} a^{2} k_{m}^{2} u^{2} \\int_{0}^{+\\infty} \\frac{n_{x}^{8} \\mathrm{D}_{0, 0}\\left(f\\right)\\left(\\frac{\\pi \\sqrt{n_{x}^{2} + u^{2}}}{a k_{m}}\\right)}{\\sqrt{n_{x}^{2} + u^{2}} n_{x}^{6} + 3 \\, \\sqrt{n_{x}^{2} + u^{2}} n_{x}^{4} u^{2} + 3 \\, \\sqrt{n_{x}^{2} + u^{2}} n_{x}^{2} u^{4} + \\sqrt{n_{x}^{2} + u^{2}} u^{6}}\\,{d n_{x}} - 720 \\, \\pi^{2} a^{2} k_{m}^{2} u^{2} \\int_{0}^{+\\infty} \\frac{n_{x}^{7} \\left \\lfloor n_{x} \\right \\rfloor \\mathrm{D}_{0, 0}\\left(f\\right)\\left(\\frac{\\pi \\sqrt{n_{x}^{2} + u^{2}}}{a k_{m}}\\right)}{\\sqrt{n_{x}^{2} + u^{2}} n_{x}^{6} + 3 \\, \\sqrt{n_{x}^{2} + u^{2}} n_{x}^{4} u^{2} + 3 \\, \\sqrt{n_{x}^{2} + u^{2}} n_{x}^{2} u^{4} + \\sqrt{n_{x}^{2} + u^{2}} u^{6}}\\,{d n_{x}} + 1080 \\, \\pi^{2} a^{2} k_{m}^{2} u^{2} \\int_{0}^{+\\infty} \\frac{n_{x}^{6} \\left \\lfloor n_{x} \\right \\rfloor^{2} \\mathrm{D}_{0, 0}\\left(f\\right)\\left(\\frac{\\pi \\sqrt{n_{x}^{2} + u^{2}}}{a k_{m}}\\right)}{\\sqrt{n_{x}^{2} + u^{2}} n_{x}^{6} + 3 \\, \\sqrt{n_{x}^{2} + u^{2}} n_{x}^{4} u^{2} + 3 \\, \\sqrt{n_{x}^{2} + u^{2}} n_{x}^{2} u^{4} + \\sqrt{n_{x}^{2} + u^{2}} u^{6}}\\,{d n_{x}} - 720 \\, \\pi^{2} a^{2} k_{m}^{2} u^{2} \\int_{0}^{+\\infty} \\frac{n_{x}^{5} \\left \\lfloor n_{x} \\right \\rfloor^{3} \\mathrm{D}_{0, 0}\\left(f\\right)\\left(\\frac{\\pi \\sqrt{n_{x}^{2} + u^{2}}}{a k_{m}}\\right)}{\\sqrt{n_{x}^{2} + u^{2}} n_{x}^{6} + 3 \\, \\sqrt{n_{x}^{2} + u^{2}} n_{x}^{4} u^{2} + 3 \\, \\sqrt{n_{x}^{2} + u^{2}} n_{x}^{2} u^{4} + \\sqrt{n_{x}^{2} + u^{2}} u^{6}}\\,{d n_{x}} + 180 \\, \\pi^{2} a^{2} k_{m}^{2} u^{2} \\int_{0}^{+\\infty} \\frac{n_{x}^{4} \\left \\lfloor n_{x} \\right \\rfloor^{4} \\mathrm{D}_{0, 0}\\left(f\\right)\\left(\\frac{\\pi \\sqrt{n_{x}^{2} + u^{2}}}{a k_{m}}\\right)}{\\sqrt{n_{x}^{2} + u^{2}} n_{x}^{6} + 3 \\, \\sqrt{n_{x}^{2} + u^{2}} n_{x}^{4} u^{2} + 3 \\, \\sqrt{n_{x}^{2} + u^{2}} n_{x}^{2} u^{4} + \\sqrt{n_{x}^{2} + u^{2}} u^{6}}\\,{d n_{x}} + 30 \\, \\pi^{4} u^{4} \\int_{0}^{+\\infty} \\frac{n_{x}^{8} \\mathrm{D}_{0, 0, 0, 0}\\left(f\\right)\\left(\\frac{\\pi \\sqrt{n_{x}^{2} + u^{2}}}{a k_{m}}\\right)}{\\sqrt{n_{x}^{2} + u^{2}} n_{x}^{6} + 3 \\, \\sqrt{n_{x}^{2} + u^{2}} n_{x}^{4} u^{2} + 3 \\, \\sqrt{n_{x}^{2} + u^{2}} n_{x}^{2} u^{4} + \\sqrt{n_{x}^{2} + u^{2}} u^{6}}\\,{d n_{x}} - 120 \\, \\pi^{4} u^{4} \\int_{0}^{+\\infty} \\frac{n_{x}^{7} \\left \\lfloor n_{x} \\right \\rfloor \\mathrm{D}_{0, 0, 0, 0}\\left(f\\right)\\left(\\frac{\\pi \\sqrt{n_{x}^{2} + u^{2}}}{a k_{m}}\\right)}{\\sqrt{n_{x}^{2} + u^{2}} n_{x}^{6} + 3 \\, \\sqrt{n_{x}^{2} + u^{2}} n_{x}^{4} u^{2} + 3 \\, \\sqrt{n_{x}^{2} + u^{2}} n_{x}^{2} u^{4} + \\sqrt{n_{x}^{2} + u^{2}} u^{6}}\\,{d n_{x}} + 180 \\, \\pi^{4} u^{4} \\int_{0}^{+\\infty} \\frac{n_{x}^{6} \\left \\lfloor n_{x} \\right \\rfloor^{2} \\mathrm{D}_{0, 0, 0, 0}\\left(f\\right)\\left(\\frac{\\pi \\sqrt{n_{x}^{2} + u^{2}}}{a k_{m}}\\right)}{\\sqrt{n_{x}^{2} + u^{2}} n_{x}^{6} + 3 \\, \\sqrt{n_{x}^{2} + u^{2}} n_{x}^{4} u^{2} + 3 \\, \\sqrt{n_{x}^{2} + u^{2}} n_{x}^{2} u^{4} + \\sqrt{n_{x}^{2} + u^{2}} u^{6}}\\,{d n_{x}} - 120 \\, \\pi^{4} u^{4} \\int_{0}^{+\\infty} \\frac{n_{x}^{5} \\left \\lfloor n_{x} \\right \\rfloor^{3} \\mathrm{D}_{0, 0, 0, 0}\\left(f\\right)\\left(\\frac{\\pi \\sqrt{n_{x}^{2} + u^{2}}}{a k_{m}}\\right)}{\\sqrt{n_{x}^{2} + u^{2}} n_{x}^{6} + 3 \\, \\sqrt{n_{x}^{2} + u^{2}} n_{x}^{4} u^{2} + 3 \\, \\sqrt{n_{x}^{2} + u^{2}} n_{x}^{2} u^{4} + \\sqrt{n_{x}^{2} + u^{2}} u^{6}}\\,{d n_{x}} + 30 \\, \\pi^{4} u^{4} \\int_{0}^{+\\infty} \\frac{n_{x}^{4} \\left \\lfloor n_{x} \\right \\rfloor^{4} \\mathrm{D}_{0, 0, 0, 0}\\left(f\\right)\\left(\\frac{\\pi \\sqrt{n_{x}^{2} + u^{2}}}{a k_{m}}\\right)}{\\sqrt{n_{x}^{2} + u^{2}} n_{x}^{6} + 3 \\, \\sqrt{n_{x}^{2} + u^{2}} n_{x}^{4} u^{2} + 3 \\, \\sqrt{n_{x}^{2} + u^{2}} n_{x}^{2} u^{4} + \\sqrt{n_{x}^{2} + u^{2}} u^{6}}\\,{d n_{x}} - 360 \\, \\pi^{2} a^{2} k_{m}^{2} u^{2} \\int_{0}^{+\\infty} \\frac{n_{x}^{7} \\mathrm{D}_{0, 0}\\left(f\\right)\\left(\\frac{\\pi \\sqrt{n_{x}^{2} + u^{2}}}{a k_{m}}\\right)}{\\sqrt{n_{x}^{2} + u^{2}} n_{x}^{6} + 3 \\, \\sqrt{n_{x}^{2} + u^{2}} n_{x}^{4} u^{2} + 3 \\, \\sqrt{n_{x}^{2} + u^{2}} n_{x}^{2} u^{4} + \\sqrt{n_{x}^{2} + u^{2}} u^{6}}\\,{d n_{x}} + 1080 \\, \\pi^{2} a^{2} k_{m}^{2} u^{2} \\int_{0}^{+\\infty} \\frac{n_{x}^{6} \\left \\lfloor n_{x} \\right \\rfloor \\mathrm{D}_{0, 0}\\left(f\\right)\\left(\\frac{\\pi \\sqrt{n_{x}^{2} + u^{2}}}{a k_{m}}\\right)}{\\sqrt{n_{x}^{2} + u^{2}} n_{x}^{6} + 3 \\, \\sqrt{n_{x}^{2} + u^{2}} n_{x}^{4} u^{2} + 3 \\, \\sqrt{n_{x}^{2} + u^{2}} n_{x}^{2} u^{4} + \\sqrt{n_{x}^{2} + u^{2}} u^{6}}\\,{d n_{x}} - 1080 \\, \\pi^{2} a^{2} k_{m}^{2} u^{2} \\int_{0}^{+\\infty} \\frac{n_{x}^{5} \\left \\lfloor n_{x} \\right \\rfloor^{2} \\mathrm{D}_{0, 0}\\left(f\\right)\\left(\\frac{\\pi \\sqrt{n_{x}^{2} + u^{2}}}{a k_{m}}\\right)}{\\sqrt{n_{x}^{2} + u^{2}} n_{x}^{6} + 3 \\, \\sqrt{n_{x}^{2} + u^{2}} n_{x}^{4} u^{2} + 3 \\, \\sqrt{n_{x}^{2} + u^{2}} n_{x}^{2} u^{4} + \\sqrt{n_{x}^{2} + u^{2}} u^{6}}\\,{d n_{x}} + 360 \\, \\pi^{2} a^{2} k_{m}^{2} u^{2} \\int_{0}^{+\\infty} \\frac{n_{x}^{4} \\left \\lfloor n_{x} \\right \\rfloor^{3} \\mathrm{D}_{0, 0}\\left(f\\right)\\left(\\frac{\\pi \\sqrt{n_{x}^{2} + u^{2}}}{a k_{m}}\\right)}{\\sqrt{n_{x}^{2} + u^{2}} n_{x}^{6} + 3 \\, \\sqrt{n_{x}^{2} + u^{2}} n_{x}^{4} u^{2} + 3 \\, \\sqrt{n_{x}^{2} + u^{2}} n_{x}^{2} u^{4} + \\sqrt{n_{x}^{2} + u^{2}} u^{6}}\\,{d n_{x}} - 60 \\, \\pi^{4} u^{4} \\int_{0}^{+\\infty} \\frac{n_{x}^{7} \\mathrm{D}_{0, 0, 0, 0}\\left(f\\right)\\left(\\frac{\\pi \\sqrt{n_{x}^{2} + u^{2}}}{a k_{m}}\\right)}{\\sqrt{n_{x}^{2} + u^{2}} n_{x}^{6} + 3 \\, \\sqrt{n_{x}^{2} + u^{2}} n_{x}^{4} u^{2} + 3 \\, \\sqrt{n_{x}^{2} + u^{2}} n_{x}^{2} u^{4} + \\sqrt{n_{x}^{2} + u^{2}} u^{6}}\\,{d n_{x}} + 180 \\, \\pi^{4} u^{4} \\int_{0}^{+\\infty} \\frac{n_{x}^{6} \\left \\lfloor n_{x} \\right \\rfloor \\mathrm{D}_{0, 0, 0, 0}\\left(f\\right)\\left(\\frac{\\pi \\sqrt{n_{x}^{2} + u^{2}}}{a k_{m}}\\right)}{\\sqrt{n_{x}^{2} + u^{2}} n_{x}^{6} + 3 \\, \\sqrt{n_{x}^{2} + u^{2}} n_{x}^{4} u^{2} + 3 \\, \\sqrt{n_{x}^{2} + u^{2}} n_{x}^{2} u^{4} + \\sqrt{n_{x}^{2} + u^{2}} u^{6}}\\,{d n_{x}} - 180 \\, \\pi^{4} u^{4} \\int_{0}^{+\\infty} \\frac{n_{x}^{5} \\left \\lfloor n_{x} \\right \\rfloor^{2} \\mathrm{D}_{0, 0, 0, 0}\\left(f\\right)\\left(\\frac{\\pi \\sqrt{n_{x}^{2} + u^{2}}}{a k_{m}}\\right)}{\\sqrt{n_{x}^{2} + u^{2}} n_{x}^{6} + 3 \\, \\sqrt{n_{x}^{2} + u^{2}} n_{x}^{4} u^{2} + 3 \\, \\sqrt{n_{x}^{2} + u^{2}} n_{x}^{2} u^{4} + \\sqrt{n_{x}^{2} + u^{2}} u^{6}}\\,{d n_{x}} + 60 \\, \\pi^{4} u^{4} \\int_{0}^{+\\infty} \\frac{n_{x}^{4} \\left \\lfloor n_{x} \\right \\rfloor^{3} \\mathrm{D}_{0, 0, 0, 0}\\left(f\\right)\\left(\\frac{\\pi \\sqrt{n_{x}^{2} + u^{2}}}{a k_{m}}\\right)}{\\sqrt{n_{x}^{2} + u^{2}} n_{x}^{6} + 3 \\, \\sqrt{n_{x}^{2} + u^{2}} n_{x}^{4} u^{2} + 3 \\, \\sqrt{n_{x}^{2} + u^{2}} n_{x}^{2} u^{4} + \\sqrt{n_{x}^{2} + u^{2}} u^{6}}\\,{d n_{x}} + 180 \\, \\pi^{2} a^{2} k_{m}^{2} u^{2} \\int_{0}^{+\\infty} \\frac{n_{x}^{6} \\mathrm{D}_{0, 0}\\left(f\\right)\\left(\\frac{\\pi \\sqrt{n_{x}^{2} + u^{2}}}{a k_{m}}\\right)}{\\sqrt{n_{x}^{2} + u^{2}} n_{x}^{6} + 3 \\, \\sqrt{n_{x}^{2} + u^{2}} n_{x}^{4} u^{2} + 3 \\, \\sqrt{n_{x}^{2} + u^{2}} n_{x}^{2} u^{4} + \\sqrt{n_{x}^{2} + u^{2}} u^{6}}\\,{d n_{x}} - 360 \\, \\pi^{2} a^{2} k_{m}^{2} u^{2} \\int_{0}^{+\\infty} \\frac{n_{x}^{5} \\left \\lfloor n_{x} \\right \\rfloor \\mathrm{D}_{0, 0}\\left(f\\right)\\left(\\frac{\\pi \\sqrt{n_{x}^{2} + u^{2}}}{a k_{m}}\\right)}{\\sqrt{n_{x}^{2} + u^{2}} n_{x}^{6} + 3 \\, \\sqrt{n_{x}^{2} + u^{2}} n_{x}^{4} u^{2} + 3 \\, \\sqrt{n_{x}^{2} + u^{2}} n_{x}^{2} u^{4} + \\sqrt{n_{x}^{2} + u^{2}} u^{6}}\\,{d n_{x}} + 180 \\, \\pi^{2} a^{2} k_{m}^{2} u^{2} \\int_{0}^{+\\infty} \\frac{n_{x}^{4} \\left \\lfloor n_{x} \\right \\rfloor^{2} \\mathrm{D}_{0, 0}\\left(f\\right)\\left(\\frac{\\pi \\sqrt{n_{x}^{2} + u^{2}}}{a k_{m}}\\right)}{\\sqrt{n_{x}^{2} + u^{2}} n_{x}^{6} + 3 \\, \\sqrt{n_{x}^{2} + u^{2}} n_{x}^{4} u^{2} + 3 \\, \\sqrt{n_{x}^{2} + u^{2}} n_{x}^{2} u^{4} + \\sqrt{n_{x}^{2} + u^{2}} u^{6}}\\,{d n_{x}} + 30 \\, \\pi^{4} u^{4} \\int_{0}^{+\\infty} \\frac{n_{x}^{6} \\mathrm{D}_{0, 0, 0, 0}\\left(f\\right)\\left(\\frac{\\pi \\sqrt{n_{x}^{2} + u^{2}}}{a k_{m}}\\right)}{\\sqrt{n_{x}^{2} + u^{2}} n_{x}^{6} + 3 \\, \\sqrt{n_{x}^{2} + u^{2}} n_{x}^{4} u^{2} + 3 \\, \\sqrt{n_{x}^{2} + u^{2}} n_{x}^{2} u^{4} + \\sqrt{n_{x}^{2} + u^{2}} u^{6}}\\,{d n_{x}} - 60 \\, \\pi^{4} u^{4} \\int_{0}^{+\\infty} \\frac{n_{x}^{5} \\left \\lfloor n_{x} \\right \\rfloor \\mathrm{D}_{0, 0, 0, 0}\\left(f\\right)\\left(\\frac{\\pi \\sqrt{n_{x}^{2} + u^{2}}}{a k_{m}}\\right)}{\\sqrt{n_{x}^{2} + u^{2}} n_{x}^{6} + 3 \\, \\sqrt{n_{x}^{2} + u^{2}} n_{x}^{4} u^{2} + 3 \\, \\sqrt{n_{x}^{2} + u^{2}} n_{x}^{2} u^{4} + \\sqrt{n_{x}^{2} + u^{2}} u^{6}}\\,{d n_{x}} + 30 \\, \\pi^{4} u^{4} \\int_{0}^{+\\infty} \\frac{n_{x}^{4} \\left \\lfloor n_{x} \\right \\rfloor^{2} \\mathrm{D}_{0, 0, 0, 0}\\left(f\\right)\\left(\\frac{\\pi \\sqrt{n_{x}^{2} + u^{2}}}{a k_{m}}\\right)}{\\sqrt{n_{x}^{2} + u^{2}} n_{x}^{6} + 3 \\, \\sqrt{n_{x}^{2} + u^{2}} n_{x}^{4} u^{2} + 3 \\, \\sqrt{n_{x}^{2} + u^{2}} n_{x}^{2} u^{4} + \\sqrt{n_{x}^{2} + u^{2}} u^{6}}\\,{d n_{x}} - 6 \\, \\pi^{2} a^{2} k_{m}^{2} u^{2} \\int_{0}^{+\\infty} \\frac{n_{x}^{4} \\mathrm{D}_{0, 0}\\left(f\\right)\\left(\\frac{\\pi \\sqrt{n_{x}^{2} + u^{2}}}{a k_{m}}\\right)}{\\sqrt{n_{x}^{2} + u^{2}} n_{x}^{6} + 3 \\, \\sqrt{n_{x}^{2} + u^{2}} n_{x}^{4} u^{2} + 3 \\, \\sqrt{n_{x}^{2} + u^{2}} n_{x}^{2} u^{4} + \\sqrt{n_{x}^{2} + u^{2}} u^{6}}\\,{d n_{x}} - \\pi^{4} u^{4} \\int_{0}^{+\\infty} \\frac{n_{x}^{4} \\mathrm{D}_{0, 0, 0, 0}\\left(f\\right)\\left(\\frac{\\pi \\sqrt{n_{x}^{2} + u^{2}}}{a k_{m}}\\right)}{\\sqrt{n_{x}^{2} + u^{2}} n_{x}^{6} + 3 \\, \\sqrt{n_{x}^{2} + u^{2}} n_{x}^{4} u^{2} + 3 \\, \\sqrt{n_{x}^{2} + u^{2}} n_{x}^{2} u^{4} + \\sqrt{n_{x}^{2} + u^{2}} u^{6}}\\,{d n_{x}} + 300 \\, \\pi^{3} a k_{m} u^{2} \\int_{0}^{+\\infty} \\frac{n_{x}^{8} \\mathrm{D}_{0, 0, 0}\\left(f\\right)\\left(\\frac{\\pi \\sqrt{n_{x}^{2} + u^{2}}}{a k_{m}}\\right)}{n_{x}^{6} + 3 \\, n_{x}^{4} u^{2} + 3 \\, n_{x}^{2} u^{4} + u^{6}}\\,{d n_{x}} - 1200 \\, \\pi^{3} a k_{m} u^{2} \\int_{0}^{+\\infty} \\frac{n_{x}^{7} \\left \\lfloor n_{x} \\right \\rfloor \\mathrm{D}_{0, 0, 0}\\left(f\\right)\\left(\\frac{\\pi \\sqrt{n_{x}^{2} + u^{2}}}{a k_{m}}\\right)}{n_{x}^{6} + 3 \\, n_{x}^{4} u^{2} + 3 \\, n_{x}^{2} u^{4} + u^{6}}\\,{d n_{x}} + 1800 \\, \\pi^{3} a k_{m} u^{2} \\int_{0}^{+\\infty} \\frac{n_{x}^{6} \\left \\lfloor n_{x} \\right \\rfloor^{2} \\mathrm{D}_{0, 0, 0}\\left(f\\right)\\left(\\frac{\\pi \\sqrt{n_{x}^{2} + u^{2}}}{a k_{m}}\\right)}{n_{x}^{6} + 3 \\, n_{x}^{4} u^{2} + 3 \\, n_{x}^{2} u^{4} + u^{6}}\\,{d n_{x}} - 1200 \\, \\pi^{3} a k_{m} u^{2} \\int_{0}^{+\\infty} \\frac{n_{x}^{5} \\left \\lfloor n_{x} \\right \\rfloor^{3} \\mathrm{D}_{0, 0, 0}\\left(f\\right)\\left(\\frac{\\pi \\sqrt{n_{x}^{2} + u^{2}}}{a k_{m}}\\right)}{n_{x}^{6} + 3 \\, n_{x}^{4} u^{2} + 3 \\, n_{x}^{2} u^{4} + u^{6}}\\,{d n_{x}} + 300 \\, \\pi^{3} a k_{m} u^{2} \\int_{0}^{+\\infty} \\frac{n_{x}^{4} \\left \\lfloor n_{x} \\right \\rfloor^{4} \\mathrm{D}_{0, 0, 0}\\left(f\\right)\\left(\\frac{\\pi \\sqrt{n_{x}^{2} + u^{2}}}{a k_{m}}\\right)}{n_{x}^{6} + 3 \\, n_{x}^{4} u^{2} + 3 \\, n_{x}^{2} u^{4} + u^{6}}\\,{d n_{x}} - 600 \\, \\pi^{3} a k_{m} u^{2} \\int_{0}^{+\\infty} \\frac{n_{x}^{7} \\mathrm{D}_{0, 0, 0}\\left(f\\right)\\left(\\frac{\\pi \\sqrt{n_{x}^{2} + u^{2}}}{a k_{m}}\\right)}{n_{x}^{6} + 3 \\, n_{x}^{4} u^{2} + 3 \\, n_{x}^{2} u^{4} + u^{6}}\\,{d n_{x}} + 1800 \\, \\pi^{3} a k_{m} u^{2} \\int_{0}^{+\\infty} \\frac{n_{x}^{6} \\left \\lfloor n_{x} \\right \\rfloor \\mathrm{D}_{0, 0, 0}\\left(f\\right)\\left(\\frac{\\pi \\sqrt{n_{x}^{2} + u^{2}}}{a k_{m}}\\right)}{n_{x}^{6} + 3 \\, n_{x}^{4} u^{2} + 3 \\, n_{x}^{2} u^{4} + u^{6}}\\,{d n_{x}} - 1800 \\, \\pi^{3} a k_{m} u^{2} \\int_{0}^{+\\infty} \\frac{n_{x}^{5} \\left \\lfloor n_{x} \\right \\rfloor^{2} \\mathrm{D}_{0, 0, 0}\\left(f\\right)\\left(\\frac{\\pi \\sqrt{n_{x}^{2} + u^{2}}}{a k_{m}}\\right)}{n_{x}^{6} + 3 \\, n_{x}^{4} u^{2} + 3 \\, n_{x}^{2} u^{4} + u^{6}}\\,{d n_{x}} + 600 \\, \\pi^{3} a k_{m} u^{2} \\int_{0}^{+\\infty} \\frac{n_{x}^{4} \\left \\lfloor n_{x} \\right \\rfloor^{3} \\mathrm{D}_{0, 0, 0}\\left(f\\right)\\left(\\frac{\\pi \\sqrt{n_{x}^{2} + u^{2}}}{a k_{m}}\\right)}{n_{x}^{6} + 3 \\, n_{x}^{4} u^{2} + 3 \\, n_{x}^{2} u^{4} + u^{6}}\\,{d n_{x}} + 300 \\, \\pi^{3} a k_{m} u^{2} \\int_{0}^{+\\infty} \\frac{n_{x}^{6} \\mathrm{D}_{0, 0, 0}\\left(f\\right)\\left(\\frac{\\pi \\sqrt{n_{x}^{2} + u^{2}}}{a k_{m}}\\right)}{n_{x}^{6} + 3 \\, n_{x}^{4} u^{2} + 3 \\, n_{x}^{2} u^{4} + u^{6}}\\,{d n_{x}} - 600 \\, \\pi^{3} a k_{m} u^{2} \\int_{0}^{+\\infty} \\frac{n_{x}^{5} \\left \\lfloor n_{x} \\right \\rfloor \\mathrm{D}_{0, 0, 0}\\left(f\\right)\\left(\\frac{\\pi \\sqrt{n_{x}^{2} + u^{2}}}{a k_{m}}\\right)}{n_{x}^{6} + 3 \\, n_{x}^{4} u^{2} + 3 \\, n_{x}^{2} u^{4} + u^{6}}\\,{d n_{x}} + 300 \\, \\pi^{3} a k_{m} u^{2} \\int_{0}^{+\\infty} \\frac{n_{x}^{4} \\left \\lfloor n_{x} \\right \\rfloor^{2} \\mathrm{D}_{0, 0, 0}\\left(f\\right)\\left(\\frac{\\pi \\sqrt{n_{x}^{2} + u^{2}}}{a k_{m}}\\right)}{n_{x}^{6} + 3 \\, n_{x}^{4} u^{2} + 3 \\, n_{x}^{2} u^{4} + u^{6}}\\,{d n_{x}} - 10 \\, \\pi^{3} a k_{m} u^{2} \\int_{0}^{+\\infty} \\frac{n_{x}^{4} \\mathrm{D}_{0, 0, 0}\\left(f\\right)\\left(\\frac{\\pi \\sqrt{n_{x}^{2} + u^{2}}}{a k_{m}}\\right)}{n_{x}^{6} + 3 \\, n_{x}^{4} u^{2} + 3 \\, n_{x}^{2} u^{4} + u^{6}}\\,{d n_{x}} + 60 \\, \\pi^{4} u^{2} \\int_{0}^{+\\infty} \\frac{n_{x}^{10} \\mathrm{D}_{0, 0, 0, 0}\\left(f\\right)\\left(\\frac{\\pi \\sqrt{n_{x}^{2} + u^{2}}}{a k_{m}}\\right)}{\\sqrt{n_{x}^{2} + u^{2}} n_{x}^{6} + 3 \\, \\sqrt{n_{x}^{2} + u^{2}} n_{x}^{4} u^{2} + 3 \\, \\sqrt{n_{x}^{2} + u^{2}} n_{x}^{2} u^{4} + \\sqrt{n_{x}^{2} + u^{2}} u^{6}}\\,{d n_{x}} - 240 \\, \\pi^{4} u^{2} \\int_{0}^{+\\infty} \\frac{n_{x}^{9} \\left \\lfloor n_{x} \\right \\rfloor \\mathrm{D}_{0, 0, 0, 0}\\left(f\\right)\\left(\\frac{\\pi \\sqrt{n_{x}^{2} + u^{2}}}{a k_{m}}\\right)}{\\sqrt{n_{x}^{2} + u^{2}} n_{x}^{6} + 3 \\, \\sqrt{n_{x}^{2} + u^{2}} n_{x}^{4} u^{2} + 3 \\, \\sqrt{n_{x}^{2} + u^{2}} n_{x}^{2} u^{4} + \\sqrt{n_{x}^{2} + u^{2}} u^{6}}\\,{d n_{x}} + 360 \\, \\pi^{4} u^{2} \\int_{0}^{+\\infty} \\frac{n_{x}^{8} \\left \\lfloor n_{x} \\right \\rfloor^{2} \\mathrm{D}_{0, 0, 0, 0}\\left(f\\right)\\left(\\frac{\\pi \\sqrt{n_{x}^{2} + u^{2}}}{a k_{m}}\\right)}{\\sqrt{n_{x}^{2} + u^{2}} n_{x}^{6} + 3 \\, \\sqrt{n_{x}^{2} + u^{2}} n_{x}^{4} u^{2} + 3 \\, \\sqrt{n_{x}^{2} + u^{2}} n_{x}^{2} u^{4} + \\sqrt{n_{x}^{2} + u^{2}} u^{6}}\\,{d n_{x}} - 240 \\, \\pi^{4} u^{2} \\int_{0}^{+\\infty} \\frac{n_{x}^{7} \\left \\lfloor n_{x} \\right \\rfloor^{3} \\mathrm{D}_{0, 0, 0, 0}\\left(f\\right)\\left(\\frac{\\pi \\sqrt{n_{x}^{2} + u^{2}}}{a k_{m}}\\right)}{\\sqrt{n_{x}^{2} + u^{2}} n_{x}^{6} + 3 \\, \\sqrt{n_{x}^{2} + u^{2}} n_{x}^{4} u^{2} + 3 \\, \\sqrt{n_{x}^{2} + u^{2}} n_{x}^{2} u^{4} + \\sqrt{n_{x}^{2} + u^{2}} u^{6}}\\,{d n_{x}} + 60 \\, \\pi^{4} u^{2} \\int_{0}^{+\\infty} \\frac{n_{x}^{6} \\left \\lfloor n_{x} \\right \\rfloor^{4} \\mathrm{D}_{0, 0, 0, 0}\\left(f\\right)\\left(\\frac{\\pi \\sqrt{n_{x}^{2} + u^{2}}}{a k_{m}}\\right)}{\\sqrt{n_{x}^{2} + u^{2}} n_{x}^{6} + 3 \\, \\sqrt{n_{x}^{2} + u^{2}} n_{x}^{4} u^{2} + 3 \\, \\sqrt{n_{x}^{2} + u^{2}} n_{x}^{2} u^{4} + \\sqrt{n_{x}^{2} + u^{2}} u^{6}}\\,{d n_{x}} - 120 \\, \\pi^{4} u^{2} \\int_{0}^{+\\infty} \\frac{n_{x}^{9} \\mathrm{D}_{0, 0, 0, 0}\\left(f\\right)\\left(\\frac{\\pi \\sqrt{n_{x}^{2} + u^{2}}}{a k_{m}}\\right)}{\\sqrt{n_{x}^{2} + u^{2}} n_{x}^{6} + 3 \\, \\sqrt{n_{x}^{2} + u^{2}} n_{x}^{4} u^{2} + 3 \\, \\sqrt{n_{x}^{2} + u^{2}} n_{x}^{2} u^{4} + \\sqrt{n_{x}^{2} + u^{2}} u^{6}}\\,{d n_{x}} + 360 \\, \\pi^{4} u^{2} \\int_{0}^{+\\infty} \\frac{n_{x}^{8} \\left \\lfloor n_{x} \\right \\rfloor \\mathrm{D}_{0, 0, 0, 0}\\left(f\\right)\\left(\\frac{\\pi \\sqrt{n_{x}^{2} + u^{2}}}{a k_{m}}\\right)}{\\sqrt{n_{x}^{2} + u^{2}} n_{x}^{6} + 3 \\, \\sqrt{n_{x}^{2} + u^{2}} n_{x}^{4} u^{2} + 3 \\, \\sqrt{n_{x}^{2} + u^{2}} n_{x}^{2} u^{4} + \\sqrt{n_{x}^{2} + u^{2}} u^{6}}\\,{d n_{x}} - 360 \\, \\pi^{4} u^{2} \\int_{0}^{+\\infty} \\frac{n_{x}^{7} \\left \\lfloor n_{x} \\right \\rfloor^{2} \\mathrm{D}_{0, 0, 0, 0}\\left(f\\right)\\left(\\frac{\\pi \\sqrt{n_{x}^{2} + u^{2}}}{a k_{m}}\\right)}{\\sqrt{n_{x}^{2} + u^{2}} n_{x}^{6} + 3 \\, \\sqrt{n_{x}^{2} + u^{2}} n_{x}^{4} u^{2} + 3 \\, \\sqrt{n_{x}^{2} + u^{2}} n_{x}^{2} u^{4} + \\sqrt{n_{x}^{2} + u^{2}} u^{6}}\\,{d n_{x}} + 120 \\, \\pi^{4} u^{2} \\int_{0}^{+\\infty} \\frac{n_{x}^{6} \\left \\lfloor n_{x} \\right \\rfloor^{3} \\mathrm{D}_{0, 0, 0, 0}\\left(f\\right)\\left(\\frac{\\pi \\sqrt{n_{x}^{2} + u^{2}}}{a k_{m}}\\right)}{\\sqrt{n_{x}^{2} + u^{2}} n_{x}^{6} + 3 \\, \\sqrt{n_{x}^{2} + u^{2}} n_{x}^{4} u^{2} + 3 \\, \\sqrt{n_{x}^{2} + u^{2}} n_{x}^{2} u^{4} + \\sqrt{n_{x}^{2} + u^{2}} u^{6}}\\,{d n_{x}} + 60 \\, \\pi^{4} u^{2} \\int_{0}^{+\\infty} \\frac{n_{x}^{8} \\mathrm{D}_{0, 0, 0, 0}\\left(f\\right)\\left(\\frac{\\pi \\sqrt{n_{x}^{2} + u^{2}}}{a k_{m}}\\right)}{\\sqrt{n_{x}^{2} + u^{2}} n_{x}^{6} + 3 \\, \\sqrt{n_{x}^{2} + u^{2}} n_{x}^{4} u^{2} + 3 \\, \\sqrt{n_{x}^{2} + u^{2}} n_{x}^{2} u^{4} + \\sqrt{n_{x}^{2} + u^{2}} u^{6}}\\,{d n_{x}} - 120 \\, \\pi^{4} u^{2} \\int_{0}^{+\\infty} \\frac{n_{x}^{7} \\left \\lfloor n_{x} \\right \\rfloor \\mathrm{D}_{0, 0, 0, 0}\\left(f\\right)\\left(\\frac{\\pi \\sqrt{n_{x}^{2} + u^{2}}}{a k_{m}}\\right)}{\\sqrt{n_{x}^{2} + u^{2}} n_{x}^{6} + 3 \\, \\sqrt{n_{x}^{2} + u^{2}} n_{x}^{4} u^{2} + 3 \\, \\sqrt{n_{x}^{2} + u^{2}} n_{x}^{2} u^{4} + \\sqrt{n_{x}^{2} + u^{2}} u^{6}}\\,{d n_{x}} + 60 \\, \\pi^{4} u^{2} \\int_{0}^{+\\infty} \\frac{n_{x}^{6} \\left \\lfloor n_{x} \\right \\rfloor^{2} \\mathrm{D}_{0, 0, 0, 0}\\left(f\\right)\\left(\\frac{\\pi \\sqrt{n_{x}^{2} + u^{2}}}{a k_{m}}\\right)}{\\sqrt{n_{x}^{2} + u^{2}} n_{x}^{6} + 3 \\, \\sqrt{n_{x}^{2} + u^{2}} n_{x}^{4} u^{2} + 3 \\, \\sqrt{n_{x}^{2} + u^{2}} n_{x}^{2} u^{4} + \\sqrt{n_{x}^{2} + u^{2}} u^{6}}\\,{d n_{x}} - 2 \\, \\pi^{4} u^{2} \\int_{0}^{+\\infty} \\frac{n_{x}^{6} \\mathrm{D}_{0, 0, 0, 0}\\left(f\\right)\\left(\\frac{\\pi \\sqrt{n_{x}^{2} + u^{2}}}{a k_{m}}\\right)}{\\sqrt{n_{x}^{2} + u^{2}} n_{x}^{6} + 3 \\, \\sqrt{n_{x}^{2} + u^{2}} n_{x}^{4} u^{2} + 3 \\, \\sqrt{n_{x}^{2} + u^{2}} n_{x}^{2} u^{4} + \\sqrt{n_{x}^{2} + u^{2}} u^{6}}\\,{d n_{x}} + 120 \\, \\pi^{3} a k_{m} \\int_{0}^{+\\infty} \\frac{n_{x}^{10} \\mathrm{D}_{0, 0, 0}\\left(f\\right)\\left(\\frac{\\pi \\sqrt{n_{x}^{2} + u^{2}}}{a k_{m}}\\right)}{n_{x}^{6} + 3 \\, n_{x}^{4} u^{2} + 3 \\, n_{x}^{2} u^{4} + u^{6}}\\,{d n_{x}} - 480 \\, \\pi^{3} a k_{m} \\int_{0}^{+\\infty} \\frac{n_{x}^{9} \\left \\lfloor n_{x} \\right \\rfloor \\mathrm{D}_{0, 0, 0}\\left(f\\right)\\left(\\frac{\\pi \\sqrt{n_{x}^{2} + u^{2}}}{a k_{m}}\\right)}{n_{x}^{6} + 3 \\, n_{x}^{4} u^{2} + 3 \\, n_{x}^{2} u^{4} + u^{6}}\\,{d n_{x}} + 720 \\, \\pi^{3} a k_{m} \\int_{0}^{+\\infty} \\frac{n_{x}^{8} \\left \\lfloor n_{x} \\right \\rfloor^{2} \\mathrm{D}_{0, 0, 0}\\left(f\\right)\\left(\\frac{\\pi \\sqrt{n_{x}^{2} + u^{2}}}{a k_{m}}\\right)}{n_{x}^{6} + 3 \\, n_{x}^{4} u^{2} + 3 \\, n_{x}^{2} u^{4} + u^{6}}\\,{d n_{x}} - 480 \\, \\pi^{3} a k_{m} \\int_{0}^{+\\infty} \\frac{n_{x}^{7} \\left \\lfloor n_{x} \\right \\rfloor^{3} \\mathrm{D}_{0, 0, 0}\\left(f\\right)\\left(\\frac{\\pi \\sqrt{n_{x}^{2} + u^{2}}}{a k_{m}}\\right)}{n_{x}^{6} + 3 \\, n_{x}^{4} u^{2} + 3 \\, n_{x}^{2} u^{4} + u^{6}}\\,{d n_{x}} + 120 \\, \\pi^{3} a k_{m} \\int_{0}^{+\\infty} \\frac{n_{x}^{6} \\left \\lfloor n_{x} \\right \\rfloor^{4} \\mathrm{D}_{0, 0, 0}\\left(f\\right)\\left(\\frac{\\pi \\sqrt{n_{x}^{2} + u^{2}}}{a k_{m}}\\right)}{n_{x}^{6} + 3 \\, n_{x}^{4} u^{2} + 3 \\, n_{x}^{2} u^{4} + u^{6}}\\,{d n_{x}} - 240 \\, \\pi^{3} a k_{m} \\int_{0}^{+\\infty} \\frac{n_{x}^{9} \\mathrm{D}_{0, 0, 0}\\left(f\\right)\\left(\\frac{\\pi \\sqrt{n_{x}^{2} + u^{2}}}{a k_{m}}\\right)}{n_{x}^{6} + 3 \\, n_{x}^{4} u^{2} + 3 \\, n_{x}^{2} u^{4} + u^{6}}\\,{d n_{x}} + 720 \\, \\pi^{3} a k_{m} \\int_{0}^{+\\infty} \\frac{n_{x}^{8} \\left \\lfloor n_{x} \\right \\rfloor \\mathrm{D}_{0, 0, 0}\\left(f\\right)\\left(\\frac{\\pi \\sqrt{n_{x}^{2} + u^{2}}}{a k_{m}}\\right)}{n_{x}^{6} + 3 \\, n_{x}^{4} u^{2} + 3 \\, n_{x}^{2} u^{4} + u^{6}}\\,{d n_{x}} - 720 \\, \\pi^{3} a k_{m} \\int_{0}^{+\\infty} \\frac{n_{x}^{7} \\left \\lfloor n_{x} \\right \\rfloor^{2} \\mathrm{D}_{0, 0, 0}\\left(f\\right)\\left(\\frac{\\pi \\sqrt{n_{x}^{2} + u^{2}}}{a k_{m}}\\right)}{n_{x}^{6} + 3 \\, n_{x}^{4} u^{2} + 3 \\, n_{x}^{2} u^{4} + u^{6}}\\,{d n_{x}} + 240 \\, \\pi^{3} a k_{m} \\int_{0}^{+\\infty} \\frac{n_{x}^{6} \\left \\lfloor n_{x} \\right \\rfloor^{3} \\mathrm{D}_{0, 0, 0}\\left(f\\right)\\left(\\frac{\\pi \\sqrt{n_{x}^{2} + u^{2}}}{a k_{m}}\\right)}{n_{x}^{6} + 3 \\, n_{x}^{4} u^{2} + 3 \\, n_{x}^{2} u^{4} + u^{6}}\\,{d n_{x}} + 120 \\, \\pi^{3} a k_{m} \\int_{0}^{+\\infty} \\frac{n_{x}^{8} \\mathrm{D}_{0, 0, 0}\\left(f\\right)\\left(\\frac{\\pi \\sqrt{n_{x}^{2} + u^{2}}}{a k_{m}}\\right)}{n_{x}^{6} + 3 \\, n_{x}^{4} u^{2} + 3 \\, n_{x}^{2} u^{4} + u^{6}}\\,{d n_{x}} - 240 \\, \\pi^{3} a k_{m} \\int_{0}^{+\\infty} \\frac{n_{x}^{7} \\left \\lfloor n_{x} \\right \\rfloor \\mathrm{D}_{0, 0, 0}\\left(f\\right)\\left(\\frac{\\pi \\sqrt{n_{x}^{2} + u^{2}}}{a k_{m}}\\right)}{n_{x}^{6} + 3 \\, n_{x}^{4} u^{2} + 3 \\, n_{x}^{2} u^{4} + u^{6}}\\,{d n_{x}} + 120 \\, \\pi^{3} a k_{m} \\int_{0}^{+\\infty} \\frac{n_{x}^{6} \\left \\lfloor n_{x} \\right \\rfloor^{2} \\mathrm{D}_{0, 0, 0}\\left(f\\right)\\left(\\frac{\\pi \\sqrt{n_{x}^{2} + u^{2}}}{a k_{m}}\\right)}{n_{x}^{6} + 3 \\, n_{x}^{4} u^{2} + 3 \\, n_{x}^{2} u^{4} + u^{6}}\\,{d n_{x}} - 4 \\, \\pi^{3} a k_{m} \\int_{0}^{+\\infty} \\frac{n_{x}^{6} \\mathrm{D}_{0, 0, 0}\\left(f\\right)\\left(\\frac{\\pi \\sqrt{n_{x}^{2} + u^{2}}}{a k_{m}}\\right)}{n_{x}^{6} + 3 \\, n_{x}^{4} u^{2} + 3 \\, n_{x}^{2} u^{4} + u^{6}}\\,{d n_{x}} + 30 \\, \\pi^{4} \\int_{0}^{+\\infty} \\frac{n_{x}^{12} \\mathrm{D}_{0, 0, 0, 0}\\left(f\\right)\\left(\\frac{\\pi \\sqrt{n_{x}^{2} + u^{2}}}{a k_{m}}\\right)}{\\sqrt{n_{x}^{2} + u^{2}} n_{x}^{6} + 3 \\, \\sqrt{n_{x}^{2} + u^{2}} n_{x}^{4} u^{2} + 3 \\, \\sqrt{n_{x}^{2} + u^{2}} n_{x}^{2} u^{4} + \\sqrt{n_{x}^{2} + u^{2}} u^{6}}\\,{d n_{x}} - 120 \\, \\pi^{4} \\int_{0}^{+\\infty} \\frac{n_{x}^{11} \\left \\lfloor n_{x} \\right \\rfloor \\mathrm{D}_{0, 0, 0, 0}\\left(f\\right)\\left(\\frac{\\pi \\sqrt{n_{x}^{2} + u^{2}}}{a k_{m}}\\right)}{\\sqrt{n_{x}^{2} + u^{2}} n_{x}^{6} + 3 \\, \\sqrt{n_{x}^{2} + u^{2}} n_{x}^{4} u^{2} + 3 \\, \\sqrt{n_{x}^{2} + u^{2}} n_{x}^{2} u^{4} + \\sqrt{n_{x}^{2} + u^{2}} u^{6}}\\,{d n_{x}} + 180 \\, \\pi^{4} \\int_{0}^{+\\infty} \\frac{n_{x}^{10} \\left \\lfloor n_{x} \\right \\rfloor^{2} \\mathrm{D}_{0, 0, 0, 0}\\left(f\\right)\\left(\\frac{\\pi \\sqrt{n_{x}^{2} + u^{2}}}{a k_{m}}\\right)}{\\sqrt{n_{x}^{2} + u^{2}} n_{x}^{6} + 3 \\, \\sqrt{n_{x}^{2} + u^{2}} n_{x}^{4} u^{2} + 3 \\, \\sqrt{n_{x}^{2} + u^{2}} n_{x}^{2} u^{4} + \\sqrt{n_{x}^{2} + u^{2}} u^{6}}\\,{d n_{x}} - 120 \\, \\pi^{4} \\int_{0}^{+\\infty} \\frac{n_{x}^{9} \\left \\lfloor n_{x} \\right \\rfloor^{3} \\mathrm{D}_{0, 0, 0, 0}\\left(f\\right)\\left(\\frac{\\pi \\sqrt{n_{x}^{2} + u^{2}}}{a k_{m}}\\right)}{\\sqrt{n_{x}^{2} + u^{2}} n_{x}^{6} + 3 \\, \\sqrt{n_{x}^{2} + u^{2}} n_{x}^{4} u^{2} + 3 \\, \\sqrt{n_{x}^{2} + u^{2}} n_{x}^{2} u^{4} + \\sqrt{n_{x}^{2} + u^{2}} u^{6}}\\,{d n_{x}} + 30 \\, \\pi^{4} \\int_{0}^{+\\infty} \\frac{n_{x}^{8} \\left \\lfloor n_{x} \\right \\rfloor^{4} \\mathrm{D}_{0, 0, 0, 0}\\left(f\\right)\\left(\\frac{\\pi \\sqrt{n_{x}^{2} + u^{2}}}{a k_{m}}\\right)}{\\sqrt{n_{x}^{2} + u^{2}} n_{x}^{6} + 3 \\, \\sqrt{n_{x}^{2} + u^{2}} n_{x}^{4} u^{2} + 3 \\, \\sqrt{n_{x}^{2} + u^{2}} n_{x}^{2} u^{4} + \\sqrt{n_{x}^{2} + u^{2}} u^{6}}\\,{d n_{x}} - 60 \\, \\pi^{4} \\int_{0}^{+\\infty} \\frac{n_{x}^{11} \\mathrm{D}_{0, 0, 0, 0}\\left(f\\right)\\left(\\frac{\\pi \\sqrt{n_{x}^{2} + u^{2}}}{a k_{m}}\\right)}{\\sqrt{n_{x}^{2} + u^{2}} n_{x}^{6} + 3 \\, \\sqrt{n_{x}^{2} + u^{2}} n_{x}^{4} u^{2} + 3 \\, \\sqrt{n_{x}^{2} + u^{2}} n_{x}^{2} u^{4} + \\sqrt{n_{x}^{2} + u^{2}} u^{6}}\\,{d n_{x}} + 180 \\, \\pi^{4} \\int_{0}^{+\\infty} \\frac{n_{x}^{10} \\left \\lfloor n_{x} \\right \\rfloor \\mathrm{D}_{0, 0, 0, 0}\\left(f\\right)\\left(\\frac{\\pi \\sqrt{n_{x}^{2} + u^{2}}}{a k_{m}}\\right)}{\\sqrt{n_{x}^{2} + u^{2}} n_{x}^{6} + 3 \\, \\sqrt{n_{x}^{2} + u^{2}} n_{x}^{4} u^{2} + 3 \\, \\sqrt{n_{x}^{2} + u^{2}} n_{x}^{2} u^{4} + \\sqrt{n_{x}^{2} + u^{2}} u^{6}}\\,{d n_{x}} - 180 \\, \\pi^{4} \\int_{0}^{+\\infty} \\frac{n_{x}^{9} \\left \\lfloor n_{x} \\right \\rfloor^{2} \\mathrm{D}_{0, 0, 0, 0}\\left(f\\right)\\left(\\frac{\\pi \\sqrt{n_{x}^{2} + u^{2}}}{a k_{m}}\\right)}{\\sqrt{n_{x}^{2} + u^{2}} n_{x}^{6} + 3 \\, \\sqrt{n_{x}^{2} + u^{2}} n_{x}^{4} u^{2} + 3 \\, \\sqrt{n_{x}^{2} + u^{2}} n_{x}^{2} u^{4} + \\sqrt{n_{x}^{2} + u^{2}} u^{6}}\\,{d n_{x}} + 60 \\, \\pi^{4} \\int_{0}^{+\\infty} \\frac{n_{x}^{8} \\left \\lfloor n_{x} \\right \\rfloor^{3} \\mathrm{D}_{0, 0, 0, 0}\\left(f\\right)\\left(\\frac{\\pi \\sqrt{n_{x}^{2} + u^{2}}}{a k_{m}}\\right)}{\\sqrt{n_{x}^{2} + u^{2}} n_{x}^{6} + 3 \\, \\sqrt{n_{x}^{2} + u^{2}} n_{x}^{4} u^{2} + 3 \\, \\sqrt{n_{x}^{2} + u^{2}} n_{x}^{2} u^{4} + \\sqrt{n_{x}^{2} + u^{2}} u^{6}}\\,{d n_{x}} + 30 \\, \\pi^{4} \\int_{0}^{+\\infty} \\frac{n_{x}^{10} \\mathrm{D}_{0, 0, 0, 0}\\left(f\\right)\\left(\\frac{\\pi \\sqrt{n_{x}^{2} + u^{2}}}{a k_{m}}\\right)}{\\sqrt{n_{x}^{2} + u^{2}} n_{x}^{6} + 3 \\, \\sqrt{n_{x}^{2} + u^{2}} n_{x}^{4} u^{2} + 3 \\, \\sqrt{n_{x}^{2} + u^{2}} n_{x}^{2} u^{4} + \\sqrt{n_{x}^{2} + u^{2}} u^{6}}\\,{d n_{x}} - 60 \\, \\pi^{4} \\int_{0}^{+\\infty} \\frac{n_{x}^{9} \\left \\lfloor n_{x} \\right \\rfloor \\mathrm{D}_{0, 0, 0, 0}\\left(f\\right)\\left(\\frac{\\pi \\sqrt{n_{x}^{2} + u^{2}}}{a k_{m}}\\right)}{\\sqrt{n_{x}^{2} + u^{2}} n_{x}^{6} + 3 \\, \\sqrt{n_{x}^{2} + u^{2}} n_{x}^{4} u^{2} + 3 \\, \\sqrt{n_{x}^{2} + u^{2}} n_{x}^{2} u^{4} + \\sqrt{n_{x}^{2} + u^{2}} u^{6}}\\,{d n_{x}} + 30 \\, \\pi^{4} \\int_{0}^{+\\infty} \\frac{n_{x}^{8} \\left \\lfloor n_{x} \\right \\rfloor^{2} \\mathrm{D}_{0, 0, 0, 0}\\left(f\\right)\\left(\\frac{\\pi \\sqrt{n_{x}^{2} + u^{2}}}{a k_{m}}\\right)}{\\sqrt{n_{x}^{2} + u^{2}} n_{x}^{6} + 3 \\, \\sqrt{n_{x}^{2} + u^{2}} n_{x}^{4} u^{2} + 3 \\, \\sqrt{n_{x}^{2} + u^{2}} n_{x}^{2} u^{4} + \\sqrt{n_{x}^{2} + u^{2}} u^{6}}\\,{d n_{x}} - \\pi^{4} \\int_{0}^{+\\infty} \\frac{n_{x}^{8} \\mathrm{D}_{0, 0, 0, 0}\\left(f\\right)\\left(\\frac{\\pi \\sqrt{n_{x}^{2} + u^{2}}}{a k_{m}}\\right)}{\\sqrt{n_{x}^{2} + u^{2}} n_{x}^{6} + 3 \\, \\sqrt{n_{x}^{2} + u^{2}} n_{x}^{4} u^{2} + 3 \\, \\sqrt{n_{x}^{2} + u^{2}} n_{x}^{2} u^{4} + \\sqrt{n_{x}^{2} + u^{2}} u^{6}}\\,{d n_{x}}}{1440 \\, a^{4} k_{m}^{4}}$"
      ],
      "text/plain": [
       "<IPython.core.display.Math object>"
      ]
     },
     "metadata": {},
     "output_type": "display_data"
    }
   ],
   "source": [
    "#too long time\n",
    "half_R_p_Fu = half_summa(R_p_Fu, n_y, 0, Infinity)\n",
    "display(Math(latex(half_R_p_Fu)))"
   ]
  },
  {
   "cell_type": "code",
   "execution_count": null,
   "metadata": {},
   "outputs": [],
   "source": [
    "assume(u>0)\n",
    "half_R_p_Fn = half_summa(R_p_Fn, n_y, 0, Infinity)\n",
    "display(Math(latex(half_R_p_Fn)))"
   ]
  },
  {
   "cell_type": "code",
   "execution_count": 64,
   "metadata": {},
   "outputs": [
    {
     "data": {
      "text/latex": [
       "$\\displaystyle -\\frac{1}{12} \\, \\int_{a_{x}}^{b_{x}} \\frac{\\partial}{\\partial a_{y}}F\\left(n_{x}, a_{y}\\right)\\,{d n_{x}} + \\frac{1}{720} \\, \\int_{a_{x}}^{b_{x}} \\frac{\\partial^{3}}{(\\partial a_{y})^{3}}F\\left(n_{x}, a_{y}\\right)\\,{d n_{x}}$"
      ],
      "text/plain": [
       "<IPython.core.display.Math object>"
      ]
     },
     "metadata": {},
     "output_type": "display_data"
    }
   ],
   "source": [
    "sum_int_F = sum_dfdx_bernoulis(integrate           (F,(n_x, a_x, b_x)),  n_y, a_y, b_y, p)\n",
    "display(Math(latex(sum_int_F)))"
   ]
  },
  {
   "cell_type": "code",
   "execution_count": 65,
   "metadata": {},
   "outputs": [
    {
     "name": "stdout",
     "output_type": "stream",
     "text": [
      "sum_int_Fu= 0\n"
     ]
    },
    {
     "data": {
      "text/latex": [
       "$\\displaystyle 0$"
      ],
      "text/plain": [
       "<IPython.core.display.Math object>"
      ]
     },
     "metadata": {},
     "output_type": "display_data"
    }
   ],
   "source": [
    "#try:\n",
    "sum_int_Fu = sum_dfdx_bernoulis(integrate(Fu(u, n_x, n_y, a, k_m),(n_x, 0, Infinity), algorithm=\"sympy\"),  n_y, 0, Infinity, p)\n",
    "print(\"sum_int_Fu=\",sum_int_Fu)\n",
    "display(Math(latex(sum_int_Fu)))\n",
    "#except Exception as ex:\n",
    "#    print(ex)"
   ]
  },
  {
   "cell_type": "raw",
   "metadata": {},
   "source": [
    "#try:\n",
    "sum_int_Fn = sum_dfdx_bernoulis(integrate(Fn(u, n_x, n_y, a, k_m),(n_x, 0, Infinity), algorithm=\"sympy\"),  n_y, 0, Infinity, p)\n",
    "print(\"sum_int_Fn=\",sum_int_Fn)\n",
    "display(Math(latex(sum_int)))\n",
    "#except Exception as ex:\n",
    "#    print(ex)"
   ]
  },
  {
   "cell_type": "code",
   "execution_count": 66,
   "metadata": {},
   "outputs": [
    {
     "name": "stdout",
     "output_type": "stream",
     "text": [
      "sum_half_F= -1/24*diff(F(a_x, a_y), a_y) + 1/1440*diff(F(a_x, a_y), a_y, a_y, a_y)\n"
     ]
    },
    {
     "data": {
      "text/latex": [
       "$\\displaystyle -\\frac{1}{24} \\, \\frac{\\partial}{\\partial a_{y}}F\\left(a_{x}, a_{y}\\right) + \\frac{1}{1440} \\, \\frac{\\partial^{3}}{(\\partial a_{y})^{3}}F\\left(a_{x}, a_{y}\\right)$"
      ],
      "text/plain": [
       "<IPython.core.display.Math object>"
      ]
     },
     "metadata": {},
     "output_type": "display_data"
    }
   ],
   "source": [
    "sum_half_F = sum_dfdx_bernoulis(half_summa (F, n_x, a_x, b_x), n_y, a_y, b_y, p)\n",
    "print(\"sum_half_F=\", sum_half_F)\n",
    "display(Math(latex(sum_half_F)))"
   ]
  },
  {
   "cell_type": "code",
   "execution_count": 67,
   "metadata": {},
   "outputs": [
    {
     "name": "stdout",
     "output_type": "stream",
     "text": [
      "sum_half_Fu= 0\n"
     ]
    },
    {
     "data": {
      "text/latex": [
       "$\\displaystyle 0$"
      ],
      "text/plain": [
       "<IPython.core.display.Math object>"
      ]
     },
     "metadata": {},
     "output_type": "display_data"
    }
   ],
   "source": [
    "sum_half_Fu = sum_dfdx_bernoulis(half_summa (Fu(u, n_x, n_y, a, k_m), n_x, 0, Infinity), n_y, 0, Infinity, p)\n",
    "print(\"sum_half_Fu=\", sum_half_Fu)\n",
    "display(Math(latex(sum_half_Fu)))"
   ]
  },
  {
   "cell_type": "code",
   "execution_count": 68,
   "metadata": {},
   "outputs": [
    {
     "name": "stdout",
     "output_type": "stream",
     "text": [
      "sum_half_Fn= 0\n"
     ]
    },
    {
     "data": {
      "text/latex": [
       "$\\displaystyle 0$"
      ],
      "text/plain": [
       "<IPython.core.display.Math object>"
      ]
     },
     "metadata": {},
     "output_type": "display_data"
    }
   ],
   "source": [
    "sum_half_Fn = sum_dfdx_bernoulis(half_summa (Fn(u, n_x, n_y, a, k_m), n_x, 0, Infinity), n_y, 0, Infinity, p)\n",
    "print(\"sum_half_Fn=\", sum_half_Fn)\n",
    "display(Math(latex(sum_half_Fn)))"
   ]
  },
  {
   "cell_type": "code",
   "execution_count": 69,
   "metadata": {},
   "outputs": [
    {
     "name": "stdout",
     "output_type": "stream",
     "text": [
      "sum_sum_F= -1/8640*diff(F(a_x, a_y), a_x, a_x, a_x, a_y) + 1/518400*diff(F(a_x, a_y), a_x, a_x, a_x, a_y, a_y, a_y) + 1/144*diff(F(a_x, a_y), a_x, a_y) - 1/8640*diff(F(a_x, a_y), a_x, a_y, a_y, a_y)\n"
     ]
    },
    {
     "data": {
      "text/latex": [
       "$\\displaystyle -\\frac{1}{8640} \\, \\frac{\\partial^{4}}{(\\partial a_{x})^{3}\\partial a_{y}}F\\left(a_{x}, a_{y}\\right) + \\frac{1}{518400} \\, \\frac{\\partial^{6}}{(\\partial a_{x})^{3}(\\partial a_{y})^{3}}F\\left(a_{x}, a_{y}\\right) + \\frac{1}{144} \\, \\frac{\\partial^{2}}{\\partial a_{x}\\partial a_{y}}F\\left(a_{x}, a_{y}\\right) - \\frac{1}{8640} \\, \\frac{\\partial^{4}}{\\partial a_{x}(\\partial a_{y})^{3}}F\\left(a_{x}, a_{y}\\right)$"
      ],
      "text/plain": [
       "<IPython.core.display.Math object>"
      ]
     },
     "metadata": {},
     "output_type": "display_data"
    }
   ],
   "source": [
    "sum_sum_F = sum_dfdx_bernoulis(sum_dfdx_bernoulis (F, n_x, a_x, b_x,p), n_y, a_y, b_y, p)\n",
    "print(\"sum_sum_F=\",sum_sum_F)\n",
    "display(Math(latex(sum_sum_F)))"
   ]
  },
  {
   "cell_type": "code",
   "execution_count": 70,
   "metadata": {},
   "outputs": [
    {
     "name": "stdout",
     "output_type": "stream",
     "text": [
      "sum_sum_Fu= 0\n"
     ]
    },
    {
     "data": {
      "text/latex": [
       "$\\displaystyle 0$"
      ],
      "text/plain": [
       "<IPython.core.display.Math object>"
      ]
     },
     "metadata": {},
     "output_type": "display_data"
    }
   ],
   "source": [
    "sum_sum_Fu = lambda u, a, k_m : sum_dfdx_bernoulis(sum_dfdx_bernoulis (Fu(u, n_x, n_y, a, k_m), n_x, 0, Infinity, p), n_y, 0, Infinity, p)\n",
    "print(\"sum_sum_Fu=\",sum_sum_Fu(u, a, k_m))\n",
    "display(Math(latex(sum_sum_Fu(u, a, k_m))))"
   ]
  },
  {
   "cell_type": "code",
   "execution_count": 71,
   "metadata": {},
   "outputs": [
    {
     "name": "stdout",
     "output_type": "stream",
     "text": [
      "sum_sum_Fn= 0\n"
     ]
    },
    {
     "data": {
      "text/latex": [
       "$\\displaystyle 0$"
      ],
      "text/plain": [
       "<IPython.core.display.Math object>"
      ]
     },
     "metadata": {},
     "output_type": "display_data"
    }
   ],
   "source": [
    "sum_sum_Fn = lambda u, a, k_m : sum_dfdx_bernoulis(sum_dfdx_bernoulis (Fn(u, n_x, n_y, a, k_m), n_x, 0, Infinity, p), n_y, 0, Infinity, p)\n",
    "print(\"sum_sum_Fn=\",sum_sum_Fn(u, a, k_m))\n",
    "display(Math(latex(sum_sum_Fn(u, a, k_m))))"
   ]
  },
  {
   "cell_type": "raw",
   "metadata": {},
   "source": [
    "# Sagemath 9.3 has bug diff of symbolic_sum\n",
    "# https://trac.sagemath.org/ticket/32161\n",
    "# UnicodeDecodeError: 'utf-8' codec can't decode byte 0xb1 in position 112: invalid start byte\n",
    "from sage.calculus.calculus import symbolic_sum\n",
    "s = symbolic_sum(F, n_x, a_x, b_x, algorithm = 'giac')\n",
    "s.diff(n_y)"
   ]
  },
  {
   "cell_type": "code",
   "execution_count": 72,
   "metadata": {},
   "outputs": [
    {
     "name": "stdout",
     "output_type": "stream",
     "text": [
      "R_p_F= -integrate(1/720*(30*(n_x - floor(n_x))^4 - 60*(n_x - floor(n_x))^3 + 30*(n_x - floor(n_x))^2 - 1)*diff(F(n_x, n_y), n_x, n_x, n_x, n_x), n_x, a_x, b_x)\n"
     ]
    },
    {
     "data": {
      "text/latex": [
       "$\\displaystyle -\\int_{a_{x}}^{b_{x}} \\frac{1}{720} \\, {\\left(30 \\, {\\left(n_{x} - \\left \\lfloor n_{x} \\right \\rfloor\\right)}^{4} - 60 \\, {\\left(n_{x} - \\left \\lfloor n_{x} \\right \\rfloor\\right)}^{3} + 30 \\, {\\left(n_{x} - \\left \\lfloor n_{x} \\right \\rfloor\\right)}^{2} - 1\\right)} \\frac{\\partial^{4}}{(\\partial n_{x})^{4}}F\\left(n_{x}, n_{y}\\right)\\,{d n_{x}}$"
      ],
      "text/plain": [
       "<IPython.core.display.Math object>"
      ]
     },
     "metadata": {},
     "output_type": "display_data"
    },
    {
     "name": "stdout",
     "output_type": "stream",
     "text": [
      "sumy_R_p_F= 1/8640*integrate((30*(n_x - floor(n_x))^4 - 60*(n_x - floor(n_x))^3 + 30*(n_x - floor(n_x))^2 - 1)*diff(F(n_x, a_y), n_x, n_x, n_x, n_x, a_y), n_x, a_x, b_x) - 1/518400*integrate((30*(n_x - floor(n_x))^4 - 60*(n_x - floor(n_x))^3 + 30*(n_x - floor(n_x))^2 - 1)*diff(F(n_x, a_y), n_x, n_x, n_x, n_x, a_y, a_y, a_y), n_x, a_x, b_x)\n"
     ]
    },
    {
     "data": {
      "text/latex": [
       "$\\displaystyle \\frac{1}{8640} \\, \\int_{a_{x}}^{b_{x}} {\\left(30 \\, {\\left(n_{x} - \\left \\lfloor n_{x} \\right \\rfloor\\right)}^{4} - 60 \\, {\\left(n_{x} - \\left \\lfloor n_{x} \\right \\rfloor\\right)}^{3} + 30 \\, {\\left(n_{x} - \\left \\lfloor n_{x} \\right \\rfloor\\right)}^{2} - 1\\right)} \\frac{\\partial^{5}}{(\\partial n_{x})^{4}\\partial a_{y}}F\\left(n_{x}, a_{y}\\right)\\,{d n_{x}} - \\frac{1}{518400} \\, \\int_{a_{x}}^{b_{x}} {\\left(30 \\, {\\left(n_{x} - \\left \\lfloor n_{x} \\right \\rfloor\\right)}^{4} - 60 \\, {\\left(n_{x} - \\left \\lfloor n_{x} \\right \\rfloor\\right)}^{3} + 30 \\, {\\left(n_{x} - \\left \\lfloor n_{x} \\right \\rfloor\\right)}^{2} - 1\\right)} \\frac{\\partial^{7}}{(\\partial n_{x})^{4}(\\partial a_{y})^{3}}F\\left(n_{x}, a_{y}\\right)\\,{d n_{x}}$"
      ],
      "text/plain": [
       "<IPython.core.display.Math object>"
      ]
     },
     "metadata": {},
     "output_type": "display_data"
    }
   ],
   "source": [
    "try:\n",
    "    use_int_R_p_j=False\n",
    "\n",
    "    # Sagemath 9.3 has bug diff of symbolic_sum\n",
    "    # https://trac.sagemath.org/ticket/32161\n",
    "\n",
    "    R_p_F = euler_maclaurin_R_p(F, n_x, a_x, b_x,p, f_diff_symb_p=F.diff(n_x,p))\n",
    "    if type(R_p_F) is tuple:\n",
    "        (R_p_F, term) = R_p_F\n",
    "        print(\"term=\", term)\n",
    "        display(Math(latex(term)))\n",
    "\n",
    "    print(\"R_p_F=\", R_p_F)\n",
    "    display(Math(latex(R_p_F)))\n",
    "\n",
    "    sumy_R_p_F = sum_dfdx_bernoulis(R_p_F, n_y, a_y, b_y, p)\n",
    "    print(\"sumy_R_p_F=\",sumy_R_p_F)\n",
    "    display(Math(latex(sumy_R_p_F)))\n",
    "except Exception as ex:\n",
    "    print(ex)"
   ]
  },
  {
   "cell_type": "raw",
   "metadata": {},
   "source": [
    "try:\n",
    "# too long time\n",
    "    use_int_R_p_j=False\n",
    "\n",
    "    # Sagemath 9.3 has bug diff of symbolic_sum\n",
    "    # https://trac.sagemath.org/ticket/32161\n",
    "    sumy_R_p_Fu = sum_dfdx_bernoulis(R_p_Fu, n_y, 0, Infinity, p)\n",
    "    print(\"sumy_R_p_Fu=\",sumy_R_p_Fu)\n",
    "    display(Math(latex(sumy_R_p_Fu)))\n",
    "except Exception as ex:\n",
    "    print(ex)"
   ]
  },
  {
   "cell_type": "raw",
   "metadata": {},
   "source": [
    "try:\n",
    "    use_int_R_p_j=False\n",
    "\n",
    "    # Sagemath 9.3 has bug diff of symbolic_sum\n",
    "    # https://trac.sagemath.org/ticket/32161\n",
    "    sumy_R_p_Fn = sum_dfdx_bernoulis(R_p_Fn, n_y, 0, Infinity, p)\n",
    "    print(\"sumy_R_p_Fn=\",sumy_R_p_Fn)\n",
    "    display(Math(latex(sumy_R_p_Fn)))\n",
    "except Exception as ex:\n",
    "    print(ex)"
   ]
  },
  {
   "cell_type": "raw",
   "metadata": {},
   "source": [
    "# with p = 3 I had\n",
    "# bug with zeroing of array of lambdas\n",
    "# here (inside sum_dfdx_bernoulis_euler_maclaurin_R_p)\n",
    "# Fixed!!!\n",
    "use_int_R_p_j=False\n",
    "#logging = True\n",
    "sum_R_p = sum_dfdx_bernoulis_euler_maclaurin_R_p(F, n_x, a_x, b_x,    n_y, a_y, b_y, p)\n",
    "\n",
    "if type(sum_R_p) is tuple:\n",
    "    print(\"sum_R_p=\",sum_R_p[0])\n",
    "    display(Math(latex(sum_R_p[0])))\n",
    "else:\n",
    "    print(\"sum_R_p=\",sum_R_p)\n",
    "    display(Math(latex(sum_R_p)))"
   ]
  },
  {
   "cell_type": "raw",
   "metadata": {},
   "source": [
    "# too long\n",
    "try:\n",
    "    int_F = integral           (F,(n_x, a_x, b_x), hold=True)\n",
    "    print(\"int_F=\",int_F)\n",
    "    display(Math(latex(int_F)))\n",
    "\n",
    "    R_p_int_F = euler_maclaurin_R_p(int_F, n_y, a_y, b_y, p, f_diff_symb_p=int_F.diff(n_y,p))\n",
    "    print(\"R_p_int_F=\", R_p_int_F)\n",
    "    display(Math(latex(R_p_int_F)))\n",
    "\n",
    "except Exception as ex:\n",
    "    print(ex)"
   ]
  },
  {
   "cell_type": "code",
   "execution_count": 73,
   "metadata": {},
   "outputs": [
    {
     "name": "stdout",
     "output_type": "stream",
     "text": [
      "half_F= 1/2*F(a_x, n_y)\n"
     ]
    },
    {
     "data": {
      "text/latex": [
       "$\\displaystyle \\frac{1}{2} \\, F\\left(a_{x}, n_{y}\\right)$"
      ],
      "text/plain": [
       "<IPython.core.display.Math object>"
      ]
     },
     "metadata": {},
     "output_type": "display_data"
    },
    {
     "name": "stdout",
     "output_type": "stream",
     "text": [
      "half_F_diff_y_p= 1/2*diff(F(a_x, n_y), n_y, n_y, n_y, n_y)\n"
     ]
    },
    {
     "data": {
      "text/latex": [
       "$\\displaystyle \\frac{1}{2} \\, \\frac{\\partial^{4}}{(\\partial n_{y})^{4}}F\\left(a_{x}, n_{y}\\right)$"
      ],
      "text/plain": [
       "<IPython.core.display.Math object>"
      ]
     },
     "metadata": {},
     "output_type": "display_data"
    },
    {
     "name": "stdout",
     "output_type": "stream",
     "text": [
      "R_p_half_F= -integrate(1/1440*(30*(n_y - floor(n_y))^4 - 60*(n_y - floor(n_y))^3 + 30*(n_y - floor(n_y))^2 - 1)*diff(F(a_x, n_y), n_y, n_y, n_y, n_y), n_y, a_y, b_y)\n"
     ]
    },
    {
     "data": {
      "text/latex": [
       "$\\displaystyle -\\int_{a_{y}}^{b_{y}} \\frac{1}{1440} \\, {\\left(30 \\, {\\left(n_{y} - \\left \\lfloor n_{y} \\right \\rfloor\\right)}^{4} - 60 \\, {\\left(n_{y} - \\left \\lfloor n_{y} \\right \\rfloor\\right)}^{3} + 30 \\, {\\left(n_{y} - \\left \\lfloor n_{y} \\right \\rfloor\\right)}^{2} - 1\\right)} \\frac{\\partial^{4}}{(\\partial n_{y})^{4}}F\\left(a_{x}, n_{y}\\right)\\,{d n_{y}}$"
      ],
      "text/plain": [
       "<IPython.core.display.Math object>"
      ]
     },
     "metadata": {},
     "output_type": "display_data"
    }
   ],
   "source": [
    "half_F = half_summa (F, n_x, a_x, b_x)\n",
    "print(\"half_F=\",half_F)\n",
    "display(Math(latex(half_F)))\n",
    "\n",
    "half_F_diff_y_p = half_F.diff(n_y,p)\n",
    "print(\"half_F_diff_y_p=\",half_F_diff_y_p)\n",
    "display(Math(latex(half_F_diff_y_p)))\n",
    "\n",
    "R_p_half_F = euler_maclaurin_R_p(half_F, n_y, a_y, b_y, p, f_diff_symb_p=half_F_diff_y_p)\n",
    "print(\"R_p_half_F=\",R_p_half_F)\n",
    "display(Math(latex(R_p_half_F)))"
   ]
  },
  {
   "cell_type": "code",
   "execution_count": 74,
   "metadata": {},
   "outputs": [
    {
     "name": "stdout",
     "output_type": "stream",
     "text": [
      "sum_F= -1/12*diff(F(a_x, n_y), a_x) + 1/720*diff(F(a_x, n_y), a_x, a_x, a_x)\n"
     ]
    },
    {
     "data": {
      "text/latex": [
       "$\\displaystyle -\\frac{1}{12} \\, \\frac{\\partial}{\\partial a_{x}}F\\left(a_{x}, n_{y}\\right) + \\frac{1}{720} \\, \\frac{\\partial^{3}}{(\\partial a_{x})^{3}}F\\left(a_{x}, n_{y}\\right)$"
      ],
      "text/plain": [
       "<IPython.core.display.Math object>"
      ]
     },
     "metadata": {},
     "output_type": "display_data"
    },
    {
     "name": "stdout",
     "output_type": "stream",
     "text": [
      "R_p_sum_F= -integrate(1/518400*(30*(n_y - floor(n_y))^4 - 60*(n_y - floor(n_y))^3 + 30*(n_y - floor(n_y))^2 - 1)*(diff(F(a_x, n_y), a_x, a_x, a_x, n_y, n_y, n_y, n_y) - 60*diff(F(a_x, n_y), a_x, n_y, n_y, n_y, n_y)), n_y, a_y, b_y)\n"
     ]
    },
    {
     "data": {
      "text/latex": [
       "$\\displaystyle -\\int_{a_{y}}^{b_{y}} \\frac{1}{518400} \\, {\\left(30 \\, {\\left(n_{y} - \\left \\lfloor n_{y} \\right \\rfloor\\right)}^{4} - 60 \\, {\\left(n_{y} - \\left \\lfloor n_{y} \\right \\rfloor\\right)}^{3} + 30 \\, {\\left(n_{y} - \\left \\lfloor n_{y} \\right \\rfloor\\right)}^{2} - 1\\right)} {\\left(\\frac{\\partial^{7}}{(\\partial a_{x})^{3}(\\partial n_{y})^{4}}F\\left(a_{x}, n_{y}\\right) - 60 \\, \\frac{\\partial^{5}}{\\partial a_{x}(\\partial n_{y})^{4}}F\\left(a_{x}, n_{y}\\right)\\right)}\\,{d n_{y}}$"
      ],
      "text/plain": [
       "<IPython.core.display.Math object>"
      ]
     },
     "metadata": {},
     "output_type": "display_data"
    }
   ],
   "source": [
    "try:\n",
    "    sum_F = sum_dfdx_bernoulis (F, n_x, a_x, b_x,p)\n",
    "    print(\"sum_F=\",sum_F)\n",
    "    display(Math(latex(sum_F)))\n",
    "\n",
    "    sum_F_diff_y_p = sum_F.diff(n_y,p)\n",
    "    #print(\"sum_F_diff_y_p=\",sum_F_diff_y_p)\n",
    "    #display(Math(latex(sum_F_diff_y_p)))\n",
    "\n",
    "    R_p_sum_F = euler_maclaurin_R_p(sum_F, n_y, a_y, b_y, p, f_diff_symb_p=sum_F_diff_y_p)\n",
    "    print(\"R_p_sum_F=\",R_p_sum_F)\n",
    "    display(Math(latex(R_p_sum_F)))\n",
    "\n",
    "except Exception as ex:\n",
    "    print(ex)"
   ]
  },
  {
   "cell_type": "raw",
   "metadata": {},
   "source": [
    "try:\n",
    "    use_int_R_p_j = False\n",
    "    # Sagemath 9.3 had bug diff of symbolic_sum\n",
    "    # https://trac.sagemath.org/ticket/32161\n",
    "\n",
    "    R_px = euler_maclaurin_R_p(F, n_x, a_x, b_x,p, f_diff_symb_p=F.diff(n_x,p))\n",
    "\n",
    "    if type(R_px) is tuple:\n",
    "        R_px = R_px[0]\n",
    "\n",
    "    print(\"R_px=\",R_px)\n",
    "    display(Math(latex(R_px)))\n",
    "\n",
    "    # https://trac.sagemath.org/ticket/32394\n",
    "    # Can't calculate derivative exception while sympifying of two arguments function derivative\n",
    "    R_px_diff_y_p = R_px.diff(n_y,p)\n",
    "    print(\"R_px_diff_y_p=\", R_px_diff_y_p)\n",
    "    #print(\"R_px_diff_y_p=$\", latex(R_px_diff_y_p),\"$\")\n",
    "    display(Math(latex(R_px_diff_y_p)))\n",
    "\n",
    "    #logging = True\n",
    "\n",
    "    R_p_R_p = euler_maclaurin_R_p(R_px, n_y, a_y, b_y, p, f_diff_symb_p=R_px_diff_y_p)\n",
    "\n",
    "    #logging = False\n",
    "\n",
    "    print(\"R_p_R_p=\",R_p_R_p)\n",
    "    #print(\"R_p_R_p=$\",latex(R_p_R_p),\"$\")\n",
    "    display(Math(latex(R_p_R_p)))\n",
    "\n",
    "except Exception as ex:\n",
    "    print(ex)"
   ]
  },
  {
   "cell_type": "code",
   "execution_count": 75,
   "metadata": {},
   "outputs": [
    {
     "name": "stdout",
     "output_type": "stream",
     "text": [
      "R_px= -integrate(1/720*(30*(n_x - floor(n_x))^4 - 60*(n_x - floor(n_x))^3 + 30*(n_x - floor(n_x))^2 - 1)*diff(F(n_x, n_y), n_x, n_x, n_x, n_x), n_x, a_x, b_x)\n"
     ]
    },
    {
     "data": {
      "text/latex": [
       "$\\displaystyle -\\int_{a_{x}}^{b_{x}} \\frac{1}{720} \\, {\\left(30 \\, {\\left(n_{x} - \\left \\lfloor n_{x} \\right \\rfloor\\right)}^{4} - 60 \\, {\\left(n_{x} - \\left \\lfloor n_{x} \\right \\rfloor\\right)}^{3} + 30 \\, {\\left(n_{x} - \\left \\lfloor n_{x} \\right \\rfloor\\right)}^{2} - 1\\right)} \\frac{\\partial^{4}}{(\\partial n_{x})^{4}}F\\left(n_{x}, n_{y}\\right)\\,{d n_{x}}$"
      ],
      "text/plain": [
       "<IPython.core.display.Math object>"
      ]
     },
     "metadata": {},
     "output_type": "display_data"
    },
    {
     "name": "stdout",
     "output_type": "stream",
     "text": [
      "R_p_R_p= -integrate(-1/518400*(30*(n_y - floor(n_y))^4 - 60*(n_y - floor(n_y))^3 + 30*(n_y - floor(n_y))^2 - 1)*(30*integrate(n_x^4*diff(F(n_x, n_y), n_x, n_x, n_x, n_x, n_y, n_y, n_y, n_y), n_x, a_x, b_x) - 120*integrate(n_x^3*floor(n_x)*diff(F(n_x, n_y), n_x, n_x, n_x, n_x, n_y, n_y, n_y, n_y), n_x, a_x, b_x) + 180*integrate(n_x^2*floor(n_x)^2*diff(F(n_x, n_y), n_x, n_x, n_x, n_x, n_y, n_y, n_y, n_y), n_x, a_x, b_x) - 120*integrate(n_x*floor(n_x)^3*diff(F(n_x, n_y), n_x, n_x, n_x, n_x, n_y, n_y, n_y, n_y), n_x, a_x, b_x) + 30*integrate(floor(n_x)^4*diff(F(n_x, n_y), n_x, n_x, n_x, n_x, n_y, n_y, n_y, n_y), n_x, a_x, b_x) - 60*integrate(n_x^3*diff(F(n_x, n_y), n_x, n_x, n_x, n_x, n_y, n_y, n_y, n_y), n_x, a_x, b_x) + 180*integrate(n_x^2*floor(n_x)*diff(F(n_x, n_y), n_x, n_x, n_x, n_x, n_y, n_y, n_y, n_y), n_x, a_x, b_x) - 180*integrate(n_x*floor(n_x)^2*diff(F(n_x, n_y), n_x, n_x, n_x, n_x, n_y, n_y, n_y, n_y), n_x, a_x, b_x) + 60*integrate(floor(n_x)^3*diff(F(n_x, n_y), n_x, n_x, n_x, n_x, n_y, n_y, n_y, n_y), n_x, a_x, b_x) + 30*integrate(n_x^2*diff(F(n_x, n_y), n_x, n_x, n_x, n_x, n_y, n_y, n_y, n_y), n_x, a_x, b_x) - 60*integrate(n_x*floor(n_x)*diff(F(n_x, n_y), n_x, n_x, n_x, n_x, n_y, n_y, n_y, n_y), n_x, a_x, b_x) + 30*integrate(floor(n_x)^2*diff(F(n_x, n_y), n_x, n_x, n_x, n_x, n_y, n_y, n_y, n_y), n_x, a_x, b_x) + diff(F(a_x, n_y), a_x, a_x, a_x, n_y, n_y, n_y, n_y) - diff(F(b_x, n_y), b_x, b_x, b_x, n_y, n_y, n_y, n_y)), n_y, a_y, b_y)\n"
     ]
    },
    {
     "data": {
      "text/latex": [
       "$\\displaystyle -\\int_{a_{y}}^{b_{y}} -\\frac{1}{518400} \\, {\\left(30 \\, {\\left(n_{y} - \\left \\lfloor n_{y} \\right \\rfloor\\right)}^{4} - 60 \\, {\\left(n_{y} - \\left \\lfloor n_{y} \\right \\rfloor\\right)}^{3} + 30 \\, {\\left(n_{y} - \\left \\lfloor n_{y} \\right \\rfloor\\right)}^{2} - 1\\right)} {\\left(30 \\, \\int_{a_{x}}^{b_{x}} n_{x}^{4} \\frac{\\partial^{8}}{(\\partial n_{x})^{4}(\\partial n_{y})^{4}}F\\left(n_{x}, n_{y}\\right)\\,{d n_{x}} - 120 \\, \\int_{a_{x}}^{b_{x}} n_{x}^{3} \\left \\lfloor n_{x} \\right \\rfloor \\frac{\\partial^{8}}{(\\partial n_{x})^{4}(\\partial n_{y})^{4}}F\\left(n_{x}, n_{y}\\right)\\,{d n_{x}} + 180 \\, \\int_{a_{x}}^{b_{x}} n_{x}^{2} \\left \\lfloor n_{x} \\right \\rfloor^{2} \\frac{\\partial^{8}}{(\\partial n_{x})^{4}(\\partial n_{y})^{4}}F\\left(n_{x}, n_{y}\\right)\\,{d n_{x}} - 120 \\, \\int_{a_{x}}^{b_{x}} n_{x} \\left \\lfloor n_{x} \\right \\rfloor^{3} \\frac{\\partial^{8}}{(\\partial n_{x})^{4}(\\partial n_{y})^{4}}F\\left(n_{x}, n_{y}\\right)\\,{d n_{x}} + 30 \\, \\int_{a_{x}}^{b_{x}} \\left \\lfloor n_{x} \\right \\rfloor^{4} \\frac{\\partial^{8}}{(\\partial n_{x})^{4}(\\partial n_{y})^{4}}F\\left(n_{x}, n_{y}\\right)\\,{d n_{x}} - 60 \\, \\int_{a_{x}}^{b_{x}} n_{x}^{3} \\frac{\\partial^{8}}{(\\partial n_{x})^{4}(\\partial n_{y})^{4}}F\\left(n_{x}, n_{y}\\right)\\,{d n_{x}} + 180 \\, \\int_{a_{x}}^{b_{x}} n_{x}^{2} \\left \\lfloor n_{x} \\right \\rfloor \\frac{\\partial^{8}}{(\\partial n_{x})^{4}(\\partial n_{y})^{4}}F\\left(n_{x}, n_{y}\\right)\\,{d n_{x}} - 180 \\, \\int_{a_{x}}^{b_{x}} n_{x} \\left \\lfloor n_{x} \\right \\rfloor^{2} \\frac{\\partial^{8}}{(\\partial n_{x})^{4}(\\partial n_{y})^{4}}F\\left(n_{x}, n_{y}\\right)\\,{d n_{x}} + 60 \\, \\int_{a_{x}}^{b_{x}} \\left \\lfloor n_{x} \\right \\rfloor^{3} \\frac{\\partial^{8}}{(\\partial n_{x})^{4}(\\partial n_{y})^{4}}F\\left(n_{x}, n_{y}\\right)\\,{d n_{x}} + 30 \\, \\int_{a_{x}}^{b_{x}} n_{x}^{2} \\frac{\\partial^{8}}{(\\partial n_{x})^{4}(\\partial n_{y})^{4}}F\\left(n_{x}, n_{y}\\right)\\,{d n_{x}} - 60 \\, \\int_{a_{x}}^{b_{x}} n_{x} \\left \\lfloor n_{x} \\right \\rfloor \\frac{\\partial^{8}}{(\\partial n_{x})^{4}(\\partial n_{y})^{4}}F\\left(n_{x}, n_{y}\\right)\\,{d n_{x}} + 30 \\, \\int_{a_{x}}^{b_{x}} \\left \\lfloor n_{x} \\right \\rfloor^{2} \\frac{\\partial^{8}}{(\\partial n_{x})^{4}(\\partial n_{y})^{4}}F\\left(n_{x}, n_{y}\\right)\\,{d n_{x}} + \\frac{\\partial^{7}}{(\\partial a_{x})^{3}(\\partial n_{y})^{4}}F\\left(a_{x}, n_{y}\\right) - \\frac{\\partial^{7}}{(\\partial b_{x})^{3}(\\partial n_{y})^{4}}F\\left(b_{x}, n_{y}\\right)\\right)}\\,{d n_{y}}$"
      ],
      "text/plain": [
       "<IPython.core.display.Math object>"
      ]
     },
     "metadata": {},
     "output_type": "display_data"
    }
   ],
   "source": [
    "try:\n",
    "    use_int_R_p_j = False\n",
    "        \n",
    "    R_px = euler_maclaurin_R_p(F, n_x, a_x, b_x,p, f_diff_symb_p=F.diff(n_x,p))\n",
    "    print(\"R_px=\",R_px)\n",
    "    display(Math(latex(R_px)))\n",
    "\n",
    "    R_px_diff_y_p = R_px.diff(n_y,p)\n",
    "    #print(\"R_px_diff_y_p=\", R_px_diff_y_p)\n",
    "    #display(Math(latex(R_px_diff_y_p)))\n",
    "\n",
    "    R_p_R_p = euler_maclaurin_R_p(R_px, n_y, a_y, b_y, p, f_diff_symb_p=R_px_diff_y_p)\n",
    "\n",
    "    print(\"R_p_R_p=\",R_p_R_p)\n",
    "    display(Math(latex(R_p_R_p)))\n",
    "\n",
    "except Exception as ex:\n",
    "    print(ex)"
   ]
  },
  {
   "cell_type": "code",
   "execution_count": 76,
   "metadata": {},
   "outputs": [
    {
     "data": {
      "text/latex": [
       "$\\displaystyle -\\int_{a_{y}}^{b_{y}} -\\frac{1}{518400} \\, {\\left(30 \\, {\\left(n_{y} - \\left \\lfloor n_{y} \\right \\rfloor\\right)}^{4} - 60 \\, {\\left(n_{y} - \\left \\lfloor n_{y} \\right \\rfloor\\right)}^{3} + 30 \\, {\\left(n_{y} - \\left \\lfloor n_{y} \\right \\rfloor\\right)}^{2} - 1\\right)} {\\left(30 \\, \\int_{a_{x}}^{b_{x}} n_{x}^{4} \\frac{\\partial^{8}}{(\\partial n_{x})^{4}(\\partial n_{y})^{4}}F\\left(n_{x}, n_{y}\\right)\\,{d n_{x}} - 120 \\, \\int_{a_{x}}^{b_{x}} n_{x}^{3} \\left \\lfloor n_{x} \\right \\rfloor \\frac{\\partial^{8}}{(\\partial n_{x})^{4}(\\partial n_{y})^{4}}F\\left(n_{x}, n_{y}\\right)\\,{d n_{x}} + 180 \\, \\int_{a_{x}}^{b_{x}} n_{x}^{2} \\left \\lfloor n_{x} \\right \\rfloor^{2} \\frac{\\partial^{8}}{(\\partial n_{x})^{4}(\\partial n_{y})^{4}}F\\left(n_{x}, n_{y}\\right)\\,{d n_{x}} - 120 \\, \\int_{a_{x}}^{b_{x}} n_{x} \\left \\lfloor n_{x} \\right \\rfloor^{3} \\frac{\\partial^{8}}{(\\partial n_{x})^{4}(\\partial n_{y})^{4}}F\\left(n_{x}, n_{y}\\right)\\,{d n_{x}} + 30 \\, \\int_{a_{x}}^{b_{x}} \\left \\lfloor n_{x} \\right \\rfloor^{4} \\frac{\\partial^{8}}{(\\partial n_{x})^{4}(\\partial n_{y})^{4}}F\\left(n_{x}, n_{y}\\right)\\,{d n_{x}} - 60 \\, \\int_{a_{x}}^{b_{x}} n_{x}^{3} \\frac{\\partial^{8}}{(\\partial n_{x})^{4}(\\partial n_{y})^{4}}F\\left(n_{x}, n_{y}\\right)\\,{d n_{x}} + 180 \\, \\int_{a_{x}}^{b_{x}} n_{x}^{2} \\left \\lfloor n_{x} \\right \\rfloor \\frac{\\partial^{8}}{(\\partial n_{x})^{4}(\\partial n_{y})^{4}}F\\left(n_{x}, n_{y}\\right)\\,{d n_{x}} - 180 \\, \\int_{a_{x}}^{b_{x}} n_{x} \\left \\lfloor n_{x} \\right \\rfloor^{2} \\frac{\\partial^{8}}{(\\partial n_{x})^{4}(\\partial n_{y})^{4}}F\\left(n_{x}, n_{y}\\right)\\,{d n_{x}} + 60 \\, \\int_{a_{x}}^{b_{x}} \\left \\lfloor n_{x} \\right \\rfloor^{3} \\frac{\\partial^{8}}{(\\partial n_{x})^{4}(\\partial n_{y})^{4}}F\\left(n_{x}, n_{y}\\right)\\,{d n_{x}} + 30 \\, \\int_{a_{x}}^{b_{x}} n_{x}^{2} \\frac{\\partial^{8}}{(\\partial n_{x})^{4}(\\partial n_{y})^{4}}F\\left(n_{x}, n_{y}\\right)\\,{d n_{x}} - 60 \\, \\int_{a_{x}}^{b_{x}} n_{x} \\left \\lfloor n_{x} \\right \\rfloor \\frac{\\partial^{8}}{(\\partial n_{x})^{4}(\\partial n_{y})^{4}}F\\left(n_{x}, n_{y}\\right)\\,{d n_{x}} + 30 \\, \\int_{a_{x}}^{b_{x}} \\left \\lfloor n_{x} \\right \\rfloor^{2} \\frac{\\partial^{8}}{(\\partial n_{x})^{4}(\\partial n_{y})^{4}}F\\left(n_{x}, n_{y}\\right)\\,{d n_{x}} + \\frac{\\partial^{7}}{(\\partial a_{x})^{3}(\\partial n_{y})^{4}}F\\left(a_{x}, n_{y}\\right) - \\frac{\\partial^{7}}{(\\partial b_{x})^{3}(\\partial n_{y})^{4}}F\\left(b_{x}, n_{y}\\right)\\right)}\\,{d n_{y}}$"
      ],
      "text/plain": [
       "<IPython.core.display.Math object>"
      ]
     },
     "metadata": {},
     "output_type": "display_data"
    }
   ],
   "source": [
    "try:\n",
    "    R_p_R_p_F = euler_maclaurin_R_p_euler_maclaurin_R_p(F, n_x, a_x, b_x,    n_y, a_y, b_y, p, f_diff_x_p_diff_y_p=None)\n",
    "    display(Math(latex(R_p_R_p_F)))\n",
    "except Exception as ex:\n",
    "    print(ex)"
   ]
  },
  {
   "cell_type": "raw",
   "metadata": {},
   "source": [
    "use_int_R_p_j=False\n",
    "sxy_symb = euler_maclaurin1(euler_maclaurin1(F,n_x,a_x,b_x,p,f_diff_symb_p=None), \\\n",
    "                            n_y,a_y,b_y,p,f_diff_symb_p=None)"
   ]
  },
  {
   "cell_type": "raw",
   "metadata": {},
   "source": [
    "latex(sxy_symb)"
   ]
  },
  {
   "cell_type": "raw",
   "metadata": {},
   "source": [
    "display(Math(latex(sxy_symb)))"
   ]
  },
  {
   "cell_type": "raw",
   "metadata": {},
   "source": [
    "try:\n",
    "    use_int_R_p_j=False\n",
    "    sxy_symb = euler_maclaurin1(euler_maclaurin1(Fu(u, n_x, n_y, a, k_m),n_x,a_x,b_x,p,f_diff_symb_p=None), \\\n",
    "                                n_y,a_y,b_y,p,f_diff_symb_p=None)\n",
    "except Exception as ex:\n",
    "    print(ex)"
   ]
  },
  {
   "cell_type": "raw",
   "metadata": {},
   "source": [
    "use_int_R_p_j=False\n",
    "sxy_symb = euler_maclaurin1(euler_maclaurin1(Fn(u, n_x, n_y, a, k_m),n_x,a_x,b_x,p,f_diff_symb_p=None), \\\n",
    "                            n_y,a_y,b_y,p,f_diff_symb_p=None)"
   ]
  },
  {
   "cell_type": "markdown",
   "metadata": {},
   "source": [
    "# Summary Euler–Maclaurin 2D "
   ]
  },
  {
   "cell_type": "code",
   "execution_count": 77,
   "metadata": {},
   "outputs": [
    {
     "data": {
      "text/latex": [
       "$\\displaystyle \\int_{a_{y}}^{b_{y}} \\int_{a_{x}}^{b_{x}} F\\left(n_{x}, n_{y}\\right)\\,{d n_{x}}\\,{d n_{y}}$"
      ],
      "text/plain": [
       "<IPython.core.display.Math object>"
      ]
     },
     "metadata": {},
     "output_type": "display_data"
    },
    {
     "data": {
      "text/latex": [
       "$\\displaystyle \\frac{1}{2} \\, \\int_{a_{y}}^{b_{y}} F\\left(a_{x}, n_{y}\\right)\\,{d n_{y}}$"
      ],
      "text/plain": [
       "<IPython.core.display.Math object>"
      ]
     },
     "metadata": {},
     "output_type": "display_data"
    },
    {
     "data": {
      "text/latex": [
       "$\\displaystyle -\\frac{1}{12} \\, \\int_{a_{y}}^{b_{y}} \\frac{\\partial}{\\partial a_{x}}F\\left(a_{x}, n_{y}\\right)\\,{d n_{y}} + \\frac{1}{720} \\, \\int_{a_{y}}^{b_{y}} \\frac{\\partial^{3}}{(\\partial a_{x})^{3}}F\\left(a_{x}, n_{y}\\right)\\,{d n_{y}}$"
      ],
      "text/plain": [
       "<IPython.core.display.Math object>"
      ]
     },
     "metadata": {},
     "output_type": "display_data"
    },
    {
     "data": {
      "text/latex": [
       "$\\displaystyle -\\int_{a_{y}}^{b_{y}} \\int_{a_{x}}^{b_{x}} \\frac{1}{720} \\, {\\left(30 \\, {\\left(n_{x} - \\left \\lfloor n_{x} \\right \\rfloor\\right)}^{4} - 60 \\, {\\left(n_{x} - \\left \\lfloor n_{x} \\right \\rfloor\\right)}^{3} + 30 \\, {\\left(n_{x} - \\left \\lfloor n_{x} \\right \\rfloor\\right)}^{2} - 1\\right)} \\frac{\\partial^{4}}{(\\partial n_{x})^{4}}F\\left(n_{x}, n_{y}\\right)\\,{d n_{x}}\\,{d n_{y}}$"
      ],
      "text/plain": [
       "<IPython.core.display.Math object>"
      ]
     },
     "metadata": {},
     "output_type": "display_data"
    },
    {
     "data": {
      "text/plain": [
       "(None, None, None, None)"
      ]
     },
     "execution_count": 77,
     "metadata": {},
     "output_type": "execute_result"
    }
   ],
   "source": [
    "disp(int_int_F), disp(int_half_F), disp(int_sum_F), disp(int_R_p_F)"
   ]
  },
  {
   "cell_type": "code",
   "execution_count": 78,
   "metadata": {},
   "outputs": [
    {
     "data": {
      "text/latex": [
       "$\\displaystyle \\frac{1}{2} \\, \\int_{a_{x}}^{b_{x}} F\\left(n_{x}, a_{y}\\right)\\,{d n_{x}}$"
      ],
      "text/plain": [
       "<IPython.core.display.Math object>"
      ]
     },
     "metadata": {},
     "output_type": "display_data"
    },
    {
     "data": {
      "text/latex": [
       "$\\displaystyle \\frac{1}{4} \\, F\\left(a_{x}, a_{y}\\right)$"
      ],
      "text/plain": [
       "<IPython.core.display.Math object>"
      ]
     },
     "metadata": {},
     "output_type": "display_data"
    },
    {
     "data": {
      "text/latex": [
       "$\\displaystyle -\\frac{1}{24} \\, \\frac{\\partial}{\\partial a_{x}}F\\left(a_{x}, a_{y}\\right) + \\frac{1}{1440} \\, \\frac{\\partial^{3}}{(\\partial a_{x})^{3}}F\\left(a_{x}, a_{y}\\right)$"
      ],
      "text/plain": [
       "<IPython.core.display.Math object>"
      ]
     },
     "metadata": {},
     "output_type": "display_data"
    },
    {
     "data": {
      "text/latex": [
       "$\\displaystyle -\\frac{1}{1440} \\, \\int_{a_{x}}^{b_{x}} 30 \\, n_{x}^{4} \\frac{\\partial^{4}}{(\\partial n_{x})^{4}}F\\left(n_{x}, a_{y}\\right)\\,{d n_{x}} - \\frac{1}{1440} \\, \\int_{a_{x}}^{b_{x}} -120 \\, n_{x}^{3} \\left \\lfloor n_{x} \\right \\rfloor \\frac{\\partial^{4}}{(\\partial n_{x})^{4}}F\\left(n_{x}, a_{y}\\right)\\,{d n_{x}} - \\frac{1}{1440} \\, \\int_{a_{x}}^{b_{x}} 180 \\, n_{x}^{2} \\left \\lfloor n_{x} \\right \\rfloor^{2} \\frac{\\partial^{4}}{(\\partial n_{x})^{4}}F\\left(n_{x}, a_{y}\\right)\\,{d n_{x}} - \\frac{1}{1440} \\, \\int_{a_{x}}^{b_{x}} -120 \\, n_{x} \\left \\lfloor n_{x} \\right \\rfloor^{3} \\frac{\\partial^{4}}{(\\partial n_{x})^{4}}F\\left(n_{x}, a_{y}\\right)\\,{d n_{x}} - \\frac{1}{1440} \\, \\int_{a_{x}}^{b_{x}} 30 \\, \\left \\lfloor n_{x} \\right \\rfloor^{4} \\frac{\\partial^{4}}{(\\partial n_{x})^{4}}F\\left(n_{x}, a_{y}\\right)\\,{d n_{x}} - \\frac{1}{1440} \\, \\int_{a_{x}}^{b_{x}} -60 \\, n_{x}^{3} \\frac{\\partial^{4}}{(\\partial n_{x})^{4}}F\\left(n_{x}, a_{y}\\right)\\,{d n_{x}} - \\frac{1}{1440} \\, \\int_{a_{x}}^{b_{x}} 180 \\, n_{x}^{2} \\left \\lfloor n_{x} \\right \\rfloor \\frac{\\partial^{4}}{(\\partial n_{x})^{4}}F\\left(n_{x}, a_{y}\\right)\\,{d n_{x}} - \\frac{1}{1440} \\, \\int_{a_{x}}^{b_{x}} -180 \\, n_{x} \\left \\lfloor n_{x} \\right \\rfloor^{2} \\frac{\\partial^{4}}{(\\partial n_{x})^{4}}F\\left(n_{x}, a_{y}\\right)\\,{d n_{x}} - \\frac{1}{1440} \\, \\int_{a_{x}}^{b_{x}} 60 \\, \\left \\lfloor n_{x} \\right \\rfloor^{3} \\frac{\\partial^{4}}{(\\partial n_{x})^{4}}F\\left(n_{x}, a_{y}\\right)\\,{d n_{x}} - \\frac{1}{1440} \\, \\int_{a_{x}}^{b_{x}} 30 \\, n_{x}^{2} \\frac{\\partial^{4}}{(\\partial n_{x})^{4}}F\\left(n_{x}, a_{y}\\right)\\,{d n_{x}} - \\frac{1}{1440} \\, \\int_{a_{x}}^{b_{x}} -60 \\, n_{x} \\left \\lfloor n_{x} \\right \\rfloor \\frac{\\partial^{4}}{(\\partial n_{x})^{4}}F\\left(n_{x}, a_{y}\\right)\\,{d n_{x}} - \\frac{1}{1440} \\, \\int_{a_{x}}^{b_{x}} 30 \\, \\left \\lfloor n_{x} \\right \\rfloor^{2} \\frac{\\partial^{4}}{(\\partial n_{x})^{4}}F\\left(n_{x}, a_{y}\\right)\\,{d n_{x}} - \\frac{1}{1440} \\, \\int_{a_{x}}^{b_{x}} -\\frac{\\partial^{4}}{(\\partial n_{x})^{4}}F\\left(n_{x}, a_{y}\\right)\\,{d n_{x}}$"
      ],
      "text/plain": [
       "<IPython.core.display.Math object>"
      ]
     },
     "metadata": {},
     "output_type": "display_data"
    },
    {
     "data": {
      "text/plain": [
       "(None, None, None, None)"
      ]
     },
     "execution_count": 78,
     "metadata": {},
     "output_type": "execute_result"
    }
   ],
   "source": [
    "disp(half_int_F), disp(half_half_F), disp(half_sum_F), disp(half_R_p_F)"
   ]
  },
  {
   "cell_type": "code",
   "execution_count": 79,
   "metadata": {},
   "outputs": [
    {
     "data": {
      "text/latex": [
       "$\\displaystyle -\\frac{1}{12} \\, \\int_{a_{x}}^{b_{x}} \\frac{\\partial}{\\partial a_{y}}F\\left(n_{x}, a_{y}\\right)\\,{d n_{x}} + \\frac{1}{720} \\, \\int_{a_{x}}^{b_{x}} \\frac{\\partial^{3}}{(\\partial a_{y})^{3}}F\\left(n_{x}, a_{y}\\right)\\,{d n_{x}}$"
      ],
      "text/plain": [
       "<IPython.core.display.Math object>"
      ]
     },
     "metadata": {},
     "output_type": "display_data"
    },
    {
     "data": {
      "text/latex": [
       "$\\displaystyle -\\frac{1}{24} \\, \\frac{\\partial}{\\partial a_{y}}F\\left(a_{x}, a_{y}\\right) + \\frac{1}{1440} \\, \\frac{\\partial^{3}}{(\\partial a_{y})^{3}}F\\left(a_{x}, a_{y}\\right)$"
      ],
      "text/plain": [
       "<IPython.core.display.Math object>"
      ]
     },
     "metadata": {},
     "output_type": "display_data"
    },
    {
     "data": {
      "text/latex": [
       "$\\displaystyle -\\frac{1}{8640} \\, \\frac{\\partial^{4}}{(\\partial a_{x})^{3}\\partial a_{y}}F\\left(a_{x}, a_{y}\\right) + \\frac{1}{518400} \\, \\frac{\\partial^{6}}{(\\partial a_{x})^{3}(\\partial a_{y})^{3}}F\\left(a_{x}, a_{y}\\right) + \\frac{1}{144} \\, \\frac{\\partial^{2}}{\\partial a_{x}\\partial a_{y}}F\\left(a_{x}, a_{y}\\right) - \\frac{1}{8640} \\, \\frac{\\partial^{4}}{\\partial a_{x}(\\partial a_{y})^{3}}F\\left(a_{x}, a_{y}\\right)$"
      ],
      "text/plain": [
       "<IPython.core.display.Math object>"
      ]
     },
     "metadata": {},
     "output_type": "display_data"
    },
    {
     "data": {
      "text/latex": [
       "$\\displaystyle \\frac{1}{8640} \\, \\int_{a_{x}}^{b_{x}} {\\left(30 \\, {\\left(n_{x} - \\left \\lfloor n_{x} \\right \\rfloor\\right)}^{4} - 60 \\, {\\left(n_{x} - \\left \\lfloor n_{x} \\right \\rfloor\\right)}^{3} + 30 \\, {\\left(n_{x} - \\left \\lfloor n_{x} \\right \\rfloor\\right)}^{2} - 1\\right)} \\frac{\\partial^{5}}{(\\partial n_{x})^{4}\\partial a_{y}}F\\left(n_{x}, a_{y}\\right)\\,{d n_{x}} - \\frac{1}{518400} \\, \\int_{a_{x}}^{b_{x}} {\\left(30 \\, {\\left(n_{x} - \\left \\lfloor n_{x} \\right \\rfloor\\right)}^{4} - 60 \\, {\\left(n_{x} - \\left \\lfloor n_{x} \\right \\rfloor\\right)}^{3} + 30 \\, {\\left(n_{x} - \\left \\lfloor n_{x} \\right \\rfloor\\right)}^{2} - 1\\right)} \\frac{\\partial^{7}}{(\\partial n_{x})^{4}(\\partial a_{y})^{3}}F\\left(n_{x}, a_{y}\\right)\\,{d n_{x}}$"
      ],
      "text/plain": [
       "<IPython.core.display.Math object>"
      ]
     },
     "metadata": {},
     "output_type": "display_data"
    },
    {
     "data": {
      "text/plain": [
       "(None, None, None, None)"
      ]
     },
     "execution_count": 79,
     "metadata": {},
     "output_type": "execute_result"
    }
   ],
   "source": [
    "disp(sum_int_F), disp(sum_half_F), disp(sum_sum_F), disp(sumy_R_p_F)"
   ]
  },
  {
   "cell_type": "code",
   "execution_count": 80,
   "metadata": {},
   "outputs": [],
   "source": [
    "R_p_int_F=int_R_p_F"
   ]
  },
  {
   "cell_type": "code",
   "execution_count": 81,
   "metadata": {
    "scrolled": true
   },
   "outputs": [
    {
     "data": {
      "text/latex": [
       "$\\displaystyle -\\int_{a_{y}}^{b_{y}} \\int_{a_{x}}^{b_{x}} \\frac{1}{720} \\, {\\left(30 \\, {\\left(n_{x} - \\left \\lfloor n_{x} \\right \\rfloor\\right)}^{4} - 60 \\, {\\left(n_{x} - \\left \\lfloor n_{x} \\right \\rfloor\\right)}^{3} + 30 \\, {\\left(n_{x} - \\left \\lfloor n_{x} \\right \\rfloor\\right)}^{2} - 1\\right)} \\frac{\\partial^{4}}{(\\partial n_{x})^{4}}F\\left(n_{x}, n_{y}\\right)\\,{d n_{x}}\\,{d n_{y}}$"
      ],
      "text/plain": [
       "<IPython.core.display.Math object>"
      ]
     },
     "metadata": {},
     "output_type": "display_data"
    },
    {
     "data": {
      "text/latex": [
       "$\\displaystyle -\\int_{a_{y}}^{b_{y}} \\frac{1}{1440} \\, {\\left(30 \\, {\\left(n_{y} - \\left \\lfloor n_{y} \\right \\rfloor\\right)}^{4} - 60 \\, {\\left(n_{y} - \\left \\lfloor n_{y} \\right \\rfloor\\right)}^{3} + 30 \\, {\\left(n_{y} - \\left \\lfloor n_{y} \\right \\rfloor\\right)}^{2} - 1\\right)} \\frac{\\partial^{4}}{(\\partial n_{y})^{4}}F\\left(a_{x}, n_{y}\\right)\\,{d n_{y}}$"
      ],
      "text/plain": [
       "<IPython.core.display.Math object>"
      ]
     },
     "metadata": {},
     "output_type": "display_data"
    },
    {
     "data": {
      "text/latex": [
       "$\\displaystyle -\\int_{a_{y}}^{b_{y}} \\frac{1}{518400} \\, {\\left(30 \\, {\\left(n_{y} - \\left \\lfloor n_{y} \\right \\rfloor\\right)}^{4} - 60 \\, {\\left(n_{y} - \\left \\lfloor n_{y} \\right \\rfloor\\right)}^{3} + 30 \\, {\\left(n_{y} - \\left \\lfloor n_{y} \\right \\rfloor\\right)}^{2} - 1\\right)} {\\left(\\frac{\\partial^{7}}{(\\partial a_{x})^{3}(\\partial n_{y})^{4}}F\\left(a_{x}, n_{y}\\right) - 60 \\, \\frac{\\partial^{5}}{\\partial a_{x}(\\partial n_{y})^{4}}F\\left(a_{x}, n_{y}\\right)\\right)}\\,{d n_{y}}$"
      ],
      "text/plain": [
       "<IPython.core.display.Math object>"
      ]
     },
     "metadata": {},
     "output_type": "display_data"
    },
    {
     "data": {
      "text/latex": [
       "$\\displaystyle -\\int_{a_{y}}^{b_{y}} -\\frac{1}{518400} \\, {\\left(30 \\, {\\left(n_{y} - \\left \\lfloor n_{y} \\right \\rfloor\\right)}^{4} - 60 \\, {\\left(n_{y} - \\left \\lfloor n_{y} \\right \\rfloor\\right)}^{3} + 30 \\, {\\left(n_{y} - \\left \\lfloor n_{y} \\right \\rfloor\\right)}^{2} - 1\\right)} {\\left(30 \\, \\int_{a_{x}}^{b_{x}} n_{x}^{4} \\frac{\\partial^{8}}{(\\partial n_{x})^{4}(\\partial n_{y})^{4}}F\\left(n_{x}, n_{y}\\right)\\,{d n_{x}} - 120 \\, \\int_{a_{x}}^{b_{x}} n_{x}^{3} \\left \\lfloor n_{x} \\right \\rfloor \\frac{\\partial^{8}}{(\\partial n_{x})^{4}(\\partial n_{y})^{4}}F\\left(n_{x}, n_{y}\\right)\\,{d n_{x}} + 180 \\, \\int_{a_{x}}^{b_{x}} n_{x}^{2} \\left \\lfloor n_{x} \\right \\rfloor^{2} \\frac{\\partial^{8}}{(\\partial n_{x})^{4}(\\partial n_{y})^{4}}F\\left(n_{x}, n_{y}\\right)\\,{d n_{x}} - 120 \\, \\int_{a_{x}}^{b_{x}} n_{x} \\left \\lfloor n_{x} \\right \\rfloor^{3} \\frac{\\partial^{8}}{(\\partial n_{x})^{4}(\\partial n_{y})^{4}}F\\left(n_{x}, n_{y}\\right)\\,{d n_{x}} + 30 \\, \\int_{a_{x}}^{b_{x}} \\left \\lfloor n_{x} \\right \\rfloor^{4} \\frac{\\partial^{8}}{(\\partial n_{x})^{4}(\\partial n_{y})^{4}}F\\left(n_{x}, n_{y}\\right)\\,{d n_{x}} - 60 \\, \\int_{a_{x}}^{b_{x}} n_{x}^{3} \\frac{\\partial^{8}}{(\\partial n_{x})^{4}(\\partial n_{y})^{4}}F\\left(n_{x}, n_{y}\\right)\\,{d n_{x}} + 180 \\, \\int_{a_{x}}^{b_{x}} n_{x}^{2} \\left \\lfloor n_{x} \\right \\rfloor \\frac{\\partial^{8}}{(\\partial n_{x})^{4}(\\partial n_{y})^{4}}F\\left(n_{x}, n_{y}\\right)\\,{d n_{x}} - 180 \\, \\int_{a_{x}}^{b_{x}} n_{x} \\left \\lfloor n_{x} \\right \\rfloor^{2} \\frac{\\partial^{8}}{(\\partial n_{x})^{4}(\\partial n_{y})^{4}}F\\left(n_{x}, n_{y}\\right)\\,{d n_{x}} + 60 \\, \\int_{a_{x}}^{b_{x}} \\left \\lfloor n_{x} \\right \\rfloor^{3} \\frac{\\partial^{8}}{(\\partial n_{x})^{4}(\\partial n_{y})^{4}}F\\left(n_{x}, n_{y}\\right)\\,{d n_{x}} + 30 \\, \\int_{a_{x}}^{b_{x}} n_{x}^{2} \\frac{\\partial^{8}}{(\\partial n_{x})^{4}(\\partial n_{y})^{4}}F\\left(n_{x}, n_{y}\\right)\\,{d n_{x}} - 60 \\, \\int_{a_{x}}^{b_{x}} n_{x} \\left \\lfloor n_{x} \\right \\rfloor \\frac{\\partial^{8}}{(\\partial n_{x})^{4}(\\partial n_{y})^{4}}F\\left(n_{x}, n_{y}\\right)\\,{d n_{x}} + 30 \\, \\int_{a_{x}}^{b_{x}} \\left \\lfloor n_{x} \\right \\rfloor^{2} \\frac{\\partial^{8}}{(\\partial n_{x})^{4}(\\partial n_{y})^{4}}F\\left(n_{x}, n_{y}\\right)\\,{d n_{x}} + \\frac{\\partial^{7}}{(\\partial a_{x})^{3}(\\partial n_{y})^{4}}F\\left(a_{x}, n_{y}\\right) - \\frac{\\partial^{7}}{(\\partial b_{x})^{3}(\\partial n_{y})^{4}}F\\left(b_{x}, n_{y}\\right)\\right)}\\,{d n_{y}}$"
      ],
      "text/plain": [
       "<IPython.core.display.Math object>"
      ]
     },
     "metadata": {},
     "output_type": "display_data"
    },
    {
     "data": {
      "text/plain": [
       "(None, None, None, None)"
      ]
     },
     "execution_count": 81,
     "metadata": {},
     "output_type": "execute_result"
    }
   ],
   "source": [
    "disp(R_p_int_F), disp(R_p_half_F), disp(R_p_sum_F), disp(R_p_R_p_F)"
   ]
  },
  {
   "cell_type": "code",
   "execution_count": null,
   "metadata": {},
   "outputs": [],
   "source": []
  },
  {
   "cell_type": "code",
   "execution_count": 82,
   "metadata": {},
   "outputs": [
    {
     "data": {
      "text/latex": [
       "$\\displaystyle \\int_{a_{y}}^{b_{y}} \\int_{a_{x}}^{b_{x}} F\\left(n_{x}, n_{y}\\right)\\,{d n_{x}}\\,{d n_{y}}$"
      ],
      "text/plain": [
       "<IPython.core.display.Math object>"
      ]
     },
     "metadata": {},
     "output_type": "display_data"
    },
    {
     "data": {
      "text/latex": [
       "$\\displaystyle \\int_{0}^{+\\infty} \\frac{1}{2} \\, \\sqrt{n_{y}^{2} + u^{2}} f\\left(\\frac{\\pi \\sqrt{n_{y}^{2} + u^{2}}}{a k_{m}}\\right)\\,{d n_{y}}$"
      ],
      "text/plain": [
       "<IPython.core.display.Math object>"
      ]
     },
     "metadata": {},
     "output_type": "display_data"
    },
    {
     "data": {
      "text/latex": [
       "$\\displaystyle 0.0$"
      ],
      "text/plain": [
       "<IPython.core.display.Math object>"
      ]
     },
     "metadata": {},
     "output_type": "display_data"
    },
    {
     "data": {
      "text/latex": [
       "$\\displaystyle \\int_{0}^{+\\infty} -\\int_{0}^{+\\infty} -\\frac{1}{720} \\, {\\left(30 \\, {\\left(n_{x} - \\left \\lfloor n_{x} \\right \\rfloor\\right)}^{4} - 60 \\, {\\left(n_{x} - \\left \\lfloor n_{x} \\right \\rfloor\\right)}^{3} + 30 \\, {\\left(n_{x} - \\left \\lfloor n_{x} \\right \\rfloor\\right)}^{2} - 1\\right)} {\\left(\\frac{15 \\, n_{x}^{4} f\\left(\\frac{\\pi \\sqrt{n_{x}^{2} + n_{y}^{2} + u^{2}}}{a k_{m}}\\right)}{{\\left(n_{x}^{2} + n_{y}^{2} + u^{2}\\right)}^{\\frac{7}{2}}} - \\frac{15 \\, \\pi n_{x}^{4} \\mathrm{D}_{0}\\left(f\\right)\\left(\\frac{\\pi \\sqrt{n_{x}^{2} + n_{y}^{2} + u^{2}}}{a k_{m}}\\right)}{{\\left(n_{x}^{2} + n_{y}^{2} + u^{2}\\right)}^{3} a k_{m}} - \\frac{18 \\, n_{x}^{2} f\\left(\\frac{\\pi \\sqrt{n_{x}^{2} + n_{y}^{2} + u^{2}}}{a k_{m}}\\right)}{{\\left(n_{x}^{2} + n_{y}^{2} + u^{2}\\right)}^{\\frac{5}{2}}} + \\frac{3 \\, \\pi^{2} n_{x}^{4} \\mathrm{D}_{0, 0}\\left(f\\right)\\left(\\frac{\\pi \\sqrt{n_{x}^{2} + n_{y}^{2} + u^{2}}}{a k_{m}}\\right)}{{\\left(n_{x}^{2} + n_{y}^{2} + u^{2}\\right)}^{\\frac{5}{2}} a^{2} k_{m}^{2}} + \\frac{18 \\, \\pi n_{x}^{2} \\mathrm{D}_{0}\\left(f\\right)\\left(\\frac{\\pi \\sqrt{n_{x}^{2} + n_{y}^{2} + u^{2}}}{a k_{m}}\\right)}{{\\left(n_{x}^{2} + n_{y}^{2} + u^{2}\\right)}^{2} a k_{m}} + \\frac{2 \\, \\pi^{3} n_{x}^{4} \\mathrm{D}_{0, 0, 0}\\left(f\\right)\\left(\\frac{\\pi \\sqrt{n_{x}^{2} + n_{y}^{2} + u^{2}}}{a k_{m}}\\right)}{{\\left(n_{x}^{2} + n_{y}^{2} + u^{2}\\right)}^{2} a^{3} k_{m}^{3}} + \\frac{3 \\, f\\left(\\frac{\\pi \\sqrt{n_{x}^{2} + n_{y}^{2} + u^{2}}}{a k_{m}}\\right)}{{\\left(n_{x}^{2} + n_{y}^{2} + u^{2}\\right)}^{\\frac{3}{2}}} - \\frac{\\pi^{4} n_{x}^{4} \\mathrm{D}_{0, 0, 0, 0}\\left(f\\right)\\left(\\frac{\\pi \\sqrt{n_{x}^{2} + n_{y}^{2} + u^{2}}}{a k_{m}}\\right)}{{\\left(n_{x}^{2} + n_{y}^{2} + u^{2}\\right)}^{\\frac{3}{2}} a^{4} k_{m}^{4}} - \\frac{3 \\, \\pi \\mathrm{D}_{0}\\left(f\\right)\\left(\\frac{\\pi \\sqrt{n_{x}^{2} + n_{y}^{2} + u^{2}}}{a k_{m}}\\right)}{{\\left(n_{x}^{2} + n_{y}^{2} + u^{2}\\right)} a k_{m}} - \\frac{6 \\, \\pi^{3} n_{x}^{2} \\mathrm{D}_{0, 0, 0}\\left(f\\right)\\left(\\frac{\\pi \\sqrt{n_{x}^{2} + n_{y}^{2} + u^{2}}}{a k_{m}}\\right)}{{\\left(n_{x}^{2} + n_{y}^{2} + u^{2}\\right)} a^{3} k_{m}^{3}} - \\frac{3 \\, \\pi^{2} \\mathrm{D}_{0, 0}\\left(f\\right)\\left(\\frac{\\pi \\sqrt{n_{x}^{2} + n_{y}^{2} + u^{2}}}{a k_{m}}\\right)}{\\sqrt{n_{x}^{2} + n_{y}^{2} + u^{2}} a^{2} k_{m}^{2}}\\right)}\\,{d n_{x}}\\,{d n_{y}}$"
      ],
      "text/plain": [
       "<IPython.core.display.Math object>"
      ]
     },
     "metadata": {},
     "output_type": "display_data"
    },
    {
     "data": {
      "text/plain": [
       "(None, None, None, None)"
      ]
     },
     "execution_count": 82,
     "metadata": {},
     "output_type": "execute_result"
    }
   ],
   "source": [
    "disp(int_int_F), disp(int_half_Fu(u, a, k_m)), disp(int_sum_Fu(u, a, k_m)), disp(int_R_p_Fu)"
   ]
  },
  {
   "cell_type": "code",
   "execution_count": 83,
   "metadata": {},
   "outputs": [
    {
     "data": {
      "text/latex": [
       "$\\displaystyle \\int_{a_{y}}^{b_{y}} \\int_{a_{x}}^{b_{x}} F\\left(n_{x}, n_{y}\\right)\\,{d n_{x}}\\,{d n_{y}}$"
      ],
      "text/plain": [
       "<IPython.core.display.Math object>"
      ]
     },
     "metadata": {},
     "output_type": "display_data"
    },
    {
     "data": {
      "text/latex": [
       "$\\displaystyle \\int_{0}^{+\\infty} \\frac{\\sqrt{n_{y}^{2} + u^{2}}}{2 \\, {\\left(\\frac{\\pi^{4} {\\left(n_{y}^{2} + u^{2}\\right)}^{2}}{a^{4} k_{m}^{4}} + 1\\right)}}\\,{d n_{y}}$"
      ],
      "text/plain": [
       "<IPython.core.display.Math object>"
      ]
     },
     "metadata": {},
     "output_type": "display_data"
    },
    {
     "data": {
      "text/latex": [
       "$\\displaystyle 0.0$"
      ],
      "text/plain": [
       "<IPython.core.display.Math object>"
      ]
     },
     "metadata": {},
     "output_type": "display_data"
    },
    {
     "data": {
      "text/latex": [
       "$\\displaystyle \\int_{0}^{+\\infty} -\\int_{0}^{+\\infty} -\\frac{1}{240} \\, {\\left(30 \\, {\\left(n_{x} - \\left \\lfloor n_{x} \\right \\rfloor\\right)}^{4} - 60 \\, {\\left(n_{x} - \\left \\lfloor n_{x} \\right \\rfloor\\right)}^{3} + 30 \\, {\\left(n_{x} - \\left \\lfloor n_{x} \\right \\rfloor\\right)}^{2} - 1\\right)} {\\left(\\frac{5 \\, n_{x}^{4}}{{\\left(n_{x}^{2} + n_{y}^{2} + u^{2}\\right)}^{\\frac{7}{2}} {\\left(\\frac{\\pi^{4} {\\left(n_{x}^{2} + n_{y}^{2} + u^{2}\\right)}^{2}}{a^{4} k_{m}^{4}} + 1\\right)}} - \\frac{6 \\, n_{x}^{2}}{{\\left(n_{x}^{2} + n_{y}^{2} + u^{2}\\right)}^{\\frac{5}{2}} {\\left(\\frac{\\pi^{4} {\\left(n_{x}^{2} + n_{y}^{2} + u^{2}\\right)}^{2}}{a^{4} k_{m}^{4}} + 1\\right)}} + \\frac{1}{{\\left(n_{x}^{2} + n_{y}^{2} + u^{2}\\right)}^{\\frac{3}{2}} {\\left(\\frac{\\pi^{4} {\\left(n_{x}^{2} + n_{y}^{2} + u^{2}\\right)}^{2}}{a^{4} k_{m}^{4}} + 1\\right)}} + \\frac{24 \\, \\pi^{4} n_{x}^{2}}{\\sqrt{n_{x}^{2} + n_{y}^{2} + u^{2}} a^{4} k_{m}^{4} {\\left(\\frac{\\pi^{4} {\\left(n_{x}^{2} + n_{y}^{2} + u^{2}\\right)}^{2}}{a^{4} k_{m}^{4}} + 1\\right)}^{2}} + \\frac{16 \\, \\pi^{4} \\sqrt{n_{x}^{2} + n_{y}^{2} + u^{2}}}{a^{4} k_{m}^{4} {\\left(\\frac{\\pi^{4} {\\left(n_{x}^{2} + n_{y}^{2} + u^{2}\\right)}^{2}}{a^{4} k_{m}^{4}} + 1\\right)}^{2}} - \\frac{320 \\, \\pi^{8} \\sqrt{n_{x}^{2} + n_{y}^{2} + u^{2}} n_{x}^{4}}{a^{8} k_{m}^{8} {\\left(\\frac{\\pi^{4} {\\left(n_{x}^{2} + n_{y}^{2} + u^{2}\\right)}^{2}}{a^{4} k_{m}^{4}} + 1\\right)}^{3}} - \\frac{576 \\, \\pi^{8} {\\left(n_{x}^{2} + n_{y}^{2} + u^{2}\\right)}^{\\frac{3}{2}} n_{x}^{2}}{a^{8} k_{m}^{8} {\\left(\\frac{\\pi^{4} {\\left(n_{x}^{2} + n_{y}^{2} + u^{2}\\right)}^{2}}{a^{4} k_{m}^{4}} + 1\\right)}^{3}} - \\frac{32 \\, \\pi^{8} {\\left(n_{x}^{2} + n_{y}^{2} + u^{2}\\right)}^{\\frac{5}{2}}}{a^{8} k_{m}^{8} {\\left(\\frac{\\pi^{4} {\\left(n_{x}^{2} + n_{y}^{2} + u^{2}\\right)}^{2}}{a^{4} k_{m}^{4}} + 1\\right)}^{3}} + \\frac{2048 \\, \\pi^{12} {\\left(n_{x}^{2} + n_{y}^{2} + u^{2}\\right)}^{\\frac{5}{2}} n_{x}^{4}}{a^{12} k_{m}^{12} {\\left(\\frac{\\pi^{4} {\\left(n_{x}^{2} + n_{y}^{2} + u^{2}\\right)}^{2}}{a^{4} k_{m}^{4}} + 1\\right)}^{4}} + \\frac{768 \\, \\pi^{12} {\\left(n_{x}^{2} + n_{y}^{2} + u^{2}\\right)}^{\\frac{7}{2}} n_{x}^{2}}{a^{12} k_{m}^{12} {\\left(\\frac{\\pi^{4} {\\left(n_{x}^{2} + n_{y}^{2} + u^{2}\\right)}^{2}}{a^{4} k_{m}^{4}} + 1\\right)}^{4}} - \\frac{2048 \\, \\pi^{16} {\\left(n_{x}^{2} + n_{y}^{2} + u^{2}\\right)}^{\\frac{9}{2}} n_{x}^{4}}{a^{16} k_{m}^{16} {\\left(\\frac{\\pi^{4} {\\left(n_{x}^{2} + n_{y}^{2} + u^{2}\\right)}^{2}}{a^{4} k_{m}^{4}} + 1\\right)}^{5}}\\right)}\\,{d n_{x}}\\,{d n_{y}}$"
      ],
      "text/plain": [
       "<IPython.core.display.Math object>"
      ]
     },
     "metadata": {},
     "output_type": "display_data"
    },
    {
     "data": {
      "text/plain": [
       "(None, None, None, None)"
      ]
     },
     "execution_count": 83,
     "metadata": {},
     "output_type": "execute_result"
    }
   ],
   "source": [
    "disp(int_int_F), disp(int_half_Fn(u, a, k_m)), disp(int_sum_Fn(u, a, k_m)), disp(int_R_p_Fn)"
   ]
  },
  {
   "cell_type": "code",
   "execution_count": null,
   "metadata": {},
   "outputs": [],
   "source": []
  },
  {
   "cell_type": "code",
   "execution_count": 84,
   "metadata": {},
   "outputs": [
    {
     "data": {
      "text/latex": [
       "$\\displaystyle \\frac{1}{2} \\, \\int_{0}^{+\\infty} \\sqrt{n_{x}^{2} + u^{2}} f\\left(\\frac{\\pi \\sqrt{n_{x}^{2} + u^{2}}}{a k_{m}}\\right)\\,{d n_{x}}$"
      ],
      "text/plain": [
       "<IPython.core.display.Math object>"
      ]
     },
     "metadata": {},
     "output_type": "display_data"
    },
    {
     "data": {
      "text/latex": [
       "$\\displaystyle \\frac{1}{4} \\, \\sqrt{u^{2}} f\\left(\\frac{\\pi \\sqrt{u^{2}}}{a k_{m}}\\right)$"
      ],
      "text/plain": [
       "<IPython.core.display.Math object>"
      ]
     },
     "metadata": {},
     "output_type": "display_data"
    },
    {
     "data": {
      "text/latex": [
       "$\\displaystyle 0$"
      ],
      "text/plain": [
       "<IPython.core.display.Math object>"
      ]
     },
     "metadata": {},
     "output_type": "display_data"
    },
    {
     "data": {
      "text/latex": [
       "$\\displaystyle -\\frac{-90 \\, a^{4} k_{m}^{4} u^{4} \\int_{0}^{+\\infty} \\frac{n_{x}^{4} f\\left(\\frac{\\pi \\sqrt{n_{x}^{2} + u^{2}}}{a k_{m}}\\right)}{\\sqrt{n_{x}^{2} + u^{2}} n_{x}^{6} + 3 \\, \\sqrt{n_{x}^{2} + u^{2}} n_{x}^{4} u^{2} + 3 \\, \\sqrt{n_{x}^{2} + u^{2}} n_{x}^{2} u^{4} + \\sqrt{n_{x}^{2} + u^{2}} u^{6}}\\,{d n_{x}} + 360 \\, a^{4} k_{m}^{4} u^{4} \\int_{0}^{+\\infty} \\frac{n_{x}^{3} f\\left(\\frac{\\pi \\sqrt{n_{x}^{2} + u^{2}}}{a k_{m}}\\right) \\left \\lfloor n_{x} \\right \\rfloor}{\\sqrt{n_{x}^{2} + u^{2}} n_{x}^{6} + 3 \\, \\sqrt{n_{x}^{2} + u^{2}} n_{x}^{4} u^{2} + 3 \\, \\sqrt{n_{x}^{2} + u^{2}} n_{x}^{2} u^{4} + \\sqrt{n_{x}^{2} + u^{2}} u^{6}}\\,{d n_{x}} - 540 \\, a^{4} k_{m}^{4} u^{4} \\int_{0}^{+\\infty} \\frac{n_{x}^{2} f\\left(\\frac{\\pi \\sqrt{n_{x}^{2} + u^{2}}}{a k_{m}}\\right) \\left \\lfloor n_{x} \\right \\rfloor^{2}}{\\sqrt{n_{x}^{2} + u^{2}} n_{x}^{6} + 3 \\, \\sqrt{n_{x}^{2} + u^{2}} n_{x}^{4} u^{2} + 3 \\, \\sqrt{n_{x}^{2} + u^{2}} n_{x}^{2} u^{4} + \\sqrt{n_{x}^{2} + u^{2}} u^{6}}\\,{d n_{x}} + 360 \\, a^{4} k_{m}^{4} u^{4} \\int_{0}^{+\\infty} \\frac{n_{x} f\\left(\\frac{\\pi \\sqrt{n_{x}^{2} + u^{2}}}{a k_{m}}\\right) \\left \\lfloor n_{x} \\right \\rfloor^{3}}{\\sqrt{n_{x}^{2} + u^{2}} n_{x}^{6} + 3 \\, \\sqrt{n_{x}^{2} + u^{2}} n_{x}^{4} u^{2} + 3 \\, \\sqrt{n_{x}^{2} + u^{2}} n_{x}^{2} u^{4} + \\sqrt{n_{x}^{2} + u^{2}} u^{6}}\\,{d n_{x}} - 90 \\, a^{4} k_{m}^{4} u^{4} \\int_{0}^{+\\infty} \\frac{f\\left(\\frac{\\pi \\sqrt{n_{x}^{2} + u^{2}}}{a k_{m}}\\right) \\left \\lfloor n_{x} \\right \\rfloor^{4}}{\\sqrt{n_{x}^{2} + u^{2}} n_{x}^{6} + 3 \\, \\sqrt{n_{x}^{2} + u^{2}} n_{x}^{4} u^{2} + 3 \\, \\sqrt{n_{x}^{2} + u^{2}} n_{x}^{2} u^{4} + \\sqrt{n_{x}^{2} + u^{2}} u^{6}}\\,{d n_{x}} + 90 \\, \\pi^{2} a^{2} k_{m}^{2} u^{6} \\int_{0}^{+\\infty} \\frac{n_{x}^{4} \\mathrm{D}_{0, 0}\\left(f\\right)\\left(\\frac{\\pi \\sqrt{n_{x}^{2} + u^{2}}}{a k_{m}}\\right)}{\\sqrt{n_{x}^{2} + u^{2}} n_{x}^{6} + 3 \\, \\sqrt{n_{x}^{2} + u^{2}} n_{x}^{4} u^{2} + 3 \\, \\sqrt{n_{x}^{2} + u^{2}} n_{x}^{2} u^{4} + \\sqrt{n_{x}^{2} + u^{2}} u^{6}}\\,{d n_{x}} - 360 \\, \\pi^{2} a^{2} k_{m}^{2} u^{6} \\int_{0}^{+\\infty} \\frac{n_{x}^{3} \\left \\lfloor n_{x} \\right \\rfloor \\mathrm{D}_{0, 0}\\left(f\\right)\\left(\\frac{\\pi \\sqrt{n_{x}^{2} + u^{2}}}{a k_{m}}\\right)}{\\sqrt{n_{x}^{2} + u^{2}} n_{x}^{6} + 3 \\, \\sqrt{n_{x}^{2} + u^{2}} n_{x}^{4} u^{2} + 3 \\, \\sqrt{n_{x}^{2} + u^{2}} n_{x}^{2} u^{4} + \\sqrt{n_{x}^{2} + u^{2}} u^{6}}\\,{d n_{x}} + 540 \\, \\pi^{2} a^{2} k_{m}^{2} u^{6} \\int_{0}^{+\\infty} \\frac{n_{x}^{2} \\left \\lfloor n_{x} \\right \\rfloor^{2} \\mathrm{D}_{0, 0}\\left(f\\right)\\left(\\frac{\\pi \\sqrt{n_{x}^{2} + u^{2}}}{a k_{m}}\\right)}{\\sqrt{n_{x}^{2} + u^{2}} n_{x}^{6} + 3 \\, \\sqrt{n_{x}^{2} + u^{2}} n_{x}^{4} u^{2} + 3 \\, \\sqrt{n_{x}^{2} + u^{2}} n_{x}^{2} u^{4} + \\sqrt{n_{x}^{2} + u^{2}} u^{6}}\\,{d n_{x}} - 360 \\, \\pi^{2} a^{2} k_{m}^{2} u^{6} \\int_{0}^{+\\infty} \\frac{n_{x} \\left \\lfloor n_{x} \\right \\rfloor^{3} \\mathrm{D}_{0, 0}\\left(f\\right)\\left(\\frac{\\pi \\sqrt{n_{x}^{2} + u^{2}}}{a k_{m}}\\right)}{\\sqrt{n_{x}^{2} + u^{2}} n_{x}^{6} + 3 \\, \\sqrt{n_{x}^{2} + u^{2}} n_{x}^{4} u^{2} + 3 \\, \\sqrt{n_{x}^{2} + u^{2}} n_{x}^{2} u^{4} + \\sqrt{n_{x}^{2} + u^{2}} u^{6}}\\,{d n_{x}} + 90 \\, \\pi^{2} a^{2} k_{m}^{2} u^{6} \\int_{0}^{+\\infty} \\frac{\\left \\lfloor n_{x} \\right \\rfloor^{4} \\mathrm{D}_{0, 0}\\left(f\\right)\\left(\\frac{\\pi \\sqrt{n_{x}^{2} + u^{2}}}{a k_{m}}\\right)}{\\sqrt{n_{x}^{2} + u^{2}} n_{x}^{6} + 3 \\, \\sqrt{n_{x}^{2} + u^{2}} n_{x}^{4} u^{2} + 3 \\, \\sqrt{n_{x}^{2} + u^{2}} n_{x}^{2} u^{4} + \\sqrt{n_{x}^{2} + u^{2}} u^{6}}\\,{d n_{x}} + 180 \\, a^{4} k_{m}^{4} u^{4} \\int_{0}^{+\\infty} \\frac{n_{x}^{3} f\\left(\\frac{\\pi \\sqrt{n_{x}^{2} + u^{2}}}{a k_{m}}\\right)}{\\sqrt{n_{x}^{2} + u^{2}} n_{x}^{6} + 3 \\, \\sqrt{n_{x}^{2} + u^{2}} n_{x}^{4} u^{2} + 3 \\, \\sqrt{n_{x}^{2} + u^{2}} n_{x}^{2} u^{4} + \\sqrt{n_{x}^{2} + u^{2}} u^{6}}\\,{d n_{x}} - 540 \\, a^{4} k_{m}^{4} u^{4} \\int_{0}^{+\\infty} \\frac{n_{x}^{2} f\\left(\\frac{\\pi \\sqrt{n_{x}^{2} + u^{2}}}{a k_{m}}\\right) \\left \\lfloor n_{x} \\right \\rfloor}{\\sqrt{n_{x}^{2} + u^{2}} n_{x}^{6} + 3 \\, \\sqrt{n_{x}^{2} + u^{2}} n_{x}^{4} u^{2} + 3 \\, \\sqrt{n_{x}^{2} + u^{2}} n_{x}^{2} u^{4} + \\sqrt{n_{x}^{2} + u^{2}} u^{6}}\\,{d n_{x}} + 540 \\, a^{4} k_{m}^{4} u^{4} \\int_{0}^{+\\infty} \\frac{n_{x} f\\left(\\frac{\\pi \\sqrt{n_{x}^{2} + u^{2}}}{a k_{m}}\\right) \\left \\lfloor n_{x} \\right \\rfloor^{2}}{\\sqrt{n_{x}^{2} + u^{2}} n_{x}^{6} + 3 \\, \\sqrt{n_{x}^{2} + u^{2}} n_{x}^{4} u^{2} + 3 \\, \\sqrt{n_{x}^{2} + u^{2}} n_{x}^{2} u^{4} + \\sqrt{n_{x}^{2} + u^{2}} u^{6}}\\,{d n_{x}} - 180 \\, a^{4} k_{m}^{4} u^{4} \\int_{0}^{+\\infty} \\frac{f\\left(\\frac{\\pi \\sqrt{n_{x}^{2} + u^{2}}}{a k_{m}}\\right) \\left \\lfloor n_{x} \\right \\rfloor^{3}}{\\sqrt{n_{x}^{2} + u^{2}} n_{x}^{6} + 3 \\, \\sqrt{n_{x}^{2} + u^{2}} n_{x}^{4} u^{2} + 3 \\, \\sqrt{n_{x}^{2} + u^{2}} n_{x}^{2} u^{4} + \\sqrt{n_{x}^{2} + u^{2}} u^{6}}\\,{d n_{x}} - 180 \\, \\pi^{2} a^{2} k_{m}^{2} u^{6} \\int_{0}^{+\\infty} \\frac{n_{x}^{3} \\mathrm{D}_{0, 0}\\left(f\\right)\\left(\\frac{\\pi \\sqrt{n_{x}^{2} + u^{2}}}{a k_{m}}\\right)}{\\sqrt{n_{x}^{2} + u^{2}} n_{x}^{6} + 3 \\, \\sqrt{n_{x}^{2} + u^{2}} n_{x}^{4} u^{2} + 3 \\, \\sqrt{n_{x}^{2} + u^{2}} n_{x}^{2} u^{4} + \\sqrt{n_{x}^{2} + u^{2}} u^{6}}\\,{d n_{x}} + 540 \\, \\pi^{2} a^{2} k_{m}^{2} u^{6} \\int_{0}^{+\\infty} \\frac{n_{x}^{2} \\left \\lfloor n_{x} \\right \\rfloor \\mathrm{D}_{0, 0}\\left(f\\right)\\left(\\frac{\\pi \\sqrt{n_{x}^{2} + u^{2}}}{a k_{m}}\\right)}{\\sqrt{n_{x}^{2} + u^{2}} n_{x}^{6} + 3 \\, \\sqrt{n_{x}^{2} + u^{2}} n_{x}^{4} u^{2} + 3 \\, \\sqrt{n_{x}^{2} + u^{2}} n_{x}^{2} u^{4} + \\sqrt{n_{x}^{2} + u^{2}} u^{6}}\\,{d n_{x}} - 540 \\, \\pi^{2} a^{2} k_{m}^{2} u^{6} \\int_{0}^{+\\infty} \\frac{n_{x} \\left \\lfloor n_{x} \\right \\rfloor^{2} \\mathrm{D}_{0, 0}\\left(f\\right)\\left(\\frac{\\pi \\sqrt{n_{x}^{2} + u^{2}}}{a k_{m}}\\right)}{\\sqrt{n_{x}^{2} + u^{2}} n_{x}^{6} + 3 \\, \\sqrt{n_{x}^{2} + u^{2}} n_{x}^{4} u^{2} + 3 \\, \\sqrt{n_{x}^{2} + u^{2}} n_{x}^{2} u^{4} + \\sqrt{n_{x}^{2} + u^{2}} u^{6}}\\,{d n_{x}} + 180 \\, \\pi^{2} a^{2} k_{m}^{2} u^{6} \\int_{0}^{+\\infty} \\frac{\\left \\lfloor n_{x} \\right \\rfloor^{3} \\mathrm{D}_{0, 0}\\left(f\\right)\\left(\\frac{\\pi \\sqrt{n_{x}^{2} + u^{2}}}{a k_{m}}\\right)}{\\sqrt{n_{x}^{2} + u^{2}} n_{x}^{6} + 3 \\, \\sqrt{n_{x}^{2} + u^{2}} n_{x}^{4} u^{2} + 3 \\, \\sqrt{n_{x}^{2} + u^{2}} n_{x}^{2} u^{4} + \\sqrt{n_{x}^{2} + u^{2}} u^{6}}\\,{d n_{x}} - 90 \\, a^{4} k_{m}^{4} u^{4} \\int_{0}^{+\\infty} \\frac{n_{x}^{2} f\\left(\\frac{\\pi \\sqrt{n_{x}^{2} + u^{2}}}{a k_{m}}\\right)}{\\sqrt{n_{x}^{2} + u^{2}} n_{x}^{6} + 3 \\, \\sqrt{n_{x}^{2} + u^{2}} n_{x}^{4} u^{2} + 3 \\, \\sqrt{n_{x}^{2} + u^{2}} n_{x}^{2} u^{4} + \\sqrt{n_{x}^{2} + u^{2}} u^{6}}\\,{d n_{x}} + 180 \\, a^{4} k_{m}^{4} u^{4} \\int_{0}^{+\\infty} \\frac{n_{x} f\\left(\\frac{\\pi \\sqrt{n_{x}^{2} + u^{2}}}{a k_{m}}\\right) \\left \\lfloor n_{x} \\right \\rfloor}{\\sqrt{n_{x}^{2} + u^{2}} n_{x}^{6} + 3 \\, \\sqrt{n_{x}^{2} + u^{2}} n_{x}^{4} u^{2} + 3 \\, \\sqrt{n_{x}^{2} + u^{2}} n_{x}^{2} u^{4} + \\sqrt{n_{x}^{2} + u^{2}} u^{6}}\\,{d n_{x}} - 90 \\, a^{4} k_{m}^{4} u^{4} \\int_{0}^{+\\infty} \\frac{f\\left(\\frac{\\pi \\sqrt{n_{x}^{2} + u^{2}}}{a k_{m}}\\right) \\left \\lfloor n_{x} \\right \\rfloor^{2}}{\\sqrt{n_{x}^{2} + u^{2}} n_{x}^{6} + 3 \\, \\sqrt{n_{x}^{2} + u^{2}} n_{x}^{4} u^{2} + 3 \\, \\sqrt{n_{x}^{2} + u^{2}} n_{x}^{2} u^{4} + \\sqrt{n_{x}^{2} + u^{2}} u^{6}}\\,{d n_{x}} + 90 \\, \\pi^{2} a^{2} k_{m}^{2} u^{6} \\int_{0}^{+\\infty} \\frac{n_{x}^{2} \\mathrm{D}_{0, 0}\\left(f\\right)\\left(\\frac{\\pi \\sqrt{n_{x}^{2} + u^{2}}}{a k_{m}}\\right)}{\\sqrt{n_{x}^{2} + u^{2}} n_{x}^{6} + 3 \\, \\sqrt{n_{x}^{2} + u^{2}} n_{x}^{4} u^{2} + 3 \\, \\sqrt{n_{x}^{2} + u^{2}} n_{x}^{2} u^{4} + \\sqrt{n_{x}^{2} + u^{2}} u^{6}}\\,{d n_{x}} - 180 \\, \\pi^{2} a^{2} k_{m}^{2} u^{6} \\int_{0}^{+\\infty} \\frac{n_{x} \\left \\lfloor n_{x} \\right \\rfloor \\mathrm{D}_{0, 0}\\left(f\\right)\\left(\\frac{\\pi \\sqrt{n_{x}^{2} + u^{2}}}{a k_{m}}\\right)}{\\sqrt{n_{x}^{2} + u^{2}} n_{x}^{6} + 3 \\, \\sqrt{n_{x}^{2} + u^{2}} n_{x}^{4} u^{2} + 3 \\, \\sqrt{n_{x}^{2} + u^{2}} n_{x}^{2} u^{4} + \\sqrt{n_{x}^{2} + u^{2}} u^{6}}\\,{d n_{x}} + 90 \\, \\pi^{2} a^{2} k_{m}^{2} u^{6} \\int_{0}^{+\\infty} \\frac{\\left \\lfloor n_{x} \\right \\rfloor^{2} \\mathrm{D}_{0, 0}\\left(f\\right)\\left(\\frac{\\pi \\sqrt{n_{x}^{2} + u^{2}}}{a k_{m}}\\right)}{\\sqrt{n_{x}^{2} + u^{2}} n_{x}^{6} + 3 \\, \\sqrt{n_{x}^{2} + u^{2}} n_{x}^{4} u^{2} + 3 \\, \\sqrt{n_{x}^{2} + u^{2}} n_{x}^{2} u^{4} + \\sqrt{n_{x}^{2} + u^{2}} u^{6}}\\,{d n_{x}} + 3 \\, a^{4} k_{m}^{4} u^{4} \\int_{0}^{+\\infty} \\frac{f\\left(\\frac{\\pi \\sqrt{n_{x}^{2} + u^{2}}}{a k_{m}}\\right)}{\\sqrt{n_{x}^{2} + u^{2}} n_{x}^{6} + 3 \\, \\sqrt{n_{x}^{2} + u^{2}} n_{x}^{4} u^{2} + 3 \\, \\sqrt{n_{x}^{2} + u^{2}} n_{x}^{2} u^{4} + \\sqrt{n_{x}^{2} + u^{2}} u^{6}}\\,{d n_{x}} - 3 \\, \\pi^{2} a^{2} k_{m}^{2} u^{6} \\int_{0}^{+\\infty} \\frac{\\mathrm{D}_{0, 0}\\left(f\\right)\\left(\\frac{\\pi \\sqrt{n_{x}^{2} + u^{2}}}{a k_{m}}\\right)}{\\sqrt{n_{x}^{2} + u^{2}} n_{x}^{6} + 3 \\, \\sqrt{n_{x}^{2} + u^{2}} n_{x}^{4} u^{2} + 3 \\, \\sqrt{n_{x}^{2} + u^{2}} n_{x}^{2} u^{4} + \\sqrt{n_{x}^{2} + u^{2}} u^{6}}\\,{d n_{x}} + 90 \\, \\pi a^{3} k_{m}^{3} u^{4} \\int_{0}^{+\\infty} \\frac{n_{x}^{4} \\mathrm{D}_{0}\\left(f\\right)\\left(\\frac{\\pi \\sqrt{n_{x}^{2} + u^{2}}}{a k_{m}}\\right)}{n_{x}^{6} + 3 \\, n_{x}^{4} u^{2} + 3 \\, n_{x}^{2} u^{4} + u^{6}}\\,{d n_{x}} - 360 \\, \\pi a^{3} k_{m}^{3} u^{4} \\int_{0}^{+\\infty} \\frac{n_{x}^{3} \\left \\lfloor n_{x} \\right \\rfloor \\mathrm{D}_{0}\\left(f\\right)\\left(\\frac{\\pi \\sqrt{n_{x}^{2} + u^{2}}}{a k_{m}}\\right)}{n_{x}^{6} + 3 \\, n_{x}^{4} u^{2} + 3 \\, n_{x}^{2} u^{4} + u^{6}}\\,{d n_{x}} + 540 \\, \\pi a^{3} k_{m}^{3} u^{4} \\int_{0}^{+\\infty} \\frac{n_{x}^{2} \\left \\lfloor n_{x} \\right \\rfloor^{2} \\mathrm{D}_{0}\\left(f\\right)\\left(\\frac{\\pi \\sqrt{n_{x}^{2} + u^{2}}}{a k_{m}}\\right)}{n_{x}^{6} + 3 \\, n_{x}^{4} u^{2} + 3 \\, n_{x}^{2} u^{4} + u^{6}}\\,{d n_{x}} - 360 \\, \\pi a^{3} k_{m}^{3} u^{4} \\int_{0}^{+\\infty} \\frac{n_{x} \\left \\lfloor n_{x} \\right \\rfloor^{3} \\mathrm{D}_{0}\\left(f\\right)\\left(\\frac{\\pi \\sqrt{n_{x}^{2} + u^{2}}}{a k_{m}}\\right)}{n_{x}^{6} + 3 \\, n_{x}^{4} u^{2} + 3 \\, n_{x}^{2} u^{4} + u^{6}}\\,{d n_{x}} + 90 \\, \\pi a^{3} k_{m}^{3} u^{4} \\int_{0}^{+\\infty} \\frac{\\left \\lfloor n_{x} \\right \\rfloor^{4} \\mathrm{D}_{0}\\left(f\\right)\\left(\\frac{\\pi \\sqrt{n_{x}^{2} + u^{2}}}{a k_{m}}\\right)}{n_{x}^{6} + 3 \\, n_{x}^{4} u^{2} + 3 \\, n_{x}^{2} u^{4} + u^{6}}\\,{d n_{x}} - 180 \\, \\pi a^{3} k_{m}^{3} u^{4} \\int_{0}^{+\\infty} \\frac{n_{x}^{3} \\mathrm{D}_{0}\\left(f\\right)\\left(\\frac{\\pi \\sqrt{n_{x}^{2} + u^{2}}}{a k_{m}}\\right)}{n_{x}^{6} + 3 \\, n_{x}^{4} u^{2} + 3 \\, n_{x}^{2} u^{4} + u^{6}}\\,{d n_{x}} + 540 \\, \\pi a^{3} k_{m}^{3} u^{4} \\int_{0}^{+\\infty} \\frac{n_{x}^{2} \\left \\lfloor n_{x} \\right \\rfloor \\mathrm{D}_{0}\\left(f\\right)\\left(\\frac{\\pi \\sqrt{n_{x}^{2} + u^{2}}}{a k_{m}}\\right)}{n_{x}^{6} + 3 \\, n_{x}^{4} u^{2} + 3 \\, n_{x}^{2} u^{4} + u^{6}}\\,{d n_{x}} - 540 \\, \\pi a^{3} k_{m}^{3} u^{4} \\int_{0}^{+\\infty} \\frac{n_{x} \\left \\lfloor n_{x} \\right \\rfloor^{2} \\mathrm{D}_{0}\\left(f\\right)\\left(\\frac{\\pi \\sqrt{n_{x}^{2} + u^{2}}}{a k_{m}}\\right)}{n_{x}^{6} + 3 \\, n_{x}^{4} u^{2} + 3 \\, n_{x}^{2} u^{4} + u^{6}}\\,{d n_{x}} + 180 \\, \\pi a^{3} k_{m}^{3} u^{4} \\int_{0}^{+\\infty} \\frac{\\left \\lfloor n_{x} \\right \\rfloor^{3} \\mathrm{D}_{0}\\left(f\\right)\\left(\\frac{\\pi \\sqrt{n_{x}^{2} + u^{2}}}{a k_{m}}\\right)}{n_{x}^{6} + 3 \\, n_{x}^{4} u^{2} + 3 \\, n_{x}^{2} u^{4} + u^{6}}\\,{d n_{x}} + 90 \\, \\pi a^{3} k_{m}^{3} u^{4} \\int_{0}^{+\\infty} \\frac{n_{x}^{2} \\mathrm{D}_{0}\\left(f\\right)\\left(\\frac{\\pi \\sqrt{n_{x}^{2} + u^{2}}}{a k_{m}}\\right)}{n_{x}^{6} + 3 \\, n_{x}^{4} u^{2} + 3 \\, n_{x}^{2} u^{4} + u^{6}}\\,{d n_{x}} - 180 \\, \\pi a^{3} k_{m}^{3} u^{4} \\int_{0}^{+\\infty} \\frac{n_{x} \\left \\lfloor n_{x} \\right \\rfloor \\mathrm{D}_{0}\\left(f\\right)\\left(\\frac{\\pi \\sqrt{n_{x}^{2} + u^{2}}}{a k_{m}}\\right)}{n_{x}^{6} + 3 \\, n_{x}^{4} u^{2} + 3 \\, n_{x}^{2} u^{4} + u^{6}}\\,{d n_{x}} + 90 \\, \\pi a^{3} k_{m}^{3} u^{4} \\int_{0}^{+\\infty} \\frac{\\left \\lfloor n_{x} \\right \\rfloor^{2} \\mathrm{D}_{0}\\left(f\\right)\\left(\\frac{\\pi \\sqrt{n_{x}^{2} + u^{2}}}{a k_{m}}\\right)}{n_{x}^{6} + 3 \\, n_{x}^{4} u^{2} + 3 \\, n_{x}^{2} u^{4} + u^{6}}\\,{d n_{x}} - 3 \\, \\pi a^{3} k_{m}^{3} u^{4} \\int_{0}^{+\\infty} \\frac{\\mathrm{D}_{0}\\left(f\\right)\\left(\\frac{\\pi \\sqrt{n_{x}^{2} + u^{2}}}{a k_{m}}\\right)}{n_{x}^{6} + 3 \\, n_{x}^{4} u^{2} + 3 \\, n_{x}^{2} u^{4} + u^{6}}\\,{d n_{x}} + 360 \\, a^{4} k_{m}^{4} u^{2} \\int_{0}^{+\\infty} \\frac{n_{x}^{6} f\\left(\\frac{\\pi \\sqrt{n_{x}^{2} + u^{2}}}{a k_{m}}\\right)}{\\sqrt{n_{x}^{2} + u^{2}} n_{x}^{6} + 3 \\, \\sqrt{n_{x}^{2} + u^{2}} n_{x}^{4} u^{2} + 3 \\, \\sqrt{n_{x}^{2} + u^{2}} n_{x}^{2} u^{4} + \\sqrt{n_{x}^{2} + u^{2}} u^{6}}\\,{d n_{x}} - 1440 \\, a^{4} k_{m}^{4} u^{2} \\int_{0}^{+\\infty} \\frac{n_{x}^{5} f\\left(\\frac{\\pi \\sqrt{n_{x}^{2} + u^{2}}}{a k_{m}}\\right) \\left \\lfloor n_{x} \\right \\rfloor}{\\sqrt{n_{x}^{2} + u^{2}} n_{x}^{6} + 3 \\, \\sqrt{n_{x}^{2} + u^{2}} n_{x}^{4} u^{2} + 3 \\, \\sqrt{n_{x}^{2} + u^{2}} n_{x}^{2} u^{4} + \\sqrt{n_{x}^{2} + u^{2}} u^{6}}\\,{d n_{x}} + 2160 \\, a^{4} k_{m}^{4} u^{2} \\int_{0}^{+\\infty} \\frac{n_{x}^{4} f\\left(\\frac{\\pi \\sqrt{n_{x}^{2} + u^{2}}}{a k_{m}}\\right) \\left \\lfloor n_{x} \\right \\rfloor^{2}}{\\sqrt{n_{x}^{2} + u^{2}} n_{x}^{6} + 3 \\, \\sqrt{n_{x}^{2} + u^{2}} n_{x}^{4} u^{2} + 3 \\, \\sqrt{n_{x}^{2} + u^{2}} n_{x}^{2} u^{4} + \\sqrt{n_{x}^{2} + u^{2}} u^{6}}\\,{d n_{x}} - 1440 \\, a^{4} k_{m}^{4} u^{2} \\int_{0}^{+\\infty} \\frac{n_{x}^{3} f\\left(\\frac{\\pi \\sqrt{n_{x}^{2} + u^{2}}}{a k_{m}}\\right) \\left \\lfloor n_{x} \\right \\rfloor^{3}}{\\sqrt{n_{x}^{2} + u^{2}} n_{x}^{6} + 3 \\, \\sqrt{n_{x}^{2} + u^{2}} n_{x}^{4} u^{2} + 3 \\, \\sqrt{n_{x}^{2} + u^{2}} n_{x}^{2} u^{4} + \\sqrt{n_{x}^{2} + u^{2}} u^{6}}\\,{d n_{x}} + 360 \\, a^{4} k_{m}^{4} u^{2} \\int_{0}^{+\\infty} \\frac{n_{x}^{2} f\\left(\\frac{\\pi \\sqrt{n_{x}^{2} + u^{2}}}{a k_{m}}\\right) \\left \\lfloor n_{x} \\right \\rfloor^{4}}{\\sqrt{n_{x}^{2} + u^{2}} n_{x}^{6} + 3 \\, \\sqrt{n_{x}^{2} + u^{2}} n_{x}^{4} u^{2} + 3 \\, \\sqrt{n_{x}^{2} + u^{2}} n_{x}^{2} u^{4} + \\sqrt{n_{x}^{2} + u^{2}} u^{6}}\\,{d n_{x}} + 270 \\, \\pi^{2} a^{2} k_{m}^{2} u^{4} \\int_{0}^{+\\infty} \\frac{n_{x}^{6} \\mathrm{D}_{0, 0}\\left(f\\right)\\left(\\frac{\\pi \\sqrt{n_{x}^{2} + u^{2}}}{a k_{m}}\\right)}{\\sqrt{n_{x}^{2} + u^{2}} n_{x}^{6} + 3 \\, \\sqrt{n_{x}^{2} + u^{2}} n_{x}^{4} u^{2} + 3 \\, \\sqrt{n_{x}^{2} + u^{2}} n_{x}^{2} u^{4} + \\sqrt{n_{x}^{2} + u^{2}} u^{6}}\\,{d n_{x}} - 1080 \\, \\pi^{2} a^{2} k_{m}^{2} u^{4} \\int_{0}^{+\\infty} \\frac{n_{x}^{5} \\left \\lfloor n_{x} \\right \\rfloor \\mathrm{D}_{0, 0}\\left(f\\right)\\left(\\frac{\\pi \\sqrt{n_{x}^{2} + u^{2}}}{a k_{m}}\\right)}{\\sqrt{n_{x}^{2} + u^{2}} n_{x}^{6} + 3 \\, \\sqrt{n_{x}^{2} + u^{2}} n_{x}^{4} u^{2} + 3 \\, \\sqrt{n_{x}^{2} + u^{2}} n_{x}^{2} u^{4} + \\sqrt{n_{x}^{2} + u^{2}} u^{6}}\\,{d n_{x}} + 1620 \\, \\pi^{2} a^{2} k_{m}^{2} u^{4} \\int_{0}^{+\\infty} \\frac{n_{x}^{4} \\left \\lfloor n_{x} \\right \\rfloor^{2} \\mathrm{D}_{0, 0}\\left(f\\right)\\left(\\frac{\\pi \\sqrt{n_{x}^{2} + u^{2}}}{a k_{m}}\\right)}{\\sqrt{n_{x}^{2} + u^{2}} n_{x}^{6} + 3 \\, \\sqrt{n_{x}^{2} + u^{2}} n_{x}^{4} u^{2} + 3 \\, \\sqrt{n_{x}^{2} + u^{2}} n_{x}^{2} u^{4} + \\sqrt{n_{x}^{2} + u^{2}} u^{6}}\\,{d n_{x}} - 1080 \\, \\pi^{2} a^{2} k_{m}^{2} u^{4} \\int_{0}^{+\\infty} \\frac{n_{x}^{3} \\left \\lfloor n_{x} \\right \\rfloor^{3} \\mathrm{D}_{0, 0}\\left(f\\right)\\left(\\frac{\\pi \\sqrt{n_{x}^{2} + u^{2}}}{a k_{m}}\\right)}{\\sqrt{n_{x}^{2} + u^{2}} n_{x}^{6} + 3 \\, \\sqrt{n_{x}^{2} + u^{2}} n_{x}^{4} u^{2} + 3 \\, \\sqrt{n_{x}^{2} + u^{2}} n_{x}^{2} u^{4} + \\sqrt{n_{x}^{2} + u^{2}} u^{6}}\\,{d n_{x}} + 270 \\, \\pi^{2} a^{2} k_{m}^{2} u^{4} \\int_{0}^{+\\infty} \\frac{n_{x}^{2} \\left \\lfloor n_{x} \\right \\rfloor^{4} \\mathrm{D}_{0, 0}\\left(f\\right)\\left(\\frac{\\pi \\sqrt{n_{x}^{2} + u^{2}}}{a k_{m}}\\right)}{\\sqrt{n_{x}^{2} + u^{2}} n_{x}^{6} + 3 \\, \\sqrt{n_{x}^{2} + u^{2}} n_{x}^{4} u^{2} + 3 \\, \\sqrt{n_{x}^{2} + u^{2}} n_{x}^{2} u^{4} + \\sqrt{n_{x}^{2} + u^{2}} u^{6}}\\,{d n_{x}} - 720 \\, a^{4} k_{m}^{4} u^{2} \\int_{0}^{+\\infty} \\frac{n_{x}^{5} f\\left(\\frac{\\pi \\sqrt{n_{x}^{2} + u^{2}}}{a k_{m}}\\right)}{\\sqrt{n_{x}^{2} + u^{2}} n_{x}^{6} + 3 \\, \\sqrt{n_{x}^{2} + u^{2}} n_{x}^{4} u^{2} + 3 \\, \\sqrt{n_{x}^{2} + u^{2}} n_{x}^{2} u^{4} + \\sqrt{n_{x}^{2} + u^{2}} u^{6}}\\,{d n_{x}} + 2160 \\, a^{4} k_{m}^{4} u^{2} \\int_{0}^{+\\infty} \\frac{n_{x}^{4} f\\left(\\frac{\\pi \\sqrt{n_{x}^{2} + u^{2}}}{a k_{m}}\\right) \\left \\lfloor n_{x} \\right \\rfloor}{\\sqrt{n_{x}^{2} + u^{2}} n_{x}^{6} + 3 \\, \\sqrt{n_{x}^{2} + u^{2}} n_{x}^{4} u^{2} + 3 \\, \\sqrt{n_{x}^{2} + u^{2}} n_{x}^{2} u^{4} + \\sqrt{n_{x}^{2} + u^{2}} u^{6}}\\,{d n_{x}} - 2160 \\, a^{4} k_{m}^{4} u^{2} \\int_{0}^{+\\infty} \\frac{n_{x}^{3} f\\left(\\frac{\\pi \\sqrt{n_{x}^{2} + u^{2}}}{a k_{m}}\\right) \\left \\lfloor n_{x} \\right \\rfloor^{2}}{\\sqrt{n_{x}^{2} + u^{2}} n_{x}^{6} + 3 \\, \\sqrt{n_{x}^{2} + u^{2}} n_{x}^{4} u^{2} + 3 \\, \\sqrt{n_{x}^{2} + u^{2}} n_{x}^{2} u^{4} + \\sqrt{n_{x}^{2} + u^{2}} u^{6}}\\,{d n_{x}} + 720 \\, a^{4} k_{m}^{4} u^{2} \\int_{0}^{+\\infty} \\frac{n_{x}^{2} f\\left(\\frac{\\pi \\sqrt{n_{x}^{2} + u^{2}}}{a k_{m}}\\right) \\left \\lfloor n_{x} \\right \\rfloor^{3}}{\\sqrt{n_{x}^{2} + u^{2}} n_{x}^{6} + 3 \\, \\sqrt{n_{x}^{2} + u^{2}} n_{x}^{4} u^{2} + 3 \\, \\sqrt{n_{x}^{2} + u^{2}} n_{x}^{2} u^{4} + \\sqrt{n_{x}^{2} + u^{2}} u^{6}}\\,{d n_{x}} - 540 \\, \\pi^{2} a^{2} k_{m}^{2} u^{4} \\int_{0}^{+\\infty} \\frac{n_{x}^{5} \\mathrm{D}_{0, 0}\\left(f\\right)\\left(\\frac{\\pi \\sqrt{n_{x}^{2} + u^{2}}}{a k_{m}}\\right)}{\\sqrt{n_{x}^{2} + u^{2}} n_{x}^{6} + 3 \\, \\sqrt{n_{x}^{2} + u^{2}} n_{x}^{4} u^{2} + 3 \\, \\sqrt{n_{x}^{2} + u^{2}} n_{x}^{2} u^{4} + \\sqrt{n_{x}^{2} + u^{2}} u^{6}}\\,{d n_{x}} + 1620 \\, \\pi^{2} a^{2} k_{m}^{2} u^{4} \\int_{0}^{+\\infty} \\frac{n_{x}^{4} \\left \\lfloor n_{x} \\right \\rfloor \\mathrm{D}_{0, 0}\\left(f\\right)\\left(\\frac{\\pi \\sqrt{n_{x}^{2} + u^{2}}}{a k_{m}}\\right)}{\\sqrt{n_{x}^{2} + u^{2}} n_{x}^{6} + 3 \\, \\sqrt{n_{x}^{2} + u^{2}} n_{x}^{4} u^{2} + 3 \\, \\sqrt{n_{x}^{2} + u^{2}} n_{x}^{2} u^{4} + \\sqrt{n_{x}^{2} + u^{2}} u^{6}}\\,{d n_{x}} - 1620 \\, \\pi^{2} a^{2} k_{m}^{2} u^{4} \\int_{0}^{+\\infty} \\frac{n_{x}^{3} \\left \\lfloor n_{x} \\right \\rfloor^{2} \\mathrm{D}_{0, 0}\\left(f\\right)\\left(\\frac{\\pi \\sqrt{n_{x}^{2} + u^{2}}}{a k_{m}}\\right)}{\\sqrt{n_{x}^{2} + u^{2}} n_{x}^{6} + 3 \\, \\sqrt{n_{x}^{2} + u^{2}} n_{x}^{4} u^{2} + 3 \\, \\sqrt{n_{x}^{2} + u^{2}} n_{x}^{2} u^{4} + \\sqrt{n_{x}^{2} + u^{2}} u^{6}}\\,{d n_{x}} + 540 \\, \\pi^{2} a^{2} k_{m}^{2} u^{4} \\int_{0}^{+\\infty} \\frac{n_{x}^{2} \\left \\lfloor n_{x} \\right \\rfloor^{3} \\mathrm{D}_{0, 0}\\left(f\\right)\\left(\\frac{\\pi \\sqrt{n_{x}^{2} + u^{2}}}{a k_{m}}\\right)}{\\sqrt{n_{x}^{2} + u^{2}} n_{x}^{6} + 3 \\, \\sqrt{n_{x}^{2} + u^{2}} n_{x}^{4} u^{2} + 3 \\, \\sqrt{n_{x}^{2} + u^{2}} n_{x}^{2} u^{4} + \\sqrt{n_{x}^{2} + u^{2}} u^{6}}\\,{d n_{x}} + 360 \\, a^{4} k_{m}^{4} u^{2} \\int_{0}^{+\\infty} \\frac{n_{x}^{4} f\\left(\\frac{\\pi \\sqrt{n_{x}^{2} + u^{2}}}{a k_{m}}\\right)}{\\sqrt{n_{x}^{2} + u^{2}} n_{x}^{6} + 3 \\, \\sqrt{n_{x}^{2} + u^{2}} n_{x}^{4} u^{2} + 3 \\, \\sqrt{n_{x}^{2} + u^{2}} n_{x}^{2} u^{4} + \\sqrt{n_{x}^{2} + u^{2}} u^{6}}\\,{d n_{x}} - 720 \\, a^{4} k_{m}^{4} u^{2} \\int_{0}^{+\\infty} \\frac{n_{x}^{3} f\\left(\\frac{\\pi \\sqrt{n_{x}^{2} + u^{2}}}{a k_{m}}\\right) \\left \\lfloor n_{x} \\right \\rfloor}{\\sqrt{n_{x}^{2} + u^{2}} n_{x}^{6} + 3 \\, \\sqrt{n_{x}^{2} + u^{2}} n_{x}^{4} u^{2} + 3 \\, \\sqrt{n_{x}^{2} + u^{2}} n_{x}^{2} u^{4} + \\sqrt{n_{x}^{2} + u^{2}} u^{6}}\\,{d n_{x}} + 360 \\, a^{4} k_{m}^{4} u^{2} \\int_{0}^{+\\infty} \\frac{n_{x}^{2} f\\left(\\frac{\\pi \\sqrt{n_{x}^{2} + u^{2}}}{a k_{m}}\\right) \\left \\lfloor n_{x} \\right \\rfloor^{2}}{\\sqrt{n_{x}^{2} + u^{2}} n_{x}^{6} + 3 \\, \\sqrt{n_{x}^{2} + u^{2}} n_{x}^{4} u^{2} + 3 \\, \\sqrt{n_{x}^{2} + u^{2}} n_{x}^{2} u^{4} + \\sqrt{n_{x}^{2} + u^{2}} u^{6}}\\,{d n_{x}} + 270 \\, \\pi^{2} a^{2} k_{m}^{2} u^{4} \\int_{0}^{+\\infty} \\frac{n_{x}^{4} \\mathrm{D}_{0, 0}\\left(f\\right)\\left(\\frac{\\pi \\sqrt{n_{x}^{2} + u^{2}}}{a k_{m}}\\right)}{\\sqrt{n_{x}^{2} + u^{2}} n_{x}^{6} + 3 \\, \\sqrt{n_{x}^{2} + u^{2}} n_{x}^{4} u^{2} + 3 \\, \\sqrt{n_{x}^{2} + u^{2}} n_{x}^{2} u^{4} + \\sqrt{n_{x}^{2} + u^{2}} u^{6}}\\,{d n_{x}} - 540 \\, \\pi^{2} a^{2} k_{m}^{2} u^{4} \\int_{0}^{+\\infty} \\frac{n_{x}^{3} \\left \\lfloor n_{x} \\right \\rfloor \\mathrm{D}_{0, 0}\\left(f\\right)\\left(\\frac{\\pi \\sqrt{n_{x}^{2} + u^{2}}}{a k_{m}}\\right)}{\\sqrt{n_{x}^{2} + u^{2}} n_{x}^{6} + 3 \\, \\sqrt{n_{x}^{2} + u^{2}} n_{x}^{4} u^{2} + 3 \\, \\sqrt{n_{x}^{2} + u^{2}} n_{x}^{2} u^{4} + \\sqrt{n_{x}^{2} + u^{2}} u^{6}}\\,{d n_{x}} + 270 \\, \\pi^{2} a^{2} k_{m}^{2} u^{4} \\int_{0}^{+\\infty} \\frac{n_{x}^{2} \\left \\lfloor n_{x} \\right \\rfloor^{2} \\mathrm{D}_{0, 0}\\left(f\\right)\\left(\\frac{\\pi \\sqrt{n_{x}^{2} + u^{2}}}{a k_{m}}\\right)}{\\sqrt{n_{x}^{2} + u^{2}} n_{x}^{6} + 3 \\, \\sqrt{n_{x}^{2} + u^{2}} n_{x}^{4} u^{2} + 3 \\, \\sqrt{n_{x}^{2} + u^{2}} n_{x}^{2} u^{4} + \\sqrt{n_{x}^{2} + u^{2}} u^{6}}\\,{d n_{x}} - 12 \\, a^{4} k_{m}^{4} u^{2} \\int_{0}^{+\\infty} \\frac{n_{x}^{2} f\\left(\\frac{\\pi \\sqrt{n_{x}^{2} + u^{2}}}{a k_{m}}\\right)}{\\sqrt{n_{x}^{2} + u^{2}} n_{x}^{6} + 3 \\, \\sqrt{n_{x}^{2} + u^{2}} n_{x}^{4} u^{2} + 3 \\, \\sqrt{n_{x}^{2} + u^{2}} n_{x}^{2} u^{4} + \\sqrt{n_{x}^{2} + u^{2}} u^{6}}\\,{d n_{x}} - 9 \\, \\pi^{2} a^{2} k_{m}^{2} u^{4} \\int_{0}^{+\\infty} \\frac{n_{x}^{2} \\mathrm{D}_{0, 0}\\left(f\\right)\\left(\\frac{\\pi \\sqrt{n_{x}^{2} + u^{2}}}{a k_{m}}\\right)}{\\sqrt{n_{x}^{2} + u^{2}} n_{x}^{6} + 3 \\, \\sqrt{n_{x}^{2} + u^{2}} n_{x}^{4} u^{2} + 3 \\, \\sqrt{n_{x}^{2} + u^{2}} n_{x}^{2} u^{4} + \\sqrt{n_{x}^{2} + u^{2}} u^{6}}\\,{d n_{x}} - 360 \\, \\pi a^{3} k_{m}^{3} u^{2} \\int_{0}^{+\\infty} \\frac{n_{x}^{6} \\mathrm{D}_{0}\\left(f\\right)\\left(\\frac{\\pi \\sqrt{n_{x}^{2} + u^{2}}}{a k_{m}}\\right)}{n_{x}^{6} + 3 \\, n_{x}^{4} u^{2} + 3 \\, n_{x}^{2} u^{4} + u^{6}}\\,{d n_{x}} + 1440 \\, \\pi a^{3} k_{m}^{3} u^{2} \\int_{0}^{+\\infty} \\frac{n_{x}^{5} \\left \\lfloor n_{x} \\right \\rfloor \\mathrm{D}_{0}\\left(f\\right)\\left(\\frac{\\pi \\sqrt{n_{x}^{2} + u^{2}}}{a k_{m}}\\right)}{n_{x}^{6} + 3 \\, n_{x}^{4} u^{2} + 3 \\, n_{x}^{2} u^{4} + u^{6}}\\,{d n_{x}} - 2160 \\, \\pi a^{3} k_{m}^{3} u^{2} \\int_{0}^{+\\infty} \\frac{n_{x}^{4} \\left \\lfloor n_{x} \\right \\rfloor^{2} \\mathrm{D}_{0}\\left(f\\right)\\left(\\frac{\\pi \\sqrt{n_{x}^{2} + u^{2}}}{a k_{m}}\\right)}{n_{x}^{6} + 3 \\, n_{x}^{4} u^{2} + 3 \\, n_{x}^{2} u^{4} + u^{6}}\\,{d n_{x}} + 1440 \\, \\pi a^{3} k_{m}^{3} u^{2} \\int_{0}^{+\\infty} \\frac{n_{x}^{3} \\left \\lfloor n_{x} \\right \\rfloor^{3} \\mathrm{D}_{0}\\left(f\\right)\\left(\\frac{\\pi \\sqrt{n_{x}^{2} + u^{2}}}{a k_{m}}\\right)}{n_{x}^{6} + 3 \\, n_{x}^{4} u^{2} + 3 \\, n_{x}^{2} u^{4} + u^{6}}\\,{d n_{x}} - 360 \\, \\pi a^{3} k_{m}^{3} u^{2} \\int_{0}^{+\\infty} \\frac{n_{x}^{2} \\left \\lfloor n_{x} \\right \\rfloor^{4} \\mathrm{D}_{0}\\left(f\\right)\\left(\\frac{\\pi \\sqrt{n_{x}^{2} + u^{2}}}{a k_{m}}\\right)}{n_{x}^{6} + 3 \\, n_{x}^{4} u^{2} + 3 \\, n_{x}^{2} u^{4} + u^{6}}\\,{d n_{x}} + 180 \\, \\pi^{3} a k_{m} u^{4} \\int_{0}^{+\\infty} \\frac{n_{x}^{6} \\mathrm{D}_{0, 0, 0}\\left(f\\right)\\left(\\frac{\\pi \\sqrt{n_{x}^{2} + u^{2}}}{a k_{m}}\\right)}{n_{x}^{6} + 3 \\, n_{x}^{4} u^{2} + 3 \\, n_{x}^{2} u^{4} + u^{6}}\\,{d n_{x}} - 720 \\, \\pi^{3} a k_{m} u^{4} \\int_{0}^{+\\infty} \\frac{n_{x}^{5} \\left \\lfloor n_{x} \\right \\rfloor \\mathrm{D}_{0, 0, 0}\\left(f\\right)\\left(\\frac{\\pi \\sqrt{n_{x}^{2} + u^{2}}}{a k_{m}}\\right)}{n_{x}^{6} + 3 \\, n_{x}^{4} u^{2} + 3 \\, n_{x}^{2} u^{4} + u^{6}}\\,{d n_{x}} + 1080 \\, \\pi^{3} a k_{m} u^{4} \\int_{0}^{+\\infty} \\frac{n_{x}^{4} \\left \\lfloor n_{x} \\right \\rfloor^{2} \\mathrm{D}_{0, 0, 0}\\left(f\\right)\\left(\\frac{\\pi \\sqrt{n_{x}^{2} + u^{2}}}{a k_{m}}\\right)}{n_{x}^{6} + 3 \\, n_{x}^{4} u^{2} + 3 \\, n_{x}^{2} u^{4} + u^{6}}\\,{d n_{x}} - 720 \\, \\pi^{3} a k_{m} u^{4} \\int_{0}^{+\\infty} \\frac{n_{x}^{3} \\left \\lfloor n_{x} \\right \\rfloor^{3} \\mathrm{D}_{0, 0, 0}\\left(f\\right)\\left(\\frac{\\pi \\sqrt{n_{x}^{2} + u^{2}}}{a k_{m}}\\right)}{n_{x}^{6} + 3 \\, n_{x}^{4} u^{2} + 3 \\, n_{x}^{2} u^{4} + u^{6}}\\,{d n_{x}} + 180 \\, \\pi^{3} a k_{m} u^{4} \\int_{0}^{+\\infty} \\frac{n_{x}^{2} \\left \\lfloor n_{x} \\right \\rfloor^{4} \\mathrm{D}_{0, 0, 0}\\left(f\\right)\\left(\\frac{\\pi \\sqrt{n_{x}^{2} + u^{2}}}{a k_{m}}\\right)}{n_{x}^{6} + 3 \\, n_{x}^{4} u^{2} + 3 \\, n_{x}^{2} u^{4} + u^{6}}\\,{d n_{x}} + 720 \\, \\pi a^{3} k_{m}^{3} u^{2} \\int_{0}^{+\\infty} \\frac{n_{x}^{5} \\mathrm{D}_{0}\\left(f\\right)\\left(\\frac{\\pi \\sqrt{n_{x}^{2} + u^{2}}}{a k_{m}}\\right)}{n_{x}^{6} + 3 \\, n_{x}^{4} u^{2} + 3 \\, n_{x}^{2} u^{4} + u^{6}}\\,{d n_{x}} - 2160 \\, \\pi a^{3} k_{m}^{3} u^{2} \\int_{0}^{+\\infty} \\frac{n_{x}^{4} \\left \\lfloor n_{x} \\right \\rfloor \\mathrm{D}_{0}\\left(f\\right)\\left(\\frac{\\pi \\sqrt{n_{x}^{2} + u^{2}}}{a k_{m}}\\right)}{n_{x}^{6} + 3 \\, n_{x}^{4} u^{2} + 3 \\, n_{x}^{2} u^{4} + u^{6}}\\,{d n_{x}} + 2160 \\, \\pi a^{3} k_{m}^{3} u^{2} \\int_{0}^{+\\infty} \\frac{n_{x}^{3} \\left \\lfloor n_{x} \\right \\rfloor^{2} \\mathrm{D}_{0}\\left(f\\right)\\left(\\frac{\\pi \\sqrt{n_{x}^{2} + u^{2}}}{a k_{m}}\\right)}{n_{x}^{6} + 3 \\, n_{x}^{4} u^{2} + 3 \\, n_{x}^{2} u^{4} + u^{6}}\\,{d n_{x}} - 720 \\, \\pi a^{3} k_{m}^{3} u^{2} \\int_{0}^{+\\infty} \\frac{n_{x}^{2} \\left \\lfloor n_{x} \\right \\rfloor^{3} \\mathrm{D}_{0}\\left(f\\right)\\left(\\frac{\\pi \\sqrt{n_{x}^{2} + u^{2}}}{a k_{m}}\\right)}{n_{x}^{6} + 3 \\, n_{x}^{4} u^{2} + 3 \\, n_{x}^{2} u^{4} + u^{6}}\\,{d n_{x}} - 360 \\, \\pi^{3} a k_{m} u^{4} \\int_{0}^{+\\infty} \\frac{n_{x}^{5} \\mathrm{D}_{0, 0, 0}\\left(f\\right)\\left(\\frac{\\pi \\sqrt{n_{x}^{2} + u^{2}}}{a k_{m}}\\right)}{n_{x}^{6} + 3 \\, n_{x}^{4} u^{2} + 3 \\, n_{x}^{2} u^{4} + u^{6}}\\,{d n_{x}} + 1080 \\, \\pi^{3} a k_{m} u^{4} \\int_{0}^{+\\infty} \\frac{n_{x}^{4} \\left \\lfloor n_{x} \\right \\rfloor \\mathrm{D}_{0, 0, 0}\\left(f\\right)\\left(\\frac{\\pi \\sqrt{n_{x}^{2} + u^{2}}}{a k_{m}}\\right)}{n_{x}^{6} + 3 \\, n_{x}^{4} u^{2} + 3 \\, n_{x}^{2} u^{4} + u^{6}}\\,{d n_{x}} - 1080 \\, \\pi^{3} a k_{m} u^{4} \\int_{0}^{+\\infty} \\frac{n_{x}^{3} \\left \\lfloor n_{x} \\right \\rfloor^{2} \\mathrm{D}_{0, 0, 0}\\left(f\\right)\\left(\\frac{\\pi \\sqrt{n_{x}^{2} + u^{2}}}{a k_{m}}\\right)}{n_{x}^{6} + 3 \\, n_{x}^{4} u^{2} + 3 \\, n_{x}^{2} u^{4} + u^{6}}\\,{d n_{x}} + 360 \\, \\pi^{3} a k_{m} u^{4} \\int_{0}^{+\\infty} \\frac{n_{x}^{2} \\left \\lfloor n_{x} \\right \\rfloor^{3} \\mathrm{D}_{0, 0, 0}\\left(f\\right)\\left(\\frac{\\pi \\sqrt{n_{x}^{2} + u^{2}}}{a k_{m}}\\right)}{n_{x}^{6} + 3 \\, n_{x}^{4} u^{2} + 3 \\, n_{x}^{2} u^{4} + u^{6}}\\,{d n_{x}} - 360 \\, \\pi a^{3} k_{m}^{3} u^{2} \\int_{0}^{+\\infty} \\frac{n_{x}^{4} \\mathrm{D}_{0}\\left(f\\right)\\left(\\frac{\\pi \\sqrt{n_{x}^{2} + u^{2}}}{a k_{m}}\\right)}{n_{x}^{6} + 3 \\, n_{x}^{4} u^{2} + 3 \\, n_{x}^{2} u^{4} + u^{6}}\\,{d n_{x}} + 720 \\, \\pi a^{3} k_{m}^{3} u^{2} \\int_{0}^{+\\infty} \\frac{n_{x}^{3} \\left \\lfloor n_{x} \\right \\rfloor \\mathrm{D}_{0}\\left(f\\right)\\left(\\frac{\\pi \\sqrt{n_{x}^{2} + u^{2}}}{a k_{m}}\\right)}{n_{x}^{6} + 3 \\, n_{x}^{4} u^{2} + 3 \\, n_{x}^{2} u^{4} + u^{6}}\\,{d n_{x}} - 360 \\, \\pi a^{3} k_{m}^{3} u^{2} \\int_{0}^{+\\infty} \\frac{n_{x}^{2} \\left \\lfloor n_{x} \\right \\rfloor^{2} \\mathrm{D}_{0}\\left(f\\right)\\left(\\frac{\\pi \\sqrt{n_{x}^{2} + u^{2}}}{a k_{m}}\\right)}{n_{x}^{6} + 3 \\, n_{x}^{4} u^{2} + 3 \\, n_{x}^{2} u^{4} + u^{6}}\\,{d n_{x}} + 180 \\, \\pi^{3} a k_{m} u^{4} \\int_{0}^{+\\infty} \\frac{n_{x}^{4} \\mathrm{D}_{0, 0, 0}\\left(f\\right)\\left(\\frac{\\pi \\sqrt{n_{x}^{2} + u^{2}}}{a k_{m}}\\right)}{n_{x}^{6} + 3 \\, n_{x}^{4} u^{2} + 3 \\, n_{x}^{2} u^{4} + u^{6}}\\,{d n_{x}} - 360 \\, \\pi^{3} a k_{m} u^{4} \\int_{0}^{+\\infty} \\frac{n_{x}^{3} \\left \\lfloor n_{x} \\right \\rfloor \\mathrm{D}_{0, 0, 0}\\left(f\\right)\\left(\\frac{\\pi \\sqrt{n_{x}^{2} + u^{2}}}{a k_{m}}\\right)}{n_{x}^{6} + 3 \\, n_{x}^{4} u^{2} + 3 \\, n_{x}^{2} u^{4} + u^{6}}\\,{d n_{x}} + 180 \\, \\pi^{3} a k_{m} u^{4} \\int_{0}^{+\\infty} \\frac{n_{x}^{2} \\left \\lfloor n_{x} \\right \\rfloor^{2} \\mathrm{D}_{0, 0, 0}\\left(f\\right)\\left(\\frac{\\pi \\sqrt{n_{x}^{2} + u^{2}}}{a k_{m}}\\right)}{n_{x}^{6} + 3 \\, n_{x}^{4} u^{2} + 3 \\, n_{x}^{2} u^{4} + u^{6}}\\,{d n_{x}} + 12 \\, \\pi a^{3} k_{m}^{3} u^{2} \\int_{0}^{+\\infty} \\frac{n_{x}^{2} \\mathrm{D}_{0}\\left(f\\right)\\left(\\frac{\\pi \\sqrt{n_{x}^{2} + u^{2}}}{a k_{m}}\\right)}{n_{x}^{6} + 3 \\, n_{x}^{4} u^{2} + 3 \\, n_{x}^{2} u^{4} + u^{6}}\\,{d n_{x}} - 6 \\, \\pi^{3} a k_{m} u^{4} \\int_{0}^{+\\infty} \\frac{n_{x}^{2} \\mathrm{D}_{0, 0, 0}\\left(f\\right)\\left(\\frac{\\pi \\sqrt{n_{x}^{2} + u^{2}}}{a k_{m}}\\right)}{n_{x}^{6} + 3 \\, n_{x}^{4} u^{2} + 3 \\, n_{x}^{2} u^{4} + u^{6}}\\,{d n_{x}} + 180 \\, \\pi^{2} a^{2} k_{m}^{2} u^{2} \\int_{0}^{+\\infty} \\frac{n_{x}^{8} \\mathrm{D}_{0, 0}\\left(f\\right)\\left(\\frac{\\pi \\sqrt{n_{x}^{2} + u^{2}}}{a k_{m}}\\right)}{\\sqrt{n_{x}^{2} + u^{2}} n_{x}^{6} + 3 \\, \\sqrt{n_{x}^{2} + u^{2}} n_{x}^{4} u^{2} + 3 \\, \\sqrt{n_{x}^{2} + u^{2}} n_{x}^{2} u^{4} + \\sqrt{n_{x}^{2} + u^{2}} u^{6}}\\,{d n_{x}} - 720 \\, \\pi^{2} a^{2} k_{m}^{2} u^{2} \\int_{0}^{+\\infty} \\frac{n_{x}^{7} \\left \\lfloor n_{x} \\right \\rfloor \\mathrm{D}_{0, 0}\\left(f\\right)\\left(\\frac{\\pi \\sqrt{n_{x}^{2} + u^{2}}}{a k_{m}}\\right)}{\\sqrt{n_{x}^{2} + u^{2}} n_{x}^{6} + 3 \\, \\sqrt{n_{x}^{2} + u^{2}} n_{x}^{4} u^{2} + 3 \\, \\sqrt{n_{x}^{2} + u^{2}} n_{x}^{2} u^{4} + \\sqrt{n_{x}^{2} + u^{2}} u^{6}}\\,{d n_{x}} + 1080 \\, \\pi^{2} a^{2} k_{m}^{2} u^{2} \\int_{0}^{+\\infty} \\frac{n_{x}^{6} \\left \\lfloor n_{x} \\right \\rfloor^{2} \\mathrm{D}_{0, 0}\\left(f\\right)\\left(\\frac{\\pi \\sqrt{n_{x}^{2} + u^{2}}}{a k_{m}}\\right)}{\\sqrt{n_{x}^{2} + u^{2}} n_{x}^{6} + 3 \\, \\sqrt{n_{x}^{2} + u^{2}} n_{x}^{4} u^{2} + 3 \\, \\sqrt{n_{x}^{2} + u^{2}} n_{x}^{2} u^{4} + \\sqrt{n_{x}^{2} + u^{2}} u^{6}}\\,{d n_{x}} - 720 \\, \\pi^{2} a^{2} k_{m}^{2} u^{2} \\int_{0}^{+\\infty} \\frac{n_{x}^{5} \\left \\lfloor n_{x} \\right \\rfloor^{3} \\mathrm{D}_{0, 0}\\left(f\\right)\\left(\\frac{\\pi \\sqrt{n_{x}^{2} + u^{2}}}{a k_{m}}\\right)}{\\sqrt{n_{x}^{2} + u^{2}} n_{x}^{6} + 3 \\, \\sqrt{n_{x}^{2} + u^{2}} n_{x}^{4} u^{2} + 3 \\, \\sqrt{n_{x}^{2} + u^{2}} n_{x}^{2} u^{4} + \\sqrt{n_{x}^{2} + u^{2}} u^{6}}\\,{d n_{x}} + 180 \\, \\pi^{2} a^{2} k_{m}^{2} u^{2} \\int_{0}^{+\\infty} \\frac{n_{x}^{4} \\left \\lfloor n_{x} \\right \\rfloor^{4} \\mathrm{D}_{0, 0}\\left(f\\right)\\left(\\frac{\\pi \\sqrt{n_{x}^{2} + u^{2}}}{a k_{m}}\\right)}{\\sqrt{n_{x}^{2} + u^{2}} n_{x}^{6} + 3 \\, \\sqrt{n_{x}^{2} + u^{2}} n_{x}^{4} u^{2} + 3 \\, \\sqrt{n_{x}^{2} + u^{2}} n_{x}^{2} u^{4} + \\sqrt{n_{x}^{2} + u^{2}} u^{6}}\\,{d n_{x}} + 30 \\, \\pi^{4} u^{4} \\int_{0}^{+\\infty} \\frac{n_{x}^{8} \\mathrm{D}_{0, 0, 0, 0}\\left(f\\right)\\left(\\frac{\\pi \\sqrt{n_{x}^{2} + u^{2}}}{a k_{m}}\\right)}{\\sqrt{n_{x}^{2} + u^{2}} n_{x}^{6} + 3 \\, \\sqrt{n_{x}^{2} + u^{2}} n_{x}^{4} u^{2} + 3 \\, \\sqrt{n_{x}^{2} + u^{2}} n_{x}^{2} u^{4} + \\sqrt{n_{x}^{2} + u^{2}} u^{6}}\\,{d n_{x}} - 120 \\, \\pi^{4} u^{4} \\int_{0}^{+\\infty} \\frac{n_{x}^{7} \\left \\lfloor n_{x} \\right \\rfloor \\mathrm{D}_{0, 0, 0, 0}\\left(f\\right)\\left(\\frac{\\pi \\sqrt{n_{x}^{2} + u^{2}}}{a k_{m}}\\right)}{\\sqrt{n_{x}^{2} + u^{2}} n_{x}^{6} + 3 \\, \\sqrt{n_{x}^{2} + u^{2}} n_{x}^{4} u^{2} + 3 \\, \\sqrt{n_{x}^{2} + u^{2}} n_{x}^{2} u^{4} + \\sqrt{n_{x}^{2} + u^{2}} u^{6}}\\,{d n_{x}} + 180 \\, \\pi^{4} u^{4} \\int_{0}^{+\\infty} \\frac{n_{x}^{6} \\left \\lfloor n_{x} \\right \\rfloor^{2} \\mathrm{D}_{0, 0, 0, 0}\\left(f\\right)\\left(\\frac{\\pi \\sqrt{n_{x}^{2} + u^{2}}}{a k_{m}}\\right)}{\\sqrt{n_{x}^{2} + u^{2}} n_{x}^{6} + 3 \\, \\sqrt{n_{x}^{2} + u^{2}} n_{x}^{4} u^{2} + 3 \\, \\sqrt{n_{x}^{2} + u^{2}} n_{x}^{2} u^{4} + \\sqrt{n_{x}^{2} + u^{2}} u^{6}}\\,{d n_{x}} - 120 \\, \\pi^{4} u^{4} \\int_{0}^{+\\infty} \\frac{n_{x}^{5} \\left \\lfloor n_{x} \\right \\rfloor^{3} \\mathrm{D}_{0, 0, 0, 0}\\left(f\\right)\\left(\\frac{\\pi \\sqrt{n_{x}^{2} + u^{2}}}{a k_{m}}\\right)}{\\sqrt{n_{x}^{2} + u^{2}} n_{x}^{6} + 3 \\, \\sqrt{n_{x}^{2} + u^{2}} n_{x}^{4} u^{2} + 3 \\, \\sqrt{n_{x}^{2} + u^{2}} n_{x}^{2} u^{4} + \\sqrt{n_{x}^{2} + u^{2}} u^{6}}\\,{d n_{x}} + 30 \\, \\pi^{4} u^{4} \\int_{0}^{+\\infty} \\frac{n_{x}^{4} \\left \\lfloor n_{x} \\right \\rfloor^{4} \\mathrm{D}_{0, 0, 0, 0}\\left(f\\right)\\left(\\frac{\\pi \\sqrt{n_{x}^{2} + u^{2}}}{a k_{m}}\\right)}{\\sqrt{n_{x}^{2} + u^{2}} n_{x}^{6} + 3 \\, \\sqrt{n_{x}^{2} + u^{2}} n_{x}^{4} u^{2} + 3 \\, \\sqrt{n_{x}^{2} + u^{2}} n_{x}^{2} u^{4} + \\sqrt{n_{x}^{2} + u^{2}} u^{6}}\\,{d n_{x}} - 360 \\, \\pi^{2} a^{2} k_{m}^{2} u^{2} \\int_{0}^{+\\infty} \\frac{n_{x}^{7} \\mathrm{D}_{0, 0}\\left(f\\right)\\left(\\frac{\\pi \\sqrt{n_{x}^{2} + u^{2}}}{a k_{m}}\\right)}{\\sqrt{n_{x}^{2} + u^{2}} n_{x}^{6} + 3 \\, \\sqrt{n_{x}^{2} + u^{2}} n_{x}^{4} u^{2} + 3 \\, \\sqrt{n_{x}^{2} + u^{2}} n_{x}^{2} u^{4} + \\sqrt{n_{x}^{2} + u^{2}} u^{6}}\\,{d n_{x}} + 1080 \\, \\pi^{2} a^{2} k_{m}^{2} u^{2} \\int_{0}^{+\\infty} \\frac{n_{x}^{6} \\left \\lfloor n_{x} \\right \\rfloor \\mathrm{D}_{0, 0}\\left(f\\right)\\left(\\frac{\\pi \\sqrt{n_{x}^{2} + u^{2}}}{a k_{m}}\\right)}{\\sqrt{n_{x}^{2} + u^{2}} n_{x}^{6} + 3 \\, \\sqrt{n_{x}^{2} + u^{2}} n_{x}^{4} u^{2} + 3 \\, \\sqrt{n_{x}^{2} + u^{2}} n_{x}^{2} u^{4} + \\sqrt{n_{x}^{2} + u^{2}} u^{6}}\\,{d n_{x}} - 1080 \\, \\pi^{2} a^{2} k_{m}^{2} u^{2} \\int_{0}^{+\\infty} \\frac{n_{x}^{5} \\left \\lfloor n_{x} \\right \\rfloor^{2} \\mathrm{D}_{0, 0}\\left(f\\right)\\left(\\frac{\\pi \\sqrt{n_{x}^{2} + u^{2}}}{a k_{m}}\\right)}{\\sqrt{n_{x}^{2} + u^{2}} n_{x}^{6} + 3 \\, \\sqrt{n_{x}^{2} + u^{2}} n_{x}^{4} u^{2} + 3 \\, \\sqrt{n_{x}^{2} + u^{2}} n_{x}^{2} u^{4} + \\sqrt{n_{x}^{2} + u^{2}} u^{6}}\\,{d n_{x}} + 360 \\, \\pi^{2} a^{2} k_{m}^{2} u^{2} \\int_{0}^{+\\infty} \\frac{n_{x}^{4} \\left \\lfloor n_{x} \\right \\rfloor^{3} \\mathrm{D}_{0, 0}\\left(f\\right)\\left(\\frac{\\pi \\sqrt{n_{x}^{2} + u^{2}}}{a k_{m}}\\right)}{\\sqrt{n_{x}^{2} + u^{2}} n_{x}^{6} + 3 \\, \\sqrt{n_{x}^{2} + u^{2}} n_{x}^{4} u^{2} + 3 \\, \\sqrt{n_{x}^{2} + u^{2}} n_{x}^{2} u^{4} + \\sqrt{n_{x}^{2} + u^{2}} u^{6}}\\,{d n_{x}} - 60 \\, \\pi^{4} u^{4} \\int_{0}^{+\\infty} \\frac{n_{x}^{7} \\mathrm{D}_{0, 0, 0, 0}\\left(f\\right)\\left(\\frac{\\pi \\sqrt{n_{x}^{2} + u^{2}}}{a k_{m}}\\right)}{\\sqrt{n_{x}^{2} + u^{2}} n_{x}^{6} + 3 \\, \\sqrt{n_{x}^{2} + u^{2}} n_{x}^{4} u^{2} + 3 \\, \\sqrt{n_{x}^{2} + u^{2}} n_{x}^{2} u^{4} + \\sqrt{n_{x}^{2} + u^{2}} u^{6}}\\,{d n_{x}} + 180 \\, \\pi^{4} u^{4} \\int_{0}^{+\\infty} \\frac{n_{x}^{6} \\left \\lfloor n_{x} \\right \\rfloor \\mathrm{D}_{0, 0, 0, 0}\\left(f\\right)\\left(\\frac{\\pi \\sqrt{n_{x}^{2} + u^{2}}}{a k_{m}}\\right)}{\\sqrt{n_{x}^{2} + u^{2}} n_{x}^{6} + 3 \\, \\sqrt{n_{x}^{2} + u^{2}} n_{x}^{4} u^{2} + 3 \\, \\sqrt{n_{x}^{2} + u^{2}} n_{x}^{2} u^{4} + \\sqrt{n_{x}^{2} + u^{2}} u^{6}}\\,{d n_{x}} - 180 \\, \\pi^{4} u^{4} \\int_{0}^{+\\infty} \\frac{n_{x}^{5} \\left \\lfloor n_{x} \\right \\rfloor^{2} \\mathrm{D}_{0, 0, 0, 0}\\left(f\\right)\\left(\\frac{\\pi \\sqrt{n_{x}^{2} + u^{2}}}{a k_{m}}\\right)}{\\sqrt{n_{x}^{2} + u^{2}} n_{x}^{6} + 3 \\, \\sqrt{n_{x}^{2} + u^{2}} n_{x}^{4} u^{2} + 3 \\, \\sqrt{n_{x}^{2} + u^{2}} n_{x}^{2} u^{4} + \\sqrt{n_{x}^{2} + u^{2}} u^{6}}\\,{d n_{x}} + 60 \\, \\pi^{4} u^{4} \\int_{0}^{+\\infty} \\frac{n_{x}^{4} \\left \\lfloor n_{x} \\right \\rfloor^{3} \\mathrm{D}_{0, 0, 0, 0}\\left(f\\right)\\left(\\frac{\\pi \\sqrt{n_{x}^{2} + u^{2}}}{a k_{m}}\\right)}{\\sqrt{n_{x}^{2} + u^{2}} n_{x}^{6} + 3 \\, \\sqrt{n_{x}^{2} + u^{2}} n_{x}^{4} u^{2} + 3 \\, \\sqrt{n_{x}^{2} + u^{2}} n_{x}^{2} u^{4} + \\sqrt{n_{x}^{2} + u^{2}} u^{6}}\\,{d n_{x}} + 180 \\, \\pi^{2} a^{2} k_{m}^{2} u^{2} \\int_{0}^{+\\infty} \\frac{n_{x}^{6} \\mathrm{D}_{0, 0}\\left(f\\right)\\left(\\frac{\\pi \\sqrt{n_{x}^{2} + u^{2}}}{a k_{m}}\\right)}{\\sqrt{n_{x}^{2} + u^{2}} n_{x}^{6} + 3 \\, \\sqrt{n_{x}^{2} + u^{2}} n_{x}^{4} u^{2} + 3 \\, \\sqrt{n_{x}^{2} + u^{2}} n_{x}^{2} u^{4} + \\sqrt{n_{x}^{2} + u^{2}} u^{6}}\\,{d n_{x}} - 360 \\, \\pi^{2} a^{2} k_{m}^{2} u^{2} \\int_{0}^{+\\infty} \\frac{n_{x}^{5} \\left \\lfloor n_{x} \\right \\rfloor \\mathrm{D}_{0, 0}\\left(f\\right)\\left(\\frac{\\pi \\sqrt{n_{x}^{2} + u^{2}}}{a k_{m}}\\right)}{\\sqrt{n_{x}^{2} + u^{2}} n_{x}^{6} + 3 \\, \\sqrt{n_{x}^{2} + u^{2}} n_{x}^{4} u^{2} + 3 \\, \\sqrt{n_{x}^{2} + u^{2}} n_{x}^{2} u^{4} + \\sqrt{n_{x}^{2} + u^{2}} u^{6}}\\,{d n_{x}} + 180 \\, \\pi^{2} a^{2} k_{m}^{2} u^{2} \\int_{0}^{+\\infty} \\frac{n_{x}^{4} \\left \\lfloor n_{x} \\right \\rfloor^{2} \\mathrm{D}_{0, 0}\\left(f\\right)\\left(\\frac{\\pi \\sqrt{n_{x}^{2} + u^{2}}}{a k_{m}}\\right)}{\\sqrt{n_{x}^{2} + u^{2}} n_{x}^{6} + 3 \\, \\sqrt{n_{x}^{2} + u^{2}} n_{x}^{4} u^{2} + 3 \\, \\sqrt{n_{x}^{2} + u^{2}} n_{x}^{2} u^{4} + \\sqrt{n_{x}^{2} + u^{2}} u^{6}}\\,{d n_{x}} + 30 \\, \\pi^{4} u^{4} \\int_{0}^{+\\infty} \\frac{n_{x}^{6} \\mathrm{D}_{0, 0, 0, 0}\\left(f\\right)\\left(\\frac{\\pi \\sqrt{n_{x}^{2} + u^{2}}}{a k_{m}}\\right)}{\\sqrt{n_{x}^{2} + u^{2}} n_{x}^{6} + 3 \\, \\sqrt{n_{x}^{2} + u^{2}} n_{x}^{4} u^{2} + 3 \\, \\sqrt{n_{x}^{2} + u^{2}} n_{x}^{2} u^{4} + \\sqrt{n_{x}^{2} + u^{2}} u^{6}}\\,{d n_{x}} - 60 \\, \\pi^{4} u^{4} \\int_{0}^{+\\infty} \\frac{n_{x}^{5} \\left \\lfloor n_{x} \\right \\rfloor \\mathrm{D}_{0, 0, 0, 0}\\left(f\\right)\\left(\\frac{\\pi \\sqrt{n_{x}^{2} + u^{2}}}{a k_{m}}\\right)}{\\sqrt{n_{x}^{2} + u^{2}} n_{x}^{6} + 3 \\, \\sqrt{n_{x}^{2} + u^{2}} n_{x}^{4} u^{2} + 3 \\, \\sqrt{n_{x}^{2} + u^{2}} n_{x}^{2} u^{4} + \\sqrt{n_{x}^{2} + u^{2}} u^{6}}\\,{d n_{x}} + 30 \\, \\pi^{4} u^{4} \\int_{0}^{+\\infty} \\frac{n_{x}^{4} \\left \\lfloor n_{x} \\right \\rfloor^{2} \\mathrm{D}_{0, 0, 0, 0}\\left(f\\right)\\left(\\frac{\\pi \\sqrt{n_{x}^{2} + u^{2}}}{a k_{m}}\\right)}{\\sqrt{n_{x}^{2} + u^{2}} n_{x}^{6} + 3 \\, \\sqrt{n_{x}^{2} + u^{2}} n_{x}^{4} u^{2} + 3 \\, \\sqrt{n_{x}^{2} + u^{2}} n_{x}^{2} u^{4} + \\sqrt{n_{x}^{2} + u^{2}} u^{6}}\\,{d n_{x}} - 6 \\, \\pi^{2} a^{2} k_{m}^{2} u^{2} \\int_{0}^{+\\infty} \\frac{n_{x}^{4} \\mathrm{D}_{0, 0}\\left(f\\right)\\left(\\frac{\\pi \\sqrt{n_{x}^{2} + u^{2}}}{a k_{m}}\\right)}{\\sqrt{n_{x}^{2} + u^{2}} n_{x}^{6} + 3 \\, \\sqrt{n_{x}^{2} + u^{2}} n_{x}^{4} u^{2} + 3 \\, \\sqrt{n_{x}^{2} + u^{2}} n_{x}^{2} u^{4} + \\sqrt{n_{x}^{2} + u^{2}} u^{6}}\\,{d n_{x}} - \\pi^{4} u^{4} \\int_{0}^{+\\infty} \\frac{n_{x}^{4} \\mathrm{D}_{0, 0, 0, 0}\\left(f\\right)\\left(\\frac{\\pi \\sqrt{n_{x}^{2} + u^{2}}}{a k_{m}}\\right)}{\\sqrt{n_{x}^{2} + u^{2}} n_{x}^{6} + 3 \\, \\sqrt{n_{x}^{2} + u^{2}} n_{x}^{4} u^{2} + 3 \\, \\sqrt{n_{x}^{2} + u^{2}} n_{x}^{2} u^{4} + \\sqrt{n_{x}^{2} + u^{2}} u^{6}}\\,{d n_{x}} + 300 \\, \\pi^{3} a k_{m} u^{2} \\int_{0}^{+\\infty} \\frac{n_{x}^{8} \\mathrm{D}_{0, 0, 0}\\left(f\\right)\\left(\\frac{\\pi \\sqrt{n_{x}^{2} + u^{2}}}{a k_{m}}\\right)}{n_{x}^{6} + 3 \\, n_{x}^{4} u^{2} + 3 \\, n_{x}^{2} u^{4} + u^{6}}\\,{d n_{x}} - 1200 \\, \\pi^{3} a k_{m} u^{2} \\int_{0}^{+\\infty} \\frac{n_{x}^{7} \\left \\lfloor n_{x} \\right \\rfloor \\mathrm{D}_{0, 0, 0}\\left(f\\right)\\left(\\frac{\\pi \\sqrt{n_{x}^{2} + u^{2}}}{a k_{m}}\\right)}{n_{x}^{6} + 3 \\, n_{x}^{4} u^{2} + 3 \\, n_{x}^{2} u^{4} + u^{6}}\\,{d n_{x}} + 1800 \\, \\pi^{3} a k_{m} u^{2} \\int_{0}^{+\\infty} \\frac{n_{x}^{6} \\left \\lfloor n_{x} \\right \\rfloor^{2} \\mathrm{D}_{0, 0, 0}\\left(f\\right)\\left(\\frac{\\pi \\sqrt{n_{x}^{2} + u^{2}}}{a k_{m}}\\right)}{n_{x}^{6} + 3 \\, n_{x}^{4} u^{2} + 3 \\, n_{x}^{2} u^{4} + u^{6}}\\,{d n_{x}} - 1200 \\, \\pi^{3} a k_{m} u^{2} \\int_{0}^{+\\infty} \\frac{n_{x}^{5} \\left \\lfloor n_{x} \\right \\rfloor^{3} \\mathrm{D}_{0, 0, 0}\\left(f\\right)\\left(\\frac{\\pi \\sqrt{n_{x}^{2} + u^{2}}}{a k_{m}}\\right)}{n_{x}^{6} + 3 \\, n_{x}^{4} u^{2} + 3 \\, n_{x}^{2} u^{4} + u^{6}}\\,{d n_{x}} + 300 \\, \\pi^{3} a k_{m} u^{2} \\int_{0}^{+\\infty} \\frac{n_{x}^{4} \\left \\lfloor n_{x} \\right \\rfloor^{4} \\mathrm{D}_{0, 0, 0}\\left(f\\right)\\left(\\frac{\\pi \\sqrt{n_{x}^{2} + u^{2}}}{a k_{m}}\\right)}{n_{x}^{6} + 3 \\, n_{x}^{4} u^{2} + 3 \\, n_{x}^{2} u^{4} + u^{6}}\\,{d n_{x}} - 600 \\, \\pi^{3} a k_{m} u^{2} \\int_{0}^{+\\infty} \\frac{n_{x}^{7} \\mathrm{D}_{0, 0, 0}\\left(f\\right)\\left(\\frac{\\pi \\sqrt{n_{x}^{2} + u^{2}}}{a k_{m}}\\right)}{n_{x}^{6} + 3 \\, n_{x}^{4} u^{2} + 3 \\, n_{x}^{2} u^{4} + u^{6}}\\,{d n_{x}} + 1800 \\, \\pi^{3} a k_{m} u^{2} \\int_{0}^{+\\infty} \\frac{n_{x}^{6} \\left \\lfloor n_{x} \\right \\rfloor \\mathrm{D}_{0, 0, 0}\\left(f\\right)\\left(\\frac{\\pi \\sqrt{n_{x}^{2} + u^{2}}}{a k_{m}}\\right)}{n_{x}^{6} + 3 \\, n_{x}^{4} u^{2} + 3 \\, n_{x}^{2} u^{4} + u^{6}}\\,{d n_{x}} - 1800 \\, \\pi^{3} a k_{m} u^{2} \\int_{0}^{+\\infty} \\frac{n_{x}^{5} \\left \\lfloor n_{x} \\right \\rfloor^{2} \\mathrm{D}_{0, 0, 0}\\left(f\\right)\\left(\\frac{\\pi \\sqrt{n_{x}^{2} + u^{2}}}{a k_{m}}\\right)}{n_{x}^{6} + 3 \\, n_{x}^{4} u^{2} + 3 \\, n_{x}^{2} u^{4} + u^{6}}\\,{d n_{x}} + 600 \\, \\pi^{3} a k_{m} u^{2} \\int_{0}^{+\\infty} \\frac{n_{x}^{4} \\left \\lfloor n_{x} \\right \\rfloor^{3} \\mathrm{D}_{0, 0, 0}\\left(f\\right)\\left(\\frac{\\pi \\sqrt{n_{x}^{2} + u^{2}}}{a k_{m}}\\right)}{n_{x}^{6} + 3 \\, n_{x}^{4} u^{2} + 3 \\, n_{x}^{2} u^{4} + u^{6}}\\,{d n_{x}} + 300 \\, \\pi^{3} a k_{m} u^{2} \\int_{0}^{+\\infty} \\frac{n_{x}^{6} \\mathrm{D}_{0, 0, 0}\\left(f\\right)\\left(\\frac{\\pi \\sqrt{n_{x}^{2} + u^{2}}}{a k_{m}}\\right)}{n_{x}^{6} + 3 \\, n_{x}^{4} u^{2} + 3 \\, n_{x}^{2} u^{4} + u^{6}}\\,{d n_{x}} - 600 \\, \\pi^{3} a k_{m} u^{2} \\int_{0}^{+\\infty} \\frac{n_{x}^{5} \\left \\lfloor n_{x} \\right \\rfloor \\mathrm{D}_{0, 0, 0}\\left(f\\right)\\left(\\frac{\\pi \\sqrt{n_{x}^{2} + u^{2}}}{a k_{m}}\\right)}{n_{x}^{6} + 3 \\, n_{x}^{4} u^{2} + 3 \\, n_{x}^{2} u^{4} + u^{6}}\\,{d n_{x}} + 300 \\, \\pi^{3} a k_{m} u^{2} \\int_{0}^{+\\infty} \\frac{n_{x}^{4} \\left \\lfloor n_{x} \\right \\rfloor^{2} \\mathrm{D}_{0, 0, 0}\\left(f\\right)\\left(\\frac{\\pi \\sqrt{n_{x}^{2} + u^{2}}}{a k_{m}}\\right)}{n_{x}^{6} + 3 \\, n_{x}^{4} u^{2} + 3 \\, n_{x}^{2} u^{4} + u^{6}}\\,{d n_{x}} - 10 \\, \\pi^{3} a k_{m} u^{2} \\int_{0}^{+\\infty} \\frac{n_{x}^{4} \\mathrm{D}_{0, 0, 0}\\left(f\\right)\\left(\\frac{\\pi \\sqrt{n_{x}^{2} + u^{2}}}{a k_{m}}\\right)}{n_{x}^{6} + 3 \\, n_{x}^{4} u^{2} + 3 \\, n_{x}^{2} u^{4} + u^{6}}\\,{d n_{x}} + 60 \\, \\pi^{4} u^{2} \\int_{0}^{+\\infty} \\frac{n_{x}^{10} \\mathrm{D}_{0, 0, 0, 0}\\left(f\\right)\\left(\\frac{\\pi \\sqrt{n_{x}^{2} + u^{2}}}{a k_{m}}\\right)}{\\sqrt{n_{x}^{2} + u^{2}} n_{x}^{6} + 3 \\, \\sqrt{n_{x}^{2} + u^{2}} n_{x}^{4} u^{2} + 3 \\, \\sqrt{n_{x}^{2} + u^{2}} n_{x}^{2} u^{4} + \\sqrt{n_{x}^{2} + u^{2}} u^{6}}\\,{d n_{x}} - 240 \\, \\pi^{4} u^{2} \\int_{0}^{+\\infty} \\frac{n_{x}^{9} \\left \\lfloor n_{x} \\right \\rfloor \\mathrm{D}_{0, 0, 0, 0}\\left(f\\right)\\left(\\frac{\\pi \\sqrt{n_{x}^{2} + u^{2}}}{a k_{m}}\\right)}{\\sqrt{n_{x}^{2} + u^{2}} n_{x}^{6} + 3 \\, \\sqrt{n_{x}^{2} + u^{2}} n_{x}^{4} u^{2} + 3 \\, \\sqrt{n_{x}^{2} + u^{2}} n_{x}^{2} u^{4} + \\sqrt{n_{x}^{2} + u^{2}} u^{6}}\\,{d n_{x}} + 360 \\, \\pi^{4} u^{2} \\int_{0}^{+\\infty} \\frac{n_{x}^{8} \\left \\lfloor n_{x} \\right \\rfloor^{2} \\mathrm{D}_{0, 0, 0, 0}\\left(f\\right)\\left(\\frac{\\pi \\sqrt{n_{x}^{2} + u^{2}}}{a k_{m}}\\right)}{\\sqrt{n_{x}^{2} + u^{2}} n_{x}^{6} + 3 \\, \\sqrt{n_{x}^{2} + u^{2}} n_{x}^{4} u^{2} + 3 \\, \\sqrt{n_{x}^{2} + u^{2}} n_{x}^{2} u^{4} + \\sqrt{n_{x}^{2} + u^{2}} u^{6}}\\,{d n_{x}} - 240 \\, \\pi^{4} u^{2} \\int_{0}^{+\\infty} \\frac{n_{x}^{7} \\left \\lfloor n_{x} \\right \\rfloor^{3} \\mathrm{D}_{0, 0, 0, 0}\\left(f\\right)\\left(\\frac{\\pi \\sqrt{n_{x}^{2} + u^{2}}}{a k_{m}}\\right)}{\\sqrt{n_{x}^{2} + u^{2}} n_{x}^{6} + 3 \\, \\sqrt{n_{x}^{2} + u^{2}} n_{x}^{4} u^{2} + 3 \\, \\sqrt{n_{x}^{2} + u^{2}} n_{x}^{2} u^{4} + \\sqrt{n_{x}^{2} + u^{2}} u^{6}}\\,{d n_{x}} + 60 \\, \\pi^{4} u^{2} \\int_{0}^{+\\infty} \\frac{n_{x}^{6} \\left \\lfloor n_{x} \\right \\rfloor^{4} \\mathrm{D}_{0, 0, 0, 0}\\left(f\\right)\\left(\\frac{\\pi \\sqrt{n_{x}^{2} + u^{2}}}{a k_{m}}\\right)}{\\sqrt{n_{x}^{2} + u^{2}} n_{x}^{6} + 3 \\, \\sqrt{n_{x}^{2} + u^{2}} n_{x}^{4} u^{2} + 3 \\, \\sqrt{n_{x}^{2} + u^{2}} n_{x}^{2} u^{4} + \\sqrt{n_{x}^{2} + u^{2}} u^{6}}\\,{d n_{x}} - 120 \\, \\pi^{4} u^{2} \\int_{0}^{+\\infty} \\frac{n_{x}^{9} \\mathrm{D}_{0, 0, 0, 0}\\left(f\\right)\\left(\\frac{\\pi \\sqrt{n_{x}^{2} + u^{2}}}{a k_{m}}\\right)}{\\sqrt{n_{x}^{2} + u^{2}} n_{x}^{6} + 3 \\, \\sqrt{n_{x}^{2} + u^{2}} n_{x}^{4} u^{2} + 3 \\, \\sqrt{n_{x}^{2} + u^{2}} n_{x}^{2} u^{4} + \\sqrt{n_{x}^{2} + u^{2}} u^{6}}\\,{d n_{x}} + 360 \\, \\pi^{4} u^{2} \\int_{0}^{+\\infty} \\frac{n_{x}^{8} \\left \\lfloor n_{x} \\right \\rfloor \\mathrm{D}_{0, 0, 0, 0}\\left(f\\right)\\left(\\frac{\\pi \\sqrt{n_{x}^{2} + u^{2}}}{a k_{m}}\\right)}{\\sqrt{n_{x}^{2} + u^{2}} n_{x}^{6} + 3 \\, \\sqrt{n_{x}^{2} + u^{2}} n_{x}^{4} u^{2} + 3 \\, \\sqrt{n_{x}^{2} + u^{2}} n_{x}^{2} u^{4} + \\sqrt{n_{x}^{2} + u^{2}} u^{6}}\\,{d n_{x}} - 360 \\, \\pi^{4} u^{2} \\int_{0}^{+\\infty} \\frac{n_{x}^{7} \\left \\lfloor n_{x} \\right \\rfloor^{2} \\mathrm{D}_{0, 0, 0, 0}\\left(f\\right)\\left(\\frac{\\pi \\sqrt{n_{x}^{2} + u^{2}}}{a k_{m}}\\right)}{\\sqrt{n_{x}^{2} + u^{2}} n_{x}^{6} + 3 \\, \\sqrt{n_{x}^{2} + u^{2}} n_{x}^{4} u^{2} + 3 \\, \\sqrt{n_{x}^{2} + u^{2}} n_{x}^{2} u^{4} + \\sqrt{n_{x}^{2} + u^{2}} u^{6}}\\,{d n_{x}} + 120 \\, \\pi^{4} u^{2} \\int_{0}^{+\\infty} \\frac{n_{x}^{6} \\left \\lfloor n_{x} \\right \\rfloor^{3} \\mathrm{D}_{0, 0, 0, 0}\\left(f\\right)\\left(\\frac{\\pi \\sqrt{n_{x}^{2} + u^{2}}}{a k_{m}}\\right)}{\\sqrt{n_{x}^{2} + u^{2}} n_{x}^{6} + 3 \\, \\sqrt{n_{x}^{2} + u^{2}} n_{x}^{4} u^{2} + 3 \\, \\sqrt{n_{x}^{2} + u^{2}} n_{x}^{2} u^{4} + \\sqrt{n_{x}^{2} + u^{2}} u^{6}}\\,{d n_{x}} + 60 \\, \\pi^{4} u^{2} \\int_{0}^{+\\infty} \\frac{n_{x}^{8} \\mathrm{D}_{0, 0, 0, 0}\\left(f\\right)\\left(\\frac{\\pi \\sqrt{n_{x}^{2} + u^{2}}}{a k_{m}}\\right)}{\\sqrt{n_{x}^{2} + u^{2}} n_{x}^{6} + 3 \\, \\sqrt{n_{x}^{2} + u^{2}} n_{x}^{4} u^{2} + 3 \\, \\sqrt{n_{x}^{2} + u^{2}} n_{x}^{2} u^{4} + \\sqrt{n_{x}^{2} + u^{2}} u^{6}}\\,{d n_{x}} - 120 \\, \\pi^{4} u^{2} \\int_{0}^{+\\infty} \\frac{n_{x}^{7} \\left \\lfloor n_{x} \\right \\rfloor \\mathrm{D}_{0, 0, 0, 0}\\left(f\\right)\\left(\\frac{\\pi \\sqrt{n_{x}^{2} + u^{2}}}{a k_{m}}\\right)}{\\sqrt{n_{x}^{2} + u^{2}} n_{x}^{6} + 3 \\, \\sqrt{n_{x}^{2} + u^{2}} n_{x}^{4} u^{2} + 3 \\, \\sqrt{n_{x}^{2} + u^{2}} n_{x}^{2} u^{4} + \\sqrt{n_{x}^{2} + u^{2}} u^{6}}\\,{d n_{x}} + 60 \\, \\pi^{4} u^{2} \\int_{0}^{+\\infty} \\frac{n_{x}^{6} \\left \\lfloor n_{x} \\right \\rfloor^{2} \\mathrm{D}_{0, 0, 0, 0}\\left(f\\right)\\left(\\frac{\\pi \\sqrt{n_{x}^{2} + u^{2}}}{a k_{m}}\\right)}{\\sqrt{n_{x}^{2} + u^{2}} n_{x}^{6} + 3 \\, \\sqrt{n_{x}^{2} + u^{2}} n_{x}^{4} u^{2} + 3 \\, \\sqrt{n_{x}^{2} + u^{2}} n_{x}^{2} u^{4} + \\sqrt{n_{x}^{2} + u^{2}} u^{6}}\\,{d n_{x}} - 2 \\, \\pi^{4} u^{2} \\int_{0}^{+\\infty} \\frac{n_{x}^{6} \\mathrm{D}_{0, 0, 0, 0}\\left(f\\right)\\left(\\frac{\\pi \\sqrt{n_{x}^{2} + u^{2}}}{a k_{m}}\\right)}{\\sqrt{n_{x}^{2} + u^{2}} n_{x}^{6} + 3 \\, \\sqrt{n_{x}^{2} + u^{2}} n_{x}^{4} u^{2} + 3 \\, \\sqrt{n_{x}^{2} + u^{2}} n_{x}^{2} u^{4} + \\sqrt{n_{x}^{2} + u^{2}} u^{6}}\\,{d n_{x}} + 120 \\, \\pi^{3} a k_{m} \\int_{0}^{+\\infty} \\frac{n_{x}^{10} \\mathrm{D}_{0, 0, 0}\\left(f\\right)\\left(\\frac{\\pi \\sqrt{n_{x}^{2} + u^{2}}}{a k_{m}}\\right)}{n_{x}^{6} + 3 \\, n_{x}^{4} u^{2} + 3 \\, n_{x}^{2} u^{4} + u^{6}}\\,{d n_{x}} - 480 \\, \\pi^{3} a k_{m} \\int_{0}^{+\\infty} \\frac{n_{x}^{9} \\left \\lfloor n_{x} \\right \\rfloor \\mathrm{D}_{0, 0, 0}\\left(f\\right)\\left(\\frac{\\pi \\sqrt{n_{x}^{2} + u^{2}}}{a k_{m}}\\right)}{n_{x}^{6} + 3 \\, n_{x}^{4} u^{2} + 3 \\, n_{x}^{2} u^{4} + u^{6}}\\,{d n_{x}} + 720 \\, \\pi^{3} a k_{m} \\int_{0}^{+\\infty} \\frac{n_{x}^{8} \\left \\lfloor n_{x} \\right \\rfloor^{2} \\mathrm{D}_{0, 0, 0}\\left(f\\right)\\left(\\frac{\\pi \\sqrt{n_{x}^{2} + u^{2}}}{a k_{m}}\\right)}{n_{x}^{6} + 3 \\, n_{x}^{4} u^{2} + 3 \\, n_{x}^{2} u^{4} + u^{6}}\\,{d n_{x}} - 480 \\, \\pi^{3} a k_{m} \\int_{0}^{+\\infty} \\frac{n_{x}^{7} \\left \\lfloor n_{x} \\right \\rfloor^{3} \\mathrm{D}_{0, 0, 0}\\left(f\\right)\\left(\\frac{\\pi \\sqrt{n_{x}^{2} + u^{2}}}{a k_{m}}\\right)}{n_{x}^{6} + 3 \\, n_{x}^{4} u^{2} + 3 \\, n_{x}^{2} u^{4} + u^{6}}\\,{d n_{x}} + 120 \\, \\pi^{3} a k_{m} \\int_{0}^{+\\infty} \\frac{n_{x}^{6} \\left \\lfloor n_{x} \\right \\rfloor^{4} \\mathrm{D}_{0, 0, 0}\\left(f\\right)\\left(\\frac{\\pi \\sqrt{n_{x}^{2} + u^{2}}}{a k_{m}}\\right)}{n_{x}^{6} + 3 \\, n_{x}^{4} u^{2} + 3 \\, n_{x}^{2} u^{4} + u^{6}}\\,{d n_{x}} - 240 \\, \\pi^{3} a k_{m} \\int_{0}^{+\\infty} \\frac{n_{x}^{9} \\mathrm{D}_{0, 0, 0}\\left(f\\right)\\left(\\frac{\\pi \\sqrt{n_{x}^{2} + u^{2}}}{a k_{m}}\\right)}{n_{x}^{6} + 3 \\, n_{x}^{4} u^{2} + 3 \\, n_{x}^{2} u^{4} + u^{6}}\\,{d n_{x}} + 720 \\, \\pi^{3} a k_{m} \\int_{0}^{+\\infty} \\frac{n_{x}^{8} \\left \\lfloor n_{x} \\right \\rfloor \\mathrm{D}_{0, 0, 0}\\left(f\\right)\\left(\\frac{\\pi \\sqrt{n_{x}^{2} + u^{2}}}{a k_{m}}\\right)}{n_{x}^{6} + 3 \\, n_{x}^{4} u^{2} + 3 \\, n_{x}^{2} u^{4} + u^{6}}\\,{d n_{x}} - 720 \\, \\pi^{3} a k_{m} \\int_{0}^{+\\infty} \\frac{n_{x}^{7} \\left \\lfloor n_{x} \\right \\rfloor^{2} \\mathrm{D}_{0, 0, 0}\\left(f\\right)\\left(\\frac{\\pi \\sqrt{n_{x}^{2} + u^{2}}}{a k_{m}}\\right)}{n_{x}^{6} + 3 \\, n_{x}^{4} u^{2} + 3 \\, n_{x}^{2} u^{4} + u^{6}}\\,{d n_{x}} + 240 \\, \\pi^{3} a k_{m} \\int_{0}^{+\\infty} \\frac{n_{x}^{6} \\left \\lfloor n_{x} \\right \\rfloor^{3} \\mathrm{D}_{0, 0, 0}\\left(f\\right)\\left(\\frac{\\pi \\sqrt{n_{x}^{2} + u^{2}}}{a k_{m}}\\right)}{n_{x}^{6} + 3 \\, n_{x}^{4} u^{2} + 3 \\, n_{x}^{2} u^{4} + u^{6}}\\,{d n_{x}} + 120 \\, \\pi^{3} a k_{m} \\int_{0}^{+\\infty} \\frac{n_{x}^{8} \\mathrm{D}_{0, 0, 0}\\left(f\\right)\\left(\\frac{\\pi \\sqrt{n_{x}^{2} + u^{2}}}{a k_{m}}\\right)}{n_{x}^{6} + 3 \\, n_{x}^{4} u^{2} + 3 \\, n_{x}^{2} u^{4} + u^{6}}\\,{d n_{x}} - 240 \\, \\pi^{3} a k_{m} \\int_{0}^{+\\infty} \\frac{n_{x}^{7} \\left \\lfloor n_{x} \\right \\rfloor \\mathrm{D}_{0, 0, 0}\\left(f\\right)\\left(\\frac{\\pi \\sqrt{n_{x}^{2} + u^{2}}}{a k_{m}}\\right)}{n_{x}^{6} + 3 \\, n_{x}^{4} u^{2} + 3 \\, n_{x}^{2} u^{4} + u^{6}}\\,{d n_{x}} + 120 \\, \\pi^{3} a k_{m} \\int_{0}^{+\\infty} \\frac{n_{x}^{6} \\left \\lfloor n_{x} \\right \\rfloor^{2} \\mathrm{D}_{0, 0, 0}\\left(f\\right)\\left(\\frac{\\pi \\sqrt{n_{x}^{2} + u^{2}}}{a k_{m}}\\right)}{n_{x}^{6} + 3 \\, n_{x}^{4} u^{2} + 3 \\, n_{x}^{2} u^{4} + u^{6}}\\,{d n_{x}} - 4 \\, \\pi^{3} a k_{m} \\int_{0}^{+\\infty} \\frac{n_{x}^{6} \\mathrm{D}_{0, 0, 0}\\left(f\\right)\\left(\\frac{\\pi \\sqrt{n_{x}^{2} + u^{2}}}{a k_{m}}\\right)}{n_{x}^{6} + 3 \\, n_{x}^{4} u^{2} + 3 \\, n_{x}^{2} u^{4} + u^{6}}\\,{d n_{x}} + 30 \\, \\pi^{4} \\int_{0}^{+\\infty} \\frac{n_{x}^{12} \\mathrm{D}_{0, 0, 0, 0}\\left(f\\right)\\left(\\frac{\\pi \\sqrt{n_{x}^{2} + u^{2}}}{a k_{m}}\\right)}{\\sqrt{n_{x}^{2} + u^{2}} n_{x}^{6} + 3 \\, \\sqrt{n_{x}^{2} + u^{2}} n_{x}^{4} u^{2} + 3 \\, \\sqrt{n_{x}^{2} + u^{2}} n_{x}^{2} u^{4} + \\sqrt{n_{x}^{2} + u^{2}} u^{6}}\\,{d n_{x}} - 120 \\, \\pi^{4} \\int_{0}^{+\\infty} \\frac{n_{x}^{11} \\left \\lfloor n_{x} \\right \\rfloor \\mathrm{D}_{0, 0, 0, 0}\\left(f\\right)\\left(\\frac{\\pi \\sqrt{n_{x}^{2} + u^{2}}}{a k_{m}}\\right)}{\\sqrt{n_{x}^{2} + u^{2}} n_{x}^{6} + 3 \\, \\sqrt{n_{x}^{2} + u^{2}} n_{x}^{4} u^{2} + 3 \\, \\sqrt{n_{x}^{2} + u^{2}} n_{x}^{2} u^{4} + \\sqrt{n_{x}^{2} + u^{2}} u^{6}}\\,{d n_{x}} + 180 \\, \\pi^{4} \\int_{0}^{+\\infty} \\frac{n_{x}^{10} \\left \\lfloor n_{x} \\right \\rfloor^{2} \\mathrm{D}_{0, 0, 0, 0}\\left(f\\right)\\left(\\frac{\\pi \\sqrt{n_{x}^{2} + u^{2}}}{a k_{m}}\\right)}{\\sqrt{n_{x}^{2} + u^{2}} n_{x}^{6} + 3 \\, \\sqrt{n_{x}^{2} + u^{2}} n_{x}^{4} u^{2} + 3 \\, \\sqrt{n_{x}^{2} + u^{2}} n_{x}^{2} u^{4} + \\sqrt{n_{x}^{2} + u^{2}} u^{6}}\\,{d n_{x}} - 120 \\, \\pi^{4} \\int_{0}^{+\\infty} \\frac{n_{x}^{9} \\left \\lfloor n_{x} \\right \\rfloor^{3} \\mathrm{D}_{0, 0, 0, 0}\\left(f\\right)\\left(\\frac{\\pi \\sqrt{n_{x}^{2} + u^{2}}}{a k_{m}}\\right)}{\\sqrt{n_{x}^{2} + u^{2}} n_{x}^{6} + 3 \\, \\sqrt{n_{x}^{2} + u^{2}} n_{x}^{4} u^{2} + 3 \\, \\sqrt{n_{x}^{2} + u^{2}} n_{x}^{2} u^{4} + \\sqrt{n_{x}^{2} + u^{2}} u^{6}}\\,{d n_{x}} + 30 \\, \\pi^{4} \\int_{0}^{+\\infty} \\frac{n_{x}^{8} \\left \\lfloor n_{x} \\right \\rfloor^{4} \\mathrm{D}_{0, 0, 0, 0}\\left(f\\right)\\left(\\frac{\\pi \\sqrt{n_{x}^{2} + u^{2}}}{a k_{m}}\\right)}{\\sqrt{n_{x}^{2} + u^{2}} n_{x}^{6} + 3 \\, \\sqrt{n_{x}^{2} + u^{2}} n_{x}^{4} u^{2} + 3 \\, \\sqrt{n_{x}^{2} + u^{2}} n_{x}^{2} u^{4} + \\sqrt{n_{x}^{2} + u^{2}} u^{6}}\\,{d n_{x}} - 60 \\, \\pi^{4} \\int_{0}^{+\\infty} \\frac{n_{x}^{11} \\mathrm{D}_{0, 0, 0, 0}\\left(f\\right)\\left(\\frac{\\pi \\sqrt{n_{x}^{2} + u^{2}}}{a k_{m}}\\right)}{\\sqrt{n_{x}^{2} + u^{2}} n_{x}^{6} + 3 \\, \\sqrt{n_{x}^{2} + u^{2}} n_{x}^{4} u^{2} + 3 \\, \\sqrt{n_{x}^{2} + u^{2}} n_{x}^{2} u^{4} + \\sqrt{n_{x}^{2} + u^{2}} u^{6}}\\,{d n_{x}} + 180 \\, \\pi^{4} \\int_{0}^{+\\infty} \\frac{n_{x}^{10} \\left \\lfloor n_{x} \\right \\rfloor \\mathrm{D}_{0, 0, 0, 0}\\left(f\\right)\\left(\\frac{\\pi \\sqrt{n_{x}^{2} + u^{2}}}{a k_{m}}\\right)}{\\sqrt{n_{x}^{2} + u^{2}} n_{x}^{6} + 3 \\, \\sqrt{n_{x}^{2} + u^{2}} n_{x}^{4} u^{2} + 3 \\, \\sqrt{n_{x}^{2} + u^{2}} n_{x}^{2} u^{4} + \\sqrt{n_{x}^{2} + u^{2}} u^{6}}\\,{d n_{x}} - 180 \\, \\pi^{4} \\int_{0}^{+\\infty} \\frac{n_{x}^{9} \\left \\lfloor n_{x} \\right \\rfloor^{2} \\mathrm{D}_{0, 0, 0, 0}\\left(f\\right)\\left(\\frac{\\pi \\sqrt{n_{x}^{2} + u^{2}}}{a k_{m}}\\right)}{\\sqrt{n_{x}^{2} + u^{2}} n_{x}^{6} + 3 \\, \\sqrt{n_{x}^{2} + u^{2}} n_{x}^{4} u^{2} + 3 \\, \\sqrt{n_{x}^{2} + u^{2}} n_{x}^{2} u^{4} + \\sqrt{n_{x}^{2} + u^{2}} u^{6}}\\,{d n_{x}} + 60 \\, \\pi^{4} \\int_{0}^{+\\infty} \\frac{n_{x}^{8} \\left \\lfloor n_{x} \\right \\rfloor^{3} \\mathrm{D}_{0, 0, 0, 0}\\left(f\\right)\\left(\\frac{\\pi \\sqrt{n_{x}^{2} + u^{2}}}{a k_{m}}\\right)}{\\sqrt{n_{x}^{2} + u^{2}} n_{x}^{6} + 3 \\, \\sqrt{n_{x}^{2} + u^{2}} n_{x}^{4} u^{2} + 3 \\, \\sqrt{n_{x}^{2} + u^{2}} n_{x}^{2} u^{4} + \\sqrt{n_{x}^{2} + u^{2}} u^{6}}\\,{d n_{x}} + 30 \\, \\pi^{4} \\int_{0}^{+\\infty} \\frac{n_{x}^{10} \\mathrm{D}_{0, 0, 0, 0}\\left(f\\right)\\left(\\frac{\\pi \\sqrt{n_{x}^{2} + u^{2}}}{a k_{m}}\\right)}{\\sqrt{n_{x}^{2} + u^{2}} n_{x}^{6} + 3 \\, \\sqrt{n_{x}^{2} + u^{2}} n_{x}^{4} u^{2} + 3 \\, \\sqrt{n_{x}^{2} + u^{2}} n_{x}^{2} u^{4} + \\sqrt{n_{x}^{2} + u^{2}} u^{6}}\\,{d n_{x}} - 60 \\, \\pi^{4} \\int_{0}^{+\\infty} \\frac{n_{x}^{9} \\left \\lfloor n_{x} \\right \\rfloor \\mathrm{D}_{0, 0, 0, 0}\\left(f\\right)\\left(\\frac{\\pi \\sqrt{n_{x}^{2} + u^{2}}}{a k_{m}}\\right)}{\\sqrt{n_{x}^{2} + u^{2}} n_{x}^{6} + 3 \\, \\sqrt{n_{x}^{2} + u^{2}} n_{x}^{4} u^{2} + 3 \\, \\sqrt{n_{x}^{2} + u^{2}} n_{x}^{2} u^{4} + \\sqrt{n_{x}^{2} + u^{2}} u^{6}}\\,{d n_{x}} + 30 \\, \\pi^{4} \\int_{0}^{+\\infty} \\frac{n_{x}^{8} \\left \\lfloor n_{x} \\right \\rfloor^{2} \\mathrm{D}_{0, 0, 0, 0}\\left(f\\right)\\left(\\frac{\\pi \\sqrt{n_{x}^{2} + u^{2}}}{a k_{m}}\\right)}{\\sqrt{n_{x}^{2} + u^{2}} n_{x}^{6} + 3 \\, \\sqrt{n_{x}^{2} + u^{2}} n_{x}^{4} u^{2} + 3 \\, \\sqrt{n_{x}^{2} + u^{2}} n_{x}^{2} u^{4} + \\sqrt{n_{x}^{2} + u^{2}} u^{6}}\\,{d n_{x}} - \\pi^{4} \\int_{0}^{+\\infty} \\frac{n_{x}^{8} \\mathrm{D}_{0, 0, 0, 0}\\left(f\\right)\\left(\\frac{\\pi \\sqrt{n_{x}^{2} + u^{2}}}{a k_{m}}\\right)}{\\sqrt{n_{x}^{2} + u^{2}} n_{x}^{6} + 3 \\, \\sqrt{n_{x}^{2} + u^{2}} n_{x}^{4} u^{2} + 3 \\, \\sqrt{n_{x}^{2} + u^{2}} n_{x}^{2} u^{4} + \\sqrt{n_{x}^{2} + u^{2}} u^{6}}\\,{d n_{x}}}{1440 \\, a^{4} k_{m}^{4}}$"
      ],
      "text/plain": [
       "<IPython.core.display.Math object>"
      ]
     },
     "metadata": {},
     "output_type": "display_data"
    },
    {
     "data": {
      "text/plain": [
       "(None, None, None, None)"
      ]
     },
     "execution_count": 84,
     "metadata": {},
     "output_type": "execute_result"
    }
   ],
   "source": [
    "disp(half_int_Fu), disp(half_half_Fu), disp(half_sum_Fu), disp(half_R_p_Fu)"
   ]
  },
  {
   "cell_type": "code",
   "execution_count": 85,
   "metadata": {},
   "outputs": [
    {
     "data": {
      "text/latex": [
       "$\\displaystyle \\frac{1}{2} \\, a^{4} k_{m}^{4} \\int_{0}^{+\\infty} \\frac{\\sqrt{n_{x}^{2} + u^{2}}}{a^{4} k_{m}^{4} + \\pi^{4} n_{x}^{4} + 2 \\, \\pi^{4} n_{x}^{2} u^{2} + \\pi^{4} u^{4}}\\,{d n_{x}}$"
      ],
      "text/plain": [
       "<IPython.core.display.Math object>"
      ]
     },
     "metadata": {},
     "output_type": "display_data"
    },
    {
     "data": {
      "text/latex": [
       "$\\displaystyle \\frac{\\sqrt{u^{2}}}{4 \\, {\\left(\\frac{\\pi^{4} u^{4}}{a^{4} k_{m}^{4}} + 1\\right)}}$"
      ],
      "text/plain": [
       "<IPython.core.display.Math object>"
      ]
     },
     "metadata": {},
     "output_type": "display_data"
    },
    {
     "data": {
      "text/latex": [
       "$\\displaystyle 0$"
      ],
      "text/plain": [
       "<IPython.core.display.Math object>"
      ]
     },
     "metadata": {},
     "output_type": "display_data"
    },
    {
     "ename": "NameError",
     "evalue": "name 'half_R_p_Fn' is not defined",
     "output_type": "error",
     "traceback": [
      "\u001b[0;31m---------------------------------------------------------------------------\u001b[0m",
      "\u001b[0;31mNameError\u001b[0m                                 Traceback (most recent call last)",
      "\u001b[0;32m/tmp/ipykernel_2702/3619854467.py\u001b[0m in \u001b[0;36m<module>\u001b[0;34m\u001b[0m\n\u001b[0;32m----> 1\u001b[0;31m \u001b[0mdisp\u001b[0m\u001b[0;34m(\u001b[0m\u001b[0mhalf_int_Fn\u001b[0m\u001b[0;34m)\u001b[0m\u001b[0;34m,\u001b[0m \u001b[0mdisp\u001b[0m\u001b[0;34m(\u001b[0m\u001b[0mhalf_half_Fn\u001b[0m\u001b[0;34m)\u001b[0m\u001b[0;34m,\u001b[0m \u001b[0mdisp\u001b[0m\u001b[0;34m(\u001b[0m\u001b[0mhalf_sum_Fn\u001b[0m\u001b[0;34m)\u001b[0m\u001b[0;34m,\u001b[0m \u001b[0mdisp\u001b[0m\u001b[0;34m(\u001b[0m\u001b[0mhalf_R_p_Fn\u001b[0m\u001b[0;34m)\u001b[0m\u001b[0;34m\u001b[0m\u001b[0;34m\u001b[0m\u001b[0m\n\u001b[0m",
      "\u001b[0;31mNameError\u001b[0m: name 'half_R_p_Fn' is not defined"
     ]
    }
   ],
   "source": [
    "disp(half_int_Fn), disp(half_half_Fn), disp(half_sum_Fn), disp(half_R_p_Fn)"
   ]
  },
  {
   "cell_type": "code",
   "execution_count": null,
   "metadata": {},
   "outputs": [],
   "source": []
  },
  {
   "cell_type": "code",
   "execution_count": null,
   "metadata": {},
   "outputs": [],
   "source": [
    "disp(sum_int_Fu), disp(sum_half_Fu), disp(sum_sum_Fu), disp(sumy_R_p_Fu)"
   ]
  },
  {
   "cell_type": "code",
   "execution_count": null,
   "metadata": {},
   "outputs": [],
   "source": [
    "disp(sum_int_Fn), disp(sum_half_Fn), disp(sum_sum_Fn), disp(sumy_R_p_Fn)"
   ]
  },
  {
   "cell_type": "code",
   "execution_count": null,
   "metadata": {},
   "outputs": [],
   "source": []
  },
  {
   "cell_type": "code",
   "execution_count": null,
   "metadata": {
    "scrolled": true
   },
   "outputs": [],
   "source": [
    "disp(R_p_int_Fu), disp(R_p_half_Fu), disp(R_p_sum_Fu), disp(R_p_R_p_Fu)"
   ]
  },
  {
   "cell_type": "code",
   "execution_count": null,
   "metadata": {
    "scrolled": true
   },
   "outputs": [],
   "source": [
    "disp(R_p_int_Fn), disp(R_p_half_Fn), disp(R_p_sum_Fn), disp(R_p_R_p_Fn)"
   ]
  },
  {
   "cell_type": "code",
   "execution_count": null,
   "metadata": {},
   "outputs": [],
   "source": []
  },
  {
   "cell_type": "code",
   "execution_count": null,
   "metadata": {},
   "outputs": [],
   "source": [
    "sum_int_Fu"
   ]
  },
  {
   "cell_type": "code",
   "execution_count": null,
   "metadata": {},
   "outputs": [],
   "source": [
    "2 * int_sum_Fu(u, a, k_m) #, int_R_p"
   ]
  },
  {
   "cell_type": "code",
   "execution_count": null,
   "metadata": {},
   "outputs": [],
   "source": [
    "2 * int_sum_Fn(u, a, k_m) #, int_R_p"
   ]
  },
  {
   "cell_type": "code",
   "execution_count": null,
   "metadata": {},
   "outputs": [],
   "source": [
    "#sum_int, sum_sum #, sum_R_p"
   ]
  },
  {
   "cell_type": "code",
   "execution_count": null,
   "metadata": {},
   "outputs": [],
   "source": [
    "sum_sum_Fu(u, a, k_m) #, sum_R_p"
   ]
  },
  {
   "cell_type": "code",
   "execution_count": null,
   "metadata": {},
   "outputs": [],
   "source": [
    "sum_sum_Fn(u, a, k_m) #, sum_R_p"
   ]
  },
  {
   "cell_type": "code",
   "execution_count": null,
   "metadata": {},
   "outputs": [],
   "source": [
    "#R_p_int, R_p_sum, R_p_R_p"
   ]
  },
  {
   "cell_type": "code",
   "execution_count": null,
   "metadata": {},
   "outputs": [],
   "source": []
  },
  {
   "cell_type": "markdown",
   "metadata": {},
   "source": [
    "Numerical Euler–Maclaurin 2D for\n",
    "\n",
    "\\begin{equation}\n",
    "\\sum\\limits_{n_x=0}^{\\infty}\n",
    "\\sum\\limits_{n_y=0}^{\\infty}\n",
    "F\\left(n_x, n_y\\right)\n",
    "-\n",
    "\\int\\limits_{0}^{\\infty}\n",
    "\\int\\limits_{0}^{\\infty}\n",
    "F\\left(n_x, n_y\\right)\\,d{n_x}\\,d{n_y}\n",
    "\\end{equation}"
   ]
  },
  {
   "cell_type": "code",
   "execution_count": null,
   "metadata": {},
   "outputs": [],
   "source": [
    "sum_sum_F_minus_int_int_Fu_1 = num_int(lambda u : 2 * int_sum_Fu (u, a = 1, k_m = 1) + sum_sum_Fu (u, a = 1, k_m = 1), 0, Infinity, v=u)\n",
    "sum_sum_F_minus_int_int_Fu_1"
   ]
  },
  {
   "cell_type": "code",
   "execution_count": null,
   "metadata": {},
   "outputs": [],
   "source": [
    "display(Math(latex(sum_sum_F_minus_int_int_Fu_1)))"
   ]
  },
  {
   "cell_type": "code",
   "execution_count": null,
   "metadata": {},
   "outputs": [],
   "source": [
    "sum_sum_F_minus_int_int_Fu = num_int(lambda u : 2 * int_sum_Fu (u, a, k_m) + sum_sum_Fu (u, a, k_m), 0, Infinity, v=u)\n",
    "sum_sum_F_minus_int_int_Fu"
   ]
  },
  {
   "cell_type": "code",
   "execution_count": null,
   "metadata": {},
   "outputs": [],
   "source": [
    "display(Math(latex(sum_sum_F_minus_int_int_Fu)))"
   ]
  },
  {
   "cell_type": "raw",
   "metadata": {},
   "source": [
    "sum_sum_F_minus_int_int_Fn = num_int(lambda u : 2 * int_sum_Fn (u, a = 1, k_m = 1) + sum_sum_Fn (u, a = 1, k_m = 1), 0, Infinity, v=u)\n",
    "sum_sum_F_minus_int_int_Fn"
   ]
  },
  {
   "cell_type": "markdown",
   "metadata": {},
   "source": [
    "R_p=False (Euler–Maclaurin 2D without remainer part)"
   ]
  },
  {
   "cell_type": "raw",
   "metadata": {},
   "source": [
    "int_int + int_sum + sum_int + sum_sum"
   ]
  },
  {
   "cell_type": "code",
   "execution_count": null,
   "metadata": {},
   "outputs": [],
   "source": []
  },
  {
   "cell_type": "markdown",
   "metadata": {},
   "source": [
    "Let's consider\n",
    "\n",
    "\\begin{equation}\n",
    "\\sum\\limits_{n_x=\\left(0\\right)\\,1}^{\\infty}\n",
    "\\sum\\limits_{n_y=\\left(0\\right)\\,1}^{\\infty}\n",
    "F\\left(n_x, n_y\\right)\n",
    "-\n",
    "\\int\\limits_{0}^{\\infty}\n",
    "\\int\\limits_{0}^{\\infty}\n",
    "F\\left(n_x, n_y\\right)\\,d{n_x}\\,d{n_y}\n",
    "\\end{equation}"
   ]
  },
  {
   "cell_type": "markdown",
   "metadata": {},
   "source": [
    "First we see, that"
   ]
  },
  {
   "cell_type": "markdown",
   "metadata": {},
   "source": [
    "\\begin{equation}\n",
    "\\sum\\limits_{n_x=\\left(0\\right)\\,1}^{\\infty}\n",
    "\\sum\\limits_{n_y=\\left(0\\right)\\,1}^{\\infty}\n",
    "{F\\left(n_x, n_y\\right)}\n",
    "= \\sum\\limits_{n_x=\\left(0\\right)\\,1}^{\\infty}\n",
    "\\left(\n",
    "-\\frac{1}{2}F\\left(n_x, 0\\right) + \\sum\\limits_{n_y=0}^{\\infty}{F\\left(n_x, n_y\\right)}\n",
    "\\right)\n",
    "= -\\frac{1}{2}\n",
    "\\left(\n",
    "-\\frac{1}{2}F\\left(0, 0\\right) + \\sum\\limits_{n_y=0}^{\\infty}{F\\left(0, n_y\\right)}\n",
    "\\right)\n",
    "+\\sum\\limits_{n_x=0}^{\\infty}\n",
    "\\left(\n",
    "-\\frac{1}{2}F\\left(n_x, 0\\right) + \\sum\\limits_{n_y=0}^{\\infty}{F\\left(n_x, n_y\\right)}\n",
    "\\right)\n",
    "= \\frac{1}{4}F\\left(0, 0\\right)\n",
    "- \\frac{1}{2}\\sum\\limits_{n_y=0}^{\\infty}{F\\left(0, n_y\\right)}\n",
    "- \\frac{1}{2}\\sum\\limits_{n_x=0}^{\\infty}{F\\left(n_x, 0\\right)}\n",
    "+ \\sum\\limits_{n_x=0}^{\\infty}\\sum\\limits_{n_y=0}^{\\infty}{F\\left(n_x, n_y\\right)}\n",
    "\\end{equation}"
   ]
  },
  {
   "cell_type": "markdown",
   "metadata": {},
   "source": [
    "So we have\n",
    "\\begin{equation}\n",
    "\\sum\\limits_{n_x=\\left(0\\right)\\,1}^{\\infty}\n",
    "\\sum\\limits_{n_y=\\left(0\\right)\\,1}^{\\infty}\n",
    "{F\\left(n_x, n_y\\right)}\n",
    "=\\frac{1}{4}F\\left(0, 0\\right)\n",
    "-\\frac{1}{2}\\sum\\limits_{n_y=0}^{\\infty}{F\\left(0, n_y\\right)}\n",
    "-\\frac{1}{2}\\sum\\limits_{n_x=0}^{\\infty}{F\\left(n_x, 0\\right)}\n",
    "+\\sum\\limits_{n_x=0}^{\\infty}\\sum\\limits_{n_y=0}^{\\infty}{F\\left(n_x, n_y\\right)}\n",
    "\\end{equation}"
   ]
  },
  {
   "cell_type": "markdown",
   "metadata": {},
   "source": [
    "And\n",
    "\n",
    "\\begin{equation}\n",
    "\\sum\\limits_{n_x=\\left(0\\right)\\,1}^{\\infty}\n",
    "\\sum\\limits_{n_y=\\left(0\\right)\\,1}^{\\infty}\n",
    "F\\left(n_x, n_y\\right)\n",
    "-\n",
    "\\int\\limits_{0}^{\\infty}\n",
    "\\int\\limits_{0}^{\\infty}\n",
    "F\\left(n_x, n_y\\right)\\,d{n_x}\\,d{n_y} =\n",
    "\\end{equation}"
   ]
  },
  {
   "cell_type": "markdown",
   "metadata": {},
   "source": [
    "\\begin{equation}\n",
    "=\\frac{1}{4}F\\left(0, 0\\right)\n",
    "-\\frac{1}{2}\\sum\\limits_{n_y=0}^{\\infty}{F\\left(0, n_y\\right)}\n",
    "-\\frac{1}{2}\\sum\\limits_{n_x=0}^{\\infty}{F\\left(n_x, 0\\right)}\n",
    "+\\sum\\limits_{n_x=0}^{\\infty}\\sum\\limits_{n_y=0}^{\\infty}{F\\left(n_x, n_y\\right)}\n",
    "-\n",
    "\\int\\limits_{0}^{\\infty}\n",
    "\\int\\limits_{0}^{\\infty}\n",
    "F\\left(n_x, n_y\\right)\\,d{n_x}\\,d{n_y}\n",
    "\\end{equation}"
   ]
  },
  {
   "cell_type": "markdown",
   "metadata": {},
   "source": [
    "On the other hand we have found that\n",
    "\\begin{equation}\n",
    "\\sum\\limits_{n_x=0}^{\\infty}\n",
    "\\sum\\limits_{n_y=0}^{\\infty}\n",
    "F\\left(n_x, n_y\\right)\n",
    "-\\int\\limits_{0}^{\\infty}\n",
    "\\int\\limits_{0}^{\\infty}\n",
    "F\\left(n_x, n_y\\right)\\,d{n_x}\\,d{n_y}\n",
    "\\end{equation}\n",
    "without remainer part will be"
   ]
  },
  {
   "cell_type": "code",
   "execution_count": null,
   "metadata": {},
   "outputs": [],
   "source": [
    "sum_sum_F_minus_int_int_F = (int_sum_F + sum_int_F + sum_sum_F).expand()\n",
    "display(Math(latex(sum_sum_F_minus_int_int_F)))"
   ]
  },
  {
   "cell_type": "markdown",
   "metadata": {},
   "source": [
    "Now we can see that if we decompose two integrals from the first six terms in the resulting summation"
   ]
  },
  {
   "cell_type": "markdown",
   "metadata": {},
   "source": [
    "$$\n",
    "\\frac{1}{4}F\\left(0, 0\\right)\n",
    "- \\frac{1}{2}\\sum\\limits_{n_y=0}^{\\infty}{F\\left(0, n_y\\right)}\n",
    "- \\frac{1}{2}\\sum\\limits_{n_x=0}^{\\infty}{F\\left(n_x, 0\\right)}\n",
    "+ \\frac{1}{4} \\, F\\left(a_{x}=0, a_{y}=0\\right)\n",
    "+ \\frac{1}{2} \\, \\int_{a_{y}=0}^{b_{y}=\\infty} F\\left(a_{x}=0, n_{y}\\right)\\,{d n_{y}}\n",
    "+ \\frac{1}{2} \\, \\int_{a_{x}=0}^{b_{x}=\\infty} F\\left(n_{x}, a_{y}=0\\right)\\,{d n_{x}}$$"
   ]
  },
  {
   "cell_type": "markdown",
   "metadata": {},
   "source": [
    "using 1D EULER-MACLAURIN formula:"
   ]
  },
  {
   "cell_type": "markdown",
   "metadata": {},
   "source": [
    "$$\n",
    "\\int _{a}^{b}f(x)\\,dx\n",
    "=\n",
    "{\\displaystyle \\sum _{i=a}^{b}f(i)\n",
    "-{\\frac {f(a)+f(b)}{2}}\n",
    "-\\sum _{k=1}^{\\lfloor p/2\\rfloor }{\\frac {B_{2k}}{(2k)!}}(f^{(2k-1)}(b)-f^{(2k-1)}(a))\n",
    "-R_{p},}$$"
   ]
  },
  {
   "cell_type": "markdown",
   "metadata": {},
   "source": [
    "$\\int\\limits_{0}^{\\infty}{F\\left(n\\right)} = \\sum\\limits_{\\left(0\\right)\\,1}^{\\infty}{F\\left(n\\right)} +\\,\\frac{1}{12}F'\\left(0\\right)\\,-\\,\\frac{1}{24\\times30}F'''\\left(0\\right)\\,+\\,...$"
   ]
  },
  {
   "cell_type": "code",
   "execution_count": null,
   "metadata": {},
   "outputs": [],
   "source": [
    "disp(euler_maclaurin1(F,n_x,a_x,b_x,p,f_diff_symb_p=None))"
   ]
  },
  {
   "cell_type": "markdown",
   "metadata": {},
   "source": [
    "first four terms will be eliminated and the following terms will be remained:"
   ]
  },
  {
   "cell_type": "code",
   "execution_count": null,
   "metadata": {},
   "outputs": [],
   "source": [
    "sum_dfdx_a_bernoullis_nx = sum([(F.diff(n_x,2*k-1))*(bernoulli(2*k)/factorial(2*k)) for k in range(1,1+int(p/2))]) \\\n",
    "    .subs(n_x == a_x)\n",
    "display(Math(latex((1/2)*sum_dfdx_a_bernoullis_nx)))"
   ]
  },
  {
   "cell_type": "code",
   "execution_count": null,
   "metadata": {},
   "outputs": [],
   "source": [
    "sum_dfdx_a_bernoullis_ny = sum([(F.diff(n_y,2*k-1))*(bernoulli(2*k)/factorial(2*k)) for k in range(1,1+int(p/2))]) \\\n",
    "    .subs(n_y == a_y)\n",
    "display(Math(latex((1/2)*sum_dfdx_a_bernoullis_ny)))"
   ]
  },
  {
   "cell_type": "code",
   "execution_count": null,
   "metadata": {},
   "outputs": [],
   "source": [
    "sum_sum_F_minus_int_int_F_without_first_3_terms = sum(sum_sum_F_minus_int_int_F.operands()[3:])\n",
    "display(Math(latex(sum_sum_F_minus_int_int_F_without_first_3_terms)))"
   ]
  },
  {
   "cell_type": "markdown",
   "metadata": {},
   "source": [
    "We apply the EULER-MACLAURIN 2D formula:"
   ]
  },
  {
   "cell_type": "markdown",
   "metadata": {},
   "source": [
    "(without remainer part)"
   ]
  },
  {
   "cell_type": "markdown",
   "metadata": {},
   "source": [
    "\\begin{equation}\n",
    "\\sum\\limits_{\\left(0\\right)\\,1}^{\\infty}\\sum\\limits_{\\left(0\\right)\\,1}^{\\infty}{F\\left(n_x, n_y\\right)}\n",
    "- \\int\\limits_{0}^{\\infty}\\int\\limits_{0}^{\\infty}{F\\left(n_x, n_y\\right)} \n",
    "= - \\frac{1}{12} \\, \\int_{0}^{\\infty} \\frac{\\partial}{\\partial n_{x}}F\\left(0, n_y\\right)\\,{d n_y}\n",
    "- \\frac{1}{12} \\, \\int_{0}^{\\infty} \\frac{\\partial}{\\partial n_{y}}F\\left(n_x, 0\\right)\\,{d n_x}\n",
    "+ \\frac{1}{144} \\, \\frac{\\partial^{2}}{\\partial n_{x}\\partial n_{y}}F\\left(0, 0\\right)\n",
    "\\,+\\,...\n",
    "\\end{equation}"
   ]
  },
  {
   "cell_type": "markdown",
   "metadata": {},
   "source": [
    "or using more terms in the EULER-MACLAURIN 2D formula:"
   ]
  },
  {
   "cell_type": "markdown",
   "metadata": {},
   "source": [
    "\\begin{equation}\n",
    "\\sum\\limits_{\\left(0\\right)\\,1}^{\\infty}\\sum\\limits_{\\left(0\\right)\\,1}^{\\infty}{F\\left(n_x, n_y\\right)}\n",
    "-\\int\\limits_{0}^{\\infty}\\int\\limits_{0}^{\\infty}{F\\left(n_x, n_y\\right)}\n",
    "= - \\frac{1}{12} \\, \\int_{0}^{\\infty}  \\, \\frac{\\partial}{\\partial n_{x}}F\\left(0, n_y\\right)\\,{d n_y}\n",
    "+ \\frac{1}{720} \\, \\int_{0}^{\\infty} \\frac{\\partial^{3}}{(\\partial n_{x})^{3}}F\\left(0, y\\right)\\,{d n_y}\n",
    "- \\frac{1}{12} \\, \\int_{0}^{\\infty} \\frac{\\partial}{\\partial n_{y}}F\\left(n_x, 0\\right)\\,{d n_x}\n",
    "+ \\frac{1}{720} \\, \\int_{0}^{\\infty} \\frac{\\partial^{3}}{(\\partial n_{y})^{3}}F\\left(n_x, 0\\right)\\,{d n_x}\n",
    "- \\frac{1}{8640} \\, \\frac{\\partial^{4}}{(\\partial n_{x})^{3}\\partial n_{y}}F\\left(0, 0\\right)\n",
    "+ \\frac{1}{518400} \\, \\frac{\\partial^{6}}{(\\partial n_{x})^{3}(\\partial n_{y})^{3}}F\\left(0, 0\\right)\n",
    "+ \\frac{1}{144} \\, \\frac{\\partial^{2}}{\\partial n_{x}\\partial n_{y}}F\\left(0, 0\\right)\n",
    "- \\frac{1}{8640} \\, \\frac{\\partial^{4}}{\\partial n_{x}(\\partial n_{y})^{3}}F\\left(0, 0\\right)\n",
    "\\,+\\,...\n",
    "\\end{equation}"
   ]
  },
  {
   "cell_type": "code",
   "execution_count": null,
   "metadata": {},
   "outputs": [],
   "source": []
  },
  {
   "cell_type": "markdown",
   "metadata": {},
   "source": [
    "\\begin{equation}\n",
    "F\\left(n_x, n_y\\right) = \n",
    "\\sqrt{n_x^2 + n_y^2+u^2}\\,\n",
    "f\\left(\\frac{\\pi\\sqrt{n_x^2 + n_y^2+u^2}}{a\\,k_m}\\right)\n",
    "\\end{equation}"
   ]
  },
  {
   "cell_type": "code",
   "execution_count": null,
   "metadata": {},
   "outputs": [],
   "source": [
    "Fu(u, n_x, n_y, a, k_m).diff(n_x).subs(n_x==0)"
   ]
  },
  {
   "cell_type": "markdown",
   "metadata": {},
   "source": [
    "So we see that all terms without remainer part are 0"
   ]
  },
  {
   "cell_type": "code",
   "execution_count": null,
   "metadata": {},
   "outputs": [],
   "source": [
    "# below part of original Casimir's work which should be reworked"
   ]
  },
  {
   "cell_type": "markdown",
   "metadata": {},
   "source": [
    "The higher derivatives will contain powers of $(\\pi/(a\\,k_m))$. Thus we find"
   ]
  },
  {
   "cell_type": "markdown",
   "metadata": {},
   "source": [
    "$\\delta\\,E/L^2 = \\hbar\\,c\\frac{\\pi^2}{4\\,a^3}\\left\\{\\frac{-4}{24\\times30}\\right\\}$"
   ]
  },
  {
   "cell_type": "markdown",
   "metadata": {},
   "source": [
    "a formula which holds as long as $a\\,k_m\\,»\\,1$. For the force per $cm^2$ we find"
   ]
  },
  {
   "cell_type": "markdown",
   "metadata": {},
   "source": [
    "$F = \\hbar\\,c\\frac{\\pi^2}{240}\\frac{1}{a^4}\\,=\\,0.013\\,\\frac{1}{a_{\\mu}^4}\\,dyne/cm^2$"
   ]
  },
  {
   "cell_type": "markdown",
   "metadata": {},
   "source": [
    "where $a_{\\mu}$ is the distance measured in microns. "
   ]
  },
  {
   "cell_type": "markdown",
   "metadata": {},
   "source": [
    "We are thus led to the following conclusions. There exists an attractive\n",
    "force between two metal plates which is independent of the material of\n",
    "the plates as long as the distance is so large that for wave . lengths\n",
    "comparable with that distance the penetration depth is small compared with\n",
    "the distance. This force may be interpreted as a zero point pressure of\n",
    "electromagnetic waves."
   ]
  },
  {
   "cell_type": "markdown",
   "metadata": {},
   "source": [
    "Although the effect is smalI, an experimental confirmation seems not\n",
    "unfeasable and might be of a certain interest. "
   ]
  },
  {
   "cell_type": "markdown",
   "metadata": {},
   "source": [
    "Natuurkundig Laboratorium der N.V. Philips'\n",
    "Gloeilampenfabrieken. Eindhoven .) "
   ]
  },
  {
   "cell_type": "markdown",
   "metadata": {},
   "source": [
    "30 January 2019\n",
    "\n",
    "Metal nano-honeycomb fabricated by colloidal assembly and femtosecond-laser annealing\n",
    "\n",
    "https://www.spiedigitallibrary.org/conference-proceedings-of-spie/10841/108410A/Metal-nano-honeycomb-fabricated-by-colloidal-assembly-and-femtosecond-laser/10.1117/12.2508593.full?SSO=1"
   ]
  },
  {
   "cell_type": "markdown",
   "metadata": {},
   "source": [
    "Bio-Inspired Engineering of Honeycomb Structure - Using Nature to Inspire Human Innovation\n",
    "\n",
    "https://www.researchgate.net/figure/Mechanical-behavior-of-micro-and-nano-honeycomb-materials_tbl1_280239925"
   ]
  },
  {
   "cell_type": "markdown",
   "metadata": {},
   "source": [
    "Nano-honeycomb structures for optimal energy absorption: numerical analysis and experiments\n",
    "\n",
    "https://www.alliedacademies.org/articles/nanohoneycomb-structures-for-optimal-energy-absorption-numerical-analysisand-experiments-8375.html"
   ]
  },
  {
   "cell_type": "code",
   "execution_count": null,
   "metadata": {},
   "outputs": [],
   "source": [
    "\n",
    "\n",
    "\n"
   ]
  }
 ],
 "metadata": {
  "kernelspec": {
   "display_name": "SageMath 9.6.beta7",
   "language": "sage",
   "name": "sagemath"
  },
  "language_info": {
   "codemirror_mode": {
    "name": "ipython",
    "version": 3
   },
   "file_extension": ".py",
   "mimetype": "text/x-python",
   "name": "python",
   "nbconvert_exporter": "python",
   "pygments_lexer": "ipython3",
   "version": "3.10.3"
  }
 },
 "nbformat": 4,
 "nbformat_minor": 2
}
