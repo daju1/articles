{
 "cells": [
  {
   "cell_type": "markdown",
   "metadata": {},
   "source": [
    "# Электродинамический расчёт волнового двигателя с внутренним расходом энергии Ф.Ф.Менде (MenDrive)\n",
    "\n",
    "А.Ю.Дроздов"
   ]
  },
  {
   "cell_type": "markdown",
   "metadata": {},
   "source": [
    "опираясь на выкладки из параграфа 20 Электродинамики Зоммерфельда"
   ]
  },
  {
   "cell_type": "markdown",
   "metadata": {},
   "source": [
    "рассчитаем тягу в\n",
    "\n",
    "http://fmnauka.narod.ru/dvigatel_emdrive.pdf\n",
    "\n",
    "Ф.Ф. МЕНДЕ, ВОЛНОВОЙ ДВИГАТЕЛЬ С ВНУТРЕННИМ РАСХОДОМ ЭНЕРГИИ ЭЛЕКТРОМАГНИТНЫХ КОЛЕБАНИЙ"
   ]
  },
  {
   "cell_type": "markdown",
   "metadata": {},
   "source": [
    "геометрия задачи следующая: \n",
    "\n",
    "поверхность хорошего проводника $x<=-a$\n",
    "\n",
    "вакуум внутри резонатора заполняет область $-a<=x<=0$\n",
    "\n",
    "В области $x>0$ - плохой проводник"
   ]
  },
  {
   "cell_type": "markdown",
   "metadata": {},
   "source": [
    "$$rot\\,\\vec{E} = \\mu\\,\\frac{i\\,\\omega}{c}\\,\\vec{H}$$\n",
    "\n",
    "$$rot\\,\\vec{H} = \\frac{1}{c}\\frac{\\partial \\vec D}{\\partial t} + \\frac{4\\pi}{c} \\vec j = - \\frac{i\\,\\omega}{c} \\epsilon \\vec{E} + \\frac{4\\pi}{c}\\sigma \\vec E$$\n",
    "\n",
    "$$rot\\,rot\\,\\vec{E} = \\mu\\,\\frac{i\\,\\omega}{c}rot\\,\\vec{H}$$\n",
    "\n",
    "$$rot\\,rot\\,\\vec{E} = \\mu\\,\\frac{i\\,\\omega}{c}\\left(- \\frac{i\\,\\omega}{c} \\epsilon \\vec{E} + \\frac{4\\pi}{c}\\sigma \\vec E\\right)$$\n",
    "\n",
    "$$rot\\,rot\\,\\vec{E} = \\epsilon \\mu\\,\\frac{\\omega^2}{c^2} \\vec{E} + i\\,\\omega\\,\\sigma\\,\\mu\\,\\frac{4\\pi}{c^2} \\vec E$$\n",
    "\n",
    "$$rot\\,rot\\,\\vec{E} = grad\\,div\\,\\vec{E} - Laplasian\\,\\vec{E}$$\n",
    "\n",
    "$$Laplasian\\,\\vec{E} + \\epsilon \\mu \\frac{\\omega^2}{c^2}\\,\\vec{E} + i\\,\\omega\\,\\sigma\\,\\mu\\,\\frac{4\\pi}{c^2} \\vec E - grad\\,div\\,\\vec{E} = 0$$\n"
   ]
  },
  {
   "cell_type": "markdown",
   "metadata": {},
   "source": [
    "$$div\\,\\vec{E} = - \\frac{\\vec{n}}{c} \\frac{\\partial \\vec E}{\\partial t}$$\n",
    "\n",
    "$$grad\\,div\\,\\vec{E} = - grad\\,\\frac{\\vec{n}}{c} \\frac{\\partial \\vec E}{\\partial t}$$\n",
    "\n",
    "для вакуума внутри резонатора ищем решение в виде\n",
    "\n",
    "$$\\vec{E} = \\vec{E}(x)\\,e^{i\\,k\\,z}\\,e^{-i\\,\\omega\\,t}$$"
   ]
  },
  {
   "cell_type": "markdown",
   "metadata": {},
   "source": [
    "подставляя в исходное уравнение приходим к обыкновенному дифференциальному уравнению\n",
    "\n",
    "$$\\frac{\\partial^{2}}{(\\partial {x})^{2}}\\vec{E}(x) + \\frac{\\partial^{2}}{(\\partial {y})^{2}}\\vec{E}(x) + \\left(\\epsilon  \\mu \\frac{\\omega^2}{c^2} + i\\,\\omega\\,\\sigma\\,\\mu\\,\\frac{4\\pi}{c^2} - {k'_z}^2\\right)\\,\\vec{E}(x) - grad\\,div\\,\\vec{E} = 0$$"
   ]
  },
  {
   "cell_type": "markdown",
   "metadata": {},
   "source": [
    "производим следующую замену переменных\n",
    "\n",
    "$$\\kappa^2 = \\epsilon \\mu \\frac{\\omega^2}{c^2} + i\\,\\omega\\,\\sigma\\,\\mu\\,\\frac{4\\pi}{c^2}$$\n",
    "\n",
    "теперь получаем дифференциальное уравнение\n",
    "\n",
    "$$\\frac{\\partial^{2}}{(\\partial {x})^{2}}\\vec{E}(x) + \\frac{\\partial^{2}}{(\\partial {y})^{2}}\\vec{E}(x) + \\left(\\kappa^2 - {k'_z}^2\\right)\\,\\vec{E}(x) = 0$$"
   ]
  },
  {
   "cell_type": "code",
   "execution_count": null,
   "metadata": {},
   "outputs": [],
   "source": []
  },
  {
   "cell_type": "markdown",
   "metadata": {},
   "source": [
    "для проводящего металла с потерями ищем решение в виде\n",
    "\n",
    "$$\\vec{E} = \\vec{E}\\,e^{i\\,k'_x\\,x}\\,e^{i\\,k'_z\\,z}\\,e^{-i\\,\\omega\\,t}$$\n",
    "\n",
    "в котором волновой вектор, направленный вдоль оси z комплексный $k'_z = k_z + i\\,s_z$, как и волновой вектор, направленный вдоль оси x может быть комплексным $k'_x = k_x + i\\,s_x$\n",
    "\n",
    "$$\\vec{E} = \\vec{E}\\,e^{i\\,(k_x + i\\,s_x)\\,(x-a)}\\,e^{i\\,(k_z + i\\,s_z)\\,z}\\,e^{-i\\,\\omega\\,t}$$"
   ]
  },
  {
   "cell_type": "code",
   "execution_count": null,
   "metadata": {},
   "outputs": [],
   "source": []
  },
  {
   "cell_type": "markdown",
   "metadata": {},
   "source": [
    "принимая модель комплексного представления диэлектрической проницаемости $\\epsilon' = \\epsilon + \\frac{4\\pi\\,\\sigma}{\\omega}\\,i$ (плохой проводник)"
   ]
  },
  {
   "cell_type": "markdown",
   "metadata": {},
   "source": [
    "подставляем решение в\n",
    "\n",
    "$$Laplasian\\,\\vec{E} + \\frac{\\mu \\omega^2}{c^2}\\left(\\epsilon + \\frac{4\\pi\\,\\sigma}{\\omega}\\,i\\right)\\,\\vec{E} - grad\\,div\\,\\vec{E} = 0$$\n",
    "\n",
    "и принимая\n",
    "\n",
    "$$div\\,\\vec{E} = - \\frac{\\vec{n}}{c} \\frac{\\partial \\vec E}{\\partial t}$$"
   ]
  },
  {
   "cell_type": "markdown",
   "metadata": {},
   "source": [
    "приходим к\n",
    "\n",
    "$$\\frac{\\partial^{2}}{(\\partial {x})^{2}}\\vec{E}(x) + \\frac{\\partial^{2}}{(\\partial {y})^{2}}\\vec{E}(x) + \\left(\\frac{\\mu \\omega^2}{c^2}\\left(\\epsilon + \\frac{4\\pi\\,\\sigma}{\\omega}\\,i\\right)  - {k'_z}^2\\right)\\,\\vec{E} - grad\\, \\left(\\frac{\\vec{n}}{c} \\frac{\\partial \\vec E}{\\partial t} \\right) = 0$$"
   ]
  },
  {
   "cell_type": "markdown",
   "metadata": {},
   "source": [
    "$$ k = \\frac{\\omega}{c}\\,\\sqrt{\\mu\\,\\left(\\epsilon  + \\frac{4\\pi\\,\\sigma}{\\omega}\\,i\\right)}$$"
   ]
  },
  {
   "cell_type": "markdown",
   "metadata": {},
   "source": [
    "$${k'_z}^2=\\left(k_z + i\\,s_z \\right)^2 = k_z^2 - s_z^2 + 2\\,i\\,k_z\\,s_z$$"
   ]
  },
  {
   "cell_type": "markdown",
   "metadata": {},
   "source": [
    "приходим к\n",
    "\n",
    "$$\\frac{\\partial^{2}}{(\\partial {x})^{2}}\\vec{E}(x) + \\frac{\\partial^{2}}{(\\partial {y})^{2}}\\vec{E}(x) + \\left(\\frac{\\mu \\omega^2}{c^2}\\epsilon + \\frac{\\mu \\omega^2}{c^2}\\frac{4\\pi\\,\\sigma}{\\omega}\\,i - {k'_z}^{2}\\right) = 0$$\n"
   ]
  },
  {
   "cell_type": "code",
   "execution_count": 1,
   "metadata": {},
   "outputs": [],
   "source": [
    "from IPython.display import display, Math, Latex\n",
    "\n",
    "mu_l = var('mu_l')\n",
    "assume(mu_l, 'real')\n",
    "assume(mu_l>0)\n",
    "\n",
    "mu_r = var('mu_r')\n",
    "assume(mu_r, 'real')\n",
    "assume(mu_r>0)\n",
    "\n",
    "epsilon_l = var('epsilon_l')\n",
    "assume(epsilon_l, 'real')\n",
    "assume(epsilon_l>0)\n",
    "\n",
    "epsilon_r = var('epsilon_r')\n",
    "assume(epsilon_r, 'real')\n",
    "assume(epsilon_r>0)\n",
    "\n",
    "mu_0 = 1\n",
    "epsilon_0 = 1\n",
    "\n",
    "# left conductor\n",
    "sigma_l = var('sigma_l')\n",
    "assume(sigma_l, 'real')\n",
    "assume(sigma_l>0)\n",
    "\n",
    "#right conductor\n",
    "sigma_r = var('sigma_r')\n",
    "assume(sigma_r, 'real')\n",
    "assume(sigma_r>0)\n",
    "\n",
    "\n",
    "sx = var ('sx')\n",
    "assume(sx, 'real')\n",
    "assume(sx>0)\n",
    "\n",
    "sy = var ('sy')\n",
    "assume(sy, 'real')\n",
    "assume(sy>0)\n",
    "\n",
    "sz = var ('sz')\n",
    "assume(sz, 'real')\n",
    "assume(sz>0)\n",
    "\n",
    "kappa_vacuum = var ('kappa_vacuum')\n",
    "assume(kappa_vacuum, 'real')\n",
    "assume(kappa_vacuum>0)\n",
    "\n",
    "# left conductor\n",
    "kappa_l = var('kappa_l')\n",
    "assume(kappa_l, 'complex')\n",
    "\n",
    "# right conductor\n",
    "kappa_r = var('kappa_r')\n",
    "assume(kappa_r, 'complex')\n",
    "\n",
    "kx = var ('kx')\n",
    "assume(kx, 'real')\n",
    "\n",
    "ky = var ('ky')\n",
    "assume(ky, 'real')\n",
    "\n",
    "kz = var ('kz')\n",
    "assume(kz, 'real')\n",
    "\n",
    "k__x = var ('k__x')\n",
    "assume(k__x, 'complex')\n",
    "\n",
    "k__y = var ('k__y')\n",
    "assume(k__x, 'complex')\n",
    "\n",
    "k__z = var ('k__z')\n",
    "assume(k__z, 'complex')\n",
    "\n",
    "k_x = var ('k_x')\n",
    "assume(k_x, 'complex')\n",
    "\n",
    "k_y = var ('k_y')\n",
    "assume(k_x, 'complex')\n",
    "\n",
    "k_z = var ('k_z')\n",
    "assume(k_z, 'complex')\n",
    "\n",
    "\n",
    "a = var('a')\n",
    "assume(a, 'real')\n",
    "assume(a>0)\n",
    "\n",
    "x = var('x')\n",
    "y = var('y')\n",
    "z = var('z')\n",
    "\n",
    "assume(x, 'real')\n",
    "assume(y, 'real')\n",
    "assume(z, 'real')\n",
    "\n",
    "c = var('c')\n",
    "assume(c, 'real')\n",
    "assume(c>0)\n",
    "\n",
    "omega = var('omega')\n",
    "assume(omega, 'real')\n",
    "\n",
    "good_conductor = False"
   ]
  },
  {
   "cell_type": "markdown",
   "metadata": {},
   "source": [
    "$$\\kappa^2 = \\epsilon \\mu \\frac{\\omega^2}{c^2} + i\\,\\omega\\,\\sigma\\,\\mu\\,\\frac{4\\pi}{c^2}$$"
   ]
  },
  {
   "cell_type": "code",
   "execution_count": 2,
   "metadata": {},
   "outputs": [
    {
     "name": "stdout",
     "output_type": "stream",
     "text": [
      "eq_kappa_l =\n"
     ]
    },
    {
     "data": {
      "text/latex": [
       "$\\displaystyle \\kappa_{l}^{2} = \\frac{4 i \\, \\pi \\mu_{l} \\omega \\sigma_{l}}{c} + \\frac{\\epsilon_{l} \\mu_{l} \\omega^{2}}{c^{2}}$"
      ],
      "text/plain": [
       "<IPython.core.display.Math object>"
      ]
     },
     "metadata": {},
     "output_type": "display_data"
    },
    {
     "name": "stdout",
     "output_type": "stream",
     "text": [
      "eq_kappa_r =\n"
     ]
    },
    {
     "data": {
      "text/latex": [
       "$\\displaystyle \\kappa_{r}^{2} = \\frac{4 i \\, \\pi \\mu_{r} \\omega \\sigma_{r}}{c} + \\frac{\\epsilon_{r} \\mu_{r} \\omega^{2}}{c^{2}}$"
      ],
      "text/plain": [
       "<IPython.core.display.Math object>"
      ]
     },
     "metadata": {},
     "output_type": "display_data"
    },
    {
     "name": "stdout",
     "output_type": "stream",
     "text": [
      "eq_kappa_inner_vacuum =\n"
     ]
    },
    {
     "data": {
      "text/latex": [
       "$\\displaystyle \\kappa_{\\mathit{vacuum}}^{2} = \\frac{\\omega^{2}}{c^{2}}$"
      ],
      "text/plain": [
       "<IPython.core.display.Math object>"
      ]
     },
     "metadata": {},
     "output_type": "display_data"
    }
   ],
   "source": [
    "# исходя из вида дифференциальных уравнений для вакуума внутри резонатора и проводящего металла с потерями\n",
    "# записываем соотнощения для волнового вектора в виде уравнений\n",
    "\n",
    "if good_conductor:\n",
    "    eq_kappa_l              = kappa_l^2 == I*omega*sigma_l*mu_l*4*pi/c\n",
    "    eq_kappa_r              = kappa_r^2 == I*omega*sigma_r*mu_r*4*pi/c\n",
    "else:\n",
    "    eq_kappa_l              = kappa_l^2 == mu_l * epsilon_l * omega^2 / c^2 + I*omega*sigma_l*mu_l*4*pi/c\n",
    "    eq_kappa_r              = kappa_r^2 == mu_r * epsilon_r * omega^2 / c^2 + I*omega*sigma_r*mu_r*4*pi/c\n",
    "eq_kappa_inner_vacuum = kappa_vacuum^2 == omega^2 / c^2\n",
    "\n",
    "kappa_sol_l = solve(eq_kappa_l, kappa_l)[1]\n",
    "kappa_sol_r = solve(eq_kappa_r, kappa_r)[1]\n",
    "#kappa_vacuum_sol = omega / c\n",
    "\n",
    "print(\"eq_kappa_l =\")\n",
    "display(Math(latex(eq_kappa_l)))\n",
    "print(\"eq_kappa_r =\")\n",
    "display(Math(latex(eq_kappa_r)))\n",
    "\n",
    "print(\"eq_kappa_inner_vacuum =\")\n",
    "display(Math(latex(eq_kappa_inner_vacuum)))"
   ]
  },
  {
   "cell_type": "code",
   "execution_count": null,
   "metadata": {},
   "outputs": [],
   "source": []
  },
  {
   "cell_type": "markdown",
   "metadata": {},
   "source": [
    "принимая модель комплексного представления диэлектрической проницаемости $\\epsilon' = \\epsilon + \\frac{4\\pi\\,c\\,\\sigma}{\\omega}\\,i$ (плохой проводник)"
   ]
  },
  {
   "cell_type": "code",
   "execution_count": 3,
   "metadata": {},
   "outputs": [],
   "source": [
    "if good_conductor:\n",
    "    epsilon_l_complex = + I * 4 * pi * sigma_l * c / omega\n",
    "    epsilon_r_complex = + I * 4 * pi * sigma_r * c / omega\n",
    "else:\n",
    "    epsilon_l_complex = epsilon_l + I * 4 * pi * sigma_l * c / omega\n",
    "    epsilon_r_complex = epsilon_r + I * 4 * pi * sigma_r * c / omega"
   ]
  },
  {
   "cell_type": "raw",
   "metadata": {},
   "source": [
    "tst_eq = (kappa == sqrt(epsilon_complex * mu) * omega/c).subs(kappa_sol)\n",
    "(tst_eq.lhs()^2).expand(), (tst_eq.rhs()^2).expand()"
   ]
  },
  {
   "cell_type": "code",
   "execution_count": null,
   "metadata": {},
   "outputs": [],
   "source": []
  },
  {
   "cell_type": "markdown",
   "metadata": {},
   "source": [
    "приходим к\n",
    "\n",
    "$$\\frac{\\partial^{2}}{(\\partial {x})^{2}}\\vec{E}(x) + \\frac{\\partial^{2}}{(\\partial {y})^{2}}\\vec{E}(x) +  \\left(\\frac{\\mu \\omega^2}{c^2}\\epsilon + \\frac{\\mu \\omega^2}{c^2}\\frac{4\\pi\\,\\sigma}{\\omega}\\,i - {k'_z}^{2}\\right) = 0$$\n"
   ]
  },
  {
   "cell_type": "markdown",
   "metadata": {},
   "source": [
    "$${k'_z}^2=\\left(k_z + i\\,s_z \\right)^2 = k_z^2 - s_z^2 + 2\\,i\\,k_z\\,s_z$$"
   ]
  },
  {
   "cell_type": "markdown",
   "metadata": {},
   "source": []
  },
  {
   "cell_type": "code",
   "execution_count": 4,
   "metadata": {},
   "outputs": [],
   "source": [
    "#k__y_subs = k__y == 0 #ky + I * sy"
   ]
  },
  {
   "cell_type": "code",
   "execution_count": 5,
   "metadata": {},
   "outputs": [],
   "source": [
    "#k__z_subs = k__z == kz + I * sz"
   ]
  },
  {
   "cell_type": "code",
   "execution_count": null,
   "metadata": {},
   "outputs": [],
   "source": []
  },
  {
   "cell_type": "markdown",
   "metadata": {},
   "source": [
    "$$\\frac{\\partial^{2}}{(\\partial {x})^{2}}\\vec{E}(x) + \\frac{\\partial^{2}}{(\\partial {y})^{2}}\\vec{E}(x) + \\left(\\frac{\\mu \\epsilon \\omega^2}{c^2} - {k'_z}^2\\right)\\,\\vec{E}(x) - grad\\,div\\,\\vec{E} = 0$$"
   ]
  },
  {
   "cell_type": "markdown",
   "metadata": {},
   "source": [
    "зависимость поля от $y$ отсутствует"
   ]
  },
  {
   "cell_type": "markdown",
   "metadata": {},
   "source": [
    "$$\\frac{\\partial^{2}}{(\\partial {x})^{2}}\\vec{E}(x) + \\left(\\frac{\\mu \\epsilon \\omega^2}{c^2} - {k'_z}^2\\right)\\,\\vec{E}(x) - grad\\,div\\,\\vec{E} = 0$$"
   ]
  },
  {
   "cell_type": "code",
   "execution_count": 6,
   "metadata": {},
   "outputs": [
    {
     "name": "stdout",
     "output_type": "stream",
     "text": [
      "de_inner_vacuum =\n"
     ]
    },
    {
     "data": {
      "text/latex": [
       "$\\displaystyle -{\\left(k_{z}^{2} - \\kappa_{l}^{2}\\right)} E\\left(x\\right) + \\frac{\\partial^{2}}{(\\partial x)^{2}}E\\left(x\\right) = 0$"
      ],
      "text/plain": [
       "<IPython.core.display.Math object>"
      ]
     },
     "metadata": {},
     "output_type": "display_data"
    },
    {
     "data": {
      "text/latex": [
       "$\\displaystyle -{\\left(k_{z}^{2} - \\kappa_{r}^{2}\\right)} E\\left(x\\right) + \\frac{\\partial^{2}}{(\\partial x)^{2}}E\\left(x\\right) = 0$"
      ],
      "text/plain": [
       "<IPython.core.display.Math object>"
      ]
     },
     "metadata": {},
     "output_type": "display_data"
    }
   ],
   "source": [
    "# решаем полученные обыкновенные дифференциальные уравнения\n",
    "E = function('E')(x)\n",
    "\n",
    "\n",
    "de_inner_vacuum_l = diff (E, x, 2) + diff (E, y, 2) + (kappa_l^2 - k_z^2) * E == 0\n",
    "de_inner_vacuum_r = diff (E, x, 2) + diff (E, y, 2) + (kappa_r^2 - k_z^2) * E == 0\n",
    "# diff (E, y, 2) == 0\n",
    "de_inner_vacuum_l = diff (E, x, 2) + (kappa_l^2 - k_z^2) * E == 0\n",
    "de_inner_vacuum_r = diff (E, x, 2) + (kappa_r^2 - k_z^2) * E == 0\n",
    "# получая таким образом выражения для электрического поля в вакуума внутри резонатора и внутри проводящего металла с потерями\n",
    "print(\"de_inner_vacuum =\")\n",
    "display(Math(latex(de_inner_vacuum_l)))\n",
    "display(Math(latex(de_inner_vacuum_r)))"
   ]
  },
  {
   "cell_type": "code",
   "execution_count": 7,
   "metadata": {},
   "outputs": [
    {
     "name": "stdout",
     "output_type": "stream",
     "text": [
      "E_inner_vacuum =\n"
     ]
    },
    {
     "data": {
      "text/latex": [
       "$\\displaystyle K_{1} e^{\\left(i \\, \\sqrt{-k_{z}^{2} + \\kappa_{l}^{2}} x\\right)} + K_{2} e^{\\left(-i \\, \\sqrt{-k_{z}^{2} + \\kappa_{l}^{2}} x\\right)}$"
      ],
      "text/plain": [
       "<IPython.core.display.Math object>"
      ]
     },
     "metadata": {},
     "output_type": "display_data"
    },
    {
     "data": {
      "text/latex": [
       "$\\displaystyle K_{1} e^{\\left(i \\, \\sqrt{-k_{z}^{2} + \\kappa_{r}^{2}} x\\right)} + K_{2} e^{\\left(-i \\, \\sqrt{-k_{z}^{2} + \\kappa_{r}^{2}} x\\right)}$"
      ],
      "text/plain": [
       "<IPython.core.display.Math object>"
      ]
     },
     "metadata": {},
     "output_type": "display_data"
    }
   ],
   "source": [
    "assume(k_z^2-kappa_l^2 > 0)\n",
    "assume(k_z^2-kappa_r^2 > 0)\n",
    "\n",
    "E_inner_vacuum_l = desolve(de_inner_vacuum_l, E, ivar = x)\n",
    "E_inner_vacuum_r = desolve(de_inner_vacuum_r, E, ivar = x)\n",
    "#E_inner_vacuum = desolve(de_inner_vacuum, E, ivar = [x, y], contrib_ode = True)\n",
    "\n",
    "# получая таким образом выражения для электрического поля в вакуума внутри резонатора и внутри проводящего металла с потерями\n",
    "print(\"E_inner_vacuum =\")\n",
    "display(Math(latex(E_inner_vacuum_l)))\n",
    "display(Math(latex(E_inner_vacuum_r)))"
   ]
  },
  {
   "cell_type": "code",
   "execution_count": null,
   "metadata": {},
   "outputs": [],
   "source": []
  },
  {
   "cell_type": "code",
   "execution_count": 8,
   "metadata": {},
   "outputs": [],
   "source": [
    "B1_xl = var ('B1_xl')\n",
    "B2_xl = var ('B2_xl')\n",
    "\n",
    "B1_xr = var ('B1_xr')\n",
    "B2_xr = var ('B2_xr')\n",
    "\n",
    "\n",
    "A1_x = var ('A1_x')\n",
    "A2_x = var ('A2_x')\n",
    "\n",
    "\n",
    "B1_yl = var ('B1_yl')\n",
    "B2_yl = var ('B2_yl')\n",
    "\n",
    "B1_yr = var ('B1_yr')\n",
    "B2_yr = var ('B2_yr')\n",
    "\n",
    "A1_y = var ('A1_y')\n",
    "A2_y = var ('A2_y')\n",
    "\n",
    "\n",
    "B1_zl = var ('B1_zl')\n",
    "B2_zl = var ('B2_zl')\n",
    "\n",
    "B1_zr = var ('B1_zr')\n",
    "B2_zr = var ('B2_zr')\n",
    "\n",
    "A1_z = var ('A1_z')\n",
    "A2_z = var ('A2_z')\n",
    "\n",
    "A1_x_re, A1_y_re, A1_z_re = var(\"A1_x_re, A1_y_re, A1_z_re\")\n",
    "A1_x_im, A1_y_im, A1_z_im = var(\"A1_x_im, A1_y_im, A1_z_im\")\n",
    "\n",
    "A2_x_re, A2_y_re, A2_z_re = var(\"A2_x_re, A2_y_re, A2_z_re\")\n",
    "A2_x_im, A2_y_im, A2_z_im = var(\"A2_x_im, A2_y_im, A2_z_im\")\n",
    "\n",
    "B1_xl_re, B1_yl_re, B1_zl_re = var(\"B1_xl_re, B1_yl_re, B1_zl_re\")\n",
    "B1_xl_im, B1_yl_im, B1_zl_im = var(\"B1_xl_im, B1_yl_im, B1_zl_im\")\n",
    "\n",
    "B1_xr_re, B1_yr_re, B1_zr_re = var(\"B1_xr_re, B1_yr_re, B1_zr_re\")\n",
    "B1_xr_im, B1_yr_im, B1_zr_im = var(\"B1_xr_im, B1_yr_im, B1_zr_im\")\n",
    "\n",
    "\n",
    "assume(A1_x_re, \"real\")\n",
    "assume(A1_x_im, \"real\")\n",
    "\n",
    "assume(A2_x_re, \"real\")\n",
    "assume(A2_x_im, \"real\")\n",
    "\n",
    "assume(A1_y_re, \"real\")\n",
    "assume(A1_y_im, \"real\")\n",
    "\n",
    "assume(A2_y_re, \"real\")\n",
    "assume(A2_y_im, \"real\")\n",
    "\n",
    "assume(A1_z_re, \"real\")\n",
    "assume(A1_z_im, \"real\")\n",
    "\n",
    "assume(A2_z_re, \"real\")\n",
    "assume(A2_z_im, \"real\")\n",
    "\n",
    "\n",
    "assume(B1_xl_re, \"real\")\n",
    "assume(B1_xl_im, \"real\")\n",
    "\n",
    "assume(B1_xr_re, \"real\")\n",
    "assume(B1_xr_im, \"real\")\n",
    "\n",
    "assume(B1_yl_re, \"real\")\n",
    "assume(B1_yl_im, \"real\")\n",
    "\n",
    "assume(B1_yr_re, \"real\")\n",
    "assume(B1_yr_im, \"real\")\n",
    "\n",
    "assume(B1_zl_re, \"real\")\n",
    "assume(B1_zl_im, \"real\")\n",
    "\n",
    "assume(B1_zr_re, \"real\")\n",
    "assume(B1_zr_im, \"real\")"
   ]
  },
  {
   "cell_type": "code",
   "execution_count": 9,
   "metadata": {},
   "outputs": [],
   "source": [
    "A1_x_re_im_subs = A1_x == A1_x_re + I * A1_x_im\n",
    "A2_x_re_im_subs = A2_x == A2_x_re + I * A2_x_im\n",
    "\n",
    "A1_y_re_im_subs = A1_y == A1_y_re + I * A1_y_im\n",
    "A2_y_re_im_subs = A2_y == A2_y_re + I * A2_y_im\n",
    "\n",
    "A1_z_re_im_subs = A1_z == A1_z_re + I * A1_z_im\n",
    "A2_z_re_im_subs = A2_z == A2_z_re + I * A2_z_im\n",
    "\n",
    "B1_xl_re_im_subs = B1_xl == B1_xl_re + I * B1_xl_im\n",
    "B1_yl_re_im_subs = B1_yl == B1_yl_re + I * B1_yl_im\n",
    "B1_zl_re_im_subs = B1_zl == B1_zl_re + I * B1_zl_im\n",
    "\n",
    "B1_xr_re_im_subs = B1_xr == B1_xr_re + I * B1_xr_im\n",
    "B1_yr_re_im_subs = B1_yr == B1_yr_re + I * B1_yr_im\n",
    "B1_zr_re_im_subs = B1_zr == B1_zr_re + I * B1_zr_im"
   ]
  },
  {
   "cell_type": "code",
   "execution_count": 10,
   "metadata": {},
   "outputs": [],
   "source": [
    "# 2D\n",
    "# отсутсвие изменения поля вдоль оси y\n",
    "set_Ey_0 = False"
   ]
  },
  {
   "cell_type": "code",
   "execution_count": 11,
   "metadata": {},
   "outputs": [],
   "source": [
    "if set_Ey_0:\n",
    "    B1_yl = 0\n",
    "    B2_yl = 0\n",
    "    B1_yr = 0\n",
    "    B2_yr = 0\n",
    "\n",
    "    A1_y = 0\n",
    "    A2_y = 0\n",
    "\n",
    "    ky   = 0"
   ]
  },
  {
   "cell_type": "code",
   "execution_count": 12,
   "metadata": {},
   "outputs": [],
   "source": [
    "# K_vacuum = sqrt(kappa_vacuum^2-k_z^2)\n",
    "# K_conductor = sqrt(kappa^2-k_z^2)\n",
    "\n",
    "K_vacuum    = var(\"K_vacuum\")\n",
    "K_left_conductor = var(\"K_left_conductor\")\n",
    "K_right_conductor_r = var(\"K_right_conductor\")"
   ]
  },
  {
   "cell_type": "code",
   "execution_count": 13,
   "metadata": {},
   "outputs": [
    {
     "name": "stdout",
     "output_type": "stream",
     "text": [
      "E_inner_vacuum_sol_z (x) \n"
     ]
    },
    {
     "data": {
      "text/latex": [
       "$\\displaystyle \\mathit{A2}_{z} e^{\\left(i \\, K_{\\mathit{vacuum}} x\\right)} + \\mathit{A1}_{z} e^{\\left(-i \\, K_{\\mathit{vacuum}} x\\right)}$"
      ],
      "text/plain": [
       "<IPython.core.display.Math object>"
      ]
     },
     "metadata": {},
     "output_type": "display_data"
    },
    {
     "name": "stdout",
     "output_type": "stream",
     "text": [
      "E_inner_vacuum_sol_x (x) =\n"
     ]
    },
    {
     "data": {
      "text/latex": [
       "$\\displaystyle \\mathit{A2}_{x} e^{\\left(i \\, K_{\\mathit{vacuum}} x\\right)} + \\mathit{A1}_{x} e^{\\left(-i \\, K_{\\mathit{vacuum}} x\\right)}$"
      ],
      "text/plain": [
       "<IPython.core.display.Math object>"
      ]
     },
     "metadata": {},
     "output_type": "display_data"
    },
    {
     "name": "stdout",
     "output_type": "stream",
     "text": [
      "E_inner_vacuum_sol_y (x) =\n"
     ]
    },
    {
     "data": {
      "text/latex": [
       "$\\displaystyle \\mathit{A2}_{y} e^{\\left(i \\, K_{\\mathit{vacuum}} x\\right)} + \\mathit{A1}_{y} e^{\\left(-i \\, K_{\\mathit{vacuum}} x\\right)}$"
      ],
      "text/plain": [
       "<IPython.core.display.Math object>"
      ]
     },
     "metadata": {},
     "output_type": "display_data"
    }
   ],
   "source": [
    "# выражения для электрического поля\n",
    "# в вакууме внутри резонатора\n",
    "\n",
    "# знак перед корнем (K_vacuum) будем выбирать всегда так чтобы корень имел положительную мнимую часть\n",
    "E_inner_vacuum_sol_z (x) = A1_z*exp(- I * K_vacuum*x) + A2_z*exp( I * K_vacuum*x)\n",
    "E_inner_vacuum_sol_x (x) = A1_x*exp(- I * K_vacuum*x) + A2_x*exp( I * K_vacuum*x)\n",
    "E_inner_vacuum_sol_y (x) = A1_y*exp(- I * K_vacuum*x) + A2_y*exp( I * K_vacuum*x)\n",
    "\n",
    "E_inner_vacuum_z = function(\"E_inner_vacuum_z\")\n",
    "E_inner_vacuum_x = function(\"E_inner_vacuum_x\")\n",
    "E_inner_vacuum_y = function(\"E_inner_vacuum_y\")\n",
    "\n",
    "\n",
    "\n",
    "print (\"E_inner_vacuum_sol_z (x) \")\n",
    "display(Math(latex(E_inner_vacuum_sol_z (x))))\n",
    "print (\"E_inner_vacuum_sol_x (x) =\")\n",
    "display(Math(latex(E_inner_vacuum_sol_x (x))))\n",
    "print (\"E_inner_vacuum_sol_y (x) =\")\n",
    "display(Math(latex(E_inner_vacuum_sol_y (x))))"
   ]
  },
  {
   "cell_type": "markdown",
   "metadata": {},
   "source": [
    "решение для проводящего металла с потерями\n",
    "\n",
    "$\\vec{E} = \\vec{E}\\,e^{i\\,k_x'\\,x}\\,e^{i\\,k_z\\,z}\\,e^{-i\\,\\omega\\,t}$\n",
    "\n",
    "$k_x' = k_x + i\\,s_x$\n",
    "\n",
    "$\\vec{E} = \\vec{E}\\,e^{-s_x\\,x}\\,e^{i\\,k_x\\,x}\\,e^{i\\,k_z\\,z}\\,e^{-i\\,\\omega\\,t}$"
   ]
  },
  {
   "cell_type": "code",
   "execution_count": 14,
   "metadata": {},
   "outputs": [
    {
     "name": "stdout",
     "output_type": "stream",
     "text": [
      "E_left_conductor_sol_z (x) \n"
     ]
    },
    {
     "data": {
      "text/latex": [
       "$\\displaystyle \\mathit{B1}_{\\mathit{zl}} e^{\\left(-i \\, K_{\\mathit{left}_{\\mathit{conductor}}} x\\right)}$"
      ],
      "text/plain": [
       "<IPython.core.display.Math object>"
      ]
     },
     "metadata": {},
     "output_type": "display_data"
    },
    {
     "name": "stdout",
     "output_type": "stream",
     "text": [
      "E_left_conductor_sol_x (x) =\n"
     ]
    },
    {
     "data": {
      "text/latex": [
       "$\\displaystyle \\mathit{B1}_{\\mathit{xl}} e^{\\left(-i \\, K_{\\mathit{left}_{\\mathit{conductor}}} x\\right)}$"
      ],
      "text/plain": [
       "<IPython.core.display.Math object>"
      ]
     },
     "metadata": {},
     "output_type": "display_data"
    },
    {
     "name": "stdout",
     "output_type": "stream",
     "text": [
      "E_left_conductor_sol_y (x) =\n"
     ]
    },
    {
     "data": {
      "text/latex": [
       "$\\displaystyle \\mathit{B1}_{\\mathit{yl}} e^{\\left(-i \\, K_{\\mathit{left}_{\\mathit{conductor}}} x\\right)}$"
      ],
      "text/plain": [
       "<IPython.core.display.Math object>"
      ]
     },
     "metadata": {},
     "output_type": "display_data"
    }
   ],
   "source": [
    "# x > a-{k'_x}^{2}-{k'_y}^{2} +\n",
    "# в проводящем металле с потерями\n",
    "\n",
    "# знак перед корнем будем выбирать всегда так чтобы корень имел положительную мнимую часть\n",
    "E_left_conductor_sol_z (x) = B1_zl*exp(-I * K_left_conductor*x)\n",
    "E_left_conductor_sol_x (x) = B1_xl*exp(-I * K_left_conductor*x)\n",
    "E_left_conductor_sol_y (x) = B1_yl*exp(-I * K_left_conductor*x)\n",
    "\n",
    "E_left_conductor_z = function(\"E_left_conductor_z\")\n",
    "E_left_conductor_x = function(\"E_left_conductor_x\")\n",
    "E_left_conductor_y = function(\"E_left_conductor_y\")\n",
    "\n",
    "\n",
    "print (\"E_left_conductor_sol_z (x) \")\n",
    "display(Math(latex(E_left_conductor_sol_z (x))))\n",
    "print (\"E_left_conductor_sol_x (x) =\")\n",
    "display(Math(latex(E_left_conductor_sol_x (x))))\n",
    "print (\"E_left_conductor_sol_y (x) =\")\n",
    "display(Math(latex(E_left_conductor_sol_y (x))))"
   ]
  },
  {
   "cell_type": "code",
   "execution_count": 15,
   "metadata": {},
   "outputs": [
    {
     "name": "stdout",
     "output_type": "stream",
     "text": [
      "E_right_conductor_sol_z (x) \n"
     ]
    },
    {
     "data": {
      "text/latex": [
       "$\\displaystyle \\mathit{B1}_{\\mathit{zr}} e^{\\left(i \\, K_{\\mathit{right}_{\\mathit{conductor}}} x\\right)}$"
      ],
      "text/plain": [
       "<IPython.core.display.Math object>"
      ]
     },
     "metadata": {},
     "output_type": "display_data"
    },
    {
     "name": "stdout",
     "output_type": "stream",
     "text": [
      "E_right_conductor_sol_x (x) =\n"
     ]
    },
    {
     "data": {
      "text/latex": [
       "$\\displaystyle \\mathit{B1}_{\\mathit{xr}} e^{\\left(i \\, K_{\\mathit{right}_{\\mathit{conductor}}} x\\right)}$"
      ],
      "text/plain": [
       "<IPython.core.display.Math object>"
      ]
     },
     "metadata": {},
     "output_type": "display_data"
    },
    {
     "name": "stdout",
     "output_type": "stream",
     "text": [
      "E_right_conductor_sol_y (x) =\n"
     ]
    },
    {
     "data": {
      "text/latex": [
       "$\\displaystyle \\mathit{B1}_{\\mathit{yr}} e^{\\left(i \\, K_{\\mathit{right}_{\\mathit{conductor}}} x\\right)}$"
      ],
      "text/plain": [
       "<IPython.core.display.Math object>"
      ]
     },
     "metadata": {},
     "output_type": "display_data"
    }
   ],
   "source": [
    "# x > a-{k'_x}^{2}-{k'_y}^{2} +\n",
    "# в проводящем металле с потерями\n",
    "\n",
    "# знак перед корнем будем выбирать всегда так чтобы корень имел положительную мнимую часть\n",
    "E_right_conductor_sol_z (x) = B1_zr*exp(I * K_right_conductor*x)\n",
    "E_right_conductor_sol_x (x) = B1_xr*exp(I * K_right_conductor*x)\n",
    "E_right_conductor_sol_y (x) = B1_yr*exp(I * K_right_conductor*x)\n",
    "\n",
    "E_right_conductor_z = function(\"E_right_conductor_z\")\n",
    "E_right_conductor_x = function(\"E_right_conductor_x\")\n",
    "E_right_conductor_y = function(\"E_right_conductor_y\")\n",
    "\n",
    "\n",
    "print (\"E_right_conductor_sol_z (x) \")\n",
    "display(Math(latex(E_right_conductor_sol_z (x))))\n",
    "print (\"E_right_conductor_sol_x (x) =\")\n",
    "display(Math(latex(E_right_conductor_sol_x (x))))\n",
    "print (\"E_right_conductor_sol_y (x) =\")\n",
    "display(Math(latex(E_right_conductor_sol_y (x))))"
   ]
  },
  {
   "cell_type": "code",
   "execution_count": 16,
   "metadata": {},
   "outputs": [
    {
     "name": "stdout",
     "output_type": "stream",
     "text": [
      "H_inner_vacuum_s_y \n"
     ]
    },
    {
     "data": {
      "text/latex": [
       "$\\displaystyle x \\ {\\mapsto}\\ -\\frac{i \\, {\\left(i \\, k_{z} E_{{\\rm inner}_{{\\rm vacuum}_{x}}}\\left(x\\right) - \\frac{\\partial}{\\partial x}E_{{\\rm inner}_{{\\rm vacuum}_{z}}}\\left(x\\right)\\right)} c}{\\omega}$"
      ],
      "text/plain": [
       "<IPython.core.display.Math object>"
      ]
     },
     "metadata": {},
     "output_type": "display_data"
    },
    {
     "name": "stdout",
     "output_type": "stream",
     "text": [
      "H_left_conductor_s_y =\n"
     ]
    },
    {
     "data": {
      "text/latex": [
       "$\\displaystyle x \\ {\\mapsto}\\ -\\frac{i \\, {\\left(i \\, k_{z} E_{{\\rm left}_{{\\rm conductor}_{x}}}\\left(x\\right) - \\frac{\\partial}{\\partial x}E_{{\\rm left}_{{\\rm conductor}_{z}}}\\left(x\\right)\\right)} c}{\\mu_{l} \\omega}$"
      ],
      "text/plain": [
       "<IPython.core.display.Math object>"
      ]
     },
     "metadata": {},
     "output_type": "display_data"
    },
    {
     "name": "stdout",
     "output_type": "stream",
     "text": [
      "H_right_conductor_s_y =\n"
     ]
    },
    {
     "data": {
      "text/latex": [
       "$\\displaystyle x \\ {\\mapsto}\\ -\\frac{i \\, {\\left(i \\, k_{z} E_{{\\rm right}_{{\\rm conductor}_{x}}}\\left(x\\right) - \\frac{\\partial}{\\partial x}E_{{\\rm right}_{{\\rm conductor}_{z}}}\\left(x\\right)\\right)} c}{\\mu_{r} \\omega}$"
      ],
      "text/plain": [
       "<IPython.core.display.Math object>"
      ]
     },
     "metadata": {},
     "output_type": "display_data"
    },
    {
     "name": "stdout",
     "output_type": "stream",
     "text": [
      "H_inner_vacuum_sol_y (x) \n"
     ]
    },
    {
     "data": {
      "text/latex": [
       "$\\displaystyle -\\frac{i \\, {\\left(-i \\, \\mathit{A2}_{z} K_{\\mathit{vacuum}} e^{\\left(i \\, K_{\\mathit{vacuum}} x\\right)} + i \\, \\mathit{A1}_{z} K_{\\mathit{vacuum}} e^{\\left(-i \\, K_{\\mathit{vacuum}} x\\right)} + i \\, {\\left(\\mathit{A2}_{x} e^{\\left(i \\, K_{\\mathit{vacuum}} x\\right)} + \\mathit{A1}_{x} e^{\\left(-i \\, K_{\\mathit{vacuum}} x\\right)}\\right)} k_{z}\\right)} c}{\\omega}$"
      ],
      "text/plain": [
       "<IPython.core.display.Math object>"
      ]
     },
     "metadata": {},
     "output_type": "display_data"
    },
    {
     "name": "stdout",
     "output_type": "stream",
     "text": [
      "H_left_conductor_sol_y (x) =\n"
     ]
    },
    {
     "data": {
      "text/latex": [
       "$\\displaystyle -\\frac{i \\, {\\left(i \\, \\mathit{B1}_{\\mathit{zl}} K_{\\mathit{left}_{\\mathit{conductor}}} e^{\\left(-i \\, K_{\\mathit{left}_{\\mathit{conductor}}} x\\right)} + i \\, \\mathit{B1}_{\\mathit{xl}} k_{z} e^{\\left(-i \\, K_{\\mathit{left}_{\\mathit{conductor}}} x\\right)}\\right)} c}{\\mu_{l} \\omega}$"
      ],
      "text/plain": [
       "<IPython.core.display.Math object>"
      ]
     },
     "metadata": {},
     "output_type": "display_data"
    },
    {
     "name": "stdout",
     "output_type": "stream",
     "text": [
      "H_right_conductor_sol_y (x) =\n"
     ]
    },
    {
     "data": {
      "text/latex": [
       "$\\displaystyle -\\frac{i \\, {\\left(-i \\, \\mathit{B1}_{\\mathit{zr}} K_{\\mathit{right}_{\\mathit{conductor}}} e^{\\left(i \\, K_{\\mathit{right}_{\\mathit{conductor}}} x\\right)} + i \\, \\mathit{B1}_{\\mathit{xr}} k_{z} e^{\\left(i \\, K_{\\mathit{right}_{\\mathit{conductor}}} x\\right)}\\right)} c}{\\mu_{r} \\omega}$"
      ],
      "text/plain": [
       "<IPython.core.display.Math object>"
      ]
     },
     "metadata": {},
     "output_type": "display_data"
    }
   ],
   "source": [
    "# выражения для магнитного поля в вакууме внутри резонатора и в проводящем металле с потерями\n",
    "# rot E = -1/c dB/dt\n",
    "# H_y = c / (I * omega * mu) * (diff(E_x, z) - diff(E_z, x))\n",
    "\n",
    "# H_inner_vacuum_y  (x) = c / (I * omega)      * (I*k_z*E_inner_vacuum_x  (x) - diff(E_inner_vacuum_z  (x), x))\n",
    "# H_bad_conductor_y (x) = c / (I * omega * mu) * (I*k_z*E_bad_conductor_x (x) - diff(E_bad_conductor_z (x), x))\n",
    "\n",
    "H_inner_vacuum_y    = c/(I*omega)     *(I*k_z*E_inner_vacuum_x (x)   - diff(E_inner_vacuum_z (x), x))\n",
    "H_left_conductor_y  = c/(I*omega*mu_l)*(I*k_z*E_left_conductor_x(x)  - diff(E_left_conductor_z(x), x))\n",
    "H_right_conductor_y = c/(I*omega*mu_r)*(I*k_z*E_right_conductor_x(x) - diff(E_right_conductor_z(x), x))\n",
    "\n",
    "H_inner_vacuum_f_y    = function(\"H_inner_vacuum_f_y\")\n",
    "H_left_conductor_f_y  = function(\"H_left_conductor_f_y\")\n",
    "H_right_conductor_f_y = function(\"H_right_conductor_f_y\")\n",
    "\n",
    "H_inner_vacuum_y    = var(\"H_inner_vacuum_y\")\n",
    "H_left_conductor_y  = var(\"H_left_conductor_y\")\n",
    "H_right_conductor_y = var(\"H_right_conductor_y\")\n",
    "\n",
    "H_inner_vacuum_s_y  (x)   = c/(I*omega)     *(I*k_z*E_inner_vacuum_x (x) - diff(E_inner_vacuum_z (x), x))\n",
    "H_left_conductor_s_y (x)  = c/(I*omega*mu_l)*(I*k_z*E_left_conductor_x(x) - diff(E_left_conductor_z(x), x))\n",
    "H_right_conductor_s_y (x) = c/(I*omega*mu_r)*(I*k_z*E_right_conductor_x(x) - diff(E_right_conductor_z(x), x))\n",
    "\n",
    "H_inner_vacuum_sol_y  (x)   = c/(I*omega)     *(I*k_z*E_inner_vacuum_sol_x (x) - diff(E_inner_vacuum_sol_z (x), x))\n",
    "H_left_conductor_sol_y (x)  = c/(I*omega*mu_l)*(I*k_z*E_left_conductor_sol_x(x) - diff(E_left_conductor_sol_z(x), x))\n",
    "H_right_conductor_sol_y (x) = c/(I*omega*mu_r)*(I*k_z*E_right_conductor_sol_x(x) - diff(E_right_conductor_sol_z(x), x))\n",
    "\n",
    "print (\"H_inner_vacuum_s_y \")\n",
    "display(Math(latex(H_inner_vacuum_s_y.simplify())))\n",
    "print (\"H_left_conductor_s_y =\")\n",
    "display(Math(latex(H_left_conductor_s_y)))\n",
    "print (\"H_right_conductor_s_y =\")\n",
    "display(Math(latex(H_right_conductor_s_y)))\n",
    "\n",
    "print (\"H_inner_vacuum_sol_y (x) \")\n",
    "display(Math(latex(H_inner_vacuum_sol_y (x).simplify())))\n",
    "print (\"H_left_conductor_sol_y (x) =\")\n",
    "display(Math(latex(H_left_conductor_sol_y (x))))\n",
    "print (\"H_right_conductor_sol_y (x) =\")\n",
    "display(Math(latex(H_right_conductor_sol_y (x))))"
   ]
  },
  {
   "cell_type": "code",
   "execution_count": 17,
   "metadata": {},
   "outputs": [
    {
     "name": "stdout",
     "output_type": "stream",
     "text": [
      "H_inner_vacuum_s_x \n"
     ]
    },
    {
     "data": {
      "text/latex": [
       "$\\displaystyle x \\ {\\mapsto}\\ -\\frac{i \\, {\\left(-i \\, k_{z} E_{{\\rm inner}_{{\\rm vacuum}_{y}}}\\left(x\\right) + i \\, k_{y} E_{{\\rm inner}_{{\\rm vacuum}_{z}}}\\left(x\\right)\\right)} c}{\\omega}$"
      ],
      "text/plain": [
       "<IPython.core.display.Math object>"
      ]
     },
     "metadata": {},
     "output_type": "display_data"
    },
    {
     "name": "stdout",
     "output_type": "stream",
     "text": [
      "H_left_conductor_s_x (x) =\n"
     ]
    },
    {
     "data": {
      "text/latex": [
       "$\\displaystyle x \\ {\\mapsto}\\ -\\frac{i \\, {\\left(-i \\, k_{z} E_{{\\rm left}_{{\\rm conductor}_{y}}}\\left(x\\right) + i \\, k_{y} E_{{\\rm left}_{{\\rm conductor}_{z}}}\\left(x\\right)\\right)} c}{\\mu_{l} \\omega}$"
      ],
      "text/plain": [
       "<IPython.core.display.Math object>"
      ]
     },
     "metadata": {},
     "output_type": "display_data"
    },
    {
     "name": "stdout",
     "output_type": "stream",
     "text": [
      "H_right_conductor_s_x (x) =\n"
     ]
    },
    {
     "data": {
      "text/latex": [
       "$\\displaystyle x \\ {\\mapsto}\\ -\\frac{i \\, {\\left(-i \\, k_{z} E_{{\\rm right}_{{\\rm conductor}_{y}}}\\left(x\\right) + i \\, k_{y} E_{{\\rm right}_{{\\rm conductor}_{z}}}\\left(x\\right)\\right)} c}{\\mu_{r} \\omega}$"
      ],
      "text/plain": [
       "<IPython.core.display.Math object>"
      ]
     },
     "metadata": {},
     "output_type": "display_data"
    },
    {
     "name": "stdout",
     "output_type": "stream",
     "text": [
      "H_inner_vacuum_sol_x (x) \n"
     ]
    },
    {
     "data": {
      "text/latex": [
       "$\\displaystyle -\\frac{i \\, {\\left(i \\, {\\left(\\mathit{A2}_{z} e^{\\left(i \\, K_{\\mathit{vacuum}} x\\right)} + \\mathit{A1}_{z} e^{\\left(-i \\, K_{\\mathit{vacuum}} x\\right)}\\right)} k_{y} - i \\, {\\left(\\mathit{A2}_{y} e^{\\left(i \\, K_{\\mathit{vacuum}} x\\right)} + \\mathit{A1}_{y} e^{\\left(-i \\, K_{\\mathit{vacuum}} x\\right)}\\right)} k_{z}\\right)} c}{\\omega}$"
      ],
      "text/plain": [
       "<IPython.core.display.Math object>"
      ]
     },
     "metadata": {},
     "output_type": "display_data"
    },
    {
     "name": "stdout",
     "output_type": "stream",
     "text": [
      "H_left_conductor_sol_x (x) =\n"
     ]
    },
    {
     "data": {
      "text/latex": [
       "$\\displaystyle -\\frac{i \\, {\\left(i \\, \\mathit{B1}_{\\mathit{zl}} k_{y} e^{\\left(-i \\, K_{\\mathit{left}_{\\mathit{conductor}}} x\\right)} - i \\, \\mathit{B1}_{\\mathit{yl}} k_{z} e^{\\left(-i \\, K_{\\mathit{left}_{\\mathit{conductor}}} x\\right)}\\right)} c}{\\mu_{l} \\omega}$"
      ],
      "text/plain": [
       "<IPython.core.display.Math object>"
      ]
     },
     "metadata": {},
     "output_type": "display_data"
    },
    {
     "name": "stdout",
     "output_type": "stream",
     "text": [
      "H_right_conductor_sol_x (x) =\n"
     ]
    },
    {
     "data": {
      "text/latex": [
       "$\\displaystyle -\\frac{i \\, {\\left(i \\, \\mathit{B1}_{\\mathit{zr}} k_{y} e^{\\left(i \\, K_{\\mathit{right}_{\\mathit{conductor}}} x\\right)} - i \\, \\mathit{B1}_{\\mathit{yr}} k_{z} e^{\\left(i \\, K_{\\mathit{right}_{\\mathit{conductor}}} x\\right)}\\right)} c}{\\mu_{r} \\omega}$"
      ],
      "text/plain": [
       "<IPython.core.display.Math object>"
      ]
     },
     "metadata": {},
     "output_type": "display_data"
    }
   ],
   "source": [
    "# выражения для магнитного поля в вакууме внутри резонатора и в проводящем металле с потерями\n",
    "# rot E = -1/c dB/dt\n",
    "# H_x = c / (I * omega * mu) * (diff(E_z, y) - diff(E_y, z))\n",
    "\n",
    "H_inner_vacuum_f_x  = function(\"H_inner_vacuum_f_x\")\n",
    "H_left_conductor_f_x = function(\"H_left_conductor_f_x\")\n",
    "H_right_conductor_f_x = function(\"H_right_conductor_f_x\")\n",
    "\n",
    "H_inner_vacuum_x    = var(\"H_inner_vacuum_x\")\n",
    "H_left_conductor_x  = var(\"H_left_conductor_x\")\n",
    "H_right_conductor_x = var(\"H_right_conductor_x\")\n",
    "\n",
    "H_inner_vacuum_s_x(x)    = c/(I*omega)   *(I*k_y*E_inner_vacuum_z (x) - I*k_z*E_inner_vacuum_y (x))\n",
    "H_left_conductor_s_x(x)  = c/(I*omega*mu_l)*(I*k_y*E_left_conductor_z(x) - I*k_z*E_left_conductor_y(x))\n",
    "H_right_conductor_s_x(x) = c/(I*omega*mu_r)*(I*k_y*E_right_conductor_z(x) - I*k_z*E_right_conductor_y(x))\n",
    "\n",
    "H_inner_vacuum_sol_x (x)   = c/(I*omega)   *(I*k_y*E_inner_vacuum_sol_z (x) - I*k_z*E_inner_vacuum_sol_y (x))\n",
    "H_left_conductor_sol_x(x)  = c/(I*omega*mu_l)*(I*k_y*E_left_conductor_sol_z(x) - I*k_z*E_left_conductor_sol_y(x))\n",
    "H_right_conductor_sol_x(x) = c/(I*omega*mu_r)*(I*k_y*E_right_conductor_sol_z(x) - I*k_z*E_right_conductor_sol_y(x))\n",
    "\n",
    "print (\"H_inner_vacuum_s_x \")\n",
    "display(Math(latex(H_inner_vacuum_s_x.simplify())))\n",
    "print (\"H_left_conductor_s_x (x) =\")\n",
    "display(Math(latex(H_left_conductor_s_x)))\n",
    "print (\"H_right_conductor_s_x (x) =\")\n",
    "display(Math(latex(H_right_conductor_s_x)))\n",
    "\n",
    "print (\"H_inner_vacuum_sol_x (x) \")\n",
    "display(Math(latex(H_inner_vacuum_sol_x (x).simplify())))\n",
    "print (\"H_left_conductor_sol_x (x) =\")\n",
    "display(Math(latex(H_left_conductor_sol_x (x))))\n",
    "print (\"H_right_conductor_sol_x (x) =\")\n",
    "display(Math(latex(H_right_conductor_sol_x (x))))"
   ]
  },
  {
   "cell_type": "code",
   "execution_count": 18,
   "metadata": {},
   "outputs": [
    {
     "name": "stdout",
     "output_type": "stream",
     "text": [
      "H_inner_vacuum_s_z \n"
     ]
    },
    {
     "data": {
      "text/latex": [
       "$\\displaystyle x \\ {\\mapsto}\\ -\\frac{i \\, {\\left(-i \\, k_{y} E_{{\\rm inner}_{{\\rm vacuum}_{x}}}\\left(x\\right) + \\frac{\\partial}{\\partial x}E_{{\\rm inner}_{{\\rm vacuum}_{y}}}\\left(x\\right)\\right)} c}{\\omega}$"
      ],
      "text/plain": [
       "<IPython.core.display.Math object>"
      ]
     },
     "metadata": {},
     "output_type": "display_data"
    },
    {
     "name": "stdout",
     "output_type": "stream",
     "text": [
      "H_left_conductor_s_z =\n"
     ]
    },
    {
     "data": {
      "text/latex": [
       "$\\displaystyle x \\ {\\mapsto}\\ -\\frac{i \\, {\\left(-i \\, k_{y} E_{{\\rm left}_{{\\rm conductor}_{x}}}\\left(x\\right) + \\frac{\\partial}{\\partial x}E_{{\\rm left}_{{\\rm conductor}_{y}}}\\left(x\\right)\\right)} c}{\\mu_{l} \\omega}$"
      ],
      "text/plain": [
       "<IPython.core.display.Math object>"
      ]
     },
     "metadata": {},
     "output_type": "display_data"
    },
    {
     "name": "stdout",
     "output_type": "stream",
     "text": [
      "H_right_conductor_s_z =\n"
     ]
    },
    {
     "data": {
      "text/latex": [
       "$\\displaystyle x \\ {\\mapsto}\\ -\\frac{i \\, {\\left(-i \\, k_{y} E_{{\\rm right}_{{\\rm conductor}_{x}}}\\left(x\\right) + \\frac{\\partial}{\\partial x}E_{{\\rm right}_{{\\rm conductor}_{y}}}\\left(x\\right)\\right)} c}{\\mu_{r} \\omega}$"
      ],
      "text/plain": [
       "<IPython.core.display.Math object>"
      ]
     },
     "metadata": {},
     "output_type": "display_data"
    },
    {
     "name": "stdout",
     "output_type": "stream",
     "text": [
      "H_inner_vacuum_sol_z (x) \n"
     ]
    },
    {
     "data": {
      "text/latex": [
       "$\\displaystyle -\\frac{i \\, {\\left(i \\, \\mathit{A2}_{y} K_{\\mathit{vacuum}} e^{\\left(i \\, K_{\\mathit{vacuum}} x\\right)} - i \\, \\mathit{A1}_{y} K_{\\mathit{vacuum}} e^{\\left(-i \\, K_{\\mathit{vacuum}} x\\right)} - i \\, {\\left(\\mathit{A2}_{x} e^{\\left(i \\, K_{\\mathit{vacuum}} x\\right)} + \\mathit{A1}_{x} e^{\\left(-i \\, K_{\\mathit{vacuum}} x\\right)}\\right)} k_{y}\\right)} c}{\\omega}$"
      ],
      "text/plain": [
       "<IPython.core.display.Math object>"
      ]
     },
     "metadata": {},
     "output_type": "display_data"
    },
    {
     "name": "stdout",
     "output_type": "stream",
     "text": [
      "H_left_conductor_sol_z (x) =\n"
     ]
    },
    {
     "data": {
      "text/latex": [
       "$\\displaystyle -\\frac{i \\, {\\left(-i \\, \\mathit{B1}_{\\mathit{yl}} K_{\\mathit{left}_{\\mathit{conductor}}} e^{\\left(-i \\, K_{\\mathit{left}_{\\mathit{conductor}}} x\\right)} - i \\, \\mathit{B1}_{\\mathit{xl}} k_{y} e^{\\left(-i \\, K_{\\mathit{left}_{\\mathit{conductor}}} x\\right)}\\right)} c}{\\mu_{l} \\omega}$"
      ],
      "text/plain": [
       "<IPython.core.display.Math object>"
      ]
     },
     "metadata": {},
     "output_type": "display_data"
    },
    {
     "name": "stdout",
     "output_type": "stream",
     "text": [
      "H_right_conductor_sol_z (x) =\n"
     ]
    },
    {
     "data": {
      "text/latex": [
       "$\\displaystyle -\\frac{i \\, {\\left(i \\, \\mathit{B1}_{\\mathit{yr}} K_{\\mathit{right}_{\\mathit{conductor}}} e^{\\left(i \\, K_{\\mathit{right}_{\\mathit{conductor}}} x\\right)} - i \\, \\mathit{B1}_{\\mathit{xr}} k_{y} e^{\\left(i \\, K_{\\mathit{right}_{\\mathit{conductor}}} x\\right)}\\right)} c}{\\mu_{r} \\omega}$"
      ],
      "text/plain": [
       "<IPython.core.display.Math object>"
      ]
     },
     "metadata": {},
     "output_type": "display_data"
    }
   ],
   "source": [
    "# выражения для магнитного поля в вакууме внутри резонатора и в проводящем металле с потерями\n",
    "# rot E = -1/c dB/dt\n",
    "# H_z = c / (I * omega * mu) * (diff(E_y, x) - diff(E_x, y))\n",
    "\n",
    "H_inner_vacuum_z    = c / (I*omega)   *(diff(E_inner_vacuum_y (x), x) - I*k_y*E_inner_vacuum_x (x))\n",
    "H_left_conductor_z  = c / (I*omega*mu_l)*(diff(E_left_conductor_y(x), x) - I*k_y*E_left_conductor_x(x))\n",
    "H_right_conductor_z = c / (I*omega*mu_r)*(diff(E_right_conductor_y(x), x) - I*k_y*E_right_conductor_x(x))\n",
    "\n",
    "H_inner_vacuum_f_z    = function(\"H_inner_vacuum_f_z\")\n",
    "H_left_conductor_f_z  = function(\"H_left_conductor_f_z\")\n",
    "H_right_conductor_f_z = function(\"H_right_conductor_f_z\")\n",
    "\n",
    "H_inner_vacuum_z    = var(\"H_inner_vacuum_z\")\n",
    "H_left_conductor_z  = var(\"H_left_conductor_z\")\n",
    "H_right_conductor_z = var(\"H_right_conductor_z\")\n",
    "\n",
    "H_inner_vacuum_s_z(x)    = c / (I*omega)   * (diff(E_inner_vacuum_y (x), x) - I*k_y*E_inner_vacuum_x (x))\n",
    "H_left_conductor_s_z(x)  = c / (I*omega*mu_l)*(diff(E_left_conductor_y(x), x) - I*k_y*E_left_conductor_x(x))\n",
    "H_right_conductor_s_z(x) = c / (I*omega*mu_r)*(diff(E_right_conductor_y(x), x) - I*k_y*E_right_conductor_x(x))\n",
    "\n",
    "H_inner_vacuum_sol_z  (x) = c / (I*omega)   *(diff(E_inner_vacuum_sol_y (x), x) - I*k_y*E_inner_vacuum_sol_x (x))\n",
    "H_left_conductor_sol_z (x) = c / (I*omega*mu_l)*(diff(E_left_conductor_sol_y(x), x) - I*k_y*E_left_conductor_sol_x(x))\n",
    "H_right_conductor_sol_z (x) = c / (I*omega*mu_r)*(diff(E_right_conductor_sol_y(x), x) - I*k_y*E_right_conductor_sol_x(x))\n",
    "\n",
    "print (\"H_inner_vacuum_s_z \")\n",
    "display(Math(latex(H_inner_vacuum_s_z.simplify())))\n",
    "print (\"H_left_conductor_s_z =\")\n",
    "display(Math(latex(H_left_conductor_s_z)))\n",
    "print (\"H_right_conductor_s_z =\")\n",
    "display(Math(latex(H_right_conductor_s_z)))\n",
    "\n",
    "print (\"H_inner_vacuum_sol_z (x) \")\n",
    "display(Math(latex(H_inner_vacuum_sol_z (x))))\n",
    "print (\"H_left_conductor_sol_z (x) =\")\n",
    "display(Math(latex(H_left_conductor_sol_z (x))))\n",
    "print (\"H_right_conductor_sol_z (x) =\")\n",
    "display(Math(latex(H_right_conductor_sol_z (x))))"
   ]
  },
  {
   "cell_type": "code",
   "execution_count": 19,
   "metadata": {},
   "outputs": [
    {
     "name": "stdout",
     "output_type": "stream",
     "text": [
      "rot_H_inner_vacuum_x =\n"
     ]
    },
    {
     "data": {
      "text/latex": [
       "$\\displaystyle -i \\, k_{z} H_{{\\rm inner}_{{\\rm vacuum}_{f_{y}}}}\\left(x\\right) + i \\, k_{y} H_{{\\rm inner}_{{\\rm vacuum}_{f_{z}}}}\\left(x\\right)$"
      ],
      "text/plain": [
       "<IPython.core.display.Math object>"
      ]
     },
     "metadata": {},
     "output_type": "display_data"
    },
    {
     "name": "stdout",
     "output_type": "stream",
     "text": [
      "rot_H_left_conductor_x =\n"
     ]
    },
    {
     "data": {
      "text/latex": [
       "$\\displaystyle -i \\, k_{z} H_{{\\rm left}_{{\\rm conductor}_{f_{y}}}}\\left(x\\right) + i \\, k_{y} H_{{\\rm left}_{{\\rm conductor}_{f_{z}}}}\\left(x\\right)$"
      ],
      "text/plain": [
       "<IPython.core.display.Math object>"
      ]
     },
     "metadata": {},
     "output_type": "display_data"
    },
    {
     "name": "stdout",
     "output_type": "stream",
     "text": [
      "rot_H_right_conductor_x =\n"
     ]
    },
    {
     "data": {
      "text/latex": [
       "$\\displaystyle -i \\, k_{z} H_{{\\rm right}_{{\\rm conductor}_{f_{y}}}}\\left(x\\right) + i \\, k_{y} H_{{\\rm right}_{{\\rm conductor}_{f_{z}}}}\\left(x\\right)$"
      ],
      "text/plain": [
       "<IPython.core.display.Math object>"
      ]
     },
     "metadata": {},
     "output_type": "display_data"
    },
    {
     "name": "stdout",
     "output_type": "stream",
     "text": [
      "rot_H_inner_vacuum_y =\n"
     ]
    },
    {
     "data": {
      "text/latex": [
       "$\\displaystyle i \\, k_{z} H_{{\\rm inner}_{{\\rm vacuum}_{f_{x}}}}\\left(x\\right) - \\frac{\\partial}{\\partial x}H_{{\\rm inner}_{{\\rm vacuum}_{f_{z}}}}\\left(x\\right)$"
      ],
      "text/plain": [
       "<IPython.core.display.Math object>"
      ]
     },
     "metadata": {},
     "output_type": "display_data"
    },
    {
     "name": "stdout",
     "output_type": "stream",
     "text": [
      "rot_H_left_conductor_y =\n"
     ]
    },
    {
     "data": {
      "text/latex": [
       "$\\displaystyle i \\, k_{z} H_{{\\rm left}_{{\\rm conductor}_{f_{x}}}}\\left(x\\right) - \\frac{\\partial}{\\partial x}H_{{\\rm left}_{{\\rm conductor}_{f_{z}}}}\\left(x\\right)$"
      ],
      "text/plain": [
       "<IPython.core.display.Math object>"
      ]
     },
     "metadata": {},
     "output_type": "display_data"
    },
    {
     "name": "stdout",
     "output_type": "stream",
     "text": [
      "rot_H_right_conductor_y =\n"
     ]
    },
    {
     "data": {
      "text/latex": [
       "$\\displaystyle i \\, k_{z} H_{{\\rm right}_{{\\rm conductor}_{f_{x}}}}\\left(x\\right) - \\frac{\\partial}{\\partial x}H_{{\\rm right}_{{\\rm conductor}_{f_{z}}}}\\left(x\\right)$"
      ],
      "text/plain": [
       "<IPython.core.display.Math object>"
      ]
     },
     "metadata": {},
     "output_type": "display_data"
    },
    {
     "name": "stdout",
     "output_type": "stream",
     "text": [
      "rot_H_inner_vacuum_z =\n"
     ]
    },
    {
     "data": {
      "text/latex": [
       "$\\displaystyle -i \\, k_{y} H_{{\\rm inner}_{{\\rm vacuum}_{f_{x}}}}\\left(x\\right) + \\frac{\\partial}{\\partial x}H_{{\\rm inner}_{{\\rm vacuum}_{f_{y}}}}\\left(x\\right)$"
      ],
      "text/plain": [
       "<IPython.core.display.Math object>"
      ]
     },
     "metadata": {},
     "output_type": "display_data"
    },
    {
     "name": "stdout",
     "output_type": "stream",
     "text": [
      "rot_H_left_conductor_z =\n"
     ]
    },
    {
     "data": {
      "text/latex": [
       "$\\displaystyle -i \\, k_{y} H_{{\\rm left}_{{\\rm conductor}_{f_{x}}}}\\left(x\\right) + \\frac{\\partial}{\\partial x}H_{{\\rm left}_{{\\rm conductor}_{f_{y}}}}\\left(x\\right)$"
      ],
      "text/plain": [
       "<IPython.core.display.Math object>"
      ]
     },
     "metadata": {},
     "output_type": "display_data"
    },
    {
     "name": "stdout",
     "output_type": "stream",
     "text": [
      "rot_H_right_conductor_z =\n"
     ]
    },
    {
     "data": {
      "text/latex": [
       "$\\displaystyle -i \\, k_{y} H_{{\\rm right}_{{\\rm conductor}_{f_{x}}}}\\left(x\\right) + \\frac{\\partial}{\\partial x}H_{{\\rm right}_{{\\rm conductor}_{f_{y}}}}\\left(x\\right)$"
      ],
      "text/plain": [
       "<IPython.core.display.Math object>"
      ]
     },
     "metadata": {},
     "output_type": "display_data"
    },
    {
     "name": "stdout",
     "output_type": "stream",
     "text": [
      "rot_H_inner_vacuum_s_x =\n"
     ]
    },
    {
     "data": {
      "text/latex": [
       "$\\displaystyle x \\ {\\mapsto}\\ \\frac{{\\left(-i \\, k_{y} E_{{\\rm inner}_{{\\rm vacuum}_{x}}}\\left(x\\right) + \\frac{\\partial}{\\partial x}E_{{\\rm inner}_{{\\rm vacuum}_{y}}}\\left(x\\right)\\right)} c k_{y}}{\\omega} - \\frac{{\\left(i \\, k_{z} E_{{\\rm inner}_{{\\rm vacuum}_{x}}}\\left(x\\right) - \\frac{\\partial}{\\partial x}E_{{\\rm inner}_{{\\rm vacuum}_{z}}}\\left(x\\right)\\right)} c k_{z}}{\\omega}$"
      ],
      "text/plain": [
       "<IPython.core.display.Math object>"
      ]
     },
     "metadata": {},
     "output_type": "display_data"
    },
    {
     "name": "stdout",
     "output_type": "stream",
     "text": [
      "rot_H_left_conductor_s_x =\n"
     ]
    },
    {
     "data": {
      "text/latex": [
       "$\\displaystyle x \\ {\\mapsto}\\ \\frac{{\\left(-i \\, k_{y} E_{{\\rm left}_{{\\rm conductor}_{x}}}\\left(x\\right) + \\frac{\\partial}{\\partial x}E_{{\\rm left}_{{\\rm conductor}_{y}}}\\left(x\\right)\\right)} c k_{y}}{\\mu_{l} \\omega} - \\frac{{\\left(i \\, k_{z} E_{{\\rm left}_{{\\rm conductor}_{x}}}\\left(x\\right) - \\frac{\\partial}{\\partial x}E_{{\\rm left}_{{\\rm conductor}_{z}}}\\left(x\\right)\\right)} c k_{z}}{\\mu_{l} \\omega}$"
      ],
      "text/plain": [
       "<IPython.core.display.Math object>"
      ]
     },
     "metadata": {},
     "output_type": "display_data"
    },
    {
     "name": "stdout",
     "output_type": "stream",
     "text": [
      "rot_H_right_conductor_s_x =\n"
     ]
    },
    {
     "data": {
      "text/latex": [
       "$\\displaystyle x \\ {\\mapsto}\\ \\frac{{\\left(-i \\, k_{y} E_{{\\rm right}_{{\\rm conductor}_{x}}}\\left(x\\right) + \\frac{\\partial}{\\partial x}E_{{\\rm right}_{{\\rm conductor}_{y}}}\\left(x\\right)\\right)} c k_{y}}{\\mu_{r} \\omega} - \\frac{{\\left(i \\, k_{z} E_{{\\rm right}_{{\\rm conductor}_{x}}}\\left(x\\right) - \\frac{\\partial}{\\partial x}E_{{\\rm right}_{{\\rm conductor}_{z}}}\\left(x\\right)\\right)} c k_{z}}{\\mu_{r} \\omega}$"
      ],
      "text/plain": [
       "<IPython.core.display.Math object>"
      ]
     },
     "metadata": {},
     "output_type": "display_data"
    },
    {
     "name": "stdout",
     "output_type": "stream",
     "text": [
      "rot_H_inner_vacuum_s_y =\n"
     ]
    },
    {
     "data": {
      "text/latex": [
       "$\\displaystyle x \\ {\\mapsto}\\ \\frac{{\\left(-i \\, k_{z} E_{{\\rm inner}_{{\\rm vacuum}_{y}}}\\left(x\\right) + i \\, k_{y} E_{{\\rm inner}_{{\\rm vacuum}_{z}}}\\left(x\\right)\\right)} c k_{z}}{\\omega} + \\frac{i \\, {\\left(-i \\, k_{y} \\frac{\\partial}{\\partial x}E_{{\\rm inner}_{{\\rm vacuum}_{x}}}\\left(x\\right) + \\frac{\\partial^{2}}{(\\partial x)^{2}}E_{{\\rm inner}_{{\\rm vacuum}_{y}}}\\left(x\\right)\\right)} c}{\\omega}$"
      ],
      "text/plain": [
       "<IPython.core.display.Math object>"
      ]
     },
     "metadata": {},
     "output_type": "display_data"
    },
    {
     "name": "stdout",
     "output_type": "stream",
     "text": [
      "rot_H_left_conductor_s_y =\n"
     ]
    },
    {
     "data": {
      "text/latex": [
       "$\\displaystyle x \\ {\\mapsto}\\ \\frac{{\\left(-i \\, k_{z} E_{{\\rm left}_{{\\rm conductor}_{y}}}\\left(x\\right) + i \\, k_{y} E_{{\\rm left}_{{\\rm conductor}_{z}}}\\left(x\\right)\\right)} c k_{z}}{\\mu_{l} \\omega} + \\frac{i \\, {\\left(-i \\, k_{y} \\frac{\\partial}{\\partial x}E_{{\\rm left}_{{\\rm conductor}_{x}}}\\left(x\\right) + \\frac{\\partial^{2}}{(\\partial x)^{2}}E_{{\\rm left}_{{\\rm conductor}_{y}}}\\left(x\\right)\\right)} c}{\\mu_{l} \\omega}$"
      ],
      "text/plain": [
       "<IPython.core.display.Math object>"
      ]
     },
     "metadata": {},
     "output_type": "display_data"
    },
    {
     "name": "stdout",
     "output_type": "stream",
     "text": [
      "rot_H_right_conductor_s_y =\n"
     ]
    },
    {
     "data": {
      "text/latex": [
       "$\\displaystyle x \\ {\\mapsto}\\ \\frac{{\\left(-i \\, k_{z} E_{{\\rm right}_{{\\rm conductor}_{y}}}\\left(x\\right) + i \\, k_{y} E_{{\\rm right}_{{\\rm conductor}_{z}}}\\left(x\\right)\\right)} c k_{z}}{\\mu_{r} \\omega} + \\frac{i \\, {\\left(-i \\, k_{y} \\frac{\\partial}{\\partial x}E_{{\\rm right}_{{\\rm conductor}_{x}}}\\left(x\\right) + \\frac{\\partial^{2}}{(\\partial x)^{2}}E_{{\\rm right}_{{\\rm conductor}_{y}}}\\left(x\\right)\\right)} c}{\\mu_{r} \\omega}$"
      ],
      "text/plain": [
       "<IPython.core.display.Math object>"
      ]
     },
     "metadata": {},
     "output_type": "display_data"
    },
    {
     "name": "stdout",
     "output_type": "stream",
     "text": [
      "rot_H_inner_vacuum_s_z =\n"
     ]
    },
    {
     "data": {
      "text/latex": [
       "$\\displaystyle x \\ {\\mapsto}\\ -\\frac{{\\left(-i \\, k_{z} E_{{\\rm inner}_{{\\rm vacuum}_{y}}}\\left(x\\right) + i \\, k_{y} E_{{\\rm inner}_{{\\rm vacuum}_{z}}}\\left(x\\right)\\right)} c k_{y}}{\\omega} - \\frac{i \\, {\\left(i \\, k_{z} \\frac{\\partial}{\\partial x}E_{{\\rm inner}_{{\\rm vacuum}_{x}}}\\left(x\\right) - \\frac{\\partial^{2}}{(\\partial x)^{2}}E_{{\\rm inner}_{{\\rm vacuum}_{z}}}\\left(x\\right)\\right)} c}{\\omega}$"
      ],
      "text/plain": [
       "<IPython.core.display.Math object>"
      ]
     },
     "metadata": {},
     "output_type": "display_data"
    },
    {
     "name": "stdout",
     "output_type": "stream",
     "text": [
      "rot_H_left_conductor_s_z =\n"
     ]
    },
    {
     "data": {
      "text/latex": [
       "$\\displaystyle x \\ {\\mapsto}\\ -\\frac{{\\left(-i \\, k_{z} E_{{\\rm left}_{{\\rm conductor}_{y}}}\\left(x\\right) + i \\, k_{y} E_{{\\rm left}_{{\\rm conductor}_{z}}}\\left(x\\right)\\right)} c k_{y}}{\\mu_{l} \\omega} - \\frac{i \\, {\\left(i \\, k_{z} \\frac{\\partial}{\\partial x}E_{{\\rm left}_{{\\rm conductor}_{x}}}\\left(x\\right) - \\frac{\\partial^{2}}{(\\partial x)^{2}}E_{{\\rm left}_{{\\rm conductor}_{z}}}\\left(x\\right)\\right)} c}{\\mu_{l} \\omega}$"
      ],
      "text/plain": [
       "<IPython.core.display.Math object>"
      ]
     },
     "metadata": {},
     "output_type": "display_data"
    },
    {
     "name": "stdout",
     "output_type": "stream",
     "text": [
      "rot_H_right_conductor_s_z =\n"
     ]
    },
    {
     "data": {
      "text/latex": [
       "$\\displaystyle x \\ {\\mapsto}\\ -\\frac{{\\left(-i \\, k_{z} E_{{\\rm right}_{{\\rm conductor}_{y}}}\\left(x\\right) + i \\, k_{y} E_{{\\rm right}_{{\\rm conductor}_{z}}}\\left(x\\right)\\right)} c k_{y}}{\\mu_{r} \\omega} - \\frac{i \\, {\\left(i \\, k_{z} \\frac{\\partial}{\\partial x}E_{{\\rm right}_{{\\rm conductor}_{x}}}\\left(x\\right) - \\frac{\\partial^{2}}{(\\partial x)^{2}}E_{{\\rm right}_{{\\rm conductor}_{z}}}\\left(x\\right)\\right)} c}{\\mu_{r} \\omega}$"
      ],
      "text/plain": [
       "<IPython.core.display.Math object>"
      ]
     },
     "metadata": {},
     "output_type": "display_data"
    },
    {
     "name": "stdout",
     "output_type": "stream",
     "text": [
      "rot_H_inner_vacuum_sol_x =\n"
     ]
    },
    {
     "data": {
      "text/latex": [
       "$\\displaystyle \\frac{{\\left(i \\, \\mathit{A2}_{y} K_{\\mathit{vacuum}} e^{\\left(i \\, K_{\\mathit{vacuum}} x\\right)} - i \\, \\mathit{A1}_{y} K_{\\mathit{vacuum}} e^{\\left(-i \\, K_{\\mathit{vacuum}} x\\right)} - i \\, {\\left(\\mathit{A2}_{x} e^{\\left(i \\, K_{\\mathit{vacuum}} x\\right)} + \\mathit{A1}_{x} e^{\\left(-i \\, K_{\\mathit{vacuum}} x\\right)}\\right)} k_{y}\\right)} c k_{y}}{\\omega} - \\frac{{\\left(-i \\, \\mathit{A2}_{z} K_{\\mathit{vacuum}} e^{\\left(i \\, K_{\\mathit{vacuum}} x\\right)} + i \\, \\mathit{A1}_{z} K_{\\mathit{vacuum}} e^{\\left(-i \\, K_{\\mathit{vacuum}} x\\right)} + i \\, {\\left(\\mathit{A2}_{x} e^{\\left(i \\, K_{\\mathit{vacuum}} x\\right)} + \\mathit{A1}_{x} e^{\\left(-i \\, K_{\\mathit{vacuum}} x\\right)}\\right)} k_{z}\\right)} c k_{z}}{\\omega}$"
      ],
      "text/plain": [
       "<IPython.core.display.Math object>"
      ]
     },
     "metadata": {},
     "output_type": "display_data"
    },
    {
     "name": "stdout",
     "output_type": "stream",
     "text": [
      "rot_H_left_conductor_sol_x =\n"
     ]
    },
    {
     "data": {
      "text/latex": [
       "$\\displaystyle \\frac{{\\left(-i \\, \\mathit{B1}_{\\mathit{yl}} K_{\\mathit{left}_{\\mathit{conductor}}} e^{\\left(-i \\, K_{\\mathit{left}_{\\mathit{conductor}}} x\\right)} - i \\, \\mathit{B1}_{\\mathit{xl}} k_{y} e^{\\left(-i \\, K_{\\mathit{left}_{\\mathit{conductor}}} x\\right)}\\right)} c k_{y}}{\\mu_{l} \\omega} - \\frac{{\\left(i \\, \\mathit{B1}_{\\mathit{zl}} K_{\\mathit{left}_{\\mathit{conductor}}} e^{\\left(-i \\, K_{\\mathit{left}_{\\mathit{conductor}}} x\\right)} + i \\, \\mathit{B1}_{\\mathit{xl}} k_{z} e^{\\left(-i \\, K_{\\mathit{left}_{\\mathit{conductor}}} x\\right)}\\right)} c k_{z}}{\\mu_{l} \\omega}$"
      ],
      "text/plain": [
       "<IPython.core.display.Math object>"
      ]
     },
     "metadata": {},
     "output_type": "display_data"
    },
    {
     "name": "stdout",
     "output_type": "stream",
     "text": [
      "rot_H_right_conductor_sol_x =\n"
     ]
    },
    {
     "data": {
      "text/latex": [
       "$\\displaystyle \\frac{{\\left(i \\, \\mathit{B1}_{\\mathit{yr}} K_{\\mathit{right}_{\\mathit{conductor}}} e^{\\left(i \\, K_{\\mathit{right}_{\\mathit{conductor}}} x\\right)} - i \\, \\mathit{B1}_{\\mathit{xr}} k_{y} e^{\\left(i \\, K_{\\mathit{right}_{\\mathit{conductor}}} x\\right)}\\right)} c k_{y}}{\\mu_{r} \\omega} - \\frac{{\\left(-i \\, \\mathit{B1}_{\\mathit{zr}} K_{\\mathit{right}_{\\mathit{conductor}}} e^{\\left(i \\, K_{\\mathit{right}_{\\mathit{conductor}}} x\\right)} + i \\, \\mathit{B1}_{\\mathit{xr}} k_{z} e^{\\left(i \\, K_{\\mathit{right}_{\\mathit{conductor}}} x\\right)}\\right)} c k_{z}}{\\mu_{r} \\omega}$"
      ],
      "text/plain": [
       "<IPython.core.display.Math object>"
      ]
     },
     "metadata": {},
     "output_type": "display_data"
    },
    {
     "name": "stdout",
     "output_type": "stream",
     "text": [
      "rot_H_inner_vacuum_sol_y =\n"
     ]
    },
    {
     "data": {
      "text/latex": [
       "$\\displaystyle \\frac{{\\left(i \\, {\\left(\\mathit{A2}_{z} e^{\\left(i \\, K_{\\mathit{vacuum}} x\\right)} + \\mathit{A1}_{z} e^{\\left(-i \\, K_{\\mathit{vacuum}} x\\right)}\\right)} k_{y} - i \\, {\\left(\\mathit{A2}_{y} e^{\\left(i \\, K_{\\mathit{vacuum}} x\\right)} + \\mathit{A1}_{y} e^{\\left(-i \\, K_{\\mathit{vacuum}} x\\right)}\\right)} k_{z}\\right)} c k_{z}}{\\omega} - \\frac{i \\, {\\left(\\mathit{A2}_{y} K_{\\mathit{vacuum}}^{2} e^{\\left(i \\, K_{\\mathit{vacuum}} x\\right)} + \\mathit{A1}_{y} K_{\\mathit{vacuum}}^{2} e^{\\left(-i \\, K_{\\mathit{vacuum}} x\\right)} + i \\, {\\left(i \\, \\mathit{A2}_{x} K_{\\mathit{vacuum}} e^{\\left(i \\, K_{\\mathit{vacuum}} x\\right)} - i \\, \\mathit{A1}_{x} K_{\\mathit{vacuum}} e^{\\left(-i \\, K_{\\mathit{vacuum}} x\\right)}\\right)} k_{y}\\right)} c}{\\omega}$"
      ],
      "text/plain": [
       "<IPython.core.display.Math object>"
      ]
     },
     "metadata": {},
     "output_type": "display_data"
    },
    {
     "name": "stdout",
     "output_type": "stream",
     "text": [
      "rot_H_left_conductor_sol_y =\n"
     ]
    },
    {
     "data": {
      "text/latex": [
       "$\\displaystyle \\frac{{\\left(i \\, \\mathit{B1}_{\\mathit{zl}} k_{y} e^{\\left(-i \\, K_{\\mathit{left}_{\\mathit{conductor}}} x\\right)} - i \\, \\mathit{B1}_{\\mathit{yl}} k_{z} e^{\\left(-i \\, K_{\\mathit{left}_{\\mathit{conductor}}} x\\right)}\\right)} c k_{z}}{\\mu_{l} \\omega} - \\frac{i \\, {\\left(\\mathit{B1}_{\\mathit{yl}} K_{\\mathit{left}_{\\mathit{conductor}}}^{2} e^{\\left(-i \\, K_{\\mathit{left}_{\\mathit{conductor}}} x\\right)} + \\mathit{B1}_{\\mathit{xl}} K_{\\mathit{left}_{\\mathit{conductor}}} k_{y} e^{\\left(-i \\, K_{\\mathit{left}_{\\mathit{conductor}}} x\\right)}\\right)} c}{\\mu_{l} \\omega}$"
      ],
      "text/plain": [
       "<IPython.core.display.Math object>"
      ]
     },
     "metadata": {},
     "output_type": "display_data"
    },
    {
     "name": "stdout",
     "output_type": "stream",
     "text": [
      "rot_H_right_conductor_sol_y =\n"
     ]
    },
    {
     "data": {
      "text/latex": [
       "$\\displaystyle \\frac{{\\left(i \\, \\mathit{B1}_{\\mathit{zr}} k_{y} e^{\\left(i \\, K_{\\mathit{right}_{\\mathit{conductor}}} x\\right)} - i \\, \\mathit{B1}_{\\mathit{yr}} k_{z} e^{\\left(i \\, K_{\\mathit{right}_{\\mathit{conductor}}} x\\right)}\\right)} c k_{z}}{\\mu_{r} \\omega} - \\frac{i \\, {\\left(\\mathit{B1}_{\\mathit{yr}} K_{\\mathit{right}_{\\mathit{conductor}}}^{2} e^{\\left(i \\, K_{\\mathit{right}_{\\mathit{conductor}}} x\\right)} - \\mathit{B1}_{\\mathit{xr}} K_{\\mathit{right}_{\\mathit{conductor}}} k_{y} e^{\\left(i \\, K_{\\mathit{right}_{\\mathit{conductor}}} x\\right)}\\right)} c}{\\mu_{r} \\omega}$"
      ],
      "text/plain": [
       "<IPython.core.display.Math object>"
      ]
     },
     "metadata": {},
     "output_type": "display_data"
    },
    {
     "name": "stdout",
     "output_type": "stream",
     "text": [
      "rot_H_inner_vacuum_sol_z =\n"
     ]
    },
    {
     "data": {
      "text/latex": [
       "$\\displaystyle -\\frac{{\\left(i \\, {\\left(\\mathit{A2}_{z} e^{\\left(i \\, K_{\\mathit{vacuum}} x\\right)} + \\mathit{A1}_{z} e^{\\left(-i \\, K_{\\mathit{vacuum}} x\\right)}\\right)} k_{y} - i \\, {\\left(\\mathit{A2}_{y} e^{\\left(i \\, K_{\\mathit{vacuum}} x\\right)} + \\mathit{A1}_{y} e^{\\left(-i \\, K_{\\mathit{vacuum}} x\\right)}\\right)} k_{z}\\right)} c k_{y}}{\\omega} - \\frac{i \\, {\\left(\\mathit{A2}_{z} K_{\\mathit{vacuum}}^{2} e^{\\left(i \\, K_{\\mathit{vacuum}} x\\right)} + \\mathit{A1}_{z} K_{\\mathit{vacuum}}^{2} e^{\\left(-i \\, K_{\\mathit{vacuum}} x\\right)} + i \\, {\\left(i \\, \\mathit{A2}_{x} K_{\\mathit{vacuum}} e^{\\left(i \\, K_{\\mathit{vacuum}} x\\right)} - i \\, \\mathit{A1}_{x} K_{\\mathit{vacuum}} e^{\\left(-i \\, K_{\\mathit{vacuum}} x\\right)}\\right)} k_{z}\\right)} c}{\\omega}$"
      ],
      "text/plain": [
       "<IPython.core.display.Math object>"
      ]
     },
     "metadata": {},
     "output_type": "display_data"
    },
    {
     "name": "stdout",
     "output_type": "stream",
     "text": [
      "rot_H_left_conductor_sol_z =\n"
     ]
    },
    {
     "data": {
      "text/latex": [
       "$\\displaystyle -\\frac{{\\left(i \\, \\mathit{B1}_{\\mathit{zl}} k_{y} e^{\\left(-i \\, K_{\\mathit{left}_{\\mathit{conductor}}} x\\right)} - i \\, \\mathit{B1}_{\\mathit{yl}} k_{z} e^{\\left(-i \\, K_{\\mathit{left}_{\\mathit{conductor}}} x\\right)}\\right)} c k_{y}}{\\mu_{l} \\omega} - \\frac{i \\, {\\left(\\mathit{B1}_{\\mathit{zl}} K_{\\mathit{left}_{\\mathit{conductor}}}^{2} e^{\\left(-i \\, K_{\\mathit{left}_{\\mathit{conductor}}} x\\right)} + \\mathit{B1}_{\\mathit{xl}} K_{\\mathit{left}_{\\mathit{conductor}}} k_{z} e^{\\left(-i \\, K_{\\mathit{left}_{\\mathit{conductor}}} x\\right)}\\right)} c}{\\mu_{l} \\omega}$"
      ],
      "text/plain": [
       "<IPython.core.display.Math object>"
      ]
     },
     "metadata": {},
     "output_type": "display_data"
    },
    {
     "name": "stdout",
     "output_type": "stream",
     "text": [
      "rot_H_right_conductor_sol_z =\n"
     ]
    },
    {
     "data": {
      "text/latex": [
       "$\\displaystyle -\\frac{{\\left(i \\, \\mathit{B1}_{\\mathit{zr}} k_{y} e^{\\left(i \\, K_{\\mathit{right}_{\\mathit{conductor}}} x\\right)} - i \\, \\mathit{B1}_{\\mathit{yr}} k_{z} e^{\\left(i \\, K_{\\mathit{right}_{\\mathit{conductor}}} x\\right)}\\right)} c k_{y}}{\\mu_{r} \\omega} - \\frac{i \\, {\\left(\\mathit{B1}_{\\mathit{zr}} K_{\\mathit{right}_{\\mathit{conductor}}}^{2} e^{\\left(i \\, K_{\\mathit{right}_{\\mathit{conductor}}} x\\right)} - \\mathit{B1}_{\\mathit{xr}} K_{\\mathit{right}_{\\mathit{conductor}}} k_{z} e^{\\left(i \\, K_{\\mathit{right}_{\\mathit{conductor}}} x\\right)}\\right)} c}{\\mu_{r} \\omega}$"
      ],
      "text/plain": [
       "<IPython.core.display.Math object>"
      ]
     },
     "metadata": {},
     "output_type": "display_data"
    }
   ],
   "source": [
    "# уравнение Максвелла для тока смещения\n",
    "# rot_H   = - I * epsilon * omega / c * E\n",
    "# rot_H_x = diff(H_z, y) - diff(H_y, z)\n",
    "# rot_H_y = diff(H_x, z) - diff(H_z, x)\n",
    "# rot_H_z = diff(H_y, x) - diff(H_x, y)\n",
    "\n",
    "# rot_H_x = diff(H_z, y) - diff(H_y, z)\n",
    "rot_H_inner_vacuum_x    = I*k_y*H_inner_vacuum_f_z(x)  - I*k_z*H_inner_vacuum_f_y(x)\n",
    "rot_H_left_conductor_x  = I*k_y*H_left_conductor_f_z(x) - I*k_z*H_left_conductor_f_y(x)\n",
    "rot_H_right_conductor_x = I*k_y*H_right_conductor_f_z(x) - I*k_z*H_right_conductor_f_y(x)\n",
    "\n",
    "# rot_H_y = diff(H_x, z) - diff(H_z, x)\n",
    "rot_H_inner_vacuum_y  = I*k_z*H_inner_vacuum_f_x(x)  - diff(H_inner_vacuum_f_z(x), x)\n",
    "rot_H_left_conductor_y = I*k_z*H_left_conductor_f_x(x) - diff(H_left_conductor_f_z(x), x)\n",
    "rot_H_right_conductor_y = I*k_z*H_right_conductor_f_x(x) - diff(H_right_conductor_f_z(x), x)\n",
    "\n",
    "# rot_H_z = diff(H_y, x) - diff(H_x, y)\n",
    "rot_H_inner_vacuum_z    = diff(H_inner_vacuum_f_y(x) , x) - I*k_y*H_inner_vacuum_f_x(x)\n",
    "rot_H_left_conductor_z  = diff(H_left_conductor_f_y(x), x) - I*k_y*H_left_conductor_f_x(x)\n",
    "rot_H_right_conductor_z = diff(H_right_conductor_f_y(x), x) - I*k_y*H_right_conductor_f_x(x)\n",
    "\n",
    "# rot_H_x = diff(H_z, y) - diff(H_y, z)\n",
    "rot_H_inner_vacuum_s_x    = I*k_y*H_inner_vacuum_s_z  - I*k_z*H_inner_vacuum_s_y\n",
    "rot_H_left_conductor_s_x  = I*k_y*H_left_conductor_s_z - I*k_z*H_left_conductor_s_y\n",
    "rot_H_right_conductor_s_x = I*k_y*H_right_conductor_s_z - I*k_z*H_right_conductor_s_y\n",
    "\n",
    "# rot_H_y = diff(H_x, z) - diff(H_z, x)\n",
    "rot_H_inner_vacuum_s_y    = I*k_z*H_inner_vacuum_s_x  - diff(H_inner_vacuum_s_z, x)\n",
    "rot_H_left_conductor_s_y  = I*k_z*H_left_conductor_s_x - diff(H_left_conductor_s_z, x)\n",
    "rot_H_right_conductor_s_y = I*k_z*H_right_conductor_s_x - diff(H_right_conductor_s_z, x)\n",
    "\n",
    "#H_inner_vacuum_s_z(x)  = c / (I*omega)   *(-I*sqrt(kappa_vacuum^2-k^2)*E_inner_vacuum_y (x) - I*k_y*E_inner_vacuum_x (x))\n",
    "#H_bad_conductor_s_z(x) = c / (I*omega*mu)*( I*sqrt(kappa       ^2-k^2)*E_bad_conductor_y(x) - I*k_y*E_bad_conductor_x(x))\n",
    "\n",
    "#print(diff(H_inner_vacuum_s_z, x) \\\n",
    "#      .substitute_function(diff(E_inner_vacuum_y(x), x), - I*sqrt(-k^2 + kappa_vacuum^2) * E_inner_vacuum_y(x)) \\\n",
    "#      .substitute_function(diff(E_inner_vacuum_x(x), x), - I*sqrt(-k^2 + kappa_vacuum^2) * E_inner_vacuum_x(x))) \\\n",
    "\n",
    "#rot_H_inner_vacuum_s_y  = I*k_z*H_inner_vacuum_s_x  - c / (I*omega)*(-I*sqrt(kappa_vacuum^2-k_z^2)*\n",
    "#                                                                     (-I*sqrt(kappa_vacuum^2-k_z^2))*\n",
    "#                                                                             E_inner_vacuum_y (x) \n",
    "#                                                                     - I*k_y*(-I*sqrt(kappa_vacuum^2-k_z^2))*\n",
    "#                                                                             E_inner_vacuum_x (x))\n",
    "#\n",
    "#rot_H_bad_conductor_s_y = I*k_z*H_bad_conductor_s_x - c / (I*omega*mu)*( I*sqrt(kappa^2-k_z^2)*\n",
    "#                                                                         I*sqrt(kappa^2-k_z^2)*\n",
    "#                                                                             E_bad_conductor_y(x) \n",
    "#                                                                       - I*k_y*\n",
    "#                                                                        I*sqrt(kappa^2-k_z^2)*\n",
    "#                                                                        E_bad_conductor_x(x))\n",
    "\n",
    "# rot_H_y = diff(H_x, z) - diff(H_z, x)\n",
    "rot_H_inner_vacuum_s_y  = I*k_z*H_inner_vacuum_s_x  - diff(H_inner_vacuum_s_z, x)\n",
    "rot_H_left_conductor_s_y = I*k_z*H_left_conductor_s_x - diff(H_left_conductor_s_z, x)\n",
    "rot_H_right_conductor_s_y = I*k_z*H_right_conductor_s_x - diff(H_right_conductor_s_z, x)\n",
    "\n",
    "\n",
    "# rot_H_z = diff(H_y, x) - diff(H_x, y)\n",
    "rot_H_inner_vacuum_s_z    = diff(H_inner_vacuum_s_y , x) - I*k_y*H_inner_vacuum_s_x\n",
    "rot_H_left_conductor_s_z  = diff(H_left_conductor_s_y, x) - I*k_y*H_left_conductor_s_x\n",
    "rot_H_right_conductor_s_z = diff(H_right_conductor_s_y, x) - I*k_y*H_right_conductor_s_x\n",
    "\n",
    "rot_H_inner_vacuum_s_z    = diff(H_inner_vacuum_s_y, x)  - I*k_y*H_inner_vacuum_s_x\n",
    "rot_H_left_conductor_s_z  =  diff(H_left_conductor_s_y, x) - I*k_y*H_left_conductor_s_x\n",
    "rot_H_right_conductor_s_z =  diff(H_right_conductor_s_y, x) - I*k_y*H_right_conductor_s_x\n",
    "\n",
    "\n",
    "# sol\n",
    "rot_H_inner_vacuum_sol_x    = I*k_y*H_inner_vacuum_sol_z (x) - I*k_z*H_inner_vacuum_sol_y (x)\n",
    "rot_H_left_conductor_sol_x  = I*k_y*H_left_conductor_sol_z(x) - I*k_z*H_left_conductor_sol_y(x)\n",
    "rot_H_right_conductor_sol_x = I*k_y*H_right_conductor_sol_z(x) - I*k_z*H_right_conductor_sol_y(x)\n",
    "\n",
    "rot_H_inner_vacuum_sol_y    = I*k_z*H_inner_vacuum_sol_x (x) - diff(H_inner_vacuum_sol_z (x), x)\n",
    "rot_H_left_conductor_sol_y  = I*k_z*H_left_conductor_sol_x(x) - diff(H_left_conductor_sol_z(x), x)\n",
    "rot_H_right_conductor_sol_y = I*k_z*H_right_conductor_sol_x(x) - diff(H_right_conductor_sol_z(x), x)\n",
    "\n",
    "rot_H_inner_vacuum_sol_z    = diff(H_inner_vacuum_sol_y (x), x) - I*k_y*H_inner_vacuum_sol_x (x)\n",
    "rot_H_left_conductor_sol_z  = diff(H_left_conductor_sol_y(x), x) - I*k_y*H_left_conductor_sol_x(x)\n",
    "rot_H_right_conductor_sol_z = diff(H_right_conductor_sol_y(x), x) - I*k_y*H_right_conductor_sol_x(x)\n",
    "\n",
    "\n",
    "print (\"rot_H_inner_vacuum_x =\")\n",
    "display(Math(latex(rot_H_inner_vacuum_x)))\n",
    "print (\"rot_H_left_conductor_x =\")\n",
    "display(Math(latex(rot_H_left_conductor_x)))\n",
    "print (\"rot_H_right_conductor_x =\")\n",
    "display(Math(latex(rot_H_right_conductor_x)))\n",
    "\n",
    "print (\"rot_H_inner_vacuum_y =\")\n",
    "display(Math(latex(rot_H_inner_vacuum_y)))\n",
    "print (\"rot_H_left_conductor_y =\")\n",
    "display(Math(latex(rot_H_left_conductor_y)))\n",
    "print (\"rot_H_right_conductor_y =\")\n",
    "display(Math(latex(rot_H_right_conductor_y)))\n",
    "\n",
    "print (\"rot_H_inner_vacuum_z =\")\n",
    "display(Math(latex(rot_H_inner_vacuum_z)))\n",
    "print (\"rot_H_left_conductor_z =\")\n",
    "display(Math(latex(rot_H_left_conductor_z)))\n",
    "print (\"rot_H_right_conductor_z =\")\n",
    "display(Math(latex(rot_H_right_conductor_z)))\n",
    "\n",
    "\n",
    "\n",
    "print (\"rot_H_inner_vacuum_s_x =\")\n",
    "display(Math(latex(rot_H_inner_vacuum_s_x)))\n",
    "print (\"rot_H_left_conductor_s_x =\")\n",
    "display(Math(latex(rot_H_left_conductor_s_x)))\n",
    "print (\"rot_H_right_conductor_s_x =\")\n",
    "display(Math(latex(rot_H_right_conductor_s_x)))\n",
    "\n",
    "print (\"rot_H_inner_vacuum_s_y =\")\n",
    "display(Math(latex(rot_H_inner_vacuum_s_y)))\n",
    "print (\"rot_H_left_conductor_s_y =\")\n",
    "display(Math(latex(rot_H_left_conductor_s_y)))\n",
    "print (\"rot_H_right_conductor_s_y =\")\n",
    "display(Math(latex(rot_H_right_conductor_s_y)))\n",
    "\n",
    "print (\"rot_H_inner_vacuum_s_z =\")\n",
    "display(Math(latex(rot_H_inner_vacuum_s_z)))\n",
    "print (\"rot_H_left_conductor_s_z =\")\n",
    "display(Math(latex(rot_H_left_conductor_s_z)))\n",
    "print (\"rot_H_right_conductor_s_z =\")\n",
    "display(Math(latex(rot_H_right_conductor_s_z)))\n",
    "\n",
    "\n",
    "\n",
    "print (\"rot_H_inner_vacuum_sol_x =\")\n",
    "display(Math(latex(rot_H_inner_vacuum_sol_x)))\n",
    "print (\"rot_H_left_conductor_sol_x =\")\n",
    "display(Math(latex(rot_H_left_conductor_sol_x)))\n",
    "print (\"rot_H_right_conductor_sol_x =\")\n",
    "display(Math(latex(rot_H_right_conductor_sol_x)))\n",
    "\n",
    "print (\"rot_H_inner_vacuum_sol_y =\")\n",
    "display(Math(latex(rot_H_inner_vacuum_sol_y)))\n",
    "print (\"rot_H_left_conductor_sol_y =\")\n",
    "display(Math(latex(rot_H_left_conductor_sol_y)))\n",
    "print (\"rot_H_right_conductor_sol_y =\")\n",
    "display(Math(latex(rot_H_right_conductor_sol_y)))\n",
    "\n",
    "print (\"rot_H_inner_vacuum_sol_z =\")\n",
    "display(Math(latex(rot_H_inner_vacuum_sol_z)))\n",
    "print (\"rot_H_left_conductor_sol_z =\")\n",
    "display(Math(latex(rot_H_left_conductor_sol_z)))\n",
    "print (\"rot_H_right_conductor_sol_z =\")\n",
    "display(Math(latex(rot_H_right_conductor_sol_z)))"
   ]
  },
  {
   "cell_type": "code",
   "execution_count": 20,
   "metadata": {},
   "outputs": [],
   "source": [
    "eq_rot_H_inner_vacuum_sol_x  = rot_H_inner_vacuum_sol_x  == -I*omega/c*E_inner_vacuum_sol_x(x)\n",
    "eq_rot_H_inner_vacuum_sol_y  = rot_H_inner_vacuum_sol_y  == -I*omega/c*E_inner_vacuum_sol_y(x)\n",
    "eq_rot_H_inner_vacuum_sol_z  = rot_H_inner_vacuum_sol_z  == -I*omega/c*E_inner_vacuum_sol_z(x)\n",
    "\n",
    "eq_rot_H_left_conductor_sol_x = rot_H_left_conductor_sol_x == -I*omega/c*epsilon_l*E_left_conductor_sol_x(x)\n",
    "eq_rot_H_left_conductor_sol_y = rot_H_left_conductor_sol_y == -I*omega/c*epsilon_l*E_left_conductor_sol_y(x)\n",
    "eq_rot_H_left_conductor_sol_z = rot_H_left_conductor_sol_z == -I*omega/c*epsilon_l*E_left_conductor_sol_z(x)\n",
    "\n",
    "eq_rot_H_right_conductor_sol_x = rot_H_right_conductor_sol_x == -I*omega/c*epsilon_r*E_right_conductor_sol_x(x)\n",
    "eq_rot_H_right_conductor_sol_y = rot_H_right_conductor_sol_y == -I*omega/c*epsilon_r*E_right_conductor_sol_y(x)\n",
    "eq_rot_H_right_conductor_sol_z = rot_H_right_conductor_sol_z == -I*omega/c*epsilon_r*E_right_conductor_sol_z(x)"
   ]
  },
  {
   "cell_type": "code",
   "execution_count": 21,
   "metadata": {},
   "outputs": [],
   "source": [
    "eq_rot_H_inner_vacuum_s_x  = rot_H_inner_vacuum_s_x  == -I*omega/c*E_inner_vacuum_x(x)\n",
    "eq_rot_H_inner_vacuum_s_y  = rot_H_inner_vacuum_s_y  == -I*omega/c*E_inner_vacuum_y(x)\n",
    "eq_rot_H_inner_vacuum_s_z  = rot_H_inner_vacuum_s_z  == -I*omega/c*E_inner_vacuum_z(x)\n",
    "\n",
    "eq_rot_H_left_conductor_s_x = rot_H_left_conductor_s_x == -I*omega/c*epsilon_l*E_left_conductor_x(x)\n",
    "eq_rot_H_left_conductor_s_y = rot_H_left_conductor_s_y == -I*omega/c*epsilon_l*E_left_conductor_y(x)\n",
    "eq_rot_H_left_conductor_s_z = rot_H_left_conductor_s_z == -I*omega/c*epsilon_l*E_left_conductor_z(x)\n",
    "\n",
    "eq_rot_H_right_conductor_s_x = rot_H_right_conductor_s_x == -I*omega/c*epsilon_r*E_right_conductor_x(x)\n",
    "eq_rot_H_right_conductor_s_y = rot_H_right_conductor_s_y == -I*omega/c*epsilon_r*E_right_conductor_y(x)\n",
    "eq_rot_H_right_conductor_s_z = rot_H_right_conductor_s_z == -I*omega/c*epsilon_r*E_right_conductor_z(x)"
   ]
  },
  {
   "cell_type": "code",
   "execution_count": 22,
   "metadata": {},
   "outputs": [],
   "source": [
    "eq_rot_H_inner_vacuum_x  = rot_H_inner_vacuum_x  == -I*omega/c*E_inner_vacuum_x(x)\n",
    "eq_rot_H_inner_vacuum_y  = rot_H_inner_vacuum_y  == -I*omega/c*E_inner_vacuum_y(x)\n",
    "eq_rot_H_inner_vacuum_z  = rot_H_inner_vacuum_z  == -I*omega/c*E_inner_vacuum_z(x)\n",
    "\n",
    "eq_rot_H_left_conductor_x = rot_H_left_conductor_x == -I*omega/c*epsilon_l*E_left_conductor_x(x)\n",
    "eq_rot_H_left_conductor_y = rot_H_left_conductor_y == -I*omega/c*epsilon_l*E_left_conductor_y(x)\n",
    "eq_rot_H_left_conductor_z = rot_H_left_conductor_z == -I*omega/c*epsilon_l*E_left_conductor_z(x)\n",
    "\n",
    "eq_rot_H_right_conductor_x = rot_H_right_conductor_x == -I*omega/c*epsilon_r*E_right_conductor_x(x)\n",
    "eq_rot_H_right_conductor_y = rot_H_right_conductor_y == -I*omega/c*epsilon_r*E_right_conductor_y(x)\n",
    "eq_rot_H_right_conductor_z = rot_H_right_conductor_z == -I*omega/c*epsilon_r*E_right_conductor_z(x)"
   ]
  },
  {
   "cell_type": "code",
   "execution_count": 23,
   "metadata": {},
   "outputs": [
    {
     "name": "stdout",
     "output_type": "stream",
     "text": [
      "eq_rot_H_inner_vacuum_s_x =\n"
     ]
    },
    {
     "data": {
      "text/latex": [
       "$\\displaystyle x \\ {\\mapsto}\\ \\frac{{\\left(-i \\, k_{y} E_{{\\rm inner}_{{\\rm vacuum}_{x}}}\\left(x\\right) + \\frac{\\partial}{\\partial x}E_{{\\rm inner}_{{\\rm vacuum}_{y}}}\\left(x\\right)\\right)} c k_{y}}{\\omega} - \\frac{{\\left(i \\, k_{z} E_{{\\rm inner}_{{\\rm vacuum}_{x}}}\\left(x\\right) - \\frac{\\partial}{\\partial x}E_{{\\rm inner}_{{\\rm vacuum}_{z}}}\\left(x\\right)\\right)} c k_{z}}{\\omega} = -\\frac{i \\, \\omega E_{{\\rm inner}_{{\\rm vacuum}_{x}}}\\left(x\\right)}{c}$"
      ],
      "text/plain": [
       "<IPython.core.display.Math object>"
      ]
     },
     "metadata": {},
     "output_type": "display_data"
    },
    {
     "name": "stdout",
     "output_type": "stream",
     "text": [
      "eq_rot_H_inner_vacuum_s_y =\n"
     ]
    },
    {
     "data": {
      "text/latex": [
       "$\\displaystyle x \\ {\\mapsto}\\ \\frac{{\\left(-i \\, k_{z} E_{{\\rm inner}_{{\\rm vacuum}_{y}}}\\left(x\\right) + i \\, k_{y} E_{{\\rm inner}_{{\\rm vacuum}_{z}}}\\left(x\\right)\\right)} c k_{z}}{\\omega} + \\frac{i \\, {\\left(-i \\, k_{y} \\frac{\\partial}{\\partial x}E_{{\\rm inner}_{{\\rm vacuum}_{x}}}\\left(x\\right) + \\frac{\\partial^{2}}{(\\partial x)^{2}}E_{{\\rm inner}_{{\\rm vacuum}_{y}}}\\left(x\\right)\\right)} c}{\\omega} = -\\frac{i \\, \\omega E_{{\\rm inner}_{{\\rm vacuum}_{y}}}\\left(x\\right)}{c}$"
      ],
      "text/plain": [
       "<IPython.core.display.Math object>"
      ]
     },
     "metadata": {},
     "output_type": "display_data"
    },
    {
     "name": "stdout",
     "output_type": "stream",
     "text": [
      "eq_rot_H_inner_vacuum_s_z =\n"
     ]
    },
    {
     "data": {
      "text/latex": [
       "$\\displaystyle x \\ {\\mapsto}\\ -\\frac{{\\left(-i \\, k_{z} E_{{\\rm inner}_{{\\rm vacuum}_{y}}}\\left(x\\right) + i \\, k_{y} E_{{\\rm inner}_{{\\rm vacuum}_{z}}}\\left(x\\right)\\right)} c k_{y}}{\\omega} - \\frac{i \\, {\\left(i \\, k_{z} \\frac{\\partial}{\\partial x}E_{{\\rm inner}_{{\\rm vacuum}_{x}}}\\left(x\\right) - \\frac{\\partial^{2}}{(\\partial x)^{2}}E_{{\\rm inner}_{{\\rm vacuum}_{z}}}\\left(x\\right)\\right)} c}{\\omega} = -\\frac{i \\, \\omega E_{{\\rm inner}_{{\\rm vacuum}_{z}}}\\left(x\\right)}{c}$"
      ],
      "text/plain": [
       "<IPython.core.display.Math object>"
      ]
     },
     "metadata": {},
     "output_type": "display_data"
    }
   ],
   "source": [
    "print (\"eq_rot_H_inner_vacuum_s_x =\")\n",
    "display(Math(latex(eq_rot_H_inner_vacuum_s_x.simplify())))\n",
    "\n",
    "print (\"eq_rot_H_inner_vacuum_s_y =\")\n",
    "display(Math(latex(eq_rot_H_inner_vacuum_s_y.simplify())))\n",
    "\n",
    "print (\"eq_rot_H_inner_vacuum_s_z =\")\n",
    "display(Math(latex(eq_rot_H_inner_vacuum_s_z.simplify())))"
   ]
  },
  {
   "cell_type": "code",
   "execution_count": 24,
   "metadata": {},
   "outputs": [
    {
     "name": "stdout",
     "output_type": "stream",
     "text": [
      "eq_rot_H_inner_vacuum_sol_x =\n"
     ]
    },
    {
     "data": {
      "text/latex": [
       "$\\displaystyle \\frac{{\\left(i \\, \\mathit{A2}_{y} K_{\\mathit{vacuum}} e^{\\left(i \\, K_{\\mathit{vacuum}} x\\right)} - i \\, \\mathit{A1}_{y} K_{\\mathit{vacuum}} e^{\\left(-i \\, K_{\\mathit{vacuum}} x\\right)} - i \\, {\\left(\\mathit{A2}_{x} e^{\\left(i \\, K_{\\mathit{vacuum}} x\\right)} + \\mathit{A1}_{x} e^{\\left(-i \\, K_{\\mathit{vacuum}} x\\right)}\\right)} k_{y}\\right)} c k_{y}}{\\omega} - \\frac{{\\left(-i \\, \\mathit{A2}_{z} K_{\\mathit{vacuum}} e^{\\left(i \\, K_{\\mathit{vacuum}} x\\right)} + i \\, \\mathit{A1}_{z} K_{\\mathit{vacuum}} e^{\\left(-i \\, K_{\\mathit{vacuum}} x\\right)} + i \\, {\\left(\\mathit{A2}_{x} e^{\\left(i \\, K_{\\mathit{vacuum}} x\\right)} + \\mathit{A1}_{x} e^{\\left(-i \\, K_{\\mathit{vacuum}} x\\right)}\\right)} k_{z}\\right)} c k_{z}}{\\omega} = -\\frac{i \\, {\\left(\\mathit{A2}_{x} e^{\\left(i \\, K_{\\mathit{vacuum}} x\\right)} + \\mathit{A1}_{x} e^{\\left(-i \\, K_{\\mathit{vacuum}} x\\right)}\\right)} \\omega}{c}$"
      ],
      "text/plain": [
       "<IPython.core.display.Math object>"
      ]
     },
     "metadata": {},
     "output_type": "display_data"
    },
    {
     "name": "stdout",
     "output_type": "stream",
     "text": [
      "eq_rot_H_inner_vacuum_sol_y =\n"
     ]
    },
    {
     "data": {
      "text/latex": [
       "$\\displaystyle \\frac{{\\left(i \\, {\\left(\\mathit{A2}_{z} e^{\\left(i \\, K_{\\mathit{vacuum}} x\\right)} + \\mathit{A1}_{z} e^{\\left(-i \\, K_{\\mathit{vacuum}} x\\right)}\\right)} k_{y} - i \\, {\\left(\\mathit{A2}_{y} e^{\\left(i \\, K_{\\mathit{vacuum}} x\\right)} + \\mathit{A1}_{y} e^{\\left(-i \\, K_{\\mathit{vacuum}} x\\right)}\\right)} k_{z}\\right)} c k_{z}}{\\omega} - \\frac{i \\, {\\left(\\mathit{A2}_{y} K_{\\mathit{vacuum}}^{2} e^{\\left(i \\, K_{\\mathit{vacuum}} x\\right)} + \\mathit{A1}_{y} K_{\\mathit{vacuum}}^{2} e^{\\left(-i \\, K_{\\mathit{vacuum}} x\\right)} + i \\, {\\left(i \\, \\mathit{A2}_{x} K_{\\mathit{vacuum}} e^{\\left(i \\, K_{\\mathit{vacuum}} x\\right)} - i \\, \\mathit{A1}_{x} K_{\\mathit{vacuum}} e^{\\left(-i \\, K_{\\mathit{vacuum}} x\\right)}\\right)} k_{y}\\right)} c}{\\omega} = -\\frac{i \\, {\\left(\\mathit{A2}_{y} e^{\\left(i \\, K_{\\mathit{vacuum}} x\\right)} + \\mathit{A1}_{y} e^{\\left(-i \\, K_{\\mathit{vacuum}} x\\right)}\\right)} \\omega}{c}$"
      ],
      "text/plain": [
       "<IPython.core.display.Math object>"
      ]
     },
     "metadata": {},
     "output_type": "display_data"
    },
    {
     "name": "stdout",
     "output_type": "stream",
     "text": [
      "eq_rot_H_inner_vacuum_sol_z =\n"
     ]
    },
    {
     "data": {
      "text/latex": [
       "$\\displaystyle -\\frac{{\\left(i \\, {\\left(\\mathit{A2}_{z} e^{\\left(i \\, K_{\\mathit{vacuum}} x\\right)} + \\mathit{A1}_{z} e^{\\left(-i \\, K_{\\mathit{vacuum}} x\\right)}\\right)} k_{y} - i \\, {\\left(\\mathit{A2}_{y} e^{\\left(i \\, K_{\\mathit{vacuum}} x\\right)} + \\mathit{A1}_{y} e^{\\left(-i \\, K_{\\mathit{vacuum}} x\\right)}\\right)} k_{z}\\right)} c k_{y}}{\\omega} - \\frac{i \\, {\\left(\\mathit{A2}_{z} K_{\\mathit{vacuum}}^{2} e^{\\left(i \\, K_{\\mathit{vacuum}} x\\right)} + \\mathit{A1}_{z} K_{\\mathit{vacuum}}^{2} e^{\\left(-i \\, K_{\\mathit{vacuum}} x\\right)} + i \\, {\\left(i \\, \\mathit{A2}_{x} K_{\\mathit{vacuum}} e^{\\left(i \\, K_{\\mathit{vacuum}} x\\right)} - i \\, \\mathit{A1}_{x} K_{\\mathit{vacuum}} e^{\\left(-i \\, K_{\\mathit{vacuum}} x\\right)}\\right)} k_{z}\\right)} c}{\\omega} = -\\frac{i \\, {\\left(\\mathit{A2}_{z} e^{\\left(i \\, K_{\\mathit{vacuum}} x\\right)} + \\mathit{A1}_{z} e^{\\left(-i \\, K_{\\mathit{vacuum}} x\\right)}\\right)} \\omega}{c}$"
      ],
      "text/plain": [
       "<IPython.core.display.Math object>"
      ]
     },
     "metadata": {},
     "output_type": "display_data"
    }
   ],
   "source": [
    "print (\"eq_rot_H_inner_vacuum_sol_x =\")\n",
    "display(Math(latex(eq_rot_H_inner_vacuum_sol_x.simplify())))\n",
    "\n",
    "print (\"eq_rot_H_inner_vacuum_sol_y =\")\n",
    "display(Math(latex(eq_rot_H_inner_vacuum_sol_y.simplify())))\n",
    "\n",
    "print (\"eq_rot_H_inner_vacuum_sol_z =\")\n",
    "display(Math(latex(eq_rot_H_inner_vacuum_sol_z.simplify())))"
   ]
  },
  {
   "cell_type": "raw",
   "metadata": {},
   "source": [
    "print (\"eq_rot_H_inner_vacuum_x =\")\n",
    "display(Math(latex(eq_rot_H_inner_vacuum_x.simplify())))\n",
    "\n",
    "print (\"eq_rot_H_inner_vacuum_y =\")\n",
    "display(Math(latex(eq_rot_H_inner_vacuum_y.simplify())))\n",
    "\n",
    "print (\"eq_rot_H_inner_vacuum_z =\")\n",
    "display(Math(latex(eq_rot_H_inner_vacuum_z.simplify())))"
   ]
  },
  {
   "cell_type": "raw",
   "metadata": {},
   "source": [
    "print (\"eq_rot_H_bad_conductor_sol_x =\")\n",
    "display(Math(latex(eq_rot_H_bad_conductor_sol_x.simplify())))\n",
    "\n",
    "print (\"eq_rot_H_bad_conductor_sol_y =\")\n",
    "display(Math(latex(eq_rot_H_bad_conductor_sol_y.simplify())))\n",
    "\n",
    "print (\"eq_rot_H_bad_conductor_sol_z =\")\n",
    "display(Math(latex(eq_rot_H_bad_conductor_sol_z.simplify())))"
   ]
  },
  {
   "cell_type": "raw",
   "metadata": {},
   "source": [
    "print (\"eq_rot_H_bad_conductor_x =\")\n",
    "display(Math(latex(eq_rot_H_bad_conductor_x.simplify())))\n",
    "\n",
    "print (\"eq_rot_H_bad_conductor_y =\")\n",
    "display(Math(latex(eq_rot_H_bad_conductor_y.simplify())))\n",
    "\n",
    "print (\"eq_rot_H_bad_conductor_z =\")\n",
    "display(Math(latex(eq_rot_H_bad_conductor_z.simplify())))"
   ]
  },
  {
   "cell_type": "raw",
   "metadata": {},
   "source": [
    "print (\"eq_rot_H_inner_vacuum_x =\")\n",
    "eq_rot_H_inner_vacuum_x_subs = eq_rot_H_inner_vacuum_x.subs(omega==c*kappa_vacuum/sqrt(epsilon_0*mu_0))\n",
    "eq_rot_H_inner_vacuum_x_subs_solve = solve(eq_rot_H_inner_vacuum_x_subs, E_inner_vacuum_x(x))\n",
    "display(Math(latex(eq_rot_H_inner_vacuum_x_subs_solve)))\n",
    "\n",
    "print (\"H_inner_vacuum_y  (x) =\")\n",
    "H_inner_vacuum_subs_y = H_inner_vacuum_y.subs(omega==c*kappa_vacuum/sqrt(epsilon_0*mu_0), eq_rot_H_inner_vacuum_x_subs_solve)\n",
    "display(Math(latex(H_inner_vacuum_subs_y)))\n",
    "\n",
    "print (\"eq_rot_H_bad_conductor_x =\")\n",
    "eq_rot_H_bad_conductor_x_subs = eq_rot_H_bad_conductor_x.subs(omega==c*kappa/sqrt(epsilon*mu))\n",
    "eq_rot_H_bad_conductor_x_subs_solve = solve(eq_rot_H_bad_conductor_x_subs, E_bad_conductor_x(x))\n",
    "display(Math(latex(eq_rot_H_bad_conductor_x_subs_solve)))\n",
    "\n",
    "print (\"H_bad_conductor_y (x) =\")\n",
    "H_bad_conductor_subs_y = H_bad_conductor_y.subs(omega==c*kappa/sqrt(epsilon*mu), eq_rot_H_bad_conductor_x_subs_solve)\n",
    "display(Math(latex(H_bad_conductor_subs_y)))"
   ]
  },
  {
   "cell_type": "raw",
   "metadata": {},
   "source": [
    "res = solve(eq_kappa_inner_vacuum, kappa_vacuum)\n",
    "display(Math(latex(res)))"
   ]
  },
  {
   "cell_type": "raw",
   "metadata": {},
   "source": [
    "E_inner_vacuum_sol_z(-a)"
   ]
  },
  {
   "cell_type": "code",
   "execution_count": null,
   "metadata": {},
   "outputs": [],
   "source": []
  },
  {
   "cell_type": "code",
   "execution_count": 25,
   "metadata": {},
   "outputs": [],
   "source": [
    "# выражения для электрического поля\n",
    "# в вакууме внутри резонатора \n",
    "#    E_inner_vacuum_z (x) = A1_z_re*cos(sqrt(kappa_vacuum^2-k_z^2)*x) + A1_z_im*sin(sqrt(kappa_vacuum^2-k_z^2)*x)\n",
    "#    E_inner_vacuum_x (x) = A1_x_re*cos(sqrt(kappa_vacuum^2-k_z^2)*x) + A1_x_im*sin(sqrt(kappa_vacuum^2-k_z^2)*x)\n",
    "#    E_inner_vacuum_y (x) = A1_y_re*cos(sqrt(kappa_vacuum^2-k_z^2)*x) + A1_y_im*sin(sqrt(kappa_vacuum^2-k_z^2)*x)\n"
   ]
  },
  {
   "cell_type": "code",
   "execution_count": null,
   "metadata": {},
   "outputs": [],
   "source": []
  },
  {
   "cell_type": "code",
   "execution_count": 26,
   "metadata": {},
   "outputs": [
    {
     "name": "stdout",
     "output_type": "stream",
     "text": [
      "eqEz_r = \n"
     ]
    },
    {
     "data": {
      "text/latex": [
       "$\\displaystyle \\mathit{B1}_{\\mathit{zr}} = \\mathit{A1}_{z} + \\mathit{A2}_{z}$"
      ],
      "text/plain": [
       "<IPython.core.display.Math object>"
      ]
     },
     "metadata": {},
     "output_type": "display_data"
    },
    {
     "name": "stdout",
     "output_type": "stream",
     "text": [
      "eqEy_r = \n"
     ]
    },
    {
     "data": {
      "text/latex": [
       "$\\displaystyle \\mathit{B1}_{\\mathit{yr}} = \\mathit{A1}_{y} + \\mathit{A2}_{y}$"
      ],
      "text/plain": [
       "<IPython.core.display.Math object>"
      ]
     },
     "metadata": {},
     "output_type": "display_data"
    }
   ],
   "source": [
    "# граничные условия на границе вакуума внутри резонатора и проводящего металла с потерями\n",
    "# тангенциальная компонента электрического поля\n",
    "eqEz_r = E_right_conductor_sol_z(0) == E_inner_vacuum_sol_z(0)\n",
    "eqEy_r = E_right_conductor_sol_y(0) == E_inner_vacuum_sol_y(0)\n",
    "\n",
    "print (\"eqEz_r = \")\n",
    "display(Math(latex(eqEz_r)))\n",
    "print (\"eqEy_r = \")\n",
    "display(Math(latex(eqEy_r)))"
   ]
  },
  {
   "cell_type": "code",
   "execution_count": 27,
   "metadata": {},
   "outputs": [
    {
     "name": "stdout",
     "output_type": "stream",
     "text": [
      "eqEz_l = \n"
     ]
    },
    {
     "data": {
      "text/latex": [
       "$\\displaystyle \\mathit{B1}_{\\mathit{zl}} e^{\\left(i \\, K_{\\mathit{left}_{\\mathit{conductor}}} a\\right)} = \\mathit{A1}_{z} e^{\\left(i \\, K_{\\mathit{vacuum}} a\\right)} + \\mathit{A2}_{z} e^{\\left(-i \\, K_{\\mathit{vacuum}} a\\right)}$"
      ],
      "text/plain": [
       "<IPython.core.display.Math object>"
      ]
     },
     "metadata": {},
     "output_type": "display_data"
    },
    {
     "name": "stdout",
     "output_type": "stream",
     "text": [
      "eqEy_l = \n"
     ]
    },
    {
     "data": {
      "text/latex": [
       "$\\displaystyle \\mathit{B1}_{\\mathit{yl}} e^{\\left(i \\, K_{\\mathit{left}_{\\mathit{conductor}}} a\\right)} = \\mathit{A1}_{y} e^{\\left(i \\, K_{\\mathit{vacuum}} a\\right)} + \\mathit{A2}_{y} e^{\\left(-i \\, K_{\\mathit{vacuum}} a\\right)}$"
      ],
      "text/plain": [
       "<IPython.core.display.Math object>"
      ]
     },
     "metadata": {},
     "output_type": "display_data"
    }
   ],
   "source": [
    "# граничные условия на границе вакуума внутри резонатора и проводящего металла с потерями\n",
    "# тангенциальная компонента электрического поля\n",
    "eqEz_l = E_left_conductor_sol_z(-a) == E_inner_vacuum_sol_z(-a)\n",
    "eqEy_l = E_left_conductor_sol_y(-a) == E_inner_vacuum_sol_y(-a)\n",
    "\n",
    "print (\"eqEz_l = \")\n",
    "display(Math(latex(eqEz_l)))\n",
    "print (\"eqEy_l = \")\n",
    "display(Math(latex(eqEy_l)))"
   ]
  },
  {
   "cell_type": "raw",
   "metadata": {},
   "source": [
    "# нормальная компонента электрического смещения\n",
    "eqDx_a = E_inner_vacuum_sol_x(0) == E_bad_conductor_sol_x(0) * epsilon_complex\n",
    "\n",
    "print (\"eqDx_a =\")\n",
    "display(Math(latex(eqDx_a)))"
   ]
  },
  {
   "cell_type": "code",
   "execution_count": 28,
   "metadata": {},
   "outputs": [
    {
     "name": "stdout",
     "output_type": "stream",
     "text": [
      "eqHz_l =\n"
     ]
    },
    {
     "data": {
      "text/latex": [
       "$\\displaystyle -\\frac{i \\, {\\left(-i \\, \\mathit{B1}_{\\mathit{yl}} K_{\\mathit{left}_{\\mathit{conductor}}} e^{\\left(i \\, K_{\\mathit{left}_{\\mathit{conductor}}} a\\right)} - i \\, \\mathit{B1}_{\\mathit{xl}} k_{y} e^{\\left(i \\, K_{\\mathit{left}_{\\mathit{conductor}}} a\\right)}\\right)} c}{\\mu_{l} \\omega} = -\\frac{i \\, {\\left(-i \\, \\mathit{A1}_{y} K_{\\mathit{vacuum}} e^{\\left(i \\, K_{\\mathit{vacuum}} a\\right)} + i \\, \\mathit{A2}_{y} K_{\\mathit{vacuum}} e^{\\left(-i \\, K_{\\mathit{vacuum}} a\\right)} - i \\, {\\left(\\mathit{A1}_{x} e^{\\left(i \\, K_{\\mathit{vacuum}} a\\right)} + \\mathit{A2}_{x} e^{\\left(-i \\, K_{\\mathit{vacuum}} a\\right)}\\right)} k_{y}\\right)} c}{\\omega}$"
      ],
      "text/plain": [
       "<IPython.core.display.Math object>"
      ]
     },
     "metadata": {},
     "output_type": "display_data"
    },
    {
     "name": "stdout",
     "output_type": "stream",
     "text": [
      "eqHy_l =\n"
     ]
    },
    {
     "data": {
      "text/latex": [
       "$\\displaystyle -\\frac{i \\, {\\left(i \\, \\mathit{B1}_{\\mathit{zl}} K_{\\mathit{left}_{\\mathit{conductor}}} e^{\\left(i \\, K_{\\mathit{left}_{\\mathit{conductor}}} a\\right)} + i \\, \\mathit{B1}_{\\mathit{xl}} k_{z} e^{\\left(i \\, K_{\\mathit{left}_{\\mathit{conductor}}} a\\right)}\\right)} c}{\\mu_{l} \\omega} = -\\frac{i \\, {\\left(i \\, \\mathit{A1}_{z} K_{\\mathit{vacuum}} e^{\\left(i \\, K_{\\mathit{vacuum}} a\\right)} - i \\, \\mathit{A2}_{z} K_{\\mathit{vacuum}} e^{\\left(-i \\, K_{\\mathit{vacuum}} a\\right)} + i \\, {\\left(\\mathit{A1}_{x} e^{\\left(i \\, K_{\\mathit{vacuum}} a\\right)} + \\mathit{A2}_{x} e^{\\left(-i \\, K_{\\mathit{vacuum}} a\\right)}\\right)} k_{z}\\right)} c}{\\omega}$"
      ],
      "text/plain": [
       "<IPython.core.display.Math object>"
      ]
     },
     "metadata": {},
     "output_type": "display_data"
    }
   ],
   "source": [
    "# тангенциальная компонента напряженности магнитного поля\n",
    "eqHz_l  = (H_left_conductor_sol_z(-a)  == H_inner_vacuum_sol_z(-a))\n",
    "eqHy_l  = (H_left_conductor_sol_y(-a)  == H_inner_vacuum_sol_y(-a))\n",
    "\n",
    "#print (\"H_bad_conductor_sol_z (0), H_inner_vacuum_sol_z (x) =\")\n",
    "#display(Math(latex([H_bad_conductor_sol_z (x), H_inner_vacuum_sol_z (x)])))\n",
    "\n",
    "#print (\"H_bad_conductor_sol_y (0), H_inner_vacuum_sol_y (x) =\")\n",
    "#display(Math(latex([H_bad_conductor_sol_y (x), H_inner_vacuum_sol_y (x)])))\n",
    "\n",
    "#print (\"sqrt(mu/epsilon)*H_bad_conductor_sol_z (0), sqrt(mu/epsilon)*H_inner_vacuum_sol_z (x) =\")\n",
    "#display(Math(latex([sqrt(mu/epsilon)*H_bad_conductor_sol_z (x), sqrt(1/epsilon_0)*H_inner_vacuum_sol_z (x)])))\n",
    "\n",
    "#print (\"H_bad_conductor_y (0), H_inner_vacuum_y (0) =\")\n",
    "#display(Math(latex([sqrt(mu/epsilon)*H_bad_conductor_sol_y (x), sqrt(1/epsilon_0)*H_inner_vacuum_sol_y (x)])))\n",
    "\n",
    "#print (\"eqEz_0, eqEy_0 = \")\n",
    "#display(Math(latex([eqEz_0, eqEy_0])))\n",
    "\n",
    "\n",
    "print (\"eqHz_l =\")\n",
    "display(Math(latex(eqHz_l)))\n",
    "print (\"eqHy_l =\")\n",
    "display(Math(latex(eqHy_l)))"
   ]
  },
  {
   "cell_type": "code",
   "execution_count": 29,
   "metadata": {},
   "outputs": [
    {
     "name": "stdout",
     "output_type": "stream",
     "text": [
      "eqHz_r =\n"
     ]
    },
    {
     "data": {
      "text/latex": [
       "$\\displaystyle -\\frac{i \\, {\\left(i \\, \\mathit{B1}_{\\mathit{yr}} K_{\\mathit{right}_{\\mathit{conductor}}} - i \\, \\mathit{B1}_{\\mathit{xr}} k_{y}\\right)} c}{\\mu_{r} \\omega} = -\\frac{i \\, {\\left(-i \\, \\mathit{A1}_{y} K_{\\mathit{vacuum}} + i \\, \\mathit{A2}_{y} K_{\\mathit{vacuum}} - i \\, {\\left(\\mathit{A1}_{x} + \\mathit{A2}_{x}\\right)} k_{y}\\right)} c}{\\omega}$"
      ],
      "text/plain": [
       "<IPython.core.display.Math object>"
      ]
     },
     "metadata": {},
     "output_type": "display_data"
    },
    {
     "name": "stdout",
     "output_type": "stream",
     "text": [
      "eqHy_r =\n"
     ]
    },
    {
     "data": {
      "text/latex": [
       "$\\displaystyle -\\frac{i \\, {\\left(-i \\, \\mathit{B1}_{\\mathit{zr}} K_{\\mathit{right}_{\\mathit{conductor}}} + i \\, \\mathit{B1}_{\\mathit{xr}} k_{z}\\right)} c}{\\mu_{r} \\omega} = -\\frac{i \\, {\\left(i \\, \\mathit{A1}_{z} K_{\\mathit{vacuum}} - i \\, \\mathit{A2}_{z} K_{\\mathit{vacuum}} + i \\, {\\left(\\mathit{A1}_{x} + \\mathit{A2}_{x}\\right)} k_{z}\\right)} c}{\\omega}$"
      ],
      "text/plain": [
       "<IPython.core.display.Math object>"
      ]
     },
     "metadata": {},
     "output_type": "display_data"
    }
   ],
   "source": [
    "# тангенциальная компонента напряженности магнитного поля\n",
    "eqHz_r  = (H_right_conductor_sol_z(0)  == H_inner_vacuum_sol_z(0))\n",
    "eqHy_r  = (H_right_conductor_sol_y(0)  == H_inner_vacuum_sol_y(0))\n",
    "\n",
    "#print (\"H_bad_conductor_sol_z (0), H_inner_vacuum_sol_z (x) =\")\n",
    "#display(Math(latex([H_bad_conductor_sol_z (x), H_inner_vacuum_sol_z (x)])))\n",
    "\n",
    "#print (\"H_bad_conductor_sol_y (0), H_inner_vacuum_sol_y (x) =\")\n",
    "#display(Math(latex([H_bad_conductor_sol_y (x), H_inner_vacuum_sol_y (x)])))\n",
    "\n",
    "#print (\"sqrt(mu/epsilon)*H_bad_conductor_sol_z (0), sqrt(mu/epsilon)*H_inner_vacuum_sol_z (x) =\")\n",
    "#display(Math(latex([sqrt(mu/epsilon)*H_bad_conductor_sol_z (x), sqrt(1/epsilon_0)*H_inner_vacuum_sol_z (x)])))\n",
    "\n",
    "#print (\"H_bad_conductor_y (0), H_inner_vacuum_y (0) =\")\n",
    "#display(Math(latex([sqrt(mu/epsilon)*H_bad_conductor_sol_y (x), sqrt(1/epsilon_0)*H_inner_vacuum_sol_y (x)])))\n",
    "\n",
    "#print (\"eqEz_0, eqEy_0 = \")\n",
    "#display(Math(latex([eqEz_0, eqEy_0])))\n",
    "\n",
    "\n",
    "print (\"eqHz_r =\")\n",
    "display(Math(latex(eqHz_r)))\n",
    "print (\"eqHy_r =\")\n",
    "display(Math(latex(eqHy_r)))"
   ]
  },
  {
   "cell_type": "code",
   "execution_count": 30,
   "metadata": {},
   "outputs": [
    {
     "name": "stdout",
     "output_type": "stream",
     "text": [
      "eqBx_l =\n"
     ]
    },
    {
     "data": {
      "text/latex": [
       "$\\displaystyle -\\frac{i \\, {\\left(i \\, \\mathit{B1}_{\\mathit{zl}} k_{y} e^{\\left(i \\, K_{\\mathit{left}_{\\mathit{conductor}}} a\\right)} - i \\, \\mathit{B1}_{\\mathit{yl}} k_{z} e^{\\left(i \\, K_{\\mathit{left}_{\\mathit{conductor}}} a\\right)}\\right)} c}{\\omega} = -\\frac{i \\, {\\left(i \\, {\\left(\\mathit{A1}_{z} e^{\\left(i \\, K_{\\mathit{vacuum}} a\\right)} + \\mathit{A2}_{z} e^{\\left(-i \\, K_{\\mathit{vacuum}} a\\right)}\\right)} k_{y} - i \\, {\\left(\\mathit{A1}_{y} e^{\\left(i \\, K_{\\mathit{vacuum}} a\\right)} + \\mathit{A2}_{y} e^{\\left(-i \\, K_{\\mathit{vacuum}} a\\right)}\\right)} k_{z}\\right)} c}{\\omega}$"
      ],
      "text/plain": [
       "<IPython.core.display.Math object>"
      ]
     },
     "metadata": {},
     "output_type": "display_data"
    }
   ],
   "source": [
    "# нормальная компонента индукции магнитного поля\n",
    "eqBx_l  = mu_l * H_left_conductor_sol_x (-a)  == H_inner_vacuum_sol_x (-a)\n",
    "\n",
    "print (\"eqBx_l =\")\n",
    "display(Math(latex(eqBx_l)))"
   ]
  },
  {
   "cell_type": "code",
   "execution_count": 31,
   "metadata": {},
   "outputs": [
    {
     "name": "stdout",
     "output_type": "stream",
     "text": [
      "eqBx_r =\n"
     ]
    },
    {
     "data": {
      "text/latex": [
       "$\\displaystyle -\\frac{i \\, {\\left(i \\, \\mathit{B1}_{\\mathit{zr}} k_{y} - i \\, \\mathit{B1}_{\\mathit{yr}} k_{z}\\right)} c}{\\omega} = -\\frac{i \\, {\\left(i \\, {\\left(\\mathit{A1}_{z} + \\mathit{A2}_{z}\\right)} k_{y} - i \\, {\\left(\\mathit{A1}_{y} + \\mathit{A2}_{y}\\right)} k_{z}\\right)} c}{\\omega}$"
      ],
      "text/plain": [
       "<IPython.core.display.Math object>"
      ]
     },
     "metadata": {},
     "output_type": "display_data"
    }
   ],
   "source": [
    "# нормальная компонента индукции магнитного поля\n",
    "eqBx_r  = mu_r * H_right_conductor_sol_x (0)  == H_inner_vacuum_sol_x (0)\n",
    "\n",
    "print (\"eqBx_r =\")\n",
    "display(Math(latex(eqBx_r)))"
   ]
  },
  {
   "cell_type": "code",
   "execution_count": 32,
   "metadata": {},
   "outputs": [
    {
     "name": "stdout",
     "output_type": "stream",
     "text": [
      "eq_rot_H_inner_vacuum_y rot H (E_y) =\n",
      "I*k_z*H_inner_vacuum_f_x(x) - diff(H_inner_vacuum_f_z(x), x) == -I*omega*E_inner_vacuum_y(x)/c\n"
     ]
    },
    {
     "data": {
      "text/latex": [
       "$\\displaystyle i \\, k_{z} H_{{\\rm inner}_{{\\rm vacuum}_{f_{x}}}}\\left(x\\right) - \\frac{\\partial}{\\partial x}H_{{\\rm inner}_{{\\rm vacuum}_{f_{z}}}}\\left(x\\right) = -\\frac{i \\, \\omega E_{{\\rm inner}_{{\\rm vacuum}_{y}}}\\left(x\\right)}{c}$"
      ],
      "text/plain": [
       "<IPython.core.display.Math object>"
      ]
     },
     "metadata": {},
     "output_type": "display_data"
    },
    {
     "name": "stdout",
     "output_type": "stream",
     "text": [
      "eq_rot_H_inner_vacuum_y_subs_solve rot H (E_y) =\n",
      "kappa_vacuum*E_inner_vacuum_y(x) == -k_z*H_inner_vacuum_f_x(x) - I*diff(H_inner_vacuum_f_z(x), x)\n"
     ]
    },
    {
     "data": {
      "text/latex": [
       "$\\displaystyle \\kappa_{\\mathit{vacuum}} E_{{\\rm inner}_{{\\rm vacuum}_{y}}}\\left(x\\right) = -k_{z} H_{{\\rm inner}_{{\\rm vacuum}_{f_{x}}}}\\left(x\\right) - i \\, \\frac{\\partial}{\\partial x}H_{{\\rm inner}_{{\\rm vacuum}_{f_{z}}}}\\left(x\\right)$"
      ],
      "text/plain": [
       "<IPython.core.display.Math object>"
      ]
     },
     "metadata": {},
     "output_type": "display_data"
    },
    {
     "name": "stdout",
     "output_type": "stream",
     "text": [
      "eq_rot_E_inner_vacuum_x_subs (x) rot E =\n",
      "kappa_vacuum*H_inner_vacuum_f_x(x) == -k_z*E_inner_vacuum_y(x) + k_y*E_inner_vacuum_z(x)\n"
     ]
    },
    {
     "data": {
      "text/latex": [
       "$\\displaystyle \\kappa_{\\mathit{vacuum}} H_{{\\rm inner}_{{\\rm vacuum}_{f_{x}}}}\\left(x\\right) = -k_{z} E_{{\\rm inner}_{{\\rm vacuum}_{y}}}\\left(x\\right) + k_{y} E_{{\\rm inner}_{{\\rm vacuum}_{z}}}\\left(x\\right)$"
      ],
      "text/plain": [
       "<IPython.core.display.Math object>"
      ]
     },
     "metadata": {},
     "output_type": "display_data"
    },
    {
     "name": "stdout",
     "output_type": "stream",
     "text": [
      "eq_rot_H_inner_vacuum_y_subs_solve_m =\n",
      "kappa_vacuum*E_inner_vacuum_y(x) + k_z*H_inner_vacuum_f_x(x) == -I*diff(H_inner_vacuum_f_z(x), x)\n"
     ]
    },
    {
     "data": {
      "text/latex": [
       "$\\displaystyle \\kappa_{\\mathit{vacuum}} E_{{\\rm inner}_{{\\rm vacuum}_{y}}}\\left(x\\right) + k_{z} H_{{\\rm inner}_{{\\rm vacuum}_{f_{x}}}}\\left(x\\right) = -i \\, \\frac{\\partial}{\\partial x}H_{{\\rm inner}_{{\\rm vacuum}_{f_{z}}}}\\left(x\\right)$"
      ],
      "text/plain": [
       "<IPython.core.display.Math object>"
      ]
     },
     "metadata": {},
     "output_type": "display_data"
    },
    {
     "name": "stdout",
     "output_type": "stream",
     "text": [
      "eq_rot_E_inner_vacuum_x_subs_m =\n",
      "k_z*E_inner_vacuum_y(x) + kappa_vacuum*H_inner_vacuum_f_x(x) == k_y*E_inner_vacuum_z(x)\n"
     ]
    },
    {
     "data": {
      "text/latex": [
       "$\\displaystyle k_{z} E_{{\\rm inner}_{{\\rm vacuum}_{y}}}\\left(x\\right) + \\kappa_{\\mathit{vacuum}} H_{{\\rm inner}_{{\\rm vacuum}_{f_{x}}}}\\left(x\\right) = k_{y} E_{{\\rm inner}_{{\\rm vacuum}_{z}}}\\left(x\\right)$"
      ],
      "text/plain": [
       "<IPython.core.display.Math object>"
      ]
     },
     "metadata": {},
     "output_type": "display_data"
    },
    {
     "name": "stdout",
     "output_type": "stream",
     "text": [
      "eq_1 =\n",
      "-(k_z^2 - kappa_vacuum^2)*E_inner_vacuum_y(x) == -k_y*k_z*E_inner_vacuum_z(x) - I*kappa_vacuum*diff(H_inner_vacuum_f_z(x), x)\n"
     ]
    },
    {
     "data": {
      "text/latex": [
       "$\\displaystyle -{\\left(k_{z}^{2} - \\kappa_{\\mathit{vacuum}}^{2}\\right)} E_{{\\rm inner}_{{\\rm vacuum}_{y}}}\\left(x\\right) = -k_{y} k_{z} E_{{\\rm inner}_{{\\rm vacuum}_{z}}}\\left(x\\right) - i \\, \\kappa_{\\mathit{vacuum}} \\frac{\\partial}{\\partial x}H_{{\\rm inner}_{{\\rm vacuum}_{f_{z}}}}\\left(x\\right)$"
      ],
      "text/plain": [
       "<IPython.core.display.Math object>"
      ]
     },
     "metadata": {},
     "output_type": "display_data"
    },
    {
     "name": "stdout",
     "output_type": "stream",
     "text": [
      "eq_2 =\n",
      "(k_z^2 - kappa_vacuum^2)*H_inner_vacuum_f_x(x) == -k_y*kappa_vacuum*E_inner_vacuum_z(x) - I*k_z*diff(H_inner_vacuum_f_z(x), x)\n"
     ]
    },
    {
     "data": {
      "text/latex": [
       "$\\displaystyle {\\left(k_{z}^{2} - \\kappa_{\\mathit{vacuum}}^{2}\\right)} H_{{\\rm inner}_{{\\rm vacuum}_{f_{x}}}}\\left(x\\right) = -k_{y} \\kappa_{\\mathit{vacuum}} E_{{\\rm inner}_{{\\rm vacuum}_{z}}}\\left(x\\right) - i \\, k_{z} \\frac{\\partial}{\\partial x}H_{{\\rm inner}_{{\\rm vacuum}_{f_{z}}}}\\left(x\\right)$"
      ],
      "text/plain": [
       "<IPython.core.display.Math object>"
      ]
     },
     "metadata": {},
     "output_type": "display_data"
    }
   ],
   "source": [
    "eq_rot_H_inner_vacuum_y_subs       = eq_rot_H_inner_vacuum_y.subs(omega==c*kappa_vacuum/sqrt(epsilon_0*mu_0))\n",
    "print (\"eq_rot_H_inner_vacuum_y rot H (E_y) =\")\n",
    "print(eq_rot_H_inner_vacuum_y)\n",
    "display(Math(latex(eq_rot_H_inner_vacuum_y)))\n",
    "\n",
    "eq_rot_H_inner_vacuum_y_subs_solve = solve(eq_rot_H_inner_vacuum_y_subs, E_inner_vacuum_y(x))[0] * kappa_vacuum\n",
    "print (\"eq_rot_H_inner_vacuum_y_subs_solve rot H (E_y) =\")\n",
    "print(eq_rot_H_inner_vacuum_y_subs_solve)\n",
    "display(Math(latex(eq_rot_H_inner_vacuum_y_subs_solve)))\n",
    "\n",
    "eq_rot_E_inner_vacuum_x = H_inner_vacuum_f_x(x) == H_inner_vacuum_s_x(x)\n",
    "eq_rot_E_inner_vacuum_x_subs = eq_rot_E_inner_vacuum_x.subs(omega==c*kappa_vacuum/sqrt(epsilon_0*mu_0)) * kappa_vacuum\n",
    "print (\"eq_rot_E_inner_vacuum_x_subs (x) rot E =\")\n",
    "print             (eq_rot_E_inner_vacuum_x_subs)\n",
    "display(Math(latex(eq_rot_E_inner_vacuum_x_subs)))\n",
    "\n",
    "eq_rot_H_inner_vacuum_y_subs_solve_m \\\n",
    "    =  eq_rot_H_inner_vacuum_y_subs_solve.lhs() \\\n",
    "    -  eq_rot_H_inner_vacuum_y_subs_solve.rhs().expand().operands()[0] \\\n",
    "    == eq_rot_H_inner_vacuum_y_subs_solve.rhs().expand().operands()[1]\n",
    "print (\"eq_rot_H_inner_vacuum_y_subs_solve_m =\")\n",
    "print             (eq_rot_H_inner_vacuum_y_subs_solve_m)\n",
    "display(Math(latex(eq_rot_H_inner_vacuum_y_subs_solve_m)))\n",
    "\n",
    "eq_rot_E_inner_vacuum_x_subs_m \\\n",
    "    =  eq_rot_E_inner_vacuum_x_subs.lhs() \\\n",
    "    -  eq_rot_E_inner_vacuum_x_subs.rhs().expand().operands()[0] \\\n",
    "    == eq_rot_E_inner_vacuum_x_subs.rhs().expand().operands()[1]\n",
    "print (\"eq_rot_E_inner_vacuum_x_subs_m =\")\n",
    "print             (eq_rot_E_inner_vacuum_x_subs_m)\n",
    "display(Math(latex(eq_rot_E_inner_vacuum_x_subs_m)))\n",
    "\n",
    "eq_1 = (eq_rot_H_inner_vacuum_y_subs_solve_m*kappa_vacuum - eq_rot_E_inner_vacuum_x_subs_m*k_z).full_simplify()\n",
    "print (\"eq_1 =\")\n",
    "print             (eq_1)\n",
    "display(Math(latex(eq_1)))\n",
    "\n",
    "eq_2 = (eq_rot_H_inner_vacuum_y_subs_solve_m*k_z - eq_rot_E_inner_vacuum_x_subs_m*kappa_vacuum).full_simplify()\n",
    "print (\"eq_2 =\")\n",
    "print             (eq_2)\n",
    "display(Math(latex(eq_2)))"
   ]
  },
  {
   "cell_type": "raw",
   "metadata": {},
   "source": [
    "eq_rot_H_bad_conductor_y_subs       = eq_rot_H_bad_conductor_y.subs(omega==c*kappa/sqrt(epsilon*mu))\n",
    "print (\"eq_rot_H_bad_conductor_y rot_H = epsilon*d/dt(E_y) =\")\n",
    "print(eq_rot_H_bad_conductor_y)\n",
    "display(Math(latex(eq_rot_H_bad_conductor_y)))\n",
    "\n",
    "eq_rot_H_bad_conductor_y_subs_solve = solve(eq_rot_H_bad_conductor_y_subs, E_bad_conductor_y(x))[0] * kappa\n",
    "print (\"eq_rot_H_bad_conductor_y_subs_solve rot H = epsilon*d/dt(E_y) =\")\n",
    "print(eq_rot_H_bad_conductor_y_subs_solve)\n",
    "display(Math(latex(eq_rot_H_bad_conductor_y_subs_solve)))\n",
    "\n",
    "eq_rot_E_bad_conductor_x = H_bad_conductor_f_x(x) == H_bad_conductor_s_x(x)\n",
    "eq_rot_E_bad_conductor_x_subs = eq_rot_E_bad_conductor_x.subs(omega==c*kappa/sqrt(epsilon*mu)) * kappa\n",
    "print (\"eq_rot_E_bad_conductor_x_subs (x) rot E =\")\n",
    "print             (eq_rot_E_bad_conductor_x_subs)\n",
    "display(Math(latex(eq_rot_E_bad_conductor_x_subs)))\n",
    "\n",
    "eq_rot_H_bad_conductor_y_subs_solve_m \\\n",
    "    =  eq_rot_H_bad_conductor_y_subs_solve.lhs() \\\n",
    "    -  eq_rot_H_bad_conductor_y_subs_solve.rhs().expand().operands()[0] \\\n",
    "    == eq_rot_H_bad_conductor_y_subs_solve.rhs().expand().operands()[1]\n",
    "print (\"eq_rot_H_bad_conductor_y_subs_solve_m =\")\n",
    "print             (eq_rot_H_bad_conductor_y_subs_solve_m)\n",
    "display(Math(latex(eq_rot_H_bad_conductor_y_subs_solve_m)))\n",
    "\n",
    "eq_rot_E_bad_conductor_x_subs_m \\\n",
    "    =  eq_rot_E_bad_conductor_x_subs.lhs() \\\n",
    "    -  eq_rot_E_bad_conductor_x_subs.rhs().expand().operands()[0] \\\n",
    "    == eq_rot_E_bad_conductor_x_subs.rhs().expand().operands()[1]\n",
    "print (\"eq_rot_E_bad_conductor_x_subs_m =\")\n",
    "print             (eq_rot_E_bad_conductor_x_subs_m)\n",
    "display(Math(latex(eq_rot_E_bad_conductor_x_subs_m)))\n",
    "\n",
    "m3 = k_z*sqrt(mu)/sqrt(epsilon)\n",
    "m4 = sqrt(mu)*kappa/sqrt(epsilon)\n",
    "\n",
    "eq_3 = (eq_rot_H_bad_conductor_y_subs_solve_m*kappa - eq_rot_E_bad_conductor_x_subs_m * m3).full_simplify()\n",
    "print (\"eq_3 =\")\n",
    "print             (eq_3)\n",
    "display(Math(latex(eq_3)))\n",
    "\n",
    "eq_4 = (eq_rot_H_bad_conductor_y_subs_solve_m*k_z - eq_rot_E_bad_conductor_x_subs_m * m4).full_simplify()\n",
    "print (\"eq_4 =\")\n",
    "print             (eq_4)\n",
    "display(Math(latex(eq_4)))"
   ]
  },
  {
   "cell_type": "code",
   "execution_count": null,
   "metadata": {},
   "outputs": [],
   "source": []
  },
  {
   "cell_type": "code",
   "execution_count": 33,
   "metadata": {},
   "outputs": [
    {
     "name": "stdout",
     "output_type": "stream",
     "text": [
      "eq_rot_H_inner_vacuum_y rot H (E_x) =\n",
      "-I*k_z*H_inner_vacuum_f_y(x) + I*k_y*H_inner_vacuum_f_z(x) == -I*omega*E_inner_vacuum_x(x)/c\n"
     ]
    },
    {
     "data": {
      "text/latex": [
       "$\\displaystyle -i \\, k_{z} H_{{\\rm inner}_{{\\rm vacuum}_{f_{y}}}}\\left(x\\right) + i \\, k_{y} H_{{\\rm inner}_{{\\rm vacuum}_{f_{z}}}}\\left(x\\right) = -\\frac{i \\, \\omega E_{{\\rm inner}_{{\\rm vacuum}_{x}}}\\left(x\\right)}{c}$"
      ],
      "text/plain": [
       "<IPython.core.display.Math object>"
      ]
     },
     "metadata": {},
     "output_type": "display_data"
    },
    {
     "name": "stdout",
     "output_type": "stream",
     "text": [
      "eq_rot_H_inner_vacuum_x_subs_solve rot H (E_x) =\n",
      "kappa_vacuum*E_inner_vacuum_x(x) == k_z*H_inner_vacuum_f_y(x) - k_y*H_inner_vacuum_f_z(x)\n"
     ]
    },
    {
     "data": {
      "text/latex": [
       "$\\displaystyle \\kappa_{\\mathit{vacuum}} E_{{\\rm inner}_{{\\rm vacuum}_{x}}}\\left(x\\right) = k_{z} H_{{\\rm inner}_{{\\rm vacuum}_{f_{y}}}}\\left(x\\right) - k_{y} H_{{\\rm inner}_{{\\rm vacuum}_{f_{z}}}}\\left(x\\right)$"
      ],
      "text/plain": [
       "<IPython.core.display.Math object>"
      ]
     },
     "metadata": {},
     "output_type": "display_data"
    },
    {
     "name": "stdout",
     "output_type": "stream",
     "text": [
      "eq_rot_E_inner_vacuum_y_subs (x) rot E =\n",
      "kappa_vacuum*H_inner_vacuum_f_y(x) == k_z*E_inner_vacuum_x(x) + I*diff(E_inner_vacuum_z(x), x)\n"
     ]
    },
    {
     "data": {
      "text/latex": [
       "$\\displaystyle \\kappa_{\\mathit{vacuum}} H_{{\\rm inner}_{{\\rm vacuum}_{f_{y}}}}\\left(x\\right) = k_{z} E_{{\\rm inner}_{{\\rm vacuum}_{x}}}\\left(x\\right) + i \\, \\frac{\\partial}{\\partial x}E_{{\\rm inner}_{{\\rm vacuum}_{z}}}\\left(x\\right)$"
      ],
      "text/plain": [
       "<IPython.core.display.Math object>"
      ]
     },
     "metadata": {},
     "output_type": "display_data"
    },
    {
     "name": "stdout",
     "output_type": "stream",
     "text": [
      "eq_rot_H_inner_vacuum_x_subs_solve_m =\n",
      "kappa_vacuum*E_inner_vacuum_x(x) - k_z*H_inner_vacuum_f_y(x) == -k_y*H_inner_vacuum_f_z(x)\n"
     ]
    },
    {
     "data": {
      "text/latex": [
       "$\\displaystyle \\kappa_{\\mathit{vacuum}} E_{{\\rm inner}_{{\\rm vacuum}_{x}}}\\left(x\\right) - k_{z} H_{{\\rm inner}_{{\\rm vacuum}_{f_{y}}}}\\left(x\\right) = -k_{y} H_{{\\rm inner}_{{\\rm vacuum}_{f_{z}}}}\\left(x\\right)$"
      ],
      "text/plain": [
       "<IPython.core.display.Math object>"
      ]
     },
     "metadata": {},
     "output_type": "display_data"
    },
    {
     "name": "stdout",
     "output_type": "stream",
     "text": [
      "eq_rot_E_inner_vacuum_y_subs_m =\n",
      "-k_z*E_inner_vacuum_x(x) + kappa_vacuum*H_inner_vacuum_f_y(x) == I*diff(E_inner_vacuum_z(x), x)\n"
     ]
    },
    {
     "data": {
      "text/latex": [
       "$\\displaystyle -k_{z} E_{{\\rm inner}_{{\\rm vacuum}_{x}}}\\left(x\\right) + \\kappa_{\\mathit{vacuum}} H_{{\\rm inner}_{{\\rm vacuum}_{f_{y}}}}\\left(x\\right) = i \\, \\frac{\\partial}{\\partial x}E_{{\\rm inner}_{{\\rm vacuum}_{z}}}\\left(x\\right)$"
      ],
      "text/plain": [
       "<IPython.core.display.Math object>"
      ]
     },
     "metadata": {},
     "output_type": "display_data"
    },
    {
     "name": "stdout",
     "output_type": "stream",
     "text": [
      "eq_5 =\n",
      "-(k_z^2 - kappa_vacuum^2)*E_inner_vacuum_x(x) == -k_y*kappa_vacuum*H_inner_vacuum_f_z(x) + I*k_z*diff(E_inner_vacuum_z(x), x)\n"
     ]
    },
    {
     "data": {
      "text/latex": [
       "$\\displaystyle -{\\left(k_{z}^{2} - \\kappa_{\\mathit{vacuum}}^{2}\\right)} E_{{\\rm inner}_{{\\rm vacuum}_{x}}}\\left(x\\right) = -k_{y} \\kappa_{\\mathit{vacuum}} H_{{\\rm inner}_{{\\rm vacuum}_{f_{z}}}}\\left(x\\right) + i \\, k_{z} \\frac{\\partial}{\\partial x}E_{{\\rm inner}_{{\\rm vacuum}_{z}}}\\left(x\\right)$"
      ],
      "text/plain": [
       "<IPython.core.display.Math object>"
      ]
     },
     "metadata": {},
     "output_type": "display_data"
    },
    {
     "name": "stdout",
     "output_type": "stream",
     "text": [
      "eq_6 =\n",
      "-(k_z^2 - kappa_vacuum^2)*H_inner_vacuum_f_y(x) == -k_y*k_z*H_inner_vacuum_f_z(x) + I*kappa_vacuum*diff(E_inner_vacuum_z(x), x)\n"
     ]
    },
    {
     "data": {
      "text/latex": [
       "$\\displaystyle -{\\left(k_{z}^{2} - \\kappa_{\\mathit{vacuum}}^{2}\\right)} H_{{\\rm inner}_{{\\rm vacuum}_{f_{y}}}}\\left(x\\right) = -k_{y} k_{z} H_{{\\rm inner}_{{\\rm vacuum}_{f_{z}}}}\\left(x\\right) + i \\, \\kappa_{\\mathit{vacuum}} \\frac{\\partial}{\\partial x}E_{{\\rm inner}_{{\\rm vacuum}_{z}}}\\left(x\\right)$"
      ],
      "text/plain": [
       "<IPython.core.display.Math object>"
      ]
     },
     "metadata": {},
     "output_type": "display_data"
    }
   ],
   "source": [
    "eq_rot_H_inner_vacuum_x_subs       = eq_rot_H_inner_vacuum_x.subs(omega==c*kappa_vacuum/sqrt(epsilon_0*mu_0))\n",
    "print (\"eq_rot_H_inner_vacuum_y rot H (E_x) =\")\n",
    "print(eq_rot_H_inner_vacuum_x)\n",
    "display(Math(latex(eq_rot_H_inner_vacuum_x)))\n",
    "\n",
    "eq_rot_H_inner_vacuum_x_subs_solve = solve(eq_rot_H_inner_vacuum_x_subs, E_inner_vacuum_x(x))[0] * kappa_vacuum\n",
    "print (\"eq_rot_H_inner_vacuum_x_subs_solve rot H (E_x) =\")\n",
    "print(eq_rot_H_inner_vacuum_x_subs_solve)\n",
    "display(Math(latex(eq_rot_H_inner_vacuum_x_subs_solve)))\n",
    "\n",
    "eq_rot_E_inner_vacuum_y = H_inner_vacuum_f_y(x) == H_inner_vacuum_s_y(x)\n",
    "eq_rot_E_inner_vacuum_y_subs = eq_rot_E_inner_vacuum_y.subs(omega==c*kappa_vacuum/sqrt(epsilon_0*mu_0)) * kappa_vacuum\n",
    "print (\"eq_rot_E_inner_vacuum_y_subs (x) rot E =\")\n",
    "print             (eq_rot_E_inner_vacuum_y_subs)\n",
    "display(Math(latex(eq_rot_E_inner_vacuum_y_subs)))\n",
    "\n",
    "eq_rot_H_inner_vacuum_x_subs_solve_m \\\n",
    "    =  eq_rot_H_inner_vacuum_x_subs_solve.lhs() \\\n",
    "    -  eq_rot_H_inner_vacuum_x_subs_solve.rhs().expand().operands()[0] \\\n",
    "    == eq_rot_H_inner_vacuum_x_subs_solve.rhs().expand().operands()[1]\n",
    "print (\"eq_rot_H_inner_vacuum_x_subs_solve_m =\")\n",
    "print             (eq_rot_H_inner_vacuum_x_subs_solve_m)\n",
    "display(Math(latex(eq_rot_H_inner_vacuum_x_subs_solve_m)))\n",
    "\n",
    "eq_rot_E_inner_vacuum_y_subs_m \\\n",
    "    =  eq_rot_E_inner_vacuum_y_subs.lhs() \\\n",
    "    -  eq_rot_E_inner_vacuum_y_subs.rhs().expand().operands()[0] \\\n",
    "    == eq_rot_E_inner_vacuum_y_subs.rhs().expand().operands()[1]\n",
    "print (\"eq_rot_E_inner_vacuum_y_subs_m =\")\n",
    "print             (eq_rot_E_inner_vacuum_y_subs_m)\n",
    "display(Math(latex(eq_rot_E_inner_vacuum_y_subs_m)))\n",
    "\n",
    "eq_5 = (eq_rot_H_inner_vacuum_x_subs_solve_m*kappa_vacuum + eq_rot_E_inner_vacuum_y_subs_m*k_z).full_simplify()\n",
    "print (\"eq_5 =\")\n",
    "print             (eq_5)\n",
    "display(Math(latex(eq_5)))\n",
    "\n",
    "eq_6 = (eq_rot_H_inner_vacuum_x_subs_solve_m*k_z + eq_rot_E_inner_vacuum_y_subs_m*kappa_vacuum).full_simplify()\n",
    "print (\"eq_6 =\")\n",
    "print             (eq_6)\n",
    "display(Math(latex(eq_6)))"
   ]
  },
  {
   "cell_type": "code",
   "execution_count": 34,
   "metadata": {},
   "outputs": [
    {
     "name": "stdout",
     "output_type": "stream",
     "text": [
      "eq_rot_H_left_conductor_x rot_H = epsilon_l*d/dt(E_x) =\n",
      "-I*k_z*H_left_conductor_f_y(x) + I*k_y*H_left_conductor_f_z(x) == -I*epsilon_l*omega*E_left_conductor_x(x)/c\n"
     ]
    },
    {
     "data": {
      "text/latex": [
       "$\\displaystyle -i \\, k_{z} H_{{\\rm left}_{{\\rm conductor}_{f_{y}}}}\\left(x\\right) + i \\, k_{y} H_{{\\rm left}_{{\\rm conductor}_{f_{z}}}}\\left(x\\right) = -\\frac{i \\, \\epsilon_{l} \\omega E_{{\\rm left}_{{\\rm conductor}_{x}}}\\left(x\\right)}{c}$"
      ],
      "text/plain": [
       "<IPython.core.display.Math object>"
      ]
     },
     "metadata": {},
     "output_type": "display_data"
    },
    {
     "name": "stdout",
     "output_type": "stream",
     "text": [
      "eq_rot_H_left_conductor_x_subs rot_H = epsilon_l*d/dt(E_x) =\n",
      "-I*k_z*H_left_conductor_f_y(x) + I*k_y*H_left_conductor_f_z(x) == -I*epsilon_l*kappa_l*E_left_conductor_x(x)/sqrt(epsilon_l*mu_l)\n"
     ]
    },
    {
     "data": {
      "text/latex": [
       "$\\displaystyle -i \\, k_{z} H_{{\\rm left}_{{\\rm conductor}_{f_{y}}}}\\left(x\\right) + i \\, k_{y} H_{{\\rm left}_{{\\rm conductor}_{f_{z}}}}\\left(x\\right) = -\\frac{i \\, \\epsilon_{l} \\kappa_{l} E_{{\\rm left}_{{\\rm conductor}_{x}}}\\left(x\\right)}{\\sqrt{\\epsilon_{l} \\mu_{l}}}$"
      ],
      "text/plain": [
       "<IPython.core.display.Math object>"
      ]
     },
     "metadata": {},
     "output_type": "display_data"
    },
    {
     "name": "stdout",
     "output_type": "stream",
     "text": [
      "eq_rot_H_left_conductor_x_subs_solve rot H = epsilon_l*d/dt(E_x) =\n",
      "kappa_l*E_left_conductor_x(x) == (sqrt(epsilon_l*mu_l)*k_z*H_left_conductor_f_y(x) - sqrt(epsilon_l*mu_l)*k_y*H_left_conductor_f_z(x))/epsilon_l\n"
     ]
    },
    {
     "data": {
      "text/latex": [
       "$\\displaystyle \\kappa_{l} E_{{\\rm left}_{{\\rm conductor}_{x}}}\\left(x\\right) = \\frac{\\sqrt{\\epsilon_{l} \\mu_{l}} k_{z} H_{{\\rm left}_{{\\rm conductor}_{f_{y}}}}\\left(x\\right) - \\sqrt{\\epsilon_{l} \\mu_{l}} k_{y} H_{{\\rm left}_{{\\rm conductor}_{f_{z}}}}\\left(x\\right)}{\\epsilon_{l}}$"
      ],
      "text/plain": [
       "<IPython.core.display.Math object>"
      ]
     },
     "metadata": {},
     "output_type": "display_data"
    },
    {
     "name": "stdout",
     "output_type": "stream",
     "text": [
      "eq_rot_E_left_conductor_y_subs (x) rot E =\n",
      "kappa_l*H_left_conductor_f_y(x) == -I*sqrt(epsilon_l*mu_l)*(I*k_z*E_left_conductor_x(x) - diff(E_left_conductor_z(x), x))/mu_l\n"
     ]
    },
    {
     "data": {
      "text/latex": [
       "$\\displaystyle \\kappa_{l} H_{{\\rm left}_{{\\rm conductor}_{f_{y}}}}\\left(x\\right) = -\\frac{i \\, \\sqrt{\\epsilon_{l} \\mu_{l}} {\\left(i \\, k_{z} E_{{\\rm left}_{{\\rm conductor}_{x}}}\\left(x\\right) - \\frac{\\partial}{\\partial x}E_{{\\rm left}_{{\\rm conductor}_{z}}}\\left(x\\right)\\right)}}{\\mu_{l}}$"
      ],
      "text/plain": [
       "<IPython.core.display.Math object>"
      ]
     },
     "metadata": {},
     "output_type": "display_data"
    },
    {
     "name": "stdout",
     "output_type": "stream",
     "text": [
      "eq_rot_H_left_conductor_x_subs_solve_m =\n",
      "kappa_l*E_left_conductor_x(x) - k_z*sqrt(mu_l)*H_left_conductor_f_y(x)/sqrt(epsilon_l) == -k_y*sqrt(mu_l)*H_left_conductor_f_z(x)/sqrt(epsilon_l)\n"
     ]
    },
    {
     "data": {
      "text/latex": [
       "$\\displaystyle \\kappa_{l} E_{{\\rm left}_{{\\rm conductor}_{x}}}\\left(x\\right) - \\frac{k_{z} \\sqrt{\\mu_{l}} H_{{\\rm left}_{{\\rm conductor}_{f_{y}}}}\\left(x\\right)}{\\sqrt{\\epsilon_{l}}} = -\\frac{k_{y} \\sqrt{\\mu_{l}} H_{{\\rm left}_{{\\rm conductor}_{f_{z}}}}\\left(x\\right)}{\\sqrt{\\epsilon_{l}}}$"
      ],
      "text/plain": [
       "<IPython.core.display.Math object>"
      ]
     },
     "metadata": {},
     "output_type": "display_data"
    },
    {
     "name": "stdout",
     "output_type": "stream",
     "text": [
      "eq_rot_E_left_conductor_y_subs_m =\n",
      "-sqrt(epsilon_l)*k_z*E_left_conductor_x(x)/sqrt(mu_l) + kappa_l*H_left_conductor_f_y(x) == I*sqrt(epsilon_l)*diff(E_left_conductor_z(x), x)/sqrt(mu_l)\n"
     ]
    },
    {
     "data": {
      "text/latex": [
       "$\\displaystyle -\\frac{\\sqrt{\\epsilon_{l}} k_{z} E_{{\\rm left}_{{\\rm conductor}_{x}}}\\left(x\\right)}{\\sqrt{\\mu_{l}}} + \\kappa_{l} H_{{\\rm left}_{{\\rm conductor}_{f_{y}}}}\\left(x\\right) = \\frac{i \\, \\sqrt{\\epsilon_{l}} \\frac{\\partial}{\\partial x}E_{{\\rm left}_{{\\rm conductor}_{z}}}\\left(x\\right)}{\\sqrt{\\mu_{l}}}$"
      ],
      "text/plain": [
       "<IPython.core.display.Math object>"
      ]
     },
     "metadata": {},
     "output_type": "display_data"
    },
    {
     "name": "stdout",
     "output_type": "stream",
     "text": [
      "eq_7_l =\n",
      "-(k_z^2 - kappa_l^2)*E_left_conductor_x(x) == -(k_y*kappa_l*sqrt(mu_l)*H_left_conductor_f_z(x) - I*sqrt(epsilon_l)*k_z*diff(E_left_conductor_z(x), x))/sqrt(epsilon_l)\n"
     ]
    },
    {
     "data": {
      "text/latex": [
       "$\\displaystyle -{\\left(k_{z}^{2} - \\kappa_{l}^{2}\\right)} E_{{\\rm left}_{{\\rm conductor}_{x}}}\\left(x\\right) = -\\frac{k_{y} \\kappa_{l} \\sqrt{\\mu_{l}} H_{{\\rm left}_{{\\rm conductor}_{f_{z}}}}\\left(x\\right) - i \\, \\sqrt{\\epsilon_{l}} k_{z} \\frac{\\partial}{\\partial x}E_{{\\rm left}_{{\\rm conductor}_{z}}}\\left(x\\right)}{\\sqrt{\\epsilon_{l}}}$"
      ],
      "text/plain": [
       "<IPython.core.display.Math object>"
      ]
     },
     "metadata": {},
     "output_type": "display_data"
    },
    {
     "name": "stdout",
     "output_type": "stream",
     "text": [
      "eq_8_l =\n",
      "-(k_z^2 - kappa_l^2)*sqrt(mu_l)*H_left_conductor_f_y(x)/sqrt(epsilon_l) == -(k_y*k_z*sqrt(mu_l)*H_left_conductor_f_z(x) - I*sqrt(epsilon_l)*kappa_l*diff(E_left_conductor_z(x), x))/sqrt(epsilon_l)\n"
     ]
    },
    {
     "data": {
      "text/latex": [
       "$\\displaystyle -\\frac{{\\left(k_{z}^{2} - \\kappa_{l}^{2}\\right)} \\sqrt{\\mu_{l}} H_{{\\rm left}_{{\\rm conductor}_{f_{y}}}}\\left(x\\right)}{\\sqrt{\\epsilon_{l}}} = -\\frac{k_{y} k_{z} \\sqrt{\\mu_{l}} H_{{\\rm left}_{{\\rm conductor}_{f_{z}}}}\\left(x\\right) - i \\, \\sqrt{\\epsilon_{l}} \\kappa_{l} \\frac{\\partial}{\\partial x}E_{{\\rm left}_{{\\rm conductor}_{z}}}\\left(x\\right)}{\\sqrt{\\epsilon_{l}}}$"
      ],
      "text/plain": [
       "<IPython.core.display.Math object>"
      ]
     },
     "metadata": {},
     "output_type": "display_data"
    }
   ],
   "source": [
    "eq_rot_H_left_conductor_x_subs       = eq_rot_H_left_conductor_x.subs(omega==c*kappa_l/sqrt(epsilon_l*mu_l))\n",
    "print (\"eq_rot_H_left_conductor_x rot_H = epsilon_l*d/dt(E_x) =\")\n",
    "print(eq_rot_H_left_conductor_x)\n",
    "display(Math(latex(eq_rot_H_left_conductor_x)))\n",
    "\n",
    "print (\"eq_rot_H_left_conductor_x_subs rot_H = epsilon_l*d/dt(E_x) =\")\n",
    "print(eq_rot_H_left_conductor_x_subs)\n",
    "display(Math(latex(eq_rot_H_left_conductor_x_subs)))\n",
    "\n",
    "\n",
    "eq_rot_H_left_conductor_x_subs_solve = solve(eq_rot_H_left_conductor_x_subs, E_left_conductor_x(x))[0] * kappa_l\n",
    "print (\"eq_rot_H_left_conductor_x_subs_solve rot H = epsilon_l*d/dt(E_x) =\")\n",
    "print(eq_rot_H_left_conductor_x_subs_solve)\n",
    "display(Math(latex(eq_rot_H_left_conductor_x_subs_solve)))\n",
    "\n",
    "eq_rot_E_left_conductor_y = H_left_conductor_f_y(x) == H_left_conductor_s_y(x)\n",
    "eq_rot_E_left_conductor_y_subs = eq_rot_E_left_conductor_y.subs(omega==c*kappa_l/sqrt(epsilon_l*mu_l)) * kappa_l\n",
    "print (\"eq_rot_E_left_conductor_y_subs (x) rot E =\")\n",
    "print             (eq_rot_E_left_conductor_y_subs)\n",
    "display(Math(latex(eq_rot_E_left_conductor_y_subs)))\n",
    "\n",
    "eq_rot_H_left_conductor_x_subs_solve_m \\\n",
    "    =  eq_rot_H_left_conductor_x_subs_solve.lhs() \\\n",
    "    -  eq_rot_H_left_conductor_x_subs_solve.rhs().expand().operands()[0] \\\n",
    "    == eq_rot_H_left_conductor_x_subs_solve.rhs().expand().operands()[1]\n",
    "print (\"eq_rot_H_left_conductor_x_subs_solve_m =\")\n",
    "print             (eq_rot_H_left_conductor_x_subs_solve_m)\n",
    "display(Math(latex(eq_rot_H_left_conductor_x_subs_solve_m)))\n",
    "\n",
    "eq_rot_E_left_conductor_y_subs_m \\\n",
    "    =  eq_rot_E_left_conductor_y_subs.lhs() \\\n",
    "    -  eq_rot_E_left_conductor_y_subs.rhs().expand().operands()[0] \\\n",
    "    == eq_rot_E_left_conductor_y_subs.rhs().expand().operands()[1]\n",
    "print (\"eq_rot_E_left_conductor_y_subs_m =\")\n",
    "print             (eq_rot_E_left_conductor_y_subs_m)\n",
    "display(Math(latex(eq_rot_E_left_conductor_y_subs_m)))\n",
    "\n",
    "m3 = k_z*sqrt(mu_l)/sqrt(epsilon_l)\n",
    "m4 = sqrt(mu_l)*kappa_l/sqrt(epsilon_l)\n",
    "\n",
    "eq_7_l = (eq_rot_H_left_conductor_x_subs_solve_m*kappa_l + eq_rot_E_left_conductor_y_subs_m * m3).full_simplify()\n",
    "print (\"eq_7_l =\")\n",
    "print             (eq_7_l)\n",
    "display(Math(latex(eq_7_l)))\n",
    "\n",
    "eq_8_l = (eq_rot_H_left_conductor_x_subs_solve_m*k_z + eq_rot_E_left_conductor_y_subs_m * m4).full_simplify()\n",
    "print (\"eq_8_l =\")\n",
    "print             (eq_8_l)\n",
    "display(Math(latex(eq_8_l)))"
   ]
  },
  {
   "cell_type": "code",
   "execution_count": 35,
   "metadata": {},
   "outputs": [
    {
     "name": "stdout",
     "output_type": "stream",
     "text": [
      "eq_rot_H_right_conductor_x rot_H = epsilon_r*d/dt(E_x) =\n",
      "-I*k_z*H_right_conductor_f_y(x) + I*k_y*H_right_conductor_f_z(x) == -I*epsilon_r*omega*E_right_conductor_x(x)/c\n"
     ]
    },
    {
     "data": {
      "text/latex": [
       "$\\displaystyle -i \\, k_{z} H_{{\\rm right}_{{\\rm conductor}_{f_{y}}}}\\left(x\\right) + i \\, k_{y} H_{{\\rm right}_{{\\rm conductor}_{f_{z}}}}\\left(x\\right) = -\\frac{i \\, \\epsilon_{r} \\omega E_{{\\rm right}_{{\\rm conductor}_{x}}}\\left(x\\right)}{c}$"
      ],
      "text/plain": [
       "<IPython.core.display.Math object>"
      ]
     },
     "metadata": {},
     "output_type": "display_data"
    },
    {
     "name": "stdout",
     "output_type": "stream",
     "text": [
      "eq_rot_H_right_conductor_x_subs rot_H = epsilon_r*d/dt(E_x) =\n",
      "-I*k_z*H_right_conductor_f_y(x) + I*k_y*H_right_conductor_f_z(x) == -I*epsilon_r*kappa_r*E_right_conductor_x(x)/sqrt(epsilon_r*mu_r)\n"
     ]
    },
    {
     "data": {
      "text/latex": [
       "$\\displaystyle -i \\, k_{z} H_{{\\rm right}_{{\\rm conductor}_{f_{y}}}}\\left(x\\right) + i \\, k_{y} H_{{\\rm right}_{{\\rm conductor}_{f_{z}}}}\\left(x\\right) = -\\frac{i \\, \\epsilon_{r} \\kappa_{r} E_{{\\rm right}_{{\\rm conductor}_{x}}}\\left(x\\right)}{\\sqrt{\\epsilon_{r} \\mu_{r}}}$"
      ],
      "text/plain": [
       "<IPython.core.display.Math object>"
      ]
     },
     "metadata": {},
     "output_type": "display_data"
    },
    {
     "name": "stdout",
     "output_type": "stream",
     "text": [
      "eq_rot_H_right_conductor_x_subs_solve rot H = epsilon_r*d/dt(E_x) =\n",
      "kappa_r*E_right_conductor_x(x) == (sqrt(epsilon_r*mu_r)*k_z*H_right_conductor_f_y(x) - sqrt(epsilon_r*mu_r)*k_y*H_right_conductor_f_z(x))/epsilon_r\n"
     ]
    },
    {
     "data": {
      "text/latex": [
       "$\\displaystyle \\kappa_{r} E_{{\\rm right}_{{\\rm conductor}_{x}}}\\left(x\\right) = \\frac{\\sqrt{\\epsilon_{r} \\mu_{r}} k_{z} H_{{\\rm right}_{{\\rm conductor}_{f_{y}}}}\\left(x\\right) - \\sqrt{\\epsilon_{r} \\mu_{r}} k_{y} H_{{\\rm right}_{{\\rm conductor}_{f_{z}}}}\\left(x\\right)}{\\epsilon_{r}}$"
      ],
      "text/plain": [
       "<IPython.core.display.Math object>"
      ]
     },
     "metadata": {},
     "output_type": "display_data"
    },
    {
     "name": "stdout",
     "output_type": "stream",
     "text": [
      "eq_rot_E_right_conductor_y_subs (x) rot E =\n",
      "kappa_r*H_right_conductor_f_y(x) == -I*sqrt(epsilon_r*mu_r)*(I*k_z*E_right_conductor_x(x) - diff(E_right_conductor_z(x), x))/mu_r\n"
     ]
    },
    {
     "data": {
      "text/latex": [
       "$\\displaystyle \\kappa_{r} H_{{\\rm right}_{{\\rm conductor}_{f_{y}}}}\\left(x\\right) = -\\frac{i \\, \\sqrt{\\epsilon_{r} \\mu_{r}} {\\left(i \\, k_{z} E_{{\\rm right}_{{\\rm conductor}_{x}}}\\left(x\\right) - \\frac{\\partial}{\\partial x}E_{{\\rm right}_{{\\rm conductor}_{z}}}\\left(x\\right)\\right)}}{\\mu_{r}}$"
      ],
      "text/plain": [
       "<IPython.core.display.Math object>"
      ]
     },
     "metadata": {},
     "output_type": "display_data"
    },
    {
     "name": "stdout",
     "output_type": "stream",
     "text": [
      "eq_rot_H_right_conductor_x_subs_solve_m =\n",
      "kappa_r*E_right_conductor_x(x) - k_z*sqrt(mu_r)*H_right_conductor_f_y(x)/sqrt(epsilon_r) == -k_y*sqrt(mu_r)*H_right_conductor_f_z(x)/sqrt(epsilon_r)\n"
     ]
    },
    {
     "data": {
      "text/latex": [
       "$\\displaystyle \\kappa_{r} E_{{\\rm right}_{{\\rm conductor}_{x}}}\\left(x\\right) - \\frac{k_{z} \\sqrt{\\mu_{r}} H_{{\\rm right}_{{\\rm conductor}_{f_{y}}}}\\left(x\\right)}{\\sqrt{\\epsilon_{r}}} = -\\frac{k_{y} \\sqrt{\\mu_{r}} H_{{\\rm right}_{{\\rm conductor}_{f_{z}}}}\\left(x\\right)}{\\sqrt{\\epsilon_{r}}}$"
      ],
      "text/plain": [
       "<IPython.core.display.Math object>"
      ]
     },
     "metadata": {},
     "output_type": "display_data"
    },
    {
     "name": "stdout",
     "output_type": "stream",
     "text": [
      "eq_rot_E_right_conductor_y_subs_m =\n",
      "-sqrt(epsilon_r)*k_z*E_right_conductor_x(x)/sqrt(mu_r) + kappa_r*H_right_conductor_f_y(x) == I*sqrt(epsilon_r)*diff(E_right_conductor_z(x), x)/sqrt(mu_r)\n"
     ]
    },
    {
     "data": {
      "text/latex": [
       "$\\displaystyle -\\frac{\\sqrt{\\epsilon_{r}} k_{z} E_{{\\rm right}_{{\\rm conductor}_{x}}}\\left(x\\right)}{\\sqrt{\\mu_{r}}} + \\kappa_{r} H_{{\\rm right}_{{\\rm conductor}_{f_{y}}}}\\left(x\\right) = \\frac{i \\, \\sqrt{\\epsilon_{r}} \\frac{\\partial}{\\partial x}E_{{\\rm right}_{{\\rm conductor}_{z}}}\\left(x\\right)}{\\sqrt{\\mu_{r}}}$"
      ],
      "text/plain": [
       "<IPython.core.display.Math object>"
      ]
     },
     "metadata": {},
     "output_type": "display_data"
    },
    {
     "name": "stdout",
     "output_type": "stream",
     "text": [
      "eq_7_r=\n",
      "-(k_z^2 - kappa_r^2)*E_right_conductor_x(x) == -(k_y*kappa_r*sqrt(mu_r)*H_right_conductor_f_z(x) - I*sqrt(epsilon_r)*k_z*diff(E_right_conductor_z(x), x))/sqrt(epsilon_r)\n"
     ]
    },
    {
     "data": {
      "text/latex": [
       "$\\displaystyle -{\\left(k_{z}^{2} - \\kappa_{r}^{2}\\right)} E_{{\\rm right}_{{\\rm conductor}_{x}}}\\left(x\\right) = -\\frac{k_{y} \\kappa_{r} \\sqrt{\\mu_{r}} H_{{\\rm right}_{{\\rm conductor}_{f_{z}}}}\\left(x\\right) - i \\, \\sqrt{\\epsilon_{r}} k_{z} \\frac{\\partial}{\\partial x}E_{{\\rm right}_{{\\rm conductor}_{z}}}\\left(x\\right)}{\\sqrt{\\epsilon_{r}}}$"
      ],
      "text/plain": [
       "<IPython.core.display.Math object>"
      ]
     },
     "metadata": {},
     "output_type": "display_data"
    },
    {
     "name": "stdout",
     "output_type": "stream",
     "text": [
      "eq_8_r =\n",
      "-(k_z^2 - kappa_r^2)*sqrt(mu_r)*H_right_conductor_f_y(x)/sqrt(epsilon_r) == -(k_y*k_z*sqrt(mu_r)*H_right_conductor_f_z(x) - I*sqrt(epsilon_r)*kappa_r*diff(E_right_conductor_z(x), x))/sqrt(epsilon_r)\n"
     ]
    },
    {
     "data": {
      "text/latex": [
       "$\\displaystyle -\\frac{{\\left(k_{z}^{2} - \\kappa_{r}^{2}\\right)} \\sqrt{\\mu_{r}} H_{{\\rm right}_{{\\rm conductor}_{f_{y}}}}\\left(x\\right)}{\\sqrt{\\epsilon_{r}}} = -\\frac{k_{y} k_{z} \\sqrt{\\mu_{r}} H_{{\\rm right}_{{\\rm conductor}_{f_{z}}}}\\left(x\\right) - i \\, \\sqrt{\\epsilon_{r}} \\kappa_{r} \\frac{\\partial}{\\partial x}E_{{\\rm right}_{{\\rm conductor}_{z}}}\\left(x\\right)}{\\sqrt{\\epsilon_{r}}}$"
      ],
      "text/plain": [
       "<IPython.core.display.Math object>"
      ]
     },
     "metadata": {},
     "output_type": "display_data"
    }
   ],
   "source": [
    "eq_rot_H_right_conductor_x_subs       = eq_rot_H_right_conductor_x.subs(omega==c*kappa_r/sqrt(epsilon_r*mu_r))\n",
    "print (\"eq_rot_H_right_conductor_x rot_H = epsilon_r*d/dt(E_x) =\")\n",
    "print(eq_rot_H_right_conductor_x)\n",
    "display(Math(latex(eq_rot_H_right_conductor_x)))\n",
    "\n",
    "print (\"eq_rot_H_right_conductor_x_subs rot_H = epsilon_r*d/dt(E_x) =\")\n",
    "print(eq_rot_H_right_conductor_x_subs)\n",
    "display(Math(latex(eq_rot_H_right_conductor_x_subs)))\n",
    "\n",
    "\n",
    "eq_rot_H_right_conductor_x_subs_solve = solve(eq_rot_H_right_conductor_x_subs, E_right_conductor_x(x))[0] * kappa_r\n",
    "print (\"eq_rot_H_right_conductor_x_subs_solve rot H = epsilon_r*d/dt(E_x) =\")\n",
    "print(eq_rot_H_right_conductor_x_subs_solve)\n",
    "display(Math(latex(eq_rot_H_right_conductor_x_subs_solve)))\n",
    "\n",
    "eq_rot_E_right_conductor_y = H_right_conductor_f_y(x) == H_right_conductor_s_y(x)\n",
    "eq_rot_E_right_conductor_y_subs = eq_rot_E_right_conductor_y.subs(omega==c*kappa_r/sqrt(epsilon_r*mu_r)) * kappa_r\n",
    "print (\"eq_rot_E_right_conductor_y_subs (x) rot E =\")\n",
    "print             (eq_rot_E_right_conductor_y_subs)\n",
    "display(Math(latex(eq_rot_E_right_conductor_y_subs)))\n",
    "\n",
    "eq_rot_H_right_conductor_x_subs_solve_m \\\n",
    "    =  eq_rot_H_right_conductor_x_subs_solve.lhs() \\\n",
    "    -  eq_rot_H_right_conductor_x_subs_solve.rhs().expand().operands()[0] \\\n",
    "    == eq_rot_H_right_conductor_x_subs_solve.rhs().expand().operands()[1]\n",
    "print (\"eq_rot_H_right_conductor_x_subs_solve_m =\")\n",
    "print             (eq_rot_H_right_conductor_x_subs_solve_m)\n",
    "display(Math(latex(eq_rot_H_right_conductor_x_subs_solve_m)))\n",
    "\n",
    "eq_rot_E_right_conductor_y_subs_m \\\n",
    "    =  eq_rot_E_right_conductor_y_subs.lhs() \\\n",
    "    -  eq_rot_E_right_conductor_y_subs.rhs().expand().operands()[0] \\\n",
    "    == eq_rot_E_right_conductor_y_subs.rhs().expand().operands()[1]\n",
    "print (\"eq_rot_E_right_conductor_y_subs_m =\")\n",
    "print             (eq_rot_E_right_conductor_y_subs_m)\n",
    "display(Math(latex(eq_rot_E_right_conductor_y_subs_m)))\n",
    "\n",
    "m3 = k_z*sqrt(mu_r)/sqrt(epsilon_r)\n",
    "m4 = sqrt(mu_r)*kappa_r/sqrt(epsilon_r)\n",
    "\n",
    "eq_7_r = (eq_rot_H_right_conductor_x_subs_solve_m*kappa_r + eq_rot_E_right_conductor_y_subs_m * m3).full_simplify()\n",
    "print (\"eq_7_r=\")\n",
    "print             (eq_7_r)\n",
    "display(Math(latex(eq_7_r)))\n",
    "\n",
    "eq_8_r = (eq_rot_H_right_conductor_x_subs_solve_m*k_z + eq_rot_E_right_conductor_y_subs_m * m4).full_simplify()\n",
    "print (\"eq_8_r =\")\n",
    "print             (eq_8_r)\n",
    "display(Math(latex(eq_8_r)))"
   ]
  },
  {
   "cell_type": "code",
   "execution_count": null,
   "metadata": {},
   "outputs": [],
   "source": []
  },
  {
   "cell_type": "code",
   "execution_count": 36,
   "metadata": {},
   "outputs": [],
   "source": [
    "K_vacuum_subs = K_vacuum == sqrt(kappa_vacuum^2-k_z^2)\n",
    "K_left_conductor_subs = K_left_conductor == sqrt(kappa_l^2-k_z^2)\n",
    "K_right_conductor_subs = K_right_conductor == sqrt(kappa_r^2-k_z^2)"
   ]
  },
  {
   "cell_type": "code",
   "execution_count": null,
   "metadata": {},
   "outputs": [],
   "source": []
  },
  {
   "cell_type": "code",
   "execution_count": 37,
   "metadata": {},
   "outputs": [
    {
     "name": "stdout",
     "output_type": "stream",
     "text": [
      "eq_1 =\n",
      "-(k_z^2 - kappa_vacuum^2)*E_inner_vacuum_y(x) == -k_y*k_z*E_inner_vacuum_z(x) - I*kappa_vacuum*diff(H_inner_vacuum_f_z(x), x)\n"
     ]
    },
    {
     "data": {
      "text/latex": [
       "$\\displaystyle -{\\left(k_{z}^{2} - \\kappa_{\\mathit{vacuum}}^{2}\\right)} E_{{\\rm inner}_{{\\rm vacuum}_{y}}}\\left(x\\right) = -k_{y} k_{z} E_{{\\rm inner}_{{\\rm vacuum}_{z}}}\\left(x\\right) - i \\, \\kappa_{\\mathit{vacuum}} \\frac{\\partial}{\\partial x}H_{{\\rm inner}_{{\\rm vacuum}_{f_{z}}}}\\left(x\\right)$"
      ],
      "text/plain": [
       "<IPython.core.display.Math object>"
      ]
     },
     "metadata": {},
     "output_type": "display_data"
    },
    {
     "name": "stdout",
     "output_type": "stream",
     "text": [
      "eq_2 =\n",
      "(k_z^2 - kappa_vacuum^2)*H_inner_vacuum_f_x(x) == -k_y*kappa_vacuum*E_inner_vacuum_z(x) - I*k_z*diff(H_inner_vacuum_f_z(x), x)\n"
     ]
    },
    {
     "data": {
      "text/latex": [
       "$\\displaystyle {\\left(k_{z}^{2} - \\kappa_{\\mathit{vacuum}}^{2}\\right)} H_{{\\rm inner}_{{\\rm vacuum}_{f_{x}}}}\\left(x\\right) = -k_{y} \\kappa_{\\mathit{vacuum}} E_{{\\rm inner}_{{\\rm vacuum}_{z}}}\\left(x\\right) - i \\, k_{z} \\frac{\\partial}{\\partial x}H_{{\\rm inner}_{{\\rm vacuum}_{f_{z}}}}\\left(x\\right)$"
      ],
      "text/plain": [
       "<IPython.core.display.Math object>"
      ]
     },
     "metadata": {},
     "output_type": "display_data"
    }
   ],
   "source": [
    "print (\"eq_1 =\")\n",
    "print             (eq_1)\n",
    "display(Math(latex(eq_1)))\n",
    "\n",
    "print (\"eq_2 =\")\n",
    "print             (eq_2)\n",
    "display(Math(latex(eq_2)))\n"
   ]
  },
  {
   "cell_type": "raw",
   "metadata": {},
   "source": [
    "print (\"eq_3 =\")\n",
    "print             (eq_3)\n",
    "display(Math(latex(eq_3)))\n",
    "\n",
    "print (\"eq_4 =\")\n",
    "print             (eq_4)\n",
    "display(Math(latex(eq_4)))"
   ]
  },
  {
   "cell_type": "code",
   "execution_count": 38,
   "metadata": {},
   "outputs": [
    {
     "name": "stdout",
     "output_type": "stream",
     "text": [
      "eq_1 =\n",
      "-(k_z^2 - kappa_vacuum^2)*E_inner_vacuum_y(x) == -k_y*k_z*E_inner_vacuum_z(x) - I*kappa_vacuum*diff(H_inner_vacuum_f_z(x), x)\n"
     ]
    },
    {
     "data": {
      "text/latex": [
       "$\\displaystyle -{\\left(k_{z}^{2} - \\kappa_{\\mathit{vacuum}}^{2}\\right)} E_{{\\rm inner}_{{\\rm vacuum}_{y}}}\\left(x\\right) = -k_{y} k_{z} E_{{\\rm inner}_{{\\rm vacuum}_{z}}}\\left(x\\right) - i \\, \\kappa_{\\mathit{vacuum}} \\frac{\\partial}{\\partial x}H_{{\\rm inner}_{{\\rm vacuum}_{f_{z}}}}\\left(x\\right)$"
      ],
      "text/plain": [
       "<IPython.core.display.Math object>"
      ]
     },
     "metadata": {},
     "output_type": "display_data"
    }
   ],
   "source": [
    "print (\"eq_1 =\")\n",
    "print             (eq_1)\n",
    "display(Math(latex(eq_1)))"
   ]
  },
  {
   "cell_type": "code",
   "execution_count": 39,
   "metadata": {
    "scrolled": true
   },
   "outputs": [
    {
     "name": "stdout",
     "output_type": "stream",
     "text": [
      "-(k_z^2 - kappa_vacuum^2)*E_inner_vacuum_y(x) == -I*kappa_vacuum*diff(H_inner_vacuum_f_z(x), x)\n"
     ]
    },
    {
     "data": {
      "text/latex": [
       "$\\displaystyle -{\\left(k_{z}^{2} - \\kappa_{\\mathit{vacuum}}^{2}\\right)} E_{{\\rm inner}_{{\\rm vacuum}_{y}}}\\left(x\\right) = -i \\, \\kappa_{\\mathit{vacuum}} \\frac{\\partial}{\\partial x}H_{{\\rm inner}_{{\\rm vacuum}_{f_{z}}}}\\left(x\\right)$"
      ],
      "text/plain": [
       "<IPython.core.display.Math object>"
      ]
     },
     "metadata": {},
     "output_type": "display_data"
    }
   ],
   "source": [
    "eq_1_subs1 = eq_1.subs(k_y == 0)\n",
    "print             (eq_1_subs1)\n",
    "display(Math(latex(eq_1_subs1)))"
   ]
  },
  {
   "cell_type": "code",
   "execution_count": 40,
   "metadata": {
    "scrolled": true
   },
   "outputs": [
    {
     "name": "stdout",
     "output_type": "stream",
     "text": [
      "E_inner_vacuum_y(x) == I*kappa_vacuum*diff(H_inner_vacuum_f_z(x), x)/(k_z^2 - kappa_vacuum^2)\n"
     ]
    },
    {
     "data": {
      "text/latex": [
       "$\\displaystyle E_{{\\rm inner}_{{\\rm vacuum}_{y}}}\\left(x\\right) = \\frac{i \\, \\kappa_{\\mathit{vacuum}} \\frac{\\partial}{\\partial x}H_{{\\rm inner}_{{\\rm vacuum}_{f_{z}}}}\\left(x\\right)}{k_{z}^{2} - \\kappa_{\\mathit{vacuum}}^{2}}$"
      ],
      "text/plain": [
       "<IPython.core.display.Math object>"
      ]
     },
     "metadata": {},
     "output_type": "display_data"
    }
   ],
   "source": [
    "eq_1_subs2 = (eq_1_subs1/(kappa_vacuum^2 - k_z^2)).full_simplify()\n",
    "print             (eq_1_subs2)\n",
    "display(Math(latex(eq_1_subs2)))"
   ]
  },
  {
   "cell_type": "code",
   "execution_count": 41,
   "metadata": {
    "scrolled": true
   },
   "outputs": [
    {
     "name": "stdout",
     "output_type": "stream",
     "text": [
      "E_inner_vacuum_y(x) == -(A2_y*K_vacuum^2*e^(I*K_vacuum*x) + A1_y*K_vacuum^2*e^(-I*K_vacuum*x) + I*(I*A2_x*K_vacuum*e^(I*K_vacuum*x) - I*A1_x*K_vacuum*e^(-I*K_vacuum*x))*k_y)*c*kappa_vacuum/((k_z^2 - kappa_vacuum^2)*omega)\n"
     ]
    },
    {
     "data": {
      "text/latex": [
       "$\\displaystyle E_{{\\rm inner}_{{\\rm vacuum}_{y}}}\\left(x\\right) = -\\frac{{\\left(\\mathit{A2}_{y} K_{\\mathit{vacuum}}^{2} e^{\\left(i \\, K_{\\mathit{vacuum}} x\\right)} + \\mathit{A1}_{y} K_{\\mathit{vacuum}}^{2} e^{\\left(-i \\, K_{\\mathit{vacuum}} x\\right)} + i \\, {\\left(i \\, \\mathit{A2}_{x} K_{\\mathit{vacuum}} e^{\\left(i \\, K_{\\mathit{vacuum}} x\\right)} - i \\, \\mathit{A1}_{x} K_{\\mathit{vacuum}} e^{\\left(-i \\, K_{\\mathit{vacuum}} x\\right)}\\right)} k_{y}\\right)} c \\kappa_{\\mathit{vacuum}}}{{\\left(k_{z}^{2} - \\kappa_{\\mathit{vacuum}}^{2}\\right)} \\omega}$"
      ],
      "text/plain": [
       "<IPython.core.display.Math object>"
      ]
     },
     "metadata": {},
     "output_type": "display_data"
    }
   ],
   "source": [
    "eq_1_subs3 = eq_1_subs2.substitute_function(H_inner_vacuum_f_z, H_inner_vacuum_sol_z)\n",
    "print             (eq_1_subs3)\n",
    "display(Math(latex(eq_1_subs3)))"
   ]
  },
  {
   "cell_type": "code",
   "execution_count": 42,
   "metadata": {},
   "outputs": [
    {
     "name": "stdout",
     "output_type": "stream",
     "text": [
      "E_inner_vacuum_y(x) == -(A2_y*K_vacuum^2*e^(I*K_vacuum*x) + A1_y*K_vacuum^2*e^(-I*K_vacuum*x) + I*(I*A2_x*K_vacuum*e^(I*K_vacuum*x) - I*A1_x*K_vacuum*e^(-I*K_vacuum*x))*k_y)/(k_z^2 - kappa_vacuum^2)\n"
     ]
    },
    {
     "data": {
      "text/latex": [
       "$\\displaystyle E_{{\\rm inner}_{{\\rm vacuum}_{y}}}\\left(x\\right) = -\\frac{\\mathit{A2}_{y} K_{\\mathit{vacuum}}^{2} e^{\\left(i \\, K_{\\mathit{vacuum}} x\\right)} + \\mathit{A1}_{y} K_{\\mathit{vacuum}}^{2} e^{\\left(-i \\, K_{\\mathit{vacuum}} x\\right)} + i \\, {\\left(i \\, \\mathit{A2}_{x} K_{\\mathit{vacuum}} e^{\\left(i \\, K_{\\mathit{vacuum}} x\\right)} - i \\, \\mathit{A1}_{x} K_{\\mathit{vacuum}} e^{\\left(-i \\, K_{\\mathit{vacuum}} x\\right)}\\right)} k_{y}}{k_{z}^{2} - \\kappa_{\\mathit{vacuum}}^{2}}$"
      ],
      "text/plain": [
       "<IPython.core.display.Math object>"
      ]
     },
     "metadata": {},
     "output_type": "display_data"
    }
   ],
   "source": [
    "eq_1_subs4 = eq_1_subs3.subs(omega==c*kappa_vacuum/sqrt(epsilon_0*mu_0))\n",
    "print             (eq_1_subs4)\n",
    "display(Math(latex(eq_1_subs4)))"
   ]
  },
  {
   "cell_type": "code",
   "execution_count": null,
   "metadata": {},
   "outputs": [],
   "source": []
  },
  {
   "cell_type": "code",
   "execution_count": 43,
   "metadata": {},
   "outputs": [
    {
     "name": "stdout",
     "output_type": "stream",
     "text": [
      "eq_2 =\n",
      "(k_z^2 - kappa_vacuum^2)*H_inner_vacuum_f_x(x) == -k_y*kappa_vacuum*E_inner_vacuum_z(x) - I*k_z*diff(H_inner_vacuum_f_z(x), x)\n"
     ]
    },
    {
     "data": {
      "text/latex": [
       "$\\displaystyle {\\left(k_{z}^{2} - \\kappa_{\\mathit{vacuum}}^{2}\\right)} H_{{\\rm inner}_{{\\rm vacuum}_{f_{x}}}}\\left(x\\right) = -k_{y} \\kappa_{\\mathit{vacuum}} E_{{\\rm inner}_{{\\rm vacuum}_{z}}}\\left(x\\right) - i \\, k_{z} \\frac{\\partial}{\\partial x}H_{{\\rm inner}_{{\\rm vacuum}_{f_{z}}}}\\left(x\\right)$"
      ],
      "text/plain": [
       "<IPython.core.display.Math object>"
      ]
     },
     "metadata": {},
     "output_type": "display_data"
    }
   ],
   "source": [
    "print (\"eq_2 =\")\n",
    "print             (eq_2)\n",
    "display(Math(latex(eq_2)))"
   ]
  },
  {
   "cell_type": "code",
   "execution_count": 44,
   "metadata": {
    "scrolled": true
   },
   "outputs": [
    {
     "name": "stdout",
     "output_type": "stream",
     "text": [
      "(k_z^2 - kappa_vacuum^2)*H_inner_vacuum_f_x(x) == -I*k_z*diff(H_inner_vacuum_f_z(x), x)\n"
     ]
    },
    {
     "data": {
      "text/latex": [
       "$\\displaystyle {\\left(k_{z}^{2} - \\kappa_{\\mathit{vacuum}}^{2}\\right)} H_{{\\rm inner}_{{\\rm vacuum}_{f_{x}}}}\\left(x\\right) = -i \\, k_{z} \\frac{\\partial}{\\partial x}H_{{\\rm inner}_{{\\rm vacuum}_{f_{z}}}}\\left(x\\right)$"
      ],
      "text/plain": [
       "<IPython.core.display.Math object>"
      ]
     },
     "metadata": {},
     "output_type": "display_data"
    }
   ],
   "source": [
    "eq_2_subs1 = eq_2.subs(k_y == 0)\n",
    "print             (eq_2_subs1)\n",
    "display(Math(latex(eq_2_subs1)))"
   ]
  },
  {
   "cell_type": "code",
   "execution_count": 45,
   "metadata": {
    "scrolled": true
   },
   "outputs": [
    {
     "name": "stdout",
     "output_type": "stream",
     "text": [
      "-H_inner_vacuum_f_x(x) == I*k_z*diff(H_inner_vacuum_f_z(x), x)/(k_z^2 - kappa_vacuum^2)\n"
     ]
    },
    {
     "data": {
      "text/latex": [
       "$\\displaystyle -H_{{\\rm inner}_{{\\rm vacuum}_{f_{x}}}}\\left(x\\right) = \\frac{i \\, k_{z} \\frac{\\partial}{\\partial x}H_{{\\rm inner}_{{\\rm vacuum}_{f_{z}}}}\\left(x\\right)}{k_{z}^{2} - \\kappa_{\\mathit{vacuum}}^{2}}$"
      ],
      "text/plain": [
       "<IPython.core.display.Math object>"
      ]
     },
     "metadata": {},
     "output_type": "display_data"
    }
   ],
   "source": [
    "eq_2_subs2 = (eq_2_subs1/(kappa_vacuum^2 - k_z^2)).full_simplify()\n",
    "print             (eq_2_subs2)\n",
    "display(Math(latex(eq_2_subs2)))"
   ]
  },
  {
   "cell_type": "code",
   "execution_count": 46,
   "metadata": {
    "scrolled": true
   },
   "outputs": [
    {
     "name": "stdout",
     "output_type": "stream",
     "text": [
      "-H_inner_vacuum_f_x(x) == -(A2_y*K_vacuum^2*e^(I*K_vacuum*x) + A1_y*K_vacuum^2*e^(-I*K_vacuum*x) + I*(I*A2_x*K_vacuum*e^(I*K_vacuum*x) - I*A1_x*K_vacuum*e^(-I*K_vacuum*x))*k_y)*c*k_z/((k_z^2 - kappa_vacuum^2)*omega)\n"
     ]
    },
    {
     "data": {
      "text/latex": [
       "$\\displaystyle -H_{{\\rm inner}_{{\\rm vacuum}_{f_{x}}}}\\left(x\\right) = -\\frac{{\\left(\\mathit{A2}_{y} K_{\\mathit{vacuum}}^{2} e^{\\left(i \\, K_{\\mathit{vacuum}} x\\right)} + \\mathit{A1}_{y} K_{\\mathit{vacuum}}^{2} e^{\\left(-i \\, K_{\\mathit{vacuum}} x\\right)} + i \\, {\\left(i \\, \\mathit{A2}_{x} K_{\\mathit{vacuum}} e^{\\left(i \\, K_{\\mathit{vacuum}} x\\right)} - i \\, \\mathit{A1}_{x} K_{\\mathit{vacuum}} e^{\\left(-i \\, K_{\\mathit{vacuum}} x\\right)}\\right)} k_{y}\\right)} c k_{z}}{{\\left(k_{z}^{2} - \\kappa_{\\mathit{vacuum}}^{2}\\right)} \\omega}$"
      ],
      "text/plain": [
       "<IPython.core.display.Math object>"
      ]
     },
     "metadata": {},
     "output_type": "display_data"
    }
   ],
   "source": [
    "eq_2_subs3 = eq_2_subs2.substitute_function(H_inner_vacuum_f_z, H_inner_vacuum_sol_z)\n",
    "print             (eq_2_subs3)\n",
    "display(Math(latex(eq_2_subs3)))"
   ]
  },
  {
   "cell_type": "code",
   "execution_count": 47,
   "metadata": {},
   "outputs": [
    {
     "name": "stdout",
     "output_type": "stream",
     "text": [
      "-H_inner_vacuum_f_x(x) == -(A2_y*K_vacuum^2*e^(I*K_vacuum*x) + A1_y*K_vacuum^2*e^(-I*K_vacuum*x) + I*(I*A2_x*K_vacuum*e^(I*K_vacuum*x) - I*A1_x*K_vacuum*e^(-I*K_vacuum*x))*k_y)*k_z/((k_z^2 - kappa_vacuum^2)*kappa_vacuum)\n"
     ]
    },
    {
     "data": {
      "text/latex": [
       "$\\displaystyle -H_{{\\rm inner}_{{\\rm vacuum}_{f_{x}}}}\\left(x\\right) = -\\frac{{\\left(\\mathit{A2}_{y} K_{\\mathit{vacuum}}^{2} e^{\\left(i \\, K_{\\mathit{vacuum}} x\\right)} + \\mathit{A1}_{y} K_{\\mathit{vacuum}}^{2} e^{\\left(-i \\, K_{\\mathit{vacuum}} x\\right)} + i \\, {\\left(i \\, \\mathit{A2}_{x} K_{\\mathit{vacuum}} e^{\\left(i \\, K_{\\mathit{vacuum}} x\\right)} - i \\, \\mathit{A1}_{x} K_{\\mathit{vacuum}} e^{\\left(-i \\, K_{\\mathit{vacuum}} x\\right)}\\right)} k_{y}\\right)} k_{z}}{{\\left(k_{z}^{2} - \\kappa_{\\mathit{vacuum}}^{2}\\right)} \\kappa_{\\mathit{vacuum}}}$"
      ],
      "text/plain": [
       "<IPython.core.display.Math object>"
      ]
     },
     "metadata": {},
     "output_type": "display_data"
    }
   ],
   "source": [
    "eq_2_subs4 = eq_2_subs3.subs(omega==c*kappa_vacuum/sqrt(epsilon_0*mu_0))\n",
    "print             (eq_2_subs4)\n",
    "display(Math(latex(eq_2_subs4)))"
   ]
  },
  {
   "cell_type": "code",
   "execution_count": null,
   "metadata": {},
   "outputs": [],
   "source": []
  },
  {
   "cell_type": "raw",
   "metadata": {},
   "source": [
    "print (\"eq_3 =\")\n",
    "print             (eq_3)\n",
    "display(Math(latex(eq_3)))"
   ]
  },
  {
   "cell_type": "raw",
   "metadata": {
    "scrolled": true
   },
   "source": [
    "eq_3_subs1 = eq_3.subs(k_y == 0)\n",
    "print             (eq_3_subs1)\n",
    "display(Math(latex(eq_3_subs1)))"
   ]
  },
  {
   "cell_type": "raw",
   "metadata": {
    "scrolled": true
   },
   "source": [
    "eq_3_subs2 = (eq_3_subs1/(kappa^2 - k_z^2)).full_simplify()\n",
    "print             (eq_3_subs2)\n",
    "display(Math(latex(eq_3_subs2)))"
   ]
  },
  {
   "cell_type": "raw",
   "metadata": {
    "scrolled": true
   },
   "source": [
    "eq_3_subs3 = eq_3_subs2.substitute_function(H_bad_conductor_f_z, H_bad_conductor_sol_z)\n",
    "print             (eq_3_subs3)\n",
    "display(Math(latex(eq_3_subs3)))"
   ]
  },
  {
   "cell_type": "raw",
   "metadata": {},
   "source": [
    "eq_3_subs4 = eq_3_subs3.subs(omega==c*kappa/sqrt(epsilon*mu))\n",
    "print             (eq_3_subs4)\n",
    "display(Math(latex(eq_3_subs4)))"
   ]
  },
  {
   "cell_type": "code",
   "execution_count": null,
   "metadata": {},
   "outputs": [],
   "source": []
  },
  {
   "cell_type": "raw",
   "metadata": {},
   "source": [
    "print (\"eq_4 =\")\n",
    "print             (eq_4)\n",
    "display(Math(latex(eq_4)))"
   ]
  },
  {
   "cell_type": "raw",
   "metadata": {
    "scrolled": true
   },
   "source": [
    "eq_4_subs1 = eq_4.subs(k_y == 0)\n",
    "print             (eq_4_subs1)\n",
    "display(Math(latex(eq_4_subs1)))"
   ]
  },
  {
   "cell_type": "raw",
   "metadata": {
    "scrolled": true
   },
   "source": [
    "eq_4_subs2 = (eq_4_subs1/(kappa^2 - k_z^2)).full_simplify()\n",
    "print             (eq_4_subs2)\n",
    "display(Math(latex(eq_4_subs2)))"
   ]
  },
  {
   "cell_type": "raw",
   "metadata": {
    "scrolled": true
   },
   "source": [
    "eq_4_subs3 = eq_4_subs2.substitute_function(H_bad_conductor_f_z, H_bad_conductor_sol_z)\n",
    "print             (eq_4_subs3)\n",
    "display(Math(latex(eq_4_subs3)))"
   ]
  },
  {
   "cell_type": "raw",
   "metadata": {},
   "source": [
    "eq_4_subs4 = eq_4_subs3.subs(omega==c*kappa/sqrt(epsilon*mu))\n",
    "print             (eq_4_subs4)\n",
    "display(Math(latex(eq_4_subs4)))"
   ]
  },
  {
   "cell_type": "code",
   "execution_count": null,
   "metadata": {},
   "outputs": [],
   "source": []
  },
  {
   "cell_type": "code",
   "execution_count": 48,
   "metadata": {},
   "outputs": [
    {
     "name": "stdout",
     "output_type": "stream",
     "text": [
      "eq_5 =\n",
      "-(k_z^2 - kappa_vacuum^2)*E_inner_vacuum_x(x) == -k_y*kappa_vacuum*H_inner_vacuum_f_z(x) + I*k_z*diff(E_inner_vacuum_z(x), x)\n"
     ]
    },
    {
     "data": {
      "text/latex": [
       "$\\displaystyle -{\\left(k_{z}^{2} - \\kappa_{\\mathit{vacuum}}^{2}\\right)} E_{{\\rm inner}_{{\\rm vacuum}_{x}}}\\left(x\\right) = -k_{y} \\kappa_{\\mathit{vacuum}} H_{{\\rm inner}_{{\\rm vacuum}_{f_{z}}}}\\left(x\\right) + i \\, k_{z} \\frac{\\partial}{\\partial x}E_{{\\rm inner}_{{\\rm vacuum}_{z}}}\\left(x\\right)$"
      ],
      "text/plain": [
       "<IPython.core.display.Math object>"
      ]
     },
     "metadata": {},
     "output_type": "display_data"
    },
    {
     "name": "stdout",
     "output_type": "stream",
     "text": [
      "eq_6 =\n",
      "-(k_z^2 - kappa_vacuum^2)*H_inner_vacuum_f_y(x) == -k_y*k_z*H_inner_vacuum_f_z(x) + I*kappa_vacuum*diff(E_inner_vacuum_z(x), x)\n"
     ]
    },
    {
     "data": {
      "text/latex": [
       "$\\displaystyle -{\\left(k_{z}^{2} - \\kappa_{\\mathit{vacuum}}^{2}\\right)} H_{{\\rm inner}_{{\\rm vacuum}_{f_{y}}}}\\left(x\\right) = -k_{y} k_{z} H_{{\\rm inner}_{{\\rm vacuum}_{f_{z}}}}\\left(x\\right) + i \\, \\kappa_{\\mathit{vacuum}} \\frac{\\partial}{\\partial x}E_{{\\rm inner}_{{\\rm vacuum}_{z}}}\\left(x\\right)$"
      ],
      "text/plain": [
       "<IPython.core.display.Math object>"
      ]
     },
     "metadata": {},
     "output_type": "display_data"
    }
   ],
   "source": [
    "print (\"eq_5 =\")\n",
    "print             (eq_5)\n",
    "display(Math(latex(eq_5)))\n",
    "\n",
    "print (\"eq_6 =\")\n",
    "print             (eq_6)\n",
    "display(Math(latex(eq_6)))"
   ]
  },
  {
   "cell_type": "code",
   "execution_count": 49,
   "metadata": {},
   "outputs": [
    {
     "name": "stdout",
     "output_type": "stream",
     "text": [
      "eq_7_l =\n",
      "-(k_z^2 - kappa_l^2)*E_left_conductor_x(x) == -(k_y*kappa_l*sqrt(mu_l)*H_left_conductor_f_z(x) - I*sqrt(epsilon_l)*k_z*diff(E_left_conductor_z(x), x))/sqrt(epsilon_l)\n"
     ]
    },
    {
     "data": {
      "text/latex": [
       "$\\displaystyle -{\\left(k_{z}^{2} - \\kappa_{l}^{2}\\right)} E_{{\\rm left}_{{\\rm conductor}_{x}}}\\left(x\\right) = -\\frac{k_{y} \\kappa_{l} \\sqrt{\\mu_{l}} H_{{\\rm left}_{{\\rm conductor}_{f_{z}}}}\\left(x\\right) - i \\, \\sqrt{\\epsilon_{l}} k_{z} \\frac{\\partial}{\\partial x}E_{{\\rm left}_{{\\rm conductor}_{z}}}\\left(x\\right)}{\\sqrt{\\epsilon_{l}}}$"
      ],
      "text/plain": [
       "<IPython.core.display.Math object>"
      ]
     },
     "metadata": {},
     "output_type": "display_data"
    },
    {
     "name": "stdout",
     "output_type": "stream",
     "text": [
      "eq_8_l =\n",
      "-(k_z^2 - kappa_l^2)*sqrt(mu_l)*H_left_conductor_f_y(x)/sqrt(epsilon_l) == -(k_y*k_z*sqrt(mu_l)*H_left_conductor_f_z(x) - I*sqrt(epsilon_l)*kappa_l*diff(E_left_conductor_z(x), x))/sqrt(epsilon_l)\n"
     ]
    },
    {
     "data": {
      "text/latex": [
       "$\\displaystyle -\\frac{{\\left(k_{z}^{2} - \\kappa_{l}^{2}\\right)} \\sqrt{\\mu_{l}} H_{{\\rm left}_{{\\rm conductor}_{f_{y}}}}\\left(x\\right)}{\\sqrt{\\epsilon_{l}}} = -\\frac{k_{y} k_{z} \\sqrt{\\mu_{l}} H_{{\\rm left}_{{\\rm conductor}_{f_{z}}}}\\left(x\\right) - i \\, \\sqrt{\\epsilon_{l}} \\kappa_{l} \\frac{\\partial}{\\partial x}E_{{\\rm left}_{{\\rm conductor}_{z}}}\\left(x\\right)}{\\sqrt{\\epsilon_{l}}}$"
      ],
      "text/plain": [
       "<IPython.core.display.Math object>"
      ]
     },
     "metadata": {},
     "output_type": "display_data"
    }
   ],
   "source": [
    "print (\"eq_7_l =\")\n",
    "print             (eq_7_l)\n",
    "display(Math(latex(eq_7_l)))\n",
    "\n",
    "print (\"eq_8_l =\")\n",
    "print             (eq_8_l)\n",
    "display(Math(latex(eq_8_l)))"
   ]
  },
  {
   "cell_type": "code",
   "execution_count": 50,
   "metadata": {},
   "outputs": [
    {
     "name": "stdout",
     "output_type": "stream",
     "text": [
      "eq_7_r =\n",
      "-(k_z^2 - kappa_r^2)*E_right_conductor_x(x) == -(k_y*kappa_r*sqrt(mu_r)*H_right_conductor_f_z(x) - I*sqrt(epsilon_r)*k_z*diff(E_right_conductor_z(x), x))/sqrt(epsilon_r)\n"
     ]
    },
    {
     "data": {
      "text/latex": [
       "$\\displaystyle -{\\left(k_{z}^{2} - \\kappa_{r}^{2}\\right)} E_{{\\rm right}_{{\\rm conductor}_{x}}}\\left(x\\right) = -\\frac{k_{y} \\kappa_{r} \\sqrt{\\mu_{r}} H_{{\\rm right}_{{\\rm conductor}_{f_{z}}}}\\left(x\\right) - i \\, \\sqrt{\\epsilon_{r}} k_{z} \\frac{\\partial}{\\partial x}E_{{\\rm right}_{{\\rm conductor}_{z}}}\\left(x\\right)}{\\sqrt{\\epsilon_{r}}}$"
      ],
      "text/plain": [
       "<IPython.core.display.Math object>"
      ]
     },
     "metadata": {},
     "output_type": "display_data"
    },
    {
     "name": "stdout",
     "output_type": "stream",
     "text": [
      "eq_8_r =\n",
      "-(k_z^2 - kappa_r^2)*sqrt(mu_r)*H_right_conductor_f_y(x)/sqrt(epsilon_r) == -(k_y*k_z*sqrt(mu_r)*H_right_conductor_f_z(x) - I*sqrt(epsilon_r)*kappa_r*diff(E_right_conductor_z(x), x))/sqrt(epsilon_r)\n"
     ]
    },
    {
     "data": {
      "text/latex": [
       "$\\displaystyle -\\frac{{\\left(k_{z}^{2} - \\kappa_{r}^{2}\\right)} \\sqrt{\\mu_{r}} H_{{\\rm right}_{{\\rm conductor}_{f_{y}}}}\\left(x\\right)}{\\sqrt{\\epsilon_{r}}} = -\\frac{k_{y} k_{z} \\sqrt{\\mu_{r}} H_{{\\rm right}_{{\\rm conductor}_{f_{z}}}}\\left(x\\right) - i \\, \\sqrt{\\epsilon_{r}} \\kappa_{r} \\frac{\\partial}{\\partial x}E_{{\\rm right}_{{\\rm conductor}_{z}}}\\left(x\\right)}{\\sqrt{\\epsilon_{r}}}$"
      ],
      "text/plain": [
       "<IPython.core.display.Math object>"
      ]
     },
     "metadata": {},
     "output_type": "display_data"
    }
   ],
   "source": [
    "print (\"eq_7_r =\")\n",
    "print             (eq_7_r)\n",
    "display(Math(latex(eq_7_r)))\n",
    "\n",
    "print (\"eq_8_r =\")\n",
    "print             (eq_8_r)\n",
    "display(Math(latex(eq_8_r)))"
   ]
  },
  {
   "cell_type": "code",
   "execution_count": null,
   "metadata": {},
   "outputs": [],
   "source": []
  },
  {
   "cell_type": "code",
   "execution_count": 51,
   "metadata": {},
   "outputs": [
    {
     "name": "stdout",
     "output_type": "stream",
     "text": [
      "eq_5 =\n",
      "-(k_z^2 - kappa_vacuum^2)*E_inner_vacuum_x(x) == -k_y*kappa_vacuum*H_inner_vacuum_f_z(x) + I*k_z*diff(E_inner_vacuum_z(x), x)\n"
     ]
    },
    {
     "data": {
      "text/latex": [
       "$\\displaystyle -{\\left(k_{z}^{2} - \\kappa_{\\mathit{vacuum}}^{2}\\right)} E_{{\\rm inner}_{{\\rm vacuum}_{x}}}\\left(x\\right) = -k_{y} \\kappa_{\\mathit{vacuum}} H_{{\\rm inner}_{{\\rm vacuum}_{f_{z}}}}\\left(x\\right) + i \\, k_{z} \\frac{\\partial}{\\partial x}E_{{\\rm inner}_{{\\rm vacuum}_{z}}}\\left(x\\right)$"
      ],
      "text/plain": [
       "<IPython.core.display.Math object>"
      ]
     },
     "metadata": {},
     "output_type": "display_data"
    }
   ],
   "source": [
    "print (\"eq_5 =\")\n",
    "print             (eq_5)\n",
    "display(Math(latex(eq_5)))"
   ]
  },
  {
   "cell_type": "code",
   "execution_count": 52,
   "metadata": {
    "scrolled": true
   },
   "outputs": [
    {
     "name": "stdout",
     "output_type": "stream",
     "text": [
      "-(k_z^2 - kappa_vacuum^2)*E_inner_vacuum_x(x) == I*k_z*diff(E_inner_vacuum_z(x), x)\n"
     ]
    },
    {
     "data": {
      "text/latex": [
       "$\\displaystyle -{\\left(k_{z}^{2} - \\kappa_{\\mathit{vacuum}}^{2}\\right)} E_{{\\rm inner}_{{\\rm vacuum}_{x}}}\\left(x\\right) = i \\, k_{z} \\frac{\\partial}{\\partial x}E_{{\\rm inner}_{{\\rm vacuum}_{z}}}\\left(x\\right)$"
      ],
      "text/plain": [
       "<IPython.core.display.Math object>"
      ]
     },
     "metadata": {},
     "output_type": "display_data"
    }
   ],
   "source": [
    "eq_5_subs1 = eq_5.subs(k_y == 0)\n",
    "print             (eq_5_subs1)\n",
    "display(Math(latex(eq_5_subs1)))"
   ]
  },
  {
   "cell_type": "code",
   "execution_count": 53,
   "metadata": {
    "scrolled": true
   },
   "outputs": [
    {
     "name": "stdout",
     "output_type": "stream",
     "text": [
      "E_inner_vacuum_x(x) == -I*k_z*diff(E_inner_vacuum_z(x), x)/(k_z^2 - kappa_vacuum^2)\n"
     ]
    },
    {
     "data": {
      "text/latex": [
       "$\\displaystyle E_{{\\rm inner}_{{\\rm vacuum}_{x}}}\\left(x\\right) = -\\frac{i \\, k_{z} \\frac{\\partial}{\\partial x}E_{{\\rm inner}_{{\\rm vacuum}_{z}}}\\left(x\\right)}{k_{z}^{2} - \\kappa_{\\mathit{vacuum}}^{2}}$"
      ],
      "text/plain": [
       "<IPython.core.display.Math object>"
      ]
     },
     "metadata": {},
     "output_type": "display_data"
    }
   ],
   "source": [
    "eq_5_subs2 = (eq_5_subs1/(kappa_vacuum^2 - k_z^2)).full_simplify()\n",
    "print             (eq_5_subs2)\n",
    "display(Math(latex(eq_5_subs2)))"
   ]
  },
  {
   "cell_type": "code",
   "execution_count": 54,
   "metadata": {
    "scrolled": true
   },
   "outputs": [
    {
     "name": "stdout",
     "output_type": "stream",
     "text": [
      "E_inner_vacuum_x(x) == -I*(I*A2_z*K_vacuum*e^(I*K_vacuum*x) - I*A1_z*K_vacuum*e^(-I*K_vacuum*x))*k_z/(k_z^2 - kappa_vacuum^2)\n"
     ]
    },
    {
     "data": {
      "text/latex": [
       "$\\displaystyle E_{{\\rm inner}_{{\\rm vacuum}_{x}}}\\left(x\\right) = -\\frac{i \\, {\\left(i \\, \\mathit{A2}_{z} K_{\\mathit{vacuum}} e^{\\left(i \\, K_{\\mathit{vacuum}} x\\right)} - i \\, \\mathit{A1}_{z} K_{\\mathit{vacuum}} e^{\\left(-i \\, K_{\\mathit{vacuum}} x\\right)}\\right)} k_{z}}{k_{z}^{2} - \\kappa_{\\mathit{vacuum}}^{2}}$"
      ],
      "text/plain": [
       "<IPython.core.display.Math object>"
      ]
     },
     "metadata": {},
     "output_type": "display_data"
    }
   ],
   "source": [
    "eq_5_subs3 = eq_5_subs2.substitute_function(E_inner_vacuum_z, E_inner_vacuum_sol_z)\n",
    "print             (eq_5_subs3)\n",
    "display(Math(latex(eq_5_subs3)))"
   ]
  },
  {
   "cell_type": "code",
   "execution_count": 55,
   "metadata": {},
   "outputs": [
    {
     "name": "stdout",
     "output_type": "stream",
     "text": [
      "E_inner_vacuum_x(x) == -(A2_z*k_z*e^(2*I*sqrt(-k_z^2 + kappa_vacuum^2)*x) - A1_z*k_z)*e^(-I*sqrt(-k_z^2 + kappa_vacuum^2)*x)/sqrt(-k_z^2 + kappa_vacuum^2)\n"
     ]
    },
    {
     "data": {
      "text/latex": [
       "$\\displaystyle E_{{\\rm inner}_{{\\rm vacuum}_{x}}}\\left(x\\right) = -\\frac{{\\left(\\mathit{A2}_{z} k_{z} e^{\\left(2 i \\, \\sqrt{-k_{z}^{2} + \\kappa_{\\mathit{vacuum}}^{2}} x\\right)} - \\mathit{A1}_{z} k_{z}\\right)} e^{\\left(-i \\, \\sqrt{-k_{z}^{2} + \\kappa_{\\mathit{vacuum}}^{2}} x\\right)}}{\\sqrt{-k_{z}^{2} + \\kappa_{\\mathit{vacuum}}^{2}}}$"
      ],
      "text/plain": [
       "<IPython.core.display.Math object>"
      ]
     },
     "metadata": {},
     "output_type": "display_data"
    }
   ],
   "source": [
    "eq_5_subs4 = eq_5_subs3.subs(K_vacuum_subs).full_simplify()\n",
    "print             (eq_5_subs4)\n",
    "display(Math(latex(eq_5_subs4)))"
   ]
  },
  {
   "cell_type": "code",
   "execution_count": null,
   "metadata": {},
   "outputs": [],
   "source": []
  },
  {
   "cell_type": "code",
   "execution_count": 56,
   "metadata": {},
   "outputs": [
    {
     "name": "stdout",
     "output_type": "stream",
     "text": [
      "eq_6 =\n",
      "-(k_z^2 - kappa_vacuum^2)*H_inner_vacuum_f_y(x) == -k_y*k_z*H_inner_vacuum_f_z(x) + I*kappa_vacuum*diff(E_inner_vacuum_z(x), x)\n"
     ]
    },
    {
     "data": {
      "text/latex": [
       "$\\displaystyle -{\\left(k_{z}^{2} - \\kappa_{\\mathit{vacuum}}^{2}\\right)} H_{{\\rm inner}_{{\\rm vacuum}_{f_{y}}}}\\left(x\\right) = -k_{y} k_{z} H_{{\\rm inner}_{{\\rm vacuum}_{f_{z}}}}\\left(x\\right) + i \\, \\kappa_{\\mathit{vacuum}} \\frac{\\partial}{\\partial x}E_{{\\rm inner}_{{\\rm vacuum}_{z}}}\\left(x\\right)$"
      ],
      "text/plain": [
       "<IPython.core.display.Math object>"
      ]
     },
     "metadata": {},
     "output_type": "display_data"
    }
   ],
   "source": [
    "print (\"eq_6 =\")\n",
    "print             (eq_6)\n",
    "display(Math(latex(eq_6)))"
   ]
  },
  {
   "cell_type": "code",
   "execution_count": 57,
   "metadata": {
    "scrolled": true
   },
   "outputs": [
    {
     "name": "stdout",
     "output_type": "stream",
     "text": [
      "-(k_z^2 - kappa_vacuum^2)*H_inner_vacuum_f_y(x) == I*kappa_vacuum*diff(E_inner_vacuum_z(x), x)\n"
     ]
    },
    {
     "data": {
      "text/latex": [
       "$\\displaystyle -{\\left(k_{z}^{2} - \\kappa_{\\mathit{vacuum}}^{2}\\right)} H_{{\\rm inner}_{{\\rm vacuum}_{f_{y}}}}\\left(x\\right) = i \\, \\kappa_{\\mathit{vacuum}} \\frac{\\partial}{\\partial x}E_{{\\rm inner}_{{\\rm vacuum}_{z}}}\\left(x\\right)$"
      ],
      "text/plain": [
       "<IPython.core.display.Math object>"
      ]
     },
     "metadata": {},
     "output_type": "display_data"
    }
   ],
   "source": [
    "eq_6_subs1 = eq_6.subs(k_y == 0)\n",
    "print             (eq_6_subs1)\n",
    "display(Math(latex(eq_6_subs1)))"
   ]
  },
  {
   "cell_type": "code",
   "execution_count": 58,
   "metadata": {
    "scrolled": true
   },
   "outputs": [
    {
     "name": "stdout",
     "output_type": "stream",
     "text": [
      "H_inner_vacuum_f_y(x) == -I*kappa_vacuum*diff(E_inner_vacuum_z(x), x)/(k_z^2 - kappa_vacuum^2)\n"
     ]
    },
    {
     "data": {
      "text/latex": [
       "$\\displaystyle H_{{\\rm inner}_{{\\rm vacuum}_{f_{y}}}}\\left(x\\right) = -\\frac{i \\, \\kappa_{\\mathit{vacuum}} \\frac{\\partial}{\\partial x}E_{{\\rm inner}_{{\\rm vacuum}_{z}}}\\left(x\\right)}{k_{z}^{2} - \\kappa_{\\mathit{vacuum}}^{2}}$"
      ],
      "text/plain": [
       "<IPython.core.display.Math object>"
      ]
     },
     "metadata": {},
     "output_type": "display_data"
    }
   ],
   "source": [
    "eq_6_subs2 = (eq_6_subs1/(kappa_vacuum^2 - k_z^2)).full_simplify()\n",
    "print             (eq_6_subs2)\n",
    "display(Math(latex(eq_6_subs2)))"
   ]
  },
  {
   "cell_type": "code",
   "execution_count": 59,
   "metadata": {
    "scrolled": true
   },
   "outputs": [
    {
     "name": "stdout",
     "output_type": "stream",
     "text": [
      "H_inner_vacuum_f_y(x) == -I*(I*A2_z*K_vacuum*e^(I*K_vacuum*x) - I*A1_z*K_vacuum*e^(-I*K_vacuum*x))*kappa_vacuum/(k_z^2 - kappa_vacuum^2)\n"
     ]
    },
    {
     "data": {
      "text/latex": [
       "$\\displaystyle H_{{\\rm inner}_{{\\rm vacuum}_{f_{y}}}}\\left(x\\right) = -\\frac{i \\, {\\left(i \\, \\mathit{A2}_{z} K_{\\mathit{vacuum}} e^{\\left(i \\, K_{\\mathit{vacuum}} x\\right)} - i \\, \\mathit{A1}_{z} K_{\\mathit{vacuum}} e^{\\left(-i \\, K_{\\mathit{vacuum}} x\\right)}\\right)} \\kappa_{\\mathit{vacuum}}}{k_{z}^{2} - \\kappa_{\\mathit{vacuum}}^{2}}$"
      ],
      "text/plain": [
       "<IPython.core.display.Math object>"
      ]
     },
     "metadata": {},
     "output_type": "display_data"
    }
   ],
   "source": [
    "eq_6_subs3 = eq_6_subs2.substitute_function(E_inner_vacuum_z, E_inner_vacuum_sol_z)\n",
    "print             (eq_6_subs3)\n",
    "display(Math(latex(eq_6_subs3)))"
   ]
  },
  {
   "cell_type": "code",
   "execution_count": null,
   "metadata": {},
   "outputs": [],
   "source": []
  },
  {
   "cell_type": "code",
   "execution_count": 60,
   "metadata": {},
   "outputs": [
    {
     "name": "stdout",
     "output_type": "stream",
     "text": [
      "eq_7_l =\n",
      "-(k_z^2 - kappa_l^2)*E_left_conductor_x(x) == -(k_y*kappa_l*sqrt(mu_l)*H_left_conductor_f_z(x) - I*sqrt(epsilon_l)*k_z*diff(E_left_conductor_z(x), x))/sqrt(epsilon_l)\n"
     ]
    },
    {
     "data": {
      "text/latex": [
       "$\\displaystyle -{\\left(k_{z}^{2} - \\kappa_{l}^{2}\\right)} E_{{\\rm left}_{{\\rm conductor}_{x}}}\\left(x\\right) = -\\frac{k_{y} \\kappa_{l} \\sqrt{\\mu_{l}} H_{{\\rm left}_{{\\rm conductor}_{f_{z}}}}\\left(x\\right) - i \\, \\sqrt{\\epsilon_{l}} k_{z} \\frac{\\partial}{\\partial x}E_{{\\rm left}_{{\\rm conductor}_{z}}}\\left(x\\right)}{\\sqrt{\\epsilon_{l}}}$"
      ],
      "text/plain": [
       "<IPython.core.display.Math object>"
      ]
     },
     "metadata": {},
     "output_type": "display_data"
    }
   ],
   "source": [
    "print (\"eq_7_l =\")\n",
    "print             (eq_7_l)\n",
    "display(Math(latex(eq_7_l)))"
   ]
  },
  {
   "cell_type": "code",
   "execution_count": 61,
   "metadata": {
    "scrolled": true
   },
   "outputs": [
    {
     "name": "stdout",
     "output_type": "stream",
     "text": [
      "-(k_z^2 - kappa_l^2)*E_left_conductor_x(x) == I*k_z*diff(E_left_conductor_z(x), x)\n"
     ]
    },
    {
     "data": {
      "text/latex": [
       "$\\displaystyle -{\\left(k_{z}^{2} - \\kappa_{l}^{2}\\right)} E_{{\\rm left}_{{\\rm conductor}_{x}}}\\left(x\\right) = i \\, k_{z} \\frac{\\partial}{\\partial x}E_{{\\rm left}_{{\\rm conductor}_{z}}}\\left(x\\right)$"
      ],
      "text/plain": [
       "<IPython.core.display.Math object>"
      ]
     },
     "metadata": {},
     "output_type": "display_data"
    }
   ],
   "source": [
    "eq_7_l_subs1 = eq_7_l.subs(k_y == 0)\n",
    "print             (eq_7_l_subs1)\n",
    "display(Math(latex(eq_7_l_subs1)))"
   ]
  },
  {
   "cell_type": "code",
   "execution_count": 62,
   "metadata": {
    "scrolled": true
   },
   "outputs": [
    {
     "name": "stdout",
     "output_type": "stream",
     "text": [
      "E_left_conductor_x(x) == -I*k_z*diff(E_left_conductor_z(x), x)/(k_z^2 - kappa_l^2)\n"
     ]
    },
    {
     "data": {
      "text/latex": [
       "$\\displaystyle E_{{\\rm left}_{{\\rm conductor}_{x}}}\\left(x\\right) = -\\frac{i \\, k_{z} \\frac{\\partial}{\\partial x}E_{{\\rm left}_{{\\rm conductor}_{z}}}\\left(x\\right)}{k_{z}^{2} - \\kappa_{l}^{2}}$"
      ],
      "text/plain": [
       "<IPython.core.display.Math object>"
      ]
     },
     "metadata": {},
     "output_type": "display_data"
    }
   ],
   "source": [
    "eq_7_l_subs2 = (eq_7_l_subs1/(kappa_l^2 - k_z^2)).full_simplify()\n",
    "print             (eq_7_l_subs2)\n",
    "display(Math(latex(eq_7_l_subs2)))"
   ]
  },
  {
   "cell_type": "code",
   "execution_count": 63,
   "metadata": {
    "scrolled": true
   },
   "outputs": [
    {
     "name": "stdout",
     "output_type": "stream",
     "text": [
      "E_left_conductor_x(x) == -B1_zl*K_left_conductor*k_z*e^(-I*K_left_conductor*x)/(k_z^2 - kappa_l^2)\n"
     ]
    },
    {
     "data": {
      "text/latex": [
       "$\\displaystyle E_{{\\rm left}_{{\\rm conductor}_{x}}}\\left(x\\right) = -\\frac{\\mathit{B1}_{\\mathit{zl}} K_{\\mathit{left}_{\\mathit{conductor}}} k_{z} e^{\\left(-i \\, K_{\\mathit{left}_{\\mathit{conductor}}} x\\right)}}{k_{z}^{2} - \\kappa_{l}^{2}}$"
      ],
      "text/plain": [
       "<IPython.core.display.Math object>"
      ]
     },
     "metadata": {},
     "output_type": "display_data"
    }
   ],
   "source": [
    "eq_7_l_subs3 = eq_7_l_subs2.substitute_function(E_left_conductor_z, E_left_conductor_sol_z)\n",
    "print             (eq_7_l_subs3)\n",
    "display(Math(latex(eq_7_l_subs3)))"
   ]
  },
  {
   "cell_type": "code",
   "execution_count": 64,
   "metadata": {},
   "outputs": [
    {
     "name": "stdout",
     "output_type": "stream",
     "text": [
      "E_left_conductor_x(x) == B1_zl*k_z*e^(-I*sqrt(-k_z^2 + kappa_l^2)*x)/sqrt(-k_z^2 + kappa_l^2)\n"
     ]
    },
    {
     "data": {
      "text/latex": [
       "$\\displaystyle E_{{\\rm left}_{{\\rm conductor}_{x}}}\\left(x\\right) = \\frac{\\mathit{B1}_{\\mathit{zl}} k_{z} e^{\\left(-i \\, \\sqrt{-k_{z}^{2} + \\kappa_{l}^{2}} x\\right)}}{\\sqrt{-k_{z}^{2} + \\kappa_{l}^{2}}}$"
      ],
      "text/plain": [
       "<IPython.core.display.Math object>"
      ]
     },
     "metadata": {},
     "output_type": "display_data"
    }
   ],
   "source": [
    "eq_7_l_subs4 = eq_7_l_subs3.subs(K_left_conductor_subs).full_simplify()\n",
    "print             (eq_7_l_subs4)\n",
    "display(Math(latex(eq_7_l_subs4)))"
   ]
  },
  {
   "cell_type": "code",
   "execution_count": null,
   "metadata": {},
   "outputs": [],
   "source": []
  },
  {
   "cell_type": "code",
   "execution_count": 65,
   "metadata": {},
   "outputs": [
    {
     "name": "stdout",
     "output_type": "stream",
     "text": [
      "eq_7_r =\n",
      "-(k_z^2 - kappa_r^2)*E_right_conductor_x(x) == -(k_y*kappa_r*sqrt(mu_r)*H_right_conductor_f_z(x) - I*sqrt(epsilon_r)*k_z*diff(E_right_conductor_z(x), x))/sqrt(epsilon_r)\n"
     ]
    },
    {
     "data": {
      "text/latex": [
       "$\\displaystyle -{\\left(k_{z}^{2} - \\kappa_{r}^{2}\\right)} E_{{\\rm right}_{{\\rm conductor}_{x}}}\\left(x\\right) = -\\frac{k_{y} \\kappa_{r} \\sqrt{\\mu_{r}} H_{{\\rm right}_{{\\rm conductor}_{f_{z}}}}\\left(x\\right) - i \\, \\sqrt{\\epsilon_{r}} k_{z} \\frac{\\partial}{\\partial x}E_{{\\rm right}_{{\\rm conductor}_{z}}}\\left(x\\right)}{\\sqrt{\\epsilon_{r}}}$"
      ],
      "text/plain": [
       "<IPython.core.display.Math object>"
      ]
     },
     "metadata": {},
     "output_type": "display_data"
    }
   ],
   "source": [
    "print (\"eq_7_r =\")\n",
    "print             (eq_7_r)\n",
    "display(Math(latex(eq_7_r)))"
   ]
  },
  {
   "cell_type": "code",
   "execution_count": 66,
   "metadata": {
    "scrolled": true
   },
   "outputs": [
    {
     "name": "stdout",
     "output_type": "stream",
     "text": [
      "-(k_z^2 - kappa_r^2)*E_right_conductor_x(x) == I*k_z*diff(E_right_conductor_z(x), x)\n"
     ]
    },
    {
     "data": {
      "text/latex": [
       "$\\displaystyle -{\\left(k_{z}^{2} - \\kappa_{r}^{2}\\right)} E_{{\\rm right}_{{\\rm conductor}_{x}}}\\left(x\\right) = i \\, k_{z} \\frac{\\partial}{\\partial x}E_{{\\rm right}_{{\\rm conductor}_{z}}}\\left(x\\right)$"
      ],
      "text/plain": [
       "<IPython.core.display.Math object>"
      ]
     },
     "metadata": {},
     "output_type": "display_data"
    }
   ],
   "source": [
    "eq_7_r_subs1 = eq_7_r.subs(k_y == 0)\n",
    "print             (eq_7_r_subs1)\n",
    "display(Math(latex(eq_7_r_subs1)))"
   ]
  },
  {
   "cell_type": "code",
   "execution_count": 67,
   "metadata": {
    "scrolled": true
   },
   "outputs": [
    {
     "name": "stdout",
     "output_type": "stream",
     "text": [
      "E_right_conductor_x(x) == -I*k_z*diff(E_right_conductor_z(x), x)/(k_z^2 - kappa_r^2)\n"
     ]
    },
    {
     "data": {
      "text/latex": [
       "$\\displaystyle E_{{\\rm right}_{{\\rm conductor}_{x}}}\\left(x\\right) = -\\frac{i \\, k_{z} \\frac{\\partial}{\\partial x}E_{{\\rm right}_{{\\rm conductor}_{z}}}\\left(x\\right)}{k_{z}^{2} - \\kappa_{r}^{2}}$"
      ],
      "text/plain": [
       "<IPython.core.display.Math object>"
      ]
     },
     "metadata": {},
     "output_type": "display_data"
    }
   ],
   "source": [
    "eq_7_r_subs2 = (eq_7_r_subs1/(kappa_r^2 - k_z^2)).full_simplify()\n",
    "print             (eq_7_r_subs2)\n",
    "display(Math(latex(eq_7_r_subs2)))"
   ]
  },
  {
   "cell_type": "code",
   "execution_count": 68,
   "metadata": {
    "scrolled": true
   },
   "outputs": [
    {
     "name": "stdout",
     "output_type": "stream",
     "text": [
      "E_right_conductor_x(x) == B1_zr*K_right_conductor*k_z*e^(I*K_right_conductor*x)/(k_z^2 - kappa_r^2)\n"
     ]
    },
    {
     "data": {
      "text/latex": [
       "$\\displaystyle E_{{\\rm right}_{{\\rm conductor}_{x}}}\\left(x\\right) = \\frac{\\mathit{B1}_{\\mathit{zr}} K_{\\mathit{right}_{\\mathit{conductor}}} k_{z} e^{\\left(i \\, K_{\\mathit{right}_{\\mathit{conductor}}} x\\right)}}{k_{z}^{2} - \\kappa_{r}^{2}}$"
      ],
      "text/plain": [
       "<IPython.core.display.Math object>"
      ]
     },
     "metadata": {},
     "output_type": "display_data"
    }
   ],
   "source": [
    "eq_7_r_subs3 = eq_7_r_subs2.substitute_function(E_right_conductor_z, E_right_conductor_sol_z)\n",
    "print             (eq_7_r_subs3)\n",
    "display(Math(latex(eq_7_r_subs3)))"
   ]
  },
  {
   "cell_type": "code",
   "execution_count": 69,
   "metadata": {},
   "outputs": [
    {
     "name": "stdout",
     "output_type": "stream",
     "text": [
      "E_right_conductor_x(x) == -B1_zr*k_z*e^(I*sqrt(-k_z^2 + kappa_r^2)*x)/sqrt(-k_z^2 + kappa_r^2)\n"
     ]
    },
    {
     "data": {
      "text/latex": [
       "$\\displaystyle E_{{\\rm right}_{{\\rm conductor}_{x}}}\\left(x\\right) = -\\frac{\\mathit{B1}_{\\mathit{zr}} k_{z} e^{\\left(i \\, \\sqrt{-k_{z}^{2} + \\kappa_{r}^{2}} x\\right)}}{\\sqrt{-k_{z}^{2} + \\kappa_{r}^{2}}}$"
      ],
      "text/plain": [
       "<IPython.core.display.Math object>"
      ]
     },
     "metadata": {},
     "output_type": "display_data"
    }
   ],
   "source": [
    "eq_7_r_subs4 = eq_7_r_subs3.subs(K_right_conductor_subs).full_simplify()\n",
    "print             (eq_7_r_subs4)\n",
    "display(Math(latex(eq_7_r_subs4)))"
   ]
  },
  {
   "cell_type": "code",
   "execution_count": null,
   "metadata": {},
   "outputs": [],
   "source": []
  },
  {
   "cell_type": "code",
   "execution_count": 70,
   "metadata": {},
   "outputs": [
    {
     "name": "stdout",
     "output_type": "stream",
     "text": [
      "eq_8_l =\n",
      "-(k_z^2 - kappa_l^2)*sqrt(mu_l)*H_left_conductor_f_y(x)/sqrt(epsilon_l) == -(k_y*k_z*sqrt(mu_l)*H_left_conductor_f_z(x) - I*sqrt(epsilon_l)*kappa_l*diff(E_left_conductor_z(x), x))/sqrt(epsilon_l)\n"
     ]
    },
    {
     "data": {
      "text/latex": [
       "$\\displaystyle -\\frac{{\\left(k_{z}^{2} - \\kappa_{l}^{2}\\right)} \\sqrt{\\mu_{l}} H_{{\\rm left}_{{\\rm conductor}_{f_{y}}}}\\left(x\\right)}{\\sqrt{\\epsilon_{l}}} = -\\frac{k_{y} k_{z} \\sqrt{\\mu_{l}} H_{{\\rm left}_{{\\rm conductor}_{f_{z}}}}\\left(x\\right) - i \\, \\sqrt{\\epsilon_{l}} \\kappa_{l} \\frac{\\partial}{\\partial x}E_{{\\rm left}_{{\\rm conductor}_{z}}}\\left(x\\right)}{\\sqrt{\\epsilon_{l}}}$"
      ],
      "text/plain": [
       "<IPython.core.display.Math object>"
      ]
     },
     "metadata": {},
     "output_type": "display_data"
    }
   ],
   "source": [
    "print (\"eq_8_l =\")\n",
    "print             (eq_8_l)\n",
    "display(Math(latex(eq_8_l)))"
   ]
  },
  {
   "cell_type": "code",
   "execution_count": 71,
   "metadata": {
    "scrolled": true
   },
   "outputs": [
    {
     "name": "stdout",
     "output_type": "stream",
     "text": [
      "-(k_z^2 - kappa_l^2)*sqrt(mu_l)*H_left_conductor_f_y(x)/sqrt(epsilon_l) == I*kappa_l*diff(E_left_conductor_z(x), x)\n"
     ]
    },
    {
     "data": {
      "text/latex": [
       "$\\displaystyle -\\frac{{\\left(k_{z}^{2} - \\kappa_{l}^{2}\\right)} \\sqrt{\\mu_{l}} H_{{\\rm left}_{{\\rm conductor}_{f_{y}}}}\\left(x\\right)}{\\sqrt{\\epsilon_{l}}} = i \\, \\kappa_{l} \\frac{\\partial}{\\partial x}E_{{\\rm left}_{{\\rm conductor}_{z}}}\\left(x\\right)$"
      ],
      "text/plain": [
       "<IPython.core.display.Math object>"
      ]
     },
     "metadata": {},
     "output_type": "display_data"
    }
   ],
   "source": [
    "eq_8_l_subs1 = eq_8_l.subs(k_y == 0)\n",
    "print             (eq_8_l_subs1)\n",
    "display(Math(latex(eq_8_l_subs1)))"
   ]
  },
  {
   "cell_type": "code",
   "execution_count": 72,
   "metadata": {
    "scrolled": true
   },
   "outputs": [
    {
     "name": "stdout",
     "output_type": "stream",
     "text": [
      "sqrt(mu_l)*H_left_conductor_f_y(x)/sqrt(epsilon_l) == -I*kappa_l*diff(E_left_conductor_z(x), x)/(k_z^2 - kappa_l^2)\n"
     ]
    },
    {
     "data": {
      "text/latex": [
       "$\\displaystyle \\frac{\\sqrt{\\mu_{l}} H_{{\\rm left}_{{\\rm conductor}_{f_{y}}}}\\left(x\\right)}{\\sqrt{\\epsilon_{l}}} = -\\frac{i \\, \\kappa_{l} \\frac{\\partial}{\\partial x}E_{{\\rm left}_{{\\rm conductor}_{z}}}\\left(x\\right)}{k_{z}^{2} - \\kappa_{l}^{2}}$"
      ],
      "text/plain": [
       "<IPython.core.display.Math object>"
      ]
     },
     "metadata": {},
     "output_type": "display_data"
    }
   ],
   "source": [
    "eq_8_l_subs2 = (eq_8_l_subs1/(kappa_l^2 - k_z^2)).full_simplify()\n",
    "print             (eq_8_l_subs2)\n",
    "display(Math(latex(eq_8_l_subs2)))"
   ]
  },
  {
   "cell_type": "code",
   "execution_count": 73,
   "metadata": {
    "scrolled": true
   },
   "outputs": [
    {
     "name": "stdout",
     "output_type": "stream",
     "text": [
      "sqrt(mu_l)*H_left_conductor_f_y(x)/sqrt(epsilon_l) == -B1_zl*K_left_conductor*kappa_l*e^(-I*K_left_conductor*x)/(k_z^2 - kappa_l^2)\n"
     ]
    },
    {
     "data": {
      "text/latex": [
       "$\\displaystyle \\frac{\\sqrt{\\mu_{l}} H_{{\\rm left}_{{\\rm conductor}_{f_{y}}}}\\left(x\\right)}{\\sqrt{\\epsilon_{l}}} = -\\frac{\\mathit{B1}_{\\mathit{zl}} K_{\\mathit{left}_{\\mathit{conductor}}} \\kappa_{l} e^{\\left(-i \\, K_{\\mathit{left}_{\\mathit{conductor}}} x\\right)}}{k_{z}^{2} - \\kappa_{l}^{2}}$"
      ],
      "text/plain": [
       "<IPython.core.display.Math object>"
      ]
     },
     "metadata": {},
     "output_type": "display_data"
    }
   ],
   "source": [
    "eq_8_l_subs3 = eq_8_l_subs2.substitute_function(E_left_conductor_z, E_left_conductor_sol_z)\n",
    "print             (eq_8_l_subs3)\n",
    "display(Math(latex(eq_8_l_subs3)))"
   ]
  },
  {
   "cell_type": "code",
   "execution_count": null,
   "metadata": {},
   "outputs": [],
   "source": []
  },
  {
   "cell_type": "code",
   "execution_count": 74,
   "metadata": {},
   "outputs": [
    {
     "name": "stdout",
     "output_type": "stream",
     "text": [
      "eq_8_r =\n",
      "-(k_z^2 - kappa_r^2)*sqrt(mu_r)*H_right_conductor_f_y(x)/sqrt(epsilon_r) == -(k_y*k_z*sqrt(mu_r)*H_right_conductor_f_z(x) - I*sqrt(epsilon_r)*kappa_r*diff(E_right_conductor_z(x), x))/sqrt(epsilon_r)\n"
     ]
    },
    {
     "data": {
      "text/latex": [
       "$\\displaystyle -\\frac{{\\left(k_{z}^{2} - \\kappa_{r}^{2}\\right)} \\sqrt{\\mu_{r}} H_{{\\rm right}_{{\\rm conductor}_{f_{y}}}}\\left(x\\right)}{\\sqrt{\\epsilon_{r}}} = -\\frac{k_{y} k_{z} \\sqrt{\\mu_{r}} H_{{\\rm right}_{{\\rm conductor}_{f_{z}}}}\\left(x\\right) - i \\, \\sqrt{\\epsilon_{r}} \\kappa_{r} \\frac{\\partial}{\\partial x}E_{{\\rm right}_{{\\rm conductor}_{z}}}\\left(x\\right)}{\\sqrt{\\epsilon_{r}}}$"
      ],
      "text/plain": [
       "<IPython.core.display.Math object>"
      ]
     },
     "metadata": {},
     "output_type": "display_data"
    }
   ],
   "source": [
    "print (\"eq_8_r =\")\n",
    "print             (eq_8_r)\n",
    "display(Math(latex(eq_8_r)))"
   ]
  },
  {
   "cell_type": "code",
   "execution_count": 75,
   "metadata": {
    "scrolled": true
   },
   "outputs": [
    {
     "name": "stdout",
     "output_type": "stream",
     "text": [
      "-(k_z^2 - kappa_r^2)*sqrt(mu_r)*H_right_conductor_f_y(x)/sqrt(epsilon_r) == I*kappa_r*diff(E_right_conductor_z(x), x)\n"
     ]
    },
    {
     "data": {
      "text/latex": [
       "$\\displaystyle -\\frac{{\\left(k_{z}^{2} - \\kappa_{r}^{2}\\right)} \\sqrt{\\mu_{r}} H_{{\\rm right}_{{\\rm conductor}_{f_{y}}}}\\left(x\\right)}{\\sqrt{\\epsilon_{r}}} = i \\, \\kappa_{r} \\frac{\\partial}{\\partial x}E_{{\\rm right}_{{\\rm conductor}_{z}}}\\left(x\\right)$"
      ],
      "text/plain": [
       "<IPython.core.display.Math object>"
      ]
     },
     "metadata": {},
     "output_type": "display_data"
    }
   ],
   "source": [
    "eq_8_r_subs1 = eq_8_r.subs(k_y == 0)\n",
    "print             (eq_8_r_subs1)\n",
    "display(Math(latex(eq_8_r_subs1)))"
   ]
  },
  {
   "cell_type": "code",
   "execution_count": 76,
   "metadata": {
    "scrolled": true
   },
   "outputs": [
    {
     "name": "stdout",
     "output_type": "stream",
     "text": [
      "sqrt(mu_r)*H_right_conductor_f_y(x)/sqrt(epsilon_r) == -I*kappa_r*diff(E_right_conductor_z(x), x)/(k_z^2 - kappa_r^2)\n"
     ]
    },
    {
     "data": {
      "text/latex": [
       "$\\displaystyle \\frac{\\sqrt{\\mu_{r}} H_{{\\rm right}_{{\\rm conductor}_{f_{y}}}}\\left(x\\right)}{\\sqrt{\\epsilon_{r}}} = -\\frac{i \\, \\kappa_{r} \\frac{\\partial}{\\partial x}E_{{\\rm right}_{{\\rm conductor}_{z}}}\\left(x\\right)}{k_{z}^{2} - \\kappa_{r}^{2}}$"
      ],
      "text/plain": [
       "<IPython.core.display.Math object>"
      ]
     },
     "metadata": {},
     "output_type": "display_data"
    }
   ],
   "source": [
    "eq_8_r_subs2 = (eq_8_r_subs1/(kappa_r^2 - k_z^2)).full_simplify()\n",
    "print             (eq_8_r_subs2)\n",
    "display(Math(latex(eq_8_r_subs2)))"
   ]
  },
  {
   "cell_type": "code",
   "execution_count": 77,
   "metadata": {
    "scrolled": true
   },
   "outputs": [
    {
     "name": "stdout",
     "output_type": "stream",
     "text": [
      "sqrt(mu_r)*H_right_conductor_f_y(x)/sqrt(epsilon_r) == B1_zr*K_right_conductor*kappa_r*e^(I*K_right_conductor*x)/(k_z^2 - kappa_r^2)\n"
     ]
    },
    {
     "data": {
      "text/latex": [
       "$\\displaystyle \\frac{\\sqrt{\\mu_{r}} H_{{\\rm right}_{{\\rm conductor}_{f_{y}}}}\\left(x\\right)}{\\sqrt{\\epsilon_{r}}} = \\frac{\\mathit{B1}_{\\mathit{zr}} K_{\\mathit{right}_{\\mathit{conductor}}} \\kappa_{r} e^{\\left(i \\, K_{\\mathit{right}_{\\mathit{conductor}}} x\\right)}}{k_{z}^{2} - \\kappa_{r}^{2}}$"
      ],
      "text/plain": [
       "<IPython.core.display.Math object>"
      ]
     },
     "metadata": {},
     "output_type": "display_data"
    }
   ],
   "source": [
    "eq_8_r_subs3 = eq_8_r_subs2.substitute_function(E_right_conductor_z, E_right_conductor_sol_z)\n",
    "print             (eq_8_r_subs3)\n",
    "display(Math(latex(eq_8_r_subs3)))"
   ]
  },
  {
   "cell_type": "code",
   "execution_count": null,
   "metadata": {},
   "outputs": [],
   "source": []
  },
  {
   "cell_type": "raw",
   "metadata": {},
   "source": [
    "# нормальная компонента электрического смещения\n",
    "eq_5_subs4x0 = eq_5_subs4.subs(x == 0)\n",
    "print(eq_5_subs4x0)\n",
    "display(Math(latex(eq_5_subs4x0)))\n",
    "\n",
    "print(\"\")\n",
    "\n",
    "eq_7_subs4x0 = eq_7_subs4.subs(x == 0)\n",
    "print(eq_7_subs4x0)\n",
    "display(Math(latex(eq_7_subs4x0)))\n",
    "print(\"\")"
   ]
  },
  {
   "cell_type": "raw",
   "metadata": {},
   "source": [
    "fix_c_epsilon_complex = False"
   ]
  },
  {
   "cell_type": "code",
   "execution_count": 78,
   "metadata": {},
   "outputs": [
    {
     "data": {
      "text/latex": [
       "$\\displaystyle -\\frac{\\sqrt{-k_{z}^{2} + \\kappa_{l}^{2}} \\mathit{B1}_{\\mathit{zl}} \\kappa_{l}^{2} e^{\\left(i \\, \\sqrt{-k_{z}^{2} + \\kappa_{l}^{2}} a\\right)}}{{\\left(k_{z}^{2} - \\kappa_{l}^{2}\\right)} \\mu_{l}} = -\\frac{i \\, {\\left(-i \\, \\sqrt{-k_{z}^{2} + \\kappa_{\\mathit{vacuum}}^{2}} \\mathit{A1}_{z} e^{\\left(i \\, \\sqrt{-k_{z}^{2} + \\kappa_{\\mathit{vacuum}}^{2}} a\\right)} + i \\, \\sqrt{-k_{z}^{2} + \\kappa_{\\mathit{vacuum}}^{2}} \\mathit{A2}_{z} e^{\\left(-i \\, \\sqrt{-k_{z}^{2} + \\kappa_{\\mathit{vacuum}}^{2}} a\\right)}\\right)} \\kappa_{\\mathit{vacuum}}^{2}}{k_{z}^{2} - \\kappa_{\\mathit{vacuum}}^{2}}$"
      ],
      "text/plain": [
       "<IPython.core.display.Math object>"
      ]
     },
     "metadata": {},
     "output_type": "display_data"
    },
    {
     "data": {
      "text/latex": [
       "$\\displaystyle \\frac{\\sqrt{-k_{z}^{2} + \\kappa_{r}^{2}} \\mathit{B1}_{\\mathit{zr}} \\kappa_{r}^{2}}{{\\left(k_{z}^{2} - \\kappa_{r}^{2}\\right)} \\mu_{r}} = -\\frac{i \\, {\\left(-i \\, \\sqrt{-k_{z}^{2} + \\kappa_{\\mathit{vacuum}}^{2}} \\mathit{A1}_{z} + i \\, \\sqrt{-k_{z}^{2} + \\kappa_{\\mathit{vacuum}}^{2}} \\mathit{A2}_{z}\\right)} \\kappa_{\\mathit{vacuum}}^{2}}{k_{z}^{2} - \\kappa_{\\mathit{vacuum}}^{2}}$"
      ],
      "text/plain": [
       "<IPython.core.display.Math object>"
      ]
     },
     "metadata": {},
     "output_type": "display_data"
    }
   ],
   "source": [
    "# тангенциальная компонента напряженности магнитного поля\n",
    "# eqHz_a  = (H_bad_conductor_sol_z(0)  == H_inner_vacuum_sol_z(0)).subs(eqEz_0, eqEy_0)\n",
    "# eqHy_a  = (H_bad_conductor_sol_y(0)  == H_inner_vacuum_sol_y(0)).subs(eqEy_0, eqEz_0)\n",
    "\n",
    "#8 sqrt(mu)*H_bad_conductor_f_y(x)/sqrt(epsilon) == B1_z*K_conductor*kappa*e^(I*K_conductor*x)/(k_z^2 - kappa^2)\n",
    "#6 H_inner_vacuum_f_y(x) == -I*(I*A2_z*K_vacuum*e^(I*K_vacuum*x) - I*A1_z*K_vacuum*e^(-I*K_vacuum*x))*kappa_vacuum/(k_z^2 - kappa_vacuum^2)\n",
    "\n",
    "# eq_Hy_0 = eq_8_subs3.rhs().subs(x == 0)*sqrt(epsilon_complex)/sqrt(mu) == eq_6_subs3.rhs().subs(x == 0)\n",
    "# eq_Hy_0 = (eq_8_subs3.rhs().subs(x == 0).subs(K_conductor_subs)*sqrt(epsilon_complex)/sqrt(mu)) \\\n",
    "#         == eq_6_subs3.rhs().subs(x == 0).subs(K_vacuum_subs)\n",
    "\n",
    "# sqrt(mu / epsilon_complex) = omega * mu / kappa\n",
    "# sqrt(mu / epsilon_complex) = omega * mu_rel * mu_0 / kappa\n",
    "\n",
    "# kappa/mu == omega * sqrt(epsilon_complex/mu)\n",
    "# sqrt(mu_0 / epsilon_0) = omega * mu_0 / kappa_vacuum\n",
    "\n",
    "# kappa_vacuum == omega/c\n",
    "# sqrt(mu_0 / epsilon_0) = c * mu_0\n",
    "# c = 1 / sqrt(mu_0 * epsilon_0)\n",
    "\n",
    "# kappa = omega * sqrt(epsilon_comlex*mu)\n",
    "# kappa_vacuum = omega * sqrt(epsilon_0*mu_0) = omega/c\n",
    "\n",
    "# sqrt(mu_0 / epsilon_0) = 1/(c*epsilon_0) = omega * mu_0 / kappa_vacuum\n",
    "# sqrt(mu / epsilon_complex) = 1/(c*epsilon_complex) = omega * mu / kappa\n",
    "\n",
    "# 1/mu_0 = c^2*epsolon_0\n",
    "\n",
    "#eq_Hy_0 = (eq_8_subs3.rhs().subs(x == 0).subs(K_conductor_subs)*kappa/(mu_rel * mu_0 * omega/c)) \\\n",
    "#        == eq_6_subs3.rhs().subs(x == 0).subs(K_vacuum_subs)*kappa_vacuum/(mu_0 * omega/c)\n",
    "\n",
    "# 1/mu_0 = c^2 * epsilon_0\n",
    "\n",
    "eq_Hy_l = ((eq_8_l_subs3.rhs().subs(x == -a).subs(K_left_conductor_subs)*kappa_l/(mu_l)) \\\n",
    "        ==  eq_6_subs3.rhs().subs(x == -a).subs(K_vacuum_subs)*kappa_vacuum/(mu_0)) \n",
    "\n",
    "\n",
    "eq_Hy_r = ((eq_8_r_subs3.rhs().subs(x == 0).subs(K_right_conductor_subs)*kappa_r/(mu_r)) \\\n",
    "        ==   eq_6_subs3.rhs().subs(x == 0).subs(K_vacuum_subs)*kappa_vacuum/(mu_0)) \n",
    "\n",
    "\n",
    "display(Math(latex(eq_Hy_l)))\n",
    "display(Math(latex(eq_Hy_r)))"
   ]
  },
  {
   "cell_type": "code",
   "execution_count": 79,
   "metadata": {},
   "outputs": [
    {
     "data": {
      "text/latex": [
       "$\\displaystyle -\\frac{\\sqrt{-k_{z}^{2} + \\kappa_{l}^{2}} {\\left(\\mathit{A1}_{z} e^{\\left(-i \\, K_{\\mathit{left}_{\\mathit{conductor}}} a + i \\, K_{\\mathit{vacuum}} a\\right)} + \\mathit{A2}_{z} e^{\\left(-i \\, K_{\\mathit{left}_{\\mathit{conductor}}} a - i \\, K_{\\mathit{vacuum}} a\\right)}\\right)} \\kappa_{l}^{2} e^{\\left(i \\, \\sqrt{-k_{z}^{2} + \\kappa_{l}^{2}} a\\right)}}{{\\left(k_{z}^{2} - \\kappa_{l}^{2}\\right)} \\mu_{l}} = -\\frac{i \\, {\\left(-i \\, \\sqrt{-k_{z}^{2} + \\kappa_{\\mathit{vacuum}}^{2}} \\mathit{A1}_{z} e^{\\left(i \\, \\sqrt{-k_{z}^{2} + \\kappa_{\\mathit{vacuum}}^{2}} a\\right)} + i \\, \\sqrt{-k_{z}^{2} + \\kappa_{\\mathit{vacuum}}^{2}} \\mathit{A2}_{z} e^{\\left(-i \\, \\sqrt{-k_{z}^{2} + \\kappa_{\\mathit{vacuum}}^{2}} a\\right)}\\right)} \\kappa_{\\mathit{vacuum}}^{2}}{k_{z}^{2} - \\kappa_{\\mathit{vacuum}}^{2}}$"
      ],
      "text/plain": [
       "<IPython.core.display.Math object>"
      ]
     },
     "metadata": {},
     "output_type": "display_data"
    }
   ],
   "source": [
    "eq_Hy_ls = eq_Hy_l.subs(solve(eqEz_l,B1_zl))\n",
    "display(Math(latex(eq_Hy_ls)))"
   ]
  },
  {
   "cell_type": "code",
   "execution_count": 80,
   "metadata": {},
   "outputs": [
    {
     "data": {
      "text/latex": [
       "$\\displaystyle \\frac{\\sqrt{-k_{z}^{2} + \\kappa_{r}^{2}} {\\left(\\mathit{A1}_{z} + \\mathit{A2}_{z}\\right)} \\kappa_{r}^{2}}{{\\left(k_{z}^{2} - \\kappa_{r}^{2}\\right)} \\mu_{r}} = -\\frac{i \\, {\\left(-i \\, \\sqrt{-k_{z}^{2} + \\kappa_{\\mathit{vacuum}}^{2}} \\mathit{A1}_{z} + i \\, \\sqrt{-k_{z}^{2} + \\kappa_{\\mathit{vacuum}}^{2}} \\mathit{A2}_{z}\\right)} \\kappa_{\\mathit{vacuum}}^{2}}{k_{z}^{2} - \\kappa_{\\mathit{vacuum}}^{2}}$"
      ],
      "text/plain": [
       "<IPython.core.display.Math object>"
      ]
     },
     "metadata": {},
     "output_type": "display_data"
    }
   ],
   "source": [
    "eq_Hy_rs = eq_Hy_r.subs(eqEz_r)\n",
    "display(Math(latex(eq_Hy_rs)))"
   ]
  },
  {
   "cell_type": "code",
   "execution_count": null,
   "metadata": {},
   "outputs": [],
   "source": []
  },
  {
   "cell_type": "raw",
   "metadata": {},
   "source": [
    "eq_Hy_0_lhs_num = eq_Hy_0.lhs().numerator()\n",
    "eq_Hy_0_lhs_den = eq_Hy_0.lhs().denominator()\n",
    "\n",
    "eq_Hy_0_rhs_num = eq_Hy_0.rhs().numerator()\n",
    "eq_Hy_0_rhs_den = eq_Hy_0.rhs().denominator()"
   ]
  },
  {
   "cell_type": "raw",
   "metadata": {},
   "source": [
    "display(Math(latex(eq_Hy_0_lhs_num)))\n",
    "display(Math(latex(eq_Hy_0_lhs_den)))\n",
    "\n",
    "display(Math(latex(eq_Hy_0_rhs_num)))\n",
    "display(Math(latex(eq_Hy_0_rhs_den)))"
   ]
  },
  {
   "cell_type": "raw",
   "metadata": {},
   "source": [
    "eq_kappa_inner_vacuum"
   ]
  },
  {
   "cell_type": "raw",
   "metadata": {},
   "source": [
    "eq_Hy_0_inv = eq_Hy_0_lhs_den / eq_Hy_0_lhs_num == eq_Hy_0_rhs_den / eq_Hy_0_rhs_num\n",
    "display(Math(latex(eq_Hy_0_inv)))"
   ]
  },
  {
   "cell_type": "raw",
   "metadata": {},
   "source": [
    "eq_Hy_0_inv_2 = (eq_Hy_0_inv.lhs()^2).expand() == (eq_Hy_0_inv.rhs()^2).expand()\n",
    "display(Math(latex(eq_Hy_0_inv_2)))"
   ]
  },
  {
   "cell_type": "raw",
   "metadata": {},
   "source": [
    "eq_Hy_0_inv_2_collect = (eq_Hy_0_inv_2.lhs() - eq_Hy_0_inv_2.rhs()).collect(k_z) == 0\n",
    "display(Math(latex(eq_Hy_0_inv_2_collect)))"
   ]
  },
  {
   "cell_type": "raw",
   "metadata": {},
   "source": [
    "one_per_k_z = var(\"one_per_k_z\")\n",
    "one_per_k_z_sol = solve(eq_Hy_0_inv_2_collect.subs(k_z == 1/one_per_k_z), one_per_k_z^2)[0].subs(one_per_k_z == 1/k_z)\n",
    "display(Math(latex(one_per_k_z_sol)))\n",
    "\n",
    "\n",
    "one_per_k_z_sol_num = one_per_k_z_sol.rhs().numerator()\n",
    "one_per_k_z_sol_den = one_per_k_z_sol.rhs().denominator()\n",
    "\n",
    "one_per_k_z_sol_2 = 1/k_z^2 == (one_per_k_z_sol_num/kappa^2/kappa_vacuum^2).expand() / \\\n",
    "                               (one_per_k_z_sol_den/kappa^2/kappa_vacuum^2).expand()\n",
    "\n",
    "display(Math(latex(one_per_k_z_sol_2)))"
   ]
  },
  {
   "cell_type": "code",
   "execution_count": null,
   "metadata": {},
   "outputs": [],
   "source": []
  },
  {
   "cell_type": "code",
   "execution_count": 81,
   "metadata": {},
   "outputs": [
    {
     "name": "stdout",
     "output_type": "stream",
     "text": [
      "kappa_vacuum == omega/c\n"
     ]
    }
   ],
   "source": [
    "kappa_vacuum_sol = solve(eq_kappa_inner_vacuum, kappa_vacuum)[1]\n",
    "print(kappa_vacuum_sol)"
   ]
  },
  {
   "cell_type": "code",
   "execution_count": 82,
   "metadata": {},
   "outputs": [
    {
     "name": "stdout",
     "output_type": "stream",
     "text": [
      "kappa_l == sqrt(4*I*pi*c*mu_l*omega*sigma_l + epsilon_l*mu_l*omega^2)/c\n"
     ]
    }
   ],
   "source": [
    "kappa_l_sol = solve(eq_kappa_l, kappa_l)[1]\n",
    "print(kappa_l_sol)"
   ]
  },
  {
   "cell_type": "code",
   "execution_count": 83,
   "metadata": {},
   "outputs": [
    {
     "name": "stdout",
     "output_type": "stream",
     "text": [
      "kappa_r == sqrt(4*I*pi*c*mu_r*omega*sigma_r + epsilon_r*mu_r*omega^2)/c\n"
     ]
    }
   ],
   "source": [
    "kappa_r_sol = solve(eq_kappa_r, kappa_r)[1]\n",
    "print(kappa_r_sol)"
   ]
  },
  {
   "cell_type": "code",
   "execution_count": null,
   "metadata": {},
   "outputs": [],
   "source": []
  },
  {
   "cell_type": "raw",
   "metadata": {},
   "source": [
    "one_per_k_z_sol_2_subs = one_per_k_z_sol_2.subs(kappa_vacuum_sol).subs(kappa_sol)\n",
    "display(Math(latex(one_per_k_z_sol_2_subs)))"
   ]
  },
  {
   "cell_type": "code",
   "execution_count": null,
   "metadata": {},
   "outputs": [],
   "source": []
  },
  {
   "cell_type": "raw",
   "metadata": {},
   "source": [
    "one_per_k_z_sol = solve(eq_Hy_0_inv_2, k_z)\n",
    "\n",
    "for i in range(len(one_per_k_z_sol)):\n",
    "    #print(one_per_k_z_sol[i])\n",
    "    display(Math(latex(one_per_k_z_sol[i])))\n",
    "    print(\"\")"
   ]
  },
  {
   "cell_type": "code",
   "execution_count": null,
   "metadata": {},
   "outputs": [],
   "source": []
  },
  {
   "cell_type": "raw",
   "metadata": {},
   "source": [
    "eq_Hy_0_2 = \\\n",
    "    (eq_Hy_0_rhs_den * eq_Hy_0_lhs_num)^2 - \\\n",
    "    (eq_Hy_0_rhs_num * eq_Hy_0_lhs_den)^2 == 0"
   ]
  },
  {
   "cell_type": "raw",
   "metadata": {},
   "source": [
    "print(eq_Hy_0_2)\n",
    "display(Math(latex(eq_Hy_0_2)))"
   ]
  },
  {
   "cell_type": "raw",
   "metadata": {},
   "source": [
    "display(Math(latex(eq_Hy_0_2)))"
   ]
  },
  {
   "cell_type": "raw",
   "metadata": {},
   "source": [
    "eq_Hy_0_2_expand = eq_Hy_0_2.expand()"
   ]
  },
  {
   "cell_type": "code",
   "execution_count": null,
   "metadata": {},
   "outputs": [],
   "source": []
  },
  {
   "cell_type": "raw",
   "metadata": {},
   "source": [
    "eq_Hy_0_2_expand = eq_Hy_0_2_expand.subs(kappa_vacuum_sol)#.subs(kappa_sol)\n",
    "display(Math(latex(eq_Hy_0_2_expand)))"
   ]
  },
  {
   "cell_type": "raw",
   "metadata": {},
   "source": [
    "k_z_sol = solve(eq_Hy_0_2_expand, k_z)\n",
    "\n",
    "for i in range(len(k_z_sol)):\n",
    "    #print(k_z_sol[i])\n",
    "    display(Math(latex(k_z_sol[i])))\n",
    "    print(\"\")"
   ]
  },
  {
   "cell_type": "code",
   "execution_count": null,
   "metadata": {},
   "outputs": [],
   "source": []
  },
  {
   "cell_type": "code",
   "execution_count": null,
   "metadata": {},
   "outputs": [],
   "source": []
  },
  {
   "cell_type": "code",
   "execution_count": 84,
   "metadata": {},
   "outputs": [],
   "source": [
    "#E_vacuum_z = A1_z_im*sin(sqrt(kappa_vacuum^2-k_z^2)*(x+a))\n",
    "#E_vacuum_z"
   ]
  },
  {
   "cell_type": "raw",
   "metadata": {},
   "source": [
    "E_inner_vacuum_sol_z(x)"
   ]
  },
  {
   "cell_type": "raw",
   "metadata": {},
   "source": [
    "eqEz_a.rhs() == eqEz_a.lhs()"
   ]
  },
  {
   "cell_type": "raw",
   "metadata": {},
   "source": [
    "eqEz_a"
   ]
  },
  {
   "cell_type": "raw",
   "metadata": {
    "scrolled": true
   },
   "source": [
    "k_z_sol_subs = k_z_sol[1].subs(eqEz_a).full_simplify()\n",
    "k_z_sol_subs.variables()"
   ]
  },
  {
   "cell_type": "code",
   "execution_count": 85,
   "metadata": {},
   "outputs": [],
   "source": [
    "# display(Math(latex(k_z_sol)))"
   ]
  },
  {
   "cell_type": "code",
   "execution_count": 86,
   "metadata": {},
   "outputs": [
    {
     "data": {
      "text/plain": [
       "E_left_conductor_x(x) == B1_zl*k_z*e^(-I*sqrt(-k_z^2 + kappa_l^2)*x)/sqrt(-k_z^2 + kappa_l^2)"
      ]
     },
     "execution_count": 86,
     "metadata": {},
     "output_type": "execute_result"
    }
   ],
   "source": [
    "eq_7_l_subs4"
   ]
  },
  {
   "cell_type": "code",
   "execution_count": 87,
   "metadata": {},
   "outputs": [
    {
     "name": "stdout",
     "output_type": "stream",
     "text": [
      "E_inner_vacuum_x(-a) == -(A2_z*k_z*e^(-2*I*sqrt(-k_z^2 + kappa_vacuum^2)*a) - A1_z*k_z)*e^(I*sqrt(-k_z^2 + kappa_vacuum^2)*a)/sqrt(-k_z^2 + kappa_vacuum^2)\n"
     ]
    },
    {
     "data": {
      "text/latex": [
       "$\\displaystyle E_{{\\rm inner}_{{\\rm vacuum}_{x}}}\\left(-a\\right) = -\\frac{{\\left(\\mathit{A2}_{z} k_{z} e^{\\left(-2 i \\, \\sqrt{-k_{z}^{2} + \\kappa_{\\mathit{vacuum}}^{2}} a\\right)} - \\mathit{A1}_{z} k_{z}\\right)} e^{\\left(i \\, \\sqrt{-k_{z}^{2} + \\kappa_{\\mathit{vacuum}}^{2}} a\\right)}}{\\sqrt{-k_{z}^{2} + \\kappa_{\\mathit{vacuum}}^{2}}}$"
      ],
      "text/plain": [
       "<IPython.core.display.Math object>"
      ]
     },
     "metadata": {},
     "output_type": "display_data"
    },
    {
     "name": "stdout",
     "output_type": "stream",
     "text": [
      "E_inner_vacuum_x(0) == (A1_z*k_z - A2_z*k_z)/sqrt(-k_z^2 + kappa_vacuum^2)\n"
     ]
    },
    {
     "data": {
      "text/latex": [
       "$\\displaystyle E_{{\\rm inner}_{{\\rm vacuum}_{x}}}\\left(0\\right) = \\frac{\\mathit{A1}_{z} k_{z} - \\mathit{A2}_{z} k_{z}}{\\sqrt{-k_{z}^{2} + \\kappa_{\\mathit{vacuum}}^{2}}}$"
      ],
      "text/plain": [
       "<IPython.core.display.Math object>"
      ]
     },
     "metadata": {},
     "output_type": "display_data"
    },
    {
     "name": "stdout",
     "output_type": "stream",
     "text": [
      "E_left_conductor_x(-a) == B1_zl*k_z*e^(I*sqrt(-k_z^2 + kappa_l^2)*a)/sqrt(-k_z^2 + kappa_l^2)\n"
     ]
    },
    {
     "data": {
      "text/latex": [
       "$\\displaystyle E_{{\\rm left}_{{\\rm conductor}_{x}}}\\left(-a\\right) = \\frac{\\mathit{B1}_{\\mathit{zl}} k_{z} e^{\\left(i \\, \\sqrt{-k_{z}^{2} + \\kappa_{l}^{2}} a\\right)}}{\\sqrt{-k_{z}^{2} + \\kappa_{l}^{2}}}$"
      ],
      "text/plain": [
       "<IPython.core.display.Math object>"
      ]
     },
     "metadata": {},
     "output_type": "display_data"
    },
    {
     "name": "stdout",
     "output_type": "stream",
     "text": [
      "E_right_conductor_x(0) == -B1_zr*k_z/sqrt(-k_z^2 + kappa_r^2)\n"
     ]
    },
    {
     "data": {
      "text/latex": [
       "$\\displaystyle E_{{\\rm right}_{{\\rm conductor}_{x}}}\\left(0\\right) = -\\frac{\\mathit{B1}_{\\mathit{zr}} k_{z}}{\\sqrt{-k_{z}^{2} + \\kappa_{r}^{2}}}$"
      ],
      "text/plain": [
       "<IPython.core.display.Math object>"
      ]
     },
     "metadata": {},
     "output_type": "display_data"
    },
    {
     "name": "stdout",
     "output_type": "stream",
     "text": [
      "(4*I*pi*c*sigma_l/omega + epsilon_l)*B1_zl*k_z*e^(I*sqrt(-k_z^2 + kappa_l^2)*a)/sqrt(-k_z^2 + kappa_l^2) == -(A2_z*k_z*e^(-2*I*sqrt(-k_z^2 + kappa_vacuum^2)*a) - A1_z*k_z)*e^(I*sqrt(-k_z^2 + kappa_vacuum^2)*a)/sqrt(-k_z^2 + kappa_vacuum^2)\n"
     ]
    },
    {
     "data": {
      "text/latex": [
       "$\\displaystyle \\frac{{\\left(\\frac{4 i \\, \\pi c \\sigma_{l}}{\\omega} + \\epsilon_{l}\\right)} \\mathit{B1}_{\\mathit{zl}} k_{z} e^{\\left(i \\, \\sqrt{-k_{z}^{2} + \\kappa_{l}^{2}} a\\right)}}{\\sqrt{-k_{z}^{2} + \\kappa_{l}^{2}}} = -\\frac{{\\left(\\mathit{A2}_{z} k_{z} e^{\\left(-2 i \\, \\sqrt{-k_{z}^{2} + \\kappa_{\\mathit{vacuum}}^{2}} a\\right)} - \\mathit{A1}_{z} k_{z}\\right)} e^{\\left(i \\, \\sqrt{-k_{z}^{2} + \\kappa_{\\mathit{vacuum}}^{2}} a\\right)}}{\\sqrt{-k_{z}^{2} + \\kappa_{\\mathit{vacuum}}^{2}}}$"
      ],
      "text/plain": [
       "<IPython.core.display.Math object>"
      ]
     },
     "metadata": {},
     "output_type": "display_data"
    },
    {
     "name": "stdout",
     "output_type": "stream",
     "text": [
      "-(4*I*pi*c*sigma_r/omega + epsilon_r)*B1_zr*k_z/sqrt(-k_z^2 + kappa_r^2) == (A1_z*k_z - A2_z*k_z)/sqrt(-k_z^2 + kappa_vacuum^2)\n"
     ]
    },
    {
     "data": {
      "text/latex": [
       "$\\displaystyle -\\frac{{\\left(\\frac{4 i \\, \\pi c \\sigma_{r}}{\\omega} + \\epsilon_{r}\\right)} \\mathit{B1}_{\\mathit{zr}} k_{z}}{\\sqrt{-k_{z}^{2} + \\kappa_{r}^{2}}} = \\frac{\\mathit{A1}_{z} k_{z} - \\mathit{A2}_{z} k_{z}}{\\sqrt{-k_{z}^{2} + \\kappa_{\\mathit{vacuum}}^{2}}}$"
      ],
      "text/plain": [
       "<IPython.core.display.Math object>"
      ]
     },
     "metadata": {},
     "output_type": "display_data"
    },
    {
     "name": "stdout",
     "output_type": "stream",
     "text": [
      "\n"
     ]
    }
   ],
   "source": [
    "# нормальная компонента электрического смещения\n",
    "eq_5_l_subs4xa = eq_5_subs4.subs(x == -a)\n",
    "print(eq_5_l_subs4xa)\n",
    "display(Math(latex(eq_5_l_subs4xa)))\n",
    "\n",
    "eq_5_r_subs4x0 = eq_5_subs4.subs(x == 0)\n",
    "print(eq_5_r_subs4x0)\n",
    "display(Math(latex(eq_5_r_subs4x0)))\n",
    "\n",
    "\n",
    "eq_7_l_subs4xa = eq_7_l_subs4.subs(x == -a)\n",
    "print(eq_7_l_subs4xa)\n",
    "display(Math(latex(eq_7_l_subs4xa)))\n",
    "\n",
    "eq_7_r_subs4x0 = eq_7_r_subs4.subs(x == 0)\n",
    "print(eq_7_r_subs4x0)\n",
    "display(Math(latex(eq_7_r_subs4x0)))\n",
    "\n",
    "\n",
    "# eqDx_a = E_inner_vacuum_sol_x(0) == E_bad_conductor_sol_x(0) * epsilon\n",
    "eq_Dx_l = epsilon_l_complex == (eq_5_l_subs4xa.rhs() / eq_7_l_subs4xa.rhs()).full_simplify()\n",
    "eq_Dx_r = epsilon_r_complex == (eq_5_r_subs4x0.rhs() / eq_7_r_subs4x0.rhs()).full_simplify()\n",
    "\n",
    "eqDx_l = epsilon_l_complex * eq_7_l_subs4xa.rhs() == eq_5_l_subs4xa.rhs()\n",
    "eqDx_r = epsilon_r_complex * eq_7_r_subs4x0.rhs() == eq_5_r_subs4x0.rhs()\n",
    "\n",
    "print(eqDx_l)\n",
    "display(Math(latex(eqDx_l)))\n",
    "print(eqDx_r)\n",
    "display(Math(latex(eqDx_r)))\n",
    "\n",
    "print(\"\")"
   ]
  },
  {
   "cell_type": "raw",
   "metadata": {},
   "source": [
    "eq_Dx_a_subs = eq_Dx_a.subs(eq_kappa).subs(eq_kappa_inner_vacuum)\n",
    "\n",
    "print(eq_Dx_a_subs)\n",
    "display(Math(latex(eq_Dx_a_subs)))"
   ]
  },
  {
   "cell_type": "raw",
   "metadata": {},
   "source": [
    "eq_Dx_a_subs2 = eq_Dx_a_subs.lhs()^2 == eq_Dx_a_subs.rhs()^2\n",
    "\n",
    "print(eq_Dx_a_subs2)\n",
    "display(Math(latex(eq_Dx_a_subs2)))"
   ]
  },
  {
   "cell_type": "raw",
   "metadata": {},
   "source": [
    "sol_eq_Dx_a_subs2_kz = solve(eq_Dx_a_subs2, k_z)\n",
    "\n",
    "#print(sol_eq_Dx_a_subs2_kz)\n",
    "display(Math(latex(sol_eq_Dx_a_subs2_kz)))"
   ]
  },
  {
   "cell_type": "code",
   "execution_count": null,
   "metadata": {},
   "outputs": [],
   "source": []
  },
  {
   "cell_type": "raw",
   "metadata": {},
   "source": [
    "# нормальная компонента электрического смещения\n",
    "# eqDx_a = E_inner_vacuum_sol_x(0) == E_bad_conductor_sol_x(0) * epsilon\n",
    "eqDx_a"
   ]
  },
  {
   "cell_type": "raw",
   "metadata": {},
   "source": [
    "# нормальная компонента электрического смещения\n",
    "# eqDx_a = E_inner_vacuum_sol_x(0) == E_bad_conductor_sol_x(0) * epsilon\n",
    "eqDx_a"
   ]
  },
  {
   "cell_type": "raw",
   "metadata": {},
   "source": [
    "print             (eq_5_subs4)\n",
    "display(Math(latex(eq_5_subs4)))"
   ]
  },
  {
   "cell_type": "raw",
   "metadata": {},
   "source": [
    "print             (eq_7_subs4)\n",
    "display(Math(latex(eq_7_subs4)))"
   ]
  },
  {
   "cell_type": "raw",
   "metadata": {},
   "source": [
    "eq_eqDx_a = eq_5_subs4.rhs().subs(x == 0).subs(K_vacuum_subs) \\\n",
    "         == (eq_7_subs4.rhs().subs(x == 0)*epsilon_complex).subs(K_conductor_subs)\n",
    "print             (eq_eqDx_a)\n",
    "display(Math(latex(eq_eqDx_a)))"
   ]
  },
  {
   "cell_type": "code",
   "execution_count": null,
   "metadata": {},
   "outputs": [],
   "source": []
  },
  {
   "cell_type": "code",
   "execution_count": 88,
   "metadata": {},
   "outputs": [
    {
     "name": "stdout",
     "output_type": "stream",
     "text": [
      "eqHz_l =\n"
     ]
    },
    {
     "data": {
      "text/latex": [
       "$\\displaystyle -\\frac{i \\, {\\left(-i \\, \\mathit{B1}_{\\mathit{yl}} K_{\\mathit{left}_{\\mathit{conductor}}} e^{\\left(i \\, K_{\\mathit{left}_{\\mathit{conductor}}} a\\right)} - i \\, \\mathit{B1}_{\\mathit{xl}} k_{y} e^{\\left(i \\, K_{\\mathit{left}_{\\mathit{conductor}}} a\\right)}\\right)} c}{\\mu_{l} \\omega} = -\\frac{i \\, {\\left(-i \\, \\mathit{A1}_{y} K_{\\mathit{vacuum}} e^{\\left(i \\, K_{\\mathit{vacuum}} a\\right)} + i \\, \\mathit{A2}_{y} K_{\\mathit{vacuum}} e^{\\left(-i \\, K_{\\mathit{vacuum}} a\\right)} - i \\, {\\left(\\mathit{A1}_{x} e^{\\left(i \\, K_{\\mathit{vacuum}} a\\right)} + \\mathit{A2}_{x} e^{\\left(-i \\, K_{\\mathit{vacuum}} a\\right)}\\right)} k_{y}\\right)} c}{\\omega}$"
      ],
      "text/plain": [
       "<IPython.core.display.Math object>"
      ]
     },
     "metadata": {},
     "output_type": "display_data"
    },
    {
     "name": "stdout",
     "output_type": "stream",
     "text": [
      "eqHz_r =\n"
     ]
    },
    {
     "data": {
      "text/latex": [
       "$\\displaystyle -\\frac{i \\, {\\left(i \\, \\mathit{B1}_{\\mathit{yr}} K_{\\mathit{right}_{\\mathit{conductor}}} - i \\, \\mathit{B1}_{\\mathit{xr}} k_{y}\\right)} c}{\\mu_{r} \\omega} = -\\frac{i \\, {\\left(-i \\, \\mathit{A1}_{y} K_{\\mathit{vacuum}} + i \\, \\mathit{A2}_{y} K_{\\mathit{vacuum}} - i \\, {\\left(\\mathit{A1}_{x} + \\mathit{A2}_{x}\\right)} k_{y}\\right)} c}{\\omega}$"
      ],
      "text/plain": [
       "<IPython.core.display.Math object>"
      ]
     },
     "metadata": {},
     "output_type": "display_data"
    },
    {
     "name": "stdout",
     "output_type": "stream",
     "text": [
      "eqHy_l =\n"
     ]
    },
    {
     "data": {
      "text/latex": [
       "$\\displaystyle -\\frac{i \\, {\\left(i \\, \\mathit{B1}_{\\mathit{zl}} K_{\\mathit{left}_{\\mathit{conductor}}} e^{\\left(i \\, K_{\\mathit{left}_{\\mathit{conductor}}} a\\right)} + i \\, \\mathit{B1}_{\\mathit{xl}} k_{z} e^{\\left(i \\, K_{\\mathit{left}_{\\mathit{conductor}}} a\\right)}\\right)} c}{\\mu_{l} \\omega} = -\\frac{i \\, {\\left(i \\, \\mathit{A1}_{z} K_{\\mathit{vacuum}} e^{\\left(i \\, K_{\\mathit{vacuum}} a\\right)} - i \\, \\mathit{A2}_{z} K_{\\mathit{vacuum}} e^{\\left(-i \\, K_{\\mathit{vacuum}} a\\right)} + i \\, {\\left(\\mathit{A1}_{x} e^{\\left(i \\, K_{\\mathit{vacuum}} a\\right)} + \\mathit{A2}_{x} e^{\\left(-i \\, K_{\\mathit{vacuum}} a\\right)}\\right)} k_{z}\\right)} c}{\\omega}$"
      ],
      "text/plain": [
       "<IPython.core.display.Math object>"
      ]
     },
     "metadata": {},
     "output_type": "display_data"
    },
    {
     "name": "stdout",
     "output_type": "stream",
     "text": [
      "eqHy_r =\n"
     ]
    },
    {
     "data": {
      "text/latex": [
       "$\\displaystyle -\\frac{i \\, {\\left(-i \\, \\mathit{B1}_{\\mathit{zr}} K_{\\mathit{right}_{\\mathit{conductor}}} + i \\, \\mathit{B1}_{\\mathit{xr}} k_{z}\\right)} c}{\\mu_{r} \\omega} = -\\frac{i \\, {\\left(i \\, \\mathit{A1}_{z} K_{\\mathit{vacuum}} - i \\, \\mathit{A2}_{z} K_{\\mathit{vacuum}} + i \\, {\\left(\\mathit{A1}_{x} + \\mathit{A2}_{x}\\right)} k_{z}\\right)} c}{\\omega}$"
      ],
      "text/plain": [
       "<IPython.core.display.Math object>"
      ]
     },
     "metadata": {},
     "output_type": "display_data"
    },
    {
     "name": "stdout",
     "output_type": "stream",
     "text": [
      "eqHz_l_ =\n"
     ]
    },
    {
     "data": {
      "text/latex": [
       "$\\displaystyle -\\frac{i \\, {\\left(-i \\, {\\left(i \\, \\mathit{B1}_{\\mathit{yl}_{\\mathit{im}}} + \\mathit{B1}_{\\mathit{yl}_{\\mathit{re}}}\\right)} K_{\\mathit{left}_{\\mathit{conductor}}} e^{\\left(i \\, K_{\\mathit{left}_{\\mathit{conductor}}} a\\right)} - i \\, {\\left(i \\, \\mathit{B1}_{\\mathit{xl}_{\\mathit{im}}} + \\mathit{B1}_{\\mathit{xl}_{\\mathit{re}}}\\right)} k_{y} e^{\\left(i \\, K_{\\mathit{left}_{\\mathit{conductor}}} a\\right)}\\right)} c}{\\mu_{l} \\omega} = -\\frac{i \\, {\\left(-i \\, {\\left(i \\, \\mathit{A1}_{y_{\\mathit{im}}} + \\mathit{A1}_{y_{\\mathit{re}}}\\right)} K_{\\mathit{vacuum}} e^{\\left(i \\, K_{\\mathit{vacuum}} a\\right)} + i \\, {\\left(i \\, \\mathit{A2}_{y_{\\mathit{im}}} + \\mathit{A2}_{y_{\\mathit{re}}}\\right)} K_{\\mathit{vacuum}} e^{\\left(-i \\, K_{\\mathit{vacuum}} a\\right)} - i \\, {\\left({\\left(i \\, \\mathit{A1}_{x_{\\mathit{im}}} + \\mathit{A1}_{x_{\\mathit{re}}}\\right)} e^{\\left(i \\, K_{\\mathit{vacuum}} a\\right)} + {\\left(i \\, \\mathit{A2}_{x_{\\mathit{im}}} + \\mathit{A2}_{x_{\\mathit{re}}}\\right)} e^{\\left(-i \\, K_{\\mathit{vacuum}} a\\right)}\\right)} k_{y}\\right)} c}{\\omega}$"
      ],
      "text/plain": [
       "<IPython.core.display.Math object>"
      ]
     },
     "metadata": {},
     "output_type": "display_data"
    },
    {
     "name": "stdout",
     "output_type": "stream",
     "text": [
      "eqHz_r_ =\n"
     ]
    },
    {
     "data": {
      "text/latex": [
       "$\\displaystyle -\\frac{i \\, {\\left(i \\, {\\left(i \\, \\mathit{B1}_{\\mathit{yr}_{\\mathit{im}}} + \\mathit{B1}_{\\mathit{yr}_{\\mathit{re}}}\\right)} K_{\\mathit{right}_{\\mathit{conductor}}} - i \\, {\\left(i \\, \\mathit{B1}_{\\mathit{xr}_{\\mathit{im}}} + \\mathit{B1}_{\\mathit{xr}_{\\mathit{re}}}\\right)} k_{y}\\right)} c}{\\mu_{r} \\omega} = -\\frac{i \\, {\\left(-i \\, {\\left(i \\, \\mathit{A1}_{y_{\\mathit{im}}} + \\mathit{A1}_{y_{\\mathit{re}}}\\right)} K_{\\mathit{vacuum}} + i \\, {\\left(i \\, \\mathit{A2}_{y_{\\mathit{im}}} + \\mathit{A2}_{y_{\\mathit{re}}}\\right)} K_{\\mathit{vacuum}} - i \\, {\\left(i \\, \\mathit{A1}_{x_{\\mathit{im}}} + \\mathit{A1}_{x_{\\mathit{re}}} + i \\, \\mathit{A2}_{x_{\\mathit{im}}} + \\mathit{A2}_{x_{\\mathit{re}}}\\right)} k_{y}\\right)} c}{\\omega}$"
      ],
      "text/plain": [
       "<IPython.core.display.Math object>"
      ]
     },
     "metadata": {},
     "output_type": "display_data"
    },
    {
     "name": "stdout",
     "output_type": "stream",
     "text": [
      "eqHy_l_ =\n"
     ]
    },
    {
     "data": {
      "text/latex": [
       "$\\displaystyle -\\frac{{\\left(4 i \\, \\pi c \\mu_{l} \\omega \\sigma_{l} + \\epsilon_{l} \\mu_{l} \\omega^{2}\\right)} \\sqrt{-k_{z}^{2} + \\frac{4 i \\, \\pi c \\mu_{l} \\omega \\sigma_{l} + \\epsilon_{l} \\mu_{l} \\omega^{2}}{c^{2}}} {\\left(i \\, \\mathit{B1}_{\\mathit{zl}_{\\mathit{im}}} + \\mathit{B1}_{\\mathit{zl}_{\\mathit{re}}}\\right)} e^{\\left(i \\, \\sqrt{\\frac{4 i \\, \\pi \\mu_{l} \\omega \\sigma_{l}}{c} - k_{z}^{2} + \\frac{\\epsilon_{l} \\mu_{l} \\omega^{2}}{c^{2}}} a\\right)}}{{\\left(k_{z}^{2} - \\frac{4 i \\, \\pi c \\mu_{l} \\omega \\sigma_{l} + \\epsilon_{l} \\mu_{l} \\omega^{2}}{c^{2}}\\right)} c^{2} \\mu_{l}} = -\\frac{i \\, {\\left(-i \\, \\sqrt{-k_{z}^{2} + \\frac{\\omega^{2}}{c^{2}}} {\\left(i \\, \\mathit{A1}_{z_{\\mathit{im}}} + \\mathit{A1}_{z_{\\mathit{re}}}\\right)} e^{\\left(i \\, \\sqrt{-k_{z}^{2} + \\frac{\\omega^{2}}{c^{2}}} a\\right)} + i \\, \\sqrt{-k_{z}^{2} + \\frac{\\omega^{2}}{c^{2}}} {\\left(i \\, \\mathit{A2}_{z_{\\mathit{im}}} + \\mathit{A2}_{z_{\\mathit{re}}}\\right)} e^{\\left(-i \\, \\sqrt{-k_{z}^{2} + \\frac{\\omega^{2}}{c^{2}}} a\\right)}\\right)} \\omega^{2}}{{\\left(k_{z}^{2} - \\frac{\\omega^{2}}{c^{2}}\\right)} c^{2}}$"
      ],
      "text/plain": [
       "<IPython.core.display.Math object>"
      ]
     },
     "metadata": {},
     "output_type": "display_data"
    },
    {
     "name": "stdout",
     "output_type": "stream",
     "text": [
      "eqHy_r_ =\n"
     ]
    },
    {
     "data": {
      "text/latex": [
       "$\\displaystyle \\frac{{\\left(4 i \\, \\pi c \\mu_{r} \\omega \\sigma_{r} + \\epsilon_{r} \\mu_{r} \\omega^{2}\\right)} \\sqrt{-k_{z}^{2} + \\frac{4 i \\, \\pi c \\mu_{r} \\omega \\sigma_{r} + \\epsilon_{r} \\mu_{r} \\omega^{2}}{c^{2}}} {\\left(i \\, \\mathit{B1}_{\\mathit{zr}_{\\mathit{im}}} + \\mathit{B1}_{\\mathit{zr}_{\\mathit{re}}}\\right)}}{{\\left(k_{z}^{2} - \\frac{4 i \\, \\pi c \\mu_{r} \\omega \\sigma_{r} + \\epsilon_{r} \\mu_{r} \\omega^{2}}{c^{2}}\\right)} c^{2} \\mu_{r}} = -\\frac{i \\, {\\left(-i \\, \\sqrt{-k_{z}^{2} + \\frac{\\omega^{2}}{c^{2}}} {\\left(i \\, \\mathit{A1}_{z_{\\mathit{im}}} + \\mathit{A1}_{z_{\\mathit{re}}}\\right)} + i \\, \\sqrt{-k_{z}^{2} + \\frac{\\omega^{2}}{c^{2}}} {\\left(i \\, \\mathit{A2}_{z_{\\mathit{im}}} + \\mathit{A2}_{z_{\\mathit{re}}}\\right)}\\right)} \\omega^{2}}{{\\left(k_{z}^{2} - \\frac{\\omega^{2}}{c^{2}}\\right)} c^{2}}$"
      ],
      "text/plain": [
       "<IPython.core.display.Math object>"
      ]
     },
     "metadata": {},
     "output_type": "display_data"
    },
    {
     "name": "stdout",
     "output_type": "stream",
     "text": [
      "eqEz_l = \n"
     ]
    },
    {
     "data": {
      "text/latex": [
       "$\\displaystyle \\mathit{B1}_{\\mathit{zl}} e^{\\left(i \\, K_{\\mathit{left}_{\\mathit{conductor}}} a\\right)} = \\mathit{A1}_{z} e^{\\left(i \\, K_{\\mathit{vacuum}} a\\right)} + \\mathit{A2}_{z} e^{\\left(-i \\, K_{\\mathit{vacuum}} a\\right)}$"
      ],
      "text/plain": [
       "<IPython.core.display.Math object>"
      ]
     },
     "metadata": {},
     "output_type": "display_data"
    },
    {
     "name": "stdout",
     "output_type": "stream",
     "text": [
      "eqEz_r = \n"
     ]
    },
    {
     "data": {
      "text/latex": [
       "$\\displaystyle \\mathit{B1}_{\\mathit{zr}} = \\mathit{A1}_{z} + \\mathit{A2}_{z}$"
      ],
      "text/plain": [
       "<IPython.core.display.Math object>"
      ]
     },
     "metadata": {},
     "output_type": "display_data"
    },
    {
     "name": "stdout",
     "output_type": "stream",
     "text": [
      "eqEz_l_ = \n"
     ]
    },
    {
     "data": {
      "text/latex": [
       "$\\displaystyle {\\left(i \\, \\mathit{B1}_{\\mathit{zl}_{\\mathit{im}}} + \\mathit{B1}_{\\mathit{zl}_{\\mathit{re}}}\\right)} e^{\\left(i \\, K_{\\mathit{left}_{\\mathit{conductor}}} a\\right)} = {\\left(i \\, \\mathit{A1}_{z_{\\mathit{im}}} + \\mathit{A1}_{z_{\\mathit{re}}}\\right)} e^{\\left(i \\, K_{\\mathit{vacuum}} a\\right)} + {\\left(i \\, \\mathit{A2}_{z_{\\mathit{im}}} + \\mathit{A2}_{z_{\\mathit{re}}}\\right)} e^{\\left(-i \\, K_{\\mathit{vacuum}} a\\right)}$"
      ],
      "text/plain": [
       "<IPython.core.display.Math object>"
      ]
     },
     "metadata": {},
     "output_type": "display_data"
    },
    {
     "name": "stdout",
     "output_type": "stream",
     "text": [
      "eqEz_r_ = \n"
     ]
    },
    {
     "data": {
      "text/latex": [
       "$\\displaystyle i \\, \\mathit{B1}_{\\mathit{zr}_{\\mathit{im}}} + \\mathit{B1}_{\\mathit{zr}_{\\mathit{re}}} = i \\, \\mathit{A1}_{z_{\\mathit{im}}} + \\mathit{A1}_{z_{\\mathit{re}}} + i \\, \\mathit{A2}_{z_{\\mathit{im}}} + \\mathit{A2}_{z_{\\mathit{re}}}$"
      ],
      "text/plain": [
       "<IPython.core.display.Math object>"
      ]
     },
     "metadata": {},
     "output_type": "display_data"
    },
    {
     "name": "stdout",
     "output_type": "stream",
     "text": [
      "eqBx_l =\n"
     ]
    },
    {
     "data": {
      "text/latex": [
       "$\\displaystyle -\\frac{i \\, {\\left(i \\, \\mathit{B1}_{\\mathit{zl}} k_{y} e^{\\left(i \\, K_{\\mathit{left}_{\\mathit{conductor}}} a\\right)} - i \\, \\mathit{B1}_{\\mathit{yl}} k_{z} e^{\\left(i \\, K_{\\mathit{left}_{\\mathit{conductor}}} a\\right)}\\right)} c}{\\omega} = -\\frac{i \\, {\\left(i \\, {\\left(\\mathit{A1}_{z} e^{\\left(i \\, K_{\\mathit{vacuum}} a\\right)} + \\mathit{A2}_{z} e^{\\left(-i \\, K_{\\mathit{vacuum}} a\\right)}\\right)} k_{y} - i \\, {\\left(\\mathit{A1}_{y} e^{\\left(i \\, K_{\\mathit{vacuum}} a\\right)} + \\mathit{A2}_{y} e^{\\left(-i \\, K_{\\mathit{vacuum}} a\\right)}\\right)} k_{z}\\right)} c}{\\omega}$"
      ],
      "text/plain": [
       "<IPython.core.display.Math object>"
      ]
     },
     "metadata": {},
     "output_type": "display_data"
    },
    {
     "name": "stdout",
     "output_type": "stream",
     "text": [
      "eqBx_r =\n"
     ]
    },
    {
     "data": {
      "text/latex": [
       "$\\displaystyle -\\frac{i \\, {\\left(i \\, \\mathit{B1}_{\\mathit{zr}} k_{y} - i \\, \\mathit{B1}_{\\mathit{yr}} k_{z}\\right)} c}{\\omega} = -\\frac{i \\, {\\left(i \\, {\\left(\\mathit{A1}_{z} + \\mathit{A2}_{z}\\right)} k_{y} - i \\, {\\left(\\mathit{A1}_{y} + \\mathit{A2}_{y}\\right)} k_{z}\\right)} c}{\\omega}$"
      ],
      "text/plain": [
       "<IPython.core.display.Math object>"
      ]
     },
     "metadata": {},
     "output_type": "display_data"
    },
    {
     "name": "stdout",
     "output_type": "stream",
     "text": [
      "eqBx_l_ =\n"
     ]
    },
    {
     "data": {
      "text/latex": [
       "$\\displaystyle -\\frac{i \\, {\\left(i \\, {\\left(i \\, \\mathit{B1}_{\\mathit{zl}_{\\mathit{im}}} + \\mathit{B1}_{\\mathit{zl}_{\\mathit{re}}}\\right)} k_{y} e^{\\left(i \\, K_{\\mathit{left}_{\\mathit{conductor}}} a\\right)} - i \\, {\\left(i \\, \\mathit{B1}_{\\mathit{yl}_{\\mathit{im}}} + \\mathit{B1}_{\\mathit{yl}_{\\mathit{re}}}\\right)} k_{z} e^{\\left(i \\, K_{\\mathit{left}_{\\mathit{conductor}}} a\\right)}\\right)} c}{\\omega} = -\\frac{i \\, {\\left(i \\, {\\left({\\left(i \\, \\mathit{A1}_{z_{\\mathit{im}}} + \\mathit{A1}_{z_{\\mathit{re}}}\\right)} e^{\\left(i \\, K_{\\mathit{vacuum}} a\\right)} + {\\left(i \\, \\mathit{A2}_{z_{\\mathit{im}}} + \\mathit{A2}_{z_{\\mathit{re}}}\\right)} e^{\\left(-i \\, K_{\\mathit{vacuum}} a\\right)}\\right)} k_{y} - i \\, {\\left({\\left(i \\, \\mathit{A1}_{y_{\\mathit{im}}} + \\mathit{A1}_{y_{\\mathit{re}}}\\right)} e^{\\left(i \\, K_{\\mathit{vacuum}} a\\right)} + {\\left(i \\, \\mathit{A2}_{y_{\\mathit{im}}} + \\mathit{A2}_{y_{\\mathit{re}}}\\right)} e^{\\left(-i \\, K_{\\mathit{vacuum}} a\\right)}\\right)} k_{z}\\right)} c}{\\omega}$"
      ],
      "text/plain": [
       "<IPython.core.display.Math object>"
      ]
     },
     "metadata": {},
     "output_type": "display_data"
    },
    {
     "name": "stdout",
     "output_type": "stream",
     "text": [
      "eqBx_r_ =\n"
     ]
    },
    {
     "data": {
      "text/latex": [
       "$\\displaystyle -\\frac{i \\, {\\left(i \\, {\\left(i \\, \\mathit{B1}_{\\mathit{zr}_{\\mathit{im}}} + \\mathit{B1}_{\\mathit{zr}_{\\mathit{re}}}\\right)} k_{y} - i \\, {\\left(i \\, \\mathit{B1}_{\\mathit{yr}_{\\mathit{im}}} + \\mathit{B1}_{\\mathit{yr}_{\\mathit{re}}}\\right)} k_{z}\\right)} c}{\\omega} = -\\frac{i \\, {\\left(i \\, {\\left(i \\, \\mathit{A1}_{z_{\\mathit{im}}} + \\mathit{A1}_{z_{\\mathit{re}}} + i \\, \\mathit{A2}_{z_{\\mathit{im}}} + \\mathit{A2}_{z_{\\mathit{re}}}\\right)} k_{y} - i \\, {\\left(i \\, \\mathit{A1}_{y_{\\mathit{im}}} + \\mathit{A1}_{y_{\\mathit{re}}} + i \\, \\mathit{A2}_{y_{\\mathit{im}}} + \\mathit{A2}_{y_{\\mathit{re}}}\\right)} k_{z}\\right)} c}{\\omega}$"
      ],
      "text/plain": [
       "<IPython.core.display.Math object>"
      ]
     },
     "metadata": {},
     "output_type": "display_data"
    },
    {
     "name": "stdout",
     "output_type": "stream",
     "text": [
      "eqDx_l =\n"
     ]
    },
    {
     "data": {
      "text/latex": [
       "$\\displaystyle \\frac{{\\left(\\frac{4 i \\, \\pi c \\sigma_{l}}{\\omega} + \\epsilon_{l}\\right)} \\mathit{B1}_{\\mathit{zl}} k_{z} e^{\\left(i \\, \\sqrt{-k_{z}^{2} + \\kappa_{l}^{2}} a\\right)}}{\\sqrt{-k_{z}^{2} + \\kappa_{l}^{2}}} = -\\frac{{\\left(\\mathit{A2}_{z} k_{z} e^{\\left(-2 i \\, \\sqrt{-k_{z}^{2} + \\kappa_{\\mathit{vacuum}}^{2}} a\\right)} - \\mathit{A1}_{z} k_{z}\\right)} e^{\\left(i \\, \\sqrt{-k_{z}^{2} + \\kappa_{\\mathit{vacuum}}^{2}} a\\right)}}{\\sqrt{-k_{z}^{2} + \\kappa_{\\mathit{vacuum}}^{2}}}$"
      ],
      "text/plain": [
       "<IPython.core.display.Math object>"
      ]
     },
     "metadata": {},
     "output_type": "display_data"
    },
    {
     "name": "stdout",
     "output_type": "stream",
     "text": [
      "eqDx_r =\n"
     ]
    },
    {
     "data": {
      "text/latex": [
       "$\\displaystyle -\\frac{{\\left(\\frac{4 i \\, \\pi c \\sigma_{r}}{\\omega} + \\epsilon_{r}\\right)} \\mathit{B1}_{\\mathit{zr}} k_{z}}{\\sqrt{-k_{z}^{2} + \\kappa_{r}^{2}}} = \\frac{\\mathit{A1}_{z} k_{z} - \\mathit{A2}_{z} k_{z}}{\\sqrt{-k_{z}^{2} + \\kappa_{\\mathit{vacuum}}^{2}}}$"
      ],
      "text/plain": [
       "<IPython.core.display.Math object>"
      ]
     },
     "metadata": {},
     "output_type": "display_data"
    },
    {
     "name": "stdout",
     "output_type": "stream",
     "text": [
      "eqDx_l_ =\n"
     ]
    },
    {
     "data": {
      "text/latex": [
       "$\\displaystyle \\frac{{\\left(\\frac{4 i \\, \\pi c \\sigma_{l}}{\\omega} + \\epsilon_{l}\\right)} {\\left(i \\, \\mathit{B1}_{\\mathit{zl}_{\\mathit{im}}} + \\mathit{B1}_{\\mathit{zl}_{\\mathit{re}}}\\right)} k_{z} e^{\\left(i \\, \\sqrt{-k_{z}^{2} + \\kappa_{l}^{2}} a\\right)}}{\\sqrt{-k_{z}^{2} + \\kappa_{l}^{2}}} = -\\frac{{\\left({\\left(i \\, \\mathit{A2}_{z_{\\mathit{im}}} + \\mathit{A2}_{z_{\\mathit{re}}}\\right)} k_{z} e^{\\left(-2 i \\, \\sqrt{-k_{z}^{2} + \\kappa_{\\mathit{vacuum}}^{2}} a\\right)} - {\\left(i \\, \\mathit{A1}_{z_{\\mathit{im}}} + \\mathit{A1}_{z_{\\mathit{re}}}\\right)} k_{z}\\right)} e^{\\left(i \\, \\sqrt{-k_{z}^{2} + \\kappa_{\\mathit{vacuum}}^{2}} a\\right)}}{\\sqrt{-k_{z}^{2} + \\kappa_{\\mathit{vacuum}}^{2}}}$"
      ],
      "text/plain": [
       "<IPython.core.display.Math object>"
      ]
     },
     "metadata": {},
     "output_type": "display_data"
    },
    {
     "name": "stdout",
     "output_type": "stream",
     "text": [
      "eqDx_r_ =\n"
     ]
    },
    {
     "data": {
      "text/latex": [
       "$\\displaystyle -\\frac{{\\left(\\frac{4 i \\, \\pi c \\sigma_{r}}{\\omega} + \\epsilon_{r}\\right)} {\\left(i \\, \\mathit{B1}_{\\mathit{zr}_{\\mathit{im}}} + \\mathit{B1}_{\\mathit{zr}_{\\mathit{re}}}\\right)} k_{z}}{\\sqrt{-k_{z}^{2} + \\kappa_{r}^{2}}} = \\frac{{\\left(i \\, \\mathit{A1}_{z_{\\mathit{im}}} + \\mathit{A1}_{z_{\\mathit{re}}}\\right)} k_{z} - {\\left(i \\, \\mathit{A2}_{z_{\\mathit{im}}} + \\mathit{A2}_{z_{\\mathit{re}}}\\right)} k_{z}}{\\sqrt{-k_{z}^{2} + \\kappa_{\\mathit{vacuum}}^{2}}}$"
      ],
      "text/plain": [
       "<IPython.core.display.Math object>"
      ]
     },
     "metadata": {},
     "output_type": "display_data"
    }
   ],
   "source": [
    "# тангенциальная компонента напряженности магнитного поля\n",
    "print (\"eqHz_l =\")\n",
    "display(Math(latex(eqHz_l)))\n",
    "print (\"eqHz_r =\")\n",
    "display(Math(latex(eqHz_r)))\n",
    "print (\"eqHy_l =\")\n",
    "display(Math(latex(eqHy_l)))\n",
    "print (\"eqHy_r =\")\n",
    "display(Math(latex(eqHy_r)))\n",
    "\n",
    "eqHz_l_ = eqHz_l \\\n",
    "        .subs(A1_x_re_im_subs).subs(A2_x_re_im_subs) \\\n",
    "        .subs(A1_y_re_im_subs).subs(A2_y_re_im_subs) \\\n",
    "        .subs(A1_z_re_im_subs).subs(A2_z_re_im_subs) \\\n",
    "        .subs(B1_xl_re_im_subs) \\\n",
    "        .subs(B1_yl_re_im_subs) \\\n",
    "        .subs(B1_zl_re_im_subs)\n",
    "\n",
    "eqHz_r_ = eqHz_r \\\n",
    "        .subs(A1_x_re_im_subs).subs(A2_x_re_im_subs) \\\n",
    "        .subs(A1_y_re_im_subs).subs(A2_y_re_im_subs) \\\n",
    "        .subs(A1_z_re_im_subs).subs(A2_z_re_im_subs) \\\n",
    "        .subs(B1_xr_re_im_subs) \\\n",
    "        .subs(B1_yr_re_im_subs) \\\n",
    "        .subs(B1_zr_re_im_subs)\n",
    "\n",
    "eqHy_l_ = eq_Hy_l.subs(kappa_vacuum_sol).subs(kappa_l_sol) \\\n",
    "        .subs(A1_x_re_im_subs).subs(A2_x_re_im_subs) \\\n",
    "        .subs(A1_y_re_im_subs).subs(A2_y_re_im_subs) \\\n",
    "        .subs(A1_z_re_im_subs).subs(A2_z_re_im_subs) \\\n",
    "        .subs(B1_xl_re_im_subs) \\\n",
    "        .subs(B1_yl_re_im_subs) \\\n",
    "        .subs(B1_zl_re_im_subs)\n",
    "\n",
    "eqHy_r_ = eq_Hy_r.subs(kappa_vacuum_sol).subs(kappa_r_sol) \\\n",
    "        .subs(A1_x_re_im_subs).subs(A2_x_re_im_subs) \\\n",
    "        .subs(A1_y_re_im_subs).subs(A2_y_re_im_subs) \\\n",
    "        .subs(A1_z_re_im_subs).subs(A2_z_re_im_subs) \\\n",
    "        .subs(B1_xr_re_im_subs) \\\n",
    "        .subs(B1_yr_re_im_subs) \\\n",
    "        .subs(B1_zr_re_im_subs)\n",
    "\n",
    "print (\"eqHz_l_ =\")\n",
    "display(Math(latex(eqHz_l_)))\n",
    "print (\"eqHz_r_ =\")\n",
    "display(Math(latex(eqHz_r_)))\n",
    "\n",
    "print (\"eqHy_l_ =\")\n",
    "display(Math(latex(eqHy_l_)))\n",
    "print (\"eqHy_r_ =\")\n",
    "display(Math(latex(eqHy_r_)))\n",
    "\n",
    "# граничные условия на границе вакуума внутри резонатора и проводящего металла с потерями\n",
    "# тангенциальная компонента электрического поля\n",
    "\n",
    "print (\"eqEz_l = \")\n",
    "display(Math(latex(eqEz_l)))\n",
    "\n",
    "print (\"eqEz_r = \")\n",
    "display(Math(latex(eqEz_r)))\n",
    "\n",
    "eqEz_l_ = eqEz_l \\\n",
    "        .subs(A1_z_re_im_subs).subs(A2_z_re_im_subs) \\\n",
    "        .subs(B1_zl_re_im_subs)\n",
    "\n",
    "eqEz_r_ = eqEz_r \\\n",
    "        .subs(A1_z_re_im_subs).subs(A2_z_re_im_subs) \\\n",
    "        .subs(B1_zr_re_im_subs)\n",
    "\n",
    "eqEy_l_ = eqEy_l \\\n",
    "        .subs(A1_y_re_im_subs).subs(A2_y_re_im_subs) \\\n",
    "        .subs(B1_yl_re_im_subs)\n",
    "eqEy_r_ = eqEy_r \\\n",
    "        .subs(A1_y_re_im_subs).subs(A2_y_re_im_subs) \\\n",
    "        .subs(B1_yr_re_im_subs)\n",
    "\n",
    "print (\"eqEz_l_ = \")\n",
    "display(Math(latex(eqEz_l_)))\n",
    "print (\"eqEz_r_ = \")\n",
    "display(Math(latex(eqEz_r_)))\n",
    "\n",
    "# нормальная компонента индукции магнитного поля\n",
    "#eqBx_a  = mu * H_bad_conductor_sol_x (0)  == H_inner_vacuum_sol_x (0)\n",
    "\n",
    "print (\"eqBx_l =\")\n",
    "display(Math(latex(eqBx_l)))\n",
    "print (\"eqBx_r =\")\n",
    "display(Math(latex(eqBx_r)))\n",
    "\n",
    "eqBx_l_ = eqBx_l \\\n",
    "        .subs(A1_x_re_im_subs).subs(A2_x_re_im_subs) \\\n",
    "        .subs(A1_y_re_im_subs).subs(A2_y_re_im_subs) \\\n",
    "        .subs(A1_z_re_im_subs).subs(A2_z_re_im_subs) \\\n",
    "        .subs(B1_xl_re_im_subs) \\\n",
    "        .subs(B1_yl_re_im_subs) \\\n",
    "        .subs(B1_zl_re_im_subs)\n",
    "\n",
    "eqBx_r_ = eqBx_r \\\n",
    "        .subs(A1_x_re_im_subs).subs(A2_x_re_im_subs) \\\n",
    "        .subs(A1_y_re_im_subs).subs(A2_y_re_im_subs) \\\n",
    "        .subs(A1_z_re_im_subs).subs(A2_z_re_im_subs) \\\n",
    "        .subs(B1_xr_re_im_subs) \\\n",
    "        .subs(B1_yr_re_im_subs) \\\n",
    "        .subs(B1_zr_re_im_subs)\n",
    "\n",
    "print (\"eqBx_l_ =\")\n",
    "display(Math(latex(eqBx_l_)))\n",
    "\n",
    "print (\"eqBx_r_ =\")\n",
    "display(Math(latex(eqBx_r_)))\n",
    "\n",
    "# нормальная компонента электрического смещения\n",
    "\n",
    "print (\"eqDx_l =\")\n",
    "display(Math(latex(eqDx_l)))\n",
    "print (\"eqDx_r =\")\n",
    "display(Math(latex(eqDx_r)))\n",
    "\n",
    "\n",
    "eqDx_l_ = eqDx_l \\\n",
    "        .subs(A1_x_re_im_subs).subs(A2_x_re_im_subs) \\\n",
    "        .subs(A1_y_re_im_subs).subs(A2_y_re_im_subs) \\\n",
    "        .subs(A1_z_re_im_subs).subs(A2_z_re_im_subs) \\\n",
    "        .subs(B1_xl_re_im_subs) \\\n",
    "        .subs(B1_yl_re_im_subs) \\\n",
    "        .subs(B1_zl_re_im_subs)\n",
    "\n",
    "eqDx_r_ = eqDx_r \\\n",
    "        .subs(A1_x_re_im_subs).subs(A2_x_re_im_subs) \\\n",
    "        .subs(A1_y_re_im_subs).subs(A2_y_re_im_subs) \\\n",
    "        .subs(A1_z_re_im_subs).subs(A2_z_re_im_subs) \\\n",
    "        .subs(B1_xr_re_im_subs) \\\n",
    "        .subs(B1_yr_re_im_subs) \\\n",
    "        .subs(B1_zr_re_im_subs)\n",
    "\n",
    "print (\"eqDx_l_ =\")\n",
    "display(Math(latex(eqDx_l_)))\n",
    "print (\"eqDx_r_ =\")\n",
    "display(Math(latex(eqDx_r_)))"
   ]
  },
  {
   "cell_type": "code",
   "execution_count": 89,
   "metadata": {},
   "outputs": [],
   "source": [
    "# граничные условия на границе идеального проводника и вакуума внутри резонатора\n",
    "# тангенциальная компонента электрического поля"
   ]
  },
  {
   "cell_type": "code",
   "execution_count": 90,
   "metadata": {},
   "outputs": [],
   "source": [
    "eqEz_l_re = eqEz_l_.lhs().real() == 0\n",
    "eqEz_r_re = eqEz_r_.lhs().real() == 0\n",
    "eqEz_l_im = eqEz_l_.lhs().imag() == 0\n",
    "eqEz_r_im = eqEz_r_.lhs().imag() == 0"
   ]
  },
  {
   "cell_type": "code",
   "execution_count": 91,
   "metadata": {},
   "outputs": [],
   "source": [
    "eqEy_l_re = eqEy_l_.lhs().real() == 0\n",
    "eqEy_r_re = eqEy_r_.lhs().real() == 0\n",
    "eqEy_l_im = eqEy_l_.lhs().imag() == 0\n",
    "eqEy_r_im = eqEy_r_.lhs().imag() == 0"
   ]
  },
  {
   "cell_type": "code",
   "execution_count": 92,
   "metadata": {},
   "outputs": [],
   "source": [
    "# тангенциальная компонента напряженности магнитного поля"
   ]
  },
  {
   "cell_type": "code",
   "execution_count": 93,
   "metadata": {},
   "outputs": [],
   "source": [
    "#eqHz_a"
   ]
  },
  {
   "cell_type": "code",
   "execution_count": 94,
   "metadata": {},
   "outputs": [],
   "source": [
    "#eqHy_a"
   ]
  },
  {
   "cell_type": "code",
   "execution_count": 95,
   "metadata": {},
   "outputs": [],
   "source": [
    "eqHz_l_re = eqHz_l_.lhs().real() == eqHz_l_.rhs().real()\n",
    "eqHz_r_re = eqHz_r_.lhs().real() == eqHz_r_.rhs().real()\n",
    "eqHz_l_im = eqHz_l_.lhs().imag() == eqHz_l_.rhs().imag()\n",
    "eqHz_r_im = eqHz_r_.lhs().imag() == eqHz_r_.rhs().imag()"
   ]
  },
  {
   "cell_type": "code",
   "execution_count": 96,
   "metadata": {},
   "outputs": [],
   "source": [
    "eqHy_l_re = eqHy_l_.lhs().real() == eqHy_l_.rhs().real()\n",
    "eqHy_r_re = eqHy_r_.lhs().real() == eqHy_r_.rhs().real()\n",
    "eqHy_l_im = eqHy_l_.lhs().imag() == eqHy_l_.rhs().imag()\n",
    "eqHy_r_im = eqHy_r_.lhs().imag() == eqHy_r_.rhs().imag()"
   ]
  },
  {
   "cell_type": "code",
   "execution_count": 97,
   "metadata": {},
   "outputs": [],
   "source": [
    "# граничные условия на границе вакуума внутри резонатора и проводящего металла с потерями\n",
    "# тангенциальная компонента электрического поля"
   ]
  },
  {
   "cell_type": "code",
   "execution_count": 98,
   "metadata": {},
   "outputs": [],
   "source": [
    "#eqEz_a"
   ]
  },
  {
   "cell_type": "code",
   "execution_count": 99,
   "metadata": {},
   "outputs": [],
   "source": [
    "eqEz_l_re = eqEz_l_.lhs().real() == eqEz_l_.rhs().real()\n",
    "eqEz_r_re = eqEz_r_.lhs().real() == eqEz_r_.rhs().real()\n",
    "eqEz_l_im = eqEz_l_.lhs().imag() == eqEz_l_.rhs().imag()\n",
    "eqEz_r_im = eqEz_r_.lhs().imag() == eqEz_r_.rhs().imag()"
   ]
  },
  {
   "cell_type": "code",
   "execution_count": 100,
   "metadata": {},
   "outputs": [],
   "source": [
    "#eqEy_a"
   ]
  },
  {
   "cell_type": "code",
   "execution_count": 101,
   "metadata": {},
   "outputs": [],
   "source": [
    "eqEy_l_re = eqEy_l_.lhs().real() == eqEy_l_.rhs().real()\n",
    "eqEy_r_re = eqEy_r_.lhs().real() == eqEy_r_.rhs().real()\n",
    "eqEy_l_im = eqEy_l_.lhs().imag() == eqEy_l_.rhs().imag()\n",
    "eqEy_r_im = eqEy_r_.lhs().imag() == eqEy_r_.rhs().imag()"
   ]
  },
  {
   "cell_type": "code",
   "execution_count": 102,
   "metadata": {},
   "outputs": [],
   "source": [
    "# нормальная компонента индукции магнитного поля\n",
    "# на границе вакуума внутри резонатора и проводящего металла с потерями"
   ]
  },
  {
   "cell_type": "code",
   "execution_count": 103,
   "metadata": {},
   "outputs": [],
   "source": [
    "#eqBx_a"
   ]
  },
  {
   "cell_type": "code",
   "execution_count": 104,
   "metadata": {},
   "outputs": [],
   "source": [
    "eqBx_l_re = eqBx_l_.lhs().real() == eqBx_l_.rhs().real()\n",
    "eqBx_r_re = eqBx_r_.lhs().real() == eqBx_r_.rhs().real()\n",
    "eqBx_l_im = eqBx_l_.lhs().imag() == eqBx_l_.rhs().imag()\n",
    "eqBx_r_re = eqBx_r_.lhs().real() == eqBx_r_.rhs().real()"
   ]
  },
  {
   "cell_type": "code",
   "execution_count": 105,
   "metadata": {},
   "outputs": [],
   "source": [
    "# нормальная компонента электрического смещения\n",
    "# на границе вакуума внутри резонатора и проводящего металла с потерями"
   ]
  },
  {
   "cell_type": "code",
   "execution_count": 106,
   "metadata": {},
   "outputs": [],
   "source": [
    "#eqDx_a"
   ]
  },
  {
   "cell_type": "code",
   "execution_count": 107,
   "metadata": {},
   "outputs": [],
   "source": [
    "eqDx_l_re = eqDx_l_.lhs().real() == eqDx_l_.rhs().real()\n",
    "eqDx_r_re = eqDx_r_.lhs().real() == eqDx_r_.rhs().real()\n",
    "eqDx_l_im = eqDx_l_.lhs().imag() == eqDx_l_.rhs().imag()\n",
    "eqDx_r_im = eqDx_r_.lhs().imag() == eqDx_r_.rhs().imag()"
   ]
  },
  {
   "cell_type": "raw",
   "metadata": {},
   "source": [
    "display(Math(latex(k_z_sol)))"
   ]
  },
  {
   "cell_type": "raw",
   "metadata": {},
   "source": [
    "k_z_sol_subs = k_z_sol_subs.subs(K_vacuum_subs).subs(K_conductor_subs).subs(kappa_vacuum_sol).subs(kappa_sol) \\\n",
    "    .subs(A1_z == A1_z_re + I * A1_z_im) \\\n",
    "    .subs(A2_z == A2_z_re + I * A2_z_im)"
   ]
  },
  {
   "cell_type": "raw",
   "metadata": {},
   "source": [
    "display(Math(latex(k_z_sol_subs)))"
   ]
  },
  {
   "cell_type": "raw",
   "metadata": {},
   "source": [
    "K_vacuum_s = K_vacuum_subs.subs(k_z_sol_subs).subs(kappa_vacuum_sol).subs(kappa_sol)\n",
    "K_vacuum_s.rhs().variables()"
   ]
  },
  {
   "cell_type": "raw",
   "metadata": {},
   "source": [
    "K_conductor_s = K_conductor_subs.subs(k_z_sol_subs).subs(kappa_vacuum_sol).subs(kappa_sol)\n",
    "K_conductor_s.rhs().variables()"
   ]
  },
  {
   "cell_type": "code",
   "execution_count": 108,
   "metadata": {},
   "outputs": [],
   "source": [
    "#k_z_sol_subs"
   ]
  },
  {
   "cell_type": "raw",
   "metadata": {},
   "source": [
    "K_vacuum_s = K_vacuum_subs.subs(k_z_sol_subs).subs(kappa_vacuum_sol).subs(kappa_sol) \\\n",
    "    .subs(A1_z == A1_z_re + I * A1_z_im) \\\n",
    "    .subs(A2_z == A2_z_re + I * A2_z_im)\n",
    "\n",
    "K_vacuum_s.rhs().variables()"
   ]
  },
  {
   "cell_type": "raw",
   "metadata": {},
   "source": [
    "K_conductor_s = K_conductor_subs.subs(k_z_sol_subs).subs(kappa_vacuum_sol).subs(kappa_sol) \\\n",
    "    .subs(A1_z == A1_z_re + I * A1_z_im) \\\n",
    "    .subs(A2_z == A2_z_re + I * A2_z_im)\n",
    "\n",
    "K_conductor_s.rhs().variables()"
   ]
  },
  {
   "cell_type": "code",
   "execution_count": null,
   "metadata": {},
   "outputs": [],
   "source": []
  },
  {
   "cell_type": "code",
   "execution_count": 109,
   "metadata": {},
   "outputs": [
    {
     "data": {
      "text/plain": [
       "([a == 1,\n",
       "  mu_l == 1,\n",
       "  mu_r == 1,\n",
       "  c == 29979245800,\n",
       "  sigma_l == (1/144),\n",
       "  sigma_r == (1/4500),\n",
       "  epsilon_l == 1,\n",
       "  epsilon_r == 1],\n",
       " 2.98046134067857e7)"
      ]
     },
     "execution_count": 109,
     "metadata": {},
     "output_type": "execute_result"
    }
   ],
   "source": [
    "# sgs\n",
    "A = 1\n",
    "\n",
    "# на низких частотах ферриты обладают высокой относительной диэлектрической проницаемостью, примерно 10^5\n",
    "#epsilon_l_d = 1000\n",
    "#epsilon_r_d = 100\n",
    "\n",
    "epsilon_l_d = 1\n",
    "epsilon_r_d = 1\n",
    "\n",
    "\n",
    "sigma_l_d = 1000\n",
    "sigma_r_d = 100\n",
    "\n",
    "# https://ru.wikipedia.org/wiki/%D0%AD%D0%BB%D0%B5%D0%BA%D1%82%D1%80%D0%BE%D0%BF%D1%80%D0%BE%D0%B2%D0%BE%D0%B4%D0%BD%D0%BE%D1%81%D1%82%D1%8C\n",
    "# серебро    62 500 000\n",
    "# медь       59 500 000\n",
    "# константан  2 000 000\n",
    "\n",
    "# См/м\n",
    "# 1 См = 1 / Ом\n",
    "\n",
    "sigma_l_d = 62500000 / (9*10^9)\n",
    "sigma_r_d =  2000000 / (9*10^9)\n",
    "\n",
    "lambda_d = 632*100*10^-9\n",
    "# 632 nm\n",
    "\n",
    "lambda_d = 632*100*10^-6\n",
    "# 0.632 mm\n",
    "\n",
    "lambda_d = 632*100*10^-4*1000\n",
    "# 63.2 mm\n",
    "# 6.32 sm\n",
    "\n",
    "c_value  = [ c == 299792458 * 100]\n",
    "omega_value = [ omega  == ((2*pi * c)/ lambda_d).subs (c_value) ]\n",
    "digit_values_init = [a == A, mu_l == 1, mu_r == 1, c == 299792458 * 100, sigma_l == sigma_l_d, sigma_r == sigma_r_d, \n",
    "                     epsilon_l == epsilon_l_d, epsilon_r == epsilon_r_d]\n",
    "digit_values = digit_values_init\n",
    "digit_values, omega_value[0].rhs().n()"
   ]
  },
  {
   "cell_type": "raw",
   "metadata": {},
   "source": [
    "K_vacuum_s_d = K_vacuum_s.subs(digit_values)\n",
    "K_vacuum_s_d.rhs().variables()"
   ]
  },
  {
   "cell_type": "raw",
   "metadata": {},
   "source": [
    "K_conductor_s_d = K_conductor_s.subs(digit_values)\n",
    "K_conductor_s_d.rhs().variables()"
   ]
  },
  {
   "cell_type": "code",
   "execution_count": 110,
   "metadata": {},
   "outputs": [
    {
     "name": "stdout",
     "output_type": "stream",
     "text": [
      "[a == 1, mu_l == 1, mu_r == 1, c == 29979245800, sigma_l == (1/144), sigma_r == (1/4500), epsilon_l == 1, epsilon_r == 1, omega == 749481145/79*pi]\n"
     ]
    }
   ],
   "source": [
    "digit_values = digit_values_init\n",
    "digit_values += omega_value\n",
    "print (digit_values)"
   ]
  },
  {
   "cell_type": "code",
   "execution_count": 111,
   "metadata": {},
   "outputs": [
    {
     "data": {
      "text/plain": [
       "790/9*I + 1"
      ]
     },
     "execution_count": 111,
     "metadata": {},
     "output_type": "execute_result"
    }
   ],
   "source": [
    "epsilon_l_complex.subs(digit_values)"
   ]
  },
  {
   "cell_type": "code",
   "execution_count": 112,
   "metadata": {},
   "outputs": [
    {
     "data": {
      "text/plain": [
       "632/225*I + 1"
      ]
     },
     "execution_count": 112,
     "metadata": {},
     "output_type": "execute_result"
    }
   ],
   "source": [
    "epsilon_r_complex.subs(digit_values)"
   ]
  },
  {
   "cell_type": "code",
   "execution_count": 113,
   "metadata": {},
   "outputs": [
    {
     "data": {
      "text/plain": [
       "9.88383712655159e-7 + 0.0000867581258886195*I"
      ]
     },
     "execution_count": 113,
     "metadata": {},
     "output_type": "execute_result"
    }
   ],
   "source": [
    "eq_kappa_l.rhs().subs(digit_values).n()"
   ]
  },
  {
   "cell_type": "code",
   "execution_count": 114,
   "metadata": {},
   "outputs": [
    {
     "data": {
      "text/plain": [
       "9.88383712655159e-7 + 2.77626002843582e-6*I"
      ]
     },
     "execution_count": 114,
     "metadata": {},
     "output_type": "execute_result"
    }
   ],
   "source": [
    "eq_kappa_r.rhs().subs(digit_values).n()"
   ]
  },
  {
   "cell_type": "code",
   "execution_count": 115,
   "metadata": {},
   "outputs": [
    {
     "data": {
      "text/plain": [
       "[k_y == 0]"
      ]
     },
     "execution_count": 115,
     "metadata": {},
     "output_type": "execute_result"
    }
   ],
   "source": [
    "# отсутсвие изменения поля вдоль оси y\n",
    "k_y0_subs = [k_y == 0]\n",
    "\n",
    "#            A1_y_im == 0, \\\n",
    "#            A1_y_re == 0, \\\n",
    "#            A2_y_im == 0, \\\n",
    "#            A2_y_re == 0]\n",
    "k_y0_subs"
   ]
  },
  {
   "cell_type": "code",
   "execution_count": 116,
   "metadata": {},
   "outputs": [],
   "source": [
    "K_vacuum_subs_2 = K_vacuum_subs.subs(kappa_vacuum_sol)"
   ]
  },
  {
   "cell_type": "code",
   "execution_count": 117,
   "metadata": {},
   "outputs": [],
   "source": [
    "K_left_conductor_subs_2 = K_left_conductor_subs.subs(kappa_l_sol)\n",
    "K_right_conductor_subs_2 = K_right_conductor_subs.subs(kappa_r_sol)"
   ]
  },
  {
   "cell_type": "code",
   "execution_count": 118,
   "metadata": {},
   "outputs": [],
   "source": [
    "K_vacuum_subs_4 = K_vacuum_subs_2.subs(k_z = kz + I * sz)"
   ]
  },
  {
   "cell_type": "code",
   "execution_count": 119,
   "metadata": {},
   "outputs": [],
   "source": [
    "K_left_conductor_subs_4 = K_left_conductor_subs_2.subs(k_z = kz + I * sz)\n",
    "K_right_conductor_subs_4 = K_right_conductor_subs_2.subs(k_z = kz + I * sz)"
   ]
  },
  {
   "cell_type": "code",
   "execution_count": 120,
   "metadata": {},
   "outputs": [],
   "source": [
    "# граничные условия на границе идеального проводника и вакуума внутри резонатора\n",
    "# тангенциальная компонента электрического поля"
   ]
  },
  {
   "cell_type": "code",
   "execution_count": 121,
   "metadata": {},
   "outputs": [],
   "source": [
    "eqEz_l_subs = eqEz_l.subs(K_vacuum_subs_2)\n",
    "eqEz_r_subs = eqEz_r.subs(K_vacuum_subs_2)"
   ]
  },
  {
   "cell_type": "code",
   "execution_count": 122,
   "metadata": {},
   "outputs": [
    {
     "data": {
      "text/plain": [
       "(A1_z, A2_z, B1_zl, K_left_conductor, a, c, k_z, omega)"
      ]
     },
     "execution_count": 122,
     "metadata": {},
     "output_type": "execute_result"
    }
   ],
   "source": [
    "eqEz_l_subs.variables()"
   ]
  },
  {
   "cell_type": "code",
   "execution_count": 123,
   "metadata": {},
   "outputs": [
    {
     "data": {
      "text/plain": [
       "(A1_z, A2_z, B1_zr)"
      ]
     },
     "execution_count": 123,
     "metadata": {},
     "output_type": "execute_result"
    }
   ],
   "source": [
    "eqEz_r_subs.variables()"
   ]
  },
  {
   "cell_type": "code",
   "execution_count": 124,
   "metadata": {},
   "outputs": [],
   "source": [
    "eqEz_l_re_subs = eqEz_l_re.subs(K_vacuum_subs_4).subs(K_left_conductor_subs_4)\n",
    "eqEz_r_re_subs = eqEz_r_re.subs(K_vacuum_subs_4).subs(K_right_conductor_subs_4)\n",
    "eqEz_l_im_subs = eqEz_l_im.subs(K_vacuum_subs_4).subs(K_left_conductor_subs_4)\n",
    "eqEz_r_im_subs = eqEz_r_im.subs(K_vacuum_subs_4).subs(K_right_conductor_subs_4)"
   ]
  },
  {
   "cell_type": "code",
   "execution_count": 125,
   "metadata": {},
   "outputs": [
    {
     "data": {
      "text/plain": [
       "(A1_z_im,\n",
       " A1_z_re,\n",
       " A2_z_im,\n",
       " A2_z_re,\n",
       " B1_zl_im,\n",
       " B1_zl_re,\n",
       " a,\n",
       " c,\n",
       " epsilon_l,\n",
       " kz,\n",
       " mu_l,\n",
       " omega,\n",
       " sigma_l,\n",
       " sz)"
      ]
     },
     "execution_count": 125,
     "metadata": {},
     "output_type": "execute_result"
    }
   ],
   "source": [
    "eqEz_l_re_subs.variables()"
   ]
  },
  {
   "cell_type": "code",
   "execution_count": 126,
   "metadata": {},
   "outputs": [
    {
     "data": {
      "text/plain": [
       "(A1_z_re, A2_z_re, B1_zr_re)"
      ]
     },
     "execution_count": 126,
     "metadata": {},
     "output_type": "execute_result"
    }
   ],
   "source": [
    "eqEz_r_re_subs.variables()"
   ]
  },
  {
   "cell_type": "raw",
   "metadata": {},
   "source": [
    "eqEy_0_re_subs = eqEy_0_re.subs(K_vacuum_subs_2)\n",
    "eqEy_0_im_subs = eqEy_0_im.subs(K_vacuum_subs_2)"
   ]
  },
  {
   "cell_type": "code",
   "execution_count": 127,
   "metadata": {},
   "outputs": [],
   "source": [
    "# тангенциальная компонента напряженности магнитного поля\n",
    "# на границе вакуума внутри резонатора и проводящего металла с потерями"
   ]
  },
  {
   "cell_type": "code",
   "execution_count": 128,
   "metadata": {},
   "outputs": [],
   "source": [
    "eqHy_l_subs = eqHy_l.subs(K_vacuum_subs_2).subs(K_left_conductor_subs_2)\n",
    "eqHy_r_subs = eqHy_r.subs(K_vacuum_subs_2).subs(K_right_conductor_subs_2)"
   ]
  },
  {
   "cell_type": "code",
   "execution_count": 129,
   "metadata": {},
   "outputs": [],
   "source": [
    "eqHy_l_re_subs = eqHy_l_re.subs(K_vacuum_subs_4).subs(K_left_conductor_subs_4)\n",
    "eqHy_r_re_subs = eqHy_r_re.subs(K_vacuum_subs_4).subs(K_right_conductor_subs_4)\n",
    "eqHy_l_im_subs = eqHy_l_im.subs(K_vacuum_subs_4).subs(K_left_conductor_subs_4)\n",
    "eqHy_r_im_subs = eqHy_r_im.subs(K_vacuum_subs_4).subs(K_right_conductor_subs_4)"
   ]
  },
  {
   "cell_type": "raw",
   "metadata": {},
   "source": [
    "eqHz_a_re_subs = eqHz_a_re.subs(K_vacuum_subs_3).subs(K_conductor_subs_3)\n",
    "eqHz_a_im_subs = eqHz_a_im.subs(K_vacuum_subs_3).subs(K_conductor_subs_3)"
   ]
  },
  {
   "cell_type": "code",
   "execution_count": 130,
   "metadata": {},
   "outputs": [],
   "source": [
    "# граничные условия на границе идеального проводника и вакуума внутри резонатора\n",
    "# тангенциальная компонента электрического поля"
   ]
  },
  {
   "cell_type": "raw",
   "metadata": {},
   "source": [
    "eqEz_a_subs = eqEz_a"
   ]
  },
  {
   "cell_type": "raw",
   "metadata": {},
   "source": [
    "eqEz_a_re_subs = eqEz_a_re\n",
    "eqEz_a_im_subs = eqEz_a_im"
   ]
  },
  {
   "cell_type": "raw",
   "metadata": {},
   "source": [
    "eqEy_a_re_subs = eqEy_a_re\n",
    "eqEy_a_im_subs = eqEy_a_im"
   ]
  },
  {
   "cell_type": "code",
   "execution_count": 131,
   "metadata": {},
   "outputs": [],
   "source": [
    "# нормальная компонента индукции магнитного поля\n",
    "# на границе вакуума внутри резонатора и проводящего металла с потерями"
   ]
  },
  {
   "cell_type": "raw",
   "metadata": {},
   "source": [
    "eqBx_a_re_subs = eqBx_a_re.subs(kappa_vacuum_sol)\n",
    "eqBx_a_im_subs = eqBx_a_im.subs(kappa_vacuum_sol)"
   ]
  },
  {
   "cell_type": "code",
   "execution_count": 132,
   "metadata": {},
   "outputs": [],
   "source": [
    "# нормальная компонента электрического смещения\n",
    "# на границе вакуума внутри резонатора и проводящего металла с потерями"
   ]
  },
  {
   "cell_type": "raw",
   "metadata": {},
   "source": [
    "eqDx_a_re_subs = eqDx_a_re.subs(kappa_vacuum_sol)\n",
    "eqDx_a_im_subs = eqDx_a_im.subs(kappa_vacuum_sol)"
   ]
  },
  {
   "cell_type": "raw",
   "metadata": {},
   "source": [
    "print(eqEz_0_re)\n",
    "print(eqEz_0_im)\n",
    "\n",
    "print(eqEy_0_re)\n",
    "print(eqEy_0_im)\n",
    "\n",
    "print(eqHy_a_re)\n",
    "print(eqHy_a_im)\n",
    "\n",
    "print(eqHz_a_re)\n",
    "print(eqHz_a_im)\n",
    "\n",
    "print(eqEz_a_re)\n",
    "print(eqEz_a_im)\n",
    "\n",
    "print(eqEy_a_re)\n",
    "print(eqEy_a_im)\n",
    "\n",
    "print(eqBx_a_re)\n",
    "print(eqBx_a_im)\n",
    "\n",
    "#print(eqDx_a_re)\n",
    "#print(eqDx_a_im)"
   ]
  },
  {
   "cell_type": "code",
   "execution_count": 133,
   "metadata": {},
   "outputs": [],
   "source": [
    "def GenerateMatrix(equsys, vars):\n",
    "    A=matrix(SR, [[(equ.lhs() - equ.rhs()).coefficient(v) for v in vars] for equ in equsys])\n",
    "    return A"
   ]
  },
  {
   "cell_type": "code",
   "execution_count": 134,
   "metadata": {},
   "outputs": [],
   "source": [
    "def GenerateMatrixNumeric(equsys, vars):\n",
    "    A=matrix(SR, [[(equ.lhs() - equ.rhs()).coefficient(v).n() for v in vars] for equ in equsys])\n",
    "    return A"
   ]
  },
  {
   "cell_type": "code",
   "execution_count": 135,
   "metadata": {},
   "outputs": [],
   "source": [
    "def reduceDependedRows(M):\n",
    "    print (\"\")\n",
    "    print (\"M.nrows()\", M.nrows())\n",
    "    print (\"M.ncols()\", M.ncols())\n",
    "    #print (\"M.rank()\", M.rank())\n",
    "\n",
    "    M_pivot_rows = M.pivot_rows()\n",
    "    print (\"M.pivot_rows() =\", M_pivot_rows)\n",
    "\n",
    "    M_rows = M.rows()\n",
    "    for row in M_rows:\n",
    "        print (\"row =\", row)\n",
    "\n",
    "    reduced_list = []\n",
    "    for r in M_pivot_rows:\n",
    "        print (\"M_rows[\", r, \"] =\")\n",
    "        display(Math(latex(M_rows[r])))\n",
    "        reduced_list.append(M_rows[r])\n",
    "\n",
    "    reduced_M = matrix(SR, len(M_pivot_rows), M.ncols(), reduced_list)\n",
    "    #reduced_M_det = reduced_M.det()\n",
    "    \n",
    "    print (\"reduced_M.nrows()\", reduced_M.nrows())\n",
    "    print (\"reduced_M.ncols()\", reduced_M.ncols())\n",
    "    \n",
    "    #print (\"\")\n",
    "    #print(\"reduced_M.det() =\", reduced_M_det)\n",
    "    return reduced_M"
   ]
  },
  {
   "cell_type": "code",
   "execution_count": 136,
   "metadata": {},
   "outputs": [],
   "source": [
    "def reduceRows(M, M_pivot_rows):\n",
    "    print (\"\")\n",
    "    print (\"M.nrows()\", M.nrows())\n",
    "    print (\"M.ncols()\", M.ncols())\n",
    "    #print (\"M.rank()\", M.rank())\n",
    "\n",
    "    print (\"M.pivot_rows() =\", M_pivot_rows)\n",
    "\n",
    "    M_rows = M.rows()\n",
    "    for row in M_rows:\n",
    "        print (\"row =\", row)\n",
    "\n",
    "    reduced_list = []\n",
    "    for r in M_pivot_rows:\n",
    "        print (\"M_rows[\", r, \"] =\")\n",
    "        display(Math(latex(M_rows[r])))\n",
    "        reduced_list.append(M_rows[r])\n",
    "\n",
    "    reduced_M = matrix(SR, len(M_pivot_rows), M.ncols(), reduced_list)\n",
    "    #reduced_M_det = reduced_M.det()\n",
    "    #print (\"\")\n",
    "    #print(\"reduced_M.det() =\", reduced_M_det)\n",
    "    \n",
    "    print (\"reduced_M.nrows()\", reduced_M.nrows())\n",
    "    print (\"reduced_M.ncols()\", reduced_M.ncols())\n",
    "\n",
    "    return reduced_M"
   ]
  },
  {
   "cell_type": "code",
   "execution_count": 137,
   "metadata": {},
   "outputs": [],
   "source": [
    "# sqrt(mu / epsilon_complex) = omega/c * mu / kappa\n",
    "# sqrt(mu / epsilon_complex) = omega/c * mu_rel * mu_0 / kappa\n",
    "\n",
    "# kappa/mu == omega * sqrt(epsilon_complex/mu)\n",
    "# sqrt(mu_0 / epsilon_0) = omega * mu_0 / kappa_vacuum\n",
    "\n",
    "# kappa_vacuum == omega/c\n",
    "# sqrt(mu_0 / epsilon_0) = c * mu_0\n",
    "# c = 1 / sqrt(mu_0 * epsilon_0)\n",
    "\n",
    "# kappa = omega/c * sqrt(epsilon_comlex*mu)\n",
    "# kappa_vacuum = omega/c * sqrt(epsilon_0*mu_0) = omega/c\n",
    "\n",
    "# sqrt(mu_0 / epsilon_0) = 1/(c*epsilon_0) = omega/c * mu_0 / kappa_vacuum\n",
    "# sqrt(mu / epsilon_complex) = 1/(c*epsilon_complex) = omega/c * mu / kappa\n",
    "\n",
    "# 1/mu_0 = c^2*epsolon_0"
   ]
  },
  {
   "cell_type": "code",
   "execution_count": 138,
   "metadata": {},
   "outputs": [],
   "source": [
    "Ex_left_conductor  = (eq_7_l_subs3.rhs())\n",
    "Ex_vacuum          = (eq_5_subs3.rhs())\n",
    "Ex_right_conductor = (eq_7_r_subs3.rhs())"
   ]
  },
  {
   "cell_type": "code",
   "execution_count": 139,
   "metadata": {},
   "outputs": [],
   "source": [
    "Ez_left_conductor  = E_left_conductor_sol_z(x)\n",
    "Ez_vacuum          = E_inner_vacuum_sol_z(x)\n",
    "Ez_right_conductor = E_right_conductor_sol_z(x)"
   ]
  },
  {
   "cell_type": "code",
   "execution_count": 140,
   "metadata": {},
   "outputs": [],
   "source": [
    "Hy_left_conductor  = c * (eq_8_l_subs3.rhs()*kappa_l   / (mu_l*omega))\n",
    "Hy_vacuum          = c * (eq_6_subs3.rhs()*kappa_vacuum/ (mu_0*omega))\n",
    "Hy_right_conductor = c * (eq_8_r_subs3.rhs()*kappa_r   / (mu_r*omega))"
   ]
  },
  {
   "cell_type": "code",
   "execution_count": 141,
   "metadata": {},
   "outputs": [],
   "source": [
    "rot_H_vacuum_x = - diff(Hy_vacuum(x=x)*e^(I*k_z*z), z)\n",
    "rot_H_vacuum_y =   0\n",
    "rot_H_vacuum_z =   diff(Hy_vacuum(x=x)*e^(I*k_z*z), x)"
   ]
  },
  {
   "cell_type": "code",
   "execution_count": 142,
   "metadata": {},
   "outputs": [],
   "source": [
    "eq_rot_H_vacuum_x = rot_H_vacuum_x == (-I*omega/c*Ex_vacuum(x=x)*e^(I*k_z*z))\n",
    "eq_rot_H_vacuum_z = rot_H_vacuum_z == (-I*omega/c*Ez_vacuum(x=x)*e^(I*k_z*z))"
   ]
  },
  {
   "cell_type": "code",
   "execution_count": 143,
   "metadata": {},
   "outputs": [],
   "source": [
    "rot_H_left_conductor_x = - diff(Hy_left_conductor(x=x)*e^(I*k_z*z), z)\n",
    "rot_H_left_conductor_y =   0\n",
    "rot_H_left_conductor_z =   diff(Hy_left_conductor(x=x)*e^(I*k_z*z), x)"
   ]
  },
  {
   "cell_type": "code",
   "execution_count": 144,
   "metadata": {},
   "outputs": [],
   "source": [
    "eq_rot_H_left_conductor_x = rot_H_left_conductor_x == ((-I*epsilon_l_complex*omega/c) * Ex_left_conductor(x=x)*e^(I*k_z*z))\n",
    "eq_rot_H_left_conductor_z = rot_H_left_conductor_z == ((-I*epsilon_l_complex*omega/c) * Ez_left_conductor(x=x)*e^(I*k_z*z))"
   ]
  },
  {
   "cell_type": "code",
   "execution_count": 145,
   "metadata": {},
   "outputs": [],
   "source": [
    "rot_H_right_conductor_x = - diff(Hy_right_conductor(x=x)*e^(I*k_z*z), z)\n",
    "rot_H_right_conductor_y =   0\n",
    "rot_H_right_conductor_z =   diff(Hy_right_conductor(x=x)*e^(I*k_z*z), x)"
   ]
  },
  {
   "cell_type": "code",
   "execution_count": 146,
   "metadata": {},
   "outputs": [],
   "source": [
    "eq_rot_H_right_conductor_x = rot_H_right_conductor_x == ((-I*epsilon_r_complex*omega/c) * Ex_right_conductor(x=x)*e^(I*k_z*z))\n",
    "eq_rot_H_right_conductor_z = rot_H_right_conductor_z == ((-I*epsilon_r_complex*omega/c) * Ez_right_conductor(x=x)*e^(I*k_z*z))"
   ]
  },
  {
   "cell_type": "code",
   "execution_count": null,
   "metadata": {},
   "outputs": [],
   "source": []
  },
  {
   "cell_type": "code",
   "execution_count": 147,
   "metadata": {},
   "outputs": [],
   "source": [
    "sys_rot_H_vacuum = [\n",
    "    (eq_rot_H_vacuum_x.subs(K_vacuum_subs)/e^(I*k_z*z)/k_z*(k_z^2-kappa_vacuum^2)).subs(kappa_vacuum == omega/c).full_simplify().expand(),\n",
    "    (eq_rot_H_vacuum_z.subs(K_vacuum_subs)/e^(I*k_z*z)).subs(kappa_vacuum == omega/c).full_simplify().expand(),\n",
    "]\n",
    "\n",
    "# 2 equations"
   ]
  },
  {
   "cell_type": "code",
   "execution_count": 148,
   "metadata": {},
   "outputs": [
    {
     "data": {
      "text/latex": [
       "$\\displaystyle \\left(\\begin{array}{rr}\n",
       "0 & 0 \\\\\n",
       "0 & 0\n",
       "\\end{array}\\right)$"
      ],
      "text/plain": [
       "<IPython.core.display.Math object>"
      ]
     },
     "metadata": {},
     "output_type": "display_data"
    }
   ],
   "source": [
    "M2_sys_rot_H_vacuum = GenerateMatrix(sys_rot_H_vacuum, [A1_z, A2_z])\n",
    "display(Math(latex(M2_sys_rot_H_vacuum)))"
   ]
  },
  {
   "cell_type": "code",
   "execution_count": 149,
   "metadata": {},
   "outputs": [],
   "source": [
    "sys_rot_H_left_conductor = [\n",
    "    (eq_rot_H_left_conductor_x/B1_zl*(k_z^2-kappa_l^2)/K_left_conductor/k_z).subs(eq_kappa_l),\n",
    "    (eq_rot_H_left_conductor_z/B1_zl).subs(K_left_conductor_subs).subs(eq_kappa_l)\n",
    "]\n",
    "\n",
    "# 2 equations"
   ]
  },
  {
   "cell_type": "code",
   "execution_count": 150,
   "metadata": {},
   "outputs": [],
   "source": [
    "sys_rot_H_right_conductor = [\n",
    "    (eq_rot_H_right_conductor_x/B1_zr*(k_z^2-kappa_r^2)/K_right_conductor/k_z).subs(eq_kappa_r),\n",
    "    (eq_rot_H_right_conductor_z/B1_zr).subs(K_right_conductor_subs).subs(eq_kappa_r)\n",
    "]\n",
    "\n",
    "# 2 equations"
   ]
  },
  {
   "cell_type": "code",
   "execution_count": 151,
   "metadata": {},
   "outputs": [
    {
     "data": {
      "text/latex": [
       "$\\displaystyle \\frac{{\\left(4 \\, \\pi c \\sigma_{r} - i \\, \\epsilon_{r} \\omega\\right)} e^{\\left(i \\, K_{\\mathit{right}_{\\mathit{conductor}}} x + i \\, k_{z} z\\right)}}{c} = \\frac{{\\left(4 \\, \\pi c \\sigma_{r} - i \\, \\epsilon_{r} \\omega\\right)} e^{\\left(i \\, K_{\\mathit{right}_{\\mathit{conductor}}} x + i \\, k_{z} z\\right)}}{c}$"
      ],
      "text/plain": [
       "<IPython.core.display.Math object>"
      ]
     },
     "metadata": {},
     "output_type": "display_data"
    }
   ],
   "source": [
    "display(Math(latex((eq_rot_H_right_conductor_x/B1_zr*(k_z^2-kappa_r^2)/K_right_conductor/k_z).subs(eq_kappa_r).full_simplify())))"
   ]
  },
  {
   "cell_type": "code",
   "execution_count": 152,
   "metadata": {},
   "outputs": [
    {
     "data": {
      "text/plain": [
       "0"
      ]
     },
     "execution_count": 152,
     "metadata": {},
     "output_type": "execute_result"
    }
   ],
   "source": [
    "(sys_rot_H_left_conductor[0].lhs()-sys_rot_H_left_conductor[0].rhs()).full_simplify()"
   ]
  },
  {
   "cell_type": "code",
   "execution_count": 153,
   "metadata": {},
   "outputs": [
    {
     "data": {
      "text/plain": [
       "0"
      ]
     },
     "execution_count": 153,
     "metadata": {},
     "output_type": "execute_result"
    }
   ],
   "source": [
    "(sys_rot_H_left_conductor[1].lhs()-sys_rot_H_left_conductor[1].rhs()).full_simplify()"
   ]
  },
  {
   "cell_type": "code",
   "execution_count": 154,
   "metadata": {},
   "outputs": [
    {
     "data": {
      "text/plain": [
       "0"
      ]
     },
     "execution_count": 154,
     "metadata": {},
     "output_type": "execute_result"
    }
   ],
   "source": [
    "(sys_rot_H_right_conductor[0].lhs()-sys_rot_H_right_conductor[0].rhs()).full_simplify()"
   ]
  },
  {
   "cell_type": "code",
   "execution_count": 155,
   "metadata": {},
   "outputs": [
    {
     "data": {
      "text/plain": [
       "0"
      ]
     },
     "execution_count": 155,
     "metadata": {},
     "output_type": "execute_result"
    }
   ],
   "source": [
    "(sys_rot_H_right_conductor[1].lhs()-sys_rot_H_right_conductor[1].rhs()).full_simplify()"
   ]
  },
  {
   "cell_type": "code",
   "execution_count": null,
   "metadata": {},
   "outputs": [],
   "source": []
  },
  {
   "cell_type": "code",
   "execution_count": 156,
   "metadata": {},
   "outputs": [],
   "source": [
    "sys8_subs = [eqEz_l_re_subs.subs(k_z = kz + I * sz).subs(K_left_conductor_subs_4), \\\n",
    "             eqEz_l_im_subs.subs(k_z = kz + I * sz).subs(K_left_conductor_subs_4), \\\n",
    "             eqHy_l_re_subs.subs(k_z = kz + I * sz), \\\n",
    "             eqHy_l_im_subs.subs(k_z = kz + I * sz), \\\n",
    "             eqHy_r_re_subs.subs(k_z = kz + I * sz), \\\n",
    "             eqHy_r_im_subs.subs(k_z = kz + I * sz), \\\n",
    "             eqEz_r_re_subs.subs(k_z = kz + I * sz), \\\n",
    "             eqEz_r_im_subs.subs(k_z = kz + I * sz), \\\n",
    "            ]\n",
    "\n",
    "# 6 equations"
   ]
  },
  {
   "cell_type": "code",
   "execution_count": 157,
   "metadata": {},
   "outputs": [],
   "source": [
    "sys8 = [eqEz_l_re, eqEz_l_im, \\\n",
    "        eqHy_l_re, eqHy_l_im, \\\n",
    "        eqHy_r_re, eqHy_r_im, \\\n",
    "        eqEz_r_re, eqEz_r_im, \\\n",
    "        ]\n",
    "\n",
    "# 6 equations"
   ]
  },
  {
   "cell_type": "code",
   "execution_count": 158,
   "metadata": {},
   "outputs": [
    {
     "data": {
      "text/latex": [
       "$\\displaystyle -\\frac{i \\, {\\left(i \\, \\mathit{B1}_{\\mathit{zl}} K_{\\mathit{left}_{\\mathit{conductor}}} e^{\\left(i \\, K_{\\mathit{left}_{\\mathit{conductor}}} a\\right)} + i \\, \\mathit{B1}_{\\mathit{xl}} k_{z} e^{\\left(i \\, K_{\\mathit{left}_{\\mathit{conductor}}} a\\right)}\\right)} c}{\\mu_{l} \\omega} = -\\frac{i \\, {\\left(i \\, \\mathit{A1}_{z} K_{\\mathit{vacuum}} e^{\\left(i \\, K_{\\mathit{vacuum}} a\\right)} - i \\, \\mathit{A2}_{z} K_{\\mathit{vacuum}} e^{\\left(-i \\, K_{\\mathit{vacuum}} a\\right)} + i \\, {\\left(\\mathit{A1}_{x} e^{\\left(i \\, K_{\\mathit{vacuum}} a\\right)} + \\mathit{A2}_{x} e^{\\left(-i \\, K_{\\mathit{vacuum}} a\\right)}\\right)} k_{z}\\right)} c}{\\omega}$"
      ],
      "text/plain": [
       "<IPython.core.display.Math object>"
      ]
     },
     "metadata": {},
     "output_type": "display_data"
    }
   ],
   "source": [
    "display(Math(latex(eqHy_l)))"
   ]
  },
  {
   "cell_type": "code",
   "execution_count": 159,
   "metadata": {},
   "outputs": [
    {
     "data": {
      "text/latex": [
       "$\\displaystyle -\\frac{i \\, {\\left(i \\, \\mathit{B1}_{\\mathit{xl}} k_{z} e^{\\left(i \\, \\sqrt{\\frac{4 i \\, \\pi \\mu_{l} \\omega \\sigma_{l}}{c} - k_{z}^{2} + \\frac{\\epsilon_{l} \\mu_{l} \\omega^{2}}{c^{2}}} a\\right)} + i \\, \\sqrt{-k_{z}^{2} + \\frac{4 i \\, \\pi c \\mu_{l} \\omega \\sigma_{l} + \\epsilon_{l} \\mu_{l} \\omega^{2}}{c^{2}}} \\mathit{B1}_{\\mathit{zl}} e^{\\left(i \\, \\sqrt{\\frac{4 i \\, \\pi \\mu_{l} \\omega \\sigma_{l}}{c} - k_{z}^{2} + \\frac{\\epsilon_{l} \\mu_{l} \\omega^{2}}{c^{2}}} a\\right)}\\right)} c}{\\mu_{l} \\omega} = -\\frac{i \\, {\\left(i \\, \\sqrt{-k_{z}^{2} + \\frac{\\omega^{2}}{c^{2}}} \\mathit{A1}_{z} e^{\\left(i \\, \\sqrt{-k_{z}^{2} + \\frac{\\omega^{2}}{c^{2}}} a\\right)} - i \\, \\sqrt{-k_{z}^{2} + \\frac{\\omega^{2}}{c^{2}}} \\mathit{A2}_{z} e^{\\left(-i \\, \\sqrt{-k_{z}^{2} + \\frac{\\omega^{2}}{c^{2}}} a\\right)} + i \\, {\\left(\\mathit{A1}_{x} e^{\\left(i \\, \\sqrt{-k_{z}^{2} + \\frac{\\omega^{2}}{c^{2}}} a\\right)} + \\mathit{A2}_{x} e^{\\left(-i \\, \\sqrt{-k_{z}^{2} + \\frac{\\omega^{2}}{c^{2}}} a\\right)}\\right)} k_{z}\\right)} c}{\\omega}$"
      ],
      "text/plain": [
       "<IPython.core.display.Math object>"
      ]
     },
     "metadata": {},
     "output_type": "display_data"
    }
   ],
   "source": [
    "display(Math(latex(eqHy_l_subs)))"
   ]
  },
  {
   "cell_type": "code",
   "execution_count": 160,
   "metadata": {},
   "outputs": [
    {
     "data": {
      "text/latex": [
       "$\\displaystyle -\\frac{{\\left(4 i \\, \\pi c \\mu_{l} \\omega \\sigma_{l} + \\epsilon_{l} \\mu_{l} \\omega^{2}\\right)} \\sqrt{-k_{z}^{2} + \\frac{4 i \\, \\pi c \\mu_{l} \\omega \\sigma_{l} + \\epsilon_{l} \\mu_{l} \\omega^{2}}{c^{2}}} \\mathit{B1}_{\\mathit{zl}} e^{\\left(i \\, \\sqrt{\\frac{4 i \\, \\pi \\mu_{l} \\omega \\sigma_{l}}{c} - k_{z}^{2} + \\frac{\\epsilon_{l} \\mu_{l} \\omega^{2}}{c^{2}}} a\\right)}}{{\\left(k_{z}^{2} - \\frac{4 i \\, \\pi c \\mu_{l} \\omega \\sigma_{l} + \\epsilon_{l} \\mu_{l} \\omega^{2}}{c^{2}}\\right)} c^{2} \\mu_{l}} = -\\frac{i \\, {\\left(-i \\, \\sqrt{-k_{z}^{2} + \\frac{\\omega^{2}}{c^{2}}} \\mathit{A1}_{z} e^{\\left(i \\, \\sqrt{-k_{z}^{2} + \\frac{\\omega^{2}}{c^{2}}} a\\right)} + i \\, \\sqrt{-k_{z}^{2} + \\frac{\\omega^{2}}{c^{2}}} \\mathit{A2}_{z} e^{\\left(-i \\, \\sqrt{-k_{z}^{2} + \\frac{\\omega^{2}}{c^{2}}} a\\right)}\\right)} \\omega^{2}}{{\\left(k_{z}^{2} - \\frac{\\omega^{2}}{c^{2}}\\right)} c^{2}}$"
      ],
      "text/plain": [
       "<IPython.core.display.Math object>"
      ]
     },
     "metadata": {},
     "output_type": "display_data"
    }
   ],
   "source": [
    "display(Math(latex(eq_Hy_l.subs(kappa_vacuum_sol).subs(kappa_l_sol))))"
   ]
  },
  {
   "cell_type": "code",
   "execution_count": 161,
   "metadata": {},
   "outputs": [
    {
     "data": {
      "text/latex": [
       "$\\displaystyle \\frac{{\\left(4 i \\, \\pi c \\mu_{r} \\omega \\sigma_{r} + \\epsilon_{r} \\mu_{r} \\omega^{2}\\right)} \\sqrt{-k_{z}^{2} + \\frac{4 i \\, \\pi c \\mu_{r} \\omega \\sigma_{r} + \\epsilon_{r} \\mu_{r} \\omega^{2}}{c^{2}}} \\mathit{B1}_{\\mathit{zr}}}{{\\left(k_{z}^{2} - \\frac{4 i \\, \\pi c \\mu_{r} \\omega \\sigma_{r} + \\epsilon_{r} \\mu_{r} \\omega^{2}}{c^{2}}\\right)} c^{2} \\mu_{r}} = -\\frac{i \\, {\\left(-i \\, \\sqrt{-k_{z}^{2} + \\frac{\\omega^{2}}{c^{2}}} \\mathit{A1}_{z} + i \\, \\sqrt{-k_{z}^{2} + \\frac{\\omega^{2}}{c^{2}}} \\mathit{A2}_{z}\\right)} \\omega^{2}}{{\\left(k_{z}^{2} - \\frac{\\omega^{2}}{c^{2}}\\right)} c^{2}}$"
      ],
      "text/plain": [
       "<IPython.core.display.Math object>"
      ]
     },
     "metadata": {},
     "output_type": "display_data"
    }
   ],
   "source": [
    "display(Math(latex(eq_Hy_r.subs(kappa_vacuum_sol).subs(kappa_r_sol))))"
   ]
  },
  {
   "cell_type": "code",
   "execution_count": 162,
   "metadata": {},
   "outputs": [
    {
     "data": {
      "text/latex": [
       "$\\displaystyle -\\frac{\\sqrt{-k_{z}^{2} + \\kappa_{l}^{2}} {\\left(\\mathit{A1}_{z} e^{\\left(-i \\, K_{\\mathit{left}_{\\mathit{conductor}}} a + i \\, K_{\\mathit{vacuum}} a\\right)} + \\mathit{A2}_{z} e^{\\left(-i \\, K_{\\mathit{left}_{\\mathit{conductor}}} a - i \\, K_{\\mathit{vacuum}} a\\right)}\\right)} \\kappa_{l}^{2} e^{\\left(i \\, \\sqrt{-k_{z}^{2} + \\kappa_{l}^{2}} a\\right)}}{{\\left(k_{z}^{2} - \\kappa_{l}^{2}\\right)} \\mu_{l}} = -\\frac{i \\, {\\left(-i \\, \\sqrt{-k_{z}^{2} + \\kappa_{\\mathit{vacuum}}^{2}} \\mathit{A1}_{z} e^{\\left(i \\, \\sqrt{-k_{z}^{2} + \\kappa_{\\mathit{vacuum}}^{2}} a\\right)} + i \\, \\sqrt{-k_{z}^{2} + \\kappa_{\\mathit{vacuum}}^{2}} \\mathit{A2}_{z} e^{\\left(-i \\, \\sqrt{-k_{z}^{2} + \\kappa_{\\mathit{vacuum}}^{2}} a\\right)}\\right)} \\kappa_{\\mathit{vacuum}}^{2}}{k_{z}^{2} - \\kappa_{\\mathit{vacuum}}^{2}}$"
      ],
      "text/plain": [
       "<IPython.core.display.Math object>"
      ]
     },
     "metadata": {},
     "output_type": "display_data"
    }
   ],
   "source": [
    "display(Math(latex(eq_Hy_ls)))"
   ]
  },
  {
   "cell_type": "code",
   "execution_count": 163,
   "metadata": {},
   "outputs": [
    {
     "data": {
      "text/latex": [
       "$\\displaystyle \\frac{\\sqrt{-k_{z}^{2} + \\kappa_{r}^{2}} {\\left(\\mathit{A1}_{z} + \\mathit{A2}_{z}\\right)} \\kappa_{r}^{2}}{{\\left(k_{z}^{2} - \\kappa_{r}^{2}\\right)} \\mu_{r}} = -\\frac{i \\, {\\left(-i \\, \\sqrt{-k_{z}^{2} + \\kappa_{\\mathit{vacuum}}^{2}} \\mathit{A1}_{z} + i \\, \\sqrt{-k_{z}^{2} + \\kappa_{\\mathit{vacuum}}^{2}} \\mathit{A2}_{z}\\right)} \\kappa_{\\mathit{vacuum}}^{2}}{k_{z}^{2} - \\kappa_{\\mathit{vacuum}}^{2}}$"
      ],
      "text/plain": [
       "<IPython.core.display.Math object>"
      ]
     },
     "metadata": {},
     "output_type": "display_data"
    }
   ],
   "source": [
    "display(Math(latex(eq_Hy_rs)))"
   ]
  },
  {
   "cell_type": "code",
   "execution_count": 164,
   "metadata": {},
   "outputs": [],
   "source": [
    "sys4_subs = [eqEz_l_subs.subs(K_left_conductor_subs_2), \\\n",
    "             eqHy_l_subs, \\\n",
    "             eqHy_r_subs, \\\n",
    "             eqEz_r_subs, \\\n",
    "            ]\n",
    "\n",
    "# 3 equations"
   ]
  },
  {
   "cell_type": "code",
   "execution_count": 165,
   "metadata": {},
   "outputs": [],
   "source": [
    "sys4_subs = [eqEz_l_subs.subs(K_left_conductor_subs_2), \\\n",
    "             eqHy_l.subs(kappa_vacuum_sol).subs(kappa_l_sol), \\\n",
    "             eqHy_r.subs(kappa_vacuum_sol).subs(kappa_r_sol), \\\n",
    "             eqEz_r_subs, \\\n",
    "            ]\n",
    "\n",
    "# 3 equations"
   ]
  },
  {
   "cell_type": "code",
   "execution_count": 166,
   "metadata": {},
   "outputs": [],
   "source": [
    "sys4_subs = [eqEz_l_subs.subs(K_left_conductor_subs_2), \\\n",
    "             eq_Hy_ls.subs(K_vacuum_subs_2).subs(K_left_conductor_subs_2).subs(kappa_vacuum_sol).subs(kappa_l_sol), \\\n",
    "             eq_Hy_rs.subs(K_right_conductor_subs_2).subs(kappa_vacuum_sol).subs(kappa_r_sol), \\\n",
    "             eqEz_r_subs, \\\n",
    "            ]\n",
    "\n",
    "# 3 equations"
   ]
  },
  {
   "cell_type": "raw",
   "metadata": {},
   "source": [
    "sys3_subs = [eqEz_0_subs, \\\n",
    "             eq_Hy_0.subs(kappa_vacuum_sol).subs(kappa_sol), \\\n",
    "             eqEz_a_subs, \\\n",
    "            ]\n",
    "\n",
    "# 3 equations"
   ]
  },
  {
   "cell_type": "code",
   "execution_count": 167,
   "metadata": {},
   "outputs": [],
   "source": [
    "sys4 = [eqEz_l, \\\n",
    "        eqHy_l, \\\n",
    "        eqHy_r, \\\n",
    "        eqEz_r, \\\n",
    "       ]\n",
    "\n",
    "# 4 complex equations"
   ]
  },
  {
   "cell_type": "code",
   "execution_count": 168,
   "metadata": {},
   "outputs": [],
   "source": [
    "vars8 = [B1_zl_re, B1_zl_im, \\\n",
    "         A1_z_re, A1_z_im, \\\n",
    "         A2_z_re, A2_z_im, \\\n",
    "         B1_zr_re, B1_zr_im,\n",
    "]\n",
    "# 6 variables"
   ]
  },
  {
   "cell_type": "code",
   "execution_count": 169,
   "metadata": {},
   "outputs": [],
   "source": [
    "vars4 = [B1_zl,\\\n",
    "         A1_z, \\\n",
    "         A2_z, \\\n",
    "         B1_zr, \\\n",
    "]\n",
    "# 4 complex variables"
   ]
  },
  {
   "cell_type": "code",
   "execution_count": 170,
   "metadata": {},
   "outputs": [],
   "source": [
    "M8_subs = GenerateMatrix(sys8_subs, vars8)"
   ]
  },
  {
   "cell_type": "code",
   "execution_count": 171,
   "metadata": {},
   "outputs": [],
   "source": [
    "M8 = GenerateMatrix(sys8, vars8)"
   ]
  },
  {
   "cell_type": "code",
   "execution_count": 172,
   "metadata": {},
   "outputs": [],
   "source": [
    "M4_subs = GenerateMatrix(sys4_subs, vars4)"
   ]
  },
  {
   "cell_type": "code",
   "execution_count": 173,
   "metadata": {},
   "outputs": [],
   "source": [
    "M4 = GenerateMatrix(sys4, vars4)"
   ]
  },
  {
   "cell_type": "code",
   "execution_count": 174,
   "metadata": {},
   "outputs": [
    {
     "data": {
      "text/plain": [
       "(K_left_conductor,\n",
       " K_vacuum,\n",
       " a,\n",
       " c,\n",
       " epsilon_l,\n",
       " epsilon_r,\n",
       " k_z,\n",
       " mu_l,\n",
       " mu_r,\n",
       " omega,\n",
       " sigma_l,\n",
       " sigma_r)"
      ]
     },
     "execution_count": 174,
     "metadata": {},
     "output_type": "execute_result"
    }
   ],
   "source": [
    "M8.variables()"
   ]
  },
  {
   "cell_type": "code",
   "execution_count": 175,
   "metadata": {},
   "outputs": [
    {
     "data": {
      "text/plain": [
       "(K_left_conductor, K_right_conductor, K_vacuum, a, c, mu_l, mu_r, omega)"
      ]
     },
     "execution_count": 175,
     "metadata": {},
     "output_type": "execute_result"
    }
   ],
   "source": [
    "M4.variables()"
   ]
  },
  {
   "cell_type": "code",
   "execution_count": 176,
   "metadata": {},
   "outputs": [
    {
     "data": {
      "text/latex": [
       "$\\displaystyle \\left(\\begin{array}{rrrr}\n",
       "e^{\\left(i \\, K_{\\mathit{left}_{\\mathit{conductor}}} a\\right)} & -e^{\\left(i \\, K_{\\mathit{vacuum}} a\\right)} & -e^{\\left(-i \\, K_{\\mathit{vacuum}} a\\right)} & 0 \\\\\n",
       "\\frac{K_{\\mathit{left}_{\\mathit{conductor}}} c e^{\\left(i \\, K_{\\mathit{left}_{\\mathit{conductor}}} a\\right)}}{\\mu_{l} \\omega} & -\\frac{K_{\\mathit{vacuum}} c e^{\\left(i \\, K_{\\mathit{vacuum}} a\\right)}}{\\omega} & \\frac{K_{\\mathit{vacuum}} c e^{\\left(-i \\, K_{\\mathit{vacuum}} a\\right)}}{\\omega} & 0 \\\\\n",
       "0 & -\\frac{K_{\\mathit{vacuum}} c}{\\omega} & \\frac{K_{\\mathit{vacuum}} c}{\\omega} & -\\frac{K_{\\mathit{right}_{\\mathit{conductor}}} c}{\\mu_{r} \\omega} \\\\\n",
       "0 & -1 & -1 & 1\n",
       "\\end{array}\\right)$"
      ],
      "text/plain": [
       "<IPython.core.display.Math object>"
      ]
     },
     "metadata": {},
     "output_type": "display_data"
    }
   ],
   "source": [
    "display(Math(latex(M4)))"
   ]
  },
  {
   "cell_type": "code",
   "execution_count": 177,
   "metadata": {},
   "outputs": [],
   "source": [
    "#M8"
   ]
  },
  {
   "cell_type": "code",
   "execution_count": 178,
   "metadata": {},
   "outputs": [],
   "source": [
    "#M8_subs"
   ]
  },
  {
   "cell_type": "code",
   "execution_count": 179,
   "metadata": {},
   "outputs": [
    {
     "data": {
      "text/plain": [
       "(a, c, epsilon_l, epsilon_r, kz, mu_l, mu_r, omega, sigma_l, sigma_r, sz)"
      ]
     },
     "execution_count": 179,
     "metadata": {},
     "output_type": "execute_result"
    }
   ],
   "source": [
    "M8_subs.variables()"
   ]
  },
  {
   "cell_type": "code",
   "execution_count": 180,
   "metadata": {},
   "outputs": [
    {
     "data": {
      "text/latex": [
       "$\\displaystyle \\left(\\begin{array}{rrrr}\n",
       "e^{\\left(i \\, \\sqrt{\\frac{4 i \\, \\pi \\mu_{l} \\omega \\sigma_{l}}{c} - k_{z}^{2} + \\frac{\\epsilon_{l} \\mu_{l} \\omega^{2}}{c^{2}}} a\\right)} & -e^{\\left(i \\, \\sqrt{-k_{z}^{2} + \\frac{\\omega^{2}}{c^{2}}} a\\right)} & -e^{\\left(-i \\, \\sqrt{-k_{z}^{2} + \\frac{\\omega^{2}}{c^{2}}} a\\right)} & 0 \\\\\n",
       "0 & \\frac{\\sqrt{-k_{z}^{2} + \\frac{\\omega^{2}}{c^{2}}} \\omega^{2} e^{\\left(i \\, \\sqrt{-k_{z}^{2} + \\frac{\\omega^{2}}{c^{2}}} a\\right)}}{{\\left(k_{z}^{2} - \\frac{\\omega^{2}}{c^{2}}\\right)} c^{2}} - \\frac{{\\left(4 i \\, \\pi c \\mu_{l} \\omega \\sigma_{l} + \\epsilon_{l} \\mu_{l} \\omega^{2}\\right)} \\sqrt{-k_{z}^{2} + \\frac{4 i \\, \\pi c \\mu_{l} \\omega \\sigma_{l} + \\epsilon_{l} \\mu_{l} \\omega^{2}}{c^{2}}} e^{\\left(i \\, \\sqrt{-k_{z}^{2} + \\frac{\\omega^{2}}{c^{2}}} a\\right)}}{{\\left(k_{z}^{2} - \\frac{4 i \\, \\pi c \\mu_{l} \\omega \\sigma_{l} + \\epsilon_{l} \\mu_{l} \\omega^{2}}{c^{2}}\\right)} c^{2} \\mu_{l}} & -\\frac{\\sqrt{-k_{z}^{2} + \\frac{\\omega^{2}}{c^{2}}} \\omega^{2} e^{\\left(-i \\, \\sqrt{-k_{z}^{2} + \\frac{\\omega^{2}}{c^{2}}} a\\right)}}{{\\left(k_{z}^{2} - \\frac{\\omega^{2}}{c^{2}}\\right)} c^{2}} - \\frac{{\\left(4 i \\, \\pi c \\mu_{l} \\omega \\sigma_{l} + \\epsilon_{l} \\mu_{l} \\omega^{2}\\right)} \\sqrt{-k_{z}^{2} + \\frac{4 i \\, \\pi c \\mu_{l} \\omega \\sigma_{l} + \\epsilon_{l} \\mu_{l} \\omega^{2}}{c^{2}}} e^{\\left(-i \\, \\sqrt{-k_{z}^{2} + \\frac{\\omega^{2}}{c^{2}}} a\\right)}}{{\\left(k_{z}^{2} - \\frac{4 i \\, \\pi c \\mu_{l} \\omega \\sigma_{l} + \\epsilon_{l} \\mu_{l} \\omega^{2}}{c^{2}}\\right)} c^{2} \\mu_{l}} & 0 \\\\\n",
       "0 & \\frac{\\sqrt{-k_{z}^{2} + \\frac{\\omega^{2}}{c^{2}}} \\omega^{2}}{{\\left(k_{z}^{2} - \\frac{\\omega^{2}}{c^{2}}\\right)} c^{2}} + \\frac{{\\left(4 i \\, \\pi c \\mu_{r} \\omega \\sigma_{r} + \\epsilon_{r} \\mu_{r} \\omega^{2}\\right)} \\sqrt{-k_{z}^{2} + \\frac{4 i \\, \\pi c \\mu_{r} \\omega \\sigma_{r} + \\epsilon_{r} \\mu_{r} \\omega^{2}}{c^{2}}}}{{\\left(k_{z}^{2} - \\frac{4 i \\, \\pi c \\mu_{r} \\omega \\sigma_{r} + \\epsilon_{r} \\mu_{r} \\omega^{2}}{c^{2}}\\right)} c^{2} \\mu_{r}} & -\\frac{\\sqrt{-k_{z}^{2} + \\frac{\\omega^{2}}{c^{2}}} \\omega^{2}}{{\\left(k_{z}^{2} - \\frac{\\omega^{2}}{c^{2}}\\right)} c^{2}} + \\frac{{\\left(4 i \\, \\pi c \\mu_{r} \\omega \\sigma_{r} + \\epsilon_{r} \\mu_{r} \\omega^{2}\\right)} \\sqrt{-k_{z}^{2} + \\frac{4 i \\, \\pi c \\mu_{r} \\omega \\sigma_{r} + \\epsilon_{r} \\mu_{r} \\omega^{2}}{c^{2}}}}{{\\left(k_{z}^{2} - \\frac{4 i \\, \\pi c \\mu_{r} \\omega \\sigma_{r} + \\epsilon_{r} \\mu_{r} \\omega^{2}}{c^{2}}\\right)} c^{2} \\mu_{r}} & 0 \\\\\n",
       "0 & -1 & -1 & 1\n",
       "\\end{array}\\right)$"
      ],
      "text/plain": [
       "<IPython.core.display.Math object>"
      ]
     },
     "metadata": {},
     "output_type": "display_data"
    }
   ],
   "source": [
    "display(Math(latex(M4_subs)))"
   ]
  },
  {
   "cell_type": "code",
   "execution_count": 181,
   "metadata": {},
   "outputs": [],
   "source": [
    "M4_det = M4.det()"
   ]
  },
  {
   "cell_type": "code",
   "execution_count": 182,
   "metadata": {},
   "outputs": [],
   "source": [
    "M4_subs_det = M4_subs.det()"
   ]
  },
  {
   "cell_type": "raw",
   "metadata": {},
   "source": [
    "M8_subs_det = M8_subs.det()"
   ]
  },
  {
   "cell_type": "code",
   "execution_count": 183,
   "metadata": {},
   "outputs": [
    {
     "data": {
      "text/latex": [
       "$\\displaystyle -\\frac{K_{\\mathit{vacuum}}^{2} c^{2} e^{\\left(i \\, K_{\\mathit{left}_{\\mathit{conductor}}} a + i \\, K_{\\mathit{vacuum}} a\\right)}}{\\omega^{2}} + \\frac{K_{\\mathit{vacuum}}^{2} c^{2} e^{\\left(i \\, K_{\\mathit{left}_{\\mathit{conductor}}} a - i \\, K_{\\mathit{vacuum}} a\\right)}}{\\omega^{2}} + \\frac{K_{\\mathit{left}_{\\mathit{conductor}}} K_{\\mathit{vacuum}} c^{2} e^{\\left(i \\, K_{\\mathit{left}_{\\mathit{conductor}}} a + i \\, K_{\\mathit{vacuum}} a\\right)}}{\\mu_{l} \\omega^{2}} + \\frac{K_{\\mathit{right}_{\\mathit{conductor}}} K_{\\mathit{vacuum}} c^{2} e^{\\left(i \\, K_{\\mathit{left}_{\\mathit{conductor}}} a + i \\, K_{\\mathit{vacuum}} a\\right)}}{\\mu_{r} \\omega^{2}} + \\frac{K_{\\mathit{left}_{\\mathit{conductor}}} K_{\\mathit{vacuum}} c^{2} e^{\\left(i \\, K_{\\mathit{left}_{\\mathit{conductor}}} a - i \\, K_{\\mathit{vacuum}} a\\right)}}{\\mu_{l} \\omega^{2}} + \\frac{K_{\\mathit{right}_{\\mathit{conductor}}} K_{\\mathit{vacuum}} c^{2} e^{\\left(i \\, K_{\\mathit{left}_{\\mathit{conductor}}} a - i \\, K_{\\mathit{vacuum}} a\\right)}}{\\mu_{r} \\omega^{2}} - \\frac{K_{\\mathit{left}_{\\mathit{conductor}}} K_{\\mathit{right}_{\\mathit{conductor}}} c^{2} e^{\\left(i \\, K_{\\mathit{left}_{\\mathit{conductor}}} a + i \\, K_{\\mathit{vacuum}} a\\right)}}{\\mu_{l} \\mu_{r} \\omega^{2}} + \\frac{K_{\\mathit{left}_{\\mathit{conductor}}} K_{\\mathit{right}_{\\mathit{conductor}}} c^{2} e^{\\left(i \\, K_{\\mathit{left}_{\\mathit{conductor}}} a - i \\, K_{\\mathit{vacuum}} a\\right)}}{\\mu_{l} \\mu_{r} \\omega^{2}}$"
      ],
      "text/plain": [
       "<IPython.core.display.Math object>"
      ]
     },
     "metadata": {},
     "output_type": "display_data"
    }
   ],
   "source": [
    "display(Math(latex(M4_det)))"
   ]
  },
  {
   "cell_type": "code",
   "execution_count": 184,
   "metadata": {},
   "outputs": [
    {
     "data": {
      "text/latex": [
       "$\\displaystyle \\frac{16 \\, \\pi^{2} \\sqrt{\\frac{4 i \\, \\pi \\mu_{l} \\omega \\sigma_{l}}{c} - k_{z}^{2} + \\frac{\\epsilon_{l} \\mu_{l} \\omega^{2}}{c^{2}}} \\sqrt{\\frac{4 i \\, \\pi \\mu_{r} \\omega \\sigma_{r}}{c} - k_{z}^{2} + \\frac{\\epsilon_{r} \\mu_{r} \\omega^{2}}{c^{2}}} \\omega^{2} \\sigma_{l} \\sigma_{r} e^{\\left(i \\, \\sqrt{\\frac{4 i \\, \\pi \\mu_{l} \\omega \\sigma_{l}}{c} - k_{z}^{2} + \\frac{\\epsilon_{l} \\mu_{l} \\omega^{2}}{c^{2}}} a + i \\, \\sqrt{-k_{z}^{2} + \\frac{\\omega^{2}}{c^{2}}} a\\right)}}{{\\left(-\\frac{4 i \\, \\pi \\mu_{l} \\omega \\sigma_{l}}{c} + k_{z}^{2} - \\frac{\\epsilon_{l} \\mu_{l} \\omega^{2}}{c^{2}}\\right)} {\\left(-\\frac{4 i \\, \\pi \\mu_{r} \\omega \\sigma_{r}}{c} + k_{z}^{2} - \\frac{\\epsilon_{r} \\mu_{r} \\omega^{2}}{c^{2}}\\right)} c^{2}} - \\frac{16 \\, \\pi^{2} \\sqrt{\\frac{4 i \\, \\pi \\mu_{l} \\omega \\sigma_{l}}{c} - k_{z}^{2} + \\frac{\\epsilon_{l} \\mu_{l} \\omega^{2}}{c^{2}}} \\sqrt{\\frac{4 i \\, \\pi \\mu_{r} \\omega \\sigma_{r}}{c} - k_{z}^{2} + \\frac{\\epsilon_{r} \\mu_{r} \\omega^{2}}{c^{2}}} \\omega^{2} \\sigma_{l} \\sigma_{r} e^{\\left(i \\, \\sqrt{\\frac{4 i \\, \\pi \\mu_{l} \\omega \\sigma_{l}}{c} - k_{z}^{2} + \\frac{\\epsilon_{l} \\mu_{l} \\omega^{2}}{c^{2}}} a - i \\, \\sqrt{-k_{z}^{2} + \\frac{\\omega^{2}}{c^{2}}} a\\right)}}{{\\left(-\\frac{4 i \\, \\pi \\mu_{l} \\omega \\sigma_{l}}{c} + k_{z}^{2} - \\frac{\\epsilon_{l} \\mu_{l} \\omega^{2}}{c^{2}}\\right)} {\\left(-\\frac{4 i \\, \\pi \\mu_{r} \\omega \\sigma_{r}}{c} + k_{z}^{2} - \\frac{\\epsilon_{r} \\mu_{r} \\omega^{2}}{c^{2}}\\right)} c^{2}} - \\frac{4 i \\, \\pi \\sqrt{\\frac{4 i \\, \\pi \\mu_{l} \\omega \\sigma_{l}}{c} - k_{z}^{2} + \\frac{\\epsilon_{l} \\mu_{l} \\omega^{2}}{c^{2}}} \\sqrt{\\frac{4 i \\, \\pi \\mu_{r} \\omega \\sigma_{r}}{c} - k_{z}^{2} + \\frac{\\epsilon_{r} \\mu_{r} \\omega^{2}}{c^{2}}} \\epsilon_{r} \\omega^{3} \\sigma_{l} e^{\\left(i \\, \\sqrt{\\frac{4 i \\, \\pi \\mu_{l} \\omega \\sigma_{l}}{c} - k_{z}^{2} + \\frac{\\epsilon_{l} \\mu_{l} \\omega^{2}}{c^{2}}} a + i \\, \\sqrt{-k_{z}^{2} + \\frac{\\omega^{2}}{c^{2}}} a\\right)}}{{\\left(-\\frac{4 i \\, \\pi \\mu_{l} \\omega \\sigma_{l}}{c} + k_{z}^{2} - \\frac{\\epsilon_{l} \\mu_{l} \\omega^{2}}{c^{2}}\\right)} {\\left(-\\frac{4 i \\, \\pi \\mu_{r} \\omega \\sigma_{r}}{c} + k_{z}^{2} - \\frac{\\epsilon_{r} \\mu_{r} \\omega^{2}}{c^{2}}\\right)} c^{3}} - \\frac{4 i \\, \\pi \\sqrt{\\frac{4 i \\, \\pi \\mu_{l} \\omega \\sigma_{l}}{c} - k_{z}^{2} + \\frac{\\epsilon_{l} \\mu_{l} \\omega^{2}}{c^{2}}} \\sqrt{\\frac{4 i \\, \\pi \\mu_{r} \\omega \\sigma_{r}}{c} - k_{z}^{2} + \\frac{\\epsilon_{r} \\mu_{r} \\omega^{2}}{c^{2}}} \\epsilon_{l} \\omega^{3} \\sigma_{r} e^{\\left(i \\, \\sqrt{\\frac{4 i \\, \\pi \\mu_{l} \\omega \\sigma_{l}}{c} - k_{z}^{2} + \\frac{\\epsilon_{l} \\mu_{l} \\omega^{2}}{c^{2}}} a + i \\, \\sqrt{-k_{z}^{2} + \\frac{\\omega^{2}}{c^{2}}} a\\right)}}{{\\left(-\\frac{4 i \\, \\pi \\mu_{l} \\omega \\sigma_{l}}{c} + k_{z}^{2} - \\frac{\\epsilon_{l} \\mu_{l} \\omega^{2}}{c^{2}}\\right)} {\\left(-\\frac{4 i \\, \\pi \\mu_{r} \\omega \\sigma_{r}}{c} + k_{z}^{2} - \\frac{\\epsilon_{r} \\mu_{r} \\omega^{2}}{c^{2}}\\right)} c^{3}} + \\frac{4 i \\, \\pi \\sqrt{\\frac{4 i \\, \\pi \\mu_{l} \\omega \\sigma_{l}}{c} - k_{z}^{2} + \\frac{\\epsilon_{l} \\mu_{l} \\omega^{2}}{c^{2}}} \\sqrt{\\frac{4 i \\, \\pi \\mu_{r} \\omega \\sigma_{r}}{c} - k_{z}^{2} + \\frac{\\epsilon_{r} \\mu_{r} \\omega^{2}}{c^{2}}} \\epsilon_{r} \\omega^{3} \\sigma_{l} e^{\\left(i \\, \\sqrt{\\frac{4 i \\, \\pi \\mu_{l} \\omega \\sigma_{l}}{c} - k_{z}^{2} + \\frac{\\epsilon_{l} \\mu_{l} \\omega^{2}}{c^{2}}} a - i \\, \\sqrt{-k_{z}^{2} + \\frac{\\omega^{2}}{c^{2}}} a\\right)}}{{\\left(-\\frac{4 i \\, \\pi \\mu_{l} \\omega \\sigma_{l}}{c} + k_{z}^{2} - \\frac{\\epsilon_{l} \\mu_{l} \\omega^{2}}{c^{2}}\\right)} {\\left(-\\frac{4 i \\, \\pi \\mu_{r} \\omega \\sigma_{r}}{c} + k_{z}^{2} - \\frac{\\epsilon_{r} \\mu_{r} \\omega^{2}}{c^{2}}\\right)} c^{3}} + \\frac{4 i \\, \\pi \\sqrt{\\frac{4 i \\, \\pi \\mu_{l} \\omega \\sigma_{l}}{c} - k_{z}^{2} + \\frac{\\epsilon_{l} \\mu_{l} \\omega^{2}}{c^{2}}} \\sqrt{\\frac{4 i \\, \\pi \\mu_{r} \\omega \\sigma_{r}}{c} - k_{z}^{2} + \\frac{\\epsilon_{r} \\mu_{r} \\omega^{2}}{c^{2}}} \\epsilon_{l} \\omega^{3} \\sigma_{r} e^{\\left(i \\, \\sqrt{\\frac{4 i \\, \\pi \\mu_{l} \\omega \\sigma_{l}}{c} - k_{z}^{2} + \\frac{\\epsilon_{l} \\mu_{l} \\omega^{2}}{c^{2}}} a - i \\, \\sqrt{-k_{z}^{2} + \\frac{\\omega^{2}}{c^{2}}} a\\right)}}{{\\left(-\\frac{4 i \\, \\pi \\mu_{l} \\omega \\sigma_{l}}{c} + k_{z}^{2} - \\frac{\\epsilon_{l} \\mu_{l} \\omega^{2}}{c^{2}}\\right)} {\\left(-\\frac{4 i \\, \\pi \\mu_{r} \\omega \\sigma_{r}}{c} + k_{z}^{2} - \\frac{\\epsilon_{r} \\mu_{r} \\omega^{2}}{c^{2}}\\right)} c^{3}} - \\frac{\\sqrt{\\frac{4 i \\, \\pi \\mu_{l} \\omega \\sigma_{l}}{c} - k_{z}^{2} + \\frac{\\epsilon_{l} \\mu_{l} \\omega^{2}}{c^{2}}} \\sqrt{\\frac{4 i \\, \\pi \\mu_{r} \\omega \\sigma_{r}}{c} - k_{z}^{2} + \\frac{\\epsilon_{r} \\mu_{r} \\omega^{2}}{c^{2}}} \\epsilon_{l} \\epsilon_{r} \\omega^{4} e^{\\left(i \\, \\sqrt{\\frac{4 i \\, \\pi \\mu_{l} \\omega \\sigma_{l}}{c} - k_{z}^{2} + \\frac{\\epsilon_{l} \\mu_{l} \\omega^{2}}{c^{2}}} a + i \\, \\sqrt{-k_{z}^{2} + \\frac{\\omega^{2}}{c^{2}}} a\\right)}}{{\\left(-\\frac{4 i \\, \\pi \\mu_{l} \\omega \\sigma_{l}}{c} + k_{z}^{2} - \\frac{\\epsilon_{l} \\mu_{l} \\omega^{2}}{c^{2}}\\right)} {\\left(-\\frac{4 i \\, \\pi \\mu_{r} \\omega \\sigma_{r}}{c} + k_{z}^{2} - \\frac{\\epsilon_{r} \\mu_{r} \\omega^{2}}{c^{2}}\\right)} c^{4}} + \\frac{4 i \\, \\pi \\sqrt{\\frac{4 i \\, \\pi \\mu_{l} \\omega \\sigma_{l}}{c} - k_{z}^{2} + \\frac{\\epsilon_{l} \\mu_{l} \\omega^{2}}{c^{2}}} \\sqrt{-k_{z}^{2} + \\frac{\\omega^{2}}{c^{2}}} \\omega^{3} \\sigma_{l} e^{\\left(i \\, \\sqrt{\\frac{4 i \\, \\pi \\mu_{l} \\omega \\sigma_{l}}{c} - k_{z}^{2} + \\frac{\\epsilon_{l} \\mu_{l} \\omega^{2}}{c^{2}}} a + i \\, \\sqrt{-k_{z}^{2} + \\frac{\\omega^{2}}{c^{2}}} a\\right)}}{{\\left(-\\frac{4 i \\, \\pi \\mu_{l} \\omega \\sigma_{l}}{c} + k_{z}^{2} - \\frac{\\epsilon_{l} \\mu_{l} \\omega^{2}}{c^{2}}\\right)} {\\left(k_{z}^{2} - \\frac{\\omega^{2}}{c^{2}}\\right)} c^{3}} + \\frac{4 i \\, \\pi \\sqrt{\\frac{4 i \\, \\pi \\mu_{r} \\omega \\sigma_{r}}{c} - k_{z}^{2} + \\frac{\\epsilon_{r} \\mu_{r} \\omega^{2}}{c^{2}}} \\sqrt{-k_{z}^{2} + \\frac{\\omega^{2}}{c^{2}}} \\omega^{3} \\sigma_{r} e^{\\left(i \\, \\sqrt{\\frac{4 i \\, \\pi \\mu_{l} \\omega \\sigma_{l}}{c} - k_{z}^{2} + \\frac{\\epsilon_{l} \\mu_{l} \\omega^{2}}{c^{2}}} a + i \\, \\sqrt{-k_{z}^{2} + \\frac{\\omega^{2}}{c^{2}}} a\\right)}}{{\\left(-\\frac{4 i \\, \\pi \\mu_{r} \\omega \\sigma_{r}}{c} + k_{z}^{2} - \\frac{\\epsilon_{r} \\mu_{r} \\omega^{2}}{c^{2}}\\right)} {\\left(k_{z}^{2} - \\frac{\\omega^{2}}{c^{2}}\\right)} c^{3}} + \\frac{\\sqrt{\\frac{4 i \\, \\pi \\mu_{l} \\omega \\sigma_{l}}{c} - k_{z}^{2} + \\frac{\\epsilon_{l} \\mu_{l} \\omega^{2}}{c^{2}}} \\sqrt{\\frac{4 i \\, \\pi \\mu_{r} \\omega \\sigma_{r}}{c} - k_{z}^{2} + \\frac{\\epsilon_{r} \\mu_{r} \\omega^{2}}{c^{2}}} \\epsilon_{l} \\epsilon_{r} \\omega^{4} e^{\\left(i \\, \\sqrt{\\frac{4 i \\, \\pi \\mu_{l} \\omega \\sigma_{l}}{c} - k_{z}^{2} + \\frac{\\epsilon_{l} \\mu_{l} \\omega^{2}}{c^{2}}} a - i \\, \\sqrt{-k_{z}^{2} + \\frac{\\omega^{2}}{c^{2}}} a\\right)}}{{\\left(-\\frac{4 i \\, \\pi \\mu_{l} \\omega \\sigma_{l}}{c} + k_{z}^{2} - \\frac{\\epsilon_{l} \\mu_{l} \\omega^{2}}{c^{2}}\\right)} {\\left(-\\frac{4 i \\, \\pi \\mu_{r} \\omega \\sigma_{r}}{c} + k_{z}^{2} - \\frac{\\epsilon_{r} \\mu_{r} \\omega^{2}}{c^{2}}\\right)} c^{4}} + \\frac{4 i \\, \\pi \\sqrt{\\frac{4 i \\, \\pi \\mu_{l} \\omega \\sigma_{l}}{c} - k_{z}^{2} + \\frac{\\epsilon_{l} \\mu_{l} \\omega^{2}}{c^{2}}} \\sqrt{-k_{z}^{2} + \\frac{\\omega^{2}}{c^{2}}} \\omega^{3} \\sigma_{l} e^{\\left(i \\, \\sqrt{\\frac{4 i \\, \\pi \\mu_{l} \\omega \\sigma_{l}}{c} - k_{z}^{2} + \\frac{\\epsilon_{l} \\mu_{l} \\omega^{2}}{c^{2}}} a - i \\, \\sqrt{-k_{z}^{2} + \\frac{\\omega^{2}}{c^{2}}} a\\right)}}{{\\left(-\\frac{4 i \\, \\pi \\mu_{l} \\omega \\sigma_{l}}{c} + k_{z}^{2} - \\frac{\\epsilon_{l} \\mu_{l} \\omega^{2}}{c^{2}}\\right)} {\\left(k_{z}^{2} - \\frac{\\omega^{2}}{c^{2}}\\right)} c^{3}} + \\frac{4 i \\, \\pi \\sqrt{\\frac{4 i \\, \\pi \\mu_{r} \\omega \\sigma_{r}}{c} - k_{z}^{2} + \\frac{\\epsilon_{r} \\mu_{r} \\omega^{2}}{c^{2}}} \\sqrt{-k_{z}^{2} + \\frac{\\omega^{2}}{c^{2}}} \\omega^{3} \\sigma_{r} e^{\\left(i \\, \\sqrt{\\frac{4 i \\, \\pi \\mu_{l} \\omega \\sigma_{l}}{c} - k_{z}^{2} + \\frac{\\epsilon_{l} \\mu_{l} \\omega^{2}}{c^{2}}} a - i \\, \\sqrt{-k_{z}^{2} + \\frac{\\omega^{2}}{c^{2}}} a\\right)}}{{\\left(-\\frac{4 i \\, \\pi \\mu_{r} \\omega \\sigma_{r}}{c} + k_{z}^{2} - \\frac{\\epsilon_{r} \\mu_{r} \\omega^{2}}{c^{2}}\\right)} {\\left(k_{z}^{2} - \\frac{\\omega^{2}}{c^{2}}\\right)} c^{3}} + \\frac{\\sqrt{\\frac{4 i \\, \\pi \\mu_{l} \\omega \\sigma_{l}}{c} - k_{z}^{2} + \\frac{\\epsilon_{l} \\mu_{l} \\omega^{2}}{c^{2}}} \\sqrt{-k_{z}^{2} + \\frac{\\omega^{2}}{c^{2}}} \\epsilon_{l} \\omega^{4} e^{\\left(i \\, \\sqrt{\\frac{4 i \\, \\pi \\mu_{l} \\omega \\sigma_{l}}{c} - k_{z}^{2} + \\frac{\\epsilon_{l} \\mu_{l} \\omega^{2}}{c^{2}}} a + i \\, \\sqrt{-k_{z}^{2} + \\frac{\\omega^{2}}{c^{2}}} a\\right)}}{{\\left(-\\frac{4 i \\, \\pi \\mu_{l} \\omega \\sigma_{l}}{c} + k_{z}^{2} - \\frac{\\epsilon_{l} \\mu_{l} \\omega^{2}}{c^{2}}\\right)} {\\left(k_{z}^{2} - \\frac{\\omega^{2}}{c^{2}}\\right)} c^{4}} + \\frac{\\sqrt{\\frac{4 i \\, \\pi \\mu_{r} \\omega \\sigma_{r}}{c} - k_{z}^{2} + \\frac{\\epsilon_{r} \\mu_{r} \\omega^{2}}{c^{2}}} \\sqrt{-k_{z}^{2} + \\frac{\\omega^{2}}{c^{2}}} \\epsilon_{r} \\omega^{4} e^{\\left(i \\, \\sqrt{\\frac{4 i \\, \\pi \\mu_{l} \\omega \\sigma_{l}}{c} - k_{z}^{2} + \\frac{\\epsilon_{l} \\mu_{l} \\omega^{2}}{c^{2}}} a + i \\, \\sqrt{-k_{z}^{2} + \\frac{\\omega^{2}}{c^{2}}} a\\right)}}{{\\left(-\\frac{4 i \\, \\pi \\mu_{r} \\omega \\sigma_{r}}{c} + k_{z}^{2} - \\frac{\\epsilon_{r} \\mu_{r} \\omega^{2}}{c^{2}}\\right)} {\\left(k_{z}^{2} - \\frac{\\omega^{2}}{c^{2}}\\right)} c^{4}} + \\frac{\\sqrt{\\frac{4 i \\, \\pi \\mu_{l} \\omega \\sigma_{l}}{c} - k_{z}^{2} + \\frac{\\epsilon_{l} \\mu_{l} \\omega^{2}}{c^{2}}} \\sqrt{-k_{z}^{2} + \\frac{\\omega^{2}}{c^{2}}} \\epsilon_{l} \\omega^{4} e^{\\left(i \\, \\sqrt{\\frac{4 i \\, \\pi \\mu_{l} \\omega \\sigma_{l}}{c} - k_{z}^{2} + \\frac{\\epsilon_{l} \\mu_{l} \\omega^{2}}{c^{2}}} a - i \\, \\sqrt{-k_{z}^{2} + \\frac{\\omega^{2}}{c^{2}}} a\\right)}}{{\\left(-\\frac{4 i \\, \\pi \\mu_{l} \\omega \\sigma_{l}}{c} + k_{z}^{2} - \\frac{\\epsilon_{l} \\mu_{l} \\omega^{2}}{c^{2}}\\right)} {\\left(k_{z}^{2} - \\frac{\\omega^{2}}{c^{2}}\\right)} c^{4}} + \\frac{\\sqrt{\\frac{4 i \\, \\pi \\mu_{r} \\omega \\sigma_{r}}{c} - k_{z}^{2} + \\frac{\\epsilon_{r} \\mu_{r} \\omega^{2}}{c^{2}}} \\sqrt{-k_{z}^{2} + \\frac{\\omega^{2}}{c^{2}}} \\epsilon_{r} \\omega^{4} e^{\\left(i \\, \\sqrt{\\frac{4 i \\, \\pi \\mu_{l} \\omega \\sigma_{l}}{c} - k_{z}^{2} + \\frac{\\epsilon_{l} \\mu_{l} \\omega^{2}}{c^{2}}} a - i \\, \\sqrt{-k_{z}^{2} + \\frac{\\omega^{2}}{c^{2}}} a\\right)}}{{\\left(-\\frac{4 i \\, \\pi \\mu_{r} \\omega \\sigma_{r}}{c} + k_{z}^{2} - \\frac{\\epsilon_{r} \\mu_{r} \\omega^{2}}{c^{2}}\\right)} {\\left(k_{z}^{2} - \\frac{\\omega^{2}}{c^{2}}\\right)} c^{4}} + \\frac{\\omega^{4} e^{\\left(i \\, \\sqrt{\\frac{4 i \\, \\pi \\mu_{l} \\omega \\sigma_{l}}{c} - k_{z}^{2} + \\frac{\\epsilon_{l} \\mu_{l} \\omega^{2}}{c^{2}}} a + i \\, \\sqrt{-k_{z}^{2} + \\frac{\\omega^{2}}{c^{2}}} a\\right)}}{{\\left(k_{z}^{2} - \\frac{\\omega^{2}}{c^{2}}\\right)} c^{4}} - \\frac{\\omega^{4} e^{\\left(i \\, \\sqrt{\\frac{4 i \\, \\pi \\mu_{l} \\omega \\sigma_{l}}{c} - k_{z}^{2} + \\frac{\\epsilon_{l} \\mu_{l} \\omega^{2}}{c^{2}}} a - i \\, \\sqrt{-k_{z}^{2} + \\frac{\\omega^{2}}{c^{2}}} a\\right)}}{{\\left(k_{z}^{2} - \\frac{\\omega^{2}}{c^{2}}\\right)} c^{4}}$"
      ],
      "text/plain": [
       "<IPython.core.display.Math object>"
      ]
     },
     "metadata": {},
     "output_type": "display_data"
    }
   ],
   "source": [
    "display(Math(latex(M4_subs_det)))"
   ]
  },
  {
   "cell_type": "code",
   "execution_count": 185,
   "metadata": {},
   "outputs": [
    {
     "data": {
      "text/plain": [
       "1/3160*pi"
      ]
     },
     "execution_count": 185,
     "metadata": {},
     "output_type": "execute_result"
    }
   ],
   "source": [
    "#kz_init_a0_d = kz_init_a0[1].subs(digit_values).rhs()\n",
    "kz_init_a0_d = (omega/c).subs(digit_values)\n",
    "kz_init_a0_d"
   ]
  },
  {
   "cell_type": "code",
   "execution_count": null,
   "metadata": {},
   "outputs": [],
   "source": []
  },
  {
   "cell_type": "code",
   "execution_count": 186,
   "metadata": {},
   "outputs": [],
   "source": [
    "def NewtonIt(f_div_df, x, xn, step):\n",
    "    print(\"xn\", xn)\n",
    "    #print(\"df\", df)\n",
    "    #print(\"(f/df)\", (f/df))\n",
    "    #delta = (f/df).subs(x == xn)\n",
    "    delta = f_div_df.subs(x == xn).n()\n",
    "    print(\"delta\", delta)\n",
    "    #print(\"step\", step)\n",
    "    step_delta = step*delta\n",
    "    #print(\"step_delta\", step_delta)\n",
    "\n",
    "    res = xn-step_delta\n",
    "    #print (\"_x-step_delta\", _x-step_delta)\n",
    "    #print (\"res\", res)\n",
    "    return res, delta\n",
    "\n",
    "def find_newton_root(f, f_div_df, x, xn):\n",
    "    #df = f.diff(x)\n",
    "    #print (\"f\", f)\n",
    "    #print (\"df\", df)\n",
    "    #print (\"f/df\", f/df)\n",
    "    step = 1.0\n",
    "\n",
    "    for i in range(20):\n",
    "        #xn=N(NewtonIt(xn, step), digits=32)\n",
    "        xn, delta = NewtonIt(f_div_df, x, xn, step)\n",
    "        #print (\"xn\", xn)\n",
    "        \n",
    "        f_n = f.subs(x == xn)\n",
    "        print (\"f_n\",f_n)\n",
    "        #step *= 0.999\n",
    "        if 0 == delta:\n",
    "            break\n",
    "\n",
    "    return xn"
   ]
  },
  {
   "cell_type": "code",
   "execution_count": null,
   "metadata": {},
   "outputs": [],
   "source": []
  },
  {
   "cell_type": "code",
   "execution_count": 187,
   "metadata": {},
   "outputs": [],
   "source": [
    "M4_subs_det_kz_sz = M4_subs_det.subs(k_z == kz + I * sz)"
   ]
  },
  {
   "cell_type": "code",
   "execution_count": null,
   "metadata": {},
   "outputs": [],
   "source": []
  },
  {
   "cell_type": "code",
   "execution_count": 188,
   "metadata": {},
   "outputs": [],
   "source": [
    "M4_subs_det_re = M4_subs_det_kz_sz.real()"
   ]
  },
  {
   "cell_type": "code",
   "execution_count": 189,
   "metadata": {},
   "outputs": [],
   "source": [
    "M4_subs_det_im = M4_subs_det_kz_sz.imag()"
   ]
  },
  {
   "cell_type": "code",
   "execution_count": null,
   "metadata": {},
   "outputs": [],
   "source": []
  },
  {
   "cell_type": "raw",
   "metadata": {},
   "source": [
    "display(Math(latex(M4_subs_det_kz_sz)))"
   ]
  },
  {
   "cell_type": "raw",
   "metadata": {},
   "source": [
    "display(Math(latex(M3_subs_det_kz_sz.full_simplify())))"
   ]
  },
  {
   "cell_type": "code",
   "execution_count": null,
   "metadata": {},
   "outputs": [],
   "source": []
  },
  {
   "cell_type": "code",
   "execution_count": 190,
   "metadata": {},
   "outputs": [],
   "source": [
    "M4_subs_det_re_diff_kz = M4_subs_det_re.diff(kz)\n",
    "M4_subs_det_im_diff_kz = M4_subs_det_im.diff(kz)\n",
    "M4_subs_det_re_diff_sz = M4_subs_det_re.diff(sz)\n",
    "M4_subs_det_im_diff_sz = M4_subs_det_im.diff(sz)"
   ]
  },
  {
   "cell_type": "raw",
   "metadata": {},
   "source": [
    "M4_subs_det_re_d2_kz = M4_subs_det_re_diff_kz.diff(kz)\n",
    "M4_subs_det_im_d2_kz = M4_subs_det_im_diff_kz.diff(kz)\n",
    "M4_subs_det_re_d2_sz = M4_subs_det_re_diff_sz.diff(sz)\n",
    "M4_subs_det_im_d2_sz = M4_subs_det_im_diff_sz.diff(sz)"
   ]
  },
  {
   "cell_type": "code",
   "execution_count": null,
   "metadata": {},
   "outputs": [],
   "source": []
  },
  {
   "cell_type": "code",
   "execution_count": 191,
   "metadata": {},
   "outputs": [],
   "source": [
    "M4_subs_det_re_div_diff_kz = (M4_subs_det_re / M4_subs_det_re_diff_kz)\n",
    "M4_subs_det_im_div_diff_kz = (M4_subs_det_im / M4_subs_det_im_diff_kz)\n",
    "M4_subs_det_re_div_diff_sz = (M4_subs_det_re / M4_subs_det_re_diff_sz)\n",
    "M4_subs_det_im_div_diff_sz = (M4_subs_det_im / M4_subs_det_im_diff_sz)"
   ]
  },
  {
   "cell_type": "code",
   "execution_count": null,
   "metadata": {},
   "outputs": [],
   "source": []
  },
  {
   "cell_type": "code",
   "execution_count": 192,
   "metadata": {},
   "outputs": [],
   "source": [
    "M4_subs_det_re_d = M4_subs_det_re.subs(digit_values)\n",
    "M4_subs_det_im_d = M4_subs_det_im.subs(digit_values)"
   ]
  },
  {
   "cell_type": "code",
   "execution_count": null,
   "metadata": {},
   "outputs": [],
   "source": []
  },
  {
   "cell_type": "code",
   "execution_count": 193,
   "metadata": {},
   "outputs": [
    {
     "data": {
      "text/latex": [
       "$\\displaystyle \\left(\\mathit{kz}, \\mathit{sz}\\right)$"
      ],
      "text/plain": [
       "<IPython.core.display.Math object>"
      ]
     },
     "metadata": {},
     "output_type": "display_data"
    }
   ],
   "source": [
    "display(Math(latex(M4_subs_det_re_d.variables())))"
   ]
  },
  {
   "cell_type": "raw",
   "metadata": {},
   "source": [
    "k_z_02 = 2*sqrt(I*pi*mu*omega*sigma/c)*omega*sqrt(-(4*I*pi*c*mu*omega*sigma - mu^2*omega^2)/(16*pi^2*c^2*mu^2*omega^2*sigma^2 + mu^2*omega^4))\n",
    "kz_init_im = k_z_02.subs(digit_values).imag().n()\n",
    "kz_init_im"
   ]
  },
  {
   "cell_type": "code",
   "execution_count": 194,
   "metadata": {},
   "outputs": [],
   "source": [
    "make_investigation_plots = True"
   ]
  },
  {
   "cell_type": "code",
   "execution_count": 195,
   "metadata": {},
   "outputs": [
    {
     "name": "stdout",
     "output_type": "stream",
     "text": [
      "0 21\n",
      "1 21\n",
      "2 21\n",
      "3 21\n",
      "4 21\n",
      "5 21\n",
      "6 21\n",
      "7 21\n",
      "8 21\n",
      "9 21\n",
      "10 21\n",
      "11 21\n",
      "12 21\n",
      "13 21\n",
      "14 21\n",
      "15 21\n",
      "16 21\n",
      "17 21\n",
      "18 21\n",
      "19 21\n",
      "20 21\n"
     ]
    }
   ],
   "source": [
    "if make_investigation_plots:\n",
    "    import numpy as np\n",
    "    import matplotlib.pyplot as plt\n",
    "    %matplotlib inline\n",
    "\n",
    "    kz_linspace = np.linspace(-5e-3, 5e-3, 21)\n",
    "    sz_linspace = np.linspace(-4e-2, 4e-2, 21)\n",
    "\n",
    "    kz_list = kz_linspace.tolist()\n",
    "    sz_list = sz_linspace.tolist()\n",
    "\n",
    "    kz_grid, sz_grid = np.meshgrid(kz_linspace, sz_linspace)\n",
    "\n",
    "    u = kz_grid * np.nan\n",
    "    v = sz_grid * np.nan\n",
    "\n",
    "    for ikz in np.arange(0, len(kz_linspace), 1):\n",
    "        print(ikz, len(kz_linspace))\n",
    "        for isz in np.arange(0, len(sz_linspace), 1):\n",
    "            kz_i = kz_list[ikz]\n",
    "            sz_i = sz_list[isz]\n",
    "            try:\n",
    "                u[isz][ikz] = M4_subs_det_re_d.subs(kz == kz_i).subs(sz == sz_i).n()\n",
    "                v[isz][ikz] = M4_subs_det_im_d.subs(kz == kz_i).subs(sz == sz_i).n()\n",
    "            except Exception as ex:\n",
    "                print(ex)"
   ]
  },
  {
   "cell_type": "markdown",
   "metadata": {},
   "source": [
    "Искомый волновой вектор можно найти графическим методом как точку пересечения двух нулевых изолиний на контурных графиках зависимости действительной и мнимой компонент детерминанта от действительной и мнимой компонент волнового вектора"
   ]
  },
  {
   "cell_type": "code",
   "execution_count": 196,
   "metadata": {},
   "outputs": [
    {
     "data": {
      "image/png": "[encoded data removed]",
      "text/plain": [
       "<Figure size 432x288 with 2 Axes>"
      ]
     },
     "metadata": {
      "needs_background": "light"
     },
     "output_type": "display_data"
    }
   ],
   "source": [
    "if make_investigation_plots:\n",
    "    fig,ax=plt.subplots(1,1)\n",
    "\n",
    "    cp = ax.contourf(kz_grid,sz_grid, u)\n",
    "    fig.colorbar(cp) # Add a colorbar to a plot\n",
    "    ax.set_title('M4_subs_det_re')\n",
    "    ax.set_xlabel('kz')\n",
    "    ax.set_ylabel('sz')\n",
    "    plt.show()"
   ]
  },
  {
   "cell_type": "code",
   "execution_count": 197,
   "metadata": {},
   "outputs": [
    {
     "data": {
      "image/png": "[encoded data removed]",
      "text/plain": [
       "<Figure size 432x288 with 2 Axes>"
      ]
     },
     "metadata": {
      "needs_background": "light"
     },
     "output_type": "display_data"
    }
   ],
   "source": [
    "if make_investigation_plots:\n",
    "    fig,ax=plt.subplots(1,1)\n",
    "\n",
    "    cp = ax.contourf(kz_grid,sz_grid, v)\n",
    "    fig.colorbar(cp) # Add a colorbar to a plot\n",
    "    ax.set_title('M4_subs_det_im')\n",
    "    ax.set_xlabel('kz')\n",
    "    ax.set_ylabel('sz')\n",
    "    plt.show()"
   ]
  },
  {
   "cell_type": "code",
   "execution_count": 198,
   "metadata": {},
   "outputs": [],
   "source": [
    "if make_investigation_plots:\n",
    "    for ikz in np.arange(0, len(kz_linspace), 1):\n",
    "        for isz in np.arange(0, len(sz_linspace), 1):\n",
    "            if np.isnan(u[isz][ikz]):\n",
    "                u[isz][ikz] = (u[isz + 1][ikz + 1] + u[isz - 1][ikz - 1] + u[isz - 1][ikz + 1] + u[isz + 1][ikz - 1])/4\n",
    "            if np.isnan(v[isz][ikz]):\n",
    "                v[isz][ikz] = (v[isz + 1][ikz + 1] + v[isz - 1][ikz - 1] + v[isz - 1][ikz + 1] + v[isz + 1][ikz - 1])/4"
   ]
  },
  {
   "cell_type": "code",
   "execution_count": 199,
   "metadata": {},
   "outputs": [
    {
     "data": {
      "image/png": "[encoded data removed]",
      "text/plain": [
       "<Figure size 432x288 with 1 Axes>"
      ]
     },
     "metadata": {
      "needs_background": "light"
     },
     "output_type": "display_data"
    }
   ],
   "source": [
    "if make_investigation_plots:\n",
    "    from mpl_toolkits import mplot3d\n",
    "    import numpy as np\n",
    "    import matplotlib.pyplot as plt\n",
    "    fig = plt.figure()\n",
    "\n",
    "    ax = plt.axes(projection='3d')\n",
    "    ax.set_xlabel('kz')\n",
    "    ax.set_ylabel('sz')\n",
    "    ax.plot_surface(kz_grid, sz_grid, u, cmap='viridis', edgecolor='none')\n",
    "    ax.set_title('M4_subs_det_re')\n",
    "    plt.show()"
   ]
  },
  {
   "cell_type": "code",
   "execution_count": 200,
   "metadata": {},
   "outputs": [
    {
     "data": {
      "image/png": "[encoded data removed]",
      "text/plain": [
       "<Figure size 432x288 with 1 Axes>"
      ]
     },
     "metadata": {
      "needs_background": "light"
     },
     "output_type": "display_data"
    }
   ],
   "source": [
    "if make_investigation_plots:\n",
    "    from mpl_toolkits import mplot3d\n",
    "    import numpy as np\n",
    "    import matplotlib.pyplot as plt\n",
    "    fig = plt.figure()\n",
    "\n",
    "    ax = plt.axes(projection='3d')\n",
    "    ax.set_xlabel('kz')\n",
    "    ax.set_ylabel('sz')\n",
    "    ax.plot_surface(kz_grid, sz_grid, v, cmap='viridis', edgecolor='none')\n",
    "    ax.set_title('M4_subs_det_im')\n",
    "    plt.show()"
   ]
  },
  {
   "cell_type": "code",
   "execution_count": null,
   "metadata": {},
   "outputs": [],
   "source": []
  },
  {
   "cell_type": "code",
   "execution_count": 201,
   "metadata": {},
   "outputs": [],
   "source": [
    "M4_subs_det_re_div_diff_kz_d = M4_subs_det_re_div_diff_kz.subs(digit_values)\n",
    "M4_subs_det_im_div_diff_kz_d = M4_subs_det_im_div_diff_kz.subs(digit_values)\n",
    "M4_subs_det_re_div_diff_sz_d = M4_subs_det_re_div_diff_sz.subs(digit_values)\n",
    "M4_subs_det_im_div_diff_sz_d = M4_subs_det_im_div_diff_sz.subs(digit_values)"
   ]
  },
  {
   "cell_type": "markdown",
   "metadata": {},
   "source": [
    "метод ньютона для комплексной функции от комплексного аргумента\n",
    "комплексная функция представляется в виде двух функций: ее действительной и мнимой частей\n",
    "также мы предварительно должны посчитать все четыре варианта первых производных: действительной компоненты функции от обоих компонент аргумента и также и для мнимой части\n",
    "\n",
    "на вход метода find_newton_complex_root() подается:\n",
    "\n",
    "- выражения для действительной и мнимой частей исследуемой комплексной функции\n",
    "\n",
    "- четыре выражения для отношения каждой компоненты комплексной функции к ее производной по каждой компоненте аргумента\n",
    "\n",
    "- символьное представление действительной и мнимой части аргумента\n",
    "\n",
    "- начальные значения действительной и мнимой части аргумента"
   ]
  },
  {
   "cell_type": "code",
   "execution_count": 202,
   "metadata": {},
   "outputs": [],
   "source": [
    "def find_newton_complex_root(f_re, f_im,\n",
    "                             f_re_div_df_re,\n",
    "                             f_im_div_df_re,\n",
    "                             f_re_div_df_im,\n",
    "                             f_im_div_df_im,\n",
    "                             xre, xim,\n",
    "                             xn_re, xn_im, nsteps = 100):\n",
    "    print (\"xre\", xre)\n",
    "    print (\"xim\", xim)\n",
    "    print (\"xn_re\", xn_re)\n",
    "    print (\"xn_im\", xn_im)\n",
    "    \n",
    "    step_init = 0.095\n",
    "    step_init_im_re = 0.000095\n",
    "    step_init_re_im = 0.000095\n",
    "\n",
    "    step_re_im = step_init_re_im\n",
    "    step_im_im = step_init\n",
    "    step_re_re = step_init\n",
    "    step_im_re = step_init_im_re\n",
    "    \n",
    "    step_m = 0.9\n",
    "    \n",
    "    delta_epsilon = 1e-32\n",
    "\n",
    "    f_re_new = f_re.subs(xre == xn_re).subs(xim == xn_im).n()\n",
    "    print(\"\\nf_re_new = \", f_re_new)\n",
    "    \n",
    "    f_im_new = f_im.subs(xre == xn_re).subs(xim == xn_im).n()\n",
    "    print(\"\\nf_im_new = \", f_im_new)\n",
    "\n",
    "    f_abs_2 = f_re_new^2+f_im_new^2\n",
    "    print(\"\\nf_abs_2 = \", f_abs_2)\n",
    "            \n",
    "    for i in range(nsteps):\n",
    "        print(\"\\nre_d_re xn = \", xn_re, xn_im, \"step = \", step_re_re)\n",
    "        xn_re_new, delta_re_re = NewtonIt(f_re_div_df_re.subs(xim == xn_im), xre, xn_re, step_re_re)\n",
    "        f_re_new = f_re.subs(xre == xn_re_new).subs(xim == xn_im).n()\n",
    "        f_im_new = f_im.subs(xre == xn_re_new).subs(xim == xn_im).n()\n",
    "        f_abs_2_new = f_re_new^2+f_im_new^2\n",
    "        print(\"f_abs_2_new\", f_abs_2_new)\n",
    "        if f_abs_2_new > f_abs_2:\n",
    "            step_re_re *= step_m\n",
    "        else:\n",
    "            xn_re = xn_re_new\n",
    "            f_abs_2 = f_abs_2_new\n",
    "            if step_re_re < step_init:\n",
    "                step_re_re /= step_m\n",
    "            print (\"f_new\",f_re_new, f_im_new)\n",
    "\n",
    "        print(\"\\nim_d_re xn = \", xn_re, xn_im, \"step = \", step_im_re)\n",
    "        xn_re_new, delta_im_re = NewtonIt(f_im_div_df_re.subs(xim == xn_im), xre, xn_re, step_im_re)\n",
    "        f_re_new = f_re.subs(xre == xn_re_new).subs(xim == xn_im).n()\n",
    "        f_im_new = f_im.subs(xre == xn_re_new).subs(xim == xn_im).n()\n",
    "        f_abs_2_new = f_re_new^2+f_im_new^2\n",
    "        print(\"f_abs_2_new\", f_abs_2_new)\n",
    "        if f_abs_2_new > f_abs_2:\n",
    "            step_im_re *= step_m\n",
    "        else:\n",
    "            xn_re = xn_re_new\n",
    "            f_abs_2 = f_abs_2_new\n",
    "            if step_im_re < step_init_im_re:\n",
    "                step_im_re /= step_m\n",
    "            print (\"f_new\",f_re_new, f_im_new)\n",
    "\n",
    "        print(\"\\nre_d_im xn = \", xn_re, xn_im, \"step = \", step_re_im)\n",
    "        xn_im_new, delta_re_im = NewtonIt(f_re_div_df_im.subs(xre == xn_re), xim, xn_im, step_re_im)\n",
    "        f_re_new = f_re.subs(xre == xn_re).subs(xim == xn_im_new).n()\n",
    "        f_im_new = f_im.subs(xre == xn_re).subs(xim == xn_im_new).n()\n",
    "        f_abs_2_new = f_re_new^2+f_im_new^2\n",
    "        print(\"f_abs_2_new\", f_abs_2_new)\n",
    "        if f_abs_2_new > f_abs_2:\n",
    "            step_re_im *= step_m\n",
    "        else:\n",
    "            xn_im = xn_im_new\n",
    "            f_abs_2 = f_abs_2_new\n",
    "            if step_re_im < step_init_re_im:\n",
    "                step_re_im /= step_m\n",
    "            print (\"f_new\",f_re_new, f_im_new)\n",
    "\n",
    "        print(\"\\nim_d_im xn = \", xn_re, xn_im, \"step = \", step_im_im)\n",
    "        xn_im_new, delta_im_im = NewtonIt(f_im_div_df_im.subs(xre == xn_re), xim, xn_im, step_im_im)\n",
    "        f_re_new = f_re.subs(xre == xn_re).subs(xim == xn_im_new).n()\n",
    "        f_im_new = f_im.subs(xre == xn_re).subs(xim == xn_im_new).n()\n",
    "        f_abs_2_new = f_re_new^2+f_im_new^2\n",
    "        print(\"f_abs_2_new\", f_abs_2_new)\n",
    "        if f_abs_2_new > f_abs_2:\n",
    "            step_im_im *= step_m\n",
    "        else:\n",
    "            xn_im = xn_im_new\n",
    "            f_abs_2 = f_abs_2_new\n",
    "            if step_im_im < step_init:\n",
    "                step_im_im /= step_m\n",
    "            print (\"f_new\",f_re_new, f_im_new)\n",
    "\n",
    "        if abs(delta_re_re) < delta_epsilon and \\\n",
    "           abs(delta_re_im) < delta_epsilon and \\\n",
    "           abs(delta_im_re) < delta_epsilon and \\\n",
    "           abs(delta_im_im) < delta_epsilon:\n",
    "            break\n",
    "\n",
    "    return xn_re, xn_im, f_re_new, f_im_new"
   ]
  },
  {
   "cell_type": "markdown",
   "metadata": {},
   "source": [
    "инициализируем метод ньютона значениями найденными на глаз графическим методом"
   ]
  },
  {
   "cell_type": "code",
   "execution_count": null,
   "metadata": {
    "scrolled": true
   },
   "outputs": [
    {
     "name": "stdout",
     "output_type": "stream",
     "text": [
      "xre kz\n",
      "xim sz\n",
      "xn_re 0.0000369917483332058\n",
      "xn_im 0.0405200691675249\n",
      "\n",
      "f_re_new =  4.76040128413493e-9\n",
      "\n",
      "f_im_new =  1.19343011394432e-7\n",
      "\n",
      "f_abs_2 =  1.42654157890775e-14\n",
      "\n",
      "re_d_re xn =  0.0000369917483332058 0.0405200691675249 step =  0.0950000000000000\n",
      "xn 0.0000369917483332058\n",
      "delta -0.000853198257125667\n",
      "f_abs_2_new 1.42686706931627e-14\n",
      "\n",
      "im_d_re xn =  0.0000369917483332058 0.0405200691675249 step =  0.0000950000000000000\n",
      "xn 0.0000369917483332058\n",
      "delta 0.300914924912703\n",
      "f_abs_2_new 1.42642142830994e-14\n",
      "f_new 4.91988373518376e-9 1.19331508945172e-7\n",
      "\n",
      "re_d_im xn =  8.40483046649898e-6 0.0405200691675249 step =  0.0000950000000000000\n",
      "xn 0.0405200691675249\n",
      "delta -0.0120545833687106\n",
      "f_abs_2_new 1.42626851810386e-14\n",
      "f_new 4.91941637502610e-9 1.19325121091779e-7\n",
      "\n",
      "im_d_im xn =  8.40483046649898e-6 0.0405212143529449 step =  0.0950000000000000\n",
      "xn 0.0405212143529449\n",
      "delta -0.0213929529123865\n",
      "f_abs_2_new 1.18484679423670e-14\n",
      "f_new 4.17300308190911e-9 1.08770648557620e-7\n",
      "\n",
      "re_d_re xn =  8.40483046649898e-6 0.0425535448796217 step =  0.0855000000000000\n",
      "xn 8.40483046649898e-6\n",
      "delta -0.000863499215122576\n",
      "f_abs_2_new 1.18507195607916e-14\n",
      "\n",
      "im_d_re xn =  8.40483046649898e-6 0.0425535448796217 step =  0.0000950000000000000\n",
      "xn 8.40483046649898e-6\n",
      "delta 0.329639711699844\n",
      "f_abs_2_new 1.18474704950801e-14\n",
      "f_new 4.32432514973474e-9 1.08760152202355e-7\n",
      "\n",
      "re_d_im xn =  -0.0000229109421449862 0.0425535448796217 step =  0.0000950000000000000\n",
      "xn 0.0425535448796217\n",
      "delta -0.0127041495734288\n",
      "f_abs_2_new 1.18461986180120e-14\n",
      "f_new 4.32391436395846e-9 1.08754321213390e-7\n",
      "\n",
      "im_d_im xn =  -0.0000229109421449862 0.0425547517738311 step =  0.0950000000000000\n",
      "xn 0.0425547517738311\n",
      "delta -0.0225108320599748\n",
      "f_abs_2_new 9.84140602489206e-15\n",
      "f_new 3.66822548451140e-9 9.91360184125167e-8\n",
      "\n",
      "re_d_re xn =  -0.0000229109421449862 0.0446932808195287 step =  0.0769500000000000\n",
      "xn -0.0000229109421449862\n",
      "delta -0.000876556524884405\n",
      "f_abs_2_new 9.84297889630062e-15\n",
      "\n",
      "im_d_re xn =  -0.0000229109421449862 0.0446932808195287 step =  0.0000950000000000000\n",
      "xn -0.0000229109421449862\n",
      "delta 0.359506192495385\n",
      "f_abs_2_new 9.84057596121857e-15\n",
      "f_new 3.81113425008124e-9 9.91264405542054e-8\n",
      "\n",
      "re_d_im xn =  -0.0000570640304320478 0.0446932808195287 step =  0.0000950000000000000\n",
      "xn 0.0446932808195287\n",
      "delta -0.0133667114559308\n",
      "f_abs_2_new 9.83951998165213e-15\n",
      "f_new 3.81077221424585e-9 9.91211279031028e-8\n",
      "\n",
      "im_d_im xn =  -0.0000570640304320478 0.0446945506571170 step =  0.0950000000000000\n",
      "xn 0.0446945506571170\n",
      "delta -0.0236930617585942\n",
      "f_abs_2_new 8.17462841529669e-15\n",
      "f_new 3.23213728173195e-9 9.03558614805300e-8\n",
      "\n",
      "re_d_re xn =  -0.0000570640304320478 0.0469453915241835 step =  0.0692550000000000\n",
      "xn -0.0000570640304320478\n",
      "delta -0.000892131432202552\n",
      "f_abs_2_new 8.17573768353086e-15\n",
      "\n",
      "im_d_re xn =  -0.0000570640304320478 0.0469453915241835 step =  0.0000950000000000000\n",
      "xn -0.0000570640304320478\n",
      "delta 0.390398556859714\n",
      "f_abs_2_new 8.17393576111117e-15\n",
      "f_new 3.36648984615736e-9 9.03471222963238e-8\n",
      "\n",
      "re_d_im xn =  -0.0000941518933337207 0.0469453915241835 step =  0.0000950000000000000\n",
      "xn 0.0469453915241835\n",
      "delta -0.0140373647100771\n",
      "f_abs_2_new 8.17306085640525e-15\n",
      "f_new 3.36617004875883e-9 9.03422921759687e-8\n",
      "\n",
      "im_d_im xn =  -0.0000941518933337207 0.0469467250738310 step =  0.0950000000000000\n",
      "xn 0.0469467250738310\n",
      "delta -0.0249436726339736\n",
      "f_abs_2_new 6.79037595432231e-15\n",
      "f_new 2.85329356438124e-9 8.23543239311560e-8\n",
      "\n",
      "re_d_re xn =  -0.0000941518933337207 0.0493163739740584 step =  0.0623295000000000\n",
      "xn -0.0000941518933337207\n",
      "delta -0.000909926649700710\n",
      "f_abs_2_new 6.79116544315125e-15\n",
      "\n",
      "im_d_re xn =  -0.0000941518933337207 0.0493163739740584 step =  0.0000950000000000000\n",
      "xn -0.0000941518933337207\n",
      "delta 0.422220463307947\n",
      "f_abs_2_new 6.78979624461124e-15\n",
      "f_new 2.97905762127474e-9 8.23463506192009e-8\n",
      "\n",
      "re_d_im xn =  -0.000134262837347976 0.0493163739740584 step =  0.0000950000000000000\n",
      "xn 0.0493163739740584\n",
      "delta -0.0147105311567437\n",
      "f_abs_2_new 6.78907304678053e-15\n",
      "f_new 2.97877462750484e-9 8.23419695446925e-8\n",
      "\n",
      "im_d_im xn =  -0.000134262837347976 0.0493177714745183 step =  0.0950000000000000\n",
      "xn 0.0493177714745183\n",
      "delta -0.0262670059893899\n",
      "f_abs_2_new 5.64071025942973e-15\n",
      "f_new 2.52230721348981e-9 7.50622956333638e-8\n",
      "\n",
      "re_d_re xn =  -0.000134262837347976 0.0518131370435104 step =  0.0560965500000000\n",
      "xn -0.000134262837347976\n",
      "delta -0.000929579034564524\n",
      "f_abs_2_new 5.64127697494406e-15\n",
      "\n",
      "im_d_re xn =  -0.000134262837347976 0.0518131370435104 step =  0.0000950000000000000\n",
      "xn -0.000134262837347976\n",
      "delta 0.454903435875189\n",
      "f_abs_2_new 5.64022354423826e-15\n",
      "f_new 2.63955602163779e-9 7.50550217390342e-8\n",
      "\n",
      "re_d_im xn =  -0.000177478663756119 0.0518131370435104 step =  0.0000950000000000000\n",
      "xn 0.0518131370435104\n",
      "delta -0.0153799203710522\n",
      "f_abs_2_new 5.63962727527413e-15\n",
      "f_new 2.63930527838351e-9 7.50510582398518e-8\n",
      "\n",
      "im_d_im xn =  -0.000177478663756119 0.0518145981359456 step =  0.0950000000000000\n",
      "xn 0.0518145981359456\n",
      "delta -0.0276677371810764\n",
      "f_abs_2_new 4.68583918853238e-15\n",
      "f_new 2.23148996836625e-9 6.84168081764523e-8\n",
      "\n",
      "re_d_re xn =  -0.000177478663756119 0.0544430331681479 step =  0.0504868950000000\n",
      "xn -0.000177478663756119\n",
      "delta -0.000950651675188936\n",
      "f_abs_2_new 4.68624917327056e-15\n",
      "\n",
      "im_d_re xn =  -0.000177478663756119 0.0544430331681479 step =  0.0000950000000000000\n",
      "xn -0.000177478663756119\n",
      "delta 0.488412709727881\n",
      "f_abs_2_new 4.68542920654584e-15\n",
      "f_new 2.34039260172827e-9 6.84101729936098e-8\n",
      "\n",
      "re_d_im xn =  -0.000223877871180267 0.0544430331681479 step =  0.0000950000000000000\n",
      "xn 0.0544430331681479\n",
      "delta -0.0160384499696070\n",
      "f_abs_2_new 4.68493896296672e-15\n",
      "f_new 2.34017027711571e-9 6.84065973868079e-8\n",
      "\n",
      "im_d_im xn =  -0.000223877871180267 0.0544445568208950 step =  0.0950000000000000\n",
      "xn 0.0544445568208950\n",
      "delta -0.0291509012162241\n",
      "f_abs_2_new 3.89272922317383e-15\n",
      "f_new 1.97455148665106e-9 6.23604872463357e-8\n",
      "\n",
      "re_d_re xn =  -0.000223877871180267 0.0572138924364363 step =  0.0454382055000000\n",
      "xn -0.000223877871180267\n",
      "delta -0.000972624877470063\n",
      "f_abs_2_new 3.89302787624026e-15\n",
      "\n",
      "im_d_re xn =  -0.000223877871180267 0.0572138924364363 step =  0.0000950000000000000\n",
      "xn -0.000223877871180267\n",
      "delta 0.522750336623943\n",
      "f_abs_2_new 3.89238271760469e-15\n",
      "f_new 2.07535963364457e-9 6.23544352872811e-8\n",
      "\n",
      "re_d_im xn =  -0.000273539153159542 0.0572138924364363 step =  0.0000950000000000000\n",
      "xn 0.0572138924364363\n",
      "delta -0.0166781165757182\n",
      "f_abs_2_new 3.89198087484513e-15\n",
      "f_new 2.07516248549827e-9 6.23512195189790e-8\n",
      "\n",
      "im_d_im xn =  -0.000273539153159542 0.0572154768575110 step =  0.0950000000000000\n",
      "xn 0.0572154768575110\n",
      "delta -0.0307219206964483\n",
      "f_abs_2_new 3.23395518340626e-15\n",
      "f_new 1.74634725498316e-9 5.68410543064718e-8\n",
      "\n",
      "re_d_re xn =  -0.000273539153159542 0.0601340593236736 step =  0.0408943849500000\n",
      "xn -0.000273539153159542\n",
      "delta -0.000994885484195619\n",
      "f_abs_2_new 3.23417402257188e-15\n",
      "\n",
      "im_d_re xn =  -0.000273539153159542 0.0601340593236736 step =  0.0000950000000000000\n",
      "xn -0.000273539153159542\n",
      "delta 0.557955790070446\n",
      "f_abs_2_new 3.23366133850889e-15\n",
      "f_new 1.83937999454316e-9 5.68355348329244e-8\n",
      "\n",
      "re_d_im xn =  -0.000326544953216234 0.0601340593236736 step =  0.0000950000000000000\n",
      "xn 0.0601340593236736\n",
      "delta -0.0172898124515155\n",
      "f_abs_2_new 3.23333305176027e-15\n",
      "f_new 1.83920526298518e-9 5.68326523730934e-8\n",
      "\n",
      "im_d_im xn =  -0.000326544953216234 0.0601357018558565 step =  0.0950000000000000\n",
      "xn 0.0601357018558565\n",
      "delta -0.0323866362324889\n",
      "f_abs_2_new 2.68674638882057e-15\n",
      "f_new 1.54266801544667e-9 5.18108730308097e-8\n",
      "\n",
      "re_d_re xn =  -0.000326544953216234 0.0632124322979429 step =  0.0368049464550000\n",
      "xn -0.000326544953216234\n",
      "delta -0.00101671393650163\n",
      "f_abs_2_new 2.68690751299158e-15\n",
      "\n",
      "im_d_re xn =  -0.000326544953216234 0.0632124322979429 step =  0.0000950000000000000\n",
      "xn -0.000326544953216234\n",
      "delta 0.594104608033830\n",
      "f_abs_2_new 2.68649636821398e-15\n",
      "f_new 1.62829593355720e-9 5.18058396376966e-8\n",
      "\n",
      "re_d_im xn =  -0.000382984890979448 0.0632124322979429 step =  0.0000950000000000000\n",
      "xn 0.0632124322979429\n",
      "delta -0.0178630847770335\n",
      "f_abs_2_new 2.68622915140012e-15\n",
      "f_new 1.62814125367164e-9 5.18032654130820e-8\n",
      "\n",
      "im_d_im xn =  -0.000382984890979448 0.0632141292909967 step =  0.0950000000000000\n",
      "xn 0.0632141292909967\n",
      "delta -0.0341513394523626\n",
      "f_abs_2_new 2.23219551429268e-15\n",
      "f_new 1.36006466371612e-9 4.72265363794890e-8\n",
      "\n",
      "re_d_re xn =  -0.000382984890979448 0.0664585065389712 step =  0.0331244518095000\n"
     ]
    },
    {
     "name": "stdout",
     "output_type": "stream",
     "text": [
      "xn -0.000382984890979448\n",
      "delta -0.00103726848126610\n",
      "f_abs_2_new 2.23231457107015e-15\n",
      "\n",
      "im_d_re xn =  -0.000382984890979448 0.0664585065389712 step =  0.0000950000000000000\n",
      "xn -0.000382984890979448\n",
      "delta 0.631305747881502\n",
      "f_abs_2_new 2.23198208464719e-15\n",
      "f_new 1.43869445222587e-9 4.72219466235809e-8\n",
      "\n",
      "re_d_im xn =  -0.000442958937028191 0.0664585065389712 step =  0.0000950000000000000\n",
      "xn 0.0664585065389712\n",
      "delta -0.0183858352051698\n",
      "f_abs_2_new 2.23176545333419e-15\n",
      "f_new 1.43855778331151e-9 4.72196569750169e-8\n",
      "\n",
      "im_d_im xn =  -0.000442958937028191 0.0664602531933157 step =  0.0950000000000000\n",
      "xn 0.0664602531933157\n",
      "delta -0.0360228087137270\n",
      "f_abs_2_new 1.85460225013549e-15\n",
      "f_new 1.19570348808176e-9 4.30484906042485e-8\n",
      "\n",
      "re_d_re xn =  -0.000442958937028191 0.0698824200211197 step =  0.0298120066285500\n",
      "xn -0.000442958937028191\n",
      "delta -0.00105556592619475\n",
      "f_abs_2_new 1.85469042546106e-15\n",
      "\n",
      "im_d_re xn =  -0.000442958937028191 0.0698824200211197 step =  0.0000950000000000000\n",
      "xn -0.000442958937028191\n",
      "delta 0.669698322268333\n",
      "f_abs_2_new 1.85441947586799e-15\n",
      "f_new 1.26776386379798e-9 4.30443056704791e-8\n",
      "\n",
      "re_d_im xn =  -0.000506580277643682 0.0698824200211197 step =  0.0000950000000000000\n",
      "xn 0.0698824200211197\n",
      "delta -0.0188439566328349\n",
      "f_abs_2_new 1.85424464313184e-15\n",
      "f_new 1.26764343224736e-9 4.30422783233011e-8\n",
      "\n",
      "im_d_im xn =  -0.000506580277643682 0.0698842101969998 step =  0.0950000000000000\n",
      "xn 0.0698842101969998\n",
      "delta -0.0380083476101043\n",
      "f_abs_2_new 1.54092870029787e-15\n",
      "f_new 1.04724728388137e-9 3.92406928254876e-8\n",
      "\n",
      "re_d_re xn =  -0.000506580277643682 0.0734950032199597 step =  0.0268308059656950\n",
      "xn -0.000506580277643682\n",
      "delta -0.00107045833039862\n",
      "f_abs_2_new 1.54099406402461e-15\n",
      "\n",
      "im_d_re xn =  -0.000506580277643682 0.0734950032199597 step =  0.0000950000000000000\n",
      "xn -0.000506580277643682\n",
      "delta 0.709448282122353\n",
      "f_abs_2_new 1.54077169683885e-15\n",
      "f_new 1.11317674891774e-9 3.92368772249336e-8\n",
      "\n",
      "re_d_im xn =  -0.000573977864445306 0.0734950032199597 step =  0.0000950000000000000\n",
      "xn 0.0734950032199597\n",
      "delta -0.0192209023363430\n",
      "f_abs_2_new 1.54063131354955e-15\n",
      "f_new 1.11307100221437e-9 3.92350912639894e-8\n",
      "\n",
      "im_d_im xn =  -0.000573977864445306 0.0734968292056817 step =  0.0950000000000000\n",
      "xn 0.0734968292056817\n",
      "delta -0.0401158263273093\n",
      "f_abs_2_new 1.28034742855632e-15\n",
      "f_new 9.12758398588754e-10 3.57702991413565e-8\n",
      "\n",
      "re_d_re xn =  -0.000573977864445306 0.0773078327067761 step =  0.0241477253691255\n",
      "xn -0.000573977864445306\n",
      "delta -0.00108060498192370\n",
      "f_abs_2_new 1.28039585271508e-15\n",
      "\n",
      "im_d_re xn =  -0.000573977864445306 0.0773078327067761 step =  0.0000950000000000000\n",
      "xn -0.000573977864445306\n",
      "delta 0.750745465517233\n",
      "f_abs_2_new 1.28021216353295e-15\n",
      "f_new 9.72995081402062e-10 3.57668204360483e-8\n",
      "\n",
      "re_d_im xn =  -0.000645298683669443 0.0773078327067761 step =  0.0000950000000000000\n",
      "xn 0.0773078327067761\n",
      "delta -0.0194971800257933\n",
      "f_abs_2_new 1.28010009631056e-15\n",
      "f_new 9.72902651130365e-10 3.57652562795512e-8\n",
      "\n",
      "im_d_im xn =  -0.000645298683669443 0.0773096849388785 step =  0.0950000000000000\n",
      "xn 0.0773096849388785\n",
      "delta -0.0423537258579760\n",
      "f_abs_2_new 1.06386634437517e-15\n",
      "f_new 7.90620208918217e-10 3.26073805151598e-8\n",
      "\n",
      "re_d_re xn =  -0.000645298683669443 0.0813332888953863 step =  0.0217329528322130\n",
      "xn -0.000645298683669443\n",
      "delta -0.00108443894926437\n",
      "f_abs_2_new 1.06390213573804e-15\n",
      "\n",
      "im_d_re xn =  -0.000645298683669443 0.0813332888953863 step =  0.0000950000000000000\n",
      "xn -0.000645298683669443\n",
      "delta 0.793801281117551\n",
      "f_abs_2_new 1.06374947770224e-15\n",
      "f_new 8.45593805171086e-10 3.26042090659917e-8\n",
      "\n",
      "re_d_im xn =  -0.000720709805375610 0.0813332888953863 step =  0.0000950000000000000\n",
      "xn 0.0813332888953863\n",
      "delta -0.0196497602350521\n",
      "f_abs_2_new 1.06366061910292e-15\n",
      "f_new 8.45513477286311e-10 3.26028484348016e-8\n",
      "\n",
      "im_d_im xn =  -0.000720709805375610 0.0813351556226086 step =  0.0950000000000000\n",
      "xn 0.0813351556226086\n",
      "delta -0.0447311850139182\n",
      "f_abs_2_new 8.84017331433925e-16\n",
      "f_new 6.79473941917558e-10 2.97246639442094e-8\n",
      "\n",
      "re_d_re xn =  -0.000720709805375610 0.0855846181989308 step =  0.0195596575489917\n",
      "xn -0.000720709805375610\n",
      "delta -0.00108012739967477\n",
      "f_abs_2_new 8.84043671473132e-16\n",
      "\n",
      "im_d_re xn =  -0.000720709805375610 0.0855846181989308 step =  0.0000950000000000000\n",
      "xn -0.000720709805375610\n",
      "delta 0.838847168322973\n",
      "f_abs_2_new 8.83916086798097e-16\n",
      "f_new 7.29599621843000e-10 2.97217726791304e-8\n",
      "\n",
      "re_d_im xn =  -0.000800400286366293 0.0855846181989308 step =  0.0000950000000000000\n",
      "xn 0.0855846181989308\n",
      "delta -0.0196513849299940\n",
      "f_abs_2_new 8.83846193235480e-16\n",
      "f_new 7.29530312755658e-10 2.97205985598919e-8\n",
      "\n",
      "im_d_im xn =  -0.000800400286366293 0.0855864850804992 step =  0.0950000000000000\n",
      "xn 0.0855864850804992\n",
      "delta -0.0472580500828756\n",
      "f_abs_2_new 7.34597763830496e-16\n",
      "f_new 5.78168143033499e-10 2.70972966442942e-8\n",
      "\n",
      "re_d_re xn =  -0.000800400286366293 0.0900759998383723 step =  0.0176036917940925\n",
      "xn -0.000800400286366293\n",
      "delta -0.00106552475399060\n",
      "f_abs_2_new 7.34617017706075e-16\n",
      "\n",
      "im_d_re xn =  -0.000800400286366293 0.0900759998383723 step =  0.0000950000000000000\n",
      "xn -0.000800400286366293\n",
      "delta 0.886133884574146\n",
      "f_abs_2_new 7.34509825378758e-16\n",
      "f_new 6.23842201257409e-10 2.70946608446515e-8\n",
      "\n",
      "re_d_im xn =  -0.000884583005400837 0.0900759998383723 step =  0.0000950000000000000\n",
      "xn 0.0900759998383723\n",
      "delta -0.0194697583199749\n",
      "f_abs_2_new 7.34455378984974e-16\n",
      "f_new 6.23782938552776e-10 2.70936574465417e-8\n",
      "\n",
      "im_d_im xn =  -0.000884583005400837 0.0900778494654128 step =  0.0950000000000000\n",
      "xn 0.0900778494654128\n",
      "delta -0.0499449268508319\n",
      "f_abs_2_new 6.10455910235633e-16\n",
      "f_new 4.85718467229746e-10 2.47026311919647e-8\n",
      "\n",
      "re_d_re xn =  -0.000884583005400837 0.0948226175162418 step =  0.0158433226146832\n",
      "xn -0.000884583005400837\n",
      "delta -0.00103811759796776\n",
      "f_abs_2_new 6.10469845915231e-16\n",
      "\n",
      "im_d_re xn =  -0.000884583005400837 0.0948226175162418 step =  0.0000950000000000000\n",
      "xn -0.000884583005400837\n",
      "delta 0.935931614286287\n",
      "f_abs_2_new 6.10379339426740e-16\n",
      "f_new 5.27315449606710e-10 2.47002282953690e-8\n",
      "\n",
      "re_d_im xn =  -0.000973496508758034 0.0948226175162418 step =  0.0000950000000000000\n",
      "xn 0.0948226175162418\n",
      "delta -0.0190665975232865\n",
      "f_abs_2_new 6.10337430591822e-16\n",
      "f_new 5.27265356443390e-10 2.46993810010639e-8\n",
      "\n",
      "im_d_im xn =  -0.000973496508758034 0.0948244288430065 step =  0.0950000000000000\n",
      "xn 0.0948244288430065\n",
      "delta -0.0528032345445255\n",
      "f_abs_2_new 5.07312762425324e-16\n",
      "f_new 4.01275819520664e-10 2.25200297544651e-8\n",
      "\n",
      "re_d_re xn =  -0.000973496508758034 0.0998407361247364 step =  0.0142589903532149\n",
      "xn -0.000973496508758034\n",
      "delta -0.000994960096735252\n",
      "f_abs_2_new 5.07322707562867e-16\n",
      "\n",
      "im_d_re xn =  -0.000973496508758034 0.0998407361247364 step =  0.0000950000000000000\n",
      "xn -0.000973496508758034\n",
      "delta 0.988530868597580\n",
      "f_abs_2_new 5.07245930976378e-16\n",
      "f_new 4.39146855446181e-10 2.25178391728809e-8\n",
      "\n",
      "re_d_im xn =  -0.00106740694127480 0.0998407361247364 step =  0.0000950000000000000\n",
      "xn 0.0998407361247364\n",
      "delta -0.0183965158088565\n",
      "f_abs_2_new 5.07214158730527e-16\n",
      "f_new 4.39105137866689e-10 2.25171344848412e-8\n",
      "\n",
      "im_d_im xn =  -0.00106740694127480 0.0998424837937383 step =  0.0950000000000000\n",
      "xn 0.0998424837937383\n",
      "delta -0.0558452610300826\n",
      "f_abs_2_new 4.21614097167472e-16\n",
      "f_new 3.24101192458028e-10 2.05306857066324e-8\n",
      "\n",
      "re_d_re xn =  -0.00106740694127480 0.105147783591596 step =  0.0128330913178934\n",
      "xn -0.00106740694127480\n",
      "delta -0.000932598465210462\n",
      "f_abs_2_new 4.21621052462531e-16\n",
      "\n",
      "im_d_re xn =  -0.00106740694127480 0.105147783591596 step =  0.0000950000000000000\n",
      "xn -0.00106740694127480\n",
      "delta 1.04424414375546\n",
      "f_abs_2_new 4.21555632837553e-16\n",
      "f_new 3.58573277619897e-10 2.05286886586097e-8\n",
      "\n",
      "re_d_im xn =  -0.00116661013493157 0.105147783591596 step =  0.0000950000000000000\n",
      "xn 0.105147783591596\n",
      "delta -0.0174057053823656\n",
      "f_abs_2_new 4.21532020595321e-16\n",
      "f_new 3.58539214161411e-10 2.05281141420061e-8\n",
      "\n",
      "im_d_im xn =  -0.00116661013493157 0.105149437133607 step =  0.0950000000000000\n",
      "xn 0.105149437133607\n",
      "delta -0.0590842183191020\n",
      "f_abs_2_new 3.50407635050527e-16\n",
      "f_new 2.53545835298113e-10 1.87174610874426e-8\n",
      "\n",
      "re_d_re xn =  -0.00116661013493157 0.110762437873922 step =  0.0115497821861041\n",
      "xn -0.00116661013493157\n",
      "delta -0.000846982837407267\n",
      "f_abs_2_new 3.50412356885399e-16\n",
      "\n",
      "im_d_re xn =  -0.00116661013493157 0.110762437873922 step =  0.0000950000000000000\n"
     ]
    },
    {
     "name": "stdout",
     "output_type": "stream",
     "text": [
      "xn -0.00116661013493157\n",
      "delta 1.10340832231434\n",
      "f_abs_2_new 3.50356377666051e-16\n",
      "f_new 2.84921838783609e-10 1.87156404435391e-8\n",
      "\n",
      "re_d_im xn =  -0.00127143392555144 0.110762437873922 step =  0.0000950000000000000\n",
      "xn 0.110762437873922\n",
      "delta -0.0160303798008906\n",
      "f_abs_2_new 3.50339302157342e-16\n",
      "f_new 2.84894771903586e-10 1.87151846671702e-8\n",
      "\n",
      "im_d_im xn =  -0.00127143392555144 0.110763960760003 step =  0.0950000000000000\n",
      "xn 0.110763960760003\n",
      "delta -0.0625342970663693\n",
      "f_abs_2_new 2.91241034131772e-16\n",
      "f_new 1.89035640374935e-10 1.70647384878421e-8\n",
      "\n",
      "re_d_re xn =  -0.00127143392555144 0.116704718981308 step =  0.0103948039674937\n",
      "xn -0.00127143392555144\n",
      "delta -0.000733364657296917\n",
      "f_abs_2_new 2.91244095312291e-16\n",
      "\n",
      "im_d_re xn =  -0.00127143392555144 0.116704718981308 step =  0.0000950000000000000\n",
      "xn -0.00127143392555144\n",
      "delta 1.16638783097755\n",
      "f_abs_2_new 2.91195999793987e-16\n",
      "f_new 2.17594844153298e-10 1.70630786283655e-8\n",
      "\n",
      "re_d_im xn =  -0.00138224076949430 0.116704718981308 step =  0.0000950000000000000\n",
      "xn 0.116704718981308\n",
      "delta -0.0141949276901964\n",
      "f_abs_2_new 2.91184131277125e-16\n",
      "f_new 2.17574173087796e-10 1.70627311048475e-8\n",
      "\n",
      "im_d_im xn =  -0.00138224076949430 0.116706067499439 step =  0.0950000000000000\n",
      "xn 0.116706067499439\n",
      "delta -0.0662107182736189\n",
      "f_abs_2_new 2.42077181286671e-16\n",
      "f_new 1.30058846645427e-10 1.55582860875831e-8\n",
      "\n",
      "re_d_re xn =  -0.00138224076949430 0.122996085735433 step =  0.00935532357074431\n",
      "xn -0.00138224076949430\n",
      "delta -0.000586177491897849\n",
      "f_abs_2_new 2.42079016030407e-16\n",
      "\n",
      "im_d_re xn =  -0.00138224076949430 0.122996085735433 step =  0.0000950000000000000\n",
      "xn -0.00138224076949430\n",
      "delta 1.23357860975545\n",
      "f_abs_2_new 2.42037533130163e-16\n",
      "f_new 1.56057859901344e-10 1.55567727718356e-8\n",
      "\n",
      "re_d_im xn =  -0.00149943073742107 0.122996085735433 step =  0.0000950000000000000\n",
      "xn 0.122996085735433\n",
      "delta -0.0118097189807027\n",
      "f_abs_2_new 2.42029785223884e-16\n",
      "f_new 1.56043034655869e-10 1.55565238981984e-8\n",
      "\n",
      "im_d_im xn =  -0.00149943073742107 0.122997207658736 step =  0.0950000000000000\n",
      "xn 0.122997207658736\n",
      "delta -0.0701297798176349\n",
      "f_abs_2_new 2.01223845487983e-16\n",
      "f_new 7.61563403901696e-11 1.41851346733050e-8\n",
      "\n",
      "re_d_re xn =  -0.00149943073742107 0.129659536741411 step =  0.00841979121366988\n",
      "xn -0.00149943073742107\n",
      "delta -0.000398898956683700\n",
      "f_abs_2_new 2.01224782976830e-16\n",
      "\n",
      "im_d_re xn =  -0.00149943073742107 0.129659536741411 step =  0.0000950000000000000\n",
      "xn -0.00149943073742107\n",
      "delta 1.30541299934065\n",
      "f_abs_2_new 2.01188869699130e-16\n",
      "f_new 9.98302631712719e-11 1.41837549195439e-8\n",
      "\n",
      "re_d_im xn =  -0.00162344497235843 0.129659536741411 step =  0.0000950000000000000\n",
      "xn 0.129659536741411\n",
      "delta -0.00876849166236882\n",
      "f_abs_2_new 2.01184357387701e-16\n",
      "f_new 9.98207794092689e-11 1.41835959192195e-8\n",
      "\n",
      "im_d_im xn =  -0.00162344497235843 0.129660369748119 step =  0.0950000000000000\n",
      "xn 0.129660369748119\n",
      "delta -0.0743088946704777\n",
      "f_abs_2_new 1.67275256121923e-16\n",
      "f_new 2.69139818197936e-11 1.29334655742189e-8\n",
      "\n",
      "re_d_re xn =  -0.00162344497235843 0.136719714741814 step =  0.00757781209230289\n",
      "xn -0.00162344497235843\n",
      "delta -0.000163891263912066\n",
      "f_abs_2_new 1.67275545681262e-16\n",
      "\n",
      "im_d_re xn =  -0.00162344497235843 0.136719714741814 step =  0.0000950000000000000\n",
      "xn -0.00162344497235843\n",
      "delta 1.38236571979041\n",
      "f_abs_2_new 1.67244342194882e-16\n",
      "f_new 4.84777205703307e-11 1.29322075495829e-8\n",
      "\n",
      "re_d_im xn =  -0.00175476971573852 0.136719714741814 step =  0.0000950000000000000\n",
      "xn 0.136719714741814\n",
      "delta -0.00494523009689921\n",
      "f_abs_2_new 1.67242346754941e-16\n",
      "f_new 4.84731152161856e-11 1.29321304166035e-8\n",
      "\n",
      "im_d_im xn =  -0.00175476971573852 0.136720184538674 step =  0.0950000000000000\n",
      "xn 0.136720184538674\n",
      "delta -0.0787666167432908\n",
      "f_abs_2_new 1.39063583386343e-16\n",
      "f_new -1.80434923490617e-11 1.17925085464767e-8\n",
      "\n",
      "re_d_re xn =  -0.00175476971573852 0.144203013129286 step =  0.00682003088307260\n",
      "xn -0.00175476971573852\n",
      "delta 0.000127782214976760\n",
      "f_abs_2_new 1.39063413483613e-16\n",
      "f_new -1.79204352522755e-11 1.17925015302782e-8\n",
      "\n",
      "im_d_re xn =  -0.00175564119439097 0.144203013129286 step =  0.0000950000000000000\n",
      "xn -0.00175564119439097\n",
      "delta 1.46452163708125\n",
      "f_abs_2_new 1.39036043130439e-16\n",
      "f_new 1.72330517113287e-12 1.17913544667548e-8\n",
      "\n",
      "re_d_im xn =  -0.00189477074991369 0.144203013129286 step =  0.0000950000000000000\n",
      "xn 0.144203013129286\n",
      "delta -0.000204255642454931\n",
      "f_abs_2_new 1.39035978527212e-16\n",
      "f_new 1.72314145717514e-12 1.17913517273464e-8\n",
      "\n",
      "im_d_im xn =  -0.00189477074991369 0.144203032533572 step =  0.0950000000000000\n",
      "xn 0.144203032533572\n",
      "delta -0.0835227066424787\n",
      "f_abs_2_new 1.15618488257745e-16\n",
      "f_new -5.89566816836328e-11 1.07524421582927e-8\n",
      "\n",
      "re_d_re xn =  -0.00189477074991369 0.152137689664608 step =  0.00757781209230289\n",
      "xn -0.00189477074991369\n",
      "delta 0.000485738284583976\n",
      "f_abs_2_new 1.15617887531178e-16\n",
      "f_new -5.85099201660510e-11 1.07524166641932e-8\n",
      "\n",
      "im_d_re xn =  -0.00189845158336030 0.152137689664608 step =  0.0000950000000000000\n",
      "xn -0.00189845158336030\n",
      "delta 1.55150539323887\n",
      "f_abs_2_new 1.15593623668642e-16\n",
      "f_new -4.06219810078513e-11 1.07513707741525e-8\n",
      "\n",
      "re_d_im xn =  -0.00204584459571800 0.152137689664608 step =  0.0000950000000000000\n",
      "xn 0.152137689664608\n",
      "delta 0.00559414126283680\n",
      "f_abs_2_new 1.15595010085114e-16\n",
      "\n",
      "im_d_im xn =  -0.00204584459571800 0.152137689664608 step =  0.0950000000000000\n",
      "xn 0.152137689664608\n",
      "delta -0.0885984738533228\n",
      "f_abs_2_new 9.61325912279942e-17\n",
      "f_new -9.59944910732245e-11 9.80425296928214e-9\n",
      "\n",
      "re_d_re xn =  -0.00204584459571800 0.160554544680673 step =  0.00841979121366988\n",
      "xn -0.00204584459571800\n",
      "delta 0.000920412040039574\n",
      "f_abs_2_new 9.61315312258371e-17\n",
      "f_new -9.51862416119094e-11 9.80420679123227e-9\n",
      "\n",
      "im_d_re xn =  -0.00205359427292568 0.160554544680673 step =  0.0000950000000000000\n",
      "xn -0.00205359427292568\n",
      "delta 1.64340881761541\n",
      "f_abs_2_new 9.61099985839149e-17\n",
      "f_new -7.89051509373451e-11 9.80325316214319e-9\n",
      "\n",
      "re_d_im xn =  -0.00220971811059914 0.160554544680673 step =  0.0000855000000000000\n",
      "xn 0.160554544680673\n",
      "delta 0.0126237643242716\n",
      "f_abs_2_new 9.61122041517702e-17\n",
      "\n",
      "im_d_im xn =  -0.00220971811059914 0.160554544680673 step =  0.0950000000000000\n",
      "xn 0.160554544680673\n",
      "delta -0.0940160523297537\n",
      "f_abs_2_new 7.99367411121234e-17\n",
      "f_new -1.29454972827702e-10 8.93979767791943e-9\n",
      "\n",
      "re_d_re xn =  -0.00220971811059914 0.169486069652000 step =  0.00935532357074431\n",
      "xn -0.00220971811059914\n",
      "delta 0.00144498022359878\n",
      "f_abs_2_new 7.99351897800617e-17\n",
      "f_new -1.28243889870378e-10 8.93972836750495e-9\n",
      "\n",
      "im_d_re xn =  -0.00222323636814423 0.169486069652000 step =  0.0000950000000000000\n",
      "xn -0.00222323636814423\n",
      "delta 1.74020477409793\n",
      "f_abs_2_new 7.99160655194194e-17\n",
      "f_new -1.13434817050635e-10 8.93885887916909e-9\n",
      "\n",
      "re_d_im xn =  -0.00238855582168354 0.169486069652000 step =  0.0000769500000000000\n",
      "xn 0.169486069652000\n",
      "delta 0.0210778694784218\n",
      "f_abs_2_new 7.99186607924736e-17\n",
      "\n",
      "im_d_im xn =  -0.00238855582168354 0.169486069652000 step =  0.0950000000000000\n",
      "xn 0.169486069652000\n",
      "delta -0.0997986181141073\n",
      "f_abs_2_new 6.64749858094226e-17\n",
      "f_new -1.59606522589817e-10 8.15165698293110e-9\n",
      "\n",
      "re_d_re xn =  -0.00238855582168354 0.178966938372840 step =  0.0103948039674937\n",
      "xn -0.00238855582168354\n",
      "delta 0.00207459056304737\n",
      "f_abs_2_new 6.64729074043274e-17\n",
      "f_new -1.57947465260363e-10 8.15156181369836e-9\n",
      "\n",
      "im_d_re xn =  -0.00241012078389923 0.178966938372840 step =  0.0000950000000000000\n",
      "xn -0.00241012078389923\n",
      "delta 1.84171629540834\n",
      "f_abs_2_new 6.64559133673823e-17\n",
      "f_new -1.44488627793459e-10 8.15076906824262e-9\n",
      "\n",
      "re_d_im xn =  -0.00258508383196302 0.178966938372840 step =  0.0000692550000000000\n",
      "xn 0.178966938372840\n"
     ]
    }
   ],
   "source": [
    "k_z_root = find_newton_complex_root(\n",
    "    M4_subs_det_re_d,\\\n",
    "    M4_subs_det_im_d,\\\n",
    "    M4_subs_det_re_div_diff_kz_d,\\\n",
    "    M4_subs_det_im_div_diff_kz_d,\\\n",
    "    M4_subs_det_re_div_diff_sz_d,\\\n",
    "    M4_subs_det_im_div_diff_sz_d,\\\n",
    "    xre = kz, xim = sz,\\\n",
    "    xn_re = 0.0000369917483332058, xn_im = 0.0405200691675249, nsteps = 50)\n",
    "# 0.00126461806239810   0.000327156790809509\n",
    "# 0.00212802121192967   0.00476327299933315\n",
    "# 0.0000369917483332058 0.0405200691675249\n",
    "# -0.00733877226129633 0.159385663041519"
   ]
  },
  {
   "cell_type": "code",
   "execution_count": null,
   "metadata": {},
   "outputs": [],
   "source": [
    "k_z_root"
   ]
  },
  {
   "cell_type": "code",
   "execution_count": null,
   "metadata": {},
   "outputs": [],
   "source": [
    "fast_M8 = True"
   ]
  },
  {
   "cell_type": "code",
   "execution_count": null,
   "metadata": {},
   "outputs": [],
   "source": [
    "if not fast_M8:\n",
    "    M8_subs_det_re = M8_subs_det.real()\n",
    "\n",
    "    M8_subs_det_re_diff_kz = M8_subs_det_re.diff(kz)\n",
    "    M8_subs_det_re_diff_sz = M8_subs_det_re.diff(sz)\n",
    "\n",
    "    M8_subs_det_re_div_diff_kz = (M8_subs_det_re / M8_subs_det_re_diff_kz)\n",
    "    M8_subs_det_re_div_diff_sz = (M8_subs_det_re / M8_subs_det_re_diff_sz)\n",
    "\n",
    "    M8_subs_det_re_d = M8_subs_det_re.subs(digit_values)"
   ]
  },
  {
   "cell_type": "code",
   "execution_count": null,
   "metadata": {},
   "outputs": [],
   "source": []
  },
  {
   "cell_type": "code",
   "execution_count": null,
   "metadata": {},
   "outputs": [],
   "source": [
    "if not fast_M8 and make_investigation_plots:\n",
    "    import numpy as np\n",
    "    import matplotlib.pyplot as plt\n",
    "    %matplotlib inline\n",
    "\n",
    "    kz_linspace = np.linspace(0, 1e-2, 25)\n",
    "    sz_linspace = np.linspace(0, 1e-3, 25)\n",
    "\n",
    "    kz_list = kz_linspace.tolist()\n",
    "    sz_list = sz_linspace.tolist()\n",
    "\n",
    "    kz_grid, sz_grid = np.meshgrid(kz_linspace, sz_linspace)\n",
    "\n",
    "    u = kz_grid * np.nan\n",
    "\n",
    "    for ikz in np.arange(0, len(kz_linspace), 1):\n",
    "        print(ikz, len(kz_linspace))\n",
    "        for isz in np.arange(0, len(sz_linspace), 1):\n",
    "            kz_i = kz_list[ikz]\n",
    "            sz_i = sz_list[isz]\n",
    "            u[isz][ikz] = M8_subs_det_re_d.subs(kz == kz_i).subs(sz == sz_i).n()"
   ]
  },
  {
   "cell_type": "markdown",
   "metadata": {},
   "source": [
    "Искомый волновой вектор можно найти графическим методом как точку пересечения двух нулевых изолиний на контурных графиках зависимости действительной и мнимой компонент детерминанта от действительной и мнимой компонент волнового вектора"
   ]
  },
  {
   "cell_type": "code",
   "execution_count": null,
   "metadata": {},
   "outputs": [],
   "source": [
    "if not fast_M8 and make_investigation_plots:\n",
    "    fig,ax=plt.subplots(1,1)\n",
    "\n",
    "    cp = ax.contourf(kz_grid,sz_grid, u)\n",
    "    fig.colorbar(cp) # Add a colorbar to a plot\n",
    "    ax.set_title('M8_subs_det_re')\n",
    "    ax.set_xlabel('kz')\n",
    "    ax.set_ylabel('sz')\n",
    "    plt.show()"
   ]
  },
  {
   "cell_type": "code",
   "execution_count": null,
   "metadata": {},
   "outputs": [],
   "source": []
  },
  {
   "cell_type": "code",
   "execution_count": null,
   "metadata": {},
   "outputs": [],
   "source": [
    "if not fast_M8:\n",
    "    M8_subs_det_re_div_diff_kz_d = M8_subs_det_re_div_diff_kz.subs(digit_values)\n",
    "    M8_subs_det_re_div_diff_sz_d = M8_subs_det_re_div_diff_sz.subs(digit_values)\n"
   ]
  },
  {
   "cell_type": "code",
   "execution_count": null,
   "metadata": {},
   "outputs": [],
   "source": []
  },
  {
   "cell_type": "raw",
   "metadata": {},
   "source": [
    "if not fast_M8:\n",
    "    k_z_root6 = find_newton_complex_root(\n",
    "        M8_subs_det_re_d,\\\n",
    "        M8_subs_det_im_d,\\\n",
    "        M8_subs_det_re_div_diff_kz_d,\\\n",
    "        M8_subs_det_im_div_diff_kz_d,\\\n",
    "        M8_subs_det_re_div_diff_sz_d,\\\n",
    "        M8_subs_det_im_div_diff_sz_d,\\\n",
    "        xre = kz, xim = sz,\\\n",
    "        xn_re = k_z_root[0], xn_im = k_z_root[1], nsteps = 0)"
   ]
  },
  {
   "cell_type": "code",
   "execution_count": null,
   "metadata": {},
   "outputs": [],
   "source": [
    "k_z_sol = [kz == k_z_root[0], sz ==  k_z_root[1]]\n",
    "M8_subs_d = M8_subs.subs(digit_values).subs(k_z_sol)\n",
    "print(M8_subs_d.n())"
   ]
  },
  {
   "cell_type": "code",
   "execution_count": null,
   "metadata": {},
   "outputs": [],
   "source": []
  },
  {
   "cell_type": "code",
   "execution_count": null,
   "metadata": {},
   "outputs": [],
   "source": [
    "# https://www.pythonpool.com/gaussian-elimination-python/\n",
    "\n",
    "#gaussian elimination of M6_subs in symbolic form\n",
    "\n",
    "n = 8\n",
    "rows = n\n",
    "cols = n\n",
    "ma = [[], [], [], [], [], [], [], []]\n",
    "\n",
    "for i in range(rows):# row\n",
    "    for j in range(cols): # col\n",
    "        ma[i] += [M8_subs[i][j]]\n",
    "\n",
    "for i in range(cols):\n",
    "    row_to_change = -1\n",
    "    ii_abs = abs(ma[i][i].subs(digit_values).subs(k_z_sol).n())\n",
    "\n",
    "    for r in range(i+1, rows):\n",
    "        ri_abs = abs(ma[r][i].subs(digit_values).subs(k_z_sol).n())\n",
    "        if ri_abs > ii_abs:\n",
    "            row_to_change = r\n",
    "            cur_abs = ri_abs\n",
    "            print(\"row_to_change\", row_to_change)\n",
    "\n",
    "    if row_to_change > -1:\n",
    "        for col in range(i, cols):#+1):\n",
    "            tmp = ma[i][col]\n",
    "            ma[i][col] = ma[row_to_change][col]\n",
    "            ma[row_to_change][col] = tmp\n",
    "\n",
    "    for j in range(i+1, rows):\n",
    "        ratio = ma[j][i]/ma[i][i]\n",
    "         \n",
    "        for k in range(cols):#+1):\n",
    "            ma[j][k] = ma[j][k] - ratio * ma[i][k]\n",
    "\n",
    "M8_RU = matrix(ma)"
   ]
  },
  {
   "cell_type": "code",
   "execution_count": null,
   "metadata": {},
   "outputs": [],
   "source": [
    "M8_RU_d = M8_RU.subs(digit_values).subs(k_z_sol).n()\n",
    "M8_RU_d"
   ]
  },
  {
   "cell_type": "code",
   "execution_count": null,
   "metadata": {},
   "outputs": [],
   "source": [
    "M8_RU_d.det()"
   ]
  },
  {
   "cell_type": "code",
   "execution_count": null,
   "metadata": {},
   "outputs": [],
   "source": [
    "X8 = vector(vars8)\n",
    "X8"
   ]
  },
  {
   "cell_type": "code",
   "execution_count": null,
   "metadata": {},
   "outputs": [],
   "source": [
    "M8_RU_d_X = M8_RU_d*X8"
   ]
  },
  {
   "cell_type": "code",
   "execution_count": null,
   "metadata": {},
   "outputs": [],
   "source": [
    "A1_z_re_d = 1"
   ]
  },
  {
   "cell_type": "code",
   "execution_count": null,
   "metadata": {},
   "outputs": [],
   "source": [
    "M8X_RU_B = []\n",
    "eq_sys_M8X_RU = []\n",
    "for i in range(len(M8_RU_d_X)):\n",
    "    M8X_RU_B_i = - (M8_RU_d_X[i]).coefficient(A1_z_re).n() * A1_z_re_d\n",
    "    print(M8X_RU_B_i)\n",
    "    M8X_RU_B += [M8X_RU_B_i]\n",
    "    eq_sys_M8X_RU += [M8_RU_d_X[i].subs(A1_z_re == 0) == M8X_RU_B_i]"
   ]
  },
  {
   "cell_type": "code",
   "execution_count": null,
   "metadata": {},
   "outputs": [],
   "source": [
    "eq_sys_M8X_vars7 = [B1_zl_re,  B1_zl_im,\\\n",
    "                               A1_z_im, \\\n",
    "                     A2_z_re,  A2_z_im, \\\n",
    "                     B1_zr_re, B1_zr_im, \\\n",
    "                    ]"
   ]
  },
  {
   "cell_type": "code",
   "execution_count": null,
   "metadata": {},
   "outputs": [],
   "source": [
    "eq_sys_M8X_RU_M = GenerateMatrix(eq_sys_M8X_RU, eq_sys_M8X_vars7)\n",
    "\n",
    "display(Math(latex(eq_sys_M8X_RU_M.n())))"
   ]
  },
  {
   "cell_type": "code",
   "execution_count": null,
   "metadata": {},
   "outputs": [],
   "source": [
    "eq_sys_M8X_RU_M_sol = eq_sys_M8X_RU_M.solve_right(vector(M8X_RU_B))"
   ]
  },
  {
   "cell_type": "code",
   "execution_count": null,
   "metadata": {},
   "outputs": [],
   "source": [
    "coeffs_subs_RU8 = [A1_z_re == A1_z_re_d]\n",
    "for i in range(len(eq_sys_M8X_RU_M_sol)):\n",
    "    eq_sys_M8X_RU_M_sol_i_n = eq_sys_M8X_RU_M_sol[i].n()\n",
    "    print(eq_sys_M8X_RU_M_sol_i_n)\n",
    "    coeffs_subs_RU8 += [eq_sys_M8X_vars7[i] == eq_sys_M8X_RU_M_sol_i_n]"
   ]
  },
  {
   "cell_type": "code",
   "execution_count": null,
   "metadata": {},
   "outputs": [],
   "source": [
    "coeffs_subs_RU8"
   ]
  },
  {
   "cell_type": "raw",
   "metadata": {},
   "source": [
    "import numpy as np\n",
    "\n",
    "M8_subs_d_np_array = np.array(M8_subs_d.n())\n",
    "_ , _ , _ , M8_subs_d_sol = np.linalg.lstsq(M8_subs_d_np_array, np.zeros(8), rcond=None)\n",
    "M8_subs_d_sol"
   ]
  },
  {
   "cell_type": "raw",
   "metadata": {},
   "source": [
    "np.linalg.pinv(M8_subs_d_np_array).dot(np.zeros(8))"
   ]
  },
  {
   "cell_type": "raw",
   "metadata": {},
   "source": [
    "import numpy as np\n",
    "\n",
    "M8_RU_d_np_array = np.array(M8_RU_d)\n",
    "_ , _ , _ , M8_RU_d_sol = np.linalg.lstsq(M8_RU_d_np_array, np.zeros(8), rcond=None)\n",
    "vector(M8_RU_d_sol)"
   ]
  },
  {
   "cell_type": "raw",
   "metadata": {},
   "source": [
    "np.dot(M8_subs_d_np_array,M8_subs_d_sol)"
   ]
  },
  {
   "cell_type": "raw",
   "metadata": {},
   "source": [
    "matrix(M8_subs_d.n())*vector(M8_RU_d_sol)"
   ]
  },
  {
   "cell_type": "raw",
   "metadata": {},
   "source": [
    "common_sol = []\n",
    "for i in range(1, len(B8)):\n",
    "    r = 8 - i - 1\n",
    "    #print (B6[r])\n",
    "    #print (vars6[r])\n",
    "    eq = B8[r].subs(common_sol)\n",
    "    sol = solve(eq, vars8[r])\n",
    "    #print(sol)\n",
    "    common_sol += sol"
   ]
  },
  {
   "cell_type": "raw",
   "metadata": {},
   "source": [
    "common_sol"
   ]
  },
  {
   "cell_type": "raw",
   "metadata": {},
   "source": [
    "coeffs_subs8_gauss  = [A1_z_re == 1]\n",
    "for i in range(len(common_sol)):\n",
    "    coeffs_subs8_gauss += [common_sol[i].subs(A1_z_re == 1)]\n",
    "print (coeffs_subs8_gauss)"
   ]
  },
  {
   "cell_type": "raw",
   "metadata": {},
   "source": [
    "for i in range(len(coeffs_subs8_gauss)):\n",
    "    print(coeffs_subs8_gauss[i].lhs(), \"=\", coeffs_subs8_gauss[i].rhs())"
   ]
  },
  {
   "cell_type": "code",
   "execution_count": null,
   "metadata": {},
   "outputs": [],
   "source": [
    "M8_subs_d_X = M8_subs_d * X8\n",
    "#print(M8_subs_d_X)"
   ]
  },
  {
   "cell_type": "code",
   "execution_count": null,
   "metadata": {},
   "outputs": [],
   "source": [
    "M8X_B = []\n",
    "eq_sys_M8X = []\n",
    "for i in range(len(M8_subs_d_X)):\n",
    "    M8X_B_i = - (M8_subs_d_X[i]).coefficient(A1_z_re).n() * A1_z_re_d\n",
    "    print(M8X_B_i)\n",
    "    M8X_B += [M8X_B_i]\n",
    "    eq_sys_M8X += [M8_subs_d_X[i].subs(A1_z_re == 0) == M8X_B_i]"
   ]
  },
  {
   "cell_type": "code",
   "execution_count": null,
   "metadata": {},
   "outputs": [],
   "source": [
    "eq_sys_M8X_M = GenerateMatrix(eq_sys_M8X, eq_sys_M8X_vars7)\n",
    "\n",
    "display(Math(latex(eq_sys_M8X_M.n())))"
   ]
  },
  {
   "cell_type": "code",
   "execution_count": null,
   "metadata": {},
   "outputs": [],
   "source": [
    "if False:#ECL says: FLOATING-POINT-OVERFLOW\n",
    "    eq_sys_M8X_M_sol = eq_sys_M8X_M.solve_right(vector(M8X_B))"
   ]
  },
  {
   "cell_type": "code",
   "execution_count": null,
   "metadata": {},
   "outputs": [],
   "source": [
    "if False:\n",
    "    coeffs_subs8 = [A1_z_re == A1_z_re_d]\n",
    "    for i in range(len(eq_sys_M8X_M_sol)):\n",
    "        eq_sys_M8X_M_sol_i_n = eq_sys_M8X_M_sol[i].n()\n",
    "        print(eq_sys_M8X_M_sol_i_n)\n",
    "        coeffs_subs8 += [eq_sys_M8X_vars7[i] == eq_sys_M8X_M_sol_i_n]"
   ]
  },
  {
   "cell_type": "code",
   "execution_count": null,
   "metadata": {},
   "outputs": [],
   "source": [
    "if False:\n",
    "    print (coeffs_subs8)"
   ]
  },
  {
   "cell_type": "code",
   "execution_count": null,
   "metadata": {},
   "outputs": [],
   "source": [
    "# test solution of coeffs_subs8"
   ]
  },
  {
   "cell_type": "code",
   "execution_count": null,
   "metadata": {},
   "outputs": [],
   "source": [
    "if False:\n",
    "    test_sol_of_coeffs_subs8 = M8_subs_d_X.subs(coeffs_subs8).n()\n",
    "    test_sol_of_coeffs_subs8"
   ]
  },
  {
   "cell_type": "code",
   "execution_count": null,
   "metadata": {},
   "outputs": [],
   "source": [
    "if False:\n",
    "    test_sol_of_coeffs_subs8_abs = 0\n",
    "    for i in range(len(test_sol_of_coeffs_subs8)):\n",
    "        test_sol_of_coeffs_subs8_abs += abs(test_sol_of_coeffs_subs_8[i])\n",
    "    test_sol_of_coeffs_subs8_abs"
   ]
  },
  {
   "cell_type": "code",
   "execution_count": null,
   "metadata": {},
   "outputs": [],
   "source": []
  },
  {
   "cell_type": "code",
   "execution_count": null,
   "metadata": {},
   "outputs": [],
   "source": [
    "k_z_sol = [kz == k_z_root[0], sz ==  k_z_root[1], k_z == k_z_root[0] + I * k_z_root[1]]\n",
    "k_z_sol"
   ]
  },
  {
   "cell_type": "code",
   "execution_count": null,
   "metadata": {},
   "outputs": [],
   "source": [
    "M4_subs_d = M4_subs.subs(digit_values).subs(k_z == k_z_root[0] + I * k_z_root[1])"
   ]
  },
  {
   "cell_type": "code",
   "execution_count": null,
   "metadata": {},
   "outputs": [],
   "source": [
    "M4_subs_d.n()"
   ]
  },
  {
   "cell_type": "code",
   "execution_count": null,
   "metadata": {},
   "outputs": [],
   "source": [
    "M4_subs_d.det().n()"
   ]
  },
  {
   "cell_type": "code",
   "execution_count": null,
   "metadata": {},
   "outputs": [],
   "source": [
    "vars8"
   ]
  },
  {
   "cell_type": "code",
   "execution_count": null,
   "metadata": {},
   "outputs": [],
   "source": [
    "X = vector([B1_zl_re + I*B1_zl_im,\\\n",
    "            A1_z_re  + I*A1_z_im, \\\n",
    "            A2_z_re  + I*A2_z_im, \\\n",
    "            B1_zr_re + I*B1_zr_im])\n",
    "X"
   ]
  },
  {
   "cell_type": "code",
   "execution_count": null,
   "metadata": {},
   "outputs": [],
   "source": [
    "M4_subs_d_X = M4_subs_d * X\n",
    "#display(Math(latex(M4_subs_d_X)))"
   ]
  },
  {
   "cell_type": "code",
   "execution_count": null,
   "metadata": {},
   "outputs": [],
   "source": [
    "A1_z_re_d = 1\n",
    "M4X_B = []\n",
    "eq_sys_M4X = []\n",
    "for i in range(len(M4_subs_d_X)):\n",
    "    M4X_B_re = - M4_subs_d_X[i].real().coefficient(A1_z_re).n()\n",
    "    M4X_B_im = - M4_subs_d_X[i].imag().coefficient(A1_z_re).n()\n",
    "    eq_sys_M4X += [M4_subs_d_X[i].real().subs(A1_z_re == 0) == M4X_B_re]\n",
    "    eq_sys_M4X += [M4_subs_d_X[i].imag().subs(A1_z_re == 0) == M4X_B_im]\n",
    "    M4X_B += [M4X_B_re]\n",
    "    M4X_B += [M4X_B_im]"
   ]
  },
  {
   "cell_type": "code",
   "execution_count": null,
   "metadata": {},
   "outputs": [],
   "source": [
    "M4X_B"
   ]
  },
  {
   "cell_type": "code",
   "execution_count": null,
   "metadata": {},
   "outputs": [],
   "source": [
    "eq_sys_M4X_vars7 = [B1_zl_re, B1_zl_im, \\\n",
    "                    A1_z_im,  A2_z_re,  \\\n",
    "                              A2_z_im,  \\\n",
    "                    B1_zr_re, B1_zr_im]"
   ]
  },
  {
   "cell_type": "code",
   "execution_count": null,
   "metadata": {},
   "outputs": [],
   "source": [
    "eq_sys_M4X_M = GenerateMatrixNumeric(eq_sys_M4X, eq_sys_M4X_vars7)\n",
    "display(Math(latex(eq_sys_M4X_M.n())))"
   ]
  },
  {
   "cell_type": "code",
   "execution_count": null,
   "metadata": {},
   "outputs": [],
   "source": [
    "eq_sys_M4X_M_sol = eq_sys_M4X_M.solve_right(vector(M4X_B))"
   ]
  },
  {
   "cell_type": "code",
   "execution_count": null,
   "metadata": {},
   "outputs": [],
   "source": [
    "coeffs_subs4 = [A1_z_re == A1_z_re_d]\n",
    "for i in range(len(eq_sys_M4X_M_sol)):\n",
    "    print(eq_sys_M4X_M_sol[i].n())#.variables())\n",
    "    coeffs_subs4 += [eq_sys_M4X_vars7[i] == eq_sys_M4X_M_sol[i].n()]"
   ]
  },
  {
   "cell_type": "code",
   "execution_count": null,
   "metadata": {},
   "outputs": [],
   "source": [
    "coeffs_subs4"
   ]
  },
  {
   "cell_type": "code",
   "execution_count": null,
   "metadata": {},
   "outputs": [],
   "source": [
    "# test solution of coeffs_subs4"
   ]
  },
  {
   "cell_type": "code",
   "execution_count": null,
   "metadata": {},
   "outputs": [],
   "source": [
    "test_sol_of_coeffs_subs4 = M4_subs_d_X.subs(coeffs_subs4).n()\n",
    "test_sol_of_coeffs_subs4"
   ]
  },
  {
   "cell_type": "code",
   "execution_count": null,
   "metadata": {},
   "outputs": [],
   "source": [
    "test_sol_of_coeffs_subs4_abs = 0\n",
    "for i in range(len(test_sol_of_coeffs_subs4)):\n",
    "    test_sol_of_coeffs_subs4_abs += abs(test_sol_of_coeffs_subs4[i])\n",
    "test_sol_of_coeffs_subs4_abs"
   ]
  },
  {
   "cell_type": "code",
   "execution_count": null,
   "metadata": {},
   "outputs": [],
   "source": [
    "coeffs_subs4"
   ]
  },
  {
   "cell_type": "code",
   "execution_count": null,
   "metadata": {},
   "outputs": [],
   "source": [
    "#test_sol_of_coeffs_subs8_abs"
   ]
  },
  {
   "cell_type": "code",
   "execution_count": null,
   "metadata": {},
   "outputs": [],
   "source": [
    "coeffs_subs = coeffs_subs_RU8\n",
    "coeffs_subs"
   ]
  },
  {
   "cell_type": "code",
   "execution_count": null,
   "metadata": {},
   "outputs": [],
   "source": [
    "K_vacuum_subs_d = K_vacuum_subs.subs(kappa_vacuum_sol).subs(k_z_sol).subs(digit_values)\n",
    "K_vacuum_subs_d"
   ]
  },
  {
   "cell_type": "code",
   "execution_count": null,
   "metadata": {},
   "outputs": [],
   "source": [
    "K_vacuum_subs_d.rhs().n()"
   ]
  },
  {
   "cell_type": "code",
   "execution_count": null,
   "metadata": {},
   "outputs": [],
   "source": [
    "K_left_conductor_subs_d = K_left_conductor_subs.subs(kappa_vacuum_sol).subs(kappa_l_sol).subs(k_z_sol).subs(digit_values)\n",
    "K_left_conductor_subs_d"
   ]
  },
  {
   "cell_type": "code",
   "execution_count": null,
   "metadata": {},
   "outputs": [],
   "source": [
    "K_right_conductor_subs_d = K_right_conductor_subs.subs(kappa_vacuum_sol).subs(kappa_r_sol).subs(k_z_sol).subs(digit_values)\n",
    "K_right_conductor_subs_d"
   ]
  },
  {
   "cell_type": "code",
   "execution_count": null,
   "metadata": {},
   "outputs": [],
   "source": [
    "K_left_conductor_subs_d.rhs().n()"
   ]
  },
  {
   "cell_type": "code",
   "execution_count": null,
   "metadata": {},
   "outputs": [],
   "source": [
    "K_right_conductor_subs_d.rhs().n()"
   ]
  },
  {
   "cell_type": "markdown",
   "metadata": {},
   "source": [
    "знак перед корнем будем всегда выбирать так, чтобы корень имел положительнею мнимую часть (Зоммерфельд, Электродинамика, параграф 20, Б)"
   ]
  },
  {
   "cell_type": "code",
   "execution_count": null,
   "metadata": {},
   "outputs": [],
   "source": [
    "if K_left_conductor_subs_d.rhs().n().imag() < 0:\n",
    "    K_left_conductor_subs_d = K_left_conductor_subs_d.lhs() == - K_left_conductor_subs_d.rhs()"
   ]
  },
  {
   "cell_type": "code",
   "execution_count": null,
   "metadata": {},
   "outputs": [],
   "source": [
    "if K_right_conductor_subs_d.rhs().n().imag() < 0:\n",
    "    K_right_conductor_subs_d = K_right_conductor_subs_d.lhs() == - K_right_conductor_subs_d.rhs()"
   ]
  },
  {
   "cell_type": "raw",
   "metadata": {},
   "source": [
    "if K_vacuum_subs_d.rhs().n().imag() < 0:\n",
    "    K_vacuum_subs_d = K_vacuum_subs_d.lhs() == - K_vacuum_subs_d.rhs()"
   ]
  },
  {
   "cell_type": "code",
   "execution_count": null,
   "metadata": {},
   "outputs": [],
   "source": []
  },
  {
   "cell_type": "code",
   "execution_count": null,
   "metadata": {},
   "outputs": [],
   "source": [
    "Ex_left_conductor  = (eq_7_l_subs3.rhs())\n",
    "Ex_right_conductor = (eq_7_r_subs3.rhs())\n",
    "Ex_vacuum          = (eq_5_subs3.rhs())"
   ]
  },
  {
   "cell_type": "code",
   "execution_count": null,
   "metadata": {},
   "outputs": [],
   "source": [
    "Dx_left_conductor  = Ex_left_conductor * epsilon_l_complex\n",
    "Dx_right_conductor = Ex_right_conductor * epsilon_r_complex\n",
    "Dx_vacuum          = Ex_vacuum"
   ]
  },
  {
   "cell_type": "code",
   "execution_count": null,
   "metadata": {},
   "outputs": [],
   "source": [
    "Ex_left_conductor_subs  = Ex_left_conductor.subs(K_left_conductor_subs_d).subs(kappa_vacuum_sol).subs(kappa_l_sol).subs(k_z_sol)\n",
    "Ex_right_conductor_subs = Ex_right_conductor.subs(K_right_conductor_subs_d).subs(kappa_vacuum_sol).subs(kappa_r_sol).subs(k_z_sol)\n",
    "Ex_vacuum_subs          = Ex_vacuum       .subs(K_vacuum_subs_d)   .subs(kappa_vacuum_sol).subs(kappa_l_sol).subs(k_z_sol)"
   ]
  },
  {
   "cell_type": "code",
   "execution_count": null,
   "metadata": {},
   "outputs": [],
   "source": [
    "Dx_left_conductor_subs  = Ex_left_conductor_subs * epsilon_l_complex\n",
    "Dx_right_conductor_subs = Ex_right_conductor_subs * epsilon_r_complex\n",
    "Dx_vacuum_subs          = Ex_vacuum_subs"
   ]
  },
  {
   "cell_type": "code",
   "execution_count": null,
   "metadata": {},
   "outputs": [],
   "source": []
  },
  {
   "cell_type": "code",
   "execution_count": null,
   "metadata": {},
   "outputs": [],
   "source": [
    "#Hy_bad_conductor = (eq_8_subs3.rhs()*sqrt(epsilon_complex)/sqrt(mu)).subs(K_conductor_subs_d).subs(kappa_vacuum_sol).subs(kappa_sol).subs(k_z_sol).subs(eqEz_a).subs(A1_x_re_im_subs, A2_x_re_im_subs)\n",
    "#Hy_vacuum        = (eq_6_subs3.rhs()).subs(K_vacuum_subs_d).subs(kappa_vacuum_sol).subs(kappa_sol).subs(k_z_sol).subs(eqEz_a).subs(A1_x_re_im_subs, A2_x_re_im_subs)"
   ]
  },
  {
   "cell_type": "code",
   "execution_count": null,
   "metadata": {},
   "outputs": [],
   "source": [
    "# sqrt(mu / epsilon_complex) = omega/c * mu / kappa\n",
    "# sqrt(mu / epsilon_complex) = omega/c * mu_rel * mu_0 / kappa\n",
    "\n",
    "# kappa/mu == omega * sqrt(epsilon_complex/mu)\n",
    "# sqrt(mu_0 / epsilon_0) = omega * mu_0 / kappa_vacuum\n",
    "\n",
    "# kappa_vacuum == omega/c\n",
    "# sqrt(mu_0 / epsilon_0) = c * mu_0\n",
    "# c = 1 / sqrt(mu_0 * epsilon_0)\n",
    "\n",
    "# kappa = omega/c * sqrt(epsilon_comlex*mu)\n",
    "# kappa_vacuum = omega/c * sqrt(epsilon_0*mu_0) = omega/c\n",
    "\n",
    "# sqrt(mu_0 / epsilon_0) = 1/(c*epsilon_0) = omega/c * mu_0 / kappa_vacuum\n",
    "# sqrt(mu / epsilon_complex) = 1/(c*epsilon_complex) = omega/c * mu / kappa\n",
    "\n",
    "# 1/mu_0 = c^2*epsolon_0"
   ]
  },
  {
   "cell_type": "code",
   "execution_count": null,
   "metadata": {},
   "outputs": [],
   "source": [
    "Hy_left_conductor  = c * (eq_8_l_subs3.rhs()*kappa_l    / (mu_l  *omega))\n",
    "Hy_right_conductor = c * (eq_8_r_subs3.rhs()*kappa_r    / (mu_r  *omega))\n",
    "Hy_vacuum          = c * (eq_6_subs3.rhs()*kappa_vacuum / (mu_0*omega))"
   ]
  },
  {
   "cell_type": "code",
   "execution_count": null,
   "metadata": {},
   "outputs": [],
   "source": [
    "Hy_left_conductor_subs  = Hy_left_conductor .subs(K_left_conductor_subs_d).subs(kappa_vacuum_sol).subs(kappa_l_sol).subs(k_z_sol)\n",
    "Hy_right_conductor_subs = Hy_right_conductor.subs(K_right_conductor_subs_d).subs(kappa_vacuum_sol).subs(kappa_r_sol).subs(k_z_sol)\n",
    "Hy_vacuum_subs          = Hy_vacuum         .subs(K_vacuum_subs_d)   .subs(kappa_vacuum_sol).subs(kappa_l_sol).subs(k_z_sol)"
   ]
  },
  {
   "cell_type": "code",
   "execution_count": null,
   "metadata": {},
   "outputs": [],
   "source": [
    "Ex_left_conductor_d  = Ex_left_conductor_subs .subs(digit_values).subs([B1_zl_re_im_subs]).subs(coeffs_subs)\n",
    "Ex_right_conductor_d = Ex_right_conductor_subs.subs(digit_values).subs([B1_zr_re_im_subs]).subs(coeffs_subs)\n",
    "Ex_vacuum_d          = Ex_vacuum_subs         .subs(digit_values).subs([A1_z_re_im_subs,A2_z_re_im_subs]).subs(coeffs_subs)"
   ]
  },
  {
   "cell_type": "code",
   "execution_count": null,
   "metadata": {},
   "outputs": [],
   "source": [
    "Dx_left_conductor_d  = Dx_left_conductor_subs .subs(digit_values).subs([B1_zl_re_im_subs]).subs(coeffs_subs)\n",
    "Dx_right_conductor_d = Dx_right_conductor_subs.subs(digit_values).subs([B1_zr_re_im_subs]).subs(coeffs_subs)\n",
    "Dx_vacuum_d          = Dx_vacuum_subs         .subs(digit_values).subs([A1_z_re_im_subs, A2_z_re_im_subs]).subs(coeffs_subs)"
   ]
  },
  {
   "cell_type": "code",
   "execution_count": null,
   "metadata": {},
   "outputs": [],
   "source": []
  },
  {
   "cell_type": "code",
   "execution_count": null,
   "metadata": {},
   "outputs": [],
   "source": [
    "Hy_left_conductor_d  = Hy_left_conductor_subs .subs(digit_values).subs([B1_zl_re_im_subs]).subs(coeffs_subs)\n",
    "Hy_right_conductor_d = Hy_right_conductor_subs.subs(digit_values).subs([B1_zr_re_im_subs]).subs(coeffs_subs)\n",
    "Hy_vacuum_d          = Hy_vacuum_subs         .subs(digit_values).subs([A1_z_re_im_subs,A2_z_re_im_subs]).subs(coeffs_subs)"
   ]
  },
  {
   "cell_type": "code",
   "execution_count": null,
   "metadata": {},
   "outputs": [],
   "source": []
  },
  {
   "cell_type": "code",
   "execution_count": null,
   "metadata": {},
   "outputs": [],
   "source": [
    "Ez_vacuum          = E_inner_vacuum_sol_z   .subs(K_vacuum_subs_d)\n",
    "Ez_left_conductor  = E_left_conductor_sol_z .subs(K_left_conductor_subs).subs(kappa_sol_l)\n",
    "Ez_right_conductor = E_right_conductor_sol_z.subs(K_right_conductor_subs).subs(kappa_sol_r)"
   ]
  },
  {
   "cell_type": "code",
   "execution_count": null,
   "metadata": {},
   "outputs": [],
   "source": [
    "coeffs_subs"
   ]
  },
  {
   "cell_type": "code",
   "execution_count": null,
   "metadata": {},
   "outputs": [],
   "source": [
    "Ez_left_conductor_d  = Ez_left_conductor .subs(k_z_sol).subs(digit_values).subs([B1_zl_re_im_subs]).subs(coeffs_subs)\n",
    "Ez_right_conductor_d = Ez_right_conductor.subs(k_z_sol).subs(digit_values).subs([B1_zr_re_im_subs]).subs(coeffs_subs)\n",
    "Ez_vacuum_d          = Ez_vacuum         .subs(k_z_sol).subs(digit_values).subs([A1_z_re_im_subs,A2_z_re_im_subs]).subs(coeffs_subs)"
   ]
  },
  {
   "cell_type": "code",
   "execution_count": null,
   "metadata": {},
   "outputs": [],
   "source": []
  },
  {
   "cell_type": "code",
   "execution_count": null,
   "metadata": {},
   "outputs": [],
   "source": [
    "divE_vacuum = I*k_z * Ez_vacuum_d (x=x) + Ex_vacuum_d (x=x).diff(x)"
   ]
  },
  {
   "cell_type": "code",
   "execution_count": null,
   "metadata": {
    "scrolled": false
   },
   "outputs": [],
   "source": [
    "divE_vacuum_d = divE_vacuum.subs(k_z_sol).subs(digit_values).subs(coeffs_subs)"
   ]
  },
  {
   "cell_type": "code",
   "execution_count": null,
   "metadata": {},
   "outputs": [],
   "source": []
  },
  {
   "cell_type": "code",
   "execution_count": null,
   "metadata": {},
   "outputs": [],
   "source": [
    "divE_left_conductor  = I*k_z * Ez_left_conductor_d (x=x) + Ex_left_conductor_d (x=x).diff(x)\n",
    "divE_right_conductor = I*k_z * Ez_right_conductor_d (x=x) + Ex_right_conductor_d (x=x).diff(x)"
   ]
  },
  {
   "cell_type": "code",
   "execution_count": null,
   "metadata": {
    "scrolled": false
   },
   "outputs": [],
   "source": [
    "divE_left_conductor_d  = divE_left_conductor .subs(K_left_conductor_subs) .subs(kappa_sol_l).subs(k_z_sol).subs(digit_values).subs(coeffs_subs)\n",
    "divE_right_conductor_d = divE_right_conductor.subs(K_right_conductor_subs).subs(kappa_sol_r).subs(k_z_sol).subs(digit_values).subs(coeffs_subs)"
   ]
  },
  {
   "cell_type": "raw",
   "metadata": {},
   "source": []
  },
  {
   "cell_type": "code",
   "execution_count": null,
   "metadata": {},
   "outputs": [],
   "source": [
    "h_conductor = 1*A"
   ]
  },
  {
   "cell_type": "code",
   "execution_count": null,
   "metadata": {},
   "outputs": [],
   "source": [
    "plt =  plot(divE_vacuum_d.real(), (x, -A, 0))\n",
    "#plt = plot(divE_bad_conductor_d.real(), (x, 0, h_conductor))\n",
    "plt.show(title=\"График дивергенции электрического поля\")"
   ]
  },
  {
   "cell_type": "code",
   "execution_count": null,
   "metadata": {},
   "outputs": [],
   "source": [
    "plt =  plot(divE_vacuum_d.imag(), (x, -A, 0))\n",
    "#plt = plot(divE_bad_conductor_d.real(), (x, 0, h_conductor))\n",
    "plt.show(title=\"График дивергенции электрического поля\")"
   ]
  },
  {
   "cell_type": "code",
   "execution_count": null,
   "metadata": {},
   "outputs": [],
   "source": [
    "#plt =  plot(divE_vacuum_d.real(), (x, -A, 0))\n",
    "plt = plot(divE_left_conductor_d.real(), (x, 0, h_conductor))\n",
    "plt.show(title=\"График дивергенции электрического поля\")"
   ]
  },
  {
   "cell_type": "code",
   "execution_count": null,
   "metadata": {},
   "outputs": [],
   "source": [
    "#plt =  plot(divE_vacuum_d.real(), (x, -A, 0))\n",
    "plt = plot(divE_left_conductor_d.imag(), (x, 0, h_conductor))\n",
    "plt.show(title=\"График дивергенции электрического поля\")"
   ]
  },
  {
   "cell_type": "code",
   "execution_count": null,
   "metadata": {},
   "outputs": [],
   "source": [
    "#plt =  plot(divE_vacuum_d.real(), (x, -A, 0))\n",
    "plt = plot(divE_right_conductor_d.real(), (x, 0, h_conductor))\n",
    "plt.show(title=\"График дивергенции электрического поля\")"
   ]
  },
  {
   "cell_type": "code",
   "execution_count": null,
   "metadata": {},
   "outputs": [],
   "source": [
    "#plt =  plot(divE_vacuum_d.real(), (x, -A, 0))\n",
    "plt = plot(divE_right_conductor_d.imag(), (x, 0, h_conductor))\n",
    "plt.show(title=\"График дивергенции электрического поля\")"
   ]
  },
  {
   "cell_type": "raw",
   "metadata": {},
   "source": []
  },
  {
   "cell_type": "code",
   "execution_count": null,
   "metadata": {},
   "outputs": [],
   "source": [
    "plt  = plot(divE_left_conductor_d.imag(), (x, -A-h_conductor, -A))\n",
    "plt += plot(divE_vacuum_d.imag(), (x, -A, 0))\n",
    "plt += plot(divE_right_conductor_d.imag(), (x, 0, h_conductor))\n",
    "\n",
    "plt.show(title=\"График дивергенции электрического поля\")"
   ]
  },
  {
   "cell_type": "raw",
   "metadata": {},
   "source": []
  },
  {
   "cell_type": "code",
   "execution_count": null,
   "metadata": {},
   "outputs": [],
   "source": [
    "plt  = plot(Ez_left_conductor_d(x=x).real(), (x, -A-h_conductor, -A))\n",
    "plt += plot(Ez_vacuum_d.real(), (x, -A, 0))\n",
    "plt += plot(Ez_right_conductor_d.real(), (x, 0, h_conductor))\n",
    "plt.show(title=\"График Re тангенциальной компоненты электрического поля\")"
   ]
  },
  {
   "cell_type": "code",
   "execution_count": null,
   "metadata": {},
   "outputs": [],
   "source": [
    "plt  = plot(Ez_left_conductor_d.imag(), (x, -A-h_conductor, -A))\n",
    "plt += plot(Ez_vacuum_d.imag(), (x, -A, 0))\n",
    "plt += plot(Ez_right_conductor_d.imag(), (x, 0, h_conductor))\n",
    "plt.show(title=\"График Im тангенциальной компоненты электрического поля\")"
   ]
  },
  {
   "cell_type": "code",
   "execution_count": null,
   "metadata": {},
   "outputs": [],
   "source": [
    "plt += plot(Ez_left_conductor_d.abs(), (x, -A-h_conductor, -A))\n",
    "plt =  plot(Ez_vacuum_d.abs(), (x, -A, 0))\n",
    "plt += plot(Ez_right_conductor_d.abs(), (x, 0, h_conductor))\n",
    "plt.show(title=\"График Abs тангенциальной компоненты электрического поля\")"
   ]
  },
  {
   "cell_type": "code",
   "execution_count": null,
   "metadata": {},
   "outputs": [],
   "source": [
    "plt  = plot(arg(Ez_left_conductor_d(x=x))/pi, (x, -h_conductor-A, -A))\n",
    "plt += plot(arg(Ez_vacuum_d(x=x))/pi, (x, -A, 0))\n",
    "plt += plot(arg(Ez_right_conductor_d(x=x))/pi, (x, 0, h_conductor))\n",
    "plt.show(title=\"График Arg тангенциальной компоненты электрического поля\")"
   ]
  },
  {
   "cell_type": "code",
   "execution_count": null,
   "metadata": {},
   "outputs": [],
   "source": []
  },
  {
   "cell_type": "code",
   "execution_count": null,
   "metadata": {},
   "outputs": [],
   "source": [
    "plt  = plot((Ex_left_conductor_d * epsilon_l_complex).subs(digit_values).real(), (x, -A-h_conductor, -A))\n",
    "plt += plot(Ex_vacuum_d.real(), (x, -A, 0))\n",
    "plt += plot((Ex_right_conductor_d * epsilon_r_complex).subs(digit_values).real(), (x, 0, h_conductor))\n",
    "plt.show(title=\"График Re нормальной компоненты электрического смещения\")"
   ]
  },
  {
   "cell_type": "code",
   "execution_count": null,
   "metadata": {},
   "outputs": [],
   "source": [
    "plt  = plot((Ex_left_conductor_d * epsilon_l_complex).subs(digit_values).imag(), (x, -h_conductor-A, -A))\n",
    "plt += plot(Ex_vacuum_d.imag(), (x, -A, 0))\n",
    "plt += plot((Ex_right_conductor_d * epsilon_r_complex).subs(digit_values).imag(), (x, 0, h_conductor))\n",
    "plt.show(title=\"График Im нормальной компоненты электрического смещения\")"
   ]
  },
  {
   "cell_type": "code",
   "execution_count": null,
   "metadata": {},
   "outputs": [],
   "source": [
    "plt  = plot((Ex_left_conductor_d * epsilon_l_complex).subs(digit_values).abs(), (x, -h_conductor-A, -A))\n",
    "plt += plot(Ex_vacuum_d.abs(), (x, -A, 0))\n",
    "plt += plot((Ex_right_conductor_d * epsilon_r_complex).subs(digit_values).abs(), (x, 0, h_conductor))\n",
    "plt.show(title=\"График Abs нормальной компоненты электрического смещения\")"
   ]
  },
  {
   "cell_type": "code",
   "execution_count": null,
   "metadata": {},
   "outputs": [],
   "source": [
    "plt  = plot(arg((Ex_left_conductor_d * epsilon_l_complex).subs(digit_values))/pi, (x, -h_conductor-A, -A))\n",
    "plt += plot(arg(Ex_vacuum_d)/pi, (x, -A, 0))\n",
    "plt += plot(arg((Ex_right_conductor_d * epsilon_r_complex).subs(digit_values))/pi, (x, 0, h_conductor))\n",
    "plt.show(title=\"График Arg нормальной компоненты электрического смещения\")"
   ]
  },
  {
   "cell_type": "code",
   "execution_count": null,
   "metadata": {},
   "outputs": [],
   "source": []
  },
  {
   "cell_type": "code",
   "execution_count": null,
   "metadata": {},
   "outputs": [],
   "source": [
    "plt  = plot(Hy_left_conductor_d.real(), (x, -h_conductor-A, -A))\n",
    "plt += plot(Hy_vacuum_d.real(), (x, -A, 0))\n",
    "plt += plot(Hy_right_conductor_d.real(), (x, 0, h_conductor))\n",
    "plt.show(title=\"График Re тангенциальной компоненты напряженности магнитного поля H\")"
   ]
  },
  {
   "cell_type": "code",
   "execution_count": null,
   "metadata": {},
   "outputs": [],
   "source": [
    "plt  = plot(Hy_left_conductor_d.imag(), (x, -h_conductor-A, -A))\n",
    "plt += plot(Hy_vacuum_d.imag(), (x, -A, 0))\n",
    "plt += plot(Hy_right_conductor_d.imag(), (x, 0, h_conductor))\n",
    "plt.show(title=\"График Im тангенциальной компоненты напряженности магнитного поля H\")"
   ]
  },
  {
   "cell_type": "code",
   "execution_count": null,
   "metadata": {},
   "outputs": [],
   "source": [
    "plt  = plot(Hy_left_conductor_d.abs(), (x, -h_conductor-A, -A))\n",
    "plt += plot(Hy_vacuum_d.abs(), (x, -A, 0))\n",
    "plt += plot(Hy_right_conductor_d.abs(), (x, 0, h_conductor))\n",
    "plt.show(title=\"График Abs тангенциальной компоненты напряженности магнитного поля H\")"
   ]
  },
  {
   "cell_type": "code",
   "execution_count": null,
   "metadata": {},
   "outputs": [],
   "source": [
    "plt  = plot(arg(Hy_left_conductor_d)/pi, (x, -h_conductor-A, -A))\n",
    "plt += plot(arg(Hy_vacuum_d)/pi, (x, -A, 0))\n",
    "plt += plot(arg(Hy_right_conductor_d)/pi, (x, 0, h_conductor))\n",
    "plt.show(title=\"График Arg тангенциальной компоненты напряженности магнитного поля H\")"
   ]
  },
  {
   "cell_type": "code",
   "execution_count": null,
   "metadata": {},
   "outputs": [],
   "source": []
  },
  {
   "cell_type": "code",
   "execution_count": null,
   "metadata": {},
   "outputs": [],
   "source": [
    "plt  = plot(arg(Hy_left_conductor_d)/pi  - arg(Ez_left_conductor_d(x=x))/pi, (x, -h_conductor-A, -A))\n",
    "plt += plot(arg(Hy_vacuum_d)/pi          - arg(Ez_vacuum_d(x=x))/pi, (x, -A, 0))\n",
    "plt += plot(arg(Hy_right_conductor_d)/pi - arg(Ez_right_conductor_d(x=x))/pi, (x, 0, h_conductor))\n",
    "plt.show(title=\"График delta Arg тангенциальных компонент H и E\")"
   ]
  },
  {
   "cell_type": "code",
   "execution_count": null,
   "metadata": {},
   "outputs": [],
   "source": []
  },
  {
   "cell_type": "markdown",
   "metadata": {},
   "source": [
    "Решение получено.\n",
    "\n",
    "Теперь посчитаем:\n",
    "\n",
    "1) пондеромоторную силу, приложенную к идеальному проводнику\n",
    "\n",
    "2) пондеромоторную силу, приложенную к границе диэлектрика и вакуума\n"
   ]
  },
  {
   "cell_type": "code",
   "execution_count": null,
   "metadata": {},
   "outputs": [],
   "source": []
  },
  {
   "cell_type": "markdown",
   "metadata": {},
   "source": [
    "1) пондеромоторная сила, приложенная к идеальному проводнику"
   ]
  },
  {
   "cell_type": "code",
   "execution_count": null,
   "metadata": {},
   "outputs": [],
   "source": [
    "# superconductor force\n",
    "# additional 1/2 arises as result of integration on period\n",
    "#f_superconductor = - abs((even_H_inner_vacuum_y (0)^2) / (2*8*pi))\n",
    "f_left_conductor = - (Hy_vacuum_d (x=-A).real()^2 + Hy_vacuum_d (x=-A).imag()^2) / (2*8*pi)\n",
    "print(\"f_left_conductor =\", f_left_conductor.n())"
   ]
  },
  {
   "cell_type": "markdown",
   "metadata": {},
   "source": [
    "2) пондеромоторная сила, приложенная к плохому проводнику"
   ]
  },
  {
   "cell_type": "code",
   "execution_count": null,
   "metadata": {},
   "outputs": [],
   "source": [
    "# bad conductor force\n",
    "# additional 1/2 arises as result of integration on period\n",
    "#f_bad_conductor = abs((even_H_inner_vacuum_y (a)^2) / (2*8*pi))\n",
    "f_right_conductor = (Hy_vacuum_d (x=0).real()^2 + Hy_vacuum_d (x=0).imag()^2) / (2*8*pi)\n",
    "\n",
    "print(\"f_right_conductor =\", f_right_conductor.n())"
   ]
  },
  {
   "cell_type": "code",
   "execution_count": null,
   "metadata": {},
   "outputs": [],
   "source": []
  },
  {
   "cell_type": "code",
   "execution_count": null,
   "metadata": {},
   "outputs": [],
   "source": [
    "(f_left_conductor + f_right_conductor).n()"
   ]
  },
  {
   "cell_type": "code",
   "execution_count": null,
   "metadata": {},
   "outputs": [],
   "source": []
  },
  {
   "cell_type": "code",
   "execution_count": null,
   "metadata": {},
   "outputs": [],
   "source": [
    "# Static and dynamic electricity by William R. Smythe, second edition, 1950\n",
    "# paragraph 18 formula 1.47\n",
    "# давление на границу равно разности давлений по обе стороны от нее\n",
    "# $$ P_n = \\frac{1}{2} \\epsilon'{{E'}_t}^2 - \\frac{1}{2} \\epsilon''{{E''}_t}^2 $$"
   ]
  },
  {
   "cell_type": "markdown",
   "metadata": {},
   "source": [
    "$$ P_n = \\frac{1}{2} \\epsilon'{{E'}_t}^2 - \\frac{1}{2} \\epsilon''{{E''}_t}^2 $$"
   ]
  },
  {
   "cell_type": "code",
   "execution_count": null,
   "metadata": {},
   "outputs": [],
   "source": [
    "# bad conductor force\n",
    "# additional 1/2 arises as result of integration on period\n",
    "p_left_conductor = -(((epsilon_l_complex - 1.0)*Ez_vacuum_d(x=-A))*Ez_vacuum_d(x=-A)/(2*8*pi)).subs(digit_values).abs()\n",
    "print(\"p_left_conductor =\", p_left_conductor.n())"
   ]
  },
  {
   "cell_type": "code",
   "execution_count": null,
   "metadata": {},
   "outputs": [],
   "source": [
    "# bad conductor force\n",
    "# additional 1/2 arises as result of integration on period\n",
    "p_right_conductor = (((1.0 - epsilon_r_complex)*Ez_vacuum_d(x=0))*Ez_vacuum_d(x=0)/(2*8*pi)).subs(digit_values).abs()\n",
    "print(\"p_right_conductor =\", p_right_conductor.n())"
   ]
  },
  {
   "cell_type": "code",
   "execution_count": null,
   "metadata": {},
   "outputs": [],
   "source": [
    "# Static and dynamic electricity by William R. Smythe, second edition, 1950\n",
    "# paragraph 18 formula 1.45\n",
    "# натяжение на границе, созданное нормальными компонентами индукции\n",
    "# должно равняться разности натяжений по обе стороны от границы\n",
    "# $$ T_n = \\frac{{{D'}_n}^2}{2 \\epsilon'} - \\frac{{{D''}_n}^2}{2 \\epsilon''} $$"
   ]
  },
  {
   "cell_type": "markdown",
   "metadata": {},
   "source": [
    "$$ T_n = \\frac{{{D'}_n}^2}{2 \\epsilon'} - \\frac{{{D''}_n}^2}{2 \\epsilon''} $$"
   ]
  },
  {
   "cell_type": "code",
   "execution_count": null,
   "metadata": {
    "scrolled": true
   },
   "outputs": [],
   "source": [
    "# super conductor tension\n",
    "# additional 1/2 arises as result of integration on period\n",
    "# epsilon_superconductor -> Infinity\n",
    "# 1 / epsilon_superconductor -> 0.0\n",
    "\n",
    "t_left_conductor = -(((1/epsilon_l_complex - 1/1.)*(Dx_vacuum_d (x=-A)))*Dx_vacuum_d(x=-A)/(2*8*pi)).subs(digit_values).abs() \n",
    "print(\"t_left_conductor =\", t_left_conductor.n())"
   ]
  },
  {
   "cell_type": "code",
   "execution_count": null,
   "metadata": {},
   "outputs": [],
   "source": [
    "# bad conductor force\n",
    "# additional 1/2 arises as result of integration on period\n",
    "t_right_conductor = (((1.0/1.0 - 1/epsilon_r_complex)*Dx_vacuum_d (x=0)) * Dx_vacuum_d(x=0)/(2*8*pi)).subs(digit_values).abs()\n",
    "print(\"t_right_conductor =\", t_right_conductor.n())"
   ]
  },
  {
   "cell_type": "code",
   "execution_count": null,
   "metadata": {},
   "outputs": [],
   "source": []
  },
  {
   "cell_type": "markdown",
   "metadata": {},
   "source": [
    "Результаты вычислений показывают, что тяга в волновом двигателе с внутренним расходом энергии Ф.Ф.Менде (MenDrive) ненулевая и равна"
   ]
  },
  {
   "cell_type": "code",
   "execution_count": null,
   "metadata": {},
   "outputs": [],
   "source": [
    "(f_left_conductor + f_right_conductor + t_left_conductor + t_right_conductor).n()"
   ]
  },
  {
   "cell_type": "code",
   "execution_count": null,
   "metadata": {},
   "outputs": [],
   "source": [
    "(f_left_conductor + f_right_conductor + t_left_conductor + t_right_conductor - p_left_conductor - p_right_conductor).n()"
   ]
  },
  {
   "cell_type": "code",
   "execution_count": null,
   "metadata": {},
   "outputs": [],
   "source": [
    "# H^2/8 pi"
   ]
  },
  {
   "cell_type": "code",
   "execution_count": null,
   "metadata": {},
   "outputs": [],
   "source": [
    "(f_left_conductor + f_right_conductor).n()"
   ]
  },
  {
   "cell_type": "code",
   "execution_count": null,
   "metadata": {},
   "outputs": [],
   "source": [
    "(t_left_conductor + t_right_conductor).n()"
   ]
  },
  {
   "cell_type": "code",
   "execution_count": null,
   "metadata": {},
   "outputs": [],
   "source": [
    "(- p_left_conductor - p_right_conductor).n()"
   ]
  },
  {
   "cell_type": "code",
   "execution_count": null,
   "metadata": {},
   "outputs": [],
   "source": []
  },
  {
   "cell_type": "code",
   "execution_count": null,
   "metadata": {},
   "outputs": [],
   "source": [
    "field_energy = (A1_z_re^2 + A1_z_im^2).subs(coeffs_subs)\n",
    "field_energy"
   ]
  },
  {
   "cell_type": "code",
   "execution_count": null,
   "metadata": {},
   "outputs": [],
   "source": []
  },
  {
   "cell_type": "code",
   "execution_count": null,
   "metadata": {},
   "outputs": [],
   "source": [
    "(f_left_conductor + f_right_conductor).n()/(field_energy)"
   ]
  },
  {
   "cell_type": "code",
   "execution_count": null,
   "metadata": {},
   "outputs": [],
   "source": [
    "(t_left_conductor + t_right_conductor).n()/(field_energy)"
   ]
  },
  {
   "cell_type": "code",
   "execution_count": null,
   "metadata": {},
   "outputs": [],
   "source": [
    "(- p_left_conductor - p_right_conductor).n()/(field_energy)"
   ]
  },
  {
   "cell_type": "code",
   "execution_count": null,
   "metadata": {},
   "outputs": [],
   "source": [
    "(+ f_left_conductor + f_right_conductor \\\n",
    " + t_left_conductor + t_right_conductor \\\n",
    " - p_left_conductor - p_right_conductor).n()/(field_energy)"
   ]
  },
  {
   "cell_type": "code",
   "execution_count": null,
   "metadata": {},
   "outputs": [],
   "source": []
  },
  {
   "cell_type": "code",
   "execution_count": null,
   "metadata": {},
   "outputs": [],
   "source": [
    "#мощность выделения тепла в единице объёма\n",
    "#https://ru.wikipedia.org/wiki/%D0%97%D0%B0%D0%BA%D0%BE%D0%BD_%D0%94%D0%B6%D0%BE%D1%83%D0%BB%D1%8F_%E2%80%94_%D0%9B%D0%B5%D0%BD%D1%86%D0%B0\n",
    "# https://en.wikipedia.org/wiki/Joule_heating\n",
    "# additional 1/2 arises as result of integration on period\n",
    "# dPdV = E^2*sigma / 2\n",
    "# dPdS = integrate(E^2*sigma / 2, x)"
   ]
  },
  {
   "cell_type": "code",
   "execution_count": null,
   "metadata": {},
   "outputs": [],
   "source": [
    "wr = lambda x : sigma_r_d * (Ez_right_conductor_d(x=x).abs()^2 + Ex_right_conductor_d(x=x).abs()^2)"
   ]
  },
  {
   "cell_type": "code",
   "execution_count": null,
   "metadata": {},
   "outputs": [],
   "source": [
    "wrz = lambda x : sigma_r_d * Ez_right_conductor_d(x=x).abs()^2"
   ]
  },
  {
   "cell_type": "code",
   "execution_count": null,
   "metadata": {},
   "outputs": [],
   "source": [
    "wrx = lambda x : sigma_r_d * Ex_right_conductor_d(x=x).abs()^2"
   ]
  },
  {
   "cell_type": "code",
   "execution_count": null,
   "metadata": {},
   "outputs": [],
   "source": [
    "wl = lambda x : sigma_l_d * (Ez_left_conductor_d(x=x).abs()^2 + Ex_left_conductor_d(x=x).abs()^2)"
   ]
  },
  {
   "cell_type": "raw",
   "metadata": {},
   "source": [
    "from scipy import integrate as scipy_integrate\n",
    "w_r = scipy_integrate.quad(wr, 0, +Infinity)\n",
    "w_r\n",
    "\n",
    "#IntegrationWarning: The occurrence of roundoff error is detected, which prevents \n",
    "#  the requested tolerance from being achieved.  The error may be \n",
    "#  underestimated."
   ]
  },
  {
   "cell_type": "raw",
   "metadata": {},
   "source": [
    "from scipy import integrate as scipy_integrate\n",
    "w_rz = scipy_integrate.quad(wrz, 0, +Infinity)\n",
    "w_rz\n",
    "\n",
    "#IntegrationWarning: The occurrence of roundoff error is detected, which prevents \n",
    "#  the requested tolerance from being achieved.  The error may be \n",
    "#  underestimated."
   ]
  },
  {
   "cell_type": "code",
   "execution_count": null,
   "metadata": {},
   "outputs": [],
   "source": [
    "from scipy import integrate as scipy_integrate\n",
    "w_rx = scipy_integrate.quad(wrx, 0, +Infinity)\n",
    "w_rx"
   ]
  },
  {
   "cell_type": "code",
   "execution_count": null,
   "metadata": {},
   "outputs": [],
   "source": [
    "w_l = scipy_integrate.quad(wl, -Infinity, -h_conductor-A)\n",
    "w_l"
   ]
  },
  {
   "cell_type": "code",
   "execution_count": null,
   "metadata": {},
   "outputs": [],
   "source": [
    "W_l = w_l[0]\n",
    "W_l"
   ]
  },
  {
   "cell_type": "code",
   "execution_count": null,
   "metadata": {},
   "outputs": [],
   "source": [
    "W_r = integrate(sigma_r_d * (Ez_right_conductor_d(x=x).abs()^2 + Ex_right_conductor_d(x=x).abs()^2), (x, 0, +Infinity), algorithm = 'sympy').n()\n",
    "W_r"
   ]
  },
  {
   "cell_type": "raw",
   "metadata": {},
   "source": [
    "W_l = integrate(sigma_l_d * (Ez_left_conductor_d(x=x).abs()^2 + Ex_left_conductor_d(x=x).abs()^2), (x, -Infinity, -h_conductor-A), algorithm = 'sympy'  )\n",
    "# too long time\n",
    "W_l"
   ]
  },
  {
   "cell_type": "code",
   "execution_count": null,
   "metadata": {},
   "outputs": [],
   "source": [
    "W = W_r + W_l\n",
    "W"
   ]
  },
  {
   "cell_type": "code",
   "execution_count": null,
   "metadata": {},
   "outputs": [],
   "source": [
    "# F / P\n",
    "# dyne / (erg/s)\n",
    "\n",
    "# 1 erg  = 10^-7 joule\n",
    "# 1 dyne = 10^-5 N\n",
    "\n",
    "# 1 dyne / (erg/s) = 10^-5 / (10^-7) = 100 N/watt"
   ]
  },
  {
   "cell_type": "code",
   "execution_count": null,
   "metadata": {},
   "outputs": [],
   "source": [
    "(f_left_conductor + f_right_conductor).n()/(W)"
   ]
  },
  {
   "cell_type": "code",
   "execution_count": null,
   "metadata": {},
   "outputs": [],
   "source": [
    "(t_left_conductor + t_right_conductor).n()/(W)"
   ]
  },
  {
   "cell_type": "code",
   "execution_count": null,
   "metadata": {},
   "outputs": [],
   "source": [
    "(- p_left_conductor - p_right_conductor).n()/(W)"
   ]
  },
  {
   "cell_type": "code",
   "execution_count": null,
   "metadata": {},
   "outputs": [],
   "source": [
    "# N/watt"
   ]
  },
  {
   "cell_type": "code",
   "execution_count": null,
   "metadata": {},
   "outputs": [],
   "source": [
    "100*(+ f_left_conductor + f_right_conductor \\\n",
    " + t_left_conductor + t_right_conductor \\\n",
    " - p_left_conductor - p_right_conductor).n()/(W)"
   ]
  },
  {
   "cell_type": "code",
   "execution_count": null,
   "metadata": {},
   "outputs": [],
   "source": [
    "# N/kwatt"
   ]
  },
  {
   "cell_type": "code",
   "execution_count": null,
   "metadata": {},
   "outputs": [],
   "source": [
    "10^5*(+ f_left_conductor + f_right_conductor \\\n",
    " + t_left_conductor + t_right_conductor \\\n",
    " - p_left_conductor - p_right_conductor).n()/(W)"
   ]
  },
  {
   "cell_type": "markdown",
   "metadata": {},
   "source": [
    "положительный знак соответствует направлению тяги в сторону увеличения значений x"
   ]
  },
  {
   "cell_type": "code",
   "execution_count": null,
   "metadata": {},
   "outputs": [],
   "source": [
    "#Propulsion and Energy Forum\n",
    "#July 28-30, 2014, Cleveland, OH\n",
    "#50th AIAA/ASME/SAE/ASEE Joint Propulsion Conference\n",
    "#Anomalous Thrust Production from an RF Test Device\n",
    "#Measured on a Low-Thrust Torsion Pendulum\n",
    "#David A. Brady * , Harold G. White † , Paul March ‡ , James T. Lawrence § , and Frank J. Davies **\n",
    "#NASA Lyndon B. Johnson Space Center, Houston, Texas 77058\n",
    "\n",
    "\n",
    "#Tapered Cavity RF Evaluation and Testing, TE012 mode\n",
    "#Prior to the TM211 evaluations, COMSOL® analysis indicated that the TE012 was an effective thrust generation\n",
    "#mode for the tapered cavity thruster being evaluated, so this mode was explored early in the evaluation process.\n",
    "#Figure 22 shows a test run at the TE012 mode with an operating frequency of 1880.4 MHz. The measured quality\n",
    "#factor was ~22,000, with a COMSOL prediction of 21,817. The measured power applied to the test article was\n",
    "#measured to be 2.6 watts, and the (net) measured thrust was 55.4 micronewtons. With an input power of 2.6 watts,\n",
    "#correcting for the quality factor, the predicted thrust is 50 micronewtons. However, since the TE012 mode had\n",
    "#numerous other RF modes in very close proximity, it was impractical to repeatedly operate the system in this mode,\n",
    "#so the decision was made to evaluate the TM211 modes instead.\n",
    "\n",
    "#E. Tapered Cavity Testing: Summary of Results\n",
    "# Mode \n",
    "# Frequency (MHz)\n",
    "# Quality Factor, Q \n",
    "\n",
    "# Input Power (W) \n",
    "# Peak Thrust (μN) \n",
    "# Mean Thrust (μN) \n",
    "# Number of Test Runs\n",
    "# TM211 1932.6   7320  16.9  116.0   91.2  5\n",
    "# TM211 1936.7 18,100  16.7   54.1   50.1  2\n",
    "# TE012 1880.4 22,000   2.6   55.4   55.4  1\n",
    "\n",
    "# Harrington, Roger F. (1961). Time-Harmonic Electromagnetic Fields. McGraw-Hill. ISBN 9780070267459.\n",
    "\n",
    "# EEE TRANSACTIONS ON MICROWAVE THEORY AND TECHNIQUES, VOL. 54, NO. 4, APRIL 2006\n",
    "# Two-Resonator Method for Measurement of Dielectric Anisotropy in Multilayer SamplesPlamen I. Dankov, Member, IEEE\n",
    "# https://www.researchgate.net/publication/3131333_Two-resonator_method_for_measurement_of_dielectric_anisotropy_in_multilayer_samples"
   ]
  },
  {
   "cell_type": "code",
   "execution_count": null,
   "metadata": {},
   "outputs": [],
   "source": [
    "# they have obtained\n",
    "# 0,005396449704142\n",
    "# 0,003\n",
    "# 0,0213076923076923\n",
    "# N/kwatt"
   ]
  },
  {
   "cell_type": "code",
   "execution_count": null,
   "metadata": {},
   "outputs": [],
   "source": [
    "# test found solution with Maxwell equations"
   ]
  },
  {
   "cell_type": "markdown",
   "metadata": {},
   "source": [
    "$$rot\\,\\vec{E} = \\mu\\,\\frac{i\\,\\omega}{c}\\,\\vec{H}$$\n",
    "\n",
    "$$rot\\,\\vec{H} = \\frac{1}{c}\\frac{\\partial \\vec D}{\\partial t} + \\frac{4\\pi}{c} \\vec j = - \\frac{i\\,\\omega}{c} \\epsilon \\vec{E} + \\frac{4\\pi}{c}\\sigma \\vec E$$\n",
    "\n",
    "$$rot\\,rot\\,\\vec{E} = \\mu\\,\\frac{i\\,\\omega}{c}rot\\,\\vec{H}$$\n",
    "\n",
    "$$rot\\,rot\\,\\vec{E} = \\mu\\,\\frac{i\\,\\omega}{c}\\left(- \\frac{i\\,\\omega}{c} \\epsilon \\vec{E} + \\frac{4\\pi}{c}\\sigma \\vec E\\right)$$\n",
    "\n",
    "$$rot\\,rot\\,\\vec{E} = \\epsilon \\mu\\,\\frac{\\omega^2}{c^2} \\vec{E} + i\\,\\omega\\,\\sigma\\,\\mu\\,\\frac{4\\pi}{c^2} \\vec E$$\n",
    "\n",
    "$$rot\\,rot\\,\\vec{E} = grad\\,div\\,\\vec{E} - Laplasian\\,\\vec{E}$$\n",
    "\n",
    "$$Laplasian\\,\\vec{E} + \\epsilon \\mu \\frac{\\omega^2}{c^2}\\,\\vec{E} + i\\,\\omega\\,\\sigma\\,\\mu\\,\\frac{4\\pi}{c^2} \\vec E - grad\\,div\\,\\vec{E} = 0$$"
   ]
  },
  {
   "cell_type": "code",
   "execution_count": null,
   "metadata": {},
   "outputs": [],
   "source": [
    "# уравнение Максвелла для тока смещения\n",
    "# rot_H   = - I * epsilon * omega / c * E\n",
    "# rot_H_x = diff(H_z, y) - diff(H_y, z)\n",
    "# rot_H_y = diff(H_x, z) - diff(H_z, x)\n",
    "# rot_H_z = diff(H_y, x) - diff(H_x, y)"
   ]
  },
  {
   "cell_type": "code",
   "execution_count": null,
   "metadata": {},
   "outputs": [],
   "source": [
    "rot_H_vacuum_x_d = - diff(Hy_vacuum_d(x=x)*e^(I*k_z*z), z).subs(k_z == kz + I * sz).subs(k_z_sol)\n",
    "rot_H_vacuum_y_d =   0\n",
    "rot_H_vacuum_z_d =   diff(Hy_vacuum_d(x=x)*e^(I*k_z*z), x).subs(k_z == kz + I * sz).subs(k_z_sol)"
   ]
  },
  {
   "cell_type": "code",
   "execution_count": null,
   "metadata": {},
   "outputs": [],
   "source": [
    "eq_rot_H_vacuum_x_d = rot_H_vacuum_x_d == \\\n",
    "(-I*omega/c*Ex_vacuum_d(x=x)*e^(I*k_z*z)).subs(k_z==kz+I*sz).subs(k_z_sol).subs(digit_values)"
   ]
  },
  {
   "cell_type": "code",
   "execution_count": null,
   "metadata": {},
   "outputs": [],
   "source": [
    "eq_rot_H_vacuum_z_d = rot_H_vacuum_z_d == \\\n",
    "(-I*omega/c*Ez_vacuum_d(x=x)*e^(I*k_z*z)).subs(k_z==kz+I*sz).subs(k_z_sol).subs(digit_values)"
   ]
  },
  {
   "cell_type": "code",
   "execution_count": null,
   "metadata": {},
   "outputs": [],
   "source": []
  },
  {
   "cell_type": "code",
   "execution_count": null,
   "metadata": {},
   "outputs": [],
   "source": [
    "(eq_rot_H_vacuum_x_d.rhs() / eq_rot_H_vacuum_x_d.lhs()).n()"
   ]
  },
  {
   "cell_type": "code",
   "execution_count": null,
   "metadata": {},
   "outputs": [],
   "source": [
    "plot((eq_rot_H_vacuum_z_d.rhs() / eq_rot_H_vacuum_z_d.lhs()).real(), (x, -A, 0))"
   ]
  },
  {
   "cell_type": "code",
   "execution_count": null,
   "metadata": {},
   "outputs": [],
   "source": [
    "plt =  plot(eq_rot_H_vacuum_z_d.rhs().real().subs(z == 0), (x, -A, 0))\n",
    "plt += plot(eq_rot_H_vacuum_z_d.lhs().real().subs(z == 0), (x, -A, 0))\n",
    "plt.show()"
   ]
  },
  {
   "cell_type": "code",
   "execution_count": null,
   "metadata": {},
   "outputs": [],
   "source": [
    "plot((eq_rot_H_vacuum_z_d.rhs() / eq_rot_H_vacuum_z_d.lhs()).imag(), (x, -A, 0))"
   ]
  },
  {
   "cell_type": "code",
   "execution_count": null,
   "metadata": {},
   "outputs": [],
   "source": [
    "plt = plot(eq_rot_H_vacuum_z_d.rhs().imag().subs(z == 0), (x, -A, 0))\n",
    "plt += plot(eq_rot_H_vacuum_z_d.lhs().imag().subs(z == 0), (x, -A, 0))\n",
    "plt.show()"
   ]
  },
  {
   "cell_type": "code",
   "execution_count": null,
   "metadata": {},
   "outputs": [],
   "source": []
  },
  {
   "cell_type": "markdown",
   "metadata": {},
   "source": [
    "$$rot\\,\\vec{H} = \\frac{1}{c}\\frac{\\partial \\vec D}{\\partial t} + \\frac{4\\pi}{c} \\vec j = - \\frac{i\\,\\omega}{c} \\epsilon \\vec{E} + \\frac{4\\pi}{c}\\sigma \\vec E$$"
   ]
  },
  {
   "cell_type": "code",
   "execution_count": null,
   "metadata": {},
   "outputs": [],
   "source": [
    "# уравнение Максвелла для тока смещения\n",
    "# rot_H   = - I * epsilon * omega / c * E + 4 * pi / c * sigma * E\n",
    "# rot_H_x = diff(H_z, y) - diff(H_y, z)\n",
    "# rot_H_y = diff(H_x, z) - diff(H_z, x)\n",
    "# rot_H_z = diff(H_y, x) - diff(H_x, y)"
   ]
  },
  {
   "cell_type": "code",
   "execution_count": null,
   "metadata": {},
   "outputs": [],
   "source": [
    "rot_H_conductor_x_d = - diff(Hy_bad_conductor_d(x=x)*e^(I*k_z*z), z).subs(k_z == kz + I * sz).subs(k_z_sol)\n",
    "rot_H_conductor_y_d =   0\n",
    "rot_H_conductor_z_d =   diff(Hy_bad_conductor_d(x=x)*e^(I*k_z*z), x).subs(k_z == kz + I * sz).subs(k_z_sol)"
   ]
  },
  {
   "cell_type": "code",
   "execution_count": null,
   "metadata": {},
   "outputs": [],
   "source": [
    "Hy_bad_conductor = c * (eq_8_subs3.rhs()*kappa        / (mu  *omega))\n",
    "Hy_vacuum        = c * (eq_6_subs3.rhs()*kappa_vacuum / (mu_0*omega))"
   ]
  },
  {
   "cell_type": "code",
   "execution_count": null,
   "metadata": {},
   "outputs": [],
   "source": [
    "rot_H_conductor_x = - diff(Hy_bad_conductor(x=x)*e^(I*k_z*z), z)\n",
    "rot_H_conductor_y =   0\n",
    "rot_H_conductor_z =   diff(Hy_bad_conductor(x=x)*e^(I*k_z*z), x)"
   ]
  },
  {
   "cell_type": "code",
   "execution_count": null,
   "metadata": {},
   "outputs": [],
   "source": [
    "eq_rot_H_conductor_x_d = rot_H_conductor_x_d == \\\n",
    "((-I*epsilon_complex*omega/c) * Ex_bad_conductor_d(x=x)*e^(I*k_z*z)).subs(k_z == kz + I * sz).subs(k_z_sol).subs(digit_values)"
   ]
  },
  {
   "cell_type": "code",
   "execution_count": null,
   "metadata": {},
   "outputs": [],
   "source": [
    "eq_rot_H_conductor_x = rot_H_conductor_x == \\\n",
    "((-I*epsilon_complex*omega/c) * Ex_bad_conductor(x=x)*e^(I*k_z*z))#.subs(k_z == kz + I * sz).subs(k_z_sol).subs(digit_values)"
   ]
  },
  {
   "cell_type": "code",
   "execution_count": null,
   "metadata": {},
   "outputs": [],
   "source": []
  },
  {
   "cell_type": "code",
   "execution_count": null,
   "metadata": {},
   "outputs": [],
   "source": [
    "(eq_rot_H_conductor_x_d.lhs() / eq_rot_H_conductor_x_d.rhs()).n()"
   ]
  },
  {
   "cell_type": "code",
   "execution_count": null,
   "metadata": {},
   "outputs": [],
   "source": [
    "(eq_rot_H_conductor_x_d.lhs() / eq_rot_H_conductor_x_d.rhs()).abs().n()"
   ]
  },
  {
   "cell_type": "code",
   "execution_count": null,
   "metadata": {},
   "outputs": [],
   "source": [
    "(eq_rot_H_conductor_z_d.lhs() / eq_rot_H_conductor_z_d.rhs()).n()"
   ]
  },
  {
   "cell_type": "code",
   "execution_count": null,
   "metadata": {},
   "outputs": [],
   "source": []
  },
  {
   "cell_type": "code",
   "execution_count": null,
   "metadata": {},
   "outputs": [],
   "source": [
    "Ez_vacuum_d (x=x).variables(), Ez_bad_conductor_d (x=x).variables()"
   ]
  },
  {
   "cell_type": "code",
   "execution_count": null,
   "metadata": {},
   "outputs": [],
   "source": [
    "Ex_vacuum_d (x=x).variables(), Ex_bad_conductor_d (x=x).variables()"
   ]
  },
  {
   "cell_type": "markdown",
   "metadata": {},
   "source": [
    "$$rot\\,\\vec{E} = \\mu\\,\\frac{i\\,\\omega}{c}\\,\\vec{H}$$"
   ]
  },
  {
   "cell_type": "code",
   "execution_count": null,
   "metadata": {},
   "outputs": [],
   "source": [
    "# уравнение Максвелла для\n",
    "# rot_E   = I * mu * omega / c * H\n",
    "# rot_E_x = diff(E_z, y) - diff(E_y, z)\n",
    "# rot_E_y = diff(E_x, z) - diff(E_z, x)\n",
    "# rot_E_z = diff(E_y, x) - diff(E_x, y)"
   ]
  },
  {
   "cell_type": "code",
   "execution_count": null,
   "metadata": {},
   "outputs": [],
   "source": [
    "rot_E_vacuum_x_d = diff(Ez_vacuum_d(x=x)*e^(I*k_z*z), y)\n",
    "rot_E_vacuum_y_d = diff(Ex_vacuum_d(x=x)*e^(I*k_z*z), z) - diff(Ez_vacuum_d(x=x)*e^(I*k_z*z), x)\n",
    "rot_E_vacuum_z_d = - diff(Ex_vacuum_d(x=x)*e^(I*k_z*z), y)"
   ]
  },
  {
   "cell_type": "code",
   "execution_count": null,
   "metadata": {},
   "outputs": [],
   "source": [
    "eq_rot_E_vacuum_x_d = rot_E_vacuum_x_d == \\\n",
    "(I * omega / c * 0)"
   ]
  },
  {
   "cell_type": "code",
   "execution_count": null,
   "metadata": {},
   "outputs": [],
   "source": [
    "eq_rot_E_vacuum_y_d = (rot_E_vacuum_y_d == \\\n",
    "I * mu * omega / c * Hy_vacuum_d(x=x)*e^(I*k_z*z)).subs(k_z == kz + I * sz).subs(k_z_sol).subs(digit_values)"
   ]
  },
  {
   "cell_type": "code",
   "execution_count": null,
   "metadata": {},
   "outputs": [],
   "source": [
    "eq_rot_E_vacuum_z_d = rot_E_vacuum_z_d == \\\n",
    "(I * mu * omega / c * 0)"
   ]
  },
  {
   "cell_type": "code",
   "execution_count": null,
   "metadata": {},
   "outputs": [],
   "source": []
  },
  {
   "cell_type": "code",
   "execution_count": null,
   "metadata": {},
   "outputs": [],
   "source": [
    "(eq_rot_E_vacuum_y_d.rhs() / eq_rot_E_vacuum_y_d.lhs()).variables()"
   ]
  },
  {
   "cell_type": "code",
   "execution_count": null,
   "metadata": {},
   "outputs": [],
   "source": [
    "plt = plot(eq_rot_E_vacuum_y_d.rhs().real().subs(z == 0), (x, -A, 0))\n",
    "plt += plot(eq_rot_E_vacuum_y_d.lhs().real().subs(z == 0), (x, -A, 0))\n",
    "plt.show()"
   ]
  },
  {
   "cell_type": "code",
   "execution_count": null,
   "metadata": {},
   "outputs": [],
   "source": [
    "plt = plot(eq_rot_E_vacuum_y_d.rhs().imag().subs(z == 0), (x, -A, 0))\n",
    "plt += plot(eq_rot_E_vacuum_y_d.lhs().imag().subs(z == 0), (x, -A, 0))\n",
    "plt.show()"
   ]
  },
  {
   "cell_type": "code",
   "execution_count": null,
   "metadata": {},
   "outputs": [],
   "source": [
    "plt = plot(eq_rot_E_vacuum_y_d.rhs().abs().subs(z == 0), (x, -A, 0))\n",
    "plt += plot(eq_rot_E_vacuum_y_d.lhs().abs().subs(z == 0), (x, -A, 0))\n",
    "plt.show()"
   ]
  },
  {
   "cell_type": "code",
   "execution_count": null,
   "metadata": {},
   "outputs": [],
   "source": []
  },
  {
   "cell_type": "code",
   "execution_count": null,
   "metadata": {},
   "outputs": [],
   "source": [
    "# уравнение Максвелла для\n",
    "# rot_E   = I * mu * omega / c * H\n",
    "# rot_E_x = diff(E_z, y) - diff(E_y, z)\n",
    "# rot_E_y = diff(E_x, z) - diff(E_z, x)\n",
    "# rot_E_z = diff(E_y, x) - diff(E_x, y)"
   ]
  },
  {
   "cell_type": "code",
   "execution_count": null,
   "metadata": {},
   "outputs": [],
   "source": [
    "rot_E_conductor_x_d = diff(Ez_bad_conductor_d(x=x)*e^(I*k_z*z), y)\n",
    "rot_E_conductor_y_d = diff(Ex_bad_conductor_d(x=x)*e^(I*k_z*z), z) - diff(Ez_bad_conductor_d(x=x)*e^(I*k_z*z), x)\n",
    "rot_E_conductor_z_d = - diff(Ex_bad_conductor_d(x=x)*e^(I*k_z*z), y)"
   ]
  },
  {
   "cell_type": "code",
   "execution_count": null,
   "metadata": {},
   "outputs": [],
   "source": [
    "eq_rot_E_conductor_x_d = rot_E_conductor_x_d == \\\n",
    "(I * mu * omega / c * 0)"
   ]
  },
  {
   "cell_type": "code",
   "execution_count": null,
   "metadata": {},
   "outputs": [],
   "source": [
    "eq_rot_E_conductor_y_d = (rot_E_conductor_y_d == \\\n",
    "I * mu * omega / c * Hy_bad_conductor_d(x)*e^(I*k_z*z)).subs(k_z == kz + I * sz).subs(k_z_sol).subs(digit_values)"
   ]
  },
  {
   "cell_type": "code",
   "execution_count": null,
   "metadata": {},
   "outputs": [],
   "source": [
    "eq_rot_E_conductor_z_d = rot_E_conductor_z_d == \\\n",
    "(I * mu * omega / c * 0)"
   ]
  },
  {
   "cell_type": "code",
   "execution_count": null,
   "metadata": {},
   "outputs": [],
   "source": []
  },
  {
   "cell_type": "code",
   "execution_count": null,
   "metadata": {},
   "outputs": [],
   "source": [
    "(eq_rot_E_conductor_y_d.rhs() / eq_rot_E_conductor_y_d.lhs()).variables()"
   ]
  },
  {
   "cell_type": "code",
   "execution_count": null,
   "metadata": {},
   "outputs": [],
   "source": []
  },
  {
   "cell_type": "code",
   "execution_count": null,
   "metadata": {},
   "outputs": [],
   "source": [
    "plt = plot(eq_rot_E_conductor_y_d.rhs().real().subs(z == 0), (x, 0, A))\n",
    "plt += plot(eq_rot_E_conductor_y_d.lhs().real().subs(z == 0), (x, 0, A))\n",
    "plt.show()"
   ]
  },
  {
   "cell_type": "code",
   "execution_count": null,
   "metadata": {},
   "outputs": [],
   "source": [
    "plt = plot(eq_rot_E_conductor_y_d.rhs().imag().subs(z == 0), (x, 0, A))\n",
    "plt += plot(eq_rot_E_conductor_y_d.lhs().imag().subs(z == 0), (x, 0, A))\n",
    "plt.show()"
   ]
  },
  {
   "cell_type": "code",
   "execution_count": null,
   "metadata": {},
   "outputs": [],
   "source": []
  },
  {
   "cell_type": "code",
   "execution_count": null,
   "metadata": {},
   "outputs": [],
   "source": [
    "#test found solution with boundary conditions"
   ]
  },
  {
   "cell_type": "code",
   "execution_count": null,
   "metadata": {},
   "outputs": [],
   "source": []
  },
  {
   "cell_type": "code",
   "execution_count": null,
   "metadata": {},
   "outputs": [],
   "source": [
    "# граничные условия на границе идеального проводника и вакуума внутри резонатора\n",
    "# тангенциальная компонента электрического поля\n",
    "eqEz_0_d  = Ez_vacuum_d (x=-A) == 0\n",
    "#eqEy_0_d  = even_E_inner_vacuum_y_d (0) == 0\n",
    "\n",
    "print (\"eqEz_0_d.real = \")\n",
    "display(Math(latex(eqEz_0_d.lhs().real().n())))\n",
    "print (\"eqEz_0_d.imag = \")\n",
    "display(Math(latex(eqEz_0_d.lhs().imag().n())))"
   ]
  },
  {
   "cell_type": "code",
   "execution_count": null,
   "metadata": {},
   "outputs": [],
   "source": [
    "# граничные условия на границе вакуума внутри резонатора и проводящего металла с потерями\n",
    "# тангенциальная компонента электрического поля\n",
    "eqEz_a_d  = Ez_vacuum_d (x=0) == Ez_bad_conductor_d (x=0)\n",
    "#eqEy_a  = E_inner_vacuum_y (a) == E_bad_conductor_y (a)\n",
    "\n",
    "print (\"eqEz_a_d = \")\n",
    "display(Math(latex(eqEz_a_d)))"
   ]
  },
  {
   "cell_type": "code",
   "execution_count": null,
   "metadata": {},
   "outputs": [],
   "source": [
    "# нормальная компонента электрического смещения\n",
    "eqDx_a_d  = Ex_vacuum_d (x=0) == (Ex_bad_conductor_d (x=0) * epsilon_complex).subs(digit_values)\n",
    "\n",
    "print (\"eqDx_a_d =\")\n",
    "display(Math(latex(eqDx_a_d.lhs().n())))\n",
    "display(Math(latex(eqDx_a_d.rhs().n())))"
   ]
  },
  {
   "cell_type": "code",
   "execution_count": null,
   "metadata": {},
   "outputs": [],
   "source": [
    "# тангенциальная компонента напряженности магнитного поля\n",
    "#eqHz_a_d  = even_H_bad_conductor_z_d (A)  == even_H_inner_vacuum_z_d (A)\n",
    "eqHy_a_d  = Hy_bad_conductor_d (0)  == Hy_vacuum_d (0)\n",
    "\n",
    "print (\"eqHy_a_d =\")\n",
    "display(Math(latex(eqHy_a_d.lhs().n())))\n",
    "display(Math(latex(eqHy_a_d.rhs().n())))"
   ]
  },
  {
   "cell_type": "raw",
   "metadata": {},
   "source": [
    "# нормальная компонента индукции магнитного поля\n",
    "eqBx_a  = mu * Hx_bad_conductor_d (a)  == Hx_inner_vacuum_d (a)\n",
    "\n",
    "print (\"eqBx_a =\")\n",
    "display(Math(latex(eqBx_a)))"
   ]
  }
 ],
 "metadata": {
  "kernelspec": {
   "display_name": "SageMath 9.4.rc2",
   "language": "sage",
   "name": "sagemath"
  },
  "language_info": {
   "codemirror_mode": {
    "name": "ipython",
    "version": 3
   },
   "file_extension": ".py",
   "mimetype": "text/x-python",
   "name": "python",
   "nbconvert_exporter": "python",
   "pygments_lexer": "ipython3",
   "version": "3.9.5"
  }
 },
 "nbformat": 4,
 "nbformat_minor": 4
}
