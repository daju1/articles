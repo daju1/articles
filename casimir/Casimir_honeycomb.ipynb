{
 "cells": [
  {
   "cell_type": "markdown",
   "metadata": {},
   "source": [
    "https://www.dwc.knaw.nl/DL/publications/PU00018547.pdf\n",
    "\n",
    "Mathematics.\n",
    "\n",
    "# On the force to perfectly conducting honeycomb on a plate.\n",
    "\n",
    "By A. Ju. Drozdov\n",
    "\n",
    "(Feb 14. 2021. - Feb 09. 2022) "
   ]
  },
  {
   "cell_type": "markdown",
   "metadata": {},
   "source": [
    "Let us consider a cubic cavity of volume $L^3$ bounded by perfectly conducting walls and let a perfectly conducting square plate with side $L$ be\n",
    "placed in this cavity parallel to the $xy$ face and let us compare the\n",
    "situation in whieh this plate is at a very large, say $L/2$ distance a from the $xy$ face. \n",
    "\n",
    "One side of this perfectly conducting square plate is a pure plane and other is covered by perfectly conducting honeycomb.\n",
    "\n",
    "On both sided of the the plate\n",
    "expressions $\\frac{1}{2}\\sum\\,\\hbar\\omega$ where the summation extends over all possible\n",
    "resonance frequencies of the cavity $L/2\\times L\\times L$ (large cavity beetween pure plane and $xy$ face) and the cavity $L/2\\times a\\times a$ (small cavity, one honeycomb) are divergent and devoid of physical\n",
    "meaning but the difference between these sums on the opposite sides,\n",
    "$\\frac{1}{2\\,V_{I}}\\left(\\sum\\,\\,\\hbar\\omega\\right)_{I} - \\frac{1}{2\\,V_{II}}\\left(\\sum\\,\\,\\hbar\\omega\\right)_{II}$, will be shown to have a weIl defined value and this\n",
    "value will be interpreted as the interaction between the plate and the both\n",
    "$xy$ faces."
   ]
  },
  {
   "cell_type": "markdown",
   "metadata": {},
   "source": [
    "The possible vibrations of the cavities defined by "
   ]
  },
  {
   "cell_type": "markdown",
   "metadata": {},
   "source": [
    "$0<=x<=L$, $0<=y<=L$, $0<=z<=L/2$ (large cavity beetween pure plane and $xy$ face)"
   ]
  },
  {
   "cell_type": "markdown",
   "metadata": {},
   "source": [
    "and"
   ]
  },
  {
   "cell_type": "markdown",
   "metadata": {},
   "source": [
    "$0<=x<=a$, $0<=y<=a$, $0<=z<=L/2$ (small cavity, one honeycomb)"
   ]
  },
  {
   "cell_type": "markdown",
   "metadata": {},
   "source": [
    "have wave vectors"
   ]
  },
  {
   "cell_type": "markdown",
   "metadata": {},
   "source": [
    "$k_x = \\frac{\\pi}{L}\\,n_x$, $k_y = \\frac{\\pi}{L}\\,n_y$, $k_z = \\frac{\\pi}{L/2}\\,n_z$ (large cavity beetween pure plane and $xy$ face),"
   ]
  },
  {
   "cell_type": "markdown",
   "metadata": {},
   "source": [
    "and"
   ]
  },
  {
   "cell_type": "markdown",
   "metadata": {},
   "source": [
    "$k_x = \\frac{\\pi}{a}\\,n_x$, $k_y = \\frac{\\pi}{a}\\,n_y$, $k_z = \\frac{\\pi}{L/2}\\,n_z$ (small cavity, one honeycomb),\n",
    "\n",
    "where $n_x$. $n_y$, $n_z$:\n",
    "\n",
    "are positive integers;"
   ]
  },
  {
   "cell_type": "markdown",
   "metadata": {},
   "source": [
    "$k = \\sqrt{k_x^2+k_y^2+k_z^2} = \\sqrt{\\kappa^2+k_z^2}$. "
   ]
  },
  {
   "cell_type": "markdown",
   "metadata": {},
   "source": [
    "$E = \\frac{1}{2}\\sum\\,\\hbar\\omega = \\hbar\\,c\\frac{1}{2}\\sum\\limits_{n_x}^{}\\sum\\limits_{n_y}^{}\\sum\\limits_{n_z}^{}k$"
   ]
  },
  {
   "cell_type": "markdown",
   "metadata": {},
   "source": [
    "To every $k_x$, $k_y$, $k_z$ correspond two standing waves unless one of the $n_i$\n",
    "is zero, when there is only one."
   ]
  },
  {
   "cell_type": "markdown",
   "metadata": {},
   "source": [
    "In case of one honeycomb cavity for $k_z$ this is without importance since\n",
    "for very large $L/2$ we may regard $k_z$ as continuous variable. Thus we\n",
    "find "
   ]
  },
  {
   "cell_type": "markdown",
   "metadata": {},
   "source": [
    "$\\frac{1}{2}\\sum\\,\\hbar\\omega = \\hbar\\,c\\frac{1}{2}\\int\\limits_{0}^{\\infty}\\left[{\\sqrt{k_z^2}+2\\sum\\limits_{n_x=1}^{\\infty}\\sum\\limits_{n_y=1}^{\\infty}\\sqrt{n_x^2\\frac{\\pi^2}{a^2}+n_y^2\\frac{\\pi^2}{a^2}+k_z^2}}\\right]d{n_z}$  (small cavity, one honeycomb),"
   ]
  },
  {
   "cell_type": "markdown",
   "metadata": {},
   "source": [
    "$dn_z = \\frac{L/2}{\\pi}\\,dk_z$,"
   ]
  },
  {
   "cell_type": "markdown",
   "metadata": {},
   "source": [
    "$\\frac{1}{2\\,V}\\sum\\,\\hbar\\omega = \\frac{1}{a^2\\,L/2}\\hbar\\,c\\frac{1}{2}\\int\\limits_{0}^{\\infty}\\left[{\\sqrt{k_z^2}+2\\sum\\limits_{n_x=1}^{\\infty}\\sum\\limits_{n_y=1}^{\\infty}\\sqrt{n_x^2\\frac{\\pi^2}{a^2}+n_y^2\\frac{\\pi^2}{a^2}+k_z^2}}\\right]\\frac{L/2}{\\pi}\\,dk_z$  (small cavity, one honeycomb),"
   ]
  },
  {
   "cell_type": "markdown",
   "metadata": {},
   "source": [
    "$\\frac{1}{2\\,V}\\sum\\,\\hbar\\omega = \\frac{1}{a^2\\,\\pi}\\hbar\\,c\\int\\limits_{0}^{\\infty}\\left[{\\frac{1}{2}\\sqrt{k_z^2}+\\sum\\limits_{n_x=1}^{\\infty}\\sum\\limits_{n_y=1}^{\\infty}\\sqrt{n_x^2\\frac{\\pi^2}{a^2}+n_y^2\\frac{\\pi^2}{a^2}+k_z^2}}\\right]\\,dk_z$  (small cavity, one honeycomb),"
   ]
  },
  {
   "cell_type": "markdown",
   "metadata": {},
   "source": [
    "$\\frac{1}{2\\,V}\\sum\\,\\hbar\\omega = \\frac{1}{a^2\\,\\pi}\\hbar\\,c\\int\\limits_{0}^{\\infty}\\left[{\\sum\\limits_{n_x=(0)1}^{\\infty}\\sum\\limits_{n_y=(0)1}^{\\infty}\\sqrt{n_x^2\\frac{\\pi^2}{a^2}+n_y^2\\frac{\\pi^2}{a^2}+k_z^2}}\\right]\\,dk_z$  (small cavity, one honeycomb),"
   ]
  },
  {
   "cell_type": "markdown",
   "metadata": {},
   "source": [
    "where the notation $\\left(0\\right) 1$ is meant to indicate that the term with $n_x = 0$ and $n_y = 0$\n",
    "has to be multiplied by $\\frac{1}{2}$. "
   ]
  },
  {
   "cell_type": "markdown",
   "metadata": {},
   "source": [
    "$\\frac{1}{2\\,V}\\sum\\,\\hbar\\omega = \\frac{1}{a^2\\,\\pi}\\hbar\\,c\\sum\\limits_{n_x=(0)1}^{\\infty}\\sum\\limits_{n_y=(0)1}^{\\infty}\\left[\\int\\limits_{0}^{\\infty}\\sqrt{n_x^2\\frac{\\pi^2}{a^2}+n_y^2\\frac{\\pi^2}{a^2}+k_z^2}\\,dk_z\\right]$  (small cavity, one honeycomb),"
   ]
  },
  {
   "cell_type": "code",
   "execution_count": null,
   "metadata": {},
   "outputs": [],
   "source": []
  },
  {
   "cell_type": "markdown",
   "metadata": {},
   "source": [
    "And in case of large cavity for $k_x$, $k_y$ this is without importance since\n",
    "for very large $L$ we may regard $k_x$, $k_y$ as continuous variables. Thus we\n",
    "find "
   ]
  },
  {
   "cell_type": "markdown",
   "metadata": {},
   "source": [
    "$\\frac{1}{2}\\sum\\,\\hbar\\omega = \\hbar\\,c\\frac{1}{2}\\int\\limits_{0}^{\\infty}\\int\\limits_{0}^{\\infty}\\left[{\\sqrt{k_x^2+k_y^2}+2\\sum\\limits_{n_z=1}^{\\infty}\\sqrt{n_z^2\\frac{\\pi^2}{(L/2)^2}+k_x^2+k_y^2}}\\right]d{n_x}d{n_y}$ (large cavity beetween pure plane and $xy$ face),"
   ]
  },
  {
   "cell_type": "markdown",
   "metadata": {},
   "source": [
    "For very large $L/2$ also this last summation may\n",
    "be replaced by an integral and it is therefore easily seen that our interaction energy is given by "
   ]
  },
  {
   "cell_type": "markdown",
   "metadata": {},
   "source": [
    "$\\frac{1}{2}\\sum\\,\\hbar\\omega = \\hbar\\,c\\int\\limits_{0}^{\\infty}\\int\\limits_{0}^{\\infty}\\int\\limits_{0}^{\\infty}\\sqrt{k_z^2+k_x^2+k_y^2}\\,d{n_x}\\,d{n_y}\\,d{n_z}$ (large cavity beetween pure plane and $xy$ face),"
   ]
  },
  {
   "cell_type": "markdown",
   "metadata": {},
   "source": [
    "$dn_x = \\frac{L}{\\pi}\\,dk_x$, $dn_y = \\frac{L}{\\pi}\\,dk_y$, $dn_z = \\frac{L/2}{\\pi}\\,dk_z$,"
   ]
  },
  {
   "cell_type": "markdown",
   "metadata": {},
   "source": [
    "$\\frac{1}{2\\,V}\\sum\\,\\hbar\\omega = \\frac{1}{L^3/2}\\hbar\\,c\\int\\limits_{0}^{\\infty}\\int\\limits_{0}^{\\infty}\\int\\limits_{0}^{\\infty}\\sqrt{k_z^2+k_x^2+k_y^2}\\,dn_x\\,dn_y\\,\\frac{L/2}{\\pi}\\,dk_z$ (large cavity beetween pure plane and $xy$ face),"
   ]
  },
  {
   "cell_type": "markdown",
   "metadata": {},
   "source": [
    "$\\frac{1}{2\\,V}\\sum\\,\\hbar\\omega = \\frac{1}{L^2\\,\\pi}\\hbar\\,c\\int\\limits_{0}^{\\infty}\\int\\limits_{0}^{\\infty}\\left[\\,\\int\\limits_{0}^{\\infty}\\sqrt{k_z^2+k_x^2+k_y^2}\\,dk_z\\right]\\,dn_x\\,dn_y$ (large cavity beetween pure plane and $xy$ face),"
   ]
  },
  {
   "cell_type": "code",
   "execution_count": null,
   "metadata": {},
   "outputs": [],
   "source": []
  },
  {
   "cell_type": "markdown",
   "metadata": {},
   "source": [
    "$\\frac{1}{2\\,V}\\sum\\,\\hbar\\omega = \\frac{1}{a^2\\,\\pi}\\hbar\\,c\\sum\\limits_{n_x=(0)1}^{\\infty}\\sum\\limits_{n_y=(0)1}^{\\infty}\\left[\\,\\int\\limits_{0}^{\\infty}\\sqrt{n_x^2\\frac{\\pi^2}{a^2}+n_y^2\\frac{\\pi^2}{a^2}+k_z^2}\\,dk_z\\right]$  (small cavity, one honeycomb),"
   ]
  },
  {
   "cell_type": "markdown",
   "metadata": {},
   "source": [
    "$\\frac{1}{2\\,V}\\sum\\,\\hbar\\omega = \\frac{1}{L^2\\,\\pi}\\hbar\\,c\\int\\limits_{0}^{\\infty}\\int\\limits_{0}^{\\infty}\\left[\\,\\int\\limits_{0}^{\\infty}\\sqrt{k_x^2+k_y^2+k_z^2}\\,dk_z\\right]\\,dn_x\\,dn_y$ (large cavity beetween pure plane and $xy$ face),"
   ]
  },
  {
   "cell_type": "markdown",
   "metadata": {},
   "source": [
    "$\\frac{1}{2\\,V}\\sum\\,\\hbar\\omega = \\frac{1}{L^2\\,\\pi}\\hbar\\,c\\int\\limits_{0}^{\\infty}\\int\\limits_{0}^{\\infty}\\left[\\,\\int\\limits_{0}^{\\infty}\\sqrt{k_x^2+k_y^2+k_z^2}\\,dk_z\\right]\\,\\left(\\frac{L}{\\pi}dk_x\\right)\\,\\left(\\frac{L}{\\pi}dk_y\\right)$ (large cavity beetween pure plane and $xy$ face),"
   ]
  },
  {
   "cell_type": "markdown",
   "metadata": {},
   "source": [
    "$\\frac{a^2}{2\\,V}\\sum\\,\\hbar\\omega = \\frac{1}{\\pi}\\hbar\\,c\\int\\limits_{0}^{\\infty}\\int\\limits_{0}^{\\infty}\\left[\\,\\int\\limits_{0}^{\\infty}\\sqrt{k_x^2+k_y^2+k_z^2}\\,dk_z\\right]\\,\\left(\\frac{a}{\\pi}dk_x\\right)\\,\\left(\\frac{a}{\\pi}dk_y\\right)$ (large cavity beetween pure plane and $xy$ face),"
   ]
  },
  {
   "cell_type": "markdown",
   "metadata": {},
   "source": [
    "$\\frac{1}{2\\,V}\\sum\\,\\hbar\\omega = \\frac{1}{a^2\\,\\pi}\\hbar\\,c\\int\\limits_{0}^{\\infty}\\int\\limits_{0}^{\\infty}\\left[\\,\\int\\limits_{0}^{\\infty}\\sqrt{k_x^2+k_y^2+k_z^2}\\,dk_z\\right]\\,\\left(\\frac{a}{\\pi}dk_x\\right)\\,\\left(\\frac{a}{\\pi}dk_y\\right)$ (large cavity beetween pure plane and $xy$ face),"
   ]
  },
  {
   "cell_type": "markdown",
   "metadata": {},
   "source": [
    "it is therefore easily seen that our interaction energy is given by "
   ]
  },
  {
   "cell_type": "markdown",
   "metadata": {},
   "source": [
    "$\\delta\\,\\frac{E}{V} = \\frac{1}{a^2\\,\\pi}\\hbar\\,c\\left\\{\\sum\\limits_{n_x=(0)1}^{\\infty}\\sum\\limits_{n_y=(0)1}^{\\infty}\\left[\\,\\int\\limits_{0}^{\\infty}\\sqrt{n_x^2\\frac{\\pi^2}{a^2}+n_y^2\\frac{\\pi^2}{a^2}+k_z^2}\\,dk_z\\right] - \\int\\limits_{0}^{\\infty}\\int\\limits_{0}^{\\infty}\\left[\\,\\int\\limits_{0}^{\\infty}\\sqrt{k_x^2+k_y^2+k_z^2}\\,dk_z\\right]\\,\\left(\\frac{a}{\\pi}dk_x\\right)\\,\\left(\\frac{a}{\\pi}dk_y\\right)\\right\\}$"
   ]
  },
  {
   "cell_type": "markdown",
   "metadata": {},
   "source": [
    "$\\delta\\,\\frac{E}{V} = \\frac{1}{a^2\\,\\pi}\\hbar\\,c\\left\\{\\sum\\limits_{n_x=(0)1}^{\\infty}\\sum\\limits_{n_y=(0)1}^{\\infty}\\left[\\,\\int\\limits_{0}^{\\infty}\\sqrt{n_x^2\\frac{\\pi^2}{a^2}+n_y^2\\frac{\\pi^2}{a^2}+k_z^2}\\,dk_z\\right] - \\int\\limits_{0}^{\\infty}\\int\\limits_{0}^{\\infty}\\left[\\,\\int\\limits_{0}^{\\infty}\\sqrt{k_x^2+k_y^2+k_z^2}\\,dk_z\\right]\\,dn_x\\,dn_y\\right\\}$"
   ]
  },
  {
   "cell_type": "code",
   "execution_count": null,
   "metadata": {},
   "outputs": [],
   "source": []
  },
  {
   "cell_type": "markdown",
   "metadata": {},
   "source": [
    "${\\left(\\frac{E}{V}\\right)_{small\\,cavity} = \\frac{1}{a^2}\\hbar \\, \\sum\\limits_{n_x=(0)1}^{\\infty}\\sum\\limits_{n_y=(0)1}^{\\infty}\\,\\int\\limits_{0}^{\\infty} {\\frac {dk_{z}}{\\pi}}\\omega _{n_x,n_y}.}$"
   ]
  },
  {
   "cell_type": "markdown",
   "metadata": {},
   "source": [
    "where $\\omega _{n_x,n_y} = c\\,\\sqrt{n_x^2\\frac{\\pi^2}{a^2}+n_y^2\\frac{\\pi^2}{a^2}+k_z^2}$"
   ]
  },
  {
   "cell_type": "markdown",
   "metadata": {},
   "source": [
    "This expression is clearly infinite, and to proceed with the calculation, it is convenient to introduce a regulator."
   ]
  },
  {
   "cell_type": "markdown",
   "metadata": {},
   "source": [
    "In order to obtain a finite result it is necessary to multiply the integrands\n",
    "by a function $f(k/k_m)$ which is unity for $k << k_m$ but tends to zero sufficiently rapidly for $(k/k_m)\\, \\rightarrow\\,\\infty$. where $k_m$ may be defined by $f(1) = \\frac{1}{2}$.\n",
    "The physical meaning is obvious: for very short waves (X~rays e.g.)\n",
    "our plate is hardly an obstacle at all and therefore the zero point energy\n",
    "of these waves will not be influenced by the position of this plate. "
   ]
  },
  {
   "cell_type": "markdown",
   "metadata": {},
   "source": [
    "The regulator will serve to make the expression finite, and in the end will be removed. The regulated version of the energy per unit-area of the plate is"
   ]
  },
  {
   "cell_type": "markdown",
   "metadata": {},
   "source": [
    "Introducing the variable $u^2 = a^2\\,k_z^2/\\pi^2$"
   ]
  },
  {
   "cell_type": "markdown",
   "metadata": {},
   "source": [
    "$du = a/\\pi\\,dk_z$"
   ]
  },
  {
   "cell_type": "markdown",
   "metadata": {},
   "source": [
    "\\begin{equation}\n",
    "\\delta\\,\\frac{E}{V} = \\frac{\\hbar\\,c\\,\\pi}{a^4}\\left\\{\n",
    "\\sum\\limits_{n_x=\\left(0\\right)\\,1}^{\\infty}\n",
    "\\sum\\limits_{n_y=\\left(0\\right)\\,1}^{\\infty}\n",
    "\\int\\limits_{0}^{\\infty}\n",
    "{\\sqrt{n_x^2 + n_y^2 + u^2}}\n",
    "f\\left(\\frac{\\pi\\sqrt{n_x^2 + n_y^2 + u^2}}{a\\,k_m}\\right)\n",
    "\\,d{u}\n",
    "-\n",
    "\\int\\limits_{0}^{\\infty}\n",
    "\\int\\limits_{0}^{\\infty}\n",
    "\\int\\limits_{0}^{\\infty}\n",
    "{\\sqrt{n_x^2 + n_y^2 + u^2}}\n",
    "f\\left(\\frac{\\pi\\sqrt{n_x^2 + n_y^2 + u^2}}{a\\,k_m}\\right)\n",
    "\\,d{u}\\,d{n_x}\\,d{n_y}\n",
    "\\right\\}\n",
    "\\end{equation}"
   ]
  },
  {
   "cell_type": "markdown",
   "metadata": {},
   "source": [
    "\\begin{equation}\n",
    "F\\left(n_x, n_y\\right) = \n",
    "\\int\\limits_{0}^{\\infty}{\\sqrt{n_x^2 + n_y^2+u^2}}\n",
    "f\\left(\\frac{\\pi\\sqrt{n_x^2 + n_y^2+u^2}}{a\\,k_m}\\right)\\,d{u}\n",
    "\\end{equation}"
   ]
  },
  {
   "cell_type": "markdown",
   "metadata": {},
   "source": [
    "\\begin{equation}\n",
    "\\delta\\,\\frac{E}{V} = \\frac{\\hbar\\,c\\,\\pi}{a^4}\\left\\{\n",
    "\\sum\\limits_{n_x=\\left(0\\right)\\,1}^{\\infty}\n",
    "\\sum\\limits_{n_y=\\left(0\\right)\\,1}^{\\infty}\n",
    "F\\left(n_x, n_y\\right)\n",
    "-\n",
    "\\int\\limits_{0}^{\\infty}\n",
    "\\int\\limits_{0}^{\\infty}\n",
    "F\\left(n_x, n_y\\right)\\,d{n_x}\\,d{n_y}\n",
    "\\right\\}\n",
    "\\end{equation}"
   ]
  },
  {
   "cell_type": "code",
   "execution_count": 1,
   "metadata": {},
   "outputs": [],
   "source": [
    "from IPython.display import display, Math, Latex"
   ]
  },
  {
   "cell_type": "code",
   "execution_count": 2,
   "metadata": {},
   "outputs": [],
   "source": [
    "n_x = var(\"n_x\")\n",
    "assume(n_x, \"real\")\n",
    "assume(n_x > 0)\n",
    "n_y = var(\"n_y\")\n",
    "assume(n_y, \"real\")\n",
    "assume(n_y > 0)\n",
    "n_z = var(\"n_z\")"
   ]
  },
  {
   "cell_type": "code",
   "execution_count": 3,
   "metadata": {},
   "outputs": [],
   "source": [
    "#u = a*k_z/(pi)\n",
    "u = var(\"u\")"
   ]
  },
  {
   "cell_type": "code",
   "execution_count": 4,
   "metadata": {},
   "outputs": [],
   "source": [
    "a = var(\"a\")\n",
    "assume(a, 'real')\n",
    "assume(a>0)\n",
    "\n",
    "L = var(\"L\")\n",
    "\n",
    "k_x = var(\"k_x\")\n",
    "k_y = var(\"k_y\")\n",
    "k_z = var(\"k_z\")"
   ]
  },
  {
   "cell_type": "code",
   "execution_count": 5,
   "metadata": {},
   "outputs": [],
   "source": [
    "k_x = pi * n_x / a\n",
    "k_y = pi * n_y / a\n",
    "k_z = pi * n_z / (L/2)"
   ]
  },
  {
   "cell_type": "code",
   "execution_count": 6,
   "metadata": {},
   "outputs": [],
   "source": [
    "k_m = var(\"k_m\")\n",
    "assume(k_m, 'real')\n",
    "assume(k_m > 0)"
   ]
  },
  {
   "cell_type": "code",
   "execution_count": 38,
   "metadata": {},
   "outputs": [],
   "source": [
    "#f = function('f')(var(\"k_km\"))\n",
    "f = lambda k_km : 1 / (1 + (k_km)^4)"
   ]
  },
  {
   "cell_type": "markdown",
   "metadata": {},
   "source": [
    "$k_m$ may be defined by $f(1) = \\frac{1}{2}$."
   ]
  },
  {
   "cell_type": "code",
   "execution_count": 8,
   "metadata": {},
   "outputs": [
    {
     "data": {
      "text/plain": [
       "1/2"
      ]
     },
     "execution_count": 8,
     "metadata": {},
     "output_type": "execute_result"
    }
   ],
   "source": [
    "f(1)"
   ]
  },
  {
   "cell_type": "code",
   "execution_count": 9,
   "metadata": {},
   "outputs": [
    {
     "data": {
      "image/png": "[encoded data removed]",
      "text/plain": [
       "Graphics object consisting of 1 graphics primitive"
      ]
     },
     "execution_count": 9,
     "metadata": {},
     "output_type": "execute_result"
    }
   ],
   "source": [
    "plot(f(x), (x, 0, 3))"
   ]
  },
  {
   "cell_type": "markdown",
   "metadata": {},
   "source": [
    "If $\\omega _{n_x,n_y} = c\\,\\sqrt{n_x^2\\frac{\\pi^2}{a^2}+n_y^2\\frac{\\pi^2}{a^2}+k_z^2}$\n",
    "and $k_z^2 = u^2 \\frac{\\pi^2}{a^2}$ we have\n",
    "$\\omega _{n_x,n_y} = c \\, \\frac{\\pi}{a} \\sqrt{n_x^2+n_y^2+u^2}$ so $f\\left(\\frac{\\pi\\sqrt{n_x^2 + n_y^2+u^2}}{a\\,k_m}\\right) = f\\left(\\frac{\\omega _{n_x,n_y}}{c\\,k_m}\\right)$ and $\\omega_m = c\\,k_m$"
   ]
  },
  {
   "cell_type": "code",
   "execution_count": 32,
   "metadata": {},
   "outputs": [
    {
     "data": {
      "text/latex": [
       "$\\displaystyle \\frac{\\sqrt{n_{x}^{2} + n_{y}^{2} + u^{2}}}{\\frac{\\pi^{4} {\\left(n_{x}^{2} + n_{y}^{2} + u^{2}\\right)}^{2}}{a^{4} k_{m}^{4}} + 1}$"
      ],
      "text/plain": [
       "<IPython.core.display.Math object>"
      ]
     },
     "metadata": {},
     "output_type": "display_data"
    },
    {
     "data": {
      "text/plain": [
       "sqrt(n_x^2 + n_y^2 + u^2)/(pi^4*(n_x^2 + n_y^2 + u^2)^2/(a^4*k_m^4) + 1)"
      ]
     },
     "execution_count": 32,
     "metadata": {},
     "output_type": "execute_result"
    }
   ],
   "source": [
    "integrand_u = lambda u, n_x, n_y, a, k_m : sqrt(n_x^2 + n_y^2 + u^2)*f(pi*sqrt(n_x^2 + n_y^2 + u^2)/(a*k_m))\n",
    "display(Math(latex(integrand_u(u, n_x, n_y, a, k_m))))\n",
    "integrand_u(u, n_x, n_y, a, k_m)"
   ]
  },
  {
   "cell_type": "code",
   "execution_count": 1,
   "metadata": {},
   "outputs": [],
   "source": [
    "def num_int(f, a, b):\n",
    "    from scipy import integrate\n",
    "\n",
    "    try:\n",
    "        integral = integrate.quad(f, a, b)\n",
    "\n",
    "        result = integral[0]\n",
    "        return result\n",
    "\n",
    "    except Exception as ex:\n",
    "\n",
    "        print (\"Exception ex = \", str(ex))\n",
    "        print (\"f = \", f)\n",
    "        try:\n",
    "            #print (\"integrand = \", get_integrand_view(f))\n",
    "            print (\"integrand = \", f(x))\n",
    "        except Exception as ex2:\n",
    "            print (\"Exception ex2 = \", ex2)\n",
    "\n",
    "        print (\"a, b = \", a, \",\", b)\n",
    "        try:\n",
    "            print (\"f(a) = \", f(a))\n",
    "        except:\n",
    "            pass\n",
    "        try:\n",
    "            print (\"f(b) = \", f(b))\n",
    "        except:\n",
    "            pass\n",
    "\n",
    "        import inspect\n",
    "        stack = inspect.stack()\n",
    "        for frame in stack:\n",
    "            func_name = frame[3]\n",
    "            print (\"func_name = \", func_name)\n",
    "        \n",
    "        raise ex"
   ]
  },
  {
   "cell_type": "code",
   "execution_count": 39,
   "metadata": {},
   "outputs": [],
   "source": [
    "Fa = lambda n_x, n_y, a, k_m : num_int(lambda u: integrand_u(u, n_x, n_y, a, k_m), 0, Infinity)"
   ]
  },
  {
   "cell_type": "code",
   "execution_count": null,
   "metadata": {},
   "outputs": [],
   "source": [
    "F = lambda x, y : Fa(n_x = x, n_y = y, a = 1, k_m = 1)"
   ]
  },
  {
   "cell_type": "code",
   "execution_count": 60,
   "metadata": {},
   "outputs": [],
   "source": [
    "FFa = lambda n_y, a, k_m : num_int(lambda n_x: Fa(n_x, n_y, a, k_m), 0, Infinity)"
   ]
  },
  {
   "cell_type": "code",
   "execution_count": 64,
   "metadata": {},
   "outputs": [],
   "source": [
    "FFFa = lambda a, k_m : num_int(lambda n_y: FFa(n_y, a, k_m), 0, Infinity)"
   ]
  },
  {
   "cell_type": "code",
   "execution_count": 59,
   "metadata": {},
   "outputs": [
    {
     "data": {
      "image/png": "[encoded data removed]",
      "text/plain": [
       "Graphics object consisting of 1 graphics primitive"
      ]
     },
     "metadata": {},
     "output_type": "display_data"
    }
   ],
   "source": [
    "plot_data_Fa = []\n",
    "\n",
    "for nx in (0.01, 0.02, 0.03, 0.04, 0.05, 0.1, 0.2, 0.3, 0.4, 0.5, 1.0, 1.5, 2.0, 2.5, 3.0, 3.5, 4.0, 4.5, 5.0, 5.5, 6, 7, 8, 9, 10):\n",
    "    plot_data_F += [(nx, Fa (n_x=nx, n_y=1, k_m=10, a=1))]\n",
    "    \n",
    "list_plot(plot_data_Fa).show()"
   ]
  },
  {
   "cell_type": "code",
   "execution_count": 80,
   "metadata": {},
   "outputs": [
    {
     "data": {
      "text/plain": [
       "0.0160485420776867"
      ]
     },
     "execution_count": 80,
     "metadata": {},
     "output_type": "execute_result"
    }
   ],
   "source": [
    "def sum_Fa(n_y, a, k_m, N):\n",
    "    S = 0.5 * Fa(n_x=0, n_y=n_y, a=a, k_m=k_m)\n",
    "    for i in range(1,N+1):\n",
    "        S += Fa(n_x=i, n_y=n_y, a=a, k_m=k_m)\n",
    "    return S\n",
    "    \n",
    "    \n",
    "sum_Fa(n_y = 1, a = 1, k_m = 1, N = 100)"
   ]
  },
  {
   "cell_type": "code",
   "execution_count": 82,
   "metadata": {},
   "outputs": [
    {
     "data": {
      "text/plain": [
       "0.0161153476975992"
      ]
     },
     "execution_count": 82,
     "metadata": {},
     "output_type": "execute_result"
    }
   ],
   "source": [
    "sum_Fa(n_y = 1, a = 1, k_m = 1, N = 290)"
   ]
  },
  {
   "cell_type": "code",
   "execution_count": 83,
   "metadata": {},
   "outputs": [
    {
     "data": {
      "text/plain": [
       "0.0161165236876963"
      ]
     },
     "execution_count": 83,
     "metadata": {},
     "output_type": "execute_result"
    }
   ],
   "source": [
    "sum_Fa(n_y = 1, a = 1, k_m = 1, N = 300)"
   ]
  },
  {
   "cell_type": "code",
   "execution_count": 81,
   "metadata": {},
   "outputs": [
    {
     "data": {
      "text/plain": [
       "0.0160372564445073"
      ]
     },
     "execution_count": 81,
     "metadata": {},
     "output_type": "execute_result"
    }
   ],
   "source": [
    "sum_Fa(n_y = 1, a = 1, k_m = 1, N = 90)"
   ]
  },
  {
   "cell_type": "code",
   "execution_count": 77,
   "metadata": {},
   "outputs": [
    {
     "data": {
      "text/plain": [
       "0.0661656258064793"
      ]
     },
     "execution_count": 77,
     "metadata": {},
     "output_type": "execute_result"
    }
   ],
   "source": [
    "def sum_sum_Fa(a, k_m, N):\n",
    "    S = 0.5 * sum_Fa(n_y=0, a=a, k_m=k_m, N = N)\n",
    "    for j in range(1,N+1):\n",
    "        S += sum_Fa(n_y=j, a=a, k_m=k_m, N = N)\n",
    "    return S\n",
    "    \n",
    "    \n",
    "sum_sum_Fa(a = 1, k_m = 1, N = 10)"
   ]
  },
  {
   "cell_type": "code",
   "execution_count": 75,
   "metadata": {},
   "outputs": [
    {
     "name": "stderr",
     "output_type": "stream",
     "text": [
      "/opt/sagemath-9.2/local/lib/python3.7/site-packages/sage/repl/ipython_kernel/__main__.py:35: IntegrationWarning: The integral is probably divergent, or slowly convergent.\n"
     ]
    },
    {
     "data": {
      "text/plain": [
       "0.016088766033466918"
      ]
     },
     "execution_count": 75,
     "metadata": {},
     "output_type": "execute_result"
    }
   ],
   "source": [
    "FFa ( k_m=1, a=1, n_y=1)"
   ]
  },
  {
   "cell_type": "raw",
   "metadata": {},
   "source": [
    "FFFa (k_m=1, a=1)"
   ]
  },
  {
   "cell_type": "markdown",
   "metadata": {},
   "source": [
    "# Euler–Maclaurin 2D formula"
   ]
  },
  {
   "cell_type": "code",
   "execution_count": 2,
   "metadata": {},
   "outputs": [],
   "source": [
    "logging = False\n",
    "\n",
    "calc_R_p=True\n",
    "\n",
    "def my_euler_maclaurin1(f,symb,a,b,p, f_diff_symb_p=None):\n",
    "    if logging:\n",
    "        print(\"f\", f)\n",
    "        print(\"symb,a,b\", symb, a, b)\n",
    "        print(\"\")\n",
    "\n",
    "\n",
    "    sum_dfdx_a_bernoullis = sum([(f.diff(symb,k-1))*(bernoulli(k)/factorial(k)) for k in range(1,1+p)])\n",
    "    if logging:\n",
    "        print(\"sum_dfdx_a_bernoullis\", sum_dfdx_a_bernoullis)\n",
    "        print(\"sum_dfdx_a_bernoullis(a)\", sum_dfdx_a_bernoullis.subs(symb == a))\n",
    "        if Infinity != b:\n",
    "            print(\"sum_dfdx_a_bernoullis(b)\", sum_dfdx_a_bernoullis.subs(symb == b))\n",
    "\n",
    "    if True:\n",
    "        B = lambda x, p : bernoulli_polynomial(x, p)\n",
    "        P = lambda x, p : bernoulli_polynomial(x - floor(x), p)\n",
    "        fact = lambda n : factorial(n)\n",
    "    else:\n",
    "        B = function(\"B\")(x,p)\n",
    "        P = function(\"P\")(x,p)\n",
    "        fact = function(\"fact\")(n)\n",
    "        \n",
    "    if True == calc_R_p:\n",
    "        # Can't calculate derivative wrt j + u.\n",
    "        #int_R_p = lambda j : integral(f.diff(symb,p).subs(symb == u+j) * bernoulli_polynomial(u,p)/factorial(p), (u,0,1))\n",
    "        def int_R_p(f,symb,j):\n",
    "            v = var(\"v\")            \n",
    "            if None == f_diff_symb_p:\n",
    "                deriv = f.diff(symb,p)\n",
    "            else:\n",
    "                deriv = f_diff_symb_p\n",
    "            if logging:\n",
    "                print(\"deriv\", deriv)\n",
    "            deriv_s = deriv.subs(symb == v+j)\n",
    "            if logging:\n",
    "                print(\"deriv_s\", deriv_s)\n",
    "            int_f_diff_B_fact = integral(deriv_s * bernoulli_polynomial(v,p)/factorial(p), (v,0,1))\n",
    "            if logging:\n",
    "                print(\"int_f_diff_B_fact\", int_f_diff_B_fact)\n",
    "            return int_f_diff_B_fact\n",
    "        \n",
    "        def int_R_p_shifted_first(f,symb,j):\n",
    "            v = var(\"v\")\n",
    "            fn_shifted = f.subs(symb == v + j)\n",
    "            if logging:\n",
    "                print(\"fn_shifted\", fn_shifted)\n",
    "            deriv = fn_shifted.diff(v,p)\n",
    "            if logging:\n",
    "                print(\"deriv\", deriv)\n",
    "            int_f_diff_B_fact = integral(deriv * B(x=v,p=p)/fact(n=p), (v,0,1))\n",
    "    \n",
    "            if logging:\n",
    "                print(\"int_f_diff_B_fact\", int_f_diff_B_fact)\n",
    "\n",
    "            return int_f_diff_B_fact\n",
    "\n",
    "        if logging:\n",
    "            print(\"int_R_p(j = a)\", int_R_p(f,symb,j = a))\n",
    "            \n",
    "        if use_int_R_p_j:\n",
    "            v, j = var(\"v, j\")\n",
    "            assume(j>0)\n",
    "            from sage.calculus.calculus import symbolic_sum\n",
    "            if change_R_p_order:\n",
    "                # Change order of summation and integration\n",
    "                if use_int_R_p_shifted_first:\n",
    "                    R_p = (-1)^(p+1)*integral(symbolic_sum(f.subs(symb == v+j).diff(v,p)*B(x=v,p=p)/fact(n=p), \\\n",
    "                                                  j, a, b-1), \\\n",
    "                                              (v,0,1))\n",
    "                else:\n",
    "                    if None == f_diff_symb_p:\n",
    "                        f_diff_symb_p = f.diff(symb,p)\n",
    "                    R_p = (-1)^(p+1)*integral(symbolic_sum(f_diff_symb_p.subs(symb == v+j)*B(x=v,p=p)/fact(n=p), \\\n",
    "                                                  j, a, b-1), \\\n",
    "                                              (v,0,1))\n",
    "            else:\n",
    "                if use_int_R_p_shifted_first:\n",
    "                    R_p = (-1)^(p+1)*symbolic_sum(int_R_p_shifted_first(f,symb,j=j), j, a, b-1)\n",
    "                else:\n",
    "                    R_p = (-1)^(+1)*symbolic_sum(int_R_p(f,symb,j=j), j, a, b-1)\n",
    "                \n",
    "        else:\n",
    "            if None == f_diff_symb_p:\n",
    "                f_diff_symb_p = f.diff(symb,p)\n",
    "            if not use_num_int:\n",
    "                R_p = (-1)^(p+1)*integral(f_diff_symb_p * P(x=symb,p=p)/fact(n=p),(symb,a,b),hold=True)\n",
    "            else:\n",
    "                R_p = (-1)^(p+1)*num_int(lambda symb : f_diff_symb_p * P(x=symb,p=p)/fact(n=p), a, b)\n",
    "                \n",
    "\n",
    "    int_fn_a_b = integral(f, (symb, a, b))\n",
    "    if logging:\n",
    "        print(\"int_fn_a_b\", int_fn_a_b)\n",
    "    \n",
    "    s = int_fn_a_b - sum_dfdx_a_bernoullis.subs(symb == a)\n",
    "    if Infinity != b:\n",
    "        s += sum_dfdx_a_bernoullis.subs(symb == b)\n",
    "    if True == calc_R_p:\n",
    "        s += R_p\n",
    "        \n",
    "    if False:\n",
    "        print(\"int_fn_a_b\", int_fn_a_b)\n",
    "        print(\"sum_dfdx_a_bernoullis(a)\", sum_dfdx_a_bernoullis(a))\n",
    "        if Infinity != b:\n",
    "            print(\"sum_dfdx_a_bernoullis(b)\", sum_dfdx_a_bernoullis(b))\n",
    "        if True == calc_R_p:\n",
    "            print(\"int_R_p(j = a)\", int_R_p(j = a))\n",
    "            print(\"R_p\", R_p)\n",
    "        print(\"\")\n",
    "        print(\"s\",s)\n",
    "    return s"
   ]
  },
  {
   "cell_type": "markdown",
   "metadata": {},
   "source": [
    "$${\\displaystyle \\sum _{i=a}^{b}f(i)=\\int _{a}^{b}f(x)\\,dx+{\\frac {f(a)+f(b)}{2}}+\\sum _{k=1}^{\\lfloor p/2\\rfloor }{\\frac {B_{2k}}{(2k)!}}(f^{(2k-1)}(b)-f^{(2k-1)}(a))+R_{p},}$$"
   ]
  },
  {
   "cell_type": "markdown",
   "metadata": {},
   "source": [
    "$${\\displaystyle \\sum _{i=a}^{b}f(i)=\\int _{a}^{b}f(x)\\,dx+\\sum _{k=1}^{\\lfloor p/2\\rfloor }{\\frac {B_{k}}{(k)!}}(f^{(k-1)}(b)-f^{(k-1)}(a))+R_{p},}$$"
   ]
  },
  {
   "cell_type": "markdown",
   "metadata": {},
   "source": [
    "$${\\displaystyle R_{p}=(-1)^{p+1}\\sum_{j=a}^{b-1} \\int _{0}^{1}f^{(p)}(v+j){\\frac {B_{p}(v)}{p!}}\\,dv.}$$"
   ]
  },
  {
   "cell_type": "markdown",
   "metadata": {},
   "source": [
    "$${\\displaystyle P_{k}(x)=B_{k}(x-\\lfloor x\\rfloor ),}$$\n",
    "\n",
    "$${\\displaystyle R_{p}=(-1)^{p+1}\\int _{a}^{b}f^{(p)}(x){\\frac {P_{p}(x)}{p!}}\\,dx.}$$"
   ]
  },
  {
   "cell_type": "code",
   "execution_count": 3,
   "metadata": {},
   "outputs": [],
   "source": [
    "# https://www.journals.vu.lt/LMJ/article/view/20600/19701\n",
    "# ФОРМУЛА СУММИРОВАНИЯ ЭЙЛЕРА—МАКЛОРЕНА ДЛЯ ФУНКЦИИ МНОГИХ ПЕРЕМЕННЫХ А.БИКЯЛИС\n",
    "# VIII LIETUVOS MATEMATIKOS RINKINYS 4\n",
    "# ЛИТОВСКИЙ МАТЕМАТИЧЕСКИЙ СБОРНИК\n",
    "# 1968\n",
    "\n",
    "# Далее,обе стороны этого равенства суммируем по всем целым m2 из интервала(z2,y2). Получаем\n",
    "\n",
    "if True:\n",
    "    B = lambda x, p : bernoulli_polynomial(x, p)\n",
    "    P = lambda x, p : bernoulli_polynomial(x - floor(x), p)\n",
    "    fact = lambda n : factorial(n)\n",
    "else:\n",
    "    B = function(\"B\")(x,p)\n",
    "    P = function(\"P\")(x,p)\n",
    "    fact = function(\"fact\")(n)\n",
    "\n",
    "def integral_R_p(f,symb,jx,hold, f_diff_symb_p=None):\n",
    "    vx = var(\"v_\"+str(symb))\n",
    "    if None == f_diff_symb_p:\n",
    "        deriv = f.diff(symb,p)\n",
    "    else:\n",
    "        deriv = f_diff_symb_p\n",
    "    if logging:\n",
    "        print(\"deriv\", deriv)\n",
    "\n",
    "    deriv_subs = deriv.subs(symb == vx+jx)\n",
    "    if logging:\n",
    "        print(\"deriv_subs\", deriv_subs)\n",
    "\n",
    "    int_f_diff_B_fact = integral(deriv_subs * bernoulli_polynomial(vx,p)/factorial(p), (vx,0,1), hold=hold)\n",
    "    if logging:\n",
    "        print(\"int_f_diff_B_fact\", int_f_diff_B_fact)\n",
    "\n",
    "    return int_f_diff_B_fact\n",
    "\n",
    "def integral_R_p_shifted_first(f,symb,jx,hold):\n",
    "    vx = var(\"v_\"+str(symb))\n",
    "    fn_shifted = f.subs(symb == vx + jx)\n",
    "    if logging:\n",
    "        print(\"fn_shifted\", fn_shifted)\n",
    "\n",
    "    deriv = fn_shifted.diff(vx,p)\n",
    "    if logging:\n",
    "        print(\"deriv\", deriv)\n",
    "\n",
    "    int_f_diff_B_fact = integral(deriv * B(x=vx,p=p)/fact(n=p), (vx, 0, 1), hold=hold)\n",
    "\n",
    "    if logging:\n",
    "        print(\"int_f_diff_B_fact\", int_f_diff_B_fact)\n",
    "\n",
    "    return int_f_diff_B_fact\n",
    "    \n",
    "    \n",
    "def euler_maclaurin_R_p(f,symb,a,b,p, f_diff_symb_p=None, hold_int=True, hold_sum=True):\n",
    "    if logging:\n",
    "        print(\"f\", f)\n",
    "        print(\"symb,a,b\", symb, a, b)\n",
    "        if f_diff_symb_p is not None:\n",
    "            print(\"f_diff_symb_p\", f_diff_symb_p)\n",
    "        print(\"\")\n",
    "    if use_int_R_p_j:\n",
    "        jx = var('j_'+str(symb))\n",
    "        assume(jx>0)\n",
    "        from sage.calculus.calculus import symbolic_sum\n",
    "        \n",
    "        if change_R_p_order:\n",
    "            vx = var(\"v_\"+str(symb))\n",
    "            # Change order of summation and integration\n",
    "            if use_int_R_p_shifted_first:\n",
    "                R_p = (-1)^(p+1)*integral(symbolic_sum(f.subs(symb == vx+jx).diff(vx,p)*B(x=vx,p=p)/fact(n=p), \\\n",
    "                                              jx, a, b-1, hold=hold_sum), \\\n",
    "                                          (vx,0,1), hold=hold_int)\n",
    "            else:\n",
    "                if None == f_diff_symb_p:\n",
    "                    f_diff_symb_p = f.diff(symb,p)\n",
    "                R_p = (-1)^(p+1)*integral(symbolic_sum(f_diff_symb_p.subs(symb == vx+jx)*B(x=vx,p=p)/fact(n=p), \\\n",
    "                                              jx, a, b-1, hold=hold_sum), \\\n",
    "                                          (vx,0,1), hold=hold_int)\n",
    "        else:       \n",
    "            if use_int_R_p_shifted_first:\n",
    "                term = (-1)^(p+1)*integral_R_p_shifted_first(f=f, symb=symb, jx=jx, hold=hold_int)\n",
    "                R_p = symbolic_sum(term, jx, a, b-1, hold=hold_sum)\n",
    "            else:\n",
    "                term = (-1)^(p+1)*integral_R_p(f=f, symb=symb, jx=jx, hold=hold_int, f_diff_symb_p=f_diff_symb_p)\n",
    "                R_p = symbolic_sum(term, jx, a, b-1, hold=hold_sum)\n",
    "            return R_p, term\n",
    "    else:\n",
    "        if not use_num_int:\n",
    "            if None == f_diff_symb_p:\n",
    "                f_diff_symb_p = f.diff(symb,p)\n",
    "            if logging:\n",
    "                print(\"(-1)^(p+1)*P(x=symb,p=p)/fact(n=p)\", (-1)^(p+1)*P(x=symb,p=p)/fact(n=p))\n",
    "            R_p = (-1)^(p+1)*integral(f_diff_symb_p * P(x=symb,p=p)/fact(n=p),(symb,a,b),hold=hold_int)\n",
    "        else:\n",
    "            R_p = (-1)^(p+1)*num_int(lambda symb: f_diff_symb_p * P(x=symb,p=p)/fact(n=p), a, b)\n",
    "            \n",
    "    return R_p"
   ]
  },
  {
   "cell_type": "markdown",
   "metadata": {},
   "source": [
    "$$\\sum _{k=1}^{\\lfloor p/2\\rfloor }{\\frac {B_{k}}{(k)!}}(f^{(k-1)}(b)-f^{(k-1)}(a))$$"
   ]
  },
  {
   "cell_type": "code",
   "execution_count": 4,
   "metadata": {},
   "outputs": [],
   "source": [
    "def sum_dfdx_bernoulis(f,symb,a,b,p):\n",
    "    dfdx_a_bernoullis = []\n",
    "    for k in range(1,1+p):\n",
    "        dfdx_a_bernoullis += [(f.diff(symb,k-1))*(bernoulli(k)/factorial(k))]\n",
    "        \n",
    "    sum_dfdx_a_bernoullis = sum(dfdx_a_bernoullis)\n",
    "\n",
    "    if logging:\n",
    "        print(\"sum_dfdx_a_bernoullis\", sum_dfdx_a_bernoullis)\n",
    "        print(\"sum_dfdx_a_bernoullis(a)\", sum_dfdx_a_bernoullis.subs(symb == a))\n",
    "        if Infinity != b:\n",
    "            print(\"sum_dfdx_a_bernoullis(b)\", sum_dfdx_a_bernoullis.subs(symb == b))\n",
    "\n",
    "    s = - sum_dfdx_a_bernoullis.subs(symb == a)\n",
    "    if Infinity != b:\n",
    "        s += sum_dfdx_a_bernoullis.subs(symb == b)\n",
    "    return s\n"
   ]
  },
  {
   "cell_type": "code",
   "execution_count": 5,
   "metadata": {},
   "outputs": [],
   "source": [
    "def sum_dfdx_bernoulis_str(f,symb,a,b,p):\n",
    "    sum_dfdx_a_bernoullis = \"\"\n",
    "    for k in range(1,1+p):\n",
    "        if k - 1 > 0:\n",
    "            sum_dfdx_a_bernoullis += \" + (\" + str(bernoulli(k)/factorial(k)) + \") * (\" + str(f) + \").diff(\" + str(symb) + \", \" + str(k-1) + \")\"\n",
    "        else:\n",
    "            sum_dfdx_a_bernoullis += \" + (\" + str(bernoulli(k)/factorial(k)) + \") * (\" + str(f) + \")\"\n",
    "            \n",
    "\n",
    "    if logging:\n",
    "        print(\"sum_dfdx_a_bernoullis\", sum_dfdx_a_bernoullis)\n",
    "        print(\"sum_dfdx_a_bernoullis(a)\", \"(\" + sum_dfdx_a_bernoullis + \").subs(\" + str(symb) + \"==\" + str(a) + \")\")\n",
    "        if Infinity != b:\n",
    "            print(\"sum_dfdx_a_bernoullis(b)\", \"(\" + sum_dfdx_a_bernoullis + \").subs(\" + str(symb) + \"==\" + str(b) + \")\")\n",
    "    s = \"\"\n",
    "\n",
    "    s += \"- (\" + sum_dfdx_a_bernoullis + \").subs(\" + str(symb) + \"==\" + str(a) + \")\"\n",
    "    if Infinity != b:\n",
    "        s += \" + (\" + sum_dfdx_a_bernoullis + \").subs(\" + str(symb) + \"==\" + str(b) + \")\"\n",
    "    return s\n"
   ]
  },
  {
   "cell_type": "code",
   "execution_count": 6,
   "metadata": {},
   "outputs": [],
   "source": [
    "# sumy_sumx = sum_dfdx_bernoulis(sum_dfdx_bernoulis (F(x,y), x, a_x, b_x,p), y, a_y, b_y, p)\n",
    "def sum_dfdy_bernoulis_sum_dfdx_bernoulis_str(f, x, a_x, b_x, y, a_y, b_y, p):\n",
    "    str_f = sum_dfdx_bernoulis_str(f(x=x,y=y), x, a_x, b_x, p)\n",
    "    sum_dfdx_a_bernoullis = \"\"\n",
    "    for k in range(1,1+p):\n",
    "        if k - 1 > 0:\n",
    "            sum_dfdx_a_bernoullis += \" + (\" + str(bernoulli(k)/factorial(k)) + \") * (\" + str_f + \").diff(\" + str(y) + \", \" + str(k-1) + \")\"\n",
    "        else:\n",
    "            sum_dfdx_a_bernoullis += \" + (\" + str(bernoulli(k)/factorial(k)) + \") * (\" + str_f + \")\"\n",
    "\n",
    "    if logging:\n",
    "        print(\"sum_dfdx_a_bernoullis\", sum_dfdx_a_bernoullis)\n",
    "        print(\"sum_dfdx_a_bernoullis(a)\", \"(\" + sum_dfdx_a_bernoullis + \").subs(\" + str(y) + \"==\" + str(a_y) + \")\")\n",
    "        if Infinity != b:\n",
    "            print(\"sum_dfdx_a_bernoullis(b)\", \"(\" + sum_dfdx_a_bernoullis + \").subs(\" + str(y) + \"==\" + str(b_y) + \")\")\n",
    "    s = \"\"\n",
    "\n",
    "    s += \"- (\" + sum_dfdx_a_bernoullis + \").subs(\" + str(y) + \"==\" + str(a_y) + \")\"\n",
    "    if Infinity != b_y:\n",
    "        s += \" + (\" + sum_dfdx_a_bernoullis + \").subs(\" + str(y) + \"==\" + str(b_y) + \")\"\n",
    "    return s"
   ]
  },
  {
   "cell_type": "code",
   "execution_count": 7,
   "metadata": {},
   "outputs": [],
   "source": [
    "def definite_integral_derivative(f, x, a, b, diff_param, hold=True):\n",
    "    from sage.symbolic.integration.integral import definite_integral\n",
    "\n",
    "    if not x.has(diff_param):\n",
    "        # integration variable != differentiation variable\n",
    "        ans = definite_integral(f.diff(diff_param), x, a, b, hold=hold)\n",
    "    else:\n",
    "        ans = SR.zero()\n",
    "\n",
    "    if hasattr(b, 'diff'):\n",
    "        if b.diff(diff_param) != 0:\n",
    "            ans += f.subs(x == b) * b.diff(diff_param)\n",
    "    if hasattr(a, 'diff'):\n",
    "        if a.diff(diff_param) != 0:\n",
    "            ans -= f.subs(x == a) * a.diff(diff_param)\n",
    "\n",
    "    return ans\n"
   ]
  },
  {
   "cell_type": "code",
   "execution_count": 8,
   "metadata": {},
   "outputs": [],
   "source": [
    "def definite_integral_derivative_str(f, x, a, b, diff_param=None, hold=False, algorithm=None):\n",
    "\n",
    "    if not x.has(diff_param):\n",
    "        # integration variable != differentiation variable\n",
    "        if algorithm is not None:\n",
    "            ans = \"integrate((\" + str(f) + \").diff(\" + str(diff_param) + \"), \" + str(x) + \", \" + str(a) + \", \" + str(b) + \", algorithm = \"\\\"\"+ algorithm + \", hold = \" + str(hold) + \")\"\n",
    "        else:\n",
    "            ans = \"definite_integral((\" + str(f) + \").diff(\" + str(diff_param) + \"), \" + str(x) + \", \" + str(a) + \", \" + str(b) + \", hold = \" + str(hold) + \")\"\n",
    "    else:\n",
    "        ans = \"\"\n",
    "\n",
    "    if hasattr(b, 'diff'):\n",
    "        if b.diff(diff_param) != 0:\n",
    "            ans += \" + \" + str(f.subs(x == b) * b.diff(diff_param))\n",
    "    if hasattr(a, 'diff'):\n",
    "        if a.diff(diff_param) != 0:\n",
    "            ans += \" - \" + str(f.subs(x == a) * a.diff(diff_param))\n",
    "\n",
    "    return ans"
   ]
  },
  {
   "cell_type": "code",
   "execution_count": 9,
   "metadata": {},
   "outputs": [],
   "source": [
    "def definite_num_int_derivative_str(f, x, a, b, diff_param=None):\n",
    "\n",
    "    if not x.has(diff_param):\n",
    "        # integration variable != differentiation variable\n",
    "        ans = \"num_int(lambda \" + str(x)+ \" : \" + str(f.diff(diff_param)) + \", \" + str(a) + \", \" + str(b) + \")\"\n",
    "    else:\n",
    "        ans = \"\"\n",
    "\n",
    "    if hasattr(b, 'diff'):\n",
    "        if b.diff(diff_param) != 0:\n",
    "            ans += \" + \" + str(f.subs(x == b) * b.diff(diff_param))\n",
    "    if hasattr(a, 'diff'):\n",
    "        if a.diff(diff_param) != 0:\n",
    "            ans += \" - \" + str(f.subs(x == a) * a.diff(diff_param))\n",
    "\n",
    "    return ans"
   ]
  },
  {
   "cell_type": "markdown",
   "metadata": {},
   "source": [
    "$$\\sum _{k=1}^{\\lfloor p/2\\rfloor }{\\frac {B_{k}}{(k)!}}(g(y)^{(k-1)}(b_y)-g(y)^{(k-1)}(a_y))$$\n",
    "where "
   ]
  },
  {
   "cell_type": "markdown",
   "metadata": {},
   "source": [
    "$$g(y) = {\\displaystyle R_{p}(y)=(-1)^{p+1}\\sum_{j=a_x}^{b_x-1} \\int _{0}^{1}\\frac{\\partial^{p}}{\\partial x^{p}}f(v_x+j,y){\\frac {B_{p}(v_x)}{p!}}\\,dv_x.}$$\n",
    "or"
   ]
  },
  {
   "cell_type": "markdown",
   "metadata": {},
   "source": [
    "$${\\displaystyle P_{k}(x)=B_{k}(x-\\lfloor x\\rfloor ),}$$\n",
    "\n",
    "$$g(y) = {\\displaystyle R_{p}=(-1)^{p+1}\\int _{a_x}^{b_x}\\frac{\\partial^{p}}{\\partial x^{p}}f(x,y){\\frac {P_{p}(x)}{p!}}\\,dx.}$$"
   ]
  },
  {
   "cell_type": "code",
   "execution_count": 10,
   "metadata": {},
   "outputs": [],
   "source": [
    "#int_R_p = integral(euler_maclaurin_R_p(f(x,y), x, a_x, b_x,p), (y, a_y, b_y), hold=True)\n",
    "\n",
    "def integral_euler_maclaurin_R_p(f, x, a_x, b_x, y, a_y, b_y, p, f_diff_x_p, hold_int=True, hold_sum=True):\n",
    "    if logging:\n",
    "        print(\"f\", f)\n",
    "        print(\"f(x,y)\", f(x=x,y=y))\n",
    "        if None != f_diff_x_p:\n",
    "            print(\"f_diff_x_p\", f_diff_x_p)\n",
    "            print(\"f_diff_x_p(x,y)\", f_diff_x_p(x=x,y=y))\n",
    "        print(\"\")\n",
    "    if use_int_R_p_j:\n",
    "        jx = var('j_x')\n",
    "        assume(jx>0)\n",
    "        from sage.calculus.calculus import symbolic_sum\n",
    "        \n",
    "        if change_R_p_order:\n",
    "            vx = var(\"v_\"+str(x))\n",
    "            # Change order of summation and integration\n",
    "            if use_int_R_p_shifted_first:\n",
    "                int_R_p = (-1)^(p+1)*integral(integral(symbolic_sum(f.subs(x == vx+jx).diff(vx,p)*B(x=vx,p=p)/fact(n=p), \\\n",
    "                                              jx, a_x, b_x-1, hold=hold_sum), \\\n",
    "                                          (vx,0,1), hold=hold_int), y, a_y, b_y, hold=hold_int)\n",
    "            else:\n",
    "                if None == f_diff_x_p:\n",
    "                    f_diff_x_p = f.diff(x,p)\n",
    "                int_R_p = (-1)^(p+1)*integral(integral(symbolic_sum(f_diff_x_p.subs(x == vx+jx)*B(x=vx,p=p)/fact(n=p), \\\n",
    "                                              jx, a_x, b_x-1, hold=hold_sum), \\\n",
    "                                          (vx,0,1), hold=hold_int), y, a_y, b_y, hold=hold_int)\n",
    "        else:       \n",
    "            if use_int_R_p_shifted_first:\n",
    "                int_int = (-1)^(p+1)*integral(integral_R_p_shifted_first(f=f, symb=x, jx=jx, hold=hold_int), y, a_y, b_y, hold=hold_int)\n",
    "                int_R_p = symbolic_sum(int_int, jx, a_x, b_x-1, hold=hold_sum)\n",
    "            else:\n",
    "                int_int = (-1)^(p+1)*integral(integral_R_p(f=f, symb=x, jx=jx, hold=hold_int), y, a_y, b_y, hold=hold_int)\n",
    "                int_R_p = symbolic_sum(int_int, jx, a_x, b_x-1, hold=hold_sum)\n",
    "            return (int_R_p, int_int)\n",
    "    else:\n",
    "        if not use_num_int:\n",
    "            if None == f_diff_x_p:\n",
    "                f_diff_x_p = f.diff(x,p)\n",
    "            int_R_p = (-1)^(p+1)*integral(integral(f_diff_x_p * P(x=x,p=p)/fact(n=p),(x,a_x,b_x),hold=hold_int), y, a_y, b_y, hold=hold_int)\n",
    "        else:\n",
    "            int_R_p = (-1)^(p+1)*num_int(lambda y : num_int(lambda x : f_diff_x_p(x=x,y=y) * P(x=x,p=p)/fact(n=p), a_x, b_x), a_y, b_y)\n",
    "            \n",
    "    return int_R_p"
   ]
  },
  {
   "cell_type": "code",
   "execution_count": 11,
   "metadata": {},
   "outputs": [],
   "source": [
    "#sum_R_p = sum_dfdx_bernoulis(euler_maclaurin_R_p(F(x,y), x, a_x, b_x,p), y, a_y, b_y, p)\n",
    "def sum_dfdx_bernoulis_euler_maclaurin_R_p(f, x, a_x, b_x, y, a_y, b_y, p):\n",
    "    if logging:\n",
    "        print(\"sum_dfdx_bernoulis_euler_maclaurin_R_p\", f, x, a_x, b_x, y, a_y, b_y, p)\n",
    "    dfdx_a_bernoullis = []\n",
    "    dfdx_a_bernoullis_terms = []\n",
    "    from sage.calculus.calculus import symbolic_sum\n",
    "    from sage.symbolic.integration.integral import definite_integral\n",
    "    \n",
    "    for k in range(1,1+p):\n",
    "        if 1 == k:\n",
    "            if use_int_R_p_j:\n",
    "                vx, jx = var(\"v_x, j_x\")\n",
    "                term_1 = lambda y_symb, y_val, p, jx : (-1)^(p+1)*definite_integral(f(x=x,y=y_symb).diff(x,p) \\\n",
    "                                                                                 .subs(x == vx + jx) \\\n",
    "                                                                      * B(x=vx,p=p)/fact(n=p),vx,0,1,hold=False) \\\n",
    "                                                                                .subs(y_symb == y_val)\n",
    "                if logging:\n",
    "                    print(\"k\", k)\n",
    "                    print(\"term_1(y_symb=y, y_val=a_y,jx=a_x) =\", term_1(y_symb=y, y_val=a_y,jx=a_x))\n",
    "                    \n",
    "                R_p_1 = lambda y_symb, y_val, p : symbolic_sum(expression=term_1(y_symb=y_symb, y_val=y_val, p=p, jx=jx), \\\n",
    "                                                                     v=jx, a=a_x, b=b_x-1)\n",
    "                dfdx_a_bernoullis_terms += [lambda y_symb, y_val, p, jx, i=k-1 : \\\n",
    "                                            term_1(y_symb=y_symb, y_val=y_val, jx=jx)*(bernoulli(i+1)/factorial(i+1))]\n",
    "            else:\n",
    "                R_p_1 = lambda y_symb, y_val, p : (-1)^(p+1)*definite_integral(f(x=x,y=y_symb).diff(x,p) * P(x=x,p=p)/fact(n=p), \\\n",
    "                                                                  x, a_x, b_x, hold=True) \\\n",
    "                                                                  .subs(y_symb == y_val)\n",
    "                if logging:\n",
    "                    print(\"k\", k)\n",
    "                    print(\"R_p_1(y_symb=y, y_val=a_y) =\", R_p_1(y, y, p))\n",
    "                    print(\"R_p_1(y_symb=y, y_val=a_y) =\", R_p_1(y_symb=y, y_val=a_y, p=p))\n",
    "                \n",
    "            if logging:\n",
    "                print(\"R_p(y_symb=y, y_val=a_y) =\", R_p_1(y_symb=y, y_val=a_y, p=p))\n",
    "                print(\"\\n\")\n",
    "\n",
    "            dfdx_a_bernoullis += [lambda y_symb, y_val, p, i=k-1 : R_p_1(y_symb=y_symb, y_val=y_val, p=p)*(bernoulli(i+1)/factorial(i+1))]\n",
    "            if logging:\n",
    "                print(\"dfdx_a_bernoullis =\", dfdx_a_bernoullis)\n",
    "                print(\"len(dfdx_a_bernoullis) =\", len(dfdx_a_bernoullis))\n",
    "\n",
    "                for ii in range(len(dfdx_a_bernoullis)):\n",
    "                    print(\"dfdx_a_bernoullis [\",ii, \"]()=\", dfdx_a_bernoullis[ii])\n",
    "                    print(\"dfdx_a_bernoullis [\",ii, \"]()=\", dfdx_a_bernoullis[ii](y, y, p))\n",
    "                    print(\"dfdx_a_bernoullis [\",ii, \"](a_y)=\", dfdx_a_bernoullis[ii](y, a_y, p))\n",
    "                    print(\"dfdx_a_bernoullis [\",ii, \"](a_y)=\", dfdx_a_bernoullis[ii](y_symb=y, y_val=a_y, p=p))\n",
    "\n",
    "        elif 2 == k:\n",
    "            if use_int_R_p_j:\n",
    "                vx, jx = var(\"v_x, j_x\")\n",
    "                term_2 = lambda y_symb, y_val, p, jx : (-1)^(p+1)*definite_integral_derivative(f=f(x=x,y=y_symb).diff(x,p) \\\n",
    "                                                                                 .subs(x == vx + jx) \\\n",
    "                                        * B(x=vx,p=p)/fact(n=p), x=vx, a=0, b=1, diff_param=y_symb, hold=False) \\\n",
    "                                                                                .subs(y_symb == y_val)\n",
    "\n",
    "                if logging:\n",
    "                    print(\"k\", k)\n",
    "                    print(\"term_2(y_symb=y, y_val=a_y,jx=a_x) =\", term_2(y_symb=y, y_val=a_y, p=p, jx=a_x))\n",
    "\n",
    "                R_p_2 = lambda y_symb, y_val, p : symbolic_sum(expression=term_2(y_symb=y_symb, y_val=y_val, p=p, jx=jx), \\\n",
    "                                                                 v=jx, a=a_x, b=b_x-1)\n",
    "                dfdx_a_bernoullis_terms += [lambda y_symb, y_val, p, jx, i=k-1 : \\\n",
    "                                            term_2(y_symb=y_symb, y_val=y_val, p=p, jx=jx)*(bernoulli(i+1)/factorial(i+1))]\n",
    "            else:\n",
    "                R_p_2 = lambda y_symb, y_val, p : (-1)^(p+1)*definite_integral_derivative(f=f(x=x,y=y_symb).diff(x,p) \\\n",
    "                                            * P(x=x,p=p)/fact(n=p), x=x, a=a_x, b=b_x, diff_param=y_symb) \\\n",
    "                                                  .subs(y_symb == y_val)\n",
    "\n",
    "                if logging:\n",
    "                    print(\"k\", k)\n",
    "                    print(\"R_p_2(y_symb=y, y_val=a_y) =\", R_p_2(y, y, p))\n",
    "                    print(\"R_p_2(y_symb=y, y_val=a_y) =\", R_p_2(y_symb=y, y_val=a_y, p=p))\n",
    "                \n",
    "            if logging:\n",
    "                print(\"R_p(y_symb=y, y_val=a_y) =\", R_p_2(y_symb=y, y_val=a_y, p=p))\n",
    "                print(\"\\n\")\n",
    "        \n",
    "            dfdx_a_bernoullis += [lambda y_symb, y_val, p, i=k-1 : R_p_2(y_symb=y_symb, y_val=y_val, p=p)*(bernoulli(i+1)/factorial(i+1))]\n",
    "            if logging:\n",
    "                print(\"dfdx_a_bernoullis =\", dfdx_a_bernoullis)\n",
    "                print(\"len(dfdx_a_bernoullis) =\", len(dfdx_a_bernoullis))\n",
    "\n",
    "                for ii in range(len(dfdx_a_bernoullis)):\n",
    "                    print(\"dfdx_a_bernoullis [\",ii, \"]()=\", dfdx_a_bernoullis[ii])\n",
    "                    print(\"dfdx_a_bernoullis [\",ii, \"]()=\", dfdx_a_bernoullis[ii](y, y, p))\n",
    "                    print(\"dfdx_a_bernoullis [\",ii, \"](a_y)=\", dfdx_a_bernoullis[ii](y, a_y, p))\n",
    "                    print(\"dfdx_a_bernoullis [\",ii, \"](a_y)=\", dfdx_a_bernoullis[ii](y_symb=y, y_val=a_y, p=p))\n",
    "        else:\n",
    "            if use_int_R_p_j:\n",
    "                vx, jx = var(\"v_x, j_x\")\n",
    "                term_3 = lambda y_symb, y_val, p, jx : (-1)^(p+1)*definite_integral_derivative(f=f(x=x,y=y_symb).diff(x,p) \\\n",
    "                                                                                 .subs(x == vx + jx) \\\n",
    "                                        * B(x=vx,p=p)/fact(n=p), x=vx, a=0, b=1, diff_param=y_symb, hold=False) \\\n",
    "                                            .diff(y_symb, k-2) .subs(y_symb == y_val)\n",
    "\n",
    "                if logging:\n",
    "                    print(\"k\", k)\n",
    "                    print(\"term_3(y_symb=y, y_val=a_y,jx=a_x) =\", term_3(y_symb=y, y_val=a_y, p=p, jx=a_x))\n",
    "                    \n",
    "                R_p_3 = lambda y_symb, y_val, p : symbolic_sum(expression=term_3(y_symb=y_symb, y_val=y_val, p=p, jx=jx), \\\n",
    "                                                                 v=jx, a=a_x, b=b_x-1)\n",
    "                dfdx_a_bernoullis_terms += [lambda y_symb, y_val, p, jx, i=k-1 : \\\n",
    "                                            term_3(y_symb=y_symb, y_val=y_val, p=p, jx=jx)*(bernoulli(i+1)/factorial(i+1))]\n",
    "            else:\n",
    "                R_p_3 = lambda y_symb, y_val, p : (-1)^(p+1)*definite_integral_derivative(f=f(x=x,y=y_symb).diff(x,p) \\\n",
    "                                                    * P(x=x,p=p)/fact(n=p), x=x, a=a_x, b=b_x, diff_param=y_symb) \\\n",
    "                                                    .diff(y_symb, k-2).subs(y_symb == y_val)\n",
    "                \n",
    "            if logging:\n",
    "                print(\"R_p(y_symb=y, y_val=a_y) =\", R_p_3(y_symb=y, y_val=a_y, p=p))\n",
    "                print(\"\\n\")\n",
    "\n",
    "            dfdx_a_bernoullis += [lambda y_symb, y_val, p, i=k-1 : R_p_3(y_symb=y_symb, y_val=y_val, p=p)*(bernoulli(i+1)/factorial(i+1))]\n",
    "            if logging:\n",
    "                print(\"dfdx_a_bernoullis =\", dfdx_a_bernoullis)\n",
    "                print(\"len(dfdx_a_bernoullis) =\", len(dfdx_a_bernoullis))\n",
    "\n",
    "                for ii in range(len(dfdx_a_bernoullis)):\n",
    "                    print(\"dfdx_a_bernoullis [\",ii, \"]()=\", dfdx_a_bernoullis[ii])\n",
    "                    print(\"dfdx_a_bernoullis [\",ii, \"]()=\", dfdx_a_bernoullis[ii](y, y, p))\n",
    "                    print(\"dfdx_a_bernoullis [\",ii, \"](a_y)=\", dfdx_a_bernoullis[ii](y, a_y, p))\n",
    "                    print(\"dfdx_a_bernoullis [\",ii, \"](a_y)=\", dfdx_a_bernoullis[ii](y_symb=y, y_val=a_y, p=p))\n",
    "\n",
    "    if logging:\n",
    "        print(\"dfdx_a_bernoullis =\", dfdx_a_bernoullis)\n",
    "        print(\"len(dfdx_a_bernoullis) =\", len(dfdx_a_bernoullis))\n",
    "        \n",
    "        for ii in range(len(dfdx_a_bernoullis)):\n",
    "            print(\"dfdx_a_bernoullis [\",ii, \"]()=\", dfdx_a_bernoullis[ii])\n",
    "            print(\"dfdx_a_bernoullis [\",ii, \"]()=\", dfdx_a_bernoullis[ii](y, y, p))\n",
    "            print(\"dfdx_a_bernoullis [\",ii, \"](a_y)=\", dfdx_a_bernoullis[ii](y, a_y, p))\n",
    "            print(\"dfdx_a_bernoullis [\",ii, \"](a_y)=\", dfdx_a_bernoullis[ii](y_symb=y, y_val=a_y, p=p))\n",
    "\n",
    "\n",
    "\n",
    "    sum_dfdx_a_bernoullis = lambda y_symb, y_val, p : sum([dfdx_a_bernoullis[i](y_symb, y_val, p) \\\n",
    "                                                      for i in range(len(dfdx_a_bernoullis))])\n",
    "    \n",
    "    sum_dfdx_a_bernoullis_terms = lambda y_symb, y_val, p, jx : sum([dfdx_a_bernoullis_terms[i](y_symb, y_val, p, jx) \\\n",
    "                                                               for i in range(len(dfdx_a_bernoullis_terms))])\n",
    "    \n",
    "    if logging:\n",
    "        print(\"sum_dfdx_a_bernoullis =\", sum_dfdx_a_bernoullis)\n",
    "        print(\"sum_dfdx_a_bernoullis(a_y) =\", sum_dfdx_a_bernoullis(y_symb=y, y_val=a_y, p=p))\n",
    "    \n",
    "    s = - sum_dfdx_a_bernoullis(y_symb=y, y_val=a_y, p=p)\n",
    "    if b_y is Infinity:\n",
    "        s_terms = lambda jx : - sum_dfdx_a_bernoullis_terms(y_symb=y, y_val=a_y, p=p, jx=jx)\n",
    "    else:\n",
    "        s += sum_dfdx_a_bernoullis(y_symb=y, y_val=b_y, p=p)\n",
    "        s_terms = lambda jx : sum_dfdx_a_bernoullis_terms(y_symb=y, y_val=b_y, p=p, jx=jx) - sum_dfdx_a_bernoullis_terms(y_symb=y, y_val=a_y, p=p, jx=jx)\n",
    "    return s, s_terms"
   ]
  },
  {
   "cell_type": "markdown",
   "metadata": {},
   "source": [
    "$${\\displaystyle R_{p}=(-1)^{p+1}\\sum_{j=a_y}^{b_y-1} \\int _{0}^{1}g^{(p)}(v_y+j){\\frac {B_{p}(v_y)}{p!}}\\,dv_y.}$$"
   ]
  },
  {
   "cell_type": "markdown",
   "metadata": {},
   "source": [
    "$${\\displaystyle P_{k}(y)=B_{k}(y-\\lfloor y\\rfloor ),}$$\n",
    "\n",
    "$${\\displaystyle R_{p}=(-1)^{p+1}\\int _{a_y}^{b_y}g^{(p)}(y){\\frac {P_{p}(y)}{p!}}\\,dy.}$$\n",
    "\n",
    "where"
   ]
  },
  {
   "cell_type": "markdown",
   "metadata": {},
   "source": [
    "$$g(y) = {\\displaystyle R_{p}(y)=(-1)^{p+1}\\sum_{j=a_x}^{b_x-1} \\int _{0}^{1}\\frac{\\partial^{p}}{\\partial x^{p}}f(v_x+j,y){\\frac {B_{p}(v_x)}{p!}}\\,dv_x.}$$\n",
    "or"
   ]
  },
  {
   "cell_type": "markdown",
   "metadata": {},
   "source": [
    "$${\\displaystyle P_{k}(x)=B_{k}(x-\\lfloor x\\rfloor ),}$$\n",
    "\n",
    "$$g(y) = {\\displaystyle R_{p}=(-1)^{p+1}\\int _{a_x}^{b_x}\\frac{\\partial^{p}}{\\partial x^{p}}f(x,y){\\frac {P_{p}(x)}{p!}}\\,dx.}$$"
   ]
  },
  {
   "cell_type": "code",
   "execution_count": 12,
   "metadata": {},
   "outputs": [],
   "source": [
    "#R_p_R_p = euler_maclaurin_R_p(euler_maclaurin_R_p(F(x,y), x, a_x, b_x,p), y, a_y, b_y, p)\n",
    "def euler_maclaurin_R_p_euler_maclaurin_R_p(f, x, a_x, b_x, y, a_y, b_y, p, f_diff_x_p_diff_y_p):\n",
    "\n",
    "    from sage.calculus.calculus import symbolic_sum\n",
    "    from sage.symbolic.integration.integral import definite_integral\n",
    "    if use_int_R_p_j:\n",
    "        vx,vy = var(\"v_x, v_y\")\n",
    "        jx,jy = var(\"j_x, j_y\")\n",
    "        assume(v_y+j_y>0)\n",
    "        \n",
    "        if None == f_diff_x_p_diff_y_p:\n",
    "            f_diff_x_p_diff_y_p = f.diff(x,p).diff(y,p)\n",
    "\n",
    "        R_p_R_p = (-1)^(p+1)*symbolic_sum(definite_integral( \\\n",
    "                               (-1)^(p+1)*symbolic_sum(definite_integral(f_diff_x_p_diff_y_p.subs(x == vx + jx)  \\\n",
    "                                                              * B(x=vx,p=p)/fact(n=p), \\\n",
    "                                 vx,0,1,hold=True), v=jx, a=a_x, b=b_x-1,hold=True) \\\n",
    "                                                                        .diff(y,p).subs(y == vy + jy)  \\\n",
    "                                                              * B(x=vy,p=p)/fact(n=p), \\\n",
    "                                 vy,0,1,hold=True), v=jy, a=a_y, b=b_y-1,hold=True)\n",
    "    else:\n",
    "        if not use_num_int:\n",
    "\n",
    "            if None == f_diff_x_p_diff_y_p:\n",
    "                f_diff_x_p_diff_y_p = f.diff(x,p)\n",
    "\n",
    "            R_p_R_p = (-1)^(p+1)*definite_integral( \\\n",
    "                               (-1)^(p+1)*definite_integral(f_diff_x_p_diff_y_p  \\\n",
    "                                                              * P(x=x,p=p)/fact(n=p), \\\n",
    "                                 x, a_x, b_x, hold=True).diff(y,p)  \\\n",
    "                                                              * P(x=y,p=p)/fact(n=p), \\\n",
    "                                 y, a_y, b_y, hold=True)\n",
    "        else:\n",
    "            f_diff_x_p_diff_y_p_num_str = \"f_diff_x_diff_y_num = lambda \" + str(x) + \", \" + str(y) + \":\" + str(f(x,y).diff(x,p).diff(y,p))\n",
    "            print(\"f_diff_x_p_diff_y_p_num_str=\", f_diff_x_p_diff_y_p_num_str)                                                                          \n",
    "            exec(preparse(f_diff_x_p_diff_y_p_num_str))\n",
    "            R_p_R_p = (-1)^(p+1)*num_int(lambda y : \\\n",
    "                               (-1)^(p+1)*num_int(lambda x : f_diff_x_p_diff_y_p_num(x,y)  \\\n",
    "                                                              * P(x=x,p=p)/fact(n=p), \\\n",
    "                                 a_x, b_x)  \\\n",
    "                                                              * P(x=y,p=p)/fact(n=p), \\\n",
    "                                 a_y, b_y)\n",
    "        \n",
    "    return R_p_R_p"
   ]
  },
  {
   "cell_type": "code",
   "execution_count": 13,
   "metadata": {},
   "outputs": [],
   "source": [
    "#R_p_R_p = euler_maclaurin_R_p(euler_maclaurin_R_p(F(x,y), x, a_x, b_x,p), y, a_y, b_y, p)\n",
    "def euler_maclaurin_R_p_euler_maclaurin_R_p_num_int(f_diff_x_p_diff_y_p, x, a_x, b_x, y, a_y, b_y, p):\n",
    "    R_p_R_p = (-1)^(p+1)*num_int(lambda y : \\\n",
    "                       (-1)^(p+1)*num_int(lambda x : f_diff_x_p_diff_y_p(x,y)  \\\n",
    "                                                      * P(x=x,p=p)/fact(n=p), \\\n",
    "                         a_x, b_x)  \\\n",
    "                                                      * P(x=y,p=p)/fact(n=p), \\\n",
    "                         a_y, b_y)\n",
    "    return R_p_R_p"
   ]
  },
  {
   "cell_type": "code",
   "execution_count": 14,
   "metadata": {},
   "outputs": [],
   "source": [
    "def euler_maclaurin1(f, symb, a, b, p, f_diff_symb_p=None, hold_int=True, hold_sum=True):\n",
    "    if logging:\n",
    "        print(\"f\", f)\n",
    "        print(\"symb,a,b\", symb, a, b)\n",
    "        print(\"\")\n",
    "    #u, j = var(\"u, j\")\n",
    "\n",
    "    int_fn_a_b = integral(f, (symb, a, b))\n",
    "    if logging:\n",
    "        print(\"int_fn_a_b\", int_fn_a_b)\n",
    "    \n",
    "    #s = int_fn_a_b + sum_dfdx_a_bernoullis(b) - sum_dfdx_a_bernoullis(a) + R_p\n",
    "    s = int_fn_a_b + sum_dfdx_bernoulis(f,symb,a,b,p)\n",
    "    \n",
    "    if True == calc_R_p:\n",
    "        R_p = euler_maclaurin_R_p(f, symb, a, b, p, f_diff_symb_p=f_diff_symb_p,hold_int=hold_int, hold_sum=hold_sum)\n",
    "        if type(R_p) is tuple:\n",
    "            s += R_p[0]\n",
    "        else:\n",
    "            s += R_p\n",
    "\n",
    "    return s"
   ]
  },
  {
   "cell_type": "code",
   "execution_count": 15,
   "metadata": {},
   "outputs": [],
   "source": [
    "from IPython.display import display, Math, Latex"
   ]
  },
  {
   "cell_type": "code",
   "execution_count": 16,
   "metadata": {},
   "outputs": [
    {
     "name": "stdout",
     "output_type": "stream",
     "text": [
      "F(x, y)\n"
     ]
    }
   ],
   "source": [
    "a_x = var(\"n_x\")\n",
    "b_x = var(\"b_x\")\n",
    "a_y = var(\"n_y\")\n",
    "b_y = var(\"b_y\")\n",
    "\n",
    "assume(a_x, 'real')\n",
    "assume(b_x, 'real')\n",
    "assume(a_y, 'real')\n",
    "assume(b_y, 'real')\n",
    "\n",
    "assume(a_x, 'integer')\n",
    "assume(b_x, 'integer')\n",
    "assume(a_y, 'integer')\n",
    "assume(b_y, 'integer')\n",
    "\n",
    "assume(a_x > 0)\n",
    "assume(b_x > 0)\n",
    "assume(a_y > 0)\n",
    "assume(b_y > 0)\n",
    "\n",
    "x,y = var(\"x,y\")\n",
    "\n",
    "n = QQ['n'].0\n",
    "j = QQ['j'].0\n",
    "\n",
    "p = 4\n",
    "p = 3\n",
    "p = 2\n",
    "p = 1\n",
    "\n",
    "#F = function(\"F\")(x, y)\n",
    "print(F)"
   ]
  },
  {
   "cell_type": "markdown",
   "metadata": {},
   "source": [
    "$${\\displaystyle R_{p}=(-1)^{p+1}\\sum_{j=a}^{b-1} \\int _{0}^{1}f^{(p)}(u+j){\\frac {B_{p}(u)}{p!}}\\,du.}$$"
   ]
  },
  {
   "cell_type": "code",
   "execution_count": 17,
   "metadata": {},
   "outputs": [],
   "source": [
    "use_int_R_p_j=True\n",
    "change_R_p_order=True\n",
    "use_int_R_p_shifted_first=True\n",
    "use_num_int = False\n",
    "logging = False"
   ]
  },
  {
   "cell_type": "code",
   "execution_count": 18,
   "metadata": {},
   "outputs": [
    {
     "name": "stdout",
     "output_type": "stream",
     "text": [
      "int_int= integrate(integrate(F(x, y), x, n_x, b_x), y, n_y, b_y)\n"
     ]
    },
    {
     "data": {
      "text/latex": [
       "$\\displaystyle \\int_{n_{y}}^{b_{y}} \\int_{n_{x}}^{b_{x}} F\\left(x, y\\right)\\,{d x}\\,{d y}$"
      ],
      "text/plain": [
       "<IPython.core.display.Math object>"
      ]
     },
     "metadata": {},
     "output_type": "display_data"
    }
   ],
   "source": [
    "int_int = integral(integral           (F,(x, a_x, b_x)),  (y, a_y, b_y))\n",
    "print(\"int_int=\", int_int)\n",
    "#print(\"int_int=$\", latex(int_int),\"$\")\n",
    "display(Math(latex(int_int)))"
   ]
  },
  {
   "cell_type": "code",
   "execution_count": 19,
   "metadata": {},
   "outputs": [
    {
     "name": "stdout",
     "output_type": "stream",
     "text": [
      "int_sum= -1/12*integrate(-6*F(n_x, y), y, n_y, b_y) - 1/12*integrate(diff(F(n_x, y), n_x), y, n_y, b_y)\n"
     ]
    },
    {
     "data": {
      "text/latex": [
       "$\\displaystyle \\frac{1}{2} \\, \\int_{n_{y}}^{b_{y}} F\\left(n_{x}, y\\right)\\,{d y} - \\frac{1}{12} \\, \\int_{n_{y}}^{b_{y}} \\frac{\\partial}{\\partial n_{x}}F\\left(n_{x}, y\\right)\\,{d y}$"
      ],
      "text/plain": [
       "<IPython.core.display.Math object>"
      ]
     },
     "metadata": {},
     "output_type": "display_data"
    }
   ],
   "source": [
    "int_sum = integral(sum_dfdx_bernoulis (F, x, a_x, b_x,p), (y, a_y, b_y))\n",
    "print(\"int_sum=\", int_sum)\n",
    "#print(\"int_sum=$\", latex(int_sum.expand()),\"$\")\n",
    "display(Math(latex(int_sum.expand())))"
   ]
  },
  {
   "cell_type": "code",
   "execution_count": 20,
   "metadata": {},
   "outputs": [
    {
     "name": "stdout",
     "output_type": "stream",
     "text": [
      "inty_sumx_str= integral(- ( + (-1/2) * (F(x, y)) + (1/12) * (F(x, y)).diff(x, 1) + (0) * (F(x, y)).diff(x, 2)).subs(x==n_x), (y, a_y, b_y))\n",
      "inty_sumx=integral(- ( + (-Integer(1)/Integer(2)) * (F(x, y)) + (Integer(1)/Integer(12)) * (F(x, y)).diff(x, Integer(1)) + (Integer(0)) * (F(x, y)).diff(x, Integer(2))).subs(x==n_x), (y, a_y, b_y))\n"
     ]
    },
    {
     "name": "stderr",
     "output_type": "stream",
     "text": [
      "<string>:1: DeprecationWarning: Substitution using function-call syntax and unnamed arguments is deprecated and will be removed from a future release of Sage; you can use named arguments instead, like EXPR(x=..., y=...)\n",
      "See http://trac.sagemath.org/5930 for details.\n"
     ]
    },
    {
     "data": {
      "text/latex": [
       "$\\displaystyle inty(sumx) = -\\frac{1}{12} \\, \\int_{n_{y}}^{b_{y}} -6 \\, F\\left(n_{x}, y\\right)\\,{d y} - \\frac{1}{12} \\, \\int_{n_{y}}^{b_{y}} \\frac{\\partial}{\\partial n_{x}}F\\left(n_{x}, y\\right)\\,{d y}$"
      ],
      "text/plain": [
       "<IPython.core.display.Math object>"
      ]
     },
     "metadata": {},
     "output_type": "display_data"
    }
   ],
   "source": [
    "sumx_str = sum_dfdx_bernoulis_str (F, x, a_x, b_x, p)\n",
    "inty_sumx_str = \"integral(\" + sumx_str + \", (y, a_y, b_y))\"\n",
    "print(\"inty_sumx_str=\", inty_sumx_str)\n",
    "exec(preparse(\"inty_sumx=\" + inty_sumx_str))\n",
    "print(preparse(\"inty_sumx=\" + inty_sumx_str))\n",
    "#print(\"inty_sumx = $\", latex(inty_sumx),\"$\")\n",
    "display(Math(\"inty(sumx) = \" + latex(inty_sumx)))"
   ]
  },
  {
   "cell_type": "code",
   "execution_count": 21,
   "metadata": {},
   "outputs": [
    {
     "name": "stdout",
     "output_type": "stream",
     "text": [
      "inty_R_px= integrate(integrate(sum(1/12*(2*v_x^3 - 3*v_x^2 + v_x)*D[0, 0, 0](F)(j_x + v_x, y), j_x, n_x, b_x - 1), v_x, 0, 1), y, n_y, b_y)\n"
     ]
    },
    {
     "data": {
      "text/latex": [
       "$\\displaystyle \\int_{n_{y}}^{b_{y}} \\int_{0}^{1} {\\sum_{j_{x}=n_{x}}^{b_{x} - 1} \\frac{1}{12} \\, {\\left(2 \\, v_{x}^{3} - 3 \\, v_{x}^{2} + v_{x}\\right)} \\mathrm{D}_{0, 0, 0}\\left(F\\right)\\left(j_{x} + v_{x}, y\\right)}\\,{d v_{x}}\\,{d y}$"
      ],
      "text/plain": [
       "<IPython.core.display.Math object>"
      ]
     },
     "metadata": {},
     "output_type": "display_data"
    },
    {
     "name": "stdout",
     "output_type": "stream",
     "text": [
      "inty_R_px= integrate(integrate(sum(1/12*(2*v_x^3 - 3*v_x^2 + v_x)*D[0, 0, 0](F)(j_x + v_x, y), j_x, n_x, b_x - 1), v_x, 0, 1), y, n_y, b_y)\n"
     ]
    },
    {
     "data": {
      "text/latex": [
       "$\\displaystyle \\int_{n_{y}}^{b_{y}} \\int_{0}^{1} {\\sum_{j_{x}=n_{x}}^{b_{x} - 1} \\frac{1}{12} \\, {\\left(2 \\, v_{x}^{3} - 3 \\, v_{x}^{2} + v_{x}\\right)} \\mathrm{D}_{0, 0, 0}\\left(F\\right)\\left(j_{x} + v_{x}, y\\right)}\\,{d v_{x}}\\,{d y}$"
      ],
      "text/plain": [
       "<IPython.core.display.Math object>"
      ]
     },
     "metadata": {},
     "output_type": "display_data"
    }
   ],
   "source": [
    "R_px = euler_maclaurin_R_p(F, x, a_x, b_x,p)\n",
    "if type(R_px) is tuple:\n",
    "    inty_R_px = integral(R_px[0], (y, a_y, b_y), hold=True)\n",
    "else:\n",
    "    inty_R_px = integral(R_px, (y, a_y, b_y), hold=True)\n",
    "\n",
    "print(\"inty_R_px=\",inty_R_px)\n",
    "#print(\"inty_R_px=$\",latex(inty_R_px),\"$\")\n",
    "display(Math(latex(inty_R_px)))\n",
    "\n",
    "inty_R_px = integral_euler_maclaurin_R_p(F, x, a_x, b_x, y, a_y, b_y, p, diff(F,x,p), hold_int=True, hold_sum=True)\n",
    "print(\"inty_R_px=\",inty_R_px)\n",
    "#print(\"inty_R_px=$\",latex(inty_R_px),\"$\")\n",
    "display(Math(latex(inty_R_px)))\n"
   ]
  },
  {
   "cell_type": "code",
   "execution_count": 22,
   "metadata": {},
   "outputs": [
    {
     "name": "stdout",
     "output_type": "stream",
     "text": [
      "sum_int= 1/2*integrate(F(x, n_y), x, n_x, b_x) - 1/12*integrate(diff(F(x, n_y), n_y), x, n_x, b_x)\n"
     ]
    },
    {
     "data": {
      "text/latex": [
       "$\\displaystyle \\frac{1}{2} \\, \\int_{n_{x}}^{b_{x}} F\\left(x, n_{y}\\right)\\,{d x} - \\frac{1}{12} \\, \\int_{n_{x}}^{b_{x}} \\frac{\\partial}{\\partial n_{y}}F\\left(x, n_{y}\\right)\\,{d x}$"
      ],
      "text/plain": [
       "<IPython.core.display.Math object>"
      ]
     },
     "metadata": {},
     "output_type": "display_data"
    }
   ],
   "source": [
    "sum_int = sum_dfdx_bernoulis(integral           (F,(x, a_x, b_x)),  y, a_y, b_y, p)\n",
    "print(\"sum_int=\",sum_int)\n",
    "#print(\"sum_int=$\",latex(sum_int),\"$\")\n",
    "display(Math(latex(sum_int)))"
   ]
  },
  {
   "cell_type": "code",
   "execution_count": 23,
   "metadata": {},
   "outputs": [
    {
     "name": "stdout",
     "output_type": "stream",
     "text": [
      "sum_sum= 1/4*F(n_x, n_y) - 1/24*diff(F(n_x, n_y), n_x) + 1/144*diff(F(n_x, n_y), n_x, n_y) - 1/24*diff(F(n_x, n_y), n_y)\n"
     ]
    },
    {
     "data": {
      "text/latex": [
       "$\\displaystyle \\frac{1}{4} \\, F\\left(n_{x}, n_{y}\\right) - \\frac{1}{24} \\, \\frac{\\partial}{\\partial n_{x}}F\\left(n_{x}, n_{y}\\right) + \\frac{1}{144} \\, \\frac{\\partial^{2}}{\\partial n_{x}\\partial n_{y}}F\\left(n_{x}, n_{y}\\right) - \\frac{1}{24} \\, \\frac{\\partial}{\\partial n_{y}}F\\left(n_{x}, n_{y}\\right)$"
      ],
      "text/plain": [
       "<IPython.core.display.Math object>"
      ]
     },
     "metadata": {},
     "output_type": "display_data"
    }
   ],
   "source": [
    "sum_sum = sum_dfdx_bernoulis(sum_dfdx_bernoulis (F, x, a_x, b_x,p), y, a_y, b_y, p)\n",
    "print(\"sum_sum=\",sum_sum)\n",
    "#print(\"sum_sum=$\",latex(sum_sum),\"$\")\n",
    "display(Math(latex(sum_sum)))"
   ]
  },
  {
   "cell_type": "code",
   "execution_count": 24,
   "metadata": {},
   "outputs": [
    {
     "name": "stdout",
     "output_type": "stream",
     "text": [
      "R_px= integrate(sum(1/12*(2*v_x^3 - 3*v_x^2 + v_x)*D[0, 0, 0](F)(j_x + v_x, y), j_x, n_x, b_x - 1), v_x, 0, 1)\n"
     ]
    },
    {
     "data": {
      "text/latex": [
       "$\\displaystyle \\int_{0}^{1} {\\sum_{j_{x}=n_{x}}^{b_{x} - 1} \\frac{1}{12} \\, {\\left(2 \\, v_{x}^{3} - 3 \\, v_{x}^{2} + v_{x}\\right)} \\mathrm{D}_{0, 0, 0}\\left(F\\right)\\left(j_{x} + v_{x}, y\\right)}\\,{d v_{x}}$"
      ],
      "text/plain": [
       "<IPython.core.display.Math object>"
      ]
     },
     "metadata": {},
     "output_type": "display_data"
    },
    {
     "name": "stdout",
     "output_type": "stream",
     "text": [
      "sumy_R_px= 1/2*integrate(sum(1/12*(2*v_x^3 - 3*v_x^2 + v_x)*D[0, 0, 0](F)(j_x + v_x, n_y), j_x, n_x, b_x - 1), v_x, 0, 1) - 1/12*integrate(sum(1/12*(2*v_x^3 - 3*v_x^2 + v_x)*D[0, 0, 0, 1](F)(j_x + v_x, n_y), j_x, n_x, b_x - 1), v_x, 0, 1)\n"
     ]
    },
    {
     "data": {
      "text/latex": [
       "$\\displaystyle \\frac{1}{2} \\, \\int_{0}^{1} {\\sum_{j_{x}=n_{x}}^{b_{x} - 1} \\frac{1}{12} \\, {\\left(2 \\, v_{x}^{3} - 3 \\, v_{x}^{2} + v_{x}\\right)} \\mathrm{D}_{0, 0, 0}\\left(F\\right)\\left(j_{x} + v_{x}, n_{y}\\right)}\\,{d v_{x}} - \\frac{1}{12} \\, \\int_{0}^{1} {\\sum_{j_{x}=n_{x}}^{b_{x} - 1} \\frac{1}{12} \\, {\\left(2 \\, v_{x}^{3} - 3 \\, v_{x}^{2} + v_{x}\\right)} \\mathrm{D}_{0, 0, 0, 1}\\left(F\\right)\\left(j_{x} + v_{x}, n_{y}\\right)}\\,{d v_{x}}$"
      ],
      "text/plain": [
       "<IPython.core.display.Math object>"
      ]
     },
     "metadata": {},
     "output_type": "display_data"
    }
   ],
   "source": [
    "use_int_R_p_j=True\n",
    "\n",
    "# Sagemath 9.3 has bug diff of symbolic_sum\n",
    "# https://trac.sagemath.org/ticket/32161\n",
    "\n",
    "R_px = euler_maclaurin_R_p(F, x, a_x, b_x,p, f_diff_symb_p=F.diff(x,p))\n",
    "if type(R_px) is tuple:\n",
    "    (R_px, term) = R_px\n",
    "    print(\"term=\", term)\n",
    "    display(Math(latex(term)))\n",
    "\n",
    "print(\"R_px=\", R_px)\n",
    "display(Math(latex(R_px)))\n",
    "\n",
    "sumy_R_px = sum_dfdx_bernoulis(R_px, y, a_y, b_y, p)\n",
    "print(\"sumy_R_px=\",sumy_R_px)\n",
    "display(Math(latex(sumy_R_px)))"
   ]
  },
  {
   "cell_type": "code",
   "execution_count": 25,
   "metadata": {},
   "outputs": [
    {
     "name": "stdout",
     "output_type": "stream",
     "text": [
      "sum_R_p= 1/2*integrate(sum(1/12*(2*v_x^3 - 3*v_x^2 + v_x)*D[0, 0, 0](F)(j_x + v_x, n_y), j_x, n_x, b_x - 1), v_x, 0, 1) - 1/12*integrate(sum(1/12*(2*v_x^3 - 3*v_x^2 + v_x)*D[0, 0, 0, 1](F)(j_x + v_x, n_y), j_x, n_x, b_x - 1), v_x, 0, 1)\n"
     ]
    },
    {
     "data": {
      "text/latex": [
       "$\\displaystyle \\frac{1}{2} \\, \\int_{0}^{1} {\\sum_{j_{x}=n_{x}}^{b_{x} - 1} \\frac{1}{12} \\, {\\left(2 \\, v_{x}^{3} - 3 \\, v_{x}^{2} + v_{x}\\right)} \\mathrm{D}_{0, 0, 0}\\left(F\\right)\\left(j_{x} + v_{x}, n_{y}\\right)}\\,{d v_{x}} - \\frac{1}{12} \\, \\int_{0}^{1} {\\sum_{j_{x}=n_{x}}^{b_{x} - 1} \\frac{1}{12} \\, {\\left(2 \\, v_{x}^{3} - 3 \\, v_{x}^{2} + v_{x}\\right)} \\mathrm{D}_{0, 0, 0, 1}\\left(F\\right)\\left(j_{x} + v_{x}, n_{y}\\right)}\\,{d v_{x}}$"
      ],
      "text/plain": [
       "<IPython.core.display.Math object>"
      ]
     },
     "metadata": {},
     "output_type": "display_data"
    }
   ],
   "source": [
    "use_int_R_p_j=True\n",
    "sum_R_p = sum_dfdx_bernoulis(euler_maclaurin_R_p(F, x, a_x, b_x,p, f_diff_symb_p=F.diff(x,p)), y, a_y, b_y, p)\n",
    "print(\"sum_R_p=\",sum_R_p)\n",
    "display(Math(latex(sum_R_p)))"
   ]
  },
  {
   "cell_type": "code",
   "execution_count": 26,
   "metadata": {},
   "outputs": [
    {
     "name": "stdout",
     "output_type": "stream",
     "text": [
      "R_px= integrate(sum(1/12*(2*v_x^3 - 3*v_x^2 + v_x)*D[0, 0, 0](F)(j_x + v_x, y), j_x, n_x, b_x - 1), v_x, 0, 1)\n"
     ]
    },
    {
     "data": {
      "text/latex": [
       "$\\displaystyle \\int_{0}^{1} {\\sum_{j_{x}=n_{x}}^{b_{x} - 1} \\frac{1}{12} \\, {\\left(2 \\, v_{x}^{3} - 3 \\, v_{x}^{2} + v_{x}\\right)} \\mathrm{D}_{0, 0, 0}\\left(F\\right)\\left(j_{x} + v_{x}, y\\right)}\\,{d v_{x}}$"
      ],
      "text/plain": [
       "<IPython.core.display.Math object>"
      ]
     },
     "metadata": {},
     "output_type": "display_data"
    },
    {
     "name": "stdout",
     "output_type": "stream",
     "text": [
      "sumy_R_px= 1/2*integrate(sum(1/12*(2*v_x^3 - 3*v_x^2 + v_x)*D[0, 0, 0](F)(j_x + v_x, n_y), j_x, n_x, b_x - 1), v_x, 0, 1) - 1/12*integrate(sum(1/12*(2*v_x^3 - 3*v_x^2 + v_x)*D[0, 0, 0, 1](F)(j_x + v_x, n_y), j_x, n_x, b_x - 1), v_x, 0, 1)\n"
     ]
    },
    {
     "data": {
      "text/latex": [
       "$\\displaystyle \\frac{1}{2} \\, \\int_{0}^{1} {\\sum_{j_{x}=n_{x}}^{b_{x} - 1} \\frac{1}{12} \\, {\\left(2 \\, v_{x}^{3} - 3 \\, v_{x}^{2} + v_{x}\\right)} \\mathrm{D}_{0, 0, 0}\\left(F\\right)\\left(j_{x} + v_{x}, n_{y}\\right)}\\,{d v_{x}} - \\frac{1}{12} \\, \\int_{0}^{1} {\\sum_{j_{x}=n_{x}}^{b_{x} - 1} \\frac{1}{12} \\, {\\left(2 \\, v_{x}^{3} - 3 \\, v_{x}^{2} + v_{x}\\right)} \\mathrm{D}_{0, 0, 0, 1}\\left(F\\right)\\left(j_{x} + v_{x}, n_{y}\\right)}\\,{d v_{x}}$"
      ],
      "text/plain": [
       "<IPython.core.display.Math object>"
      ]
     },
     "metadata": {},
     "output_type": "display_data"
    },
    {
     "name": "stdout",
     "output_type": "stream",
     "text": [
      "sum_R_p= 1/2*integrate(sum(1/12*(2*v_x^3 - 3*v_x^2 + v_x)*D[0, 0, 0](F)(j_x + v_x, n_y), j_x, n_x, b_x - 1), v_x, 0, 1) - 1/12*integrate(sum(1/12*(2*v_x^3 - 3*v_x^2 + v_x)*D[0, 0, 0, 1](F)(j_x + v_x, n_y), j_x, n_x, b_x - 1), v_x, 0, 1)\n"
     ]
    },
    {
     "data": {
      "text/latex": [
       "$\\displaystyle \\frac{1}{2} \\, \\int_{0}^{1} {\\sum_{j_{x}=n_{x}}^{b_{x} - 1} \\frac{1}{12} \\, {\\left(2 \\, v_{x}^{3} - 3 \\, v_{x}^{2} + v_{x}\\right)} \\mathrm{D}_{0, 0, 0}\\left(F\\right)\\left(j_{x} + v_{x}, n_{y}\\right)}\\,{d v_{x}} - \\frac{1}{12} \\, \\int_{0}^{1} {\\sum_{j_{x}=n_{x}}^{b_{x} - 1} \\frac{1}{12} \\, {\\left(2 \\, v_{x}^{3} - 3 \\, v_{x}^{2} + v_{x}\\right)} \\mathrm{D}_{0, 0, 0, 1}\\left(F\\right)\\left(j_{x} + v_{x}, n_{y}\\right)}\\,{d v_{x}}$"
      ],
      "text/plain": [
       "<IPython.core.display.Math object>"
      ]
     },
     "metadata": {},
     "output_type": "display_data"
    }
   ],
   "source": [
    "use_int_R_p_j=True\n",
    "# Sagemath 9.3 has bug diff of symbolic_sum\n",
    "# https://trac.sagemath.org/ticket/32161\n",
    "\n",
    "R_px = euler_maclaurin_R_p(F, x, a_x, b_x,p, f_diff_symb_p=F.diff(x,p))\n",
    "print(\"R_px=\", R_px)\n",
    "#print(\"R_px=$\",latex(R_px),\"$\")\n",
    "display(Math(latex(R_px)))\n",
    "\n",
    "sumy_R_px = sum_dfdx_bernoulis(R_px, y, a_y, b_y, p)\n",
    "print(\"sumy_R_px=\",sumy_R_px)\n",
    "#print(\"sumy_R_px=$\",latex(sumy_R_px),\"$\")\n",
    "display(Math(latex(sumy_R_px)))\n",
    "\n",
    "sum_R_p = sum_dfdx_bernoulis(euler_maclaurin_R_p(F, x, a_x, b_x,p, f_diff_symb_p=F.diff(x,p)), y, a_y, b_y, p)\n",
    "print(\"sum_R_p=\",sum_R_p)\n",
    "#print(\"sum_R_p=$\",latex(sum_R_p),\"$\")\n",
    "display(Math(latex(sum_R_p)))"
   ]
  },
  {
   "cell_type": "code",
   "execution_count": 27,
   "metadata": {},
   "outputs": [
    {
     "name": "stdout",
     "output_type": "stream",
     "text": [
      "R_px= integrate(1/12*(2*(x - floor(x))^3 - 3*(x - floor(x))^2 + x - floor(x))*diff(F(x, y), x, x, x), x, n_x, b_x)\n"
     ]
    },
    {
     "data": {
      "text/latex": [
       "$\\displaystyle \\int_{n_{x}}^{b_{x}} \\frac{1}{12} \\, {\\left(2 \\, {\\left(x - \\left \\lfloor x \\right \\rfloor\\right)}^{3} - 3 \\, {\\left(x - \\left \\lfloor x \\right \\rfloor\\right)}^{2} + x - \\left \\lfloor x \\right \\rfloor\\right)} \\frac{\\partial^{3}}{(\\partial x)^{3}}F\\left(x, y\\right)\\,{d x}$"
      ],
      "text/plain": [
       "<IPython.core.display.Math object>"
      ]
     },
     "metadata": {},
     "output_type": "display_data"
    },
    {
     "name": "stdout",
     "output_type": "stream",
     "text": [
      "sumy_R_px= 1/24*integrate(2*x^3*diff(F(x, n_y), x, x, x), x, n_x, b_x) + 1/24*integrate(-6*x^2*floor(x)*diff(F(x, n_y), x, x, x), x, n_x, b_x) + 1/24*integrate(6*x*floor(x)^2*diff(F(x, n_y), x, x, x), x, n_x, b_x) + 1/24*integrate(-2*floor(x)^3*diff(F(x, n_y), x, x, x), x, n_x, b_x) + 1/24*integrate(-3*x^2*diff(F(x, n_y), x, x, x), x, n_x, b_x) + 1/24*integrate(6*x*floor(x)*diff(F(x, n_y), x, x, x), x, n_x, b_x) + 1/24*integrate(-3*floor(x)^2*diff(F(x, n_y), x, x, x), x, n_x, b_x) + 1/24*integrate(x*diff(F(x, n_y), x, x, x), x, n_x, b_x) + 1/24*integrate(-floor(x)*diff(F(x, n_y), x, x, x), x, n_x, b_x) - 1/144*integrate((2*(x - floor(x))^3 - 3*(x - floor(x))^2 + x - floor(x))*diff(F(x, n_y), x, x, x, n_y), x, n_x, b_x)\n"
     ]
    },
    {
     "data": {
      "text/latex": [
       "$\\displaystyle \\frac{1}{24} \\, \\int_{n_{x}}^{b_{x}} 2 \\, x^{3} \\frac{\\partial^{3}}{(\\partial x)^{3}}F\\left(x, n_{y}\\right)\\,{d x} + \\frac{1}{24} \\, \\int_{n_{x}}^{b_{x}} -6 \\, x^{2} \\left \\lfloor x \\right \\rfloor \\frac{\\partial^{3}}{(\\partial x)^{3}}F\\left(x, n_{y}\\right)\\,{d x} + \\frac{1}{24} \\, \\int_{n_{x}}^{b_{x}} 6 \\, x \\left \\lfloor x \\right \\rfloor^{2} \\frac{\\partial^{3}}{(\\partial x)^{3}}F\\left(x, n_{y}\\right)\\,{d x} + \\frac{1}{24} \\, \\int_{n_{x}}^{b_{x}} -2 \\, \\left \\lfloor x \\right \\rfloor^{3} \\frac{\\partial^{3}}{(\\partial x)^{3}}F\\left(x, n_{y}\\right)\\,{d x} + \\frac{1}{24} \\, \\int_{n_{x}}^{b_{x}} -3 \\, x^{2} \\frac{\\partial^{3}}{(\\partial x)^{3}}F\\left(x, n_{y}\\right)\\,{d x} + \\frac{1}{24} \\, \\int_{n_{x}}^{b_{x}} 6 \\, x \\left \\lfloor x \\right \\rfloor \\frac{\\partial^{3}}{(\\partial x)^{3}}F\\left(x, n_{y}\\right)\\,{d x} + \\frac{1}{24} \\, \\int_{n_{x}}^{b_{x}} -3 \\, \\left \\lfloor x \\right \\rfloor^{2} \\frac{\\partial^{3}}{(\\partial x)^{3}}F\\left(x, n_{y}\\right)\\,{d x} + \\frac{1}{24} \\, \\int_{n_{x}}^{b_{x}} x \\frac{\\partial^{3}}{(\\partial x)^{3}}F\\left(x, n_{y}\\right)\\,{d x} + \\frac{1}{24} \\, \\int_{n_{x}}^{b_{x}} -\\left \\lfloor x \\right \\rfloor \\frac{\\partial^{3}}{(\\partial x)^{3}}F\\left(x, n_{y}\\right)\\,{d x} - \\frac{1}{144} \\, \\int_{n_{x}}^{b_{x}} {\\left(2 \\, {\\left(x - \\left \\lfloor x \\right \\rfloor\\right)}^{3} - 3 \\, {\\left(x - \\left \\lfloor x \\right \\rfloor\\right)}^{2} + x - \\left \\lfloor x \\right \\rfloor\\right)} \\frac{\\partial^{4}}{(\\partial x)^{3}\\partial n_{y}}F\\left(x, n_{y}\\right)\\,{d x}$"
      ],
      "text/plain": [
       "<IPython.core.display.Math object>"
      ]
     },
     "metadata": {},
     "output_type": "display_data"
    },
    {
     "name": "stdout",
     "output_type": "stream",
     "text": [
      "sum_R_p= 1/24*integrate(2*x^3*diff(F(x, n_y), x, x, x), x, n_x, b_x) + 1/24*integrate(-6*x^2*floor(x)*diff(F(x, n_y), x, x, x), x, n_x, b_x) + 1/24*integrate(6*x*floor(x)^2*diff(F(x, n_y), x, x, x), x, n_x, b_x) + 1/24*integrate(-2*floor(x)^3*diff(F(x, n_y), x, x, x), x, n_x, b_x) - 1/72*integrate(x^3*diff(F(x, n_y), x, x, x, n_y), x, n_x, b_x) + 1/24*integrate(x^2*floor(x)*diff(F(x, n_y), x, x, x, n_y), x, n_x, b_x) - 1/24*integrate(x*floor(x)^2*diff(F(x, n_y), x, x, x, n_y), x, n_x, b_x) + 1/72*integrate(floor(x)^3*diff(F(x, n_y), x, x, x, n_y), x, n_x, b_x) + 1/24*integrate(-3*x^2*diff(F(x, n_y), x, x, x), x, n_x, b_x) + 1/24*integrate(6*x*floor(x)*diff(F(x, n_y), x, x, x), x, n_x, b_x) + 1/24*integrate(-3*floor(x)^2*diff(F(x, n_y), x, x, x), x, n_x, b_x) + 1/48*integrate(x^2*diff(F(x, n_y), x, x, x, n_y), x, n_x, b_x) - 1/24*integrate(x*floor(x)*diff(F(x, n_y), x, x, x, n_y), x, n_x, b_x) + 1/48*integrate(floor(x)^2*diff(F(x, n_y), x, x, x, n_y), x, n_x, b_x) + 1/24*integrate(x*diff(F(x, n_y), x, x, x), x, n_x, b_x) + 1/24*integrate(-floor(x)*diff(F(x, n_y), x, x, x), x, n_x, b_x) - 1/144*integrate(x*diff(F(x, n_y), x, x, x, n_y), x, n_x, b_x) + 1/144*integrate(floor(x)*diff(F(x, n_y), x, x, x, n_y), x, n_x, b_x)\n"
     ]
    },
    {
     "data": {
      "text/latex": [
       "$\\displaystyle \\frac{1}{24} \\, \\int_{n_{x}}^{b_{x}} 2 \\, x^{3} \\frac{\\partial^{3}}{(\\partial x)^{3}}F\\left(x, n_{y}\\right)\\,{d x} + \\frac{1}{24} \\, \\int_{n_{x}}^{b_{x}} -6 \\, x^{2} \\left \\lfloor x \\right \\rfloor \\frac{\\partial^{3}}{(\\partial x)^{3}}F\\left(x, n_{y}\\right)\\,{d x} + \\frac{1}{24} \\, \\int_{n_{x}}^{b_{x}} 6 \\, x \\left \\lfloor x \\right \\rfloor^{2} \\frac{\\partial^{3}}{(\\partial x)^{3}}F\\left(x, n_{y}\\right)\\,{d x} + \\frac{1}{24} \\, \\int_{n_{x}}^{b_{x}} -2 \\, \\left \\lfloor x \\right \\rfloor^{3} \\frac{\\partial^{3}}{(\\partial x)^{3}}F\\left(x, n_{y}\\right)\\,{d x} - \\frac{1}{72} \\, \\int_{n_{x}}^{b_{x}} x^{3} \\frac{\\partial^{4}}{(\\partial x)^{3}\\partial n_{y}}F\\left(x, n_{y}\\right)\\,{d x} + \\frac{1}{24} \\, \\int_{n_{x}}^{b_{x}} x^{2} \\left \\lfloor x \\right \\rfloor \\frac{\\partial^{4}}{(\\partial x)^{3}\\partial n_{y}}F\\left(x, n_{y}\\right)\\,{d x} - \\frac{1}{24} \\, \\int_{n_{x}}^{b_{x}} x \\left \\lfloor x \\right \\rfloor^{2} \\frac{\\partial^{4}}{(\\partial x)^{3}\\partial n_{y}}F\\left(x, n_{y}\\right)\\,{d x} + \\frac{1}{72} \\, \\int_{n_{x}}^{b_{x}} \\left \\lfloor x \\right \\rfloor^{3} \\frac{\\partial^{4}}{(\\partial x)^{3}\\partial n_{y}}F\\left(x, n_{y}\\right)\\,{d x} + \\frac{1}{24} \\, \\int_{n_{x}}^{b_{x}} -3 \\, x^{2} \\frac{\\partial^{3}}{(\\partial x)^{3}}F\\left(x, n_{y}\\right)\\,{d x} + \\frac{1}{24} \\, \\int_{n_{x}}^{b_{x}} 6 \\, x \\left \\lfloor x \\right \\rfloor \\frac{\\partial^{3}}{(\\partial x)^{3}}F\\left(x, n_{y}\\right)\\,{d x} + \\frac{1}{24} \\, \\int_{n_{x}}^{b_{x}} -3 \\, \\left \\lfloor x \\right \\rfloor^{2} \\frac{\\partial^{3}}{(\\partial x)^{3}}F\\left(x, n_{y}\\right)\\,{d x} + \\frac{1}{48} \\, \\int_{n_{x}}^{b_{x}} x^{2} \\frac{\\partial^{4}}{(\\partial x)^{3}\\partial n_{y}}F\\left(x, n_{y}\\right)\\,{d x} - \\frac{1}{24} \\, \\int_{n_{x}}^{b_{x}} x \\left \\lfloor x \\right \\rfloor \\frac{\\partial^{4}}{(\\partial x)^{3}\\partial n_{y}}F\\left(x, n_{y}\\right)\\,{d x} + \\frac{1}{48} \\, \\int_{n_{x}}^{b_{x}} \\left \\lfloor x \\right \\rfloor^{2} \\frac{\\partial^{4}}{(\\partial x)^{3}\\partial n_{y}}F\\left(x, n_{y}\\right)\\,{d x} + \\frac{1}{24} \\, \\int_{n_{x}}^{b_{x}} x \\frac{\\partial^{3}}{(\\partial x)^{3}}F\\left(x, n_{y}\\right)\\,{d x} + \\frac{1}{24} \\, \\int_{n_{x}}^{b_{x}} -\\left \\lfloor x \\right \\rfloor \\frac{\\partial^{3}}{(\\partial x)^{3}}F\\left(x, n_{y}\\right)\\,{d x} - \\frac{1}{144} \\, \\int_{n_{x}}^{b_{x}} x \\frac{\\partial^{4}}{(\\partial x)^{3}\\partial n_{y}}F\\left(x, n_{y}\\right)\\,{d x} + \\frac{1}{144} \\, \\int_{n_{x}}^{b_{x}} \\left \\lfloor x \\right \\rfloor \\frac{\\partial^{4}}{(\\partial x)^{3}\\partial n_{y}}F\\left(x, n_{y}\\right)\\,{d x}$"
      ],
      "text/plain": [
       "<IPython.core.display.Math object>"
      ]
     },
     "metadata": {},
     "output_type": "display_data"
    }
   ],
   "source": [
    "use_int_R_p_j=False\n",
    "\n",
    "R_px = euler_maclaurin_R_p(F, x, a_x, b_x,p, f_diff_symb_p=F.diff(x,p))\n",
    "print(\"R_px=\", R_px)\n",
    "#print(\"R_px=$\",latex(R_px),\"$\")\n",
    "display(Math(latex(R_px)))\n",
    "\n",
    "sumy_R_px = sum_dfdx_bernoulis(R_px, y, a_y, b_y, p)\n",
    "print(\"sumy_R_px=\",sumy_R_px)\n",
    "#print(\"sumy_R_px=$\",latex(sumy_R_px),\"$\")\n",
    "display(Math(latex(sumy_R_px)))\n",
    "\n",
    "sum_R_p = sum_dfdx_bernoulis(euler_maclaurin_R_p(F, x, a_x, b_x,p, f_diff_symb_p=F.diff(x,p)), y, a_y, b_y, p)\n",
    "print(\"sum_R_p=\",sum_R_p)\n",
    "#print(\"sum_R_p=$\",latex(sum_R_p),\"$\")\n",
    "display(Math(latex(sum_R_p)))"
   ]
  },
  {
   "cell_type": "code",
   "execution_count": 28,
   "metadata": {},
   "outputs": [
    {
     "name": "stdout",
     "output_type": "stream",
     "text": [
      "sum_R_p= -1/24*integrate(2*x^3*diff(F(x, b_y), x, x, x), x, n_x, b_x) - 1/24*integrate(-6*x^2*floor(x)*diff(F(x, b_y), x, x, x), x, n_x, b_x) - 1/24*integrate(6*x*floor(x)^2*diff(F(x, b_y), x, x, x), x, n_x, b_x) - 1/24*integrate(-2*floor(x)^3*diff(F(x, b_y), x, x, x), x, n_x, b_x) + 1/24*integrate(2*x^3*diff(F(x, n_y), x, x, x), x, n_x, b_x) + 1/24*integrate(-6*x^2*floor(x)*diff(F(x, n_y), x, x, x), x, n_x, b_x) + 1/24*integrate(6*x*floor(x)^2*diff(F(x, n_y), x, x, x), x, n_x, b_x) + 1/24*integrate(-2*floor(x)^3*diff(F(x, n_y), x, x, x), x, n_x, b_x) - 1/24*integrate(-3*x^2*diff(F(x, b_y), x, x, x), x, n_x, b_x) - 1/24*integrate(6*x*floor(x)*diff(F(x, b_y), x, x, x), x, n_x, b_x) - 1/24*integrate(-3*floor(x)^2*diff(F(x, b_y), x, x, x), x, n_x, b_x) + 1/24*integrate(-3*x^2*diff(F(x, n_y), x, x, x), x, n_x, b_x) + 1/24*integrate(6*x*floor(x)*diff(F(x, n_y), x, x, x), x, n_x, b_x) + 1/24*integrate(-3*floor(x)^2*diff(F(x, n_y), x, x, x), x, n_x, b_x) - 1/24*integrate(x*diff(F(x, b_y), x, x, x), x, n_x, b_x) - 1/24*integrate(-floor(x)*diff(F(x, b_y), x, x, x), x, n_x, b_x) + 1/144*integrate((2*(x - floor(x))^3 - 3*(x - floor(x))^2 + x - floor(x))*diff(F(x, b_y), x, x, x, b_y), x, n_x, b_x) + 1/24*integrate(x*diff(F(x, n_y), x, x, x), x, n_x, b_x) + 1/24*integrate(-floor(x)*diff(F(x, n_y), x, x, x), x, n_x, b_x) - 1/144*integrate((2*(x - floor(x))^3 - 3*(x - floor(x))^2 + x - floor(x))*diff(F(x, n_y), x, x, x, n_y), x, n_x, b_x)\n"
     ]
    },
    {
     "data": {
      "text/latex": [
       "$\\displaystyle -\\frac{1}{24} \\, \\int_{n_{x}}^{b_{x}} 2 \\, x^{3} \\frac{\\partial^{3}}{(\\partial x)^{3}}F\\left(x, b_{y}\\right)\\,{d x} - \\frac{1}{24} \\, \\int_{n_{x}}^{b_{x}} -6 \\, x^{2} \\left \\lfloor x \\right \\rfloor \\frac{\\partial^{3}}{(\\partial x)^{3}}F\\left(x, b_{y}\\right)\\,{d x} - \\frac{1}{24} \\, \\int_{n_{x}}^{b_{x}} 6 \\, x \\left \\lfloor x \\right \\rfloor^{2} \\frac{\\partial^{3}}{(\\partial x)^{3}}F\\left(x, b_{y}\\right)\\,{d x} - \\frac{1}{24} \\, \\int_{n_{x}}^{b_{x}} -2 \\, \\left \\lfloor x \\right \\rfloor^{3} \\frac{\\partial^{3}}{(\\partial x)^{3}}F\\left(x, b_{y}\\right)\\,{d x} + \\frac{1}{24} \\, \\int_{n_{x}}^{b_{x}} 2 \\, x^{3} \\frac{\\partial^{3}}{(\\partial x)^{3}}F\\left(x, n_{y}\\right)\\,{d x} + \\frac{1}{24} \\, \\int_{n_{x}}^{b_{x}} -6 \\, x^{2} \\left \\lfloor x \\right \\rfloor \\frac{\\partial^{3}}{(\\partial x)^{3}}F\\left(x, n_{y}\\right)\\,{d x} + \\frac{1}{24} \\, \\int_{n_{x}}^{b_{x}} 6 \\, x \\left \\lfloor x \\right \\rfloor^{2} \\frac{\\partial^{3}}{(\\partial x)^{3}}F\\left(x, n_{y}\\right)\\,{d x} + \\frac{1}{24} \\, \\int_{n_{x}}^{b_{x}} -2 \\, \\left \\lfloor x \\right \\rfloor^{3} \\frac{\\partial^{3}}{(\\partial x)^{3}}F\\left(x, n_{y}\\right)\\,{d x} - \\frac{1}{24} \\, \\int_{n_{x}}^{b_{x}} -3 \\, x^{2} \\frac{\\partial^{3}}{(\\partial x)^{3}}F\\left(x, b_{y}\\right)\\,{d x} - \\frac{1}{24} \\, \\int_{n_{x}}^{b_{x}} 6 \\, x \\left \\lfloor x \\right \\rfloor \\frac{\\partial^{3}}{(\\partial x)^{3}}F\\left(x, b_{y}\\right)\\,{d x} - \\frac{1}{24} \\, \\int_{n_{x}}^{b_{x}} -3 \\, \\left \\lfloor x \\right \\rfloor^{2} \\frac{\\partial^{3}}{(\\partial x)^{3}}F\\left(x, b_{y}\\right)\\,{d x} + \\frac{1}{24} \\, \\int_{n_{x}}^{b_{x}} -3 \\, x^{2} \\frac{\\partial^{3}}{(\\partial x)^{3}}F\\left(x, n_{y}\\right)\\,{d x} + \\frac{1}{24} \\, \\int_{n_{x}}^{b_{x}} 6 \\, x \\left \\lfloor x \\right \\rfloor \\frac{\\partial^{3}}{(\\partial x)^{3}}F\\left(x, n_{y}\\right)\\,{d x} + \\frac{1}{24} \\, \\int_{n_{x}}^{b_{x}} -3 \\, \\left \\lfloor x \\right \\rfloor^{2} \\frac{\\partial^{3}}{(\\partial x)^{3}}F\\left(x, n_{y}\\right)\\,{d x} - \\frac{1}{24} \\, \\int_{n_{x}}^{b_{x}} x \\frac{\\partial^{3}}{(\\partial x)^{3}}F\\left(x, b_{y}\\right)\\,{d x} - \\frac{1}{24} \\, \\int_{n_{x}}^{b_{x}} -\\left \\lfloor x \\right \\rfloor \\frac{\\partial^{3}}{(\\partial x)^{3}}F\\left(x, b_{y}\\right)\\,{d x} + \\frac{1}{144} \\, \\int_{n_{x}}^{b_{x}} {\\left(2 \\, {\\left(x - \\left \\lfloor x \\right \\rfloor\\right)}^{3} - 3 \\, {\\left(x - \\left \\lfloor x \\right \\rfloor\\right)}^{2} + x - \\left \\lfloor x \\right \\rfloor\\right)} \\frac{\\partial^{4}}{(\\partial x)^{3}\\partial b_{y}}F\\left(x, b_{y}\\right)\\,{d x} + \\frac{1}{24} \\, \\int_{n_{x}}^{b_{x}} x \\frac{\\partial^{3}}{(\\partial x)^{3}}F\\left(x, n_{y}\\right)\\,{d x} + \\frac{1}{24} \\, \\int_{n_{x}}^{b_{x}} -\\left \\lfloor x \\right \\rfloor \\frac{\\partial^{3}}{(\\partial x)^{3}}F\\left(x, n_{y}\\right)\\,{d x} - \\frac{1}{144} \\, \\int_{n_{x}}^{b_{x}} {\\left(2 \\, {\\left(x - \\left \\lfloor x \\right \\rfloor\\right)}^{3} - 3 \\, {\\left(x - \\left \\lfloor x \\right \\rfloor\\right)}^{2} + x - \\left \\lfloor x \\right \\rfloor\\right)} \\frac{\\partial^{4}}{(\\partial x)^{3}\\partial n_{y}}F\\left(x, n_{y}\\right)\\,{d x}$"
      ],
      "text/plain": [
       "<IPython.core.display.Math object>"
      ]
     },
     "metadata": {},
     "output_type": "display_data"
    }
   ],
   "source": [
    "# with p = 3 I had\n",
    "# bug with zeroing of array of lambdas\n",
    "# here (inside sum_dfdx_bernoulis_euler_maclaurin_R_p)\n",
    "# Fixed!!!\n",
    "use_int_R_p_j=False\n",
    "#logging = True\n",
    "sum_R_p = sum_dfdx_bernoulis_euler_maclaurin_R_p(F, x, a_x, b_x,    y, a_y, b_y, p)\n",
    "\n",
    "if type(sum_R_p) is tuple:\n",
    "    print(\"sum_R_p=\",sum_R_p[0])\n",
    "    #print(\"sum_R_p=$\",latex(sum_R_p[0]),\"$\")\n",
    "    display(Math(latex(sum_R_p[0])))\n",
    "else:\n",
    "    print(\"sum_R_p=\",sum_R_p)\n",
    "    #print(\"sum_R_p=$\",latex(sum_R_p),\"$\")\n",
    "    display(Math(latex(sum_R_p)))"
   ]
  },
  {
   "cell_type": "code",
   "execution_count": 29,
   "metadata": {},
   "outputs": [
    {
     "name": "stdout",
     "output_type": "stream",
     "text": [
      "int_F= integrate(F(x, y), x, n_x, b_x)\n"
     ]
    },
    {
     "data": {
      "text/latex": [
       "$\\displaystyle \\int_{n_{x}}^{b_{x}} F\\left(x, y\\right)\\,{d x}$"
      ],
      "text/plain": [
       "<IPython.core.display.Math object>"
      ]
     },
     "metadata": {},
     "output_type": "display_data"
    },
    {
     "name": "stdout",
     "output_type": "stream",
     "text": [
      "int_F_diff_y_p= integrate(diff(F(x, y), y, y, y), x, n_x, b_x)\n"
     ]
    },
    {
     "data": {
      "text/latex": [
       "$\\displaystyle \\int_{n_{x}}^{b_{x}} \\frac{\\partial^{3}}{(\\partial y)^{3}}F\\left(x, y\\right)\\,{d x}$"
      ],
      "text/plain": [
       "<IPython.core.display.Math object>"
      ]
     },
     "metadata": {},
     "output_type": "display_data"
    },
    {
     "name": "stdout",
     "output_type": "stream",
     "text": [
      "R_p_int= integrate(1/12*(2*(y - floor(y))^3 - 3*(y - floor(y))^2 + y - floor(y))*integrate(diff(F(x, y), y, y, y), x, n_x, b_x), y, n_y, b_y)\n"
     ]
    },
    {
     "data": {
      "text/latex": [
       "$\\displaystyle \\int_{n_{y}}^{b_{y}} \\frac{1}{12} \\, {\\left(2 \\, {\\left(y - \\left \\lfloor y \\right \\rfloor\\right)}^{3} - 3 \\, {\\left(y - \\left \\lfloor y \\right \\rfloor\\right)}^{2} + y - \\left \\lfloor y \\right \\rfloor\\right)} \\int_{n_{x}}^{b_{x}} \\frac{\\partial^{3}}{(\\partial y)^{3}}F\\left(x, y\\right)\\,{d x}\\,{d y}$"
      ],
      "text/plain": [
       "<IPython.core.display.Math object>"
      ]
     },
     "metadata": {},
     "output_type": "display_data"
    }
   ],
   "source": [
    "int_F = integral           (F,(x, a_x, b_x), hold=True)\n",
    "print(\"int_F=\",int_F)\n",
    "display(Math(latex(int_F)))\n",
    "\n",
    "int_F_diff_y_p = int_F.diff(y,p)\n",
    "print(\"int_F_diff_y_p=\",int_F_diff_y_p)\n",
    "display(Math(latex(int_F_diff_y_p)))\n",
    "\n",
    "R_p_int = euler_maclaurin_R_p(int_F, y, a_y, b_y, p, f_diff_symb_p=int_F.diff(y,p))\n",
    "print(\"R_p_int=\",R_p_int)\n",
    "display(Math(latex(R_p_int)))"
   ]
  },
  {
   "cell_type": "code",
   "execution_count": 30,
   "metadata": {},
   "outputs": [
    {
     "name": "stdout",
     "output_type": "stream",
     "text": [
      "sum_F= 1/2*F(n_x, y) - 1/12*diff(F(n_x, y), n_x)\n"
     ]
    },
    {
     "data": {
      "text/latex": [
       "$\\displaystyle \\frac{1}{2} \\, F\\left(n_{x}, y\\right) - \\frac{1}{12} \\, \\frac{\\partial}{\\partial n_{x}}F\\left(n_{x}, y\\right)$"
      ],
      "text/plain": [
       "<IPython.core.display.Math object>"
      ]
     },
     "metadata": {},
     "output_type": "display_data"
    },
    {
     "name": "stdout",
     "output_type": "stream",
     "text": [
      "sum_F_diff_y_p= -1/12*diff(F(n_x, y), n_x, y, y, y) + 1/2*diff(F(n_x, y), y, y, y)\n"
     ]
    },
    {
     "data": {
      "text/latex": [
       "$\\displaystyle -\\frac{1}{12} \\, \\frac{\\partial^{4}}{\\partial n_{x}(\\partial y)^{3}}F\\left(n_{x}, y\\right) + \\frac{1}{2} \\, \\frac{\\partial^{3}}{(\\partial y)^{3}}F\\left(n_{x}, y\\right)$"
      ],
      "text/plain": [
       "<IPython.core.display.Math object>"
      ]
     },
     "metadata": {},
     "output_type": "display_data"
    },
    {
     "name": "stdout",
     "output_type": "stream",
     "text": [
      "R_p_sum= integrate(-1/144*(2*(y - floor(y))^3 - 3*(y - floor(y))^2 + y - floor(y))*(diff(F(n_x, y), n_x, y, y, y) - 6*diff(F(n_x, y), y, y, y)), y, n_y, b_y)\n"
     ]
    },
    {
     "data": {
      "text/latex": [
       "$\\displaystyle \\int_{n_{y}}^{b_{y}} -\\frac{1}{144} \\, {\\left(2 \\, {\\left(y - \\left \\lfloor y \\right \\rfloor\\right)}^{3} - 3 \\, {\\left(y - \\left \\lfloor y \\right \\rfloor\\right)}^{2} + y - \\left \\lfloor y \\right \\rfloor\\right)} {\\left(\\frac{\\partial^{4}}{\\partial n_{x}(\\partial y)^{3}}F\\left(n_{x}, y\\right) - 6 \\, \\frac{\\partial^{3}}{(\\partial y)^{3}}F\\left(n_{x}, y\\right)\\right)}\\,{d y}$"
      ],
      "text/plain": [
       "<IPython.core.display.Math object>"
      ]
     },
     "metadata": {},
     "output_type": "display_data"
    }
   ],
   "source": [
    "sum_F = sum_dfdx_bernoulis (F, x, a_x, b_x,p)\n",
    "print(\"sum_F=\",sum_F)\n",
    "display(Math(latex(sum_F)))\n",
    "\n",
    "sum_F_diff_y_p = sum_F.diff(y,p)\n",
    "print(\"sum_F_diff_y_p=\",sum_F_diff_y_p)\n",
    "display(Math(latex(sum_F_diff_y_p)))\n",
    "\n",
    "R_p_sum = euler_maclaurin_R_p(sum_F, y, a_y, b_y, p, f_diff_symb_p=sum_F_diff_y_p)\n",
    "print(\"R_p_sum=\",R_p_sum)\n",
    "#print(\"R_p_sum=$\",latex(R_p_sum),\"$\")\n",
    "display(Math(latex(R_p_sum)))"
   ]
  },
  {
   "cell_type": "code",
   "execution_count": 31,
   "metadata": {},
   "outputs": [
    {
     "name": "stdout",
     "output_type": "stream",
     "text": [
      "R_px= integrate(sum(1/12*(2*v_x^3 - 3*v_x^2 + v_x)*D[0, 0, 0](F)(j_x + v_x, y), j_x, n_x, b_x - 1), v_x, 0, 1)\n"
     ]
    },
    {
     "data": {
      "text/latex": [
       "$\\displaystyle \\int_{0}^{1} {\\sum_{j_{x}=n_{x}}^{b_{x} - 1} \\frac{1}{12} \\, {\\left(2 \\, v_{x}^{3} - 3 \\, v_{x}^{2} + v_{x}\\right)} \\mathrm{D}_{0, 0, 0}\\left(F\\right)\\left(j_{x} + v_{x}, y\\right)}\\,{d v_{x}}$"
      ],
      "text/plain": [
       "<IPython.core.display.Math object>"
      ]
     },
     "metadata": {},
     "output_type": "display_data"
    },
    {
     "name": "stdout",
     "output_type": "stream",
     "text": [
      "R_px_diff_y_p= integrate(sum(1/12*(2*v_x^3 - 3*v_x^2 + v_x)*D[0, 0, 0, 1, 1, 1](F)(j_x + v_x, y), j_x, n_x, b_x - 1), v_x, 0, 1)\n"
     ]
    },
    {
     "data": {
      "text/latex": [
       "$\\displaystyle \\int_{0}^{1} {\\sum_{j_{x}=n_{x}}^{b_{x} - 1} \\frac{1}{12} \\, {\\left(2 \\, v_{x}^{3} - 3 \\, v_{x}^{2} + v_{x}\\right)} \\mathrm{D}_{0, 0, 0, 1, 1, 1}\\left(F\\right)\\left(j_{x} + v_{x}, y\\right)}\\,{d v_{x}}$"
      ],
      "text/plain": [
       "<IPython.core.display.Math object>"
      ]
     },
     "metadata": {},
     "output_type": "display_data"
    },
    {
     "name": "stdout",
     "output_type": "stream",
     "text": [
      "R_p_R_p= integrate(sum(1/12*(2*v_y^3 - 3*v_y^2 + v_y)*integrate(sum(1/12*(2*v_x^3 - 3*v_x^2 + v_x)*D[0, 0, 0, 1, 1, 1](F)(j_x + v_x, j_y + v_y), j_x, n_x, b_x - 1), v_x, 0, 1), j_y, n_y, b_y - 1), v_y, 0, 1)\n"
     ]
    },
    {
     "data": {
      "text/latex": [
       "$\\displaystyle \\int_{0}^{1} {\\sum_{j_{y}=n_{y}}^{b_{y} - 1} \\frac{1}{12} \\, {\\left(2 \\, v_{y}^{3} - 3 \\, v_{y}^{2} + v_{y}\\right)} \\int_{0}^{1} {\\sum_{j_{x}=n_{x}}^{b_{x} - 1} \\frac{1}{12} \\, {\\left(2 \\, v_{x}^{3} - 3 \\, v_{x}^{2} + v_{x}\\right)} \\mathrm{D}_{0, 0, 0, 1, 1, 1}\\left(F\\right)\\left(j_{x} + v_{x}, j_{y} + v_{y}\\right)}\\,{d v_{x}}}\\,{d v_{y}}$"
      ],
      "text/plain": [
       "<IPython.core.display.Math object>"
      ]
     },
     "metadata": {},
     "output_type": "display_data"
    }
   ],
   "source": [
    "try:\n",
    "    use_int_R_p_j = True\n",
    "    # Sagemath 9.3 had bug diff of symbolic_sum\n",
    "    # https://trac.sagemath.org/ticket/32161\n",
    "\n",
    "    R_px = euler_maclaurin_R_p(F, x, a_x, b_x,p, f_diff_symb_p=F.diff(x,p))\n",
    "\n",
    "    if type(R_px) is tuple:\n",
    "        R_px = R_px[0]\n",
    "\n",
    "    print(\"R_px=\",R_px)\n",
    "    #print(\"R_px=$\",latex(R_px),\"$\")\n",
    "    display(Math(latex(R_px)))\n",
    "\n",
    "    # https://trac.sagemath.org/ticket/32394\n",
    "    # Can't calculate derivative exception while sympifying of two arguments function derivative\n",
    "    R_px_diff_y_p = R_px.diff(y,p)\n",
    "    print(\"R_px_diff_y_p=\", R_px_diff_y_p)\n",
    "    #print(\"R_px_diff_y_p=$\", latex(R_px_diff_y_p),\"$\")\n",
    "    display(Math(latex(R_px_diff_y_p)))\n",
    "\n",
    "    #logging = True\n",
    "\n",
    "    R_p_R_p = euler_maclaurin_R_p(R_px, y, a_y, b_y, p, f_diff_symb_p=R_px_diff_y_p)\n",
    "\n",
    "    #logging = False\n",
    "\n",
    "    print(\"R_p_R_p=\",R_p_R_p)\n",
    "    #print(\"R_p_R_p=$\",latex(R_p_R_p),\"$\")\n",
    "    display(Math(latex(R_p_R_p)))\n",
    "\n",
    "except Exception as ex:\n",
    "    print(ex)"
   ]
  },
  {
   "cell_type": "code",
   "execution_count": 32,
   "metadata": {},
   "outputs": [
    {
     "name": "stdout",
     "output_type": "stream",
     "text": [
      "R_px= integrate(1/12*(2*(x - floor(x))^3 - 3*(x - floor(x))^2 + x - floor(x))*diff(F(x, y), x, x, x), x, n_x, b_x)\n"
     ]
    },
    {
     "data": {
      "text/latex": [
       "$\\displaystyle \\int_{n_{x}}^{b_{x}} \\frac{1}{12} \\, {\\left(2 \\, {\\left(x - \\left \\lfloor x \\right \\rfloor\\right)}^{3} - 3 \\, {\\left(x - \\left \\lfloor x \\right \\rfloor\\right)}^{2} + x - \\left \\lfloor x \\right \\rfloor\\right)} \\frac{\\partial^{3}}{(\\partial x)^{3}}F\\left(x, y\\right)\\,{d x}$"
      ],
      "text/plain": [
       "<IPython.core.display.Math object>"
      ]
     },
     "metadata": {},
     "output_type": "display_data"
    },
    {
     "name": "stdout",
     "output_type": "stream",
     "text": [
      "R_px_diff_y_p= 1/6*integrate(x^3*diff(F(x, y), x, x, x, y, y, y), x, n_x, b_x) - 1/2*integrate(x^2*floor(x)*diff(F(x, y), x, x, x, y, y, y), x, n_x, b_x) + 1/2*integrate(x*floor(x)^2*diff(F(x, y), x, x, x, y, y, y), x, n_x, b_x) - 1/6*integrate(floor(x)^3*diff(F(x, y), x, x, x, y, y, y), x, n_x, b_x) - 1/4*integrate(x^2*diff(F(x, y), x, x, x, y, y, y), x, n_x, b_x) + 1/2*integrate(x*floor(x)*diff(F(x, y), x, x, x, y, y, y), x, n_x, b_x) - 1/4*integrate(floor(x)^2*diff(F(x, y), x, x, x, y, y, y), x, n_x, b_x) + 1/12*integrate(x*diff(F(x, y), x, x, x, y, y, y), x, n_x, b_x) - 1/12*integrate(floor(x)*diff(F(x, y), x, x, x, y, y, y), x, n_x, b_x)\n"
     ]
    },
    {
     "data": {
      "text/latex": [
       "$\\displaystyle \\frac{1}{6} \\, \\int_{n_{x}}^{b_{x}} x^{3} \\frac{\\partial^{6}}{(\\partial x)^{3}(\\partial y)^{3}}F\\left(x, y\\right)\\,{d x} - \\frac{1}{2} \\, \\int_{n_{x}}^{b_{x}} x^{2} \\left \\lfloor x \\right \\rfloor \\frac{\\partial^{6}}{(\\partial x)^{3}(\\partial y)^{3}}F\\left(x, y\\right)\\,{d x} + \\frac{1}{2} \\, \\int_{n_{x}}^{b_{x}} x \\left \\lfloor x \\right \\rfloor^{2} \\frac{\\partial^{6}}{(\\partial x)^{3}(\\partial y)^{3}}F\\left(x, y\\right)\\,{d x} - \\frac{1}{6} \\, \\int_{n_{x}}^{b_{x}} \\left \\lfloor x \\right \\rfloor^{3} \\frac{\\partial^{6}}{(\\partial x)^{3}(\\partial y)^{3}}F\\left(x, y\\right)\\,{d x} - \\frac{1}{4} \\, \\int_{n_{x}}^{b_{x}} x^{2} \\frac{\\partial^{6}}{(\\partial x)^{3}(\\partial y)^{3}}F\\left(x, y\\right)\\,{d x} + \\frac{1}{2} \\, \\int_{n_{x}}^{b_{x}} x \\left \\lfloor x \\right \\rfloor \\frac{\\partial^{6}}{(\\partial x)^{3}(\\partial y)^{3}}F\\left(x, y\\right)\\,{d x} - \\frac{1}{4} \\, \\int_{n_{x}}^{b_{x}} \\left \\lfloor x \\right \\rfloor^{2} \\frac{\\partial^{6}}{(\\partial x)^{3}(\\partial y)^{3}}F\\left(x, y\\right)\\,{d x} + \\frac{1}{12} \\, \\int_{n_{x}}^{b_{x}} x \\frac{\\partial^{6}}{(\\partial x)^{3}(\\partial y)^{3}}F\\left(x, y\\right)\\,{d x} - \\frac{1}{12} \\, \\int_{n_{x}}^{b_{x}} \\left \\lfloor x \\right \\rfloor \\frac{\\partial^{6}}{(\\partial x)^{3}(\\partial y)^{3}}F\\left(x, y\\right)\\,{d x}$"
      ],
      "text/plain": [
       "<IPython.core.display.Math object>"
      ]
     },
     "metadata": {},
     "output_type": "display_data"
    },
    {
     "name": "stdout",
     "output_type": "stream",
     "text": [
      "R_p_R_p= integrate(1/144*(2*(y - floor(y))^3 - 3*(y - floor(y))^2 + y - floor(y))*(2*integrate(x^3*diff(F(x, y), x, x, x, y, y, y), x, n_x, b_x) - 6*integrate(x^2*floor(x)*diff(F(x, y), x, x, x, y, y, y), x, n_x, b_x) + 6*integrate(x*floor(x)^2*diff(F(x, y), x, x, x, y, y, y), x, n_x, b_x) - 2*integrate(floor(x)^3*diff(F(x, y), x, x, x, y, y, y), x, n_x, b_x) - 3*integrate(x^2*diff(F(x, y), x, x, x, y, y, y), x, n_x, b_x) + 6*integrate(x*floor(x)*diff(F(x, y), x, x, x, y, y, y), x, n_x, b_x) - 3*integrate(floor(x)^2*diff(F(x, y), x, x, x, y, y, y), x, n_x, b_x) + integrate(x*diff(F(x, y), x, x, x, y, y, y), x, n_x, b_x) - integrate(floor(x)*diff(F(x, y), x, x, x, y, y, y), x, n_x, b_x)), y, n_y, b_y)\n"
     ]
    },
    {
     "data": {
      "text/latex": [
       "$\\displaystyle \\int_{n_{y}}^{b_{y}} \\frac{1}{144} \\, {\\left(2 \\, {\\left(y - \\left \\lfloor y \\right \\rfloor\\right)}^{3} - 3 \\, {\\left(y - \\left \\lfloor y \\right \\rfloor\\right)}^{2} + y - \\left \\lfloor y \\right \\rfloor\\right)} {\\left(2 \\, \\int_{n_{x}}^{b_{x}} x^{3} \\frac{\\partial^{6}}{(\\partial x)^{3}(\\partial y)^{3}}F\\left(x, y\\right)\\,{d x} - 6 \\, \\int_{n_{x}}^{b_{x}} x^{2} \\left \\lfloor x \\right \\rfloor \\frac{\\partial^{6}}{(\\partial x)^{3}(\\partial y)^{3}}F\\left(x, y\\right)\\,{d x} + 6 \\, \\int_{n_{x}}^{b_{x}} x \\left \\lfloor x \\right \\rfloor^{2} \\frac{\\partial^{6}}{(\\partial x)^{3}(\\partial y)^{3}}F\\left(x, y\\right)\\,{d x} - 2 \\, \\int_{n_{x}}^{b_{x}} \\left \\lfloor x \\right \\rfloor^{3} \\frac{\\partial^{6}}{(\\partial x)^{3}(\\partial y)^{3}}F\\left(x, y\\right)\\,{d x} - 3 \\, \\int_{n_{x}}^{b_{x}} x^{2} \\frac{\\partial^{6}}{(\\partial x)^{3}(\\partial y)^{3}}F\\left(x, y\\right)\\,{d x} + 6 \\, \\int_{n_{x}}^{b_{x}} x \\left \\lfloor x \\right \\rfloor \\frac{\\partial^{6}}{(\\partial x)^{3}(\\partial y)^{3}}F\\left(x, y\\right)\\,{d x} - 3 \\, \\int_{n_{x}}^{b_{x}} \\left \\lfloor x \\right \\rfloor^{2} \\frac{\\partial^{6}}{(\\partial x)^{3}(\\partial y)^{3}}F\\left(x, y\\right)\\,{d x} + \\int_{n_{x}}^{b_{x}} x \\frac{\\partial^{6}}{(\\partial x)^{3}(\\partial y)^{3}}F\\left(x, y\\right)\\,{d x} - \\int_{n_{x}}^{b_{x}} \\left \\lfloor x \\right \\rfloor \\frac{\\partial^{6}}{(\\partial x)^{3}(\\partial y)^{3}}F\\left(x, y\\right)\\,{d x}\\right)}\\,{d y}$"
      ],
      "text/plain": [
       "<IPython.core.display.Math object>"
      ]
     },
     "metadata": {},
     "output_type": "display_data"
    }
   ],
   "source": [
    "try:\n",
    "    use_int_R_p_j = False\n",
    "        \n",
    "    R_px = euler_maclaurin_R_p(F, x, a_x, b_x,p, f_diff_symb_p=F.diff(x,p))\n",
    "    print(\"R_px=\",R_px)\n",
    "    #print(\"R_px=$\",latex(R_px),\"$\")\n",
    "    display(Math(latex(R_px)))\n",
    "\n",
    "    R_px_diff_y_p = R_px.diff(y,p)\n",
    "    print(\"R_px_diff_y_p=\", R_px_diff_y_p)\n",
    "    #print(\"R_px_diff_y_p=$\", latex(R_px_diff_y_p),\"$\")\n",
    "    display(Math(latex(R_px_diff_y_p)))\n",
    "\n",
    "    #logging = True\n",
    "\n",
    "    R_p_R_p = euler_maclaurin_R_p(R_px, y, a_y, b_y, p, f_diff_symb_p=R_px_diff_y_p)\n",
    "\n",
    "    #logging = False\n",
    "\n",
    "    print(\"R_p_R_p=\",R_p_R_p)\n",
    "    #print(\"R_p_R_p=$\",latex(R_p_R_p),\"$\")\n",
    "    display(Math(latex(R_p_R_p)))\n",
    "\n",
    "except Exception as ex:\n",
    "    print(ex)"
   ]
  },
  {
   "cell_type": "code",
   "execution_count": 33,
   "metadata": {},
   "outputs": [
    {
     "name": "stdout",
     "output_type": "stream",
     "text": [
      "R_p_R_p= integrate(1/144*(2*(y - floor(y))^3 - 3*(y - floor(y))^2 + y - floor(y))*(2*integrate(x^3*diff(F(x, y), x, x, x, y, y, y), x, n_x, b_x) - 6*integrate(x^2*floor(x)*diff(F(x, y), x, x, x, y, y, y), x, n_x, b_x) + 6*integrate(x*floor(x)^2*diff(F(x, y), x, x, x, y, y, y), x, n_x, b_x) - 2*integrate(floor(x)^3*diff(F(x, y), x, x, x, y, y, y), x, n_x, b_x) - 3*integrate(x^2*diff(F(x, y), x, x, x, y, y, y), x, n_x, b_x) + 6*integrate(x*floor(x)*diff(F(x, y), x, x, x, y, y, y), x, n_x, b_x) - 3*integrate(floor(x)^2*diff(F(x, y), x, x, x, y, y, y), x, n_x, b_x) + integrate(x*diff(F(x, y), x, x, x, y, y, y), x, n_x, b_x) - integrate(floor(x)*diff(F(x, y), x, x, x, y, y, y), x, n_x, b_x)), y, n_y, b_y)\n"
     ]
    },
    {
     "data": {
      "text/latex": [
       "$\\displaystyle \\int_{n_{y}}^{b_{y}} \\frac{1}{144} \\, {\\left(2 \\, {\\left(y - \\left \\lfloor y \\right \\rfloor\\right)}^{3} - 3 \\, {\\left(y - \\left \\lfloor y \\right \\rfloor\\right)}^{2} + y - \\left \\lfloor y \\right \\rfloor\\right)} {\\left(2 \\, \\int_{n_{x}}^{b_{x}} x^{3} \\frac{\\partial^{6}}{(\\partial x)^{3}(\\partial y)^{3}}F\\left(x, y\\right)\\,{d x} - 6 \\, \\int_{n_{x}}^{b_{x}} x^{2} \\left \\lfloor x \\right \\rfloor \\frac{\\partial^{6}}{(\\partial x)^{3}(\\partial y)^{3}}F\\left(x, y\\right)\\,{d x} + 6 \\, \\int_{n_{x}}^{b_{x}} x \\left \\lfloor x \\right \\rfloor^{2} \\frac{\\partial^{6}}{(\\partial x)^{3}(\\partial y)^{3}}F\\left(x, y\\right)\\,{d x} - 2 \\, \\int_{n_{x}}^{b_{x}} \\left \\lfloor x \\right \\rfloor^{3} \\frac{\\partial^{6}}{(\\partial x)^{3}(\\partial y)^{3}}F\\left(x, y\\right)\\,{d x} - 3 \\, \\int_{n_{x}}^{b_{x}} x^{2} \\frac{\\partial^{6}}{(\\partial x)^{3}(\\partial y)^{3}}F\\left(x, y\\right)\\,{d x} + 6 \\, \\int_{n_{x}}^{b_{x}} x \\left \\lfloor x \\right \\rfloor \\frac{\\partial^{6}}{(\\partial x)^{3}(\\partial y)^{3}}F\\left(x, y\\right)\\,{d x} - 3 \\, \\int_{n_{x}}^{b_{x}} \\left \\lfloor x \\right \\rfloor^{2} \\frac{\\partial^{6}}{(\\partial x)^{3}(\\partial y)^{3}}F\\left(x, y\\right)\\,{d x} + \\int_{n_{x}}^{b_{x}} x \\frac{\\partial^{6}}{(\\partial x)^{3}(\\partial y)^{3}}F\\left(x, y\\right)\\,{d x} - \\int_{n_{x}}^{b_{x}} \\left \\lfloor x \\right \\rfloor \\frac{\\partial^{6}}{(\\partial x)^{3}(\\partial y)^{3}}F\\left(x, y\\right)\\,{d x}\\right)}\\,{d y}$"
      ],
      "text/plain": [
       "<IPython.core.display.Math object>"
      ]
     },
     "metadata": {},
     "output_type": "display_data"
    }
   ],
   "source": [
    "try:\n",
    "    R_p_R_p = euler_maclaurin_R_p_euler_maclaurin_R_p(F, x, a_x, b_x,    y, a_y, b_y, p, f_diff_x_p_diff_y_p=None)\n",
    "\n",
    "    print(\"R_p_R_p=\",R_p_R_p)\n",
    "    #print(\"R_p_R_p=$\",latex(R_p_R_p),\"$\")\n",
    "    display(Math(latex(R_p_R_p)))\n",
    "except Exception as ex:\n",
    "    print(ex)"
   ]
  },
  {
   "cell_type": "code",
   "execution_count": 34,
   "metadata": {},
   "outputs": [],
   "source": [
    "sxy_symb = euler_maclaurin1(euler_maclaurin1(F,x,a_x,b_x,p,f_diff_symb_p=None), \\\n",
    "                            y,a_y,b_y,p,f_diff_symb_p=None)"
   ]
  },
  {
   "cell_type": "code",
   "execution_count": 35,
   "metadata": {},
   "outputs": [
    {
     "data": {
      "text/plain": [
       "1/4*F(n_x, n_y) + 1/24*integrate(2*x^3*diff(F(x, n_y), x, x, x), x, n_x, b_x) + 1/24*integrate(-6*x^2*floor(x)*diff(F(x, n_y), x, x, x), x, n_x, b_x) + 1/24*integrate(6*x*floor(x)^2*diff(F(x, n_y), x, x, x), x, n_x, b_x) + 1/24*integrate(-2*floor(x)^3*diff(F(x, n_y), x, x, x), x, n_x, b_x) - 1/72*integrate(x^3*diff(F(x, n_y), x, x, x, n_y), x, n_x, b_x) + 1/24*integrate(x^2*floor(x)*diff(F(x, n_y), x, x, x, n_y), x, n_x, b_x) - 1/24*integrate(x*floor(x)^2*diff(F(x, n_y), x, x, x, n_y), x, n_x, b_x) + 1/72*integrate(floor(x)^3*diff(F(x, n_y), x, x, x, n_y), x, n_x, b_x) + 1/24*integrate(-3*x^2*diff(F(x, n_y), x, x, x), x, n_x, b_x) + 1/24*integrate(6*x*floor(x)*diff(F(x, n_y), x, x, x), x, n_x, b_x) + 1/24*integrate(-3*floor(x)^2*diff(F(x, n_y), x, x, x), x, n_x, b_x) + 1/48*integrate(x^2*diff(F(x, n_y), x, x, x, n_y), x, n_x, b_x) - 1/24*integrate(x*floor(x)*diff(F(x, n_y), x, x, x, n_y), x, n_x, b_x) + 1/48*integrate(floor(x)^2*diff(F(x, n_y), x, x, x, n_y), x, n_x, b_x) + integrate(1/144*(2*(y - floor(y))^3 - 3*(y - floor(y))^2 + y - floor(y))*(2*integrate(x^3*diff(F(x, y), x, x, x, y, y, y), x, n_x, b_x) - 6*integrate(x^2*floor(x)*diff(F(x, y), x, x, x, y, y, y), x, n_x, b_x) + 6*integrate(x*floor(x)^2*diff(F(x, y), x, x, x, y, y, y), x, n_x, b_x) - 2*integrate(floor(x)^3*diff(F(x, y), x, x, x, y, y, y), x, n_x, b_x) - 3*integrate(x^2*diff(F(x, y), x, x, x, y, y, y), x, n_x, b_x) + 6*integrate(x*floor(x)*diff(F(x, y), x, x, x, y, y, y), x, n_x, b_x) - 3*integrate(floor(x)^2*diff(F(x, y), x, x, x, y, y, y), x, n_x, b_x) + integrate(x*diff(F(x, y), x, x, x, y, y, y), x, n_x, b_x) - integrate(floor(x)*diff(F(x, y), x, x, x, y, y, y), x, n_x, b_x) + 12*integrate(diff(F(x, y), y, y, y), x, n_x, b_x) - diff(F(n_x, y), n_x, y, y, y) + 6*diff(F(n_x, y), y, y, y)), y, n_y, b_y) + 1/24*integrate(x*diff(F(x, n_y), x, x, x), x, n_x, b_x) + 1/24*integrate(-floor(x)*diff(F(x, n_y), x, x, x), x, n_x, b_x) - 1/144*integrate(x*diff(F(x, n_y), x, x, x, n_y), x, n_x, b_x) + 1/144*integrate(floor(x)*diff(F(x, n_y), x, x, x, n_y), x, n_x, b_x) - 1/12*integrate(-6*F(n_x, y), y, n_y, b_y) - 1/12*integrate(-12*integrate(1/6*x^3*diff(F(x, y), x, x, x), x, n_x, b_x), y, n_y, b_y) - 1/12*integrate(-12*integrate(-1/2*x^2*floor(x)*diff(F(x, y), x, x, x), x, n_x, b_x), y, n_y, b_y) - 1/12*integrate(-12*integrate(1/2*x*floor(x)^2*diff(F(x, y), x, x, x), x, n_x, b_x), y, n_y, b_y) - 1/12*integrate(-12*integrate(-1/6*floor(x)^3*diff(F(x, y), x, x, x), x, n_x, b_x), y, n_y, b_y) - 1/12*integrate(-12*integrate(-1/4*x^2*diff(F(x, y), x, x, x), x, n_x, b_x), y, n_y, b_y) - 1/12*integrate(-12*integrate(1/2*x*floor(x)*diff(F(x, y), x, x, x), x, n_x, b_x), y, n_y, b_y) - 1/12*integrate(-12*integrate(-1/4*floor(x)^2*diff(F(x, y), x, x, x), x, n_x, b_x), y, n_y, b_y) - 1/12*integrate(-12*integrate(1/12*x*diff(F(x, y), x, x, x), x, n_x, b_x), y, n_y, b_y) - 1/12*integrate(-12*integrate(-1/12*floor(x)*diff(F(x, y), x, x, x), x, n_x, b_x), y, n_y, b_y) - 1/12*integrate(-12*integrate(F(x, y), x, n_x, b_x), y, n_y, b_y) + 1/2*integrate(F(x, n_y), x, n_x, b_x) - 1/12*integrate(diff(F(n_x, y), n_x), y, n_y, b_y) - 1/12*integrate(diff(F(x, n_y), n_y), x, n_x, b_x) - 1/24*diff(F(n_x, n_y), n_x) + 1/144*diff(F(n_x, n_y), n_x, n_y) - 1/24*diff(F(n_x, n_y), n_y)"
      ]
     },
     "execution_count": 35,
     "metadata": {},
     "output_type": "execute_result"
    }
   ],
   "source": [
    "sxy_symb"
   ]
  },
  {
   "cell_type": "code",
   "execution_count": 36,
   "metadata": {},
   "outputs": [
    {
     "data": {
      "text/plain": [
       "\\frac{1}{4} \\, F\\left(n_{x}, n_{y}\\right) + \\frac{1}{24} \\, \\int_{n_{x}}^{b_{x}} 2 \\, x^{3} \\frac{\\partial^{3}}{(\\partial x)^{3}}F\\left(x, n_{y}\\right)\\,{d x} + \\frac{1}{24} \\, \\int_{n_{x}}^{b_{x}} -6 \\, x^{2} \\left \\lfloor x \\right \\rfloor \\frac{\\partial^{3}}{(\\partial x)^{3}}F\\left(x, n_{y}\\right)\\,{d x} + \\frac{1}{24} \\, \\int_{n_{x}}^{b_{x}} 6 \\, x \\left \\lfloor x \\right \\rfloor^{2} \\frac{\\partial^{3}}{(\\partial x)^{3}}F\\left(x, n_{y}\\right)\\,{d x} + \\frac{1}{24} \\, \\int_{n_{x}}^{b_{x}} -2 \\, \\left \\lfloor x \\right \\rfloor^{3} \\frac{\\partial^{3}}{(\\partial x)^{3}}F\\left(x, n_{y}\\right)\\,{d x} - \\frac{1}{72} \\, \\int_{n_{x}}^{b_{x}} x^{3} \\frac{\\partial^{4}}{(\\partial x)^{3}\\partial n_{y}}F\\left(x, n_{y}\\right)\\,{d x} + \\frac{1}{24} \\, \\int_{n_{x}}^{b_{x}} x^{2} \\left \\lfloor x \\right \\rfloor \\frac{\\partial^{4}}{(\\partial x)^{3}\\partial n_{y}}F\\left(x, n_{y}\\right)\\,{d x} - \\frac{1}{24} \\, \\int_{n_{x}}^{b_{x}} x \\left \\lfloor x \\right \\rfloor^{2} \\frac{\\partial^{4}}{(\\partial x)^{3}\\partial n_{y}}F\\left(x, n_{y}\\right)\\,{d x} + \\frac{1}{72} \\, \\int_{n_{x}}^{b_{x}} \\left \\lfloor x \\right \\rfloor^{3} \\frac{\\partial^{4}}{(\\partial x)^{3}\\partial n_{y}}F\\left(x, n_{y}\\right)\\,{d x} + \\frac{1}{24} \\, \\int_{n_{x}}^{b_{x}} -3 \\, x^{2} \\frac{\\partial^{3}}{(\\partial x)^{3}}F\\left(x, n_{y}\\right)\\,{d x} + \\frac{1}{24} \\, \\int_{n_{x}}^{b_{x}} 6 \\, x \\left \\lfloor x \\right \\rfloor \\frac{\\partial^{3}}{(\\partial x)^{3}}F\\left(x, n_{y}\\right)\\,{d x} + \\frac{1}{24} \\, \\int_{n_{x}}^{b_{x}} -3 \\, \\left \\lfloor x \\right \\rfloor^{2} \\frac{\\partial^{3}}{(\\partial x)^{3}}F\\left(x, n_{y}\\right)\\,{d x} + \\frac{1}{48} \\, \\int_{n_{x}}^{b_{x}} x^{2} \\frac{\\partial^{4}}{(\\partial x)^{3}\\partial n_{y}}F\\left(x, n_{y}\\right)\\,{d x} - \\frac{1}{24} \\, \\int_{n_{x}}^{b_{x}} x \\left \\lfloor x \\right \\rfloor \\frac{\\partial^{4}}{(\\partial x)^{3}\\partial n_{y}}F\\left(x, n_{y}\\right)\\,{d x} + \\frac{1}{48} \\, \\int_{n_{x}}^{b_{x}} \\left \\lfloor x \\right \\rfloor^{2} \\frac{\\partial^{4}}{(\\partial x)^{3}\\partial n_{y}}F\\left(x, n_{y}\\right)\\,{d x} + \\int_{n_{y}}^{b_{y}} \\frac{1}{144} \\, {\\left(2 \\, {\\left(y - \\left \\lfloor y \\right \\rfloor\\right)}^{3} - 3 \\, {\\left(y - \\left \\lfloor y \\right \\rfloor\\right)}^{2} + y - \\left \\lfloor y \\right \\rfloor\\right)} {\\left(2 \\, \\int_{n_{x}}^{b_{x}} x^{3} \\frac{\\partial^{6}}{(\\partial x)^{3}(\\partial y)^{3}}F\\left(x, y\\right)\\,{d x} - 6 \\, \\int_{n_{x}}^{b_{x}} x^{2} \\left \\lfloor x \\right \\rfloor \\frac{\\partial^{6}}{(\\partial x)^{3}(\\partial y)^{3}}F\\left(x, y\\right)\\,{d x} + 6 \\, \\int_{n_{x}}^{b_{x}} x \\left \\lfloor x \\right \\rfloor^{2} \\frac{\\partial^{6}}{(\\partial x)^{3}(\\partial y)^{3}}F\\left(x, y\\right)\\,{d x} - 2 \\, \\int_{n_{x}}^{b_{x}} \\left \\lfloor x \\right \\rfloor^{3} \\frac{\\partial^{6}}{(\\partial x)^{3}(\\partial y)^{3}}F\\left(x, y\\right)\\,{d x} - 3 \\, \\int_{n_{x}}^{b_{x}} x^{2} \\frac{\\partial^{6}}{(\\partial x)^{3}(\\partial y)^{3}}F\\left(x, y\\right)\\,{d x} + 6 \\, \\int_{n_{x}}^{b_{x}} x \\left \\lfloor x \\right \\rfloor \\frac{\\partial^{6}}{(\\partial x)^{3}(\\partial y)^{3}}F\\left(x, y\\right)\\,{d x} - 3 \\, \\int_{n_{x}}^{b_{x}} \\left \\lfloor x \\right \\rfloor^{2} \\frac{\\partial^{6}}{(\\partial x)^{3}(\\partial y)^{3}}F\\left(x, y\\right)\\,{d x} + \\int_{n_{x}}^{b_{x}} x \\frac{\\partial^{6}}{(\\partial x)^{3}(\\partial y)^{3}}F\\left(x, y\\right)\\,{d x} - \\int_{n_{x}}^{b_{x}} \\left \\lfloor x \\right \\rfloor \\frac{\\partial^{6}}{(\\partial x)^{3}(\\partial y)^{3}}F\\left(x, y\\right)\\,{d x} + 12 \\, \\int_{n_{x}}^{b_{x}} \\frac{\\partial^{3}}{(\\partial y)^{3}}F\\left(x, y\\right)\\,{d x} - \\frac{\\partial^{4}}{\\partial n_{x}(\\partial y)^{3}}F\\left(n_{x}, y\\right) + 6 \\, \\frac{\\partial^{3}}{(\\partial y)^{3}}F\\left(n_{x}, y\\right)\\right)}\\,{d y} + \\frac{1}{24} \\, \\int_{n_{x}}^{b_{x}} x \\frac{\\partial^{3}}{(\\partial x)^{3}}F\\left(x, n_{y}\\right)\\,{d x} + \\frac{1}{24} \\, \\int_{n_{x}}^{b_{x}} -\\left \\lfloor x \\right \\rfloor \\frac{\\partial^{3}}{(\\partial x)^{3}}F\\left(x, n_{y}\\right)\\,{d x} - \\frac{1}{144} \\, \\int_{n_{x}}^{b_{x}} x \\frac{\\partial^{4}}{(\\partial x)^{3}\\partial n_{y}}F\\left(x, n_{y}\\right)\\,{d x} + \\frac{1}{144} \\, \\int_{n_{x}}^{b_{x}} \\left \\lfloor x \\right \\rfloor \\frac{\\partial^{4}}{(\\partial x)^{3}\\partial n_{y}}F\\left(x, n_{y}\\right)\\,{d x} - \\frac{1}{12} \\, \\int_{n_{y}}^{b_{y}} -6 \\, F\\left(n_{x}, y\\right)\\,{d y} - \\frac{1}{12} \\, \\int_{n_{y}}^{b_{y}} -12 \\, \\int_{n_{x}}^{b_{x}} \\frac{1}{6} \\, x^{3} \\frac{\\partial^{3}}{(\\partial x)^{3}}F\\left(x, y\\right)\\,{d x}\\,{d y} - \\frac{1}{12} \\, \\int_{n_{y}}^{b_{y}} -12 \\, \\int_{n_{x}}^{b_{x}} -\\frac{1}{2} \\, x^{2} \\left \\lfloor x \\right \\rfloor \\frac{\\partial^{3}}{(\\partial x)^{3}}F\\left(x, y\\right)\\,{d x}\\,{d y} - \\frac{1}{12} \\, \\int_{n_{y}}^{b_{y}} -12 \\, \\int_{n_{x}}^{b_{x}} \\frac{1}{2} \\, x \\left \\lfloor x \\right \\rfloor^{2} \\frac{\\partial^{3}}{(\\partial x)^{3}}F\\left(x, y\\right)\\,{d x}\\,{d y} - \\frac{1}{12} \\, \\int_{n_{y}}^{b_{y}} -12 \\, \\int_{n_{x}}^{b_{x}} -\\frac{1}{6} \\, \\left \\lfloor x \\right \\rfloor^{3} \\frac{\\partial^{3}}{(\\partial x)^{3}}F\\left(x, y\\right)\\,{d x}\\,{d y} - \\frac{1}{12} \\, \\int_{n_{y}}^{b_{y}} -12 \\, \\int_{n_{x}}^{b_{x}} -\\frac{1}{4} \\, x^{2} \\frac{\\partial^{3}}{(\\partial x)^{3}}F\\left(x, y\\right)\\,{d x}\\,{d y} - \\frac{1}{12} \\, \\int_{n_{y}}^{b_{y}} -12 \\, \\int_{n_{x}}^{b_{x}} \\frac{1}{2} \\, x \\left \\lfloor x \\right \\rfloor \\frac{\\partial^{3}}{(\\partial x)^{3}}F\\left(x, y\\right)\\,{d x}\\,{d y} - \\frac{1}{12} \\, \\int_{n_{y}}^{b_{y}} -12 \\, \\int_{n_{x}}^{b_{x}} -\\frac{1}{4} \\, \\left \\lfloor x \\right \\rfloor^{2} \\frac{\\partial^{3}}{(\\partial x)^{3}}F\\left(x, y\\right)\\,{d x}\\,{d y} - \\frac{1}{12} \\, \\int_{n_{y}}^{b_{y}} -12 \\, \\int_{n_{x}}^{b_{x}} \\frac{1}{12} \\, x \\frac{\\partial^{3}}{(\\partial x)^{3}}F\\left(x, y\\right)\\,{d x}\\,{d y} - \\frac{1}{12} \\, \\int_{n_{y}}^{b_{y}} -12 \\, \\int_{n_{x}}^{b_{x}} -\\frac{1}{12} \\, \\left \\lfloor x \\right \\rfloor \\frac{\\partial^{3}}{(\\partial x)^{3}}F\\left(x, y\\right)\\,{d x}\\,{d y} - \\frac{1}{12} \\, \\int_{n_{y}}^{b_{y}} -12 \\, \\int_{n_{x}}^{b_{x}} F\\left(x, y\\right)\\,{d x}\\,{d y} + \\frac{1}{2} \\, \\int_{n_{x}}^{b_{x}} F\\left(x, n_{y}\\right)\\,{d x} - \\frac{1}{12} \\, \\int_{n_{y}}^{b_{y}} \\frac{\\partial}{\\partial n_{x}}F\\left(n_{x}, y\\right)\\,{d y} - \\frac{1}{12} \\, \\int_{n_{x}}^{b_{x}} \\frac{\\partial}{\\partial n_{y}}F\\left(x, n_{y}\\right)\\,{d x} - \\frac{1}{24} \\, \\frac{\\partial}{\\partial n_{x}}F\\left(n_{x}, n_{y}\\right) + \\frac{1}{144} \\, \\frac{\\partial^{2}}{\\partial n_{x}\\partial n_{y}}F\\left(n_{x}, n_{y}\\right) - \\frac{1}{24} \\, \\frac{\\partial}{\\partial n_{y}}F\\left(n_{x}, n_{y}\\right)"
      ]
     },
     "execution_count": 36,
     "metadata": {},
     "output_type": "execute_result"
    }
   ],
   "source": [
    "latex(sxy_symb)"
   ]
  },
  {
   "cell_type": "code",
   "execution_count": 37,
   "metadata": {},
   "outputs": [
    {
     "data": {
      "text/latex": [
       "$\\displaystyle \\frac{1}{4} \\, F\\left(n_{x}, n_{y}\\right) + \\frac{1}{24} \\, \\int_{n_{x}}^{b_{x}} 2 \\, x^{3} \\frac{\\partial^{3}}{(\\partial x)^{3}}F\\left(x, n_{y}\\right)\\,{d x} + \\frac{1}{24} \\, \\int_{n_{x}}^{b_{x}} -6 \\, x^{2} \\left \\lfloor x \\right \\rfloor \\frac{\\partial^{3}}{(\\partial x)^{3}}F\\left(x, n_{y}\\right)\\,{d x} + \\frac{1}{24} \\, \\int_{n_{x}}^{b_{x}} 6 \\, x \\left \\lfloor x \\right \\rfloor^{2} \\frac{\\partial^{3}}{(\\partial x)^{3}}F\\left(x, n_{y}\\right)\\,{d x} + \\frac{1}{24} \\, \\int_{n_{x}}^{b_{x}} -2 \\, \\left \\lfloor x \\right \\rfloor^{3} \\frac{\\partial^{3}}{(\\partial x)^{3}}F\\left(x, n_{y}\\right)\\,{d x} - \\frac{1}{72} \\, \\int_{n_{x}}^{b_{x}} x^{3} \\frac{\\partial^{4}}{(\\partial x)^{3}\\partial n_{y}}F\\left(x, n_{y}\\right)\\,{d x} + \\frac{1}{24} \\, \\int_{n_{x}}^{b_{x}} x^{2} \\left \\lfloor x \\right \\rfloor \\frac{\\partial^{4}}{(\\partial x)^{3}\\partial n_{y}}F\\left(x, n_{y}\\right)\\,{d x} - \\frac{1}{24} \\, \\int_{n_{x}}^{b_{x}} x \\left \\lfloor x \\right \\rfloor^{2} \\frac{\\partial^{4}}{(\\partial x)^{3}\\partial n_{y}}F\\left(x, n_{y}\\right)\\,{d x} + \\frac{1}{72} \\, \\int_{n_{x}}^{b_{x}} \\left \\lfloor x \\right \\rfloor^{3} \\frac{\\partial^{4}}{(\\partial x)^{3}\\partial n_{y}}F\\left(x, n_{y}\\right)\\,{d x} + \\frac{1}{24} \\, \\int_{n_{x}}^{b_{x}} -3 \\, x^{2} \\frac{\\partial^{3}}{(\\partial x)^{3}}F\\left(x, n_{y}\\right)\\,{d x} + \\frac{1}{24} \\, \\int_{n_{x}}^{b_{x}} 6 \\, x \\left \\lfloor x \\right \\rfloor \\frac{\\partial^{3}}{(\\partial x)^{3}}F\\left(x, n_{y}\\right)\\,{d x} + \\frac{1}{24} \\, \\int_{n_{x}}^{b_{x}} -3 \\, \\left \\lfloor x \\right \\rfloor^{2} \\frac{\\partial^{3}}{(\\partial x)^{3}}F\\left(x, n_{y}\\right)\\,{d x} + \\frac{1}{48} \\, \\int_{n_{x}}^{b_{x}} x^{2} \\frac{\\partial^{4}}{(\\partial x)^{3}\\partial n_{y}}F\\left(x, n_{y}\\right)\\,{d x} - \\frac{1}{24} \\, \\int_{n_{x}}^{b_{x}} x \\left \\lfloor x \\right \\rfloor \\frac{\\partial^{4}}{(\\partial x)^{3}\\partial n_{y}}F\\left(x, n_{y}\\right)\\,{d x} + \\frac{1}{48} \\, \\int_{n_{x}}^{b_{x}} \\left \\lfloor x \\right \\rfloor^{2} \\frac{\\partial^{4}}{(\\partial x)^{3}\\partial n_{y}}F\\left(x, n_{y}\\right)\\,{d x} + \\int_{n_{y}}^{b_{y}} \\frac{1}{144} \\, {\\left(2 \\, {\\left(y - \\left \\lfloor y \\right \\rfloor\\right)}^{3} - 3 \\, {\\left(y - \\left \\lfloor y \\right \\rfloor\\right)}^{2} + y - \\left \\lfloor y \\right \\rfloor\\right)} {\\left(2 \\, \\int_{n_{x}}^{b_{x}} x^{3} \\frac{\\partial^{6}}{(\\partial x)^{3}(\\partial y)^{3}}F\\left(x, y\\right)\\,{d x} - 6 \\, \\int_{n_{x}}^{b_{x}} x^{2} \\left \\lfloor x \\right \\rfloor \\frac{\\partial^{6}}{(\\partial x)^{3}(\\partial y)^{3}}F\\left(x, y\\right)\\,{d x} + 6 \\, \\int_{n_{x}}^{b_{x}} x \\left \\lfloor x \\right \\rfloor^{2} \\frac{\\partial^{6}}{(\\partial x)^{3}(\\partial y)^{3}}F\\left(x, y\\right)\\,{d x} - 2 \\, \\int_{n_{x}}^{b_{x}} \\left \\lfloor x \\right \\rfloor^{3} \\frac{\\partial^{6}}{(\\partial x)^{3}(\\partial y)^{3}}F\\left(x, y\\right)\\,{d x} - 3 \\, \\int_{n_{x}}^{b_{x}} x^{2} \\frac{\\partial^{6}}{(\\partial x)^{3}(\\partial y)^{3}}F\\left(x, y\\right)\\,{d x} + 6 \\, \\int_{n_{x}}^{b_{x}} x \\left \\lfloor x \\right \\rfloor \\frac{\\partial^{6}}{(\\partial x)^{3}(\\partial y)^{3}}F\\left(x, y\\right)\\,{d x} - 3 \\, \\int_{n_{x}}^{b_{x}} \\left \\lfloor x \\right \\rfloor^{2} \\frac{\\partial^{6}}{(\\partial x)^{3}(\\partial y)^{3}}F\\left(x, y\\right)\\,{d x} + \\int_{n_{x}}^{b_{x}} x \\frac{\\partial^{6}}{(\\partial x)^{3}(\\partial y)^{3}}F\\left(x, y\\right)\\,{d x} - \\int_{n_{x}}^{b_{x}} \\left \\lfloor x \\right \\rfloor \\frac{\\partial^{6}}{(\\partial x)^{3}(\\partial y)^{3}}F\\left(x, y\\right)\\,{d x} + 12 \\, \\int_{n_{x}}^{b_{x}} \\frac{\\partial^{3}}{(\\partial y)^{3}}F\\left(x, y\\right)\\,{d x} - \\frac{\\partial^{4}}{\\partial n_{x}(\\partial y)^{3}}F\\left(n_{x}, y\\right) + 6 \\, \\frac{\\partial^{3}}{(\\partial y)^{3}}F\\left(n_{x}, y\\right)\\right)}\\,{d y} + \\frac{1}{24} \\, \\int_{n_{x}}^{b_{x}} x \\frac{\\partial^{3}}{(\\partial x)^{3}}F\\left(x, n_{y}\\right)\\,{d x} + \\frac{1}{24} \\, \\int_{n_{x}}^{b_{x}} -\\left \\lfloor x \\right \\rfloor \\frac{\\partial^{3}}{(\\partial x)^{3}}F\\left(x, n_{y}\\right)\\,{d x} - \\frac{1}{144} \\, \\int_{n_{x}}^{b_{x}} x \\frac{\\partial^{4}}{(\\partial x)^{3}\\partial n_{y}}F\\left(x, n_{y}\\right)\\,{d x} + \\frac{1}{144} \\, \\int_{n_{x}}^{b_{x}} \\left \\lfloor x \\right \\rfloor \\frac{\\partial^{4}}{(\\partial x)^{3}\\partial n_{y}}F\\left(x, n_{y}\\right)\\,{d x} - \\frac{1}{12} \\, \\int_{n_{y}}^{b_{y}} -6 \\, F\\left(n_{x}, y\\right)\\,{d y} - \\frac{1}{12} \\, \\int_{n_{y}}^{b_{y}} -12 \\, \\int_{n_{x}}^{b_{x}} \\frac{1}{6} \\, x^{3} \\frac{\\partial^{3}}{(\\partial x)^{3}}F\\left(x, y\\right)\\,{d x}\\,{d y} - \\frac{1}{12} \\, \\int_{n_{y}}^{b_{y}} -12 \\, \\int_{n_{x}}^{b_{x}} -\\frac{1}{2} \\, x^{2} \\left \\lfloor x \\right \\rfloor \\frac{\\partial^{3}}{(\\partial x)^{3}}F\\left(x, y\\right)\\,{d x}\\,{d y} - \\frac{1}{12} \\, \\int_{n_{y}}^{b_{y}} -12 \\, \\int_{n_{x}}^{b_{x}} \\frac{1}{2} \\, x \\left \\lfloor x \\right \\rfloor^{2} \\frac{\\partial^{3}}{(\\partial x)^{3}}F\\left(x, y\\right)\\,{d x}\\,{d y} - \\frac{1}{12} \\, \\int_{n_{y}}^{b_{y}} -12 \\, \\int_{n_{x}}^{b_{x}} -\\frac{1}{6} \\, \\left \\lfloor x \\right \\rfloor^{3} \\frac{\\partial^{3}}{(\\partial x)^{3}}F\\left(x, y\\right)\\,{d x}\\,{d y} - \\frac{1}{12} \\, \\int_{n_{y}}^{b_{y}} -12 \\, \\int_{n_{x}}^{b_{x}} -\\frac{1}{4} \\, x^{2} \\frac{\\partial^{3}}{(\\partial x)^{3}}F\\left(x, y\\right)\\,{d x}\\,{d y} - \\frac{1}{12} \\, \\int_{n_{y}}^{b_{y}} -12 \\, \\int_{n_{x}}^{b_{x}} \\frac{1}{2} \\, x \\left \\lfloor x \\right \\rfloor \\frac{\\partial^{3}}{(\\partial x)^{3}}F\\left(x, y\\right)\\,{d x}\\,{d y} - \\frac{1}{12} \\, \\int_{n_{y}}^{b_{y}} -12 \\, \\int_{n_{x}}^{b_{x}} -\\frac{1}{4} \\, \\left \\lfloor x \\right \\rfloor^{2} \\frac{\\partial^{3}}{(\\partial x)^{3}}F\\left(x, y\\right)\\,{d x}\\,{d y} - \\frac{1}{12} \\, \\int_{n_{y}}^{b_{y}} -12 \\, \\int_{n_{x}}^{b_{x}} \\frac{1}{12} \\, x \\frac{\\partial^{3}}{(\\partial x)^{3}}F\\left(x, y\\right)\\,{d x}\\,{d y} - \\frac{1}{12} \\, \\int_{n_{y}}^{b_{y}} -12 \\, \\int_{n_{x}}^{b_{x}} -\\frac{1}{12} \\, \\left \\lfloor x \\right \\rfloor \\frac{\\partial^{3}}{(\\partial x)^{3}}F\\left(x, y\\right)\\,{d x}\\,{d y} - \\frac{1}{12} \\, \\int_{n_{y}}^{b_{y}} -12 \\, \\int_{n_{x}}^{b_{x}} F\\left(x, y\\right)\\,{d x}\\,{d y} + \\frac{1}{2} \\, \\int_{n_{x}}^{b_{x}} F\\left(x, n_{y}\\right)\\,{d x} - \\frac{1}{12} \\, \\int_{n_{y}}^{b_{y}} \\frac{\\partial}{\\partial n_{x}}F\\left(n_{x}, y\\right)\\,{d y} - \\frac{1}{12} \\, \\int_{n_{x}}^{b_{x}} \\frac{\\partial}{\\partial n_{y}}F\\left(x, n_{y}\\right)\\,{d x} - \\frac{1}{24} \\, \\frac{\\partial}{\\partial n_{x}}F\\left(n_{x}, n_{y}\\right) + \\frac{1}{144} \\, \\frac{\\partial^{2}}{\\partial n_{x}\\partial n_{y}}F\\left(n_{x}, n_{y}\\right) - \\frac{1}{24} \\, \\frac{\\partial}{\\partial n_{y}}F\\left(n_{x}, n_{y}\\right)$"
      ],
      "text/plain": [
       "<IPython.core.display.Math object>"
      ]
     },
     "metadata": {},
     "output_type": "display_data"
    }
   ],
   "source": [
    "display(Math(latex(sxy_symb)))"
   ]
  },
  {
   "cell_type": "code",
   "execution_count": 38,
   "metadata": {},
   "outputs": [],
   "source": [
    "f(x,y)=1/(x^2)\n",
    "assume(y>0)\n",
    "assume(x>0)\n",
    "a_x = 1\n",
    "b_x = Infinity\n",
    "\n",
    "a_y = 1\n",
    "b_y = Infinity"
   ]
  },
  {
   "cell_type": "code",
   "execution_count": 39,
   "metadata": {},
   "outputs": [],
   "source": [
    "calc_R_p=True\n",
    "use_int_R_p_j=False\n",
    "use_int_R_p_shifted_first=True\n",
    "change_R_p_order=True"
   ]
  },
  {
   "cell_type": "code",
   "execution_count": 40,
   "metadata": {},
   "outputs": [
    {
     "data": {
      "text/plain": [
       "(x, y) |--> integrate(-2*(2*(x - floor(x))^3 - 3*(x - floor(x))^2 + x - floor(x))/x^5, x, 1, +Infinity) + 5/3"
      ]
     },
     "execution_count": 40,
     "metadata": {},
     "output_type": "execute_result"
    }
   ],
   "source": [
    "ans = my_euler_maclaurin1(f, x, a_x, b_x, p, f_diff_symb_p=None)\n",
    "ans"
   ]
  },
  {
   "cell_type": "code",
   "execution_count": 41,
   "metadata": {},
   "outputs": [
    {
     "data": {
      "text/plain": [
       "(x, y) |--> integrate(-2*(2*(x - floor(x))^3 - 3*(x - floor(x))^2 + x - floor(x))/x^5, x, 1, +Infinity) + 5/3"
      ]
     },
     "execution_count": 41,
     "metadata": {},
     "output_type": "execute_result"
    }
   ],
   "source": [
    "ans = euler_maclaurin1(f, x, a_x, b_x, p, f_diff_symb_p=None)\n",
    "ans"
   ]
  },
  {
   "cell_type": "code",
   "execution_count": 42,
   "metadata": {},
   "outputs": [
    {
     "data": {
      "text/plain": [
       "1.64493413560982"
      ]
     },
     "execution_count": 42,
     "metadata": {},
     "output_type": "execute_result"
    }
   ],
   "source": [
    "ans.n()"
   ]
  },
  {
   "cell_type": "code",
   "execution_count": 43,
   "metadata": {},
   "outputs": [],
   "source": [
    "calc_R_p=True\n",
    "use_int_R_p_j=True\n",
    "use_int_R_p_shifted_first=True\n",
    "change_R_p_order=False"
   ]
  },
  {
   "cell_type": "code",
   "execution_count": 44,
   "metadata": {},
   "outputs": [
    {
     "data": {
      "text/plain": [
       "(x, y) |--> 1/6*pi^2"
      ]
     },
     "execution_count": 44,
     "metadata": {},
     "output_type": "execute_result"
    }
   ],
   "source": [
    "ans = my_euler_maclaurin1(f,x,a_x,b_x,p, f_diff_symb_p=None)\n",
    "ans"
   ]
  },
  {
   "cell_type": "code",
   "execution_count": 45,
   "metadata": {},
   "outputs": [
    {
     "data": {
      "text/plain": [
       "sum(integrate(-2*(2*v_x^3 - 3*v_x^2 + v_x)/(j_x + v_x)^5, v_x, 0, 1), j_x, 1, +Infinity) + 5/3"
      ]
     },
     "execution_count": 45,
     "metadata": {},
     "output_type": "execute_result"
    }
   ],
   "source": [
    "ans = euler_maclaurin1(f(x,y),x,a_x,b_x,p, f_diff_symb_p=None)\n",
    "ans"
   ]
  },
  {
   "cell_type": "code",
   "execution_count": 46,
   "metadata": {},
   "outputs": [],
   "source": [
    "calc_R_p=True\n",
    "use_int_R_p_j=True\n",
    "use_int_R_p_shifted_first=True\n",
    "change_R_p_order=True"
   ]
  },
  {
   "cell_type": "code",
   "execution_count": 47,
   "metadata": {},
   "outputs": [
    {
     "data": {
      "text/plain": [
       "(x, y) |--> integrate(4*v^3*(harmonic_number(v, 5) - zeta(5)) - 6*v^2*(harmonic_number(v, 5) - zeta(5)) + 2*v*(harmonic_number(v, 5) - zeta(5)), v, 0, 1) + 5/3"
      ]
     },
     "execution_count": 47,
     "metadata": {},
     "output_type": "execute_result"
    }
   ],
   "source": [
    "ans = my_euler_maclaurin1(f,x,a_x,b_x,p, f_diff_symb_p=None)\n",
    "ans"
   ]
  },
  {
   "cell_type": "code",
   "execution_count": 48,
   "metadata": {},
   "outputs": [
    {
     "data": {
      "text/plain": [
       "integrate(sum(-2*(2*v_x^3 - 3*v_x^2 + v_x)/(j_x + v_x)^5, j_x, 1, +Infinity), v_x, 0, 1) + 5/3"
      ]
     },
     "execution_count": 48,
     "metadata": {},
     "output_type": "execute_result"
    }
   ],
   "source": [
    "ans = euler_maclaurin1(f(x,y),x,a_x,b_x,p, f_diff_symb_p=None)\n",
    "ans"
   ]
  },
  {
   "cell_type": "code",
   "execution_count": 49,
   "metadata": {},
   "outputs": [
    {
     "data": {
      "text/plain": [
       "integrate(sum(-2*(2*v_x^3 - 3*v_x^2 + v_x)/(j_x + v_x)^5, j_x, 1, +Infinity), v_x, 0, 1) + 5/3"
      ]
     },
     "execution_count": 49,
     "metadata": {},
     "output_type": "execute_result"
    }
   ],
   "source": [
    "ans = euler_maclaurin1(f(x,y),x,a_x,b_x,p, f_diff_symb_p=None, hold_int=False)\n",
    "ans"
   ]
  },
  {
   "cell_type": "code",
   "execution_count": 50,
   "metadata": {},
   "outputs": [],
   "source": [
    "calc_R_p=True\n",
    "use_int_R_p_j=True\n",
    "use_int_R_p_shifted_first=True\n",
    "change_R_p_order=False"
   ]
  },
  {
   "cell_type": "code",
   "execution_count": 51,
   "metadata": {},
   "outputs": [
    {
     "data": {
      "text/plain": [
       "(x, y) |--> 1/6*pi^2"
      ]
     },
     "execution_count": 51,
     "metadata": {},
     "output_type": "execute_result"
    }
   ],
   "source": [
    "ans = my_euler_maclaurin1(f,x,a_x,b_x,p, f_diff_symb_p=None)\n",
    "ans"
   ]
  },
  {
   "cell_type": "code",
   "execution_count": 52,
   "metadata": {},
   "outputs": [
    {
     "data": {
      "text/plain": [
       "sum(integrate(-2*(2*v_x^3 - 3*v_x^2 + v_x)/(j_x + v_x)^5, v_x, 0, 1), j_x, 1, +Infinity) + 5/3"
      ]
     },
     "execution_count": 52,
     "metadata": {},
     "output_type": "execute_result"
    }
   ],
   "source": [
    "ans = euler_maclaurin1(f(x,y),x,a_x,b_x,p, f_diff_symb_p=None)\n",
    "ans"
   ]
  },
  {
   "cell_type": "code",
   "execution_count": 53,
   "metadata": {},
   "outputs": [
    {
     "data": {
      "text/plain": [
       "sum(1/6*(6*j_x^2 + 15*j_x + 10)/(j_x^3 + 3*j_x^2 + 3*j_x + 1) - 1/6*(6*j_x^2 - 3*j_x + 1)/j_x^3, j_x, 1, +Infinity) + 5/3"
      ]
     },
     "execution_count": 53,
     "metadata": {},
     "output_type": "execute_result"
    }
   ],
   "source": [
    "ans = euler_maclaurin1(f(x,y),x,a_x,b_x,p, f_diff_symb_p=None, hold_int=False)\n",
    "ans"
   ]
  },
  {
   "cell_type": "code",
   "execution_count": 54,
   "metadata": {},
   "outputs": [],
   "source": [
    "f(x,y)=1/((x^2+y^2)^2)\n",
    "\n",
    "assume(y>0)\n",
    "assume(x>0)"
   ]
  },
  {
   "cell_type": "code",
   "execution_count": 55,
   "metadata": {},
   "outputs": [],
   "source": [
    "calc_R_p=True\n",
    "use_int_R_p_j=True\n",
    "use_int_R_p_shifted_first=False\n",
    "change_R_p_order=False"
   ]
  },
  {
   "cell_type": "code",
   "execution_count": 56,
   "metadata": {
    "scrolled": false
   },
   "outputs": [
    {
     "name": "stdout",
     "output_type": "stream",
     "text": [
      "int_int= 0.142699081698724\n"
     ]
    },
    {
     "data": {
      "text/latex": [
       "$\\displaystyle \\frac{1}{8} \\, \\pi - \\frac{1}{4}$"
      ],
      "text/plain": [
       "<IPython.core.display.Math object>"
      ]
     },
     "metadata": {},
     "output_type": "display_data"
    },
    {
     "name": "stdout",
     "output_type": "stream",
     "text": [
      "int_sum= 0.0861909779407098\n"
     ]
    },
    {
     "data": {
      "text/latex": [
       "$\\displaystyle \\frac{3}{32} \\, \\pi - \\frac{5}{24}$"
      ],
      "text/plain": [
       "<IPython.core.display.Math object>"
      ]
     },
     "metadata": {},
     "output_type": "display_data"
    }
   ],
   "source": [
    "use_int_R_p_j = False\n",
    "#use_num_int = False\n",
    "\n",
    "int_int = integral(integral           (f(x,y),(x, a_x, b_x)),  (y, a_y, b_y)) \n",
    "#print(\"int_int=$\", latex(int_int),\"$\")\n",
    "print(\"int_int=\", int_int.n())\n",
    "display(Math(latex(int_int)))\n",
    "\n",
    "int_sum = integral(sum_dfdx_bernoulis (f(x,y), x, a_x, b_x,p), (y, a_y, b_y)) \n",
    "#print(\"int_sum=$\", latex(int_sum.expand()),\"$\")\n",
    "print(\"int_sum=\", int_sum.n())\n",
    "display(Math(latex(int_sum.expand())))"
   ]
  },
  {
   "cell_type": "code",
   "execution_count": 57,
   "metadata": {
    "scrolled": false
   },
   "outputs": [
    {
     "name": "stdout",
     "output_type": "stream",
     "text": [
      "int_R_p= integrate(sum(integrate(-2*(2*v_x^3 - 3*v_x^2 + v_x)*(8*(j_x + v_x)^3/((j_x + v_x)^2 + y^2)^5 - 3*(j_x + v_x)/((j_x + v_x)^2 + y^2)^4), v_x, 0, 1), j_x, 1, +Infinity), y, 1, +Infinity)\n"
     ]
    },
    {
     "data": {
      "text/latex": [
       "$\\displaystyle \\int_{1}^{+\\infty} {\\sum_{j_{x}=1}^{+\\infty} \\int_{0}^{1} -2 \\, {\\left(2 \\, v_{x}^{3} - 3 \\, v_{x}^{2} + v_{x}\\right)} {\\left(\\frac{8 \\, {\\left(j_{x} + v_{x}\\right)}^{3}}{{\\left({\\left(j_{x} + v_{x}\\right)}^{2} + y^{2}\\right)}^{5}} - \\frac{3 \\, {\\left(j_{x} + v_{x}\\right)}}{{\\left({\\left(j_{x} + v_{x}\\right)}^{2} + y^{2}\\right)}^{4}}\\right)}\\,{d v_{x}}}\\,{d y}$"
      ],
      "text/plain": [
       "<IPython.core.display.Math object>"
      ]
     },
     "metadata": {},
     "output_type": "display_data"
    },
    {
     "name": "stdout",
     "output_type": "stream",
     "text": [
      "The function to be integrated depends on 3 variables (j_x, v_x, y), and so cannot be integrated in one dimension. Please fix additional variables with the 'params' argument\n"
     ]
    }
   ],
   "source": [
    "try:\n",
    "    use_num_int = True\n",
    "    use_int_R_p_j=True\n",
    "    R_p = euler_maclaurin_R_p(f(x,y), x, a_x, b_x,p, f_diff_symb_p=None)\n",
    "    if type(R_p) is tuple:\n",
    "        int_R_p = integral(R_p[0], (y, a_y, b_y), hold=True)\n",
    "    else:\n",
    "        int_R_p = integral(R_p, (y, a_y, b_y), hold=True)\n",
    "\n",
    "    #print(\"int_R_p=$\",latex(int_R_p),\"$\")\n",
    "    print(\"int_R_p=\", int_R_p)\n",
    "    display(Math(latex(int_R_p)))\n",
    "    display(Math(latex(int_R_p.n())))\n",
    "    # The function to be integrated depends on 3 variables (j_x, v_x, y), and so cannot be integrated in one dimension.\n",
    "    # Please fix additional variables with the 'params' argument\n",
    "except Exception as ex:\n",
    "    print(ex)"
   ]
  },
  {
   "cell_type": "code",
   "execution_count": 58,
   "metadata": {
    "scrolled": false
   },
   "outputs": [
    {
     "name": "stdout",
     "output_type": "stream",
     "text": [
      "f_diff_x_p_str= -192*x^3/(x^2 + y^2)^5 + 72*x/(x^2 + y^2)^4\n",
      "f_diff_x_p = $ -\\frac{192 \\, x^{3}}{{\\left(x^{2} + y^{2}\\right)}^{5}} + \\frac{72 \\, x}{{\\left(x^{2} + y^{2}\\right)}^{4}} $\n"
     ]
    },
    {
     "name": "stderr",
     "output_type": "stream",
     "text": [
      "<ipython-input-1-b7de2e928668>:5: IntegrationWarning: The integral is probably divergent, or slowly convergent.\n",
      "  integral = integrate.quad(f, a, b)\n"
     ]
    },
    {
     "name": "stdout",
     "output_type": "stream",
     "text": [
      "int_R_p= -0.00024505599786148506\n"
     ]
    },
    {
     "data": {
      "text/latex": [
       "$\\displaystyle -0.00024505599786148506$"
      ],
      "text/plain": [
       "<IPython.core.display.Math object>"
      ]
     },
     "metadata": {},
     "output_type": "display_data"
    }
   ],
   "source": [
    "use_num_int = True\n",
    "use_int_R_p_j = False\n",
    "\n",
    "f_diff_x_p_str = str(f(x,y).diff(x,p))\n",
    "print(\"f_diff_x_p_str=\", f_diff_x_p_str)\n",
    "exec(preparse(\"f_diff_x_p = \" + f_diff_x_p_str))\n",
    "#print(preparse(\"f_diff_x_p = \" + f_diff_x_p_str))\n",
    "print(\"f_diff_x_p = $\", latex(f_diff_x_p),\"$\")\n",
    "\n",
    "int_R_p_ans = integral_euler_maclaurin_R_p(f(x=x,y=y), x, a_x, b_x, y, a_y, b_y, p, f_diff_x_p=f_diff_x_p, hold_int=False)\n",
    "if type(int_R_p_ans) is tuple:\n",
    "    (int_R_p,int_int_R_p) = int_R_p_ans\n",
    "else:\n",
    "    int_R_p = int_R_p_ans\n",
    "\n",
    "#print(\"int_R_p=$\",latex(int_R_p),\"$\")\n",
    "print(\"int_R_p=\",int_R_p)\n",
    "#print(\"int_R_p=\", int_R_p.n())\n",
    "display(Math(latex(int_R_p)))"
   ]
  },
  {
   "cell_type": "code",
   "execution_count": 59,
   "metadata": {},
   "outputs": [
    {
     "data": {
      "text/plain": [
       "1/8*pi - 1/4"
      ]
     },
     "execution_count": 59,
     "metadata": {},
     "output_type": "execute_result"
    }
   ],
   "source": [
    "int_int"
   ]
  },
  {
   "cell_type": "code",
   "execution_count": 60,
   "metadata": {},
   "outputs": [
    {
     "data": {
      "text/plain": [
       "0.142699081698724"
      ]
     },
     "execution_count": 60,
     "metadata": {},
     "output_type": "execute_result"
    }
   ],
   "source": [
    "int_int.n()"
   ]
  },
  {
   "cell_type": "code",
   "execution_count": 61,
   "metadata": {},
   "outputs": [
    {
     "data": {
      "text/plain": [
       "3/32*pi - 5/24"
      ]
     },
     "execution_count": 61,
     "metadata": {},
     "output_type": "execute_result"
    }
   ],
   "source": [
    "int_sum"
   ]
  },
  {
   "cell_type": "code",
   "execution_count": 62,
   "metadata": {},
   "outputs": [
    {
     "data": {
      "text/plain": [
       "0.0861909779407098"
      ]
     },
     "execution_count": 62,
     "metadata": {},
     "output_type": "execute_result"
    }
   ],
   "source": [
    "int_sum.n()"
   ]
  },
  {
   "cell_type": "code",
   "execution_count": 63,
   "metadata": {},
   "outputs": [
    {
     "data": {
      "text/plain": [
       "-0.00024505599786148506"
      ]
     },
     "execution_count": 63,
     "metadata": {},
     "output_type": "execute_result"
    }
   ],
   "source": [
    "int_R_p"
   ]
  },
  {
   "cell_type": "code",
   "execution_count": 64,
   "metadata": {},
   "outputs": [
    {
     "name": "stdout",
     "output_type": "stream",
     "text": [
      "name 'int_int_R_p' is not defined\n"
     ]
    }
   ],
   "source": [
    "try:\n",
    "    print(sum(int_int_R_p, j_x, 1, +Infinity))\n",
    "except Exception as ex:\n",
    "    print(ex)"
   ]
  },
  {
   "cell_type": "code",
   "execution_count": 65,
   "metadata": {},
   "outputs": [
    {
     "name": "stdout",
     "output_type": "stream",
     "text": [
      "name 'int_int_R_p' is not defined\n",
      "-0.00024505599786148506\n"
     ]
    }
   ],
   "source": [
    "try:\n",
    "    int_R_p_s = 0\n",
    "    for j in range (1, 1000):\n",
    "        int_R_p_term = int_int_R_p.subs(var(\"j_x\") == j)\n",
    "        int_R_p_s += int_R_p_term\n",
    "        #print(j, int_R_p_term.n(), int_R_p_n.n())\n",
    "    int_R_p_n = int_R_p_s.n()\n",
    "    print(int_R_p_n)\n",
    "except Exception as ex:\n",
    "    print(ex)\n",
    "    int_R_p_n = int_R_p\n",
    "    print(int_R_p_n)"
   ]
  },
  {
   "cell_type": "code",
   "execution_count": 66,
   "metadata": {},
   "outputs": [
    {
     "name": "stdout",
     "output_type": "stream",
     "text": [
      "sum_int= 0.0861909779407098\n"
     ]
    },
    {
     "data": {
      "text/latex": [
       "$\\displaystyle \\frac{3}{32} \\, \\pi - \\frac{5}{24}$"
      ],
      "text/plain": [
       "<IPython.core.display.Math object>"
      ]
     },
     "metadata": {},
     "output_type": "display_data"
    },
    {
     "name": "stdout",
     "output_type": "stream",
     "text": [
      "sum_sum= 0.114583333333333\n"
     ]
    },
    {
     "data": {
      "text/latex": [
       "$\\displaystyle \\frac{11}{96}$"
      ],
      "text/plain": [
       "<IPython.core.display.Math object>"
      ]
     },
     "metadata": {},
     "output_type": "display_data"
    }
   ],
   "source": [
    "#logging = True\n",
    "sum_int = sum_dfdx_bernoulis(integral           (f(x,y),(x, a_x, b_x)),  y, a_y, b_y, p)\n",
    "#print(\"sum_int=$\",latex(sum_int),\"$\")\n",
    "print(\"sum_int=\",sum_int.n())\n",
    "display(Math(latex(sum_int)))\n",
    "\n",
    "sum_sum = sum_dfdx_bernoulis(sum_dfdx_bernoulis (f(x,y), x, a_x, b_x,p), y, a_y, b_y, p)\n",
    "#print(\"sum_sum=$\",latex(sum_sum),\"$\")\n",
    "print(\"sum_sum=\", sum_sum.n())\n",
    "display(Math(latex(sum_sum)))"
   ]
  },
  {
   "cell_type": "code",
   "execution_count": 67,
   "metadata": {},
   "outputs": [
    {
     "data": {
      "text/latex": [
       "$\\displaystyle -\\frac{4}{3} \\, \\int_{1}^{+\\infty} \\frac{14 \\, x^{6}}{x^{12} + 6 \\, x^{10} + 15 \\, x^{8} + 20 \\, x^{6} + 15 \\, x^{4} + 6 \\, x^{2} + 1}\\,{d x} - \\int_{1}^{+\\infty} \\frac{10 \\, x^{6}}{x^{10} + 5 \\, x^{8} + 10 \\, x^{6} + 10 \\, x^{4} + 5 \\, x^{2} + 1}\\,{d x} - \\frac{4}{3} \\, \\int_{1}^{+\\infty} -\\frac{42 \\, x^{5} \\left \\lfloor x \\right \\rfloor}{x^{12} + 6 \\, x^{10} + 15 \\, x^{8} + 20 \\, x^{6} + 15 \\, x^{4} + 6 \\, x^{2} + 1}\\,{d x} - \\int_{1}^{+\\infty} -\\frac{30 \\, x^{5} \\left \\lfloor x \\right \\rfloor}{x^{10} + 5 \\, x^{8} + 10 \\, x^{6} + 10 \\, x^{4} + 5 \\, x^{2} + 1}\\,{d x} - \\frac{4}{3} \\, \\int_{1}^{+\\infty} \\frac{42 \\, x^{4} \\left \\lfloor x \\right \\rfloor^{2}}{x^{12} + 6 \\, x^{10} + 15 \\, x^{8} + 20 \\, x^{6} + 15 \\, x^{4} + 6 \\, x^{2} + 1}\\,{d x} - \\int_{1}^{+\\infty} \\frac{30 \\, x^{4} \\left \\lfloor x \\right \\rfloor^{2}}{x^{10} + 5 \\, x^{8} + 10 \\, x^{6} + 10 \\, x^{4} + 5 \\, x^{2} + 1}\\,{d x} - \\frac{4}{3} \\, \\int_{1}^{+\\infty} -\\frac{14 \\, x^{3} \\left \\lfloor x \\right \\rfloor^{3}}{x^{12} + 6 \\, x^{10} + 15 \\, x^{8} + 20 \\, x^{6} + 15 \\, x^{4} + 6 \\, x^{2} + 1}\\,{d x} - \\int_{1}^{+\\infty} -\\frac{10 \\, x^{3} \\left \\lfloor x \\right \\rfloor^{3}}{x^{10} + 5 \\, x^{8} + 10 \\, x^{6} + 10 \\, x^{4} + 5 \\, x^{2} + 1}\\,{d x} - \\frac{4}{3} \\, \\int_{1}^{+\\infty} -\\frac{21 \\, x^{5}}{x^{12} + 6 \\, x^{10} + 15 \\, x^{8} + 20 \\, x^{6} + 15 \\, x^{4} + 6 \\, x^{2} + 1}\\,{d x} - \\int_{1}^{+\\infty} -\\frac{15 \\, x^{5}}{x^{10} + 5 \\, x^{8} + 10 \\, x^{6} + 10 \\, x^{4} + 5 \\, x^{2} + 1}\\,{d x} - \\frac{4}{3} \\, \\int_{1}^{+\\infty} \\frac{42 \\, x^{4} \\left \\lfloor x \\right \\rfloor}{x^{12} + 6 \\, x^{10} + 15 \\, x^{8} + 20 \\, x^{6} + 15 \\, x^{4} + 6 \\, x^{2} + 1}\\,{d x} - \\int_{1}^{+\\infty} \\frac{30 \\, x^{4} \\left \\lfloor x \\right \\rfloor}{x^{10} + 5 \\, x^{8} + 10 \\, x^{6} + 10 \\, x^{4} + 5 \\, x^{2} + 1}\\,{d x} - \\frac{4}{3} \\, \\int_{1}^{+\\infty} -\\frac{21 \\, x^{3} \\left \\lfloor x \\right \\rfloor^{2}}{x^{12} + 6 \\, x^{10} + 15 \\, x^{8} + 20 \\, x^{6} + 15 \\, x^{4} + 6 \\, x^{2} + 1}\\,{d x} - \\int_{1}^{+\\infty} -\\frac{15 \\, x^{3} \\left \\lfloor x \\right \\rfloor^{2}}{x^{10} + 5 \\, x^{8} + 10 \\, x^{6} + 10 \\, x^{4} + 5 \\, x^{2} + 1}\\,{d x} - \\frac{4}{3} \\, \\int_{1}^{+\\infty} \\frac{x^{4}}{x^{12} + 6 \\, x^{10} + 15 \\, x^{8} + 20 \\, x^{6} + 15 \\, x^{4} + 6 \\, x^{2} + 1}\\,{d x} - \\int_{1}^{+\\infty} -\\frac{x^{4}}{x^{10} + 5 \\, x^{8} + 10 \\, x^{6} + 10 \\, x^{4} + 5 \\, x^{2} + 1}\\,{d x} - \\frac{4}{3} \\, \\int_{1}^{+\\infty} \\frac{11 \\, x^{3} \\left \\lfloor x \\right \\rfloor}{x^{12} + 6 \\, x^{10} + 15 \\, x^{8} + 20 \\, x^{6} + 15 \\, x^{4} + 6 \\, x^{2} + 1}\\,{d x} - \\int_{1}^{+\\infty} \\frac{13 \\, x^{3} \\left \\lfloor x \\right \\rfloor}{x^{10} + 5 \\, x^{8} + 10 \\, x^{6} + 10 \\, x^{4} + 5 \\, x^{2} + 1}\\,{d x} - \\frac{4}{3} \\, \\int_{1}^{+\\infty} -\\frac{18 \\, x^{2} \\left \\lfloor x \\right \\rfloor^{2}}{x^{12} + 6 \\, x^{10} + 15 \\, x^{8} + 20 \\, x^{6} + 15 \\, x^{4} + 6 \\, x^{2} + 1}\\,{d x} - \\int_{1}^{+\\infty} -\\frac{18 \\, x^{2} \\left \\lfloor x \\right \\rfloor^{2}}{x^{10} + 5 \\, x^{8} + 10 \\, x^{6} + 10 \\, x^{4} + 5 \\, x^{2} + 1}\\,{d x} - \\frac{4}{3} \\, \\int_{1}^{+\\infty} \\frac{6 \\, x \\left \\lfloor x \\right \\rfloor^{3}}{x^{12} + 6 \\, x^{10} + 15 \\, x^{8} + 20 \\, x^{6} + 15 \\, x^{4} + 6 \\, x^{2} + 1}\\,{d x} - \\int_{1}^{+\\infty} \\frac{6 \\, x \\left \\lfloor x \\right \\rfloor^{3}}{x^{10} + 5 \\, x^{8} + 10 \\, x^{6} + 10 \\, x^{4} + 5 \\, x^{2} + 1}\\,{d x} - \\frac{4}{3} \\, \\int_{1}^{+\\infty} \\frac{9 \\, x^{3}}{x^{12} + 6 \\, x^{10} + 15 \\, x^{8} + 20 \\, x^{6} + 15 \\, x^{4} + 6 \\, x^{2} + 1}\\,{d x} - \\int_{1}^{+\\infty} \\frac{9 \\, x^{3}}{x^{10} + 5 \\, x^{8} + 10 \\, x^{6} + 10 \\, x^{4} + 5 \\, x^{2} + 1}\\,{d x} - \\frac{4}{3} \\, \\int_{1}^{+\\infty} -\\frac{18 \\, x^{2} \\left \\lfloor x \\right \\rfloor}{x^{12} + 6 \\, x^{10} + 15 \\, x^{8} + 20 \\, x^{6} + 15 \\, x^{4} + 6 \\, x^{2} + 1}\\,{d x} - \\int_{1}^{+\\infty} -\\frac{18 \\, x^{2} \\left \\lfloor x \\right \\rfloor}{x^{10} + 5 \\, x^{8} + 10 \\, x^{6} + 10 \\, x^{4} + 5 \\, x^{2} + 1}\\,{d x} - \\frac{4}{3} \\, \\int_{1}^{+\\infty} \\frac{9 \\, x \\left \\lfloor x \\right \\rfloor^{2}}{x^{12} + 6 \\, x^{10} + 15 \\, x^{8} + 20 \\, x^{6} + 15 \\, x^{4} + 6 \\, x^{2} + 1}\\,{d x} - \\int_{1}^{+\\infty} \\frac{9 \\, x \\left \\lfloor x \\right \\rfloor^{2}}{x^{10} + 5 \\, x^{8} + 10 \\, x^{6} + 10 \\, x^{4} + 5 \\, x^{2} + 1}\\,{d x} - \\frac{4}{3} \\, \\int_{1}^{+\\infty} -\\frac{3 \\, x^{2}}{x^{12} + 6 \\, x^{10} + 15 \\, x^{8} + 20 \\, x^{6} + 15 \\, x^{4} + 6 \\, x^{2} + 1}\\,{d x} - \\int_{1}^{+\\infty} -\\frac{3 \\, x^{2}}{x^{10} + 5 \\, x^{8} + 10 \\, x^{6} + 10 \\, x^{4} + 5 \\, x^{2} + 1}\\,{d x} - \\frac{4}{3} \\, \\int_{1}^{+\\infty} \\frac{3 \\, x \\left \\lfloor x \\right \\rfloor}{x^{12} + 6 \\, x^{10} + 15 \\, x^{8} + 20 \\, x^{6} + 15 \\, x^{4} + 6 \\, x^{2} + 1}\\,{d x} - \\int_{1}^{+\\infty} \\frac{3 \\, x \\left \\lfloor x \\right \\rfloor}{x^{10} + 5 \\, x^{8} + 10 \\, x^{6} + 10 \\, x^{4} + 5 \\, x^{2} + 1}\\,{d x}$"
      ],
      "text/plain": [
       "<IPython.core.display.Math object>"
      ]
     },
     "metadata": {},
     "output_type": "display_data"
    }
   ],
   "source": [
    "(sum_R_p, dfdx_a_bernoullis_terms) = sum_dfdx_bernoulis_euler_maclaurin_R_p(f(x,y), x, a_x, b_x,    y, a_y, b_y, p)\n",
    "display(Math(latex(sum_R_p)))"
   ]
  },
  {
   "cell_type": "code",
   "execution_count": 68,
   "metadata": {},
   "outputs": [
    {
     "data": {
      "text/plain": [
       "-0.00258555514032721"
      ]
     },
     "execution_count": 68,
     "metadata": {},
     "output_type": "execute_result"
    }
   ],
   "source": [
    "sum_R_p_n = sum_R_p.n()\n",
    "sum_R_p_n"
   ]
  },
  {
   "cell_type": "code",
   "execution_count": 69,
   "metadata": {},
   "outputs": [
    {
     "name": "stdout",
     "output_type": "stream",
     "text": [
      "f_diff_symb_p_str = -192*x^3/(x^2 + y^2)^5 + 72*x/(x^2 + y^2)^4\n",
      "f_diff_symb_p = -Integer(192)*x**Integer(3)/(x**Integer(2) + y**Integer(2))**Integer(5) + Integer(72)*x/(x**Integer(2) + y**Integer(2))**Integer(4)\n",
      "f_diff_symb_p =  -192*x^3/(x^2 + y^2)^5 + 72*x/(x^2 + y^2)^4\n"
     ]
    },
    {
     "data": {
      "text/latex": [
       "$\\displaystyle -\\frac{192 \\, x^{3}}{{\\left(x^{2} + y^{2}\\right)}^{5}} + \\frac{72 \\, x}{{\\left(x^{2} + y^{2}\\right)}^{4}}$"
      ],
      "text/plain": [
       "<IPython.core.display.Math object>"
      ]
     },
     "metadata": {},
     "output_type": "display_data"
    },
    {
     "name": "stdout",
     "output_type": "stream",
     "text": [
      "R_px = integrate(-2*(2*(x - floor(x))^3 - 3*(x - floor(x))^2 + x - floor(x))*(8*x^3/(x^2 + y^2)^5 - 3*x/(x^2 + y^2)^4), x, 1, +Infinity)\n"
     ]
    },
    {
     "data": {
      "text/latex": [
       "$\\displaystyle \\int_{1}^{+\\infty} -2 \\, {\\left(2 \\, {\\left(x - \\left \\lfloor x \\right \\rfloor\\right)}^{3} - 3 \\, {\\left(x - \\left \\lfloor x \\right \\rfloor\\right)}^{2} + x - \\left \\lfloor x \\right \\rfloor\\right)} {\\left(\\frac{8 \\, x^{3}}{{\\left(x^{2} + y^{2}\\right)}^{5}} - \\frac{3 \\, x}{{\\left(x^{2} + y^{2}\\right)}^{4}}\\right)}\\,{d x}$"
      ],
      "text/plain": [
       "<IPython.core.display.Math object>"
      ]
     },
     "metadata": {},
     "output_type": "display_data"
    },
    {
     "name": "stdout",
     "output_type": "stream",
     "text": [
      "sumy_R_px = -1/32*pi - integrate(10*x^6/(x^10 + 5*x^8 + 10*x^6 + 10*x^4 + 5*x^2 + 1), x, 1, +Infinity) + 56*integrate(x^5*floor(x)/(x^12 + 6*x^10 + 15*x^8 + 20*x^6 + 15*x^4 + 6*x^2 + 1), x, 1, +Infinity) - integrate(-30*x^5*floor(x)/(x^10 + 5*x^8 + 10*x^6 + 10*x^4 + 5*x^2 + 1), x, 1, +Infinity) - 56*integrate(x^4*floor(x)^2/(x^12 + 6*x^10 + 15*x^8 + 20*x^6 + 15*x^4 + 6*x^2 + 1), x, 1, +Infinity) - integrate(30*x^4*floor(x)^2/(x^10 + 5*x^8 + 10*x^6 + 10*x^4 + 5*x^2 + 1), x, 1, +Infinity) + 56/3*integrate(x^3*floor(x)^3/(x^12 + 6*x^10 + 15*x^8 + 20*x^6 + 15*x^4 + 6*x^2 + 1), x, 1, +Infinity) - integrate(-10*x^3*floor(x)^3/(x^10 + 5*x^8 + 10*x^6 + 10*x^4 + 5*x^2 + 1), x, 1, +Infinity) - integrate(-15*x^5/(x^10 + 5*x^8 + 10*x^6 + 10*x^4 + 5*x^2 + 1), x, 1, +Infinity) - 56*integrate(x^4*floor(x)/(x^12 + 6*x^10 + 15*x^8 + 20*x^6 + 15*x^4 + 6*x^2 + 1), x, 1, +Infinity) - integrate(30*x^4*floor(x)/(x^10 + 5*x^8 + 10*x^6 + 10*x^4 + 5*x^2 + 1), x, 1, +Infinity) + 28*integrate(x^3*floor(x)^2/(x^12 + 6*x^10 + 15*x^8 + 20*x^6 + 15*x^4 + 6*x^2 + 1), x, 1, +Infinity) - integrate(-15*x^3*floor(x)^2/(x^10 + 5*x^8 + 10*x^6 + 10*x^4 + 5*x^2 + 1), x, 1, +Infinity) - integrate(-x^4/(x^10 + 5*x^8 + 10*x^6 + 10*x^4 + 5*x^2 + 1), x, 1, +Infinity) - 44/3*integrate(x^3*floor(x)/(x^12 + 6*x^10 + 15*x^8 + 20*x^6 + 15*x^4 + 6*x^2 + 1), x, 1, +Infinity) - integrate(13*x^3*floor(x)/(x^10 + 5*x^8 + 10*x^6 + 10*x^4 + 5*x^2 + 1), x, 1, +Infinity) + 24*integrate(x^2*floor(x)^2/(x^12 + 6*x^10 + 15*x^8 + 20*x^6 + 15*x^4 + 6*x^2 + 1), x, 1, +Infinity) - integrate(-18*x^2*floor(x)^2/(x^10 + 5*x^8 + 10*x^6 + 10*x^4 + 5*x^2 + 1), x, 1, +Infinity) - 8*integrate(x*floor(x)^3/(x^12 + 6*x^10 + 15*x^8 + 20*x^6 + 15*x^4 + 6*x^2 + 1), x, 1, +Infinity) - integrate(6*x*floor(x)^3/(x^10 + 5*x^8 + 10*x^6 + 10*x^4 + 5*x^2 + 1), x, 1, +Infinity) - integrate(9*x^3/(x^10 + 5*x^8 + 10*x^6 + 10*x^4 + 5*x^2 + 1), x, 1, +Infinity) + 24*integrate(x^2*floor(x)/(x^12 + 6*x^10 + 15*x^8 + 20*x^6 + 15*x^4 + 6*x^2 + 1), x, 1, +Infinity) - integrate(-18*x^2*floor(x)/(x^10 + 5*x^8 + 10*x^6 + 10*x^4 + 5*x^2 + 1), x, 1, +Infinity) - 12*integrate(x*floor(x)^2/(x^12 + 6*x^10 + 15*x^8 + 20*x^6 + 15*x^4 + 6*x^2 + 1), x, 1, +Infinity) - integrate(9*x*floor(x)^2/(x^10 + 5*x^8 + 10*x^6 + 10*x^4 + 5*x^2 + 1), x, 1, +Infinity) - integrate(-3*x^2/(x^10 + 5*x^8 + 10*x^6 + 10*x^4 + 5*x^2 + 1), x, 1, +Infinity) - 4*integrate(x*floor(x)/(x^12 + 6*x^10 + 15*x^8 + 20*x^6 + 15*x^4 + 6*x^2 + 1), x, 1, +Infinity) - integrate(3*x*floor(x)/(x^10 + 5*x^8 + 10*x^6 + 10*x^4 + 5*x^2 + 1), x, 1, +Infinity) + 5/96\n"
     ]
    },
    {
     "data": {
      "text/latex": [
       "$\\displaystyle -\\frac{1}{32} \\, \\pi - \\int_{1}^{+\\infty} \\frac{10 \\, x^{6}}{x^{10} + 5 \\, x^{8} + 10 \\, x^{6} + 10 \\, x^{4} + 5 \\, x^{2} + 1}\\,{d x} + 56 \\, \\int_{1}^{+\\infty} \\frac{x^{5} \\left \\lfloor x \\right \\rfloor}{x^{12} + 6 \\, x^{10} + 15 \\, x^{8} + 20 \\, x^{6} + 15 \\, x^{4} + 6 \\, x^{2} + 1}\\,{d x} - \\int_{1}^{+\\infty} -\\frac{30 \\, x^{5} \\left \\lfloor x \\right \\rfloor}{x^{10} + 5 \\, x^{8} + 10 \\, x^{6} + 10 \\, x^{4} + 5 \\, x^{2} + 1}\\,{d x} - 56 \\, \\int_{1}^{+\\infty} \\frac{x^{4} \\left \\lfloor x \\right \\rfloor^{2}}{x^{12} + 6 \\, x^{10} + 15 \\, x^{8} + 20 \\, x^{6} + 15 \\, x^{4} + 6 \\, x^{2} + 1}\\,{d x} - \\int_{1}^{+\\infty} \\frac{30 \\, x^{4} \\left \\lfloor x \\right \\rfloor^{2}}{x^{10} + 5 \\, x^{8} + 10 \\, x^{6} + 10 \\, x^{4} + 5 \\, x^{2} + 1}\\,{d x} + \\frac{56}{3} \\, \\int_{1}^{+\\infty} \\frac{x^{3} \\left \\lfloor x \\right \\rfloor^{3}}{x^{12} + 6 \\, x^{10} + 15 \\, x^{8} + 20 \\, x^{6} + 15 \\, x^{4} + 6 \\, x^{2} + 1}\\,{d x} - \\int_{1}^{+\\infty} -\\frac{10 \\, x^{3} \\left \\lfloor x \\right \\rfloor^{3}}{x^{10} + 5 \\, x^{8} + 10 \\, x^{6} + 10 \\, x^{4} + 5 \\, x^{2} + 1}\\,{d x} - \\int_{1}^{+\\infty} -\\frac{15 \\, x^{5}}{x^{10} + 5 \\, x^{8} + 10 \\, x^{6} + 10 \\, x^{4} + 5 \\, x^{2} + 1}\\,{d x} - 56 \\, \\int_{1}^{+\\infty} \\frac{x^{4} \\left \\lfloor x \\right \\rfloor}{x^{12} + 6 \\, x^{10} + 15 \\, x^{8} + 20 \\, x^{6} + 15 \\, x^{4} + 6 \\, x^{2} + 1}\\,{d x} - \\int_{1}^{+\\infty} \\frac{30 \\, x^{4} \\left \\lfloor x \\right \\rfloor}{x^{10} + 5 \\, x^{8} + 10 \\, x^{6} + 10 \\, x^{4} + 5 \\, x^{2} + 1}\\,{d x} + 28 \\, \\int_{1}^{+\\infty} \\frac{x^{3} \\left \\lfloor x \\right \\rfloor^{2}}{x^{12} + 6 \\, x^{10} + 15 \\, x^{8} + 20 \\, x^{6} + 15 \\, x^{4} + 6 \\, x^{2} + 1}\\,{d x} - \\int_{1}^{+\\infty} -\\frac{15 \\, x^{3} \\left \\lfloor x \\right \\rfloor^{2}}{x^{10} + 5 \\, x^{8} + 10 \\, x^{6} + 10 \\, x^{4} + 5 \\, x^{2} + 1}\\,{d x} - \\int_{1}^{+\\infty} -\\frac{x^{4}}{x^{10} + 5 \\, x^{8} + 10 \\, x^{6} + 10 \\, x^{4} + 5 \\, x^{2} + 1}\\,{d x} - \\frac{44}{3} \\, \\int_{1}^{+\\infty} \\frac{x^{3} \\left \\lfloor x \\right \\rfloor}{x^{12} + 6 \\, x^{10} + 15 \\, x^{8} + 20 \\, x^{6} + 15 \\, x^{4} + 6 \\, x^{2} + 1}\\,{d x} - \\int_{1}^{+\\infty} \\frac{13 \\, x^{3} \\left \\lfloor x \\right \\rfloor}{x^{10} + 5 \\, x^{8} + 10 \\, x^{6} + 10 \\, x^{4} + 5 \\, x^{2} + 1}\\,{d x} + 24 \\, \\int_{1}^{+\\infty} \\frac{x^{2} \\left \\lfloor x \\right \\rfloor^{2}}{x^{12} + 6 \\, x^{10} + 15 \\, x^{8} + 20 \\, x^{6} + 15 \\, x^{4} + 6 \\, x^{2} + 1}\\,{d x} - \\int_{1}^{+\\infty} -\\frac{18 \\, x^{2} \\left \\lfloor x \\right \\rfloor^{2}}{x^{10} + 5 \\, x^{8} + 10 \\, x^{6} + 10 \\, x^{4} + 5 \\, x^{2} + 1}\\,{d x} - 8 \\, \\int_{1}^{+\\infty} \\frac{x \\left \\lfloor x \\right \\rfloor^{3}}{x^{12} + 6 \\, x^{10} + 15 \\, x^{8} + 20 \\, x^{6} + 15 \\, x^{4} + 6 \\, x^{2} + 1}\\,{d x} - \\int_{1}^{+\\infty} \\frac{6 \\, x \\left \\lfloor x \\right \\rfloor^{3}}{x^{10} + 5 \\, x^{8} + 10 \\, x^{6} + 10 \\, x^{4} + 5 \\, x^{2} + 1}\\,{d x} - \\int_{1}^{+\\infty} \\frac{9 \\, x^{3}}{x^{10} + 5 \\, x^{8} + 10 \\, x^{6} + 10 \\, x^{4} + 5 \\, x^{2} + 1}\\,{d x} + 24 \\, \\int_{1}^{+\\infty} \\frac{x^{2} \\left \\lfloor x \\right \\rfloor}{x^{12} + 6 \\, x^{10} + 15 \\, x^{8} + 20 \\, x^{6} + 15 \\, x^{4} + 6 \\, x^{2} + 1}\\,{d x} - \\int_{1}^{+\\infty} -\\frac{18 \\, x^{2} \\left \\lfloor x \\right \\rfloor}{x^{10} + 5 \\, x^{8} + 10 \\, x^{6} + 10 \\, x^{4} + 5 \\, x^{2} + 1}\\,{d x} - 12 \\, \\int_{1}^{+\\infty} \\frac{x \\left \\lfloor x \\right \\rfloor^{2}}{x^{12} + 6 \\, x^{10} + 15 \\, x^{8} + 20 \\, x^{6} + 15 \\, x^{4} + 6 \\, x^{2} + 1}\\,{d x} - \\int_{1}^{+\\infty} \\frac{9 \\, x \\left \\lfloor x \\right \\rfloor^{2}}{x^{10} + 5 \\, x^{8} + 10 \\, x^{6} + 10 \\, x^{4} + 5 \\, x^{2} + 1}\\,{d x} - \\int_{1}^{+\\infty} -\\frac{3 \\, x^{2}}{x^{10} + 5 \\, x^{8} + 10 \\, x^{6} + 10 \\, x^{4} + 5 \\, x^{2} + 1}\\,{d x} - 4 \\, \\int_{1}^{+\\infty} \\frac{x \\left \\lfloor x \\right \\rfloor}{x^{12} + 6 \\, x^{10} + 15 \\, x^{8} + 20 \\, x^{6} + 15 \\, x^{4} + 6 \\, x^{2} + 1}\\,{d x} - \\int_{1}^{+\\infty} \\frac{3 \\, x \\left \\lfloor x \\right \\rfloor}{x^{10} + 5 \\, x^{8} + 10 \\, x^{6} + 10 \\, x^{4} + 5 \\, x^{2} + 1}\\,{d x} + \\frac{5}{96}$"
      ],
      "text/plain": [
       "<IPython.core.display.Math object>"
      ]
     },
     "metadata": {},
     "output_type": "display_data"
    },
    {
     "data": {
      "text/latex": [
       "$\\displaystyle -0.00258510845260002$"
      ],
      "text/plain": [
       "<IPython.core.display.Math object>"
      ]
     },
     "metadata": {},
     "output_type": "display_data"
    }
   ],
   "source": [
    "f_diff_symb_p_str = str(f(x,y).diff(x,p))\n",
    "print(\"f_diff_symb_p_str =\", f_diff_symb_p_str)\n",
    "exec(preparse(\"f_diff_symb_p = \" + f_diff_symb_p_str))\n",
    "print(preparse(\"f_diff_symb_p = \" + f_diff_symb_p_str))\n",
    "print(\"f_diff_symb_p = \", f_diff_symb_p)\n",
    "#print(\"f_diff_symb_p = $\", latex(f_diff_symb_p),\"$\")\n",
    "display(Math(latex(f_diff_symb_p)))\n",
    "#display(Math(latex(f_diff_symb_p(x,y))))\n",
    "\n",
    "use_num_int = False\n",
    "\n",
    "R_px_ans = euler_maclaurin_R_p(f(x=x,y=y), x, a_x, b_x,p, f_diff_symb_p=f_diff_symb_p)\n",
    "if type(R_px_ans) is tuple:\n",
    "    (R_px, term) = R_px_ans\n",
    "    print(\"term =\", term)\n",
    "    display(Math(latex(term)))\n",
    "else:\n",
    "    R_px = R_px_ans\n",
    "\n",
    "print(\"R_px =\",R_px)\n",
    "display(Math(latex(R_px)))\n",
    "\n",
    "# Sagemath 9.3 gives wrong result here due to    \n",
    "# https://trac.sagemath.org/ticket/32160\n",
    "sum_R_p = sum_dfdx_bernoulis(R_px, y, a_y, b_y, p)\n",
    "print(\"sumy_R_px =\",sum_R_p)\n",
    "#print(\"sumy_R_px=$\",latex(sum_R_p),\"$\")\n",
    "display(Math(latex(sum_R_p)))\n",
    "try:\n",
    "    display(Math(latex(sum_R_p.n())))\n",
    "except Exception as ex:\n",
    "    print(ex)"
   ]
  },
  {
   "cell_type": "code",
   "execution_count": 70,
   "metadata": {},
   "outputs": [
    {
     "data": {
      "text/plain": [
       "-192*x^3/(x^2 + y^2)^5 + 72*x/(x^2 + y^2)^4"
      ]
     },
     "execution_count": 70,
     "metadata": {},
     "output_type": "execute_result"
    }
   ],
   "source": [
    "f = (x^2 + y^2)^(-2)\n",
    "p = 3\n",
    "f_diff_x_p = f.diff(x, p)\n",
    "f_diff_x_p"
   ]
  },
  {
   "cell_type": "code",
   "execution_count": 71,
   "metadata": {},
   "outputs": [
    {
     "data": {
      "text/plain": [
       "1/6*(x - floor(x))^3 - 1/4*(x - floor(x))^2 + 1/12*x - 1/12*floor(x)"
      ]
     },
     "execution_count": 71,
     "metadata": {},
     "output_type": "execute_result"
    }
   ],
   "source": [
    "P = lambda x, p : bernoulli_polynomial(x - floor(x), p)\n",
    "poly = P(x=x,p=p)/factorial(p)\n",
    "poly"
   ]
  },
  {
   "cell_type": "code",
   "execution_count": 72,
   "metadata": {},
   "outputs": [
    {
     "data": {
      "text/plain": [
       "-2*integrate(10*x^6/(x^10 + 5*x^8*y^2 + 10*x^6*y^4 + 10*x^4*y^6 + 5*x^2*y^8 + y^10), x, 1, +Infinity) - 2*integrate(-6*x^4*y^2/(x^10 + 5*x^8*y^2 + 10*x^6*y^4 + 10*x^4*y^6 + 5*x^2*y^8 + y^10), x, 1, +Infinity) - 2*integrate(-30*x^5*floor(x)/(x^10 + 5*x^8*y^2 + 10*x^6*y^4 + 10*x^4*y^6 + 5*x^2*y^8 + y^10), x, 1, +Infinity) - 2*integrate(18*x^3*y^2*floor(x)/(x^10 + 5*x^8*y^2 + 10*x^6*y^4 + 10*x^4*y^6 + 5*x^2*y^8 + y^10), x, 1, +Infinity) - 2*integrate(30*x^4*floor(x)^2/(x^10 + 5*x^8*y^2 + 10*x^6*y^4 + 10*x^4*y^6 + 5*x^2*y^8 + y^10), x, 1, +Infinity) - 2*integrate(-18*x^2*y^2*floor(x)^2/(x^10 + 5*x^8*y^2 + 10*x^6*y^4 + 10*x^4*y^6 + 5*x^2*y^8 + y^10), x, 1, +Infinity) - 2*integrate(-10*x^3*floor(x)^3/(x^10 + 5*x^8*y^2 + 10*x^6*y^4 + 10*x^4*y^6 + 5*x^2*y^8 + y^10), x, 1, +Infinity) - 2*integrate(6*x*y^2*floor(x)^3/(x^10 + 5*x^8*y^2 + 10*x^6*y^4 + 10*x^4*y^6 + 5*x^2*y^8 + y^10), x, 1, +Infinity) - 2*integrate(-15*x^5/(x^10 + 5*x^8*y^2 + 10*x^6*y^4 + 10*x^4*y^6 + 5*x^2*y^8 + y^10), x, 1, +Infinity) - 2*integrate(9*x^3*y^2/(x^10 + 5*x^8*y^2 + 10*x^6*y^4 + 10*x^4*y^6 + 5*x^2*y^8 + y^10), x, 1, +Infinity) - 2*integrate(30*x^4*floor(x)/(x^10 + 5*x^8*y^2 + 10*x^6*y^4 + 10*x^4*y^6 + 5*x^2*y^8 + y^10), x, 1, +Infinity) - 2*integrate(-18*x^2*y^2*floor(x)/(x^10 + 5*x^8*y^2 + 10*x^6*y^4 + 10*x^4*y^6 + 5*x^2*y^8 + y^10), x, 1, +Infinity) - 2*integrate(-15*x^3*floor(x)^2/(x^10 + 5*x^8*y^2 + 10*x^6*y^4 + 10*x^4*y^6 + 5*x^2*y^8 + y^10), x, 1, +Infinity) - 2*integrate(9*x*y^2*floor(x)^2/(x^10 + 5*x^8*y^2 + 10*x^6*y^4 + 10*x^4*y^6 + 5*x^2*y^8 + y^10), x, 1, +Infinity) - 2*integrate(5*x^4/(x^10 + 5*x^8*y^2 + 10*x^6*y^4 + 10*x^4*y^6 + 5*x^2*y^8 + y^10), x, 1, +Infinity) - 2*integrate(-3*x^2*y^2/(x^10 + 5*x^8*y^2 + 10*x^6*y^4 + 10*x^4*y^6 + 5*x^2*y^8 + y^10), x, 1, +Infinity) - 2*integrate(-5*x^3*floor(x)/(x^10 + 5*x^8*y^2 + 10*x^6*y^4 + 10*x^4*y^6 + 5*x^2*y^8 + y^10), x, 1, +Infinity) - 2*integrate(3*x*y^2*floor(x)/(x^10 + 5*x^8*y^2 + 10*x^6*y^4 + 10*x^4*y^6 + 5*x^2*y^8 + y^10), x, 1, +Infinity)"
      ]
     },
     "execution_count": 72,
     "metadata": {},
     "output_type": "execute_result"
    }
   ],
   "source": [
    "Rpx = (-1)^(p+1)*integrate(f_diff_x_p*poly, x, 1, Infinity)\n",
    "Rpx"
   ]
  },
  {
   "cell_type": "code",
   "execution_count": 73,
   "metadata": {},
   "outputs": [
    {
     "data": {
      "text/plain": [
       "-6*y*(integrate(x^5*floor(x)/(x^12 + 6*x^10*y^2 + 15*x^8*y^4 + 20*x^6*y^6 + 15*x^4*y^8 + 6*x^2*y^10 + y^12), x, 1, +Infinity) + integrate(-4*x^3*y^2*floor(x)/(x^12 + 6*x^10*y^2 + 15*x^8*y^4 + 20*x^6*y^6 + 15*x^4*y^8 + 6*x^2*y^10 + y^12), x, 1, +Infinity)) + 6*y*(integrate(x^4*floor(x)^2/(x^12 + 6*x^10*y^2 + 15*x^8*y^4 + 20*x^6*y^6 + 15*x^4*y^8 + 6*x^2*y^10 + y^12), x, 1, +Infinity) + integrate(-4*x^2*y^2*floor(x)^2/(x^12 + 6*x^10*y^2 + 15*x^8*y^4 + 20*x^6*y^6 + 15*x^4*y^8 + 6*x^2*y^10 + y^12), x, 1, +Infinity)) - 2*y*(integrate(x^3*floor(x)^3/(x^12 + 6*x^10*y^2 + 15*x^8*y^4 + 20*x^6*y^6 + 15*x^4*y^8 + 6*x^2*y^10 + y^12), x, 1, +Infinity) + integrate(-4*x*y^2*floor(x)^3/(x^12 + 6*x^10*y^2 + 15*x^8*y^4 + 20*x^6*y^6 + 15*x^4*y^8 + 6*x^2*y^10 + y^12), x, 1, +Infinity)) + 6*y*(integrate(x^4*floor(x)/(x^12 + 6*x^10*y^2 + 15*x^8*y^4 + 20*x^6*y^6 + 15*x^4*y^8 + 6*x^2*y^10 + y^12), x, 1, +Infinity) + integrate(-4*x^2*y^2*floor(x)/(x^12 + 6*x^10*y^2 + 15*x^8*y^4 + 20*x^6*y^6 + 15*x^4*y^8 + 6*x^2*y^10 + y^12), x, 1, +Infinity)) - 3*y*(integrate(x^3*floor(x)^2/(x^12 + 6*x^10*y^2 + 15*x^8*y^4 + 20*x^6*y^6 + 15*x^4*y^8 + 6*x^2*y^10 + y^12), x, 1, +Infinity) + integrate(-4*x*y^2*floor(x)^2/(x^12 + 6*x^10*y^2 + 15*x^8*y^4 + 20*x^6*y^6 + 15*x^4*y^8 + 6*x^2*y^10 + y^12), x, 1, +Infinity)) - y*(integrate(x^3*floor(x)/(x^12 + 6*x^10*y^2 + 15*x^8*y^4 + 20*x^6*y^6 + 15*x^4*y^8 + 6*x^2*y^10 + y^12), x, 1, +Infinity) + integrate(-4*x*y^2*floor(x)/(x^12 + 6*x^10*y^2 + 15*x^8*y^4 + 20*x^6*y^6 + 15*x^4*y^8 + 6*x^2*y^10 + y^12), x, 1, +Infinity)) - 50*y*integrate(x^5*floor(x)/(x^12 + 6*x^10*y^2 + 15*x^8*y^4 + 20*x^6*y^6 + 15*x^4*y^8 + 6*x^2*y^10 + y^12), x, 1, +Infinity) + 50*y*integrate(x^4*floor(x)^2/(x^12 + 6*x^10*y^2 + 15*x^8*y^4 + 20*x^6*y^6 + 15*x^4*y^8 + 6*x^2*y^10 + y^12), x, 1, +Infinity) - 50/3*y*integrate(x^3*floor(x)^3/(x^12 + 6*x^10*y^2 + 15*x^8*y^4 + 20*x^6*y^6 + 15*x^4*y^8 + 6*x^2*y^10 + y^12), x, 1, +Infinity) + 50*y*integrate(x^4*floor(x)/(x^12 + 6*x^10*y^2 + 15*x^8*y^4 + 20*x^6*y^6 + 15*x^4*y^8 + 6*x^2*y^10 + y^12), x, 1, +Infinity) - 25*y*integrate(x^3*floor(x)^2/(x^12 + 6*x^10*y^2 + 15*x^8*y^4 + 20*x^6*y^6 + 15*x^4*y^8 + 6*x^2*y^10 + y^12), x, 1, +Infinity) - 25/3*y*integrate(x^3*floor(x)/(x^12 + 6*x^10*y^2 + 15*x^8*y^4 + 20*x^6*y^6 + 15*x^4*y^8 + 6*x^2*y^10 + y^12), x, 1, +Infinity) + 1/768*(75*y^10*arctan(1/y) - 75*y^9 + 375*y^8*arctan(1/y) + 674*y^7 + 750*y^6*arctan(1/y) + 640*y^5 + 750*y^4*arctan(1/y) + 350*y^3 + 375*y^2*arctan(1/y) + 75*y + 75*arctan(1/y))/(y^16 + 5*y^14 + 10*y^12 + 10*y^10 + 5*y^8 + y^6) - 5/768*(15*y^10*arctan(1/y) - 15*y^9 + 75*y^8*arctan(1/y) - 70*y^7 + 150*y^6*arctan(1/y) + 128*y^5 + 150*y^4*arctan(1/y) + 70*y^3 + 75*y^2*arctan(1/y) + 15*y + 15*arctan(1/y))/(y^16 + 5*y^14 + 10*y^12 + 10*y^10 + 5*y^8 + y^6) - 5/384*(15*y^10*arctan(1/y) - 15*y^9 + 75*y^8*arctan(1/y) - 70*y^7 + 150*y^6*arctan(1/y) - 128*y^5 + 150*y^4*arctan(1/y) + 70*y^3 + 75*y^2*arctan(1/y) + 15*y + 15*arctan(1/y))/(y^14 + 5*y^12 + 10*y^10 + 10*y^8 + 5*y^6 + y^4) + 1/128*(9*y^10*arctan(1/y) - 9*y^9 + 45*y^8*arctan(1/y) - 42*y^7 + 90*y^6*arctan(1/y) + 128*y^5 + 90*y^4*arctan(1/y) + 42*y^3 + 45*y^2*arctan(1/y) + 9*y + 9*arctan(1/y))/(y^14 + 5*y^12 + 10*y^10 + 10*y^8 + 5*y^6 + y^4) - 5/12*(y^5 + 5*y^3 + 10*y)/(y^10 + 5*y^8 + 10*y^6 + 10*y^4 + 5*y^2 + 1) + 1/4*(y^5 + 5*y^3 - 2*y)/(y^10 + 5*y^8 + 10*y^6 + 10*y^4 + 5*y^2 + 1) + 1/16*pi/y^4"
      ]
     },
     "execution_count": 73,
     "metadata": {},
     "output_type": "execute_result"
    }
   ],
   "source": [
    "k = 2\n",
    "g = bernoulli(k)/factorial(k) * Rpx.diff(y, k-1)\n",
    "g"
   ]
  },
  {
   "cell_type": "code",
   "execution_count": 74,
   "metadata": {},
   "outputs": [
    {
     "data": {
      "text/plain": [
       "1/32*pi + 24*integrate(x^3*floor(x)/(x^12 + 6*x^10 + 15*x^8 + 20*x^6 + 15*x^4 + 6*x^2 + 1), x, 1, +Infinity) - 24*integrate(x^2*floor(x)^2/(x^12 + 6*x^10 + 15*x^8 + 20*x^6 + 15*x^4 + 6*x^2 + 1), x, 1, +Infinity) + 8*integrate(x*floor(x)^3/(x^12 + 6*x^10 + 15*x^8 + 20*x^6 + 15*x^4 + 6*x^2 + 1), x, 1, +Infinity) - 24*integrate(x^2*floor(x)/(x^12 + 6*x^10 + 15*x^8 + 20*x^6 + 15*x^4 + 6*x^2 + 1), x, 1, +Infinity) + 12*integrate(x*floor(x)^2/(x^12 + 6*x^10 + 15*x^8 + 20*x^6 + 15*x^4 + 6*x^2 + 1), x, 1, +Infinity) + 4*integrate(x*floor(x)/(x^12 + 6*x^10 + 15*x^8 + 20*x^6 + 15*x^4 + 6*x^2 + 1), x, 1, +Infinity) - 56*integrate(x^5*floor(x)/(x^2 + 1)^6, x, 1, +Infinity) + 56*integrate(x^4*floor(x)^2/(x^2 + 1)^6, x, 1, +Infinity) - 56/3*integrate(x^3*floor(x)^3/(x^2 + 1)^6, x, 1, +Infinity) + 56*integrate(x^4*floor(x)/(x^2 + 1)^6, x, 1, +Infinity) - 28*integrate(x^3*floor(x)^2/(x^2 + 1)^6, x, 1, +Infinity) - 28/3*integrate(x^3*floor(x)/(x^2 + 1)^6, x, 1, +Infinity) - 5/96"
      ]
     },
     "execution_count": 74,
     "metadata": {},
     "output_type": "execute_result"
    }
   ],
   "source": [
    "gy1 = g.subs(y == 1)\n",
    "gy1"
   ]
  },
  {
   "cell_type": "code",
   "execution_count": 75,
   "metadata": {},
   "outputs": [
    {
     "data": {
      "text/plain": [
       "0.00132602128012135"
      ]
     },
     "execution_count": 75,
     "metadata": {},
     "output_type": "execute_result"
    }
   ],
   "source": [
    "gy1.n()"
   ]
  },
  {
   "cell_type": "code",
   "execution_count": 76,
   "metadata": {},
   "outputs": [
    {
     "data": {
      "text/plain": [
       "-1/32*pi - integrate(10*x^6/(x^10 + 5*x^8 + 10*x^6 + 10*x^4 + 5*x^2 + 1), x, 1, +Infinity) + 56*integrate(x^5*floor(x)/(x^12 + 6*x^10 + 15*x^8 + 20*x^6 + 15*x^4 + 6*x^2 + 1), x, 1, +Infinity) - integrate(-30*x^5*floor(x)/(x^10 + 5*x^8 + 10*x^6 + 10*x^4 + 5*x^2 + 1), x, 1, +Infinity) - 56*integrate(x^4*floor(x)^2/(x^12 + 6*x^10 + 15*x^8 + 20*x^6 + 15*x^4 + 6*x^2 + 1), x, 1, +Infinity) - integrate(30*x^4*floor(x)^2/(x^10 + 5*x^8 + 10*x^6 + 10*x^4 + 5*x^2 + 1), x, 1, +Infinity) + 56/3*integrate(x^3*floor(x)^3/(x^12 + 6*x^10 + 15*x^8 + 20*x^6 + 15*x^4 + 6*x^2 + 1), x, 1, +Infinity) - integrate(-10*x^3*floor(x)^3/(x^10 + 5*x^8 + 10*x^6 + 10*x^4 + 5*x^2 + 1), x, 1, +Infinity) - integrate(-15*x^5/(x^10 + 5*x^8 + 10*x^6 + 10*x^4 + 5*x^2 + 1), x, 1, +Infinity) - 56*integrate(x^4*floor(x)/(x^12 + 6*x^10 + 15*x^8 + 20*x^6 + 15*x^4 + 6*x^2 + 1), x, 1, +Infinity) - integrate(30*x^4*floor(x)/(x^10 + 5*x^8 + 10*x^6 + 10*x^4 + 5*x^2 + 1), x, 1, +Infinity) + 28*integrate(x^3*floor(x)^2/(x^12 + 6*x^10 + 15*x^8 + 20*x^6 + 15*x^4 + 6*x^2 + 1), x, 1, +Infinity) - integrate(-15*x^3*floor(x)^2/(x^10 + 5*x^8 + 10*x^6 + 10*x^4 + 5*x^2 + 1), x, 1, +Infinity) - integrate(-x^4/(x^10 + 5*x^8 + 10*x^6 + 10*x^4 + 5*x^2 + 1), x, 1, +Infinity) - 44/3*integrate(x^3*floor(x)/(x^12 + 6*x^10 + 15*x^8 + 20*x^6 + 15*x^4 + 6*x^2 + 1), x, 1, +Infinity) - integrate(13*x^3*floor(x)/(x^10 + 5*x^8 + 10*x^6 + 10*x^4 + 5*x^2 + 1), x, 1, +Infinity) + 24*integrate(x^2*floor(x)^2/(x^12 + 6*x^10 + 15*x^8 + 20*x^6 + 15*x^4 + 6*x^2 + 1), x, 1, +Infinity) - integrate(-18*x^2*floor(x)^2/(x^10 + 5*x^8 + 10*x^6 + 10*x^4 + 5*x^2 + 1), x, 1, +Infinity) - 8*integrate(x*floor(x)^3/(x^12 + 6*x^10 + 15*x^8 + 20*x^6 + 15*x^4 + 6*x^2 + 1), x, 1, +Infinity) - integrate(6*x*floor(x)^3/(x^10 + 5*x^8 + 10*x^6 + 10*x^4 + 5*x^2 + 1), x, 1, +Infinity) - integrate(9*x^3/(x^10 + 5*x^8 + 10*x^6 + 10*x^4 + 5*x^2 + 1), x, 1, +Infinity) + 24*integrate(x^2*floor(x)/(x^12 + 6*x^10 + 15*x^8 + 20*x^6 + 15*x^4 + 6*x^2 + 1), x, 1, +Infinity) - integrate(-18*x^2*floor(x)/(x^10 + 5*x^8 + 10*x^6 + 10*x^4 + 5*x^2 + 1), x, 1, +Infinity) - 12*integrate(x*floor(x)^2/(x^12 + 6*x^10 + 15*x^8 + 20*x^6 + 15*x^4 + 6*x^2 + 1), x, 1, +Infinity) - integrate(9*x*floor(x)^2/(x^10 + 5*x^8 + 10*x^6 + 10*x^4 + 5*x^2 + 1), x, 1, +Infinity) - integrate(-3*x^2/(x^10 + 5*x^8 + 10*x^6 + 10*x^4 + 5*x^2 + 1), x, 1, +Infinity) - 4*integrate(x*floor(x)/(x^12 + 6*x^10 + 15*x^8 + 20*x^6 + 15*x^4 + 6*x^2 + 1), x, 1, +Infinity) - integrate(3*x*floor(x)/(x^10 + 5*x^8 + 10*x^6 + 10*x^4 + 5*x^2 + 1), x, 1, +Infinity) + 5/96"
      ]
     },
     "execution_count": 76,
     "metadata": {},
     "output_type": "execute_result"
    }
   ],
   "source": [
    "sum_R_p"
   ]
  },
  {
   "cell_type": "code",
   "execution_count": 77,
   "metadata": {},
   "outputs": [
    {
     "data": {
      "text/latex": [
       "$\\displaystyle -\\frac{1}{32} \\, \\pi - \\int_{1}^{+\\infty} \\frac{10 \\, x^{6}}{x^{10} + 5 \\, x^{8} + 10 \\, x^{6} + 10 \\, x^{4} + 5 \\, x^{2} + 1}\\,{d x} + 56 \\, \\int_{1}^{+\\infty} \\frac{x^{5} \\left \\lfloor x \\right \\rfloor}{x^{12} + 6 \\, x^{10} + 15 \\, x^{8} + 20 \\, x^{6} + 15 \\, x^{4} + 6 \\, x^{2} + 1}\\,{d x} - \\int_{1}^{+\\infty} -\\frac{30 \\, x^{5} \\left \\lfloor x \\right \\rfloor}{x^{10} + 5 \\, x^{8} + 10 \\, x^{6} + 10 \\, x^{4} + 5 \\, x^{2} + 1}\\,{d x} - 56 \\, \\int_{1}^{+\\infty} \\frac{x^{4} \\left \\lfloor x \\right \\rfloor^{2}}{x^{12} + 6 \\, x^{10} + 15 \\, x^{8} + 20 \\, x^{6} + 15 \\, x^{4} + 6 \\, x^{2} + 1}\\,{d x} - \\int_{1}^{+\\infty} \\frac{30 \\, x^{4} \\left \\lfloor x \\right \\rfloor^{2}}{x^{10} + 5 \\, x^{8} + 10 \\, x^{6} + 10 \\, x^{4} + 5 \\, x^{2} + 1}\\,{d x} + \\frac{56}{3} \\, \\int_{1}^{+\\infty} \\frac{x^{3} \\left \\lfloor x \\right \\rfloor^{3}}{x^{12} + 6 \\, x^{10} + 15 \\, x^{8} + 20 \\, x^{6} + 15 \\, x^{4} + 6 \\, x^{2} + 1}\\,{d x} - \\int_{1}^{+\\infty} -\\frac{10 \\, x^{3} \\left \\lfloor x \\right \\rfloor^{3}}{x^{10} + 5 \\, x^{8} + 10 \\, x^{6} + 10 \\, x^{4} + 5 \\, x^{2} + 1}\\,{d x} - \\int_{1}^{+\\infty} -\\frac{15 \\, x^{5}}{x^{10} + 5 \\, x^{8} + 10 \\, x^{6} + 10 \\, x^{4} + 5 \\, x^{2} + 1}\\,{d x} - 56 \\, \\int_{1}^{+\\infty} \\frac{x^{4} \\left \\lfloor x \\right \\rfloor}{x^{12} + 6 \\, x^{10} + 15 \\, x^{8} + 20 \\, x^{6} + 15 \\, x^{4} + 6 \\, x^{2} + 1}\\,{d x} - \\int_{1}^{+\\infty} \\frac{30 \\, x^{4} \\left \\lfloor x \\right \\rfloor}{x^{10} + 5 \\, x^{8} + 10 \\, x^{6} + 10 \\, x^{4} + 5 \\, x^{2} + 1}\\,{d x} + 28 \\, \\int_{1}^{+\\infty} \\frac{x^{3} \\left \\lfloor x \\right \\rfloor^{2}}{x^{12} + 6 \\, x^{10} + 15 \\, x^{8} + 20 \\, x^{6} + 15 \\, x^{4} + 6 \\, x^{2} + 1}\\,{d x} - \\int_{1}^{+\\infty} -\\frac{15 \\, x^{3} \\left \\lfloor x \\right \\rfloor^{2}}{x^{10} + 5 \\, x^{8} + 10 \\, x^{6} + 10 \\, x^{4} + 5 \\, x^{2} + 1}\\,{d x} - \\int_{1}^{+\\infty} -\\frac{x^{4}}{x^{10} + 5 \\, x^{8} + 10 \\, x^{6} + 10 \\, x^{4} + 5 \\, x^{2} + 1}\\,{d x} - \\frac{44}{3} \\, \\int_{1}^{+\\infty} \\frac{x^{3} \\left \\lfloor x \\right \\rfloor}{x^{12} + 6 \\, x^{10} + 15 \\, x^{8} + 20 \\, x^{6} + 15 \\, x^{4} + 6 \\, x^{2} + 1}\\,{d x} - \\int_{1}^{+\\infty} \\frac{13 \\, x^{3} \\left \\lfloor x \\right \\rfloor}{x^{10} + 5 \\, x^{8} + 10 \\, x^{6} + 10 \\, x^{4} + 5 \\, x^{2} + 1}\\,{d x} + 24 \\, \\int_{1}^{+\\infty} \\frac{x^{2} \\left \\lfloor x \\right \\rfloor^{2}}{x^{12} + 6 \\, x^{10} + 15 \\, x^{8} + 20 \\, x^{6} + 15 \\, x^{4} + 6 \\, x^{2} + 1}\\,{d x} - \\int_{1}^{+\\infty} -\\frac{18 \\, x^{2} \\left \\lfloor x \\right \\rfloor^{2}}{x^{10} + 5 \\, x^{8} + 10 \\, x^{6} + 10 \\, x^{4} + 5 \\, x^{2} + 1}\\,{d x} - 8 \\, \\int_{1}^{+\\infty} \\frac{x \\left \\lfloor x \\right \\rfloor^{3}}{x^{12} + 6 \\, x^{10} + 15 \\, x^{8} + 20 \\, x^{6} + 15 \\, x^{4} + 6 \\, x^{2} + 1}\\,{d x} - \\int_{1}^{+\\infty} \\frac{6 \\, x \\left \\lfloor x \\right \\rfloor^{3}}{x^{10} + 5 \\, x^{8} + 10 \\, x^{6} + 10 \\, x^{4} + 5 \\, x^{2} + 1}\\,{d x} - \\int_{1}^{+\\infty} \\frac{9 \\, x^{3}}{x^{10} + 5 \\, x^{8} + 10 \\, x^{6} + 10 \\, x^{4} + 5 \\, x^{2} + 1}\\,{d x} + 24 \\, \\int_{1}^{+\\infty} \\frac{x^{2} \\left \\lfloor x \\right \\rfloor}{x^{12} + 6 \\, x^{10} + 15 \\, x^{8} + 20 \\, x^{6} + 15 \\, x^{4} + 6 \\, x^{2} + 1}\\,{d x} - \\int_{1}^{+\\infty} -\\frac{18 \\, x^{2} \\left \\lfloor x \\right \\rfloor}{x^{10} + 5 \\, x^{8} + 10 \\, x^{6} + 10 \\, x^{4} + 5 \\, x^{2} + 1}\\,{d x} - 12 \\, \\int_{1}^{+\\infty} \\frac{x \\left \\lfloor x \\right \\rfloor^{2}}{x^{12} + 6 \\, x^{10} + 15 \\, x^{8} + 20 \\, x^{6} + 15 \\, x^{4} + 6 \\, x^{2} + 1}\\,{d x} - \\int_{1}^{+\\infty} \\frac{9 \\, x \\left \\lfloor x \\right \\rfloor^{2}}{x^{10} + 5 \\, x^{8} + 10 \\, x^{6} + 10 \\, x^{4} + 5 \\, x^{2} + 1}\\,{d x} - \\int_{1}^{+\\infty} -\\frac{3 \\, x^{2}}{x^{10} + 5 \\, x^{8} + 10 \\, x^{6} + 10 \\, x^{4} + 5 \\, x^{2} + 1}\\,{d x} - 4 \\, \\int_{1}^{+\\infty} \\frac{x \\left \\lfloor x \\right \\rfloor}{x^{12} + 6 \\, x^{10} + 15 \\, x^{8} + 20 \\, x^{6} + 15 \\, x^{4} + 6 \\, x^{2} + 1}\\,{d x} - \\int_{1}^{+\\infty} \\frac{3 \\, x \\left \\lfloor x \\right \\rfloor}{x^{10} + 5 \\, x^{8} + 10 \\, x^{6} + 10 \\, x^{4} + 5 \\, x^{2} + 1}\\,{d x} + \\frac{5}{96}$"
      ],
      "text/plain": [
       "<IPython.core.display.Math object>"
      ]
     },
     "metadata": {},
     "output_type": "display_data"
    }
   ],
   "source": [
    "display(Math(latex(sum_R_p)))"
   ]
  },
  {
   "cell_type": "code",
   "execution_count": 78,
   "metadata": {},
   "outputs": [],
   "source": [
    "if use_int_R_p_j:\n",
    "    print(dfdx_a_bernoullis_terms(j_x))"
   ]
  },
  {
   "cell_type": "code",
   "execution_count": 79,
   "metadata": {},
   "outputs": [],
   "source": [
    "if use_int_R_p_j:\n",
    "    sum_R_p_j_n = 0\n",
    "    for j_x in range(1,100):\n",
    "        term = dfdx_a_bernoullis_terms(j_x)\n",
    "        sum_R_p_j_n += term\n",
    "        #print(j_x, term.n(), sum_R_p_n)\n",
    "    print(sum_R_p_j_n.n())"
   ]
  },
  {
   "cell_type": "code",
   "execution_count": 80,
   "metadata": {},
   "outputs": [
    {
     "name": "stdout",
     "output_type": "stream",
     "text": [
      "R_p_int= integrate(1/12*(2*(y - floor(y))^3 - 3*(y - floor(y))^2 + y - floor(y))*(3*(5*y^4 + 3*y^2)^3*(y^2*arctan(1/y) + y + arctan(1/y))/(y^5 + y^3)^4 - 6*(5*y^4 + 3*y^2)*(10*y^3 + 3*y)*(y^2*arctan(1/y) + y + arctan(1/y))/(y^5 + y^3)^3 + 3*(y^2*arctan(1/y) + y + arctan(1/y))*(10*y^2 + 1)/(y^5 + y^3)^2 - 3*(5*y^4 + 3*y^2)^2*(2*y*arctan(1/y) - 1/(1/y^2 + 1) - 1/(y^2*(1/y^2 + 1)) + 1)/(y^5 + y^3)^3 + 3*(10*y^3 + 3*y)*(2*y*arctan(1/y) - 1/(1/y^2 + 1) - 1/(y^2*(1/y^2 + 1)) + 1)/(y^5 + y^3)^2 - 3*(5*y^4 + 3*y^2)*(1/(y*(1/y^2 + 1)) - 1/(y^3*(1/y^2 + 1)) + 1/(y^3*(1/y^2 + 1)^2) + 1/(y^5*(1/y^2 + 1)^2) - arctan(1/y))/(y^5 + y^3)^2 + (3/(y^4*(1/y^2 + 1)) - 1/(y^4*(1/y^2 + 1)^2) - 7/(y^6*(1/y^2 + 1)^2) + 4/(y^6*(1/y^2 + 1)^3) + 4/(y^8*(1/y^2 + 1)^3))/(y^5 + y^3) - 15*pi/y^6), y, 1, +Infinity)\n"
     ]
    },
    {
     "name": "stderr",
     "output_type": "stream",
     "text": [
      "<ipython-input-80-787e89275ea3>:4: DeprecationWarning: Substitution using function-call syntax and unnamed arguments is deprecated and will be removed from a future release of Sage; you can use named arguments instead, like EXPR(x=..., y=...)\n",
      "See http://trac.sagemath.org/5930 for details.\n",
      "  R_p_int = euler_maclaurin_R_p(integral           (f(x,y),(x, a_x, b_x), hold = False),  y, a_y, b_y, p, f_diff_symb_p=None)\n"
     ]
    },
    {
     "data": {
      "text/latex": [
       "$\\displaystyle \\int_{1}^{+\\infty} \\frac{1}{12} \\, {\\left(2 \\, {\\left(y - \\left \\lfloor y \\right \\rfloor\\right)}^{3} - 3 \\, {\\left(y - \\left \\lfloor y \\right \\rfloor\\right)}^{2} + y - \\left \\lfloor y \\right \\rfloor\\right)} {\\left(\\frac{3 \\, {\\left(5 \\, y^{4} + 3 \\, y^{2}\\right)}^{3} {\\left(y^{2} \\arctan\\left(\\frac{1}{y}\\right) + y + \\arctan\\left(\\frac{1}{y}\\right)\\right)}}{{\\left(y^{5} + y^{3}\\right)}^{4}} - \\frac{6 \\, {\\left(5 \\, y^{4} + 3 \\, y^{2}\\right)} {\\left(10 \\, y^{3} + 3 \\, y\\right)} {\\left(y^{2} \\arctan\\left(\\frac{1}{y}\\right) + y + \\arctan\\left(\\frac{1}{y}\\right)\\right)}}{{\\left(y^{5} + y^{3}\\right)}^{3}} + \\frac{3 \\, {\\left(y^{2} \\arctan\\left(\\frac{1}{y}\\right) + y + \\arctan\\left(\\frac{1}{y}\\right)\\right)} {\\left(10 \\, y^{2} + 1\\right)}}{{\\left(y^{5} + y^{3}\\right)}^{2}} - \\frac{3 \\, {\\left(5 \\, y^{4} + 3 \\, y^{2}\\right)}^{2} {\\left(2 \\, y \\arctan\\left(\\frac{1}{y}\\right) - \\frac{1}{\\frac{1}{y^{2}} + 1} - \\frac{1}{y^{2} {\\left(\\frac{1}{y^{2}} + 1\\right)}} + 1\\right)}}{{\\left(y^{5} + y^{3}\\right)}^{3}} + \\frac{3 \\, {\\left(10 \\, y^{3} + 3 \\, y\\right)} {\\left(2 \\, y \\arctan\\left(\\frac{1}{y}\\right) - \\frac{1}{\\frac{1}{y^{2}} + 1} - \\frac{1}{y^{2} {\\left(\\frac{1}{y^{2}} + 1\\right)}} + 1\\right)}}{{\\left(y^{5} + y^{3}\\right)}^{2}} - \\frac{3 \\, {\\left(5 \\, y^{4} + 3 \\, y^{2}\\right)} {\\left(\\frac{1}{y {\\left(\\frac{1}{y^{2}} + 1\\right)}} - \\frac{1}{y^{3} {\\left(\\frac{1}{y^{2}} + 1\\right)}} + \\frac{1}{y^{3} {\\left(\\frac{1}{y^{2}} + 1\\right)}^{2}} + \\frac{1}{y^{5} {\\left(\\frac{1}{y^{2}} + 1\\right)}^{2}} - \\arctan\\left(\\frac{1}{y}\\right)\\right)}}{{\\left(y^{5} + y^{3}\\right)}^{2}} + \\frac{\\frac{3}{y^{4} {\\left(\\frac{1}{y^{2}} + 1\\right)}} - \\frac{1}{y^{4} {\\left(\\frac{1}{y^{2}} + 1\\right)}^{2}} - \\frac{7}{y^{6} {\\left(\\frac{1}{y^{2}} + 1\\right)}^{2}} + \\frac{4}{y^{6} {\\left(\\frac{1}{y^{2}} + 1\\right)}^{3}} + \\frac{4}{y^{8} {\\left(\\frac{1}{y^{2}} + 1\\right)}^{3}}}{y^{5} + y^{3}} - \\frac{15 \\, \\pi}{y^{6}}\\right)}\\,{d y}$"
      ],
      "text/plain": [
       "<IPython.core.display.Math object>"
      ]
     },
     "metadata": {},
     "output_type": "display_data"
    }
   ],
   "source": [
    "use_int_R_p_j = False\n",
    "use_num_int = False\n",
    "\n",
    "R_p_int = euler_maclaurin_R_p(integral           (f(x,y),(x, a_x, b_x), hold = False),  y, a_y, b_y, p, f_diff_symb_p=None)\n",
    "#print(\"R_p_int=$\",latex(R_p_int),\"$\")\n",
    "print(\"R_p_int=\", R_p_int)\n",
    "display(Math(latex(R_p_int)))"
   ]
  },
  {
   "cell_type": "code",
   "execution_count": 81,
   "metadata": {},
   "outputs": [
    {
     "data": {
      "text/plain": [
       "integrate(1/12*(2*(y - floor(y))^3 - 3*(y - floor(y))^2 + y - floor(y))*(3*(5*y^4 + 3*y^2)^3*(y^2*arctan(1/y) + y + arctan(1/y))/(y^5 + y^3)^4 - 6*(5*y^4 + 3*y^2)*(10*y^3 + 3*y)*(y^2*arctan(1/y) + y + arctan(1/y))/(y^5 + y^3)^3 + 3*(y^2*arctan(1/y) + y + arctan(1/y))*(10*y^2 + 1)/(y^5 + y^3)^2 - 3*(5*y^4 + 3*y^2)^2*(2*y*arctan(1/y) - 1/(1/y^2 + 1) - 1/(y^2*(1/y^2 + 1)) + 1)/(y^5 + y^3)^3 + 3*(10*y^3 + 3*y)*(2*y*arctan(1/y) - 1/(1/y^2 + 1) - 1/(y^2*(1/y^2 + 1)) + 1)/(y^5 + y^3)^2 - 3*(5*y^4 + 3*y^2)*(1/(y*(1/y^2 + 1)) - 1/(y^3*(1/y^2 + 1)) + 1/(y^3*(1/y^2 + 1)^2) + 1/(y^5*(1/y^2 + 1)^2) - arctan(1/y))/(y^5 + y^3)^2 + (3/(y^4*(1/y^2 + 1)) - 1/(y^4*(1/y^2 + 1)^2) - 7/(y^6*(1/y^2 + 1)^2) + 4/(y^6*(1/y^2 + 1)^3) + 4/(y^8*(1/y^2 + 1)^3))/(y^5 + y^3) - 15*pi/y^6), y, 1, +Infinity)"
      ]
     },
     "execution_count": 81,
     "metadata": {},
     "output_type": "execute_result"
    }
   ],
   "source": [
    "R_p_int"
   ]
  },
  {
   "cell_type": "code",
   "execution_count": 82,
   "metadata": {
    "scrolled": true
   },
   "outputs": [
    {
     "name": "stderr",
     "output_type": "stream",
     "text": [
      "<ipython-input-82-fd3dac138254>:1: DeprecationWarning: Substitution using function-call syntax and unnamed arguments is deprecated and will be removed from a future release of Sage; you can use named arguments instead, like EXPR(x=..., y=...)\n",
      "See http://trac.sagemath.org/5930 for details.\n",
      "  integral           (f(x,y),(x, a_x, b_x), hold = False)\n"
     ]
    },
    {
     "data": {
      "text/plain": [
       "-1/2*(y^2*arctan(1/y) + y + arctan(1/y))/(y^5 + y^3) + 1/4*pi/y^3"
      ]
     },
     "execution_count": 82,
     "metadata": {},
     "output_type": "execute_result"
    }
   ],
   "source": [
    "integral           (f(x,y),(x, a_x, b_x), hold = False)"
   ]
  },
  {
   "cell_type": "code",
   "execution_count": 83,
   "metadata": {},
   "outputs": [
    {
     "data": {
      "text/plain": [
       "-0.000245074944248043"
      ]
     },
     "execution_count": 83,
     "metadata": {},
     "output_type": "execute_result"
    }
   ],
   "source": [
    "R_p_int_n = R_p_int.n()\n",
    "R_p_int_n"
   ]
  },
  {
   "cell_type": "code",
   "execution_count": 84,
   "metadata": {},
   "outputs": [
    {
     "name": "stderr",
     "output_type": "stream",
     "text": [
      "<ipython-input-84-4ad0e474d478>:4: DeprecationWarning: Substitution using function-call syntax and unnamed arguments is deprecated and will be removed from a future release of Sage; you can use named arguments instead, like EXPR(x=..., y=...)\n",
      "See http://trac.sagemath.org/5930 for details.\n",
      "  R_p_sum = euler_maclaurin_R_p(sum_dfdx_bernoulis (f(x,y), x, a_x, b_x,p), y, a_y, b_y, p, f_diff_symb_p=None, hold_int=False)\n"
     ]
    },
    {
     "name": "stdout",
     "output_type": "stream",
     "text": [
      "R_p_sum = -1/3*integrate(30*y^8/(y^12 + 6*y^10 + 15*y^8 + 20*y^6 + 15*y^4 + 6*y^2 + 1), y, 1, +Infinity) - 1/3*integrate(-90*y^7*floor(y)/(y^12 + 6*y^10 + 15*y^8 + 20*y^6 + 15*y^4 + 6*y^2 + 1), y, 1, +Infinity) - 1/3*integrate(90*y^6*floor(y)^2/(y^12 + 6*y^10 + 15*y^8 + 20*y^6 + 15*y^4 + 6*y^2 + 1), y, 1, +Infinity) - 1/3*integrate(-30*y^5*floor(y)^3/(y^12 + 6*y^10 + 15*y^8 + 20*y^6 + 15*y^4 + 6*y^2 + 1), y, 1, +Infinity) - 1/3*integrate(-45*y^7/(y^12 + 6*y^10 + 15*y^8 + 20*y^6 + 15*y^4 + 6*y^2 + 1), y, 1, +Infinity) - 1/3*integrate(90*y^6*floor(y)/(y^12 + 6*y^10 + 15*y^8 + 20*y^6 + 15*y^4 + 6*y^2 + 1), y, 1, +Infinity) - 1/3*integrate(-45*y^5*floor(y)^2/(y^12 + 6*y^10 + 15*y^8 + 20*y^6 + 15*y^4 + 6*y^2 + 1), y, 1, +Infinity) - 1/3*integrate(83*y^6/(y^12 + 6*y^10 + 15*y^8 + 20*y^6 + 15*y^4 + 6*y^2 + 1), y, 1, +Infinity) - 1/3*integrate(-219*y^5*floor(y)/(y^12 + 6*y^10 + 15*y^8 + 20*y^6 + 15*y^4 + 6*y^2 + 1), y, 1, +Infinity) - 1/3*integrate(204*y^4*floor(y)^2/(y^12 + 6*y^10 + 15*y^8 + 20*y^6 + 15*y^4 + 6*y^2 + 1), y, 1, +Infinity) - 1/3*integrate(-68*y^3*floor(y)^3/(y^12 + 6*y^10 + 15*y^8 + 20*y^6 + 15*y^4 + 6*y^2 + 1), y, 1, +Infinity) - 1/3*integrate(-102*y^5/(y^12 + 6*y^10 + 15*y^8 + 20*y^6 + 15*y^4 + 6*y^2 + 1), y, 1, +Infinity) - 1/3*integrate(204*y^4*floor(y)/(y^12 + 6*y^10 + 15*y^8 + 20*y^6 + 15*y^4 + 6*y^2 + 1), y, 1, +Infinity) - 1/3*integrate(-102*y^3*floor(y)^2/(y^12 + 6*y^10 + 15*y^8 + 20*y^6 + 15*y^4 + 6*y^2 + 1), y, 1, +Infinity) - 1/3*integrate(-8*y^4/(y^12 + 6*y^10 + 15*y^8 + 20*y^6 + 15*y^4 + 6*y^2 + 1), y, 1, +Infinity) - 1/3*integrate(92*y^3*floor(y)/(y^12 + 6*y^10 + 15*y^8 + 20*y^6 + 15*y^4 + 6*y^2 + 1), y, 1, +Infinity) - 1/3*integrate(-126*y^2*floor(y)^2/(y^12 + 6*y^10 + 15*y^8 + 20*y^6 + 15*y^4 + 6*y^2 + 1), y, 1, +Infinity) - 1/3*integrate(42*y*floor(y)^3/(y^12 + 6*y^10 + 15*y^8 + 20*y^6 + 15*y^4 + 6*y^2 + 1), y, 1, +Infinity) - 1/3*integrate(63*y^3/(y^12 + 6*y^10 + 15*y^8 + 20*y^6 + 15*y^4 + 6*y^2 + 1), y, 1, +Infinity) - 1/3*integrate(-126*y^2*floor(y)/(y^12 + 6*y^10 + 15*y^8 + 20*y^6 + 15*y^4 + 6*y^2 + 1), y, 1, +Infinity) - 1/3*integrate(63*y*floor(y)^2/(y^12 + 6*y^10 + 15*y^8 + 20*y^6 + 15*y^4 + 6*y^2 + 1), y, 1, +Infinity) - 1/3*integrate(-21*y^2/(y^12 + 6*y^10 + 15*y^8 + 20*y^6 + 15*y^4 + 6*y^2 + 1), y, 1, +Infinity) - 1/3*integrate(21*y*floor(y)/(y^12 + 6*y^10 + 15*y^8 + 20*y^6 + 15*y^4 + 6*y^2 + 1), y, 1, +Infinity)\n"
     ]
    },
    {
     "data": {
      "text/latex": [
       "$\\displaystyle -\\frac{1}{3} \\, \\int_{1}^{+\\infty} \\frac{30 \\, y^{8}}{y^{12} + 6 \\, y^{10} + 15 \\, y^{8} + 20 \\, y^{6} + 15 \\, y^{4} + 6 \\, y^{2} + 1}\\,{d y} - \\frac{1}{3} \\, \\int_{1}^{+\\infty} -\\frac{90 \\, y^{7} \\left \\lfloor y \\right \\rfloor}{y^{12} + 6 \\, y^{10} + 15 \\, y^{8} + 20 \\, y^{6} + 15 \\, y^{4} + 6 \\, y^{2} + 1}\\,{d y} - \\frac{1}{3} \\, \\int_{1}^{+\\infty} \\frac{90 \\, y^{6} \\left \\lfloor y \\right \\rfloor^{2}}{y^{12} + 6 \\, y^{10} + 15 \\, y^{8} + 20 \\, y^{6} + 15 \\, y^{4} + 6 \\, y^{2} + 1}\\,{d y} - \\frac{1}{3} \\, \\int_{1}^{+\\infty} -\\frac{30 \\, y^{5} \\left \\lfloor y \\right \\rfloor^{3}}{y^{12} + 6 \\, y^{10} + 15 \\, y^{8} + 20 \\, y^{6} + 15 \\, y^{4} + 6 \\, y^{2} + 1}\\,{d y} - \\frac{1}{3} \\, \\int_{1}^{+\\infty} -\\frac{45 \\, y^{7}}{y^{12} + 6 \\, y^{10} + 15 \\, y^{8} + 20 \\, y^{6} + 15 \\, y^{4} + 6 \\, y^{2} + 1}\\,{d y} - \\frac{1}{3} \\, \\int_{1}^{+\\infty} \\frac{90 \\, y^{6} \\left \\lfloor y \\right \\rfloor}{y^{12} + 6 \\, y^{10} + 15 \\, y^{8} + 20 \\, y^{6} + 15 \\, y^{4} + 6 \\, y^{2} + 1}\\,{d y} - \\frac{1}{3} \\, \\int_{1}^{+\\infty} -\\frac{45 \\, y^{5} \\left \\lfloor y \\right \\rfloor^{2}}{y^{12} + 6 \\, y^{10} + 15 \\, y^{8} + 20 \\, y^{6} + 15 \\, y^{4} + 6 \\, y^{2} + 1}\\,{d y} - \\frac{1}{3} \\, \\int_{1}^{+\\infty} \\frac{83 \\, y^{6}}{y^{12} + 6 \\, y^{10} + 15 \\, y^{8} + 20 \\, y^{6} + 15 \\, y^{4} + 6 \\, y^{2} + 1}\\,{d y} - \\frac{1}{3} \\, \\int_{1}^{+\\infty} -\\frac{219 \\, y^{5} \\left \\lfloor y \\right \\rfloor}{y^{12} + 6 \\, y^{10} + 15 \\, y^{8} + 20 \\, y^{6} + 15 \\, y^{4} + 6 \\, y^{2} + 1}\\,{d y} - \\frac{1}{3} \\, \\int_{1}^{+\\infty} \\frac{204 \\, y^{4} \\left \\lfloor y \\right \\rfloor^{2}}{y^{12} + 6 \\, y^{10} + 15 \\, y^{8} + 20 \\, y^{6} + 15 \\, y^{4} + 6 \\, y^{2} + 1}\\,{d y} - \\frac{1}{3} \\, \\int_{1}^{+\\infty} -\\frac{68 \\, y^{3} \\left \\lfloor y \\right \\rfloor^{3}}{y^{12} + 6 \\, y^{10} + 15 \\, y^{8} + 20 \\, y^{6} + 15 \\, y^{4} + 6 \\, y^{2} + 1}\\,{d y} - \\frac{1}{3} \\, \\int_{1}^{+\\infty} -\\frac{102 \\, y^{5}}{y^{12} + 6 \\, y^{10} + 15 \\, y^{8} + 20 \\, y^{6} + 15 \\, y^{4} + 6 \\, y^{2} + 1}\\,{d y} - \\frac{1}{3} \\, \\int_{1}^{+\\infty} \\frac{204 \\, y^{4} \\left \\lfloor y \\right \\rfloor}{y^{12} + 6 \\, y^{10} + 15 \\, y^{8} + 20 \\, y^{6} + 15 \\, y^{4} + 6 \\, y^{2} + 1}\\,{d y} - \\frac{1}{3} \\, \\int_{1}^{+\\infty} -\\frac{102 \\, y^{3} \\left \\lfloor y \\right \\rfloor^{2}}{y^{12} + 6 \\, y^{10} + 15 \\, y^{8} + 20 \\, y^{6} + 15 \\, y^{4} + 6 \\, y^{2} + 1}\\,{d y} - \\frac{1}{3} \\, \\int_{1}^{+\\infty} -\\frac{8 \\, y^{4}}{y^{12} + 6 \\, y^{10} + 15 \\, y^{8} + 20 \\, y^{6} + 15 \\, y^{4} + 6 \\, y^{2} + 1}\\,{d y} - \\frac{1}{3} \\, \\int_{1}^{+\\infty} \\frac{92 \\, y^{3} \\left \\lfloor y \\right \\rfloor}{y^{12} + 6 \\, y^{10} + 15 \\, y^{8} + 20 \\, y^{6} + 15 \\, y^{4} + 6 \\, y^{2} + 1}\\,{d y} - \\frac{1}{3} \\, \\int_{1}^{+\\infty} -\\frac{126 \\, y^{2} \\left \\lfloor y \\right \\rfloor^{2}}{y^{12} + 6 \\, y^{10} + 15 \\, y^{8} + 20 \\, y^{6} + 15 \\, y^{4} + 6 \\, y^{2} + 1}\\,{d y} - \\frac{1}{3} \\, \\int_{1}^{+\\infty} \\frac{42 \\, y \\left \\lfloor y \\right \\rfloor^{3}}{y^{12} + 6 \\, y^{10} + 15 \\, y^{8} + 20 \\, y^{6} + 15 \\, y^{4} + 6 \\, y^{2} + 1}\\,{d y} - \\frac{1}{3} \\, \\int_{1}^{+\\infty} \\frac{63 \\, y^{3}}{y^{12} + 6 \\, y^{10} + 15 \\, y^{8} + 20 \\, y^{6} + 15 \\, y^{4} + 6 \\, y^{2} + 1}\\,{d y} - \\frac{1}{3} \\, \\int_{1}^{+\\infty} -\\frac{126 \\, y^{2} \\left \\lfloor y \\right \\rfloor}{y^{12} + 6 \\, y^{10} + 15 \\, y^{8} + 20 \\, y^{6} + 15 \\, y^{4} + 6 \\, y^{2} + 1}\\,{d y} - \\frac{1}{3} \\, \\int_{1}^{+\\infty} \\frac{63 \\, y \\left \\lfloor y \\right \\rfloor^{2}}{y^{12} + 6 \\, y^{10} + 15 \\, y^{8} + 20 \\, y^{6} + 15 \\, y^{4} + 6 \\, y^{2} + 1}\\,{d y} - \\frac{1}{3} \\, \\int_{1}^{+\\infty} -\\frac{21 \\, y^{2}}{y^{12} + 6 \\, y^{10} + 15 \\, y^{8} + 20 \\, y^{6} + 15 \\, y^{4} + 6 \\, y^{2} + 1}\\,{d y} - \\frac{1}{3} \\, \\int_{1}^{+\\infty} \\frac{21 \\, y \\left \\lfloor y \\right \\rfloor}{y^{12} + 6 \\, y^{10} + 15 \\, y^{8} + 20 \\, y^{6} + 15 \\, y^{4} + 6 \\, y^{2} + 1}\\,{d y}$"
      ],
      "text/plain": [
       "<IPython.core.display.Math object>"
      ]
     },
     "metadata": {},
     "output_type": "display_data"
    }
   ],
   "source": [
    "use_int_R_p_j = False\n",
    "use_num_int = False\n",
    "\n",
    "R_p_sum = euler_maclaurin_R_p(sum_dfdx_bernoulis (f(x,y), x, a_x, b_x,p), y, a_y, b_y, p, f_diff_symb_p=None, hold_int=False)\n",
    "#print(\"R_p_sum=$\",latex(R_p_sum),\"$\")\n",
    "print(\"R_p_sum =\",R_p_sum)\n",
    "display(Math(latex(R_p_sum)))"
   ]
  },
  {
   "cell_type": "code",
   "execution_count": 85,
   "metadata": {},
   "outputs": [
    {
     "data": {
      "text/plain": [
       "-1/3*integrate(30*y^8/(y^12 + 6*y^10 + 15*y^8 + 20*y^6 + 15*y^4 + 6*y^2 + 1), y, 1, +Infinity) - 1/3*integrate(-90*y^7*floor(y)/(y^12 + 6*y^10 + 15*y^8 + 20*y^6 + 15*y^4 + 6*y^2 + 1), y, 1, +Infinity) - 1/3*integrate(90*y^6*floor(y)^2/(y^12 + 6*y^10 + 15*y^8 + 20*y^6 + 15*y^4 + 6*y^2 + 1), y, 1, +Infinity) - 1/3*integrate(-30*y^5*floor(y)^3/(y^12 + 6*y^10 + 15*y^8 + 20*y^6 + 15*y^4 + 6*y^2 + 1), y, 1, +Infinity) - 1/3*integrate(-45*y^7/(y^12 + 6*y^10 + 15*y^8 + 20*y^6 + 15*y^4 + 6*y^2 + 1), y, 1, +Infinity) - 1/3*integrate(90*y^6*floor(y)/(y^12 + 6*y^10 + 15*y^8 + 20*y^6 + 15*y^4 + 6*y^2 + 1), y, 1, +Infinity) - 1/3*integrate(-45*y^5*floor(y)^2/(y^12 + 6*y^10 + 15*y^8 + 20*y^6 + 15*y^4 + 6*y^2 + 1), y, 1, +Infinity) - 1/3*integrate(83*y^6/(y^12 + 6*y^10 + 15*y^8 + 20*y^6 + 15*y^4 + 6*y^2 + 1), y, 1, +Infinity) - 1/3*integrate(-219*y^5*floor(y)/(y^12 + 6*y^10 + 15*y^8 + 20*y^6 + 15*y^4 + 6*y^2 + 1), y, 1, +Infinity) - 1/3*integrate(204*y^4*floor(y)^2/(y^12 + 6*y^10 + 15*y^8 + 20*y^6 + 15*y^4 + 6*y^2 + 1), y, 1, +Infinity) - 1/3*integrate(-68*y^3*floor(y)^3/(y^12 + 6*y^10 + 15*y^8 + 20*y^6 + 15*y^4 + 6*y^2 + 1), y, 1, +Infinity) - 1/3*integrate(-102*y^5/(y^12 + 6*y^10 + 15*y^8 + 20*y^6 + 15*y^4 + 6*y^2 + 1), y, 1, +Infinity) - 1/3*integrate(204*y^4*floor(y)/(y^12 + 6*y^10 + 15*y^8 + 20*y^6 + 15*y^4 + 6*y^2 + 1), y, 1, +Infinity) - 1/3*integrate(-102*y^3*floor(y)^2/(y^12 + 6*y^10 + 15*y^8 + 20*y^6 + 15*y^4 + 6*y^2 + 1), y, 1, +Infinity) - 1/3*integrate(-8*y^4/(y^12 + 6*y^10 + 15*y^8 + 20*y^6 + 15*y^4 + 6*y^2 + 1), y, 1, +Infinity) - 1/3*integrate(92*y^3*floor(y)/(y^12 + 6*y^10 + 15*y^8 + 20*y^6 + 15*y^4 + 6*y^2 + 1), y, 1, +Infinity) - 1/3*integrate(-126*y^2*floor(y)^2/(y^12 + 6*y^10 + 15*y^8 + 20*y^6 + 15*y^4 + 6*y^2 + 1), y, 1, +Infinity) - 1/3*integrate(42*y*floor(y)^3/(y^12 + 6*y^10 + 15*y^8 + 20*y^6 + 15*y^4 + 6*y^2 + 1), y, 1, +Infinity) - 1/3*integrate(63*y^3/(y^12 + 6*y^10 + 15*y^8 + 20*y^6 + 15*y^4 + 6*y^2 + 1), y, 1, +Infinity) - 1/3*integrate(-126*y^2*floor(y)/(y^12 + 6*y^10 + 15*y^8 + 20*y^6 + 15*y^4 + 6*y^2 + 1), y, 1, +Infinity) - 1/3*integrate(63*y*floor(y)^2/(y^12 + 6*y^10 + 15*y^8 + 20*y^6 + 15*y^4 + 6*y^2 + 1), y, 1, +Infinity) - 1/3*integrate(-21*y^2/(y^12 + 6*y^10 + 15*y^8 + 20*y^6 + 15*y^4 + 6*y^2 + 1), y, 1, +Infinity) - 1/3*integrate(21*y*floor(y)/(y^12 + 6*y^10 + 15*y^8 + 20*y^6 + 15*y^4 + 6*y^2 + 1), y, 1, +Infinity)"
      ]
     },
     "execution_count": 85,
     "metadata": {},
     "output_type": "execute_result"
    }
   ],
   "source": [
    "R_p_sum"
   ]
  },
  {
   "cell_type": "code",
   "execution_count": 86,
   "metadata": {},
   "outputs": [
    {
     "data": {
      "text/latex": [
       "$\\displaystyle -\\frac{1}{3} \\, \\int_{1}^{+\\infty} \\frac{30 \\, y^{8}}{y^{12} + 6 \\, y^{10} + 15 \\, y^{8} + 20 \\, y^{6} + 15 \\, y^{4} + 6 \\, y^{2} + 1}\\,{d y} - \\frac{1}{3} \\, \\int_{1}^{+\\infty} -\\frac{90 \\, y^{7} \\left \\lfloor y \\right \\rfloor}{y^{12} + 6 \\, y^{10} + 15 \\, y^{8} + 20 \\, y^{6} + 15 \\, y^{4} + 6 \\, y^{2} + 1}\\,{d y} - \\frac{1}{3} \\, \\int_{1}^{+\\infty} \\frac{90 \\, y^{6} \\left \\lfloor y \\right \\rfloor^{2}}{y^{12} + 6 \\, y^{10} + 15 \\, y^{8} + 20 \\, y^{6} + 15 \\, y^{4} + 6 \\, y^{2} + 1}\\,{d y} - \\frac{1}{3} \\, \\int_{1}^{+\\infty} -\\frac{30 \\, y^{5} \\left \\lfloor y \\right \\rfloor^{3}}{y^{12} + 6 \\, y^{10} + 15 \\, y^{8} + 20 \\, y^{6} + 15 \\, y^{4} + 6 \\, y^{2} + 1}\\,{d y} - \\frac{1}{3} \\, \\int_{1}^{+\\infty} -\\frac{45 \\, y^{7}}{y^{12} + 6 \\, y^{10} + 15 \\, y^{8} + 20 \\, y^{6} + 15 \\, y^{4} + 6 \\, y^{2} + 1}\\,{d y} - \\frac{1}{3} \\, \\int_{1}^{+\\infty} \\frac{90 \\, y^{6} \\left \\lfloor y \\right \\rfloor}{y^{12} + 6 \\, y^{10} + 15 \\, y^{8} + 20 \\, y^{6} + 15 \\, y^{4} + 6 \\, y^{2} + 1}\\,{d y} - \\frac{1}{3} \\, \\int_{1}^{+\\infty} -\\frac{45 \\, y^{5} \\left \\lfloor y \\right \\rfloor^{2}}{y^{12} + 6 \\, y^{10} + 15 \\, y^{8} + 20 \\, y^{6} + 15 \\, y^{4} + 6 \\, y^{2} + 1}\\,{d y} - \\frac{1}{3} \\, \\int_{1}^{+\\infty} \\frac{83 \\, y^{6}}{y^{12} + 6 \\, y^{10} + 15 \\, y^{8} + 20 \\, y^{6} + 15 \\, y^{4} + 6 \\, y^{2} + 1}\\,{d y} - \\frac{1}{3} \\, \\int_{1}^{+\\infty} -\\frac{219 \\, y^{5} \\left \\lfloor y \\right \\rfloor}{y^{12} + 6 \\, y^{10} + 15 \\, y^{8} + 20 \\, y^{6} + 15 \\, y^{4} + 6 \\, y^{2} + 1}\\,{d y} - \\frac{1}{3} \\, \\int_{1}^{+\\infty} \\frac{204 \\, y^{4} \\left \\lfloor y \\right \\rfloor^{2}}{y^{12} + 6 \\, y^{10} + 15 \\, y^{8} + 20 \\, y^{6} + 15 \\, y^{4} + 6 \\, y^{2} + 1}\\,{d y} - \\frac{1}{3} \\, \\int_{1}^{+\\infty} -\\frac{68 \\, y^{3} \\left \\lfloor y \\right \\rfloor^{3}}{y^{12} + 6 \\, y^{10} + 15 \\, y^{8} + 20 \\, y^{6} + 15 \\, y^{4} + 6 \\, y^{2} + 1}\\,{d y} - \\frac{1}{3} \\, \\int_{1}^{+\\infty} -\\frac{102 \\, y^{5}}{y^{12} + 6 \\, y^{10} + 15 \\, y^{8} + 20 \\, y^{6} + 15 \\, y^{4} + 6 \\, y^{2} + 1}\\,{d y} - \\frac{1}{3} \\, \\int_{1}^{+\\infty} \\frac{204 \\, y^{4} \\left \\lfloor y \\right \\rfloor}{y^{12} + 6 \\, y^{10} + 15 \\, y^{8} + 20 \\, y^{6} + 15 \\, y^{4} + 6 \\, y^{2} + 1}\\,{d y} - \\frac{1}{3} \\, \\int_{1}^{+\\infty} -\\frac{102 \\, y^{3} \\left \\lfloor y \\right \\rfloor^{2}}{y^{12} + 6 \\, y^{10} + 15 \\, y^{8} + 20 \\, y^{6} + 15 \\, y^{4} + 6 \\, y^{2} + 1}\\,{d y} - \\frac{1}{3} \\, \\int_{1}^{+\\infty} -\\frac{8 \\, y^{4}}{y^{12} + 6 \\, y^{10} + 15 \\, y^{8} + 20 \\, y^{6} + 15 \\, y^{4} + 6 \\, y^{2} + 1}\\,{d y} - \\frac{1}{3} \\, \\int_{1}^{+\\infty} \\frac{92 \\, y^{3} \\left \\lfloor y \\right \\rfloor}{y^{12} + 6 \\, y^{10} + 15 \\, y^{8} + 20 \\, y^{6} + 15 \\, y^{4} + 6 \\, y^{2} + 1}\\,{d y} - \\frac{1}{3} \\, \\int_{1}^{+\\infty} -\\frac{126 \\, y^{2} \\left \\lfloor y \\right \\rfloor^{2}}{y^{12} + 6 \\, y^{10} + 15 \\, y^{8} + 20 \\, y^{6} + 15 \\, y^{4} + 6 \\, y^{2} + 1}\\,{d y} - \\frac{1}{3} \\, \\int_{1}^{+\\infty} \\frac{42 \\, y \\left \\lfloor y \\right \\rfloor^{3}}{y^{12} + 6 \\, y^{10} + 15 \\, y^{8} + 20 \\, y^{6} + 15 \\, y^{4} + 6 \\, y^{2} + 1}\\,{d y} - \\frac{1}{3} \\, \\int_{1}^{+\\infty} \\frac{63 \\, y^{3}}{y^{12} + 6 \\, y^{10} + 15 \\, y^{8} + 20 \\, y^{6} + 15 \\, y^{4} + 6 \\, y^{2} + 1}\\,{d y} - \\frac{1}{3} \\, \\int_{1}^{+\\infty} -\\frac{126 \\, y^{2} \\left \\lfloor y \\right \\rfloor}{y^{12} + 6 \\, y^{10} + 15 \\, y^{8} + 20 \\, y^{6} + 15 \\, y^{4} + 6 \\, y^{2} + 1}\\,{d y} - \\frac{1}{3} \\, \\int_{1}^{+\\infty} \\frac{63 \\, y \\left \\lfloor y \\right \\rfloor^{2}}{y^{12} + 6 \\, y^{10} + 15 \\, y^{8} + 20 \\, y^{6} + 15 \\, y^{4} + 6 \\, y^{2} + 1}\\,{d y} - \\frac{1}{3} \\, \\int_{1}^{+\\infty} -\\frac{21 \\, y^{2}}{y^{12} + 6 \\, y^{10} + 15 \\, y^{8} + 20 \\, y^{6} + 15 \\, y^{4} + 6 \\, y^{2} + 1}\\,{d y} - \\frac{1}{3} \\, \\int_{1}^{+\\infty} \\frac{21 \\, y \\left \\lfloor y \\right \\rfloor}{y^{12} + 6 \\, y^{10} + 15 \\, y^{8} + 20 \\, y^{6} + 15 \\, y^{4} + 6 \\, y^{2} + 1}\\,{d y}$"
      ],
      "text/plain": [
       "<IPython.core.display.Math object>"
      ]
     },
     "metadata": {},
     "output_type": "display_data"
    }
   ],
   "source": [
    "display(Math(latex(R_p_sum)))"
   ]
  },
  {
   "cell_type": "code",
   "execution_count": 87,
   "metadata": {},
   "outputs": [
    {
     "data": {
      "text/plain": [
       "-0.00257357698091784"
      ]
     },
     "execution_count": 87,
     "metadata": {},
     "output_type": "execute_result"
    }
   ],
   "source": [
    "R_p_sum_n = R_p_sum.n()\n",
    "R_p_sum_n"
   ]
  },
  {
   "cell_type": "code",
   "execution_count": 88,
   "metadata": {},
   "outputs": [
    {
     "data": {
      "text/latex": [
       "$\\displaystyle -\\frac{1}{32} \\, \\pi - \\int_{1}^{+\\infty} \\frac{10 \\, x^{6}}{x^{10} + 5 \\, x^{8} + 10 \\, x^{6} + 10 \\, x^{4} + 5 \\, x^{2} + 1}\\,{d x} + 56 \\, \\int_{1}^{+\\infty} \\frac{x^{5} \\left \\lfloor x \\right \\rfloor}{x^{12} + 6 \\, x^{10} + 15 \\, x^{8} + 20 \\, x^{6} + 15 \\, x^{4} + 6 \\, x^{2} + 1}\\,{d x} - \\int_{1}^{+\\infty} -\\frac{30 \\, x^{5} \\left \\lfloor x \\right \\rfloor}{x^{10} + 5 \\, x^{8} + 10 \\, x^{6} + 10 \\, x^{4} + 5 \\, x^{2} + 1}\\,{d x} - 56 \\, \\int_{1}^{+\\infty} \\frac{x^{4} \\left \\lfloor x \\right \\rfloor^{2}}{x^{12} + 6 \\, x^{10} + 15 \\, x^{8} + 20 \\, x^{6} + 15 \\, x^{4} + 6 \\, x^{2} + 1}\\,{d x} - \\int_{1}^{+\\infty} \\frac{30 \\, x^{4} \\left \\lfloor x \\right \\rfloor^{2}}{x^{10} + 5 \\, x^{8} + 10 \\, x^{6} + 10 \\, x^{4} + 5 \\, x^{2} + 1}\\,{d x} + \\frac{56}{3} \\, \\int_{1}^{+\\infty} \\frac{x^{3} \\left \\lfloor x \\right \\rfloor^{3}}{x^{12} + 6 \\, x^{10} + 15 \\, x^{8} + 20 \\, x^{6} + 15 \\, x^{4} + 6 \\, x^{2} + 1}\\,{d x} - \\int_{1}^{+\\infty} -\\frac{10 \\, x^{3} \\left \\lfloor x \\right \\rfloor^{3}}{x^{10} + 5 \\, x^{8} + 10 \\, x^{6} + 10 \\, x^{4} + 5 \\, x^{2} + 1}\\,{d x} - \\int_{1}^{+\\infty} -\\frac{15 \\, x^{5}}{x^{10} + 5 \\, x^{8} + 10 \\, x^{6} + 10 \\, x^{4} + 5 \\, x^{2} + 1}\\,{d x} - 56 \\, \\int_{1}^{+\\infty} \\frac{x^{4} \\left \\lfloor x \\right \\rfloor}{x^{12} + 6 \\, x^{10} + 15 \\, x^{8} + 20 \\, x^{6} + 15 \\, x^{4} + 6 \\, x^{2} + 1}\\,{d x} - \\int_{1}^{+\\infty} \\frac{30 \\, x^{4} \\left \\lfloor x \\right \\rfloor}{x^{10} + 5 \\, x^{8} + 10 \\, x^{6} + 10 \\, x^{4} + 5 \\, x^{2} + 1}\\,{d x} + 28 \\, \\int_{1}^{+\\infty} \\frac{x^{3} \\left \\lfloor x \\right \\rfloor^{2}}{x^{12} + 6 \\, x^{10} + 15 \\, x^{8} + 20 \\, x^{6} + 15 \\, x^{4} + 6 \\, x^{2} + 1}\\,{d x} - \\int_{1}^{+\\infty} -\\frac{15 \\, x^{3} \\left \\lfloor x \\right \\rfloor^{2}}{x^{10} + 5 \\, x^{8} + 10 \\, x^{6} + 10 \\, x^{4} + 5 \\, x^{2} + 1}\\,{d x} - \\int_{1}^{+\\infty} -\\frac{x^{4}}{x^{10} + 5 \\, x^{8} + 10 \\, x^{6} + 10 \\, x^{4} + 5 \\, x^{2} + 1}\\,{d x} - \\frac{44}{3} \\, \\int_{1}^{+\\infty} \\frac{x^{3} \\left \\lfloor x \\right \\rfloor}{x^{12} + 6 \\, x^{10} + 15 \\, x^{8} + 20 \\, x^{6} + 15 \\, x^{4} + 6 \\, x^{2} + 1}\\,{d x} - \\int_{1}^{+\\infty} \\frac{13 \\, x^{3} \\left \\lfloor x \\right \\rfloor}{x^{10} + 5 \\, x^{8} + 10 \\, x^{6} + 10 \\, x^{4} + 5 \\, x^{2} + 1}\\,{d x} + 24 \\, \\int_{1}^{+\\infty} \\frac{x^{2} \\left \\lfloor x \\right \\rfloor^{2}}{x^{12} + 6 \\, x^{10} + 15 \\, x^{8} + 20 \\, x^{6} + 15 \\, x^{4} + 6 \\, x^{2} + 1}\\,{d x} - \\int_{1}^{+\\infty} -\\frac{18 \\, x^{2} \\left \\lfloor x \\right \\rfloor^{2}}{x^{10} + 5 \\, x^{8} + 10 \\, x^{6} + 10 \\, x^{4} + 5 \\, x^{2} + 1}\\,{d x} - 8 \\, \\int_{1}^{+\\infty} \\frac{x \\left \\lfloor x \\right \\rfloor^{3}}{x^{12} + 6 \\, x^{10} + 15 \\, x^{8} + 20 \\, x^{6} + 15 \\, x^{4} + 6 \\, x^{2} + 1}\\,{d x} - \\int_{1}^{+\\infty} \\frac{6 \\, x \\left \\lfloor x \\right \\rfloor^{3}}{x^{10} + 5 \\, x^{8} + 10 \\, x^{6} + 10 \\, x^{4} + 5 \\, x^{2} + 1}\\,{d x} - \\int_{1}^{+\\infty} \\frac{9 \\, x^{3}}{x^{10} + 5 \\, x^{8} + 10 \\, x^{6} + 10 \\, x^{4} + 5 \\, x^{2} + 1}\\,{d x} + 24 \\, \\int_{1}^{+\\infty} \\frac{x^{2} \\left \\lfloor x \\right \\rfloor}{x^{12} + 6 \\, x^{10} + 15 \\, x^{8} + 20 \\, x^{6} + 15 \\, x^{4} + 6 \\, x^{2} + 1}\\,{d x} - \\int_{1}^{+\\infty} -\\frac{18 \\, x^{2} \\left \\lfloor x \\right \\rfloor}{x^{10} + 5 \\, x^{8} + 10 \\, x^{6} + 10 \\, x^{4} + 5 \\, x^{2} + 1}\\,{d x} - 12 \\, \\int_{1}^{+\\infty} \\frac{x \\left \\lfloor x \\right \\rfloor^{2}}{x^{12} + 6 \\, x^{10} + 15 \\, x^{8} + 20 \\, x^{6} + 15 \\, x^{4} + 6 \\, x^{2} + 1}\\,{d x} - \\int_{1}^{+\\infty} \\frac{9 \\, x \\left \\lfloor x \\right \\rfloor^{2}}{x^{10} + 5 \\, x^{8} + 10 \\, x^{6} + 10 \\, x^{4} + 5 \\, x^{2} + 1}\\,{d x} - \\int_{1}^{+\\infty} -\\frac{3 \\, x^{2}}{x^{10} + 5 \\, x^{8} + 10 \\, x^{6} + 10 \\, x^{4} + 5 \\, x^{2} + 1}\\,{d x} - 4 \\, \\int_{1}^{+\\infty} \\frac{x \\left \\lfloor x \\right \\rfloor}{x^{12} + 6 \\, x^{10} + 15 \\, x^{8} + 20 \\, x^{6} + 15 \\, x^{4} + 6 \\, x^{2} + 1}\\,{d x} - \\int_{1}^{+\\infty} \\frac{3 \\, x \\left \\lfloor x \\right \\rfloor}{x^{10} + 5 \\, x^{8} + 10 \\, x^{6} + 10 \\, x^{4} + 5 \\, x^{2} + 1}\\,{d x} + \\frac{5}{96}$"
      ],
      "text/plain": [
       "<IPython.core.display.Math object>"
      ]
     },
     "metadata": {},
     "output_type": "display_data"
    }
   ],
   "source": [
    "display(Math(latex(sum_R_p)))"
   ]
  },
  {
   "cell_type": "code",
   "execution_count": 89,
   "metadata": {},
   "outputs": [],
   "source": [
    "#use_num_int = True\n",
    "\n",
    "#R_p_R_p = euler_maclaurin_R_p(euler_maclaurin_R_p(f(x,y), x, a_x, b_x,p), y, a_y, b_y, p)\n",
    "#R_p_R_p = euler_maclaurin_R_p_euler_maclaurin_R_p(f(x,y), x, a_x, b_x,    y, a_y, b_y, p)\n",
    "#print(\"R_p_R_p=$\",latex(R_p_R_p),\"$\")\n",
    "#print(\"R_p_R_p=$\", R_p_R_p.n())\n",
    "#display(Math(latex(R_p_R_p)))"
   ]
  },
  {
   "cell_type": "code",
   "execution_count": 90,
   "metadata": {},
   "outputs": [
    {
     "name": "stderr",
     "output_type": "stream",
     "text": [
      "<ipython-input-90-4b80513a0489>:1: DeprecationWarning: Substitution using function-call syntax and unnamed arguments is deprecated and will be removed from a future release of Sage; you can use named arguments instead, like EXPR(x=..., y=...)\n",
      "See http://trac.sagemath.org/5930 for details.\n",
      "  exec(preparse(\"f_diff_x_p_diff_y_p = lambda x,y:\" + str(f(x,y).diff(x,p).diff(y,p))))\n"
     ]
    },
    {
     "name": "stdout",
     "output_type": "stream",
     "text": [
      "f_diff_x_p_diff_y_p 322560*x^3*y^3/(x^2 + y^2)^8 - 69120*x^3*y/(x^2 + y^2)^7 - 69120*x*y^3/(x^2 + y^2)^7 + 17280*x*y/(x^2 + y^2)^6\n"
     ]
    }
   ],
   "source": [
    "exec(preparse(\"f_diff_x_p_diff_y_p = lambda x,y:\" + str(f(x,y).diff(x,p).diff(y,p))))\n",
    "print(\"f_diff_x_p_diff_y_p\", f_diff_x_p_diff_y_p(x,y))\n",
    "R_p_R_p = euler_maclaurin_R_p_euler_maclaurin_R_p_num_int(f_diff_x_p_diff_y_p, x, a_x, b_x, y, a_y, b_y, p)"
   ]
  },
  {
   "cell_type": "code",
   "execution_count": 91,
   "metadata": {},
   "outputs": [
    {
     "data": {
      "text/plain": [
       "0.00038638018879801886"
      ]
     },
     "execution_count": 91,
     "metadata": {},
     "output_type": "execute_result"
    }
   ],
   "source": [
    "R_p_R_p"
   ]
  },
  {
   "cell_type": "markdown",
   "metadata": {},
   "source": [
    "# Summary Euler–Maclaurin 2D for ${\\displaystyle \\sum\\limits_{m,n=1}^{\\infty} \\, \\left(m^{2} + n^{2}\\right)^{-2} }$"
   ]
  },
  {
   "cell_type": "code",
   "execution_count": 92,
   "metadata": {},
   "outputs": [
    {
     "data": {
      "text/plain": [
       "(1/8*pi - 1/4, 3/32*pi - 5/24, -0.00024505599786148506)"
      ]
     },
     "execution_count": 92,
     "metadata": {},
     "output_type": "execute_result"
    }
   ],
   "source": [
    "int_int, int_sum, int_R_p"
   ]
  },
  {
   "cell_type": "code",
   "execution_count": 93,
   "metadata": {},
   "outputs": [
    {
     "data": {
      "text/plain": [
       "(3/32*pi - 5/24,\n",
       " 11/96,\n",
       " -1/32*pi - integrate(10*x^6/(x^10 + 5*x^8 + 10*x^6 + 10*x^4 + 5*x^2 + 1), x, 1, +Infinity) + 56*integrate(x^5*floor(x)/(x^12 + 6*x^10 + 15*x^8 + 20*x^6 + 15*x^4 + 6*x^2 + 1), x, 1, +Infinity) - integrate(-30*x^5*floor(x)/(x^10 + 5*x^8 + 10*x^6 + 10*x^4 + 5*x^2 + 1), x, 1, +Infinity) - 56*integrate(x^4*floor(x)^2/(x^12 + 6*x^10 + 15*x^8 + 20*x^6 + 15*x^4 + 6*x^2 + 1), x, 1, +Infinity) - integrate(30*x^4*floor(x)^2/(x^10 + 5*x^8 + 10*x^6 + 10*x^4 + 5*x^2 + 1), x, 1, +Infinity) + 56/3*integrate(x^3*floor(x)^3/(x^12 + 6*x^10 + 15*x^8 + 20*x^6 + 15*x^4 + 6*x^2 + 1), x, 1, +Infinity) - integrate(-10*x^3*floor(x)^3/(x^10 + 5*x^8 + 10*x^6 + 10*x^4 + 5*x^2 + 1), x, 1, +Infinity) - integrate(-15*x^5/(x^10 + 5*x^8 + 10*x^6 + 10*x^4 + 5*x^2 + 1), x, 1, +Infinity) - 56*integrate(x^4*floor(x)/(x^12 + 6*x^10 + 15*x^8 + 20*x^6 + 15*x^4 + 6*x^2 + 1), x, 1, +Infinity) - integrate(30*x^4*floor(x)/(x^10 + 5*x^8 + 10*x^6 + 10*x^4 + 5*x^2 + 1), x, 1, +Infinity) + 28*integrate(x^3*floor(x)^2/(x^12 + 6*x^10 + 15*x^8 + 20*x^6 + 15*x^4 + 6*x^2 + 1), x, 1, +Infinity) - integrate(-15*x^3*floor(x)^2/(x^10 + 5*x^8 + 10*x^6 + 10*x^4 + 5*x^2 + 1), x, 1, +Infinity) - integrate(-x^4/(x^10 + 5*x^8 + 10*x^6 + 10*x^4 + 5*x^2 + 1), x, 1, +Infinity) - 44/3*integrate(x^3*floor(x)/(x^12 + 6*x^10 + 15*x^8 + 20*x^6 + 15*x^4 + 6*x^2 + 1), x, 1, +Infinity) - integrate(13*x^3*floor(x)/(x^10 + 5*x^8 + 10*x^6 + 10*x^4 + 5*x^2 + 1), x, 1, +Infinity) + 24*integrate(x^2*floor(x)^2/(x^12 + 6*x^10 + 15*x^8 + 20*x^6 + 15*x^4 + 6*x^2 + 1), x, 1, +Infinity) - integrate(-18*x^2*floor(x)^2/(x^10 + 5*x^8 + 10*x^6 + 10*x^4 + 5*x^2 + 1), x, 1, +Infinity) - 8*integrate(x*floor(x)^3/(x^12 + 6*x^10 + 15*x^8 + 20*x^6 + 15*x^4 + 6*x^2 + 1), x, 1, +Infinity) - integrate(6*x*floor(x)^3/(x^10 + 5*x^8 + 10*x^6 + 10*x^4 + 5*x^2 + 1), x, 1, +Infinity) - integrate(9*x^3/(x^10 + 5*x^8 + 10*x^6 + 10*x^4 + 5*x^2 + 1), x, 1, +Infinity) + 24*integrate(x^2*floor(x)/(x^12 + 6*x^10 + 15*x^8 + 20*x^6 + 15*x^4 + 6*x^2 + 1), x, 1, +Infinity) - integrate(-18*x^2*floor(x)/(x^10 + 5*x^8 + 10*x^6 + 10*x^4 + 5*x^2 + 1), x, 1, +Infinity) - 12*integrate(x*floor(x)^2/(x^12 + 6*x^10 + 15*x^8 + 20*x^6 + 15*x^4 + 6*x^2 + 1), x, 1, +Infinity) - integrate(9*x*floor(x)^2/(x^10 + 5*x^8 + 10*x^6 + 10*x^4 + 5*x^2 + 1), x, 1, +Infinity) - integrate(-3*x^2/(x^10 + 5*x^8 + 10*x^6 + 10*x^4 + 5*x^2 + 1), x, 1, +Infinity) - 4*integrate(x*floor(x)/(x^12 + 6*x^10 + 15*x^8 + 20*x^6 + 15*x^4 + 6*x^2 + 1), x, 1, +Infinity) - integrate(3*x*floor(x)/(x^10 + 5*x^8 + 10*x^6 + 10*x^4 + 5*x^2 + 1), x, 1, +Infinity) + 5/96)"
      ]
     },
     "execution_count": 93,
     "metadata": {},
     "output_type": "execute_result"
    }
   ],
   "source": [
    "sum_int, sum_sum, sum_R_p"
   ]
  },
  {
   "cell_type": "code",
   "execution_count": 94,
   "metadata": {},
   "outputs": [
    {
     "data": {
      "text/plain": [
       "(integrate(1/12*(2*(y - floor(y))^3 - 3*(y - floor(y))^2 + y - floor(y))*(3*(5*y^4 + 3*y^2)^3*(y^2*arctan(1/y) + y + arctan(1/y))/(y^5 + y^3)^4 - 6*(5*y^4 + 3*y^2)*(10*y^3 + 3*y)*(y^2*arctan(1/y) + y + arctan(1/y))/(y^5 + y^3)^3 + 3*(y^2*arctan(1/y) + y + arctan(1/y))*(10*y^2 + 1)/(y^5 + y^3)^2 - 3*(5*y^4 + 3*y^2)^2*(2*y*arctan(1/y) - 1/(1/y^2 + 1) - 1/(y^2*(1/y^2 + 1)) + 1)/(y^5 + y^3)^3 + 3*(10*y^3 + 3*y)*(2*y*arctan(1/y) - 1/(1/y^2 + 1) - 1/(y^2*(1/y^2 + 1)) + 1)/(y^5 + y^3)^2 - 3*(5*y^4 + 3*y^2)*(1/(y*(1/y^2 + 1)) - 1/(y^3*(1/y^2 + 1)) + 1/(y^3*(1/y^2 + 1)^2) + 1/(y^5*(1/y^2 + 1)^2) - arctan(1/y))/(y^5 + y^3)^2 + (3/(y^4*(1/y^2 + 1)) - 1/(y^4*(1/y^2 + 1)^2) - 7/(y^6*(1/y^2 + 1)^2) + 4/(y^6*(1/y^2 + 1)^3) + 4/(y^8*(1/y^2 + 1)^3))/(y^5 + y^3) - 15*pi/y^6), y, 1, +Infinity),\n",
       " -1/3*integrate(30*y^8/(y^12 + 6*y^10 + 15*y^8 + 20*y^6 + 15*y^4 + 6*y^2 + 1), y, 1, +Infinity) - 1/3*integrate(-90*y^7*floor(y)/(y^12 + 6*y^10 + 15*y^8 + 20*y^6 + 15*y^4 + 6*y^2 + 1), y, 1, +Infinity) - 1/3*integrate(90*y^6*floor(y)^2/(y^12 + 6*y^10 + 15*y^8 + 20*y^6 + 15*y^4 + 6*y^2 + 1), y, 1, +Infinity) - 1/3*integrate(-30*y^5*floor(y)^3/(y^12 + 6*y^10 + 15*y^8 + 20*y^6 + 15*y^4 + 6*y^2 + 1), y, 1, +Infinity) - 1/3*integrate(-45*y^7/(y^12 + 6*y^10 + 15*y^8 + 20*y^6 + 15*y^4 + 6*y^2 + 1), y, 1, +Infinity) - 1/3*integrate(90*y^6*floor(y)/(y^12 + 6*y^10 + 15*y^8 + 20*y^6 + 15*y^4 + 6*y^2 + 1), y, 1, +Infinity) - 1/3*integrate(-45*y^5*floor(y)^2/(y^12 + 6*y^10 + 15*y^8 + 20*y^6 + 15*y^4 + 6*y^2 + 1), y, 1, +Infinity) - 1/3*integrate(83*y^6/(y^12 + 6*y^10 + 15*y^8 + 20*y^6 + 15*y^4 + 6*y^2 + 1), y, 1, +Infinity) - 1/3*integrate(-219*y^5*floor(y)/(y^12 + 6*y^10 + 15*y^8 + 20*y^6 + 15*y^4 + 6*y^2 + 1), y, 1, +Infinity) - 1/3*integrate(204*y^4*floor(y)^2/(y^12 + 6*y^10 + 15*y^8 + 20*y^6 + 15*y^4 + 6*y^2 + 1), y, 1, +Infinity) - 1/3*integrate(-68*y^3*floor(y)^3/(y^12 + 6*y^10 + 15*y^8 + 20*y^6 + 15*y^4 + 6*y^2 + 1), y, 1, +Infinity) - 1/3*integrate(-102*y^5/(y^12 + 6*y^10 + 15*y^8 + 20*y^6 + 15*y^4 + 6*y^2 + 1), y, 1, +Infinity) - 1/3*integrate(204*y^4*floor(y)/(y^12 + 6*y^10 + 15*y^8 + 20*y^6 + 15*y^4 + 6*y^2 + 1), y, 1, +Infinity) - 1/3*integrate(-102*y^3*floor(y)^2/(y^12 + 6*y^10 + 15*y^8 + 20*y^6 + 15*y^4 + 6*y^2 + 1), y, 1, +Infinity) - 1/3*integrate(-8*y^4/(y^12 + 6*y^10 + 15*y^8 + 20*y^6 + 15*y^4 + 6*y^2 + 1), y, 1, +Infinity) - 1/3*integrate(92*y^3*floor(y)/(y^12 + 6*y^10 + 15*y^8 + 20*y^6 + 15*y^4 + 6*y^2 + 1), y, 1, +Infinity) - 1/3*integrate(-126*y^2*floor(y)^2/(y^12 + 6*y^10 + 15*y^8 + 20*y^6 + 15*y^4 + 6*y^2 + 1), y, 1, +Infinity) - 1/3*integrate(42*y*floor(y)^3/(y^12 + 6*y^10 + 15*y^8 + 20*y^6 + 15*y^4 + 6*y^2 + 1), y, 1, +Infinity) - 1/3*integrate(63*y^3/(y^12 + 6*y^10 + 15*y^8 + 20*y^6 + 15*y^4 + 6*y^2 + 1), y, 1, +Infinity) - 1/3*integrate(-126*y^2*floor(y)/(y^12 + 6*y^10 + 15*y^8 + 20*y^6 + 15*y^4 + 6*y^2 + 1), y, 1, +Infinity) - 1/3*integrate(63*y*floor(y)^2/(y^12 + 6*y^10 + 15*y^8 + 20*y^6 + 15*y^4 + 6*y^2 + 1), y, 1, +Infinity) - 1/3*integrate(-21*y^2/(y^12 + 6*y^10 + 15*y^8 + 20*y^6 + 15*y^4 + 6*y^2 + 1), y, 1, +Infinity) - 1/3*integrate(21*y*floor(y)/(y^12 + 6*y^10 + 15*y^8 + 20*y^6 + 15*y^4 + 6*y^2 + 1), y, 1, +Infinity),\n",
       " 0.00038638018879801886)"
      ]
     },
     "execution_count": 94,
     "metadata": {},
     "output_type": "execute_result"
    }
   ],
   "source": [
    "R_p_int, R_p_sum, R_p_R_p"
   ]
  },
  {
   "cell_type": "markdown",
   "metadata": {},
   "source": [
    "Numerical Euler–Maclaurin 2D for $\\sum\\limits_{m,n=1}^{\\infty} \\, \\left(m^{2} + n^{2}\\right)^{-2}$"
   ]
  },
  {
   "cell_type": "code",
   "execution_count": 95,
   "metadata": {},
   "outputs": [
    {
     "data": {
      "text/plain": [
       "(0.142699081698724, 0.0861909779407098, -0.00024505599786148506)"
      ]
     },
     "execution_count": 95,
     "metadata": {},
     "output_type": "execute_result"
    }
   ],
   "source": [
    "int_int.n(), int_sum.n(), int_R_p_n"
   ]
  },
  {
   "cell_type": "code",
   "execution_count": 96,
   "metadata": {},
   "outputs": [
    {
     "data": {
      "text/plain": [
       "(0.0861909779407098, 0.114583333333333, -0.00258555514032721)"
      ]
     },
     "execution_count": 96,
     "metadata": {},
     "output_type": "execute_result"
    }
   ],
   "source": [
    "sum_int.n(), sum_sum.n(), sum_R_p_n"
   ]
  },
  {
   "cell_type": "code",
   "execution_count": 97,
   "metadata": {},
   "outputs": [
    {
     "data": {
      "text/plain": [
       "(-0.000245074944248043, -0.00257357698091784, 0.00038638018879801886)"
      ]
     },
     "execution_count": 97,
     "metadata": {},
     "output_type": "execute_result"
    }
   ],
   "source": [
    "R_p_int_n, R_p_sum_n, R_p_R_p"
   ]
  },
  {
   "cell_type": "code",
   "execution_count": 98,
   "metadata": {},
   "outputs": [
    {
     "data": {
      "text/plain": [
       "0.424401488038920"
      ]
     },
     "execution_count": 98,
     "metadata": {},
     "output_type": "execute_result"
    }
   ],
   "source": [
    "int_int.n() + int_sum.n() + int_R_p_n + \\\n",
    "sum_int.n() + sum_sum.n() + sum_R_p_n + \\\n",
    "R_p_int_n + R_p_sum_n + R_p_R_p"
   ]
  },
  {
   "cell_type": "markdown",
   "metadata": {},
   "source": [
    "$${\\displaystyle \\sum \\limits_{m,n=1}^{\\infty} \\, \\left(m^{2} + n^{2}\\right)^{-S} }$$"
   ]
  },
  {
   "cell_type": "code",
   "execution_count": 99,
   "metadata": {},
   "outputs": [],
   "source": [
    "def zeta_2D_1_1(S, N):\n",
    "    \n",
    "    def zeta_2D_row(S, first, N):\n",
    "        #print(\"N\", N, [m for m in range(0,N)])\n",
    "        row_sum = 0\n",
    "        for m in range(first, N):\n",
    "            row_sum += (N^2+m^2)^(-S)\n",
    "            #print(\"m\", m, \"row_sum=\", row_sum)\n",
    "        return row_sum\n",
    "\n",
    "    def zeta_2D_diag(S, N):\n",
    "        diag_elem = (2*N^2)^(-S)\n",
    "        #print(\"N\", N, \"diag_elem=\", diag_elem)\n",
    "        return diag_elem\n",
    "    \n",
    "    zeta_2D_sum = 0\n",
    "    for n in range(1,N):\n",
    "        zeta_2D_add = 2 * zeta_2D_row(S, 1, n) + zeta_2D_diag(S, n)\n",
    "        zeta_2D_sum += zeta_2D_add\n",
    "        \n",
    "        #print(n, zeta_2D_add, zeta_2D_sum)\n",
    "    return zeta_2D_sum"
   ]
  },
  {
   "cell_type": "code",
   "execution_count": 100,
   "metadata": {},
   "outputs": [
    {
     "data": {
      "text/plain": [
       "0.4243791332035987"
      ]
     },
     "execution_count": 100,
     "metadata": {},
     "output_type": "execute_result"
    }
   ],
   "source": [
    "zeta_2D_1_1(2, 1000)"
   ]
  },
  {
   "cell_type": "markdown",
   "metadata": {},
   "source": [
    "R_p=False (Euler–Maclaurin 2D without remainer part)"
   ]
  },
  {
   "cell_type": "code",
   "execution_count": 101,
   "metadata": {},
   "outputs": [
    {
     "data": {
      "text/plain": [
       "0.429664370913477"
      ]
     },
     "execution_count": 101,
     "metadata": {},
     "output_type": "execute_result"
    }
   ],
   "source": [
    "int_int.n() + int_sum.n() + \\\n",
    "sum_int.n() + sum_sum.n()"
   ]
  },
  {
   "cell_type": "markdown",
   "metadata": {},
   "source": [
    "# Two Dimensional Linear Zeta Function"
   ]
  },
  {
   "cell_type": "markdown",
   "metadata": {},
   "source": [
    "https://core.ac.uk/download/pdf/82162715.pdf\n",
    "\n",
    "JOURNAL OF NUMBER THEORY 35, 62-71 (1990)\n",
    "\n",
    "Evaluation of Multidimensional Linear Zeta Functions\n",
    "\n",
    "ALFRED ACTOR*\n",
    "\n",
    "Department of Physics, The Pennsylvania State University,\n",
    "\n",
    "Fogelsville, Pennsylvania 18051\n",
    "\n",
    "Communicated by Hans Zassenhaus\n",
    "\n",
    "Received January 28, 1988; revised May 5, 1989"
   ]
  },
  {
   "cell_type": "code",
   "execution_count": null,
   "metadata": {},
   "outputs": [],
   "source": []
  },
  {
   "cell_type": "markdown",
   "metadata": {},
   "source": [
    "A prototypical formula of this type is [1] \n",
    "\n",
    "$\\sum \\limits_{m,n=-\\infty}^{\\infty} \\, \\left(m^{2} + n^{2}\\right)^{-S} = 4 \\, \\zeta \\left(S\\right) \\, \\beta \\left(S\\right)$\n",
    "\n",
    "where the prime means that $n = m = 0$ is excluded from the sum. \n",
    "\n",
    "where of course, $\\zeta\\left(S\\right)$ is the Riemann $\\zeta$-function [2]\n",
    "\n",
    "while $\\beta\\left(S\\right) = \\sum \\limits_{n=0}^{\\infty}\\left( - \\right)^n \\left(2n + 1\\right)^{-S}$\n",
    "defines, for $Re S > 0$, a function whose properties throughout the s-plane are\n",
    "well known [3].\n",
    "\n",
    "Thus Eq. (1) fully reveals the properties of the twodimensional Epstein $\\zeta$-function [4] on the left. \n",
    "\n",
    "\n",
    "\n",
    "1. G. H. HARDY, Notes on some points in the integral calculus LII, Mess. Math. 49 (1919),\n",
    "85-91.\n",
    "2. H. M. EDWARDS, “Riemann’s Zeta Function,” Academic Press, New York, 1974.\n",
    "3. A. ERDELYI, W. MAGNUS, F. OEERHETTINGER, AND F. G. TRICOMI (Eds.), “Higher Transcendental Functions,” Vol. 1, McGraw-Hill, New York, 1953. \n",
    "LINEAR ZETA FUNCTIONS 71\n",
    "4. P. EPSTEIN, Zur Theorie allgemeiner Zetafunctionen, Marh. Ann. 56 (1903), 615-645; Zur\n",
    "Theorie allgemeiner Zetafunctionen, II, Math. Ann. 63 (19071, 205-216. "
   ]
  },
  {
   "cell_type": "markdown",
   "metadata": {},
   "source": [
    "$${\\displaystyle \\sum\\limits_{m,n=(0)1}^{\\infty} \\, \\left(m^{2} + n^{2}\\right)^{-S} = \\zeta\\left(S\\right)\\,\\beta\\left(S\\right) }$$"
   ]
  },
  {
   "cell_type": "markdown",
   "metadata": {},
   "source": [
    "$${\\displaystyle \\sum\\limits_{m,n=(0)1}^{\\infty} \\, \\left(\\sqrt{m^{2} + n^{2}}\\right)^{-S} = \\sum\\limits_{m,n=(0)1}^{\\infty} \\, \\left(m^{2} + n^{2}\\right)^{-\\frac{S}{2}} = \\zeta\\left(\\frac{S}{2}\\right)\\,\\beta\\left(\\frac{S}{2}\\right) }$$"
   ]
  },
  {
   "cell_type": "code",
   "execution_count": 102,
   "metadata": {},
   "outputs": [],
   "source": [
    "def zeta_2D(S, N):\n",
    "    \n",
    "    def zeta_2D_row(S, first, N):\n",
    "        #print(\"N\", N, [m for m in range(0,N)])\n",
    "        row_sum = 0\n",
    "        for m in range(first, N):\n",
    "            row_sum += (N^2+m^2)^(-S)\n",
    "            #print(\"m\", m, \"row_sum=\", row_sum)\n",
    "        return row_sum\n",
    "\n",
    "    def zeta_2D_diag(S, N):\n",
    "        diag_elem = (2*N^2)^(-S)\n",
    "        #print(\"N\", N, \"diag_elem=\", diag_elem)\n",
    "        return diag_elem\n",
    "    \n",
    "    zeta_2D_sum = 0\n",
    "    for n in range(1,N):\n",
    "        zeta_2D_add = zeta_2D_row(S, 0, n) + zeta_2D_row(S, 1, n) + zeta_2D_diag(S, n)\n",
    "        zeta_2D_sum += zeta_2D_add\n",
    "        \n",
    "        #print(n, zeta_2D_add, zeta_2D_sum)\n",
    "    return zeta_2D_sum"
   ]
  },
  {
   "cell_type": "markdown",
   "metadata": {},
   "source": [
    "$${\\displaystyle \\beta\\left(S\\right) = \\sum\\limits_{n=0}^{\\infty}\\left( - \\right)^n \\left(2n + 1\\right)^{-S} }$$"
   ]
  },
  {
   "cell_type": "markdown",
   "metadata": {},
   "source": [
    "$${\\displaystyle \\beta\\left(S\\right) = \\sum\\limits_{n=0}^{\\infty}\\left( - \\right)^{2n} \\left(2\\cdot2n + 1\\right)^{-S} +\\left( - \\right)^{(2n+1)} \\left(2(2n+1) + 1\\right)^{-S} }$$"
   ]
  },
  {
   "cell_type": "markdown",
   "metadata": {},
   "source": [
    "$${\\displaystyle \\beta\\left(S\\right) = \\sum\\limits_{n=0}^{\\infty}\\left( - \\right)^{2n} \\left(4n + 1\\right)^{-S} +\\left( - \\right)^{(2n+1)} \\left(4n+3\\right)^{-S} }$$"
   ]
  },
  {
   "cell_type": "markdown",
   "metadata": {},
   "source": [
    "$${\\displaystyle \\beta\\left(S\\right) = \\sum\\limits_{n=0}^{\\infty} \\left(4n + 1\\right)^{-S} - \\left(4n+3\\right)^{-S} }$$"
   ]
  },
  {
   "cell_type": "markdown",
   "metadata": {},
   "source": [
    "$${\\displaystyle \\beta\\left(S\\right) = \\sum\\limits_{n=0}^{\\infty} \\left(4n + 1\\right)^{-S} - \\sum\\limits_{n=0}^{\\infty}\\left(4n+3\\right)^{-S} }$$"
   ]
  },
  {
   "cell_type": "markdown",
   "metadata": {},
   "source": [
    "$${\\displaystyle \\beta\\left(S\\right) = 4^{-S}\\sum\\limits_{n=0}^{\\infty} \\left(n + \\frac{1}{4}\\right)^{-S} - 4^{-S}\\sum\\limits_{n=0}^{\\infty}\\left(n+\\frac{3}{4}\\right)^{-S} }$$"
   ]
  },
  {
   "cell_type": "code",
   "execution_count": 103,
   "metadata": {},
   "outputs": [],
   "source": [
    "from sage.calculus.calculus import symbolic_sum\n",
    "n = var(\"n\")\n",
    "S = var(\"S\")\n",
    "beta1_sym = lambda S : symbolic_sum((-1)^n * (2*n + 1)^(-S), n, 0, Infinity)\n",
    "beta1 = lambda S : sum((-1)^n * (2*n + 1)^(-S), n, 0, Infinity)\n",
    "\n",
    "def beta1_dig(S,N):\n",
    "    Sum = 0\n",
    "    for n in range (N):\n",
    "        Sum += (-1)^n * (2*n + 1)^(-S)\n",
    "    return Sum"
   ]
  },
  {
   "cell_type": "code",
   "execution_count": 104,
   "metadata": {},
   "outputs": [],
   "source": [
    "def beta2_dig(S,N):\n",
    "    Sum = 0\n",
    "    for n in range (N/2):\n",
    "        Sum += (-1)^(2*n)   * (2*(2*n)   + 1)^(-S)\n",
    "        Sum += (-1)^(2*n+1) * (2*(2*n+1) + 1)^(-S)\n",
    "    return Sum"
   ]
  },
  {
   "cell_type": "markdown",
   "metadata": {},
   "source": [
    "$${\\displaystyle \\beta\\left(S\\right) = \\sum\\limits_{n=0}^{\\infty} \\left(4n + 1\\right)^{-S} - \\sum\\limits_{n=0}^{\\infty}\\left(4n+3\\right)^{-S} }$$"
   ]
  },
  {
   "cell_type": "code",
   "execution_count": 105,
   "metadata": {},
   "outputs": [],
   "source": [
    "def beta2_dig_1(S,N):\n",
    "    Sum = 0\n",
    "    for n in range (N/2):\n",
    "        Sum += (-1)^(2*n)   * (2*(2*n)   + 1)^(-S)\n",
    "    return Sum"
   ]
  },
  {
   "cell_type": "code",
   "execution_count": 106,
   "metadata": {},
   "outputs": [],
   "source": [
    "def beta2_dig_2(S,N):\n",
    "    Sum = 0\n",
    "    for n in range (N/2):\n",
    "        Sum += (-1)^(2*n+1) * (2*(2*n+1) + 1)^(-S)\n",
    "    return Sum"
   ]
  },
  {
   "cell_type": "code",
   "execution_count": 107,
   "metadata": {},
   "outputs": [
    {
     "data": {
      "text/plain": [
       "0.653419394620402"
      ]
     },
     "execution_count": 107,
     "metadata": {},
     "output_type": "execute_result"
    }
   ],
   "source": [
    "(beta2_dig_1(2,100000)/zeta(2)).n()"
   ]
  },
  {
   "cell_type": "code",
   "execution_count": 108,
   "metadata": {},
   "outputs": [
    {
     "data": {
      "text/plain": [
       "-0.0965790855618431"
      ]
     },
     "execution_count": 108,
     "metadata": {},
     "output_type": "execute_result"
    }
   ],
   "source": [
    "(beta2_dig_2(2,100000)/zeta(2)).n()"
   ]
  },
  {
   "cell_type": "code",
   "execution_count": 109,
   "metadata": {},
   "outputs": [],
   "source": [
    "def beta3_dig(S,N):\n",
    "    Sum = 0\n",
    "    for n in range (N/2):\n",
    "        Sum += (4*n + 1)^(-S) - (4*n+3)^(-S)\n",
    "    return Sum"
   ]
  },
  {
   "cell_type": "code",
   "execution_count": 110,
   "metadata": {},
   "outputs": [],
   "source": [
    "def beta4_dig(S,N):\n",
    "    Sum = 0\n",
    "    for n in range (N/2):\n",
    "        Sum += (n + 1/4)^(-S) - (n+3/4)^(-S)\n",
    "    return Sum*4^(-S)"
   ]
  },
  {
   "cell_type": "markdown",
   "metadata": {},
   "source": [
    "$${\\displaystyle \\sum\\limits_{m,n=0,1}^{\\infty} \\, \\left(m^{2} + n^{2}\\right)^{-S}=\\sum\\limits_{m,n=1}^{\\infty} \\, \\left(m^{2} + n^{2}\\right)^{-S}+\\zeta(2 S) }$$"
   ]
  },
  {
   "cell_type": "markdown",
   "metadata": {},
   "source": [
    "$${\\displaystyle \\sum\\limits_{m,n=0,1}^{\\infty} \\, \\left(m^{2} + n^{2}\\right)^{-2}=\\sum\\limits_{m,n=1}^{\\infty} \\, \\left(m^{2} + n^{2}\\right)^{-2}+\\zeta(4) }$$"
   ]
  },
  {
   "cell_type": "code",
   "execution_count": 111,
   "metadata": {},
   "outputs": [
    {
     "data": {
      "text/plain": [
       "1.50672472175006"
      ]
     },
     "execution_count": 111,
     "metadata": {},
     "output_type": "execute_result"
    }
   ],
   "source": [
    "int_int.n() + int_sum.n() + int_R_p_n + \\\n",
    "sum_int.n() + sum_sum.n() + sum_R_p_n + \\\n",
    "R_p_int_n + R_p_sum_n + R_p_R_p + \\\n",
    "zeta(4).n()"
   ]
  },
  {
   "cell_type": "markdown",
   "metadata": {},
   "source": [
    "$${\\displaystyle \\frac{1}{4}\\sum \\limits_{m,n=-\\infty}^{\\infty} \\left(m^{2} + n^{2}\\right)^{-S} = \\zeta \\left(S\\right)\\beta\\left(S\\right) }$$"
   ]
  },
  {
   "cell_type": "code",
   "execution_count": 112,
   "metadata": {},
   "outputs": [
    {
     "data": {
      "text/plain": [
       "1.50670280430638"
      ]
     },
     "execution_count": 112,
     "metadata": {},
     "output_type": "execute_result"
    }
   ],
   "source": [
    "beta1_dig(2,1000)*zeta(2).n()"
   ]
  },
  {
   "cell_type": "code",
   "execution_count": 113,
   "metadata": {},
   "outputs": [
    {
     "data": {
      "text/plain": [
       "1.50670280430638"
      ]
     },
     "execution_count": 113,
     "metadata": {},
     "output_type": "execute_result"
    }
   ],
   "source": [
    "beta2_dig(2,1000)*zeta(2).n()"
   ]
  },
  {
   "cell_type": "code",
   "execution_count": 114,
   "metadata": {},
   "outputs": [
    {
     "data": {
      "text/plain": [
       "1.50670280430638"
      ]
     },
     "execution_count": 114,
     "metadata": {},
     "output_type": "execute_result"
    }
   ],
   "source": [
    "beta3_dig(2,1000)*zeta(2).n()"
   ]
  },
  {
   "cell_type": "code",
   "execution_count": 115,
   "metadata": {},
   "outputs": [
    {
     "data": {
      "text/plain": [
       "1.50670280430638"
      ]
     },
     "execution_count": 115,
     "metadata": {},
     "output_type": "execute_result"
    }
   ],
   "source": [
    "beta3_dig(2,1000)*zeta(2).n()"
   ]
  },
  {
   "cell_type": "code",
   "execution_count": 116,
   "metadata": {},
   "outputs": [
    {
     "data": {
      "text/plain": [
       "1.50670280430638"
      ]
     },
     "execution_count": 116,
     "metadata": {},
     "output_type": "execute_result"
    }
   ],
   "source": [
    "beta4_dig(2,1000)*zeta(2).n()"
   ]
  },
  {
   "cell_type": "code",
   "execution_count": 117,
   "metadata": {
    "scrolled": true
   },
   "outputs": [
    {
     "data": {
      "text/plain": [
       "1.5067023665809038"
      ]
     },
     "execution_count": 117,
     "metadata": {},
     "output_type": "execute_result"
    }
   ],
   "source": [
    "zeta_2D(2, 1000)"
   ]
  },
  {
   "cell_type": "code",
   "execution_count": null,
   "metadata": {},
   "outputs": [],
   "source": []
  },
  {
   "cell_type": "code",
   "execution_count": null,
   "metadata": {},
   "outputs": [],
   "source": [
    "t = var(\"t\")\n",
    "integrand_t = integrand_u.subs(u = t).subs(n_x == 1, n_y == 1, a == 1, k_m == 10)\n",
    "display(Math(latex(integrand_t)))\n",
    "integrand_t"
   ]
  },
  {
   "cell_type": "code",
   "execution_count": null,
   "metadata": {},
   "outputs": [],
   "source": [
    "# AttributeError: 'Or' object has no attribute '_sage_'\n",
    "# https://trac.sagemath.org/ticket/31911\n",
    "# https://git.sagemath.org/sage.git/log/?h=u/mkoeppe/boolean_symbolic_expressions"
   ]
  },
  {
   "cell_type": "code",
   "execution_count": null,
   "metadata": {},
   "outputs": [],
   "source": [
    "from sympy import integrate as sympy_integrate\n",
    "\n",
    "alpha,beta = var(\"alpha,beta\")\n",
    "\n",
    "assume(alpha>0)\n",
    "assume(alpha-beta>0)\n",
    "\n",
    "w = lambda t, beta : exp(2*beta*t)\n",
    "\n",
    "Generalized_Laguerre_Rodrigues = lambda n, alpha, beta, t : (sqrt(2*alpha) / factorial(n) * \\\n",
    "                                                             exp((alpha-beta)*t) * \\\n",
    "                                                             diff(exp(-2*alpha*t)*t^n, t, n)).factor()\n",
    "\n",
    "Q = lambda F, k, alpha, beta : sympy_integrate(F(t=t) * \\\n",
    "                                            Generalized_Laguerre_Rodrigues(k, alpha, beta, t) * \\\n",
    "                                            w(t, beta), (t, 0, Infinity))\n",
    "\n",
    "def det_Q(F, n, alpha, beta):\n",
    "    m = [[Q(F, n+k1-k2, alpha, beta) for k2 in range (n+1)] for k1 in range (n+1)]\n",
    "    return matrix(SR, m)\n",
    "\n",
    "# https://www.pythonpool.com/gaussian-elimination-python/\n",
    "\n",
    "#gaussian elimination of M_Q in symbolic form\n",
    "def gaussian_elimination(n, M_Q):\n",
    "    rows = n\n",
    "    cols = n\n",
    "    ma = [[] for _ in range(n)]\n",
    "\n",
    "    for i in range(rows):# row\n",
    "        for j in range(cols): # col\n",
    "            ma[i] += [M_Q[i][j]]\n",
    "\n",
    "    for i in range(cols):\n",
    "        row_to_change = -1\n",
    "        #ii_abs = abs(ma[i][i].subs(digit_values).subs(k_z_sol).n())\n",
    "        ii_abs = abs(ma[i][i].n())\n",
    "\n",
    "        for r in range(i+1, rows):\n",
    "            #ri_abs = abs(ma[r][i].subs(digit_values).subs(k_z_sol).n())\n",
    "            ri_abs = abs(ma[r][i].n())\n",
    "            if ri_abs > ii_abs:\n",
    "                row_to_change = r\n",
    "                cur_abs = ri_abs\n",
    "                print(\"row_to_change\", row_to_change)\n",
    "\n",
    "        if row_to_change > -1:\n",
    "            for col in range(i, cols):#+1):\n",
    "                tmp = ma[i][col]\n",
    "                ma[i][col] = ma[row_to_change][col]\n",
    "                ma[row_to_change][col] = tmp\n",
    "\n",
    "        for j in range(i+1, rows):\n",
    "            ratio = ma[j][i]/ma[i][i]\n",
    "\n",
    "            for k in range(cols):#+1):\n",
    "                ma[j][k] = ma[j][k] - ratio * ma[i][k]\n",
    "\n",
    "    # Формирование верхнетреугольной матрицы\n",
    "    # RU - Right Upper\n",
    "    M_RU = matrix(ma)\n",
    "    return M_RU\n",
    "\n",
    "alpha_d = 2\n",
    "beta_d = 1\n",
    "\n",
    "n = 0\n",
    "\n",
    "while(n <= 3):\n",
    "    print(\"n\", n)\n",
    "    M_Q = det_Q(integrand_t, n, alpha_d, beta_d)\n",
    "    print(\"M_Q\")\n",
    "    display(Math(latex(M_Q)))\n",
    "    det_M_Q = M_Q.det()\n",
    "    print(\"det_M_Q\")\n",
    "    display(Math(latex(det_M_Q)))\n",
    "    #M_Q_RU = gaussian_elimination(n+1, M_Q)\n",
    "    #display(Math(latex(M_Q_RU)))\n",
    "    if abs(det_M_Q) < 1e-7:\n",
    "        break\n",
    "    n = n + 1\n",
    "\n",
    "print(\"M_Q\", M_Q)\n",
    "\n",
    "beta_i = []\n",
    "for i in range(n+1):\n",
    "    exec(\"beta_i_\" + str(i) + \"= var('beta_i_\" + str(i) + \"')\")\n",
    "    exec(\"beta_i += [beta_i_\" + str(i) +\"]\")\n",
    "\n",
    "alpha_i = []\n",
    "for i in range(n):\n",
    "    exec(\"alpha_i_\" + str(i) + \"= var('alpha_i_\" + str(i) + \"')\")\n",
    "    exec(\"alpha_i += [alpha_i_\" + str(i) +\"]\")\n",
    "\n",
    "beta1_i = []\n",
    "for i in range(1, n+1):\n",
    "    exec(\"beta1_i += [beta_i_\" + str(i) +\"]\")\n",
    "\n",
    "vbeta_i = vector(beta_i)\n",
    "vbeta1_i = vector(beta1_i)\n",
    "\n",
    "#M_Q_RU_X = M_Q_RU*vbeta_i\n",
    "M_Q_X = M_Q*vbeta_i\n",
    "\n",
    "beta_i_0_d = 1\n",
    "\n",
    "#M_Q_RU_B = []\n",
    "#eq_sys_RU = []\n",
    "#for i in range(n+1):\n",
    "#    M_Q_RU_B_i = - (M_Q_RU_X[i]).coefficient(beta_i_0).n() * beta_i_0_d\n",
    "#    print(M_Q_RU_B_i)\n",
    "#    M_Q_RU_B += [M_Q_RU_B_i]\n",
    "#    eq_sys_RU += [M_Q_RU_X[i].subs(beta_i_0 == 0) == M_Q_RU_B_i]\n",
    "\n",
    "#print(\"eq_sys_RU =\", eq_sys_RU)\n",
    "    \n",
    "M_Q_B = []\n",
    "eq_sys = []\n",
    "for i in range(n+1):\n",
    "    M_Q_B_i = - (M_Q_X[i]).coefficient(beta_i_0).n() * beta_i_0_d\n",
    "    print(M_Q_B_i)\n",
    "    M_Q_B += [M_Q_B_i]\n",
    "    eq_sys += [M_Q_X[i].subs(beta_i_0 == 0) == M_Q_B_i]\n",
    "\n",
    "print(\"eq_sys =\", eq_sys)\n",
    "\n",
    "def GenerateMatrix(equsys, vars):\n",
    "    A=matrix(SR, [[(equ.lhs() - equ.rhs()).coefficient(v) for v in vars] for equ in equsys])\n",
    "    return A\n",
    "\n",
    "#eq_sys_RU_M = GenerateMatrix(eq_sys_RU, vbeta1_i)\n",
    "eq_sys_M = GenerateMatrix(eq_sys, vbeta1_i)\n",
    "\n",
    "#eq_sys_RU_M_sol = eq_sys_RU_M.solve_right(vector(M_Q_RU_B))\n",
    "eq_sys_M_sol = eq_sys_M.solve_right(vector(M_Q_B))\n",
    "\n",
    "#coeffs_beta_i = [beta_i_0 == beta_i_0_d]\n",
    "#for i in range(n):\n",
    "#    eq_sys_RU_M_sol_i = eq_sys_RU_M_sol[i]\n",
    "#    print(eq_sys_RU_M_sol_i)\n",
    "#    coeffs_beta_i += [vbeta1_i[i] == eq_sys_RU_M_sol_i]\n",
    "\n",
    "coeffs_beta_i = [beta_i_0 == beta_i_0_d]\n",
    "for i in range(n):\n",
    "    eq_sys_M_sol_i = eq_sys_M_sol[i]\n",
    "    print(eq_sys_M_sol_i)\n",
    "    coeffs_beta_i += [vbeta1_i[i] == eq_sys_M_sol_i]\n",
    "\n",
    "print(\"coeffs_beta_i =\", coeffs_beta_i)\n",
    "print(\"M_Q\", M_Q)\n",
    "\n",
    "valpha_i = []\n",
    "for i in range(n):\n",
    "    alpha__i = 0\n",
    "    print(i)\n",
    "    for j in range(0,i+1):\n",
    "        print(j, M_Q[0][n-j], i-j, beta_i[i-j])\n",
    "        alpha__i += M_Q[0][n-j] * beta_i[i-j]\n",
    "    alpha__i *= sqrt(2 * alpha)\n",
    "    valpha_i += [alpha_i[i] == alpha__i]\n",
    "\n",
    "print(\"valpha_i =\", valpha_i)\n",
    "\n",
    "coeffs_alpha_i = []\n",
    "for i in range(n):\n",
    "    coeffs_alpha_i += [alpha_i[i] == valpha_i[i].rhs().subs(coeffs_beta_i).subs(alpha == alpha_d)]\n",
    "print(\"coeffs_alpha_i =\", coeffs_alpha_i)\n",
    "\n",
    "delta, S = var(\"delta, S\")\n",
    "F_delta = sum([alpha_i[i]*delta^i for i in range(n)])/sum([beta_i[i]*delta^i for i in range(n+1)])\n",
    "F_delta_d = F_delta.subs(coeffs_alpha_i).subs(coeffs_beta_i)\n",
    "F_delta_d_1_delta_2_alpha = (1 - delta)/(2*alpha)*F_delta_d\n",
    "F_delta_d_1_delta_2_alpha_d = F_delta_d_1_delta_2_alpha.subs(alpha == alpha_d)\n",
    "print(\"F_delta_d_1_delta_2_alpha_d =\", F_delta_d_1_delta_2_alpha_d)\n",
    "\n",
    "F_S = F_delta_d_1_delta_2_alpha.subs(delta == (S - alpha + beta) / (S + alpha + beta)).factor()\n",
    "F_S_d = F_S.subs(alpha == alpha_d, beta == beta_d)\n",
    "print(\"F_S_d =\", F_S_d)\n",
    "display(Math(latex(F_S_d)))\n",
    "\n",
    "\n",
    "F_S_d_num = F_S_d.numerator()\n",
    "F_S_d_den = F_S_d.denominator()\n",
    "\n",
    "\n",
    "print(\"F_S_d_num =\", F_S_d_num)\n",
    "display(Math(latex(F_S_d_num)))\n",
    "\n",
    "print(\"F_S_d_den =\", F_S_d_den)\n",
    "display(Math(latex(F_S_d_den)))\n",
    "\n",
    "\n",
    "rec_R = lambda t : inverse_laplace(F_S_d, S, t)\n",
    "print(\"\")\n",
    "print(\"rec_R(t) =\", rec_R(t))\n",
    "print(\"R(t) =\", R(t))"
   ]
  },
  {
   "cell_type": "code",
   "execution_count": null,
   "metadata": {},
   "outputs": [],
   "source": [
    "def my_taylor(f, v, a, n):\n",
    "    s = 0\n",
    "    #print(\"f\", f)\n",
    "    #print(\"v\", v)\n",
    "    for i in range(n):\n",
    "        fdiff_i = lambda v : diff(f, v, i)\n",
    "        #print(\"fdiff_i\", fdiff_i(v))\n",
    "        fact_i = factorial(i)\n",
    "        fdiff_i_a = fdiff_i(v).subs(v == a)\n",
    "        #print(\"fdiff_i(a)\", fdiff_i_a)\n",
    "        term = fdiff_i_a/fact_i*(v-a)^i\n",
    "        #print(\"term\", term)\n",
    "        s += term\n",
    "    return s"
   ]
  },
  {
   "cell_type": "code",
   "execution_count": null,
   "metadata": {},
   "outputs": [],
   "source": [
    "integrand_w_taylor = my_taylor(integrand_u, u, 1, 4)\n",
    "display(Math(latex(integrand_w_taylor)))\n",
    "integrand_w_taylor"
   ]
  },
  {
   "cell_type": "code",
   "execution_count": null,
   "metadata": {},
   "outputs": [],
   "source": [
    "plot(integrand_w_taylor.subs(n_x == 1, n_y == 1, a == 1, k_m == 10), w, 0, 10)"
   ]
  },
  {
   "cell_type": "raw",
   "metadata": {},
   "source": [
    "F_w(n_x, n_y) = integrate(integrand_w_taylor, w, n_y^2+n_x^2, Infinity, algorithm=\"sympy\")\n",
    "F_w(n_x, n_y)"
   ]
  },
  {
   "cell_type": "code",
   "execution_count": null,
   "metadata": {},
   "outputs": [],
   "source": []
  },
  {
   "cell_type": "code",
   "execution_count": null,
   "metadata": {},
   "outputs": [],
   "source": [
    "# below should be reworked"
   ]
  },
  {
   "cell_type": "code",
   "execution_count": null,
   "metadata": {},
   "outputs": [],
   "source": []
  },
  {
   "cell_type": "markdown",
   "metadata": {},
   "source": [
    "$F\\left(n\\right) = \\int\\limits_{n^2}^{\\infty}{\\sqrt{w}}f\\left(\\pi\\sqrt{w}/\\left(a\\,k_m\\right)\\right)\\,d{w}$"
   ]
  },
  {
   "cell_type": "markdown",
   "metadata": {},
   "source": [
    "whence"
   ]
  },
  {
   "cell_type": "markdown",
   "metadata": {},
   "source": [
    "$F'\\left(n\\right) = -2\\,n^2f\\left(\\pi\\,n/\\left(a\\,k_m\\right)\\right)$"
   ]
  },
  {
   "cell_type": "markdown",
   "metadata": {},
   "source": [
    "$F'\\left(0\\right) = 0$"
   ]
  },
  {
   "cell_type": "markdown",
   "metadata": {},
   "source": [
    "$F'''\\left(0\\right) = -4$"
   ]
  },
  {
   "cell_type": "markdown",
   "metadata": {},
   "source": [
    "The higher derivatives will contain powers of $(\\pi/(a\\,k_m))$ . Thus we find"
   ]
  },
  {
   "cell_type": "markdown",
   "metadata": {},
   "source": [
    "We apply the EULER-MACLAURIN 2D formula:"
   ]
  },
  {
   "cell_type": "markdown",
   "metadata": {},
   "source": [
    "$\\sum\\limits_{\\left(0\\right)\\,1}^{\\infty}\\sum\\limits_{\\left(0\\right)\\,1}^{\\infty}{F\\left(n_x, n_y\\right)}-\\int\\limits_{0}^{\\infty}\\int\\limits_{0}^{\\infty}{F\\left(n_x, n_y\\right)} =  - \\frac{1}{12} \\, \\int_{0}^{\\infty} \\frac{\\partial}{\\partial n_{x}}F\\left(0, n_y\\right)\\,{d n_y} - \\frac{1}{12} \\, \\int_{0}^{\\infty} \\frac{\\partial}{\\partial n_{y}}F\\left(n_x, 0\\right)\\,{d n_x} + \\frac{1}{144} \\, \\frac{\\partial^{2}}{\\partial n_{x}\\partial n_{y}}F\\left(0, 0\\right) \\,+\\,...$"
   ]
  },
  {
   "cell_type": "markdown",
   "metadata": {},
   "source": [
    "or using more terms in the EULER-MACLAURIN 2D formula:"
   ]
  },
  {
   "cell_type": "markdown",
   "metadata": {},
   "source": [
    "$\\sum\\limits_{\\left(0\\right)\\,1}^{\\infty}\\sum\\limits_{\\left(0\\right)\\,1}^{\\infty}{F\\left(n_x, n_y\\right)}-\\int\\limits_{0}^{\\infty}\\int\\limits_{0}^{\\infty}{F\\left(n_x, n_y\\right)} = - \\frac{1}{12} \\, \\int_{0}^{\\infty}  \\, \\frac{\\partial}{\\partial n_{x}}F\\left(0, n_y\\right)\\,{d n_y} + \\frac{1}{720} \\, \\int_{0}^{\\infty} \\frac{\\partial^{3}}{(\\partial n_{x})^{3}}F\\left(0, y\\right)\\,{d n_y} - \\frac{1}{12} \\, \\int_{0}^{\\infty} \\frac{\\partial}{\\partial n_{y}}F\\left(n_x, 0\\right)\\,{d n_x} + \\frac{1}{720} \\, \\int_{0}^{\\infty} \\frac{\\partial^{3}}{(\\partial n_{y})^{3}}F\\left(n_x, 0\\right)\\,{d n_x} - \\frac{1}{8640} \\, \\frac{\\partial^{4}}{(\\partial n_{x})^{3}\\partial n_{y}}F\\left(0, 0\\right) + \\frac{1}{518400} \\, \\frac{\\partial^{6}}{(\\partial n_{x})^{3}(\\partial n_{y})^{3}}F\\left(0, 0\\right) + \\frac{1}{144} \\, \\frac{\\partial^{2}}{\\partial n_{x}\\partial n_{y}}F\\left(0, 0\\right) - \\frac{1}{8640} \\, \\frac{\\partial^{4}}{\\partial n_{x}(\\partial n_{y})^{3}}F\\left(0, 0\\right)\\,+\\,...$"
   ]
  },
  {
   "cell_type": "markdown",
   "metadata": {},
   "source": [
    "$\\delta\\,E/L^2 = \\hbar\\,c\\frac{\\pi^2}{4\\,a^3}\\left\\{\\frac{-4}{24\\times30}\\right\\}$"
   ]
  },
  {
   "cell_type": "markdown",
   "metadata": {},
   "source": [
    "a formula which holds as long as $a\\,k_m\\,»\\,1$. For the force per $cm^2$ we find"
   ]
  },
  {
   "cell_type": "markdown",
   "metadata": {},
   "source": [
    "$F = \\hbar\\,c\\frac{\\pi^2}{240}\\frac{1}{a^4}\\,=\\,0.013\\,\\frac{1}{a_{\\mu}^4}\\,dyne/cm^2$"
   ]
  },
  {
   "cell_type": "markdown",
   "metadata": {},
   "source": [
    "where $a_{\\mu}$ is the distance measured in microns. "
   ]
  },
  {
   "cell_type": "markdown",
   "metadata": {},
   "source": [
    "We are thus led to the following conclusions. There exists an attractive\n",
    "force between two metal plates which is independent of the material of\n",
    "the plates as long as the distance is so large that for wave . lengths\n",
    "comparable with that distance the penetration depth is small compared with\n",
    "the distance. This force may be interpreted as a zero point pressure of\n",
    "electromagnetic waves."
   ]
  },
  {
   "cell_type": "markdown",
   "metadata": {},
   "source": [
    "Although the effect is smalI, an experimental confirmation seems not\n",
    "unfeasable and might be of a certain interest. "
   ]
  },
  {
   "cell_type": "markdown",
   "metadata": {},
   "source": [
    "Natuurkundig Laboratorium der N.V. Philips'\n",
    "Gloeilampenfabrieken. Eindhoven .) "
   ]
  },
  {
   "cell_type": "markdown",
   "metadata": {},
   "source": [
    "30 January 2019\n",
    "\n",
    "Metal nano-honeycomb fabricated by colloidal assembly and femtosecond-laser annealing\n",
    "\n",
    "https://www.spiedigitallibrary.org/conference-proceedings-of-spie/10841/108410A/Metal-nano-honeycomb-fabricated-by-colloidal-assembly-and-femtosecond-laser/10.1117/12.2508593.full?SSO=1"
   ]
  },
  {
   "cell_type": "markdown",
   "metadata": {},
   "source": [
    "Bio-Inspired Engineering of Honeycomb Structure - Using Nature to Inspire Human Innovation\n",
    "\n",
    "https://www.researchgate.net/figure/Mechanical-behavior-of-micro-and-nano-honeycomb-materials_tbl1_280239925"
   ]
  },
  {
   "cell_type": "markdown",
   "metadata": {},
   "source": [
    "Nano-honeycomb structures for optimal energy absorption: numerical analysis and experiments\n",
    "\n",
    "https://www.alliedacademies.org/articles/nanohoneycomb-structures-for-optimal-energy-absorption-numerical-analysisand-experiments-8375.html"
   ]
  },
  {
   "cell_type": "code",
   "execution_count": null,
   "metadata": {},
   "outputs": [],
   "source": [
    "#kappa = sqrt(k_x^2+k_y^2)\n",
    "kappa = var(\"kappa\")"
   ]
  },
  {
   "cell_type": "code",
   "execution_count": null,
   "metadata": {},
   "outputs": [],
   "source": [
    "k = sqrt(kappa^2+k_z^2)\n",
    "k"
   ]
  },
  {
   "cell_type": "markdown",
   "metadata": {},
   "source": [
    "$F\\left(n_x, n_y\\right) = \\int\\limits_{n_x^2 + n_y^2}^{\\infty}\\frac{{w^2}f\\left(\\pi w/\\left(a\\,k_m\\right)\\right)}{\\sqrt{w^2 - (n_x^2 + n_y^2)}}\\,{d w}$"
   ]
  },
  {
   "cell_type": "code",
   "execution_count": null,
   "metadata": {},
   "outputs": [],
   "source": [
    "N = var (\"N\") # Infinity\n",
    "forget()\n",
    "\n",
    "\n",
    "from sage.symbolic.integration.integral import definite_integral\n",
    "#F_w(n_x, n_y) = definite_integral(integrand_w, w, n_y^2+n_x^2, Infinity)\n"
   ]
  },
  {
   "cell_type": "code",
   "execution_count": null,
   "metadata": {},
   "outputs": [],
   "source": [
    "def definite_integral_derivative(f, x, a, b, diff_param=None):\n",
    "    \"\"\"\n",
    "    Return the derivative of symbolic integration\n",
    "\n",
    "    EXAMPLES::\n",
    "\n",
    "        sage: from sage.symbolic.integration.integral import definite_integral\n",
    "        sage: f = function('f'); a,b=var('a,b')\n",
    "        sage: h = definite_integral(f(x), x,a,b)\n",
    "        sage: h.diff(x) # indirect doctest\n",
    "        0\n",
    "        sage: h.diff(a)\n",
    "        -f(a)\n",
    "        sage: h.diff(b)\n",
    "        f(b)\n",
    "    \"\"\"\n",
    "    if not x.has(diff_param):\n",
    "        # integration variable != differentiation variable\n",
    "        #ans = definite_integral(f.diff(diff_param), x, a, b)\n",
    "        ans = integrate(f.diff(diff_param), x, a, b, algorithm=\"sympy\")\n",
    "    else:\n",
    "        ans = SR.zero()\n",
    "\n",
    "    if hasattr(b, 'diff'):\n",
    "        if b.diff(diff_param) != 0:\n",
    "            ans += f.subs(x == b) * b.diff(diff_param)\n",
    "    if hasattr(a, 'diff'):\n",
    "        if a.diff(diff_param) != 0:\n",
    "            ans -= f.subs(x == a) * a.diff(diff_param)\n",
    "\n",
    "    return ans"
   ]
  },
  {
   "cell_type": "code",
   "execution_count": null,
   "metadata": {},
   "outputs": [],
   "source": [
    "dFdnx(n_x, n_y) = definite_integral_derivative(integrand_w, w, n_y^2+n_x^2, Infinity, n_x)\n",
    "display(Math(latex(dFdnx(n_x, n_y))))"
   ]
  },
  {
   "cell_type": "raw",
   "metadata": {},
   "source": [
    "int_dFdnx = integrate(dFdnx(n_x, n_y), (n_y, 0, Infinity), algorithm=\"sympy\")\n",
    "display(Math(latex(int_dFdnx)))"
   ]
  },
  {
   "cell_type": "raw",
   "metadata": {},
   "source": [
    "d2Fdnxdny = dFdnx(n_x, n_y).diff(n_y)\n",
    "display(Math(latex(d2Fdnxdny)))"
   ]
  },
  {
   "cell_type": "raw",
   "metadata": {},
   "source": [
    "display(Math(latex(d2Fdnxdny.subs(n_x == 0.0000001, n_y = 0.0000001))))"
   ]
  },
  {
   "cell_type": "raw",
   "metadata": {},
   "source": [
    "d3Fdnx3 = dFdnx(n_x, n_y).diff(n_x, 2)\n",
    "display(Math(latex(d3Fdnx3.subs(n_x == 0.0000001, n_y = 0.0000001))))"
   ]
  },
  {
   "cell_type": "raw",
   "metadata": {},
   "source": [
    "display(Math(latex(d3Fdnx3.subs(n_x == 0.0000001))))"
   ]
  },
  {
   "cell_type": "raw",
   "metadata": {},
   "source": [
    "try:\n",
    "    display(Math(latex((d3Fdnx3).expand().subs(n_x == 0, n_y = 0))))\n",
    "except Exception as ex:\n",
    "    print(ex)\n",
    "    pass"
   ]
  },
  {
   "cell_type": "raw",
   "metadata": {},
   "source": [
    "try:\n",
    "    int_d3Fdnx3 = integrate(d3Fdnx3, n_y, 0, Infinity)\n",
    "    display(Math(latex(int_d3Fdnx3)))\n",
    "except Exception as ex:\n",
    "    print(ex)\n",
    "    # Can't calculate derivative wrt pi*(n_x**2 + n_y**2)/(a*k_m).\n",
    "    pass"
   ]
  },
  {
   "cell_type": "code",
   "execution_count": null,
   "metadata": {},
   "outputs": [],
   "source": [
    "#display(Math(latex(int_d3Fdnx3.expand().subs(n_x == 0.0000001, n_y = 0.0000001))))"
   ]
  },
  {
   "cell_type": "raw",
   "metadata": {},
   "source": [
    "try:\n",
    "    display(Math(latex(int_d3Fdnx3.expand().subs(n_x == 0, n_y = 0))))\n",
    "except Exception as ex:\n",
    "    print(ex)\n",
    "    pass"
   ]
  },
  {
   "cell_type": "raw",
   "metadata": {},
   "source": [
    "display(Math(latex((d3Fdnx3).expand().subs(n_x == 0.0000001, n_y = 0.0000001))))"
   ]
  },
  {
   "cell_type": "raw",
   "metadata": {},
   "source": [
    "d4Fdnx3dny1 = d3Fdnx3.diff(n_y, 1)\n",
    "try:\n",
    "    display(Math(latex(d4Fdnx3dny1.expand().subs(n_x == 0, n_y = 0))))\n",
    "except Exception as ex:\n",
    "    print(ex)\n",
    "    pass"
   ]
  },
  {
   "cell_type": "raw",
   "metadata": {},
   "source": [
    "d4Fdnx3dny1 = d3Fdnx3.diff(n_y, 1)\n",
    "display(Math(latex(d4Fdnx3dny1.expand().subs(n_x == 0.0000001, n_y = 0.0000001))))"
   ]
  },
  {
   "cell_type": "raw",
   "metadata": {},
   "source": [
    "d6Fdnx3dny3 = d3Fdnx3.diff(n_y, 3)\n",
    "display(Math(latex(d6Fdnx3dny3.expand().subs(n_x == 0.0000001, n_y = 0.0000001))))"
   ]
  },
  {
   "cell_type": "raw",
   "metadata": {},
   "source": [
    "try:\n",
    "    display(Math(latex(d6Fdnx3dny3.expand().subs(n_x == 0, n_y = 0))))\n",
    "except Exception as ex:\n",
    "    print(ex)\n",
    "    pass"
   ]
  },
  {
   "cell_type": "raw",
   "metadata": {},
   "source": [
    "# https://ask.sagemath.org/question/10215/lazy-evaluation-of-derivatives-of-an-unknown-function/\n",
    "from sage.symbolic.operators import FDerivativeOperator\n",
    "class Dclass(object):\n",
    "    def __init__(self,L=None):\n",
    "        if L is None:\n",
    "            self.L=[]\n",
    "        else:\n",
    "            self.L=L\n",
    "    def __getitem__(self,index):\n",
    "        if isinstance(index,tuple):\n",
    "            index=list(index)\n",
    "        elif not(isinstance(index,list)):\n",
    "            index=[index]\n",
    "        return Dclass(self.L+index)\n",
    "    def __call__(self,arg):\n",
    "        return FDerivativeOperator(arg,self.L)\n",
    "    def __repr__(self):\n",
    "        return \"D\"+str(self.L)\n",
    "D=Dclass()"
   ]
  }
 ],
 "metadata": {
  "kernelspec": {
   "display_name": "SageMath 9.5",
   "language": "sage",
   "name": "sagemath"
  },
  "language_info": {
   "codemirror_mode": {
    "name": "ipython",
    "version": 3
   },
   "file_extension": ".py",
   "mimetype": "text/x-python",
   "name": "python",
   "nbconvert_exporter": "python",
   "pygments_lexer": "ipython3",
   "version": "3.9.9"
  }
 },
 "nbformat": 4,
 "nbformat_minor": 2
}
