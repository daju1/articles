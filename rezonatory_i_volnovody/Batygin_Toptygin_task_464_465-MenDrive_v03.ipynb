{
 "cells": [
  {
   "cell_type": "markdown",
   "metadata": {},
   "source": [
    "# Электродинамический расчёт волнового двигателя с внутренним расходом энергии Ф.Ф.Менде (MenDrive)\n",
    "\n",
    "А.Ю.Дроздов"
   ]
  },
  {
   "cell_type": "markdown",
   "metadata": {},
   "source": [
    "Основываясь на решении задач из задачника Батыгина Топтыгина\n",
    "\n",
    "Batygin_Toptygin_task_464_465.sage\n",
    "\n",
    "В. В. БАТЫГИН, И. Н. ТОПТЫГИН\n",
    "СБОРНИК ЗАДАЧ\n",
    "по\n",
    "ЭЛЕКТРОДИНАМИКЕ\n",
    "МОСКВА 1970\n",
    "\n",
    "512. Бесконечно протяженный диэлектрический слой заполняет в вакууме область $-a<=x<=a$ и имеет проницаемости $\\epsilon$ и $\\mu$.\n",
    "Показать, что такой слой может действовать как волновод (для этого нужно, чтобы поле бегущей электромагнитной волны концентрировалось, в основном, внутри слоя). Определить типы волн, которые могут распространяться в таком волноводе. Ограничиться случаем, когда векторы поля не зависят от координаты $y$.\n",
    "\n",
    "513. Диэлектрический слой с проницаемостями $\\epsilon$, $\\mu$, заполняющий область $0<=x<=a$, нанесен на поверхность идеального\n",
    "проводника. В области $x>a$ - вакуум. Какие типы электромагнитных волн с амплитудой, убывающей при удалении от слоя, могут распространяться вдоль слоя? Сравнить возможные типы волн с системой волн, полученной в предыдущей задаче.\n",
    "\n",
    "В издании 1962 года номера этих задач 464 и 465"
   ]
  },
  {
   "cell_type": "markdown",
   "metadata": {},
   "source": [
    "рассчитаем тягу в\n",
    "\n",
    "http://fmnauka.narod.ru/dvigatel_emdrive.pdf\n",
    "\n",
    "Ф.Ф. МЕНДЕ, ВОЛНОВОЙ ДВИГАТЕЛЬ С ВНУТРЕННИМ РАСХОДОМ ЭНЕРГИИ ЭЛЕКТРОМАГНИТНЫХ КОЛЕБАНИЙ"
   ]
  },
  {
   "cell_type": "markdown",
   "metadata": {},
   "source": [
    "геометрия задачи следующая: \n",
    "\n",
    "поверхность идеального проводника $x<=-a$\n",
    "\n",
    "вакуума внутри резонатора заполняет область $-a<=x<=0$\n",
    "\n",
    "В области $x>0$ - плохой проводник"
   ]
  },
  {
   "cell_type": "markdown",
   "metadata": {},
   "source": [
    "$$rot\\,\\vec{E} = \\mu\\,\\frac{i\\,\\omega}{c}\\,\\vec{H}$$\n",
    "\n",
    "$$rot\\,\\vec{H} = \\frac{1}{c}\\frac{\\partial \\vec D}{\\partial t} + \\frac{4\\pi}{c} \\vec j = - \\frac{i\\,\\omega}{c} \\epsilon \\vec{E} + \\frac{4\\pi}{c}\\sigma \\vec E$$\n",
    "\n",
    "$$rot\\,rot\\,\\vec{E} = \\mu\\,\\frac{i\\,\\omega}{c}rot\\,\\vec{H}$$\n",
    "\n",
    "$$rot\\,rot\\,\\vec{E} = \\mu\\,\\frac{i\\,\\omega}{c}\\left(- \\frac{i\\,\\omega}{c} \\epsilon \\vec{E} + \\frac{4\\pi}{c}\\sigma \\vec E\\right)$$\n",
    "\n",
    "$$rot\\,rot\\,\\vec{E} = \\epsilon \\mu\\,\\frac{\\omega^2}{c^2} \\vec{E} + i\\,\\omega\\,\\sigma\\,\\mu\\,\\frac{4\\pi}{c^2} \\vec E$$\n",
    "\n",
    "$$rot\\,rot\\,\\vec{E} = grad\\,div\\,\\vec{E} - Laplasian\\,\\vec{E}$$\n",
    "\n",
    "$$Laplasian\\,\\vec{E} + \\epsilon \\mu \\frac{\\omega^2}{c^2}\\,\\vec{E} + i\\,\\omega\\,\\sigma\\,\\mu\\,\\frac{4\\pi}{c^2} \\vec E - grad\\,div\\,\\vec{E} = 0$$\n"
   ]
  },
  {
   "cell_type": "markdown",
   "metadata": {},
   "source": [
    "$$div\\,\\vec{E} = - \\frac{\\vec{n}}{c} \\frac{\\partial \\vec E}{\\partial t}$$\n",
    "\n",
    "$$grad\\,div\\,\\vec{E} = - grad\\,\\frac{\\vec{n}}{c} \\frac{\\partial \\vec E}{\\partial t}$$\n",
    "\n",
    "для вакуума внутри резонатора ищем решение в виде\n",
    "\n",
    "$$\\vec{E} = \\vec{E}(x)\\,e^{i\\,k\\,z}\\,e^{-i\\,\\omega\\,t}$$"
   ]
  },
  {
   "cell_type": "markdown",
   "metadata": {},
   "source": [
    "подставляя в исходное уравнение приходим к обыкновенному дифференциальному уравнению\n",
    "\n",
    "$$\\frac{\\partial^{2}}{(\\partial {x})^{2}}\\vec{E}(x) + \\frac{\\partial^{2}}{(\\partial {y})^{2}}\\vec{E}(x) + \\left(\\epsilon  \\mu \\frac{\\omega^2}{c^2} + i\\,\\omega\\,\\sigma\\,\\mu\\,\\frac{4\\pi}{c^2} - {k'_z}^2\\right)\\,\\vec{E}(x) - grad\\,div\\,\\vec{E} = 0$$"
   ]
  },
  {
   "cell_type": "markdown",
   "metadata": {},
   "source": [
    "производим следующую замену переменных\n",
    "\n",
    "$$\\kappa^2 = \\epsilon \\mu \\frac{\\omega^2}{c^2} + i\\,\\omega\\,\\sigma\\,\\mu\\,\\frac{4\\pi}{c^2}$$\n",
    "\n",
    "теперь получаем дифференциальное уравнение\n",
    "\n",
    "$$\\frac{\\partial^{2}}{(\\partial {x})^{2}}\\vec{E}(x) + \\frac{\\partial^{2}}{(\\partial {y})^{2}}\\vec{E}(x) + \\left(\\kappa^2 - {k'_z}^2\\right)\\,\\vec{E}(x) = 0$$"
   ]
  },
  {
   "cell_type": "code",
   "execution_count": null,
   "metadata": {},
   "outputs": [],
   "source": []
  },
  {
   "cell_type": "markdown",
   "metadata": {},
   "source": [
    "для проводящего металла с потерями ищем решение в виде\n",
    "\n",
    "$$\\vec{E} = \\vec{E}\\,e^{i\\,k'_x\\,x}\\,e^{i\\,k'_z\\,z}\\,e^{-i\\,\\omega\\,t}$$\n",
    "\n",
    "в котором волновой вектор, направленный вдоль оси z комплексный $k'_z = k_z + i\\,s_z$, как и волновой вектор, направленный вдоль оси x может быть комплексным $k'_x = k_x + i\\,s_x$\n",
    "\n",
    "$$\\vec{E} = \\vec{E}\\,e^{i\\,(k_x + i\\,s_x)\\,(x-a)}\\,e^{i\\,(k_z + i\\,s_z)\\,z}\\,e^{-i\\,\\omega\\,t}$$"
   ]
  },
  {
   "cell_type": "code",
   "execution_count": null,
   "metadata": {},
   "outputs": [],
   "source": []
  },
  {
   "cell_type": "markdown",
   "metadata": {},
   "source": [
    "принимая модель комплексного представления диэлектрической проницаемости $\\epsilon' = \\epsilon + \\frac{4\\pi\\,\\sigma}{\\omega}\\,i$ (плохой проводник)"
   ]
  },
  {
   "cell_type": "markdown",
   "metadata": {},
   "source": [
    "подставляем решение в\n",
    "\n",
    "$$Laplasian\\,\\vec{E} + \\frac{\\mu \\omega^2}{c^2}\\left(\\epsilon + \\frac{4\\pi\\,\\sigma}{\\omega}\\,i\\right)\\,\\vec{E} - grad\\,div\\,\\vec{E} = 0$$\n",
    "\n",
    "и принимая\n",
    "\n",
    "$$div\\,\\vec{E} = - \\frac{\\vec{n}}{c} \\frac{\\partial \\vec E}{\\partial t}$$"
   ]
  },
  {
   "cell_type": "markdown",
   "metadata": {},
   "source": [
    "приходим к\n",
    "\n",
    "$$\\frac{\\partial^{2}}{(\\partial {x})^{2}}\\vec{E}(x) + \\frac{\\partial^{2}}{(\\partial {y})^{2}}\\vec{E}(x) + \\left(\\frac{\\mu \\omega^2}{c^2}\\left(\\epsilon + \\frac{4\\pi\\,\\sigma}{\\omega}\\,i\\right)  - {k'_z}^2\\right)\\,\\vec{E} - grad\\, \\left(\\frac{\\vec{n}}{c} \\frac{\\partial \\vec E}{\\partial t} \\right) = 0$$"
   ]
  },
  {
   "cell_type": "markdown",
   "metadata": {},
   "source": [
    "$$ k = \\frac{\\omega}{c}\\,\\sqrt{\\mu\\,\\left(\\epsilon  + \\frac{4\\pi\\,\\sigma}{\\omega}\\,i\\right)}$$"
   ]
  },
  {
   "cell_type": "markdown",
   "metadata": {},
   "source": [
    "$${k'_z}^2=\\left(k_z + i\\,s_z \\right)^2 = k_z^2 - s_z^2 + 2\\,i\\,k_z\\,s_z$$"
   ]
  },
  {
   "cell_type": "markdown",
   "metadata": {},
   "source": [
    "приходим к\n",
    "\n",
    "$$\\frac{\\partial^{2}}{(\\partial {x})^{2}}\\vec{E}(x) + \\frac{\\partial^{2}}{(\\partial {y})^{2}}\\vec{E}(x) + \\left(\\frac{\\mu \\omega^2}{c^2}\\epsilon + \\frac{\\mu \\omega^2}{c^2}\\frac{4\\pi\\,\\sigma}{\\omega}\\,i - {k'_z}^{2}\\right) = 0$$\n"
   ]
  },
  {
   "cell_type": "code",
   "execution_count": 1,
   "metadata": {},
   "outputs": [],
   "source": [
    "from IPython.display import display, Math, Latex\n",
    "\n",
    "mu = var('mu')\n",
    "assume(mu, 'real')\n",
    "assume(mu>0)\n",
    "\n",
    "epsilon = var('epsilon')\n",
    "assume(epsilon, 'real')\n",
    "assume(epsilon>0)\n",
    "\n",
    "mu_0 = 1\n",
    "epsilon_0 = 1\n",
    "\n",
    "sigma = var('sigma')\n",
    "assume(sigma, 'real')\n",
    "assume(sigma>0)\n",
    "\n",
    "sx = var ('sx')\n",
    "assume(sx, 'real')\n",
    "assume(sx>0)\n",
    "\n",
    "sy = var ('sy')\n",
    "assume(sy, 'real')\n",
    "assume(sy>0)\n",
    "\n",
    "sz = var ('sz')\n",
    "assume(sz, 'real')\n",
    "assume(sz>0)\n",
    "\n",
    "kappa_vacuum = var ('kappa_vacuum')\n",
    "assume(kappa_vacuum, 'real')\n",
    "assume(kappa_vacuum>0)\n",
    "\n",
    "#k, kappa = var('k, kappa')\n",
    "kappa = var('kappa')\n",
    "#assume(k, 'complex')\n",
    "assume(kappa, 'complex')\n",
    "\n",
    "kx = var ('kx')\n",
    "assume(kx, 'real')\n",
    "\n",
    "ky = var ('ky')\n",
    "assume(ky, 'real')\n",
    "\n",
    "kz = var ('kz')\n",
    "assume(kz, 'real')\n",
    "\n",
    "k__x = var ('k__x')\n",
    "assume(k__x, 'complex')\n",
    "\n",
    "k__y = var ('k__y')\n",
    "assume(k__x, 'complex')\n",
    "\n",
    "k__z = var ('k__z')\n",
    "assume(k__z, 'complex')\n",
    "\n",
    "k_x = var ('k_x')\n",
    "assume(k_x, 'complex')\n",
    "\n",
    "k_y = var ('k_y')\n",
    "assume(k_x, 'complex')\n",
    "\n",
    "k_z = var ('k_z')\n",
    "assume(k_z, 'complex')\n",
    "\n",
    "\n",
    "a = var('a')\n",
    "assume(a, 'real')\n",
    "assume(a>0)\n",
    "\n",
    "x = var('x')\n",
    "y = var('y')\n",
    "z = var('z')\n",
    "\n",
    "assume(x, 'real')\n",
    "assume(y, 'real')\n",
    "assume(z, 'real')\n",
    "\n",
    "c = var('c')\n",
    "assume(c, 'real')\n",
    "assume(c>0)\n",
    "\n",
    "omega = var('omega')\n",
    "assume(omega, 'real')\n",
    "\n",
    "good_conductor = True"
   ]
  },
  {
   "cell_type": "code",
   "execution_count": 2,
   "metadata": {},
   "outputs": [],
   "source": [
    "p = var(\"p\") # angle of phase shift of A1_z\n",
    "# k = var(\"k\") # wave vector along x\n",
    "\n",
    "assume(a, \"real\")\n",
    "assume(p, \"real\")\n",
    "\n",
    "# assume(k, \"complex\")"
   ]
  },
  {
   "cell_type": "markdown",
   "metadata": {},
   "source": [
    "$$\\kappa^2 = \\epsilon \\mu \\frac{\\omega^2}{c^2} + i\\,\\omega\\,\\sigma\\,\\mu\\,\\frac{4\\pi}{c^2}$$"
   ]
  },
  {
   "cell_type": "code",
   "execution_count": 3,
   "metadata": {},
   "outputs": [
    {
     "name": "stdout",
     "output_type": "stream",
     "text": [
      "eq_kappa =\n"
     ]
    },
    {
     "data": {
      "text/latex": [
       "$\\displaystyle \\kappa^{2} = \\frac{4 i \\, \\pi \\mu \\omega \\sigma}{c}$"
      ],
      "text/plain": [
       "<IPython.core.display.Math object>"
      ]
     },
     "metadata": {},
     "output_type": "display_data"
    },
    {
     "name": "stdout",
     "output_type": "stream",
     "text": [
      "eq_kappa_inner_vacuum =\n"
     ]
    },
    {
     "data": {
      "text/latex": [
       "$\\displaystyle \\kappa_{\\mathit{vacuum}}^{2} = \\frac{\\omega^{2}}{c^{2}}$"
      ],
      "text/plain": [
       "<IPython.core.display.Math object>"
      ]
     },
     "metadata": {},
     "output_type": "display_data"
    }
   ],
   "source": [
    "# исходя из вида дифференциальных уравнений для вакуума внутри резонатора и проводящего металла с потерями\n",
    "# записываем соотнощения для волнового вектора в виде уравнений\n",
    "\n",
    "if good_conductor:\n",
    "    eq_kappa              = kappa^2 == I*omega*sigma*mu*4*pi/c\n",
    "else:\n",
    "    eq_kappa              = kappa^2 == mu * epsilon * omega^2 / c^2 + I*omega*sigma*mu*4*pi/c\n",
    "eq_kappa_inner_vacuum = kappa_vacuum^2 == omega^2 / c^2\n",
    "\n",
    "kappa_sol = solve(eq_kappa, kappa)[1]\n",
    "#kappa_vacuum_sol = omega / c\n",
    "\n",
    "print(\"eq_kappa =\")\n",
    "display(Math(latex(eq_kappa)))\n",
    "\n",
    "print(\"eq_kappa_inner_vacuum =\")\n",
    "display(Math(latex(eq_kappa_inner_vacuum)))"
   ]
  },
  {
   "cell_type": "code",
   "execution_count": null,
   "metadata": {},
   "outputs": [],
   "source": []
  },
  {
   "cell_type": "markdown",
   "metadata": {},
   "source": [
    "принимая модель комплексного представления диэлектрической проницаемости $\\epsilon' = \\epsilon + \\frac{4\\pi\\,\\sigma}{\\omega}\\,i$ (плохой проводник)"
   ]
  },
  {
   "cell_type": "code",
   "execution_count": 4,
   "metadata": {},
   "outputs": [],
   "source": [
    "if good_conductor:\n",
    "    epsilon_complex = + I * 4 * pi * sigma / omega\n",
    "else:\n",
    "    epsilon_complex = epsilon + I * 4 * pi * sigma / omega"
   ]
  },
  {
   "cell_type": "code",
   "execution_count": null,
   "metadata": {},
   "outputs": [],
   "source": []
  },
  {
   "cell_type": "markdown",
   "metadata": {},
   "source": [
    "приходим к\n",
    "\n",
    "$$\\frac{\\partial^{2}}{(\\partial {x})^{2}}\\vec{E}(x) + \\frac{\\partial^{2}}{(\\partial {y})^{2}}\\vec{E}(x) +  \\left(\\frac{\\mu \\omega^2}{c^2}\\epsilon + \\frac{\\mu \\omega^2}{c^2}\\frac{4\\pi\\,\\sigma}{\\omega}\\,i - {k'_z}^{2}\\right) = 0$$\n"
   ]
  },
  {
   "cell_type": "markdown",
   "metadata": {},
   "source": [
    "$${k'_z}^2=\\left(k_z + i\\,s_z \\right)^2 = k_z^2 - s_z^2 + 2\\,i\\,k_z\\,s_z$$"
   ]
  },
  {
   "cell_type": "markdown",
   "metadata": {},
   "source": []
  },
  {
   "cell_type": "code",
   "execution_count": 5,
   "metadata": {},
   "outputs": [],
   "source": [
    "k__y_subs = k__y == 0 #ky + I * sy"
   ]
  },
  {
   "cell_type": "code",
   "execution_count": 6,
   "metadata": {},
   "outputs": [],
   "source": [
    "k__z_subs = k__z == kz + I * sz"
   ]
  },
  {
   "cell_type": "code",
   "execution_count": null,
   "metadata": {},
   "outputs": [],
   "source": []
  },
  {
   "cell_type": "markdown",
   "metadata": {},
   "source": [
    "$$\\frac{\\partial^{2}}{(\\partial {x})^{2}}\\vec{E}(x) + \\frac{\\partial^{2}}{(\\partial {y})^{2}}\\vec{E}(x) + \\left(\\frac{\\mu \\epsilon \\omega^2}{c^2} - {k'_z}^2\\right)\\,\\vec{E}(x) - grad\\,div\\,\\vec{E} = 0$$"
   ]
  },
  {
   "cell_type": "markdown",
   "metadata": {},
   "source": [
    "зависимость поля от $y$ отсутствует"
   ]
  },
  {
   "cell_type": "markdown",
   "metadata": {},
   "source": [
    "$$\\frac{\\partial^{2}}{(\\partial {x})^{2}}\\vec{E}(x) + \\left(\\frac{\\mu \\epsilon \\omega^2}{c^2} - {k'_z}^2\\right)\\,\\vec{E}(x) - grad\\,div\\,\\vec{E} = 0$$"
   ]
  },
  {
   "cell_type": "code",
   "execution_count": 7,
   "metadata": {},
   "outputs": [
    {
     "name": "stdout",
     "output_type": "stream",
     "text": [
      "de_inner_vacuum =\n"
     ]
    },
    {
     "data": {
      "text/latex": [
       "$\\displaystyle -{\\left(k_{z}^{2} - \\kappa^{2}\\right)} E\\left(x\\right) + \\frac{\\partial^{2}}{(\\partial x)^{2}}E\\left(x\\right) = 0$"
      ],
      "text/plain": [
       "<IPython.core.display.Math object>"
      ]
     },
     "metadata": {},
     "output_type": "display_data"
    }
   ],
   "source": [
    "# решаем полученные обыкновенные дифференциальные уравнения\n",
    "E = function('E')(x)\n",
    "\n",
    "\n",
    "de_inner_vacuum = diff (E, x, 2) + diff (E, y, 2) + (kappa^2 - k_z^2) * E == 0\n",
    "# diff (E, y, 2) == 0\n",
    "de_inner_vacuum = diff (E, x, 2) + (kappa^2 - k_z^2) * E == 0\n",
    "# получая таким образом выражения для электрического поля в вакуума внутри резонатора и внутри проводящего металла с потерями\n",
    "print(\"de_inner_vacuum =\")\n",
    "display(Math(latex(de_inner_vacuum)))"
   ]
  },
  {
   "cell_type": "code",
   "execution_count": 8,
   "metadata": {},
   "outputs": [
    {
     "name": "stdout",
     "output_type": "stream",
     "text": [
      "E_inner_vacuum =\n"
     ]
    },
    {
     "data": {
      "text/latex": [
       "$\\displaystyle K_{1} e^{\\left(i \\, \\sqrt{-k_{z}^{2} + \\kappa^{2}} x\\right)} + K_{2} e^{\\left(-i \\, \\sqrt{-k_{z}^{2} + \\kappa^{2}} x\\right)}$"
      ],
      "text/plain": [
       "<IPython.core.display.Math object>"
      ]
     },
     "metadata": {},
     "output_type": "display_data"
    }
   ],
   "source": [
    "assume(k_z^2-kappa^2 > 0)\n",
    "\n",
    "E_inner_vacuum = desolve(de_inner_vacuum, E, ivar = x)\n",
    "#E_inner_vacuum = desolve(de_inner_vacuum, E, ivar = [x, y], contrib_ode = True)\n",
    "\n",
    "# получая таким образом выражения для электрического поля в вакуума внутри резонатора и внутри проводящего металла с потерями\n",
    "print(\"E_inner_vacuum =\")\n",
    "display(Math(latex(E_inner_vacuum)))"
   ]
  },
  {
   "cell_type": "code",
   "execution_count": 9,
   "metadata": {},
   "outputs": [],
   "source": [
    "# eq_kx_vacuum = k_x = I*sqrt(kappa_vacuum^2-k_z^2)\n",
    "# eq_kx        = k_x = I*sqrt(kappa^2-k_z^2)"
   ]
  },
  {
   "cell_type": "code",
   "execution_count": null,
   "metadata": {},
   "outputs": [],
   "source": []
  },
  {
   "cell_type": "code",
   "execution_count": 10,
   "metadata": {},
   "outputs": [],
   "source": [
    "B1_x = var ('B1_x')\n",
    "B2_x = var ('B2_x')\n",
    "\n",
    "A1_x = var ('A1_x')\n",
    "A2_x = var ('A2_x')\n",
    "\n",
    "\n",
    "B1_y = var ('B1_y')\n",
    "B2_y = var ('B2_y')\n",
    "\n",
    "A1_y = var ('A1_y')\n",
    "A2_y = var ('A2_y')\n",
    "\n",
    "\n",
    "B1_z = var ('B1_z')\n",
    "B2_z = var ('B2_z')\n",
    "\n",
    "A1_z = var ('A1_z')\n",
    "A2_z = var ('A2_z')\n",
    "\n",
    "A1_x_re, A1_y_re, A1_z_re = var(\"A1_x_re, A1_y_re, A1_z_re\")\n",
    "A1_x_im, A1_y_im, A1_z_im = var(\"A1_x_im, A1_y_im, A1_z_im\")\n",
    "\n",
    "A2_x_re, A2_y_re, A2_z_re = var(\"A2_x_re, A2_y_re, A2_z_re\")\n",
    "A2_x_im, A2_y_im, A2_z_im = var(\"A2_x_im, A2_y_im, A2_z_im\")\n",
    "\n",
    "B1_x_re, B1_y_re, B1_z_re = var(\"B1_x_re, B1_y_re, B1_z_re\")\n",
    "B1_x_im, B1_y_im, B1_z_im = var(\"B1_x_im, B1_y_im, B1_z_im\")\n",
    "\n",
    "\n",
    "assume(A1_x_re, \"real\")\n",
    "assume(A1_x_im, \"real\")\n",
    "\n",
    "assume(A2_x_re, \"real\")\n",
    "assume(A2_x_im, \"real\")\n",
    "\n",
    "assume(A1_y_re, \"real\")\n",
    "assume(A1_y_im, \"real\")\n",
    "\n",
    "assume(A2_y_re, \"real\")\n",
    "assume(A2_y_im, \"real\")\n",
    "\n",
    "assume(A1_z_re, \"real\")\n",
    "assume(A1_z_im, \"real\")\n",
    "\n",
    "assume(A2_z_re, \"real\")\n",
    "assume(A2_z_im, \"real\")\n",
    "\n",
    "\n",
    "assume(B1_x_re, \"real\")\n",
    "assume(B1_x_im, \"real\")\n",
    "\n",
    "assume(B1_y_re, \"real\")\n",
    "assume(B1_y_im, \"real\")\n",
    "\n",
    "assume(B1_z_re, \"real\")\n",
    "assume(B1_z_im, \"real\")"
   ]
  },
  {
   "cell_type": "code",
   "execution_count": 11,
   "metadata": {},
   "outputs": [],
   "source": [
    "A1_x_re_im_subs = A1_x == A1_x_re + I * A1_x_im\n",
    "A2_x_re_im_subs = A2_x == A2_x_re + I * A2_x_im\n",
    "\n",
    "A1_y_re_im_subs = A1_y == A1_y_re + I * A1_y_im\n",
    "A2_y_re_im_subs = A2_y == A2_y_re + I * A2_y_im\n",
    "\n",
    "A1_z_re_im_subs = A1_z == A1_z_re + I * A1_z_im\n",
    "A2_z_re_im_subs = A2_z == A2_z_re + I * A2_z_im\n",
    "\n",
    "B1_x_re_im_subs = B1_x == B1_x_re + I * B1_x_im\n",
    "B1_y_re_im_subs = B1_y == B1_y_re + I * B1_y_im\n",
    "B1_z_re_im_subs = B1_z == B1_z_re + I * B1_z_im"
   ]
  },
  {
   "cell_type": "code",
   "execution_count": 12,
   "metadata": {},
   "outputs": [],
   "source": [
    "# 2D\n",
    "# отсутсвие изменения поля вдоль оси y\n",
    "set_Ey_0 = False"
   ]
  },
  {
   "cell_type": "code",
   "execution_count": 13,
   "metadata": {},
   "outputs": [],
   "source": [
    "if set_Ey_0:\n",
    "    B1_y = 0\n",
    "    B2_y = 0\n",
    "\n",
    "    A1_y = 0\n",
    "    A2_y = 0\n",
    "\n",
    "    ky   = 0"
   ]
  },
  {
   "cell_type": "code",
   "execution_count": 14,
   "metadata": {},
   "outputs": [],
   "source": [
    "# K_vacuum = sqrt(kappa_vacuum^2-k_z^2)\n",
    "# K_conductor = sqrt(kappa^2-k_z^2)\n",
    "\n",
    "K_vacuum    = var(\"K_vacuum\")\n",
    "K_conductor = var(\"K_conductor\")"
   ]
  },
  {
   "cell_type": "code",
   "execution_count": 15,
   "metadata": {},
   "outputs": [
    {
     "name": "stdout",
     "output_type": "stream",
     "text": [
      "E_inner_vacuum_sol_z (x) \n"
     ]
    },
    {
     "data": {
      "text/latex": [
       "$\\displaystyle \\mathit{A2}_{z} e^{\\left(i \\, K_{\\mathit{vacuum}} x\\right)} + \\mathit{A1}_{z} e^{\\left(-i \\, K_{\\mathit{vacuum}} x\\right)}$"
      ],
      "text/plain": [
       "<IPython.core.display.Math object>"
      ]
     },
     "metadata": {},
     "output_type": "display_data"
    },
    {
     "name": "stdout",
     "output_type": "stream",
     "text": [
      "E_inner_vacuum_sol_x (x) =\n"
     ]
    },
    {
     "data": {
      "text/latex": [
       "$\\displaystyle \\mathit{A2}_{x} e^{\\left(i \\, K_{\\mathit{vacuum}} x\\right)} + \\mathit{A1}_{x} e^{\\left(-i \\, K_{\\mathit{vacuum}} x\\right)}$"
      ],
      "text/plain": [
       "<IPython.core.display.Math object>"
      ]
     },
     "metadata": {},
     "output_type": "display_data"
    },
    {
     "name": "stdout",
     "output_type": "stream",
     "text": [
      "E_inner_vacuum_sol_y (x) =\n"
     ]
    },
    {
     "data": {
      "text/latex": [
       "$\\displaystyle \\mathit{A2}_{y} e^{\\left(i \\, K_{\\mathit{vacuum}} x\\right)} + \\mathit{A1}_{y} e^{\\left(-i \\, K_{\\mathit{vacuum}} x\\right)}$"
      ],
      "text/plain": [
       "<IPython.core.display.Math object>"
      ]
     },
     "metadata": {},
     "output_type": "display_data"
    }
   ],
   "source": [
    "if False:\n",
    "    # выражения для электрического поля\n",
    "    # в вакууме внутри резонатора\n",
    "    E_inner_vacuum_z (x) = (A1_z_re*cos(sqrt(kappa_vacuum^2-k_z^2)*x) + A1_z_im*sin(sqrt(kappa_vacuum^2-k_z^2)*x))\n",
    "    E_inner_vacuum_x (x) = (A1_x_re*cos(sqrt(kappa_vacuum^2-k_z^2)*x) + A1_x_im*sin(sqrt(kappa_vacuum^2-k_z^2)*x))\n",
    "    E_inner_vacuum_y (x) = (A1_y_re*cos(sqrt(kappa_vacuum^2-k_z^2)*x) + A1_y_im*sin(sqrt(kappa_vacuum^2-k_z^2)*x))\n",
    "\n",
    "    # знак перед корнем будем выбирать всегда так чтобы корень имел положительную мнимую часть\n",
    "    E_inner_vacuum_z (x) = (A1_z*exp(- I * sqrt(kappa_vacuum^2-k_z^2)*x))\n",
    "    E_inner_vacuum_x (x) = (A1_x*exp(- I * sqrt(kappa_vacuum^2-k_z^2)*x))\n",
    "    E_inner_vacuum_y (x) = (A1_y*exp(- I * sqrt(kappa_vacuum^2-k_z^2)*x))\n",
    "\n",
    "    print (\"E_inner_vacuum_z \")\n",
    "    display(Math(latex(E_inner_vacuum_z)))\n",
    "    print (\"E_inner_vacuum_x =\")\n",
    "    display(Math(latex(E_inner_vacuum_x)))\n",
    "    print (\"E_inner_vacuum_y =\")\n",
    "    display(Math(latex(E_inner_vacuum_y)))\n",
    "else:\n",
    "    # знак перед корнем (K_vacuum) будем выбирать всегда так чтобы корень имел положительную мнимую часть\n",
    "    E_inner_vacuum_sol_z (x) = A1_z*exp(- I * K_vacuum*x) + A2_z*exp( I * K_vacuum*x)\n",
    "    E_inner_vacuum_sol_x (x) = A1_x*exp(- I * K_vacuum*x) + A2_x*exp( I * K_vacuum*x)\n",
    "    E_inner_vacuum_sol_y (x) = A1_y*exp(- I * K_vacuum*x) + A2_y*exp( I * K_vacuum*x)\n",
    "\n",
    "    E_inner_vacuum_z = function(\"E_inner_vacuum_z\")\n",
    "    E_inner_vacuum_x = function(\"E_inner_vacuum_x\")\n",
    "    E_inner_vacuum_y = function(\"E_inner_vacuum_y\")\n",
    "\n",
    "\n",
    "\n",
    "print (\"E_inner_vacuum_sol_z (x) \")\n",
    "display(Math(latex(E_inner_vacuum_sol_z (x))))\n",
    "print (\"E_inner_vacuum_sol_x (x) =\")\n",
    "display(Math(latex(E_inner_vacuum_sol_x (x))))\n",
    "print (\"E_inner_vacuum_sol_y (x) =\")\n",
    "display(Math(latex(E_inner_vacuum_sol_y (x))))"
   ]
  },
  {
   "cell_type": "markdown",
   "metadata": {},
   "source": [
    "решение для проводящего металла с потерями\n",
    "\n",
    "$\\vec{E} = \\vec{E}\\,e^{i\\,k_x'\\,x}\\,e^{i\\,k_z\\,z}\\,e^{-i\\,\\omega\\,t}$\n",
    "\n",
    "$k_x' = k_x + i\\,s_x$\n",
    "\n",
    "$\\vec{E} = \\vec{E}\\,e^{-s_x\\,x}\\,e^{i\\,k_x\\,x}\\,e^{i\\,k_z\\,z}\\,e^{-i\\,\\omega\\,t}$"
   ]
  },
  {
   "cell_type": "code",
   "execution_count": 16,
   "metadata": {},
   "outputs": [
    {
     "name": "stdout",
     "output_type": "stream",
     "text": [
      "E_bad_conductor_sol_z (x) \n"
     ]
    },
    {
     "data": {
      "text/latex": [
       "$\\displaystyle \\mathit{B1}_{z} e^{\\left(i \\, K_{\\mathit{conductor}} x\\right)}$"
      ],
      "text/plain": [
       "<IPython.core.display.Math object>"
      ]
     },
     "metadata": {},
     "output_type": "display_data"
    },
    {
     "name": "stdout",
     "output_type": "stream",
     "text": [
      "E_bad_conductor_sol_x (x) =\n"
     ]
    },
    {
     "data": {
      "text/latex": [
       "$\\displaystyle \\mathit{B1}_{x} e^{\\left(i \\, K_{\\mathit{conductor}} x\\right)}$"
      ],
      "text/plain": [
       "<IPython.core.display.Math object>"
      ]
     },
     "metadata": {},
     "output_type": "display_data"
    },
    {
     "name": "stdout",
     "output_type": "stream",
     "text": [
      "E_bad_conductor_sol_y (x) =\n"
     ]
    },
    {
     "data": {
      "text/latex": [
       "$\\displaystyle \\mathit{B1}_{y} e^{\\left(i \\, K_{\\mathit{conductor}} x\\right)}$"
      ],
      "text/plain": [
       "<IPython.core.display.Math object>"
      ]
     },
     "metadata": {},
     "output_type": "display_data"
    }
   ],
   "source": [
    "if False:\n",
    "    # x > a-{k'_x}^{2}-{k'_y}^{2} +\n",
    "    # в проводящем металле с потерями\n",
    "    #if True:\n",
    "    #    E_bad_conductor_z (x) = A2_z * e^(-sx*x) * e^(I*kx*x)\n",
    "    #    E_bad_conductor_x (x) = A2_x * e^(-sx*x) * e^(I*kx*x)\n",
    "    #    E_bad_conductor_y (x) = A2_y * e^(-sx*x) * e^(I*kx*x)\n",
    "    #else:\n",
    "    #    E_bad_conductor_z (x) = A2_z * e^(-sx*(x-a)) * e^(I*kx*(x-a))\n",
    "    #    E_bad_conductor_x (x) = A2_x * e^(-sx*(x-a)) * e^(I*kx*(x-a))\n",
    "    #    E_bad_conductor_y (x) = A2_y * e^(-sx*(x-a)) * e^(I*kx*(x-a))\n",
    "\n",
    "    E_bad_conductor_z (x) = B1_z*cos(sqrt(kappa^2-k_z^2)*x) + B2_z*sin(sqrt(kappa^2-k_z^2)*x)\n",
    "    E_bad_conductor_x (x) = B1_x*cos(sqrt(kappa^2-k_z^2)*x) + B2_x*sin(sqrt(kappa^2-k_z^2)*x)\n",
    "    E_bad_conductor_y (x) = B1_y*cos(sqrt(kappa^2-k_z^2)*x) + B2_y*sin(sqrt(kappa^2-k_z^2)*x)\n",
    "\n",
    "    print (\"E_bad_conductor_z \")\n",
    "    display(Math(latex(E_bad_conductor_z)))\n",
    "    print (\"E_bad_conductor_x =\")\n",
    "    display(Math(latex(E_bad_conductor_x)))\n",
    "    print (\"E_bad_conductor_y =\")\n",
    "    display(Math(latex(E_bad_conductor_y)))\n",
    "else:\n",
    "    # знак перед корнем будем выбирать всегда так чтобы корень имел положительную мнимую часть\n",
    "    E_bad_conductor_sol_z (x) = B1_z*exp(I * K_conductor*x)\n",
    "    E_bad_conductor_sol_x (x) = B1_x*exp(I * K_conductor*x)\n",
    "    E_bad_conductor_sol_y (x) = B1_y*exp(I * K_conductor*x)\n",
    "\n",
    "    E_bad_conductor_z = function(\"E_bad_conductor_z\")\n",
    "    E_bad_conductor_x = function(\"E_bad_conductor_x\")\n",
    "    E_bad_conductor_y = function(\"E_bad_conductor_y\")\n",
    "\n",
    "\n",
    "print (\"E_bad_conductor_sol_z (x) \")\n",
    "display(Math(latex(E_bad_conductor_sol_z (x))))\n",
    "print (\"E_bad_conductor_sol_x (x) =\")\n",
    "display(Math(latex(E_bad_conductor_sol_x (x))))\n",
    "print (\"E_bad_conductor_sol_y (x) =\")\n",
    "display(Math(latex(E_bad_conductor_sol_y (x))))"
   ]
  },
  {
   "cell_type": "code",
   "execution_count": 17,
   "metadata": {},
   "outputs": [
    {
     "name": "stdout",
     "output_type": "stream",
     "text": [
      "H_inner_vacuum_s_y \n"
     ]
    },
    {
     "data": {
      "text/latex": [
       "$\\displaystyle x \\ {\\mapsto}\\ -\\frac{i \\, {\\left(i \\, k_{z} E_{{\\rm inner}_{{\\rm vacuum}_{x}}}\\left(x\\right) - \\frac{\\partial}{\\partial x}E_{{\\rm inner}_{{\\rm vacuum}_{z}}}\\left(x\\right)\\right)} c}{\\omega}$"
      ],
      "text/plain": [
       "<IPython.core.display.Math object>"
      ]
     },
     "metadata": {},
     "output_type": "display_data"
    },
    {
     "name": "stdout",
     "output_type": "stream",
     "text": [
      "H_bad_conductor_s_y =\n"
     ]
    },
    {
     "data": {
      "text/latex": [
       "$\\displaystyle x \\ {\\mapsto}\\ -\\frac{i \\, {\\left(i \\, k_{z} E_{{\\rm bad}_{{\\rm conductor}_{x}}}\\left(x\\right) - \\frac{\\partial}{\\partial x}E_{{\\rm bad}_{{\\rm conductor}_{z}}}\\left(x\\right)\\right)} c}{\\mu \\omega}$"
      ],
      "text/plain": [
       "<IPython.core.display.Math object>"
      ]
     },
     "metadata": {},
     "output_type": "display_data"
    },
    {
     "name": "stdout",
     "output_type": "stream",
     "text": [
      "H_inner_vacuum_sol_y (x) \n"
     ]
    },
    {
     "data": {
      "text/latex": [
       "$\\displaystyle -\\frac{i \\, {\\left(-i \\, \\mathit{A2}_{z} K_{\\mathit{vacuum}} e^{\\left(i \\, K_{\\mathit{vacuum}} x\\right)} + i \\, \\mathit{A1}_{z} K_{\\mathit{vacuum}} e^{\\left(-i \\, K_{\\mathit{vacuum}} x\\right)} + i \\, {\\left(\\mathit{A2}_{x} e^{\\left(i \\, K_{\\mathit{vacuum}} x\\right)} + \\mathit{A1}_{x} e^{\\left(-i \\, K_{\\mathit{vacuum}} x\\right)}\\right)} k_{z}\\right)} c}{\\omega}$"
      ],
      "text/plain": [
       "<IPython.core.display.Math object>"
      ]
     },
     "metadata": {},
     "output_type": "display_data"
    },
    {
     "name": "stdout",
     "output_type": "stream",
     "text": [
      "H_bad_conductor_sol_y (x) =\n"
     ]
    },
    {
     "data": {
      "text/latex": [
       "$\\displaystyle -\\frac{i \\, {\\left(-i \\, \\mathit{B1}_{z} K_{\\mathit{conductor}} e^{\\left(i \\, K_{\\mathit{conductor}} x\\right)} + i \\, \\mathit{B1}_{x} k_{z} e^{\\left(i \\, K_{\\mathit{conductor}} x\\right)}\\right)} c}{\\mu \\omega}$"
      ],
      "text/plain": [
       "<IPython.core.display.Math object>"
      ]
     },
     "metadata": {},
     "output_type": "display_data"
    }
   ],
   "source": [
    "# выражения для магнитного поля в вакууме внутри резонатора и в проводящем металле с потерями\n",
    "# rot E = -1/c dB/dt\n",
    "# H_y = c / (I * omega * mu) * (diff(E_x, z) - diff(E_z, x))\n",
    "\n",
    "# H_inner_vacuum_y  (x) = c / (I * omega)      * (I*k_z*E_inner_vacuum_x  (x) - diff(E_inner_vacuum_z  (x), x))\n",
    "# H_bad_conductor_y (x) = c / (I * omega * mu) * (I*k_z*E_bad_conductor_x (x) - diff(E_bad_conductor_z (x), x))\n",
    "\n",
    "H_inner_vacuum_y  = c/(I*omega)   *(I*k_z*E_inner_vacuum_x (x) - diff(E_inner_vacuum_z (x), x))\n",
    "H_bad_conductor_y = c/(I*omega*mu)*(I*k_z*E_bad_conductor_x(x) - diff(E_bad_conductor_z(x), x))\n",
    "\n",
    "H_inner_vacuum_f_y  = function(\"H_inner_vacuum_f_y\")\n",
    "H_bad_conductor_f_y = function(\"H_bad_conductor_f_y\")\n",
    "\n",
    "H_inner_vacuum_y  = var(\"H_inner_vacuum_y\")\n",
    "H_bad_conductor_y = var(\"H_bad_conductor_y\")\n",
    "\n",
    "H_inner_vacuum_s_y  (x) = c/(I*omega)   *(I*k_z*E_inner_vacuum_x (x) - diff(E_inner_vacuum_z (x), x))\n",
    "H_bad_conductor_s_y (x) = c/(I*omega*mu)*(I*k_z*E_bad_conductor_x(x) - diff(E_bad_conductor_z(x), x))\n",
    "\n",
    "H_inner_vacuum_sol_y  (x) = c/(I*omega)   *(I*k_z*E_inner_vacuum_sol_x (x) - diff(E_inner_vacuum_sol_z (x), x))\n",
    "H_bad_conductor_sol_y (x) = c/(I*omega*mu)*(I*k_z*E_bad_conductor_sol_x(x) - diff(E_bad_conductor_sol_z(x), x))\n",
    "\n",
    "print (\"H_inner_vacuum_s_y \")\n",
    "display(Math(latex(H_inner_vacuum_s_y.simplify())))\n",
    "print (\"H_bad_conductor_s_y =\")\n",
    "display(Math(latex(H_bad_conductor_s_y)))\n",
    "\n",
    "print (\"H_inner_vacuum_sol_y (x) \")\n",
    "display(Math(latex(H_inner_vacuum_sol_y (x).simplify())))\n",
    "print (\"H_bad_conductor_sol_y (x) =\")\n",
    "display(Math(latex(H_bad_conductor_sol_y (x))))"
   ]
  },
  {
   "cell_type": "code",
   "execution_count": 18,
   "metadata": {},
   "outputs": [
    {
     "name": "stdout",
     "output_type": "stream",
     "text": [
      "H_inner_vacuum_s_x \n"
     ]
    },
    {
     "data": {
      "text/latex": [
       "$\\displaystyle x \\ {\\mapsto}\\ -\\frac{i \\, {\\left(-i \\, k_{z} E_{{\\rm inner}_{{\\rm vacuum}_{y}}}\\left(x\\right) + i \\, k_{y} E_{{\\rm inner}_{{\\rm vacuum}_{z}}}\\left(x\\right)\\right)} c}{\\omega}$"
      ],
      "text/plain": [
       "<IPython.core.display.Math object>"
      ]
     },
     "metadata": {},
     "output_type": "display_data"
    },
    {
     "name": "stdout",
     "output_type": "stream",
     "text": [
      "H_bad_conductor_s_x (x) =\n"
     ]
    },
    {
     "data": {
      "text/latex": [
       "$\\displaystyle x \\ {\\mapsto}\\ -\\frac{i \\, {\\left(-i \\, k_{z} E_{{\\rm bad}_{{\\rm conductor}_{y}}}\\left(x\\right) + i \\, k_{y} E_{{\\rm bad}_{{\\rm conductor}_{z}}}\\left(x\\right)\\right)} c}{\\mu \\omega}$"
      ],
      "text/plain": [
       "<IPython.core.display.Math object>"
      ]
     },
     "metadata": {},
     "output_type": "display_data"
    },
    {
     "name": "stdout",
     "output_type": "stream",
     "text": [
      "H_inner_vacuum_sol_x (x) \n"
     ]
    },
    {
     "data": {
      "text/latex": [
       "$\\displaystyle -\\frac{i \\, {\\left(i \\, {\\left(\\mathit{A2}_{z} e^{\\left(i \\, K_{\\mathit{vacuum}} x\\right)} + \\mathit{A1}_{z} e^{\\left(-i \\, K_{\\mathit{vacuum}} x\\right)}\\right)} k_{y} - i \\, {\\left(\\mathit{A2}_{y} e^{\\left(i \\, K_{\\mathit{vacuum}} x\\right)} + \\mathit{A1}_{y} e^{\\left(-i \\, K_{\\mathit{vacuum}} x\\right)}\\right)} k_{z}\\right)} c}{\\omega}$"
      ],
      "text/plain": [
       "<IPython.core.display.Math object>"
      ]
     },
     "metadata": {},
     "output_type": "display_data"
    },
    {
     "name": "stdout",
     "output_type": "stream",
     "text": [
      "H_bad_conductor_sol_x (x) =\n"
     ]
    },
    {
     "data": {
      "text/latex": [
       "$\\displaystyle -\\frac{i \\, {\\left(i \\, \\mathit{B1}_{z} k_{y} e^{\\left(i \\, K_{\\mathit{conductor}} x\\right)} - i \\, \\mathit{B1}_{y} k_{z} e^{\\left(i \\, K_{\\mathit{conductor}} x\\right)}\\right)} c}{\\mu \\omega}$"
      ],
      "text/plain": [
       "<IPython.core.display.Math object>"
      ]
     },
     "metadata": {},
     "output_type": "display_data"
    }
   ],
   "source": [
    "# выражения для магнитного поля в вакууме внутри резонатора и в проводящем металле с потерями\n",
    "# rot E = -1/c dB/dt\n",
    "# H_x = c / (I * omega * mu) * (diff(E_z, y) - diff(E_y, z))\n",
    "\n",
    "H_inner_vacuum_f_x  = function(\"H_inner_vacuum_f_x\")\n",
    "H_bad_conductor_f_x = function(\"H_bad_conductor_f_x\")\n",
    "\n",
    "H_inner_vacuum_x  = var(\"H_inner_vacuum_x\")\n",
    "H_bad_conductor_x = var(\"H_bad_conductor_x\")\n",
    "\n",
    "H_inner_vacuum_s_x(x)  = c/(I*omega)   *(I*k_y*E_inner_vacuum_z (x) - I*k_z*E_inner_vacuum_y (x))\n",
    "H_bad_conductor_s_x(x) = c/(I*omega*mu)*(I*k_y*E_bad_conductor_z(x) - I*k_z*E_bad_conductor_y(x))\n",
    "\n",
    "H_inner_vacuum_sol_x (x) = c/(I*omega)   *(I*k_y*E_inner_vacuum_sol_z (x) - I*k_z*E_inner_vacuum_sol_y (x))\n",
    "H_bad_conductor_sol_x(x) = c/(I*omega*mu)*(I*k_y*E_bad_conductor_sol_z(x) - I*k_z*E_bad_conductor_sol_y(x))\n",
    "\n",
    "print (\"H_inner_vacuum_s_x \")\n",
    "display(Math(latex(H_inner_vacuum_s_x.simplify())))\n",
    "print (\"H_bad_conductor_s_x (x) =\")\n",
    "display(Math(latex(H_bad_conductor_s_x)))\n",
    "\n",
    "print (\"H_inner_vacuum_sol_x (x) \")\n",
    "display(Math(latex(H_inner_vacuum_sol_x (x).simplify())))\n",
    "print (\"H_bad_conductor_sol_x (x) =\")\n",
    "display(Math(latex(H_bad_conductor_sol_x (x))))"
   ]
  },
  {
   "cell_type": "code",
   "execution_count": 19,
   "metadata": {},
   "outputs": [
    {
     "name": "stdout",
     "output_type": "stream",
     "text": [
      "H_inner_vacuum_s_z \n"
     ]
    },
    {
     "data": {
      "text/latex": [
       "$\\displaystyle x \\ {\\mapsto}\\ -\\frac{i \\, {\\left(-i \\, k_{y} E_{{\\rm inner}_{{\\rm vacuum}_{x}}}\\left(x\\right) + \\frac{\\partial}{\\partial x}E_{{\\rm inner}_{{\\rm vacuum}_{y}}}\\left(x\\right)\\right)} c}{\\omega}$"
      ],
      "text/plain": [
       "<IPython.core.display.Math object>"
      ]
     },
     "metadata": {},
     "output_type": "display_data"
    },
    {
     "name": "stdout",
     "output_type": "stream",
     "text": [
      "H_bad_conductor_s_z =\n"
     ]
    },
    {
     "data": {
      "text/latex": [
       "$\\displaystyle x \\ {\\mapsto}\\ -\\frac{i \\, {\\left(-i \\, k_{y} E_{{\\rm bad}_{{\\rm conductor}_{x}}}\\left(x\\right) + \\frac{\\partial}{\\partial x}E_{{\\rm bad}_{{\\rm conductor}_{y}}}\\left(x\\right)\\right)} c}{\\mu \\omega}$"
      ],
      "text/plain": [
       "<IPython.core.display.Math object>"
      ]
     },
     "metadata": {},
     "output_type": "display_data"
    },
    {
     "name": "stdout",
     "output_type": "stream",
     "text": [
      "H_inner_vacuum_sol_z (x) \n"
     ]
    },
    {
     "data": {
      "text/latex": [
       "$\\displaystyle -\\frac{i \\, {\\left(i \\, \\mathit{A2}_{y} K_{\\mathit{vacuum}} e^{\\left(i \\, K_{\\mathit{vacuum}} x\\right)} - i \\, \\mathit{A1}_{y} K_{\\mathit{vacuum}} e^{\\left(-i \\, K_{\\mathit{vacuum}} x\\right)} - i \\, {\\left(\\mathit{A2}_{x} e^{\\left(i \\, K_{\\mathit{vacuum}} x\\right)} + \\mathit{A1}_{x} e^{\\left(-i \\, K_{\\mathit{vacuum}} x\\right)}\\right)} k_{y}\\right)} c}{\\omega}$"
      ],
      "text/plain": [
       "<IPython.core.display.Math object>"
      ]
     },
     "metadata": {},
     "output_type": "display_data"
    },
    {
     "name": "stdout",
     "output_type": "stream",
     "text": [
      "H_bad_conductor_sol_z (x) =\n"
     ]
    },
    {
     "data": {
      "text/latex": [
       "$\\displaystyle -\\frac{i \\, {\\left(i \\, \\mathit{B1}_{y} K_{\\mathit{conductor}} e^{\\left(i \\, K_{\\mathit{conductor}} x\\right)} - i \\, \\mathit{B1}_{x} k_{y} e^{\\left(i \\, K_{\\mathit{conductor}} x\\right)}\\right)} c}{\\mu \\omega}$"
      ],
      "text/plain": [
       "<IPython.core.display.Math object>"
      ]
     },
     "metadata": {},
     "output_type": "display_data"
    }
   ],
   "source": [
    "# выражения для магнитного поля в вакууме внутри резонатора и в проводящем металле с потерями\n",
    "# rot E = -1/c dB/dt\n",
    "# H_z = c / (I * omega * mu) * (diff(E_y, x) - diff(E_x, y))\n",
    "\n",
    "H_inner_vacuum_z  = c / (I*omega)   *(diff(E_inner_vacuum_y (x), x) - I*k_y*E_inner_vacuum_x (x))\n",
    "H_bad_conductor_z = c / (I*omega*mu)*(diff(E_bad_conductor_y(x), x) - I*k_y*E_bad_conductor_x(x))\n",
    "\n",
    "H_inner_vacuum_f_z  = function(\"H_inner_vacuum_f_z\")\n",
    "H_bad_conductor_f_z = function(\"H_bad_conductor_f_z\")\n",
    "\n",
    "H_inner_vacuum_z  = var(\"H_inner_vacuum_z\")\n",
    "H_bad_conductor_z = var(\"H_bad_conductor_z\")\n",
    "\n",
    "H_inner_vacuum_s_z(x)  = c / (I*omega)   * (diff(E_inner_vacuum_y (x), x) - I*k_y*E_inner_vacuum_x (x))\n",
    "H_bad_conductor_s_z(x) = c / (I*omega*mu)*(diff(E_bad_conductor_y(x), x) - I*k_y*E_bad_conductor_x(x))\n",
    "\n",
    "H_inner_vacuum_sol_z  (x) = c / (I*omega)   *(diff(E_inner_vacuum_sol_y (x), x) - I*k_y*E_inner_vacuum_sol_x (x))\n",
    "H_bad_conductor_sol_z (x) = c / (I*omega*mu)*(diff(E_bad_conductor_sol_y(x), x) - I*k_y*E_bad_conductor_sol_x(x))\n",
    "\n",
    "print (\"H_inner_vacuum_s_z \")\n",
    "display(Math(latex(H_inner_vacuum_s_z.simplify())))\n",
    "print (\"H_bad_conductor_s_z =\")\n",
    "display(Math(latex(H_bad_conductor_s_z)))\n",
    "\n",
    "print (\"H_inner_vacuum_sol_z (x) \")\n",
    "display(Math(latex(H_inner_vacuum_sol_z (x).simplify())))\n",
    "print (\"H_bad_conductor_sol_z (x) =\")\n",
    "display(Math(latex(H_bad_conductor_sol_z (x))))"
   ]
  },
  {
   "cell_type": "code",
   "execution_count": 20,
   "metadata": {},
   "outputs": [
    {
     "name": "stdout",
     "output_type": "stream",
     "text": [
      "rot_H_inner_vacuum_x =\n"
     ]
    },
    {
     "data": {
      "text/latex": [
       "$\\displaystyle -i \\, k_{z} H_{{\\rm inner}_{{\\rm vacuum}_{f_{y}}}}\\left(x\\right) + i \\, k_{y} H_{{\\rm inner}_{{\\rm vacuum}_{f_{z}}}}\\left(x\\right)$"
      ],
      "text/plain": [
       "<IPython.core.display.Math object>"
      ]
     },
     "metadata": {},
     "output_type": "display_data"
    },
    {
     "name": "stdout",
     "output_type": "stream",
     "text": [
      "rot_H_bad_conductor_x =\n"
     ]
    },
    {
     "data": {
      "text/latex": [
       "$\\displaystyle -i \\, k_{z} H_{{\\rm bad}_{{\\rm conductor}_{f_{y}}}}\\left(x\\right) + i \\, k_{y} H_{{\\rm bad}_{{\\rm conductor}_{f_{z}}}}\\left(x\\right)$"
      ],
      "text/plain": [
       "<IPython.core.display.Math object>"
      ]
     },
     "metadata": {},
     "output_type": "display_data"
    },
    {
     "name": "stdout",
     "output_type": "stream",
     "text": [
      "rot_H_inner_vacuum_y =\n"
     ]
    },
    {
     "data": {
      "text/latex": [
       "$\\displaystyle i \\, k_{z} H_{{\\rm inner}_{{\\rm vacuum}_{f_{x}}}}\\left(x\\right) - \\frac{\\partial}{\\partial x}H_{{\\rm inner}_{{\\rm vacuum}_{f_{z}}}}\\left(x\\right)$"
      ],
      "text/plain": [
       "<IPython.core.display.Math object>"
      ]
     },
     "metadata": {},
     "output_type": "display_data"
    },
    {
     "name": "stdout",
     "output_type": "stream",
     "text": [
      "rot_H_bad_conductor_y =\n"
     ]
    },
    {
     "data": {
      "text/latex": [
       "$\\displaystyle i \\, k_{z} H_{{\\rm bad}_{{\\rm conductor}_{f_{x}}}}\\left(x\\right) - \\frac{\\partial}{\\partial x}H_{{\\rm bad}_{{\\rm conductor}_{f_{z}}}}\\left(x\\right)$"
      ],
      "text/plain": [
       "<IPython.core.display.Math object>"
      ]
     },
     "metadata": {},
     "output_type": "display_data"
    },
    {
     "name": "stdout",
     "output_type": "stream",
     "text": [
      "rot_H_inner_vacuum_z =\n"
     ]
    },
    {
     "data": {
      "text/latex": [
       "$\\displaystyle -i \\, k_{y} H_{{\\rm inner}_{{\\rm vacuum}_{f_{x}}}}\\left(x\\right) + \\frac{\\partial}{\\partial x}H_{{\\rm inner}_{{\\rm vacuum}_{f_{y}}}}\\left(x\\right)$"
      ],
      "text/plain": [
       "<IPython.core.display.Math object>"
      ]
     },
     "metadata": {},
     "output_type": "display_data"
    },
    {
     "name": "stdout",
     "output_type": "stream",
     "text": [
      "rot_H_bad_conductor_z =\n"
     ]
    },
    {
     "data": {
      "text/latex": [
       "$\\displaystyle -i \\, k_{y} H_{{\\rm bad}_{{\\rm conductor}_{f_{x}}}}\\left(x\\right) + \\frac{\\partial}{\\partial x}H_{{\\rm bad}_{{\\rm conductor}_{f_{y}}}}\\left(x\\right)$"
      ],
      "text/plain": [
       "<IPython.core.display.Math object>"
      ]
     },
     "metadata": {},
     "output_type": "display_data"
    },
    {
     "name": "stdout",
     "output_type": "stream",
     "text": [
      "rot_H_inner_vacuum_s_x =\n"
     ]
    },
    {
     "data": {
      "text/latex": [
       "$\\displaystyle x \\ {\\mapsto}\\ \\frac{{\\left(-i \\, k_{y} E_{{\\rm inner}_{{\\rm vacuum}_{x}}}\\left(x\\right) + \\frac{\\partial}{\\partial x}E_{{\\rm inner}_{{\\rm vacuum}_{y}}}\\left(x\\right)\\right)} c k_{y}}{\\omega} - \\frac{{\\left(i \\, k_{z} E_{{\\rm inner}_{{\\rm vacuum}_{x}}}\\left(x\\right) - \\frac{\\partial}{\\partial x}E_{{\\rm inner}_{{\\rm vacuum}_{z}}}\\left(x\\right)\\right)} c k_{z}}{\\omega}$"
      ],
      "text/plain": [
       "<IPython.core.display.Math object>"
      ]
     },
     "metadata": {},
     "output_type": "display_data"
    },
    {
     "name": "stdout",
     "output_type": "stream",
     "text": [
      "rot_H_bad_conductor_s_x =\n"
     ]
    },
    {
     "data": {
      "text/latex": [
       "$\\displaystyle x \\ {\\mapsto}\\ \\frac{{\\left(-i \\, k_{y} E_{{\\rm bad}_{{\\rm conductor}_{x}}}\\left(x\\right) + \\frac{\\partial}{\\partial x}E_{{\\rm bad}_{{\\rm conductor}_{y}}}\\left(x\\right)\\right)} c k_{y}}{\\mu \\omega} - \\frac{{\\left(i \\, k_{z} E_{{\\rm bad}_{{\\rm conductor}_{x}}}\\left(x\\right) - \\frac{\\partial}{\\partial x}E_{{\\rm bad}_{{\\rm conductor}_{z}}}\\left(x\\right)\\right)} c k_{z}}{\\mu \\omega}$"
      ],
      "text/plain": [
       "<IPython.core.display.Math object>"
      ]
     },
     "metadata": {},
     "output_type": "display_data"
    },
    {
     "name": "stdout",
     "output_type": "stream",
     "text": [
      "rot_H_inner_vacuum_s_y =\n"
     ]
    },
    {
     "data": {
      "text/latex": [
       "$\\displaystyle x \\ {\\mapsto}\\ \\frac{{\\left(-i \\, k_{z} E_{{\\rm inner}_{{\\rm vacuum}_{y}}}\\left(x\\right) + i \\, k_{y} E_{{\\rm inner}_{{\\rm vacuum}_{z}}}\\left(x\\right)\\right)} c k_{z}}{\\omega} + \\frac{i \\, {\\left(-i \\, k_{y} \\frac{\\partial}{\\partial x}E_{{\\rm inner}_{{\\rm vacuum}_{x}}}\\left(x\\right) + \\frac{\\partial^{2}}{(\\partial x)^{2}}E_{{\\rm inner}_{{\\rm vacuum}_{y}}}\\left(x\\right)\\right)} c}{\\omega}$"
      ],
      "text/plain": [
       "<IPython.core.display.Math object>"
      ]
     },
     "metadata": {},
     "output_type": "display_data"
    },
    {
     "name": "stdout",
     "output_type": "stream",
     "text": [
      "rot_H_bad_conductor_s_y =\n"
     ]
    },
    {
     "data": {
      "text/latex": [
       "$\\displaystyle x \\ {\\mapsto}\\ \\frac{{\\left(-i \\, k_{z} E_{{\\rm bad}_{{\\rm conductor}_{y}}}\\left(x\\right) + i \\, k_{y} E_{{\\rm bad}_{{\\rm conductor}_{z}}}\\left(x\\right)\\right)} c k_{z}}{\\mu \\omega} + \\frac{i \\, {\\left(-i \\, k_{y} \\frac{\\partial}{\\partial x}E_{{\\rm bad}_{{\\rm conductor}_{x}}}\\left(x\\right) + \\frac{\\partial^{2}}{(\\partial x)^{2}}E_{{\\rm bad}_{{\\rm conductor}_{y}}}\\left(x\\right)\\right)} c}{\\mu \\omega}$"
      ],
      "text/plain": [
       "<IPython.core.display.Math object>"
      ]
     },
     "metadata": {},
     "output_type": "display_data"
    },
    {
     "name": "stdout",
     "output_type": "stream",
     "text": [
      "rot_H_inner_vacuum_s_z =\n"
     ]
    },
    {
     "data": {
      "text/latex": [
       "$\\displaystyle x \\ {\\mapsto}\\ -\\frac{{\\left(-i \\, k_{z} E_{{\\rm inner}_{{\\rm vacuum}_{y}}}\\left(x\\right) + i \\, k_{y} E_{{\\rm inner}_{{\\rm vacuum}_{z}}}\\left(x\\right)\\right)} c k_{y}}{\\omega} - \\frac{i \\, {\\left(i \\, k_{z} \\frac{\\partial}{\\partial x}E_{{\\rm inner}_{{\\rm vacuum}_{x}}}\\left(x\\right) - \\frac{\\partial^{2}}{(\\partial x)^{2}}E_{{\\rm inner}_{{\\rm vacuum}_{z}}}\\left(x\\right)\\right)} c}{\\omega}$"
      ],
      "text/plain": [
       "<IPython.core.display.Math object>"
      ]
     },
     "metadata": {},
     "output_type": "display_data"
    },
    {
     "name": "stdout",
     "output_type": "stream",
     "text": [
      "rot_H_bad_conductor_s_z =\n"
     ]
    },
    {
     "data": {
      "text/latex": [
       "$\\displaystyle x \\ {\\mapsto}\\ -\\frac{{\\left(-i \\, k_{z} E_{{\\rm bad}_{{\\rm conductor}_{y}}}\\left(x\\right) + i \\, k_{y} E_{{\\rm bad}_{{\\rm conductor}_{z}}}\\left(x\\right)\\right)} c k_{y}}{\\mu \\omega} - \\frac{i \\, {\\left(i \\, k_{z} \\frac{\\partial}{\\partial x}E_{{\\rm bad}_{{\\rm conductor}_{x}}}\\left(x\\right) - \\frac{\\partial^{2}}{(\\partial x)^{2}}E_{{\\rm bad}_{{\\rm conductor}_{z}}}\\left(x\\right)\\right)} c}{\\mu \\omega}$"
      ],
      "text/plain": [
       "<IPython.core.display.Math object>"
      ]
     },
     "metadata": {},
     "output_type": "display_data"
    },
    {
     "name": "stdout",
     "output_type": "stream",
     "text": [
      "rot_H_inner_vacuum_sol_x =\n"
     ]
    },
    {
     "data": {
      "text/latex": [
       "$\\displaystyle \\frac{{\\left(i \\, \\mathit{A2}_{y} K_{\\mathit{vacuum}} e^{\\left(i \\, K_{\\mathit{vacuum}} x\\right)} - i \\, \\mathit{A1}_{y} K_{\\mathit{vacuum}} e^{\\left(-i \\, K_{\\mathit{vacuum}} x\\right)} - i \\, {\\left(\\mathit{A2}_{x} e^{\\left(i \\, K_{\\mathit{vacuum}} x\\right)} + \\mathit{A1}_{x} e^{\\left(-i \\, K_{\\mathit{vacuum}} x\\right)}\\right)} k_{y}\\right)} c k_{y}}{\\omega} - \\frac{{\\left(-i \\, \\mathit{A2}_{z} K_{\\mathit{vacuum}} e^{\\left(i \\, K_{\\mathit{vacuum}} x\\right)} + i \\, \\mathit{A1}_{z} K_{\\mathit{vacuum}} e^{\\left(-i \\, K_{\\mathit{vacuum}} x\\right)} + i \\, {\\left(\\mathit{A2}_{x} e^{\\left(i \\, K_{\\mathit{vacuum}} x\\right)} + \\mathit{A1}_{x} e^{\\left(-i \\, K_{\\mathit{vacuum}} x\\right)}\\right)} k_{z}\\right)} c k_{z}}{\\omega}$"
      ],
      "text/plain": [
       "<IPython.core.display.Math object>"
      ]
     },
     "metadata": {},
     "output_type": "display_data"
    },
    {
     "name": "stdout",
     "output_type": "stream",
     "text": [
      "rot_H_bad_conductor_sol_x =\n"
     ]
    },
    {
     "data": {
      "text/latex": [
       "$\\displaystyle \\frac{{\\left(i \\, \\mathit{B1}_{y} K_{\\mathit{conductor}} e^{\\left(i \\, K_{\\mathit{conductor}} x\\right)} - i \\, \\mathit{B1}_{x} k_{y} e^{\\left(i \\, K_{\\mathit{conductor}} x\\right)}\\right)} c k_{y}}{\\mu \\omega} - \\frac{{\\left(-i \\, \\mathit{B1}_{z} K_{\\mathit{conductor}} e^{\\left(i \\, K_{\\mathit{conductor}} x\\right)} + i \\, \\mathit{B1}_{x} k_{z} e^{\\left(i \\, K_{\\mathit{conductor}} x\\right)}\\right)} c k_{z}}{\\mu \\omega}$"
      ],
      "text/plain": [
       "<IPython.core.display.Math object>"
      ]
     },
     "metadata": {},
     "output_type": "display_data"
    },
    {
     "name": "stdout",
     "output_type": "stream",
     "text": [
      "rot_H_inner_vacuum_sol_y =\n"
     ]
    },
    {
     "data": {
      "text/latex": [
       "$\\displaystyle \\frac{{\\left(i \\, {\\left(\\mathit{A2}_{z} e^{\\left(i \\, K_{\\mathit{vacuum}} x\\right)} + \\mathit{A1}_{z} e^{\\left(-i \\, K_{\\mathit{vacuum}} x\\right)}\\right)} k_{y} - i \\, {\\left(\\mathit{A2}_{y} e^{\\left(i \\, K_{\\mathit{vacuum}} x\\right)} + \\mathit{A1}_{y} e^{\\left(-i \\, K_{\\mathit{vacuum}} x\\right)}\\right)} k_{z}\\right)} c k_{z}}{\\omega} - \\frac{i \\, {\\left(\\mathit{A2}_{y} K_{\\mathit{vacuum}}^{2} e^{\\left(i \\, K_{\\mathit{vacuum}} x\\right)} + \\mathit{A1}_{y} K_{\\mathit{vacuum}}^{2} e^{\\left(-i \\, K_{\\mathit{vacuum}} x\\right)} + i \\, {\\left(i \\, \\mathit{A2}_{x} K_{\\mathit{vacuum}} e^{\\left(i \\, K_{\\mathit{vacuum}} x\\right)} - i \\, \\mathit{A1}_{x} K_{\\mathit{vacuum}} e^{\\left(-i \\, K_{\\mathit{vacuum}} x\\right)}\\right)} k_{y}\\right)} c}{\\omega}$"
      ],
      "text/plain": [
       "<IPython.core.display.Math object>"
      ]
     },
     "metadata": {},
     "output_type": "display_data"
    },
    {
     "name": "stdout",
     "output_type": "stream",
     "text": [
      "rot_H_bad_conductor_sol_y =\n"
     ]
    },
    {
     "data": {
      "text/latex": [
       "$\\displaystyle \\frac{{\\left(i \\, \\mathit{B1}_{z} k_{y} e^{\\left(i \\, K_{\\mathit{conductor}} x\\right)} - i \\, \\mathit{B1}_{y} k_{z} e^{\\left(i \\, K_{\\mathit{conductor}} x\\right)}\\right)} c k_{z}}{\\mu \\omega} - \\frac{i \\, {\\left(\\mathit{B1}_{y} K_{\\mathit{conductor}}^{2} e^{\\left(i \\, K_{\\mathit{conductor}} x\\right)} - \\mathit{B1}_{x} K_{\\mathit{conductor}} k_{y} e^{\\left(i \\, K_{\\mathit{conductor}} x\\right)}\\right)} c}{\\mu \\omega}$"
      ],
      "text/plain": [
       "<IPython.core.display.Math object>"
      ]
     },
     "metadata": {},
     "output_type": "display_data"
    },
    {
     "name": "stdout",
     "output_type": "stream",
     "text": [
      "rot_H_inner_vacuum_sol_z =\n"
     ]
    },
    {
     "data": {
      "text/latex": [
       "$\\displaystyle -\\frac{{\\left(i \\, {\\left(\\mathit{A2}_{z} e^{\\left(i \\, K_{\\mathit{vacuum}} x\\right)} + \\mathit{A1}_{z} e^{\\left(-i \\, K_{\\mathit{vacuum}} x\\right)}\\right)} k_{y} - i \\, {\\left(\\mathit{A2}_{y} e^{\\left(i \\, K_{\\mathit{vacuum}} x\\right)} + \\mathit{A1}_{y} e^{\\left(-i \\, K_{\\mathit{vacuum}} x\\right)}\\right)} k_{z}\\right)} c k_{y}}{\\omega} - \\frac{i \\, {\\left(\\mathit{A2}_{z} K_{\\mathit{vacuum}}^{2} e^{\\left(i \\, K_{\\mathit{vacuum}} x\\right)} + \\mathit{A1}_{z} K_{\\mathit{vacuum}}^{2} e^{\\left(-i \\, K_{\\mathit{vacuum}} x\\right)} + i \\, {\\left(i \\, \\mathit{A2}_{x} K_{\\mathit{vacuum}} e^{\\left(i \\, K_{\\mathit{vacuum}} x\\right)} - i \\, \\mathit{A1}_{x} K_{\\mathit{vacuum}} e^{\\left(-i \\, K_{\\mathit{vacuum}} x\\right)}\\right)} k_{z}\\right)} c}{\\omega}$"
      ],
      "text/plain": [
       "<IPython.core.display.Math object>"
      ]
     },
     "metadata": {},
     "output_type": "display_data"
    },
    {
     "name": "stdout",
     "output_type": "stream",
     "text": [
      "rot_H_bad_conductor_sol_z =\n"
     ]
    },
    {
     "data": {
      "text/latex": [
       "$\\displaystyle -\\frac{{\\left(i \\, \\mathit{B1}_{z} k_{y} e^{\\left(i \\, K_{\\mathit{conductor}} x\\right)} - i \\, \\mathit{B1}_{y} k_{z} e^{\\left(i \\, K_{\\mathit{conductor}} x\\right)}\\right)} c k_{y}}{\\mu \\omega} - \\frac{i \\, {\\left(\\mathit{B1}_{z} K_{\\mathit{conductor}}^{2} e^{\\left(i \\, K_{\\mathit{conductor}} x\\right)} - \\mathit{B1}_{x} K_{\\mathit{conductor}} k_{z} e^{\\left(i \\, K_{\\mathit{conductor}} x\\right)}\\right)} c}{\\mu \\omega}$"
      ],
      "text/plain": [
       "<IPython.core.display.Math object>"
      ]
     },
     "metadata": {},
     "output_type": "display_data"
    }
   ],
   "source": [
    "# уравнение Максвелла для тока смещения\n",
    "# rot_H   = - I * epsilon * omega / c * E\n",
    "# rot_H_x = diff(H_z, y) - diff(H_y, z)\n",
    "# rot_H_y = diff(H_x, z) - diff(H_z, x)\n",
    "# rot_H_z = diff(H_y, x) - diff(H_x, y)\n",
    "\n",
    "# rot_H_x = diff(H_z, y) - diff(H_y, z)\n",
    "rot_H_inner_vacuum_x  = I*k_y*H_inner_vacuum_f_z(x)  - I*k_z*H_inner_vacuum_f_y(x)\n",
    "rot_H_bad_conductor_x = I*k_y*H_bad_conductor_f_z(x) - I*k_z*H_bad_conductor_f_y(x)\n",
    "\n",
    "# rot_H_y = diff(H_x, z) - diff(H_z, x)\n",
    "rot_H_inner_vacuum_y  = I*k_z*H_inner_vacuum_f_x(x)  - diff(H_inner_vacuum_f_z(x), x)\n",
    "rot_H_bad_conductor_y = I*k_z*H_bad_conductor_f_x(x) - diff(H_bad_conductor_f_z(x), x)\n",
    "\n",
    "# rot_H_z = diff(H_y, x) - diff(H_x, y)\n",
    "rot_H_inner_vacuum_z  = diff(H_inner_vacuum_f_y(x) , x) - I*k_y*H_inner_vacuum_f_x(x)\n",
    "rot_H_bad_conductor_z = diff(H_bad_conductor_f_y(x), x) - I*k_y*H_bad_conductor_f_x(x)\n",
    "\n",
    "# rot_H_x = diff(H_z, y) - diff(H_y, z)\n",
    "rot_H_inner_vacuum_s_x  = I*k_y*H_inner_vacuum_s_z  - I*k_z*H_inner_vacuum_s_y\n",
    "rot_H_bad_conductor_s_x = I*k_y*H_bad_conductor_s_z - I*k_z*H_bad_conductor_s_y\n",
    "\n",
    "# rot_H_y = diff(H_x, z) - diff(H_z, x)\n",
    "rot_H_inner_vacuum_s_y  = I*k_z*H_inner_vacuum_s_x  - diff(H_inner_vacuum_s_z, x)\n",
    "rot_H_bad_conductor_s_y = I*k_z*H_bad_conductor_s_x - diff(H_bad_conductor_s_z, x)\n",
    "\n",
    "#H_inner_vacuum_s_z(x)  = c / (I*omega)   *(-I*sqrt(kappa_vacuum^2-k^2)*E_inner_vacuum_y (x) - I*k_y*E_inner_vacuum_x (x))\n",
    "#H_bad_conductor_s_z(x) = c / (I*omega*mu)*( I*sqrt(kappa       ^2-k^2)*E_bad_conductor_y(x) - I*k_y*E_bad_conductor_x(x))\n",
    "\n",
    "#print(diff(H_inner_vacuum_s_z, x) \\\n",
    "#      .substitute_function(diff(E_inner_vacuum_y(x), x), - I*sqrt(-k^2 + kappa_vacuum^2) * E_inner_vacuum_y(x)) \\\n",
    "#      .substitute_function(diff(E_inner_vacuum_x(x), x), - I*sqrt(-k^2 + kappa_vacuum^2) * E_inner_vacuum_x(x))) \\\n",
    "\n",
    "#rot_H_inner_vacuum_s_y  = I*k_z*H_inner_vacuum_s_x  - c / (I*omega)*(-I*sqrt(kappa_vacuum^2-k_z^2)*\n",
    "#                                                                     (-I*sqrt(kappa_vacuum^2-k_z^2))*\n",
    "#                                                                             E_inner_vacuum_y (x) \n",
    "#                                                                     - I*k_y*(-I*sqrt(kappa_vacuum^2-k_z^2))*\n",
    "#                                                                             E_inner_vacuum_x (x))\n",
    "#\n",
    "#rot_H_bad_conductor_s_y = I*k_z*H_bad_conductor_s_x - c / (I*omega*mu)*( I*sqrt(kappa^2-k_z^2)*\n",
    "#                                                                         I*sqrt(kappa^2-k_z^2)*\n",
    "#                                                                             E_bad_conductor_y(x) \n",
    "#                                                                       - I*k_y*\n",
    "#                                                                        I*sqrt(kappa^2-k_z^2)*\n",
    "#                                                                        E_bad_conductor_x(x))\n",
    "\n",
    "# rot_H_y = diff(H_x, z) - diff(H_z, x)\n",
    "rot_H_inner_vacuum_s_y  = I*k_z*H_inner_vacuum_s_x  - diff(H_inner_vacuum_s_z, x)\n",
    "rot_H_bad_conductor_s_y = I*k_z*H_bad_conductor_s_x - diff(H_bad_conductor_s_z, x)\n",
    "\n",
    "\n",
    "# rot_H_z = diff(H_y, x) - diff(H_x, y)\n",
    "rot_H_inner_vacuum_s_z  = diff(H_inner_vacuum_s_y , x) - I*k_y*H_inner_vacuum_s_x\n",
    "rot_H_bad_conductor_s_z = diff(H_bad_conductor_s_y, x) - I*k_y*H_bad_conductor_s_x\n",
    "\n",
    "rot_H_inner_vacuum_s_z  = diff(H_inner_vacuum_s_y, x)  - I*k_y*H_inner_vacuum_s_x\n",
    "rot_H_bad_conductor_s_z =  diff(H_bad_conductor_s_y, x) - I*k_y*H_bad_conductor_s_x\n",
    "\n",
    "\n",
    "# sol\n",
    "rot_H_inner_vacuum_sol_x  = I*k_y*H_inner_vacuum_sol_z (x) - I*k_z*H_inner_vacuum_sol_y (x)\n",
    "rot_H_bad_conductor_sol_x = I*k_y*H_bad_conductor_sol_z(x) - I*k_z*H_bad_conductor_sol_y(x)\n",
    "\n",
    "rot_H_inner_vacuum_sol_y  = I*k_z*H_inner_vacuum_sol_x (x) - diff(H_inner_vacuum_sol_z (x), x)\n",
    "rot_H_bad_conductor_sol_y = I*k_z*H_bad_conductor_sol_x(x) - diff(H_bad_conductor_sol_z(x), x)\n",
    "\n",
    "rot_H_inner_vacuum_sol_z  = diff(H_inner_vacuum_sol_y (x), x) - I*k_y*H_inner_vacuum_sol_x (x)\n",
    "rot_H_bad_conductor_sol_z = diff(H_bad_conductor_sol_y(x), x) - I*k_y*H_bad_conductor_sol_x(x)\n",
    "\n",
    "\n",
    "print (\"rot_H_inner_vacuum_x =\")\n",
    "display(Math(latex(rot_H_inner_vacuum_x)))\n",
    "print (\"rot_H_bad_conductor_x =\")\n",
    "display(Math(latex(rot_H_bad_conductor_x)))\n",
    "\n",
    "print (\"rot_H_inner_vacuum_y =\")\n",
    "display(Math(latex(rot_H_inner_vacuum_y)))\n",
    "print (\"rot_H_bad_conductor_y =\")\n",
    "display(Math(latex(rot_H_bad_conductor_y)))\n",
    "\n",
    "print (\"rot_H_inner_vacuum_z =\")\n",
    "display(Math(latex(rot_H_inner_vacuum_z)))\n",
    "print (\"rot_H_bad_conductor_z =\")\n",
    "display(Math(latex(rot_H_bad_conductor_z)))\n",
    "\n",
    "\n",
    "\n",
    "print (\"rot_H_inner_vacuum_s_x =\")\n",
    "display(Math(latex(rot_H_inner_vacuum_s_x)))\n",
    "print (\"rot_H_bad_conductor_s_x =\")\n",
    "display(Math(latex(rot_H_bad_conductor_s_x)))\n",
    "\n",
    "print (\"rot_H_inner_vacuum_s_y =\")\n",
    "display(Math(latex(rot_H_inner_vacuum_s_y)))\n",
    "print (\"rot_H_bad_conductor_s_y =\")\n",
    "display(Math(latex(rot_H_bad_conductor_s_y)))\n",
    "\n",
    "print (\"rot_H_inner_vacuum_s_z =\")\n",
    "display(Math(latex(rot_H_inner_vacuum_s_z)))\n",
    "print (\"rot_H_bad_conductor_s_z =\")\n",
    "display(Math(latex(rot_H_bad_conductor_s_z)))\n",
    "\n",
    "\n",
    "\n",
    "print (\"rot_H_inner_vacuum_sol_x =\")\n",
    "display(Math(latex(rot_H_inner_vacuum_sol_x)))\n",
    "print (\"rot_H_bad_conductor_sol_x =\")\n",
    "display(Math(latex(rot_H_bad_conductor_sol_x)))\n",
    "\n",
    "print (\"rot_H_inner_vacuum_sol_y =\")\n",
    "display(Math(latex(rot_H_inner_vacuum_sol_y)))\n",
    "print (\"rot_H_bad_conductor_sol_y =\")\n",
    "display(Math(latex(rot_H_bad_conductor_sol_y)))\n",
    "\n",
    "print (\"rot_H_inner_vacuum_sol_z =\")\n",
    "display(Math(latex(rot_H_inner_vacuum_sol_z)))\n",
    "print (\"rot_H_bad_conductor_sol_z =\")\n",
    "display(Math(latex(rot_H_bad_conductor_sol_z)))"
   ]
  },
  {
   "cell_type": "code",
   "execution_count": 21,
   "metadata": {},
   "outputs": [],
   "source": [
    "eq_rot_H_inner_vacuum_sol_x  = rot_H_inner_vacuum_sol_x  == -I*omega/c*E_inner_vacuum_sol_x(x)\n",
    "eq_rot_H_inner_vacuum_sol_y  = rot_H_inner_vacuum_sol_y  == -I*omega/c*E_inner_vacuum_sol_y(x)\n",
    "eq_rot_H_inner_vacuum_sol_z  = rot_H_inner_vacuum_sol_z  == -I*omega/c*E_inner_vacuum_sol_z(x)\n",
    "\n",
    "eq_rot_H_bad_conductor_sol_x = rot_H_bad_conductor_sol_x == -I*omega/c*epsilon*E_bad_conductor_sol_x(x)\n",
    "eq_rot_H_bad_conductor_sol_y = rot_H_bad_conductor_sol_y == -I*omega/c*epsilon*E_bad_conductor_sol_y(x)\n",
    "eq_rot_H_bad_conductor_sol_z = rot_H_bad_conductor_sol_z == -I*omega/c*epsilon*E_bad_conductor_sol_z(x)"
   ]
  },
  {
   "cell_type": "code",
   "execution_count": 22,
   "metadata": {},
   "outputs": [],
   "source": [
    "eq_rot_H_inner_vacuum_s_x  = rot_H_inner_vacuum_s_x  == -I*omega/c*E_inner_vacuum_x(x)\n",
    "eq_rot_H_inner_vacuum_s_y  = rot_H_inner_vacuum_s_y  == -I*omega/c*E_inner_vacuum_y(x)\n",
    "eq_rot_H_inner_vacuum_s_z  = rot_H_inner_vacuum_s_z  == -I*omega/c*E_inner_vacuum_z(x)\n",
    "\n",
    "eq_rot_H_bad_conductor_s_x = rot_H_bad_conductor_s_x == -I*omega/c*epsilon*E_bad_conductor_x(x)\n",
    "eq_rot_H_bad_conductor_s_y = rot_H_bad_conductor_s_y == -I*omega/c*epsilon*E_bad_conductor_y(x)\n",
    "eq_rot_H_bad_conductor_s_z = rot_H_bad_conductor_s_z == -I*omega/c*epsilon*E_bad_conductor_z(x)"
   ]
  },
  {
   "cell_type": "code",
   "execution_count": 23,
   "metadata": {},
   "outputs": [],
   "source": [
    "eq_rot_H_inner_vacuum_x  = rot_H_inner_vacuum_x  == -I*omega/c*E_inner_vacuum_x(x)\n",
    "eq_rot_H_inner_vacuum_y  = rot_H_inner_vacuum_y  == -I*omega/c*E_inner_vacuum_y(x)\n",
    "eq_rot_H_inner_vacuum_z  = rot_H_inner_vacuum_z  == -I*omega/c*E_inner_vacuum_z(x)\n",
    "\n",
    "eq_rot_H_bad_conductor_x = rot_H_bad_conductor_x == -I*omega/c*epsilon*E_bad_conductor_x(x)\n",
    "eq_rot_H_bad_conductor_y = rot_H_bad_conductor_y == -I*omega/c*epsilon*E_bad_conductor_y(x)\n",
    "eq_rot_H_bad_conductor_z = rot_H_bad_conductor_z == -I*omega/c*epsilon*E_bad_conductor_z(x)"
   ]
  },
  {
   "cell_type": "code",
   "execution_count": 24,
   "metadata": {},
   "outputs": [
    {
     "name": "stdout",
     "output_type": "stream",
     "text": [
      "eq_rot_H_inner_vacuum_s_x =\n"
     ]
    },
    {
     "data": {
      "text/latex": [
       "$\\displaystyle x \\ {\\mapsto}\\ \\frac{{\\left(-i \\, k_{y} E_{{\\rm inner}_{{\\rm vacuum}_{x}}}\\left(x\\right) + \\frac{\\partial}{\\partial x}E_{{\\rm inner}_{{\\rm vacuum}_{y}}}\\left(x\\right)\\right)} c k_{y}}{\\omega} - \\frac{{\\left(i \\, k_{z} E_{{\\rm inner}_{{\\rm vacuum}_{x}}}\\left(x\\right) - \\frac{\\partial}{\\partial x}E_{{\\rm inner}_{{\\rm vacuum}_{z}}}\\left(x\\right)\\right)} c k_{z}}{\\omega} = -\\frac{i \\, \\omega E_{{\\rm inner}_{{\\rm vacuum}_{x}}}\\left(x\\right)}{c}$"
      ],
      "text/plain": [
       "<IPython.core.display.Math object>"
      ]
     },
     "metadata": {},
     "output_type": "display_data"
    },
    {
     "name": "stdout",
     "output_type": "stream",
     "text": [
      "eq_rot_H_inner_vacuum_s_y =\n"
     ]
    },
    {
     "data": {
      "text/latex": [
       "$\\displaystyle x \\ {\\mapsto}\\ \\frac{{\\left(-i \\, k_{z} E_{{\\rm inner}_{{\\rm vacuum}_{y}}}\\left(x\\right) + i \\, k_{y} E_{{\\rm inner}_{{\\rm vacuum}_{z}}}\\left(x\\right)\\right)} c k_{z}}{\\omega} + \\frac{i \\, {\\left(-i \\, k_{y} \\frac{\\partial}{\\partial x}E_{{\\rm inner}_{{\\rm vacuum}_{x}}}\\left(x\\right) + \\frac{\\partial^{2}}{(\\partial x)^{2}}E_{{\\rm inner}_{{\\rm vacuum}_{y}}}\\left(x\\right)\\right)} c}{\\omega} = -\\frac{i \\, \\omega E_{{\\rm inner}_{{\\rm vacuum}_{y}}}\\left(x\\right)}{c}$"
      ],
      "text/plain": [
       "<IPython.core.display.Math object>"
      ]
     },
     "metadata": {},
     "output_type": "display_data"
    },
    {
     "name": "stdout",
     "output_type": "stream",
     "text": [
      "eq_rot_H_inner_vacuum_s_z =\n"
     ]
    },
    {
     "data": {
      "text/latex": [
       "$\\displaystyle x \\ {\\mapsto}\\ -\\frac{{\\left(-i \\, k_{z} E_{{\\rm inner}_{{\\rm vacuum}_{y}}}\\left(x\\right) + i \\, k_{y} E_{{\\rm inner}_{{\\rm vacuum}_{z}}}\\left(x\\right)\\right)} c k_{y}}{\\omega} - \\frac{i \\, {\\left(i \\, k_{z} \\frac{\\partial}{\\partial x}E_{{\\rm inner}_{{\\rm vacuum}_{x}}}\\left(x\\right) - \\frac{\\partial^{2}}{(\\partial x)^{2}}E_{{\\rm inner}_{{\\rm vacuum}_{z}}}\\left(x\\right)\\right)} c}{\\omega} = -\\frac{i \\, \\omega E_{{\\rm inner}_{{\\rm vacuum}_{z}}}\\left(x\\right)}{c}$"
      ],
      "text/plain": [
       "<IPython.core.display.Math object>"
      ]
     },
     "metadata": {},
     "output_type": "display_data"
    }
   ],
   "source": [
    "print (\"eq_rot_H_inner_vacuum_s_x =\")\n",
    "display(Math(latex(eq_rot_H_inner_vacuum_s_x.simplify())))\n",
    "\n",
    "print (\"eq_rot_H_inner_vacuum_s_y =\")\n",
    "display(Math(latex(eq_rot_H_inner_vacuum_s_y.simplify())))\n",
    "\n",
    "print (\"eq_rot_H_inner_vacuum_s_z =\")\n",
    "display(Math(latex(eq_rot_H_inner_vacuum_s_z.simplify())))"
   ]
  },
  {
   "cell_type": "code",
   "execution_count": 25,
   "metadata": {},
   "outputs": [
    {
     "name": "stdout",
     "output_type": "stream",
     "text": [
      "eq_rot_H_inner_vacuum_sol_x =\n"
     ]
    },
    {
     "data": {
      "text/latex": [
       "$\\displaystyle \\frac{{\\left(i \\, \\mathit{A2}_{y} K_{\\mathit{vacuum}} e^{\\left(i \\, K_{\\mathit{vacuum}} x\\right)} - i \\, \\mathit{A1}_{y} K_{\\mathit{vacuum}} e^{\\left(-i \\, K_{\\mathit{vacuum}} x\\right)} - i \\, {\\left(\\mathit{A2}_{x} e^{\\left(i \\, K_{\\mathit{vacuum}} x\\right)} + \\mathit{A1}_{x} e^{\\left(-i \\, K_{\\mathit{vacuum}} x\\right)}\\right)} k_{y}\\right)} c k_{y}}{\\omega} - \\frac{{\\left(-i \\, \\mathit{A2}_{z} K_{\\mathit{vacuum}} e^{\\left(i \\, K_{\\mathit{vacuum}} x\\right)} + i \\, \\mathit{A1}_{z} K_{\\mathit{vacuum}} e^{\\left(-i \\, K_{\\mathit{vacuum}} x\\right)} + i \\, {\\left(\\mathit{A2}_{x} e^{\\left(i \\, K_{\\mathit{vacuum}} x\\right)} + \\mathit{A1}_{x} e^{\\left(-i \\, K_{\\mathit{vacuum}} x\\right)}\\right)} k_{z}\\right)} c k_{z}}{\\omega} = -\\frac{i \\, {\\left(\\mathit{A2}_{x} e^{\\left(i \\, K_{\\mathit{vacuum}} x\\right)} + \\mathit{A1}_{x} e^{\\left(-i \\, K_{\\mathit{vacuum}} x\\right)}\\right)} \\omega}{c}$"
      ],
      "text/plain": [
       "<IPython.core.display.Math object>"
      ]
     },
     "metadata": {},
     "output_type": "display_data"
    },
    {
     "name": "stdout",
     "output_type": "stream",
     "text": [
      "eq_rot_H_inner_vacuum_sol_y =\n"
     ]
    },
    {
     "data": {
      "text/latex": [
       "$\\displaystyle \\frac{{\\left(i \\, {\\left(\\mathit{A2}_{z} e^{\\left(i \\, K_{\\mathit{vacuum}} x\\right)} + \\mathit{A1}_{z} e^{\\left(-i \\, K_{\\mathit{vacuum}} x\\right)}\\right)} k_{y} - i \\, {\\left(\\mathit{A2}_{y} e^{\\left(i \\, K_{\\mathit{vacuum}} x\\right)} + \\mathit{A1}_{y} e^{\\left(-i \\, K_{\\mathit{vacuum}} x\\right)}\\right)} k_{z}\\right)} c k_{z}}{\\omega} - \\frac{i \\, {\\left(\\mathit{A2}_{y} K_{\\mathit{vacuum}}^{2} e^{\\left(i \\, K_{\\mathit{vacuum}} x\\right)} + \\mathit{A1}_{y} K_{\\mathit{vacuum}}^{2} e^{\\left(-i \\, K_{\\mathit{vacuum}} x\\right)} + i \\, {\\left(i \\, \\mathit{A2}_{x} K_{\\mathit{vacuum}} e^{\\left(i \\, K_{\\mathit{vacuum}} x\\right)} - i \\, \\mathit{A1}_{x} K_{\\mathit{vacuum}} e^{\\left(-i \\, K_{\\mathit{vacuum}} x\\right)}\\right)} k_{y}\\right)} c}{\\omega} = -\\frac{i \\, {\\left(\\mathit{A2}_{y} e^{\\left(i \\, K_{\\mathit{vacuum}} x\\right)} + \\mathit{A1}_{y} e^{\\left(-i \\, K_{\\mathit{vacuum}} x\\right)}\\right)} \\omega}{c}$"
      ],
      "text/plain": [
       "<IPython.core.display.Math object>"
      ]
     },
     "metadata": {},
     "output_type": "display_data"
    },
    {
     "name": "stdout",
     "output_type": "stream",
     "text": [
      "eq_rot_H_inner_vacuum_sol_z =\n"
     ]
    },
    {
     "data": {
      "text/latex": [
       "$\\displaystyle -\\frac{{\\left(i \\, {\\left(\\mathit{A2}_{z} e^{\\left(i \\, K_{\\mathit{vacuum}} x\\right)} + \\mathit{A1}_{z} e^{\\left(-i \\, K_{\\mathit{vacuum}} x\\right)}\\right)} k_{y} - i \\, {\\left(\\mathit{A2}_{y} e^{\\left(i \\, K_{\\mathit{vacuum}} x\\right)} + \\mathit{A1}_{y} e^{\\left(-i \\, K_{\\mathit{vacuum}} x\\right)}\\right)} k_{z}\\right)} c k_{y}}{\\omega} - \\frac{i \\, {\\left(\\mathit{A2}_{z} K_{\\mathit{vacuum}}^{2} e^{\\left(i \\, K_{\\mathit{vacuum}} x\\right)} + \\mathit{A1}_{z} K_{\\mathit{vacuum}}^{2} e^{\\left(-i \\, K_{\\mathit{vacuum}} x\\right)} + i \\, {\\left(i \\, \\mathit{A2}_{x} K_{\\mathit{vacuum}} e^{\\left(i \\, K_{\\mathit{vacuum}} x\\right)} - i \\, \\mathit{A1}_{x} K_{\\mathit{vacuum}} e^{\\left(-i \\, K_{\\mathit{vacuum}} x\\right)}\\right)} k_{z}\\right)} c}{\\omega} = -\\frac{i \\, {\\left(\\mathit{A2}_{z} e^{\\left(i \\, K_{\\mathit{vacuum}} x\\right)} + \\mathit{A1}_{z} e^{\\left(-i \\, K_{\\mathit{vacuum}} x\\right)}\\right)} \\omega}{c}$"
      ],
      "text/plain": [
       "<IPython.core.display.Math object>"
      ]
     },
     "metadata": {},
     "output_type": "display_data"
    }
   ],
   "source": [
    "print (\"eq_rot_H_inner_vacuum_sol_x =\")\n",
    "display(Math(latex(eq_rot_H_inner_vacuum_sol_x.simplify())))\n",
    "\n",
    "print (\"eq_rot_H_inner_vacuum_sol_y =\")\n",
    "display(Math(latex(eq_rot_H_inner_vacuum_sol_y.simplify())))\n",
    "\n",
    "print (\"eq_rot_H_inner_vacuum_sol_z =\")\n",
    "display(Math(latex(eq_rot_H_inner_vacuum_sol_z.simplify())))"
   ]
  },
  {
   "cell_type": "raw",
   "metadata": {},
   "source": [
    "print (\"eq_rot_H_inner_vacuum_x =\")\n",
    "display(Math(latex(eq_rot_H_inner_vacuum_x.simplify())))\n",
    "\n",
    "print (\"eq_rot_H_inner_vacuum_y =\")\n",
    "display(Math(latex(eq_rot_H_inner_vacuum_y.simplify())))\n",
    "\n",
    "print (\"eq_rot_H_inner_vacuum_z =\")\n",
    "display(Math(latex(eq_rot_H_inner_vacuum_z.simplify())))"
   ]
  },
  {
   "cell_type": "code",
   "execution_count": 26,
   "metadata": {},
   "outputs": [
    {
     "name": "stdout",
     "output_type": "stream",
     "text": [
      "eq_rot_H_bad_conductor_sol_x =\n"
     ]
    },
    {
     "data": {
      "text/latex": [
       "$\\displaystyle \\frac{{\\left(i \\, \\mathit{B1}_{y} K_{\\mathit{conductor}} e^{\\left(i \\, K_{\\mathit{conductor}} x\\right)} - i \\, \\mathit{B1}_{x} k_{y} e^{\\left(i \\, K_{\\mathit{conductor}} x\\right)}\\right)} c k_{y}}{\\mu \\omega} - \\frac{{\\left(-i \\, \\mathit{B1}_{z} K_{\\mathit{conductor}} e^{\\left(i \\, K_{\\mathit{conductor}} x\\right)} + i \\, \\mathit{B1}_{x} k_{z} e^{\\left(i \\, K_{\\mathit{conductor}} x\\right)}\\right)} c k_{z}}{\\mu \\omega} = -\\frac{i \\, \\mathit{B1}_{x} \\epsilon \\omega e^{\\left(i \\, K_{\\mathit{conductor}} x\\right)}}{c}$"
      ],
      "text/plain": [
       "<IPython.core.display.Math object>"
      ]
     },
     "metadata": {},
     "output_type": "display_data"
    },
    {
     "name": "stdout",
     "output_type": "stream",
     "text": [
      "eq_rot_H_bad_conductor_sol_y =\n"
     ]
    },
    {
     "data": {
      "text/latex": [
       "$\\displaystyle \\frac{{\\left(i \\, \\mathit{B1}_{z} k_{y} e^{\\left(i \\, K_{\\mathit{conductor}} x\\right)} - i \\, \\mathit{B1}_{y} k_{z} e^{\\left(i \\, K_{\\mathit{conductor}} x\\right)}\\right)} c k_{z}}{\\mu \\omega} - \\frac{i \\, {\\left(\\mathit{B1}_{y} K_{\\mathit{conductor}}^{2} e^{\\left(i \\, K_{\\mathit{conductor}} x\\right)} - \\mathit{B1}_{x} K_{\\mathit{conductor}} k_{y} e^{\\left(i \\, K_{\\mathit{conductor}} x\\right)}\\right)} c}{\\mu \\omega} = -\\frac{i \\, \\mathit{B1}_{y} \\epsilon \\omega e^{\\left(i \\, K_{\\mathit{conductor}} x\\right)}}{c}$"
      ],
      "text/plain": [
       "<IPython.core.display.Math object>"
      ]
     },
     "metadata": {},
     "output_type": "display_data"
    },
    {
     "name": "stdout",
     "output_type": "stream",
     "text": [
      "eq_rot_H_bad_conductor_sol_z =\n"
     ]
    },
    {
     "data": {
      "text/latex": [
       "$\\displaystyle -\\frac{{\\left(i \\, \\mathit{B1}_{z} k_{y} e^{\\left(i \\, K_{\\mathit{conductor}} x\\right)} - i \\, \\mathit{B1}_{y} k_{z} e^{\\left(i \\, K_{\\mathit{conductor}} x\\right)}\\right)} c k_{y}}{\\mu \\omega} - \\frac{i \\, {\\left(\\mathit{B1}_{z} K_{\\mathit{conductor}}^{2} e^{\\left(i \\, K_{\\mathit{conductor}} x\\right)} - \\mathit{B1}_{x} K_{\\mathit{conductor}} k_{z} e^{\\left(i \\, K_{\\mathit{conductor}} x\\right)}\\right)} c}{\\mu \\omega} = -\\frac{i \\, \\mathit{B1}_{z} \\epsilon \\omega e^{\\left(i \\, K_{\\mathit{conductor}} x\\right)}}{c}$"
      ],
      "text/plain": [
       "<IPython.core.display.Math object>"
      ]
     },
     "metadata": {},
     "output_type": "display_data"
    }
   ],
   "source": [
    "print (\"eq_rot_H_bad_conductor_sol_x =\")\n",
    "display(Math(latex(eq_rot_H_bad_conductor_sol_x.simplify())))\n",
    "\n",
    "print (\"eq_rot_H_bad_conductor_sol_y =\")\n",
    "display(Math(latex(eq_rot_H_bad_conductor_sol_y.simplify())))\n",
    "\n",
    "print (\"eq_rot_H_bad_conductor_sol_z =\")\n",
    "display(Math(latex(eq_rot_H_bad_conductor_sol_z.simplify())))"
   ]
  },
  {
   "cell_type": "raw",
   "metadata": {},
   "source": [
    "print (\"eq_rot_H_bad_conductor_x =\")\n",
    "display(Math(latex(eq_rot_H_bad_conductor_x.simplify())))\n",
    "\n",
    "print (\"eq_rot_H_bad_conductor_y =\")\n",
    "display(Math(latex(eq_rot_H_bad_conductor_y.simplify())))\n",
    "\n",
    "print (\"eq_rot_H_bad_conductor_z =\")\n",
    "display(Math(latex(eq_rot_H_bad_conductor_z.simplify())))"
   ]
  },
  {
   "cell_type": "code",
   "execution_count": 27,
   "metadata": {},
   "outputs": [
    {
     "name": "stdout",
     "output_type": "stream",
     "text": [
      "eq_rot_H_inner_vacuum_x =\n"
     ]
    },
    {
     "data": {
      "text/latex": [
       "$\\displaystyle \\left[E_{{\\rm inner}_{{\\rm vacuum}_{x}}}\\left(x\\right) = \\frac{k_{z} H_{{\\rm inner}_{{\\rm vacuum}_{f_{y}}}}\\left(x\\right) - k_{y} H_{{\\rm inner}_{{\\rm vacuum}_{f_{z}}}}\\left(x\\right)}{\\kappa_{\\mathit{vacuum}}}\\right]$"
      ],
      "text/plain": [
       "<IPython.core.display.Math object>"
      ]
     },
     "metadata": {},
     "output_type": "display_data"
    },
    {
     "name": "stdout",
     "output_type": "stream",
     "text": [
      "H_inner_vacuum_y  (x) =\n"
     ]
    },
    {
     "data": {
      "text/latex": [
       "$\\displaystyle H_{\\mathit{inner}_{\\mathit{vacuum}_{y}}}$"
      ],
      "text/plain": [
       "<IPython.core.display.Math object>"
      ]
     },
     "metadata": {},
     "output_type": "display_data"
    },
    {
     "name": "stdout",
     "output_type": "stream",
     "text": [
      "eq_rot_H_bad_conductor_x =\n"
     ]
    },
    {
     "data": {
      "text/latex": [
       "$\\displaystyle \\left[E_{{\\rm bad}_{{\\rm conductor}_{x}}}\\left(x\\right) = \\frac{\\sqrt{\\epsilon \\mu} k_{z} H_{{\\rm bad}_{{\\rm conductor}_{f_{y}}}}\\left(x\\right) - \\sqrt{\\epsilon \\mu} k_{y} H_{{\\rm bad}_{{\\rm conductor}_{f_{z}}}}\\left(x\\right)}{\\epsilon \\kappa}\\right]$"
      ],
      "text/plain": [
       "<IPython.core.display.Math object>"
      ]
     },
     "metadata": {},
     "output_type": "display_data"
    },
    {
     "name": "stdout",
     "output_type": "stream",
     "text": [
      "H_bad_conductor_y (x) =\n"
     ]
    },
    {
     "data": {
      "text/latex": [
       "$\\displaystyle H_{\\mathit{bad}_{\\mathit{conductor}_{y}}}$"
      ],
      "text/plain": [
       "<IPython.core.display.Math object>"
      ]
     },
     "metadata": {},
     "output_type": "display_data"
    }
   ],
   "source": [
    "print (\"eq_rot_H_inner_vacuum_x =\")\n",
    "eq_rot_H_inner_vacuum_x_subs = eq_rot_H_inner_vacuum_x.subs(omega==c*kappa_vacuum/sqrt(epsilon_0*mu_0))\n",
    "eq_rot_H_inner_vacuum_x_subs_solve = solve(eq_rot_H_inner_vacuum_x_subs, E_inner_vacuum_x(x))\n",
    "display(Math(latex(eq_rot_H_inner_vacuum_x_subs_solve)))\n",
    "\n",
    "print (\"H_inner_vacuum_y  (x) =\")\n",
    "H_inner_vacuum_subs_y = H_inner_vacuum_y.subs(omega==c*kappa_vacuum/sqrt(epsilon_0*mu_0), eq_rot_H_inner_vacuum_x_subs_solve)\n",
    "display(Math(latex(H_inner_vacuum_subs_y)))\n",
    "\n",
    "print (\"eq_rot_H_bad_conductor_x =\")\n",
    "eq_rot_H_bad_conductor_x_subs = eq_rot_H_bad_conductor_x.subs(omega==c*kappa/sqrt(epsilon*mu))\n",
    "eq_rot_H_bad_conductor_x_subs_solve = solve(eq_rot_H_bad_conductor_x_subs, E_bad_conductor_x(x))\n",
    "display(Math(latex(eq_rot_H_bad_conductor_x_subs_solve)))\n",
    "\n",
    "print (\"H_bad_conductor_y (x) =\")\n",
    "H_bad_conductor_subs_y = H_bad_conductor_y.subs(omega==c*kappa/sqrt(epsilon*mu), eq_rot_H_bad_conductor_x_subs_solve)\n",
    "display(Math(latex(H_bad_conductor_subs_y)))"
   ]
  },
  {
   "cell_type": "code",
   "execution_count": 28,
   "metadata": {},
   "outputs": [
    {
     "data": {
      "text/latex": [
       "$\\displaystyle \\left[\\kappa_{\\mathit{vacuum}} = -\\frac{\\omega}{c}, \\kappa_{\\mathit{vacuum}} = \\frac{\\omega}{c}\\right]$"
      ],
      "text/plain": [
       "<IPython.core.display.Math object>"
      ]
     },
     "metadata": {},
     "output_type": "display_data"
    }
   ],
   "source": [
    "res = solve(eq_kappa_inner_vacuum, kappa_vacuum)\n",
    "display(Math(latex(res)))"
   ]
  },
  {
   "cell_type": "code",
   "execution_count": 29,
   "metadata": {},
   "outputs": [
    {
     "data": {
      "text/plain": [
       "A1_z*e^(I*K_vacuum*a) + A2_z*e^(-I*K_vacuum*a)"
      ]
     },
     "execution_count": 29,
     "metadata": {},
     "output_type": "execute_result"
    }
   ],
   "source": [
    "E_inner_vacuum_sol_z(-a)"
   ]
  },
  {
   "cell_type": "code",
   "execution_count": null,
   "metadata": {},
   "outputs": [],
   "source": []
  },
  {
   "cell_type": "code",
   "execution_count": 30,
   "metadata": {},
   "outputs": [],
   "source": [
    "# выражения для электрического поля\n",
    "# в вакууме внутри резонатора \n",
    "#    E_inner_vacuum_z (x) = A1_z_re*cos(sqrt(kappa_vacuum^2-k_z^2)*x) + A1_z_im*sin(sqrt(kappa_vacuum^2-k_z^2)*x)\n",
    "#    E_inner_vacuum_x (x) = A1_x_re*cos(sqrt(kappa_vacuum^2-k_z^2)*x) + A1_x_im*sin(sqrt(kappa_vacuum^2-k_z^2)*x)\n",
    "#    E_inner_vacuum_y (x) = A1_y_re*cos(sqrt(kappa_vacuum^2-k_z^2)*x) + A1_y_im*sin(sqrt(kappa_vacuum^2-k_z^2)*x)\n"
   ]
  },
  {
   "cell_type": "code",
   "execution_count": null,
   "metadata": {},
   "outputs": [],
   "source": []
  },
  {
   "cell_type": "code",
   "execution_count": 31,
   "metadata": {},
   "outputs": [
    {
     "name": "stdout",
     "output_type": "stream",
     "text": [
      "eqEz_0 = \n"
     ]
    },
    {
     "data": {
      "text/latex": [
       "$\\displaystyle \\mathit{A1}_{z} e^{\\left(i \\, K_{\\mathit{vacuum}} a\\right)} + \\mathit{A2}_{z} e^{\\left(-i \\, K_{\\mathit{vacuum}} a\\right)} = 0$"
      ],
      "text/plain": [
       "<IPython.core.display.Math object>"
      ]
     },
     "metadata": {},
     "output_type": "display_data"
    },
    {
     "name": "stdout",
     "output_type": "stream",
     "text": [
      "eqEy_0 = \n"
     ]
    },
    {
     "data": {
      "text/latex": [
       "$\\displaystyle \\mathit{A1}_{y} e^{\\left(i \\, K_{\\mathit{vacuum}} a\\right)} + \\mathit{A2}_{y} e^{\\left(-i \\, K_{\\mathit{vacuum}} a\\right)} = 0$"
      ],
      "text/plain": [
       "<IPython.core.display.Math object>"
      ]
     },
     "metadata": {},
     "output_type": "display_data"
    }
   ],
   "source": [
    "# граничные условия на границе идеального проводника и вакуума внутри резонатора\n",
    "# тангенциальная компонента электрического поля\n",
    "# eqEz_0 = solve(E_inner_vacuum_sol_z(-a) == 0, A1_z)\n",
    "eqEz_0 = E_inner_vacuum_sol_z(-a) == 0\n",
    "# E_inner_vacuum_z (x) = A1_z_re*cos(sqrt(kappa_vacuum^2-k_z^2)*x) + A1_z_im*sin(sqrt(kappa_vacuum^2-k^2)*x)\n",
    "# eqEz_0 = A1_z_re*cos(sqrt(kappa_vacuum^2-k_z^2)*x) + A1_z_im*sin(sqrt(kappa_vacuum^2-k_z^2)*x) == 0\n",
    "\n",
    "print (\"eqEz_0 = \")\n",
    "display(Math(latex(eqEz_0)))\n",
    "\n",
    "if 0 != A1_y:\n",
    "    #eqEy_0 = solve(E_inner_vacuum_sol_y(-a) == 0, A1_y)\n",
    "    eqEy_0 = E_inner_vacuum_sol_y(-a) == 0\n",
    "    print (\"eqEy_0 = \")\n",
    "    display(Math(latex(eqEy_0)))"
   ]
  },
  {
   "cell_type": "code",
   "execution_count": 32,
   "metadata": {},
   "outputs": [
    {
     "name": "stdout",
     "output_type": "stream",
     "text": [
      "eqEz_a = \n"
     ]
    },
    {
     "data": {
      "text/latex": [
       "$\\displaystyle \\mathit{B1}_{z} = \\mathit{A1}_{z} + \\mathit{A2}_{z}$"
      ],
      "text/plain": [
       "<IPython.core.display.Math object>"
      ]
     },
     "metadata": {},
     "output_type": "display_data"
    },
    {
     "name": "stdout",
     "output_type": "stream",
     "text": [
      "eqEy_a = \n"
     ]
    },
    {
     "data": {
      "text/latex": [
       "$\\displaystyle \\mathit{B1}_{y} = \\mathit{A1}_{y} + \\mathit{A2}_{y}$"
      ],
      "text/plain": [
       "<IPython.core.display.Math object>"
      ]
     },
     "metadata": {},
     "output_type": "display_data"
    }
   ],
   "source": [
    "# граничные условия на границе вакуума внутри резонатора и проводящего металла с потерями\n",
    "# тангенциальная компонента электрического поля\n",
    "eqEz_a = E_bad_conductor_sol_z(0) == E_inner_vacuum_sol_z(0)\n",
    "eqEy_a = E_bad_conductor_sol_y(0) == E_inner_vacuum_sol_y(0)\n",
    "\n",
    "print (\"eqEz_a = \")\n",
    "display(Math(latex(eqEz_a)))\n",
    "print (\"eqEy_a = \")\n",
    "display(Math(latex(eqEy_a)))"
   ]
  },
  {
   "cell_type": "code",
   "execution_count": 33,
   "metadata": {},
   "outputs": [
    {
     "name": "stdout",
     "output_type": "stream",
     "text": [
      "eqDx_a =\n"
     ]
    },
    {
     "data": {
      "text/latex": [
       "$\\displaystyle \\mathit{A1}_{x} + \\mathit{A2}_{x} = \\frac{4 i \\, \\pi \\mathit{B1}_{x} \\sigma}{\\omega}$"
      ],
      "text/plain": [
       "<IPython.core.display.Math object>"
      ]
     },
     "metadata": {},
     "output_type": "display_data"
    }
   ],
   "source": [
    "# нормальная компонента электрического смещения\n",
    "eqDx_a = E_inner_vacuum_sol_x(0) == E_bad_conductor_sol_x(0) * epsilon_complex\n",
    "\n",
    "print (\"eqDx_a =\")\n",
    "display(Math(latex(eqDx_a)))"
   ]
  },
  {
   "cell_type": "code",
   "execution_count": 34,
   "metadata": {},
   "outputs": [
    {
     "name": "stdout",
     "output_type": "stream",
     "text": [
      "H_bad_conductor_sol_z (0), H_inner_vacuum_sol_z (x) =\n"
     ]
    },
    {
     "data": {
      "text/latex": [
       "$\\displaystyle \\left[-\\frac{i \\, {\\left(i \\, \\mathit{B1}_{y} K_{\\mathit{conductor}} e^{\\left(i \\, K_{\\mathit{conductor}} x\\right)} - i \\, \\mathit{B1}_{x} k_{y} e^{\\left(i \\, K_{\\mathit{conductor}} x\\right)}\\right)} c}{\\mu \\omega}, -\\frac{i \\, {\\left(i \\, \\mathit{A2}_{y} K_{\\mathit{vacuum}} e^{\\left(i \\, K_{\\mathit{vacuum}} x\\right)} - i \\, \\mathit{A1}_{y} K_{\\mathit{vacuum}} e^{\\left(-i \\, K_{\\mathit{vacuum}} x\\right)} - i \\, {\\left(\\mathit{A2}_{x} e^{\\left(i \\, K_{\\mathit{vacuum}} x\\right)} + \\mathit{A1}_{x} e^{\\left(-i \\, K_{\\mathit{vacuum}} x\\right)}\\right)} k_{y}\\right)} c}{\\omega}\\right]$"
      ],
      "text/plain": [
       "<IPython.core.display.Math object>"
      ]
     },
     "metadata": {},
     "output_type": "display_data"
    },
    {
     "name": "stdout",
     "output_type": "stream",
     "text": [
      "H_bad_conductor_sol_y (0), H_inner_vacuum_sol_y (x) =\n"
     ]
    },
    {
     "data": {
      "text/latex": [
       "$\\displaystyle \\left[-\\frac{i \\, {\\left(-i \\, \\mathit{B1}_{z} K_{\\mathit{conductor}} e^{\\left(i \\, K_{\\mathit{conductor}} x\\right)} + i \\, \\mathit{B1}_{x} k_{z} e^{\\left(i \\, K_{\\mathit{conductor}} x\\right)}\\right)} c}{\\mu \\omega}, -\\frac{i \\, {\\left(-i \\, \\mathit{A2}_{z} K_{\\mathit{vacuum}} e^{\\left(i \\, K_{\\mathit{vacuum}} x\\right)} + i \\, \\mathit{A1}_{z} K_{\\mathit{vacuum}} e^{\\left(-i \\, K_{\\mathit{vacuum}} x\\right)} + i \\, {\\left(\\mathit{A2}_{x} e^{\\left(i \\, K_{\\mathit{vacuum}} x\\right)} + \\mathit{A1}_{x} e^{\\left(-i \\, K_{\\mathit{vacuum}} x\\right)}\\right)} k_{z}\\right)} c}{\\omega}\\right]$"
      ],
      "text/plain": [
       "<IPython.core.display.Math object>"
      ]
     },
     "metadata": {},
     "output_type": "display_data"
    },
    {
     "name": "stdout",
     "output_type": "stream",
     "text": [
      "sqrt(mu/epsilon)*H_bad_conductor_sol_z (0), sqrt(mu/epsilon)*H_inner_vacuum_sol_z (x) =\n"
     ]
    },
    {
     "data": {
      "text/latex": [
       "$\\displaystyle \\left[-\\frac{i \\, {\\left(i \\, \\mathit{B1}_{y} K_{\\mathit{conductor}} e^{\\left(i \\, K_{\\mathit{conductor}} x\\right)} - i \\, \\mathit{B1}_{x} k_{y} e^{\\left(i \\, K_{\\mathit{conductor}} x\\right)}\\right)} c \\sqrt{\\frac{\\mu}{\\epsilon}}}{\\mu \\omega}, -\\frac{i \\, {\\left(i \\, \\mathit{A2}_{y} K_{\\mathit{vacuum}} e^{\\left(i \\, K_{\\mathit{vacuum}} x\\right)} - i \\, \\mathit{A1}_{y} K_{\\mathit{vacuum}} e^{\\left(-i \\, K_{\\mathit{vacuum}} x\\right)} - i \\, {\\left(\\mathit{A2}_{x} e^{\\left(i \\, K_{\\mathit{vacuum}} x\\right)} + \\mathit{A1}_{x} e^{\\left(-i \\, K_{\\mathit{vacuum}} x\\right)}\\right)} k_{y}\\right)} c}{\\omega}\\right]$"
      ],
      "text/plain": [
       "<IPython.core.display.Math object>"
      ]
     },
     "metadata": {},
     "output_type": "display_data"
    },
    {
     "name": "stdout",
     "output_type": "stream",
     "text": [
      "H_bad_conductor_y (0), H_inner_vacuum_y (0) =\n"
     ]
    },
    {
     "data": {
      "text/latex": [
       "$\\displaystyle \\left[-\\frac{i \\, {\\left(-i \\, \\mathit{B1}_{z} K_{\\mathit{conductor}} e^{\\left(i \\, K_{\\mathit{conductor}} x\\right)} + i \\, \\mathit{B1}_{x} k_{z} e^{\\left(i \\, K_{\\mathit{conductor}} x\\right)}\\right)} c \\sqrt{\\frac{\\mu}{\\epsilon}}}{\\mu \\omega}, -\\frac{i \\, {\\left(-i \\, \\mathit{A2}_{z} K_{\\mathit{vacuum}} e^{\\left(i \\, K_{\\mathit{vacuum}} x\\right)} + i \\, \\mathit{A1}_{z} K_{\\mathit{vacuum}} e^{\\left(-i \\, K_{\\mathit{vacuum}} x\\right)} + i \\, {\\left(\\mathit{A2}_{x} e^{\\left(i \\, K_{\\mathit{vacuum}} x\\right)} + \\mathit{A1}_{x} e^{\\left(-i \\, K_{\\mathit{vacuum}} x\\right)}\\right)} k_{z}\\right)} c}{\\omega}\\right]$"
      ],
      "text/plain": [
       "<IPython.core.display.Math object>"
      ]
     },
     "metadata": {},
     "output_type": "display_data"
    },
    {
     "name": "stdout",
     "output_type": "stream",
     "text": [
      "eqEz_0, eqEy_0 = \n"
     ]
    },
    {
     "data": {
      "text/latex": [
       "$\\displaystyle \\left[\\mathit{A1}_{z} e^{\\left(i \\, K_{\\mathit{vacuum}} a\\right)} + \\mathit{A2}_{z} e^{\\left(-i \\, K_{\\mathit{vacuum}} a\\right)} = 0, \\mathit{A1}_{y} e^{\\left(i \\, K_{\\mathit{vacuum}} a\\right)} + \\mathit{A2}_{y} e^{\\left(-i \\, K_{\\mathit{vacuum}} a\\right)} = 0\\right]$"
      ],
      "text/plain": [
       "<IPython.core.display.Math object>"
      ]
     },
     "metadata": {},
     "output_type": "display_data"
    },
    {
     "name": "stdout",
     "output_type": "stream",
     "text": [
      "eqHz_a =\n"
     ]
    },
    {
     "data": {
      "text/latex": [
       "$\\displaystyle -\\frac{i \\, {\\left(i \\, \\mathit{B1}_{y} K_{\\mathit{conductor}} - i \\, \\mathit{B1}_{x} k_{y}\\right)} c}{\\mu \\omega} = -\\frac{i \\, {\\left(-i \\, \\mathit{A1}_{y} K_{\\mathit{vacuum}} + i \\, \\mathit{A2}_{y} K_{\\mathit{vacuum}} - i \\, {\\left(\\mathit{A1}_{x} + \\mathit{A2}_{x}\\right)} k_{y}\\right)} c}{\\omega}$"
      ],
      "text/plain": [
       "<IPython.core.display.Math object>"
      ]
     },
     "metadata": {},
     "output_type": "display_data"
    },
    {
     "name": "stdout",
     "output_type": "stream",
     "text": [
      "eqHy_a =\n"
     ]
    },
    {
     "data": {
      "text/latex": [
       "$\\displaystyle -\\frac{i \\, {\\left(-i \\, \\mathit{B1}_{z} K_{\\mathit{conductor}} + i \\, \\mathit{B1}_{x} k_{z}\\right)} c}{\\mu \\omega} = -\\frac{i \\, {\\left(i \\, \\mathit{A1}_{z} K_{\\mathit{vacuum}} - i \\, \\mathit{A2}_{z} K_{\\mathit{vacuum}} + i \\, {\\left(\\mathit{A1}_{x} + \\mathit{A2}_{x}\\right)} k_{z}\\right)} c}{\\omega}$"
      ],
      "text/plain": [
       "<IPython.core.display.Math object>"
      ]
     },
     "metadata": {},
     "output_type": "display_data"
    }
   ],
   "source": [
    "# тангенциальная компонента напряженности магнитного поля\n",
    "eqHz_a  = (H_bad_conductor_sol_z(0)  == H_inner_vacuum_sol_z(0)).subs(eqEz_0, eqEy_0)\n",
    "eqHy_a  = (H_bad_conductor_sol_y(0)  == H_inner_vacuum_sol_y(0)).subs(eqEy_0, eqEz_0)\n",
    "\n",
    "print (\"H_bad_conductor_sol_z (0), H_inner_vacuum_sol_z (x) =\")\n",
    "display(Math(latex([H_bad_conductor_sol_z (x), H_inner_vacuum_sol_z (x)])))\n",
    "\n",
    "print (\"H_bad_conductor_sol_y (0), H_inner_vacuum_sol_y (x) =\")\n",
    "display(Math(latex([H_bad_conductor_sol_y (x), H_inner_vacuum_sol_y (x)])))\n",
    "\n",
    "print (\"sqrt(mu/epsilon)*H_bad_conductor_sol_z (0), sqrt(mu/epsilon)*H_inner_vacuum_sol_z (x) =\")\n",
    "display(Math(latex([sqrt(mu/epsilon)*H_bad_conductor_sol_z (x), sqrt(1/epsilon_0)*H_inner_vacuum_sol_z (x)])))\n",
    "\n",
    "print (\"H_bad_conductor_y (0), H_inner_vacuum_y (0) =\")\n",
    "display(Math(latex([sqrt(mu/epsilon)*H_bad_conductor_sol_y (x), sqrt(1/epsilon_0)*H_inner_vacuum_sol_y (x)])))\n",
    "\n",
    "print (\"eqEz_0, eqEy_0 = \")\n",
    "display(Math(latex([eqEz_0, eqEy_0])))\n",
    "\n",
    "\n",
    "print (\"eqHz_a =\")\n",
    "display(Math(latex(eqHz_a)))\n",
    "print (\"eqHy_a =\")\n",
    "display(Math(latex(eqHy_a)))"
   ]
  },
  {
   "cell_type": "code",
   "execution_count": 35,
   "metadata": {},
   "outputs": [
    {
     "name": "stdout",
     "output_type": "stream",
     "text": [
      "eqBx_a =\n"
     ]
    },
    {
     "data": {
      "text/latex": [
       "$\\displaystyle -\\frac{i \\, {\\left(i \\, \\mathit{B1}_{z} k_{y} - i \\, \\mathit{B1}_{y} k_{z}\\right)} c}{\\omega} = -\\frac{i \\, {\\left(i \\, {\\left(\\mathit{A1}_{z} + \\mathit{A2}_{z}\\right)} k_{y} - i \\, {\\left(\\mathit{A1}_{y} + \\mathit{A2}_{y}\\right)} k_{z}\\right)} c}{\\omega}$"
      ],
      "text/plain": [
       "<IPython.core.display.Math object>"
      ]
     },
     "metadata": {},
     "output_type": "display_data"
    }
   ],
   "source": [
    "# нормальная компонента индукции магнитного поля\n",
    "eqBx_a  = mu * H_bad_conductor_sol_x (0)  == H_inner_vacuum_sol_x (0)\n",
    "\n",
    "print (\"eqBx_a =\")\n",
    "display(Math(latex(eqBx_a)))"
   ]
  },
  {
   "cell_type": "code",
   "execution_count": 36,
   "metadata": {},
   "outputs": [
    {
     "name": "stdout",
     "output_type": "stream",
     "text": [
      "eq_rot_H_inner_vacuum_y rot H (E_y) =\n",
      "I*k_z*H_inner_vacuum_f_x(x) - diff(H_inner_vacuum_f_z(x), x) == -I*omega*E_inner_vacuum_y(x)/c\n"
     ]
    },
    {
     "data": {
      "text/latex": [
       "$\\displaystyle i \\, k_{z} H_{{\\rm inner}_{{\\rm vacuum}_{f_{x}}}}\\left(x\\right) - \\frac{\\partial}{\\partial x}H_{{\\rm inner}_{{\\rm vacuum}_{f_{z}}}}\\left(x\\right) = -\\frac{i \\, \\omega E_{{\\rm inner}_{{\\rm vacuum}_{y}}}\\left(x\\right)}{c}$"
      ],
      "text/plain": [
       "<IPython.core.display.Math object>"
      ]
     },
     "metadata": {},
     "output_type": "display_data"
    },
    {
     "name": "stdout",
     "output_type": "stream",
     "text": [
      "eq_rot_H_inner_vacuum_y_subs_solve rot H (E_y) =\n",
      "kappa_vacuum*E_inner_vacuum_y(x) == -k_z*H_inner_vacuum_f_x(x) - I*diff(H_inner_vacuum_f_z(x), x)\n"
     ]
    },
    {
     "data": {
      "text/latex": [
       "$\\displaystyle \\kappa_{\\mathit{vacuum}} E_{{\\rm inner}_{{\\rm vacuum}_{y}}}\\left(x\\right) = -k_{z} H_{{\\rm inner}_{{\\rm vacuum}_{f_{x}}}}\\left(x\\right) - i \\, \\frac{\\partial}{\\partial x}H_{{\\rm inner}_{{\\rm vacuum}_{f_{z}}}}\\left(x\\right)$"
      ],
      "text/plain": [
       "<IPython.core.display.Math object>"
      ]
     },
     "metadata": {},
     "output_type": "display_data"
    },
    {
     "name": "stdout",
     "output_type": "stream",
     "text": [
      "eq_rot_E_inner_vacuum_x_subs (x) rot E =\n",
      "kappa_vacuum*H_inner_vacuum_f_x(x) == -k_z*E_inner_vacuum_y(x) + k_y*E_inner_vacuum_z(x)\n"
     ]
    },
    {
     "data": {
      "text/latex": [
       "$\\displaystyle \\kappa_{\\mathit{vacuum}} H_{{\\rm inner}_{{\\rm vacuum}_{f_{x}}}}\\left(x\\right) = -k_{z} E_{{\\rm inner}_{{\\rm vacuum}_{y}}}\\left(x\\right) + k_{y} E_{{\\rm inner}_{{\\rm vacuum}_{z}}}\\left(x\\right)$"
      ],
      "text/plain": [
       "<IPython.core.display.Math object>"
      ]
     },
     "metadata": {},
     "output_type": "display_data"
    },
    {
     "name": "stdout",
     "output_type": "stream",
     "text": [
      "eq_rot_H_inner_vacuum_y_subs_solve_m =\n",
      "kappa_vacuum*E_inner_vacuum_y(x) + k_z*H_inner_vacuum_f_x(x) == -I*diff(H_inner_vacuum_f_z(x), x)\n"
     ]
    },
    {
     "data": {
      "text/latex": [
       "$\\displaystyle \\kappa_{\\mathit{vacuum}} E_{{\\rm inner}_{{\\rm vacuum}_{y}}}\\left(x\\right) + k_{z} H_{{\\rm inner}_{{\\rm vacuum}_{f_{x}}}}\\left(x\\right) = -i \\, \\frac{\\partial}{\\partial x}H_{{\\rm inner}_{{\\rm vacuum}_{f_{z}}}}\\left(x\\right)$"
      ],
      "text/plain": [
       "<IPython.core.display.Math object>"
      ]
     },
     "metadata": {},
     "output_type": "display_data"
    },
    {
     "name": "stdout",
     "output_type": "stream",
     "text": [
      "eq_rot_E_inner_vacuum_x_subs_m =\n",
      "k_z*E_inner_vacuum_y(x) + kappa_vacuum*H_inner_vacuum_f_x(x) == k_y*E_inner_vacuum_z(x)\n"
     ]
    },
    {
     "data": {
      "text/latex": [
       "$\\displaystyle k_{z} E_{{\\rm inner}_{{\\rm vacuum}_{y}}}\\left(x\\right) + \\kappa_{\\mathit{vacuum}} H_{{\\rm inner}_{{\\rm vacuum}_{f_{x}}}}\\left(x\\right) = k_{y} E_{{\\rm inner}_{{\\rm vacuum}_{z}}}\\left(x\\right)$"
      ],
      "text/plain": [
       "<IPython.core.display.Math object>"
      ]
     },
     "metadata": {},
     "output_type": "display_data"
    },
    {
     "name": "stdout",
     "output_type": "stream",
     "text": [
      "eq_1 =\n",
      "-(k_z^2 - kappa_vacuum^2)*E_inner_vacuum_y(x) == -k_y*k_z*E_inner_vacuum_z(x) - I*kappa_vacuum*diff(H_inner_vacuum_f_z(x), x)\n"
     ]
    },
    {
     "data": {
      "text/latex": [
       "$\\displaystyle -{\\left(k_{z}^{2} - \\kappa_{\\mathit{vacuum}}^{2}\\right)} E_{{\\rm inner}_{{\\rm vacuum}_{y}}}\\left(x\\right) = -k_{y} k_{z} E_{{\\rm inner}_{{\\rm vacuum}_{z}}}\\left(x\\right) - i \\, \\kappa_{\\mathit{vacuum}} \\frac{\\partial}{\\partial x}H_{{\\rm inner}_{{\\rm vacuum}_{f_{z}}}}\\left(x\\right)$"
      ],
      "text/plain": [
       "<IPython.core.display.Math object>"
      ]
     },
     "metadata": {},
     "output_type": "display_data"
    },
    {
     "name": "stdout",
     "output_type": "stream",
     "text": [
      "eq_2 =\n",
      "(k_z^2 - kappa_vacuum^2)*H_inner_vacuum_f_x(x) == -k_y*kappa_vacuum*E_inner_vacuum_z(x) - I*k_z*diff(H_inner_vacuum_f_z(x), x)\n"
     ]
    },
    {
     "data": {
      "text/latex": [
       "$\\displaystyle {\\left(k_{z}^{2} - \\kappa_{\\mathit{vacuum}}^{2}\\right)} H_{{\\rm inner}_{{\\rm vacuum}_{f_{x}}}}\\left(x\\right) = -k_{y} \\kappa_{\\mathit{vacuum}} E_{{\\rm inner}_{{\\rm vacuum}_{z}}}\\left(x\\right) - i \\, k_{z} \\frac{\\partial}{\\partial x}H_{{\\rm inner}_{{\\rm vacuum}_{f_{z}}}}\\left(x\\right)$"
      ],
      "text/plain": [
       "<IPython.core.display.Math object>"
      ]
     },
     "metadata": {},
     "output_type": "display_data"
    }
   ],
   "source": [
    "eq_rot_H_inner_vacuum_y_subs       = eq_rot_H_inner_vacuum_y.subs(omega==c*kappa_vacuum/sqrt(epsilon_0*mu_0))\n",
    "print (\"eq_rot_H_inner_vacuum_y rot H (E_y) =\")\n",
    "print(eq_rot_H_inner_vacuum_y)\n",
    "display(Math(latex(eq_rot_H_inner_vacuum_y)))\n",
    "\n",
    "eq_rot_H_inner_vacuum_y_subs_solve = solve(eq_rot_H_inner_vacuum_y_subs, E_inner_vacuum_y(x))[0] * kappa_vacuum\n",
    "print (\"eq_rot_H_inner_vacuum_y_subs_solve rot H (E_y) =\")\n",
    "print(eq_rot_H_inner_vacuum_y_subs_solve)\n",
    "display(Math(latex(eq_rot_H_inner_vacuum_y_subs_solve)))\n",
    "\n",
    "eq_rot_E_inner_vacuum_x = H_inner_vacuum_f_x(x) == H_inner_vacuum_s_x(x)\n",
    "eq_rot_E_inner_vacuum_x_subs = eq_rot_E_inner_vacuum_x.subs(omega==c*kappa_vacuum/sqrt(epsilon_0*mu_0)) * kappa_vacuum\n",
    "print (\"eq_rot_E_inner_vacuum_x_subs (x) rot E =\")\n",
    "print             (eq_rot_E_inner_vacuum_x_subs)\n",
    "display(Math(latex(eq_rot_E_inner_vacuum_x_subs)))\n",
    "\n",
    "eq_rot_H_inner_vacuum_y_subs_solve_m \\\n",
    "    =  eq_rot_H_inner_vacuum_y_subs_solve.lhs() \\\n",
    "    -  eq_rot_H_inner_vacuum_y_subs_solve.rhs().expand().operands()[0] \\\n",
    "    == eq_rot_H_inner_vacuum_y_subs_solve.rhs().expand().operands()[1]\n",
    "print (\"eq_rot_H_inner_vacuum_y_subs_solve_m =\")\n",
    "print             (eq_rot_H_inner_vacuum_y_subs_solve_m)\n",
    "display(Math(latex(eq_rot_H_inner_vacuum_y_subs_solve_m)))\n",
    "\n",
    "eq_rot_E_inner_vacuum_x_subs_m \\\n",
    "    =  eq_rot_E_inner_vacuum_x_subs.lhs() \\\n",
    "    -  eq_rot_E_inner_vacuum_x_subs.rhs().expand().operands()[0] \\\n",
    "    == eq_rot_E_inner_vacuum_x_subs.rhs().expand().operands()[1]\n",
    "print (\"eq_rot_E_inner_vacuum_x_subs_m =\")\n",
    "print             (eq_rot_E_inner_vacuum_x_subs_m)\n",
    "display(Math(latex(eq_rot_E_inner_vacuum_x_subs_m)))\n",
    "\n",
    "eq_1 = (eq_rot_H_inner_vacuum_y_subs_solve_m*kappa_vacuum - eq_rot_E_inner_vacuum_x_subs_m*k_z).full_simplify()\n",
    "print (\"eq_1 =\")\n",
    "print             (eq_1)\n",
    "display(Math(latex(eq_1)))\n",
    "\n",
    "eq_2 = (eq_rot_H_inner_vacuum_y_subs_solve_m*k_z - eq_rot_E_inner_vacuum_x_subs_m*kappa_vacuum).full_simplify()\n",
    "print (\"eq_2 =\")\n",
    "print             (eq_2)\n",
    "display(Math(latex(eq_2)))"
   ]
  },
  {
   "cell_type": "code",
   "execution_count": 37,
   "metadata": {},
   "outputs": [
    {
     "name": "stdout",
     "output_type": "stream",
     "text": [
      "eq_rot_H_bad_conductor_y rot_H = epsilon*d/dt(E_y) =\n",
      "I*k_z*H_bad_conductor_f_x(x) - diff(H_bad_conductor_f_z(x), x) == -I*epsilon*omega*E_bad_conductor_y(x)/c\n"
     ]
    },
    {
     "data": {
      "text/latex": [
       "$\\displaystyle i \\, k_{z} H_{{\\rm bad}_{{\\rm conductor}_{f_{x}}}}\\left(x\\right) - \\frac{\\partial}{\\partial x}H_{{\\rm bad}_{{\\rm conductor}_{f_{z}}}}\\left(x\\right) = -\\frac{i \\, \\epsilon \\omega E_{{\\rm bad}_{{\\rm conductor}_{y}}}\\left(x\\right)}{c}$"
      ],
      "text/plain": [
       "<IPython.core.display.Math object>"
      ]
     },
     "metadata": {},
     "output_type": "display_data"
    },
    {
     "name": "stdout",
     "output_type": "stream",
     "text": [
      "eq_rot_H_bad_conductor_y_subs_solve rot H = epsilon*d/dt(E_y) =\n",
      "kappa*E_bad_conductor_y(x) == -(sqrt(epsilon*mu)*k_z*H_bad_conductor_f_x(x) + I*sqrt(epsilon*mu)*diff(H_bad_conductor_f_z(x), x))/epsilon\n"
     ]
    },
    {
     "data": {
      "text/latex": [
       "$\\displaystyle \\kappa E_{{\\rm bad}_{{\\rm conductor}_{y}}}\\left(x\\right) = -\\frac{\\sqrt{\\epsilon \\mu} k_{z} H_{{\\rm bad}_{{\\rm conductor}_{f_{x}}}}\\left(x\\right) + i \\, \\sqrt{\\epsilon \\mu} \\frac{\\partial}{\\partial x}H_{{\\rm bad}_{{\\rm conductor}_{f_{z}}}}\\left(x\\right)}{\\epsilon}$"
      ],
      "text/plain": [
       "<IPython.core.display.Math object>"
      ]
     },
     "metadata": {},
     "output_type": "display_data"
    },
    {
     "name": "stdout",
     "output_type": "stream",
     "text": [
      "eq_rot_E_bad_conductor_x_subs (x) rot E =\n",
      "kappa*H_bad_conductor_f_x(x) == -I*sqrt(epsilon*mu)*(-I*k_z*E_bad_conductor_y(x) + I*k_y*E_bad_conductor_z(x))/mu\n"
     ]
    },
    {
     "data": {
      "text/latex": [
       "$\\displaystyle \\kappa H_{{\\rm bad}_{{\\rm conductor}_{f_{x}}}}\\left(x\\right) = -\\frac{i \\, \\sqrt{\\epsilon \\mu} {\\left(-i \\, k_{z} E_{{\\rm bad}_{{\\rm conductor}_{y}}}\\left(x\\right) + i \\, k_{y} E_{{\\rm bad}_{{\\rm conductor}_{z}}}\\left(x\\right)\\right)}}{\\mu}$"
      ],
      "text/plain": [
       "<IPython.core.display.Math object>"
      ]
     },
     "metadata": {},
     "output_type": "display_data"
    },
    {
     "name": "stdout",
     "output_type": "stream",
     "text": [
      "eq_rot_H_bad_conductor_y_subs_solve_m =\n",
      "kappa*E_bad_conductor_y(x) + k_z*sqrt(mu)*H_bad_conductor_f_x(x)/sqrt(epsilon) == -I*sqrt(mu)*diff(H_bad_conductor_f_z(x), x)/sqrt(epsilon)\n"
     ]
    },
    {
     "data": {
      "text/latex": [
       "$\\displaystyle \\kappa E_{{\\rm bad}_{{\\rm conductor}_{y}}}\\left(x\\right) + \\frac{k_{z} \\sqrt{\\mu} H_{{\\rm bad}_{{\\rm conductor}_{f_{x}}}}\\left(x\\right)}{\\sqrt{\\epsilon}} = -\\frac{i \\, \\sqrt{\\mu} \\frac{\\partial}{\\partial x}H_{{\\rm bad}_{{\\rm conductor}_{f_{z}}}}\\left(x\\right)}{\\sqrt{\\epsilon}}$"
      ],
      "text/plain": [
       "<IPython.core.display.Math object>"
      ]
     },
     "metadata": {},
     "output_type": "display_data"
    },
    {
     "name": "stdout",
     "output_type": "stream",
     "text": [
      "eq_rot_E_bad_conductor_x_subs_m =\n",
      "sqrt(epsilon)*k_z*E_bad_conductor_y(x)/sqrt(mu) + kappa*H_bad_conductor_f_x(x) == sqrt(epsilon)*k_y*E_bad_conductor_z(x)/sqrt(mu)\n"
     ]
    },
    {
     "data": {
      "text/latex": [
       "$\\displaystyle \\frac{\\sqrt{\\epsilon} k_{z} E_{{\\rm bad}_{{\\rm conductor}_{y}}}\\left(x\\right)}{\\sqrt{\\mu}} + \\kappa H_{{\\rm bad}_{{\\rm conductor}_{f_{x}}}}\\left(x\\right) = \\frac{\\sqrt{\\epsilon} k_{y} E_{{\\rm bad}_{{\\rm conductor}_{z}}}\\left(x\\right)}{\\sqrt{\\mu}}$"
      ],
      "text/plain": [
       "<IPython.core.display.Math object>"
      ]
     },
     "metadata": {},
     "output_type": "display_data"
    },
    {
     "name": "stdout",
     "output_type": "stream",
     "text": [
      "eq_3 =\n",
      "-(k_z^2 - kappa^2)*E_bad_conductor_y(x) == -(sqrt(epsilon)*k_y*k_z*E_bad_conductor_z(x) + I*kappa*sqrt(mu)*diff(H_bad_conductor_f_z(x), x))/sqrt(epsilon)\n"
     ]
    },
    {
     "data": {
      "text/latex": [
       "$\\displaystyle -{\\left(k_{z}^{2} - \\kappa^{2}\\right)} E_{{\\rm bad}_{{\\rm conductor}_{y}}}\\left(x\\right) = -\\frac{\\sqrt{\\epsilon} k_{y} k_{z} E_{{\\rm bad}_{{\\rm conductor}_{z}}}\\left(x\\right) + i \\, \\kappa \\sqrt{\\mu} \\frac{\\partial}{\\partial x}H_{{\\rm bad}_{{\\rm conductor}_{f_{z}}}}\\left(x\\right)}{\\sqrt{\\epsilon}}$"
      ],
      "text/plain": [
       "<IPython.core.display.Math object>"
      ]
     },
     "metadata": {},
     "output_type": "display_data"
    },
    {
     "name": "stdout",
     "output_type": "stream",
     "text": [
      "eq_4 =\n",
      "(k_z^2 - kappa^2)*sqrt(mu)*H_bad_conductor_f_x(x)/sqrt(epsilon) == -(sqrt(epsilon)*k_y*kappa*E_bad_conductor_z(x) + I*k_z*sqrt(mu)*diff(H_bad_conductor_f_z(x), x))/sqrt(epsilon)\n"
     ]
    },
    {
     "data": {
      "text/latex": [
       "$\\displaystyle \\frac{{\\left(k_{z}^{2} - \\kappa^{2}\\right)} \\sqrt{\\mu} H_{{\\rm bad}_{{\\rm conductor}_{f_{x}}}}\\left(x\\right)}{\\sqrt{\\epsilon}} = -\\frac{\\sqrt{\\epsilon} k_{y} \\kappa E_{{\\rm bad}_{{\\rm conductor}_{z}}}\\left(x\\right) + i \\, k_{z} \\sqrt{\\mu} \\frac{\\partial}{\\partial x}H_{{\\rm bad}_{{\\rm conductor}_{f_{z}}}}\\left(x\\right)}{\\sqrt{\\epsilon}}$"
      ],
      "text/plain": [
       "<IPython.core.display.Math object>"
      ]
     },
     "metadata": {},
     "output_type": "display_data"
    }
   ],
   "source": [
    "eq_rot_H_bad_conductor_y_subs       = eq_rot_H_bad_conductor_y.subs(omega==c*kappa/sqrt(epsilon*mu))\n",
    "print (\"eq_rot_H_bad_conductor_y rot_H = epsilon*d/dt(E_y) =\")\n",
    "print(eq_rot_H_bad_conductor_y)\n",
    "display(Math(latex(eq_rot_H_bad_conductor_y)))\n",
    "\n",
    "eq_rot_H_bad_conductor_y_subs_solve = solve(eq_rot_H_bad_conductor_y_subs, E_bad_conductor_y(x))[0] * kappa\n",
    "print (\"eq_rot_H_bad_conductor_y_subs_solve rot H = epsilon*d/dt(E_y) =\")\n",
    "print(eq_rot_H_bad_conductor_y_subs_solve)\n",
    "display(Math(latex(eq_rot_H_bad_conductor_y_subs_solve)))\n",
    "\n",
    "eq_rot_E_bad_conductor_x = H_bad_conductor_f_x(x) == H_bad_conductor_s_x(x)\n",
    "eq_rot_E_bad_conductor_x_subs = eq_rot_E_bad_conductor_x.subs(omega==c*kappa/sqrt(epsilon*mu)) * kappa\n",
    "print (\"eq_rot_E_bad_conductor_x_subs (x) rot E =\")\n",
    "print             (eq_rot_E_bad_conductor_x_subs)\n",
    "display(Math(latex(eq_rot_E_bad_conductor_x_subs)))\n",
    "\n",
    "eq_rot_H_bad_conductor_y_subs_solve_m \\\n",
    "    =  eq_rot_H_bad_conductor_y_subs_solve.lhs() \\\n",
    "    -  eq_rot_H_bad_conductor_y_subs_solve.rhs().expand().operands()[0] \\\n",
    "    == eq_rot_H_bad_conductor_y_subs_solve.rhs().expand().operands()[1]\n",
    "print (\"eq_rot_H_bad_conductor_y_subs_solve_m =\")\n",
    "print             (eq_rot_H_bad_conductor_y_subs_solve_m)\n",
    "display(Math(latex(eq_rot_H_bad_conductor_y_subs_solve_m)))\n",
    "\n",
    "eq_rot_E_bad_conductor_x_subs_m \\\n",
    "    =  eq_rot_E_bad_conductor_x_subs.lhs() \\\n",
    "    -  eq_rot_E_bad_conductor_x_subs.rhs().expand().operands()[0] \\\n",
    "    == eq_rot_E_bad_conductor_x_subs.rhs().expand().operands()[1]\n",
    "print (\"eq_rot_E_bad_conductor_x_subs_m =\")\n",
    "print             (eq_rot_E_bad_conductor_x_subs_m)\n",
    "display(Math(latex(eq_rot_E_bad_conductor_x_subs_m)))\n",
    "\n",
    "m3 = k_z*sqrt(mu)/sqrt(epsilon)\n",
    "m4 = sqrt(mu)*kappa/sqrt(epsilon)\n",
    "\n",
    "eq_3 = (eq_rot_H_bad_conductor_y_subs_solve_m*kappa - eq_rot_E_bad_conductor_x_subs_m * m3).full_simplify()\n",
    "print (\"eq_3 =\")\n",
    "print             (eq_3)\n",
    "display(Math(latex(eq_3)))\n",
    "\n",
    "eq_4 = (eq_rot_H_bad_conductor_y_subs_solve_m*k_z - eq_rot_E_bad_conductor_x_subs_m * m4).full_simplify()\n",
    "print (\"eq_4 =\")\n",
    "print             (eq_4)\n",
    "display(Math(latex(eq_4)))"
   ]
  },
  {
   "cell_type": "code",
   "execution_count": 38,
   "metadata": {},
   "outputs": [
    {
     "name": "stdout",
     "output_type": "stream",
     "text": [
      "eq_rot_H_inner_vacuum_y rot H (E_x) =\n",
      "-I*k_z*H_inner_vacuum_f_y(x) + I*k_y*H_inner_vacuum_f_z(x) == -I*omega*E_inner_vacuum_x(x)/c\n"
     ]
    },
    {
     "data": {
      "text/latex": [
       "$\\displaystyle -i \\, k_{z} H_{{\\rm inner}_{{\\rm vacuum}_{f_{y}}}}\\left(x\\right) + i \\, k_{y} H_{{\\rm inner}_{{\\rm vacuum}_{f_{z}}}}\\left(x\\right) = -\\frac{i \\, \\omega E_{{\\rm inner}_{{\\rm vacuum}_{x}}}\\left(x\\right)}{c}$"
      ],
      "text/plain": [
       "<IPython.core.display.Math object>"
      ]
     },
     "metadata": {},
     "output_type": "display_data"
    },
    {
     "name": "stdout",
     "output_type": "stream",
     "text": [
      "eq_rot_H_inner_vacuum_x_subs_solve rot H (E_x) =\n",
      "kappa_vacuum*E_inner_vacuum_x(x) == k_z*H_inner_vacuum_f_y(x) - k_y*H_inner_vacuum_f_z(x)\n"
     ]
    },
    {
     "data": {
      "text/latex": [
       "$\\displaystyle \\kappa_{\\mathit{vacuum}} E_{{\\rm inner}_{{\\rm vacuum}_{x}}}\\left(x\\right) = k_{z} H_{{\\rm inner}_{{\\rm vacuum}_{f_{y}}}}\\left(x\\right) - k_{y} H_{{\\rm inner}_{{\\rm vacuum}_{f_{z}}}}\\left(x\\right)$"
      ],
      "text/plain": [
       "<IPython.core.display.Math object>"
      ]
     },
     "metadata": {},
     "output_type": "display_data"
    },
    {
     "name": "stdout",
     "output_type": "stream",
     "text": [
      "eq_rot_E_inner_vacuum_y_subs (x) rot E =\n",
      "kappa_vacuum*H_inner_vacuum_f_y(x) == k_z*E_inner_vacuum_x(x) + I*diff(E_inner_vacuum_z(x), x)\n"
     ]
    },
    {
     "data": {
      "text/latex": [
       "$\\displaystyle \\kappa_{\\mathit{vacuum}} H_{{\\rm inner}_{{\\rm vacuum}_{f_{y}}}}\\left(x\\right) = k_{z} E_{{\\rm inner}_{{\\rm vacuum}_{x}}}\\left(x\\right) + i \\, \\frac{\\partial}{\\partial x}E_{{\\rm inner}_{{\\rm vacuum}_{z}}}\\left(x\\right)$"
      ],
      "text/plain": [
       "<IPython.core.display.Math object>"
      ]
     },
     "metadata": {},
     "output_type": "display_data"
    },
    {
     "name": "stdout",
     "output_type": "stream",
     "text": [
      "eq_rot_H_inner_vacuum_x_subs_solve_m =\n",
      "kappa_vacuum*E_inner_vacuum_x(x) - k_z*H_inner_vacuum_f_y(x) == -k_y*H_inner_vacuum_f_z(x)\n"
     ]
    },
    {
     "data": {
      "text/latex": [
       "$\\displaystyle \\kappa_{\\mathit{vacuum}} E_{{\\rm inner}_{{\\rm vacuum}_{x}}}\\left(x\\right) - k_{z} H_{{\\rm inner}_{{\\rm vacuum}_{f_{y}}}}\\left(x\\right) = -k_{y} H_{{\\rm inner}_{{\\rm vacuum}_{f_{z}}}}\\left(x\\right)$"
      ],
      "text/plain": [
       "<IPython.core.display.Math object>"
      ]
     },
     "metadata": {},
     "output_type": "display_data"
    },
    {
     "name": "stdout",
     "output_type": "stream",
     "text": [
      "eq_rot_E_inner_vacuum_y_subs_m =\n",
      "-k_z*E_inner_vacuum_x(x) + kappa_vacuum*H_inner_vacuum_f_y(x) == I*diff(E_inner_vacuum_z(x), x)\n"
     ]
    },
    {
     "data": {
      "text/latex": [
       "$\\displaystyle -k_{z} E_{{\\rm inner}_{{\\rm vacuum}_{x}}}\\left(x\\right) + \\kappa_{\\mathit{vacuum}} H_{{\\rm inner}_{{\\rm vacuum}_{f_{y}}}}\\left(x\\right) = i \\, \\frac{\\partial}{\\partial x}E_{{\\rm inner}_{{\\rm vacuum}_{z}}}\\left(x\\right)$"
      ],
      "text/plain": [
       "<IPython.core.display.Math object>"
      ]
     },
     "metadata": {},
     "output_type": "display_data"
    },
    {
     "name": "stdout",
     "output_type": "stream",
     "text": [
      "eq_5 =\n",
      "-(k_z^2 - kappa_vacuum^2)*E_inner_vacuum_x(x) == -k_y*kappa_vacuum*H_inner_vacuum_f_z(x) + I*k_z*diff(E_inner_vacuum_z(x), x)\n"
     ]
    },
    {
     "data": {
      "text/latex": [
       "$\\displaystyle -{\\left(k_{z}^{2} - \\kappa_{\\mathit{vacuum}}^{2}\\right)} E_{{\\rm inner}_{{\\rm vacuum}_{x}}}\\left(x\\right) = -k_{y} \\kappa_{\\mathit{vacuum}} H_{{\\rm inner}_{{\\rm vacuum}_{f_{z}}}}\\left(x\\right) + i \\, k_{z} \\frac{\\partial}{\\partial x}E_{{\\rm inner}_{{\\rm vacuum}_{z}}}\\left(x\\right)$"
      ],
      "text/plain": [
       "<IPython.core.display.Math object>"
      ]
     },
     "metadata": {},
     "output_type": "display_data"
    },
    {
     "name": "stdout",
     "output_type": "stream",
     "text": [
      "eq_6 =\n",
      "-(k_z^2 - kappa_vacuum^2)*H_inner_vacuum_f_y(x) == -k_y*k_z*H_inner_vacuum_f_z(x) + I*kappa_vacuum*diff(E_inner_vacuum_z(x), x)\n"
     ]
    },
    {
     "data": {
      "text/latex": [
       "$\\displaystyle -{\\left(k_{z}^{2} - \\kappa_{\\mathit{vacuum}}^{2}\\right)} H_{{\\rm inner}_{{\\rm vacuum}_{f_{y}}}}\\left(x\\right) = -k_{y} k_{z} H_{{\\rm inner}_{{\\rm vacuum}_{f_{z}}}}\\left(x\\right) + i \\, \\kappa_{\\mathit{vacuum}} \\frac{\\partial}{\\partial x}E_{{\\rm inner}_{{\\rm vacuum}_{z}}}\\left(x\\right)$"
      ],
      "text/plain": [
       "<IPython.core.display.Math object>"
      ]
     },
     "metadata": {},
     "output_type": "display_data"
    }
   ],
   "source": [
    "eq_rot_H_inner_vacuum_x_subs       = eq_rot_H_inner_vacuum_x.subs(omega==c*kappa_vacuum/sqrt(epsilon_0*mu_0))\n",
    "print (\"eq_rot_H_inner_vacuum_y rot H (E_x) =\")\n",
    "print(eq_rot_H_inner_vacuum_x)\n",
    "display(Math(latex(eq_rot_H_inner_vacuum_x)))\n",
    "\n",
    "eq_rot_H_inner_vacuum_x_subs_solve = solve(eq_rot_H_inner_vacuum_x_subs, E_inner_vacuum_x(x))[0] * kappa_vacuum\n",
    "print (\"eq_rot_H_inner_vacuum_x_subs_solve rot H (E_x) =\")\n",
    "print(eq_rot_H_inner_vacuum_x_subs_solve)\n",
    "display(Math(latex(eq_rot_H_inner_vacuum_x_subs_solve)))\n",
    "\n",
    "eq_rot_E_inner_vacuum_y = H_inner_vacuum_f_y(x) == H_inner_vacuum_s_y(x)\n",
    "eq_rot_E_inner_vacuum_y_subs = eq_rot_E_inner_vacuum_y.subs(omega==c*kappa_vacuum/sqrt(epsilon_0*mu_0)) * kappa_vacuum\n",
    "print (\"eq_rot_E_inner_vacuum_y_subs (x) rot E =\")\n",
    "print             (eq_rot_E_inner_vacuum_y_subs)\n",
    "display(Math(latex(eq_rot_E_inner_vacuum_y_subs)))\n",
    "\n",
    "eq_rot_H_inner_vacuum_x_subs_solve_m \\\n",
    "    =  eq_rot_H_inner_vacuum_x_subs_solve.lhs() \\\n",
    "    -  eq_rot_H_inner_vacuum_x_subs_solve.rhs().expand().operands()[0] \\\n",
    "    == eq_rot_H_inner_vacuum_x_subs_solve.rhs().expand().operands()[1]\n",
    "print (\"eq_rot_H_inner_vacuum_x_subs_solve_m =\")\n",
    "print             (eq_rot_H_inner_vacuum_x_subs_solve_m)\n",
    "display(Math(latex(eq_rot_H_inner_vacuum_x_subs_solve_m)))\n",
    "\n",
    "eq_rot_E_inner_vacuum_y_subs_m \\\n",
    "    =  eq_rot_E_inner_vacuum_y_subs.lhs() \\\n",
    "    -  eq_rot_E_inner_vacuum_y_subs.rhs().expand().operands()[0] \\\n",
    "    == eq_rot_E_inner_vacuum_y_subs.rhs().expand().operands()[1]\n",
    "print (\"eq_rot_E_inner_vacuum_y_subs_m =\")\n",
    "print             (eq_rot_E_inner_vacuum_y_subs_m)\n",
    "display(Math(latex(eq_rot_E_inner_vacuum_y_subs_m)))\n",
    "\n",
    "eq_5 = (eq_rot_H_inner_vacuum_x_subs_solve_m*kappa_vacuum + eq_rot_E_inner_vacuum_y_subs_m*k_z).full_simplify()\n",
    "print (\"eq_5 =\")\n",
    "print             (eq_5)\n",
    "display(Math(latex(eq_5)))\n",
    "\n",
    "eq_6 = (eq_rot_H_inner_vacuum_x_subs_solve_m*k_z + eq_rot_E_inner_vacuum_y_subs_m*kappa_vacuum).full_simplify()\n",
    "print (\"eq_6 =\")\n",
    "print             (eq_6)\n",
    "display(Math(latex(eq_6)))"
   ]
  },
  {
   "cell_type": "code",
   "execution_count": 39,
   "metadata": {},
   "outputs": [
    {
     "name": "stdout",
     "output_type": "stream",
     "text": [
      "eq_rot_H_bad_conductor_x rot_H = epsilon*d/dt(E_x) =\n",
      "-I*k_z*H_bad_conductor_f_y(x) + I*k_y*H_bad_conductor_f_z(x) == -I*epsilon*omega*E_bad_conductor_x(x)/c\n"
     ]
    },
    {
     "data": {
      "text/latex": [
       "$\\displaystyle -i \\, k_{z} H_{{\\rm bad}_{{\\rm conductor}_{f_{y}}}}\\left(x\\right) + i \\, k_{y} H_{{\\rm bad}_{{\\rm conductor}_{f_{z}}}}\\left(x\\right) = -\\frac{i \\, \\epsilon \\omega E_{{\\rm bad}_{{\\rm conductor}_{x}}}\\left(x\\right)}{c}$"
      ],
      "text/plain": [
       "<IPython.core.display.Math object>"
      ]
     },
     "metadata": {},
     "output_type": "display_data"
    },
    {
     "name": "stdout",
     "output_type": "stream",
     "text": [
      "eq_rot_H_bad_conductor_x_subs rot_H = epsilon*d/dt(E_x) =\n",
      "-I*k_z*H_bad_conductor_f_y(x) + I*k_y*H_bad_conductor_f_z(x) == -I*epsilon*kappa*E_bad_conductor_x(x)/sqrt(epsilon*mu)\n"
     ]
    },
    {
     "data": {
      "text/latex": [
       "$\\displaystyle -i \\, k_{z} H_{{\\rm bad}_{{\\rm conductor}_{f_{y}}}}\\left(x\\right) + i \\, k_{y} H_{{\\rm bad}_{{\\rm conductor}_{f_{z}}}}\\left(x\\right) = -\\frac{i \\, \\epsilon \\kappa E_{{\\rm bad}_{{\\rm conductor}_{x}}}\\left(x\\right)}{\\sqrt{\\epsilon \\mu}}$"
      ],
      "text/plain": [
       "<IPython.core.display.Math object>"
      ]
     },
     "metadata": {},
     "output_type": "display_data"
    },
    {
     "name": "stdout",
     "output_type": "stream",
     "text": [
      "eq_rot_H_bad_conductor_x_subs_solve rot H = epsilon*d/dt(E_x) =\n",
      "kappa*E_bad_conductor_x(x) == (sqrt(epsilon*mu)*k_z*H_bad_conductor_f_y(x) - sqrt(epsilon*mu)*k_y*H_bad_conductor_f_z(x))/epsilon\n"
     ]
    },
    {
     "data": {
      "text/latex": [
       "$\\displaystyle \\kappa E_{{\\rm bad}_{{\\rm conductor}_{x}}}\\left(x\\right) = \\frac{\\sqrt{\\epsilon \\mu} k_{z} H_{{\\rm bad}_{{\\rm conductor}_{f_{y}}}}\\left(x\\right) - \\sqrt{\\epsilon \\mu} k_{y} H_{{\\rm bad}_{{\\rm conductor}_{f_{z}}}}\\left(x\\right)}{\\epsilon}$"
      ],
      "text/plain": [
       "<IPython.core.display.Math object>"
      ]
     },
     "metadata": {},
     "output_type": "display_data"
    },
    {
     "name": "stdout",
     "output_type": "stream",
     "text": [
      "eq_rot_E_bad_conductor_y_subs (x) rot E =\n",
      "kappa*H_bad_conductor_f_y(x) == -I*sqrt(epsilon*mu)*(I*k_z*E_bad_conductor_x(x) - diff(E_bad_conductor_z(x), x))/mu\n"
     ]
    },
    {
     "data": {
      "text/latex": [
       "$\\displaystyle \\kappa H_{{\\rm bad}_{{\\rm conductor}_{f_{y}}}}\\left(x\\right) = -\\frac{i \\, \\sqrt{\\epsilon \\mu} {\\left(i \\, k_{z} E_{{\\rm bad}_{{\\rm conductor}_{x}}}\\left(x\\right) - \\frac{\\partial}{\\partial x}E_{{\\rm bad}_{{\\rm conductor}_{z}}}\\left(x\\right)\\right)}}{\\mu}$"
      ],
      "text/plain": [
       "<IPython.core.display.Math object>"
      ]
     },
     "metadata": {},
     "output_type": "display_data"
    },
    {
     "name": "stdout",
     "output_type": "stream",
     "text": [
      "eq_rot_H_bad_conductor_x_subs_solve_m =\n",
      "kappa*E_bad_conductor_x(x) - k_z*sqrt(mu)*H_bad_conductor_f_y(x)/sqrt(epsilon) == -k_y*sqrt(mu)*H_bad_conductor_f_z(x)/sqrt(epsilon)\n"
     ]
    },
    {
     "data": {
      "text/latex": [
       "$\\displaystyle \\kappa E_{{\\rm bad}_{{\\rm conductor}_{x}}}\\left(x\\right) - \\frac{k_{z} \\sqrt{\\mu} H_{{\\rm bad}_{{\\rm conductor}_{f_{y}}}}\\left(x\\right)}{\\sqrt{\\epsilon}} = -\\frac{k_{y} \\sqrt{\\mu} H_{{\\rm bad}_{{\\rm conductor}_{f_{z}}}}\\left(x\\right)}{\\sqrt{\\epsilon}}$"
      ],
      "text/plain": [
       "<IPython.core.display.Math object>"
      ]
     },
     "metadata": {},
     "output_type": "display_data"
    },
    {
     "name": "stdout",
     "output_type": "stream",
     "text": [
      "eq_rot_E_bad_conductor_y_subs_m =\n",
      "-sqrt(epsilon)*k_z*E_bad_conductor_x(x)/sqrt(mu) + kappa*H_bad_conductor_f_y(x) == I*sqrt(epsilon)*diff(E_bad_conductor_z(x), x)/sqrt(mu)\n"
     ]
    },
    {
     "data": {
      "text/latex": [
       "$\\displaystyle -\\frac{\\sqrt{\\epsilon} k_{z} E_{{\\rm bad}_{{\\rm conductor}_{x}}}\\left(x\\right)}{\\sqrt{\\mu}} + \\kappa H_{{\\rm bad}_{{\\rm conductor}_{f_{y}}}}\\left(x\\right) = \\frac{i \\, \\sqrt{\\epsilon} \\frac{\\partial}{\\partial x}E_{{\\rm bad}_{{\\rm conductor}_{z}}}\\left(x\\right)}{\\sqrt{\\mu}}$"
      ],
      "text/plain": [
       "<IPython.core.display.Math object>"
      ]
     },
     "metadata": {},
     "output_type": "display_data"
    },
    {
     "name": "stdout",
     "output_type": "stream",
     "text": [
      "eq_7 =\n",
      "-(k_z^2 - kappa^2)*E_bad_conductor_x(x) == -(k_y*kappa*sqrt(mu)*H_bad_conductor_f_z(x) - I*sqrt(epsilon)*k_z*diff(E_bad_conductor_z(x), x))/sqrt(epsilon)\n"
     ]
    },
    {
     "data": {
      "text/latex": [
       "$\\displaystyle -{\\left(k_{z}^{2} - \\kappa^{2}\\right)} E_{{\\rm bad}_{{\\rm conductor}_{x}}}\\left(x\\right) = -\\frac{k_{y} \\kappa \\sqrt{\\mu} H_{{\\rm bad}_{{\\rm conductor}_{f_{z}}}}\\left(x\\right) - i \\, \\sqrt{\\epsilon} k_{z} \\frac{\\partial}{\\partial x}E_{{\\rm bad}_{{\\rm conductor}_{z}}}\\left(x\\right)}{\\sqrt{\\epsilon}}$"
      ],
      "text/plain": [
       "<IPython.core.display.Math object>"
      ]
     },
     "metadata": {},
     "output_type": "display_data"
    },
    {
     "name": "stdout",
     "output_type": "stream",
     "text": [
      "eq_8 =\n",
      "-(k_z^2 - kappa^2)*sqrt(mu)*H_bad_conductor_f_y(x)/sqrt(epsilon) == -(k_y*k_z*sqrt(mu)*H_bad_conductor_f_z(x) - I*sqrt(epsilon)*kappa*diff(E_bad_conductor_z(x), x))/sqrt(epsilon)\n"
     ]
    },
    {
     "data": {
      "text/latex": [
       "$\\displaystyle -\\frac{{\\left(k_{z}^{2} - \\kappa^{2}\\right)} \\sqrt{\\mu} H_{{\\rm bad}_{{\\rm conductor}_{f_{y}}}}\\left(x\\right)}{\\sqrt{\\epsilon}} = -\\frac{k_{y} k_{z} \\sqrt{\\mu} H_{{\\rm bad}_{{\\rm conductor}_{f_{z}}}}\\left(x\\right) - i \\, \\sqrt{\\epsilon} \\kappa \\frac{\\partial}{\\partial x}E_{{\\rm bad}_{{\\rm conductor}_{z}}}\\left(x\\right)}{\\sqrt{\\epsilon}}$"
      ],
      "text/plain": [
       "<IPython.core.display.Math object>"
      ]
     },
     "metadata": {},
     "output_type": "display_data"
    }
   ],
   "source": [
    "eq_rot_H_bad_conductor_x_subs       = eq_rot_H_bad_conductor_x.subs(omega==c*kappa/sqrt(epsilon*mu))\n",
    "print (\"eq_rot_H_bad_conductor_x rot_H = epsilon*d/dt(E_x) =\")\n",
    "print(eq_rot_H_bad_conductor_x)\n",
    "display(Math(latex(eq_rot_H_bad_conductor_x)))\n",
    "\n",
    "print (\"eq_rot_H_bad_conductor_x_subs rot_H = epsilon*d/dt(E_x) =\")\n",
    "print(eq_rot_H_bad_conductor_x_subs)\n",
    "display(Math(latex(eq_rot_H_bad_conductor_x_subs)))\n",
    "\n",
    "\n",
    "eq_rot_H_bad_conductor_x_subs_solve = solve(eq_rot_H_bad_conductor_x_subs, E_bad_conductor_x(x))[0] * kappa\n",
    "print (\"eq_rot_H_bad_conductor_x_subs_solve rot H = epsilon*d/dt(E_x) =\")\n",
    "print(eq_rot_H_bad_conductor_x_subs_solve)\n",
    "display(Math(latex(eq_rot_H_bad_conductor_x_subs_solve)))\n",
    "\n",
    "eq_rot_E_bad_conductor_y = H_bad_conductor_f_y(x) == H_bad_conductor_s_y(x)\n",
    "eq_rot_E_bad_conductor_y_subs = eq_rot_E_bad_conductor_y.subs(omega==c*kappa/sqrt(epsilon*mu)) * kappa\n",
    "print (\"eq_rot_E_bad_conductor_y_subs (x) rot E =\")\n",
    "print             (eq_rot_E_bad_conductor_y_subs)\n",
    "display(Math(latex(eq_rot_E_bad_conductor_y_subs)))\n",
    "\n",
    "eq_rot_H_bad_conductor_x_subs_solve_m \\\n",
    "    =  eq_rot_H_bad_conductor_x_subs_solve.lhs() \\\n",
    "    -  eq_rot_H_bad_conductor_x_subs_solve.rhs().expand().operands()[0] \\\n",
    "    == eq_rot_H_bad_conductor_x_subs_solve.rhs().expand().operands()[1]\n",
    "print (\"eq_rot_H_bad_conductor_x_subs_solve_m =\")\n",
    "print             (eq_rot_H_bad_conductor_x_subs_solve_m)\n",
    "display(Math(latex(eq_rot_H_bad_conductor_x_subs_solve_m)))\n",
    "\n",
    "eq_rot_E_bad_conductor_y_subs_m \\\n",
    "    =  eq_rot_E_bad_conductor_y_subs.lhs() \\\n",
    "    -  eq_rot_E_bad_conductor_y_subs.rhs().expand().operands()[0] \\\n",
    "    == eq_rot_E_bad_conductor_y_subs.rhs().expand().operands()[1]\n",
    "print (\"eq_rot_E_bad_conductor_y_subs_m =\")\n",
    "print             (eq_rot_E_bad_conductor_y_subs_m)\n",
    "display(Math(latex(eq_rot_E_bad_conductor_y_subs_m)))\n",
    "\n",
    "m3 = k_z*sqrt(mu)/sqrt(epsilon)\n",
    "m4 = sqrt(mu)*kappa/sqrt(epsilon)\n",
    "\n",
    "eq_7 = (eq_rot_H_bad_conductor_x_subs_solve_m*kappa + eq_rot_E_bad_conductor_y_subs_m * m3).full_simplify()\n",
    "print (\"eq_7 =\")\n",
    "print             (eq_7)\n",
    "display(Math(latex(eq_7)))\n",
    "\n",
    "eq_8 = (eq_rot_H_bad_conductor_x_subs_solve_m*k_z + eq_rot_E_bad_conductor_y_subs_m * m4).full_simplify()\n",
    "print (\"eq_8 =\")\n",
    "print             (eq_8)\n",
    "display(Math(latex(eq_8)))"
   ]
  },
  {
   "cell_type": "code",
   "execution_count": null,
   "metadata": {},
   "outputs": [],
   "source": []
  },
  {
   "cell_type": "code",
   "execution_count": 40,
   "metadata": {},
   "outputs": [],
   "source": [
    "K_vacuum_subs = K_vacuum == sqrt(kappa_vacuum^2-k_z^2)\n",
    "K_conductor_subs = K_conductor == sqrt(kappa^2-k_z^2)"
   ]
  },
  {
   "cell_type": "code",
   "execution_count": null,
   "metadata": {},
   "outputs": [],
   "source": []
  },
  {
   "cell_type": "code",
   "execution_count": 41,
   "metadata": {},
   "outputs": [
    {
     "name": "stdout",
     "output_type": "stream",
     "text": [
      "eq_1 =\n",
      "-(k_z^2 - kappa_vacuum^2)*E_inner_vacuum_y(x) == -k_y*k_z*E_inner_vacuum_z(x) - I*kappa_vacuum*diff(H_inner_vacuum_f_z(x), x)\n"
     ]
    },
    {
     "data": {
      "text/latex": [
       "$\\displaystyle -{\\left(k_{z}^{2} - \\kappa_{\\mathit{vacuum}}^{2}\\right)} E_{{\\rm inner}_{{\\rm vacuum}_{y}}}\\left(x\\right) = -k_{y} k_{z} E_{{\\rm inner}_{{\\rm vacuum}_{z}}}\\left(x\\right) - i \\, \\kappa_{\\mathit{vacuum}} \\frac{\\partial}{\\partial x}H_{{\\rm inner}_{{\\rm vacuum}_{f_{z}}}}\\left(x\\right)$"
      ],
      "text/plain": [
       "<IPython.core.display.Math object>"
      ]
     },
     "metadata": {},
     "output_type": "display_data"
    },
    {
     "name": "stdout",
     "output_type": "stream",
     "text": [
      "eq_2 =\n",
      "(k_z^2 - kappa_vacuum^2)*H_inner_vacuum_f_x(x) == -k_y*kappa_vacuum*E_inner_vacuum_z(x) - I*k_z*diff(H_inner_vacuum_f_z(x), x)\n"
     ]
    },
    {
     "data": {
      "text/latex": [
       "$\\displaystyle {\\left(k_{z}^{2} - \\kappa_{\\mathit{vacuum}}^{2}\\right)} H_{{\\rm inner}_{{\\rm vacuum}_{f_{x}}}}\\left(x\\right) = -k_{y} \\kappa_{\\mathit{vacuum}} E_{{\\rm inner}_{{\\rm vacuum}_{z}}}\\left(x\\right) - i \\, k_{z} \\frac{\\partial}{\\partial x}H_{{\\rm inner}_{{\\rm vacuum}_{f_{z}}}}\\left(x\\right)$"
      ],
      "text/plain": [
       "<IPython.core.display.Math object>"
      ]
     },
     "metadata": {},
     "output_type": "display_data"
    },
    {
     "name": "stdout",
     "output_type": "stream",
     "text": [
      "eq_3 =\n",
      "-(k_z^2 - kappa^2)*E_bad_conductor_y(x) == -(sqrt(epsilon)*k_y*k_z*E_bad_conductor_z(x) + I*kappa*sqrt(mu)*diff(H_bad_conductor_f_z(x), x))/sqrt(epsilon)\n"
     ]
    },
    {
     "data": {
      "text/latex": [
       "$\\displaystyle -{\\left(k_{z}^{2} - \\kappa^{2}\\right)} E_{{\\rm bad}_{{\\rm conductor}_{y}}}\\left(x\\right) = -\\frac{\\sqrt{\\epsilon} k_{y} k_{z} E_{{\\rm bad}_{{\\rm conductor}_{z}}}\\left(x\\right) + i \\, \\kappa \\sqrt{\\mu} \\frac{\\partial}{\\partial x}H_{{\\rm bad}_{{\\rm conductor}_{f_{z}}}}\\left(x\\right)}{\\sqrt{\\epsilon}}$"
      ],
      "text/plain": [
       "<IPython.core.display.Math object>"
      ]
     },
     "metadata": {},
     "output_type": "display_data"
    },
    {
     "name": "stdout",
     "output_type": "stream",
     "text": [
      "eq_4 =\n",
      "(k_z^2 - kappa^2)*sqrt(mu)*H_bad_conductor_f_x(x)/sqrt(epsilon) == -(sqrt(epsilon)*k_y*kappa*E_bad_conductor_z(x) + I*k_z*sqrt(mu)*diff(H_bad_conductor_f_z(x), x))/sqrt(epsilon)\n"
     ]
    },
    {
     "data": {
      "text/latex": [
       "$\\displaystyle \\frac{{\\left(k_{z}^{2} - \\kappa^{2}\\right)} \\sqrt{\\mu} H_{{\\rm bad}_{{\\rm conductor}_{f_{x}}}}\\left(x\\right)}{\\sqrt{\\epsilon}} = -\\frac{\\sqrt{\\epsilon} k_{y} \\kappa E_{{\\rm bad}_{{\\rm conductor}_{z}}}\\left(x\\right) + i \\, k_{z} \\sqrt{\\mu} \\frac{\\partial}{\\partial x}H_{{\\rm bad}_{{\\rm conductor}_{f_{z}}}}\\left(x\\right)}{\\sqrt{\\epsilon}}$"
      ],
      "text/plain": [
       "<IPython.core.display.Math object>"
      ]
     },
     "metadata": {},
     "output_type": "display_data"
    }
   ],
   "source": [
    "print (\"eq_1 =\")\n",
    "print             (eq_1)\n",
    "display(Math(latex(eq_1)))\n",
    "\n",
    "print (\"eq_2 =\")\n",
    "print             (eq_2)\n",
    "display(Math(latex(eq_2)))\n",
    "\n",
    "print (\"eq_3 =\")\n",
    "print             (eq_3)\n",
    "display(Math(latex(eq_3)))\n",
    "\n",
    "print (\"eq_4 =\")\n",
    "print             (eq_4)\n",
    "display(Math(latex(eq_4)))"
   ]
  },
  {
   "cell_type": "code",
   "execution_count": 42,
   "metadata": {},
   "outputs": [
    {
     "name": "stdout",
     "output_type": "stream",
     "text": [
      "eq_1 =\n",
      "-(k_z^2 - kappa_vacuum^2)*E_inner_vacuum_y(x) == -k_y*k_z*E_inner_vacuum_z(x) - I*kappa_vacuum*diff(H_inner_vacuum_f_z(x), x)\n"
     ]
    },
    {
     "data": {
      "text/latex": [
       "$\\displaystyle -{\\left(k_{z}^{2} - \\kappa_{\\mathit{vacuum}}^{2}\\right)} E_{{\\rm inner}_{{\\rm vacuum}_{y}}}\\left(x\\right) = -k_{y} k_{z} E_{{\\rm inner}_{{\\rm vacuum}_{z}}}\\left(x\\right) - i \\, \\kappa_{\\mathit{vacuum}} \\frac{\\partial}{\\partial x}H_{{\\rm inner}_{{\\rm vacuum}_{f_{z}}}}\\left(x\\right)$"
      ],
      "text/plain": [
       "<IPython.core.display.Math object>"
      ]
     },
     "metadata": {},
     "output_type": "display_data"
    }
   ],
   "source": [
    "print (\"eq_1 =\")\n",
    "print             (eq_1)\n",
    "display(Math(latex(eq_1)))"
   ]
  },
  {
   "cell_type": "code",
   "execution_count": 43,
   "metadata": {
    "scrolled": true
   },
   "outputs": [
    {
     "name": "stdout",
     "output_type": "stream",
     "text": [
      "-(k_z^2 - kappa_vacuum^2)*E_inner_vacuum_y(x) == -I*kappa_vacuum*diff(H_inner_vacuum_f_z(x), x)\n"
     ]
    },
    {
     "data": {
      "text/latex": [
       "$\\displaystyle -{\\left(k_{z}^{2} - \\kappa_{\\mathit{vacuum}}^{2}\\right)} E_{{\\rm inner}_{{\\rm vacuum}_{y}}}\\left(x\\right) = -i \\, \\kappa_{\\mathit{vacuum}} \\frac{\\partial}{\\partial x}H_{{\\rm inner}_{{\\rm vacuum}_{f_{z}}}}\\left(x\\right)$"
      ],
      "text/plain": [
       "<IPython.core.display.Math object>"
      ]
     },
     "metadata": {},
     "output_type": "display_data"
    }
   ],
   "source": [
    "eq_1_subs1 = eq_1.subs(k_y == 0)\n",
    "print             (eq_1_subs1)\n",
    "display(Math(latex(eq_1_subs1)))"
   ]
  },
  {
   "cell_type": "code",
   "execution_count": 44,
   "metadata": {
    "scrolled": true
   },
   "outputs": [
    {
     "name": "stdout",
     "output_type": "stream",
     "text": [
      "E_inner_vacuum_y(x) == I*kappa_vacuum*diff(H_inner_vacuum_f_z(x), x)/(k_z^2 - kappa_vacuum^2)\n"
     ]
    },
    {
     "data": {
      "text/latex": [
       "$\\displaystyle E_{{\\rm inner}_{{\\rm vacuum}_{y}}}\\left(x\\right) = \\frac{i \\, \\kappa_{\\mathit{vacuum}} \\frac{\\partial}{\\partial x}H_{{\\rm inner}_{{\\rm vacuum}_{f_{z}}}}\\left(x\\right)}{k_{z}^{2} - \\kappa_{\\mathit{vacuum}}^{2}}$"
      ],
      "text/plain": [
       "<IPython.core.display.Math object>"
      ]
     },
     "metadata": {},
     "output_type": "display_data"
    }
   ],
   "source": [
    "eq_1_subs2 = (eq_1_subs1/(kappa_vacuum^2 - k_z^2)).full_simplify()\n",
    "print             (eq_1_subs2)\n",
    "display(Math(latex(eq_1_subs2)))"
   ]
  },
  {
   "cell_type": "code",
   "execution_count": 45,
   "metadata": {
    "scrolled": true
   },
   "outputs": [
    {
     "name": "stdout",
     "output_type": "stream",
     "text": [
      "E_inner_vacuum_y(x) == -(A2_y*K_vacuum^2*e^(I*K_vacuum*x) + A1_y*K_vacuum^2*e^(-I*K_vacuum*x) + I*(I*A2_x*K_vacuum*e^(I*K_vacuum*x) - I*A1_x*K_vacuum*e^(-I*K_vacuum*x))*k_y)*c*kappa_vacuum/((k_z^2 - kappa_vacuum^2)*omega)\n"
     ]
    },
    {
     "data": {
      "text/latex": [
       "$\\displaystyle E_{{\\rm inner}_{{\\rm vacuum}_{y}}}\\left(x\\right) = -\\frac{{\\left(\\mathit{A2}_{y} K_{\\mathit{vacuum}}^{2} e^{\\left(i \\, K_{\\mathit{vacuum}} x\\right)} + \\mathit{A1}_{y} K_{\\mathit{vacuum}}^{2} e^{\\left(-i \\, K_{\\mathit{vacuum}} x\\right)} + i \\, {\\left(i \\, \\mathit{A2}_{x} K_{\\mathit{vacuum}} e^{\\left(i \\, K_{\\mathit{vacuum}} x\\right)} - i \\, \\mathit{A1}_{x} K_{\\mathit{vacuum}} e^{\\left(-i \\, K_{\\mathit{vacuum}} x\\right)}\\right)} k_{y}\\right)} c \\kappa_{\\mathit{vacuum}}}{{\\left(k_{z}^{2} - \\kappa_{\\mathit{vacuum}}^{2}\\right)} \\omega}$"
      ],
      "text/plain": [
       "<IPython.core.display.Math object>"
      ]
     },
     "metadata": {},
     "output_type": "display_data"
    }
   ],
   "source": [
    "eq_1_subs3 = eq_1_subs2.substitute_function(H_inner_vacuum_f_z, H_inner_vacuum_sol_z)\n",
    "print             (eq_1_subs3)\n",
    "display(Math(latex(eq_1_subs3)))"
   ]
  },
  {
   "cell_type": "code",
   "execution_count": 46,
   "metadata": {},
   "outputs": [
    {
     "name": "stdout",
     "output_type": "stream",
     "text": [
      "E_inner_vacuum_y(x) == -(A2_y*K_vacuum^2*e^(I*K_vacuum*x) + A1_y*K_vacuum^2*e^(-I*K_vacuum*x) + I*(I*A2_x*K_vacuum*e^(I*K_vacuum*x) - I*A1_x*K_vacuum*e^(-I*K_vacuum*x))*k_y)/(k_z^2 - kappa_vacuum^2)\n"
     ]
    },
    {
     "data": {
      "text/latex": [
       "$\\displaystyle E_{{\\rm inner}_{{\\rm vacuum}_{y}}}\\left(x\\right) = -\\frac{\\mathit{A2}_{y} K_{\\mathit{vacuum}}^{2} e^{\\left(i \\, K_{\\mathit{vacuum}} x\\right)} + \\mathit{A1}_{y} K_{\\mathit{vacuum}}^{2} e^{\\left(-i \\, K_{\\mathit{vacuum}} x\\right)} + i \\, {\\left(i \\, \\mathit{A2}_{x} K_{\\mathit{vacuum}} e^{\\left(i \\, K_{\\mathit{vacuum}} x\\right)} - i \\, \\mathit{A1}_{x} K_{\\mathit{vacuum}} e^{\\left(-i \\, K_{\\mathit{vacuum}} x\\right)}\\right)} k_{y}}{k_{z}^{2} - \\kappa_{\\mathit{vacuum}}^{2}}$"
      ],
      "text/plain": [
       "<IPython.core.display.Math object>"
      ]
     },
     "metadata": {},
     "output_type": "display_data"
    }
   ],
   "source": [
    "eq_1_subs4 = eq_1_subs3.subs(omega==c*kappa_vacuum/sqrt(epsilon_0*mu_0))\n",
    "print             (eq_1_subs4)\n",
    "display(Math(latex(eq_1_subs4)))"
   ]
  },
  {
   "cell_type": "code",
   "execution_count": null,
   "metadata": {},
   "outputs": [],
   "source": []
  },
  {
   "cell_type": "code",
   "execution_count": 47,
   "metadata": {},
   "outputs": [
    {
     "name": "stdout",
     "output_type": "stream",
     "text": [
      "eq_2 =\n",
      "(k_z^2 - kappa_vacuum^2)*H_inner_vacuum_f_x(x) == -k_y*kappa_vacuum*E_inner_vacuum_z(x) - I*k_z*diff(H_inner_vacuum_f_z(x), x)\n"
     ]
    },
    {
     "data": {
      "text/latex": [
       "$\\displaystyle {\\left(k_{z}^{2} - \\kappa_{\\mathit{vacuum}}^{2}\\right)} H_{{\\rm inner}_{{\\rm vacuum}_{f_{x}}}}\\left(x\\right) = -k_{y} \\kappa_{\\mathit{vacuum}} E_{{\\rm inner}_{{\\rm vacuum}_{z}}}\\left(x\\right) - i \\, k_{z} \\frac{\\partial}{\\partial x}H_{{\\rm inner}_{{\\rm vacuum}_{f_{z}}}}\\left(x\\right)$"
      ],
      "text/plain": [
       "<IPython.core.display.Math object>"
      ]
     },
     "metadata": {},
     "output_type": "display_data"
    }
   ],
   "source": [
    "print (\"eq_2 =\")\n",
    "print             (eq_2)\n",
    "display(Math(latex(eq_2)))"
   ]
  },
  {
   "cell_type": "code",
   "execution_count": 48,
   "metadata": {
    "scrolled": true
   },
   "outputs": [
    {
     "name": "stdout",
     "output_type": "stream",
     "text": [
      "(k_z^2 - kappa_vacuum^2)*H_inner_vacuum_f_x(x) == -I*k_z*diff(H_inner_vacuum_f_z(x), x)\n"
     ]
    },
    {
     "data": {
      "text/latex": [
       "$\\displaystyle {\\left(k_{z}^{2} - \\kappa_{\\mathit{vacuum}}^{2}\\right)} H_{{\\rm inner}_{{\\rm vacuum}_{f_{x}}}}\\left(x\\right) = -i \\, k_{z} \\frac{\\partial}{\\partial x}H_{{\\rm inner}_{{\\rm vacuum}_{f_{z}}}}\\left(x\\right)$"
      ],
      "text/plain": [
       "<IPython.core.display.Math object>"
      ]
     },
     "metadata": {},
     "output_type": "display_data"
    }
   ],
   "source": [
    "eq_2_subs1 = eq_2.subs(k_y == 0)\n",
    "print             (eq_2_subs1)\n",
    "display(Math(latex(eq_2_subs1)))"
   ]
  },
  {
   "cell_type": "code",
   "execution_count": 49,
   "metadata": {
    "scrolled": true
   },
   "outputs": [
    {
     "name": "stdout",
     "output_type": "stream",
     "text": [
      "-H_inner_vacuum_f_x(x) == I*k_z*diff(H_inner_vacuum_f_z(x), x)/(k_z^2 - kappa_vacuum^2)\n"
     ]
    },
    {
     "data": {
      "text/latex": [
       "$\\displaystyle -H_{{\\rm inner}_{{\\rm vacuum}_{f_{x}}}}\\left(x\\right) = \\frac{i \\, k_{z} \\frac{\\partial}{\\partial x}H_{{\\rm inner}_{{\\rm vacuum}_{f_{z}}}}\\left(x\\right)}{k_{z}^{2} - \\kappa_{\\mathit{vacuum}}^{2}}$"
      ],
      "text/plain": [
       "<IPython.core.display.Math object>"
      ]
     },
     "metadata": {},
     "output_type": "display_data"
    }
   ],
   "source": [
    "eq_2_subs2 = (eq_2_subs1/(kappa_vacuum^2 - k_z^2)).full_simplify()\n",
    "print             (eq_2_subs2)\n",
    "display(Math(latex(eq_2_subs2)))"
   ]
  },
  {
   "cell_type": "code",
   "execution_count": 50,
   "metadata": {
    "scrolled": true
   },
   "outputs": [
    {
     "name": "stdout",
     "output_type": "stream",
     "text": [
      "-H_inner_vacuum_f_x(x) == -(A2_y*K_vacuum^2*e^(I*K_vacuum*x) + A1_y*K_vacuum^2*e^(-I*K_vacuum*x) + I*(I*A2_x*K_vacuum*e^(I*K_vacuum*x) - I*A1_x*K_vacuum*e^(-I*K_vacuum*x))*k_y)*c*k_z/((k_z^2 - kappa_vacuum^2)*omega)\n"
     ]
    },
    {
     "data": {
      "text/latex": [
       "$\\displaystyle -H_{{\\rm inner}_{{\\rm vacuum}_{f_{x}}}}\\left(x\\right) = -\\frac{{\\left(\\mathit{A2}_{y} K_{\\mathit{vacuum}}^{2} e^{\\left(i \\, K_{\\mathit{vacuum}} x\\right)} + \\mathit{A1}_{y} K_{\\mathit{vacuum}}^{2} e^{\\left(-i \\, K_{\\mathit{vacuum}} x\\right)} + i \\, {\\left(i \\, \\mathit{A2}_{x} K_{\\mathit{vacuum}} e^{\\left(i \\, K_{\\mathit{vacuum}} x\\right)} - i \\, \\mathit{A1}_{x} K_{\\mathit{vacuum}} e^{\\left(-i \\, K_{\\mathit{vacuum}} x\\right)}\\right)} k_{y}\\right)} c k_{z}}{{\\left(k_{z}^{2} - \\kappa_{\\mathit{vacuum}}^{2}\\right)} \\omega}$"
      ],
      "text/plain": [
       "<IPython.core.display.Math object>"
      ]
     },
     "metadata": {},
     "output_type": "display_data"
    }
   ],
   "source": [
    "eq_2_subs3 = eq_2_subs2.substitute_function(H_inner_vacuum_f_z, H_inner_vacuum_sol_z)\n",
    "print             (eq_2_subs3)\n",
    "display(Math(latex(eq_2_subs3)))"
   ]
  },
  {
   "cell_type": "code",
   "execution_count": 51,
   "metadata": {},
   "outputs": [
    {
     "name": "stdout",
     "output_type": "stream",
     "text": [
      "-H_inner_vacuum_f_x(x) == -(A2_y*K_vacuum^2*e^(I*K_vacuum*x) + A1_y*K_vacuum^2*e^(-I*K_vacuum*x) + I*(I*A2_x*K_vacuum*e^(I*K_vacuum*x) - I*A1_x*K_vacuum*e^(-I*K_vacuum*x))*k_y)*k_z/((k_z^2 - kappa_vacuum^2)*kappa_vacuum)\n"
     ]
    },
    {
     "data": {
      "text/latex": [
       "$\\displaystyle -H_{{\\rm inner}_{{\\rm vacuum}_{f_{x}}}}\\left(x\\right) = -\\frac{{\\left(\\mathit{A2}_{y} K_{\\mathit{vacuum}}^{2} e^{\\left(i \\, K_{\\mathit{vacuum}} x\\right)} + \\mathit{A1}_{y} K_{\\mathit{vacuum}}^{2} e^{\\left(-i \\, K_{\\mathit{vacuum}} x\\right)} + i \\, {\\left(i \\, \\mathit{A2}_{x} K_{\\mathit{vacuum}} e^{\\left(i \\, K_{\\mathit{vacuum}} x\\right)} - i \\, \\mathit{A1}_{x} K_{\\mathit{vacuum}} e^{\\left(-i \\, K_{\\mathit{vacuum}} x\\right)}\\right)} k_{y}\\right)} k_{z}}{{\\left(k_{z}^{2} - \\kappa_{\\mathit{vacuum}}^{2}\\right)} \\kappa_{\\mathit{vacuum}}}$"
      ],
      "text/plain": [
       "<IPython.core.display.Math object>"
      ]
     },
     "metadata": {},
     "output_type": "display_data"
    }
   ],
   "source": [
    "eq_2_subs4 = eq_2_subs3.subs(omega==c*kappa_vacuum/sqrt(epsilon_0*mu_0))\n",
    "print             (eq_2_subs4)\n",
    "display(Math(latex(eq_2_subs4)))"
   ]
  },
  {
   "cell_type": "code",
   "execution_count": null,
   "metadata": {},
   "outputs": [],
   "source": []
  },
  {
   "cell_type": "code",
   "execution_count": 52,
   "metadata": {},
   "outputs": [
    {
     "name": "stdout",
     "output_type": "stream",
     "text": [
      "eq_3 =\n",
      "-(k_z^2 - kappa^2)*E_bad_conductor_y(x) == -(sqrt(epsilon)*k_y*k_z*E_bad_conductor_z(x) + I*kappa*sqrt(mu)*diff(H_bad_conductor_f_z(x), x))/sqrt(epsilon)\n"
     ]
    },
    {
     "data": {
      "text/latex": [
       "$\\displaystyle -{\\left(k_{z}^{2} - \\kappa^{2}\\right)} E_{{\\rm bad}_{{\\rm conductor}_{y}}}\\left(x\\right) = -\\frac{\\sqrt{\\epsilon} k_{y} k_{z} E_{{\\rm bad}_{{\\rm conductor}_{z}}}\\left(x\\right) + i \\, \\kappa \\sqrt{\\mu} \\frac{\\partial}{\\partial x}H_{{\\rm bad}_{{\\rm conductor}_{f_{z}}}}\\left(x\\right)}{\\sqrt{\\epsilon}}$"
      ],
      "text/plain": [
       "<IPython.core.display.Math object>"
      ]
     },
     "metadata": {},
     "output_type": "display_data"
    }
   ],
   "source": [
    "print (\"eq_3 =\")\n",
    "print             (eq_3)\n",
    "display(Math(latex(eq_3)))"
   ]
  },
  {
   "cell_type": "code",
   "execution_count": 53,
   "metadata": {
    "scrolled": true
   },
   "outputs": [
    {
     "name": "stdout",
     "output_type": "stream",
     "text": [
      "-(k_z^2 - kappa^2)*E_bad_conductor_y(x) == -I*kappa*sqrt(mu)*diff(H_bad_conductor_f_z(x), x)/sqrt(epsilon)\n"
     ]
    },
    {
     "data": {
      "text/latex": [
       "$\\displaystyle -{\\left(k_{z}^{2} - \\kappa^{2}\\right)} E_{{\\rm bad}_{{\\rm conductor}_{y}}}\\left(x\\right) = -\\frac{i \\, \\kappa \\sqrt{\\mu} \\frac{\\partial}{\\partial x}H_{{\\rm bad}_{{\\rm conductor}_{f_{z}}}}\\left(x\\right)}{\\sqrt{\\epsilon}}$"
      ],
      "text/plain": [
       "<IPython.core.display.Math object>"
      ]
     },
     "metadata": {},
     "output_type": "display_data"
    }
   ],
   "source": [
    "eq_3_subs1 = eq_3.subs(k_y == 0)\n",
    "print             (eq_3_subs1)\n",
    "display(Math(latex(eq_3_subs1)))"
   ]
  },
  {
   "cell_type": "code",
   "execution_count": 54,
   "metadata": {
    "scrolled": true
   },
   "outputs": [
    {
     "name": "stdout",
     "output_type": "stream",
     "text": [
      "E_bad_conductor_y(x) == I*kappa*sqrt(mu)*diff(H_bad_conductor_f_z(x), x)/((k_z^2 - kappa^2)*sqrt(epsilon))\n"
     ]
    },
    {
     "data": {
      "text/latex": [
       "$\\displaystyle E_{{\\rm bad}_{{\\rm conductor}_{y}}}\\left(x\\right) = \\frac{i \\, \\kappa \\sqrt{\\mu} \\frac{\\partial}{\\partial x}H_{{\\rm bad}_{{\\rm conductor}_{f_{z}}}}\\left(x\\right)}{{\\left(k_{z}^{2} - \\kappa^{2}\\right)} \\sqrt{\\epsilon}}$"
      ],
      "text/plain": [
       "<IPython.core.display.Math object>"
      ]
     },
     "metadata": {},
     "output_type": "display_data"
    }
   ],
   "source": [
    "eq_3_subs2 = (eq_3_subs1/(kappa^2 - k_z^2)).full_simplify()\n",
    "print             (eq_3_subs2)\n",
    "display(Math(latex(eq_3_subs2)))"
   ]
  },
  {
   "cell_type": "code",
   "execution_count": 55,
   "metadata": {
    "scrolled": true
   },
   "outputs": [
    {
     "name": "stdout",
     "output_type": "stream",
     "text": [
      "E_bad_conductor_y(x) == -(B1_y*K_conductor^2*e^(I*K_conductor*x) - B1_x*K_conductor*k_y*e^(I*K_conductor*x))*c*kappa/((k_z^2 - kappa^2)*sqrt(epsilon)*sqrt(mu)*omega)\n"
     ]
    },
    {
     "data": {
      "text/latex": [
       "$\\displaystyle E_{{\\rm bad}_{{\\rm conductor}_{y}}}\\left(x\\right) = -\\frac{{\\left(\\mathit{B1}_{y} K_{\\mathit{conductor}}^{2} e^{\\left(i \\, K_{\\mathit{conductor}} x\\right)} - \\mathit{B1}_{x} K_{\\mathit{conductor}} k_{y} e^{\\left(i \\, K_{\\mathit{conductor}} x\\right)}\\right)} c \\kappa}{{\\left(k_{z}^{2} - \\kappa^{2}\\right)} \\sqrt{\\epsilon} \\sqrt{\\mu} \\omega}$"
      ],
      "text/plain": [
       "<IPython.core.display.Math object>"
      ]
     },
     "metadata": {},
     "output_type": "display_data"
    }
   ],
   "source": [
    "eq_3_subs3 = eq_3_subs2.substitute_function(H_bad_conductor_f_z, H_bad_conductor_sol_z)\n",
    "print             (eq_3_subs3)\n",
    "display(Math(latex(eq_3_subs3)))"
   ]
  },
  {
   "cell_type": "code",
   "execution_count": 56,
   "metadata": {},
   "outputs": [
    {
     "name": "stdout",
     "output_type": "stream",
     "text": [
      "E_bad_conductor_y(x) == -(B1_y*K_conductor^2*e^(I*K_conductor*x) - B1_x*K_conductor*k_y*e^(I*K_conductor*x))*sqrt(epsilon*mu)/((k_z^2 - kappa^2)*sqrt(epsilon)*sqrt(mu))\n"
     ]
    },
    {
     "data": {
      "text/latex": [
       "$\\displaystyle E_{{\\rm bad}_{{\\rm conductor}_{y}}}\\left(x\\right) = -\\frac{{\\left(\\mathit{B1}_{y} K_{\\mathit{conductor}}^{2} e^{\\left(i \\, K_{\\mathit{conductor}} x\\right)} - \\mathit{B1}_{x} K_{\\mathit{conductor}} k_{y} e^{\\left(i \\, K_{\\mathit{conductor}} x\\right)}\\right)} \\sqrt{\\epsilon \\mu}}{{\\left(k_{z}^{2} - \\kappa^{2}\\right)} \\sqrt{\\epsilon} \\sqrt{\\mu}}$"
      ],
      "text/plain": [
       "<IPython.core.display.Math object>"
      ]
     },
     "metadata": {},
     "output_type": "display_data"
    }
   ],
   "source": [
    "eq_3_subs4 = eq_3_subs3.subs(omega==c*kappa/sqrt(epsilon*mu))\n",
    "print             (eq_3_subs4)\n",
    "display(Math(latex(eq_3_subs4)))"
   ]
  },
  {
   "cell_type": "code",
   "execution_count": null,
   "metadata": {},
   "outputs": [],
   "source": []
  },
  {
   "cell_type": "code",
   "execution_count": 57,
   "metadata": {},
   "outputs": [
    {
     "name": "stdout",
     "output_type": "stream",
     "text": [
      "eq_4 =\n",
      "(k_z^2 - kappa^2)*sqrt(mu)*H_bad_conductor_f_x(x)/sqrt(epsilon) == -(sqrt(epsilon)*k_y*kappa*E_bad_conductor_z(x) + I*k_z*sqrt(mu)*diff(H_bad_conductor_f_z(x), x))/sqrt(epsilon)\n"
     ]
    },
    {
     "data": {
      "text/latex": [
       "$\\displaystyle \\frac{{\\left(k_{z}^{2} - \\kappa^{2}\\right)} \\sqrt{\\mu} H_{{\\rm bad}_{{\\rm conductor}_{f_{x}}}}\\left(x\\right)}{\\sqrt{\\epsilon}} = -\\frac{\\sqrt{\\epsilon} k_{y} \\kappa E_{{\\rm bad}_{{\\rm conductor}_{z}}}\\left(x\\right) + i \\, k_{z} \\sqrt{\\mu} \\frac{\\partial}{\\partial x}H_{{\\rm bad}_{{\\rm conductor}_{f_{z}}}}\\left(x\\right)}{\\sqrt{\\epsilon}}$"
      ],
      "text/plain": [
       "<IPython.core.display.Math object>"
      ]
     },
     "metadata": {},
     "output_type": "display_data"
    }
   ],
   "source": [
    "print (\"eq_4 =\")\n",
    "print             (eq_4)\n",
    "display(Math(latex(eq_4)))"
   ]
  },
  {
   "cell_type": "code",
   "execution_count": 58,
   "metadata": {
    "scrolled": true
   },
   "outputs": [
    {
     "name": "stdout",
     "output_type": "stream",
     "text": [
      "(k_z^2 - kappa^2)*sqrt(mu)*H_bad_conductor_f_x(x)/sqrt(epsilon) == -I*k_z*sqrt(mu)*diff(H_bad_conductor_f_z(x), x)/sqrt(epsilon)\n"
     ]
    },
    {
     "data": {
      "text/latex": [
       "$\\displaystyle \\frac{{\\left(k_{z}^{2} - \\kappa^{2}\\right)} \\sqrt{\\mu} H_{{\\rm bad}_{{\\rm conductor}_{f_{x}}}}\\left(x\\right)}{\\sqrt{\\epsilon}} = -\\frac{i \\, k_{z} \\sqrt{\\mu} \\frac{\\partial}{\\partial x}H_{{\\rm bad}_{{\\rm conductor}_{f_{z}}}}\\left(x\\right)}{\\sqrt{\\epsilon}}$"
      ],
      "text/plain": [
       "<IPython.core.display.Math object>"
      ]
     },
     "metadata": {},
     "output_type": "display_data"
    }
   ],
   "source": [
    "eq_4_subs1 = eq_4.subs(k_y == 0)\n",
    "print             (eq_4_subs1)\n",
    "display(Math(latex(eq_4_subs1)))"
   ]
  },
  {
   "cell_type": "code",
   "execution_count": 59,
   "metadata": {
    "scrolled": true
   },
   "outputs": [
    {
     "name": "stdout",
     "output_type": "stream",
     "text": [
      "-sqrt(mu)*H_bad_conductor_f_x(x)/sqrt(epsilon) == I*k_z*sqrt(mu)*diff(H_bad_conductor_f_z(x), x)/((k_z^2 - kappa^2)*sqrt(epsilon))\n"
     ]
    },
    {
     "data": {
      "text/latex": [
       "$\\displaystyle -\\frac{\\sqrt{\\mu} H_{{\\rm bad}_{{\\rm conductor}_{f_{x}}}}\\left(x\\right)}{\\sqrt{\\epsilon}} = \\frac{i \\, k_{z} \\sqrt{\\mu} \\frac{\\partial}{\\partial x}H_{{\\rm bad}_{{\\rm conductor}_{f_{z}}}}\\left(x\\right)}{{\\left(k_{z}^{2} - \\kappa^{2}\\right)} \\sqrt{\\epsilon}}$"
      ],
      "text/plain": [
       "<IPython.core.display.Math object>"
      ]
     },
     "metadata": {},
     "output_type": "display_data"
    }
   ],
   "source": [
    "eq_4_subs2 = (eq_4_subs1/(kappa^2 - k_z^2)).full_simplify()\n",
    "print             (eq_4_subs2)\n",
    "display(Math(latex(eq_4_subs2)))"
   ]
  },
  {
   "cell_type": "code",
   "execution_count": 60,
   "metadata": {
    "scrolled": true
   },
   "outputs": [
    {
     "name": "stdout",
     "output_type": "stream",
     "text": [
      "-sqrt(mu)*H_bad_conductor_f_x(x)/sqrt(epsilon) == -(B1_y*K_conductor^2*e^(I*K_conductor*x) - B1_x*K_conductor*k_y*e^(I*K_conductor*x))*c*k_z/((k_z^2 - kappa^2)*sqrt(epsilon)*sqrt(mu)*omega)\n"
     ]
    },
    {
     "data": {
      "text/latex": [
       "$\\displaystyle -\\frac{\\sqrt{\\mu} H_{{\\rm bad}_{{\\rm conductor}_{f_{x}}}}\\left(x\\right)}{\\sqrt{\\epsilon}} = -\\frac{{\\left(\\mathit{B1}_{y} K_{\\mathit{conductor}}^{2} e^{\\left(i \\, K_{\\mathit{conductor}} x\\right)} - \\mathit{B1}_{x} K_{\\mathit{conductor}} k_{y} e^{\\left(i \\, K_{\\mathit{conductor}} x\\right)}\\right)} c k_{z}}{{\\left(k_{z}^{2} - \\kappa^{2}\\right)} \\sqrt{\\epsilon} \\sqrt{\\mu} \\omega}$"
      ],
      "text/plain": [
       "<IPython.core.display.Math object>"
      ]
     },
     "metadata": {},
     "output_type": "display_data"
    }
   ],
   "source": [
    "eq_4_subs3 = eq_4_subs2.substitute_function(H_bad_conductor_f_z, H_bad_conductor_sol_z)\n",
    "print             (eq_4_subs3)\n",
    "display(Math(latex(eq_4_subs3)))"
   ]
  },
  {
   "cell_type": "code",
   "execution_count": 61,
   "metadata": {},
   "outputs": [
    {
     "name": "stdout",
     "output_type": "stream",
     "text": [
      "-sqrt(mu)*H_bad_conductor_f_x(x)/sqrt(epsilon) == -(B1_y*K_conductor^2*e^(I*K_conductor*x) - B1_x*K_conductor*k_y*e^(I*K_conductor*x))*sqrt(epsilon*mu)*k_z/((k_z^2 - kappa^2)*sqrt(epsilon)*kappa*sqrt(mu))\n"
     ]
    },
    {
     "data": {
      "text/latex": [
       "$\\displaystyle -\\frac{\\sqrt{\\mu} H_{{\\rm bad}_{{\\rm conductor}_{f_{x}}}}\\left(x\\right)}{\\sqrt{\\epsilon}} = -\\frac{{\\left(\\mathit{B1}_{y} K_{\\mathit{conductor}}^{2} e^{\\left(i \\, K_{\\mathit{conductor}} x\\right)} - \\mathit{B1}_{x} K_{\\mathit{conductor}} k_{y} e^{\\left(i \\, K_{\\mathit{conductor}} x\\right)}\\right)} \\sqrt{\\epsilon \\mu} k_{z}}{{\\left(k_{z}^{2} - \\kappa^{2}\\right)} \\sqrt{\\epsilon} \\kappa \\sqrt{\\mu}}$"
      ],
      "text/plain": [
       "<IPython.core.display.Math object>"
      ]
     },
     "metadata": {},
     "output_type": "display_data"
    }
   ],
   "source": [
    "eq_4_subs4 = eq_4_subs3.subs(omega==c*kappa/sqrt(epsilon*mu))\n",
    "print             (eq_4_subs4)\n",
    "display(Math(latex(eq_4_subs4)))"
   ]
  },
  {
   "cell_type": "code",
   "execution_count": null,
   "metadata": {},
   "outputs": [],
   "source": []
  },
  {
   "cell_type": "code",
   "execution_count": 62,
   "metadata": {},
   "outputs": [
    {
     "name": "stdout",
     "output_type": "stream",
     "text": [
      "eq_5 =\n",
      "-(k_z^2 - kappa_vacuum^2)*E_inner_vacuum_x(x) == -k_y*kappa_vacuum*H_inner_vacuum_f_z(x) + I*k_z*diff(E_inner_vacuum_z(x), x)\n"
     ]
    },
    {
     "data": {
      "text/latex": [
       "$\\displaystyle -{\\left(k_{z}^{2} - \\kappa_{\\mathit{vacuum}}^{2}\\right)} E_{{\\rm inner}_{{\\rm vacuum}_{x}}}\\left(x\\right) = -k_{y} \\kappa_{\\mathit{vacuum}} H_{{\\rm inner}_{{\\rm vacuum}_{f_{z}}}}\\left(x\\right) + i \\, k_{z} \\frac{\\partial}{\\partial x}E_{{\\rm inner}_{{\\rm vacuum}_{z}}}\\left(x\\right)$"
      ],
      "text/plain": [
       "<IPython.core.display.Math object>"
      ]
     },
     "metadata": {},
     "output_type": "display_data"
    },
    {
     "name": "stdout",
     "output_type": "stream",
     "text": [
      "eq_6 =\n",
      "-(k_z^2 - kappa_vacuum^2)*H_inner_vacuum_f_y(x) == -k_y*k_z*H_inner_vacuum_f_z(x) + I*kappa_vacuum*diff(E_inner_vacuum_z(x), x)\n"
     ]
    },
    {
     "data": {
      "text/latex": [
       "$\\displaystyle -{\\left(k_{z}^{2} - \\kappa_{\\mathit{vacuum}}^{2}\\right)} H_{{\\rm inner}_{{\\rm vacuum}_{f_{y}}}}\\left(x\\right) = -k_{y} k_{z} H_{{\\rm inner}_{{\\rm vacuum}_{f_{z}}}}\\left(x\\right) + i \\, \\kappa_{\\mathit{vacuum}} \\frac{\\partial}{\\partial x}E_{{\\rm inner}_{{\\rm vacuum}_{z}}}\\left(x\\right)$"
      ],
      "text/plain": [
       "<IPython.core.display.Math object>"
      ]
     },
     "metadata": {},
     "output_type": "display_data"
    },
    {
     "name": "stdout",
     "output_type": "stream",
     "text": [
      "eq_7 =\n",
      "-(k_z^2 - kappa^2)*E_bad_conductor_x(x) == -(k_y*kappa*sqrt(mu)*H_bad_conductor_f_z(x) - I*sqrt(epsilon)*k_z*diff(E_bad_conductor_z(x), x))/sqrt(epsilon)\n"
     ]
    },
    {
     "data": {
      "text/latex": [
       "$\\displaystyle -{\\left(k_{z}^{2} - \\kappa^{2}\\right)} E_{{\\rm bad}_{{\\rm conductor}_{x}}}\\left(x\\right) = -\\frac{k_{y} \\kappa \\sqrt{\\mu} H_{{\\rm bad}_{{\\rm conductor}_{f_{z}}}}\\left(x\\right) - i \\, \\sqrt{\\epsilon} k_{z} \\frac{\\partial}{\\partial x}E_{{\\rm bad}_{{\\rm conductor}_{z}}}\\left(x\\right)}{\\sqrt{\\epsilon}}$"
      ],
      "text/plain": [
       "<IPython.core.display.Math object>"
      ]
     },
     "metadata": {},
     "output_type": "display_data"
    },
    {
     "name": "stdout",
     "output_type": "stream",
     "text": [
      "eq_8 =\n",
      "-(k_z^2 - kappa^2)*sqrt(mu)*H_bad_conductor_f_y(x)/sqrt(epsilon) == -(k_y*k_z*sqrt(mu)*H_bad_conductor_f_z(x) - I*sqrt(epsilon)*kappa*diff(E_bad_conductor_z(x), x))/sqrt(epsilon)\n"
     ]
    },
    {
     "data": {
      "text/latex": [
       "$\\displaystyle -\\frac{{\\left(k_{z}^{2} - \\kappa^{2}\\right)} \\sqrt{\\mu} H_{{\\rm bad}_{{\\rm conductor}_{f_{y}}}}\\left(x\\right)}{\\sqrt{\\epsilon}} = -\\frac{k_{y} k_{z} \\sqrt{\\mu} H_{{\\rm bad}_{{\\rm conductor}_{f_{z}}}}\\left(x\\right) - i \\, \\sqrt{\\epsilon} \\kappa \\frac{\\partial}{\\partial x}E_{{\\rm bad}_{{\\rm conductor}_{z}}}\\left(x\\right)}{\\sqrt{\\epsilon}}$"
      ],
      "text/plain": [
       "<IPython.core.display.Math object>"
      ]
     },
     "metadata": {},
     "output_type": "display_data"
    }
   ],
   "source": [
    "print (\"eq_5 =\")\n",
    "print             (eq_5)\n",
    "display(Math(latex(eq_5)))\n",
    "\n",
    "print (\"eq_6 =\")\n",
    "print             (eq_6)\n",
    "display(Math(latex(eq_6)))\n",
    "\n",
    "print (\"eq_7 =\")\n",
    "print             (eq_7)\n",
    "display(Math(latex(eq_7)))\n",
    "\n",
    "print (\"eq_8 =\")\n",
    "print             (eq_8)\n",
    "display(Math(latex(eq_8)))"
   ]
  },
  {
   "cell_type": "code",
   "execution_count": null,
   "metadata": {},
   "outputs": [],
   "source": []
  },
  {
   "cell_type": "code",
   "execution_count": 63,
   "metadata": {},
   "outputs": [
    {
     "name": "stdout",
     "output_type": "stream",
     "text": [
      "eq_5 =\n",
      "-(k_z^2 - kappa_vacuum^2)*E_inner_vacuum_x(x) == -k_y*kappa_vacuum*H_inner_vacuum_f_z(x) + I*k_z*diff(E_inner_vacuum_z(x), x)\n"
     ]
    },
    {
     "data": {
      "text/latex": [
       "$\\displaystyle -{\\left(k_{z}^{2} - \\kappa_{\\mathit{vacuum}}^{2}\\right)} E_{{\\rm inner}_{{\\rm vacuum}_{x}}}\\left(x\\right) = -k_{y} \\kappa_{\\mathit{vacuum}} H_{{\\rm inner}_{{\\rm vacuum}_{f_{z}}}}\\left(x\\right) + i \\, k_{z} \\frac{\\partial}{\\partial x}E_{{\\rm inner}_{{\\rm vacuum}_{z}}}\\left(x\\right)$"
      ],
      "text/plain": [
       "<IPython.core.display.Math object>"
      ]
     },
     "metadata": {},
     "output_type": "display_data"
    }
   ],
   "source": [
    "print (\"eq_5 =\")\n",
    "print             (eq_5)\n",
    "display(Math(latex(eq_5)))"
   ]
  },
  {
   "cell_type": "code",
   "execution_count": 64,
   "metadata": {
    "scrolled": true
   },
   "outputs": [
    {
     "name": "stdout",
     "output_type": "stream",
     "text": [
      "-(k_z^2 - kappa_vacuum^2)*E_inner_vacuum_x(x) == I*k_z*diff(E_inner_vacuum_z(x), x)\n"
     ]
    },
    {
     "data": {
      "text/latex": [
       "$\\displaystyle -{\\left(k_{z}^{2} - \\kappa_{\\mathit{vacuum}}^{2}\\right)} E_{{\\rm inner}_{{\\rm vacuum}_{x}}}\\left(x\\right) = i \\, k_{z} \\frac{\\partial}{\\partial x}E_{{\\rm inner}_{{\\rm vacuum}_{z}}}\\left(x\\right)$"
      ],
      "text/plain": [
       "<IPython.core.display.Math object>"
      ]
     },
     "metadata": {},
     "output_type": "display_data"
    }
   ],
   "source": [
    "eq_5_subs1 = eq_5.subs(k_y == 0)\n",
    "print             (eq_5_subs1)\n",
    "display(Math(latex(eq_5_subs1)))"
   ]
  },
  {
   "cell_type": "code",
   "execution_count": 65,
   "metadata": {
    "scrolled": true
   },
   "outputs": [
    {
     "name": "stdout",
     "output_type": "stream",
     "text": [
      "E_inner_vacuum_x(x) == -I*k_z*diff(E_inner_vacuum_z(x), x)/(k_z^2 - kappa_vacuum^2)\n"
     ]
    },
    {
     "data": {
      "text/latex": [
       "$\\displaystyle E_{{\\rm inner}_{{\\rm vacuum}_{x}}}\\left(x\\right) = -\\frac{i \\, k_{z} \\frac{\\partial}{\\partial x}E_{{\\rm inner}_{{\\rm vacuum}_{z}}}\\left(x\\right)}{k_{z}^{2} - \\kappa_{\\mathit{vacuum}}^{2}}$"
      ],
      "text/plain": [
       "<IPython.core.display.Math object>"
      ]
     },
     "metadata": {},
     "output_type": "display_data"
    }
   ],
   "source": [
    "eq_5_subs2 = (eq_5_subs1/(kappa_vacuum^2 - k_z^2)).full_simplify()\n",
    "print             (eq_5_subs2)\n",
    "display(Math(latex(eq_5_subs2)))"
   ]
  },
  {
   "cell_type": "code",
   "execution_count": 66,
   "metadata": {
    "scrolled": true
   },
   "outputs": [
    {
     "name": "stdout",
     "output_type": "stream",
     "text": [
      "E_inner_vacuum_x(x) == -I*(I*A2_z*K_vacuum*e^(I*K_vacuum*x) - I*A1_z*K_vacuum*e^(-I*K_vacuum*x))*k_z/(k_z^2 - kappa_vacuum^2)\n"
     ]
    },
    {
     "data": {
      "text/latex": [
       "$\\displaystyle E_{{\\rm inner}_{{\\rm vacuum}_{x}}}\\left(x\\right) = -\\frac{i \\, {\\left(i \\, \\mathit{A2}_{z} K_{\\mathit{vacuum}} e^{\\left(i \\, K_{\\mathit{vacuum}} x\\right)} - i \\, \\mathit{A1}_{z} K_{\\mathit{vacuum}} e^{\\left(-i \\, K_{\\mathit{vacuum}} x\\right)}\\right)} k_{z}}{k_{z}^{2} - \\kappa_{\\mathit{vacuum}}^{2}}$"
      ],
      "text/plain": [
       "<IPython.core.display.Math object>"
      ]
     },
     "metadata": {},
     "output_type": "display_data"
    }
   ],
   "source": [
    "eq_5_subs3 = eq_5_subs2.substitute_function(E_inner_vacuum_z, E_inner_vacuum_sol_z)\n",
    "print             (eq_5_subs3)\n",
    "display(Math(latex(eq_5_subs3)))"
   ]
  },
  {
   "cell_type": "code",
   "execution_count": 67,
   "metadata": {},
   "outputs": [
    {
     "name": "stdout",
     "output_type": "stream",
     "text": [
      "E_inner_vacuum_x(x) == -(A2_z*k_z*e^(2*I*sqrt(-k_z^2 + kappa_vacuum^2)*x) - A1_z*k_z)*e^(-I*sqrt(-k_z^2 + kappa_vacuum^2)*x)/sqrt(-k_z^2 + kappa_vacuum^2)\n"
     ]
    },
    {
     "data": {
      "text/latex": [
       "$\\displaystyle E_{{\\rm inner}_{{\\rm vacuum}_{x}}}\\left(x\\right) = -\\frac{{\\left(\\mathit{A2}_{z} k_{z} e^{\\left(2 i \\, \\sqrt{-k_{z}^{2} + \\kappa_{\\mathit{vacuum}}^{2}} x\\right)} - \\mathit{A1}_{z} k_{z}\\right)} e^{\\left(-i \\, \\sqrt{-k_{z}^{2} + \\kappa_{\\mathit{vacuum}}^{2}} x\\right)}}{\\sqrt{-k_{z}^{2} + \\kappa_{\\mathit{vacuum}}^{2}}}$"
      ],
      "text/plain": [
       "<IPython.core.display.Math object>"
      ]
     },
     "metadata": {},
     "output_type": "display_data"
    }
   ],
   "source": [
    "eq_5_subs4 = eq_5_subs3.subs(K_vacuum_subs).full_simplify()\n",
    "print             (eq_5_subs4)\n",
    "display(Math(latex(eq_5_subs4)))"
   ]
  },
  {
   "cell_type": "code",
   "execution_count": null,
   "metadata": {},
   "outputs": [],
   "source": []
  },
  {
   "cell_type": "code",
   "execution_count": 68,
   "metadata": {},
   "outputs": [
    {
     "name": "stdout",
     "output_type": "stream",
     "text": [
      "eq_6 =\n",
      "-(k_z^2 - kappa_vacuum^2)*H_inner_vacuum_f_y(x) == -k_y*k_z*H_inner_vacuum_f_z(x) + I*kappa_vacuum*diff(E_inner_vacuum_z(x), x)\n"
     ]
    },
    {
     "data": {
      "text/latex": [
       "$\\displaystyle -{\\left(k_{z}^{2} - \\kappa_{\\mathit{vacuum}}^{2}\\right)} H_{{\\rm inner}_{{\\rm vacuum}_{f_{y}}}}\\left(x\\right) = -k_{y} k_{z} H_{{\\rm inner}_{{\\rm vacuum}_{f_{z}}}}\\left(x\\right) + i \\, \\kappa_{\\mathit{vacuum}} \\frac{\\partial}{\\partial x}E_{{\\rm inner}_{{\\rm vacuum}_{z}}}\\left(x\\right)$"
      ],
      "text/plain": [
       "<IPython.core.display.Math object>"
      ]
     },
     "metadata": {},
     "output_type": "display_data"
    }
   ],
   "source": [
    "print (\"eq_6 =\")\n",
    "print             (eq_6)\n",
    "display(Math(latex(eq_6)))"
   ]
  },
  {
   "cell_type": "code",
   "execution_count": 69,
   "metadata": {
    "scrolled": true
   },
   "outputs": [
    {
     "name": "stdout",
     "output_type": "stream",
     "text": [
      "-(k_z^2 - kappa_vacuum^2)*H_inner_vacuum_f_y(x) == I*kappa_vacuum*diff(E_inner_vacuum_z(x), x)\n"
     ]
    },
    {
     "data": {
      "text/latex": [
       "$\\displaystyle -{\\left(k_{z}^{2} - \\kappa_{\\mathit{vacuum}}^{2}\\right)} H_{{\\rm inner}_{{\\rm vacuum}_{f_{y}}}}\\left(x\\right) = i \\, \\kappa_{\\mathit{vacuum}} \\frac{\\partial}{\\partial x}E_{{\\rm inner}_{{\\rm vacuum}_{z}}}\\left(x\\right)$"
      ],
      "text/plain": [
       "<IPython.core.display.Math object>"
      ]
     },
     "metadata": {},
     "output_type": "display_data"
    }
   ],
   "source": [
    "eq_6_subs1 = eq_6.subs(k_y == 0)\n",
    "print             (eq_6_subs1)\n",
    "display(Math(latex(eq_6_subs1)))"
   ]
  },
  {
   "cell_type": "code",
   "execution_count": 70,
   "metadata": {
    "scrolled": true
   },
   "outputs": [
    {
     "name": "stdout",
     "output_type": "stream",
     "text": [
      "H_inner_vacuum_f_y(x) == -I*kappa_vacuum*diff(E_inner_vacuum_z(x), x)/(k_z^2 - kappa_vacuum^2)\n"
     ]
    },
    {
     "data": {
      "text/latex": [
       "$\\displaystyle H_{{\\rm inner}_{{\\rm vacuum}_{f_{y}}}}\\left(x\\right) = -\\frac{i \\, \\kappa_{\\mathit{vacuum}} \\frac{\\partial}{\\partial x}E_{{\\rm inner}_{{\\rm vacuum}_{z}}}\\left(x\\right)}{k_{z}^{2} - \\kappa_{\\mathit{vacuum}}^{2}}$"
      ],
      "text/plain": [
       "<IPython.core.display.Math object>"
      ]
     },
     "metadata": {},
     "output_type": "display_data"
    }
   ],
   "source": [
    "eq_6_subs2 = (eq_6_subs1/(kappa_vacuum^2 - k_z^2)).full_simplify()\n",
    "print             (eq_6_subs2)\n",
    "display(Math(latex(eq_6_subs2)))"
   ]
  },
  {
   "cell_type": "code",
   "execution_count": 71,
   "metadata": {
    "scrolled": true
   },
   "outputs": [
    {
     "name": "stdout",
     "output_type": "stream",
     "text": [
      "H_inner_vacuum_f_y(x) == -I*(I*A2_z*K_vacuum*e^(I*K_vacuum*x) - I*A1_z*K_vacuum*e^(-I*K_vacuum*x))*kappa_vacuum/(k_z^2 - kappa_vacuum^2)\n"
     ]
    },
    {
     "data": {
      "text/latex": [
       "$\\displaystyle H_{{\\rm inner}_{{\\rm vacuum}_{f_{y}}}}\\left(x\\right) = -\\frac{i \\, {\\left(i \\, \\mathit{A2}_{z} K_{\\mathit{vacuum}} e^{\\left(i \\, K_{\\mathit{vacuum}} x\\right)} - i \\, \\mathit{A1}_{z} K_{\\mathit{vacuum}} e^{\\left(-i \\, K_{\\mathit{vacuum}} x\\right)}\\right)} \\kappa_{\\mathit{vacuum}}}{k_{z}^{2} - \\kappa_{\\mathit{vacuum}}^{2}}$"
      ],
      "text/plain": [
       "<IPython.core.display.Math object>"
      ]
     },
     "metadata": {},
     "output_type": "display_data"
    }
   ],
   "source": [
    "eq_6_subs4 = eq_6_subs2.substitute_function(E_inner_vacuum_z, E_inner_vacuum_sol_z)\n",
    "print             (eq_6_subs4)\n",
    "display(Math(latex(eq_6_subs4)))"
   ]
  },
  {
   "cell_type": "code",
   "execution_count": null,
   "metadata": {},
   "outputs": [],
   "source": []
  },
  {
   "cell_type": "code",
   "execution_count": 72,
   "metadata": {},
   "outputs": [
    {
     "name": "stdout",
     "output_type": "stream",
     "text": [
      "eq_7 =\n",
      "-(k_z^2 - kappa^2)*E_bad_conductor_x(x) == -(k_y*kappa*sqrt(mu)*H_bad_conductor_f_z(x) - I*sqrt(epsilon)*k_z*diff(E_bad_conductor_z(x), x))/sqrt(epsilon)\n"
     ]
    },
    {
     "data": {
      "text/latex": [
       "$\\displaystyle -{\\left(k_{z}^{2} - \\kappa^{2}\\right)} E_{{\\rm bad}_{{\\rm conductor}_{x}}}\\left(x\\right) = -\\frac{k_{y} \\kappa \\sqrt{\\mu} H_{{\\rm bad}_{{\\rm conductor}_{f_{z}}}}\\left(x\\right) - i \\, \\sqrt{\\epsilon} k_{z} \\frac{\\partial}{\\partial x}E_{{\\rm bad}_{{\\rm conductor}_{z}}}\\left(x\\right)}{\\sqrt{\\epsilon}}$"
      ],
      "text/plain": [
       "<IPython.core.display.Math object>"
      ]
     },
     "metadata": {},
     "output_type": "display_data"
    }
   ],
   "source": [
    "print (\"eq_7 =\")\n",
    "print             (eq_7)\n",
    "display(Math(latex(eq_7)))"
   ]
  },
  {
   "cell_type": "code",
   "execution_count": 73,
   "metadata": {
    "scrolled": true
   },
   "outputs": [
    {
     "name": "stdout",
     "output_type": "stream",
     "text": [
      "-(k_z^2 - kappa^2)*E_bad_conductor_x(x) == I*k_z*diff(E_bad_conductor_z(x), x)\n"
     ]
    },
    {
     "data": {
      "text/latex": [
       "$\\displaystyle -{\\left(k_{z}^{2} - \\kappa^{2}\\right)} E_{{\\rm bad}_{{\\rm conductor}_{x}}}\\left(x\\right) = i \\, k_{z} \\frac{\\partial}{\\partial x}E_{{\\rm bad}_{{\\rm conductor}_{z}}}\\left(x\\right)$"
      ],
      "text/plain": [
       "<IPython.core.display.Math object>"
      ]
     },
     "metadata": {},
     "output_type": "display_data"
    }
   ],
   "source": [
    "eq_7_subs1 = eq_7.subs(k_y == 0)\n",
    "print             (eq_7_subs1)\n",
    "display(Math(latex(eq_7_subs1)))"
   ]
  },
  {
   "cell_type": "code",
   "execution_count": 74,
   "metadata": {
    "scrolled": true
   },
   "outputs": [
    {
     "name": "stdout",
     "output_type": "stream",
     "text": [
      "E_bad_conductor_x(x) == -I*k_z*diff(E_bad_conductor_z(x), x)/(k_z^2 - kappa^2)\n"
     ]
    },
    {
     "data": {
      "text/latex": [
       "$\\displaystyle E_{{\\rm bad}_{{\\rm conductor}_{x}}}\\left(x\\right) = -\\frac{i \\, k_{z} \\frac{\\partial}{\\partial x}E_{{\\rm bad}_{{\\rm conductor}_{z}}}\\left(x\\right)}{k_{z}^{2} - \\kappa^{2}}$"
      ],
      "text/plain": [
       "<IPython.core.display.Math object>"
      ]
     },
     "metadata": {},
     "output_type": "display_data"
    }
   ],
   "source": [
    "eq_7_subs2 = (eq_7_subs1/(kappa^2 - k_z^2)).full_simplify()\n",
    "print             (eq_7_subs2)\n",
    "display(Math(latex(eq_7_subs2)))"
   ]
  },
  {
   "cell_type": "code",
   "execution_count": 75,
   "metadata": {
    "scrolled": true
   },
   "outputs": [
    {
     "name": "stdout",
     "output_type": "stream",
     "text": [
      "E_bad_conductor_x(x) == B1_z*K_conductor*k_z*e^(I*K_conductor*x)/(k_z^2 - kappa^2)\n"
     ]
    },
    {
     "data": {
      "text/latex": [
       "$\\displaystyle E_{{\\rm bad}_{{\\rm conductor}_{x}}}\\left(x\\right) = \\frac{\\mathit{B1}_{z} K_{\\mathit{conductor}} k_{z} e^{\\left(i \\, K_{\\mathit{conductor}} x\\right)}}{k_{z}^{2} - \\kappa^{2}}$"
      ],
      "text/plain": [
       "<IPython.core.display.Math object>"
      ]
     },
     "metadata": {},
     "output_type": "display_data"
    }
   ],
   "source": [
    "eq_7_subs3 = eq_7_subs2.substitute_function(E_bad_conductor_z, E_bad_conductor_sol_z)\n",
    "print             (eq_7_subs3)\n",
    "display(Math(latex(eq_7_subs3)))"
   ]
  },
  {
   "cell_type": "code",
   "execution_count": 76,
   "metadata": {},
   "outputs": [
    {
     "name": "stdout",
     "output_type": "stream",
     "text": [
      "E_bad_conductor_x(x) == -B1_z*k_z*e^(I*sqrt(-k_z^2 + kappa^2)*x)/sqrt(-k_z^2 + kappa^2)\n"
     ]
    },
    {
     "data": {
      "text/latex": [
       "$\\displaystyle E_{{\\rm bad}_{{\\rm conductor}_{x}}}\\left(x\\right) = -\\frac{\\mathit{B1}_{z} k_{z} e^{\\left(i \\, \\sqrt{-k_{z}^{2} + \\kappa^{2}} x\\right)}}{\\sqrt{-k_{z}^{2} + \\kappa^{2}}}$"
      ],
      "text/plain": [
       "<IPython.core.display.Math object>"
      ]
     },
     "metadata": {},
     "output_type": "display_data"
    }
   ],
   "source": [
    "eq_7_subs4 = eq_7_subs3.subs(K_conductor_subs).full_simplify()\n",
    "print             (eq_7_subs4)\n",
    "display(Math(latex(eq_7_subs4)))"
   ]
  },
  {
   "cell_type": "code",
   "execution_count": null,
   "metadata": {},
   "outputs": [],
   "source": []
  },
  {
   "cell_type": "code",
   "execution_count": 77,
   "metadata": {},
   "outputs": [
    {
     "name": "stdout",
     "output_type": "stream",
     "text": [
      "eq_8 =\n",
      "-(k_z^2 - kappa^2)*sqrt(mu)*H_bad_conductor_f_y(x)/sqrt(epsilon) == -(k_y*k_z*sqrt(mu)*H_bad_conductor_f_z(x) - I*sqrt(epsilon)*kappa*diff(E_bad_conductor_z(x), x))/sqrt(epsilon)\n"
     ]
    },
    {
     "data": {
      "text/latex": [
       "$\\displaystyle -\\frac{{\\left(k_{z}^{2} - \\kappa^{2}\\right)} \\sqrt{\\mu} H_{{\\rm bad}_{{\\rm conductor}_{f_{y}}}}\\left(x\\right)}{\\sqrt{\\epsilon}} = -\\frac{k_{y} k_{z} \\sqrt{\\mu} H_{{\\rm bad}_{{\\rm conductor}_{f_{z}}}}\\left(x\\right) - i \\, \\sqrt{\\epsilon} \\kappa \\frac{\\partial}{\\partial x}E_{{\\rm bad}_{{\\rm conductor}_{z}}}\\left(x\\right)}{\\sqrt{\\epsilon}}$"
      ],
      "text/plain": [
       "<IPython.core.display.Math object>"
      ]
     },
     "metadata": {},
     "output_type": "display_data"
    }
   ],
   "source": [
    "print (\"eq_8 =\")\n",
    "print             (eq_8)\n",
    "display(Math(latex(eq_8)))"
   ]
  },
  {
   "cell_type": "code",
   "execution_count": 78,
   "metadata": {
    "scrolled": true
   },
   "outputs": [
    {
     "name": "stdout",
     "output_type": "stream",
     "text": [
      "-(k_z^2 - kappa^2)*sqrt(mu)*H_bad_conductor_f_y(x)/sqrt(epsilon) == I*kappa*diff(E_bad_conductor_z(x), x)\n"
     ]
    },
    {
     "data": {
      "text/latex": [
       "$\\displaystyle -\\frac{{\\left(k_{z}^{2} - \\kappa^{2}\\right)} \\sqrt{\\mu} H_{{\\rm bad}_{{\\rm conductor}_{f_{y}}}}\\left(x\\right)}{\\sqrt{\\epsilon}} = i \\, \\kappa \\frac{\\partial}{\\partial x}E_{{\\rm bad}_{{\\rm conductor}_{z}}}\\left(x\\right)$"
      ],
      "text/plain": [
       "<IPython.core.display.Math object>"
      ]
     },
     "metadata": {},
     "output_type": "display_data"
    }
   ],
   "source": [
    "eq_8_subs1 = eq_8.subs(k_y == 0)\n",
    "print             (eq_8_subs1)\n",
    "display(Math(latex(eq_8_subs1)))"
   ]
  },
  {
   "cell_type": "code",
   "execution_count": 79,
   "metadata": {
    "scrolled": true
   },
   "outputs": [
    {
     "name": "stdout",
     "output_type": "stream",
     "text": [
      "sqrt(mu)*H_bad_conductor_f_y(x)/sqrt(epsilon) == -I*kappa*diff(E_bad_conductor_z(x), x)/(k_z^2 - kappa^2)\n"
     ]
    },
    {
     "data": {
      "text/latex": [
       "$\\displaystyle \\frac{\\sqrt{\\mu} H_{{\\rm bad}_{{\\rm conductor}_{f_{y}}}}\\left(x\\right)}{\\sqrt{\\epsilon}} = -\\frac{i \\, \\kappa \\frac{\\partial}{\\partial x}E_{{\\rm bad}_{{\\rm conductor}_{z}}}\\left(x\\right)}{k_{z}^{2} - \\kappa^{2}}$"
      ],
      "text/plain": [
       "<IPython.core.display.Math object>"
      ]
     },
     "metadata": {},
     "output_type": "display_data"
    }
   ],
   "source": [
    "eq_8_subs2 = (eq_8_subs1/(kappa^2 - k_z^2)).full_simplify()\n",
    "print             (eq_8_subs2)\n",
    "display(Math(latex(eq_8_subs2)))"
   ]
  },
  {
   "cell_type": "code",
   "execution_count": 80,
   "metadata": {
    "scrolled": true
   },
   "outputs": [
    {
     "name": "stdout",
     "output_type": "stream",
     "text": [
      "sqrt(mu)*H_bad_conductor_f_y(x)/sqrt(epsilon) == B1_z*K_conductor*kappa*e^(I*K_conductor*x)/(k_z^2 - kappa^2)\n"
     ]
    },
    {
     "data": {
      "text/latex": [
       "$\\displaystyle \\frac{\\sqrt{\\mu} H_{{\\rm bad}_{{\\rm conductor}_{f_{y}}}}\\left(x\\right)}{\\sqrt{\\epsilon}} = \\frac{\\mathit{B1}_{z} K_{\\mathit{conductor}} \\kappa e^{\\left(i \\, K_{\\mathit{conductor}} x\\right)}}{k_{z}^{2} - \\kappa^{2}}$"
      ],
      "text/plain": [
       "<IPython.core.display.Math object>"
      ]
     },
     "metadata": {},
     "output_type": "display_data"
    }
   ],
   "source": [
    "eq_8_subs4 = eq_8_subs2.substitute_function(E_bad_conductor_z, E_bad_conductor_sol_z)\n",
    "print             (eq_8_subs4)\n",
    "display(Math(latex(eq_8_subs4)))"
   ]
  },
  {
   "cell_type": "code",
   "execution_count": null,
   "metadata": {},
   "outputs": [],
   "source": []
  },
  {
   "cell_type": "code",
   "execution_count": 81,
   "metadata": {},
   "outputs": [
    {
     "name": "stdout",
     "output_type": "stream",
     "text": [
      "H_inner_vacuum_f_y(x) == -I*(I*A2_z*K_vacuum*e^(I*K_vacuum*x) - I*A1_z*K_vacuum*e^(-I*K_vacuum*x))*kappa_vacuum/(k_z^2 - kappa_vacuum^2)\n"
     ]
    },
    {
     "data": {
      "text/latex": [
       "$\\displaystyle H_{{\\rm inner}_{{\\rm vacuum}_{f_{y}}}}\\left(x\\right) = -\\frac{i \\, {\\left(i \\, \\mathit{A2}_{z} K_{\\mathit{vacuum}} e^{\\left(i \\, K_{\\mathit{vacuum}} x\\right)} - i \\, \\mathit{A1}_{z} K_{\\mathit{vacuum}} e^{\\left(-i \\, K_{\\mathit{vacuum}} x\\right)}\\right)} \\kappa_{\\mathit{vacuum}}}{k_{z}^{2} - \\kappa_{\\mathit{vacuum}}^{2}}$"
      ],
      "text/plain": [
       "<IPython.core.display.Math object>"
      ]
     },
     "metadata": {},
     "output_type": "display_data"
    }
   ],
   "source": [
    "eq_6_subs4 = eq_6_subs2.substitute_function(E_inner_vacuum_z, E_inner_vacuum_sol_z)\n",
    "print             (eq_6_subs4)\n",
    "display(Math(latex(eq_6_subs4)))"
   ]
  },
  {
   "cell_type": "code",
   "execution_count": null,
   "metadata": {},
   "outputs": [],
   "source": []
  },
  {
   "cell_type": "code",
   "execution_count": 82,
   "metadata": {},
   "outputs": [
    {
     "name": "stdout",
     "output_type": "stream",
     "text": [
      "E_inner_vacuum_x(0) == (A1_z*k_z - A2_z*k_z)/sqrt(-k_z^2 + kappa_vacuum^2)\n"
     ]
    },
    {
     "data": {
      "text/latex": [
       "$\\displaystyle E_{{\\rm inner}_{{\\rm vacuum}_{x}}}\\left(0\\right) = \\frac{\\mathit{A1}_{z} k_{z} - \\mathit{A2}_{z} k_{z}}{\\sqrt{-k_{z}^{2} + \\kappa_{\\mathit{vacuum}}^{2}}}$"
      ],
      "text/plain": [
       "<IPython.core.display.Math object>"
      ]
     },
     "metadata": {},
     "output_type": "display_data"
    },
    {
     "name": "stdout",
     "output_type": "stream",
     "text": [
      "\n",
      "E_bad_conductor_x(0) == -B1_z*k_z/sqrt(-k_z^2 + kappa^2)\n"
     ]
    },
    {
     "data": {
      "text/latex": [
       "$\\displaystyle E_{{\\rm bad}_{{\\rm conductor}_{x}}}\\left(0\\right) = -\\frac{\\mathit{B1}_{z} k_{z}}{\\sqrt{-k_{z}^{2} + \\kappa^{2}}}$"
      ],
      "text/plain": [
       "<IPython.core.display.Math object>"
      ]
     },
     "metadata": {},
     "output_type": "display_data"
    },
    {
     "name": "stdout",
     "output_type": "stream",
     "text": [
      "\n"
     ]
    }
   ],
   "source": [
    "# нормальная компонента электрического смещения\n",
    "eq_5_subs5 = eq_5_subs4.subs(x == 0)\n",
    "print(eq_5_subs5)\n",
    "display(Math(latex(eq_5_subs5)))\n",
    "\n",
    "print(\"\")\n",
    "\n",
    "eq_7_subs5 = eq_7_subs4.subs(x == 0)\n",
    "print(eq_7_subs5)\n",
    "display(Math(latex(eq_7_subs5)))\n",
    "print(\"\")"
   ]
  },
  {
   "cell_type": "code",
   "execution_count": null,
   "metadata": {},
   "outputs": [],
   "source": []
  },
  {
   "cell_type": "code",
   "execution_count": 83,
   "metadata": {},
   "outputs": [
    {
     "name": "stdout",
     "output_type": "stream",
     "text": [
      "sqrt(mu)*H_bad_conductor_f_y(x)/sqrt(epsilon) == B1_z*K_conductor*kappa*e^(I*K_conductor*x)/(k_z^2 - kappa^2)\n",
      "\n",
      "H_inner_vacuum_f_y(x) == -I*(I*A2_z*K_vacuum*e^(I*K_vacuum*x) - I*A1_z*K_vacuum*e^(-I*K_vacuum*x))*kappa_vacuum/(k_z^2 - kappa_vacuum^2)\n",
      "\n"
     ]
    },
    {
     "data": {
      "text/latex": [
       "$\\displaystyle -\\frac{\\mathit{B1}_{z} \\kappa^{2}}{\\sqrt{-k_{z}^{2} + \\kappa^{2}} \\mu} = \\frac{{\\left(\\mathit{A1}_{z} - \\mathit{A2}_{z}\\right)} \\kappa_{\\mathit{vacuum}}^{2}}{\\sqrt{-k_{z}^{2} + \\kappa_{\\mathit{vacuum}}^{2}}}$"
      ],
      "text/plain": [
       "<IPython.core.display.Math object>"
      ]
     },
     "metadata": {},
     "output_type": "display_data"
    }
   ],
   "source": [
    "# тангенциальная компонента напряженности магнитного поля\n",
    "# eqHz_a  = (H_bad_conductor_sol_z(0)  == H_inner_vacuum_sol_z(0)).subs(eqEz_0, eqEy_0)\n",
    "# eqHy_a  = (H_bad_conductor_sol_y(0)  == H_inner_vacuum_sol_y(0)).subs(eqEy_0, eqEz_0)\n",
    "print(eq_8_subs4)\n",
    "print(\"\")\n",
    "print(eq_6_subs4)\n",
    "print(\"\")\n",
    "\n",
    "#8 sqrt(mu)*H_bad_conductor_f_y(x)/sqrt(epsilon) == B1_z*K_conductor*kappa*e^(I*K_conductor*x)/(k_z^2 - kappa^2)\n",
    "#6 H_inner_vacuum_f_y(x) == -I*(I*A2_z*K_vacuum*e^(I*K_vacuum*x) - I*A1_z*K_vacuum*e^(-I*K_vacuum*x))*kappa_vacuum/(k_z^2 - kappa_vacuum^2)\n",
    "\n",
    "# eq_Hy_0 = eq_8_subs4.rhs().subs(x == 0)*sqrt(epsilon_complex)/sqrt(mu) == eq_6_subs4.rhs().subs(x == 0)\n",
    "eq_Hy_0 = (eq_8_subs4.rhs().subs(x == 0).subs(K_conductor_subs)*sqrt(epsilon_complex)/sqrt(mu)) \\\n",
    "        == eq_6_subs4.rhs().subs(x == 0).subs(K_vacuum_subs)\n",
    "\n",
    "# sqrt(mu / epsilon_complex) = omega * mu / kappa\n",
    "# kappa/mu == omega * sqrt(epsilon_complex/mu)\n",
    "# sqrt(mu_0 / epsilon_0) = omega * mu_0 / kappa_vacuum\n",
    "\n",
    "#eq_Hy_0 = (eq_8_subs4.rhs().subs(x == 0).subs(K_conductor_subs)*kappa/(mu*omega)) \\\n",
    "#        == eq_6_subs4.rhs().subs(x == 0).subs(K_vacuum_subs)*kappa_vacuum/(mu_0*omega)\n",
    "\n",
    "eq_Hy_0 =((eq_8_subs4.rhs().subs(x == 0).subs(K_conductor_subs)*kappa/(mu)) \\\n",
    "        == eq_6_subs4.rhs().subs(x == 0).subs(K_vacuum_subs)*kappa_vacuum/(mu_0)) \\\n",
    "          .full_simplify()\n",
    "\n",
    "display(Math(latex(eq_Hy_0)))"
   ]
  },
  {
   "cell_type": "code",
   "execution_count": 84,
   "metadata": {},
   "outputs": [
    {
     "data": {
      "text/latex": [
       "$\\displaystyle -\\frac{{\\left(\\mathit{A1}_{z} + \\mathit{A2}_{z}\\right)} \\kappa^{2}}{\\sqrt{-k_{z}^{2} + \\kappa^{2}} \\mu} = \\frac{{\\left(\\mathit{A1}_{z} - \\mathit{A2}_{z}\\right)} \\kappa_{\\mathit{vacuum}}^{2}}{\\sqrt{-k_{z}^{2} + \\kappa_{\\mathit{vacuum}}^{2}}}$"
      ],
      "text/plain": [
       "<IPython.core.display.Math object>"
      ]
     },
     "metadata": {},
     "output_type": "display_data"
    }
   ],
   "source": [
    "eq_Hy_0 = eq_Hy_0.subs(eqEz_a).full_simplify()\n",
    "display(Math(latex(eq_Hy_0)))"
   ]
  },
  {
   "cell_type": "code",
   "execution_count": null,
   "metadata": {},
   "outputs": [],
   "source": []
  },
  {
   "cell_type": "code",
   "execution_count": 85,
   "metadata": {},
   "outputs": [],
   "source": [
    "eq_Hy_0_lhs_num = eq_Hy_0.lhs().numerator()\n",
    "eq_Hy_0_lhs_den = eq_Hy_0.lhs().denominator()\n",
    "\n",
    "eq_Hy_0_rhs_num = eq_Hy_0.rhs().numerator()\n",
    "eq_Hy_0_rhs_den = eq_Hy_0.rhs().denominator()"
   ]
  },
  {
   "cell_type": "code",
   "execution_count": 86,
   "metadata": {},
   "outputs": [
    {
     "data": {
      "text/latex": [
       "$\\displaystyle -{\\left(\\mathit{A1}_{z} + \\mathit{A2}_{z}\\right)} \\kappa^{2}$"
      ],
      "text/plain": [
       "<IPython.core.display.Math object>"
      ]
     },
     "metadata": {},
     "output_type": "display_data"
    },
    {
     "data": {
      "text/latex": [
       "$\\displaystyle \\sqrt{-k_{z}^{2} + \\kappa^{2}} \\mu$"
      ],
      "text/plain": [
       "<IPython.core.display.Math object>"
      ]
     },
     "metadata": {},
     "output_type": "display_data"
    },
    {
     "data": {
      "text/latex": [
       "$\\displaystyle {\\left(\\mathit{A1}_{z} - \\mathit{A2}_{z}\\right)} \\kappa_{\\mathit{vacuum}}^{2}$"
      ],
      "text/plain": [
       "<IPython.core.display.Math object>"
      ]
     },
     "metadata": {},
     "output_type": "display_data"
    },
    {
     "data": {
      "text/latex": [
       "$\\displaystyle \\sqrt{-k_{z}^{2} + \\kappa_{\\mathit{vacuum}}^{2}}$"
      ],
      "text/plain": [
       "<IPython.core.display.Math object>"
      ]
     },
     "metadata": {},
     "output_type": "display_data"
    }
   ],
   "source": [
    "display(Math(latex(eq_Hy_0_lhs_num)))\n",
    "display(Math(latex(eq_Hy_0_lhs_den)))\n",
    "\n",
    "display(Math(latex(eq_Hy_0_rhs_num)))\n",
    "display(Math(latex(eq_Hy_0_rhs_den)))"
   ]
  },
  {
   "cell_type": "code",
   "execution_count": 87,
   "metadata": {},
   "outputs": [
    {
     "data": {
      "text/plain": [
       "kappa_vacuum^2 == omega^2/c^2"
      ]
     },
     "execution_count": 87,
     "metadata": {},
     "output_type": "execute_result"
    }
   ],
   "source": [
    "eq_kappa_inner_vacuum"
   ]
  },
  {
   "cell_type": "code",
   "execution_count": 88,
   "metadata": {},
   "outputs": [
    {
     "data": {
      "text/latex": [
       "$\\displaystyle -\\frac{\\sqrt{-k_{z}^{2} + \\kappa^{2}} \\mu}{{\\left(\\mathit{A1}_{z} + \\mathit{A2}_{z}\\right)} \\kappa^{2}} = \\frac{\\sqrt{-k_{z}^{2} + \\kappa_{\\mathit{vacuum}}^{2}}}{{\\left(\\mathit{A1}_{z} - \\mathit{A2}_{z}\\right)} \\kappa_{\\mathit{vacuum}}^{2}}$"
      ],
      "text/plain": [
       "<IPython.core.display.Math object>"
      ]
     },
     "metadata": {},
     "output_type": "display_data"
    }
   ],
   "source": [
    "eq_Hy_0_inv = eq_Hy_0_lhs_den / eq_Hy_0_lhs_num == eq_Hy_0_rhs_den / eq_Hy_0_rhs_num\n",
    "display(Math(latex(eq_Hy_0_inv)))"
   ]
  },
  {
   "cell_type": "code",
   "execution_count": 89,
   "metadata": {},
   "outputs": [
    {
     "data": {
      "text/latex": [
       "$\\displaystyle -\\frac{k_{z}^{2} \\mu^{2}}{{\\left(\\mathit{A1}_{z}^{2} + 2 \\, \\mathit{A1}_{z} \\mathit{A2}_{z} + \\mathit{A2}_{z}^{2}\\right)} \\kappa^{4}} + \\frac{\\mu^{2}}{{\\left(\\mathit{A1}_{z}^{2} + 2 \\, \\mathit{A1}_{z} \\mathit{A2}_{z} + \\mathit{A2}_{z}^{2}\\right)} \\kappa^{2}} = -\\frac{k_{z}^{2}}{{\\left(\\mathit{A1}_{z}^{2} - 2 \\, \\mathit{A1}_{z} \\mathit{A2}_{z} + \\mathit{A2}_{z}^{2}\\right)} \\kappa_{\\mathit{vacuum}}^{4}} + \\frac{1}{{\\left(\\mathit{A1}_{z}^{2} - 2 \\, \\mathit{A1}_{z} \\mathit{A2}_{z} + \\mathit{A2}_{z}^{2}\\right)} \\kappa_{\\mathit{vacuum}}^{2}}$"
      ],
      "text/plain": [
       "<IPython.core.display.Math object>"
      ]
     },
     "metadata": {},
     "output_type": "display_data"
    }
   ],
   "source": [
    "eq_Hy_0_inv_2 = (eq_Hy_0_inv.lhs()^2).expand() == (eq_Hy_0_inv.rhs()^2).expand()\n",
    "display(Math(latex(eq_Hy_0_inv_2)))"
   ]
  },
  {
   "cell_type": "code",
   "execution_count": 90,
   "metadata": {},
   "outputs": [
    {
     "data": {
      "text/latex": [
       "$\\displaystyle -k_{z}^{2} {\\left(\\frac{\\mu^{2}}{{\\left(\\mathit{A1}_{z}^{2} + 2 \\, \\mathit{A1}_{z} \\mathit{A2}_{z} + \\mathit{A2}_{z}^{2}\\right)} \\kappa^{4}} - \\frac{1}{{\\left(\\mathit{A1}_{z}^{2} - 2 \\, \\mathit{A1}_{z} \\mathit{A2}_{z} + \\mathit{A2}_{z}^{2}\\right)} \\kappa_{\\mathit{vacuum}}^{4}}\\right)} + \\frac{\\mu^{2}}{{\\left(\\mathit{A1}_{z}^{2} + 2 \\, \\mathit{A1}_{z} \\mathit{A2}_{z} + \\mathit{A2}_{z}^{2}\\right)} \\kappa^{2}} - \\frac{1}{{\\left(\\mathit{A1}_{z}^{2} - 2 \\, \\mathit{A1}_{z} \\mathit{A2}_{z} + \\mathit{A2}_{z}^{2}\\right)} \\kappa_{\\mathit{vacuum}}^{2}} = 0$"
      ],
      "text/plain": [
       "<IPython.core.display.Math object>"
      ]
     },
     "metadata": {},
     "output_type": "display_data"
    }
   ],
   "source": [
    "eq_Hy_0_inv_2_collect = (eq_Hy_0_inv_2.lhs() - eq_Hy_0_inv_2.rhs()).collect(k_z) == 0\n",
    "display(Math(latex(eq_Hy_0_inv_2_collect)))"
   ]
  },
  {
   "cell_type": "code",
   "execution_count": 91,
   "metadata": {},
   "outputs": [
    {
     "data": {
      "text/latex": [
       "$\\displaystyle \\frac{1}{k_{z}^{2}} = \\frac{{\\left(\\mathit{A1}_{z}^{2} - 2 \\, \\mathit{A1}_{z} \\mathit{A2}_{z} + \\mathit{A2}_{z}^{2}\\right)} \\kappa_{\\mathit{vacuum}}^{4} \\mu^{2} - {\\left(\\mathit{A1}_{z}^{2} + 2 \\, \\mathit{A1}_{z} \\mathit{A2}_{z} + \\mathit{A2}_{z}^{2}\\right)} \\kappa^{4}}{{\\left(\\mathit{A1}_{z}^{2} - 2 \\, \\mathit{A1}_{z} \\mathit{A2}_{z} + \\mathit{A2}_{z}^{2}\\right)} \\kappa^{2} \\kappa_{\\mathit{vacuum}}^{4} \\mu^{2} - {\\left(\\mathit{A1}_{z}^{2} + 2 \\, \\mathit{A1}_{z} \\mathit{A2}_{z} + \\mathit{A2}_{z}^{2}\\right)} \\kappa^{4} \\kappa_{\\mathit{vacuum}}^{2}}$"
      ],
      "text/plain": [
       "<IPython.core.display.Math object>"
      ]
     },
     "metadata": {},
     "output_type": "display_data"
    },
    {
     "data": {
      "text/latex": [
       "$\\displaystyle \\frac{1}{k_{z}^{2}} = \\frac{\\frac{\\mathit{A1}_{z}^{2} \\kappa_{\\mathit{vacuum}}^{2} \\mu^{2}}{\\kappa^{2}} - \\frac{2 \\, \\mathit{A1}_{z} \\mathit{A2}_{z} \\kappa_{\\mathit{vacuum}}^{2} \\mu^{2}}{\\kappa^{2}} + \\frac{\\mathit{A2}_{z}^{2} \\kappa_{\\mathit{vacuum}}^{2} \\mu^{2}}{\\kappa^{2}} - \\frac{\\mathit{A1}_{z}^{2} \\kappa^{2}}{\\kappa_{\\mathit{vacuum}}^{2}} - \\frac{2 \\, \\mathit{A1}_{z} \\mathit{A2}_{z} \\kappa^{2}}{\\kappa_{\\mathit{vacuum}}^{2}} - \\frac{\\mathit{A2}_{z}^{2} \\kappa^{2}}{\\kappa_{\\mathit{vacuum}}^{2}}}{\\mathit{A1}_{z}^{2} \\kappa_{\\mathit{vacuum}}^{2} \\mu^{2} - 2 \\, \\mathit{A1}_{z} \\mathit{A2}_{z} \\kappa_{\\mathit{vacuum}}^{2} \\mu^{2} + \\mathit{A2}_{z}^{2} \\kappa_{\\mathit{vacuum}}^{2} \\mu^{2} - \\mathit{A1}_{z}^{2} \\kappa^{2} - 2 \\, \\mathit{A1}_{z} \\mathit{A2}_{z} \\kappa^{2} - \\mathit{A2}_{z}^{2} \\kappa^{2}}$"
      ],
      "text/plain": [
       "<IPython.core.display.Math object>"
      ]
     },
     "metadata": {},
     "output_type": "display_data"
    }
   ],
   "source": [
    "one_per_k_z = var(\"one_per_k_z\")\n",
    "one_per_k_z_sol = solve(eq_Hy_0_inv_2_collect.subs(k_z == 1/one_per_k_z), one_per_k_z^2)[0].subs(one_per_k_z == 1/k_z)\n",
    "display(Math(latex(one_per_k_z_sol)))\n",
    "\n",
    "\n",
    "one_per_k_z_sol_num = one_per_k_z_sol.rhs().numerator()\n",
    "one_per_k_z_sol_den = one_per_k_z_sol.rhs().denominator()\n",
    "\n",
    "one_per_k_z_sol_2 = 1/k_z^2 == (one_per_k_z_sol_num/kappa^2/kappa_vacuum^2).expand() / \\\n",
    "                               (one_per_k_z_sol_den/kappa^2/kappa_vacuum^2).expand()\n",
    "\n",
    "display(Math(latex(one_per_k_z_sol_2)))"
   ]
  },
  {
   "cell_type": "code",
   "execution_count": null,
   "metadata": {},
   "outputs": [],
   "source": []
  },
  {
   "cell_type": "code",
   "execution_count": 92,
   "metadata": {},
   "outputs": [
    {
     "name": "stdout",
     "output_type": "stream",
     "text": [
      "kappa_vacuum == omega/c\n"
     ]
    }
   ],
   "source": [
    "kappa_vacuum_sol = solve(eq_kappa_inner_vacuum, kappa_vacuum)[1]\n",
    "print(kappa_vacuum_sol)"
   ]
  },
  {
   "cell_type": "code",
   "execution_count": 93,
   "metadata": {},
   "outputs": [
    {
     "name": "stdout",
     "output_type": "stream",
     "text": [
      "kappa == 2*sqrt(I*pi*mu*omega*sigma/c)\n"
     ]
    }
   ],
   "source": [
    "kappa_sol = solve(eq_kappa, kappa)[1]\n",
    "print(kappa_sol)"
   ]
  },
  {
   "cell_type": "code",
   "execution_count": null,
   "metadata": {},
   "outputs": [],
   "source": []
  },
  {
   "cell_type": "code",
   "execution_count": 94,
   "metadata": {},
   "outputs": [
    {
     "data": {
      "text/latex": [
       "$\\displaystyle \\frac{1}{k_{z}^{2}} = -\\frac{-\\frac{16 i \\, \\pi \\mathit{A1}_{z}^{2} c \\mu \\sigma}{\\omega} - \\frac{32 i \\, \\pi \\mathit{A1}_{z} \\mathit{A2}_{z} c \\mu \\sigma}{\\omega} - \\frac{16 i \\, \\pi \\mathit{A2}_{z}^{2} c \\mu \\sigma}{\\omega} - \\frac{i \\, \\mathit{A1}_{z}^{2} \\mu \\omega}{\\pi c \\sigma} + \\frac{2 i \\, \\mathit{A1}_{z} \\mathit{A2}_{z} \\mu \\omega}{\\pi c \\sigma} - \\frac{i \\, \\mathit{A2}_{z}^{2} \\mu \\omega}{\\pi c \\sigma}}{4 \\, {\\left(\\frac{4 i \\, \\pi \\mathit{A1}_{z}^{2} \\mu \\omega \\sigma}{c} + \\frac{8 i \\, \\pi \\mathit{A1}_{z} \\mathit{A2}_{z} \\mu \\omega \\sigma}{c} + \\frac{4 i \\, \\pi \\mathit{A2}_{z}^{2} \\mu \\omega \\sigma}{c} - \\frac{\\mathit{A1}_{z}^{2} \\mu^{2} \\omega^{2}}{c^{2}} + \\frac{2 \\, \\mathit{A1}_{z} \\mathit{A2}_{z} \\mu^{2} \\omega^{2}}{c^{2}} - \\frac{\\mathit{A2}_{z}^{2} \\mu^{2} \\omega^{2}}{c^{2}}\\right)}}$"
      ],
      "text/plain": [
       "<IPython.core.display.Math object>"
      ]
     },
     "metadata": {},
     "output_type": "display_data"
    }
   ],
   "source": [
    "one_per_k_z_sol_2_subs = one_per_k_z_sol_2.subs(kappa_vacuum_sol).subs(kappa_sol)\n",
    "display(Math(latex(one_per_k_z_sol_2_subs)))"
   ]
  },
  {
   "cell_type": "code",
   "execution_count": null,
   "metadata": {},
   "outputs": [],
   "source": []
  },
  {
   "cell_type": "code",
   "execution_count": 95,
   "metadata": {},
   "outputs": [
    {
     "data": {
      "text/latex": [
       "$\\displaystyle k_{z} = -\\sqrt{\\frac{\\mathit{A1}_{z}^{2} \\kappa_{\\mathit{vacuum}}^{2} \\mu^{2}}{\\mathit{A1}_{z}^{2} \\kappa_{\\mathit{vacuum}}^{4} \\mu^{2} - 2 \\, \\mathit{A1}_{z} \\mathit{A2}_{z} \\kappa_{\\mathit{vacuum}}^{4} \\mu^{2} + \\mathit{A2}_{z}^{2} \\kappa_{\\mathit{vacuum}}^{4} \\mu^{2} - \\mathit{A1}_{z}^{2} \\kappa^{4} - 2 \\, \\mathit{A1}_{z} \\mathit{A2}_{z} \\kappa^{4} - \\mathit{A2}_{z}^{2} \\kappa^{4}} - \\frac{2 \\, \\mathit{A1}_{z} \\mathit{A2}_{z} \\kappa_{\\mathit{vacuum}}^{2} \\mu^{2}}{\\mathit{A1}_{z}^{2} \\kappa_{\\mathit{vacuum}}^{4} \\mu^{2} - 2 \\, \\mathit{A1}_{z} \\mathit{A2}_{z} \\kappa_{\\mathit{vacuum}}^{4} \\mu^{2} + \\mathit{A2}_{z}^{2} \\kappa_{\\mathit{vacuum}}^{4} \\mu^{2} - \\mathit{A1}_{z}^{2} \\kappa^{4} - 2 \\, \\mathit{A1}_{z} \\mathit{A2}_{z} \\kappa^{4} - \\mathit{A2}_{z}^{2} \\kappa^{4}} + \\frac{\\mathit{A2}_{z}^{2} \\kappa_{\\mathit{vacuum}}^{2} \\mu^{2}}{\\mathit{A1}_{z}^{2} \\kappa_{\\mathit{vacuum}}^{4} \\mu^{2} - 2 \\, \\mathit{A1}_{z} \\mathit{A2}_{z} \\kappa_{\\mathit{vacuum}}^{4} \\mu^{2} + \\mathit{A2}_{z}^{2} \\kappa_{\\mathit{vacuum}}^{4} \\mu^{2} - \\mathit{A1}_{z}^{2} \\kappa^{4} - 2 \\, \\mathit{A1}_{z} \\mathit{A2}_{z} \\kappa^{4} - \\mathit{A2}_{z}^{2} \\kappa^{4}} - \\frac{\\mathit{A1}_{z}^{2} \\kappa^{2}}{\\mathit{A1}_{z}^{2} \\kappa_{\\mathit{vacuum}}^{4} \\mu^{2} - 2 \\, \\mathit{A1}_{z} \\mathit{A2}_{z} \\kappa_{\\mathit{vacuum}}^{4} \\mu^{2} + \\mathit{A2}_{z}^{2} \\kappa_{\\mathit{vacuum}}^{4} \\mu^{2} - \\mathit{A1}_{z}^{2} \\kappa^{4} - 2 \\, \\mathit{A1}_{z} \\mathit{A2}_{z} \\kappa^{4} - \\mathit{A2}_{z}^{2} \\kappa^{4}} - \\frac{2 \\, \\mathit{A1}_{z} \\mathit{A2}_{z} \\kappa^{2}}{\\mathit{A1}_{z}^{2} \\kappa_{\\mathit{vacuum}}^{4} \\mu^{2} - 2 \\, \\mathit{A1}_{z} \\mathit{A2}_{z} \\kappa_{\\mathit{vacuum}}^{4} \\mu^{2} + \\mathit{A2}_{z}^{2} \\kappa_{\\mathit{vacuum}}^{4} \\mu^{2} - \\mathit{A1}_{z}^{2} \\kappa^{4} - 2 \\, \\mathit{A1}_{z} \\mathit{A2}_{z} \\kappa^{4} - \\mathit{A2}_{z}^{2} \\kappa^{4}} - \\frac{\\mathit{A2}_{z}^{2} \\kappa^{2}}{\\mathit{A1}_{z}^{2} \\kappa_{\\mathit{vacuum}}^{4} \\mu^{2} - 2 \\, \\mathit{A1}_{z} \\mathit{A2}_{z} \\kappa_{\\mathit{vacuum}}^{4} \\mu^{2} + \\mathit{A2}_{z}^{2} \\kappa_{\\mathit{vacuum}}^{4} \\mu^{2} - \\mathit{A1}_{z}^{2} \\kappa^{4} - 2 \\, \\mathit{A1}_{z} \\mathit{A2}_{z} \\kappa^{4} - \\mathit{A2}_{z}^{2} \\kappa^{4}}} \\kappa \\kappa_{\\mathit{vacuum}}$"
      ],
      "text/plain": [
       "<IPython.core.display.Math object>"
      ]
     },
     "metadata": {},
     "output_type": "display_data"
    },
    {
     "name": "stdout",
     "output_type": "stream",
     "text": [
      "\n"
     ]
    },
    {
     "data": {
      "text/latex": [
       "$\\displaystyle k_{z} = \\sqrt{\\frac{\\mathit{A1}_{z}^{2} \\kappa_{\\mathit{vacuum}}^{2} \\mu^{2}}{\\mathit{A1}_{z}^{2} \\kappa_{\\mathit{vacuum}}^{4} \\mu^{2} - 2 \\, \\mathit{A1}_{z} \\mathit{A2}_{z} \\kappa_{\\mathit{vacuum}}^{4} \\mu^{2} + \\mathit{A2}_{z}^{2} \\kappa_{\\mathit{vacuum}}^{4} \\mu^{2} - \\mathit{A1}_{z}^{2} \\kappa^{4} - 2 \\, \\mathit{A1}_{z} \\mathit{A2}_{z} \\kappa^{4} - \\mathit{A2}_{z}^{2} \\kappa^{4}} - \\frac{2 \\, \\mathit{A1}_{z} \\mathit{A2}_{z} \\kappa_{\\mathit{vacuum}}^{2} \\mu^{2}}{\\mathit{A1}_{z}^{2} \\kappa_{\\mathit{vacuum}}^{4} \\mu^{2} - 2 \\, \\mathit{A1}_{z} \\mathit{A2}_{z} \\kappa_{\\mathit{vacuum}}^{4} \\mu^{2} + \\mathit{A2}_{z}^{2} \\kappa_{\\mathit{vacuum}}^{4} \\mu^{2} - \\mathit{A1}_{z}^{2} \\kappa^{4} - 2 \\, \\mathit{A1}_{z} \\mathit{A2}_{z} \\kappa^{4} - \\mathit{A2}_{z}^{2} \\kappa^{4}} + \\frac{\\mathit{A2}_{z}^{2} \\kappa_{\\mathit{vacuum}}^{2} \\mu^{2}}{\\mathit{A1}_{z}^{2} \\kappa_{\\mathit{vacuum}}^{4} \\mu^{2} - 2 \\, \\mathit{A1}_{z} \\mathit{A2}_{z} \\kappa_{\\mathit{vacuum}}^{4} \\mu^{2} + \\mathit{A2}_{z}^{2} \\kappa_{\\mathit{vacuum}}^{4} \\mu^{2} - \\mathit{A1}_{z}^{2} \\kappa^{4} - 2 \\, \\mathit{A1}_{z} \\mathit{A2}_{z} \\kappa^{4} - \\mathit{A2}_{z}^{2} \\kappa^{4}} - \\frac{\\mathit{A1}_{z}^{2} \\kappa^{2}}{\\mathit{A1}_{z}^{2} \\kappa_{\\mathit{vacuum}}^{4} \\mu^{2} - 2 \\, \\mathit{A1}_{z} \\mathit{A2}_{z} \\kappa_{\\mathit{vacuum}}^{4} \\mu^{2} + \\mathit{A2}_{z}^{2} \\kappa_{\\mathit{vacuum}}^{4} \\mu^{2} - \\mathit{A1}_{z}^{2} \\kappa^{4} - 2 \\, \\mathit{A1}_{z} \\mathit{A2}_{z} \\kappa^{4} - \\mathit{A2}_{z}^{2} \\kappa^{4}} - \\frac{2 \\, \\mathit{A1}_{z} \\mathit{A2}_{z} \\kappa^{2}}{\\mathit{A1}_{z}^{2} \\kappa_{\\mathit{vacuum}}^{4} \\mu^{2} - 2 \\, \\mathit{A1}_{z} \\mathit{A2}_{z} \\kappa_{\\mathit{vacuum}}^{4} \\mu^{2} + \\mathit{A2}_{z}^{2} \\kappa_{\\mathit{vacuum}}^{4} \\mu^{2} - \\mathit{A1}_{z}^{2} \\kappa^{4} - 2 \\, \\mathit{A1}_{z} \\mathit{A2}_{z} \\kappa^{4} - \\mathit{A2}_{z}^{2} \\kappa^{4}} - \\frac{\\mathit{A2}_{z}^{2} \\kappa^{2}}{\\mathit{A1}_{z}^{2} \\kappa_{\\mathit{vacuum}}^{4} \\mu^{2} - 2 \\, \\mathit{A1}_{z} \\mathit{A2}_{z} \\kappa_{\\mathit{vacuum}}^{4} \\mu^{2} + \\mathit{A2}_{z}^{2} \\kappa_{\\mathit{vacuum}}^{4} \\mu^{2} - \\mathit{A1}_{z}^{2} \\kappa^{4} - 2 \\, \\mathit{A1}_{z} \\mathit{A2}_{z} \\kappa^{4} - \\mathit{A2}_{z}^{2} \\kappa^{4}}} \\kappa \\kappa_{\\mathit{vacuum}}$"
      ],
      "text/plain": [
       "<IPython.core.display.Math object>"
      ]
     },
     "metadata": {},
     "output_type": "display_data"
    },
    {
     "name": "stdout",
     "output_type": "stream",
     "text": [
      "\n"
     ]
    }
   ],
   "source": [
    "one_per_k_z_sol = solve(eq_Hy_0_inv_2, k_z)\n",
    "\n",
    "for i in range(len(one_per_k_z_sol)):\n",
    "    #print(one_per_k_z_sol[i])\n",
    "    display(Math(latex(one_per_k_z_sol[i])))\n",
    "    print(\"\")"
   ]
  },
  {
   "cell_type": "code",
   "execution_count": null,
   "metadata": {},
   "outputs": [],
   "source": []
  },
  {
   "cell_type": "code",
   "execution_count": 96,
   "metadata": {},
   "outputs": [],
   "source": [
    "eq_Hy_0_2 = \\\n",
    "    (eq_Hy_0_rhs_den * eq_Hy_0_lhs_num)^2 - \\\n",
    "    (eq_Hy_0_rhs_num * eq_Hy_0_lhs_den)^2 == 0"
   ]
  },
  {
   "cell_type": "code",
   "execution_count": 97,
   "metadata": {},
   "outputs": [
    {
     "name": "stdout",
     "output_type": "stream",
     "text": [
      "(k_z^2 - kappa^2)*(A1_z - A2_z)^2*kappa_vacuum^4*mu^2 - (k_z^2 - kappa_vacuum^2)*(A1_z + A2_z)^2*kappa^4 == 0\n"
     ]
    },
    {
     "data": {
      "text/latex": [
       "$\\displaystyle {\\left(k_{z}^{2} - \\kappa^{2}\\right)} {\\left(\\mathit{A1}_{z} - \\mathit{A2}_{z}\\right)}^{2} \\kappa_{\\mathit{vacuum}}^{4} \\mu^{2} - {\\left(k_{z}^{2} - \\kappa_{\\mathit{vacuum}}^{2}\\right)} {\\left(\\mathit{A1}_{z} + \\mathit{A2}_{z}\\right)}^{2} \\kappa^{4} = 0$"
      ],
      "text/plain": [
       "<IPython.core.display.Math object>"
      ]
     },
     "metadata": {},
     "output_type": "display_data"
    }
   ],
   "source": [
    "print(eq_Hy_0_2)\n",
    "display(Math(latex(eq_Hy_0_2)))"
   ]
  },
  {
   "cell_type": "code",
   "execution_count": 98,
   "metadata": {},
   "outputs": [
    {
     "data": {
      "text/latex": [
       "$\\displaystyle {\\left(k_{z}^{2} - \\kappa^{2}\\right)} {\\left(\\mathit{A1}_{z} - \\mathit{A2}_{z}\\right)}^{2} \\kappa_{\\mathit{vacuum}}^{4} \\mu^{2} - {\\left(k_{z}^{2} - \\kappa_{\\mathit{vacuum}}^{2}\\right)} {\\left(\\mathit{A1}_{z} + \\mathit{A2}_{z}\\right)}^{2} \\kappa^{4} = 0$"
      ],
      "text/plain": [
       "<IPython.core.display.Math object>"
      ]
     },
     "metadata": {},
     "output_type": "display_data"
    }
   ],
   "source": [
    "display(Math(latex(eq_Hy_0_2)))"
   ]
  },
  {
   "cell_type": "code",
   "execution_count": 99,
   "metadata": {},
   "outputs": [],
   "source": [
    "eq_Hy_0_2_expand = eq_Hy_0_2.expand()"
   ]
  },
  {
   "cell_type": "code",
   "execution_count": null,
   "metadata": {},
   "outputs": [],
   "source": []
  },
  {
   "cell_type": "code",
   "execution_count": 100,
   "metadata": {},
   "outputs": [
    {
     "data": {
      "text/latex": [
       "$\\displaystyle -\\mathit{A1}_{z}^{2} k_{z}^{2} \\kappa^{4} - 2 \\, \\mathit{A1}_{z} \\mathit{A2}_{z} k_{z}^{2} \\kappa^{4} - \\mathit{A2}_{z}^{2} k_{z}^{2} \\kappa^{4} + \\frac{\\mathit{A1}_{z}^{2} \\kappa^{4} \\omega^{2}}{c^{2}} + \\frac{2 \\, \\mathit{A1}_{z} \\mathit{A2}_{z} \\kappa^{4} \\omega^{2}}{c^{2}} + \\frac{\\mathit{A2}_{z}^{2} \\kappa^{4} \\omega^{2}}{c^{2}} + \\frac{\\mathit{A1}_{z}^{2} k_{z}^{2} \\mu^{2} \\omega^{4}}{c^{4}} - \\frac{2 \\, \\mathit{A1}_{z} \\mathit{A2}_{z} k_{z}^{2} \\mu^{2} \\omega^{4}}{c^{4}} + \\frac{\\mathit{A2}_{z}^{2} k_{z}^{2} \\mu^{2} \\omega^{4}}{c^{4}} - \\frac{\\mathit{A1}_{z}^{2} \\kappa^{2} \\mu^{2} \\omega^{4}}{c^{4}} + \\frac{2 \\, \\mathit{A1}_{z} \\mathit{A2}_{z} \\kappa^{2} \\mu^{2} \\omega^{4}}{c^{4}} - \\frac{\\mathit{A2}_{z}^{2} \\kappa^{2} \\mu^{2} \\omega^{4}}{c^{4}} = 0$"
      ],
      "text/plain": [
       "<IPython.core.display.Math object>"
      ]
     },
     "metadata": {},
     "output_type": "display_data"
    }
   ],
   "source": [
    "eq_Hy_0_2_expand = eq_Hy_0_2_expand.subs(kappa_vacuum_sol)#.subs(kappa_sol)\n",
    "display(Math(latex(eq_Hy_0_2_expand)))"
   ]
  },
  {
   "cell_type": "code",
   "execution_count": 101,
   "metadata": {},
   "outputs": [
    {
     "data": {
      "text/latex": [
       "$\\displaystyle k_{z} = -\\sqrt{\\frac{\\mathit{A1}_{z}^{2} c^{2} \\kappa^{2}}{\\mathit{A1}_{z}^{2} c^{4} \\kappa^{4} + 2 \\, \\mathit{A1}_{z} \\mathit{A2}_{z} c^{4} \\kappa^{4} + \\mathit{A2}_{z}^{2} c^{4} \\kappa^{4} - \\mathit{A1}_{z}^{2} \\mu^{2} \\omega^{4} + 2 \\, \\mathit{A1}_{z} \\mathit{A2}_{z} \\mu^{2} \\omega^{4} - \\mathit{A2}_{z}^{2} \\mu^{2} \\omega^{4}} + \\frac{2 \\, \\mathit{A1}_{z} \\mathit{A2}_{z} c^{2} \\kappa^{2}}{\\mathit{A1}_{z}^{2} c^{4} \\kappa^{4} + 2 \\, \\mathit{A1}_{z} \\mathit{A2}_{z} c^{4} \\kappa^{4} + \\mathit{A2}_{z}^{2} c^{4} \\kappa^{4} - \\mathit{A1}_{z}^{2} \\mu^{2} \\omega^{4} + 2 \\, \\mathit{A1}_{z} \\mathit{A2}_{z} \\mu^{2} \\omega^{4} - \\mathit{A2}_{z}^{2} \\mu^{2} \\omega^{4}} + \\frac{\\mathit{A2}_{z}^{2} c^{2} \\kappa^{2}}{\\mathit{A1}_{z}^{2} c^{4} \\kappa^{4} + 2 \\, \\mathit{A1}_{z} \\mathit{A2}_{z} c^{4} \\kappa^{4} + \\mathit{A2}_{z}^{2} c^{4} \\kappa^{4} - \\mathit{A1}_{z}^{2} \\mu^{2} \\omega^{4} + 2 \\, \\mathit{A1}_{z} \\mathit{A2}_{z} \\mu^{2} \\omega^{4} - \\mathit{A2}_{z}^{2} \\mu^{2} \\omega^{4}} - \\frac{\\mathit{A1}_{z}^{2} \\mu^{2} \\omega^{2}}{\\mathit{A1}_{z}^{2} c^{4} \\kappa^{4} + 2 \\, \\mathit{A1}_{z} \\mathit{A2}_{z} c^{4} \\kappa^{4} + \\mathit{A2}_{z}^{2} c^{4} \\kappa^{4} - \\mathit{A1}_{z}^{2} \\mu^{2} \\omega^{4} + 2 \\, \\mathit{A1}_{z} \\mathit{A2}_{z} \\mu^{2} \\omega^{4} - \\mathit{A2}_{z}^{2} \\mu^{2} \\omega^{4}} + \\frac{2 \\, \\mathit{A1}_{z} \\mathit{A2}_{z} \\mu^{2} \\omega^{2}}{\\mathit{A1}_{z}^{2} c^{4} \\kappa^{4} + 2 \\, \\mathit{A1}_{z} \\mathit{A2}_{z} c^{4} \\kappa^{4} + \\mathit{A2}_{z}^{2} c^{4} \\kappa^{4} - \\mathit{A1}_{z}^{2} \\mu^{2} \\omega^{4} + 2 \\, \\mathit{A1}_{z} \\mathit{A2}_{z} \\mu^{2} \\omega^{4} - \\mathit{A2}_{z}^{2} \\mu^{2} \\omega^{4}} - \\frac{\\mathit{A2}_{z}^{2} \\mu^{2} \\omega^{2}}{\\mathit{A1}_{z}^{2} c^{4} \\kappa^{4} + 2 \\, \\mathit{A1}_{z} \\mathit{A2}_{z} c^{4} \\kappa^{4} + \\mathit{A2}_{z}^{2} c^{4} \\kappa^{4} - \\mathit{A1}_{z}^{2} \\mu^{2} \\omega^{4} + 2 \\, \\mathit{A1}_{z} \\mathit{A2}_{z} \\mu^{2} \\omega^{4} - \\mathit{A2}_{z}^{2} \\mu^{2} \\omega^{4}}} \\kappa \\omega$"
      ],
      "text/plain": [
       "<IPython.core.display.Math object>"
      ]
     },
     "metadata": {},
     "output_type": "display_data"
    },
    {
     "name": "stdout",
     "output_type": "stream",
     "text": [
      "\n"
     ]
    },
    {
     "data": {
      "text/latex": [
       "$\\displaystyle k_{z} = \\sqrt{\\frac{\\mathit{A1}_{z}^{2} c^{2} \\kappa^{2}}{\\mathit{A1}_{z}^{2} c^{4} \\kappa^{4} + 2 \\, \\mathit{A1}_{z} \\mathit{A2}_{z} c^{4} \\kappa^{4} + \\mathit{A2}_{z}^{2} c^{4} \\kappa^{4} - \\mathit{A1}_{z}^{2} \\mu^{2} \\omega^{4} + 2 \\, \\mathit{A1}_{z} \\mathit{A2}_{z} \\mu^{2} \\omega^{4} - \\mathit{A2}_{z}^{2} \\mu^{2} \\omega^{4}} + \\frac{2 \\, \\mathit{A1}_{z} \\mathit{A2}_{z} c^{2} \\kappa^{2}}{\\mathit{A1}_{z}^{2} c^{4} \\kappa^{4} + 2 \\, \\mathit{A1}_{z} \\mathit{A2}_{z} c^{4} \\kappa^{4} + \\mathit{A2}_{z}^{2} c^{4} \\kappa^{4} - \\mathit{A1}_{z}^{2} \\mu^{2} \\omega^{4} + 2 \\, \\mathit{A1}_{z} \\mathit{A2}_{z} \\mu^{2} \\omega^{4} - \\mathit{A2}_{z}^{2} \\mu^{2} \\omega^{4}} + \\frac{\\mathit{A2}_{z}^{2} c^{2} \\kappa^{2}}{\\mathit{A1}_{z}^{2} c^{4} \\kappa^{4} + 2 \\, \\mathit{A1}_{z} \\mathit{A2}_{z} c^{4} \\kappa^{4} + \\mathit{A2}_{z}^{2} c^{4} \\kappa^{4} - \\mathit{A1}_{z}^{2} \\mu^{2} \\omega^{4} + 2 \\, \\mathit{A1}_{z} \\mathit{A2}_{z} \\mu^{2} \\omega^{4} - \\mathit{A2}_{z}^{2} \\mu^{2} \\omega^{4}} - \\frac{\\mathit{A1}_{z}^{2} \\mu^{2} \\omega^{2}}{\\mathit{A1}_{z}^{2} c^{4} \\kappa^{4} + 2 \\, \\mathit{A1}_{z} \\mathit{A2}_{z} c^{4} \\kappa^{4} + \\mathit{A2}_{z}^{2} c^{4} \\kappa^{4} - \\mathit{A1}_{z}^{2} \\mu^{2} \\omega^{4} + 2 \\, \\mathit{A1}_{z} \\mathit{A2}_{z} \\mu^{2} \\omega^{4} - \\mathit{A2}_{z}^{2} \\mu^{2} \\omega^{4}} + \\frac{2 \\, \\mathit{A1}_{z} \\mathit{A2}_{z} \\mu^{2} \\omega^{2}}{\\mathit{A1}_{z}^{2} c^{4} \\kappa^{4} + 2 \\, \\mathit{A1}_{z} \\mathit{A2}_{z} c^{4} \\kappa^{4} + \\mathit{A2}_{z}^{2} c^{4} \\kappa^{4} - \\mathit{A1}_{z}^{2} \\mu^{2} \\omega^{4} + 2 \\, \\mathit{A1}_{z} \\mathit{A2}_{z} \\mu^{2} \\omega^{4} - \\mathit{A2}_{z}^{2} \\mu^{2} \\omega^{4}} - \\frac{\\mathit{A2}_{z}^{2} \\mu^{2} \\omega^{2}}{\\mathit{A1}_{z}^{2} c^{4} \\kappa^{4} + 2 \\, \\mathit{A1}_{z} \\mathit{A2}_{z} c^{4} \\kappa^{4} + \\mathit{A2}_{z}^{2} c^{4} \\kappa^{4} - \\mathit{A1}_{z}^{2} \\mu^{2} \\omega^{4} + 2 \\, \\mathit{A1}_{z} \\mathit{A2}_{z} \\mu^{2} \\omega^{4} - \\mathit{A2}_{z}^{2} \\mu^{2} \\omega^{4}}} \\kappa \\omega$"
      ],
      "text/plain": [
       "<IPython.core.display.Math object>"
      ]
     },
     "metadata": {},
     "output_type": "display_data"
    },
    {
     "name": "stdout",
     "output_type": "stream",
     "text": [
      "\n"
     ]
    }
   ],
   "source": [
    "k_z_sol = solve(eq_Hy_0_2_expand, k_z)\n",
    "\n",
    "for i in range(len(k_z_sol)):\n",
    "    #print(k_z_sol[i])\n",
    "    display(Math(latex(k_z_sol[i])))\n",
    "    print(\"\")"
   ]
  },
  {
   "cell_type": "code",
   "execution_count": null,
   "metadata": {},
   "outputs": [],
   "source": []
  },
  {
   "cell_type": "code",
   "execution_count": null,
   "metadata": {},
   "outputs": [],
   "source": []
  },
  {
   "cell_type": "code",
   "execution_count": 102,
   "metadata": {},
   "outputs": [],
   "source": [
    "#E_vacuum_z = A1_z_im*sin(sqrt(kappa_vacuum^2-k_z^2)*(x+a))\n",
    "#E_vacuum_z"
   ]
  },
  {
   "cell_type": "code",
   "execution_count": 103,
   "metadata": {},
   "outputs": [
    {
     "data": {
      "text/plain": [
       "A2_z*e^(I*K_vacuum*x) + A1_z*e^(-I*K_vacuum*x)"
      ]
     },
     "execution_count": 103,
     "metadata": {},
     "output_type": "execute_result"
    }
   ],
   "source": [
    "E_inner_vacuum_sol_z(x)"
   ]
  },
  {
   "cell_type": "code",
   "execution_count": 104,
   "metadata": {},
   "outputs": [
    {
     "data": {
      "text/plain": [
       "A1_z + A2_z == B1_z"
      ]
     },
     "execution_count": 104,
     "metadata": {},
     "output_type": "execute_result"
    }
   ],
   "source": [
    "eqEz_a.rhs() == eqEz_a.lhs()"
   ]
  },
  {
   "cell_type": "code",
   "execution_count": 105,
   "metadata": {},
   "outputs": [
    {
     "data": {
      "text/plain": [
       "B1_z == A1_z + A2_z"
      ]
     },
     "execution_count": 105,
     "metadata": {},
     "output_type": "execute_result"
    }
   ],
   "source": [
    "eqEz_a"
   ]
  },
  {
   "cell_type": "code",
   "execution_count": 106,
   "metadata": {
    "scrolled": true
   },
   "outputs": [
    {
     "data": {
      "text/plain": [
       "(A1_z, A2_z, c, k_z, kappa, mu, omega)"
      ]
     },
     "execution_count": 106,
     "metadata": {},
     "output_type": "execute_result"
    }
   ],
   "source": [
    "k_z_sol_subs = k_z_sol[1].subs(eqEz_a).full_simplify()\n",
    "k_z_sol_subs.variables()"
   ]
  },
  {
   "cell_type": "code",
   "execution_count": 107,
   "metadata": {},
   "outputs": [],
   "source": [
    "# display(Math(latex(k_z_sol)))"
   ]
  },
  {
   "cell_type": "code",
   "execution_count": null,
   "metadata": {},
   "outputs": [],
   "source": []
  },
  {
   "cell_type": "code",
   "execution_count": 108,
   "metadata": {},
   "outputs": [
    {
     "name": "stdout",
     "output_type": "stream",
     "text": [
      "E_inner_vacuum_x(0) == (A1_z*k_z - A2_z*k_z)/sqrt(-k_z^2 + kappa_vacuum^2)\n"
     ]
    },
    {
     "data": {
      "text/latex": [
       "$\\displaystyle E_{{\\rm inner}_{{\\rm vacuum}_{x}}}\\left(0\\right) = \\frac{\\mathit{A1}_{z} k_{z} - \\mathit{A2}_{z} k_{z}}{\\sqrt{-k_{z}^{2} + \\kappa_{\\mathit{vacuum}}^{2}}}$"
      ],
      "text/plain": [
       "<IPython.core.display.Math object>"
      ]
     },
     "metadata": {},
     "output_type": "display_data"
    },
    {
     "name": "stdout",
     "output_type": "stream",
     "text": [
      "\n",
      "E_bad_conductor_x(0) == -(A1_z + A2_z)*k_z/sqrt(-k_z^2 + kappa^2)\n"
     ]
    },
    {
     "data": {
      "text/latex": [
       "$\\displaystyle E_{{\\rm bad}_{{\\rm conductor}_{x}}}\\left(0\\right) = -\\frac{{\\left(\\mathit{A1}_{z} + \\mathit{A2}_{z}\\right)} k_{z}}{\\sqrt{-k_{z}^{2} + \\kappa^{2}}}$"
      ],
      "text/plain": [
       "<IPython.core.display.Math object>"
      ]
     },
     "metadata": {},
     "output_type": "display_data"
    },
    {
     "name": "stdout",
     "output_type": "stream",
     "text": [
      "\n",
      "4*I*pi*sigma/omega == -sqrt(-k_z^2 + kappa^2)*(A1_z - A2_z)/(sqrt(-k_z^2 + kappa_vacuum^2)*(A1_z + A2_z))\n"
     ]
    },
    {
     "data": {
      "text/latex": [
       "$\\displaystyle \\frac{4 i \\, \\pi \\sigma}{\\omega} = -\\frac{\\sqrt{-k_{z}^{2} + \\kappa^{2}} {\\left(\\mathit{A1}_{z} - \\mathit{A2}_{z}\\right)}}{\\sqrt{-k_{z}^{2} + \\kappa_{\\mathit{vacuum}}^{2}} {\\left(\\mathit{A1}_{z} + \\mathit{A2}_{z}\\right)}}$"
      ],
      "text/plain": [
       "<IPython.core.display.Math object>"
      ]
     },
     "metadata": {},
     "output_type": "display_data"
    },
    {
     "name": "stdout",
     "output_type": "stream",
     "text": [
      "\n"
     ]
    }
   ],
   "source": [
    "# нормальная компонента электрического смещения\n",
    "eq_5_subs5 = eq_5_subs4.subs(x == 0)\n",
    "print(eq_5_subs5)\n",
    "display(Math(latex(eq_5_subs5)))\n",
    "\n",
    "print(\"\")\n",
    "\n",
    "eq_7_subs5 = eq_7_subs4.subs(x == 0).subs(eqEz_a)\n",
    "print(eq_7_subs5)\n",
    "display(Math(latex(eq_7_subs5)))\n",
    "print(\"\")\n",
    "\n",
    "# eqDx_a = E_inner_vacuum_sol_x(0) == E_bad_conductor_sol_x(0) * epsilon\n",
    "eq_Dx_a = epsilon_complex == (eq_5_subs5.rhs() / eq_7_subs5.rhs()).full_simplify()\n",
    "\n",
    "print(eq_Dx_a)\n",
    "display(Math(latex(eq_Dx_a)))\n",
    "print(\"\")"
   ]
  },
  {
   "cell_type": "code",
   "execution_count": 109,
   "metadata": {},
   "outputs": [
    {
     "name": "stdout",
     "output_type": "stream",
     "text": [
      "4*I*pi*sigma/omega == -sqrt(4*I*pi*mu*omega*sigma/c - k_z^2)*(A1_z - A2_z)/(sqrt(-k_z^2 + omega^2/c^2)*(A1_z + A2_z))\n"
     ]
    },
    {
     "data": {
      "text/latex": [
       "$\\displaystyle \\frac{4 i \\, \\pi \\sigma}{\\omega} = -\\frac{\\sqrt{\\frac{4 i \\, \\pi \\mu \\omega \\sigma}{c} - k_{z}^{2}} {\\left(\\mathit{A1}_{z} - \\mathit{A2}_{z}\\right)}}{\\sqrt{-k_{z}^{2} + \\frac{\\omega^{2}}{c^{2}}} {\\left(\\mathit{A1}_{z} + \\mathit{A2}_{z}\\right)}}$"
      ],
      "text/plain": [
       "<IPython.core.display.Math object>"
      ]
     },
     "metadata": {},
     "output_type": "display_data"
    }
   ],
   "source": [
    "eq_Dx_a_subs = eq_Dx_a.subs(eq_kappa).subs(eq_kappa_inner_vacuum)\n",
    "\n",
    "print(eq_Dx_a_subs)\n",
    "display(Math(latex(eq_Dx_a_subs)))"
   ]
  },
  {
   "cell_type": "code",
   "execution_count": 110,
   "metadata": {},
   "outputs": [
    {
     "name": "stdout",
     "output_type": "stream",
     "text": [
      "-16*pi^2*sigma^2/omega^2 == -(4*I*pi*mu*omega*sigma/c - k_z^2)*(A1_z - A2_z)^2/((k_z^2 - omega^2/c^2)*(A1_z + A2_z)^2)\n"
     ]
    },
    {
     "data": {
      "text/latex": [
       "$\\displaystyle -\\frac{16 \\, \\pi^{2} \\sigma^{2}}{\\omega^{2}} = -\\frac{{\\left(\\frac{4 i \\, \\pi \\mu \\omega \\sigma}{c} - k_{z}^{2}\\right)} {\\left(\\mathit{A1}_{z} - \\mathit{A2}_{z}\\right)}^{2}}{{\\left(k_{z}^{2} - \\frac{\\omega^{2}}{c^{2}}\\right)} {\\left(\\mathit{A1}_{z} + \\mathit{A2}_{z}\\right)}^{2}}$"
      ],
      "text/plain": [
       "<IPython.core.display.Math object>"
      ]
     },
     "metadata": {},
     "output_type": "display_data"
    }
   ],
   "source": [
    "eq_Dx_a_subs2 = eq_Dx_a_subs.lhs()^2 == eq_Dx_a_subs.rhs()^2\n",
    "\n",
    "print(eq_Dx_a_subs2)\n",
    "display(Math(latex(eq_Dx_a_subs2)))"
   ]
  },
  {
   "cell_type": "code",
   "execution_count": 111,
   "metadata": {},
   "outputs": [
    {
     "data": {
      "text/latex": [
       "$\\displaystyle \\left[k_{z} = -\\frac{2 \\, \\sqrt{\\frac{i \\, \\pi \\mathit{A1}_{z}^{2} c \\mu \\omega \\sigma}{16 \\, \\pi^{2} \\mathit{A1}_{z}^{2} \\sigma^{2} + 32 \\, \\pi^{2} \\mathit{A1}_{z} \\mathit{A2}_{z} \\sigma^{2} + 16 \\, \\pi^{2} \\mathit{A2}_{z}^{2} \\sigma^{2} + \\mathit{A1}_{z}^{2} \\omega^{2} - 2 \\, \\mathit{A1}_{z} \\mathit{A2}_{z} \\omega^{2} + \\mathit{A2}_{z}^{2} \\omega^{2}} - \\frac{2 i \\, \\pi \\mathit{A1}_{z} \\mathit{A2}_{z} c \\mu \\omega \\sigma}{16 \\, \\pi^{2} \\mathit{A1}_{z}^{2} \\sigma^{2} + 32 \\, \\pi^{2} \\mathit{A1}_{z} \\mathit{A2}_{z} \\sigma^{2} + 16 \\, \\pi^{2} \\mathit{A2}_{z}^{2} \\sigma^{2} + \\mathit{A1}_{z}^{2} \\omega^{2} - 2 \\, \\mathit{A1}_{z} \\mathit{A2}_{z} \\omega^{2} + \\mathit{A2}_{z}^{2} \\omega^{2}} + \\frac{i \\, \\pi \\mathit{A2}_{z}^{2} c \\mu \\omega \\sigma}{16 \\, \\pi^{2} \\mathit{A1}_{z}^{2} \\sigma^{2} + 32 \\, \\pi^{2} \\mathit{A1}_{z} \\mathit{A2}_{z} \\sigma^{2} + 16 \\, \\pi^{2} \\mathit{A2}_{z}^{2} \\sigma^{2} + \\mathit{A1}_{z}^{2} \\omega^{2} - 2 \\, \\mathit{A1}_{z} \\mathit{A2}_{z} \\omega^{2} + \\mathit{A2}_{z}^{2} \\omega^{2}} + \\frac{4 \\, \\pi^{2} \\mathit{A1}_{z}^{2} \\sigma^{2}}{16 \\, \\pi^{2} \\mathit{A1}_{z}^{2} \\sigma^{2} + 32 \\, \\pi^{2} \\mathit{A1}_{z} \\mathit{A2}_{z} \\sigma^{2} + 16 \\, \\pi^{2} \\mathit{A2}_{z}^{2} \\sigma^{2} + \\mathit{A1}_{z}^{2} \\omega^{2} - 2 \\, \\mathit{A1}_{z} \\mathit{A2}_{z} \\omega^{2} + \\mathit{A2}_{z}^{2} \\omega^{2}} + \\frac{8 \\, \\pi^{2} \\mathit{A1}_{z} \\mathit{A2}_{z} \\sigma^{2}}{16 \\, \\pi^{2} \\mathit{A1}_{z}^{2} \\sigma^{2} + 32 \\, \\pi^{2} \\mathit{A1}_{z} \\mathit{A2}_{z} \\sigma^{2} + 16 \\, \\pi^{2} \\mathit{A2}_{z}^{2} \\sigma^{2} + \\mathit{A1}_{z}^{2} \\omega^{2} - 2 \\, \\mathit{A1}_{z} \\mathit{A2}_{z} \\omega^{2} + \\mathit{A2}_{z}^{2} \\omega^{2}} + \\frac{4 \\, \\pi^{2} \\mathit{A2}_{z}^{2} \\sigma^{2}}{16 \\, \\pi^{2} \\mathit{A1}_{z}^{2} \\sigma^{2} + 32 \\, \\pi^{2} \\mathit{A1}_{z} \\mathit{A2}_{z} \\sigma^{2} + 16 \\, \\pi^{2} \\mathit{A2}_{z}^{2} \\sigma^{2} + \\mathit{A1}_{z}^{2} \\omega^{2} - 2 \\, \\mathit{A1}_{z} \\mathit{A2}_{z} \\omega^{2} + \\mathit{A2}_{z}^{2} \\omega^{2}}} \\omega}{c}, k_{z} = \\frac{2 \\, \\sqrt{\\frac{i \\, \\pi \\mathit{A1}_{z}^{2} c \\mu \\omega \\sigma}{16 \\, \\pi^{2} \\mathit{A1}_{z}^{2} \\sigma^{2} + 32 \\, \\pi^{2} \\mathit{A1}_{z} \\mathit{A2}_{z} \\sigma^{2} + 16 \\, \\pi^{2} \\mathit{A2}_{z}^{2} \\sigma^{2} + \\mathit{A1}_{z}^{2} \\omega^{2} - 2 \\, \\mathit{A1}_{z} \\mathit{A2}_{z} \\omega^{2} + \\mathit{A2}_{z}^{2} \\omega^{2}} - \\frac{2 i \\, \\pi \\mathit{A1}_{z} \\mathit{A2}_{z} c \\mu \\omega \\sigma}{16 \\, \\pi^{2} \\mathit{A1}_{z}^{2} \\sigma^{2} + 32 \\, \\pi^{2} \\mathit{A1}_{z} \\mathit{A2}_{z} \\sigma^{2} + 16 \\, \\pi^{2} \\mathit{A2}_{z}^{2} \\sigma^{2} + \\mathit{A1}_{z}^{2} \\omega^{2} - 2 \\, \\mathit{A1}_{z} \\mathit{A2}_{z} \\omega^{2} + \\mathit{A2}_{z}^{2} \\omega^{2}} + \\frac{i \\, \\pi \\mathit{A2}_{z}^{2} c \\mu \\omega \\sigma}{16 \\, \\pi^{2} \\mathit{A1}_{z}^{2} \\sigma^{2} + 32 \\, \\pi^{2} \\mathit{A1}_{z} \\mathit{A2}_{z} \\sigma^{2} + 16 \\, \\pi^{2} \\mathit{A2}_{z}^{2} \\sigma^{2} + \\mathit{A1}_{z}^{2} \\omega^{2} - 2 \\, \\mathit{A1}_{z} \\mathit{A2}_{z} \\omega^{2} + \\mathit{A2}_{z}^{2} \\omega^{2}} + \\frac{4 \\, \\pi^{2} \\mathit{A1}_{z}^{2} \\sigma^{2}}{16 \\, \\pi^{2} \\mathit{A1}_{z}^{2} \\sigma^{2} + 32 \\, \\pi^{2} \\mathit{A1}_{z} \\mathit{A2}_{z} \\sigma^{2} + 16 \\, \\pi^{2} \\mathit{A2}_{z}^{2} \\sigma^{2} + \\mathit{A1}_{z}^{2} \\omega^{2} - 2 \\, \\mathit{A1}_{z} \\mathit{A2}_{z} \\omega^{2} + \\mathit{A2}_{z}^{2} \\omega^{2}} + \\frac{8 \\, \\pi^{2} \\mathit{A1}_{z} \\mathit{A2}_{z} \\sigma^{2}}{16 \\, \\pi^{2} \\mathit{A1}_{z}^{2} \\sigma^{2} + 32 \\, \\pi^{2} \\mathit{A1}_{z} \\mathit{A2}_{z} \\sigma^{2} + 16 \\, \\pi^{2} \\mathit{A2}_{z}^{2} \\sigma^{2} + \\mathit{A1}_{z}^{2} \\omega^{2} - 2 \\, \\mathit{A1}_{z} \\mathit{A2}_{z} \\omega^{2} + \\mathit{A2}_{z}^{2} \\omega^{2}} + \\frac{4 \\, \\pi^{2} \\mathit{A2}_{z}^{2} \\sigma^{2}}{16 \\, \\pi^{2} \\mathit{A1}_{z}^{2} \\sigma^{2} + 32 \\, \\pi^{2} \\mathit{A1}_{z} \\mathit{A2}_{z} \\sigma^{2} + 16 \\, \\pi^{2} \\mathit{A2}_{z}^{2} \\sigma^{2} + \\mathit{A1}_{z}^{2} \\omega^{2} - 2 \\, \\mathit{A1}_{z} \\mathit{A2}_{z} \\omega^{2} + \\mathit{A2}_{z}^{2} \\omega^{2}}} \\omega}{c}\\right]$"
      ],
      "text/plain": [
       "<IPython.core.display.Math object>"
      ]
     },
     "metadata": {},
     "output_type": "display_data"
    }
   ],
   "source": [
    "sol_eq_Dx_a_subs2_kz = solve(eq_Dx_a_subs2, k_z)\n",
    "\n",
    "#print(sol_eq_Dx_a_subs2_kz)\n",
    "display(Math(latex(sol_eq_Dx_a_subs2_kz)))"
   ]
  },
  {
   "cell_type": "code",
   "execution_count": null,
   "metadata": {},
   "outputs": [],
   "source": []
  },
  {
   "cell_type": "code",
   "execution_count": 112,
   "metadata": {},
   "outputs": [
    {
     "data": {
      "text/plain": [
       "A1_x + A2_x == 4*I*pi*B1_x*sigma/omega"
      ]
     },
     "execution_count": 112,
     "metadata": {},
     "output_type": "execute_result"
    }
   ],
   "source": [
    "# нормальная компонента электрического смещения\n",
    "# eqDx_a = E_inner_vacuum_sol_x(0) == E_bad_conductor_sol_x(0) * epsilon\n",
    "eqDx_a"
   ]
  },
  {
   "cell_type": "code",
   "execution_count": 113,
   "metadata": {},
   "outputs": [
    {
     "name": "stdout",
     "output_type": "stream",
     "text": [
      "E_inner_vacuum_x(x) == -(A2_z*k_z*e^(2*I*sqrt(-k_z^2 + kappa_vacuum^2)*x) - A1_z*k_z)*e^(-I*sqrt(-k_z^2 + kappa_vacuum^2)*x)/sqrt(-k_z^2 + kappa_vacuum^2)\n"
     ]
    },
    {
     "data": {
      "text/latex": [
       "$\\displaystyle E_{{\\rm inner}_{{\\rm vacuum}_{x}}}\\left(x\\right) = -\\frac{{\\left(\\mathit{A2}_{z} k_{z} e^{\\left(2 i \\, \\sqrt{-k_{z}^{2} + \\kappa_{\\mathit{vacuum}}^{2}} x\\right)} - \\mathit{A1}_{z} k_{z}\\right)} e^{\\left(-i \\, \\sqrt{-k_{z}^{2} + \\kappa_{\\mathit{vacuum}}^{2}} x\\right)}}{\\sqrt{-k_{z}^{2} + \\kappa_{\\mathit{vacuum}}^{2}}}$"
      ],
      "text/plain": [
       "<IPython.core.display.Math object>"
      ]
     },
     "metadata": {},
     "output_type": "display_data"
    }
   ],
   "source": [
    "print             (eq_5_subs4)\n",
    "display(Math(latex(eq_5_subs4)))"
   ]
  },
  {
   "cell_type": "code",
   "execution_count": 114,
   "metadata": {},
   "outputs": [
    {
     "name": "stdout",
     "output_type": "stream",
     "text": [
      "E_bad_conductor_x(x) == -B1_z*k_z*e^(I*sqrt(-k_z^2 + kappa^2)*x)/sqrt(-k_z^2 + kappa^2)\n"
     ]
    },
    {
     "data": {
      "text/latex": [
       "$\\displaystyle E_{{\\rm bad}_{{\\rm conductor}_{x}}}\\left(x\\right) = -\\frac{\\mathit{B1}_{z} k_{z} e^{\\left(i \\, \\sqrt{-k_{z}^{2} + \\kappa^{2}} x\\right)}}{\\sqrt{-k_{z}^{2} + \\kappa^{2}}}$"
      ],
      "text/plain": [
       "<IPython.core.display.Math object>"
      ]
     },
     "metadata": {},
     "output_type": "display_data"
    }
   ],
   "source": [
    "print             (eq_7_subs4)\n",
    "display(Math(latex(eq_7_subs4)))"
   ]
  },
  {
   "cell_type": "code",
   "execution_count": 115,
   "metadata": {},
   "outputs": [
    {
     "name": "stdout",
     "output_type": "stream",
     "text": [
      "(A1_z*k_z - A2_z*k_z)/sqrt(-k_z^2 + kappa_vacuum^2) == -4*I*pi*B1_z*k_z*sigma/(sqrt(-k_z^2 + kappa^2)*omega)\n"
     ]
    },
    {
     "data": {
      "text/latex": [
       "$\\displaystyle \\frac{\\mathit{A1}_{z} k_{z} - \\mathit{A2}_{z} k_{z}}{\\sqrt{-k_{z}^{2} + \\kappa_{\\mathit{vacuum}}^{2}}} = -\\frac{4 i \\, \\pi \\mathit{B1}_{z} k_{z} \\sigma}{\\sqrt{-k_{z}^{2} + \\kappa^{2}} \\omega}$"
      ],
      "text/plain": [
       "<IPython.core.display.Math object>"
      ]
     },
     "metadata": {},
     "output_type": "display_data"
    }
   ],
   "source": [
    "eq_eqDx_a = eq_5_subs4.rhs().subs(x == 0).subs(K_vacuum_subs) \\\n",
    "         == (eq_7_subs4.rhs().subs(x == 0)*epsilon_complex).subs(K_conductor_subs)\n",
    "print             (eq_eqDx_a)\n",
    "display(Math(latex(eq_eqDx_a)))"
   ]
  },
  {
   "cell_type": "code",
   "execution_count": null,
   "metadata": {},
   "outputs": [],
   "source": []
  },
  {
   "cell_type": "code",
   "execution_count": 116,
   "metadata": {},
   "outputs": [
    {
     "name": "stdout",
     "output_type": "stream",
     "text": [
      "eqEz_0 = \n"
     ]
    },
    {
     "data": {
      "text/latex": [
       "$\\displaystyle \\mathit{A1}_{z} e^{\\left(i \\, K_{\\mathit{vacuum}} a\\right)} + \\mathit{A2}_{z} e^{\\left(-i \\, K_{\\mathit{vacuum}} a\\right)} = 0$"
      ],
      "text/plain": [
       "<IPython.core.display.Math object>"
      ]
     },
     "metadata": {},
     "output_type": "display_data"
    },
    {
     "name": "stdout",
     "output_type": "stream",
     "text": [
      "eqEz_0_ = \n"
     ]
    },
    {
     "data": {
      "text/latex": [
       "$\\displaystyle {\\left(i \\, \\mathit{A1}_{z_{\\mathit{im}}} + \\mathit{A1}_{z_{\\mathit{re}}}\\right)} e^{\\left(i \\, K_{\\mathit{vacuum}} a\\right)} + {\\left(i \\, \\mathit{A2}_{z_{\\mathit{im}}} + \\mathit{A2}_{z_{\\mathit{re}}}\\right)} e^{\\left(-i \\, K_{\\mathit{vacuum}} a\\right)} = 0$"
      ],
      "text/plain": [
       "<IPython.core.display.Math object>"
      ]
     },
     "metadata": {},
     "output_type": "display_data"
    },
    {
     "name": "stdout",
     "output_type": "stream",
     "text": [
      "eqEz_0, eqEy_0 = \n"
     ]
    },
    {
     "data": {
      "text/latex": [
       "$\\displaystyle \\left[\\mathit{A1}_{z} e^{\\left(i \\, K_{\\mathit{vacuum}} a\\right)} + \\mathit{A2}_{z} e^{\\left(-i \\, K_{\\mathit{vacuum}} a\\right)} = 0, \\mathit{A1}_{y} e^{\\left(i \\, K_{\\mathit{vacuum}} a\\right)} + \\mathit{A2}_{y} e^{\\left(-i \\, K_{\\mathit{vacuum}} a\\right)} = 0\\right]$"
      ],
      "text/plain": [
       "<IPython.core.display.Math object>"
      ]
     },
     "metadata": {},
     "output_type": "display_data"
    },
    {
     "name": "stdout",
     "output_type": "stream",
     "text": [
      "eqHz_a =\n"
     ]
    },
    {
     "data": {
      "text/latex": [
       "$\\displaystyle -\\frac{i \\, {\\left(i \\, \\mathit{B1}_{y} K_{\\mathit{conductor}} - i \\, \\mathit{B1}_{x} k_{y}\\right)} c}{\\mu \\omega} = -\\frac{i \\, {\\left(-i \\, \\mathit{A1}_{y} K_{\\mathit{vacuum}} + i \\, \\mathit{A2}_{y} K_{\\mathit{vacuum}} - i \\, {\\left(\\mathit{A1}_{x} + \\mathit{A2}_{x}\\right)} k_{y}\\right)} c}{\\omega}$"
      ],
      "text/plain": [
       "<IPython.core.display.Math object>"
      ]
     },
     "metadata": {},
     "output_type": "display_data"
    },
    {
     "name": "stdout",
     "output_type": "stream",
     "text": [
      "eqHy_a =\n"
     ]
    },
    {
     "data": {
      "text/latex": [
       "$\\displaystyle -\\frac{i \\, {\\left(-i \\, \\mathit{B1}_{z} K_{\\mathit{conductor}} + i \\, \\mathit{B1}_{x} k_{z}\\right)} c}{\\mu \\omega} = -\\frac{i \\, {\\left(i \\, \\mathit{A1}_{z} K_{\\mathit{vacuum}} - i \\, \\mathit{A2}_{z} K_{\\mathit{vacuum}} + i \\, {\\left(\\mathit{A1}_{x} + \\mathit{A2}_{x}\\right)} k_{z}\\right)} c}{\\omega}$"
      ],
      "text/plain": [
       "<IPython.core.display.Math object>"
      ]
     },
     "metadata": {},
     "output_type": "display_data"
    },
    {
     "name": "stdout",
     "output_type": "stream",
     "text": [
      "eqHz_a =\n"
     ]
    },
    {
     "data": {
      "text/latex": [
       "$\\displaystyle -\\frac{i \\, {\\left(i \\, {\\left(i \\, \\mathit{B1}_{y_{\\mathit{im}}} + \\mathit{B1}_{y_{\\mathit{re}}}\\right)} K_{\\mathit{conductor}} - i \\, {\\left(i \\, \\mathit{B1}_{x_{\\mathit{im}}} + \\mathit{B1}_{x_{\\mathit{re}}}\\right)} k_{y}\\right)} c}{\\mu \\omega} = -\\frac{i \\, {\\left(-i \\, {\\left(i \\, \\mathit{A1}_{y_{\\mathit{im}}} + \\mathit{A1}_{y_{\\mathit{re}}}\\right)} K_{\\mathit{vacuum}} + i \\, {\\left(i \\, \\mathit{A2}_{y_{\\mathit{im}}} + \\mathit{A2}_{y_{\\mathit{re}}}\\right)} K_{\\mathit{vacuum}} - i \\, {\\left(i \\, \\mathit{A1}_{x_{\\mathit{im}}} + \\mathit{A1}_{x_{\\mathit{re}}} + i \\, \\mathit{A2}_{x_{\\mathit{im}}} + \\mathit{A2}_{x_{\\mathit{re}}}\\right)} k_{y}\\right)} c}{\\omega}$"
      ],
      "text/plain": [
       "<IPython.core.display.Math object>"
      ]
     },
     "metadata": {},
     "output_type": "display_data"
    },
    {
     "name": "stdout",
     "output_type": "stream",
     "text": [
      "eqHy_a =\n"
     ]
    },
    {
     "data": {
      "text/latex": [
       "$\\displaystyle -\\frac{i \\, {\\left(-i \\, {\\left(i \\, \\mathit{B1}_{z_{\\mathit{im}}} + \\mathit{B1}_{z_{\\mathit{re}}}\\right)} K_{\\mathit{conductor}} + i \\, {\\left(i \\, \\mathit{B1}_{x_{\\mathit{im}}} + \\mathit{B1}_{x_{\\mathit{re}}}\\right)} k_{z}\\right)} c}{\\mu \\omega} = -\\frac{i \\, {\\left(i \\, {\\left(i \\, \\mathit{A1}_{z_{\\mathit{im}}} + \\mathit{A1}_{z_{\\mathit{re}}}\\right)} K_{\\mathit{vacuum}} - i \\, {\\left(i \\, \\mathit{A2}_{z_{\\mathit{im}}} + \\mathit{A2}_{z_{\\mathit{re}}}\\right)} K_{\\mathit{vacuum}} + i \\, {\\left(i \\, \\mathit{A1}_{x_{\\mathit{im}}} + \\mathit{A1}_{x_{\\mathit{re}}} + i \\, \\mathit{A2}_{x_{\\mathit{im}}} + \\mathit{A2}_{x_{\\mathit{re}}}\\right)} k_{z}\\right)} c}{\\omega}$"
      ],
      "text/plain": [
       "<IPython.core.display.Math object>"
      ]
     },
     "metadata": {},
     "output_type": "display_data"
    },
    {
     "name": "stdout",
     "output_type": "stream",
     "text": [
      "eqEz_a = \n"
     ]
    },
    {
     "data": {
      "text/latex": [
       "$\\displaystyle \\mathit{B1}_{z} = \\mathit{A1}_{z} + \\mathit{A2}_{z}$"
      ],
      "text/plain": [
       "<IPython.core.display.Math object>"
      ]
     },
     "metadata": {},
     "output_type": "display_data"
    },
    {
     "name": "stdout",
     "output_type": "stream",
     "text": [
      "eqEy_a = \n"
     ]
    },
    {
     "data": {
      "text/latex": [
       "$\\displaystyle \\mathit{B1}_{y} = \\mathit{A1}_{y} + \\mathit{A2}_{y}$"
      ],
      "text/plain": [
       "<IPython.core.display.Math object>"
      ]
     },
     "metadata": {},
     "output_type": "display_data"
    },
    {
     "name": "stdout",
     "output_type": "stream",
     "text": [
      "eqBx_a =\n"
     ]
    },
    {
     "data": {
      "text/latex": [
       "$\\displaystyle -\\frac{i \\, {\\left(i \\, \\mathit{B1}_{z} k_{y} - i \\, \\mathit{B1}_{y} k_{z}\\right)} c}{\\omega} = -\\frac{i \\, {\\left(i \\, {\\left(\\mathit{A1}_{z} + \\mathit{A2}_{z}\\right)} k_{y} - i \\, {\\left(\\mathit{A1}_{y} + \\mathit{A2}_{y}\\right)} k_{z}\\right)} c}{\\omega}$"
      ],
      "text/plain": [
       "<IPython.core.display.Math object>"
      ]
     },
     "metadata": {},
     "output_type": "display_data"
    },
    {
     "name": "stdout",
     "output_type": "stream",
     "text": [
      "eqBx_a_ =\n"
     ]
    },
    {
     "data": {
      "text/latex": [
       "$\\displaystyle -\\frac{i \\, {\\left(i \\, {\\left(i \\, \\mathit{B1}_{z_{\\mathit{im}}} + \\mathit{B1}_{z_{\\mathit{re}}}\\right)} k_{y} - i \\, {\\left(i \\, \\mathit{B1}_{y_{\\mathit{im}}} + \\mathit{B1}_{y_{\\mathit{re}}}\\right)} k_{z}\\right)} c}{\\omega} = -\\frac{i \\, {\\left(i \\, {\\left(i \\, \\mathit{A1}_{z_{\\mathit{im}}} + \\mathit{A1}_{z_{\\mathit{re}}} + i \\, \\mathit{A2}_{z_{\\mathit{im}}} + \\mathit{A2}_{z_{\\mathit{re}}}\\right)} k_{y} - i \\, {\\left(i \\, \\mathit{A1}_{y_{\\mathit{im}}} + \\mathit{A1}_{y_{\\mathit{re}}} + i \\, \\mathit{A2}_{y_{\\mathit{im}}} + \\mathit{A2}_{y_{\\mathit{re}}}\\right)} k_{z}\\right)} c}{\\omega}$"
      ],
      "text/plain": [
       "<IPython.core.display.Math object>"
      ]
     },
     "metadata": {},
     "output_type": "display_data"
    },
    {
     "name": "stdout",
     "output_type": "stream",
     "text": [
      "eqDx_a =\n"
     ]
    },
    {
     "data": {
      "text/latex": [
       "$\\displaystyle \\mathit{A1}_{x} + \\mathit{A2}_{x} = \\frac{4 i \\, \\pi \\mathit{B1}_{x} \\sigma}{\\omega}$"
      ],
      "text/plain": [
       "<IPython.core.display.Math object>"
      ]
     },
     "metadata": {},
     "output_type": "display_data"
    },
    {
     "name": "stdout",
     "output_type": "stream",
     "text": [
      "eqDx_a_ =\n"
     ]
    },
    {
     "data": {
      "text/latex": [
       "$\\displaystyle i \\, \\mathit{A1}_{x_{\\mathit{im}}} + \\mathit{A1}_{x_{\\mathit{re}}} + i \\, \\mathit{A2}_{x_{\\mathit{im}}} + \\mathit{A2}_{x_{\\mathit{re}}} = \\frac{4 i \\, \\pi {\\left(i \\, \\mathit{B1}_{x_{\\mathit{im}}} + \\mathit{B1}_{x_{\\mathit{re}}}\\right)} \\sigma}{\\omega}$"
      ],
      "text/plain": [
       "<IPython.core.display.Math object>"
      ]
     },
     "metadata": {},
     "output_type": "display_data"
    }
   ],
   "source": [
    "# граничные условия на границе идеального проводника и вакуума внутри резонатора\n",
    "# тангенциальная компонента электрического поля\n",
    "\n",
    "print (\"eqEz_0 = \")\n",
    "display(Math(latex(eqEz_0)))\n",
    "\n",
    "eqEz_0_ = eqEz_0.subs(A1_z_re_im_subs).subs(A2_z_re_im_subs)\n",
    "eqEy_0_ = eqEy_0.subs(A1_y_re_im_subs).subs(A2_y_re_im_subs)\n",
    "\n",
    "print (\"eqEz_0_ = \")\n",
    "display(Math(latex(eqEz_0_)))\n",
    "\n",
    "\n",
    "print (\"eqEz_0, eqEy_0 = \")\n",
    "display(Math(latex([eqEz_0, eqEy_0])))\n",
    "\n",
    "# тангенциальная компонента напряженности магнитного поля\n",
    "print (\"eqHz_a =\")\n",
    "display(Math(latex(eqHz_a)))\n",
    "print (\"eqHy_a =\")\n",
    "display(Math(latex(eqHy_a)))\n",
    "\n",
    "eqHz_a_ = eqHz_a \\\n",
    "        .subs(A1_x_re_im_subs).subs(A2_x_re_im_subs) \\\n",
    "        .subs(A1_y_re_im_subs).subs(A2_y_re_im_subs) \\\n",
    "        .subs(A1_z_re_im_subs).subs(A2_z_re_im_subs) \\\n",
    "        .subs(B1_x_re_im_subs) \\\n",
    "        .subs(B1_y_re_im_subs) \\\n",
    "        .subs(B1_z_re_im_subs)\n",
    "\n",
    "\n",
    "eqHy_a_ = eqHy_a \\\n",
    "        .subs(A1_x_re_im_subs).subs(A2_x_re_im_subs) \\\n",
    "        .subs(A1_y_re_im_subs).subs(A2_y_re_im_subs) \\\n",
    "        .subs(A1_z_re_im_subs).subs(A2_z_re_im_subs) \\\n",
    "        .subs(B1_x_re_im_subs) \\\n",
    "        .subs(B1_y_re_im_subs) \\\n",
    "        .subs(B1_z_re_im_subs)\n",
    "\n",
    "print (\"eqHz_a =\")\n",
    "display(Math(latex(eqHz_a_)))\n",
    "print (\"eqHy_a =\")\n",
    "display(Math(latex(eqHy_a_)))\n",
    "\n",
    "# граничные условия на границе вакуума внутри резонатора и проводящего металла с потерями\n",
    "# тангенциальная компонента электрического поля\n",
    "print (\"eqEz_a = \")\n",
    "display(Math(latex(eqEz_a)))\n",
    "print (\"eqEy_a = \")\n",
    "display(Math(latex(eqEy_a)))\n",
    "\n",
    "eqEz_a_ = eqEz_a \\\n",
    "        .subs(A1_z_re_im_subs).subs(A2_z_re_im_subs) \\\n",
    "        .subs(B1_z_re_im_subs)\n",
    "\n",
    "eqEy_a_ = eqEy_a \\\n",
    "        .subs(A1_y_re_im_subs).subs(A2_y_re_im_subs) \\\n",
    "        .subs(B1_y_re_im_subs)\n",
    "\n",
    "# нормальная компонента индукции магнитного поля\n",
    "#eqBx_a  = mu * H_bad_conductor_sol_x (0)  == H_inner_vacuum_sol_x (0)\n",
    "\n",
    "print (\"eqBx_a =\")\n",
    "display(Math(latex(eqBx_a)))\n",
    "\n",
    "eqBx_a_ = eqBx_a \\\n",
    "        .subs(A1_x_re_im_subs).subs(A2_x_re_im_subs) \\\n",
    "        .subs(A1_y_re_im_subs).subs(A2_y_re_im_subs) \\\n",
    "        .subs(A1_z_re_im_subs).subs(A2_z_re_im_subs) \\\n",
    "        .subs(B1_x_re_im_subs) \\\n",
    "        .subs(B1_y_re_im_subs) \\\n",
    "        .subs(B1_z_re_im_subs)\n",
    "\n",
    "print (\"eqBx_a_ =\")\n",
    "display(Math(latex(eqBx_a_)))\n",
    "\n",
    "# нормальная компонента электрического смещения\n",
    "\n",
    "print (\"eqDx_a =\")\n",
    "display(Math(latex(eqDx_a)))\n",
    "\n",
    "eqDx_a_ = eqDx_a \\\n",
    "        .subs(A1_x_re_im_subs).subs(A2_x_re_im_subs) \\\n",
    "        .subs(A1_y_re_im_subs).subs(A2_y_re_im_subs) \\\n",
    "        .subs(A1_z_re_im_subs).subs(A2_z_re_im_subs) \\\n",
    "        .subs(B1_x_re_im_subs) \\\n",
    "        .subs(B1_y_re_im_subs) \\\n",
    "        .subs(B1_z_re_im_subs)\n",
    "\n",
    "print (\"eqDx_a_ =\")\n",
    "display(Math(latex(eqDx_a_)))"
   ]
  },
  {
   "cell_type": "code",
   "execution_count": 117,
   "metadata": {},
   "outputs": [],
   "source": [
    "# граничные условия на границе идеального проводника и вакуума внутри резонатора\n",
    "# тангенциальная компонента электрического поля"
   ]
  },
  {
   "cell_type": "code",
   "execution_count": 118,
   "metadata": {},
   "outputs": [],
   "source": [
    "eqEz_0_re = eqEz_0_.lhs().real() == 0\n",
    "eqEz_0_im = eqEz_0_.lhs().imag() == 0"
   ]
  },
  {
   "cell_type": "code",
   "execution_count": 119,
   "metadata": {},
   "outputs": [],
   "source": [
    "eqEy_0_re = eqEy_0_.lhs().real() == 0\n",
    "eqEy_0_im = eqEy_0_.lhs().imag() == 0"
   ]
  },
  {
   "cell_type": "code",
   "execution_count": 120,
   "metadata": {},
   "outputs": [],
   "source": [
    "# тангенциальная компонента напряженности магнитного поля"
   ]
  },
  {
   "cell_type": "code",
   "execution_count": 121,
   "metadata": {},
   "outputs": [],
   "source": [
    "#eqHz_a"
   ]
  },
  {
   "cell_type": "code",
   "execution_count": 122,
   "metadata": {},
   "outputs": [],
   "source": [
    "#eqHy_a"
   ]
  },
  {
   "cell_type": "code",
   "execution_count": 123,
   "metadata": {},
   "outputs": [],
   "source": [
    "eqHz_a_re = eqHz_a_.lhs().real() == eqHz_a_.rhs().real()\n",
    "eqHz_a_im = eqHz_a_.lhs().imag() == eqHz_a_.rhs().imag()"
   ]
  },
  {
   "cell_type": "code",
   "execution_count": 124,
   "metadata": {},
   "outputs": [],
   "source": [
    "eqHy_a_re = eqHy_a_.lhs().real() == eqHy_a_.rhs().real()\n",
    "eqHy_a_im = eqHy_a_.lhs().imag() == eqHy_a_.rhs().imag()"
   ]
  },
  {
   "cell_type": "code",
   "execution_count": 125,
   "metadata": {},
   "outputs": [],
   "source": [
    "# граничные условия на границе вакуума внутри резонатора и проводящего металла с потерями\n",
    "# тангенциальная компонента электрического поля"
   ]
  },
  {
   "cell_type": "code",
   "execution_count": 126,
   "metadata": {},
   "outputs": [],
   "source": [
    "#eqEz_a"
   ]
  },
  {
   "cell_type": "code",
   "execution_count": 127,
   "metadata": {},
   "outputs": [],
   "source": [
    "eqEz_a_re = eqEz_a_.lhs().real() == eqEz_a_.rhs().real()\n",
    "eqEz_a_im = eqEz_a_.lhs().imag() == eqEz_a_.rhs().imag()"
   ]
  },
  {
   "cell_type": "code",
   "execution_count": 128,
   "metadata": {},
   "outputs": [],
   "source": [
    "#eqEy_a"
   ]
  },
  {
   "cell_type": "code",
   "execution_count": 129,
   "metadata": {},
   "outputs": [],
   "source": [
    "eqEy_a_re = eqEy_a_.lhs().real() == eqEy_a_.rhs().real()\n",
    "eqEy_a_im = eqEy_a_.lhs().imag() == eqEy_a_.rhs().imag()"
   ]
  },
  {
   "cell_type": "code",
   "execution_count": 130,
   "metadata": {},
   "outputs": [],
   "source": [
    "# нормальная компонента индукции магнитного поля\n",
    "# на границе вакуума внутри резонатора и проводящего металла с потерями"
   ]
  },
  {
   "cell_type": "code",
   "execution_count": 131,
   "metadata": {},
   "outputs": [],
   "source": [
    "#eqBx_a"
   ]
  },
  {
   "cell_type": "code",
   "execution_count": 132,
   "metadata": {},
   "outputs": [],
   "source": [
    "eqBx_a_re = eqBx_a_.lhs().real() == eqBx_a_.rhs().real()\n",
    "eqBx_a_im = eqBx_a_.lhs().imag() == eqBx_a_.rhs().imag()"
   ]
  },
  {
   "cell_type": "code",
   "execution_count": 133,
   "metadata": {},
   "outputs": [],
   "source": [
    "# нормальная компонента электрического смещения\n",
    "# на границе вакуума внутри резонатора и проводящего металла с потерями"
   ]
  },
  {
   "cell_type": "code",
   "execution_count": 134,
   "metadata": {},
   "outputs": [],
   "source": [
    "#eqDx_a"
   ]
  },
  {
   "cell_type": "code",
   "execution_count": 135,
   "metadata": {},
   "outputs": [],
   "source": [
    "eqDx_a_re = eqDx_a_.lhs().real() == eqDx_a_.rhs().real()\n",
    "eqDx_a_im = eqDx_a_.lhs().imag() == eqDx_a_.rhs().imag()"
   ]
  },
  {
   "cell_type": "code",
   "execution_count": 136,
   "metadata": {},
   "outputs": [
    {
     "data": {
      "text/latex": [
       "$\\displaystyle k_{z} = \\kappa \\omega \\sqrt{\\frac{{\\left(\\mathit{A1}_{z}^{2} + 2 \\, \\mathit{A1}_{z} \\mathit{A2}_{z} + \\mathit{A2}_{z}^{2}\\right)} c^{2} \\kappa^{2} - {\\left(\\mathit{A1}_{z}^{2} - 2 \\, \\mathit{A1}_{z} \\mathit{A2}_{z} + \\mathit{A2}_{z}^{2}\\right)} \\mu^{2} \\omega^{2}}{{\\left(\\mathit{A1}_{z}^{2} + 2 \\, \\mathit{A1}_{z} \\mathit{A2}_{z} + \\mathit{A2}_{z}^{2}\\right)} c^{4} \\kappa^{4} - {\\left(\\mathit{A1}_{z}^{2} - 2 \\, \\mathit{A1}_{z} \\mathit{A2}_{z} + \\mathit{A2}_{z}^{2}\\right)} \\mu^{2} \\omega^{4}}}$"
      ],
      "text/plain": [
       "<IPython.core.display.Math object>"
      ]
     },
     "metadata": {},
     "output_type": "display_data"
    }
   ],
   "source": [
    "display(Math(latex(k_z_sol_subs)))"
   ]
  },
  {
   "cell_type": "code",
   "execution_count": 137,
   "metadata": {},
   "outputs": [],
   "source": [
    "k_z_sol_subs = k_z_sol_subs.subs(K_vacuum_subs).subs(K_conductor_subs).subs(kappa_vacuum_sol).subs(kappa_sol) \\\n",
    "    .subs(A1_z == A1_z_re + I * A1_z_im) \\\n",
    "    .subs(A2_z == A2_z_re + I * A2_z_im)"
   ]
  },
  {
   "cell_type": "code",
   "execution_count": 138,
   "metadata": {},
   "outputs": [
    {
     "data": {
      "text/latex": [
       "$\\displaystyle k_{z} = 2 \\, \\sqrt{\\frac{i \\, \\pi \\mu \\omega \\sigma}{c}} \\omega \\sqrt{-\\frac{4 i \\, \\pi {\\left({\\left(i \\, \\mathit{A1}_{z_{\\mathit{im}}} + \\mathit{A1}_{z_{\\mathit{re}}}\\right)}^{2} + 2 \\, {\\left(i \\, \\mathit{A1}_{z_{\\mathit{im}}} + \\mathit{A1}_{z_{\\mathit{re}}}\\right)} {\\left(i \\, \\mathit{A2}_{z_{\\mathit{im}}} + \\mathit{A2}_{z_{\\mathit{re}}}\\right)} + {\\left(i \\, \\mathit{A2}_{z_{\\mathit{im}}} + \\mathit{A2}_{z_{\\mathit{re}}}\\right)}^{2}\\right)} c \\mu \\omega \\sigma - {\\left({\\left(i \\, \\mathit{A1}_{z_{\\mathit{im}}} + \\mathit{A1}_{z_{\\mathit{re}}}\\right)}^{2} - 2 \\, {\\left(i \\, \\mathit{A1}_{z_{\\mathit{im}}} + \\mathit{A1}_{z_{\\mathit{re}}}\\right)} {\\left(i \\, \\mathit{A2}_{z_{\\mathit{im}}} + \\mathit{A2}_{z_{\\mathit{re}}}\\right)} + {\\left(i \\, \\mathit{A2}_{z_{\\mathit{im}}} + \\mathit{A2}_{z_{\\mathit{re}}}\\right)}^{2}\\right)} \\mu^{2} \\omega^{2}}{16 \\, \\pi^{2} {\\left({\\left(i \\, \\mathit{A1}_{z_{\\mathit{im}}} + \\mathit{A1}_{z_{\\mathit{re}}}\\right)}^{2} + 2 \\, {\\left(i \\, \\mathit{A1}_{z_{\\mathit{im}}} + \\mathit{A1}_{z_{\\mathit{re}}}\\right)} {\\left(i \\, \\mathit{A2}_{z_{\\mathit{im}}} + \\mathit{A2}_{z_{\\mathit{re}}}\\right)} + {\\left(i \\, \\mathit{A2}_{z_{\\mathit{im}}} + \\mathit{A2}_{z_{\\mathit{re}}}\\right)}^{2}\\right)} c^{2} \\mu^{2} \\omega^{2} \\sigma^{2} + {\\left({\\left(i \\, \\mathit{A1}_{z_{\\mathit{im}}} + \\mathit{A1}_{z_{\\mathit{re}}}\\right)}^{2} - 2 \\, {\\left(i \\, \\mathit{A1}_{z_{\\mathit{im}}} + \\mathit{A1}_{z_{\\mathit{re}}}\\right)} {\\left(i \\, \\mathit{A2}_{z_{\\mathit{im}}} + \\mathit{A2}_{z_{\\mathit{re}}}\\right)} + {\\left(i \\, \\mathit{A2}_{z_{\\mathit{im}}} + \\mathit{A2}_{z_{\\mathit{re}}}\\right)}^{2}\\right)} \\mu^{2} \\omega^{4}}}$"
      ],
      "text/plain": [
       "<IPython.core.display.Math object>"
      ]
     },
     "metadata": {},
     "output_type": "display_data"
    }
   ],
   "source": [
    "display(Math(latex(k_z_sol_subs)))"
   ]
  },
  {
   "cell_type": "code",
   "execution_count": 139,
   "metadata": {},
   "outputs": [
    {
     "data": {
      "text/plain": [
       "(A1_z_im, A1_z_re, A2_z_im, A2_z_re, c, mu, omega, sigma)"
      ]
     },
     "execution_count": 139,
     "metadata": {},
     "output_type": "execute_result"
    }
   ],
   "source": [
    "K_vacuum_s = K_vacuum_subs.subs(k_z_sol_subs).subs(kappa_vacuum_sol).subs(kappa_sol)\n",
    "K_vacuum_s.rhs().variables()"
   ]
  },
  {
   "cell_type": "code",
   "execution_count": 140,
   "metadata": {},
   "outputs": [
    {
     "data": {
      "text/plain": [
       "(A1_z_im, A1_z_re, A2_z_im, A2_z_re, c, mu, omega, sigma)"
      ]
     },
     "execution_count": 140,
     "metadata": {},
     "output_type": "execute_result"
    }
   ],
   "source": [
    "K_conductor_s = K_conductor_subs.subs(k_z_sol_subs).subs(kappa_vacuum_sol).subs(kappa_sol)\n",
    "K_conductor_s.rhs().variables()"
   ]
  },
  {
   "cell_type": "code",
   "execution_count": 141,
   "metadata": {},
   "outputs": [],
   "source": [
    "#k_z_sol_subs"
   ]
  },
  {
   "cell_type": "code",
   "execution_count": 142,
   "metadata": {},
   "outputs": [
    {
     "data": {
      "text/plain": [
       "(A1_z_im, A1_z_re, A2_z_im, A2_z_re, c, mu, omega, sigma)"
      ]
     },
     "execution_count": 142,
     "metadata": {},
     "output_type": "execute_result"
    }
   ],
   "source": [
    "K_vacuum_s = K_vacuum_subs.subs(k_z_sol_subs).subs(kappa_vacuum_sol).subs(kappa_sol) \\\n",
    "    .subs(A1_z == A1_z_re + I * A1_z_im) \\\n",
    "    .subs(A2_z == A2_z_re + I * A2_z_im)\n",
    "\n",
    "K_vacuum_s.rhs().variables()"
   ]
  },
  {
   "cell_type": "code",
   "execution_count": 143,
   "metadata": {},
   "outputs": [
    {
     "data": {
      "text/plain": [
       "(A1_z_im, A1_z_re, A2_z_im, A2_z_re, c, mu, omega, sigma)"
      ]
     },
     "execution_count": 143,
     "metadata": {},
     "output_type": "execute_result"
    }
   ],
   "source": [
    "K_conductor_s = K_conductor_subs.subs(k_z_sol_subs).subs(kappa_vacuum_sol).subs(kappa_sol) \\\n",
    "    .subs(A1_z == A1_z_re + I * A1_z_im) \\\n",
    "    .subs(A2_z == A2_z_re + I * A2_z_im)\n",
    "\n",
    "K_conductor_s.rhs().variables()"
   ]
  },
  {
   "cell_type": "code",
   "execution_count": 144,
   "metadata": {},
   "outputs": [],
   "source": [
    "#im00"
   ]
  },
  {
   "cell_type": "code",
   "execution_count": 145,
   "metadata": {},
   "outputs": [],
   "source": [
    "K_vacuum_s_A_re11_im00 = K_vacuum_s.subs(A1_z_re==1,A1_z_im==0).subs(A2_z_re==1,A2_z_im==0)"
   ]
  },
  {
   "cell_type": "code",
   "execution_count": 146,
   "metadata": {},
   "outputs": [],
   "source": [
    "K_vacuum_s_A_re01_im00 = K_vacuum_s.subs(A1_z_re==0,A1_z_im==0).subs(A2_z_re==1,A2_z_im==0)"
   ]
  },
  {
   "cell_type": "code",
   "execution_count": 147,
   "metadata": {},
   "outputs": [],
   "source": [
    "K_vacuum_s_A_re10_im00 = K_vacuum_s.subs(A1_z_re==1,A1_z_im==0).subs(A2_z_re==0,A2_z_im==0)"
   ]
  },
  {
   "cell_type": "code",
   "execution_count": 148,
   "metadata": {},
   "outputs": [],
   "source": [
    "#re00"
   ]
  },
  {
   "cell_type": "code",
   "execution_count": 149,
   "metadata": {},
   "outputs": [],
   "source": [
    "K_vacuum_s_A_re00_im11 = K_vacuum_s.subs(A1_z_re==0,A1_z_im==1).subs(A2_z_re==0,A2_z_im==1)"
   ]
  },
  {
   "cell_type": "code",
   "execution_count": 150,
   "metadata": {},
   "outputs": [],
   "source": [
    "K_vacuum_s_A_re00_im10 = K_vacuum_s.subs(A1_z_re==0,A1_z_im==1).subs(A2_z_re==0,A2_z_im==0)"
   ]
  },
  {
   "cell_type": "code",
   "execution_count": 151,
   "metadata": {},
   "outputs": [],
   "source": [
    "K_vacuum_s_A_re00_im01 = K_vacuum_s.subs(A1_z_re==0,A1_z_im==0).subs(A2_z_re==0,A2_z_im==1)"
   ]
  },
  {
   "cell_type": "code",
   "execution_count": 152,
   "metadata": {},
   "outputs": [],
   "source": [
    "#re11"
   ]
  },
  {
   "cell_type": "code",
   "execution_count": 153,
   "metadata": {},
   "outputs": [],
   "source": [
    "K_vacuum_s_A_re11_im11 = K_vacuum_s.subs(A1_z_re==1,A1_z_im==1).subs(A2_z_re==1,A2_z_im==1)"
   ]
  },
  {
   "cell_type": "code",
   "execution_count": 154,
   "metadata": {},
   "outputs": [],
   "source": [
    "K_vacuum_s_A_re11_im10 = K_vacuum_s.subs(A1_z_re==1,A1_z_im==1).subs(A2_z_re==1,A2_z_im==0)"
   ]
  },
  {
   "cell_type": "code",
   "execution_count": 155,
   "metadata": {},
   "outputs": [],
   "source": [
    "K_vacuum_s_A_re11_im01 = K_vacuum_s.subs(A1_z_re==1,A1_z_im==0).subs(A2_z_re==1,A2_z_im==1)"
   ]
  },
  {
   "cell_type": "code",
   "execution_count": null,
   "metadata": {},
   "outputs": [],
   "source": []
  },
  {
   "cell_type": "code",
   "execution_count": 156,
   "metadata": {},
   "outputs": [],
   "source": [
    "#im00"
   ]
  },
  {
   "cell_type": "code",
   "execution_count": 157,
   "metadata": {},
   "outputs": [],
   "source": [
    "K_conductor_s_A_re11_im00=K_conductor_s.subs(A1_z_re==1,A1_z_im==0,A2_z_re==1,A2_z_im==0)"
   ]
  },
  {
   "cell_type": "code",
   "execution_count": 158,
   "metadata": {},
   "outputs": [],
   "source": [
    "K_conductor_s_A_re01_im00=K_conductor_s.subs(A1_z_re==0,A1_z_im==0,A2_z_re==1,A2_z_im==0)"
   ]
  },
  {
   "cell_type": "code",
   "execution_count": 159,
   "metadata": {},
   "outputs": [],
   "source": [
    "K_conductor_s_A_re10_im00=K_conductor_s.subs(A1_z_re==1,A1_z_im==0,A2_z_re==0,A2_z_im==0)"
   ]
  },
  {
   "cell_type": "code",
   "execution_count": 160,
   "metadata": {},
   "outputs": [],
   "source": [
    "#im11"
   ]
  },
  {
   "cell_type": "code",
   "execution_count": 161,
   "metadata": {},
   "outputs": [],
   "source": [
    "K_conductor_s_A_re00_im11=K_conductor_s.subs(A1_z_re==0,A1_z_im==1,A2_z_re==0,A2_z_im==1)"
   ]
  },
  {
   "cell_type": "code",
   "execution_count": 162,
   "metadata": {},
   "outputs": [],
   "source": [
    "K_conductor_s_A_re10_im11=K_conductor_s.subs(A1_z_re==1,A1_z_im==1,A2_z_re==0,A2_z_im==1)"
   ]
  },
  {
   "cell_type": "code",
   "execution_count": 163,
   "metadata": {},
   "outputs": [],
   "source": [
    "K_conductor_s_A_re01_im11=K_conductor_s.subs(A1_z_re==0,A1_z_im==1,A2_z_re==1,A2_z_im==1)"
   ]
  },
  {
   "cell_type": "code",
   "execution_count": 164,
   "metadata": {},
   "outputs": [],
   "source": [
    "#re11"
   ]
  },
  {
   "cell_type": "code",
   "execution_count": 165,
   "metadata": {},
   "outputs": [],
   "source": [
    "K_conductor_s_A_re11_im11=K_conductor_s.subs(A1_z_re==1,A1_z_im==1,A2_z_re==1,A2_z_im==1)"
   ]
  },
  {
   "cell_type": "code",
   "execution_count": 166,
   "metadata": {},
   "outputs": [],
   "source": [
    "K_conductor_s_A_re11_im10=K_conductor_s.subs(A1_z_re==1,A1_z_im==1,A2_z_re==1,A2_z_im==0)"
   ]
  },
  {
   "cell_type": "code",
   "execution_count": 167,
   "metadata": {},
   "outputs": [],
   "source": [
    "K_conductor_s_A_re11_im01=K_conductor_s.subs(A1_z_re==1,A1_z_im==0,A2_z_re==1,A2_z_im==1)"
   ]
  },
  {
   "cell_type": "code",
   "execution_count": null,
   "metadata": {},
   "outputs": [],
   "source": []
  },
  {
   "cell_type": "code",
   "execution_count": 511,
   "metadata": {},
   "outputs": [
    {
     "data": {
      "text/plain": [
       "[mu == 1, c == 29979245800, sigma == 25, epsilon == 5, a == 0.150000000000000]"
      ]
     },
     "execution_count": 511,
     "metadata": {},
     "output_type": "execute_result"
    }
   ],
   "source": [
    "# sgs\n",
    "A = 0.15\n",
    "kappa_A_max = 13*pi.n()/2\n",
    "s_A_max = 20\n",
    "epsilon_d = 5\n",
    "\n",
    "lambda_d = 632*100*10^-9\n",
    "# 632 nm\n",
    "\n",
    "lambda_d = 632*100*10^-6\n",
    "# 0.632 mm\n",
    "\n",
    "lambda_d = 632*100*10^-4\n",
    "# 63.2 mm\n",
    "# 6.32 sm\n",
    "\n",
    "c_value  = [ c == 299792458 * 100]\n",
    "omega_value = [ omega  == ((2*pi * c)/ lambda_d).subs (c_value) ]\n",
    "digit_values_init = [mu == 1, c == 299792458 * 100, sigma == 25, epsilon == epsilon_d, a == A]\n",
    "digit_values = digit_values_init\n",
    "digit_values"
   ]
  },
  {
   "cell_type": "code",
   "execution_count": 512,
   "metadata": {},
   "outputs": [
    {
     "data": {
      "text/plain": [
       "(A1_z_im, A1_z_re, A2_z_im, A2_z_re, omega)"
      ]
     },
     "execution_count": 512,
     "metadata": {},
     "output_type": "execute_result"
    }
   ],
   "source": [
    "K_vacuum_s_d = K_vacuum_s.subs(digit_values)\n",
    "K_vacuum_s_d.rhs().variables()"
   ]
  },
  {
   "cell_type": "code",
   "execution_count": 513,
   "metadata": {},
   "outputs": [
    {
     "data": {
      "text/plain": [
       "(A1_z_im, A1_z_re, A2_z_im, A2_z_re, omega)"
      ]
     },
     "execution_count": 513,
     "metadata": {},
     "output_type": "execute_result"
    }
   ],
   "source": [
    "K_conductor_s_d = K_conductor_s.subs(digit_values)\n",
    "K_conductor_s_d.rhs().variables()"
   ]
  },
  {
   "cell_type": "code",
   "execution_count": 514,
   "metadata": {},
   "outputs": [],
   "source": [
    "#re11"
   ]
  },
  {
   "cell_type": "code",
   "execution_count": 515,
   "metadata": {},
   "outputs": [
    {
     "data": {
      "text/plain": [
       "K_vacuum == 0"
      ]
     },
     "execution_count": 515,
     "metadata": {},
     "output_type": "execute_result"
    }
   ],
   "source": [
    "K_vacuum_s_A_re11_im00_d = K_vacuum_s_A_re11_im00.subs(digit_values)\n",
    "K_vacuum_s_A_re11_im00_d"
   ]
  },
  {
   "cell_type": "code",
   "execution_count": 516,
   "metadata": {},
   "outputs": [
    {
     "data": {
      "text/plain": [
       "K_vacuum == sqrt(1/299792458*I*pi*((8993773740000*I - 11991698320000)*pi*omega + omega^2)*omega^3/((35950207149472705600000000*I + 26962655362104529200000000)*pi^2*omega^2 - omega^4) + 1/898755178736817640000*omega^2)"
      ]
     },
     "execution_count": 516,
     "metadata": {},
     "output_type": "execute_result"
    }
   ],
   "source": [
    "K_vacuum_s_A_re11_im10_d = K_vacuum_s_A_re11_im10.subs(digit_values)\n",
    "K_vacuum_s_A_re11_im10_d"
   ]
  },
  {
   "cell_type": "code",
   "execution_count": 517,
   "metadata": {},
   "outputs": [
    {
     "data": {
      "text/plain": [
       "K_vacuum == sqrt(1/299792458*I*pi*((8993773740000*I - 11991698320000)*pi*omega + omega^2)*omega^3/((35950207149472705600000000*I + 26962655362104529200000000)*pi^2*omega^2 - omega^4) + 1/898755178736817640000*omega^2)"
      ]
     },
     "execution_count": 517,
     "metadata": {},
     "output_type": "execute_result"
    }
   ],
   "source": [
    "K_vacuum_s_A_re11_im01_d = K_vacuum_s_A_re11_im01.subs(digit_values)\n",
    "K_vacuum_s_A_re11_im01_d"
   ]
  },
  {
   "cell_type": "code",
   "execution_count": 518,
   "metadata": {},
   "outputs": [],
   "source": [
    "#re00"
   ]
  },
  {
   "cell_type": "code",
   "execution_count": 519,
   "metadata": {},
   "outputs": [
    {
     "data": {
      "text/plain": [
       "K_vacuum == 0"
      ]
     },
     "execution_count": 519,
     "metadata": {},
     "output_type": "execute_result"
    }
   ],
   "source": [
    "K_vacuum_s_A_re00_im11_d = K_vacuum_s_A_re00_im11.subs(digit_values)\n",
    "K_vacuum_s_A_re00_im11_d"
   ]
  },
  {
   "cell_type": "code",
   "execution_count": 520,
   "metadata": {},
   "outputs": [
    {
     "data": {
      "text/plain": [
       "K_vacuum == sqrt(-1/299792458*I*pi*(-2997924580000*I*pi*omega + omega^2)*omega^3/(8987551787368176400000000*pi^2*omega^2 + omega^4) + 1/898755178736817640000*omega^2)"
      ]
     },
     "execution_count": 520,
     "metadata": {},
     "output_type": "execute_result"
    }
   ],
   "source": [
    "K_vacuum_s_A_re00_im10_d = K_vacuum_s_A_re00_im10.subs(digit_values)\n",
    "K_vacuum_s_A_re00_im10_d"
   ]
  },
  {
   "cell_type": "code",
   "execution_count": 521,
   "metadata": {},
   "outputs": [
    {
     "data": {
      "text/plain": [
       "K_vacuum == sqrt(-1/299792458*I*pi*(-2997924580000*I*pi*omega + omega^2)*omega^3/(8987551787368176400000000*pi^2*omega^2 + omega^4) + 1/898755178736817640000*omega^2)"
      ]
     },
     "execution_count": 521,
     "metadata": {},
     "output_type": "execute_result"
    }
   ],
   "source": [
    "K_vacuum_s_A_re00_im01_d = K_vacuum_s_A_re00_im01.subs(digit_values)\n",
    "K_vacuum_s_A_re00_im01_d"
   ]
  },
  {
   "cell_type": "code",
   "execution_count": 522,
   "metadata": {},
   "outputs": [],
   "source": [
    "#re11"
   ]
  },
  {
   "cell_type": "code",
   "execution_count": 523,
   "metadata": {},
   "outputs": [
    {
     "data": {
      "text/plain": [
       "K_vacuum == 0"
      ]
     },
     "execution_count": 523,
     "metadata": {},
     "output_type": "execute_result"
    }
   ],
   "source": [
    "K_vacuum_s_A_re11_im11_d = K_vacuum_s_A_re11_im11.subs(digit_values)\n",
    "K_vacuum_s_A_re11_im11_d"
   ]
  },
  {
   "cell_type": "code",
   "execution_count": 524,
   "metadata": {},
   "outputs": [
    {
     "data": {
      "text/plain": [
       "K_vacuum == sqrt(1/299792458*I*pi*((8993773740000*I - 11991698320000)*pi*omega + omega^2)*omega^3/((35950207149472705600000000*I + 26962655362104529200000000)*pi^2*omega^2 - omega^4) + 1/898755178736817640000*omega^2)"
      ]
     },
     "execution_count": 524,
     "metadata": {},
     "output_type": "execute_result"
    }
   ],
   "source": [
    "K_vacuum_s_A_re11_im10_d = K_vacuum_s_A_re11_im10.subs(digit_values)\n",
    "K_vacuum_s_A_re11_im10_d"
   ]
  },
  {
   "cell_type": "code",
   "execution_count": 525,
   "metadata": {},
   "outputs": [
    {
     "data": {
      "text/plain": [
       "K_vacuum == sqrt(1/299792458*I*pi*((8993773740000*I - 11991698320000)*pi*omega + omega^2)*omega^3/((35950207149472705600000000*I + 26962655362104529200000000)*pi^2*omega^2 - omega^4) + 1/898755178736817640000*omega^2)"
      ]
     },
     "execution_count": 525,
     "metadata": {},
     "output_type": "execute_result"
    }
   ],
   "source": [
    "K_vacuum_s_A_re11_im01_d = K_vacuum_s_A_re11_im01.subs(digit_values)\n",
    "K_vacuum_s_A_re11_im01_d"
   ]
  },
  {
   "cell_type": "code",
   "execution_count": null,
   "metadata": {},
   "outputs": [],
   "source": []
  },
  {
   "cell_type": "code",
   "execution_count": 526,
   "metadata": {},
   "outputs": [],
   "source": [
    "#re11"
   ]
  },
  {
   "cell_type": "code",
   "execution_count": 527,
   "metadata": {},
   "outputs": [
    {
     "data": {
      "text/plain": [
       "K_conductor == sqrt(1/299792458*I*pi*omega - 1/898755178736817640000*omega^2)"
      ]
     },
     "execution_count": 527,
     "metadata": {},
     "output_type": "execute_result"
    }
   ],
   "source": [
    "K_conductor_s_A_re11_im00_d = K_conductor_s_A_re11_im00.subs(digit_values)\n",
    "K_conductor_s_A_re11_im00_d"
   ]
  },
  {
   "cell_type": "code",
   "execution_count": 528,
   "metadata": {},
   "outputs": [
    {
     "data": {
      "text/plain": [
       "K_conductor == sqrt(1/299792458*I*pi*((8993773740000*I - 11991698320000)*pi*omega + omega^2)*omega^3/((35950207149472705600000000*I + 26962655362104529200000000)*pi^2*omega^2 - omega^4) + 1/299792458*I*pi*omega)"
      ]
     },
     "execution_count": 528,
     "metadata": {},
     "output_type": "execute_result"
    }
   ],
   "source": [
    "K_conductor_s_A_re11_im10_d = K_conductor_s_A_re11_im10.subs(digit_values)\n",
    "K_conductor_s_A_re11_im10_d"
   ]
  },
  {
   "cell_type": "code",
   "execution_count": 529,
   "metadata": {},
   "outputs": [
    {
     "data": {
      "text/plain": [
       "K_conductor == sqrt(1/299792458*I*pi*((8993773740000*I - 11991698320000)*pi*omega + omega^2)*omega^3/((35950207149472705600000000*I + 26962655362104529200000000)*pi^2*omega^2 - omega^4) + 1/299792458*I*pi*omega)"
      ]
     },
     "execution_count": 529,
     "metadata": {},
     "output_type": "execute_result"
    }
   ],
   "source": [
    "K_conductor_s_A_re11_im01_d = K_conductor_s_A_re11_im01.subs(digit_values)\n",
    "K_conductor_s_A_re11_im01_d"
   ]
  },
  {
   "cell_type": "code",
   "execution_count": 530,
   "metadata": {},
   "outputs": [],
   "source": [
    "#im11"
   ]
  },
  {
   "cell_type": "code",
   "execution_count": 531,
   "metadata": {},
   "outputs": [
    {
     "data": {
      "text/plain": [
       "K_conductor == sqrt(1/299792458*I*pi*omega - 1/898755178736817640000*omega^2)"
      ]
     },
     "execution_count": 531,
     "metadata": {},
     "output_type": "execute_result"
    }
   ],
   "source": [
    "K_conductor_s_A_re00_im11_d = K_conductor_s_A_re00_im11.subs(digit_values)\n",
    "K_conductor_s_A_re00_im11_d"
   ]
  },
  {
   "cell_type": "code",
   "execution_count": 532,
   "metadata": {},
   "outputs": [
    {
     "data": {
      "text/plain": [
       "K_conductor == sqrt(1/299792458*I*pi*(-(8993773740000*I + 11991698320000)*pi*omega - omega^2)*omega^3/((35950207149472705600000000*I - 26962655362104529200000000)*pi^2*omega^2 + omega^4) + 1/299792458*I*pi*omega)"
      ]
     },
     "execution_count": 532,
     "metadata": {},
     "output_type": "execute_result"
    }
   ],
   "source": [
    "K_conductor_s_A_re10_im11_d = K_conductor_s_A_re10_im11.subs(digit_values)\n",
    "K_conductor_s_A_re10_im11_d"
   ]
  },
  {
   "cell_type": "code",
   "execution_count": 533,
   "metadata": {},
   "outputs": [
    {
     "data": {
      "text/plain": [
       "K_conductor == sqrt(1/299792458*I*pi*(-(8993773740000*I + 11991698320000)*pi*omega - omega^2)*omega^3/((35950207149472705600000000*I - 26962655362104529200000000)*pi^2*omega^2 + omega^4) + 1/299792458*I*pi*omega)"
      ]
     },
     "execution_count": 533,
     "metadata": {},
     "output_type": "execute_result"
    }
   ],
   "source": [
    "K_conductor_s_A_re01_im11_d = K_conductor_s_A_re01_im11.subs(digit_values)\n",
    "K_conductor_s_A_re01_im11_d"
   ]
  },
  {
   "cell_type": "code",
   "execution_count": 534,
   "metadata": {},
   "outputs": [],
   "source": [
    "#im00"
   ]
  },
  {
   "cell_type": "code",
   "execution_count": 535,
   "metadata": {},
   "outputs": [
    {
     "data": {
      "text/plain": [
       "K_conductor == sqrt(1/299792458*I*pi*(2997924580000*I*pi*omega - omega^2)*omega^3/(8987551787368176400000000*pi^2*omega^2 + omega^4) + 1/299792458*I*pi*omega)"
      ]
     },
     "execution_count": 535,
     "metadata": {},
     "output_type": "execute_result"
    }
   ],
   "source": [
    "K_conductor_s_A_re10_im00_d = K_conductor_s_A_re10_im00.subs(digit_values)\n",
    "K_conductor_s_A_re10_im00_d"
   ]
  },
  {
   "cell_type": "code",
   "execution_count": 536,
   "metadata": {},
   "outputs": [
    {
     "data": {
      "text/plain": [
       "K_conductor == sqrt(1/299792458*I*pi*(2997924580000*I*pi*omega - omega^2)*omega^3/(8987551787368176400000000*pi^2*omega^2 + omega^4) + 1/299792458*I*pi*omega)"
      ]
     },
     "execution_count": 536,
     "metadata": {},
     "output_type": "execute_result"
    }
   ],
   "source": [
    "K_conductor_s_A_re01_im00_d = K_conductor_s_A_re01_im00.subs(digit_values)\n",
    "K_conductor_s_A_re01_im00_d"
   ]
  },
  {
   "cell_type": "code",
   "execution_count": 537,
   "metadata": {},
   "outputs": [
    {
     "data": {
      "text/plain": [
       "K_conductor == sqrt(1/299792458*I*pi*(2997924580000*I*pi*omega - omega^2)*omega^3/(8987551787368176400000000*pi^2*omega^2 + omega^4) + 1/299792458*I*pi*omega)"
      ]
     },
     "execution_count": 537,
     "metadata": {},
     "output_type": "execute_result"
    }
   ],
   "source": [
    "K_conductor_s_A_re10_im00_d = K_conductor_s_A_re10_im00.subs(digit_values)\n",
    "K_conductor_s_A_re10_im00_d"
   ]
  },
  {
   "cell_type": "code",
   "execution_count": 538,
   "metadata": {},
   "outputs": [],
   "source": [
    "#re11"
   ]
  },
  {
   "cell_type": "code",
   "execution_count": 539,
   "metadata": {},
   "outputs": [
    {
     "data": {
      "text/plain": [
       "K_conductor == sqrt(1/299792458*I*pi*omega - 1/898755178736817640000*omega^2)"
      ]
     },
     "execution_count": 539,
     "metadata": {},
     "output_type": "execute_result"
    }
   ],
   "source": [
    "K_conductor_s_A_re11_im11_d = K_conductor_s_A_re11_im11.subs(digit_values)\n",
    "K_conductor_s_A_re11_im11_d"
   ]
  },
  {
   "cell_type": "code",
   "execution_count": null,
   "metadata": {},
   "outputs": [],
   "source": []
  },
  {
   "cell_type": "code",
   "execution_count": 540,
   "metadata": {},
   "outputs": [
    {
     "data": {
      "image/png": "[encoded data removed]",
      "text/plain": [
       "Graphics object consisting of 1 graphics primitive"
      ]
     },
     "execution_count": 540,
     "metadata": {},
     "output_type": "execute_result"
    }
   ],
   "source": [
    "plot(K_vacuum_s_A_re11_im10_d.rhs().real()/omega/pi, (omega, 0, 1e13))"
   ]
  },
  {
   "cell_type": "code",
   "execution_count": 541,
   "metadata": {},
   "outputs": [
    {
     "data": {
      "image/png": "[encoded data removed]",
      "text/plain": [
       "Graphics object consisting of 1 graphics primitive"
      ]
     },
     "execution_count": 541,
     "metadata": {},
     "output_type": "execute_result"
    }
   ],
   "source": [
    "plot(K_vacuum_s_A_re11_im10_d.rhs().imag()/omega/pi, (omega, 0, 1e13))"
   ]
  },
  {
   "cell_type": "code",
   "execution_count": 542,
   "metadata": {},
   "outputs": [
    {
     "data": {
      "image/png": "[encoded data removed]",
      "text/plain": [
       "Graphics object consisting of 1 graphics primitive"
      ]
     },
     "execution_count": 542,
     "metadata": {},
     "output_type": "execute_result"
    }
   ],
   "source": [
    "plot(K_vacuum_s_A_re11_im10_d.rhs().abs()/omega/pi, (omega, 0, 1e13))"
   ]
  },
  {
   "cell_type": "code",
   "execution_count": null,
   "metadata": {},
   "outputs": [],
   "source": []
  },
  {
   "cell_type": "code",
   "execution_count": 543,
   "metadata": {},
   "outputs": [
    {
     "data": {
      "image/png": "[encoded data removed]",
      "text/plain": [
       "Graphics object consisting of 1 graphics primitive"
      ]
     },
     "execution_count": 543,
     "metadata": {},
     "output_type": "execute_result"
    }
   ],
   "source": [
    "plot(K_vacuum_s_A_re11_im11_d.rhs().abs()/omega/pi, (omega, 0, 1e13))"
   ]
  },
  {
   "cell_type": "code",
   "execution_count": 544,
   "metadata": {},
   "outputs": [
    {
     "data": {
      "image/png": "[encoded data removed]",
      "text/plain": [
       "Graphics object consisting of 1 graphics primitive"
      ]
     },
     "execution_count": 544,
     "metadata": {},
     "output_type": "execute_result"
    }
   ],
   "source": [
    "plot(K_vacuum_s_A_re00_im11_d.rhs().abs()/omega/pi, (omega, 0, 1e13))"
   ]
  },
  {
   "cell_type": "code",
   "execution_count": 545,
   "metadata": {},
   "outputs": [
    {
     "name": "stdout",
     "output_type": "stream",
     "text": [
      "[mu == 1, c == 29979245800, sigma == 25, epsilon == 5, a == 0.150000000000000, omega == 749481145000/79*pi]\n"
     ]
    }
   ],
   "source": [
    "digit_values = digit_values_init\n",
    "digit_values += omega_value\n",
    "#digit_values += A1_z_subs\n",
    "print (digit_values)"
   ]
  },
  {
   "cell_type": "code",
   "execution_count": 546,
   "metadata": {},
   "outputs": [
    {
     "data": {
      "text/plain": [
       "[k_y == 0]"
      ]
     },
     "execution_count": 546,
     "metadata": {},
     "output_type": "execute_result"
    }
   ],
   "source": [
    "# отсутсвие изменения поля вдоль оси y\n",
    "k_y0_subs = [k_y == 0]\n",
    "\n",
    "#            A1_y_im == 0, \\\n",
    "#            A1_y_re == 0, \\\n",
    "#            A2_y_im == 0, \\\n",
    "#            A2_y_re == 0]\n",
    "k_y0_subs"
   ]
  },
  {
   "cell_type": "code",
   "execution_count": 547,
   "metadata": {},
   "outputs": [],
   "source": [
    "K_vacuum_subs_2 = K_vacuum_subs.subs(kappa_vacuum_sol)"
   ]
  },
  {
   "cell_type": "code",
   "execution_count": 548,
   "metadata": {},
   "outputs": [],
   "source": [
    "K_conductor_subs_2 = K_conductor_subs.subs(kappa_sol)"
   ]
  },
  {
   "cell_type": "code",
   "execution_count": 549,
   "metadata": {},
   "outputs": [],
   "source": [
    "K_vacuum_subs_3 = K_vacuum_subs.subs(kappa_vacuum_sol)"
   ]
  },
  {
   "cell_type": "code",
   "execution_count": 550,
   "metadata": {},
   "outputs": [],
   "source": [
    "K_conductor_subs_3 = K_conductor_subs.subs(kappa_sol)"
   ]
  },
  {
   "cell_type": "code",
   "execution_count": 551,
   "metadata": {},
   "outputs": [],
   "source": [
    "K_vacuum_subs_4 = K_vacuum_subs_3.subs(k_z = kz + I * sz)"
   ]
  },
  {
   "cell_type": "code",
   "execution_count": 552,
   "metadata": {},
   "outputs": [],
   "source": [
    "K_conductor_subs_4 = K_conductor_subs_3.subs(k_z = kz + I * sz)"
   ]
  },
  {
   "cell_type": "code",
   "execution_count": 553,
   "metadata": {},
   "outputs": [],
   "source": [
    "# граничные условия на границе идеального проводника и вакуума внутри резонатора\n",
    "# тангенциальная компонента электрического поля"
   ]
  },
  {
   "cell_type": "code",
   "execution_count": 554,
   "metadata": {},
   "outputs": [],
   "source": [
    "eqEz_0_subs = eqEz_0.subs(K_vacuum_subs_3)"
   ]
  },
  {
   "cell_type": "code",
   "execution_count": 555,
   "metadata": {},
   "outputs": [],
   "source": [
    "eqEz_0_re_subs = eqEz_0_re.subs(K_vacuum_subs_3)\n",
    "eqEz_0_im_subs = eqEz_0_im.subs(K_vacuum_subs_3)"
   ]
  },
  {
   "cell_type": "code",
   "execution_count": 556,
   "metadata": {},
   "outputs": [],
   "source": [
    "eqEy_0_re_subs = eqEy_0_re.subs(K_vacuum_subs_3)\n",
    "eqEy_0_im_subs = eqEy_0_im.subs(K_vacuum_subs_3)"
   ]
  },
  {
   "cell_type": "code",
   "execution_count": 557,
   "metadata": {},
   "outputs": [
    {
     "data": {
      "text/plain": [
       "(A1_z_im, A1_z_re, A2_z_im, A2_z_re, a, c, k_z, omega)"
      ]
     },
     "execution_count": 557,
     "metadata": {},
     "output_type": "execute_result"
    }
   ],
   "source": [
    "eqEz_0_re_subs.variables()"
   ]
  },
  {
   "cell_type": "code",
   "execution_count": 558,
   "metadata": {},
   "outputs": [],
   "source": [
    "# тангенциальная компонента напряженности магнитного поля\n",
    "# на границе вакуума внутри резонатора и проводящего металла с потерями"
   ]
  },
  {
   "cell_type": "code",
   "execution_count": 559,
   "metadata": {},
   "outputs": [],
   "source": [
    "eqHy_a_subs = eqHy_a.subs(K_vacuum_subs_3).subs(K_conductor_subs_3)"
   ]
  },
  {
   "cell_type": "code",
   "execution_count": 560,
   "metadata": {},
   "outputs": [],
   "source": [
    "eqHy_a_re_subs = eqHy_a_re.subs(K_vacuum_subs_3).subs(K_conductor_subs_3)\n",
    "eqHy_a_im_subs = eqHy_a_im.subs(K_vacuum_subs_3).subs(K_conductor_subs_3)"
   ]
  },
  {
   "cell_type": "code",
   "execution_count": 561,
   "metadata": {},
   "outputs": [],
   "source": [
    "eqHz_a_re_subs = eqHz_a_re.subs(K_vacuum_subs_3).subs(K_conductor_subs_3)\n",
    "eqHz_a_im_subs = eqHz_a_im.subs(K_vacuum_subs_3).subs(K_conductor_subs_3)"
   ]
  },
  {
   "cell_type": "code",
   "execution_count": 562,
   "metadata": {},
   "outputs": [],
   "source": [
    "# граничные условия на границе идеального проводника и вакуума внутри резонатора\n",
    "# тангенциальная компонента электрического поля"
   ]
  },
  {
   "cell_type": "code",
   "execution_count": 563,
   "metadata": {},
   "outputs": [],
   "source": [
    "eqEz_a_subs = eqEz_a"
   ]
  },
  {
   "cell_type": "code",
   "execution_count": 564,
   "metadata": {},
   "outputs": [],
   "source": [
    "eqEz_a_re_subs = eqEz_a_re\n",
    "eqEz_a_im_subs = eqEz_a_im"
   ]
  },
  {
   "cell_type": "code",
   "execution_count": 565,
   "metadata": {},
   "outputs": [],
   "source": [
    "eqEy_a_re_subs = eqEy_a_re\n",
    "eqEy_a_im_subs = eqEy_a_im"
   ]
  },
  {
   "cell_type": "code",
   "execution_count": 566,
   "metadata": {},
   "outputs": [],
   "source": [
    "# нормальная компонента индукции магнитного поля\n",
    "# на границе вакуума внутри резонатора и проводящего металла с потерями"
   ]
  },
  {
   "cell_type": "code",
   "execution_count": 567,
   "metadata": {},
   "outputs": [],
   "source": [
    "eqBx_a_re_subs = eqBx_a_re.subs(kappa_vacuum_sol)\n",
    "eqBx_a_im_subs = eqBx_a_im.subs(kappa_vacuum_sol)"
   ]
  },
  {
   "cell_type": "code",
   "execution_count": 568,
   "metadata": {},
   "outputs": [],
   "source": [
    "# нормальная компонента электрического смещения\n",
    "# на границе вакуума внутри резонатора и проводящего металла с потерями"
   ]
  },
  {
   "cell_type": "code",
   "execution_count": 569,
   "metadata": {},
   "outputs": [],
   "source": [
    "eqDx_a_re_subs = eqDx_a_re.subs(kappa_vacuum_sol)\n",
    "eqDx_a_im_subs = eqDx_a_im.subs(kappa_vacuum_sol)"
   ]
  },
  {
   "cell_type": "code",
   "execution_count": 570,
   "metadata": {},
   "outputs": [
    {
     "name": "stdout",
     "output_type": "stream",
     "text": [
      "A2_z_re*cos(-a*real_part(K_vacuum))*e^(a*imag_part(K_vacuum)) + A1_z_re*cos(a*real_part(K_vacuum))*e^(-a*imag_part(K_vacuum)) - A1_z_im*e^(-a*imag_part(K_vacuum))*sin(a*real_part(K_vacuum)) - A2_z_im*e^(a*imag_part(K_vacuum))*sin(-a*real_part(K_vacuum)) == 0\n",
      "A2_z_im*cos(-a*real_part(K_vacuum))*e^(a*imag_part(K_vacuum)) + A1_z_im*cos(a*real_part(K_vacuum))*e^(-a*imag_part(K_vacuum)) + A1_z_re*e^(-a*imag_part(K_vacuum))*sin(a*real_part(K_vacuum)) + A2_z_re*e^(a*imag_part(K_vacuum))*sin(-a*real_part(K_vacuum)) == 0\n",
      "A2_y_re*cos(-a*real_part(K_vacuum))*e^(a*imag_part(K_vacuum)) + A1_y_re*cos(a*real_part(K_vacuum))*e^(-a*imag_part(K_vacuum)) - A1_y_im*e^(-a*imag_part(K_vacuum))*sin(a*real_part(K_vacuum)) - A2_y_im*e^(a*imag_part(K_vacuum))*sin(-a*real_part(K_vacuum)) == 0\n",
      "A2_y_im*cos(-a*real_part(K_vacuum))*e^(a*imag_part(K_vacuum)) + A1_y_im*cos(a*real_part(K_vacuum))*e^(-a*imag_part(K_vacuum)) + A1_y_re*e^(-a*imag_part(K_vacuum))*sin(a*real_part(K_vacuum)) + A2_y_re*e^(a*imag_part(K_vacuum))*sin(-a*real_part(K_vacuum)) == 0\n",
      "B1_z_im*c*imag_part(K_conductor)/(mu*omega) - B1_x_im*c*imag_part(k_z)/(mu*omega) - B1_z_re*c*real_part(K_conductor)/(mu*omega) + B1_x_re*c*real_part(k_z)/(mu*omega) == -A1_z_im*c*imag_part(K_vacuum)/omega + A2_z_im*c*imag_part(K_vacuum)/omega - A1_x_im*c*imag_part(k_z)/omega - A2_x_im*c*imag_part(k_z)/omega + A1_z_re*c*real_part(K_vacuum)/omega - A2_z_re*c*real_part(K_vacuum)/omega + A1_x_re*c*real_part(k_z)/omega + A2_x_re*c*real_part(k_z)/omega\n",
      "-B1_z_re*c*imag_part(K_conductor)/(mu*omega) + B1_x_re*c*imag_part(k_z)/(mu*omega) - B1_z_im*c*real_part(K_conductor)/(mu*omega) + B1_x_im*c*real_part(k_z)/(mu*omega) == A1_z_re*c*imag_part(K_vacuum)/omega - A2_z_re*c*imag_part(K_vacuum)/omega + A1_x_re*c*imag_part(k_z)/omega + A2_x_re*c*imag_part(k_z)/omega + A1_z_im*c*real_part(K_vacuum)/omega - A2_z_im*c*real_part(K_vacuum)/omega + A1_x_im*c*real_part(k_z)/omega + A2_x_im*c*real_part(k_z)/omega\n",
      "-B1_y_im*c*imag_part(K_conductor)/(mu*omega) + B1_x_im*c*imag_part(k_y)/(mu*omega) + B1_y_re*c*real_part(K_conductor)/(mu*omega) - B1_x_re*c*real_part(k_y)/(mu*omega) == A1_y_im*c*imag_part(K_vacuum)/omega - A2_y_im*c*imag_part(K_vacuum)/omega + A1_x_im*c*imag_part(k_y)/omega + A2_x_im*c*imag_part(k_y)/omega - A1_y_re*c*real_part(K_vacuum)/omega + A2_y_re*c*real_part(K_vacuum)/omega - A1_x_re*c*real_part(k_y)/omega - A2_x_re*c*real_part(k_y)/omega\n",
      "B1_y_re*c*imag_part(K_conductor)/(mu*omega) - B1_x_re*c*imag_part(k_y)/(mu*omega) + B1_y_im*c*real_part(K_conductor)/(mu*omega) - B1_x_im*c*real_part(k_y)/(mu*omega) == -A1_y_re*c*imag_part(K_vacuum)/omega + A2_y_re*c*imag_part(K_vacuum)/omega - A1_x_re*c*imag_part(k_y)/omega - A2_x_re*c*imag_part(k_y)/omega - A1_y_im*c*real_part(K_vacuum)/omega + A2_y_im*c*real_part(K_vacuum)/omega - A1_x_im*c*real_part(k_y)/omega - A2_x_im*c*real_part(k_y)/omega\n",
      "B1_z_re == A1_z_re + A2_z_re\n",
      "B1_z_im == A1_z_im + A2_z_im\n",
      "B1_y_re == A1_y_re + A2_y_re\n",
      "B1_y_im == A1_y_im + A2_y_im\n",
      "-B1_z_im*c*imag_part(k_y)/omega + B1_y_im*c*imag_part(k_z)/omega + B1_z_re*c*real_part(k_y)/omega - B1_y_re*c*real_part(k_z)/omega == -A1_z_im*c*imag_part(k_y)/omega - A2_z_im*c*imag_part(k_y)/omega + A1_y_im*c*imag_part(k_z)/omega + A2_y_im*c*imag_part(k_z)/omega + A1_z_re*c*real_part(k_y)/omega + A2_z_re*c*real_part(k_y)/omega - A1_y_re*c*real_part(k_z)/omega - A2_y_re*c*real_part(k_z)/omega\n",
      "B1_z_re*c*imag_part(k_y)/omega - B1_y_re*c*imag_part(k_z)/omega + B1_z_im*c*real_part(k_y)/omega - B1_y_im*c*real_part(k_z)/omega == A1_z_re*c*imag_part(k_y)/omega + A2_z_re*c*imag_part(k_y)/omega - A1_y_re*c*imag_part(k_z)/omega - A2_y_re*c*imag_part(k_z)/omega + A1_z_im*c*real_part(k_y)/omega + A2_z_im*c*real_part(k_y)/omega - A1_y_im*c*real_part(k_z)/omega - A2_y_im*c*real_part(k_z)/omega\n"
     ]
    }
   ],
   "source": [
    "print(eqEz_0_re)\n",
    "print(eqEz_0_im)\n",
    "\n",
    "print(eqEy_0_re)\n",
    "print(eqEy_0_im)\n",
    "\n",
    "print(eqHy_a_re)\n",
    "print(eqHy_a_im)\n",
    "\n",
    "print(eqHz_a_re)\n",
    "print(eqHz_a_im)\n",
    "\n",
    "print(eqEz_a_re)\n",
    "print(eqEz_a_im)\n",
    "\n",
    "print(eqEy_a_re)\n",
    "print(eqEy_a_im)\n",
    "\n",
    "print(eqBx_a_re)\n",
    "print(eqBx_a_im)\n",
    "\n",
    "#print(eqDx_a_re)\n",
    "#print(eqDx_a_im)"
   ]
  },
  {
   "cell_type": "code",
   "execution_count": 571,
   "metadata": {},
   "outputs": [],
   "source": [
    "def GenerateMatrix(equsys, vars):\n",
    "    A=matrix(SR, [[(equ.lhs() - equ.rhs()).coefficient(v) for v in vars] for equ in equsys])\n",
    "    return A"
   ]
  },
  {
   "cell_type": "code",
   "execution_count": 572,
   "metadata": {},
   "outputs": [],
   "source": [
    "def reduceDependedRows(M):\n",
    "    print (\"\")\n",
    "    print (\"M.nrows()\", M.nrows())\n",
    "    print (\"M.ncols()\", M.ncols())\n",
    "    #print (\"M.rank()\", M.rank())\n",
    "\n",
    "    M_pivot_rows = M.pivot_rows()\n",
    "    print (\"M.pivot_rows() =\", M_pivot_rows)\n",
    "\n",
    "    M_rows = M.rows()\n",
    "    for row in M_rows:\n",
    "        print (\"row =\", row)\n",
    "\n",
    "    reduced_list = []\n",
    "    for r in M_pivot_rows:\n",
    "        print (\"M_rows[\", r, \"] =\")\n",
    "        display(Math(latex(M_rows[r])))\n",
    "        reduced_list.append(M_rows[r])\n",
    "\n",
    "    reduced_M = matrix(SR, len(M_pivot_rows), M.ncols(), reduced_list)\n",
    "    #reduced_M_det = reduced_M.det()\n",
    "    \n",
    "    print (\"reduced_M.nrows()\", reduced_M.nrows())\n",
    "    print (\"reduced_M.ncols()\", reduced_M.ncols())\n",
    "    \n",
    "    #print (\"\")\n",
    "    #print(\"reduced_M.det() =\", reduced_M_det)\n",
    "    return reduced_M"
   ]
  },
  {
   "cell_type": "code",
   "execution_count": 573,
   "metadata": {},
   "outputs": [],
   "source": [
    "def reduceRows(M, M_pivot_rows):\n",
    "    print (\"\")\n",
    "    print (\"M.nrows()\", M.nrows())\n",
    "    print (\"M.ncols()\", M.ncols())\n",
    "    #print (\"M.rank()\", M.rank())\n",
    "\n",
    "    print (\"M.pivot_rows() =\", M_pivot_rows)\n",
    "\n",
    "    M_rows = M.rows()\n",
    "    for row in M_rows:\n",
    "        print (\"row =\", row)\n",
    "\n",
    "    reduced_list = []\n",
    "    for r in M_pivot_rows:\n",
    "        print (\"M_rows[\", r, \"] =\")\n",
    "        display(Math(latex(M_rows[r])))\n",
    "        reduced_list.append(M_rows[r])\n",
    "\n",
    "    reduced_M = matrix(SR, len(M_pivot_rows), M.ncols(), reduced_list)\n",
    "    #reduced_M_det = reduced_M.det()\n",
    "    #print (\"\")\n",
    "    #print(\"reduced_M.det() =\", reduced_M_det)\n",
    "    \n",
    "    print (\"reduced_M.nrows()\", reduced_M.nrows())\n",
    "    print (\"reduced_M.ncols()\", reduced_M.ncols())\n",
    "\n",
    "    return reduced_M"
   ]
  },
  {
   "cell_type": "code",
   "execution_count": 574,
   "metadata": {},
   "outputs": [],
   "source": [
    "sys6_subs = [eqEz_0_re_subs.subs(k_z = kz + I * sz), \\\n",
    "             eqEz_0_im_subs.subs(k_z = kz + I * sz), \\\n",
    "             eqHy_a_re_subs.subs(k_z = kz + I * sz), \\\n",
    "             eqHy_a_im_subs.subs(k_z = kz + I * sz), \\\n",
    "             eqEz_a_re_subs.subs(k_z = kz + I * sz), \\\n",
    "             eqEz_a_im_subs.subs(k_z = kz + I * sz), \\\n",
    "            ]\n",
    "\n",
    "# 6 equations"
   ]
  },
  {
   "cell_type": "code",
   "execution_count": 575,
   "metadata": {},
   "outputs": [],
   "source": [
    "sys6 = [eqEz_0_re, eqEz_0_im, \\\n",
    "        eqHy_a_re, eqHy_a_im, \\\n",
    "        eqEz_a_re, eqEz_a_im, \\\n",
    "        ]\n",
    "\n",
    "# 6 equations"
   ]
  },
  {
   "cell_type": "code",
   "execution_count": 576,
   "metadata": {},
   "outputs": [],
   "source": [
    "sys3_subs = [eqEz_0_subs, \\\n",
    "             eqHy_a_subs, \\\n",
    "             eqEz_a_subs, \\\n",
    "            ]\n",
    "\n",
    "# 3 equations"
   ]
  },
  {
   "cell_type": "code",
   "execution_count": 577,
   "metadata": {},
   "outputs": [],
   "source": [
    "sys3_subs = [eqEz_0_subs, \\\n",
    "             eq_Hy_0.subs(kappa_vacuum_sol).subs(kappa_sol), \\\n",
    "             eqEz_a_subs, \\\n",
    "            ]\n",
    "\n",
    "# 3 equations"
   ]
  },
  {
   "cell_type": "code",
   "execution_count": 578,
   "metadata": {},
   "outputs": [],
   "source": [
    "sys3 = [eqEz_0, \\\n",
    "        eqHy_a, \\\n",
    "        eqEz_a, \\\n",
    "       ]\n",
    "\n",
    "# 6 equations"
   ]
  },
  {
   "cell_type": "code",
   "execution_count": 579,
   "metadata": {},
   "outputs": [],
   "source": [
    "vars6 = [A1_z_re, A1_z_im, \\\n",
    "         A2_z_re, A2_z_im, \\\n",
    "         B1_z_re, B1_z_im,\n",
    "]\n",
    "# 6 variables"
   ]
  },
  {
   "cell_type": "code",
   "execution_count": 580,
   "metadata": {},
   "outputs": [],
   "source": [
    "vars3 = [A1_z, \\\n",
    "         A2_z, \\\n",
    "         B1_z,\n",
    "]\n",
    "# 3 variables"
   ]
  },
  {
   "cell_type": "code",
   "execution_count": 581,
   "metadata": {},
   "outputs": [],
   "source": [
    "M6_subs = GenerateMatrix(sys6_subs, vars6)"
   ]
  },
  {
   "cell_type": "code",
   "execution_count": 582,
   "metadata": {},
   "outputs": [],
   "source": [
    "M6 = GenerateMatrix(sys6, vars6)"
   ]
  },
  {
   "cell_type": "code",
   "execution_count": 583,
   "metadata": {},
   "outputs": [],
   "source": [
    "M3_subs = GenerateMatrix(sys3_subs, vars3)"
   ]
  },
  {
   "cell_type": "code",
   "execution_count": 584,
   "metadata": {},
   "outputs": [],
   "source": [
    "M3 = GenerateMatrix(sys3, vars3)"
   ]
  },
  {
   "cell_type": "code",
   "execution_count": 585,
   "metadata": {},
   "outputs": [
    {
     "data": {
      "text/plain": [
       "(6, 6)"
      ]
     },
     "execution_count": 585,
     "metadata": {},
     "output_type": "execute_result"
    }
   ],
   "source": [
    "M6.nrows(), M6.ncols()"
   ]
  },
  {
   "cell_type": "code",
   "execution_count": 586,
   "metadata": {},
   "outputs": [
    {
     "data": {
      "text/plain": [
       "(3, 3)"
      ]
     },
     "execution_count": 586,
     "metadata": {},
     "output_type": "execute_result"
    }
   ],
   "source": [
    "M3.nrows(), M3.ncols()"
   ]
  },
  {
   "cell_type": "code",
   "execution_count": 587,
   "metadata": {},
   "outputs": [
    {
     "data": {
      "text/plain": [
       "(K_conductor, K_vacuum, a, c, mu, omega)"
      ]
     },
     "execution_count": 587,
     "metadata": {},
     "output_type": "execute_result"
    }
   ],
   "source": [
    "M6.variables()"
   ]
  },
  {
   "cell_type": "code",
   "execution_count": 588,
   "metadata": {},
   "outputs": [
    {
     "data": {
      "text/plain": [
       "(K_conductor, K_vacuum, a, c, mu, omega)"
      ]
     },
     "execution_count": 588,
     "metadata": {},
     "output_type": "execute_result"
    }
   ],
   "source": [
    "M3.variables()"
   ]
  },
  {
   "cell_type": "code",
   "execution_count": 589,
   "metadata": {},
   "outputs": [
    {
     "data": {
      "text/latex": [
       "$\\displaystyle \\left(\\begin{array}{rrrrrr}\n",
       "\\cos\\left(a \\Re \\left( K_{\\mathit{vacuum}} \\right)\\right) e^{\\left(-a \\Im \\left( K_{\\mathit{vacuum}} \\right)\\right)} & -e^{\\left(-a \\Im \\left( K_{\\mathit{vacuum}} \\right)\\right)} \\sin\\left(a \\Re \\left( K_{\\mathit{vacuum}} \\right)\\right) & \\cos\\left(-a \\Re \\left( K_{\\mathit{vacuum}} \\right)\\right) e^{\\left(a \\Im \\left( K_{\\mathit{vacuum}} \\right)\\right)} & -e^{\\left(a \\Im \\left( K_{\\mathit{vacuum}} \\right)\\right)} \\sin\\left(-a \\Re \\left( K_{\\mathit{vacuum}} \\right)\\right) & 0 & 0 \\\\\n",
       "e^{\\left(-a \\Im \\left( K_{\\mathit{vacuum}} \\right)\\right)} \\sin\\left(a \\Re \\left( K_{\\mathit{vacuum}} \\right)\\right) & \\cos\\left(a \\Re \\left( K_{\\mathit{vacuum}} \\right)\\right) e^{\\left(-a \\Im \\left( K_{\\mathit{vacuum}} \\right)\\right)} & e^{\\left(a \\Im \\left( K_{\\mathit{vacuum}} \\right)\\right)} \\sin\\left(-a \\Re \\left( K_{\\mathit{vacuum}} \\right)\\right) & \\cos\\left(-a \\Re \\left( K_{\\mathit{vacuum}} \\right)\\right) e^{\\left(a \\Im \\left( K_{\\mathit{vacuum}} \\right)\\right)} & 0 & 0 \\\\\n",
       "-\\frac{c \\Re \\left( K_{\\mathit{vacuum}} \\right)}{\\omega} & \\frac{c \\Im \\left( K_{\\mathit{vacuum}} \\right)}{\\omega} & \\frac{c \\Re \\left( K_{\\mathit{vacuum}} \\right)}{\\omega} & -\\frac{c \\Im \\left( K_{\\mathit{vacuum}} \\right)}{\\omega} & -\\frac{c \\Re \\left( K_{\\mathit{conductor}} \\right)}{\\mu \\omega} & \\frac{c \\Im \\left( K_{\\mathit{conductor}} \\right)}{\\mu \\omega} \\\\\n",
       "-\\frac{c \\Im \\left( K_{\\mathit{vacuum}} \\right)}{\\omega} & -\\frac{c \\Re \\left( K_{\\mathit{vacuum}} \\right)}{\\omega} & \\frac{c \\Im \\left( K_{\\mathit{vacuum}} \\right)}{\\omega} & \\frac{c \\Re \\left( K_{\\mathit{vacuum}} \\right)}{\\omega} & -\\frac{c \\Im \\left( K_{\\mathit{conductor}} \\right)}{\\mu \\omega} & -\\frac{c \\Re \\left( K_{\\mathit{conductor}} \\right)}{\\mu \\omega} \\\\\n",
       "-1 & 0 & -1 & 0 & 1 & 0 \\\\\n",
       "0 & -1 & 0 & -1 & 0 & 1\n",
       "\\end{array}\\right)$"
      ],
      "text/plain": [
       "<IPython.core.display.Math object>"
      ]
     },
     "metadata": {},
     "output_type": "display_data"
    }
   ],
   "source": [
    "display(Math(latex(M6)))"
   ]
  },
  {
   "cell_type": "code",
   "execution_count": 590,
   "metadata": {},
   "outputs": [
    {
     "data": {
      "text/plain": [
       "[ cos(a*sqrt(abs(-(kz + I*sz)^2 + omega^2/c^2))*cos(1/2*arctan2(-2*kz*sz, -kz^2 + sz^2 + omega^2/c^2)))*e^(-a*sqrt(abs(-(kz + I*sz)^2 + omega^2/c^2))*sin(1/2*arctan2(-2*kz*sz, -kz^2 + sz^2 + omega^2/c^2))) -e^(-a*sqrt(abs(-(kz + I*sz)^2 + omega^2/c^2))*sin(1/2*arctan2(-2*kz*sz, -kz^2 + sz^2 + omega^2/c^2)))*sin(a*sqrt(abs(-(kz + I*sz)^2 + omega^2/c^2))*cos(1/2*arctan2(-2*kz*sz, -kz^2 + sz^2 + omega^2/c^2)))  cos(-a*sqrt(abs(-(kz + I*sz)^2 + omega^2/c^2))*cos(1/2*arctan2(-2*kz*sz, -kz^2 + sz^2 + omega^2/c^2)))*e^(a*sqrt(abs(-(kz + I*sz)^2 + omega^2/c^2))*sin(1/2*arctan2(-2*kz*sz, -kz^2 + sz^2 + omega^2/c^2))) -e^(a*sqrt(abs(-(kz + I*sz)^2 + omega^2/c^2))*sin(1/2*arctan2(-2*kz*sz, -kz^2 + sz^2 + omega^2/c^2)))*sin(-a*sqrt(abs(-(kz + I*sz)^2 + omega^2/c^2))*cos(1/2*arctan2(-2*kz*sz, -kz^2 + sz^2 + omega^2/c^2)))                                                                                                                                                                                                            0                                                                                                                                                                                                            0]\n",
       "[ e^(-a*sqrt(abs(-(kz + I*sz)^2 + omega^2/c^2))*sin(1/2*arctan2(-2*kz*sz, -kz^2 + sz^2 + omega^2/c^2)))*sin(a*sqrt(abs(-(kz + I*sz)^2 + omega^2/c^2))*cos(1/2*arctan2(-2*kz*sz, -kz^2 + sz^2 + omega^2/c^2)))  cos(a*sqrt(abs(-(kz + I*sz)^2 + omega^2/c^2))*cos(1/2*arctan2(-2*kz*sz, -kz^2 + sz^2 + omega^2/c^2)))*e^(-a*sqrt(abs(-(kz + I*sz)^2 + omega^2/c^2))*sin(1/2*arctan2(-2*kz*sz, -kz^2 + sz^2 + omega^2/c^2)))  e^(a*sqrt(abs(-(kz + I*sz)^2 + omega^2/c^2))*sin(1/2*arctan2(-2*kz*sz, -kz^2 + sz^2 + omega^2/c^2)))*sin(-a*sqrt(abs(-(kz + I*sz)^2 + omega^2/c^2))*cos(1/2*arctan2(-2*kz*sz, -kz^2 + sz^2 + omega^2/c^2)))  cos(-a*sqrt(abs(-(kz + I*sz)^2 + omega^2/c^2))*cos(1/2*arctan2(-2*kz*sz, -kz^2 + sz^2 + omega^2/c^2)))*e^(a*sqrt(abs(-(kz + I*sz)^2 + omega^2/c^2))*sin(1/2*arctan2(-2*kz*sz, -kz^2 + sz^2 + omega^2/c^2)))                                                                                                                                                                                                            0                                                                                                                                                                                                            0]\n",
       "[                                                                                                     -c*sqrt(abs(-(kz + I*sz)^2 + omega^2/c^2))*cos(1/2*arctan2(-2*kz*sz, -kz^2 + sz^2 + omega^2/c^2))/omega                                                                                                       c*sqrt(abs(-(kz + I*sz)^2 + omega^2/c^2))*sin(1/2*arctan2(-2*kz*sz, -kz^2 + sz^2 + omega^2/c^2))/omega                                                                                                       c*sqrt(abs(-(kz + I*sz)^2 + omega^2/c^2))*cos(1/2*arctan2(-2*kz*sz, -kz^2 + sz^2 + omega^2/c^2))/omega                                                                                                      -c*sqrt(abs(-(kz + I*sz)^2 + omega^2/c^2))*sin(1/2*arctan2(-2*kz*sz, -kz^2 + sz^2 + omega^2/c^2))/omega                                                                             -c*sqrt(abs(4*I*pi*mu*omega*sigma/c - (kz + I*sz)^2))*cos(1/2*arctan2(4*pi*mu*omega*sigma/c - 2*kz*sz, -kz^2 + sz^2))/(mu*omega)                                                                              c*sqrt(abs(4*I*pi*mu*omega*sigma/c - (kz + I*sz)^2))*sin(1/2*arctan2(4*pi*mu*omega*sigma/c - 2*kz*sz, -kz^2 + sz^2))/(mu*omega)]\n",
       "[                                                                                                     -c*sqrt(abs(-(kz + I*sz)^2 + omega^2/c^2))*sin(1/2*arctan2(-2*kz*sz, -kz^2 + sz^2 + omega^2/c^2))/omega                                                                                                      -c*sqrt(abs(-(kz + I*sz)^2 + omega^2/c^2))*cos(1/2*arctan2(-2*kz*sz, -kz^2 + sz^2 + omega^2/c^2))/omega                                                                                                       c*sqrt(abs(-(kz + I*sz)^2 + omega^2/c^2))*sin(1/2*arctan2(-2*kz*sz, -kz^2 + sz^2 + omega^2/c^2))/omega                                                                                                       c*sqrt(abs(-(kz + I*sz)^2 + omega^2/c^2))*cos(1/2*arctan2(-2*kz*sz, -kz^2 + sz^2 + omega^2/c^2))/omega                                                                             -c*sqrt(abs(4*I*pi*mu*omega*sigma/c - (kz + I*sz)^2))*sin(1/2*arctan2(4*pi*mu*omega*sigma/c - 2*kz*sz, -kz^2 + sz^2))/(mu*omega)                                                                             -c*sqrt(abs(4*I*pi*mu*omega*sigma/c - (kz + I*sz)^2))*cos(1/2*arctan2(4*pi*mu*omega*sigma/c - 2*kz*sz, -kz^2 + sz^2))/(mu*omega)]\n",
       "[                                                                                                                                                                                                          -1                                                                                                                                                                                                            0                                                                                                                                                                                                           -1                                                                                                                                                                                                            0                                                                                                                                                                                                            1                                                                                                                                                                                                            0]\n",
       "[                                                                                                                                                                                                           0                                                                                                                                                                                                           -1                                                                                                                                                                                                            0                                                                                                                                                                                                           -1                                                                                                                                                                                                            0                                                                                                                                                                                                            1]"
      ]
     },
     "execution_count": 590,
     "metadata": {},
     "output_type": "execute_result"
    }
   ],
   "source": [
    "M6_subs"
   ]
  },
  {
   "cell_type": "code",
   "execution_count": 591,
   "metadata": {},
   "outputs": [
    {
     "data": {
      "text/plain": [
       "(a, c, kz, mu, omega, sigma, sz)"
      ]
     },
     "execution_count": 591,
     "metadata": {},
     "output_type": "execute_result"
    }
   ],
   "source": [
    "M6_subs.variables()"
   ]
  },
  {
   "cell_type": "code",
   "execution_count": 592,
   "metadata": {},
   "outputs": [
    {
     "data": {
      "text/latex": [
       "$\\displaystyle \\left(\\begin{array}{rrr}\n",
       "e^{\\left(i \\, K_{\\mathit{vacuum}} a\\right)} & e^{\\left(-i \\, K_{\\mathit{vacuum}} a\\right)} & 0 \\\\\n",
       "-\\frac{K_{\\mathit{vacuum}} c}{\\omega} & \\frac{K_{\\mathit{vacuum}} c}{\\omega} & -\\frac{K_{\\mathit{conductor}} c}{\\mu \\omega} \\\\\n",
       "-1 & -1 & 1\n",
       "\\end{array}\\right)$"
      ],
      "text/plain": [
       "<IPython.core.display.Math object>"
      ]
     },
     "metadata": {},
     "output_type": "display_data"
    }
   ],
   "source": [
    "display(Math(latex(M3)))"
   ]
  },
  {
   "cell_type": "code",
   "execution_count": 593,
   "metadata": {},
   "outputs": [
    {
     "data": {
      "text/latex": [
       "$\\displaystyle \\left(\\begin{array}{rrr}\n",
       "e^{\\left(i \\, \\sqrt{-k_{z}^{2} + \\frac{\\omega^{2}}{c^{2}}} a\\right)} & e^{\\left(-i \\, \\sqrt{-k_{z}^{2} + \\frac{\\omega^{2}}{c^{2}}} a\\right)} & 0 \\\\\n",
       "-\\frac{4 i \\, \\pi \\omega \\sigma}{\\sqrt{\\frac{4 i \\, \\pi \\mu \\omega \\sigma}{c} - k_{z}^{2}} c} - \\frac{\\omega^{2}}{\\sqrt{-k_{z}^{2} + \\frac{\\omega^{2}}{c^{2}}} c^{2}} & -\\frac{4 i \\, \\pi \\omega \\sigma}{\\sqrt{\\frac{4 i \\, \\pi \\mu \\omega \\sigma}{c} - k_{z}^{2}} c} + \\frac{\\omega^{2}}{\\sqrt{-k_{z}^{2} + \\frac{\\omega^{2}}{c^{2}}} c^{2}} & 0 \\\\\n",
       "-1 & -1 & 1\n",
       "\\end{array}\\right)$"
      ],
      "text/plain": [
       "<IPython.core.display.Math object>"
      ]
     },
     "metadata": {},
     "output_type": "display_data"
    }
   ],
   "source": [
    "display(Math(latex(M3_subs)))"
   ]
  },
  {
   "cell_type": "code",
   "execution_count": 594,
   "metadata": {},
   "outputs": [],
   "source": [
    "M3_det = M3.det()"
   ]
  },
  {
   "cell_type": "code",
   "execution_count": 595,
   "metadata": {},
   "outputs": [],
   "source": [
    "M3_subs_det = M3_subs.det()"
   ]
  },
  {
   "cell_type": "code",
   "execution_count": 596,
   "metadata": {},
   "outputs": [],
   "source": [
    "M6_subs_det = M6_subs.det()"
   ]
  },
  {
   "cell_type": "code",
   "execution_count": 597,
   "metadata": {},
   "outputs": [
    {
     "data": {
      "text/latex": [
       "$\\displaystyle {\\left(\\frac{K_{\\mathit{vacuum}} c}{\\omega} - \\frac{K_{\\mathit{conductor}} c}{\\mu \\omega}\\right)} e^{\\left(i \\, K_{\\mathit{vacuum}} a\\right)} + \\frac{K_{\\mathit{vacuum}} c e^{\\left(-i \\, K_{\\mathit{vacuum}} a\\right)}}{\\omega} + \\frac{K_{\\mathit{conductor}} c e^{\\left(-i \\, K_{\\mathit{vacuum}} a\\right)}}{\\mu \\omega}$"
      ],
      "text/plain": [
       "<IPython.core.display.Math object>"
      ]
     },
     "metadata": {},
     "output_type": "display_data"
    }
   ],
   "source": [
    "display(Math(latex(M3_det)))"
   ]
  },
  {
   "cell_type": "code",
   "execution_count": 598,
   "metadata": {},
   "outputs": [
    {
     "data": {
      "text/latex": [
       "$\\displaystyle {\\left(-\\frac{4 i \\, \\pi \\omega \\sigma}{\\sqrt{\\frac{4 i \\, \\pi \\mu \\omega \\sigma}{c} - k_{z}^{2}} c} + \\frac{\\omega^{2}}{\\sqrt{-k_{z}^{2} + \\frac{\\omega^{2}}{c^{2}}} c^{2}}\\right)} e^{\\left(i \\, \\sqrt{-k_{z}^{2} + \\frac{\\omega^{2}}{c^{2}}} a\\right)} - {\\left(-\\frac{4 i \\, \\pi \\omega \\sigma}{\\sqrt{\\frac{4 i \\, \\pi \\mu \\omega \\sigma}{c} - k_{z}^{2}} c} - \\frac{\\omega^{2}}{\\sqrt{-k_{z}^{2} + \\frac{\\omega^{2}}{c^{2}}} c^{2}}\\right)} e^{\\left(-i \\, \\sqrt{-k_{z}^{2} + \\frac{\\omega^{2}}{c^{2}}} a\\right)}$"
      ],
      "text/plain": [
       "<IPython.core.display.Math object>"
      ]
     },
     "metadata": {},
     "output_type": "display_data"
    }
   ],
   "source": [
    "display(Math(latex(M3_subs_det)))"
   ]
  },
  {
   "cell_type": "code",
   "execution_count": 599,
   "metadata": {},
   "outputs": [
    {
     "data": {
      "text/plain": [
       "(K_vacuum == sqrt(-k_z^2 + kappa_vacuum^2),\n",
       " K_conductor == sqrt(-k_z^2 + kappa^2))"
      ]
     },
     "execution_count": 599,
     "metadata": {},
     "output_type": "execute_result"
    }
   ],
   "source": [
    "K_vacuum_subs, K_conductor_subs"
   ]
  },
  {
   "cell_type": "code",
   "execution_count": 600,
   "metadata": {},
   "outputs": [],
   "source": [
    "M3_subs_det_den = K_vacuum_subs.rhs().subs(kappa_vacuum_sol).subs(kappa_sol) * \\\n",
    "K_conductor_subs.rhs().subs(kappa_vacuum_sol).subs(kappa_sol)"
   ]
  },
  {
   "cell_type": "code",
   "execution_count": 601,
   "metadata": {},
   "outputs": [],
   "source": [
    "M3_subs_det_num = (M3_subs_det*M3_subs_det_den).expand()"
   ]
  },
  {
   "cell_type": "code",
   "execution_count": 602,
   "metadata": {},
   "outputs": [
    {
     "data": {
      "text/latex": [
       "$\\displaystyle -\\frac{4 i \\, \\pi \\sqrt{-k_{z}^{2} + \\frac{\\omega^{2}}{c^{2}}} \\omega \\sigma e^{\\left(i \\, \\sqrt{-k_{z}^{2} + \\frac{\\omega^{2}}{c^{2}}} a\\right)}}{c} + \\frac{4 i \\, \\pi \\sqrt{-k_{z}^{2} + \\frac{\\omega^{2}}{c^{2}}} \\omega \\sigma e^{\\left(-i \\, \\sqrt{-k_{z}^{2} + \\frac{\\omega^{2}}{c^{2}}} a\\right)}}{c} + \\frac{\\sqrt{\\frac{4 i \\, \\pi \\mu \\omega \\sigma}{c} - k_{z}^{2}} \\omega^{2} e^{\\left(i \\, \\sqrt{-k_{z}^{2} + \\frac{\\omega^{2}}{c^{2}}} a\\right)}}{c^{2}} + \\frac{\\sqrt{\\frac{4 i \\, \\pi \\mu \\omega \\sigma}{c} - k_{z}^{2}} \\omega^{2} e^{\\left(-i \\, \\sqrt{-k_{z}^{2} + \\frac{\\omega^{2}}{c^{2}}} a\\right)}}{c^{2}}$"
      ],
      "text/plain": [
       "<IPython.core.display.Math object>"
      ]
     },
     "metadata": {},
     "output_type": "display_data"
    }
   ],
   "source": [
    "display(Math(latex(M3_subs_det_num)))"
   ]
  },
  {
   "cell_type": "code",
   "execution_count": 603,
   "metadata": {},
   "outputs": [],
   "source": [
    "M3_subs_det_sigma0 = M3_subs_det_.subs(sigma == 0)"
   ]
  },
  {
   "cell_type": "code",
   "execution_count": 604,
   "metadata": {},
   "outputs": [
    {
     "data": {
      "text/latex": [
       "$\\displaystyle \\frac{{\\left(\\omega^{2} e^{\\left(2 i \\, a \\sqrt{-\\frac{c^{2} k_{z}^{2} - \\omega^{2}}{c^{2}}}\\right)} + \\omega^{2}\\right)} \\sqrt{-k_{z}^{2}} e^{\\left(-i \\, a \\sqrt{-\\frac{c^{2} k_{z}^{2} - \\omega^{2}}{c^{2}}}\\right)}}{c^{2}}$"
      ],
      "text/plain": [
       "<IPython.core.display.Math object>"
      ]
     },
     "metadata": {},
     "output_type": "display_data"
    }
   ],
   "source": [
    "display(Math(latex(M3_subs_det_sigma0)))"
   ]
  },
  {
   "cell_type": "code",
   "execution_count": 605,
   "metadata": {},
   "outputs": [],
   "source": [
    "M3_subs_det_sigma0_a0 = M3_subs_det_sigma0.subs(a == 0)"
   ]
  },
  {
   "cell_type": "code",
   "execution_count": 606,
   "metadata": {},
   "outputs": [
    {
     "data": {
      "text/latex": [
       "$\\displaystyle \\frac{2 \\, \\sqrt{-k_{z}^{2}} \\omega^{2}}{c^{2}} = 0$"
      ],
      "text/plain": [
       "<IPython.core.display.Math object>"
      ]
     },
     "metadata": {},
     "output_type": "display_data"
    }
   ],
   "source": [
    "display(Math(latex(M3_subs_det_sigma0_a0  == 0)))"
   ]
  },
  {
   "cell_type": "code",
   "execution_count": 607,
   "metadata": {},
   "outputs": [],
   "source": [
    "kz_init_a0 = solve(M3_subs_det_sigma0_a0 == 0, k_z)"
   ]
  },
  {
   "cell_type": "code",
   "execution_count": 608,
   "metadata": {},
   "outputs": [
    {
     "data": {
      "text/plain": [
       "[k_z == 0]"
      ]
     },
     "execution_count": 608,
     "metadata": {},
     "output_type": "execute_result"
    }
   ],
   "source": [
    "kz_init_a0"
   ]
  },
  {
   "cell_type": "code",
   "execution_count": 609,
   "metadata": {},
   "outputs": [
    {
     "data": {
      "text/plain": [
       "25/79*pi"
      ]
     },
     "execution_count": 609,
     "metadata": {},
     "output_type": "execute_result"
    }
   ],
   "source": [
    "#kz_init_a0_d = kz_init_a0[1].subs(digit_values).rhs()\n",
    "kz_init_a0_d = (omega/c).subs(digit_values)\n",
    "kz_init_a0_d"
   ]
  },
  {
   "cell_type": "code",
   "execution_count": null,
   "metadata": {},
   "outputs": [],
   "source": []
  },
  {
   "cell_type": "raw",
   "metadata": {},
   "source": [
    "M3_subs_det_sigma0_diff_k_z   = M3_subs_det_sigma0.diff(k_z)\n",
    "M3_subs_det_sigma0_diff_k_z_d = M3_subs_det_sigma0_diff_k_z.subs(digit_values)\n",
    "M3_subs_det_sigma0_diff_k_z_d"
   ]
  },
  {
   "cell_type": "raw",
   "metadata": {},
   "source": [
    "M3_subs_det_sigma0_d = M3_subs_det_sigma0.subs(digit_values)\n",
    "M3_subs_det_sigma0_d"
   ]
  },
  {
   "cell_type": "raw",
   "metadata": {},
   "source": [
    "M3_subs_det_sigma0_div_diff_k_z   = (M3_subs_det_sigma0/M3_subs_det_sigma0_diff_k_z).full_simplify()\n",
    "M3_subs_det_sigma0_div_diff_k_z_d = M3_subs_det_sigma0_div_diff_k_z.subs(digit_values)\n",
    "M3_subs_det_sigma0_div_diff_k_z_d"
   ]
  },
  {
   "cell_type": "code",
   "execution_count": null,
   "metadata": {},
   "outputs": [],
   "source": []
  },
  {
   "cell_type": "raw",
   "metadata": {},
   "source": [
    "M3_subs_det_diff_k_z   = M3_subs_det.diff(k_z)\n",
    "M3_subs_det_diff_k_z_d = M3_subs_det_diff_k_z.subs(digit_values)\n",
    "M3_subs_det_diff_k_z_d"
   ]
  },
  {
   "cell_type": "raw",
   "metadata": {
    "scrolled": true
   },
   "source": [
    "M3_subs_det_d = M3_subs_det.subs(digit_values)\n",
    "M3_subs_det_d"
   ]
  },
  {
   "cell_type": "raw",
   "metadata": {},
   "source": [
    "M3_subs_det_div_diff_k_z   = (M3_subs_det/M3_subs_det_diff_k_z).full_simplify()\n",
    "M3_subs_det_div_diff_k_z_d = M3_subs_det_div_diff_k_z.subs(digit_values)\n",
    "M3_subs_det_div_diff_k_z_d"
   ]
  },
  {
   "cell_type": "code",
   "execution_count": null,
   "metadata": {},
   "outputs": [],
   "source": []
  },
  {
   "cell_type": "code",
   "execution_count": 610,
   "metadata": {},
   "outputs": [],
   "source": [
    "def NewtonIt(f_div_df, x, xn, step):\n",
    "    print(\"xn\", xn)\n",
    "    #print(\"df\", df)\n",
    "    #print(\"(f/df)\", (f/df))\n",
    "    #delta = (f/df).subs(x == xn)\n",
    "    delta = f_div_df.subs(x == xn).n()\n",
    "    print(\"delta\", delta)\n",
    "    #print(\"step\", step)\n",
    "    step_delta = step*delta\n",
    "    #print(\"step_delta\", step_delta)\n",
    "\n",
    "    res = xn-step_delta\n",
    "    #print (\"_x-step_delta\", _x-step_delta)\n",
    "    #print (\"res\", res)\n",
    "    return res, delta\n",
    "\n",
    "def find_newton_root(f, f_div_df, x, xn):\n",
    "    #df = f.diff(x)\n",
    "    #print (\"f\", f)\n",
    "    #print (\"df\", df)\n",
    "    #print (\"f/df\", f/df)\n",
    "    step = 1.0\n",
    "\n",
    "    for i in range(20):\n",
    "        #xn=N(NewtonIt(xn, step), digits=32)\n",
    "        xn, delta = NewtonIt(f_div_df, x, xn, step)\n",
    "        #print (\"xn\", xn)\n",
    "        \n",
    "        f_n = f.subs(x == xn)\n",
    "        print (\"f_n\",f_n)\n",
    "        #step *= 0.999\n",
    "        if 0 == delta:\n",
    "            break\n",
    "\n",
    "    return xn"
   ]
  },
  {
   "cell_type": "raw",
   "metadata": {},
   "source": [
    "M3_subs_det_sigma0_d"
   ]
  },
  {
   "cell_type": "raw",
   "metadata": {},
   "source": [
    "kz_init_sigma0_d = find_newton_root(M3_subs_det_sigma0_d, M3_subs_det_sigma0_div_diff_k_z_d, k_z, kz_init_a0_d)\n",
    "kz_init_sigma0_d"
   ]
  },
  {
   "cell_type": "raw",
   "metadata": {},
   "source": [
    "M3_subs_det"
   ]
  },
  {
   "cell_type": "code",
   "execution_count": 611,
   "metadata": {},
   "outputs": [
    {
     "data": {
      "text/plain": [
       "25/79*pi"
      ]
     },
     "execution_count": 611,
     "metadata": {},
     "output_type": "execute_result"
    }
   ],
   "source": [
    "#kz_init_d = find_newton_root(M3_subs_det_d, M3_subs_det_div_diff_k_z_d, k_z, kz_init_a0_d)\n",
    "kz_init_d = (omega/c).subs(digit_values)\n",
    "kz_init_d"
   ]
  },
  {
   "cell_type": "code",
   "execution_count": null,
   "metadata": {},
   "outputs": [],
   "source": []
  },
  {
   "cell_type": "code",
   "execution_count": 612,
   "metadata": {},
   "outputs": [],
   "source": [
    "M3_subs_det_kz_sz = M3_subs_det_num.subs(k_z == kz + I * sz)"
   ]
  },
  {
   "cell_type": "code",
   "execution_count": null,
   "metadata": {},
   "outputs": [],
   "source": []
  },
  {
   "cell_type": "code",
   "execution_count": null,
   "metadata": {},
   "outputs": [],
   "source": []
  },
  {
   "cell_type": "code",
   "execution_count": 613,
   "metadata": {},
   "outputs": [],
   "source": [
    "M3_subs_det_re = M3_subs_det_kz_sz.real()"
   ]
  },
  {
   "cell_type": "code",
   "execution_count": 614,
   "metadata": {},
   "outputs": [],
   "source": [
    "M3_subs_det_im = M3_subs_det_kz_sz.imag()"
   ]
  },
  {
   "cell_type": "code",
   "execution_count": null,
   "metadata": {},
   "outputs": [],
   "source": []
  },
  {
   "cell_type": "code",
   "execution_count": 615,
   "metadata": {},
   "outputs": [
    {
     "data": {
      "text/latex": [
       "$\\displaystyle -\\frac{4 i \\, \\pi \\sqrt{-{\\left(\\mathit{kz} + i \\, \\mathit{sz}\\right)}^{2} + \\frac{\\omega^{2}}{c^{2}}} \\omega \\sigma e^{\\left(i \\, \\sqrt{-{\\left(\\mathit{kz} + i \\, \\mathit{sz}\\right)}^{2} + \\frac{\\omega^{2}}{c^{2}}} a\\right)}}{c} + \\frac{4 i \\, \\pi \\sqrt{-{\\left(\\mathit{kz} + i \\, \\mathit{sz}\\right)}^{2} + \\frac{\\omega^{2}}{c^{2}}} \\omega \\sigma e^{\\left(-i \\, \\sqrt{-{\\left(\\mathit{kz} + i \\, \\mathit{sz}\\right)}^{2} + \\frac{\\omega^{2}}{c^{2}}} a\\right)}}{c} + \\frac{\\sqrt{\\frac{4 i \\, \\pi \\mu \\omega \\sigma}{c} - {\\left(\\mathit{kz} + i \\, \\mathit{sz}\\right)}^{2}} \\omega^{2} e^{\\left(i \\, \\sqrt{-{\\left(\\mathit{kz} + i \\, \\mathit{sz}\\right)}^{2} + \\frac{\\omega^{2}}{c^{2}}} a\\right)}}{c^{2}} + \\frac{\\sqrt{\\frac{4 i \\, \\pi \\mu \\omega \\sigma}{c} - {\\left(\\mathit{kz} + i \\, \\mathit{sz}\\right)}^{2}} \\omega^{2} e^{\\left(-i \\, \\sqrt{-{\\left(\\mathit{kz} + i \\, \\mathit{sz}\\right)}^{2} + \\frac{\\omega^{2}}{c^{2}}} a\\right)}}{c^{2}}$"
      ],
      "text/plain": [
       "<IPython.core.display.Math object>"
      ]
     },
     "metadata": {},
     "output_type": "display_data"
    }
   ],
   "source": [
    "display(Math(latex(M3_subs_det_kz_sz)))"
   ]
  },
  {
   "cell_type": "code",
   "execution_count": 616,
   "metadata": {},
   "outputs": [
    {
     "data": {
      "text/latex": [
       "$\\displaystyle -\\frac{{\\left(-4 i \\, \\pi c \\omega \\sigma \\sqrt{-\\frac{c^{2} \\mathit{kz}^{2} + 2 i \\, c^{2} \\mathit{kz} \\mathit{sz} - c^{2} \\mathit{sz}^{2} - \\omega^{2}}{c^{2}}} - \\omega^{2} \\sqrt{\\frac{4 i \\, \\pi \\mu \\omega \\sigma - c \\mathit{kz}^{2} - 2 i \\, c \\mathit{kz} \\mathit{sz} + c \\mathit{sz}^{2}}{c}} + {\\left(4 i \\, \\pi c \\omega \\sigma \\sqrt{-\\frac{c^{2} \\mathit{kz}^{2} + 2 i \\, c^{2} \\mathit{kz} \\mathit{sz} - c^{2} \\mathit{sz}^{2} - \\omega^{2}}{c^{2}}} - \\omega^{2} \\sqrt{\\frac{4 i \\, \\pi \\mu \\omega \\sigma - c \\mathit{kz}^{2} - 2 i \\, c \\mathit{kz} \\mathit{sz} + c \\mathit{sz}^{2}}{c}}\\right)} e^{\\left(2 i \\, a \\sqrt{-\\frac{c^{2} \\mathit{kz}^{2} + 2 i \\, c^{2} \\mathit{kz} \\mathit{sz} - c^{2} \\mathit{sz}^{2} - \\omega^{2}}{c^{2}}}\\right)}\\right)} e^{\\left(-i \\, a \\sqrt{-\\frac{c^{2} \\mathit{kz}^{2} + 2 i \\, c^{2} \\mathit{kz} \\mathit{sz} - c^{2} \\mathit{sz}^{2} - \\omega^{2}}{c^{2}}}\\right)}}{c^{2}}$"
      ],
      "text/plain": [
       "<IPython.core.display.Math object>"
      ]
     },
     "metadata": {},
     "output_type": "display_data"
    }
   ],
   "source": [
    "display(Math(latex(M3_subs_det_kz_sz.full_simplify())))"
   ]
  },
  {
   "cell_type": "code",
   "execution_count": null,
   "metadata": {},
   "outputs": [],
   "source": []
  },
  {
   "cell_type": "code",
   "execution_count": null,
   "metadata": {},
   "outputs": [],
   "source": []
  },
  {
   "cell_type": "code",
   "execution_count": 617,
   "metadata": {},
   "outputs": [],
   "source": [
    "M3_subs_det_re_diff_kz = M3_subs_det_re.diff(kz)"
   ]
  },
  {
   "cell_type": "code",
   "execution_count": 618,
   "metadata": {},
   "outputs": [],
   "source": [
    "M3_subs_det_im_diff_kz = M3_subs_det_im.diff(kz)"
   ]
  },
  {
   "cell_type": "code",
   "execution_count": 619,
   "metadata": {},
   "outputs": [],
   "source": [
    "M3_subs_det_re_diff_sz = M3_subs_det_re.diff(sz)"
   ]
  },
  {
   "cell_type": "code",
   "execution_count": 620,
   "metadata": {},
   "outputs": [],
   "source": [
    "M3_subs_det_im_diff_sz = M3_subs_det_im.diff(sz)"
   ]
  },
  {
   "cell_type": "code",
   "execution_count": null,
   "metadata": {},
   "outputs": [],
   "source": []
  },
  {
   "cell_type": "code",
   "execution_count": 621,
   "metadata": {},
   "outputs": [],
   "source": [
    "M3_subs_det_re_div_diff_kz = (M3_subs_det_re / M3_subs_det_re_diff_kz)"
   ]
  },
  {
   "cell_type": "code",
   "execution_count": 622,
   "metadata": {},
   "outputs": [],
   "source": [
    "M3_subs_det_im_div_diff_kz = (M3_subs_det_im / M3_subs_det_im_diff_kz)"
   ]
  },
  {
   "cell_type": "code",
   "execution_count": 623,
   "metadata": {},
   "outputs": [],
   "source": [
    "M3_subs_det_re_div_diff_sz = (M3_subs_det_re / M3_subs_det_re_diff_sz)"
   ]
  },
  {
   "cell_type": "code",
   "execution_count": 624,
   "metadata": {},
   "outputs": [],
   "source": [
    "M3_subs_det_im_div_diff_sz = (M3_subs_det_im / M3_subs_det_im_diff_sz)"
   ]
  },
  {
   "cell_type": "code",
   "execution_count": null,
   "metadata": {},
   "outputs": [],
   "source": []
  },
  {
   "cell_type": "code",
   "execution_count": 625,
   "metadata": {},
   "outputs": [],
   "source": [
    "M3_subs_det_re_d = M3_subs_det_re.subs(digit_values)"
   ]
  },
  {
   "cell_type": "code",
   "execution_count": 626,
   "metadata": {},
   "outputs": [],
   "source": [
    "M3_subs_det_im_d = M3_subs_det_im.subs(digit_values)"
   ]
  },
  {
   "cell_type": "code",
   "execution_count": null,
   "metadata": {},
   "outputs": [],
   "source": []
  },
  {
   "cell_type": "code",
   "execution_count": 627,
   "metadata": {},
   "outputs": [
    {
     "data": {
      "text/latex": [
       "$\\displaystyle \\left(\\mathit{kz}, \\mathit{sz}\\right)$"
      ],
      "text/plain": [
       "<IPython.core.display.Math object>"
      ]
     },
     "metadata": {},
     "output_type": "display_data"
    }
   ],
   "source": [
    "display(Math(latex(M3_subs_det_re_d.variables())))"
   ]
  },
  {
   "cell_type": "code",
   "execution_count": 628,
   "metadata": {},
   "outputs": [
    {
     "data": {
      "text/plain": [
       "0.994174890376517"
      ]
     },
     "execution_count": 628,
     "metadata": {},
     "output_type": "execute_result"
    }
   ],
   "source": [
    "kz_init_sigma0_d.n()"
   ]
  },
  {
   "cell_type": "code",
   "execution_count": 629,
   "metadata": {},
   "outputs": [
    {
     "data": {
      "text/plain": [
       "0.00157305168967103"
      ]
     },
     "execution_count": 629,
     "metadata": {},
     "output_type": "execute_result"
    }
   ],
   "source": [
    "k_z_02 = 2*sqrt(I*pi*mu*omega*sigma/c)*omega*sqrt(-(4*I*pi*c*mu*omega*sigma - mu^2*omega^2)/(16*pi^2*c^2*mu^2*omega^2*sigma^2 + mu^2*omega^4))\n",
    "kz_init_im = k_z_02.subs(digit_values).imag().n()\n",
    "kz_init_im"
   ]
  },
  {
   "cell_type": "code",
   "execution_count": 630,
   "metadata": {},
   "outputs": [],
   "source": [
    "make_investigation_plots = True"
   ]
  },
  {
   "cell_type": "code",
   "execution_count": 639,
   "metadata": {},
   "outputs": [],
   "source": [
    "if make_investigation_plots:\n",
    "    import numpy as np\n",
    "    import matplotlib.pyplot as plt\n",
    "    %matplotlib inline\n",
    "\n",
    "    kz_linspace = np.linspace(0.9, 2.1, 10)\n",
    "    sz_linspace = np.linspace(0, 2e-1, 10)\n",
    "\n",
    "    kz_list = kz_linspace.tolist()\n",
    "    sz_list = sz_linspace.tolist()\n",
    "\n",
    "    kz_grid, sz_grid = np.meshgrid(kz_linspace, sz_linspace)\n",
    "\n",
    "    u = kz_grid * np.nan\n",
    "    v = sz_grid * np.nan\n",
    "\n",
    "    for ikz in np.arange(0, len(kz_linspace), 1):\n",
    "        for isz in np.arange(0, len(sz_linspace), 1):\n",
    "            kz_i = kz_list[ikz]\n",
    "            sz_i = sz_list[isz]\n",
    "            u[isz][ikz] = M3_subs_det_re_d.subs(kz == kz_i).subs(sz == sz_i).n()\n",
    "            v[isz][ikz] = M3_subs_det_im_d.subs(kz == kz_i).subs(sz == sz_i).n()"
   ]
  },
  {
   "cell_type": "markdown",
   "metadata": {},
   "source": [
    "Искомый волновой вектор можно найти графическим методом как точку пересечения двух нулевых изолиний на контурных графиках зависимости действительной и мнимой компонент детерминанта от действительной и мнимой компонент волнового вектора"
   ]
  },
  {
   "cell_type": "code",
   "execution_count": 640,
   "metadata": {},
   "outputs": [
    {
     "data": {
      "image/png": "[encoded data removed]",
      "text/plain": [
       "<Figure size 432x288 with 2 Axes>"
      ]
     },
     "metadata": {
      "needs_background": "light"
     },
     "output_type": "display_data"
    }
   ],
   "source": [
    "if make_investigation_plots:\n",
    "    fig,ax=plt.subplots(1,1)\n",
    "\n",
    "    cp = ax.contourf(kz_grid,sz_grid, u)\n",
    "    fig.colorbar(cp) # Add a colorbar to a plot\n",
    "    ax.set_title('M3_subs_det_re')\n",
    "    ax.set_xlabel('kz')\n",
    "    ax.set_ylabel('sz')\n",
    "    plt.show()"
   ]
  },
  {
   "cell_type": "code",
   "execution_count": 641,
   "metadata": {},
   "outputs": [
    {
     "data": {
      "image/png": "[encoded data removed]",
      "text/plain": [
       "<Figure size 432x288 with 2 Axes>"
      ]
     },
     "metadata": {
      "needs_background": "light"
     },
     "output_type": "display_data"
    }
   ],
   "source": [
    "if make_investigation_plots:\n",
    "    fig,ax=plt.subplots(1,1)\n",
    "\n",
    "    cp = ax.contourf(kz_grid,sz_grid, v)\n",
    "    fig.colorbar(cp) # Add a colorbar to a plot\n",
    "    ax.set_title('M3_subs_det_im')\n",
    "    ax.set_xlabel('kz')\n",
    "    ax.set_ylabel('sz')\n",
    "    plt.show()"
   ]
  },
  {
   "cell_type": "code",
   "execution_count": 650,
   "metadata": {},
   "outputs": [
    {
     "data": {
      "text/plain": [
       "(10.1118680090765, 0.0191585812708410)"
      ]
     },
     "execution_count": 650,
     "metadata": {},
     "output_type": "execute_result"
    }
   ],
   "source": [
    "(250/79*pi + 0.170119105311316).n(), 0.0191585812708410"
   ]
  },
  {
   "cell_type": "code",
   "execution_count": 634,
   "metadata": {},
   "outputs": [
    {
     "data": {
      "image/png": "[encoded data removed]",
      "text/plain": [
       "<Figure size 432x288 with 1 Axes>"
      ]
     },
     "metadata": {
      "needs_background": "light"
     },
     "output_type": "display_data"
    }
   ],
   "source": [
    "if make_investigation_plots:\n",
    "    from mpl_toolkits import mplot3d\n",
    "    import numpy as np\n",
    "    import matplotlib.pyplot as plt\n",
    "    fig = plt.figure()\n",
    "\n",
    "    ax = plt.axes(projection='3d')\n",
    "    ax.set_xlabel('kz')\n",
    "    ax.set_ylabel('sz')\n",
    "    ax.plot_surface(kz_grid, sz_grid, u, cmap='viridis', edgecolor='none')\n",
    "    ax.set_title('M3_subs_det_re')\n",
    "    plt.show()"
   ]
  },
  {
   "cell_type": "code",
   "execution_count": 635,
   "metadata": {},
   "outputs": [
    {
     "data": {
      "image/png": "[encoded data removed]",
      "text/plain": [
       "<Figure size 432x288 with 1 Axes>"
      ]
     },
     "metadata": {
      "needs_background": "light"
     },
     "output_type": "display_data"
    }
   ],
   "source": [
    "if make_investigation_plots:\n",
    "    from mpl_toolkits import mplot3d\n",
    "    import numpy as np\n",
    "    import matplotlib.pyplot as plt\n",
    "    fig = plt.figure()\n",
    "\n",
    "    ax = plt.axes(projection='3d')\n",
    "    ax.set_xlabel('kz')\n",
    "    ax.set_ylabel('sz')\n",
    "    ax.plot_surface(kz_grid, sz_grid, v, cmap='viridis', edgecolor='none')\n",
    "    ax.set_title('M3_subs_det_im')\n",
    "    plt.show()"
   ]
  },
  {
   "cell_type": "code",
   "execution_count": null,
   "metadata": {},
   "outputs": [],
   "source": []
  },
  {
   "cell_type": "code",
   "execution_count": null,
   "metadata": {},
   "outputs": [],
   "source": []
  },
  {
   "cell_type": "code",
   "execution_count": 642,
   "metadata": {},
   "outputs": [],
   "source": [
    "M3_subs_det_re_div_diff_kz_d = M3_subs_det_re_div_diff_kz.subs(digit_values)"
   ]
  },
  {
   "cell_type": "code",
   "execution_count": 643,
   "metadata": {},
   "outputs": [],
   "source": [
    "M3_subs_det_im_div_diff_kz_d = M3_subs_det_im_div_diff_kz.subs(digit_values)"
   ]
  },
  {
   "cell_type": "code",
   "execution_count": 644,
   "metadata": {},
   "outputs": [],
   "source": [
    "M3_subs_det_re_div_diff_sz_d = M3_subs_det_re_div_diff_sz.subs(digit_values)"
   ]
  },
  {
   "cell_type": "code",
   "execution_count": 645,
   "metadata": {},
   "outputs": [],
   "source": [
    "M3_subs_det_im_div_diff_sz_d = M3_subs_det_im_div_diff_sz.subs(digit_values)"
   ]
  },
  {
   "cell_type": "markdown",
   "metadata": {},
   "source": [
    "метод ньютона для комплексной функции от комплексного аргумента\n",
    "комплексная функция представляется в виде двух функций: ее действительной и мнимой частей\n",
    "также мы предварительно должны посчитать все четыре варианта первых производных: действительной компоненты функции от обоих компонент аргумента и также и для мнимой части\n",
    "\n",
    "на вход метода find_newton_complex_root() подается:\n",
    "\n",
    "- выражения для действительной и мнимой частей исследуемой комплексной функции\n",
    "\n",
    "- четыре выражения для отношения каждой компоненты комплексной функции к ее производной по каждой компоненте аргумента\n",
    "\n",
    "- символьное представление действительной и мнимой части аргумента\n",
    "\n",
    "- начальные значения действительной и мнимой части аргумента"
   ]
  },
  {
   "cell_type": "code",
   "execution_count": 671,
   "metadata": {},
   "outputs": [],
   "source": [
    "def find_newton_complex_root(f_re, f_im,\n",
    "                             f_re_div_df_re,\n",
    "                             f_im_div_df_re,\n",
    "                             f_re_div_df_im,\n",
    "                             f_im_div_df_im,\n",
    "                             xre, xim,\n",
    "                             xn_re, xn_im):\n",
    "    print (\"xre\", xre)\n",
    "    print (\"xim\", xim)\n",
    "    print (\"xn_re\", xn_re)\n",
    "    print (\"xn_im\", xn_re)\n",
    "\n",
    "    step_re_im = 0.95\n",
    "    step_im_im = 0.95\n",
    "    step_re_re = 0.95\n",
    "    step_im_re = 0.95\n",
    "    \n",
    "    step_m = 0.8\n",
    "    abs_m = 1.1\n",
    "    \n",
    "    delta_epsilon = 1e-32\n",
    "\n",
    "    f_re_new = f_re.subs(xre == xn_re).subs(xim == xn_im).n()\n",
    "    print(\"\\nf_re_new = \", f_re_new)\n",
    "    \n",
    "    f_im_new = f_im.subs(xre == xn_re).subs(xim == xn_im).n()\n",
    "    print(\"\\nf_im_new = \", f_im_new)\n",
    "\n",
    "    f_abs_2 = f_re_new^2+f_im_new^2\n",
    "            \n",
    "    for i in range(100):\n",
    "        try:\n",
    "            print(\"\\nre_d_re xn = \", xn_re, xn_im, \"step = \", step_re_re)\n",
    "            xn_re_new, delta_re_re = NewtonIt(f_re_div_df_re.subs(xim == xn_im), xre, xn_re, step_re_re)\n",
    "            f_re_new = f_re.subs(xre == xn_re_new).subs(xim == xn_im).n()\n",
    "            f_im_new = f_im.subs(xre == xn_re_new).subs(xim == xn_im).n()\n",
    "            f_abs_2_new = f_re_new^2+f_im_new^2\n",
    "            print(\"f_abs_2_new\", f_abs_2_new)\n",
    "            if f_abs_2_new > abs_m*f_abs_2:\n",
    "                step_re_re *= step_m\n",
    "            else:\n",
    "                xn_re = xn_re_new\n",
    "                f_abs_2 = f_abs_2_new\n",
    "                if step_re_re < 0.9:\n",
    "                    step_re_re /= step_m\n",
    "                print (\"f_new\",f_re_new, f_im_new)\n",
    "        except Exception as ex:\n",
    "            print(ex)\n",
    "\n",
    "        try:\n",
    "            print(\"\\nim_d_re xn = \", xn_re, xn_im, \"step = \", step_im_re)\n",
    "            xn_re_new, delta_im_re = NewtonIt(f_im_div_df_re.subs(xim == xn_im), xre, xn_re, step_im_re)\n",
    "            f_re_new = f_re.subs(xre == xn_re_new).subs(xim == xn_im).n()\n",
    "            f_im_new = f_im.subs(xre == xn_re_new).subs(xim == xn_im).n()\n",
    "            f_abs_2_new = f_re_new^2+f_im_new^2\n",
    "            print(\"f_abs_2_new\", f_abs_2_new)\n",
    "            if f_abs_2_new > abs_m*f_abs_2:\n",
    "                step_im_re *= step_m\n",
    "            else:\n",
    "                xn_re = xn_re_new\n",
    "                f_abs_2 = f_abs_2_new\n",
    "                if step_im_re < 0.9:\n",
    "                    step_im_re /= step_m\n",
    "                print (\"f_new\",f_re_new, f_im_new)\n",
    "        except Exception as ex:\n",
    "            print(ex)\n",
    "\n",
    "        try:\n",
    "            print(\"\\nre_d_im xn = \", xn_re, xn_im, \"step = \", step_re_im)\n",
    "            xn_im_new, delta_re_im = NewtonIt(f_re_div_df_im.subs(xre == xn_re), xim, xn_im, step_re_im)\n",
    "            f_re_new = f_re.subs(xre == xn_re).subs(xim == xn_im_new).n()\n",
    "            f_im_new = f_im.subs(xre == xn_re).subs(xim == xn_im_new).n()\n",
    "            f_abs_2_new = f_re_new^2+f_im_new^2\n",
    "            print(\"f_abs_2_new\", f_abs_2_new)\n",
    "            if f_abs_2_new > abs_m*f_abs_2:\n",
    "                step_re_im *= step_m\n",
    "            else:\n",
    "                xn_im = xn_im_new\n",
    "                f_abs_2 = f_abs_2_new\n",
    "                if step_re_im < 0.9:\n",
    "                    step_re_im /= step_m\n",
    "                print (\"f_new\",f_re_new, f_im_new)\n",
    "        except Exception as ex:\n",
    "            print(ex)\n",
    "\n",
    "        try:\n",
    "            print(\"\\nim_d_im xn = \", xn_re, xn_im, \"step = \", step_im_im)\n",
    "            xn_im_new, delta_im_im = NewtonIt(f_im_div_df_im.subs(xre == xn_re), xim, xn_im, step_im_im)\n",
    "            f_re_new = f_re.subs(xre == xn_re).subs(xim == xn_im_new).n()\n",
    "            f_im_new = f_im.subs(xre == xn_re).subs(xim == xn_im_new).n()\n",
    "            f_abs_2_new = f_re_new^2+f_im_new^2\n",
    "            print(\"f_abs_2_new\", f_abs_2_new)\n",
    "            if f_abs_2_new > abs_m*f_abs_2:\n",
    "                step_im_im *= step_m\n",
    "            else:\n",
    "                xn_im = xn_im_new\n",
    "                f_abs_2 = f_abs_2_new\n",
    "                if step_im_im < 0.9:\n",
    "                    step_im_im /= step_m\n",
    "                print (\"f_new\",f_re_new, f_im_new)\n",
    "            \n",
    "        except Exception as ex:\n",
    "            print(ex)\n",
    "\n",
    "        if abs(delta_re_re) < delta_epsilon and \\\n",
    "           abs(delta_re_im) < delta_epsilon and \\\n",
    "           abs(delta_im_re) < delta_epsilon and \\\n",
    "           abs(delta_im_im) < delta_epsilon:\n",
    "            break\n",
    "\n",
    "    return xn_re, xn_im, f_re_new, f_im_new"
   ]
  },
  {
   "cell_type": "code",
   "execution_count": null,
   "metadata": {},
   "outputs": [],
   "source": []
  },
  {
   "cell_type": "raw",
   "metadata": {},
   "source": [
    "k_z_root = find_newton_complex_root(\n",
    "    M3_subs_det_re_d,\\\n",
    "    M3_subs_det_im_d,\\\n",
    "    M3_subs_det_re_div_diff_kz_d,\\\n",
    "    M3_subs_det_im_div_diff_kz_d,\\\n",
    "    M3_subs_det_re_div_diff_sz_d,\\\n",
    "    M3_subs_det_im_div_diff_sz_d,\\\n",
    "    xre = kz, xim = sz,\\\n",
    "    xn_re = kz_init_sigma0_d, xn_im = kz_init_im)"
   ]
  },
  {
   "cell_type": "markdown",
   "metadata": {},
   "source": [
    "инициализируем метод ньютона значениями найденными на глаз графическим методом"
   ]
  },
  {
   "cell_type": "code",
   "execution_count": 673,
   "metadata": {},
   "outputs": [
    {
     "name": "stdout",
     "output_type": "stream",
     "text": [
      "xre kz\n",
      "xim sz\n",
      "xn_re 1.10000000000000\n",
      "xn_im 1.10000000000000\n",
      "\n",
      "f_re_new =  5.31276894094191\n",
      "\n",
      "f_im_new =  -0.728133095247301\n",
      "\n",
      "re_d_re xn =  1.10000000000000 0.124000000000000 step =  0.950000000000000\n",
      "xn 1.10000000000000\n",
      "delta -0.0257945220715541\n",
      "f_abs_2_new 1.70837131688280\n",
      "f_new 0.208397314174192 -1.29032626739433\n",
      "\n",
      "im_d_re xn =  1.12450479596798 0.124000000000000 step =  0.950000000000000\n",
      "xn 1.12450479596798\n",
      "delta 0.0562268097894019\n",
      "f_abs_2_new 125.170010074950\n",
      "\n",
      "re_d_im xn =  1.12450479596798 0.124000000000000 step =  0.950000000000000\n",
      "xn 0.124000000000000\n",
      "delta 0.00908104906548643\n",
      "f_abs_2_new 0.277892598421427\n",
      "f_new 0.0175202691679462 0.526863965924516\n",
      "\n",
      "im_d_im xn =  1.12450479596798 0.115373003387788 step =  0.950000000000000\n",
      "xn 0.115373003387788\n",
      "delta -0.00250122912766135\n",
      "f_abs_2_new 0.00541059586017717\n",
      "f_new 0.0686772421439776 0.0263444922455272\n",
      "\n",
      "re_d_re xn =  1.12450479596798 0.117749171059066 step =  0.950000000000000\n",
      "xn 1.12450479596798\n",
      "delta -0.000326039404924242\n",
      "f_abs_2_new 0.000396118189440337\n",
      "f_new 0.00342470915683180 0.0196058551619522\n",
      "\n",
      "im_d_re xn =  1.12481453340265 0.117749171059066 step =  0.760000000000000\n",
      "xn 1.12481453340265\n",
      "delta -0.000901168401490155\n",
      "f_abs_2_new 0.0198822663069493\n",
      "\n",
      "re_d_im xn =  1.12481453340265 0.117749171059066 step =  0.950000000000000\n",
      "xn 0.117749171059066\n",
      "delta 0.000157414183208367\n",
      "f_abs_2_new 0.00261274001000450\n",
      "\n",
      "im_d_im xn =  1.12481453340265 0.117749171059066 step =  0.950000000000000\n",
      "xn 0.117749171059066\n",
      "delta -0.0000930510327908115\n",
      "f_abs_2_new 0.0000295690934106333\n",
      "f_new 0.00534865552154151 0.000980294610062105\n",
      "\n",
      "re_d_re xn =  1.12481453340265 0.117837569540217 step =  0.950000000000000\n",
      "xn 1.12481453340265\n",
      "delta -0.0000253851727056744\n",
      "f_abs_2_new 2.78716701602937e-7\n",
      "f_new 0.000267377289836002 0.000455220920524191\n",
      "\n",
      "im_d_re xn =  1.12483864931672 0.117837569540217 step =  0.608000000000000\n",
      "xn 1.12483864931672\n",
      "delta -0.0000209076667425034\n",
      "f_abs_2_new 5.84517709593626e-6\n",
      "\n",
      "re_d_im xn =  1.12483864931672 0.117837569540217 step =  0.760000000000000\n",
      "xn 0.117837569540217\n"
     ]
    },
    {
     "ename": "KeyboardInterrupt",
     "evalue": "",
     "output_type": "error",
     "traceback": [
      "\u001b[0;31m---------------------------------------------------------------------------\u001b[0m",
      "\u001b[0;31mKeyboardInterrupt\u001b[0m                         Traceback (most recent call last)",
      "\u001b[0;32m/usr3/articles/sagemath_docker_build/sage/local/lib/python3.9/site-packages/sage/categories/sets_cat.py\u001b[0m in \u001b[0;36mis_finite\u001b[0;34m(self)\u001b[0m\n\u001b[1;32m   1840\u001b[0m         \u001b[0;32mclass\u001b[0m \u001b[0mParentMethods\u001b[0m\u001b[0;34m:\u001b[0m\u001b[0;34m\u001b[0m\u001b[0;34m\u001b[0m\u001b[0m\n\u001b[1;32m   1841\u001b[0m \u001b[0;34m\u001b[0m\u001b[0m\n\u001b[0;32m-> 1842\u001b[0;31m             \u001b[0;32mdef\u001b[0m \u001b[0mis_finite\u001b[0m\u001b[0;34m(\u001b[0m\u001b[0mself\u001b[0m\u001b[0;34m)\u001b[0m\u001b[0;34m:\u001b[0m\u001b[0;34m\u001b[0m\u001b[0;34m\u001b[0m\u001b[0m\n\u001b[0m\u001b[1;32m   1843\u001b[0m                 \"\"\"\n\u001b[1;32m   1844\u001b[0m                 \u001b[0mReturn\u001b[0m \u001b[0mwhether\u001b[0m \u001b[0mthis\u001b[0m \u001b[0mset\u001b[0m \u001b[0;32mis\u001b[0m \u001b[0mfinite\u001b[0m\u001b[0;34m.\u001b[0m\u001b[0;34m\u001b[0m\u001b[0;34m\u001b[0m\u001b[0m\n",
      "\u001b[0;32msrc/cysignals/signals.pyx\u001b[0m in \u001b[0;36mcysignals.signals.python_check_interrupt\u001b[0;34m()\u001b[0m\n",
      "\u001b[0;31mKeyboardInterrupt\u001b[0m: "
     ]
    },
    {
     "name": "stderr",
     "output_type": "stream",
     "text": [
      "Exception ignored in: 'sage.libs.pynac.pynac.py_is_real'\n",
      "Traceback (most recent call last):\n",
      "  File \"/usr3/articles/sagemath_docker_build/sage/local/lib/python3.9/site-packages/sage/categories/sets_cat.py\", line 1842, in is_finite\n",
      "    def is_finite(self):\n",
      "  File \"src/cysignals/signals.pyx\", line 320, in cysignals.signals.python_check_interrupt\n",
      "KeyboardInterrupt: \n"
     ]
    },
    {
     "name": "stdout",
     "output_type": "stream",
     "text": [
      "delta 0.0000122802688068850\n",
      "f_abs_2_new 5.86888425829180e-6\n",
      "\n",
      "im_d_im xn =  1.12483864931672 0.117837569540217 step =  0.950000000000000\n",
      "xn 0.117837569540217\n",
      "delta -2.16046991030650e-6\n",
      "f_abs_2_new 9.79029040383518e-8\n",
      "f_new 0.000312065439894649 0.0000227610470258099\n",
      "\n",
      "re_d_re xn =  1.12483864931672 0.117839621986632 step =  0.950000000000000\n",
      "xn 1.12483864931672\n",
      "delta -1.48105670362668e-6\n",
      "f_abs_2_new 3.05457414405715e-10\n",
      "f_new 0.0000156030831178766 -7.87408481173202e-6\n",
      "\n",
      "im_d_re xn =  1.12484005632059 0.117839621986632 step =  0.486400000000000\n",
      "xn 1.12484005632059\n",
      "delta 3.61639298715410e-7\n",
      "f_abs_2_new 2.79009936335776e-9\n",
      "\n",
      "re_d_im xn =  1.12484005632059 0.117839621986632 step =  0.608000000000000\n",
      "xn 0.117839621986632\n",
      "delta 7.16615099157338e-7\n",
      "f_abs_2_new 7.08172904068870e-9\n",
      "\n",
      "im_d_im xn =  1.12484005632059 0.117839621986632 step =  0.950000000000000\n",
      "xn 0.117839621986632\n",
      "delta 3.73702105792017e-8\n",
      "f_abs_2_new 2.20086683155740e-10\n",
      "f_new 0.0000148300937330426 -3.93704235324144e-7\n",
      "\n",
      "re_d_re xn =  1.12484005632059 0.117839586484932 step =  0.950000000000000\n",
      "xn 1.12484005632059\n",
      "delta -7.03832560859739e-8\n",
      "f_abs_2_new 3.97068773423925e-12\n",
      "f_new 7.41504248225056e-7 -1.84955648308005e-6\n",
      "\n",
      "im_d_re xn =  1.12484012318469 0.117839586484932 step =  0.389120000000000\n",
      "xn 1.12484012318469\n",
      "delta 8.49460647840177e-8\n",
      "f_abs_2_new 6.06619040344850e-11\n",
      "\n",
      "re_d_im xn =  1.12484012318469 0.117839586484932 step =  0.486400000000000\n",
      "xn 0.117839586484932\n",
      "delta 3.40556596931874e-8\n",
      "f_abs_2_new 2.83693544026950e-12\n",
      "f_new 3.80836647551064e-7 1.64070073083167e-6\n",
      "\n",
      "im_d_im xn =  1.12484012318469 0.117839569920259 step =  0.950000000000000\n",
      "xn 0.117839569920259\n",
      "delta -7.78672443481586e-9\n",
      "f_abs_2_new 3.00387666929136e-13\n",
      "f_new 5.41902131889760e-7 8.20350314345575e-8\n",
      "\n",
      "re_d_re xn =  1.12484012318469 0.117839577317648 step =  0.950000000000000\n",
      "xn 1.12484012318469\n",
      "delta -2.57185395658555e-9\n",
      "f_abs_2_new 1.56572808320213e-15\n",
      "f_new 2.70951545644493e-8 2.88371406753640e-8\n",
      "\n",
      "im_d_re xn =  1.12484012562795 0.117839577317648 step =  0.311296000000000\n",
      "xn 1.12484012562795\n",
      "delta -1.32442642439086e-9\n",
      "f_abs_2_new 3.96760870931163e-15\n",
      "\n",
      "re_d_im xn =  1.12484012562795 0.117839577317648 step =  0.608000000000000\n",
      "xn 0.117839577317648\n",
      "delta 1.24442046960503e-9\n",
      "f_abs_2_new 3.55539126751876e-14\n",
      "\n",
      "im_d_im xn =  1.12484012562795 0.117839577317648 step =  0.950000000000000\n",
      "xn 0.117839577317648\n",
      "delta -1.36860325026073e-10\n",
      "f_abs_2_new 8.97643621038912e-16\n",
      "f_new 2.99259864666723e-8 1.44185818840015e-9\n",
      "\n",
      "re_d_re xn =  1.12484012562795 0.117839577447665 step =  0.950000000000000\n",
      "xn 1.12484012562795\n",
      "delta -1.42028324329340e-10\n",
      "f_abs_2_new 4.47651299401000e-18\n",
      "f_new 1.49622669809446e-9 -1.49593404330517e-9\n",
      "\n",
      "im_d_re xn =  1.12484012576287 0.117839577447665 step =  0.249036800000000\n",
      "xn 1.12484012576287\n",
      "delta 6.87048278009070e-11\n",
      "f_abs_2_new 2.72866976488142e-17\n",
      "\n",
      "re_d_im xn =  1.12484012576287 0.117839577447665 step =  0.486400000000000\n",
      "xn 0.117839577447665\n",
      "delta 6.87203184665734e-11\n",
      "f_abs_2_new 3.13593671214157e-17\n",
      "\n",
      "im_d_im xn =  1.12484012576287 0.117839577447665 step =  0.950000000000000\n",
      "xn 0.117839577447665\n",
      "delta 7.09965076211256e-12\n",
      "f_abs_2_new 1.82639412509994e-18\n",
      "f_new 1.34936994911072e-9 -7.47988337934657e-11\n",
      "\n",
      "re_d_re xn =  1.12484012576287 0.117839577440920 step =  0.950000000000000\n",
      "xn 1.12484012576287\n",
      "delta -6.40407677860602e-12\n",
      "f_abs_2_new 4.75148046942388e-20\n",
      "f_new 6.75682287898383e-11 -2.07242223382309e-10\n",
      "\n",
      "im_d_re xn =  1.12484012576896 0.117839577440920 step =  0.199229440000000\n",
      "xn 1.12484012576896\n",
      "delta 9.51924281313859e-12\n",
      "f_abs_2_new 2.45741071835599e-19\n",
      "\n",
      "re_d_im xn =  1.12484012576896 0.117839577440920 step =  0.389120000000000\n",
      "xn 0.117839577440920\n",
      "delta 3.10156869364936e-12\n",
      "f_abs_2_new 3.90908612632435e-21\n",
      "f_new 4.11928824384233e-11 4.70343763936398e-11\n",
      "\n",
      "im_d_im xn =  1.12484012576896 0.117839577439713 step =  0.950000000000000\n"
     ]
    },
    {
     "ename": "KeyboardInterrupt",
     "evalue": "",
     "output_type": "error",
     "traceback": [
      "\u001b[0;31m---------------------------------------------------------------------------\u001b[0m",
      "\u001b[0;31mKeyboardInterrupt\u001b[0m                         Traceback (most recent call last)",
      "\u001b[0;32m<ipython-input-673-263c8e64fe4f>\u001b[0m in \u001b[0;36m<module>\u001b[0;34m\u001b[0m\n\u001b[0;32m----> 1\u001b[0;31m k_z_root = find_newton_complex_root(\n\u001b[0m\u001b[1;32m      2\u001b[0m     M3_subs_det_re_d,    M3_subs_det_im_d,    M3_subs_det_re_div_diff_kz_d,    M3_subs_det_im_div_diff_kz_d,    M3_subs_det_re_div_diff_sz_d,    M3_subs_det_im_div_diff_sz_d,    xre = kz, xim = sz,    xn_re = RealNumber('1.1'), xn_im = RealNumber('0.124'))\n",
      "\u001b[0;32m<ipython-input-671-e77617076aff>\u001b[0m in \u001b[0;36mfind_newton_complex_root\u001b[0;34m(f_re, f_im, f_re_div_df_re, f_im_div_df_re, f_re_div_df_im, f_im_div_df_im, xre, xim, xn_re, xn_im)\u001b[0m\n\u001b[1;32m     86\u001b[0m         \u001b[0;32mtry\u001b[0m\u001b[0;34m:\u001b[0m\u001b[0;34m\u001b[0m\u001b[0;34m\u001b[0m\u001b[0m\n\u001b[1;32m     87\u001b[0m             \u001b[0mprint\u001b[0m\u001b[0;34m(\u001b[0m\u001b[0;34m\"\\nim_d_im xn = \"\u001b[0m\u001b[0;34m,\u001b[0m \u001b[0mxn_re\u001b[0m\u001b[0;34m,\u001b[0m \u001b[0mxn_im\u001b[0m\u001b[0;34m,\u001b[0m \u001b[0;34m\"step = \"\u001b[0m\u001b[0;34m,\u001b[0m \u001b[0mstep_im_im\u001b[0m\u001b[0;34m)\u001b[0m\u001b[0;34m\u001b[0m\u001b[0;34m\u001b[0m\u001b[0m\n\u001b[0;32m---> 88\u001b[0;31m             \u001b[0mxn_im_new\u001b[0m\u001b[0;34m,\u001b[0m \u001b[0mdelta_im_im\u001b[0m \u001b[0;34m=\u001b[0m \u001b[0mNewtonIt\u001b[0m\u001b[0;34m(\u001b[0m\u001b[0mf_im_div_df_im\u001b[0m\u001b[0;34m.\u001b[0m\u001b[0msubs\u001b[0m\u001b[0;34m(\u001b[0m\u001b[0mxre\u001b[0m \u001b[0;34m==\u001b[0m \u001b[0mxn_re\u001b[0m\u001b[0;34m)\u001b[0m\u001b[0;34m,\u001b[0m \u001b[0mxim\u001b[0m\u001b[0;34m,\u001b[0m \u001b[0mxn_im\u001b[0m\u001b[0;34m,\u001b[0m \u001b[0mstep_im_im\u001b[0m\u001b[0;34m)\u001b[0m\u001b[0;34m\u001b[0m\u001b[0;34m\u001b[0m\u001b[0m\n\u001b[0m\u001b[1;32m     89\u001b[0m             \u001b[0mf_re_new\u001b[0m \u001b[0;34m=\u001b[0m \u001b[0mf_re\u001b[0m\u001b[0;34m.\u001b[0m\u001b[0msubs\u001b[0m\u001b[0;34m(\u001b[0m\u001b[0mxre\u001b[0m \u001b[0;34m==\u001b[0m \u001b[0mxn_re\u001b[0m\u001b[0;34m)\u001b[0m\u001b[0;34m.\u001b[0m\u001b[0msubs\u001b[0m\u001b[0;34m(\u001b[0m\u001b[0mxim\u001b[0m \u001b[0;34m==\u001b[0m \u001b[0mxn_im_new\u001b[0m\u001b[0;34m)\u001b[0m\u001b[0;34m.\u001b[0m\u001b[0mn\u001b[0m\u001b[0;34m(\u001b[0m\u001b[0;34m)\u001b[0m\u001b[0;34m\u001b[0m\u001b[0;34m\u001b[0m\u001b[0m\n\u001b[1;32m     90\u001b[0m             \u001b[0mf_im_new\u001b[0m \u001b[0;34m=\u001b[0m \u001b[0mf_im\u001b[0m\u001b[0;34m.\u001b[0m\u001b[0msubs\u001b[0m\u001b[0;34m(\u001b[0m\u001b[0mxre\u001b[0m \u001b[0;34m==\u001b[0m \u001b[0mxn_re\u001b[0m\u001b[0;34m)\u001b[0m\u001b[0;34m.\u001b[0m\u001b[0msubs\u001b[0m\u001b[0;34m(\u001b[0m\u001b[0mxim\u001b[0m \u001b[0;34m==\u001b[0m \u001b[0mxn_im_new\u001b[0m\u001b[0;34m)\u001b[0m\u001b[0;34m.\u001b[0m\u001b[0mn\u001b[0m\u001b[0;34m(\u001b[0m\u001b[0;34m)\u001b[0m\u001b[0;34m\u001b[0m\u001b[0;34m\u001b[0m\u001b[0m\n",
      "\u001b[0;32m/usr3/articles/sagemath_docker_build/sage/local/lib/python3.9/site-packages/sage/symbolic/expression.pyx\u001b[0m in \u001b[0;36msage.symbolic.expression.Expression.substitute (build/cythonized/sage/symbolic/expression.cpp:32352)\u001b[0;34m()\u001b[0m\n\u001b[1;32m   5630\u001b[0m             smap.insert(make_pair((<Expression>self.coerce_in(k))._gobj,\n\u001b[1;32m   5631\u001b[0m                                   (<Expression>self.coerce_in(v))._gobj))\n\u001b[0;32m-> 5632\u001b[0;31m         \u001b[0mres\u001b[0m \u001b[0;34m=\u001b[0m \u001b[0mself\u001b[0m\u001b[0;34m.\u001b[0m\u001b[0m_gobj\u001b[0m\u001b[0;34m.\u001b[0m\u001b[0msubs_map\u001b[0m\u001b[0;34m(\u001b[0m\u001b[0msmap\u001b[0m\u001b[0;34m,\u001b[0m \u001b[0;36m0\u001b[0m\u001b[0;34m)\u001b[0m\u001b[0;34m\u001b[0m\u001b[0;34m\u001b[0m\u001b[0m\n\u001b[0m\u001b[1;32m   5633\u001b[0m         \u001b[0;32mreturn\u001b[0m \u001b[0mnew_Expression_from_GEx\u001b[0m\u001b[0;34m(\u001b[0m\u001b[0mself\u001b[0m\u001b[0;34m.\u001b[0m\u001b[0m_parent\u001b[0m\u001b[0;34m,\u001b[0m \u001b[0mres\u001b[0m\u001b[0;34m)\u001b[0m\u001b[0;34m\u001b[0m\u001b[0;34m\u001b[0m\u001b[0m\n\u001b[1;32m   5634\u001b[0m \u001b[0;34m\u001b[0m\u001b[0m\n",
      "\u001b[0;32m/usr3/articles/sagemath_docker_build/sage/local/lib/python3.9/site-packages/sage/rings/real_mpfr.pyx\u001b[0m in \u001b[0;36msage.rings.real_mpfr.RealNumber.__mul__ (build/cythonized/sage/rings/real_mpfr.c:18842)\u001b[0;34m()\u001b[0m\n\u001b[1;32m   2438\u001b[0m             \u001b[0;32mreturn\u001b[0m \u001b[0mright\u001b[0m\u001b[0;34m.\u001b[0m\u001b[0m__mul__\u001b[0m\u001b[0;34m(\u001b[0m\u001b[0mleft\u001b[0m\u001b[0;34m)\u001b[0m\u001b[0;34m\u001b[0m\u001b[0;34m\u001b[0m\u001b[0m\n\u001b[1;32m   2439\u001b[0m         \u001b[0;32melif\u001b[0m \u001b[0misinstance\u001b[0m\u001b[0;34m(\u001b[0m\u001b[0mleft\u001b[0m\u001b[0;34m,\u001b[0m \u001b[0mRealNumber\u001b[0m\u001b[0;34m)\u001b[0m\u001b[0;34m:\u001b[0m\u001b[0;34m\u001b[0m\u001b[0;34m\u001b[0m\u001b[0m\n\u001b[0;32m-> 2440\u001b[0;31m             \u001b[0;32mreturn\u001b[0m \u001b[0mElement\u001b[0m\u001b[0;34m.\u001b[0m\u001b[0m__mul__\u001b[0m\u001b[0;34m(\u001b[0m\u001b[0mleft\u001b[0m\u001b[0;34m,\u001b[0m \u001b[0mright\u001b[0m\u001b[0;34m)\u001b[0m\u001b[0;34m\u001b[0m\u001b[0;34m\u001b[0m\u001b[0m\n\u001b[0m\u001b[1;32m   2441\u001b[0m         \u001b[0;32melse\u001b[0m\u001b[0;34m:\u001b[0m\u001b[0;34m\u001b[0m\u001b[0;34m\u001b[0m\u001b[0m\n\u001b[1;32m   2442\u001b[0m             \u001b[0;32mreturn\u001b[0m \u001b[0mElement\u001b[0m\u001b[0;34m.\u001b[0m\u001b[0m__rmul__\u001b[0m\u001b[0;34m(\u001b[0m\u001b[0mright\u001b[0m\u001b[0;34m,\u001b[0m \u001b[0mleft\u001b[0m\u001b[0;34m)\u001b[0m\u001b[0;34m\u001b[0m\u001b[0;34m\u001b[0m\u001b[0m\n",
      "\u001b[0;32m/usr3/articles/sagemath_docker_build/sage/local/lib/python3.9/site-packages/sage/structure/element.pyx\u001b[0m in \u001b[0;36msage.structure.element.Element.__mul__ (build/cythonized/sage/structure/element.c:12204)\u001b[0;34m()\u001b[0m\n\u001b[1;32m   1513\u001b[0m             \u001b[0;32mreturn\u001b[0m \u001b[0;34m(\u001b[0m\u001b[0;34m<\u001b[0m\u001b[0mElement\u001b[0m\u001b[0;34m>\u001b[0m\u001b[0mleft\u001b[0m\u001b[0;34m)\u001b[0m\u001b[0;34m.\u001b[0m\u001b[0m_mul_\u001b[0m\u001b[0;34m(\u001b[0m\u001b[0mright\u001b[0m\u001b[0;34m)\u001b[0m\u001b[0;34m\u001b[0m\u001b[0;34m\u001b[0m\u001b[0m\n\u001b[1;32m   1514\u001b[0m         \u001b[0;32mif\u001b[0m \u001b[0mBOTH_ARE_ELEMENT\u001b[0m\u001b[0;34m(\u001b[0m\u001b[0mcl\u001b[0m\u001b[0;34m)\u001b[0m\u001b[0;34m:\u001b[0m\u001b[0;34m\u001b[0m\u001b[0;34m\u001b[0m\u001b[0m\n\u001b[0;32m-> 1515\u001b[0;31m             \u001b[0;32mreturn\u001b[0m \u001b[0mcoercion_model\u001b[0m\u001b[0;34m.\u001b[0m\u001b[0mbin_op\u001b[0m\u001b[0;34m(\u001b[0m\u001b[0mleft\u001b[0m\u001b[0;34m,\u001b[0m \u001b[0mright\u001b[0m\u001b[0;34m,\u001b[0m \u001b[0mmul\u001b[0m\u001b[0;34m)\u001b[0m\u001b[0;34m\u001b[0m\u001b[0;34m\u001b[0m\u001b[0m\n\u001b[0m\u001b[1;32m   1516\u001b[0m \u001b[0;34m\u001b[0m\u001b[0m\n\u001b[1;32m   1517\u001b[0m         \u001b[0mcdef\u001b[0m \u001b[0mlong\u001b[0m \u001b[0mvalue\u001b[0m\u001b[0;34m\u001b[0m\u001b[0;34m\u001b[0m\u001b[0m\n",
      "\u001b[0;32m/usr3/articles/sagemath_docker_build/sage/local/lib/python3.9/site-packages/sage/structure/coerce.pyx\u001b[0m in \u001b[0;36msage.structure.coerce.CoercionModel.bin_op (build/cythonized/sage/structure/coerce.c:10648)\u001b[0;34m()\u001b[0m\n\u001b[1;32m   1198\u001b[0m         \u001b[0;31m# Now coerce to a common parent and do the operation there\u001b[0m\u001b[0;34m\u001b[0m\u001b[0;34m\u001b[0m\u001b[0;34m\u001b[0m\u001b[0m\n\u001b[1;32m   1199\u001b[0m         \u001b[0;32mtry\u001b[0m\u001b[0;34m:\u001b[0m\u001b[0;34m\u001b[0m\u001b[0;34m\u001b[0m\u001b[0m\n\u001b[0;32m-> 1200\u001b[0;31m             \u001b[0mxy\u001b[0m \u001b[0;34m=\u001b[0m \u001b[0mself\u001b[0m\u001b[0;34m.\u001b[0m\u001b[0mcanonical_coercion\u001b[0m\u001b[0;34m(\u001b[0m\u001b[0mx\u001b[0m\u001b[0;34m,\u001b[0m \u001b[0my\u001b[0m\u001b[0;34m)\u001b[0m\u001b[0;34m\u001b[0m\u001b[0;34m\u001b[0m\u001b[0m\n\u001b[0m\u001b[1;32m   1201\u001b[0m         \u001b[0;32mexcept\u001b[0m \u001b[0mTypeError\u001b[0m\u001b[0;34m:\u001b[0m\u001b[0;34m\u001b[0m\u001b[0;34m\u001b[0m\u001b[0m\n\u001b[1;32m   1202\u001b[0m             \u001b[0mself\u001b[0m\u001b[0;34m.\u001b[0m\u001b[0m_record_exception\u001b[0m\u001b[0;34m(\u001b[0m\u001b[0;34m)\u001b[0m\u001b[0;34m\u001b[0m\u001b[0;34m\u001b[0m\u001b[0m\n",
      "\u001b[0;32m/usr3/articles/sagemath_docker_build/sage/local/lib/python3.9/site-packages/sage/structure/coerce.pyx\u001b[0m in \u001b[0;36msage.structure.coerce.CoercionModel.canonical_coercion (build/cythonized/sage/structure/coerce.c:12172)\u001b[0;34m()\u001b[0m\n\u001b[1;32m   1313\u001b[0m                 \u001b[0mx_elt\u001b[0m \u001b[0;34m=\u001b[0m \u001b[0mx\u001b[0m\u001b[0;34m\u001b[0m\u001b[0;34m\u001b[0m\u001b[0m\n\u001b[1;32m   1314\u001b[0m             \u001b[0;32mif\u001b[0m \u001b[0my_map\u001b[0m \u001b[0;32mis\u001b[0m \u001b[0;32mnot\u001b[0m \u001b[0;32mNone\u001b[0m\u001b[0;34m:\u001b[0m\u001b[0;34m\u001b[0m\u001b[0;34m\u001b[0m\u001b[0m\n\u001b[0;32m-> 1315\u001b[0;31m                 \u001b[0my_elt\u001b[0m \u001b[0;34m=\u001b[0m \u001b[0;34m(\u001b[0m\u001b[0;34m<\u001b[0m\u001b[0mMap\u001b[0m\u001b[0;34m>\u001b[0m\u001b[0my_map\u001b[0m\u001b[0;34m)\u001b[0m\u001b[0;34m.\u001b[0m\u001b[0m_call_\u001b[0m\u001b[0;34m(\u001b[0m\u001b[0my\u001b[0m\u001b[0;34m)\u001b[0m\u001b[0;34m\u001b[0m\u001b[0;34m\u001b[0m\u001b[0m\n\u001b[0m\u001b[1;32m   1316\u001b[0m             \u001b[0;32melse\u001b[0m\u001b[0;34m:\u001b[0m\u001b[0;34m\u001b[0m\u001b[0;34m\u001b[0m\u001b[0m\n\u001b[1;32m   1317\u001b[0m                 \u001b[0my_elt\u001b[0m \u001b[0;34m=\u001b[0m \u001b[0my\u001b[0m\u001b[0;34m\u001b[0m\u001b[0;34m\u001b[0m\u001b[0m\n",
      "\u001b[0;32m/usr3/articles/sagemath_docker_build/sage/local/lib/python3.9/site-packages/sage/categories/map.pyx\u001b[0m in \u001b[0;36msage.categories.map.FormalCompositeMap._call_ (build/cythonized/sage/categories/map.c:11818)\u001b[0;34m()\u001b[0m\n\u001b[1;32m   1692\u001b[0m         \"\"\"\n\u001b[1;32m   1693\u001b[0m         \u001b[0;32mfor\u001b[0m \u001b[0mf\u001b[0m \u001b[0;32min\u001b[0m \u001b[0mself\u001b[0m\u001b[0;34m.\u001b[0m\u001b[0m__list\u001b[0m\u001b[0;34m:\u001b[0m\u001b[0;34m\u001b[0m\u001b[0;34m\u001b[0m\u001b[0m\n\u001b[0;32m-> 1694\u001b[0;31m             \u001b[0mx\u001b[0m \u001b[0;34m=\u001b[0m \u001b[0mf\u001b[0m\u001b[0;34m.\u001b[0m\u001b[0m_call_\u001b[0m\u001b[0;34m(\u001b[0m\u001b[0mx\u001b[0m\u001b[0;34m)\u001b[0m\u001b[0;34m\u001b[0m\u001b[0;34m\u001b[0m\u001b[0m\n\u001b[0m\u001b[1;32m   1695\u001b[0m         \u001b[0;32mreturn\u001b[0m \u001b[0mx\u001b[0m\u001b[0;34m\u001b[0m\u001b[0;34m\u001b[0m\u001b[0m\n\u001b[1;32m   1696\u001b[0m \u001b[0;34m\u001b[0m\u001b[0m\n",
      "\u001b[0;32m/usr3/articles/sagemath_docker_build/sage/local/lib/python3.9/site-packages/sage/structure/coerce_maps.pyx\u001b[0m in \u001b[0;36msage.structure.coerce_maps.DefaultConvertMap_unique._call_ (build/cythonized/sage/structure/coerce_maps.c:4694)\u001b[0;34m()\u001b[0m\n\u001b[1;32m    151\u001b[0m     argument is assumed to be bound to the codomain).\n\u001b[1;32m    152\u001b[0m     \"\"\"\n\u001b[0;32m--> 153\u001b[0;31m     \u001b[0mcpdef\u001b[0m \u001b[0mElement\u001b[0m \u001b[0m_call_\u001b[0m\u001b[0;34m(\u001b[0m\u001b[0mself\u001b[0m\u001b[0;34m,\u001b[0m \u001b[0mx\u001b[0m\u001b[0;34m)\u001b[0m\u001b[0;34m:\u001b[0m\u001b[0;34m\u001b[0m\u001b[0;34m\u001b[0m\u001b[0m\n\u001b[0m\u001b[1;32m    154\u001b[0m         \u001b[0mcdef\u001b[0m \u001b[0mParent\u001b[0m \u001b[0mC\u001b[0m \u001b[0;34m=\u001b[0m \u001b[0mself\u001b[0m\u001b[0;34m.\u001b[0m\u001b[0m_codomain\u001b[0m\u001b[0;34m\u001b[0m\u001b[0;34m\u001b[0m\u001b[0m\n\u001b[1;32m    155\u001b[0m         \u001b[0;32mtry\u001b[0m\u001b[0;34m:\u001b[0m\u001b[0;34m\u001b[0m\u001b[0;34m\u001b[0m\u001b[0m\n",
      "\u001b[0;32m/usr3/articles/sagemath_docker_build/sage/local/lib/python3.9/site-packages/sage/structure/coerce_maps.pyx\u001b[0m in \u001b[0;36msage.structure.coerce_maps.DefaultConvertMap_unique._call_ (build/cythonized/sage/structure/coerce_maps.c:4514)\u001b[0;34m()\u001b[0m\n\u001b[1;32m    154\u001b[0m         \u001b[0mcdef\u001b[0m \u001b[0mParent\u001b[0m \u001b[0mC\u001b[0m \u001b[0;34m=\u001b[0m \u001b[0mself\u001b[0m\u001b[0;34m.\u001b[0m\u001b[0m_codomain\u001b[0m\u001b[0;34m\u001b[0m\u001b[0;34m\u001b[0m\u001b[0m\n\u001b[1;32m    155\u001b[0m         \u001b[0;32mtry\u001b[0m\u001b[0;34m:\u001b[0m\u001b[0;34m\u001b[0m\u001b[0;34m\u001b[0m\u001b[0m\n\u001b[0;32m--> 156\u001b[0;31m             \u001b[0;32mreturn\u001b[0m \u001b[0mC\u001b[0m\u001b[0;34m.\u001b[0m\u001b[0m_element_constructor\u001b[0m\u001b[0;34m(\u001b[0m\u001b[0mx\u001b[0m\u001b[0;34m)\u001b[0m\u001b[0;34m\u001b[0m\u001b[0;34m\u001b[0m\u001b[0m\n\u001b[0m\u001b[1;32m    157\u001b[0m         \u001b[0;32mexcept\u001b[0m \u001b[0mException\u001b[0m\u001b[0;34m:\u001b[0m\u001b[0;34m\u001b[0m\u001b[0;34m\u001b[0m\u001b[0m\n\u001b[1;32m    158\u001b[0m             \u001b[0;32mif\u001b[0m \u001b[0mprint_warnings\u001b[0m\u001b[0;34m:\u001b[0m\u001b[0;34m\u001b[0m\u001b[0;34m\u001b[0m\u001b[0m\n",
      "\u001b[0;32m/usr3/articles/sagemath_docker_build/sage/local/lib/python3.9/site-packages/sage/rings/complex_mpfr.pyx\u001b[0m in \u001b[0;36msage.rings.complex_mpfr.ComplexField_class._element_constructor_ (build/cythonized/sage/rings/complex_mpfr.c:7591)\u001b[0;34m()\u001b[0m\n\u001b[1;32m    510\u001b[0m                 \u001b[0;32mpass\u001b[0m\u001b[0;34m\u001b[0m\u001b[0;34m\u001b[0m\u001b[0m\n\u001b[1;32m    511\u001b[0m             \u001b[0;32mtry\u001b[0m\u001b[0;34m:\u001b[0m\u001b[0;34m\u001b[0m\u001b[0;34m\u001b[0m\u001b[0m\n\u001b[0;32m--> 512\u001b[0;31m                 \u001b[0;32mreturn\u001b[0m \u001b[0mx\u001b[0m\u001b[0;34m.\u001b[0m\u001b[0m_complex_mpfr_field_\u001b[0m\u001b[0;34m(\u001b[0m \u001b[0mself\u001b[0m \u001b[0;34m)\u001b[0m\u001b[0;34m\u001b[0m\u001b[0;34m\u001b[0m\u001b[0m\n\u001b[0m\u001b[1;32m    513\u001b[0m             \u001b[0;32mexcept\u001b[0m \u001b[0mAttributeError\u001b[0m\u001b[0;34m:\u001b[0m\u001b[0;34m\u001b[0m\u001b[0;34m\u001b[0m\u001b[0m\n\u001b[1;32m    514\u001b[0m                 \u001b[0;32mpass\u001b[0m\u001b[0;34m\u001b[0m\u001b[0;34m\u001b[0m\u001b[0m\n",
      "\u001b[0;32m/usr3/articles/sagemath_docker_build/sage/local/lib/python3.9/site-packages/sage/rings/real_lazy.pyx\u001b[0m in \u001b[0;36msage.rings.real_lazy.LazyFieldElement._generic_ (build/cythonized/sage/rings/real_lazy.c:9975)\u001b[0;34m()\u001b[0m\n\u001b[1;32m    796\u001b[0m             \u001b[0;36m0.444444444444444\u001b[0m\u001b[0;34m\u001b[0m\u001b[0;34m\u001b[0m\u001b[0m\n\u001b[1;32m    797\u001b[0m         \"\"\"\n\u001b[0;32m--> 798\u001b[0;31m         \u001b[0;32mreturn\u001b[0m \u001b[0mself\u001b[0m\u001b[0;34m.\u001b[0m\u001b[0meval\u001b[0m\u001b[0;34m(\u001b[0m\u001b[0mR\u001b[0m\u001b[0;34m)\u001b[0m\u001b[0;34m\u001b[0m\u001b[0;34m\u001b[0m\u001b[0m\n\u001b[0m\u001b[1;32m    799\u001b[0m \u001b[0;34m\u001b[0m\u001b[0m\n\u001b[1;32m    800\u001b[0m     \u001b[0m_real_mpfi_\u001b[0m \u001b[0;34m=\u001b[0m \u001b[0m_complex_mpfi_\u001b[0m \u001b[0;34m=\u001b[0m\u001b[0m_mpfr_\u001b[0m \u001b[0;34m=\u001b[0m \u001b[0m_complex_mpfr_field_\u001b[0m \u001b[0;34m=\u001b[0m \u001b[0m_generic_\u001b[0m\u001b[0;34m\u001b[0m\u001b[0;34m\u001b[0m\u001b[0m\n",
      "\u001b[0;32m/usr3/articles/sagemath_docker_build/sage/local/lib/python3.9/site-packages/sage/rings/real_lazy.pyx\u001b[0m in \u001b[0;36msage.rings.real_lazy.LazyBinop.eval (build/cythonized/sage/rings/real_lazy.c:12996)\u001b[0;34m()\u001b[0m\n\u001b[1;32m   1117\u001b[0m             \u001b[0;34m'68'\u001b[0m\u001b[0;34m\u001b[0m\u001b[0;34m\u001b[0m\u001b[0m\n\u001b[1;32m   1118\u001b[0m         \"\"\"\n\u001b[0;32m-> 1119\u001b[0;31m         \u001b[0mleft\u001b[0m \u001b[0;34m=\u001b[0m \u001b[0mself\u001b[0m\u001b[0;34m.\u001b[0m\u001b[0m_left\u001b[0m\u001b[0;34m.\u001b[0m\u001b[0meval\u001b[0m\u001b[0;34m(\u001b[0m\u001b[0mR\u001b[0m\u001b[0;34m)\u001b[0m\u001b[0;34m\u001b[0m\u001b[0;34m\u001b[0m\u001b[0m\n\u001b[0m\u001b[1;32m   1120\u001b[0m         \u001b[0mright\u001b[0m \u001b[0;34m=\u001b[0m \u001b[0mself\u001b[0m\u001b[0;34m.\u001b[0m\u001b[0m_right\u001b[0m\u001b[0;34m.\u001b[0m\u001b[0meval\u001b[0m\u001b[0;34m(\u001b[0m\u001b[0mR\u001b[0m\u001b[0;34m)\u001b[0m\u001b[0;34m\u001b[0m\u001b[0;34m\u001b[0m\u001b[0m\n\u001b[1;32m   1121\u001b[0m         \u001b[0;32mif\u001b[0m \u001b[0mself\u001b[0m\u001b[0;34m.\u001b[0m\u001b[0m_op\u001b[0m \u001b[0;32mis\u001b[0m \u001b[0madd\u001b[0m\u001b[0;34m:\u001b[0m\u001b[0;34m\u001b[0m\u001b[0;34m\u001b[0m\u001b[0m\n",
      "\u001b[0;32m/usr3/articles/sagemath_docker_build/sage/local/lib/python3.9/site-packages/sage/rings/real_lazy.pyx\u001b[0m in \u001b[0;36msage.rings.real_lazy.LazyBinop.eval (build/cythonized/sage/rings/real_lazy.c:12996)\u001b[0;34m()\u001b[0m\n\u001b[1;32m   1117\u001b[0m             \u001b[0;34m'68'\u001b[0m\u001b[0;34m\u001b[0m\u001b[0;34m\u001b[0m\u001b[0m\n\u001b[1;32m   1118\u001b[0m         \"\"\"\n\u001b[0;32m-> 1119\u001b[0;31m         \u001b[0mleft\u001b[0m \u001b[0;34m=\u001b[0m \u001b[0mself\u001b[0m\u001b[0;34m.\u001b[0m\u001b[0m_left\u001b[0m\u001b[0;34m.\u001b[0m\u001b[0meval\u001b[0m\u001b[0;34m(\u001b[0m\u001b[0mR\u001b[0m\u001b[0;34m)\u001b[0m\u001b[0;34m\u001b[0m\u001b[0;34m\u001b[0m\u001b[0m\n\u001b[0m\u001b[1;32m   1120\u001b[0m         \u001b[0mright\u001b[0m \u001b[0;34m=\u001b[0m \u001b[0mself\u001b[0m\u001b[0;34m.\u001b[0m\u001b[0m_right\u001b[0m\u001b[0;34m.\u001b[0m\u001b[0meval\u001b[0m\u001b[0;34m(\u001b[0m\u001b[0mR\u001b[0m\u001b[0;34m)\u001b[0m\u001b[0;34m\u001b[0m\u001b[0;34m\u001b[0m\u001b[0m\n\u001b[1;32m   1121\u001b[0m         \u001b[0;32mif\u001b[0m \u001b[0mself\u001b[0m\u001b[0;34m.\u001b[0m\u001b[0m_op\u001b[0m \u001b[0;32mis\u001b[0m \u001b[0madd\u001b[0m\u001b[0;34m:\u001b[0m\u001b[0;34m\u001b[0m\u001b[0;34m\u001b[0m\u001b[0m\n",
      "\u001b[0;32m/usr3/articles/sagemath_docker_build/sage/local/lib/python3.9/site-packages/sage/rings/real_lazy.pyx\u001b[0m in \u001b[0;36msage.rings.real_lazy.LazyWrapper.eval (build/cythonized/sage/rings/real_lazy.c:11834)\u001b[0;34m()\u001b[0m\n\u001b[1;32m   1015\u001b[0m         \"\"\"\n\u001b[1;32m   1016\u001b[0m         \u001b[0;32mtry\u001b[0m\u001b[0;34m:\u001b[0m\u001b[0;34m\u001b[0m\u001b[0;34m\u001b[0m\u001b[0m\n\u001b[0;32m-> 1017\u001b[0;31m             \u001b[0mmor\u001b[0m \u001b[0;34m=\u001b[0m \u001b[0mR\u001b[0m\u001b[0;34m.\u001b[0m\u001b[0mconvert_map_from\u001b[0m\u001b[0;34m(\u001b[0m\u001b[0mparent\u001b[0m\u001b[0;34m(\u001b[0m\u001b[0mself\u001b[0m\u001b[0;34m.\u001b[0m\u001b[0m_value\u001b[0m\u001b[0;34m)\u001b[0m\u001b[0;34m)\u001b[0m\u001b[0;34m\u001b[0m\u001b[0;34m\u001b[0m\u001b[0m\n\u001b[0m\u001b[1;32m   1018\u001b[0m         \u001b[0;32mexcept\u001b[0m \u001b[0mAttributeError\u001b[0m\u001b[0;34m:\u001b[0m\u001b[0;34m\u001b[0m\u001b[0;34m\u001b[0m\u001b[0m\n\u001b[1;32m   1019\u001b[0m             \u001b[0;32mreturn\u001b[0m \u001b[0mR\u001b[0m\u001b[0;34m(\u001b[0m\u001b[0mself\u001b[0m\u001b[0;34m.\u001b[0m\u001b[0m_value\u001b[0m\u001b[0;34m)\u001b[0m\u001b[0;34m\u001b[0m\u001b[0;34m\u001b[0m\u001b[0m\n",
      "\u001b[0;32m/usr3/articles/sagemath_docker_build/sage/local/lib/python3.9/site-packages/sage/structure/parent.pyx\u001b[0m in \u001b[0;36msage.structure.parent.Parent.convert_map_from (build/cythonized/sage/structure/parent.c:19426)\u001b[0;34m()\u001b[0m\n\u001b[1;32m   2407\u001b[0m                 \u001b[0;32mreturn\u001b[0m \u001b[0;34m(\u001b[0m\u001b[0;34m<\u001b[0m\u001b[0mParent\u001b[0m\u001b[0;34m>\u001b[0m\u001b[0mS\u001b[0m\u001b[0;34m)\u001b[0m\u001b[0;34m.\u001b[0m\u001b[0m_embedding\u001b[0m\u001b[0;34m.\u001b[0m\u001b[0mpost_compose\u001b[0m\u001b[0;34m(\u001b[0m\u001b[0mconnecting\u001b[0m\u001b[0;34m)\u001b[0m\u001b[0;34m\u001b[0m\u001b[0;34m\u001b[0m\u001b[0m\n\u001b[1;32m   2408\u001b[0m \u001b[0;34m\u001b[0m\u001b[0m\n\u001b[0;32m-> 2409\u001b[0;31m     \u001b[0mcpdef\u001b[0m \u001b[0mconvert_map_from\u001b[0m\u001b[0;34m(\u001b[0m\u001b[0mself\u001b[0m\u001b[0;34m,\u001b[0m \u001b[0mS\u001b[0m\u001b[0;34m)\u001b[0m\u001b[0;34m:\u001b[0m\u001b[0;34m\u001b[0m\u001b[0;34m\u001b[0m\u001b[0m\n\u001b[0m\u001b[1;32m   2410\u001b[0m         \"\"\"\n\u001b[1;32m   2411\u001b[0m         \u001b[0mThis\u001b[0m \u001b[0mfunction\u001b[0m \u001b[0mreturns\u001b[0m \u001b[0ma\u001b[0m \u001b[0;34m:\u001b[0m\u001b[0;32mclass\u001b[0m\u001b[0;34m:\u001b[0m\u001b[0;31m`\u001b[0m\u001b[0mMap\u001b[0m\u001b[0;31m`\u001b[0m \u001b[0;32mfrom\u001b[0m\u001b[0;31m \u001b[0m\u001b[0;31m`\u001b[0m\u001b[0mS\u001b[0m\u001b[0;31m`\u001b[0m \u001b[0mto\u001b[0m\u001b[0;31m \u001b[0m\u001b[0;31m`\u001b[0m\u001b[0mself\u001b[0m\u001b[0;31m`\u001b[0m\u001b[0;34m,\u001b[0m\u001b[0;34m\u001b[0m\u001b[0;34m\u001b[0m\u001b[0m\n",
      "\u001b[0;32m/usr3/articles/sagemath_docker_build/sage/local/lib/python3.9/site-packages/sage/structure/parent.pyx\u001b[0m in \u001b[0;36msage.structure.parent.Parent.convert_map_from (build/cythonized/sage/structure/parent.c:19374)\u001b[0;34m()\u001b[0m\n\u001b[1;32m   2431\u001b[0m             \u001b[0mInteger\u001b[0m \u001b[0mRing\u001b[0m\u001b[0;34m\u001b[0m\u001b[0;34m\u001b[0m\u001b[0m\n\u001b[1;32m   2432\u001b[0m         \"\"\"\n\u001b[0;32m-> 2433\u001b[0;31m         \u001b[0;32mreturn\u001b[0m \u001b[0mcopy\u001b[0m\u001b[0;34m(\u001b[0m\u001b[0mself\u001b[0m\u001b[0;34m.\u001b[0m\u001b[0m_internal_convert_map_from\u001b[0m\u001b[0;34m(\u001b[0m\u001b[0mS\u001b[0m\u001b[0;34m)\u001b[0m\u001b[0;34m)\u001b[0m\u001b[0;34m\u001b[0m\u001b[0;34m\u001b[0m\u001b[0m\n\u001b[0m\u001b[1;32m   2434\u001b[0m \u001b[0;34m\u001b[0m\u001b[0m\n\u001b[1;32m   2435\u001b[0m     \u001b[0mcpdef\u001b[0m \u001b[0m_internal_convert_map_from\u001b[0m\u001b[0;34m(\u001b[0m\u001b[0mself\u001b[0m\u001b[0;34m,\u001b[0m \u001b[0mS\u001b[0m\u001b[0;34m)\u001b[0m\u001b[0;34m:\u001b[0m\u001b[0;34m\u001b[0m\u001b[0;34m\u001b[0m\u001b[0m\n",
      "\u001b[0;32m/usr3/articles/sagemath_docker_build/sage/local/lib/python3.9/copy.py\u001b[0m in \u001b[0;36mcopy\u001b[0;34m(x)\u001b[0m\n\u001b[1;32m     82\u001b[0m     \u001b[0mcopier\u001b[0m \u001b[0;34m=\u001b[0m \u001b[0mgetattr\u001b[0m\u001b[0;34m(\u001b[0m\u001b[0mcls\u001b[0m\u001b[0;34m,\u001b[0m \u001b[0;34m\"__copy__\"\u001b[0m\u001b[0;34m,\u001b[0m \u001b[0;32mNone\u001b[0m\u001b[0;34m)\u001b[0m\u001b[0;34m\u001b[0m\u001b[0;34m\u001b[0m\u001b[0m\n\u001b[1;32m     83\u001b[0m     \u001b[0;32mif\u001b[0m \u001b[0mcopier\u001b[0m \u001b[0;32mis\u001b[0m \u001b[0;32mnot\u001b[0m \u001b[0;32mNone\u001b[0m\u001b[0;34m:\u001b[0m\u001b[0;34m\u001b[0m\u001b[0;34m\u001b[0m\u001b[0m\n\u001b[0;32m---> 84\u001b[0;31m         \u001b[0;32mreturn\u001b[0m \u001b[0mcopier\u001b[0m\u001b[0;34m(\u001b[0m\u001b[0mx\u001b[0m\u001b[0;34m)\u001b[0m\u001b[0;34m\u001b[0m\u001b[0;34m\u001b[0m\u001b[0m\n\u001b[0m\u001b[1;32m     85\u001b[0m \u001b[0;34m\u001b[0m\u001b[0m\n\u001b[1;32m     86\u001b[0m     \u001b[0mreductor\u001b[0m \u001b[0;34m=\u001b[0m \u001b[0mdispatch_table\u001b[0m\u001b[0;34m.\u001b[0m\u001b[0mget\u001b[0m\u001b[0;34m(\u001b[0m\u001b[0mcls\u001b[0m\u001b[0;34m)\u001b[0m\u001b[0;34m\u001b[0m\u001b[0;34m\u001b[0m\u001b[0m\n",
      "\u001b[0;32m/usr3/articles/sagemath_docker_build/sage/local/lib/python3.9/site-packages/sage/categories/map.pyx\u001b[0m in \u001b[0;36msage.categories.map.FormalCompositeMap.__copy__ (build/cythonized/sage/categories/map.c:11238)\u001b[0;34m()\u001b[0m\n\u001b[1;32m   1543\u001b[0m                       \u001b[0mTo\u001b[0m\u001b[0;34m:\u001b[0m   \u001b[0mMultivariate\u001b[0m \u001b[0mPolynomial\u001b[0m \u001b[0mRing\u001b[0m \u001b[0;32min\u001b[0m \u001b[0mq\u001b[0m\u001b[0;34m,\u001b[0m \u001b[0mt\u001b[0m \u001b[0mover\u001b[0m \u001b[0mRational\u001b[0m \u001b[0mField\u001b[0m\u001b[0;34m\u001b[0m\u001b[0;34m\u001b[0m\u001b[0m\n\u001b[1;32m   1544\u001b[0m         \"\"\"\n\u001b[0;32m-> 1545\u001b[0;31m         \u001b[0;32mreturn\u001b[0m \u001b[0mFormalCompositeMap\u001b[0m\u001b[0;34m(\u001b[0m\u001b[0mself\u001b[0m\u001b[0;34m.\u001b[0m\u001b[0mparent\u001b[0m\u001b[0;34m(\u001b[0m\u001b[0;34m)\u001b[0m\u001b[0;34m,\u001b[0m \u001b[0;34m[\u001b[0m\u001b[0mf\u001b[0m\u001b[0;34m.\u001b[0m\u001b[0m__copy__\u001b[0m\u001b[0;34m(\u001b[0m\u001b[0;34m)\u001b[0m \u001b[0;32mfor\u001b[0m \u001b[0mf\u001b[0m \u001b[0;32min\u001b[0m \u001b[0mself\u001b[0m\u001b[0;34m.\u001b[0m\u001b[0m__list\u001b[0m\u001b[0;34m]\u001b[0m\u001b[0;34m)\u001b[0m\u001b[0;34m\u001b[0m\u001b[0;34m\u001b[0m\u001b[0m\n\u001b[0m\u001b[1;32m   1546\u001b[0m \u001b[0;34m\u001b[0m\u001b[0m\n\u001b[1;32m   1547\u001b[0m     \u001b[0mcdef\u001b[0m \u001b[0m_update_slots\u001b[0m\u001b[0;34m(\u001b[0m\u001b[0mself\u001b[0m\u001b[0;34m,\u001b[0m \u001b[0mdict\u001b[0m \u001b[0m_slots\u001b[0m\u001b[0;34m)\u001b[0m\u001b[0;34m:\u001b[0m\u001b[0;34m\u001b[0m\u001b[0;34m\u001b[0m\u001b[0m\n",
      "\u001b[0;32m/usr3/articles/sagemath_docker_build/sage/local/lib/python3.9/site-packages/sage/categories/map.pyx\u001b[0m in \u001b[0;36msage.categories.map.FormalCompositeMap.__init__ (build/cythonized/sage/categories/map.c:10841)\u001b[0;34m()\u001b[0m\n\u001b[1;32m   1504\u001b[0m             \u001b[0;34m(\u001b[0m\u001b[0;36m2\u001b[0m\u001b[0;34m*\u001b[0m\u001b[0mx\u001b[0m\u001b[0;34m,\u001b[0m \u001b[0;36m2\u001b[0m\u001b[0;34m*\u001b[0m\u001b[0my\u001b[0m\u001b[0;34m)\u001b[0m\u001b[0;34m\u001b[0m\u001b[0;34m\u001b[0m\u001b[0m\n\u001b[1;32m   1505\u001b[0m         \"\"\"\n\u001b[0;32m-> 1506\u001b[0;31m         \u001b[0mMap\u001b[0m\u001b[0;34m.\u001b[0m\u001b[0m__init__\u001b[0m\u001b[0;34m(\u001b[0m\u001b[0mself\u001b[0m\u001b[0;34m,\u001b[0m \u001b[0mparent\u001b[0m\u001b[0;34m)\u001b[0m\u001b[0;34m\u001b[0m\u001b[0;34m\u001b[0m\u001b[0m\n\u001b[0m\u001b[1;32m   1507\u001b[0m \u001b[0;34m\u001b[0m\u001b[0m\n\u001b[1;32m   1508\u001b[0m         \u001b[0;32mif\u001b[0m \u001b[0misinstance\u001b[0m\u001b[0;34m(\u001b[0m\u001b[0mfirst\u001b[0m\u001b[0;34m,\u001b[0m \u001b[0;34m(\u001b[0m\u001b[0mlist\u001b[0m\u001b[0;34m,\u001b[0m \u001b[0mtuple\u001b[0m\u001b[0;34m)\u001b[0m\u001b[0;34m)\u001b[0m\u001b[0;34m:\u001b[0m\u001b[0;34m\u001b[0m\u001b[0;34m\u001b[0m\u001b[0m\n",
      "\u001b[0;32m/usr3/articles/sagemath_docker_build/sage/local/lib/python3.9/site-packages/sage/categories/map.pyx\u001b[0m in \u001b[0;36msage.categories.map.Map.__init__ (build/cythonized/sage/categories/map.c:3742)\u001b[0;34m()\u001b[0m\n\u001b[1;32m    127\u001b[0m             \u001b[0;32mraise\u001b[0m \u001b[0mTypeError\u001b[0m\u001b[0;34m(\u001b[0m\u001b[0;34m\"parent (=%s) must be a Homspace\"\u001b[0m \u001b[0;34m%\u001b[0m \u001b[0mparent\u001b[0m\u001b[0;34m)\u001b[0m\u001b[0;34m\u001b[0m\u001b[0;34m\u001b[0m\u001b[0m\n\u001b[1;32m    128\u001b[0m         \u001b[0mElement\u001b[0m\u001b[0;34m.\u001b[0m\u001b[0m__init__\u001b[0m\u001b[0;34m(\u001b[0m\u001b[0mself\u001b[0m\u001b[0;34m,\u001b[0m \u001b[0mparent\u001b[0m\u001b[0;34m)\u001b[0m\u001b[0;34m\u001b[0m\u001b[0;34m\u001b[0m\u001b[0m\n\u001b[0;32m--> 129\u001b[0;31m         \u001b[0mD\u001b[0m \u001b[0;34m=\u001b[0m \u001b[0mparent\u001b[0m\u001b[0;34m.\u001b[0m\u001b[0mdomain\u001b[0m\u001b[0;34m(\u001b[0m\u001b[0;34m)\u001b[0m\u001b[0;34m\u001b[0m\u001b[0;34m\u001b[0m\u001b[0m\n\u001b[0m\u001b[1;32m    130\u001b[0m         \u001b[0mC\u001b[0m \u001b[0;34m=\u001b[0m \u001b[0mparent\u001b[0m\u001b[0;34m.\u001b[0m\u001b[0mcodomain\u001b[0m\u001b[0;34m(\u001b[0m\u001b[0;34m)\u001b[0m\u001b[0;34m\u001b[0m\u001b[0;34m\u001b[0m\u001b[0m\n\u001b[1;32m    131\u001b[0m         \u001b[0mself\u001b[0m\u001b[0;34m.\u001b[0m\u001b[0m_category_for\u001b[0m \u001b[0;34m=\u001b[0m \u001b[0mparent\u001b[0m\u001b[0;34m.\u001b[0m\u001b[0mhomset_category\u001b[0m\u001b[0;34m(\u001b[0m\u001b[0;34m)\u001b[0m\u001b[0;34m\u001b[0m\u001b[0;34m\u001b[0m\u001b[0m\n",
      "\u001b[0;32m/usr3/articles/sagemath_docker_build/sage/local/lib/python3.9/site-packages/sage/categories/homset.py\u001b[0m in \u001b[0;36mdomain\u001b[0;34m(self)\u001b[0m\n\u001b[1;32m   1170\u001b[0m         \u001b[0;32mreturn\u001b[0m \u001b[0mself\u001b[0m\u001b[0;34m.\u001b[0m\u001b[0midentity\u001b[0m\u001b[0;34m(\u001b[0m\u001b[0;34m)\u001b[0m\u001b[0;34m\u001b[0m\u001b[0;34m\u001b[0m\u001b[0m\n\u001b[1;32m   1171\u001b[0m \u001b[0;34m\u001b[0m\u001b[0m\n\u001b[0;32m-> 1172\u001b[0;31m     \u001b[0;32mdef\u001b[0m \u001b[0mdomain\u001b[0m\u001b[0;34m(\u001b[0m\u001b[0mself\u001b[0m\u001b[0;34m)\u001b[0m\u001b[0;34m:\u001b[0m\u001b[0;34m\u001b[0m\u001b[0;34m\u001b[0m\u001b[0m\n\u001b[0m\u001b[1;32m   1173\u001b[0m         \"\"\"\n\u001b[1;32m   1174\u001b[0m         \u001b[0mReturn\u001b[0m \u001b[0mthe\u001b[0m \u001b[0mdomain\u001b[0m \u001b[0mof\u001b[0m \u001b[0mthis\u001b[0m \u001b[0mhomset\u001b[0m\u001b[0;34m.\u001b[0m\u001b[0;34m\u001b[0m\u001b[0;34m\u001b[0m\u001b[0m\n",
      "\u001b[0;32msrc/cysignals/signals.pyx\u001b[0m in \u001b[0;36mcysignals.signals.python_check_interrupt\u001b[0;34m()\u001b[0m\n",
      "\u001b[0;31mKeyboardInterrupt\u001b[0m: "
     ]
    }
   ],
   "source": [
    "k_z_root = find_newton_complex_root(\n",
    "    M3_subs_det_re_d,\\\n",
    "    M3_subs_det_im_d,\\\n",
    "    M3_subs_det_re_div_diff_kz_d,\\\n",
    "    M3_subs_det_im_div_diff_kz_d,\\\n",
    "    M3_subs_det_re_div_diff_sz_d,\\\n",
    "    M3_subs_det_im_div_diff_sz_d,\\\n",
    "    xre = kz, xim = sz,\\\n",
    "    xn_re = 1.1, xn_im = 0.124)"
   ]
  },
  {
   "cell_type": "code",
   "execution_count": 674,
   "metadata": {},
   "outputs": [
    {
     "data": {
      "text/plain": [
       "(1.12484012576918,\n",
       " 0.117839577439914,\n",
       " 2.05391259555654e-15,\n",
       " -6.21724893790088e-15)"
      ]
     },
     "execution_count": 674,
     "metadata": {},
     "output_type": "execute_result"
    }
   ],
   "source": [
    "k_z_root"
   ]
  },
  {
   "cell_type": "code",
   "execution_count": null,
   "metadata": {},
   "outputs": [],
   "source": [
    "#(1.12484012576918, 0.117839577439914, 0.000000000000000, -3.55271367880050e-14)"
   ]
  },
  {
   "cell_type": "raw",
   "metadata": {},
   "source": [
    "k_z_root = find_newton_complex_root(\n",
    "    M3_subs_det_re_d,\\\n",
    "    M3_subs_det_im_d,\\\n",
    "    M3_subs_det_re_div_diff_kz_d,\\\n",
    "    M3_subs_det_im_div_diff_kz_d,\\\n",
    "    M3_subs_det_re_div_diff_sz_d,\\\n",
    "    M3_subs_det_im_div_diff_sz_d,\\\n",
    "    xre = kz, xim = sz,\\\n",
    "    xn_re = k_z_root[0], xn_im = k_z_root[1])"
   ]
  },
  {
   "cell_type": "code",
   "execution_count": null,
   "metadata": {},
   "outputs": [],
   "source": []
  },
  {
   "cell_type": "raw",
   "metadata": {},
   "source": [
    "M6_subs_det_re = M6_subs_det.real()"
   ]
  },
  {
   "cell_type": "raw",
   "metadata": {},
   "source": [
    "M6_subs_det_im = M6_subs_det.imag()"
   ]
  },
  {
   "cell_type": "code",
   "execution_count": null,
   "metadata": {},
   "outputs": [],
   "source": []
  },
  {
   "cell_type": "raw",
   "metadata": {},
   "source": [
    "M6_subs_det_re_diff_kz = M6_subs_det_re.diff(kz)"
   ]
  },
  {
   "cell_type": "raw",
   "metadata": {},
   "source": [
    "M6_subs_det_im_diff_kz = M6_subs_det_im.diff(kz)"
   ]
  },
  {
   "cell_type": "raw",
   "metadata": {},
   "source": [
    "M6_subs_det_re_diff_sz = M6_subs_det_re.diff(sz)"
   ]
  },
  {
   "cell_type": "raw",
   "metadata": {},
   "source": [
    "M6_subs_det_im_diff_sz = M6_subs_det_im.diff(sz)"
   ]
  },
  {
   "cell_type": "code",
   "execution_count": null,
   "metadata": {},
   "outputs": [],
   "source": []
  },
  {
   "cell_type": "raw",
   "metadata": {},
   "source": [
    "M6_subs_det_re_div_diff_kz = (M6_subs_det_re / M6_subs_det_re_diff_kz)"
   ]
  },
  {
   "cell_type": "raw",
   "metadata": {},
   "source": [
    "M6_subs_det_im_div_diff_kz = (M6_subs_det_im / M6_subs_det_im_diff_kz)"
   ]
  },
  {
   "cell_type": "raw",
   "metadata": {},
   "source": [
    "M6_subs_det_re_div_diff_sz = (M6_subs_det_re / M6_subs_det_re_diff_sz)"
   ]
  },
  {
   "cell_type": "raw",
   "metadata": {},
   "source": [
    "M6_subs_det_im_div_diff_sz = (M6_subs_det_im / M6_subs_det_im_diff_sz)"
   ]
  },
  {
   "cell_type": "code",
   "execution_count": null,
   "metadata": {},
   "outputs": [],
   "source": []
  },
  {
   "cell_type": "code",
   "execution_count": null,
   "metadata": {},
   "outputs": [],
   "source": []
  },
  {
   "cell_type": "raw",
   "metadata": {},
   "source": [
    "M6_subs_det_re_d = M6_subs_det_re.subs(digit_values)"
   ]
  },
  {
   "cell_type": "raw",
   "metadata": {},
   "source": [
    "M6_subs_det_im_d = M6_subs_det_im.subs(digit_values)"
   ]
  },
  {
   "cell_type": "raw",
   "metadata": {},
   "source": [
    "M6_subs_det_re_div_diff_kz_d = M6_subs_det_re_div_diff_kz.subs(digit_values)"
   ]
  },
  {
   "cell_type": "raw",
   "metadata": {},
   "source": [
    "M6_subs_det_im_div_diff_kz_d = M6_subs_det_im_div_diff_kz.subs(digit_values)"
   ]
  },
  {
   "cell_type": "raw",
   "metadata": {},
   "source": [
    "M6_subs_det_re_div_diff_sz_d = M6_subs_det_re_div_diff_sz.subs(digit_values)"
   ]
  },
  {
   "cell_type": "raw",
   "metadata": {},
   "source": [
    "M6_subs_det_im_div_diff_sz_d = M6_subs_det_im_div_diff_sz.subs(digit_values)"
   ]
  },
  {
   "cell_type": "code",
   "execution_count": null,
   "metadata": {},
   "outputs": [],
   "source": []
  },
  {
   "cell_type": "code",
   "execution_count": 676,
   "metadata": {},
   "outputs": [
    {
     "data": {
      "text/plain": [
       "[kz == 1.12484012576918, sz == 0.117839577439914]"
      ]
     },
     "execution_count": 676,
     "metadata": {},
     "output_type": "execute_result"
    }
   ],
   "source": [
    "k_z_sol = [kz == k_z_root[0], sz ==  k_z_root[1]]\n",
    "k_z_sol"
   ]
  },
  {
   "cell_type": "code",
   "execution_count": 684,
   "metadata": {},
   "outputs": [],
   "source": [
    "M3_subs_d = M3_subs.subs(digit_values).subs(k_z == k_z_root[0] + I * k_z_root[1])"
   ]
  },
  {
   "cell_type": "code",
   "execution_count": 687,
   "metadata": {},
   "outputs": [
    {
     "data": {
      "text/plain": [
       "[ 1.08762217080132 + 0.0383508095430919*I 0.918295178273292 - 0.0323801448993557*I                        0.000000000000000]\n",
       "[  -13.1488227576891 - 13.9698202206261*I   -11.9049415314362 - 10.9836797549838*I                        0.000000000000000]\n",
       "[                       -1.00000000000000                        -1.00000000000000                         1.00000000000000]"
      ]
     },
     "execution_count": 687,
     "metadata": {},
     "output_type": "execute_result"
    }
   ],
   "source": [
    "M3_subs_d.n()"
   ]
  },
  {
   "cell_type": "code",
   "execution_count": 691,
   "metadata": {},
   "outputs": [
    {
     "data": {
      "text/plain": [
       "-7.10542735760100e-15 - 3.55271367880050e-15*I"
      ]
     },
     "execution_count": 691,
     "metadata": {},
     "output_type": "execute_result"
    }
   ],
   "source": [
    "M3_subs_d.det().n()"
   ]
  },
  {
   "cell_type": "code",
   "execution_count": null,
   "metadata": {},
   "outputs": [],
   "source": [
    "ars6 = [A1_z_re, A1_z_im, \\\n",
    "         A2_z_re, A2_z_im, \\\n",
    "         B1_z_re, B1_z_im,\n",
    "]"
   ]
  },
  {
   "cell_type": "code",
   "execution_count": 698,
   "metadata": {},
   "outputs": [
    {
     "data": {
      "text/plain": [
       "(I*A1_z_im + 1, I*A2_z_im + A2_z_re, I*B1_z_im + B1_z_re)"
      ]
     },
     "execution_count": 698,
     "metadata": {},
     "output_type": "execute_result"
    }
   ],
   "source": [
    "X = vector([A1_z_re+I*A1_z_im, A2_z_re+I*A2_z_im, B1_z_re+I*B1_z_im]).subs(A1_z_re == 1)\n",
    "X"
   ]
  },
  {
   "cell_type": "code",
   "execution_count": 701,
   "metadata": {},
   "outputs": [
    {
     "data": {
      "text/latex": [
       "$\\displaystyle \\left({\\left(i \\, \\mathit{A1}_{z_{\\mathit{im}}} + 1\\right)} e^{\\left(0.00189873417721519i \\, \\sqrt{625 \\, \\pi^{2} - 7809.85722852472 - 1654.49765151930i}\\right)} + {\\left(i \\, \\mathit{A2}_{z_{\\mathit{im}}} + \\mathit{A2}_{z_{\\mathit{re}}}\\right)} e^{\\left(-0.00189873417721519i \\, \\sqrt{625 \\, \\pi^{2} - 7809.85722852472 - 1654.49765151930i}\\right)},\\,-\\frac{625}{79} \\, {\\left(\\frac{\\pi^{2}}{\\sqrt{625 \\, \\pi^{2} - 7809.85722852472 - 1654.49765151930i}} + \\frac{4 i \\, \\pi^{2}}{\\sqrt{\\frac{2500}{79} i \\, \\pi^{2} - 1.25137914252920 - 0.265101370216199i}}\\right)} {\\left(i \\, \\mathit{A1}_{z_{\\mathit{im}}} + 1\\right)} + \\frac{625}{79} \\, {\\left(\\frac{\\pi^{2}}{\\sqrt{625 \\, \\pi^{2} - 7809.85722852472 - 1654.49765151930i}} - \\frac{4 i \\, \\pi^{2}}{\\sqrt{\\frac{2500}{79} i \\, \\pi^{2} - 1.25137914252920 - 0.265101370216199i}}\\right)} {\\left(i \\, \\mathit{A2}_{z_{\\mathit{im}}} + \\mathit{A2}_{z_{\\mathit{re}}}\\right)},\\,-i \\, \\mathit{A1}_{z_{\\mathit{im}}} - i \\, \\mathit{A2}_{z_{\\mathit{im}}} - \\mathit{A2}_{z_{\\mathit{re}}} + i \\, \\mathit{B1}_{z_{\\mathit{im}}} + \\mathit{B1}_{z_{\\mathit{re}}} - 1\\right)$"
      ],
      "text/plain": [
       "<IPython.core.display.Math object>"
      ]
     },
     "metadata": {},
     "output_type": "display_data"
    }
   ],
   "source": [
    "display(Math(latex(M3_subs_d * X)))"
   ]
  },
  {
   "cell_type": "code",
   "execution_count": 677,
   "metadata": {},
   "outputs": [],
   "source": [
    "Ex_bad_conductor = (eq_7_subs4.rhs()).subs(kappa_vacuum_sol).subs(kappa_sol).subs(k_z_sol_subs).subs(eqEz_a).subs(A1_x_re_im_subs, A2_x_re_im_subs)\n",
    "Ex_vacuum        = (eq_5_subs4.rhs()).subs(kappa_vacuum_sol).subs(kappa_sol).subs(k_z_sol_subs).subs(eqEz_a).subs(A1_x_re_im_subs, A2_x_re_im_subs)"
   ]
  },
  {
   "cell_type": "raw",
   "metadata": {},
   "source": [
    "print             (Ex_vacuum)\n",
    "display(Math(latex(Ex_vacuum)))"
   ]
  },
  {
   "cell_type": "raw",
   "metadata": {},
   "source": [
    "print             (Ex_bad_conductor)\n",
    "display(Math(latex(Ex_bad_conductor)))"
   ]
  },
  {
   "cell_type": "code",
   "execution_count": 678,
   "metadata": {},
   "outputs": [],
   "source": [
    "Hy_bad_conductor = (eq_8_subs4.rhs()*sqrt(epsilon_complex)/sqrt(mu)).subs(kappa_vacuum_sol).subs(kappa_sol).subs(k_z_sol_subs).subs(eqEz_a).subs(A1_x_re_im_subs, A2_x_re_im_subs)\n",
    "Hy_vacuum        = (eq_6_subs4.rhs()).subs(kappa_vacuum_sol).subs(kappa_sol).subs(k_z_sol_subs).subs(eqEz_a).subs(A1_x_re_im_subs, A2_x_re_im_subs)"
   ]
  },
  {
   "cell_type": "raw",
   "metadata": {},
   "source": [
    "print             (Hy_bad_conductor)\n",
    "display(Math(latex(Hy_bad_conductor)))"
   ]
  },
  {
   "cell_type": "raw",
   "metadata": {},
   "source": [
    "print             (Hy_vacuum)\n",
    "display(Math(latex(Hy_vacuum)))"
   ]
  },
  {
   "cell_type": "code",
   "execution_count": null,
   "metadata": {},
   "outputs": [],
   "source": []
  },
  {
   "cell_type": "code",
   "execution_count": 679,
   "metadata": {},
   "outputs": [],
   "source": [
    "Ex_bad_conductor_d = Ex_bad_conductor.subs(digit_values)\n",
    "Ex_vacuum_d        = Ex_vacuum.subs(digit_values)"
   ]
  },
  {
   "cell_type": "code",
   "execution_count": 680,
   "metadata": {},
   "outputs": [
    {
     "name": "stdout",
     "output_type": "stream",
     "text": [
      "-2*pi*sqrt(625/79*I*pi^2)*(A1_z + A2_z)*sqrt((-316*I*pi^2*((I*A1_z_im + A1_z_re)^2 + 2*(I*A1_z_im + A1_z_re)*(I*A2_z_im + A2_z_re) + (I*A2_z_im + A2_z_re)^2) + pi^2*((I*A1_z_im + A1_z_re)^2 - 2*(I*A1_z_im + A1_z_re)*(I*A2_z_im + A2_z_re) + (I*A2_z_im + A2_z_re)^2))/(99856*pi^4*((I*A1_z_im + A1_z_re)^2 + 2*(I*A1_z_im + A1_z_re)*(I*A2_z_im + A2_z_re) + (I*A2_z_im + A2_z_re)^2) + pi^4*((I*A1_z_im + A1_z_re)^2 - 2*(I*A1_z_im + A1_z_re)*(I*A2_z_im + A2_z_re) + (I*A2_z_im + A2_z_re)^2)))*e^(I*sqrt(-(2500/79*I + 10000)*pi^6*A1_z_im^2/(99857*pi^4*A1_z_im^2 - 199714*I*pi^4*A1_z_im*A1_z_re - 99857*pi^4*A1_z_re^2 + 199710*pi^4*A1_z_im*A2_z_im - 199710*I*pi^4*A1_z_re*A2_z_im + 99857*pi^4*A2_z_im^2 - 199710*I*pi^4*A1_z_im*A2_z_re - 199710*pi^4*A1_z_re*A2_z_re - 199714*I*pi^4*A2_z_im*A2_z_re - 99857*pi^4*A2_z_re^2) + (20000*I - 5000/79)*pi^6*A1_z_im*A1_z_re/(99857*pi^4*A1_z_im^2 - 199714*I*pi^4*A1_z_im*A1_z_re - 99857*pi^4*A1_z_re^2 + 199710*pi^4*A1_z_im*A2_z_im - 199710*I*pi^4*A1_z_re*A2_z_im + 99857*pi^4*A2_z_im^2 - 199710*I*pi^4*A1_z_im*A2_z_re - 199710*pi^4*A1_z_re*A2_z_re - 199714*I*pi^4*A2_z_im*A2_z_re - 99857*pi^4*A2_z_re^2) + (2500/79*I + 10000)*pi^6*A1_z_re^2/(99857*pi^4*A1_z_im^2 - 199714*I*pi^4*A1_z_im*A1_z_re - 99857*pi^4*A1_z_re^2 + 199710*pi^4*A1_z_im*A2_z_im - 199710*I*pi^4*A1_z_re*A2_z_im + 99857*pi^4*A2_z_im^2 - 199710*I*pi^4*A1_z_im*A2_z_re - 199710*pi^4*A1_z_re*A2_z_re - 199714*I*pi^4*A2_z_im*A2_z_re - 99857*pi^4*A2_z_re^2) + (5000/79*I - 20000)*pi^6*A1_z_im*A2_z_im/(99857*pi^4*A1_z_im^2 - 199714*I*pi^4*A1_z_im*A1_z_re - 99857*pi^4*A1_z_re^2 + 199710*pi^4*A1_z_im*A2_z_im - 199710*I*pi^4*A1_z_re*A2_z_im + 99857*pi^4*A2_z_im^2 - 199710*I*pi^4*A1_z_im*A2_z_re - 199710*pi^4*A1_z_re*A2_z_re - 199714*I*pi^4*A2_z_im*A2_z_re - 99857*pi^4*A2_z_re^2) + (20000*I + 5000/79)*pi^6*A1_z_re*A2_z_im/(99857*pi^4*A1_z_im^2 - 199714*I*pi^4*A1_z_im*A1_z_re - 99857*pi^4*A1_z_re^2 + 199710*pi^4*A1_z_im*A2_z_im - 199710*I*pi^4*A1_z_re*A2_z_im + 99857*pi^4*A2_z_im^2 - 199710*I*pi^4*A1_z_im*A2_z_re - 199710*pi^4*A1_z_re*A2_z_re - 199714*I*pi^4*A2_z_im*A2_z_re - 99857*pi^4*A2_z_re^2) - (2500/79*I + 10000)*pi^6*A2_z_im^2/(99857*pi^4*A1_z_im^2 - 199714*I*pi^4*A1_z_im*A1_z_re - 99857*pi^4*A1_z_re^2 + 199710*pi^4*A1_z_im*A2_z_im - 199710*I*pi^4*A1_z_re*A2_z_im + 99857*pi^4*A2_z_im^2 - 199710*I*pi^4*A1_z_im*A2_z_re - 199710*pi^4*A1_z_re*A2_z_re - 199714*I*pi^4*A2_z_im*A2_z_re - 99857*pi^4*A2_z_re^2) + (20000*I + 5000/79)*pi^6*A1_z_im*A2_z_re/(99857*pi^4*A1_z_im^2 - 199714*I*pi^4*A1_z_im*A1_z_re - 99857*pi^4*A1_z_re^2 + 199710*pi^4*A1_z_im*A2_z_im - 199710*I*pi^4*A1_z_re*A2_z_im + 99857*pi^4*A2_z_im^2 - 199710*I*pi^4*A1_z_im*A2_z_re - 199710*pi^4*A1_z_re*A2_z_re - 199714*I*pi^4*A2_z_im*A2_z_re - 99857*pi^4*A2_z_re^2) - (5000/79*I - 20000)*pi^6*A1_z_re*A2_z_re/(99857*pi^4*A1_z_im^2 - 199714*I*pi^4*A1_z_im*A1_z_re - 99857*pi^4*A1_z_re^2 + 199710*pi^4*A1_z_im*A2_z_im - 199710*I*pi^4*A1_z_re*A2_z_im + 99857*pi^4*A2_z_im^2 - 199710*I*pi^4*A1_z_im*A2_z_re - 199710*pi^4*A1_z_re*A2_z_re - 199714*I*pi^4*A2_z_im*A2_z_re - 99857*pi^4*A2_z_re^2) + (20000*I - 5000/79)*pi^6*A2_z_im*A2_z_re/(99857*pi^4*A1_z_im^2 - 199714*I*pi^4*A1_z_im*A1_z_re - 99857*pi^4*A1_z_re^2 + 199710*pi^4*A1_z_im*A2_z_im - 199710*I*pi^4*A1_z_re*A2_z_im + 99857*pi^4*A2_z_im^2 - 199710*I*pi^4*A1_z_im*A2_z_re - 199710*pi^4*A1_z_re*A2_z_re - 199714*I*pi^4*A2_z_im*A2_z_re - 99857*pi^4*A2_z_re^2) + (2500/79*I + 10000)*pi^6*A2_z_re^2/(99857*pi^4*A1_z_im^2 - 199714*I*pi^4*A1_z_im*A1_z_re - 99857*pi^4*A1_z_re^2 + 199710*pi^4*A1_z_im*A2_z_im - 199710*I*pi^4*A1_z_re*A2_z_im + 99857*pi^4*A2_z_im^2 - 199710*I*pi^4*A1_z_im*A2_z_re - 199710*pi^4*A1_z_re*A2_z_re - 199714*I*pi^4*A2_z_im*A2_z_re - 99857*pi^4*A2_z_re^2) + 2500/79*I*pi^2)*x)/sqrt(-2500/79*I*pi^4*(-316*I*pi^2*((I*A1_z_im + A1_z_re)^2 + 2*(I*A1_z_im + A1_z_re)*(I*A2_z_im + A2_z_re) + (I*A2_z_im + A2_z_re)^2) + pi^2*((I*A1_z_im + A1_z_re)^2 - 2*(I*A1_z_im + A1_z_re)*(I*A2_z_im + A2_z_re) + (I*A2_z_im + A2_z_re)^2))/(99856*pi^4*((I*A1_z_im + A1_z_re)^2 + 2*(I*A1_z_im + A1_z_re)*(I*A2_z_im + A2_z_re) + (I*A2_z_im + A2_z_re)^2) + pi^4*((I*A1_z_im + A1_z_re)^2 - 2*(I*A1_z_im + A1_z_re)*(I*A2_z_im + A2_z_re) + (I*A2_z_im + A2_z_re)^2)) + 2500/79*I*pi^2)\n"
     ]
    },
    {
     "data": {
      "text/latex": [
       "$\\displaystyle -\\frac{2 \\, \\pi \\sqrt{\\frac{625}{79} i \\, \\pi^{2}} {\\left(\\mathit{A1}_{z} + \\mathit{A2}_{z}\\right)} \\sqrt{\\frac{-316 i \\, \\pi^{2} {\\left({\\left(i \\, \\mathit{A1}_{z_{\\mathit{im}}} + \\mathit{A1}_{z_{\\mathit{re}}}\\right)}^{2} + 2 \\, {\\left(i \\, \\mathit{A1}_{z_{\\mathit{im}}} + \\mathit{A1}_{z_{\\mathit{re}}}\\right)} {\\left(i \\, \\mathit{A2}_{z_{\\mathit{im}}} + \\mathit{A2}_{z_{\\mathit{re}}}\\right)} + {\\left(i \\, \\mathit{A2}_{z_{\\mathit{im}}} + \\mathit{A2}_{z_{\\mathit{re}}}\\right)}^{2}\\right)} + \\pi^{2} {\\left({\\left(i \\, \\mathit{A1}_{z_{\\mathit{im}}} + \\mathit{A1}_{z_{\\mathit{re}}}\\right)}^{2} - 2 \\, {\\left(i \\, \\mathit{A1}_{z_{\\mathit{im}}} + \\mathit{A1}_{z_{\\mathit{re}}}\\right)} {\\left(i \\, \\mathit{A2}_{z_{\\mathit{im}}} + \\mathit{A2}_{z_{\\mathit{re}}}\\right)} + {\\left(i \\, \\mathit{A2}_{z_{\\mathit{im}}} + \\mathit{A2}_{z_{\\mathit{re}}}\\right)}^{2}\\right)}}{99856 \\, \\pi^{4} {\\left({\\left(i \\, \\mathit{A1}_{z_{\\mathit{im}}} + \\mathit{A1}_{z_{\\mathit{re}}}\\right)}^{2} + 2 \\, {\\left(i \\, \\mathit{A1}_{z_{\\mathit{im}}} + \\mathit{A1}_{z_{\\mathit{re}}}\\right)} {\\left(i \\, \\mathit{A2}_{z_{\\mathit{im}}} + \\mathit{A2}_{z_{\\mathit{re}}}\\right)} + {\\left(i \\, \\mathit{A2}_{z_{\\mathit{im}}} + \\mathit{A2}_{z_{\\mathit{re}}}\\right)}^{2}\\right)} + \\pi^{4} {\\left({\\left(i \\, \\mathit{A1}_{z_{\\mathit{im}}} + \\mathit{A1}_{z_{\\mathit{re}}}\\right)}^{2} - 2 \\, {\\left(i \\, \\mathit{A1}_{z_{\\mathit{im}}} + \\mathit{A1}_{z_{\\mathit{re}}}\\right)} {\\left(i \\, \\mathit{A2}_{z_{\\mathit{im}}} + \\mathit{A2}_{z_{\\mathit{re}}}\\right)} + {\\left(i \\, \\mathit{A2}_{z_{\\mathit{im}}} + \\mathit{A2}_{z_{\\mathit{re}}}\\right)}^{2}\\right)}}} e^{\\left(i \\, \\sqrt{-\\frac{\\left(2500 i + 790000\\right) \\, \\pi^{6} \\mathit{A1}_{z_{\\mathit{im}}}^{2}}{79 \\, {\\left(99857 \\, \\pi^{4} \\mathit{A1}_{z_{\\mathit{im}}}^{2} - 199714 i \\, \\pi^{4} \\mathit{A1}_{z_{\\mathit{im}}} \\mathit{A1}_{z_{\\mathit{re}}} - 99857 \\, \\pi^{4} \\mathit{A1}_{z_{\\mathit{re}}}^{2} + 199710 \\, \\pi^{4} \\mathit{A1}_{z_{\\mathit{im}}} \\mathit{A2}_{z_{\\mathit{im}}} - 199710 i \\, \\pi^{4} \\mathit{A1}_{z_{\\mathit{re}}} \\mathit{A2}_{z_{\\mathit{im}}} + 99857 \\, \\pi^{4} \\mathit{A2}_{z_{\\mathit{im}}}^{2} - 199710 i \\, \\pi^{4} \\mathit{A1}_{z_{\\mathit{im}}} \\mathit{A2}_{z_{\\mathit{re}}} - 199710 \\, \\pi^{4} \\mathit{A1}_{z_{\\mathit{re}}} \\mathit{A2}_{z_{\\mathit{re}}} - 199714 i \\, \\pi^{4} \\mathit{A2}_{z_{\\mathit{im}}} \\mathit{A2}_{z_{\\mathit{re}}} - 99857 \\, \\pi^{4} \\mathit{A2}_{z_{\\mathit{re}}}^{2}\\right)}} + \\frac{\\left(1580000 i - 5000\\right) \\, \\pi^{6} \\mathit{A1}_{z_{\\mathit{im}}} \\mathit{A1}_{z_{\\mathit{re}}}}{79 \\, {\\left(99857 \\, \\pi^{4} \\mathit{A1}_{z_{\\mathit{im}}}^{2} - 199714 i \\, \\pi^{4} \\mathit{A1}_{z_{\\mathit{im}}} \\mathit{A1}_{z_{\\mathit{re}}} - 99857 \\, \\pi^{4} \\mathit{A1}_{z_{\\mathit{re}}}^{2} + 199710 \\, \\pi^{4} \\mathit{A1}_{z_{\\mathit{im}}} \\mathit{A2}_{z_{\\mathit{im}}} - 199710 i \\, \\pi^{4} \\mathit{A1}_{z_{\\mathit{re}}} \\mathit{A2}_{z_{\\mathit{im}}} + 99857 \\, \\pi^{4} \\mathit{A2}_{z_{\\mathit{im}}}^{2} - 199710 i \\, \\pi^{4} \\mathit{A1}_{z_{\\mathit{im}}} \\mathit{A2}_{z_{\\mathit{re}}} - 199710 \\, \\pi^{4} \\mathit{A1}_{z_{\\mathit{re}}} \\mathit{A2}_{z_{\\mathit{re}}} - 199714 i \\, \\pi^{4} \\mathit{A2}_{z_{\\mathit{im}}} \\mathit{A2}_{z_{\\mathit{re}}} - 99857 \\, \\pi^{4} \\mathit{A2}_{z_{\\mathit{re}}}^{2}\\right)}} + \\frac{\\left(2500 i + 790000\\right) \\, \\pi^{6} \\mathit{A1}_{z_{\\mathit{re}}}^{2}}{79 \\, {\\left(99857 \\, \\pi^{4} \\mathit{A1}_{z_{\\mathit{im}}}^{2} - 199714 i \\, \\pi^{4} \\mathit{A1}_{z_{\\mathit{im}}} \\mathit{A1}_{z_{\\mathit{re}}} - 99857 \\, \\pi^{4} \\mathit{A1}_{z_{\\mathit{re}}}^{2} + 199710 \\, \\pi^{4} \\mathit{A1}_{z_{\\mathit{im}}} \\mathit{A2}_{z_{\\mathit{im}}} - 199710 i \\, \\pi^{4} \\mathit{A1}_{z_{\\mathit{re}}} \\mathit{A2}_{z_{\\mathit{im}}} + 99857 \\, \\pi^{4} \\mathit{A2}_{z_{\\mathit{im}}}^{2} - 199710 i \\, \\pi^{4} \\mathit{A1}_{z_{\\mathit{im}}} \\mathit{A2}_{z_{\\mathit{re}}} - 199710 \\, \\pi^{4} \\mathit{A1}_{z_{\\mathit{re}}} \\mathit{A2}_{z_{\\mathit{re}}} - 199714 i \\, \\pi^{4} \\mathit{A2}_{z_{\\mathit{im}}} \\mathit{A2}_{z_{\\mathit{re}}} - 99857 \\, \\pi^{4} \\mathit{A2}_{z_{\\mathit{re}}}^{2}\\right)}} + \\frac{\\left(5000 i - 1580000\\right) \\, \\pi^{6} \\mathit{A1}_{z_{\\mathit{im}}} \\mathit{A2}_{z_{\\mathit{im}}}}{79 \\, {\\left(99857 \\, \\pi^{4} \\mathit{A1}_{z_{\\mathit{im}}}^{2} - 199714 i \\, \\pi^{4} \\mathit{A1}_{z_{\\mathit{im}}} \\mathit{A1}_{z_{\\mathit{re}}} - 99857 \\, \\pi^{4} \\mathit{A1}_{z_{\\mathit{re}}}^{2} + 199710 \\, \\pi^{4} \\mathit{A1}_{z_{\\mathit{im}}} \\mathit{A2}_{z_{\\mathit{im}}} - 199710 i \\, \\pi^{4} \\mathit{A1}_{z_{\\mathit{re}}} \\mathit{A2}_{z_{\\mathit{im}}} + 99857 \\, \\pi^{4} \\mathit{A2}_{z_{\\mathit{im}}}^{2} - 199710 i \\, \\pi^{4} \\mathit{A1}_{z_{\\mathit{im}}} \\mathit{A2}_{z_{\\mathit{re}}} - 199710 \\, \\pi^{4} \\mathit{A1}_{z_{\\mathit{re}}} \\mathit{A2}_{z_{\\mathit{re}}} - 199714 i \\, \\pi^{4} \\mathit{A2}_{z_{\\mathit{im}}} \\mathit{A2}_{z_{\\mathit{re}}} - 99857 \\, \\pi^{4} \\mathit{A2}_{z_{\\mathit{re}}}^{2}\\right)}} + \\frac{\\left(1580000 i + 5000\\right) \\, \\pi^{6} \\mathit{A1}_{z_{\\mathit{re}}} \\mathit{A2}_{z_{\\mathit{im}}}}{79 \\, {\\left(99857 \\, \\pi^{4} \\mathit{A1}_{z_{\\mathit{im}}}^{2} - 199714 i \\, \\pi^{4} \\mathit{A1}_{z_{\\mathit{im}}} \\mathit{A1}_{z_{\\mathit{re}}} - 99857 \\, \\pi^{4} \\mathit{A1}_{z_{\\mathit{re}}}^{2} + 199710 \\, \\pi^{4} \\mathit{A1}_{z_{\\mathit{im}}} \\mathit{A2}_{z_{\\mathit{im}}} - 199710 i \\, \\pi^{4} \\mathit{A1}_{z_{\\mathit{re}}} \\mathit{A2}_{z_{\\mathit{im}}} + 99857 \\, \\pi^{4} \\mathit{A2}_{z_{\\mathit{im}}}^{2} - 199710 i \\, \\pi^{4} \\mathit{A1}_{z_{\\mathit{im}}} \\mathit{A2}_{z_{\\mathit{re}}} - 199710 \\, \\pi^{4} \\mathit{A1}_{z_{\\mathit{re}}} \\mathit{A2}_{z_{\\mathit{re}}} - 199714 i \\, \\pi^{4} \\mathit{A2}_{z_{\\mathit{im}}} \\mathit{A2}_{z_{\\mathit{re}}} - 99857 \\, \\pi^{4} \\mathit{A2}_{z_{\\mathit{re}}}^{2}\\right)}} - \\frac{\\left(2500 i + 790000\\right) \\, \\pi^{6} \\mathit{A2}_{z_{\\mathit{im}}}^{2}}{79 \\, {\\left(99857 \\, \\pi^{4} \\mathit{A1}_{z_{\\mathit{im}}}^{2} - 199714 i \\, \\pi^{4} \\mathit{A1}_{z_{\\mathit{im}}} \\mathit{A1}_{z_{\\mathit{re}}} - 99857 \\, \\pi^{4} \\mathit{A1}_{z_{\\mathit{re}}}^{2} + 199710 \\, \\pi^{4} \\mathit{A1}_{z_{\\mathit{im}}} \\mathit{A2}_{z_{\\mathit{im}}} - 199710 i \\, \\pi^{4} \\mathit{A1}_{z_{\\mathit{re}}} \\mathit{A2}_{z_{\\mathit{im}}} + 99857 \\, \\pi^{4} \\mathit{A2}_{z_{\\mathit{im}}}^{2} - 199710 i \\, \\pi^{4} \\mathit{A1}_{z_{\\mathit{im}}} \\mathit{A2}_{z_{\\mathit{re}}} - 199710 \\, \\pi^{4} \\mathit{A1}_{z_{\\mathit{re}}} \\mathit{A2}_{z_{\\mathit{re}}} - 199714 i \\, \\pi^{4} \\mathit{A2}_{z_{\\mathit{im}}} \\mathit{A2}_{z_{\\mathit{re}}} - 99857 \\, \\pi^{4} \\mathit{A2}_{z_{\\mathit{re}}}^{2}\\right)}} + \\frac{\\left(1580000 i + 5000\\right) \\, \\pi^{6} \\mathit{A1}_{z_{\\mathit{im}}} \\mathit{A2}_{z_{\\mathit{re}}}}{79 \\, {\\left(99857 \\, \\pi^{4} \\mathit{A1}_{z_{\\mathit{im}}}^{2} - 199714 i \\, \\pi^{4} \\mathit{A1}_{z_{\\mathit{im}}} \\mathit{A1}_{z_{\\mathit{re}}} - 99857 \\, \\pi^{4} \\mathit{A1}_{z_{\\mathit{re}}}^{2} + 199710 \\, \\pi^{4} \\mathit{A1}_{z_{\\mathit{im}}} \\mathit{A2}_{z_{\\mathit{im}}} - 199710 i \\, \\pi^{4} \\mathit{A1}_{z_{\\mathit{re}}} \\mathit{A2}_{z_{\\mathit{im}}} + 99857 \\, \\pi^{4} \\mathit{A2}_{z_{\\mathit{im}}}^{2} - 199710 i \\, \\pi^{4} \\mathit{A1}_{z_{\\mathit{im}}} \\mathit{A2}_{z_{\\mathit{re}}} - 199710 \\, \\pi^{4} \\mathit{A1}_{z_{\\mathit{re}}} \\mathit{A2}_{z_{\\mathit{re}}} - 199714 i \\, \\pi^{4} \\mathit{A2}_{z_{\\mathit{im}}} \\mathit{A2}_{z_{\\mathit{re}}} - 99857 \\, \\pi^{4} \\mathit{A2}_{z_{\\mathit{re}}}^{2}\\right)}} - \\frac{\\left(5000 i - 1580000\\right) \\, \\pi^{6} \\mathit{A1}_{z_{\\mathit{re}}} \\mathit{A2}_{z_{\\mathit{re}}}}{79 \\, {\\left(99857 \\, \\pi^{4} \\mathit{A1}_{z_{\\mathit{im}}}^{2} - 199714 i \\, \\pi^{4} \\mathit{A1}_{z_{\\mathit{im}}} \\mathit{A1}_{z_{\\mathit{re}}} - 99857 \\, \\pi^{4} \\mathit{A1}_{z_{\\mathit{re}}}^{2} + 199710 \\, \\pi^{4} \\mathit{A1}_{z_{\\mathit{im}}} \\mathit{A2}_{z_{\\mathit{im}}} - 199710 i \\, \\pi^{4} \\mathit{A1}_{z_{\\mathit{re}}} \\mathit{A2}_{z_{\\mathit{im}}} + 99857 \\, \\pi^{4} \\mathit{A2}_{z_{\\mathit{im}}}^{2} - 199710 i \\, \\pi^{4} \\mathit{A1}_{z_{\\mathit{im}}} \\mathit{A2}_{z_{\\mathit{re}}} - 199710 \\, \\pi^{4} \\mathit{A1}_{z_{\\mathit{re}}} \\mathit{A2}_{z_{\\mathit{re}}} - 199714 i \\, \\pi^{4} \\mathit{A2}_{z_{\\mathit{im}}} \\mathit{A2}_{z_{\\mathit{re}}} - 99857 \\, \\pi^{4} \\mathit{A2}_{z_{\\mathit{re}}}^{2}\\right)}} + \\frac{\\left(1580000 i - 5000\\right) \\, \\pi^{6} \\mathit{A2}_{z_{\\mathit{im}}} \\mathit{A2}_{z_{\\mathit{re}}}}{79 \\, {\\left(99857 \\, \\pi^{4} \\mathit{A1}_{z_{\\mathit{im}}}^{2} - 199714 i \\, \\pi^{4} \\mathit{A1}_{z_{\\mathit{im}}} \\mathit{A1}_{z_{\\mathit{re}}} - 99857 \\, \\pi^{4} \\mathit{A1}_{z_{\\mathit{re}}}^{2} + 199710 \\, \\pi^{4} \\mathit{A1}_{z_{\\mathit{im}}} \\mathit{A2}_{z_{\\mathit{im}}} - 199710 i \\, \\pi^{4} \\mathit{A1}_{z_{\\mathit{re}}} \\mathit{A2}_{z_{\\mathit{im}}} + 99857 \\, \\pi^{4} \\mathit{A2}_{z_{\\mathit{im}}}^{2} - 199710 i \\, \\pi^{4} \\mathit{A1}_{z_{\\mathit{im}}} \\mathit{A2}_{z_{\\mathit{re}}} - 199710 \\, \\pi^{4} \\mathit{A1}_{z_{\\mathit{re}}} \\mathit{A2}_{z_{\\mathit{re}}} - 199714 i \\, \\pi^{4} \\mathit{A2}_{z_{\\mathit{im}}} \\mathit{A2}_{z_{\\mathit{re}}} - 99857 \\, \\pi^{4} \\mathit{A2}_{z_{\\mathit{re}}}^{2}\\right)}} + \\frac{\\left(2500 i + 790000\\right) \\, \\pi^{6} \\mathit{A2}_{z_{\\mathit{re}}}^{2}}{79 \\, {\\left(99857 \\, \\pi^{4} \\mathit{A1}_{z_{\\mathit{im}}}^{2} - 199714 i \\, \\pi^{4} \\mathit{A1}_{z_{\\mathit{im}}} \\mathit{A1}_{z_{\\mathit{re}}} - 99857 \\, \\pi^{4} \\mathit{A1}_{z_{\\mathit{re}}}^{2} + 199710 \\, \\pi^{4} \\mathit{A1}_{z_{\\mathit{im}}} \\mathit{A2}_{z_{\\mathit{im}}} - 199710 i \\, \\pi^{4} \\mathit{A1}_{z_{\\mathit{re}}} \\mathit{A2}_{z_{\\mathit{im}}} + 99857 \\, \\pi^{4} \\mathit{A2}_{z_{\\mathit{im}}}^{2} - 199710 i \\, \\pi^{4} \\mathit{A1}_{z_{\\mathit{im}}} \\mathit{A2}_{z_{\\mathit{re}}} - 199710 \\, \\pi^{4} \\mathit{A1}_{z_{\\mathit{re}}} \\mathit{A2}_{z_{\\mathit{re}}} - 199714 i \\, \\pi^{4} \\mathit{A2}_{z_{\\mathit{im}}} \\mathit{A2}_{z_{\\mathit{re}}} - 99857 \\, \\pi^{4} \\mathit{A2}_{z_{\\mathit{re}}}^{2}\\right)}} + \\frac{2500}{79} i \\, \\pi^{2}} x\\right)}}{\\sqrt{-\\frac{2500 i \\, \\pi^{4} {\\left(-316 i \\, \\pi^{2} {\\left({\\left(i \\, \\mathit{A1}_{z_{\\mathit{im}}} + \\mathit{A1}_{z_{\\mathit{re}}}\\right)}^{2} + 2 \\, {\\left(i \\, \\mathit{A1}_{z_{\\mathit{im}}} + \\mathit{A1}_{z_{\\mathit{re}}}\\right)} {\\left(i \\, \\mathit{A2}_{z_{\\mathit{im}}} + \\mathit{A2}_{z_{\\mathit{re}}}\\right)} + {\\left(i \\, \\mathit{A2}_{z_{\\mathit{im}}} + \\mathit{A2}_{z_{\\mathit{re}}}\\right)}^{2}\\right)} + \\pi^{2} {\\left({\\left(i \\, \\mathit{A1}_{z_{\\mathit{im}}} + \\mathit{A1}_{z_{\\mathit{re}}}\\right)}^{2} - 2 \\, {\\left(i \\, \\mathit{A1}_{z_{\\mathit{im}}} + \\mathit{A1}_{z_{\\mathit{re}}}\\right)} {\\left(i \\, \\mathit{A2}_{z_{\\mathit{im}}} + \\mathit{A2}_{z_{\\mathit{re}}}\\right)} + {\\left(i \\, \\mathit{A2}_{z_{\\mathit{im}}} + \\mathit{A2}_{z_{\\mathit{re}}}\\right)}^{2}\\right)}\\right)}}{79 \\, {\\left(99856 \\, \\pi^{4} {\\left({\\left(i \\, \\mathit{A1}_{z_{\\mathit{im}}} + \\mathit{A1}_{z_{\\mathit{re}}}\\right)}^{2} + 2 \\, {\\left(i \\, \\mathit{A1}_{z_{\\mathit{im}}} + \\mathit{A1}_{z_{\\mathit{re}}}\\right)} {\\left(i \\, \\mathit{A2}_{z_{\\mathit{im}}} + \\mathit{A2}_{z_{\\mathit{re}}}\\right)} + {\\left(i \\, \\mathit{A2}_{z_{\\mathit{im}}} + \\mathit{A2}_{z_{\\mathit{re}}}\\right)}^{2}\\right)} + \\pi^{4} {\\left({\\left(i \\, \\mathit{A1}_{z_{\\mathit{im}}} + \\mathit{A1}_{z_{\\mathit{re}}}\\right)}^{2} - 2 \\, {\\left(i \\, \\mathit{A1}_{z_{\\mathit{im}}} + \\mathit{A1}_{z_{\\mathit{re}}}\\right)} {\\left(i \\, \\mathit{A2}_{z_{\\mathit{im}}} + \\mathit{A2}_{z_{\\mathit{re}}}\\right)} + {\\left(i \\, \\mathit{A2}_{z_{\\mathit{im}}} + \\mathit{A2}_{z_{\\mathit{re}}}\\right)}^{2}\\right)}\\right)}} + \\frac{2500}{79} i \\, \\pi^{2}}}$"
      ],
      "text/plain": [
       "<IPython.core.display.Math object>"
      ]
     },
     "metadata": {},
     "output_type": "display_data"
    }
   ],
   "source": [
    "print             (Ex_bad_conductor_d)\n",
    "display(Math(latex(Ex_bad_conductor_d)))"
   ]
  },
  {
   "cell_type": "code",
   "execution_count": null,
   "metadata": {
    "scrolled": true
   },
   "outputs": [],
   "source": [
    "print             (Ex_vacuum_d)\n",
    "display(Math(latex(Ex_vacuum_d)))"
   ]
  },
  {
   "cell_type": "code",
   "execution_count": null,
   "metadata": {},
   "outputs": [],
   "source": []
  },
  {
   "cell_type": "code",
   "execution_count": null,
   "metadata": {},
   "outputs": [],
   "source": [
    "Hy_bad_conductor_d = Hy_bad_conductor.subs(digit_values)\n",
    "Hy_vacuum_d        = Hy_vacuum.subs(digit_values)"
   ]
  },
  {
   "cell_type": "code",
   "execution_count": null,
   "metadata": {},
   "outputs": [],
   "source": [
    "print             (Hy_bad_conductor_d)\n",
    "display(Math(latex(Hy_bad_conductor_d)))"
   ]
  },
  {
   "cell_type": "code",
   "execution_count": null,
   "metadata": {
    "scrolled": true
   },
   "outputs": [],
   "source": [
    "print             (Hy_vacuum_d)\n",
    "display(Math(latex(Hy_vacuum_d)))"
   ]
  },
  {
   "cell_type": "code",
   "execution_count": null,
   "metadata": {},
   "outputs": [],
   "source": []
  },
  {
   "cell_type": "code",
   "execution_count": null,
   "metadata": {},
   "outputs": [],
   "source": [
    "Hy_vacuum_d.subs(x == -A), Ex_vacuum_d.subs(x == -A)"
   ]
  },
  {
   "cell_type": "code",
   "execution_count": null,
   "metadata": {},
   "outputs": [],
   "source": [
    "Hy_vacuum_d.subs(x == 0), Ex_vacuum_d.subs(x == 0)"
   ]
  },
  {
   "cell_type": "code",
   "execution_count": null,
   "metadata": {},
   "outputs": [],
   "source": [
    "Hy_bad_conductor_d.subs(x == 0), epsilon_d * Ex_bad_conductor_d.subs(x == 0)"
   ]
  },
  {
   "cell_type": "code",
   "execution_count": null,
   "metadata": {},
   "outputs": [],
   "source": [
    "Hy_bad_conductor_d.subs(x == A), Ex_bad_conductor_d.subs(x == A)"
   ]
  },
  {
   "cell_type": "code",
   "execution_count": null,
   "metadata": {},
   "outputs": [],
   "source": []
  },
  {
   "cell_type": "code",
   "execution_count": null,
   "metadata": {},
   "outputs": [],
   "source": [
    "Ez_vacuum        = E_inner_vacuum_sol_z(x).subs(kappa_vacuum_sol).subs(kappa_sol).subs(k_z_sol_subs).subs(eqEz_a).subs(A1_x_re_im_subs, A2_x_re_im_subs)\n",
    "Ez_bad_conductor = E_bad_conductor_sol_z(x).subs(kappa_vacuum_sol).subs(kappa_sol).subs(k_z_sol_subs).subs(eqEz_a).subs(A1_x_re_im_subs, A2_x_re_im_subs)"
   ]
  },
  {
   "cell_type": "raw",
   "metadata": {},
   "source": [
    "print             (Ez_vacuum)\n",
    "display(Math(latex(Ez_vacuum)))"
   ]
  },
  {
   "cell_type": "code",
   "execution_count": null,
   "metadata": {},
   "outputs": [],
   "source": [
    "Ez_bad_conductor_d = Ez_bad_conductor.subs(digit_values)\n",
    "Ez_vacuum_d        = Ez_vacuum.subs(digit_values)"
   ]
  },
  {
   "cell_type": "raw",
   "metadata": {},
   "source": [
    "print             (Ez_vacuum_d)\n",
    "display(Math(latex(Ez_vacuum_d)))"
   ]
  },
  {
   "cell_type": "raw",
   "metadata": {},
   "source": [
    "print             (Ez_bad_conductor_d)\n",
    "display(Math(latex(Ez_bad_conductor_d)))"
   ]
  },
  {
   "cell_type": "code",
   "execution_count": null,
   "metadata": {},
   "outputs": [],
   "source": [
    "Ez_vacuum_d.subs(x == -A), Ez_vacuum_d.subs(x == -A/2), Ez_vacuum_d.subs(x == 0)"
   ]
  },
  {
   "cell_type": "code",
   "execution_count": null,
   "metadata": {},
   "outputs": [],
   "source": []
  },
  {
   "cell_type": "code",
   "execution_count": null,
   "metadata": {},
   "outputs": [],
   "source": [
    "print             (Ex_vacuum_d.variables())\n",
    "print             (Ex_bad_conductor_d.variables())"
   ]
  },
  {
   "cell_type": "code",
   "execution_count": null,
   "metadata": {},
   "outputs": [],
   "source": [
    "print             (Ez_vacuum_d.variables())\n",
    "print             (Ez_bad_conductor_d.variables())"
   ]
  },
  {
   "cell_type": "code",
   "execution_count": null,
   "metadata": {},
   "outputs": [],
   "source": [
    "print             (Hy_vacuum_d.variables())\n",
    "print             (Hy_bad_conductor_d.variables())"
   ]
  },
  {
   "cell_type": "code",
   "execution_count": null,
   "metadata": {},
   "outputs": [],
   "source": []
  },
  {
   "cell_type": "raw",
   "metadata": {},
   "source": [
    "eq_Hy_d = Hy_bad_conductor_d.subs(x == 0) == Hy_vacuum_d.subs(x == 0)\n",
    "eq_Hy_d = eq_Hy_d.subs(A1_z == A1_z_re + I * A1_z_im)\n",
    "eq_Hy_d.variables()"
   ]
  },
  {
   "cell_type": "code",
   "execution_count": null,
   "metadata": {},
   "outputs": [],
   "source": []
  },
  {
   "cell_type": "code",
   "execution_count": null,
   "metadata": {},
   "outputs": [],
   "source": [
    "Ez_vacuum_d.subs(x == 0) == Ez_bad_conductor_d.subs(x == 0)"
   ]
  },
  {
   "cell_type": "code",
   "execution_count": null,
   "metadata": {},
   "outputs": [],
   "source": [
    "eq_Ex_d = Ex_vacuum_d.subs(x == 0) == epsilon_complex * Ex_bad_conductor_d.subs(x == 0)\n",
    "eq_Ex_d = eq_Ex_d.subs(digit_values)\n",
    "eq_Ex_d.variables()"
   ]
  },
  {
   "cell_type": "code",
   "execution_count": null,
   "metadata": {},
   "outputs": [],
   "source": [
    "eq_Ex_d = Ex_vacuum_d.subs(x == 0) == epsilon * Ex_bad_conductor_d.subs(x == 0)\n",
    "eq_Ex_d = eq_Ex_d.subs(digit_values)\n",
    "eq_Ex_d.variables()"
   ]
  },
  {
   "cell_type": "code",
   "execution_count": null,
   "metadata": {},
   "outputs": [],
   "source": []
  },
  {
   "cell_type": "code",
   "execution_count": null,
   "metadata": {},
   "outputs": [],
   "source": [
    "plt =  plot(Ez_vacuum_d.real(), (x, -A, 0))\n",
    "plt += plot(Ez_bad_conductor_d.real(), (x, 0, A))\n",
    "plt.show(title=\"График тангенциальной компоненты электрического поля\")"
   ]
  },
  {
   "cell_type": "code",
   "execution_count": null,
   "metadata": {},
   "outputs": [],
   "source": [
    "plt =  plot(Ez_vacuum_d.imag(), (x, -A, 0))\n",
    "plt += plot(Ez_bad_conductor_d.imag(), (x, 0, A))\n",
    "plt.show(title=\"График тангенциальной компоненты электрического поля\")"
   ]
  },
  {
   "cell_type": "code",
   "execution_count": null,
   "metadata": {},
   "outputs": [],
   "source": [
    "plt =  plot(Ez_vacuum_d.abs(), (x, -A, 0))\n",
    "plt += plot(Ez_bad_conductor_d.abs(), (x, 0, A))\n",
    "plt.show(title=\"График тангенциальной компоненты электрического поля\")"
   ]
  },
  {
   "cell_type": "code",
   "execution_count": null,
   "metadata": {},
   "outputs": [],
   "source": []
  },
  {
   "cell_type": "code",
   "execution_count": null,
   "metadata": {},
   "outputs": [],
   "source": [
    "plt =  plot(Ex_vacuum_d.real(), (x, -A, 0))\n",
    "plt += plot(Ex_bad_conductor_d.real(), (x, 0, A))\n",
    "plt.show(title=\"График нормальной компоненты электрического поля\")"
   ]
  },
  {
   "cell_type": "code",
   "execution_count": null,
   "metadata": {},
   "outputs": [],
   "source": [
    "plt =  plot(Ex_vacuum_d.imag(), (x, -A, 0))\n",
    "plt+= plot(Ex_bad_conductor_d.imag(), (x, 0, A))\n",
    "plt.show(title=\"График нормальной компоненты электрического поля\")"
   ]
  },
  {
   "cell_type": "code",
   "execution_count": null,
   "metadata": {
    "scrolled": true
   },
   "outputs": [],
   "source": [
    "plt =  plot(Ex_vacuum_d.abs(), (x, -A, 0))\n",
    "plt += plot(Ex_bad_conductor_d.abs(), (x, 0, A))\n",
    "plt.show(title=\"График нормальной компоненты электрического поля\")"
   ]
  },
  {
   "cell_type": "code",
   "execution_count": null,
   "metadata": {},
   "outputs": [],
   "source": []
  },
  {
   "cell_type": "raw",
   "metadata": {},
   "source": [
    "plt =  plot(even_E_inner_vacuum_x_d (x).imag(), (x, 0, A))\n",
    "plt += plot(even_E_bad_conductor_x_d (x).imag()*epsilon.subs(digit_values), (x, A, 3*A))\n",
    "plt.show(title=\"График нормальной компоненты электрического смещения\")"
   ]
  },
  {
   "cell_type": "code",
   "execution_count": null,
   "metadata": {},
   "outputs": [],
   "source": [
    "plt =  plot(Ex_vacuum_d.real(), (x, -A, 0))\n",
    "plt += plot(Ex_bad_conductor_d.real() * epsilon_d, (x, 0, A))\n",
    "plt.show(title=\"График нормальной компоненты электрического смещения\")"
   ]
  },
  {
   "cell_type": "code",
   "execution_count": null,
   "metadata": {},
   "outputs": [],
   "source": [
    "plt =  plot(Ex_vacuum_d.imag(), (x, -A, 0))\n",
    "plt += plot(Ex_bad_conductor_d.imag() * epsilon_d, (x, 0, A))\n",
    "plt.show(title=\"График нормальной компоненты электрического смещения\")"
   ]
  },
  {
   "cell_type": "code",
   "execution_count": null,
   "metadata": {
    "scrolled": true
   },
   "outputs": [],
   "source": [
    "plt =  plot(Ex_vacuum_d.abs(), (x, -A, 0))\n",
    "plt += plot(Ex_bad_conductor_d.abs() * epsilon_d, (x, 0, A))\n",
    "plt.show(title=\"График нормальной компоненты электрического смещения\")"
   ]
  },
  {
   "cell_type": "code",
   "execution_count": null,
   "metadata": {},
   "outputs": [],
   "source": []
  },
  {
   "cell_type": "code",
   "execution_count": null,
   "metadata": {},
   "outputs": [],
   "source": [
    "plt =  plot(Hy_vacuum_d.real(), (x, -A, 0))\n",
    "plt += plot(Hy_bad_conductor_d.real(), (x, 0, A))\n",
    "plt.show(title=\"График тангенциальной компоненты напряженности магнитного поля H\")"
   ]
  },
  {
   "cell_type": "code",
   "execution_count": null,
   "metadata": {},
   "outputs": [],
   "source": [
    "plt =  plot(Hy_vacuum_d.imag(), (x, -A, 0))\n",
    "plt += plot(Hy_bad_conductor_d.imag(), (x, 0, A))\n",
    "plt.show(title=\"График тангенциальной компоненты напряженности магнитного поля H\")"
   ]
  },
  {
   "cell_type": "code",
   "execution_count": null,
   "metadata": {},
   "outputs": [],
   "source": [
    "plt =  plot(Hy_vacuum_d.abs(), (x, -A, 0))\n",
    "plt += plot(Hy_bad_conductor_d.abs(), (x, 0, A))\n",
    "plt.show(title=\"График тангенциальной компоненты напряженности магнитного поля H\")"
   ]
  },
  {
   "cell_type": "code",
   "execution_count": null,
   "metadata": {},
   "outputs": [],
   "source": []
  },
  {
   "cell_type": "code",
   "execution_count": null,
   "metadata": {},
   "outputs": [],
   "source": [
    "#even_disp_eq_fa(x)"
   ]
  },
  {
   "cell_type": "markdown",
   "metadata": {},
   "source": [
    "Решение получено и соответствует приведенному в решебнике ответу.\n",
    "\n",
    "Теперь посчитаем:\n",
    "\n",
    "1) пондеромоторную силу, приложенную к идеальному проводнику\n",
    "\n",
    "2) пондеромоторную силу, приложенную к границе диэлектрика и вакуума\n"
   ]
  },
  {
   "cell_type": "code",
   "execution_count": null,
   "metadata": {},
   "outputs": [],
   "source": []
  },
  {
   "cell_type": "markdown",
   "metadata": {},
   "source": [
    "1) пондеромоторная сила, приложенная к идеальному проводнику"
   ]
  },
  {
   "cell_type": "code",
   "execution_count": null,
   "metadata": {},
   "outputs": [],
   "source": [
    "# superconductor force\n",
    "# additional 1/2 arises as result of integration on period\n",
    "f_superconductor = - abs((even_H_inner_vacuum_y (0)^2) / (2*8*pi))\n",
    "print(\"f_superconductor =\", f_superconductor)"
   ]
  },
  {
   "cell_type": "code",
   "execution_count": null,
   "metadata": {},
   "outputs": [],
   "source": [
    "f_superconductor_d = f_superconductor.subs(digit_values).subs(B2_z == 1, kappa == even_kappa_sol)\n",
    "print(\"f_superconductor_d =\", f_superconductor_d)"
   ]
  },
  {
   "cell_type": "markdown",
   "metadata": {},
   "source": [
    "2) пондеромоторная сила, приложенная к плохому проводнику"
   ]
  },
  {
   "cell_type": "code",
   "execution_count": null,
   "metadata": {},
   "outputs": [],
   "source": [
    "# bad conductor force\n",
    "# additional 1/2 arises as result of integration on period\n",
    "f_bad_conductor = abs((even_H_inner_vacuum_y (a)^2) / (2*8*pi))\n",
    "print(\"f_bad_conductor =\", f_bad_conductor)"
   ]
  },
  {
   "cell_type": "code",
   "execution_count": null,
   "metadata": {},
   "outputs": [],
   "source": [
    "f_bad_conductor_d  = f_bad_conductor .subs(digit_values).subs(B2_z == 1, kappa == even_kappa_sol, a == A)\n",
    "print(\"f_bad_conductor_d  =\", f_bad_conductor_d )"
   ]
  },
  {
   "cell_type": "code",
   "execution_count": null,
   "metadata": {},
   "outputs": [],
   "source": []
  },
  {
   "cell_type": "code",
   "execution_count": null,
   "metadata": {},
   "outputs": [],
   "source": [
    "# bad conductor force\n",
    "# additional 1/2 arises as result of integration on period\n",
    "p_bad_conductor = (1.0 - epsilon) *(even_E_inner_vacuum_z (a)^2) / (2*8*pi)\n",
    "print(\"p_bad_conductor =\", p_bad_conductor)"
   ]
  },
  {
   "cell_type": "code",
   "execution_count": null,
   "metadata": {},
   "outputs": [],
   "source": [
    "p_bad_conductor_d  = p_bad_conductor .subs(digit_values).subs(B2_z == 1, kappa == even_kappa_sol, a == A)\n",
    "print(\"p_bad_conductor_d  =\", p_bad_conductor_d )"
   ]
  },
  {
   "cell_type": "code",
   "execution_count": null,
   "metadata": {},
   "outputs": [],
   "source": []
  },
  {
   "cell_type": "code",
   "execution_count": null,
   "metadata": {
    "scrolled": true
   },
   "outputs": [],
   "source": [
    "# super conductor tension\n",
    "# additional 1/2 arises as result of integration on period\n",
    "t_super_conductor = (0.0 - 1/1.) *(even_E_inner_vacuum_x (0).imag()^2 + even_E_inner_vacuum_x(0).real()^2) / (2*8*pi)\n",
    "print(\"t_super_conductor =\", t_super_conductor)"
   ]
  },
  {
   "cell_type": "code",
   "execution_count": null,
   "metadata": {},
   "outputs": [],
   "source": [
    "t_super_conductor_d  = t_super_conductor .subs(digit_values).subs(B2_z == 1, kappa == even_kappa_sol, k_z == even_kz_sol, a == A)\n",
    "print(\"t_super_conductor_d  =\", t_super_conductor_d )"
   ]
  },
  {
   "cell_type": "code",
   "execution_count": null,
   "metadata": {},
   "outputs": [],
   "source": [
    "# bad conductor force\n",
    "# additional 1/2 arises as result of integration on period\n",
    "t_bad_conductor = (1.0/1.0 - 1/epsilon) *(even_E_inner_vacuum_x (a).imag()^2 + even_E_inner_vacuum_x(a).real()^2) / (2*8*pi)\n",
    "print(\"t_bad_conductor =\", t_bad_conductor)"
   ]
  },
  {
   "cell_type": "code",
   "execution_count": null,
   "metadata": {},
   "outputs": [],
   "source": [
    "t_bad_conductor_d  = t_bad_conductor .subs(digit_values).subs(B2_z == 1, kappa == even_kappa_sol, k_z == even_kz_sol, a == A)\n",
    "print(\"t_bad_conductor_d  =\", t_bad_conductor_d )"
   ]
  },
  {
   "cell_type": "code",
   "execution_count": null,
   "metadata": {},
   "outputs": [],
   "source": []
  },
  {
   "cell_type": "markdown",
   "metadata": {},
   "source": [
    "Результаты вычислений показывают, что тяга в волновом двигателе с внутренним расходом энергии Ф.Ф.Менде (MenDrive) ненулевая и равна"
   ]
  },
  {
   "cell_type": "code",
   "execution_count": null,
   "metadata": {},
   "outputs": [],
   "source": [
    "(f_superconductor + f_bad_conductor).full_simplify()"
   ]
  },
  {
   "cell_type": "code",
   "execution_count": null,
   "metadata": {},
   "outputs": [],
   "source": [
    "f_superconductor_d + f_bad_conductor_d + t_super_conductor_d + t_bad_conductor_d - p_bad_conductor_d"
   ]
  },
  {
   "cell_type": "code",
   "execution_count": null,
   "metadata": {},
   "outputs": [],
   "source": [
    "(f_superconductor_d + f_bad_conductor_d)"
   ]
  },
  {
   "cell_type": "code",
   "execution_count": null,
   "metadata": {},
   "outputs": [],
   "source": [
    "(t_super_conductor_d + t_bad_conductor_d)"
   ]
  },
  {
   "cell_type": "code",
   "execution_count": null,
   "metadata": {},
   "outputs": [],
   "source": [
    "-p_bad_conductor_d"
   ]
  },
  {
   "cell_type": "markdown",
   "metadata": {},
   "source": [
    "положительный знак соответствует направлению тяги в сторону увеличения значений x"
   ]
  },
  {
   "cell_type": "code",
   "execution_count": null,
   "metadata": {},
   "outputs": [],
   "source": []
  },
  {
   "cell_type": "code",
   "execution_count": null,
   "metadata": {},
   "outputs": [],
   "source": []
  },
  {
   "cell_type": "code",
   "execution_count": null,
   "metadata": {},
   "outputs": [],
   "source": []
  }
 ],
 "metadata": {
  "kernelspec": {
   "display_name": "SageMath 9.4.rc2",
   "language": "sage",
   "name": "sagemath"
  },
  "language_info": {
   "codemirror_mode": {
    "name": "ipython",
    "version": 3
   },
   "file_extension": ".py",
   "mimetype": "text/x-python",
   "name": "python",
   "nbconvert_exporter": "python",
   "pygments_lexer": "ipython3",
   "version": "3.9.5"
  }
 },
 "nbformat": 4,
 "nbformat_minor": 4
}
