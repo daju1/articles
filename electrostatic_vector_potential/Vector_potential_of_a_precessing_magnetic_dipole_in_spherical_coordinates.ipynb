{
 "cells": [
  {
   "cell_type": "markdown",
   "id": "d4ed3de1",
   "metadata": {},
   "source": [
    "Предыстория вопроса состоит в том, что в работе \n",
    "\n",
    "https://nbviewer.org/github/daju1/articles/blob/master/electrostatic_vector_potential/Vector_potential_of_the_electrostatic_field_of_a_point_charge.ipynb\n",
    "\n",
    "мне удалось записать векторный потенциал для кулоновского поля точечного электрического заряда. Таким образом формула для векторного потенциала кулоновского заряда получена и проверка показала, что операция ротора примененная к этому векторнному потенциалу дает кулоновское электрическое поле точечного заряда.\n",
    "\n",
    "Полученный векторный потенциал по своей форме весьма интересный. Его вид как будто показал, что существование электростатического заряда не возможно без выделенной оси вращения.\n",
    "\n",
    "Поэтому в настоящей работе я задаюсь следующим вопросом: может ли векторный потенциал кулоновского поля электрона создаваться, например, с помощью прецессии дипольного момента магнетона Бора?\n",
    "\n",
    "Таким образом я рассматриваю далее следующую задачу: имеется магнитный диполь с двумя противоположно заряженными магнитными полюсами, который прецессирует вокруг оси проходящей через центр магнитного диполя. Таким образом создаётся симметричная пара кольцевых магнитных токов, которые текут во взаимно противоположных направлениях (потому как движение по окружности в одном и том же направлении, например по часовой стрелке, пары магнитных зарядов, имеющих противоположные знаки создает пару взаимно противоположных по направлению кольцевых магнитных токов).\n",
    "\n",
    "Для решения этой задачи в литературе был найден алгоритм расчета векторного потенциала для кольцевого тока, который сводится к эллиптическим интегралам. Таким образом трехмерное интегрирование сводится к двумерному.\n",
    "\n",
    "И теперь я записываю интегральное уравнение, которое выглядит следующим образом: в левой части формула векторного потенциала кулоновского заряда, а в правой части двойной интеграл по пространственным координатам (в цилиндрической системе координат) источников магнитного тока по объему.\n",
    "\n",
    "Поскольку я рассматриваю не точечный магнитный заряд в составе прецессирующего диполя магнетона Бора, а распределенный в пространстве магнитный заряд, то в подынтегральном выражении моего интегрального уравнения есть два множителя: неизвестная функция плотности распределения магнитных токов в пространстве и так называемое ядро (или оператор) моего интегрального уравнения.\n",
    "\n",
    "Интегральное уравнение решается методом итераций. Из-за вычислительных сложностей многоитерационного интегирования в данной работе представлен результат лишь нулевого приближения неизвестной функции распределения магнитных токов прецессирующего магнетона Бора в пространстве."
   ]
  },
  {
   "cell_type": "markdown",
   "id": "f9050cb8",
   "metadata": {},
   "source": [
    "# Векторный потенциал кольцевого тока"
   ]
  },
  {
   "cell_type": "markdown",
   "id": "346301d7",
   "metadata": {},
   "source": [
    "Выберем ортогональную сферическую систему координат. Вектор тока в этой системе\n",
    "имеет только одну альфовую проекцию. Такую же составляющую должен иметь\n",
    "и вектор А\n",
    "\n",
    "$d\\vec{A} = \\frac{\\mu}{4 \\pi}\\int\\limits_{\\varphi}^{}\\frac{d\\vec{I}}{R}$\n",
    "\n",
    "Элемент интегрирования\n",
    "\n",
    "$d\\vec{l} = r\\, sin \\theta \\, d \\varphi \\,{\\vec {e}}_{\\varphi }$\n",
    "\n",
    "Его проекция на направление ${\\vec {e}}_{\\varphi }$: \n",
    "\n",
    "$dl_{\\varphi} = r\\, sin \\theta  \\, d \\varphi \\,cos\\,{\\varphi }$\n",
    "\n",
    "\n",
    "Поскольку расстояние между координатами заряда и точки наблюдения ${{R}}=\\left|\\overrightarrow{r_{q}} - \\overrightarrow{r_{a}}\\right|$ находится в знаменателе, то в сферической системе координат можно применить разложение по сферическим гармоникам следующего вида  \\cite{flugge}\n",
    "\n",
    "если $\\left( {{r}_{q}}<{{r}_{a}} \\right)$ то\n",
    "\n",
    "$\\frac{1}{\\left| \\overrightarrow{{{r}_{q}}}-\\overrightarrow{{{r}_{a}}} \\right|}=\\frac{1}{{{r}_{a}}}\\sum\\limits_{l=0}^{\\infty }{{{\\left( \\frac{{{r}_{q}}}{{{r}_{a}}} \\right)}^{l}}{{P}_{l}} \\cos \\left( \\gamma  \\right)}$\n",
    "\n",
    "и если $\\left( {{r}_{a}}<{{r}_{q}} \\right)$ то\n",
    "\n",
    "$\\frac{1}{\\left| \\overrightarrow{{{r}_{q}}}-\\overrightarrow{{{r}_{a}}} \\right|}=\\frac{1}{{{r}_{q}}}\\sum\\limits_{l=0}^{\\infty }{{{\\left( \\frac{{{r}_{a}}}{{{r}_{q}}} \\right)}^{l}}{{P}_{l}} \\cos \\left( \\gamma  \\right)}$\n",
    "\n",
    "В данной формуле ${{P}_{l}} \\cos \\left( \\gamma  \\right)$ это полиномы Лежандра аргумент которых $\\gamma$ есть угол между векторами ${{r}_{q}}$  и ${{r}_{a}}$. Применяя формулу, известную как теорему сложения\n",
    "\n",
    "${{P}_{l}}\\cos \\left( \\gamma  \\right)=\\frac{4\\pi }{2l+1}\\sum\\limits_{m=-l}^{l}{Y_{l,m}^{*}\\left( {{\\theta }_{a}},{{\\varphi }_{a}} \\right)}\\ {{Y}_{l,m}}\\left( {{\\theta }_{q}},{{\\varphi }_{q}} \\right)$\n",
    "\n",
    "получаем способ аналитического вычисления векторного потенциала кольцевого тока\n",
    "\n",
    "$\\vec{A} = \\frac{\\mu \\, I}{4 \\pi}\\int\\limits_{\\varphi}^{}\\frac{r_j \\, sin \\theta_j \\, d \\varphi \\,{\\vec {e}}_{\\varphi }}{R}$\n",
    "\n",
    "$dl_{\\varphi} = r_j \\, sin \\theta_j \\, d {\\left(\\varphi_j - \\varphi_a\\right)} \\,cos\\,{\\left(\\varphi_j - \\varphi_a\\right)}$"
   ]
  },
  {
   "cell_type": "markdown",
   "id": "3fefd08b",
   "metadata": {},
   "source": [
    "$A_{\\varphi} = \\frac{\\mu \\, I}{4 \\pi}\\int\\limits_{\\varphi}^{}\\frac{r_j \\, sin \\theta_j \\,cos\\,{\\left(\\varphi_j - \\varphi_a\\right)}}{R} \\, d {\\left(\\varphi_j - \\varphi_a\\right)}$"
   ]
  },
  {
   "cell_type": "markdown",
   "id": "7d9c2068",
   "metadata": {},
   "source": [
    "$A_{\\varphi} = \\frac{\\mu \\, I}{4 \\pi}r_j \\, sin \\theta_j \\,\\int\\limits_{{\\left(\\varphi_j - \\varphi_a\\right)}=0}^{2\\pi}\\frac{cos\\,{\\left(\\varphi_j - \\varphi_a\\right)}}{R} \\, d {\\left(\\varphi_j - \\varphi_a\\right)}$"
   ]
  },
  {
   "cell_type": "markdown",
   "id": "2416c70c",
   "metadata": {},
   "source": [
    "Перепишем разложение по сферическим гармоникам как\n",
    "\n",
    "если $\\left( {{r}_{q}}<{{r}_{a}} \\right)$ то\n",
    "\n",
    "$\\frac{1}{R} = \\frac{1}{\\left| \\overrightarrow{{{r}_{q}}}-\\overrightarrow{{{r}_{a}}} \\right|}=\\frac{1}{{{r}_{a}}}\\sum\\limits_{l=0}^{\\infty }{{{\\left( \\frac{{{r}_{q}}}{{{r}_{a}}} \\right)}^{l}}{\\frac{4\\pi }{2l+1}\\sum\\limits_{m=-l}^{l}{Y_{l,m}^{*}\\left( {{\\theta }_{a}},{{\\varphi }_{a}} \\right)}\\, {{Y}_{l,m}}\\left( {{\\theta }_{q}},{{\\varphi }_{q}} \\right)}}$\n",
    "\n",
    "и если $\\left( {{r}_{a}}<{{r}_{q}} \\right)$ то\n",
    "\n",
    "$\\frac{1}{R} = \\frac{1}{\\left| \\overrightarrow{{{r}_{q}}}-\\overrightarrow{{{r}_{a}}} \\right|}=\\frac{1}{{{r}_{q}}}\\sum\\limits_{l=0}^{\\infty }{{{\\left( \\frac{{{r}_{a}}}{{{r}_{q}}} \\right)}^{l}}{\\frac{4\\pi }{2l+1}\\sum\\limits_{m=-l}^{l}{Y_{l,m}^{*}\\left( {{\\theta }_{a}},{{\\varphi }_{a}} \\right)}\\, {{Y}_{l,m}}\\left( {{\\theta }_{q}},{{\\varphi }_{q}} \\right)}}$\n"
   ]
  },
  {
   "cell_type": "markdown",
   "id": "fd2809ac",
   "metadata": {},
   "source": [
    "Векторный потенциал кольцевого тока с учётом этого разложения\n",
    "\n",
    "если $\\left( {{r}_{q}}<{{r}_{a}} \\right)$ то\n",
    "\n",
    "$A_{\\varphi} = \\frac{\\mu \\, I}{4 \\pi}\\,r_q \\, sin \\theta_q \\,\\int\\limits_{{\\left(\\varphi_q - \\varphi_a\\right)}}^{} cos\\,{{\\left(\\varphi_q - \\varphi_a\\right)} } \\,\\frac{1}{{{r}_{a}}}\\sum\\limits_{l=0}^{\\infty }{{{\\left( \\frac{{{r}_{q}}}{{{r}_{a}}} \\right)}^{l}}{\\frac{4\\pi }{2l+1}\\sum\\limits_{m=-l}^{l}{Y_{l,m}^{*}\\left( {{\\theta }_{a}},{{\\varphi }_{a}} \\right)}\\, {{Y}_{l,m}}\\left( {{\\theta }_{q}},{{\\varphi }_{q}} \\right)}} \\, d {\\left(\\varphi_q - \\varphi_a\\right)}$\n",
    "\n",
    "и если $\\left( {{r}_{a}}<{{r}_{q}} \\right)$ то\n",
    "\n",
    "$A_{\\varphi} = \\frac{\\mu \\, I}{4 \\pi}\\,r_q \\, sin \\theta_q \\,\\int\\limits_{{\\left(\\varphi_q - \\varphi_a\\right)}}^{} cos\\,{{\\left(\\varphi_q - \\varphi_a\\right)} } \\, \\frac{1}{{{r}_{q}}}\\sum\\limits_{l=0}^{\\infty }{{{\\left( \\frac{{{r}_{a}}}{{{r}_{q}}} \\right)}^{l}}{\\frac{4\\pi }{2l+1}\\sum\\limits_{m=-l}^{l}{Y_{l,m}^{*}\\left( {{\\theta }_{a}},{{\\varphi }_{a}} \\right)}\\, {{Y}_{l,m}}\\left( {{\\theta }_{q}},{{\\varphi }_{q}} \\right)}} \\, d {\\left(\\varphi_q - \\varphi_a\\right)}$"
   ]
  },
  {
   "cell_type": "markdown",
   "id": "7c3e59d8",
   "metadata": {},
   "source": [
    "Исходя из симметричности задачи относительно поворота вокруг угла $\\varphi$ в дальнейших рассуждениях мы можем пойти двумя путями - либо положить $\\varphi_q=0$ либо положить $\\varphi_a = 0$"
   ]
  },
  {
   "cell_type": "markdown",
   "id": "d046a6d4",
   "metadata": {},
   "source": [
    "Перенеся операцию интегрирования получаем\n",
    "\n",
    "если $\\left( {{r}_{q}}<{{r}_{a}} \\right)$ то\n",
    "\n",
    "$A_{\\varphi} = \\frac{\\mu \\, I}{4 \\pi}\\,r_q \\, sin \\theta_q \\,\\frac{1}{{{r}_{a}}}\\sum\\limits_{l=0}^{\\infty }{{{\\left( \\frac{{{r}_{q}}}{{{r}_{a}}} \\right)}^{l}}{\\frac{4\\pi }{2l+1}\\sum\\limits_{m=-l}^{l}{Y_{l,m}^{*}\\left( {{\\theta }_{a}},{{\\varphi }_{a}} \\right)}\\, \\int\\limits_{\\varphi_q}^{} cos\\,{\\varphi_q } \\, {{Y}_{l,m}}\\left( {{\\theta }_{q}},{{\\varphi }_{q}} \\right)}} \\, d \\varphi_q$\n",
    "\n",
    "и если $\\left( {{r}_{a}}<{{r}_{q}} \\right)$ то\n",
    "\n",
    "$A_{\\varphi} = \\frac{\\mu \\, I}{4 \\pi}\\,r_q \\, sin \\theta_q \\, \\frac{1}{{{r}_{q}}}\\sum\\limits_{l=0}^{\\infty }{{{\\left( \\frac{{{r}_{a}}}{{{r}_{q}}} \\right)}^{l}}{\\frac{4\\pi }{2l+1}\\sum\\limits_{m=-l}^{l}{Y_{l,m}^{*}\\left( {{\\theta }_{a}},{{\\varphi }_{a}} \\right)}\\,\\int\\limits_{\\varphi_q}^{} cos\\,{\\varphi_q } \\, {{Y}_{l,m}}\\left( {{\\theta }_{q}},{{\\varphi }_{q}} \\right)}} \\, d \\varphi_q$"
   ]
  },
  {
   "cell_type": "code",
   "execution_count": 1,
   "id": "f92423f4",
   "metadata": {},
   "outputs": [],
   "source": [
    "from IPython.display import display, Math, Latex\n",
    "\n",
    "def disp(ex):\n",
    "    display(Math(latex(ex)))\n",
    "    \n",
    "def displ(tex):\n",
    "    display(Math(tex))"
   ]
  },
  {
   "cell_type": "code",
   "execution_count": 2,
   "id": "983748e7",
   "metadata": {},
   "outputs": [],
   "source": [
    "theta_m = var(\"theta_m\")\n",
    "theta_a = var(\"theta_a\")\n",
    "#assume (theta_a, \"real\")\n",
    "r_m = var(\"r_m\")\n",
    "r_a = var(\"r_a\")\n",
    "\n",
    "assume(r_m>0)\n",
    "assume(r_a>0)"
   ]
  },
  {
   "cell_type": "code",
   "execution_count": 22,
   "id": "9d8a2853",
   "metadata": {},
   "outputs": [
    {
     "data": {
      "text/latex": [
       "$\\displaystyle \\begin{cases}{-\\pi Y_{l}^{1}\\left(\\theta_{m}, 2 \\, \\pi\\right)} & {m = \\left(-1\\right)}\\\\{\\pi Y_{l}^{1}\\left(\\theta_{m}, 2 \\, \\pi\\right)} & {m = 1}\\\\{\\frac{i \\, m Y_{l}^{m}\\left(\\theta_{m}, 0\\right)}{m^{2} - 1} - \\frac{i \\, m Y_{l}^{m}\\left(\\theta_{m}, 2 \\, \\pi\\right)}{m^{2} - 1}} & {1}\\end{cases}$"
      ],
      "text/plain": [
       "<IPython.core.display.Math object>"
      ]
     },
     "metadata": {},
     "output_type": "display_data"
    }
   ],
   "source": [
    "from sage.functions.special import spherical_harmonic\n",
    "from sage.symbolic.integration.integral import definite_integral\n",
    "from sage.calculus.calculus import symbolic_sum\n",
    "\n",
    "l, m = var(\"l, m\")\n",
    "theta_m, phi_m = var (\"theta_m, phi_m\")\n",
    "theta_a, phi_a = var (\"theta_a, phi_a\")\n",
    "disp(integrate(spherical_harmonic(l, m, theta_m, phi_m)*cos(phi_m), phi_m, 0, 2*pi, algorithm=\"sympy\"))"
   ]
  },
  {
   "cell_type": "code",
   "execution_count": 4,
   "id": "6ad6fea9",
   "metadata": {},
   "outputs": [
    {
     "data": {
      "text/latex": [
       "$\\displaystyle \\begin{cases}{-\\pi Y_{l}^{1}\\left(\\theta_{a}, 2 \\, \\pi\\right) + \\frac{1}{2} i \\, Y_{l}^{1}\\left(\\theta_{a}, 0\\right) - \\frac{1}{2} i \\, Y_{l}^{1}\\left(\\theta_{a}, 2 \\, \\pi\\right)} & {m = \\left(-1\\right)}\\\\{\\pi Y_{l}^{1}\\left(\\theta_{a}, 2 \\, \\pi\\right) + \\frac{1}{2} i \\, Y_{l}^{1}\\left(\\theta_{a}, 0\\right) - \\frac{1}{2} i \\, Y_{l}^{1}\\left(\\theta_{a}, 2 \\, \\pi\\right)} & {m = 1}\\\\{-\\frac{i \\, m e^{\\left(-4 i \\, \\pi m\\right)} Y_{l}^{m}\\left(\\theta_{a}, 2 \\, \\pi\\right)}{m^{2} e^{\\left(-4 i \\, \\pi m\\right)} - e^{\\left(-4 i \\, \\pi m\\right)}} + \\frac{i \\, m Y_{l}^{m}\\left(\\theta_{a}, 0\\right)}{m^{2} - 1}} & {1}\\end{cases}$"
      ],
      "text/plain": [
       "<IPython.core.display.Math object>"
      ]
     },
     "metadata": {},
     "output_type": "display_data"
    }
   ],
   "source": [
    "disp(integrate(spherical_harmonic(l, m, theta_a, -phi_a)*cos(phi_a), phi_a, -2*pi, 0, algorithm=\"sympy\"))"
   ]
  },
  {
   "cell_type": "code",
   "execution_count": 5,
   "id": "56b958dd",
   "metadata": {},
   "outputs": [
    {
     "data": {
      "text/latex": [
       "$\\displaystyle \\begin{cases}{\\pi Y_{l}^{1}\\left(\\theta_{a}, 2 \\, \\pi\\right)} & {m = \\left(-1\\right)}\\\\{-\\pi Y_{l}^{1}\\left(\\theta_{a}, 2 \\, \\pi\\right)} & {m = 1}\\\\{-\\frac{i \\, m Y_{l}^{m}\\left(\\theta_{a}, 0\\right)}{m^{2} - 1} + \\frac{i \\, m Y_{l}^{m}\\left(\\theta_{a}, 2 \\, \\pi\\right)}{m^{2} - 1}} & {1}\\end{cases}$"
      ],
      "text/plain": [
       "<IPython.core.display.Math object>"
      ]
     },
     "metadata": {},
     "output_type": "display_data"
    }
   ],
   "source": [
    "disp(integrate(spherical_harmonic(l, m, theta_a, phi_a)*cos(-phi_a), -phi_a, 0, 2*pi))"
   ]
  },
  {
   "cell_type": "code",
   "execution_count": 6,
   "id": "4e4d7607",
   "metadata": {},
   "outputs": [
    {
     "data": {
      "text/latex": [
       "$\\displaystyle \\begin{cases}{-\\pi Y_{l}^{1}\\left(\\theta_{a}, 2 \\, \\pi\\right)} & {m = \\left(-1\\right)}\\\\{\\pi Y_{l}^{1}\\left(\\theta_{a}, 2 \\, \\pi\\right)} & {m = 1}\\\\{\\frac{i \\, m Y_{l}^{m}\\left(\\theta_{a}, 0\\right)}{m^{2} - 1} - \\frac{i \\, m Y_{l}^{m}\\left(\\theta_{a}, 2 \\, \\pi\\right)}{m^{2} - 1}} & {1}\\end{cases}$"
      ],
      "text/plain": [
       "<IPython.core.display.Math object>"
      ]
     },
     "metadata": {},
     "output_type": "display_data"
    }
   ],
   "source": [
    "disp(integrate(spherical_harmonic(l, m, theta_a, phi_a)*cos(phi_a), phi_a, 0, 2*pi))"
   ]
  },
  {
   "cell_type": "code",
   "execution_count": 7,
   "id": "464ce3f3",
   "metadata": {},
   "outputs": [
    {
     "data": {
      "text/latex": [
       "$\\displaystyle \\begin{cases}{-\\pi Y_{l}^{1}\\left(\\theta_{m}, 2 \\, \\pi\\right)} & {m = \\left(-1\\right)}\\\\{\\pi Y_{l}^{1}\\left(\\theta_{m}, 2 \\, \\pi\\right)} & {m = 1}\\\\{\\frac{i \\, m Y_{l}^{m}\\left(\\theta_{m}, 0\\right)}{m^{2} - 1} - \\frac{i \\, m Y_{l}^{m}\\left(\\theta_{m}, 2 \\, \\pi\\right)}{m^{2} - 1}} & {1}\\end{cases}$"
      ],
      "text/plain": [
       "<IPython.core.display.Math object>"
      ]
     },
     "metadata": {},
     "output_type": "display_data"
    }
   ],
   "source": [
    "disp(integrate(spherical_harmonic(l, m, theta_m, phi_m)*cos(phi_m), phi_m, 0, 2*pi))"
   ]
  },
  {
   "cell_type": "code",
   "execution_count": 8,
   "id": "ff89fd38",
   "metadata": {},
   "outputs": [
    {
     "data": {
      "text/latex": [
       "$\\displaystyle \\int_{0}^{2 \\, \\pi} \\cos\\left(\\phi_{m}\\right) Y_{l}^{m}\\left(\\theta_{m}, \\phi_{m}\\right)\\,{d \\phi_{m}}$"
      ],
      "text/plain": [
       "<IPython.core.display.Math object>"
      ]
     },
     "metadata": {},
     "output_type": "display_data"
    }
   ],
   "source": [
    "disp(integrate(spherical_harmonic(l, m, theta_m, phi_m)*cos(phi_m), phi_m, 0, 2*pi, hold=True))"
   ]
  },
  {
   "cell_type": "code",
   "execution_count": 9,
   "id": "d3bd6b07",
   "metadata": {},
   "outputs": [
    {
     "data": {
      "text/latex": [
       "$\\displaystyle \\int_{0}^{2 \\, \\pi} \\cos\\left(-\\phi_{a}\\right) Y_{l}^{m}\\left(\\theta_{a}, \\phi_{a}\\right)\\,{d \\left(-\\phi_{a}\\right)}$"
      ],
      "text/plain": [
       "<IPython.core.display.Math object>"
      ]
     },
     "metadata": {},
     "output_type": "display_data"
    }
   ],
   "source": [
    "disp(integrate(spherical_harmonic(l, m, theta_a, phi_a)*cos(-phi_a), -phi_a, 0, 2*pi, hold=True))"
   ]
  },
  {
   "cell_type": "code",
   "execution_count": 10,
   "id": "9c63d9a3",
   "metadata": {},
   "outputs": [
    {
     "data": {
      "text/plain": [
       "cases(((m == -1, -pi*spherical_harmonic(l, 1, theta_m, 2*pi) + 1/2*I*spherical_harmonic(l, 1, theta_m, 0) - 1/2*I*spherical_harmonic(l, 1, theta_m, 2*pi)), (m == 1, pi*spherical_harmonic(l, 1, theta_m, 2*pi) + 1/2*I*spherical_harmonic(l, 1, theta_m, 0) - 1/2*I*spherical_harmonic(l, 1, theta_m, 2*pi)), (1, I*m*spherical_harmonic(l, m, theta_m, 0)/(m^2 - 1) - I*m*spherical_harmonic(l, m, theta_m, 2*pi)/(m^2 - 1))))"
      ]
     },
     "execution_count": 10,
     "metadata": {},
     "output_type": "execute_result"
    }
   ],
   "source": [
    "integrate(spherical_harmonic(l, m, theta_m, phi_m)*cos(phi_m), phi_m, 0, 2*pi)"
   ]
  },
  {
   "cell_type": "code",
   "execution_count": 11,
   "id": "f06e27de",
   "metadata": {},
   "outputs": [
    {
     "data": {
      "text/plain": [
       "cases(((m == -1, pi*spherical_harmonic(l, 1, theta_a, 2*pi) - 1/2*I*spherical_harmonic(l, 1, theta_a, 0) + 1/2*I*spherical_harmonic(l, 1, theta_a, 2*pi)), (m == 1, -pi*spherical_harmonic(l, 1, theta_a, 2*pi) - 1/2*I*spherical_harmonic(l, 1, theta_a, 0) + 1/2*I*spherical_harmonic(l, 1, theta_a, 2*pi)), (1, -I*m*spherical_harmonic(l, m, theta_a, 0)/(m^2 - 1) + I*m*spherical_harmonic(l, m, theta_a, 2*pi)/(m^2 - 1))))"
      ]
     },
     "execution_count": 11,
     "metadata": {},
     "output_type": "execute_result"
    }
   ],
   "source": [
    "integrate(spherical_harmonic(l, m, theta_a, phi_a)*cos(-phi_a), -phi_a, 0, 2*pi)"
   ]
  },
  {
   "cell_type": "code",
   "execution_count": 12,
   "id": "e36a15b6",
   "metadata": {},
   "outputs": [
    {
     "data": {
      "text/plain": [
       "cases(((m == -1, -pi*spherical_harmonic(l, 1, theta_a, 2*pi) + 1/2*I*spherical_harmonic(l, 1, theta_a, 0) - 1/2*I*spherical_harmonic(l, 1, theta_a, 2*pi)), (m == 1, pi*spherical_harmonic(l, 1, theta_a, 2*pi) + 1/2*I*spherical_harmonic(l, 1, theta_a, 0) - 1/2*I*spherical_harmonic(l, 1, theta_a, 2*pi)), (1, I*m*spherical_harmonic(l, m, theta_a, 0)/(m^2 - 1) - I*m*spherical_harmonic(l, m, theta_a, 2*pi)/(m^2 - 1))))"
      ]
     },
     "execution_count": 12,
     "metadata": {},
     "output_type": "execute_result"
    }
   ],
   "source": [
    "integrate(spherical_harmonic(l, m, theta_a, phi_a)*cos(phi_a), phi_a, 0, 2*pi)"
   ]
  },
  {
   "cell_type": "code",
   "execution_count": 13,
   "id": "0075e0c8",
   "metadata": {},
   "outputs": [],
   "source": [
    "def sympy_sum(expression, v, a, b):\n",
    "    try:\n",
    "        expression,v,a,b = [expr._sympy_() for expr in (expression, v, a, b)]\n",
    "    except Exception as ex:\n",
    "        #print(\"warning:\", str(ex))\n",
    "        pass\n",
    "    from sympy import summation\n",
    "    from sage.interfaces.sympy import sympy_init\n",
    "    sympy_init()\n",
    "    result = summation(expression, (v, a, b))\n",
    "    \n",
    "    try:\n",
    "        return result._sage_()\n",
    "    except AttributeError:\n",
    "        #print(result)\n",
    "        return result\n",
    "        #raise AttributeError(\"Unable to convert SymPy result (={}) into\"\n",
    "        #        \" Sage\".format(result))\n",
    "    except NotImplementedError as err:\n",
    "        #print(result)\n",
    "        return result\n",
    "        #raise err"
   ]
  },
  {
   "cell_type": "code",
   "execution_count": 123,
   "id": "81aaef68",
   "metadata": {},
   "outputs": [],
   "source": [
    "# З.Флюгге Задачи по квантовой механике, том 2, стр. 299 формула (24)\n",
    "def legendre_sum_A_ring_int_phi_q_hold(l, theta_m, theta_a, hold=True):\n",
    "    from sage.functions.special import spherical_harmonic\n",
    "    m = var(\"m\")\n",
    "    f = lambda l, m, theta_m, theta_a : \\\n",
    "        integrate(spherical_harmonic(l, m, theta_m, phi_m)*cos(phi_m), phi_m, 0, 2*pi, hold=hold) \\\n",
    "                  * conjugate(spherical_harmonic(l, m, theta_a, 0))\n",
    "    return 4 * pi / (2*l + 1) * symbolic_sum(f(l, m, theta_m, theta_a), m, -l, l, hold=hold)\n",
    "\n",
    "def legendre_sum_A_ring_hold(l, theta_m, theta_a, hold=True):\n",
    "    return legendre_sum_A_ring_int_phi_q_hold(l, theta_m, theta_a, hold=hold)"
   ]
  },
  {
   "cell_type": "code",
   "execution_count": 17,
   "id": "d47b9aa1",
   "metadata": {},
   "outputs": [],
   "source": [
    "# З.Флюгге Задачи по квантовой механике, том 2, стр. 299 формула (24)\n",
    "def legendre_sum_A_ring_int_phi_a_hold(l, theta_m, theta_a, hold=True):\n",
    "    from sage.functions.special import spherical_harmonic\n",
    "    m = var(\"m\")\n",
    "    f = lambda l, m, theta_m, theta_a : \\\n",
    "        spherical_harmonic(l, m, theta_m, 0) \\\n",
    "                  * conjugate(integrate(spherical_harmonic(l, m, theta_a, phi_a)*cos(phi_a), phi_a, 0, 2*pi, hold=hold))\n",
    "    return 4 * pi / (2*l + 1) * symbolic_sum(f(l, m, theta_m, theta_a), m, -l, l, hold=hold)"
   ]
  },
  {
   "cell_type": "code",
   "execution_count": 18,
   "id": "74f9864d",
   "metadata": {},
   "outputs": [],
   "source": [
    "# З.Флюгге Задачи по квантовой механике, том 2, стр. 299 формула (24)\n",
    "def legendre_sum_A_ring_int_phi_a(l, theta_m, theta_a):\n",
    "    from sage.functions.special import spherical_harmonic\n",
    "    m = var(\"m\")\n",
    "    f = lambda l, m, theta_m, theta_a : \\\n",
    "        spherical_harmonic(l, m, theta_m, 0) \\\n",
    "                  * conjugate( \\\n",
    "                        cases(((m == -1, -pi*spherical_harmonic(l, 1, theta_a, 2*pi)), \\\n",
    "                               (m == 1, pi*spherical_harmonic(l, 1, theta_a, 2*pi)), \\\n",
    "                               (1, I*m*spherical_harmonic(l, m, theta_a, 0)/(m^2 - 1) \\\n",
    "                                 - I*m*spherical_harmonic(l, m, theta_a, 2*pi)/(m^2 - 1)))) \\\n",
    "                             )\n",
    "    return 4 * pi / (2*l + 1) * symbolic_sum(f(l, m, theta_m, theta_a), m, -l, l, hold=True)"
   ]
  },
  {
   "cell_type": "code",
   "execution_count": 19,
   "id": "2a5a759b",
   "metadata": {},
   "outputs": [],
   "source": [
    "# З.Флюгге Задачи по квантовой механике, том 2, стр. 299 формула (24)\n",
    "def legendre_sum_A_ring_int_phi_a_sympy(l, theta_m, theta_a):\n",
    "    from sage.functions.special import spherical_harmonic\n",
    "    m = var(\"m\")\n",
    "    f = lambda l, m, theta_m, theta_a : \\\n",
    "        spherical_harmonic(l, m, theta_m, 0) \\\n",
    "                  * conjugate( \\\n",
    "                        cases(((m == -1, -pi*spherical_harmonic(l, 1, theta_a, 2*pi)), \\\n",
    "                               (m == 1, pi*spherical_harmonic(l, 1, theta_a, 2*pi)), \\\n",
    "                               (1, I*m*spherical_harmonic(l, m, theta_a, 0)/(m^2 - 1) \\\n",
    "                                 - I*m*spherical_harmonic(l, m, theta_a, 2*pi)/(m^2 - 1)))) \\\n",
    "                             )\n",
    "    return 4 * pi / (2*l + 1) * sympy_sum(f(l, m, theta_m, theta_a), m, -l, l)"
   ]
  },
  {
   "cell_type": "code",
   "execution_count": 25,
   "id": "4cb6cb88",
   "metadata": {},
   "outputs": [],
   "source": [
    "# З.Флюгге Задачи по квантовой механике, том 2, стр. 299 формула (24)\n",
    "def legendre_sum_A_ring_int_phi_a_sympy_diff_theta_a(l, theta_m, theta_a):\n",
    "    from sage.functions.special import spherical_harmonic\n",
    "    m = var(\"m\")\n",
    "    f = lambda l, m, theta_m, theta_a : \\\n",
    "        spherical_harmonic(l, m, theta_m, 0) \\\n",
    "                  * conjugate( \\\n",
    "                        cases(((m == -1, -pi*spherical_harmonic(l, 1, theta_a, 2*pi).diff(theta_a)), \\\n",
    "                               (m == 1, pi*spherical_harmonic(l, 1, theta_a, 2*pi).diff(theta_a)), \\\n",
    "                               (1, I*m*spherical_harmonic(l, m, theta_a, 0).diff(theta_a)/(m^2 - 1) \\\n",
    "                                 - I*m*spherical_harmonic(l, m, theta_a, 2*pi).diff(theta_a)/(m^2 - 1)))) \\\n",
    "                             )\n",
    "    return 4 * pi / (2*l + 1) * sympy_sum(f(l, m, theta_m, theta_a), m, -l, l)"
   ]
  },
  {
   "cell_type": "code",
   "execution_count": 26,
   "id": "1f9fe7b0",
   "metadata": {},
   "outputs": [
    {
     "data": {
      "text/latex": [
       "$\\displaystyle \\frac{4 \\, \\pi {\\sum_{m=-l}^{l} \\overline{Y_{l}^{m}\\left(\\theta_{a}, 0\\right)} \\int_{0}^{2 \\, \\pi} \\cos\\left(\\phi_{m}\\right) Y_{l}^{m}\\left(\\theta_{m}, \\phi_{m}\\right)\\,{d \\phi_{m}}}}{2 \\, l + 1}$"
      ],
      "text/plain": [
       "<IPython.core.display.Math object>"
      ]
     },
     "metadata": {},
     "output_type": "display_data"
    }
   ],
   "source": [
    "disp(legendre_sum_A_ring_int_phi_q_hold(l, theta_m, theta_a))"
   ]
  },
  {
   "cell_type": "code",
   "execution_count": 27,
   "id": "8c6a8165",
   "metadata": {},
   "outputs": [
    {
     "data": {
      "text/latex": [
       "$\\displaystyle \\frac{4 \\, \\pi {\\sum_{m=-l}^{l} \\overline{\\int_{0}^{2 \\, \\pi} \\cos\\left(-\\phi_{a}\\right) Y_{l}^{m}\\left(\\theta_{a}, \\phi_{a}\\right)\\,{d \\left(-\\phi_{a}\\right)}} Y_{l}^{m}\\left(\\theta_{m}, 0\\right)}}{2 \\, l + 1}$"
      ],
      "text/plain": [
       "<IPython.core.display.Math object>"
      ]
     },
     "metadata": {},
     "output_type": "display_data"
    }
   ],
   "source": [
    "disp(legendre_sum_A_ring_int_phi_a_hold_(l, theta_m, theta_a))"
   ]
  },
  {
   "cell_type": "code",
   "execution_count": 28,
   "id": "98c91ad5",
   "metadata": {},
   "outputs": [
    {
     "data": {
      "text/latex": [
       "$\\displaystyle \\frac{4 \\, \\pi {\\sum_{m=-l}^{l} \\overline{\\int_{-2 \\, \\pi}^{0} \\cos\\left(\\phi_{a}\\right) Y_{l}^{m}\\left(\\theta_{a}, -\\phi_{a}\\right)\\,{d \\phi_{a}}} Y_{l}^{m}\\left(\\theta_{m}, 0\\right)}}{2 \\, l + 1}$"
      ],
      "text/plain": [
       "<IPython.core.display.Math object>"
      ]
     },
     "metadata": {},
     "output_type": "display_data"
    }
   ],
   "source": [
    "disp(legendre_sum_A_ring_int_phi_a_hold__(l, theta_m, theta_a))"
   ]
  },
  {
   "cell_type": "code",
   "execution_count": 30,
   "id": "e241a583",
   "metadata": {},
   "outputs": [
    {
     "data": {
      "text/latex": [
       "$\\displaystyle \\frac{4 \\, \\pi {\\sum_{m=-l}^{l} \\overline{\\int_{0}^{2 \\, \\pi} \\cos\\left(\\phi_{a}\\right) Y_{l}^{m}\\left(\\theta_{a}, \\phi_{a}\\right)\\,{d \\phi_{a}}} Y_{l}^{m}\\left(\\theta_{m}, 0\\right)}}{2 \\, l + 1}$"
      ],
      "text/plain": [
       "<IPython.core.display.Math object>"
      ]
     },
     "metadata": {},
     "output_type": "display_data"
    }
   ],
   "source": [
    "disp(legendre_sum_A_ring_int_phi_a_hold(l, theta_m, theta_a))"
   ]
  },
  {
   "cell_type": "code",
   "execution_count": 31,
   "id": "1bf71385",
   "metadata": {},
   "outputs": [],
   "source": [
    "# З.Флюгге Задачи по квантовой механике, том 2, стр. 299 формула (24)\n",
    "def legendre_sum_A_ring(l, theta_m, theta_a):\n",
    "    from sage.functions.special import spherical_harmonic\n",
    "    m = var(\"m\")\n",
    "    f = lambda l, m, theta_m, theta_a : \\\n",
    "        cases(((m == -1, -pi*spherical_harmonic(l, 1, theta_m, 2*pi)), \\\n",
    "               (m == 1, pi*spherical_harmonic(l, 1, theta_m, 2*pi)), \\\n",
    "               (1, I*m*spherical_harmonic(l, m, theta_m, 0)/(m^2 - 1) \\\n",
    "                 - I*m*spherical_harmonic(l, m, theta_m, 2*pi)/(m^2 - 1)))) \\\n",
    "                  * conjugate(spherical_harmonic(l, m, theta_a, 0))\n",
    "    return 4 * pi / (2*l + 1) * symbolic_sum(f(l, m, theta_m, theta_a), m, -l, l)"
   ]
  },
  {
   "cell_type": "code",
   "execution_count": 32,
   "id": "b84f966f",
   "metadata": {},
   "outputs": [],
   "source": [
    "# З.Флюгге Задачи по квантовой механике, том 2, стр. 299 формула (24)\n",
    "def legendre_sum_A_ring_sympy(l, theta_m, theta_a):\n",
    "    from sage.functions.special import spherical_harmonic\n",
    "    m = var(\"m\")\n",
    "    f = lambda l, m, theta_m, theta_a : \\\n",
    "        cases(((m == -1, -pi*spherical_harmonic(l, 1, theta_m, 2*pi)), \\\n",
    "               (m == 1, pi*spherical_harmonic(l, 1, theta_m, 2*pi)), \\\n",
    "               (1, I*m*spherical_harmonic(l, m, theta_m, 0)/(m^2 - 1) \\\n",
    "                 - I*m*spherical_harmonic(l, m, theta_m, 2*pi)/(m^2 - 1)))) \\\n",
    "                  * conjugate(spherical_harmonic(l, m, theta_a, 0))\n",
    "\n",
    "    return 4 * pi / (2*l + 1) * sympy_sum(f(l, m, theta_m, theta_a), m, -l, l)"
   ]
  },
  {
   "cell_type": "code",
   "execution_count": 33,
   "id": "bb25acc7",
   "metadata": {},
   "outputs": [],
   "source": [
    "# З.Флюгге Задачи по квантовой механике, том 2, стр. 299 формула (24)\n",
    "def legendre_sum_A_ring_sympy_diff_theta_a(l, theta_m, theta_a):\n",
    "    from sage.functions.special import spherical_harmonic\n",
    "    m = var(\"m\")\n",
    "    f = lambda l, m, theta_m, theta_a : \\\n",
    "        cases(((m == -1, -pi*spherical_harmonic(l, 1, theta_m, 2*pi)), \\\n",
    "               (m == 1, pi*spherical_harmonic(l, 1, theta_m, 2*pi)), \\\n",
    "               (1, I*m*spherical_harmonic(l, m, theta_m, 0)/(m^2 - 1) \\\n",
    "                 - I*m*spherical_harmonic(l, m, theta_m, 2*pi)/(m^2 - 1)))) \\\n",
    "                  * conjugate(spherical_harmonic(l, m, theta_a, 0).diff(theta_a))\n",
    "\n",
    "    return 4 * pi / (2*l + 1) * sympy_sum(f(l, m, theta_m, theta_a), m, -l, l)"
   ]
  },
  {
   "cell_type": "raw",
   "id": "660fc0bd",
   "metadata": {},
   "source": [
    "# З.Флюгге Задачи по квантовой механике, том 2, стр. 299 формула (24)\n",
    "def legendre_sum_A_ring(l, theta_q, theta_a):\n",
    "    from sage.functions.special import spherical_harmonic\n",
    "    m = var(\"m\")\n",
    "    f = lambda l, m, theta_q, theta_a : \\\n",
    "        cases(((m == -1, -pi*spherical_harmonic(l, 1, theta_q, 2*pi) \\\n",
    "                + 1/2*I*spherical_harmonic(l, 1, theta_q, 0) \\\n",
    "                - 1/2*I*spherical_harmonic(l, 1, theta_q, 2*pi)), \\\n",
    "               (m == 1, pi*spherical_harmonic(l, 1, theta_q, 2*pi) \\\n",
    "                + 1/2*I*spherical_harmonic(l, 1, theta_q, 0) \\\n",
    "                - 1/2*I*spherical_harmonic(l, 1, theta_q, 2*pi)), \\\n",
    "               (1, I*m*spherical_harmonic(l, m, theta_q, 0)/(m^2 - 1) \\\n",
    "                - I*m*spherical_harmonic(l, m, theta_q, 2*pi)/(m^2 - 1)))) \\\n",
    "                  * conjugate(spherical_harmonic(l, m, theta_a, 0))\n",
    "    return 4 * pi / (2*l + 1) * symbolic_sum(f(l, m, theta_q, theta_a), m, -l, l)\n",
    "    # return 4 * pi / (2*l + 1) * sympy_sum(f(l, m, theta_q, theta_a), m, -l, l)"
   ]
  },
  {
   "cell_type": "markdown",
   "id": "6ebc700d",
   "metadata": {},
   "source": [
    "если $\\left( {{r}_{q}}<{{r}_{a}} \\right)$ то\n",
    "\n",
    "$A_{\\varphi} = \\frac{\\mu \\, I}{4 \\pi}\\,r_q \\, sin \\theta_q \\,\\frac{1}{{{r}_{a}}}\\sum\\limits_{l=0}^{\\infty }{{{\\left( \\frac{{{r}_{q}}}{{{r}_{a}}} \\right)}^{l}}{\\frac{4\\pi }{2l+1}\\sum\\limits_{m=-l}^{l}{Y_{l,m}^{*}\\left( {{\\theta }_{a}},{{\\varphi }_{a}} \\right)}\\, \\int\\limits_{\\varphi_q}^{} cos\\,{\\varphi_q } \\, {{Y}_{l,m}}\\left( {{\\theta }_{q}},{{\\varphi }_{q}} \\right)}} \\, d \\varphi_q$\n",
    "\n",
    "и если $\\left( {{r}_{a}}<{{r}_{q}} \\right)$ то\n",
    "\n",
    "$A_{\\varphi} = \\frac{\\mu \\, I}{4 \\pi}\\,r_q \\, sin \\theta_q \\, \\frac{1}{{{r}_{q}}}\\sum\\limits_{l=0}^{\\infty }{{{\\left( \\frac{{{r}_{a}}}{{{r}_{q}}} \\right)}^{l}}{\\frac{4\\pi }{2l+1}\\sum\\limits_{m=-l}^{l}{Y_{l,m}^{*}\\left( {{\\theta }_{a}},{{\\varphi }_{a}} \\right)}\\,\\int\\limits_{\\varphi_q}^{} cos\\,{\\varphi_q } \\, {{Y}_{l,m}}\\left( {{\\theta }_{q}},{{\\varphi }_{q}} \\right)}} \\, d \\varphi_q$"
   ]
  },
  {
   "cell_type": "code",
   "execution_count": 35,
   "id": "000c832c",
   "metadata": {},
   "outputs": [],
   "source": [
    "# З.Флюгге Задачи по квантовой механике, том 2, стр. 300 формула (29)\n",
    "def a_ring_rq_less_than_ra(l, r_m, theta_m, r_a, theta_a):\n",
    "    #if r_m < r_a:\n",
    "    return r_m * sin(theta_m) * ((1/r_a)*((r_m/r_a)^l)*legendre_sum_A_ring(l, theta_m, theta_a))\n",
    "def a_ring_ra_less_than_rq(l, r_m, theta_m, r_a, theta_a):\n",
    "    # if r_a < r_m\n",
    "    return r_m * sin(theta_m) * ((1/r_m)*((r_a/r_m)^l)*legendre_sum_A_ring(l, theta_m, theta_a))"
   ]
  },
  {
   "cell_type": "code",
   "execution_count": 36,
   "id": "b241021e",
   "metadata": {},
   "outputs": [],
   "source": [
    "# З.Флюгге Задачи по квантовой механике, том 2, стр. 300 формула (29)\n",
    "def a_ring_rq_less_than_ra_sympy(l, r_m, theta_m, r_a, theta_a):\n",
    "    #if r_m < r_a:\n",
    "    return r_m * sin(theta_m) * ((1/r_a)*((r_m/r_a)^l)*legendre_sum_A_ring_sympy(l, theta_m, theta_a))\n",
    "def a_ring_ra_less_than_rq_sympy(l, r_m, theta_m, r_a, theta_a):\n",
    "    # if r_a < r_m\n",
    "    return r_m * sin(theta_m) * ((1/r_m)*((r_a/r_m)^l)*legendre_sum_A_ring_sympy(l, theta_m, theta_a))"
   ]
  },
  {
   "cell_type": "code",
   "execution_count": 37,
   "id": "ffdce21c",
   "metadata": {},
   "outputs": [],
   "source": [
    "# З.Флюгге Задачи по квантовой механике, том 2, стр. 300 формула (29)\n",
    "def a_ring(l, r_m, theta_m, r_a, theta_a):\n",
    "    if r_m < r_a:\n",
    "        return a_ring_rq_less_than_ra(l, r_m, theta_m, r_a, theta_a)\n",
    "    else:\n",
    "        # if r_a < r_m\n",
    "        return a_ring_ra_less_than_rq(l, r_m, theta_m, r_a, theta_a)"
   ]
  },
  {
   "cell_type": "code",
   "execution_count": 38,
   "id": "bc9a17a3",
   "metadata": {},
   "outputs": [],
   "source": [
    "# З.Флюгге Задачи по квантовой механике, том 2, стр. 300 формула (29)\n",
    "def a_ring_sympy(l, r_m, theta_m, r_a, theta_a):\n",
    "    if r_m < r_a:\n",
    "        return a_ring_rq_less_than_ra_sympy(l, r_m, theta_m, r_a, theta_a)\n",
    "    else:\n",
    "        # if r_a < r_m\n",
    "        return a_ring_ra_less_than_rq_sympy(l, r_m, theta_m, r_a, theta_a)"
   ]
  },
  {
   "cell_type": "code",
   "execution_count": 39,
   "id": "4a763d2d",
   "metadata": {},
   "outputs": [],
   "source": [
    "def a_dipol_rq_less_than_ra(l, r_m, theta_m, r_a, theta_a):\n",
    "    return a_ring_rq_less_than_ra(l, r_m, theta_m, r_a, theta_a) \\\n",
    "         - a_ring_rq_less_than_ra(l, r_m, pi - theta_m, r_a, theta_a)"
   ]
  },
  {
   "cell_type": "code",
   "execution_count": 81,
   "id": "7b5fda57",
   "metadata": {},
   "outputs": [],
   "source": [
    "def a_dipol_rq_less_than_ra_sympy(l, r_m, theta_m, r_a, theta_a):\n",
    "    return a_ring_rq_less_than_ra_sympy(l, r_m, theta_m, r_a, theta_a) \\\n",
    "         - a_ring_rq_less_than_ra_sympy(l, r_m, pi - theta_m, r_a, theta_a)"
   ]
  },
  {
   "cell_type": "code",
   "execution_count": 40,
   "id": "d2626fa0",
   "metadata": {},
   "outputs": [],
   "source": [
    "def a_dipol_ra_less_than_rq(l, r_m, theta_m, r_a, theta_a):\n",
    "    return a_ring_ra_less_than_rq(l, r_m, theta_m, r_a, theta_a) \\\n",
    "         - a_ring_ra_less_than_rq(l, r_m, pi - theta_m, r_a, theta_a)"
   ]
  },
  {
   "cell_type": "code",
   "execution_count": 82,
   "id": "790cb0d7",
   "metadata": {},
   "outputs": [],
   "source": [
    "def a_dipol_ra_less_than_rq_sympy(l, r_m, theta_m, r_a, theta_a):\n",
    "    return a_ring_ra_less_than_rq_sympy(l, r_m, theta_m, r_a, theta_a) \\\n",
    "         - a_ring_ra_less_than_rq_sympy(l, r_m, pi - theta_m, r_a, theta_a)"
   ]
  },
  {
   "cell_type": "raw",
   "id": "68fe12a7",
   "metadata": {},
   "source": [
    "legendre_sum_A_ring(5, theta_m, theta_a)"
   ]
  },
  {
   "cell_type": "raw",
   "id": "f9a2a83d",
   "metadata": {},
   "source": [
    "L = 10\n",
    "sympy_sum(A_ring_rq_less_than_ra(l=l, r_q=1, theta_q=pi/3, r_a=2, theta_a=pi/4), l, 0, L)"
   ]
  },
  {
   "cell_type": "code",
   "execution_count": 65,
   "id": "747ae905",
   "metadata": {},
   "outputs": [],
   "source": [
    "def A_ring_rq_less_than_ra(L, r_m, theta_m, r_a, theta_a):\n",
    "    A_ring = 0\n",
    "    for l in range(0, L):\n",
    "        A_ring += a_ring_rq_less_than_ra(l, r_m, theta_m, r_a, theta_a)\n",
    "    return A_ring\n",
    "\n",
    "def A_ring_rq_less_than_ra_sympy(L, r_m, theta_m, r_a, theta_a):\n",
    "    A_ring = 0\n",
    "    for l in range(0, L):\n",
    "        A_ring += a_ring_rq_less_than_ra_sympy(l, r_m, theta_m, r_a, theta_a)\n",
    "    return A_ring\n",
    "\n",
    "def A_ring_rq_less_than_ra_cyl(L, rq, zq, ra, za):\n",
    "    r_q = sqrt(rq^2 + zq^2)\n",
    "    r_a = sqrt(ra^2 + za^2)\n",
    "    theta_q = atan2(rq, zq)\n",
    "    theta_a = atan2(ra, za)\n",
    "    return A_ring_rq_less_than_ra(L, r_q, theta_q, r_a, theta_a)"
   ]
  },
  {
   "cell_type": "code",
   "execution_count": 83,
   "id": "7c6b16f1",
   "metadata": {},
   "outputs": [],
   "source": [
    "def A_dipol_rq_less_than_ra(L, r_m, theta_m, r_a, theta_a):\n",
    "    A_dipol = 0\n",
    "    for l in range(0, L):\n",
    "        A_dipol += a_dipol_rq_less_than_ra(l, r_m, theta_m, r_a, theta_a)\n",
    "    return A_dipol\n",
    "\n",
    "def A_dipol_rq_less_than_ra_sympy(L, r_m, theta_m, r_a, theta_a):\n",
    "    A_dipol = 0\n",
    "    for l in range(0, L):\n",
    "        A_dipol += a_dipol_rq_less_than_ra_sympy(l, r_m, theta_m, r_a, theta_a)\n",
    "    return A_dipol\n",
    "\n",
    "def A_dipol_rq_less_than_ra_cyl(L, rq, zq, ra, za):\n",
    "    r_q = sqrt(rq^2 + zq^2)\n",
    "    r_a = sqrt(ra^2 + za^2)\n",
    "    theta_q = atan2(rq, zq)\n",
    "    theta_a = atan2(ra, za)\n",
    "    return A_dipol_rq_less_than_ra(L, r_q, theta_q, r_a, theta_a)"
   ]
  },
  {
   "cell_type": "code",
   "execution_count": 63,
   "id": "74450d27",
   "metadata": {},
   "outputs": [],
   "source": [
    "def A_ring_ra_less_than_rq(L, r_m, theta_m, r_a, theta_a):\n",
    "    A_ring = 0\n",
    "    for l in range(0, L):\n",
    "        A_ring += a_ring_ra_less_than_rq(l, r_m, theta_m, r_a, theta_a)\n",
    "    return A_ring\n",
    "\n",
    "def A_ring_ra_less_than_rq_sympy(L, r_m, theta_m, r_a, theta_a):\n",
    "    A_ring = 0\n",
    "    for l in range(0, L):\n",
    "        A_ring += a_ring_ra_less_than_rq_sympy(l, r_m, theta_m, r_a, theta_a)\n",
    "    return A_ring\n",
    "\n",
    "def A_ring_ra_less_than_rq_cyl(L, rq, zq, ra, za):\n",
    "    r_q = sqrt(rq^2 + zq^2)\n",
    "    r_a = sqrt(ra^2 + za^2)\n",
    "    theta_q = atan2(rq, zq)\n",
    "    theta_a = atan2(ra, za)\n",
    "    return A_ring_ra_less_than_rq(L, r_q, theta_q, r_a, theta_a)"
   ]
  },
  {
   "cell_type": "code",
   "execution_count": 66,
   "id": "3d6f9072",
   "metadata": {},
   "outputs": [],
   "source": [
    "def A_dipol_ra_less_than_rq(L, r_m, theta_m, r_a, theta_a):\n",
    "    A_dipol = 0\n",
    "    for l in range(0, L):\n",
    "        A_dipol += a_dipol_ra_less_than_rq(l, r_m, theta_m, r_a, theta_a)\n",
    "    return A_dipol\n",
    "\n",
    "def A_dipol_ra_less_than_rq_sympy(L, r_m, theta_m, r_a, theta_a):\n",
    "    A_dipol = 0\n",
    "    for l in range(0, L):\n",
    "        A_dipol += a_dipol_ra_less_than_rq_sympy(l, r_m, theta_m, r_a, theta_a)\n",
    "    return A_dipol\n",
    "\n",
    "def A_dipol_ra_less_than_rq_cyl(L, rq, zq, ra, za):\n",
    "    r_q = sqrt(rq^2 + zq^2)\n",
    "    r_a = sqrt(ra^2 + za^2)\n",
    "    theta_q = atan2(rq, zq)\n",
    "    theta_a = atan2(ra, za)\n",
    "    return A_dipol_ra_less_than_rq(L, r_q, theta_q, r_a, theta_a)"
   ]
  },
  {
   "cell_type": "code",
   "execution_count": 52,
   "id": "cf1904aa",
   "metadata": {},
   "outputs": [],
   "source": [
    "def A_ring(L, r_m, theta_m, r_a, theta_a):\n",
    "    if r_m < r_a:\n",
    "        return A_ring_rq_less_than_ra(L, r_m, theta_m, r_a, theta_a)\n",
    "    else:\n",
    "        # if r_a < r_q\n",
    "        return A_ring_ra_less_than_rq(L, r_m, theta_m, r_a, theta_a)"
   ]
  },
  {
   "cell_type": "code",
   "execution_count": 58,
   "id": "a7437033",
   "metadata": {},
   "outputs": [],
   "source": [
    "def A_ring_sympy(L, r_m, theta_m, r_a, theta_a):\n",
    "    if r_m < r_a:\n",
    "        return A_ring_rq_less_than_ra_sympy(L, r_m, theta_m, r_a, theta_a)\n",
    "    else:\n",
    "        # if r_a < r_q\n",
    "        return A_ring_ra_less_than_rq_sympy(L, r_m, theta_m, r_a, theta_a)"
   ]
  },
  {
   "cell_type": "code",
   "execution_count": 53,
   "id": "cdb19de2",
   "metadata": {},
   "outputs": [],
   "source": [
    "def A_dipol(L, r_m, theta_m, r_a, theta_a):\n",
    "    if r_m < r_a:\n",
    "        return A_dipol_rq_less_than_ra(L, r_m, theta_m, r_a, theta_a)\n",
    "    else:\n",
    "        # if r_a < r_q\n",
    "        return A_dipol_ra_less_than_rq(L, r_m, theta_m, r_a, theta_a)"
   ]
  },
  {
   "cell_type": "code",
   "execution_count": 78,
   "id": "29d10b0f",
   "metadata": {},
   "outputs": [],
   "source": [
    "def A_dipol_sympy(L, r_m, theta_m, r_a, theta_a):\n",
    "    if r_m < r_a:\n",
    "        return A_dipol_rq_less_than_ra_sympy(L, r_m, theta_m, r_a, theta_a)\n",
    "    else:\n",
    "        # if r_a < r_q\n",
    "        return A_dipol_ra_less_than_rq_sympy(L, r_m, theta_m, r_a, theta_a)"
   ]
  },
  {
   "cell_type": "code",
   "execution_count": 57,
   "id": "bf6fb888",
   "metadata": {},
   "outputs": [],
   "source": [
    "def A_ring_cyl(L, rq, zq, ra, za):\n",
    "    r_q = sqrt(rq^2 + zq^2)\n",
    "    r_a = sqrt(ra^2 + za^2)\n",
    "    theta_q = atan2(rq, zq)\n",
    "    theta_a = atan2(ra, za)\n",
    "    return A_ring_sympy(L, r_q, theta_q, r_a, theta_a)"
   ]
  },
  {
   "cell_type": "code",
   "execution_count": 79,
   "id": "047943fa",
   "metadata": {},
   "outputs": [],
   "source": [
    "def A_dipol_cyl(L, rq, zq, ra, za):\n",
    "    r_q = sqrt(rq^2 + zq^2)\n",
    "    r_a = sqrt(ra^2 + za^2)\n",
    "    theta_q = atan2(rq, zq)\n",
    "    theta_a = atan2(ra, za)\n",
    "    return A_dipol_sympy(L, r_q, theta_q, r_a, theta_a)"
   ]
  },
  {
   "cell_type": "code",
   "execution_count": 50,
   "id": "152b990a",
   "metadata": {},
   "outputs": [],
   "source": [
    "# a and b for ring\n",
    "a = lambda rj, ra, zj, za : 1 + (ra/rj)^2 + ((zj-za)/rj)^2\n",
    "b = lambda rj, ra : 2 * (ra/rj)\n",
    "# m for ring\n",
    "M = lambda rj, ra, zj, za : 2 * b (rj, ra) / (a(rj, ra, zj, za) + b(rj, ra))\n",
    "# k_K and k_E for ring\n",
    "k_K = lambda rj, ra, zj, za : 2 * a(rj, ra, zj, za) / b(rj, ra) / sqrt(a(rj, ra, zj, za) + b(rj, ra))\n",
    "k_E = lambda rj, ra, zj, za : 2 * sqrt(a(rj, ra, zj, za) + b(rj, ra)) / b(rj, ra)\n",
    "A_ring_elliptic = lambda rj, ra, zj, za : \\\n",
    "       + k_K(rj, ra, zj, za) * elliptic_kc(M(rj, ra, zj, za)) \\\n",
    "       - k_E(rj, ra, zj, za) * elliptic_ec(M(rj, ra, zj, za))"
   ]
  },
  {
   "cell_type": "markdown",
   "id": "f6b96963",
   "metadata": {},
   "source": [
    "Векторный потенциал токового кольца на высоте $z = 0.2 r$"
   ]
  },
  {
   "cell_type": "code",
   "execution_count": 67,
   "id": "97626ec8",
   "metadata": {},
   "outputs": [],
   "source": [
    "plot_data_A_ring_r_L10 = []\n",
    "for ir in range(1,20):\n",
    "    # Расстояние от оси R/r (лин шкала)\n",
    "    ra = 0.1 * ir\n",
    "    A_phi_ring = A_ring_cyl(L=10, rq = 1, zq = 0, ra = ra, za = 0.2)\n",
    "    plot_data_A_ring_r_L10 += [(ra, A_phi_ring)]"
   ]
  },
  {
   "cell_type": "code",
   "execution_count": 68,
   "id": "73379a72",
   "metadata": {},
   "outputs": [],
   "source": [
    "plot_data_A_ring_r_L20 = []\n",
    "for ir in range(1,20):\n",
    "    # Расстояние от оси R/r (лин шкала)\n",
    "    ra = 0.1 * ir\n",
    "    A_phi_ring = A_ring_cyl(L=20, rq = 1, zq = 0, ra = ra, za = 0.2)\n",
    "    plot_data_A_ring_r_L20 += [(ra, A_phi_ring)]"
   ]
  },
  {
   "cell_type": "code",
   "execution_count": 69,
   "id": "7713112e",
   "metadata": {},
   "outputs": [],
   "source": [
    "plot_data_A_ring_r_L30 = []\n",
    "for ir in range(1,20):\n",
    "    # Расстояние от оси R/r (лин шкала)\n",
    "    ra = 0.1 * ir\n",
    "    A_phi_ring = A_ring_cyl(L=30, rq = 1, zq = 0, ra = ra, za = 0.2)\n",
    "    plot_data_A_ring_r_L30 += [(ra, A_phi_ring)]"
   ]
  },
  {
   "cell_type": "code",
   "execution_count": 70,
   "id": "922144fc",
   "metadata": {},
   "outputs": [],
   "source": [
    "plot_data_A_ring_r_L40 = []\n",
    "for ir in range(1,20):\n",
    "    # Расстояние от оси R/r (лин шкала)\n",
    "    ra = 0.1 * ir\n",
    "    A_phi_ring = A_ring_cyl(L=40, rq = 1, zq = 0, ra = ra, za = 0.2)\n",
    "    plot_data_A_ring_r_L40 += [(ra, A_phi_ring)]"
   ]
  },
  {
   "cell_type": "code",
   "execution_count": 71,
   "id": "8e957bf5",
   "metadata": {},
   "outputs": [],
   "source": [
    "p  = list_plot(plot_data_A_ring_r_L10, color = \"red\")\n",
    "p += list_plot(plot_data_A_ring_r_L20, color = \"green\")\n",
    "p += list_plot(plot_data_A_ring_r_L30, color = \"blue\")\n",
    "p += list_plot(plot_data_A_ring_r_L40, color = \"yellow\")"
   ]
  },
  {
   "cell_type": "code",
   "execution_count": 72,
   "id": "782064f7",
   "metadata": {},
   "outputs": [
    {
     "data": {
      "image/png": "[encoded data removed]",
      "text/plain": [
       "Graphics object consisting of 5 graphics primitives"
      ]
     },
     "metadata": {},
     "output_type": "display_data"
    }
   ],
   "source": [
    "p += plot(A_ring_elliptic(rj = 1, ra = r_a, zj = 0, za = 0.2), (r_a, 0, 2))\n",
    "p.show(title=\"Векторный потенциал токового кольца на высоте $z_a=0.2r_j$\",\n",
    "       axes_labels=[\"Расстояние от оси $r_a$\", \"\"])"
   ]
  },
  {
   "cell_type": "code",
   "execution_count": 73,
   "id": "a3ff408f",
   "metadata": {},
   "outputs": [
    {
     "data": {
      "image/png": "[encoded data removed]",
      "text/plain": [
       "Graphics object consisting of 6 graphics primitives"
      ]
     },
     "metadata": {},
     "output_type": "display_data"
    }
   ],
   "source": [
    "# как видно путём сравнения эллиптического подхода\n",
    "# в циллиндрической системе координат\n",
    "# и разложения через сферические функции\n",
    "# в сферической системе координат где-то в выкладках потеряна двойка\n",
    "\n",
    "p += plot(2*A_ring_elliptic(rj = 1, ra = r_a, zj = 0, za = 0.2), (r_a, 0, 2))\n",
    "p.show(title=\"Векторный потенциал токового кольца на высоте za=0.2rj\",\n",
    "       axes_labels=[\"Расстояние от оси ra\", \"\"])"
   ]
  },
  {
   "cell_type": "code",
   "execution_count": 116,
   "id": "b59f29ce",
   "metadata": {},
   "outputs": [
    {
     "data": {
      "image/png": "[encoded data removed]",
      "text/plain": [
       "Graphics object consisting of 1 graphics primitive"
      ]
     },
     "metadata": {},
     "output_type": "display_data"
    }
   ],
   "source": [
    "plot_data_A_ring_r = []\n",
    "for ir in range(1,50):\n",
    "    # Расстояние от оси R/r (лин шкала)\n",
    "    ra = 0.1 * ir\n",
    "    A_phi_ring = A_ring_cyl(L=40, rq = 1, zq = 0, ra = ra, za = 0.2)\n",
    "    plot_data_A_ring_r += [(ra, A_phi_ring)]\n",
    "\n",
    "p = list_plot(plot_data_A_ring_r)\n",
    "p.show(title=\"Векторный потенциал токового кольца на высоте za=0.2rj\",\n",
    "       axes_labels=[\"Расстояние от оси ra\", \"\"])"
   ]
  },
  {
   "cell_type": "code",
   "execution_count": null,
   "id": "a54fcb81",
   "metadata": {},
   "outputs": [],
   "source": [
    "p = plot(A_ring_cyl(L=30, rq = 1, zq = 0, ra = r_a, za = 0.2), (r_a, 0, 1))\n",
    "p.show(title=\"Векторный потенциал токового кольца на высоте za=0.2rj\",\n",
    "       axes_labels=[\"Расстояние от оси ra\", \"\"])"
   ]
  },
  {
   "cell_type": "markdown",
   "id": "a16f2440",
   "metadata": {},
   "source": [
    "Измерительный контур равного с кольцом диаметра приподнятый на $z/r$"
   ]
  },
  {
   "cell_type": "code",
   "execution_count": 91,
   "id": "6c26c6cc",
   "metadata": {},
   "outputs": [],
   "source": [
    "z_a = var(\"z_a\")"
   ]
  },
  {
   "cell_type": "code",
   "execution_count": 127,
   "id": "68d21c30",
   "metadata": {},
   "outputs": [],
   "source": [
    "plot_data_A_ring_z_L10 = []\n",
    "for iz in range(1,20):\n",
    "    za = 0.05 * iz\n",
    "    A_phi_ring = A_ring_cyl(L=10, rq = 1, zq = 0, ra = 1, za = za)\n",
    "    plot_data_A_ring_z_L10 += [(za, A_phi_ring)]"
   ]
  },
  {
   "cell_type": "code",
   "execution_count": 137,
   "id": "7f869eaa",
   "metadata": {},
   "outputs": [],
   "source": [
    "plot_data_A_ring_z_L20 = []\n",
    "for iz in range(1,20):\n",
    "    za = 0.05 * iz\n",
    "    A_phi_ring = A_ring_cyl(L=20, rq = 1, zq = 0, ra = 1, za = za)\n",
    "    plot_data_A_ring_z_L20 += [(za, A_phi_ring)]"
   ]
  },
  {
   "cell_type": "code",
   "execution_count": 146,
   "id": "f8bea7f6",
   "metadata": {},
   "outputs": [],
   "source": [
    "plot_data_A_ring_z_L30 = []\n",
    "for iz in range(1,40):\n",
    "    za = 0.025 * iz\n",
    "    A_phi_ring = A_ring_cyl(L=30, rq = 1, zq = 0, ra = 1, za = za)\n",
    "    plot_data_A_ring_z_L30 += [(za, A_phi_ring)]"
   ]
  },
  {
   "cell_type": "code",
   "execution_count": 147,
   "id": "ce7fbe0a",
   "metadata": {},
   "outputs": [
    {
     "data": {
      "image/png": "[encoded data removed]",
      "text/plain": [
       "Graphics object consisting of 3 graphics primitives"
      ]
     },
     "metadata": {},
     "output_type": "display_data"
    }
   ],
   "source": [
    "p  = list_plot(plot_data_A_ring_z_L10, color = \"red\")\n",
    "p += list_plot(plot_data_A_ring_z_L20, color = \"green\")\n",
    "p += list_plot(plot_data_A_ring_z_L30, color = \"blue\")\n",
    "p.show(title=\"Векторный потенциал Измерительного контура равного с токовым кольцом диаметра приподнятого на z/r\",\n",
    "       axes_labels=[\"Высота подъема za\", \"\"])"
   ]
  },
  {
   "cell_type": "code",
   "execution_count": 148,
   "id": "269fb073",
   "metadata": {},
   "outputs": [
    {
     "data": {
      "image/png": "[encoded data removed]",
      "text/plain": [
       "Graphics object consisting of 4 graphics primitives"
      ]
     },
     "metadata": {},
     "output_type": "display_data"
    }
   ],
   "source": [
    "p += plot(A_ring_elliptic(rj = 1, ra = 1, zj = 0, za = z_a), (z_a, 0, 1))\n",
    "p.show(title=\"Векторный потенциал Измерительного контура равного с токовым кольцом диаметра приподнятого на z/r\",\n",
    "       axes_labels=[\"Высота подъема za\", \"\"])"
   ]
  },
  {
   "cell_type": "code",
   "execution_count": 149,
   "id": "10a92f35",
   "metadata": {},
   "outputs": [
    {
     "data": {
      "image/png": "[encoded data removed]",
      "text/plain": [
       "Graphics object consisting of 5 graphics primitives"
      ]
     },
     "metadata": {},
     "output_type": "display_data"
    }
   ],
   "source": [
    "z_a = var(\"z_a\")\n",
    "p += plot(2*A_ring_elliptic(rj = 1, ra = 1, zj = 0, za = z_a), (z_a, 0, 1))\n",
    "p.show(title=\"Векторный потенциал Измерительного контура равного с токовым кольцом диаметра приподнятого на z/r\",\n",
    "       axes_labels=[\"Высота подъема za\", \"\"])"
   ]
  },
  {
   "cell_type": "markdown",
   "id": "ed75fdd4",
   "metadata": {},
   "source": [
    "# Векторный потенциал электростатического поля точечного заряда\n",
    "\n",
    "$$\\vec A = -\\frac{ z}{{\\rho}\\sqrt{\\rho^{2} + z^{2}} }\\,{\\vec {e}}_{\\varphi }$$"
   ]
  },
  {
   "cell_type": "markdown",
   "id": "161a2c5c",
   "metadata": {},
   "source": [
    "$$\\vec A = -\\frac{сtg \\, \\theta}{r}\\,{\\vec {e}}_{\\varphi }$$"
   ]
  },
  {
   "cell_type": "raw",
   "id": "e35babdd",
   "metadata": {},
   "source": [
    "A_q = lambda ra, za : za / (ra * sqrt(ra^2 + za^2))"
   ]
  },
  {
   "cell_type": "code",
   "execution_count": 75,
   "id": "115a3407",
   "metadata": {},
   "outputs": [],
   "source": [
    "A_q = lambda ra, theta_a : cot(theta_a) / (ra)"
   ]
  },
  {
   "cell_type": "raw",
   "id": "b4720e91",
   "metadata": {},
   "source": [
    "p = plot(A_q(ra = r_a, za = 1), (r_a, 0.05, 5))\n",
    "p.show(title=\"Векторный потенциал электростатического поля точечного заряда на высоте za=1\",\n",
    "       axes_labels=[\"Расстояние от оси ra\", \"\"])"
   ]
  },
  {
   "cell_type": "markdown",
   "id": "b30977ed",
   "metadata": {},
   "source": [
    "Измерительный контур заданного диаметра приподнятый на высоту z"
   ]
  },
  {
   "cell_type": "raw",
   "id": "74500b2f",
   "metadata": {},
   "source": [
    "p = plot(A_q(ra = 1, za = z_a), (z_a, 0.05, 10))\n",
    "p.show(title=\"Векторный потенциал электростатического поля точечного заряда Измерительного контура заданного диаметра приподнятого на высоту z\",\n",
    "       axes_labels=[\"Высота подъема za\", \"\"])"
   ]
  },
  {
   "cell_type": "raw",
   "id": "fbab76e8",
   "metadata": {},
   "source": [
    "contour_plot(A_q(ra=r_a, za=z_a), (r_a,0.2,4), (z_a,0,4), fill=False, cmap='hsv', labels=True)"
   ]
  },
  {
   "cell_type": "raw",
   "id": "3eebdd3a",
   "metadata": {},
   "source": [
    "contour_plot(A_q(ra=r_a, za=z_a), (r_a,0.2,2), (z_a,0,4), fill=False, cmap='hsv', labels=True)"
   ]
  },
  {
   "cell_type": "markdown",
   "id": "8269b53d",
   "metadata": {},
   "source": [
    "# Векторный потенциал прецессирующего магнитного диполя"
   ]
  },
  {
   "cell_type": "code",
   "execution_count": 76,
   "id": "c2c7cdb6",
   "metadata": {},
   "outputs": [],
   "source": [
    "A_dipol_elliptic = lambda rj, ra, zj, za : \\\n",
    "        + A_ring_elliptic(rj, ra, +zj, za) \\\n",
    "        - A_ring_elliptic(rj, ra, -zj, za)"
   ]
  },
  {
   "cell_type": "markdown",
   "id": "e543ef67",
   "metadata": {},
   "source": [
    "Векторный потенциал прецессирующего магнитного диполя на высоте za в зависимости от Расстояние от оси ra"
   ]
  },
  {
   "cell_type": "code",
   "execution_count": 84,
   "id": "181084e8",
   "metadata": {},
   "outputs": [],
   "source": [
    "plot_data_A_dipol_r_L10 = []\n",
    "for ir in range(1,20):\n",
    "    # Расстояние от оси R/r (лин шкала)\n",
    "    ra = 0.1 * ir\n",
    "    d = .1\n",
    "    A_phi_dipol = A_dipol_cyl(L=10, rq = 1*d, zq = d, ra = ra, za = 1)\n",
    "    plot_data_A_dipol_r_L10 += [(ra, A_phi_dipol)]"
   ]
  },
  {
   "cell_type": "code",
   "execution_count": 85,
   "id": "11c1e16c",
   "metadata": {},
   "outputs": [
    {
     "data": {
      "image/png": "[encoded data removed]",
      "text/plain": [
       "Graphics object consisting of 1 graphics primitive"
      ]
     },
     "metadata": {},
     "output_type": "display_data"
    }
   ],
   "source": [
    "p = plot(A_dipol_elliptic(rj = 1*d, ra = r_a, zj = d, za = 1), (r_a, 0, 10))\n",
    "p.show(title=\"Векторный потенциал прецессирующего магнитного диполя на высоте za\",\n",
    "       axes_labels=[\"Расстояние от оси ra\", \"\"])"
   ]
  },
  {
   "cell_type": "markdown",
   "id": "600bbb0a",
   "metadata": {},
   "source": [
    "Измерительный контур равного с кольцом диаметра приподнятый на z/r"
   ]
  },
  {
   "cell_type": "code",
   "execution_count": 88,
   "id": "10134675",
   "metadata": {},
   "outputs": [],
   "source": [
    "plot_data_A_dipol_z_L10 = []\n",
    "for iz in range(1,20):\n",
    "    za = 0.1 * iz\n",
    "    d=1\n",
    "    if (za != 1):\n",
    "        A_phi_dipol = A_dipol_cyl(L=10, rq = 1*d, zq = 1*d, ra = 2, za = za)\n",
    "        #print(za, A_phi_dipol)\n",
    "        plot_data_A_dipol_z_L10 += [(za, A_phi_dipol)]"
   ]
  },
  {
   "cell_type": "code",
   "execution_count": 89,
   "id": "f3196877",
   "metadata": {},
   "outputs": [],
   "source": [
    "p = list_plot(plot_data_A_dipol_z_L10)"
   ]
  },
  {
   "cell_type": "code",
   "execution_count": 92,
   "id": "7afe76ab",
   "metadata": {},
   "outputs": [
    {
     "data": {
      "image/png": "[encoded data removed]",
      "text/plain": [
       "Graphics object consisting of 2 graphics primitives"
      ]
     },
     "metadata": {},
     "output_type": "display_data"
    }
   ],
   "source": [
    "p += plot(A_dipol_elliptic(rj = 1*d, ra = 2, zj = 1*d, za = z_a), (z_a, 0, 10))\n",
    "p.show(title=\"Векторный потенциал Измерительного контура равного с прецессирующего магнитного диполя диаметра приподнятого на z/r\",\n",
    "       axes_labels=[\"Высота подъема za\", \"\"])"
   ]
  },
  {
   "cell_type": "code",
   "execution_count": 18,
   "id": "8c2bc212",
   "metadata": {},
   "outputs": [
    {
     "data": {
      "image/png": "[encoded data removed]",
      "text/plain": [
       "Graphics object consisting of 1 graphics primitive"
      ]
     },
     "execution_count": 18,
     "metadata": {},
     "output_type": "execute_result"
    }
   ],
   "source": [
    "contour_plot(A_dipol(rj = 1, ra=r_a, zj = 1, za=z_a), (r_a,0.2,4), (z_a,0,4), fill=False, cmap='hsv', labels=True)"
   ]
  },
  {
   "cell_type": "markdown",
   "id": "ed2a781f",
   "metadata": {},
   "source": [
    "# Интегральное уравнение для векторного потенциала кулоновского заряда "
   ]
  },
  {
   "cell_type": "markdown",
   "id": "3fe73a38",
   "metadata": {},
   "source": [
    "\n",
    "в цилиндрической системе координат\n",
    "\n",
    "$\\rho_a$, $z_a$ - координаты наблюдения\n",
    "\n",
    "$\\rho_m$, $z_m$, $\\varphi_m$ - координаты интегрирования, координаты магнитных зарядов"
   ]
  },
  {
   "cell_type": "markdown",
   "id": "0f665707",
   "metadata": {},
   "source": [
    "$-\\frac{z_a}{{\\rho_a}\\sqrt{\\rho_a^{2} + z_a^{2}} } = \\int\\limits_{z_m=-\\infty}^{\\infty}\\,\\,\\int\\limits_{\\rho_m=0}^{\\infty}\\frac{j_m(\\rho_m, z_m) \\,\\rho_m}{c} \\left(\\int\\limits_{\\varphi_m=0}^{2\\pi}\\frac{cos\\,{\\varphi_m } \\, d \\varphi_m}{R}\\right)d \\rho_m \\, d z_m$"
   ]
  },
  {
   "cell_type": "markdown",
   "id": "dc4ab405",
   "metadata": {},
   "source": [
    "Неизвестные функции\n",
    "\n",
    "$q_m(r_m, \\theta_m)$ - плотность магнитного заряда в зависимости от цилиндрических координат\n",
    "\n",
    "$\\omega_m (r_m, \\theta_m)$ - круговая частота вращения\n",
    "\n",
    "$j_m(r_m, \\theta_m) = q_m(r_m, \\theta_m)\\, \\omega_m (r_m, \\theta_m) \\, r_m \\, \\sin \\theta_m$ - плотность магнитного тока"
   ]
  },
  {
   "cell_type": "markdown",
   "id": "e9a08c2b",
   "metadata": {},
   "source": [
    "<p>Если заданы сферические координаты точки, то переход к цилиндрическим осуществляется по формулам:\n",
    "</p>"
   ]
  },
  {
   "cell_type": "markdown",
   "id": "4ad3482d",
   "metadata": {},
   "source": [
    "${\\displaystyle {\\begin{cases}\\rho =r\\sin \\theta ,\\\\\\varphi =\\varphi ,\\\\z=r\\cos \\theta .\\end{cases}}}$"
   ]
  },
  {
   "cell_type": "markdown",
   "id": "a1811e31",
   "metadata": {},
   "source": [
    "<p>Обратно от цилиндрических к сферическим:\n",
    "</p>"
   ]
  },
  {
   "cell_type": "markdown",
   "id": "5aa1860b",
   "metadata": {},
   "source": [
    "${\\displaystyle {\\begin{cases}r={\\sqrt {\\rho ^{2}+z^{2}}},\\\\\\theta =\\mathrm {arctg} {\\dfrac {\\rho }{z}},\\\\\\varphi =\\varphi .\\end{cases}}}$"
   ]
  },
  {
   "cell_type": "markdown",
   "id": "4d94406f",
   "metadata": {},
   "source": [
    "в сферической системе координат\n",
    "\n",
    "$r_a$, $\\theta_a$ - координаты наблюдения\n",
    "\n",
    "$r_m$, $\\theta_m$, $\\varphi_m$ - координаты интегрирования, координаты магнитных зарядов"
   ]
  },
  {
   "cell_type": "markdown",
   "id": "b3b14452",
   "metadata": {},
   "source": [
    "$-\\frac{сtg \\, \\theta_a}{r_a} = \\int\\limits_{\\theta_m=0}^{\\pi}\\,\\,\\int\\limits_{r_m=0}^{\\infty}\\frac{j_m(r_m, \\theta_m) \\,\\sin \\theta_m\\, r_m}{c} \\left(\\int\\limits_{\\varphi_m=0}^{2\\pi}\\frac{cos\\,{\\varphi_m } }{\\left| \\overrightarrow{{{r}_{m}}}-\\overrightarrow{{{r}_{a}}} \\right|}\\, d \\varphi_m\\right)d r_m \\, d \\theta_m$"
   ]
  },
  {
   "cell_type": "markdown",
   "id": "13ba395f",
   "metadata": {},
   "source": [
    "$-\\frac{сtg \\, \\theta_a}{r_a} = \\int\\limits_{\\theta_m=0}^{\\pi}\\,\\,\\int\\limits_{r_m=0}^{r_a}\\frac{j_m(r_m, \\theta_m) \\,\\sin \\theta_m\\, r_m}{c} \\left(\\int\\limits_{\\varphi_m=0}^{2\\pi}\\frac{cos\\,{\\varphi_m } }{\\left| \\overrightarrow{{{r}_{m}}}-\\overrightarrow{{{r}_{a}}} \\right|}\\, d \\varphi_m\\right)d r_m \\, d \\theta_m + \\int\\limits_{\\theta_m=0}^{\\pi}\\,\\,\\int\\limits_{r_m=r_a}^{\\infty}\\frac{j_m(r_m, \\theta_m) \\,\\sin \\theta_m\\, r_m}{c} \\left(\\int\\limits_{\\varphi_m=0}^{2\\pi}\\frac{cos\\,{\\varphi_m } }{\\left| \\overrightarrow{{{r}_{m}}}-\\overrightarrow{{{r}_{a}}} \\right|}\\, d \\varphi_m\\right)d r_m \\, d \\theta_m$"
   ]
  },
  {
   "cell_type": "markdown",
   "id": "4452c32f",
   "metadata": {},
   "source": [
    "если $\\left( {{r}_{m}}<{{r}_{a}} \\right)$ то\n",
    "\n",
    "$\\frac{1}{\\left| \\overrightarrow{{{r}_{m}}}-\\overrightarrow{{{r}_{a}}} \\right|}=\\frac{1}{{{r}_{a}}}\\sum\\limits_{l=0}^{\\infty }{{{\\left( \\frac{{{r}_{m}}}{{{r}_{a}}} \\right)}^{l}}{{P}_{l}} \\cos \\left( \\gamma  \\right)}$\n",
    "\n",
    "и если $\\left( {{r}_{a}}<{{r}_{m}} \\right)$ то\n",
    "\n",
    "$\\frac{1}{\\left| \\overrightarrow{{{r}_{m}}}-\\overrightarrow{{{r}_{a}}} \\right|}=\\frac{1}{{{r}_{q}}}\\sum\\limits_{l=0}^{\\infty }{{{\\left( \\frac{{{r}_{a}}}{{{r}_{m}}} \\right)}^{l}}{{P}_{l}} \\cos \\left( \\gamma  \\right)}$"
   ]
  },
  {
   "cell_type": "markdown",
   "id": "717cd47a",
   "metadata": {},
   "source": [
    "\\begin{equation}\n",
    "\\begin{array}{c}\n",
    "-\\frac{сtg \\, \\theta_a}{r_a} = \n",
    "\\int\\limits_{\\theta_m=0}^{\\pi}\\,\\,\\int\\limits_{r_m=0}^{r_a}\\frac{j_m(r_m, \\theta_m) \\,\\sin \\theta_m\\, r_m}{c} \\left(\\int\\limits_{\\varphi_m=0}^{2\\pi}\\,\\frac{cos\\,{\\varphi_m } }{{{r}_{a}}}\\sum\\limits_{l=0}^{\\infty }{{\\left( \\frac{{{r}_{m}}}{{{r}_{a}}} \\right)}^{l}}{{P}_{l}} \\cos \\left( \\gamma  \\right)\\, d \\varphi_m\\right)d r_m \\, d \\theta_m \\\\ +\n",
    "\\int\\limits_{\\theta_m=0}^{\\pi}\\,\\,\\int\\limits_{r_m=r_a}^{\\infty}\\frac{j_m(r_m, \\theta_m) \\,\\sin \\theta_m\\, r_m}{c} \\left(\\int\\limits_{\\varphi_m=0}^{2\\pi}\\,\\frac{cos\\,{\\varphi_m }}{{{r}_{m}}}\\sum\\limits_{l=0}^{\\infty }{{\\left( \\frac{{{r}_{a}}}{{{r}_{m}}} \\right)}^{l}}{{P}_{l}} \\cos \\left( \\gamma  \\right)\\, d \\varphi_m\\right)d r_m \\, d \\theta_m\n",
    "\\end{array}\n",
    "\\end{equation}"
   ]
  },
  {
   "cell_type": "markdown",
   "id": "14963611",
   "metadata": {},
   "source": [
    "\\begin{equation}\n",
    "\\begin{array}{c}\n",
    "-\\frac{сtg \\, \\theta_a}{r_a} = \n",
    "\\int\\limits_{r_m=0}^{r_a}\\,\\int\\limits_{\\theta_m=0}^{\\pi}\\,\\frac{j_m(r_m, \\theta_m) \\,\\sin \\theta_m\\, r_m}{c} \\sum\\limits_{l=0}^{\\infty }{{\\left( \\frac{{{r}_{m}}}{{{r}_{a}}} \\right)}^{l}}\\left(\\int\\limits_{\\varphi_m=0}^{2\\pi}\\,\\frac{cos\\,{\\varphi_m } }{{{r}_{a}}}{{P}_{l}} \\cos \\left( \\gamma  \\right)\\, d \\varphi_m\\right) \\, d \\theta_m \\,d r_m  \\\\ +\n",
    "\\int\\limits_{r_m=r_a}^{\\infty}\\,\\int\\limits_{\\theta_m=0}^{\\pi}\\,\\frac{j_m(r_m, \\theta_m) \\,\\sin \\theta_m\\, r_m}{c} \\sum\\limits_{l=0}^{\\infty }{{\\left( \\frac{{{r}_{a}}}{{{r}_{m}}} \\right)}^{l}}\\left(\\int\\limits_{\\varphi_m=0}^{2\\pi}\\,\\frac{cos\\,{\\varphi_m }}{{{r}_{m}}}{{P}_{l}} \\cos \\left( \\gamma  \\right)\\, d \\varphi_m\\right) \\, d \\theta_m \\,d r_m\n",
    "\\end{array}\n",
    "\\end{equation}"
   ]
  },
  {
   "cell_type": "markdown",
   "id": "b8d94556",
   "metadata": {},
   "source": [
    "\\begin{equation}\n",
    "\\begin{array}{c}\n",
    "-\\frac{сtg \\, \\theta_a}{r_a} = \n",
    "\\int\\limits_{r_m=0}^{r_a}\\,\\int\\limits_{\\theta_m=0}^{\\pi}\\,\\frac{j_m(r_m, \\theta_m) \\,\\sin \\theta_m\\, r_m}{c\\,r_a} \\sum\\limits_{l=0}^{\\infty }{{\\left( \\frac{r_m}{r_a} \\right)}^{l}}\\left(\\int\\limits_{\\varphi_m=0}^{2\\pi}\\,{cos\\,{\\varphi_m } }{P_l} \\cos \\left( \\gamma  \\right)\\, d \\varphi_m\\right) \\, d \\theta_m \\,d r_m \\\\ +\n",
    "\\int\\limits_{r_m=r_a}^{\\infty}\\,\\int\\limits_{\\theta_m=0}^{\\pi}\\,\\frac{j_m(r_m, \\theta_m) \\,\\sin \\theta_m\\, r_m}{c\\,r_m} \\sum\\limits_{l=0}^{\\infty }{{\\left( \\frac{r_a}{r_m} \\right)}^{l}}\\left(\\int\\limits_{\\varphi_m=0}^{2\\pi}\\,{cos\\,{\\varphi_m }}{P_l} \\cos \\left( \\gamma  \\right)\\, d \\varphi_m\\right) \\, d \\theta_m \\,d r_m\n",
    "\\end{array}\n",
    "\\end{equation}"
   ]
  },
  {
   "cell_type": "markdown",
   "id": "99ee6834",
   "metadata": {},
   "source": [
    "В данной формуле ${{P}_{l}} \\cos \\left( \\gamma  \\right)$ это полиномы Лежандра аргумент которых $\\gamma$ есть угол между векторами ${{r}_{q}}$  и ${{r}_{a}}$. Применяя формулу, известную как теорему сложения\n",
    "\n",
    "${{P}_{l}}\\cos \\left( \\gamma  \\right)=\\frac{4\\pi }{2l+1}\\sum\\limits_{m=-l}^{l}{Y_{l,m}^{*}\\left( {{\\theta }_{a}},{{\\varphi }_{a}} \\right)}\\ {{Y}_{l,m}}\\left( {{\\theta}_{m}},{{\\varphi }_{m}} \\right)$\n"
   ]
  },
  {
   "cell_type": "markdown",
   "id": "0318df3a",
   "metadata": {},
   "source": [
    "Обозначим\n",
    "\n",
    "$S_{l}(\\theta_m, \\theta_a) = \\left(\\int\\limits_{{\\left(\\varphi_m - \\varphi_a\\right)}=0}^{2\\pi}\\,{cos\\,{{\\left(\\varphi_m - \\varphi_a\\right)} } }{P_l} \\cos \\left( \\gamma  \\right)\\, d {\\left(\\varphi_m - \\varphi_a\\right)}\\right)$"
   ]
  },
  {
   "cell_type": "code",
   "execution_count": 93,
   "id": "f610f0e0",
   "metadata": {},
   "outputs": [],
   "source": [
    "S_l = function(\"S_l\")(l,theta_m, theta_a)\n",
    "j_m = function(\"j_m\")(r_m, theta_m)\n"
   ]
  },
  {
   "cell_type": "markdown",
   "id": "8fe4e238",
   "metadata": {},
   "source": [
    "теперь интегральное уравнение выглядит"
   ]
  },
  {
   "cell_type": "markdown",
   "id": "b0e11860",
   "metadata": {},
   "source": [
    "\\begin{equation}\n",
    "\\begin{array}{c}\n",
    "-\\frac{сtg \\, \\theta_a}{r_a} = \n",
    "\\int\\limits_{r_m=0}^{r_a}\\,\\int\\limits_{\\theta_m=0}^{\\pi}\\,\\frac{j_m(r_m, \\theta_m) \\,\\sin \\theta_m\\, r_m}{c\\,r_a} \\sum\\limits_{l=0}^{\\infty }{{\\left( \\frac{r_m}{r_a} \\right)}^{l}}S_{l}(\\theta_m, \\theta_a) \\, d \\theta_m \\,d r_m \\\\ +\n",
    "\\int\\limits_{r_m=r_a}^{\\infty}\\,\\int\\limits_{\\theta_m=0}^{\\pi}\\,\\frac{j_m(r_m, \\theta_m) \\,\\sin \\theta_m\\, r_m}{c\\,r_m} \\sum\\limits_{l=0}^{\\infty }{{\\left( \\frac{r_a}{r_m} \\right)}^{l}}S_{l}(\\theta_m, \\theta_a) \\, d \\theta_m \\,d r_m\n",
    "\\end{array}\n",
    "\\end{equation}"
   ]
  },
  {
   "cell_type": "code",
   "execution_count": 94,
   "id": "25082253",
   "metadata": {},
   "outputs": [
    {
     "data": {
      "text/latex": [
       "$\\displaystyle -\\frac{\\cot\\left(\\theta_{a}\\right)}{r_{a}} = \\int_{r_{a}}^{+\\infty} \\int_{0}^{\\pi} j_{m}\\left(r_{m}, \\theta_{m}\\right) \\sin\\left(\\theta_{m}\\right) {\\sum_{l=0}^{+\\infty} \\frac{r_{a}^{l} S_{l}\\left(l, \\theta_{m}, \\theta_{a}\\right)}{r_{m}^{l}}}\\,{d \\theta_{m}}\\,{d r_{m}} + \\int_{0}^{r_{a}} \\int_{0}^{\\pi} \\frac{r_{m} j_{m}\\left(r_{m}, \\theta_{m}\\right) \\sin\\left(\\theta_{m}\\right) {\\sum_{l=0}^{+\\infty} \\frac{r_{m}^{l} S_{l}\\left(l, \\theta_{m}, \\theta_{a}\\right)}{r_{a}^{l}}}}{r_{a}}\\,{d \\theta_{m}}\\,{d r_{m}}$"
      ],
      "text/plain": [
       "<IPython.core.display.Math object>"
      ]
     },
     "metadata": {},
     "output_type": "display_data"
    }
   ],
   "source": [
    "eq1 = - A_q(r_a, theta_a) == \\\n",
    "    definite_integral( \\\n",
    "        definite_integral( j_m(r_m = r_m, theta_m = theta_m) * \\\n",
    "            (sin(theta_m)*r_m/r_a) * \\\n",
    "                symbolic_sum((r_m/r_a)^l * S_l(l=l, theta_m = theta_m, theta_a = theta_a), l, 0, Infinity)\\\n",
    "                , theta_m, 0, pi, hold=True) \\\n",
    "                    , r_m, 0, r_a, hold=True) + \\\n",
    "    definite_integral( \\\n",
    "        definite_integral( j_m(r_m = r_m, theta_m = theta_m) * \\\n",
    "            (sin(theta_m)) * \\\n",
    "                symbolic_sum((r_a/r_m)^l * S_l(l=l, theta_m = theta_m, theta_a = theta_a), l, 0, Infinity)\\\n",
    "                , theta_m, 0, pi, hold=True)\n",
    "                    , r_m, r_a, Infinity, hold=True)\n",
    "\n",
    "disp(eq1)"
   ]
  },
  {
   "cell_type": "markdown",
   "id": "fda9be59",
   "metadata": {},
   "source": [
    "\\begin{equation}\n",
    "\\begin{array}{c}\n",
    "-\\frac{сtg \\, \\theta_a}{r_a} = \n",
    "\\int\\limits_{r_m=0}^{r_a}\\,\\int\\limits_{\\theta_m=0}^{\\pi}\\,\\frac{j_m(r_m, \\theta_m)}{c}\\,\\left(\\frac{\\sin \\theta_m\\, r_m}{r_a} \\sum\\limits_{l=0}^{\\infty }{{\\left( \\frac{r_m}{r_a} \\right)}^{l}}S_{l}(\\theta_m, \\theta_a) \\right)\\, d \\theta_m \\,d r_m \\\\ +\n",
    "\\int\\limits_{r_m=r_a}^{\\infty}\\,\\int\\limits_{\\theta_m=0}^{\\pi}\\,\\frac{j_m(r_m, \\theta_m)}{c} \\,\\left({\\sin \\theta_m} \\sum\\limits_{l=0}^{\\infty }{{\\left( \\frac{r_a}{r_m} \\right)}^{l}}S_{l}(\\theta_m, \\theta_a) \\right) \\, d \\theta_m \\,d r_m\n",
    "\\end{array}\n",
    "\\end{equation}"
   ]
  },
  {
   "cell_type": "markdown",
   "id": "8cd68402",
   "metadata": {},
   "source": [
    "ядро интегрального уравнения (в круглых скобках)"
   ]
  },
  {
   "cell_type": "markdown",
   "id": "e6c4baec",
   "metadata": {},
   "source": [
    "Это линейное интегральное уравнение Фредгольма первого рода."
   ]
  },
  {
   "cell_type": "markdown",
   "id": "42676147",
   "metadata": {},
   "source": [
    "Продифференцируем обе части интегрального уравнения по $r_a$"
   ]
  },
  {
   "cell_type": "markdown",
   "id": "9d12ef22",
   "metadata": {},
   "source": [
    "\\begin{equation}\n",
    "\\begin{array}{c}\n",
    "\\frac{сtg \\, \\theta_a}{r_a^2} = \n",
    "\\int\\limits_{r_m=0}^{r_a}\\,\\int\\limits_{\\theta_m=0}^{\\pi}\\,\\frac{j_m(r_m, \\theta_m)}{c}\\,\\frac{d}{dr_a}\\left(\\frac{\\sin \\theta_m\\, r_m}{r_a} \\sum\\limits_{l=0}^{\\infty }{{\\left( \\frac{r_m}{r_a} \\right)}^{l}}S_{l}(\\theta_m, \\theta_a) \\right)\\, d \\theta_m \\,d r_m +\n",
    "\\int\\limits_{r_m=r_a}^{\\infty}\\,\\int\\limits_{\\theta_m=0}^{\\pi}\\,\\frac{j_m(r_m, \\theta_m)}{c} \\,\\frac{d}{dr_a}\\left({\\sin \\theta_m} \\sum\\limits_{l=0}^{\\infty }{{\\left( \\frac{r_a}{r_m} \\right)}^{l}}S_{l}(\\theta_m, \\theta_a) \\right) \\, d \\theta_m \\,d r_m \\\\\n",
    "+ \\int\\limits_{\\theta_m=0}^{\\pi}\\,\\frac{j_m(r_a, \\theta_m)}{c}\\,\\left(\\frac{\\sin \\theta_m\\, r_m}{r_a} \\sum\\limits_{l=0}^{\\infty }{{\\left( \\frac{r_m}{r_a} \\right)}^{l}}S_{l}(\\theta_m, \\theta_a) \\right)_{r_m = r_a}\\, d \\theta_m -\n",
    "\\int\\limits_{\\theta_m=0}^{\\pi}\\,\\frac{j_m(r_a, \\theta_m)}{c} \\,\\left({\\sin \\theta_m} \\sum\\limits_{l=0}^{\\infty }{{\\left( \\frac{r_a}{r_m} \\right)}^{l}}S_{l}(\\theta_m, \\theta_a) \\right)_{r_m = r_a} \\, d \\theta_m\n",
    "\\end{array}\n",
    "\\end{equation}"
   ]
  },
  {
   "cell_type": "code",
   "execution_count": null,
   "id": "b312ccf5",
   "metadata": {},
   "outputs": [],
   "source": []
  },
  {
   "cell_type": "markdown",
   "id": "3ef4e09f",
   "metadata": {},
   "source": [
    "\\begin{equation}\n",
    "\\begin{array}{c}\n",
    "\\frac{сtg \\, \\theta_a}{r_a^2} = \n",
    "\\int\\limits_{r_m=0}^{r_a}\\,\\int\\limits_{\\theta_m=0}^{\\pi}\\,\\frac{j_m(r_m, \\theta_m)}{c}\\,\\frac{d}{dr_a}\\left(\\frac{\\sin \\theta_m\\, r_m}{r_a} \\sum\\limits_{l=0}^{\\infty }{{\\left( \\frac{r_m}{r_a} \\right)}^{l}}S_{l}(\\theta_m, \\theta_a) \\right)\\, d \\theta_m \\,d r_m \\\\\n",
    "+ \\int\\limits_{r_m=r_a}^{\\infty}\\,\\int\\limits_{\\theta_m=0}^{\\pi}\\,\\frac{j_m(r_m, \\theta_m)}{c} \\,\\frac{d}{dr_a}\\left({\\sin \\theta_m} \\sum\\limits_{l=0}^{\\infty }{{\\left( \\frac{r_a}{r_m} \\right)}^{l}}S_{l}(\\theta_m, \\theta_a) \\right) \\, d \\theta_m \\,d r_m \\\\\n",
    "+ \\int\\limits_{\\theta_m=0}^{\\pi}\\,\\frac{j_m(r_a, \\theta_m)}{c}\\,\\left({\\sin \\theta_m} \\sum\\limits_{l=0}^{\\infty} S_{l}\\left(\\theta_m, \\theta_a\\right) \\right)\\, d \\theta_m -\n",
    "\\int\\limits_{\\theta_m=0}^{\\pi}\\,\\frac{j_m(r_a, \\theta_m)}{c} \\,\\left({\\sin \\theta_m} \\sum\\limits_{l=0}^{\\infty} S_{l}(\\theta_m, \\theta_a) \\right) \\, d \\theta_m\n",
    "\\end{array}\n",
    "\\end{equation}"
   ]
  },
  {
   "cell_type": "code",
   "execution_count": null,
   "id": "957fa361",
   "metadata": {},
   "outputs": [],
   "source": []
  },
  {
   "cell_type": "markdown",
   "id": "e6c3c52d",
   "metadata": {},
   "source": [
    "$\\frac{сtg \\, \\theta_a}{r_a^2} = \n",
    "\\int\\limits_{r_m=0}^{r_a}\\,\\int\\limits_{\\theta_m=0}^{\\pi}\\,\\frac{j_m(r_m, \\theta_m)}{c}\\,\\frac{d}{dr_a}\\left(\\frac{\\sin \\theta_m\\, r_m}{r_a} \\sum\\limits_{l=0}^{\\infty }{{\\left( \\frac{r_m}{r_a} \\right)}^{l}}S_{l}(\\theta_m, \\theta_a) \\right)\\, d \\theta_m \\,d r_m +\n",
    "\\int\\limits_{r_m=r_a}^{\\infty}\\,\\int\\limits_{\\theta_m=0}^{\\pi}\\,\\frac{j_m(r_m, \\theta_m)}{c} \\,\\frac{d}{dr_a}\\left({\\sin \\theta_m} \\sum\\limits_{l=0}^{\\infty }{{\\left( \\frac{r_a}{r_m} \\right)}^{l}}S_{l}(\\theta_m, \\theta_a) \\right) \\, d \\theta_m \\,d r_m$"
   ]
  },
  {
   "cell_type": "code",
   "execution_count": null,
   "id": "fd505b4a",
   "metadata": {},
   "outputs": [],
   "source": []
  },
  {
   "cell_type": "markdown",
   "id": "15425224",
   "metadata": {},
   "source": [
    "\\begin{equation}\n",
    "\\begin{array}{c}\n",
    "\\frac{сtg \\, \\theta_a}{r_a^2} = \n",
    "\\int\\limits_{r_m=0}^{r_a}\\,\\int\\limits_{\\theta_m=0}^{\\pi}\\,\\frac{j_m(r_m, \\theta_m)}{c}\\,\\left(\\frac{\\sin \\theta_m\\, r_m}{r_a} \\sum\\limits_{l=0}^{\\infty }-l{{\\left( \\frac{{r_m}^{l}}{{r_a}^{l+1}} \\right)}}S_{l}(\\theta_m, \\theta_a) - \\frac{\\sin \\theta_m\\, r_m}{r_a^2} \\sum\\limits_{l=0}^{\\infty }{{\\left( \\frac{r_m}{r_a} \\right)}^{l}}S_{l}(\\theta_m, \\theta_a)\\right)\\, d \\theta_m \\,d r_m  \\\\\n",
    "+\\int\\limits_{r_m=r_a}^{\\infty}\\,\\int\\limits_{\\theta_m=0}^{\\pi}\\,\\frac{j_m(r_m, \\theta_m)}{c} \\,\\left({\\sin \\theta_m} \\sum\\limits_{l=0}^{\\infty }l{{\\left( \\frac{{r_a}^{l-1}}{{r_m}^{l}} \\right)}}S_{l}(\\theta_m, \\theta_a) \\right) \\, d \\theta_m \\,d r_m\n",
    "\\end{array}\n",
    "\\end{equation}"
   ]
  },
  {
   "cell_type": "code",
   "execution_count": null,
   "id": "b56cca50",
   "metadata": {},
   "outputs": [],
   "source": []
  },
  {
   "cell_type": "markdown",
   "id": "d7a2e68a",
   "metadata": {},
   "source": [
    "\\begin{equation}\n",
    "\\begin{array}{c}\n",
    "\\frac{сtg \\, \\theta_a}{r_a^2} = \n",
    "-\\int\\limits_{r_m=0}^{r_a}\\,\\int\\limits_{\\theta_m=0}^{\\pi}\\,\\frac{j_m(r_m, \\theta_m)}{c}\\,\\left(\\frac{\\sin \\theta_m\\, r_m}{r_a} \\sum\\limits_{l=0}^{\\infty }l{{\\left( \\frac{{r_m}^{l}}{{r_a}^{l+1}} \\right)}}S_{l}(\\theta_m, \\theta_a) + \\frac{\\sin \\theta_m\\, r_m}{r_a^2} \\sum\\limits_{l=0}^{\\infty }{{\\left( \\frac{r_m}{r_a} \\right)}^{l}}S_{l}(\\theta_m, \\theta_a)\\right)\\, d \\theta_m \\,d r_m  \\\\\n",
    "+\\int\\limits_{r_m=r_a}^{\\infty}\\,\\int\\limits_{\\theta_m=0}^{\\pi}\\,\\frac{j_m(r_m, \\theta_m)}{c} \\,\\left({\\sin \\theta_m} \\sum\\limits_{l=0}^{\\infty }l{{\\left( \\frac{{r_a}^{l-1}}{{r_m}^{l}} \\right)}}S_{l}(\\theta_m, \\theta_a) \\right) \\, d \\theta_m \\,d r_m\n",
    "\\end{array}\n",
    "\\end{equation}"
   ]
  },
  {
   "cell_type": "markdown",
   "id": "ce31521a",
   "metadata": {},
   "source": [
    "\\begin{equation}\n",
    "\\begin{array}{c}\n",
    "\\frac{сtg \\, \\theta_a}{r_a^2} = \n",
    "-\\int\\limits_{r_m=0}^{r_a}\\,\\int\\limits_{\\theta_m=0}^{\\pi}\\,\\frac{j_m(r_m, \\theta_m)}{c}\\,\\left(\\frac{\\sin \\theta_m\\, r_m}{r_a^2} \\sum\\limits_{l=0}^{\\infty }l{{\\left( \\frac{{r_m}}{{r_a}} \\right)}^{l}}S_{l}(\\theta_m, \\theta_a) + \\frac{\\sin \\theta_m\\, r_m}{r_a^2} \\sum\\limits_{l=0}^{\\infty }{{\\left( \\frac{r_m}{r_a} \\right)}^{l}}S_{l}(\\theta_m, \\theta_a)\\right)\\, d \\theta_m \\,d r_m  \\\\\n",
    "+\\int\\limits_{r_m=r_a}^{\\infty}\\,\\int\\limits_{\\theta_m=0}^{\\pi}\\,\\frac{j_m(r_m, \\theta_m)}{c} \\,\\left({\\sin \\theta_m} \\sum\\limits_{l=0}^{\\infty }l{{\\left( \\frac{{r_a}^{l-1}}{{r_m}^{l}} \\right)}}S_{l}(\\theta_m, \\theta_a) \\right) \\, d \\theta_m \\,d r_m\n",
    "\\end{array}\n",
    "\\end{equation}"
   ]
  },
  {
   "cell_type": "code",
   "execution_count": 95,
   "id": "59f9c74f",
   "metadata": {},
   "outputs": [
    {
     "data": {
      "text/latex": [
       "$\\displaystyle \\frac{\\cot\\left(\\theta_{a}\\right)}{r_{a}^{2}} = \\int_{r_{a}}^{+\\infty} \\int_{0}^{\\pi} j_{m}\\left(r_{m}, \\theta_{m}\\right) \\sin\\left(\\theta_{m}\\right) {\\sum_{l=0}^{+\\infty} \\frac{l r_{a}^{l - 1} S_{l}\\left(l, \\theta_{m}, \\theta_{a}\\right)}{r_{m}^{l}}}\\,{d \\theta_{m}}\\,{d r_{m}} + \\int_{0}^{r_{a}} \\int_{0}^{\\pi} \\frac{r_{m} j_{m}\\left(r_{m}, \\theta_{m}\\right) \\sin\\left(\\theta_{m}\\right) {\\sum_{l=0}^{+\\infty} -\\frac{l r_{a}^{l - 1} r_{m}^{l} S_{l}\\left(l, \\theta_{m}, \\theta_{a}\\right)}{r_{a}^{2 \\, l}}}}{r_{a}} - \\frac{r_{m} j_{m}\\left(r_{m}, \\theta_{m}\\right) \\sin\\left(\\theta_{m}\\right) {\\sum_{l=0}^{+\\infty} \\frac{r_{m}^{l} S_{l}\\left(l, \\theta_{m}, \\theta_{a}\\right)}{r_{a}^{l}}}}{r_{a}^{2}}\\,{d \\theta_{m}}\\,{d r_{m}}$"
      ],
      "text/plain": [
       "<IPython.core.display.Math object>"
      ]
     },
     "metadata": {},
     "output_type": "display_data"
    }
   ],
   "source": [
    "eq1 = - A_q(r_a, theta_a).diff(r_a) == \\\n",
    "    definite_integral( \\\n",
    "        definite_integral( (j_m(r_m = r_m, theta_m = theta_m) * \\\n",
    "            (sin(theta_m)*r_m/r_a) * \\\n",
    "                symbolic_sum((r_m/r_a)^l * S_l(l=l, theta_m=theta_m, theta_a=theta_a), l, 0, Infinity)).diff(r_a)\\\n",
    "                    , theta_m, 0, pi, hold=True) \\\n",
    "                        , r_m, 0, r_a, hold=True) + \\\n",
    "    definite_integral( \\\n",
    "        definite_integral( (j_m(r_m = r_m, theta_m = theta_m) * \\\n",
    "            (sin(theta_m)) * \\\n",
    "                symbolic_sum((r_a/r_m)^l * S_l(l=l, theta_m=theta_m, theta_a=theta_a), l, 0, Infinity)).diff(r_a)\\\n",
    "                    , theta_m, 0, pi, hold=True)\n",
    "                        , r_m, r_a, Infinity, hold=True) + \\\n",
    "    definite_integral( (j_m(r_m = r_m, theta_m = theta_m) * \\\n",
    "        (sin(theta_m)*r_m/r_a) * \\\n",
    "            symbolic_sum((r_m/r_a)^l * S_l(l=l, theta_m=theta_m, theta_a=theta_a), l, 0, Infinity)).subs(r_m == r_a)\\\n",
    "                , theta_m, 0, pi, hold=True) - \\\n",
    "    definite_integral( (j_m(r_m = r_m, theta_m = theta_m) * \\\n",
    "        (sin(theta_m)) * \\\n",
    "            symbolic_sum((r_a/r_m)^l * S_l(l=l, theta_m=theta_m, theta_a=theta_a), l, 0, Infinity)).subs(r_m == r_a)\\\n",
    "                , theta_m, 0, pi, hold=True)\n",
    "\n",
    "disp(eq1)"
   ]
  },
  {
   "cell_type": "markdown",
   "id": "763e6d3f",
   "metadata": {},
   "source": [
    "\\begin{equation}\n",
    "\\begin{array}{c}\n",
    "\\frac{сtg \\, \\theta_a}{r_a^2} = \n",
    "-\\int\\limits_{r_m=0}^{r_a}\\,\\int\\limits_{\\theta_m=0}^{\\pi}\\,\\frac{j_m(r_m, \\theta_m)}{c}\\,\\left(\\frac{\\sin \\theta_m\\, r_m}{r_a^2} \\sum\\limits_{l=0}^{\\infty }\\left(l+1\\right){{\\left( \\frac{{r_m}}{{r_a}} \\right)}^{l}}S_{l}(\\theta_m, \\theta_a) \\right)\\, d \\theta_m \\,d r_m  \\\\\n",
    "+\\int\\limits_{r_m=r_a}^{\\infty}\\,\\int\\limits_{\\theta_m=0}^{\\pi}\\,\\frac{j_m(r_m, \\theta_m)}{c} \\,\\left(\\frac{\\sin \\theta_m}{r_a} \\sum\\limits_{l=0}^{\\infty }l{{\\left( \\frac{{r_a}}{{r_m}} \\right)}^{l}}S_{l}(\\theta_m, \\theta_a) \\right) \\, d \\theta_m \\,d r_m\n",
    "\\end{array}\n",
    "\\end{equation}"
   ]
  },
  {
   "cell_type": "code",
   "execution_count": 96,
   "id": "2a6119b4",
   "metadata": {},
   "outputs": [
    {
     "data": {
      "text/latex": [
       "$\\displaystyle \\frac{\\cot\\left(\\theta_{a}\\right)}{r_{a}^{2}} = \\int_{r_{a}}^{+\\infty} \\int_{0}^{\\pi} \\frac{j_{m}\\left(r_{m}, \\theta_{m}\\right) \\sin\\left(\\theta_{m}\\right) {\\sum_{l=0}^{+\\infty} \\frac{l r_{a}^{l} S_{l}\\left(l, \\theta_{m}, \\theta_{a}\\right)}{r_{m}^{l}}}}{r_{a}}\\,{d \\theta_{m}}\\,{d r_{m}} - \\int_{0}^{r_{a}} \\int_{0}^{\\pi} \\frac{r_{m} j_{m}\\left(r_{m}, \\theta_{m}\\right) \\sin\\left(\\theta_{m}\\right) {\\sum_{l=0}^{+\\infty} \\frac{{\\left(l + 1\\right)} r_{m}^{l} S_{l}\\left(l, \\theta_{m}, \\theta_{a}\\right)}{r_{a}^{l}}}}{r_{a}^{2}}\\,{d \\theta_{m}}\\,{d r_{m}}$"
      ],
      "text/plain": [
       "<IPython.core.display.Math object>"
      ]
     },
     "metadata": {},
     "output_type": "display_data"
    }
   ],
   "source": [
    "eq1 = - A_q(r_a, theta_a).diff(r_a) == \\\n",
    "    definite_integral(definite_integral( \\\n",
    "        j_m(r_m=r_m, theta_m=theta_m) * \\\n",
    "        sin(theta_m)/r_a*sum(l*(r_a/r_m)^l*S_l(l=l, theta_m=theta_m, theta_a=theta_a), l, 0, +Infinity) \\\n",
    "            , theta_m, 0, pi, hold=True) \\\n",
    "                , r_m, r_a, +Infinity, hold=True) \\\n",
    "    - definite_integral(definite_integral( \\\n",
    "         r_m*j_m(r_m=r_m, theta_m=theta_m) * sin(theta_m)/r_a^2*\\\n",
    "            sum((l+1)*(r_m/r_a)^(l)*S_l(l=l, theta_m=theta_m, theta_a=theta_a), l, 0, +Infinity) \\\n",
    "                , theta_m, 0, pi, hold=True) \\\n",
    "                    , r_m, 0, r_a, hold=True)\n",
    "disp(eq1)"
   ]
  },
  {
   "cell_type": "markdown",
   "id": "daf0b362",
   "metadata": {},
   "source": [
    "Ещё раз дифференцируем обе части интегрального уравнения по $r_a$"
   ]
  },
  {
   "cell_type": "markdown",
   "id": "d6dd3f7f",
   "metadata": {},
   "source": [
    "\\begin{equation}\n",
    "\\begin{array}{c}\n",
    "-\\,2\\,\\frac{сtg \\, \\theta_a}{r_a^3} = \n",
    "-\\int\\limits_{r_m=0}^{r_a}\\,\\int\\limits_{\\theta_m=0}^{\\pi}\\,\\frac{j_m(r_m, \\theta_m)}{c}\\,\\frac{d}{dr_a}\\left(\\frac{\\sin \\theta_m\\, r_m}{r_a^2} \\sum\\limits_{l=0}^{\\infty }\\left(l+1\\right){{\\left( \\frac{{r_m}}{{r_a}} \\right)}^{l}}S_{l}(\\theta_m, \\theta_a) \\right)\\, d \\theta_m \\,d r_m  \\\\\n",
    "+\\int\\limits_{r_m=r_a}^{\\infty}\\,\\int\\limits_{\\theta_m=0}^{\\pi}\\,\\frac{j_m(r_m, \\theta_m)}{c} \\,\\frac{d}{dr_a}\\left(\\frac{\\sin \\theta_m}{r_a} \\sum\\limits_{l=0}^{\\infty }l{{\\left( \\frac{{r_a}}{{r_m}} \\right)}^{l}}S_{l}(\\theta_m, \\theta_a) \\right) \\, d \\theta_m \\,d r_m \\\\\n",
    "-\\int\\limits_{\\theta_m=0}^{\\pi}\\,\\frac{j_m(r_a, \\theta_m)}{c}\\,\\left(\\frac{\\sin \\theta_m\\, r_m}{r_a^2} \\sum\\limits_{l=0}^{\\infty }\\left(l+1\\right){{\\left( \\frac{{r_m}}{{r_a}} \\right)}^{l}}S_{l}(\\theta_m, \\theta_a) \\right)_{r_m = r_a}\\, d \\theta_m  \\\\\n",
    "-\\int\\limits_{\\theta_m=0}^{\\pi}\\,\\frac{j_m(r_a, \\theta_m)}{c} \\,\\left(\\frac{\\sin \\theta_m}{r_a} \\sum\\limits_{l=0}^{\\infty }l{{\\left( \\frac{{r_a}}{{r_m}} \\right)}^{l}}S_{l}(\\theta_m, \\theta_a) \\right)_{r_m = r_a} \\, d \\theta_m\n",
    "\\end{array}\n",
    "\\end{equation}"
   ]
  },
  {
   "cell_type": "code",
   "execution_count": 97,
   "id": "ecd80d82",
   "metadata": {},
   "outputs": [
    {
     "data": {
      "text/latex": [
       "$\\displaystyle -\\frac{2 \\, \\cot\\left(\\theta_{a}\\right)}{r_{a}^{3}} = -\\int_{0}^{\\pi} \\frac{j_{m}\\left(r_{a}, \\theta_{m}\\right) \\sin\\left(\\theta_{m}\\right) {\\sum_{l=0}^{+\\infty} {\\left(l + 1\\right)} S_{l}\\left(l, \\theta_{m}, \\theta_{a}\\right)}}{r_{a}}\\,{d \\theta_{m}} - \\int_{0}^{\\pi} \\frac{j_{m}\\left(r_{a}, \\theta_{m}\\right) \\sin\\left(\\theta_{m}\\right) {\\sum_{l=0}^{+\\infty} l S_{l}\\left(l, \\theta_{m}, \\theta_{a}\\right)}}{r_{a}}\\,{d \\theta_{m}} + \\int_{r_{a}}^{+\\infty} \\int_{0}^{\\pi} \\frac{j_{m}\\left(r_{m}, \\theta_{m}\\right) \\sin\\left(\\theta_{m}\\right) {\\sum_{l=0}^{+\\infty} \\frac{l^{2} r_{a}^{l - 1} S_{l}\\left(l, \\theta_{m}, \\theta_{a}\\right)}{r_{m}^{l}}}}{r_{a}} - \\frac{j_{m}\\left(r_{m}, \\theta_{m}\\right) \\sin\\left(\\theta_{m}\\right) {\\sum_{l=0}^{+\\infty} \\frac{l r_{a}^{l} S_{l}\\left(l, \\theta_{m}, \\theta_{a}\\right)}{r_{m}^{l}}}}{r_{a}^{2}}\\,{d \\theta_{m}}\\,{d r_{m}} - \\int_{0}^{r_{a}} \\int_{0}^{\\pi} \\frac{r_{m} j_{m}\\left(r_{m}, \\theta_{m}\\right) \\sin\\left(\\theta_{m}\\right) {\\sum_{l=0}^{+\\infty} -\\frac{{\\left(l + 1\\right)} l r_{a}^{l - 1} r_{m}^{l} S_{l}\\left(l, \\theta_{m}, \\theta_{a}\\right)}{r_{a}^{2 \\, l}}}}{r_{a}^{2}} - \\frac{2 \\, r_{m} j_{m}\\left(r_{m}, \\theta_{m}\\right) \\sin\\left(\\theta_{m}\\right) {\\sum_{l=0}^{+\\infty} \\frac{{\\left(l + 1\\right)} r_{m}^{l} S_{l}\\left(l, \\theta_{m}, \\theta_{a}\\right)}{r_{a}^{l}}}}{r_{a}^{3}}\\,{d \\theta_{m}}\\,{d r_{m}}$"
      ],
      "text/plain": [
       "<IPython.core.display.Math object>"
      ]
     },
     "metadata": {},
     "output_type": "display_data"
    }
   ],
   "source": [
    "eq1 = - A_q(r_a, theta_a).diff(r_a).diff(r_a) == \\\n",
    "    definite_integral(definite_integral( \\\n",
    "        (j_m(r_m=r_m, theta_m=theta_m) * \\\n",
    "        sin(theta_m)/r_a*sum(l*(r_a/r_m)^l*S_l(l=l, theta_m=theta_m, theta_a=theta_a), l, 0, +Infinity)).diff(r_a) \\\n",
    "            , theta_m, 0, pi, hold=True) \\\n",
    "                , r_m, r_a, +Infinity, hold=True) \\\n",
    "    - definite_integral(definite_integral( \\\n",
    "         (r_m*j_m(r_m=r_m, theta_m=theta_m) * sin(theta_m)/r_a^2*\\\n",
    "            sum((l+1)*(r_m/r_a)^(l)*S_l(l=l, theta_m=theta_m, theta_a=theta_a), l, 0, +Infinity)).diff(r_a) \\\n",
    "                , theta_m, 0, pi, hold=True) \\\n",
    "                    , r_m, 0, r_a, hold=True) \\\n",
    "    - definite_integral( \\\n",
    "         (r_m*j_m(r_m=r_m, theta_m=theta_m) * sin(theta_m)/r_a^2*\\\n",
    "            sum((l+1)*(r_m/r_a)^(l)*S_l(l=l, theta_m=theta_m, theta_a=theta_a), l, 0, +Infinity)).subs(r_m == r_a) \\\n",
    "                , theta_m, 0, pi, hold=True) \\\n",
    "    - definite_integral( \\\n",
    "        (j_m(r_m=r_m, theta_m=theta_m) * \\\n",
    "        sin(theta_m)/r_a*sum(l*(r_a/r_m)^l*S_l(l=l, theta_m=theta_m, theta_a=theta_a), l, 0, +Infinity)).subs(r_m == r_a) \\\n",
    "            , theta_m, 0, pi, hold=True)\n",
    "\n",
    "disp(eq1)"
   ]
  },
  {
   "cell_type": "markdown",
   "id": "424e1509",
   "metadata": {},
   "source": [
    "\\begin{equation}\n",
    "\\begin{array}{c}\n",
    "-\\,2\\,\\frac{сtg \\, \\theta_a}{r_a^3} = \n",
    "-\\int\\limits_{r_m=0}^{r_a}\\,\\int\\limits_{\\theta_m=0}^{\\pi}\\,\\frac{j_m(r_m, \\theta_m)}{c}\\,\\frac{d}{dr_a}\\left(\\frac{\\sin \\theta_m\\, r_m}{r_a^2} \\sum\\limits_{l=0}^{\\infty }\\left(l+1\\right){{\\left( \\frac{{r_m}}{{r_a}} \\right)}^{l}}S_{l}(\\theta_m, \\theta_a) \\right)\\, d \\theta_m \\,d r_m  \\\\\n",
    "+\\int\\limits_{r_m=r_a}^{\\infty}\\,\\int\\limits_{\\theta_m=0}^{\\pi}\\,\\frac{j_m(r_m, \\theta_m)}{c} \\,\\frac{d}{dr_a}\\left(\\frac{\\sin \\theta_m}{r_a} \\sum\\limits_{l=0}^{\\infty }l{{\\left( \\frac{{r_a}}{{r_m}} \\right)}^{l}}S_{l}(\\theta_m, \\theta_a) \\right) \\, d \\theta_m \\,d r_m \\\\\n",
    "-\\int\\limits_{\\theta_m=0}^{\\pi}\\,\\frac{j_m(r_a, \\theta_m)}{c}\\,\\left(\\frac{\\sin \\theta_m}{r_a} \\sum\\limits_{l=0}^{\\infty }\\left(l+1\\right)\\,S_{l}(\\theta_m, \\theta_a) \\right) \\, d \\theta_m  \\\\\n",
    "-\\int\\limits_{\\theta_m=0}^{\\pi}\\,\\frac{j_m(r_a, \\theta_m)}{c} \\,\\left(\\frac{\\sin \\theta_m}{r_a} \\sum\\limits_{l=0}^{\\infty }l\\,S_{l}(\\theta_m, \\theta_a) \\right) \\, d \\theta_m\n",
    "\\end{array}\n",
    "\\end{equation}"
   ]
  },
  {
   "cell_type": "code",
   "execution_count": 98,
   "id": "6e1e7884",
   "metadata": {},
   "outputs": [
    {
     "data": {
      "text/latex": [
       "$\\displaystyle -\\frac{2 \\, \\cot\\left(\\theta_{a}\\right)}{r_{a}^{3}} = -\\int_{0}^{\\pi} \\frac{j_{m}\\left(r_{a}, \\theta_{m}\\right) \\sin\\left(\\theta_{m}\\right) {\\sum_{l=0}^{+\\infty} {\\left(l + 1\\right)} S_{l}\\left(l, \\theta_{m}, \\theta_{a}\\right)}}{r_{a}}\\,{d \\theta_{m}} - \\int_{0}^{\\pi} \\frac{j_{m}\\left(r_{a}, \\theta_{m}\\right) \\sin\\left(\\theta_{m}\\right) {\\sum_{l=0}^{+\\infty} l S_{l}\\left(l, \\theta_{m}, \\theta_{a}\\right)}}{r_{a}}\\,{d \\theta_{m}} - \\int_{0}^{r_{a}} \\int_{0}^{\\pi} -\\frac{r_{m} j_{m}\\left(r_{m}, \\theta_{m}\\right) \\sin\\left(\\theta_{m}\\right) {\\sum_{l=0}^{+\\infty} {\\left(l^{2} + l\\right)} r_{a}^{-l - 1} r_{m}^{l} S_{l}\\left(l, \\theta_{m}, \\theta_{a}\\right)}}{r_{a}^{2}} - \\frac{2 \\, r_{m} j_{m}\\left(r_{m}, \\theta_{m}\\right) \\sin\\left(\\theta_{m}\\right) {\\sum_{l=0}^{+\\infty} \\frac{{\\left(l + 1\\right)} r_{m}^{l} S_{l}\\left(l, \\theta_{m}, \\theta_{a}\\right)}{r_{a}^{l}}}}{r_{a}^{3}}\\,{d \\theta_{m}}\\,{d r_{m}} + \\int_{r_{a}}^{+\\infty} \\int_{0}^{\\pi} \\frac{j_{m}\\left(r_{m}, \\theta_{m}\\right) \\sin\\left(\\theta_{m}\\right) {\\sum_{l=0}^{+\\infty} \\frac{l^{2} r_{a}^{l - 1} S_{l}\\left(l, \\theta_{m}, \\theta_{a}\\right)}{r_{m}^{l}}}}{r_{a}} - \\frac{j_{m}\\left(r_{m}, \\theta_{m}\\right) \\sin\\left(\\theta_{m}\\right) {\\sum_{l=0}^{+\\infty} \\frac{l r_{a}^{l} S_{l}\\left(l, \\theta_{m}, \\theta_{a}\\right)}{r_{m}^{l}}}}{r_{a}^{2}}\\,{d \\theta_{m}}\\,{d r_{m}}$"
      ],
      "text/plain": [
       "<IPython.core.display.Math object>"
      ]
     },
     "metadata": {},
     "output_type": "display_data"
    }
   ],
   "source": [
    "eq1 = -2*cot(theta_a)/r_a^3 == \\\n",
    "    - integrate( \\\n",
    "        j_m(r_m=r_a, theta_m=theta_m)*sin(theta_m) * \\\n",
    "            sum((l + 1)*S_l(l=l, theta_m=theta_m, theta_a=theta_a), l, 0, +Infinity)/r_a \\\n",
    "               , theta_m, 0, pi, hold=True) \\\n",
    "    - integrate( \\\n",
    "        j_m(r_m=r_a, theta_m=theta_m)*sin(theta_m) * \\\n",
    "            sum(l*S_l(l=l, theta_m=theta_m, theta_a=theta_a), l, 0, +Infinity)/r_a \\\n",
    "                , theta_m, 0, pi, hold=True) \\\n",
    "    + integrate(integrate( \\\n",
    "        j_m(r_m=r_m, theta_m=theta_m)*sin(theta_m) * \\\n",
    "            sum(l^2*r_a^(l - 1)*S_l(l=l, theta_m=theta_m, theta_a=theta_a)/r_m^l, l, 0, +Infinity)/r_a \\\n",
    "        - j_m(r_m=r_m, theta_m=theta_m)*sin(theta_m) * \\\n",
    "            sum(l*r_a^l*S_l(l=l, theta_m=theta_m, theta_a=theta_a)/r_m^l, l, 0, +Infinity)/r_a^2 \\\n",
    "                , theta_m, 0, pi, hold=True) \\\n",
    "                    , r_m, r_a, +Infinity, hold=True) \\\n",
    "    - integrate(integrate( \\\n",
    "        r_m*j_m(r_m=r_m, theta_m=theta_m)*sin(theta_m) * \\\n",
    "            sum(-(l + 1)*l*r_a^(l - 1)*r_m^l*S_l(l=l, theta_m=theta_m, theta_a=theta_a)/r_a^(2*l), l, 0, +Infinity)/r_a^2 \\\n",
    "        - 2*r_m*j_m(r_m=r_m, theta_m=theta_m)*sin(theta_m) * \\\n",
    "            sum((l + 1)*r_m^l*S_l(l=l, theta_m=theta_m, theta_a=theta_a)/r_a^l, l, 0, +Infinity)/r_a^3 \\\n",
    "                , theta_m, 0, pi, hold=True) \\\n",
    "                    , r_m, 0, r_a, hold=True)\n",
    "disp(eq1)"
   ]
  },
  {
   "cell_type": "code",
   "execution_count": 99,
   "id": "d5718c0c",
   "metadata": {},
   "outputs": [
    {
     "data": {
      "text/latex": [
       "$\\displaystyle -\\frac{2 \\, \\cot\\left(\\theta_{a}\\right)}{r_{a}^{3}} = -\\int_{0}^{\\pi} \\frac{j_{m}\\left(r_{a}, \\theta_{m}\\right) \\sin\\left(\\theta_{m}\\right) {\\sum_{l=0}^{+\\infty} {\\left(2 \\, l + 1\\right)} S_{l}\\left(l, \\theta_{m}, \\theta_{a}\\right)}}{r_{a}}\\,{d \\theta_{m}} + \\int_{r_{a}}^{+\\infty} \\int_{0}^{\\pi} \\frac{j_{m}\\left(r_{m}, \\theta_{m}\\right) \\sin\\left(\\theta_{m}\\right) {\\sum_{l=0}^{+\\infty} \\frac{l^{2} r_{a}^{l} S_{l}\\left(l, \\theta_{m}, \\theta_{a}\\right)}{r_{m}^{l}}}}{r_{a}^{2}} - \\frac{j_{m}\\left(r_{m}, \\theta_{m}\\right) \\sin\\left(\\theta_{m}\\right) {\\sum_{l=0}^{+\\infty} \\frac{l r_{a}^{l} S_{l}\\left(l, \\theta_{m}, \\theta_{a}\\right)}{r_{m}^{l}}}}{r_{a}^{2}}\\,{d \\theta_{m}}\\,{d r_{m}} + \\int_{0}^{r_{a}} \\int_{0}^{\\pi} \\frac{r_{m} j_{m}\\left(r_{m}, \\theta_{m}\\right) \\sin\\left(\\theta_{m}\\right) {\\sum_{l=0}^{+\\infty} \\frac{{\\left(l^{2} + l\\right)} r_{m}^{l} S_{l}\\left(l, \\theta_{m}, \\theta_{a}\\right)}{r_{a}^{l}}}}{r_{a}^{3}} + \\frac{2 \\, r_{m} j_{m}\\left(r_{m}, \\theta_{m}\\right) \\sin\\left(\\theta_{m}\\right) {\\sum_{l=0}^{+\\infty} \\frac{{\\left(l + 1\\right)} r_{m}^{l} S_{l}\\left(l, \\theta_{m}, \\theta_{a}\\right)}{r_{a}^{l}}}}{r_{a}^{3}}\\,{d \\theta_{m}}\\,{d r_{m}}$"
      ],
      "text/plain": [
       "<IPython.core.display.Math object>"
      ]
     },
     "metadata": {},
     "output_type": "display_data"
    }
   ],
   "source": [
    "eq1 = -2*cot(theta_a)/r_a^3 == \\\n",
    "    - integrate( \\\n",
    "        j_m(r_m=r_a, theta_m=theta_m)*sin(theta_m) * \\\n",
    "            sum((2*l + 1)*S_l(l=l, theta_m=theta_m, theta_a=theta_a), l, 0, +Infinity)/r_a \\\n",
    "               , theta_m, 0, pi, hold=True) \\\n",
    "    + integrate(integrate( \\\n",
    "        j_m(r_m=r_m, theta_m=theta_m)*sin(theta_m) * \\\n",
    "            sum(l^2*r_a^(l)/r_m^l*S_l(l=l, theta_m=theta_m, theta_a=theta_a), l, 0, +Infinity)/r_a^2 \\\n",
    "        - j_m(r_m=r_m, theta_m=theta_m)*sin(theta_m) * \\\n",
    "            sum(l*r_a^l/r_m^l*S_l(l=l, theta_m=theta_m, theta_a=theta_a), l, 0, +Infinity)/r_a^2 \\\n",
    "                , theta_m, 0, pi, hold=True) \\\n",
    "                    , r_m, r_a, +Infinity, hold=True) \\\n",
    "    + integrate(integrate( \\\n",
    "        r_m*j_m(r_m=r_m, theta_m=theta_m)*sin(theta_m) * \\\n",
    "            sum((l + 1)*l*r_m^l/r_a^(l)*S_l(l=l, theta_m=theta_m, theta_a=theta_a), l, 0, +Infinity)/r_a^3 \\\n",
    "        + r_m*j_m(r_m=r_m, theta_m=theta_m)*sin(theta_m) * \\\n",
    "            sum(2*(l + 1)*r_m^l*S_l(l=l, theta_m=theta_m, theta_a=theta_a)/r_a^l, l, 0, +Infinity)/r_a^3 \\\n",
    "                , theta_m, 0, pi, hold=True) \\\n",
    "                    , r_m, 0, r_a, hold=True)\n",
    "disp(eq1)"
   ]
  },
  {
   "cell_type": "code",
   "execution_count": 100,
   "id": "81ed5715",
   "metadata": {},
   "outputs": [
    {
     "data": {
      "text/latex": [
       "$\\displaystyle -\\frac{2 \\, \\cot\\left(\\theta_{a}\\right)}{r_{a}^{3}} = -\\int_{0}^{\\pi} \\frac{j_{m}\\left(r_{a}, \\theta_{m}\\right) \\sin\\left(\\theta_{m}\\right) {\\sum_{l=0}^{+\\infty} {\\left(2 \\, l + 1\\right)} S_{l}\\left(l, \\theta_{m}, \\theta_{a}\\right)}}{r_{a}}\\,{d \\theta_{m}} + \\int_{r_{a}}^{+\\infty} \\int_{0}^{\\pi} \\frac{j_{m}\\left(r_{m}, \\theta_{m}\\right) \\sin\\left(\\theta_{m}\\right) {\\sum_{l=0}^{+\\infty} \\frac{{\\left(l^{2} - l\\right)} r_{a}^{l} S_{l}\\left(l, \\theta_{m}, \\theta_{a}\\right)}{r_{m}^{l}}}}{r_{a}^{2}}\\,{d \\theta_{m}}\\,{d r_{m}} + \\int_{0}^{r_{a}} \\int_{0}^{\\pi} \\frac{r_{m} j_{m}\\left(r_{m}, \\theta_{m}\\right) \\sin\\left(\\theta_{m}\\right) {\\sum_{l=0}^{+\\infty} \\frac{{\\left(l^{2} + 3 \\, l + 2\\right)} r_{m}^{l} S_{l}\\left(l, \\theta_{m}, \\theta_{a}\\right)}{r_{a}^{l}}}}{r_{a}^{3}}\\,{d \\theta_{m}}\\,{d r_{m}}$"
      ],
      "text/plain": [
       "<IPython.core.display.Math object>"
      ]
     },
     "metadata": {},
     "output_type": "display_data"
    }
   ],
   "source": [
    "eq1 = -2*cot(theta_a)/r_a^3 == \\\n",
    "    - integrate( \\\n",
    "        j_m(r_m=r_a, theta_m=theta_m)*sin(theta_m) * \\\n",
    "            sum((2*l + 1)*S_l(l=l, theta_m=theta_m, theta_a=theta_a), l, 0, +Infinity)/r_a \\\n",
    "               , theta_m, 0, pi, hold=True) \\\n",
    "    + integrate(integrate( \\\n",
    "        j_m(r_m=r_m, theta_m=theta_m)*sin(theta_m) * \\\n",
    "            sum((l^2 - l)*(r_a/r_m)^l*S_l(l=l, theta_m=theta_m, theta_a=theta_a), l, 0, +Infinity)/r_a^2 \\\n",
    "                , theta_m, 0, pi, hold=True) \\\n",
    "                    , r_m, r_a, +Infinity, hold=True) \\\n",
    "    + integrate(integrate( \\\n",
    "        r_m*j_m(r_m=r_m, theta_m=theta_m)*sin(theta_m) * \\\n",
    "            sum(((l + 1)*l + 2*(l + 1))*(r_m/r_a)^l*S_l(l=l, theta_m=theta_m, theta_a=theta_a), l, 0, +Infinity)/r_a^3 \\\n",
    "                , theta_m, 0, pi, hold=True) \\\n",
    "                    , r_m, 0, r_a, hold=True)\n",
    "disp(eq1)"
   ]
  },
  {
   "cell_type": "code",
   "execution_count": 101,
   "id": "8ded9319",
   "metadata": {},
   "outputs": [
    {
     "data": {
      "text/latex": [
       "$\\displaystyle -\\frac{2 \\, \\cot\\left(\\theta_{a}\\right)}{r_{a}^{3}} = -\\int_{0}^{\\pi} \\frac{j_{m}\\left(r_{a}, \\theta_{m}\\right) \\sin\\left(\\theta_{m}\\right) {\\sum_{l=0}^{+\\infty} {\\left(2 \\, l + 1\\right)} S_{l}\\left(l, \\theta_{m}, \\theta_{a}\\right)}}{r_{a}}\\,{d \\theta_{m}} + \\int_{r_{a}}^{+\\infty} \\int_{0}^{\\pi} \\frac{j_{m}\\left(r_{m}, \\theta_{m}\\right) \\sin\\left(\\theta_{m}\\right) {\\sum_{l=0}^{+\\infty} \\frac{{\\left(l^{2} - l\\right)} r_{a}^{l} S_{l}\\left(l, \\theta_{m}, \\theta_{a}\\right)}{r_{m}^{l}}}}{r_{a}^{2}}\\,{d \\theta_{m}}\\,{d r_{m}} + \\int_{0}^{r_{a}} \\int_{0}^{\\pi} \\frac{r_{m} j_{m}\\left(r_{m}, \\theta_{m}\\right) \\sin\\left(\\theta_{m}\\right) {\\sum_{l=0}^{+\\infty} \\frac{{\\left(l^{2} + 3 \\, l + 2\\right)} r_{m}^{l} S_{l}\\left(l, \\theta_{m}, \\theta_{a}\\right)}{r_{a}^{l}}}}{r_{a}^{3}}\\,{d \\theta_{m}}\\,{d r_{m}}$"
      ],
      "text/plain": [
       "<IPython.core.display.Math object>"
      ]
     },
     "metadata": {},
     "output_type": "display_data"
    }
   ],
   "source": [
    "eq1 = -2*cot(theta_a)/r_a^3 == \\\n",
    "    - integrate( \\\n",
    "        j_m(r_m=r_a, theta_m=theta_m)*sin(theta_m) * \\\n",
    "            sum((2*l + 1)*S_l(l=l, theta_m=theta_m, theta_a=theta_a), l, 0, +Infinity)/r_a \\\n",
    "               , theta_m, 0, pi, hold=True) \\\n",
    "    + integrate(integrate( \\\n",
    "        j_m(r_m=r_m, theta_m=theta_m)*sin(theta_m) * \\\n",
    "            sum((l^2 - l)*(r_a/r_m)^l*S_l(l=l, theta_m=theta_m, theta_a=theta_a), l, 0, +Infinity)/r_a^2 \\\n",
    "                , theta_m, 0, pi, hold=True) \\\n",
    "                    , r_m, r_a, +Infinity, hold=True) \\\n",
    "    + integrate(integrate( \\\n",
    "        r_m*j_m(r_m=r_m, theta_m=theta_m)*sin(theta_m) * \\\n",
    "            sum(((l^2 + 3*l + 2))*(r_m/r_a)^l*S_l(l=l, theta_m=theta_m, theta_a=theta_a), l, 0, +Infinity)/r_a^3 \\\n",
    "                , theta_m, 0, pi, hold=True) \\\n",
    "                    , r_m, 0, r_a, hold=True)\n",
    "disp(eq1)"
   ]
  },
  {
   "cell_type": "markdown",
   "id": "357a06a7",
   "metadata": {},
   "source": [
    "\\begin{equation}\n",
    "\\begin{array}{c}\n",
    "-\\,2\\,\\frac{сtg \\, \\theta_a}{r_a^3} = \n",
    "-\\int\\limits_{r_m=0}^{r_a}\\,\\int\\limits_{\\theta_m=0}^{\\pi}\\,\\frac{j_m(r_m, \\theta_m)}{c}\\,\\frac{d}{dr_a}\\left(\\frac{\\sin \\theta_m\\, r_m}{r_a^2} \\sum\\limits_{l=0}^{\\infty }\\left(l+1\\right){{\\left( \\frac{{r_m}}{{r_a}} \\right)}^{l}}S_{l}(\\theta_m, \\theta_a) \\right)\\, d \\theta_m \\,d r_m  \\\\\n",
    "+\\int\\limits_{r_m=r_a}^{\\infty}\\,\\int\\limits_{\\theta_m=0}^{\\pi}\\,\\frac{j_m(r_m, \\theta_m)}{c} \\,\\frac{d}{dr_a}\\left(\\frac{\\sin \\theta_m}{r_a} \\sum\\limits_{l=0}^{\\infty }l{{\\left( \\frac{{r_a}}{{r_m}} \\right)}^{l}}S_{l}(\\theta_m, \\theta_a) \\right) \\, d \\theta_m \\,d r_m \\\\\n",
    "-\\int\\limits_{\\theta_m=0}^{\\pi}\\,\\frac{j_m(r_a, \\theta_m)}{c}\\,\\left(\\frac{\\sin \\theta_m}{r_a} \\sum\\limits_{l=0}^{\\infty }\\left(2\\,l+1\\right)\\,S_{l}(\\theta_m, \\theta_a) \\right) \\, d \\theta_m\n",
    "\\end{array}\n",
    "\\end{equation}"
   ]
  },
  {
   "cell_type": "code",
   "execution_count": 102,
   "id": "bd5ed308",
   "metadata": {},
   "outputs": [
    {
     "data": {
      "text/latex": [
       "$\\displaystyle -\\frac{2 \\, \\cot\\left(\\theta_{a}\\right)}{r_{a}^{3}} = -\\int_{0}^{\\pi} \\frac{j_{m}\\left(r_{a}, \\theta_{m}\\right) \\sin\\left(\\theta_{m}\\right) {\\sum_{l=0}^{+\\infty} {\\left(2 \\, l + 1\\right)} S_{l}\\left(l, \\theta_{m}, \\theta_{a}\\right)}}{r_{a}}\\,{d \\theta_{m}} + \\int_{r_{a}}^{+\\infty} \\int_{0}^{\\pi} \\frac{j_{m}\\left(r_{m}, \\theta_{m}\\right) \\sin\\left(\\theta_{m}\\right) {\\sum_{l=0}^{+\\infty} \\frac{{\\left(l^{2} - l\\right)} r_{a}^{l} S_{l}\\left(l, \\theta_{m}, \\theta_{a}\\right)}{r_{m}^{l}}}}{r_{a}^{2}}\\,{d \\theta_{m}}\\,{d r_{m}} + \\int_{0}^{r_{a}} \\int_{0}^{\\pi} \\frac{r_{m} j_{m}\\left(r_{m}, \\theta_{m}\\right) \\sin\\left(\\theta_{m}\\right) {\\sum_{l=0}^{+\\infty} \\frac{{\\left(l^{2} + 3 \\, l + 2\\right)} r_{m}^{l} S_{l}\\left(l, \\theta_{m}, \\theta_{a}\\right)}{r_{a}^{l}}}}{r_{a}^{3}}\\,{d \\theta_{m}}\\,{d r_{m}}$"
      ],
      "text/plain": [
       "<IPython.core.display.Math object>"
      ]
     },
     "metadata": {},
     "output_type": "display_data"
    }
   ],
   "source": [
    "eq1 = - A_q(r_a, theta_a).diff(r_a).diff(r_a) == \\\n",
    "    -integrate( \\\n",
    "        j_m(r_m=r_a, theta_m=theta_m)*sin(theta_m) * \\\n",
    "            sum((2*l + 1)*S_l(l=l, theta_m=theta_m, theta_a=theta_a), l, 0, +Infinity)/r_a \\\n",
    "                , theta_m, 0, pi, hold=True) \\\n",
    "    + integrate(integrate( \\\n",
    "        j_m(r_m=r_m, theta_m=theta_m)*sin(theta_m) * \\\n",
    "            sum((l^2 - l)*r_a^l*S_l(l=l, theta_m=theta_m, theta_a=theta_a)/r_m^l, l, 0, +Infinity)/r_a^2 \\\n",
    "                , theta_m, 0, pi, hold=True) \\\n",
    "                    , r_m, r_a, +Infinity, hold=True) \\\n",
    "    + integrate(integrate( \\\n",
    "        r_m*j_m(r_m=r_m, theta_m=theta_m)*sin(theta_m) * \\\n",
    "            sum((l^2 + 3*l + 2)*r_m^l*S_l(l=l, theta_m=theta_m, theta_a=theta_a)/r_a^l, l, 0, +Infinity)/r_a^3 \\\n",
    "                , theta_m, 0, pi, hold=True) \\\n",
    "                    , r_m, 0, r_a, hold=True)\n",
    "disp(eq1)"
   ]
  },
  {
   "cell_type": "markdown",
   "id": "baf09fc1",
   "metadata": {},
   "source": [
    "\\begin{equation}\n",
    "\\begin{array}{c}\n",
    "-\\frac{2 \\, \\cot\\left(\\theta_{a}\\right)}{r_{a}^{3}} = \n",
    "-\\int\\limits_{0}^{\\pi} \\frac{j_{m}\\left(r_{a}, \\theta_{m}\\right) \\sin\\left(\\theta_{m}\\right) {\\sum_{l=0}^{+\\infty} {\\left(2 \\, l + 1\\right)} S_{l}\\left(l, \\theta_{m}, \\theta_{a}\\right)}}{r_{a}}\\,{d \\theta_{m}} \\\\\n",
    "+ \\int\\limits_{0}^{r_{a}} \\int\\limits_{0}^{\\pi} \\frac{r_{m} j_{m}\\left(r_{m}, \\theta_{m}\\right) \\sin\\left(\\theta_{m}\\right) {\\sum_{l=0}^{+\\infty} \\frac{{\\left(l^{2} + 3 \\, l + 2\\right)} r_{m}^{l} S_{l}\\left(l, \\theta_{m}, \\theta_{a}\\right)}{r_{a}^{l}}}}{r_{a}^{3}}\\,{d \\theta_{m}}\\,{d r_{m}}\n",
    "+ \\int\\limits_{r_{a}}^{+\\infty} \\int\\limits_{0}^{\\pi} \\frac{j_{m}\\left(r_{m}, \\theta_{m}\\right) \\sin\\left(\\theta_{m}\\right) {\\sum_{l=0}^{+\\infty} \\frac{{\\left(l^{2} - l\\right)} r_{a}^{l} S_{l}\\left(l, \\theta_{m}, \\theta_{a}\\right)}{r_{m}^{l}}}}{r_{a}^{2}}\\,{d \\theta_{m}}\\,{d r_{m}} \n",
    "\\end{array}\n",
    "\\end{equation}"
   ]
  },
  {
   "cell_type": "markdown",
   "id": "bf7c7d1a",
   "metadata": {},
   "source": [
    "Таким образом, с помощью двукратного дифференцирования удалось вытащить неизвестную функцию из под двукратного интеграла в однократный. "
   ]
  },
  {
   "cell_type": "markdown",
   "id": "85911f65",
   "metadata": {},
   "source": [
    "Интегральное уравнение можно упростить введя выражение ядер интегрирования\n",
    "\n",
    "$  K_1(\\theta_m, \\theta_a) = \\sin\\left(\\theta_{m}\\right) {\\sum\\limits_{l=0}^{+\\infty} {\\left(2 \\, l + 1\\right)} S_{l}\\left(l, \\theta_{m}, \\theta_{a}\\right)}$\n",
    "\n",
    "$  K_2(r_m, r_a, \\theta_m, \\theta_a) = \\sin\\left(\\theta_{m}\\right) {\\sum\\limits_{l=0}^{+\\infty}{\\left(l^{2} + 3 \\, l + 2\\right)} \\left(\\frac{r_m}{r_a}\\right)^l} S_{l}\\left(l, \\theta_{m}, \\theta_{a}\\right)$\n",
    "\n",
    "$  K_3(r_m, r_a, \\theta_m, \\theta_a) = \\sin\\left(\\theta_{m}\\right) {\\sum\\limits_{l=0}^{+\\infty} {\\left(l^{2} - l\\right)}\\left(\\frac{r_a}{r_m}\\right)^l}S_{l}\\left(l, \\theta_{m}, \\theta_{a}\\right)$\n"
   ]
  },
  {
   "cell_type": "markdown",
   "id": "f80b46d9",
   "metadata": {},
   "source": [
    "Обозначим\n",
    "\n",
    "$Q_{l}\\left(\\theta_m, \\theta_a\\right) = sin\\left(\\theta_m\\right)\\,S_{l}\\left(\\theta_m, \\theta_a\\right) = sin\\left(\\theta_m\\right)\\,\\left(\\int\\limits_{{\\left(\\varphi_m - \\varphi_a\\right)}=0}^{2\\pi}\\,{cos\\,{{\\left(\\varphi_m - \\varphi_a\\right)} } }{P_l} \\cos \\left( \\gamma  \\right)\\, d {\\left(\\varphi_m - \\varphi_a\\right)}\\right)$"
   ]
  },
  {
   "cell_type": "code",
   "execution_count": 141,
   "id": "f6e0aca8",
   "metadata": {},
   "outputs": [],
   "source": [
    "def Q_l(l, theta_m, theta_a):\n",
    "    return sin(theta_m) * S_l(l=l, theta_m=theta_m, theta_a=theta_a)"
   ]
  },
  {
   "cell_type": "code",
   "execution_count": 142,
   "id": "1b581320",
   "metadata": {},
   "outputs": [],
   "source": [
    "def Kr2(l, r_m, r_a):\n",
    "    return (r_m/r_a)^l\n",
    "def Kr3(l, r_m, r_a):\n",
    "    return (r_a/r_m)^l"
   ]
  },
  {
   "cell_type": "code",
   "execution_count": 143,
   "id": "22e34483",
   "metadata": {},
   "outputs": [],
   "source": [
    "def Kl1(l):\n",
    "    return (2*l + 1)\n",
    "def Kl2(l):\n",
    "    return (l^2 + 3*l + 2)\n",
    "def Kl3(l):\n",
    "    return (l^2 - l)"
   ]
  },
  {
   "cell_type": "code",
   "execution_count": 144,
   "id": "9fe52746",
   "metadata": {},
   "outputs": [],
   "source": [
    "def K1(l, theta_m, theta_a):\n",
    "    return Kl1(l) * Q_l(l, theta_m, theta_a)\n",
    "def K2(l, r_m, r_a, theta_m, theta_a):\n",
    "    return Kl2(l) * Kr2(l, r_m, r_a) * Q_l(l, theta_m, theta_a)\n",
    "def K3(l, r_m, r_a, theta_m, theta_a):\n",
    "    return Kl3(l) * Kr3(l, r_m, r_a) * Q_l(l, theta_m, theta_a)"
   ]
  },
  {
   "cell_type": "code",
   "execution_count": 145,
   "id": "05f44a72",
   "metadata": {},
   "outputs": [],
   "source": [
    "K_1 = function(\"K_1\")(theta_m, theta_a)\n",
    "K_2 = function(\"K_2\")(r_m, r_a, theta_m, theta_a)\n",
    "K_3 = function(\"K_3\")(r_m, r_a, theta_m, theta_a)"
   ]
  },
  {
   "cell_type": "markdown",
   "id": "b68c7bf1",
   "metadata": {},
   "source": [
    "Таким образом краткая запись интегрального уравнения имеет вид\n",
    "\n",
    "\\begin{equation}\n",
    "\\begin{array}{c}\n",
    "-\\frac{2 \\, \\cot\\left(\\theta_{a}\\right)}{r_{a}^{3}} = \n",
    "-\\frac{1}{r_a}\\int\\limits_{0}^{\\pi} j_{m}\\left(r_{a}, \\theta_{m}\\right)\n",
    "K_1(\\theta_m, \\theta_a)\n",
    "\\,{d \\theta_{m}} \\\\\n",
    "+ \\frac{1}{r_a^3}\\int\\limits_{0}^{r_{a}} r_{m} \\int\\limits_{0}^{\\pi}\n",
    "j_{m}\\left(r_{m}, \\theta_{m}\\right)\n",
    "K_2(r_m, r_a, \\theta_m, \\theta_a)\n",
    "\\,{d \\theta_{m}}\\,{d r_{m}} \\\\\n",
    "+ \\frac{1}{r_a^2}\\int\\limits_{r_{a}}^{+\\infty} \\int\\limits_{0}^{\\pi}\n",
    "j_{m}\\left(r_{m}, \\theta_{m}\\right)\n",
    "K_3(r_m, r_a, \\theta_m, \\theta_a)\n",
    "\\,{d \\theta_{m}}\\,{d r_{m}} \n",
    "\\end{array}\n",
    "\\end{equation}"
   ]
  },
  {
   "cell_type": "markdown",
   "id": "60c22560",
   "metadata": {},
   "source": [
    "Теперь, поскольку ввиду симметричных свойств первого ядра интегрирования тем же самым приёмом вытащить неизвестную функцию из под полученного однократного интеграла не удаётся, можно попытаться разделить переменные в неизвестной функции"
   ]
  },
  {
   "cell_type": "markdown",
   "id": "91a79efa",
   "metadata": {},
   "source": [
    "Неизвестные функции\n",
    "\n",
    "$j_m(r_m, \\theta_m) = j_r(r_m) \\, j_{\\theta}(\\theta_m) = q_r(r_m) \\, q_{\\theta}(\\theta_m)\\, \\omega_{r} (r_m)\\, \\omega_{\\theta} (\\theta_m) \\, r_m \\, \\sin \\theta_m$ - плотность магнитного тока"
   ]
  },
  {
   "cell_type": "code",
   "execution_count": 146,
   "id": "8184cf09",
   "metadata": {},
   "outputs": [],
   "source": [
    "j_r = function(\"j_r\")(r_m)\n",
    "j_t = function(\"j_theta\")(theta_m)"
   ]
  },
  {
   "cell_type": "code",
   "execution_count": 147,
   "id": "984587e0",
   "metadata": {},
   "outputs": [
    {
     "data": {
      "text/latex": [
       "$\\displaystyle -\\frac{2 \\, \\cot\\left(\\theta_{a}\\right)}{r_{a}^{2}} = -\\int_{0}^{\\pi} K_{1}\\left(\\theta_{m}, \\theta_{a}\\right) j_{\\theta}\\left(\\theta_{m}\\right)\\,{d \\theta_{m}} j_{r}\\left(r_{a}\\right) + \\frac{\\int_{r_{a}}^{+\\infty} \\int_{0}^{\\pi} K_{3}\\left(r_{m}, r_{a}, \\theta_{m}, \\theta_{a}\\right) j_{\\theta}\\left(\\theta_{m}\\right)\\,{d \\theta_{m}} j_{r}\\left(r_{m}\\right)\\,{d r_{m}}}{r_{a}} + \\frac{\\int_{0}^{r_{a}} r_{m} \\int_{0}^{\\pi} K_{2}\\left(r_{m}, r_{a}, \\theta_{m}, \\theta_{a}\\right) j_{\\theta}\\left(\\theta_{m}\\right)\\,{d \\theta_{m}} j_{r}\\left(r_{m}\\right)\\,{d r_{m}}}{r_{a}^{2}}$"
      ],
      "text/plain": [
       "<IPython.core.display.Math object>"
      ]
     },
     "metadata": {},
     "output_type": "display_data"
    }
   ],
   "source": [
    "eq1 = - r_a * A_q(r_a, theta_a).diff(r_a).diff(r_a) == \\\n",
    "    -j_r(r_m=r_a) * integrate( \\\n",
    "        j_t(theta_m=theta_m)*K_1(theta_m=theta_m, theta_a=theta_a) \\\n",
    "                , theta_m, 0, pi, hold=True) \\\n",
    "    + (1/r_a^2) * integrate(r_m*j_r(r_m=r_m)*integrate( \\\n",
    "        j_t(theta_m=theta_m) * K_2(r_m=r_m, r_a=r_a, theta_m=theta_m, theta_a=theta_a) \\\n",
    "                , theta_m, 0, pi, hold=True) \\\n",
    "                    , r_m, 0, r_a, hold=True) \\\n",
    "    + (1/r_a)*integrate(j_r(r_m=r_m)*integrate( \\\n",
    "        j_t(theta_m=theta_m) * K_3(r_m=r_m, r_a=r_a, theta_m=theta_m, theta_a=theta_a) \\\n",
    "                , theta_m, 0, pi, hold=True) \\\n",
    "                    , r_m, r_a, +Infinity, hold=True)\n",
    "\n",
    "disp(eq1)"
   ]
  },
  {
   "cell_type": "markdown",
   "id": "1447a10f",
   "metadata": {},
   "source": [
    "\\begin{equation}\n",
    "\\begin{array}{c}\n",
    "-\\frac{2 \\, \\cot\\left(\\theta_{a}\\right)}{r_{a}^{2}} = \n",
    "-j_r(r_a) \\, \\int\\limits_{0}^{\\pi} j_{\\theta}(\\theta_m)\n",
    "K_1(\\theta_m, \\theta_a)\n",
    "\\,{d \\theta_{m}} \\\\\n",
    "+ \\frac{1}{r_a^2}\\int\\limits_{0}^{r_{a}} r_m \\,j_r(r_m) \\, \\int\\limits_{0}^{\\pi}\n",
    "j_{\\theta}(\\theta_m)\n",
    "K_2(r_m, r_a, \\theta_m, \\theta_a)\n",
    "\\,{d \\theta_{m}}\\,{d r_{m}}\n",
    "+ \\frac{1}{r_a}\\int\\limits_{r_{a}}^{+\\infty} j_r(r_m) \\, \\int\\limits_{0}^{\\pi}\n",
    "j_{\\theta}(\\theta_m)\n",
    "K_3(r_m, r_a, \\theta_m, \\theta_a)\n",
    "\\,{d \\theta_{m}}\\,{d r_{m}} \n",
    "\\end{array}\n",
    "\\end{equation}"
   ]
  },
  {
   "cell_type": "markdown",
   "id": "a4a8e25f",
   "metadata": {},
   "source": [
    "$\\begin{array}{l}\n",
    "j_r(r_a) \\, \\int\\limits_{0}^{\\pi} j_{\\theta}(\\theta_m) K_1(\\theta_m, \\theta_a)\n",
    "\\,{d \\theta_{m}} = \\\\\n",
    "\\frac{2 \\, \\cot\\left(\\theta_{a}\\right)}{r_{a}^{2}}\n",
    "+ \\frac{1}{r_a^2}\\int\\limits_{0}^{r_{a}} r_m \\,j_r(r_m) \\, \\int\\limits_{0}^{\\pi}\n",
    "j_{\\theta}(\\theta_m)\n",
    "K_2(r_m, r_a, \\theta_m, \\theta_a)\n",
    "\\,{d \\theta_{m}}\\,{d r_{m}}\n",
    "+ \\frac{1}{r_a}\\int\\limits_{r_{a}}^{+\\infty} j_r(r_m) \\, \\int\\limits_{0}^{\\pi}\n",
    "j_{\\theta}(\\theta_m)\n",
    "K_3(r_m, r_a, \\theta_m, \\theta_a)\n",
    "\\,{d \\theta_{m}}\\,{d r_{m}} \n",
    "\\end{array}$"
   ]
  },
  {
   "cell_type": "markdown",
   "id": "f88bf89a",
   "metadata": {},
   "source": [
    "Введя обозначение\n",
    "\n",
    "$$L\\left(j_{\\theta}, \\theta_a\\right)=\\frac {1}{\\int\\limits_{0}^{\\pi} j_{\\theta}(\\theta_m) K_1(\\theta_m, \\theta_a)\\,{d \\theta_{m}}}$$"
   ]
  },
  {
   "cell_type": "markdown",
   "id": "fd3cbee8",
   "metadata": {},
   "source": [
    "$$L\\left(j_{\\theta}, \\theta_a\\right)=\\frac {1}{\\int\\limits_{0}^{\\pi} j_{\\theta}(\\theta_m) \\sin\\left(\\theta_{m}\\right) {\\sum\\limits_{l=0}^{+\\infty} {\\left(2 \\, l + 1\\right)} S_{l}\\left(l, \\theta_{m}, \\theta_{a}\\right)}\\,{d \\theta_{m}}}$$"
   ]
  },
  {
   "cell_type": "markdown",
   "id": "a2f31f77",
   "metadata": {},
   "source": [
    "$$L\\left(j_{\\theta}, \\theta_a\\right)=\\frac {1}{\\sum\\limits_{l=0}^{+\\infty} {\\left(2 \\, l + 1\\right)}\\int\\limits_{0}^{\\pi} j_{\\theta}(\\theta_m) \\sin\\left(\\theta_{m}\\right) { S_{l}\\left(l, \\theta_{m}, \\theta_{a}\\right)}\\,{d \\theta_{m}}}$$"
   ]
  },
  {
   "cell_type": "markdown",
   "id": "12f546ee",
   "metadata": {},
   "source": [
    "Введя обозначение\n",
    "\n",
    "$$M_l\\left(j_{\\theta}, \\theta_a\\right)={\\int\\limits_{0}^{\\pi} j_{\\theta}(\\theta_m)\\,S_l(\\theta_m, \\theta_a)\\,sin\\left(\\theta_m\\right)\\,{d \\theta_{m}}}$$"
   ]
  },
  {
   "cell_type": "markdown",
   "id": "2b39d00c",
   "metadata": {},
   "source": [
    "$$M_l\\left(j_{\\theta}, \\theta_a\\right)={\\int\\limits_{0}^{\\pi} j_{\\theta}(\\theta_m)\\,Q_l(\\theta_m, \\theta_a)\\,{d \\theta_{m}}}$$"
   ]
  },
  {
   "cell_type": "markdown",
   "id": "3eca4e08",
   "metadata": {},
   "source": [
    "$$m_l\\left(j_{\\theta}, \\theta_a\\right)= j_{\\theta}(\\theta_m)\\,Q_l(\\theta_m, \\theta_a)$$"
   ]
  },
  {
   "cell_type": "markdown",
   "id": "9eb344d0",
   "metadata": {},
   "source": [
    "$$L\\left(j_{\\theta}, \\theta_a\\right)=\\frac {1}{\\sum\\limits_{l=0}^{+\\infty} {\\left(2 \\, l + 1\\right)}M_l\\left(j_{\\theta}, \\theta_a\\right)}$$"
   ]
  },
  {
   "cell_type": "code",
   "execution_count": 210,
   "id": "3e5fe767",
   "metadata": {},
   "outputs": [],
   "source": [
    "L = var(\"L\")"
   ]
  },
  {
   "cell_type": "code",
   "execution_count": 148,
   "id": "2fbcdcdd",
   "metadata": {},
   "outputs": [],
   "source": [
    "def Ll(L, j_theta, theta_a):\n",
    "    return 1/(sum(integrate(j_theta(theta_m=theta_m) * K1(l, theta_m, theta_a), theta_m, 0, pi, hold=True), l, 0, L)"
   ]
  },
  {
   "cell_type": "code",
   "execution_count": 209,
   "id": "7ad0abe4",
   "metadata": {},
   "outputs": [],
   "source": [
    "def Ll(L, j_theta, theta_a):\n",
    "    return 1/(sum(Kl1(l) * integrate(j_theta(theta_m=theta_m) * Q_l(l, theta_m, theta_a), theta_m, 0, pi, hold=True)), l, 0, L)"
   ]
  },
  {
   "cell_type": "markdown",
   "id": "37a60a5d",
   "metadata": {},
   "source": [
    "Получаем интегральное уравнение, записанное в виде, пригодном для итерационной процедуры\n",
    "\n",
    "\\begin{equation}\n",
    "\\begin{array}{c}\n",
    "j_r(r_a) = \n",
    "\\frac{2 \\, \\cot\\left(\\theta_{a}\\right)}{r_{a}^{2}}\\,L\\left(j_{\\theta}, \\theta_a\\right)\n",
    "+ \\frac{L\\left(j_{\\theta}, \\theta_a\\right)}{r_a^2}\\int\\limits_{0}^{r_{a}} r_m \\,j_r(r_m) \\, \\int\\limits_{0}^{\\pi}\n",
    "j_{\\theta}(\\theta_m)\n",
    "K_2(r_m, r_a, \\theta_m, \\theta_a)\n",
    "\\,{d \\theta_{m}}\\,{d r_{m}}\n",
    "+ \\frac{L\\left(j_{\\theta}, \\theta_a\\right)}{r_a}\\int\\limits_{r_{a}}^{+\\infty} j_r(r_m) \\, \\int\\limits_{0}^{\\pi}\n",
    "j_{\\theta}(\\theta_m)\n",
    "K_3(r_m, r_a, \\theta_m, \\theta_a)\n",
    "\\,{d \\theta_{m}}\\,{d r_{m}} \n",
    "\\end{array}\n",
    "\\end{equation}"
   ]
  },
  {
   "cell_type": "markdown",
   "id": "96be737f",
   "metadata": {},
   "source": [
    "Получаем интегральное уравнение, записанное в виде, пригодном для итерационной процедуры\n",
    "\n",
    "\\begin{equation}\n",
    "\\begin{array}{c}\n",
    "j_r(r_a) = L\\left(j_{\\theta}, \\theta_a\\right) \\left(\n",
    "\\frac{2 \\, \\cot\\left(\\theta_{a}\\right)}{r_{a}^{2}}\\,\n",
    "+ \\frac{1}{r_a^2}\\int\\limits_{0}^{r_{a}} r_m \\,j_r(r_m) \\, \\int\\limits_{0}^{\\pi}\n",
    "j_{\\theta}(\\theta_m)\n",
    "K_2(r_m, r_a, \\theta_m, \\theta_a)\n",
    "\\,{d \\theta_{m}}\\,{d r_{m}}\n",
    "+ \\frac{1}{r_a}\\int\\limits_{r_{a}}^{+\\infty} j_r(r_m) \\, \\int\\limits_{0}^{\\pi}\n",
    "j_{\\theta}(\\theta_m)\n",
    "K_3(r_m, r_a, \\theta_m, \\theta_a)\n",
    "\\,{d \\theta_{m}}\\,{d r_{m}} \\right)\n",
    "\\end{array}\n",
    "\\end{equation}"
   ]
  },
  {
   "cell_type": "markdown",
   "id": "2b11230f",
   "metadata": {},
   "source": [
    "Подставляем ядра интегрирования\n",
    "\n",
    "\\begin{equation}\n",
    "\\begin{array}{c}\n",
    "j_r(r_a) = L\\left(j_{\\theta}, \\theta_a\\right) \\left(\n",
    "\\frac{2 \\, \\cot\\left(\\theta_{a}\\right)}{r_{a}^{2}}\\, +\\\\\n",
    "+ \\frac{1}{r_a^2}\\int\\limits_{0}^{r_{a}} r_m \\,j_r(r_m) \\, \\int\\limits_{0}^{\\pi}\n",
    "j_{\\theta}(\\theta_m)\n",
    "\\sin\\left(\\theta_{m}\\right) {\\sum\\limits_{l=0}^{+\\infty}{\\left(l^{2} + 3 \\, l + 2\\right)} \\left(\\frac{r_m}{r_a}\\right)^l} S_{l}\\left(l, \\theta_{m}, \\theta_{a}\\right)\n",
    "\\,{d \\theta_{m}}\\,{d r_{m}} \\\\\n",
    "+ \\frac{1}{r_a}\\int\\limits_{r_{a}}^{+\\infty} j_r(r_m) \\, \\int\\limits_{0}^{\\pi}\n",
    "j_{\\theta}(\\theta_m)\n",
    "\\sin\\left(\\theta_{m}\\right) {\\sum\\limits_{l=0}^{+\\infty} {\\left(l^{2} - l\\right)}\\left(\\frac{r_a}{r_m}\\right)^l}S_{l}\\left(l, \\theta_{m}, \\theta_{a}\\right)\n",
    "\\,{d \\theta_{m}}\\,{d r_{m}} \\right)\n",
    "\\end{array}\n",
    "\\end{equation}"
   ]
  },
  {
   "cell_type": "markdown",
   "id": "498e875e",
   "metadata": {},
   "source": [
    "Меняем порядок интегрирования и суммирования\n",
    "\n",
    "\\begin{equation}\n",
    "\\begin{array}{c}\n",
    "j_r(r_a) = L\\left(j_{\\theta}, \\theta_a\\right) \\left(\n",
    "\\frac{2 \\, \\cot\\left(\\theta_{a}\\right)}{r_{a}^{2}}\\, +\\\\\n",
    "+ \\frac{1}{r_a^2}\\sum\\limits_{l=0}^{+\\infty}{\\left(l^{2} + 3 \\, l + 2\\right)} \\int\\limits_{0}^{r_{a}} r_m \\,j_r(r_m) \\, \\int\\limits_{0}^{\\pi}\n",
    "j_{\\theta}(\\theta_m)\n",
    "\\sin\\left(\\theta_{m}\\right) { \\left(\\frac{r_m}{r_a}\\right)^l} S_{l}\\left(l, \\theta_{m}, \\theta_{a}\\right)\n",
    "\\,{d \\theta_{m}}\\,{d r_{m}} \\\\\n",
    "+ \\frac{1}{r_a}\\sum\\limits_{l=0}^{+\\infty} {\\left(l^{2} - l\\right)}\\int\\limits_{r_{a}}^{+\\infty} j_r(r_m) \\, \\int\\limits_{0}^{\\pi}\n",
    "j_{\\theta}(\\theta_m)\n",
    "\\sin\\left(\\theta_{m}\\right) {\\left(\\frac{r_a}{r_m}\\right)^l}S_{l}\\left(l, \\theta_{m}, \\theta_{a}\\right)\n",
    "\\,{d \\theta_{m}}\\,{d r_{m}} \\right)\n",
    "\\end{array}\n",
    "\\end{equation}"
   ]
  },
  {
   "cell_type": "markdown",
   "id": "ed911f65",
   "metadata": {},
   "source": [
    "Выносим переменные связанные с радиусом из под интеграла по углам\n",
    "\n",
    "\\begin{equation}\n",
    "\\begin{array}{c}\n",
    "j_r(r_a) = L\\left(j_{\\theta}, \\theta_a\\right) \\left(\n",
    "\\frac{2 \\, \\cot\\left(\\theta_{a}\\right)}{r_{a}^{2}}\\, +\\\\\n",
    "+ \\frac{1}{r_a^2}\\sum\\limits_{l=0}^{+\\infty}{\\left(l^{2} + 3 \\, l + 2\\right)} \\int\\limits_{0}^{r_{a}} r_m \\,j_r(r_m) { \\left(\\frac{r_m}{r_a}\\right)^l}\\,\n",
    "\\int\\limits_{0}^{\\pi}\n",
    "j_{\\theta}(\\theta_m)\n",
    "\\sin\\left(\\theta_{m}\\right)  S_{l}\\left(l, \\theta_{m}, \\theta_{a}\\right)\n",
    "\\,{d \\theta_{m}}\\,{d r_{m}} \\\\\n",
    "+ \\frac{1}{r_a}\\sum\\limits_{l=0}^{+\\infty} {\\left(l^{2} - l\\right)}\\int\\limits_{r_{a}}^{+\\infty} j_r(r_m) {\\left(\\frac{r_a}{r_m}\\right)^l}\\,\n",
    "\\int\\limits_{0}^{\\pi}\n",
    "j_{\\theta}(\\theta_m)\n",
    "\\sin\\left(\\theta_{m}\\right)  S_{l}\\left(l, \\theta_{m}, \\theta_{a}\\right)\n",
    "\\,{d \\theta_{m}}\\,{d r_{m}} \\right)\n",
    "\\end{array}\n",
    "\\end{equation}"
   ]
  },
  {
   "cell_type": "markdown",
   "id": "5f2e36a7",
   "metadata": {},
   "source": [
    "Теперь, поскольку интеграл по углам не зависит от радиуса, выносим этот интеграл целиком из под интеграла по радиусу в виде самостоятельного множителя\n",
    "\n",
    "\\begin{equation}\n",
    "\\begin{array}{c}\n",
    "j_r(r_a) = L\\left(j_{\\theta}, \\theta_a\\right) \\left(\n",
    "\\frac{2 \\, \\cot\\left(\\theta_{a}\\right)}{r_{a}^{2}}\\, +\\\\\n",
    "+ \\frac{1}{r_a^2}\\sum\\limits_{l=0}^{+\\infty}{\\left(l^{2} + 3 \\, l + 2\\right)} \\cdot\n",
    "\\int\\limits_{0}^{r_{a}} r_m \\,j_r(r_m) { \\left(\\frac{r_m}{r_a}\\right)^l}\\,\n",
    "\\,{d r_{m}} \\cdot\n",
    "\\int\\limits_{0}^{\\pi}\n",
    "j_{\\theta}(\\theta_m)\n",
    "\\sin\\left(\\theta_{m}\\right)  S_{l}\\left(l, \\theta_{m}, \\theta_{a}\\right)\n",
    "\\,{d \\theta_{m}}\\\\\n",
    "+ \\frac{1}{r_a}\\sum\\limits_{l=0}^{+\\infty} {\\left(l^{2} - l\\right)} \\cdot\n",
    "\\int\\limits_{r_{a}}^{+\\infty} j_r(r_m) {\\left(\\frac{r_a}{r_m}\\right)^l}\\,\n",
    "\\,{d r_{m}} \\cdot\n",
    "\\int\\limits_{0}^{\\pi}\n",
    "j_{\\theta}(\\theta_m)\n",
    "\\sin\\left(\\theta_{m}\\right)  S_{l}\\left(l, \\theta_{m}, \\theta_{a}\\right)\n",
    "\\,{d \\theta_{m}}\n",
    "\\right)\n",
    "\\end{array}\n",
    "\\end{equation}"
   ]
  },
  {
   "cell_type": "markdown",
   "id": "5d17bda1",
   "metadata": {},
   "source": [
    "Выносим радиус координаты наблюдения за скобки\n",
    "\n",
    "\\begin{equation}\n",
    "\\begin{array}{c}\n",
    "j_r(r_a) = \\frac{L\\left(j_{\\theta}, \\theta_a\\right)}{r_{a}} \\left(\n",
    "\\frac{2 \\, \\cot\\left(\\theta_{a}\\right)}{r_{a}}\\, +\\\\\n",
    "+ \\frac{1}{r_a}\\sum\\limits_{l=0}^{+\\infty}{\\left(l^{2} + 3 \\, l + 2\\right)} \\cdot\n",
    "\\int\\limits_{0}^{r_{a}} r_m \\,j_r(r_m) { \\left(\\frac{r_m}{r_a}\\right)^l}\\,\n",
    "\\,{d r_{m}} \\cdot\n",
    "\\int\\limits_{0}^{\\pi}\n",
    "j_{\\theta}(\\theta_m)\n",
    "\\sin\\left(\\theta_{m}\\right)  S_{l}\\left(l, \\theta_{m}, \\theta_{a}\\right)\n",
    "\\,{d \\theta_{m}}\\\\\n",
    "+ \\sum\\limits_{l=0}^{+\\infty} {\\left(l^{2} - l\\right)} \\cdot\n",
    "\\int\\limits_{r_{a}}^{+\\infty} j_r(r_m) {\\left(\\frac{r_a}{r_m}\\right)^l}\\,\n",
    "\\,{d r_{m}} \\cdot\n",
    "\\int\\limits_{0}^{\\pi}\n",
    "j_{\\theta}(\\theta_m)\n",
    "\\sin\\left(\\theta_{m}\\right)  S_{l}\\left(l, \\theta_{m}, \\theta_{a}\\right)\n",
    "\\,{d \\theta_{m}}\n",
    "\\right)\n",
    "\\end{array}\n",
    "\\end{equation}"
   ]
  },
  {
   "cell_type": "markdown",
   "id": "76738957",
   "metadata": {},
   "source": [
    "Вносим радиус координаты наблюдения во второй интеграл\n",
    "\n",
    "\\begin{equation}\n",
    "\\begin{array}{c}\n",
    "j_r(r_a) = \\frac{L\\left(j_{\\theta}, \\theta_a\\right)}{r_{a}} \\left(\n",
    "\\frac{2 \\, \\cot\\left(\\theta_{a}\\right)}{r_{a}}\\, +\\\\\n",
    "+ \\sum\\limits_{l=0}^{+\\infty}{\\left(l^{2} + 3 \\, l + 2\\right)} \\cdot\n",
    "\\int\\limits_{0}^{r_{a}} \\,j_r(r_m) { \\left(\\frac{r_m}{r_a}\\right)^{l+1}}\\,\n",
    "\\,{d r_{m}} \\cdot\n",
    "\\int\\limits_{0}^{\\pi}\n",
    "j_{\\theta}(\\theta_m)\n",
    "\\sin\\left(\\theta_{m}\\right)  S_{l}\\left(l, \\theta_{m}, \\theta_{a}\\right)\n",
    "\\,{d \\theta_{m}}\\\\\n",
    "+ \\sum\\limits_{l=0}^{+\\infty} {\\left(l^{2} - l\\right)} \\cdot\n",
    "\\int\\limits_{r_{a}}^{+\\infty} j_r(r_m) {\\left(\\frac{r_a}{r_m}\\right)^l}\\,\n",
    "\\,{d r_{m}} \\cdot\n",
    "\\int\\limits_{0}^{\\pi}\n",
    "j_{\\theta}(\\theta_m)\n",
    "\\sin\\left(\\theta_{m}\\right)  S_{l}\\left(l, \\theta_{m}, \\theta_{a}\\right)\n",
    "\\,{d \\theta_{m}}\n",
    "\\right)\n",
    "\\end{array}\n",
    "\\end{equation}"
   ]
  },
  {
   "cell_type": "markdown",
   "id": "c7c3f4ec",
   "metadata": {},
   "source": [
    "Выносим интеграл по углу за скобки\n",
    "\n",
    "\\begin{equation}\n",
    "\\begin{array}{l}\n",
    "j_r(r_a) = \\frac{L\\left(j_{\\theta}, \\theta_a\\right)}{r_{a}} \\left(\n",
    "\\frac{2 \\, \\cot\\left(\\theta_{a}\\right)}{r_{a}}\\, + \\\\\n",
    "+ \\sum\\limits_{l=0}^{+\\infty}\n",
    "\\left[\n",
    "\\left\\{\n",
    "{\\left(l^{2} + 3 \\, l + 2\\right)} \\cdot\n",
    "\\int\\limits_{0}^{r_{a}} \\,j_r(r_m) { \\left(\\frac{r_m}{r_a}\\right)^{l+1}}\\,\n",
    "\\,{d r_{m}}\n",
    "+ {\\left(l^{2} - l\\right)} \\cdot\n",
    "\\int\\limits_{r_{a}}^{+\\infty} j_r(r_m) {\\left(\\frac{r_a}{r_m}\\right)^l}\\,\n",
    "\\,{d r_{m}}\n",
    "\\right\\}\n",
    "\\cdot\n",
    "\\int\\limits_{0}^{\\pi}\n",
    "j_{\\theta}(\\theta_m)\n",
    "\\sin\\left(\\theta_{m}\\right)  S_{l}\\left(l, \\theta_{m}, \\theta_{a}\\right)\n",
    "\\,{d \\theta_{m}}\n",
    "\\right]\n",
    "\\right)\n",
    "\\end{array}\n",
    "\\end{equation}"
   ]
  },
  {
   "cell_type": "markdown",
   "id": "88b63a5d",
   "metadata": {},
   "source": [
    "\n",
    "Замечая, что мы уже ввели обозначение \n",
    "\n",
    "$$M_l\\left(j_{\\theta}, \\theta_a\\right)={\\int\\limits_{0}^{\\pi} j_{\\theta}(\\theta_m)\\,S_l(\\theta_m, \\theta_a)\\,sin\\left(\\theta_m\\right)\\,{d \\theta_{m}}}$$\n",
    "\n",
    "для интеграла по углу который был вынесен за скобки\n",
    "\n",
    "\\begin{equation}\n",
    "\\begin{array}{l}\n",
    "j_r(r_a) = \\frac{L\\left(j_{\\theta}, \\theta_a\\right)}{r_{a}} \\left(\n",
    "\\frac{2 \\, \\cot\\left(\\theta_{a}\\right)}{r_{a}}\\, + \\\\\n",
    "+ \\sum\\limits_{l=0}^{+\\infty}\n",
    "\\left[\n",
    "\\left\\{\n",
    "{\\left(l^{2} + 3 \\, l + 2\\right)} \\cdot\n",
    "\\int\\limits_{0}^{r_{a}} \\,j_r(r_m) { \\left(\\frac{r_m}{r_a}\\right)^{l+1}}\\,\n",
    "\\,{d r_{m}}\n",
    "+ {\\left(l^{2} - l\\right)} \\cdot\n",
    "\\int\\limits_{r_{a}}^{+\\infty} j_r(r_m) {\\left(\\frac{r_a}{r_m}\\right)^l}\\,\n",
    "\\,{d r_{m}}\n",
    "\\right\\}\n",
    "\\cdot\n",
    "M_l\\left(j_{\\theta}, \\theta_a\\right)\n",
    "\\right]\n",
    "\\right)\n",
    "\\end{array}\n",
    "\\end{equation}"
   ]
  },
  {
   "cell_type": "markdown",
   "id": "fa38ffa5",
   "metadata": {},
   "source": [
    "\n",
    "Вводим дополнительные обозначение \n",
    "\n",
    "$$R_2\\left(l, r_a\\right)=\\int\\limits_{0}^{r_{a}} \\,j_r(r_m) { \\left(\\frac{r_m}{r_a}\\right)^{l+1}}\\,\n",
    "\\,{d r_{m}}$$\n",
    "\n",
    "$$R_3\\left(l, r_a\\right)=\\int\\limits_{r_{a}}^{+\\infty} j_r(r_m) {\\left(\\frac{r_a}{r_m}\\right)^l}\\,\n",
    "\\,{d r_{m}}$$\n",
    "\n",
    "и теперь\n",
    "\n",
    "\\begin{equation}\n",
    "\\begin{array}{l}\n",
    "j_r(r_a) = \\frac{L\\left(j_{\\theta}, \\theta_a\\right)}{r_{a}} \\left(\n",
    "\\frac{2 \\, \\cot\\left(\\theta_{a}\\right)}{r_{a}}\\,\n",
    "+ \\sum\\limits_{l=0}^{+\\infty}\n",
    "\\left[\n",
    "\\left\\{\n",
    "{\\left(l^{2} + 3 \\, l + 2\\right)} \\cdot\n",
    "R_2\\left(l, r_a\\right)\n",
    "+ {\\left(l^{2} - l\\right)} \\cdot\n",
    "R_3\\left(l, r_a\\right)\n",
    "\\right\\}\n",
    "\\cdot\n",
    "M_l\\left(j_{\\theta}, \\theta_a\\right)\n",
    "\\right]\n",
    "\\right)\n",
    "\\end{array}\n",
    "\\end{equation}"
   ]
  },
  {
   "cell_type": "markdown",
   "id": "2560f055",
   "metadata": {},
   "source": [
    "Раскрывая обозначение $L\\left(j_{\\theta}, \\theta_a\\right)$\n",
    "\n",
    "\\begin{equation}\n",
    "\\begin{array}{l}\n",
    "j_r(r_a) = \\frac{1}{r_{a}}\\frac {1}{\\sum\\limits_{l=0}^{+\\infty} {\\left(2 \\, l + 1\\right)}M_l\\left(j_{\\theta}, \\theta_a\\right)} \\left(\n",
    "\\frac{2 \\, \\cot\\left(\\theta_{a}\\right)}{r_{a}}\\,\n",
    "+ \\sum\\limits_{l=0}^{+\\infty}\n",
    "\\left[\n",
    "\\left\\{\n",
    "{\\left(l^{2} + 3 \\, l + 2\\right)} \\cdot\n",
    "R_2\\left(l, r_a\\right)\n",
    "+ {\\left(l^{2} - l\\right)} \\cdot\n",
    "R_3\\left(l, r_a\\right)\n",
    "\\right\\}\n",
    "\\cdot\n",
    "M_l\\left(j_{\\theta}, \\theta_a\\right)\n",
    "\\right]\n",
    "\\right)\n",
    "\\end{array}\n",
    "\\end{equation}"
   ]
  },
  {
   "cell_type": "markdown",
   "id": "3aa7219e",
   "metadata": {},
   "source": [
    "$K_1(l) = 2 \\, l + 1$\n",
    "\n",
    "$K_2(l) = l^{2} + 3 \\, l + 2$\n",
    "\n",
    "$K_3(l) = l^{2} - l$"
   ]
  },
  {
   "cell_type": "code",
   "execution_count": 143,
   "id": "4bffd3f3",
   "metadata": {},
   "outputs": [],
   "source": [
    "def Kl1(l):\n",
    "    return (2*l + 1)\n",
    "def Kl2(l):\n",
    "    return (l^2 + 3*l + 2)\n",
    "def Kl3(l):\n",
    "    return (l^2 - l)"
   ]
  },
  {
   "cell_type": "code",
   "execution_count": null,
   "id": "fcbb8cdd",
   "metadata": {},
   "outputs": [],
   "source": []
  },
  {
   "cell_type": "code",
   "execution_count": 202,
   "id": "f839a630",
   "metadata": {},
   "outputs": [],
   "source": [
    "def ml(l, j_theta, theta_a):\n",
    "    # return j_theta(theta_m=theta_m) * Q_l(l, theta_m, theta_a)\n",
    "    return j_theta(theta_m=theta_m) * sin(theta_m) * legendre_sum_A_ring_sympy(l, theta_m, theta_a)\n",
    "\n",
    "def Ml(l, j_theta, theta_a):\n",
    "    return integrate(ml(l=l, j_theta=j_theta, theta_a=theta_a), theta_m, 0, pi, hold=False)"
   ]
  },
  {
   "cell_type": "code",
   "execution_count": 405,
   "id": "748443bb",
   "metadata": {},
   "outputs": [],
   "source": [
    "# инициализируем неизвестную функцию как\n",
    "\n",
    "#J_theta = lambda theta_m : cot(theta_m)\n",
    "#J_theta = lambda theta_m : cos(theta_m)/sin(theta_m)\n",
    "J_theta = lambda theta_m : cos(theta_m)\n",
    "# J_r = lambda r_m : 1 / r_m^(3/2)\n",
    "J_r = lambda r_m : 1 / r_m^(2)\n",
    "\n",
    "# J_r = lambda r_m : 1.1 / r_m^(3/2) + 0.15 / r_m^2\n",
    "\n",
    "# J_r = lambda r_m : exp(-r_m^(2))"
   ]
  },
  {
   "cell_type": "code",
   "execution_count": 406,
   "id": "59f9b085",
   "metadata": {},
   "outputs": [
    {
     "data": {
      "image/png": "[encoded data removed]",
      "text/plain": [
       "Graphics object consisting of 1 graphics primitive"
      ]
     },
     "metadata": {},
     "output_type": "display_data"
    }
   ],
   "source": [
    "plot(cot(theta_a), theta_a, 0.05, pi-0.05).show(title=\"cot_theta_a\")"
   ]
  },
  {
   "cell_type": "code",
   "execution_count": 456,
   "id": "293cd2fc",
   "metadata": {},
   "outputs": [],
   "source": [
    "LL = 36"
   ]
  },
  {
   "cell_type": "code",
   "execution_count": 457,
   "id": "0135e175",
   "metadata": {},
   "outputs": [],
   "source": [
    "# Интеграл Ml очень хорошо берётся \n",
    "sum_of_L_denominator = 0\n",
    "for ll in range(0,LL):\n",
    "    #print(ll, \"   :\", J_theta (theta_m) * sin(theta_m) * legendre_sum_A_ring_sympy(ll, theta_m, theta_a))\n",
    "    #print(ll, \" ml:\", ml(l=ll, j_theta=J_theta(theta_m), theta_a=theta_a))\n",
    "    Mll = Ml(l=ll, j_theta=J_theta(theta_m), theta_a=theta_a)\n",
    "    #print(ll, \" Ml:\", Mll)\n",
    "    #plot(Mll, theta_a, 0, pi).show()\n",
    "    sum_of_L_denominator += (2*ll+1)*Mll\n",
    "    #print(ll, \" sum_of_L_denominator:\")\n",
    "    #plot(sum_of_L_denominator, theta_a, 0, pi).show(title=\"sum_of_L_denominator\")"
   ]
  },
  {
   "cell_type": "code",
   "execution_count": 458,
   "id": "6f28ea68",
   "metadata": {},
   "outputs": [
    {
     "data": {
      "image/png": "[encoded data removed]",
      "text/plain": [
       "Graphics object consisting of 1 graphics primitive"
      ]
     },
     "metadata": {},
     "output_type": "display_data"
    },
    {
     "data": {
      "image/png": "[encoded data removed]",
      "text/plain": [
       "Graphics object consisting of 1 graphics primitive"
      ]
     },
     "metadata": {},
     "output_type": "display_data"
    }
   ],
   "source": [
    "cot_theta_a_per_sum_of_L_denominator = 2*cot(theta_a)/sum_of_L_denominator\n",
    "    \n",
    "plot(sum_of_L_denominator, theta_a, 0, pi).show(title=\"sum_of_L_denominator\")\n",
    "plot(cot_theta_a_per_sum_of_L_denominator, theta_a, 0.05, pi-0.05).show(title=\"cot_theta_a_per_sum_of_L_denominator\")"
   ]
  },
  {
   "cell_type": "code",
   "execution_count": 459,
   "id": "9287d644",
   "metadata": {},
   "outputs": [
    {
     "data": {
      "image/png": "[encoded data removed]",
      "text/plain": [
       "Graphics object consisting of 1 graphics primitive"
      ]
     },
     "metadata": {},
     "output_type": "display_data"
    }
   ],
   "source": [
    "plot(cot_theta_a_per_sum_of_L_denominator, theta_a, 0.5, pi-0.5).show(\n",
    "    title=\"cot_theta_a_per_sum_of_L_denominator\")"
   ]
  },
  {
   "cell_type": "markdown",
   "id": "9e79bd72",
   "metadata": {},
   "source": [
    "$$R_2\\left(l, r_a\\right)=\\int\\limits_{0}^{r_{a}} \\,j_r(r_m) { \\left(\\frac{r_m}{r_a}\\right)^{l+1}}\\,\n",
    "\\,{d r_{m}}$$\n",
    "\n",
    "$$R_3\\left(l, r_a\\right)=\\int\\limits_{r_{a}}^{+\\infty} j_r(r_m) {\\left(\\frac{r_a}{r_m}\\right)^l}\\,\n",
    "\\,{d r_{m}}$$\n"
   ]
  },
  {
   "cell_type": "raw",
   "id": "51caf6d8",
   "metadata": {},
   "source": [
    "# Интеграл R2\n",
    "sum_of_R2 = 0\n",
    "for ll in range(0,3):\n",
    "    print(ll, \"         :\", J_r (r_m) * (r_m / r_a)^(ll+1) )\n",
    "    print(ll, \"int      :\", integrate(J_r (r_m) * (r_m / r_a)^(ll+1), r_m) )\n",
    "    int_R2 = integrate(J_r (r_m) * (r_m / r_a)^(ll+1), r_m, 0, r_a)\n",
    "    print(ll, \"int 0 ra :\", int_R2)\n",
    "    print(ll, \"int 0 ra :\", Kl2(ll) * int_R2 )\n",
    "    sum_of_R2 += Kl2(ll) * int_R2\n",
    "    print(\"sum_of_R2 :\", sum_of_R2)\n",
    "    print(\"sum_of_R2 :\", sum_of_R2 * sqrt(r_a))\n",
    "    #print(\"sum_of_R2 :\", (sum_of_R2 * sqrt(r_a)).n())\n",
    "    print(\"\")"
   ]
  },
  {
   "cell_type": "raw",
   "id": "255a7e39",
   "metadata": {},
   "source": [
    "# Интеграл R3\n",
    "sum_of_R3 = 0\n",
    "for ll in range(0,3):\n",
    "    print(ll, \"         :\", J_r (r_m) * (r_a / r_m)^(ll) )\n",
    "    print(ll, \"int      :\", integrate(J_r (r_m) * (r_a / r_m)^(ll), r_m) )\n",
    "    int_R3 = integrate(J_r (r_m) * (r_a / r_m)^(ll), r_m, r_a, Infinity)\n",
    "    print(ll, \"int 0 ra :\", int_R3)\n",
    "    print(ll, \"int 0 ra :\", Kl3(ll) * int_R3 )\n",
    "    sum_of_R3 += Kl3(ll) * int_R3\n",
    "    print(\"sum_of_R3 :\", sum_of_R3)\n",
    "    print(\"sum_of_R3 :\", sum_of_R3 * sqrt(r_a))\n",
    "    #print(\"sum_of_R3 :\", (sum_of_R3 * sqrt(r_a)).n())\n",
    "    print(\"\")"
   ]
  },
  {
   "cell_type": "code",
   "execution_count": 460,
   "id": "e6c9a797",
   "metadata": {},
   "outputs": [],
   "source": [
    "# Интеграл R2\n",
    "# Интеграл R3\n",
    "sum_of_R = 0\n",
    "\n",
    "for ll in range(0,LL):\n",
    "    Mll = Ml(l=ll, j_theta=J_theta(theta_m), theta_a=theta_a)\n",
    "    if 0 == Mll:\n",
    "        continue\n",
    "    int_R2 = integrate(J_r (r_m) * (r_m / r_a)^(ll+1), r_m, 0, r_a)\n",
    "    int_R3 = integrate(J_r (r_m) * (r_a / r_m)^(ll), r_m, r_a, Infinity)\n",
    "    #print(Mll, \"|*|\", int_R2, \"|||\", int_R3)\n",
    "    sum_of_R23 = Kl2(ll) * int_R2 + Kl3(ll) * int_R3\n",
    "    sum_of_R23_Ml = sum_of_R23 * Mll\n",
    "    #print(\"sum_of_R23_Ml :\", sum_of_R23_Ml)\n",
    "    sum_of_R += sum_of_R23_Ml"
   ]
  },
  {
   "cell_type": "code",
   "execution_count": 461,
   "id": "b972e3d8",
   "metadata": {},
   "outputs": [
    {
     "data": {
      "text/latex": [
       "$\\displaystyle \\frac{170751679400963925 \\, \\sqrt{69} \\pi^{2} {\\left(203236010537432691 \\, \\sqrt{69} \\cos\\left(\\theta_{a}\\right) \\sin\\left(\\theta_{a}\\right)^{32} - 1650155070632289312 \\, \\sqrt{69} \\cos\\left(\\theta_{a}\\right) \\sin\\left(\\theta_{a}\\right)^{30} + 6092880260796145152 \\, \\sqrt{69} \\cos\\left(\\theta_{a}\\right) \\sin\\left(\\theta_{a}\\right)^{28} - 13539733912880322560 \\, \\sqrt{69} \\cos\\left(\\theta_{a}\\right) \\sin\\left(\\theta_{a}\\right)^{26} + 20198619443805071360 \\, \\sqrt{69} \\cos\\left(\\theta_{a}\\right) \\sin\\left(\\theta_{a}\\right)^{24} - 21362607682939600896 \\, \\sqrt{69} \\cos\\left(\\theta_{a}\\right) \\sin\\left(\\theta_{a}\\right)^{22} + 16490434000865656832 \\, \\sqrt{69} \\cos\\left(\\theta_{a}\\right) \\sin\\left(\\theta_{a}\\right)^{20} - 9423105143351803904 \\, \\sqrt{69} \\cos\\left(\\theta_{a}\\right) \\sin\\left(\\theta_{a}\\right)^{18} + 4000374825007841280 \\, \\sqrt{69} \\cos\\left(\\theta_{a}\\right) \\sin\\left(\\theta_{a}\\right)^{16} - 1255019552943636480 \\, \\sqrt{69} \\cos\\left(\\theta_{a}\\right) \\sin\\left(\\theta_{a}\\right)^{14} + 286861612101402624 \\, \\sqrt{69} \\cos\\left(\\theta_{a}\\right) \\sin\\left(\\theta_{a}\\right)^{12} - 46608076240846848 \\, \\sqrt{69} \\cos\\left(\\theta_{a}\\right) \\sin\\left(\\theta_{a}\\right)^{10} + 5178675137871872 \\, \\sqrt{69} \\cos\\left(\\theta_{a}\\right) \\sin\\left(\\theta_{a}\\right)^{8} - 370567093944320 \\, \\sqrt{69} \\cos\\left(\\theta_{a}\\right) \\sin\\left(\\theta_{a}\\right)^{6} + 15494094520320 \\, \\sqrt{69} \\cos\\left(\\theta_{a}\\right) \\sin\\left(\\theta_{a}\\right)^{4} - 317827579904 \\, \\sqrt{69} \\cos\\left(\\theta_{a}\\right) \\sin\\left(\\theta_{a}\\right)^{2} + 2147483648 \\, \\sqrt{69} \\cos\\left(\\theta_{a}\\right)\\right)} \\sin\\left(\\theta_{a}\\right)}{19807040628566084398385987584 \\, r_{a}}$"
      ],
      "text/plain": [
       "<IPython.core.display.Math object>"
      ]
     },
     "metadata": {},
     "output_type": "display_data"
    }
   ],
   "source": [
    "disp(sum_of_R23_Ml)"
   ]
  },
  {
   "cell_type": "code",
   "execution_count": 462,
   "id": "51964953",
   "metadata": {},
   "outputs": [
    {
     "data": {
      "image/png": "[encoded data removed]",
      "text/plain": [
       "Graphics object consisting of 1 graphics primitive"
      ]
     },
     "execution_count": 462,
     "metadata": {},
     "output_type": "execute_result"
    }
   ],
   "source": [
    "contour_plot(\n",
    "    sum_of_R23_Ml\n",
    "        , (theta_a,0,pi), (r_a,0.2,1), fill=False, cmap='hsv', labels=True)"
   ]
  },
  {
   "cell_type": "code",
   "execution_count": 463,
   "id": "935c6fa2",
   "metadata": {},
   "outputs": [
    {
     "data": {
      "image/png": "[encoded data removed]",
      "text/plain": [
       "Graphics object consisting of 1 graphics primitive"
      ]
     },
     "metadata": {},
     "output_type": "display_data"
    }
   ],
   "source": [
    "sum_of_R_r_a = (sum_of_R * r_a).full_simplify()\n",
    "#print(\"sum_of_R :\", sum_of_R_sqrt_r_a)\n",
    "plot(sum_of_R_r_a, theta_a, 0, pi).show(title=\"sum_of_R * r_a\")\n",
    "#print(\"sum_of_R3 :\", (sum_of_R3 * sqrt(r_a)).n())\n",
    "#print(\"\")"
   ]
  },
  {
   "cell_type": "code",
   "execution_count": 464,
   "id": "97ea3a8d",
   "metadata": {},
   "outputs": [],
   "source": [
    "sum_of_R_r_a_per_sum_of_L_denominator = sum_of_R_r_a/sum_of_L_denominator"
   ]
  },
  {
   "cell_type": "code",
   "execution_count": 465,
   "id": "cbe7adb3",
   "metadata": {},
   "outputs": [],
   "source": [
    "sum_of_R_per_sum_of_L_denominator = sum_of_R/sum_of_L_denominator"
   ]
  },
  {
   "cell_type": "code",
   "execution_count": 468,
   "id": "9f1f6505",
   "metadata": {},
   "outputs": [
    {
     "data": {
      "image/png": "[encoded data removed]",
      "text/plain": [
       "Graphics object consisting of 1 graphics primitive"
      ]
     },
     "metadata": {},
     "output_type": "display_data"
    }
   ],
   "source": [
    "plot(sum_of_R_r_a_per_sum_of_L_denominator, theta_a, 0, pi).show(\n",
    "    title=\"sum_of_R_r_a_per_sum_of_L_denominator\")"
   ]
  },
  {
   "cell_type": "code",
   "execution_count": 473,
   "id": "bb6dc52d",
   "metadata": {},
   "outputs": [
    {
     "data": {
      "image/png": "[encoded data removed]",
      "text/plain": [
       "Graphics object consisting of 1 graphics primitive"
      ]
     },
     "metadata": {},
     "output_type": "display_data"
    }
   ],
   "source": [
    "plot(cot_theta_a_per_sum_of_L_denominator+sum_of_R_r_a_per_sum_of_L_denominator, theta_a, 0.35, pi-0.35).show(\n",
    "    title=\"cot_theta_a_per_sum_of_L_denominator+sum_of_R_r_a_per_sum_of_L_denominator\")"
   ]
  },
  {
   "cell_type": "code",
   "execution_count": 451,
   "id": "ce4e9264",
   "metadata": {},
   "outputs": [
    {
     "data": {
      "image/png": "[encoded data removed]",
      "text/plain": [
       "Graphics object consisting of 1 graphics primitive"
      ]
     },
     "execution_count": 451,
     "metadata": {},
     "output_type": "execute_result"
    }
   ],
   "source": [
    "contour_plot(\n",
    "    sum_of_R_per_sum_of_L_denominator\n",
    "        , (theta_a,0.05,pi-0.05), (r_a,0.1,1), fill=False, cmap='hsv', labels=True)"
   ]
  },
  {
   "cell_type": "markdown",
   "id": "d9995e85",
   "metadata": {},
   "source": [
    "Инициализировав\n",
    "\n",
    "$J_{\\theta} = cos(\\theta_m)$\n",
    "\n",
    "$J_r = \\frac{1}{r_m^{3/2}}$\n",
    "\n",
    "После первой итерации получено приблизительно (если отбросить уход на бесконечность в районе полюсов)\n",
    "\n",
    "\\begin{equation}\n",
    "\\begin{array}{l}\n",
    "j_r(r_a) = \\frac{1.04 ... 1.16}{r_{a}^{3/2}}  +  \\frac{0.15 ... 0.30}{r_{a}^2}\n",
    "\\end{array}\n",
    "\\end{equation}"
   ]
  },
  {
   "cell_type": "markdown",
   "id": "b91e86e9",
   "metadata": {},
   "source": [
    "Инициализировав\n",
    "\n",
    "$J_{\\theta} = cos(\\theta_m)$\n",
    "\n",
    "$J_r = \\frac{1}{r_m^{2}}$\n",
    "\n",
    "После первой итерации получено приблизительно (если отбросить уход на бесконечность в районе полюсов)\n",
    "\n",
    "\\begin{equation}\n",
    "\\begin{array}{l}\n",
    "j_r(r_a) = \\frac{1.05 ... 1.4}{r_{a}^{2}}  +  \\frac{0.15 ... 0.30}{r_{a}^2} \\approx \\frac{1.58}{r_{a}^2}\n",
    "\\end{array}\n",
    "\\end{equation}"
   ]
  },
  {
   "cell_type": "code",
   "execution_count": 304,
   "id": "d54329e9",
   "metadata": {},
   "outputs": [
    {
     "data": {
      "image/png": "[encoded data removed]",
      "text/plain": [
       "Graphics object consisting of 2 graphics primitives"
      ]
     },
     "execution_count": 304,
     "metadata": {},
     "output_type": "execute_result"
    }
   ],
   "source": [
    "plot([cot(x), cos(x)], x, 0.5, pi-0.5)"
   ]
  },
  {
   "cell_type": "code",
   "execution_count": null,
   "id": "d59dec6f",
   "metadata": {},
   "outputs": [],
   "source": []
  }
 ],
 "metadata": {
  "kernelspec": {
   "display_name": "SageMath 9.6.beta7",
   "language": "sage",
   "name": "sagemath"
  },
  "language_info": {
   "codemirror_mode": {
    "name": "ipython",
    "version": 3
   },
   "file_extension": ".py",
   "mimetype": "text/x-python",
   "name": "python",
   "nbconvert_exporter": "python",
   "pygments_lexer": "ipython3",
   "version": "3.10.3"
  }
 },
 "nbformat": 4,
 "nbformat_minor": 5
}
