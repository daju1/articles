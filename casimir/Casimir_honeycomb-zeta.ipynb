{
 "cells": [
  {
   "cell_type": "markdown",
   "metadata": {},
   "source": [
    "https://www.dwc.knaw.nl/DL/publications/PU00018547.pdf\n",
    "\n",
    "Mathematics.\n",
    "\n",
    "# On the force to perfectly conducting honeycomb on a plate.\n",
    "\n",
    "By A. Ju. Drozdov\n",
    "\n",
    "(Feb 14. 2021. - Feb 09. 2022) "
   ]
  },
  {
   "cell_type": "markdown",
   "metadata": {},
   "source": [
    "Let us consider a cubic cavity of volume $L^3$ bounded by perfectly conducting walls and let a perfectly conducting square plate with side $L$ be\n",
    "placed in this cavity parallel to the $xy$ face and let us compare the\n",
    "situation in whieh this plate is at a very large, say $L/2$ distance a from the $xy$ face. \n",
    "\n",
    "One side of this perfectly conducting square plate is a pure plane and other is covered by perfectly conducting honeycomb.\n",
    "\n",
    "On both sided of the the plate\n",
    "expressions $\\frac{1}{2}\\sum\\,\\hbar\\omega$ where the summation extends over all possible\n",
    "resonance frequencies of the cavity $L/2\\times L\\times L$ (large cavity beetween pure plane and $xy$ face) and the cavity $L/2\\times a\\times a$ (small cavity, one honeycomb) are divergent and devoid of physical\n",
    "meaning but the difference between these sums on the opposite sides,\n",
    "$\\frac{1}{2\\,V_{I}}\\left(\\sum\\,\\,\\hbar\\omega\\right)_{I} - \\frac{1}{2\\,V_{II}}\\left(\\sum\\,\\,\\hbar\\omega\\right)_{II}$, will be shown to have a weIl defined value and this\n",
    "value will be interpreted as the interaction between the plate and the both\n",
    "$xy$ faces."
   ]
  },
  {
   "cell_type": "markdown",
   "metadata": {},
   "source": [
    "The possible vibrations of the cavities defined by "
   ]
  },
  {
   "cell_type": "markdown",
   "metadata": {},
   "source": [
    "$0<=x<=L$, $0<=y<=L$, $0<=z<=L/2$ (large cavity beetween pure plane and $xy$ face)"
   ]
  },
  {
   "cell_type": "markdown",
   "metadata": {},
   "source": [
    "and"
   ]
  },
  {
   "cell_type": "markdown",
   "metadata": {},
   "source": [
    "$0<=x<=a$, $0<=y<=a$, $0<=z<=L/2$ (small cavity, one honeycomb)"
   ]
  },
  {
   "cell_type": "markdown",
   "metadata": {},
   "source": [
    "have wave numbers "
   ]
  },
  {
   "cell_type": "markdown",
   "metadata": {},
   "source": [
    "$k_x = \\frac{\\pi}{L}\\,n_x$, $k_y = \\frac{\\pi}{L}\\,n_y$, $k_z = \\frac{\\pi}{L/2}\\,n_z$ (large cavity beetween pure plane and $xy$ face),"
   ]
  },
  {
   "cell_type": "markdown",
   "metadata": {},
   "source": [
    "and"
   ]
  },
  {
   "cell_type": "markdown",
   "metadata": {},
   "source": [
    "$k_x = \\frac{\\pi}{a}\\,n_x$, $k_y = \\frac{\\pi}{a}\\,n_y$, $k_z = \\frac{\\pi}{L/2}\\,n_z$ (small cavity, one honeycomb),\n",
    "\n",
    "where $n_x$. $n_y$, $n_z$:\n",
    "\n",
    "are positive integers;"
   ]
  },
  {
   "cell_type": "markdown",
   "metadata": {},
   "source": [
    "$k = \\sqrt{k_x^2+k_y^2+k_z^2} = \\sqrt{\\kappa^2+k_z^2}$. "
   ]
  },
  {
   "cell_type": "markdown",
   "metadata": {},
   "source": [
    "$E = \\frac{1}{2}\\sum\\,\\hbar\\omega = \\hbar\\,c\\frac{1}{2}\\sum\\limits_{n_x}^{}\\sum\\limits_{n_y}^{}\\sum\\limits_{n_z}^{}k$"
   ]
  },
  {
   "cell_type": "markdown",
   "metadata": {},
   "source": [
    "To every $k_x$, $k_y$, $k_z$ correspond two standing waves unless one of the $n_i$\n",
    "is zero, when there is only one."
   ]
  },
  {
   "cell_type": "markdown",
   "metadata": {},
   "source": [
    "In case of one honeycomb cavity for $k_z$ this is without importance since\n",
    "for very large $L/2$ we may regard $k_z$ as continuous variable. Thus we\n",
    "find "
   ]
  },
  {
   "cell_type": "markdown",
   "metadata": {},
   "source": [
    "$\\frac{1}{2}\\sum\\,\\hbar\\omega = \\hbar\\,c\\frac{1}{2}\\int\\limits_{0}^{\\infty}\\left[{\\sqrt{k_z^2}+2\\sum\\limits_{n_x=1}^{\\infty}\\sum\\limits_{n_y=1}^{\\infty}\\sqrt{n_x^2\\frac{\\pi^2}{a^2}+n_y^2\\frac{\\pi^2}{a^2}+k_z^2}}\\right]d{n_z}$  (small cavity, one honeycomb),"
   ]
  },
  {
   "cell_type": "markdown",
   "metadata": {},
   "source": [
    "$dn_z = \\frac{L/2}{\\pi}\\,dk_z$,"
   ]
  },
  {
   "cell_type": "markdown",
   "metadata": {},
   "source": [
    "$\\frac{1}{2\\,V}\\sum\\,\\hbar\\omega = \\frac{1}{a^2\\,L/2}\\hbar\\,c\\frac{1}{2}\\int\\limits_{0}^{\\infty}\\left[{\\sqrt{k_z^2}+2\\sum\\limits_{n_x=1}^{\\infty}\\sum\\limits_{n_y=1}^{\\infty}\\sqrt{n_x^2\\frac{\\pi^2}{a^2}+n_y^2\\frac{\\pi^2}{a^2}+k_z^2}}\\right]\\frac{L/2}{\\pi}\\,dk_z$  (small cavity, one honeycomb),"
   ]
  },
  {
   "cell_type": "markdown",
   "metadata": {},
   "source": [
    "$\\frac{1}{2\\,V}\\sum\\,\\hbar\\omega = \\frac{1}{a^2\\,\\pi}\\hbar\\,c\\int\\limits_{0}^{\\infty}\\left[{\\frac{1}{2}\\sqrt{k_z^2}+\\sum\\limits_{n_x=1}^{\\infty}\\sum\\limits_{n_y=1}^{\\infty}\\sqrt{n_x^2\\frac{\\pi^2}{a^2}+n_y^2\\frac{\\pi^2}{a^2}+k_z^2}}\\right]\\,dk_z$  (small cavity, one honeycomb),"
   ]
  },
  {
   "cell_type": "markdown",
   "metadata": {},
   "source": [
    "$\\frac{1}{2\\,V}\\sum\\,\\hbar\\omega = \\frac{1}{a^2\\,\\pi}\\hbar\\,c\\int\\limits_{0}^{\\infty}\\left[{\\sum\\limits_{n_x=(0)1}^{\\infty}\\sum\\limits_{n_y=(0)1}^{\\infty}\\sqrt{n_x^2\\frac{\\pi^2}{a^2}+n_y^2\\frac{\\pi^2}{a^2}+k_z^2}}\\right]\\,dk_z$  (small cavity, one honeycomb),"
   ]
  },
  {
   "cell_type": "markdown",
   "metadata": {},
   "source": [
    "where the notation $\\left(0\\right) 1$ is meant to indicate that the term with $n_x = 0$ and $n_y = 0$\n",
    "has to be multiplied by $\\frac{1}{2}$. "
   ]
  },
  {
   "cell_type": "markdown",
   "metadata": {},
   "source": [
    "$\\frac{1}{2\\,V}\\sum\\,\\hbar\\omega = \\frac{1}{a^2\\,\\pi}\\hbar\\,c\\sum\\limits_{n_x=(0)1}^{\\infty}\\sum\\limits_{n_y=(0)1}^{\\infty}\\left[\\int\\limits_{0}^{\\infty}\\sqrt{n_x^2\\frac{\\pi^2}{a^2}+n_y^2\\frac{\\pi^2}{a^2}+k_z^2}\\,dk_z\\right]$  (small cavity, one honeycomb),"
   ]
  },
  {
   "cell_type": "code",
   "execution_count": null,
   "metadata": {},
   "outputs": [],
   "source": []
  },
  {
   "cell_type": "markdown",
   "metadata": {},
   "source": [
    "And in case of large cavity for $k_x$, $k_y$ this is without importance since\n",
    "for very large $L$ we may regard $k_x$, $k_y$ as continuous variables. Thus we\n",
    "find "
   ]
  },
  {
   "cell_type": "markdown",
   "metadata": {},
   "source": [
    "$\\frac{1}{2}\\sum\\,\\hbar\\omega = \\hbar\\,c\\frac{1}{2}\\int\\limits_{0}^{\\infty}\\int\\limits_{0}^{\\infty}\\left[{\\sqrt{k_x^2+k_y^2}+2\\sum\\limits_{n_z=1}^{\\infty}\\sqrt{n_z^2\\frac{\\pi^2}{(L/2)^2}+k_x^2+k_y^2}}\\right]d{n_x}d{n_y}$ (large cavity beetween pure plane and $xy$ face),"
   ]
  },
  {
   "cell_type": "markdown",
   "metadata": {},
   "source": [
    "For very large $L/2$ also this last summation may\n",
    "be replaced by an integral and it is therefore easily seen that our interaction energy is given by "
   ]
  },
  {
   "cell_type": "markdown",
   "metadata": {},
   "source": [
    "$\\frac{1}{2}\\sum\\,\\hbar\\omega = \\hbar\\,c\\int\\limits_{0}^{\\infty}\\int\\limits_{0}^{\\infty}\\int\\limits_{0}^{\\infty}\\sqrt{k_z^2+k_x^2+k_y^2}\\,d{n_x}\\,d{n_y}\\,d{n_z}$ (large cavity beetween pure plane and $xy$ face),"
   ]
  },
  {
   "cell_type": "markdown",
   "metadata": {},
   "source": [
    "$dn_x = \\frac{L}{\\pi}\\,dk_x$, $dn_y = \\frac{L}{\\pi}\\,dk_y$, $dn_z = \\frac{L/2}{\\pi}\\,dk_z$,"
   ]
  },
  {
   "cell_type": "markdown",
   "metadata": {},
   "source": [
    "$\\frac{1}{2\\,V}\\sum\\,\\hbar\\omega = \\frac{1}{L^3/2}\\hbar\\,c\\int\\limits_{0}^{\\infty}\\int\\limits_{0}^{\\infty}\\int\\limits_{0}^{\\infty}\\sqrt{k_z^2+k_x^2+k_y^2}\\,dn_x\\,dn_y\\,\\frac{L/2}{\\pi}\\,dk_z$ (large cavity beetween pure plane and $xy$ face),"
   ]
  },
  {
   "cell_type": "markdown",
   "metadata": {},
   "source": [
    "$\\frac{1}{2\\,V}\\sum\\,\\hbar\\omega = \\frac{1}{L^2\\,\\pi}\\hbar\\,c\\int\\limits_{0}^{\\infty}\\int\\limits_{0}^{\\infty}\\left[\\,\\int\\limits_{0}^{\\infty}\\sqrt{k_z^2+k_x^2+k_y^2}\\,dk_z\\right]\\,dn_x\\,dn_y$ (large cavity beetween pure plane and $xy$ face),"
   ]
  },
  {
   "cell_type": "code",
   "execution_count": null,
   "metadata": {},
   "outputs": [],
   "source": []
  },
  {
   "cell_type": "markdown",
   "metadata": {},
   "source": [
    "$\\frac{1}{2\\,V}\\sum\\,\\hbar\\omega = \\frac{1}{a^2\\,\\pi}\\hbar\\,c\\sum\\limits_{n_x=(0)1}^{\\infty}\\sum\\limits_{n_y=(0)1}^{\\infty}\\left[\\,\\int\\limits_{0}^{\\infty}\\sqrt{n_x^2\\frac{\\pi^2}{a^2}+n_y^2\\frac{\\pi^2}{a^2}+k_z^2}\\,dk_z\\right]$  (small cavity, one honeycomb),"
   ]
  },
  {
   "cell_type": "markdown",
   "metadata": {},
   "source": [
    "$\\frac{1}{2\\,V}\\sum\\,\\hbar\\omega = \\frac{1}{L^2\\,\\pi}\\hbar\\,c\\int\\limits_{0}^{\\infty}\\int\\limits_{0}^{\\infty}\\left[\\,\\int\\limits_{0}^{\\infty}\\sqrt{k_x^2+k_y^2+k_z^2}\\,dk_z\\right]\\,dn_x\\,dn_y$ (large cavity beetween pure plane and $xy$ face),"
   ]
  },
  {
   "cell_type": "markdown",
   "metadata": {},
   "source": [
    "$\\frac{1}{2\\,V}\\sum\\,\\hbar\\omega = \\frac{1}{L^2\\,\\pi}\\hbar\\,c\\int\\limits_{0}^{\\infty}\\int\\limits_{0}^{\\infty}\\left[\\,\\int\\limits_{0}^{\\infty}\\sqrt{k_x^2+k_y^2+k_z^2}\\,dk_z\\right]\\,\\left(\\frac{L}{\\pi}dk_x\\right)\\,\\left(\\frac{L}{\\pi}dk_y\\right)$ (large cavity beetween pure plane and $xy$ face),"
   ]
  },
  {
   "cell_type": "markdown",
   "metadata": {},
   "source": [
    "$\\frac{a^2}{2\\,V}\\sum\\,\\hbar\\omega = \\frac{1}{\\pi}\\hbar\\,c\\int\\limits_{0}^{\\infty}\\int\\limits_{0}^{\\infty}\\left[\\,\\int\\limits_{0}^{\\infty}\\sqrt{k_x^2+k_y^2+k_z^2}\\,dk_z\\right]\\,\\left(\\frac{a}{\\pi}dk_x\\right)\\,\\left(\\frac{a}{\\pi}dk_y\\right)$ (large cavity beetween pure plane and $xy$ face),"
   ]
  },
  {
   "cell_type": "markdown",
   "metadata": {},
   "source": [
    "$\\frac{1}{2\\,V}\\sum\\,\\hbar\\omega = \\frac{1}{a^2\\,\\pi}\\hbar\\,c\\int\\limits_{0}^{\\infty}\\int\\limits_{0}^{\\infty}\\left[\\,\\int\\limits_{0}^{\\infty}\\sqrt{k_x^2+k_y^2+k_z^2}\\,dk_z\\right]\\,\\left(\\frac{a}{\\pi}dk_x\\right)\\,\\left(\\frac{a}{\\pi}dk_y\\right)$ (large cavity beetween pure plane and $xy$ face),"
   ]
  },
  {
   "cell_type": "markdown",
   "metadata": {},
   "source": [
    "it is therefore easily seen that our interaction energy is given by "
   ]
  },
  {
   "cell_type": "markdown",
   "metadata": {},
   "source": [
    "$\\delta\\,\\frac{E}{V} = \\frac{1}{a^2\\,\\pi}\\hbar\\,c\\left\\{\\sum\\limits_{n_x=(0)1}^{\\infty}\\sum\\limits_{n_y=(0)1}^{\\infty}\\left[\\,\\int\\limits_{0}^{\\infty}\\sqrt{n_x^2\\frac{\\pi^2}{a^2}+n_y^2\\frac{\\pi^2}{a^2}+k_z^2}\\,dk_z\\right] - \\int\\limits_{0}^{\\infty}\\int\\limits_{0}^{\\infty}\\left[\\,\\int\\limits_{0}^{\\infty}\\sqrt{k_x^2+k_y^2+k_z^2}\\,dk_z\\right]\\,\\left(\\frac{a}{\\pi}dk_x\\right)\\,\\left(\\frac{a}{\\pi}dk_y\\right)\\right\\}$"
   ]
  },
  {
   "cell_type": "markdown",
   "metadata": {},
   "source": [
    "$\\delta\\,\\frac{E}{V} = \\frac{1}{a^2\\,\\pi}\\hbar\\,c\\left\\{\\sum\\limits_{n_x=(0)1}^{\\infty}\\sum\\limits_{n_y=(0)1}^{\\infty}\\left[\\,\\int\\limits_{0}^{\\infty}\\sqrt{n_x^2\\frac{\\pi^2}{a^2}+n_y^2\\frac{\\pi^2}{a^2}+k_z^2}\\,dk_z\\right] - \\int\\limits_{0}^{\\infty}\\int\\limits_{0}^{\\infty}\\left[\\,\\int\\limits_{0}^{\\infty}\\sqrt{k_x^2+k_y^2+k_z^2}\\,dk_z\\right]\\,dn_x\\,dn_y\\right\\}$"
   ]
  },
  {
   "cell_type": "code",
   "execution_count": null,
   "metadata": {},
   "outputs": [],
   "source": []
  },
  {
   "cell_type": "markdown",
   "metadata": {},
   "source": [
    "${\\left(\\frac{E}{V}\\right)_{small\\,cavity} = \\frac{1}{a^2}\\hbar \\, \\sum\\limits_{n_x=(0)1}^{\\infty}\\sum\\limits_{n_y=(0)1}^{\\infty}\\,\\int\\limits_{0}^{\\infty} {\\frac {dk_{z}}{\\pi}}\\omega _{n_x,n_y}.}$"
   ]
  },
  {
   "cell_type": "markdown",
   "metadata": {},
   "source": [
    "where $\\omega _{n_x,n_y} = c\\,\\sqrt{n_x^2\\frac{\\pi^2}{a^2}+n_y^2\\frac{\\pi^2}{a^2}+k_z^2}$"
   ]
  },
  {
   "cell_type": "markdown",
   "metadata": {},
   "source": [
    "This expression is clearly infinite, and to proceed with the calculation, it is convenient to introduce a regulator."
   ]
  },
  {
   "cell_type": "markdown",
   "metadata": {},
   "source": [
    "In order to obtain a finite result it is necessary to multiply the integrands\n",
    "by a function $f(k/k_m)$ which is unity for $k << k_m$ but tends to zero sufficiently rapidly for $(k/k_m)\\, \\rightarrow\\,\\infty$. where km may be defined by $f(1) = \\frac{1}{2}$.\n",
    "The physical meaning is obvious: for very short waves (X~rays e.g.)\n",
    "our plate is hardly an obstacle at all and therefore the zero point energy\n",
    "of these waves will not be influenced by the position of this plate. "
   ]
  },
  {
   "cell_type": "markdown",
   "metadata": {},
   "source": [
    "The regulator will serve to make the expression finite, and in the end will be removed. The zeta-regulated version of the energy per unit-area of the plate is"
   ]
  },
  {
   "cell_type": "markdown",
   "metadata": {},
   "source": [
    "${\\left(\\frac{E}{V}\\right)_{small\\,cavity} = \\frac{1}{a^2}\\hbar \\, \\sum\\limits_{n_x=(0)1}^{\\infty}\\sum\\limits_{n_y=(0)1}^{\\infty}\\,\\int\\limits_{0}^{\\infty} {\\frac {dk_{z}}{\\pi}}\\omega _{n_x,n_y}\\vert \\omega _{n_x,n_y}\\vert ^{-s}.}$"
   ]
  },
  {
   "cell_type": "markdown",
   "metadata": {},
   "source": [
    "https://en.wikipedia.org/wiki/Casimir_effect#Derivation_of_Casimir_effect_assuming_zeta-regularization"
   ]
  },
  {
   "cell_type": "markdown",
   "metadata": {},
   "source": [
    "In the end, the limit ${\\displaystyle s\\to 0}$ is to be taken. Here s is just a complex number, not to be confused with the shape discussed previously. This integral/sum is finite for s real and larger than 3. The sum has a pole at $s=3$, but may be analytically continued to $s=0$, where the expression is finite. The above expression simplifies to:"
   ]
  },
  {
   "cell_type": "markdown",
   "metadata": {},
   "source": [
    "${\\left(\\frac{E}{V}\\right)_{small\\,cavity} = \\frac{\\hbar\\,c^{1-s}}{a^2} \\, \\sum\\limits_{n_x=(0)1}^{\\infty}\\sum\\limits_{n_y=(0)1}^{\\infty}\\,\\int\\limits_{0}^{\\infty} {\\frac {dk_{z}}{\\pi}}\\vert {n_x^2\\frac{\\pi^2}{a^2}+n_y^2\\frac{\\pi^2}{a^2}+k_z^2}\\vert ^{\\left(1-s\\right)/2}.}$"
   ]
  },
  {
   "cell_type": "markdown",
   "metadata": {},
   "source": [
    "The integral converges if $Re[s] > 3$, resulting in"
   ]
  },
  {
   "cell_type": "code",
   "execution_count": 47,
   "metadata": {},
   "outputs": [],
   "source": [
    "from IPython.display import display, Math, Latex"
   ]
  },
  {
   "cell_type": "code",
   "execution_count": 48,
   "metadata": {},
   "outputs": [],
   "source": [
    "c = var(\"c\")\n",
    "a = var(\"a\")\n",
    "L = var(\"L\")\n",
    "\n",
    "k_x = var(\"k_x\")\n",
    "k_y = var(\"k_y\")\n",
    "k_z = var(\"k_z\")\n",
    "\n",
    "n_x = var(\"n_x\")\n",
    "assume(n_x, \"real\")\n",
    "assume(n_x > 0)\n",
    "n_y = var(\"n_y\")\n",
    "assume(n_y, \"real\")\n",
    "assume(n_y > 0)\n",
    "n_z = var(\"n_z\")"
   ]
  },
  {
   "cell_type": "code",
   "execution_count": 49,
   "metadata": {},
   "outputs": [],
   "source": [
    "k_x = pi * n_x / a\n",
    "k_y = pi * n_y / a\n",
    "#k_z = pi * n_z / (L/2)\n",
    "k_z = var(\"k_z\")"
   ]
  },
  {
   "cell_type": "code",
   "execution_count": 50,
   "metadata": {},
   "outputs": [],
   "source": [
    "#kappa = sqrt(k_x^2+k_y^2)\n",
    "kappa = var(\"kappa\")"
   ]
  },
  {
   "cell_type": "code",
   "execution_count": 51,
   "metadata": {},
   "outputs": [
    {
     "data": {
      "text/latex": [
       "$\\displaystyle {\\left(k_{z}^{2} + \\kappa^{2}\\right)}^{-\\frac{1}{2} \\, s + \\frac{1}{2}}$"
      ],
      "text/plain": [
       "<IPython.core.display.Math object>"
      ]
     },
     "metadata": {},
     "output_type": "display_data"
    }
   ],
   "source": [
    "s = var(\"s\")\n",
    "#integrand_zeta_2d = (abs(kappa^2+k_z^2))^((1-s)/2)\n",
    "integrand_zeta_2d = ((kappa^2+k_z^2))^((1-s)/2)\n",
    "display(Math(latex(integrand_zeta_2d)))"
   ]
  },
  {
   "cell_type": "code",
   "execution_count": 52,
   "metadata": {},
   "outputs": [
    {
     "data": {
      "text/latex": [
       "$\\displaystyle E_{n} = \\int_{0}^{+\\infty} {\\left(k_{z}^{2} + \\kappa^{2}\\right)}^{-\\frac{1}{2} \\, s + \\frac{1}{2}}\\,{d k_{z}}$"
      ],
      "text/plain": [
       "<IPython.core.display.Math object>"
      ]
     },
     "metadata": {},
     "output_type": "display_data"
    },
    {
     "data": {
      "text/latex": [
       "$\\displaystyle E_{n} = \\frac{1}{2} \\, \\kappa^{-s + 2} \\operatorname{B}\\left(\\frac{1}{2}, \\frac{1}{2} \\, s - 1\\right)$"
      ],
      "text/plain": [
       "<IPython.core.display.Math object>"
      ]
     },
     "metadata": {},
     "output_type": "display_data"
    }
   ],
   "source": [
    "E_n = var(\"E_n\")\n",
    "forget()\n",
    "assume(s>3)\n",
    "assume(kappa, \"real\")\n",
    "assume(kappa > 0)\n",
    "display(Math(latex(E_n == integrate(integrand_zeta_2d, k_z, 0, Infinity, hold=True))))\n",
    "display(Math(latex(E_n == integrate(integrand_zeta_2d, k_z, 0, Infinity))))"
   ]
  },
  {
   "cell_type": "code",
   "execution_count": 53,
   "metadata": {},
   "outputs": [
    {
     "data": {
      "text/plain": [
       "integrate((k_z^2 + kappa^2)^(-1/2*s + 1/2), k_z)"
      ]
     },
     "execution_count": 53,
     "metadata": {},
     "output_type": "execute_result"
    }
   ],
   "source": [
    "E_n = integrate(integrand_zeta_2d, k_z, algorithm=\"maxima\")\n",
    "E_n"
   ]
  },
  {
   "cell_type": "code",
   "execution_count": 54,
   "metadata": {},
   "outputs": [
    {
     "data": {
      "text/plain": [
       "integrate((k_z^2 + kappa^2)^(-1/2*s + 1/2), k_z)"
      ]
     },
     "execution_count": 54,
     "metadata": {},
     "output_type": "execute_result"
    }
   ],
   "source": [
    "E_n = integrate(integrand_zeta_2d, k_z, algorithm=\"giac\")\n",
    "E_n"
   ]
  },
  {
   "cell_type": "code",
   "execution_count": 55,
   "metadata": {},
   "outputs": [
    {
     "data": {
      "text/latex": [
       "$\\displaystyle \\frac{k_{z} \\kappa \\,_2F_1\\left(\\begin{matrix} \\frac{1}{2},\\frac{1}{2} \\, s - \\frac{1}{2} \\\\ \\frac{3}{2} \\end{matrix} ; -\\frac{k_{z}^{2}}{\\kappa^{2}} \\right)}{\\kappa^{s}}$"
      ],
      "text/plain": [
       "<IPython.core.display.Math object>"
      ]
     },
     "metadata": {},
     "output_type": "display_data"
    }
   ],
   "source": [
    "E_n1(k_z, kappa, s) = integrate(integrand_zeta_2d, k_z, algorithm=\"sympy\")\n",
    "display(Math(latex(E_n1(k_z, kappa, s))))"
   ]
  },
  {
   "cell_type": "code",
   "execution_count": 56,
   "metadata": {},
   "outputs": [
    {
     "data": {
      "text/plain": [
       "\\frac{k_{z} \\kappa \\,_2F_1\\left(\\begin{matrix} \\frac{1}{2},\\frac{1}{2} \\, s - \\frac{1}{2} \\\\ \\frac{3}{2} \\end{matrix} ; -\\frac{k_{z}^{2}}{\\kappa^{2}} \\right)}{\\kappa^{s}}"
      ]
     },
     "execution_count": 56,
     "metadata": {},
     "output_type": "execute_result"
    }
   ],
   "source": [
    "latex(E_n1(k_z, kappa, s))"
   ]
  },
  {
   "cell_type": "code",
   "execution_count": 57,
   "metadata": {},
   "outputs": [
    {
     "name": "stdout",
     "output_type": "stream",
     "text": [
      "k_z*kappa*hypergeometric((1/2, 1/2*s - 1/2), (3/2,), -k_z^2/kappa^2)/kappa^s\n"
     ]
    }
   ],
   "source": [
    "print(E_n1(k_z, kappa, s))"
   ]
  },
  {
   "cell_type": "code",
   "execution_count": 58,
   "metadata": {},
   "outputs": [
    {
     "data": {
      "text/latex": [
       "$\\displaystyle \\kappa^{-s + 1} \\lim_{k_{z} \\to +\\infty}\\, k_{z} \\,_2F_1\\left(\\begin{matrix} \\frac{1}{2},\\frac{1}{2} \\, s - \\frac{1}{2} \\\\ \\frac{3}{2} \\end{matrix} ; -\\frac{k_{z}^{2}}{\\kappa^{2}} \\right)$"
      ],
      "text/plain": [
       "<IPython.core.display.Math object>"
      ]
     },
     "metadata": {},
     "output_type": "display_data"
    }
   ],
   "source": [
    "display(Math(latex(limit(E_n1(k_z, kappa, s), k_z = Infinity))))"
   ]
  },
  {
   "cell_type": "code",
   "execution_count": 59,
   "metadata": {},
   "outputs": [
    {
     "data": {
      "text/plain": [
       "k_z*hypergeometric((1/2, 1/2*s - 1/2), (3/2,), -k_z^2/kappa^2)"
      ]
     },
     "execution_count": 59,
     "metadata": {},
     "output_type": "execute_result"
    }
   ],
   "source": [
    "E_n2(k_z, kappa, s) = k_z*hypergeometric((1/2, 1/2*s - 1/2), (3/2,), -k_z^2/kappa^2)\n",
    "E_n2(k_z, kappa, s)"
   ]
  },
  {
   "cell_type": "code",
   "execution_count": 60,
   "metadata": {},
   "outputs": [
    {
     "data": {
      "text/plain": [
       "hypergeometric((1/2, 1/2*s - 1/2), (3/2,), -k_z^2/kappa^2)"
      ]
     },
     "execution_count": 60,
     "metadata": {},
     "output_type": "execute_result"
    }
   ],
   "source": [
    "E_n3(k_z, kappa, s) = hypergeometric((1/2, 1/2*s - 1/2), (3/2,), -k_z^2/kappa^2)\n",
    "E_n3(k_z, kappa, s)"
   ]
  },
  {
   "cell_type": "code",
   "execution_count": 61,
   "metadata": {},
   "outputs": [
    {
     "data": {
      "text/plain": [
       "k_z*hypergeometric((1/2, 1/2*s - 1/2), (3/2,), -k_z^2/kappa^2)/kappa"
      ]
     },
     "execution_count": 61,
     "metadata": {},
     "output_type": "execute_result"
    }
   ],
   "source": [
    "E_n4(k_z, kappa, s) = k_z*hypergeometric((1/2, 1/2*s - 1/2), (3/2,), -k_z^2/kappa^2)/kappa\n",
    "E_n4(k_z, kappa, s)"
   ]
  },
  {
   "cell_type": "code",
   "execution_count": 62,
   "metadata": {
    "scrolled": true
   },
   "outputs": [
    {
     "data": {
      "image/png": "[encoded data removed]",
      "text/plain": [
       "Graphics object consisting of 1 graphics primitive"
      ]
     },
     "metadata": {},
     "output_type": "display_data"
    }
   ],
   "source": [
    "plot(E_n4(k_z, kappa = 1, s = 5), (k_z, 0, 1000)).show(title = \"kappa = 1 s = 5\")"
   ]
  },
  {
   "cell_type": "code",
   "execution_count": 63,
   "metadata": {
    "scrolled": true
   },
   "outputs": [
    {
     "data": {
      "image/png": "[encoded data removed]",
      "text/plain": [
       "Graphics object consisting of 1 graphics primitive"
      ]
     },
     "metadata": {},
     "output_type": "display_data"
    }
   ],
   "source": [
    "plot(E_n4(k_z, kappa = 1, s = 4), (k_z, 0, 1000)).show(title = \"kappa = 1 s = 4\")"
   ]
  },
  {
   "cell_type": "code",
   "execution_count": 64,
   "metadata": {
    "scrolled": true
   },
   "outputs": [
    {
     "data": {
      "image/png": "[encoded data removed]",
      "text/plain": [
       "Graphics object consisting of 1 graphics primitive"
      ]
     },
     "metadata": {},
     "output_type": "display_data"
    }
   ],
   "source": [
    "plot(E_n4(k_z, kappa = 2, s = 4), (k_z, 0, 1000)).show(title = \"kappa = 2 s = 4\")"
   ]
  },
  {
   "cell_type": "code",
   "execution_count": 65,
   "metadata": {
    "scrolled": true
   },
   "outputs": [
    {
     "data": {
      "image/png": "[encoded data removed]",
      "text/plain": [
       "Graphics object consisting of 1 graphics primitive"
      ]
     },
     "metadata": {},
     "output_type": "display_data"
    }
   ],
   "source": [
    "plot(E_n4(k_z, kappa = 3, s = 4), (k_z, 0, 1000)).show(title = \"kappa = 3 s = 4\")"
   ]
  },
  {
   "cell_type": "code",
   "execution_count": 66,
   "metadata": {
    "scrolled": true
   },
   "outputs": [
    {
     "data": {
      "image/png": "[encoded data removed]",
      "text/plain": [
       "Graphics object consisting of 1 graphics primitive"
      ]
     },
     "metadata": {},
     "output_type": "display_data"
    }
   ],
   "source": [
    "plot(E_n4(k_z, kappa = 1, s = 3.5), (k_z, 0, 1000)).show(title = \"kappa = 1 s = 3.5\")"
   ]
  },
  {
   "cell_type": "code",
   "execution_count": 67,
   "metadata": {
    "scrolled": true
   },
   "outputs": [
    {
     "data": {
      "image/png": "[encoded data removed]",
      "text/plain": [
       "Graphics object consisting of 1 graphics primitive"
      ]
     },
     "metadata": {},
     "output_type": "display_data"
    }
   ],
   "source": [
    "plot(E_n4(k_z, kappa = 2, s = 3.5), (k_z, 0, 1000)).show(title = \"kappa = 2 s = 3.5\")"
   ]
  },
  {
   "cell_type": "code",
   "execution_count": 68,
   "metadata": {},
   "outputs": [
    {
     "data": {
      "image/png": "[encoded data removed]",
      "text/plain": [
       "Graphics object consisting of 1 graphics primitive"
      ]
     },
     "metadata": {},
     "output_type": "display_data"
    }
   ],
   "source": [
    "plot(E_n4(k_z, kappa = 1, s = 3), (k_z, 0, 1000)).show(title = \"kappa = 1 s = 3\")"
   ]
  },
  {
   "cell_type": "code",
   "execution_count": 69,
   "metadata": {},
   "outputs": [
    {
     "data": {
      "image/png": "[encoded data removed]",
      "text/plain": [
       "Graphics object consisting of 1 graphics primitive"
      ]
     },
     "metadata": {},
     "output_type": "display_data"
    }
   ],
   "source": [
    "plot(E_n4(k_z, kappa = 2, s = 3), (k_z, 0, 1000)).show(title = \"kappa = 2 s = 3\")"
   ]
  },
  {
   "cell_type": "code",
   "execution_count": 70,
   "metadata": {},
   "outputs": [
    {
     "data": {
      "image/png": "[encoded data removed]",
      "text/plain": [
       "Graphics object consisting of 1 graphics primitive"
      ]
     },
     "metadata": {},
     "output_type": "display_data"
    }
   ],
   "source": [
    "plot(E_n4(k_z, kappa = 1, s = 2), (k_z, 0, 1000)).show(title = \"kappa = 1 s = 2\")"
   ]
  },
  {
   "cell_type": "code",
   "execution_count": 71,
   "metadata": {},
   "outputs": [
    {
     "data": {
      "image/png": "[encoded data removed]",
      "text/plain": [
       "Graphics object consisting of 1 graphics primitive"
      ]
     },
     "metadata": {},
     "output_type": "display_data"
    }
   ],
   "source": [
    "plot(E_n4(k_z, kappa = 2, s = 2), (k_z, 0, 1000)).show(title = \"kappa = 2 s = 2\")"
   ]
  },
  {
   "cell_type": "code",
   "execution_count": 72,
   "metadata": {},
   "outputs": [
    {
     "data": {
      "image/png": "[encoded data removed]",
      "text/plain": [
       "Graphics object consisting of 1 graphics primitive"
      ]
     },
     "metadata": {},
     "output_type": "display_data"
    }
   ],
   "source": [
    "plot(E_n4(k_z, kappa = 1, s = 2), (k_z, 0, 1000)).show(title = \"kappa = 1 s = 2\")"
   ]
  },
  {
   "cell_type": "code",
   "execution_count": 73,
   "metadata": {},
   "outputs": [
    {
     "data": {
      "image/png": "[encoded data removed]",
      "text/plain": [
       "Graphics object consisting of 1 graphics primitive"
      ]
     },
     "metadata": {},
     "output_type": "display_data"
    }
   ],
   "source": [
    "plot(E_n4(k_z, kappa = 1, s = 1), (k_z, 0, 1000)).show(title = \"kappa = 1 s = 1\")"
   ]
  },
  {
   "cell_type": "code",
   "execution_count": 74,
   "metadata": {},
   "outputs": [
    {
     "data": {
      "image/png": "[encoded data removed]",
      "text/plain": [
       "Graphics object consisting of 1 graphics primitive"
      ]
     },
     "metadata": {},
     "output_type": "display_data"
    }
   ],
   "source": [
    "plot(E_n4(k_z, kappa = 1, s = 0), (k_z, 0, 1000)).show(title = \"kappa = 1 s = 0\")"
   ]
  },
  {
   "cell_type": "raw",
   "metadata": {},
   "source": [
    "Piecewise((-I*kappa*meijerg(((2 - s/2, 1), (5/4 - s/4,)), ((1/2,), (5/4 - s/4, 0)), k_z**2*exp_polar(-I*pi)/kappa**2)*cos(pi*s/4 + pi/4)*sqrt(Abs(kappa**2))*Abs(kappa**2)**(-s/2)*gamma(3/2 - s/2), re(s)/2 - 1/2 < 1), (Integral(Abs(k_z**2 + kappa**2)**(1/2 - s/2), k_z), True))\n",
    "\n",
    "re(s)/2 - 1/2 < 1\n",
    "1/2*real_part(s) - 1/2 < 1\n",
    "\n",
    "-I*kappa*meijerg(((2 - s/2, 1), (5/4 - s/4,)), ((1/2,), (5/4 - s/4, 0)), k_z**2*exp_polar(-I*pi)/kappa**2)*cos(pi*s/4 + pi/4)*sqrt(Abs(kappa**2))*Abs(kappa**2)**(-s/2)*gamma(3/2 - s/2)"
   ]
  },
  {
   "cell_type": "code",
   "execution_count": 75,
   "metadata": {},
   "outputs": [
    {
     "data": {
      "text/plain": [
       "1/2*kappa^(-s + 2)*beta(1/2, 1/2*s - 1)"
      ]
     },
     "execution_count": 75,
     "metadata": {},
     "output_type": "execute_result"
    }
   ],
   "source": [
    "E_n = integrate(integrand_zeta_2d, k_z, 0, Infinity)\n",
    "E_n"
   ]
  },
  {
   "cell_type": "code",
   "execution_count": 76,
   "metadata": {},
   "outputs": [
    {
     "data": {
      "text/plain": [
       "1/2*sqrt(pi^2*n_x^2/a^2 + pi^2*n_y^2/a^2)^(-s + 2)*beta(1/2, 1/2*s - 1)"
      ]
     },
     "execution_count": 76,
     "metadata": {},
     "output_type": "execute_result"
    }
   ],
   "source": [
    "E_n = E_n.subs(kappa == sqrt(k_x^2+k_y^2))\n",
    "E_n"
   ]
  },
  {
   "cell_type": "code",
   "execution_count": 77,
   "metadata": {},
   "outputs": [
    {
     "data": {
      "text/latex": [
       "$\\displaystyle \\frac{1}{2} \\, \\sqrt{\\frac{\\pi^{2} n_{x}^{2}}{a^{2}} + \\frac{\\pi^{2} n_{y}^{2}}{a^{2}}}^{-s + 2} \\operatorname{B}\\left(\\frac{1}{2}, \\frac{1}{2} \\, s - 1\\right)$"
      ],
      "text/plain": [
       "<IPython.core.display.Math object>"
      ]
     },
     "metadata": {},
     "output_type": "display_data"
    }
   ],
   "source": [
    "display(Math(latex(E_n)))"
   ]
  },
  {
   "cell_type": "code",
   "execution_count": 78,
   "metadata": {},
   "outputs": [
    {
     "data": {
      "text/latex": [
       "$\\displaystyle \\frac{1}{2} \\, {\\left(\\frac{\\pi^{2} n_{x}^{2}}{a^{2}} + \\frac{\\pi^{2} n_{y}^{2}}{a^{2}}\\right)} \\operatorname{B}\\left(\\frac{1}{2}, -1\\right)$"
      ],
      "text/plain": [
       "<IPython.core.display.Math object>"
      ]
     },
     "metadata": {},
     "output_type": "display_data"
    }
   ],
   "source": [
    "display(Math(latex(E_n.subs(s == 0))))"
   ]
  },
  {
   "cell_type": "code",
   "execution_count": 79,
   "metadata": {},
   "outputs": [
    {
     "data": {
      "text/plain": [
       "1.00000000000000"
      ]
     },
     "execution_count": 79,
     "metadata": {},
     "output_type": "execute_result"
    }
   ],
   "source": [
    "(beta(1/2, 1/2*s - 1).subs(s == 3)/pi).n()"
   ]
  },
  {
   "cell_type": "code",
   "execution_count": 80,
   "metadata": {},
   "outputs": [
    {
     "data": {
      "text/plain": [
       "2.00000000000000"
      ]
     },
     "execution_count": 80,
     "metadata": {},
     "output_type": "execute_result"
    }
   ],
   "source": [
    "beta(1/2, 1/2*s - 1).subs(s == 4).n()"
   ]
  },
  {
   "cell_type": "code",
   "execution_count": 81,
   "metadata": {},
   "outputs": [
    {
     "data": {
      "text/plain": [
       "0.500000000000000"
      ]
     },
     "execution_count": 81,
     "metadata": {},
     "output_type": "execute_result"
    }
   ],
   "source": [
    "(beta(1/2, 1/2*s - 1).subs(s == 5)/pi).n()"
   ]
  },
  {
   "cell_type": "markdown",
   "metadata": {},
   "source": [
    "${\\left(\\frac{E}{V}\\right)_{small\\,cavity} \\left(s\\right) = \\frac{1}{a^2}\\hbar \\,c^{-s + 1} \\operatorname{B}\\left(\\frac{1}{2}, \\frac{1}{2} \\, s - 1\\right) \\sum\\limits_{n_x=(0)1}^{\\infty}\\sum\\limits_{n_y=(0)1}^{\\infty}\\,\\frac{1}{2} \\, \\sqrt{\\frac{\\pi^{2} n_{x}^{2}}{a^{2}} + \\frac{\\pi^{2} n_{y}^{2}}{a^{2}}}^{-s + 2} .}$"
   ]
  },
  {
   "cell_type": "markdown",
   "metadata": {},
   "source": [
    "${\\left(\\frac{E}{V}\\right)_{small\\,cavity} \\left(s\\right) = \\frac{\\pi^{2-s} }{a^2}\\hbar \\,c^{-s + 1} \\operatorname{B}\\left(\\frac{1}{2}, \\frac{1}{2} \\, s - 1\\right) \\sum\\limits_{n_x=(0)1}^{\\infty}\\sum\\limits_{n_y=(0)1}^{\\infty}\\,\\frac{1}{2} \\, \\sqrt{\\frac{n_{x}^{2}}{a^{2}} + \\frac{n_{y}^{2}}{a^{2}}}^{-s + 2} .}$"
   ]
  },
  {
   "cell_type": "markdown",
   "metadata": {},
   "source": [
    "${\\left(\\frac{E}{V}\\right)_{small\\,cavity} \\left(s\\right) = \\frac{\\pi^{2-s} }{a^2} \\left(\\frac{1}{a}\\right)^{\\left(2-s\\right)}\\hbar \\,c^{-s + 1} \\operatorname{B}\\left(\\frac{1}{2}, \\frac{1}{2} \\, s - 1\\right) \\sum\\limits_{n_x=(0)1}^{\\infty}\\sum\\limits_{n_y=(0)1}^{\\infty}\\,\\frac{1}{2} \\, \\left(\\sqrt{n_{x}^{2} + n_{y}^{2}}\\right)^{-s + 2} .}$"
   ]
  },
  {
   "cell_type": "code",
   "execution_count": 82,
   "metadata": {},
   "outputs": [
    {
     "data": {
      "text/latex": [
       "$\\displaystyle ({1}/{a})^{(2-s)} = \\frac{1}{a^{2} \\frac{1}{a}^{s}}$"
      ],
      "text/plain": [
       "<IPython.core.display.Math object>"
      ]
     },
     "metadata": {},
     "output_type": "display_data"
    }
   ],
   "source": [
    "display(Math(\"({1}/{a})^{(2-s)} = \" + latex(((1/a)^(2-s)).full_simplify())))"
   ]
  },
  {
   "cell_type": "markdown",
   "metadata": {},
   "source": [
    "${\\left(\\frac{E}{V}\\right)_{small\\,cavity} \\left(s\\right) = \\frac{1}{2} \\,\\frac{\\pi^{2-s} }{a^\\left(4-s\\right)} \\hbar \\,c^{-s + 1} \\operatorname{B}\\left(\\frac{1}{2}, \\frac{1}{2} \\, s - 1\\right) \\sum\\limits_{n_x=(0)1}^{\\infty}\\sum\\limits_{n_y=(0)1}^{\\infty}\\, \\left(\\sqrt{n_{x}^{2} + n_{y}^{2}}\\right)^{-\\left(s - 2\\right)} .}$"
   ]
  },
  {
   "cell_type": "markdown",
   "metadata": {},
   "source": [
    "${\\left(\\frac{E}{V}\\right)_{small\\,cavity} \\left(s\\right) = \\frac{1}{2} \\,\\frac{\\pi^{2-s} }{a^\\left(4-s\\right)} \\hbar \\,c^{-s + 1} \\sum\\limits_{n_x=(0)1}^{\\infty}\\sum\\limits_{n_y=(0)1}^{\\infty}\\, \\operatorname{B}\\left(\\frac{1}{2}, \\frac{1}{2} \\, s - 1\\right) \\left(\\sqrt{n_{x}^{2} + n_{y}^{2}}\\right)^{-\\left(s - 2\\right)} .}$"
   ]
  },
  {
   "cell_type": "markdown",
   "metadata": {},
   "source": [
    "The integral in case if $s = 4$, resulting in"
   ]
  },
  {
   "cell_type": "markdown",
   "metadata": {},
   "source": [
    "${\\left(\\frac{E}{V}\\right)_{small\\,cavity} \\left(s\\right) = \\frac{\\pi^{2-s} }{a^\\left(4-s\\right)} \\hbar \\,c^{-s + 1} \\sum\\limits_{n_x=(0)1}^{\\infty}\\sum\\limits_{n_y=(0)1}^{\\infty}\\, \\left(\\sqrt{n_{x}^{2} + n_{y}^{2}}\\right)^{-\\left(s - 2\\right)} .}$"
   ]
  },
  {
   "cell_type": "code",
   "execution_count": null,
   "metadata": {},
   "outputs": [],
   "source": []
  },
  {
   "cell_type": "markdown",
   "metadata": {},
   "source": [
    "https://core.ac.uk/download/pdf/82162715.pdf\n",
    "\n",
    "JOURNAL OF NUMBER THEORY 35, 62-71 (1990)\n",
    "\n",
    "Evaluation of Multidimensional Linear Zeta Functions\n",
    "\n",
    "ALFRED ACTOR*\n",
    "\n",
    "Department of Physics, The Pennsylvania State University,\n",
    "\n",
    "Fogelsville, Pennsylvania 18051\n",
    "\n",
    "Communicated by Hans Zassenhaus\n",
    "\n",
    "Received January 28, 1988; revised May 5, 1989"
   ]
  },
  {
   "cell_type": "code",
   "execution_count": null,
   "metadata": {},
   "outputs": [],
   "source": []
  },
  {
   "cell_type": "markdown",
   "metadata": {},
   "source": [
    "A prototypical formula of this type is [1] \n",
    "\n",
    "$\\sum\\limits_{m,n=-\\infty}^{\\infty} \\, \\left(m^{2} + n^{2}\\right)^{-S} = 4\\,\\zeta\\left(S\\right)\\,\\beta\\left(S\\right)$\n",
    "\n",
    "where the prime means that $n = m = 0$ is excluded from the sum. \n",
    "\n",
    "where of course, $\\zeta\\left(S\\right)$ is the Riemann $\\zeta$-function [2]\n",
    "\n",
    "while $\\beta\\left(S\\right) = \\sum\\limits_{n=0}^{\\infty}\\left( - \\right)^n \\left(2n + 1\\right)^{-S}$\n",
    "defines, for $Re S > 0$, a function whose properties throughout the s-plane are\n",
    "well known [3].\n",
    "\n",
    "Thus Eq. (1) fully reveals the properties of the two dimensional Epstein $\\zeta$-function [4] on the left. \n",
    "\n",
    "\n",
    "\n",
    "1. G. H. HARDY, Notes on some points in the integral calculus LII, Mess. Math. 49 (1919),\n",
    "85-91.\n",
    "2. H. M. EDWARDS, “Riemann’s Zeta Function,” Academic Press, New York, 1974.\n",
    "3. A. ERDELYI, W. MAGNUS, F. OEERHETTINGER, AND F. G. TRICOMI (Eds.), “Higher Transcendental Functions,” Vol. 1, McGraw-Hill, New York, 1953. \n",
    "LINEAR ZETA FUNCTIONS 71\n",
    "4. P. EPSTEIN, Zur Theorie allgemeiner Zetafunctionen, Marh. Ann. 56 (1903), 615-645; Zur\n",
    "Theorie allgemeiner Zetafunctionen, II, Math. Ann. 63 (19071, 205-216. "
   ]
  },
  {
   "cell_type": "markdown",
   "metadata": {},
   "source": [
    "$${\\displaystyle \\sum\\limits_{m,n=0,1}^{\\infty} \\, \\left(m^{2} + n^{2}\\right)^{-S}=\\sum\\limits_{m,n=1}^{\\infty} \\, \\left(m^{2} + n^{2}\\right)^{-S}+\\zeta(2 S) }$$"
   ]
  },
  {
   "cell_type": "markdown",
   "metadata": {},
   "source": [
    "$\\sum\\limits_{m,n=(0)1}^{\\infty} \\, \\left(m^{2} + n^{2}\\right)^{-S} = \\zeta\\left(S\\right)\\,\\beta\\left(S\\right)$"
   ]
  },
  {
   "cell_type": "markdown",
   "metadata": {},
   "source": [
    "where the notation $\\left(0\\right) 1$ is meant to indicate that the term with $n = 0$ and $m = 0$\n",
    "has to be multiplied by $\\frac{1}{2}$. "
   ]
  },
  {
   "cell_type": "markdown",
   "metadata": {},
   "source": [
    "$\\sum\\limits_{m,n=(0)1}^{\\infty} \\, \\left(\\sqrt{m^{2} + n^{2}}\\right)^{-S} = \\sum\\limits_{m,n=(0)1}^{\\infty} \\, \\left(m^{2} + n^{2}\\right)^{-\\frac{S}{2}} = \\zeta\\left(\\frac{S}{2}\\right)\\,\\beta\\left(\\frac{S}{2}\\right)$"
   ]
  },
  {
   "cell_type": "markdown",
   "metadata": {},
   "source": [
    "$\\sum\\limits_{m,n=(0)1}^{\\infty} \\, \\left(\\sqrt{m^{2} + n^{2}}\\right)^{-\\left(s - 2\\right)} = \\sum\\limits_{m,n=(0)1}^{\\infty} \\, \\left(m^{2} + n^{2}\\right)^{-\\frac{s - 2}{2}} = \\zeta\\left(\\frac{s - 2}{2}\\right)\\,\\beta\\left(\\frac{s - 2}{2}\\right)$"
   ]
  },
  {
   "cell_type": "markdown",
   "metadata": {},
   "source": [
    "${\\left(\\frac{E}{V}\\right)_{small\\,cavity} \\left(s\\right) = \\frac{\\pi^{2-s} }{a^\\left(4-s\\right)} \\hbar \\,c^{-s + 1} \\sum\\limits_{n_x=(0)1}^{\\infty}\\sum\\limits_{n_y=(0)1}^{\\infty}\\, \\left(\\sqrt{n_{x}^{2} + n_{y}^{2}}\\right)^{-\\left(s - 2\\right)} }$"
   ]
  },
  {
   "cell_type": "markdown",
   "metadata": {},
   "source": [
    "${\\left(\\frac{E}{V}\\right)_{small\\,cavity} \\left(s\\right) = \\frac{\\pi^{2-s} }{a^\\left(4-s\\right)} \\hbar \\,c^{-s + 1} \\zeta\\left(\\frac{s - 2}{2}\\right)\\,\\beta\\left(\\frac{s - 2}{2}\\right) }$"
   ]
  },
  {
   "cell_type": "markdown",
   "metadata": {},
   "source": [
    "${ \\left(\\frac{E}{V}\\right)_{small\\,cavity} = \\lim _{s\\to 0}{ \\left\\{ \\left(\\frac{E}{V}\\right)_{small\\,cavity} \\left(s\\right) \\right\\}} = \\frac{\\pi^{2} }{a^4} \\hbar \\,c \\zeta\\left(-1\\right)\\,\\beta\\left(-1\\right) }$"
   ]
  },
  {
   "cell_type": "markdown",
   "metadata": {},
   "source": [
    "$${\\displaystyle \\beta\\left(S\\right) = \\sum\\limits_{n=0}^{\\infty}\\left( - \\right)^n \\left(2n + 1\\right)^{-S} }$$"
   ]
  },
  {
   "cell_type": "code",
   "execution_count": 96,
   "metadata": {},
   "outputs": [],
   "source": [
    "def beta1(S,N):\n",
    "    Sum = 0\n",
    "    for n in range (N):\n",
    "        Sum += (-1)^n * (2*n + 1)^(-S)\n",
    "    return Sum"
   ]
  },
  {
   "cell_type": "code",
   "execution_count": 97,
   "metadata": {},
   "outputs": [
    {
     "data": {
      "text/plain": [
       "0.556840309058559"
      ]
     },
     "execution_count": 97,
     "metadata": {},
     "output_type": "execute_result"
    }
   ],
   "source": [
    "(beta1(2,100000)/zeta(2)).n()"
   ]
  },
  {
   "cell_type": "markdown",
   "metadata": {},
   "source": [
    "$${\\displaystyle \\beta\\left(S\\right) = \\sum\\limits_{n=0}^{\\infty}\\left( - \\right)^{2n} \\left(2\\cdot2n + 1\\right)^{-S} +\\left( - \\right)^{(2n+1)} \\left(2(2n+1) + 1\\right)^{-S} }$$"
   ]
  },
  {
   "cell_type": "markdown",
   "metadata": {},
   "source": [
    "$${\\displaystyle \\beta\\left(S\\right) = \\sum\\limits_{n=0}^{\\infty}\\left( - \\right)^{2n} \\left(4n + 1\\right)^{-S} +\\left( - \\right)^{(2n+1)} \\left(4n+3\\right)^{-S} }$$"
   ]
  },
  {
   "cell_type": "code",
   "execution_count": 98,
   "metadata": {},
   "outputs": [],
   "source": [
    "def beta2(S,N):\n",
    "    Sum = 0\n",
    "    for n in range (N/2):\n",
    "        Sum += (-1)^(2*n)   * (2*(2*n)   + 1)^(-S)\n",
    "        Sum += (-1)^(2*n+1) * (2*(2*n+1) + 1)^(-S)\n",
    "    return Sum"
   ]
  },
  {
   "cell_type": "code",
   "execution_count": 99,
   "metadata": {},
   "outputs": [
    {
     "data": {
      "text/plain": [
       "0.556840309058559"
      ]
     },
     "execution_count": 99,
     "metadata": {},
     "output_type": "execute_result"
    }
   ],
   "source": [
    "(beta2(2,100000)/zeta(2)).n()"
   ]
  },
  {
   "cell_type": "markdown",
   "metadata": {},
   "source": [
    "$${\\displaystyle \\beta\\left(S\\right) = \\sum\\limits_{n=0}^{\\infty} \\left(4n + 1\\right)^{-S} - \\left(4n+3\\right)^{-S} }$$"
   ]
  },
  {
   "cell_type": "markdown",
   "metadata": {},
   "source": [
    "$${\\displaystyle \\beta\\left(S\\right) = \\sum\\limits_{n=0}^{\\infty} \\left(4n + 1\\right)^{-S} - \\sum\\limits_{n=0}^{\\infty}\\left(4n+3\\right)^{-S} }$$"
   ]
  },
  {
   "cell_type": "code",
   "execution_count": 83,
   "metadata": {},
   "outputs": [],
   "source": [
    "def beta2_1(S,N):\n",
    "    Sum = 0\n",
    "    for n in range (N/2):\n",
    "        Sum += (-1)^(2*n)   * (2*(2*n)   + 1)^(-S)\n",
    "    return Sum"
   ]
  },
  {
   "cell_type": "code",
   "execution_count": 84,
   "metadata": {},
   "outputs": [],
   "source": [
    "def beta2__1(S,N):\n",
    "    Sum = 0\n",
    "    for n in range (N/2):\n",
    "        Sum += (4*n + 1)^(-S)\n",
    "    return Sum"
   ]
  },
  {
   "cell_type": "code",
   "execution_count": 85,
   "metadata": {},
   "outputs": [],
   "source": [
    "def beta2_2(S,N):\n",
    "    Sum = 0\n",
    "    for n in range (N/2):\n",
    "        Sum += (-1)^(2*n+1) * (2*(2*n+1) + 1)^(-S)\n",
    "    return Sum"
   ]
  },
  {
   "cell_type": "code",
   "execution_count": 86,
   "metadata": {},
   "outputs": [],
   "source": [
    "def beta2__2(S,N):\n",
    "    Sum = 0\n",
    "    for n in range (N/2):\n",
    "        Sum += - (4*n + 3)^(-S)\n",
    "    return Sum"
   ]
  },
  {
   "cell_type": "code",
   "execution_count": 87,
   "metadata": {},
   "outputs": [
    {
     "data": {
      "text/plain": [
       "0.653419394620402"
      ]
     },
     "execution_count": 87,
     "metadata": {},
     "output_type": "execute_result"
    }
   ],
   "source": [
    "(beta2_1(2,100000)/zeta(2)).n()"
   ]
  },
  {
   "cell_type": "code",
   "execution_count": 88,
   "metadata": {},
   "outputs": [
    {
     "data": {
      "text/plain": [
       "0.653419394620402"
      ]
     },
     "execution_count": 88,
     "metadata": {},
     "output_type": "execute_result"
    }
   ],
   "source": [
    "(beta2__1(2,100000)/zeta(2)).n()"
   ]
  },
  {
   "cell_type": "code",
   "execution_count": 89,
   "metadata": {},
   "outputs": [
    {
     "data": {
      "text/plain": [
       "-0.0965790855618431"
      ]
     },
     "execution_count": 89,
     "metadata": {},
     "output_type": "execute_result"
    }
   ],
   "source": [
    "(beta2_2(2,100000)/zeta(2)).n()"
   ]
  },
  {
   "cell_type": "code",
   "execution_count": 90,
   "metadata": {},
   "outputs": [
    {
     "data": {
      "text/plain": [
       "-0.0965790855618431"
      ]
     },
     "execution_count": 90,
     "metadata": {},
     "output_type": "execute_result"
    }
   ],
   "source": [
    "(beta2__2(2,100000)/zeta(2)).n()"
   ]
  },
  {
   "cell_type": "markdown",
   "metadata": {},
   "source": [
    "$${\\displaystyle \\beta\\left(S\\right) = 4^{-S}\\sum\\limits_{n=0}^{\\infty} \\left(n + \\frac{1}{4}\\right)^{-S} - 4^{-S}\\sum\\limits_{n=0}^{\\infty}\\left(n+\\frac{3}{4}\\right)^{-S} }$$"
   ]
  },
  {
   "cell_type": "code",
   "execution_count": 93,
   "metadata": {},
   "outputs": [],
   "source": [
    "def beta4_dig(S,N):\n",
    "    Sum = 0\n",
    "    for n in range (N/2):\n",
    "        Sum += (n + 1/4)^(-S) - (n+3/4)^(-S)\n",
    "    return Sum*4^(-S)"
   ]
  },
  {
   "cell_type": "code",
   "execution_count": 102,
   "metadata": {},
   "outputs": [
    {
     "data": {
      "text/plain": [
       "0.556840309058559"
      ]
     },
     "execution_count": 102,
     "metadata": {},
     "output_type": "execute_result"
    }
   ],
   "source": [
    "(beta2(2,100000)/zeta(2)).n()"
   ]
  },
  {
   "cell_type": "markdown",
   "metadata": {},
   "source": [
    "https://en.wikipedia.org/wiki/Hurwitz_zeta_function"
   ]
  },
  {
   "cell_type": "code",
   "execution_count": 109,
   "metadata": {},
   "outputs": [
    {
     "data": {
      "text/plain": [
       "-1/16*psi(1, 3/4) + 1/16*psi(1, 1/4)"
      ]
     },
     "execution_count": 109,
     "metadata": {},
     "output_type": "execute_result"
    }
   ],
   "source": [
    "4^(-2)*(hurwitz_zeta(2, 1/4) - hurwitz_zeta(2, 3/4))"
   ]
  },
  {
   "cell_type": "code",
   "execution_count": 112,
   "metadata": {},
   "outputs": [
    {
     "data": {
      "text/plain": [
       "0.556840309066158"
      ]
     },
     "execution_count": 112,
     "metadata": {},
     "output_type": "execute_result"
    }
   ],
   "source": [
    "((4^(-2)*(hurwitz_zeta(2, 1/4) - hurwitz_zeta(2, 3/4)))/zeta(2)).n()"
   ]
  },
  {
   "cell_type": "markdown",
   "metadata": {},
   "source": [
    "Using <b>Hurwitz zeta function</b> ${\\displaystyle \\zeta (s,a)=\\sum _{n=0}^{\\infty }{\\frac {1}{(n+a)^{s}}}}$ we have"
   ]
  },
  {
   "cell_type": "markdown",
   "metadata": {},
   "source": [
    "$${\\displaystyle \\beta\\left(S\\right) = 4^{-S}\\zeta \\left(S, \\frac{1}{4}\\right) - 4^{-S}\\zeta \\left(S, \\frac{3}{4}\\right) }$$"
   ]
  },
  {
   "cell_type": "code",
   "execution_count": 115,
   "metadata": {},
   "outputs": [],
   "source": [
    "beta(S) = (4^(-S)*(hurwitz_zeta(S, 1/4) - hurwitz_zeta(S, 3/4)))"
   ]
  },
  {
   "cell_type": "code",
   "execution_count": 116,
   "metadata": {},
   "outputs": [],
   "source": [
    "zeta2D(S) = beta(S) * zeta(S)"
   ]
  },
  {
   "cell_type": "markdown",
   "metadata": {},
   "source": [
    "$$\\beta\\left(-1\\right) = 4^{-1} \\, \\zeta\\left(-1, \\frac{1}{4}\\right) - 4^{-1} \\, \\zeta\\left(-1, \\frac{3}{4}\\right) $$"
   ]
  },
  {
   "cell_type": "code",
   "execution_count": 117,
   "metadata": {},
   "outputs": [
    {
     "data": {
      "text/plain": [
       "-(hurwitz_zeta(S, 3/4) - hurwitz_zeta(S, 1/4))*zeta(S)/4^S"
      ]
     },
     "execution_count": 117,
     "metadata": {},
     "output_type": "execute_result"
    }
   ],
   "source": [
    "zeta2D(S)"
   ]
  },
  {
   "cell_type": "code",
   "execution_count": 118,
   "metadata": {},
   "outputs": [
    {
     "data": {
      "text/plain": [
       "0"
      ]
     },
     "execution_count": 118,
     "metadata": {},
     "output_type": "execute_result"
    }
   ],
   "source": [
    "zeta2D(-1)"
   ]
  },
  {
   "cell_type": "markdown",
   "metadata": {},
   "source": [
    "So zeta regularization for honeycomb leads to 0"
   ]
  },
  {
   "cell_type": "markdown",
   "metadata": {},
   "source": [
    "${ \\left(\\frac{E}{V}\\right)_{small\\,cavity} = \\frac{\\pi^{2} }{a^4} \\hbar \\,c \\zeta_{2D}\\left(-1\\right) }$"
   ]
  },
  {
   "cell_type": "markdown",
   "metadata": {},
   "source": [
    "${ \\left(\\frac{E}{V}\\right)_{small\\,cavity} = 0\\cdot\\frac{\\pi^{2} }{a^4} \\hbar \\,c}$"
   ]
  },
  {
   "cell_type": "markdown",
   "metadata": {},
   "source": [
    "The analytic continuation has evidently lost an additive positive infinity, somehow exactly accounting for the zero-point energy (not included above) inside large cavity beetween pure plane and $xy$ face. The Casimir force per unit area ${\\displaystyle F_{c}/A}$ for idealized, perfectly conducting honeycomb with vacuum inside and outside should be calculed with other regularisator"
   ]
  }
 ],
 "metadata": {
  "kernelspec": {
   "display_name": "SageMath 9.4.rc2",
   "language": "sage",
   "name": "sagemath"
  },
  "language_info": {
   "codemirror_mode": {
    "name": "ipython",
    "version": 3
   },
   "file_extension": ".py",
   "mimetype": "text/x-python",
   "name": "python",
   "nbconvert_exporter": "python",
   "pygments_lexer": "ipython3",
   "version": "3.9.5"
  }
 },
 "nbformat": 4,
 "nbformat_minor": 2
}
