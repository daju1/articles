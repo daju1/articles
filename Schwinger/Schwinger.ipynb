{
 "cells": [
  {
   "cell_type": "markdown",
   "id": "1c8971d7",
   "metadata": {},
   "source": [
    "# Sonoluminescence as a source of squeezed light."
   ]
  },
  {
   "cell_type": "markdown",
   "id": "853ed49d",
   "metadata": {},
   "source": [
    "Let scalar field $\\Phi\\left(t\\right)$ be a solution of the following equation"
   ]
  },
  {
   "cell_type": "markdown",
   "id": "14402a1d",
   "metadata": {},
   "source": [
    "\\begin{equation}\n",
    "\\left(\n",
    "\\frac{1}{c^2}\\frac{\\partial^2}{\\partial t^2}\n",
    "- \\frac{1}{\\epsilon}\\Delta\n",
    "\\right)\\Phi\\left(t\\right) = 0\n",
    "\\end{equation}"
   ]
  },
  {
   "cell_type": "markdown",
   "id": "1538123e",
   "metadata": {},
   "source": [
    "where $\\epsilon$ is dielectric constatn of medium. Disregarding the spin of photons we suppose that the field $\\Phi\\left(t\\right)$ the light quanta. Let the solution of the equation (2) be plane wave"
   ]
  },
  {
   "cell_type": "markdown",
   "id": "0fba9e9c",
   "metadata": {},
   "source": [
    "\\begin{equation}\n",
    "\\Phi\\left(t\\right) = e^{i k x} \\psi\\left(t\\right)\n",
    "\\end{equation}"
   ]
  },
  {
   "cell_type": "markdown",
   "id": "2c38caf4",
   "metadata": {},
   "source": [
    "The function $\\psi\\left(t\\right)$ satisfy the equation"
   ]
  },
  {
   "cell_type": "markdown",
   "id": "cc68038c",
   "metadata": {},
   "source": [
    "\\begin{equation}\n",
    "\\ddot{\\psi} + \\omega^2\\left(t\\right) \\psi = 0\n",
    "\\end{equation}"
   ]
  },
  {
   "cell_type": "markdown",
   "id": "5db61c1f",
   "metadata": {},
   "source": [
    "where"
   ]
  },
  {
   "cell_type": "markdown",
   "id": "f4fe3bb6",
   "metadata": {},
   "source": [
    "\\begin{equation}\n",
    "\\omega^2\\left(t\\right) = \\frac{c^2 k^2}{\\epsilon\\left(t\\right)}\n",
    "\\end{equation}"
   ]
  },
  {
   "cell_type": "markdown",
   "id": "086a4fa5",
   "metadata": {},
   "source": [
    "According to Schwinger let us assume that the $\\epsilon\\left(t\\right)$ is jump function of time with the jump from $\\epsilon \\neq 1$ to  $\\epsilon = 1$. The jump of dielectric constant leads to the transition"
   ]
  },
  {
   "cell_type": "code",
   "execution_count": null,
   "id": "bbb6d27d",
   "metadata": {},
   "outputs": [],
   "source": []
  },
  {
   "cell_type": "markdown",
   "id": "98766f07",
   "metadata": {},
   "source": [
    "Let us assume now that $\\epsilon(t)$ varies in time as"
   ]
  },
  {
   "cell_type": "markdown",
   "id": "e60b8db3",
   "metadata": {},
   "source": [
    "$$\\epsilon(t) = \\frac{2 \\epsilon}{ (\\epsilon + 1 + (\\epsilon - 1) tanh\\left(\\frac{t-\\tau}{\\tau}\\right)}$$"
   ]
  },
  {
   "cell_type": "code",
   "execution_count": 97,
   "id": "23c4a988",
   "metadata": {},
   "outputs": [],
   "source": [
    "from IPython.display import display, Math, Latex\n",
    "\n",
    "def disp(ex):\n",
    "    display(Math(latex(ex)))\n",
    "    \n",
    "def displ(tex):\n",
    "    display(Math(tex))"
   ]
  },
  {
   "cell_type": "code",
   "execution_count": 98,
   "id": "6952ed88",
   "metadata": {},
   "outputs": [],
   "source": [
    "epsilon = var(\"epsilon\")\n",
    "tau = var(\"tau\")\n",
    "s = var(\"s\")\n",
    "tau_1 = var(\"tau_1\")\n",
    "tau_2 = var(\"tau_2\")\n",
    "t = var(\"t\")"
   ]
  },
  {
   "cell_type": "code",
   "execution_count": 99,
   "id": "4ec03235",
   "metadata": {},
   "outputs": [
    {
     "data": {
      "text/latex": [
       "$\\displaystyle \\frac{2 \\, \\epsilon}{{\\left(\\epsilon - 1\\right)} \\tanh\\left(\\frac{t}{\\tau}\\right) + \\epsilon + 1}$"
      ],
      "text/plain": [
       "<IPython.core.display.Math object>"
      ]
     },
     "metadata": {},
     "output_type": "display_data"
    }
   ],
   "source": [
    "epsilon_t = 2 * epsilon / (epsilon + 1 + (epsilon - 1) * tanh((t)/tau))\n",
    "disp(epsilon_t)"
   ]
  },
  {
   "cell_type": "code",
   "execution_count": 100,
   "id": "1bc5d192",
   "metadata": {},
   "outputs": [
    {
     "data": {
      "text/latex": [
       "$\\displaystyle \\left( t, \\tau, s, \\epsilon \\right) \\ {\\mapsto} \\ \\frac{2 \\, \\epsilon}{{\\left(\\epsilon - 1\\right)} \\tanh\\left(-\\frac{s - t}{\\tau}\\right) + \\epsilon + 1}$"
      ],
      "text/plain": [
       "<IPython.core.display.Math object>"
      ]
     },
     "metadata": {},
     "output_type": "display_data"
    }
   ],
   "source": [
    "epsilon_t(t, tau, s, epsilon) = 2 * epsilon / (epsilon + 1 + (epsilon - 1) * tanh((t-s)/tau))\n",
    "disp(epsilon_t)"
   ]
  },
  {
   "cell_type": "code",
   "execution_count": 101,
   "id": "e0d4a547",
   "metadata": {},
   "outputs": [
    {
     "data": {
      "text/latex": [
       "$\\displaystyle \\left( t, \\tau, s, \\epsilon \\right) \\ {\\mapsto} \\ -\\epsilon + \\frac{2 \\, \\epsilon}{{\\left(\\epsilon - 1\\right)} \\tanh\\left(-\\frac{s - t}{\\tau_{1}}\\right) + \\epsilon + 1} + \\frac{2 \\, \\epsilon}{{\\left(\\epsilon - 1\\right)} \\tanh\\left(\\frac{s + t}{\\tau_{2}}\\right) + \\epsilon + 1} - 1$"
      ],
      "text/plain": [
       "<IPython.core.display.Math object>"
      ]
     },
     "metadata": {},
     "output_type": "display_data"
    }
   ],
   "source": [
    "epsilon_t12(t, tau, s, epsilon) = epsilon_t(t,tau_1, s,epsilon) - (epsilon + 1 - epsilon_t(t,tau_2, -s, epsilon))\n",
    "disp(epsilon_t12)"
   ]
  },
  {
   "cell_type": "code",
   "execution_count": 117,
   "id": "bdfb1ab8",
   "metadata": {},
   "outputs": [
    {
     "data": {
      "image/png": "[encoded data removed]",
      "text/plain": [
       "Graphics object consisting of 1 graphics primitive"
      ]
     },
     "execution_count": 117,
     "metadata": {},
     "output_type": "execute_result"
    }
   ],
   "source": [
    "plot(epsilon_t.subs([epsilon == 11, tau == -1/2, s == -1/2]), t, -2, 2)"
   ]
  },
  {
   "cell_type": "code",
   "execution_count": 102,
   "id": "814e5192",
   "metadata": {},
   "outputs": [
    {
     "data": {
      "image/png": "[encoded data removed]",
      "text/plain": [
       "Graphics object consisting of 1 graphics primitive"
      ]
     },
     "execution_count": 102,
     "metadata": {},
     "output_type": "execute_result"
    }
   ],
   "source": [
    "plot(epsilon_t12.subs([epsilon == 11, tau_1 == 1/2, tau_2==-1/10, s == 1]), t, -4, 2)"
   ]
  },
  {
   "cell_type": "markdown",
   "id": "28ec58fd",
   "metadata": {},
   "source": [
    "$\\frac {\\partial^2 u}{\\partial x^2} + \\frac{2 m_1}{\\hbar^2} \\left(E - U_1(x)\\right)u = 0$"
   ]
  },
  {
   "cell_type": "code",
   "execution_count": 123,
   "id": "94bf1da1",
   "metadata": {},
   "outputs": [],
   "source": [
    "var(\"x, m_1, m_2, E, h, U_0, a, b, n, K, A, B, C, D, _K1, _K2, _C0, _C1, k, kappa, k_0\")\n",
    "u_1=function('u_1')(x)\n",
    "u_2=function('u_2')(x)\n",
    "\n",
    "assume(U_0, \"real\")\n",
    "assume(E, \"real\")\n",
    "assume(E > 0)\n",
    "\n",
    "assume(K, \"real\")\n",
    "assume(k, \"real\")\n",
    "\n",
    "assume(a, \"real\")\n",
    "assume(b, \"real\")\n",
    "\n",
    "assume(n, \"real\")\n",
    "assume(n, \"integer\")\n",
    "\n",
    "assume(h, \"real\")\n",
    "\n",
    "assume(m_1 > 0)"
   ]
  },
  {
   "cell_type": "code",
   "execution_count": 128,
   "id": "5902ca2d",
   "metadata": {},
   "outputs": [
    {
     "data": {
      "text/latex": [
       "$\\displaystyle \\frac{2 \\, {\\left(E - \\frac{2 \\, \\epsilon}{{\\left(\\epsilon - 1\\right)} \\tanh\\left(-\\frac{s - x}{\\tau}\\right) + \\epsilon + 1}\\right)} m_{1} u_{1}\\left(x\\right)}{h^{2}} + \\frac{\\partial^{2}}{(\\partial x)^{2}}u_{1}\\left(x\\right) = 0$"
      ],
      "text/plain": [
       "<IPython.core.display.Math object>"
      ]
     },
     "metadata": {},
     "output_type": "display_data"
    }
   ],
   "source": [
    "eq_0b(n) = diff(u_1,x,2) + 2*m_1/h^2 * (E - epsilon_t(x, tau, s, epsilon)) * u_1 == 0\n",
    "disp(eq_0b(n))"
   ]
  },
  {
   "cell_type": "code",
   "execution_count": 130,
   "id": "7684222c",
   "metadata": {},
   "outputs": [
    {
     "ename": "NotImplementedError",
     "evalue": "Maxima was unable to solve this ODE.",
     "output_type": "error",
     "traceback": [
      "\u001b[0;31m---------------------------------------------------------------------------\u001b[0m",
      "\u001b[0;31mNotImplementedError\u001b[0m                       Traceback (most recent call last)",
      "\u001b[0;32m/tmp/ipykernel_9509/3710828887.py\u001b[0m in \u001b[0;36m<module>\u001b[0;34m\u001b[0m\n\u001b[1;32m      1\u001b[0m \u001b[0;31m# desolve(de, dvar, ics, ivar, show_method, contrib_ode, algorithm)\u001b[0m\u001b[0;34m\u001b[0m\u001b[0;34m\u001b[0m\u001b[0m\n\u001b[0;32m----> 2\u001b[0;31m \u001b[0msol\u001b[0m \u001b[0;34m=\u001b[0m \u001b[0mdesolve\u001b[0m\u001b[0;34m(\u001b[0m\u001b[0meq_0b\u001b[0m\u001b[0;34m(\u001b[0m\u001b[0mn\u001b[0m\u001b[0;34m=\u001b[0m\u001b[0mInteger\u001b[0m\u001b[0;34m(\u001b[0m\u001b[0;36m0\u001b[0m\u001b[0;34m)\u001b[0m\u001b[0;34m)\u001b[0m\u001b[0;34m,\u001b[0m \u001b[0mdvar\u001b[0m\u001b[0;34m=\u001b[0m\u001b[0mu_1\u001b[0m\u001b[0;34m,\u001b[0m \u001b[0mivar\u001b[0m\u001b[0;34m=\u001b[0m\u001b[0mx\u001b[0m\u001b[0;34m,\u001b[0m \u001b[0mcontrib_ode\u001b[0m\u001b[0;34m=\u001b[0m\u001b[0;32mTrue\u001b[0m\u001b[0;34m)\u001b[0m\u001b[0;34m\u001b[0m\u001b[0;34m\u001b[0m\u001b[0m\n\u001b[0m\u001b[1;32m      3\u001b[0m \u001b[0mdisp\u001b[0m\u001b[0;34m(\u001b[0m\u001b[0msol\u001b[0m\u001b[0;34m)\u001b[0m\u001b[0;34m\u001b[0m\u001b[0;34m\u001b[0m\u001b[0m\n",
      "\u001b[0;32m/usr3/articles/sagemath_docker_build/sage/local/lib/python3.10/site-packages/sage/calculus/desolvers.py\u001b[0m in \u001b[0;36mdesolve\u001b[0;34m(de, dvar, ics, ivar, show_method, contrib_ode, algorithm)\u001b[0m\n\u001b[1;32m    593\u001b[0m             \u001b[0msoln\u001b[0m \u001b[0;34m=\u001b[0m \u001b[0mP\u001b[0m\u001b[0;34m(\u001b[0m\u001b[0mcmd\u001b[0m\u001b[0;34m)\u001b[0m\u001b[0;34m\u001b[0m\u001b[0;34m\u001b[0m\u001b[0m\n\u001b[1;32m    594\u001b[0m             \u001b[0;32mif\u001b[0m \u001b[0mstr\u001b[0m\u001b[0;34m(\u001b[0m\u001b[0msoln\u001b[0m\u001b[0;34m)\u001b[0m\u001b[0;34m.\u001b[0m\u001b[0mstrip\u001b[0m\u001b[0;34m(\u001b[0m\u001b[0;34m)\u001b[0m \u001b[0;34m==\u001b[0m \u001b[0;34m'false'\u001b[0m\u001b[0;34m:\u001b[0m\u001b[0;34m\u001b[0m\u001b[0;34m\u001b[0m\u001b[0m\n\u001b[0;32m--> 595\u001b[0;31m                 \u001b[0;32mraise\u001b[0m \u001b[0mNotImplementedError\u001b[0m\u001b[0;34m(\u001b[0m\u001b[0;34m\"Maxima was unable to solve this ODE.\"\u001b[0m\u001b[0;34m)\u001b[0m\u001b[0;34m\u001b[0m\u001b[0;34m\u001b[0m\u001b[0m\n\u001b[0m\u001b[1;32m    596\u001b[0m         \u001b[0;32melse\u001b[0m\u001b[0;34m:\u001b[0m\u001b[0;34m\u001b[0m\u001b[0;34m\u001b[0m\u001b[0m\n\u001b[1;32m    597\u001b[0m             \u001b[0;32mraise\u001b[0m \u001b[0mNotImplementedError\u001b[0m\u001b[0;34m(\u001b[0m\u001b[0;34m\"Maxima was unable to solve this ODE. Consider to set option contrib_ode to True.\"\u001b[0m\u001b[0;34m)\u001b[0m\u001b[0;34m\u001b[0m\u001b[0;34m\u001b[0m\u001b[0m\n",
      "\u001b[0;31mNotImplementedError\u001b[0m: Maxima was unable to solve this ODE."
     ]
    }
   ],
   "source": [
    "# desolve(de, dvar, ics, ivar, show_method, contrib_ode, algorithm)\n",
    "sol = desolve(eq_0b(n=0), dvar=u_1, ivar=x, contrib_ode=True)\n",
    "disp(sol)"
   ]
  },
  {
   "cell_type": "code",
   "execution_count": 103,
   "id": "a6cab20f",
   "metadata": {},
   "outputs": [
    {
     "data": {
      "text/latex": [
       "$\\displaystyle \\left( t, \\tau, s, \\epsilon \\right) \\ {\\mapsto} \\ \\frac{2 \\, {\\left(\\tanh\\left(-\\frac{s - t}{\\tau_{1}}\\right)^{2} - 1\\right)} {\\left(\\epsilon - 1\\right)} \\epsilon}{{\\left({\\left(\\epsilon - 1\\right)} \\tanh\\left(-\\frac{s - t}{\\tau_{1}}\\right) + \\epsilon + 1\\right)}^{2} \\tau_{1}} + \\frac{2 \\, {\\left(\\tanh\\left(\\frac{s + t}{\\tau_{2}}\\right)^{2} - 1\\right)} {\\left(\\epsilon - 1\\right)} \\epsilon}{{\\left({\\left(\\epsilon - 1\\right)} \\tanh\\left(\\frac{s + t}{\\tau_{2}}\\right) + \\epsilon + 1\\right)}^{2} \\tau_{2}}$"
      ],
      "text/plain": [
       "<IPython.core.display.Math object>"
      ]
     },
     "metadata": {},
     "output_type": "display_data"
    }
   ],
   "source": [
    "disp(epsilon_t12.diff(t))"
   ]
  },
  {
   "cell_type": "code",
   "execution_count": 104,
   "id": "9fd4254a",
   "metadata": {},
   "outputs": [
    {
     "data": {
      "text/latex": [
       "$\\displaystyle \\left( t, \\tau, s, \\epsilon \\right) \\ {\\mapsto} \\ \\frac{4 \\, {\\left(\\tanh\\left(-\\frac{s - t}{\\tau_{1}}\\right)^{2} - 1\\right)}^{2} {\\left(\\epsilon - 1\\right)}^{2} \\epsilon}{{\\left({\\left(\\epsilon - 1\\right)} \\tanh\\left(-\\frac{s - t}{\\tau_{1}}\\right) + \\epsilon + 1\\right)}^{3} \\tau_{1}^{2}} + \\frac{4 \\, {\\left(\\tanh\\left(\\frac{s + t}{\\tau_{2}}\\right)^{2} - 1\\right)}^{2} {\\left(\\epsilon - 1\\right)}^{2} \\epsilon}{{\\left({\\left(\\epsilon - 1\\right)} \\tanh\\left(\\frac{s + t}{\\tau_{2}}\\right) + \\epsilon + 1\\right)}^{3} \\tau_{2}^{2}} - \\frac{4 \\, {\\left(\\tanh\\left(-\\frac{s - t}{\\tau_{1}}\\right)^{2} - 1\\right)} {\\left(\\epsilon - 1\\right)} \\epsilon \\tanh\\left(-\\frac{s - t}{\\tau_{1}}\\right)}{{\\left({\\left(\\epsilon - 1\\right)} \\tanh\\left(-\\frac{s - t}{\\tau_{1}}\\right) + \\epsilon + 1\\right)}^{2} \\tau_{1}^{2}} - \\frac{4 \\, {\\left(\\tanh\\left(\\frac{s + t}{\\tau_{2}}\\right)^{2} - 1\\right)} {\\left(\\epsilon - 1\\right)} \\epsilon \\tanh\\left(\\frac{s + t}{\\tau_{2}}\\right)}{{\\left({\\left(\\epsilon - 1\\right)} \\tanh\\left(\\frac{s + t}{\\tau_{2}}\\right) + \\epsilon + 1\\right)}^{2} \\tau_{2}^{2}}$"
      ],
      "text/plain": [
       "<IPython.core.display.Math object>"
      ]
     },
     "metadata": {},
     "output_type": "display_data"
    }
   ],
   "source": [
    "disp(epsilon_t12.diff(t, 2))"
   ]
  },
  {
   "cell_type": "code",
   "execution_count": 108,
   "id": "23eafdb6",
   "metadata": {},
   "outputs": [
    {
     "data": {
      "text/latex": [
       "$\\displaystyle \\frac{4 \\, {\\left(\\tanh\\left(-\\frac{s - t}{\\tau_{1}}\\right)^{2} - 1\\right)}^{2} {\\left(\\epsilon - 1\\right)}^{2} \\epsilon}{{\\left({\\left(\\epsilon - 1\\right)} \\tanh\\left(-\\frac{s - t}{\\tau_{1}}\\right) + \\epsilon + 1\\right)}^{3} \\tau_{1}^{2}} + \\frac{4 \\, {\\left(\\tanh\\left(\\frac{s + t}{\\tau_{2}}\\right)^{2} - 1\\right)}^{2} {\\left(\\epsilon - 1\\right)}^{2} \\epsilon}{{\\left({\\left(\\epsilon - 1\\right)} \\tanh\\left(\\frac{s + t}{\\tau_{2}}\\right) + \\epsilon + 1\\right)}^{3} \\tau_{2}^{2}} - \\frac{4 \\, {\\left(\\tanh\\left(-\\frac{s - t}{\\tau_{1}}\\right)^{2} - 1\\right)} {\\left(\\epsilon - 1\\right)} \\epsilon \\tanh\\left(-\\frac{s - t}{\\tau_{1}}\\right)}{{\\left({\\left(\\epsilon - 1\\right)} \\tanh\\left(-\\frac{s - t}{\\tau_{1}}\\right) + \\epsilon + 1\\right)}^{2} \\tau_{1}^{2}} - \\frac{4 \\, {\\left(\\tanh\\left(\\frac{s + t}{\\tau_{2}}\\right)^{2} - 1\\right)} {\\left(\\epsilon - 1\\right)} \\epsilon \\tanh\\left(\\frac{s + t}{\\tau_{2}}\\right)}{{\\left({\\left(\\epsilon - 1\\right)} \\tanh\\left(\\frac{s + t}{\\tau_{2}}\\right) + \\epsilon + 1\\right)}^{2} \\tau_{2}^{2}}$"
      ],
      "text/plain": [
       "<IPython.core.display.Math object>"
      ]
     },
     "metadata": {},
     "output_type": "display_data"
    }
   ],
   "source": [
    "exec(preparse(\"D2_epsilon_t12(t, tau, s, epsilon) = \" + str(epsilon_t12(t, tau, s, epsilon).diff(t, 2))))\n",
    "disp(D2_epsilon_t12(t, tau, s, epsilon))"
   ]
  },
  {
   "cell_type": "code",
   "execution_count": 109,
   "id": "fe5e3ee2",
   "metadata": {},
   "outputs": [
    {
     "data": {
      "image/png": "[encoded data removed]",
      "text/plain": [
       "Graphics object consisting of 1 graphics primitive"
      ]
     },
     "execution_count": 109,
     "metadata": {},
     "output_type": "execute_result"
    }
   ],
   "source": [
    "plot(D2_epsilon_t12.subs([epsilon == 11, tau_1 == 1/2, tau_2==-1/10, s == 1]), t, -4, 2)"
   ]
  },
  {
   "cell_type": "code",
   "execution_count": null,
   "id": "eae0cd26",
   "metadata": {},
   "outputs": [],
   "source": []
  }
 ],
 "metadata": {
  "kernelspec": {
   "display_name": "SageMath 9.6.beta7",
   "language": "sage",
   "name": "sagemath"
  },
  "language_info": {
   "codemirror_mode": {
    "name": "ipython",
    "version": 3
   },
   "file_extension": ".py",
   "mimetype": "text/x-python",
   "name": "python",
   "nbconvert_exporter": "python",
   "pygments_lexer": "ipython3",
   "version": "3.10.3"
  }
 },
 "nbformat": 4,
 "nbformat_minor": 5
}
