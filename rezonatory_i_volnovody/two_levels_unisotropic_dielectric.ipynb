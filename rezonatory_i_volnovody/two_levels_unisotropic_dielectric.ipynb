{
 "cells": [
  {
   "cell_type": "markdown",
   "metadata": {},
   "source": [
    "two_levels_unisotropic_dielectric"
   ]
  },
  {
   "cell_type": "code",
   "execution_count": 1,
   "metadata": {},
   "outputs": [],
   "source": [
    "k = var ('k')\n",
    "\n",
    "a = var('a')\n",
    "assume(a>0)\n",
    "\n",
    "x = var('x')\n",
    "y = var('y')\n",
    "z = var('z')\n",
    "\n",
    "c = var('c')\n",
    "assume(c>0)\n",
    "omega = var('omega')\n"
   ]
  },
  {
   "cell_type": "markdown",
   "metadata": {},
   "source": [
    "rot E = mu * i * omega / c * H\n",
    "\n",
    "rot H = - i * omega / c * epsilon_ab * E\n",
    "\n",
    "Laplasian E + mu * epsilon_ab * omega^2 / c^2 * E - grad div E = 0\n",
    "\n",
    "уравнение Даламбера\n",
    "\n",
    "mu * epsilon_ab / c^2 * diff(E, t, 2) - Laplasian E = 0\n",
    "\n",
    "Ищем решение в виде\n",
    "\n",
    "E = E(x) * exp(I * k * z) * exp(-I * omega * t)\n",
    "\n",
    "подставляя в уравнение Даламбера приходим к обыкновенному дифференциальному уравнению\n",
    "\n",
    "diff (E(x), x, 2) + (mu * epsilon_ab * omega^2 / c^2 - k^2) * E(x) = 0\n",
    "\n",
    "для диэлектрика\n",
    "\n",
    "kappa_ab^2 = (mu * epsilon_ab * omega^2 / c^2 - k^2)\n",
    "\n",
    "diff (E(x), x, 2) + kappa_ab^2 * E(x) = 0"
   ]
  },
  {
   "cell_type": "code",
   "execution_count": 2,
   "metadata": {},
   "outputs": [
    {
     "name": "stdout",
     "output_type": "stream",
     "text": [
      "[kappa_xx_0, kappa_xx_1]\n",
      "[kappa_yy_0, kappa_yy_1]\n",
      "[kappa_zz_0, kappa_zz_1]\n"
     ]
    }
   ],
   "source": [
    "n_layers = 2\n",
    "\n",
    "kappa_xx = []\n",
    "kappa_yy = []\n",
    "kappa_zz = []\n",
    "for i in range(n_layers):\n",
    "    exec (\"kappa_xx_\" + str(i) + \" = var ('kappa_xx_\" + str(i) + \"') \")\n",
    "    exec (\"kappa_yy_\" + str(i) + \" = var ('kappa_yy_\" + str(i) + \"') \")\n",
    "    exec (\"kappa_zz_\" + str(i) + \" = var ('kappa_zz_\" + str(i) + \"') \")\n",
    "    exec (\"assume(kappa_xx_\" + str(i) + \" > 0)\")\n",
    "    exec (\"assume(kappa_yy_\" + str(i) + \" > 0)\")\n",
    "    exec (\"assume(kappa_zz_\" + str(i) + \" > 0)\")\n",
    "    exec (\"kappa_xx += [kappa_xx_\" + str(i) + \"]\")\n",
    "    exec (\"kappa_yy += [kappa_yy_\" + str(i) + \"]\")\n",
    "    exec (\"kappa_zz += [kappa_zz_\" + str(i) + \"]\")\n",
    "\n",
    "print (kappa_xx)\n",
    "print (kappa_yy)\n",
    "print (kappa_zz)\n"
   ]
  },
  {
   "cell_type": "code",
   "execution_count": 3,
   "metadata": {},
   "outputs": [
    {
     "name": "stdout",
     "output_type": "stream",
     "text": [
      "[epsilon_xx_0, epsilon_xx_1]\n",
      "[epsilon_yy_0, epsilon_yy_1]\n",
      "[epsilon_zz_0, epsilon_zz_1]\n"
     ]
    }
   ],
   "source": [
    "epsilon_xx = []\n",
    "epsilon_yy = []\n",
    "epsilon_zz = []\n",
    "for i in range(n_layers):\n",
    "    exec (\"epsilon_xx_\" + str(i) + \" = var ('epsilon_xx_\" + str(i) + \"') \")\n",
    "    exec (\"epsilon_yy_\" + str(i) + \" = var ('epsilon_yy_\" + str(i) + \"') \")\n",
    "    exec (\"epsilon_zz_\" + str(i) + \" = var ('epsilon_zz_\" + str(i) + \"') \")\n",
    "    exec (\"assume(epsilon_xx_\" + str(i) + \" > 0)\")\n",
    "    exec (\"assume(epsilon_yy_\" + str(i) + \" > 0)\")\n",
    "    exec (\"assume(epsilon_zz_\" + str(i) + \" > 0)\")\n",
    "    exec (\"epsilon_xx += [epsilon_xx_\" + str(i) + \"]\")\n",
    "    exec (\"epsilon_yy += [epsilon_yy_\" + str(i) + \"]\")\n",
    "    exec (\"epsilon_zz += [epsilon_zz_\" + str(i) + \"]\")\n",
    "\n",
    "print (epsilon_xx)\n",
    "print (epsilon_yy)\n",
    "print (epsilon_zz)"
   ]
  },
  {
   "cell_type": "code",
   "execution_count": 4,
   "metadata": {},
   "outputs": [
    {
     "name": "stdout",
     "output_type": "stream",
     "text": [
      "[mu_0, mu_1]\n"
     ]
    }
   ],
   "source": [
    "mu = []\n",
    "for i in range(n_layers):\n",
    "    exec (\"mu_\" + str(i) + \" = var ('mu_\" + str(i) + \"') \")\n",
    "    exec (\"assume(mu_\" + str(i) + \" > 0)\")\n",
    "    exec (\"mu += [mu_\" + str(i) + \"]\")\n",
    "\n",
    "print (mu)"
   ]
  },
  {
   "cell_type": "code",
   "execution_count": 5,
   "metadata": {},
   "outputs": [],
   "source": [
    "# исходя из вида дифференциальных уравнений для диэлектрика\n",
    "# записываем соотнощения для волнового вектора в виде уравнений\n",
    "eq_kappa_xx = []\n",
    "eq_kappa_yy = []\n",
    "eq_kappa_zz = []\n",
    "for i in range(n_layers):\n",
    "    eq_kappa_xx += [mu[i] * epsilon_xx[i] * omega^2 / c^2 - k^2 == kappa_xx[i]^2]\n",
    "    eq_kappa_yy += [mu[i] * epsilon_yy[i] * omega^2 / c^2 - k^2 == kappa_yy[i]^2]\n",
    "    eq_kappa_zz += [mu[i] * epsilon_zz[i] * omega^2 / c^2 - k^2 == kappa_zz[i]^2]"
   ]
  },
  {
   "cell_type": "code",
   "execution_count": 6,
   "metadata": {},
   "outputs": [
    {
     "name": "stdout",
     "output_type": "stream",
     "text": [
      "_K2*cos(kappa_xx_1*x) + _K1*sin(kappa_xx_1*x)\n"
     ]
    }
   ],
   "source": [
    "# решаем полученные обыкновенные дифференциальные уравнения\n",
    "E_x = function('E_x')(x)\n",
    "\n",
    "de_dielectric_x = diff (E_x, x, 2) + kappa_xx[i]^2 * E_x == 0\n",
    "E_dielectric_x = desolve(de_dielectric_x, E_x, ivar = x)\n",
    "\n",
    "\n",
    "# получая таким образом выражения для электрического поля в диэлектрике\n",
    "print (E_dielectric_x)\n",
    "# _K2*cos(kappa*x) + _K1*sin(kappa*x)"
   ]
  },
  {
   "cell_type": "code",
   "execution_count": 7,
   "metadata": {},
   "outputs": [
    {
     "name": "stdout",
     "output_type": "stream",
     "text": [
      "[Ax_0, Ax_1]\n",
      "[Az_0, Az_1]\n",
      "[Bx_0, Bx_1]\n",
      "[Bz_0, Bz_1]\n"
     ]
    }
   ],
   "source": [
    "Ax = []\n",
    "Az = []\n",
    "Bx = []\n",
    "Bz = []\n",
    "for i in range(n_layers):\n",
    "    exec (\"Ax_\" + str(i) + \" = var ('Ax_\" + str(i) + \"') \")\n",
    "    exec (\"Az_\" + str(i) + \" = var ('Az_\" + str(i) + \"') \")\n",
    "    exec (\"Bx_\" + str(i) + \" = var ('Bx_\" + str(i) + \"') \")\n",
    "    exec (\"Bz_\" + str(i) + \" = var ('Bz_\" + str(i) + \"') \")\n",
    "    exec (\"Ax += [Ax_\" + str(i) + \"]\")\n",
    "    exec (\"Bx += [Bx_\" + str(i) + \"]\")\n",
    "    exec (\"Az += [Az_\" + str(i) + \"]\")\n",
    "    exec (\"Bz += [Bz_\" + str(i) + \"]\")\n",
    "\n",
    "print (Ax)\n",
    "print (Az)\n",
    "print (Bx)\n",
    "print (Bz)"
   ]
  },
  {
   "cell_type": "code",
   "execution_count": 8,
   "metadata": {},
   "outputs": [
    {
     "name": "stdout",
     "output_type": "stream",
     "text": [
      "Ax_0*cos(kappa_xx_0*x) + Bx_0*sin(kappa_xx_0*x)\n",
      "Az_0*cos(kappa_zz_0*x) + Bz_0*sin(kappa_zz_0*x)\n",
      "\n",
      "Ax_1*cos(kappa_xx_1*x) + Bx_1*sin(kappa_xx_1*x)\n",
      "Az_1*cos(kappa_zz_1*x) + Bz_1*sin(kappa_zz_1*x)\n",
      "\n"
     ]
    }
   ],
   "source": [
    "Ex = []\n",
    "Ez = []\n",
    "for i in range(n_layers):\n",
    "    Ex += [ lambda x, i=i : Ax[i] * cos(kappa_xx[i] * x) + Bx[i] * sin(kappa_xx[i] * x)]\n",
    "    Ez += [ lambda x, i=i : Az[i] * cos(kappa_zz[i] * x) + Bz[i] * sin(kappa_zz[i] * x)]\n",
    "\n",
    "for i in range(n_layers):\n",
    "    print (Ex[i](x))\n",
    "    print (Ez[i](x))\n",
    "    print(\"\")"
   ]
  },
  {
   "cell_type": "code",
   "execution_count": 9,
   "metadata": {},
   "outputs": [
    {
     "name": "stdout",
     "output_type": "stream",
     "text": [
      "-Bz_0*kappa_zz_0*cos(kappa_zz_0*x) + Az_0*kappa_zz_0*sin(kappa_zz_0*x) + I*(Ax_0*cos(kappa_xx_0*x) + Bx_0*sin(kappa_xx_0*x))*k\n",
      "-Bz_0*kappa_zz_0*cos(kappa_zz_0*x) + Az_0*kappa_zz_0*sin(kappa_zz_0*x) + (I*Ax_0*cos(kappa_xx_0*x) + I*Bx_0*sin(kappa_xx_0*x))*k\n",
      "\n",
      "I*(Bz_0*kappa_zz_0*cos(kappa_zz_0*x) - Az_0*kappa_zz_0*sin(kappa_zz_0*x) - (I*Ax_0*cos(kappa_xx_0*x) + I*Bx_0*sin(kappa_xx_0*x))*k)*c/(mu_0*omega)\n",
      "\n",
      "-Bz_1*kappa_zz_1*cos(kappa_zz_1*x) + Az_1*kappa_zz_1*sin(kappa_zz_1*x) + I*(Ax_1*cos(kappa_xx_1*x) + Bx_1*sin(kappa_xx_1*x))*k\n",
      "-Bz_1*kappa_zz_1*cos(kappa_zz_1*x) + Az_1*kappa_zz_1*sin(kappa_zz_1*x) + (I*Ax_1*cos(kappa_xx_1*x) + I*Bx_1*sin(kappa_xx_1*x))*k\n",
      "\n",
      "I*(Bz_1*kappa_zz_1*cos(kappa_zz_1*x) - Az_1*kappa_zz_1*sin(kappa_zz_1*x) - (I*Ax_1*cos(kappa_xx_1*x) + I*Bx_1*sin(kappa_xx_1*x))*k)*c/(mu_1*omega)\n",
      "\n"
     ]
    }
   ],
   "source": [
    "rot_E_y = []\n",
    "rotE_y = []\n",
    "Hy = []\n",
    "for i in range(n_layers):\n",
    "    rot_E_y += [lambda x, i=i : (I * k * Ex[i](x) - diff(Ez[i](x), x))]\n",
    "    exec (\"rotE_y += [lambda x, i=i :\"+ str(rot_E_y[i](x)) + \"]\")\n",
    "    Hy      += [lambda x, i=i : c / (mu[i] * I * omega) * rotE_y[i](x)]\n",
    "\n",
    "    print(rot_E_y[i](x))\n",
    "    print(rotE_y[i](x))\n",
    "    print(\"\")\n",
    "    print(Hy[i](x))\n",
    "    print(\"\")"
   ]
  },
  {
   "cell_type": "code",
   "execution_count": 10,
   "metadata": {},
   "outputs": [
    {
     "name": "stdout",
     "output_type": "stream",
     "text": [
      "(Bz_0*kappa_zz_0*cos(kappa_zz_0*x) - Az_0*kappa_zz_0*sin(kappa_zz_0*x) - (I*Ax_0*cos(kappa_xx_0*x) + I*Bx_0*sin(kappa_xx_0*x))*k)*c*k/(mu_0*omega)\n",
      "-I*(Az_0*kappa_zz_0^2*cos(kappa_zz_0*x) + Bz_0*kappa_zz_0^2*sin(kappa_zz_0*x) + (I*Bx_0*kappa_xx_0*cos(kappa_xx_0*x) - I*Ax_0*kappa_xx_0*sin(kappa_xx_0*x))*k)*c/(mu_0*omega)\n",
      "\n",
      "(Bz_1*kappa_zz_1*cos(kappa_zz_1*x) - Az_1*kappa_zz_1*sin(kappa_zz_1*x) - (I*Ax_1*cos(kappa_xx_1*x) + I*Bx_1*sin(kappa_xx_1*x))*k)*c*k/(mu_1*omega)\n",
      "-I*(Az_1*kappa_zz_1^2*cos(kappa_zz_1*x) + Bz_1*kappa_zz_1^2*sin(kappa_zz_1*x) + (I*Bx_1*kappa_xx_1*cos(kappa_xx_1*x) - I*Ax_1*kappa_xx_1*sin(kappa_xx_1*x))*k)*c/(mu_1*omega)\n",
      "\n"
     ]
    }
   ],
   "source": [
    "rot_H_x = []\n",
    "rot_H_z = []\n",
    "for i in range(n_layers):\n",
    "    rot_H_x += [lambda x, i=i : -I * k * Hy[i](x)]\n",
    "    rot_H_z += [lambda x, i=i : diff(Hy[i](x), x)]\n",
    "\n",
    "    print(rot_H_x[i](x))\n",
    "    print(rot_H_z[i](x))\n",
    "    print(\"\")"
   ]
  },
  {
   "cell_type": "code",
   "execution_count": 11,
   "metadata": {},
   "outputs": [
    {
     "name": "stdout",
     "output_type": "stream",
     "text": [
      "(Bz_0*kappa_zz_0*cos(kappa_zz_0*x) - Az_0*kappa_zz_0*sin(kappa_zz_0*x) - (I*Ax_0*cos(kappa_xx_0*x) + I*Bx_0*sin(kappa_xx_0*x))*k)*c*k/(mu_0*omega) == -I*(Ax_0*cos(kappa_xx_0*x) + Bx_0*sin(kappa_xx_0*x))*epsilon_xx_0*omega/c\n",
      "\n",
      "-I*(Az_0*kappa_zz_0^2*cos(kappa_zz_0*x) + Bz_0*kappa_zz_0^2*sin(kappa_zz_0*x) + (I*Bx_0*kappa_xx_0*cos(kappa_xx_0*x) - I*Ax_0*kappa_xx_0*sin(kappa_xx_0*x))*k)*c/(mu_0*omega) == -I*(Az_0*cos(kappa_zz_0*x) + Bz_0*sin(kappa_zz_0*x))*epsilon_zz_0*omega/c\n",
      "\n",
      "(Bz_1*kappa_zz_1*cos(kappa_zz_1*x) - Az_1*kappa_zz_1*sin(kappa_zz_1*x) - (I*Ax_1*cos(kappa_xx_1*x) + I*Bx_1*sin(kappa_xx_1*x))*k)*c*k/(mu_1*omega) == -I*(Ax_1*cos(kappa_xx_1*x) + Bx_1*sin(kappa_xx_1*x))*epsilon_xx_1*omega/c\n",
      "\n",
      "-I*(Az_1*kappa_zz_1^2*cos(kappa_zz_1*x) + Bz_1*kappa_zz_1^2*sin(kappa_zz_1*x) + (I*Bx_1*kappa_xx_1*cos(kappa_xx_1*x) - I*Ax_1*kappa_xx_1*sin(kappa_xx_1*x))*k)*c/(mu_1*omega) == -I*(Az_1*cos(kappa_zz_1*x) + Bz_1*sin(kappa_zz_1*x))*epsilon_zz_1*omega/c\n",
      "\n"
     ]
    }
   ],
   "source": [
    "# rot H = (1/c) * dD/dt\n",
    "eq_rot_H_x = []\n",
    "eq_rot_H_z = []\n",
    "for i in range(n_layers):\n",
    "    eq_rot_H_x += [rot_H_x[i](x) == (1/c) *(-I * omega) * epsilon_xx[i] * Ex[i](x)]\n",
    "    eq_rot_H_z += [rot_H_z[i](x) == (1/c) *(-I * omega) * epsilon_zz[i] * Ez[i](x)]\n",
    "\n",
    "    print(eq_rot_H_x[i])\n",
    "    print(\"\")\n",
    "    print(eq_rot_H_z[i])\n",
    "    print(\"\")"
   ]
  },
  {
   "cell_type": "code",
   "execution_count": 12,
   "metadata": {},
   "outputs": [
    {
     "name": "stdout",
     "output_type": "stream",
     "text": [
      "Az_0*cos(kappa_zz_0*x) + Bz_0*sin(kappa_zz_0*x)\n",
      "Az_0\n",
      "[Az_0 == 0.000000000000000, Az_1*cos(2*a*kappa_zz_1) + Bz_1*sin(2*a*kappa_zz_1) == 0.000000000000000]\n"
     ]
    }
   ],
   "source": [
    "# граничные условия\n",
    "# тангенциальная компонента электрического поля\n",
    "eq_Ez_superconductor_boundary_conditions = []\n",
    "eq_Ez_superconductor_boundary_conditions += [Ez[0](0) == 0.0]\n",
    "eq_Ez_superconductor_boundary_conditions += [Ez[n_layers - 1](a*n_layers) == 0.0]\n",
    "\n",
    "print (Ez[0](x))\n",
    "print (Ez[0](0))\n",
    "\n",
    "print(eq_Ez_superconductor_boundary_conditions)"
   ]
  },
  {
   "cell_type": "code",
   "execution_count": 13,
   "metadata": {},
   "outputs": [
    {
     "name": "stdout",
     "output_type": "stream",
     "text": [
      "Az_0*cos(a*kappa_zz_0) + Bz_0*sin(a*kappa_zz_0) == Az_1*cos(a*kappa_zz_1) + Bz_1*sin(a*kappa_zz_1)\n",
      "\n"
     ]
    }
   ],
   "source": [
    "# граничные условия на гринице диэлектрика и диэлектрика\n",
    "# тангенциальная компонента электрического поля\n",
    "eq_Ez_boundary_conditions = []\n",
    "for i in range(n_layers - 1):\n",
    "    eq_Ez_boundary_conditions += [Ez[i] (a*(i+1)) == Ez[i+1](a*(i+1))]\n",
    "\n",
    "    print (eq_Ez_boundary_conditions[i])\n",
    "    print(\"\")"
   ]
  },
  {
   "cell_type": "code",
   "execution_count": 14,
   "metadata": {},
   "outputs": [
    {
     "name": "stdout",
     "output_type": "stream",
     "text": [
      "(Ax_0*cos(a*kappa_xx_0) + Bx_0*sin(a*kappa_xx_0))*epsilon_xx_0 == (Ax_1*cos(a*kappa_xx_1) + Bx_1*sin(a*kappa_xx_1))*epsilon_xx_1\n",
      "\n"
     ]
    }
   ],
   "source": [
    "# граничные условия на гринице диэлектрика и диэлектрика\n",
    "# нормальная компонента электрического смещения\n",
    "eq_Ex_boundary_conditions = []\n",
    "for i in range(n_layers - 1):\n",
    "    eq_Ex_boundary_conditions += [epsilon_xx[i] * Ex[i](a*(i+1)) == epsilon_xx[i+1] * Ex[i+1](a*(i+1))]\n",
    "\n",
    "    print (eq_Ex_boundary_conditions[i])\n",
    "    print(\"\")"
   ]
  },
  {
   "cell_type": "code",
   "execution_count": 15,
   "metadata": {},
   "outputs": [
    {
     "name": "stdout",
     "output_type": "stream",
     "text": [
      "I*(Bz_0*kappa_zz_0*cos(a*kappa_zz_0) - Az_0*kappa_zz_0*sin(a*kappa_zz_0) - (I*Ax_0*cos(a*kappa_xx_0) + I*Bx_0*sin(a*kappa_xx_0))*k)*c/(mu_0*omega) == I*(Bz_1*kappa_zz_1*cos(a*kappa_zz_1) - Az_1*kappa_zz_1*sin(a*kappa_zz_1) - (I*Ax_1*cos(a*kappa_xx_1) + I*Bx_1*sin(a*kappa_xx_1))*k)*c/(mu_1*omega)\n",
      "\n"
     ]
    }
   ],
   "source": [
    "# граничные условия на гринице диэлектрика и диэлектрика\n",
    "# тангенциальная компонента поля H\n",
    "eq_Hy_boundary_conditions = []\n",
    "for i in range(n_layers - 1):\n",
    "    eq_Hy_boundary_conditions += [Hy[i] (a*(i+1)) == Hy[i+1](a*(i+1))]\n",
    "\n",
    "    print (eq_Hy_boundary_conditions[i])\n",
    "    print(\"\")"
   ]
  },
  {
   "cell_type": "code",
   "execution_count": 16,
   "metadata": {},
   "outputs": [],
   "source": [
    "def GenerateMatrix(equsys, vars):\n",
    "    A=matrix(SR, [[(equ.lhs() - equ.rhs()).coefficient(v) for v in vars] for equ in equsys])\n",
    "    return A\n",
    "\n",
    "def GenerateMatrixMult(equsys, vars):\n",
    "    A=matrix(SR, [[(equ.lhs() - equ.rhs()).coefficient(v) * v for v in vars] for equ in equsys])\n",
    "    return A\n",
    "\n",
    "def reduceDependedRows(M):\n",
    "    print (\"\")\n",
    "    print (\"M.nrows()\", M.nrows())\n",
    "    print (\"M.ncols()\", M.ncols())\n",
    "    print (\"M.rank()\", M.rank())\n",
    "\n",
    "    M_pivot_rows = M.pivot_rows()\n",
    "    print (\"M.pivot_rows() =\", M_pivot_rows)\n",
    "\n",
    "    M_rows = M.rows()\n",
    "    for row in M_rows:\n",
    "        print (\"row =\", row)\n",
    "\n",
    "    reduced_list = []\n",
    "    for r in M_pivot_rows:\n",
    "        print (\"M_rows[\", r, \"] =\", M_rows[r])\n",
    "        reduced_list.append(M_rows[r])\n",
    "\n",
    "    reduced_M = matrix(SR, len(M_pivot_rows), M.ncols(), reduced_list)\n",
    "    reduced_M_det = reduced_M.det()\n",
    "    print (\"\")\n",
    "    print(\"reduced_M.det() =\", reduced_M_det)\n",
    "    return reduced_M"
   ]
  },
  {
   "cell_type": "code",
   "execution_count": 17,
   "metadata": {},
   "outputs": [],
   "source": [
    "def rot_H_solve(M_rotH, vars, eq_kappa, kappa):\n",
    "    x = vector(SR, vars)\n",
    "    y = vector(SR, [0, 0])\n",
    "    eqns = [(M_rotH*x)[index] == y[index] for index in [0,1]]\n",
    "    print(eqns)\n",
    "    res = []\n",
    "\n",
    "    for index in [0,1]:\n",
    "        eq = eqns[index]\n",
    "        # print(eq)\n",
    "        sol = solve(eq, vars[0])\n",
    "        print(\"sol=\", sol[0])\n",
    "        # print(solve(eq, vars[1]))\n",
    "        print(\"eq_kappa =\", eq_kappa)\n",
    "        sol_kappa_2 = solve(eq_kappa, kappa^2)\n",
    "        print(\"sol_kappa_2[0].rhs()=\", sol_kappa_2[0].rhs())\n",
    "        print(\"\")\n",
    "        s = sol[0].rhs().collect(vars[1])\n",
    "        ans1 = s.subs(sol_kappa_2[0].rhs()*c^2==sol_kappa_2[0].lhs()*c^2)\n",
    "        ans2 = s.subs(-sol_kappa_2[0].rhs()*c^2==-sol_kappa_2[0].lhs()*c^2)\n",
    "\n",
    "        ans = ans1\n",
    "        if ans1.number_of_operands() > ans2.number_of_operands():\n",
    "            ans = ans2\n",
    "        print(ans)\n",
    "        if omega in ans.arguments():\n",
    "            print(ans.arguments())\n",
    "            sol_omega_2 = solve(eq_kappa, omega^2)\n",
    "            print(\"sol_omega_2 =\", sol_omega_2[0].rhs())\n",
    "            som = ans.subs(omega^2 == sol_omega_2[0].rhs())\n",
    "            print(\"som =\", som)\n",
    "            som = som.full_simplify()\n",
    "            print(\"som =\", som)\n",
    "            res.append(vars[0] == som)\n",
    "        else:\n",
    "            res.append(vars[0] == ans)\n",
    "\n",
    "        print(\"\")\n",
    "    return res"
   ]
  },
  {
   "cell_type": "code",
   "execution_count": 18,
   "metadata": {},
   "outputs": [
    {
     "name": "stdout",
     "output_type": "stream",
     "text": [
      "-I*(Bz_0*kappa_zz_0*cos(kappa_zz_0*x) - Az_0*kappa_zz_0*sin(kappa_zz_0*x) - (I*Ax_0*cos(kappa_xx_0*x) + I*Bx_0*sin(kappa_xx_0*x))*k)*k/mu_0 == -(Ax_0*cos(kappa_xx_0*x) + Bx_0*sin(kappa_xx_0*x))*epsilon_xx_0*omega^2/c^2\n",
      "\n",
      "-(Az_0*kappa_zz_0^2*cos(kappa_zz_0*x) + Bz_0*kappa_zz_0^2*sin(kappa_zz_0*x) + (I*Bx_0*kappa_xx_0*cos(kappa_xx_0*x) - I*Ax_0*kappa_xx_0*sin(kappa_xx_0*x))*k)/mu_0 == -(Az_0*cos(kappa_zz_0*x) + Bz_0*sin(kappa_zz_0*x))*epsilon_zz_0*omega^2/c^2\n",
      "\n",
      "-I*(Bz_1*kappa_zz_1*cos(kappa_zz_1*x) - Az_1*kappa_zz_1*sin(kappa_zz_1*x) - (I*Ax_1*cos(kappa_xx_1*x) + I*Bx_1*sin(kappa_xx_1*x))*k)*k/mu_1 == -(Ax_1*cos(kappa_xx_1*x) + Bx_1*sin(kappa_xx_1*x))*epsilon_xx_1*omega^2/c^2\n",
      "\n",
      "-(Az_1*kappa_zz_1^2*cos(kappa_zz_1*x) + Bz_1*kappa_zz_1^2*sin(kappa_zz_1*x) + (I*Bx_1*kappa_xx_1*cos(kappa_xx_1*x) - I*Ax_1*kappa_xx_1*sin(kappa_xx_1*x))*k)/mu_1 == -(Az_1*cos(kappa_zz_1*x) + Bz_1*sin(kappa_zz_1*x))*epsilon_zz_1*omega^2/c^2\n",
      "\n"
     ]
    }
   ],
   "source": [
    "eqsys_rotH_ = []\n",
    "for i in range(n_layers):\n",
    "    eqsys_rotH_ += [eq_rot_H_x[i]*(-I)*omega/c,\n",
    "                    eq_rot_H_z[i]*(-I)*omega/c,\n",
    "                   ]\n",
    "    print(eqsys_rotH_[2*i])\n",
    "    print(\"\")\n",
    "    print(eqsys_rotH_[2*i + 1])\n",
    "    print(\"\")"
   ]
  },
  {
   "cell_type": "code",
   "execution_count": 19,
   "metadata": {},
   "outputs": [
    {
     "name": "stdout",
     "output_type": "stream",
     "text": [
      "[-(Ax_0*k^2*cos(kappa_xx_0*x) + I*Bz_0*k*kappa_zz_0*cos(kappa_zz_0*x) + Bx_0*k^2*sin(kappa_xx_0*x) - I*Az_0*k*kappa_zz_0*sin(kappa_zz_0*x))/mu_0 == -((Ax_0*k^2 + Ax_0*kappa_xx_0^2)*cos(kappa_xx_0*x) + (Bx_0*k^2 + Bx_0*kappa_xx_0^2)*sin(kappa_xx_0*x))/mu_0, (-I*Bx_0*k*kappa_xx_0*cos(kappa_xx_0*x) - Az_0*kappa_zz_0^2*cos(kappa_zz_0*x) + I*Ax_0*k*kappa_xx_0*sin(kappa_xx_0*x) - Bz_0*kappa_zz_0^2*sin(kappa_zz_0*x))/mu_0 == -((Az_0*k^2 + Az_0*kappa_zz_0^2)*cos(kappa_zz_0*x) + (Bz_0*k^2 + Bz_0*kappa_zz_0^2)*sin(kappa_zz_0*x))/mu_0, -(Ax_1*k^2*cos(kappa_xx_1*x) + I*Bz_1*k*kappa_zz_1*cos(kappa_zz_1*x) + Bx_1*k^2*sin(kappa_xx_1*x) - I*Az_1*k*kappa_zz_1*sin(kappa_zz_1*x))/mu_1 == -((Ax_1*k^2 + Ax_1*kappa_xx_1^2)*cos(kappa_xx_1*x) + (Bx_1*k^2 + Bx_1*kappa_xx_1^2)*sin(kappa_xx_1*x))/mu_1, (-I*Bx_1*k*kappa_xx_1*cos(kappa_xx_1*x) - Az_1*kappa_zz_1^2*cos(kappa_zz_1*x) + I*Ax_1*k*kappa_xx_1*sin(kappa_xx_1*x) - Bz_1*kappa_zz_1^2*sin(kappa_zz_1*x))/mu_1 == -((Az_1*k^2 + Az_1*kappa_zz_1^2)*cos(kappa_zz_1*x) + (Bz_1*k^2 + Bz_1*kappa_zz_1^2)*sin(kappa_zz_1*x))/mu_1]\n"
     ]
    }
   ],
   "source": [
    "eqsys_rotH = []\n",
    "for i in range(n_layers):\n",
    "    sol_omega_2_xx = solve(eq_kappa_xx[i], omega^2)\n",
    "    sol_omega_2_zz = solve(eq_kappa_zz[i], omega^2)\n",
    "    eqsys_rotH += [(eq_rot_H_x[i]*(-I)*omega/c).subs(omega^2 == sol_omega_2_xx[0].rhs()).full_simplify(),\n",
    "                   (eq_rot_H_z[i]*(-I)*omega/c).subs(omega^2 == sol_omega_2_zz[0].rhs()).full_simplify(),\n",
    "                  ]\n",
    "print(eqsys_rotH)\n"
   ]
  },
  {
   "cell_type": "code",
   "execution_count": 20,
   "metadata": {},
   "outputs": [
    {
     "data": {
      "text/plain": [
       "[omega^2 == (c^2*k^2 + c^2*kappa_xx_0^2)/(epsilon_xx_0*mu_0)]"
      ]
     },
     "execution_count": 20,
     "metadata": {},
     "output_type": "execute_result"
    }
   ],
   "source": [
    "sol_omega_2 = solve(eq_kappa_xx[0], omega^2)\n",
    "sol_omega_2"
   ]
  },
  {
   "cell_type": "code",
   "execution_count": 21,
   "metadata": {},
   "outputs": [
    {
     "data": {
      "text/plain": [
       "[Ax_0, Ax_1, Az_0, Az_1, Bx_0, Bx_1, Bz_0, Bz_1]"
      ]
     },
     "execution_count": 21,
     "metadata": {},
     "output_type": "execute_result"
    }
   ],
   "source": [
    "vars = Ax + Az + Bx + Bz\n",
    "vars"
   ]
  },
  {
   "cell_type": "code",
   "execution_count": 22,
   "metadata": {},
   "outputs": [
    {
     "data": {
      "text/plain": [
       "[Az_0 == 0.000000000000000,\n",
       " Az_1*cos(2*a*kappa_zz_1) + Bz_1*sin(2*a*kappa_zz_1) == 0.000000000000000,\n",
       " Az_0*cos(a*kappa_zz_0) + Bz_0*sin(a*kappa_zz_0) == Az_1*cos(a*kappa_zz_1) + Bz_1*sin(a*kappa_zz_1),\n",
       " (Ax_0*cos(a*kappa_xx_0) + Bx_0*sin(a*kappa_xx_0))*epsilon_xx_0 == (Ax_1*cos(a*kappa_xx_1) + Bx_1*sin(a*kappa_xx_1))*epsilon_xx_1,\n",
       " I*(Bz_0*kappa_zz_0*cos(a*kappa_zz_0) - Az_0*kappa_zz_0*sin(a*kappa_zz_0) - (I*Ax_0*cos(a*kappa_xx_0) + I*Bx_0*sin(a*kappa_xx_0))*k)*c/(mu_0*omega) == I*(Bz_1*kappa_zz_1*cos(a*kappa_zz_1) - Az_1*kappa_zz_1*sin(a*kappa_zz_1) - (I*Ax_1*cos(a*kappa_xx_1) + I*Bx_1*sin(a*kappa_xx_1))*k)*c/(mu_1*omega),\n",
       " -(Ax_0*k^2*cos(kappa_xx_0*x) + I*Bz_0*k*kappa_zz_0*cos(kappa_zz_0*x) + Bx_0*k^2*sin(kappa_xx_0*x) - I*Az_0*k*kappa_zz_0*sin(kappa_zz_0*x))/mu_0 == -((Ax_0*k^2 + Ax_0*kappa_xx_0^2)*cos(kappa_xx_0*x) + (Bx_0*k^2 + Bx_0*kappa_xx_0^2)*sin(kappa_xx_0*x))/mu_0,\n",
       " (-I*Bx_0*k*kappa_xx_0*cos(kappa_xx_0*x) - Az_0*kappa_zz_0^2*cos(kappa_zz_0*x) + I*Ax_0*k*kappa_xx_0*sin(kappa_xx_0*x) - Bz_0*kappa_zz_0^2*sin(kappa_zz_0*x))/mu_0 == -((Az_0*k^2 + Az_0*kappa_zz_0^2)*cos(kappa_zz_0*x) + (Bz_0*k^2 + Bz_0*kappa_zz_0^2)*sin(kappa_zz_0*x))/mu_0,\n",
       " -(Ax_1*k^2*cos(kappa_xx_1*x) + I*Bz_1*k*kappa_zz_1*cos(kappa_zz_1*x) + Bx_1*k^2*sin(kappa_xx_1*x) - I*Az_1*k*kappa_zz_1*sin(kappa_zz_1*x))/mu_1 == -((Ax_1*k^2 + Ax_1*kappa_xx_1^2)*cos(kappa_xx_1*x) + (Bx_1*k^2 + Bx_1*kappa_xx_1^2)*sin(kappa_xx_1*x))/mu_1,\n",
       " (-I*Bx_1*k*kappa_xx_1*cos(kappa_xx_1*x) - Az_1*kappa_zz_1^2*cos(kappa_zz_1*x) + I*Ax_1*k*kappa_xx_1*sin(kappa_xx_1*x) - Bz_1*kappa_zz_1^2*sin(kappa_zz_1*x))/mu_1 == -((Az_1*k^2 + Az_1*kappa_zz_1^2)*cos(kappa_zz_1*x) + (Bz_1*k^2 + Bz_1*kappa_zz_1^2)*sin(kappa_zz_1*x))/mu_1]"
      ]
     },
     "execution_count": 22,
     "metadata": {},
     "output_type": "execute_result"
    }
   ],
   "source": [
    "all_eqs = eq_Ez_superconductor_boundary_conditions + eq_Ez_boundary_conditions + eq_Ex_boundary_conditions + eq_Hy_boundary_conditions + eqsys_rotH\n",
    "all_eqs"
   ]
  },
  {
   "cell_type": "code",
   "execution_count": 23,
   "metadata": {},
   "outputs": [
    {
     "data": {
      "text/plain": [
       "9"
      ]
     },
     "execution_count": 23,
     "metadata": {},
     "output_type": "execute_result"
    }
   ],
   "source": [
    "len(all_eqs)"
   ]
  },
  {
   "cell_type": "code",
   "execution_count": 24,
   "metadata": {},
   "outputs": [
    {
     "name": "stdout",
     "output_type": "stream",
     "text": [
      "\n",
      "\n",
      "M =\n",
      "[                                                                                 0                                                                                  0                                                                                  1                                                                                  0                                                                                  0                                                                                  0                                                                                  0                                                                                  0]\n",
      "[                                                                                 0                                                                                  0                                                                                  0                                                                cos(2*a*kappa_zz_1)                                                                                  0                                                                                  0                                                                                  0                                                                sin(2*a*kappa_zz_1)]\n",
      "[                                                                                 0                                                                                  0                                                                  cos(a*kappa_zz_0)                                                                 -cos(a*kappa_zz_1)                                                                                  0                                                                                  0                                                                  sin(a*kappa_zz_0)                                                                 -sin(a*kappa_zz_1)]\n",
      "[                                                    epsilon_xx_0*cos(a*kappa_xx_0)                                                    -epsilon_xx_1*cos(a*kappa_xx_1)                                                                                  0                                                                                  0                                                     epsilon_xx_0*sin(a*kappa_xx_0)                                                    -epsilon_xx_1*sin(a*kappa_xx_1)                                                                                  0                                                                                  0]\n",
      "[                                                c*k*cos(a*kappa_xx_0)/(mu_0*omega)                                                -c*k*cos(a*kappa_xx_1)/(mu_1*omega)                                     -I*c*kappa_zz_0*sin(a*kappa_zz_0)/(mu_0*omega)                                      I*c*kappa_zz_1*sin(a*kappa_zz_1)/(mu_1*omega)                                                 c*k*sin(a*kappa_xx_0)/(mu_0*omega)                                                -c*k*sin(a*kappa_xx_1)/(mu_1*omega)                                      I*c*kappa_zz_0*cos(a*kappa_zz_0)/(mu_0*omega)                                     -I*c*kappa_zz_1*cos(a*kappa_zz_1)/(mu_1*omega)]\n",
      "[         -k^2*cos(kappa_xx_0*x)/mu_0 + (k^2 + kappa_xx_0^2)*cos(kappa_xx_0*x)/mu_0                                                                                  0                                              I*k*kappa_zz_0*sin(kappa_zz_0*x)/mu_0                                                                                  0          -k^2*sin(kappa_xx_0*x)/mu_0 + (k^2 + kappa_xx_0^2)*sin(kappa_xx_0*x)/mu_0                                                                                  0                                             -I*k*kappa_zz_0*cos(kappa_zz_0*x)/mu_0                                                                                  0]\n",
      "[                                             I*k*kappa_xx_0*sin(kappa_xx_0*x)/mu_0                                                                                  0 -kappa_zz_0^2*cos(kappa_zz_0*x)/mu_0 + (k^2 + kappa_zz_0^2)*cos(kappa_zz_0*x)/mu_0                                                                                  0                                             -I*k*kappa_xx_0*cos(kappa_xx_0*x)/mu_0                                                                                  0 -kappa_zz_0^2*sin(kappa_zz_0*x)/mu_0 + (k^2 + kappa_zz_0^2)*sin(kappa_zz_0*x)/mu_0                                                                                  0]\n",
      "[                                                                                 0          -k^2*cos(kappa_xx_1*x)/mu_1 + (k^2 + kappa_xx_1^2)*cos(kappa_xx_1*x)/mu_1                                                                                  0                                              I*k*kappa_zz_1*sin(kappa_zz_1*x)/mu_1                                                                                  0          -k^2*sin(kappa_xx_1*x)/mu_1 + (k^2 + kappa_xx_1^2)*sin(kappa_xx_1*x)/mu_1                                                                                  0                                             -I*k*kappa_zz_1*cos(kappa_zz_1*x)/mu_1]\n",
      "[                                                                                 0                                              I*k*kappa_xx_1*sin(kappa_xx_1*x)/mu_1                                                                                  0 -kappa_zz_1^2*cos(kappa_zz_1*x)/mu_1 + (k^2 + kappa_zz_1^2)*cos(kappa_zz_1*x)/mu_1                                                                                  0                                             -I*k*kappa_xx_1*cos(kappa_xx_1*x)/mu_1                                                                                  0 -kappa_zz_1^2*sin(kappa_zz_1*x)/mu_1 + (k^2 + kappa_zz_1^2)*sin(kappa_zz_1*x)/mu_1]\n",
      "\n",
      "\n",
      "M.nrows() 9\n",
      "M.ncols() 8\n",
      "M.rank() 8\n",
      "M.pivot_rows() = (0, 1, 2, 3, 4, 5, 6, 7)\n",
      "row = (0, 0, 1, 0, 0, 0, 0, 0)\n",
      "row = (0, 0, 0, cos(2*a*kappa_zz_1), 0, 0, 0, sin(2*a*kappa_zz_1))\n",
      "row = (0, 0, cos(a*kappa_zz_0), -cos(a*kappa_zz_1), 0, 0, sin(a*kappa_zz_0), -sin(a*kappa_zz_1))\n",
      "row = (epsilon_xx_0*cos(a*kappa_xx_0), -epsilon_xx_1*cos(a*kappa_xx_1), 0, 0, epsilon_xx_0*sin(a*kappa_xx_0), -epsilon_xx_1*sin(a*kappa_xx_1), 0, 0)\n",
      "row = (c*k*cos(a*kappa_xx_0)/(mu_0*omega), -c*k*cos(a*kappa_xx_1)/(mu_1*omega), -I*c*kappa_zz_0*sin(a*kappa_zz_0)/(mu_0*omega), I*c*kappa_zz_1*sin(a*kappa_zz_1)/(mu_1*omega), c*k*sin(a*kappa_xx_0)/(mu_0*omega), -c*k*sin(a*kappa_xx_1)/(mu_1*omega), I*c*kappa_zz_0*cos(a*kappa_zz_0)/(mu_0*omega), -I*c*kappa_zz_1*cos(a*kappa_zz_1)/(mu_1*omega))\n",
      "row = (-k^2*cos(kappa_xx_0*x)/mu_0 + (k^2 + kappa_xx_0^2)*cos(kappa_xx_0*x)/mu_0, 0, I*k*kappa_zz_0*sin(kappa_zz_0*x)/mu_0, 0, -k^2*sin(kappa_xx_0*x)/mu_0 + (k^2 + kappa_xx_0^2)*sin(kappa_xx_0*x)/mu_0, 0, -I*k*kappa_zz_0*cos(kappa_zz_0*x)/mu_0, 0)\n",
      "row = (I*k*kappa_xx_0*sin(kappa_xx_0*x)/mu_0, 0, -kappa_zz_0^2*cos(kappa_zz_0*x)/mu_0 + (k^2 + kappa_zz_0^2)*cos(kappa_zz_0*x)/mu_0, 0, -I*k*kappa_xx_0*cos(kappa_xx_0*x)/mu_0, 0, -kappa_zz_0^2*sin(kappa_zz_0*x)/mu_0 + (k^2 + kappa_zz_0^2)*sin(kappa_zz_0*x)/mu_0, 0)\n",
      "row = (0, -k^2*cos(kappa_xx_1*x)/mu_1 + (k^2 + kappa_xx_1^2)*cos(kappa_xx_1*x)/mu_1, 0, I*k*kappa_zz_1*sin(kappa_zz_1*x)/mu_1, 0, -k^2*sin(kappa_xx_1*x)/mu_1 + (k^2 + kappa_xx_1^2)*sin(kappa_xx_1*x)/mu_1, 0, -I*k*kappa_zz_1*cos(kappa_zz_1*x)/mu_1)\n",
      "row = (0, I*k*kappa_xx_1*sin(kappa_xx_1*x)/mu_1, 0, -kappa_zz_1^2*cos(kappa_zz_1*x)/mu_1 + (k^2 + kappa_zz_1^2)*cos(kappa_zz_1*x)/mu_1, 0, -I*k*kappa_xx_1*cos(kappa_xx_1*x)/mu_1, 0, -kappa_zz_1^2*sin(kappa_zz_1*x)/mu_1 + (k^2 + kappa_zz_1^2)*sin(kappa_zz_1*x)/mu_1)\n",
      "M_rows[ 0 ] = (0, 0, 1, 0, 0, 0, 0, 0)\n",
      "M_rows[ 1 ] = (0, 0, 0, cos(2*a*kappa_zz_1), 0, 0, 0, sin(2*a*kappa_zz_1))\n",
      "M_rows[ 2 ] = (0, 0, cos(a*kappa_zz_0), -cos(a*kappa_zz_1), 0, 0, sin(a*kappa_zz_0), -sin(a*kappa_zz_1))\n",
      "M_rows[ 3 ] = (epsilon_xx_0*cos(a*kappa_xx_0), -epsilon_xx_1*cos(a*kappa_xx_1), 0, 0, epsilon_xx_0*sin(a*kappa_xx_0), -epsilon_xx_1*sin(a*kappa_xx_1), 0, 0)\n",
      "M_rows[ 4 ] = (c*k*cos(a*kappa_xx_0)/(mu_0*omega), -c*k*cos(a*kappa_xx_1)/(mu_1*omega), -I*c*kappa_zz_0*sin(a*kappa_zz_0)/(mu_0*omega), I*c*kappa_zz_1*sin(a*kappa_zz_1)/(mu_1*omega), c*k*sin(a*kappa_xx_0)/(mu_0*omega), -c*k*sin(a*kappa_xx_1)/(mu_1*omega), I*c*kappa_zz_0*cos(a*kappa_zz_0)/(mu_0*omega), -I*c*kappa_zz_1*cos(a*kappa_zz_1)/(mu_1*omega))\n",
      "M_rows[ 5 ] = (-k^2*cos(kappa_xx_0*x)/mu_0 + (k^2 + kappa_xx_0^2)*cos(kappa_xx_0*x)/mu_0, 0, I*k*kappa_zz_0*sin(kappa_zz_0*x)/mu_0, 0, -k^2*sin(kappa_xx_0*x)/mu_0 + (k^2 + kappa_xx_0^2)*sin(kappa_xx_0*x)/mu_0, 0, -I*k*kappa_zz_0*cos(kappa_zz_0*x)/mu_0, 0)\n",
      "M_rows[ 6 ] = (I*k*kappa_xx_0*sin(kappa_xx_0*x)/mu_0, 0, -kappa_zz_0^2*cos(kappa_zz_0*x)/mu_0 + (k^2 + kappa_zz_0^2)*cos(kappa_zz_0*x)/mu_0, 0, -I*k*kappa_xx_0*cos(kappa_xx_0*x)/mu_0, 0, -kappa_zz_0^2*sin(kappa_zz_0*x)/mu_0 + (k^2 + kappa_zz_0^2)*sin(kappa_zz_0*x)/mu_0, 0)\n",
      "M_rows[ 7 ] = (0, -k^2*cos(kappa_xx_1*x)/mu_1 + (k^2 + kappa_xx_1^2)*cos(kappa_xx_1*x)/mu_1, 0, I*k*kappa_zz_1*sin(kappa_zz_1*x)/mu_1, 0, -k^2*sin(kappa_xx_1*x)/mu_1 + (k^2 + kappa_xx_1^2)*sin(kappa_xx_1*x)/mu_1, 0, -I*k*kappa_zz_1*cos(kappa_zz_1*x)/mu_1)\n"
     ]
    },
    {
     "name": "stdout",
     "output_type": "stream",
     "text": [
      "\n",
      "reduced_M.det() = -c*epsilon_xx_1*k*kappa_xx_0^3*kappa_xx_1^2*kappa_zz_1*cos(2*a*kappa_zz_1)*cos(a*kappa_zz_1)*cos(kappa_xx_0*x)^2*cos(kappa_xx_1*x)*sin(a*kappa_xx_1)*sin(a*kappa_zz_0)/(mu_0^2*mu_1^2*omega) - c*epsilon_xx_1*k*kappa_xx_0^3*kappa_xx_1^2*kappa_zz_0*cos(a*kappa_zz_0)*cos(a*kappa_zz_1)*cos(kappa_xx_0*x)^2*cos(kappa_xx_1*x)*sin(a*kappa_xx_1)*sin(2*a*kappa_zz_1)/(mu_0^3*mu_1*omega) + c*epsilon_xx_0*k^3*kappa_xx_0*kappa_xx_1^2*kappa_zz_0*cos(a*kappa_xx_0)*cos(a*kappa_zz_1)*cos(kappa_xx_0*x)*cos(kappa_xx_1*x)*cos(kappa_zz_0*x)*sin(a*kappa_xx_1)*sin(2*a*kappa_zz_1)/(mu_0^2*mu_1^2*omega) - c*epsilon_xx_1*k^3*kappa_xx_0*kappa_xx_1^2*kappa_zz_0*cos(a*kappa_xx_0)*cos(a*kappa_zz_1)*cos(kappa_xx_0*x)*cos(kappa_xx_1*x)*cos(kappa_zz_0*x)*sin(a*kappa_xx_1)*sin(2*a*kappa_zz_1)/(mu_0^3*mu_1*omega) + c*epsilon_xx_1*k*kappa_xx_0^3*kappa_xx_1^2*kappa_zz_0*cos(a*kappa_zz_0)*cos(2*a*kappa_zz_1)*cos(kappa_xx_0*x)^2*cos(kappa_xx_1*x)*sin(a*kappa_xx_1)*sin(a*kappa_zz_1)/(mu_0^3*mu_1*omega) - c*epsilon_xx_0*k^3*kappa_xx_0*kappa_xx_1^2*kappa_zz_0*cos(a*kappa_xx_0)*cos(2*a*kappa_zz_1)*cos(kappa_xx_0*x)*cos(kappa_xx_1*x)*cos(kappa_zz_0*x)*sin(a*kappa_xx_1)*sin(a*kappa_zz_1)/(mu_0^2*mu_1^2*omega) + c*epsilon_xx_1*k^3*kappa_xx_0*kappa_xx_1^2*kappa_zz_0*cos(a*kappa_xx_0)*cos(2*a*kappa_zz_1)*cos(kappa_xx_0*x)*cos(kappa_xx_1*x)*cos(kappa_zz_0*x)*sin(a*kappa_xx_1)*sin(a*kappa_zz_1)/(mu_0^3*mu_1*omega) - c*epsilon_xx_1*k*kappa_xx_0^3*kappa_xx_1^2*kappa_zz_1*cos(kappa_xx_0*x)^2*cos(kappa_xx_1*x)*sin(a*kappa_xx_1)*sin(a*kappa_zz_0)*sin(2*a*kappa_zz_1)*sin(a*kappa_zz_1)/(mu_0^2*mu_1^2*omega) + c*epsilon_xx_0*k^3*kappa_xx_0*kappa_xx_1^2*kappa_zz_0*cos(a*kappa_zz_1)*cos(kappa_xx_1*x)*cos(kappa_zz_0*x)*sin(a*kappa_xx_0)*sin(a*kappa_xx_1)*sin(2*a*kappa_zz_1)*sin(kappa_xx_0*x)/(mu_0^2*mu_1^2*omega) - c*epsilon_xx_1*k^3*kappa_xx_0*kappa_xx_1^2*kappa_zz_0*cos(a*kappa_zz_1)*cos(kappa_xx_1*x)*cos(kappa_zz_0*x)*sin(a*kappa_xx_0)*sin(a*kappa_xx_1)*sin(2*a*kappa_zz_1)*sin(kappa_xx_0*x)/(mu_0^3*mu_1*omega) - c*epsilon_xx_0*k^3*kappa_xx_0*kappa_xx_1^2*kappa_zz_0*cos(2*a*kappa_zz_1)*cos(kappa_xx_1*x)*cos(kappa_zz_0*x)*sin(a*kappa_xx_0)*sin(a*kappa_xx_1)*sin(a*kappa_zz_1)*sin(kappa_xx_0*x)/(mu_0^2*mu_1^2*omega) + c*epsilon_xx_1*k^3*kappa_xx_0*kappa_xx_1^2*kappa_zz_0*cos(2*a*kappa_zz_1)*cos(kappa_xx_1*x)*cos(kappa_zz_0*x)*sin(a*kappa_xx_0)*sin(a*kappa_xx_1)*sin(a*kappa_zz_1)*sin(kappa_xx_0*x)/(mu_0^3*mu_1*omega) - c*epsilon_xx_1*k*kappa_xx_0^3*kappa_xx_1^2*kappa_zz_1*cos(2*a*kappa_zz_1)*cos(a*kappa_zz_1)*cos(kappa_xx_1*x)*sin(a*kappa_xx_1)*sin(a*kappa_zz_0)*sin(kappa_xx_0*x)^2/(mu_0^2*mu_1^2*omega) - c*epsilon_xx_1*k*kappa_xx_0^3*kappa_xx_1^2*kappa_zz_0*cos(a*kappa_zz_0)*cos(a*kappa_zz_1)*cos(kappa_xx_1*x)*sin(a*kappa_xx_1)*sin(2*a*kappa_zz_1)*sin(kappa_xx_0*x)^2/(mu_0^3*mu_1*omega) + c*epsilon_xx_1*k*kappa_xx_0^3*kappa_xx_1^2*kappa_zz_0*cos(a*kappa_zz_0)*cos(2*a*kappa_zz_1)*cos(kappa_xx_1*x)*sin(a*kappa_xx_1)*sin(a*kappa_zz_1)*sin(kappa_xx_0*x)^2/(mu_0^3*mu_1*omega) - c*epsilon_xx_1*k*kappa_xx_0^3*kappa_xx_1^2*kappa_zz_1*cos(kappa_xx_1*x)*sin(a*kappa_xx_1)*sin(a*kappa_zz_0)*sin(2*a*kappa_zz_1)*sin(a*kappa_zz_1)*sin(kappa_xx_0*x)^2/(mu_0^2*mu_1^2*omega) + c*epsilon_xx_1*k*kappa_xx_0^3*kappa_xx_1^2*kappa_zz_1*cos(a*kappa_xx_1)*cos(2*a*kappa_zz_1)*cos(a*kappa_zz_1)*cos(kappa_xx_0*x)^2*sin(a*kappa_zz_0)*sin(kappa_xx_1*x)/(mu_0^2*mu_1^2*omega) + c*epsilon_xx_1*k*kappa_xx_0^3*kappa_xx_1^2*kappa_zz_0*cos(a*kappa_xx_1)*cos(a*kappa_zz_0)*cos(a*kappa_zz_1)*cos(kappa_xx_0*x)^2*sin(2*a*kappa_zz_1)*sin(kappa_xx_1*x)/(mu_0^3*mu_1*omega) - c*epsilon_xx_0*k^3*kappa_xx_0*kappa_xx_1^2*kappa_zz_0*cos(a*kappa_xx_0)*cos(a*kappa_xx_1)*cos(a*kappa_zz_1)*cos(kappa_xx_0*x)*cos(kappa_zz_0*x)*sin(2*a*kappa_zz_1)*sin(kappa_xx_1*x)/(mu_0^2*mu_1^2*omega) + c*epsilon_xx_1*k^3*kappa_xx_0*kappa_xx_1^2*kappa_zz_0*cos(a*kappa_xx_0)*cos(a*kappa_xx_1)*cos(a*kappa_zz_1)*cos(kappa_xx_0*x)*cos(kappa_zz_0*x)*sin(2*a*kappa_zz_1)*sin(kappa_xx_1*x)/(mu_0^3*mu_1*omega) - c*epsilon_xx_1*k*kappa_xx_0^3*kappa_xx_1^2*kappa_zz_0*cos(a*kappa_xx_1)*cos(a*kappa_zz_0)*cos(2*a*kappa_zz_1)*cos(kappa_xx_0*x)^2*sin(a*kappa_zz_1)*sin(kappa_xx_1*x)/(mu_0^3*mu_1*omega) + c*epsilon_xx_0*k^3*kappa_xx_0*kappa_xx_1^2*kappa_zz_0*cos(a*kappa_xx_0)*cos(a*kappa_xx_1)*cos(2*a*kappa_zz_1)*cos(kappa_xx_0*x)*cos(kappa_zz_0*x)*sin(a*kappa_zz_1)*sin(kappa_xx_1*x)/(mu_0^2*mu_1^2*omega) - c*epsilon_xx_1*k^3*kappa_xx_0*kappa_xx_1^2*kappa_zz_0*cos(a*kappa_xx_0)*cos(a*kappa_xx_1)*cos(2*a*kappa_zz_1)*cos(kappa_xx_0*x)*cos(kappa_zz_0*x)*sin(a*kappa_zz_1)*sin(kappa_xx_1*x)/(mu_0^3*mu_1*omega) + c*epsilon_xx_1*k*kappa_xx_0^3*kappa_xx_1^2*kappa_zz_1*cos(a*kappa_xx_1)*cos(kappa_xx_0*x)^2*sin(a*kappa_zz_0)*sin(2*a*kappa_zz_1)*sin(a*kappa_zz_1)*sin(kappa_xx_1*x)/(mu_0^2*mu_1^2*omega) - c*epsilon_xx_0*k^3*kappa_xx_0*kappa_xx_1^2*kappa_zz_0*cos(a*kappa_xx_1)*cos(a*kappa_zz_1)*cos(kappa_zz_0*x)*sin(a*kappa_xx_0)*sin(2*a*kappa_zz_1)*sin(kappa_xx_0*x)*sin(kappa_xx_1*x)/(mu_0^2*mu_1^2*omega) + c*epsilon_xx_1*k^3*kappa_xx_0*kappa_xx_1^2*kappa_zz_0*cos(a*kappa_xx_1)*cos(a*kappa_zz_1)*cos(kappa_zz_0*x)*sin(a*kappa_xx_0)*sin(2*a*kappa_zz_1)*sin(kappa_xx_0*x)*sin(kappa_xx_1*x)/(mu_0^3*mu_1*omega) + c*epsilon_xx_0*k^3*kappa_xx_0*kappa_xx_1^2*kappa_zz_0*cos(a*kappa_xx_1)*cos(2*a*kappa_zz_1)*cos(kappa_zz_0*x)*sin(a*kappa_xx_0)*sin(a*kappa_zz_1)*sin(kappa_xx_0*x)*sin(kappa_xx_1*x)/(mu_0^2*mu_1^2*omega) - c*epsilon_xx_1*k^3*kappa_xx_0*kappa_xx_1^2*kappa_zz_0*cos(a*kappa_xx_1)*cos(2*a*kappa_zz_1)*cos(kappa_zz_0*x)*sin(a*kappa_xx_0)*sin(a*kappa_zz_1)*sin(kappa_xx_0*x)*sin(kappa_xx_1*x)/(mu_0^3*mu_1*omega) + c*epsilon_xx_1*k*kappa_xx_0^3*kappa_xx_1^2*kappa_zz_1*cos(a*kappa_xx_1)*cos(2*a*kappa_zz_1)*cos(a*kappa_zz_1)*sin(a*kappa_zz_0)*sin(kappa_xx_0*x)^2*sin(kappa_xx_1*x)/(mu_0^2*mu_1^2*omega) + c*epsilon_xx_1*k*kappa_xx_0^3*kappa_xx_1^2*kappa_zz_0*cos(a*kappa_xx_1)*cos(a*kappa_zz_0)*cos(a*kappa_zz_1)*sin(2*a*kappa_zz_1)*sin(kappa_xx_0*x)^2*sin(kappa_xx_1*x)/(mu_0^3*mu_1*omega) - c*epsilon_xx_1*k*kappa_xx_0^3*kappa_xx_1^2*kappa_zz_0*cos(a*kappa_xx_1)*cos(a*kappa_zz_0)*cos(2*a*kappa_zz_1)*sin(a*kappa_zz_1)*sin(kappa_xx_0*x)^2*sin(kappa_xx_1*x)/(mu_0^3*mu_1*omega) + c*epsilon_xx_1*k*kappa_xx_0^3*kappa_xx_1^2*kappa_zz_1*cos(a*kappa_xx_1)*sin(a*kappa_zz_0)*sin(2*a*kappa_zz_1)*sin(a*kappa_zz_1)*sin(kappa_xx_0*x)^2*sin(kappa_xx_1*x)/(mu_0^2*mu_1^2*omega) - c*epsilon_xx_0*k^3*kappa_xx_0^2*kappa_xx_1^2*cos(a*kappa_zz_1)*cos(kappa_xx_0*x)*cos(kappa_xx_1*x)*sin(a*kappa_xx_0)*sin(a*kappa_xx_1)*sin(2*a*kappa_zz_1)*sin(kappa_zz_0*x)/(mu_0^2*mu_1^2*omega) + c*epsilon_xx_1*k^3*kappa_xx_0^2*kappa_xx_1^2*cos(a*kappa_zz_1)*cos(kappa_xx_0*x)*cos(kappa_xx_1*x)*sin(a*kappa_xx_0)*sin(a*kappa_xx_1)*sin(2*a*kappa_zz_1)*sin(kappa_zz_0*x)/(mu_0^3*mu_1*omega) + c*epsilon_xx_0*k^3*kappa_xx_0^2*kappa_xx_1^2*cos(2*a*kappa_zz_1)*cos(kappa_xx_0*x)*cos(kappa_xx_1*x)*sin(a*kappa_xx_0)*sin(a*kappa_xx_1)*sin(a*kappa_zz_1)*sin(kappa_zz_0*x)/(mu_0^2*mu_1^2*omega) - c*epsilon_xx_1*k^3*kappa_xx_0^2*kappa_xx_1^2*cos(2*a*kappa_zz_1)*cos(kappa_xx_0*x)*cos(kappa_xx_1*x)*sin(a*kappa_xx_0)*sin(a*kappa_xx_1)*sin(a*kappa_zz_1)*sin(kappa_zz_0*x)/(mu_0^3*mu_1*omega) + c*epsilon_xx_0*k^3*kappa_xx_0^2*kappa_xx_1^2*cos(a*kappa_xx_0)*cos(a*kappa_zz_1)*cos(kappa_xx_1*x)*sin(a*kappa_xx_1)*sin(2*a*kappa_zz_1)*sin(kappa_xx_0*x)*sin(kappa_zz_0*x)/(mu_0^2*mu_1^2*omega) - c*epsilon_xx_1*k^3*kappa_xx_0^2*kappa_xx_1^2*cos(a*kappa_xx_0)*cos(a*kappa_zz_1)*cos(kappa_xx_1*x)*sin(a*kappa_xx_1)*sin(2*a*kappa_zz_1)*sin(kappa_xx_0*x)*sin(kappa_zz_0*x)/(mu_0^3*mu_1*omega) - c*epsilon_xx_0*k^3*kappa_xx_0^2*kappa_xx_1^2*cos(a*kappa_xx_0)*cos(2*a*kappa_zz_1)*cos(kappa_xx_1*x)*sin(a*kappa_xx_1)*sin(a*kappa_zz_1)*sin(kappa_xx_0*x)*sin(kappa_zz_0*x)/(mu_0^2*mu_1^2*omega) + c*epsilon_xx_1*k^3*kappa_xx_0^2*kappa_xx_1^2*cos(a*kappa_xx_0)*cos(2*a*kappa_zz_1)*cos(kappa_xx_1*x)*sin(a*kappa_xx_1)*sin(a*kappa_zz_1)*sin(kappa_xx_0*x)*sin(kappa_zz_0*x)/(mu_0^3*mu_1*omega) + c*epsilon_xx_0*k^3*kappa_xx_0^2*kappa_xx_1^2*cos(a*kappa_xx_1)*cos(a*kappa_zz_1)*cos(kappa_xx_0*x)*sin(a*kappa_xx_0)*sin(2*a*kappa_zz_1)*sin(kappa_xx_1*x)*sin(kappa_zz_0*x)/(mu_0^2*mu_1^2*omega) - c*epsilon_xx_1*k^3*kappa_xx_0^2*kappa_xx_1^2*cos(a*kappa_xx_1)*cos(a*kappa_zz_1)*cos(kappa_xx_0*x)*sin(a*kappa_xx_0)*sin(2*a*kappa_zz_1)*sin(kappa_xx_1*x)*sin(kappa_zz_0*x)/(mu_0^3*mu_1*omega) - c*epsilon_xx_0*k^3*kappa_xx_0^2*kappa_xx_1^2*cos(a*kappa_xx_1)*cos(2*a*kappa_zz_1)*cos(kappa_xx_0*x)*sin(a*kappa_xx_0)*sin(a*kappa_zz_1)*sin(kappa_xx_1*x)*sin(kappa_zz_0*x)/(mu_0^2*mu_1^2*omega) + c*epsilon_xx_1*k^3*kappa_xx_0^2*kappa_xx_1^2*cos(a*kappa_xx_1)*cos(2*a*kappa_zz_1)*cos(kappa_xx_0*x)*sin(a*kappa_xx_0)*sin(a*kappa_zz_1)*sin(kappa_xx_1*x)*sin(kappa_zz_0*x)/(mu_0^3*mu_1*omega) - c*epsilon_xx_0*k^3*kappa_xx_0^2*kappa_xx_1^2*cos(a*kappa_xx_0)*cos(a*kappa_xx_1)*cos(a*kappa_zz_1)*sin(2*a*kappa_zz_1)*sin(kappa_xx_0*x)*sin(kappa_xx_1*x)*sin(kappa_zz_0*x)/(mu_0^2*mu_1^2*omega) + c*epsilon_xx_1*k^3*kappa_xx_0^2*kappa_xx_1^2*cos(a*kappa_xx_0)*cos(a*kappa_xx_1)*cos(a*kappa_zz_1)*sin(2*a*kappa_zz_1)*sin(kappa_xx_0*x)*sin(kappa_xx_1*x)*sin(kappa_zz_0*x)/(mu_0^3*mu_1*omega) + c*epsilon_xx_0*k^3*kappa_xx_0^2*kappa_xx_1^2*cos(a*kappa_xx_0)*cos(a*kappa_xx_1)*cos(2*a*kappa_zz_1)*sin(a*kappa_zz_1)*sin(kappa_xx_0*x)*sin(kappa_xx_1*x)*sin(kappa_zz_0*x)/(mu_0^2*mu_1^2*omega) - c*epsilon_xx_1*k^3*kappa_xx_0^2*kappa_xx_1^2*cos(a*kappa_xx_0)*cos(a*kappa_xx_1)*cos(2*a*kappa_zz_1)*sin(a*kappa_zz_1)*sin(kappa_xx_0*x)*sin(kappa_xx_1*x)*sin(kappa_zz_0*x)/(mu_0^3*mu_1*omega)\n"
     ]
    }
   ],
   "source": [
    "M = GenerateMatrix(all_eqs, vars)\n",
    "print (\"\")\n",
    "print (\"\")\n",
    "print (\"M =\")\n",
    "print (M)\n",
    "print (\"\")\n",
    "reduced_M = reduceDependedRows(M)\n",
    "reduced_M_det = reduced_M.det()"
   ]
  },
  {
   "cell_type": "code",
   "execution_count": 30,
   "metadata": {},
   "outputs": [
    {
     "data": {
      "text/plain": [
       "[kappa_zz_1 == (((kappa_zz_0*mu_0*cos(a*kappa_xx_0)*cos(kappa_xx_0*x)*cos(kappa_zz_0*x) + kappa_zz_0*mu_0*cos(kappa_zz_0*x)*sin(a*kappa_xx_0)*sin(kappa_xx_0*x) - (mu_0*cos(kappa_xx_0*x)*sin(a*kappa_xx_0)*sin(kappa_zz_0*x) - mu_0*cos(a*kappa_xx_0)*sin(kappa_xx_0*x)*sin(kappa_zz_0*x))*kappa_xx_0)*epsilon_xx_0*k^2 - ((cos(kappa_xx_0*x)^2 + sin(kappa_xx_0*x)^2)*kappa_xx_0^2*kappa_zz_0*mu_1*cos(a*kappa_zz_0) + (kappa_zz_0*mu_1*cos(a*kappa_xx_0)*cos(kappa_xx_0*x)*cos(kappa_zz_0*x) + kappa_zz_0*mu_1*cos(kappa_zz_0*x)*sin(a*kappa_xx_0)*sin(kappa_xx_0*x) - (mu_1*cos(kappa_xx_0*x)*sin(a*kappa_xx_0)*sin(kappa_zz_0*x) - mu_1*cos(a*kappa_xx_0)*sin(kappa_xx_0*x)*sin(kappa_zz_0*x))*kappa_xx_0)*k^2)*epsilon_xx_1)*cos(a*kappa_zz_1)*sin(2*a*kappa_zz_1) - ((kappa_zz_0*mu_0*cos(a*kappa_xx_0)*cos(kappa_xx_0*x)*cos(kappa_zz_0*x) + kappa_zz_0*mu_0*cos(kappa_zz_0*x)*sin(a*kappa_xx_0)*sin(kappa_xx_0*x) - (mu_0*cos(kappa_xx_0*x)*sin(a*kappa_xx_0)*sin(kappa_zz_0*x) - mu_0*cos(a*kappa_xx_0)*sin(kappa_xx_0*x)*sin(kappa_zz_0*x))*kappa_xx_0)*epsilon_xx_0*k^2 - ((cos(kappa_xx_0*x)^2 + sin(kappa_xx_0*x)^2)*kappa_xx_0^2*kappa_zz_0*mu_1*cos(a*kappa_zz_0) + (kappa_zz_0*mu_1*cos(a*kappa_xx_0)*cos(kappa_xx_0*x)*cos(kappa_zz_0*x) + kappa_zz_0*mu_1*cos(kappa_zz_0*x)*sin(a*kappa_xx_0)*sin(kappa_xx_0*x) - (mu_1*cos(kappa_xx_0*x)*sin(a*kappa_xx_0)*sin(kappa_zz_0*x) - mu_1*cos(a*kappa_xx_0)*sin(kappa_xx_0*x)*sin(kappa_zz_0*x))*kappa_xx_0)*k^2)*epsilon_xx_1)*cos(2*a*kappa_zz_1)*sin(a*kappa_zz_1))/((cos(kappa_xx_0*x)^2 + sin(kappa_xx_0*x)^2)*epsilon_xx_1*kappa_xx_0^2*mu_0*cos(2*a*kappa_zz_1)*cos(a*kappa_zz_1)*sin(a*kappa_zz_0) + (cos(kappa_xx_0*x)^2 + sin(kappa_xx_0*x)^2)*epsilon_xx_1*kappa_xx_0^2*mu_0*sin(a*kappa_zz_0)*sin(2*a*kappa_zz_1)*sin(a*kappa_zz_1))]"
      ]
     },
     "execution_count": 30,
     "metadata": {},
     "output_type": "execute_result"
    }
   ],
   "source": [
    "disp_eq_zz_1 = solve([reduced_M_det == 0], kappa_zz_1)\n",
    "disp_eq_zz_1"
   ]
  },
  {
   "cell_type": "code",
   "execution_count": 36,
   "metadata": {},
   "outputs": [
    {
     "data": {
      "text/plain": [
       "-\\frac{\\epsilon_{\\mathit{xx}_{1}} \\kappa_{\\mathit{xx}_{0}}^{2} \\kappa_{\\mathit{zz}_{0}} \\mu_{1} \\cos\\left(a \\kappa_{\\mathit{zz}_{0}}\\right) \\sin\\left(a \\kappa_{\\mathit{zz}_{1}}\\right) - {\\left({\\left(\\epsilon_{\\mathit{xx}_{0}} k^{2} \\kappa_{\\mathit{zz}_{0}} \\mu_{0} \\cos\\left(a \\kappa_{\\mathit{xx}_{0}}\\right) \\sin\\left(a \\kappa_{\\mathit{zz}_{1}}\\right) - \\epsilon_{\\mathit{xx}_{1}} k^{2} \\kappa_{\\mathit{zz}_{0}} \\mu_{1} \\cos\\left(a \\kappa_{\\mathit{xx}_{0}}\\right) \\sin\\left(a \\kappa_{\\mathit{zz}_{1}}\\right)\\right)} \\cos\\left(\\kappa_{\\mathit{xx}_{0}} x\\right) + {\\left(\\epsilon_{\\mathit{xx}_{0}} k^{2} \\kappa_{\\mathit{zz}_{0}} \\mu_{0} \\sin\\left(a \\kappa_{\\mathit{xx}_{0}}\\right) \\sin\\left(a \\kappa_{\\mathit{zz}_{1}}\\right) - \\epsilon_{\\mathit{xx}_{1}} k^{2} \\kappa_{\\mathit{zz}_{0}} \\mu_{1} \\sin\\left(a \\kappa_{\\mathit{xx}_{0}}\\right) \\sin\\left(a \\kappa_{\\mathit{zz}_{1}}\\right)\\right)} \\sin\\left(\\kappa_{\\mathit{xx}_{0}} x\\right)\\right)} \\cos\\left(\\kappa_{\\mathit{zz}_{0}} x\\right) + {\\left({\\left(\\epsilon_{\\mathit{xx}_{0}} k^{2} \\kappa_{\\mathit{xx}_{0}} \\mu_{0} \\sin\\left(a \\kappa_{\\mathit{xx}_{0}}\\right) \\sin\\left(a \\kappa_{\\mathit{zz}_{1}}\\right) - \\epsilon_{\\mathit{xx}_{1}} k^{2} \\kappa_{\\mathit{xx}_{0}} \\mu_{1} \\sin\\left(a \\kappa_{\\mathit{xx}_{0}}\\right) \\sin\\left(a \\kappa_{\\mathit{zz}_{1}}\\right)\\right)} \\cos\\left(\\kappa_{\\mathit{xx}_{0}} x\\right) - {\\left(\\epsilon_{\\mathit{xx}_{0}} k^{2} \\kappa_{\\mathit{xx}_{0}} \\mu_{0} \\cos\\left(a \\kappa_{\\mathit{xx}_{0}}\\right) \\sin\\left(a \\kappa_{\\mathit{zz}_{1}}\\right) - \\epsilon_{\\mathit{xx}_{1}} k^{2} \\kappa_{\\mathit{xx}_{0}} \\mu_{1} \\cos\\left(a \\kappa_{\\mathit{xx}_{0}}\\right) \\sin\\left(a \\kappa_{\\mathit{zz}_{1}}\\right)\\right)} \\sin\\left(\\kappa_{\\mathit{xx}_{0}} x\\right)\\right)} \\sin\\left(\\kappa_{\\mathit{zz}_{0}} x\\right)}{\\epsilon_{\\mathit{xx}_{1}} \\kappa_{\\mathit{xx}_{0}}^{2} \\mu_{0} \\cos\\left(a \\kappa_{\\mathit{zz}_{1}}\\right) \\sin\\left(a \\kappa_{\\mathit{zz}_{0}}\\right)}"
      ]
     },
     "execution_count": 36,
     "metadata": {},
     "output_type": "execute_result"
    }
   ],
   "source": [
    "disp_eq_kappa_zz_1 = disp_eq_zz_1[0].rhs().full_simplify()\n",
    "latex(disp_eq_kappa_zz_1)"
   ]
  },
  {
   "cell_type": "markdown",
   "metadata": {},
   "source": [
    "$-\\frac{\\epsilon_{\\mathit{xx}_{1}} \\kappa_{\\mathit{xx}_{0}}^{2} \\kappa_{\\mathit{zz}_{0}} \\mu_{1} \\cos\\left(a \\kappa_{\\mathit{zz}_{0}}\\right) \\sin\\left(a \\kappa_{\\mathit{zz}_{1}}\\right) - {\\left({\\left(\\epsilon_{\\mathit{xx}_{0}} k^{2} \\kappa_{\\mathit{zz}_{0}} \\mu_{0} \\cos\\left(a \\kappa_{\\mathit{xx}_{0}}\\right) \\sin\\left(a \\kappa_{\\mathit{zz}_{1}}\\right) - \\epsilon_{\\mathit{xx}_{1}} k^{2} \\kappa_{\\mathit{zz}_{0}} \\mu_{1} \\cos\\left(a \\kappa_{\\mathit{xx}_{0}}\\right) \\sin\\left(a \\kappa_{\\mathit{zz}_{1}}\\right)\\right)} \\cos\\left(\\kappa_{\\mathit{xx}_{0}} x\\right) + {\\left(\\epsilon_{\\mathit{xx}_{0}} k^{2} \\kappa_{\\mathit{zz}_{0}} \\mu_{0} \\sin\\left(a \\kappa_{\\mathit{xx}_{0}}\\right) \\sin\\left(a \\kappa_{\\mathit{zz}_{1}}\\right) - \\epsilon_{\\mathit{xx}_{1}} k^{2} \\kappa_{\\mathit{zz}_{0}} \\mu_{1} \\sin\\left(a \\kappa_{\\mathit{xx}_{0}}\\right) \\sin\\left(a \\kappa_{\\mathit{zz}_{1}}\\right)\\right)} \\sin\\left(\\kappa_{\\mathit{xx}_{0}} x\\right)\\right)} \\cos\\left(\\kappa_{\\mathit{zz}_{0}} x\\right) + {\\left({\\left(\\epsilon_{\\mathit{xx}_{0}} k^{2} \\kappa_{\\mathit{xx}_{0}} \\mu_{0} \\sin\\left(a \\kappa_{\\mathit{xx}_{0}}\\right) \\sin\\left(a \\kappa_{\\mathit{zz}_{1}}\\right) - \\epsilon_{\\mathit{xx}_{1}} k^{2} \\kappa_{\\mathit{xx}_{0}} \\mu_{1} \\sin\\left(a \\kappa_{\\mathit{xx}_{0}}\\right) \\sin\\left(a \\kappa_{\\mathit{zz}_{1}}\\right)\\right)} \\cos\\left(\\kappa_{\\mathit{xx}_{0}} x\\right) - {\\left(\\epsilon_{\\mathit{xx}_{0}} k^{2} \\kappa_{\\mathit{xx}_{0}} \\mu_{0} \\cos\\left(a \\kappa_{\\mathit{xx}_{0}}\\right) \\sin\\left(a \\kappa_{\\mathit{zz}_{1}}\\right) - \\epsilon_{\\mathit{xx}_{1}} k^{2} \\kappa_{\\mathit{xx}_{0}} \\mu_{1} \\cos\\left(a \\kappa_{\\mathit{xx}_{0}}\\right) \\sin\\left(a \\kappa_{\\mathit{zz}_{1}}\\right)\\right)} \\sin\\left(\\kappa_{\\mathit{xx}_{0}} x\\right)\\right)} \\sin\\left(\\kappa_{\\mathit{zz}_{0}} x\\right)}{\\epsilon_{\\mathit{xx}_{1}} \\kappa_{\\mathit{xx}_{0}}^{2} \\mu_{0} \\cos\\left(a \\kappa_{\\mathit{zz}_{1}}\\right) \\sin\\left(a \\kappa_{\\mathit{zz}_{0}}\\right)}$"
   ]
  },
  {
   "cell_type": "code",
   "execution_count": 32,
   "metadata": {},
   "outputs": [
    {
     "data": {
      "text/plain": [
       "(a,\n",
       " epsilon_xx_0,\n",
       " epsilon_xx_1,\n",
       " k,\n",
       " kappa_xx_0,\n",
       " kappa_zz_0,\n",
       " kappa_zz_1,\n",
       " mu_0,\n",
       " mu_1,\n",
       " x)"
      ]
     },
     "execution_count": 32,
     "metadata": {},
     "output_type": "execute_result"
    }
   ],
   "source": [
    "disp_eq_zz_1[0].rhs().variables()"
   ]
  },
  {
   "cell_type": "code",
   "execution_count": null,
   "metadata": {},
   "outputs": [],
   "source": []
  }
 ],
 "metadata": {
  "kernelspec": {
   "display_name": "SageMath 9.0",
   "language": "sage",
   "name": "sagemath"
  },
  "language_info": {
   "codemirror_mode": {
    "name": "ipython",
    "version": 3
   },
   "file_extension": ".py",
   "mimetype": "text/x-python",
   "name": "python",
   "nbconvert_exporter": "python",
   "pygments_lexer": "ipython3",
   "version": "3.7.3"
  }
 },
 "nbformat": 4,
 "nbformat_minor": 2
}
