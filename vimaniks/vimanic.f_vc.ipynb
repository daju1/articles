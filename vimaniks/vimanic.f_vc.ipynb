{
 "cells": [
  {
   "cell_type": "markdown",
   "id": "480f706f",
   "metadata": {},
   "source": [
    "# О возникновении силы тяги в системе вращающихся зарядов"
   ]
  },
  {
   "cell_type": "markdown",
   "id": "c728f260",
   "metadata": {},
   "source": [
    "Данная тема создана в продолжении тем\n",
    "\n",
    "Летят в космическом пространстве два пушечных ядра\n",
    "http://www.sciteclibrary.ru/cgi-bin/yabb2/YaBB.pl?num=1527424527/0\n",
    "и\n",
    "Как запаздывающий Лиенар-Вихерт становится \"незапаздывающим\". Визуализация\n",
    "http://www.sciteclibrary.ru/cgi-bin/yabb2/YaBB.pl?num=1528093569/0\n",
    "\n",
    "Параллельное движение двух пушечных ядер параллельно друг другу по прямым траекториям было преобразовано в параллельное движение двух зарядов, но уже по круговым траекториям\n",
    "\n",
    "\n",
    "...\n",
    "\n",
    "...\n",
    "\n",
    "...\n",
    "\n",
    "...\n",
    "\n",
    "\n",
    "Используя запаздывающие потенциалы Лиенара-Вихерта были вычислены силы, с которыми эти заряды действуют друг на друга.\n",
    "\n",
    "Если два заряда вращаются в одной плоскости, но во встречных направлениях то из-за запаздывания потенциала появляется небольшой величины нескомпенсированная интегральная сила.\n",
    "\n",
    "\n",
    "...\n",
    "\n",
    "Тот же самый эффект возникает при вращении системы зарядов.\n",
    "\n",
    "С деталями расчета и его результатами можно познакомиться по ссылке:\n",
    "\n",
    "https://nbviewer.org/github/daju1/articles/blob/master/vimaniks/vimanic.ipynb\n",
    "\n",
    "На представленной анимации я показал динамику текущих и запаздывающих координат движущихся по круговым траекториям зарядов "
   ]
  },
  {
   "cell_type": "code",
   "execution_count": null,
   "id": "2715c197",
   "metadata": {},
   "outputs": [],
   "source": []
  },
  {
   "cell_type": "markdown",
   "id": "721686bb",
   "metadata": {},
   "source": [
    "rustot5\n",
    "Непонятно, вы в этом результате усматриваете какую то неожиданность или неправильность?\n",
    "\n",
    "Любое движение зарядов которое приведет к излучению с неравномерной диаграммой направленности и значит ненулевым приростом суммарного импульса поля очевидно будет сопровождаться ненулевой интегральной суммой сил приложенных к этим зарядам аккурат на производную этого прироста импульса поля. \"Фотонный двигатель\" и все такое "
   ]
  },
  {
   "cell_type": "code",
   "execution_count": null,
   "id": "7ec4eee7",
   "metadata": {},
   "outputs": [],
   "source": []
  },
  {
   "cell_type": "markdown",
   "id": "28b47669",
   "metadata": {},
   "source": [
    "А как это доказать, что это именно фотонный двигатель? Для фотонного двигателя импульс приобретаемый ракетой должен быть равен противо импульсу приобретаемому полем. Так? Или как?\n",
    "\n",
    "Хорошо, А как же посчитать этот самый импульс поля в рамках данной задачи?\n",
    "\n",
    "В принципе формулы есть, можно повозиться и кроме электрического поля посчитать также и магнитное поле. Ну а там и вектор Пойтинга и проинтегрировать его по объему. Но: импульс поля уже в своё время  таким образом был уже посчитан Фейнманом в его учебнике Электродинамика для равномерно движущегося электрона и в результате вычисления импульса поля с использованием формул Лиенара Вихерта Фейнман пришел к противоречию 4/3\n",
    "\n",
    "Даже если я потрачу время и посчитаю импульс поля по объёму для моей задачи я не смогу уйти от этого противоречия, и как тогда мне эти результаты интерпретировать? "
   ]
  },
  {
   "cell_type": "code",
   "execution_count": null,
   "id": "ddbaf1b5",
   "metadata": {},
   "outputs": [],
   "source": []
  },
  {
   "cell_type": "markdown",
   "id": "7957ec5a",
   "metadata": {},
   "source": [
    "rustot5\n",
    "Ветеран форума\n",
    "***\n",
    "\t\n",
    "Re: О возникновении силы тяги в системе вращающихся зарядов\n",
    "Ответ #3 - 30.03.23 :: 12:22:03  \n",
    "liquidcrystalosmos писал(а) 30.03.23 :: 12:18:50:\n",
    "А как это доказать, что это именно фотонный двигатель? Для фотонного двигателя импульс приобретаемый ракетой должен быть равен противо импульсу приобретаемому полем. Так? Или как?\n",
    "\n",
    "\n",
    "да\n",
    "\n",
    "liquidcrystalosmos писал(а) 30.03.23 :: 12:18:50:\n",
    "Хорошо, А как же посчитать этот самый импульс поля в рамках данной задачи?\n",
    "\n",
    "\n",
    "ну тем же способом численно рассчитать поле на стенках \"ящика\" окружающего заряды например. вам даже не нужно приводить поле на стенке к единому моменту времени, поскольку процесс циклический и можно рассчитать сразу интергральную плотность импульса в каждой точке стенки за период\n",
    "\n",
    "а способ \"прикинуть в уме\" есть ли тут такая асимметрия - это нужно представить как выглядит (с учетом разной задержки!) сумма \"поперечных\" проекций векторов ускорения с разных направлений. основной вклад в рост суммарного импульса плдя будет вносить именно слагаемое с ускорением, остальные слагаемые будут себя в основном компенсировать за период "
   ]
  },
  {
   "cell_type": "code",
   "execution_count": null,
   "id": "e1aa8c27",
   "metadata": {},
   "outputs": [],
   "source": []
  },
  {
   "cell_type": "markdown",
   "id": "19554ad9",
   "metadata": {},
   "source": [
    "liquidcrystalosmos\n",
    "Частый участник форума\n",
    "***\n",
    "\t\n",
    "Re: О возникновении силы тяги в системе вращающихся зарядов\n",
    "Ответ #4 - 30.03.23 :: 12:59:19  \n",
    "rustot5 писал(а) 30.03.23 :: 12:22:03:\n",
    "ну тем же способом численно рассчитать поле на стенках \"ящика\" окружающего заряды например. вам даже не нужно приводить поле на стенке к единому моменту времени, поскольку процесс циклический и можно рассчитать сразу интергральную плотность импульса в каждой точке стенки за период\n",
    "\n",
    "\n",
    "Хорошая идея, но по сути Вы тем самым предлагаете рассчитывать не импульс поля как интеграл вектора Пойтинга по всему бесконечному объему за исключением объема самих вращающихся зарядов. А только лишь давление поля на воображаемый ящик (пусть например \"ящик\" будет идеально проводящим) . И даже если я получу что сила действующая на мои заряды будет в точности равна силе давления излучения на ящик, то что это докажет? Ящик-то воображаемый. В реальности-то его нет. А есть просто окружающий мои заряды бесконечный вакуум... "
   ]
  },
  {
   "cell_type": "code",
   "execution_count": null,
   "id": "0a748fe8",
   "metadata": {},
   "outputs": [],
   "source": []
  },
  {
   "cell_type": "markdown",
   "id": "e2b5a1fa",
   "metadata": {},
   "source": [
    "rustot5\n",
    "Ветеран форума\n",
    "***\n",
    "\n",
    "Re: О возникновении силы тяги в системе вращающихся зарядов\n",
    "Ответ #5 - 30.03.23 :: 13:02:09  \n",
    "liquidcrystalosmos писал(а) 30.03.23 :: 12:59:19:\n",
    "Хорошая идея, но по сути Вы тем самым предлагаете рассчитывать не импульс поля как интеграл вектора Пойтинга по всему бесконечному объему\n",
    "\n",
    "\n",
    "ну можете и по объему, но плотность потока на поверхности с суммой за поверхностью вроде как очевидным образом арифметически связаны\n",
    "Наверх \t"
   ]
  },
  {
   "cell_type": "code",
   "execution_count": null,
   "id": "7f028ce4",
   "metadata": {},
   "outputs": [],
   "source": []
  },
  {
   "cell_type": "markdown",
   "id": "a111fc31",
   "metadata": {},
   "source": [
    "liquidcrystalosmos\n",
    "Частый участник форума\n",
    "***\n",
    "Re: О возникновении силы тяги в системе вращающихся зарядов\n",
    "Ответ #6 - 30.03.23 :: 13:24:59  \n",
    "rustot5 писал(а) 30.03.23 :: 13:02:09:\n",
    "ну можете и по объему\n",
    "\n",
    "да, но если я посчитаю по объёму мой результат с неизбежностью должен включать в себя фактор 4/3. Как с этим быть?\n",
    "(Фейнмановские лекции по физике. Электродинамика. Глава 28.  Параграфы 2 и 3)\n",
    "\n",
    "rustot5 писал(а) 30.03.23 :: 13:02:09:\n",
    "плотность потока на поверхности с суммой за поверхностью вроде как очевидным образом арифметически связаны\n",
    "\n",
    "типа упростить таким образом расчёт? да, но сумму внутри поверхности тоже ведь нужно учитывать..."
   ]
  },
  {
   "cell_type": "code",
   "execution_count": null,
   "id": "a79043e4",
   "metadata": {},
   "outputs": [],
   "source": []
  },
  {
   "cell_type": "markdown",
   "id": "046d67bc",
   "metadata": {},
   "source": [
    "rustot5\n",
    "Ветеран форума\n",
    "***\n",
    "\n",
    "\t\n",
    "Re: О возникновении силы тяги в системе вращающихся зарядов\n",
    "Ответ #7 - 30.03.23 :: 14:03:22  \n",
    "liquidcrystalosmos писал(а) 30.03.23 :: 13:24:59:\n",
    "типа упростить таким образом расчёт? да, но сумму внутри поверхности тоже ведь нужно учитывать...\n",
    "\n",
    "\n",
    "ну как бы нет причин ожидать что внутри объема что либо будет меняться во времени нециклично. "
   ]
  },
  {
   "cell_type": "code",
   "execution_count": null,
   "id": "38aff9af",
   "metadata": {},
   "outputs": [],
   "source": []
  },
  {
   "cell_type": "markdown",
   "id": "1593e985",
   "metadata": {},
   "source": [
    "peregoudovd\n",
    "Модератор темы\n",
    "*****\n",
    "На Форуме\n",
    "\n",
    "\n",
    "альт. наука= невежество+\n",
    "глупость+ конспирология\n",
    "\n",
    "Сообщений: 13419\n",
    "Москва\n",
    "Пол: male\n",
    "\t\n",
    "Re: О возникновении силы тяги в системе вращающихся зарядов\n",
    "Ответ #8 - 30.03.23 :: 19:36:07  \n",
    "Тут дело не в излучении. Тут есть более сильный эффект, порядка $(v/c)^2$, то есть эффект дарвиновского приближения, который, при неправильном счете, уже дает \"эффект инерцоида\".\n",
    "\n",
    "Как обычно в случае с пациентом --- тема избитая Смех Смех Смех Здесь особенно много на нее писал Г Иванов, с которым вы, rustot, довольно плотно общались... "
   ]
  },
  {
   "cell_type": "code",
   "execution_count": null,
   "id": "909135f4",
   "metadata": {},
   "outputs": [],
   "source": []
  },
  {
   "cell_type": "markdown",
   "id": "f808092d",
   "metadata": {},
   "source": [
    "liquidcrystalosmos\n",
    "Частый участник форума\n",
    "\n",
    "\t\n",
    "Re: О возникновении силы тяги в системе вращающихся зарядов\n",
    "Ответ #9 - 30.03.23 :: 23:19:50  \n",
    "А Лиенар-Вихерт, это, простите, какое приближение? "
   ]
  },
  {
   "cell_type": "code",
   "execution_count": null,
   "id": "20df99d6",
   "metadata": {},
   "outputs": [],
   "source": []
  },
  {
   "cell_type": "markdown",
   "id": "23dd83dc",
   "metadata": {},
   "source": [
    "Vallav\n",
    "Ветеран форума\n",
    "***\n",
    "\t\n",
    "Re: О возникновении силы тяги в системе вращающихся зарядов\n",
    "Ответ #10 - 31.03.23 :: 04:22:27  \n",
    "liquidcrystalosmos писал(а) 30.03.23 :: 23:19:50:\n",
    "А Лиенар-Вихерт, это, простите, какое приближение?\n",
    "\n",
    "Это не приближение и поэтому в них есть реакция на излучение, хоть само излучение\n",
    "при этом явно не рассчитывается. Вот эту реакцию на излучение Вы и обнаружили,\n",
    "приняв ее за берущийся из ниоткуда импульс. "
   ]
  },
  {
   "cell_type": "code",
   "execution_count": null,
   "id": "43fc30fd",
   "metadata": {},
   "outputs": [],
   "source": []
  },
  {
   "cell_type": "markdown",
   "id": "b7f8a369",
   "metadata": {},
   "source": [
    "liquidcrystalosmos писал(а) 31.03.23 :: 00:19:50:\n",
    "А Лиенар-Вихерт, это, простите, какое приближение? \n",
    "Лиенар---Вихерт --- это точное решение. Но это точное решение только уравнений Максвелла при заданном движении зарядов. А откуда оно такое красивое заданное взялось? Значит, помимо сил электрических, на частицы действуют еще какие-то силы, которые уравнениями Максвелла никак не описываются. А как описываются? Если это описание релятивистски инвариантно (как и описание электрических сил уравнениями Максвелла), то и вся теория релятивистски инвариантна, тогда инерцоид невозможен. А если вы неявно описываете эти другие силы релятивистски неинвариантным образом, то получаете просто внутренне противоречивую теорию, которая дает разные ответы в зависимости от того, из какой системы отсчета считать.\n",
    "\n",
    "Но, помимо точного решения, есть еще разложение по степеням v/c. Нулевой порядок --- это обычная классическая механика с законом Кулона. Следующее, квадратичное по v/c приближение --- дарвиновское, в нем уже есть поправки к закону Кулона с одной стороны, и ко второму закону Ньютона --- с другой. И никаких инерцоидов снова не может быть. Но описывает оно только электрические силы. Если вы своими грязными руками всунете туда еще какие-то силы, непонятно как описанные, то гарантированно получите кучу парадоксов. Ну вот та рухлядь, что вы притащили --- это так называемый \"парадокс Г Иванова\" тридцатилетней давности Смех Смех Смех\n",
    "\n",
    "А учет излучения начинается с третьего порядка по v/c (если говорить об энергии) или даже с четвертого (если говорить об импульсе).\n",
    "\n",
    "Поэтому для разбора \"парадокса Иванова\" нужно не про излучение думать, а про то, как вы описываете другие, не электрические силы в этой задаче.\n",
    "Наверх\t"
   ]
  },
  {
   "cell_type": "code",
   "execution_count": null,
   "id": "abd60298",
   "metadata": {},
   "outputs": [],
   "source": []
  },
  {
   "cell_type": "markdown",
   "id": "a081bf01",
   "metadata": {},
   "source": [
    "Хорошо, пусть имеются два твердотельных вращающихся диска, на ободе которых физически вмонтированы заряды. Хотя я и рассчитывал задачу для электрических зарядов (так проще ибо уже есть готовые формулы Лиенара Вихерта), но физически это могут быть диполи магнитных зарядов (цилиндрические магниты, вмонтированные в обод) надеюсь что выводы полученные на основе Лиенара Вихерта можно также использовать для магнитных зарядов образующих диполи. Таким образом peregoudovd писал(а) 31.03.23 :: 13:44:37:\n",
    "другие, не электрические силы в этой задаче\n",
    "это могут быть механические силы упругости вращающегося на оси диска.  Ну и теперь вопрос, в такой постановке задачи peregoudovd писал(а) 31.03.23 :: 13:44:37:\n",
    "описание релятивистски инвариантно\n",
    "или peregoudovd писал(а) 31.03.23 :: 13:44:37:\n",
    "вы неявно описываете эти другие силы релятивистски неинвариантным образом\n",
    "?"
   ]
  },
  {
   "cell_type": "code",
   "execution_count": null,
   "id": "951a143f",
   "metadata": {},
   "outputs": [],
   "source": []
  },
  {
   "cell_type": "markdown",
   "id": "39531716",
   "metadata": {},
   "source": [
    "peregoudovd писал(а) 31.03.23 :: 13:44:37:\n",
    "Следующее, квадратичное по v/c приближение --- дарвиновское\n",
    "\n",
    "peregoudovd писал(а) 31.03.23 :: 13:44:37:\n",
    "А учет излучения начинается с третьего порядка по v/c (если говорить об энергии) или даже с четвертого (если говорить об импульсе).\n",
    "\n",
    "\n",
    "Возникла идея, чтобы упростить себе жизнь (сильно уж не хочется решать трудоёмкую задачу интегрирования импульса поля по всему объёму, или даже давления на окружающий \"ящик\" как предлагает рустот, - тем более, что на мой вопрос об интерпретации результатов вычисления импульса поля с учетом парадокса 4/3 пока что никто в этой теме не ответил) ,  так вот, что мне даст, если я на начальном этапе просто построю зависимость величины силы, которую я обнаружил от соотношения $\\frac{v}{c}$ с целью понять в результате такого построения, какого порядка по $\\frac{v}{c}$ обнаруженный мною эффект? Даст ли эта информация понимание, что на самом деле я обнаружил:\n",
    "\n",
    "Vallav писал(а) 31.03.23 :: 05:22:27:\n",
    "Вот эту реакцию на излучение Вы и обнаружили,\n",
    "приняв ее за берущийся из ниоткуда импульс.\n",
    "\n",
    "или\n",
    "peregoudovd писал(а) 31.03.23 :: 13:44:37:\n",
    "так называемый \"парадокс Г Иванова\" тридцатилетней давности\n",
    "?"
   ]
  },
  {
   "cell_type": "markdown",
   "id": "919b9473",
   "metadata": {},
   "source": [
    "peregoudovd\n",
    "Модератор темы\n",
    "*****\n",
    "На Форуме\n",
    "\n",
    "\n",
    "альт. наука= невежество+\n",
    "глупость+ конспирология\n",
    "\n",
    "Сообщений: 13419\n",
    "Москва\n",
    "Пол: male\n",
    "\t\n",
    "Re: О возникновении силы тяги в системе вращающихся зарядов\n",
    "Ответ #15 - 31.03.23 :: 18:21:47  \n",
    "liquidcrystalosmos писал(а) 31.03.23 :: 15:43:26:\n",
    "это могут быть механические силы упругости вращающегося на оси диска.\n",
    "И вся соль дела в том, описываете ли вы эти силы упругости в рамках релятивистской теории упругости или же в рамках классической, приговаривая про \"абсолютно жесткий диск\".\n",
    "\n",
    "Ну вот, в свое время была такая замечательная тема на форума dxdy.ru https://dxdy.ru/topic87075.html, я этот сюжет затем называл тут инерцоидом Мунина, а можно назвать \"парадоксом Nemiroff\". Суть дела в том, что вращающаяся (но не движущаяся поступательно!) заряженная сфера при определенных условиях может иметь ненулевой механический импульс (не момент импульса, а именно импульс!). Да, вот так вот бывает в СТО: стоит на месте, а импульс имеет.\n",
    "\n",
    "liquidcrystalosmos писал(а) 31.03.23 :: 16:12:48:\n",
    "так вот, что мне даст, если я на начальном этапе просто построю зависимость величины силы, которую я обнаружил от соотношения $\\frac{v}{c}$ с целью понять в результате такого построения, какого порядка по $\\frac{v}{c}$ обнаруженный мною эффект? Даст ли эта информация понимание, что на самом деле я обнаружил:\n",
    "Даст. Ставлю на то, что зависимость будет квадратично по v/c.\n"
   ]
  },
  {
   "cell_type": "code",
   "execution_count": null,
   "id": "c1bc7af2",
   "metadata": {},
   "outputs": [],
   "source": []
  },
  {
   "cell_type": "markdown",
   "id": "f0278419",
   "metadata": {},
   "source": [
    "liquidcrystalosmos писал(а) 01.04.23 :: 14:10:20:\n",
    "Фейнмановские лекции по физике. Электродинамика. Глава 28.Параграфы 2 и 3 \n",
    "\n",
    "Фейнман в параграфе 4 объясняет этот \"парадокс\" :\n",
    "Считая, что энергия/импульс только в поле, получаем ошибку сравнивая эквивалентные массы(через импульс и энергию), поскольку кроме поля есть что-то, что удерживает заряды на поверхности.\n",
    "\n",
    "И возвращаясь к :\n",
    "liquidcrystalosmos писал(а) 30.03.23 :: 13:18:50:\n",
    "А как это доказать, что это именно фотонный двигатель?\n",
    "\n",
    "- думаю, что проще считать поток импульса (заданного направления) через замкнутую поверхность - суммарный поток покажет сколько импульса убегает наружу за единицу времени.\n",
    "Именно такая сила тяги и будет толкать систему... за то место, которым мы крутим заряды."
   ]
  },
  {
   "cell_type": "code",
   "execution_count": null,
   "id": "299af89e",
   "metadata": {},
   "outputs": [],
   "source": []
  },
  {
   "cell_type": "code",
   "execution_count": 146,
   "id": "794408df",
   "metadata": {},
   "outputs": [],
   "source": [
    "f_vc = [\n",
    "#    (0.001, )5.3863098760250119084e-13, 5.3863121548905449503e-13\n",
    "    (0.01, -8.56236432623834e-20, 5.3870508193544881024e-13, 5.3867258139880036277e-13, -2382.574221661891012),\n",
    "    (0.02, -1.37455197831113e-18),\n",
    "    (0.03, -6.95470437159751e-18),\n",
    "    (0.04, -2.19680850365273e-17),\n",
    "    (0.05, -5.35920118344170e-17),\n",
    "#   (0.10, -8.52257016357100e-16, 5.6246053137886613137e-13, 5.266051700330013549e-13), # via summation\n",
    "    (0.10, -8.52257016357100e-16, 5.624064745443957e-13,     5.26605158723961e-13, -23045530.125042300398),\n",
    "    (0.15, -4.27450979351313e-15),\n",
    "    (0.20, -1.33573277022065e-14),\n",
    "    (0.25, -3.22307382782376e-14),\n",
    "    (0.30, -6.61720383044104e-14),\n",
    "    (0.40, -2.07601843569317e-13),\n",
    "    (0.50, -5.20680419613273e-13),\n",
    "    (0.60, -1.18013638405395e-12),\n",
    "    (0.70, -2.65298247455622e-12),\n",
    "    (0.80, -6.64232662292268e-12),\n",
    "    (0.90, -2.63790811970513e-11),\n",
    "    (0.95, -9.71121060414994e-11),\n",
    "    (0.96, -1.47606632877523e-10),\n",
    "    (0.97, -2.65742432563208e-10),\n",
    "    (0.98, -5.63569627179502e-10),\n",
    "    (0.983, -6.56734319121011e-10),\n",
    "    (0.984, -6.59518046321200e-10, 1.158229578273704167e-08, 2.311296724622951936e-08, -569871846.87695906527), # via summation\n",
    "    (0.985, -6.34260849962167e-10),\n",
    "    (0.986, -5.73562658276851e-10),\n",
    "    (0.987, -4.75654087450837e-10),\n",
    "    (0.988, -3.47626527020767e-10),\n",
    "    (0.989, -2.04675291977716e-10),\n",
    "    (0.990,  -6.47470232894650e-11),\n",
    "#           -6.47470232896437e-11 # not using np.float128\n",
    "#           -6.47470232895114e-11 # using epsilon and tol = 1e-16\n",
    "    (0.9905,-6.31230127627895e-13),\n",
    "    (0.99055,5.48767023927638e-12),\n",
    "    (0.9906,1.15494997093294e-11),\n",
    "    (0.9910, 5.78911671370916e-11),\n",
    "    (0.9920 , 1.55921106841351e-10),\n",
    "#    (0.995, +8.20021061845837e-9), # The integral is probably divergent, or slowly convergent.\n",
    "    (0.997, 3.36020247797534e-10),\n",
    "#    (0.9975, 1.21620663924336e-9), # The integral is probably divergent, or slowly convergent.\n",
    "#    (0.998, 1.25139378321322e-9), # The integral is probably divergent, or slowly convergent.\n",
    "    (0.9985, 1.23772097469326e-9),\n",
    "    (0.9990, 1.21005522111076e-9),\n",
    "    (0.9995, 1.20188063070195e-9),\n",
    "    (0.9999, 1.21163924332315e-9),\n",
    "    (0.99999, 1.21620663924336e-9),\n",
    "]"
   ]
  },
  {
   "cell_type": "code",
   "execution_count": 147,
   "id": "525faaa1",
   "metadata": {},
   "outputs": [],
   "source": [
    "import numpy as np"
   ]
  },
  {
   "cell_type": "code",
   "execution_count": 176,
   "id": "2fd5b591",
   "metadata": {},
   "outputs": [],
   "source": [
    "def latex_arr_lst(lst, titles, indexes):\n",
    "    ltx = \"\\\\begin{array}{\"\n",
    "    for index in indexes:\n",
    "        ltx += 'c'\n",
    "    ltx += \"} \"\n",
    "    ititle = 0\n",
    "    for title in titles:\n",
    "        ltx += title\n",
    "        if ititle < len(titles) - 1:\n",
    "            ltx += \" & \"\n",
    "        else:\n",
    "            ltx += \" \\\\\\\\\"\n",
    "        ititle += 1\n",
    "    for splitted_row in lst:\n",
    "        ltx += \" \"\n",
    "        ititle = 0\n",
    "        for index in indexes:\n",
    "            if index < len(splitted_row):\n",
    "                if 0 == index:\n",
    "                    ltx += \"{:.5f}\".format(splitted_row[index])\n",
    "                elif index > 0:\n",
    "                    ltx += \"{:.6e}\".format(splitted_row[index])\n",
    "                else:\n",
    "                    ltx += str(splitted_row[index])\n",
    "            else:\n",
    "                ltx += \" \"\n",
    "            if ititle < len(titles) - 1:\n",
    "                ltx += \" & \"\n",
    "            else:\n",
    "                ltx += \" \\\\\\\\\"\n",
    "            ititle += 1    \n",
    "    ltx += \"\\\\end{array}\"\n",
    "    return ltx"
   ]
  },
  {
   "cell_type": "code",
   "execution_count": 178,
   "id": "0499c585",
   "metadata": {},
   "outputs": [
    {
     "data": {
      "text/latex": [
       "$\\displaystyle \\begin{array}{ccccc} \\frac{v}{c} & f_y & \\int\\limits_{S^{up}}^{} \\left(E \\times H\\right)_y & \\int\\limits_{S^{down}}^{} \\left(E \\times H\\right)_y & \\frac{f_y}{f_{h \\nu}} \\\\ 0.01000 & -8.562364e-20 & 5.387051e-13 & 5.386726e-13 & -2.382574e+3 \\\\ 0.02000 & -1.374552e-18 &   &   &   \\\\ 0.03000 & -6.954704e-18 &   &   &   \\\\ 0.04000 & -2.196809e-17 &   &   &   \\\\ 0.05000 & -5.359201e-17 &   &   &   \\\\ 0.10000 & -8.522570e-16 & 5.624065e-13 & 5.266052e-13 & -2.304553e+7 \\\\ 0.15000 & -4.274510e-15 &   &   &   \\\\ 0.20000 & -1.335733e-14 &   &   &   \\\\ 0.25000 & -3.223074e-14 &   &   &   \\\\ 0.30000 & -6.617204e-14 &   &   &   \\\\ 0.40000 & -2.076018e-13 &   &   &   \\\\ 0.50000 & -5.206804e-13 &   &   &   \\\\ 0.60000 & -1.180136e-12 &   &   &   \\\\ 0.70000 & -2.652982e-12 &   &   &   \\\\ 0.80000 & -6.642327e-12 &   &   &   \\\\ 0.90000 & -2.637908e-11 &   &   &   \\\\ 0.95000 & -9.711211e-11 &   &   &   \\\\ 0.96000 & -1.476066e-10 &   &   &   \\\\ 0.97000 & -2.657424e-10 &   &   &   \\\\ 0.98000 & -5.635696e-10 &   &   &   \\\\ 0.98300 & -6.567343e-10 &   &   &   \\\\ 0.98400 & -6.595180e-10 & 1.158230e-8 & 2.311297e-8 & -5.698718e+8 \\\\ 0.98500 & -6.342608e-10 &   &   &   \\\\ 0.98600 & -5.735627e-10 &   &   &   \\\\ 0.98700 & -4.756541e-10 &   &   &   \\\\ 0.98800 & -3.476265e-10 &   &   &   \\\\ 0.98900 & -2.046753e-10 &   &   &   \\\\ 0.99000 & -6.474702e-11 &   &   &   \\\\ 0.99050 & -6.312301e-13 &   &   &   \\\\ 0.99055 & 5.487670e-12 &   &   &   \\\\ 0.99060 & 1.154950e-11 &   &   &   \\\\ 0.99100 & 5.789117e-11 &   &   &   \\\\ 0.99200 & 1.559211e-10 &   &   &   \\\\ 0.99700 & 3.360202e-10 &   &   &   \\\\ 0.99850 & 1.237721e-9 &   &   &   \\\\ 0.99900 & 1.210055e-9 &   &   &   \\\\ 0.99950 & 1.201881e-9 &   &   &   \\\\ 0.99990 & 1.211639e-9 &   &   &   \\\\ 0.99999 & 1.216207e-9 &   &   &   \\\\\\end{array}$"
      ],
      "text/plain": [
       "<IPython.core.display.Math object>"
      ]
     },
     "metadata": {},
     "output_type": "display_data"
    }
   ],
   "source": [
    "from IPython.display import display, Math, Latex\n",
    "ltx = latex_arr_lst(f_vc, \\\n",
    "                           titles = [\"\\\\frac{v}{c}\",\"f_y\",\n",
    "                                     \"\\\\int\\\\limits_{S^{up}}^{} \\\\left(E \\\\times H\\\\right)_y\",\n",
    "                                     \"\\\\int\\\\limits_{S^{down}}^{} \\\\left(E \\\\times H\\\\right)_y\",\n",
    "                                     \"\\\\frac{f_y}{f_{h \\\\nu}}\",\n",
    "                                    ], \n",
    "                           indexes = [0,1, 2, 3, 4])\n",
    "display(Math(ltx))"
   ]
  },
  {
   "cell_type": "code",
   "execution_count": 179,
   "id": "558e7374",
   "metadata": {},
   "outputs": [
    {
     "name": "stdout",
     "output_type": "stream",
     "text": [
      "\\begin{array}{ccccc} \\frac{v}{c} & f_y & \\int\\limits_{S^{up}}^{} \\left(E \\times H\\right)_y & \\int\\limits_{S^{down}}^{} \\left(E \\times H\\right)_y & \\frac{f_y}{f_{h \\nu}} \\\\ 0.01000 & -8.562364e-20 & 5.387051e-13 & 5.386726e-13 & -2.382574e+3 \\\\ 0.02000 & -1.374552e-18 &   &   &   \\\\ 0.03000 & -6.954704e-18 &   &   &   \\\\ 0.04000 & -2.196809e-17 &   &   &   \\\\ 0.05000 & -5.359201e-17 &   &   &   \\\\ 0.10000 & -8.522570e-16 & 5.624065e-13 & 5.266052e-13 & -2.304553e+7 \\\\ 0.15000 & -4.274510e-15 &   &   &   \\\\ 0.20000 & -1.335733e-14 &   &   &   \\\\ 0.25000 & -3.223074e-14 &   &   &   \\\\ 0.30000 & -6.617204e-14 &   &   &   \\\\ 0.40000 & -2.076018e-13 &   &   &   \\\\ 0.50000 & -5.206804e-13 &   &   &   \\\\ 0.60000 & -1.180136e-12 &   &   &   \\\\ 0.70000 & -2.652982e-12 &   &   &   \\\\ 0.80000 & -6.642327e-12 &   &   &   \\\\ 0.90000 & -2.637908e-11 &   &   &   \\\\ 0.95000 & -9.711211e-11 &   &   &   \\\\ 0.96000 & -1.476066e-10 &   &   &   \\\\ 0.97000 & -2.657424e-10 &   &   &   \\\\ 0.98000 & -5.635696e-10 &   &   &   \\\\ 0.98300 & -6.567343e-10 &   &   &   \\\\ 0.98400 & -6.595180e-10 & 1.158230e-8 & 2.311297e-8 & -5.698718e+8 \\\\ 0.98500 & -6.342608e-10 &   &   &   \\\\ 0.98600 & -5.735627e-10 &   &   &   \\\\ 0.98700 & -4.756541e-10 &   &   &   \\\\ 0.98800 & -3.476265e-10 &   &   &   \\\\ 0.98900 & -2.046753e-10 &   &   &   \\\\ 0.99000 & -6.474702e-11 &   &   &   \\\\ 0.99050 & -6.312301e-13 &   &   &   \\\\ 0.99055 & 5.487670e-12 &   &   &   \\\\ 0.99060 & 1.154950e-11 &   &   &   \\\\ 0.99100 & 5.789117e-11 &   &   &   \\\\ 0.99200 & 1.559211e-10 &   &   &   \\\\ 0.99700 & 3.360202e-10 &   &   &   \\\\ 0.99850 & 1.237721e-9 &   &   &   \\\\ 0.99900 & 1.210055e-9 &   &   &   \\\\ 0.99950 & 1.201881e-9 &   &   &   \\\\ 0.99990 & 1.211639e-9 &   &   &   \\\\ 0.99999 & 1.216207e-9 &   &   &   \\\\\\end{array}\n"
     ]
    }
   ],
   "source": [
    "print (ltx)"
   ]
  },
  {
   "cell_type": "code",
   "execution_count": 130,
   "id": "0d269ebc",
   "metadata": {},
   "outputs": [
    {
     "name": "stdout",
     "output_type": "stream",
     "text": [
      "0.0100000000000000 -8.56236432623834e-20\n",
      "0.0200000000000000 -1.37455197831113e-18\n",
      "0.0300000000000000 -6.95470437159751e-18\n",
      "0.0400000000000000 -2.19680850365273e-17\n",
      "0.0500000000000000 -5.35920118344170e-17\n",
      "0.100000000000000 -8.52257016357100e-16\n",
      "0.150000000000000 -4.27450979351313e-15\n",
      "0.200000000000000 -1.33573277022065e-14\n",
      "0.250000000000000 -3.22307382782376e-14\n",
      "0.300000000000000 -6.61720383044104e-14\n",
      "0.400000000000000 -2.07601843569317e-13\n",
      "0.500000000000000 -5.20680419613273e-13\n",
      "0.600000000000000 -1.18013638405395e-12\n",
      "0.700000000000000 -2.65298247455622e-12\n",
      "0.800000000000000 -6.64232662292268e-12\n",
      "0.900000000000000 -2.63790811970513e-11\n",
      "0.950000000000000 -9.71121060414994e-11\n",
      "0.960000000000000 -1.47606632877523e-10\n",
      "0.970000000000000 -2.65742432563208e-10\n",
      "0.980000000000000 -5.63569627179502e-10\n",
      "0.983000000000000 -6.56734319121011e-10\n",
      "0.984000000000000 -6.59518046321200e-10\n",
      "0.985000000000000 -6.34260849962167e-10\n",
      "0.986000000000000 -5.73562658276851e-10\n",
      "0.987000000000000 -4.75654087450837e-10\n",
      "0.988000000000000 -3.47626527020767e-10\n",
      "0.989000000000000 -2.04675291977716e-10\n",
      "0.990000000000000 -6.47470232894650e-11\n",
      "0.990500000000000 -6.31230127627895e-13\n",
      "0.990550000000000 5.48767023927638e-12\n",
      "0.990600000000000 1.15494997093294e-11\n",
      "0.991000000000000 5.78911671370916e-11\n",
      "0.992000000000000 1.55921106841351e-10\n",
      "0.997000000000000 3.36020247797534e-10\n",
      "0.998500000000000 1.23772097469326e-9\n",
      "0.999000000000000 1.21005522111076e-9\n",
      "0.999500000000000 1.20188063070195e-9\n",
      "0.999900000000000 1.21163924332315e-9\n",
      "0.999990000000000 1.21620663924336e-9\n"
     ]
    }
   ],
   "source": [
    "f_vc_log = []\n",
    "f_vc2 = []\n",
    "f_vc3 = []\n",
    "f_vc35 = []\n",
    "f_vc39 = []\n",
    "f_vc395 = []\n",
    "f_vc4 = []ing\n",
    "f_vc5 = []\n",
    "f_vc6 = []\n",
    "f_vc7 = []\n",
    "f_vc8 = []\n",
    "for vcf in f_vc:\n",
    "    #print(vcf)\n",
    "    vc = vcf[0]\n",
    "    f = vcf[1]\n",
    "    print(vc, f)\n",
    "    if f < 0:\n",
    "        f_vc_log += [(vc, -log(-f, 10))]\n",
    "    else:\n",
    "        f_vc_log += [(vc, log(f, 10))]\n",
    "        \n",
    "    \n",
    "    if f > 0:\n",
    "        f_vc2 += [(vc, pow(f, 1/2)/vc)]\n",
    "        f_vc3 += [(vc, pow(f, 1/3)/vc)]\n",
    "        f_vc35 += [(vc, pow(f, 1/3.5)/vc)]\n",
    "        f_vc39 += [(vc, pow(f, 1/3.9)/vc)]\n",
    "        f_vc395 += [(vc, pow(f, 1/3.95)/vc)]\n",
    "        f_vc4 += [(vc, pow(f, 1/4)/vc)]\n",
    "        f_vc5 += [(vc, pow(f, 1/5)/vc)]\n",
    "        f_vc6 += [(vc, pow(f, 1/6)/vc)]\n",
    "        f_vc7 += [(vc, pow(f, 1/7)/vc)]\n",
    "        f_vc8 += [(vc, pow(f, 1/8)/vc)]\n",
    "    else:\n",
    "        f_vc2 += [(vc, pow(-f, 1/2)/vc)]\n",
    "        f_vc3 += [(vc, pow(-f, 1/3)/vc)]\n",
    "        f_vc35 += [(vc, pow(-f, 1/3.5)/vc)]\n",
    "        f_vc39 += [(vc, pow(-f, 1/3.9)/vc)]\n",
    "        f_vc395 += [(vc, pow(-f, 1/3.95)/vc)]\n",
    "        f_vc4 += [(vc, pow(-f, 1/4)/vc)]\n",
    "        f_vc5 += [(vc, pow(-f, 1/5)/vc)]\n",
    "        f_vc6 += [(vc, pow(-f, 1/6)/vc)]\n",
    "        f_vc7 += [(vc, pow(-f, 1/7)/vc)]\n",
    "        f_vc8 += [(vc, pow(-f, 1/8)/vc)]\n",
    "    "
   ]
  },
  {
   "cell_type": "code",
   "execution_count": 131,
   "id": "e7f02f76",
   "metadata": {},
   "outputs": [
    {
     "data": {
      "image/png": "[encoded data removed]",
      "text/plain": [
       "Graphics object consisting of 1 graphics primitive"
      ]
     },
     "execution_count": 131,
     "metadata": {},
     "output_type": "execute_result"
    }
   ],
   "source": [
    "list_plot(f_vc_log)"
   ]
  },
  {
   "cell_type": "code",
   "execution_count": 132,
   "id": "4a6d33e6",
   "metadata": {},
   "outputs": [
    {
     "data": {
      "image/png": "[encoded data removed]",
      "text/plain": [
       "Graphics object consisting of 1 graphics primitive"
      ]
     },
     "execution_count": 132,
     "metadata": {},
     "output_type": "execute_result"
    }
   ],
   "source": [
    "list_plot(f_vc)"
   ]
  },
  {
   "cell_type": "code",
   "execution_count": 133,
   "id": "9cb5dc33",
   "metadata": {},
   "outputs": [
    {
     "data": {
      "image/png": "[encoded data removed]",
      "text/plain": [
       "Graphics object consisting of 1 graphics primitive"
      ]
     },
     "execution_count": 133,
     "metadata": {},
     "output_type": "execute_result"
    }
   ],
   "source": [
    "list_plot(f_vc2)"
   ]
  },
  {
   "cell_type": "code",
   "execution_count": 134,
   "id": "cac67966",
   "metadata": {},
   "outputs": [
    {
     "data": {
      "image/png": "[encoded data removed]",
      "text/plain": [
       "Graphics object consisting of 1 graphics primitive"
      ]
     },
     "execution_count": 134,
     "metadata": {},
     "output_type": "execute_result"
    }
   ],
   "source": [
    "list_plot(f_vc3)"
   ]
  },
  {
   "cell_type": "code",
   "execution_count": 135,
   "id": "a07ba023",
   "metadata": {},
   "outputs": [
    {
     "data": {
      "image/png": "[encoded data removed]",
      "text/plain": [
       "Graphics object consisting of 1 graphics primitive"
      ]
     },
     "execution_count": 135,
     "metadata": {},
     "output_type": "execute_result"
    }
   ],
   "source": [
    "list_plot(f_vc39)"
   ]
  },
  {
   "cell_type": "code",
   "execution_count": 136,
   "id": "0e3c0caa",
   "metadata": {},
   "outputs": [
    {
     "data": {
      "image/png": "[encoded data removed]",
      "text/plain": [
       "Graphics object consisting of 1 graphics primitive"
      ]
     },
     "execution_count": 136,
     "metadata": {},
     "output_type": "execute_result"
    }
   ],
   "source": [
    "list_plot(f_vc395)"
   ]
  },
  {
   "cell_type": "code",
   "execution_count": 137,
   "id": "adbc49c2",
   "metadata": {},
   "outputs": [
    {
     "data": {
      "text/plain": [
       "[(0.0100000000000000, 0.00171059983479615),\n",
       " (0.0200000000000000, 0.00171202576448320),\n",
       " (0.0300000000000000, 0.00171178183620589),\n",
       " (0.0400000000000000, 0.00171154396279602),\n",
       " (0.0500000000000000, 0.00171121670359144),\n",
       " (0.100000000000000, 0.00170860882955491),\n",
       " (0.150000000000000, 0.00170463075627593),\n",
       " (0.200000000000000, 0.00169980812006435),\n",
       " (0.250000000000000, 0.00169483551004846),\n",
       " (0.300000000000000, 0.00169062533715997),\n",
       " (0.400000000000000, 0.00168751565378679),\n",
       " (0.500000000000000, 0.00169891952367025),\n",
       " (0.600000000000000, 0.00173712791631874),\n",
       " (0.700000000000000, 0.00182320521855042),\n",
       " (0.800000000000000, 0.00200673520542635),\n",
       " (0.900000000000000, 0.00251809671653604),\n",
       " (0.950000000000000, 0.00330441616373583),\n",
       " (0.960000000000000, 0.00363082431623067),\n",
       " (0.970000000000000, 0.00416239692711577),\n",
       " (0.980000000000000, 0.00497176759241134),\n",
       " (0.983000000000000, 0.00514984206278415),\n",
       " (0.984000000000000, 0.00515005150597520),\n",
       " (0.985000000000000, 0.00509484229898687),\n",
       " (0.986000000000000, 0.00496327458262986),\n",
       " (0.987000000000000, 0.00473157420628835),\n",
       " (0.988000000000000, 0.00437040095909348),\n",
       " (0.989000000000000, 0.00382445947210603),\n",
       " (0.990000000000000, 0.00286529773904048),\n",
       " (0.990500000000000, 0.000899896266158290),\n",
       " (0.990550000000000, 0.00154514983281762),\n",
       " (0.990600000000000, 0.00186098327224017),\n",
       " (0.991000000000000, 0.00278342434773937),\n",
       " (0.992000000000000, 0.00356216928920415),\n",
       " (0.997000000000000, 0.00429433779833206),\n",
       " (0.998500000000000, 0.00594028960421206),\n",
       " (0.999000000000000, 0.00590385672195028),\n",
       " (0.999500000000000, 0.00589091200571806),\n",
       " (0.999900000000000, 0.00590047214375270),\n",
       " (0.999990000000000, 0.00590549335867588)]"
      ]
     },
     "execution_count": 137,
     "metadata": {},
     "output_type": "execute_result"
    }
   ],
   "source": [
    "f_vc4"
   ]
  },
  {
   "cell_type": "code",
   "execution_count": 138,
   "id": "e4654139",
   "metadata": {},
   "outputs": [
    {
     "data": {
      "image/png": "[encoded data removed]",
      "text/plain": [
       "Graphics object consisting of 1 graphics primitive"
      ]
     },
     "execution_count": 138,
     "metadata": {},
     "output_type": "execute_result"
    }
   ],
   "source": [
    "list_plot(f_vc4)"
   ]
  },
  {
   "cell_type": "code",
   "execution_count": 139,
   "id": "64b41bde",
   "metadata": {},
   "outputs": [
    {
     "data": {
      "image/png": "[encoded data removed]",
      "text/plain": [
       "Graphics object consisting of 1 graphics primitive"
      ]
     },
     "execution_count": 139,
     "metadata": {},
     "output_type": "execute_result"
    }
   ],
   "source": [
    "list_plot(f_vc5)"
   ]
  },
  {
   "cell_type": "code",
   "execution_count": 140,
   "id": "63f1e988",
   "metadata": {},
   "outputs": [
    {
     "data": {
      "image/png": "[encoded data removed]",
      "text/plain": [
       "Graphics object consisting of 1 graphics primitive"
      ]
     },
     "execution_count": 140,
     "metadata": {},
     "output_type": "execute_result"
    }
   ],
   "source": [
    "list_plot(f_vc6)"
   ]
  },
  {
   "cell_type": "code",
   "execution_count": 141,
   "id": "7aa24314",
   "metadata": {},
   "outputs": [
    {
     "data": {
      "text/plain": [
       "[(0.0100000000000000, 0.0663894316144731),\n",
       " (0.0200000000000000, 0.0527226056227258),\n",
       " (0.0300000000000000, 0.0460530633962644),\n",
       " (0.0400000000000000, 0.0418381085303735),\n",
       " (0.0500000000000000, 0.0388341084500551),\n",
       " (0.100000000000000, 0.0307913287715070),\n",
       " (0.150000000000000, 0.0268569357592871),\n",
       " (0.200000000000000, 0.0243551009754189),\n",
       " (0.250000000000000, 0.0225651573844541),\n",
       " (0.300000000000000, 0.0211994452968051),\n",
       " (0.400000000000000, 0.0192373483670351),\n",
       " (0.500000000000000, 0.0179387373018105),\n",
       " (0.600000000000000, 0.0171331591719081),\n",
       " (0.700000000000000, 0.0168083219031126),\n",
       " (0.800000000000000, 0.0171381280827520),\n",
       " (0.900000000000000, 0.0191705291846760),\n",
       " (0.950000000000000, 0.0225677687756132),\n",
       " (0.960000000000000, 0.0239467407517098),\n",
       " (0.970000000000000, 0.0261399699160980),\n",
       " (0.980000000000000, 0.0293268344459254),\n",
       " (0.983000000000000, 0.0299924148230799),\n",
       " (0.984000000000000, 0.0299830642570958),\n",
       " (0.985000000000000, 0.0297583207408128),\n",
       " (0.986000000000000, 0.0292338869522034),\n",
       " (0.987000000000000, 0.0283072742723454),\n",
       " (0.988000000000000, 0.0268387245846370),\n",
       " (0.989000000000000, 0.0245460309888273),\n",
       " (0.990000000000000, 0.0202411308867052),\n",
       " (0.990500000000000, 0.00935068599624845),\n",
       " (0.990550000000000, 0.0134077200079491),\n",
       " (0.990600000000000, 0.0151773356377161),\n",
       " (0.991000000000000, 0.0198470088378524),\n",
       " (0.992000000000000, 0.0233868903445374),\n",
       " (0.997000000000000, 0.0264463505120004),\n",
       " (0.998500000000000, 0.0328162578836479),\n",
       " (0.999000000000000, 0.0326764882588913),\n",
       " (0.999500000000000, 0.0326232650248217),\n",
       " (0.999900000000000, 0.0326541953696849),\n",
       " (0.999990000000000, 0.0326717380154348)]"
      ]
     },
     "execution_count": 141,
     "metadata": {},
     "output_type": "execute_result"
    }
   ],
   "source": [
    "f_vc6"
   ]
  },
  {
   "cell_type": "markdown",
   "id": "0161fad0",
   "metadata": {},
   "source": [
    "Итак, анализируя вышеприведенные таблицы я прихожу к выводу, что для зависимость величины интегральной силы, действующей на движущиеся по окружностям заряды от соотношения $\\frac{v}{c}$ \n",
    "\n",
    "- на интервале от 0.0 до 0.1 имеет порядок по $\\frac{v}{c}$ равный 4    (это что? \"чистое\" взаимодействие с излучением?)\n",
    "- на интервале от 0.1 до 0.4 имеет порядок по $\\frac{v}{c}$ равный 3.95 (это что? влияние примеси дарвиновского приближения? Парадокс Г. Иванова?)\n",
    "- на интервале от 0.4 до 0.6 имеет порядок по $\\frac{v}{c}$ равный уже чуть больший 4\n",
    "- на интервале от 0.6 до 0.7 имеет порядок по $\\frac{v}{c}$ равный 5\n",
    "- на интервале от 0.7 до 0.8 имеет порядок по $\\frac{v}{c}$ равный 6\n",
    "и так далее...\n",
    "\n",
    "Что еще интересно величина интегральной силы, действующей на движущиеся по окружностям заряды имеет максимум при $\\frac{v}{c}$ равным 0.984\n",
    "\n",
    "Далее, в промежутке между 0.9905 и 0.99055 величина интегральной силы, действующей на движущиеся по окружностям заряды проходит через ноль и меняет знак.\n",
    "\n",
    "И при ассимптотическом приближении к скорости света величина интегральной силы, действующей на движущиеся по окружностям заряды стремится к некоему установившемуся пределу"
   ]
  },
  {
   "cell_type": "code",
   "execution_count": null,
   "id": "3a3559d5",
   "metadata": {},
   "outputs": [],
   "source": []
  },
  {
   "cell_type": "code",
   "execution_count": 49,
   "id": "418787d0",
   "metadata": {},
   "outputs": [],
   "source": [
    "def latex_arr_str(str1, titles, indexes):\n",
    "    lst = str1.split(\"\\n\")\n",
    "    ltx = \"\\\\begin{array}{\"\n",
    "    for index in indexes:\n",
    "        ltx += 'c'\n",
    "    ltx += \"} \"\n",
    "    ititle = 0\n",
    "    for title in titles:\n",
    "        ltx += title\n",
    "        if ititle < len(titles) - 1:\n",
    "            ltx += \" & \"\n",
    "        else:\n",
    "            ltx += \" \\\\\\\\\"\n",
    "        ititle += 1\n",
    "    for row in lst:\n",
    "        if len(row) > 0 and row[0] != '#':\n",
    "            splitted_row = row.split(\" \")\n",
    "            ltx += \" \"\n",
    "            ititle = 0\n",
    "            for index in indexes:\n",
    "                if index < len(splitted_row):\n",
    "                    ltx += splitted_row[index]\n",
    "                else:\n",
    "                    ltx += \" \"\n",
    "                if ititle < len(titles) - 1:\n",
    "                    ltx += \" & \"\n",
    "                else:\n",
    "                    ltx += \" \\\\\\\\\"\n",
    "                ititle += 1    \n",
    "    ltx += \"\\\\end{array}\"\n",
    "    return ltx"
   ]
  },
  {
   "cell_type": "code",
   "execution_count": 50,
   "id": "0b07befe",
   "metadata": {},
   "outputs": [
    {
     "data": {
      "text/latex": [
       "$\\displaystyle \\begin{array}{ccc} \\varphi & upper\\,half\\,sphere & down\\,half\\,sphere \\\\ 0 & 1.1376838639667924e-08 & 6.634105474801852e-08 \\\\ 1 & 1.1226313258303656e-08 & 6.614744118753952e-08 \\\\ 2 & 3.333653021744758e-09 & 7.316537694829212e-08 \\\\ 3 & 1.007395793495564e-09 & 6.623004241706466e-08 \\\\ 4 & 8.824573262231361e-10 & 6.273220749809991e-08 \\\\ 5 & 5.097148401365392e-09 & 5.8927263782661266e-08 \\\\ 6 & 7.401157073043177e-09 & 6.060869449556709e-08 \\\\ 7 & 7.213780145201979e-09 & 6.207903723105897e-08 \\\\ 8 & 8.538370370613663e-09 & 4.875980428506776e-08 \\\\ 9 & 9.721343575957e-09 & 4.8239130154451556e-08 \\\\ 10 & 1.0454437762946747e-08 & 4.5845925861905143e-08 \\\\ 11 & 5.273724271293167e-09 & 4.4931333867081844e-08 \\\\ 12 & 4.675032200631555e-09 & 4.3808300857404205e-08 \\\\ 13 & 1.7323895860168903e-09 & 4.223263350640967e-08 \\\\ 14 & 7.857751568046625e-09 & 4.0084872694932164e-08 \\\\ 15 & 5.509683598662369e-09 & 3.775191164742454e-08 \\\\ 16 & 3.999535085379301e-09 & 3.5439308078614044e-08 \\\\ 17 & 3.3676781176854965e-09 & 3.320775546071472e-08 \\\\ 18 & 2.8456962402322893e-09 & 3.1078072564047616e-08 \\\\ 19 & 4.981132913946357e-09 & 2.9046438701598414e-08 \\\\ 20 & 4.505711040374985e-09 & 2.7159574568881253e-08 \\\\ 21 & 5.703740905366097e-09 & 2.542579525973946e-08 \\\\ 22 & 4.640069076956079e-09 & 2.4000454699094695e-08 \\\\ 23 & 4.243058477630193e-09 & 2.2356682700447203e-08 \\\\ 24 & 4.235417854935568e-09 & 2.0814799180131036e-08 \\\\ 25 & 1.2595051950927974e-09 & 1.948469054620679e-08 \\\\ 26 & 2.161540576926044e-09 & 1.829338235261892e-08 \\\\ 27 & 6.9538855398135095e-09 & 1.719879741223217e-08 \\\\ 28 & 2.8448021695318128e-09 & 1.61765925577578e-08 \\\\ 29 & 1.1960038247726192e-09 & 1.522632050491595e-08 \\\\ 30 & 1.9282498076038654e-09 & 1.4338389020407809e-08 \\\\ 31 & 1.8038367254822701e-09 & 1.351486365738553e-08 \\\\ 32 & 1.5830177111318607e-09 & 1.2748605661695867e-08 \\\\ 33 & 8.812856161500459e-10 & 1.2040346011279349e-08 \\\\ 34 & 6.4454501747639516e-09 & 1.1385457661713806e-08 \\\\ 35 & -3.1392163263106343e-10 & 1.0779308716097128e-08 \\\\ 36 & -1.0124878013196352e-09 & 1.0217879829606917e-08 \\\\ 37 & 1.5564715097698213e-09 & 9.696138965771125e-09 \\\\ 38 & 5.918887951254396e-10 & 9.211087016352385e-09 \\\\ 39 & 4.148944233414116e-09 & 8.868574853857152e-09 \\\\ 40 & 3.147959024836791e-09 & 8.337155332859677e-09 \\\\ 41 & 1.0649056840179099e-09 & 7.94307045571576e-09 \\\\ 42 & 7.669946116223891e-11 & 7.574434611417579e-09 \\\\ 43 & -4.164509080777714e-10 & 8.89566235724048e-09 \\\\ 44 & -3.9159865952836116e-10 & 6.905314438540485e-09 \\\\ 45 & 1.7284815835814638e-09 & 6.601276194825295e-09 \\\\ 46 & 7.61810274649626e-09 & 6.315519995221643e-09 \\\\ 47 & -9.306341731954937e-11 & 6.048705371559878e-09 \\\\ 48 & 1.8637726218004514e-09 & 5.792425335720607e-09 \\\\ 49 & 8.660940665878742e-10 & 5.552685382344309e-09 \\\\ 50 & 6.509117955859536e-10 & 5.3258184443869054e-09 \\\\ 51 & 5.602801370615436e-10 & 5.1110912037560886e-09 \\\\ 52 & 6.041337868811061e-10 & 4.907388122370879e-09 \\\\ 53 & 1.0712378946440972e-09 & 4.7139528269478105e-09 \\\\ 54 & 3.098693481804695e-10 & 4.5298318740768785e-09 \\\\ 55 & 6.856001210741309e-10 & 4.353038586246811e-09 \\\\ 56 & 3.021892275834833e-09 & 4.18623864712254e-09 \\\\ 57 & 3.3743584081718904e-09 & 4.026655669809793e-09 \\\\ 58 & 9.025138790722585e-10 & 3.874131107957706e-09 \\\\ 59 & 2.129480607271232e-10 & 3.728222781643212e-09 \\\\ 60 & 5.160339363628816e-10 & 3.5879047039982257e-09 \\\\ 61 & 5.475659204579057e-10 & 3.453161387756671e-09 \\\\ 62 & -1.4624080060926596e-11 & 3.3235759622792375e-09 \\\\ 63 & 3.289305381569459e-10 & 3.1987088746031043e-09 \\\\ 64 & -5.890117838619402e-10 & 3.0783580859241776e-09 \\\\ 65 & -1.4460566105779294e-10 & 2.9619599892707995e-09 \\\\ 66 & 4.159341076040567e-10 & 2.8495230559538397e-09 \\\\ 67 & 6.013722685434995e-10 & 2.740789801665985e-09 \\\\ 68 & 1.5469116928532124e-09 & 2.635006162874429e-09 \\\\ 69 & 9.40483605528635e-10 & 2.5323931196875578e-09 \\\\ 70 & 5.057943667828143e-10 & 2.4326161739577043e-09 \\\\ 71 & -1.4103357176119683e-10 & 2.3354674318731798e-09 \\\\ 72 & -1.5102114372936366e-09 & 2.240743217648503e-09 \\\\ 73 & -1.2099351660151556e-10 & 2.1482008550194775e-09 \\\\ 74 & 7.345043048006174e-10 & 2.0577255875048793e-09 \\\\ 75 & 7.832069908105782e-10 & 1.9543430115585022e-09 \\\\ 76 & -5.070227773126484e-10 & 1.8822210047410337e-09 \\\\ 77 & -1.0613058569135076e-09 & 1.7952661764927154e-09 \\\\ 78 & 7.730611846362029e-10 & 1.7127683205380047e-09 \\\\ 79 & -4.1676303969880965e-10 & 1.6300160685848896e-09 \\\\ 80 & 3.398581638413885e-10 & 1.5483286251237466e-09 \\\\ 81 & -1.6932353382217915e-10 & 1.4676808554257429e-09 \\\\ 82 & 8.563344507188836e-11 & 1.387773126916081e-09 \\\\ 83 & -6.164704259798949e-11 & 1.3086290594063101e-09 \\\\ 84 & 1.3632590278579124e-10 & 1.230096533466388e-09 \\\\ 85 & 2.7764459295849507e-10 & 1.1519563629638265e-09 \\\\ 86 & 2.4514556850998363e-10 & 1.0741546493800543e-09 \\\\ 87 & 1.8920369939944296e-10 & 9.965928485548915e-10 \\\\ 88 & 1.4916534566557967e-10 & 9.191291177277407e-10 \\\\ 89 & 1.2554846617918485e-10 & 8.416405910969209e-10 \\\\ 90 & 1.151480528217169e-10 & 7.632774824848575e-10 \\\\ 91 & 1.1719531259198455e-10 & 6.860824775016803e-10 \\\\ 92 & 1.3425149971999374e-10 & 6.077756839696708e-10 \\\\ 93 & 1.7601606937530524e-10 & 5.289673029000293e-10 \\\\ 94 & 2.6970044842715065e-10 & 4.49525701275848e-10 \\\\ 95 & 4.915062164109575e-10 & 3.693684017745901e-10 \\\\ 96 & 1.0382768197991723e-09 & 2.880312331738211e-10 \\\\ 97 & 2.006544022571054e-09 & 2.062352916253095e-10 \\\\ 98 & 2.6711191430551606e-09 & 1.2303166672827207e-10 \\\\ 99 & 3.4213924179693236e-09 & 3.8611106819264993e-11 \\\\ 100 & 1.6600822921266896e-09 & -4.718837169427823e-11 \\\\ 101 & 3.920166724841376e-09 & -1.3472281764088645e-10 \\\\ 102 & 7.407030971449156e-10 & -2.238890523144636e-10 \\\\ 103 & 2.499000254798645e-09 & -3.148706375279289e-10 \\\\ 104 & 2.583935799234116e-09 & -4.0779812315420633e-10 \\\\ 105 & 4.332567360597438e-10 & -5.170617666951607e-10 \\\\ 106 & 3.1737465518164976e-10 & -6.005186604904953e-10 \\\\ 107 & 6.233186950794534e-10 & -7.005908720921161e-10 \\\\ 108 & 6.788983560370656e-09 & -8.033130963264771e-10 \\\\ 109 & 8.486088313641778e-10 & -9.089571214121671e-10 \\\\ 110 & 4.626714190243538e-10 & -1.0176757931019904e-09 \\\\ 111 & 3.964191633561924e-10 & -1.129673871559159e-09 \\\\ 112 & -1.6122186145935097e-11 & -1.245182545137122e-09 \\\\ 113 & 4.204433448035936e-10 & -1.3645053509775772e-09 \\\\ 114 & 4.756771380838442e-10 & -1.487773743809004e-09 \\\\ 115 & 6.086498968566109e-10 & -1.6153245878604596e-09 \\\\ 116 & 3.5451718912196485e-09 & -1.7468722691895315e-09 \\\\ 117 & 3.3602805998513446e-09 & -1.8839930250295096e-09 \\\\ 118 & 7.612439480188986e-10 & -2.0258184581134476e-09 \\\\ 119 & 4.793779384762636e-10 & -2.1732030270176697e-09 \\\\ 120 & 5.572314881273147e-10 & -2.3261581681774792e-09 \\\\ 121 & 9.635660316458966e-10 & -2.485108299064662e-09 \\\\ 122 & 7.382597505768213e-10 & -2.6503619846626455e-09 \\\\ 123 & 6.8622431253767786e-12 & -2.8223761488607042e-09 \\\\ 124 & -5.658212791857785e-10 & -3.0014560326441358e-09 \\\\ 125 & 1.0213291614101283e-09 & -3.1880821943185214e-09 \\\\ 126 & 1.7982664261617472e-09 & -3.3826718325514704e-09 \\\\ 127 & 5.589941448209773e-10 & -3.5856784821064794e-09 \\\\ 128 & 4.80131870118474e-10 & -3.797682385397315e-09 \\\\ 129 & 4.76847908777716e-10 & -4.018982775639013e-09 \\\\ 130 & 5.634416023599773e-10 & -4.250198694468811e-09 \\\\ 131 & 8.331646915232418e-10 & -4.491696678806538e-09 \\\\ 132 & 1.1965183854201193e-09 & -4.744273574715349e-09 \\\\ 133 & 3.7360118391554355e-09 & -5.008433236325984e-09 \\\\ 134 & -4.479898220960364e-10 & -5.278109711537101e-09 \\\\ 135 & 1.007885429907572e-09 & -5.567033098741256e-09 \\\\ 136 & 4.4875349182229014e-09 & -5.875954109761775e-09 \\\\ 137 & 2.634977254735085e-09 & -4.523995229328887e-09 \\\\ 138 & 1.1110773271734218e-09 & -6.4929649047996545e-09 \\\\ 139 & 7.644004330988719e-10 & -6.8699535405752014e-09 \\\\ 140 & 7.941055645095514e-10 & -7.232718769946148e-09 \\\\ 141 & 2.708002348385288e-10 & -7.473475716796876e-09 \\\\ 142 & 2.002112676652414e-09 & -8.00879115701624e-09 \\\\ 143 & 1.5605746572395235e-09 & -8.423311393748775e-09 \\\\ 144 & 4.34360755982634e-09 & -8.855710133542258e-09 \\\\ 145 & 3.2701960498823746e-09 & -9.307674950353826e-09 \\\\ 146 & 6.32804346621401e-09 & -9.777302688038018e-09 \\\\ 147 & 1.1176914670690164e-09 & -1.0268301654216721e-08 \\\\ 148 & 1.0300847435523696e-09 & -1.0782558879653218e-08 \\\\ 149 & 9.857849953399455e-10 & -1.126770894680413e-08 \\\\ 150 & 1.272248261182847e-09 & -1.1856441555102123e-08 \\\\ 151 & 2.3184967432113986e-09 & -1.2462330404287094e-08 \\\\ 152 & 5.411548357634482e-09 & -1.3094970583290922e-08 \\\\ 153 & 1.8943786857033972e-09 & -1.374617976071908e-08 \\\\ 154 & 9.568439645184783e-10 & -1.440433477340676e-08 \\\\ 155 & -3.7558500553268405e-09 & -1.5044081948701787e-08 \\\\ 156 & -1.907562834034822e-09 & -1.5618919704504043e-08 \\\\ 157 & -3.2932503091834978e-09 & -1.599619515375835e-08 \\\\ 158 & -1.313397252564384e-11 & -1.56537007680147e-08 \\\\ 159 & 2.011137332854743e-09 & -1.6958673046631313e-08 \\\\ 160 & 1.7620905056855672e-09 & -1.794628900188248e-08 \\\\ 161 & 1.8494089917799814e-09 & -1.8666977906875617e-08 \\\\ 162 & 1.7862966261156138e-09 & -1.9351240529412995e-08 \\\\ 163 & 1.3317079354338556e-09 & -2.0053881920435652e-08 \\\\ 164 & 2.05463628118139e-09 & -2.08109864821464e-08 \\\\ 165 & 2.7085123791535705e-09 & -2.1711884476106e-08 \\\\ 166 & 2.7502686540644734e-09 & -2.2944825383499698e-08 \\\\ 167 & 4.041857208518556e-09 & -2.499146456444375e-08 \\\\ 168 & 4.1671132876720955e-10 & -2.8413765263062258e-08 \\\\ 169 & 7.0871541798562566e-09 & -2.6054324800530385e-08 \\\\ 170 & 3.6543432777377637e-09 & -2.526381999437031e-08 \\\\ 171 & 5.922361222412326e-09 & -2.3255228299416745e-08 \\\\ 172 & 1.6800129531464794e-09 & -2.2421910527771567e-08 \\\\ 173 & 1.6712151228977402e-09 & -1.803058150412294e-08 \\\\ 174 & 7.041588246475232e-09 & -1.956355985996845e-08 \\\\ 175 & 5.9743583232209635e-09 & -1.7110649858413474e-08 \\\\ 176 & 7.122803546733013e-09 & -2.9526869324469154e-08 \\\\ 177 & 6.964162788249906e-10 & -2.4054484388771047e-08 \\\\ 178 & -5.472319066629863e-09 & -2.4161183167291322e-08 \\\\ 179 & -6.798607961159501e-09 & -2.417997171672929e-08 \\\\ 180 & -5.742808809501108e-09 & -2.4182580993920842e-08 \\\\ 181 & -6.798607961158685e-09 & -2.4179971716730113e-08 \\\\ 182 & -5.472319069651585e-09 & -2.4161183167291465e-08 \\\\ 183 & 6.964162788242429e-10 & -2.405448438876284e-08 \\\\ 184 & 7.122803546733534e-09 & -2.9526869324480387e-08 \\\\ 185 & 5.974345988973682e-09 & -1.7110649858409788e-08 \\\\ 186 & 7.041588246475385e-09 & -1.956355985996717e-08 \\\\ 187 & 1.6712151228981378e-09 & -1.8030581473429984e-08 \\\\ 188 & 1.68001295314626e-09 & -2.2421910527775802e-08 \\\\ 189 & 5.922361222412281e-09 & -2.3255228299414793e-08 \\\\ 190 & 3.654343277737752e-09 & -2.5263819994373226e-08 \\\\ 191 & 7.0871541798556726e-09 & -2.6054324938374403e-08 \\\\ 192 & 4.1671132876729754e-10 & -2.84137651128216e-08 \\\\ 193 & 4.0418572085182305e-09 & -2.499146456444622e-08 \\\\ 194 & 2.7502686388377513e-09 & -2.2944825383497987e-08 \\\\ 195 & 2.7085123791537322e-09 & -2.171188442845755e-08 \\\\ 196 & 2.0546362811813763e-09 & -2.081098648214838e-08 \\\\ 197 & 1.3317079354338748e-09 & -2.005388192043705e-08 \\\\ 198 & 1.7862966261155958e-09 & -1.9351240529414355e-08 \\\\ 199 & 1.849408991779987e-09 & -1.8666977842291234e-08 \\\\ 200 & 1.7620905056855898e-09 & -1.794628929033662e-08 \\\\ 201 & 2.0111373328546934e-09 & -1.695867284969351e-08 \\\\ 202 & -1.313397252565418e-11 & -1.5653701100407623e-08 \\\\ 203 & -3.2932503091835495e-09 & -1.5996195153759054e-08 \\\\ 204 & -1.90756284061061e-09 & -1.5618917978414195e-08 \\\\ 205 & -3.755850055326173e-09 & -1.5044081931841828e-08 \\\\ 206 & 9.568439645184183e-10 & -1.4404334773408183e-08 \\\\ 207 & 1.8943786857033397e-09 & -1.3746179766480465e-08 \\\\ 208 & 5.411548357634231e-09 & -1.309497058329101e-08 \\\\ 209 & 2.3184967432112696e-09 & -1.2462330404287585e-08 \\\\ 210 & 1.2722482611828415e-09 & -1.185644184494869e-08 \\\\ 211 & 9.857849953399445e-10 & -1.1267708946803942e-08 \\\\ 212 & 1.0300847435523729e-09 & -1.0782558879652846e-08 \\\\ 213 & 1.1176914670690179e-09 & -1.0268300994251501e-08 \\\\ 214 & 6.328043466213992e-09 & -9.77730268803795e-09 \\\\ 215 & 3.270196049882604e-09 & -9.307674950354084e-09 \\\\ 216 & 4.343607559827736e-09 & -8.855710133543132e-09 \\\\ 217 & 1.5605746428326396e-09 & -8.423311393747306e-09 \\\\ 218 & 2.002112676652447e-09 & -8.008791157017386e-09 \\\\ 219 & 2.7080023483852674e-10 & -7.473475716798109e-09 \\\\ 220 & 7.941055645095546e-10 & -7.232718769945583e-09 \\\\ 221 & 7.644004330988574e-10 & -6.869953370677035e-09 \\\\ 222 & 1.1110772153602576e-09 & -6.492964904799471e-09 \\\\ 223 & 2.6349772547350857e-09 & -4.5241009587795755e-09 \\\\ 224 & 4.487534918222896e-09 & -5.875954123790745e-09 \\\\ 225 & 1.0078853544773927e-09 & -5.567033098741165e-09 \\\\ 226 & -4.479898220960794e-10 & -5.278109711537882e-09 \\\\ 227 & 3.736011839155499e-09 & -5.008431234829234e-09 \\\\ 228 & 1.1965183854201505e-09 & -4.744273574716322e-09 \\\\ 229 & 8.331646915232728e-10 & -4.491696678805431e-09 \\\\ 230 & 5.634416023599804e-10 & -4.250198694468652e-09 \\\\ 231 & 4.768479087777142e-10 & -4.018982775638759e-09 \\\\ 232 & 4.801318701184799e-10 & -3.7976823853972264e-09 \\\\ 233 & 5.589940822089523e-10 & -3.585678482106166e-09 \\\\ 234 & 1.7982664261617054e-09 & -3.3826718325516255e-09 \\\\ 235 & 1.0213291614100787e-09 & -3.1880821943183275e-09 \\\\ 236 & -5.658212791857325e-10 & -3.0014560326439393e-09 \\\\ 237 & 6.8622431253763585e-12 & -2.822376148860711e-09 \\\\ 238 & 7.382597505768315e-10 & -2.6503619846629975e-09 \\\\ 239 & 9.635660316458982e-10 & -2.4851083693493103e-09 \\\\ 240 & 5.572314881273177e-10 & -2.326158168177685e-09 \\\\ 241 & 4.793779384762498e-10 & -2.1732030270176515e-09 \\\\ 242 & 7.612439480189057e-10 & -2.0258184581134017e-09 \\\\ 243 & 3.3602805998514595e-09 & -1.8839930250299158e-09 \\\\ 244 & 3.545171891219647e-09 & -1.7468722691887018e-09 \\\\ 245 & 6.086498968566106e-10 & -1.61532458786083e-09 \\\\ 246 & 4.756771380838444e-10 & -1.4877737438090055e-09 \\\\ 247 & 4.2044334480358944e-10 & -1.3645053511059432e-09 \\\\ 248 & -1.6122186145933482e-11 & -1.2451825451373692e-09 \\\\ 249 & 3.9641916335618715e-10 & -1.1296738715595835e-09 \\\\ 250 & 4.6267141902435224e-10 & -1.0176757931024513e-09 \\\\ 251 & 8.486088313641795e-10 & -9.089571214122393e-10 \\\\ 252 & 6.788983560370653e-09 & -8.033130963264239e-10 \\\\ 253 & 6.233186950795091e-10 & -7.005908720925638e-10 \\\\ 254 & 3.173746551816442e-10 & -6.005186604907633e-10 \\\\ 255 & 4.3325673605976927e-10 & -5.170617666940815e-10 \\\\ 256 & 2.583935799233464e-09 & -4.0779812315445454e-10 \\\\ 257 & 2.499000254800078e-09 & -3.1487063752816945e-10 \\\\ 258 & 7.407030971448835e-10 & -2.238890523140119e-10 \\\\ 259 & 3.920166724841656e-09 & -1.3472281764106367e-10 \\\\ 260 & 1.6600822921266615e-09 & -4.7188371693712685e-11 \\\\ 261 & 3.4213924179691495e-09 & 3.8611106819147004e-11 \\\\ 262 & 2.6711191430550866e-09 & 1.2303166672841474e-10 \\\\ 263 & 2.006544022571111e-09 & 2.0623529162530367e-10 \\\\ 264 & 1.0382768197992124e-09 & 2.8803123317492483e-10 \\\\ 265 & 4.915062164109623e-10 & 3.6936840177398094e-10 \\\\ 266 & 2.6970044842715365e-10 & 4.4952570127601494e-10 \\\\ 267 & 1.7601606937530462e-10 & 5.289673029000903e-10 \\\\ 268 & 1.3425149971999325e-10 & 6.077756839699136e-10 \\\\ 269 & 1.1719531259198468e-10 & 6.860824775016774e-10 \\\\ 270 & 1.1514805282171703e-10 & 7.632774824847501e-10 \\\\ 271 & 1.2554846617918433e-10 & 8.416405910968692e-10 \\\\ 272 & 1.4916534566557768e-10 & 9.191291177280166e-10 \\\\ 273 & 1.8920369939943877e-10 & 9.965928485546157e-10 \\\\ 274 & 2.4514556850998353e-10 & 1.074154649380054e-09 \\\\ 275 & 2.776445929584971e-10 & 1.151956362963661e-09 \\\\ 276 & 1.3632590278577062e-10 & 1.2300965334664784e-09 \\\\ 277 & -6.164704259801234e-11 & 1.3086290594062795e-09 \\\\ 278 & 8.563344507188836e-11 & 1.387773126916081e-09 \\\\ 279 & -1.6932353382219026e-10 & 1.467680855425986e-09 \\\\ 280 & 3.3985816384159797e-10 & 1.5483286251247423e-09 \\\\ 281 & -4.167630396986449e-10 & 1.630016068584781e-09 \\\\ 282 & 7.730611846362119e-10 & 1.712768320537956e-09 \\\\ 283 & -1.061305856913557e-09 & 1.7952661764929801e-09 \\\\ 284 & -5.070227773126786e-10 & 1.8822210047409977e-09 \\\\ 285 & 7.832069908105373e-10 & 1.954343011558116e-09 \\\\ 286 & 7.345043048006282e-10 & 2.0577255875049326e-09 \\\\ 287 & -1.2099351660151638e-10 & 2.148200855019475e-09 \\\\ 288 & -1.5102114372936362e-09 & 2.2407432176479e-09 \\\\ 289 & -1.410335717612068e-10 & 2.33546743187268e-09 \\\\ 290 & 5.057943667828557e-10 & 2.432616173957257e-09 \\\\ 291 & 9.404836055286326e-10 & 2.532393119687966e-09 \\\\ 292 & 1.5469116928533627e-09 & 2.6350061628743e-09 \\\\ 293 & 6.013722685434976e-10 & 2.7407898016661973e-09 \\\\ 294 & 4.159341076041292e-10 & 2.849523055954494e-09 \\\\ 295 & -1.4460566105778979e-10 & 2.9619599892711357e-09 \\\\ 296 & -5.890117838619421e-10 & 3.078358085924186e-09 \\\\ 297 & 3.2893053815730065e-10 & 3.1987088746035295e-09 \\\\ 298 & -1.4624080061085143e-11 & 3.32357596227964e-09 \\\\ 299 & 5.475659204579054e-10 & 3.4531613877567204e-09 \\\\ 300 & 5.160339363628814e-10 & 3.5879047039981285e-09 \\\\ 301 & 2.1294806072712145e-10 & 3.7282227816428326e-09 \\\\ 302 & 9.02513880280473e-10 & 3.874131107957778e-09 \\\\ 303 & 3.3743584081715823e-09 & 4.026655669809393e-09 \\\\ 304 & 3.0218922758343826e-09 & 4.186238647122589e-09 \\\\ 305 & 6.856001210741302e-10 & 4.3530385862471744e-09 \\\\ 306 & 3.0986934818048316e-10 & 4.52983187407793e-09 \\\\ 307 & 1.071237894644065e-09 & 4.713952826949313e-09 \\\\ 308 & 6.041337868811257e-10 & 4.907388122370149e-09 \\\\ 309 & 5.602801370615266e-10 & 5.111091203756223e-09 \\\\ 310 & 6.509117955859537e-10 & 5.325818444387801e-09 \\\\ 311 & 8.66094066587872e-10 & 5.552685382343042e-09 \\\\ 312 & 1.8637726218004808e-09 & 5.792425335720694e-09 \\\\ 313 & -9.306341731940012e-11 & 6.0487053715595805e-09 \\\\ 314 & 7.618102746496225e-09 & 6.315519737037428e-09 \\\\ 315 & 1.7284815835809826e-09 & 6.601276194826168e-09 \\\\ 316 & -3.915986595283841e-10 & 6.905314438540562e-09 \\\\ 317 & -4.164509080777722e-10 & 8.900456527931335e-09 \\\\ 318 & 7.670045896434608e-11 & 7.574434611415756e-09 \\\\ 319 & 1.0649056840179186e-09 & 7.943070455715188e-09 \\\\ 320 & 3.1479590248368143e-09 & 8.337155332860255e-09 \\\\ 321 & 4.1489442334142024e-09 & 8.8685748538542e-09 \\\\ 322 & 5.91888795130469e-10 & 9.211087016351285e-09 \\\\ 323 & 1.556471509769818e-09 & 9.696138965770794e-09 \\\\ 324 & -1.0124878013196879e-09 & 1.0217879829608446e-08 \\\\ 325 & -3.1392159755708763e-10 & 1.0779308716097306e-08 \\\\ 326 & 6.445450174764016e-09 & 1.1385457661713139e-08 \\\\ 327 & 8.812856161500461e-10 & 1.204034601127935e-08 \\\\ 328 & 1.5830177111318487e-09 & 1.2748605661695556e-08 \\\\ 329 & 1.8038367254822087e-09 & 1.3514863657384214e-08 \\\\ 330 & 1.9282498215530116e-09 & 1.4338389020411986e-08 \\\\ 331 & 1.1960038247726163e-09 & 1.522632050492015e-08 \\\\ 332 & 2.8448021695322185e-09 & 1.6176592557757804e-08 \\\\ 333 & 6.953885539813979e-09 & 1.719879741223368e-08 \\\\ 334 & 2.1615405769260588e-09 & 1.829338235261873e-08 \\\\ 335 & 1.2595051950924866e-09 & 1.9484690546205834e-08 \\\\ 336 & 4.235417854935567e-09 & 2.081479918013004e-08 \\\\ 337 & 4.243058477630356e-09 & 2.2356682700447286e-08 \\\\ 338 & 4.640069076956206e-09 & 2.4000454522122122e-08 \\\\ 339 & 5.703740905365979e-09 & 2.542579523711707e-08 \\\\ 340 & 4.505711040375009e-09 & 2.7159574563523062e-08 \\\\ 341 & 4.981132913946348e-09 & 2.9046438701597746e-08 \\\\ 342 & 2.845696240232299e-09 & 3.107807256404512e-08 \\\\ 343 & 3.367678117685429e-09 & 3.320775546071236e-08 \\\\ 344 & 3.999535085379333e-09 & 3.5439308078619e-08 \\\\ 345 & 5.509683598662367e-09 & 3.7751911647423745e-08 \\\\ 346 & 7.857752829227607e-09 & 4.008487269493315e-08 \\\\ 347 & 1.7323895972798676e-09 & 4.223261700544279e-08 \\\\ 348 & 4.675032200632401e-09 & 4.3808300857401895e-08 \\\\ 349 & 5.273724445287074e-09 & 4.493133387474372e-08 \\\\ 350 & 1.0454437762946676e-08 & 4.584592586190512e-08 \\\\ 351 & 9.721343575957071e-09 & 4.8239130154449855e-08 \\\\ 352 & 8.538370370612037e-09 & 4.875980428504218e-08 \\\\ 353 & 7.213780145202976e-09 & 6.207903723106186e-08 \\\\ 354 & 7.401112809831348e-09 & 6.060869449557264e-08 \\\\ 355 & 5.0971642795116796e-09 & 5.892726378266033e-08 \\\\ 356 & 8.824573262234091e-10 & 6.27322074981e-08 \\\\ 357 & 1.007395793495548e-09 & 6.623004241706428e-08 \\\\ 358 & 3.3336530217444674e-09 & 7.316537694829165e-08 \\\\ 359 & 1.1226313258303656e-08 & 6.614744118753952e-08 \\\\\\end{array}$"
      ],
      "text/plain": [
       "<IPython.core.display.Math object>"
      ]
     },
     "metadata": {},
     "output_type": "display_data"
    }
   ],
   "source": [
    "display(Math(latex_arr_str(poynting_str_0_984, \\\n",
    "                           titles = [\"\\\\varphi\", \"upper\\\\,half\\\\,sphere\", \\\n",
    "                           \"down\\\\,half\\\\,sphere\"], \n",
    "                          indexes = [0,2,3])))"
   ]
  },
  {
   "cell_type": "code",
   "execution_count": 51,
   "id": "7a491354",
   "metadata": {},
   "outputs": [],
   "source": [
    "def arr_str(str1, indexes):\n",
    "    lst = str1.split(\"\\n\")\n",
    "    arr = []\n",
    "    for row in lst:\n",
    "        if len(row) > 0 and row[0] != '#':\n",
    "            splitted_row = row.split(\" \")\n",
    "            ltx = \"(\"\n",
    "            for index in indexes:\n",
    "                if index < len(splitted_row):\n",
    "                    ltx += \"np.float128(\"+ splitted_row[index]+\"), \"\n",
    "            ltx += \")\"\n",
    "            exec(preparse(\"arr += [\" + ltx + \"]\"))\n",
    "\n",
    "\n",
    "    return arr"
   ]
  },
  {
   "cell_type": "code",
   "execution_count": 72,
   "id": "74776aca",
   "metadata": {},
   "outputs": [
    {
     "data": {
      "text/plain": [
       "29979245800.0"
      ]
     },
     "execution_count": 72,
     "metadata": {},
     "output_type": "execute_result"
    }
   ],
   "source": [
    "c = np.float128(299792458 * 100)\n",
    "c"
   ]
  },
  {
   "cell_type": "markdown",
   "id": "ddf1e929",
   "metadata": {},
   "source": [
    "давление поля на воображаемый ящик (пусть например \"ящик\" будет идеально поглощающим) . "
   ]
  },
  {
   "cell_type": "code",
   "execution_count": 96,
   "id": "8d7b3946",
   "metadata": {},
   "outputs": [],
   "source": [
    "mean_upper = np.float128(0)\n",
    "mean_down = np.float128(0)\n",
    "\n",
    "arr = arr_str(poynting_str_0_984, indexes = [0,2,3])\n",
    "arr = arr_str(poynting_str_0_1, indexes = [0,2,3])\n",
    "\n",
    "for (phi, upper, down) in arr:\n",
    "    mean_upper += upper\n",
    "    mean_down += down\n",
    "    \n",
    "mean_upper /= len(arr)\n",
    "mean_down /= len(arr)"
   ]
  },
  {
   "cell_type": "code",
   "execution_count": 105,
   "id": "abb14428",
   "metadata": {},
   "outputs": [
    {
     "data": {
      "text/plain": [
       "(5.6246053137886610834e-13, 5.2660517003300141e-13)"
      ]
     },
     "execution_count": 105,
     "metadata": {},
     "output_type": "execute_result"
    }
   ],
   "source": [
    "np.float128(mean_upper * 2 * pi), np.float128(mean_down * 2 * pi)"
   ]
  },
  {
   "cell_type": "code",
   "execution_count": 104,
   "id": "775e726f",
   "metadata": {},
   "outputs": [
    {
     "data": {
      "text/plain": [
       "(5.62406474544396e-13, 5.26605158723961e-13)"
      ]
     },
     "execution_count": 104,
     "metadata": {},
     "output_type": "execute_result"
    }
   ],
   "source": [
    "5.624064745443957e-13, 5.26605158723961e-13"
   ]
  },
  {
   "cell_type": "code",
   "execution_count": 99,
   "id": "661d0850",
   "metadata": {},
   "outputs": [],
   "source": [
    "def get_f_by_vc(v_c):\n",
    "    for vc, f in f_vc:\n",
    "        if v_c == vc:\n",
    "            return f"
   ]
  },
  {
   "cell_type": "code",
   "execution_count": 100,
   "id": "2a808589",
   "metadata": {},
   "outputs": [
    {
     "data": {
      "text/plain": [
       "-8.52257016357100e-16"
      ]
     },
     "execution_count": 100,
     "metadata": {},
     "output_type": "execute_result"
    }
   ],
   "source": [
    "get_f_by_vc(0.1)"
   ]
  },
  {
   "cell_type": "code",
   "execution_count": 101,
   "id": "bd0b85d9",
   "metadata": {},
   "outputs": [
    {
     "data": {
      "text/plain": [
       "-23460496.960854618905"
      ]
     },
     "execution_count": 101,
     "metadata": {},
     "output_type": "execute_result"
    }
   ],
   "source": [
    "# 0_1\n",
    "get_f_by_vc(0.1)/(np.float128((mean_upper+mean_down) * 2 * pi)/c)"
   ]
  },
  {
   "cell_type": "code",
   "execution_count": 78,
   "id": "b6c1b772",
   "metadata": {},
   "outputs": [
    {
     "data": {
      "text/plain": [
       "-569871846.8769587972"
      ]
     },
     "execution_count": 78,
     "metadata": {},
     "output_type": "execute_result"
    }
   ],
   "source": [
    "# 0_984\n",
    "-6.59518046321200e-10/(3.4695263028966556564e-08/c)"
   ]
  },
  {
   "cell_type": "raw",
   "id": "22137adc",
   "metadata": {},
   "source": [
    "SI unit of the Poynting vector is the watt per square metre (W/m2)\n",
    "Watt          kg⋅m2⋅s−3\n",
    "The joule     kg⋅m2⋅s−2 = W*s\n",
    "Newton (unit) kg⋅m⋅s−2"
   ]
  },
  {
   "cell_type": "code",
   "execution_count": null,
   "id": "a951530c",
   "metadata": {},
   "outputs": [],
   "source": [
    "SI unit of the Poynting vector is W/m2 = kg⋅s−3"
   ]
  },
  {
   "cell_type": "markdown",
   "id": "7cc16a1e",
   "metadata": {},
   "source": [
    "думаю, что проще считать поток импульса (заданного направления) через замкнутую поверхность - суммарный поток покажет сколько импульса убегает наружу за единицу времени.\n",
    "Именно такая сила тяги и будет толкать систему... за то место, которым мы крутим заряды."
   ]
  },
  {
   "cell_type": "markdown",
   "id": "0249f561",
   "metadata": {},
   "source": [
    "https://physics.spbstu.ru/userfiles/files/opt1-3.pdf\n",
    "\n",
    "плотность потока импульса электромагнитной волны равна плотности потока энергии, деленной на скорость света"
   ]
  },
  {
   "cell_type": "raw",
   "id": "1878db81",
   "metadata": {},
   "source": [
    "F = poynting * S / c"
   ]
  },
  {
   "cell_type": "code",
   "execution_count": 31,
   "id": "f896ca27",
   "metadata": {},
   "outputs": [],
   "source": [
    "def get_str(str1):\n",
    "    lst = str1.split(\"\\n\")\n",
    "    arr = []\n",
    "    s = 0\n",
    "    for row in lst:\n",
    "        if len(row) > 0 and row[0] != '#':\n",
    "            splitted_row = row.split(\" \")\n",
    "            s+= float(splitted_row[2])\n",
    "            arr+=[(float(splitted_row[1])/pi, float(splitted_row[2]))]\n",
    "    print(s)\n",
    "\n",
    "    return arr"
   ]
  },
  {
   "cell_type": "code",
   "execution_count": null,
   "id": "35fbf31a",
   "metadata": {},
   "outputs": [],
   "source": []
  }
 ],
 "metadata": {
  "kernelspec": {
   "display_name": "SageMath 9.6.beta7",
   "language": "sage",
   "name": "sagemath"
  },
  "language_info": {
   "codemirror_mode": {
    "name": "ipython",
    "version": 3
   },
   "file_extension": ".py",
   "mimetype": "text/x-python",
   "name": "python",
   "nbconvert_exporter": "python",
   "pygments_lexer": "ipython3",
   "version": "3.10.3"
  }
 },
 "nbformat": 4,
 "nbformat_minor": 5
}
