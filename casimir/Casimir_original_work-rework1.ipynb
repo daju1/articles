{
 "cells": [
  {
   "cell_type": "markdown",
   "metadata": {},
   "source": [
    "https://www.dwc.knaw.nl/DL/publications/PU00018547.pdf\n",
    "\n",
    "Mathematics. - On the attraction between two perfectly conducting\n",
    "plates. By H . B. G. CASIMIR\n",
    "\n",
    "(Communicated at the meeting of May 29. 1948.) "
   ]
  },
  {
   "cell_type": "markdown",
   "metadata": {},
   "source": [
    "Let us consider a cubic cavity of volume $L^3$ bounded by perfectly conducting walls and let a perfectly conducting square plate with side $L$ be\n",
    "placed in this cavity parallel to the $xy$ face and let us compare the\n",
    "situation in which this plate is at a small distance a from the $xy$ face and the\n",
    "situation in which it is at a very large distance. say $L/2$. In both cases the\n",
    "expressions $\\frac{1}{2}\\sum\\,\\hbar\\omega$ where the summation extends over all possible\n",
    "resonance frequencies of the cavities are divergent and devoid of physical\n",
    "meaning but the difference between these sums in the two situations,\n",
    "$\\frac{1}{2\\,V_{I}}\\left(\\sum\\,\\,\\hbar\\omega\\right)_{I} - \\frac{1}{2\\,V_{II}}\\left(\\sum\\,\\,\\hbar\\omega\\right)_{II}$, will be shown to have a weIl defined value and this\n",
    "value will be interpreted as the interaction between the plate and the\n",
    "$xy$ face."
   ]
  },
  {
   "cell_type": "markdown",
   "metadata": {},
   "source": [
    "The possible vibrations of a cavity defined by "
   ]
  },
  {
   "cell_type": "markdown",
   "metadata": {},
   "source": [
    "$0<=x<=L$, $0<=y<=L$, $0<=z<=a$ "
   ]
  },
  {
   "cell_type": "markdown",
   "metadata": {},
   "source": [
    "have wave numbers "
   ]
  },
  {
   "cell_type": "markdown",
   "metadata": {},
   "source": [
    "$k_x = \\frac{\\pi}{L}\\,n_x$, $k_y = \\frac{\\pi}{L}\\,n_y$, $k_z = \\frac{\\pi}{a}\\,n_z$,\n",
    "\n",
    "where $n_x$. $n_y$, $n_z$:\n",
    "\n",
    "are positive integers;"
   ]
  },
  {
   "cell_type": "markdown",
   "metadata": {},
   "source": [
    "$k = \\sqrt{k_x^2+k_y^2+k_z^2} = \\sqrt{\\kappa^2+k_z^2}$. "
   ]
  },
  {
   "cell_type": "markdown",
   "metadata": {},
   "source": [
    "To every $k_x$, $k_y$, $k_z$ correspond two standing waves unless one of the $n_i$\n",
    "is zero, when there is only one. For $k_x$, $k_y$ this is without importance since\n",
    "for very large $L$ we may regard $k_x$, $k_y$ as continuous variables. Thus we\n",
    "find "
   ]
  },
  {
   "cell_type": "markdown",
   "metadata": {},
   "source": [
    "$\\frac{1}{2}\\sum\\,\\hbar\\omega = \\hbar\\,c\\frac{L^2}{\\pi^2}\\int\\limits_{0}^{\\infty}\\int\\limits_{0}^{\\infty}\\left[{\\frac{1}{2}\\sqrt{k_x^2+k_y^2}+\\sum\\limits_{n=1}^{\\infty}\\sqrt{n^2\\frac{\\pi^2}{a^2}+k_x^2+k_y^2}}\\right]d{k_x}d{k_y}$"
   ]
  },
  {
   "cell_type": "markdown",
   "metadata": {},
   "source": [
    "or, introducing polar coordinates in the $k_x$, $k_y$ plane. "
   ]
  },
  {
   "cell_type": "markdown",
   "metadata": {},
   "source": [
    "$\\frac{1}{2}\\sum\\,\\hbar\\omega = \\hbar\\,c\\frac{L^2}{\\pi^2}\\cdot\\frac{\\pi}{2}\\sum\\limits_{\\left(0\\right)\\,1}^{\\infty}\\int\\limits_{0}^{\\infty}{\\sqrt{n^2\\frac{\\pi^2}{a^2}+\\kappa^2}}\\kappa\\,d{\\kappa}$"
   ]
  },
  {
   "cell_type": "markdown",
   "metadata": {},
   "source": [
    "where the notation $\\left(0\\right) 1$ is meant to indicate that the term with $n = 0$\n",
    "has to be multiplied by $\\frac{1}{2}$. For very large $a$ also this last summation may\n",
    "be replaced by an integral and it is therefore easily seen that our interaction energy is given by "
   ]
  },
  {
   "cell_type": "markdown",
   "metadata": {},
   "source": [
    "$\\delta\\,E = \\hbar\\,c\\frac{L^2}{\\pi^2}\\cdot\\frac{\\pi}{2}\\left\\{\\sum\\limits_{\\left(0\\right)\\,1}^{\\infty}\\int\\limits_{0}^{\\infty}{\\sqrt{n^2\\frac{\\pi^2}{a^2}+\\kappa^2}}\\kappa\\,d{\\kappa}-\\int\\limits_{0}^{\\infty}\\int\\limits_{0}^{\\infty}{\\sqrt{k_z^2+\\kappa^2}}\\kappa\\,d{\\kappa}\\left(\\frac{a}{\\pi}d{k_z}\\right)\\right\\}$"
   ]
  },
  {
   "cell_type": "markdown",
   "metadata": {},
   "source": [
    "In order to obtain a finite result it is necessary to multiply the integrands\n",
    "by a function $f(k/k_m)$ which is unity for $k << k_m$ but tends to zero sufficiently rapidly for $(k/k_m)\\, \\rightarrow\\,\\infty$. where km may be defined by $f(1) = \\frac{1}{2}$.\n",
    "The physical meaning is obvious: for very short waves (X~rays e.g.)\n",
    "our plate is hardly an obstacle at all and therefore the zero point energy\n",
    "of these waves will not be influenced by the position of this plate. "
   ]
  },
  {
   "cell_type": "markdown",
   "metadata": {},
   "source": [
    "Introducing the variable $u = a^2\\,\\kappa^2/\\pi^2$"
   ]
  },
  {
   "cell_type": "markdown",
   "metadata": {},
   "source": [
    "$du = a^2/\\pi^2\\,\\kappa\\,d\\kappa$"
   ]
  },
  {
   "cell_type": "markdown",
   "metadata": {},
   "source": [
    "$\\delta\\,E = L^2\\,\\hbar\\,c\\frac{\\pi^2}{4\\,a^3}\\left\\{\\sum\\limits_{\\left(0\\right)\\,1}^{\\infty}\\int\\limits_{0}^{\\infty}{\\sqrt{n^2+u}}f\\left(\\pi\\sqrt{n^2+u}/\\left(a\\,k_m\\right)\\right)\\,d{u}-\\int\\limits_{0}^{\\infty}\\int\\limits_{0}^{\\infty}{\\sqrt{n^2+u}}f\\left(\\pi\\sqrt{n^2+u}/\\left(a\\,k_m\\right)\\right)\\,d{u}\\,d{n}\\right\\}$"
   ]
  },
  {
   "cell_type": "markdown",
   "metadata": {},
   "source": [
    "We apply the EULER-MACLAURIN formula: "
   ]
  },
  {
   "cell_type": "markdown",
   "metadata": {},
   "source": [
    "$\\sum\\limits_{\\left(0\\right)\\,1}^{\\infty}{F\\left(n\\right)}-\\int\\limits_{0}^{\\infty}{F\\left(n\\right)} = -\\,\\frac{1}{12}F'\\left(0\\right)\\,+\\,\\frac{1}{12\\times30}F'''\\left(0\\right)\\,+\\,...$"
   ]
  },
  {
   "cell_type": "markdown",
   "metadata": {},
   "source": [
    "Introducing $w = u + n^2$ we have "
   ]
  },
  {
   "cell_type": "markdown",
   "metadata": {},
   "source": [
    "$F\\left(n\\right) = \\int\\limits_{n^2}^{\\infty}{\\sqrt{w}}f\\left(\\pi\\sqrt{w}/\\left(a\\,k_m\\right)\\right)\\,d{w}$"
   ]
  },
  {
   "cell_type": "markdown",
   "metadata": {},
   "source": [
    "whence"
   ]
  },
  {
   "cell_type": "markdown",
   "metadata": {},
   "source": [
    "$F'\\left(n\\right) = -2\\,n^2f\\left(\\pi\\,n/\\left(a\\,k_m\\right)\\right)$"
   ]
  },
  {
   "cell_type": "markdown",
   "metadata": {},
   "source": [
    "$F'\\left(0\\right) = 0$"
   ]
  },
  {
   "cell_type": "markdown",
   "metadata": {},
   "source": [
    "$F'''\\left(0\\right) = -4$"
   ]
  },
  {
   "cell_type": "markdown",
   "metadata": {},
   "source": [
    "The higher derivatives will contain powers of $(\\pi/(a\\,k_m))$ . Thus we find"
   ]
  },
  {
   "cell_type": "markdown",
   "metadata": {},
   "source": [
    "$\\delta\\,E/L^2 = \\hbar\\,c\\frac{\\pi^2}{4\\,a^3}\\left\\{\\frac{-4}{12\\times30}\\right\\}$"
   ]
  },
  {
   "cell_type": "markdown",
   "metadata": {},
   "source": [
    "a formula which holds as long as $a\\,k_m\\,»\\,1$. For the force per $cm^2$ we find"
   ]
  },
  {
   "cell_type": "markdown",
   "metadata": {},
   "source": [
    "$F = \\hbar\\,c\\frac{\\pi^2}{240}\\frac{1}{a^4}\\,=\\,0.013\\,\\frac{1}{a_{\\mu}^4}\\,dyne/cm^2$"
   ]
  },
  {
   "cell_type": "markdown",
   "metadata": {},
   "source": [
    "where $a_{\\mu}$ is the distance measured in microns. "
   ]
  },
  {
   "cell_type": "markdown",
   "metadata": {},
   "source": [
    "We are thus led to the following conclusions. There exists an attractive\n",
    "force between two metal plates which is independent of the material of\n",
    "the plates as long as the distance is so large that for wave . lengths\n",
    "comparable with that distance the penetration depth is small compared with\n",
    "the distance. This force may be interpreted as a zero point pressure of\n",
    "electromagnetic waves."
   ]
  },
  {
   "cell_type": "markdown",
   "metadata": {},
   "source": [
    "Although the effect is smalI, an experimental confirmation seems not\n",
    "unfeasable and might be of a certain interest. "
   ]
  },
  {
   "cell_type": "markdown",
   "metadata": {},
   "source": [
    "Natuurkundig Laboratorium der N.V. Philips'\n",
    "Gloeilampenfabrieken. Eindhoven .) "
   ]
  },
  {
   "cell_type": "code",
   "execution_count": 1,
   "metadata": {},
   "outputs": [],
   "source": [
    "from IPython.display import display, Math, Latex"
   ]
  },
  {
   "cell_type": "code",
   "execution_count": 2,
   "metadata": {},
   "outputs": [],
   "source": [
    "a = var(\"a\")\n",
    "L = var(\"L\")\n",
    "\n",
    "k_x = var(\"k_x\")\n",
    "k_y = var(\"k_y\")\n",
    "k_z = var(\"k_z\")\n",
    "\n",
    "n_x = var(\"n_x\")\n",
    "n_y = var(\"n_y\")\n",
    "n_z = var(\"n_z\")"
   ]
  },
  {
   "cell_type": "code",
   "execution_count": 3,
   "metadata": {},
   "outputs": [],
   "source": [
    "k_x = pi * n_x / L\n",
    "k_y = pi * n_y / L\n",
    "k_z = pi * n_z / a"
   ]
  },
  {
   "cell_type": "code",
   "execution_count": 4,
   "metadata": {},
   "outputs": [],
   "source": [
    "#kappa = sqrt(k_x^2+k_y^2)\n",
    "kappa = var(\"kappa\")"
   ]
  },
  {
   "cell_type": "code",
   "execution_count": 5,
   "metadata": {},
   "outputs": [],
   "source": [
    "k = sqrt(kappa^2+k_z^2)"
   ]
  },
  {
   "cell_type": "code",
   "execution_count": 6,
   "metadata": {},
   "outputs": [
    {
     "data": {
      "text/plain": [
       "sqrt(kappa^2 + pi^2*n_z^2/a^2)"
      ]
     },
     "execution_count": 6,
     "metadata": {},
     "output_type": "execute_result"
    }
   ],
   "source": [
    "k"
   ]
  },
  {
   "cell_type": "code",
   "execution_count": 7,
   "metadata": {},
   "outputs": [],
   "source": [
    "#n = n_z\n",
    "n = var(\"n\")\n",
    "assume (n, \"real\")\n",
    "assume (n > 0)"
   ]
  },
  {
   "cell_type": "code",
   "execution_count": 8,
   "metadata": {},
   "outputs": [],
   "source": [
    "u = var(\"u\")\n",
    "#u = a^2*kappa^2/(n^2)"
   ]
  },
  {
   "cell_type": "code",
   "execution_count": 9,
   "metadata": {},
   "outputs": [],
   "source": [
    "w = var(\"w\")\n",
    "#w = u + n^2\n",
    "w = a^2*kappa^2/n^2 + n^2"
   ]
  },
  {
   "cell_type": "code",
   "execution_count": 10,
   "metadata": {},
   "outputs": [],
   "source": [
    "#f = function('f')(var(\"k_km\"))\n",
    "#f = lambda k_km, s : 1 / (1 + exp(-k_km)/s)\n",
    "f = lambda k, km : 1 / (1 + (k/km)^2)"
   ]
  },
  {
   "cell_type": "code",
   "execution_count": 11,
   "metadata": {},
   "outputs": [],
   "source": [
    "k_m = var(\"k_m\")\n",
    "s = var(\"s\")\n",
    "#k_m = function('k_m')(var(\"s\"))"
   ]
  },
  {
   "cell_type": "code",
   "execution_count": 12,
   "metadata": {},
   "outputs": [
    {
     "data": {
      "image/png": "[encoded data removed]",
      "text/plain": [
       "Graphics object consisting of 2 graphics primitives"
      ]
     },
     "execution_count": 12,
     "metadata": {},
     "output_type": "execute_result"
    }
   ],
   "source": [
    "plot([f(x, 1000), f(x, 1000)], (x, 0, 2000))"
   ]
  },
  {
   "cell_type": "code",
   "execution_count": 13,
   "metadata": {},
   "outputs": [
    {
     "data": {
      "image/png": "[encoded data removed]",
      "text/plain": [
       "Graphics object consisting of 2 graphics primitives"
      ]
     },
     "execution_count": 13,
     "metadata": {},
     "output_type": "execute_result"
    }
   ],
   "source": [
    "plot([f(x, 1000), f(x, 5000)], (x, 0, 10000))"
   ]
  },
  {
   "cell_type": "code",
   "execution_count": 14,
   "metadata": {},
   "outputs": [],
   "source": [
    "integrand = sqrt(w)*f(pi*sqrt(w)/(a),k_m)"
   ]
  },
  {
   "cell_type": "code",
   "execution_count": 15,
   "metadata": {},
   "outputs": [],
   "source": [
    "N = var (\"N\") # Infinity\n",
    "from sage.symbolic.integration.integral import definite_integral\n",
    "F(n) = definite_integral(integrand, w, n^2, N)"
   ]
  },
  {
   "cell_type": "code",
   "execution_count": 16,
   "metadata": {},
   "outputs": [
    {
     "data": {
      "text/latex": [
       "$$\\int_{n^{2}}^{N} \\frac{\\sqrt{\\frac{a^{2} \\kappa^{2}}{n^{2}} + n^{2}}}{\\frac{\\pi^{2} {\\left(\\frac{a^{2} \\kappa^{2}}{n^{2}} + n^{2}\\right)}}{a^{2} k_{m}^{2}} + 1}\\,{d \\left(\\frac{a^{2} \\kappa^{2}}{n^{2}} + n^{2}\\right)}$$"
      ],
      "text/plain": [
       "<IPython.core.display.Math object>"
      ]
     },
     "metadata": {},
     "output_type": "display_data"
    }
   ],
   "source": [
    "display(Math(latex(F(n))))"
   ]
  },
  {
   "cell_type": "code",
   "execution_count": 17,
   "metadata": {},
   "outputs": [
    {
     "data": {
      "text/latex": [
       "$$0$$"
      ],
      "text/plain": [
       "<IPython.core.display.Math object>"
      ]
     },
     "metadata": {},
     "output_type": "display_data"
    }
   ],
   "source": [
    "F1 = F(n).diff(n, 1).expand()\n",
    "#display(Math(latex(F1)))\n",
    "display(Math(latex(F1.subs(n == 0))))"
   ]
  },
  {
   "cell_type": "code",
   "execution_count": 18,
   "metadata": {},
   "outputs": [
    {
     "data": {
      "text/latex": [
       "$$-4$$"
      ],
      "text/plain": [
       "<IPython.core.display.Math object>"
      ]
     },
     "metadata": {},
     "output_type": "display_data"
    }
   ],
   "source": [
    "F3 = F(n).diff(n, 3).expand()\n",
    "#display(Math(latex(F3)))\n",
    "display(Math(latex(F3.subs(n == 0))))"
   ]
  },
  {
   "cell_type": "code",
   "execution_count": 19,
   "metadata": {},
   "outputs": [
    {
     "data": {
      "text/latex": [
       "$$\\frac{48 \\, \\pi^{2}}{a^{2} k_{m}^{2}}$$"
      ],
      "text/plain": [
       "<IPython.core.display.Math object>"
      ]
     },
     "metadata": {},
     "output_type": "display_data"
    }
   ],
   "source": [
    "F5 = F(n).diff(n, 5).expand()\n",
    "#display(Math(latex(F5)))\n",
    "display(Math(latex(F5.subs(n == 0))))"
   ]
  },
  {
   "cell_type": "code",
   "execution_count": 20,
   "metadata": {},
   "outputs": [
    {
     "data": {
      "text/latex": [
       "$$-\\frac{1440 \\, \\pi^{4}}{a^{4} k_{m}^{4}}$$"
      ],
      "text/plain": [
       "<IPython.core.display.Math object>"
      ]
     },
     "metadata": {},
     "output_type": "display_data"
    }
   ],
   "source": [
    "F7 = F(n).diff(n, 7).expand()\n",
    "display(Math(latex(F7.subs(n == 0))))"
   ]
  },
  {
   "cell_type": "code",
   "execution_count": 21,
   "metadata": {},
   "outputs": [
    {
     "data": {
      "text/latex": [
       "$$\\frac{80640 \\, \\pi^{6}}{a^{6} k_{m}^{6}}$$"
      ],
      "text/plain": [
       "<IPython.core.display.Math object>"
      ]
     },
     "metadata": {},
     "output_type": "display_data"
    }
   ],
   "source": [
    "F9 = F(n).diff(n, 9).expand()\n",
    "display(Math(latex(F9.subs(n == 0))))"
   ]
  },
  {
   "cell_type": "code",
   "execution_count": 22,
   "metadata": {},
   "outputs": [
    {
     "data": {
      "text/latex": [
       "$$\\frac{80640 \\, \\pi^{6}}{a^{6} k_{m}^{6}}$$"
      ],
      "text/plain": [
       "<IPython.core.display.Math object>"
      ]
     },
     "metadata": {},
     "output_type": "display_data"
    }
   ],
   "source": [
    "F11 = F(n).diff(n, 11).expand()\n",
    "display(Math(latex(F9.subs(n == 0))))"
   ]
  },
  {
   "cell_type": "code",
   "execution_count": 23,
   "metadata": {},
   "outputs": [
    {
     "data": {
      "text/plain": [
       "1/1000000"
      ]
     },
     "execution_count": 23,
     "metadata": {},
     "output_type": "execute_result"
    }
   ],
   "source": [
    "# На расстояниях порядка 10 нм — сотни размеров типичного атома — давление, создаваемое эффектом Казимира, оказывается сравнимым с атмосферным.\n",
    "a_f = 10 * 10^-9 * 100\n",
    "a_f"
   ]
  },
  {
   "cell_type": "code",
   "execution_count": 24,
   "metadata": {},
   "outputs": [
    {
     "data": {
      "text/plain": [
       "20000000*pi"
      ]
     },
     "execution_count": 24,
     "metadata": {},
     "output_type": "execute_result"
    }
   ],
   "source": [
    "# Most X-rays have a wavelength ranging from 10 picometers to 10 nanometers,\n",
    "k_mf = 2*pi/(10 * 10^-9 * 100 * 10^-1)\n",
    "k_mf"
   ]
  },
  {
   "cell_type": "code",
   "execution_count": 25,
   "metadata": {},
   "outputs": [
    {
     "data": {
      "text/plain": [
       "20*pi"
      ]
     },
     "execution_count": 25,
     "metadata": {},
     "output_type": "execute_result"
    }
   ],
   "source": [
    "a_f*k_mf"
   ]
  },
  {
   "cell_type": "code",
   "execution_count": 34,
   "metadata": {},
   "outputs": [
    {
     "data": {
      "text/latex": [
       "$$\\left(3, -4, -\\frac{1}{720}, \\frac{1}{180}, \\frac{1}{180}\\right)$$"
      ],
      "text/plain": [
       "<IPython.core.display.Math object>"
      ]
     },
     "metadata": {},
     "output_type": "display_data"
    },
    {
     "data": {
      "text/latex": [
       "$$\\left(5, \\frac{48 \\, \\pi^{2}}{a^{2} k_{m}^{2}}, \\frac{1}{30240}, \\frac{\\pi^{2}}{630 \\, a^{2} k_{m}^{2}}, \\frac{1}{252000}\\right)$$"
      ],
      "text/plain": [
       "<IPython.core.display.Math object>"
      ]
     },
     "metadata": {},
     "output_type": "display_data"
    },
    {
     "data": {
      "text/latex": [
       "$$\\left(7, -\\frac{1440 \\, \\pi^{4}}{a^{4} k_{m}^{4}}, -\\frac{1}{1209600}, \\frac{\\pi^{4}}{840 \\, a^{4} k_{m}^{4}}, \\frac{1}{134400000}\\right)$$"
      ],
      "text/plain": [
       "<IPython.core.display.Math object>"
      ]
     },
     "metadata": {},
     "output_type": "display_data"
    },
    {
     "data": {
      "text/latex": [
       "$$\\left(9, \\frac{80640 \\, \\pi^{6}}{a^{6} k_{m}^{6}}, \\frac{1}{47900160}, \\frac{\\pi^{6}}{594 \\, a^{6} k_{m}^{6}}, \\frac{1}{38016000000}\\right)$$"
      ],
      "text/plain": [
       "<IPython.core.display.Math object>"
      ]
     },
     "metadata": {},
     "output_type": "display_data"
    },
    {
     "data": {
      "text/latex": [
       "$$\\left(11, -\\frac{7257600 \\, \\pi^{8}}{a^{8} k_{m}^{8}}, -\\frac{691}{1307674368000}, \\frac{691 \\, \\pi^{8}}{180180 \\, a^{8} k_{m}^{8}}, \\frac{691}{4612608000000000}\\right)$$"
      ],
      "text/plain": [
       "<IPython.core.display.Math object>"
      ]
     },
     "metadata": {},
     "output_type": "display_data"
    },
    {
     "data": {
      "text/latex": [
       "$$\\left(13, \\frac{958003200 \\, \\pi^{10}}{a^{10} k_{m}^{10}}, \\frac{1}{74724249600}, \\frac{\\pi^{10}}{78 \\, a^{10} k_{m}^{10}}, \\frac{1}{798720000000000}\\right)$$"
      ],
      "text/plain": [
       "<IPython.core.display.Math object>"
      ]
     },
     "metadata": {},
     "output_type": "display_data"
    },
    {
     "data": {
      "text/latex": [
       "$$\\left(15, -\\frac{174356582400 \\, \\pi^{12}}{a^{12} k_{m}^{12}}, -\\frac{3617}{10670622842880000}, \\frac{3617 \\, \\pi^{12}}{61200 \\, a^{12} k_{m}^{12}}, \\frac{3617}{250675200000000000000}\\right)$$"
      ],
      "text/plain": [
       "<IPython.core.display.Math object>"
      ]
     },
     "metadata": {},
     "output_type": "display_data"
    },
    {
     "data": {
      "text/latex": [
       "$$\\left(17, \\frac{41845579776000 \\, \\pi^{14}}{a^{14} k_{m}^{14}}, \\frac{43867}{5109094217170944000}, \\frac{43867 \\, \\pi^{14}}{122094 \\, a^{14} k_{m}^{14}}, \\frac{43867}{200038809600000000000000}\\right)$$"
      ],
      "text/plain": [
       "<IPython.core.display.Math object>"
      ]
     },
     "metadata": {},
     "output_type": "display_data"
    },
    {
     "data": {
      "text/latex": [
       "$$\\left(19, -\\frac{12804747411456000 \\, \\pi^{16}}{a^{16} k_{m}^{16}}, -\\frac{174611}{802857662698291200000}, \\frac{174611 \\, \\pi^{16}}{62700 \\, a^{16} k_{m}^{16}}, \\frac{174611}{41091072000000000000000000}\\right)$$"
      ],
      "text/plain": [
       "<IPython.core.display.Math object>"
      ]
     },
     "metadata": {},
     "output_type": "display_data"
    },
    {
     "data": {
      "text/latex": [
       "$$\\left(21, \\frac{4865804016353280000 \\, \\pi^{18}}{a^{18} k_{m}^{18}}, \\frac{77683}{14101100039391805440000}, \\frac{77683 \\, \\pi^{18}}{2898 \\, a^{18} k_{m}^{18}}, \\frac{77683}{759693312000000000000000000}\\right)$$"
      ],
      "text/plain": [
       "<IPython.core.display.Math object>"
      ]
     },
     "metadata": {},
     "output_type": "display_data"
    },
    {
     "data": {
      "text/latex": [
       "$$\\left(23, -\\frac{2248001455555215360000 \\, \\pi^{20}}{a^{20} k_{m}^{20}}, -\\frac{236364091}{1693824136731743669452800000}, \\frac{236364091 \\, \\pi^{20}}{753480 \\, a^{20} k_{m}^{20}}, \\frac{236364091}{79008104448000000000000000000000}\\right)$$"
      ],
      "text/plain": [
       "<IPython.core.display.Math object>"
      ]
     },
     "metadata": {},
     "output_type": "display_data"
    },
    {
     "data": {
      "text/latex": [
       "$$\\left(25, \\frac{1240896803466478878720000 \\, \\pi^{22}}{a^{22} k_{m}^{22}}, \\frac{657931}{186134520519971831808000000}, \\frac{657931 \\, \\pi^{22}}{150 \\, a^{22} k_{m}^{22}}, \\frac{657931}{6291456000000000000000000000000}\\right)$$"
      ],
      "text/plain": [
       "<IPython.core.display.Math object>"
      ]
     },
     "metadata": {},
     "output_type": "display_data"
    },
    {
     "data": {
      "text/latex": [
       "$$\\left(27, -\\frac{806582922253211271168000000 \\, \\pi^{24}}{a^{24} k_{m}^{24}}, -\\frac{3392780147}{37893265687455865519472640000000}, \\frac{3392780147 \\, \\pi^{24}}{46980 \\, a^{24} k_{m}^{24}}, \\frac{3392780147}{788193607680000000000000000000000000}\\right)$$"
      ],
      "text/plain": [
       "<IPython.core.display.Math object>"
      ]
     },
     "metadata": {},
     "output_type": "display_data"
    },
    {
     "data": {
      "text/latex": [
       "$$\\left(29, \\frac{609776689223427721003008000000 \\, \\pi^{26}}{a^{26} k_{m}^{26}}, \\frac{1723168255201}{759790291646040068357842010112000000}, \\frac{1723168255201 \\, \\pi^{26}}{1246014 \\, a^{26} k_{m}^{26}}, \\frac{1723168255201}{8361858406809600000000000000000000000000}\\right)$$"
      ],
      "text/plain": [
       "<IPython.core.display.Math object>"
      ]
     },
     "metadata": {},
     "output_type": "display_data"
    },
    {
     "data": {
      "text/latex": [
       "$$\\left(31, -\\frac{530505719624382117272616960000000 \\, \\pi^{28}}{a^{28} k_{m}^{28}}, -\\frac{7709321041217}{134196726836183700385281186201600000000}, \\frac{7709321041217 \\, \\pi^{28}}{252960 \\, a^{28} k_{m}^{28}}, \\frac{7709321041217}{679034329497600000000000000000000000000000}\\right)$$"
      ],
      "text/plain": [
       "<IPython.core.display.Math object>"
      ]
     },
     "metadata": {},
     "output_type": "display_data"
    },
    {
     "data": {
      "text/latex": [
       "$$\\left(33, \\frac{526261673867387060334436024320000000 \\, \\pi^{30}}{a^{30} k_{m}^{30}}, \\frac{151628697551}{104199811425742637946218332815360000000}, \\frac{151628697551 \\, \\pi^{30}}{198 \\, a^{30} k_{m}^{30}}, \\frac{151628697551}{212600881152000000000000000000000000000000}\\right)$$"
      ],
      "text/plain": [
       "<IPython.core.display.Math object>"
      ]
     },
     "metadata": {},
     "output_type": "display_data"
    },
    {
     "data": {
      "text/latex": [
       "$$\\left(35, -\\frac{590465598079208281695237219287040000000 \\, \\pi^{32}}{a^{32} k_{m}^{32}}, -\\frac{26315271553053477373}{713925872841910517552409860896601407488000000000}, \\frac{26315271553053477373 \\, \\pi^{32}}{1209089700 \\, a^{32} k_{m}^{32}}, \\frac{26315271553053477373}{519300071943045120000000000000000000000000000000000}\\right)$$"
      ],
      "text/plain": [
       "<IPython.core.display.Math object>"
      ]
     },
     "metadata": {},
     "output_type": "display_data"
    },
    {
     "data": {
      "text/latex": [
       "$$\\left(37, \\frac{743986653579802434935998896301670400000000 \\, \\pi^{34}}{a^{34} k_{m}^{34}}, \\frac{154210205991661}{165165037094716140555791754978970828800000000}, \\frac{154210205991661 \\, \\pi^{34}}{222 \\, a^{34} k_{m}^{34}}, \\frac{154210205991661}{38139309588480000000000000000000000000000000000}\\right)$$"
      ],
      "text/plain": [
       "<IPython.core.display.Math object>"
      ]
     },
     "metadata": {},
     "output_type": "display_data"
    },
    {
     "data": {
      "text/latex": [
       "$$\\left(39, -\\frac{1046045234933202223520014448200148582400000000 \\, \\pi^{36}}{a^{36} k_{m}^{36}}, -\\frac{261082718496449122051}{11039333782344056345696120477635448049500160000000000}, \\frac{261082718496449122051 \\, \\pi^{36}}{10553400 \\, a^{36} k_{m}^{36}}, \\frac{261082718496449122051}{725224125785702400000000000000000000000000000000000000}\\right)$$"
      ],
      "text/plain": [
       "<IPython.core.display.Math object>"
      ]
     },
     "metadata": {},
     "output_type": "display_data"
    },
    {
     "data": {
      "text/latex": [
       "$$\\left(41, \\frac{1631830566495795468691222539192231788544000000000 \\, \\pi^{38}}{a^{38} k_{m}^{38}}, \\frac{1520097643918070802691}{2537441048661701096768915546877587895305109504000000000}, \\frac{1520097643918070802691 \\, \\pi^{38}}{1554966 \\, a^{38} k_{m}^{38}}, \\frac{1520097643918070802691}{42742579944908390400000000000000000000000000000000000000}\\right)$$"
      ],
      "text/plain": [
       "<IPython.core.display.Math object>"
      ]
     },
     "metadata": {},
     "output_type": "display_data"
    },
    {
     "data": {
      "text/latex": [
       "$$\\left(43, -\\frac{2810012235505759797086285212489023139872768000000000 \\, \\pi^{40}}{a^{40} k_{m}^{40}}, -\\frac{2530297234481911294093}{166746126054911786359100164509098633120050053120000000000}, \\frac{2530297234481911294093 \\, \\pi^{40}}{59340 \\, a^{40} k_{m}^{40}}, \\frac{2530297234481911294093}{652450199922278400000000000000000000000000000000000000000}\\right)$$"
      ],
      "text/plain": [
       "<IPython.core.display.Math object>"
      ]
     },
     "metadata": {},
     "output_type": "display_data"
    },
    {
     "data": {
      "text/latex": [
       "$$\\left(45, \\frac{5316543149576897536087251622029231780639277056000000000 \\, \\pi^{42}}{a^{42} k_{m}^{42}}, \\frac{25932657025822267968607}{67466932568130829732947223083550951296312425840640000000000}, \\frac{25932657025822267968607 \\, \\pi^{42}}{12690 \\, a^{42} k_{m}^{42}}, \\frac{25932657025822267968607}{55811210225909760000000000000000000000000000000000000000000}\\right)$$"
      ],
      "text/plain": [
       "<IPython.core.display.Math object>"
      ]
     },
     "metadata": {},
     "output_type": "display_data"
    },
    {
     "data": {
      "text/latex": [
       "$$\\left(47, -\\frac{11005244319624177899700610857600509785923303505920000000000 \\, \\pi^{44}}{a^{44} k_{m}^{44}}, -\\frac{5609403368997817686249127547}{576129822649599132654718834688598335537782181720594841600000000000}, \\frac{5609403368997817686249127547 \\, \\pi^{44}}{52350480 \\, a^{44} k_{m}^{44}}, \\frac{5609403368997817686249127547}{92095938367447891968000000000000000000000000000000000000000000000}\\right)$$"
      ],
      "text/plain": [
       "<IPython.core.display.Math object>"
      ]
     },
     "metadata": {},
     "output_type": "display_data"
    },
    {
     "data": {
      "text/latex": [
       "$$\\left(49, \\frac{24827831185072145341724578094746750077042972709355520000000000 \\, \\pi^{46}}{a^{46} k_{m}^{46}}, \\frac{19802288209643185928499101}{80293206052523318035137285558410989749156973742055751680000000000}, \\frac{19802288209643185928499101 \\, \\pi^{46}}{3234 \\, a^{46} k_{m}^{46}}, \\frac{19802288209643185928499101}{2275725186705653760000000000000000000000000000000000000000000000}\\right)$$"
      ],
      "text/plain": [
       "<IPython.core.display.Math object>"
      ]
     },
     "metadata": {},
     "output_type": "display_data"
    },
    {
     "data": {
      "text/latex": [
       "$$\\left(51, -\\frac{60828186403426756087225216332129537688755283137921024000000000000 \\, \\pi^{48}}{a^{48} k_{m}^{48}}, -\\frac{61628132164268458257532691681}{9865115270907751302226185584744768422362331819308031672320000000000000}, \\frac{61628132164268458257532691681 \\, \\pi^{48}}{162180 \\, a^{48} k_{m}^{48}}, \\frac{61628132164268458257532691681}{45649611722934190080000000000000000000000000000000000000000000000000}\\right)$$"
      ],
      "text/plain": [
       "<IPython.core.display.Math object>"
      ]
     },
     "metadata": {},
     "output_type": "display_data"
    },
    {
     "data": {
      "text/latex": [
       "$$\\left(53, \\frac{161316350341887757143321273712807533950579010881766555648000000000000 \\, \\pi^{50}}{a^{50} k_{m}^{50}}, \\frac{29149963634884862421418123812691}{184213270476714621616730008661056009704456294528302737023565824000000000000}, \\frac{29149963634884862421418123812691 \\, \\pi^{50}}{1141938 \\, a^{50} k_{m}^{50}}, \\frac{29149963634884862421418123812691}{128570788782005236531200000000000000000000000000000000000000000000000000}\\right)$$"
      ],
      "text/plain": [
       "<IPython.core.display.Math object>"
      ]
     },
     "metadata": {},
     "output_type": "display_data"
    },
    {
     "data": {
      "text/latex": [
       "$$\\left(55, -\\frac{461687394678482760944185485366055162166557129143615882264576000000000000 \\, \\pi^{52}}{a^{52} k_{m}^{52}}, -\\frac{354198989901889536240773677094747}{88366967341461600444717101899062958038679034518088079865439846400000000000000}, \\frac{354198989901889536240773677094747 \\, \\pi^{52}}{191400 \\, a^{52} k_{m}^{52}}, \\frac{354198989901889536240773677094747}{8619889686787129344000000000000000000000000000000000000000000000000000000}\\right)$$"
      ],
      "text/plain": [
       "<IPython.core.display.Math object>"
      ]
     },
     "metadata": {},
     "output_type": "display_data"
    },
    {
     "data": {
      "text/latex": [
       "$$\\left(57, \\frac{1421997175609726903708091294927449899472995957762336917374894080000000000000 \\, \\pi^{54}}{a^{54} k_{m}^{54}}, \\frac{2913228046513104891794716413587449}{28693059009453069463021866149046084071566112435728434318790612746240000000000000}, \\frac{2913228046513104891794716413587449 \\, \\pi^{54}}{20178 \\, a^{54} k_{m}^{54}}, \\frac{2913228046513104891794716413587449}{363494533124327473152000000000000000000000000000000000000000000000000000000}\\right)$$"
      ],
      "text/plain": [
       "<IPython.core.display.Math object>"
      ]
     },
     "metadata": {},
     "output_type": "display_data"
    },
    {
     "data": {
      "text/latex": [
       "$$\\left(59, -\\frac{4701122662565757143658949821030149367657724636362285848841399828480000000000000 \\, \\pi^{56}}{a^{56} k_{m}^{56}}, -\\frac{1215233140483755572040304994079820246041491}{472521648504724881947681632159585722781504396170832356365329971241033924608000000000000000}, \\frac{1215233140483755572040304994079820246041491 \\, \\pi^{56}}{100512512100 \\, a^{56} k_{m}^{56}}, \\frac{1215233140483755572040304994079820246041491}{724268979263411952612802560000000000000000000000000000000000000000000000000000000000}\\right)$$"
      ],
      "text/plain": [
       "<IPython.core.display.Math object>"
      ]
     },
     "metadata": {},
     "output_type": "display_data"
    },
    {
     "data": {
      "text/latex": [
       "$$\\left(61, \\frac{16641974225482780288552682366446728761508345212722491904898555392819200000000000000 \\, \\pi^{58}}{a^{58} k_{m}^{58}}, \\frac{396793078518930920708162576045270521}{6090962566526697585610281746119502726712054347856432037192871273771827200000000000000}, \\frac{396793078518930920708162576045270521 \\, \\pi^{58}}{366 \\, a^{58} k_{m}^{58}}, \\frac{396793078518930920708162576045270521}{1054923176715264983040000000000000000000000000000000000000000000000000000000000}\\right)$$"
      ],
      "text/plain": [
       "<IPython.core.display.Math object>"
      ]
     },
     "metadata": {},
     "output_type": "display_data"
    },
    {
     "data": {
      "text/latex": [
       "$$\\left(63, -\\frac{62939946520775875051306244709901528176024561594516464384326336495642214400000000000000 \\, \\pi^{60}}{a^{60} k_{m}^{60}}, -\\frac{106783830147866529886385444979142647942017}{64712335414800923692751028560932355209461413249018048021388966131359499157504000000000000000}, \\frac{106783830147866529886385444979142647942017 \\, \\pi^{60}}{1028160 \\, a^{60} k_{m}^{60}}, \\frac{106783830147866529886385444979142647942017}{1185387774176575786844160000000000000000000000000000000000000000000000000000000000000}\\right)$$"
      ],
      "text/plain": [
       "<IPython.core.display.Math object>"
      ]
     },
     "metadata": {},
     "output_type": "display_data"
    },
    {
     "data": {
      "text/latex": [
       "$$\\left(65, \\frac{253773864371768328206866778670322961605731032349090384397603788750429408460800000000000000 \\, \\pi^{62}}{a^{62} k_{m}^{62}}, \\frac{133872729284212332186510857141084758385627191}{3202826649724569998949942171574625330603994155761076432501433921023531974007980032000000000000000}, \\frac{133872729284212332186510857141084758385627191 \\, \\pi^{62}}{12620790 \\, a^{62} k_{m}^{62}}, \\frac{133872729284212332186510857141084758385627191}{5820312078450819298492416000000000000000000000000000000000000000000000000000000000000000}\\right)$$"
      ],
      "text/plain": [
       "<IPython.core.display.Math object>"
      ]
     },
     "metadata": {},
     "output_type": "display_data"
    },
    {
     "data": {
      "text/latex": [
       "$$\\left(67, -\\frac{1088689878154886128007458480495685505288586128777597749065720253739342162296832000000000000000 \\, \\pi^{64}}{a^{64} k_{m}^{64}}, -\\frac{125235502160125163977598011460214000388469}{118284684058990330664594137610612317061084222640160620303897173514382580876574720000000000000000}, \\frac{4633713579924631067171126424027918014373353 \\, \\pi^{64}}{4020 \\, a^{64} k_{m}^{64}}, \\frac{4633713579924631067171126424027918014373353}{741559111763123974963200000000000000000000000000000000000000000000000000000000000000000}\\right)$$"
      ],
      "text/plain": [
       "<IPython.core.display.Math object>"
      ]
     },
     "metadata": {},
     "output_type": "display_data"
    },
    {
     "data": {
      "text/latex": [
       "$$\\left(69, \\frac{4960071084873661199201980837138343162094798402710735344743421476036442891424366592000000000000000 \\, \\pi^{66}}{a^{66} k_{m}^{66}}, \\frac{43010895638096200108659330496510205957469661721}{1603759624156540370182773271995289047972759546742072901957269439532767225855806147657728000000000000000}, \\frac{43010895638096200108659330496510205957469661721 \\, \\pi^{66}}{323334 \\, a^{66} k_{m}^{66}}, \\frac{43010895638096200108659330496510205957469661721}{23857838193315216648830976000000000000000000000000000000000000000000000000000000000000000000}\\right)$$"
      ],
      "text/plain": [
       "<IPython.core.display.Math object>"
      ]
     },
     "metadata": {},
     "output_type": "display_data"
    },
    {
     "data": {
      "text/latex": [
       "$$\\left(71, -\\frac{23957143339939783592145567443378197472917876285092851715110725729256019165579690639360000000000000000 \\, \\pi^{68}}{a^{68} k_{m}^{68}}, -\\frac{5827954961669944110438277244641067365282488301844260429}{8579000892580528660195091786918216839948295135975948477309820322476390397904697550185671373619200000000000000000}, \\frac{5827954961669944110438277244641067365282488301844260429 \\, \\pi^{68}}{358097823720 \\, a^{68} k_{m}^{68}}, \\frac{5827954961669944110438277244641067365282488301844260429}{10569182252024316321706574610432000000000000000000000000000000000000000000000000000000000000000000000}\\right)$$"
      ],
      "text/plain": [
       "<IPython.core.display.Math object>"
      ]
     },
     "metadata": {},
     "output_type": "display_data"
    },
    {
     "data": {
      "text/latex": [
       "$$\\left(73, \\frac{122468916753772173723048140770549345481556183569394657967646029927956769974443378548408320000000000000000 \\, \\pi^{70}}{a^{70} k_{m}^{70}}, \\frac{923038305114085622008920911661422572613197507651}{53641385538152212090695085657500613320921608403394860189828961108445065248806199804202844160000000000000000}, \\frac{923038305114085622008920911661422572613197507651 \\, \\pi^{70}}{438 \\, a^{70} k_{m}^{70}}, \\frac{923038305114085622008920911661422572613197507651}{5170991298742261508997120000000000000000000000000000000000000000000000000000000000000000000000}\\right)$$"
      ],
      "text/plain": [
       "<IPython.core.display.Math object>"
      ]
     },
     "metadata": {},
     "output_type": "display_data"
    },
    {
     "data": {
      "text/latex": [
       "$$\\left(75, -\\frac{661577088303877282451906056442507564291366503641869942341223853670822471401943130918501744640000000000000000 \\, \\pi^{72}}{a^{72} k_{m}^{72}}, -\\frac{1297636253996598563562484002136063152861329885729779}{2977096897367447771033577253991284039311149266388414740535507341518701121308744089133257850880000000000000000000}, \\frac{1297636253996598563562484002136063152861329885729779 \\, \\pi^{72}}{4500 \\, a^{72} k_{m}^{72}}, \\frac{1297636253996598563562484002136063152861329885729779}{21250649172913403461632000000000000000000000000000000000000000000000000000000000000000000000000000}\\right)$$"
      ],
      "text/plain": [
       "<IPython.core.display.Math object>"
      ]
     },
     "metadata": {},
     "output_type": "display_data"
    },
    {
     "data": {
      "text/latex": [
       "$$\\left(77, \\frac{3770989403332100509975864521722293116460789070758658671344975965923688086991075846235459944448000000000000000000 \\, \\pi^{74}}{a^{74} k_{m}^{74}}, \\frac{31911258890415448330398387349964774884015336567107729499}{2890304996099115092675081169590225337456303469595540007921727588889938123779006010953938158101725184000000000000000000}, \\frac{31911258890415448330398387349964774884015336567107729499 \\, \\pi^{74}}{766458 \\, a^{74} k_{m}^{74}}, \\frac{31911258890415448330398387349964774884015336567107729499}{1447798227890921012479603507200000000000000000000000000000000000000000000000000000000000000000000000000}\\right)$$"
      ],
      "text/plain": [
       "<IPython.core.display.Math object>"
      ]
     },
     "metadata": {},
     "output_type": "display_data"
    },
    {
     "data": {
      "text/latex": [
       "$$\\left(79, -\\frac{22648562356412595662915042317464092457463499158976503980097925651337670650468401532490172426354688000000000000000000 \\, \\pi^{76}}{a^{76} k_{m}^{76}}, -\\frac{4603784299479457646935574969019046849794257872751288919656867}{16461690815211137165829600871670134263406127035317546750260943457842801299152989035302284008923260046540800000000000000000000}, \\frac{4603784299479457646935574969019046849794257872751288919656867 \\, \\pi^{76}}{726831600 \\, a^{76} k_{m}^{76}}, \\frac{4603784299479457646935574969019046849794257872751288919656867}{549178429844882691536480894976000000000000000000000000000000000000000000000000000000000000000000000000000000}\\right)$$"
      ],
      "text/plain": [
       "<IPython.core.display.Math object>"
      ]
     },
     "metadata": {},
     "output_type": "display_data"
    },
    {
     "data": {
      "text/latex": [
       "$$\\left(81, \\frac{143138914092527604589623067446373064331169314684731505154218890116454078510960297685337889734561628160000000000000000000 \\, \\pi^{78}}{a^{78} k_{m}^{78}}, \\frac{40902784126466971629833036824055363419700878721225693045893}{5773937516664378513936215294651796668990707815752699454910881589517524618975116488031159796112746956718080000000000000000000}, \\frac{40902784126466971629833036824055363419700878721225693045893 \\, \\pi^{78}}{40338 \\, a^{78} k_{m}^{78}}, \\frac{40902784126466971629833036824055363419700878721225693045893}{12191412427903727912324431872000000000000000000000000000000000000000000000000000000000000000000000000000000}\\right)$$"
      ],
      "text/plain": [
       "<IPython.core.display.Math object>"
      ]
     },
     "metadata": {},
     "output_type": "display_data"
    },
    {
     "data": {
      "text/latex": [
       "$$\\left(83, -\\frac{950728667402568349684276413978809893287626588135986657234321868153487989469798297226014263616958334238720000000000000000000 \\, \\pi^{80}}{a^{80} k_{m}^{80}}, -\\frac{2024576195935290360231131160111731009989917391198090877281083932477}{11282700832502177780378685129508497245053548244916671489493558736501972031247704637726011265559632129937108054835200000000000000000000}, \\frac{2024576195935290360231131160111731009989917391198090877281083932477 \\, \\pi^{80}}{11867424660 \\, a^{80} k_{m}^{80}}, \\frac{2024576195935290360231131160111731009989917391198090877281083932477}{1434683608380536196466352131670016000000000000000000000000000000000000000000000000000000000000000000000000000000000}\\right)$$"
      ],
      "text/plain": [
       "<IPython.core.display.Math object>"
      ]
     },
     "metadata": {},
     "output_type": "display_data"
    },
    {
     "data": {
      "text/latex": [
       "$$\\left(85, \\frac{6628480269130706533998775158260262576001332572484098974237692064766118262583433728259771445937433506312355840000000000000000000 \\, \\pi^{82}}{a^{82} k_{m}^{82}}, \\frac{15365456265527410548229019707587476657623969457055556552604581}{3380524937256660332339375330712733913760679611966890476861222953030720313917551201412483437428091088219301478400000000000000000000}, \\frac{15365456265527410548229019707587476657623969457055556552604581 \\, \\pi^{82}}{510 \\, a^{82} k_{m}^{82}}, \\frac{15365456265527410548229019707587476657623969457055556552604581}{24662086720138435164005990400000000000000000000000000000000000000000000000000000000000000000000000000000000000}\\right)$$"
      ],
      "text/plain": [
       "<IPython.core.display.Math object>"
      ]
     },
     "metadata": {},
     "output_type": "display_data"
    },
    {
     "data": {
      "text/latex": [
       "$$\\left(87, -\\frac{48454190767345464763531046406882519430569741104858763501677528993440324499484900553578929269802638931143321190400000000000000000000 \\, \\pi^{84}}{a^{84} k_{m}^{84}}, -\\frac{119220589879456137090501038547210167576886388688366240390629080961277}{1035499005547894376912697662826636120344488154834783079990029935309535273974651974562358152167585859753005951297257472000000000000000000000}, \\frac{119220589879456137090501038547210167576886388688366240390629080961277 \\, \\pi^{84}}{21370680 \\, a^{84} k_{m}^{84}}, \\frac{119220589879456137090501038547210167576886388688366240390629080961277}{413369069355551414580956501114880000000000000000000000000000000000000000000000000000000000000000000000000000000000000}\\right)$$"
      ],
      "text/plain": [
       "<IPython.core.display.Math object>"
      ]
     },
     "metadata": {},
     "output_type": "display_data"
    },
    {
     "data": {
      "text/latex": [
       "$$\\left(89, \\frac{370965284514796878229593691291092568760441937898798693368843161973779124368056398638200282489609003656833267033702400000000000000000000 \\, \\pi^{86}}{a^{86} k_{m}^{86}}, \\frac{235811455804216559976824670249843016755050989933929423246309043145584507}{80858011364569595024974541445486371628389105344973387576556433703534643039594203638788457360876445708529214121900300776243200000000000000000000}, \\frac{235811455804216559976824670249843016755050989933929423246309043145584507 \\, \\pi^{86}}{217966518 \\, a^{86} k_{m}^{86}}, \\frac{235811455804216559976824670249843016755050989933929423246309043145584507}{1686434249098859667660280677217075200000000000000000000000000000000000000000000000000000000000000000000000000000000000000}\\right)$$"
      ],
      "text/plain": [
       "<IPython.core.display.Math object>"
      ]
     },
     "metadata": {},
     "output_type": "display_data"
    },
    {
     "data": {
      "text/latex": [
       "$$\\left(91, -\\frac{2971431928963522994619045467241651475771139922569377533884433727409970786188131753091984262741768119291234468939956224000000000000000000000 \\, \\pi^{88}}{a^{88} k_{m}^{88}}, -\\frac{56329823835110327303888166458198989115623542770410223609709405514345489}{762528861610619270879139447803552601712389926929753662745423383127946703151598370478465001504792534772516589419371566202880000000000000000000000}, \\frac{56329823835110327303888166458198989115623542770410223609709405514345489 \\, \\pi^{88}}{256620 \\, a^{88} k_{m}^{88}}, \\frac{56329823835110327303888166458198989115623542770410223609709405514345489}{794200432203535715361533145907200000000000000000000000000000000000000000000000000000000000000000000000000000000000000000}\\right)$$"
      ],
      "text/plain": [
       "<IPython.core.display.Math object>"
      ]
     },
     "metadata": {},
     "output_type": "display_data"
    },
    {
     "data": {
      "text/latex": [
       "$$\\left(93, \\frac{24876828109282614510950648651747106155155983431750828713680479165876275421967039036886092247674082694706214973965313507328000000000000000000000 \\, \\pi^{90}}{a^{90} k_{m}^{90}}, \\frac{25974761842122222757602163391770238382095923727716949392259895857120201}{13881270084979698897110461947674885234577038754916962422233707374558961685457607782582439474202138143646067955472644937089024000000000000000000000}, \\frac{25974761842122222757602163391770238382095923727716949392259895857120201 \\, \\pi^{90}}{558 \\, a^{90} k_{m}^{90}}, \\frac{25974761842122222757602163391770238382095923727716949392259895857120201}{690770541921242193393711316992000000000000000000000000000000000000000000000000000000000000000000000000000000000000000000}\\right)$$"
      ],
      "text/plain": [
       "<IPython.core.display.Math object>"
      ]
     },
     "metadata": {},
     "output_type": "display_data"
    },
    {
     "data": {
      "text/latex": [
       "$$\\left(95, -\\frac{217473231331348616054730570513573202008373607160365744614994748868090399738835855260458218429166830917121731302404770681061376000000000000000000000 \\, \\pi^{92}}{a^{92} k_{m}^{92}}, -\\frac{211600449597266513097597728109824233673043954389060234150638733420050668349987259}{4464305976863995182392972248319251257239876403988817823497628792390279133875283841899580852539088861745036199243033863760500418097971200000000000000000000000}, \\frac{211600449597266513097597728109824233673043954389060234150638733420050668349987259 \\, \\pi^{92}}{20528071200 \\, a^{92} k_{m}^{92}}, \\frac{211600449597266513097597728109824233673043954389060234150638733420050668349987259}{10165008507112433360881917955166699520000000000000000000000000000000000000000000000000000000000000000000000000000000000000000000000}\\right)$$"
      ],
      "text/plain": [
       "<IPython.core.display.Math object>"
      ]
     },
     "metadata": {},
     "output_type": "display_data"
    },
    {
     "data": {
      "text/latex": [
       "$$\\left(97, \\frac{1983355869741899378419142803083787602316367297302535590888752109676984445618182999975378952074001497964150189477931508611279749120000000000000000000000 \\, \\pi^{94}}{a^{94} k_{m}^{94}}, \\frac{1385882870875622359674512602987828685864126443438867092021917576530468307311}{1154313116189785438239941111394764384548125767030075713897253727832004947349782505985670550107068871815135410276156138011764813987840000000000000000000000}, \\frac{1385882870875622359674512602987828685864126443438867092021917576530468307311 \\, \\pi^{94}}{582 \\, a^{94} k_{m}^{94}}, \\frac{1385882870875622359674512602987828685864126443438867092021917576530468307311}{115276976458254611198606447738880000000000000000000000000000000000000000000000000000000000000000000000000000000000000000000000}\\right)$$"
      ],
      "text/plain": [
       "<IPython.core.display.Math object>"
      ]
     },
     "metadata": {},
     "output_type": "display_data"
    },
    {
     "data": {
      "text/latex": [
       "$$\\left(99, -\\frac{18853780897766495491252371486114484947619387528157903326988477554589414140046447597765952318415458239647211701177216920858825295134720000000000000000000000 \\, \\pi^{96}}{a^{96} k_{m}^{96}}, -\\frac{94598037819122125295227433069493721872702841533066936133385696204311395415197247711}{3110562760746658608881035631079369127355563222251839443548203486627602607774353087246018994325296754480835751701171367862512003079859077120000000000000000000000000}, \\frac{94598037819122125295227433069493721872702841533066936133385696204311395415197247711 \\, \\pi^{96}}{164983500 \\, a^{96} k_{m}^{96}}, \\frac{94598037819122125295227433069493721872702841533066936133385696204311395415197247711}{13071339550172130341364458330259456000000000000000000000000000000000000000000000000000000000000000000000000000000000000000000000000000}\\right)$$"
      ],
      "text/plain": [
       "<IPython.core.display.Math object>"
      ]
     },
     "metadata": {},
     "output_type": "display_data"
    },
    {
     "data": {
      "text/latex": [
       "$$\\left(101, \\frac{186652430887888305363398477712533400981431936528763242937185927790435199986459831217882927952313036572507395841654447516502370421833728000000000000000000000000 \\, \\pi^{98}}{a^{98} k_{m}^{98}}, \\frac{3194436102553247336234317828630350723321851642226039332680959622220200928052520597}{4146777967023126391993639488458967902909142218632190272046079594191374077421217705832443195516558939871832191636137854352304137233735090176000000000000000000000000}, \\frac{188471730050641592837824751889190692675989246891336320628176617710991854755098715223 \\, \\pi^{98}}{1310778 \\, a^{98} k_{m}^{98}}, \\frac{188471730050641592837824751889190692675989246891336320628176617710991854755098715223}{41540212961648951960876140853408563200000000000000000000000000000000000000000000000000000000000000000000000000000000000000000000000000}\\right)$$"
      ],
      "text/plain": [
       "<IPython.core.display.Math object>"
      ]
     },
     "metadata": {},
     "output_type": "display_data"
    },
    {
     "data": {
      "text/latex": [
       "$$\\left(103, -\\frac{1922893343007025321853731117394519096910711810119318928738889428097063430260509181206629923764728902769971191960724118315007420085731065856000000000000000000000000 \\, \\pi^{100}}{a^{100} k_{m}^{100}}, -\\frac{664311083916486509952397822861069178110581301618030641012689127157691410323388193813}{34044566787487625617295734604940582973088353853323336319953288825887143564731198768238895417832394854771695362963004200697163804047586665431040000000000000000000000000}, \\frac{24579510104910000868238719445859559590091508159867133717469497704834582181965363171081 \\, \\pi^{100}}{655080 \\, a^{100} k_{m}^{100}}, \\frac{24579510104910000868238719445859559590091508159867133717469497704834582181965363171081}{8304125551975085163324603357777100800000000000000000000000000000000000000000000000000000000000000000000000000000000000000000000000000000}\\right)$$"
      ],
      "text/plain": [
       "<IPython.core.display.Math object>"
      ]
     },
     "metadata": {},
     "output_type": "display_data"
    },
    {
     "data": {
      "text/latex": [
       "$$\\left(105, \\frac{20598033490291255247697167729530088566107544909998144364650983553775743464950574349085419743367776006471931408283276755390359483958351177449472000000000000000000000000 \\, \\pi^{102}}{a^{102} k_{m}^{102}}, \\frac{686300059860705932229279625501762776777949030954371510168505969401544903271437780124017}{1388513437580533516247266076647623270241309602382974911621122801360022866972318216871848144900421780596272896232375686080864132813632452871868907520000000000000000000000000}, \\frac{686300059860705932229279625501762776777949030954371510168505969401544903271437780124017 \\, \\pi^{102}}{67410 \\, a^{102} k_{m}^{102}}, \\frac{686300059860705932229279625501762776777949030954371510168505969401544903271437780124017}{341809307845539775819571052297584640000000000000000000000000000000000000000000000000000000000000000000000000000000000000000000000000000000}\\right)$$"
      ],
      "text/plain": [
       "<IPython.core.display.Math object>"
      ]
     },
     "metadata": {},
     "output_type": "display_data"
    },
    {
     "data": {
      "text/latex": [
       "$$\\left(107, -\\frac{229256112746941670906869476829669885740776974848279346778565446953524024764899892505320721743683346952032596574192870287494701056456448605012623360000000000000000000000000 \\, \\pi^{104}}{a^{104} k_{m}^{104}}, -\\frac{3469342247847828789552088659323852541399766785760491146870005891371501266319724897592306597338057}{277104087348639365803178768222557639888043371617266525203261959593414807758713849010800417134612849451986906037186078685529924574787143457883676947583388876800000000000000000000000000}, \\frac{3469342247847828789552088659323852541399766785760491146870005891371501266319724897592306597338057 \\, \\pi^{104}}{1208709700380 \\, a^{104} k_{m}^{104}}, \\frac{3469342247847828789552088659323852541399766785760491146870005891371501266319724897592306597338057}{2451554523501424511201578967884496904388608000000000000000000000000000000000000000000000000000000000000000000000000000000000000000000000000000000000}\\right)$$"
      ],
      "text/plain": [
       "<IPython.core.display.Math object>"
      ]
     },
     "metadata": {},
     "output_type": "display_data"
    },
    {
     "data": {
      "text/latex": [
       "$$\\left(109, \\frac{2649283638903657948999783674243665199620418721346716131373102304994923630183183157791486260470004757377688686011372809042288765408410720079525875548160000000000000000000000000 \\, \\pi^{106}}{a^{106} k_{m}^{106}}, \\frac{1529198588096948578449626849344869500105750482682461581336718774151959521253917155995586043503}{4821913464063047567131424269384758643855530947186173789821818789479770590671068368199443895928767198817498379012951445027307020722071000223783614619446149120000000000000000000000000}, \\frac{1529198588096948578449626849344869500105750482682461581336718774151959521253917155995586043503 \\, \\pi^{106}}{1820082 \\, a^{106} k_{m}^{106}}, \\frac{1529198588096948578449626849344869500105750482682461581336718774151959521253917155995586043503}{1476625945449341584342350440606182932480000000000000000000000000000000000000000000000000000000000000000000000000000000000000000000000000000000000}\\right)$$"
      ],
      "text/plain": [
       "<IPython.core.display.Math object>"
      ]
     },
     "metadata": {},
     "output_type": "display_data"
    },
    {
     "data": {
      "text/latex": [
       "$$\\left(111, -\\frac{31764910830454858808507406254181545743448820468947126415163496636889134325896366061919920263035357040958487345276359980417042297246844533753515247822438400000000000000000000000000 \\, \\pi^{108}}{a^{108} k_{m}^{108}}, -\\frac{378697086022157101907513887812166002063307357027501413778826918240138108073553645052397314793228587}{47141915360969491190234025491178280855732494644401890399916823757608328730058647900974755762546753831716309737239539664290772168746323671166498836266647482793984000000000000000000000000000}, \\frac{378697086022157101907513887812166002063307357027501413778826918240138108073553645052397314793228587 \\, \\pi^{108}}{1484087760 \\, a^{108} k_{m}^{108}}, \\frac{378697086022157101907513887812166002063307357027501413778826918240138108073553645052397314793228587}{481614013377374326075746024307529676226560000000000000000000000000000000000000000000000000000000000000000000000000000000000000000000000000000000000000}\\right)$$"
      ],
      "text/plain": [
       "<IPython.core.display.Math object>"
      ]
     },
     "metadata": {},
     "output_type": "display_data"
    },
    {
     "data": {
      "text/latex": [
       "$$\\left(113, \\frac{394901371444214804707364074551984976682555736069950675593312590189805717939543622881788448710055558733195914676475707276544669839372771243623701560928554188800000000000000000000000000 \\, \\pi^{110}}{a^{110} k_{m}^{110}}, \\frac{1144096437861534912279513741402789025037955614688991124252953163943873972854452297416009927292771}{5622605726622730389423449693471162098006228570163957719097584659122453812023222102590903932733771045243243433163661120203443009172989516966714262824500754540134400000000000000000000000000}, \\frac{1144096437861534912279513741402789025037955614688991124252953163943873972854452297416009927292771 \\, \\pi^{110}}{14238 \\, a^{110} k_{m}^{110}}, \\frac{1144096437861534912279513741402789025037955614688991124252953163943873972854452297416009927292771}{1848198066795471894375430168385893171200000000000000000000000000000000000000000000000000000000000000000000000000000000000000000000000000000000000000}\\right)$$"
      ],
      "text/plain": [
       "<IPython.core.display.Math object>"
      ]
     },
     "metadata": {},
     "output_type": "display_data"
    },
    {
     "data": {
      "text/latex": [
       "$$\\left(115, -\\frac{5087119466944375114240264008378670469624682992053104602993052786825077258497200949963198796282935707601029772862360061136448436870800039160360523507881635060121600000000000000000000000000 \\, \\pi^{112}}{a^{112} k_{m}^{112}}, -\\frac{10674272985235964721121153725304876443758763036701029111913932611069274397399033388668558606750163871}{2070966334993055109007211477810956748184208446064818883878471789516488951934210506730018229966783126564379220532266780888648158650102695942182769120058613632975503360000000000000000000000000000}, \\frac{10674272985235964721121153725304876443758763036701029111913932611069274397399033388668558606750163871 \\, \\pi^{112}}{407100 \\, a^{112} k_{m}^{112}}, \\frac{10674272985235964721121153725304876443758763036701029111913932611069274397399033388668558606750163871}{21137840511095283275747650556255010816000000000000000000000000000000000000000000000000000000000000000000000000000000000000000000000000000000000000000000}\\right)$$"
      ],
      "text/plain": [
       "<IPython.core.display.Math object>"
      ]
     },
     "metadata": {},
     "output_type": "display_data"
    },
    {
     "data": {
      "text/latex": [
       "$$\\left(117, \\frac{67862173689037964023965121871771464064793271113988415403927324176246530628352660672509071942414362339397737169983883215560222147856472522399209383595141011702022144000000000000000000000000000 \\, \\pi^{114}}{a^{114} k_{m}^{114}}, \\frac{6219713897791747653134697484501440791264514594588122106797617638583296356708584099819860616178255861}{47639245929704650744823515553983567773484876322019867613556981571725064501103567792101368503574882362257211493328686017323275947795243710724244987283788990214819545088000000000000000000000000000}, \\frac{6219713897791747653134697484501440791264514594588122106797617638583296356708584099819860616178255861 \\, \\pi^{114}}{702 \\, a^{114} k_{m}^{114}}, \\frac{6219713897791747653134697484501440791264514594588122106797617638583296356708584099819860616178255861}{14579969578765795980913633692450029568000000000000000000000000000000000000000000000000000000000000000000000000000000000000000000000000000000000000000000}\\right)$$"
      ],
      "text/plain": [
       "<IPython.core.display.Math object>"
      ]
     },
     "metadata": {},
     "output_type": "display_data"
    },
    {
     "data": {
      "text/latex": [
       "$$\\left(119, -\\frac{936905169950858131314862472561676832878535900999724063066620637577259601855036833244660247236972686457725159368797491674024426973306459644243484749914516807558117720064000000000000000000000000000 \\, \\pi^{116}}{a^{116} k_{m}^{116}}, -\\frac{51507486535079109061843996857849983274095170353262675213092869167199297474922985358811329367077682677803282070131}{15574874826990206825152987356975970731016521093914373414337671879327397478342579542623951720858299095601657177799668413088495213327332394910471267852570710957012454705832408173772800000000000000000000000000000}, \\frac{51507486535079109061843996857849983274095170353262675213092869167199297474922985358811329367077682677803282070131 \\, \\pi^{116}}{16623747340200 \\, a^{116} k_{m}^{116}}, \\frac{51507486535079109061843996857849983274095170353262675213092869167199297474922985358811329367077682677803282070131}{138104689746555450334158899179933495072621854720000000000000000000000000000000000000000000000000000000000000000000000000000000000000000000000000000000000000000000000}\\right)$$"
      ],
      "text/plain": [
       "<IPython.core.display.Math object>"
      ]
     },
     "metadata": {},
     "output_type": "display_data"
    },
    {
     "data": {
      "text/latex": [
       "$$\\left(121, \\frac{13379005826898254115176236108180745173505492666276059620591342704603267114489925978733748330543969962616315275786428181105068817178816243719796962228779300011929921042513920000000000000000000000000000 \\, \\pi^{118}}{a^{118} k_{m}^{118}}, \\frac{813666657037091506762830122557225531782340824771477701152611668740175134657384120148083830788492425714171}{9713158230328132487617947414539220995964987675716419284549314803541971925119686260560701287974922192859444890220946859482279961271820592940572594578093771808661122676865105920000000000000000000000000000}, \\frac{813666657037091506762830122557225531782340824771477701152611668740175134657384120148083830788492425714171 \\, \\pi^{118}}{726 \\, a^{118} k_{m}^{118}}, \\frac{813666657037091506762830122557225531782340824771477701152611668740175134657384120148083830788492425714171}{2412548812349622309320409814408825405440000000000000000000000000000000000000000000000000000000000000000000000000000000000000000000000000000000000000000000000}\\right)$$"
      ],
      "text/plain": [
       "<IPython.core.display.Math object>"
      ]
     },
     "metadata": {},
     "output_type": "display_data"
    },
    {
     "data": {
      "text/latex": [
       "$$\\left(123, -\\frac{197500884016672027248231597428964160251288082739567192119169401005353429144100287298067592855490084588142046101159252809473025879193685389791642756421240026776109494429590487040000000000000000000000000000 \\, \\pi^{120}}{a^{120} k_{m}^{120}}, -\\frac{46161182154187351348471306262658856341154949452718987395066688844178427228905124898233964184048373947566013}{21754574985717008374506704313817246308276209710716505639395077304768780702738210750145355750350997377022213436217243070655387029678349226517348112572966438770264001028214593945600000000000000000000000000000}, \\frac{3092799204330552540347577519598143374857381613332172155469468152559954624336643368181675600331241054486922871 \\, \\pi^{120}}{7380 \\, a^{120} k_{m}^{120}}, \\frac{3092799204330552540347577519598143374857381613332172155469468152559954624336643368181675600331241054486922871}{9809702608892679142030096104868942970880000000000000000000000000000000000000000000000000000000000000000000000000000000000000000000000000000000000000000000000000}\\right)$$"
      ],
      "text/plain": [
       "<IPython.core.display.Math object>"
      ]
     },
     "metadata": {},
     "output_type": "display_data"
    },
    {
     "data": {
      "text/latex": [
       "$$\\left(125, \\frac{3012283483022281759590028323986561372152645837943878814201571704133650501305817581870126926231934770138342487134880923850082590709462089565102135320936752888389222009040114108334080000000000000000000000000000 \\, \\pi^{122}}{a^{122} k_{m}^{122}}, \\frac{53944954193682280103071110766203411461413274826473274240745459265374701809713679429973217669267278045554189454395113}{1003654523042292520588442266390908022159333932226860761288510150942466393807966509537423027074183980861552427078245119504799592081132841763151279473170379287179750363968007289541891194880000000000000000000000000000000}, \\frac{5556330281949274850616324408918951380525567307126747246796782304333594286400508981287241419934529638692081513802696639 \\, \\pi^{122}}{34318289250 \\, a^{122} k_{m}^{122}}, \\frac{5556330281949274850616324408918951380525567307126747246796782304333594286400508981287241419934529638692081513802696639}{18246732335417809485291635248357220499534643200000000000000000000000000000000000000000000000000000000000000000000000000000000000000000000000000000000000000000000000000000}\\right)$$"
      ],
      "text/plain": [
       "<IPython.core.display.Math object>"
      ]
     },
     "metadata": {},
     "output_type": "display_data"
    },
    {
     "data": {
      "text/latex": [
       "$$\\left(127, -\\frac{47443464857600937713542946102788341611404171947616091323674754340104995395566626914454499088152972629678894172374374550638800803674027910650358631304753857992130246642381797206261760000000000000000000000000000000 \\, \\pi^{124}}{a^{124} k_{m}^{124}}, -\\frac{267754707742548082886954405585282394779291459592551740629978686063357792734863530145362663093519862048495908453718017}{196666446004916015085195303620966456714921485891014031042202485670950435313334427215949945980138754382355326434860047337272008195453874417460718627174970072457617668801732416323172748492800000000000000000000000000000000}, \\frac{267754707742548082886954405585282394779291459592551740629978686063357792734863530145362663093519862048495908453718017 \\, \\pi^{124}}{4145280 \\, a^{124} k_{m}^{124}}, \\frac{267754707742548082886954405585282394779291459592551740629978686063357792734863530145362663093519862048495908453718017}{881603556218767371140910932934225082240204800000000000000000000000000000000000000000000000000000000000000000000000000000000000000000000000000000000000000000000000000000}\\right)$$"
      ],
      "text/plain": [
       "<IPython.core.display.Math object>"
      ]
     },
     "metadata": {},
     "output_type": "display_data"
    },
    {
     "data": {
      "text/latex": [
       "$$\\left(129, \\frac{771240964725160843471354131846927281234986219180447180557656806552746805150331087121372337177014723068060103666117832695184345864524997715532229910490078715520069289418558495384991170560000000000000000000000000000000 \\, \\pi^{126}}{a^{126} k_{m}^{126}}, \\frac{29664848848248167933004608034947637466270938617918899365903584931208440344669293516848837102982982811374380540654806431}{860191270150772544192279289289360792288942119783404875680093596679701305175539372723428694312988539138391747662345866811250737210464123802055424114986541454095860960844358520891723742225367040000000000000000000000000000000}, \\frac{29664848848248167933004608034947637466270938617918899365903584931208440344669293516848837102982982811374380540654806431 \\, \\pi^{126}}{1115334 \\, a^{126} k_{m}^{126}}, \\frac{29664848848248167933004608034947637466270938617918899365903584931208440344669293516848837102982982811374380540654806431}{94882123356849495052114863601325941589016576000000000000000000000000000000000000000000000000000000000000000000000000000000000000000000000000000000000000000000000000000000}\\right)$$"
      ],
      "text/plain": [
       "<IPython.core.display.Math object>"
      ]
     },
     "metadata": {},
     "output_type": "display_data"
    },
    {
     "data": {
      "text/latex": [
       "$$\\left(131, -\\frac{12933710978440947345014608791072970506310718895656099217951904645889563922371052331025414094458536905851367938480796054298241480148084211689475495598918620059271561983549225967606301930291200000000000000000000000000000000 \\, \\pi^{128}}{a^{128} k_{m}^{128}}, -\\frac{37359267804272125291729135138506539829387097988225227493951795269331824614064078528422399345623971517646073249757760937540621}{42767216347054603646731574214882888884321409577950175597621027282578695957425194629807145818690755794951970122646350060941196209642392611368684845306167546284757731432785857727122956106765567000576000000000000000000000000000000000}, \\frac{37359267804272125291729135138506539829387097988225227493951795269331824614064078528422399345623971517646073249757760937540621 \\, \\pi^{128}}{3306646980 \\, a^{128} k_{m}^{128}}, \\frac{37359267804272125291729135138506539829387097988225227493951795269331824614064078528422399345623971517646073249757760937540621}{112519366092637306897700798627294191247098380288000000000000000000000000000000000000000000000000000000000000000000000000000000000000000000000000000000000000000000000000000000000}\\right)$$"
      ],
      "text/plain": [
       "<IPython.core.display.Math object>"
      ]
     },
     "metadata": {},
     "output_type": "display_data"
    },
    {
     "data": {
      "text/latex": [
       "$$\\left(133, \\frac{223649730239200861489992615215233805995124951143685267676824335136722339345640236908091460521377020175981854392209925370925191674720672188534410269896500778064923849819533215431848172978595430400000000000000000000000000000000 \\, \\pi^{130}}{a^{130} k_{m}^{130}}, \\frac{3949107042846533218412473690281776345541112322286099827043560520009966650622246876537124125242573646994995442378350510301}{178472484730882287469014106941756577184109711012660843606105819439104426797820909052656985496058862100433519804983520445998302956427096406450459395377407620895809232155987505914614842036919153459200000000000000000000000000000000}, \\frac{3949107042846533218412473690281776345541112322286099827043560520009966650622246876537124125242573646994995442378350510301 \\, \\pi^{130}}{798 \\, a^{130} k_{m}^{130}}, \\frac{3949107042846533218412473690281776345541112322286099827043560520009966650622246876537124125242573646994995442378350510301}{10861813152116355753750917469222041309675520000000000000000000000000000000000000000000000000000000000000000000000000000000000000000000000000000000000000000000000000000000000}\\right)$$"
      ],
      "text/plain": [
       "<IPython.core.display.Math object>"
      ]
     },
     "metadata": {},
     "output_type": "display_data"
    },
    {
     "data": {
      "text/latex": [
       "$$\\left(135, -\\frac{3985885492323037753474648388365896890445116879282758840536363300806665531818000302176006009411981253576348608977965289960628766026871819744060259830095436866673072851483720965426398138824527760588800000000000000000000000000000000 \\, \\pi^{132}}{a^{132} k_{m}^{132}}, -\\frac{4958248608433376772428681062374481979372741905738084456893482759542967190742836046268131497401044102217148099163597931590391161}{8846274261661749990061634633139271558653892401880154970686404709810313481316869870649427737288951194187348102765696164538619483320039316739967340666913812581894217886582970310667348029307156911850782720000000000000000000000000000000000}, \\frac{4958248608433376772428681062374481979372741905738084456893482759542967190742836046268131497401044102217148099163597931590391161 \\, \\pi^{132}}{2219400 \\, a^{132} k_{m}^{132}}, \\frac{4958248608433376772428681062374481979372741905738084456893482759542967190742836046268131497401044102217148099163597931590391161}{12083562962309293212969817659745061896087142400000000000000000000000000000000000000000000000000000000000000000000000000000000000000000000000000000000000000000000000000000000000000}\\right)$$"
      ],
      "text/plain": [
       "<IPython.core.display.Math object>"
      ]
     },
     "metadata": {},
     "output_type": "display_data"
    },
    {
     "data": {
      "text/latex": [
       "$$\\left(137, \\frac{73180857639050973153794544410397866908572345903631452312247630202810379164178485547951470332803975815661760460835442723677144144253366610500946370480552220872117617553241116925228669828818329684410368000000000000000000000000000000000 \\, \\pi^{134}}{a^{134} k_{m}^{134}}, \\frac{117168110825690475480167464509744045254307760637577499298354386654803413111284619279288407638840250338943888622865528477112621223323}{8252798952505091171428375713525077364035543529979779886074983465200443094607676231515247189020804952052184968186592246530518394870857847074243107703188165488925131354695046631653421251656210091811302149193728000000000000000000000000000000000}, \\frac{117168110825690475480167464509744045254307760637577499298354386654803413111284619279288407638840250338943888622865528477112621223323 \\, \\pi^{134}}{112772646 \\, a^{134} k_{m}^{134}}, \\frac{117168110825690475480167464509744045254307760637577499298354386654803413111284619279288407638840250338943888622865528477112621223323}{245597074590829461298810102843467300253316048486400000000000000000000000000000000000000000000000000000000000000000000000000000000000000000000000000000000000000000000000000000000000000}\\right)$$"
      ],
      "text/plain": [
       "<IPython.core.display.Math object>"
      ]
     },
     "metadata": {},
     "output_type": "display_data"
    },
    {
     "data": {
      "text/latex": [
       "$$\\left(139, -\\frac{1383557294523897698445639656622982071773468771654056237415353696614333028477958447769570498111991966770901243272554880133840087191254149138130892080305320287808255677461576556588373231783639341013462417408000000000000000000000000000000000 \\, \\pi^{136}}{a^{136} k_{m}^{136}}, -\\frac{12700737399366404648381079339196463347029102227533324252152382568194999239280378751713743622105307882641627288905988974493724697304811}{35316732111489522949631721640675905495892085635765848983105092512745183766899638184954761952148532500268533302575675176278677038403773644153817788273216967745414457415651249130759235787082186433064866464084787200000000000000000000000000000000000}, \\frac{469927283776556971990099935550269143840076782418732997329638155023214971853374013813408514017896391657740209689521592056267813800278007 \\, \\pi^{136}}{944463300 \\, a^{136} k_{m}^{136}}, \\frac{469927283776556971990099935550269143840076782418732997329638155023214971853374013813408514017896391657740209689521592056267813800278007}{822743570416538573566843419830303564356688805888000000000000000000000000000000000000000000000000000000000000000000000000000000000000000000000000000000000000000000000000000000000000000000}\\right)$$"
      ],
      "text/plain": [
       "<IPython.core.display.Math object>"
      ]
     },
     "metadata": {},
     "output_type": "display_data"
    },
    {
     "data": {
      "text/latex": [
       "$$\\left(141, \\frac{26924024951435049211752147717883231116711702296387934380102782936114920734181071393595841893259363673361738194083917967404528096741805742228027159882741532800748655483402279791209743090509621576121978642759680000000000000000000000000000000000 \\, \\pi^{138}}{a^{138} k_{m}^{138}}, \\frac{207490891280120979800987048485256538588791789070290741918237732357852761430727367698168537876221806622668781613442289529691174438721}{22777725108914051633142316969329213524738100142744192485566954363953222941117186398982082241697421667664030512194994600424230769843567657924910977260799336749433362538958328703363442654571139853399193931774689280000000000000000000000000000000000}, \\frac{207490891280120979800987048485256538588791789070290741918237732357852761430727367698168537876221806622668781613442289529691174438721 \\, \\pi^{138}}{846 \\, a^{138} k_{m}^{138}}, \\frac{207490891280120979800987048485256538588791789070290741918237732357852761430727367698168537876221806622668781613442289529691174438721}{294787975593076674652175275916570528657178624000000000000000000000000000000000000000000000000000000000000000000000000000000000000000000000000000000000000000000000000000000000000000000}\\right)$$"
      ],
      "text/plain": [
       "<IPython.core.display.Math object>"
      ]
     },
     "metadata": {},
     "output_type": "display_data"
    },
    {
     "data": {
      "text/latex": [
       "$$\\left(143, -\\frac{539072827577632555317701501607458053418801703378279222158417919946892942939773411442575946386838979468048722121948205543373461552964434570889559795172250969736589580088680445979601476158183643197114256385334312960000000000000000000000000000000000 \\, \\pi^{140}}{a^{140} k_{m}^{140}}, -\\frac{3050244698373607565035155836901726357405007104256566761884191852434851033744761276392695669329626855965183503295793517411526056244431024612640493}{13219216910280988431591584345131288920880823154112325095740659135535320444739744319146719028771317899264856899464301738094082916464678383214546270741653539058869967501459898817747058951443030020697939470814856313705517704806400000000000000000000000000000000000}, \\frac{3050244698373607565035155836901726357405007104256566761884191852434851033744761276392695669329626855965183503295793517411526056244431024612640493 \\, \\pi^{140}}{24522135477840 \\, a^{140} k_{m}^{140}}, \\frac{3050244698373607565035155836901726357405007104256566761884191852434851033744761276392695669329626855965183503295793517411526056244431024612640493}{3417886843844736424854599704720484673629675815786512384000000000000000000000000000000000000000000000000000000000000000000000000000000000000000000000000000000000000000000000000000000000000000000000}\\right)$$"
      ],
      "text/plain": [
       "<IPython.core.display.Math object>"
      ]
     },
     "metadata": {},
     "output_type": "display_data"
    },
    {
     "data": {
      "text/latex": [
       "$$\\left(145, \\frac{11100587665478609579102109321100776235999964675965525742686141807546419481015814088425523887997788265206059285935157448549146320298643636683757815302186991968815852633186107743611953597049317580714976767486804172472320000000000000000000000000000000000 \\, \\pi^{142}}{a^{142} k_{m}^{142}}, \\frac{56446164743563217418165935834354301728295145326144399369504351781298496749089373765148082309889112853290960869608260588863524269643696231}{9657511268966390333818835109357675325319969268090007396136943372565384948483758256930205782558075790729271578763586980237757298659819963914869299312902683012869791790871913736942399629432906295222029787713519630050918400000000000000000000000000000000000}, \\frac{56446164743563217418165935834354301728295145326144399369504351781298496749089373765148082309889112853290960869608260588863524269643696231 \\, \\pi^{142}}{870 \\, a^{142} k_{m}^{142}}, \\frac{56446164743563217418165935834354301728295145326144399369504351781298496749089373765148082309889112853290960869608260588863524269643696231}{48504120806804105332840187243010186275507404800000000000000000000000000000000000000000000000000000000000000000000000000000000000000000000000000000000000000000000000000000000000000000000000}\\right)$$"
      ],
      "text/plain": [
       "<IPython.core.display.Math object>"
      ]
     },
     "metadata": {},
     "output_type": "display_data"
    },
    {
     "data": {
      "text/latex": [
       "$$\\left(147, -\\frac{234999440878182164789591654327703432916119252190190179972665622065757700413104784251968340708913177574412275083247283185785427600722285788595152949947298619979831600244549900932265057649534053183736058167695644331239014400000000000000000000000000000000000 \\, \\pi^{144}}{a^{144} k_{m}^{144}}, -\\frac{45722625557135648104474624192220707827234671679656794616661639889647510031855363061751932259631384756036394180198275183619944603914285348603977}{308831565213289437323185560284381297469705598843304130716477707206377454728894045368251753992839519704741123668901914617095493244317213537655978103761740900405095092409382588807164093461864662013002252922822261867227687944192000000000000000000000000000000000000}, \\frac{45722625557135648104474624192220707827234671679656794616661639889647510031855363061751932259631384756036394180198275183619944603914285348603977 \\, \\pi^{144}}{1314180 \\, a^{144} k_{m}^{144}}, \\frac{45722625557135648104474624192220707827234671679656794616661639889647510031855363061751932259631384756036394180198275183619944603914285348603977}{29307193325004974320143410239549023723929343098880000000000000000000000000000000000000000000000000000000000000000000000000000000000000000000000000000000000000000000000000000000000000000000000000}\\right)$$"
      ],
      "text/plain": [
       "<IPython.core.display.Math object>"
      ]
     },
     "metadata": {},
     "output_type": "display_data"
    },
    {
     "data": {
      "text/latex": [
       "$$\\left(149, \\frac{5112647835745731177162356031553515886523090450649777555485313273662624530187507686185823220463115091308913456711127892989947762881314049616676147579053428776281216294920427644682358594223262861065361681496386438070435997286400000000000000000000000000000000000 \\, \\pi^{146}}{a^{146} k_{m}^{146}}, \\frac{18534623175566509657731377032472250599289349017011831994091992293015172620062892230401223790787531852335007756551508148307720408964064556169119162651}{4942355935462738778468292300374636452194319495704610086759645345644121136865256206549607150953919149593509271798051173308586944453487179216721585422479334858417419936130572067987818513367066625279933890831401969468324809483608496537600000000000000000000000000000000000}, \\frac{18534623175566509657731377032472250599289349017011831994091992293015172620062892230401223790787531852335007756551508148307720408964064556169119162651 \\, \\pi^{146}}{966692034 \\, a^{146} k_{m}^{146}}, \\frac{18534623175566509657731377032472250599289349017011831994091992293015172620062892230401223790787531852335007756551508148307720408964064556169119162651}{8623181094273320758391453352254964460393404602882457600000000000000000000000000000000000000000000000000000000000000000000000000000000000000000000000000000000000000000000000000000000000000000000000000}\\right)$$"
      ],
      "text/plain": [
       "<IPython.core.display.Math object>"
      ]
     },
     "metadata": {},
     "output_type": "display_data"
    },
    {
     "data": {
      "text/latex": [
       "$$\\left(151, -\\frac{114267679128917091809578657305221080063791071572022528365096751666359658249690796786253148977350622290754215757493708408325332500397369008932711898391844133149885184191471557858650714580889924944810833581444236890874244539351040000000000000000000000000000000000000 \\, \\pi^{148}}{a^{148} k_{m}^{148}}, -\\frac{1501413475755367015711487701282154345454997802928458397657094064757898646576324662296767231744688686304682753965012980937253887448144188956928809}{15805575158900593157172253972294702066838887151794261175385901833545320667819826242495473736409108976400506790273175544724084159596949056808097248846261188493709309446942478079379778230578056793892918354929538721088864969870540800000000000000000000000000000000000000}, \\frac{196685165323953079058204888867962219254604712183628050093079322483284722701498530760876507358554217905913440769416700502780259255706888753357673979 \\, \\pi^{148}}{18120 \\, a^{148} k_{m}^{148}}, \\frac{196685165323953079058204888867962219254604712183628050093079322483284722701498530760876507358554217905913440769416700502780259255706888753357673979}{64654320479579982611940354416062129678138422067200000000000000000000000000000000000000000000000000000000000000000000000000000000000000000000000000000000000000000000000000000000000000000000000000000}\\right)$$"
      ],
      "text/plain": [
       "<IPython.core.display.Math object>"
      ]
     },
     "metadata": {},
     "output_type": "display_data"
    },
    {
     "data": {
      "text/latex": [
       "$$\\left(153, \\frac{2622671771366905091213449342469434229624132674721061071035700644246286876146903167838082275328151482817390760065995595387883031549120413493023603491889606544056164747562655195971751201060585557333298252361308125119345660667185070080000000000000000000000000000000000000 \\, \\pi^{150}}{a^{150} k_{m}^{150}}, \\frac{133243099766727546117244081017911486506827774707280119921984110256504952435154075434398507198995165042148777769467619682034936678296122203868187120573}{55375091780640834095880769416899634324283937294060483453847783402616101102965713485733269161278590408206388508033431001019762328128128410491700364127757152571201862480037901807747554859193203457535259300356659753769864279326945569669120000000000000000000000000000000000000}, \\frac{133243099766727546117244081017911486506827774707280119921984110256504952435154075434398507198995165042148777769467619682034936678296122203868187120573 \\, \\pi^{150}}{21114 \\, a^{150} k_{m}^{150}}, \\frac{133243099766727546117244081017911486506827774707280119921984110256504952435154075434398507198995165042148777769467619682034936678296122203868187120573}{30134907783793636928664649958956640309585312219136000000000000000000000000000000000000000000000000000000000000000000000000000000000000000000000000000000000000000000000000000000000000000000000000000000}\\right)$$"
      ],
      "text/plain": [
       "<IPython.core.display.Math object>"
      ]
     },
     "metadata": {},
     "output_type": "display_data"
    },
    {
     "data": {
      "text/latex": [
       "$$\\left(155, -\\frac{61795392276947017759171293407264809318403814081777640955743178579731011375773332440600894571281905238143361088674988218529299989360375182722622145475902909391051353782071281727486401799389516901887173422137142044062022456640214621224960000000000000000000000000000000000000 \\, \\pi^{152}}{a^{152} k_{m}^{152}}, -\\frac{81718086083262628510756459753673452313595710396116467582152090596092548699138346942995509488284650803976836337164670494733866559829768848363506624334818961419869}{1340749533985242438559474475844802762298704021785527457903072394590511693297980119111718773489639519020631508048080726870366631638332970598556399993594792996420442221860507380603663271596204019449166777916358970481579284294474734788002214626459648000000000000000000000000000000000000000}, \\frac{81718086083262628510756459753673452313595710396116467582152090596092548699138346942995509488284650803976836337164670494733866559829768848363506624334818961419869 \\, \\pi^{152}}{21696593946300 \\, a^{152} k_{m}^{152}}, \\frac{81718086083262628510756459753673452313595710396116467582152090596092548699138346942995509488284650803976836337164670494733866559829768848363506624334818961419869}{12386565459773908728519950160884857167853277312818064916480000000000000000000000000000000000000000000000000000000000000000000000000000000000000000000000000000000000000000000000000000000000000000000000000000000000}\\right)$$"
      ],
      "text/plain": [
       "<IPython.core.display.Math object>"
      ]
     },
     "metadata": {},
     "output_type": "display_data"
    },
    {
     "data": {
      "text/latex": [
       "$$\\left(157, \\frac{1494212585256578889416761874587663089319004224497383358309870058057895855066199178413729630733596468658306471124161215124038473742733871918233003477607332349075621734450483592170621195509238518687631853347276094625419703001560389541219532800000000000000000000000000000000000000 \\, \\pi^{154}}{a^{154} k_{m}^{154}}, \\frac{2173071859508268481926368145646878419462201547772526128487343484370989217688082936698808454055367256832003303598349665568111043145853126268995984475417961}{1407548255311697313830589685861578630138501979476535123527897594690537895472359626065733312151047873476124695798959864646844242265655307346975489275906107072829235673852355543824725166169702684603749205853134081137145360227469886947828799897600000000000000000000000000000000000000}, \\frac{2173071859508268481926368145646878419462201547772526128487343484370989217688082936698808454055367256832003303598349665568111043145853126268995984475417961 \\, \\pi^{154}}{942 \\, a^{154} k_{m}^{154}}, \\frac{2173071859508268481926368145646878419462201547772526128487343484370989217688082936698808454055367256832003303598349665568111043145853126268995984475417961}{215114772244642273273104861315427906955607571169280000000000000000000000000000000000000000000000000000000000000000000000000000000000000000000000000000000000000000000000000000000000000000000000000000000000}\\right)$$"
      ],
      "text/plain": [
       "<IPython.core.display.Math object>"
      ]
     },
     "metadata": {},
     "output_type": "display_data"
    },
    {
     "data": {
      "text/latex": [
       "$$\\left(159, -\\frac{37065437389874695930872195061021570593647218792882091586234636660184164580772136819730977219977594001537950322705943102366898379662256426803687884265527486251169872744778695987384429375802170694565395754132530803278161152656707022959491730636800000000000000000000000000000000000000 \\, \\pi^{156}}{a^{156} k_{m}^{156}}, -\\frac{71878996511920514848568872751884016101515221815023274825603826753532914245387118336456420854576767554018079691604160223046905134936089931233318374956291487053913}{1838023022905989872486137301927736760551759580113327148249793594217253683444773520264549436187607290861973272735416192139783372356165939682616249208578064218180910652710808285268160709851922586781913059942882335186250258479848813550908634822019645440000000000000000000000000000000000000000}, \\frac{4240860794203310376065563492361156949989398087086373214710625778458441940477839981850928830420029285687066701804645453159767402961229305942765784122421197736180867 \\, \\pi^{156}}{2925727200 \\, a^{156} k_{m}^{156}}, \\frac{4240860794203310376065563492361156949989398087086373214710625778458441940477839981850928830420029285687066701804645453159767402961229305942765784122421197736180867}{267247193323972379271743490956592444594093530146878259200000000000000000000000000000000000000000000000000000000000000000000000000000000000000000000000000000000000000000000000000000000000000000000000000000000000000}\\right)$$"
      ],
      "text/plain": [
       "<IPython.core.display.Math object>"
      ]
     },
     "metadata": {},
     "output_type": "display_data"
    },
    {
     "data": {
      "text/latex": [
       "$$\\left(161, \\frac{942944727198412264481388642352388755902385246090920409953809156635085146934843160693956060476229991399125456209639192524213894778607803497885819775715019250229761562627170025919059883320407222469743667985131583635396419723586626664089469627400192000000000000000000000000000000000000000 \\, \\pi^{158}}{a^{158} k_{m}^{158}}, \\frac{1584451495144416428390934243279426140836596476080786316960222380784239380974799880364363647978168634590418215854419793716549388865905348534375629928732008786233507729}{1599512458083151456924474139446359124674654281698896203893890641783823084912734775054021659200032609452199223311395425210593954466750946507111545584564380953379147897688548508440152566025026202333159399256123491157278613398499647479106953460652776020246528000000000000000000000000000000000000000}, \\frac{1584451495144416428390934243279426140836596476080786316960222380784239380974799880364363647978168634590418215854419793716549388865905348534375629928732008786233507729 \\, \\pi^{158}}{1696295034 \\, a^{158} k_{m}^{158}}, \\frac{1584451495144416428390934243279426140836596476080786316960222380784239380974799880364363647978168634590418215854419793716549388865905348534375629928732008786233507729}{61978449239681990872125469555943790429522069032229509529600000000000000000000000000000000000000000000000000000000000000000000000000000000000000000000000000000000000000000000000000000000000000000000000000000000000000}\\right)$$"
      ],
      "text/plain": [
       "<IPython.core.display.Math object>"
      ]
     },
     "metadata": {},
     "output_type": "display_data"
    },
    {
     "data": {
      "text/latex": [
       "$$\\left(163, -\\frac{24593884374788988682203578569835003531446011988543386132415250423356290802354579317219761969341030635671990148859809419416546803615648730831857951390199132084492641076441848616020919876762861176455854348388201964378409419230586396652781546821851807744000000000000000000000000000000000000000 \\, \\pi^{160}}{a^{160} k_{m}^{160}}, -\\frac{500928405101054055257853160651040166775739781052405977271545667900740120690648794907412838744900995483735934702287910367925490117768899039660780818226374033078050563}{19963839702391213672891932868277865766615985771580208259126755378655235495903306214959969580992888208200381283435461698117187702366966700765452373461480243478266056467390906195568821500763484931376275208760639062564530061966236201618928892817169986418114560000000000000000000000000000000000000000}, \\frac{500928405101054055257853160651040166775739781052405977271545667900740120690648794907412838744900995483735934702287910367925490117768899039660780818226374033078050563 \\, \\pi^{160}}{811740 \\, a^{160} k_{m}^{160}}, \\frac{500928405101054055257853160651040166775739781052405977271545667900740120690648794907412838744900995483735934702287910367925490117768899039660780818226374033078050563}{11863593390869871348226591261091155783755066824353382400000000000000000000000000000000000000000000000000000000000000000000000000000000000000000000000000000000000000000000000000000000000000000000000000000000000000000}\\right)$$"
      ],
      "text/plain": [
       "<IPython.core.display.Math object>"
      ]
     },
     "metadata": {},
     "output_type": "display_data"
    },
    {
     "data": {
      "text/latex": [
       "$$\\left(165, \\frac{657443717106859245452666062328829314402614792477741798091724474317160365728542614307918676964424430952783640659320425399843129154253521872597226756562803198882657281255443497203471230145624804969017898441113414911763640594872035555322156309641742524612608000000000000000000000000000000000000000 \\, \\pi^{162}}{a^{162} k_{m}^{162}}, \\frac{69084734570733264116037292908345129295243642874159138537025167606060262465688228490400069309749327627653569983268242429865472900053832321064021543671736971949588142427}{108695169749277039050689280084825350550184303640345051478504807338856123265899950423528194862528291169423719310205445931356064543072734771196499499662528252871269728309962473392649898479976149005527729149269280887361882699550193638361412102673069291594202480640000000000000000000000000000000000000000}, \\frac{69084734570733264116037292908345129295243642874159138537025167606060262465688228490400069309749327627653569983268242429865472900053832321064021543671736971949588142427 \\, \\pi^{162}}{165330 \\, a^{162} k_{m}^{162}}, \\frac{69084734570733264116037292908345129295243642874159138537025167606060262465688228490400069309749327627653569983268242429865472900053832321064021543671736971949588142427}{966520262799672717866460853571932286558861309320888320000000000000000000000000000000000000000000000000000000000000000000000000000000000000000000000000000000000000000000000000000000000000000000000000000000000000000000}\\right)$$"
      ],
      "text/plain": [
       "<IPython.core.display.Math object>"
      ]
     },
     "metadata": {},
     "output_type": "display_data"
    },
    {
     "data": {
      "text/latex": [
       "$$\\left(167, -\\frac{18007383411556874732948523447186634921487619165965347849732333351547022417304782205893892562055585163796743917658786451701703307535003964090438040862255179617395982933586597388403076993688663408101400238302096434433206115893545053860273861321087327749139333120000000000000000000000000000000000000000 \\, \\pi^{164}}{a^{164} k_{m}^{164}}, -\\frac{137077510051251446348894520644193239886446625316676685636242118161562106483532586722648678617079045659106521282435478687213752928061154349209337212960657348974332441369119777}{8514400910267038616514408927236325128134665165454512441088959805555710451734262764019511180969330380011084386342246196119284670620547886451067959524572603736443710754172599210656945663153567438416067651616099570845842172228840520737064976763596266857780654995249561600000000000000000000000000000000000000000}, \\frac{13844828515176396081238346585063517228531109156984345249260453934317772754836791258987516540324983611569758649525983347408589045734176589270143058509026392246407576578281097477 \\, \\pi^{164}}{47755660680 \\, a^{164} k_{m}^{164}}, \\frac{13844828515176396081238346585063517228531109156984345249260453934317772754836791258987516540324983611569758649525983347408589045734176589270143058509026392246407576578281097477}{111671962041022433023611148794978199356055175794130197413888000000000000000000000000000000000000000000000000000000000000000000000000000000000000000000000000000000000000000000000000000000000000000000000000000000000000000000000}\\right)$$"
      ],
      "text/plain": [
       "<IPython.core.display.Math object>"
      ]
     },
     "metadata": {},
     "output_type": "display_data"
    },
    {
     "data": {
      "text/latex": [
       "$$\\left(169, \\frac{505215148994639677507603773834268229357256643320323799272090344511003260939902969568559049721031497355481447353834912688942987996202071216521329674431431319345661697184705576329036728134929140577692885085803617564458030787509300031103843453224426067329853130014720000000000000000000000000000000000000000 \\, \\pi^{166}}{a^{166} k_{m}^{166}}, \\frac{2298049501489853298999726814570143935075415733541040320178117596557023283819846097266919665133560594971003886703743258587669782087383469091564926469349401857856264235716401}{5635169771886210962919812493347427830250840599594891657080895702675730372523677722567707640588385321503040063784674616132470088109637902349078911188608184935981510570398205998374075665616999634003586440247053550313964875403878732546932269877265248354997181812184186880000000000000000000000000000000000000000}, \\frac{2298049501489853298999726814570143935075415733541040320178117596557023283819846097266919665133560594971003886703743258587669782087383469091564926469349401857856264235716401 \\, \\pi^{166}}{11154 \\, a^{166} k_{m}^{166}}, \\frac{2298049501489853298999726814570143935075415733541040320178117596557023283819846097266919665133560594971003886703743258587669782087383469091564926469349401857856264235716401}{10433017128184890335772096399435149312795053813986754560000000000000000000000000000000000000000000000000000000000000000000000000000000000000000000000000000000000000000000000000000000000000000000000000000000000000000000000}\\right)$$"
      ],
      "text/plain": [
       "<IPython.core.display.Math object>"
      ]
     },
     "metadata": {},
     "output_type": "display_data"
    },
    {
     "data": {
      "text/latex": [
       "$$\\left(171, -\\frac{14514831230615997934793456422258526229433983362592902753087155597801123686803412315704701498485234919022981982475677041553332045130885506050657801546415021804800860560116591207933225199316514208797116588515137932626879224525142189893613422411137760914386680425322905600000000000000000000000000000000000000000 \\, \\pi^{168}}{a^{168} k_{m}^{168}}, -\\frac{266132609565891359236911161464926665418791779210056319343145538341053205401510023832124789828681434924955545833526088472748860651630930161756964362167852548549062311756691616511}{25763535137718784014299689280380438886720731788935150528674639442985038521602320792129531065781322276567412559254677235216333313466419155529796584588855735403085431476995747062257316064282826390330706002282599527654058085947636884217365952511321302867818070021339650981888000000000000000000000000000000000000000000}, \\frac{266132609565891359236911161464926665418791779210056319343145538341053205401510023832124789828681434924955545833526088472748860651630930161756964362167852548549062311756691616511 \\, \\pi^{168}}{1774980 \\, a^{168} k_{m}^{168}}, \\frac{266132609565891359236911161464926665418791779210056319343145538341053205401510023832124789828681434924955545833526088472748860651630930161756964362167852548549062311756691616511}{664098861114779151808813185119935496762595109153674362880000000000000000000000000000000000000000000000000000000000000000000000000000000000000000000000000000000000000000000000000000000000000000000000000000000000000000000000000}\\right)$$"
      ],
      "text/plain": [
       "<IPython.core.display.Math object>"
      ]
     },
     "metadata": {},
     "output_type": "display_data"
    },
    {
     "data": {
      "text/latex": [
       "$$\\left(173, \\frac{426910216154877731258145140291467773460112318660582455773799420442526649876261963029506680473447729438303946068574613146166602111389604503961947259083158621322802910794149180607732019562297315909140793101407236874421771751733482089150957979956383824013941044669597299507200000000000000000000000000000000000000000 \\, \\pi^{170}}{a^{170} k_{m}^{170}}, \\frac{143660743264208373513274468732783355082607390282157290070626920140600269079916940373489469630821796809738860195004943376200250063891699292523323221920607159995968451491258598176839}{549041544612897462371937818316331457027128171007639205886479506241565558926162737936914010636652602771472815567764575624248235976620165339664389054856186806028073013119960966494353211182718456639059609473444022013930101058012900112179442340778266021155497326610765034144818790400000000000000000000000000000000000000000}, \\frac{143660743264208373513274468732783355082607390282157290070626920140600269079916940373489469630821796809738860195004943376200250063891699292523323221920607159995968451491258598176839 \\, \\pi^{170}}{1286082 \\, a^{170} k_{m}^{170}}, \\frac{143660743264208373513274468732783355082607390282157290070626920140600269079916940373489469630821796809738860195004943376200250063891699292523323221920607159995968451491258598176839}{192472161151160554173361295055812884324878442161731587276800000000000000000000000000000000000000000000000000000000000000000000000000000000000000000000000000000000000000000000000000000000000000000000000000000000000000000000000000}\\right)$$"
      ],
      "text/plain": [
       "<IPython.core.display.Math object>"
      ]
     },
     "metadata": {},
     "output_type": "display_data"
    },
    {
     "data": {
      "text/latex": [
       "$$\\left(175, -\\frac{12850851326694129466332685013053762916696301016320853083702910154160937214575237611114210095611723551551825384556233004925907056757049874778262536392921240819059013220725478634653949252864273803496956153938560644393844173270681277847622137112647065870467653326644217909765734400000000000000000000000000000000000000000 \\, \\pi^{172}}{a^{172} k_{m}^{172}}, -\\frac{3364491180557016480701772389466398850664277087166079479992478416134172099726325939944560520163498644875085867249298147592759897523316207346675186239839354588834177195848796255719014457}{507628771982173472285250444386725178945967900562483064630017782678247326309733922497969261592488633798891427173006454005770239623235683807599130707172031969973574412023164570332636669246427088964632547092922562656729137897220280732119322039840168116202944931372526211885442898329600000000000000000000000000000000000000000000}, \\frac{124486173680609609785965578410256757474578252225144940759721701396964367689874059777948739246049449860378177088224031460932116208362699671826981890874056119786864556246405461461603534909 \\, \\pi^{172}}{1461558000 \\, a^{172} k_{m}^{172}}, \\frac{124486173680609609785965578410256757474578252225144940759721701396964367689874059777948739246049449860378177088224031460932116208362699671826981890874056119786864556246405461461603534909}{87493403035815108907988631418271546476228012263297704263680000000000000000000000000000000000000000000000000000000000000000000000000000000000000000000000000000000000000000000000000000000000000000000000000000000000000000000000000000000}\\right)$$"
      ],
      "text/plain": [
       "<IPython.core.display.Math object>"
      ]
     },
     "metadata": {},
     "output_type": "display_data"
    },
    {
     "data": {
      "text/latex": [
       "$$\\left(177, \\frac{395806220862179187563046698402055897834246071302682274978049632748156866208917318422317670944841085387796221844331976551717937348117136143170486120901974217227017607198344741947341636988219633147706249541307667847330400536736983357706761823069529628810403722460641911620784619520000000000000000000000000000000000000000000 \\, \\pi^{174}}{a^{174} k_{m}^{174}}, \\frac{12632042883347654944117807316924718907581128850706373879685884287852020524813435342243305288970372833072115893416690187560191218299044218120629931987112731396954697411876171151081540469}{75241970973458539197360051272834022066494509662497295108777279086159123952582764397445744611272400650049286180163820078528476454002371346544423070611223494746421593093190938754705750508186575822112662625303505042441814481232627062333340009041871443377600126832323106115287914601512960000000000000000000000000000000000000000000}, \\frac{12632042883347654944117807316924718907581128850706373879685884287852020524813435342243305288970372833072115893416690187560191218299044218120629931987112731396954697411876171151081540469 \\, \\pi^{174}}{190098 \\, a^{174} k_{m}^{174}}, \\frac{12632042883347654944117807316924718907581128850706373879685884287852020524813435342243305288970372833072115893416690187560191218299044218120629931987112731396954697411876171151081540469}{4551942770742558440565703955737804299805547963263412600832000000000000000000000000000000000000000000000000000000000000000000000000000000000000000000000000000000000000000000000000000000000000000000000000000000000000000000000000000000}\\right)$$"
      ],
      "text/plain": [
       "<IPython.core.display.Math object>"
      ]
     },
     "metadata": {},
     "output_type": "display_data"
    },
    {
     "data": {
      "text/latex": [
       "$$\\left(179, -\\frac{12470270794483817483361349279855173117165756722462307755458431729363430226778149034213540540788163236227907765427523253238425334089778491326729335725137599687954416732391049439792945614950847761951633098048439383197991599310435397667909237997628600485300579679844984067524440222597120000000000000000000000000000000000000000000 \\, \\pi^{176}}{a^{176} k_{m}^{176}}, -\\frac{6173136454016248924640522272263470960199559328290655337530202055853397791747341312347030141906500993752700612233695954532816018207721731818225290076670213481102834647254685911917265818955932383093313}{1451617468320171973885646388662775694568931677735851628254858737607334629726265173161705124809859471291616839537446352963298143007591633424164002033338415367776739993349812744747825132457328388730322180900722072485714559449064557715115364882706575964327339880917403631622214718872469292476685877248000000000000000000000000000000000000000000000}, \\frac{6173136454016248924640522272263470960199559328290655337530202055853397791747341312347030141906500993752700612233695954532816018207721731818225290076670213481102834647254685911917265818955932383093313 \\, \\pi^{176}}{116406250693632900 \\, a^{176} k_{m}^{176}}, \\frac{6173136454016248924640522272263470960199559328290655337530202055853397791747341312347030141906500993752700612233695954532816018207721731818225290076670213481102834647254685911917265818955932383093313}{1114950375730682507288445834562532287839165911698646577897914436157440000000000000000000000000000000000000000000000000000000000000000000000000000000000000000000000000000000000000000000000000000000000000000000000000000000000000000000000000000000000}\\right)$$"
      ],
      "text/plain": [
       "<IPython.core.display.Math object>"
      ]
     },
     "metadata": {},
     "output_type": "display_data"
    },
    {
     "data": {
      "text/latex": [
       "$$\\left(181, \\frac{401792124998268599313902673796933677835080681597735555880870670320089721906791961882360276224194619471263188202074799219342064264372662990547219197063933461945891307117639612950128707713716314890081618419120716926639289329782228512860035648283593507636384677284605386655637463972079206400000000000000000000000000000000000000000000 \\, \\pi^{178}}{a^{178} k_{m}^{178}}, \\frac{47002959113727390561948400006908014816785364129982442765513000204642325933951599018823250664134491441093922676468739125102516360145271297708170655236608084482984753252154179757464908252821}{436346247748119698854898303743469974128897620215140813686625547967617437990776070604243259979475356745791822387453231952205481791108712007734280048011431739673237959529756619663839776577095917970628637603165098582330268212143500164965998714035982549293113759531081449908022285873678018150400000000000000000000000000000000000000000000}, \\frac{47002959113727390561948400006908014816785364129982442765513000204642325933951599018823250664134491441093922676468739125102516360145271297708170655236608084482984753252154179757464908252821 \\, \\pi^{178}}{1086 \\, a^{178} k_{m}^{178}}, \\frac{47002959113727390561948400006908014816785364129982442765513000204642325933951599018823250664134491441093922676468739125102516360145271297708170655236608084482984753252154179757464908252821}{4160725393450888250442912178713089433524876716728479907840000000000000000000000000000000000000000000000000000000000000000000000000000000000000000000000000000000000000000000000000000000000000000000000000000000000000000000000000000000000}\\right)$$"
      ],
      "text/plain": [
       "<IPython.core.display.Math object>"
      ]
     },
     "metadata": {},
     "output_type": "display_data"
    },
    {
     "data": {
      "text/latex": [
       "$$\\left(183, -\\frac{13235836181692964198598581880218589215243227813192604681827641621684395619053540808328712219377419154622351945752748035883566280996964264234606494789680096103421551439069284129803139889505242845109068673962674656997351469101686171670635294325758137328557784039109470647210009338168233217228800000000000000000000000000000000000000000000 \\, \\pi^{180}}{a^{180} k_{m}^{180}}, -\\frac{37274840587958964353530192928171009410061013292639363435455028229812236187718000464609959970629550418897494991698335274760044349161564739527851963937258965076622548936071553196370959837957054089}{13660971239848942208657568330211210300836840290552351144207945470572898406337540539092230455863821857868821890250326302796146429942586756401822055402324620790263451671292189536052416742756151245293971959770355766980106398289232331504696099979501488699551060062445666844398394838110196868166189056000000000000000000000000000000000000000000000}, \\frac{37274840587958964353530192928171009410061013292639363435455028229812236187718000464609959970629550418897494991698335274760044349161564739527851963937258965076622548936071553196370959837957054089 \\, \\pi^{180}}{1032120 \\, a^{180} k_{m}^{180}}, \\frac{37274840587958964353530192928171009410061013292639363435455028229812236187718000464609959970629550418897494991698335274760044349161564739527851963937258965076622548936071553196370959837957054089}{1581719297638501208488817133662377114596573022788139477893120000000000000000000000000000000000000000000000000000000000000000000000000000000000000000000000000000000000000000000000000000000000000000000000000000000000000000000000000000000000000}\\right)$$"
      ],
      "text/plain": [
       "<IPython.core.display.Math object>"
      ]
     },
     "metadata": {},
     "output_type": "display_data"
    },
    {
     "data": {
      "text/latex": [
       "$$\\left(185, \\frac{445677075909965490495211449070720336055669966925821384846500348685356969284770826098044397850876457774443834717386531864271443813729780705307669892558108195994410480056340935218731326359420537080512560389671181050414818667591976772493631630536928000127197704164894095632855434434800748890528153600000000000000000000000000000000000000000000 \\, \\pi^{182}}{a^{182} k_{m}^{182}}, \\frac{718020841885063485504503297477947909083760255435978650643440983890310071798144761129444381883462308079830684266472134306454412497343254960348624297682499301275711015247738093235231204952712928951}{10388732639461295583443378877838491033457666929040896480771923127855670954028007956345414913903930230722285787262280057756167355298041188240721785195529502048629708290113307199948627217438092719346747782683235230285169423141568978566826553307815791682964978484083681369201860176675205456638211260416000000000000000000000000000000000000000000000}, \\frac{718020841885063485504503297477947909083760255435978650643440983890310071798144761129444381883462308079830684266472134306454412497343254960348624297682499301275711015247738093235231204952712928951 \\, \\pi^{182}}{23310 \\, a^{182} k_{m}^{182}}, \\frac{718020841885063485504503297477947909083760255435978650643440983890310071798144761129444381883462308079830684266472134306454412497343254960348624297682499301275711015247738093235231204952712928951}{14288988423033547715333227681149482828061123575239906689024000000000000000000000000000000000000000000000000000000000000000000000000000000000000000000000000000000000000000000000000000000000000000000000000000000000000000000000000000000000000000}\\right)$$"
      ],
      "text/plain": [
       "<IPython.core.display.Math object>"
      ]
     },
     "metadata": {},
     "output_type": "display_data"
    },
    {
     "data": {
      "text/latex": [
       "$$\\left(187, -\\frac{15335748182061912527940225962523486763675603561917513852568076998263133313088964126033707730048658912018612352625270561449580381630441754069636921002924503024167664618738691580876544940027660680940437203008585339944773910351839920741505864406775692484376873000314005830726555498901493769323073765376000000000000000000000000000000000000000000000 \\, \\pi^{184}}{a^{184} k_{m}^{184}}, -\\frac{301239952140931038155518869583008453896017524100371873434606851696000026824423846584547054514149597907779111184134664052629899608929721660879068949677829447214288778551927380331041352784640838049383}{172067094602734658563489335299513521488440271964714505425813823920512355772858177494098200731145952992848830596455535699464291881893556480661326253652812923931161197022248119537434834227110352840151705417756327514180363274147643910719695798644023269674708515063523145420751952697674760091804887647518720000000000000000000000000000000000000000000000}, \\frac{301239952140931038155518869583008453896017524100371873434606851696000026824423846584547054514149597907779111184134664052629899608929721660879068949677829447214288778551927380331041352784640838049383 \\, \\pi^{184}}{11220 \\, a^{184} k_{m}^{184}}, \\frac{301239952140931038155518869583008453896017524100371873434606851696000026824423846584547054514149597907779111184134664052629899608929721660879068949677829447214288778551927380331041352784640838049383}{2751135994962443678524904583140235046432360472144002626355200000000000000000000000000000000000000000000000000000000000000000000000000000000000000000000000000000000000000000000000000000000000000000000000000000000000000000000000000000000000000000}\\right)$$"
      ],
      "text/plain": [
       "<IPython.core.display.Math object>"
      ]
     },
     "metadata": {},
     "output_type": "display_data"
    },
    {
     "data": {
      "text/latex": [
       "$$\\left(189, \\frac{539143563088568596832266583938475700663779518822772117000883314950938714754955622814841028957590652710926335868894011858321447896599810306072155594778813828317638417336377441217295813911612438899142010308969826211098471592329284253588380169084606244980753347199039188985022785119380914954321981295558656000000000000000000000000000000000000000000000 \\, \\pi^{186}}{a^{186} k_{m}^{186}}, \\frac{850205159865555348960233392961003500076643752810488010078419731152237199451926097208708415949314022106252865172459100027104823740256244081892031080261461663352463390409627694123158527151602603241787823}{19172057760293428257987573631302571119481750329834246910546007879154027161492290146978126210245437136805584577657604860430657202132500484295034584445533528740849795955374756575122517383613278067166095677454792774955720685324756103430431906832385421720581704407694263210287198154054016251190754737075112640512000000000000000000000000000000000000000000000}, \\frac{56963745710992208380335637328387234505135131438302696675254121987199892363279048512983463868604039481118941966554759701816023190597168353486766082377517931444615047157445055506251621319157374417199784141 \\, \\pi^{186}}{2382534 \\, a^{186} k_{m}^{186}}, \\frac{56963745710992208380335637328387234505135131438302696675254121987199892363279048512983463868604039481118941966554759701816023190597168353486766082377517931444615047157445055506251621319157374417199784141}{233678254781527657296636542463010223390968895726885531314814976000000000000000000000000000000000000000000000000000000000000000000000000000000000000000000000000000000000000000000000000000000000000000000000000000000000000000000000000000000000000000000}\\right)$$"
      ],
      "text/plain": [
       "<IPython.core.display.Math object>"
      ]
     },
     "metadata": {},
     "output_type": "display_data"
    },
    {
     "data": {
      "text/latex": [
       "$$\\left(191, -\\frac{19360645350510498312246693029230662410836322520925746721501719839888209246850456415280941349867080338849364721051983965832323193966899188091051107408507204574886395566549313914113092677566002680868189590195106459240546114880544597546358731871828210257258852697917497276452168213636968656009702348323511336960000000000000000000000000000000000000000000000 \\, \\pi^{188}}{a^{188} k_{m}^{188}}, -\\frac{346465752997582699690191405750952366871923192340955593486485715370392154894102000406980162521728492501917598012711402163530166516991115122131398542029056286959857727373568402417020319761912636411646719477318166587}{308435985302642124866237529824666519612728778300355209677891122599075142041436830821220797611284225972409453121704697798125760196383652031566000554928664241729318977101498447682900810464124520343748316981833416970439631382991003126033464068667053697223395983143583333600743059021781348828602061354770475646764566813081600000000000000000000000000000000000000000000000}, \\frac{346465752997582699690191405750952366871923192340955593486485715370392154894102000406980162521728492501917598012711402163530166516991115122131398542029056286959857727373568402417020319761912636411646719477318166587 \\, \\pi^{188}}{15931079760960 \\, a^{188} k_{m}^{188}}, \\frac{346465752997582699690191405750952366871923192340955593486485715370392154894102000406980162521728492501917598012711402163530166516991115122131398542029056286959857727373568402417020319761912636411646719477318166587}{625006302588160270976855614856050541029245829181781534393902485733376000000000000000000000000000000000000000000000000000000000000000000000000000000000000000000000000000000000000000000000000000000000000000000000000000000000000000000000000000000000000000000000}\\right)$$"
      ],
      "text/plain": [
       "<IPython.core.display.Math object>"
      ]
     },
     "metadata": {},
     "output_type": "display_data"
    },
    {
     "data": {
      "text/latex": [
       "$$\\left(193, \\frac{709993586293920994106710726767946851930189619487388983770911069968380409500499937661182681182325570186283903050418355995002956169154127025675026210884776206170233898216496439858355334671700450312798248651634944073269307124899331481220067415203684126554196646138030460122053912730494914553187804517719807748997120000000000000000000000000000000000000000000000 \\, \\pi^{190}}{a^{190} k_{m}^{190}}, \\frac{23393678609912710957048093680086185230817746693789570486938007756801705301272955637764945979191874408873564472487875262438095401668424494065073287349640098298662995920944706022417797935271814085956797257951}{822172572928360511175571021597282454535159579366396443206715019023384514201578927811649544809133010275716759732384456242213423243880479095731680352204570846745130854134702877355975477549829121462220371938593265236845857650633425855252838066805866218549759716227839272821338430941913111052591477631519537373338664960000000000000000000000000000000000000000000000}, \\frac{23393678609912710957048093680086185230817746693789570486938007756801705301272955637764945979191874408873564472487875262438095401668424494065073287349640098298662995920944706022417797935271814085956797257951 \\, \\pi^{190}}{1158 \\, a^{190} k_{m}^{190}}, \\frac{23393678609912710957048093680086185230817746693789570486938007756801705301272955637764945979191874408873564472487875262438095401668424494065073287349640098298662995920944706022417797935271814085956797257951}{18172209523944440811304610380186194274616319011723379914833920000000000000000000000000000000000000000000000000000000000000000000000000000000000000000000000000000000000000000000000000000000000000000000000000000000000000000000000000000000000000000000000}\\right)$$"
      ],
      "text/plain": [
       "<IPython.core.display.Math object>"
      ]
     },
     "metadata": {},
     "output_type": "display_data"
    },
    {
     "data": {
      "text/latex": [
       "$$\\left(195, -\\frac{26583579858016989861343463031645466029970159732846818330350452281756099292517718665910001948828633998914841898013764085164900684885468824095324331387947790711425897617022059701176540440777808260611792026014515575991349397370480769319841764160056341066442230824700136487889942600455190590700457776752465041737950167040000000000000000000000000000000000000000000000 \\, \\pi^{192}}{a^{192} k_{m}^{192}}, -\\frac{1280676226744105993317410340814157420472511309251263169501849777694241319188599560826216848052624002900323179366548276214943154305773990812218035973576149318606462627537698397102156555450354243743194387437525955737}{1776902303227557438010905890307549404921868413878920315519117966462369364520398602838622941263798436618865753631225820357000808069182995687062078491066345021512200991106750216752012433796514337536639463782064851581971375553977412630953795184162901955197238237007688993137188332293885894982659068759465943566352238860304384000000000000000000000000000000000000000000000000}, \\frac{1280676226744105993317410340814157420472511309251263169501849777694241319188599560826216848052624002900323179366548276214943154305773990812218035973576149318606462627537698397102156555450354243743194387437525955737 \\, \\pi^{192}}{66842100 \\, a^{192} k_{m}^{192}}, \\frac{1280676226744105993317410340814157420472511309251263169501849777694241319188599560826216848052624002900323179366548276214943154305773990812218035973576149318606462627537698397102156555450354243743194387437525955737}{419574661906890054284388220204989159351755252854409441314445721600000000000000000000000000000000000000000000000000000000000000000000000000000000000000000000000000000000000000000000000000000000000000000000000000000000000000000000000000000000000000000000000000}\\right)$$"
      ],
      "text/plain": [
       "<IPython.core.display.Math object>"
      ]
     },
     "metadata": {},
     "output_type": "display_data"
    },
    {
     "data": {
      "text/latex": [
       "$$\\left(197, \\frac{1016024422173409352500547157069489711665459504989405396585994286208718114960027207411080274484230391438525257342086063335002504176322618456923295945647364560990697806922583121778967375646527831720582691234274785314389373967499775003404352226197353355559422062120039216567153606189397384376571496227479213895224455384268800000000000000000000000000000000000000000000000 \\, \\pi^{194}}{a^{194} k_{m}^{194}}, \\frac{8047992260122545906218234637320960474594956945485413493585440355338290577234499460843844151150315089992748841196595969684216893313623896643984917893004822552000271471295881271939699963042627828287117858429912192655120203}{440830352427316112930638630322844886561568192822506968632856453861903279131862014567850337966658958062816814980476354737757621807605270552528428311538065507831356962689676602248426068386428373629418317111907595141638443511241212677446695707420434984156764261824670225460779925227787510256957731307580508887217256550219049669020876800000000000000000000000000000000000000000000000}, \\frac{8047992260122545906218234637320960474594956945485413493585440355338290577234499460843844151150315089992748841196595969684216893313623896643984917893004822552000271471295881271939699963042627828287117858429912192655120203 \\, \\pi^{194}}{433877712786 \\, a^{194} k_{m}^{194}}, \\frac{8047992260122545906218234637320960474594956945485413493585440355338290577234499460843844151150315089992748841196595969684216893313623896643984917893004822552000271471295881271939699963042627828287117858429912192655120203}{1089397817549841779640566295612028996847582296444499896037232840435302400000000000000000000000000000000000000000000000000000000000000000000000000000000000000000000000000000000000000000000000000000000000000000000000000000000000000000000000000000000000000000000000000}\\right)$$"
      ],
      "text/plain": [
       "<IPython.core.display.Math object>"
      ]
     },
     "metadata": {},
     "output_type": "display_data"
    },
    {
     "data": {
      "text/latex": [
       "$$\\left(199, -\\frac{39631048611296005203636342408652515693222913451616746899233293127857258792130821252276597186531890648451116187885408986445107677901640055530750081655921102066003158656822277248110401454468464604093048454284122275973071920976296223782790162935053964986950816955054249681418393563023634374992547781849054217197125106718788812800000000000000000000000000000000000000000000000 \\, \\pi^{196}}{a^{196} k_{m}^{196}}, -\\frac{498384049428333414764928632140399662108495887457206674968055822617263669621523687568865802302210999132601412697613279391058654527145340515840099290478026350382802884371712359337984274122861159800280019110197888555893671151}{1077724635490007166819410902734748853178172167588852879490164513954414519158489570200883413230897348103775285704197854050711976602150270883180274590796790685764480398346216195904420107301538339615082342734234344114331091246217587765849335202977221965994996207882446647961258679378005872940925469774570742382585108704480086879476121600000000000000000000000000000000000000000000000000}, \\frac{498384049428333414764928632140399662108495887457206674968055822617263669621523687568865802302210999132601412697613279391058654527145340515840099290478026350382802884371712359337984274122861159800280019110197888555893671151 \\, \\pi^{196}}{27193947000 \\, a^{196} k_{m}^{196}}, \\frac{498384049428333414764928632140399662108495887457206674968055822617263669621523687568865802302210999132601412697613279391058654527145340515840099290478026350382802884371712359337984274122861159800280019110197888555893671151}{27311867504914147391627195884459176082106784085106623671978342481920000000000000000000000000000000000000000000000000000000000000000000000000000000000000000000000000000000000000000000000000000000000000000000000000000000000000000000000000000000000000000000000000000000}\\right)$$"
      ],
      "text/plain": [
       "<IPython.core.display.Math object>"
      ]
     },
     "metadata": {},
     "output_type": "display_data"
    },
    {
     "data": {
      "text/latex": [
       "$$\\left(201, \\frac{1577315734729581007104726427864370124590271955374346526589485066488718899926806685840608568023969247808354424277839277660515285580485274210123853249905659862226925714541526634474793977887844891242903328480508066583728262454856589706555048484815147806480642514811159137320452063808340648124703401717592357844445579247407794749440000000000000000000000000000000000000000000000000 \\, \\pi^{198}}{a^{198} k_{m}^{198}}, \\frac{22282428972151134117828856045830545899416341035160862536857736749322275054754787287821361726678959629497926813667599211071639813105803064102414731266778335073650479206785100534015593646287343714020990663317192252842371}{1902242776083874694568300072004430370255867978181461911066918990185394993311728863123773933036906912856875435679074168858581434410065240697409367019386225793845672411737081121176601537332740938838941414147492728299976284520557047186105388472687068254615654872862257919608465188952858821638392302471416383560401368572373800467824640000000000000000000000000000000000000000000000000}, \\frac{22282428972151134117828856045830545899416341035160862536857736749322275054754787287821361726678959629497926813667599211071639813105803064102414731266778335073650479206785100534015593646287343714020990663317192252842371 \\, \\pi^{198}}{1206 \\, a^{198} k_{m}^{198}}, \\frac{22282428972151134117828856045830545899416341035160862536857736749322275054754787287821361726678959629497926813667599211071639813105803064102414731266778335073650479206785100534015593646287343714020990663317192252842371}{484491820344085568075901570840860524660444202625512039843364864000000000000000000000000000000000000000000000000000000000000000000000000000000000000000000000000000000000000000000000000000000000000000000000000000000000000000000000000000000000000000000000000000000}\\right)$$"
      ],
      "text/plain": [
       "<IPython.core.display.Math object>"
      ]
     },
     "metadata": {},
     "output_type": "display_data"
    },
    {
     "data": {
      "text/latex": [
       "$$\\left(203, -\\frac{64042173461490448050466102424149155798614221932109217672586272669574964774828205058500389078909199399514806334528830351572241625138863103479448689652669601726137637861815064412945585090202278274244360942965588519432534912192087255265548078580464631238727047386362683293484994694746246995159207516537684913200179408603251282416762880000000000000000000000000000000000000000000000000 \\, \\pi^{200}}{a^{200} k_{m}^{200}}, -\\frac{6508037897109229622998616554282051717677484194090646747963078501242862924486129196106530924102808599600634518830257001520582196807207711649574148877803345817150392046009909711503713652488901886652801804485381323039037330991669}{21933766844365255888344266148907438362957021673279365337337822426564581332251342550126864325409945935004174302925105080388373122293666643770076363638902813346815878431463081558052373929104025968824552117626937491979107611206418892645289507415137754883465507997667871310829365611706719180548819789998632114064679789548470541829173317048729600000000000000000000000000000000000000000000000000}, \\frac{6508037897109229622998616554282051717677484194090646747963078501242862924486129196106530924102808599600634518830257001520582196807207711649574148877803345817150392046009909711503713652488901886652801804485381323039037330991669 \\, \\pi^{200}}{342489420 \\, a^{200} k_{m}^{200}}, \\frac{6508037897109229622998616554282051717677484194090646747963078501242862924486129196106530924102808599600634518830257001520582196807207711649574148877803345817150392046009909711503713652488901886652801804485381323039037330991669}{55035927875419590925600678266791122186351984046293232414252379144192000000000000000000000000000000000000000000000000000000000000000000000000000000000000000000000000000000000000000000000000000000000000000000000000000000000000000000000000000000000000000000000000000000000}\\right)$$"
      ],
      "text/plain": [
       "<IPython.core.display.Math object>"
      ]
     },
     "metadata": {},
     "output_type": "display_data"
    },
    {
     "data": {
      "text/latex": [
       "$$\\left(205, \\frac{2652114487387242434665902233588864839932212158652506922257142723792438441255185627882618112535787765532707159925507922519309670180250598841290929135896353546682811859133485447468902569755456747893007475370090951766740135783698717415056877030174201308858164486364051440549800600298831580563533101674858607625445829669077842107442984386560000000000000000000000000000000000000000000000000 \\, \\pi^{202}}{a^{202} k_{m}^{202}}, \\frac{24517404552343737090091524530766693101518332518348440188889362297976440624123090229321359873052055278314997304259648924254576193511183658326710667970251868864448486453980264156055449365738303447063314846644622805637922182881}{3262100819486308194639059747314303753116620955142583514376285550264699282743878322295620278419018951605229806708374744698750894321708236574787842837152514862419858586734187100386750160799211799908399194705211870673090367013949422420519958747114267609895542318227783271876254738367562844093145715060076087379298370492965745792154870795468800000000000000000000000000000000000000000000000000}, \\frac{24517404552343737090091524530766693101518332518348440188889362297976440624123090229321359873052055278314997304259648924254576193511183658326710667970251868864448486453980264156055449365738303447063314846644622805637922182881 \\, \\pi^{202}}{1230 \\, a^{202} k_{m}^{202}}, \\frac{24517404552343737090091524530766693101518332518348440188889362297976440624123090229321359873052055278314997304259648924254576193511183658326710667970251868864448486453980264156055449365738303447063314846644622805637922182881}{79061351777542321556664534943185200044092387294113407496827699200000000000000000000000000000000000000000000000000000000000000000000000000000000000000000000000000000000000000000000000000000000000000000000000000000000000000000000000000000000000000000000000000000000000}\\right)$$"
      ],
      "text/plain": [
       "<IPython.core.display.Math object>"
      ]
     },
     "metadata": {},
     "output_type": "display_data"
    },
    {
     "data": {
      "text/latex": [
       "$$\\left(207, -\\frac{111998794802363248015941051324457762190337319459895367326919137225754675374206489065482962892386317338446223363654199567990447371711982789067715937408903010276415144811207090446611755520772938463521705684878940893109435934145596836437851916984256521273080286259153892334418079350619657647198002883729279000022577386925157272197317230644428800000000000000000000000000000000000000000000000000 \\, \\pi^{204}}{a^{204} k_{m}^{204}}, -\\frac{954414666802540262516267191053614671256522761262520113275988774780215415644121314386253733927776510259796486689740252219186433224985234184447896241223510831697167786252382487305014872187554931352191262848215858937246935384755222377}{5013254213329046951450188238248954524679978185721609265770009806375318537604111117472647430440870773081981547412412911718526648309412825769756599121197345697029606259192912196302292484859071624163850262920731990996278776264726279001643467395435855443138812387840643599427675054107044917313429901720567193229730601768780073767769210736592115728384000000000000000000000000000000000000000000000000000}, \\frac{954414666802540262516267191053614671256522761262520113275988774780215415644121314386253733927776510259796486689740252219186433224985234184447896241223510831697167786252382487305014872187554931352191262848215858937246935384755222377 \\, \\pi^{204}}{44761680 \\, a^{204} k_{m}^{204}}, \\frac{954414666802540262516267191053614671256522761262520113275988774780215415644121314386253733927776510259796486689740252219186433224985234184447896241223510831697167786252382487305014872187554931352191262848215858937246935384755222377}{1150867944271148157390738139992089139873056692843957798400846337146880000000000000000000000000000000000000000000000000000000000000000000000000000000000000000000000000000000000000000000000000000000000000000000000000000000000000000000000000000000000000000000000000000000000000}\\right)$$"
      ],
      "text/plain": [
       "<IPython.core.display.Math object>"
      ]
     },
     "metadata": {},
     "output_type": "display_data"
    },
    {
     "data": {
      "text/latex": [
       "$$\\left(209, \\frac{4822220109010552006574357905825853408867163626665254935627830372392093302911834593203434450294585279324140593145495216599396702036431130966099577401077728010461330474991332486269315745702399638485390559968147679093719873580572817389668152137674148779933744805174129988350704824520279979657757212161847836624972091971449571511727690682626526412800000000000000000000000000000000000000000000000000 \\, \\pi^{206}}{a^{206} k_{m}^{206}}, \\frac{941636273705898522822128839590367463440522121668251440841338639048249040872164575182122602086714426645566348219452323766641307503839777162450869443830096401108684599445088040808294703637527288448266524360943793555040787680793142079126552431}{195265509785080684249201439875141638893932542208360937474508744577017944349173881004826220243633429235678528141395504136454371486719795768670113888861069255224940168581135495354833565847812267604968294779915143596824985713154327708082563148540277951612197022033036111347999402318534548320962520854964678658491429289494183801908155822521029015578631208121139200000000000000000000000000000000000000000000000000}, \\frac{941636273705898522822128839590367463440522121668251440841338639048249040872164575182122602086714426645566348219452323766641307503839777162450869443830096401108684599445088040808294703637527288448266524360943793555040787680793142079126552431 \\, \\pi^{206}}{40492865396214 \\, a^{206} k_{m}^{206}}, \\frac{941636273705898522822128839590367463440522121668251440841338639048249040872164575182122602086714426645566348219452323766641307503839777162450869443830096401108684599445088040808294703637527288448266524360943793555040787680793142079126552431}{416444965927901878603936293592775677835786398243677482121480532021372098969600000000000000000000000000000000000000000000000000000000000000000000000000000000000000000000000000000000000000000000000000000000000000000000000000000000000000000000000000000000000000000000000000000000000000}\\right)$$"
      ],
      "text/plain": [
       "<IPython.core.display.Math object>"
      ]
     },
     "metadata": {},
     "output_type": "display_data"
    },
    {
     "data": {
      "text/latex": [
       "$$\\left(211, -\\frac{211647240584473127568548568486696706115179811574338039124705475044288975064800420295698738023429347909536530633155785056547521252378962338102110452133301482379147794547369582822360268078878320133123791677002001635423365251451340955232535197322518389951292059499092565188712434748195088307178964041783501549470025116626921693649728344060478244257792000000000000000000000000000000000000000000000000000 \\, \\pi^{208}}{a^{208} k_{m}^{208}}, -\\frac{946512325317383104737053054915738922725222060396059114356517683249986786201899224085876309388270396553924988379815782603760498032396348892604856825882426122004834800880175884934284456408296811805028881458421551438233361871934384073787}{7748691487582134812619115184958083568587699360941345798894825151472830578439998522728633094629671980140983111521229447386497384835069998984861644882940887947579491498642102277914207198513787838344112180581093282577762136133000418507489103486406212470157277017261101909619828063745946770882993737034615320782245551986085423368967432687329865925310545920000000000000000000000000000000000000000000000000000}, \\frac{35020956036743174875270963031882340140833216234654187231191154280249511089470271291177423447366004672495224570053183956339138427198664909026379702557649766514178887632566507742568524887106982036786068613961597403214634389261572210730119 \\, \\pi^{208}}{1354620 \\, a^{208} k_{m}^{208}}, \\frac{35020956036743174875270963031882340140833216234654187231191154280249511089470271291177423447366004672495224570053183956339138427198664909026379702557649766514178887632566507742568524887106982036786068613961597403214634389261572210730119}{5572583458596130322059910885189595352649284145761399886223231890227200000000000000000000000000000000000000000000000000000000000000000000000000000000000000000000000000000000000000000000000000000000000000000000000000000000000000000000000000000000000000000000000000000000000000000}\\right)$$"
      ],
      "text/plain": [
       "<IPython.core.display.Math object>"
      ]
     },
     "metadata": {},
     "output_type": "display_data"
    },
    {
     "data": {
      "text/latex": [
       "$$\\left(213, \\frac{9467404365824651942396314565546917057944223331343289166126325309681134432598652400667195949264041590689388088282324577149483720661415743307983604744826841909784039145692936178809819511704385016194893449295653537155757974427921383609461764446630892619301196405513408626021484631156262690156729419517059591310893163516955461200339648286513312822139551744000000000000000000000000000000000000000000000000000 \\, \\pi^{210}}{a^{210} k_{m}^{210}}, \\frac{37436905888506101513418941742774356829032497452790862318150025656502787313455799498502709341552900388692234667916107636313818869028560459693483475497866218994959895711387909448073510210923283741067705156689223474850415720222277856950501}{12099342779523905182382490014768960000052717417456723554309443745772489804861077768052676423159445152901037976824810809597040195005289319947603046863888703960704002028195572436518949335958204050697073828199845220485058691318883528252892134962794280767466929006246136224055457358617703718020300198142802157695321462974669079414034070510164013786694347128832000000000000000000000000000000000000000000000000000}, \\frac{37436905888506101513418941742774356829032497452790862318150025656502787313455799498502709341552900388692234667916107636313818869028560459693483475497866218994959895711387909448073510210923283741067705156689223474850415720222277856950501 \\, \\pi^{210}}{1278 \\, a^{210} k_{m}^{210}}, \\frac{37436905888506101513418941742774356829032497452790862318150025656502787313455799498502709341552900388692234667916107636313818869028560459693483475497866218994959895711387909448073510210923283741067705156689223474850415720222277856950501}{2102954824256501321874050615308293945367936436279715065359522332672000000000000000000000000000000000000000000000000000000000000000000000000000000000000000000000000000000000000000000000000000000000000000000000000000000000000000000000000000000000000000000000000000000000000000000}\\right)$$"
      ],
      "text/plain": [
       "<IPython.core.display.Math object>"
      ]
     },
     "metadata": {},
     "output_type": "display_data"
    },
    {
     "data": {
      "text/latex": [
       "$$\\left(215, -\\frac{431543225803019284838308810526759573335213587889289806770370160265885469706711773727212125759353543786803687840084918875627766955188652411464508671478697107931776072338975416902509192982509277808195633205794479530633759990373512507686486147006329347372987134556112191991311312457364765942724040400426610291133132179429863832433881848195849825058765047595008000000000000000000000000000000000000000000000000000 \\, \\pi^{212}}{a^{212} k_{m}^{212}}, -\\frac{11993122770108617858536443322964878003618156069559794803117809279608039120818829088000103355036592864877954563564831932363414886811786054601318517206937549605059298307895591515771731031691422489377098686236263367916404512751010916862894129855138281961}{153021991275101966855964902795374156388898320387543871741270144213165447820374223361268327628653716714228828704940816792786013799352976076536286666787892193216208064014891954689135556251471485343831670299417205969011593209634479510338115846218002395740255929444608622260719338662149959557066284390003153294678403844534773525697335703599020879487666863431547410983996620800000000000000000000000000000000000000000000000000000}, \\frac{11993122770108617858536443322964878003618156069559794803117809279608039120818829088000103355036592864877954563564831932363414886811786054601318517206937549605059298307895591515771731031691422489377098686236263367916404512751010916862894129855138281961 \\, \\pi^{212}}{354592499952600 \\, a^{212} k_{m}^{212}}, \\frac{11993122770108617858536443322964878003618156069559794803117809279608039120818829088000103355036592864877954563564831932363414886811786054601318517206937549605059298307895591515771731031691422489377098686236263367916404512751010916862894129855138281961}{233393429865569134994324297387128707873948941399397395065363983927998372904960000000000000000000000000000000000000000000000000000000000000000000000000000000000000000000000000000000000000000000000000000000000000000000000000000000000000000000000000000000000000000000000000000000000000000000000}\\right)$$"
      ],
      "text/plain": [
       "<IPython.core.display.Math object>"
      ]
     },
     "metadata": {},
     "output_type": "display_data"
    },
    {
     "data": {
      "text/latex": [
       "$$\\left(217, \\frac{20040867406292215587891061160862714585687319021578618626415990242747721213179694771891731120264378573459163263293543632584153497398961017988411782703470693692351680799422018360952526922107730861412605206077095629402631813952945920856960416666973934892001522528785850196076497350520019730380104436195811781920222658412722876378229473030215265875729048810312171520000000000000000000000000000000000000000000000000000 \\, \\pi^{214}}{a^{214} k_{m}^{214}}, \\frac{5592352373627664894933339140085369643420738501775041053760721766054063208089750380150972287602557415165840480909799214480396200263574808232478189797875116312080938769734186232959966256858595340108531486074636227321409139961597388715457797}{2816928572060073917244322749804950274270202889570912388167291298289704525484180351182449953425911789122728119271099407278912647480670111780299270331417342457890736089911202408070839906356932482085632298209260337847590048771103917624502047123005512601682606318954893334264449913675598152753416385180497348597660574463280274753800580145238073644629085776857006080000000000000000000000000000000000000000000000000000}, \\frac{51801960036913059921767520454610779007006300741942205280985565718958787496535357771338456300062489336681180374667470123731910003041493448657445472097717202398805735824047767075908167437281168635425327155509355373678212863464276611671285573611 \\, \\pi^{214}}{1302 \\, a^{214} k_{m}^{214}}, \\frac{51801960036913059921767520454610779007006300741942205280985565718958787496535357771338456300062489336681180374667470123731910003041493448657445472097717202398805735824047767075908167437281168635425327155509355373678212863464276611671285573611}{342791509381153642701723180110347257198003535528787357132782231879680000000000000000000000000000000000000000000000000000000000000000000000000000000000000000000000000000000000000000000000000000000000000000000000000000000000000000000000000000000000000000000000000000000000000000000000}\\right)$$"
      ],
      "text/plain": [
       "<IPython.core.display.Math object>"
      ]
     },
     "metadata": {},
     "output_type": "display_data"
    },
    {
     "data": {
      "text/latex": [
       "$$\\left(219, -\\frac{948053273522059550600774539275771576190524313634798132741234834423423699710678640879110232375226692796059177333364375083025965347955249916959807792570384635810388611897458000583220238577228316129984701878683085844520900590858059732059369470847868964001024024746743429375594783663700053365361220458679072155518053078872268389948523451167363367517238383020627585925120000000000000000000000000000000000000000000000000000 \\, \\pi^{216}}{a^{216} k_{m}^{216}}, -\\frac{8717064809960074651332043679796544474420053189621803209941154764877242575579617540185166306094852502223738126111951612525627910517501081576202264770178546608710937474005742969950212404955732473198451623024108934373488641161751158901712323446768306053}{173344999495921286616452479162253829882561656130358758464618874953965501868569585802123240129206811713579127767082075769743224884712716556091673832197726095003942466004028102946437796404200014728986405844074239333378319478824319301394904498095183989771735635859171283531664814588900275227488078168448303458038602930905550056450196868234139336943291169390478911756065308672000000000000000000000000000000000000000000000000000000}, \\frac{8717064809960074651332043679796544474420053189621803209941154764877242575579617540185166306094852502223738126111951612525627910517501081576202264770178546608710937474005742969950212404955732473198451623024108934373488641161751158901712323446768306053 \\, \\pi^{216}}{182843100 \\, a^{216} k_{m}^{216}}, \\frac{8717064809960074651332043679796544474420053189621803209941154764877242575579617540185166306094852502223738126111951612525627910517501081576202264770178546608710937474005742969950212404955732473198451623024108934373488641161751158901712323446768306053}{19255625876783168543126095727568121223526967817832141203983107496712601600000000000000000000000000000000000000000000000000000000000000000000000000000000000000000000000000000000000000000000000000000000000000000000000000000000000000000000000000000000000000000000000000000000000000000000000000}\\right)$$"
      ],
      "text/plain": [
       "<IPython.core.display.Math object>"
      ]
     },
     "metadata": {},
     "output_type": "display_data"
    },
    {
     "data": {
      "text/latex": [
       "$$\\left(221, \\frac{45677206718292829147945317302306674540859461430924574035472694322520553852060496917555530995838422058914131163921495591500191010464483940999123539446041131753344523321219526468099551094650860271142662936514951075989016990467541317890620421105450326685569337512298098427316156676917068571143103601699157696452859797340065891027719859877243567046980545293933837089872281600000000000000000000000000000000000000000000000000000 \\, \\pi^{218}}{a^{218} k_{m}^{218}}, \\frac{361298734014923585546239257820537657847834341944635080435456294359368919135242031680021417762956116783613157236632687470250494353928386377531280569950492409013250754439704451995461151768425136789855404880180898881164847053972663305457149169495207451043}{283639832115900812861171823148807060016044281550232228555965300081394337391878281168074043492556024245512605895094426471723893109658866420096735479709424882121209845997797402288846122251307471689583206045033558068623807266992691684970034222880828464705659121237941985283971190838071490189347342425119988183040072463431118880747408849645604534061819118928838602955822132415692800000000000000000000000000000000000000000000000000000}, \\frac{361298734014923585546239257820537657847834341944635080435456294359368919135242031680021417762956116783613157236632687470250494353928386377531280569950492409013250754439704451995461151768425136789855404880180898881164847053972663305457149169495207451043 \\, \\pi^{218}}{6209658 \\, a^{218} k_{m}^{218}}, \\frac{361298734014923585546239257820537657847834341944635080435456294359368919135242031680021417762956116783613157236632687470250494353928386377531280569950492409013250754439704451995461151768425136789855404880180898881164847053972663305457149169495207451043}{261581325783195793134488105580050227764994192125913197237288878457697075200000000000000000000000000000000000000000000000000000000000000000000000000000000000000000000000000000000000000000000000000000000000000000000000000000000000000000000000000000000000000000000000000000000000000000000000000}\\right)$$"
      ],
      "text/plain": [
       "<IPython.core.display.Math object>"
      ]
     },
     "metadata": {},
     "output_type": "display_data"
    },
    {
     "data": {
      "text/latex": [
       "$$\\left(223, -\\frac{2241015116012882783656493157485770066323646896724021451328361328851503413089792099769109461717824663054445103164316416710182371355408511113298999092301670006082589003185672407577900175805760506622801328991296529690173151586318512138349619100275603927847402837028369305040985278882905218237422948906564074903370207377098312745601991765297323886458959513210981915303313879859200000000000000000000000000000000000000000000000000000 \\, \\pi^{220}}{a^{220} k_{m}^{220}}, -\\frac{431177145011627441088711241187417911485711889947588609838956558829651854587307721890831435738404274598485994965110849751532057363188542795176820855177942586036455988990820372929754423780377717505834231408727292727589908542721968791885070339126130968550397387}{13363377875925818975914783555302514805441165773545824620870811963032518725606250174329434626063811006254872804273443884790648122653747981890177242583951930926842233931327495609418175065289811515271649383904517851393454997128346213940247738316144427400928911255923357077779103762393842558570491215290453682342679718491783210603877115094435619898465042467818212116261442776356473536512000000000000000000000000000000000000000000000000000000}, \\frac{431177145011627441088711241187417911485711889947588609838956558829651854587307721890831435738404274598485994965110849751532057363188542795176820855177942586036455988990820372929754423780377717505834231408727292727589908542721968791885070339126130968550397387 \\, \\pi^{220}}{5963091360 \\, a^{220} k_{m}^{220}}, \\frac{431177145011627441088711241187417911485711889947588609838956558829651854587307721890831435738404274598485994965110849751532057363188542795176820855177942586036455988990820372929754423780377717505834231408727292727589908542721968791885070339126130968550397387}{100477890648091734986281907338997754887722897300702423132201688463692110233600000000000000000000000000000000000000000000000000000000000000000000000000000000000000000000000000000000000000000000000000000000000000000000000000000000000000000000000000000000000000000000000000000000000000000000000000000}\\right)$$"
      ],
      "text/plain": [
       "<IPython.core.display.Math object>"
      ]
     },
     "metadata": {},
     "output_type": "display_data"
    },
    {
     "data": {
      "text/latex": [
       "$$\\left(225, \\frac{111943187075075520809209146202729186352998809785158319536754305098790298490661294967666555831728777568895641793263933647507029813945365947131511602658653020143837485887130708103331269581849348826822171985773244251083529268039782318334840173296966967403833466515241103525407296650758881461395751143780688669573148598900814918268310692660131922776397945603914968633231134926726758400000000000000000000000000000000000000000000000000000 \\, \\pi^{222}}{a^{222} k_{m}^{222}}, \\frac{28037354946047802393246712904564025604626987086559369369882057291896216676073609288468837436035675593134466282048388638822107900630685300727687703761768911117655807056915055020866313813249746738147498987929639509587440262228112310810548818525954050735873837}{34304989679156893351982142853826359157876485258661767022038356797524286972463153842841416034633283885988069427545732466278529286483557394498451730634744218023078997550111205498265867563357732947979654605040210700744547544190791291453711771106855527160904765813595636175361066058625059223844727938011592042790691388133154731703323811765697427734827150430319742137653681298295415111680000000000000000000000000000000000000000000000000000000}, \\frac{28037354946047802393246712904564025604626987086559369369882057291896216676073609288468837436035675593134466282048388638822107900630685300727687703761768911117655807056915055020866313813249746738147498987929639509587440262228112310810548818525954050735873837 \\, \\pi^{222}}{306450 \\, a^{222} k_{m}^{222}}, \\frac{28037354946047802393246712904564025604626987086559369369882057291896216676073609288468837436035675593134466282048388638822107900630685300727687703761768911117655807056915055020866313813249746738147498987929639509587440262228112310810548818525954050735873837}{2065468914037078391268926693354291454984025727071889609208550340218060800000000000000000000000000000000000000000000000000000000000000000000000000000000000000000000000000000000000000000000000000000000000000000000000000000000000000000000000000000000000000000000000000000000000000000000000000000000}\\right)$$"
      ],
      "text/plain": [
       "<IPython.core.display.Math object>"
      ]
     },
     "metadata": {},
     "output_type": "display_data"
    },
    {
     "data": {
      "text/latex": [
       "$$\\left(227, -\\frac{5692311062767590233148285084408779126049989477575300548443956414273486678250126849105844364043408339378343385187471025975732466039121858411637364995192506074314136157360596507054395058237039387843907445476569470167597463279822930887326622812150770292484931772300010114266961034691089122311973945661248018847794606254106438593943598721767708273179835533959076154999803211024055664640000000000000000000000000000000000000000000000000000000 \\, \\pi^{224}}{a^{224} k_{m}^{224}}, -\\frac{9458220230082145577107827629854422677705270297569656070944093498564067769897153638547801879358815328877180124634053200753221037126534122281418664682465563073701104859000163469668003382466802311692660391251381555358920586954016412932951493825928004342347608709}{456866602873445602206622757284514774226496291577869014699962730824626865676868933421810913573004237879415069117564428117937287473936203247054664668455896660252272136774350367531840622863235364596285002478259534958553110202054583855146992108124165199437394677375147700453540197279551511937359594277643112584642207270896425832584270912692317820974446890131227868926054400774786303551078400000000000000000000000000000000000000000000000000000000}, \\frac{100342258420941482427536943325125570187775212586916481256645887926266194970838902951353630138117671824058003942242670406790921982875400503283570613616277158648895021449132734249707847884590305724747434090785906920802788506995160124805682397999270198067965780793781 \\, \\pi^{224}}{851481540 \\, a^{224} k_{m}^{224}}, \\frac{100342258420941482427536943325125570187775212586916481256645887926266194970838902951353630138117671824058003942242670406790921982875400503283570613616277158648895021449132734249707847884590305724747434090785906920802788506995160124805682397999270198067965780793781}{2295589690646329418434835379349870913621979313410725736869172295456222347264000000000000000000000000000000000000000000000000000000000000000000000000000000000000000000000000000000000000000000000000000000000000000000000000000000000000000000000000000000000000000000000000000000000000000000000000000000000}\\right)$$"
      ],
      "text/plain": [
       "<IPython.core.display.Math object>"
      ]
     },
     "metadata": {},
     "output_type": "display_data"
    },
    {
     "data": {
      "text/latex": [
       "$$\\left(229, \\frac{294611251364599400106822642828660772447843255401387255185265408177138576519513565202322080905430642012865540243762750420400009512320790903952703462691183344382202430960355032819107270634116210557249273748085329497994174309510515611004476690265675267257850128807159323474000835311472008614378523531643552463486457641287532835868144895443809509386695567895585945478169814989761024979107840000000000000000000000000000000000000000000000000000000 \\, \\pi^{226}}{a^{226} k_{m}^{226}}, \\frac{109745539520954944015937879046570048904494672344393580547805996270109970867348761152022888810025637386879330240788718629446762667825996220178595070196723931821427094939628649664318482056580313404716551043697899801783493983161687450086758891042466269984211124624897}{209279459296854100661082318914481808994505039220418647818894764821895804939248617149991108747819899998975139436478819863134509957153172384950034526350383618148652554452135880403315402553109523099026479601142398491536145674155270848401918052743744551498751901799196082704344285370186633095292699218891250640857313077149729250221623671637673635468914290219172641057981753436496662182109087006720000000000000000000000000000000000000000000000000000000}, \\frac{109745539520954944015937879046570048904494672344393580547805996270109970867348761152022888810025637386879330240788718629446762667825996220178595070196723931821427094939628649664318482056580313404716551043697899801783493983161687450086758891042466269984211124624897 \\, \\pi^{226}}{710358 \\, a^{226} k_{m}^{226}}, \\frac{109745539520954944015937879046570048904494672344393580547805996270109970867348761152022888810025637386879330240788718629446762667825996220178595070196723931821427094939628649664318482056580313404716551043697899801783493983161687450086758891042466269984211124624897}{766048551783351767330402860127403632242541385508283039461271934776503173120000000000000000000000000000000000000000000000000000000000000000000000000000000000000000000000000000000000000000000000000000000000000000000000000000000000000000000000000000000000000000000000000000000000000000000000000000000000}\\right)$$"
      ],
      "text/plain": [
       "<IPython.core.display.Math object>"
      ]
     },
     "metadata": {},
     "output_type": "display_data"
    },
    {
     "data": {
      "text/latex": [
       "$$\\left(231, -\\frac{15517174609373450403626348597785562884827904261991066730607929048689888825282779479206304001289031914817628004638984064642468501013936056911188891379944626748610602038681899578582379944298900810050319248311654304659353160881918857231605787276293116326470966284273081567375623995855230693719316834411665908251831723966614354465175191643025446859397255561060511748335204155510713185649609932800000000000000000000000000000000000000000000000000000000 \\, \\pi^{228}}{a^{228} k_{m}^{228}}, -\\frac{78544240094811884406420451511886551744295211914753829089478167312813670347468525370615586987782604264709023960583428867461012936277285691583986966637837444729357218794488688130582724542030754381577942955936657376592335279401083750603481493643367440679257608432553947343}{5913080694122175125206617200896575446142653420939467907261894801528462074601820882557991973850567318438702680023282998323661201480917409169206911481258738290072516509378069237607719205053358147159315396945297441048936985461284432061659165483089224752280699473694484889942076129128725857926627913048056786793255439263709997554684200325802115074298436481325756260720971508295336059801830204324708352000000000000000000000000000000000000000000000000000000000}, \\frac{78544240094811884406420451511886551744295211914753829089478167312813670347468525370615586987782604264709023960583428867461012936277285691583986966637837444729357218794488688130582724542030754381577942955936657376592335279401083750603481493643367440679257608432553947343 \\, \\pi^{228}}{381066840 \\, a^{228} k_{m}^{228}}, \\frac{78544240094811884406420451511886551744295211914753829089478167312813670347468525370615586987782604264709023960583428867461012936277285691583986966637837444729357218794488688130582724542030754381577942955936657376592335279401083750603481493643367440679257608432553947343}{164376666928314017768512132663086330860319646907538571634641799524165657559040000000000000000000000000000000000000000000000000000000000000000000000000000000000000000000000000000000000000000000000000000000000000000000000000000000000000000000000000000000000000000000000000000000000000000000000000000000000000}\\right)$$"
      ],
      "text/plain": [
       "<IPython.core.display.Math object>"
      ]
     },
     "metadata": {},
     "output_type": "display_data"
    },
    {
     "data": {
      "text/latex": [
       "$$\\left(233, \\frac{831596421665541954031143274052523886123697045208625248226740133577388521924554717849624244037081798378906320024612433992319171906338861161984435066833992436711539384457040362215386905974866692212216709155518177495304054597983795396756217351711100690168232025106762987358794441185873523337805627789789999355032165750818796484497668870533019748088817720028354945616780261102130141045333895518617600000000000000000000000000000000000000000000000000000000 \\, \\pi^{230}}{a^{230} k_{m}^{230}}, \\frac{36989786520846284393577975669154742268988858452165610138903236039817457708021499944764031382076755068363618395692398245752592355300056983279808966327417067975884252889603778718680252785525061553718304804111425314000588033791974307897690299476662607247423533562843552546713}{109936276885898184031067707991071885108434198833116394628595187697567069936654831562051596309652235407946116640001420982670717638464812175828906318248581911856269111739750728665498737521602443983898060437686825055046835366298900018456634537638939826761001177936258818066306330881119941666375293185798904569195849552472759637045047179843091097121054972342539777553858709379179824073682533008373996480102400000000000000000000000000000000000000000000000000000000}, \\frac{36989786520846284393577975669154742268988858452165610138903236039817457708021499944764031382076755068363618395692398245752592355300056983279808966327417067975884252889603778718680252785525061553718304804111425314000588033791974307897690299476662607247423533562843552546713 \\, \\pi^{230}}{132199074 \\, a^{230} k_{m}^{230}}, \\frac{36989786520846284393577975669154742268988858452165610138903236039817457708021499944764031382076755068363618395692398245752592355300056983279808966327417067975884252889603778718680252785525061553718304804111425314000588033791974307897690299476662607247423533562843552546713}{22810111900714885115920189010227357407211690909850421820363390547220892326297600000000000000000000000000000000000000000000000000000000000000000000000000000000000000000000000000000000000000000000000000000000000000000000000000000000000000000000000000000000000000000000000000000000000000000000000000000000000000}\\right)$$"
      ],
      "text/plain": [
       "<IPython.core.display.Math object>"
      ]
     },
     "metadata": {},
     "output_type": "display_data"
    },
    {
     "data": {
      "text/latex": [
       "$$\\left(235, -\\frac{45340300102048678417685993587891707319236210298864665783818325562906376992370572326597213033389773811214730380381919126129225890677407388273715368713922935634386550319366754628707324887561681792794479416577162073398967664791272492621942482449992631829352346472870931596776190522336196239423838438354930344835063741066142421927781902159201302705298519731385968344918093395810339550073694651466068787200000000000000000000000000000000000000000000000000000000 \\, \\pi^{232}}{a^{232} k_{m}^{232}}, -\\frac{5448595484592145583023399525477901538949163192329553621593545836627695581610413065591270728498380693021573826664967460787885259602444856629972279124468338461448819064390306220603758812537600735927323912846871342033007745677469271273458353150906680891007894096119615646539}{639298231438886365689372509589273073201230565213991787551838390436979915592425069805020703770795810738127698363385059678422085058551444174659386698866313392444850359503071240264773280914619713278402159773737985234925444073556942145969389002544896108793868085267480135514544286364940366975876121980804517862174398749032608149181724820444738368144709128212542153663345116880925787656039094585671569899520000000000000000000000000000000000000000000000000000000000}, \\frac{5448595484592145583023399525477901538949163192329553621593545836627695581610413065591270728498380693021573826664967460787885259602444856629972279124468338461448819064390306220603758812537600735927323912846871342033007745677469271273458353150906680891007894096119615646539 \\, \\pi^{232}}{14100 \\, a^{232} k_{m}^{232}}, \\frac{5448595484592145583023399525477901538949163192329553621593545836627695581610413065591270728498380693021573826664967460787885259602444856629972279124468338461448819064390306220603758812537600735927323912846871342033007745677469271273458353150906680891007894096119615646539}{973146234897469494028300576581060588795606365076024504277915915555700736000000000000000000000000000000000000000000000000000000000000000000000000000000000000000000000000000000000000000000000000000000000000000000000000000000000000000000000000000000000000000000000000000000000000000000000000000000000000000000}\\right)$$"
      ],
      "text/plain": [
       "<IPython.core.display.Math object>"
      ]
     },
     "metadata": {},
     "output_type": "display_data"
    },
    {
     "data": {
      "text/latex": [
       "$$\\left(237, \\frac{2514573043659619705044865204384474087924840223175034364370564335718787667996871941233081434831796855569968946895981234735126867896969013753660254348874166010283078080712080211708108238264170872228381828443369408590706746689323972440812930076676591361255881135385421866357207526368765443438446079791164436924552635079528258720114784293749304248035855904302665804409157459731641431447087105370308174938112000000000000000000000000000000000000000000000000000000000 \\, \\pi^{234}}{a^{234} k_{m}^{234}}, \\frac{184494353653948035551457372910850041568306811129541835893830518062918230576180186037414922014265793234337488119319403964243967633241168888014540987792896065184881720067501466001751143498829405655480078404715111167753390471529683193752389753017951834852316870061689044150716479}{854597765472071033717137798631698594573960348567820829006251254008715739270080904203592590279064815740298506354174390474610747069728095076291466722499676311922786350354646156590694249639984584293793391451106640464820413516340266625789800789999152986853701250909818704656427835496635886076103407785665563204304609452858314952100770360505051043128969915924495394954887435949476193608744129456942195718116868096000000000000000000000000000000000000000000000000000000000}, \\frac{184494353653948035551457372910850041568306811129541835893830518062918230576180186037414922014265793234337488119319403964243967633241168888014540987792896065184881720067501466001751143498829405655480078404715111167753390471529683193752389753017951834852316870061689044150716479 \\, \\pi^{234}}{339858 \\, a^{234} k_{m}^{234}}, \\frac{184494353653948035551457372910850041568306811129541835893830518062918230576180186037414922014265793234337488119319403964243967633241168888014540987792896065184881720067501466001751143498829405655480078404715111167753390471529683193752389753017951834852316870061689044150716479}{9382454839710189710680005031366981264876515972255532935457700630607924559872000000000000000000000000000000000000000000000000000000000000000000000000000000000000000000000000000000000000000000000000000000000000000000000000000000000000000000000000000000000000000000000000000000000000000000000000000000000000000000}\\right)$$"
      ],
      "text/plain": [
       "<IPython.core.display.Math object>"
      ]
     },
     "metadata": {},
     "output_type": "display_data"
    },
    {
     "data": {
      "text/latex": [
       "$$\\left(239, -\\frac{141837007100664509082760666718510645403488537628410988356686051920553937201031558717193191413122333435279668418614717526469566110596434189788960306802596207976027302220645596421607553287528822218914105415176694860967404753758007989496494133905019812322999231322550105793744647732356583602588989576700421229166315934295870961366794522873223255414710488138096167363502935673622966582204395265517602915559145472000000000000000000000000000000000000000000000000000000000 \\, \\pi^{236}}{a^{236} k_{m}^{236}}, -\\frac{212191008579182060478563837945461872287372869333130175188325135660897759482730035448146388858205966593247205572842356279587190846758925659038643395344396334821348861518596112373605365460921821915409949436456394757252173113308288776951844012432992719925522001911419529928297005743854184672707}{38803007469271610525496391463040604911193753521277806300936725010948160540327665494986921179981282359964108015710669003727023567519526674799758735783486646989707423317635537455642323623100903087561285701937027906715669946276937555320476950200018421259812153875849856469320577996295539261780606600736197038789060970111146947577055251123000388570659466711218606422924636350080329803766480100570988862491139461337339649431961600000000000000000000000000000000000000000000000000000000000}, \\frac{212191008579182060478563837945461872287372869333130175188325135660897759482730035448146388858205966593247205572842356279587190846758925659038643395344396334821348861518596112373605365460921821915409949436456394757252173113308288776951844012432992719925522001911419529928297005743854184672707 \\, \\pi^{236}}{273574635156622800 \\, a^{236} k_{m}^{236}}, \\frac{212191008579182060478563837945461872287372869333130175188325135660897759482730035448146388858205966593247205572842356279587190846758925659038643395344396334821348861518596112373605365460921821915409949436456394757252173113308288776951844012432992719925522001911419529928297005743854184672707}{3021028382026852395705264056485094060010022551105437135942308719290335544729971804078080000000000000000000000000000000000000000000000000000000000000000000000000000000000000000000000000000000000000000000000000000000000000000000000000000000000000000000000000000000000000000000000000000000000000000000000000000000000000000000000}\\right)$$"
      ],
      "text/plain": [
       "<IPython.core.display.Math object>"
      ]
     },
     "metadata": {},
     "output_type": "display_data"
    },
    {
     "data": {
      "text/latex": [
       "$$\\left(241, \\frac{8135770727294116240987151842973770620344102518365654292139511938162973837851170208018201459456697045847641780491740197318294312103811465126294763198196918489504926055376231410743409256572653242476913086614535217225090336675559338277518903520791936434847235908661474068329192993927973635444504442119536161704979881991211158343999333832008085930587793599601196159970528390239013363155244112430089703236472584273920000000000000000000000000000000000000000000000000000000000 \\, \\pi^{238}}{a^{238} k_{m}^{238}}, \\frac{37479749820787100867942300519249213223467128120245577197040859178794090828679549876395802773135608335313037305482516779551719869819282019776528904841727311265802157569502864448065987997334768277630519676882895255112624091298911460648985465791555526384588877227965057318593436138833}{270579462848347717942750695993621663291404161555804930447975888039424183899254218778269344138610830350800870335594295482411832231948561707170311234445633115123954830749702704258504305055093301538297175434626212254472054417155752472433723693294498221950149371850263304564492300592056547167613328736011533665984220915263700704204729844584924921879488839535536581888299833202569106431817108691199923350238605207782031360000000000000000000000000000000000000000000000000000000000}, \\frac{37479749820787100867942300519249213223467128120245577197040859178794090828679549876395802773135608335313037305482516779551719869819282019776528904841727311265802157569502864448065987997334768277630519676882895255112624091298911460648985465791555526384588877227965057318593436138833 \\, \\pi^{238}}{33258 \\, a^{238} k_{m}^{238}}, \\frac{37479749820787100867942300519249213223467128120245577197040859178794090828679549876395802773135608335313037305482516779551719869819282019776528904841727311265802157569502864448065987997334768277630519676882895255112624091298911460648985465791555526384588877227965057318593436138833}{146904499200998765083203270699269959998476148605723338273020947606474871275520000000000000000000000000000000000000000000000000000000000000000000000000000000000000000000000000000000000000000000000000000000000000000000000000000000000000000000000000000000000000000000000000000000000000000000000000000000000000000000000}\\right)$$"
      ],
      "text/plain": [
       "<IPython.core.display.Math object>"
      ]
     },
     "metadata": {},
     "output_type": "display_data"
    },
    {
     "data": {
      "text/latex": [
       "$$\\left(243, -\\frac{474494420357247447406852669785916250119708747076121689626160615257540960171155948872037545518433485107926163921839271787997560870518492269095763179245240680144906297401652568337377114661830282407738525037532922939001718615591971727021457491139627316753160492664954490613095193791867278366394388073295588022957836677491417176938729147750375587643741298315940962441801156775519737365940147125147691672157554060023562240000000000000000000000000000000000000000000000000000000000 \\, \\pi^{240}}{a^{240} k_{m}^{240}}, -\\frac{24273407683259186017412062534011932630999941965625473928075603143739901900145905790125123670904222294509819763633440714067639100561360297489730469311648283604576693440277526233068506418428844978259078450518156409090705861648437775142923278787646309535769411954364752283109855453902541}{6918128648808667783191911925478658926745353532369854234749421770454947199295453734554307413658760212873563469980416582669004437492159617283416227153395609116512733816116094446358958331769485517504827695047230016450645057415330947779972850220815766278261079983055036473138927925485424918582030178108649673374725258757824862439766670974200476067845748129446419232401460865787077770795407345084653344580057138195143537459200000000000000000000000000000000000000000000000000000000000}, \\frac{24273407683259186017412062534011932630999941965625473928075603143739901900145905790125123670904222294509819763633440714067639100561360297489730469311648283604576693440277526233068506418428844978259078450518156409090705861648437775142923278787646309535769411954364752283109855453902541 \\, \\pi^{240}}{14580 \\, a^{240} k_{m}^{240}}, \\frac{24273407683259186017412062534011932630999941965625473928075603143739901900145905790125123670904222294509819763633440714067639100561360297489730469311648283604576693440277526233068506418428844978259078450518156409090705861648437775142923278787646309535769411954364752283109855453902541}{25760630204468843525324477560831751960764715216446524409413018414846396334080000000000000000000000000000000000000000000000000000000000000000000000000000000000000000000000000000000000000000000000000000000000000000000000000000000000000000000000000000000000000000000000000000000000000000000000000000000000000000000000000}\\right)$$"
      ],
      "text/plain": [
       "<IPython.core.display.Math object>"
      ]
     },
     "metadata": {},
     "output_type": "display_data"
    },
    {
     "data": {
      "text/latex": [
       "$$\\left(245, \\frac{28133723171821915651647108496946546302097771031637407221314315199850118610468178520520850148878958199019158111253694102853951379134782443619225990423808810407151784185538784081859763882529241104519632626525402066899289900155679187638556257564650782864928391931090481657431640230307394668900256057641842005057216052281821107255051128628415269342572709059748771545099274187534116267901323203344256934625565695326917052334080000000000000000000000000000000000000000000000000000000000 \\, \\pi^{242}}{a^{242} k_{m}^{242}}, \\frac{6406551346490295571468193779342887495495599746664953167150971016447284014388764796976765725303064682660783303039883238666868340453458702014618180879632807642394350702686293752021744789238286680882309635639241537964701877467178979750727497914734995329148266466062659576017679889427717073883}{72084506848073830501806737861961410400697929914971681156523751548207972404927671687063727459959155487108877104235327567273422763132930924865617024923787172113308372958029327962381905617455246850411247912009650429830029575077882771359385228694723882364348175089759343007487922914495909694602925073450504003777649541317004859219964552283011887262233220879978899940568811316041788042779449324840688560466970680223580140660903116800000000000000000000000000000000000000000000000000000000000}, \\frac{6406551346490295571468193779342887495495599746664953167150971016447284014388764796976765725303064682660783303039883238666868340453458702014618180879632807642394350702686293752021744789238286680882309635639241537964701877467178979750727497914734995329148266466062659576017679889427717073883 \\, \\pi^{242}}{2562210 \\, a^{242} k_{m}^{242}}, \\frac{6406551346490295571468193779342887495495599746664953167150971016447284014388764796976765725303064682660783303039883238666868340453458702014618180879632807642394350702686293752021744789238286680882309635639241537964701877467178979750727497914734995329148266466062659576017679889427717073883}{1810813287138329645240648275751405300175335006165471860275504250005585326505984000000000000000000000000000000000000000000000000000000000000000000000000000000000000000000000000000000000000000000000000000000000000000000000000000000000000000000000000000000000000000000000000000000000000000000000000000000000000000000000000000}\\right)$$"
      ],
      "text/plain": [
       "<IPython.core.display.Math object>"
      ]
     },
     "metadata": {},
     "output_type": "display_data"
    },
    {
     "data": {
      "text/latex": [
       "$$\\left(247, -\\frac{1695619495565706856324771229110968345627432660076786533228613777094966648652917119431791638472934810654884659365260143579007649620453337876930750442842957003239038032862422516613687969200037361369398258400685982572020202282382784638975785643421502683269234181686823329493404956680626676694618432594073817644798411471025358134261931522434588283276857175031058461023133255282681187466412749465558365449882844457353290744175001600000000000000000000000000000000000000000000000000000000000 \\, \\pi^{244}}{a^{244} k_{m}^{244}}, -\\frac{3057929857345469327238594369616086533144713263600411665296834139621190864109130117035765840859732587108793200293533094129217462400257972916087220082057289757816185350562237602683896431244172887560158162597355068563598554742620508478696109625680119941727046461268679618615053422870649302483}{1358328698609933816796384303536462209848570379585836563375570604137697607191147659998873085522642913184075170367197585288696938777033430666816957922320682312865002359298437929525127335326732632188890929162063041173910237720265560451330872607324684852218921652572903878004987105838210126952121360596982377161941213945978151759446585143917870181522325585619474940127720802339964064770391186328625674376608851613944636152901271552000000000000000000000000000000000000000000000000000000000000}, \\frac{113143404721782365107827991675795201726354390753215231615982863165984061972037814330323336111810105723025348410860724482781046108809544997895227143036119721039198857970802791299304167956034396839725852016102137536853146525476958813711756056150164437843900719066941145888756976646214024191871 \\, \\pi^{244}}{29640 \\, a^{244} k_{m}^{244}}, \\frac{113143404721782365107827991675795201726354390753215231615982863165984061972037814330323336111810105723025348410860724482781046108809544997895227143036119721039198857970802791299304167956034396839725852016102137536853146525476958813711756056150164437843900719066941145888756976646214024191871}{8379095520005009844615830067523216769460259632542935346995905249010120025702400000000000000000000000000000000000000000000000000000000000000000000000000000000000000000000000000000000000000000000000000000000000000000000000000000000000000000000000000000000000000000000000000000000000000000000000000000000000000000000000000000}\\right)$$"
      ],
      "text/plain": [
       "<IPython.core.display.Math object>"
      ]
     },
     "metadata": {},
     "output_type": "display_data"
    }
   ],
   "source": [
    "k_max = 125\n",
    "vg = []\n",
    "vg180 = []\n",
    "sum_dE_f = 0\n",
    "for kk in range(1, int(k_max)):\n",
    "    j = 2*kk-1\n",
    "    pw = 2*(kk-2)\n",
    "    djF0 = F(n).diff(n, j).expand().subs(n == 0)#*(bernoulli(2*kk)/factorial(2*kk))\n",
    "    mBj = (bernoulli(2*kk)/factorial(2*kk))\n",
    "    dE = djF0*mBj\n",
    "    dE_f = dE.subs(a == a_f, k_m == k_mf)\n",
    "    sum_dE_f += dE_f\n",
    "    p = dE * (a*k_m/pi)^(pw)\n",
    "    p_180 = p*180\n",
    "\n",
    "    if pw:\n",
    "        g = (p.n())^(1/pw)\n",
    "        g_180 = (p_180.n())^(1/pw)\n",
    "    else:\n",
    "        g = 0.0\n",
    "        g_180 = 0.0\n",
    "    \n",
    "    alpha = 0\n",
    "    alpha_180 = 0\n",
    "    beta_180 = 0\n",
    "        \n",
    "    if j > 3:\n",
    "        vg += [(j, g)]\n",
    "        vg180 += [(j, g_180)]\n",
    "        \n",
    "        if 5 == j:\n",
    "            g5 = g\n",
    "            g5_180 = g_180\n",
    "        else:\n",
    "            alpha = (g - g5) / (j - 5)\n",
    "            alpha_180 = (g_180 - g5_180) / (j - 5)\n",
    "        beta_180 = g_180 / j\n",
    "    \n",
    "    dE2 = ((0.534522483824849 + 0.0636980344090494 * (j - 5)) / (a*k_m/pi))^pw / 180\n",
    "    #dE2 = ((0.0398409536444798 + 0.0684396140404761 * (j - 5)) / (a*k_m/pi))^pw * 180\n",
    "        \n",
    "    if j >= 3:\n",
    "        display(Math(latex( (j, djF0, mBj, dE, dE_f, #dE2, p.n(),#, p_180.n(), \n",
    "                             #g, g_180,#2*kk, pw,\n",
    "                             #alpha, \n",
    "                             #alpha_180, #beta_180\n",
    "                             #djF0, \n",
    "                             #(bernoulli(2*kk)/factorial(2*kk)), \n",
    "                             #djF0*(bernoulli(2*kk)/factorial(2*kk)), \n",
    "                             #(djF0*(bernoulli(2*kk)/factorial(2*kk)) * (a*k_m/pi)^(pw)),\n",
    "                            #(djF0*(bernoulli(2*kk)/factorial(2*kk)) * (a*k_m/pi)^(pw)).n(),\n",
    "                             #((djF0*(bernoulli(2*kk)/factorial(2*kk)) * (a*k_m/pi)^(pw)).n())^(1/pw)\n",
    "                            ) )))"
   ]
  },
  {
   "cell_type": "code",
   "execution_count": 27,
   "metadata": {},
   "outputs": [
    {
     "data": {
      "text/plain": [
       "0.00555953127645579"
      ]
     },
     "execution_count": 27,
     "metadata": {},
     "output_type": "execute_result"
    }
   ],
   "source": [
    "(sum_dE_f).n()"
   ]
  },
  {
   "cell_type": "code",
   "execution_count": 28,
   "metadata": {},
   "outputs": [
    {
     "data": {
      "text/plain": [
       "3.97572090023170e-6"
      ]
     },
     "execution_count": 28,
     "metadata": {},
     "output_type": "execute_result"
    }
   ],
   "source": [
    "(sum_dE_f-1/180).n()"
   ]
  },
  {
   "cell_type": "code",
   "execution_count": 29,
   "metadata": {},
   "outputs": [
    {
     "data": {
      "text/plain": [
       "0.534522483824849"
      ]
     },
     "execution_count": 29,
     "metadata": {},
     "output_type": "execute_result"
    }
   ],
   "source": [
    "g5_180"
   ]
  },
  {
   "cell_type": "code",
   "execution_count": 30,
   "metadata": {},
   "outputs": [
    {
     "data": {
      "text/plain": [
       "0.0398409536444798"
      ]
     },
     "execution_count": 30,
     "metadata": {},
     "output_type": "execute_result"
    }
   ],
   "source": [
    "g5"
   ]
  },
  {
   "cell_type": "code",
   "execution_count": 31,
   "metadata": {},
   "outputs": [
    {
     "data": {
      "image/png": "[encoded data removed]",
      "text/plain": [
       "Graphics object consisting of 1 graphics primitive"
      ]
     },
     "metadata": {},
     "output_type": "display_data"
    }
   ],
   "source": [
    "plt = sage.plot.graphics.Graphics()\n",
    "plt += list_plot (vg)\n",
    "plt.show ()"
   ]
  },
  {
   "cell_type": "code",
   "execution_count": 32,
   "metadata": {},
   "outputs": [
    {
     "data": {
      "image/png": "[encoded data removed]",
      "text/plain": [
       "Graphics object consisting of 1 graphics primitive"
      ]
     },
     "metadata": {},
     "output_type": "display_data"
    }
   ],
   "source": [
    "plt = sage.plot.graphics.Graphics()\n",
    "plt += list_plot (vg180)\n",
    "plt.show ()"
   ]
  },
  {
   "cell_type": "markdown",
   "metadata": {},
   "source": [
    "$\\delta\\,E/L^2 = \\hbar\\,c\\frac{\\pi^2}{4\\,a^3}\\left\\{\\frac{-4}{12\\times30}\\frac{1}{1-a^2\\,k_m^2/\\pi^2}\\right\\}$"
   ]
  },
  {
   "cell_type": "markdown",
   "metadata": {},
   "source": [
    "$\\delta\\,E/L^2 = \\hbar\\,c\\frac{\\pi^2}{4\\,a^3}\\left\\{\\frac{-4}{12\\times30}\\frac{1}{1-a^2\\,k^2/\\pi^2}\\right\\}$"
   ]
  },
  {
   "cell_type": "code",
   "execution_count": null,
   "metadata": {},
   "outputs": [],
   "source": []
  }
 ],
 "metadata": {
  "kernelspec": {
   "display_name": "SageMath 9.1",
   "language": "sage",
   "name": "sagemath"
  },
  "language_info": {
   "codemirror_mode": {
    "name": "ipython",
    "version": 3
   },
   "file_extension": ".py",
   "mimetype": "text/x-python",
   "name": "python",
   "nbconvert_exporter": "python",
   "pygments_lexer": "ipython3",
   "version": "3.7.9"
  }
 },
 "nbformat": 4,
 "nbformat_minor": 2
}
