{
 "cells": [
  {
   "cell_type": "markdown",
   "metadata": {},
   "source": [
    "К вопросу об интерпретации результатов эксперимента Майкельсона Морли\n",
    "\n",
    "А.Ю.Дроздов"
   ]
  },
  {
   "cell_type": "markdown",
   "metadata": {},
   "source": [
    "Попытка интерпретации результатов эксперимента Майкельсона Морли, если нарисовать ход лучей в интерферометре Майкельсона в соответствии с идеями Довженко.\n",
    "\n",
    "Идея Довженко в том, что физически луч представляет собой не тонкую линию, а имеет некоторую ширину, в связи с этим, если в теории эфира вертикально направленный (по рисунку) луч сносится эфирным ветром то обратно к полупрозрачному зеркалу он приходит не в ту же самую точку а с некоторым смещением, и далее его интерференция происходит уже с соседней \"линией\" исходного широкого луча "
   ]
  },
  {
   "cell_type": "code",
   "execution_count": 1,
   "metadata": {},
   "outputs": [
    {
     "data": {
      "image/png": "[encoded data removed]",
      "text/plain": [
       "Graphics object consisting of 26 graphics primitives"
      ]
     },
     "metadata": {},
     "output_type": "display_data"
    }
   ],
   "source": [
    "L = 8\n",
    "v_c = 1/L\n",
    "\n",
    "# mirrors\n",
    "p = line([[-3,-3],[3,3]], color = \"red\", thickness=3)\n",
    "\n",
    "p += line ([[-2,L],[2,L]], color = \"red\")\n",
    "p += line ([[L,-3],[L,1]], color = \"red\")\n",
    "\n",
    "# incoming light beam\n",
    "p += line ([[-L,1],[-1,1]], color = \"indigo\")\n",
    "p += line ([[-1,1],[1,1]], color = \"green\")\n",
    "p += line ([[.75,1.1],[1,1]], color = \"green\")\n",
    "p += line ([[.75,0.85],[1,0.95]], color = \"green\")\n",
    "\n",
    "p += line ([[-L,-1],[-1,-1]], color = \"indigo\")\n",
    "p += line ([[6.75-L,-0.9],[-1,-1]], color = \"indigo\")\n",
    "p += line ([[6.75-L,-1.15],[-1,-1.05]], color = \"indigo\")\n",
    "\n",
    "# up directed refracted beam\n",
    "p += line ([[1,1],[v_c,8]], color = \"green\")\n",
    "\n",
    "# down directed beam\n",
    "p += line ([[v_c,8],[-1,-1]], color = \"green\")\n",
    "\n",
    "# right - left directed beam\n",
    "p += line ([[-1,-1],[L,-1]], color = \"aquamarine\")\n",
    "\n",
    "# down directed output beam\n",
    "p += line ([[-1,-1],[-1,-L]], color = \"brown\")\n",
    "\n",
    "p += text(\"ether's v\", [6, 6], color = \"aquamarine\")\n",
    "p += line ([[6,5],[7,5]], color = \"aquamarine\")\n",
    "p += line ([[6,5],[6.5,5.2]], color = \"aquamarine\")\n",
    "p += line ([[6,4.95],[6.5,4.75]], color = \"aquamarine\")\n",
    "\n",
    "p += text(\"$l_2$\", [.5, 1.5])\n",
    "p += text(\"$l_1$\", [-.5, 1.5])\n",
    "p += text(\"$l_4$\", [3.5, -1.5])\n",
    "\n",
    "p += line ([[v_c,1.1],[v_c,0.9]])\n",
    "# p += line ([[7,1.1],[7,0.9]])\n",
    "\n",
    "# up directed refracted beam's catet\n",
    "p += line ([[1,1],[1,L]], linestyle=\"dashed\", color = \"gray\")\n",
    "p += text(\"$l_3$\", [1.5, 5])\n",
    "\n",
    "# down directed beam's catet\n",
    "p += line ([[-1,L],[-1,-1]], linestyle=\"dashed\", color = \"gray\")\n",
    "p += text(\"$l_4$\", [-1.5, 5])\n",
    "\n",
    "p.show(aspect_ratio = 1, axes=True)"
   ]
  },
  {
   "cell_type": "code",
   "execution_count": 2,
   "metadata": {},
   "outputs": [],
   "source": [
    "from IPython.display import display, Math, Latex\n",
    "\n",
    "l_1 = var(\"l_1\")\n",
    "l_2 = var(\"l_2\")\n",
    "l_3 = var(\"l_3\")\n",
    "l_4 = var(\"l_4\")\n",
    "\n",
    "c = var(\"c\")\n",
    "v = var(\"v\")"
   ]
  },
  {
   "cell_type": "markdown",
   "metadata": {},
   "source": [
    "Рассчитаем время хода луча параллельно скорости эфира.\n",
    "Это время в официальных учебниках рассчитано правильно - с учётом закона сложения скоростей"
   ]
  },
  {
   "cell_type": "code",
   "execution_count": 3,
   "metadata": {},
   "outputs": [],
   "source": [
    "# color = \"aquamarine\"\n",
    "t_parallel = l_4 / (c - v) + l_4 / (c + v)"
   ]
  },
  {
   "cell_type": "code",
   "execution_count": 4,
   "metadata": {},
   "outputs": [
    {
     "data": {
      "text/latex": [
       "$$\\frac{l_{4}}{c + v} + \\frac{l_{4}}{c - v}$$"
      ],
      "text/plain": [
       "<IPython.core.display.Math object>"
      ]
     },
     "metadata": {},
     "output_type": "display_data"
    }
   ],
   "source": [
    "display(Math(latex(t_parallel)))"
   ]
  },
  {
   "cell_type": "code",
   "execution_count": 5,
   "metadata": {},
   "outputs": [
    {
     "data": {
      "text/latex": [
       "$$\\frac{2 \\, c l_{4}}{{\\left(c + v\\right)} {\\left(c - v\\right)}}$$"
      ],
      "text/plain": [
       "<IPython.core.display.Math object>"
      ]
     },
     "metadata": {},
     "output_type": "display_data"
    }
   ],
   "source": [
    "display(Math(latex(t_parallel.factor())))"
   ]
  },
  {
   "cell_type": "markdown",
   "metadata": {},
   "source": [
    "Рассчитаем время хода луча перпендикулярно скорости эфира.\n",
    "Здесь официальные учебники (например, Макс Борн. Эйнштейновская теория относительности) допускают две ошибки: \n",
    "\n",
    "1) во первых, официально здесь закон сложения скоростей не применяется, а было бы правильно его применять также и здесь (в векторном виде), поскольку он применяется при вычислении времени прохождения луча вдоль скорости эфира и с точки зрения эфирной теории это было бы последовательно\n",
    "\n",
    "2) в официальных учебниках не учитывается дополнительное расстояние пройденное поперечным лучом возникающее в связи со сносом луча\n",
    "\n",
    "Учитывая все это находим:"
   ]
  },
  {
   "cell_type": "code",
   "execution_count": 6,
   "metadata": {},
   "outputs": [],
   "source": [
    "# color = \"green\"\n",
    "t_perpendicular = l_3 / c + l_4 / c \\\n",
    "                + (l_1 + l_2) / (c - v) # additional path added"
   ]
  },
  {
   "cell_type": "code",
   "execution_count": 7,
   "metadata": {},
   "outputs": [
    {
     "data": {
      "text/latex": [
       "$$\\frac{l_{1} + l_{2}}{c - v} + \\frac{l_{3}}{c} + \\frac{l_{4}}{c}$$"
      ],
      "text/plain": [
       "<IPython.core.display.Math object>"
      ]
     },
     "metadata": {},
     "output_type": "display_data"
    }
   ],
   "source": [
    "display(Math(latex(t_perpendicular)))"
   ]
  },
  {
   "cell_type": "markdown",
   "metadata": {},
   "source": [
    "Исходя из векторного закона сложения скоростей и простых геометрических соотношений находим"
   ]
  },
  {
   "cell_type": "code",
   "execution_count": 8,
   "metadata": {},
   "outputs": [
    {
     "data": {
      "text/latex": [
       "$$l_{1} = \\frac{l_{4} v}{c}$$"
      ],
      "text/plain": [
       "<IPython.core.display.Math object>"
      ]
     },
     "metadata": {},
     "output_type": "display_data"
    }
   ],
   "source": [
    "eq_l1 = l_1 == v/c*l_4\n",
    "display(Math(latex(eq_l1)))"
   ]
  },
  {
   "cell_type": "code",
   "execution_count": 9,
   "metadata": {},
   "outputs": [
    {
     "data": {
      "text/latex": [
       "$$l_{2} = \\frac{l_{3} v}{c}$$"
      ],
      "text/plain": [
       "<IPython.core.display.Math object>"
      ]
     },
     "metadata": {},
     "output_type": "display_data"
    }
   ],
   "source": [
    "eq_l2 = l_2 == v/c*l_3\n",
    "display(Math(latex(eq_l2)))"
   ]
  },
  {
   "cell_type": "code",
   "execution_count": 10,
   "metadata": {},
   "outputs": [
    {
     "data": {
      "text/latex": [
       "$$l_{1} + l_{2} + l_{3} = l_{4}$$"
      ],
      "text/plain": [
       "<IPython.core.display.Math object>"
      ]
     },
     "metadata": {},
     "output_type": "display_data"
    }
   ],
   "source": [
    "eq_l3 = l_1 + l_2 + l_3 == l_4\n",
    "display(Math(latex(eq_l3)))"
   ]
  },
  {
   "cell_type": "markdown",
   "metadata": {},
   "source": [
    "Теперь решаем полученную систему уравнений"
   ]
  },
  {
   "cell_type": "code",
   "execution_count": 11,
   "metadata": {},
   "outputs": [
    {
     "data": {
      "text/latex": [
       "$$l_{3} + \\frac{l_{3} v}{c} + \\frac{l_{4} v}{c} = l_{4}$$"
      ],
      "text/plain": [
       "<IPython.core.display.Math object>"
      ]
     },
     "metadata": {},
     "output_type": "display_data"
    }
   ],
   "source": [
    "eq_l4 = eq_l3.subs(eq_l1).subs(eq_l2)\n",
    "display(Math(latex(eq_l4)))"
   ]
  },
  {
   "cell_type": "code",
   "execution_count": 12,
   "metadata": {},
   "outputs": [
    {
     "data": {
      "text/latex": [
       "$$\\left[l_{3} = \\frac{c l_{4} - l_{4} v}{c + v}\\right]$$"
      ],
      "text/plain": [
       "<IPython.core.display.Math object>"
      ]
     },
     "metadata": {},
     "output_type": "display_data"
    }
   ],
   "source": [
    "l3 = solve(eq_l4, l_3)\n",
    "display(Math(latex(l3)))"
   ]
  },
  {
   "cell_type": "markdown",
   "metadata": {},
   "source": [
    "И таким образом находим время прохождения перпендикулярного луча"
   ]
  },
  {
   "cell_type": "code",
   "execution_count": 13,
   "metadata": {},
   "outputs": [],
   "source": [
    "t_perpendicular = t_perpendicular.subs(eq_l1).subs(eq_l2).subs(l3)"
   ]
  },
  {
   "cell_type": "code",
   "execution_count": 14,
   "metadata": {},
   "outputs": [
    {
     "data": {
      "text/latex": [
       "$$\\frac{l_{4}}{c} + \\frac{\\frac{l_{4} v}{c} + \\frac{{\\left(c l_{4} - l_{4} v\\right)} v}{{\\left(c + v\\right)} c}}{c - v} + \\frac{c l_{4} - l_{4} v}{{\\left(c + v\\right)} c}$$"
      ],
      "text/plain": [
       "<IPython.core.display.Math object>"
      ]
     },
     "metadata": {},
     "output_type": "display_data"
    }
   ],
   "source": [
    "display(Math(latex(t_perpendicular)))"
   ]
  },
  {
   "cell_type": "code",
   "execution_count": 15,
   "metadata": {},
   "outputs": [
    {
     "data": {
      "text/latex": [
       "$$\\frac{2 \\, c l_{4}}{c^{2} - v^{2}}$$"
      ],
      "text/plain": [
       "<IPython.core.display.Math object>"
      ]
     },
     "metadata": {},
     "output_type": "display_data"
    }
   ],
   "source": [
    "display(Math(latex(t_perpendicular.full_simplify())))"
   ]
  },
  {
   "cell_type": "markdown",
   "metadata": {},
   "source": [
    "которое в точности соответствует времени прохождения параллельного луча"
   ]
  },
  {
   "cell_type": "code",
   "execution_count": 16,
   "metadata": {},
   "outputs": [
    {
     "data": {
      "text/latex": [
       "$$\\frac{2 \\, c l_{4}}{c^{2} - v^{2}}$$"
      ],
      "text/plain": [
       "<IPython.core.display.Math object>"
      ]
     },
     "metadata": {},
     "output_type": "display_data"
    }
   ],
   "source": [
    "display(Math(latex(t_parallel.full_simplify())))"
   ]
  },
  {
   "cell_type": "code",
   "execution_count": 17,
   "metadata": {},
   "outputs": [
    {
     "data": {
      "text/latex": [
       "$$0$$"
      ],
      "text/plain": [
       "<IPython.core.display.Math object>"
      ]
     },
     "metadata": {},
     "output_type": "display_data"
    }
   ],
   "source": [
    "display(Math(latex((t_parallel-t_perpendicular).full_simplify())))"
   ]
  },
  {
   "cell_type": "markdown",
   "metadata": {},
   "source": [
    "Это решение отличается от официально принятого $t_1-t_2 = \\frac{l}{c} \\frac{v^2}{c^2}$"
   ]
  },
  {
   "cell_type": "code",
   "execution_count": null,
   "metadata": {},
   "outputs": [],
   "source": []
  }
 ],
 "metadata": {
  "kernelspec": {
   "display_name": "SageMath 9.1",
   "language": "sage",
   "name": "sagemath"
  },
  "language_info": {
   "codemirror_mode": {
    "name": "ipython",
    "version": 3
   },
   "file_extension": ".py",
   "mimetype": "text/x-python",
   "name": "python",
   "nbconvert_exporter": "python",
   "pygments_lexer": "ipython3",
   "version": "3.7.9"
  }
 },
 "nbformat": 4,
 "nbformat_minor": 2
}
