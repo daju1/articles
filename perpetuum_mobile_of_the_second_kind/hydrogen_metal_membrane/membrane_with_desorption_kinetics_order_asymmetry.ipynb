{
 "cells": [
  {
   "cell_type": "markdown",
   "id": "f2c389d0",
   "metadata": {},
   "source": [
    "# Мембрана с асимметрией порядка кинетики десорбции"
   ]
  },
  {
   "cell_type": "markdown",
   "id": "da578123",
   "metadata": {},
   "source": [
    "Я не рассматривал (пока что) теоретически такую несимметричную мембрану для которой одна поверхность характеризовалась бы (преимущественной) кинетикой десорбции первого порядка, а вторая поверхность характеризовалась бы преимущественной кинетикой второго порядка.\n",
    " \n",
    "Есть предположение, что мембрана с несимметрией также и порядка кинетики десорбции может оказаться перспективным объектом в плане установления самоподдерживающегося (за счет внутренней тепловой энергии) потока водорода"
   ]
  },
  {
   "cell_type": "markdown",
   "id": "7eaf9379",
   "metadata": {},
   "source": [
    " Кинетика растворения и выделения водорода металлами\n",
    "\n",
    "Растворение и выделение водорода металлами следует рассматривать как многоступенчатые процессы. \n",
    "\n",
    "В этом случае процесс тепловой эволюции имеет порядок $n$ по приповерхностной концентрации $c$ растворенного водорода, и вероятность термического растворения молекулы газообразного водорода при одном ударе о поверхность металла равна вероятности диссоциативного связывания молекулы, $\\alpha$. Соответственно, скорости термического растворения, $j_a$, и эволюции, $j_r$, даются (при условии, что покрытие поверхности водородом далеко от насыщения) следующими выражениями\n",
    "\n",
    "\\begin{equation}\n",
    "\\begin{array}{lr}\n",
    "\\begin{array}{ll}\n",
    "j_{a0} = \\alpha_0 Z p, & j_{r0} = k_{r_0} c_0^{n_0} , \\\\\\\\\n",
    "j_{aL} = \\alpha_L Z p, & j_{rL} = k_{r_L} c_L^{n_L} , \\\\\\\\\n",
    "\\end{array} & (1) \\\\\\\\\n",
    "\\end{array}\n",
    "\\end{equation}"
   ]
  },
  {
   "cell_type": "markdown",
   "id": "ecee11ff",
   "metadata": {},
   "source": [
    "где $p$ - давление водорода, $Z$ - коэффициент кинетической теории\n",
    "коэффициент ($Z = (2 \\pi m k T)^{-1/2}$, где $m$ - масса\n",
    "масса молекулы газа, а $k$ - постоянная Больцмана; $Z \\approx 1.2 \\times 10^{19} H_2 \\big /(см^2 \\, с \\, Па)$ при 20 $^{\\circ}C$), $k_{rO}$ и $k_{rL}$ - константы скорости эволюции, с индексами $0$ и $L$, относящимися к поверхностям входа (вверх по течению) и выхода (вниз по течению), соответственно. Вероятности $\\alpha$ могут быть представлены в виде\n",
    "\n",
    "\\begin{equation}\n",
    "\\begin{array}{l}\n",
    "\\begin{array}{lr}\n",
    "\\alpha_0 = \\alpha_{0}^{*}  \\sigma_0 \\, exp\\left[ -2 \\left(E_{a1}\\right)_0 \\right / RT], \\\\\\\\\n",
    "\\alpha_L = \\alpha_{L}^{*} \\sigma_L \\, exp\\left[ -2 \\left(E_{a1}\\right)_L\\right / RT], \\\\\\\\\n",
    "\\end{array} & (2)\\\\\\\\\n",
    "\\end{array}\n",
    "\\end{equation}"
   ]
  },
  {
   "cell_type": "markdown",
   "id": "680b04f8",
   "metadata": {},
   "source": [
    "барьеры $E_{a1}$ показаны на рис. 1. Величины $\\alpha_{0}^{*}$ и $\\alpha_{L}^{*}$ являются предэкспоненциалами порядка $0.1-1$, а $\\sigma_0$ и $\\sigma_L$ - доли поверхности, занятые центрами, активными в рассматриваемой кинетике растворения-эволюции # (для однородной поверхности $\\sigma = 1$).\n",
    "\n",
    "Оставшаяся часть поверхности $1 - \\sigma$ имеет больший барьер $E_{a1}$."
   ]
  },
  {
   "cell_type": "markdown",
   "id": "7aa72011",
   "metadata": {},
   "source": [
    "барьеры $E_{a1}$ показаны на рис. 1. Величины $\\alpha_{0}^{*}$ и $\\alpha_{L}^{*}$ являются предэкспоненциалами порядка $0.1-1$, а $\\sigma_0$ и $\\sigma_L$ - доли поверхности, занятые центрами, активными в рассматриваемой кинетике растворения-эволюции # (для однородной поверхности $\\sigma = 1$).\n",
    "\n",
    "Оставшаяся часть поверхности $1 - \\sigma$ имеет больший барьер $E_{a1}$."
   ]
  },
  {
   "cell_type": "markdown",
   "id": "ca0ba75f",
   "metadata": {},
   "source": [
    "Согласно закону Фика\n",
    "\n",
    "\\begin{equation}\n",
    "j = - D \\frac{dc_{ab}}{dx}\n",
    "\\end{equation}\n",
    "\n",
    "где $D$ - коэффициент диффузии газа в материале мембраны, а $c_{ab}(X)$ - стационарное распределение плотности газа в мембране"
   ]
  },
  {
   "cell_type": "markdown",
   "id": "664c39f8",
   "metadata": {},
   "source": [
    "\\begin{equation}\n",
    "\\begin{array}{l}\n",
    "\\begin{array}{llr}\n",
    "x = 0 & -D\\frac{d c_{ab}}{dx} = j_{a0} - j_{r0}, \\\\\n",
    "x = l & -D\\frac{d c_{ab}}{dx} = j_{rL} - j_{aL}, \\\\\n",
    "\\end{array} & (5)\\\\\n",
    "\\end{array}\n",
    "\\end{equation}"
   ]
  },
  {
   "cell_type": "markdown",
   "id": "766430a9",
   "metadata": {},
   "source": [
    "\\begin{equation}\n",
    "\\begin{array}{l}\n",
    "\\begin{array}{llr}\n",
    "x = 0 & -D\\frac{d c_{ab}}{dx} = \\alpha_0 Z p_0 - k_{r_0} c_0^{n_0}, \\\\\n",
    "x = l & -D\\frac{d c_{ab}}{dx} = k_{r_L} c_L^{n_L} - \\alpha_L Z p_L, \\\\\n",
    "\\end{array} & (5)\\\\\n",
    "\\end{array}\n",
    "\\end{equation}"
   ]
  },
  {
   "cell_type": "markdown",
   "id": "89c2964b",
   "metadata": {},
   "source": [
    "В уравнении (5) индексы «0» и «1» относятся, соответственно, к\n",
    "правой и левой сторонам мембраны (рис. 1). Из уравнений\n",
    "(3) и (5) и с учетом уравнения (4) получаем"
   ]
  },
  {
   "cell_type": "markdown",
   "id": "ef6e3d72",
   "metadata": {},
   "source": [
    "\\begin{equation}\n",
    "\\begin{array}{l}\n",
    "\\begin{array}{llr}\n",
    "j = j_0 = j_l = \\alpha_0 Z p_0 - k_{r_0} c_0^{n_0} = k_{r_L} c_L^{n_L} - \\alpha_L Z p_L, \\\\\n",
    "\\end{array} & (5)\\\\\n",
    "\\end{array}\n",
    "\\end{equation}"
   ]
  },
  {
   "cell_type": "code",
   "execution_count": 21,
   "id": "6d43fad1",
   "metadata": {},
   "outputs": [],
   "source": [
    "var(\"x,l,v, D, Z, alpha_0, p_0, k_0, c_0, n_0, alpha_l, p_l, k_l, c_l, n_l\")\n",
    "c = function(\"c\")(x)\n",
    "assume(n_0 > 0)\n",
    "assume(n_l > 0)\n",
    "from IPython.display import display, Math, Latex\n",
    "def disp(ex):\n",
    "    display(Math(latex(ex)))"
   ]
  },
  {
   "cell_type": "code",
   "execution_count": 22,
   "id": "2430bf4b",
   "metadata": {},
   "outputs": [
    {
     "data": {
      "text/latex": [
       "$\\displaystyle Z \\alpha_{0} p_{0} - k_{0} c\\left(0\\right)^{n_{0}} = -Z \\alpha_{l} p_{l} + k_{l} c\\left(l\\right)^{n_{l}}$"
      ],
      "text/plain": [
       "<IPython.core.display.Math object>"
      ]
     },
     "metadata": {},
     "output_type": "display_data"
    }
   ],
   "source": [
    "eq_j = alpha_0 * Z * p_0 - k_0*c(x=0)^n_0 == k_l*c(x=l)^n_l - alpha_l * Z * p_l\n",
    "disp(eq_j)"
   ]
  },
  {
   "cell_type": "code",
   "execution_count": 23,
   "id": "2e89f609",
   "metadata": {},
   "outputs": [
    {
     "data": {
      "text/latex": [
       "$\\displaystyle \\left[c\\left(0\\right)^{n_{0}} = \\frac{Z \\alpha_{0} p_{0} + Z \\alpha_{l} p_{l} - k_{l} c\\left(l\\right)^{n_{l}}}{k_{0}}\\right]$"
      ],
      "text/plain": [
       "<IPython.core.display.Math object>"
      ]
     },
     "metadata": {},
     "output_type": "display_data"
    }
   ],
   "source": [
    "c0n0_sol_j = solve(eq_j, c(x=0)^n_0)\n",
    "disp(c0n0_sol_j)"
   ]
  },
  {
   "cell_type": "code",
   "execution_count": 24,
   "id": "59515312",
   "metadata": {},
   "outputs": [
    {
     "data": {
      "text/latex": [
       "$\\displaystyle \\left[c\\left(l\\right)^{n_{l}} = \\frac{Z \\alpha_{0} p_{0} + Z \\alpha_{l} p_{l} - k_{0} c\\left(0\\right)^{n_{0}}}{k_{l}}\\right]$"
      ],
      "text/plain": [
       "<IPython.core.display.Math object>"
      ]
     },
     "metadata": {},
     "output_type": "display_data"
    }
   ],
   "source": [
    "clnl_sol_j = solve(eq_j, c(x=l)^n_l)\n",
    "disp(clnl_sol_j)"
   ]
  },
  {
   "cell_type": "code",
   "execution_count": 36,
   "id": "6ba3fc02",
   "metadata": {},
   "outputs": [
    {
     "data": {
      "text/latex": [
       "$\\displaystyle c\\left(0\\right) = \\left(\\frac{Z \\alpha_{0} p_{0} + Z \\alpha_{l} p_{l} - k_{l} c\\left(l\\right)^{n_{l}}}{k_{0}}\\right)^{\\left(\\frac{1}{n_{0}}\\right)}$"
      ],
      "text/plain": [
       "<IPython.core.display.Math object>"
      ]
     },
     "metadata": {},
     "output_type": "display_data"
    }
   ],
   "source": [
    "c0_sol_j = c(x=0) == c0n0_sol_j[0].rhs()^(1/n_0)\n",
    "disp(c0_sol_j)"
   ]
  },
  {
   "cell_type": "code",
   "execution_count": 38,
   "id": "696cc1fc",
   "metadata": {},
   "outputs": [
    {
     "data": {
      "text/latex": [
       "$\\displaystyle c\\left(l\\right) = \\left(\\frac{Z \\alpha_{0} p_{0} + Z \\alpha_{l} p_{l} - k_{0} c\\left(0\\right)^{n_{0}}}{k_{l}}\\right)^{\\left(\\frac{1}{n_{l}}\\right)}$"
      ],
      "text/plain": [
       "<IPython.core.display.Math object>"
      ]
     },
     "metadata": {},
     "output_type": "display_data"
    }
   ],
   "source": [
    "cl_sol_j = c(x=l) == clnl_sol_j[0].rhs()^(1/n_l)\n",
    "disp(cl_sol_j)"
   ]
  },
  {
   "cell_type": "markdown",
   "id": "b0983d7f",
   "metadata": {},
   "source": [
    "\\begin{equation}\n",
    "\\begin{array}{l}\n",
    "\\begin{array}{llr}\n",
    "x = 0 & -D\\frac{d c_{ab}}{dx} = \\alpha_0 Z p_0 - k_{r_0} c_0^{n_0}, \\\\\n",
    "x = l & -D\\frac{d c_{ab}}{dx} = k_{r_L} c_L^{n_L} - \\alpha_L Z p_L, \\\\\n",
    "\\end{array} & (5)\\\\\n",
    "\\end{array}\n",
    "\\end{equation}"
   ]
  },
  {
   "cell_type": "markdown",
   "id": "b350739a",
   "metadata": {},
   "source": [
    "интегрируем дифференциальные уравнения диффузии"
   ]
  },
  {
   "cell_type": "markdown",
   "id": "140e40ce",
   "metadata": {},
   "source": [
    "\\begin{equation}\n",
    "\\begin{array}{l}\n",
    "\\begin{array}{llr}\n",
    "x = 0 & -D\\,{d c} = \\left(\\alpha_0 Z p_0 - k_{r_0} c_0^{n_0}\\right){dx}, \\\\\n",
    "x = l & -D\\,{d c} = \\left(k_{r_L} c_L^{n_L} - \\alpha_L Z p_L\\right){dx}, \\\\\n",
    "\\end{array} & (5)\\\\\n",
    "\\end{array}\n",
    "\\end{equation}"
   ]
  },
  {
   "cell_type": "markdown",
   "id": "d48216c7",
   "metadata": {},
   "source": [
    "\\begin{equation}\n",
    "\\begin{array}{l}\n",
    "\\begin{array}{llr}\n",
    "x = 0 & -D \\int\\limits_{0}^{l}{d c} = \\left(\\alpha_0 Z p_0 - k_{r_0} c_0^{n_0}\\right)\\int\\limits_{0}^{l}{dx}, \\\\\n",
    "x = l & -D \\int\\limits_{0}^{l}{d c} = \\left(k_{r_L} c_L^{n_L} - \\alpha_L Z p_L\\right)\\int\\limits_{0}^{l}{dx}, \\\\\n",
    "\\end{array} & (5)\\\\\n",
    "\\end{array}\n",
    "\\end{equation}"
   ]
  },
  {
   "cell_type": "markdown",
   "id": "19a790ed",
   "metadata": {},
   "source": [
    "учитывая, что стационарное распределение плотности газа в мембране определяется из уравнения"
   ]
  },
  {
   "cell_type": "markdown",
   "id": "0e971381",
   "metadata": {},
   "source": [
    "\\begin{equation}\n",
    "\\frac{d^2 с}{dx^{2}} = 0\n",
    "\\end{equation}"
   ]
  },
  {
   "cell_type": "markdown",
   "id": "1d7f8245",
   "metadata": {},
   "source": [
    "получаем"
   ]
  },
  {
   "cell_type": "markdown",
   "id": "934ca170",
   "metadata": {},
   "source": [
    "\\begin{equation}\n",
    "\\begin{array}{l}\n",
    "\\begin{array}{llr}\n",
    "x = 0 & -D \\left(c_{{l}} - c_{{0}}\\right) = \\left(\\alpha_0 Z p_0 - k_{r_0} c_0^{n_0}\\right)\\, l, \\\\\n",
    "x = l & -D \\left(c_{{l}} - c_{{0}}\\right) = \\left(k_{r_L} c_L^{n_L} - \\alpha_L Z p_L\\right)\\,l\\\\\n",
    "\\end{array} & (5)\\\\\n",
    "\\end{array}\n",
    "\\end{equation}"
   ]
  },
  {
   "cell_type": "code",
   "execution_count": 25,
   "id": "5b2a3bda",
   "metadata": {},
   "outputs": [],
   "source": [
    "eq_0_0l = - D * (c(x=l) - c(x=0)) == (alpha_0 * Z * p_0 - k_0*c(x=0)^n_0) * l\n",
    "eq_l_0l = - D * (c(x=l) - c(x=0)) == (k_l*c(x=l)^n_l - alpha_l * Z * p_l) * l"
   ]
  },
  {
   "cell_type": "code",
   "execution_count": 26,
   "id": "4c25f5fd",
   "metadata": {},
   "outputs": [
    {
     "data": {
      "text/latex": [
       "$\\displaystyle D {\\left(c\\left(0\\right) - c\\left(l\\right)\\right)} = {\\left(Z \\alpha_{0} p_{0} - k_{0} c\\left(0\\right)^{n_{0}}\\right)} l$"
      ],
      "text/plain": [
       "<IPython.core.display.Math object>"
      ]
     },
     "metadata": {},
     "output_type": "display_data"
    },
    {
     "data": {
      "text/latex": [
       "$\\displaystyle D {\\left(c\\left(0\\right) - c\\left(l\\right)\\right)} = -{\\left(Z \\alpha_{l} p_{l} - k_{l} c\\left(l\\right)^{n_{l}}\\right)} l$"
      ],
      "text/plain": [
       "<IPython.core.display.Math object>"
      ]
     },
     "metadata": {},
     "output_type": "display_data"
    }
   ],
   "source": [
    "disp(eq_0_0l)\n",
    "disp(eq_l_0l)"
   ]
  },
  {
   "cell_type": "markdown",
   "id": "7cb37b64",
   "metadata": {},
   "source": [
    "Итак мы имеем систему из трёх уравнений с двумя неизвестными"
   ]
  },
  {
   "cell_type": "code",
   "execution_count": 27,
   "id": "91ca81fe",
   "metadata": {},
   "outputs": [
    {
     "data": {
      "text/latex": [
       "$\\displaystyle Z \\alpha_{0} p_{0} - k_{0} c\\left(0\\right)^{n_{0}} = -Z \\alpha_{l} p_{l} + k_{l} c\\left(l\\right)^{n_{l}}$"
      ],
      "text/plain": [
       "<IPython.core.display.Math object>"
      ]
     },
     "metadata": {},
     "output_type": "display_data"
    },
    {
     "data": {
      "text/latex": [
       "$\\displaystyle D {\\left(c\\left(0\\right) - c\\left(l\\right)\\right)} = {\\left(Z \\alpha_{0} p_{0} - k_{0} c\\left(0\\right)^{n_{0}}\\right)} l$"
      ],
      "text/plain": [
       "<IPython.core.display.Math object>"
      ]
     },
     "metadata": {},
     "output_type": "display_data"
    },
    {
     "data": {
      "text/latex": [
       "$\\displaystyle D {\\left(c\\left(0\\right) - c\\left(l\\right)\\right)} = -{\\left(Z \\alpha_{l} p_{l} - k_{l} c\\left(l\\right)^{n_{l}}\\right)} l$"
      ],
      "text/plain": [
       "<IPython.core.display.Math object>"
      ]
     },
     "metadata": {},
     "output_type": "display_data"
    }
   ],
   "source": [
    "disp(eq_j)\n",
    "disp(eq_0_0l)\n",
    "disp(eq_l_0l)"
   ]
  },
  {
   "cell_type": "markdown",
   "id": "169a13ef",
   "metadata": {},
   "source": [
    "произведя подстановку выражений для $c(0)$ и $c(l)$, полученных из первого уравнения во второе и третье, получаем два отдельных уравнения для $c(0)$ и $c(l)$"
   ]
  },
  {
   "cell_type": "code",
   "execution_count": 41,
   "id": "4ec5651d",
   "metadata": {},
   "outputs": [
    {
     "data": {
      "text/latex": [
       "$\\displaystyle -D {\\left(\\left(\\frac{Z \\alpha_{0} p_{0} + Z \\alpha_{l} p_{l} - k_{0} c\\left(0\\right)^{n_{0}}}{k_{l}}\\right)^{\\left(\\frac{1}{n_{l}}\\right)} - c\\left(0\\right)\\right)} = {\\left(Z \\alpha_{0} p_{0} - k_{0} c\\left(0\\right)^{n_{0}}\\right)} l$"
      ],
      "text/plain": [
       "<IPython.core.display.Math object>"
      ]
     },
     "metadata": {},
     "output_type": "display_data"
    },
    {
     "data": {
      "text/latex": [
       "$\\displaystyle D {\\left(\\left(\\frac{Z \\alpha_{0} p_{0} + Z \\alpha_{l} p_{l} - k_{l} c\\left(l\\right)^{n_{l}}}{k_{0}}\\right)^{\\left(\\frac{1}{n_{0}}\\right)} - c\\left(l\\right)\\right)} = -{\\left(Z \\alpha_{l} p_{l} - k_{l} c\\left(l\\right)^{n_{l}}\\right)} l$"
      ],
      "text/plain": [
       "<IPython.core.display.Math object>"
      ]
     },
     "metadata": {},
     "output_type": "display_data"
    }
   ],
   "source": [
    "eq_c0 = eq_0_0l.subs(cl_sol_j)\n",
    "eq_cl = eq_l_0l.subs(c0_sol_j)\n",
    "disp(eq_c0)\n",
    "disp(eq_cl)"
   ]
  },
  {
   "cell_type": "markdown",
   "id": "e1ec8ce1",
   "metadata": {},
   "source": [
    "решая каждое из этих уравнений в отдельности находим решения относительно $c(0)$ и $c(l)$"
   ]
  },
  {
   "cell_type": "code",
   "execution_count": 42,
   "id": "87314922",
   "metadata": {},
   "outputs": [
    {
     "data": {
      "text/latex": [
       "$\\displaystyle \\left[c\\left(0\\right) = \\frac{Z \\alpha_{0} l p_{0} - k_{0} l c\\left(0\\right)^{n_{0}} + D \\left(\\frac{Z \\alpha_{0} p_{0} + Z \\alpha_{l} p_{l} - k_{0} c\\left(0\\right)^{n_{0}}}{k_{l}}\\right)^{\\left(\\frac{1}{n_{l}}\\right)}}{D}\\right]$"
      ],
      "text/plain": [
       "<IPython.core.display.Math object>"
      ]
     },
     "metadata": {},
     "output_type": "display_data"
    }
   ],
   "source": [
    "c0_sol = solve([eq_c0],c(x=0))\n",
    "disp(c0_sol)"
   ]
  },
  {
   "cell_type": "code",
   "execution_count": 43,
   "id": "14a6e3ce",
   "metadata": {},
   "outputs": [
    {
     "data": {
      "text/latex": [
       "$\\displaystyle \\left[c\\left(l\\right) = \\frac{Z \\alpha_{l} l p_{l} - k_{l} l c\\left(l\\right)^{n_{l}} + D \\left(\\frac{Z \\alpha_{0} p_{0} + Z \\alpha_{l} p_{l} - k_{l} c\\left(l\\right)^{n_{l}}}{k_{0}}\\right)^{\\left(\\frac{1}{n_{0}}\\right)}}{D}\\right]$"
      ],
      "text/plain": [
       "<IPython.core.display.Math object>"
      ]
     },
     "metadata": {},
     "output_type": "display_data"
    }
   ],
   "source": [
    "cl_sol = solve([eq_cl],c(x=l))\n",
    "disp(cl_sol)"
   ]
  },
  {
   "cell_type": "markdown",
   "id": "cbea68ef",
   "metadata": {},
   "source": [
    "Пусть порядок реакции десорбции 1 на обоих сторонах мембраны"
   ]
  },
  {
   "cell_type": "code",
   "execution_count": 56,
   "id": "0fb174fb",
   "metadata": {},
   "outputs": [
    {
     "data": {
      "text/latex": [
       "$\\displaystyle \\left[c\\left(0\\right) = \\frac{D Z \\alpha_{l} p_{l} + {\\left(Z \\alpha_{0} k_{l} l + D Z \\alpha_{0}\\right)} p_{0}}{k_{0} k_{l} l + D k_{0} + D k_{l}}\\right]$"
      ],
      "text/plain": [
       "<IPython.core.display.Math object>"
      ]
     },
     "metadata": {},
     "output_type": "display_data"
    }
   ],
   "source": [
    "c0_sol = solve([eq_c0.subs(n_0 == 1, n_l == 1)],c(x=0))\n",
    "disp(c0_sol)"
   ]
  },
  {
   "cell_type": "code",
   "execution_count": 57,
   "id": "244a61b6",
   "metadata": {},
   "outputs": [
    {
     "data": {
      "text/latex": [
       "$\\displaystyle \\left[c\\left(l\\right) = \\frac{D Z \\alpha_{0} p_{0} + {\\left(Z \\alpha_{l} k_{0} l + D Z \\alpha_{l}\\right)} p_{l}}{k_{0} k_{l} l + D k_{0} + D k_{l}}\\right]$"
      ],
      "text/plain": [
       "<IPython.core.display.Math object>"
      ]
     },
     "metadata": {},
     "output_type": "display_data"
    }
   ],
   "source": [
    "cl_sol = solve([eq_cl.subs(n_0 == 1, n_l == 1)],c(x=l))\n",
    "disp(cl_sol)"
   ]
  },
  {
   "cell_type": "markdown",
   "id": "9444d035",
   "metadata": {},
   "source": [
    "Найдем теперь поток из закона Фика\n",
    "\n",
    "\\begin{equation}\n",
    "j = - D \\frac{d c}{dx} = -D \\frac{c_l-c_0}{l}\n",
    "\\end{equation}"
   ]
  },
  {
   "cell_type": "code",
   "execution_count": 58,
   "id": "a22f64d3",
   "metadata": {},
   "outputs": [
    {
     "data": {
      "text/latex": [
       "$\\displaystyle j = \\frac{D {\\left(c\\left(0\\right) - c\\left(l\\right)\\right)}}{l}$"
      ],
      "text/plain": [
       "<IPython.core.display.Math object>"
      ]
     },
     "metadata": {},
     "output_type": "display_data"
    }
   ],
   "source": [
    "var(\"j\")\n",
    "eq_jD = j == - D * (c(x=l) - c(x=0)) / l\n",
    "disp(eq_jD)"
   ]
  },
  {
   "cell_type": "markdown",
   "id": "a6cf39fb",
   "metadata": {},
   "source": [
    "произведя подстановку выражений для $c(0)$ и $c(l)$"
   ]
  },
  {
   "cell_type": "code",
   "execution_count": 59,
   "id": "8b88de58",
   "metadata": {},
   "outputs": [
    {
     "data": {
      "text/latex": [
       "$\\displaystyle j = -\\frac{D {\\left(\\frac{D Z \\alpha_{0} p_{0} + {\\left(Z \\alpha_{l} k_{0} l + D Z \\alpha_{l}\\right)} p_{l}}{k_{0} k_{l} l + D k_{0} + D k_{l}} - \\frac{D Z \\alpha_{l} p_{l} + {\\left(Z \\alpha_{0} k_{l} l + D Z \\alpha_{0}\\right)} p_{0}}{k_{0} k_{l} l + D k_{0} + D k_{l}}\\right)}}{l}$"
      ],
      "text/plain": [
       "<IPython.core.display.Math object>"
      ]
     },
     "metadata": {},
     "output_type": "display_data"
    }
   ],
   "source": [
    "eq_J = eq_jD.subs(c0_sol).subs(cl_sol)\n",
    "disp(eq_J)"
   ]
  },
  {
   "cell_type": "code",
   "execution_count": 60,
   "id": "284c1ddb",
   "metadata": {},
   "outputs": [
    {
     "data": {
      "text/latex": [
       "$\\displaystyle j = \\frac{D Z \\alpha_{0} k_{l} p_{0} - D Z \\alpha_{l} k_{0} p_{l}}{k_{0} k_{l} l + D k_{0} + D k_{l}}$"
      ],
      "text/plain": [
       "<IPython.core.display.Math object>"
      ]
     },
     "metadata": {},
     "output_type": "display_data"
    }
   ],
   "source": [
    "eq_J = eq_jD.subs(c0_sol).subs(cl_sol).full_simplify()\n",
    "disp(eq_J)"
   ]
  },
  {
   "cell_type": "markdown",
   "id": "ae97a8e8",
   "metadata": {},
   "source": [
    "рассмотрим теперь несимметричную мембрану\n",
    "\n",
    "$\\alpha_0 \\neq \\alpha_l$\n",
    "\n",
    "$k_0 \\neq k_l$\n",
    "\n",
    "$n_0 \\neq n_l$\n",
    "\n",
    "в равновесных условиях\n",
    "\n",
    "$p_0 = p_l$\n",
    "\n",
    "\n",
    "$Z_0 = Z_l$\n"
   ]
  },
  {
   "cell_type": "code",
   "execution_count": null,
   "id": "f8794b7b",
   "metadata": {},
   "outputs": [],
   "source": []
  }
 ],
 "metadata": {
  "kernelspec": {
   "display_name": "SageMath 9.6.beta7",
   "language": "sage",
   "name": "sagemath"
  },
  "language_info": {
   "codemirror_mode": {
    "name": "ipython",
    "version": 3
   },
   "file_extension": ".py",
   "mimetype": "text/x-python",
   "name": "python",
   "nbconvert_exporter": "python",
   "pygments_lexer": "ipython3",
   "version": "3.10.3"
  }
 },
 "nbformat": 4,
 "nbformat_minor": 5
}
