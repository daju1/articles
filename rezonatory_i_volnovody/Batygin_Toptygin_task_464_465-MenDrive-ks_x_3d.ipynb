{
 "cells": [
  {
   "cell_type": "markdown",
   "metadata": {},
   "source": [
    "# Электродинамический расчёт волнового двигателя с внутренним расходом энергии Ф.Ф.Менде (MenDrive)\n",
    "\n",
    "А.Ю.Дроздов"
   ]
  },
  {
   "cell_type": "markdown",
   "metadata": {},
   "source": [
    "Основываясь на решении задач из задачника Батыгина Топтыгина\n",
    "\n",
    "Batygin_Toptygin_task_464_465.sage\n",
    "\n",
    "В. В. БАТЫГИН, И. Н. ТОПТЫГИН\n",
    "СБОРНИК ЗАДАЧ\n",
    "по\n",
    "ЭЛЕКТРОДИНАМИКЕ\n",
    "МОСКВА 1970\n",
    "\n",
    "512. Бесконечно протяженный диэлектрический слой заполняет в вакууме область $-a<=x<=a$ и имеет проницаемости $\\epsilon$ и $\\mu$.\n",
    "Показать, что такой слой может действовать как волновод (для этого нужно, чтобы поле бегущей электромагнитной волны концентрировалось, в основном, внутри слоя). Определить типы волн, которые могут распространяться в таком волноводе. Ограничиться случаем, когда векторы поля не зависят от координаты $y$.\n",
    "\n",
    "513. Диэлектрический слой с проницаемостями $\\epsilon$, $\\mu$, заполняющий область $0<=x<=a$, нанесен на поверхность идеального\n",
    "проводника. В области $x>a$ - вакуум. Какие типы электромагнитных волн с амплитудой, убывающей при удалении от слоя, могут распространяться вдоль слоя? Сравнить возможные типы волн с системой волн, полученной в предыдущей задаче.\n",
    "\n",
    "В издании 1962 года номера этих задач 464 и 465"
   ]
  },
  {
   "cell_type": "markdown",
   "metadata": {},
   "source": [
    "рассчитаем тягу в\n",
    "\n",
    "http://fmnauka.narod.ru/dvigatel_emdrive.pdf\n",
    "\n",
    "Ф.Ф. МЕНДЕ, ВОЛНОВОЙ ДВИГАТЕЛЬ С ВНУТРЕННИМ РАСХОДОМ ЭНЕРГИИ ЭЛЕКТРОМАГНИТНЫХ КОЛЕБАНИЙ"
   ]
  },
  {
   "cell_type": "markdown",
   "metadata": {},
   "source": [
    "$rot\\,\\vec{E} = \\mu\\,\\frac{i\\,\\omega}{c}\\,\\vec{H}$\n",
    "\n",
    "$rot\\,\\vec{H} = - \\frac{i\\,\\omega}{c} \\epsilon \\vec{E}$\n",
    "\n",
    "$rot\\,rot\\,\\vec{E} = \\mu\\,\\frac{i\\,\\omega}{c}rot\\,\\vec{H}$\n",
    "\n",
    "$rot\\,rot\\,\\vec{E} = \\mu\\,\\frac{i\\,\\omega}{c}\\left(- \\frac{i\\,\\omega}{c} \\epsilon \\vec{E}\\right)$\n",
    "\n",
    "$rot\\,rot\\,\\vec{E} = \\mu\\,\\frac{\\omega^2}{c^2} \\epsilon \\vec{E}$\n",
    "\n",
    "$rot\\,rot\\,\\vec{E} = grad\\,div\\,\\vec{E} - Laplasian\\,\\vec{E}$\n",
    "\n",
    "$Laplasian\\,\\vec{E} + \\frac{\\mu \\epsilon \\omega^2}{c^2}\\,\\vec{E} - grad\\,div\\,\\vec{E} = 0$\n"
   ]
  },
  {
   "cell_type": "markdown",
   "metadata": {},
   "source": [
    "$div\\,\\vec{E} = 0$\n",
    "\n",
    "для вакуума внутри резонатора ищем решение в виде\n",
    "\n",
    "$\\vec{E} = \\vec{E}(x)\\,e^{i\\,k_z\\,z}\\,e^{i\\,k_y\\,y}\\,e^{-i\\,\\omega\\,t}$"
   ]
  },
  {
   "cell_type": "markdown",
   "metadata": {},
   "source": [
    "подставляя в исходное уравнение приходим к обыкновенному дифференциальному уравнению\n",
    "\n",
    "$$\\frac{\\partial^{2}}{(\\partial {x})^{2}}\\vec{E}(x) + \\left(\\frac{\\mu \\epsilon \\omega^2}{c^2} - k^2\\right)\\,\\vec{E}(x) = 0$$"
   ]
  },
  {
   "cell_type": "markdown",
   "metadata": {},
   "source": [
    "для вакуума внутри резонатора производим следующую замену переменных\n",
    "\n",
    "$\\kappa^2 = \\frac{\\mu \\epsilon \\omega^2}{c^2} - k_y^2 - k_z^2$\n",
    "\n",
    "теперь получаем дифференциальное уравнение для вакуума внутри резонатора\n",
    "\n",
    "$$\\frac{\\partial^{2}}{(\\partial {x})^{2}}\\vec{E}(x) + \\kappa^2\\,\\vec{E}(x) = 0$$"
   ]
  },
  {
   "cell_type": "code",
   "execution_count": null,
   "metadata": {},
   "outputs": [],
   "source": []
  },
  {
   "cell_type": "markdown",
   "metadata": {},
   "source": [
    "для проводящего металла с потерями ищем решение в виде\n",
    "\n",
    "$\\vec{E} = \\vec{E}\\,e^{i\\,ks_x\\,x}\\,e^{i\\,k_z\\,z}\\,e^{i\\,k_y\\,y}\\,e^{-i\\,\\omega\\,t}$\n",
    "\n",
    "в котором волновой вектор, направленный вдоль оси y, z действителен, а волновой вектор, направленный вдоль оси x может быть комплексным $ks_x = k_x + i\\,s_x$"
   ]
  },
  {
   "cell_type": "markdown",
   "metadata": {},
   "source": [
    "принимая модель комплексного представления диэлектрической проницаемости $\\epsilon' = \\epsilon + \\frac{4\\pi\\,\\sigma}{\\omega}\\,i$ (плохой проводник)"
   ]
  },
  {
   "cell_type": "markdown",
   "metadata": {},
   "source": [
    "подставляем решение в\n",
    "\n",
    "$Laplasian\\,\\vec{E} + \\frac{\\mu \\omega^2}{c^2}\\left(\\epsilon + \\frac{4\\pi\\,\\sigma}{\\omega}\\,i\\right)\\,\\vec{E} - grad\\,div\\,\\vec{E} = 0$\n",
    "\n",
    "и принимая\n",
    "\n",
    "$div\\,\\vec{E} = 0$"
   ]
  },
  {
   "cell_type": "markdown",
   "metadata": {},
   "source": [
    "приходим к\n",
    "\n",
    "$$-ks_x^{2}\\vec{E} + \\left(\\frac{\\mu \\omega^2}{c^2}\\left(\\epsilon + \\frac{4\\pi\\,\\sigma}{\\omega}\\,i\\right) - k_y^2 - k_z^2\\right)\\,\\vec{E} = 0$$"
   ]
  },
  {
   "cell_type": "markdown",
   "metadata": {},
   "source": [
    "приходим к\n",
    "\n",
    "$$\\left(\\frac{\\mu \\omega^2}{c^2}\\epsilon + \\frac{\\mu \\omega^2}{c^2}\\frac{4\\pi\\,\\sigma}{\\omega}\\,i - k_y^2 - k_z^2 - ks_x^2\\right) = 0$$\n"
   ]
  },
  {
   "cell_type": "code",
   "execution_count": 1,
   "metadata": {},
   "outputs": [],
   "source": [
    "from IPython.display import display, Math, Latex\n",
    "\n",
    "mu = var('mu')\n",
    "assume(mu, 'real')\n",
    "assume(mu>0)\n",
    "\n",
    "epsilon = var('epsilon')\n",
    "assume(epsilon, 'real')\n",
    "assume(epsilon>0)\n",
    "\n",
    "sigma = var('sigma')\n",
    "assume(sigma, 'real')\n",
    "assume(sigma>0)\n",
    "\n",
    "#s_x = var ('s_x')\n",
    "#assume(s_x, 'real')\n",
    "#assume(s_x>0)\n",
    "\n",
    "kappa = var ('kappa')\n",
    "assume(kappa, 'real')\n",
    "assume(kappa>0)\n",
    "\n",
    "ks_x = var ('ks_x')\n",
    "assume(ks_x, 'complex')\n",
    "\n",
    "k_y = var ('k_y')\n",
    "assume(k_y, 'real')\n",
    "\n",
    "k_z = var ('k_z')\n",
    "assume(k_z, 'real')\n",
    "\n",
    "a = var('a')\n",
    "assume(a, 'real')\n",
    "assume(a>0)\n",
    "\n",
    "x = var('x')\n",
    "y = var('y')\n",
    "z = var('z')\n",
    "\n",
    "assume(x, 'real')\n",
    "assume(y, 'real')\n",
    "assume(z, 'real')\n",
    "\n",
    "c = var('c')\n",
    "assume(c, 'real')\n",
    "assume(c>0)\n",
    "\n",
    "omega = var('omega')\n",
    "assume(omega, 'real')"
   ]
  },
  {
   "cell_type": "code",
   "execution_count": 2,
   "metadata": {},
   "outputs": [
    {
     "name": "stdout",
     "output_type": "stream",
     "text": [
      "eq_kappa_inner_vacuum =\n"
     ]
    },
    {
     "data": {
      "text/latex": [
       "$\\displaystyle -k_{y}^{2} - k_{z}^{2} + \\frac{\\omega^{2}}{c^{2}} = \\kappa^{2}$"
      ],
      "text/plain": [
       "<IPython.core.display.Math object>"
      ]
     },
     "metadata": {},
     "output_type": "display_data"
    },
    {
     "name": "stdout",
     "output_type": "stream",
     "text": [
      "eq_bad_conductor =\n"
     ]
    },
    {
     "data": {
      "text/latex": [
       "$\\displaystyle -k_{y}^{2} - k_{z}^{2} - \\mathit{ks}_{x}^{2} + \\frac{{\\left(\\epsilon + \\frac{4 i \\, \\pi \\sigma}{\\omega}\\right)} \\mu \\omega^{2}}{c^{2}} = 0$"
      ],
      "text/plain": [
       "<IPython.core.display.Math object>"
      ]
     },
     "metadata": {},
     "output_type": "display_data"
    },
    {
     "name": "stdout",
     "output_type": "stream",
     "text": [
      "kx_sol =\n"
     ]
    },
    {
     "data": {
      "text/latex": [
       "$\\displaystyle \\left[\\mathit{ks}_{x} = -\\frac{\\sqrt{-c^{2} k_{y}^{2} - c^{2} k_{z}^{2} + \\epsilon \\mu \\omega^{2} + 4 i \\, \\pi \\mu \\omega \\sigma}}{c}, \\mathit{ks}_{x} = \\frac{\\sqrt{-c^{2} k_{y}^{2} - c^{2} k_{z}^{2} + \\epsilon \\mu \\omega^{2} + 4 i \\, \\pi \\mu \\omega \\sigma}}{c}\\right]$"
      ],
      "text/plain": [
       "<IPython.core.display.Math object>"
      ]
     },
     "metadata": {},
     "output_type": "display_data"
    },
    {
     "name": "stdout",
     "output_type": "stream",
     "text": [
      "kx_sol_re =\n"
     ]
    },
    {
     "data": {
      "text/latex": [
       "$\\displaystyle \\frac{\\sqrt{{\\left| -c^{2} k_{y}^{2} - c^{2} k_{z}^{2} + \\epsilon \\mu \\omega^{2} + 4 i \\, \\pi \\mu \\omega \\sigma \\right|}} \\cos\\left(\\frac{1}{2} \\, \\arctan\\left(4 \\, \\pi \\mu \\omega \\sigma, -c^{2} k_{y}^{2} - c^{2} k_{z}^{2} + \\epsilon \\mu \\omega^{2}\\right)\\right)}{c}$"
      ],
      "text/plain": [
       "<IPython.core.display.Math object>"
      ]
     },
     "metadata": {},
     "output_type": "display_data"
    },
    {
     "name": "stdout",
     "output_type": "stream",
     "text": [
      "kx_sol_im =\n"
     ]
    },
    {
     "data": {
      "text/latex": [
       "$\\displaystyle \\frac{\\sqrt{{\\left| -c^{2} k_{y}^{2} - c^{2} k_{z}^{2} + \\epsilon \\mu \\omega^{2} + 4 i \\, \\pi \\mu \\omega \\sigma \\right|}} \\sin\\left(\\frac{1}{2} \\, \\arctan\\left(4 \\, \\pi \\mu \\omega \\sigma, -c^{2} k_{y}^{2} - c^{2} k_{z}^{2} + \\epsilon \\mu \\omega^{2}\\right)\\right)}{c}$"
      ],
      "text/plain": [
       "<IPython.core.display.Math object>"
      ]
     },
     "metadata": {},
     "output_type": "display_data"
    }
   ],
   "source": [
    "# исходя из вида дифференциальных уравнений для вакуума внутри резонатора и проводящего металла с потерями\n",
    "# записываем соотнощения для волнового вектора в виде уравнений\n",
    "eq_kappa_inner_vacuum = omega^2 / c^2 - k_y^2 - k_z^2 == kappa^2\n",
    "print(\"eq_kappa_inner_vacuum =\")\n",
    "display(Math(latex(eq_kappa_inner_vacuum)))\n",
    "\n",
    "eq_bad_conductor = mu * omega^2 / c^2 * (epsilon + I * 4 * pi * sigma / omega) - ks_x^2 - k_y^2  - k_z^2 == 0\n",
    "\n",
    "print(\"eq_bad_conductor =\")\n",
    "display(Math(latex(eq_bad_conductor)))\n",
    "\n",
    "kx_sol = solve(eq_bad_conductor, ks_x)\n",
    "print(\"kx_sol =\")\n",
    "display(Math(latex(kx_sol)))\n",
    "\n",
    "kx_sol_re = (kx_sol[1].rhs()).real()\n",
    "kx_sol_im = (kx_sol[1].rhs()).imag()\n",
    "\n",
    "print(\"kx_sol_re =\")\n",
    "display(Math(latex(kx_sol_re)))\n",
    "\n",
    "print(\"kx_sol_im =\")\n",
    "display(Math(latex(kx_sol_im)))"
   ]
  },
  {
   "cell_type": "code",
   "execution_count": 3,
   "metadata": {},
   "outputs": [],
   "source": [
    "simplify_epsilon_0_mu_1 = False"
   ]
  },
  {
   "cell_type": "code",
   "execution_count": 4,
   "metadata": {},
   "outputs": [],
   "source": [
    "if simplify_epsilon_0_mu_1:\n",
    "    eq_bad_conductor   = eq_bad_conductor.subs(epsilon == 0, mu == 1)\n",
    "\n",
    "    print(\"eq_bad_conductor =\")\n",
    "    display(Math(latex(eq_bad_conductor)))"
   ]
  },
  {
   "cell_type": "code",
   "execution_count": 5,
   "metadata": {},
   "outputs": [
    {
     "name": "stdout",
     "output_type": "stream",
     "text": [
      "omega2_sol =\n"
     ]
    },
    {
     "data": {
      "text/latex": [
       "$\\displaystyle \\left[\\omega^{2} = c^{2} k_{y}^{2} + c^{2} k_{z}^{2} + c^{2} \\kappa^{2}\\right]$"
      ],
      "text/plain": [
       "<IPython.core.display.Math object>"
      ]
     },
     "metadata": {},
     "output_type": "display_data"
    },
    {
     "name": "stdout",
     "output_type": "stream",
     "text": [
      "E_inner_vacuum =\n"
     ]
    },
    {
     "data": {
      "text/latex": [
       "$\\displaystyle K_{2} \\cos\\left(\\kappa x\\right) + K_{1} \\sin\\left(\\kappa x\\right)$"
      ],
      "text/plain": [
       "<IPython.core.display.Math object>"
      ]
     },
     "metadata": {},
     "output_type": "display_data"
    }
   ],
   "source": [
    "omega2_sol = solve(eq_kappa_inner_vacuum, omega^2)\n",
    "print(\"omega2_sol =\")\n",
    "display(Math(latex(omega2_sol)))\n",
    "\n",
    "# решаем полученные обыкновенные дифференциальные уравнения\n",
    "E = function('E')(x)\n",
    "\n",
    "de_inner_vacuum = diff (E, x, 2) + kappa^2 * E == 0\n",
    "E_inner_vacuum = desolve(de_inner_vacuum, E, ivar = x)\n",
    "\n",
    "# получая таким образом выражения для электрического поля в вакуума внутри резонатора и внутри проводящего металла с потерями\n",
    "print(\"E_inner_vacuum =\")\n",
    "display(Math(latex(E_inner_vacuum)))\n",
    "# _K2*cos(kappa*x) + _K1*sin(kappa*x)"
   ]
  },
  {
   "cell_type": "code",
   "execution_count": 6,
   "metadata": {},
   "outputs": [],
   "source": [
    "B1_z = var ('B1_z')\n",
    "B2_z = var ('B2_z')\n",
    "A2_z = var ('A2_z')\n",
    "\n",
    "B1_x = var ('B1_x')\n",
    "B2_x = var ('B2_x')\n",
    "A2_x = var ('A2_x')\n",
    "\n",
    "B1_y = var ('B1_y')\n",
    "B2_y = var ('B2_y')\n",
    "A2_y = var ('A2_y')"
   ]
  },
  {
   "cell_type": "code",
   "execution_count": 7,
   "metadata": {},
   "outputs": [],
   "source": [
    "# 3D\n",
    "set_Ey_0 = False"
   ]
  },
  {
   "cell_type": "code",
   "execution_count": 8,
   "metadata": {},
   "outputs": [],
   "source": [
    "if set_Ey_0:\n",
    "    B1_y = 0\n",
    "    B2_y = 0\n",
    "    A2_y = 0\n",
    "    k_y  = 0"
   ]
  },
  {
   "cell_type": "code",
   "execution_count": 9,
   "metadata": {},
   "outputs": [
    {
     "name": "stdout",
     "output_type": "stream",
     "text": [
      "E_inner_vacuum_z (x) \n"
     ]
    },
    {
     "data": {
      "text/latex": [
       "$\\displaystyle \\mathit{B1}_{z} \\cos\\left(\\kappa x\\right) + \\mathit{B2}_{z} \\sin\\left(\\kappa x\\right)$"
      ],
      "text/plain": [
       "<IPython.core.display.Math object>"
      ]
     },
     "metadata": {},
     "output_type": "display_data"
    },
    {
     "name": "stdout",
     "output_type": "stream",
     "text": [
      "E_inner_vacuum_x (x) =\n"
     ]
    },
    {
     "data": {
      "text/latex": [
       "$\\displaystyle \\mathit{B1}_{x} \\cos\\left(\\kappa x\\right) + \\mathit{B2}_{x} \\sin\\left(\\kappa x\\right)$"
      ],
      "text/plain": [
       "<IPython.core.display.Math object>"
      ]
     },
     "metadata": {},
     "output_type": "display_data"
    },
    {
     "name": "stdout",
     "output_type": "stream",
     "text": [
      "E_inner_vacuum_y (x) =\n"
     ]
    },
    {
     "data": {
      "text/latex": [
       "$\\displaystyle \\mathit{B1}_{y} \\cos\\left(\\kappa x\\right) + \\mathit{B2}_{y} \\sin\\left(\\kappa x\\right)$"
      ],
      "text/plain": [
       "<IPython.core.display.Math object>"
      ]
     },
     "metadata": {},
     "output_type": "display_data"
    }
   ],
   "source": [
    "# выражения для электрического поля\n",
    "# в вакууме внутри резонатора \n",
    "E_inner_vacuum_z (x) = B1_z*cos(kappa*x) + B2_z*sin(kappa*x)\n",
    "E_inner_vacuum_x (x) = B1_x*cos(kappa*x) + B2_x*sin(kappa*x)\n",
    "E_inner_vacuum_y (x) = B1_y*cos(kappa*x) + B2_y*sin(kappa*x)\n",
    "\n",
    "print (\"E_inner_vacuum_z (x) \")\n",
    "display(Math(latex(E_inner_vacuum_z (x))))\n",
    "print (\"E_inner_vacuum_x (x) =\")\n",
    "display(Math(latex(E_inner_vacuum_x (x))))\n",
    "print (\"E_inner_vacuum_y (x) =\")\n",
    "display(Math(latex(E_inner_vacuum_y (x))))"
   ]
  },
  {
   "cell_type": "markdown",
   "metadata": {},
   "source": [
    "решение для проводящего металла с потерями\n",
    "\n",
    "$\\vec{E} = \\vec{E}\\,e^{i\\,ks_x\\,x}\\,e^{i\\,k_y\\,z}\\,e^{i\\,k_z\\,z}\\,e^{-i\\,\\omega\\,t}$"
   ]
  },
  {
   "cell_type": "code",
   "execution_count": 10,
   "metadata": {},
   "outputs": [
    {
     "name": "stdout",
     "output_type": "stream",
     "text": [
      "E_bad_conductor_z (x) \n"
     ]
    },
    {
     "data": {
      "text/latex": [
       "$\\displaystyle \\mathit{A2}_{z} e^{\\left(i \\, \\mathit{ks}_{x} x\\right)}$"
      ],
      "text/plain": [
       "<IPython.core.display.Math object>"
      ]
     },
     "metadata": {},
     "output_type": "display_data"
    },
    {
     "name": "stdout",
     "output_type": "stream",
     "text": [
      "E_bad_conductor_x (x) =\n"
     ]
    },
    {
     "data": {
      "text/latex": [
       "$\\displaystyle \\mathit{A2}_{x} e^{\\left(i \\, \\mathit{ks}_{x} x\\right)}$"
      ],
      "text/plain": [
       "<IPython.core.display.Math object>"
      ]
     },
     "metadata": {},
     "output_type": "display_data"
    },
    {
     "name": "stdout",
     "output_type": "stream",
     "text": [
      "E_bad_conductor_y (x) =\n"
     ]
    },
    {
     "data": {
      "text/latex": [
       "$\\displaystyle \\mathit{A2}_{y} e^{\\left(i \\, \\mathit{ks}_{x} x\\right)}$"
      ],
      "text/plain": [
       "<IPython.core.display.Math object>"
      ]
     },
     "metadata": {},
     "output_type": "display_data"
    }
   ],
   "source": [
    "# x > a\n",
    "# в проводящем металле с потерями\n",
    "if True:\n",
    "    E_bad_conductor_z (x) = A2_z * e^(I*ks_x*x)\n",
    "    E_bad_conductor_x (x) = A2_x * e^(I*ks_x*x)\n",
    "    E_bad_conductor_y (x) = A2_y * e^(I*ks_x*x)\n",
    "else:\n",
    "    E_bad_conductor_z (x) = A2_z * e^(I*ks_x*(x-a))\n",
    "    E_bad_conductor_x (x) = A2_x * e^(I*ks_x*(x-a))\n",
    "    E_bad_conductor_y (x) = A2_y * e^(I*ks_x*(x-a))\n",
    "\n",
    "print (\"E_bad_conductor_z (x) \")\n",
    "display(Math(latex(E_bad_conductor_z (x))))\n",
    "print (\"E_bad_conductor_x (x) =\")\n",
    "display(Math(latex(E_bad_conductor_x (x))))\n",
    "print (\"E_bad_conductor_y (x) =\")\n",
    "display(Math(latex(E_bad_conductor_y (x))))"
   ]
  },
  {
   "cell_type": "code",
   "execution_count": 11,
   "metadata": {},
   "outputs": [
    {
     "name": "stdout",
     "output_type": "stream",
     "text": [
      "H_inner_vacuum_y (x) \n"
     ]
    },
    {
     "data": {
      "text/latex": [
       "$\\displaystyle \\frac{{\\left(i \\, \\mathit{B2}_{z} \\kappa \\cos\\left(\\kappa x\\right) - i \\, \\mathit{B1}_{z} \\kappa \\sin\\left(\\kappa x\\right) + {\\left(\\mathit{B1}_{x} \\cos\\left(\\kappa x\\right) + \\mathit{B2}_{x} \\sin\\left(\\kappa x\\right)\\right)} k_{z}\\right)} c}{\\omega}$"
      ],
      "text/plain": [
       "<IPython.core.display.Math object>"
      ]
     },
     "metadata": {},
     "output_type": "display_data"
    },
    {
     "name": "stdout",
     "output_type": "stream",
     "text": [
      "H_bad_conductor_y (x) =\n"
     ]
    },
    {
     "data": {
      "text/latex": [
       "$\\displaystyle \\frac{{\\left(\\mathit{A2}_{x} k_{z} e^{\\left(i \\, \\mathit{ks}_{x} x\\right)} - \\mathit{A2}_{z} \\mathit{ks}_{x} e^{\\left(i \\, \\mathit{ks}_{x} x\\right)}\\right)} c}{\\mu \\omega}$"
      ],
      "text/plain": [
       "<IPython.core.display.Math object>"
      ]
     },
     "metadata": {},
     "output_type": "display_data"
    }
   ],
   "source": [
    "# выражения для магнитного поля в вакууме внутри резонатора и в проводящем металле с потерями\n",
    "# rot E = -1/c dB/dt\n",
    "# H_y = c / (I * omega * mu) * (diff(E_x, z) - diff(E_z, x))\n",
    "\n",
    "H_inner_vacuum_y  (x) = c / (I * omega)      * (I*k_z*E_inner_vacuum_x  (x) - diff(E_inner_vacuum_z  (x), x))\n",
    "H_bad_conductor_y (x) = c / (I * omega * mu) * (I*k_z*E_bad_conductor_x (x) - diff(E_bad_conductor_z (x), x))\n",
    "\n",
    "H_inner_vacuum_y  (x) = c / (omega)      * (k_z*E_inner_vacuum_x  (x) + I * diff(E_inner_vacuum_z  (x), x))\n",
    "H_bad_conductor_y (x) = c / (omega * mu) * (k_z*E_bad_conductor_x (x) + I * diff(E_bad_conductor_z (x), x))\n",
    "\n",
    "print (\"H_inner_vacuum_y (x) \")\n",
    "display(Math(latex(H_inner_vacuum_y (x).simplify())))\n",
    "print (\"H_bad_conductor_y (x) =\")\n",
    "display(Math(latex(H_bad_conductor_y (x))))"
   ]
  },
  {
   "cell_type": "code",
   "execution_count": 12,
   "metadata": {},
   "outputs": [
    {
     "name": "stdout",
     "output_type": "stream",
     "text": [
      "H_inner_vacuum_x (x) \n"
     ]
    },
    {
     "data": {
      "text/latex": [
       "$\\displaystyle -\\frac{i \\, {\\left(i \\, {\\left(\\mathit{B1}_{z} \\cos\\left(\\kappa x\\right) + \\mathit{B2}_{z} \\sin\\left(\\kappa x\\right)\\right)} k_{y} - i \\, {\\left(\\mathit{B1}_{y} \\cos\\left(\\kappa x\\right) + \\mathit{B2}_{y} \\sin\\left(\\kappa x\\right)\\right)} k_{z}\\right)} c}{\\omega}$"
      ],
      "text/plain": [
       "<IPython.core.display.Math object>"
      ]
     },
     "metadata": {},
     "output_type": "display_data"
    },
    {
     "name": "stdout",
     "output_type": "stream",
     "text": [
      "H_bad_conductor_x (x) =\n"
     ]
    },
    {
     "data": {
      "text/latex": [
       "$\\displaystyle -\\frac{i \\, {\\left(i \\, \\mathit{A2}_{z} k_{y} e^{\\left(i \\, \\mathit{ks}_{x} x\\right)} - i \\, \\mathit{A2}_{y} k_{z} e^{\\left(i \\, \\mathit{ks}_{x} x\\right)}\\right)} c}{\\mu \\omega}$"
      ],
      "text/plain": [
       "<IPython.core.display.Math object>"
      ]
     },
     "metadata": {},
     "output_type": "display_data"
    }
   ],
   "source": [
    "# выражения для магнитного поля в вакууме внутри резонатора и в проводящем металле с потерями\n",
    "# rot E = -1/c dB/dt\n",
    "# H_x = c / (I * omega * mu) * (diff(E_z, y) - diff(E_y, z))\n",
    "\n",
    "H_inner_vacuum_x  (x) = c / (I * omega)      * (I*k_y*E_inner_vacuum_z  (x) - I*k_z*E_inner_vacuum_y  (x))\n",
    "H_bad_conductor_x (x) = c / (I * omega * mu) * (I*k_y*E_bad_conductor_z (x) - I*k_z*E_bad_conductor_y (x))\n",
    "\n",
    "print (\"H_inner_vacuum_x (x) \")\n",
    "display(Math(latex(H_inner_vacuum_x (x).simplify())))\n",
    "print (\"H_bad_conductor_x (x) =\")\n",
    "display(Math(latex(H_bad_conductor_x (x))))"
   ]
  },
  {
   "cell_type": "code",
   "execution_count": 13,
   "metadata": {},
   "outputs": [
    {
     "name": "stdout",
     "output_type": "stream",
     "text": [
      "H_inner_vacuum_z (x) \n"
     ]
    },
    {
     "data": {
      "text/latex": [
       "$\\displaystyle -\\frac{i \\, {\\left(\\mathit{B2}_{y} \\kappa \\cos\\left(\\kappa x\\right) - \\mathit{B1}_{y} \\kappa \\sin\\left(\\kappa x\\right) - i \\, {\\left(\\mathit{B1}_{x} \\cos\\left(\\kappa x\\right) + \\mathit{B2}_{x} \\sin\\left(\\kappa x\\right)\\right)} k_{y}\\right)} c}{\\omega}$"
      ],
      "text/plain": [
       "<IPython.core.display.Math object>"
      ]
     },
     "metadata": {},
     "output_type": "display_data"
    },
    {
     "name": "stdout",
     "output_type": "stream",
     "text": [
      "H_bad_conductor_z (x) =\n"
     ]
    },
    {
     "data": {
      "text/latex": [
       "$\\displaystyle -\\frac{i \\, {\\left(-i \\, \\mathit{A2}_{x} k_{y} e^{\\left(i \\, \\mathit{ks}_{x} x\\right)} + i \\, \\mathit{A2}_{y} \\mathit{ks}_{x} e^{\\left(i \\, \\mathit{ks}_{x} x\\right)}\\right)} c}{\\mu \\omega}$"
      ],
      "text/plain": [
       "<IPython.core.display.Math object>"
      ]
     },
     "metadata": {},
     "output_type": "display_data"
    }
   ],
   "source": [
    "# выражения для магнитного поля в вакууме внутри резонатора и в проводящем металле с потерями\n",
    "# rot E = -1/c dB/dt\n",
    "# H_z = c / (I * omega * mu) * (diff(E_y, x) - diff(E_x, y))\n",
    "\n",
    "H_inner_vacuum_z  (x) = c / (I * omega)      * (diff(E_inner_vacuum_y  (x), x) - I*k_y*E_inner_vacuum_x  (x))\n",
    "H_bad_conductor_z (x) = c / (I * omega * mu) * (diff(E_bad_conductor_y (x), x) - I*k_y*E_bad_conductor_x (x))\n",
    "\n",
    "print (\"H_inner_vacuum_z (x) \")\n",
    "display(Math(latex(H_inner_vacuum_z (x).simplify())))\n",
    "print (\"H_bad_conductor_z (x) =\")\n",
    "display(Math(latex(H_bad_conductor_z (x))))"
   ]
  },
  {
   "cell_type": "code",
   "execution_count": 14,
   "metadata": {},
   "outputs": [],
   "source": [
    "if simplify_epsilon_0_mu_1:\n",
    "    H_bad_conductor_y (x) = H_bad_conductor_y (x).subs(mu == 1)\n",
    "    H_bad_conductor_x (x) = H_bad_conductor_x (x).subs(mu == 1)\n",
    "    H_bad_conductor_z (x) = H_bad_conductor_z (x).subs(mu == 1)"
   ]
  },
  {
   "cell_type": "code",
   "execution_count": 15,
   "metadata": {},
   "outputs": [
    {
     "name": "stdout",
     "output_type": "stream",
     "text": [
      "rot_H_inner_vacuum_x =\n"
     ]
    },
    {
     "data": {
      "text/latex": [
       "$\\displaystyle \\frac{{\\left(\\mathit{B2}_{y} \\kappa \\cos\\left(\\kappa x\\right) - \\mathit{B1}_{y} \\kappa \\sin\\left(\\kappa x\\right) - i \\, {\\left(\\mathit{B1}_{x} \\cos\\left(\\kappa x\\right) + \\mathit{B2}_{x} \\sin\\left(\\kappa x\\right)\\right)} k_{y}\\right)} c k_{y}}{\\omega} - \\frac{i \\, {\\left(i \\, \\mathit{B2}_{z} \\kappa \\cos\\left(\\kappa x\\right) - i \\, \\mathit{B1}_{z} \\kappa \\sin\\left(\\kappa x\\right) + {\\left(\\mathit{B1}_{x} \\cos\\left(\\kappa x\\right) + \\mathit{B2}_{x} \\sin\\left(\\kappa x\\right)\\right)} k_{z}\\right)} c k_{z}}{\\omega}$"
      ],
      "text/plain": [
       "<IPython.core.display.Math object>"
      ]
     },
     "metadata": {},
     "output_type": "display_data"
    },
    {
     "name": "stdout",
     "output_type": "stream",
     "text": [
      "rot_H_bad_conductor_x =\n"
     ]
    },
    {
     "data": {
      "text/latex": [
       "$\\displaystyle \\frac{{\\left(-i \\, \\mathit{A2}_{x} k_{y} e^{\\left(i \\, \\mathit{ks}_{x} x\\right)} + i \\, \\mathit{A2}_{y} \\mathit{ks}_{x} e^{\\left(i \\, \\mathit{ks}_{x} x\\right)}\\right)} c k_{y}}{\\mu \\omega} - \\frac{i \\, {\\left(\\mathit{A2}_{x} k_{z} e^{\\left(i \\, \\mathit{ks}_{x} x\\right)} - \\mathit{A2}_{z} \\mathit{ks}_{x} e^{\\left(i \\, \\mathit{ks}_{x} x\\right)}\\right)} c k_{z}}{\\mu \\omega}$"
      ],
      "text/plain": [
       "<IPython.core.display.Math object>"
      ]
     },
     "metadata": {},
     "output_type": "display_data"
    },
    {
     "name": "stdout",
     "output_type": "stream",
     "text": [
      "rot_H_inner_vacuum_y =\n"
     ]
    },
    {
     "data": {
      "text/latex": [
       "$\\displaystyle \\frac{{\\left(i \\, {\\left(\\mathit{B1}_{z} \\cos\\left(\\kappa x\\right) + \\mathit{B2}_{z} \\sin\\left(\\kappa x\\right)\\right)} k_{y} - i \\, {\\left(\\mathit{B1}_{y} \\cos\\left(\\kappa x\\right) + \\mathit{B2}_{y} \\sin\\left(\\kappa x\\right)\\right)} k_{z}\\right)} c k_{z}}{\\omega} - \\frac{i \\, {\\left(\\mathit{B1}_{y} \\kappa^{2} \\cos\\left(\\kappa x\\right) + \\mathit{B2}_{y} \\kappa^{2} \\sin\\left(\\kappa x\\right) + i \\, {\\left(\\mathit{B2}_{x} \\kappa \\cos\\left(\\kappa x\\right) - \\mathit{B1}_{x} \\kappa \\sin\\left(\\kappa x\\right)\\right)} k_{y}\\right)} c}{\\omega}$"
      ],
      "text/plain": [
       "<IPython.core.display.Math object>"
      ]
     },
     "metadata": {},
     "output_type": "display_data"
    },
    {
     "name": "stdout",
     "output_type": "stream",
     "text": [
      "rot_H_bad_conductor_y =\n"
     ]
    },
    {
     "data": {
      "text/latex": [
       "$\\displaystyle \\frac{{\\left(i \\, \\mathit{A2}_{z} k_{y} e^{\\left(i \\, \\mathit{ks}_{x} x\\right)} - i \\, \\mathit{A2}_{y} k_{z} e^{\\left(i \\, \\mathit{ks}_{x} x\\right)}\\right)} c k_{z}}{\\mu \\omega} + \\frac{i \\, {\\left(\\mathit{A2}_{x} k_{y} \\mathit{ks}_{x} e^{\\left(i \\, \\mathit{ks}_{x} x\\right)} - \\mathit{A2}_{y} \\mathit{ks}_{x}^{2} e^{\\left(i \\, \\mathit{ks}_{x} x\\right)}\\right)} c}{\\mu \\omega}$"
      ],
      "text/plain": [
       "<IPython.core.display.Math object>"
      ]
     },
     "metadata": {},
     "output_type": "display_data"
    },
    {
     "name": "stdout",
     "output_type": "stream",
     "text": [
      "rot_H_inner_vacuum_z =\n"
     ]
    },
    {
     "data": {
      "text/latex": [
       "$\\displaystyle -\\frac{{\\left(i \\, {\\left(\\mathit{B1}_{z} \\cos\\left(\\kappa x\\right) + \\mathit{B2}_{z} \\sin\\left(\\kappa x\\right)\\right)} k_{y} - i \\, {\\left(\\mathit{B1}_{y} \\cos\\left(\\kappa x\\right) + \\mathit{B2}_{y} \\sin\\left(\\kappa x\\right)\\right)} k_{z}\\right)} c k_{y}}{\\omega} + \\frac{{\\left(-i \\, \\mathit{B1}_{z} \\kappa^{2} \\cos\\left(\\kappa x\\right) - i \\, \\mathit{B2}_{z} \\kappa^{2} \\sin\\left(\\kappa x\\right) + {\\left(\\mathit{B2}_{x} \\kappa \\cos\\left(\\kappa x\\right) - \\mathit{B1}_{x} \\kappa \\sin\\left(\\kappa x\\right)\\right)} k_{z}\\right)} c}{\\omega}$"
      ],
      "text/plain": [
       "<IPython.core.display.Math object>"
      ]
     },
     "metadata": {},
     "output_type": "display_data"
    },
    {
     "name": "stdout",
     "output_type": "stream",
     "text": [
      "rot_H_bad_conductor_z =\n"
     ]
    },
    {
     "data": {
      "text/latex": [
       "$\\displaystyle -\\frac{{\\left(i \\, \\mathit{A2}_{z} k_{y} e^{\\left(i \\, \\mathit{ks}_{x} x\\right)} - i \\, \\mathit{A2}_{y} k_{z} e^{\\left(i \\, \\mathit{ks}_{x} x\\right)}\\right)} c k_{y}}{\\mu \\omega} + \\frac{{\\left(i \\, \\mathit{A2}_{x} k_{z} \\mathit{ks}_{x} e^{\\left(i \\, \\mathit{ks}_{x} x\\right)} - i \\, \\mathit{A2}_{z} \\mathit{ks}_{x}^{2} e^{\\left(i \\, \\mathit{ks}_{x} x\\right)}\\right)} c}{\\mu \\omega}$"
      ],
      "text/plain": [
       "<IPython.core.display.Math object>"
      ]
     },
     "metadata": {},
     "output_type": "display_data"
    }
   ],
   "source": [
    "# уравнение Максвелла для тока смещения\n",
    "# rot_H   = - I * epsilon * omega / c * E\n",
    "# rot_H_x = diff(H_z, y) - diff(H_y, z)\n",
    "# rot_H_y = diff(H_x, z) - diff(H_z, x)\n",
    "# rot_H_z = diff(H_y, x) - diff(H_x, y)\n",
    "\n",
    "rot_H_inner_vacuum_x  = I * k_y * H_inner_vacuum_z  (x) - I * k_z * H_inner_vacuum_y  (x)\n",
    "rot_H_bad_conductor_x = I * k_y * H_bad_conductor_z (x) - I * k_z * H_bad_conductor_y (x)\n",
    "\n",
    "rot_H_inner_vacuum_y  = I * k_z * H_inner_vacuum_x  (x) - diff(H_inner_vacuum_z  (x), x)\n",
    "rot_H_bad_conductor_y = I * k_z * H_bad_conductor_x (x) - diff(H_bad_conductor_z (x), x)\n",
    "\n",
    "rot_H_inner_vacuum_z  = diff(H_inner_vacuum_y  (x), x) - I * k_y * H_inner_vacuum_x  (x)\n",
    "rot_H_bad_conductor_z = diff(H_bad_conductor_y (x), x) - I * k_y * H_bad_conductor_x (x)\n",
    "\n",
    "print (\"rot_H_inner_vacuum_x =\")\n",
    "display(Math(latex(rot_H_inner_vacuum_x)))\n",
    "print (\"rot_H_bad_conductor_x =\")\n",
    "display(Math(latex(rot_H_bad_conductor_x)))\n",
    "\n",
    "print (\"rot_H_inner_vacuum_y =\")\n",
    "display(Math(latex(rot_H_inner_vacuum_y)))\n",
    "print (\"rot_H_bad_conductor_y =\")\n",
    "display(Math(latex(rot_H_bad_conductor_y)))\n",
    "\n",
    "print (\"rot_H_inner_vacuum_z =\")\n",
    "display(Math(latex(rot_H_inner_vacuum_z)))\n",
    "print (\"rot_H_bad_conductor_z =\")\n",
    "display(Math(latex(rot_H_bad_conductor_z)))"
   ]
  },
  {
   "cell_type": "code",
   "execution_count": 16,
   "metadata": {},
   "outputs": [],
   "source": [
    "eq_rot_H_inner_vacuum_x  = rot_H_inner_vacuum_x  == -I * omega / c * E_inner_vacuum_x (x)\n",
    "eq_rot_H_inner_vacuum_y  = rot_H_inner_vacuum_y  == -I * omega / c * E_inner_vacuum_y (x)\n",
    "eq_rot_H_inner_vacuum_z  = rot_H_inner_vacuum_z  == -I * omega / c * E_inner_vacuum_z (x)\n",
    "\n",
    "eq_rot_H_bad_conductor_x = rot_H_bad_conductor_x == -I * omega / c * epsilon * E_bad_conductor_x (x)\n",
    "eq_rot_H_bad_conductor_y = rot_H_bad_conductor_y == -I * omega / c * epsilon * E_bad_conductor_y (x)\n",
    "eq_rot_H_bad_conductor_z = rot_H_bad_conductor_z == -I * omega / c * epsilon * E_bad_conductor_z (x)"
   ]
  },
  {
   "cell_type": "code",
   "execution_count": 17,
   "metadata": {},
   "outputs": [],
   "source": [
    "if simplify_epsilon_0_mu_1:\n",
    "    eq_rot_H_bad_conductor_x = eq_rot_H_bad_conductor_x.subs(epsilon == 0)\n",
    "    eq_rot_H_bad_conductor_y = eq_rot_H_bad_conductor_y.subs(epsilon == 0)\n",
    "    eq_rot_H_bad_conductor_z = eq_rot_H_bad_conductor_z.subs(epsilon == 0)"
   ]
  },
  {
   "cell_type": "code",
   "execution_count": 18,
   "metadata": {},
   "outputs": [
    {
     "name": "stdout",
     "output_type": "stream",
     "text": [
      "eq_rot_H_inner_vacuum_x =\n"
     ]
    },
    {
     "data": {
      "text/latex": [
       "$\\displaystyle \\frac{{\\left(\\mathit{B2}_{y} \\kappa \\cos\\left(\\kappa x\\right) - \\mathit{B1}_{y} \\kappa \\sin\\left(\\kappa x\\right) - i \\, {\\left(\\mathit{B1}_{x} \\cos\\left(\\kappa x\\right) + \\mathit{B2}_{x} \\sin\\left(\\kappa x\\right)\\right)} k_{y}\\right)} c k_{y}}{\\omega} - \\frac{i \\, {\\left(i \\, \\mathit{B2}_{z} \\kappa \\cos\\left(\\kappa x\\right) - i \\, \\mathit{B1}_{z} \\kappa \\sin\\left(\\kappa x\\right) + {\\left(\\mathit{B1}_{x} \\cos\\left(\\kappa x\\right) + \\mathit{B2}_{x} \\sin\\left(\\kappa x\\right)\\right)} k_{z}\\right)} c k_{z}}{\\omega} = -\\frac{i \\, {\\left(\\mathit{B1}_{x} \\cos\\left(\\kappa x\\right) + \\mathit{B2}_{x} \\sin\\left(\\kappa x\\right)\\right)} \\omega}{c}$"
      ],
      "text/plain": [
       "<IPython.core.display.Math object>"
      ]
     },
     "metadata": {},
     "output_type": "display_data"
    },
    {
     "name": "stdout",
     "output_type": "stream",
     "text": [
      "eq_rot_H_inner_vacuum_y =\n"
     ]
    },
    {
     "data": {
      "text/latex": [
       "$\\displaystyle \\frac{{\\left(i \\, {\\left(\\mathit{B1}_{z} \\cos\\left(\\kappa x\\right) + \\mathit{B2}_{z} \\sin\\left(\\kappa x\\right)\\right)} k_{y} - i \\, {\\left(\\mathit{B1}_{y} \\cos\\left(\\kappa x\\right) + \\mathit{B2}_{y} \\sin\\left(\\kappa x\\right)\\right)} k_{z}\\right)} c k_{z}}{\\omega} - \\frac{i \\, {\\left(\\mathit{B1}_{y} \\kappa^{2} \\cos\\left(\\kappa x\\right) + \\mathit{B2}_{y} \\kappa^{2} \\sin\\left(\\kappa x\\right) + i \\, {\\left(\\mathit{B2}_{x} \\kappa \\cos\\left(\\kappa x\\right) - \\mathit{B1}_{x} \\kappa \\sin\\left(\\kappa x\\right)\\right)} k_{y}\\right)} c}{\\omega} = -\\frac{i \\, {\\left(\\mathit{B1}_{y} \\cos\\left(\\kappa x\\right) + \\mathit{B2}_{y} \\sin\\left(\\kappa x\\right)\\right)} \\omega}{c}$"
      ],
      "text/plain": [
       "<IPython.core.display.Math object>"
      ]
     },
     "metadata": {},
     "output_type": "display_data"
    },
    {
     "name": "stdout",
     "output_type": "stream",
     "text": [
      "eq_rot_H_inner_vacuum_z =\n"
     ]
    },
    {
     "data": {
      "text/latex": [
       "$\\displaystyle -\\frac{{\\left(i \\, {\\left(\\mathit{B1}_{z} \\cos\\left(\\kappa x\\right) + \\mathit{B2}_{z} \\sin\\left(\\kappa x\\right)\\right)} k_{y} - i \\, {\\left(\\mathit{B1}_{y} \\cos\\left(\\kappa x\\right) + \\mathit{B2}_{y} \\sin\\left(\\kappa x\\right)\\right)} k_{z}\\right)} c k_{y}}{\\omega} + \\frac{{\\left(-i \\, \\mathit{B1}_{z} \\kappa^{2} \\cos\\left(\\kappa x\\right) - i \\, \\mathit{B2}_{z} \\kappa^{2} \\sin\\left(\\kappa x\\right) + {\\left(\\mathit{B2}_{x} \\kappa \\cos\\left(\\kappa x\\right) - \\mathit{B1}_{x} \\kappa \\sin\\left(\\kappa x\\right)\\right)} k_{z}\\right)} c}{\\omega} = -\\frac{i \\, {\\left(\\mathit{B1}_{z} \\cos\\left(\\kappa x\\right) + \\mathit{B2}_{z} \\sin\\left(\\kappa x\\right)\\right)} \\omega}{c}$"
      ],
      "text/plain": [
       "<IPython.core.display.Math object>"
      ]
     },
     "metadata": {},
     "output_type": "display_data"
    }
   ],
   "source": [
    "print (\"eq_rot_H_inner_vacuum_x =\")\n",
    "display(Math(latex(eq_rot_H_inner_vacuum_x.simplify())))\n",
    "\n",
    "print (\"eq_rot_H_inner_vacuum_y =\")\n",
    "display(Math(latex(eq_rot_H_inner_vacuum_y.simplify())))\n",
    "\n",
    "print (\"eq_rot_H_inner_vacuum_z =\")\n",
    "display(Math(latex(eq_rot_H_inner_vacuum_z.simplify())))"
   ]
  },
  {
   "cell_type": "code",
   "execution_count": 19,
   "metadata": {},
   "outputs": [
    {
     "name": "stdout",
     "output_type": "stream",
     "text": [
      "eq_rot_H_bad_conductor_x =\n"
     ]
    },
    {
     "data": {
      "text/latex": [
       "$\\displaystyle \\frac{{\\left(-i \\, \\mathit{A2}_{x} k_{y} e^{\\left(i \\, \\mathit{ks}_{x} x\\right)} + i \\, \\mathit{A2}_{y} \\mathit{ks}_{x} e^{\\left(i \\, \\mathit{ks}_{x} x\\right)}\\right)} c k_{y}}{\\mu \\omega} - \\frac{i \\, {\\left(\\mathit{A2}_{x} k_{z} e^{\\left(i \\, \\mathit{ks}_{x} x\\right)} - \\mathit{A2}_{z} \\mathit{ks}_{x} e^{\\left(i \\, \\mathit{ks}_{x} x\\right)}\\right)} c k_{z}}{\\mu \\omega} = -\\frac{i \\, \\mathit{A2}_{x} \\epsilon \\omega e^{\\left(i \\, \\mathit{ks}_{x} x\\right)}}{c}$"
      ],
      "text/plain": [
       "<IPython.core.display.Math object>"
      ]
     },
     "metadata": {},
     "output_type": "display_data"
    },
    {
     "name": "stdout",
     "output_type": "stream",
     "text": [
      "eq_rot_H_bad_conductor_y =\n"
     ]
    },
    {
     "data": {
      "text/latex": [
       "$\\displaystyle \\frac{{\\left(i \\, \\mathit{A2}_{z} k_{y} e^{\\left(i \\, \\mathit{ks}_{x} x\\right)} - i \\, \\mathit{A2}_{y} k_{z} e^{\\left(i \\, \\mathit{ks}_{x} x\\right)}\\right)} c k_{z}}{\\mu \\omega} + \\frac{i \\, {\\left(\\mathit{A2}_{x} k_{y} \\mathit{ks}_{x} e^{\\left(i \\, \\mathit{ks}_{x} x\\right)} - \\mathit{A2}_{y} \\mathit{ks}_{x}^{2} e^{\\left(i \\, \\mathit{ks}_{x} x\\right)}\\right)} c}{\\mu \\omega} = -\\frac{i \\, \\mathit{A2}_{y} \\epsilon \\omega e^{\\left(i \\, \\mathit{ks}_{x} x\\right)}}{c}$"
      ],
      "text/plain": [
       "<IPython.core.display.Math object>"
      ]
     },
     "metadata": {},
     "output_type": "display_data"
    },
    {
     "name": "stdout",
     "output_type": "stream",
     "text": [
      "eq_rot_H_bad_conductor_z =\n"
     ]
    },
    {
     "data": {
      "text/latex": [
       "$\\displaystyle -\\frac{{\\left(i \\, \\mathit{A2}_{z} k_{y} e^{\\left(i \\, \\mathit{ks}_{x} x\\right)} - i \\, \\mathit{A2}_{y} k_{z} e^{\\left(i \\, \\mathit{ks}_{x} x\\right)}\\right)} c k_{y}}{\\mu \\omega} + \\frac{{\\left(i \\, \\mathit{A2}_{x} k_{z} \\mathit{ks}_{x} e^{\\left(i \\, \\mathit{ks}_{x} x\\right)} - i \\, \\mathit{A2}_{z} \\mathit{ks}_{x}^{2} e^{\\left(i \\, \\mathit{ks}_{x} x\\right)}\\right)} c}{\\mu \\omega} = -\\frac{i \\, \\mathit{A2}_{z} \\epsilon \\omega e^{\\left(i \\, \\mathit{ks}_{x} x\\right)}}{c}$"
      ],
      "text/plain": [
       "<IPython.core.display.Math object>"
      ]
     },
     "metadata": {},
     "output_type": "display_data"
    }
   ],
   "source": [
    "print (\"eq_rot_H_bad_conductor_x =\")\n",
    "display(Math(latex(eq_rot_H_bad_conductor_x.simplify())))\n",
    "\n",
    "print (\"eq_rot_H_bad_conductor_y =\")\n",
    "display(Math(latex(eq_rot_H_bad_conductor_y.simplify())))\n",
    "\n",
    "print (\"eq_rot_H_bad_conductor_z =\")\n",
    "display(Math(latex(eq_rot_H_bad_conductor_z.simplify())))"
   ]
  },
  {
   "cell_type": "code",
   "execution_count": 20,
   "metadata": {},
   "outputs": [
    {
     "data": {
      "text/latex": [
       "$\\displaystyle \\left[\\mathit{B1}_{x} = \\frac{\\mathit{B1}_{y} c^{2} k_{y} \\kappa \\sin\\left(\\kappa x\\right) - {\\left(\\mathit{B2}_{y} c^{2} k_{y} + \\mathit{B2}_{z} c^{2} k_{z}\\right)} \\kappa \\cos\\left(\\kappa x\\right)}{{\\left(-i \\, c^{2} k_{y}^{2} - i \\, c^{2} k_{z}^{2} + i \\, \\omega^{2}\\right)} \\cos\\left(\\kappa x\\right)}\\right]$"
      ],
      "text/plain": [
       "<IPython.core.display.Math object>"
      ]
     },
     "metadata": {},
     "output_type": "display_data"
    }
   ],
   "source": [
    "res = solve(eq_rot_H_inner_vacuum_x.subs(B1_z == 0, B2_x == 0), B1_x)\n",
    "display(Math(latex(res)))"
   ]
  },
  {
   "cell_type": "code",
   "execution_count": 21,
   "metadata": {},
   "outputs": [
    {
     "data": {
      "text/latex": [
       "$\\displaystyle \\left[\\kappa = \\frac{\\sqrt{-c^{2} k_{y}^{2} - c^{2} k_{z}^{2} + \\omega^{2}}}{c}\\right]$"
      ],
      "text/plain": [
       "<IPython.core.display.Math object>"
      ]
     },
     "metadata": {},
     "output_type": "display_data"
    }
   ],
   "source": [
    "res = solve(eq_kappa_inner_vacuum, kappa)\n",
    "display(Math(latex(res)))"
   ]
  },
  {
   "cell_type": "code",
   "execution_count": 22,
   "metadata": {},
   "outputs": [
    {
     "data": {
      "text/latex": [
       "$\\displaystyle \\left[\\mathit{B1}_{x} = \\frac{i \\, \\mathit{B1}_{y} c^{2} k_{y} k_{z} \\cos\\left(\\kappa x\\right) + {\\left(-i \\, \\mathit{B2}_{z} c^{2} k_{y}^{2} + i \\, \\mathit{B2}_{y} c^{2} k_{y} k_{z} - i \\, \\mathit{B2}_{z} c^{2} \\kappa^{2} + i \\, \\mathit{B2}_{z} \\omega^{2}\\right)} \\sin\\left(\\kappa x\\right)}{c^{2} k_{z} \\kappa \\sin\\left(\\kappa x\\right)}\\right]$"
      ],
      "text/plain": [
       "<IPython.core.display.Math object>"
      ]
     },
     "metadata": {},
     "output_type": "display_data"
    }
   ],
   "source": [
    "res = solve( eq_rot_H_inner_vacuum_z.subs(B1_z == 0, B2_x == 0), B1_x)\n",
    "display(Math(latex(res)))"
   ]
  },
  {
   "cell_type": "code",
   "execution_count": 23,
   "metadata": {},
   "outputs": [
    {
     "data": {
      "text/plain": [
       "(A2_z*e^(I*a*ks_x), A2_x*e^(I*a*ks_x))"
      ]
     },
     "execution_count": 23,
     "metadata": {},
     "output_type": "execute_result"
    }
   ],
   "source": [
    " E_bad_conductor_z (a), E_bad_conductor_x (a)"
   ]
  },
  {
   "cell_type": "code",
   "execution_count": 24,
   "metadata": {},
   "outputs": [
    {
     "data": {
      "text/plain": [
       "A2_z*e^(I*ks_x*x)"
      ]
     },
     "execution_count": 24,
     "metadata": {},
     "output_type": "execute_result"
    }
   ],
   "source": [
    "E_bad_conductor_z (x)"
   ]
  },
  {
   "cell_type": "code",
   "execution_count": 25,
   "metadata": {},
   "outputs": [
    {
     "name": "stdout",
     "output_type": "stream",
     "text": [
      "eqEz_0 = \n"
     ]
    },
    {
     "data": {
      "text/latex": [
       "$\\displaystyle \\mathit{B1}_{z} = 0$"
      ],
      "text/plain": [
       "<IPython.core.display.Math object>"
      ]
     },
     "metadata": {},
     "output_type": "display_data"
    },
    {
     "name": "stdout",
     "output_type": "stream",
     "text": [
      "eqEy_0 = \n"
     ]
    },
    {
     "data": {
      "text/latex": [
       "$\\displaystyle \\mathit{B1}_{y} = 0$"
      ],
      "text/plain": [
       "<IPython.core.display.Math object>"
      ]
     },
     "metadata": {},
     "output_type": "display_data"
    }
   ],
   "source": [
    "# граничные условия на границе идеального проводника и вакуума внутри резонатора\n",
    "# тангенциальная компонента электрического поля\n",
    "eqEz_0  = E_inner_vacuum_z (0) == 0\n",
    "eqEy_0  = E_inner_vacuum_y (0) == 0\n",
    "\n",
    "print (\"eqEz_0 = \")\n",
    "display(Math(latex(eqEz_0)))\n",
    "print (\"eqEy_0 = \")\n",
    "display(Math(latex(eqEy_0)))"
   ]
  },
  {
   "cell_type": "code",
   "execution_count": 26,
   "metadata": {},
   "outputs": [
    {
     "name": "stdout",
     "output_type": "stream",
     "text": [
      "eqEz_a = \n"
     ]
    },
    {
     "data": {
      "text/latex": [
       "$\\displaystyle \\mathit{B1}_{z} \\cos\\left(a \\kappa\\right) + \\mathit{B2}_{z} \\sin\\left(a \\kappa\\right) = \\mathit{A2}_{z} e^{\\left(i \\, a \\mathit{ks}_{x}\\right)}$"
      ],
      "text/plain": [
       "<IPython.core.display.Math object>"
      ]
     },
     "metadata": {},
     "output_type": "display_data"
    },
    {
     "name": "stdout",
     "output_type": "stream",
     "text": [
      "eqEy_a = \n"
     ]
    },
    {
     "data": {
      "text/latex": [
       "$\\displaystyle \\mathit{B1}_{y} \\cos\\left(a \\kappa\\right) + \\mathit{B2}_{y} \\sin\\left(a \\kappa\\right) = \\mathit{A2}_{y} e^{\\left(i \\, a \\mathit{ks}_{x}\\right)}$"
      ],
      "text/plain": [
       "<IPython.core.display.Math object>"
      ]
     },
     "metadata": {},
     "output_type": "display_data"
    }
   ],
   "source": [
    "# граничные условия на границе вакуума внутри резонатора и проводящего металла с потерями\n",
    "# тангенциальная компонента электрического поля\n",
    "eqEz_a  = E_inner_vacuum_z (a) == E_bad_conductor_z (a)\n",
    "eqEy_a  = E_inner_vacuum_y (a) == E_bad_conductor_y (a)\n",
    "\n",
    "print (\"eqEz_a = \")\n",
    "display(Math(latex(eqEz_a)))\n",
    "print (\"eqEy_a = \")\n",
    "display(Math(latex(eqEy_a)))"
   ]
  },
  {
   "cell_type": "code",
   "execution_count": 27,
   "metadata": {},
   "outputs": [
    {
     "name": "stdout",
     "output_type": "stream",
     "text": [
      "eqDx_a =\n"
     ]
    },
    {
     "data": {
      "text/latex": [
       "$\\displaystyle \\mathit{B1}_{x} \\cos\\left(a \\kappa\\right) + \\mathit{B2}_{x} \\sin\\left(a \\kappa\\right) = \\mathit{A2}_{x} \\epsilon e^{\\left(i \\, a \\mathit{ks}_{x}\\right)}$"
      ],
      "text/plain": [
       "<IPython.core.display.Math object>"
      ]
     },
     "metadata": {},
     "output_type": "display_data"
    }
   ],
   "source": [
    "# нормальная компонента электрического смещения\n",
    "eqDx_a  = E_inner_vacuum_x (a) == E_bad_conductor_x (a) * epsilon\n",
    "\n",
    "print (\"eqDx_a =\")\n",
    "display(Math(latex(eqDx_a)))"
   ]
  },
  {
   "cell_type": "code",
   "execution_count": 28,
   "metadata": {},
   "outputs": [
    {
     "name": "stdout",
     "output_type": "stream",
     "text": [
      "eqHz_a =\n"
     ]
    },
    {
     "data": {
      "text/latex": [
       "$\\displaystyle -\\frac{i \\, {\\left(-i \\, \\mathit{A2}_{x} k_{y} e^{\\left(i \\, a \\mathit{ks}_{x}\\right)} + i \\, \\mathit{A2}_{y} \\mathit{ks}_{x} e^{\\left(i \\, a \\mathit{ks}_{x}\\right)}\\right)} c}{\\mu \\omega} = -\\frac{i \\, {\\left(\\mathit{B2}_{y} \\kappa \\cos\\left(a \\kappa\\right) - \\mathit{B1}_{y} \\kappa \\sin\\left(a \\kappa\\right) - i \\, {\\left(\\mathit{B1}_{x} \\cos\\left(a \\kappa\\right) + \\mathit{B2}_{x} \\sin\\left(a \\kappa\\right)\\right)} k_{y}\\right)} c}{\\omega}$"
      ],
      "text/plain": [
       "<IPython.core.display.Math object>"
      ]
     },
     "metadata": {},
     "output_type": "display_data"
    },
    {
     "name": "stdout",
     "output_type": "stream",
     "text": [
      "eqHy_a =\n"
     ]
    },
    {
     "data": {
      "text/latex": [
       "$\\displaystyle \\frac{{\\left(\\mathit{A2}_{x} k_{z} e^{\\left(i \\, a \\mathit{ks}_{x}\\right)} - \\mathit{A2}_{z} \\mathit{ks}_{x} e^{\\left(i \\, a \\mathit{ks}_{x}\\right)}\\right)} c}{\\mu \\omega} = \\frac{{\\left(i \\, \\mathit{B2}_{z} \\kappa \\cos\\left(a \\kappa\\right) - i \\, \\mathit{B1}_{z} \\kappa \\sin\\left(a \\kappa\\right) + {\\left(\\mathit{B1}_{x} \\cos\\left(a \\kappa\\right) + \\mathit{B2}_{x} \\sin\\left(a \\kappa\\right)\\right)} k_{z}\\right)} c}{\\omega}$"
      ],
      "text/plain": [
       "<IPython.core.display.Math object>"
      ]
     },
     "metadata": {},
     "output_type": "display_data"
    }
   ],
   "source": [
    "# тангенциальная компонента напряженности магнитного поля\n",
    "eqHz_a  = H_bad_conductor_z (a)  == H_inner_vacuum_z (a)\n",
    "eqHy_a  = H_bad_conductor_y (a)  == H_inner_vacuum_y (a)\n",
    "\n",
    "print (\"eqHz_a =\")\n",
    "display(Math(latex(eqHz_a)))\n",
    "print (\"eqHy_a =\")\n",
    "display(Math(latex(eqHy_a)))"
   ]
  },
  {
   "cell_type": "code",
   "execution_count": 29,
   "metadata": {},
   "outputs": [
    {
     "name": "stdout",
     "output_type": "stream",
     "text": [
      "eqBx_a =\n"
     ]
    },
    {
     "data": {
      "text/latex": [
       "$\\displaystyle -\\frac{i \\, {\\left(i \\, \\mathit{A2}_{z} k_{y} e^{\\left(i \\, a \\mathit{ks}_{x}\\right)} - i \\, \\mathit{A2}_{y} k_{z} e^{\\left(i \\, a \\mathit{ks}_{x}\\right)}\\right)} c}{\\omega} = -\\frac{i \\, {\\left(i \\, {\\left(\\mathit{B1}_{z} \\cos\\left(a \\kappa\\right) + \\mathit{B2}_{z} \\sin\\left(a \\kappa\\right)\\right)} k_{y} - i \\, {\\left(\\mathit{B1}_{y} \\cos\\left(a \\kappa\\right) + \\mathit{B2}_{y} \\sin\\left(a \\kappa\\right)\\right)} k_{z}\\right)} c}{\\omega}$"
      ],
      "text/plain": [
       "<IPython.core.display.Math object>"
      ]
     },
     "metadata": {},
     "output_type": "display_data"
    }
   ],
   "source": [
    "# нормальная компонента индукции магнитного поля\n",
    "eqBx_a  = mu * H_bad_conductor_x (a)  == H_inner_vacuum_x (a)\n",
    "\n",
    "print (\"eqBx_a =\")\n",
    "display(Math(latex(eqBx_a)))"
   ]
  },
  {
   "cell_type": "code",
   "execution_count": 30,
   "metadata": {},
   "outputs": [],
   "source": [
    "if simplify_epsilon_0_mu_1:\n",
    "    eqHx_a = eqHx_a.subs(mu == 1)\n",
    "    print (\"eqHx_a =\")\n",
    "    display(Math(latex(eqHx_a)))"
   ]
  },
  {
   "cell_type": "code",
   "execution_count": 31,
   "metadata": {},
   "outputs": [],
   "source": [
    "def GenerateMatrix(equsys, vars):\n",
    "    A=matrix(SR, [[(equ.lhs() - equ.rhs()).coefficient(v) for v in vars] for equ in equsys])\n",
    "    return A\n",
    "\n",
    "def GenerateMatrixSubs(equsys, vars, vars_subs):\n",
    "    A=matrix(SR, [[(equ.lhs() - equ.rhs()).subs(vars_subs).coefficient(v) for v in vars] for equ in equsys])\n",
    "    return A\n",
    "\n",
    "def GenerateMatrixMult(equsys, vars):\n",
    "    A=matrix(SR, [[(equ.lhs() - equ.rhs()).coefficient(v) * v for v in vars] for equ in equsys])\n",
    "    return A\n",
    "\n",
    "def reduceDependedRows(M):\n",
    "    print (\"\")\n",
    "    print (\"M.nrows()\", M.nrows())\n",
    "    print (\"M.ncols()\", M.ncols())\n",
    "    print (\"M.rank()\", M.rank())\n",
    "\n",
    "    M_pivot_rows = M.pivot_rows()\n",
    "    print (\"M.pivot_rows() =\", M_pivot_rows)\n",
    "\n",
    "    M_rows = M.rows()\n",
    "    for row in M_rows:\n",
    "        print (\"row =\", row)\n",
    "\n",
    "    reduced_list = []\n",
    "    for r in M_pivot_rows:\n",
    "        print (\"M_rows[\", r, \"] =\")\n",
    "        display(Math(latex(M_rows[r])))\n",
    "        reduced_list.append(M_rows[r])\n",
    "\n",
    "    reduced_M = matrix(SR, len(M_pivot_rows), M.ncols(), reduced_list)\n",
    "    reduced_M_det = reduced_M.det()\n",
    "    print (\"\")\n",
    "    print(\"reduced_M.det() =\", reduced_M_det)\n",
    "    return reduced_M\n",
    "\n",
    "\n",
    "def reduceRows(M, M_pivot_rows):\n",
    "    print (\"\")\n",
    "    print (\"M.nrows()\", M.nrows())\n",
    "    print (\"M.ncols()\", M.ncols())\n",
    "    print (\"M.rank()\", M.rank())\n",
    "\n",
    "    print (\"M.pivot_rows() =\", M_pivot_rows)\n",
    "\n",
    "    M_rows = M.rows()\n",
    "    for row in M_rows:\n",
    "        print (\"row =\", row)\n",
    "\n",
    "    reduced_list = []\n",
    "    for r in M_pivot_rows:\n",
    "        print (\"M_rows[\", r, \"] =\")\n",
    "        display(Math(latex(M_rows[r])))\n",
    "        reduced_list.append(M_rows[r])\n",
    "\n",
    "    reduced_M = matrix(SR, len(M_pivot_rows), M.ncols(), reduced_list)\n",
    "    reduced_M_det = reduced_M.det()\n",
    "    print (\"\")\n",
    "    print(\"reduced_M.det() =\", reduced_M_det)\n",
    "    return reduced_M"
   ]
  },
  {
   "cell_type": "code",
   "execution_count": 32,
   "metadata": {},
   "outputs": [],
   "source": [
    "def rot_H_solve(M_rotH, vars, eq_s_or_kappa, s_or_kappa):\n",
    "    if (M_rotH.ncols() != len(vars)):\n",
    "        return\n",
    "    n = M_rotH.nrows()\n",
    "    xx = vector(SR, vars)\n",
    "    yy = zero_vector(SR, n)\n",
    "    eqns = [(M_rotH*xx)[index] == yy[index] for index in range(n)]\n",
    "    display(Math(latex(eqns)))\n",
    "    res = []\n",
    "\n",
    "    for index in range(n):\n",
    "        eq = eqns[index]\n",
    "        # print(eq)\n",
    "        \n",
    "        if 0 == eq.lhs() and 0 == eq.rhs():\n",
    "            continue\n",
    "            \n",
    "        for var in vars:\n",
    "            print(\"solve([eq, var])\")\n",
    "            display(Math(latex([eq, var])))\n",
    "            print(\"\")\n",
    "            \n",
    "            sol = solve(eq, var)\n",
    "            print(\"sol=\")\n",
    "            display(Math(latex(sol)))\n",
    "            if 0 == len(sol):\n",
    "                continue\n",
    "\n",
    "            print(\"eq_s_or_kappa =\")\n",
    "            display(Math(latex(eq_s_or_kappa)))\n",
    "            sol_s_or_kappa_2 = solve(eq_s_or_kappa, s_or_kappa^2)\n",
    "            print(\"sol_s_or_kappa_2[0].rhs()=\")\n",
    "            display(Math(latex(sol_s_or_kappa_2[0].rhs())))\n",
    "            print(\"\")\n",
    "            \n",
    "            vars_for_collect = vars\n",
    "            vars_for_collect.remove(var)\n",
    "\n",
    "            sl = sol[0].rhs()\n",
    "\n",
    "            for var_for_collect in vars_for_collect:\n",
    "                sl = sl.collect(var_for_collect)\n",
    "                    \n",
    "            print(\"sl =\")\n",
    "            display(Math(latex(sl)))\n",
    "            print(\"\")\n",
    "\n",
    "            ans1 = sl.subs( sol_s_or_kappa_2[0].rhs()*c^2 ==  sol_s_or_kappa_2[0].lhs()*c^2)\n",
    "            ans2 = sl.subs(-sol_s_or_kappa_2[0].rhs()*c^2 == -sol_s_or_kappa_2[0].lhs()*c^2)\n",
    "\n",
    "            ans = ans1\n",
    "            if ans1.number_of_operands() > ans2.number_of_operands():\n",
    "                ans = ans2\n",
    "\n",
    "            print(\"ans =\")\n",
    "            display(Math(latex(ans)))\n",
    "\n",
    "            if omega in ans.arguments():\n",
    "                print(ans.arguments())\n",
    "                sol_omega_2 = solve(eq_s_or_kappa, omega^2)\n",
    "                print(\"sol_omega_2 =\")\n",
    "                display(Math(latex(sol_omega_2[0].rhs())))\n",
    "                som = ans.subs(omega^2 == sol_omega_2[0].rhs())\n",
    "                print(\"som =\")\n",
    "                display(Math(latex(som)))\n",
    "                som = som.full_simplify()\n",
    "                print(\"som =\")\n",
    "                display(Math(latex(som)))\n",
    "                res.append(var == som)\n",
    "            else:\n",
    "                res.append(var == ans)\n",
    "\n",
    "            print(\"\")\n",
    "    return res"
   ]
  },
  {
   "cell_type": "code",
   "execution_count": 33,
   "metadata": {},
   "outputs": [],
   "source": [
    "def rot_H_solve_s(M_rotH, vars):\n",
    "    if (M_rotH.ncols() != len(vars)):\n",
    "        return\n",
    "    n = M_rotH.nrows()\n",
    "    xx = vector(SR, vars)\n",
    "    yy = zero_vector(SR, n)\n",
    "    eqns = [(M_rotH*xx)[index] == yy[index] for index in range(n)]\n",
    "    display(Math(latex(eqns)))\n",
    "    res = []\n",
    "\n",
    "    for index in range(n):\n",
    "        eq = eqns[index]\n",
    "        \n",
    "        if 0 == eq.lhs() and 0 == eq.rhs():\n",
    "            continue\n",
    "            \n",
    "        for var in vars:\n",
    "            print(\"solve([eq, var])\")\n",
    "            display(Math(latex([eq, var])))\n",
    "            print(\"\")\n",
    "            \n",
    "            sol = solve(eq, var)\n",
    "            if len(sol) > 0:\n",
    "                print(\"sol=\")\n",
    "                display(Math(latex(sol[0])))\n",
    "                \n",
    "                vars_for_collect = vars\n",
    "                vars_for_collect.remove(var)\n",
    "                \n",
    "                sl = sol[0].rhs()\n",
    "                \n",
    "                for var_for_collect in vars_for_collect:\n",
    "                    sl = sl.collect(var_for_collect)\n",
    "                    \n",
    "                print(\"sl =\")\n",
    "                display(Math(latex(sl)))\n",
    "                print(\"\")\n",
    "\n",
    "                res.append(var == sl)\n",
    " \n",
    "        print(\"\")\n",
    "    return res\n",
    "\n"
   ]
  },
  {
   "cell_type": "code",
   "execution_count": 34,
   "metadata": {},
   "outputs": [],
   "source": [
    "eqsys_rotH_inner_vacuum = [eq_rot_H_inner_vacuum_x*(-I)*omega/c,\n",
    "                           eq_rot_H_inner_vacuum_y*(-I)*omega/c,\n",
    "                           eq_rot_H_inner_vacuum_z*(-I)*omega/c,\n",
    "                          ]\n",
    "\n",
    "eqsys_rotH_bad_conductor = [eq_rot_H_bad_conductor_x*(-I)*omega/c,\n",
    "                            eq_rot_H_bad_conductor_y*(-I)*omega/c,\n",
    "                            eq_rot_H_bad_conductor_z*(-I)*omega/c,\n",
    "                           ]\n",
    "\n",
    "eqsys_boundary_conditions = [#eqEz_0,\n",
    "                             eqEy_0,\n",
    "                             eqDx_a,\n",
    "                             eqEy_a, eqEz_a,\n",
    "                             eqBx_a*(-I)*omega/c,\n",
    "                             eqHz_a*(-I)*omega/c,                             \n",
    "                             eqHy_a*(-I)*omega/c,\n",
    "                            ]"
   ]
  },
  {
   "cell_type": "code",
   "execution_count": 35,
   "metadata": {},
   "outputs": [
    {
     "data": {
      "text/plain": [
       "[B1_y == 0,\n",
       " B1_x*cos(a*kappa) + B2_x*sin(a*kappa) == A2_x*epsilon*e^(I*a*ks_x),\n",
       " B1_y*cos(a*kappa) + B2_y*sin(a*kappa) == A2_y*e^(I*a*ks_x),\n",
       " B1_z*cos(a*kappa) + B2_z*sin(a*kappa) == A2_z*e^(I*a*ks_x),\n",
       " -I*A2_z*k_y*e^(I*a*ks_x) + I*A2_y*k_z*e^(I*a*ks_x) == -I*(B1_z*cos(a*kappa) + B2_z*sin(a*kappa))*k_y + I*(B1_y*cos(a*kappa) + B2_y*sin(a*kappa))*k_z,\n",
       " -(-I*A2_x*k_y*e^(I*a*ks_x) + I*A2_y*ks_x*e^(I*a*ks_x))/mu == -B2_y*kappa*cos(a*kappa) + B1_y*kappa*sin(a*kappa) + I*(B1_x*cos(a*kappa) + B2_x*sin(a*kappa))*k_y,\n",
       " -I*(A2_x*k_z*e^(I*a*ks_x) - A2_z*ks_x*e^(I*a*ks_x))/mu == B2_z*kappa*cos(a*kappa) - B1_z*kappa*sin(a*kappa) - I*(B1_x*cos(a*kappa) + B2_x*sin(a*kappa))*k_z]"
      ]
     },
     "execution_count": 35,
     "metadata": {},
     "output_type": "execute_result"
    }
   ],
   "source": [
    "eqsys_boundary_conditions"
   ]
  },
  {
   "cell_type": "code",
   "execution_count": 36,
   "metadata": {},
   "outputs": [
    {
     "name": "stdout",
     "output_type": "stream",
     "text": [
      "even_vars =\n"
     ]
    },
    {
     "data": {
      "text/latex": [
       "$\\displaystyle \\left[\\mathit{B1}_{x}, \\mathit{B2}_{y}, \\mathit{B2}_{z}, \\mathit{A2}_{x}, \\mathit{A2}_{y}, \\mathit{A2}_{z}\\right]$"
      ],
      "text/plain": [
       "<IPython.core.display.Math object>"
      ]
     },
     "metadata": {},
     "output_type": "display_data"
    },
    {
     "name": "stdout",
     "output_type": "stream",
     "text": [
      "even_vars_inner_vacuum =\n"
     ]
    },
    {
     "data": {
      "text/latex": [
       "$\\displaystyle \\left[\\mathit{B1}_{x}, \\mathit{B2}_{y}, \\mathit{B2}_{z}\\right]$"
      ],
      "text/plain": [
       "<IPython.core.display.Math object>"
      ]
     },
     "metadata": {},
     "output_type": "display_data"
    },
    {
     "name": "stdout",
     "output_type": "stream",
     "text": [
      "eqsys_rotH_inner_vacuum =\n"
     ]
    },
    {
     "data": {
      "text/latex": [
       "$\\displaystyle \\left[\\frac{{\\left(-\\frac{i \\, {\\left(\\mathit{B2}_{y} \\kappa \\cos\\left(\\kappa x\\right) - \\mathit{B1}_{y} \\kappa \\sin\\left(\\kappa x\\right) - i \\, {\\left(\\mathit{B1}_{x} \\cos\\left(\\kappa x\\right) + \\mathit{B2}_{x} \\sin\\left(\\kappa x\\right)\\right)} k_{y}\\right)} c k_{y}}{\\omega} - \\frac{{\\left(i \\, \\mathit{B2}_{z} \\kappa \\cos\\left(\\kappa x\\right) - i \\, \\mathit{B1}_{z} \\kappa \\sin\\left(\\kappa x\\right) + {\\left(\\mathit{B1}_{x} \\cos\\left(\\kappa x\\right) + \\mathit{B2}_{x} \\sin\\left(\\kappa x\\right)\\right)} k_{z}\\right)} c k_{z}}{\\omega}\\right)} \\omega}{c} = -\\frac{{\\left(\\mathit{B1}_{x} \\cos\\left(\\kappa x\\right) + \\mathit{B2}_{x} \\sin\\left(\\kappa x\\right)\\right)} \\omega^{2}}{c^{2}}, \\frac{{\\left(-\\frac{i \\, {\\left(i \\, {\\left(\\mathit{B1}_{z} \\cos\\left(\\kappa x\\right) + \\mathit{B2}_{z} \\sin\\left(\\kappa x\\right)\\right)} k_{y} - i \\, {\\left(\\mathit{B1}_{y} \\cos\\left(\\kappa x\\right) + \\mathit{B2}_{y} \\sin\\left(\\kappa x\\right)\\right)} k_{z}\\right)} c k_{z}}{\\omega} - \\frac{{\\left(\\mathit{B1}_{y} \\kappa^{2} \\cos\\left(\\kappa x\\right) + \\mathit{B2}_{y} \\kappa^{2} \\sin\\left(\\kappa x\\right) + i \\, {\\left(\\mathit{B2}_{x} \\kappa \\cos\\left(\\kappa x\\right) - \\mathit{B1}_{x} \\kappa \\sin\\left(\\kappa x\\right)\\right)} k_{y}\\right)} c}{\\omega}\\right)} \\omega}{c} = -\\frac{{\\left(\\mathit{B1}_{y} \\cos\\left(\\kappa x\\right) + \\mathit{B2}_{y} \\sin\\left(\\kappa x\\right)\\right)} \\omega^{2}}{c^{2}}, \\frac{{\\left(\\frac{i \\, {\\left(i \\, {\\left(\\mathit{B1}_{z} \\cos\\left(\\kappa x\\right) + \\mathit{B2}_{z} \\sin\\left(\\kappa x\\right)\\right)} k_{y} - i \\, {\\left(\\mathit{B1}_{y} \\cos\\left(\\kappa x\\right) + \\mathit{B2}_{y} \\sin\\left(\\kappa x\\right)\\right)} k_{z}\\right)} c k_{y}}{\\omega} - \\frac{i \\, {\\left(-i \\, \\mathit{B1}_{z} \\kappa^{2} \\cos\\left(\\kappa x\\right) - i \\, \\mathit{B2}_{z} \\kappa^{2} \\sin\\left(\\kappa x\\right) + {\\left(\\mathit{B2}_{x} \\kappa \\cos\\left(\\kappa x\\right) - \\mathit{B1}_{x} \\kappa \\sin\\left(\\kappa x\\right)\\right)} k_{z}\\right)} c}{\\omega}\\right)} \\omega}{c} = -\\frac{{\\left(\\mathit{B1}_{z} \\cos\\left(\\kappa x\\right) + \\mathit{B2}_{z} \\sin\\left(\\kappa x\\right)\\right)} \\omega^{2}}{c^{2}}\\right]$"
      ],
      "text/plain": [
       "<IPython.core.display.Math object>"
      ]
     },
     "metadata": {},
     "output_type": "display_data"
    },
    {
     "name": "stdout",
     "output_type": "stream",
     "text": [
      "even_M_rotH_inner_vacuum =\n"
     ]
    },
    {
     "data": {
      "text/latex": [
       "$\\displaystyle \\left(\\begin{array}{rrr}\n",
       "-\\frac{{\\left(\\frac{c k_{y}^{2} \\cos\\left(\\kappa x\\right)}{\\omega} + \\frac{c k_{z}^{2} \\cos\\left(\\kappa x\\right)}{\\omega}\\right)} \\omega}{c} + \\frac{\\omega^{2} \\cos\\left(\\kappa x\\right)}{c^{2}} & -i \\, k_{y} \\kappa \\cos\\left(\\kappa x\\right) & -i \\, k_{z} \\kappa \\cos\\left(\\kappa x\\right) \\\\\n",
       "i \\, k_{y} \\kappa \\sin\\left(\\kappa x\\right) & -\\frac{{\\left(\\frac{c k_{z}^{2} \\sin\\left(\\kappa x\\right)}{\\omega} + \\frac{c \\kappa^{2} \\sin\\left(\\kappa x\\right)}{\\omega}\\right)} \\omega}{c} + \\frac{\\omega^{2} \\sin\\left(\\kappa x\\right)}{c^{2}} & k_{y} k_{z} \\sin\\left(\\kappa x\\right) \\\\\n",
       "i \\, k_{z} \\kappa \\sin\\left(\\kappa x\\right) & k_{y} k_{z} \\sin\\left(\\kappa x\\right) & -\\frac{{\\left(\\frac{c k_{y}^{2} \\sin\\left(\\kappa x\\right)}{\\omega} + \\frac{c \\kappa^{2} \\sin\\left(\\kappa x\\right)}{\\omega}\\right)} \\omega}{c} + \\frac{\\omega^{2} \\sin\\left(\\kappa x\\right)}{c^{2}}\n",
       "\\end{array}\\right)$"
      ],
      "text/plain": [
       "<IPython.core.display.Math object>"
      ]
     },
     "metadata": {},
     "output_type": "display_data"
    }
   ],
   "source": [
    "# чётные\n",
    "even_vars = [B1_x, B1_y, B1_z, B2_x, B2_y, B2_z, A2_x, A2_y, A2_z]\n",
    "\n",
    "even_vars_inner_vacuum = [B1_x, B1_y, B1_z, B2_x, B2_y, B2_z]\n",
    "\n",
    "# выражения для электрического поля в диэлектрике\n",
    "#   E_dielectric_z (x) = B1_z*cos(kappa*x) + B2_z*sin(kappa*x)\n",
    "#   E_dielectric_y (x) = B1_y*cos(kappa*x) + B2_y*sin(kappa*x)\n",
    "#   E_dielectric_x (x) = B1_x*cos(kappa*x) + B2_x*sin(kappa*x)\n",
    "\n",
    "# граничные условия на границе идеального проводника и вакуума внутри резонатора\n",
    "# тангенциальная компонента электрического поля\n",
    "# B1_z == 0\n",
    "# B1_y == 0\n",
    "\n",
    "# условие отражающие выбор именно чётного характера решения\n",
    "# B2_x == 0\n",
    "\n",
    "even_eqs_inner_vacuum = [B2_x == 0, B1_z == 0, B1_y == 0]\n",
    "\n",
    "for even_eq_inner_vacuum in even_eqs_inner_vacuum:\n",
    "    even_vars.remove(even_eq_inner_vacuum.lhs())\n",
    "    even_vars_inner_vacuum.remove(even_eq_inner_vacuum.lhs())\n",
    "    \n",
    "print (\"even_vars =\")\n",
    "display(Math(latex(even_vars)))\n",
    "\n",
    "print (\"even_vars_inner_vacuum =\")\n",
    "display(Math(latex(even_vars_inner_vacuum)))\n",
    "\n",
    "even_M_rotH_inner_vacuum = GenerateMatrix(eqsys_rotH_inner_vacuum, even_vars_inner_vacuum)\n",
    "\n",
    "print (\"eqsys_rotH_inner_vacuum =\")\n",
    "display(Math(latex(eqsys_rotH_inner_vacuum)))\n",
    "\n",
    "print (\"even_M_rotH_inner_vacuum =\")\n",
    "display(Math(latex(even_M_rotH_inner_vacuum)))"
   ]
  },
  {
   "cell_type": "code",
   "execution_count": 37,
   "metadata": {},
   "outputs": [
    {
     "data": {
      "text/latex": [
       "$\\displaystyle \\left[-i \\, \\mathit{B2}_{y} k_{y} \\kappa \\cos\\left(\\kappa x\\right) - i \\, \\mathit{B2}_{z} k_{z} \\kappa \\cos\\left(\\kappa x\\right) - \\mathit{B1}_{x} {\\left(\\frac{{\\left(\\frac{c k_{y}^{2} \\cos\\left(\\kappa x\\right)}{\\omega} + \\frac{c k_{z}^{2} \\cos\\left(\\kappa x\\right)}{\\omega}\\right)} \\omega}{c} - \\frac{\\omega^{2} \\cos\\left(\\kappa x\\right)}{c^{2}}\\right)} = 0, \\mathit{B2}_{z} k_{y} k_{z} \\sin\\left(\\kappa x\\right) + i \\, \\mathit{B1}_{x} k_{y} \\kappa \\sin\\left(\\kappa x\\right) - \\mathit{B2}_{y} {\\left(\\frac{{\\left(\\frac{c k_{z}^{2} \\sin\\left(\\kappa x\\right)}{\\omega} + \\frac{c \\kappa^{2} \\sin\\left(\\kappa x\\right)}{\\omega}\\right)} \\omega}{c} - \\frac{\\omega^{2} \\sin\\left(\\kappa x\\right)}{c^{2}}\\right)} = 0, \\mathit{B2}_{y} k_{y} k_{z} \\sin\\left(\\kappa x\\right) + i \\, \\mathit{B1}_{x} k_{z} \\kappa \\sin\\left(\\kappa x\\right) - \\mathit{B2}_{z} {\\left(\\frac{{\\left(\\frac{c k_{y}^{2} \\sin\\left(\\kappa x\\right)}{\\omega} + \\frac{c \\kappa^{2} \\sin\\left(\\kappa x\\right)}{\\omega}\\right)} \\omega}{c} - \\frac{\\omega^{2} \\sin\\left(\\kappa x\\right)}{c^{2}}\\right)} = 0\\right]$"
      ],
      "text/plain": [
       "<IPython.core.display.Math object>"
      ]
     },
     "metadata": {},
     "output_type": "display_data"
    },
    {
     "name": "stdout",
     "output_type": "stream",
     "text": [
      "solve([eq, var])\n"
     ]
    },
    {
     "data": {
      "text/latex": [
       "$\\displaystyle \\left[-i \\, \\mathit{B2}_{y} k_{y} \\kappa \\cos\\left(\\kappa x\\right) - i \\, \\mathit{B2}_{z} k_{z} \\kappa \\cos\\left(\\kappa x\\right) - \\mathit{B1}_{x} {\\left(\\frac{{\\left(\\frac{c k_{y}^{2} \\cos\\left(\\kappa x\\right)}{\\omega} + \\frac{c k_{z}^{2} \\cos\\left(\\kappa x\\right)}{\\omega}\\right)} \\omega}{c} - \\frac{\\omega^{2} \\cos\\left(\\kappa x\\right)}{c^{2}}\\right)} = 0, \\mathit{B1}_{x}\\right]$"
      ],
      "text/plain": [
       "<IPython.core.display.Math object>"
      ]
     },
     "metadata": {},
     "output_type": "display_data"
    },
    {
     "name": "stdout",
     "output_type": "stream",
     "text": [
      "\n",
      "sol=\n"
     ]
    },
    {
     "data": {
      "text/latex": [
       "$\\displaystyle \\left[\\mathit{B1}_{x} = -\\frac{{\\left(i \\, \\mathit{B2}_{y} c^{2} k_{y} + i \\, \\mathit{B2}_{z} c^{2} k_{z}\\right)} \\kappa}{c^{2} k_{y}^{2} + c^{2} k_{z}^{2} - \\omega^{2}}\\right]$"
      ],
      "text/plain": [
       "<IPython.core.display.Math object>"
      ]
     },
     "metadata": {},
     "output_type": "display_data"
    },
    {
     "name": "stdout",
     "output_type": "stream",
     "text": [
      "eq_s_or_kappa =\n"
     ]
    },
    {
     "data": {
      "text/latex": [
       "$\\displaystyle -k_{y}^{2} - k_{z}^{2} + \\frac{\\omega^{2}}{c^{2}} = \\kappa^{2}$"
      ],
      "text/plain": [
       "<IPython.core.display.Math object>"
      ]
     },
     "metadata": {},
     "output_type": "display_data"
    },
    {
     "name": "stdout",
     "output_type": "stream",
     "text": [
      "sol_s_or_kappa_2[0].rhs()=\n"
     ]
    },
    {
     "data": {
      "text/latex": [
       "$\\displaystyle -\\frac{c^{2} k_{y}^{2} + c^{2} k_{z}^{2} - \\omega^{2}}{c^{2}}$"
      ],
      "text/plain": [
       "<IPython.core.display.Math object>"
      ]
     },
     "metadata": {},
     "output_type": "display_data"
    },
    {
     "name": "stdout",
     "output_type": "stream",
     "text": [
      "\n",
      "sl =\n"
     ]
    },
    {
     "data": {
      "text/latex": [
       "$\\displaystyle -\\frac{i \\, \\mathit{B2}_{y} c^{2} k_{y} \\kappa}{c^{2} k_{y}^{2} + c^{2} k_{z}^{2} - \\omega^{2}} - \\frac{i \\, \\mathit{B2}_{z} c^{2} k_{z} \\kappa}{c^{2} k_{y}^{2} + c^{2} k_{z}^{2} - \\omega^{2}}$"
      ],
      "text/plain": [
       "<IPython.core.display.Math object>"
      ]
     },
     "metadata": {},
     "output_type": "display_data"
    },
    {
     "name": "stdout",
     "output_type": "stream",
     "text": [
      "\n",
      "ans =\n"
     ]
    },
    {
     "data": {
      "text/latex": [
       "$\\displaystyle -\\frac{i \\, \\mathit{B2}_{y} c^{2} k_{y} \\kappa}{c^{2} k_{y}^{2} + c^{2} k_{z}^{2} - \\omega^{2}} - \\frac{i \\, \\mathit{B2}_{z} c^{2} k_{z} \\kappa}{c^{2} k_{y}^{2} + c^{2} k_{z}^{2} - \\omega^{2}}$"
      ],
      "text/plain": [
       "<IPython.core.display.Math object>"
      ]
     },
     "metadata": {},
     "output_type": "display_data"
    },
    {
     "name": "stdout",
     "output_type": "stream",
     "text": [
      "(B2_y, B2_z, c, k_y, k_z, kappa, omega)\n",
      "sol_omega_2 =\n"
     ]
    },
    {
     "data": {
      "text/latex": [
       "$\\displaystyle c^{2} k_{y}^{2} + c^{2} k_{z}^{2} + c^{2} \\kappa^{2}$"
      ],
      "text/plain": [
       "<IPython.core.display.Math object>"
      ]
     },
     "metadata": {},
     "output_type": "display_data"
    },
    {
     "name": "stdout",
     "output_type": "stream",
     "text": [
      "som =\n"
     ]
    },
    {
     "data": {
      "text/latex": [
       "$\\displaystyle \\frac{i \\, \\mathit{B2}_{y} k_{y}}{\\kappa} + \\frac{i \\, \\mathit{B2}_{z} k_{z}}{\\kappa}$"
      ],
      "text/plain": [
       "<IPython.core.display.Math object>"
      ]
     },
     "metadata": {},
     "output_type": "display_data"
    },
    {
     "name": "stdout",
     "output_type": "stream",
     "text": [
      "som =\n"
     ]
    },
    {
     "data": {
      "text/latex": [
       "$\\displaystyle \\frac{i \\, \\mathit{B2}_{y} k_{y} + i \\, \\mathit{B2}_{z} k_{z}}{\\kappa}$"
      ],
      "text/plain": [
       "<IPython.core.display.Math object>"
      ]
     },
     "metadata": {},
     "output_type": "display_data"
    },
    {
     "name": "stdout",
     "output_type": "stream",
     "text": [
      "\n",
      "solve([eq, var])\n"
     ]
    },
    {
     "data": {
      "text/latex": [
       "$\\displaystyle \\left[-i \\, \\mathit{B2}_{y} k_{y} \\kappa \\cos\\left(\\kappa x\\right) - i \\, \\mathit{B2}_{z} k_{z} \\kappa \\cos\\left(\\kappa x\\right) - \\mathit{B1}_{x} {\\left(\\frac{{\\left(\\frac{c k_{y}^{2} \\cos\\left(\\kappa x\\right)}{\\omega} + \\frac{c k_{z}^{2} \\cos\\left(\\kappa x\\right)}{\\omega}\\right)} \\omega}{c} - \\frac{\\omega^{2} \\cos\\left(\\kappa x\\right)}{c^{2}}\\right)} = 0, \\mathit{B2}_{z}\\right]$"
      ],
      "text/plain": [
       "<IPython.core.display.Math object>"
      ]
     },
     "metadata": {},
     "output_type": "display_data"
    },
    {
     "name": "stdout",
     "output_type": "stream",
     "text": [
      "\n",
      "sol=\n"
     ]
    },
    {
     "data": {
      "text/latex": [
       "$\\displaystyle \\left[\\mathit{B2}_{z} = \\frac{i \\, \\mathit{B1}_{x} c^{2} k_{y}^{2} + i \\, \\mathit{B1}_{x} c^{2} k_{z}^{2} - \\mathit{B2}_{y} c^{2} k_{y} \\kappa - i \\, \\mathit{B1}_{x} \\omega^{2}}{c^{2} k_{z} \\kappa}\\right]$"
      ],
      "text/plain": [
       "<IPython.core.display.Math object>"
      ]
     },
     "metadata": {},
     "output_type": "display_data"
    },
    {
     "name": "stdout",
     "output_type": "stream",
     "text": [
      "eq_s_or_kappa =\n"
     ]
    },
    {
     "data": {
      "text/latex": [
       "$\\displaystyle -k_{y}^{2} - k_{z}^{2} + \\frac{\\omega^{2}}{c^{2}} = \\kappa^{2}$"
      ],
      "text/plain": [
       "<IPython.core.display.Math object>"
      ]
     },
     "metadata": {},
     "output_type": "display_data"
    },
    {
     "name": "stdout",
     "output_type": "stream",
     "text": [
      "sol_s_or_kappa_2[0].rhs()=\n"
     ]
    },
    {
     "data": {
      "text/latex": [
       "$\\displaystyle -\\frac{c^{2} k_{y}^{2} + c^{2} k_{z}^{2} - \\omega^{2}}{c^{2}}$"
      ],
      "text/plain": [
       "<IPython.core.display.Math object>"
      ]
     },
     "metadata": {},
     "output_type": "display_data"
    },
    {
     "name": "stdout",
     "output_type": "stream",
     "text": [
      "\n",
      "sl =\n"
     ]
    },
    {
     "data": {
      "text/latex": [
       "$\\displaystyle -\\frac{\\mathit{B2}_{y} k_{y}}{k_{z}} + \\frac{i \\, \\mathit{B1}_{x} k_{y}^{2}}{k_{z} \\kappa} + \\frac{i \\, \\mathit{B1}_{x} k_{z}}{\\kappa} - \\frac{i \\, \\mathit{B1}_{x} \\omega^{2}}{c^{2} k_{z} \\kappa}$"
      ],
      "text/plain": [
       "<IPython.core.display.Math object>"
      ]
     },
     "metadata": {},
     "output_type": "display_data"
    },
    {
     "name": "stdout",
     "output_type": "stream",
     "text": [
      "\n",
      "ans =\n"
     ]
    },
    {
     "data": {
      "text/latex": [
       "$\\displaystyle -\\frac{\\mathit{B2}_{y} k_{y}}{k_{z}} + \\frac{i \\, \\mathit{B1}_{x} k_{y}^{2}}{k_{z} \\kappa} + \\frac{i \\, \\mathit{B1}_{x} k_{z}}{\\kappa} - \\frac{i \\, \\mathit{B1}_{x} \\omega^{2}}{c^{2} k_{z} \\kappa}$"
      ],
      "text/plain": [
       "<IPython.core.display.Math object>"
      ]
     },
     "metadata": {},
     "output_type": "display_data"
    },
    {
     "name": "stdout",
     "output_type": "stream",
     "text": [
      "(B1_x, B2_y, c, k_y, k_z, kappa, omega)\n",
      "sol_omega_2 =\n"
     ]
    },
    {
     "data": {
      "text/latex": [
       "$\\displaystyle c^{2} k_{y}^{2} + c^{2} k_{z}^{2} + c^{2} \\kappa^{2}$"
      ],
      "text/plain": [
       "<IPython.core.display.Math object>"
      ]
     },
     "metadata": {},
     "output_type": "display_data"
    },
    {
     "name": "stdout",
     "output_type": "stream",
     "text": [
      "som =\n"
     ]
    },
    {
     "data": {
      "text/latex": [
       "$\\displaystyle -\\frac{\\mathit{B2}_{y} k_{y}}{k_{z}} + \\frac{i \\, \\mathit{B1}_{x} k_{y}^{2}}{k_{z} \\kappa} + \\frac{i \\, \\mathit{B1}_{x} k_{z}}{\\kappa} - \\frac{i \\, {\\left(c^{2} k_{y}^{2} + c^{2} k_{z}^{2} + c^{2} \\kappa^{2}\\right)} \\mathit{B1}_{x}}{c^{2} k_{z} \\kappa}$"
      ],
      "text/plain": [
       "<IPython.core.display.Math object>"
      ]
     },
     "metadata": {},
     "output_type": "display_data"
    },
    {
     "name": "stdout",
     "output_type": "stream",
     "text": [
      "som =\n"
     ]
    },
    {
     "data": {
      "text/latex": [
       "$\\displaystyle -\\frac{\\mathit{B2}_{y} k_{y} + i \\, \\mathit{B1}_{x} \\kappa}{k_{z}}$"
      ],
      "text/plain": [
       "<IPython.core.display.Math object>"
      ]
     },
     "metadata": {},
     "output_type": "display_data"
    },
    {
     "name": "stdout",
     "output_type": "stream",
     "text": [
      "\n",
      "solve([eq, var])\n"
     ]
    },
    {
     "data": {
      "text/latex": [
       "$\\displaystyle \\left[\\mathit{B2}_{z} k_{y} k_{z} \\sin\\left(\\kappa x\\right) + i \\, \\mathit{B1}_{x} k_{y} \\kappa \\sin\\left(\\kappa x\\right) - \\mathit{B2}_{y} {\\left(\\frac{{\\left(\\frac{c k_{z}^{2} \\sin\\left(\\kappa x\\right)}{\\omega} + \\frac{c \\kappa^{2} \\sin\\left(\\kappa x\\right)}{\\omega}\\right)} \\omega}{c} - \\frac{\\omega^{2} \\sin\\left(\\kappa x\\right)}{c^{2}}\\right)} = 0, \\mathit{B2}_{y}\\right]$"
      ],
      "text/plain": [
       "<IPython.core.display.Math object>"
      ]
     },
     "metadata": {},
     "output_type": "display_data"
    },
    {
     "name": "stdout",
     "output_type": "stream",
     "text": [
      "\n",
      "sol=\n"
     ]
    },
    {
     "data": {
      "text/latex": [
       "$\\displaystyle \\left[\\mathit{B2}_{y} = \\frac{\\mathit{B2}_{z} c^{2} k_{y} k_{z} + i \\, \\mathit{B1}_{x} c^{2} k_{y} \\kappa}{c^{2} k_{z}^{2} + c^{2} \\kappa^{2} - \\omega^{2}}\\right]$"
      ],
      "text/plain": [
       "<IPython.core.display.Math object>"
      ]
     },
     "metadata": {},
     "output_type": "display_data"
    },
    {
     "name": "stdout",
     "output_type": "stream",
     "text": [
      "eq_s_or_kappa =\n"
     ]
    },
    {
     "data": {
      "text/latex": [
       "$\\displaystyle -k_{y}^{2} - k_{z}^{2} + \\frac{\\omega^{2}}{c^{2}} = \\kappa^{2}$"
      ],
      "text/plain": [
       "<IPython.core.display.Math object>"
      ]
     },
     "metadata": {},
     "output_type": "display_data"
    },
    {
     "name": "stdout",
     "output_type": "stream",
     "text": [
      "sol_s_or_kappa_2[0].rhs()=\n"
     ]
    },
    {
     "data": {
      "text/latex": [
       "$\\displaystyle -\\frac{c^{2} k_{y}^{2} + c^{2} k_{z}^{2} - \\omega^{2}}{c^{2}}$"
      ],
      "text/plain": [
       "<IPython.core.display.Math object>"
      ]
     },
     "metadata": {},
     "output_type": "display_data"
    },
    {
     "name": "stdout",
     "output_type": "stream",
     "text": [
      "\n",
      "sl =\n"
     ]
    },
    {
     "data": {
      "text/latex": [
       "$\\displaystyle \\frac{\\mathit{B2}_{z} c^{2} k_{y} k_{z} + i \\, \\mathit{B1}_{x} c^{2} k_{y} \\kappa}{c^{2} k_{z}^{2} + c^{2} \\kappa^{2} - \\omega^{2}}$"
      ],
      "text/plain": [
       "<IPython.core.display.Math object>"
      ]
     },
     "metadata": {},
     "output_type": "display_data"
    },
    {
     "name": "stdout",
     "output_type": "stream",
     "text": [
      "\n",
      "ans =\n"
     ]
    },
    {
     "data": {
      "text/latex": [
       "$\\displaystyle \\frac{\\mathit{B2}_{z} c^{2} k_{y} k_{z} + i \\, \\mathit{B1}_{x} c^{2} k_{y} \\kappa}{c^{2} k_{z}^{2} + c^{2} \\kappa^{2} - \\omega^{2}}$"
      ],
      "text/plain": [
       "<IPython.core.display.Math object>"
      ]
     },
     "metadata": {},
     "output_type": "display_data"
    },
    {
     "name": "stdout",
     "output_type": "stream",
     "text": [
      "(B1_x, B2_z, c, k_y, k_z, kappa, omega)\n",
      "sol_omega_2 =\n"
     ]
    },
    {
     "data": {
      "text/latex": [
       "$\\displaystyle c^{2} k_{y}^{2} + c^{2} k_{z}^{2} + c^{2} \\kappa^{2}$"
      ],
      "text/plain": [
       "<IPython.core.display.Math object>"
      ]
     },
     "metadata": {},
     "output_type": "display_data"
    },
    {
     "name": "stdout",
     "output_type": "stream",
     "text": [
      "som =\n"
     ]
    },
    {
     "data": {
      "text/latex": [
       "$\\displaystyle -\\frac{\\mathit{B2}_{z} c^{2} k_{y} k_{z} + i \\, \\mathit{B1}_{x} c^{2} k_{y} \\kappa}{c^{2} k_{y}^{2}}$"
      ],
      "text/plain": [
       "<IPython.core.display.Math object>"
      ]
     },
     "metadata": {},
     "output_type": "display_data"
    },
    {
     "name": "stdout",
     "output_type": "stream",
     "text": [
      "som =\n"
     ]
    },
    {
     "data": {
      "text/latex": [
       "$\\displaystyle -\\frac{\\mathit{B2}_{z} k_{z} + i \\, \\mathit{B1}_{x} \\kappa}{k_{y}}$"
      ],
      "text/plain": [
       "<IPython.core.display.Math object>"
      ]
     },
     "metadata": {},
     "output_type": "display_data"
    },
    {
     "name": "stdout",
     "output_type": "stream",
     "text": [
      "\n"
     ]
    }
   ],
   "source": [
    "even_res_rotH_inner_vacuum = rot_H_solve(even_M_rotH_inner_vacuum, even_vars_inner_vacuum, eq_kappa_inner_vacuum, kappa)"
   ]
  },
  {
   "cell_type": "code",
   "execution_count": 38,
   "metadata": {},
   "outputs": [
    {
     "name": "stdout",
     "output_type": "stream",
     "text": [
      "even_res_rotH_inner_vacuum =\n"
     ]
    },
    {
     "data": {
      "text/latex": [
       "$\\displaystyle \\left[\\mathit{B1}_{x} = \\frac{i \\, \\mathit{B2}_{y} k_{y} + i \\, \\mathit{B2}_{z} k_{z}}{\\kappa}, \\mathit{B2}_{z} = -\\frac{\\mathit{B2}_{y} k_{y} + i \\, \\mathit{B1}_{x} \\kappa}{k_{z}}, \\mathit{B2}_{y} = -\\frac{\\mathit{B2}_{z} k_{z} + i \\, \\mathit{B1}_{x} \\kappa}{k_{y}}\\right]$"
      ],
      "text/plain": [
       "<IPython.core.display.Math object>"
      ]
     },
     "metadata": {},
     "output_type": "display_data"
    }
   ],
   "source": [
    "print (\"even_res_rotH_inner_vacuum =\")\n",
    "display(Math(latex(even_res_rotH_inner_vacuum)))"
   ]
  },
  {
   "cell_type": "code",
   "execution_count": 39,
   "metadata": {},
   "outputs": [
    {
     "name": "stdout",
     "output_type": "stream",
     "text": [
      "eqsys_rotH_bad_conductor =\n"
     ]
    },
    {
     "data": {
      "text/latex": [
       "$\\displaystyle \\left[\\frac{{\\left(-\\frac{i \\, {\\left(-i \\, \\mathit{A2}_{x} k_{y} e^{\\left(i \\, \\mathit{ks}_{x} x\\right)} + i \\, \\mathit{A2}_{y} \\mathit{ks}_{x} e^{\\left(i \\, \\mathit{ks}_{x} x\\right)}\\right)} c k_{y}}{\\mu \\omega} - \\frac{{\\left(\\mathit{A2}_{x} k_{z} e^{\\left(i \\, \\mathit{ks}_{x} x\\right)} - \\mathit{A2}_{z} \\mathit{ks}_{x} e^{\\left(i \\, \\mathit{ks}_{x} x\\right)}\\right)} c k_{z}}{\\mu \\omega}\\right)} \\omega}{c} = -\\frac{\\mathit{A2}_{x} \\epsilon \\omega^{2} e^{\\left(i \\, \\mathit{ks}_{x} x\\right)}}{c^{2}}, \\frac{{\\left(-\\frac{i \\, {\\left(i \\, \\mathit{A2}_{z} k_{y} e^{\\left(i \\, \\mathit{ks}_{x} x\\right)} - i \\, \\mathit{A2}_{y} k_{z} e^{\\left(i \\, \\mathit{ks}_{x} x\\right)}\\right)} c k_{z}}{\\mu \\omega} + \\frac{{\\left(\\mathit{A2}_{x} k_{y} \\mathit{ks}_{x} e^{\\left(i \\, \\mathit{ks}_{x} x\\right)} - \\mathit{A2}_{y} \\mathit{ks}_{x}^{2} e^{\\left(i \\, \\mathit{ks}_{x} x\\right)}\\right)} c}{\\mu \\omega}\\right)} \\omega}{c} = -\\frac{\\mathit{A2}_{y} \\epsilon \\omega^{2} e^{\\left(i \\, \\mathit{ks}_{x} x\\right)}}{c^{2}}, \\frac{{\\left(\\frac{i \\, {\\left(i \\, \\mathit{A2}_{z} k_{y} e^{\\left(i \\, \\mathit{ks}_{x} x\\right)} - i \\, \\mathit{A2}_{y} k_{z} e^{\\left(i \\, \\mathit{ks}_{x} x\\right)}\\right)} c k_{y}}{\\mu \\omega} - \\frac{i \\, {\\left(i \\, \\mathit{A2}_{x} k_{z} \\mathit{ks}_{x} e^{\\left(i \\, \\mathit{ks}_{x} x\\right)} - i \\, \\mathit{A2}_{z} \\mathit{ks}_{x}^{2} e^{\\left(i \\, \\mathit{ks}_{x} x\\right)}\\right)} c}{\\mu \\omega}\\right)} \\omega}{c} = -\\frac{\\mathit{A2}_{z} \\epsilon \\omega^{2} e^{\\left(i \\, \\mathit{ks}_{x} x\\right)}}{c^{2}}\\right]$"
      ],
      "text/plain": [
       "<IPython.core.display.Math object>"
      ]
     },
     "metadata": {},
     "output_type": "display_data"
    },
    {
     "name": "stdout",
     "output_type": "stream",
     "text": [
      "even_M_rotH_bad_conductor =\n"
     ]
    },
    {
     "data": {
      "text/latex": [
       "$\\displaystyle \\left(\\begin{array}{rrr}\n",
       "\\frac{\\epsilon \\omega^{2} e^{\\left(i \\, \\mathit{ks}_{x} x\\right)}}{c^{2}} - \\frac{{\\left(\\frac{c k_{y}^{2} e^{\\left(i \\, \\mathit{ks}_{x} x\\right)}}{\\mu \\omega} + \\frac{c k_{z}^{2} e^{\\left(i \\, \\mathit{ks}_{x} x\\right)}}{\\mu \\omega}\\right)} \\omega}{c} & \\frac{k_{y} \\mathit{ks}_{x} e^{\\left(i \\, \\mathit{ks}_{x} x\\right)}}{\\mu} & \\frac{k_{z} \\mathit{ks}_{x} e^{\\left(i \\, \\mathit{ks}_{x} x\\right)}}{\\mu} \\\\\n",
       "\\frac{k_{y} \\mathit{ks}_{x} e^{\\left(i \\, \\mathit{ks}_{x} x\\right)}}{\\mu} & \\frac{\\epsilon \\omega^{2} e^{\\left(i \\, \\mathit{ks}_{x} x\\right)}}{c^{2}} - \\frac{{\\left(\\frac{c k_{z}^{2} e^{\\left(i \\, \\mathit{ks}_{x} x\\right)}}{\\mu \\omega} + \\frac{c \\mathit{ks}_{x}^{2} e^{\\left(i \\, \\mathit{ks}_{x} x\\right)}}{\\mu \\omega}\\right)} \\omega}{c} & \\frac{k_{y} k_{z} e^{\\left(i \\, \\mathit{ks}_{x} x\\right)}}{\\mu} \\\\\n",
       "\\frac{k_{z} \\mathit{ks}_{x} e^{\\left(i \\, \\mathit{ks}_{x} x\\right)}}{\\mu} & \\frac{k_{y} k_{z} e^{\\left(i \\, \\mathit{ks}_{x} x\\right)}}{\\mu} & \\frac{\\epsilon \\omega^{2} e^{\\left(i \\, \\mathit{ks}_{x} x\\right)}}{c^{2}} - \\frac{{\\left(\\frac{c k_{y}^{2} e^{\\left(i \\, \\mathit{ks}_{x} x\\right)}}{\\mu \\omega} + \\frac{c \\mathit{ks}_{x}^{2} e^{\\left(i \\, \\mathit{ks}_{x} x\\right)}}{\\mu \\omega}\\right)} \\omega}{c}\n",
       "\\end{array}\\right)$"
      ],
      "text/plain": [
       "<IPython.core.display.Math object>"
      ]
     },
     "metadata": {},
     "output_type": "display_data"
    }
   ],
   "source": [
    "even_vars_bad_conductor = [A2_x, A2_y, A2_z]\n",
    "\n",
    "even_M_rotH_bad_conductor = GenerateMatrix(eqsys_rotH_bad_conductor, even_vars_bad_conductor)\n",
    "\n",
    "print (\"eqsys_rotH_bad_conductor =\")\n",
    "display(Math(latex(eqsys_rotH_bad_conductor)))\n",
    "\n",
    "print (\"even_M_rotH_bad_conductor =\")\n",
    "display(Math(latex(even_M_rotH_bad_conductor)))"
   ]
  },
  {
   "cell_type": "code",
   "execution_count": 40,
   "metadata": {},
   "outputs": [
    {
     "data": {
      "text/latex": [
       "$\\displaystyle \\left[\\frac{\\mathit{A2}_{y} k_{y} \\mathit{ks}_{x} e^{\\left(i \\, \\mathit{ks}_{x} x\\right)}}{\\mu} + \\frac{\\mathit{A2}_{z} k_{z} \\mathit{ks}_{x} e^{\\left(i \\, \\mathit{ks}_{x} x\\right)}}{\\mu} + {\\left(\\frac{\\epsilon \\omega^{2} e^{\\left(i \\, \\mathit{ks}_{x} x\\right)}}{c^{2}} - \\frac{{\\left(\\frac{c k_{y}^{2} e^{\\left(i \\, \\mathit{ks}_{x} x\\right)}}{\\mu \\omega} + \\frac{c k_{z}^{2} e^{\\left(i \\, \\mathit{ks}_{x} x\\right)}}{\\mu \\omega}\\right)} \\omega}{c}\\right)} \\mathit{A2}_{x} = 0, \\frac{\\mathit{A2}_{z} k_{y} k_{z} e^{\\left(i \\, \\mathit{ks}_{x} x\\right)}}{\\mu} + \\frac{\\mathit{A2}_{x} k_{y} \\mathit{ks}_{x} e^{\\left(i \\, \\mathit{ks}_{x} x\\right)}}{\\mu} + {\\left(\\frac{\\epsilon \\omega^{2} e^{\\left(i \\, \\mathit{ks}_{x} x\\right)}}{c^{2}} - \\frac{{\\left(\\frac{c k_{z}^{2} e^{\\left(i \\, \\mathit{ks}_{x} x\\right)}}{\\mu \\omega} + \\frac{c \\mathit{ks}_{x}^{2} e^{\\left(i \\, \\mathit{ks}_{x} x\\right)}}{\\mu \\omega}\\right)} \\omega}{c}\\right)} \\mathit{A2}_{y} = 0, \\frac{\\mathit{A2}_{y} k_{y} k_{z} e^{\\left(i \\, \\mathit{ks}_{x} x\\right)}}{\\mu} + \\frac{\\mathit{A2}_{x} k_{z} \\mathit{ks}_{x} e^{\\left(i \\, \\mathit{ks}_{x} x\\right)}}{\\mu} + {\\left(\\frac{\\epsilon \\omega^{2} e^{\\left(i \\, \\mathit{ks}_{x} x\\right)}}{c^{2}} - \\frac{{\\left(\\frac{c k_{y}^{2} e^{\\left(i \\, \\mathit{ks}_{x} x\\right)}}{\\mu \\omega} + \\frac{c \\mathit{ks}_{x}^{2} e^{\\left(i \\, \\mathit{ks}_{x} x\\right)}}{\\mu \\omega}\\right)} \\omega}{c}\\right)} \\mathit{A2}_{z} = 0\\right]$"
      ],
      "text/plain": [
       "<IPython.core.display.Math object>"
      ]
     },
     "metadata": {},
     "output_type": "display_data"
    },
    {
     "name": "stdout",
     "output_type": "stream",
     "text": [
      "solve([eq, var])\n"
     ]
    },
    {
     "data": {
      "text/latex": [
       "$\\displaystyle \\left[\\frac{\\mathit{A2}_{y} k_{y} \\mathit{ks}_{x} e^{\\left(i \\, \\mathit{ks}_{x} x\\right)}}{\\mu} + \\frac{\\mathit{A2}_{z} k_{z} \\mathit{ks}_{x} e^{\\left(i \\, \\mathit{ks}_{x} x\\right)}}{\\mu} + {\\left(\\frac{\\epsilon \\omega^{2} e^{\\left(i \\, \\mathit{ks}_{x} x\\right)}}{c^{2}} - \\frac{{\\left(\\frac{c k_{y}^{2} e^{\\left(i \\, \\mathit{ks}_{x} x\\right)}}{\\mu \\omega} + \\frac{c k_{z}^{2} e^{\\left(i \\, \\mathit{ks}_{x} x\\right)}}{\\mu \\omega}\\right)} \\omega}{c}\\right)} \\mathit{A2}_{x} = 0, \\mathit{A2}_{x}\\right]$"
      ],
      "text/plain": [
       "<IPython.core.display.Math object>"
      ]
     },
     "metadata": {},
     "output_type": "display_data"
    },
    {
     "name": "stdout",
     "output_type": "stream",
     "text": [
      "\n",
      "sol=\n"
     ]
    },
    {
     "data": {
      "text/latex": [
       "$\\displaystyle \\mathit{A2}_{x} = \\frac{{\\left(\\mathit{A2}_{y} c^{2} k_{y} + \\mathit{A2}_{z} c^{2} k_{z}\\right)} \\mathit{ks}_{x}}{c^{2} k_{y}^{2} + c^{2} k_{z}^{2} - \\epsilon \\mu \\omega^{2}}$"
      ],
      "text/plain": [
       "<IPython.core.display.Math object>"
      ]
     },
     "metadata": {},
     "output_type": "display_data"
    },
    {
     "name": "stdout",
     "output_type": "stream",
     "text": [
      "sl =\n"
     ]
    },
    {
     "data": {
      "text/latex": [
       "$\\displaystyle \\frac{\\mathit{A2}_{y} c^{2} k_{y} \\mathit{ks}_{x}}{c^{2} k_{y}^{2} + c^{2} k_{z}^{2} - \\epsilon \\mu \\omega^{2}} + \\frac{\\mathit{A2}_{z} c^{2} k_{z} \\mathit{ks}_{x}}{c^{2} k_{y}^{2} + c^{2} k_{z}^{2} - \\epsilon \\mu \\omega^{2}}$"
      ],
      "text/plain": [
       "<IPython.core.display.Math object>"
      ]
     },
     "metadata": {},
     "output_type": "display_data"
    },
    {
     "name": "stdout",
     "output_type": "stream",
     "text": [
      "\n",
      "solve([eq, var])\n"
     ]
    },
    {
     "data": {
      "text/latex": [
       "$\\displaystyle \\left[\\frac{\\mathit{A2}_{y} k_{y} \\mathit{ks}_{x} e^{\\left(i \\, \\mathit{ks}_{x} x\\right)}}{\\mu} + \\frac{\\mathit{A2}_{z} k_{z} \\mathit{ks}_{x} e^{\\left(i \\, \\mathit{ks}_{x} x\\right)}}{\\mu} + {\\left(\\frac{\\epsilon \\omega^{2} e^{\\left(i \\, \\mathit{ks}_{x} x\\right)}}{c^{2}} - \\frac{{\\left(\\frac{c k_{y}^{2} e^{\\left(i \\, \\mathit{ks}_{x} x\\right)}}{\\mu \\omega} + \\frac{c k_{z}^{2} e^{\\left(i \\, \\mathit{ks}_{x} x\\right)}}{\\mu \\omega}\\right)} \\omega}{c}\\right)} \\mathit{A2}_{x} = 0, \\mathit{A2}_{z}\\right]$"
      ],
      "text/plain": [
       "<IPython.core.display.Math object>"
      ]
     },
     "metadata": {},
     "output_type": "display_data"
    },
    {
     "name": "stdout",
     "output_type": "stream",
     "text": [
      "\n",
      "sol=\n"
     ]
    },
    {
     "data": {
      "text/latex": [
       "$\\displaystyle \\mathit{A2}_{z} = \\frac{\\mathit{A2}_{x} c^{2} k_{y}^{2} + \\mathit{A2}_{x} c^{2} k_{z}^{2} - \\mathit{A2}_{y} c^{2} k_{y} \\mathit{ks}_{x} - \\mathit{A2}_{x} \\epsilon \\mu \\omega^{2}}{c^{2} k_{z} \\mathit{ks}_{x}}$"
      ],
      "text/plain": [
       "<IPython.core.display.Math object>"
      ]
     },
     "metadata": {},
     "output_type": "display_data"
    },
    {
     "name": "stdout",
     "output_type": "stream",
     "text": [
      "sl =\n"
     ]
    },
    {
     "data": {
      "text/latex": [
       "$\\displaystyle -\\frac{\\mathit{A2}_{y} k_{y}}{k_{z}} + \\frac{\\mathit{A2}_{x} k_{y}^{2}}{k_{z} \\mathit{ks}_{x}} + \\frac{\\mathit{A2}_{x} k_{z}}{\\mathit{ks}_{x}} - \\frac{\\mathit{A2}_{x} \\epsilon \\mu \\omega^{2}}{c^{2} k_{z} \\mathit{ks}_{x}}$"
      ],
      "text/plain": [
       "<IPython.core.display.Math object>"
      ]
     },
     "metadata": {},
     "output_type": "display_data"
    },
    {
     "name": "stdout",
     "output_type": "stream",
     "text": [
      "\n",
      "\n",
      "solve([eq, var])\n"
     ]
    },
    {
     "data": {
      "text/latex": [
       "$\\displaystyle \\left[\\frac{\\mathit{A2}_{z} k_{y} k_{z} e^{\\left(i \\, \\mathit{ks}_{x} x\\right)}}{\\mu} + \\frac{\\mathit{A2}_{x} k_{y} \\mathit{ks}_{x} e^{\\left(i \\, \\mathit{ks}_{x} x\\right)}}{\\mu} + {\\left(\\frac{\\epsilon \\omega^{2} e^{\\left(i \\, \\mathit{ks}_{x} x\\right)}}{c^{2}} - \\frac{{\\left(\\frac{c k_{z}^{2} e^{\\left(i \\, \\mathit{ks}_{x} x\\right)}}{\\mu \\omega} + \\frac{c \\mathit{ks}_{x}^{2} e^{\\left(i \\, \\mathit{ks}_{x} x\\right)}}{\\mu \\omega}\\right)} \\omega}{c}\\right)} \\mathit{A2}_{y} = 0, \\mathit{A2}_{y}\\right]$"
      ],
      "text/plain": [
       "<IPython.core.display.Math object>"
      ]
     },
     "metadata": {},
     "output_type": "display_data"
    },
    {
     "name": "stdout",
     "output_type": "stream",
     "text": [
      "\n",
      "sol=\n"
     ]
    },
    {
     "data": {
      "text/latex": [
       "$\\displaystyle \\mathit{A2}_{y} = \\frac{\\mathit{A2}_{z} c^{2} k_{y} k_{z} + \\mathit{A2}_{x} c^{2} k_{y} \\mathit{ks}_{x}}{c^{2} k_{z}^{2} + c^{2} \\mathit{ks}_{x}^{2} - \\epsilon \\mu \\omega^{2}}$"
      ],
      "text/plain": [
       "<IPython.core.display.Math object>"
      ]
     },
     "metadata": {},
     "output_type": "display_data"
    },
    {
     "name": "stdout",
     "output_type": "stream",
     "text": [
      "sl =\n"
     ]
    },
    {
     "data": {
      "text/latex": [
       "$\\displaystyle \\frac{\\mathit{A2}_{z} c^{2} k_{y} k_{z} + \\mathit{A2}_{x} c^{2} k_{y} \\mathit{ks}_{x}}{c^{2} k_{z}^{2} + c^{2} \\mathit{ks}_{x}^{2} - \\epsilon \\mu \\omega^{2}}$"
      ],
      "text/plain": [
       "<IPython.core.display.Math object>"
      ]
     },
     "metadata": {},
     "output_type": "display_data"
    },
    {
     "name": "stdout",
     "output_type": "stream",
     "text": [
      "\n",
      "\n",
      "\n"
     ]
    }
   ],
   "source": [
    "even_res_rotH_bad_conductor = rot_H_solve_s(even_M_rotH_bad_conductor, even_vars_bad_conductor)"
   ]
  },
  {
   "cell_type": "code",
   "execution_count": 41,
   "metadata": {},
   "outputs": [
    {
     "name": "stdout",
     "output_type": "stream",
     "text": [
      "even_res_rotH_bad_conductor =\n"
     ]
    },
    {
     "data": {
      "text/latex": [
       "$\\displaystyle \\left[\\mathit{A2}_{x} = \\frac{\\mathit{A2}_{y} c^{2} k_{y} \\mathit{ks}_{x}}{c^{2} k_{y}^{2} + c^{2} k_{z}^{2} - \\epsilon \\mu \\omega^{2}} + \\frac{\\mathit{A2}_{z} c^{2} k_{z} \\mathit{ks}_{x}}{c^{2} k_{y}^{2} + c^{2} k_{z}^{2} - \\epsilon \\mu \\omega^{2}}, \\mathit{A2}_{z} = -\\frac{\\mathit{A2}_{y} k_{y}}{k_{z}} + \\frac{\\mathit{A2}_{x} k_{y}^{2}}{k_{z} \\mathit{ks}_{x}} + \\frac{\\mathit{A2}_{x} k_{z}}{\\mathit{ks}_{x}} - \\frac{\\mathit{A2}_{x} \\epsilon \\mu \\omega^{2}}{c^{2} k_{z} \\mathit{ks}_{x}}, \\mathit{A2}_{y} = \\frac{\\mathit{A2}_{z} c^{2} k_{y} k_{z} + \\mathit{A2}_{x} c^{2} k_{y} \\mathit{ks}_{x}}{c^{2} k_{z}^{2} + c^{2} \\mathit{ks}_{x}^{2} - \\epsilon \\mu \\omega^{2}}\\right]$"
      ],
      "text/plain": [
       "<IPython.core.display.Math object>"
      ]
     },
     "metadata": {},
     "output_type": "display_data"
    }
   ],
   "source": [
    "print (\"even_res_rotH_bad_conductor =\")\n",
    "display(Math(latex(even_res_rotH_bad_conductor)))"
   ]
  },
  {
   "cell_type": "code",
   "execution_count": 42,
   "metadata": {},
   "outputs": [
    {
     "data": {
      "text/latex": [
       "$\\displaystyle \\mathit{A2}_{x} = \\frac{\\mathit{A2}_{y} c^{2} k_{y} \\mathit{ks}_{x}}{c^{2} k_{y}^{2} + c^{2} k_{z}^{2} - \\epsilon \\mu \\omega^{2}} + \\frac{\\mathit{A2}_{z} c^{2} k_{z} \\mathit{ks}_{x}}{c^{2} k_{y}^{2} + c^{2} k_{z}^{2} - \\epsilon \\mu \\omega^{2}}$"
      ],
      "text/plain": [
       "<IPython.core.display.Math object>"
      ]
     },
     "metadata": {},
     "output_type": "display_data"
    }
   ],
   "source": [
    "display(Math(latex(even_res_rotH_bad_conductor[0])))"
   ]
  },
  {
   "cell_type": "code",
   "execution_count": 43,
   "metadata": {},
   "outputs": [
    {
     "data": {
      "text/plain": [
       "[B1_y == 0,\n",
       " B1_x*cos(a*kappa) + B2_x*sin(a*kappa) == A2_x*epsilon*e^(I*a*ks_x),\n",
       " B1_y*cos(a*kappa) + B2_y*sin(a*kappa) == A2_y*e^(I*a*ks_x),\n",
       " B1_z*cos(a*kappa) + B2_z*sin(a*kappa) == A2_z*e^(I*a*ks_x),\n",
       " -I*A2_z*k_y*e^(I*a*ks_x) + I*A2_y*k_z*e^(I*a*ks_x) == -I*(B1_z*cos(a*kappa) + B2_z*sin(a*kappa))*k_y + I*(B1_y*cos(a*kappa) + B2_y*sin(a*kappa))*k_z,\n",
       " -(-I*A2_x*k_y*e^(I*a*ks_x) + I*A2_y*ks_x*e^(I*a*ks_x))/mu == -B2_y*kappa*cos(a*kappa) + B1_y*kappa*sin(a*kappa) + I*(B1_x*cos(a*kappa) + B2_x*sin(a*kappa))*k_y,\n",
       " -I*(A2_x*k_z*e^(I*a*ks_x) - A2_z*ks_x*e^(I*a*ks_x))/mu == B2_z*kappa*cos(a*kappa) - B1_z*kappa*sin(a*kappa) - I*(B1_x*cos(a*kappa) + B2_x*sin(a*kappa))*k_z]"
      ]
     },
     "execution_count": 43,
     "metadata": {},
     "output_type": "execute_result"
    }
   ],
   "source": [
    "eqsys_boundary_conditions"
   ]
  },
  {
   "cell_type": "code",
   "execution_count": 44,
   "metadata": {},
   "outputs": [
    {
     "data": {
      "text/plain": [
       "[B1_x, B2_y, B2_z, A2_x, A2_y, A2_z]"
      ]
     },
     "execution_count": 44,
     "metadata": {},
     "output_type": "execute_result"
    }
   ],
   "source": [
    "even_vars"
   ]
  },
  {
   "cell_type": "code",
   "execution_count": 45,
   "metadata": {},
   "outputs": [],
   "source": [
    "eq_sys = eqsys_boundary_conditions + even_res_rotH_inner_vacuum + even_res_rotH_bad_conductor"
   ]
  },
  {
   "cell_type": "code",
   "execution_count": 46,
   "metadata": {},
   "outputs": [
    {
     "data": {
      "text/plain": [
       "[B1_y == 0,\n",
       " B1_x*cos(a*kappa) + B2_x*sin(a*kappa) == A2_x*epsilon*e^(I*a*ks_x),\n",
       " B1_y*cos(a*kappa) + B2_y*sin(a*kappa) == A2_y*e^(I*a*ks_x),\n",
       " B1_z*cos(a*kappa) + B2_z*sin(a*kappa) == A2_z*e^(I*a*ks_x),\n",
       " -I*A2_z*k_y*e^(I*a*ks_x) + I*A2_y*k_z*e^(I*a*ks_x) == -I*(B1_z*cos(a*kappa) + B2_z*sin(a*kappa))*k_y + I*(B1_y*cos(a*kappa) + B2_y*sin(a*kappa))*k_z,\n",
       " -(-I*A2_x*k_y*e^(I*a*ks_x) + I*A2_y*ks_x*e^(I*a*ks_x))/mu == -B2_y*kappa*cos(a*kappa) + B1_y*kappa*sin(a*kappa) + I*(B1_x*cos(a*kappa) + B2_x*sin(a*kappa))*k_y,\n",
       " -I*(A2_x*k_z*e^(I*a*ks_x) - A2_z*ks_x*e^(I*a*ks_x))/mu == B2_z*kappa*cos(a*kappa) - B1_z*kappa*sin(a*kappa) - I*(B1_x*cos(a*kappa) + B2_x*sin(a*kappa))*k_z]"
      ]
     },
     "execution_count": 46,
     "metadata": {},
     "output_type": "execute_result"
    }
   ],
   "source": [
    "eqsys_boundary_conditions"
   ]
  },
  {
   "cell_type": "code",
   "execution_count": 47,
   "metadata": {},
   "outputs": [
    {
     "data": {
      "text/plain": [
       "[B1_x, B2_y, B2_z, A2_x, A2_y, A2_z]"
      ]
     },
     "execution_count": 47,
     "metadata": {},
     "output_type": "execute_result"
    }
   ],
   "source": [
    "even_vars"
   ]
  },
  {
   "cell_type": "code",
   "execution_count": 48,
   "metadata": {},
   "outputs": [
    {
     "name": "stdout",
     "output_type": "stream",
     "text": [
      "even_M =\n"
     ]
    },
    {
     "data": {
      "text/latex": [
       "$\\displaystyle \\left(\\begin{array}{rrrrrr}\n",
       "0 & 0 & 0 & 0 & 0 & 0 \\\\\n",
       "\\cos\\left(a \\kappa\\right) & 0 & 0 & -\\epsilon e^{\\left(i \\, a \\mathit{ks}_{x}\\right)} & 0 & 0 \\\\\n",
       "0 & \\sin\\left(a \\kappa\\right) & 0 & 0 & -e^{\\left(i \\, a \\mathit{ks}_{x}\\right)} & 0 \\\\\n",
       "0 & 0 & \\sin\\left(a \\kappa\\right) & 0 & 0 & -e^{\\left(i \\, a \\mathit{ks}_{x}\\right)} \\\\\n",
       "0 & -i \\, k_{z} \\sin\\left(a \\kappa\\right) & i \\, k_{y} \\sin\\left(a \\kappa\\right) & 0 & i \\, k_{z} e^{\\left(i \\, a \\mathit{ks}_{x}\\right)} & -i \\, k_{y} e^{\\left(i \\, a \\mathit{ks}_{x}\\right)} \\\\\n",
       "-i \\, k_{y} \\cos\\left(a \\kappa\\right) & \\kappa \\cos\\left(a \\kappa\\right) & 0 & \\frac{i \\, k_{y} e^{\\left(i \\, a \\mathit{ks}_{x}\\right)}}{\\mu} & -\\frac{i \\, \\mathit{ks}_{x} e^{\\left(i \\, a \\mathit{ks}_{x}\\right)}}{\\mu} & 0 \\\\\n",
       "i \\, k_{z} \\cos\\left(a \\kappa\\right) & 0 & -\\kappa \\cos\\left(a \\kappa\\right) & -\\frac{i \\, k_{z} e^{\\left(i \\, a \\mathit{ks}_{x}\\right)}}{\\mu} & 0 & \\frac{i \\, \\mathit{ks}_{x} e^{\\left(i \\, a \\mathit{ks}_{x}\\right)}}{\\mu} \\\\\n",
       "1 & -\\frac{i \\, k_{y}}{\\kappa} & -\\frac{i \\, k_{z}}{\\kappa} & 0 & 0 & 0 \\\\\n",
       "\\frac{i \\, \\kappa}{k_{z}} & \\frac{k_{y}}{k_{z}} & 1 & 0 & 0 & 0 \\\\\n",
       "\\frac{i \\, \\kappa}{k_{y}} & 1 & \\frac{k_{z}}{k_{y}} & 0 & 0 & 0 \\\\\n",
       "0 & 0 & 0 & 1 & -\\frac{c^{2} k_{y} \\mathit{ks}_{x}}{c^{2} k_{y}^{2} + c^{2} k_{z}^{2} - \\epsilon \\mu \\omega^{2}} & -\\frac{c^{2} k_{z} \\mathit{ks}_{x}}{c^{2} k_{y}^{2} + c^{2} k_{z}^{2} - \\epsilon \\mu \\omega^{2}} \\\\\n",
       "0 & 0 & 0 & -\\frac{k_{y}^{2}}{k_{z} \\mathit{ks}_{x}} - \\frac{k_{z}}{\\mathit{ks}_{x}} + \\frac{\\epsilon \\mu \\omega^{2}}{c^{2} k_{z} \\mathit{ks}_{x}} & \\frac{k_{y}}{k_{z}} & 1 \\\\\n",
       "0 & 0 & 0 & -\\frac{c^{2} k_{y} \\mathit{ks}_{x}}{c^{2} k_{z}^{2} + c^{2} \\mathit{ks}_{x}^{2} - \\epsilon \\mu \\omega^{2}} & 1 & -\\frac{c^{2} k_{y} k_{z}}{c^{2} k_{z}^{2} + c^{2} \\mathit{ks}_{x}^{2} - \\epsilon \\mu \\omega^{2}}\n",
       "\\end{array}\\right)$"
      ],
      "text/plain": [
       "<IPython.core.display.Math object>"
      ]
     },
     "metadata": {},
     "output_type": "display_data"
    }
   ],
   "source": [
    "even_M = GenerateMatrix(eq_sys, even_vars)\n",
    "print (\"even_M =\")\n",
    "display(Math(latex(even_M)))"
   ]
  },
  {
   "cell_type": "code",
   "execution_count": 49,
   "metadata": {},
   "outputs": [
    {
     "name": "stdout",
     "output_type": "stream",
     "text": [
      "\n",
      "M.nrows() 13\n",
      "M.ncols() 6\n",
      "M.rank() 6\n",
      "M.pivot_rows() = (1, 2, 3, 5, 6, 7)\n",
      "row = (0, 0, 0, 0, 0, 0)\n",
      "row = (cos(a*kappa), 0, 0, -epsilon*e^(I*a*ks_x), 0, 0)\n",
      "row = (0, sin(a*kappa), 0, 0, -e^(I*a*ks_x), 0)\n",
      "row = (0, 0, sin(a*kappa), 0, 0, -e^(I*a*ks_x))\n",
      "row = (0, -I*k_z*sin(a*kappa), I*k_y*sin(a*kappa), 0, I*k_z*e^(I*a*ks_x), -I*k_y*e^(I*a*ks_x))\n",
      "row = (-I*k_y*cos(a*kappa), kappa*cos(a*kappa), 0, I*k_y*e^(I*a*ks_x)/mu, -I*ks_x*e^(I*a*ks_x)/mu, 0)\n",
      "row = (I*k_z*cos(a*kappa), 0, -kappa*cos(a*kappa), -I*k_z*e^(I*a*ks_x)/mu, 0, I*ks_x*e^(I*a*ks_x)/mu)\n",
      "row = (1, -I*k_y/kappa, -I*k_z/kappa, 0, 0, 0)\n",
      "row = (I*kappa/k_z, k_y/k_z, 1, 0, 0, 0)\n",
      "row = (I*kappa/k_y, 1, k_z/k_y, 0, 0, 0)\n",
      "row = (0, 0, 0, 1, -c^2*k_y*ks_x/(c^2*k_y^2 + c^2*k_z^2 - epsilon*mu*omega^2), -c^2*k_z*ks_x/(c^2*k_y^2 + c^2*k_z^2 - epsilon*mu*omega^2))\n",
      "row = (0, 0, 0, -k_y^2/(k_z*ks_x) - k_z/ks_x + epsilon*mu*omega^2/(c^2*k_z*ks_x), k_y/k_z, 1)\n",
      "row = (0, 0, 0, -c^2*k_y*ks_x/(c^2*k_z^2 + c^2*ks_x^2 - epsilon*mu*omega^2), 1, -c^2*k_y*k_z/(c^2*k_z^2 + c^2*ks_x^2 - epsilon*mu*omega^2))\n",
      "M_rows[ 1 ] =\n"
     ]
    },
    {
     "data": {
      "text/latex": [
       "$\\displaystyle \\left(\\cos\\left(a \\kappa\\right),\\,0,\\,0,\\,-\\epsilon e^{\\left(i \\, a \\mathit{ks}_{x}\\right)},\\,0,\\,0\\right)$"
      ],
      "text/plain": [
       "<IPython.core.display.Math object>"
      ]
     },
     "metadata": {},
     "output_type": "display_data"
    },
    {
     "name": "stdout",
     "output_type": "stream",
     "text": [
      "M_rows[ 2 ] =\n"
     ]
    },
    {
     "data": {
      "text/latex": [
       "$\\displaystyle \\left(0,\\,\\sin\\left(a \\kappa\\right),\\,0,\\,0,\\,-e^{\\left(i \\, a \\mathit{ks}_{x}\\right)},\\,0\\right)$"
      ],
      "text/plain": [
       "<IPython.core.display.Math object>"
      ]
     },
     "metadata": {},
     "output_type": "display_data"
    },
    {
     "name": "stdout",
     "output_type": "stream",
     "text": [
      "M_rows[ 3 ] =\n"
     ]
    },
    {
     "data": {
      "text/latex": [
       "$\\displaystyle \\left(0,\\,0,\\,\\sin\\left(a \\kappa\\right),\\,0,\\,0,\\,-e^{\\left(i \\, a \\mathit{ks}_{x}\\right)}\\right)$"
      ],
      "text/plain": [
       "<IPython.core.display.Math object>"
      ]
     },
     "metadata": {},
     "output_type": "display_data"
    },
    {
     "name": "stdout",
     "output_type": "stream",
     "text": [
      "M_rows[ 5 ] =\n"
     ]
    },
    {
     "data": {
      "text/latex": [
       "$\\displaystyle \\left(-i \\, k_{y} \\cos\\left(a \\kappa\\right),\\,\\kappa \\cos\\left(a \\kappa\\right),\\,0,\\,\\frac{i \\, k_{y} e^{\\left(i \\, a \\mathit{ks}_{x}\\right)}}{\\mu},\\,-\\frac{i \\, \\mathit{ks}_{x} e^{\\left(i \\, a \\mathit{ks}_{x}\\right)}}{\\mu},\\,0\\right)$"
      ],
      "text/plain": [
       "<IPython.core.display.Math object>"
      ]
     },
     "metadata": {},
     "output_type": "display_data"
    },
    {
     "name": "stdout",
     "output_type": "stream",
     "text": [
      "M_rows[ 6 ] =\n"
     ]
    },
    {
     "data": {
      "text/latex": [
       "$\\displaystyle \\left(i \\, k_{z} \\cos\\left(a \\kappa\\right),\\,0,\\,-\\kappa \\cos\\left(a \\kappa\\right),\\,-\\frac{i \\, k_{z} e^{\\left(i \\, a \\mathit{ks}_{x}\\right)}}{\\mu},\\,0,\\,\\frac{i \\, \\mathit{ks}_{x} e^{\\left(i \\, a \\mathit{ks}_{x}\\right)}}{\\mu}\\right)$"
      ],
      "text/plain": [
       "<IPython.core.display.Math object>"
      ]
     },
     "metadata": {},
     "output_type": "display_data"
    },
    {
     "name": "stdout",
     "output_type": "stream",
     "text": [
      "M_rows[ 7 ] =\n"
     ]
    },
    {
     "data": {
      "text/latex": [
       "$\\displaystyle \\left(1,\\,-\\frac{i \\, k_{y}}{\\kappa},\\,-\\frac{i \\, k_{z}}{\\kappa},\\,0,\\,0,\\,0\\right)$"
      ],
      "text/plain": [
       "<IPython.core.display.Math object>"
      ]
     },
     "metadata": {},
     "output_type": "display_data"
    },
    {
     "name": "stdout",
     "output_type": "stream",
     "text": [
      "\n",
      "reduced_M.det() = -epsilon*k_y^2*cos(a*kappa)^2*e^(3*I*a*ks_x) - epsilon*k_z^2*cos(a*kappa)^2*e^(3*I*a*ks_x) - epsilon*kappa^2*cos(a*kappa)^2*e^(3*I*a*ks_x) + I*epsilon*k_y^2*ks_x*cos(a*kappa)*e^(3*I*a*ks_x)*sin(a*kappa)/(kappa*mu) + I*epsilon*k_z^2*ks_x*cos(a*kappa)*e^(3*I*a*ks_x)*sin(a*kappa)/(kappa*mu) + 2*I*epsilon*kappa*ks_x*cos(a*kappa)*e^(3*I*a*ks_x)*sin(a*kappa)/mu + k_y^2*cos(a*kappa)^2*e^(3*I*a*ks_x)/mu + k_z^2*cos(a*kappa)^2*e^(3*I*a*ks_x)/mu + epsilon*ks_x^2*e^(3*I*a*ks_x)*sin(a*kappa)^2/mu^2 - I*k_y^2*ks_x*cos(a*kappa)*e^(3*I*a*ks_x)*sin(a*kappa)/(kappa*mu^2) - I*k_z^2*ks_x*cos(a*kappa)*e^(3*I*a*ks_x)*sin(a*kappa)/(kappa*mu^2)\n"
     ]
    }
   ],
   "source": [
    "try:\n",
    "    even_reduced_M = reduceDependedRows(even_M)\n",
    "except:\n",
    "    M_pivot_rows = (0, 1, 2, 3, 4, 6)\n",
    "    even_reduced_M = reduceRows(even_M, M_pivot_rows)\n",
    "even_reduced_M_det = even_reduced_M.det()"
   ]
  },
  {
   "cell_type": "code",
   "execution_count": 50,
   "metadata": {},
   "outputs": [
    {
     "data": {
      "text/latex": [
       "$\\displaystyle \\left(\\begin{array}{rrrrrr}\n",
       "\\cos\\left(a \\kappa\\right) & 0 & 0 & -\\epsilon e^{\\left(i \\, a \\mathit{ks}_{x}\\right)} & 0 & 0 \\\\\n",
       "0 & \\sin\\left(a \\kappa\\right) & 0 & 0 & -e^{\\left(i \\, a \\mathit{ks}_{x}\\right)} & 0 \\\\\n",
       "0 & 0 & \\sin\\left(a \\kappa\\right) & 0 & 0 & -e^{\\left(i \\, a \\mathit{ks}_{x}\\right)} \\\\\n",
       "-i \\, k_{y} \\cos\\left(a \\kappa\\right) & \\kappa \\cos\\left(a \\kappa\\right) & 0 & \\frac{i \\, k_{y} e^{\\left(i \\, a \\mathit{ks}_{x}\\right)}}{\\mu} & -\\frac{i \\, \\mathit{ks}_{x} e^{\\left(i \\, a \\mathit{ks}_{x}\\right)}}{\\mu} & 0 \\\\\n",
       "i \\, k_{z} \\cos\\left(a \\kappa\\right) & 0 & -\\kappa \\cos\\left(a \\kappa\\right) & -\\frac{i \\, k_{z} e^{\\left(i \\, a \\mathit{ks}_{x}\\right)}}{\\mu} & 0 & \\frac{i \\, \\mathit{ks}_{x} e^{\\left(i \\, a \\mathit{ks}_{x}\\right)}}{\\mu} \\\\\n",
       "1 & -\\frac{i \\, k_{y}}{\\kappa} & -\\frac{i \\, k_{z}}{\\kappa} & 0 & 0 & 0\n",
       "\\end{array}\\right)$"
      ],
      "text/plain": [
       "<IPython.core.display.Math object>"
      ]
     },
     "metadata": {},
     "output_type": "display_data"
    }
   ],
   "source": [
    "display(Math(latex(even_reduced_M)))"
   ]
  },
  {
   "cell_type": "code",
   "execution_count": 51,
   "metadata": {},
   "outputs": [
    {
     "name": "stdout",
     "output_type": "stream",
     "text": [
      "even_reduced_M_det =\n"
     ]
    },
    {
     "data": {
      "text/latex": [
       "$\\displaystyle -\\epsilon k_{y}^{2} \\cos\\left(a \\kappa\\right)^{2} e^{\\left(3 i \\, a \\mathit{ks}_{x}\\right)} - \\epsilon k_{z}^{2} \\cos\\left(a \\kappa\\right)^{2} e^{\\left(3 i \\, a \\mathit{ks}_{x}\\right)} - \\epsilon \\kappa^{2} \\cos\\left(a \\kappa\\right)^{2} e^{\\left(3 i \\, a \\mathit{ks}_{x}\\right)} + \\frac{i \\, \\epsilon k_{y}^{2} \\mathit{ks}_{x} \\cos\\left(a \\kappa\\right) e^{\\left(3 i \\, a \\mathit{ks}_{x}\\right)} \\sin\\left(a \\kappa\\right)}{\\kappa \\mu} + \\frac{i \\, \\epsilon k_{z}^{2} \\mathit{ks}_{x} \\cos\\left(a \\kappa\\right) e^{\\left(3 i \\, a \\mathit{ks}_{x}\\right)} \\sin\\left(a \\kappa\\right)}{\\kappa \\mu} + \\frac{2 i \\, \\epsilon \\kappa \\mathit{ks}_{x} \\cos\\left(a \\kappa\\right) e^{\\left(3 i \\, a \\mathit{ks}_{x}\\right)} \\sin\\left(a \\kappa\\right)}{\\mu} + \\frac{k_{y}^{2} \\cos\\left(a \\kappa\\right)^{2} e^{\\left(3 i \\, a \\mathit{ks}_{x}\\right)}}{\\mu} + \\frac{k_{z}^{2} \\cos\\left(a \\kappa\\right)^{2} e^{\\left(3 i \\, a \\mathit{ks}_{x}\\right)}}{\\mu} + \\frac{\\epsilon \\mathit{ks}_{x}^{2} e^{\\left(3 i \\, a \\mathit{ks}_{x}\\right)} \\sin\\left(a \\kappa\\right)^{2}}{\\mu^{2}} - \\frac{i \\, k_{y}^{2} \\mathit{ks}_{x} \\cos\\left(a \\kappa\\right) e^{\\left(3 i \\, a \\mathit{ks}_{x}\\right)} \\sin\\left(a \\kappa\\right)}{\\kappa \\mu^{2}} - \\frac{i \\, k_{z}^{2} \\mathit{ks}_{x} \\cos\\left(a \\kappa\\right) e^{\\left(3 i \\, a \\mathit{ks}_{x}\\right)} \\sin\\left(a \\kappa\\right)}{\\kappa \\mu^{2}}$"
      ],
      "text/plain": [
       "<IPython.core.display.Math object>"
      ]
     },
     "metadata": {},
     "output_type": "display_data"
    }
   ],
   "source": [
    "print (\"even_reduced_M_det =\")\n",
    "display(Math(latex(even_reduced_M_det)))"
   ]
  },
  {
   "cell_type": "code",
   "execution_count": 52,
   "metadata": {},
   "outputs": [
    {
     "name": "stdout",
     "output_type": "stream",
     "text": [
      "even_disp_eq =\n"
     ]
    },
    {
     "data": {
      "text/latex": [
       "$\\displaystyle -\\epsilon k_{y}^{2} \\cos\\left(a \\kappa\\right)^{2} e^{\\left(3 i \\, a \\mathit{ks}_{x}\\right)} - \\epsilon k_{z}^{2} \\cos\\left(a \\kappa\\right)^{2} e^{\\left(3 i \\, a \\mathit{ks}_{x}\\right)} - \\epsilon \\kappa^{2} \\cos\\left(a \\kappa\\right)^{2} e^{\\left(3 i \\, a \\mathit{ks}_{x}\\right)} + \\frac{i \\, \\epsilon k_{y}^{2} \\mathit{ks}_{x} \\cos\\left(a \\kappa\\right) e^{\\left(3 i \\, a \\mathit{ks}_{x}\\right)} \\sin\\left(a \\kappa\\right)}{\\kappa \\mu} + \\frac{i \\, \\epsilon k_{z}^{2} \\mathit{ks}_{x} \\cos\\left(a \\kappa\\right) e^{\\left(3 i \\, a \\mathit{ks}_{x}\\right)} \\sin\\left(a \\kappa\\right)}{\\kappa \\mu} + \\frac{2 i \\, \\epsilon \\kappa \\mathit{ks}_{x} \\cos\\left(a \\kappa\\right) e^{\\left(3 i \\, a \\mathit{ks}_{x}\\right)} \\sin\\left(a \\kappa\\right)}{\\mu} + \\frac{k_{y}^{2} \\cos\\left(a \\kappa\\right)^{2} e^{\\left(3 i \\, a \\mathit{ks}_{x}\\right)}}{\\mu} + \\frac{k_{z}^{2} \\cos\\left(a \\kappa\\right)^{2} e^{\\left(3 i \\, a \\mathit{ks}_{x}\\right)}}{\\mu} + \\frac{\\epsilon \\mathit{ks}_{x}^{2} e^{\\left(3 i \\, a \\mathit{ks}_{x}\\right)} \\sin\\left(a \\kappa\\right)^{2}}{\\mu^{2}} - \\frac{i \\, k_{y}^{2} \\mathit{ks}_{x} \\cos\\left(a \\kappa\\right) e^{\\left(3 i \\, a \\mathit{ks}_{x}\\right)} \\sin\\left(a \\kappa\\right)}{\\kappa \\mu^{2}} - \\frac{i \\, k_{z}^{2} \\mathit{ks}_{x} \\cos\\left(a \\kappa\\right) e^{\\left(3 i \\, a \\mathit{ks}_{x}\\right)} \\sin\\left(a \\kappa\\right)}{\\kappa \\mu^{2}} = 0$"
      ],
      "text/plain": [
       "<IPython.core.display.Math object>"
      ]
     },
     "metadata": {},
     "output_type": "display_data"
    }
   ],
   "source": [
    "even_disp_eq = (even_reduced_M_det == 0)\n",
    "print (\"even_disp_eq =\")\n",
    "display(Math(latex(even_disp_eq)))"
   ]
  },
  {
   "cell_type": "code",
   "execution_count": 53,
   "metadata": {},
   "outputs": [
    {
     "name": "stdout",
     "output_type": "stream",
     "text": [
      "even_disp_eq =\n"
     ]
    },
    {
     "data": {
      "text/latex": [
       "$\\displaystyle -\\epsilon k_{y}^{2} \\cos\\left(a \\kappa\\right)^{2} e^{\\left(3 i \\, a k_{x} - 3 \\, a s_{x}\\right)} - \\epsilon k_{z}^{2} \\cos\\left(a \\kappa\\right)^{2} e^{\\left(3 i \\, a k_{x} - 3 \\, a s_{x}\\right)} - \\epsilon \\kappa^{2} \\cos\\left(a \\kappa\\right)^{2} e^{\\left(3 i \\, a k_{x} - 3 \\, a s_{x}\\right)} + \\frac{i \\, \\epsilon k_{x} k_{y}^{2} \\cos\\left(a \\kappa\\right) e^{\\left(3 i \\, a k_{x} - 3 \\, a s_{x}\\right)} \\sin\\left(a \\kappa\\right)}{\\kappa \\mu} + \\frac{i \\, \\epsilon k_{x} k_{z}^{2} \\cos\\left(a \\kappa\\right) e^{\\left(3 i \\, a k_{x} - 3 \\, a s_{x}\\right)} \\sin\\left(a \\kappa\\right)}{\\kappa \\mu} + \\frac{2 i \\, \\epsilon k_{x} \\kappa \\cos\\left(a \\kappa\\right) e^{\\left(3 i \\, a k_{x} - 3 \\, a s_{x}\\right)} \\sin\\left(a \\kappa\\right)}{\\mu} - \\frac{\\epsilon k_{y}^{2} s_{x} \\cos\\left(a \\kappa\\right) e^{\\left(3 i \\, a k_{x} - 3 \\, a s_{x}\\right)} \\sin\\left(a \\kappa\\right)}{\\kappa \\mu} - \\frac{\\epsilon k_{z}^{2} s_{x} \\cos\\left(a \\kappa\\right) e^{\\left(3 i \\, a k_{x} - 3 \\, a s_{x}\\right)} \\sin\\left(a \\kappa\\right)}{\\kappa \\mu} - \\frac{2 \\, \\epsilon \\kappa s_{x} \\cos\\left(a \\kappa\\right) e^{\\left(3 i \\, a k_{x} - 3 \\, a s_{x}\\right)} \\sin\\left(a \\kappa\\right)}{\\mu} + \\frac{k_{y}^{2} \\cos\\left(a \\kappa\\right)^{2} e^{\\left(3 i \\, a k_{x} - 3 \\, a s_{x}\\right)}}{\\mu} + \\frac{k_{z}^{2} \\cos\\left(a \\kappa\\right)^{2} e^{\\left(3 i \\, a k_{x} - 3 \\, a s_{x}\\right)}}{\\mu} + \\frac{\\epsilon k_{x}^{2} e^{\\left(3 i \\, a k_{x} - 3 \\, a s_{x}\\right)} \\sin\\left(a \\kappa\\right)^{2}}{\\mu^{2}} + \\frac{2 i \\, \\epsilon k_{x} s_{x} e^{\\left(3 i \\, a k_{x} - 3 \\, a s_{x}\\right)} \\sin\\left(a \\kappa\\right)^{2}}{\\mu^{2}} - \\frac{\\epsilon s_{x}^{2} e^{\\left(3 i \\, a k_{x} - 3 \\, a s_{x}\\right)} \\sin\\left(a \\kappa\\right)^{2}}{\\mu^{2}} - \\frac{i \\, k_{x} k_{y}^{2} \\cos\\left(a \\kappa\\right) e^{\\left(3 i \\, a k_{x} - 3 \\, a s_{x}\\right)} \\sin\\left(a \\kappa\\right)}{\\kappa \\mu^{2}} - \\frac{i \\, k_{x} k_{z}^{2} \\cos\\left(a \\kappa\\right) e^{\\left(3 i \\, a k_{x} - 3 \\, a s_{x}\\right)} \\sin\\left(a \\kappa\\right)}{\\kappa \\mu^{2}} + \\frac{k_{y}^{2} s_{x} \\cos\\left(a \\kappa\\right) e^{\\left(3 i \\, a k_{x} - 3 \\, a s_{x}\\right)} \\sin\\left(a \\kappa\\right)}{\\kappa \\mu^{2}} + \\frac{k_{z}^{2} s_{x} \\cos\\left(a \\kappa\\right) e^{\\left(3 i \\, a k_{x} - 3 \\, a s_{x}\\right)} \\sin\\left(a \\kappa\\right)}{\\kappa \\mu^{2}} = 0$"
      ],
      "text/plain": [
       "<IPython.core.display.Math object>"
      ]
     },
     "metadata": {},
     "output_type": "display_data"
    }
   ],
   "source": [
    "k_x = var(\"k_x\")\n",
    "s_x = var(\"s_x\")\n",
    "assume(k_x, \"real\")\n",
    "assume(s_x, \"real\")\n",
    "\n",
    "even_disp_eq = even_disp_eq.subs(ks_x == k_x + I * s_x).full_simplify().expand()\n",
    "print (\"even_disp_eq =\")\n",
    "display(Math(latex(even_disp_eq)))"
   ]
  },
  {
   "cell_type": "code",
   "execution_count": 54,
   "metadata": {},
   "outputs": [
    {
     "name": "stdout",
     "output_type": "stream",
     "text": [
      "even_disp_eq.real() =\n"
     ]
    },
    {
     "data": {
      "text/latex": [
       "$\\displaystyle -\\epsilon k_{y}^{2} \\cos\\left(3 \\, a k_{x}\\right) \\cos\\left(a \\kappa\\right)^{2} e^{\\left(-3 \\, a s_{x}\\right)} - \\epsilon k_{z}^{2} \\cos\\left(3 \\, a k_{x}\\right) \\cos\\left(a \\kappa\\right)^{2} e^{\\left(-3 \\, a s_{x}\\right)} - \\epsilon \\kappa^{2} \\cos\\left(3 \\, a k_{x}\\right) \\cos\\left(a \\kappa\\right)^{2} e^{\\left(-3 \\, a s_{x}\\right)} - \\frac{\\epsilon k_{y}^{2} s_{x} \\cos\\left(3 \\, a k_{x}\\right) \\cos\\left(a \\kappa\\right) e^{\\left(-3 \\, a s_{x}\\right)} \\sin\\left(a \\kappa\\right)}{\\kappa \\mu} - \\frac{\\epsilon k_{z}^{2} s_{x} \\cos\\left(3 \\, a k_{x}\\right) \\cos\\left(a \\kappa\\right) e^{\\left(-3 \\, a s_{x}\\right)} \\sin\\left(a \\kappa\\right)}{\\kappa \\mu} - \\frac{2 \\, \\epsilon \\kappa s_{x} \\cos\\left(3 \\, a k_{x}\\right) \\cos\\left(a \\kappa\\right) e^{\\left(-3 \\, a s_{x}\\right)} \\sin\\left(a \\kappa\\right)}{\\mu} - \\frac{\\epsilon k_{x} k_{y}^{2} \\cos\\left(a \\kappa\\right) e^{\\left(-3 \\, a s_{x}\\right)} \\sin\\left(3 \\, a k_{x}\\right) \\sin\\left(a \\kappa\\right)}{\\kappa \\mu} - \\frac{\\epsilon k_{x} k_{z}^{2} \\cos\\left(a \\kappa\\right) e^{\\left(-3 \\, a s_{x}\\right)} \\sin\\left(3 \\, a k_{x}\\right) \\sin\\left(a \\kappa\\right)}{\\kappa \\mu} - \\frac{2 \\, \\epsilon k_{x} \\kappa \\cos\\left(a \\kappa\\right) e^{\\left(-3 \\, a s_{x}\\right)} \\sin\\left(3 \\, a k_{x}\\right) \\sin\\left(a \\kappa\\right)}{\\mu} + \\frac{k_{y}^{2} \\cos\\left(3 \\, a k_{x}\\right) \\cos\\left(a \\kappa\\right)^{2} e^{\\left(-3 \\, a s_{x}\\right)}}{\\mu} + \\frac{k_{z}^{2} \\cos\\left(3 \\, a k_{x}\\right) \\cos\\left(a \\kappa\\right)^{2} e^{\\left(-3 \\, a s_{x}\\right)}}{\\mu} + \\frac{\\epsilon k_{x}^{2} \\cos\\left(3 \\, a k_{x}\\right) e^{\\left(-3 \\, a s_{x}\\right)} \\sin\\left(a \\kappa\\right)^{2}}{\\mu^{2}} - \\frac{\\epsilon s_{x}^{2} \\cos\\left(3 \\, a k_{x}\\right) e^{\\left(-3 \\, a s_{x}\\right)} \\sin\\left(a \\kappa\\right)^{2}}{\\mu^{2}} - \\frac{2 \\, \\epsilon k_{x} s_{x} e^{\\left(-3 \\, a s_{x}\\right)} \\sin\\left(3 \\, a k_{x}\\right) \\sin\\left(a \\kappa\\right)^{2}}{\\mu^{2}} + \\frac{k_{y}^{2} s_{x} \\cos\\left(3 \\, a k_{x}\\right) \\cos\\left(a \\kappa\\right) e^{\\left(-3 \\, a s_{x}\\right)} \\sin\\left(a \\kappa\\right)}{\\kappa \\mu^{2}} + \\frac{k_{z}^{2} s_{x} \\cos\\left(3 \\, a k_{x}\\right) \\cos\\left(a \\kappa\\right) e^{\\left(-3 \\, a s_{x}\\right)} \\sin\\left(a \\kappa\\right)}{\\kappa \\mu^{2}} + \\frac{k_{x} k_{y}^{2} \\cos\\left(a \\kappa\\right) e^{\\left(-3 \\, a s_{x}\\right)} \\sin\\left(3 \\, a k_{x}\\right) \\sin\\left(a \\kappa\\right)}{\\kappa \\mu^{2}} + \\frac{k_{x} k_{z}^{2} \\cos\\left(a \\kappa\\right) e^{\\left(-3 \\, a s_{x}\\right)} \\sin\\left(3 \\, a k_{x}\\right) \\sin\\left(a \\kappa\\right)}{\\kappa \\mu^{2}} = 0$"
      ],
      "text/plain": [
       "<IPython.core.display.Math object>"
      ]
     },
     "metadata": {},
     "output_type": "display_data"
    }
   ],
   "source": [
    "print (\"even_disp_eq.real() =\")\n",
    "display(Math(latex(even_disp_eq.lhs().real() == 0)))"
   ]
  },
  {
   "cell_type": "code",
   "execution_count": 55,
   "metadata": {},
   "outputs": [
    {
     "name": "stdout",
     "output_type": "stream",
     "text": [
      "even_disp_eq.imag() =\n"
     ]
    },
    {
     "data": {
      "text/latex": [
       "$\\displaystyle -\\epsilon k_{y}^{2} \\cos\\left(a \\kappa\\right)^{2} e^{\\left(-3 \\, a s_{x}\\right)} \\sin\\left(3 \\, a k_{x}\\right) - \\epsilon k_{z}^{2} \\cos\\left(a \\kappa\\right)^{2} e^{\\left(-3 \\, a s_{x}\\right)} \\sin\\left(3 \\, a k_{x}\\right) - \\epsilon \\kappa^{2} \\cos\\left(a \\kappa\\right)^{2} e^{\\left(-3 \\, a s_{x}\\right)} \\sin\\left(3 \\, a k_{x}\\right) + \\frac{\\epsilon k_{x} k_{y}^{2} \\cos\\left(3 \\, a k_{x}\\right) \\cos\\left(a \\kappa\\right) e^{\\left(-3 \\, a s_{x}\\right)} \\sin\\left(a \\kappa\\right)}{\\kappa \\mu} + \\frac{\\epsilon k_{x} k_{z}^{2} \\cos\\left(3 \\, a k_{x}\\right) \\cos\\left(a \\kappa\\right) e^{\\left(-3 \\, a s_{x}\\right)} \\sin\\left(a \\kappa\\right)}{\\kappa \\mu} + \\frac{2 \\, \\epsilon k_{x} \\kappa \\cos\\left(3 \\, a k_{x}\\right) \\cos\\left(a \\kappa\\right) e^{\\left(-3 \\, a s_{x}\\right)} \\sin\\left(a \\kappa\\right)}{\\mu} - \\frac{\\epsilon k_{y}^{2} s_{x} \\cos\\left(a \\kappa\\right) e^{\\left(-3 \\, a s_{x}\\right)} \\sin\\left(3 \\, a k_{x}\\right) \\sin\\left(a \\kappa\\right)}{\\kappa \\mu} - \\frac{\\epsilon k_{z}^{2} s_{x} \\cos\\left(a \\kappa\\right) e^{\\left(-3 \\, a s_{x}\\right)} \\sin\\left(3 \\, a k_{x}\\right) \\sin\\left(a \\kappa\\right)}{\\kappa \\mu} - \\frac{2 \\, \\epsilon \\kappa s_{x} \\cos\\left(a \\kappa\\right) e^{\\left(-3 \\, a s_{x}\\right)} \\sin\\left(3 \\, a k_{x}\\right) \\sin\\left(a \\kappa\\right)}{\\mu} + \\frac{k_{y}^{2} \\cos\\left(a \\kappa\\right)^{2} e^{\\left(-3 \\, a s_{x}\\right)} \\sin\\left(3 \\, a k_{x}\\right)}{\\mu} + \\frac{k_{z}^{2} \\cos\\left(a \\kappa\\right)^{2} e^{\\left(-3 \\, a s_{x}\\right)} \\sin\\left(3 \\, a k_{x}\\right)}{\\mu} + \\frac{2 \\, \\epsilon k_{x} s_{x} \\cos\\left(3 \\, a k_{x}\\right) e^{\\left(-3 \\, a s_{x}\\right)} \\sin\\left(a \\kappa\\right)^{2}}{\\mu^{2}} + \\frac{\\epsilon k_{x}^{2} e^{\\left(-3 \\, a s_{x}\\right)} \\sin\\left(3 \\, a k_{x}\\right) \\sin\\left(a \\kappa\\right)^{2}}{\\mu^{2}} - \\frac{\\epsilon s_{x}^{2} e^{\\left(-3 \\, a s_{x}\\right)} \\sin\\left(3 \\, a k_{x}\\right) \\sin\\left(a \\kappa\\right)^{2}}{\\mu^{2}} - \\frac{k_{x} k_{y}^{2} \\cos\\left(3 \\, a k_{x}\\right) \\cos\\left(a \\kappa\\right) e^{\\left(-3 \\, a s_{x}\\right)} \\sin\\left(a \\kappa\\right)}{\\kappa \\mu^{2}} - \\frac{k_{x} k_{z}^{2} \\cos\\left(3 \\, a k_{x}\\right) \\cos\\left(a \\kappa\\right) e^{\\left(-3 \\, a s_{x}\\right)} \\sin\\left(a \\kappa\\right)}{\\kappa \\mu^{2}} + \\frac{k_{y}^{2} s_{x} \\cos\\left(a \\kappa\\right) e^{\\left(-3 \\, a s_{x}\\right)} \\sin\\left(3 \\, a k_{x}\\right) \\sin\\left(a \\kappa\\right)}{\\kappa \\mu^{2}} + \\frac{k_{z}^{2} s_{x} \\cos\\left(a \\kappa\\right) e^{\\left(-3 \\, a s_{x}\\right)} \\sin\\left(3 \\, a k_{x}\\right) \\sin\\left(a \\kappa\\right)}{\\kappa \\mu^{2}} = 0$"
      ],
      "text/plain": [
       "<IPython.core.display.Math object>"
      ]
     },
     "metadata": {},
     "output_type": "display_data"
    }
   ],
   "source": [
    "print (\"even_disp_eq.imag() =\")\n",
    "display(Math(latex(even_disp_eq.lhs().imag() == 0)))"
   ]
  },
  {
   "cell_type": "markdown",
   "metadata": {},
   "source": [
    "волновой вектор, направленный вдоль оси x может быть комплексным $ks_x = k_x + i\\,s_x$"
   ]
  },
  {
   "cell_type": "code",
   "execution_count": 56,
   "metadata": {},
   "outputs": [
    {
     "name": "stdout",
     "output_type": "stream",
     "text": [
      "even_disp_eq =\n"
     ]
    },
    {
     "data": {
      "text/latex": [
       "$\\displaystyle \\left[s_{x} = \\frac{i \\, \\epsilon k_{x} \\kappa \\sin\\left(a \\kappa\\right) - {\\left(\\epsilon k_{y}^{2} + \\epsilon k_{z}^{2} + \\epsilon \\kappa^{2}\\right)} \\mu \\cos\\left(a \\kappa\\right) + {\\left(k_{y}^{2} + k_{z}^{2}\\right)} \\cos\\left(a \\kappa\\right)}{\\epsilon \\kappa \\sin\\left(a \\kappa\\right)}, s_{x} = -\\frac{\\kappa \\mu \\cos\\left(a \\kappa\\right) - i \\, k_{x} \\sin\\left(a \\kappa\\right)}{\\sin\\left(a \\kappa\\right)}\\right]$"
      ],
      "text/plain": [
       "<IPython.core.display.Math object>"
      ]
     },
     "metadata": {},
     "output_type": "display_data"
    }
   ],
   "source": [
    "even_disp_eq = solve([even_reduced_M_det.subs(ks_x == k_x + I * s_x) == 0], s_x)\n",
    "print (\"even_disp_eq =\")\n",
    "display(Math(latex(even_disp_eq)))"
   ]
  },
  {
   "cell_type": "code",
   "execution_count": 57,
   "metadata": {},
   "outputs": [
    {
     "name": "stdout",
     "output_type": "stream",
     "text": [
      "eq_kappa_inner_vacuum =\n"
     ]
    },
    {
     "data": {
      "text/latex": [
       "$\\displaystyle -k_{y}^{2} - k_{z}^{2} + \\frac{\\omega^{2}}{c^{2}} = \\kappa^{2}$"
      ],
      "text/plain": [
       "<IPython.core.display.Math object>"
      ]
     },
     "metadata": {},
     "output_type": "display_data"
    }
   ],
   "source": [
    "print(\"eq_kappa_inner_vacuum =\")\n",
    "display(Math(latex(eq_kappa_inner_vacuum)))"
   ]
  },
  {
   "cell_type": "code",
   "execution_count": 58,
   "metadata": {},
   "outputs": [],
   "source": [
    "#even_disp_eq = solve([even_reduced_M_det == 0], s_x)\n",
    "#print (\"even_disp_eq =\")\n",
    "#display(Math(latex(even_disp_eq)))"
   ]
  },
  {
   "cell_type": "code",
   "execution_count": 59,
   "metadata": {},
   "outputs": [
    {
     "name": "stdout",
     "output_type": "stream",
     "text": [
      "even_H_inner_vacuum_y (x)  (I*B2_y*c*k_y*k_z + I*B2_z*c*k_z^2 + I*B2_z*c*kappa^2)*cos(kappa*x)/(kappa*omega)\n",
      "even_H_bad_conductor_y (x) = ((A2_y*c^2*k_y*ks_x/(c^2*k_y^2 + c^2*k_z^2 - epsilon*mu*omega^2) + A2_z*c^2*k_z*ks_x/(c^2*k_y^2 + c^2*k_z^2 - epsilon*mu*omega^2))*k_z*e^(I*ks_x*x) - A2_z*ks_x*e^(I*ks_x*x))*c/(mu*omega)\n"
     ]
    }
   ],
   "source": [
    "even_H_inner_vacuum_y (x) = H_inner_vacuum_y (x).subs(even_res_rotH_inner_vacuum[0]).subs(even_eqs_inner_vacuum).subs(solve(eq_kappa_inner_vacuum,k_z^2)).full_simplify()\n",
    "even_H_bad_conductor_y(x) = H_bad_conductor_y(x).subs(even_res_rotH_bad_conductor[0])#.subs(solve(eq_s_bad_conductor,k_x^2)).full_simplify()\n",
    "\n",
    "print (\"even_H_inner_vacuum_y (x) \", even_H_inner_vacuum_y (x))\n",
    "print (\"even_H_bad_conductor_y (x) =\", even_H_bad_conductor_y (x))"
   ]
  },
  {
   "cell_type": "code",
   "execution_count": 60,
   "metadata": {},
   "outputs": [
    {
     "name": "stdout",
     "output_type": "stream",
     "text": [
      "even_E_inner_vacuum_z (x) = B2_z*sin(kappa*x)\n",
      "even_E_inner_vacuum_x (x) = (I*B2_y*k_y + I*B2_z*k_z)*cos(kappa*x)/kappa\n",
      "\n",
      "even_E_bad_conductor_z (x) = A2_z*e^(I*ks_x*x)\n",
      "even_E_bad_conductor_x (x) = (A2_y*c^2*k_y*ks_x/(c^2*k_y^2 + c^2*k_z^2 - epsilon*mu*omega^2) + A2_z*c^2*k_z*ks_x/(c^2*k_y^2 + c^2*k_z^2 - epsilon*mu*omega^2))*e^(I*ks_x*x)\n"
     ]
    }
   ],
   "source": [
    "even_E_inner_vacuum_z (x) = E_inner_vacuum_z (x).subs(even_res_rotH_inner_vacuum[0]).subs(even_eqs_inner_vacuum).subs(solve(eq_kappa_inner_vacuum,k_z^2)).full_simplify()\n",
    "even_E_inner_vacuum_x (x) = E_inner_vacuum_x (x).subs(even_res_rotH_inner_vacuum[0]).subs(even_eqs_inner_vacuum).subs(solve(eq_kappa_inner_vacuum,k_z^2)).full_simplify()\n",
    "\n",
    "# x > a\n",
    "even_E_bad_conductor_z (x) = E_bad_conductor_z (x).subs(even_res_rotH_bad_conductor[0])#.subs(solve(eq_s_bad_conductor,k_z^2)).full_simplify()\n",
    "even_E_bad_conductor_x (x) = E_bad_conductor_x (x).subs(even_res_rotH_bad_conductor[0])#.subs(solve(eq_s_bad_conductor,k_z^2)).full_simplify()\n",
    "\n",
    "print (\"even_E_inner_vacuum_z (x) =\", even_E_inner_vacuum_z (x))\n",
    "print (\"even_E_inner_vacuum_x (x) =\", even_E_inner_vacuum_x (x))\n",
    "print (\"\")\n",
    "\n",
    "print (\"even_E_bad_conductor_z (x) =\", even_E_bad_conductor_z (x))\n",
    "print (\"even_E_bad_conductor_x (x) =\", even_E_bad_conductor_x (x))"
   ]
  },
  {
   "cell_type": "code",
   "execution_count": 61,
   "metadata": {},
   "outputs": [],
   "source": [
    "# тангенциальная компонента напряженности магнитного поля\n",
    "even_eqHy_a  = even_H_bad_conductor_y (a)  == even_H_inner_vacuum_y (a)"
   ]
  },
  {
   "cell_type": "code",
   "execution_count": 62,
   "metadata": {},
   "outputs": [],
   "source": [
    "#even_A = solve (even_eqHy_a, A2_z)\n",
    "#print (\"even_A =\")\n",
    "#display(Math(latex(even_A)))\n",
    "#even_A = ((even_A[0].rhs()/e^(a*s_x)).subs(even_disp_eq).full_simplify())*e^(a*s_x)\n",
    "#print (\"even_A =\")\n",
    "#display(Math(latex(even_A)))"
   ]
  },
  {
   "cell_type": "code",
   "execution_count": 63,
   "metadata": {},
   "outputs": [
    {
     "ename": "ValueError",
     "evalue": "duplicate substitution for s_x, got values (I*epsilon*k_x*kappa*sin(a*kappa) - (epsilon*k_y^2 + epsilon*k_z^2 + epsilon*kappa^2)*mu*cos(a*kappa) + (k_y^2 + k_z^2)*cos(a*kappa))/(epsilon*kappa*sin(a*kappa)) and -(kappa*mu*cos(a*kappa) - I*k_x*sin(a*kappa))/sin(a*kappa)",
     "output_type": "error",
     "traceback": [
      "\u001b[0;31m---------------------------------------------------------------------------\u001b[0m",
      "\u001b[0;31mValueError\u001b[0m                                Traceback (most recent call last)",
      "\u001b[0;32m<ipython-input-63-f6daa96d600d>\u001b[0m in \u001b[0;36m<module>\u001b[0;34m\u001b[0m\n\u001b[0;32m----> 1\u001b[0;31m \u001b[0meven_eq_kappa\u001b[0m \u001b[0;34m=\u001b[0m \u001b[0meq_kappa_inner_vacuum\u001b[0m\u001b[0;34m.\u001b[0m\u001b[0msubs\u001b[0m\u001b[0;34m(\u001b[0m\u001b[0meven_disp_eq\u001b[0m\u001b[0;34m)\u001b[0m\u001b[0;34m.\u001b[0m\u001b[0mfull_simplify\u001b[0m\u001b[0;34m(\u001b[0m\u001b[0;34m)\u001b[0m\u001b[0;34m\u001b[0m\u001b[0;34m\u001b[0m\u001b[0m\n\u001b[0m\u001b[1;32m      2\u001b[0m \u001b[0mprint\u001b[0m\u001b[0;34m(\u001b[0m\u001b[0;34m\"even_eq_kappa =\"\u001b[0m\u001b[0;34m)\u001b[0m\u001b[0;34m\u001b[0m\u001b[0;34m\u001b[0m\u001b[0m\n\u001b[1;32m      3\u001b[0m \u001b[0mdisplay\u001b[0m\u001b[0;34m(\u001b[0m\u001b[0mMath\u001b[0m\u001b[0;34m(\u001b[0m\u001b[0mlatex\u001b[0m\u001b[0;34m(\u001b[0m\u001b[0meven_eq_kappa\u001b[0m\u001b[0;34m)\u001b[0m\u001b[0;34m)\u001b[0m\u001b[0;34m)\u001b[0m\u001b[0;34m\u001b[0m\u001b[0;34m\u001b[0m\u001b[0m\n",
      "\u001b[0;32m/usr3/articles/sagemath_docker_build/sage/local/lib/python3.9/site-packages/sage/symbolic/expression.pyx\u001b[0m in \u001b[0;36msage.symbolic.expression.Expression.substitute (build/cythonized/sage/symbolic/expression.cpp:32088)\u001b[0;34m()\u001b[0m\n\u001b[1;32m   5618\u001b[0m \u001b[0;34m\u001b[0m\u001b[0m\n\u001b[1;32m   5619\u001b[0m         \u001b[0;32mfor\u001b[0m \u001b[0ma\u001b[0m \u001b[0;32min\u001b[0m \u001b[0margs\u001b[0m\u001b[0;34m:\u001b[0m\u001b[0;34m\u001b[0m\u001b[0;34m\u001b[0m\u001b[0m\n\u001b[0;32m-> 5620\u001b[0;31m             \u001b[0m_dict_update_check_duplicate\u001b[0m\u001b[0;34m(\u001b[0m\u001b[0msdict\u001b[0m\u001b[0;34m,\u001b[0m \u001b[0m_subs_make_dict\u001b[0m\u001b[0;34m(\u001b[0m\u001b[0ma\u001b[0m\u001b[0;34m)\u001b[0m\u001b[0;34m)\u001b[0m\u001b[0;34m\u001b[0m\u001b[0;34m\u001b[0m\u001b[0m\n\u001b[0m\u001b[1;32m   5621\u001b[0m \u001b[0;34m\u001b[0m\u001b[0m\n\u001b[1;32m   5622\u001b[0m         \u001b[0;32mif\u001b[0m \u001b[0mkwds\u001b[0m\u001b[0;34m:\u001b[0m\u001b[0;34m\u001b[0m\u001b[0;34m\u001b[0m\u001b[0m\n",
      "\u001b[0;32m/usr3/articles/sagemath_docker_build/sage/local/lib/python3.9/site-packages/sage/symbolic/expression.pyx\u001b[0m in \u001b[0;36msage.symbolic.expression._subs_make_dict (build/cythonized/sage/symbolic/expression.cpp:5844)\u001b[0;34m()\u001b[0m\n\u001b[1;32m    521\u001b[0m         \u001b[0mresult\u001b[0m \u001b[0;34m=\u001b[0m \u001b[0;34m{\u001b[0m\u001b[0;34m}\u001b[0m\u001b[0;34m\u001b[0m\u001b[0;34m\u001b[0m\u001b[0m\n\u001b[1;32m    522\u001b[0m         \u001b[0;32mfor\u001b[0m \u001b[0md\u001b[0m \u001b[0;32min\u001b[0m \u001b[0ms\u001b[0m\u001b[0;34m:\u001b[0m\u001b[0;34m\u001b[0m\u001b[0;34m\u001b[0m\u001b[0m\n\u001b[0;32m--> 523\u001b[0;31m             \u001b[0m_dict_update_check_duplicate\u001b[0m\u001b[0;34m(\u001b[0m\u001b[0mresult\u001b[0m\u001b[0;34m,\u001b[0m \u001b[0m_subs_make_dict\u001b[0m\u001b[0;34m(\u001b[0m\u001b[0md\u001b[0m\u001b[0;34m)\u001b[0m\u001b[0;34m)\u001b[0m\u001b[0;34m\u001b[0m\u001b[0;34m\u001b[0m\u001b[0m\n\u001b[0m\u001b[1;32m    524\u001b[0m         \u001b[0;32mreturn\u001b[0m \u001b[0mresult\u001b[0m\u001b[0;34m\u001b[0m\u001b[0;34m\u001b[0m\u001b[0m\n\u001b[1;32m    525\u001b[0m     \u001b[0;32melse\u001b[0m\u001b[0;34m:\u001b[0m\u001b[0;34m\u001b[0m\u001b[0;34m\u001b[0m\u001b[0m\n",
      "\u001b[0;32m/usr3/articles/sagemath_docker_build/sage/local/lib/python3.9/site-packages/sage/symbolic/expression.pyx\u001b[0m in \u001b[0;36msage.symbolic.expression._dict_update_check_duplicate (build/cythonized/sage/symbolic/expression.cpp:5400)\u001b[0;34m()\u001b[0m\n\u001b[1;32m    446\u001b[0m         \u001b[0;32mif\u001b[0m \u001b[0mk\u001b[0m \u001b[0;32min\u001b[0m \u001b[0md1\u001b[0m\u001b[0;34m:\u001b[0m\u001b[0;34m\u001b[0m\u001b[0;34m\u001b[0m\u001b[0m\n\u001b[1;32m    447\u001b[0m             \u001b[0mmsg\u001b[0m \u001b[0;34m=\u001b[0m \u001b[0;34m\"duplicate substitution for {}, got values {} and {}\"\u001b[0m\u001b[0;34m\u001b[0m\u001b[0;34m\u001b[0m\u001b[0m\n\u001b[0;32m--> 448\u001b[0;31m             \u001b[0;32mraise\u001b[0m \u001b[0mValueError\u001b[0m\u001b[0;34m(\u001b[0m\u001b[0mmsg\u001b[0m\u001b[0;34m.\u001b[0m\u001b[0mformat\u001b[0m\u001b[0;34m(\u001b[0m\u001b[0mk\u001b[0m\u001b[0;34m,\u001b[0m \u001b[0md1\u001b[0m\u001b[0;34m[\u001b[0m\u001b[0mk\u001b[0m\u001b[0;34m]\u001b[0m\u001b[0;34m,\u001b[0m \u001b[0md2\u001b[0m\u001b[0;34m[\u001b[0m\u001b[0mk\u001b[0m\u001b[0;34m]\u001b[0m\u001b[0;34m)\u001b[0m\u001b[0;34m)\u001b[0m\u001b[0;34m\u001b[0m\u001b[0;34m\u001b[0m\u001b[0m\n\u001b[0m\u001b[1;32m    449\u001b[0m \u001b[0;34m\u001b[0m\u001b[0m\n\u001b[1;32m    450\u001b[0m     \u001b[0md1\u001b[0m\u001b[0;34m.\u001b[0m\u001b[0mupdate\u001b[0m\u001b[0;34m(\u001b[0m\u001b[0md2\u001b[0m\u001b[0;34m)\u001b[0m\u001b[0;34m\u001b[0m\u001b[0;34m\u001b[0m\u001b[0m\n",
      "\u001b[0;31mValueError\u001b[0m: duplicate substitution for s_x, got values (I*epsilon*k_x*kappa*sin(a*kappa) - (epsilon*k_y^2 + epsilon*k_z^2 + epsilon*kappa^2)*mu*cos(a*kappa) + (k_y^2 + k_z^2)*cos(a*kappa))/(epsilon*kappa*sin(a*kappa)) and -(kappa*mu*cos(a*kappa) - I*k_x*sin(a*kappa))/sin(a*kappa)"
     ]
    }
   ],
   "source": [
    "even_eq_kappa = eq_kappa_inner_vacuum.subs(even_disp_eq).full_simplify()\n",
    "print(\"even_eq_kappa =\")\n",
    "display(Math(latex(even_eq_kappa)))"
   ]
  },
  {
   "cell_type": "code",
   "execution_count": null,
   "metadata": {},
   "outputs": [],
   "source": [
    "even_sol_kappa = solve(even_eq_kappa, kappa)\n",
    "print(\"even_sol_kappa =\")\n",
    "display(Math(latex(even_sol_kappa)))"
   ]
  },
  {
   "cell_type": "code",
   "execution_count": null,
   "metadata": {},
   "outputs": [],
   "source": [
    "# eq_kappa_s = eq_kappa.subs(solve(eq_s, k^2)).full_simplify()\n",
    "#eq_s2 = eq_kappa_s.solve(s^2)\n",
    "#eq_kappa2 = eq_kappa_s.solve(kappa^2)\n",
    "\n",
    "#print(\"eq_s2 =\")\n",
    "#display(Math(latex(eq_s2[0].expand())))\n",
    "#print(\"eq_kappa2 =\")\n",
    "#display(Math(latex(eq_kappa2[0].expand())))\n",
    "\n",
    "#eq_kappa2_s2 = (eq_kappa_s.solve(omega^2)[0]/c^2).full_simplify()\n",
    "\n",
    "#print(\"eq_kappa2_s2 =\")\n",
    "#display(Math(latex(eq_kappa2_s2)))"
   ]
  },
  {
   "cell_type": "code",
   "execution_count": null,
   "metadata": {},
   "outputs": [],
   "source": [
    "# sgs\n",
    "A = 0.1\n",
    "kappa_A_max = 13*pi.n()/2\n",
    "s_A_max = 20\n",
    "digit_values = [omega == 2*pi.n()*10^11, mu == 1, epsilon == 5, c == 299792458 * 100]\n",
    "print (digit_values)"
   ]
  },
  {
   "cell_type": "code",
   "execution_count": null,
   "metadata": {},
   "outputs": [],
   "source": [
    "even_sol_kappa_d = even_sol_kappa[0].subs(digit_values)\n",
    "print(\"even_sol_kappa_d =\", even_sol_kappa_d)"
   ]
  },
  {
   "cell_type": "code",
   "execution_count": null,
   "metadata": {},
   "outputs": [],
   "source": [
    "even_disp_eq_d = even_disp_eq.subs(digit_values)\n",
    "print (\"even_disp_eq_d =\", even_disp_eq_d)"
   ]
  },
  {
   "cell_type": "code",
   "execution_count": null,
   "metadata": {},
   "outputs": [],
   "source": [
    "even_disp_eq_da = even_disp_eq_d * a\n",
    "print (\"even_disp_eq_da =\", even_disp_eq_da)"
   ]
  },
  {
   "cell_type": "code",
   "execution_count": null,
   "metadata": {},
   "outputs": [],
   "source": [
    "print (even_disp_eq_d.lhs().subs(a * kappa == x).subs(kappa == x))"
   ]
  },
  {
   "cell_type": "code",
   "execution_count": null,
   "metadata": {},
   "outputs": [],
   "source": [
    "r = omega / c * sqrt(epsilon * mu - 1)\n",
    "print (\"r =\", r)\n",
    "\n",
    "r = r.subs(digit_values)\n",
    "print (\"r =\", r)"
   ]
  },
  {
   "cell_type": "code",
   "execution_count": null,
   "metadata": {},
   "outputs": [],
   "source": [
    "even_disp_eq_fa = lambda x : even_disp_eq_d.lhs().subs(kappa * a == x).subs(kappa == x)\n",
    "p = plot([even_disp_eq_fa, sqrt((r * A)^2 - x^2)], (x, 0, kappa_A_max), ymin = 0, ymax = s_A_max)\n",
    "p.show()"
   ]
  },
  {
   "cell_type": "code",
   "execution_count": null,
   "metadata": {},
   "outputs": [],
   "source": [
    "even_disp_eq_f = lambda x : even_disp_eq_d.rhs().subs(kappa == x).subs(a == A)\n",
    "p = plot([even_disp_eq_f, sqrt((r)^2 - x^2)], (x, 0, kappa_A_max / A), ymin = 0, ymax = s_A_max / A)\n",
    "p.show()"
   ]
  },
  {
   "cell_type": "code",
   "execution_count": null,
   "metadata": {},
   "outputs": [],
   "source": [
    "even_f = lambda x : even_disp_eq_f(x) - sqrt((r)^2 - x^2)\n",
    "print (\"even_f(x) =\",even_f(x))\n",
    "p = plot(even_f, (0, kappa_A_max / A), ymin = - s_A_max / A, ymax = s_A_max / A)\n",
    "p.show()"
   ]
  },
  {
   "cell_type": "code",
   "execution_count": null,
   "metadata": {},
   "outputs": [],
   "source": [
    "even_kappa_sol = find_root(even_f(x) == 0, 0, pi/2/A)\n",
    "print(\"even_kappa_sol\", even_kappa_sol)"
   ]
  },
  {
   "cell_type": "code",
   "execution_count": null,
   "metadata": {},
   "outputs": [],
   "source": [
    "even_s_sol = even_disp_eq_d.rhs()\n",
    "print(\"even_s_sol =\", even_s_sol)"
   ]
  },
  {
   "cell_type": "code",
   "execution_count": null,
   "metadata": {},
   "outputs": [],
   "source": [
    "even_s_sol = even_s_sol.subs(kappa == even_kappa_sol)\n",
    "print(\"even_s_sol =\", even_s_sol)"
   ]
  },
  {
   "cell_type": "code",
   "execution_count": null,
   "metadata": {},
   "outputs": [],
   "source": [
    "even_s_sol = even_s_sol.subs(a == A)\n",
    "print(\"even_s_sol =\", even_s_sol)"
   ]
  },
  {
   "cell_type": "code",
   "execution_count": null,
   "metadata": {},
   "outputs": [],
   "source": [
    "even_k_sol = solve(eq_kappa, k)\n",
    "print(\"even_k_sol =\", even_k_sol)"
   ]
  },
  {
   "cell_type": "code",
   "execution_count": null,
   "metadata": {},
   "outputs": [],
   "source": [
    "even_k_sol = abs(even_k_sol[0].rhs()).subs(digit_values).subs(kappa == even_kappa_sol)\n",
    "print(\"even_k_sol =\", even_k_sol)"
   ]
  },
  {
   "cell_type": "code",
   "execution_count": null,
   "metadata": {},
   "outputs": [],
   "source": [
    "even_E_inner_vacuum_z_d (x) = even_E_inner_vacuum_z (x).subs(B2_z == 1, kappa == even_kappa_sol)\n",
    "print (\"even_E_inner_vacuum_z_d (x) =\", even_E_inner_vacuum_z_d (x))\n",
    "even_E_bad_conductor_z_d (x) = even_E_bad_conductor_z (x).subs(A2_z == even_A).subs(B2_z == 1, s == even_s_sol, kappa == even_kappa_sol, a == A)\n",
    "print (\"even_E_bad_conductor_z_d (x) =\", even_E_bad_conductor_z_d (x))"
   ]
  },
  {
   "cell_type": "code",
   "execution_count": null,
   "metadata": {},
   "outputs": [],
   "source": [
    "even_E_inner_vacuum_x_d (x) = even_E_inner_vacuum_x (x).subs(B2_z == 1, kappa == even_kappa_sol, k = even_k_sol)\n",
    "print (\"even_E_inner_vacuum_x_d (x) =\", even_E_inner_vacuum_x_d (x))\n",
    "even_E_bad_conductor_x_d (x) = even_E_bad_conductor_x (x).subs(A2_z == even_A).subs(B2_z == 1, s == even_s_sol, kappa == even_kappa_sol, k == even_k_sol, a == A)\n",
    "print (\"even_E_bad_conductor_x_d (x) =\", even_E_bad_conductor_x_d (x))"
   ]
  },
  {
   "cell_type": "code",
   "execution_count": null,
   "metadata": {},
   "outputs": [],
   "source": [
    "even_H_inner_vacuum_y_d (x) = even_H_inner_vacuum_y (x).subs(B2_z == 1, kappa == even_kappa_sol).subs(digit_values)\n",
    "print (\"even_H_inner_vacuum_y_d (x) =\", even_H_inner_vacuum_y_d (x))\n",
    "even_H_bad_conductor_y_d (x) = even_H_bad_conductor_y (x).subs(A2_z == even_A).subs(B2_z == 1, s == even_s_sol, kappa == even_kappa_sol, a == A).subs(digit_values)\n",
    "print (\"even_H_bad_conductor_y_d (x) =\", even_H_bad_conductor_y_d (x))"
   ]
  },
  {
   "cell_type": "code",
   "execution_count": null,
   "metadata": {},
   "outputs": [],
   "source": [
    "p = plot(even_E_inner_vacuum_z_d (x), (x, 0, A))\n",
    "p += plot(even_E_bad_conductor_z_d (x), (x, A, 3*A))\n",
    "p.show()"
   ]
  },
  {
   "cell_type": "code",
   "execution_count": null,
   "metadata": {},
   "outputs": [],
   "source": [
    "p = plot(even_E_inner_vacuum_x_d (x).imag(), (x, 0, A))\n",
    "p += plot(even_E_bad_conductor_x_d (x).imag(), (x, A, 3*A))\n",
    "p.show()"
   ]
  },
  {
   "cell_type": "code",
   "execution_count": null,
   "metadata": {},
   "outputs": [],
   "source": [
    "p = plot(even_E_inner_vacuum_x_d (x).imag()*epsilon.subs(digit_values), (x, 0, A))\n",
    "p += plot(even_E_bad_conductor_x_d (x).imag(), (x, A, 3*A))\n",
    "p.show()"
   ]
  },
  {
   "cell_type": "code",
   "execution_count": null,
   "metadata": {},
   "outputs": [],
   "source": [
    "p = plot(even_H_inner_vacuum_y_d (x).imag(), (x, 0, A))\n",
    "p += plot(even_H_bad_conductor_y_d (x).imag(), (x, A, 3*A))\n",
    "p.show()"
   ]
  },
  {
   "cell_type": "markdown",
   "metadata": {},
   "source": [
    "Решение получено и соответствует приведенному в решебнике ответу.\n",
    "\n",
    "Теперь посчитаем:\n",
    "\n",
    "1) силу Абрагама, приложенную к диэлектрику\n",
    "\n",
    "2) пондеромоторную силу, приложенную к идеальному проводнику\n",
    "\n",
    "3) пондеромоторную силу, приложенную к границе диэлектрика и вакуума\n",
    "\n",
    "4) импульс поля в вакууме"
   ]
  },
  {
   "cell_type": "code",
   "execution_count": null,
   "metadata": {},
   "outputs": [],
   "source": [
    "# Abraham force\n",
    "# (epsilon * mu - 1) / (4 * pi * c) * ([E x H]).diff(t)\n",
    "# (epsilon * mu - 1) / (4 * pi * c) * ([E.diff(t) x H] + [E x H.diff(t)])\n",
    "# ([a x b])_x = a_y * b_z - a_z * b_y\n",
    "# f_x = (epsilon * mu - 1) / (4 * pi * c) * (-E_z.diff(t) * H_y - E_z * H_y.diff(t))\n",
    "# E_z.diff(t) = -I * omega * E_z\n",
    "# H_y.diff(t) = -I * omega * H_y\n",
    "\n",
    "#\n",
    "# alpha = - omega * t\n",
    "#\n",
    "\n",
    "# f_x = (epsilon * mu - 1) / (4 * pi * c) * \n",
    "#       integrate(\n",
    "#         ( - Re(-I*omega * E_z * e^alpha) * Re(H_y * e^alpha)) +\n",
    "#         ( - Re(E_z * e^alpha) * Re(-I*omega * H_y * e^alpha)) \n",
    "#       (alpha, 0, 2*pi))\n",
    "\n",
    "\n",
    "# f_x = (epsilon * mu - 1) / (2 * 4 * pi * c) * (\n",
    "#             ( - Re(-I*omega * E_z) * Re(H_y) - Im(-I*omega * E_z) * Im(H_y)) +\n",
    "#             ( - Re(E_z) * Re(-I*omega * H_y) - Im(E_z) * Im(-I*omega * H_y)) \n",
    "#       )\n",
    "\n",
    "f_x(x) = (epsilon * mu - 1) / (8 * pi * c) * \\\n",
    "    ( \\\n",
    "        - ( -I * omega * even_E_inner_vacuum_z (x)).real_part() * (even_H_inner_vacuum_y (x)).real_part() \\\n",
    "        - ( -I * omega * even_E_inner_vacuum_z (x)).imag_part() * (even_H_inner_vacuum_y (x)).imag_part() \\\n",
    "        - (even_E_inner_vacuum_z (x)).real_part() * ( -I * omega * even_H_inner_vacuum_y (x)).real_part() \\\n",
    "        - (even_E_inner_vacuum_z (x)).imag_part() * ( -I * omega * even_H_inner_vacuum_y (x)).imag_part() \\\n",
    "    )\n",
    "print(\"f_x =\", f_x(x))\n",
    "display(Math(latex(f_x(x))))"
   ]
  },
  {
   "cell_type": "code",
   "execution_count": null,
   "metadata": {},
   "outputs": [],
   "source": [
    "f_x(x) = f_x(x).subs(digit_values)\n",
    "print(\"f_x =\")\n",
    "display(Math(latex(f_x(x))))"
   ]
  },
  {
   "cell_type": "code",
   "execution_count": null,
   "metadata": {},
   "outputs": [],
   "source": [
    "f_x(x) = f_x(x).subs(B2_z == 1, kappa == even_kappa_sol)\n",
    "print(\"f_x =\", f_x(x))\n",
    "plot(f_x(x), (x, 0, A))"
   ]
  },
  {
   "cell_type": "code",
   "execution_count": null,
   "metadata": {},
   "outputs": [],
   "source": [
    "F_x = integrate(f_x(x), (x, 0, A))\n",
    "print(\"F_x =\", F_x)"
   ]
  },
  {
   "cell_type": "markdown",
   "metadata": {},
   "source": [
    "2) пондеромоторная сила, приложенная к идеальному проводнику"
   ]
  },
  {
   "cell_type": "code",
   "execution_count": null,
   "metadata": {},
   "outputs": [],
   "source": [
    "# superconductor force\n",
    "# additional 1/2 arises as result of integration on period\n",
    "f_superconductor = - abs((even_H_inner_vacuum_y (0)^2) / (2*8*pi))\n",
    "print(\"f_superconductor =\", f_superconductor)"
   ]
  },
  {
   "cell_type": "code",
   "execution_count": null,
   "metadata": {},
   "outputs": [],
   "source": [
    "f_superconductor = f_superconductor.subs(digit_values).subs(B2_z == 1, kappa == even_kappa_sol)\n",
    "print(\"f_superconductor =\", f_superconductor)"
   ]
  },
  {
   "cell_type": "markdown",
   "metadata": {},
   "source": [
    "3) пондеромоторная сила, приложенная к границе диэлектрика и вакуума"
   ]
  },
  {
   "cell_type": "code",
   "execution_count": null,
   "metadata": {},
   "outputs": [],
   "source": [
    "# Static and dynamic electricity by William R. Smythe, second edition, 1950\n",
    "# paragraph 18 formula 1.47\n",
    "# tangential component of E\n",
    "# additional 1/2 arises as result of integration on period\n",
    "dDE_8pi_z = (epsilon-1.0) * (even_E_inner_vacuum_z(a))^2 / (2*8*pi)\n",
    "dDE_8pi_z"
   ]
  },
  {
   "cell_type": "code",
   "execution_count": null,
   "metadata": {},
   "outputs": [],
   "source": [
    "dDE_8pi_z = dDE_8pi_z.subs(digit_values).subs(B2_z == 1, kappa == even_kappa_sol, a == A)\n",
    "dDE_8pi_z"
   ]
  },
  {
   "cell_type": "code",
   "execution_count": null,
   "metadata": {},
   "outputs": [],
   "source": [
    "# Static and dynamic electricity by William R. Smythe, second edition, 1950\n",
    "# paragraph 18 formula 1.45\n",
    "# normal component of E\n",
    "# additional 1/2 arises as result of integration on period\n",
    "dDE_8pi_x = (epsilon-1.0) * (epsilon/1.0) * (even_E_inner_vacuum_x(a))^2 / (2*8*pi)\n",
    "dDE_8pi_x"
   ]
  },
  {
   "cell_type": "code",
   "execution_count": null,
   "metadata": {},
   "outputs": [],
   "source": [
    "dDE_8pi_x = dDE_8pi_x.subs(digit_values).subs(B2_z == 1, kappa == even_kappa_sol, k == even_k_sol, a == A)\n",
    "dDE_8pi_x"
   ]
  },
  {
   "cell_type": "code",
   "execution_count": null,
   "metadata": {},
   "outputs": [],
   "source": [
    "f_inner_vacuum_surf = dDE_8pi_z + dDE_8pi_x\n",
    "f_inner_vacuum_surf"
   ]
  },
  {
   "cell_type": "markdown",
   "metadata": {},
   "source": [
    "4) импульс поля в вакууме"
   ]
  },
  {
   "cell_type": "code",
   "execution_count": null,
   "metadata": {},
   "outputs": [],
   "source": [
    "# vacuum field impuls\n",
    "# 1 / (4 * pi * c) * ([E x H])\n",
    "# p_x = 1 / (4 * pi * c) * (- E_z * H_y)\n",
    "\n",
    "p_x(x) = - 1 / (4 * pi * c) * even_E_bad_conductor_z (x) * even_H_bad_conductor_y (x)\n",
    "print(\"p_x =\", p_x(x))"
   ]
  },
  {
   "cell_type": "code",
   "execution_count": null,
   "metadata": {},
   "outputs": [],
   "source": [
    "p_x(x) = p_x(x).subs( A2_z == even_A)\n",
    "p_x(x)"
   ]
  },
  {
   "cell_type": "code",
   "execution_count": null,
   "metadata": {},
   "outputs": [],
   "source": [
    "p_x(x) = p_x(x).subs( s == even_s_sol).subs(digit_values).subs(B2_z == 1, kappa == even_kappa_sol, a == A)\n",
    "p_x(x)"
   ]
  },
  {
   "cell_type": "code",
   "execution_count": null,
   "metadata": {},
   "outputs": [],
   "source": [
    "P_x = integrate(p_x(x), (x, A, infinity))\n",
    "P_x"
   ]
  },
  {
   "cell_type": "markdown",
   "metadata": {},
   "source": [
    "Результаты вычислений показывают, что если зеркало используется в качестве волновода, или резонатора, то на его единицу площади должна действовать подъёмная сила, равная"
   ]
  },
  {
   "cell_type": "code",
   "execution_count": null,
   "metadata": {},
   "outputs": [],
   "source": [
    "f_superconductor + f_inner_vacuum_surf"
   ]
  },
  {
   "cell_type": "code",
   "execution_count": null,
   "metadata": {},
   "outputs": [],
   "source": []
  }
 ],
 "metadata": {
  "kernelspec": {
   "display_name": "SageMath 9.4.rc2",
   "language": "sage",
   "name": "sagemath"
  },
  "language_info": {
   "codemirror_mode": {
    "name": "ipython",
    "version": 3
   },
   "file_extension": ".py",
   "mimetype": "text/x-python",
   "name": "python",
   "nbconvert_exporter": "python",
   "pygments_lexer": "ipython3",
   "version": "3.9.5"
  }
 },
 "nbformat": 4,
 "nbformat_minor": 2
}
