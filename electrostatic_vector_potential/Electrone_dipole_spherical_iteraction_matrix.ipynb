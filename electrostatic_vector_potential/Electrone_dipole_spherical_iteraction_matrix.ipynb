{
 "cells": [
  {
   "cell_type": "markdown",
   "id": "4a4322e5",
   "metadata": {},
   "source": [
    "# Векторный потенциал прецессирующего магнитного диполя"
   ]
  },
  {
   "cell_type": "markdown",
   "id": "d4ed3de1",
   "metadata": {},
   "source": [
    "Предыстория вопроса состоит в том, что в работе \n",
    "\n",
    "https://nbviewer.org/github/daju1/articles/blob/master/electrostatic_vector_potential/Vector_potential_of_the_electrostatic_field_of_a_point_charge.ipynb\n",
    "\n",
    "мне удалось записать векторный потенциал для кулоновского поля точечного электрического заряда. Таким образом формула для векторного потенциала кулоновского заряда получена и проверка показала, что операция ротора примененная к этому векторнному потенциалу дает кулоновское электрическое поле точечного заряда.\n",
    "\n",
    "Полученный векторный потенциал по своей форме весьма интересный. Его вид как будто показал, что существование электростатического заряда не возможно без выделенной оси вращения.\n",
    "\n",
    "Поэтому в настоящей работе я задаюсь следующим вопросом: может ли векторный потенциал кулоновского поля электрона создаваться, например, с помощью прецессии дипольного момента магнетона Бора?\n",
    "\n",
    "Таким образом я рассматриваю далее следующую задачу: имеется магнитный диполь с двумя противоположно заряженными магнитными полюсами, который прецессирует вокруг оси проходящей через центр магнитного диполя. Более наглядно моделируемая в данной работе структура нарисована здесь\n",
    "\n",
    "https://nbviewer.org/github/daju1/articles/blob/master/electrostatic_vector_potential/Structure_of_electron.ipynb\n",
    "\n",
    "\n",
    "Таким образом создаётся симметричная пара кольцевых магнитных токов, которые текут во взаимно противоположных направлениях (потому как движение по окружности в одном и том же направлении, например по часовой стрелке, пары магнитных зарядов, имеющих противоположные знаки создает пару взаимно противоположных по направлению кольцевых магнитных токов).\n",
    "\n",
    "Для решения этой задачи в литературе был найден алгоритм расчета векторного потенциала для кольцевого тока, который сводится к эллиптическим интегралам. Таким образом трехмерное интегрирование сводится к двумерному.\n",
    "\n",
    "Однако работа в цилиндрической системе координат для целей настоящей работы оказалась неудобной. Потому что в цилиндрических координатах интегральное уравнение Фредгольма первого рода не удалось привести к интегральному уравнению Фредгольма второго рода.\n",
    "\n",
    "https://nbviewer.org/github/daju1/articles/blob/master/electrostatic_vector_potential/Vector_potential_of_a_precessing_magnetic_dipole.ipynb\n",
    "\n",
    "Поэтому в данной работе решается задача расчёта векторного потенциала кольцевого тока в сферической системе координат с последующим решением интегрального уравнения Фредгольма.\n",
    "\n",
    "Поскольку я рассматриваю не точечный магнитный заряд в составе прецессирующего диполя магнетона Бора, а распределенный в пространстве магнитный заряд, то в подынтегральном выражении моего интегрального уравнения есть два множителя: неизвестная функция плотности распределения магнитных токов в пространстве и так называемое ядро (или оператор) моего интегрального уравнения.\n",
    "\n",
    "Интегральное уравнение решается методом итераций. Из-за вычислительных сложностей многоитерационного интегирования в данной работе представлен результат лишь нулевого приближения неизвестной функции распределения магнитных токов прецессирующего магнетона Бора в пространстве."
   ]
  },
  {
   "cell_type": "code",
   "execution_count": 1,
   "id": "f92423f4",
   "metadata": {},
   "outputs": [],
   "source": [
    "from IPython.display import display, Math, Latex\n",
    "\n",
    "def disp(ex):\n",
    "    display(Math(latex(ex)))\n",
    "    \n",
    "def displ(tex):\n",
    "    display(Math(tex))"
   ]
  },
  {
   "cell_type": "markdown",
   "id": "0b193704",
   "metadata": {},
   "source": [
    "если $\\left( {{r}_{q}}<{{r}_{a}} \\right)$ то\n",
    "\n",
    "$A_{\\varphi} = \\frac{\\mu \\, I}{4 \\pi}\\,r_q \\, sin \\theta_q \\,\\frac{1}{{{r}_{a}}}\\sum\\limits_{l=0}^{\\infty }{{{\\left( \\frac{{{r}_{q}}}{{{r}_{a}}} \\right)}^{l}}{\\frac{4\\pi }{2l+1}\\sum\\limits_{m=-l}^{l}{Y_{l,m}^{*}\\left( {{\\theta }_{a}},{{\\varphi }_{a}} \\right)}\\, \\int\\limits_{\\varphi_q}^{} cos\\,{\\varphi_q } \\, {{Y}_{l,m}}\\left( {{\\theta }_{q}},{{\\varphi }_{q}} \\right)}} \\, d \\varphi_q$\n",
    "\n",
    "и если $\\left( {{r}_{a}}<{{r}_{q}} \\right)$ то\n",
    "\n",
    "$A_{\\varphi} = \\frac{\\mu \\, I}{4 \\pi}\\,r_q \\, sin \\theta_q \\, \\frac{1}{{{r}_{q}}}\\sum\\limits_{l=0}^{\\infty }{{{\\left( \\frac{{{r}_{a}}}{{{r}_{q}}} \\right)}^{l}}{\\frac{4\\pi }{2l+1}\\sum\\limits_{m=-l}^{l}{Y_{l,m}^{*}\\left( {{\\theta }_{a}},{{\\varphi }_{a}} \\right)}\\,\\int\\limits_{\\varphi_q}^{} cos\\,{\\varphi_q } \\, {{Y}_{l,m}}\\left( {{\\theta }_{q}},{{\\varphi }_{q}} \\right)}} \\, d \\varphi_q$"
   ]
  },
  {
   "cell_type": "markdown",
   "id": "ed75fdd4",
   "metadata": {},
   "source": [
    "# Векторный потенциал электростатического поля точечного заряда\n",
    "\n",
    "https://nbviewer.org/github/daju1/articles/blob/master/electrostatic_vector_potential/Vector_potential_of_the_electrostatic_field_of_a_point_charge.ipynb\n",
    "\n",
    "в цилиндрической системе координат\n",
    "\n",
    "$$\\vec A = -\\frac{ z}{{\\rho}\\sqrt{\\rho^{2} + z^{2}} }\\,{\\vec {e}}_{\\varphi }$$"
   ]
  },
  {
   "cell_type": "markdown",
   "id": "87aeafb2",
   "metadata": {},
   "source": [
    "в сферической системе координат\n",
    "\n",
    "$$\\vec A = -\\frac{сtg \\, \\theta}{r}\\,{\\vec {e}}_{\\varphi }$$"
   ]
  },
  {
   "cell_type": "code",
   "execution_count": 2,
   "id": "d6a1c46e",
   "metadata": {},
   "outputs": [],
   "source": [
    "A_q = lambda ra, theta_a : cot(theta_a) / (ra)"
   ]
  },
  {
   "cell_type": "markdown",
   "id": "ed2a781f",
   "metadata": {},
   "source": [
    "# Интегральное уравнение для векторного потенциала кулоновского заряда "
   ]
  },
  {
   "cell_type": "markdown",
   "id": "39e4504a",
   "metadata": {},
   "source": [
    "Итак, для ответа на вопрос может ли векторный потенциал кулоновского поля электрона создаваться, например, с помощью прецессии дипольного момента магнетона Бора? - рассмотрим следующую задачу.\n",
    "\n",
    "Имеется магнитный диполь с двумя противоположно заряженными магнитными полюсами, который прецессирует вокруг оси проходящей через центр магнитного диполя. Таким образом создаётся симметричная пара кольцевых магнитных токов, которые текут во взаимно противоположных направлениях (потому как движение по окружности в одном и том же направлении, например по часовой стрелке, пары магнитных зарядов, имеющих противоположные знаки создает пару взаимно противоположных по направлению кольцевых магнитных токов).\n",
    "\n",
    "Составим теперь интегральное уравнение в левой части которого запишем векторный потенциал кулоновского поля покоящегося электростатического заряда (найденный в предыдущей работе) а в правой части запишем векторный потенциал прецессирующего магнитного диполя на основе данных об объемном распределении магнитных токов."
   ]
  },
  {
   "cell_type": "markdown",
   "id": "5ce5c4d2",
   "metadata": {},
   "source": [
    "\n",
    "в цилиндрической системе координат\n",
    "\n",
    "$\\rho_a$, $z_a$ - координаты наблюдения\n",
    "\n",
    "$\\rho_m$, $z_m$, $\\varphi_m$ - координаты интегрирования, координаты магнитных зарядов"
   ]
  },
  {
   "cell_type": "markdown",
   "id": "2a9e066a",
   "metadata": {},
   "source": [
    "$-\\frac{z_a}{{\\rho_a}\\sqrt{\\rho_a^{2} + z_a^{2}} } = \\int\\limits_{z_m=-\\infty}^{\\infty}\\,\\,\\int\\limits_{\\rho_m=0}^{\\infty}\\frac{j_m(\\rho_m, z_m) \\,\\rho_m}{c} \\left(\\int\\limits_{\\varphi_m=0}^{2\\pi}\\frac{cos\\,{\\varphi_m } \\, d \\varphi_m}{R}\\right)d \\rho_m \\, d z_m$"
   ]
  },
  {
   "cell_type": "markdown",
   "id": "dc4ab405",
   "metadata": {},
   "source": [
    "Неизвестные функции\n",
    "\n",
    "$q_m(r_m, \\theta_m)$ - плотность магнитного заряда в зависимости от цилиндрических координат\n",
    "\n",
    "$\\omega_m (r_m, \\theta_m)$ - круговая частота вращения\n",
    "\n",
    "$j_m(r_m, \\theta_m) = q_m(r_m, \\theta_m)\\, \\omega_m (r_m, \\theta_m) \\, r_m \\, \\sin \\theta_m$ - плотность магнитного тока"
   ]
  },
  {
   "cell_type": "markdown",
   "id": "9d38cffb",
   "metadata": {},
   "source": [
    "<p>Если заданы сферические координаты точки, то переход к цилиндрическим осуществляется по формулам:\n",
    "</p>"
   ]
  },
  {
   "cell_type": "markdown",
   "id": "7176b143",
   "metadata": {},
   "source": [
    "${\\displaystyle {\\begin{cases}\\rho =r\\sin \\theta ,\\\\\\varphi =\\varphi ,\\\\z=r\\cos \\theta .\\end{cases}}}$"
   ]
  },
  {
   "cell_type": "markdown",
   "id": "264bf0ea",
   "metadata": {},
   "source": [
    "<p>Обратно от цилиндрических к сферическим:\n",
    "</p>"
   ]
  },
  {
   "cell_type": "markdown",
   "id": "3890e69f",
   "metadata": {},
   "source": [
    "${\\displaystyle {\\begin{cases}r={\\sqrt {\\rho ^{2}+z^{2}}},\\\\\\theta =\\mathrm {arctg} {\\dfrac {\\rho }{z}},\\\\\\varphi =\\varphi .\\end{cases}}}$"
   ]
  },
  {
   "cell_type": "markdown",
   "id": "71d85735",
   "metadata": {},
   "source": [
    "в сферической системе координат\n",
    "\n",
    "$r_a$, $\\theta_a$ - координаты наблюдения\n",
    "\n",
    "$r_m$, $\\theta_m$, $\\varphi_m$ - координаты интегрирования, координаты магнитных зарядов"
   ]
  },
  {
   "cell_type": "markdown",
   "id": "dd45c00b",
   "metadata": {},
   "source": [
    "Итак, в исходном интегральном уравнении"
   ]
  },
  {
   "cell_type": "markdown",
   "id": "28b4e529",
   "metadata": {},
   "source": [
    "$-\\frac{сtg \\, \\theta_a}{r_a} = \\int\\limits_{\\theta_m=0}^{\\pi}\\,\\,\\int\\limits_{r_m=0}^{\\infty}\\frac{j_m(r_m, \\theta_m) \\,\\sin \\theta_m\\, r_m^2}{c} \\left(\\int\\limits_{\\varphi_m=0}^{2\\pi}\\frac{cos\\,{\\varphi_m } }{\\left| \\overrightarrow{{{r}_{m}}}-\\overrightarrow{{{r}_{a}}} \\right|}\\, d \\varphi_m\\right)d r_m \\, d \\theta_m$"
   ]
  },
  {
   "cell_type": "markdown",
   "id": "2c320045",
   "metadata": {},
   "source": [
    "в правой части уравнения второй интеграл по координате $r_m$ разбиваем на два интеграла от нуля до $r_a$ и от $r_a$ до бесконечности"
   ]
  },
  {
   "cell_type": "markdown",
   "id": "73c75a49",
   "metadata": {},
   "source": [
    "$-\\frac{сtg \\, \\theta_a}{r_a} = \\int\\limits_{\\theta_m=0}^{\\pi}\\,\\,\\int\\limits_{r_m=0}^{r_a}\\frac{j_m(r_m, \\theta_m) \\,\\sin \\theta_m\\, r_m^2}{c} \\left(\\int\\limits_{\\varphi_m=0}^{2\\pi}\\frac{cos\\,{\\varphi_m } }{\\left| \\overrightarrow{{{r}_{m}}}-\\overrightarrow{{{r}_{a}}} \\right|}\\, d \\varphi_m\\right)d r_m \\, d \\theta_m + \\int\\limits_{\\theta_m=0}^{\\pi}\\,\\,\\int\\limits_{r_m=r_a}^{\\infty}\\frac{j_m(r_m, \\theta_m) \\,\\sin \\theta_m\\, r_m^2}{c} \\left(\\int\\limits_{\\varphi_m=0}^{2\\pi}\\frac{cos\\,{\\varphi_m } }{\\left| \\overrightarrow{{{r}_{m}}}-\\overrightarrow{{{r}_{a}}} \\right|}\\, d \\varphi_m\\right)d r_m \\, d \\theta_m$"
   ]
  },
  {
   "cell_type": "markdown",
   "id": "144cbf86",
   "metadata": {},
   "source": [
    "Далее принимая во внимание, что"
   ]
  },
  {
   "cell_type": "markdown",
   "id": "5de1e8e3",
   "metadata": {},
   "source": [
    "если $\\left( {{r}_{m}}<{{r}_{a}} \\right)$ то\n",
    "\n",
    "$\\frac{1}{\\left| \\overrightarrow{{{r}_{m}}}-\\overrightarrow{{{r}_{a}}} \\right|}=\\frac{1}{{{r}_{a}}}\\sum\\limits_{l=0}^{\\infty }{{{\\left( \\frac{{{r}_{m}}}{{{r}_{a}}} \\right)}^{l}}{{P}_{l}} \\cos \\left( \\gamma  \\right)}$\n",
    "\n",
    "и если $\\left( {{r}_{a}}<{{r}_{m}} \\right)$ то\n",
    "\n",
    "$\\frac{1}{\\left| \\overrightarrow{{{r}_{m}}}-\\overrightarrow{{{r}_{a}}} \\right|}=\\frac{1}{{{r}_{q}}}\\sum\\limits_{l=0}^{\\infty }{{{\\left( \\frac{{{r}_{a}}}{{{r}_{m}}} \\right)}^{l}}{{P}_{l}} \\cos \\left( \\gamma  \\right)}$"
   ]
  },
  {
   "cell_type": "markdown",
   "id": "516bdfd7",
   "metadata": {},
   "source": [
    "делаем соотвествующие подстановки обратного расстояния между координатами заряда и точки наблюдения $\\frac{1}{{R}}=\\frac{1}{\\left|\\overrightarrow{r_{q}} - \\overrightarrow{r_{a}}\\right|}$"
   ]
  },
  {
   "cell_type": "markdown",
   "id": "ecd1e78a",
   "metadata": {},
   "source": [
    "\\begin{equation}\n",
    "\\begin{array}{c}\n",
    "-\\frac{сtg \\, \\theta_a}{r_a} = \n",
    "\\int\\limits_{\\theta_m=0}^{\\pi}\\,\\,\\int\\limits_{r_m=0}^{r_a}\\frac{j_m(r_m, \\theta_m) \\,\\sin \\theta_m\\, r_m^2}{c} \\left(\\int\\limits_{\\varphi_m=0}^{2\\pi}\\,\\frac{cos\\,{\\varphi_m } }{{{r}_{a}}}\\sum\\limits_{l=0}^{\\infty }{{\\left( \\frac{{{r}_{m}}}{{{r}_{a}}} \\right)}^{l}}{{P}_{l}} \\cos \\left( \\gamma  \\right)\\, d \\varphi_m\\right)d r_m \\, d \\theta_m \\\\ +\n",
    "\\int\\limits_{\\theta_m=0}^{\\pi}\\,\\,\\int\\limits_{r_m=r_a}^{\\infty}\\frac{j_m(r_m, \\theta_m) \\,\\sin \\theta_m\\, r_m^2}{c} \\left(\\int\\limits_{\\varphi_m=0}^{2\\pi}\\,\\frac{cos\\,{\\varphi_m }}{{{r}_{m}}}\\sum\\limits_{l=0}^{\\infty }{{\\left( \\frac{{{r}_{a}}}{{{r}_{m}}} \\right)}^{l}}{{P}_{l}} \\cos \\left( \\gamma  \\right)\\, d \\varphi_m\\right)d r_m \\, d \\theta_m\n",
    "\\end{array}\n",
    "\\end{equation}"
   ]
  },
  {
   "cell_type": "markdown",
   "id": "2130d1d4",
   "metadata": {},
   "source": [
    "Далее выносим операцию суммирования по $l$ отношения радиальных координат наблюдения и магнитных зарядов из внутреннего интеграла по $\\varphi_m$"
   ]
  },
  {
   "cell_type": "markdown",
   "id": "7e9da322",
   "metadata": {},
   "source": [
    "\\begin{equation}\n",
    "\\begin{array}{c}\n",
    "-\\frac{сtg \\, \\theta_a}{r_a} = \n",
    "\\int\\limits_{r_m=0}^{r_a}\\,\\int\\limits_{\\theta_m=0}^{\\pi}\\,\\frac{j_m(r_m, \\theta_m) \\,\\sin \\theta_m\\, r_m^2}{c} \\sum\\limits_{l=0}^{\\infty }{{\\left( \\frac{{{r}_{m}}}{{{r}_{a}}} \\right)}^{l}}\\left(\\int\\limits_{\\varphi_m=0}^{2\\pi}\\,\\frac{cos\\,{\\varphi_m } }{{{r}_{a}}}{{P}_{l}} \\cos \\left( \\gamma  \\right)\\, d \\varphi_m\\right) \\, d \\theta_m \\,d r_m  \\\\ +\n",
    "\\int\\limits_{r_m=r_a}^{\\infty}\\,\\int\\limits_{\\theta_m=0}^{\\pi}\\,\\frac{j_m(r_m, \\theta_m) \\,\\sin \\theta_m\\, r_m^2}{c} \\sum\\limits_{l=0}^{\\infty }{{\\left( \\frac{{{r}_{a}}}{{{r}_{m}}} \\right)}^{l}}\\left(\\int\\limits_{\\varphi_m=0}^{2\\pi}\\,\\frac{cos\\,{\\varphi_m }}{{{r}_{m}}}{{P}_{l}} \\cos \\left( \\gamma  \\right)\\, d \\varphi_m\\right) \\, d \\theta_m \\,d r_m\n",
    "\\end{array}\n",
    "\\end{equation}"
   ]
  },
  {
   "cell_type": "markdown",
   "id": "ede9b5d8",
   "metadata": {},
   "source": [
    "Теперь из под того же интеграла выносим радиальные координаты в знаменателе"
   ]
  },
  {
   "cell_type": "markdown",
   "id": "bd78f80b",
   "metadata": {},
   "source": [
    "\\begin{equation}\n",
    "\\begin{array}{c}\n",
    "-\\frac{сtg \\, \\theta_a}{r_a} = \n",
    "\\int\\limits_{r_m=0}^{r_a}\\,\\int\\limits_{\\theta_m=0}^{\\pi}\\,\\frac{j_m(r_m, \\theta_m) \\,\\sin \\theta_m\\, r_m^2}{c\\,r_a} \\sum\\limits_{l=0}^{\\infty }{{\\left( \\frac{r_m}{r_a} \\right)}^{l}}\\left(\\int\\limits_{\\varphi_m=0}^{2\\pi}\\,{cos\\,{\\varphi_m } }{P_l} \\cos \\left( \\gamma  \\right)\\, d \\varphi_m\\right) \\, d \\theta_m \\,d r_m \\\\ +\n",
    "\\int\\limits_{r_m=r_a}^{\\infty}\\,\\int\\limits_{\\theta_m=0}^{\\pi}\\,\\frac{j_m(r_m, \\theta_m) \\,\\sin \\theta_m\\, r_m^2}{c\\,r_m} \\sum\\limits_{l=0}^{\\infty }{{\\left( \\frac{r_a}{r_m} \\right)}^{l}}\\left(\\int\\limits_{\\varphi_m=0}^{2\\pi}\\,{cos\\,{\\varphi_m }}{P_l} \\cos \\left( \\gamma  \\right)\\, d \\varphi_m\\right) \\, d \\theta_m \\,d r_m\n",
    "\\end{array}\n",
    "\\end{equation}"
   ]
  },
  {
   "cell_type": "markdown",
   "id": "57edd60d",
   "metadata": {},
   "source": [
    "В данной формуле ${{P}_{l}} \\cos \\left( \\gamma  \\right)$ это полиномы Лежандра аргумент которых $\\gamma$ есть угол между векторами ${{r}_{q}}$  и ${{r}_{a}}$. Применяя формулу, известную как теорему сложения\n",
    "\n",
    "${{P}_{l}}\\cos \\left( \\gamma  \\right)=\\frac{4\\pi }{2l+1}\\sum\\limits_{m=-l}^{l}{Y_{l,m}^{*}\\left( {{\\theta }_{a}},{{\\varphi }_{a}} \\right)}\\ {{Y}_{l,m}}\\left( {{\\theta}_{m}},{{\\varphi }_{m}} \\right)$\n",
    "\n",
    "Обозначим\n",
    "\n",
    "$S_{l}(\\theta_m, \\theta_a) = \\left(\\int\\limits_{{\\left(\\varphi_m - \\varphi_a\\right)}=0}^{2\\pi}\\,{cos\\,{{\\left(\\varphi_m - \\varphi_a\\right)} } }{P_l} \\cos \\left( \\gamma  \\right)\\, d {\\left(\\varphi_m - \\varphi_a\\right)}\\right)$"
   ]
  },
  {
   "cell_type": "markdown",
   "id": "e5e82969",
   "metadata": {},
   "source": [
    "Обозначим\n",
    "\n",
    "$S_{l}(\\theta_m, \\theta_a) = \\left(\\int\\limits_{{\\varphi_m}=0}^{2\\pi}\\,{cos\\,{{\\left(\\varphi_m\\right)} } }{P_l} \\cos \\left( \\gamma  \\right)\\, d {\\varphi_m}\\right)$"
   ]
  },
  {
   "cell_type": "markdown",
   "id": "e3526f07",
   "metadata": {},
   "source": [
    "$S_{l}(\\theta_m, \\theta_a) = \\left(\\int\\limits_{{\\varphi_m}=0}^{2\\pi}\\,{cos\\,{{\\left(\\varphi_m\\right)} } }\\frac{4\\pi }{2l+1}\\sum\\limits_{m=-l}^{l}{Y_{l,m}^{*}\\left( {{\\theta }_{a}},{{\\varphi }_{a}} \\right)}\\ {{Y}_{l,m}}\\left( {{\\theta}_{m}},{{\\varphi }_{m}} \\right)\\, d {\\varphi_m}\\right)$"
   ]
  },
  {
   "cell_type": "code",
   "execution_count": 3,
   "id": "983748e7",
   "metadata": {},
   "outputs": [],
   "source": [
    "theta_m = var(\"theta_m\")\n",
    "theta_a = var(\"theta_a\")\n",
    "#assume (theta_a, \"real\")\n",
    "r_m = var(\"r_m\")\n",
    "r_a = var(\"r_a\")\n",
    "\n",
    "assume(r_m>0)\n",
    "assume(r_a>0)"
   ]
  },
  {
   "cell_type": "code",
   "execution_count": 4,
   "id": "c484c869",
   "metadata": {},
   "outputs": [],
   "source": [
    "from sage.functions.special import spherical_harmonic\n",
    "from sage.symbolic.integration.integral import definite_integral\n",
    "from sage.calculus.calculus import symbolic_sum\n",
    "\n",
    "l, m = var(\"l, m\")\n",
    "theta_m, phi_m = var (\"theta_m, phi_m\")\n",
    "theta_a, phi_a = var (\"theta_a, phi_a\")"
   ]
  },
  {
   "cell_type": "code",
   "execution_count": 5,
   "id": "65e699c1",
   "metadata": {},
   "outputs": [],
   "source": [
    "def sympy_sum(expression, v, a, b):\n",
    "    try:\n",
    "        expression,v,a,b = [expr._sympy_() for expr in (expression, v, a, b)]\n",
    "    except Exception as ex:\n",
    "        #print(\"warning:\", str(ex))\n",
    "        pass\n",
    "    from sympy import summation\n",
    "    from sage.interfaces.sympy import sympy_init\n",
    "    sympy_init()\n",
    "    result = summation(expression, (v, a, b))\n",
    "    \n",
    "    try:\n",
    "        return result._sage_()\n",
    "    except AttributeError:\n",
    "        #print(result)\n",
    "        return result\n",
    "        #raise AttributeError(\"Unable to convert SymPy result (={}) into\"\n",
    "        #        \" Sage\".format(result))\n",
    "    except NotImplementedError as err:\n",
    "        #print(result)\n",
    "        return result\n",
    "        #raise err"
   ]
  },
  {
   "cell_type": "markdown",
   "id": "116dec40",
   "metadata": {},
   "source": [
    "З.Флюгге Задачи по квантовой механике, том 2, стр. 299 формула (24)"
   ]
  },
  {
   "cell_type": "code",
   "execution_count": 6,
   "id": "446539ab",
   "metadata": {},
   "outputs": [],
   "source": [
    "# S_l\n",
    "def legendre_sum_A_ring_int_phi_q_hold(l, theta_m, theta_a, hold=True):\n",
    "    from sage.functions.special import spherical_harmonic\n",
    "    m = var(\"m\")\n",
    "    f = lambda l, m, theta_m, theta_a : \\\n",
    "        integrate(spherical_harmonic(l, m, theta_m, phi_m)*cos(phi_m), phi_m, 0, 2*pi, hold=hold) \\\n",
    "                  * conjugate(spherical_harmonic(l, m, theta_a, 0))\n",
    "    return 4 * pi / (2*l + 1) * symbolic_sum(f(l, m, theta_m, theta_a), m, -l, l, hold=hold)\n",
    "\n",
    "def legendre_sum_A_ring_hold(l, theta_m, theta_a, hold=True):\n",
    "    return legendre_sum_A_ring_int_phi_q_hold(l, theta_m, theta_a, hold=hold)"
   ]
  },
  {
   "cell_type": "code",
   "execution_count": 7,
   "id": "3ff621d5",
   "metadata": {},
   "outputs": [
    {
     "data": {
      "text/latex": [
       "$\\displaystyle \\frac{4 \\, \\pi {\\sum_{m=-l}^{l} \\overline{Y_{l}^{m}\\left(\\theta_{a}, 0\\right)} \\int_{0}^{2 \\, \\pi} \\cos\\left(\\phi_{m}\\right) Y_{l}^{m}\\left(\\theta_{m}, \\phi_{m}\\right)\\,{d \\phi_{m}}}}{2 \\, l + 1}$"
      ],
      "text/plain": [
       "<IPython.core.display.Math object>"
      ]
     },
     "metadata": {},
     "output_type": "display_data"
    }
   ],
   "source": [
    "disp(legendre_sum_A_ring_int_phi_q_hold(l, theta_m, theta_a))"
   ]
  },
  {
   "cell_type": "markdown",
   "id": "c4374d7d",
   "metadata": {},
   "source": [
    "$S_{l}(\\theta_m, \\theta_a) = \\left(\\int\\limits_{{\\varphi_m}=0}^{2\\pi}\\,{cos\\,{{\\left(\\varphi_m\\right)} } }\\frac{4\\pi }{2l+1}\\sum\\limits_{m=-l}^{l}{Y_{l,m}^{*}\\left( {{\\theta }_{a}},{{\\varphi }_{a}} \\right)}\\ {{Y}_{l,m}}\\left( {{\\theta}_{m}},{{\\varphi }_{m}} \\right)\\, d {\\varphi_m}\\right)$"
   ]
  },
  {
   "cell_type": "code",
   "execution_count": 8,
   "id": "c88d5d1d",
   "metadata": {},
   "outputs": [
    {
     "data": {
      "text/latex": [
       "$\\displaystyle \\int_{0}^{2 \\, \\pi} \\cos\\left(\\phi_{m}\\right) Y_{l}^{m}\\left(\\theta_{m}, \\phi_{m}\\right)\\,{d \\phi_{m}}$"
      ],
      "text/plain": [
       "<IPython.core.display.Math object>"
      ]
     },
     "metadata": {},
     "output_type": "display_data"
    }
   ],
   "source": [
    "cY_lm = integrate(spherical_harmonic(l, m, theta_m, phi_m)*cos(phi_m), phi_m, 0, 2*pi, hold=True)\n",
    "disp(cY_lm)"
   ]
  },
  {
   "cell_type": "markdown",
   "id": "c1d5aabb",
   "metadata": {},
   "source": [
    "$S_{l}(\\theta_m, \\theta_a) = \\frac{4\\pi }{2l+1}\\sum\\limits_{m=-l}^{l}{Y_{l,m}^{*}\\left( {{\\theta }_{a}},{{\\varphi }_{a}} \\right)}\\ {{cY}_{l,m}}\\left( {{\\theta}_{m}}\\right)$"
   ]
  },
  {
   "cell_type": "code",
   "execution_count": 9,
   "id": "0ebeda96",
   "metadata": {},
   "outputs": [
    {
     "data": {
      "text/latex": [
       "$\\displaystyle \\begin{cases}{-\\pi Y_{l}^{1}\\left(\\theta_{m}, 2 \\, \\pi\\right) + \\frac{1}{2} i \\, Y_{l}^{1}\\left(\\theta_{m}, 0\\right) - \\frac{1}{2} i \\, Y_{l}^{1}\\left(\\theta_{m}, 2 \\, \\pi\\right)} & {m = \\left(-1\\right)}\\\\{\\pi Y_{l}^{1}\\left(\\theta_{m}, 2 \\, \\pi\\right) + \\frac{1}{2} i \\, Y_{l}^{1}\\left(\\theta_{m}, 0\\right) - \\frac{1}{2} i \\, Y_{l}^{1}\\left(\\theta_{m}, 2 \\, \\pi\\right)} & {m = 1}\\\\{\\frac{i \\, m Y_{l}^{m}\\left(\\theta_{m}, 0\\right)}{m^{2} - 1} - \\frac{i \\, m Y_{l}^{m}\\left(\\theta_{m}, 2 \\, \\pi\\right)}{m^{2} - 1}} & {1}\\end{cases}$"
      ],
      "text/plain": [
       "<IPython.core.display.Math object>"
      ]
     },
     "metadata": {},
     "output_type": "display_data"
    }
   ],
   "source": [
    "cY_lm = integrate(spherical_harmonic(l, m, theta_m, phi_m)*cos(phi_m), phi_m, 0, 2*pi, algorithm=\"sympy\")\n",
    "disp(cY_lm)"
   ]
  },
  {
   "cell_type": "code",
   "execution_count": 10,
   "id": "453f47fb",
   "metadata": {},
   "outputs": [],
   "source": [
    "# S_l\n",
    "def legendre_sum_A_ring_sympy(l, theta_m, theta_a):\n",
    "    from sage.functions.special import spherical_harmonic\n",
    "    m = var(\"m\")\n",
    "    f = lambda l, m, theta_m, theta_a : \\\n",
    "        cases(((m == -1, -pi*spherical_harmonic(l, 1, theta_m, 2*pi)), \\\n",
    "               (m == 1, pi*spherical_harmonic(l, 1, theta_m, 2*pi)), \\\n",
    "               (1, I*m*spherical_harmonic(l, m, theta_m, 0)/(m^2 - 1) \\\n",
    "                 - I*m*spherical_harmonic(l, m, theta_m, 2*pi)/(m^2 - 1)))) \\\n",
    "                  * conjugate(spherical_harmonic(l, m, theta_a, 0))\n",
    "\n",
    "    return 4 * pi / (2*l + 1) * sympy_sum(f(l, m, theta_m, theta_a), m, -l, l)"
   ]
  },
  {
   "cell_type": "markdown",
   "id": "4fdb8453",
   "metadata": {},
   "source": [
    "теперь интегральное уравнение выглядит"
   ]
  },
  {
   "cell_type": "markdown",
   "id": "3701fc96",
   "metadata": {},
   "source": [
    "\\begin{equation}\n",
    "\\begin{array}{c}\n",
    "-\\frac{сtg \\, \\theta_a}{r_a} = \n",
    "\\int\\limits_{r_m=0}^{r_a}\\,\\int\\limits_{\\theta_m=0}^{\\pi}\\,\\frac{j_m(r_m, \\theta_m) \\,\\sin \\theta_m\\, r_m^2}{c\\,r_a} \\sum\\limits_{l=0}^{\\infty }{{\\left( \\frac{r_m}{r_a} \\right)}^{l}}S_{l}(\\theta_m, \\theta_a) \\, d \\theta_m \\,d r_m \\\\ +\n",
    "\\int\\limits_{r_m=r_a}^{\\infty}\\,\\int\\limits_{\\theta_m=0}^{\\pi}\\,\\frac{j_m(r_m, \\theta_m) \\,\\sin \\theta_m\\, r_m^2}{c\\,r_m} \\sum\\limits_{l=0}^{\\infty }{{\\left( \\frac{r_a}{r_m} \\right)}^{l}}S_{l}(\\theta_m, \\theta_a) \\, d \\theta_m \\,d r_m\n",
    "\\end{array}\n",
    "\\end{equation}"
   ]
  },
  {
   "cell_type": "markdown",
   "id": "4ead6cda",
   "metadata": {},
   "source": [
    "\\begin{equation}\n",
    "\\begin{array}{c}\n",
    "-\\frac{сtg \\, \\theta_a}{r_a} = \n",
    "\\int\\limits_{r_m=0}^{r_a}\\,\\int\\limits_{\\theta_m=0}^{\\pi}\\,\\frac{j_m(r_m, \\theta_m)}{c}\\,\\left(\\frac{\\sin \\theta_m\\, r_m^2}{r_a} \\sum\\limits_{l=0}^{\\infty }{{\\left( \\frac{r_m}{r_a} \\right)}^{l}}S_{l}(\\theta_m, \\theta_a) \\right)\\, d \\theta_m \\,d r_m \\\\ +\n",
    "\\int\\limits_{r_m=r_a}^{\\infty}\\,\\int\\limits_{\\theta_m=0}^{\\pi}\\,\\frac{j_m(r_m, \\theta_m)}{c} \\,\\left({\\sin \\theta_m\\, r_m} \\sum\\limits_{l=0}^{\\infty }{{\\left( \\frac{r_a}{r_m} \\right)}^{l}}S_{l}(\\theta_m, \\theta_a) \\right) \\, d \\theta_m \\,d r_m\n",
    "\\end{array}\n",
    "\\end{equation}"
   ]
  },
  {
   "cell_type": "markdown",
   "id": "8cd68402",
   "metadata": {},
   "source": [
    "ядро интегрального уравнения (в круглых скобках)"
   ]
  },
  {
   "cell_type": "markdown",
   "id": "e6c4baec",
   "metadata": {},
   "source": [
    "Это линейное интегральное уравнение Фредгольма первого рода."
   ]
  },
  {
   "cell_type": "markdown",
   "id": "42676147",
   "metadata": {},
   "source": [
    "Продифференцируем обе части интегрального уравнения по $r_a$.\n",
    "\n",
    "Поскольку переменная дифференцирования одновременно используется как верхний и нижний предел интегрирования, то в соответствии с правилом дифференцирования определённых интегралов в правой части число слагаемых увеличивается "
   ]
  },
  {
   "cell_type": "markdown",
   "id": "8a7c460b",
   "metadata": {},
   "source": [
    "\\begin{equation}\n",
    "\\begin{array}{c}\n",
    "\\frac{сtg \\, \\theta_a}{r_a^2} = \n",
    "\\int\\limits_{r_m=0}^{r_a}\\,\\int\\limits_{\\theta_m=0}^{\\pi}\\,\\frac{j_m(r_m, \\theta_m)}{c}\\,\\frac{d}{dr_a}\\left(\\frac{\\sin \\theta_m\\, r_m^2}{r_a} \\sum\\limits_{l=0}^{\\infty }{{\\left( \\frac{r_m}{r_a} \\right)}^{l}}S_{l}(\\theta_m, \\theta_a) \\right)\\, d \\theta_m \\,d r_m +\n",
    "\\int\\limits_{r_m=r_a}^{\\infty}\\,\\int\\limits_{\\theta_m=0}^{\\pi}\\,\\frac{j_m(r_m, \\theta_m)}{c} \\,\\frac{d}{dr_a}\\left({\\sin \\theta_m\\,r_m} \\sum\\limits_{l=0}^{\\infty }{{\\left( \\frac{r_a}{r_m} \\right)}^{l}}S_{l}(\\theta_m, \\theta_a) \\right) \\, d \\theta_m \\,d r_m \\\\\n",
    "+ \\int\\limits_{\\theta_m=0}^{\\pi}\\,\\frac{j_m(r_a, \\theta_m)}{c}\\,\\left(\\frac{\\sin \\theta_m\\, r_m^2}{r_a} \\sum\\limits_{l=0}^{\\infty }{{\\left( \\frac{r_m}{r_a} \\right)}^{l}}S_{l}(\\theta_m, \\theta_a) \\right)_{r_m = r_a}\\, d \\theta_m -\n",
    "\\int\\limits_{\\theta_m=0}^{\\pi}\\,\\frac{j_m(r_a, \\theta_m)}{c} \\,\\left({\\sin \\theta_m\\,r_m} \\sum\\limits_{l=0}^{\\infty }{{\\left( \\frac{r_a}{r_m} \\right)}^{l}}S_{l}(\\theta_m, \\theta_a) \\right)_{r_m = r_a} \\, d \\theta_m\n",
    "\\end{array}\n",
    "\\end{equation}"
   ]
  },
  {
   "cell_type": "markdown",
   "id": "cdbece05",
   "metadata": {},
   "source": [
    "Осуществляя теперь подстановку $r_m = r_a$ имеем"
   ]
  },
  {
   "cell_type": "markdown",
   "id": "d39a30e1",
   "metadata": {},
   "source": [
    "\\begin{equation}\n",
    "\\begin{array}{c}\n",
    "\\frac{сtg \\, \\theta_a}{r_a^2} = \n",
    "\\int\\limits_{r_m=0}^{r_a}\\,\\int\\limits_{\\theta_m=0}^{\\pi}\\,\\frac{j_m(r_m, \\theta_m)}{c}\\,\\frac{d}{dr_a}\\left(\\frac{\\sin \\theta_m\\, r_m^2}{r_a} \\sum\\limits_{l=0}^{\\infty }{{\\left( \\frac{r_m}{r_a} \\right)}^{l}}S_{l}(\\theta_m, \\theta_a) \\right)\\, d \\theta_m \\,d r_m \\\\\n",
    "+ \\int\\limits_{r_m=r_a}^{\\infty}\\,\\int\\limits_{\\theta_m=0}^{\\pi}\\,\\frac{j_m(r_m, \\theta_m)}{c} \\,\\frac{d}{dr_a}\\left({\\sin \\theta_m\\,r_m} \\sum\\limits_{l=0}^{\\infty }{{\\left( \\frac{r_a}{r_m} \\right)}^{l}}S_{l}(\\theta_m, \\theta_a) \\right) \\, d \\theta_m \\,d r_m \\\\\n",
    "+ \\int\\limits_{\\theta_m=0}^{\\pi}\\,\\frac{j_m(r_a, \\theta_m)}{c}\\,\\left({\\sin \\theta_m \\, r_a} \\sum\\limits_{l=0}^{\\infty} S_{l}\\left(\\theta_m, \\theta_a\\right) \\right)\\, d \\theta_m -\n",
    "\\int\\limits_{\\theta_m=0}^{\\pi}\\,\\frac{j_m(r_a, \\theta_m)}{c} \\,\\left({\\sin \\theta_m \\,r_a} \\sum\\limits_{l=0}^{\\infty} S_{l}(\\theta_m, \\theta_a) \\right) \\, d \\theta_m\n",
    "\\end{array}\n",
    "\\end{equation}"
   ]
  },
  {
   "cell_type": "markdown",
   "id": "147326cc",
   "metadata": {},
   "source": [
    "После указанной подстановки отношения радиальных координат наблюдения и магнитных зарядов стали равными единице и поэтому мы видим что два слагаемых в правой части взаимно сокращаются"
   ]
  },
  {
   "cell_type": "markdown",
   "id": "0dac78fa",
   "metadata": {},
   "source": [
    "$\\frac{сtg \\, \\theta_a}{r_a^2} = \n",
    "\\int\\limits_{r_m=0}^{r_a}\\,\\int\\limits_{\\theta_m=0}^{\\pi}\\,\\frac{j_m(r_m, \\theta_m)}{c}\\,\\frac{d}{dr_a}\\left(\\frac{\\sin \\theta_m\\, r_m^2}{r_a} \\sum\\limits_{l=0}^{\\infty }{{\\left( \\frac{r_m}{r_a} \\right)}^{l}}S_{l}(\\theta_m, \\theta_a) \\right)\\, d \\theta_m \\,d r_m +\n",
    "\\int\\limits_{r_m=r_a}^{\\infty}\\,\\int\\limits_{\\theta_m=0}^{\\pi}\\,\\frac{j_m(r_m, \\theta_m)}{c} \\,\\frac{d}{dr_a}\\left({\\sin \\theta_m\\,r_m} \\sum\\limits_{l=0}^{\\infty }{{\\left( \\frac{r_a}{r_m} \\right)}^{l}}S_{l}(\\theta_m, \\theta_a) \\right) \\, d \\theta_m \\,d r_m$"
   ]
  },
  {
   "cell_type": "markdown",
   "id": "98f6ffee",
   "metadata": {},
   "source": [
    "теперь собственно производим дифференцирование в подынтегральных выражениях"
   ]
  },
  {
   "cell_type": "markdown",
   "id": "424e9c3e",
   "metadata": {},
   "source": [
    "\\begin{equation}\n",
    "\\begin{array}{c}\n",
    "\\frac{сtg \\, \\theta_a}{r_a^2} = \n",
    "\\int\\limits_{r_m=0}^{r_a}\\,\\int\\limits_{\\theta_m=0}^{\\pi}\\,\\frac{j_m(r_m, \\theta_m)}{c}\\,\\left(\\frac{\\sin \\theta_m\\, r_m^2}{r_a} \\sum\\limits_{l=0}^{\\infty }-l{{\\left( \\frac{{r_m}^{l}}{{r_a}^{l+1}} \\right)}}S_{l}(\\theta_m, \\theta_a) - \\frac{\\sin \\theta_m\\, r_m^2}{r_a^2} \\sum\\limits_{l=0}^{\\infty }{{\\left( \\frac{r_m}{r_a} \\right)}^{l}}S_{l}(\\theta_m, \\theta_a)\\right)\\, d \\theta_m \\,d r_m  \\\\\n",
    "+\\int\\limits_{r_m=r_a}^{\\infty}\\,\\int\\limits_{\\theta_m=0}^{\\pi}\\,\\frac{j_m(r_m, \\theta_m)}{c} \\,\\left({\\sin \\theta_m\\,r_m} \\sum\\limits_{l=0}^{\\infty }l{{\\left( \\frac{{r_a}^{l-1}}{{r_m}^{l}} \\right)}}S_{l}(\\theta_m, \\theta_a) \\right) \\, d \\theta_m \\,d r_m\n",
    "\\end{array}\n",
    "\\end{equation}"
   ]
  },
  {
   "cell_type": "code",
   "execution_count": null,
   "id": "ad094097",
   "metadata": {},
   "outputs": [],
   "source": []
  },
  {
   "cell_type": "markdown",
   "id": "6551726e",
   "metadata": {},
   "source": [
    "\\begin{equation}\n",
    "\\begin{array}{c}\n",
    "\\frac{сtg \\, \\theta_a}{r_a^2} = \n",
    "-\\int\\limits_{r_m=0}^{r_a}\\,\\int\\limits_{\\theta_m=0}^{\\pi}\\,\\frac{j_m(r_m, \\theta_m)}{c}\\,\\left(\\frac{\\sin \\theta_m\\, r_m^2}{r_a} \\sum\\limits_{l=0}^{\\infty }l{{\\left( \\frac{{r_m}^{l}}{{r_a}^{l+1}} \\right)}}S_{l}(\\theta_m, \\theta_a) + \\frac{\\sin \\theta_m\\, r_m^2}{r_a^2} \\sum\\limits_{l=0}^{\\infty }{{\\left( \\frac{r_m}{r_a} \\right)}^{l}}S_{l}(\\theta_m, \\theta_a)\\right)\\, d \\theta_m \\,d r_m  \\\\\n",
    "+\\int\\limits_{r_m=r_a}^{\\infty}\\,\\int\\limits_{\\theta_m=0}^{\\pi}\\,\\frac{j_m(r_m, \\theta_m)}{c} \\,\\left({\\sin \\theta_m\\,r_m} \\sum\\limits_{l=0}^{\\infty }l{{\\left( \\frac{{r_a}^{l-1}}{{r_m}^{l}} \\right)}}S_{l}(\\theta_m, \\theta_a) \\right) \\, d \\theta_m \\,d r_m\n",
    "\\end{array}\n",
    "\\end{equation}"
   ]
  },
  {
   "cell_type": "code",
   "execution_count": null,
   "id": "0bbf36f6",
   "metadata": {},
   "outputs": [],
   "source": []
  },
  {
   "cell_type": "markdown",
   "id": "dfc2fe0c",
   "metadata": {},
   "source": [
    "\\begin{equation}\n",
    "\\begin{array}{c}\n",
    "\\frac{сtg \\, \\theta_a}{r_a^2} = \n",
    "-\\int\\limits_{r_m=0}^{r_a}\\,\\int\\limits_{\\theta_m=0}^{\\pi}\\,\\frac{j_m(r_m, \\theta_m)}{c}\\,\\left(\\frac{\\sin \\theta_m\\, r_m^2}{r_a^2} \\sum\\limits_{l=0}^{\\infty }l{{\\left( \\frac{{r_m}}{{r_a}} \\right)}^{l}}S_{l}(\\theta_m, \\theta_a) + \\frac{\\sin \\theta_m\\, r_m^2}{r_a^2} \\sum\\limits_{l=0}^{\\infty }{{\\left( \\frac{r_m}{r_a} \\right)}^{l}}S_{l}(\\theta_m, \\theta_a)\\right)\\, d \\theta_m \\,d r_m  \\\\\n",
    "+\\int\\limits_{r_m=r_a}^{\\infty}\\,\\int\\limits_{\\theta_m=0}^{\\pi}\\,\\frac{j_m(r_m, \\theta_m)}{c} \\,\\left({\\sin \\theta_m\\,r_m} \\sum\\limits_{l=0}^{\\infty }l{{\\left( \\frac{{r_a}^{l-1}}{{r_m}^{l}} \\right)}}S_{l}(\\theta_m, \\theta_a) \\right) \\, d \\theta_m \\,d r_m\n",
    "\\end{array}\n",
    "\\end{equation}"
   ]
  },
  {
   "cell_type": "markdown",
   "id": "a4f79a28",
   "metadata": {},
   "source": [
    "\\begin{equation}\n",
    "\\begin{array}{c}\n",
    "\\frac{сtg \\, \\theta_a}{r_a^2} = \n",
    "-\\int\\limits_{r_m=0}^{r_a}\\,\\int\\limits_{\\theta_m=0}^{\\pi}\\,\\frac{j_m(r_m, \\theta_m)}{c}\\,\\left(\\frac{\\sin \\theta_m\\, r_m^2}{r_a^2} \\sum\\limits_{l=0}^{\\infty }\\left(l+1\\right){{\\left( \\frac{{r_m}}{{r_a}} \\right)}^{l}}S_{l}(\\theta_m, \\theta_a) \\right)\\, d \\theta_m \\,d r_m  \\\\\n",
    "+\\int\\limits_{r_m=r_a}^{\\infty}\\,\\int\\limits_{\\theta_m=0}^{\\pi}\\,\\frac{j_m(r_m, \\theta_m)}{c} \\,\\left(\\frac{\\sin \\theta_m\\,r_m}{r_a} \\sum\\limits_{l=0}^{\\infty }l{{\\left( \\frac{{r_a}}{{r_m}} \\right)}^{l}}S_{l}(\\theta_m, \\theta_a) \\right) \\, d \\theta_m \\,d r_m\n",
    "\\end{array}\n",
    "\\end{equation}"
   ]
  },
  {
   "cell_type": "markdown",
   "id": "21ed4e3d",
   "metadata": {},
   "source": [
    "Ещё раз дифференцируем обе части интегрального уравнения по $r_a$"
   ]
  },
  {
   "cell_type": "markdown",
   "id": "dd782c40",
   "metadata": {},
   "source": [
    "\\begin{equation}\n",
    "\\begin{array}{c}\n",
    "-\\,2\\,\\frac{сtg \\, \\theta_a}{r_a^3} = \n",
    "-\\int\\limits_{r_m=0}^{r_a}\\,\\int\\limits_{\\theta_m=0}^{\\pi}\\,\\frac{j_m(r_m, \\theta_m)}{c}\\,\\frac{d}{dr_a}\\left(\\frac{\\sin \\theta_m\\, r_m^2}{r_a^2} \\sum\\limits_{l=0}^{\\infty }\\left(l+1\\right){{\\left( \\frac{{r_m}}{{r_a}} \\right)}^{l}}S_{l}(\\theta_m, \\theta_a) \\right)\\, d \\theta_m \\,d r_m  \\\\\n",
    "+\\int\\limits_{r_m=r_a}^{\\infty}\\,\\int\\limits_{\\theta_m=0}^{\\pi}\\,\\frac{j_m(r_m, \\theta_m)}{c} \\,\\frac{d}{dr_a}\\left(\\frac{\\sin \\theta_m\\,r_m}{r_a} \\sum\\limits_{l=0}^{\\infty }l{{\\left( \\frac{{r_a}}{{r_m}} \\right)}^{l}}S_{l}(\\theta_m, \\theta_a) \\right) \\, d \\theta_m \\,d r_m \\\\\n",
    "-\\int\\limits_{\\theta_m=0}^{\\pi}\\,\\frac{j_m(r_a, \\theta_m)}{c}\\,\\left(\\frac{\\sin \\theta_m\\, r_m^2}{r_a^2} \\sum\\limits_{l=0}^{\\infty }\\left(l+1\\right){{\\left( \\frac{{r_m}}{{r_a}} \\right)}^{l}}S_{l}(\\theta_m, \\theta_a) \\right)_{r_m = r_a}\\, d \\theta_m  \\\\\n",
    "-\\int\\limits_{\\theta_m=0}^{\\pi}\\,\\frac{j_m(r_a, \\theta_m)}{c} \\,\\left(\\frac{\\sin \\theta_m\\,r_m}{r_a} \\sum\\limits_{l=0}^{\\infty }l{{\\left( \\frac{{r_a}}{{r_m}} \\right)}^{l}}S_{l}(\\theta_m, \\theta_a) \\right)_{r_m = r_a} \\, d \\theta_m\n",
    "\\end{array}\n",
    "\\end{equation}"
   ]
  },
  {
   "cell_type": "markdown",
   "id": "3328cf96",
   "metadata": {},
   "source": [
    "\\begin{equation}\n",
    "\\begin{array}{c}\n",
    "-\\,2\\,\\frac{сtg \\, \\theta_a}{r_a^3} = \n",
    "-\\int\\limits_{r_m=0}^{r_a}\\,\\int\\limits_{\\theta_m=0}^{\\pi}\\,\\frac{j_m(r_m, \\theta_m)}{c}\\,\\frac{d}{dr_a}\\left(\\frac{\\sin \\theta_m\\, r_m^2}{r_a^2} \\sum\\limits_{l=0}^{\\infty }\\left(l+1\\right){{\\left( \\frac{{r_m}}{{r_a}} \\right)}^{l}}S_{l}(\\theta_m, \\theta_a) \\right)\\, d \\theta_m \\,d r_m  \\\\\n",
    "+\\int\\limits_{r_m=r_a}^{\\infty}\\,\\int\\limits_{\\theta_m=0}^{\\pi}\\,\\frac{j_m(r_m, \\theta_m)}{c} \\,\\frac{d}{dr_a}\\left(\\frac{\\sin \\theta_m\\, r_m}{r_a} \\sum\\limits_{l=0}^{\\infty }l{{\\left( \\frac{{r_a}}{{r_m}} \\right)}^{l}}S_{l}(\\theta_m, \\theta_a) \\right) \\, d \\theta_m \\,d r_m \\\\\n",
    "-\\int\\limits_{\\theta_m=0}^{\\pi}\\,\\frac{j_m(r_a, \\theta_m)}{c}\\,\\left({\\sin \\theta_m} \\sum\\limits_{l=0}^{\\infty }\\left(l+1\\right)\\,S_{l}(\\theta_m, \\theta_a) \\right) \\, d \\theta_m  \\\\\n",
    "-\\int\\limits_{\\theta_m=0}^{\\pi}\\,\\frac{j_m(r_a, \\theta_m)}{c} \\,\\left({\\sin \\theta_m} \\sum\\limits_{l=0}^{\\infty }l\\,S_{l}(\\theta_m, \\theta_a) \\right) \\, d \\theta_m\n",
    "\\end{array}\n",
    "\\end{equation}"
   ]
  },
  {
   "cell_type": "markdown",
   "id": "3ab716f2",
   "metadata": {},
   "source": [
    "\\begin{equation}\n",
    "\\begin{array}{c}\n",
    "-\\,2\\,\\frac{сtg \\, \\theta_a}{r_a^3} = \n",
    "-\\int\\limits_{r_m=0}^{r_a}\\,\\int\\limits_{\\theta_m=0}^{\\pi}\\,\\frac{j_m(r_m, \\theta_m)}{c}\\,\\frac{d}{dr_a}\\left(\\frac{\\sin \\theta_m\\, r_m^2}{r_a^2} \\sum\\limits_{l=0}^{\\infty }\\left(l+1\\right){{\\left( \\frac{{r_m}}{{r_a}} \\right)}^{l}}S_{l}(\\theta_m, \\theta_a) \\right)\\, d \\theta_m \\,d r_m  \\\\\n",
    "+\\int\\limits_{r_m=r_a}^{\\infty}\\,\\int\\limits_{\\theta_m=0}^{\\pi}\\,\\frac{j_m(r_m, \\theta_m)}{c} \\,\\frac{d}{dr_a}\\left(\\frac{\\sin \\theta_m\\,r_m}{r_a} \\sum\\limits_{l=0}^{\\infty }l{{\\left( \\frac{{r_a}}{{r_m}} \\right)}^{l}}S_{l}(\\theta_m, \\theta_a) \\right) \\, d \\theta_m \\,d r_m \\\\\n",
    "-\\int\\limits_{\\theta_m=0}^{\\pi}\\,\\frac{j_m(r_a, \\theta_m)}{c}\\,\\left({\\sin \\theta_m} \\sum\\limits_{l=0}^{\\infty }\\left(2\\,l+1\\right)\\,S_{l}(\\theta_m, \\theta_a) \\right) \\, d \\theta_m\n",
    "\\end{array}\n",
    "\\end{equation}"
   ]
  },
  {
   "cell_type": "markdown",
   "id": "b4785159",
   "metadata": {},
   "source": [
    "\\begin{equation}\n",
    "\\begin{array}{c}\n",
    "-\\,c\\,\\frac{2 \\, ctg\\left(\\theta_{a}\\right)}{r_{a}^{3}} = \n",
    "-\\int\\limits_{0}^{\\pi} {j_{m}\\left(r_{a}, \\theta_{m}\\right) \\sin\\left(\\theta_{m}\\right) {\\sum\\limits_{l=0}^{+\\infty} {\\left(2 \\, l + 1\\right)} S_{l}\\left(l, \\theta_{m}, \\theta_{a}\\right)}}\\,{d \\theta_{m}} \\\\\n",
    "+ \\frac{1}{r_{a}^{3}}\\int\\limits_{0}^{r_{a}} \\int\\limits_{0}^{\\pi} {r_{m}^2 \\,j_{m}\\left(r_{m}, \\theta_{m}\\right) \\sin\\left(\\theta_{m}\\right) {\\sum\\limits_{l=0}^{+\\infty} {{\\left(l^{2} + 3 \\, l + 2\\right)} \\left(\\frac{r_{m}}{r_{a}}\\right)^{l} S_{l}\\left(l, \\theta_{m}, \\theta_{a}\\right)}}}\\,{d \\theta_{m}}\\,{d r_{m}} \\\\\n",
    "+ \\frac{1}{r_{a}^{2}}\\int\\limits_{r_{a}}^{+\\infty} \\int\\limits_{0}^{\\pi} {r_m \\,j_{m}\\left(r_{m}, \\theta_{m}\\right) \\sin\\left(\\theta_{m}\\right) {\\sum\\limits_{l=0}^{+\\infty} {{\\left(l^{2} - l\\right)} \\left(\\frac{r_{a}}{r_{m}}\\right)^{l} S_{l}\\left(l, \\theta_{m}, \\theta_{a}\\right)}{}}}\\,{d \\theta_{m}}\\,{d r_{m}} \n",
    "\\end{array}\n",
    "\\end{equation}"
   ]
  },
  {
   "cell_type": "markdown",
   "id": "9ea27182",
   "metadata": {},
   "source": [
    "Таким образом, с помощью двукратного дифференцирования удалось вытащить неизвестную функцию из под двукратного интеграла в однократный. "
   ]
  },
  {
   "cell_type": "markdown",
   "id": "f5279f25",
   "metadata": {},
   "source": [
    "Интегральное уравнение можно упростить введя выражение ядер интегрирования\n",
    "\n",
    "$K_1(\\theta_m, \\theta_a) = \\sin\\left(\\theta_{m}\\right) {\\sum\\limits_{l=0}^{+\\infty} {\\left(2 \\, l + 1\\right)} S_{l}\\left(l, \\theta_{m}, \\theta_{a}\\right)}$\n",
    "\n",
    "$K_2(r_m, r_a, \\theta_m, \\theta_a) = \\sin\\left(\\theta_{m}\\right) {\\sum\\limits_{l=0}^{+\\infty}{\\left(l^{2} + 3 \\, l + 2\\right)} \\left(\\frac{r_m}{r_a}\\right)^l} S_{l}\\left(l, \\theta_{m}, \\theta_{a}\\right)$\n",
    "\n",
    "$K_3(r_m, r_a, \\theta_m, \\theta_a) = \\sin\\left(\\theta_{m}\\right) {\\sum\\limits_{l=0}^{+\\infty} {\\left(l^{2} - l\\right)}\\left(\\frac{r_a}{r_m}\\right)^l}S_{l}\\left(l, \\theta_{m}, \\theta_{a}\\right)$\n"
   ]
  },
  {
   "cell_type": "markdown",
   "id": "9dc111d2",
   "metadata": {},
   "source": [
    "Обозначим\n",
    "\n",
    "\\begin{equation}\n",
    "\\begin{array}{rl}\n",
    "Q_{l}\\left(\\theta_m, \\theta_a\\right) = & \\\\\n",
    "& sin\\left(\\theta_m\\right)\\,S_{l}\\left(\\theta_m, \\theta_a\\right) = \\\\\n",
    "& \n",
    "\\begin{array}{ll}\n",
    "\\,\\,\\,\\,& sin\\left(\\theta_m\\right)\\,\\left(\\int\\limits_{{\\left(\\varphi_m - \\varphi_a\\right)}=0}^{2\\pi}\\,{cos\\,{{\\left(\\varphi_m - \\varphi_a\\right)} } }{P_l} \\cos \\left( \\gamma  \\right)\\, d {\\left(\\varphi_m - \\varphi_a\\right)}\\right)\n",
    "\\end{array}\n",
    "\\end{array}\n",
    "\\end{equation}"
   ]
  },
  {
   "cell_type": "code",
   "execution_count": 11,
   "id": "72380cec",
   "metadata": {},
   "outputs": [],
   "source": [
    "def Kr2(l, r_m, r_a):\n",
    "    return (r_m/r_a)^l\n",
    "def Kr3(l, r_m, r_a):\n",
    "    return (r_a/r_m)^l"
   ]
  },
  {
   "cell_type": "code",
   "execution_count": 12,
   "id": "ce313a84",
   "metadata": {},
   "outputs": [],
   "source": [
    "def Kl1(l):\n",
    "    return (2*l + 1)\n",
    "def Kl2(l):\n",
    "    return (l^2 + 3*l + 2)\n",
    "def Kl3(l):\n",
    "    return (l^2 - l)"
   ]
  },
  {
   "cell_type": "code",
   "execution_count": 13,
   "id": "8243d0f3",
   "metadata": {},
   "outputs": [],
   "source": [
    "K_1 = function(\"K_1\")(theta_m, theta_a)\n",
    "K_2 = function(\"K_2\")(r_m, r_a, theta_m, theta_a)\n",
    "K_3 = function(\"K_3\")(r_m, r_a, theta_m, theta_a)"
   ]
  },
  {
   "cell_type": "markdown",
   "id": "d542ced3",
   "metadata": {},
   "source": [
    "Таким образом краткая запись интегрального уравнения имеет вид\n",
    "\n",
    "\\begin{equation}\n",
    "\\begin{array}{c}\n",
    "-\\,c\\,\\frac{2 \\, \\cot\\left(\\theta_{a}\\right)}{r_{a}^{3}} = \n",
    "-\\,\\int\\limits_{0}^{\\pi} j_{m}\\left(r_{a}, \\theta_{m}\\right)\n",
    "K_1(\\theta_m, \\theta_a)\n",
    "\\,{d \\theta_{m}} \\\\\n",
    "+ \\frac{1}{r_a^3}\\int\\limits_{0}^{r_{a}} r_{m}^2 \\int\\limits_{0}^{\\pi}\n",
    "j_{m}\\left(r_{m}, \\theta_{m}\\right)\n",
    "K_2(r_m, r_a, \\theta_m, \\theta_a)\n",
    "\\,{d \\theta_{m}}\\,{d r_{m}} \\\\\n",
    "+ \\frac{1}{r_a^2}\\int\\limits_{r_{a}}^{+\\infty} r_m \\int\\limits_{0}^{\\pi}\n",
    "j_{m}\\left(r_{m}, \\theta_{m}\\right)\n",
    "K_3(r_m, r_a, \\theta_m, \\theta_a)\n",
    "\\,{d \\theta_{m}}\\,{d r_{m}} \n",
    "\\end{array}\n",
    "\\end{equation}"
   ]
  },
  {
   "cell_type": "markdown",
   "id": "2f040dfd",
   "metadata": {},
   "source": [
    "Теперь, поскольку ввиду симметричных свойств первого ядра интегрирования тем же самым приёмом вытащить неизвестную функцию из под полученного однократного интеграла не удаётся, можно попытаться разделить переменные в неизвестной функции"
   ]
  },
  {
   "cell_type": "markdown",
   "id": "ca5c8f2c",
   "metadata": {},
   "source": [
    "Неизвестные функции\n",
    "\n",
    "$j_m(r_m, \\theta_m) = j_r(r_m) \\, j_{\\theta}(\\theta_m) = q_r(r_m) \\, q_{\\theta}(\\theta_m)\\, \\omega_{r} (r_m)\\, \\omega_{\\theta} (\\theta_m) \\, r_m \\, \\sin \\theta_m$ - плотность магнитного тока"
   ]
  },
  {
   "cell_type": "markdown",
   "id": "54a2c6b7",
   "metadata": {},
   "source": [
    "\\begin{equation}\n",
    "\\begin{array}{c}\n",
    "-\\frac{2 \\, \\cot\\left(\\theta_{a}\\right)}{r_{a}^{3}} = \n",
    "-\\frac{j_r(r_a)}{c} \\, \\int\\limits_{0}^{\\pi} j_{\\theta}(\\theta_m)\n",
    "K_1(\\theta_m, \\theta_a)\n",
    "\\,{d \\theta_{m}} \\\\\n",
    "+ \\frac{1}{r_a^3}\\int\\limits_{0}^{r_{a}} r_m^2 \\,\\frac{j_r(r_m)}{c} \\, \\int\\limits_{0}^{\\pi}\n",
    "j_{\\theta}(\\theta_m)\n",
    "K_2(r_m, r_a, \\theta_m, \\theta_a)\n",
    "\\,{d \\theta_{m}}\\,{d r_{m}}\n",
    "+ \\frac{1}{r_a^2}\\int\\limits_{r_{a}}^{+\\infty} r_m\\,\\frac{j_r(r_m)}{c} \\, \\int\\limits_{0}^{\\pi}\n",
    "j_{\\theta}(\\theta_m)\n",
    "K_3(r_m, r_a, \\theta_m, \\theta_a)\n",
    "\\,{d \\theta_{m}}\\,{d r_{m}} \n",
    "\\end{array}\n",
    "\\end{equation}"
   ]
  },
  {
   "cell_type": "code",
   "execution_count": null,
   "id": "17ac07b1",
   "metadata": {},
   "outputs": [],
   "source": []
  },
  {
   "cell_type": "markdown",
   "id": "6df42835",
   "metadata": {},
   "source": [
    "$$\\begin{array}{c}\n",
    "\\frac{j_r(r_a)}{r} \\, \\int\\limits_{0}^{\\pi} j_{\\theta}(\\theta_m) K_1(\\theta_m, \\theta_a)\n",
    "\\,{d \\theta_{m}} = \\\\\n",
    "\\frac{2 \\, \\cot\\left(\\theta_{a}\\right)}{r_{a}^{3}}\n",
    "+ \\frac{1}{r_a^3}\\int\\limits_{0}^{r_{a}} r_m^2 \\,\\frac{j_r(r_m)}{r} \\, \\int\\limits_{0}^{\\pi}\n",
    "j_{\\theta}(\\theta_m)\n",
    "K_2(r_m, r_a, \\theta_m, \\theta_a)\n",
    "\\,{d \\theta_{m}}\\,{d r_{m}} \\\\\n",
    "+ \\frac{1}{r_a^2}\\int\\limits_{r_{a}}^{+\\infty} r_m \\, \\frac{j_r(r_m)}{c} \\, \\int\\limits_{0}^{\\pi}\n",
    "j_{\\theta}(\\theta_m)\n",
    "K_3(r_m, r_a, \\theta_m, \\theta_a)\n",
    "\\,{d \\theta_{m}}\\,{d r_{m}} \n",
    "\\end{array}$$"
   ]
  },
  {
   "cell_type": "markdown",
   "id": "c2eff014",
   "metadata": {},
   "source": [
    "Введя обозначение\n",
    "\n",
    "$$L\\left(j_{\\theta}, \\theta_a\\right)={\\int\\limits_{0}^{\\pi} j_{\\theta}(\\theta_m) K_1(\\theta_m, \\theta_a)\\,{d \\theta_{m}}}$$"
   ]
  },
  {
   "cell_type": "markdown",
   "id": "d7995a0b",
   "metadata": {},
   "source": [
    "$$L\\left(j_{\\theta}, \\theta_a\\right)={\\int\\limits_{0}^{\\pi} j_{\\theta}(\\theta_m) \\sin\\left(\\theta_{m}\\right) {\\sum\\limits_{l=0}^{+\\infty} {\\left(2 \\, l + 1\\right)} S_{l}\\left(l, \\theta_{m}, \\theta_{a}\\right)}\\,{d \\theta_{m}}}$$"
   ]
  },
  {
   "cell_type": "markdown",
   "id": "03523a8b",
   "metadata": {},
   "source": [
    "$$L\\left(j_{\\theta}, \\theta_a\\right)={\\sum\\limits_{l=0}^{+\\infty} {\\left(2 \\, l + 1\\right)}\\int\\limits_{0}^{\\pi} j_{\\theta}(\\theta_m) \\sin\\left(\\theta_{m}\\right) { S_{l}\\left(l, \\theta_{m}, \\theta_{a}\\right)}\\,{d \\theta_{m}}}$$"
   ]
  },
  {
   "cell_type": "markdown",
   "id": "98c76bf7",
   "metadata": {},
   "source": [
    "Введя также обозначение\n",
    "\n",
    "$$M_l\\left(j_{\\theta}, \\theta_a\\right)={\\int\\limits_{0}^{\\pi} j_{\\theta}(\\theta_m)\\,S_l(\\theta_m, \\theta_a)\\,sin\\left(\\theta_m\\right)\\,{d \\theta_{m}}}$$"
   ]
  },
  {
   "cell_type": "markdown",
   "id": "cc48b90f",
   "metadata": {},
   "source": [
    "$$M_l\\left(j_{\\theta}, \\theta_a\\right)={\\int\\limits_{0}^{\\pi} j_{\\theta}(\\theta_m)\\,Q_l(\\theta_m, \\theta_a)\\,{d \\theta_{m}}}$$"
   ]
  },
  {
   "cell_type": "markdown",
   "id": "8aac05df",
   "metadata": {},
   "source": [
    "$$m_l\\left(j_{\\theta}, \\theta_a\\right)= j_{\\theta}(\\theta_m)\\,Q_l(\\theta_m, \\theta_a)$$"
   ]
  },
  {
   "cell_type": "code",
   "execution_count": 14,
   "id": "e84d7bb2",
   "metadata": {},
   "outputs": [],
   "source": [
    "def ml(l, j_theta, theta_a):\n",
    "    # return j_theta(theta_m=theta_m) * Q_l(l, theta_m, theta_a)\n",
    "    return j_theta(theta_m=theta_m) * sin(theta_m) * legendre_sum_A_ring_sympy(l, theta_m, theta_a)\n",
    "\n",
    "def Ml(l, j_theta, theta_a):\n",
    "    return integrate(ml(l=l, j_theta=j_theta, theta_a=theta_a), theta_m, 0, pi, hold=False)"
   ]
  },
  {
   "cell_type": "markdown",
   "id": "7d369150",
   "metadata": {},
   "source": [
    "$$L\\left(j_{\\theta}, \\theta_a\\right)={\\sum\\limits_{l=0}^{+\\infty} {\\left(2 \\, l + 1\\right)}M_l\\left(j_{\\theta}, \\theta_a\\right)}$$"
   ]
  },
  {
   "cell_type": "markdown",
   "id": "caa1db1d",
   "metadata": {},
   "source": [
    "Получаем интегральное уравнение, записанное в виде, пригодном для итерационной процедуры\n",
    "\n",
    "\\begin{equation}\n",
    "\\begin{array}{c}\n",
    "\\frac{j_r(r_a)}{c} = \n",
    "\\frac{2 \\, \\cot\\left(\\theta_{a}\\right)}{r_{a}^{3}}\\,\\frac{1}{L\\left(j_{\\theta}, \\theta_a\\right)}\n",
    "+ \\frac{1}{L\\left(j_{\\theta}, \\theta_a\\right)}\\frac{1}{r_a^3}\\int\\limits_{0}^{r_{a}} r_m^2 \\,\\frac{j_r(r_m)}{c} \\, \\int\\limits_{0}^{\\pi}\n",
    "j_{\\theta}(\\theta_m)\n",
    "K_2(r_m, r_a, \\theta_m, \\theta_a)\n",
    "\\,{d \\theta_{m}}\\,{d r_{m}} \\\\\n",
    "+ \\frac{1}{L\\left(j_{\\theta}, \\theta_a\\right)}\\frac{1}{r_a^2}\\int\\limits_{r_{a}}^{+\\infty} r_m\\,\\frac{j_r(r_m)}{c} \\, \\int\\limits_{0}^{\\pi}\n",
    "j_{\\theta}(\\theta_m)\n",
    "K_3(r_m, r_a, \\theta_m, \\theta_a)\n",
    "\\,{d \\theta_{m}}\\,{d r_{m}} \n",
    "\\end{array}\n",
    "\\end{equation}"
   ]
  },
  {
   "cell_type": "markdown",
   "id": "b67f94f9",
   "metadata": {},
   "source": [
    "Получаем интегральное уравнение, записанное в виде, пригодном для итерационной процедуры\n",
    "\n",
    "\\begin{equation}\n",
    "\\begin{array}{c}\n",
    "\\frac{j_r(r_a)}{c} = \\frac{1}{L\\left(j_{\\theta}, \\theta_a\\right)} \\left(\n",
    "\\frac{2 \\, \\cot\\left(\\theta_{a}\\right)}{r_{a}^{3}}\\,\n",
    "+ \\frac{1}{r_a^3}\\int\\limits_{0}^{r_{a}} r_m^2 \\,\\frac{j_r(r_m)}{c} \\, \\int\\limits_{0}^{\\pi}\n",
    "j_{\\theta}(\\theta_m)\n",
    "K_2(r_m, r_a, \\theta_m, \\theta_a)\n",
    "\\,{d \\theta_{m}}\\,{d r_{m}} \\\\\n",
    "+ \\frac{1}{r_a^2}\\int\\limits_{r_{a}}^{+\\infty} r_m\\,\\frac{j_r(r_m)}{r} \\, \\int\\limits_{0}^{\\pi}\n",
    "j_{\\theta}(\\theta_m)\n",
    "K_3(r_m, r_a, \\theta_m, \\theta_a)\n",
    "\\,{d \\theta_{m}}\\,{d r_{m}} \\right)\n",
    "\\end{array}\n",
    "\\end{equation}"
   ]
  },
  {
   "cell_type": "markdown",
   "id": "47442364",
   "metadata": {},
   "source": [
    "Подставляем ядра интегрирования\n",
    "\n",
    "\\begin{equation}\n",
    "\\begin{array}{c}\n",
    "\\frac{j_r(r_a)}{c} = \\frac{1}{L\\left(j_{\\theta}, \\theta_a\\right)} \\left(\n",
    "\\frac{2 \\, \\cot\\left(\\theta_{a}\\right)}{r_{a}^{3}}\\, +\\\\\n",
    "+ \\frac{1}{r_a^3}\\int\\limits_{0}^{r_{a}} r_m^2 \\,\\frac{j_r(r_m)}{c} \\, \\int\\limits_{0}^{\\pi}\n",
    "j_{\\theta}(\\theta_m)\n",
    "\\sin\\left(\\theta_{m}\\right) {\\sum\\limits_{l=0}^{+\\infty}{\\left(l^{2} + 3 \\, l + 2\\right)} \\left(\\frac{r_m}{r_a}\\right)^l} S_{l}\\left(l, \\theta_{m}, \\theta_{a}\\right)\n",
    "\\,{d \\theta_{m}}\\,{d r_{m}} \\\\\n",
    "+ \\frac{1}{r_a^2}\\int\\limits_{r_{a}}^{+\\infty} r_m\\,\\frac{j_r(r_m)}{c} \\, \\int\\limits_{0}^{\\pi}\n",
    "j_{\\theta}(\\theta_m)\n",
    "\\sin\\left(\\theta_{m}\\right) {\\sum\\limits_{l=0}^{+\\infty} {\\left(l^{2} - l\\right)}\\left(\\frac{r_a}{r_m}\\right)^l}S_{l}\\left(l, \\theta_{m}, \\theta_{a}\\right)\n",
    "\\,{d \\theta_{m}}\\,{d r_{m}} \\right)\n",
    "\\end{array}\n",
    "\\end{equation}"
   ]
  },
  {
   "cell_type": "markdown",
   "id": "f180d912",
   "metadata": {},
   "source": [
    "Меняем порядок интегрирования и суммирования\n",
    "\n",
    "\\begin{equation}\n",
    "\\begin{array}{c}\n",
    "\\frac{j_r(r_a)}{c} = \\frac{1}{L\\left(j_{\\theta}, \\theta_a\\right)} \\left(\n",
    "\\frac{2 \\, c\\,\\cot\\left(\\theta_{a}\\right)}{r_{a}^{3}}\\, +\\\\\n",
    "+ \\frac{1}{r_a^3}\\sum\\limits_{l=0}^{+\\infty}{\\left(l^{2} + 3 \\, l + 2\\right)} \\int\\limits_{0}^{r_{a}} r_m^2 \\,\\frac{j_r(r_m)}{c} \\, \\int\\limits_{0}^{\\pi}\n",
    "j_{\\theta}(\\theta_m)\n",
    "\\sin\\left(\\theta_{m}\\right) { \\left(\\frac{r_m}{r_a}\\right)^l} S_{l}\\left(l, \\theta_{m}, \\theta_{a}\\right)\n",
    "\\,{d \\theta_{m}}\\,{d r_{m}} \\\\\n",
    "+ \\frac{1}{r_a^2}\\sum\\limits_{l=0}^{+\\infty} {\\left(l^{2} - l\\right)}\\int\\limits_{r_{a}}^{+\\infty} r_m \\, \\frac{j_r(r_m)}{c} \\, \\int\\limits_{0}^{\\pi}\n",
    "j_{\\theta}(\\theta_m)\n",
    "\\sin\\left(\\theta_{m}\\right) {\\left(\\frac{r_a}{r_m}\\right)^l}S_{l}\\left(l, \\theta_{m}, \\theta_{a}\\right)\n",
    "\\,{d \\theta_{m}}\\,{d r_{m}} \\right)\n",
    "\\end{array}\n",
    "\\end{equation}"
   ]
  },
  {
   "cell_type": "markdown",
   "id": "67b27ac3",
   "metadata": {},
   "source": [
    "Выносим переменные связанные с радиусом из под интеграла по углам\n",
    "\n",
    "\\begin{equation}\n",
    "\\begin{array}{c}\n",
    "j_r(r_a) = \\frac{1}{L\\left(j_{\\theta}, \\theta_a\\right)} \\left(\n",
    "\\frac{2 \\, \\cot\\left(\\theta_{a}\\right)}{r_{a}^{3}}\\, +\\\\\n",
    "+ \\frac{1}{r_a^3}\\sum\\limits_{l=0}^{+\\infty}{\\left(l^{2} + 3 \\, l + 2\\right)} \\int\\limits_{0}^{r_{a}} r_m^2 \\,\\frac{j_r(r_m)}{c} { \\left(\\frac{r_m}{r_a}\\right)^l}\\,\n",
    "\\int\\limits_{0}^{\\pi}\n",
    "j_{\\theta}(\\theta_m)\n",
    "\\sin\\left(\\theta_{m}\\right)  S_{l}\\left(l, \\theta_{m}, \\theta_{a}\\right)\n",
    "\\,{d \\theta_{m}}\\,{d r_{m}} \\\\\n",
    "+ \\frac{1}{r_a^2}\\sum\\limits_{l=0}^{+\\infty} {\\left(l^{2} - l\\right)}\\int\\limits_{r_{a}}^{+\\infty} r_m \\, \\frac{j_r(r_m)}{c} {\\left(\\frac{r_a}{r_m}\\right)^l}\\,\n",
    "\\int\\limits_{0}^{\\pi}\n",
    "j_{\\theta}(\\theta_m)\n",
    "\\sin\\left(\\theta_{m}\\right)  S_{l}\\left(l, \\theta_{m}, \\theta_{a}\\right)\n",
    "\\,{d \\theta_{m}}\\,{d r_{m}} \\right)\n",
    "\\end{array}\n",
    "\\end{equation}"
   ]
  },
  {
   "cell_type": "markdown",
   "id": "ccbbc8cb",
   "metadata": {},
   "source": [
    "Теперь, поскольку интеграл по углам не зависит от радиуса, выносим этот интеграл целиком из под интеграла по радиусу в виде самостоятельного множителя\n",
    "\n",
    "\\begin{equation}\n",
    "\\begin{array}{c}\n",
    "\\frac{j_r(r_a)}{c} = \\frac{1}{L\\left(j_{\\theta}, \\theta_a\\right)} \\left(\n",
    "\\frac{2 \\, \\cot\\left(\\theta_{a}\\right)}{r_{a}^{3}}\\, +\\\\\n",
    "+ \\frac{1}{r_a^3}\\sum\\limits_{l=0}^{+\\infty}{\\left(l^{2} + 3 \\, l + 2\\right)} \\cdot\n",
    "\\int\\limits_{0}^{r_{a}} r_m^2 \\,\\frac{j_r(r_m)}{c} { \\left(\\frac{r_m}{r_a}\\right)^l}\\,\n",
    "\\,{d r_{m}} \\cdot\n",
    "\\int\\limits_{0}^{\\pi}\n",
    "j_{\\theta}(\\theta_m)\n",
    "\\sin\\left(\\theta_{m}\\right)  S_{l}\\left(l, \\theta_{m}, \\theta_{a}\\right)\n",
    "\\,{d \\theta_{m}}\\\\\n",
    "+ \\frac{1}{r_a^2}\\sum\\limits_{l=0}^{+\\infty} {\\left(l^{2} - l\\right)} \\cdot\n",
    "\\int\\limits_{r_{a}}^{+\\infty} r_m\\,\\frac{j_r(r_m)}{c} {\\left(\\frac{r_a}{r_m}\\right)^l}\\,\n",
    "\\,{d r_{m}} \\cdot\n",
    "\\int\\limits_{0}^{\\pi}\n",
    "j_{\\theta}(\\theta_m)\n",
    "\\sin\\left(\\theta_{m}\\right)  S_{l}\\left(l, \\theta_{m}, \\theta_{a}\\right)\n",
    "\\,{d \\theta_{m}}\n",
    "\\right)\n",
    "\\end{array}\n",
    "\\end{equation}"
   ]
  },
  {
   "cell_type": "markdown",
   "id": "5ad4d8dc",
   "metadata": {},
   "source": [
    "Выносим радиус координаты наблюдения за скобки\n",
    "\n",
    "\\begin{equation}\n",
    "\\begin{array}{c}\n",
    "\\frac{j_r(r_a)}{c} = \\frac{1}{L\\left(j_{\\theta}, \\theta_a\\right)}\\frac{1}{r_{a}^2} \\left(\n",
    "\\frac{2 \\, \\cot\\left(\\theta_{a}\\right)}{r_{a}}\\, +\\\\\n",
    "+ \\frac{1}{r_a}\\sum\\limits_{l=0}^{+\\infty}{\\left(l^{2} + 3 \\, l + 2\\right)} \\cdot\n",
    "\\int\\limits_{0}^{r_{a}} r_m^2 \\,\\frac{j_r(r_m)}{c} { \\left(\\frac{r_m}{r_a}\\right)^l}\\,\n",
    "\\,{d r_{m}} \\cdot\n",
    "\\int\\limits_{0}^{\\pi}\n",
    "j_{\\theta}(\\theta_m)\n",
    "\\sin\\left(\\theta_{m}\\right)  S_{l}\\left(l, \\theta_{m}, \\theta_{a}\\right)\n",
    "\\,{d \\theta_{m}}\\\\\n",
    "+ \\sum\\limits_{l=0}^{+\\infty} {\\left(l^{2} - l\\right)} \\cdot\n",
    "\\int\\limits_{r_{a}}^{+\\infty} r_m\\,\\frac{j_r(r_m)}{c} {\\left(\\frac{r_a}{r_m}\\right)^l}\\,\n",
    "\\,{d r_{m}} \\cdot\n",
    "\\int\\limits_{0}^{\\pi}\n",
    "j_{\\theta}(\\theta_m)\n",
    "\\sin\\left(\\theta_{m}\\right)  S_{l}\\left(l, \\theta_{m}, \\theta_{a}\\right)\n",
    "\\,{d \\theta_{m}}\n",
    "\\right)\n",
    "\\end{array}\n",
    "\\end{equation}"
   ]
  },
  {
   "cell_type": "markdown",
   "id": "f4de98aa",
   "metadata": {},
   "source": [
    "Вносим радиус координаты наблюдения во второй интеграл\n",
    "\n",
    "\\begin{equation}\n",
    "\\begin{array}{c}\n",
    "\\frac{j_r(r_a)}{c} = \\frac{1}{L\\left(j_{\\theta}, \\theta_a\\right)}\\frac{1}{r_{a}^2} \\left(\n",
    "\\frac{2 \\, \\cot\\left(\\theta_{a}\\right)}{r_{a}}\\, +\\\\\n",
    "+ \\sum\\limits_{l=0}^{+\\infty}{\\left(l^{2} + 3 \\, l + 2\\right)} \\cdot\n",
    "\\int\\limits_{0}^{r_{a}} r_m\\,\\frac{j_r(r_m)}{c} { \\left(\\frac{r_m}{r_a}\\right)^{l+1}}\\,\n",
    "\\,{d r_{m}} \\cdot\n",
    "\\int\\limits_{0}^{\\pi}\n",
    "j_{\\theta}(\\theta_m)\n",
    "\\sin\\left(\\theta_{m}\\right)  S_{l}\\left(l, \\theta_{m}, \\theta_{a}\\right)\n",
    "\\,{d \\theta_{m}}\\\\\n",
    "+ \\sum\\limits_{l=0}^{+\\infty} {\\left(l^{2} - l\\right)} \\cdot\n",
    "\\int\\limits_{r_{a}}^{+\\infty} r_m\\,\\frac{j_r(r_m)}{c} {\\left(\\frac{r_a}{r_m}\\right)^l}\\,\n",
    "\\,{d r_{m}} \\cdot\n",
    "\\int\\limits_{0}^{\\pi}\n",
    "j_{\\theta}(\\theta_m)\n",
    "\\sin\\left(\\theta_{m}\\right)  S_{l}\\left(l, \\theta_{m}, \\theta_{a}\\right)\n",
    "\\,{d \\theta_{m}}\n",
    "\\right)\n",
    "\\end{array}\n",
    "\\end{equation}"
   ]
  },
  {
   "cell_type": "markdown",
   "id": "b4e4d78c",
   "metadata": {},
   "source": [
    "Выносим интеграл по углу за скобки\n",
    "\n",
    "\\begin{equation}\n",
    "\\begin{array}{l}\n",
    "\\frac{j_r(r_a)}{c} = \\frac{1}{L\\left(j_{\\theta}, \\theta_a\\right)}\\frac{1}{r_{a}^2} \\left(\n",
    "\\frac{2 \\, \\cot\\left(\\theta_{a}\\right)}{r_{a}}\\, + \\\\\n",
    "+ \\sum\\limits_{l=0}^{+\\infty}\n",
    "\\left[\n",
    "\\left\\{\n",
    "{\\left(l^{2} + 3 \\, l + 2\\right)} \\cdot\n",
    "\\int\\limits_{0}^{r_{a}} r_m\\,\\frac{j_r(r_m)}{c} { \\left(\\frac{r_m}{r_a}\\right)^{l+1}}\\,\n",
    "\\,{d r_{m}}\n",
    "+ {\\left(l^{2} - l\\right)} \\cdot\n",
    "\\int\\limits_{r_{a}}^{+\\infty} r_m\\,\\frac{j_r(r_m)}{c} {\\left(\\frac{r_a}{r_m}\\right)^l}\\,\n",
    "\\,{d r_{m}}\n",
    "\\right\\} \\cdot\\\\\n",
    "\\cdot\n",
    "\\int\\limits_{0}^{\\pi}\n",
    "j_{\\theta}(\\theta_m)\n",
    "\\sin\\left(\\theta_{m}\\right)  S_{l}\\left(l, \\theta_{m}, \\theta_{a}\\right)\n",
    "\\,{d \\theta_{m}}\n",
    "\\right]\n",
    "\\right)\n",
    "\\end{array}\n",
    "\\end{equation}"
   ]
  },
  {
   "cell_type": "markdown",
   "id": "a92aea6e",
   "metadata": {},
   "source": [
    "\n",
    "Замечая, что мы уже ввели обозначение \n",
    "\n",
    "$$M_l\\left(j_{\\theta}, \\theta_a\\right)={\\int\\limits_{0}^{\\pi} j_{\\theta}(\\theta_m)\\,S_l(\\theta_m, \\theta_a)\\,sin\\left(\\theta_m\\right)\\,{d \\theta_{m}}}$$\n",
    "\n",
    "для интеграла по углу который был вынесен за скобки\n",
    "\n",
    "\\begin{equation}\n",
    "\\begin{array}{l}\n",
    "\\frac{j_r(r_a)}{c} = \\frac{1}{L\\left(j_{\\theta}, \\theta_a\\right)}\\frac{1}{r_{a}^2} \\left(\n",
    "\\frac{2 \\, \\cot\\left(\\theta_{a}\\right)}{r_{a}}\\, + \\\\\n",
    "+ \\sum\\limits_{l=0}^{+\\infty}\n",
    "\\left[\n",
    "\\left\\{\n",
    "{\\left(l^{2} + 3 \\, l + 2\\right)} \\cdot\n",
    "\\int\\limits_{0}^{r_{a}} r_m\\,\\frac{j_r(r_m)}{c} { \\left(\\frac{r_m}{r_a}\\right)^{l+1}}\\,\n",
    "\\,{d r_{m}}\n",
    "+ {\\left(l^{2} - l\\right)} \\cdot\n",
    "\\int\\limits_{r_{a}}^{+\\infty} r_m\\,\\frac{j_r(r_m)}{c} {\\left(\\frac{r_a}{r_m}\\right)^l}\\,\n",
    "\\,{d r_{m}}\n",
    "\\right\\}\n",
    "\\cdot\n",
    "M_l\\left(j_{\\theta}, \\theta_a\\right)\n",
    "\\right]\n",
    "\\right)\n",
    "\\end{array}\n",
    "\\end{equation}"
   ]
  },
  {
   "cell_type": "markdown",
   "id": "c3543d30",
   "metadata": {},
   "source": [
    "Вводим дополнительные обозначение\n",
    "\n",
    "$$R_2\\left(l, j_r, r_a\\right)=\\int\\limits_{0}^{r_{a}} r_m\\,\\frac{j_r(r_m)}{c} { \\left(\\frac{r_m}{r_a}\\right)^{l+1}}\\,\n",
    "\\,{d r_{m}}$$\n",
    "\n",
    "$$R_3\\left(l, j_r, r_a\\right)=\\int\\limits_{r_{a}}^{+\\infty} r_m\\,\\frac{j_r(r_m)}{c} {\\left(\\frac{r_a}{r_m}\\right)^l}\\,\n",
    "\\,{d r_{m}}$$\n",
    "\n",
    "и теперь\n",
    "\n",
    "\\begin{equation}\n",
    "\\begin{array}{l}\n",
    "\\frac{j_r(r_a)}{c} = \\frac{1}{L\\left(j_{\\theta}, \\theta_a\\right)}\\frac{1}{r_{a}^2} \\left(\n",
    "\\frac{2 \\,\\cot\\left(\\theta_{a}\\right)}{r_{a}}\\,\n",
    "+ \\sum\\limits_{l=0}^{+\\infty}\n",
    "\\left[\n",
    "\\left\\{\n",
    "{\\left(l^{2} + 3 \\, l + 2\\right)} \\cdot\n",
    "R_2\\left(l, j_r, r_a\\right)\n",
    "+ {\\left(l^{2} - l\\right)} \\cdot\n",
    "R_3\\left(l, j_r, r_a\\right)\n",
    "\\right\\}\n",
    "\\cdot\n",
    "M_l\\left(j_{\\theta}, \\theta_a\\right)\n",
    "\\right]\n",
    "\\right)\n",
    "\\end{array}\n",
    "\\end{equation}"
   ]
  },
  {
   "cell_type": "markdown",
   "id": "57dabe68",
   "metadata": {},
   "source": [
    "Теперь обозначим\n",
    "\n",
    "\\begin{equation}\n",
    "\\begin{array}{l}\n",
    "N\\left(j_r, j_{\\theta}, r_a, \\theta_a\\right) = \n",
    "\\sum\\limits_{l=0}^{+\\infty}\n",
    "\\left[\n",
    "\\left\\{\n",
    "{\\left(l^{2} + 3 \\, l + 2\\right)} \\cdot\n",
    "R_2\\left(l, j_r, r_a\\right)\n",
    "+ {\\left(l^{2} - l\\right)} \\cdot\n",
    "R_3\\left(l, j_r, r_a\\right)\n",
    "\\right\\}\n",
    "\\cdot\n",
    "M_l\\left(j_{\\theta}, \\theta_a\\right)\n",
    "\\right]\n",
    "\\end{array}\n",
    "\\end{equation}\n",
    "\n",
    "И теперь мы имеем\n",
    "\n",
    "# краткую запись интегрального уравнения\n",
    "\n",
    "\\begin{equation}\n",
    "\\begin{array}{l}\n",
    "\\frac{j_r(r_a)}{c} = \\frac{1}{L\\left(j_{\\theta}, \\theta_a\\right)}\\frac{1}{r_{a}^2} \\left(\n",
    "\\frac{2 \\, \\cot\\left(\\theta_{a}\\right)}{r_{a}}\\,\n",
    "+ N\\left(j_r, j_{\\theta}, r_a, \\theta_a\\right)\n",
    "\\right)\n",
    "\\end{array}\n",
    "\\end{equation}"
   ]
  },
  {
   "cell_type": "code",
   "execution_count": null,
   "id": "51615c1e",
   "metadata": {},
   "outputs": [],
   "source": []
  },
  {
   "cell_type": "markdown",
   "id": "43363977",
   "metadata": {},
   "source": [
    "Раскрывая в этом уравнении обозначение $L\\left(j_{\\theta}, \\theta_a\\right)$ имеем\n",
    "\n",
    "\\begin{equation}\n",
    "\\begin{array}{l}\n",
    "\\frac{j_r(r_a)}{c} = \\, \\frac{1}{r_{a}^2}\\frac {1}{\\sum\\limits_{l=0}^{+\\infty} {\\left(2 \\, l + 1\\right)}M_l\\left(j_{\\theta}, \\theta_a\\right)} \\cdot \\, \\cdot \\left(\n",
    "\\frac{2 \\, \\cot\\left(\\theta_{a}\\right)}{r_{a}} \\,\n",
    "+ \\sum\\limits_{l=0}^{+\\infty}\n",
    "\\left[\n",
    "\\left\\{\n",
    "{\\left(l^{2} + 3 \\, l + 2\\right)} \\cdot\n",
    "R_2\\left(l, r_a\\right)\n",
    "+ {\\left(l^{2} - l\\right)} \\cdot\n",
    "R_3\\left(l, r_a\\right)\n",
    "\\right\\}\n",
    "\\cdot\n",
    "M_l\\left(j_{\\theta}, \\theta_a\\right)\n",
    "\\right]\n",
    "\\right)\n",
    "\\end{array}\n",
    "\\end{equation}"
   ]
  },
  {
   "cell_type": "markdown",
   "id": "aa383dbe",
   "metadata": {},
   "source": [
    "Введя обозначения для полиномов"
   ]
  },
  {
   "cell_type": "markdown",
   "id": "6703a9ba",
   "metadata": {},
   "source": [
    "$K_1(l) = 2 \\, l + 1$\n",
    "\n",
    "$K_2(l) = l^{2} + 3 \\, l + 2$\n",
    "\n",
    "$K_3(l) = l^{2} - l$"
   ]
  },
  {
   "cell_type": "code",
   "execution_count": 15,
   "id": "c45ad4cb",
   "metadata": {},
   "outputs": [],
   "source": [
    "def Kl1(l):\n",
    "    return (2*l + 1)\n",
    "def Kl2(l):\n",
    "    return (l^2 + 3*l + 2)\n",
    "def Kl3(l):\n",
    "    return (l^2 - l)"
   ]
  },
  {
   "cell_type": "markdown",
   "id": "561cfd1e",
   "metadata": {},
   "source": [
    "получаем\n",
    "\n",
    "\\begin{equation}\n",
    "\\begin{array}{l}\n",
    "\\frac{j_r(r_a)}{c} = \\, \\frac{1}{r_{a}^2}\\frac {1}{\\sum\\limits_{l=0}^{+\\infty} {K_1(l)}M_l\\left(j_{\\theta}, \\theta_a\\right)} \\cdot \\, \\cdot  \\left(\n",
    "\\frac{2 \\, \\cot\\left(\\theta_{a}\\right)}{r_{a}}\\,\n",
    "+ \\sum\\limits_{l=0}^{+\\infty}\n",
    "\\left[\n",
    "\\left\\{\n",
    "{K_2(l)} \\cdot\n",
    "R_2\\left(l, r_a\\right)\n",
    "+ {K_3(l)} \\cdot\n",
    "R_3\\left(l, r_a\\right)\n",
    "\\right\\}\n",
    "\\cdot\n",
    "M_l\\left(j_{\\theta}, \\theta_a\\right)\n",
    "\\right]\n",
    "\\right)\n",
    "\\end{array}\n",
    "\\end{equation}"
   ]
  },
  {
   "cell_type": "code",
   "execution_count": null,
   "id": "076965d5",
   "metadata": {},
   "outputs": [],
   "source": []
  },
  {
   "cell_type": "markdown",
   "id": "9f532617",
   "metadata": {},
   "source": [
    "Производим инициализацию неизвестной функции магнитных токов для подстановки в уравнение \n",
    "\n",
    "$${{A^{*}}_E}_{\\varphi} = \\frac{1}{c}\\int\\limits_{V}^{}\\frac{{j_m}_{\\varphi}}{R} dV$$\n",
    "\n",
    "Ряд экспериментов показал целесообразность инициализации угловой части магнитного тока в виде\n",
    "\n",
    "$${{j_m}_{\\varphi}}  = {{\\rho_m}} \\cdot {{\\omega_m}} \\sim \\frac{cos(\\theta_m)^{2k+1}}{r^{3}}, k = 0,1,2,... $$\n",
    "\n",
    "where ${{j_m}_{\\varphi}}$ is density of magnetic current\n",
    "\n",
    "$${{\\rho_m}} \\sim \\frac{cos(\\theta_m)^{2k+1}}{r^{2}} $$\n",
    "\n",
    "where ${{\\rho_m}}$ is density of magnetic charge and\n",
    "\n",
    "$${{\\omega_m}} \\sim \\frac{1}{r} $$\n",
    "\n",
    "is angular frequency of magnetic charge\n",
    "\n",
    "Таким образом сохраняется условие нормируемости плотности магнитных зарядов благодаря их убыванию пропорционально $1/r^2$ а так же, вероятно, можно избежать проблемы превышения магнитными зарядами скорости света на больших $r$ благодаря тому что частота вращения магнитных зарядов спадает как $1/r$"
   ]
  },
  {
   "cell_type": "code",
   "execution_count": 16,
   "id": "706626e4",
   "metadata": {},
   "outputs": [],
   "source": [
    "# инициализируем неизвестную функцию распределения\n",
    "# плотности магнитного тока в объёме\n",
    "# прецессирующего магнитного диполя как\n",
    "\n",
    "#J_theta = lambda theta_m : cot(theta_m)\n",
    "# J_theta = lambda theta_m : cos(theta_m)/sin(theta_m)\n",
    "#J_theta = lambda theta_m : cos(theta_m)\n",
    "J_theta   = lambda theta_m : cos(theta_m)^9\n",
    "rho_theta = lambda theta_m : cos(theta_m)^9\n",
    "#J_r = lambda r_m : 1 / r_m^(3/2)\n",
    "#J_r = lambda r_m : 1 / r_m^(2)\n",
    "\n",
    "J_r   = lambda r_m : 1 / r_m^(3)\n",
    "rho_r = lambda r_m : 1 / r_m^(2)\n",
    "\n",
    "#J_r   = lambda r_m : 1 / r_m^(4)\n",
    "#rho_r = lambda r_m : 1 / r_m^(2)\n",
    "\n",
    "# J_r = lambda r_m : 1.1 / r_m^(3/2) + 0.15 / r_m^2\n",
    "\n",
    "# J_r = lambda r_m : exp(-r_m^(2))"
   ]
  },
  {
   "cell_type": "markdown",
   "id": "5686f8c9",
   "metadata": {},
   "source": [
    "Верхний предел суммирования"
   ]
  },
  {
   "cell_type": "raw",
   "id": "b7c14973",
   "metadata": {},
   "source": [
    "LL = 48"
   ]
  },
  {
   "cell_type": "code",
   "execution_count": 17,
   "id": "5006f1eb",
   "metadata": {},
   "outputs": [],
   "source": [
    "NL = 12"
   ]
  },
  {
   "cell_type": "markdown",
   "id": "f3f591ed",
   "metadata": {},
   "source": [
    "Для инициализированной выше пробной функции нулевого приближения решения интегрального уравнения находим основные слагаемые интегрального уравнения\n",
    "\n",
    "\\begin{equation}\n",
    "\\begin{array}{l}\n",
    "\\frac{j_r(r_a)}{c} = \\frac{1}{L\\left(j_{\\theta}, \\theta_a\\right)}\\frac{1}{r_{a}^2} \\left(\n",
    "\\frac{2 \\, \\cot\\left(\\theta_{a}\\right)}{r_{a}}\\,\n",
    "+ N\\left(j_r, j_{\\theta}, r_a, \\theta_a\\right)\n",
    "\\right)\n",
    "\\end{array}\n",
    "\\end{equation}\n",
    "\n",
    "в форме\n",
    "\n",
    "\n",
    "\\begin{equation}\n",
    "\\begin{array}{l}\n",
    "\\frac{j_r(r_a)}{c} = \\frac{1}{L\\_sum}\\frac{1}{r_{a}^2} \\left(\n",
    "\\frac{2 \\, \\cot\\left(\\theta_{a}\\right)}{r_{a}}\\,\n",
    "+ N\\_sum\n",
    "\\right)\n",
    "\\end{array}\n",
    "\\end{equation}\n",
    "\n",
    "где"
   ]
  },
  {
   "cell_type": "markdown",
   "id": "600400b0",
   "metadata": {},
   "source": [
    "$$L\\_sum={\\sum\\limits_{l=0}^{LL} {K_1(l)}\\,M_l\\left(j_{\\theta}, \\theta_a\\right)}$$"
   ]
  },
  {
   "cell_type": "markdown",
   "id": "13eab821",
   "metadata": {},
   "source": [
    "и"
   ]
  },
  {
   "cell_type": "markdown",
   "id": "314a0101",
   "metadata": {},
   "source": [
    "\\begin{equation}\n",
    "\\begin{array}{l}\n",
    "N\\_sum = \n",
    "\\sum\\limits_{l=0}^{LL}\n",
    "\\left[\n",
    "\\left\\{\n",
    "{K_2(l)} \\cdot\n",
    "R_2\\left(l, r_a\\right)\n",
    "+ {K_3(l)} \\cdot\n",
    "R_3\\left(l, r_a\\right)\n",
    "\\right\\}\n",
    "\\cdot\n",
    "M_l\\left(j_{\\theta}, \\theta_a\\right)\n",
    "\\right]\n",
    "\\end{array}\n",
    "\\end{equation}"
   ]
  },
  {
   "cell_type": "markdown",
   "id": "5763b068",
   "metadata": {},
   "source": [
    "# Проверка найденного решения интегрального уравнения методом подстановки в формулу для вычисления векторного потенциала"
   ]
  },
  {
   "cell_type": "markdown",
   "id": "669d64ab",
   "metadata": {},
   "source": [
    "Рассмотрим формулу векторного потенциала для системы распределённых кольцевых магнитных токов"
   ]
  },
  {
   "cell_type": "markdown",
   "id": "cb013f41",
   "metadata": {},
   "source": [
    "$A_q = \\int\\limits_{\\theta_m=0}^{\\pi}\\,\\,\\int\\limits_{r_m=0}^{\\infty}\\frac{j_m(r_m, \\theta_m) \\,\\sin \\theta_m\\, r_m^2}{c} \\left(\\int\\limits_{\\varphi_m=0}^{2\\pi}\\frac{cos\\,{\\varphi_m } }{\\left| \\overrightarrow{{{r}_{m}}}-\\overrightarrow{{{r}_{a}}} \\right|}\\, d \\varphi_m\\right)d r_m \\, d \\theta_m$"
   ]
  },
  {
   "cell_type": "markdown",
   "id": "f866d954",
   "metadata": {},
   "source": [
    "в правой части уравнения второй интеграл по координате $r_m$ разбиваем на два интеграла от нуля до $r_a$ и от $r_a$ до бесконечности"
   ]
  },
  {
   "cell_type": "markdown",
   "id": "40c65c1d",
   "metadata": {},
   "source": [
    "$A_q = \\int\\limits_{\\theta_m=0}^{\\pi}\\,\\,\\int\\limits_{r_m=0}^{r_a}\\frac{j_m(r_m, \\theta_m) \\,\\sin \\theta_m\\, r_m^2}{c} \\left(\\int\\limits_{\\varphi_m=0}^{2\\pi}\\frac{cos\\,{\\varphi_m } }{\\left| \\overrightarrow{{{r}_{m}}}-\\overrightarrow{{{r}_{a}}} \\right|}\\, d \\varphi_m\\right)d r_m \\, d \\theta_m + \\\\\n",
    "\\int\\limits_{\\theta_m=0}^{\\pi}\\,\\,\\int\\limits_{r_m=r_a}^{\\infty}\\frac{j_m(r_m, \\theta_m) \\,\\sin \\theta_m\\, r_m^2}{c} \\left(\\int\\limits_{\\varphi_m=0}^{2\\pi}\\frac{cos\\,{\\varphi_m } }{\\left| \\overrightarrow{{{r}_{m}}}-\\overrightarrow{{{r}_{a}}} \\right|}\\, d \\varphi_m\\right)d r_m \\, d \\theta_m$"
   ]
  },
  {
   "cell_type": "markdown",
   "id": "b4b843c6",
   "metadata": {},
   "source": [
    "делаем соотвествующие подстановки обратного расстояния между координатами заряда и точки наблюдения $\\frac{1}{{R}}=\\frac{1}{\\left|\\overrightarrow{r_{q}} - \\overrightarrow{r_{a}}\\right|}$"
   ]
  },
  {
   "cell_type": "markdown",
   "id": "0600f018",
   "metadata": {},
   "source": [
    "\\begin{equation}\n",
    "\\begin{array}{c}\n",
    "A_q = \n",
    "\\int\\limits_{\\theta_m=0}^{\\pi}\\,\\,\\int\\limits_{r_m=0}^{r_a}\\frac{j_m(r_m, \\theta_m) \\,\\sin \\theta_m\\, r_m^2}{c} \\left(\\int\\limits_{\\varphi_m=0}^{2\\pi}\\,\\frac{cos\\,{\\varphi_m } }{{{r}_{a}}}\\sum\\limits_{l=0}^{\\infty }{{\\left( \\frac{{{r}_{m}}}{{{r}_{a}}} \\right)}^{l}}{{P}_{l}} \\cos \\left( \\gamma  \\right)\\, d \\varphi_m\\right)d r_m \\, d \\theta_m \\\\ +\n",
    "\\int\\limits_{\\theta_m=0}^{\\pi}\\,\\,\\int\\limits_{r_m=r_a}^{\\infty}\\frac{j_m(r_m, \\theta_m) \\,\\sin \\theta_m\\, r_m^2}{c} \\left(\\int\\limits_{\\varphi_m=0}^{2\\pi}\\,\\frac{cos\\,{\\varphi_m }}{{{r}_{m}}}\\sum\\limits_{l=0}^{\\infty }{{\\left( \\frac{{{r}_{a}}}{{{r}_{m}}} \\right)}^{l}}{{P}_{l}} \\cos \\left( \\gamma  \\right)\\, d \\varphi_m\\right)d r_m \\, d \\theta_m\n",
    "\\end{array}\n",
    "\\end{equation}"
   ]
  },
  {
   "cell_type": "markdown",
   "id": "55ee341e",
   "metadata": {},
   "source": [
    "выносим операцию суммирования по $l$ отношения радиальных координат наблюдения и магнитных зарядов из внутреннего интеграла по $\\varphi_m$ а таже из под того же интеграла выносим радиальные координаты в знаменателе"
   ]
  },
  {
   "cell_type": "markdown",
   "id": "67d983a2",
   "metadata": {},
   "source": [
    "\\begin{equation}\n",
    "\\begin{array}{c}\n",
    "A_q = \n",
    "\\int\\limits_{r_m=0}^{r_a}\\,\\int\\limits_{\\theta_m=0}^{\\pi}\\,\\frac{j_m(r_m, \\theta_m) \\,\\sin \\theta_m\\, r_m^2}{c\\,r_a} \\sum\\limits_{l=0}^{\\infty }{{\\left( \\frac{r_m}{r_a} \\right)}^{l}}\\left(\\int\\limits_{\\varphi_m=0}^{2\\pi}\\,{cos\\,{\\varphi_m } }{P_l} \\cos \\left( \\gamma  \\right)\\, d \\varphi_m\\right) \\, d \\theta_m \\,d r_m \\\\ +\n",
    "\\int\\limits_{r_m=r_a}^{\\infty}\\,\\int\\limits_{\\theta_m=0}^{\\pi}\\,\\frac{j_m(r_m, \\theta_m) \\,\\sin \\theta_m\\, r_m^2}{c\\,r_m} \\sum\\limits_{l=0}^{\\infty }{{\\left( \\frac{r_a}{r_m} \\right)}^{l}}\\left(\\int\\limits_{\\varphi_m=0}^{2\\pi}\\,{cos\\,{\\varphi_m }}{P_l} \\cos \\left( \\gamma  \\right)\\, d \\varphi_m\\right) \\, d \\theta_m \\,d r_m\n",
    "\\end{array}\n",
    "\\end{equation}"
   ]
  },
  {
   "cell_type": "markdown",
   "id": "679bcbc5",
   "metadata": {},
   "source": [
    "разделяем переменные в функции\n",
    "$j_m(r_m, \\theta_m) = j_r(r_m) \\, j_{\\theta}(\\theta_m) = q_r(r_m) \\, q_{\\theta}(\\theta_m)\\, \\omega_{r} (r_m)\\, \\omega_{\\theta} (\\theta_m)$ - плотность магнитного тока"
   ]
  },
  {
   "cell_type": "markdown",
   "id": "35a1d37d",
   "metadata": {},
   "source": [
    "теперь"
   ]
  },
  {
   "cell_type": "markdown",
   "id": "171f6cb9",
   "metadata": {},
   "source": [
    "\\begin{equation}\n",
    "\\begin{array}{c}\n",
    "A_q = \n",
    "\\int\\limits_{r_m=0}^{r_a}\\,\\int\\limits_{\\theta_m=0}^{\\pi}\\,\\frac{j_r(r_m) \\, j_{\\theta}(\\theta_m) \\,\\sin \\theta_m\\, r_m^2}{c\\,r_a} \\sum\\limits_{l=0}^{\\infty }{{\\left( \\frac{r_m}{r_a} \\right)}^{l}}\\left(\\int\\limits_{\\varphi_m=0}^{2\\pi}\\,{cos\\,{\\varphi_m } }{P_l} \\cos \\left( \\gamma  \\right)\\, d \\varphi_m\\right) \\, d \\theta_m \\,d r_m \\\\ +\n",
    "\\int\\limits_{r_m=r_a}^{\\infty}\\,\\int\\limits_{\\theta_m=0}^{\\pi}\\,\\frac{j_r(r_m) \\, j_{\\theta}(\\theta_m) \\,\\sin \\theta_m\\, r_m^2}{c\\,r_m} \\sum\\limits_{l=0}^{\\infty }{{\\left( \\frac{r_a}{r_m} \\right)}^{l}}\\left(\\int\\limits_{\\varphi_m=0}^{2\\pi}\\,{cos\\,{\\varphi_m }}{P_l} \\cos \\left( \\gamma  \\right)\\, d \\varphi_m\\right) \\, d \\theta_m \\,d r_m\n",
    "\\end{array}\n",
    "\\end{equation}"
   ]
  },
  {
   "cell_type": "markdown",
   "id": "65879cc5",
   "metadata": {},
   "source": [
    "Далее операцию суммирования выносим из-под всех интегралов"
   ]
  },
  {
   "cell_type": "markdown",
   "id": "90e20310",
   "metadata": {},
   "source": [
    "\\begin{equation}\n",
    "\\begin{array}{c}\n",
    "A_q = \n",
    "\\sum\\limits_{l=0}^{\\infty }\n",
    "\\int\\limits_{r_m=0}^{r_a}\\,\n",
    "\\int\\limits_{\\theta_m=0}^{\\pi}\\,\n",
    "\\frac{j_r(r_m) \\, j_{\\theta}(\\theta_m) \\,\\sin \\theta_m\\, r_m^2}{c\\,r_a}\n",
    "{{\\left( \\frac{r_m}{r_a} \\right)}^{l}}\n",
    "\\left(\\int\\limits_{\\varphi_m=0}^{2\\pi}\\,{cos\\,{\\varphi_m } }{P_l} \\cos \\left( \\gamma  \\right)\\, d \\varphi_m\\right) \\, d \\theta_m \\,d r_m \\\\ +\n",
    "\\sum\\limits_{l=0}^{\\infty }\n",
    "\\int\\limits_{r_m=r_a}^{\\infty}\\,\n",
    "\\int\\limits_{\\theta_m=0}^{\\pi}\\,\n",
    "\\frac{j_r(r_m) \\, j_{\\theta}(\\theta_m) \\,\\sin \\theta_m\\, r_m^2}{c\\,r_m}\n",
    "{{\\left( \\frac{r_a}{r_m} \\right)}^{l}}\n",
    "\\left(\\int\\limits_{\\varphi_m=0}^{2\\pi}\\,{cos\\,{\\varphi_m }}{P_l} \\cos \\left( \\gamma  \\right)\\, d \\varphi_m\\right) \\, d \\theta_m \\,d r_m\n",
    "\\end{array}\n",
    "\\end{equation}"
   ]
  },
  {
   "cell_type": "markdown",
   "id": "c59b680f",
   "metadata": {},
   "source": [
    "теперь функции зависящие от радиальных координат выносим из-под интегрирования по углу $\\theta$"
   ]
  },
  {
   "cell_type": "markdown",
   "id": "c389fa69",
   "metadata": {},
   "source": [
    "\\begin{equation}\n",
    "\\begin{array}{c}\n",
    "A_q = \n",
    "\\sum\\limits_{l=0}^{\\infty }\n",
    "\\int\\limits_{r_m=0}^{r_a}\\,\n",
    "j_r(r_m) \\,{{\\left( \\frac{r_m}{r_a} \\right)}^{l}}\\,\\frac{ r_m^2}{c\\,r_a} \\,d r_m\n",
    "\\int\\limits_{\\theta_m=0}^{\\pi}\\,\n",
    "\\,j_{\\theta}(\\theta_m) \\, \\sin \\theta_m\n",
    "\\left(\\int\\limits_{\\varphi_m=0}^{2\\pi}\\,{cos\\,{\\varphi_m } }{P_l} \\cos \\left( \\gamma  \\right)\\, d \\varphi_m\\right) \\, d \\theta_m \\\\ +\n",
    "\\sum\\limits_{l=0}^{\\infty }\n",
    "\\int\\limits_{r_m=r_a}^{\\infty}\\,\n",
    "j_r(r_m) \\,{{\\left( \\frac{r_a}{r_m} \\right)}^{l}}\\,\\frac{ r_m^2}{c\\,r_m} \\,d r_m\n",
    "\\int\\limits_{\\theta_m=0}^{\\pi}\\,\n",
    "\\,j_{\\theta}(\\theta_m) \\, \\sin \\theta_m\n",
    "\\left(\\int\\limits_{\\varphi_m=0}^{2\\pi}\\,{cos\\,{\\varphi_m }}{P_l} \\cos \\left( \\gamma  \\right)\\, d \\varphi_m\\right) \\, d \\theta_m\n",
    "\\end{array}\n",
    "\\end{equation}"
   ]
  },
  {
   "cell_type": "markdown",
   "id": "109a0785",
   "metadata": {},
   "source": [
    "Обозначим\n",
    "\n",
    "$S_{l}(\\theta_m, \\theta_a) = \\left(\\int\\limits_{{\\left(\\varphi_m - \\varphi_a\\right)}=0}^{2\\pi}\\,{cos\\,{{\\left(\\varphi_m - \\varphi_a\\right)} } }{P_l} \\cos \\left( \\gamma  \\right)\\, d {\\left(\\varphi_m - \\varphi_a\\right)}\\right)$\n",
    "\n",
    "Введя обозначение\n",
    "\n",
    "$$M_l\\left(j_{\\theta}, \\theta_a\\right)={\\int\\limits_{0}^{\\pi} j_{\\theta}(\\theta_m)\\,S_l(\\theta_m, \\theta_a)\\,sin\\left(\\theta_m\\right)\\,{d \\theta_{m}}}$$"
   ]
  },
  {
   "cell_type": "markdown",
   "id": "7c2807e3",
   "metadata": {},
   "source": [
    "получаем\n",
    "\n",
    "\\begin{equation}\n",
    "\\begin{array}{c}\n",
    "A_q = \n",
    "\\sum\\limits_{l=0}^{\\infty }\n",
    "\\int\\limits_{r_m=0}^{r_a}\\,\n",
    "j_r(r_m) \\,{{\\left( \\frac{r_m}{r_a} \\right)}^{l}}\\,\\frac{ r_m^2}{c\\,r_a} \\,d r_m\n",
    "M_l\\left(j_{\\theta}, \\theta_a\\right) \\\\ +\n",
    "\\sum\\limits_{l=0}^{\\infty }\n",
    "\\int\\limits_{r_m=r_a}^{\\infty}\\,\n",
    "j_r(r_m) \\,{{\\left( \\frac{r_a}{r_m} \\right)}^{l}}\\,\\frac{ r_m^2}{c\\,r_m} \\,d r_m\n",
    "M_l\\left(j_{\\theta}, \\theta_a\\right)\n",
    "\\end{array}\n",
    "\\end{equation}"
   ]
  },
  {
   "cell_type": "markdown",
   "id": "2d770e71",
   "metadata": {},
   "source": [
    "Выносим угловой множитель за скобки"
   ]
  },
  {
   "cell_type": "markdown",
   "id": "9b8048c9",
   "metadata": {},
   "source": [
    "\\begin{equation}\n",
    "\\begin{array}{c}\n",
    "A_q = \\Bigg\\{\n",
    "\\sum\\limits_{l=0}^{\\infty }\n",
    "\\int\\limits_{r_m=0}^{r_a}\\,\n",
    "j_r(r_m) \\,{{\\left( \\frac{r_m}{r_a} \\right)}^{l}}\\,\\frac{ r_m^2}{r_a} \\,d r_m +\n",
    "\\sum\\limits_{l=0}^{\\infty }\n",
    "\\int\\limits_{r_m=r_a}^{\\infty}\\,\n",
    "j_r(r_m) \\,{{\\left( \\frac{r_a}{r_m} \\right)}^{l}}\\,\\frac{ r_m^2}{r_m} \\,d r_m\n",
    "\\Bigg\\}\n",
    "\\frac{M_l\\left(j_{\\theta}, \\theta_a\\right)}{c}\n",
    "\\end{array}\n",
    "\\end{equation}\n",
    "\n",
    "Вводим дополнительные обозначение\n",
    "\n",
    "$$R_2\\left(l, j_r, r_a\\right)=\\int\\limits_{0}^{r_{a}} r_m\\,j_r(r_m) { \\left(\\frac{r_m}{r_a}\\right)^{l+1}}\\,\n",
    "\\,{d r_{m}}$$\n",
    "\n",
    "$$R_3\\left(l, j_r, r_a\\right)=\\int\\limits_{r_{a}}^{+\\infty} r_m\\,j_r(r_m) {\\left(\\frac{r_a}{r_m}\\right)^l}\\,\n",
    "\\,{d r_{m}}$$\n",
    "\n",
    "\n",
    "теперь мы получили формулу\n",
    "\n",
    "\\begin{equation}\n",
    "\\begin{array}{c}\n",
    "A_q = \\Bigg\\{\n",
    "\\sum\\limits_{l=0}^{\\infty }\n",
    "R_2\\left(l, j_r, r_a\\right) +\n",
    "\\sum\\limits_{l=0}^{\\infty }\n",
    "R_3\\left(l, j_r, r_a\\right)\n",
    "\\Bigg\\}\n",
    "\\frac{M_l\\left(j_{\\theta}, \\theta_a\\right)}{c}\n",
    "\\end{array}\n",
    "\\end{equation}\n",
    "\n",
    "расчёта векторного потенциала на основе заданного распределения магнитных токов"
   ]
  },
  {
   "cell_type": "code",
   "execution_count": null,
   "id": "636d2507",
   "metadata": {},
   "outputs": [],
   "source": []
  },
  {
   "cell_type": "markdown",
   "id": "7cf40e18",
   "metadata": {},
   "source": [
    "# Проверка найденного решения интегрального уравнения методом подстановки в формулу для вычисления скалярного магнитного кулоновского потенциала"
   ]
  },
  {
   "cell_type": "markdown",
   "id": "e2ecfa60",
   "metadata": {},
   "source": [
    "Рассмотрим формулу скалярного магнитного кулоновского потенциала для системы распределённых кольцевых магнитных зарядов"
   ]
  },
  {
   "cell_type": "markdown",
   "id": "9547d1fc",
   "metadata": {},
   "source": [
    "$$\\phi_m = \\int\\limits_{V}^{}\\frac{{\\rho_m}}{R} dV$$\n",
    "\n",
    "where ${{\\rho_m}}$ is density of magnetic charge\n",
    "\n",
    "$${{\\rho_m}} \\sim \\frac{cos(\\theta_m)^{2k+1}}{r^{2}} $$\n",
    "\n",
    "and\n",
    " \n",
    "$${{\\omega_m}} \\sim \\frac{1}{r} $$\n",
    "\n",
    "is angular frequency of magnetic charge"
   ]
  },
  {
   "cell_type": "markdown",
   "id": "6fdd8751",
   "metadata": {},
   "source": [
    "$j_m(r_m, \\theta_m) = j_r(r_m) \\, j_{\\theta}(\\theta_m) = \\rho_r(r_m) \\, \\rho_{\\theta}(\\theta_m)\\, \\omega_{r} (r_m)\\, \\omega_{\\theta} (\\theta_m)$ - плотность магнитного тока"
   ]
  },
  {
   "cell_type": "markdown",
   "id": "139d168f",
   "metadata": {},
   "source": [
    "Итак, в исходном уравнении для скалярного потенциала"
   ]
  },
  {
   "cell_type": "markdown",
   "id": "4571cd33",
   "metadata": {},
   "source": [
    "$\\phi_m = \\int\\limits_{\\theta_m=0}^{\\pi}\\,\\,\\int\\limits_{r_m=0}^{\\infty}\\frac{\\rho_m(r_m, \\theta_m) \\,\\sin \\theta_m\\, r_m^2}{c} \\left(\\int\\limits_{\\varphi_m=0}^{2\\pi}\\frac{1}{\\left| \\overrightarrow{{{r}_{m}}}-\\overrightarrow{{{r}_{a}}} \\right|}\\, d \\varphi_m\\right)d r_m \\, d \\theta_m$"
   ]
  },
  {
   "cell_type": "markdown",
   "id": "a1e4f983",
   "metadata": {},
   "source": [
    "в правой части уравнения второй интеграл по координате $r_m$ разбиваем на два интеграла от нуля до $r_a$ и от $r_a$ до бесконечности"
   ]
  },
  {
   "cell_type": "markdown",
   "id": "6b0b00a8",
   "metadata": {},
   "source": [
    "$\\phi_m = \\int\\limits_{\\theta_m=0}^{\\pi}\\,\\,\\int\\limits_{r_m=0}^{r_a}\\frac{\\rho_m(r_m, \\theta_m) \\,\\sin \\theta_m\\, r_m^2}{c} \\left(\\int\\limits_{\\varphi_m=0}^{2\\pi}\\frac{1}{\\left| \\overrightarrow{{{r}_{m}}}-\\overrightarrow{{{r}_{a}}} \\right|}\\, d \\varphi_m\\right)d r_m \\, d \\theta_m + \\\\ \\int\\limits_{\\theta_m=0}^{\\pi}\\,\\,\\int\\limits_{r_m=r_a}^{\\infty}\\frac{\\rho_m(r_m, \\theta_m) \\,\\sin \\theta_m\\, r_m^2}{c} \\left(\\int\\limits_{\\varphi_m=0}^{2\\pi}\\frac{1}{\\left| \\overrightarrow{{{r}_{m}}}-\\overrightarrow{{{r}_{a}}} \\right|}\\, d \\varphi_m\\right)d r_m \\, d \\theta_m$"
   ]
  },
  {
   "cell_type": "markdown",
   "id": "f75ebe90",
   "metadata": {},
   "source": [
    "делаем соотвествующие подстановки обратного расстояния между координатами заряда и точки наблюдения $\\frac{1}{{R}}=\\frac{1}{\\left|\\overrightarrow{r_{q}} - \\overrightarrow{r_{a}}\\right|}$"
   ]
  },
  {
   "cell_type": "markdown",
   "id": "9de5d031",
   "metadata": {},
   "source": [
    "\\begin{equation}\n",
    "\\begin{array}{c}\n",
    "\\phi_m = \n",
    "\\int\\limits_{r_m=0}^{r_a}\\,\\int\\limits_{\\theta_m=0}^{\\pi}\\,\\frac{\\rho_m(r_m, \\theta_m) \\,\\sin \\theta_m\\, r_m^2}{r_a} \\sum\\limits_{l=0}^{\\infty }{{\\left( \\frac{r_m}{r_a} \\right)}^{l}}\\left(\\int\\limits_{\\varphi_m=0}^{2\\pi}{P_l} \\cos \\left( \\gamma  \\right)\\, d \\varphi_m\\right) \\, d \\theta_m \\,d r_m \\\\ +\n",
    "\\int\\limits_{r_m=r_a}^{\\infty}\\,\\int\\limits_{\\theta_m=0}^{\\pi}\\,\\frac{\\rho_m(r_m, \\theta_m) \\,\\sin \\theta_m\\, r_m^2}{r_m} \\sum\\limits_{l=0}^{\\infty }{{\\left( \\frac{r_a}{r_m} \\right)}^{l}}\\left(\\int\\limits_{\\varphi_m=0}^{2\\pi}{P_l} \\cos \\left( \\gamma  \\right)\\, d \\varphi_m\\right) \\, d \\theta_m \\,d r_m\n",
    "\\end{array}\n",
    "\\end{equation}"
   ]
  },
  {
   "cell_type": "markdown",
   "id": "8664a452",
   "metadata": {},
   "source": [
    "разделяем переменные в функции\n",
    "$\\rho_m(r_m, \\theta_m) = \\rho_r(r_m) \\, \\rho_{\\theta}(\\theta_m)$ - плотность магнитного заряда и операцию суммирования выносим из-под всех интегралов"
   ]
  },
  {
   "cell_type": "markdown",
   "id": "05cdd066",
   "metadata": {},
   "source": [
    "\\begin{equation}\n",
    "\\begin{array}{c}\n",
    "\\phi_m = \n",
    "\\sum\\limits_{l=0}^{\\infty }\n",
    "\\int\\limits_{r_m=0}^{r_a}\\,\n",
    "\\int\\limits_{\\theta_m=0}^{\\pi}\\,\n",
    "\\frac{\\rho_r(r_m) \\, \\rho_{\\theta}(\\theta_m) \\,\\sin \\theta_m\\, r_m^2}{c\\,r_a}\n",
    "{{\\left( \\frac{r_m}{r_a} \\right)}^{l}}\n",
    "\\left(\\int\\limits_{\\varphi_m=0}^{2\\pi}\\,{P_l} \\cos \\left( \\gamma  \\right)\\, d \\varphi_m\\right) \\, d \\theta_m \\,d r_m \\\\ +\n",
    "\\sum\\limits_{l=0}^{\\infty }\n",
    "\\int\\limits_{r_m=r_a}^{\\infty}\\,\n",
    "\\int\\limits_{\\theta_m=0}^{\\pi}\\,\n",
    "\\frac{\\rho_r(r_m) \\, \\rho_{\\theta}(\\theta_m) \\,\\sin \\theta_m\\, r_m^2}{c\\,r_m}\n",
    "{{\\left( \\frac{r_a}{r_m} \\right)}^{l}}\n",
    "\\left(\\int\\limits_{\\varphi_m=0}^{2\\pi}\\,{P_l} \\cos \\left( \\gamma  \\right)\\, d \\varphi_m\\right) \\, d \\theta_m \\,d r_m\n",
    "\\end{array}\n",
    "\\end{equation}"
   ]
  },
  {
   "cell_type": "markdown",
   "id": "8e3ad455",
   "metadata": {},
   "source": [
    "теперь функции зависящие от радиальных координат выносим из-под интегрирования по углу $\\theta$"
   ]
  },
  {
   "cell_type": "markdown",
   "id": "c5d34f99",
   "metadata": {},
   "source": [
    "\\begin{equation}\n",
    "\\begin{array}{c}\n",
    "\\phi_m = \n",
    "\\sum\\limits_{l=0}^{\\infty }\n",
    "\\int\\limits_{r_m=0}^{r_a}\\,\n",
    "\\rho_r(r_m) \\,{{\\left( \\frac{r_m}{r_a} \\right)}^{l}}\\,\\frac{ r_m^2}{c\\,r_a} \\,d r_m\n",
    "\\int\\limits_{\\theta_m=0}^{\\pi}\\,\n",
    "\\,\\rho_{\\theta}(\\theta_m) \\, \\sin \\theta_m\n",
    "\\left(\\int\\limits_{\\varphi_m=0}^{2\\pi}\\,{P_l} \\cos \\left( \\gamma  \\right)\\, d \\varphi_m\\right) \\, d \\theta_m \\\\ +\n",
    "\\sum\\limits_{l=0}^{\\infty }\n",
    "\\int\\limits_{r_m=r_a}^{\\infty}\\,\n",
    "\\rho_r(r_m) \\,{{\\left( \\frac{r_a}{r_m} \\right)}^{l}}\\,\\frac{ r_m^2}{c\\,r_m} \\,d r_m\n",
    "\\int\\limits_{\\theta_m=0}^{\\pi}\\,\n",
    "\\,\\rho_{\\theta}(\\theta_m) \\, \\sin \\theta_m\n",
    "\\left(\\int\\limits_{\\varphi_m=0}^{2\\pi}\\,{P_l} \\cos \\left( \\gamma  \\right)\\, d \\varphi_m\\right) \\, d \\theta_m\n",
    "\\end{array}\n",
    "\\end{equation}"
   ]
  },
  {
   "cell_type": "markdown",
   "id": "63d66181",
   "metadata": {},
   "source": [
    "Обозначим\n",
    "\n",
    "$$T_{l}(\\theta_m, \\theta_a) = \\left(\\int\\limits_{\\varphi_m=0}^{2\\pi}\\,{P_l} \\cos \\left( \\gamma  \\right)\\, d {\\varphi_m}\\right)$$"
   ]
  },
  {
   "cell_type": "markdown",
   "id": "c2b0da6c",
   "metadata": {},
   "source": [
    "$T_{l}(\\theta_m, \\theta_a) = \\left(\\int\\limits_{{\\varphi_m}=0}^{2\\pi}\\,\\frac{4\\pi }{2l+1}\\sum\\limits_{m=-l}^{l}{Y_{l,m}^{*}\\left( {{\\theta }_{a}},{{\\varphi }_{a}} \\right)}\\ {{Y}_{l,m}}\\left( {{\\theta}_{m}},{{\\varphi }_{m}} \\right)\\, d {\\varphi_m}\\right)$"
   ]
  },
  {
   "cell_type": "code",
   "execution_count": 18,
   "id": "18f8b971",
   "metadata": {},
   "outputs": [],
   "source": [
    "# T_l\n",
    "def legendre_sum_phi_ring_int_phi_q_hold(l, theta_m, theta_a, hold=True):\n",
    "    from sage.functions.special import spherical_harmonic\n",
    "    m = var(\"m\")\n",
    "    f = lambda l, m, theta_m, theta_a : \\\n",
    "        integrate(spherical_harmonic(l, m, theta_m, phi_m), phi_m, 0, 2*pi, hold=hold) \\\n",
    "                  * conjugate(spherical_harmonic(l, m, theta_a, 0))\n",
    "    return 4 * pi / (2*l + 1) * symbolic_sum(f(l, m, theta_m, theta_a), m, -l, l, hold=hold)\n",
    "\n",
    "def legendre_sum_phi_ring_hold(l, theta_m, theta_a, hold=True):\n",
    "    return legendre_sum_phi_ring_int_phi_q_hold(l, theta_m, theta_a, hold=hold)"
   ]
  },
  {
   "cell_type": "code",
   "execution_count": 19,
   "id": "19a7c8df",
   "metadata": {},
   "outputs": [],
   "source": [
    "# T_l\n",
    "def legendre_sum_phi_ring_int_phi_q(l, theta_m, theta_a):\n",
    "    from sage.functions.special import spherical_harmonic\n",
    "    m = var(\"m\")\n",
    "    f = lambda l, m, theta_m, theta_a : \\\n",
    "        integrate(spherical_harmonic(l, m, theta_m, phi_m), phi_m, 0, 2*pi) \\\n",
    "                  * conjugate(spherical_harmonic(l, m, theta_a, 0))\n",
    "    return 4 * pi / (2*l + 1) * sympy_sum(f(l, m, theta_m, theta_a), m, -l, l)"
   ]
  },
  {
   "cell_type": "code",
   "execution_count": 20,
   "id": "355fd3a0",
   "metadata": {},
   "outputs": [
    {
     "data": {
      "text/latex": [
       "$\\displaystyle \\frac{4 \\, \\pi {\\sum_{m=-l}^{l} \\overline{Y_{l}^{m}\\left(\\theta_{a}, 0\\right)} \\int_{0}^{2 \\, \\pi} Y_{l}^{m}\\left(\\theta_{m}, \\phi_{m}\\right)\\,{d \\phi_{m}}}}{2 \\, l + 1}$"
      ],
      "text/plain": [
       "<IPython.core.display.Math object>"
      ]
     },
     "metadata": {},
     "output_type": "display_data"
    }
   ],
   "source": [
    "disp(legendre_sum_phi_ring_int_phi_q_hold(l, theta_m, theta_a))"
   ]
  },
  {
   "cell_type": "code",
   "execution_count": null,
   "id": "29515673",
   "metadata": {},
   "outputs": [],
   "source": [
    "disp(integrate(spherical_harmonic(l, m, theta_m, phi_m), phi_m, 0, 2*pi))"
   ]
  },
  {
   "cell_type": "code",
   "execution_count": null,
   "id": "33d236cf",
   "metadata": {},
   "outputs": [],
   "source": [
    "def re_Ylm(theta_, phi_):\n",
    "    return spherical_harmonic(l, m, theta_, phi_).real()\n",
    "def im_Ylm(theta_, phi_):\n",
    "    return spherical_harmonic(l, m, theta_, phi_).imag()\n",
    "\n",
    "def plot_Y_lm_int_phi(l,m):\n",
    "    x, t, phi_m = var(\"x, t, phi_m\")\n",
    "    # https://ask.sagemath.org/question/51073/3d-graphics-contour-plot-and-labels/\n",
    "    #             contours=levels, \n",
    "\n",
    "    contour_plot(re_Ylm(t, x), (t, 0, pi), (x, 0, 2*pi),\n",
    "                 cmap=\"jet\", colorbar=True).show()\n",
    "    contour_plot(im_Ylm(t, x), (t, 0, pi), (x, 0, 2*pi),\n",
    "                 cmap=\"jet\", colorbar=True).show()\n",
    "\n",
    "    re_Y_lm_int_phi_data = []\n",
    "    im_Y_lm_int_phi_data = []\n",
    "    for t in np.arange(0,pi, pi/90):\n",
    "        Y_lm_int_phi = integrate(spherical_harmonic(l, m, t, phi_m), phi_m, 0, 2*pi)\n",
    "        re_Y_lm_int_phi_data += [(t, Y_lm_int_phi.real())]\n",
    "        im_Y_lm_int_phi_data += [(t, Y_lm_int_phi.imag())]\n",
    "    list_plot(re_Y_lm_int_phi_data).show()\n",
    "    list_plot(im_Y_lm_int_phi_data).show()"
   ]
  },
  {
   "cell_type": "raw",
   "id": "9137c3f0",
   "metadata": {},
   "source": [
    "plot_Y_lm_int_phi(l=2,m=0)"
   ]
  },
  {
   "cell_type": "raw",
   "id": "58950447",
   "metadata": {},
   "source": [
    "disp(integrate(spherical_harmonic(l, m, theta_m, phi_m), phi_m, 0, 2*pi, algorithm=\"sympy\"))"
   ]
  },
  {
   "cell_type": "markdown",
   "id": "08640623",
   "metadata": {},
   "source": [
    "Введя обозначение\n",
    "\n",
    "$$G_l\\left(j_{\\theta}, \\theta_a\\right)={\\int\\limits_{0}^{\\pi} \\rho_{\\theta}(\\theta_m)\\,T_l(\\theta_m, \\theta_a)\\,sin\\left(\\theta_m\\right)\\,{d \\theta_{m}}}$$"
   ]
  },
  {
   "cell_type": "code",
   "execution_count": null,
   "id": "84b0a4db",
   "metadata": {},
   "outputs": [],
   "source": [
    "def gl(l, rho_theta, theta_a):\n",
    "    ret = rho_theta(theta_m=theta_m) \\\n",
    "         * sin(theta_m) \\\n",
    "         * legendre_sum_phi_ring_int_phi_q_hold( \\\n",
    "                    l, theta_m, theta_a, hold=False)\n",
    "    return ret\n",
    "\n",
    "def Gl(l, rho_theta, theta_a):\n",
    "    return integrate(gl(l=l, rho_theta=rho_theta, theta_a=theta_a), \\\n",
    "                     theta_m, 0, pi, hold=False)"
   ]
  },
  {
   "cell_type": "markdown",
   "id": "011fb592",
   "metadata": {},
   "source": [
    "Произведя такие же преобразования которые были произведены для векторного потенциала мы получим формулу\n",
    "\n",
    "\\begin{equation}\n",
    "\\begin{array}{c}\n",
    "\\phi_m = \\Bigg\\{\n",
    "\\sum\\limits_{l=0}^{\\infty }\n",
    "R_2\\left(l, \\rho_r, r_a\\right) +\n",
    "\\sum\\limits_{l=0}^{\\infty }\n",
    "R_3\\left(l, \\rho_r, r_a\\right)\n",
    "\\Bigg\\}\n",
    "{G_l\\left(\\rho_{\\theta}, \\theta_a\\right)}\n",
    "\\end{array}\n",
    "\\end{equation}\n",
    "\n",
    "расчёта скалярного магнитного кулоновского потенциала на основе заданного распределения плотности магнитных зарядов"
   ]
  },
  {
   "cell_type": "code",
   "execution_count": null,
   "id": "94bcb5c0",
   "metadata": {},
   "outputs": [],
   "source": [
    "def cAm(ll):\n",
    "    Mll_j = Ml(l=ll, j_theta=J_theta(theta_m), theta_a=theta_a)\n",
    "    mll   = ml(l=ll, j_theta=J_theta(theta_m), theta_a=theta_a)\n",
    "    \n",
    "    if False:    \n",
    "        print(\"ll=\",ll)\n",
    "        print(\"Mll_j=\", Mll_j)\n",
    "        print(\"mll=\", mll.variables())\n",
    "        contour_plot(mll, (theta_m, 0,pi), (theta_a, 0, pi), cmap=\"jet\", colorbar=True).show()\n",
    "\n",
    "    if Mll_j == 0:\n",
    "        return 0\n",
    "\n",
    "    R2_j = integrate(r_m * J_r (r_m) * (r_m / r_a)^(ll+1), r_m, 0, r_a)\n",
    "    R3_j = integrate(r_m * J_r (r_m) * (r_a / r_m)^(ll), r_m, r_a, Infinity)\n",
    "\n",
    "    return (R2_j + R3_j) * Mll_j # n_jr * "
   ]
  },
  {
   "cell_type": "code",
   "execution_count": null,
   "id": "fa0cdcc5",
   "metadata": {},
   "outputs": [],
   "source": [
    "def m_phi(ll):\n",
    "    gll = gl(l=ll, rho_theta=rho_theta(theta_m), theta_a=theta_a)\n",
    "    Gll_m = Gl(l=ll, rho_theta=rho_theta(theta_m), theta_a=theta_a)\n",
    "    \n",
    "    if False:\n",
    "        print(\"ll=\",ll)\n",
    "        print(\"Gll_m=\", Gll_m)\n",
    "        print(\"gll_m=\", gll.variables())\n",
    "        contour_plot(gll, (theta_m, 0,pi), (theta_a, 0, pi), cmap=\"jet\", colorbar=True).show()\n",
    "    \n",
    "    if Gll_m == 0:\n",
    "        return 0\n",
    "\n",
    "    R2_m = integrate(r_m * rho_r (r_m) * (r_m / r_a)^(ll+1), r_m, 0, r_a)\n",
    "    R3_m = integrate(r_m * rho_r (r_m) * (r_a / r_m)^(ll), r_m, r_a, Infinity)\n",
    "\n",
    "    return (R2_m + R3_m) * Gll_m # n_jr * "
   ]
  },
  {
   "cell_type": "code",
   "execution_count": null,
   "id": "7f4ce003",
   "metadata": {},
   "outputs": [],
   "source": []
  },
  {
   "cell_type": "code",
   "execution_count": null,
   "id": "8aa804ab",
   "metadata": {},
   "outputs": [],
   "source": [
    "for ll in range(0,NL):\n",
    "    sum_cAm_latex=\"\\\\left[\\\\left\\\\{ R_2\\\\left(l, r_a\\\\right)+ R_3\\\\left(l, r_a\\\\right)\\\\right\\\\}\\\\cdot M_l\\\\left(j_{\\\\theta}, \\\\theta_a\\\\right)\\\\right]_{l=\"+str(ll)+\"}\"\n",
    "    contour_plot(cAm(ll)\n",
    "        , (theta_a,0,pi), (r_a,0.2,1), fill=False, cmap='hsv', labels=True, \n",
    "title = \"$\"+sum_cAm_latex+\"$\").show()"
   ]
  },
  {
   "cell_type": "code",
   "execution_count": null,
   "id": "6fcd1923",
   "metadata": {},
   "outputs": [],
   "source": [
    "for ll in range(0,NL):\n",
    "    contour_plot(m_phi(ll)\n",
    "        , (theta_a,0,pi), (r_a,0.2,1), fill=False, cmap='hsv', labels=True, \n",
    "title = \"m_phi l = \"+ str(ll)).show()"
   ]
  },
  {
   "cell_type": "raw",
   "id": "e4cd97d7",
   "metadata": {},
   "source": [
    "sum_phi, sum_cAm"
   ]
  },
  {
   "cell_type": "markdown",
   "id": "be2ebb6a",
   "metadata": {},
   "source": [
    "Мы можем найти множитель с помощью которого можно убрать зависимость $A\\left(j_r, j_{\\theta}, r_a, \\theta_a\\right)$ от $r_a$"
   ]
  },
  {
   "cell_type": "code",
   "execution_count": null,
   "id": "d174fa89",
   "metadata": {},
   "outputs": [],
   "source": [
    "pra = 1/J_r(r_a)/r_a^2\n",
    "latex_pra=latex(pra)\n",
    "pra"
   ]
  },
  {
   "cell_type": "raw",
   "id": "b5d1bc70",
   "metadata": {},
   "source": [
    "sum_cAm_pra = (sum_cAm * pra).full_simplify()\n",
    "sum_cAm_pra_latex = latex_pra + \"\\\\cdot\" + sum_cAm_latex"
   ]
  },
  {
   "cell_type": "markdown",
   "id": "bf91b39a",
   "metadata": {},
   "source": [
    "Векторный потенциал электростатического поля точечного заряда в сферической системе координат"
   ]
  },
  {
   "cell_type": "markdown",
   "id": "e6ade116",
   "metadata": {},
   "source": [
    "$${r_a} A_{\\varphi} = - {сtg \\, \\theta_a}$$"
   ]
  },
  {
   "cell_type": "raw",
   "id": "a5a4c32b",
   "metadata": {
    "scrolled": true
   },
   "source": [
    "plot([sum_cAm_pra, cot(theta_a)], theta_a, 0.25, pi-0.25).show(\n",
    "    title=\"$\"+sum_cAm_pra_latex+\"$\")"
   ]
  },
  {
   "cell_type": "markdown",
   "id": "e41b247f",
   "metadata": {},
   "source": [
    "# Потенциал взаимодействия магнитных прецессирующих диполей\n",
    "\n",
    "Рассмотрим задачу взаимодействия двух соосно вокруг оси $z$ прецессирующих магнитных диполей в геометрии задачи, которая изображена в работе https://nbviewer.org/github/daju1/articles/blob/master/electrostatic_vector_potential/Structure_of_electron.ipynb\n",
    "\n",
    "на втором рисунке.\n",
    "\n",
    "Запишем выражение для потенциальной функции взаимодействия магнитного тока второй частицы с полем векторного потенциала магнитныого тока первой частицы (Тамм формула 51.10)\n",
    "\n",
    "$U_{12} = -\\frac{1}{c} \\int\\limits_{V_2} \\vec{A_1} \\vec{j_2} dV$\n",
    "\n",
    "Запишем выражение для потенциальной функции взаимодействия магнитного заряда второй частицы с полем скалярного потенциала магнитныого заряда первой частицы (Тамм формула 15.6)\n",
    "\n",
    "$W_{12} = \\int\\limits_{V_2} {\\phi_1} {\\rho_2} dV$\n",
    "\n",
    "Силу взаимодействия двух прецессирующих диполей можно найти исходя из\n",
    "\n",
    "$F = - \\frac{\\partial}{\\partial z} \\left(U_{12} + W_{12}\\right)$\n",
    "\n",
    "для осуществления данных вычислений интегрирование удобно производить в цилиндрической системе координат"
   ]
  },
  {
   "cell_type": "markdown",
   "id": "d35c4d66",
   "metadata": {},
   "source": [
    "$U_{12} = -\\frac{1}{c} \\int\\limits_{z_m=-\\infty}^{\\infty}\\,\\,\\int\\limits_{\\rho_m=0}^{\\infty}\\left(\\int\\limits_{\\varphi_m=0}^{2\\pi}\\vec{A_1} \\vec{j_2} {\\,\\rho_m \\, d \\varphi_m}\\right)d \\rho_m \\, d z_m$"
   ]
  },
  {
   "cell_type": "markdown",
   "id": "dc36bb59",
   "metadata": {},
   "source": [
    "$W_{12} = \\int\\limits_{z_m=-\\infty}^{\\infty}\\,\\,\\int\\limits_{\\rho_m=0}^{\\infty}\\left(\\int\\limits_{\\varphi_m=0}^{2\\pi}{\\phi_1} {\\rho_2} {\\,\\rho_m \\, d \\varphi_m}\\right)d \\rho_m \\, d z_m$"
   ]
  },
  {
   "cell_type": "markdown",
   "id": "626afdc5",
   "metadata": {},
   "source": [
    "Поскольку в рассматриваемой геометрии магнитный ток и векторный потенциал имеют ненулевыми только лишь $\\varphi$ компоненту, следовательно эти векторы всюду параллельны и скалярное произведение этих векторов выражается как произведение модулей этих векторов $\\vec{A_1} \\vec{j_2} = {A_1}_{\\varphi} {j_2}_{\\varphi}$ "
   ]
  },
  {
   "cell_type": "markdown",
   "id": "a890891a",
   "metadata": {},
   "source": [
    "$U_{12} = -\\frac{1}{c} \\int\\limits_{z_m=-\\infty}^{\\infty}\\,\\,\\int\\limits_{\\rho_m=0}^{\\infty}\\left(\\int\\limits_{\\varphi_m=0}^{2\\pi}{A_1}_{\\varphi} {j_2}_{\\varphi} {\\,\\rho_m \\, d \\varphi_m}\\right)d \\rho_m \\, d z_m$"
   ]
  },
  {
   "cell_type": "markdown",
   "id": "c7c255c8",
   "metadata": {},
   "source": [
    "Поскольку данная геометрия задачи не зависит от $\\varphi$ то интегрирование по этой переменной приводит к появлению множителя $2\\pi$"
   ]
  },
  {
   "cell_type": "markdown",
   "id": "84985cd1",
   "metadata": {},
   "source": [
    "$U_{12} = -\\frac{{2\\pi}}{c} \\int\\limits_{z_m=-\\infty}^{\\infty}\\,\\,\\int\\limits_{\\rho_m=0}^{\\infty}{A_1}_{\\varphi} {j_2}_{\\varphi} {\\,\\rho_m \\, }d \\rho_m \\, d z_m$"
   ]
  },
  {
   "cell_type": "markdown",
   "id": "9b8fc3cc",
   "metadata": {},
   "source": [
    "$W_{12} = {2\\pi} \\int\\limits_{z_m=-\\infty}^{\\infty}\\,\\,\\int\\limits_{\\rho_m=0}^{\\infty}{\\phi_1} {\\rho_2} {\\,\\rho_m \\, }d \\rho_m \\, d z_m$"
   ]
  },
  {
   "cell_type": "markdown",
   "id": "c10ee7da",
   "metadata": {},
   "source": [
    "теперь в выражениях для векторного потенциала и плотности магнитного тока необходимо перейти от сферических координат к цилиндрическим. При этом частица 1 будет оставаться в начале коодинат для того чтобы не смещать достаточно сложное выражение для векторного потенциала вдоль оси $z$. Будем изменять координату $z$ частицы 2 "
   ]
  },
  {
   "cell_type": "markdown",
   "id": "b8fda0e7",
   "metadata": {},
   "source": [
    "Исходя из выражения для векторного потенциала в сферических координатах"
   ]
  },
  {
   "cell_type": "code",
   "execution_count": null,
   "id": "089d7dd3",
   "metadata": {},
   "outputs": [],
   "source": [
    "var(\"rho, z, z_c\")\n",
    "assume(rho > 0)"
   ]
  },
  {
   "cell_type": "code",
   "execution_count": null,
   "id": "cbb7d5ff",
   "metadata": {},
   "outputs": [],
   "source": [
    "A1_spherical = []\n",
    "for l in range(0,NL):\n",
    "    exec(preparse(\"A1_spherical += [lambda r_a, theta_a : \" + str(cAm(l)) + \"]\"))"
   ]
  },
  {
   "cell_type": "code",
   "execution_count": null,
   "id": "2491c952",
   "metadata": {},
   "outputs": [],
   "source": [
    "phi1_spherical = []\n",
    "for l in range(0,NL):\n",
    "    exec(preparse(\"phi1_spherical += [lambda r_a, theta_a : \" + str(m_phi(l)) + \"]\"))"
   ]
  },
  {
   "cell_type": "code",
   "execution_count": null,
   "id": "d5caf0a9",
   "metadata": {},
   "outputs": [],
   "source": [
    "for l in range(0,NL):\n",
    "    disp(A1_spherical[l](r_m, theta_m))"
   ]
  },
  {
   "cell_type": "code",
   "execution_count": null,
   "id": "a1fe1c9e",
   "metadata": {},
   "outputs": [],
   "source": [
    "for l in range(0,NL):\n",
    "    disp(phi1_spherical[l](r_m, theta_m))"
   ]
  },
  {
   "cell_type": "markdown",
   "id": "c0beadb2",
   "metadata": {},
   "source": [
    "Переход от цилиндрических к сферическим координатам:"
   ]
  },
  {
   "cell_type": "markdown",
   "id": "070bb382",
   "metadata": {},
   "source": [
    "${\\displaystyle {\\begin{cases}r={\\sqrt {\\rho ^{2}+z^{2}}},\\\\\\theta =\\mathrm {arctg} {\\dfrac {\\rho }{z}},\\\\\\varphi =\\varphi .\\end{cases}}}$"
   ]
  },
  {
   "cell_type": "markdown",
   "id": "d5aa85e1",
   "metadata": {},
   "source": [
    "составляем функцию векторного потенциала и скалярного магнитного потенциала частицы 1 принимающую цилиндрические координаты и производящую переход к сферическим координатам при вызове лямбда функции A1_spherical\n",
    "\n",
    "$A1_{cylindrical}(\\rho, z) = A1_{spherical}(r_a = \\sqrt{\\rho^2+z^2},\n",
    "                 \\theta_a = atan\\dfrac {\\rho }{z})$"
   ]
  },
  {
   "cell_type": "code",
   "execution_count": null,
   "id": "7025ebd6",
   "metadata": {},
   "outputs": [],
   "source": [
    "A1_cylindrical = []\n",
    "for l in range(0,NL):\n",
    "    exec(preparse(\"A1_cylindrical += [lambda rho, z : \" + \\\n",
    "        str(A1_spherical[l](r_a = sqrt(rho^2+z^2), \\\n",
    "                     theta_a = atan2(rho, z))) + \"]\"))"
   ]
  },
  {
   "cell_type": "code",
   "execution_count": null,
   "id": "9dfb73f7",
   "metadata": {},
   "outputs": [],
   "source": [
    "phi1_cylindrical = []\n",
    "for l in range(0,NL):\n",
    "    exec(preparse(\"phi1_cylindrical += [lambda rho, z : \" + \\\n",
    "        str(phi1_spherical[l](r_a = sqrt(rho^2+z^2), \\\n",
    "                     theta_a = atan2(rho, z))) + \"]\"))"
   ]
  },
  {
   "cell_type": "code",
   "execution_count": null,
   "id": "ab35d7e5",
   "metadata": {},
   "outputs": [],
   "source": [
    "z1, z2 = -2, 2\n",
    "ni = 10\n",
    "dz = (z2-z1)/ni\n",
    "levels = [z1,z1+dz..z2]\n",
    "for l in range(0,NL):\n",
    "    contour_plot(A1_cylindrical[l](rho, z),\n",
    "                 (rho, 0, 1), (z, -1, 1),\n",
    "                 contours=levels, cmap=\"jet\", colorbar=True).show()"
   ]
  },
  {
   "cell_type": "code",
   "execution_count": null,
   "id": "d022c0ad",
   "metadata": {},
   "outputs": [],
   "source": [
    "for l in range(0,NL):\n",
    "    contour_plot(phi1_cylindrical[l](rho, z),\n",
    "             (rho, 0, 1), (z, -1, 1), cmap=\"jet\", colorbar=True).show()"
   ]
  },
  {
   "cell_type": "markdown",
   "id": "d75c392a",
   "metadata": {},
   "source": [
    "И точно так же исходя из выражения для магнитного тока в сферических координатах"
   ]
  },
  {
   "cell_type": "code",
   "execution_count": null,
   "id": "808a9d5e",
   "metadata": {},
   "outputs": [],
   "source": [
    "J_r(r_m) * J_theta(theta_m)"
   ]
  },
  {
   "cell_type": "code",
   "execution_count": null,
   "id": "ae71a5aa",
   "metadata": {},
   "outputs": [],
   "source": [
    "rho_r(r_m) * rho_theta(theta_m)"
   ]
  },
  {
   "cell_type": "code",
   "execution_count": null,
   "id": "1f81fb09",
   "metadata": {},
   "outputs": [],
   "source": [
    "j2_spherical = lambda r_m, theta_m : J_r(r_m) * J_theta(theta_m)"
   ]
  },
  {
   "cell_type": "code",
   "execution_count": null,
   "id": "32b3d223",
   "metadata": {},
   "outputs": [],
   "source": [
    "rho2_spherical = lambda r_m, theta_m : rho_r(r_m) * rho_theta(theta_m)"
   ]
  },
  {
   "cell_type": "markdown",
   "id": "d5a2f15d",
   "metadata": {},
   "source": [
    "составляем функцию магнитного тока частицы 2 принимающую цилиндрические координаты и производящую переход к сферическим координатам при вызове лямбда функции j2_spherical, введя в эту функцию третим параметром координату центра частицы 2\n",
    "\n",
    "$j2_{cylindrical}(\\rho, z, z_c) = j2_{spherical}(r_a = \\sqrt{\\rho^2+(z-z_c)^2},\n",
    "                 \\theta_a = atan\\dfrac {\\rho }{z - z_c})$"
   ]
  },
  {
   "cell_type": "code",
   "execution_count": null,
   "id": "31c3f1c1",
   "metadata": {},
   "outputs": [],
   "source": [
    "j2_cylindrical = lambda rho, z, z_c : \\\n",
    "    j2_spherical(r_m = sqrt(rho^2+(z-z_c)^2),\n",
    "                 theta_m = atan2(rho, z-z_c))"
   ]
  },
  {
   "cell_type": "code",
   "execution_count": null,
   "id": "c1314ac5",
   "metadata": {},
   "outputs": [],
   "source": [
    "rho2_cylindrical = lambda rho, z, z_c : \\\n",
    "    rho2_spherical(r_m = sqrt(rho^2+(z-z_c)^2),\n",
    "                 theta_m = atan2(rho, z-z_c))"
   ]
  },
  {
   "cell_type": "code",
   "execution_count": null,
   "id": "3a314c12",
   "metadata": {},
   "outputs": [],
   "source": [
    "z1, z2 = -2, 2\n",
    "ni = 10\n",
    "dz = (z2-z1)/ni\n",
    "levels = [z1,z1+dz..z2]\n",
    "contour_plot(j2_cylindrical(rho, z, z_c=1),\n",
    "             (rho, 0, 1), (z, -1, 3), contours=levels,\n",
    "             fill=True, cmap='jet',\n",
    "             labels=True, colorbar=True).show()"
   ]
  },
  {
   "cell_type": "code",
   "execution_count": null,
   "id": "7993fe05",
   "metadata": {},
   "outputs": [],
   "source": [
    "z1, z2 = -2, 2\n",
    "ni = 10\n",
    "dz = (z2-z1)/ni\n",
    "levels = [z1,z1+dz..z2]\n",
    "contour_plot(rho2_cylindrical(rho, z, z_c=1),\n",
    "             (rho, 0, 1), (z, -1, 3), contours=levels,\n",
    "             fill=True, cmap='jet',\n",
    "             labels=True, colorbar=True).show()"
   ]
  },
  {
   "cell_type": "code",
   "execution_count": null,
   "id": "55eef869",
   "metadata": {},
   "outputs": [],
   "source": [
    "disp(j2_cylindrical(rho, z, z_c))\n",
    "disp(rho2_cylindrical(rho, z, z_c))"
   ]
  },
  {
   "cell_type": "code",
   "execution_count": null,
   "id": "81295033",
   "metadata": {},
   "outputs": [],
   "source": [
    "import numpy as np\n",
    "def make_A1(zj2, rj2):\n",
    "    ra_linspace = np.linspace(np.float64(0), np.float64(+100), 20)\n",
    "    za_linspace = np.linspace(np.float64(-100), np.float64(+300), 40)\n",
    "\n",
    "    ra_list = ra_linspace.tolist()\n",
    "    za_list = za_linspace.tolist()\n",
    "\n",
    "    ra_grid,za_grid = np.meshgrid(ra_linspace, za_linspace)\n",
    "\n",
    "    a_ = ra_grid * np.nan\n",
    "\n",
    "    for ix in np.arange(0, len(ra_linspace), 1):\n",
    "        for iy in np.arange(0, len(za_linspace), 1):\n",
    "\n",
    "            Rho = ra_list[ix]\n",
    "            Z   = za_list[iy]\n",
    "\n",
    "            try:\n",
    "                A1 = cA_int_zj_rj(rho_a=Rho, z_a=Z,\n",
    "                                  zj1=-zj2, zj2=zj2,\n",
    "                                  rj1=0,    rj2=rj2)\n",
    "                a_[iy][ix] = A1\n",
    "                # print (\"Rho = \", Rho, \"Z =\", Z, \"A1 =\", A1)\n",
    "            except Exception as ex:\n",
    "                print (ex)\n",
    "                print (\"Rho = \", Rho, \"Z =\", Z)\n",
    "                return ra_grid, za_grid, a_\n",
    "\n",
    "    return ra_grid, za_grid, a_"
   ]
  },
  {
   "cell_type": "markdown",
   "id": "0d1d30d7",
   "metadata": {},
   "source": [
    "Теперь можем записать подыитегральное выражение в интеграле подынтеграьной функции"
   ]
  },
  {
   "cell_type": "code",
   "execution_count": null,
   "id": "4a5c0fd0",
   "metadata": {},
   "outputs": [],
   "source": [
    "U_12_integrand = lambda l, rho, z, z_c : \\\n",
    "    -2*pi*rho * A1_cylindrical[l](rho, z) * j2_cylindrical(rho, z, z_c)"
   ]
  },
  {
   "cell_type": "code",
   "execution_count": null,
   "id": "dd8b1564",
   "metadata": {},
   "outputs": [],
   "source": [
    "W_12_integrand = lambda l, rho, z, z_c : \\\n",
    "    2*pi*rho * phi1_cylindrical[l](rho, z) * rho2_cylindrical(rho, z, z_c)"
   ]
  },
  {
   "cell_type": "markdown",
   "id": "c4b54e97",
   "metadata": {},
   "source": [
    "Теперь можно изобразить поле интегранда графически и заодно численно просуммировать это поле"
   ]
  },
  {
   "cell_type": "code",
   "execution_count": null,
   "id": "8e6bde47",
   "metadata": {},
   "outputs": [],
   "source": [
    "import numpy as np\n",
    "def make_U(l, zc_cur):\n",
    "    ra_linspace = np.linspace(np.float64(0),    np.float64(+20), 20)\n",
    "    za_linspace = np.linspace(np.float64(-40), np.float64(+80), 120)\n",
    "    ra_list = ra_linspace.tolist()\n",
    "    za_list = za_linspace.tolist()\n",
    "\n",
    "    ra_grid, za_grid = np.meshgrid(ra_linspace, za_linspace)\n",
    "\n",
    "    u_ = ra_grid * np.nan\n",
    "    w_ = ra_grid * np.nan\n",
    "\n",
    "    sum_u = 0\n",
    "    sum_w = 0\n",
    "\n",
    "    for ix in np.arange(0, len(ra_linspace), 1):\n",
    "        for iy in np.arange(0, len(za_linspace), 1):\n",
    "\n",
    "            Rho = ra_list[ix]\n",
    "            Z   = za_list[iy]\n",
    "\n",
    "            try:\n",
    "                U = U_12_integrand(l=l, rho=Rho, z=Z, z_c=zc_cur).n()\n",
    "                W = W_12_integrand(l=l, rho=Rho, z=Z, z_c=zc_cur).n()\n",
    "                u_[iy][ix] = U\n",
    "                w_[iy][ix] = W\n",
    "                sum_u += U\n",
    "                sum_w += W\n",
    "            except Exception as ex:\n",
    "                print (ex)\n",
    "                print (\"Rho = \", Rho, \"Z =\", Z, \"z_c =\", zc_cur)\n",
    "                ra_grid, za_grid, u_, w_, sum_u, sum_w\n",
    "\n",
    "    return ra_grid, za_grid, u_, w_, sum_u, sum_w"
   ]
  },
  {
   "cell_type": "code",
   "execution_count": null,
   "id": "0d5afa47",
   "metadata": {},
   "outputs": [],
   "source": [
    "%time (rho_grid, z_grid, u_, w_, sum_u, sum_w) = make_U(2, zc_cur = 20)\n",
    "(sum_u, sum_w)"
   ]
  },
  {
   "cell_type": "code",
   "execution_count": null,
   "id": "ce90f758",
   "metadata": {},
   "outputs": [],
   "source": [
    "from mpl_toolkits import mplot3d\n",
    "import numpy as np\n",
    "import matplotlib.pyplot as plt"
   ]
  },
  {
   "cell_type": "code",
   "execution_count": null,
   "id": "99609bfb",
   "metadata": {},
   "outputs": [],
   "source": [
    "def contour_plot_u(fig, ax, i, rho_grid, z_grid, u, title, levels=None):\n",
    "    cp = ax[i].contourf(rho_grid, z_grid, u, levels=levels)\n",
    "    #fig.colorbar(cp) # Add a colorbar to a plot\n",
    "    ax[i].set_title(title)\n",
    "    ax[i].set_xlabel('rho')\n",
    "    if i == 0:\n",
    "        ax[i].set_ylabel('z')\n",
    "    ax[i].set_aspect(1)"
   ]
  },
  {
   "cell_type": "code",
   "execution_count": null,
   "id": "0921fdaa",
   "metadata": {},
   "outputs": [],
   "source": [
    "fig_,ax_=plt.subplots(1,2)\n",
    "\n",
    "levels = np.linspace(-0.0008, 0.0008, 16)\n",
    "contour_plot_u(fig_, ax_, 0,\n",
    "               rho_grid, z_grid, u=u_,\n",
    "               title='Precessing magnets potential',\n",
    "    levels = None)\n",
    "\n",
    "levels = np.linspace(-0.08, 0.08, 16)\n",
    "contour_plot_u(fig_, ax_, 1,\n",
    "               rho_grid, z_grid, u=w_,\n",
    "               title='Scalar magnets potential',\n",
    "    levels = None)"
   ]
  },
  {
   "cell_type": "code",
   "execution_count": null,
   "id": "4e1c3281",
   "metadata": {},
   "outputs": [],
   "source": [
    "def plot_u(rho_grid, z_grid, u, title, levels=None):\n",
    "    fig,ax=plt.subplots(1,1)\n",
    "    cp = ax.contourf(rho_grid, z_grid, u, levels=levels)\n",
    "    fig.colorbar(cp) # Add a colorbar to a plot\n",
    "    ax.set_title(title)\n",
    "    ax.set_xlabel('rho')\n",
    "    ax.set_ylabel('z')\n",
    "    ax.set_aspect(1)"
   ]
  },
  {
   "cell_type": "code",
   "execution_count": null,
   "id": "9b8f31de",
   "metadata": {},
   "outputs": [],
   "source": [
    "def plot_surf_u(rho_grid, z_grid, u, title):\n",
    "    ax = plt.axes(projection='3d')\n",
    "    ax.set_xlabel('z (cm)')\n",
    "    ax.set_ylabel('r (cm)')\n",
    "    ax.plot_surface(rho_grid, z_grid, u, cmap='viridis', edgecolor='none')\n",
    "    ax.set_title(title)\n",
    "    plt.show()"
   ]
  },
  {
   "cell_type": "code",
   "execution_count": null,
   "id": "c0eb6b78",
   "metadata": {},
   "outputs": [],
   "source": [
    "levels = np.linspace(-0.0008, 0.0008, 16)\n",
    "plot_u(rho_grid, z_grid, u=u_, title='Precessing magnets potential',\n",
    "    levels = None)"
   ]
  },
  {
   "cell_type": "code",
   "execution_count": null,
   "id": "602653d2",
   "metadata": {},
   "outputs": [],
   "source": [
    "plot_surf_u(rho_grid, z_grid, u=u_, title='Precessing magnets potential')"
   ]
  },
  {
   "cell_type": "code",
   "execution_count": null,
   "id": "3aca86f0",
   "metadata": {},
   "outputs": [],
   "source": [
    "levels = np.linspace(-0.08, 0.08, 16)\n",
    "plot_u(rho_grid, z_grid, u=w_, title='Scalar magnets potential',\n",
    "    levels = None)"
   ]
  },
  {
   "cell_type": "code",
   "execution_count": null,
   "id": "e9833634",
   "metadata": {},
   "outputs": [],
   "source": [
    "plot_surf_u(rho_grid, z_grid, u=w_, title='Scalar magnets potential')"
   ]
  },
  {
   "cell_type": "markdown",
   "id": "8b3602c9",
   "metadata": {},
   "source": [
    "А теперь изобразим тоже самое при разных значениях координаты частицы 2"
   ]
  },
  {
   "cell_type": "code",
   "execution_count": null,
   "id": "f977df35",
   "metadata": {},
   "outputs": [],
   "source": [
    "def plot_make_U(l, show=False):\n",
    "    plot_data_sum_U = []\n",
    "    plot_data_sum_Uzc1 = []\n",
    "    plot_data_sum_Uzc2 = []\n",
    "    plot_data_sum_Uzc3 = []\n",
    "\n",
    "    plot_data_sum_W = []\n",
    "    plot_data_sum_Wzc1 = []\n",
    "    plot_data_sum_Wzc2 = []\n",
    "    plot_data_sum_Wzc3 = []\n",
    "\n",
    "    for zc in np.arange(1, 41, 1):\n",
    "        (rho_grid, z_grid, u_, w_, sum_u, sum_w) = make_U(l=l, zc_cur = zc)\n",
    "        # print (zc, sum_u)\n",
    "        plot_data_sum_U += [(zc, sum_u)]\n",
    "        plot_data_sum_Uzc1 += [(zc, sum_u * zc)]\n",
    "        plot_data_sum_Uzc2 += [(zc, sum_u * zc^2)]\n",
    "        plot_data_sum_Uzc3 += [(zc, sum_u * zc^3)]\n",
    "\n",
    "        plot_data_sum_W += [(zc, sum_w)]\n",
    "        plot_data_sum_Wzc1 += [(zc, sum_w * zc)]\n",
    "        plot_data_sum_Wzc2 += [(zc, sum_w * zc^2)]\n",
    "        plot_data_sum_Wzc3 += [(zc, sum_w * zc^3)]\n",
    "\n",
    "        if show:\n",
    "            fig_,ax_= plt.subplots(1,2)\n",
    "\n",
    "            levels = np.linspace(-0.0008, 0.0008, 16)\n",
    "            contour_plot_u(fig_, ax_, 0,\n",
    "                           rho_grid, z_grid, u=u_,\n",
    "                title=\"U $z_c$ = {} $\\\\sum u$ = {:.5e}\".format(zc, sum_u),\n",
    "                levels = None)\n",
    "\n",
    "            levels = np.linspace(-0.08, 0.08, 16)\n",
    "            contour_plot_u(fig_, ax_, 1,\n",
    "                           rho_grid, z_grid, u=w_,\n",
    "                title=\"W $z_c$ = {} $\\\\sum w$ = {:.5e}\".format(zc, sum_w),\n",
    "                levels = None)\n",
    "\n",
    "            plt.show()\n",
    "\n",
    "    p = list_plot(plot_data_sum_U)\n",
    "    p.show(title=\"Потенциальная функция взаимодействия прецессирующих магнитных диполей l =\" + str(l),\n",
    "           axes_labels=[\"Расстояние между частицами zс\", \"\"])\n",
    "\n",
    "    p = list_plot(plot_data_sum_Uzc1)\n",
    "    p.show(title=\"z * Потенциальная функция взаимодействия прецессирующих магнитных диполей\",\n",
    "           axes_labels=[\"Расстояние между частицами zс\", \"\"])\n",
    "\n",
    "    p = list_plot(plot_data_sum_Uzc2)\n",
    "    p.show(title=\"z^2 * Потенциальная функция взаимодействия прецессирующих магнитных диполей\",\n",
    "           axes_labels=[\"Расстояние между частицами zс\", \"\"])\n",
    "\n",
    "    p = list_plot(plot_data_sum_Uzc3)\n",
    "    p.show(title=\"z^3 * Потенциальная функция взаимодействия прецессирующих магнитных диполей\",\n",
    "           axes_labels=[\"Расстояние между частицами zс\", \"\"])\n",
    "\n",
    "    \n",
    "    p = list_plot(plot_data_sum_W)\n",
    "    p.show(title=\"Энергия взаимодействия магнитных диполей\",\n",
    "           axes_labels=[\"Расстояние между частицами zс\", \"\"])\n",
    "\n",
    "    p = list_plot(plot_data_sum_Wzc1)\n",
    "    p.show(title=\"z * Энергия взаимодействия магнитных диполей\",\n",
    "           axes_labels=[\"Расстояние между частицами zс\", \"\"])\n",
    "\n",
    "    p = list_plot(plot_data_sum_Wzc2)\n",
    "    p.show(title=\"z^2 * Энергия взаимодействия магнитных диполей\",\n",
    "           axes_labels=[\"Расстояние между частицами zс\", \"\"])\n",
    "\n",
    "    p = list_plot(plot_data_sum_Wzc3)\n",
    "    p.show(title=\"z^3 * Энергия взаимодействия магнитных диполей\",\n",
    "           axes_labels=[\"Расстояние между частицами zс\", \"\"])\n",
    "\n",
    "    return plot_data_sum_U, plot_data_sum_W"
   ]
  },
  {
   "cell_type": "code",
   "execution_count": null,
   "id": "1de1fb99",
   "metadata": {},
   "outputs": [],
   "source": [
    "\n",
    "for l in range (1, 24):\n",
    "    plot_data_sum_U, plot_data_sum_W = plot_make_U(l=l)"
   ]
  },
  {
   "cell_type": "code",
   "execution_count": null,
   "id": "6729b71f",
   "metadata": {},
   "outputs": [],
   "source": []
  },
  {
   "cell_type": "code",
   "execution_count": null,
   "id": "52c7f24b",
   "metadata": {},
   "outputs": [],
   "source": []
  },
  {
   "cell_type": "markdown",
   "id": "8c989713",
   "metadata": {},
   "source": [
    "Таким образом на данных графиках просматривается важный вывод: Потенциальная функция взаимодействия прецессирующих магнитных диполей убывает по закону $\\frac{1}{z}$ что соответствует классическому кулоновскому взаимодействию электрических зарядов. Только в данной модели \"электрический заряд\" становится кажущимся эффективным фантомом, который является лишь следствием проявления магнитной силы Ампера между движущимися магнитными зарядами образующими магнитные токи.\n",
    "\n",
    "А поскольку магнитный заряд это положительная или отрицательная дислокация эфирной среды, поэтому взаимодействие между движущимися магнитными зарядами (дислокациями) происходит вследствие того что движущаяся дислокация производит возбуждение фонона в эфирной среде, которые достигая другого движущегося магнитного заряда (дислокации)  воздействуют на него силой аналогичной силе Пича-Келлера"
   ]
  },
  {
   "cell_type": "markdown",
   "id": "2a26003b",
   "metadata": {},
   "source": [
    "Производим численное интегрирование"
   ]
  },
  {
   "cell_type": "code",
   "execution_count": null,
   "id": "38cc46e3",
   "metadata": {},
   "outputs": [],
   "source": [
    "from scipy import integrate as scipy_integrate"
   ]
  },
  {
   "cell_type": "code",
   "execution_count": null,
   "id": "984a4269",
   "metadata": {},
   "outputs": [],
   "source": [
    "U_int_z = lambda z_c, rho, z1, z2: \\\n",
    "    scipy_integrate.quad(lambda z : U_12_integrand(rho, z, z_c), z1, z2)[0]"
   ]
  },
  {
   "cell_type": "code",
   "execution_count": null,
   "id": "a32f23c8",
   "metadata": {},
   "outputs": [],
   "source": [
    "W_int_z = lambda z_c, rho, z1, z2: \\\n",
    "    scipy_integrate.quad(lambda z : W_12_integrand(rho, z, z_c), z1, z2)[0]"
   ]
  },
  {
   "cell_type": "code",
   "execution_count": null,
   "id": "2a453e8d",
   "metadata": {},
   "outputs": [],
   "source": [
    "U_int_z_int_rho = lambda z_c, z1, z2, rho1, rho2: \\\n",
    "    scipy_integrate.quad(lambda rho : U_int_z(z_c, rho, z1, z2), rho1, rho2)[0]"
   ]
  },
  {
   "cell_type": "code",
   "execution_count": null,
   "id": "70ea01fe",
   "metadata": {},
   "outputs": [],
   "source": [
    "W_int_z_int_rho = lambda z_c, z1, z2, rho1, rho2: \\\n",
    "    scipy_integrate.quad(lambda rho : W_int_z(z_c, rho, z1, z2), rho1, rho2)[0]"
   ]
  },
  {
   "cell_type": "markdown",
   "id": "bdf87698",
   "metadata": {},
   "source": [
    "Здесь для быстроты получения предварительного результата производим интегрирование только лишь по $z$ координате зафиксировав с помощью параметра $\\rho = const$ некий цилиндр интегрирования"
   ]
  },
  {
   "cell_type": "raw",
   "id": "e387de6c",
   "metadata": {},
   "source": [
    "def plot_U_int_z(rho):\n",
    "    import numpy as np\n",
    "    plot_data_U_int_z = []\n",
    "    plot_data_Uzc_int_z = []\n",
    "    plot_data_Uzc2_int_z = []\n",
    "    plot_data_Uzc3_int_z = []\n",
    "    plot_data_Uzc4_int_z = []\n",
    "    plot_data_Uzc5_int_z = []\n",
    "    plot_data_Uzc6_int_z = []\n",
    "    for zc in np.arange(20, 200, 5):\n",
    "        U = U_int_z(z_c = zc, rho = rho, z1 = -1000, z2 = 1000)\n",
    "        print(\"zc\", zc, U)\n",
    "        plot_data_U_int_z += [(zc, U)]\n",
    "        plot_data_Uzc_int_z += [(zc, U * zc)]\n",
    "        plot_data_Uzc2_int_z += [(zc, U * zc^2)]\n",
    "        plot_data_Uzc3_int_z += [(zc, U * zc^3)]\n",
    "        plot_data_Uzc4_int_z += [(zc, U * zc^4)]\n",
    "        plot_data_Uzc5_int_z += [(zc, U * zc^5)]\n",
    "        plot_data_Uzc6_int_z += [(zc, U * zc^6)]\n",
    "        \n",
    "    p = list_plot(plot_data_U_int_z)\n",
    "    p.show(title=\"Потенциальная функция взаимодействия прецессирующих магнитных диполей rho = \"+str(rho),\n",
    "           axes_labels=[\"Расстояние между частицами zс\", \"\"])\n",
    "    \n",
    "    p = list_plot(plot_data_Uzc2_int_z)\n",
    "    p.show(title=\"z^2 Потенциальная функция взаимодействия прецессирующих магнитных диполей rho = \"+str(rho),\n",
    "           axes_labels=[\"Расстояние между частицами zс\", \"\"])\n",
    "    \n",
    "    p = list_plot(plot_data_Uzc3_int_z)\n",
    "    p.show(title=\"z^3 Потенциальная функция взаимодействия прецессирующих магнитных диполей rho = \"+str(rho),\n",
    "           axes_labels=[\"Расстояние между частицами zс\", \"\"])\n",
    "    \n",
    "    p = list_plot(plot_data_Uzc4_int_z)\n",
    "    p.show(title=\"z^4 Потенциальная функция взаимодействия прецессирующих магнитных диполей rho = \"+str(rho),\n",
    "           axes_labels=[\"Расстояние между частицами zс\", \"\"])"
   ]
  },
  {
   "cell_type": "markdown",
   "id": "0e71e554",
   "metadata": {},
   "source": [
    "Графически можно увидеть, что потенциальная функция проинтегрированная лишь в цилиндрическом сечении даёт потенциальную функцию убывающую в третьем порядке от расстояния между центрами частиц"
   ]
  },
  {
   "cell_type": "raw",
   "id": "8f7bfe48",
   "metadata": {},
   "source": [
    "for rho in [1,2,3,4,5]:\n",
    "    plot_U_int_z(rho)"
   ]
  },
  {
   "cell_type": "code",
   "execution_count": null,
   "id": "ea03bd66",
   "metadata": {},
   "outputs": [],
   "source": [
    "import numpy as np\n",
    "plot_data_U_int_z_int_rho = []\n",
    "plot_data_Uzc1_int_z_int_rho = []\n",
    "plot_data_Uzc2_int_z_int_rho = []\n",
    "plot_data_Uzc3_int_z_int_rho = []\n",
    "plot_data_Uzc4_int_z_int_rho = []\n",
    "plot_data_Uzc5_int_z_int_rho = []\n",
    "plot_data_Uzc6_int_z_int_rho = []\n",
    "for zc in np.arange(5, 41, 1):\n",
    "    U = U_int_z_int_rho(z_c = zc,\n",
    "                        z1 = -40, z2 = +80,\n",
    "                        rho1 = 0, rho2 = 20)\n",
    "    print(\"zc\", zc, U)\n",
    "    plot_data_U_int_z_int_rho += [(zc, U)]\n",
    "    plot_data_Uzc1_int_z_int_rho += [(zc, U * zc)]\n",
    "    plot_data_Uzc2_int_z_int_rho += [(zc, U * zc^2)]\n",
    "    plot_data_Uzc3_int_z_int_rho += [(zc, U * zc^3)]\n",
    "    plot_data_Uzc4_int_z_int_rho += [(zc, U * zc^4)]\n",
    "    plot_data_Uzc5_int_z_int_rho += [(zc, U * zc^5)]\n",
    "    plot_data_Uzc6_int_z_int_rho += [(zc, U * zc^6)]"
   ]
  },
  {
   "cell_type": "code",
   "execution_count": null,
   "id": "e33bf26f",
   "metadata": {},
   "outputs": [],
   "source": [
    "plot_data_U_int_z_int_rho"
   ]
  },
  {
   "cell_type": "code",
   "execution_count": null,
   "id": "7e2e7334",
   "metadata": {},
   "outputs": [],
   "source": [
    "p = list_plot(plot_data_U_int_z_int_rho)\n",
    "p.show(title=\"Потенциальная функция взаимодействия прецессирующих магнитных диполей\",\n",
    "       axes_labels=[\"Расстояние между частицами zс\", \"\"])"
   ]
  },
  {
   "cell_type": "code",
   "execution_count": null,
   "id": "c52f1e73",
   "metadata": {},
   "outputs": [],
   "source": [
    "p = list_plot(plot_data_Uzc1_int_z_int_rho)\n",
    "p.show(title=\"Потенциальная функция взаимодействия прецессирующих магнитных диполей\",\n",
    "       axes_labels=[\"Расстояние между частицами zс\", \"\"])"
   ]
  },
  {
   "cell_type": "code",
   "execution_count": null,
   "id": "cdb2f7dd",
   "metadata": {},
   "outputs": [],
   "source": [
    "p = list_plot(plot_data_Uzc2_int_z_int_rho)\n",
    "p.show(title=\"Потенциальная функция взаимодействия прецессирующих магнитных диполей\",\n",
    "       axes_labels=[\"Расстояние между частицами zс\", \"\"])"
   ]
  },
  {
   "cell_type": "code",
   "execution_count": null,
   "id": "f4ed71ee",
   "metadata": {},
   "outputs": [],
   "source": [
    "p = list_plot(plot_data_Uzc3_int_z_int_rho)\n",
    "p.show(title=\"Потенциальная функция взаимодействия прецессирующих магнитных диполей\",\n",
    "       axes_labels=[\"Расстояние между частицами zс\", \"\"])"
   ]
  },
  {
   "cell_type": "code",
   "execution_count": null,
   "id": "824b2493",
   "metadata": {},
   "outputs": [],
   "source": []
  }
 ],
 "metadata": {
  "kernelspec": {
   "display_name": "SageMath 9.6.beta7",
   "language": "sage",
   "name": "sagemath"
  },
  "language_info": {
   "codemirror_mode": {
    "name": "ipython",
    "version": 3
   },
   "file_extension": ".py",
   "mimetype": "text/x-python",
   "name": "python",
   "nbconvert_exporter": "python",
   "pygments_lexer": "ipython3",
   "version": "3.10.3"
  }
 },
 "nbformat": 4,
 "nbformat_minor": 5
}
