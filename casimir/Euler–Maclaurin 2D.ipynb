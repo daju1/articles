{
 "cells": [
  {
   "cell_type": "code",
   "execution_count": 1,
   "metadata": {},
   "outputs": [],
   "source": [
    "def num_int(f, a, b):\n",
    "    from scipy import integrate\n",
    "\n",
    "    try:\n",
    "        integral = integrate.quad(f, a, b)\n",
    "\n",
    "        result = integral[0]\n",
    "        return result\n",
    "\n",
    "    except Exception as ex:\n",
    "\n",
    "        print (\"Exception ex = \", str(ex))\n",
    "        print (\"f = \", f)\n",
    "        try:\n",
    "            #print (\"integrand = \", get_integrand_view(f))\n",
    "            print (\"integrand = \", f(x))\n",
    "        except Exception as ex2:\n",
    "            print (\"Exception ex2 = \", ex2)\n",
    "        print (\"a, b = \", a, b)\n",
    "\n",
    "        import inspect\n",
    "        stack = inspect.stack()\n",
    "        for frame in stack:\n",
    "            func_name = frame[3]\n",
    "            print (\"func_name = \", func_name)\n",
    "        \n",
    "        raise ex"
   ]
  },
  {
   "cell_type": "code",
   "execution_count": 2,
   "metadata": {},
   "outputs": [],
   "source": [
    "logging = False\n",
    "\n",
    "calc_R_p=True\n",
    "\n",
    "use_int_R_p_j=True\n",
    "change_R_p_order=True\n",
    "use_int_R_p_shifted_first=True\n",
    "use_num_int = False\n",
    "\n",
    "def my_euler_maclaurin1(f,symb,a,b,p):\n",
    "    if logging:\n",
    "        print(\"f\", f)\n",
    "        print(\"symb,a,b\", symb, a, b)\n",
    "        print(\"\")\n",
    "\n",
    "\n",
    "    sum_dfdx_a_bernoullis = sum([(f.diff(symb,k-1))*(bernoulli(k)/factorial(k)) for k in range(1,1+p)])\n",
    "    if logging:\n",
    "        print(\"sum_dfdx_a_bernoullis\", sum_dfdx_a_bernoullis)\n",
    "        print(\"sum_dfdx_a_bernoullis(a)\", sum_dfdx_a_bernoullis.subs(symb == a))\n",
    "        if Infinity != b:\n",
    "            print(\"sum_dfdx_a_bernoullis(b)\", sum_dfdx_a_bernoullis.subs(symb == b))\n",
    "\n",
    "    if True:\n",
    "        B = lambda x, p : bernoulli_polynomial(x, p)\n",
    "        P = lambda x, p : bernoulli_polynomial(x - floor(x), p)\n",
    "        fact = lambda n : factorial(n)\n",
    "    else:\n",
    "        B = function(\"B\")(x,p)\n",
    "        P = function(\"P\")(x,p)\n",
    "        fact = function(\"fact\")(n)\n",
    "        \n",
    "    if True == calc_R_p:\n",
    "        # Can't calculate derivative wrt j + u.\n",
    "        #int_R_p = lambda j : integral(f.diff(symb,p).subs(symb == u+j) * bernoulli_polynomial(u,p)/factorial(p), (u,0,1))\n",
    "        def int_R_p(f,symb,j):\n",
    "            v = var(\"v\")            \n",
    "            deriv = f.diff(symb,p)\n",
    "            if logging:\n",
    "                print(\"deriv\", deriv)\n",
    "            deriv_s = deriv.subs(symb == v+j)\n",
    "            if logging:\n",
    "                print(\"deriv_s\", deriv_s)\n",
    "            int_f_diff_B_fact = integral(deriv_s * bernoulli_polynomial(v,p)/factorial(p), (v,0,1))\n",
    "            if logging:\n",
    "                print(\"int_f_diff_B_fact\", int_f_diff_B_fact)\n",
    "            return int_f_diff_B_fact\n",
    "        \n",
    "        def int_R_p_shifted_first(f,symb,j):\n",
    "            v = var(\"v\")\n",
    "            fn_shifted = f.subs(symb == v + j)\n",
    "            if logging:\n",
    "                print(\"fn_shifted\", fn_shifted)\n",
    "            deriv = fn_shifted.diff(v,p)\n",
    "            if logging:\n",
    "                print(\"deriv\", deriv)\n",
    "            int_f_diff_B_fact = integral(deriv * B(x=v,p=p)/fact(n=p), (v,0,1))\n",
    "    \n",
    "            if logging:\n",
    "                print(\"int_f_diff_B_fact\", int_f_diff_B_fact)\n",
    "\n",
    "            return int_f_diff_B_fact\n",
    "\n",
    "        if logging:\n",
    "            print(\"int_R_p(j = a)\", int_R_p(f,symb,j = a))\n",
    "            \n",
    "        if use_int_R_p_j:\n",
    "            v, j = var(\"v, j\")\n",
    "            assume(j>0)\n",
    "            if change_R_p_order:\n",
    "                # Change order of summation and integration\n",
    "                if use_int_R_p_shifted_first:\n",
    "                    R_p = (-1)^(p+1)*integral(sum(f.subs(symb == v+j).diff(v,p)*B(x=v,p=p)/fact(n=p), \\\n",
    "                                                  j, a, b-1), \\\n",
    "                                              (v,0,1))\n",
    "                else:\n",
    "                    R_p = (-1)^(p+1)*integral(sum(f.diff(symb,p).subs(symb == v+j)*B(x=v,p=p)/fact(n=p), \\\n",
    "                                                  j, a, b-1), \\\n",
    "                                              (v,0,1))\n",
    "            else:\n",
    "                if use_int_R_p_shifted_first:\n",
    "                    R_p = (-1)^(p+1)*sum(int_R_p_shifted_first(f,symb,j=j), j, a, b-1)\n",
    "                else:\n",
    "                    R_p = (-1)^(+1)*sum(int_R_p(f,symb,j=j), j, a, b-1)\n",
    "                \n",
    "        else:\n",
    "            if not use_num_int:\n",
    "                R_p = (-1)^(p+1)*integral(f.diff(symb,p) * P(x=symb,p=p)/fact(n=p),(symb,a,b),hold=True)\n",
    "            else:\n",
    "                R_p = (-1)^(p+1)*num_int(lambda symb : f.diff(symb,p) * P(x=symb,p=p)/fact(n=p), a, b)\n",
    "                \n",
    "\n",
    "    int_fn_a_b = integral(f, (symb, a, b))\n",
    "    if logging:\n",
    "        print(\"int_fn_a_b\", int_fn_a_b)\n",
    "    \n",
    "    s = int_fn_a_b - sum_dfdx_a_bernoullis.subs(symb == a)\n",
    "    if Infinity != b:\n",
    "        s += sum_dfdx_a_bernoullis.subs(symb == b)\n",
    "    if True == calc_R_p:\n",
    "        s += R_p\n",
    "        \n",
    "    if False:\n",
    "        print(\"int_fn_a_b\", int_fn_a_b)\n",
    "        print(\"sum_dfdx_a_bernoullis(a)\", sum_dfdx_a_bernoullis(a))\n",
    "        if Infinity != b:\n",
    "            print(\"sum_dfdx_a_bernoullis(b)\", sum_dfdx_a_bernoullis(b))\n",
    "        if True == calc_R_p:\n",
    "            print(\"int_R_p(j = a)\", int_R_p(j = a))\n",
    "            print(\"R_p\", R_p)\n",
    "        print(\"\")\n",
    "        print(\"s\",s)\n",
    "    return s"
   ]
  },
  {
   "cell_type": "markdown",
   "metadata": {},
   "source": [
    "$${\\displaystyle \\sum _{i=a}^{b}f(i)=\\int _{a}^{b}f(x)\\,dx+{\\frac {f(a)+f(b)}{2}}+\\sum _{k=1}^{\\lfloor p/2\\rfloor }{\\frac {B_{2k}}{(2k)!}}(f^{(2k-1)}(b)-f^{(2k-1)}(a))+R_{p},}$$"
   ]
  },
  {
   "cell_type": "markdown",
   "metadata": {},
   "source": [
    "$${\\displaystyle \\sum _{i=a}^{b}f(i)=\\int _{a}^{b}f(x)\\,dx+\\sum _{k=1}^{\\lfloor p/2\\rfloor }{\\frac {B_{k}}{(k)!}}(f^{(k-1)}(b)-f^{(k-1)}(a))+R_{p},}$$"
   ]
  },
  {
   "cell_type": "markdown",
   "metadata": {},
   "source": [
    "$${\\displaystyle R_{p}=(-1)^{p+1}\\sum_{j=a}^{b-1} \\int _{0}^{1}f^{(p)}(v+j){\\frac {B_{p}(v)}{p!}}\\,dv.}$$"
   ]
  },
  {
   "cell_type": "markdown",
   "metadata": {},
   "source": [
    "$${\\displaystyle P_{k}(x)=B_{k}(x-\\lfloor x\\rfloor ),}$$\n",
    "\n",
    "$${\\displaystyle R_{p}=(-1)^{p+1}\\int _{a}^{b}f^{(p)}(x){\\frac {P_{p}(x)}{p!}}\\,dx.}$$"
   ]
  },
  {
   "cell_type": "code",
   "execution_count": 3,
   "metadata": {},
   "outputs": [],
   "source": [
    "# https://www.journals.vu.lt/LMJ/article/view/20600/19701\n",
    "# ФОРМУЛА СУММИРОВАНИЯ ЭЙЛЕРА—МАКЛОРЕНА ДЛЯ ФУНКЦИИ МНОГИХ ПЕРЕМЕННЫХ А.БИКЯЛИС\n",
    "# VIII LIETUVOS MATEMATIKOS RINKINYS 4\n",
    "# ЛИТОВСКИЙ МАТЕМАТИЧЕСКИЙ СБОРНИК\n",
    "# 1968\n",
    "\n",
    "# Далее,обе стороны этого равенства суммируем по всем целым m2 из интервала(z2,y2). Получаем\n",
    "\n",
    "if True:\n",
    "    B = lambda x, p : bernoulli_polynomial(x, p)\n",
    "    P = lambda x, p : bernoulli_polynomial(x - floor(x), p)\n",
    "    fact = lambda n : factorial(n)\n",
    "else:\n",
    "    B = function(\"B\")(x,p)\n",
    "    P = function(\"P\")(x,p)\n",
    "    fact = function(\"fact\")(n)\n",
    "\n",
    "def integral_R_p(f,symb,jx,hold):\n",
    "    vx = var(\"v_\"+str(symb))\n",
    "    deriv = f.diff(symb,p)\n",
    "    if logging:\n",
    "        print(\"deriv\", deriv)\n",
    "\n",
    "    deriv_subs = deriv.subs(symb == vx+jx)\n",
    "    if logging:\n",
    "        print(\"deriv_subs\", deriv_subs)\n",
    "\n",
    "    int_f_diff_B_fact = integral(deriv_subs * bernoulli_polynomial(vx,p)/factorial(p), (vx,0,1), hold=hold)\n",
    "    if logging:\n",
    "        print(\"int_f_diff_B_fact\", int_f_diff_B_fact)\n",
    "\n",
    "    return int_f_diff_B_fact\n",
    "\n",
    "def integral_R_p_shifted_first(f,symb,jx,hold):\n",
    "    vx = var(\"v_\"+str(symb))\n",
    "    fn_shifted = f.subs(symb == vx + jx)\n",
    "    if logging:\n",
    "        print(\"fn_shifted\", fn_shifted)\n",
    "\n",
    "    deriv = fn_shifted.diff(vx,p)\n",
    "    if logging:\n",
    "        print(\"deriv\", deriv)\n",
    "\n",
    "    int_f_diff_B_fact = integral(deriv * B(x=vx,p=p)/fact(n=p), (vx, 0, 1), hold=hold)\n",
    "\n",
    "    if logging:\n",
    "        print(\"int_f_diff_B_fact\", int_f_diff_B_fact)\n",
    "\n",
    "    return int_f_diff_B_fact\n",
    "    \n",
    "    \n",
    "def euler_maclaurin_R_p(f,symb,a,b,p, hold_int=True, hold_sum=True):\n",
    "    if logging:\n",
    "        print(\"f\", f)\n",
    "        print(\"symb,a,b\", symb, a, b)\n",
    "        print(\"\")\n",
    "    if use_int_R_p_j:\n",
    "        jx = var('j_'+str(symb))\n",
    "        assume(jx>0)\n",
    "        \n",
    "        if change_R_p_order:\n",
    "            # Change order of summation and integration\n",
    "            if use_int_R_p_shifted_first:\n",
    "                R_p = (-1)^(p+1)*integral(sum(f.subs(symb == v+j).diff(v,p)*B(x=v,p=p)/fact(n=p), \\\n",
    "                                              j, a, b-1, hold=hold_sum), \\\n",
    "                                          (v,0,1), hold=hold_int)\n",
    "            else:\n",
    "                R_p = (-1)^(p+1)*integral(sum(f.diff(symb,p).subs(symb == v+j)*B(x=v,p=p)/fact(n=p), \\\n",
    "                                              j, a, b-1, hold=hold_sum), \\\n",
    "                                          (v,0,1), hold=hold_int)\n",
    "        else:       \n",
    "            if use_int_R_p_shifted_first:\n",
    "                term = (-1)^(p+1)*integral_R_p_shifted_first(f=f, symb=symb, jx=jx, hold=hold_int)\n",
    "                R_p = sum(term, jx, a, b-1, hold=hold_sum)\n",
    "            else:\n",
    "                term = (-1)^(p+1)*integral_R_p(f=f, symb=symb, jx=jx, hold=hold_int)\n",
    "                R_p = sum(term, jx, a, b-1, hold=hold_sum)\n",
    "            return R_p, term\n",
    "    else:\n",
    "        if not use_num_int:\n",
    "            R_p = (-1)^(p+1)*integral(f.diff(symb,p) * P(x=symb,p=p)/fact(n=p),(symb,a,b),hold=hold_int)\n",
    "        else:\n",
    "            R_p = (-1)^(p+1)*num_int(lambda symb: f.diff(symb,p) * P(x=symb,p=p)/fact(n=p), a, b)\n",
    "            \n",
    "    return R_p"
   ]
  },
  {
   "cell_type": "markdown",
   "metadata": {},
   "source": [
    "$$\\sum _{k=1}^{\\lfloor p/2\\rfloor }{\\frac {B_{k}}{(k)!}}(f^{(k-1)}(b)-f^{(k-1)}(a))$$"
   ]
  },
  {
   "cell_type": "code",
   "execution_count": 4,
   "metadata": {},
   "outputs": [],
   "source": [
    "def sum_dfdx_bernoulis(f,symb,a,b,p):\n",
    "    dfdx_a_bernoullis = []\n",
    "    for k in range(1,1+p):\n",
    "        dfdx_a_bernoullis += [(f.diff(symb,k-1))*(bernoulli(k)/factorial(k))]\n",
    "        \n",
    "    sum_dfdx_a_bernoullis = sum(dfdx_a_bernoullis)\n",
    "\n",
    "    if logging:\n",
    "        print(\"sum_dfdx_a_bernoullis\", sum_dfdx_a_bernoullis)\n",
    "        print(\"sum_dfdx_a_bernoullis(a)\", sum_dfdx_a_bernoullis.subs(symb == a))\n",
    "        if Infinity != b:\n",
    "            print(\"sum_dfdx_a_bernoullis(b)\", sum_dfdx_a_bernoullis.subs(symb == b))\n",
    "\n",
    "    s = - sum_dfdx_a_bernoullis.subs(symb == a)\n",
    "    if Infinity != b:\n",
    "        s += sum_dfdx_a_bernoullis.subs(symb == b)\n",
    "    return s\n",
    "\n",
    "def definite_integral_derivative(f, x, a, b, diff_param, hold=True):\n",
    "    from sage.symbolic.integration.integral import definite_integral\n",
    "\n",
    "    if not x.has(diff_param):\n",
    "        # integration variable != differentiation variable\n",
    "        ans = definite_integral(f.diff(diff_param), x, a, b, hold=hold)\n",
    "    else:\n",
    "        ans = SR.zero()\n",
    "\n",
    "    if hasattr(b, 'diff'):\n",
    "        if b.diff(diff_param) != 0:\n",
    "            ans += f.subs(x == b) * b.diff(diff_param)\n",
    "    if hasattr(a, 'diff'):\n",
    "        if a.diff(diff_param) != 0:\n",
    "            ans -= f.subs(x == a) * a.diff(diff_param)\n",
    "\n",
    "    return ans\n"
   ]
  },
  {
   "cell_type": "markdown",
   "metadata": {},
   "source": [
    "$$\\sum _{k=1}^{\\lfloor p/2\\rfloor }{\\frac {B_{k}}{(k)!}}(g(y)^{(k-1)}(b_y)-g(y)^{(k-1)}(a_y))$$\n",
    "where "
   ]
  },
  {
   "cell_type": "markdown",
   "metadata": {},
   "source": [
    "$$g(y) = {\\displaystyle R_{p}(y)=(-1)^{p+1}\\sum_{j=a_x}^{b_x-1} \\int _{0}^{1}\\frac{\\partial^{p}}{\\partial x^{p}}f(v_x+j,y){\\frac {B_{p}(v_x)}{p!}}\\,dv_x.}$$\n",
    "or"
   ]
  },
  {
   "cell_type": "markdown",
   "metadata": {},
   "source": [
    "$${\\displaystyle P_{k}(x)=B_{k}(x-\\lfloor x\\rfloor ),}$$\n",
    "\n",
    "$$g(y) = {\\displaystyle R_{p}=(-1)^{p+1}\\int _{a_x}^{b_x}\\frac{\\partial^{p}}{\\partial x^{p}}f(x,y){\\frac {P_{p}(x)}{p!}}\\,dx.}$$"
   ]
  },
  {
   "cell_type": "code",
   "execution_count": 5,
   "metadata": {},
   "outputs": [],
   "source": [
    "#int_R_p = integral(euler_maclaurin_R_p(f(x,y), x, a_x, b_x,p), (y, a_y, b_y), hold=True)\n",
    "\n",
    "def integral_euler_maclaurin_R_p(f, x, a_x, b_x, y, a_y, b_y, p, hold_int=True, hold_sum=True):\n",
    "    if logging:\n",
    "        print(\"f\", f)\n",
    "        print(\"\")\n",
    "    if use_int_R_p_j:\n",
    "        jx = var('j_x')\n",
    "        assume(jx>0)\n",
    "        \n",
    "        if change_R_p_order:\n",
    "            # Change order of summation and integration\n",
    "            if use_int_R_p_shifted_first:\n",
    "                int_R_p = (-1)^(p+1)*integral(integral(sum(f.subs(x == v+j).diff(v,p)*B(x=v,p=p)/fact(n=p), \\\n",
    "                                              j, a_x, b_x-1, hold=hold_sum), \\\n",
    "                                          (v,0,1), hold=hold_int), y, a_y, b_y, hold=hold_int)\n",
    "            else:\n",
    "                int_R_p = (-1)^(p+1)*integral(integral(sum(f.diff(x,p).subs(x == v+j)*B(x=v,p=p)/fact(n=p), \\\n",
    "                                              j, a_x, b_x-1, hold=hold_sum), \\\n",
    "                                          (v,0,1), hold=hold_int), y, a_y, b_y, hold=hold_int)\n",
    "        else:       \n",
    "            if use_int_R_p_shifted_first:\n",
    "                int_int = (-1)^(p+1)*integral(integral_R_p_shifted_first(f=f, symb=x, jx=jx, hold=hold_int), y, a_y, b_y, hold=hold_int)\n",
    "                int_R_p = sum(int_int, jx, a_x, b_x-1, hold=hold_sum)\n",
    "            else:\n",
    "                int_int = (-1)^(p+1)*integral(integral_R_p(f=f, symb=x, jx=jx, hold=hold_int), y, a_y, b_y, hold=hold_int)\n",
    "                int_R_p = sum(int_int, jx, a_x, b_x-1, hold=hold_sum)\n",
    "            return (int_R_p, int_int)\n",
    "    else:\n",
    "        if not use_num_int:\n",
    "            int_R_p = (-1)^(p+1)*integral(integral(f.diff(x,p) * P(x=x,p=p)/fact(n=p),(x,a_x,b_x),hold=hold_int), y, a_y, b_y, hold=hold_int)\n",
    "        else:\n",
    "            int_R_p = (-1)^(p+1)*num_int(lambda y : num_int(lambda x : f.diff(x,p) * P(x=x,p=p)/fact(n=p), a_x, b_x), a_y, b_y)\n",
    "            \n",
    "    return int_R_p"
   ]
  },
  {
   "cell_type": "code",
   "execution_count": 6,
   "metadata": {},
   "outputs": [],
   "source": [
    "#sum_R_p = sum_dfdx_bernoulis(euler_maclaurin_R_p(F(x,y), x, a_x, b_x,p), y, a_y, b_y, p)\n",
    "def sum_dfdx_bernoulis_euler_maclaurin_R_p(f, x, a_x, b_x, y, a_y, b_y, p):\n",
    "    if logging:\n",
    "        print(\"sum_dfdx_bernoulis_euler_maclaurin_R_p\", f, x, a_x, b_x, y, a_y, b_y, p)\n",
    "    dfdx_a_bernoullis = []\n",
    "    dfdx_a_bernoullis_terms = []\n",
    "    from sage.calculus.calculus import symbolic_sum\n",
    "    from sage.symbolic.integration.integral import definite_integral\n",
    "    \n",
    "    for k in range(1,1+p):\n",
    "        if 1 == k:\n",
    "            if use_int_R_p_j:\n",
    "                vx, jx = var(\"v_x, j_x\")\n",
    "                term_1 = lambda y_symb, y_val, jx : (-1)^(p+1)*definite_integral(f(x,y_symb).diff(x,p) \\\n",
    "                                                                                 .subs(x == vx + jx) \\\n",
    "                                                                      * B(x=vx,p=p)/fact(n=p),vx,0,1,hold=False) \\\n",
    "                                                                                .subs(y_symb == y_val)\n",
    "                \n",
    "                if logging:\n",
    "                    print(\"term_1(y_symb=y, y_val=a_y,jx=a_x) =\", term_1(y_symb=y, y_val=a_y,jx=a_x))\n",
    "                R_p = lambda y_symb, y_val : symbolic_sum(expression=term_1(y_symb=y_symb, y_val=y_val, jx=jx), \\\n",
    "                                                                     v=jx, a=a_x, b=b_x-1)\n",
    "                dfdx_a_bernoullis_terms += [lambda y_symb, y_val, jx, i=i : term_1(y_symb=y_symb, y_val=y_val, jx=jx)]\n",
    "            else:\n",
    "                term_1 = lambda y_symb, y_val : definite_integral(f(x,y_symb).diff(x,p) * P(x=x,p=p)/fact(n=p), \\\n",
    "                                                                  x, a_x, b_x, hold=True)\n",
    "                if logging:\n",
    "                    print(\"term_1(y_symb=y, y_val=a_y) =\", term_1(y_symb=y, y_val=a_y))\n",
    "                R_p = lambda y_symb, y_val : (-1)^(p+1)*term_1(y_symb, y_val)\n",
    "                \n",
    "            if logging:\n",
    "                print(\"R_p(y_symb=y, y_val=a_y) =\", R_p(y_symb=y, y_val=a_y))\n",
    "            dfdx_a_bernoullis += [lambda y_symb, y_val, i=i : R_p(y_symb, y_val)]\n",
    "            \n",
    "        elif 2 == k:\n",
    "            if use_int_R_p_j:\n",
    "                vx, jx = var(\"v_x, j_x\")\n",
    "                term_2 = lambda y_symb, y_val, jx : (-1)^(p+1)*definite_integral_derivative(f=f(x,y_symb).diff(x,p) \\\n",
    "                                                                                 .subs(x == vx + jx) \\\n",
    "                                        * B(x=vx,p=p)/fact(n=p), x=vx, a=0, b=1, diff_param=y_symb, hold=False) \\\n",
    "                                                                                .subs(y_symb == y_val)\n",
    "\n",
    "                if logging:\n",
    "                    print(\"term_2(y_symb=y, y_val=a_y,jx=a_x) =\", term_2(y_symb=y, y_val=a_y,jx=a_x))\n",
    "\n",
    "                R_p = lambda y_symb, y_val : symbolic_sum(expression=term_2(y_symb=y_symb, y_val=y_val, jx=jx), \\\n",
    "                                                                 v=jx, a=a_x, b=b_x-1)\n",
    "                dfdx_a_bernoullis_terms += [lambda y_symb, y_val, jx, i=i : term_2(y_symb=y_symb, y_val=y_val, jx=jx)]\n",
    "            else:\n",
    "                term_2 = lambda y_symb, y_val : definite_integral_derivative(f=f(x,y_symb).diff(x,p) \\\n",
    "                                            * P(x=x,p=p)/fact(n=p), x=x, a=a_x, b=b_x, diff_param=y_symb)\n",
    "\n",
    "                if logging:\n",
    "                    print(\"term_2(y_symb=y, y_val=a_y) =\", term_2(y_symb=y, y_val=a_y))\n",
    "\n",
    "                R_p = lambda y_symb, y_val : (-1)^(p+1)*term_2(y_symb, y_val)\n",
    "                \n",
    "            if logging:\n",
    "                print(\"R_p(y_symb=y, y_val=a_y) =\", R_p(y_symb=y, y_val=a_y))\n",
    "            dfdx_a_bernoullis += [lambda y_symb, y_val, i=i : R_p(y_symb, y_val)]\n",
    "        else:\n",
    "            if use_int_R_p_j:\n",
    "                vx, jx = var(\"v_x, j_x\")\n",
    "                term_3 = lambda y_symb, y_val, jx : (-1)^(p+1)*definite_integral_derivative(f=f(x,y_symb).diff(x,p) \\\n",
    "                                                                                 .subs(x == vx + jx) \\\n",
    "                                        * B(x=vx,p=p)/fact(n=p), x=vx, a=0, b=1, diff_param=y_symb, hold=False) \\\n",
    "                                            .diff(y_symb, k-2) .subs(y_symb == y_val)\n",
    "\n",
    "                if logging:\n",
    "                    print(\"term_3(y_symb=y, y_val=a_y,jx=a_x) =\", term_3(y_symb=y, y_val=a_y,jx=a_x))\n",
    "                R_p = lambda y_symb, y_val : symbolic_sum(expression=term_3(y_symb=y_symb, y_val=y_val, jx=jx), \\\n",
    "                                                                 v=jx, a=a_x, b=b_x-1)\n",
    "                dfdx_a_bernoullis_terms += [lambda y_symb, y_val, jx, i=i : term_3(y_symb=y_symb, y_val=y_val, jx=jx)]\n",
    "            else:\n",
    "                term_3 = lambda y_symb, y_val : definite_integral_derivative(f=f(x,y_symb).diff(x,p) \\\n",
    "                                                    * P(x=x,p=p)/fact(n=p), x=x, a=a_x, b=b_x, diff_param=y_symb) \\\n",
    "                                                    .diff(y_symb, k-2)\n",
    "\n",
    "                if logging:\n",
    "                    print(\"term_3(y_symb=y, y_val=a_y,jx=a_x) =\", term_3(y_symb=y, y_val=a_y,jx=a_x))\n",
    "                R_p = lambda y_symb, y_val : (-1)^(p+1)*term_3(y_symb, y_val)\n",
    "                \n",
    "            if logging:\n",
    "                print(\"R_p(y_symb=y, y_val=a_y) =\", R_p(y_symb=y, y_val=a_y))\n",
    "            dfdx_a_bernoullis += [lambda y_symb, y_val, i=i : R_p(y_symb, y_val)]\n",
    "\n",
    "    if logging:\n",
    "        print(\"dfdx_a_bernoullis =\", dfdx_a_bernoullis)\n",
    "        print(\"len(dfdx_a_bernoullis) =\", len(dfdx_a_bernoullis))\n",
    "\n",
    "    sum_dfdx_a_bernoullis = lambda y_symb, y_val : sum([dfdx_a_bernoullis[i](y_symb, y_val) \\\n",
    "                                                      for i in range(len(dfdx_a_bernoullis))])\n",
    "    \n",
    "    sum_dfdx_a_bernoullis_terms = lambda y_symb, y_val, jx : sum([dfdx_a_bernoullis_terms[i](y_symb, y_val, jx) \\\n",
    "                                                               for i in range(len(dfdx_a_bernoullis_terms))])\n",
    "    \n",
    "    if logging:\n",
    "        print(\"sum_dfdx_a_bernoullis =\", sum_dfdx_a_bernoullis)\n",
    "        print(\"sum_dfdx_a_bernoullis(a_y) =\", sum_dfdx_a_bernoullis(y_symb=y, y_val=a_y))\n",
    "    \n",
    "    s = - sum_dfdx_a_bernoullis(y_symb=y, y_val=a_y)\n",
    "    if b_y is Infinity:\n",
    "        s_terms = lambda jx : - sum_dfdx_a_bernoullis_terms(y_symb=y, y_val=a_y, jx=jx)\n",
    "    else:\n",
    "        s += sum_dfdx_a_bernoullis(y_symb=y, y_val=b_y)\n",
    "        s_terms = lambda jx : sum_dfdx_a_bernoullis_terms(y_symb=y, y_val=b_y, jx=jx) - sum_dfdx_a_bernoullis_terms(y_symb=y, y_val=a_y, jx=jx)\n",
    "    return s, s_terms"
   ]
  },
  {
   "cell_type": "markdown",
   "metadata": {},
   "source": [
    "$${\\displaystyle R_{p}=(-1)^{p+1}\\sum_{j=a_y}^{b_y-1} \\int _{0}^{1}g^{(p)}(v_y+j){\\frac {B_{p}(v_y)}{p!}}\\,dv_y.}$$"
   ]
  },
  {
   "cell_type": "markdown",
   "metadata": {},
   "source": [
    "$${\\displaystyle P_{k}(y)=B_{k}(y-\\lfloor y\\rfloor ),}$$\n",
    "\n",
    "$${\\displaystyle R_{p}=(-1)^{p+1}\\int _{a_y}^{b_y}g^{(p)}(y){\\frac {P_{p}(y)}{p!}}\\,dy.}$$\n",
    "\n",
    "where"
   ]
  },
  {
   "cell_type": "markdown",
   "metadata": {},
   "source": [
    "$$g(y) = {\\displaystyle R_{p}(y)=(-1)^{p+1}\\sum_{j=a_x}^{b_x-1} \\int _{0}^{1}\\frac{\\partial^{p}}{\\partial x^{p}}f(v_x+j,y){\\frac {B_{p}(v_x)}{p!}}\\,dv_x.}$$\n",
    "or"
   ]
  },
  {
   "cell_type": "markdown",
   "metadata": {},
   "source": [
    "$${\\displaystyle P_{k}(x)=B_{k}(x-\\lfloor x\\rfloor ),}$$\n",
    "\n",
    "$$g(y) = {\\displaystyle R_{p}=(-1)^{p+1}\\int _{a_x}^{b_x}\\frac{\\partial^{p}}{\\partial x^{p}}f(x,y){\\frac {P_{p}(x)}{p!}}\\,dx.}$$"
   ]
  },
  {
   "cell_type": "code",
   "execution_count": 7,
   "metadata": {},
   "outputs": [],
   "source": [
    "#R_p_R_p = euler_maclaurin_R_p(euler_maclaurin_R_p(F(x,y), x, a_x, b_x,p), y, a_y, b_y, p)\n",
    "def euler_maclaurin_R_p_euler_maclaurin_R_p(f, x, a_x, b_x, y, a_y, b_y, p):\n",
    "\n",
    "    from sage.calculus.calculus import symbolic_sum\n",
    "    from sage.symbolic.integration.integral import definite_integral\n",
    "    if use_int_R_p_j:\n",
    "        vx,vy = var(\"v_x, v_y\")\n",
    "        jx,jy = var(\"j_x, j_y\")\n",
    "        assume(v_y+j_y>0)\n",
    "\n",
    "        R_p_R_p = (-1)^(p+1)*symbolic_sum(definite_integral( \\\n",
    "                               (-1)^(p+1)*symbolic_sum(definite_integral(f.diff(x,p).subs(x == vx + jx)  \\\n",
    "                                                              * B(x=vx,p=p)/fact(n=p), \\\n",
    "                                 vx,0,1,hold=True), v=jx, a=a_x, b=b_x-1,hold=True) \\\n",
    "                                                                        .diff(y,p).subs(y == vy + jy)  \\\n",
    "                                                              * B(x=vy,p=p)/fact(n=p), \\\n",
    "                                 vy,0,1,hold=True), v=jy, a=a_y, b=b_y-1,hold=True)\n",
    "    else:\n",
    "        if not use_num_int:\n",
    "            R_p_R_p = (-1)^(p+1)*definite_integral( \\\n",
    "                               (-1)^(p+1)*definite_integral(f.diff(x,p)  \\\n",
    "                                                              * P(x=x,p=p)/fact(n=p), \\\n",
    "                                 x, a_x, b_x, hold=True).diff(y,p)  \\\n",
    "                                                              * P(x=y,p=p)/fact(n=p), \\\n",
    "                                 y, a_y, b_y, hold=True)\n",
    "        else:\n",
    "            exec(preparse(\"f_diff_x_diff_y = lambda x,y:\" + str(f(x,y).diff(x,p).diff(y,p))))\n",
    "            R_p_R_p = (-1)^(p+1)*num_int(lambda y : \\\n",
    "                               (-1)^(p+1)*num_int(lambda x : f_diff_x_diff_y(x,y)  \\\n",
    "                                                              * P(x=x,p=p)/fact(n=p), \\\n",
    "                                 a_x, b_x)  \\\n",
    "                                                              * P(x=y,p=p)/fact(n=p), \\\n",
    "                                 a_y, b_y)\n",
    "        \n",
    "    return R_p_R_p"
   ]
  },
  {
   "cell_type": "code",
   "execution_count": 8,
   "metadata": {},
   "outputs": [],
   "source": [
    "#R_p_R_p = euler_maclaurin_R_p(euler_maclaurin_R_p(F(x,y), x, a_x, b_x,p), y, a_y, b_y, p)\n",
    "def euler_maclaurin_R_p_euler_maclaurin_R_p_num_int(f_diff_x_diff_y, x, a_x, b_x, y, a_y, b_y, p):\n",
    "    R_p_R_p = (-1)^(p+1)*num_int(lambda y : \\\n",
    "                       (-1)^(p+1)*num_int(lambda x : f_diff_x_diff_y(x,y)  \\\n",
    "                                                      * P(x=x,p=p)/fact(n=p), \\\n",
    "                         a_x, b_x)  \\\n",
    "                                                      * P(x=y,p=p)/fact(n=p), \\\n",
    "                         a_y, b_y)\n",
    "    return R_p_R_p"
   ]
  },
  {
   "cell_type": "code",
   "execution_count": 9,
   "metadata": {},
   "outputs": [],
   "source": [
    "def euler_maclaurin1(f, symb, a, b, p, hold_int=True, hold_sum=True):\n",
    "    if logging:\n",
    "        print(\"f\", f)\n",
    "        print(\"symb,a,b\", symb, a, b)\n",
    "        print(\"\")\n",
    "    #u, j = var(\"u, j\")\n",
    "\n",
    "    int_fn_a_b = integral(f, (symb, a, b))\n",
    "    if logging:\n",
    "        print(\"int_fn_a_b\", int_fn_a_b)\n",
    "    \n",
    "    #s = int_fn_a_b + sum_dfdx_a_bernoullis(b) - sum_dfdx_a_bernoullis(a) + R_p\n",
    "    s = int_fn_a_b + sum_dfdx_bernoulis(f,symb,a,b,p)\n",
    "    \n",
    "    if True == calc_R_p:\n",
    "        R_p = euler_maclaurin_R_p(f, symb, a, b, p, hold_int=hold_int, hold_sum=hold_sum)\n",
    "        if type(R_p) is tuple:\n",
    "            s += R_p[0]\n",
    "        else:\n",
    "            s += R_p\n",
    "\n",
    "    return s"
   ]
  },
  {
   "cell_type": "code",
   "execution_count": 10,
   "metadata": {},
   "outputs": [],
   "source": [
    "from IPython.display import display, Math, Latex"
   ]
  },
  {
   "cell_type": "code",
   "execution_count": 11,
   "metadata": {},
   "outputs": [
    {
     "name": "stdout",
     "output_type": "stream",
     "text": [
      "F(x, y)\n"
     ]
    }
   ],
   "source": [
    "a_x = var(\"n_x\")\n",
    "b_x = var(\"b_x\")\n",
    "a_y = var(\"n_y\")\n",
    "b_y = var(\"b_y\")\n",
    "\n",
    "assume(a_x, 'real')\n",
    "assume(b_x, 'real')\n",
    "assume(a_y, 'real')\n",
    "assume(b_y, 'real')\n",
    "\n",
    "assume(a_x, 'integer')\n",
    "assume(b_x, 'integer')\n",
    "assume(a_y, 'integer')\n",
    "assume(b_y, 'integer')\n",
    "\n",
    "assume(a_x > 0)\n",
    "assume(b_x > 0)\n",
    "assume(a_y > 0)\n",
    "assume(b_y > 0)\n",
    "\n",
    "x,y = var(\"x,y\")\n",
    "\n",
    "n = QQ['n'].0\n",
    "j = QQ['j'].0\n",
    "\n",
    "p = 4\n",
    "p = 2\n",
    "p = 1\n",
    "\n",
    "F = function(\"F\")(x, y)\n",
    "print(F)"
   ]
  },
  {
   "cell_type": "code",
   "execution_count": 12,
   "metadata": {},
   "outputs": [
    {
     "name": "stdout",
     "output_type": "stream",
     "text": [
      "\n",
      "Can't calculate derivative wrt j + v.\n"
     ]
    },
    {
     "data": {
      "text/latex": [
       "$\\displaystyle \\frac{1}{2} \\, F\\left(n_{x}, y\\right) + \\int_{0}^{1} v {\\sum_{j=n_{x}}^{b_{x} - 1} \\mathrm{D}_{0}\\left(F\\right)\\left(j + v, y\\right)} - \\frac{1}{2} \\, {\\sum_{j=n_{x}}^{b_{x} - 1} \\mathrm{D}_{0}\\left(F\\right)\\left(j + v, y\\right)}\\,{d v} + \\int_{n_{x}}^{b_{x}} F\\left(x, y\\right)\\,{d x}$"
      ],
      "text/plain": [
       "<IPython.core.display.Math object>"
      ]
     },
     "metadata": {},
     "output_type": "display_data"
    }
   ],
   "source": [
    "ans = my_euler_maclaurin1(F(x,y),x,a_x,b_x,p)\n",
    "display(Math(latex(ans)))"
   ]
  },
  {
   "cell_type": "code",
   "execution_count": 13,
   "metadata": {},
   "outputs": [
    {
     "data": {
      "text/latex": [
       "$\\displaystyle \\frac{1}{2} \\, F\\left(n_{x}, y\\right) + \\int_{n_{x}}^{b_{x}} F\\left(x, y\\right)\\,{d x} + \\int_{0}^{1} {\\sum_{j=n_{x}}^{b_{x} - 1} \\frac{1}{2} \\, {\\left(2 \\, v - 1\\right)} \\mathrm{D}_{0}\\left(F\\right)\\left(j + v, y\\right)}\\,{d v}$"
      ],
      "text/plain": [
       "<IPython.core.display.Math object>"
      ]
     },
     "metadata": {},
     "output_type": "display_data"
    }
   ],
   "source": [
    "ans = euler_maclaurin1(F(x,y),x,a_x,b_x,p)\n",
    "display(Math(latex(ans)))"
   ]
  },
  {
   "cell_type": "code",
   "execution_count": 14,
   "metadata": {},
   "outputs": [
    {
     "name": "stdout",
     "output_type": "stream",
     "text": [
      "\n",
      "Can't calculate derivative wrt j + v.\n"
     ]
    },
    {
     "data": {
      "text/latex": [
       "$\\displaystyle \\frac{1}{2} \\, F\\left(n_{x}, y\\right) + \\int_{0}^{1} v {\\sum_{j=n_{x}}^{b_{x} - 1} \\mathrm{D}_{0}\\left(F\\right)\\left(j + v, y\\right)} - \\frac{1}{2} \\, {\\sum_{j=n_{x}}^{b_{x} - 1} \\mathrm{D}_{0}\\left(F\\right)\\left(j + v, y\\right)}\\,{d v} + \\int_{n_{x}}^{b_{x}} F\\left(x, y\\right)\\,{d x}$"
      ],
      "text/plain": [
       "<IPython.core.display.Math object>"
      ]
     },
     "metadata": {},
     "output_type": "display_data"
    }
   ],
   "source": [
    "ans = my_euler_maclaurin1(F(x,y),x,a_x,b_x,p)\n",
    "display(Math(latex(ans)))"
   ]
  },
  {
   "cell_type": "code",
   "execution_count": 15,
   "metadata": {},
   "outputs": [
    {
     "data": {
      "text/latex": [
       "$\\displaystyle \\frac{1}{2} \\, F\\left(n_{x}, y\\right) + \\int_{n_{x}}^{b_{x}} F\\left(x, y\\right)\\,{d x} + \\int_{0}^{1} {\\sum_{j=n_{x}}^{b_{x} - 1} \\frac{1}{2} \\, {\\left(2 \\, v - 1\\right)} \\mathrm{D}_{0}\\left(F\\right)\\left(j + v, y\\right)}\\,{d v}$"
      ],
      "text/plain": [
       "<IPython.core.display.Math object>"
      ]
     },
     "metadata": {},
     "output_type": "display_data"
    }
   ],
   "source": [
    "ans = euler_maclaurin1(F(x,y),x,a_x,b_x,p)\n",
    "display(Math(latex(ans)))"
   ]
  },
  {
   "cell_type": "markdown",
   "metadata": {},
   "source": [
    "$${\\displaystyle R_{p}=(-1)^{p+1}\\sum_{j=a}^{b-1} \\int _{0}^{1}f^{(p)}(u+j){\\frac {B_{p}(u)}{p!}}\\,du.}$$"
   ]
  },
  {
   "cell_type": "code",
   "execution_count": 16,
   "metadata": {},
   "outputs": [
    {
     "name": "stdout",
     "output_type": "stream",
     "text": [
      "y_int=$ \\int_{n_{y}}^{b_{y}} F\\left(x, y\\right)\\,{d y} $\n"
     ]
    },
    {
     "data": {
      "text/latex": [
       "$\\displaystyle \\int_{n_{y}}^{b_{y}} F\\left(x, y\\right)\\,{d y}$"
      ],
      "text/plain": [
       "<IPython.core.display.Math object>"
      ]
     },
     "metadata": {},
     "output_type": "display_data"
    },
    {
     "name": "stdout",
     "output_type": "stream",
     "text": [
      "y_sum=$ \\frac{1}{2} \\, F\\left(x, n_{y}\\right) $\n"
     ]
    },
    {
     "data": {
      "text/latex": [
       "$\\displaystyle \\frac{1}{2} \\, F\\left(x, n_{y}\\right)$"
      ],
      "text/plain": [
       "<IPython.core.display.Math object>"
      ]
     },
     "metadata": {},
     "output_type": "display_data"
    },
    {
     "name": "stdout",
     "output_type": "stream",
     "text": [
      "y_R_p=$ \\int_{0}^{1} {\\sum_{j=n_{y}}^{b_{y} - 1} \\frac{1}{2} \\, {\\left(2 \\, v - 1\\right)} \\mathrm{D}_{1}\\left(F\\right)\\left(x, j + v\\right)}\\,{d v} $\n"
     ]
    },
    {
     "data": {
      "text/latex": [
       "$\\displaystyle \\int_{0}^{1} {\\sum_{j=n_{y}}^{b_{y} - 1} \\frac{1}{2} \\, {\\left(2 \\, v - 1\\right)} \\mathrm{D}_{1}\\left(F\\right)\\left(x, j + v\\right)}\\,{d v}$"
      ],
      "text/plain": [
       "<IPython.core.display.Math object>"
      ]
     },
     "metadata": {},
     "output_type": "display_data"
    }
   ],
   "source": [
    "y_int = integral           (F(x,y),(y, a_y, b_y))\n",
    "print(\"y_int=$\", latex(y_int),\"$\")\n",
    "display(Math(latex(y_int)))\n",
    "\n",
    "y_sum = sum_dfdx_bernoulis (F(x,y), y, a_y, b_y,p)\n",
    "print(\"y_sum=$\", latex(y_sum),\"$\")\n",
    "display(Math(latex(y_sum)))\n",
    "\n",
    "y_R_p = euler_maclaurin_R_p(F(x,y), y, a_y, b_y,p)\n",
    "print(\"y_R_p=$\", latex(y_R_p),\"$\")\n",
    "display(Math(latex(y_R_p)))"
   ]
  },
  {
   "cell_type": "code",
   "execution_count": 17,
   "metadata": {},
   "outputs": [
    {
     "name": "stdout",
     "output_type": "stream",
     "text": [
      "x_int=$ \\int_{n_{x}}^{b_{x}} F\\left(x, y\\right)\\,{d x} $\n"
     ]
    },
    {
     "data": {
      "text/latex": [
       "$\\displaystyle \\int_{n_{x}}^{b_{x}} F\\left(x, y\\right)\\,{d x}$"
      ],
      "text/plain": [
       "<IPython.core.display.Math object>"
      ]
     },
     "metadata": {},
     "output_type": "display_data"
    },
    {
     "name": "stdout",
     "output_type": "stream",
     "text": [
      "x_sum=$ \\frac{1}{2} \\, F\\left(n_{x}, y\\right) $\n"
     ]
    },
    {
     "data": {
      "text/latex": [
       "$\\displaystyle \\frac{1}{2} \\, F\\left(n_{x}, y\\right)$"
      ],
      "text/plain": [
       "<IPython.core.display.Math object>"
      ]
     },
     "metadata": {},
     "output_type": "display_data"
    },
    {
     "name": "stdout",
     "output_type": "stream",
     "text": [
      "x_R_p=$ \\int_{0}^{1} {\\sum_{j=n_{x}}^{b_{x} - 1} \\frac{1}{2} \\, {\\left(2 \\, v - 1\\right)} \\mathrm{D}_{0}\\left(F\\right)\\left(j + v, y\\right)}\\,{d v} $\n"
     ]
    },
    {
     "data": {
      "text/latex": [
       "$\\displaystyle \\int_{0}^{1} {\\sum_{j=n_{x}}^{b_{x} - 1} \\frac{1}{2} \\, {\\left(2 \\, v - 1\\right)} \\mathrm{D}_{0}\\left(F\\right)\\left(j + v, y\\right)}\\,{d v}$"
      ],
      "text/plain": [
       "<IPython.core.display.Math object>"
      ]
     },
     "metadata": {},
     "output_type": "display_data"
    }
   ],
   "source": [
    "x_int = integral           (F(x,y),(x, a_x, b_x))\n",
    "print(\"x_int=$\", latex(x_int),\"$\")\n",
    "display(Math(latex(x_int)))\n",
    "\n",
    "x_sum = sum_dfdx_bernoulis (F(x,y), x, a_x, b_x,p)\n",
    "print(\"x_sum=$\", latex(x_sum),\"$\")\n",
    "display(Math(latex(x_sum)))\n",
    "\n",
    "x_R_p = euler_maclaurin_R_p(F(x,y), x, a_x, b_x,p)\n",
    "print(\"x_R_p=$\", latex(x_R_p),\"$\")\n",
    "display(Math(latex(x_R_p)))"
   ]
  },
  {
   "cell_type": "code",
   "execution_count": 18,
   "metadata": {},
   "outputs": [
    {
     "name": "stdout",
     "output_type": "stream",
     "text": [
      "int_int= integrate(integrate(F(x, y), x, n_x, b_x), y, n_y, b_y)\n",
      "int_int=$ \\int_{n_{y}}^{b_{y}} \\int_{n_{x}}^{b_{x}} F\\left(x, y\\right)\\,{d x}\\,{d y} $\n"
     ]
    },
    {
     "data": {
      "text/latex": [
       "$\\displaystyle \\int_{n_{y}}^{b_{y}} \\int_{n_{x}}^{b_{x}} F\\left(x, y\\right)\\,{d x}\\,{d y}$"
      ],
      "text/plain": [
       "<IPython.core.display.Math object>"
      ]
     },
     "metadata": {},
     "output_type": "display_data"
    },
    {
     "name": "stdout",
     "output_type": "stream",
     "text": [
      "int_sum= 1/2*integrate(F(n_x, y), y, n_y, b_y)\n",
      "int_sum=$ \\frac{1}{2} \\, \\int_{n_{y}}^{b_{y}} F\\left(n_{x}, y\\right)\\,{d y} $\n"
     ]
    },
    {
     "data": {
      "text/latex": [
       "$\\displaystyle \\frac{1}{2} \\, \\int_{n_{y}}^{b_{y}} F\\left(n_{x}, y\\right)\\,{d y}$"
      ],
      "text/plain": [
       "<IPython.core.display.Math object>"
      ]
     },
     "metadata": {},
     "output_type": "display_data"
    },
    {
     "name": "stdout",
     "output_type": "stream",
     "text": [
      "int_R_p= integrate(integrate(sum(1/2*(2*v - 1)*D[0](F)(j + v, y), j, n_x, b_x - 1), v, 0, 1), y, n_y, b_y)\n",
      "int_R_p=$ \\int_{n_{y}}^{b_{y}} \\int_{0}^{1} {\\sum_{j=n_{x}}^{b_{x} - 1} \\frac{1}{2} \\, {\\left(2 \\, v - 1\\right)} \\mathrm{D}_{0}\\left(F\\right)\\left(j + v, y\\right)}\\,{d v}\\,{d y} $\n"
     ]
    },
    {
     "data": {
      "text/latex": [
       "$\\displaystyle \\int_{n_{y}}^{b_{y}} \\int_{0}^{1} {\\sum_{j=n_{x}}^{b_{x} - 1} \\frac{1}{2} \\, {\\left(2 \\, v - 1\\right)} \\mathrm{D}_{0}\\left(F\\right)\\left(j + v, y\\right)}\\,{d v}\\,{d y}$"
      ],
      "text/plain": [
       "<IPython.core.display.Math object>"
      ]
     },
     "metadata": {},
     "output_type": "display_data"
    }
   ],
   "source": [
    "int_int = integral(integral           (F(x,y),(x, a_x, b_x)),  (y, a_y, b_y))\n",
    "print(\"int_int=\", int_int)\n",
    "print(\"int_int=$\", latex(int_int),\"$\")\n",
    "display(Math(latex(int_int)))\n",
    "\n",
    "int_sum = integral(sum_dfdx_bernoulis (F(x,y), x, a_x, b_x,p), (y, a_y, b_y))\n",
    "print(\"int_sum=\", int_sum)\n",
    "print(\"int_sum=$\", latex(int_sum.expand()),\"$\")\n",
    "display(Math(latex(int_sum.expand())))\n",
    "\n",
    "R_p = euler_maclaurin_R_p(F(x,y), x, a_x, b_x,p)\n",
    "if type(R_p) is tuple:\n",
    "    int_R_p = integral(R_p[0], (y, a_y, b_y), hold=True)\n",
    "else:\n",
    "    int_R_p = integral(R_p, (y, a_y, b_y), hold=True)\n",
    "\n",
    "print(\"int_R_p=\",int_R_p)\n",
    "print(\"int_R_p=$\",latex(int_R_p),\"$\")\n",
    "display(Math(latex(int_R_p)))"
   ]
  },
  {
   "cell_type": "code",
   "execution_count": 19,
   "metadata": {},
   "outputs": [
    {
     "name": "stdout",
     "output_type": "stream",
     "text": [
      "sum_int= 1/2*integrate(F(x, n_y), x, n_x, b_x)\n",
      "sum_int=$ \\frac{1}{2} \\, \\int_{n_{x}}^{b_{x}} F\\left(x, n_{y}\\right)\\,{d x} $\n"
     ]
    },
    {
     "data": {
      "text/latex": [
       "$\\displaystyle \\frac{1}{2} \\, \\int_{n_{x}}^{b_{x}} F\\left(x, n_{y}\\right)\\,{d x}$"
      ],
      "text/plain": [
       "<IPython.core.display.Math object>"
      ]
     },
     "metadata": {},
     "output_type": "display_data"
    },
    {
     "name": "stdout",
     "output_type": "stream",
     "text": [
      "sum_sum= 1/4*F(n_x, n_y)\n",
      "sum_sum=$ \\frac{1}{4} \\, F\\left(n_{x}, n_{y}\\right) $\n"
     ]
    },
    {
     "data": {
      "text/latex": [
       "$\\displaystyle \\frac{1}{4} \\, F\\left(n_{x}, n_{y}\\right)$"
      ],
      "text/plain": [
       "<IPython.core.display.Math object>"
      ]
     },
     "metadata": {},
     "output_type": "display_data"
    },
    {
     "name": "stdout",
     "output_type": "stream",
     "text": [
      "\n",
      "Can't calculate derivative wrt j_x + v_x.\n",
      "\n",
      "Can't calculate derivative wrt j_x + v_x.\n",
      "sum_R_p= 1/2*sum(integrate(2*v_x*D[0](F)(j_x + v_x, b_y) - D[0](F)(j_x + v_x, b_y), v_x, 0, 1), j_x, n_x, b_x - 1) - 1/2*sum(integrate(2*v_x*D[0](F)(j_x + v_x, n_y) - D[0](F)(j_x + v_x, n_y), v_x, 0, 1), j_x, n_x, b_x - 1)\n",
      "sum_R_p=$ \\frac{1}{2} \\, {\\sum_{j_{x}=n_{x}}^{b_{x} - 1} \\int_{0}^{1} 2 \\, v_{x} \\mathrm{D}_{0}\\left(F\\right)\\left(j_{x} + v_{x}, b_{y}\\right) - \\mathrm{D}_{0}\\left(F\\right)\\left(j_{x} + v_{x}, b_{y}\\right)\\,{d v_{x}}} - \\frac{1}{2} \\, {\\sum_{j_{x}=n_{x}}^{b_{x} - 1} \\int_{0}^{1} 2 \\, v_{x} \\mathrm{D}_{0}\\left(F\\right)\\left(j_{x} + v_{x}, n_{y}\\right) - \\mathrm{D}_{0}\\left(F\\right)\\left(j_{x} + v_{x}, n_{y}\\right)\\,{d v_{x}}} $\n"
     ]
    },
    {
     "name": "stderr",
     "output_type": "stream",
     "text": [
      "<ipython-input-6-bee66dbd9994>:18: DeprecationWarning: Substitution using function-call syntax and unnamed arguments is deprecated and will be removed from a future release of Sage; you can use named arguments instead, like EXPR(x=..., y=...)\n",
      "See http://trac.sagemath.org/5930 for details.\n",
      "  R_p = lambda y_symb, y_val : symbolic_sum(expression=term_1(y_symb=y_symb, y_val=y_val, jx=jx),                                                                      v=jx, a=a_x, b=b_x-Integer(1))\n"
     ]
    },
    {
     "data": {
      "text/latex": [
       "$\\displaystyle \\frac{1}{2} \\, {\\sum_{j_{x}=n_{x}}^{b_{x} - 1} \\int_{0}^{1} 2 \\, v_{x} \\mathrm{D}_{0}\\left(F\\right)\\left(j_{x} + v_{x}, b_{y}\\right) - \\mathrm{D}_{0}\\left(F\\right)\\left(j_{x} + v_{x}, b_{y}\\right)\\,{d v_{x}}} - \\frac{1}{2} \\, {\\sum_{j_{x}=n_{x}}^{b_{x} - 1} \\int_{0}^{1} 2 \\, v_{x} \\mathrm{D}_{0}\\left(F\\right)\\left(j_{x} + v_{x}, n_{y}\\right) - \\mathrm{D}_{0}\\left(F\\right)\\left(j_{x} + v_{x}, n_{y}\\right)\\,{d v_{x}}}$"
      ],
      "text/plain": [
       "<IPython.core.display.Math object>"
      ]
     },
     "metadata": {},
     "output_type": "display_data"
    }
   ],
   "source": [
    "sum_int = sum_dfdx_bernoulis(integral           (F(x,y),(x, a_x, b_x)),  y, a_y, b_y, p)\n",
    "print(\"sum_int=\",sum_int)\n",
    "print(\"sum_int=$\",latex(sum_int),\"$\")\n",
    "display(Math(latex(sum_int)))\n",
    "\n",
    "sum_sum = sum_dfdx_bernoulis(sum_dfdx_bernoulis (F(x,y), x, a_x, b_x,p), y, a_y, b_y, p)\n",
    "print(\"sum_sum=\",sum_sum)\n",
    "print(\"sum_sum=$\",latex(sum_sum),\"$\")\n",
    "display(Math(latex(sum_sum)))\n",
    "\n",
    "#sum_R_p = sum_dfdx_bernoulis(euler_maclaurin_R_p(F(x,y), x, a_x, b_x,p), y, a_y, b_y, p)\n",
    "sum_R_p = sum_dfdx_bernoulis_euler_maclaurin_R_p(F(x,y), x, a_x, b_x,    y, a_y, b_y, p)\n",
    "\n",
    "if type(sum_R_p) is tuple:\n",
    "    print(\"sum_R_p=\",sum_R_p[0])\n",
    "    print(\"sum_R_p=$\",latex(sum_R_p[0]),\"$\")\n",
    "    display(Math(latex(sum_R_p[0])))\n",
    "else:\n",
    "    print(\"sum_R_p=\",sum_R_p)\n",
    "    print(\"sum_R_p=$\",latex(sum_R_p),\"$\")\n",
    "    display(Math(latex(sum_R_p)))"
   ]
  },
  {
   "cell_type": "code",
   "execution_count": 20,
   "metadata": {},
   "outputs": [
    {
     "name": "stdout",
     "output_type": "stream",
     "text": [
      "\n",
      "Can't calculate derivative wrt j + v.\n",
      "R_p_int= integrate(sum(1/2*(2*v - 1)*integrate(D[1](F)(x, j + v), x, n_x, b_x), j, n_y, b_y - 1), v, 0, 1)\n",
      "R_p_int=$ \\int_{0}^{1} {\\sum_{j=n_{y}}^{b_{y} - 1} \\frac{1}{2} \\, {\\left(2 \\, v - 1\\right)} \\int_{n_{x}}^{b_{x}} \\mathrm{D}_{1}\\left(F\\right)\\left(x, j + v\\right)\\,{d x}}\\,{d v} $\n"
     ]
    },
    {
     "data": {
      "text/latex": [
       "$\\displaystyle \\int_{0}^{1} {\\sum_{j=n_{y}}^{b_{y} - 1} \\frac{1}{2} \\, {\\left(2 \\, v - 1\\right)} \\int_{n_{x}}^{b_{x}} \\mathrm{D}_{1}\\left(F\\right)\\left(x, j + v\\right)\\,{d x}}\\,{d v}$"
      ],
      "text/plain": [
       "<IPython.core.display.Math object>"
      ]
     },
     "metadata": {},
     "output_type": "display_data"
    },
    {
     "name": "stdout",
     "output_type": "stream",
     "text": [
      "R_p_sum= integrate(sum(1/4*(2*v - 1)*D[1](F)(n_x, j + v), j, n_y, b_y - 1), v, 0, 1)\n",
      "R_p_sum=$ \\int_{0}^{1} {\\sum_{j=n_{y}}^{b_{y} - 1} \\frac{1}{4} \\, {\\left(2 \\, v - 1\\right)} \\mathrm{D}_{1}\\left(F\\right)\\left(n_{x}, j + v\\right)}\\,{d v} $\n"
     ]
    },
    {
     "data": {
      "text/latex": [
       "$\\displaystyle \\int_{0}^{1} {\\sum_{j=n_{y}}^{b_{y} - 1} \\frac{1}{4} \\, {\\left(2 \\, v - 1\\right)} \\mathrm{D}_{1}\\left(F\\right)\\left(n_{x}, j + v\\right)}\\,{d v}$"
      ],
      "text/plain": [
       "<IPython.core.display.Math object>"
      ]
     },
     "metadata": {},
     "output_type": "display_data"
    },
    {
     "name": "stdout",
     "output_type": "stream",
     "text": [
      "R_p_R_p= integrate(sum(0, j, n_y, b_y - 1), v, 0, 1)\n",
      "R_p_R_p=$ \\int_{0}^{1} {\\sum_{j=n_{y}}^{b_{y} - 1} 0}\\,{d v} $\n"
     ]
    },
    {
     "data": {
      "text/latex": [
       "$\\displaystyle \\int_{0}^{1} {\\sum_{j=n_{y}}^{b_{y} - 1} 0}\\,{d v}$"
      ],
      "text/plain": [
       "<IPython.core.display.Math object>"
      ]
     },
     "metadata": {},
     "output_type": "display_data"
    },
    {
     "name": "stdout",
     "output_type": "stream",
     "text": [
      "\n",
      "Can't calculate derivative wrt j_x + v_x.\n",
      "R_p_R_p= sum(integrate(1/4*(2*v_y - 1)*integrate((2*v_x - 1)*D[0, 1](F)(j_x + v_x, j_y + v_y), v_x, 0, 1)*D[0](sum)(1/2*integrate((2*v_x - 1)*D[0](F)(j_x + v_x, j_y + v_y), v_x, 0, 1), j_x, n_x, b_x - 1), v_y, 0, 1), j_y, n_y, b_y - 1)\n",
      "R_p_R_p=$ {\\sum_{j_{y}=n_{y}}^{b_{y} - 1} \\int_{0}^{1} \\frac{1}{4} \\, {\\left(2 \\, v_{y} - 1\\right)} \\int_{0}^{1} {\\left(2 \\, v_{x} - 1\\right)} \\mathrm{D}_{0, 1}\\left(F\\right)\\left(j_{x} + v_{x}, j_{y} + v_{y}\\right)\\,{d v_{x}} \\mathrm{D}_{0}{\\sum_{j_{x}=n_{x}}^{b_{x} - 1} \\frac{1}{2} \\, \\int_{0}^{1} {\\left(2 \\, v_{x} - 1\\right)} \\mathrm{D}_{0}\\left(F\\right)\\left(j_{x} + v_{x}, j_{y} + v_{y}\\right)\\,{d v_{x}}}\\,{d v_{y}}} $\n"
     ]
    },
    {
     "data": {
      "text/latex": [
       "$\\displaystyle {\\sum_{j_{y}=n_{y}}^{b_{y} - 1} \\int_{0}^{1} \\frac{1}{4} \\, {\\left(2 \\, v_{y} - 1\\right)} \\int_{0}^{1} {\\left(2 \\, v_{x} - 1\\right)} \\mathrm{D}_{0, 1}\\left(F\\right)\\left(j_{x} + v_{x}, j_{y} + v_{y}\\right)\\,{d v_{x}} \\mathrm{D}_{0}{\\sum_{j_{x}=n_{x}}^{b_{x} - 1} \\frac{1}{2} \\, \\int_{0}^{1} {\\left(2 \\, v_{x} - 1\\right)} \\mathrm{D}_{0}\\left(F\\right)\\left(j_{x} + v_{x}, j_{y} + v_{y}\\right)\\,{d v_{x}}}\\,{d v_{y}}}$"
      ],
      "text/plain": [
       "<IPython.core.display.Math object>"
      ]
     },
     "metadata": {},
     "output_type": "display_data"
    }
   ],
   "source": [
    "R_p_int = euler_maclaurin_R_p(integral           (F(x,y),(x, a_x, b_x), hold=True),  y, a_y, b_y, p)\n",
    "print(\"R_p_int=\",R_p_int)\n",
    "print(\"R_p_int=$\",latex(R_p_int),\"$\")\n",
    "display(Math(latex(R_p_int)))\n",
    "\n",
    "R_p_sum = euler_maclaurin_R_p(sum_dfdx_bernoulis (F(x,y), x, a_x, b_x,p), y, a_y, b_y, p)\n",
    "print(\"R_p_sum=\",R_p_sum)\n",
    "print(\"R_p_sum=$\",latex(R_p_sum),\"$\")\n",
    "display(Math(latex(R_p_sum)))\n",
    "\n",
    "try:\n",
    "    R_p_R_p = euler_maclaurin_R_p(euler_maclaurin_R_p(F(x,y), x, a_x, b_x,p), y, a_y, b_y, p)\n",
    "    #R_p_R_p = euler_maclaurin_R_p_euler_maclaurin_R_p(F(x,y), x, a_x, b_x,    y, a_y, b_y, p)\n",
    "\n",
    "    print(\"R_p_R_p=\",R_p_R_p)\n",
    "    print(\"R_p_R_p=$\",latex(R_p_R_p),\"$\")\n",
    "    display(Math(latex(R_p_R_p)))\n",
    "except Exception as ex:\n",
    "    print(ex)\n",
    "\n",
    "\n",
    "try:\n",
    "    #R_p_R_p = euler_maclaurin_R_p(euler_maclaurin_R_p(F(x,y), x, a_x, b_x,p), y, a_y, b_y, p)\n",
    "    R_p_R_p = euler_maclaurin_R_p_euler_maclaurin_R_p(F(x,y), x, a_x, b_x,    y, a_y, b_y, p)\n",
    "\n",
    "    print(\"R_p_R_p=\",R_p_R_p)\n",
    "    print(\"R_p_R_p=$\",latex(R_p_R_p),\"$\")\n",
    "    display(Math(latex(R_p_R_p)))\n",
    "except Exception as ex:\n",
    "    print(ex)"
   ]
  },
  {
   "cell_type": "code",
   "execution_count": 21,
   "metadata": {},
   "outputs": [
    {
     "name": "stdout",
     "output_type": "stream",
     "text": [
      "\n",
      "Can't calculate derivative wrt j + v.\n",
      "\n",
      "Can't calculate derivative wrt j + v.\n"
     ]
    }
   ],
   "source": [
    "sxy_symb = euler_maclaurin1(euler_maclaurin1(F(x,y),x,a_x,b_x,p),y,a_y,b_y,p)"
   ]
  },
  {
   "cell_type": "code",
   "execution_count": 22,
   "metadata": {},
   "outputs": [
    {
     "data": {
      "text/plain": [
       "1/4*F(n_x, n_y) + 1/4*integrate((2*v - 1)*sum(D[0](F)(j + v, n_y), j, n_x, b_x - 1), v, 0, 1) + integrate(1/2*F(n_x, y) + 1/2*integrate((2*v - 1)*sum(D[0](F)(j + v, y), j, n_x, b_x - 1), v, 0, 1) + integrate(F(x, y), x, n_x, b_x), y, n_y, b_y) + 1/2*integrate(F(x, n_y), x, n_x, b_x) + integrate(sum(1/4*(2*v - 1)*(2*integrate(D[1](F)(x, j + v), x, n_x, b_x) + D[1](F)(n_x, j + v)), j, n_y, b_y - 1), v, 0, 1)"
      ]
     },
     "execution_count": 22,
     "metadata": {},
     "output_type": "execute_result"
    }
   ],
   "source": [
    "sxy_symb"
   ]
  },
  {
   "cell_type": "code",
   "execution_count": 23,
   "metadata": {},
   "outputs": [
    {
     "data": {
      "text/plain": [
       "\\frac{1}{4} \\, F\\left(n_{x}, n_{y}\\right) + \\frac{1}{4} \\, \\int_{0}^{1} {\\left(2 \\, v - 1\\right)} {\\sum_{j=n_{x}}^{b_{x} - 1} \\mathrm{D}_{0}\\left(F\\right)\\left(j + v, n_{y}\\right)}\\,{d v} + \\int_{n_{y}}^{b_{y}} \\frac{1}{2} \\, F\\left(n_{x}, y\\right) + \\frac{1}{2} \\, \\int_{0}^{1} {\\left(2 \\, v - 1\\right)} {\\sum_{j=n_{x}}^{b_{x} - 1} \\mathrm{D}_{0}\\left(F\\right)\\left(j + v, y\\right)}\\,{d v} + \\int_{n_{x}}^{b_{x}} F\\left(x, y\\right)\\,{d x}\\,{d y} + \\frac{1}{2} \\, \\int_{n_{x}}^{b_{x}} F\\left(x, n_{y}\\right)\\,{d x} + \\int_{0}^{1} {\\sum_{j=n_{y}}^{b_{y} - 1} \\frac{1}{4} \\, {\\left(2 \\, v - 1\\right)} {\\left(2 \\, \\int_{n_{x}}^{b_{x}} \\mathrm{D}_{1}\\left(F\\right)\\left(x, j + v\\right)\\,{d x} + \\mathrm{D}_{1}\\left(F\\right)\\left(n_{x}, j + v\\right)\\right)}}\\,{d v}"
      ]
     },
     "execution_count": 23,
     "metadata": {},
     "output_type": "execute_result"
    }
   ],
   "source": [
    "latex(sxy_symb)"
   ]
  },
  {
   "cell_type": "code",
   "execution_count": 24,
   "metadata": {},
   "outputs": [
    {
     "data": {
      "text/latex": [
       "$\\displaystyle \\frac{1}{4} \\, F\\left(n_{x}, n_{y}\\right) + \\frac{1}{4} \\, \\int_{0}^{1} {\\left(2 \\, v - 1\\right)} {\\sum_{j=n_{x}}^{b_{x} - 1} \\mathrm{D}_{0}\\left(F\\right)\\left(j + v, n_{y}\\right)}\\,{d v} + \\int_{n_{y}}^{b_{y}} \\frac{1}{2} \\, F\\left(n_{x}, y\\right) + \\frac{1}{2} \\, \\int_{0}^{1} {\\left(2 \\, v - 1\\right)} {\\sum_{j=n_{x}}^{b_{x} - 1} \\mathrm{D}_{0}\\left(F\\right)\\left(j + v, y\\right)}\\,{d v} + \\int_{n_{x}}^{b_{x}} F\\left(x, y\\right)\\,{d x}\\,{d y} + \\frac{1}{2} \\, \\int_{n_{x}}^{b_{x}} F\\left(x, n_{y}\\right)\\,{d x} + \\int_{0}^{1} {\\sum_{j=n_{y}}^{b_{y} - 1} \\frac{1}{4} \\, {\\left(2 \\, v - 1\\right)} {\\left(2 \\, \\int_{n_{x}}^{b_{x}} \\mathrm{D}_{1}\\left(F\\right)\\left(x, j + v\\right)\\,{d x} + \\mathrm{D}_{1}\\left(F\\right)\\left(n_{x}, j + v\\right)\\right)}}\\,{d v}$"
      ],
      "text/plain": [
       "<IPython.core.display.Math object>"
      ]
     },
     "metadata": {},
     "output_type": "display_data"
    }
   ],
   "source": [
    "display(Math(latex(sxy_symb)))"
   ]
  },
  {
   "cell_type": "code",
   "execution_count": 25,
   "metadata": {},
   "outputs": [],
   "source": [
    "f(x,y)=1/(x^2)\n",
    "assume(y>0)\n",
    "assume(x>0)\n",
    "a_x = 1\n",
    "b_x = Infinity\n",
    "\n",
    "a_y = 1\n",
    "b_y = Infinity"
   ]
  },
  {
   "cell_type": "code",
   "execution_count": 26,
   "metadata": {},
   "outputs": [],
   "source": [
    "calc_R_p=True\n",
    "use_int_R_p_j=False\n",
    "use_int_R_p_shifted_first=True\n",
    "change_R_p_order=True"
   ]
  },
  {
   "cell_type": "code",
   "execution_count": 27,
   "metadata": {},
   "outputs": [
    {
     "data": {
      "text/plain": [
       "integrate(-(2*x - 2*floor(x) - 1)/x^3, x, 1, +Infinity) + 3/2"
      ]
     },
     "execution_count": 27,
     "metadata": {},
     "output_type": "execute_result"
    }
   ],
   "source": [
    "ans = my_euler_maclaurin1(f(x,y), x, a_x, b_x, p)\n",
    "ans"
   ]
  },
  {
   "cell_type": "code",
   "execution_count": 28,
   "metadata": {},
   "outputs": [
    {
     "data": {
      "text/plain": [
       "integrate(-(2*x - 2*floor(x) - 1)/x^3, x, 1, +Infinity) + 3/2"
      ]
     },
     "execution_count": 28,
     "metadata": {},
     "output_type": "execute_result"
    }
   ],
   "source": [
    "ans = euler_maclaurin1(f(x,y), x, a_x, b_x, p)\n",
    "ans"
   ]
  },
  {
   "cell_type": "code",
   "execution_count": 29,
   "metadata": {},
   "outputs": [
    {
     "data": {
      "text/plain": [
       "1.64489926189016"
      ]
     },
     "execution_count": 29,
     "metadata": {},
     "output_type": "execute_result"
    }
   ],
   "source": [
    "ans.n()"
   ]
  },
  {
   "cell_type": "code",
   "execution_count": 30,
   "metadata": {},
   "outputs": [],
   "source": [
    "calc_R_p=True\n",
    "use_int_R_p_j=True\n",
    "use_int_R_p_shifted_first=True\n",
    "change_R_p_order=False"
   ]
  },
  {
   "cell_type": "code",
   "execution_count": 31,
   "metadata": {},
   "outputs": [
    {
     "data": {
      "text/plain": [
       "(x, y) |--> 1/6*pi^2"
      ]
     },
     "execution_count": 31,
     "metadata": {},
     "output_type": "execute_result"
    }
   ],
   "source": [
    "ans = my_euler_maclaurin1(f,x,a_x,b_x,p)\n",
    "ans"
   ]
  },
  {
   "cell_type": "code",
   "execution_count": 32,
   "metadata": {},
   "outputs": [
    {
     "data": {
      "text/plain": [
       "sum(integrate(-(2*v_x - 1)/(j_x + v_x)^3, v_x, 0, 1), j_x, 1, +Infinity) + 3/2"
      ]
     },
     "execution_count": 32,
     "metadata": {},
     "output_type": "execute_result"
    }
   ],
   "source": [
    "ans = euler_maclaurin1(f(x,y),x,a_x,b_x,p)\n",
    "ans"
   ]
  },
  {
   "cell_type": "code",
   "execution_count": 33,
   "metadata": {},
   "outputs": [],
   "source": [
    "calc_R_p=True\n",
    "use_int_R_p_j=True\n",
    "use_int_R_p_shifted_first=True\n",
    "change_R_p_order=True"
   ]
  },
  {
   "cell_type": "code",
   "execution_count": 34,
   "metadata": {},
   "outputs": [
    {
     "data": {
      "text/plain": [
       "(x, y) |--> integrate(2*v*(harmonic_number(v, 3) - zeta(3)) - harmonic_number(v, 3) + zeta(3), v, 0, 1) + 3/2"
      ]
     },
     "execution_count": 34,
     "metadata": {},
     "output_type": "execute_result"
    }
   ],
   "source": [
    "ans = my_euler_maclaurin1(f,x,a_x,b_x,p)\n",
    "ans"
   ]
  },
  {
   "cell_type": "code",
   "execution_count": 35,
   "metadata": {},
   "outputs": [
    {
     "data": {
      "text/plain": [
       "integrate(sum(-(2*v - 1)/(j + v)^3, j, 1, +Infinity), v, 0, 1) + 3/2"
      ]
     },
     "execution_count": 35,
     "metadata": {},
     "output_type": "execute_result"
    }
   ],
   "source": [
    "ans = euler_maclaurin1(f(x,y),x,a_x,b_x,p)\n",
    "ans"
   ]
  },
  {
   "cell_type": "code",
   "execution_count": 36,
   "metadata": {},
   "outputs": [
    {
     "data": {
      "text/plain": [
       "integrate(sum(-(2*v - 1)/(j + v)^3, j, 1, +Infinity), v, 0, 1) + 3/2"
      ]
     },
     "execution_count": 36,
     "metadata": {},
     "output_type": "execute_result"
    }
   ],
   "source": [
    "ans = euler_maclaurin1(f(x,y),x,a_x,b_x,p, hold_int=False)\n",
    "ans"
   ]
  },
  {
   "cell_type": "code",
   "execution_count": 37,
   "metadata": {},
   "outputs": [],
   "source": [
    "calc_R_p=True\n",
    "use_int_R_p_j=True\n",
    "use_int_R_p_shifted_first=True\n",
    "change_R_p_order=False"
   ]
  },
  {
   "cell_type": "code",
   "execution_count": 38,
   "metadata": {},
   "outputs": [
    {
     "data": {
      "text/plain": [
       "(x, y) |--> 1/6*pi^2"
      ]
     },
     "execution_count": 38,
     "metadata": {},
     "output_type": "execute_result"
    }
   ],
   "source": [
    "ans = my_euler_maclaurin1(f,x,a_x,b_x,p)\n",
    "ans"
   ]
  },
  {
   "cell_type": "code",
   "execution_count": 39,
   "metadata": {},
   "outputs": [
    {
     "data": {
      "text/plain": [
       "sum(integrate(-(2*v_x - 1)/(j_x + v_x)^3, v_x, 0, 1), j_x, 1, +Infinity) + 3/2"
      ]
     },
     "execution_count": 39,
     "metadata": {},
     "output_type": "execute_result"
    }
   ],
   "source": [
    "ans = euler_maclaurin1(f(x,y),x,a_x,b_x,p)\n",
    "ans"
   ]
  },
  {
   "cell_type": "code",
   "execution_count": 40,
   "metadata": {},
   "outputs": [
    {
     "data": {
      "text/plain": [
       "sum(1/2*(2*j_x + 3)/(j_x^2 + 2*j_x + 1) - 1/2*(2*j_x - 1)/j_x^2, j_x, 1, +Infinity) + 3/2"
      ]
     },
     "execution_count": 40,
     "metadata": {},
     "output_type": "execute_result"
    }
   ],
   "source": [
    "ans = euler_maclaurin1(f(x,y),x,a_x,b_x,p, hold_int=False)\n",
    "ans"
   ]
  },
  {
   "cell_type": "code",
   "execution_count": 41,
   "metadata": {},
   "outputs": [],
   "source": [
    "f(x,y)=1/((x^2+y^2)^2)\n",
    "#f(x,y)=x^2+y^2\n",
    "assume(y>0)\n",
    "assume(x>0)"
   ]
  },
  {
   "cell_type": "markdown",
   "metadata": {},
   "source": [
    "https://core.ac.uk/download/pdf/82162715.pdf\n",
    "\n",
    "JOURNAL OF NUMBER THEORY 35, 62-71 (1990)\n",
    "\n",
    "Evaluation of Multidimensional Linear Zeta Functions\n",
    "\n",
    "ALFRED ACTOR*\n",
    "\n",
    "Department of Physics, The Pennsylvania State University,\n",
    "\n",
    "Fogelsville, Pennsylvania 18051\n",
    "\n",
    "Communicated by Hans Zassenhaus\n",
    "\n",
    "Received January 28, 1988; revised May 5, 1989"
   ]
  },
  {
   "cell_type": "code",
   "execution_count": null,
   "metadata": {},
   "outputs": [],
   "source": []
  },
  {
   "cell_type": "markdown",
   "metadata": {},
   "source": [
    "A prototypical formula of this type is [1] \n",
    "\n",
    "$\\sum\\limits_{m,n=-\\infty}^{\\infty} \\, \\left(m^{2} + n^{2}\\right)^{-S} = 4\\,\\zeta\\left(S\\right)\\,\\beta\\left(S\\right)$\n",
    "\n",
    "where of course, $\\zeta\\left(S\\right)$ is the Riemann $\\zeta$-function [2]\n",
    "\n",
    "while $\\beta\\left(S\\right) = \\sum\\limits_{n=0}^{\\infty}\\left( - \\right)^n \\left(2n + 1\\right)^{-S}$\n",
    "defines, for $Res > 0$, a function whose properties throughout the s-plane are\n",
    "well known [3].\n",
    "\n",
    "Thus Eq. (1) fully reveals the properties of the twodimensional Epstein $\\zeta$-function [4] on the left. \n",
    "\n",
    "\n",
    "\n",
    "1. G. H. HARDY, Notes on some points in the integral calculus LII, Mess. Math. 49 (1919),\n",
    "85-91.\n",
    "2. H. M. EDWARDS, “Riemann’s Zeta Function,” Academic Press, New York, 1974.\n",
    "3. A. ERDELYI, W. MAGNUS, F. OEERHETTINGER, AND F. G. TRICOMI (Eds.), “Higher Transcendental Functions,” Vol. 1, McGraw-Hill, New York, 1953. \n",
    "LINEAR ZETA FUNCTIONS 71\n",
    "4. P. EPSTEIN, Zur Theorie allgemeiner Zetafunctionen, Marh. Ann. 56 (1903), 615-645; Zur\n",
    "Theorie allgemeiner Zetafunctionen, II, Math. Ann. 63 (19071, 205-216. "
   ]
  },
  {
   "cell_type": "markdown",
   "metadata": {},
   "source": [
    "$\\sum\\limits_{m,n=(0)1}^{\\infty} \\, \\left(m^{2} + n^{2}\\right)^{-S} = \\zeta\\left(S\\right)\\,\\beta\\left(S\\right)$"
   ]
  },
  {
   "cell_type": "markdown",
   "metadata": {},
   "source": [
    "$\\sum\\limits_{m,n=(0)1}^{\\infty} \\, \\left(\\sqrt{m^{2} + n^{2}}\\right)^{-S} = \\sum\\limits_{m,n=(0)1}^{\\infty} \\, \\left(m^{2} + n^{2}\\right)^{-\\frac{S}{2}} = \\zeta\\left(\\frac{S}{2}\\right)\\,\\beta\\left(\\frac{S}{2}\\right)$"
   ]
  },
  {
   "cell_type": "code",
   "execution_count": 42,
   "metadata": {},
   "outputs": [],
   "source": [
    "def zeta_2D(S, N):\n",
    "    \n",
    "    def zeta_2D_row(S, first, N):\n",
    "        #print(\"N\", N, [m for m in range(0,N)])\n",
    "        row_sum = 0\n",
    "        for m in range(first, N):\n",
    "            row_sum += (N^2+m^2)^(-S)\n",
    "            #print(\"m\", m, \"row_sum=\", row_sum)\n",
    "        return row_sum\n",
    "\n",
    "    def zeta_2D_diag(S, N):\n",
    "        diag_elem = (2*N^2)^(-S)\n",
    "        #print(\"N\", N, \"diag_elem=\", diag_elem)\n",
    "        return diag_elem\n",
    "    \n",
    "    zeta_2D_sum = 0\n",
    "    for n in range(1,N):\n",
    "        zeta_2D_add = zeta_2D_row(S, 0, n) + zeta_2D_row(S, 1, n) + zeta_2D_diag(S, n)\n",
    "        zeta_2D_sum += zeta_2D_add\n",
    "        \n",
    "        #print(n, zeta_2D_add, zeta_2D_sum)\n",
    "    return zeta_2D_sum"
   ]
  },
  {
   "cell_type": "code",
   "execution_count": 43,
   "metadata": {},
   "outputs": [
    {
     "data": {
      "text/plain": [
       "1.5067023665809038"
      ]
     },
     "execution_count": 43,
     "metadata": {},
     "output_type": "execute_result"
    }
   ],
   "source": [
    "zeta_2D(2, 1000)"
   ]
  },
  {
   "cell_type": "code",
   "execution_count": 44,
   "metadata": {},
   "outputs": [],
   "source": [
    "from sage.calculus.calculus import symbolic_sum\n",
    "n = var(\"n\")\n",
    "S = var(\"S\")\n",
    "beta1_sym = lambda S : symbolic_sum((-1)^n * (2*n + 1)^(-S), n, 0, Infinity)\n",
    "beta1 = lambda S : sum((-1)^n * (2*n + 1)^(-S), n, 0, Infinity)\n",
    "\n",
    "def beta1_dig(S,N):\n",
    "    Sum = 0\n",
    "    for n in range (N):\n",
    "        Sum += (-1)^n * (2*n + 1)^(-S)\n",
    "    return Sum"
   ]
  },
  {
   "cell_type": "code",
   "execution_count": 45,
   "metadata": {},
   "outputs": [
    {
     "data": {
      "text/plain": [
       "0.915965469177313"
      ]
     },
     "execution_count": 45,
     "metadata": {},
     "output_type": "execute_result"
    }
   ],
   "source": [
    "beta1_dig(2,1000).n()"
   ]
  },
  {
   "cell_type": "code",
   "execution_count": 46,
   "metadata": {},
   "outputs": [
    {
     "data": {
      "text/plain": [
       "1/6*pi^2"
      ]
     },
     "execution_count": 46,
     "metadata": {},
     "output_type": "execute_result"
    }
   ],
   "source": [
    "zeta(2)"
   ]
  },
  {
   "cell_type": "code",
   "execution_count": 47,
   "metadata": {},
   "outputs": [
    {
     "data": {
      "text/plain": [
       "1.64493406684823"
      ]
     },
     "execution_count": 47,
     "metadata": {},
     "output_type": "execute_result"
    }
   ],
   "source": [
    "zeta(2).n()"
   ]
  },
  {
   "cell_type": "code",
   "execution_count": 48,
   "metadata": {},
   "outputs": [
    {
     "data": {
      "text/plain": [
       "1.5067023665809038"
      ]
     },
     "execution_count": 48,
     "metadata": {},
     "output_type": "execute_result"
    }
   ],
   "source": [
    "zeta_2D(2, 1000)"
   ]
  },
  {
   "cell_type": "code",
   "execution_count": 49,
   "metadata": {},
   "outputs": [
    {
     "data": {
      "text/plain": [
       "1.50670280430638"
      ]
     },
     "execution_count": 49,
     "metadata": {},
     "output_type": "execute_result"
    }
   ],
   "source": [
    "beta1_dig(2,1000)*zeta(2).n()"
   ]
  },
  {
   "cell_type": "code",
   "execution_count": 50,
   "metadata": {},
   "outputs": [
    {
     "data": {
      "text/plain": [
       "1.5067023665809038"
      ]
     },
     "execution_count": 50,
     "metadata": {},
     "output_type": "execute_result"
    }
   ],
   "source": [
    "zeta_2D(2, 1000)"
   ]
  },
  {
   "cell_type": "code",
   "execution_count": 51,
   "metadata": {},
   "outputs": [],
   "source": [
    "calc_R_p=True\n",
    "use_int_R_p_j=True\n",
    "use_int_R_p_shifted_first=False\n",
    "change_R_p_order=False"
   ]
  },
  {
   "cell_type": "code",
   "execution_count": 52,
   "metadata": {},
   "outputs": [],
   "source": [
    "#sxy1 = euler_maclaurin1(euler_maclaurin1(f(x,y),x,a_x,b_x,p),y,a_y,b_y,p)"
   ]
  },
  {
   "cell_type": "code",
   "execution_count": 53,
   "metadata": {},
   "outputs": [],
   "source": [
    "#display(Math(latex(my_sxy1)))"
   ]
  },
  {
   "cell_type": "code",
   "execution_count": 54,
   "metadata": {},
   "outputs": [],
   "source": [
    "#display(Math(latex(sxy1)))"
   ]
  },
  {
   "cell_type": "code",
   "execution_count": 55,
   "metadata": {},
   "outputs": [],
   "source": [
    "#my_sxy1.n()"
   ]
  },
  {
   "cell_type": "code",
   "execution_count": 56,
   "metadata": {},
   "outputs": [],
   "source": [
    "#sxy1.n()"
   ]
  },
  {
   "cell_type": "code",
   "execution_count": 57,
   "metadata": {},
   "outputs": [],
   "source": [
    "#display(Math(latex(sum(1/(x^2+y^2)^2,x,1,Infinity))))"
   ]
  },
  {
   "cell_type": "code",
   "execution_count": 58,
   "metadata": {},
   "outputs": [],
   "source": [
    "#display(Math(latex(sum(sum(1/(x^2+y^2)^2,x,1,Infinity),y,1,Infinity))))"
   ]
  },
  {
   "cell_type": "code",
   "execution_count": 59,
   "metadata": {},
   "outputs": [
    {
     "name": "stdout",
     "output_type": "stream",
     "text": [
      "int_int=$ \\frac{1}{8} \\, \\pi - \\frac{1}{4} $\n",
      "int_int= 0.142699081698724\n"
     ]
    },
    {
     "data": {
      "text/latex": [
       "$\\displaystyle \\frac{1}{8} \\, \\pi - \\frac{1}{4}$"
      ],
      "text/plain": [
       "<IPython.core.display.Math object>"
      ]
     },
     "metadata": {},
     "output_type": "display_data"
    },
    {
     "name": "stdout",
     "output_type": "stream",
     "text": [
      "int_sum=$ \\frac{1}{16} \\, \\pi - \\frac{1}{8} $\n",
      "int_sum= 0.0713495408493621\n"
     ]
    },
    {
     "data": {
      "text/latex": [
       "$\\displaystyle \\frac{1}{16} \\, \\pi - \\frac{1}{8}$"
      ],
      "text/plain": [
       "<IPython.core.display.Math object>"
      ]
     },
     "metadata": {},
     "output_type": "display_data"
    },
    {
     "name": "stdout",
     "output_type": "stream",
     "text": [
      "int_R_p=$ \\int_{1}^{+\\infty} {\\sum_{j_{x}=1}^{+\\infty} \\int_{0}^{1} -\\frac{2 \\, {\\left(j_{x} + v_{x}\\right)} {\\left(2 \\, v_{x} - 1\\right)}}{{\\left({\\left(j_{x} + v_{x}\\right)}^{2} + y^{2}\\right)}^{3}}\\,{d v_{x}}}\\,{d y} $\n"
     ]
    },
    {
     "data": {
      "text/latex": [
       "$\\displaystyle \\int_{1}^{+\\infty} {\\sum_{j_{x}=1}^{+\\infty} \\int_{0}^{1} -\\frac{2 \\, {\\left(j_{x} + v_{x}\\right)} {\\left(2 \\, v_{x} - 1\\right)}}{{\\left({\\left(j_{x} + v_{x}\\right)}^{2} + y^{2}\\right)}^{3}}\\,{d v_{x}}}\\,{d y}$"
      ],
      "text/plain": [
       "<IPython.core.display.Math object>"
      ]
     },
     "metadata": {},
     "output_type": "display_data"
    },
    {
     "name": "stdout",
     "output_type": "stream",
     "text": [
      "int_R_p=$ {\\sum_{j_{x}=1}^{+\\infty} \\frac{j_{x}^{8} + 4 \\, j_{x}^{7} + 6 \\, j_{x}^{6} + 4 \\, j_{x}^{5} - 3 \\, j_{x}^{4} - 8 \\, j_{x}^{3} - 6 \\, j_{x}^{2} - {\\left(j_{x}^{10} + 5 \\, j_{x}^{9} + 11 \\, j_{x}^{8} + 14 \\, j_{x}^{7} + 12 \\, j_{x}^{6} + 7 \\, j_{x}^{5} + 2 \\, j_{x}^{4} - 2 \\, j_{x}^{3}\\right)} \\arctan\\left(j_{x} + 1\\right) + {\\left(j_{x}^{10} + 5 \\, j_{x}^{9} + 11 \\, j_{x}^{8} + 14 \\, j_{x}^{7} + 12 \\, j_{x}^{6} + 9 \\, j_{x}^{5} + 7 \\, j_{x}^{4} + 6 \\, j_{x}^{3} + 7 \\, j_{x}^{2} + 6 \\, j_{x} + 2\\right)} \\arctan\\left(j_{x}\\right) - 2 \\, j_{x}}{4 \\, {\\left(j_{x}^{10} + 5 \\, j_{x}^{9} + 12 \\, j_{x}^{8} + 18 \\, j_{x}^{7} + 19 \\, j_{x}^{6} + 15 \\, j_{x}^{5} + 8 \\, j_{x}^{4} + 2 \\, j_{x}^{3}\\right)}}} $\n",
      "int_R_p= sum(1/4*(j_x^8 + 4*j_x^7 + 6*j_x^6 + 4*j_x^5 - 3*j_x^4 - 8*j_x^3 - 6*j_x^2 - (j_x^10 + 5*j_x^9 + 11*j_x^8 + 14*j_x^7 + 12*j_x^6 + 7*j_x^5 + 2*j_x^4 - 2*j_x^3)*arctan(j_x + 1) + (j_x^10 + 5*j_x^9 + 11*j_x^8 + 14*j_x^7 + 12*j_x^6 + 9*j_x^5 + 7*j_x^4 + 6*j_x^3 + 7*j_x^2 + 6*j_x + 2)*arctan(j_x) - 2*j_x)/(j_x^10 + 5*j_x^9 + 12*j_x^8 + 18*j_x^7 + 19*j_x^6 + 15*j_x^5 + 8*j_x^4 + 2*j_x^3), j_x, 1, +Infinity)\n"
     ]
    },
    {
     "data": {
      "text/latex": [
       "$\\displaystyle {\\sum_{j_{x}=1}^{+\\infty} \\frac{j_{x}^{8} + 4 \\, j_{x}^{7} + 6 \\, j_{x}^{6} + 4 \\, j_{x}^{5} - 3 \\, j_{x}^{4} - 8 \\, j_{x}^{3} - 6 \\, j_{x}^{2} - {\\left(j_{x}^{10} + 5 \\, j_{x}^{9} + 11 \\, j_{x}^{8} + 14 \\, j_{x}^{7} + 12 \\, j_{x}^{6} + 7 \\, j_{x}^{5} + 2 \\, j_{x}^{4} - 2 \\, j_{x}^{3}\\right)} \\arctan\\left(j_{x} + 1\\right) + {\\left(j_{x}^{10} + 5 \\, j_{x}^{9} + 11 \\, j_{x}^{8} + 14 \\, j_{x}^{7} + 12 \\, j_{x}^{6} + 9 \\, j_{x}^{5} + 7 \\, j_{x}^{4} + 6 \\, j_{x}^{3} + 7 \\, j_{x}^{2} + 6 \\, j_{x} + 2\\right)} \\arctan\\left(j_{x}\\right) - 2 \\, j_{x}}{4 \\, {\\left(j_{x}^{10} + 5 \\, j_{x}^{9} + 12 \\, j_{x}^{8} + 18 \\, j_{x}^{7} + 19 \\, j_{x}^{6} + 15 \\, j_{x}^{5} + 8 \\, j_{x}^{4} + 2 \\, j_{x}^{3}\\right)}}}$"
      ],
      "text/plain": [
       "<IPython.core.display.Math object>"
      ]
     },
     "metadata": {},
     "output_type": "display_data"
    }
   ],
   "source": [
    "calc_R_p=True\n",
    "use_int_R_p_j=True\n",
    "use_int_R_p_shifted_first=False\n",
    "change_R_p_order=False\n",
    "\n",
    "\n",
    "int_int = integral(integral           (f(x,y),(x, a_x, b_x)),  (y, a_y, b_y)) \n",
    "print(\"int_int=$\", latex(int_int),\"$\")\n",
    "print(\"int_int=\", int_int.n())\n",
    "display(Math(latex(int_int)))\n",
    "\n",
    "int_sum = integral(sum_dfdx_bernoulis (f(x,y), x, a_x, b_x,p), (y, a_y, b_y)) \n",
    "print(\"int_sum=$\", latex(int_sum.expand()),\"$\")\n",
    "print(\"int_sum=\", int_sum.n())\n",
    "display(Math(latex(int_sum.expand())))\n",
    "\n",
    "R_p = euler_maclaurin_R_p(f(x,y), x, a_x, b_x,p)\n",
    "if type(R_p) is tuple:\n",
    "    int_R_p = integral(R_p[0], (y, a_y, b_y), hold=True)\n",
    "else:\n",
    "    int_R_p = integral(R_p, (y, a_y, b_y), hold=True)\n",
    "\n",
    "print(\"int_R_p=$\",latex(int_R_p),\"$\")\n",
    "#print(\"int_R_p=\", int_R_p.n())\n",
    "display(Math(latex(int_R_p)))\n",
    "\n",
    "(int_R_p,int_int_R_p) = integral_euler_maclaurin_R_p(f(x,y), x, a_x, b_x, y, a_y, b_y, p, hold_int=False)\n",
    "print(\"int_R_p=$\",latex(int_R_p),\"$\")\n",
    "print(\"int_R_p=\",int_R_p)\n",
    "#print(\"int_R_p=\", int_R_p.n())\n",
    "display(Math(latex(int_R_p)))"
   ]
  },
  {
   "cell_type": "code",
   "execution_count": 60,
   "metadata": {},
   "outputs": [
    {
     "data": {
      "text/plain": [
       "1/8*pi - 1/4"
      ]
     },
     "execution_count": 60,
     "metadata": {},
     "output_type": "execute_result"
    }
   ],
   "source": [
    "int_int"
   ]
  },
  {
   "cell_type": "code",
   "execution_count": 61,
   "metadata": {},
   "outputs": [
    {
     "data": {
      "text/plain": [
       "0.142699081698724"
      ]
     },
     "execution_count": 61,
     "metadata": {},
     "output_type": "execute_result"
    }
   ],
   "source": [
    "int_int.n()"
   ]
  },
  {
   "cell_type": "code",
   "execution_count": 62,
   "metadata": {},
   "outputs": [
    {
     "data": {
      "text/plain": [
       "1/16*pi - 1/8"
      ]
     },
     "execution_count": 62,
     "metadata": {},
     "output_type": "execute_result"
    }
   ],
   "source": [
    "int_sum"
   ]
  },
  {
   "cell_type": "code",
   "execution_count": 63,
   "metadata": {},
   "outputs": [
    {
     "data": {
      "text/plain": [
       "0.0713495408493621"
      ]
     },
     "execution_count": 63,
     "metadata": {},
     "output_type": "execute_result"
    }
   ],
   "source": [
    "int_sum.n()"
   ]
  },
  {
   "cell_type": "code",
   "execution_count": 64,
   "metadata": {},
   "outputs": [
    {
     "data": {
      "text/plain": [
       "sum(1/4*(j_x^8 + 4*j_x^7 + 6*j_x^6 + 4*j_x^5 - 3*j_x^4 - 8*j_x^3 - 6*j_x^2 - (j_x^10 + 5*j_x^9 + 11*j_x^8 + 14*j_x^7 + 12*j_x^6 + 7*j_x^5 + 2*j_x^4 - 2*j_x^3)*arctan(j_x + 1) + (j_x^10 + 5*j_x^9 + 11*j_x^8 + 14*j_x^7 + 12*j_x^6 + 9*j_x^5 + 7*j_x^4 + 6*j_x^3 + 7*j_x^2 + 6*j_x + 2)*arctan(j_x) - 2*j_x)/(j_x^10 + 5*j_x^9 + 12*j_x^8 + 18*j_x^7 + 19*j_x^6 + 15*j_x^5 + 8*j_x^4 + 2*j_x^3), j_x, 1, +Infinity)"
      ]
     },
     "execution_count": 64,
     "metadata": {},
     "output_type": "execute_result"
    }
   ],
   "source": [
    "int_R_p"
   ]
  },
  {
   "cell_type": "code",
   "execution_count": 65,
   "metadata": {},
   "outputs": [
    {
     "data": {
      "text/plain": [
       "-1/4*sum(-(j_x^8 + 4*j_x^7 + 6*j_x^6 + 4*j_x^5 - 3*j_x^4 - 8*j_x^3 - 6*j_x^2 - (j_x^10 + 5*j_x^9 + 11*j_x^8 + 14*j_x^7 + 12*j_x^6 + 7*j_x^5 + 2*j_x^4 - 2*j_x^3)*arctan(j_x + 1) + (j_x^10 + 5*j_x^9 + 11*j_x^8 + 14*j_x^7 + 12*j_x^6 + 9*j_x^5 + 7*j_x^4 + 6*j_x^3 + 7*j_x^2 + 6*j_x + 2)*arctan(j_x) - 2*j_x)/(j_x^10 + 5*j_x^9 + 12*j_x^8 + 18*j_x^7 + 19*j_x^6 + 15*j_x^5 + 8*j_x^4 + 2*j_x^3), j_x, 1, +Infinity)"
      ]
     },
     "execution_count": 65,
     "metadata": {},
     "output_type": "execute_result"
    }
   ],
   "source": [
    "sum(int_int_R_p, j_x, 1, +Infinity)"
   ]
  },
  {
   "cell_type": "code",
   "execution_count": 66,
   "metadata": {},
   "outputs": [],
   "source": [
    "int_R_p_n = 0\n",
    "for j in range (1, 1000):\n",
    "    int_R_p_term = int_int_R_p.subs(var(\"j_x\") == j)\n",
    "    int_R_p_n += int_R_p_term\n",
    "    #print(j, int_R_p_term.n(), int_R_p_n.n())"
   ]
  },
  {
   "cell_type": "code",
   "execution_count": 67,
   "metadata": {},
   "outputs": [
    {
     "data": {
      "text/plain": [
       "0.0145963980962299"
      ]
     },
     "execution_count": 67,
     "metadata": {},
     "output_type": "execute_result"
    }
   ],
   "source": [
    "int_R_p_n.n()"
   ]
  },
  {
   "cell_type": "code",
   "execution_count": 68,
   "metadata": {},
   "outputs": [],
   "source": [
    "#int_R_p_n = 0.0\n",
    "#for j_x in range(1,10):\n",
    "#    expr = 1/6*(6*y^8*(arctan((j_x + 1)/y) - arctan(j_x/y)) + 12*((2*j_x^2 + 2*j_x + 1)*arctan((j_x + 1)/y) - (2*j_x^2 + 2*j_x + 1)*arctan(j_x/y))*y^6 - 6*y^7 - 2*(9*j_x^2 + 9*j_x + 5)*y^5 + 6*((6*j_x^4 + 12*j_x^3 + 10*j_x^2 + 4*j_x + 1)*arctan((j_x + 1)/y) - (6*j_x^4 + 12*j_x^3 + 10*j_x^2 + 4*j_x + 1)*arctan(j_x/y))*y^4 - (18*j_x^4 + 36*j_x^3 + 28*j_x^2 + 10*j_x + 3)*y^3 + 12*((2*j_x^6 + 6*j_x^5 + 7*j_x^4 + 4*j_x^3 + j_x^2)*arctan((j_x + 1)/y) - (2*j_x^6 + 6*j_x^5 + 7*j_x^4 + 4*j_x^3 + j_x^2)*arctan(j_x/y))*y^2 - (6*j_x^6 + 18*j_x^5 + 18*j_x^4 + 6*j_x^3 - j_x^2 - j_x)*y + 6*(j_x^8 + 4*j_x^7 + 6*j_x^6 + 4*j_x^5 + j_x^4)*arctan((j_x + 1)/y) - 6*(j_x^8 + 4*j_x^7 + 6*j_x^6 + 4*j_x^5 + j_x^4)*arctan(j_x/y))/(y^9 + 2*(2*j_x^2 + 2*j_x + 1)*y^7 + (6*j_x^4 + 12*j_x^3 + 10*j_x^2 + 4*j_x + 1)*y^5 + 2*(2*j_x^6 + 6*j_x^5 + 7*j_x^4 + 4*j_x^3 + j_x^2)*y^3 + (j_x^8 + 4*j_x^7 + 6*j_x^6 + 4*j_x^5 + j_x^4)*y)\n",
    "#    term = num_int(expr(y), 1, +Infinity)\n",
    "#    int_R_p_n += term\n",
    "#    print(j_x, term, int_R_p_n)\n"
   ]
  },
  {
   "cell_type": "code",
   "execution_count": 69,
   "metadata": {},
   "outputs": [
    {
     "name": "stdout",
     "output_type": "stream",
     "text": [
      "sum_dfdx_a_bernoullis 1/4*(y^2*arctan(1/y) + y + arctan(1/y))/(y^5 + y^3) - 1/8*pi/y^3\n",
      "sum_dfdx_a_bernoullis(a) -1/16*pi + 1/8\n",
      "sum_int=$ \\frac{1}{16} \\, \\pi - \\frac{1}{8} $\n",
      "sum_int= 0.0713495408493621\n"
     ]
    },
    {
     "data": {
      "text/latex": [
       "$\\displaystyle \\frac{1}{16} \\, \\pi - \\frac{1}{8}$"
      ],
      "text/plain": [
       "<IPython.core.display.Math object>"
      ]
     },
     "metadata": {},
     "output_type": "display_data"
    },
    {
     "name": "stdout",
     "output_type": "stream",
     "text": [
      "sum_dfdx_a_bernoullis -1/2/(x^2 + y^2)^2\n",
      "sum_dfdx_a_bernoullis(a) -1/2/(y^2 + 1)^2\n",
      "sum_dfdx_a_bernoullis -1/4/(y^2 + 1)^2\n",
      "sum_dfdx_a_bernoullis(a) -1/16\n",
      "sum_sum=$ \\frac{1}{16} $\n",
      "sum_sum= 0.0625000000000000\n"
     ]
    },
    {
     "data": {
      "text/latex": [
       "$\\displaystyle \\frac{1}{16}$"
      ],
      "text/plain": [
       "<IPython.core.display.Math object>"
      ]
     },
     "metadata": {},
     "output_type": "display_data"
    },
    {
     "name": "stdout",
     "output_type": "stream",
     "text": [
      "sum_dfdx_bernoulis_euler_maclaurin_R_p (x^2 + y^2)^(-2) x 1 +Infinity y 1 +Infinity 1\n",
      "term_1(y_symb=y, y_val=a_y,jx=a_x) = 1/8*pi - 1/2*arctan(2) + 39/200\n",
      "R_p(y_symb=y, y_val=a_y) = -sum(-1/2*(j_x^6 + 3*j_x^5 + 6*j_x^4 + 7*j_x^3 + 11*j_x^2 - (j_x^8 + 4*j_x^7 + 10*j_x^6 + 16*j_x^5 + 21*j_x^4 + 20*j_x^3 + 16*j_x^2 + 8*j_x + 4)*arctan(j_x + 1) + (j_x^8 + 4*j_x^7 + 10*j_x^6 + 16*j_x^5 + 21*j_x^4 + 20*j_x^3 + 16*j_x^2 + 8*j_x + 4)*arctan(j_x) + 8*j_x + 3)/(j_x^8 + 4*j_x^7 + 10*j_x^6 + 16*j_x^5 + 21*j_x^4 + 20*j_x^3 + 16*j_x^2 + 8*j_x + 4), j_x, 1, +Infinity)\n",
      "dfdx_a_bernoullis = [<function sum_dfdx_bernoulis_euler_maclaurin_R_p.<locals>.<lambda> at 0x7f9d57cd8dc0>]\n",
      "len(dfdx_a_bernoullis) = 1\n",
      "sum_dfdx_a_bernoullis = <function sum_dfdx_bernoulis_euler_maclaurin_R_p.<locals>.<lambda> at 0x7f9d57f3aca0>\n",
      "sum_dfdx_a_bernoullis(a_y) = -sum(-1/2*(j_x^6 + 3*j_x^5 + 6*j_x^4 + 7*j_x^3 + 11*j_x^2 - (j_x^8 + 4*j_x^7 + 10*j_x^6 + 16*j_x^5 + 21*j_x^4 + 20*j_x^3 + 16*j_x^2 + 8*j_x + 4)*arctan(j_x + 1) + (j_x^8 + 4*j_x^7 + 10*j_x^6 + 16*j_x^5 + 21*j_x^4 + 20*j_x^3 + 16*j_x^2 + 8*j_x + 4)*arctan(j_x) + 8*j_x + 3)/(j_x^8 + 4*j_x^7 + 10*j_x^6 + 16*j_x^5 + 21*j_x^4 + 20*j_x^3 + 16*j_x^2 + 8*j_x + 4), j_x, 1, +Infinity)\n"
     ]
    },
    {
     "name": "stderr",
     "output_type": "stream",
     "text": [
      "<ipython-input-6-bee66dbd9994>:17: DeprecationWarning: Substitution using function-call syntax and unnamed arguments is deprecated and will be removed from a future release of Sage; you can use named arguments instead, like EXPR(x=..., y=...)\n",
      "See http://trac.sagemath.org/5930 for details.\n",
      "  print(\"term_1(y_symb=y, y_val=a_y,jx=a_x) =\", term_1(y_symb=y, y_val=a_y,jx=a_x))\n",
      "<ipython-input-6-bee66dbd9994>:18: DeprecationWarning: Substitution using function-call syntax and unnamed arguments is deprecated and will be removed from a future release of Sage; you can use named arguments instead, like EXPR(x=..., y=...)\n",
      "See http://trac.sagemath.org/5930 for details.\n",
      "  R_p = lambda y_symb, y_val : symbolic_sum(expression=term_1(y_symb=y_symb, y_val=y_val, jx=jx),                                                                      v=jx, a=a_x, b=b_x-Integer(1))\n"
     ]
    },
    {
     "name": "stdout",
     "output_type": "stream",
     "text": [
      "sum_R_p=$ {\\sum_{j_{x}=1}^{+\\infty} -\\frac{j_{x}^{6} + 3 \\, j_{x}^{5} + 6 \\, j_{x}^{4} + 7 \\, j_{x}^{3} + 11 \\, j_{x}^{2} - {\\left(j_{x}^{8} + 4 \\, j_{x}^{7} + 10 \\, j_{x}^{6} + 16 \\, j_{x}^{5} + 21 \\, j_{x}^{4} + 20 \\, j_{x}^{3} + 16 \\, j_{x}^{2} + 8 \\, j_{x} + 4\\right)} \\arctan\\left(j_{x} + 1\\right) + {\\left(j_{x}^{8} + 4 \\, j_{x}^{7} + 10 \\, j_{x}^{6} + 16 \\, j_{x}^{5} + 21 \\, j_{x}^{4} + 20 \\, j_{x}^{3} + 16 \\, j_{x}^{2} + 8 \\, j_{x} + 4\\right)} \\arctan\\left(j_{x}\\right) + 8 \\, j_{x} + 3}{2 \\, {\\left(j_{x}^{8} + 4 \\, j_{x}^{7} + 10 \\, j_{x}^{6} + 16 \\, j_{x}^{5} + 21 \\, j_{x}^{4} + 20 \\, j_{x}^{3} + 16 \\, j_{x}^{2} + 8 \\, j_{x} + 4\\right)}}} $\n"
     ]
    },
    {
     "data": {
      "text/latex": [
       "$\\displaystyle {\\sum_{j_{x}=1}^{+\\infty} -\\frac{j_{x}^{6} + 3 \\, j_{x}^{5} + 6 \\, j_{x}^{4} + 7 \\, j_{x}^{3} + 11 \\, j_{x}^{2} - {\\left(j_{x}^{8} + 4 \\, j_{x}^{7} + 10 \\, j_{x}^{6} + 16 \\, j_{x}^{5} + 21 \\, j_{x}^{4} + 20 \\, j_{x}^{3} + 16 \\, j_{x}^{2} + 8 \\, j_{x} + 4\\right)} \\arctan\\left(j_{x} + 1\\right) + {\\left(j_{x}^{8} + 4 \\, j_{x}^{7} + 10 \\, j_{x}^{6} + 16 \\, j_{x}^{5} + 21 \\, j_{x}^{4} + 20 \\, j_{x}^{3} + 16 \\, j_{x}^{2} + 8 \\, j_{x} + 4\\right)} \\arctan\\left(j_{x}\\right) + 8 \\, j_{x} + 3}{2 \\, {\\left(j_{x}^{8} + 4 \\, j_{x}^{7} + 10 \\, j_{x}^{6} + 16 \\, j_{x}^{5} + 21 \\, j_{x}^{4} + 20 \\, j_{x}^{3} + 16 \\, j_{x}^{2} + 8 \\, j_{x} + 4\\right)}}}$"
      ],
      "text/plain": [
       "<IPython.core.display.Math object>"
      ]
     },
     "metadata": {},
     "output_type": "display_data"
    }
   ],
   "source": [
    "logging = True\n",
    "sum_int = sum_dfdx_bernoulis(integral           (f(x,y),(x, a_x, b_x)),  y, a_y, b_y, p)\n",
    "print(\"sum_int=$\",latex(sum_int),\"$\")\n",
    "print(\"sum_int=\",sum_int.n())\n",
    "display(Math(latex(sum_int)))\n",
    "\n",
    "sum_sum = sum_dfdx_bernoulis(sum_dfdx_bernoulis (f(x,y), x, a_x, b_x,p), y, a_y, b_y, p)\n",
    "print(\"sum_sum=$\",latex(sum_sum),\"$\")\n",
    "print(\"sum_sum=\", sum_sum.n())\n",
    "\n",
    "display(Math(latex(sum_sum)))\n",
    "\n",
    "#sum_R_p = sum_dfdx_bernoulis(euler_maclaurin_R_p(f(x,y), x, a_x, b_x,p), y, a_y, b_y, p)\n",
    "(sum_R_p,dfdx_a_bernoullis_terms) = sum_dfdx_bernoulis_euler_maclaurin_R_p(f(x,y), x, a_x, b_x,    y, a_y, b_y, p)\n",
    "print(\"sum_R_p=$\",latex(sum_R_p),\"$\")\n",
    "#print(\"sum_R_p=$\",sum_R_p.n())\n",
    "display(Math(latex(sum_R_p)))"
   ]
  },
  {
   "cell_type": "code",
   "execution_count": 70,
   "metadata": {},
   "outputs": [
    {
     "data": {
      "text/plain": [
       "sum(-1/2*(j_x^6 + 3*j_x^5 + 6*j_x^4 + 7*j_x^3 + 11*j_x^2 - (j_x^8 + 4*j_x^7 + 10*j_x^6 + 16*j_x^5 + 21*j_x^4 + 20*j_x^3 + 16*j_x^2 + 8*j_x + 4)*arctan(j_x + 1) + (j_x^8 + 4*j_x^7 + 10*j_x^6 + 16*j_x^5 + 21*j_x^4 + 20*j_x^3 + 16*j_x^2 + 8*j_x + 4)*arctan(j_x) + 8*j_x + 3)/(j_x^8 + 4*j_x^7 + 10*j_x^6 + 16*j_x^5 + 21*j_x^4 + 20*j_x^3 + 16*j_x^2 + 8*j_x + 4), j_x, 1, +Infinity)"
      ]
     },
     "execution_count": 70,
     "metadata": {},
     "output_type": "execute_result"
    }
   ],
   "source": [
    "sum_R_p"
   ]
  },
  {
   "cell_type": "code",
   "execution_count": 71,
   "metadata": {},
   "outputs": [
    {
     "name": "stderr",
     "output_type": "stream",
     "text": [
      "<ipython-input-6-bee66dbd9994>:19: DeprecationWarning: Substitution using function-call syntax and unnamed arguments is deprecated and will be removed from a future release of Sage; you can use named arguments instead, like EXPR(x=..., y=...)\n",
      "See http://trac.sagemath.org/5930 for details.\n",
      "  dfdx_a_bernoullis_terms += [lambda y_symb, y_val, jx, i=i : term_1(y_symb=y_symb, y_val=y_val, jx=jx)]\n"
     ]
    },
    {
     "data": {
      "text/plain": [
       "-1/2*(j_x^4*arctan(j_x) + j_x^3 + 2*j_x^2*arctan(j_x) + j_x + arctan(j_x) + 1)/(j_x^4 + 2*j_x^2 + 1) + 1/2*(j_x^3 + 3*j_x^2 + (j_x^4 + 4*j_x^3 + 6*j_x^2 + 4*j_x + 1)*arctan(j_x + 1) + 2*(j_x^2 + 2*j_x + 1)*arctan(j_x + 1) + 4*j_x + arctan(j_x + 1) + 1)/(j_x^4 + 4*j_x^3 + 8*j_x^2 + 8*j_x + 4)"
      ]
     },
     "execution_count": 71,
     "metadata": {},
     "output_type": "execute_result"
    }
   ],
   "source": [
    "dfdx_a_bernoullis_terms(j_x)"
   ]
  },
  {
   "cell_type": "code",
   "execution_count": 72,
   "metadata": {},
   "outputs": [
    {
     "name": "stderr",
     "output_type": "stream",
     "text": [
      "<ipython-input-6-bee66dbd9994>:19: DeprecationWarning: Substitution using function-call syntax and unnamed arguments is deprecated and will be removed from a future release of Sage; you can use named arguments instead, like EXPR(x=..., y=...)\n",
      "See http://trac.sagemath.org/5930 for details.\n",
      "  dfdx_a_bernoullis_terms += [lambda y_symb, y_val, jx, i=i : term_1(y_symb=y_symb, y_val=y_val, jx=jx)]\n"
     ]
    }
   ],
   "source": [
    "sum_R_p_n = 0\n",
    "for j_x in range(1,100):\n",
    "    term = dfdx_a_bernoullis_terms(j_x)\n",
    "    sum_R_p_n += term\n",
    "    #print(j_x, term.n(), sum_R_p_n)"
   ]
  },
  {
   "cell_type": "code",
   "execution_count": 73,
   "metadata": {},
   "outputs": [
    {
     "data": {
      "text/plain": [
       "-0.0391378936908628"
      ]
     },
     "execution_count": 73,
     "metadata": {},
     "output_type": "execute_result"
    }
   ],
   "source": [
    "sum_R_p_n.n()"
   ]
  },
  {
   "cell_type": "code",
   "execution_count": 74,
   "metadata": {},
   "outputs": [
    {
     "name": "stdout",
     "output_type": "stream",
     "text": [
      "f -1/2*(y^2*arctan(1/y) + y + arctan(1/y))/(y^5 + y^3) + 1/4*pi/y^3\n",
      "symb,a,b y 1 +Infinity\n",
      "\n",
      "R_p_int=$ \\int_{1}^{+\\infty} \\frac{1}{8} \\, {\\left(2 \\, y - 2 \\, \\left \\lfloor y \\right \\rfloor - 1\\right)} {\\left(\\frac{2 \\, {\\left(5 \\, y^{4} + 3 \\, y^{2}\\right)} {\\left(y^{2} \\arctan\\left(\\frac{1}{y}\\right) + y + \\arctan\\left(\\frac{1}{y}\\right)\\right)}}{{\\left(y^{5} + y^{3}\\right)}^{2}} - \\frac{2 \\, {\\left(2 \\, y \\arctan\\left(\\frac{1}{y}\\right) - \\frac{1}{\\frac{1}{y^{2}} + 1} - \\frac{1}{y^{2} {\\left(\\frac{1}{y^{2}} + 1\\right)}} + 1\\right)}}{y^{5} + y^{3}} - \\frac{3 \\, \\pi}{y^{4}}\\right)}\\,{d y} $\n"
     ]
    },
    {
     "data": {
      "text/latex": [
       "$\\displaystyle \\int_{1}^{+\\infty} \\frac{1}{8} \\, {\\left(2 \\, y - 2 \\, \\left \\lfloor y \\right \\rfloor - 1\\right)} {\\left(\\frac{2 \\, {\\left(5 \\, y^{4} + 3 \\, y^{2}\\right)} {\\left(y^{2} \\arctan\\left(\\frac{1}{y}\\right) + y + \\arctan\\left(\\frac{1}{y}\\right)\\right)}}{{\\left(y^{5} + y^{3}\\right)}^{2}} - \\frac{2 \\, {\\left(2 \\, y \\arctan\\left(\\frac{1}{y}\\right) - \\frac{1}{\\frac{1}{y^{2}} + 1} - \\frac{1}{y^{2} {\\left(\\frac{1}{y^{2}} + 1\\right)}} + 1\\right)}}{y^{5} + y^{3}} - \\frac{3 \\, \\pi}{y^{4}}\\right)}\\,{d y}$"
      ],
      "text/plain": [
       "<IPython.core.display.Math object>"
      ]
     },
     "metadata": {},
     "output_type": "display_data"
    },
    {
     "name": "stdout",
     "output_type": "stream",
     "text": [
      "sum_dfdx_a_bernoullis -1/2/(x^2 + y^2)^2\n",
      "sum_dfdx_a_bernoullis(a) -1/2/(y^2 + 1)^2\n",
      "f 1/2/(y^2 + 1)^2\n",
      "symb,a,b y 1 +Infinity\n",
      "\n",
      "R_p_sum=$ -\\int_{1}^{+\\infty} \\frac{{\\left(2 \\, y - 2 \\, \\left \\lfloor y \\right \\rfloor - 1\\right)} y}{{\\left(y^{2} + 1\\right)}^{3}}\\,{d y} $\n"
     ]
    },
    {
     "data": {
      "text/latex": [
       "$\\displaystyle -\\int_{1}^{+\\infty} \\frac{{\\left(2 \\, y - 2 \\, \\left \\lfloor y \\right \\rfloor - 1\\right)} y}{{\\left(y^{2} + 1\\right)}^{3}}\\,{d y}$"
      ],
      "text/plain": [
       "<IPython.core.display.Math object>"
      ]
     },
     "metadata": {},
     "output_type": "display_data"
    }
   ],
   "source": [
    "use_int_R_p_j = False\n",
    "use_num_int = False\n",
    "R_p_int = euler_maclaurin_R_p(integral           (f(x,y),(x, a_x, b_x), hold = False),  y, a_y, b_y, p)\n",
    "print(\"R_p_int=$\",latex(R_p_int),\"$\")\n",
    "#print(\"R_p_int=\", R_p_int.n())\n",
    "display(Math(latex(R_p_int)))\n",
    "\n",
    "R_p_sum = euler_maclaurin_R_p(sum_dfdx_bernoulis (f(x,y), x, a_x, b_x,p), y, a_y, b_y, p, hold_int=False)\n",
    "print(\"R_p_sum=$\",latex(R_p_sum),\"$\")\n",
    "#print(\"R_p_sum=$\",R_p_sum.n())\n",
    "display(Math(latex(R_p_sum)))\n"
   ]
  },
  {
   "cell_type": "code",
   "execution_count": 75,
   "metadata": {},
   "outputs": [
    {
     "data": {
      "text/plain": [
       "integrate(1/8*(2*y - 2*floor(y) - 1)*(2*(5*y^4 + 3*y^2)*(y^2*arctan(1/y) + y + arctan(1/y))/(y^5 + y^3)^2 - 2*(2*y*arctan(1/y) - 1/(1/y^2 + 1) - 1/(y^2*(1/y^2 + 1)) + 1)/(y^5 + y^3) - 3*pi/y^4), y, 1, +Infinity)"
      ]
     },
     "execution_count": 75,
     "metadata": {},
     "output_type": "execute_result"
    }
   ],
   "source": [
    "R_p_int"
   ]
  },
  {
   "cell_type": "code",
   "execution_count": 76,
   "metadata": {},
   "outputs": [
    {
     "data": {
      "text/plain": [
       "-1/2*(y^2*arctan(1/y) + y + arctan(1/y))/(y^5 + y^3) + 1/4*pi/y^3"
      ]
     },
     "execution_count": 76,
     "metadata": {},
     "output_type": "execute_result"
    }
   ],
   "source": [
    "integral           (f(x,y),(x, a_x, b_x), hold = False)"
   ]
  },
  {
   "cell_type": "code",
   "execution_count": 77,
   "metadata": {},
   "outputs": [
    {
     "data": {
      "text/plain": [
       "0.014593410520966658"
      ]
     },
     "execution_count": 77,
     "metadata": {},
     "output_type": "execute_result"
    }
   ],
   "source": [
    "R_p_int.n()"
   ]
  },
  {
   "cell_type": "code",
   "execution_count": 78,
   "metadata": {},
   "outputs": [
    {
     "data": {
      "text/plain": [
       "-integrate((2*y - 2*floor(y) - 1)*y/(y^2 + 1)^3, y, 1, +Infinity)"
      ]
     },
     "execution_count": 78,
     "metadata": {},
     "output_type": "execute_result"
    }
   ],
   "source": [
    "R_p_sum"
   ]
  },
  {
   "cell_type": "code",
   "execution_count": 79,
   "metadata": {},
   "outputs": [
    {
     "data": {
      "text/plain": [
       "0.0195690550052681"
      ]
     },
     "execution_count": 79,
     "metadata": {},
     "output_type": "execute_result"
    }
   ],
   "source": [
    "R_p_sum.n()"
   ]
  },
  {
   "cell_type": "code",
   "execution_count": 83,
   "metadata": {},
   "outputs": [],
   "source": [
    "#use_num_int = True\n",
    "\n",
    "#R_p_R_p = euler_maclaurin_R_p(euler_maclaurin_R_p(f(x,y), x, a_x, b_x,p), y, a_y, b_y, p)\n",
    "#R_p_R_p = euler_maclaurin_R_p_euler_maclaurin_R_p(f(x,y), x, a_x, b_x,    y, a_y, b_y, p)\n",
    "#print(\"R_p_R_p=$\",latex(R_p_R_p),\"$\")\n",
    "#print(\"R_p_R_p=$\", R_p_R_p.n())\n",
    "#display(Math(latex(R_p_R_p)))"
   ]
  },
  {
   "cell_type": "code",
   "execution_count": 81,
   "metadata": {},
   "outputs": [
    {
     "name": "stdout",
     "output_type": "stream",
     "text": [
      "f_diff_x_diff_y 24*x*y/(x^2 + y^2)^4\n"
     ]
    },
    {
     "name": "stderr",
     "output_type": "stream",
     "text": [
      "<ipython-input-1-7c10f773b426>:5: IntegrationWarning: The maximum number of subdivisions (50) has been achieved.\n",
      "  If increasing the limit yields no improvement it is advised to analyze \n",
      "  the integrand in order to determine the difficulties.  If the position of a \n",
      "  local difficulty can be determined (singularity, discontinuity) one will \n",
      "  probably gain from splitting up the interval and calling the integrator \n",
      "  on the subranges.  Perhaps a special-purpose integrator should be used.\n",
      "  integral = integrate.quad(f, a, b)\n",
      "<ipython-input-1-7c10f773b426>:5: IntegrationWarning: The integral is probably divergent, or slowly convergent.\n",
      "  integral = integrate.quad(f, a, b)\n"
     ]
    }
   ],
   "source": [
    "exec(preparse(\"f_diff_x_diff_y = lambda x,y:\" + str(f(x,y).diff(x,p).diff(y,p))))\n",
    "print(\"f_diff_x_diff_y\", f_diff_x_diff_y(x,y))\n",
    "R_p_R_p = euler_maclaurin_R_p_euler_maclaurin_R_p_num_int(f_diff_x_diff_y, x, a_x, b_x, y, a_y, b_y, p)"
   ]
  },
  {
   "cell_type": "code",
   "execution_count": 82,
   "metadata": {},
   "outputs": [
    {
     "data": {
      "text/plain": [
       "0.008150899241692044"
      ]
     },
     "execution_count": 82,
     "metadata": {},
     "output_type": "execute_result"
    }
   ],
   "source": [
    "R_p_R_p"
   ]
  },
  {
   "cell_type": "markdown",
   "metadata": {},
   "source": [
    "# Summary"
   ]
  },
  {
   "cell_type": "code",
   "execution_count": 84,
   "metadata": {},
   "outputs": [
    {
     "data": {
      "text/plain": [
       "(0.142699081698724, 0.0713495408493621, 0.0145963980962299)"
      ]
     },
     "execution_count": 84,
     "metadata": {},
     "output_type": "execute_result"
    }
   ],
   "source": [
    "int_int.n(), int_sum.n(), int_R_p_n.n()"
   ]
  },
  {
   "cell_type": "code",
   "execution_count": 85,
   "metadata": {},
   "outputs": [
    {
     "data": {
      "text/plain": [
       "(0.0713495408493621, 0.0625000000000000, -0.0391378936908628)"
      ]
     },
     "execution_count": 85,
     "metadata": {},
     "output_type": "execute_result"
    }
   ],
   "source": [
    "sum_int.n(), sum_sum.n(), sum_R_p_n.n()"
   ]
  },
  {
   "cell_type": "code",
   "execution_count": 86,
   "metadata": {},
   "outputs": [
    {
     "data": {
      "text/plain": [
       "(0.014593410520966658, 0.0195690550052681, 0.008150899241692044)"
      ]
     },
     "execution_count": 86,
     "metadata": {},
     "output_type": "execute_result"
    }
   ],
   "source": [
    "R_p_int.n(), R_p_sum.n(), R_p_R_p"
   ]
  },
  {
   "cell_type": "code",
   "execution_count": 87,
   "metadata": {},
   "outputs": [
    {
     "data": {
      "text/plain": [
       "0.365670032570742"
      ]
     },
     "execution_count": 87,
     "metadata": {},
     "output_type": "execute_result"
    }
   ],
   "source": [
    "int_int.n() + int_sum.n() + int_R_p_n.n() + \\\n",
    "sum_int.n() + sum_sum.n() + sum_R_p_n.n() + \\\n",
    "R_p_int.n() + R_p_sum.n() + R_p_R_p"
   ]
  },
  {
   "cell_type": "code",
   "execution_count": null,
   "metadata": {},
   "outputs": [],
   "source": []
  }
 ],
 "metadata": {
  "kernelspec": {
   "display_name": "SageMath 9.3",
   "language": "sage",
   "name": "sagemath"
  },
  "language_info": {
   "codemirror_mode": {
    "name": "ipython",
    "version": 3
   },
   "file_extension": ".py",
   "mimetype": "text/x-python",
   "name": "python",
   "nbconvert_exporter": "python",
   "pygments_lexer": "ipython3",
   "version": "3.9.2"
  }
 },
 "nbformat": 4,
 "nbformat_minor": 4
}
