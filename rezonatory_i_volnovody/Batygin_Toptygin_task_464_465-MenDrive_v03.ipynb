{
 "cells": [
  {
   "cell_type": "markdown",
   "metadata": {},
   "source": [
    "# Электродинамический расчёт волнового двигателя с внутренним расходом энергии Ф.Ф.Менде (MenDrive)\n",
    "\n",
    "А.Ю.Дроздов"
   ]
  },
  {
   "cell_type": "markdown",
   "metadata": {},
   "source": [
    "Основываясь на решении задач из задачника Батыгина Топтыгина\n",
    "\n",
    "Batygin_Toptygin_task_464_465.sage\n",
    "\n",
    "В. В. БАТЫГИН, И. Н. ТОПТЫГИН\n",
    "СБОРНИК ЗАДАЧ\n",
    "по\n",
    "ЭЛЕКТРОДИНАМИКЕ\n",
    "МОСКВА 1970\n",
    "\n",
    "512. Бесконечно протяженный диэлектрический слой заполняет в вакууме область $-a<=x<=a$ и имеет проницаемости $\\epsilon$ и $\\mu$.\n",
    "Показать, что такой слой может действовать как волновод (для этого нужно, чтобы поле бегущей электромагнитной волны концентрировалось, в основном, внутри слоя). Определить типы волн, которые могут распространяться в таком волноводе. Ограничиться случаем, когда векторы поля не зависят от координаты $y$.\n",
    "\n",
    "513. Диэлектрический слой с проницаемостями $\\epsilon$, $\\mu$, заполняющий область $0<=x<=a$, нанесен на поверхность идеального\n",
    "проводника. В области $x>a$ - вакуум. Какие типы электромагнитных волн с амплитудой, убывающей при удалении от слоя, могут распространяться вдоль слоя? Сравнить возможные типы волн с системой волн, полученной в предыдущей задаче.\n",
    "\n",
    "В издании 1962 года номера этих задач 464 и 465"
   ]
  },
  {
   "cell_type": "markdown",
   "metadata": {},
   "source": [
    "рассчитаем тягу в\n",
    "\n",
    "http://fmnauka.narod.ru/dvigatel_emdrive.pdf\n",
    "\n",
    "Ф.Ф. МЕНДЕ, ВОЛНОВОЙ ДВИГАТЕЛЬ С ВНУТРЕННИМ РАСХОДОМ ЭНЕРГИИ ЭЛЕКТРОМАГНИТНЫХ КОЛЕБАНИЙ"
   ]
  },
  {
   "cell_type": "markdown",
   "metadata": {},
   "source": [
    "геометрия задачи следующая: \n",
    "\n",
    "поверхность идеального проводника $x<=-a$\n",
    "\n",
    "вакуума внутри резонатора заполняет область $-a<=x<=0$\n",
    "\n",
    "В области $x>0$ - плохой проводник"
   ]
  },
  {
   "cell_type": "markdown",
   "metadata": {},
   "source": [
    "$$rot\\,\\vec{E} = \\mu\\,\\frac{i\\,\\omega}{c}\\,\\vec{H}$$\n",
    "\n",
    "$$rot\\,\\vec{H} = \\frac{1}{c}\\frac{\\partial \\vec D}{\\partial t} + \\frac{4\\pi}{c} \\vec j = - \\frac{i\\,\\omega}{c} \\epsilon \\vec{E} + \\frac{4\\pi}{c}\\sigma \\vec E$$\n",
    "\n",
    "$$rot\\,rot\\,\\vec{E} = \\mu\\,\\frac{i\\,\\omega}{c}rot\\,\\vec{H}$$\n",
    "\n",
    "$$rot\\,rot\\,\\vec{E} = \\mu\\,\\frac{i\\,\\omega}{c}\\left(- \\frac{i\\,\\omega}{c} \\epsilon \\vec{E} + \\frac{4\\pi}{c}\\sigma \\vec E\\right)$$\n",
    "\n",
    "$$rot\\,rot\\,\\vec{E} = \\epsilon \\mu\\,\\frac{\\omega^2}{c^2} \\vec{E} + i\\,\\omega\\,\\sigma\\,\\mu\\,\\frac{4\\pi}{c^2} \\vec E$$\n",
    "\n",
    "$$rot\\,rot\\,\\vec{E} = grad\\,div\\,\\vec{E} - Laplasian\\,\\vec{E}$$\n",
    "\n",
    "$$Laplasian\\,\\vec{E} + \\epsilon \\mu \\frac{\\omega^2}{c^2}\\,\\vec{E} + i\\,\\omega\\,\\sigma\\,\\mu\\,\\frac{4\\pi}{c^2} \\vec E - grad\\,div\\,\\vec{E} = 0$$\n"
   ]
  },
  {
   "cell_type": "markdown",
   "metadata": {},
   "source": [
    "$$div\\,\\vec{E} = - \\frac{\\vec{n}}{c} \\frac{\\partial \\vec E}{\\partial t}$$\n",
    "\n",
    "$$grad\\,div\\,\\vec{E} = - grad\\,\\frac{\\vec{n}}{c} \\frac{\\partial \\vec E}{\\partial t}$$\n",
    "\n",
    "для вакуума внутри резонатора ищем решение в виде\n",
    "\n",
    "$$\\vec{E} = \\vec{E}(x)\\,e^{i\\,k\\,z}\\,e^{-i\\,\\omega\\,t}$$"
   ]
  },
  {
   "cell_type": "markdown",
   "metadata": {},
   "source": [
    "подставляя в исходное уравнение приходим к обыкновенному дифференциальному уравнению\n",
    "\n",
    "$$\\frac{\\partial^{2}}{(\\partial {x})^{2}}\\vec{E}(x) + \\frac{\\partial^{2}}{(\\partial {y})^{2}}\\vec{E}(x) + \\left(\\epsilon  \\mu \\frac{\\omega^2}{c^2} + i\\,\\omega\\,\\sigma\\,\\mu\\,\\frac{4\\pi}{c^2} - {k'_z}^2\\right)\\,\\vec{E}(x) - grad\\,div\\,\\vec{E} = 0$$"
   ]
  },
  {
   "cell_type": "markdown",
   "metadata": {},
   "source": [
    "производим следующую замену переменных\n",
    "\n",
    "$$\\kappa^2 = \\epsilon \\mu \\frac{\\omega^2}{c^2} + i\\,\\omega\\,\\sigma\\,\\mu\\,\\frac{4\\pi}{c^2}$$\n",
    "\n",
    "теперь получаем дифференциальное уравнение\n",
    "\n",
    "$$\\frac{\\partial^{2}}{(\\partial {x})^{2}}\\vec{E}(x) + \\frac{\\partial^{2}}{(\\partial {y})^{2}}\\vec{E}(x) + \\left(\\kappa^2 - {k'_z}^2\\right)\\,\\vec{E}(x) = 0$$"
   ]
  },
  {
   "cell_type": "code",
   "execution_count": null,
   "metadata": {},
   "outputs": [],
   "source": []
  },
  {
   "cell_type": "markdown",
   "metadata": {},
   "source": [
    "для проводящего металла с потерями ищем решение в виде\n",
    "\n",
    "$$\\vec{E} = \\vec{E}\\,e^{i\\,k'_x\\,x}\\,e^{i\\,k'_z\\,z}\\,e^{-i\\,\\omega\\,t}$$\n",
    "\n",
    "в котором волновой вектор, направленный вдоль оси z комплексный $k'_z = k_z + i\\,s_z$, как и волновой вектор, направленный вдоль оси x может быть комплексным $k'_x = k_x + i\\,s_x$\n",
    "\n",
    "$$\\vec{E} = \\vec{E}\\,e^{i\\,(k_x + i\\,s_x)\\,(x-a)}\\,e^{i\\,(k_z + i\\,s_z)\\,z}\\,e^{-i\\,\\omega\\,t}$$"
   ]
  },
  {
   "cell_type": "code",
   "execution_count": null,
   "metadata": {},
   "outputs": [],
   "source": []
  },
  {
   "cell_type": "markdown",
   "metadata": {},
   "source": [
    "принимая модель комплексного представления диэлектрической проницаемости $\\epsilon' = \\epsilon + \\frac{4\\pi\\,\\sigma}{\\omega}\\,i$ (плохой проводник)"
   ]
  },
  {
   "cell_type": "markdown",
   "metadata": {},
   "source": [
    "подставляем решение в\n",
    "\n",
    "$$Laplasian\\,\\vec{E} + \\frac{\\mu \\omega^2}{c^2}\\left(\\epsilon + \\frac{4\\pi\\,\\sigma}{\\omega}\\,i\\right)\\,\\vec{E} - grad\\,div\\,\\vec{E} = 0$$\n",
    "\n",
    "и принимая\n",
    "\n",
    "$$div\\,\\vec{E} = - \\frac{\\vec{n}}{c} \\frac{\\partial \\vec E}{\\partial t}$$"
   ]
  },
  {
   "cell_type": "markdown",
   "metadata": {},
   "source": [
    "приходим к\n",
    "\n",
    "$$\\frac{\\partial^{2}}{(\\partial {x})^{2}}\\vec{E}(x) + \\frac{\\partial^{2}}{(\\partial {y})^{2}}\\vec{E}(x) + \\left(\\frac{\\mu \\omega^2}{c^2}\\left(\\epsilon + \\frac{4\\pi\\,\\sigma}{\\omega}\\,i\\right)  - {k'_z}^2\\right)\\,\\vec{E} - grad\\, \\left(\\frac{\\vec{n}}{c} \\frac{\\partial \\vec E}{\\partial t} \\right) = 0$$"
   ]
  },
  {
   "cell_type": "markdown",
   "metadata": {},
   "source": [
    "$$ k = \\frac{\\omega}{c}\\,\\sqrt{\\mu\\,\\left(\\epsilon  + \\frac{4\\pi\\,\\sigma}{\\omega}\\,i\\right)}$$"
   ]
  },
  {
   "cell_type": "markdown",
   "metadata": {},
   "source": [
    "$${k'_z}^2=\\left(k_z + i\\,s_z \\right)^2 = k_z^2 - s_z^2 + 2\\,i\\,k_z\\,s_z$$"
   ]
  },
  {
   "cell_type": "markdown",
   "metadata": {},
   "source": [
    "приходим к\n",
    "\n",
    "$$\\frac{\\partial^{2}}{(\\partial {x})^{2}}\\vec{E}(x) + \\frac{\\partial^{2}}{(\\partial {y})^{2}}\\vec{E}(x) + \\left(\\frac{\\mu \\omega^2}{c^2}\\epsilon + \\frac{\\mu \\omega^2}{c^2}\\frac{4\\pi\\,\\sigma}{\\omega}\\,i - {k'_z}^{2}\\right) = 0$$\n"
   ]
  },
  {
   "cell_type": "code",
   "execution_count": 1,
   "metadata": {},
   "outputs": [],
   "source": [
    "from IPython.display import display, Math, Latex\n",
    "\n",
    "mu = var('mu')\n",
    "assume(mu, 'real')\n",
    "assume(mu>0)\n",
    "\n",
    "epsilon = var('epsilon')\n",
    "assume(epsilon, 'real')\n",
    "assume(epsilon>0)\n",
    "\n",
    "mu_0 = 1\n",
    "epsilon_0 = 1\n",
    "\n",
    "sigma = var('sigma')\n",
    "assume(sigma, 'real')\n",
    "assume(sigma>0)\n",
    "\n",
    "sx = var ('sx')\n",
    "assume(sx, 'real')\n",
    "assume(sx>0)\n",
    "\n",
    "sy = var ('sy')\n",
    "assume(sy, 'real')\n",
    "assume(sy>0)\n",
    "\n",
    "sz = var ('sz')\n",
    "assume(sz, 'real')\n",
    "assume(sz>0)\n",
    "\n",
    "kappa_vacuum = var ('kappa_vacuum')\n",
    "assume(kappa_vacuum, 'real')\n",
    "assume(kappa_vacuum>0)\n",
    "\n",
    "#k, kappa = var('k, kappa')\n",
    "kappa = var('kappa')\n",
    "#assume(k, 'complex')\n",
    "assume(kappa, 'complex')\n",
    "\n",
    "kx = var ('kx')\n",
    "assume(kx, 'real')\n",
    "\n",
    "ky = var ('ky')\n",
    "assume(ky, 'real')\n",
    "\n",
    "kz = var ('kz')\n",
    "assume(kz, 'real')\n",
    "\n",
    "k__x = var ('k__x')\n",
    "assume(k__x, 'complex')\n",
    "\n",
    "k__y = var ('k__y')\n",
    "assume(k__x, 'complex')\n",
    "\n",
    "k__z = var ('k__z')\n",
    "assume(k__z, 'complex')\n",
    "\n",
    "k_x = var ('k_x')\n",
    "assume(k_x, 'complex')\n",
    "\n",
    "k_y = var ('k_y')\n",
    "assume(k_x, 'complex')\n",
    "\n",
    "k_z = var ('k_z')\n",
    "assume(k_z, 'complex')\n",
    "\n",
    "\n",
    "a = var('a')\n",
    "assume(a, 'real')\n",
    "assume(a>0)\n",
    "\n",
    "x = var('x')\n",
    "y = var('y')\n",
    "z = var('z')\n",
    "\n",
    "assume(x, 'real')\n",
    "assume(y, 'real')\n",
    "assume(z, 'real')\n",
    "\n",
    "c = var('c')\n",
    "assume(c, 'real')\n",
    "assume(c>0)\n",
    "\n",
    "omega = var('omega')\n",
    "assume(omega, 'real')\n",
    "\n",
    "good_conductor = False"
   ]
  },
  {
   "cell_type": "code",
   "execution_count": 2,
   "metadata": {},
   "outputs": [],
   "source": [
    "p = var(\"p\") # angle of phase shift of A1_z\n",
    "# k = var(\"k\") # wave vector along x\n",
    "\n",
    "assume(a, \"real\")\n",
    "assume(p, \"real\")\n",
    "\n",
    "# assume(k, \"complex\")"
   ]
  },
  {
   "cell_type": "markdown",
   "metadata": {},
   "source": [
    "$$\\kappa^2 = \\epsilon \\mu \\frac{\\omega^2}{c^2} + i\\,\\omega\\,\\sigma\\,\\mu\\,\\frac{4\\pi}{c^2}$$"
   ]
  },
  {
   "cell_type": "code",
   "execution_count": 3,
   "metadata": {},
   "outputs": [
    {
     "name": "stdout",
     "output_type": "stream",
     "text": [
      "eq_kappa =\n"
     ]
    },
    {
     "data": {
      "text/latex": [
       "$\\displaystyle \\kappa^{2} = \\frac{4 i \\, \\pi \\mu \\omega \\sigma}{c} + \\frac{\\epsilon \\mu \\omega^{2}}{c^{2}}$"
      ],
      "text/plain": [
       "<IPython.core.display.Math object>"
      ]
     },
     "metadata": {},
     "output_type": "display_data"
    },
    {
     "name": "stdout",
     "output_type": "stream",
     "text": [
      "eq_kappa_inner_vacuum =\n"
     ]
    },
    {
     "data": {
      "text/latex": [
       "$\\displaystyle \\kappa_{\\mathit{vacuum}}^{2} = \\frac{\\omega^{2}}{c^{2}}$"
      ],
      "text/plain": [
       "<IPython.core.display.Math object>"
      ]
     },
     "metadata": {},
     "output_type": "display_data"
    }
   ],
   "source": [
    "# исходя из вида дифференциальных уравнений для вакуума внутри резонатора и проводящего металла с потерями\n",
    "# записываем соотнощения для волнового вектора в виде уравнений\n",
    "\n",
    "if good_conductor:\n",
    "    eq_kappa              = kappa^2 == I*omega*sigma*mu*4*pi/c\n",
    "else:\n",
    "    eq_kappa              = kappa^2 == mu * epsilon * omega^2 / c^2 + I*omega*sigma*mu*4*pi/c\n",
    "eq_kappa_inner_vacuum = kappa_vacuum^2 == omega^2 / c^2\n",
    "\n",
    "kappa_sol = solve(eq_kappa, kappa)[1]\n",
    "#kappa_vacuum_sol = omega / c\n",
    "\n",
    "print(\"eq_kappa =\")\n",
    "display(Math(latex(eq_kappa)))\n",
    "\n",
    "print(\"eq_kappa_inner_vacuum =\")\n",
    "display(Math(latex(eq_kappa_inner_vacuum)))"
   ]
  },
  {
   "cell_type": "code",
   "execution_count": null,
   "metadata": {},
   "outputs": [],
   "source": []
  },
  {
   "cell_type": "markdown",
   "metadata": {},
   "source": [
    "принимая модель комплексного представления диэлектрической проницаемости $\\epsilon' = \\epsilon + \\frac{4\\pi\\,c\\,\\sigma}{\\omega}\\,i$ (плохой проводник)"
   ]
  },
  {
   "cell_type": "code",
   "execution_count": 4,
   "metadata": {},
   "outputs": [],
   "source": [
    "if good_conductor:\n",
    "    epsilon_complex = + I * 4 * pi * sigma * c / omega\n",
    "else:\n",
    "    epsilon_complex = epsilon + I * 4 * pi * sigma * c / omega"
   ]
  },
  {
   "cell_type": "code",
   "execution_count": 5,
   "metadata": {},
   "outputs": [
    {
     "data": {
      "text/plain": [
       "(4*I*pi*mu*omega*sigma/c + epsilon*mu*omega^2/c^2,\n",
       " 4*I*pi*mu*omega*sigma/c + epsilon*mu*omega^2/c^2)"
      ]
     },
     "execution_count": 5,
     "metadata": {},
     "output_type": "execute_result"
    }
   ],
   "source": [
    "tst_eq = (kappa == sqrt(epsilon_complex * mu) * omega/c).subs(kappa_sol)\n",
    "(tst_eq.lhs()^2).expand(), (tst_eq.rhs()^2).expand()"
   ]
  },
  {
   "cell_type": "code",
   "execution_count": null,
   "metadata": {},
   "outputs": [],
   "source": []
  },
  {
   "cell_type": "markdown",
   "metadata": {},
   "source": [
    "приходим к\n",
    "\n",
    "$$\\frac{\\partial^{2}}{(\\partial {x})^{2}}\\vec{E}(x) + \\frac{\\partial^{2}}{(\\partial {y})^{2}}\\vec{E}(x) +  \\left(\\frac{\\mu \\omega^2}{c^2}\\epsilon + \\frac{\\mu \\omega^2}{c^2}\\frac{4\\pi\\,\\sigma}{\\omega}\\,i - {k'_z}^{2}\\right) = 0$$\n"
   ]
  },
  {
   "cell_type": "markdown",
   "metadata": {},
   "source": [
    "$${k'_z}^2=\\left(k_z + i\\,s_z \\right)^2 = k_z^2 - s_z^2 + 2\\,i\\,k_z\\,s_z$$"
   ]
  },
  {
   "cell_type": "markdown",
   "metadata": {},
   "source": []
  },
  {
   "cell_type": "code",
   "execution_count": 6,
   "metadata": {},
   "outputs": [],
   "source": [
    "k__y_subs = k__y == 0 #ky + I * sy"
   ]
  },
  {
   "cell_type": "code",
   "execution_count": 7,
   "metadata": {},
   "outputs": [],
   "source": [
    "k__z_subs = k__z == kz + I * sz"
   ]
  },
  {
   "cell_type": "code",
   "execution_count": null,
   "metadata": {},
   "outputs": [],
   "source": []
  },
  {
   "cell_type": "markdown",
   "metadata": {},
   "source": [
    "$$\\frac{\\partial^{2}}{(\\partial {x})^{2}}\\vec{E}(x) + \\frac{\\partial^{2}}{(\\partial {y})^{2}}\\vec{E}(x) + \\left(\\frac{\\mu \\epsilon \\omega^2}{c^2} - {k'_z}^2\\right)\\,\\vec{E}(x) - grad\\,div\\,\\vec{E} = 0$$"
   ]
  },
  {
   "cell_type": "markdown",
   "metadata": {},
   "source": [
    "зависимость поля от $y$ отсутствует"
   ]
  },
  {
   "cell_type": "markdown",
   "metadata": {},
   "source": [
    "$$\\frac{\\partial^{2}}{(\\partial {x})^{2}}\\vec{E}(x) + \\left(\\frac{\\mu \\epsilon \\omega^2}{c^2} - {k'_z}^2\\right)\\,\\vec{E}(x) - grad\\,div\\,\\vec{E} = 0$$"
   ]
  },
  {
   "cell_type": "code",
   "execution_count": 8,
   "metadata": {},
   "outputs": [
    {
     "name": "stdout",
     "output_type": "stream",
     "text": [
      "de_inner_vacuum =\n"
     ]
    },
    {
     "data": {
      "text/latex": [
       "$\\displaystyle -{\\left(k_{z}^{2} - \\kappa^{2}\\right)} E\\left(x\\right) + \\frac{\\partial^{2}}{(\\partial x)^{2}}E\\left(x\\right) = 0$"
      ],
      "text/plain": [
       "<IPython.core.display.Math object>"
      ]
     },
     "metadata": {},
     "output_type": "display_data"
    }
   ],
   "source": [
    "# решаем полученные обыкновенные дифференциальные уравнения\n",
    "E = function('E')(x)\n",
    "\n",
    "\n",
    "de_inner_vacuum = diff (E, x, 2) + diff (E, y, 2) + (kappa^2 - k_z^2) * E == 0\n",
    "# diff (E, y, 2) == 0\n",
    "de_inner_vacuum = diff (E, x, 2) + (kappa^2 - k_z^2) * E == 0\n",
    "# получая таким образом выражения для электрического поля в вакуума внутри резонатора и внутри проводящего металла с потерями\n",
    "print(\"de_inner_vacuum =\")\n",
    "display(Math(latex(de_inner_vacuum)))"
   ]
  },
  {
   "cell_type": "code",
   "execution_count": 9,
   "metadata": {},
   "outputs": [
    {
     "name": "stdout",
     "output_type": "stream",
     "text": [
      "E_inner_vacuum =\n"
     ]
    },
    {
     "data": {
      "text/latex": [
       "$\\displaystyle K_{1} e^{\\left(i \\, \\sqrt{-k_{z}^{2} + \\kappa^{2}} x\\right)} + K_{2} e^{\\left(-i \\, \\sqrt{-k_{z}^{2} + \\kappa^{2}} x\\right)}$"
      ],
      "text/plain": [
       "<IPython.core.display.Math object>"
      ]
     },
     "metadata": {},
     "output_type": "display_data"
    }
   ],
   "source": [
    "assume(k_z^2-kappa^2 > 0)\n",
    "\n",
    "E_inner_vacuum = desolve(de_inner_vacuum, E, ivar = x)\n",
    "#E_inner_vacuum = desolve(de_inner_vacuum, E, ivar = [x, y], contrib_ode = True)\n",
    "\n",
    "# получая таким образом выражения для электрического поля в вакуума внутри резонатора и внутри проводящего металла с потерями\n",
    "print(\"E_inner_vacuum =\")\n",
    "display(Math(latex(E_inner_vacuum)))"
   ]
  },
  {
   "cell_type": "code",
   "execution_count": 10,
   "metadata": {},
   "outputs": [],
   "source": [
    "# eq_kx_vacuum = k_x = I*sqrt(kappa_vacuum^2-k_z^2)\n",
    "# eq_kx        = k_x = I*sqrt(kappa^2-k_z^2)"
   ]
  },
  {
   "cell_type": "code",
   "execution_count": null,
   "metadata": {},
   "outputs": [],
   "source": []
  },
  {
   "cell_type": "code",
   "execution_count": 11,
   "metadata": {},
   "outputs": [],
   "source": [
    "B1_x = var ('B1_x')\n",
    "B2_x = var ('B2_x')\n",
    "\n",
    "A1_x = var ('A1_x')\n",
    "A2_x = var ('A2_x')\n",
    "\n",
    "\n",
    "B1_y = var ('B1_y')\n",
    "B2_y = var ('B2_y')\n",
    "\n",
    "A1_y = var ('A1_y')\n",
    "A2_y = var ('A2_y')\n",
    "\n",
    "\n",
    "B1_z = var ('B1_z')\n",
    "B2_z = var ('B2_z')\n",
    "\n",
    "A1_z = var ('A1_z')\n",
    "A2_z = var ('A2_z')\n",
    "\n",
    "A1_x_re, A1_y_re, A1_z_re = var(\"A1_x_re, A1_y_re, A1_z_re\")\n",
    "A1_x_im, A1_y_im, A1_z_im = var(\"A1_x_im, A1_y_im, A1_z_im\")\n",
    "\n",
    "A2_x_re, A2_y_re, A2_z_re = var(\"A2_x_re, A2_y_re, A2_z_re\")\n",
    "A2_x_im, A2_y_im, A2_z_im = var(\"A2_x_im, A2_y_im, A2_z_im\")\n",
    "\n",
    "B1_x_re, B1_y_re, B1_z_re = var(\"B1_x_re, B1_y_re, B1_z_re\")\n",
    "B1_x_im, B1_y_im, B1_z_im = var(\"B1_x_im, B1_y_im, B1_z_im\")\n",
    "\n",
    "\n",
    "assume(A1_x_re, \"real\")\n",
    "assume(A1_x_im, \"real\")\n",
    "\n",
    "assume(A2_x_re, \"real\")\n",
    "assume(A2_x_im, \"real\")\n",
    "\n",
    "assume(A1_y_re, \"real\")\n",
    "assume(A1_y_im, \"real\")\n",
    "\n",
    "assume(A2_y_re, \"real\")\n",
    "assume(A2_y_im, \"real\")\n",
    "\n",
    "assume(A1_z_re, \"real\")\n",
    "assume(A1_z_im, \"real\")\n",
    "\n",
    "assume(A2_z_re, \"real\")\n",
    "assume(A2_z_im, \"real\")\n",
    "\n",
    "\n",
    "assume(B1_x_re, \"real\")\n",
    "assume(B1_x_im, \"real\")\n",
    "\n",
    "assume(B1_y_re, \"real\")\n",
    "assume(B1_y_im, \"real\")\n",
    "\n",
    "assume(B1_z_re, \"real\")\n",
    "assume(B1_z_im, \"real\")"
   ]
  },
  {
   "cell_type": "code",
   "execution_count": 12,
   "metadata": {},
   "outputs": [],
   "source": [
    "A1_x_re_im_subs = A1_x == A1_x_re + I * A1_x_im\n",
    "A2_x_re_im_subs = A2_x == A2_x_re + I * A2_x_im\n",
    "\n",
    "A1_y_re_im_subs = A1_y == A1_y_re + I * A1_y_im\n",
    "A2_y_re_im_subs = A2_y == A2_y_re + I * A2_y_im\n",
    "\n",
    "A1_z_re_im_subs = A1_z == A1_z_re + I * A1_z_im\n",
    "A2_z_re_im_subs = A2_z == A2_z_re + I * A2_z_im\n",
    "\n",
    "B1_x_re_im_subs = B1_x == B1_x_re + I * B1_x_im\n",
    "B1_y_re_im_subs = B1_y == B1_y_re + I * B1_y_im\n",
    "B1_z_re_im_subs = B1_z == B1_z_re + I * B1_z_im"
   ]
  },
  {
   "cell_type": "code",
   "execution_count": 13,
   "metadata": {},
   "outputs": [],
   "source": [
    "# 2D\n",
    "# отсутсвие изменения поля вдоль оси y\n",
    "set_Ey_0 = False"
   ]
  },
  {
   "cell_type": "code",
   "execution_count": 14,
   "metadata": {},
   "outputs": [],
   "source": [
    "if set_Ey_0:\n",
    "    B1_y = 0\n",
    "    B2_y = 0\n",
    "\n",
    "    A1_y = 0\n",
    "    A2_y = 0\n",
    "\n",
    "    ky   = 0"
   ]
  },
  {
   "cell_type": "code",
   "execution_count": 15,
   "metadata": {},
   "outputs": [],
   "source": [
    "# K_vacuum = sqrt(kappa_vacuum^2-k_z^2)\n",
    "# K_conductor = sqrt(kappa^2-k_z^2)\n",
    "\n",
    "K_vacuum    = var(\"K_vacuum\")\n",
    "K_conductor = var(\"K_conductor\")"
   ]
  },
  {
   "cell_type": "code",
   "execution_count": 16,
   "metadata": {},
   "outputs": [
    {
     "name": "stdout",
     "output_type": "stream",
     "text": [
      "E_inner_vacuum_sol_z (x) \n"
     ]
    },
    {
     "data": {
      "text/latex": [
       "$\\displaystyle \\mathit{A2}_{z} e^{\\left(i \\, K_{\\mathit{vacuum}} x\\right)} + \\mathit{A1}_{z} e^{\\left(-i \\, K_{\\mathit{vacuum}} x\\right)}$"
      ],
      "text/plain": [
       "<IPython.core.display.Math object>"
      ]
     },
     "metadata": {},
     "output_type": "display_data"
    },
    {
     "name": "stdout",
     "output_type": "stream",
     "text": [
      "E_inner_vacuum_sol_x (x) =\n"
     ]
    },
    {
     "data": {
      "text/latex": [
       "$\\displaystyle \\mathit{A2}_{x} e^{\\left(i \\, K_{\\mathit{vacuum}} x\\right)} + \\mathit{A1}_{x} e^{\\left(-i \\, K_{\\mathit{vacuum}} x\\right)}$"
      ],
      "text/plain": [
       "<IPython.core.display.Math object>"
      ]
     },
     "metadata": {},
     "output_type": "display_data"
    },
    {
     "name": "stdout",
     "output_type": "stream",
     "text": [
      "E_inner_vacuum_sol_y (x) =\n"
     ]
    },
    {
     "data": {
      "text/latex": [
       "$\\displaystyle \\mathit{A2}_{y} e^{\\left(i \\, K_{\\mathit{vacuum}} x\\right)} + \\mathit{A1}_{y} e^{\\left(-i \\, K_{\\mathit{vacuum}} x\\right)}$"
      ],
      "text/plain": [
       "<IPython.core.display.Math object>"
      ]
     },
     "metadata": {},
     "output_type": "display_data"
    }
   ],
   "source": [
    "if False:\n",
    "    # выражения для электрического поля\n",
    "    # в вакууме внутри резонатора\n",
    "    E_inner_vacuum_z (x) = (A1_z_re*cos(sqrt(kappa_vacuum^2-k_z^2)*x) + A1_z_im*sin(sqrt(kappa_vacuum^2-k_z^2)*x))\n",
    "    E_inner_vacuum_x (x) = (A1_x_re*cos(sqrt(kappa_vacuum^2-k_z^2)*x) + A1_x_im*sin(sqrt(kappa_vacuum^2-k_z^2)*x))\n",
    "    E_inner_vacuum_y (x) = (A1_y_re*cos(sqrt(kappa_vacuum^2-k_z^2)*x) + A1_y_im*sin(sqrt(kappa_vacuum^2-k_z^2)*x))\n",
    "\n",
    "    # знак перед корнем будем выбирать всегда так чтобы корень имел положительную мнимую часть\n",
    "    E_inner_vacuum_z (x) = (A1_z*exp(- I * sqrt(kappa_vacuum^2-k_z^2)*x))\n",
    "    E_inner_vacuum_x (x) = (A1_x*exp(- I * sqrt(kappa_vacuum^2-k_z^2)*x))\n",
    "    E_inner_vacuum_y (x) = (A1_y*exp(- I * sqrt(kappa_vacuum^2-k_z^2)*x))\n",
    "\n",
    "    print (\"E_inner_vacuum_z \")\n",
    "    display(Math(latex(E_inner_vacuum_z)))\n",
    "    print (\"E_inner_vacuum_x =\")\n",
    "    display(Math(latex(E_inner_vacuum_x)))\n",
    "    print (\"E_inner_vacuum_y =\")\n",
    "    display(Math(latex(E_inner_vacuum_y)))\n",
    "else:\n",
    "    # знак перед корнем (K_vacuum) будем выбирать всегда так чтобы корень имел положительную мнимую часть\n",
    "    E_inner_vacuum_sol_z (x) = A1_z*exp(- I * K_vacuum*x) + A2_z*exp( I * K_vacuum*x)\n",
    "    E_inner_vacuum_sol_x (x) = A1_x*exp(- I * K_vacuum*x) + A2_x*exp( I * K_vacuum*x)\n",
    "    E_inner_vacuum_sol_y (x) = A1_y*exp(- I * K_vacuum*x) + A2_y*exp( I * K_vacuum*x)\n",
    "\n",
    "    E_inner_vacuum_z = function(\"E_inner_vacuum_z\")\n",
    "    E_inner_vacuum_x = function(\"E_inner_vacuum_x\")\n",
    "    E_inner_vacuum_y = function(\"E_inner_vacuum_y\")\n",
    "\n",
    "\n",
    "\n",
    "print (\"E_inner_vacuum_sol_z (x) \")\n",
    "display(Math(latex(E_inner_vacuum_sol_z (x))))\n",
    "print (\"E_inner_vacuum_sol_x (x) =\")\n",
    "display(Math(latex(E_inner_vacuum_sol_x (x))))\n",
    "print (\"E_inner_vacuum_sol_y (x) =\")\n",
    "display(Math(latex(E_inner_vacuum_sol_y (x))))"
   ]
  },
  {
   "cell_type": "markdown",
   "metadata": {},
   "source": [
    "решение для проводящего металла с потерями\n",
    "\n",
    "$\\vec{E} = \\vec{E}\\,e^{i\\,k_x'\\,x}\\,e^{i\\,k_z\\,z}\\,e^{-i\\,\\omega\\,t}$\n",
    "\n",
    "$k_x' = k_x + i\\,s_x$\n",
    "\n",
    "$\\vec{E} = \\vec{E}\\,e^{-s_x\\,x}\\,e^{i\\,k_x\\,x}\\,e^{i\\,k_z\\,z}\\,e^{-i\\,\\omega\\,t}$"
   ]
  },
  {
   "cell_type": "code",
   "execution_count": 17,
   "metadata": {},
   "outputs": [
    {
     "name": "stdout",
     "output_type": "stream",
     "text": [
      "E_bad_conductor_sol_z (x) \n"
     ]
    },
    {
     "data": {
      "text/latex": [
       "$\\displaystyle \\mathit{B1}_{z} e^{\\left(i \\, K_{\\mathit{conductor}} x\\right)}$"
      ],
      "text/plain": [
       "<IPython.core.display.Math object>"
      ]
     },
     "metadata": {},
     "output_type": "display_data"
    },
    {
     "name": "stdout",
     "output_type": "stream",
     "text": [
      "E_bad_conductor_sol_x (x) =\n"
     ]
    },
    {
     "data": {
      "text/latex": [
       "$\\displaystyle \\mathit{B1}_{x} e^{\\left(i \\, K_{\\mathit{conductor}} x\\right)}$"
      ],
      "text/plain": [
       "<IPython.core.display.Math object>"
      ]
     },
     "metadata": {},
     "output_type": "display_data"
    },
    {
     "name": "stdout",
     "output_type": "stream",
     "text": [
      "E_bad_conductor_sol_y (x) =\n"
     ]
    },
    {
     "data": {
      "text/latex": [
       "$\\displaystyle \\mathit{B1}_{y} e^{\\left(i \\, K_{\\mathit{conductor}} x\\right)}$"
      ],
      "text/plain": [
       "<IPython.core.display.Math object>"
      ]
     },
     "metadata": {},
     "output_type": "display_data"
    }
   ],
   "source": [
    "if False:\n",
    "    # x > a-{k'_x}^{2}-{k'_y}^{2} +\n",
    "    # в проводящем металле с потерями\n",
    "    #if True:\n",
    "    #    E_bad_conductor_z (x) = A2_z * e^(-sx*x) * e^(I*kx*x)\n",
    "    #    E_bad_conductor_x (x) = A2_x * e^(-sx*x) * e^(I*kx*x)\n",
    "    #    E_bad_conductor_y (x) = A2_y * e^(-sx*x) * e^(I*kx*x)\n",
    "    #else:\n",
    "    #    E_bad_conductor_z (x) = A2_z * e^(-sx*(x-a)) * e^(I*kx*(x-a))\n",
    "    #    E_bad_conductor_x (x) = A2_x * e^(-sx*(x-a)) * e^(I*kx*(x-a))\n",
    "    #    E_bad_conductor_y (x) = A2_y * e^(-sx*(x-a)) * e^(I*kx*(x-a))\n",
    "\n",
    "    E_bad_conductor_z (x) = B1_z*cos(sqrt(kappa^2-k_z^2)*x) + B2_z*sin(sqrt(kappa^2-k_z^2)*x)\n",
    "    E_bad_conductor_x (x) = B1_x*cos(sqrt(kappa^2-k_z^2)*x) + B2_x*sin(sqrt(kappa^2-k_z^2)*x)\n",
    "    E_bad_conductor_y (x) = B1_y*cos(sqrt(kappa^2-k_z^2)*x) + B2_y*sin(sqrt(kappa^2-k_z^2)*x)\n",
    "\n",
    "    print (\"E_bad_conductor_z \")\n",
    "    display(Math(latex(E_bad_conductor_z)))\n",
    "    print (\"E_bad_conductor_x =\")\n",
    "    display(Math(latex(E_bad_conductor_x)))\n",
    "    print (\"E_bad_conductor_y =\")\n",
    "    display(Math(latex(E_bad_conductor_y)))\n",
    "else:\n",
    "    # знак перед корнем будем выбирать всегда так чтобы корень имел положительную мнимую часть\n",
    "    E_bad_conductor_sol_z (x) = B1_z*exp(I * K_conductor*x)\n",
    "    E_bad_conductor_sol_x (x) = B1_x*exp(I * K_conductor*x)\n",
    "    E_bad_conductor_sol_y (x) = B1_y*exp(I * K_conductor*x)\n",
    "\n",
    "    E_bad_conductor_z = function(\"E_bad_conductor_z\")\n",
    "    E_bad_conductor_x = function(\"E_bad_conductor_x\")\n",
    "    E_bad_conductor_y = function(\"E_bad_conductor_y\")\n",
    "\n",
    "\n",
    "print (\"E_bad_conductor_sol_z (x) \")\n",
    "display(Math(latex(E_bad_conductor_sol_z (x))))\n",
    "print (\"E_bad_conductor_sol_x (x) =\")\n",
    "display(Math(latex(E_bad_conductor_sol_x (x))))\n",
    "print (\"E_bad_conductor_sol_y (x) =\")\n",
    "display(Math(latex(E_bad_conductor_sol_y (x))))"
   ]
  },
  {
   "cell_type": "code",
   "execution_count": 18,
   "metadata": {},
   "outputs": [
    {
     "name": "stdout",
     "output_type": "stream",
     "text": [
      "H_inner_vacuum_s_y \n"
     ]
    },
    {
     "data": {
      "text/latex": [
       "$\\displaystyle x \\ {\\mapsto}\\ -\\frac{i \\, {\\left(i \\, k_{z} E_{{\\rm inner}_{{\\rm vacuum}_{x}}}\\left(x\\right) - \\frac{\\partial}{\\partial x}E_{{\\rm inner}_{{\\rm vacuum}_{z}}}\\left(x\\right)\\right)} c}{\\omega}$"
      ],
      "text/plain": [
       "<IPython.core.display.Math object>"
      ]
     },
     "metadata": {},
     "output_type": "display_data"
    },
    {
     "name": "stdout",
     "output_type": "stream",
     "text": [
      "H_bad_conductor_s_y =\n"
     ]
    },
    {
     "data": {
      "text/latex": [
       "$\\displaystyle x \\ {\\mapsto}\\ -\\frac{i \\, {\\left(i \\, k_{z} E_{{\\rm bad}_{{\\rm conductor}_{x}}}\\left(x\\right) - \\frac{\\partial}{\\partial x}E_{{\\rm bad}_{{\\rm conductor}_{z}}}\\left(x\\right)\\right)} c}{\\mu \\omega}$"
      ],
      "text/plain": [
       "<IPython.core.display.Math object>"
      ]
     },
     "metadata": {},
     "output_type": "display_data"
    },
    {
     "name": "stdout",
     "output_type": "stream",
     "text": [
      "H_inner_vacuum_sol_y (x) \n"
     ]
    },
    {
     "data": {
      "text/latex": [
       "$\\displaystyle -\\frac{i \\, {\\left(-i \\, \\mathit{A2}_{z} K_{\\mathit{vacuum}} e^{\\left(i \\, K_{\\mathit{vacuum}} x\\right)} + i \\, \\mathit{A1}_{z} K_{\\mathit{vacuum}} e^{\\left(-i \\, K_{\\mathit{vacuum}} x\\right)} + i \\, {\\left(\\mathit{A2}_{x} e^{\\left(i \\, K_{\\mathit{vacuum}} x\\right)} + \\mathit{A1}_{x} e^{\\left(-i \\, K_{\\mathit{vacuum}} x\\right)}\\right)} k_{z}\\right)} c}{\\omega}$"
      ],
      "text/plain": [
       "<IPython.core.display.Math object>"
      ]
     },
     "metadata": {},
     "output_type": "display_data"
    },
    {
     "name": "stdout",
     "output_type": "stream",
     "text": [
      "H_bad_conductor_sol_y (x) =\n"
     ]
    },
    {
     "data": {
      "text/latex": [
       "$\\displaystyle -\\frac{i \\, {\\left(-i \\, \\mathit{B1}_{z} K_{\\mathit{conductor}} e^{\\left(i \\, K_{\\mathit{conductor}} x\\right)} + i \\, \\mathit{B1}_{x} k_{z} e^{\\left(i \\, K_{\\mathit{conductor}} x\\right)}\\right)} c}{\\mu \\omega}$"
      ],
      "text/plain": [
       "<IPython.core.display.Math object>"
      ]
     },
     "metadata": {},
     "output_type": "display_data"
    }
   ],
   "source": [
    "# выражения для магнитного поля в вакууме внутри резонатора и в проводящем металле с потерями\n",
    "# rot E = -1/c dB/dt\n",
    "# H_y = c / (I * omega * mu) * (diff(E_x, z) - diff(E_z, x))\n",
    "\n",
    "# H_inner_vacuum_y  (x) = c / (I * omega)      * (I*k_z*E_inner_vacuum_x  (x) - diff(E_inner_vacuum_z  (x), x))\n",
    "# H_bad_conductor_y (x) = c / (I * omega * mu) * (I*k_z*E_bad_conductor_x (x) - diff(E_bad_conductor_z (x), x))\n",
    "\n",
    "H_inner_vacuum_y  = c/(I*omega)   *(I*k_z*E_inner_vacuum_x (x) - diff(E_inner_vacuum_z (x), x))\n",
    "H_bad_conductor_y = c/(I*omega*mu)*(I*k_z*E_bad_conductor_x(x) - diff(E_bad_conductor_z(x), x))\n",
    "\n",
    "H_inner_vacuum_f_y  = function(\"H_inner_vacuum_f_y\")\n",
    "H_bad_conductor_f_y = function(\"H_bad_conductor_f_y\")\n",
    "\n",
    "H_inner_vacuum_y  = var(\"H_inner_vacuum_y\")\n",
    "H_bad_conductor_y = var(\"H_bad_conductor_y\")\n",
    "\n",
    "H_inner_vacuum_s_y  (x) = c/(I*omega)   *(I*k_z*E_inner_vacuum_x (x) - diff(E_inner_vacuum_z (x), x))\n",
    "H_bad_conductor_s_y (x) = c/(I*omega*mu)*(I*k_z*E_bad_conductor_x(x) - diff(E_bad_conductor_z(x), x))\n",
    "\n",
    "H_inner_vacuum_sol_y  (x) = c/(I*omega)   *(I*k_z*E_inner_vacuum_sol_x (x) - diff(E_inner_vacuum_sol_z (x), x))\n",
    "H_bad_conductor_sol_y (x) = c/(I*omega*mu)*(I*k_z*E_bad_conductor_sol_x(x) - diff(E_bad_conductor_sol_z(x), x))\n",
    "\n",
    "print (\"H_inner_vacuum_s_y \")\n",
    "display(Math(latex(H_inner_vacuum_s_y.simplify())))\n",
    "print (\"H_bad_conductor_s_y =\")\n",
    "display(Math(latex(H_bad_conductor_s_y)))\n",
    "\n",
    "print (\"H_inner_vacuum_sol_y (x) \")\n",
    "display(Math(latex(H_inner_vacuum_sol_y (x).simplify())))\n",
    "print (\"H_bad_conductor_sol_y (x) =\")\n",
    "display(Math(latex(H_bad_conductor_sol_y (x))))"
   ]
  },
  {
   "cell_type": "code",
   "execution_count": 19,
   "metadata": {},
   "outputs": [
    {
     "name": "stdout",
     "output_type": "stream",
     "text": [
      "H_inner_vacuum_s_x \n"
     ]
    },
    {
     "data": {
      "text/latex": [
       "$\\displaystyle x \\ {\\mapsto}\\ -\\frac{i \\, {\\left(-i \\, k_{z} E_{{\\rm inner}_{{\\rm vacuum}_{y}}}\\left(x\\right) + i \\, k_{y} E_{{\\rm inner}_{{\\rm vacuum}_{z}}}\\left(x\\right)\\right)} c}{\\omega}$"
      ],
      "text/plain": [
       "<IPython.core.display.Math object>"
      ]
     },
     "metadata": {},
     "output_type": "display_data"
    },
    {
     "name": "stdout",
     "output_type": "stream",
     "text": [
      "H_bad_conductor_s_x (x) =\n"
     ]
    },
    {
     "data": {
      "text/latex": [
       "$\\displaystyle x \\ {\\mapsto}\\ -\\frac{i \\, {\\left(-i \\, k_{z} E_{{\\rm bad}_{{\\rm conductor}_{y}}}\\left(x\\right) + i \\, k_{y} E_{{\\rm bad}_{{\\rm conductor}_{z}}}\\left(x\\right)\\right)} c}{\\mu \\omega}$"
      ],
      "text/plain": [
       "<IPython.core.display.Math object>"
      ]
     },
     "metadata": {},
     "output_type": "display_data"
    },
    {
     "name": "stdout",
     "output_type": "stream",
     "text": [
      "H_inner_vacuum_sol_x (x) \n"
     ]
    },
    {
     "data": {
      "text/latex": [
       "$\\displaystyle -\\frac{i \\, {\\left(i \\, {\\left(\\mathit{A2}_{z} e^{\\left(i \\, K_{\\mathit{vacuum}} x\\right)} + \\mathit{A1}_{z} e^{\\left(-i \\, K_{\\mathit{vacuum}} x\\right)}\\right)} k_{y} - i \\, {\\left(\\mathit{A2}_{y} e^{\\left(i \\, K_{\\mathit{vacuum}} x\\right)} + \\mathit{A1}_{y} e^{\\left(-i \\, K_{\\mathit{vacuum}} x\\right)}\\right)} k_{z}\\right)} c}{\\omega}$"
      ],
      "text/plain": [
       "<IPython.core.display.Math object>"
      ]
     },
     "metadata": {},
     "output_type": "display_data"
    },
    {
     "name": "stdout",
     "output_type": "stream",
     "text": [
      "H_bad_conductor_sol_x (x) =\n"
     ]
    },
    {
     "data": {
      "text/latex": [
       "$\\displaystyle -\\frac{i \\, {\\left(i \\, \\mathit{B1}_{z} k_{y} e^{\\left(i \\, K_{\\mathit{conductor}} x\\right)} - i \\, \\mathit{B1}_{y} k_{z} e^{\\left(i \\, K_{\\mathit{conductor}} x\\right)}\\right)} c}{\\mu \\omega}$"
      ],
      "text/plain": [
       "<IPython.core.display.Math object>"
      ]
     },
     "metadata": {},
     "output_type": "display_data"
    }
   ],
   "source": [
    "# выражения для магнитного поля в вакууме внутри резонатора и в проводящем металле с потерями\n",
    "# rot E = -1/c dB/dt\n",
    "# H_x = c / (I * omega * mu) * (diff(E_z, y) - diff(E_y, z))\n",
    "\n",
    "H_inner_vacuum_f_x  = function(\"H_inner_vacuum_f_x\")\n",
    "H_bad_conductor_f_x = function(\"H_bad_conductor_f_x\")\n",
    "\n",
    "H_inner_vacuum_x  = var(\"H_inner_vacuum_x\")\n",
    "H_bad_conductor_x = var(\"H_bad_conductor_x\")\n",
    "\n",
    "H_inner_vacuum_s_x(x)  = c/(I*omega)   *(I*k_y*E_inner_vacuum_z (x) - I*k_z*E_inner_vacuum_y (x))\n",
    "H_bad_conductor_s_x(x) = c/(I*omega*mu)*(I*k_y*E_bad_conductor_z(x) - I*k_z*E_bad_conductor_y(x))\n",
    "\n",
    "H_inner_vacuum_sol_x (x) = c/(I*omega)   *(I*k_y*E_inner_vacuum_sol_z (x) - I*k_z*E_inner_vacuum_sol_y (x))\n",
    "H_bad_conductor_sol_x(x) = c/(I*omega*mu)*(I*k_y*E_bad_conductor_sol_z(x) - I*k_z*E_bad_conductor_sol_y(x))\n",
    "\n",
    "print (\"H_inner_vacuum_s_x \")\n",
    "display(Math(latex(H_inner_vacuum_s_x.simplify())))\n",
    "print (\"H_bad_conductor_s_x (x) =\")\n",
    "display(Math(latex(H_bad_conductor_s_x)))\n",
    "\n",
    "print (\"H_inner_vacuum_sol_x (x) \")\n",
    "display(Math(latex(H_inner_vacuum_sol_x (x).simplify())))\n",
    "print (\"H_bad_conductor_sol_x (x) =\")\n",
    "display(Math(latex(H_bad_conductor_sol_x (x))))"
   ]
  },
  {
   "cell_type": "code",
   "execution_count": 20,
   "metadata": {},
   "outputs": [
    {
     "name": "stdout",
     "output_type": "stream",
     "text": [
      "H_inner_vacuum_s_z \n"
     ]
    },
    {
     "data": {
      "text/latex": [
       "$\\displaystyle x \\ {\\mapsto}\\ -\\frac{i \\, {\\left(-i \\, k_{y} E_{{\\rm inner}_{{\\rm vacuum}_{x}}}\\left(x\\right) + \\frac{\\partial}{\\partial x}E_{{\\rm inner}_{{\\rm vacuum}_{y}}}\\left(x\\right)\\right)} c}{\\omega}$"
      ],
      "text/plain": [
       "<IPython.core.display.Math object>"
      ]
     },
     "metadata": {},
     "output_type": "display_data"
    },
    {
     "name": "stdout",
     "output_type": "stream",
     "text": [
      "H_bad_conductor_s_z =\n"
     ]
    },
    {
     "data": {
      "text/latex": [
       "$\\displaystyle x \\ {\\mapsto}\\ -\\frac{i \\, {\\left(-i \\, k_{y} E_{{\\rm bad}_{{\\rm conductor}_{x}}}\\left(x\\right) + \\frac{\\partial}{\\partial x}E_{{\\rm bad}_{{\\rm conductor}_{y}}}\\left(x\\right)\\right)} c}{\\mu \\omega}$"
      ],
      "text/plain": [
       "<IPython.core.display.Math object>"
      ]
     },
     "metadata": {},
     "output_type": "display_data"
    },
    {
     "name": "stdout",
     "output_type": "stream",
     "text": [
      "H_inner_vacuum_sol_z (x) \n"
     ]
    },
    {
     "data": {
      "text/latex": [
       "$\\displaystyle -\\frac{i \\, {\\left(i \\, \\mathit{A2}_{y} K_{\\mathit{vacuum}} e^{\\left(i \\, K_{\\mathit{vacuum}} x\\right)} - i \\, \\mathit{A1}_{y} K_{\\mathit{vacuum}} e^{\\left(-i \\, K_{\\mathit{vacuum}} x\\right)} - i \\, {\\left(\\mathit{A2}_{x} e^{\\left(i \\, K_{\\mathit{vacuum}} x\\right)} + \\mathit{A1}_{x} e^{\\left(-i \\, K_{\\mathit{vacuum}} x\\right)}\\right)} k_{y}\\right)} c}{\\omega}$"
      ],
      "text/plain": [
       "<IPython.core.display.Math object>"
      ]
     },
     "metadata": {},
     "output_type": "display_data"
    },
    {
     "name": "stdout",
     "output_type": "stream",
     "text": [
      "H_bad_conductor_sol_z (x) =\n"
     ]
    },
    {
     "data": {
      "text/latex": [
       "$\\displaystyle -\\frac{i \\, {\\left(i \\, \\mathit{B1}_{y} K_{\\mathit{conductor}} e^{\\left(i \\, K_{\\mathit{conductor}} x\\right)} - i \\, \\mathit{B1}_{x} k_{y} e^{\\left(i \\, K_{\\mathit{conductor}} x\\right)}\\right)} c}{\\mu \\omega}$"
      ],
      "text/plain": [
       "<IPython.core.display.Math object>"
      ]
     },
     "metadata": {},
     "output_type": "display_data"
    }
   ],
   "source": [
    "# выражения для магнитного поля в вакууме внутри резонатора и в проводящем металле с потерями\n",
    "# rot E = -1/c dB/dt\n",
    "# H_z = c / (I * omega * mu) * (diff(E_y, x) - diff(E_x, y))\n",
    "\n",
    "H_inner_vacuum_z  = c / (I*omega)   *(diff(E_inner_vacuum_y (x), x) - I*k_y*E_inner_vacuum_x (x))\n",
    "H_bad_conductor_z = c / (I*omega*mu)*(diff(E_bad_conductor_y(x), x) - I*k_y*E_bad_conductor_x(x))\n",
    "\n",
    "H_inner_vacuum_f_z  = function(\"H_inner_vacuum_f_z\")\n",
    "H_bad_conductor_f_z = function(\"H_bad_conductor_f_z\")\n",
    "\n",
    "H_inner_vacuum_z  = var(\"H_inner_vacuum_z\")\n",
    "H_bad_conductor_z = var(\"H_bad_conductor_z\")\n",
    "\n",
    "H_inner_vacuum_s_z(x)  = c / (I*omega)   * (diff(E_inner_vacuum_y (x), x) - I*k_y*E_inner_vacuum_x (x))\n",
    "H_bad_conductor_s_z(x) = c / (I*omega*mu)*(diff(E_bad_conductor_y(x), x) - I*k_y*E_bad_conductor_x(x))\n",
    "\n",
    "H_inner_vacuum_sol_z  (x) = c / (I*omega)   *(diff(E_inner_vacuum_sol_y (x), x) - I*k_y*E_inner_vacuum_sol_x (x))\n",
    "H_bad_conductor_sol_z (x) = c / (I*omega*mu)*(diff(E_bad_conductor_sol_y(x), x) - I*k_y*E_bad_conductor_sol_x(x))\n",
    "\n",
    "print (\"H_inner_vacuum_s_z \")\n",
    "display(Math(latex(H_inner_vacuum_s_z.simplify())))\n",
    "print (\"H_bad_conductor_s_z =\")\n",
    "display(Math(latex(H_bad_conductor_s_z)))\n",
    "\n",
    "print (\"H_inner_vacuum_sol_z (x) \")\n",
    "display(Math(latex(H_inner_vacuum_sol_z (x).simplify())))\n",
    "print (\"H_bad_conductor_sol_z (x) =\")\n",
    "display(Math(latex(H_bad_conductor_sol_z (x))))"
   ]
  },
  {
   "cell_type": "code",
   "execution_count": 21,
   "metadata": {},
   "outputs": [
    {
     "name": "stdout",
     "output_type": "stream",
     "text": [
      "rot_H_inner_vacuum_x =\n"
     ]
    },
    {
     "data": {
      "text/latex": [
       "$\\displaystyle -i \\, k_{z} H_{{\\rm inner}_{{\\rm vacuum}_{f_{y}}}}\\left(x\\right) + i \\, k_{y} H_{{\\rm inner}_{{\\rm vacuum}_{f_{z}}}}\\left(x\\right)$"
      ],
      "text/plain": [
       "<IPython.core.display.Math object>"
      ]
     },
     "metadata": {},
     "output_type": "display_data"
    },
    {
     "name": "stdout",
     "output_type": "stream",
     "text": [
      "rot_H_bad_conductor_x =\n"
     ]
    },
    {
     "data": {
      "text/latex": [
       "$\\displaystyle -i \\, k_{z} H_{{\\rm bad}_{{\\rm conductor}_{f_{y}}}}\\left(x\\right) + i \\, k_{y} H_{{\\rm bad}_{{\\rm conductor}_{f_{z}}}}\\left(x\\right)$"
      ],
      "text/plain": [
       "<IPython.core.display.Math object>"
      ]
     },
     "metadata": {},
     "output_type": "display_data"
    },
    {
     "name": "stdout",
     "output_type": "stream",
     "text": [
      "rot_H_inner_vacuum_y =\n"
     ]
    },
    {
     "data": {
      "text/latex": [
       "$\\displaystyle i \\, k_{z} H_{{\\rm inner}_{{\\rm vacuum}_{f_{x}}}}\\left(x\\right) - \\frac{\\partial}{\\partial x}H_{{\\rm inner}_{{\\rm vacuum}_{f_{z}}}}\\left(x\\right)$"
      ],
      "text/plain": [
       "<IPython.core.display.Math object>"
      ]
     },
     "metadata": {},
     "output_type": "display_data"
    },
    {
     "name": "stdout",
     "output_type": "stream",
     "text": [
      "rot_H_bad_conductor_y =\n"
     ]
    },
    {
     "data": {
      "text/latex": [
       "$\\displaystyle i \\, k_{z} H_{{\\rm bad}_{{\\rm conductor}_{f_{x}}}}\\left(x\\right) - \\frac{\\partial}{\\partial x}H_{{\\rm bad}_{{\\rm conductor}_{f_{z}}}}\\left(x\\right)$"
      ],
      "text/plain": [
       "<IPython.core.display.Math object>"
      ]
     },
     "metadata": {},
     "output_type": "display_data"
    },
    {
     "name": "stdout",
     "output_type": "stream",
     "text": [
      "rot_H_inner_vacuum_z =\n"
     ]
    },
    {
     "data": {
      "text/latex": [
       "$\\displaystyle -i \\, k_{y} H_{{\\rm inner}_{{\\rm vacuum}_{f_{x}}}}\\left(x\\right) + \\frac{\\partial}{\\partial x}H_{{\\rm inner}_{{\\rm vacuum}_{f_{y}}}}\\left(x\\right)$"
      ],
      "text/plain": [
       "<IPython.core.display.Math object>"
      ]
     },
     "metadata": {},
     "output_type": "display_data"
    },
    {
     "name": "stdout",
     "output_type": "stream",
     "text": [
      "rot_H_bad_conductor_z =\n"
     ]
    },
    {
     "data": {
      "text/latex": [
       "$\\displaystyle -i \\, k_{y} H_{{\\rm bad}_{{\\rm conductor}_{f_{x}}}}\\left(x\\right) + \\frac{\\partial}{\\partial x}H_{{\\rm bad}_{{\\rm conductor}_{f_{y}}}}\\left(x\\right)$"
      ],
      "text/plain": [
       "<IPython.core.display.Math object>"
      ]
     },
     "metadata": {},
     "output_type": "display_data"
    },
    {
     "name": "stdout",
     "output_type": "stream",
     "text": [
      "rot_H_inner_vacuum_s_x =\n"
     ]
    },
    {
     "data": {
      "text/latex": [
       "$\\displaystyle x \\ {\\mapsto}\\ \\frac{{\\left(-i \\, k_{y} E_{{\\rm inner}_{{\\rm vacuum}_{x}}}\\left(x\\right) + \\frac{\\partial}{\\partial x}E_{{\\rm inner}_{{\\rm vacuum}_{y}}}\\left(x\\right)\\right)} c k_{y}}{\\omega} - \\frac{{\\left(i \\, k_{z} E_{{\\rm inner}_{{\\rm vacuum}_{x}}}\\left(x\\right) - \\frac{\\partial}{\\partial x}E_{{\\rm inner}_{{\\rm vacuum}_{z}}}\\left(x\\right)\\right)} c k_{z}}{\\omega}$"
      ],
      "text/plain": [
       "<IPython.core.display.Math object>"
      ]
     },
     "metadata": {},
     "output_type": "display_data"
    },
    {
     "name": "stdout",
     "output_type": "stream",
     "text": [
      "rot_H_bad_conductor_s_x =\n"
     ]
    },
    {
     "data": {
      "text/latex": [
       "$\\displaystyle x \\ {\\mapsto}\\ \\frac{{\\left(-i \\, k_{y} E_{{\\rm bad}_{{\\rm conductor}_{x}}}\\left(x\\right) + \\frac{\\partial}{\\partial x}E_{{\\rm bad}_{{\\rm conductor}_{y}}}\\left(x\\right)\\right)} c k_{y}}{\\mu \\omega} - \\frac{{\\left(i \\, k_{z} E_{{\\rm bad}_{{\\rm conductor}_{x}}}\\left(x\\right) - \\frac{\\partial}{\\partial x}E_{{\\rm bad}_{{\\rm conductor}_{z}}}\\left(x\\right)\\right)} c k_{z}}{\\mu \\omega}$"
      ],
      "text/plain": [
       "<IPython.core.display.Math object>"
      ]
     },
     "metadata": {},
     "output_type": "display_data"
    },
    {
     "name": "stdout",
     "output_type": "stream",
     "text": [
      "rot_H_inner_vacuum_s_y =\n"
     ]
    },
    {
     "data": {
      "text/latex": [
       "$\\displaystyle x \\ {\\mapsto}\\ \\frac{{\\left(-i \\, k_{z} E_{{\\rm inner}_{{\\rm vacuum}_{y}}}\\left(x\\right) + i \\, k_{y} E_{{\\rm inner}_{{\\rm vacuum}_{z}}}\\left(x\\right)\\right)} c k_{z}}{\\omega} + \\frac{i \\, {\\left(-i \\, k_{y} \\frac{\\partial}{\\partial x}E_{{\\rm inner}_{{\\rm vacuum}_{x}}}\\left(x\\right) + \\frac{\\partial^{2}}{(\\partial x)^{2}}E_{{\\rm inner}_{{\\rm vacuum}_{y}}}\\left(x\\right)\\right)} c}{\\omega}$"
      ],
      "text/plain": [
       "<IPython.core.display.Math object>"
      ]
     },
     "metadata": {},
     "output_type": "display_data"
    },
    {
     "name": "stdout",
     "output_type": "stream",
     "text": [
      "rot_H_bad_conductor_s_y =\n"
     ]
    },
    {
     "data": {
      "text/latex": [
       "$\\displaystyle x \\ {\\mapsto}\\ \\frac{{\\left(-i \\, k_{z} E_{{\\rm bad}_{{\\rm conductor}_{y}}}\\left(x\\right) + i \\, k_{y} E_{{\\rm bad}_{{\\rm conductor}_{z}}}\\left(x\\right)\\right)} c k_{z}}{\\mu \\omega} + \\frac{i \\, {\\left(-i \\, k_{y} \\frac{\\partial}{\\partial x}E_{{\\rm bad}_{{\\rm conductor}_{x}}}\\left(x\\right) + \\frac{\\partial^{2}}{(\\partial x)^{2}}E_{{\\rm bad}_{{\\rm conductor}_{y}}}\\left(x\\right)\\right)} c}{\\mu \\omega}$"
      ],
      "text/plain": [
       "<IPython.core.display.Math object>"
      ]
     },
     "metadata": {},
     "output_type": "display_data"
    },
    {
     "name": "stdout",
     "output_type": "stream",
     "text": [
      "rot_H_inner_vacuum_s_z =\n"
     ]
    },
    {
     "data": {
      "text/latex": [
       "$\\displaystyle x \\ {\\mapsto}\\ -\\frac{{\\left(-i \\, k_{z} E_{{\\rm inner}_{{\\rm vacuum}_{y}}}\\left(x\\right) + i \\, k_{y} E_{{\\rm inner}_{{\\rm vacuum}_{z}}}\\left(x\\right)\\right)} c k_{y}}{\\omega} - \\frac{i \\, {\\left(i \\, k_{z} \\frac{\\partial}{\\partial x}E_{{\\rm inner}_{{\\rm vacuum}_{x}}}\\left(x\\right) - \\frac{\\partial^{2}}{(\\partial x)^{2}}E_{{\\rm inner}_{{\\rm vacuum}_{z}}}\\left(x\\right)\\right)} c}{\\omega}$"
      ],
      "text/plain": [
       "<IPython.core.display.Math object>"
      ]
     },
     "metadata": {},
     "output_type": "display_data"
    },
    {
     "name": "stdout",
     "output_type": "stream",
     "text": [
      "rot_H_bad_conductor_s_z =\n"
     ]
    },
    {
     "data": {
      "text/latex": [
       "$\\displaystyle x \\ {\\mapsto}\\ -\\frac{{\\left(-i \\, k_{z} E_{{\\rm bad}_{{\\rm conductor}_{y}}}\\left(x\\right) + i \\, k_{y} E_{{\\rm bad}_{{\\rm conductor}_{z}}}\\left(x\\right)\\right)} c k_{y}}{\\mu \\omega} - \\frac{i \\, {\\left(i \\, k_{z} \\frac{\\partial}{\\partial x}E_{{\\rm bad}_{{\\rm conductor}_{x}}}\\left(x\\right) - \\frac{\\partial^{2}}{(\\partial x)^{2}}E_{{\\rm bad}_{{\\rm conductor}_{z}}}\\left(x\\right)\\right)} c}{\\mu \\omega}$"
      ],
      "text/plain": [
       "<IPython.core.display.Math object>"
      ]
     },
     "metadata": {},
     "output_type": "display_data"
    },
    {
     "name": "stdout",
     "output_type": "stream",
     "text": [
      "rot_H_inner_vacuum_sol_x =\n"
     ]
    },
    {
     "data": {
      "text/latex": [
       "$\\displaystyle \\frac{{\\left(i \\, \\mathit{A2}_{y} K_{\\mathit{vacuum}} e^{\\left(i \\, K_{\\mathit{vacuum}} x\\right)} - i \\, \\mathit{A1}_{y} K_{\\mathit{vacuum}} e^{\\left(-i \\, K_{\\mathit{vacuum}} x\\right)} - i \\, {\\left(\\mathit{A2}_{x} e^{\\left(i \\, K_{\\mathit{vacuum}} x\\right)} + \\mathit{A1}_{x} e^{\\left(-i \\, K_{\\mathit{vacuum}} x\\right)}\\right)} k_{y}\\right)} c k_{y}}{\\omega} - \\frac{{\\left(-i \\, \\mathit{A2}_{z} K_{\\mathit{vacuum}} e^{\\left(i \\, K_{\\mathit{vacuum}} x\\right)} + i \\, \\mathit{A1}_{z} K_{\\mathit{vacuum}} e^{\\left(-i \\, K_{\\mathit{vacuum}} x\\right)} + i \\, {\\left(\\mathit{A2}_{x} e^{\\left(i \\, K_{\\mathit{vacuum}} x\\right)} + \\mathit{A1}_{x} e^{\\left(-i \\, K_{\\mathit{vacuum}} x\\right)}\\right)} k_{z}\\right)} c k_{z}}{\\omega}$"
      ],
      "text/plain": [
       "<IPython.core.display.Math object>"
      ]
     },
     "metadata": {},
     "output_type": "display_data"
    },
    {
     "name": "stdout",
     "output_type": "stream",
     "text": [
      "rot_H_bad_conductor_sol_x =\n"
     ]
    },
    {
     "data": {
      "text/latex": [
       "$\\displaystyle \\frac{{\\left(i \\, \\mathit{B1}_{y} K_{\\mathit{conductor}} e^{\\left(i \\, K_{\\mathit{conductor}} x\\right)} - i \\, \\mathit{B1}_{x} k_{y} e^{\\left(i \\, K_{\\mathit{conductor}} x\\right)}\\right)} c k_{y}}{\\mu \\omega} - \\frac{{\\left(-i \\, \\mathit{B1}_{z} K_{\\mathit{conductor}} e^{\\left(i \\, K_{\\mathit{conductor}} x\\right)} + i \\, \\mathit{B1}_{x} k_{z} e^{\\left(i \\, K_{\\mathit{conductor}} x\\right)}\\right)} c k_{z}}{\\mu \\omega}$"
      ],
      "text/plain": [
       "<IPython.core.display.Math object>"
      ]
     },
     "metadata": {},
     "output_type": "display_data"
    },
    {
     "name": "stdout",
     "output_type": "stream",
     "text": [
      "rot_H_inner_vacuum_sol_y =\n"
     ]
    },
    {
     "data": {
      "text/latex": [
       "$\\displaystyle \\frac{{\\left(i \\, {\\left(\\mathit{A2}_{z} e^{\\left(i \\, K_{\\mathit{vacuum}} x\\right)} + \\mathit{A1}_{z} e^{\\left(-i \\, K_{\\mathit{vacuum}} x\\right)}\\right)} k_{y} - i \\, {\\left(\\mathit{A2}_{y} e^{\\left(i \\, K_{\\mathit{vacuum}} x\\right)} + \\mathit{A1}_{y} e^{\\left(-i \\, K_{\\mathit{vacuum}} x\\right)}\\right)} k_{z}\\right)} c k_{z}}{\\omega} - \\frac{i \\, {\\left(\\mathit{A2}_{y} K_{\\mathit{vacuum}}^{2} e^{\\left(i \\, K_{\\mathit{vacuum}} x\\right)} + \\mathit{A1}_{y} K_{\\mathit{vacuum}}^{2} e^{\\left(-i \\, K_{\\mathit{vacuum}} x\\right)} + i \\, {\\left(i \\, \\mathit{A2}_{x} K_{\\mathit{vacuum}} e^{\\left(i \\, K_{\\mathit{vacuum}} x\\right)} - i \\, \\mathit{A1}_{x} K_{\\mathit{vacuum}} e^{\\left(-i \\, K_{\\mathit{vacuum}} x\\right)}\\right)} k_{y}\\right)} c}{\\omega}$"
      ],
      "text/plain": [
       "<IPython.core.display.Math object>"
      ]
     },
     "metadata": {},
     "output_type": "display_data"
    },
    {
     "name": "stdout",
     "output_type": "stream",
     "text": [
      "rot_H_bad_conductor_sol_y =\n"
     ]
    },
    {
     "data": {
      "text/latex": [
       "$\\displaystyle \\frac{{\\left(i \\, \\mathit{B1}_{z} k_{y} e^{\\left(i \\, K_{\\mathit{conductor}} x\\right)} - i \\, \\mathit{B1}_{y} k_{z} e^{\\left(i \\, K_{\\mathit{conductor}} x\\right)}\\right)} c k_{z}}{\\mu \\omega} - \\frac{i \\, {\\left(\\mathit{B1}_{y} K_{\\mathit{conductor}}^{2} e^{\\left(i \\, K_{\\mathit{conductor}} x\\right)} - \\mathit{B1}_{x} K_{\\mathit{conductor}} k_{y} e^{\\left(i \\, K_{\\mathit{conductor}} x\\right)}\\right)} c}{\\mu \\omega}$"
      ],
      "text/plain": [
       "<IPython.core.display.Math object>"
      ]
     },
     "metadata": {},
     "output_type": "display_data"
    },
    {
     "name": "stdout",
     "output_type": "stream",
     "text": [
      "rot_H_inner_vacuum_sol_z =\n"
     ]
    },
    {
     "data": {
      "text/latex": [
       "$\\displaystyle -\\frac{{\\left(i \\, {\\left(\\mathit{A2}_{z} e^{\\left(i \\, K_{\\mathit{vacuum}} x\\right)} + \\mathit{A1}_{z} e^{\\left(-i \\, K_{\\mathit{vacuum}} x\\right)}\\right)} k_{y} - i \\, {\\left(\\mathit{A2}_{y} e^{\\left(i \\, K_{\\mathit{vacuum}} x\\right)} + \\mathit{A1}_{y} e^{\\left(-i \\, K_{\\mathit{vacuum}} x\\right)}\\right)} k_{z}\\right)} c k_{y}}{\\omega} - \\frac{i \\, {\\left(\\mathit{A2}_{z} K_{\\mathit{vacuum}}^{2} e^{\\left(i \\, K_{\\mathit{vacuum}} x\\right)} + \\mathit{A1}_{z} K_{\\mathit{vacuum}}^{2} e^{\\left(-i \\, K_{\\mathit{vacuum}} x\\right)} + i \\, {\\left(i \\, \\mathit{A2}_{x} K_{\\mathit{vacuum}} e^{\\left(i \\, K_{\\mathit{vacuum}} x\\right)} - i \\, \\mathit{A1}_{x} K_{\\mathit{vacuum}} e^{\\left(-i \\, K_{\\mathit{vacuum}} x\\right)}\\right)} k_{z}\\right)} c}{\\omega}$"
      ],
      "text/plain": [
       "<IPython.core.display.Math object>"
      ]
     },
     "metadata": {},
     "output_type": "display_data"
    },
    {
     "name": "stdout",
     "output_type": "stream",
     "text": [
      "rot_H_bad_conductor_sol_z =\n"
     ]
    },
    {
     "data": {
      "text/latex": [
       "$\\displaystyle -\\frac{{\\left(i \\, \\mathit{B1}_{z} k_{y} e^{\\left(i \\, K_{\\mathit{conductor}} x\\right)} - i \\, \\mathit{B1}_{y} k_{z} e^{\\left(i \\, K_{\\mathit{conductor}} x\\right)}\\right)} c k_{y}}{\\mu \\omega} - \\frac{i \\, {\\left(\\mathit{B1}_{z} K_{\\mathit{conductor}}^{2} e^{\\left(i \\, K_{\\mathit{conductor}} x\\right)} - \\mathit{B1}_{x} K_{\\mathit{conductor}} k_{z} e^{\\left(i \\, K_{\\mathit{conductor}} x\\right)}\\right)} c}{\\mu \\omega}$"
      ],
      "text/plain": [
       "<IPython.core.display.Math object>"
      ]
     },
     "metadata": {},
     "output_type": "display_data"
    }
   ],
   "source": [
    "# уравнение Максвелла для тока смещения\n",
    "# rot_H   = - I * epsilon * omega / c * E\n",
    "# rot_H_x = diff(H_z, y) - diff(H_y, z)\n",
    "# rot_H_y = diff(H_x, z) - diff(H_z, x)\n",
    "# rot_H_z = diff(H_y, x) - diff(H_x, y)\n",
    "\n",
    "# rot_H_x = diff(H_z, y) - diff(H_y, z)\n",
    "rot_H_inner_vacuum_x  = I*k_y*H_inner_vacuum_f_z(x)  - I*k_z*H_inner_vacuum_f_y(x)\n",
    "rot_H_bad_conductor_x = I*k_y*H_bad_conductor_f_z(x) - I*k_z*H_bad_conductor_f_y(x)\n",
    "\n",
    "# rot_H_y = diff(H_x, z) - diff(H_z, x)\n",
    "rot_H_inner_vacuum_y  = I*k_z*H_inner_vacuum_f_x(x)  - diff(H_inner_vacuum_f_z(x), x)\n",
    "rot_H_bad_conductor_y = I*k_z*H_bad_conductor_f_x(x) - diff(H_bad_conductor_f_z(x), x)\n",
    "\n",
    "# rot_H_z = diff(H_y, x) - diff(H_x, y)\n",
    "rot_H_inner_vacuum_z  = diff(H_inner_vacuum_f_y(x) , x) - I*k_y*H_inner_vacuum_f_x(x)\n",
    "rot_H_bad_conductor_z = diff(H_bad_conductor_f_y(x), x) - I*k_y*H_bad_conductor_f_x(x)\n",
    "\n",
    "# rot_H_x = diff(H_z, y) - diff(H_y, z)\n",
    "rot_H_inner_vacuum_s_x  = I*k_y*H_inner_vacuum_s_z  - I*k_z*H_inner_vacuum_s_y\n",
    "rot_H_bad_conductor_s_x = I*k_y*H_bad_conductor_s_z - I*k_z*H_bad_conductor_s_y\n",
    "\n",
    "# rot_H_y = diff(H_x, z) - diff(H_z, x)\n",
    "rot_H_inner_vacuum_s_y  = I*k_z*H_inner_vacuum_s_x  - diff(H_inner_vacuum_s_z, x)\n",
    "rot_H_bad_conductor_s_y = I*k_z*H_bad_conductor_s_x - diff(H_bad_conductor_s_z, x)\n",
    "\n",
    "#H_inner_vacuum_s_z(x)  = c / (I*omega)   *(-I*sqrt(kappa_vacuum^2-k^2)*E_inner_vacuum_y (x) - I*k_y*E_inner_vacuum_x (x))\n",
    "#H_bad_conductor_s_z(x) = c / (I*omega*mu)*( I*sqrt(kappa       ^2-k^2)*E_bad_conductor_y(x) - I*k_y*E_bad_conductor_x(x))\n",
    "\n",
    "#print(diff(H_inner_vacuum_s_z, x) \\\n",
    "#      .substitute_function(diff(E_inner_vacuum_y(x), x), - I*sqrt(-k^2 + kappa_vacuum^2) * E_inner_vacuum_y(x)) \\\n",
    "#      .substitute_function(diff(E_inner_vacuum_x(x), x), - I*sqrt(-k^2 + kappa_vacuum^2) * E_inner_vacuum_x(x))) \\\n",
    "\n",
    "#rot_H_inner_vacuum_s_y  = I*k_z*H_inner_vacuum_s_x  - c / (I*omega)*(-I*sqrt(kappa_vacuum^2-k_z^2)*\n",
    "#                                                                     (-I*sqrt(kappa_vacuum^2-k_z^2))*\n",
    "#                                                                             E_inner_vacuum_y (x) \n",
    "#                                                                     - I*k_y*(-I*sqrt(kappa_vacuum^2-k_z^2))*\n",
    "#                                                                             E_inner_vacuum_x (x))\n",
    "#\n",
    "#rot_H_bad_conductor_s_y = I*k_z*H_bad_conductor_s_x - c / (I*omega*mu)*( I*sqrt(kappa^2-k_z^2)*\n",
    "#                                                                         I*sqrt(kappa^2-k_z^2)*\n",
    "#                                                                             E_bad_conductor_y(x) \n",
    "#                                                                       - I*k_y*\n",
    "#                                                                        I*sqrt(kappa^2-k_z^2)*\n",
    "#                                                                        E_bad_conductor_x(x))\n",
    "\n",
    "# rot_H_y = diff(H_x, z) - diff(H_z, x)\n",
    "rot_H_inner_vacuum_s_y  = I*k_z*H_inner_vacuum_s_x  - diff(H_inner_vacuum_s_z, x)\n",
    "rot_H_bad_conductor_s_y = I*k_z*H_bad_conductor_s_x - diff(H_bad_conductor_s_z, x)\n",
    "\n",
    "\n",
    "# rot_H_z = diff(H_y, x) - diff(H_x, y)\n",
    "rot_H_inner_vacuum_s_z  = diff(H_inner_vacuum_s_y , x) - I*k_y*H_inner_vacuum_s_x\n",
    "rot_H_bad_conductor_s_z = diff(H_bad_conductor_s_y, x) - I*k_y*H_bad_conductor_s_x\n",
    "\n",
    "rot_H_inner_vacuum_s_z  = diff(H_inner_vacuum_s_y, x)  - I*k_y*H_inner_vacuum_s_x\n",
    "rot_H_bad_conductor_s_z =  diff(H_bad_conductor_s_y, x) - I*k_y*H_bad_conductor_s_x\n",
    "\n",
    "\n",
    "# sol\n",
    "rot_H_inner_vacuum_sol_x  = I*k_y*H_inner_vacuum_sol_z (x) - I*k_z*H_inner_vacuum_sol_y (x)\n",
    "rot_H_bad_conductor_sol_x = I*k_y*H_bad_conductor_sol_z(x) - I*k_z*H_bad_conductor_sol_y(x)\n",
    "\n",
    "rot_H_inner_vacuum_sol_y  = I*k_z*H_inner_vacuum_sol_x (x) - diff(H_inner_vacuum_sol_z (x), x)\n",
    "rot_H_bad_conductor_sol_y = I*k_z*H_bad_conductor_sol_x(x) - diff(H_bad_conductor_sol_z(x), x)\n",
    "\n",
    "rot_H_inner_vacuum_sol_z  = diff(H_inner_vacuum_sol_y (x), x) - I*k_y*H_inner_vacuum_sol_x (x)\n",
    "rot_H_bad_conductor_sol_z = diff(H_bad_conductor_sol_y(x), x) - I*k_y*H_bad_conductor_sol_x(x)\n",
    "\n",
    "\n",
    "print (\"rot_H_inner_vacuum_x =\")\n",
    "display(Math(latex(rot_H_inner_vacuum_x)))\n",
    "print (\"rot_H_bad_conductor_x =\")\n",
    "display(Math(latex(rot_H_bad_conductor_x)))\n",
    "\n",
    "print (\"rot_H_inner_vacuum_y =\")\n",
    "display(Math(latex(rot_H_inner_vacuum_y)))\n",
    "print (\"rot_H_bad_conductor_y =\")\n",
    "display(Math(latex(rot_H_bad_conductor_y)))\n",
    "\n",
    "print (\"rot_H_inner_vacuum_z =\")\n",
    "display(Math(latex(rot_H_inner_vacuum_z)))\n",
    "print (\"rot_H_bad_conductor_z =\")\n",
    "display(Math(latex(rot_H_bad_conductor_z)))\n",
    "\n",
    "\n",
    "\n",
    "print (\"rot_H_inner_vacuum_s_x =\")\n",
    "display(Math(latex(rot_H_inner_vacuum_s_x)))\n",
    "print (\"rot_H_bad_conductor_s_x =\")\n",
    "display(Math(latex(rot_H_bad_conductor_s_x)))\n",
    "\n",
    "print (\"rot_H_inner_vacuum_s_y =\")\n",
    "display(Math(latex(rot_H_inner_vacuum_s_y)))\n",
    "print (\"rot_H_bad_conductor_s_y =\")\n",
    "display(Math(latex(rot_H_bad_conductor_s_y)))\n",
    "\n",
    "print (\"rot_H_inner_vacuum_s_z =\")\n",
    "display(Math(latex(rot_H_inner_vacuum_s_z)))\n",
    "print (\"rot_H_bad_conductor_s_z =\")\n",
    "display(Math(latex(rot_H_bad_conductor_s_z)))\n",
    "\n",
    "\n",
    "\n",
    "print (\"rot_H_inner_vacuum_sol_x =\")\n",
    "display(Math(latex(rot_H_inner_vacuum_sol_x)))\n",
    "print (\"rot_H_bad_conductor_sol_x =\")\n",
    "display(Math(latex(rot_H_bad_conductor_sol_x)))\n",
    "\n",
    "print (\"rot_H_inner_vacuum_sol_y =\")\n",
    "display(Math(latex(rot_H_inner_vacuum_sol_y)))\n",
    "print (\"rot_H_bad_conductor_sol_y =\")\n",
    "display(Math(latex(rot_H_bad_conductor_sol_y)))\n",
    "\n",
    "print (\"rot_H_inner_vacuum_sol_z =\")\n",
    "display(Math(latex(rot_H_inner_vacuum_sol_z)))\n",
    "print (\"rot_H_bad_conductor_sol_z =\")\n",
    "display(Math(latex(rot_H_bad_conductor_sol_z)))"
   ]
  },
  {
   "cell_type": "code",
   "execution_count": 22,
   "metadata": {},
   "outputs": [],
   "source": [
    "eq_rot_H_inner_vacuum_sol_x  = rot_H_inner_vacuum_sol_x  == -I*omega/c*E_inner_vacuum_sol_x(x)\n",
    "eq_rot_H_inner_vacuum_sol_y  = rot_H_inner_vacuum_sol_y  == -I*omega/c*E_inner_vacuum_sol_y(x)\n",
    "eq_rot_H_inner_vacuum_sol_z  = rot_H_inner_vacuum_sol_z  == -I*omega/c*E_inner_vacuum_sol_z(x)\n",
    "\n",
    "eq_rot_H_bad_conductor_sol_x = rot_H_bad_conductor_sol_x == -I*omega/c*epsilon*E_bad_conductor_sol_x(x)\n",
    "eq_rot_H_bad_conductor_sol_y = rot_H_bad_conductor_sol_y == -I*omega/c*epsilon*E_bad_conductor_sol_y(x)\n",
    "eq_rot_H_bad_conductor_sol_z = rot_H_bad_conductor_sol_z == -I*omega/c*epsilon*E_bad_conductor_sol_z(x)"
   ]
  },
  {
   "cell_type": "code",
   "execution_count": 23,
   "metadata": {},
   "outputs": [],
   "source": [
    "eq_rot_H_inner_vacuum_s_x  = rot_H_inner_vacuum_s_x  == -I*omega/c*E_inner_vacuum_x(x)\n",
    "eq_rot_H_inner_vacuum_s_y  = rot_H_inner_vacuum_s_y  == -I*omega/c*E_inner_vacuum_y(x)\n",
    "eq_rot_H_inner_vacuum_s_z  = rot_H_inner_vacuum_s_z  == -I*omega/c*E_inner_vacuum_z(x)\n",
    "\n",
    "eq_rot_H_bad_conductor_s_x = rot_H_bad_conductor_s_x == -I*omega/c*epsilon*E_bad_conductor_x(x)\n",
    "eq_rot_H_bad_conductor_s_y = rot_H_bad_conductor_s_y == -I*omega/c*epsilon*E_bad_conductor_y(x)\n",
    "eq_rot_H_bad_conductor_s_z = rot_H_bad_conductor_s_z == -I*omega/c*epsilon*E_bad_conductor_z(x)"
   ]
  },
  {
   "cell_type": "code",
   "execution_count": 24,
   "metadata": {},
   "outputs": [],
   "source": [
    "eq_rot_H_inner_vacuum_x  = rot_H_inner_vacuum_x  == -I*omega/c*E_inner_vacuum_x(x)\n",
    "eq_rot_H_inner_vacuum_y  = rot_H_inner_vacuum_y  == -I*omega/c*E_inner_vacuum_y(x)\n",
    "eq_rot_H_inner_vacuum_z  = rot_H_inner_vacuum_z  == -I*omega/c*E_inner_vacuum_z(x)\n",
    "\n",
    "eq_rot_H_bad_conductor_x = rot_H_bad_conductor_x == -I*omega/c*epsilon*E_bad_conductor_x(x)\n",
    "eq_rot_H_bad_conductor_y = rot_H_bad_conductor_y == -I*omega/c*epsilon*E_bad_conductor_y(x)\n",
    "eq_rot_H_bad_conductor_z = rot_H_bad_conductor_z == -I*omega/c*epsilon*E_bad_conductor_z(x)"
   ]
  },
  {
   "cell_type": "code",
   "execution_count": 25,
   "metadata": {},
   "outputs": [
    {
     "name": "stdout",
     "output_type": "stream",
     "text": [
      "eq_rot_H_inner_vacuum_s_x =\n"
     ]
    },
    {
     "data": {
      "text/latex": [
       "$\\displaystyle x \\ {\\mapsto}\\ \\frac{{\\left(-i \\, k_{y} E_{{\\rm inner}_{{\\rm vacuum}_{x}}}\\left(x\\right) + \\frac{\\partial}{\\partial x}E_{{\\rm inner}_{{\\rm vacuum}_{y}}}\\left(x\\right)\\right)} c k_{y}}{\\omega} - \\frac{{\\left(i \\, k_{z} E_{{\\rm inner}_{{\\rm vacuum}_{x}}}\\left(x\\right) - \\frac{\\partial}{\\partial x}E_{{\\rm inner}_{{\\rm vacuum}_{z}}}\\left(x\\right)\\right)} c k_{z}}{\\omega} = -\\frac{i \\, \\omega E_{{\\rm inner}_{{\\rm vacuum}_{x}}}\\left(x\\right)}{c}$"
      ],
      "text/plain": [
       "<IPython.core.display.Math object>"
      ]
     },
     "metadata": {},
     "output_type": "display_data"
    },
    {
     "name": "stdout",
     "output_type": "stream",
     "text": [
      "eq_rot_H_inner_vacuum_s_y =\n"
     ]
    },
    {
     "data": {
      "text/latex": [
       "$\\displaystyle x \\ {\\mapsto}\\ \\frac{{\\left(-i \\, k_{z} E_{{\\rm inner}_{{\\rm vacuum}_{y}}}\\left(x\\right) + i \\, k_{y} E_{{\\rm inner}_{{\\rm vacuum}_{z}}}\\left(x\\right)\\right)} c k_{z}}{\\omega} + \\frac{i \\, {\\left(-i \\, k_{y} \\frac{\\partial}{\\partial x}E_{{\\rm inner}_{{\\rm vacuum}_{x}}}\\left(x\\right) + \\frac{\\partial^{2}}{(\\partial x)^{2}}E_{{\\rm inner}_{{\\rm vacuum}_{y}}}\\left(x\\right)\\right)} c}{\\omega} = -\\frac{i \\, \\omega E_{{\\rm inner}_{{\\rm vacuum}_{y}}}\\left(x\\right)}{c}$"
      ],
      "text/plain": [
       "<IPython.core.display.Math object>"
      ]
     },
     "metadata": {},
     "output_type": "display_data"
    },
    {
     "name": "stdout",
     "output_type": "stream",
     "text": [
      "eq_rot_H_inner_vacuum_s_z =\n"
     ]
    },
    {
     "data": {
      "text/latex": [
       "$\\displaystyle x \\ {\\mapsto}\\ -\\frac{{\\left(-i \\, k_{z} E_{{\\rm inner}_{{\\rm vacuum}_{y}}}\\left(x\\right) + i \\, k_{y} E_{{\\rm inner}_{{\\rm vacuum}_{z}}}\\left(x\\right)\\right)} c k_{y}}{\\omega} - \\frac{i \\, {\\left(i \\, k_{z} \\frac{\\partial}{\\partial x}E_{{\\rm inner}_{{\\rm vacuum}_{x}}}\\left(x\\right) - \\frac{\\partial^{2}}{(\\partial x)^{2}}E_{{\\rm inner}_{{\\rm vacuum}_{z}}}\\left(x\\right)\\right)} c}{\\omega} = -\\frac{i \\, \\omega E_{{\\rm inner}_{{\\rm vacuum}_{z}}}\\left(x\\right)}{c}$"
      ],
      "text/plain": [
       "<IPython.core.display.Math object>"
      ]
     },
     "metadata": {},
     "output_type": "display_data"
    }
   ],
   "source": [
    "print (\"eq_rot_H_inner_vacuum_s_x =\")\n",
    "display(Math(latex(eq_rot_H_inner_vacuum_s_x.simplify())))\n",
    "\n",
    "print (\"eq_rot_H_inner_vacuum_s_y =\")\n",
    "display(Math(latex(eq_rot_H_inner_vacuum_s_y.simplify())))\n",
    "\n",
    "print (\"eq_rot_H_inner_vacuum_s_z =\")\n",
    "display(Math(latex(eq_rot_H_inner_vacuum_s_z.simplify())))"
   ]
  },
  {
   "cell_type": "code",
   "execution_count": 26,
   "metadata": {},
   "outputs": [
    {
     "name": "stdout",
     "output_type": "stream",
     "text": [
      "eq_rot_H_inner_vacuum_sol_x =\n"
     ]
    },
    {
     "data": {
      "text/latex": [
       "$\\displaystyle \\frac{{\\left(i \\, \\mathit{A2}_{y} K_{\\mathit{vacuum}} e^{\\left(i \\, K_{\\mathit{vacuum}} x\\right)} - i \\, \\mathit{A1}_{y} K_{\\mathit{vacuum}} e^{\\left(-i \\, K_{\\mathit{vacuum}} x\\right)} - i \\, {\\left(\\mathit{A2}_{x} e^{\\left(i \\, K_{\\mathit{vacuum}} x\\right)} + \\mathit{A1}_{x} e^{\\left(-i \\, K_{\\mathit{vacuum}} x\\right)}\\right)} k_{y}\\right)} c k_{y}}{\\omega} - \\frac{{\\left(-i \\, \\mathit{A2}_{z} K_{\\mathit{vacuum}} e^{\\left(i \\, K_{\\mathit{vacuum}} x\\right)} + i \\, \\mathit{A1}_{z} K_{\\mathit{vacuum}} e^{\\left(-i \\, K_{\\mathit{vacuum}} x\\right)} + i \\, {\\left(\\mathit{A2}_{x} e^{\\left(i \\, K_{\\mathit{vacuum}} x\\right)} + \\mathit{A1}_{x} e^{\\left(-i \\, K_{\\mathit{vacuum}} x\\right)}\\right)} k_{z}\\right)} c k_{z}}{\\omega} = -\\frac{i \\, {\\left(\\mathit{A2}_{x} e^{\\left(i \\, K_{\\mathit{vacuum}} x\\right)} + \\mathit{A1}_{x} e^{\\left(-i \\, K_{\\mathit{vacuum}} x\\right)}\\right)} \\omega}{c}$"
      ],
      "text/plain": [
       "<IPython.core.display.Math object>"
      ]
     },
     "metadata": {},
     "output_type": "display_data"
    },
    {
     "name": "stdout",
     "output_type": "stream",
     "text": [
      "eq_rot_H_inner_vacuum_sol_y =\n"
     ]
    },
    {
     "data": {
      "text/latex": [
       "$\\displaystyle \\frac{{\\left(i \\, {\\left(\\mathit{A2}_{z} e^{\\left(i \\, K_{\\mathit{vacuum}} x\\right)} + \\mathit{A1}_{z} e^{\\left(-i \\, K_{\\mathit{vacuum}} x\\right)}\\right)} k_{y} - i \\, {\\left(\\mathit{A2}_{y} e^{\\left(i \\, K_{\\mathit{vacuum}} x\\right)} + \\mathit{A1}_{y} e^{\\left(-i \\, K_{\\mathit{vacuum}} x\\right)}\\right)} k_{z}\\right)} c k_{z}}{\\omega} - \\frac{i \\, {\\left(\\mathit{A2}_{y} K_{\\mathit{vacuum}}^{2} e^{\\left(i \\, K_{\\mathit{vacuum}} x\\right)} + \\mathit{A1}_{y} K_{\\mathit{vacuum}}^{2} e^{\\left(-i \\, K_{\\mathit{vacuum}} x\\right)} + i \\, {\\left(i \\, \\mathit{A2}_{x} K_{\\mathit{vacuum}} e^{\\left(i \\, K_{\\mathit{vacuum}} x\\right)} - i \\, \\mathit{A1}_{x} K_{\\mathit{vacuum}} e^{\\left(-i \\, K_{\\mathit{vacuum}} x\\right)}\\right)} k_{y}\\right)} c}{\\omega} = -\\frac{i \\, {\\left(\\mathit{A2}_{y} e^{\\left(i \\, K_{\\mathit{vacuum}} x\\right)} + \\mathit{A1}_{y} e^{\\left(-i \\, K_{\\mathit{vacuum}} x\\right)}\\right)} \\omega}{c}$"
      ],
      "text/plain": [
       "<IPython.core.display.Math object>"
      ]
     },
     "metadata": {},
     "output_type": "display_data"
    },
    {
     "name": "stdout",
     "output_type": "stream",
     "text": [
      "eq_rot_H_inner_vacuum_sol_z =\n"
     ]
    },
    {
     "data": {
      "text/latex": [
       "$\\displaystyle -\\frac{{\\left(i \\, {\\left(\\mathit{A2}_{z} e^{\\left(i \\, K_{\\mathit{vacuum}} x\\right)} + \\mathit{A1}_{z} e^{\\left(-i \\, K_{\\mathit{vacuum}} x\\right)}\\right)} k_{y} - i \\, {\\left(\\mathit{A2}_{y} e^{\\left(i \\, K_{\\mathit{vacuum}} x\\right)} + \\mathit{A1}_{y} e^{\\left(-i \\, K_{\\mathit{vacuum}} x\\right)}\\right)} k_{z}\\right)} c k_{y}}{\\omega} - \\frac{i \\, {\\left(\\mathit{A2}_{z} K_{\\mathit{vacuum}}^{2} e^{\\left(i \\, K_{\\mathit{vacuum}} x\\right)} + \\mathit{A1}_{z} K_{\\mathit{vacuum}}^{2} e^{\\left(-i \\, K_{\\mathit{vacuum}} x\\right)} + i \\, {\\left(i \\, \\mathit{A2}_{x} K_{\\mathit{vacuum}} e^{\\left(i \\, K_{\\mathit{vacuum}} x\\right)} - i \\, \\mathit{A1}_{x} K_{\\mathit{vacuum}} e^{\\left(-i \\, K_{\\mathit{vacuum}} x\\right)}\\right)} k_{z}\\right)} c}{\\omega} = -\\frac{i \\, {\\left(\\mathit{A2}_{z} e^{\\left(i \\, K_{\\mathit{vacuum}} x\\right)} + \\mathit{A1}_{z} e^{\\left(-i \\, K_{\\mathit{vacuum}} x\\right)}\\right)} \\omega}{c}$"
      ],
      "text/plain": [
       "<IPython.core.display.Math object>"
      ]
     },
     "metadata": {},
     "output_type": "display_data"
    }
   ],
   "source": [
    "print (\"eq_rot_H_inner_vacuum_sol_x =\")\n",
    "display(Math(latex(eq_rot_H_inner_vacuum_sol_x.simplify())))\n",
    "\n",
    "print (\"eq_rot_H_inner_vacuum_sol_y =\")\n",
    "display(Math(latex(eq_rot_H_inner_vacuum_sol_y.simplify())))\n",
    "\n",
    "print (\"eq_rot_H_inner_vacuum_sol_z =\")\n",
    "display(Math(latex(eq_rot_H_inner_vacuum_sol_z.simplify())))"
   ]
  },
  {
   "cell_type": "raw",
   "metadata": {},
   "source": [
    "print (\"eq_rot_H_inner_vacuum_x =\")\n",
    "display(Math(latex(eq_rot_H_inner_vacuum_x.simplify())))\n",
    "\n",
    "print (\"eq_rot_H_inner_vacuum_y =\")\n",
    "display(Math(latex(eq_rot_H_inner_vacuum_y.simplify())))\n",
    "\n",
    "print (\"eq_rot_H_inner_vacuum_z =\")\n",
    "display(Math(latex(eq_rot_H_inner_vacuum_z.simplify())))"
   ]
  },
  {
   "cell_type": "code",
   "execution_count": 27,
   "metadata": {},
   "outputs": [
    {
     "name": "stdout",
     "output_type": "stream",
     "text": [
      "eq_rot_H_bad_conductor_sol_x =\n"
     ]
    },
    {
     "data": {
      "text/latex": [
       "$\\displaystyle \\frac{{\\left(i \\, \\mathit{B1}_{y} K_{\\mathit{conductor}} e^{\\left(i \\, K_{\\mathit{conductor}} x\\right)} - i \\, \\mathit{B1}_{x} k_{y} e^{\\left(i \\, K_{\\mathit{conductor}} x\\right)}\\right)} c k_{y}}{\\mu \\omega} - \\frac{{\\left(-i \\, \\mathit{B1}_{z} K_{\\mathit{conductor}} e^{\\left(i \\, K_{\\mathit{conductor}} x\\right)} + i \\, \\mathit{B1}_{x} k_{z} e^{\\left(i \\, K_{\\mathit{conductor}} x\\right)}\\right)} c k_{z}}{\\mu \\omega} = -\\frac{i \\, \\mathit{B1}_{x} \\epsilon \\omega e^{\\left(i \\, K_{\\mathit{conductor}} x\\right)}}{c}$"
      ],
      "text/plain": [
       "<IPython.core.display.Math object>"
      ]
     },
     "metadata": {},
     "output_type": "display_data"
    },
    {
     "name": "stdout",
     "output_type": "stream",
     "text": [
      "eq_rot_H_bad_conductor_sol_y =\n"
     ]
    },
    {
     "data": {
      "text/latex": [
       "$\\displaystyle \\frac{{\\left(i \\, \\mathit{B1}_{z} k_{y} e^{\\left(i \\, K_{\\mathit{conductor}} x\\right)} - i \\, \\mathit{B1}_{y} k_{z} e^{\\left(i \\, K_{\\mathit{conductor}} x\\right)}\\right)} c k_{z}}{\\mu \\omega} - \\frac{i \\, {\\left(\\mathit{B1}_{y} K_{\\mathit{conductor}}^{2} e^{\\left(i \\, K_{\\mathit{conductor}} x\\right)} - \\mathit{B1}_{x} K_{\\mathit{conductor}} k_{y} e^{\\left(i \\, K_{\\mathit{conductor}} x\\right)}\\right)} c}{\\mu \\omega} = -\\frac{i \\, \\mathit{B1}_{y} \\epsilon \\omega e^{\\left(i \\, K_{\\mathit{conductor}} x\\right)}}{c}$"
      ],
      "text/plain": [
       "<IPython.core.display.Math object>"
      ]
     },
     "metadata": {},
     "output_type": "display_data"
    },
    {
     "name": "stdout",
     "output_type": "stream",
     "text": [
      "eq_rot_H_bad_conductor_sol_z =\n"
     ]
    },
    {
     "data": {
      "text/latex": [
       "$\\displaystyle -\\frac{{\\left(i \\, \\mathit{B1}_{z} k_{y} e^{\\left(i \\, K_{\\mathit{conductor}} x\\right)} - i \\, \\mathit{B1}_{y} k_{z} e^{\\left(i \\, K_{\\mathit{conductor}} x\\right)}\\right)} c k_{y}}{\\mu \\omega} - \\frac{i \\, {\\left(\\mathit{B1}_{z} K_{\\mathit{conductor}}^{2} e^{\\left(i \\, K_{\\mathit{conductor}} x\\right)} - \\mathit{B1}_{x} K_{\\mathit{conductor}} k_{z} e^{\\left(i \\, K_{\\mathit{conductor}} x\\right)}\\right)} c}{\\mu \\omega} = -\\frac{i \\, \\mathit{B1}_{z} \\epsilon \\omega e^{\\left(i \\, K_{\\mathit{conductor}} x\\right)}}{c}$"
      ],
      "text/plain": [
       "<IPython.core.display.Math object>"
      ]
     },
     "metadata": {},
     "output_type": "display_data"
    }
   ],
   "source": [
    "print (\"eq_rot_H_bad_conductor_sol_x =\")\n",
    "display(Math(latex(eq_rot_H_bad_conductor_sol_x.simplify())))\n",
    "\n",
    "print (\"eq_rot_H_bad_conductor_sol_y =\")\n",
    "display(Math(latex(eq_rot_H_bad_conductor_sol_y.simplify())))\n",
    "\n",
    "print (\"eq_rot_H_bad_conductor_sol_z =\")\n",
    "display(Math(latex(eq_rot_H_bad_conductor_sol_z.simplify())))"
   ]
  },
  {
   "cell_type": "raw",
   "metadata": {},
   "source": [
    "print (\"eq_rot_H_bad_conductor_x =\")\n",
    "display(Math(latex(eq_rot_H_bad_conductor_x.simplify())))\n",
    "\n",
    "print (\"eq_rot_H_bad_conductor_y =\")\n",
    "display(Math(latex(eq_rot_H_bad_conductor_y.simplify())))\n",
    "\n",
    "print (\"eq_rot_H_bad_conductor_z =\")\n",
    "display(Math(latex(eq_rot_H_bad_conductor_z.simplify())))"
   ]
  },
  {
   "cell_type": "code",
   "execution_count": 28,
   "metadata": {},
   "outputs": [
    {
     "name": "stdout",
     "output_type": "stream",
     "text": [
      "eq_rot_H_inner_vacuum_x =\n"
     ]
    },
    {
     "data": {
      "text/latex": [
       "$\\displaystyle \\left[E_{{\\rm inner}_{{\\rm vacuum}_{x}}}\\left(x\\right) = \\frac{k_{z} H_{{\\rm inner}_{{\\rm vacuum}_{f_{y}}}}\\left(x\\right) - k_{y} H_{{\\rm inner}_{{\\rm vacuum}_{f_{z}}}}\\left(x\\right)}{\\kappa_{\\mathit{vacuum}}}\\right]$"
      ],
      "text/plain": [
       "<IPython.core.display.Math object>"
      ]
     },
     "metadata": {},
     "output_type": "display_data"
    },
    {
     "name": "stdout",
     "output_type": "stream",
     "text": [
      "H_inner_vacuum_y  (x) =\n"
     ]
    },
    {
     "data": {
      "text/latex": [
       "$\\displaystyle H_{\\mathit{inner}_{\\mathit{vacuum}_{y}}}$"
      ],
      "text/plain": [
       "<IPython.core.display.Math object>"
      ]
     },
     "metadata": {},
     "output_type": "display_data"
    },
    {
     "name": "stdout",
     "output_type": "stream",
     "text": [
      "eq_rot_H_bad_conductor_x =\n"
     ]
    },
    {
     "data": {
      "text/latex": [
       "$\\displaystyle \\left[E_{{\\rm bad}_{{\\rm conductor}_{x}}}\\left(x\\right) = \\frac{\\sqrt{\\epsilon \\mu} k_{z} H_{{\\rm bad}_{{\\rm conductor}_{f_{y}}}}\\left(x\\right) - \\sqrt{\\epsilon \\mu} k_{y} H_{{\\rm bad}_{{\\rm conductor}_{f_{z}}}}\\left(x\\right)}{\\epsilon \\kappa}\\right]$"
      ],
      "text/plain": [
       "<IPython.core.display.Math object>"
      ]
     },
     "metadata": {},
     "output_type": "display_data"
    },
    {
     "name": "stdout",
     "output_type": "stream",
     "text": [
      "H_bad_conductor_y (x) =\n"
     ]
    },
    {
     "data": {
      "text/latex": [
       "$\\displaystyle H_{\\mathit{bad}_{\\mathit{conductor}_{y}}}$"
      ],
      "text/plain": [
       "<IPython.core.display.Math object>"
      ]
     },
     "metadata": {},
     "output_type": "display_data"
    }
   ],
   "source": [
    "print (\"eq_rot_H_inner_vacuum_x =\")\n",
    "eq_rot_H_inner_vacuum_x_subs = eq_rot_H_inner_vacuum_x.subs(omega==c*kappa_vacuum/sqrt(epsilon_0*mu_0))\n",
    "eq_rot_H_inner_vacuum_x_subs_solve = solve(eq_rot_H_inner_vacuum_x_subs, E_inner_vacuum_x(x))\n",
    "display(Math(latex(eq_rot_H_inner_vacuum_x_subs_solve)))\n",
    "\n",
    "print (\"H_inner_vacuum_y  (x) =\")\n",
    "H_inner_vacuum_subs_y = H_inner_vacuum_y.subs(omega==c*kappa_vacuum/sqrt(epsilon_0*mu_0), eq_rot_H_inner_vacuum_x_subs_solve)\n",
    "display(Math(latex(H_inner_vacuum_subs_y)))\n",
    "\n",
    "print (\"eq_rot_H_bad_conductor_x =\")\n",
    "eq_rot_H_bad_conductor_x_subs = eq_rot_H_bad_conductor_x.subs(omega==c*kappa/sqrt(epsilon*mu))\n",
    "eq_rot_H_bad_conductor_x_subs_solve = solve(eq_rot_H_bad_conductor_x_subs, E_bad_conductor_x(x))\n",
    "display(Math(latex(eq_rot_H_bad_conductor_x_subs_solve)))\n",
    "\n",
    "print (\"H_bad_conductor_y (x) =\")\n",
    "H_bad_conductor_subs_y = H_bad_conductor_y.subs(omega==c*kappa/sqrt(epsilon*mu), eq_rot_H_bad_conductor_x_subs_solve)\n",
    "display(Math(latex(H_bad_conductor_subs_y)))"
   ]
  },
  {
   "cell_type": "code",
   "execution_count": 29,
   "metadata": {},
   "outputs": [
    {
     "data": {
      "text/latex": [
       "$\\displaystyle \\left[\\kappa_{\\mathit{vacuum}} = -\\frac{\\omega}{c}, \\kappa_{\\mathit{vacuum}} = \\frac{\\omega}{c}\\right]$"
      ],
      "text/plain": [
       "<IPython.core.display.Math object>"
      ]
     },
     "metadata": {},
     "output_type": "display_data"
    }
   ],
   "source": [
    "res = solve(eq_kappa_inner_vacuum, kappa_vacuum)\n",
    "display(Math(latex(res)))"
   ]
  },
  {
   "cell_type": "code",
   "execution_count": 30,
   "metadata": {},
   "outputs": [
    {
     "data": {
      "text/plain": [
       "A1_z*e^(I*K_vacuum*a) + A2_z*e^(-I*K_vacuum*a)"
      ]
     },
     "execution_count": 30,
     "metadata": {},
     "output_type": "execute_result"
    }
   ],
   "source": [
    "E_inner_vacuum_sol_z(-a)"
   ]
  },
  {
   "cell_type": "code",
   "execution_count": null,
   "metadata": {},
   "outputs": [],
   "source": []
  },
  {
   "cell_type": "code",
   "execution_count": 31,
   "metadata": {},
   "outputs": [],
   "source": [
    "# выражения для электрического поля\n",
    "# в вакууме внутри резонатора \n",
    "#    E_inner_vacuum_z (x) = A1_z_re*cos(sqrt(kappa_vacuum^2-k_z^2)*x) + A1_z_im*sin(sqrt(kappa_vacuum^2-k_z^2)*x)\n",
    "#    E_inner_vacuum_x (x) = A1_x_re*cos(sqrt(kappa_vacuum^2-k_z^2)*x) + A1_x_im*sin(sqrt(kappa_vacuum^2-k_z^2)*x)\n",
    "#    E_inner_vacuum_y (x) = A1_y_re*cos(sqrt(kappa_vacuum^2-k_z^2)*x) + A1_y_im*sin(sqrt(kappa_vacuum^2-k_z^2)*x)\n"
   ]
  },
  {
   "cell_type": "code",
   "execution_count": null,
   "metadata": {},
   "outputs": [],
   "source": []
  },
  {
   "cell_type": "code",
   "execution_count": 32,
   "metadata": {},
   "outputs": [
    {
     "name": "stdout",
     "output_type": "stream",
     "text": [
      "eqEz_0 = \n"
     ]
    },
    {
     "data": {
      "text/latex": [
       "$\\displaystyle \\mathit{A1}_{z} e^{\\left(i \\, K_{\\mathit{vacuum}} a\\right)} + \\mathit{A2}_{z} e^{\\left(-i \\, K_{\\mathit{vacuum}} a\\right)} = 0$"
      ],
      "text/plain": [
       "<IPython.core.display.Math object>"
      ]
     },
     "metadata": {},
     "output_type": "display_data"
    },
    {
     "name": "stdout",
     "output_type": "stream",
     "text": [
      "eqEy_0 = \n"
     ]
    },
    {
     "data": {
      "text/latex": [
       "$\\displaystyle \\mathit{A1}_{y} e^{\\left(i \\, K_{\\mathit{vacuum}} a\\right)} + \\mathit{A2}_{y} e^{\\left(-i \\, K_{\\mathit{vacuum}} a\\right)} = 0$"
      ],
      "text/plain": [
       "<IPython.core.display.Math object>"
      ]
     },
     "metadata": {},
     "output_type": "display_data"
    }
   ],
   "source": [
    "# граничные условия на границе идеального проводника и вакуума внутри резонатора\n",
    "# тангенциальная компонента электрического поля\n",
    "# eqEz_0 = solve(E_inner_vacuum_sol_z(-a) == 0, A1_z)\n",
    "eqEz_0 = E_inner_vacuum_sol_z(-a) == 0\n",
    "# E_inner_vacuum_z (x) = A1_z_re*cos(sqrt(kappa_vacuum^2-k_z^2)*x) + A1_z_im*sin(sqrt(kappa_vacuum^2-k^2)*x)\n",
    "# eqEz_0 = A1_z_re*cos(sqrt(kappa_vacuum^2-k_z^2)*x) + A1_z_im*sin(sqrt(kappa_vacuum^2-k_z^2)*x) == 0\n",
    "\n",
    "print (\"eqEz_0 = \")\n",
    "display(Math(latex(eqEz_0)))\n",
    "\n",
    "if 0 != A1_y:\n",
    "    #eqEy_0 = solve(E_inner_vacuum_sol_y(-a) == 0, A1_y)\n",
    "    eqEy_0 = E_inner_vacuum_sol_y(-a) == 0\n",
    "    print (\"eqEy_0 = \")\n",
    "    display(Math(latex(eqEy_0)))"
   ]
  },
  {
   "cell_type": "code",
   "execution_count": 33,
   "metadata": {},
   "outputs": [
    {
     "name": "stdout",
     "output_type": "stream",
     "text": [
      "eqEz_a = \n"
     ]
    },
    {
     "data": {
      "text/latex": [
       "$\\displaystyle \\mathit{B1}_{z} = \\mathit{A1}_{z} + \\mathit{A2}_{z}$"
      ],
      "text/plain": [
       "<IPython.core.display.Math object>"
      ]
     },
     "metadata": {},
     "output_type": "display_data"
    },
    {
     "name": "stdout",
     "output_type": "stream",
     "text": [
      "eqEy_a = \n"
     ]
    },
    {
     "data": {
      "text/latex": [
       "$\\displaystyle \\mathit{B1}_{y} = \\mathit{A1}_{y} + \\mathit{A2}_{y}$"
      ],
      "text/plain": [
       "<IPython.core.display.Math object>"
      ]
     },
     "metadata": {},
     "output_type": "display_data"
    }
   ],
   "source": [
    "# граничные условия на границе вакуума внутри резонатора и проводящего металла с потерями\n",
    "# тангенциальная компонента электрического поля\n",
    "eqEz_a = E_bad_conductor_sol_z(0) == E_inner_vacuum_sol_z(0)\n",
    "eqEy_a = E_bad_conductor_sol_y(0) == E_inner_vacuum_sol_y(0)\n",
    "\n",
    "print (\"eqEz_a = \")\n",
    "display(Math(latex(eqEz_a)))\n",
    "print (\"eqEy_a = \")\n",
    "display(Math(latex(eqEy_a)))"
   ]
  },
  {
   "cell_type": "code",
   "execution_count": 34,
   "metadata": {},
   "outputs": [
    {
     "name": "stdout",
     "output_type": "stream",
     "text": [
      "eqDx_a =\n"
     ]
    },
    {
     "data": {
      "text/latex": [
       "$\\displaystyle \\mathit{A1}_{x} + \\mathit{A2}_{x} = {\\left(\\frac{4 i \\, \\pi c \\sigma}{\\omega} + \\epsilon\\right)} \\mathit{B1}_{x}$"
      ],
      "text/plain": [
       "<IPython.core.display.Math object>"
      ]
     },
     "metadata": {},
     "output_type": "display_data"
    }
   ],
   "source": [
    "# нормальная компонента электрического смещения\n",
    "eqDx_a = E_inner_vacuum_sol_x(0) == E_bad_conductor_sol_x(0) * epsilon_complex\n",
    "\n",
    "print (\"eqDx_a =\")\n",
    "display(Math(latex(eqDx_a)))"
   ]
  },
  {
   "cell_type": "code",
   "execution_count": 35,
   "metadata": {},
   "outputs": [
    {
     "name": "stdout",
     "output_type": "stream",
     "text": [
      "H_bad_conductor_sol_z (0), H_inner_vacuum_sol_z (x) =\n"
     ]
    },
    {
     "data": {
      "text/latex": [
       "$\\displaystyle \\left[-\\frac{i \\, {\\left(i \\, \\mathit{B1}_{y} K_{\\mathit{conductor}} e^{\\left(i \\, K_{\\mathit{conductor}} x\\right)} - i \\, \\mathit{B1}_{x} k_{y} e^{\\left(i \\, K_{\\mathit{conductor}} x\\right)}\\right)} c}{\\mu \\omega}, -\\frac{i \\, {\\left(i \\, \\mathit{A2}_{y} K_{\\mathit{vacuum}} e^{\\left(i \\, K_{\\mathit{vacuum}} x\\right)} - i \\, \\mathit{A1}_{y} K_{\\mathit{vacuum}} e^{\\left(-i \\, K_{\\mathit{vacuum}} x\\right)} - i \\, {\\left(\\mathit{A2}_{x} e^{\\left(i \\, K_{\\mathit{vacuum}} x\\right)} + \\mathit{A1}_{x} e^{\\left(-i \\, K_{\\mathit{vacuum}} x\\right)}\\right)} k_{y}\\right)} c}{\\omega}\\right]$"
      ],
      "text/plain": [
       "<IPython.core.display.Math object>"
      ]
     },
     "metadata": {},
     "output_type": "display_data"
    },
    {
     "name": "stdout",
     "output_type": "stream",
     "text": [
      "H_bad_conductor_sol_y (0), H_inner_vacuum_sol_y (x) =\n"
     ]
    },
    {
     "data": {
      "text/latex": [
       "$\\displaystyle \\left[-\\frac{i \\, {\\left(-i \\, \\mathit{B1}_{z} K_{\\mathit{conductor}} e^{\\left(i \\, K_{\\mathit{conductor}} x\\right)} + i \\, \\mathit{B1}_{x} k_{z} e^{\\left(i \\, K_{\\mathit{conductor}} x\\right)}\\right)} c}{\\mu \\omega}, -\\frac{i \\, {\\left(-i \\, \\mathit{A2}_{z} K_{\\mathit{vacuum}} e^{\\left(i \\, K_{\\mathit{vacuum}} x\\right)} + i \\, \\mathit{A1}_{z} K_{\\mathit{vacuum}} e^{\\left(-i \\, K_{\\mathit{vacuum}} x\\right)} + i \\, {\\left(\\mathit{A2}_{x} e^{\\left(i \\, K_{\\mathit{vacuum}} x\\right)} + \\mathit{A1}_{x} e^{\\left(-i \\, K_{\\mathit{vacuum}} x\\right)}\\right)} k_{z}\\right)} c}{\\omega}\\right]$"
      ],
      "text/plain": [
       "<IPython.core.display.Math object>"
      ]
     },
     "metadata": {},
     "output_type": "display_data"
    },
    {
     "name": "stdout",
     "output_type": "stream",
     "text": [
      "sqrt(mu/epsilon)*H_bad_conductor_sol_z (0), sqrt(mu/epsilon)*H_inner_vacuum_sol_z (x) =\n"
     ]
    },
    {
     "data": {
      "text/latex": [
       "$\\displaystyle \\left[-\\frac{i \\, {\\left(i \\, \\mathit{B1}_{y} K_{\\mathit{conductor}} e^{\\left(i \\, K_{\\mathit{conductor}} x\\right)} - i \\, \\mathit{B1}_{x} k_{y} e^{\\left(i \\, K_{\\mathit{conductor}} x\\right)}\\right)} c \\sqrt{\\frac{\\mu}{\\epsilon}}}{\\mu \\omega}, -\\frac{i \\, {\\left(i \\, \\mathit{A2}_{y} K_{\\mathit{vacuum}} e^{\\left(i \\, K_{\\mathit{vacuum}} x\\right)} - i \\, \\mathit{A1}_{y} K_{\\mathit{vacuum}} e^{\\left(-i \\, K_{\\mathit{vacuum}} x\\right)} - i \\, {\\left(\\mathit{A2}_{x} e^{\\left(i \\, K_{\\mathit{vacuum}} x\\right)} + \\mathit{A1}_{x} e^{\\left(-i \\, K_{\\mathit{vacuum}} x\\right)}\\right)} k_{y}\\right)} c}{\\omega}\\right]$"
      ],
      "text/plain": [
       "<IPython.core.display.Math object>"
      ]
     },
     "metadata": {},
     "output_type": "display_data"
    },
    {
     "name": "stdout",
     "output_type": "stream",
     "text": [
      "H_bad_conductor_y (0), H_inner_vacuum_y (0) =\n"
     ]
    },
    {
     "data": {
      "text/latex": [
       "$\\displaystyle \\left[-\\frac{i \\, {\\left(-i \\, \\mathit{B1}_{z} K_{\\mathit{conductor}} e^{\\left(i \\, K_{\\mathit{conductor}} x\\right)} + i \\, \\mathit{B1}_{x} k_{z} e^{\\left(i \\, K_{\\mathit{conductor}} x\\right)}\\right)} c \\sqrt{\\frac{\\mu}{\\epsilon}}}{\\mu \\omega}, -\\frac{i \\, {\\left(-i \\, \\mathit{A2}_{z} K_{\\mathit{vacuum}} e^{\\left(i \\, K_{\\mathit{vacuum}} x\\right)} + i \\, \\mathit{A1}_{z} K_{\\mathit{vacuum}} e^{\\left(-i \\, K_{\\mathit{vacuum}} x\\right)} + i \\, {\\left(\\mathit{A2}_{x} e^{\\left(i \\, K_{\\mathit{vacuum}} x\\right)} + \\mathit{A1}_{x} e^{\\left(-i \\, K_{\\mathit{vacuum}} x\\right)}\\right)} k_{z}\\right)} c}{\\omega}\\right]$"
      ],
      "text/plain": [
       "<IPython.core.display.Math object>"
      ]
     },
     "metadata": {},
     "output_type": "display_data"
    },
    {
     "name": "stdout",
     "output_type": "stream",
     "text": [
      "eqEz_0, eqEy_0 = \n"
     ]
    },
    {
     "data": {
      "text/latex": [
       "$\\displaystyle \\left[\\mathit{A1}_{z} e^{\\left(i \\, K_{\\mathit{vacuum}} a\\right)} + \\mathit{A2}_{z} e^{\\left(-i \\, K_{\\mathit{vacuum}} a\\right)} = 0, \\mathit{A1}_{y} e^{\\left(i \\, K_{\\mathit{vacuum}} a\\right)} + \\mathit{A2}_{y} e^{\\left(-i \\, K_{\\mathit{vacuum}} a\\right)} = 0\\right]$"
      ],
      "text/plain": [
       "<IPython.core.display.Math object>"
      ]
     },
     "metadata": {},
     "output_type": "display_data"
    },
    {
     "name": "stdout",
     "output_type": "stream",
     "text": [
      "eqHz_a =\n"
     ]
    },
    {
     "data": {
      "text/latex": [
       "$\\displaystyle -\\frac{i \\, {\\left(i \\, \\mathit{B1}_{y} K_{\\mathit{conductor}} - i \\, \\mathit{B1}_{x} k_{y}\\right)} c}{\\mu \\omega} = -\\frac{i \\, {\\left(-i \\, \\mathit{A1}_{y} K_{\\mathit{vacuum}} + i \\, \\mathit{A2}_{y} K_{\\mathit{vacuum}} - i \\, {\\left(\\mathit{A1}_{x} + \\mathit{A2}_{x}\\right)} k_{y}\\right)} c}{\\omega}$"
      ],
      "text/plain": [
       "<IPython.core.display.Math object>"
      ]
     },
     "metadata": {},
     "output_type": "display_data"
    },
    {
     "name": "stdout",
     "output_type": "stream",
     "text": [
      "eqHy_a =\n"
     ]
    },
    {
     "data": {
      "text/latex": [
       "$\\displaystyle -\\frac{i \\, {\\left(-i \\, \\mathit{B1}_{z} K_{\\mathit{conductor}} + i \\, \\mathit{B1}_{x} k_{z}\\right)} c}{\\mu \\omega} = -\\frac{i \\, {\\left(i \\, \\mathit{A1}_{z} K_{\\mathit{vacuum}} - i \\, \\mathit{A2}_{z} K_{\\mathit{vacuum}} + i \\, {\\left(\\mathit{A1}_{x} + \\mathit{A2}_{x}\\right)} k_{z}\\right)} c}{\\omega}$"
      ],
      "text/plain": [
       "<IPython.core.display.Math object>"
      ]
     },
     "metadata": {},
     "output_type": "display_data"
    }
   ],
   "source": [
    "# тангенциальная компонента напряженности магнитного поля\n",
    "eqHz_a  = (H_bad_conductor_sol_z(0)  == H_inner_vacuum_sol_z(0)).subs(eqEz_0, eqEy_0)\n",
    "eqHy_a  = (H_bad_conductor_sol_y(0)  == H_inner_vacuum_sol_y(0)).subs(eqEy_0, eqEz_0)\n",
    "\n",
    "print (\"H_bad_conductor_sol_z (0), H_inner_vacuum_sol_z (x) =\")\n",
    "display(Math(latex([H_bad_conductor_sol_z (x), H_inner_vacuum_sol_z (x)])))\n",
    "\n",
    "print (\"H_bad_conductor_sol_y (0), H_inner_vacuum_sol_y (x) =\")\n",
    "display(Math(latex([H_bad_conductor_sol_y (x), H_inner_vacuum_sol_y (x)])))\n",
    "\n",
    "print (\"sqrt(mu/epsilon)*H_bad_conductor_sol_z (0), sqrt(mu/epsilon)*H_inner_vacuum_sol_z (x) =\")\n",
    "display(Math(latex([sqrt(mu/epsilon)*H_bad_conductor_sol_z (x), sqrt(1/epsilon_0)*H_inner_vacuum_sol_z (x)])))\n",
    "\n",
    "print (\"H_bad_conductor_y (0), H_inner_vacuum_y (0) =\")\n",
    "display(Math(latex([sqrt(mu/epsilon)*H_bad_conductor_sol_y (x), sqrt(1/epsilon_0)*H_inner_vacuum_sol_y (x)])))\n",
    "\n",
    "print (\"eqEz_0, eqEy_0 = \")\n",
    "display(Math(latex([eqEz_0, eqEy_0])))\n",
    "\n",
    "\n",
    "print (\"eqHz_a =\")\n",
    "display(Math(latex(eqHz_a)))\n",
    "print (\"eqHy_a =\")\n",
    "display(Math(latex(eqHy_a)))"
   ]
  },
  {
   "cell_type": "code",
   "execution_count": 36,
   "metadata": {},
   "outputs": [
    {
     "name": "stdout",
     "output_type": "stream",
     "text": [
      "eqBx_a =\n"
     ]
    },
    {
     "data": {
      "text/latex": [
       "$\\displaystyle -\\frac{i \\, {\\left(i \\, \\mathit{B1}_{z} k_{y} - i \\, \\mathit{B1}_{y} k_{z}\\right)} c}{\\omega} = -\\frac{i \\, {\\left(i \\, {\\left(\\mathit{A1}_{z} + \\mathit{A2}_{z}\\right)} k_{y} - i \\, {\\left(\\mathit{A1}_{y} + \\mathit{A2}_{y}\\right)} k_{z}\\right)} c}{\\omega}$"
      ],
      "text/plain": [
       "<IPython.core.display.Math object>"
      ]
     },
     "metadata": {},
     "output_type": "display_data"
    }
   ],
   "source": [
    "# нормальная компонента индукции магнитного поля\n",
    "eqBx_a  = mu * H_bad_conductor_sol_x (0)  == H_inner_vacuum_sol_x (0)\n",
    "\n",
    "print (\"eqBx_a =\")\n",
    "display(Math(latex(eqBx_a)))"
   ]
  },
  {
   "cell_type": "code",
   "execution_count": 37,
   "metadata": {},
   "outputs": [
    {
     "name": "stdout",
     "output_type": "stream",
     "text": [
      "eq_rot_H_inner_vacuum_y rot H (E_y) =\n",
      "I*k_z*H_inner_vacuum_f_x(x) - diff(H_inner_vacuum_f_z(x), x) == -I*omega*E_inner_vacuum_y(x)/c\n"
     ]
    },
    {
     "data": {
      "text/latex": [
       "$\\displaystyle i \\, k_{z} H_{{\\rm inner}_{{\\rm vacuum}_{f_{x}}}}\\left(x\\right) - \\frac{\\partial}{\\partial x}H_{{\\rm inner}_{{\\rm vacuum}_{f_{z}}}}\\left(x\\right) = -\\frac{i \\, \\omega E_{{\\rm inner}_{{\\rm vacuum}_{y}}}\\left(x\\right)}{c}$"
      ],
      "text/plain": [
       "<IPython.core.display.Math object>"
      ]
     },
     "metadata": {},
     "output_type": "display_data"
    },
    {
     "name": "stdout",
     "output_type": "stream",
     "text": [
      "eq_rot_H_inner_vacuum_y_subs_solve rot H (E_y) =\n",
      "kappa_vacuum*E_inner_vacuum_y(x) == -k_z*H_inner_vacuum_f_x(x) - I*diff(H_inner_vacuum_f_z(x), x)\n"
     ]
    },
    {
     "data": {
      "text/latex": [
       "$\\displaystyle \\kappa_{\\mathit{vacuum}} E_{{\\rm inner}_{{\\rm vacuum}_{y}}}\\left(x\\right) = -k_{z} H_{{\\rm inner}_{{\\rm vacuum}_{f_{x}}}}\\left(x\\right) - i \\, \\frac{\\partial}{\\partial x}H_{{\\rm inner}_{{\\rm vacuum}_{f_{z}}}}\\left(x\\right)$"
      ],
      "text/plain": [
       "<IPython.core.display.Math object>"
      ]
     },
     "metadata": {},
     "output_type": "display_data"
    },
    {
     "name": "stdout",
     "output_type": "stream",
     "text": [
      "eq_rot_E_inner_vacuum_x_subs (x) rot E =\n",
      "kappa_vacuum*H_inner_vacuum_f_x(x) == -k_z*E_inner_vacuum_y(x) + k_y*E_inner_vacuum_z(x)\n"
     ]
    },
    {
     "data": {
      "text/latex": [
       "$\\displaystyle \\kappa_{\\mathit{vacuum}} H_{{\\rm inner}_{{\\rm vacuum}_{f_{x}}}}\\left(x\\right) = -k_{z} E_{{\\rm inner}_{{\\rm vacuum}_{y}}}\\left(x\\right) + k_{y} E_{{\\rm inner}_{{\\rm vacuum}_{z}}}\\left(x\\right)$"
      ],
      "text/plain": [
       "<IPython.core.display.Math object>"
      ]
     },
     "metadata": {},
     "output_type": "display_data"
    },
    {
     "name": "stdout",
     "output_type": "stream",
     "text": [
      "eq_rot_H_inner_vacuum_y_subs_solve_m =\n",
      "kappa_vacuum*E_inner_vacuum_y(x) + k_z*H_inner_vacuum_f_x(x) == -I*diff(H_inner_vacuum_f_z(x), x)\n"
     ]
    },
    {
     "data": {
      "text/latex": [
       "$\\displaystyle \\kappa_{\\mathit{vacuum}} E_{{\\rm inner}_{{\\rm vacuum}_{y}}}\\left(x\\right) + k_{z} H_{{\\rm inner}_{{\\rm vacuum}_{f_{x}}}}\\left(x\\right) = -i \\, \\frac{\\partial}{\\partial x}H_{{\\rm inner}_{{\\rm vacuum}_{f_{z}}}}\\left(x\\right)$"
      ],
      "text/plain": [
       "<IPython.core.display.Math object>"
      ]
     },
     "metadata": {},
     "output_type": "display_data"
    },
    {
     "name": "stdout",
     "output_type": "stream",
     "text": [
      "eq_rot_E_inner_vacuum_x_subs_m =\n",
      "k_z*E_inner_vacuum_y(x) + kappa_vacuum*H_inner_vacuum_f_x(x) == k_y*E_inner_vacuum_z(x)\n"
     ]
    },
    {
     "data": {
      "text/latex": [
       "$\\displaystyle k_{z} E_{{\\rm inner}_{{\\rm vacuum}_{y}}}\\left(x\\right) + \\kappa_{\\mathit{vacuum}} H_{{\\rm inner}_{{\\rm vacuum}_{f_{x}}}}\\left(x\\right) = k_{y} E_{{\\rm inner}_{{\\rm vacuum}_{z}}}\\left(x\\right)$"
      ],
      "text/plain": [
       "<IPython.core.display.Math object>"
      ]
     },
     "metadata": {},
     "output_type": "display_data"
    },
    {
     "name": "stdout",
     "output_type": "stream",
     "text": [
      "eq_1 =\n",
      "-(k_z^2 - kappa_vacuum^2)*E_inner_vacuum_y(x) == -k_y*k_z*E_inner_vacuum_z(x) - I*kappa_vacuum*diff(H_inner_vacuum_f_z(x), x)\n"
     ]
    },
    {
     "data": {
      "text/latex": [
       "$\\displaystyle -{\\left(k_{z}^{2} - \\kappa_{\\mathit{vacuum}}^{2}\\right)} E_{{\\rm inner}_{{\\rm vacuum}_{y}}}\\left(x\\right) = -k_{y} k_{z} E_{{\\rm inner}_{{\\rm vacuum}_{z}}}\\left(x\\right) - i \\, \\kappa_{\\mathit{vacuum}} \\frac{\\partial}{\\partial x}H_{{\\rm inner}_{{\\rm vacuum}_{f_{z}}}}\\left(x\\right)$"
      ],
      "text/plain": [
       "<IPython.core.display.Math object>"
      ]
     },
     "metadata": {},
     "output_type": "display_data"
    },
    {
     "name": "stdout",
     "output_type": "stream",
     "text": [
      "eq_2 =\n",
      "(k_z^2 - kappa_vacuum^2)*H_inner_vacuum_f_x(x) == -k_y*kappa_vacuum*E_inner_vacuum_z(x) - I*k_z*diff(H_inner_vacuum_f_z(x), x)\n"
     ]
    },
    {
     "data": {
      "text/latex": [
       "$\\displaystyle {\\left(k_{z}^{2} - \\kappa_{\\mathit{vacuum}}^{2}\\right)} H_{{\\rm inner}_{{\\rm vacuum}_{f_{x}}}}\\left(x\\right) = -k_{y} \\kappa_{\\mathit{vacuum}} E_{{\\rm inner}_{{\\rm vacuum}_{z}}}\\left(x\\right) - i \\, k_{z} \\frac{\\partial}{\\partial x}H_{{\\rm inner}_{{\\rm vacuum}_{f_{z}}}}\\left(x\\right)$"
      ],
      "text/plain": [
       "<IPython.core.display.Math object>"
      ]
     },
     "metadata": {},
     "output_type": "display_data"
    }
   ],
   "source": [
    "eq_rot_H_inner_vacuum_y_subs       = eq_rot_H_inner_vacuum_y.subs(omega==c*kappa_vacuum/sqrt(epsilon_0*mu_0))\n",
    "print (\"eq_rot_H_inner_vacuum_y rot H (E_y) =\")\n",
    "print(eq_rot_H_inner_vacuum_y)\n",
    "display(Math(latex(eq_rot_H_inner_vacuum_y)))\n",
    "\n",
    "eq_rot_H_inner_vacuum_y_subs_solve = solve(eq_rot_H_inner_vacuum_y_subs, E_inner_vacuum_y(x))[0] * kappa_vacuum\n",
    "print (\"eq_rot_H_inner_vacuum_y_subs_solve rot H (E_y) =\")\n",
    "print(eq_rot_H_inner_vacuum_y_subs_solve)\n",
    "display(Math(latex(eq_rot_H_inner_vacuum_y_subs_solve)))\n",
    "\n",
    "eq_rot_E_inner_vacuum_x = H_inner_vacuum_f_x(x) == H_inner_vacuum_s_x(x)\n",
    "eq_rot_E_inner_vacuum_x_subs = eq_rot_E_inner_vacuum_x.subs(omega==c*kappa_vacuum/sqrt(epsilon_0*mu_0)) * kappa_vacuum\n",
    "print (\"eq_rot_E_inner_vacuum_x_subs (x) rot E =\")\n",
    "print             (eq_rot_E_inner_vacuum_x_subs)\n",
    "display(Math(latex(eq_rot_E_inner_vacuum_x_subs)))\n",
    "\n",
    "eq_rot_H_inner_vacuum_y_subs_solve_m \\\n",
    "    =  eq_rot_H_inner_vacuum_y_subs_solve.lhs() \\\n",
    "    -  eq_rot_H_inner_vacuum_y_subs_solve.rhs().expand().operands()[0] \\\n",
    "    == eq_rot_H_inner_vacuum_y_subs_solve.rhs().expand().operands()[1]\n",
    "print (\"eq_rot_H_inner_vacuum_y_subs_solve_m =\")\n",
    "print             (eq_rot_H_inner_vacuum_y_subs_solve_m)\n",
    "display(Math(latex(eq_rot_H_inner_vacuum_y_subs_solve_m)))\n",
    "\n",
    "eq_rot_E_inner_vacuum_x_subs_m \\\n",
    "    =  eq_rot_E_inner_vacuum_x_subs.lhs() \\\n",
    "    -  eq_rot_E_inner_vacuum_x_subs.rhs().expand().operands()[0] \\\n",
    "    == eq_rot_E_inner_vacuum_x_subs.rhs().expand().operands()[1]\n",
    "print (\"eq_rot_E_inner_vacuum_x_subs_m =\")\n",
    "print             (eq_rot_E_inner_vacuum_x_subs_m)\n",
    "display(Math(latex(eq_rot_E_inner_vacuum_x_subs_m)))\n",
    "\n",
    "eq_1 = (eq_rot_H_inner_vacuum_y_subs_solve_m*kappa_vacuum - eq_rot_E_inner_vacuum_x_subs_m*k_z).full_simplify()\n",
    "print (\"eq_1 =\")\n",
    "print             (eq_1)\n",
    "display(Math(latex(eq_1)))\n",
    "\n",
    "eq_2 = (eq_rot_H_inner_vacuum_y_subs_solve_m*k_z - eq_rot_E_inner_vacuum_x_subs_m*kappa_vacuum).full_simplify()\n",
    "print (\"eq_2 =\")\n",
    "print             (eq_2)\n",
    "display(Math(latex(eq_2)))"
   ]
  },
  {
   "cell_type": "code",
   "execution_count": 38,
   "metadata": {},
   "outputs": [
    {
     "name": "stdout",
     "output_type": "stream",
     "text": [
      "eq_rot_H_bad_conductor_y rot_H = epsilon*d/dt(E_y) =\n",
      "I*k_z*H_bad_conductor_f_x(x) - diff(H_bad_conductor_f_z(x), x) == -I*epsilon*omega*E_bad_conductor_y(x)/c\n"
     ]
    },
    {
     "data": {
      "text/latex": [
       "$\\displaystyle i \\, k_{z} H_{{\\rm bad}_{{\\rm conductor}_{f_{x}}}}\\left(x\\right) - \\frac{\\partial}{\\partial x}H_{{\\rm bad}_{{\\rm conductor}_{f_{z}}}}\\left(x\\right) = -\\frac{i \\, \\epsilon \\omega E_{{\\rm bad}_{{\\rm conductor}_{y}}}\\left(x\\right)}{c}$"
      ],
      "text/plain": [
       "<IPython.core.display.Math object>"
      ]
     },
     "metadata": {},
     "output_type": "display_data"
    },
    {
     "name": "stdout",
     "output_type": "stream",
     "text": [
      "eq_rot_H_bad_conductor_y_subs_solve rot H = epsilon*d/dt(E_y) =\n",
      "kappa*E_bad_conductor_y(x) == -(sqrt(epsilon*mu)*k_z*H_bad_conductor_f_x(x) + I*sqrt(epsilon*mu)*diff(H_bad_conductor_f_z(x), x))/epsilon\n"
     ]
    },
    {
     "data": {
      "text/latex": [
       "$\\displaystyle \\kappa E_{{\\rm bad}_{{\\rm conductor}_{y}}}\\left(x\\right) = -\\frac{\\sqrt{\\epsilon \\mu} k_{z} H_{{\\rm bad}_{{\\rm conductor}_{f_{x}}}}\\left(x\\right) + i \\, \\sqrt{\\epsilon \\mu} \\frac{\\partial}{\\partial x}H_{{\\rm bad}_{{\\rm conductor}_{f_{z}}}}\\left(x\\right)}{\\epsilon}$"
      ],
      "text/plain": [
       "<IPython.core.display.Math object>"
      ]
     },
     "metadata": {},
     "output_type": "display_data"
    },
    {
     "name": "stdout",
     "output_type": "stream",
     "text": [
      "eq_rot_E_bad_conductor_x_subs (x) rot E =\n",
      "kappa*H_bad_conductor_f_x(x) == -I*sqrt(epsilon*mu)*(-I*k_z*E_bad_conductor_y(x) + I*k_y*E_bad_conductor_z(x))/mu\n"
     ]
    },
    {
     "data": {
      "text/latex": [
       "$\\displaystyle \\kappa H_{{\\rm bad}_{{\\rm conductor}_{f_{x}}}}\\left(x\\right) = -\\frac{i \\, \\sqrt{\\epsilon \\mu} {\\left(-i \\, k_{z} E_{{\\rm bad}_{{\\rm conductor}_{y}}}\\left(x\\right) + i \\, k_{y} E_{{\\rm bad}_{{\\rm conductor}_{z}}}\\left(x\\right)\\right)}}{\\mu}$"
      ],
      "text/plain": [
       "<IPython.core.display.Math object>"
      ]
     },
     "metadata": {},
     "output_type": "display_data"
    },
    {
     "name": "stdout",
     "output_type": "stream",
     "text": [
      "eq_rot_H_bad_conductor_y_subs_solve_m =\n",
      "kappa*E_bad_conductor_y(x) + k_z*sqrt(mu)*H_bad_conductor_f_x(x)/sqrt(epsilon) == -I*sqrt(mu)*diff(H_bad_conductor_f_z(x), x)/sqrt(epsilon)\n"
     ]
    },
    {
     "data": {
      "text/latex": [
       "$\\displaystyle \\kappa E_{{\\rm bad}_{{\\rm conductor}_{y}}}\\left(x\\right) + \\frac{k_{z} \\sqrt{\\mu} H_{{\\rm bad}_{{\\rm conductor}_{f_{x}}}}\\left(x\\right)}{\\sqrt{\\epsilon}} = -\\frac{i \\, \\sqrt{\\mu} \\frac{\\partial}{\\partial x}H_{{\\rm bad}_{{\\rm conductor}_{f_{z}}}}\\left(x\\right)}{\\sqrt{\\epsilon}}$"
      ],
      "text/plain": [
       "<IPython.core.display.Math object>"
      ]
     },
     "metadata": {},
     "output_type": "display_data"
    },
    {
     "name": "stdout",
     "output_type": "stream",
     "text": [
      "eq_rot_E_bad_conductor_x_subs_m =\n",
      "sqrt(epsilon)*k_z*E_bad_conductor_y(x)/sqrt(mu) + kappa*H_bad_conductor_f_x(x) == sqrt(epsilon)*k_y*E_bad_conductor_z(x)/sqrt(mu)\n"
     ]
    },
    {
     "data": {
      "text/latex": [
       "$\\displaystyle \\frac{\\sqrt{\\epsilon} k_{z} E_{{\\rm bad}_{{\\rm conductor}_{y}}}\\left(x\\right)}{\\sqrt{\\mu}} + \\kappa H_{{\\rm bad}_{{\\rm conductor}_{f_{x}}}}\\left(x\\right) = \\frac{\\sqrt{\\epsilon} k_{y} E_{{\\rm bad}_{{\\rm conductor}_{z}}}\\left(x\\right)}{\\sqrt{\\mu}}$"
      ],
      "text/plain": [
       "<IPython.core.display.Math object>"
      ]
     },
     "metadata": {},
     "output_type": "display_data"
    },
    {
     "name": "stdout",
     "output_type": "stream",
     "text": [
      "eq_3 =\n",
      "-(k_z^2 - kappa^2)*E_bad_conductor_y(x) == -(sqrt(epsilon)*k_y*k_z*E_bad_conductor_z(x) + I*kappa*sqrt(mu)*diff(H_bad_conductor_f_z(x), x))/sqrt(epsilon)\n"
     ]
    },
    {
     "data": {
      "text/latex": [
       "$\\displaystyle -{\\left(k_{z}^{2} - \\kappa^{2}\\right)} E_{{\\rm bad}_{{\\rm conductor}_{y}}}\\left(x\\right) = -\\frac{\\sqrt{\\epsilon} k_{y} k_{z} E_{{\\rm bad}_{{\\rm conductor}_{z}}}\\left(x\\right) + i \\, \\kappa \\sqrt{\\mu} \\frac{\\partial}{\\partial x}H_{{\\rm bad}_{{\\rm conductor}_{f_{z}}}}\\left(x\\right)}{\\sqrt{\\epsilon}}$"
      ],
      "text/plain": [
       "<IPython.core.display.Math object>"
      ]
     },
     "metadata": {},
     "output_type": "display_data"
    },
    {
     "name": "stdout",
     "output_type": "stream",
     "text": [
      "eq_4 =\n",
      "(k_z^2 - kappa^2)*sqrt(mu)*H_bad_conductor_f_x(x)/sqrt(epsilon) == -(sqrt(epsilon)*k_y*kappa*E_bad_conductor_z(x) + I*k_z*sqrt(mu)*diff(H_bad_conductor_f_z(x), x))/sqrt(epsilon)\n"
     ]
    },
    {
     "data": {
      "text/latex": [
       "$\\displaystyle \\frac{{\\left(k_{z}^{2} - \\kappa^{2}\\right)} \\sqrt{\\mu} H_{{\\rm bad}_{{\\rm conductor}_{f_{x}}}}\\left(x\\right)}{\\sqrt{\\epsilon}} = -\\frac{\\sqrt{\\epsilon} k_{y} \\kappa E_{{\\rm bad}_{{\\rm conductor}_{z}}}\\left(x\\right) + i \\, k_{z} \\sqrt{\\mu} \\frac{\\partial}{\\partial x}H_{{\\rm bad}_{{\\rm conductor}_{f_{z}}}}\\left(x\\right)}{\\sqrt{\\epsilon}}$"
      ],
      "text/plain": [
       "<IPython.core.display.Math object>"
      ]
     },
     "metadata": {},
     "output_type": "display_data"
    }
   ],
   "source": [
    "eq_rot_H_bad_conductor_y_subs       = eq_rot_H_bad_conductor_y.subs(omega==c*kappa/sqrt(epsilon*mu))\n",
    "print (\"eq_rot_H_bad_conductor_y rot_H = epsilon*d/dt(E_y) =\")\n",
    "print(eq_rot_H_bad_conductor_y)\n",
    "display(Math(latex(eq_rot_H_bad_conductor_y)))\n",
    "\n",
    "eq_rot_H_bad_conductor_y_subs_solve = solve(eq_rot_H_bad_conductor_y_subs, E_bad_conductor_y(x))[0] * kappa\n",
    "print (\"eq_rot_H_bad_conductor_y_subs_solve rot H = epsilon*d/dt(E_y) =\")\n",
    "print(eq_rot_H_bad_conductor_y_subs_solve)\n",
    "display(Math(latex(eq_rot_H_bad_conductor_y_subs_solve)))\n",
    "\n",
    "eq_rot_E_bad_conductor_x = H_bad_conductor_f_x(x) == H_bad_conductor_s_x(x)\n",
    "eq_rot_E_bad_conductor_x_subs = eq_rot_E_bad_conductor_x.subs(omega==c*kappa/sqrt(epsilon*mu)) * kappa\n",
    "print (\"eq_rot_E_bad_conductor_x_subs (x) rot E =\")\n",
    "print             (eq_rot_E_bad_conductor_x_subs)\n",
    "display(Math(latex(eq_rot_E_bad_conductor_x_subs)))\n",
    "\n",
    "eq_rot_H_bad_conductor_y_subs_solve_m \\\n",
    "    =  eq_rot_H_bad_conductor_y_subs_solve.lhs() \\\n",
    "    -  eq_rot_H_bad_conductor_y_subs_solve.rhs().expand().operands()[0] \\\n",
    "    == eq_rot_H_bad_conductor_y_subs_solve.rhs().expand().operands()[1]\n",
    "print (\"eq_rot_H_bad_conductor_y_subs_solve_m =\")\n",
    "print             (eq_rot_H_bad_conductor_y_subs_solve_m)\n",
    "display(Math(latex(eq_rot_H_bad_conductor_y_subs_solve_m)))\n",
    "\n",
    "eq_rot_E_bad_conductor_x_subs_m \\\n",
    "    =  eq_rot_E_bad_conductor_x_subs.lhs() \\\n",
    "    -  eq_rot_E_bad_conductor_x_subs.rhs().expand().operands()[0] \\\n",
    "    == eq_rot_E_bad_conductor_x_subs.rhs().expand().operands()[1]\n",
    "print (\"eq_rot_E_bad_conductor_x_subs_m =\")\n",
    "print             (eq_rot_E_bad_conductor_x_subs_m)\n",
    "display(Math(latex(eq_rot_E_bad_conductor_x_subs_m)))\n",
    "\n",
    "m3 = k_z*sqrt(mu)/sqrt(epsilon)\n",
    "m4 = sqrt(mu)*kappa/sqrt(epsilon)\n",
    "\n",
    "eq_3 = (eq_rot_H_bad_conductor_y_subs_solve_m*kappa - eq_rot_E_bad_conductor_x_subs_m * m3).full_simplify()\n",
    "print (\"eq_3 =\")\n",
    "print             (eq_3)\n",
    "display(Math(latex(eq_3)))\n",
    "\n",
    "eq_4 = (eq_rot_H_bad_conductor_y_subs_solve_m*k_z - eq_rot_E_bad_conductor_x_subs_m * m4).full_simplify()\n",
    "print (\"eq_4 =\")\n",
    "print             (eq_4)\n",
    "display(Math(latex(eq_4)))"
   ]
  },
  {
   "cell_type": "code",
   "execution_count": 39,
   "metadata": {},
   "outputs": [
    {
     "name": "stdout",
     "output_type": "stream",
     "text": [
      "eq_rot_H_inner_vacuum_y rot H (E_x) =\n",
      "-I*k_z*H_inner_vacuum_f_y(x) + I*k_y*H_inner_vacuum_f_z(x) == -I*omega*E_inner_vacuum_x(x)/c\n"
     ]
    },
    {
     "data": {
      "text/latex": [
       "$\\displaystyle -i \\, k_{z} H_{{\\rm inner}_{{\\rm vacuum}_{f_{y}}}}\\left(x\\right) + i \\, k_{y} H_{{\\rm inner}_{{\\rm vacuum}_{f_{z}}}}\\left(x\\right) = -\\frac{i \\, \\omega E_{{\\rm inner}_{{\\rm vacuum}_{x}}}\\left(x\\right)}{c}$"
      ],
      "text/plain": [
       "<IPython.core.display.Math object>"
      ]
     },
     "metadata": {},
     "output_type": "display_data"
    },
    {
     "name": "stdout",
     "output_type": "stream",
     "text": [
      "eq_rot_H_inner_vacuum_x_subs_solve rot H (E_x) =\n",
      "kappa_vacuum*E_inner_vacuum_x(x) == k_z*H_inner_vacuum_f_y(x) - k_y*H_inner_vacuum_f_z(x)\n"
     ]
    },
    {
     "data": {
      "text/latex": [
       "$\\displaystyle \\kappa_{\\mathit{vacuum}} E_{{\\rm inner}_{{\\rm vacuum}_{x}}}\\left(x\\right) = k_{z} H_{{\\rm inner}_{{\\rm vacuum}_{f_{y}}}}\\left(x\\right) - k_{y} H_{{\\rm inner}_{{\\rm vacuum}_{f_{z}}}}\\left(x\\right)$"
      ],
      "text/plain": [
       "<IPython.core.display.Math object>"
      ]
     },
     "metadata": {},
     "output_type": "display_data"
    },
    {
     "name": "stdout",
     "output_type": "stream",
     "text": [
      "eq_rot_E_inner_vacuum_y_subs (x) rot E =\n",
      "kappa_vacuum*H_inner_vacuum_f_y(x) == k_z*E_inner_vacuum_x(x) + I*diff(E_inner_vacuum_z(x), x)\n"
     ]
    },
    {
     "data": {
      "text/latex": [
       "$\\displaystyle \\kappa_{\\mathit{vacuum}} H_{{\\rm inner}_{{\\rm vacuum}_{f_{y}}}}\\left(x\\right) = k_{z} E_{{\\rm inner}_{{\\rm vacuum}_{x}}}\\left(x\\right) + i \\, \\frac{\\partial}{\\partial x}E_{{\\rm inner}_{{\\rm vacuum}_{z}}}\\left(x\\right)$"
      ],
      "text/plain": [
       "<IPython.core.display.Math object>"
      ]
     },
     "metadata": {},
     "output_type": "display_data"
    },
    {
     "name": "stdout",
     "output_type": "stream",
     "text": [
      "eq_rot_H_inner_vacuum_x_subs_solve_m =\n",
      "kappa_vacuum*E_inner_vacuum_x(x) - k_z*H_inner_vacuum_f_y(x) == -k_y*H_inner_vacuum_f_z(x)\n"
     ]
    },
    {
     "data": {
      "text/latex": [
       "$\\displaystyle \\kappa_{\\mathit{vacuum}} E_{{\\rm inner}_{{\\rm vacuum}_{x}}}\\left(x\\right) - k_{z} H_{{\\rm inner}_{{\\rm vacuum}_{f_{y}}}}\\left(x\\right) = -k_{y} H_{{\\rm inner}_{{\\rm vacuum}_{f_{z}}}}\\left(x\\right)$"
      ],
      "text/plain": [
       "<IPython.core.display.Math object>"
      ]
     },
     "metadata": {},
     "output_type": "display_data"
    },
    {
     "name": "stdout",
     "output_type": "stream",
     "text": [
      "eq_rot_E_inner_vacuum_y_subs_m =\n",
      "-k_z*E_inner_vacuum_x(x) + kappa_vacuum*H_inner_vacuum_f_y(x) == I*diff(E_inner_vacuum_z(x), x)\n"
     ]
    },
    {
     "data": {
      "text/latex": [
       "$\\displaystyle -k_{z} E_{{\\rm inner}_{{\\rm vacuum}_{x}}}\\left(x\\right) + \\kappa_{\\mathit{vacuum}} H_{{\\rm inner}_{{\\rm vacuum}_{f_{y}}}}\\left(x\\right) = i \\, \\frac{\\partial}{\\partial x}E_{{\\rm inner}_{{\\rm vacuum}_{z}}}\\left(x\\right)$"
      ],
      "text/plain": [
       "<IPython.core.display.Math object>"
      ]
     },
     "metadata": {},
     "output_type": "display_data"
    },
    {
     "name": "stdout",
     "output_type": "stream",
     "text": [
      "eq_5 =\n",
      "-(k_z^2 - kappa_vacuum^2)*E_inner_vacuum_x(x) == -k_y*kappa_vacuum*H_inner_vacuum_f_z(x) + I*k_z*diff(E_inner_vacuum_z(x), x)\n"
     ]
    },
    {
     "data": {
      "text/latex": [
       "$\\displaystyle -{\\left(k_{z}^{2} - \\kappa_{\\mathit{vacuum}}^{2}\\right)} E_{{\\rm inner}_{{\\rm vacuum}_{x}}}\\left(x\\right) = -k_{y} \\kappa_{\\mathit{vacuum}} H_{{\\rm inner}_{{\\rm vacuum}_{f_{z}}}}\\left(x\\right) + i \\, k_{z} \\frac{\\partial}{\\partial x}E_{{\\rm inner}_{{\\rm vacuum}_{z}}}\\left(x\\right)$"
      ],
      "text/plain": [
       "<IPython.core.display.Math object>"
      ]
     },
     "metadata": {},
     "output_type": "display_data"
    },
    {
     "name": "stdout",
     "output_type": "stream",
     "text": [
      "eq_6 =\n",
      "-(k_z^2 - kappa_vacuum^2)*H_inner_vacuum_f_y(x) == -k_y*k_z*H_inner_vacuum_f_z(x) + I*kappa_vacuum*diff(E_inner_vacuum_z(x), x)\n"
     ]
    },
    {
     "data": {
      "text/latex": [
       "$\\displaystyle -{\\left(k_{z}^{2} - \\kappa_{\\mathit{vacuum}}^{2}\\right)} H_{{\\rm inner}_{{\\rm vacuum}_{f_{y}}}}\\left(x\\right) = -k_{y} k_{z} H_{{\\rm inner}_{{\\rm vacuum}_{f_{z}}}}\\left(x\\right) + i \\, \\kappa_{\\mathit{vacuum}} \\frac{\\partial}{\\partial x}E_{{\\rm inner}_{{\\rm vacuum}_{z}}}\\left(x\\right)$"
      ],
      "text/plain": [
       "<IPython.core.display.Math object>"
      ]
     },
     "metadata": {},
     "output_type": "display_data"
    }
   ],
   "source": [
    "eq_rot_H_inner_vacuum_x_subs       = eq_rot_H_inner_vacuum_x.subs(omega==c*kappa_vacuum/sqrt(epsilon_0*mu_0))\n",
    "print (\"eq_rot_H_inner_vacuum_y rot H (E_x) =\")\n",
    "print(eq_rot_H_inner_vacuum_x)\n",
    "display(Math(latex(eq_rot_H_inner_vacuum_x)))\n",
    "\n",
    "eq_rot_H_inner_vacuum_x_subs_solve = solve(eq_rot_H_inner_vacuum_x_subs, E_inner_vacuum_x(x))[0] * kappa_vacuum\n",
    "print (\"eq_rot_H_inner_vacuum_x_subs_solve rot H (E_x) =\")\n",
    "print(eq_rot_H_inner_vacuum_x_subs_solve)\n",
    "display(Math(latex(eq_rot_H_inner_vacuum_x_subs_solve)))\n",
    "\n",
    "eq_rot_E_inner_vacuum_y = H_inner_vacuum_f_y(x) == H_inner_vacuum_s_y(x)\n",
    "eq_rot_E_inner_vacuum_y_subs = eq_rot_E_inner_vacuum_y.subs(omega==c*kappa_vacuum/sqrt(epsilon_0*mu_0)) * kappa_vacuum\n",
    "print (\"eq_rot_E_inner_vacuum_y_subs (x) rot E =\")\n",
    "print             (eq_rot_E_inner_vacuum_y_subs)\n",
    "display(Math(latex(eq_rot_E_inner_vacuum_y_subs)))\n",
    "\n",
    "eq_rot_H_inner_vacuum_x_subs_solve_m \\\n",
    "    =  eq_rot_H_inner_vacuum_x_subs_solve.lhs() \\\n",
    "    -  eq_rot_H_inner_vacuum_x_subs_solve.rhs().expand().operands()[0] \\\n",
    "    == eq_rot_H_inner_vacuum_x_subs_solve.rhs().expand().operands()[1]\n",
    "print (\"eq_rot_H_inner_vacuum_x_subs_solve_m =\")\n",
    "print             (eq_rot_H_inner_vacuum_x_subs_solve_m)\n",
    "display(Math(latex(eq_rot_H_inner_vacuum_x_subs_solve_m)))\n",
    "\n",
    "eq_rot_E_inner_vacuum_y_subs_m \\\n",
    "    =  eq_rot_E_inner_vacuum_y_subs.lhs() \\\n",
    "    -  eq_rot_E_inner_vacuum_y_subs.rhs().expand().operands()[0] \\\n",
    "    == eq_rot_E_inner_vacuum_y_subs.rhs().expand().operands()[1]\n",
    "print (\"eq_rot_E_inner_vacuum_y_subs_m =\")\n",
    "print             (eq_rot_E_inner_vacuum_y_subs_m)\n",
    "display(Math(latex(eq_rot_E_inner_vacuum_y_subs_m)))\n",
    "\n",
    "eq_5 = (eq_rot_H_inner_vacuum_x_subs_solve_m*kappa_vacuum + eq_rot_E_inner_vacuum_y_subs_m*k_z).full_simplify()\n",
    "print (\"eq_5 =\")\n",
    "print             (eq_5)\n",
    "display(Math(latex(eq_5)))\n",
    "\n",
    "eq_6 = (eq_rot_H_inner_vacuum_x_subs_solve_m*k_z + eq_rot_E_inner_vacuum_y_subs_m*kappa_vacuum).full_simplify()\n",
    "print (\"eq_6 =\")\n",
    "print             (eq_6)\n",
    "display(Math(latex(eq_6)))"
   ]
  },
  {
   "cell_type": "code",
   "execution_count": 40,
   "metadata": {},
   "outputs": [
    {
     "name": "stdout",
     "output_type": "stream",
     "text": [
      "eq_rot_H_bad_conductor_x rot_H = epsilon*d/dt(E_x) =\n",
      "-I*k_z*H_bad_conductor_f_y(x) + I*k_y*H_bad_conductor_f_z(x) == -I*epsilon*omega*E_bad_conductor_x(x)/c\n"
     ]
    },
    {
     "data": {
      "text/latex": [
       "$\\displaystyle -i \\, k_{z} H_{{\\rm bad}_{{\\rm conductor}_{f_{y}}}}\\left(x\\right) + i \\, k_{y} H_{{\\rm bad}_{{\\rm conductor}_{f_{z}}}}\\left(x\\right) = -\\frac{i \\, \\epsilon \\omega E_{{\\rm bad}_{{\\rm conductor}_{x}}}\\left(x\\right)}{c}$"
      ],
      "text/plain": [
       "<IPython.core.display.Math object>"
      ]
     },
     "metadata": {},
     "output_type": "display_data"
    },
    {
     "name": "stdout",
     "output_type": "stream",
     "text": [
      "eq_rot_H_bad_conductor_x_subs rot_H = epsilon*d/dt(E_x) =\n",
      "-I*k_z*H_bad_conductor_f_y(x) + I*k_y*H_bad_conductor_f_z(x) == -I*epsilon*kappa*E_bad_conductor_x(x)/sqrt(epsilon*mu)\n"
     ]
    },
    {
     "data": {
      "text/latex": [
       "$\\displaystyle -i \\, k_{z} H_{{\\rm bad}_{{\\rm conductor}_{f_{y}}}}\\left(x\\right) + i \\, k_{y} H_{{\\rm bad}_{{\\rm conductor}_{f_{z}}}}\\left(x\\right) = -\\frac{i \\, \\epsilon \\kappa E_{{\\rm bad}_{{\\rm conductor}_{x}}}\\left(x\\right)}{\\sqrt{\\epsilon \\mu}}$"
      ],
      "text/plain": [
       "<IPython.core.display.Math object>"
      ]
     },
     "metadata": {},
     "output_type": "display_data"
    },
    {
     "name": "stdout",
     "output_type": "stream",
     "text": [
      "eq_rot_H_bad_conductor_x_subs_solve rot H = epsilon*d/dt(E_x) =\n",
      "kappa*E_bad_conductor_x(x) == (sqrt(epsilon*mu)*k_z*H_bad_conductor_f_y(x) - sqrt(epsilon*mu)*k_y*H_bad_conductor_f_z(x))/epsilon\n"
     ]
    },
    {
     "data": {
      "text/latex": [
       "$\\displaystyle \\kappa E_{{\\rm bad}_{{\\rm conductor}_{x}}}\\left(x\\right) = \\frac{\\sqrt{\\epsilon \\mu} k_{z} H_{{\\rm bad}_{{\\rm conductor}_{f_{y}}}}\\left(x\\right) - \\sqrt{\\epsilon \\mu} k_{y} H_{{\\rm bad}_{{\\rm conductor}_{f_{z}}}}\\left(x\\right)}{\\epsilon}$"
      ],
      "text/plain": [
       "<IPython.core.display.Math object>"
      ]
     },
     "metadata": {},
     "output_type": "display_data"
    },
    {
     "name": "stdout",
     "output_type": "stream",
     "text": [
      "eq_rot_E_bad_conductor_y_subs (x) rot E =\n",
      "kappa*H_bad_conductor_f_y(x) == -I*sqrt(epsilon*mu)*(I*k_z*E_bad_conductor_x(x) - diff(E_bad_conductor_z(x), x))/mu\n"
     ]
    },
    {
     "data": {
      "text/latex": [
       "$\\displaystyle \\kappa H_{{\\rm bad}_{{\\rm conductor}_{f_{y}}}}\\left(x\\right) = -\\frac{i \\, \\sqrt{\\epsilon \\mu} {\\left(i \\, k_{z} E_{{\\rm bad}_{{\\rm conductor}_{x}}}\\left(x\\right) - \\frac{\\partial}{\\partial x}E_{{\\rm bad}_{{\\rm conductor}_{z}}}\\left(x\\right)\\right)}}{\\mu}$"
      ],
      "text/plain": [
       "<IPython.core.display.Math object>"
      ]
     },
     "metadata": {},
     "output_type": "display_data"
    },
    {
     "name": "stdout",
     "output_type": "stream",
     "text": [
      "eq_rot_H_bad_conductor_x_subs_solve_m =\n",
      "kappa*E_bad_conductor_x(x) - k_z*sqrt(mu)*H_bad_conductor_f_y(x)/sqrt(epsilon) == -k_y*sqrt(mu)*H_bad_conductor_f_z(x)/sqrt(epsilon)\n"
     ]
    },
    {
     "data": {
      "text/latex": [
       "$\\displaystyle \\kappa E_{{\\rm bad}_{{\\rm conductor}_{x}}}\\left(x\\right) - \\frac{k_{z} \\sqrt{\\mu} H_{{\\rm bad}_{{\\rm conductor}_{f_{y}}}}\\left(x\\right)}{\\sqrt{\\epsilon}} = -\\frac{k_{y} \\sqrt{\\mu} H_{{\\rm bad}_{{\\rm conductor}_{f_{z}}}}\\left(x\\right)}{\\sqrt{\\epsilon}}$"
      ],
      "text/plain": [
       "<IPython.core.display.Math object>"
      ]
     },
     "metadata": {},
     "output_type": "display_data"
    },
    {
     "name": "stdout",
     "output_type": "stream",
     "text": [
      "eq_rot_E_bad_conductor_y_subs_m =\n",
      "-sqrt(epsilon)*k_z*E_bad_conductor_x(x)/sqrt(mu) + kappa*H_bad_conductor_f_y(x) == I*sqrt(epsilon)*diff(E_bad_conductor_z(x), x)/sqrt(mu)\n"
     ]
    },
    {
     "data": {
      "text/latex": [
       "$\\displaystyle -\\frac{\\sqrt{\\epsilon} k_{z} E_{{\\rm bad}_{{\\rm conductor}_{x}}}\\left(x\\right)}{\\sqrt{\\mu}} + \\kappa H_{{\\rm bad}_{{\\rm conductor}_{f_{y}}}}\\left(x\\right) = \\frac{i \\, \\sqrt{\\epsilon} \\frac{\\partial}{\\partial x}E_{{\\rm bad}_{{\\rm conductor}_{z}}}\\left(x\\right)}{\\sqrt{\\mu}}$"
      ],
      "text/plain": [
       "<IPython.core.display.Math object>"
      ]
     },
     "metadata": {},
     "output_type": "display_data"
    },
    {
     "name": "stdout",
     "output_type": "stream",
     "text": [
      "eq_7 =\n",
      "-(k_z^2 - kappa^2)*E_bad_conductor_x(x) == -(k_y*kappa*sqrt(mu)*H_bad_conductor_f_z(x) - I*sqrt(epsilon)*k_z*diff(E_bad_conductor_z(x), x))/sqrt(epsilon)\n"
     ]
    },
    {
     "data": {
      "text/latex": [
       "$\\displaystyle -{\\left(k_{z}^{2} - \\kappa^{2}\\right)} E_{{\\rm bad}_{{\\rm conductor}_{x}}}\\left(x\\right) = -\\frac{k_{y} \\kappa \\sqrt{\\mu} H_{{\\rm bad}_{{\\rm conductor}_{f_{z}}}}\\left(x\\right) - i \\, \\sqrt{\\epsilon} k_{z} \\frac{\\partial}{\\partial x}E_{{\\rm bad}_{{\\rm conductor}_{z}}}\\left(x\\right)}{\\sqrt{\\epsilon}}$"
      ],
      "text/plain": [
       "<IPython.core.display.Math object>"
      ]
     },
     "metadata": {},
     "output_type": "display_data"
    },
    {
     "name": "stdout",
     "output_type": "stream",
     "text": [
      "eq_8 =\n",
      "-(k_z^2 - kappa^2)*sqrt(mu)*H_bad_conductor_f_y(x)/sqrt(epsilon) == -(k_y*k_z*sqrt(mu)*H_bad_conductor_f_z(x) - I*sqrt(epsilon)*kappa*diff(E_bad_conductor_z(x), x))/sqrt(epsilon)\n"
     ]
    },
    {
     "data": {
      "text/latex": [
       "$\\displaystyle -\\frac{{\\left(k_{z}^{2} - \\kappa^{2}\\right)} \\sqrt{\\mu} H_{{\\rm bad}_{{\\rm conductor}_{f_{y}}}}\\left(x\\right)}{\\sqrt{\\epsilon}} = -\\frac{k_{y} k_{z} \\sqrt{\\mu} H_{{\\rm bad}_{{\\rm conductor}_{f_{z}}}}\\left(x\\right) - i \\, \\sqrt{\\epsilon} \\kappa \\frac{\\partial}{\\partial x}E_{{\\rm bad}_{{\\rm conductor}_{z}}}\\left(x\\right)}{\\sqrt{\\epsilon}}$"
      ],
      "text/plain": [
       "<IPython.core.display.Math object>"
      ]
     },
     "metadata": {},
     "output_type": "display_data"
    }
   ],
   "source": [
    "eq_rot_H_bad_conductor_x_subs       = eq_rot_H_bad_conductor_x.subs(omega==c*kappa/sqrt(epsilon*mu))\n",
    "print (\"eq_rot_H_bad_conductor_x rot_H = epsilon*d/dt(E_x) =\")\n",
    "print(eq_rot_H_bad_conductor_x)\n",
    "display(Math(latex(eq_rot_H_bad_conductor_x)))\n",
    "\n",
    "print (\"eq_rot_H_bad_conductor_x_subs rot_H = epsilon*d/dt(E_x) =\")\n",
    "print(eq_rot_H_bad_conductor_x_subs)\n",
    "display(Math(latex(eq_rot_H_bad_conductor_x_subs)))\n",
    "\n",
    "\n",
    "eq_rot_H_bad_conductor_x_subs_solve = solve(eq_rot_H_bad_conductor_x_subs, E_bad_conductor_x(x))[0] * kappa\n",
    "print (\"eq_rot_H_bad_conductor_x_subs_solve rot H = epsilon*d/dt(E_x) =\")\n",
    "print(eq_rot_H_bad_conductor_x_subs_solve)\n",
    "display(Math(latex(eq_rot_H_bad_conductor_x_subs_solve)))\n",
    "\n",
    "eq_rot_E_bad_conductor_y = H_bad_conductor_f_y(x) == H_bad_conductor_s_y(x)\n",
    "eq_rot_E_bad_conductor_y_subs = eq_rot_E_bad_conductor_y.subs(omega==c*kappa/sqrt(epsilon*mu)) * kappa\n",
    "print (\"eq_rot_E_bad_conductor_y_subs (x) rot E =\")\n",
    "print             (eq_rot_E_bad_conductor_y_subs)\n",
    "display(Math(latex(eq_rot_E_bad_conductor_y_subs)))\n",
    "\n",
    "eq_rot_H_bad_conductor_x_subs_solve_m \\\n",
    "    =  eq_rot_H_bad_conductor_x_subs_solve.lhs() \\\n",
    "    -  eq_rot_H_bad_conductor_x_subs_solve.rhs().expand().operands()[0] \\\n",
    "    == eq_rot_H_bad_conductor_x_subs_solve.rhs().expand().operands()[1]\n",
    "print (\"eq_rot_H_bad_conductor_x_subs_solve_m =\")\n",
    "print             (eq_rot_H_bad_conductor_x_subs_solve_m)\n",
    "display(Math(latex(eq_rot_H_bad_conductor_x_subs_solve_m)))\n",
    "\n",
    "eq_rot_E_bad_conductor_y_subs_m \\\n",
    "    =  eq_rot_E_bad_conductor_y_subs.lhs() \\\n",
    "    -  eq_rot_E_bad_conductor_y_subs.rhs().expand().operands()[0] \\\n",
    "    == eq_rot_E_bad_conductor_y_subs.rhs().expand().operands()[1]\n",
    "print (\"eq_rot_E_bad_conductor_y_subs_m =\")\n",
    "print             (eq_rot_E_bad_conductor_y_subs_m)\n",
    "display(Math(latex(eq_rot_E_bad_conductor_y_subs_m)))\n",
    "\n",
    "m3 = k_z*sqrt(mu)/sqrt(epsilon)\n",
    "m4 = sqrt(mu)*kappa/sqrt(epsilon)\n",
    "\n",
    "eq_7 = (eq_rot_H_bad_conductor_x_subs_solve_m*kappa + eq_rot_E_bad_conductor_y_subs_m * m3).full_simplify()\n",
    "print (\"eq_7 =\")\n",
    "print             (eq_7)\n",
    "display(Math(latex(eq_7)))\n",
    "\n",
    "eq_8 = (eq_rot_H_bad_conductor_x_subs_solve_m*k_z + eq_rot_E_bad_conductor_y_subs_m * m4).full_simplify()\n",
    "print (\"eq_8 =\")\n",
    "print             (eq_8)\n",
    "display(Math(latex(eq_8)))"
   ]
  },
  {
   "cell_type": "code",
   "execution_count": null,
   "metadata": {},
   "outputs": [],
   "source": []
  },
  {
   "cell_type": "code",
   "execution_count": 41,
   "metadata": {},
   "outputs": [],
   "source": [
    "K_vacuum_subs = K_vacuum == sqrt(kappa_vacuum^2-k_z^2)\n",
    "K_conductor_subs = K_conductor == sqrt(kappa^2-k_z^2)"
   ]
  },
  {
   "cell_type": "code",
   "execution_count": null,
   "metadata": {},
   "outputs": [],
   "source": []
  },
  {
   "cell_type": "code",
   "execution_count": 42,
   "metadata": {},
   "outputs": [
    {
     "name": "stdout",
     "output_type": "stream",
     "text": [
      "eq_1 =\n",
      "-(k_z^2 - kappa_vacuum^2)*E_inner_vacuum_y(x) == -k_y*k_z*E_inner_vacuum_z(x) - I*kappa_vacuum*diff(H_inner_vacuum_f_z(x), x)\n"
     ]
    },
    {
     "data": {
      "text/latex": [
       "$\\displaystyle -{\\left(k_{z}^{2} - \\kappa_{\\mathit{vacuum}}^{2}\\right)} E_{{\\rm inner}_{{\\rm vacuum}_{y}}}\\left(x\\right) = -k_{y} k_{z} E_{{\\rm inner}_{{\\rm vacuum}_{z}}}\\left(x\\right) - i \\, \\kappa_{\\mathit{vacuum}} \\frac{\\partial}{\\partial x}H_{{\\rm inner}_{{\\rm vacuum}_{f_{z}}}}\\left(x\\right)$"
      ],
      "text/plain": [
       "<IPython.core.display.Math object>"
      ]
     },
     "metadata": {},
     "output_type": "display_data"
    },
    {
     "name": "stdout",
     "output_type": "stream",
     "text": [
      "eq_2 =\n",
      "(k_z^2 - kappa_vacuum^2)*H_inner_vacuum_f_x(x) == -k_y*kappa_vacuum*E_inner_vacuum_z(x) - I*k_z*diff(H_inner_vacuum_f_z(x), x)\n"
     ]
    },
    {
     "data": {
      "text/latex": [
       "$\\displaystyle {\\left(k_{z}^{2} - \\kappa_{\\mathit{vacuum}}^{2}\\right)} H_{{\\rm inner}_{{\\rm vacuum}_{f_{x}}}}\\left(x\\right) = -k_{y} \\kappa_{\\mathit{vacuum}} E_{{\\rm inner}_{{\\rm vacuum}_{z}}}\\left(x\\right) - i \\, k_{z} \\frac{\\partial}{\\partial x}H_{{\\rm inner}_{{\\rm vacuum}_{f_{z}}}}\\left(x\\right)$"
      ],
      "text/plain": [
       "<IPython.core.display.Math object>"
      ]
     },
     "metadata": {},
     "output_type": "display_data"
    },
    {
     "name": "stdout",
     "output_type": "stream",
     "text": [
      "eq_3 =\n",
      "-(k_z^2 - kappa^2)*E_bad_conductor_y(x) == -(sqrt(epsilon)*k_y*k_z*E_bad_conductor_z(x) + I*kappa*sqrt(mu)*diff(H_bad_conductor_f_z(x), x))/sqrt(epsilon)\n"
     ]
    },
    {
     "data": {
      "text/latex": [
       "$\\displaystyle -{\\left(k_{z}^{2} - \\kappa^{2}\\right)} E_{{\\rm bad}_{{\\rm conductor}_{y}}}\\left(x\\right) = -\\frac{\\sqrt{\\epsilon} k_{y} k_{z} E_{{\\rm bad}_{{\\rm conductor}_{z}}}\\left(x\\right) + i \\, \\kappa \\sqrt{\\mu} \\frac{\\partial}{\\partial x}H_{{\\rm bad}_{{\\rm conductor}_{f_{z}}}}\\left(x\\right)}{\\sqrt{\\epsilon}}$"
      ],
      "text/plain": [
       "<IPython.core.display.Math object>"
      ]
     },
     "metadata": {},
     "output_type": "display_data"
    },
    {
     "name": "stdout",
     "output_type": "stream",
     "text": [
      "eq_4 =\n",
      "(k_z^2 - kappa^2)*sqrt(mu)*H_bad_conductor_f_x(x)/sqrt(epsilon) == -(sqrt(epsilon)*k_y*kappa*E_bad_conductor_z(x) + I*k_z*sqrt(mu)*diff(H_bad_conductor_f_z(x), x))/sqrt(epsilon)\n"
     ]
    },
    {
     "data": {
      "text/latex": [
       "$\\displaystyle \\frac{{\\left(k_{z}^{2} - \\kappa^{2}\\right)} \\sqrt{\\mu} H_{{\\rm bad}_{{\\rm conductor}_{f_{x}}}}\\left(x\\right)}{\\sqrt{\\epsilon}} = -\\frac{\\sqrt{\\epsilon} k_{y} \\kappa E_{{\\rm bad}_{{\\rm conductor}_{z}}}\\left(x\\right) + i \\, k_{z} \\sqrt{\\mu} \\frac{\\partial}{\\partial x}H_{{\\rm bad}_{{\\rm conductor}_{f_{z}}}}\\left(x\\right)}{\\sqrt{\\epsilon}}$"
      ],
      "text/plain": [
       "<IPython.core.display.Math object>"
      ]
     },
     "metadata": {},
     "output_type": "display_data"
    }
   ],
   "source": [
    "print (\"eq_1 =\")\n",
    "print             (eq_1)\n",
    "display(Math(latex(eq_1)))\n",
    "\n",
    "print (\"eq_2 =\")\n",
    "print             (eq_2)\n",
    "display(Math(latex(eq_2)))\n",
    "\n",
    "print (\"eq_3 =\")\n",
    "print             (eq_3)\n",
    "display(Math(latex(eq_3)))\n",
    "\n",
    "print (\"eq_4 =\")\n",
    "print             (eq_4)\n",
    "display(Math(latex(eq_4)))"
   ]
  },
  {
   "cell_type": "code",
   "execution_count": 43,
   "metadata": {},
   "outputs": [
    {
     "name": "stdout",
     "output_type": "stream",
     "text": [
      "eq_1 =\n",
      "-(k_z^2 - kappa_vacuum^2)*E_inner_vacuum_y(x) == -k_y*k_z*E_inner_vacuum_z(x) - I*kappa_vacuum*diff(H_inner_vacuum_f_z(x), x)\n"
     ]
    },
    {
     "data": {
      "text/latex": [
       "$\\displaystyle -{\\left(k_{z}^{2} - \\kappa_{\\mathit{vacuum}}^{2}\\right)} E_{{\\rm inner}_{{\\rm vacuum}_{y}}}\\left(x\\right) = -k_{y} k_{z} E_{{\\rm inner}_{{\\rm vacuum}_{z}}}\\left(x\\right) - i \\, \\kappa_{\\mathit{vacuum}} \\frac{\\partial}{\\partial x}H_{{\\rm inner}_{{\\rm vacuum}_{f_{z}}}}\\left(x\\right)$"
      ],
      "text/plain": [
       "<IPython.core.display.Math object>"
      ]
     },
     "metadata": {},
     "output_type": "display_data"
    }
   ],
   "source": [
    "print (\"eq_1 =\")\n",
    "print             (eq_1)\n",
    "display(Math(latex(eq_1)))"
   ]
  },
  {
   "cell_type": "code",
   "execution_count": 44,
   "metadata": {
    "scrolled": true
   },
   "outputs": [
    {
     "name": "stdout",
     "output_type": "stream",
     "text": [
      "-(k_z^2 - kappa_vacuum^2)*E_inner_vacuum_y(x) == -I*kappa_vacuum*diff(H_inner_vacuum_f_z(x), x)\n"
     ]
    },
    {
     "data": {
      "text/latex": [
       "$\\displaystyle -{\\left(k_{z}^{2} - \\kappa_{\\mathit{vacuum}}^{2}\\right)} E_{{\\rm inner}_{{\\rm vacuum}_{y}}}\\left(x\\right) = -i \\, \\kappa_{\\mathit{vacuum}} \\frac{\\partial}{\\partial x}H_{{\\rm inner}_{{\\rm vacuum}_{f_{z}}}}\\left(x\\right)$"
      ],
      "text/plain": [
       "<IPython.core.display.Math object>"
      ]
     },
     "metadata": {},
     "output_type": "display_data"
    }
   ],
   "source": [
    "eq_1_subs1 = eq_1.subs(k_y == 0)\n",
    "print             (eq_1_subs1)\n",
    "display(Math(latex(eq_1_subs1)))"
   ]
  },
  {
   "cell_type": "code",
   "execution_count": 45,
   "metadata": {
    "scrolled": true
   },
   "outputs": [
    {
     "name": "stdout",
     "output_type": "stream",
     "text": [
      "E_inner_vacuum_y(x) == I*kappa_vacuum*diff(H_inner_vacuum_f_z(x), x)/(k_z^2 - kappa_vacuum^2)\n"
     ]
    },
    {
     "data": {
      "text/latex": [
       "$\\displaystyle E_{{\\rm inner}_{{\\rm vacuum}_{y}}}\\left(x\\right) = \\frac{i \\, \\kappa_{\\mathit{vacuum}} \\frac{\\partial}{\\partial x}H_{{\\rm inner}_{{\\rm vacuum}_{f_{z}}}}\\left(x\\right)}{k_{z}^{2} - \\kappa_{\\mathit{vacuum}}^{2}}$"
      ],
      "text/plain": [
       "<IPython.core.display.Math object>"
      ]
     },
     "metadata": {},
     "output_type": "display_data"
    }
   ],
   "source": [
    "eq_1_subs2 = (eq_1_subs1/(kappa_vacuum^2 - k_z^2)).full_simplify()\n",
    "print             (eq_1_subs2)\n",
    "display(Math(latex(eq_1_subs2)))"
   ]
  },
  {
   "cell_type": "code",
   "execution_count": 46,
   "metadata": {
    "scrolled": true
   },
   "outputs": [
    {
     "name": "stdout",
     "output_type": "stream",
     "text": [
      "E_inner_vacuum_y(x) == -(A2_y*K_vacuum^2*e^(I*K_vacuum*x) + A1_y*K_vacuum^2*e^(-I*K_vacuum*x) + I*(I*A2_x*K_vacuum*e^(I*K_vacuum*x) - I*A1_x*K_vacuum*e^(-I*K_vacuum*x))*k_y)*c*kappa_vacuum/((k_z^2 - kappa_vacuum^2)*omega)\n"
     ]
    },
    {
     "data": {
      "text/latex": [
       "$\\displaystyle E_{{\\rm inner}_{{\\rm vacuum}_{y}}}\\left(x\\right) = -\\frac{{\\left(\\mathit{A2}_{y} K_{\\mathit{vacuum}}^{2} e^{\\left(i \\, K_{\\mathit{vacuum}} x\\right)} + \\mathit{A1}_{y} K_{\\mathit{vacuum}}^{2} e^{\\left(-i \\, K_{\\mathit{vacuum}} x\\right)} + i \\, {\\left(i \\, \\mathit{A2}_{x} K_{\\mathit{vacuum}} e^{\\left(i \\, K_{\\mathit{vacuum}} x\\right)} - i \\, \\mathit{A1}_{x} K_{\\mathit{vacuum}} e^{\\left(-i \\, K_{\\mathit{vacuum}} x\\right)}\\right)} k_{y}\\right)} c \\kappa_{\\mathit{vacuum}}}{{\\left(k_{z}^{2} - \\kappa_{\\mathit{vacuum}}^{2}\\right)} \\omega}$"
      ],
      "text/plain": [
       "<IPython.core.display.Math object>"
      ]
     },
     "metadata": {},
     "output_type": "display_data"
    }
   ],
   "source": [
    "eq_1_subs3 = eq_1_subs2.substitute_function(H_inner_vacuum_f_z, H_inner_vacuum_sol_z)\n",
    "print             (eq_1_subs3)\n",
    "display(Math(latex(eq_1_subs3)))"
   ]
  },
  {
   "cell_type": "code",
   "execution_count": 47,
   "metadata": {},
   "outputs": [
    {
     "name": "stdout",
     "output_type": "stream",
     "text": [
      "E_inner_vacuum_y(x) == -(A2_y*K_vacuum^2*e^(I*K_vacuum*x) + A1_y*K_vacuum^2*e^(-I*K_vacuum*x) + I*(I*A2_x*K_vacuum*e^(I*K_vacuum*x) - I*A1_x*K_vacuum*e^(-I*K_vacuum*x))*k_y)/(k_z^2 - kappa_vacuum^2)\n"
     ]
    },
    {
     "data": {
      "text/latex": [
       "$\\displaystyle E_{{\\rm inner}_{{\\rm vacuum}_{y}}}\\left(x\\right) = -\\frac{\\mathit{A2}_{y} K_{\\mathit{vacuum}}^{2} e^{\\left(i \\, K_{\\mathit{vacuum}} x\\right)} + \\mathit{A1}_{y} K_{\\mathit{vacuum}}^{2} e^{\\left(-i \\, K_{\\mathit{vacuum}} x\\right)} + i \\, {\\left(i \\, \\mathit{A2}_{x} K_{\\mathit{vacuum}} e^{\\left(i \\, K_{\\mathit{vacuum}} x\\right)} - i \\, \\mathit{A1}_{x} K_{\\mathit{vacuum}} e^{\\left(-i \\, K_{\\mathit{vacuum}} x\\right)}\\right)} k_{y}}{k_{z}^{2} - \\kappa_{\\mathit{vacuum}}^{2}}$"
      ],
      "text/plain": [
       "<IPython.core.display.Math object>"
      ]
     },
     "metadata": {},
     "output_type": "display_data"
    }
   ],
   "source": [
    "eq_1_subs4 = eq_1_subs3.subs(omega==c*kappa_vacuum/sqrt(epsilon_0*mu_0))\n",
    "print             (eq_1_subs4)\n",
    "display(Math(latex(eq_1_subs4)))"
   ]
  },
  {
   "cell_type": "code",
   "execution_count": null,
   "metadata": {},
   "outputs": [],
   "source": []
  },
  {
   "cell_type": "code",
   "execution_count": 48,
   "metadata": {},
   "outputs": [
    {
     "name": "stdout",
     "output_type": "stream",
     "text": [
      "eq_2 =\n",
      "(k_z^2 - kappa_vacuum^2)*H_inner_vacuum_f_x(x) == -k_y*kappa_vacuum*E_inner_vacuum_z(x) - I*k_z*diff(H_inner_vacuum_f_z(x), x)\n"
     ]
    },
    {
     "data": {
      "text/latex": [
       "$\\displaystyle {\\left(k_{z}^{2} - \\kappa_{\\mathit{vacuum}}^{2}\\right)} H_{{\\rm inner}_{{\\rm vacuum}_{f_{x}}}}\\left(x\\right) = -k_{y} \\kappa_{\\mathit{vacuum}} E_{{\\rm inner}_{{\\rm vacuum}_{z}}}\\left(x\\right) - i \\, k_{z} \\frac{\\partial}{\\partial x}H_{{\\rm inner}_{{\\rm vacuum}_{f_{z}}}}\\left(x\\right)$"
      ],
      "text/plain": [
       "<IPython.core.display.Math object>"
      ]
     },
     "metadata": {},
     "output_type": "display_data"
    }
   ],
   "source": [
    "print (\"eq_2 =\")\n",
    "print             (eq_2)\n",
    "display(Math(latex(eq_2)))"
   ]
  },
  {
   "cell_type": "code",
   "execution_count": 49,
   "metadata": {
    "scrolled": true
   },
   "outputs": [
    {
     "name": "stdout",
     "output_type": "stream",
     "text": [
      "(k_z^2 - kappa_vacuum^2)*H_inner_vacuum_f_x(x) == -I*k_z*diff(H_inner_vacuum_f_z(x), x)\n"
     ]
    },
    {
     "data": {
      "text/latex": [
       "$\\displaystyle {\\left(k_{z}^{2} - \\kappa_{\\mathit{vacuum}}^{2}\\right)} H_{{\\rm inner}_{{\\rm vacuum}_{f_{x}}}}\\left(x\\right) = -i \\, k_{z} \\frac{\\partial}{\\partial x}H_{{\\rm inner}_{{\\rm vacuum}_{f_{z}}}}\\left(x\\right)$"
      ],
      "text/plain": [
       "<IPython.core.display.Math object>"
      ]
     },
     "metadata": {},
     "output_type": "display_data"
    }
   ],
   "source": [
    "eq_2_subs1 = eq_2.subs(k_y == 0)\n",
    "print             (eq_2_subs1)\n",
    "display(Math(latex(eq_2_subs1)))"
   ]
  },
  {
   "cell_type": "code",
   "execution_count": 50,
   "metadata": {
    "scrolled": true
   },
   "outputs": [
    {
     "name": "stdout",
     "output_type": "stream",
     "text": [
      "-H_inner_vacuum_f_x(x) == I*k_z*diff(H_inner_vacuum_f_z(x), x)/(k_z^2 - kappa_vacuum^2)\n"
     ]
    },
    {
     "data": {
      "text/latex": [
       "$\\displaystyle -H_{{\\rm inner}_{{\\rm vacuum}_{f_{x}}}}\\left(x\\right) = \\frac{i \\, k_{z} \\frac{\\partial}{\\partial x}H_{{\\rm inner}_{{\\rm vacuum}_{f_{z}}}}\\left(x\\right)}{k_{z}^{2} - \\kappa_{\\mathit{vacuum}}^{2}}$"
      ],
      "text/plain": [
       "<IPython.core.display.Math object>"
      ]
     },
     "metadata": {},
     "output_type": "display_data"
    }
   ],
   "source": [
    "eq_2_subs2 = (eq_2_subs1/(kappa_vacuum^2 - k_z^2)).full_simplify()\n",
    "print             (eq_2_subs2)\n",
    "display(Math(latex(eq_2_subs2)))"
   ]
  },
  {
   "cell_type": "code",
   "execution_count": 51,
   "metadata": {
    "scrolled": true
   },
   "outputs": [
    {
     "name": "stdout",
     "output_type": "stream",
     "text": [
      "-H_inner_vacuum_f_x(x) == -(A2_y*K_vacuum^2*e^(I*K_vacuum*x) + A1_y*K_vacuum^2*e^(-I*K_vacuum*x) + I*(I*A2_x*K_vacuum*e^(I*K_vacuum*x) - I*A1_x*K_vacuum*e^(-I*K_vacuum*x))*k_y)*c*k_z/((k_z^2 - kappa_vacuum^2)*omega)\n"
     ]
    },
    {
     "data": {
      "text/latex": [
       "$\\displaystyle -H_{{\\rm inner}_{{\\rm vacuum}_{f_{x}}}}\\left(x\\right) = -\\frac{{\\left(\\mathit{A2}_{y} K_{\\mathit{vacuum}}^{2} e^{\\left(i \\, K_{\\mathit{vacuum}} x\\right)} + \\mathit{A1}_{y} K_{\\mathit{vacuum}}^{2} e^{\\left(-i \\, K_{\\mathit{vacuum}} x\\right)} + i \\, {\\left(i \\, \\mathit{A2}_{x} K_{\\mathit{vacuum}} e^{\\left(i \\, K_{\\mathit{vacuum}} x\\right)} - i \\, \\mathit{A1}_{x} K_{\\mathit{vacuum}} e^{\\left(-i \\, K_{\\mathit{vacuum}} x\\right)}\\right)} k_{y}\\right)} c k_{z}}{{\\left(k_{z}^{2} - \\kappa_{\\mathit{vacuum}}^{2}\\right)} \\omega}$"
      ],
      "text/plain": [
       "<IPython.core.display.Math object>"
      ]
     },
     "metadata": {},
     "output_type": "display_data"
    }
   ],
   "source": [
    "eq_2_subs3 = eq_2_subs2.substitute_function(H_inner_vacuum_f_z, H_inner_vacuum_sol_z)\n",
    "print             (eq_2_subs3)\n",
    "display(Math(latex(eq_2_subs3)))"
   ]
  },
  {
   "cell_type": "code",
   "execution_count": 52,
   "metadata": {},
   "outputs": [
    {
     "name": "stdout",
     "output_type": "stream",
     "text": [
      "-H_inner_vacuum_f_x(x) == -(A2_y*K_vacuum^2*e^(I*K_vacuum*x) + A1_y*K_vacuum^2*e^(-I*K_vacuum*x) + I*(I*A2_x*K_vacuum*e^(I*K_vacuum*x) - I*A1_x*K_vacuum*e^(-I*K_vacuum*x))*k_y)*k_z/((k_z^2 - kappa_vacuum^2)*kappa_vacuum)\n"
     ]
    },
    {
     "data": {
      "text/latex": [
       "$\\displaystyle -H_{{\\rm inner}_{{\\rm vacuum}_{f_{x}}}}\\left(x\\right) = -\\frac{{\\left(\\mathit{A2}_{y} K_{\\mathit{vacuum}}^{2} e^{\\left(i \\, K_{\\mathit{vacuum}} x\\right)} + \\mathit{A1}_{y} K_{\\mathit{vacuum}}^{2} e^{\\left(-i \\, K_{\\mathit{vacuum}} x\\right)} + i \\, {\\left(i \\, \\mathit{A2}_{x} K_{\\mathit{vacuum}} e^{\\left(i \\, K_{\\mathit{vacuum}} x\\right)} - i \\, \\mathit{A1}_{x} K_{\\mathit{vacuum}} e^{\\left(-i \\, K_{\\mathit{vacuum}} x\\right)}\\right)} k_{y}\\right)} k_{z}}{{\\left(k_{z}^{2} - \\kappa_{\\mathit{vacuum}}^{2}\\right)} \\kappa_{\\mathit{vacuum}}}$"
      ],
      "text/plain": [
       "<IPython.core.display.Math object>"
      ]
     },
     "metadata": {},
     "output_type": "display_data"
    }
   ],
   "source": [
    "eq_2_subs4 = eq_2_subs3.subs(omega==c*kappa_vacuum/sqrt(epsilon_0*mu_0))\n",
    "print             (eq_2_subs4)\n",
    "display(Math(latex(eq_2_subs4)))"
   ]
  },
  {
   "cell_type": "code",
   "execution_count": null,
   "metadata": {},
   "outputs": [],
   "source": []
  },
  {
   "cell_type": "code",
   "execution_count": 53,
   "metadata": {},
   "outputs": [
    {
     "name": "stdout",
     "output_type": "stream",
     "text": [
      "eq_3 =\n",
      "-(k_z^2 - kappa^2)*E_bad_conductor_y(x) == -(sqrt(epsilon)*k_y*k_z*E_bad_conductor_z(x) + I*kappa*sqrt(mu)*diff(H_bad_conductor_f_z(x), x))/sqrt(epsilon)\n"
     ]
    },
    {
     "data": {
      "text/latex": [
       "$\\displaystyle -{\\left(k_{z}^{2} - \\kappa^{2}\\right)} E_{{\\rm bad}_{{\\rm conductor}_{y}}}\\left(x\\right) = -\\frac{\\sqrt{\\epsilon} k_{y} k_{z} E_{{\\rm bad}_{{\\rm conductor}_{z}}}\\left(x\\right) + i \\, \\kappa \\sqrt{\\mu} \\frac{\\partial}{\\partial x}H_{{\\rm bad}_{{\\rm conductor}_{f_{z}}}}\\left(x\\right)}{\\sqrt{\\epsilon}}$"
      ],
      "text/plain": [
       "<IPython.core.display.Math object>"
      ]
     },
     "metadata": {},
     "output_type": "display_data"
    }
   ],
   "source": [
    "print (\"eq_3 =\")\n",
    "print             (eq_3)\n",
    "display(Math(latex(eq_3)))"
   ]
  },
  {
   "cell_type": "code",
   "execution_count": 54,
   "metadata": {
    "scrolled": true
   },
   "outputs": [
    {
     "name": "stdout",
     "output_type": "stream",
     "text": [
      "-(k_z^2 - kappa^2)*E_bad_conductor_y(x) == -I*kappa*sqrt(mu)*diff(H_bad_conductor_f_z(x), x)/sqrt(epsilon)\n"
     ]
    },
    {
     "data": {
      "text/latex": [
       "$\\displaystyle -{\\left(k_{z}^{2} - \\kappa^{2}\\right)} E_{{\\rm bad}_{{\\rm conductor}_{y}}}\\left(x\\right) = -\\frac{i \\, \\kappa \\sqrt{\\mu} \\frac{\\partial}{\\partial x}H_{{\\rm bad}_{{\\rm conductor}_{f_{z}}}}\\left(x\\right)}{\\sqrt{\\epsilon}}$"
      ],
      "text/plain": [
       "<IPython.core.display.Math object>"
      ]
     },
     "metadata": {},
     "output_type": "display_data"
    }
   ],
   "source": [
    "eq_3_subs1 = eq_3.subs(k_y == 0)\n",
    "print             (eq_3_subs1)\n",
    "display(Math(latex(eq_3_subs1)))"
   ]
  },
  {
   "cell_type": "code",
   "execution_count": 55,
   "metadata": {
    "scrolled": true
   },
   "outputs": [
    {
     "name": "stdout",
     "output_type": "stream",
     "text": [
      "E_bad_conductor_y(x) == I*kappa*sqrt(mu)*diff(H_bad_conductor_f_z(x), x)/((k_z^2 - kappa^2)*sqrt(epsilon))\n"
     ]
    },
    {
     "data": {
      "text/latex": [
       "$\\displaystyle E_{{\\rm bad}_{{\\rm conductor}_{y}}}\\left(x\\right) = \\frac{i \\, \\kappa \\sqrt{\\mu} \\frac{\\partial}{\\partial x}H_{{\\rm bad}_{{\\rm conductor}_{f_{z}}}}\\left(x\\right)}{{\\left(k_{z}^{2} - \\kappa^{2}\\right)} \\sqrt{\\epsilon}}$"
      ],
      "text/plain": [
       "<IPython.core.display.Math object>"
      ]
     },
     "metadata": {},
     "output_type": "display_data"
    }
   ],
   "source": [
    "eq_3_subs2 = (eq_3_subs1/(kappa^2 - k_z^2)).full_simplify()\n",
    "print             (eq_3_subs2)\n",
    "display(Math(latex(eq_3_subs2)))"
   ]
  },
  {
   "cell_type": "code",
   "execution_count": 56,
   "metadata": {
    "scrolled": true
   },
   "outputs": [
    {
     "name": "stdout",
     "output_type": "stream",
     "text": [
      "E_bad_conductor_y(x) == -(B1_y*K_conductor^2*e^(I*K_conductor*x) - B1_x*K_conductor*k_y*e^(I*K_conductor*x))*c*kappa/((k_z^2 - kappa^2)*sqrt(epsilon)*sqrt(mu)*omega)\n"
     ]
    },
    {
     "data": {
      "text/latex": [
       "$\\displaystyle E_{{\\rm bad}_{{\\rm conductor}_{y}}}\\left(x\\right) = -\\frac{{\\left(\\mathit{B1}_{y} K_{\\mathit{conductor}}^{2} e^{\\left(i \\, K_{\\mathit{conductor}} x\\right)} - \\mathit{B1}_{x} K_{\\mathit{conductor}} k_{y} e^{\\left(i \\, K_{\\mathit{conductor}} x\\right)}\\right)} c \\kappa}{{\\left(k_{z}^{2} - \\kappa^{2}\\right)} \\sqrt{\\epsilon} \\sqrt{\\mu} \\omega}$"
      ],
      "text/plain": [
       "<IPython.core.display.Math object>"
      ]
     },
     "metadata": {},
     "output_type": "display_data"
    }
   ],
   "source": [
    "eq_3_subs3 = eq_3_subs2.substitute_function(H_bad_conductor_f_z, H_bad_conductor_sol_z)\n",
    "print             (eq_3_subs3)\n",
    "display(Math(latex(eq_3_subs3)))"
   ]
  },
  {
   "cell_type": "code",
   "execution_count": 57,
   "metadata": {},
   "outputs": [
    {
     "name": "stdout",
     "output_type": "stream",
     "text": [
      "E_bad_conductor_y(x) == -(B1_y*K_conductor^2*e^(I*K_conductor*x) - B1_x*K_conductor*k_y*e^(I*K_conductor*x))*sqrt(epsilon*mu)/((k_z^2 - kappa^2)*sqrt(epsilon)*sqrt(mu))\n"
     ]
    },
    {
     "data": {
      "text/latex": [
       "$\\displaystyle E_{{\\rm bad}_{{\\rm conductor}_{y}}}\\left(x\\right) = -\\frac{{\\left(\\mathit{B1}_{y} K_{\\mathit{conductor}}^{2} e^{\\left(i \\, K_{\\mathit{conductor}} x\\right)} - \\mathit{B1}_{x} K_{\\mathit{conductor}} k_{y} e^{\\left(i \\, K_{\\mathit{conductor}} x\\right)}\\right)} \\sqrt{\\epsilon \\mu}}{{\\left(k_{z}^{2} - \\kappa^{2}\\right)} \\sqrt{\\epsilon} \\sqrt{\\mu}}$"
      ],
      "text/plain": [
       "<IPython.core.display.Math object>"
      ]
     },
     "metadata": {},
     "output_type": "display_data"
    }
   ],
   "source": [
    "eq_3_subs4 = eq_3_subs3.subs(omega==c*kappa/sqrt(epsilon*mu))\n",
    "print             (eq_3_subs4)\n",
    "display(Math(latex(eq_3_subs4)))"
   ]
  },
  {
   "cell_type": "code",
   "execution_count": null,
   "metadata": {},
   "outputs": [],
   "source": []
  },
  {
   "cell_type": "code",
   "execution_count": 58,
   "metadata": {},
   "outputs": [
    {
     "name": "stdout",
     "output_type": "stream",
     "text": [
      "eq_4 =\n",
      "(k_z^2 - kappa^2)*sqrt(mu)*H_bad_conductor_f_x(x)/sqrt(epsilon) == -(sqrt(epsilon)*k_y*kappa*E_bad_conductor_z(x) + I*k_z*sqrt(mu)*diff(H_bad_conductor_f_z(x), x))/sqrt(epsilon)\n"
     ]
    },
    {
     "data": {
      "text/latex": [
       "$\\displaystyle \\frac{{\\left(k_{z}^{2} - \\kappa^{2}\\right)} \\sqrt{\\mu} H_{{\\rm bad}_{{\\rm conductor}_{f_{x}}}}\\left(x\\right)}{\\sqrt{\\epsilon}} = -\\frac{\\sqrt{\\epsilon} k_{y} \\kappa E_{{\\rm bad}_{{\\rm conductor}_{z}}}\\left(x\\right) + i \\, k_{z} \\sqrt{\\mu} \\frac{\\partial}{\\partial x}H_{{\\rm bad}_{{\\rm conductor}_{f_{z}}}}\\left(x\\right)}{\\sqrt{\\epsilon}}$"
      ],
      "text/plain": [
       "<IPython.core.display.Math object>"
      ]
     },
     "metadata": {},
     "output_type": "display_data"
    }
   ],
   "source": [
    "print (\"eq_4 =\")\n",
    "print             (eq_4)\n",
    "display(Math(latex(eq_4)))"
   ]
  },
  {
   "cell_type": "code",
   "execution_count": 59,
   "metadata": {
    "scrolled": true
   },
   "outputs": [
    {
     "name": "stdout",
     "output_type": "stream",
     "text": [
      "(k_z^2 - kappa^2)*sqrt(mu)*H_bad_conductor_f_x(x)/sqrt(epsilon) == -I*k_z*sqrt(mu)*diff(H_bad_conductor_f_z(x), x)/sqrt(epsilon)\n"
     ]
    },
    {
     "data": {
      "text/latex": [
       "$\\displaystyle \\frac{{\\left(k_{z}^{2} - \\kappa^{2}\\right)} \\sqrt{\\mu} H_{{\\rm bad}_{{\\rm conductor}_{f_{x}}}}\\left(x\\right)}{\\sqrt{\\epsilon}} = -\\frac{i \\, k_{z} \\sqrt{\\mu} \\frac{\\partial}{\\partial x}H_{{\\rm bad}_{{\\rm conductor}_{f_{z}}}}\\left(x\\right)}{\\sqrt{\\epsilon}}$"
      ],
      "text/plain": [
       "<IPython.core.display.Math object>"
      ]
     },
     "metadata": {},
     "output_type": "display_data"
    }
   ],
   "source": [
    "eq_4_subs1 = eq_4.subs(k_y == 0)\n",
    "print             (eq_4_subs1)\n",
    "display(Math(latex(eq_4_subs1)))"
   ]
  },
  {
   "cell_type": "code",
   "execution_count": 60,
   "metadata": {
    "scrolled": true
   },
   "outputs": [
    {
     "name": "stdout",
     "output_type": "stream",
     "text": [
      "-sqrt(mu)*H_bad_conductor_f_x(x)/sqrt(epsilon) == I*k_z*sqrt(mu)*diff(H_bad_conductor_f_z(x), x)/((k_z^2 - kappa^2)*sqrt(epsilon))\n"
     ]
    },
    {
     "data": {
      "text/latex": [
       "$\\displaystyle -\\frac{\\sqrt{\\mu} H_{{\\rm bad}_{{\\rm conductor}_{f_{x}}}}\\left(x\\right)}{\\sqrt{\\epsilon}} = \\frac{i \\, k_{z} \\sqrt{\\mu} \\frac{\\partial}{\\partial x}H_{{\\rm bad}_{{\\rm conductor}_{f_{z}}}}\\left(x\\right)}{{\\left(k_{z}^{2} - \\kappa^{2}\\right)} \\sqrt{\\epsilon}}$"
      ],
      "text/plain": [
       "<IPython.core.display.Math object>"
      ]
     },
     "metadata": {},
     "output_type": "display_data"
    }
   ],
   "source": [
    "eq_4_subs2 = (eq_4_subs1/(kappa^2 - k_z^2)).full_simplify()\n",
    "print             (eq_4_subs2)\n",
    "display(Math(latex(eq_4_subs2)))"
   ]
  },
  {
   "cell_type": "code",
   "execution_count": 61,
   "metadata": {
    "scrolled": true
   },
   "outputs": [
    {
     "name": "stdout",
     "output_type": "stream",
     "text": [
      "-sqrt(mu)*H_bad_conductor_f_x(x)/sqrt(epsilon) == -(B1_y*K_conductor^2*e^(I*K_conductor*x) - B1_x*K_conductor*k_y*e^(I*K_conductor*x))*c*k_z/((k_z^2 - kappa^2)*sqrt(epsilon)*sqrt(mu)*omega)\n"
     ]
    },
    {
     "data": {
      "text/latex": [
       "$\\displaystyle -\\frac{\\sqrt{\\mu} H_{{\\rm bad}_{{\\rm conductor}_{f_{x}}}}\\left(x\\right)}{\\sqrt{\\epsilon}} = -\\frac{{\\left(\\mathit{B1}_{y} K_{\\mathit{conductor}}^{2} e^{\\left(i \\, K_{\\mathit{conductor}} x\\right)} - \\mathit{B1}_{x} K_{\\mathit{conductor}} k_{y} e^{\\left(i \\, K_{\\mathit{conductor}} x\\right)}\\right)} c k_{z}}{{\\left(k_{z}^{2} - \\kappa^{2}\\right)} \\sqrt{\\epsilon} \\sqrt{\\mu} \\omega}$"
      ],
      "text/plain": [
       "<IPython.core.display.Math object>"
      ]
     },
     "metadata": {},
     "output_type": "display_data"
    }
   ],
   "source": [
    "eq_4_subs3 = eq_4_subs2.substitute_function(H_bad_conductor_f_z, H_bad_conductor_sol_z)\n",
    "print             (eq_4_subs3)\n",
    "display(Math(latex(eq_4_subs3)))"
   ]
  },
  {
   "cell_type": "code",
   "execution_count": 62,
   "metadata": {},
   "outputs": [
    {
     "name": "stdout",
     "output_type": "stream",
     "text": [
      "-sqrt(mu)*H_bad_conductor_f_x(x)/sqrt(epsilon) == -(B1_y*K_conductor^2*e^(I*K_conductor*x) - B1_x*K_conductor*k_y*e^(I*K_conductor*x))*sqrt(epsilon*mu)*k_z/((k_z^2 - kappa^2)*sqrt(epsilon)*kappa*sqrt(mu))\n"
     ]
    },
    {
     "data": {
      "text/latex": [
       "$\\displaystyle -\\frac{\\sqrt{\\mu} H_{{\\rm bad}_{{\\rm conductor}_{f_{x}}}}\\left(x\\right)}{\\sqrt{\\epsilon}} = -\\frac{{\\left(\\mathit{B1}_{y} K_{\\mathit{conductor}}^{2} e^{\\left(i \\, K_{\\mathit{conductor}} x\\right)} - \\mathit{B1}_{x} K_{\\mathit{conductor}} k_{y} e^{\\left(i \\, K_{\\mathit{conductor}} x\\right)}\\right)} \\sqrt{\\epsilon \\mu} k_{z}}{{\\left(k_{z}^{2} - \\kappa^{2}\\right)} \\sqrt{\\epsilon} \\kappa \\sqrt{\\mu}}$"
      ],
      "text/plain": [
       "<IPython.core.display.Math object>"
      ]
     },
     "metadata": {},
     "output_type": "display_data"
    }
   ],
   "source": [
    "eq_4_subs4 = eq_4_subs3.subs(omega==c*kappa/sqrt(epsilon*mu))\n",
    "print             (eq_4_subs4)\n",
    "display(Math(latex(eq_4_subs4)))"
   ]
  },
  {
   "cell_type": "code",
   "execution_count": null,
   "metadata": {},
   "outputs": [],
   "source": []
  },
  {
   "cell_type": "code",
   "execution_count": 63,
   "metadata": {},
   "outputs": [
    {
     "name": "stdout",
     "output_type": "stream",
     "text": [
      "eq_5 =\n",
      "-(k_z^2 - kappa_vacuum^2)*E_inner_vacuum_x(x) == -k_y*kappa_vacuum*H_inner_vacuum_f_z(x) + I*k_z*diff(E_inner_vacuum_z(x), x)\n"
     ]
    },
    {
     "data": {
      "text/latex": [
       "$\\displaystyle -{\\left(k_{z}^{2} - \\kappa_{\\mathit{vacuum}}^{2}\\right)} E_{{\\rm inner}_{{\\rm vacuum}_{x}}}\\left(x\\right) = -k_{y} \\kappa_{\\mathit{vacuum}} H_{{\\rm inner}_{{\\rm vacuum}_{f_{z}}}}\\left(x\\right) + i \\, k_{z} \\frac{\\partial}{\\partial x}E_{{\\rm inner}_{{\\rm vacuum}_{z}}}\\left(x\\right)$"
      ],
      "text/plain": [
       "<IPython.core.display.Math object>"
      ]
     },
     "metadata": {},
     "output_type": "display_data"
    },
    {
     "name": "stdout",
     "output_type": "stream",
     "text": [
      "eq_6 =\n",
      "-(k_z^2 - kappa_vacuum^2)*H_inner_vacuum_f_y(x) == -k_y*k_z*H_inner_vacuum_f_z(x) + I*kappa_vacuum*diff(E_inner_vacuum_z(x), x)\n"
     ]
    },
    {
     "data": {
      "text/latex": [
       "$\\displaystyle -{\\left(k_{z}^{2} - \\kappa_{\\mathit{vacuum}}^{2}\\right)} H_{{\\rm inner}_{{\\rm vacuum}_{f_{y}}}}\\left(x\\right) = -k_{y} k_{z} H_{{\\rm inner}_{{\\rm vacuum}_{f_{z}}}}\\left(x\\right) + i \\, \\kappa_{\\mathit{vacuum}} \\frac{\\partial}{\\partial x}E_{{\\rm inner}_{{\\rm vacuum}_{z}}}\\left(x\\right)$"
      ],
      "text/plain": [
       "<IPython.core.display.Math object>"
      ]
     },
     "metadata": {},
     "output_type": "display_data"
    },
    {
     "name": "stdout",
     "output_type": "stream",
     "text": [
      "eq_7 =\n",
      "-(k_z^2 - kappa^2)*E_bad_conductor_x(x) == -(k_y*kappa*sqrt(mu)*H_bad_conductor_f_z(x) - I*sqrt(epsilon)*k_z*diff(E_bad_conductor_z(x), x))/sqrt(epsilon)\n"
     ]
    },
    {
     "data": {
      "text/latex": [
       "$\\displaystyle -{\\left(k_{z}^{2} - \\kappa^{2}\\right)} E_{{\\rm bad}_{{\\rm conductor}_{x}}}\\left(x\\right) = -\\frac{k_{y} \\kappa \\sqrt{\\mu} H_{{\\rm bad}_{{\\rm conductor}_{f_{z}}}}\\left(x\\right) - i \\, \\sqrt{\\epsilon} k_{z} \\frac{\\partial}{\\partial x}E_{{\\rm bad}_{{\\rm conductor}_{z}}}\\left(x\\right)}{\\sqrt{\\epsilon}}$"
      ],
      "text/plain": [
       "<IPython.core.display.Math object>"
      ]
     },
     "metadata": {},
     "output_type": "display_data"
    },
    {
     "name": "stdout",
     "output_type": "stream",
     "text": [
      "eq_8 =\n",
      "-(k_z^2 - kappa^2)*sqrt(mu)*H_bad_conductor_f_y(x)/sqrt(epsilon) == -(k_y*k_z*sqrt(mu)*H_bad_conductor_f_z(x) - I*sqrt(epsilon)*kappa*diff(E_bad_conductor_z(x), x))/sqrt(epsilon)\n"
     ]
    },
    {
     "data": {
      "text/latex": [
       "$\\displaystyle -\\frac{{\\left(k_{z}^{2} - \\kappa^{2}\\right)} \\sqrt{\\mu} H_{{\\rm bad}_{{\\rm conductor}_{f_{y}}}}\\left(x\\right)}{\\sqrt{\\epsilon}} = -\\frac{k_{y} k_{z} \\sqrt{\\mu} H_{{\\rm bad}_{{\\rm conductor}_{f_{z}}}}\\left(x\\right) - i \\, \\sqrt{\\epsilon} \\kappa \\frac{\\partial}{\\partial x}E_{{\\rm bad}_{{\\rm conductor}_{z}}}\\left(x\\right)}{\\sqrt{\\epsilon}}$"
      ],
      "text/plain": [
       "<IPython.core.display.Math object>"
      ]
     },
     "metadata": {},
     "output_type": "display_data"
    }
   ],
   "source": [
    "print (\"eq_5 =\")\n",
    "print             (eq_5)\n",
    "display(Math(latex(eq_5)))\n",
    "\n",
    "print (\"eq_6 =\")\n",
    "print             (eq_6)\n",
    "display(Math(latex(eq_6)))\n",
    "\n",
    "print (\"eq_7 =\")\n",
    "print             (eq_7)\n",
    "display(Math(latex(eq_7)))\n",
    "\n",
    "print (\"eq_8 =\")\n",
    "print             (eq_8)\n",
    "display(Math(latex(eq_8)))"
   ]
  },
  {
   "cell_type": "code",
   "execution_count": null,
   "metadata": {},
   "outputs": [],
   "source": []
  },
  {
   "cell_type": "code",
   "execution_count": 64,
   "metadata": {},
   "outputs": [
    {
     "name": "stdout",
     "output_type": "stream",
     "text": [
      "eq_5 =\n",
      "-(k_z^2 - kappa_vacuum^2)*E_inner_vacuum_x(x) == -k_y*kappa_vacuum*H_inner_vacuum_f_z(x) + I*k_z*diff(E_inner_vacuum_z(x), x)\n"
     ]
    },
    {
     "data": {
      "text/latex": [
       "$\\displaystyle -{\\left(k_{z}^{2} - \\kappa_{\\mathit{vacuum}}^{2}\\right)} E_{{\\rm inner}_{{\\rm vacuum}_{x}}}\\left(x\\right) = -k_{y} \\kappa_{\\mathit{vacuum}} H_{{\\rm inner}_{{\\rm vacuum}_{f_{z}}}}\\left(x\\right) + i \\, k_{z} \\frac{\\partial}{\\partial x}E_{{\\rm inner}_{{\\rm vacuum}_{z}}}\\left(x\\right)$"
      ],
      "text/plain": [
       "<IPython.core.display.Math object>"
      ]
     },
     "metadata": {},
     "output_type": "display_data"
    }
   ],
   "source": [
    "print (\"eq_5 =\")\n",
    "print             (eq_5)\n",
    "display(Math(latex(eq_5)))"
   ]
  },
  {
   "cell_type": "code",
   "execution_count": 65,
   "metadata": {
    "scrolled": true
   },
   "outputs": [
    {
     "name": "stdout",
     "output_type": "stream",
     "text": [
      "-(k_z^2 - kappa_vacuum^2)*E_inner_vacuum_x(x) == I*k_z*diff(E_inner_vacuum_z(x), x)\n"
     ]
    },
    {
     "data": {
      "text/latex": [
       "$\\displaystyle -{\\left(k_{z}^{2} - \\kappa_{\\mathit{vacuum}}^{2}\\right)} E_{{\\rm inner}_{{\\rm vacuum}_{x}}}\\left(x\\right) = i \\, k_{z} \\frac{\\partial}{\\partial x}E_{{\\rm inner}_{{\\rm vacuum}_{z}}}\\left(x\\right)$"
      ],
      "text/plain": [
       "<IPython.core.display.Math object>"
      ]
     },
     "metadata": {},
     "output_type": "display_data"
    }
   ],
   "source": [
    "eq_5_subs1 = eq_5.subs(k_y == 0)\n",
    "print             (eq_5_subs1)\n",
    "display(Math(latex(eq_5_subs1)))"
   ]
  },
  {
   "cell_type": "code",
   "execution_count": 66,
   "metadata": {
    "scrolled": true
   },
   "outputs": [
    {
     "name": "stdout",
     "output_type": "stream",
     "text": [
      "E_inner_vacuum_x(x) == -I*k_z*diff(E_inner_vacuum_z(x), x)/(k_z^2 - kappa_vacuum^2)\n"
     ]
    },
    {
     "data": {
      "text/latex": [
       "$\\displaystyle E_{{\\rm inner}_{{\\rm vacuum}_{x}}}\\left(x\\right) = -\\frac{i \\, k_{z} \\frac{\\partial}{\\partial x}E_{{\\rm inner}_{{\\rm vacuum}_{z}}}\\left(x\\right)}{k_{z}^{2} - \\kappa_{\\mathit{vacuum}}^{2}}$"
      ],
      "text/plain": [
       "<IPython.core.display.Math object>"
      ]
     },
     "metadata": {},
     "output_type": "display_data"
    }
   ],
   "source": [
    "eq_5_subs2 = (eq_5_subs1/(kappa_vacuum^2 - k_z^2)).full_simplify()\n",
    "print             (eq_5_subs2)\n",
    "display(Math(latex(eq_5_subs2)))"
   ]
  },
  {
   "cell_type": "code",
   "execution_count": 67,
   "metadata": {
    "scrolled": true
   },
   "outputs": [
    {
     "name": "stdout",
     "output_type": "stream",
     "text": [
      "E_inner_vacuum_x(x) == -I*(I*A2_z*K_vacuum*e^(I*K_vacuum*x) - I*A1_z*K_vacuum*e^(-I*K_vacuum*x))*k_z/(k_z^2 - kappa_vacuum^2)\n"
     ]
    },
    {
     "data": {
      "text/latex": [
       "$\\displaystyle E_{{\\rm inner}_{{\\rm vacuum}_{x}}}\\left(x\\right) = -\\frac{i \\, {\\left(i \\, \\mathit{A2}_{z} K_{\\mathit{vacuum}} e^{\\left(i \\, K_{\\mathit{vacuum}} x\\right)} - i \\, \\mathit{A1}_{z} K_{\\mathit{vacuum}} e^{\\left(-i \\, K_{\\mathit{vacuum}} x\\right)}\\right)} k_{z}}{k_{z}^{2} - \\kappa_{\\mathit{vacuum}}^{2}}$"
      ],
      "text/plain": [
       "<IPython.core.display.Math object>"
      ]
     },
     "metadata": {},
     "output_type": "display_data"
    }
   ],
   "source": [
    "eq_5_subs3 = eq_5_subs2.substitute_function(E_inner_vacuum_z, E_inner_vacuum_sol_z)\n",
    "print             (eq_5_subs3)\n",
    "display(Math(latex(eq_5_subs3)))"
   ]
  },
  {
   "cell_type": "code",
   "execution_count": 68,
   "metadata": {},
   "outputs": [
    {
     "name": "stdout",
     "output_type": "stream",
     "text": [
      "E_inner_vacuum_x(x) == -(A2_z*k_z*e^(2*I*sqrt(-k_z^2 + kappa_vacuum^2)*x) - A1_z*k_z)*e^(-I*sqrt(-k_z^2 + kappa_vacuum^2)*x)/sqrt(-k_z^2 + kappa_vacuum^2)\n"
     ]
    },
    {
     "data": {
      "text/latex": [
       "$\\displaystyle E_{{\\rm inner}_{{\\rm vacuum}_{x}}}\\left(x\\right) = -\\frac{{\\left(\\mathit{A2}_{z} k_{z} e^{\\left(2 i \\, \\sqrt{-k_{z}^{2} + \\kappa_{\\mathit{vacuum}}^{2}} x\\right)} - \\mathit{A1}_{z} k_{z}\\right)} e^{\\left(-i \\, \\sqrt{-k_{z}^{2} + \\kappa_{\\mathit{vacuum}}^{2}} x\\right)}}{\\sqrt{-k_{z}^{2} + \\kappa_{\\mathit{vacuum}}^{2}}}$"
      ],
      "text/plain": [
       "<IPython.core.display.Math object>"
      ]
     },
     "metadata": {},
     "output_type": "display_data"
    }
   ],
   "source": [
    "eq_5_subs4 = eq_5_subs3.subs(K_vacuum_subs).full_simplify()\n",
    "print             (eq_5_subs4)\n",
    "display(Math(latex(eq_5_subs4)))"
   ]
  },
  {
   "cell_type": "code",
   "execution_count": null,
   "metadata": {},
   "outputs": [],
   "source": []
  },
  {
   "cell_type": "code",
   "execution_count": 69,
   "metadata": {},
   "outputs": [
    {
     "name": "stdout",
     "output_type": "stream",
     "text": [
      "eq_6 =\n",
      "-(k_z^2 - kappa_vacuum^2)*H_inner_vacuum_f_y(x) == -k_y*k_z*H_inner_vacuum_f_z(x) + I*kappa_vacuum*diff(E_inner_vacuum_z(x), x)\n"
     ]
    },
    {
     "data": {
      "text/latex": [
       "$\\displaystyle -{\\left(k_{z}^{2} - \\kappa_{\\mathit{vacuum}}^{2}\\right)} H_{{\\rm inner}_{{\\rm vacuum}_{f_{y}}}}\\left(x\\right) = -k_{y} k_{z} H_{{\\rm inner}_{{\\rm vacuum}_{f_{z}}}}\\left(x\\right) + i \\, \\kappa_{\\mathit{vacuum}} \\frac{\\partial}{\\partial x}E_{{\\rm inner}_{{\\rm vacuum}_{z}}}\\left(x\\right)$"
      ],
      "text/plain": [
       "<IPython.core.display.Math object>"
      ]
     },
     "metadata": {},
     "output_type": "display_data"
    }
   ],
   "source": [
    "print (\"eq_6 =\")\n",
    "print             (eq_6)\n",
    "display(Math(latex(eq_6)))"
   ]
  },
  {
   "cell_type": "code",
   "execution_count": 70,
   "metadata": {
    "scrolled": true
   },
   "outputs": [
    {
     "name": "stdout",
     "output_type": "stream",
     "text": [
      "-(k_z^2 - kappa_vacuum^2)*H_inner_vacuum_f_y(x) == I*kappa_vacuum*diff(E_inner_vacuum_z(x), x)\n"
     ]
    },
    {
     "data": {
      "text/latex": [
       "$\\displaystyle -{\\left(k_{z}^{2} - \\kappa_{\\mathit{vacuum}}^{2}\\right)} H_{{\\rm inner}_{{\\rm vacuum}_{f_{y}}}}\\left(x\\right) = i \\, \\kappa_{\\mathit{vacuum}} \\frac{\\partial}{\\partial x}E_{{\\rm inner}_{{\\rm vacuum}_{z}}}\\left(x\\right)$"
      ],
      "text/plain": [
       "<IPython.core.display.Math object>"
      ]
     },
     "metadata": {},
     "output_type": "display_data"
    }
   ],
   "source": [
    "eq_6_subs1 = eq_6.subs(k_y == 0)\n",
    "print             (eq_6_subs1)\n",
    "display(Math(latex(eq_6_subs1)))"
   ]
  },
  {
   "cell_type": "code",
   "execution_count": 71,
   "metadata": {
    "scrolled": true
   },
   "outputs": [
    {
     "name": "stdout",
     "output_type": "stream",
     "text": [
      "H_inner_vacuum_f_y(x) == -I*kappa_vacuum*diff(E_inner_vacuum_z(x), x)/(k_z^2 - kappa_vacuum^2)\n"
     ]
    },
    {
     "data": {
      "text/latex": [
       "$\\displaystyle H_{{\\rm inner}_{{\\rm vacuum}_{f_{y}}}}\\left(x\\right) = -\\frac{i \\, \\kappa_{\\mathit{vacuum}} \\frac{\\partial}{\\partial x}E_{{\\rm inner}_{{\\rm vacuum}_{z}}}\\left(x\\right)}{k_{z}^{2} - \\kappa_{\\mathit{vacuum}}^{2}}$"
      ],
      "text/plain": [
       "<IPython.core.display.Math object>"
      ]
     },
     "metadata": {},
     "output_type": "display_data"
    }
   ],
   "source": [
    "eq_6_subs2 = (eq_6_subs1/(kappa_vacuum^2 - k_z^2)).full_simplify()\n",
    "print             (eq_6_subs2)\n",
    "display(Math(latex(eq_6_subs2)))"
   ]
  },
  {
   "cell_type": "code",
   "execution_count": 72,
   "metadata": {
    "scrolled": true
   },
   "outputs": [
    {
     "name": "stdout",
     "output_type": "stream",
     "text": [
      "H_inner_vacuum_f_y(x) == -I*(I*A2_z*K_vacuum*e^(I*K_vacuum*x) - I*A1_z*K_vacuum*e^(-I*K_vacuum*x))*kappa_vacuum/(k_z^2 - kappa_vacuum^2)\n"
     ]
    },
    {
     "data": {
      "text/latex": [
       "$\\displaystyle H_{{\\rm inner}_{{\\rm vacuum}_{f_{y}}}}\\left(x\\right) = -\\frac{i \\, {\\left(i \\, \\mathit{A2}_{z} K_{\\mathit{vacuum}} e^{\\left(i \\, K_{\\mathit{vacuum}} x\\right)} - i \\, \\mathit{A1}_{z} K_{\\mathit{vacuum}} e^{\\left(-i \\, K_{\\mathit{vacuum}} x\\right)}\\right)} \\kappa_{\\mathit{vacuum}}}{k_{z}^{2} - \\kappa_{\\mathit{vacuum}}^{2}}$"
      ],
      "text/plain": [
       "<IPython.core.display.Math object>"
      ]
     },
     "metadata": {},
     "output_type": "display_data"
    }
   ],
   "source": [
    "eq_6_subs3 = eq_6_subs2.substitute_function(E_inner_vacuum_z, E_inner_vacuum_sol_z)\n",
    "print             (eq_6_subs3)\n",
    "display(Math(latex(eq_6_subs3)))"
   ]
  },
  {
   "cell_type": "code",
   "execution_count": null,
   "metadata": {},
   "outputs": [],
   "source": []
  },
  {
   "cell_type": "code",
   "execution_count": 73,
   "metadata": {},
   "outputs": [
    {
     "name": "stdout",
     "output_type": "stream",
     "text": [
      "eq_7 =\n",
      "-(k_z^2 - kappa^2)*E_bad_conductor_x(x) == -(k_y*kappa*sqrt(mu)*H_bad_conductor_f_z(x) - I*sqrt(epsilon)*k_z*diff(E_bad_conductor_z(x), x))/sqrt(epsilon)\n"
     ]
    },
    {
     "data": {
      "text/latex": [
       "$\\displaystyle -{\\left(k_{z}^{2} - \\kappa^{2}\\right)} E_{{\\rm bad}_{{\\rm conductor}_{x}}}\\left(x\\right) = -\\frac{k_{y} \\kappa \\sqrt{\\mu} H_{{\\rm bad}_{{\\rm conductor}_{f_{z}}}}\\left(x\\right) - i \\, \\sqrt{\\epsilon} k_{z} \\frac{\\partial}{\\partial x}E_{{\\rm bad}_{{\\rm conductor}_{z}}}\\left(x\\right)}{\\sqrt{\\epsilon}}$"
      ],
      "text/plain": [
       "<IPython.core.display.Math object>"
      ]
     },
     "metadata": {},
     "output_type": "display_data"
    }
   ],
   "source": [
    "print (\"eq_7 =\")\n",
    "print             (eq_7)\n",
    "display(Math(latex(eq_7)))"
   ]
  },
  {
   "cell_type": "code",
   "execution_count": 74,
   "metadata": {
    "scrolled": true
   },
   "outputs": [
    {
     "name": "stdout",
     "output_type": "stream",
     "text": [
      "-(k_z^2 - kappa^2)*E_bad_conductor_x(x) == I*k_z*diff(E_bad_conductor_z(x), x)\n"
     ]
    },
    {
     "data": {
      "text/latex": [
       "$\\displaystyle -{\\left(k_{z}^{2} - \\kappa^{2}\\right)} E_{{\\rm bad}_{{\\rm conductor}_{x}}}\\left(x\\right) = i \\, k_{z} \\frac{\\partial}{\\partial x}E_{{\\rm bad}_{{\\rm conductor}_{z}}}\\left(x\\right)$"
      ],
      "text/plain": [
       "<IPython.core.display.Math object>"
      ]
     },
     "metadata": {},
     "output_type": "display_data"
    }
   ],
   "source": [
    "eq_7_subs1 = eq_7.subs(k_y == 0)\n",
    "print             (eq_7_subs1)\n",
    "display(Math(latex(eq_7_subs1)))"
   ]
  },
  {
   "cell_type": "code",
   "execution_count": 75,
   "metadata": {
    "scrolled": true
   },
   "outputs": [
    {
     "name": "stdout",
     "output_type": "stream",
     "text": [
      "E_bad_conductor_x(x) == -I*k_z*diff(E_bad_conductor_z(x), x)/(k_z^2 - kappa^2)\n"
     ]
    },
    {
     "data": {
      "text/latex": [
       "$\\displaystyle E_{{\\rm bad}_{{\\rm conductor}_{x}}}\\left(x\\right) = -\\frac{i \\, k_{z} \\frac{\\partial}{\\partial x}E_{{\\rm bad}_{{\\rm conductor}_{z}}}\\left(x\\right)}{k_{z}^{2} - \\kappa^{2}}$"
      ],
      "text/plain": [
       "<IPython.core.display.Math object>"
      ]
     },
     "metadata": {},
     "output_type": "display_data"
    }
   ],
   "source": [
    "eq_7_subs2 = (eq_7_subs1/(kappa^2 - k_z^2)).full_simplify()\n",
    "print             (eq_7_subs2)\n",
    "display(Math(latex(eq_7_subs2)))"
   ]
  },
  {
   "cell_type": "code",
   "execution_count": 76,
   "metadata": {
    "scrolled": true
   },
   "outputs": [
    {
     "name": "stdout",
     "output_type": "stream",
     "text": [
      "E_bad_conductor_x(x) == B1_z*K_conductor*k_z*e^(I*K_conductor*x)/(k_z^2 - kappa^2)\n"
     ]
    },
    {
     "data": {
      "text/latex": [
       "$\\displaystyle E_{{\\rm bad}_{{\\rm conductor}_{x}}}\\left(x\\right) = \\frac{\\mathit{B1}_{z} K_{\\mathit{conductor}} k_{z} e^{\\left(i \\, K_{\\mathit{conductor}} x\\right)}}{k_{z}^{2} - \\kappa^{2}}$"
      ],
      "text/plain": [
       "<IPython.core.display.Math object>"
      ]
     },
     "metadata": {},
     "output_type": "display_data"
    }
   ],
   "source": [
    "eq_7_subs3 = eq_7_subs2.substitute_function(E_bad_conductor_z, E_bad_conductor_sol_z)\n",
    "print             (eq_7_subs3)\n",
    "display(Math(latex(eq_7_subs3)))"
   ]
  },
  {
   "cell_type": "code",
   "execution_count": 77,
   "metadata": {},
   "outputs": [
    {
     "name": "stdout",
     "output_type": "stream",
     "text": [
      "E_bad_conductor_x(x) == -B1_z*k_z*e^(I*sqrt(-k_z^2 + kappa^2)*x)/sqrt(-k_z^2 + kappa^2)\n"
     ]
    },
    {
     "data": {
      "text/latex": [
       "$\\displaystyle E_{{\\rm bad}_{{\\rm conductor}_{x}}}\\left(x\\right) = -\\frac{\\mathit{B1}_{z} k_{z} e^{\\left(i \\, \\sqrt{-k_{z}^{2} + \\kappa^{2}} x\\right)}}{\\sqrt{-k_{z}^{2} + \\kappa^{2}}}$"
      ],
      "text/plain": [
       "<IPython.core.display.Math object>"
      ]
     },
     "metadata": {},
     "output_type": "display_data"
    }
   ],
   "source": [
    "eq_7_subs4 = eq_7_subs3.subs(K_conductor_subs).full_simplify()\n",
    "print             (eq_7_subs4)\n",
    "display(Math(latex(eq_7_subs4)))"
   ]
  },
  {
   "cell_type": "code",
   "execution_count": null,
   "metadata": {},
   "outputs": [],
   "source": []
  },
  {
   "cell_type": "code",
   "execution_count": 78,
   "metadata": {},
   "outputs": [
    {
     "name": "stdout",
     "output_type": "stream",
     "text": [
      "eq_8 =\n",
      "-(k_z^2 - kappa^2)*sqrt(mu)*H_bad_conductor_f_y(x)/sqrt(epsilon) == -(k_y*k_z*sqrt(mu)*H_bad_conductor_f_z(x) - I*sqrt(epsilon)*kappa*diff(E_bad_conductor_z(x), x))/sqrt(epsilon)\n"
     ]
    },
    {
     "data": {
      "text/latex": [
       "$\\displaystyle -\\frac{{\\left(k_{z}^{2} - \\kappa^{2}\\right)} \\sqrt{\\mu} H_{{\\rm bad}_{{\\rm conductor}_{f_{y}}}}\\left(x\\right)}{\\sqrt{\\epsilon}} = -\\frac{k_{y} k_{z} \\sqrt{\\mu} H_{{\\rm bad}_{{\\rm conductor}_{f_{z}}}}\\left(x\\right) - i \\, \\sqrt{\\epsilon} \\kappa \\frac{\\partial}{\\partial x}E_{{\\rm bad}_{{\\rm conductor}_{z}}}\\left(x\\right)}{\\sqrt{\\epsilon}}$"
      ],
      "text/plain": [
       "<IPython.core.display.Math object>"
      ]
     },
     "metadata": {},
     "output_type": "display_data"
    }
   ],
   "source": [
    "print (\"eq_8 =\")\n",
    "print             (eq_8)\n",
    "display(Math(latex(eq_8)))"
   ]
  },
  {
   "cell_type": "code",
   "execution_count": 79,
   "metadata": {
    "scrolled": true
   },
   "outputs": [
    {
     "name": "stdout",
     "output_type": "stream",
     "text": [
      "-(k_z^2 - kappa^2)*sqrt(mu)*H_bad_conductor_f_y(x)/sqrt(epsilon) == I*kappa*diff(E_bad_conductor_z(x), x)\n"
     ]
    },
    {
     "data": {
      "text/latex": [
       "$\\displaystyle -\\frac{{\\left(k_{z}^{2} - \\kappa^{2}\\right)} \\sqrt{\\mu} H_{{\\rm bad}_{{\\rm conductor}_{f_{y}}}}\\left(x\\right)}{\\sqrt{\\epsilon}} = i \\, \\kappa \\frac{\\partial}{\\partial x}E_{{\\rm bad}_{{\\rm conductor}_{z}}}\\left(x\\right)$"
      ],
      "text/plain": [
       "<IPython.core.display.Math object>"
      ]
     },
     "metadata": {},
     "output_type": "display_data"
    }
   ],
   "source": [
    "eq_8_subs1 = eq_8.subs(k_y == 0)\n",
    "print             (eq_8_subs1)\n",
    "display(Math(latex(eq_8_subs1)))"
   ]
  },
  {
   "cell_type": "code",
   "execution_count": 80,
   "metadata": {
    "scrolled": true
   },
   "outputs": [
    {
     "name": "stdout",
     "output_type": "stream",
     "text": [
      "sqrt(mu)*H_bad_conductor_f_y(x)/sqrt(epsilon) == -I*kappa*diff(E_bad_conductor_z(x), x)/(k_z^2 - kappa^2)\n"
     ]
    },
    {
     "data": {
      "text/latex": [
       "$\\displaystyle \\frac{\\sqrt{\\mu} H_{{\\rm bad}_{{\\rm conductor}_{f_{y}}}}\\left(x\\right)}{\\sqrt{\\epsilon}} = -\\frac{i \\, \\kappa \\frac{\\partial}{\\partial x}E_{{\\rm bad}_{{\\rm conductor}_{z}}}\\left(x\\right)}{k_{z}^{2} - \\kappa^{2}}$"
      ],
      "text/plain": [
       "<IPython.core.display.Math object>"
      ]
     },
     "metadata": {},
     "output_type": "display_data"
    }
   ],
   "source": [
    "eq_8_subs2 = (eq_8_subs1/(kappa^2 - k_z^2)).full_simplify()\n",
    "print             (eq_8_subs2)\n",
    "display(Math(latex(eq_8_subs2)))"
   ]
  },
  {
   "cell_type": "code",
   "execution_count": 81,
   "metadata": {
    "scrolled": true
   },
   "outputs": [
    {
     "name": "stdout",
     "output_type": "stream",
     "text": [
      "sqrt(mu)*H_bad_conductor_f_y(x)/sqrt(epsilon) == B1_z*K_conductor*kappa*e^(I*K_conductor*x)/(k_z^2 - kappa^2)\n"
     ]
    },
    {
     "data": {
      "text/latex": [
       "$\\displaystyle \\frac{\\sqrt{\\mu} H_{{\\rm bad}_{{\\rm conductor}_{f_{y}}}}\\left(x\\right)}{\\sqrt{\\epsilon}} = \\frac{\\mathit{B1}_{z} K_{\\mathit{conductor}} \\kappa e^{\\left(i \\, K_{\\mathit{conductor}} x\\right)}}{k_{z}^{2} - \\kappa^{2}}$"
      ],
      "text/plain": [
       "<IPython.core.display.Math object>"
      ]
     },
     "metadata": {},
     "output_type": "display_data"
    }
   ],
   "source": [
    "eq_8_subs3 = eq_8_subs2.substitute_function(E_bad_conductor_z, E_bad_conductor_sol_z)\n",
    "print             (eq_8_subs3)\n",
    "display(Math(latex(eq_8_subs3)))"
   ]
  },
  {
   "cell_type": "code",
   "execution_count": null,
   "metadata": {},
   "outputs": [],
   "source": []
  },
  {
   "cell_type": "code",
   "execution_count": 82,
   "metadata": {},
   "outputs": [
    {
     "name": "stdout",
     "output_type": "stream",
     "text": [
      "H_inner_vacuum_f_y(x) == -I*(I*A2_z*K_vacuum*e^(I*K_vacuum*x) - I*A1_z*K_vacuum*e^(-I*K_vacuum*x))*kappa_vacuum/(k_z^2 - kappa_vacuum^2)\n"
     ]
    },
    {
     "data": {
      "text/latex": [
       "$\\displaystyle H_{{\\rm inner}_{{\\rm vacuum}_{f_{y}}}}\\left(x\\right) = -\\frac{i \\, {\\left(i \\, \\mathit{A2}_{z} K_{\\mathit{vacuum}} e^{\\left(i \\, K_{\\mathit{vacuum}} x\\right)} - i \\, \\mathit{A1}_{z} K_{\\mathit{vacuum}} e^{\\left(-i \\, K_{\\mathit{vacuum}} x\\right)}\\right)} \\kappa_{\\mathit{vacuum}}}{k_{z}^{2} - \\kappa_{\\mathit{vacuum}}^{2}}$"
      ],
      "text/plain": [
       "<IPython.core.display.Math object>"
      ]
     },
     "metadata": {},
     "output_type": "display_data"
    }
   ],
   "source": [
    "#eq_6_subs3 = eq_6_subs2.substitute_function(E_inner_vacuum_z, E_inner_vacuum_sol_z)\n",
    "print             (eq_6_subs3)\n",
    "display(Math(latex(eq_6_subs3)))"
   ]
  },
  {
   "cell_type": "code",
   "execution_count": null,
   "metadata": {},
   "outputs": [],
   "source": []
  },
  {
   "cell_type": "code",
   "execution_count": 83,
   "metadata": {},
   "outputs": [
    {
     "name": "stdout",
     "output_type": "stream",
     "text": [
      "E_inner_vacuum_x(0) == (A1_z*k_z - A2_z*k_z)/sqrt(-k_z^2 + kappa_vacuum^2)\n"
     ]
    },
    {
     "data": {
      "text/latex": [
       "$\\displaystyle E_{{\\rm inner}_{{\\rm vacuum}_{x}}}\\left(0\\right) = \\frac{\\mathit{A1}_{z} k_{z} - \\mathit{A2}_{z} k_{z}}{\\sqrt{-k_{z}^{2} + \\kappa_{\\mathit{vacuum}}^{2}}}$"
      ],
      "text/plain": [
       "<IPython.core.display.Math object>"
      ]
     },
     "metadata": {},
     "output_type": "display_data"
    },
    {
     "name": "stdout",
     "output_type": "stream",
     "text": [
      "\n",
      "E_bad_conductor_x(0) == -B1_z*k_z/sqrt(-k_z^2 + kappa^2)\n"
     ]
    },
    {
     "data": {
      "text/latex": [
       "$\\displaystyle E_{{\\rm bad}_{{\\rm conductor}_{x}}}\\left(0\\right) = -\\frac{\\mathit{B1}_{z} k_{z}}{\\sqrt{-k_{z}^{2} + \\kappa^{2}}}$"
      ],
      "text/plain": [
       "<IPython.core.display.Math object>"
      ]
     },
     "metadata": {},
     "output_type": "display_data"
    },
    {
     "name": "stdout",
     "output_type": "stream",
     "text": [
      "\n"
     ]
    }
   ],
   "source": [
    "# нормальная компонента электрического смещения\n",
    "eq_5_subs4x0 = eq_5_subs4.subs(x == 0)\n",
    "print(eq_5_subs4x0)\n",
    "display(Math(latex(eq_5_subs4x0)))\n",
    "\n",
    "print(\"\")\n",
    "\n",
    "eq_7_subs4x0 = eq_7_subs4.subs(x == 0)\n",
    "print(eq_7_subs4x0)\n",
    "display(Math(latex(eq_7_subs4x0)))\n",
    "print(\"\")"
   ]
  },
  {
   "cell_type": "code",
   "execution_count": 84,
   "metadata": {},
   "outputs": [],
   "source": [
    "fix_c_epsilon_complex = False"
   ]
  },
  {
   "cell_type": "code",
   "execution_count": 85,
   "metadata": {},
   "outputs": [
    {
     "name": "stdout",
     "output_type": "stream",
     "text": [
      "sqrt(mu)*H_bad_conductor_f_y(x)/sqrt(epsilon) == B1_z*K_conductor*kappa*e^(I*K_conductor*x)/(k_z^2 - kappa^2)\n",
      "\n",
      "H_inner_vacuum_f_y(x) == -I*(I*A2_z*K_vacuum*e^(I*K_vacuum*x) - I*A1_z*K_vacuum*e^(-I*K_vacuum*x))*kappa_vacuum/(k_z^2 - kappa_vacuum^2)\n",
      "\n"
     ]
    },
    {
     "data": {
      "text/latex": [
       "$\\displaystyle -\\frac{\\mathit{B1}_{z} \\kappa^{2}}{\\sqrt{-k_{z}^{2} + \\kappa^{2}} \\mu} = \\frac{{\\left(\\mathit{A1}_{z} - \\mathit{A2}_{z}\\right)} \\kappa_{\\mathit{vacuum}}^{2}}{\\sqrt{-k_{z}^{2} + \\kappa_{\\mathit{vacuum}}^{2}}}$"
      ],
      "text/plain": [
       "<IPython.core.display.Math object>"
      ]
     },
     "metadata": {},
     "output_type": "display_data"
    }
   ],
   "source": [
    "# тангенциальная компонента напряженности магнитного поля\n",
    "# eqHz_a  = (H_bad_conductor_sol_z(0)  == H_inner_vacuum_sol_z(0)).subs(eqEz_0, eqEy_0)\n",
    "# eqHy_a  = (H_bad_conductor_sol_y(0)  == H_inner_vacuum_sol_y(0)).subs(eqEy_0, eqEz_0)\n",
    "print(eq_8_subs3)\n",
    "print(\"\")\n",
    "print(eq_6_subs3)\n",
    "print(\"\")\n",
    "\n",
    "#8 sqrt(mu)*H_bad_conductor_f_y(x)/sqrt(epsilon) == B1_z*K_conductor*kappa*e^(I*K_conductor*x)/(k_z^2 - kappa^2)\n",
    "#6 H_inner_vacuum_f_y(x) == -I*(I*A2_z*K_vacuum*e^(I*K_vacuum*x) - I*A1_z*K_vacuum*e^(-I*K_vacuum*x))*kappa_vacuum/(k_z^2 - kappa_vacuum^2)\n",
    "\n",
    "# eq_Hy_0 = eq_8_subs3.rhs().subs(x == 0)*sqrt(epsilon_complex)/sqrt(mu) == eq_6_subs3.rhs().subs(x == 0)\n",
    "eq_Hy_0 = (eq_8_subs3.rhs().subs(x == 0).subs(K_conductor_subs)*sqrt(epsilon_complex)/sqrt(mu)) \\\n",
    "        == eq_6_subs3.rhs().subs(x == 0).subs(K_vacuum_subs)\n",
    "\n",
    "# sqrt(mu / epsilon_complex) = omega * mu / kappa\n",
    "# sqrt(mu / epsilon_complex) = omega * mu_rel * mu_0 / kappa\n",
    "\n",
    "# kappa/mu == omega * sqrt(epsilon_complex/mu)\n",
    "# sqrt(mu_0 / epsilon_0) = omega * mu_0 / kappa_vacuum\n",
    "\n",
    "# kappa_vacuum == omega/c\n",
    "# sqrt(mu_0 / epsilon_0) = c * mu_0\n",
    "# c = 1 / sqrt(mu_0 * epsilon_0)\n",
    "\n",
    "# kappa = omega * sqrt(epsilon_comlex*mu)\n",
    "# kappa_vacuum = omega * sqrt(epsilon_0*mu_0) = omega/c\n",
    "\n",
    "# sqrt(mu_0 / epsilon_0) = 1/(c*epsilon_0) = omega * mu_0 / kappa_vacuum\n",
    "# sqrt(mu / epsilon_complex) = 1/(c*epsilon_complex) = omega * mu / kappa\n",
    "\n",
    "# 1/mu_0 = c^2*epsolon_0\n",
    "\n",
    "#eq_Hy_0 = (eq_8_subs3.rhs().subs(x == 0).subs(K_conductor_subs)*kappa/(mu_rel * mu_0 * omega/c)) \\\n",
    "#        == eq_6_subs3.rhs().subs(x == 0).subs(K_vacuum_subs)*kappa_vacuum/(mu_0 * omega/c)\n",
    "\n",
    "# 1/mu_0 = c^2 * epsilon_0\n",
    "\n",
    "eq_Hy_0 =((eq_8_subs3.rhs().subs(x == 0).subs(K_conductor_subs)*kappa/(mu)) \\\n",
    "        == eq_6_subs3.rhs().subs(x == 0).subs(K_vacuum_subs)*kappa_vacuum/(mu_0)) \\\n",
    "          .full_simplify()\n",
    "\n",
    "\n",
    "display(Math(latex(eq_Hy_0)))"
   ]
  },
  {
   "cell_type": "code",
   "execution_count": 86,
   "metadata": {},
   "outputs": [
    {
     "data": {
      "text/latex": [
       "$\\displaystyle -\\frac{{\\left(\\mathit{A1}_{z} + \\mathit{A2}_{z}\\right)} \\kappa^{2}}{\\sqrt{-k_{z}^{2} + \\kappa^{2}} \\mu} = \\frac{{\\left(\\mathit{A1}_{z} - \\mathit{A2}_{z}\\right)} \\kappa_{\\mathit{vacuum}}^{2}}{\\sqrt{-k_{z}^{2} + \\kappa_{\\mathit{vacuum}}^{2}}}$"
      ],
      "text/plain": [
       "<IPython.core.display.Math object>"
      ]
     },
     "metadata": {},
     "output_type": "display_data"
    }
   ],
   "source": [
    "eq_Hy_0 = eq_Hy_0.subs(eqEz_a).full_simplify()\n",
    "display(Math(latex(eq_Hy_0)))"
   ]
  },
  {
   "cell_type": "code",
   "execution_count": null,
   "metadata": {},
   "outputs": [],
   "source": []
  },
  {
   "cell_type": "code",
   "execution_count": 87,
   "metadata": {},
   "outputs": [],
   "source": [
    "eq_Hy_0_lhs_num = eq_Hy_0.lhs().numerator()\n",
    "eq_Hy_0_lhs_den = eq_Hy_0.lhs().denominator()\n",
    "\n",
    "eq_Hy_0_rhs_num = eq_Hy_0.rhs().numerator()\n",
    "eq_Hy_0_rhs_den = eq_Hy_0.rhs().denominator()"
   ]
  },
  {
   "cell_type": "code",
   "execution_count": 88,
   "metadata": {},
   "outputs": [
    {
     "data": {
      "text/latex": [
       "$\\displaystyle -{\\left(\\mathit{A1}_{z} + \\mathit{A2}_{z}\\right)} \\kappa^{2}$"
      ],
      "text/plain": [
       "<IPython.core.display.Math object>"
      ]
     },
     "metadata": {},
     "output_type": "display_data"
    },
    {
     "data": {
      "text/latex": [
       "$\\displaystyle \\sqrt{-k_{z}^{2} + \\kappa^{2}} \\mu$"
      ],
      "text/plain": [
       "<IPython.core.display.Math object>"
      ]
     },
     "metadata": {},
     "output_type": "display_data"
    },
    {
     "data": {
      "text/latex": [
       "$\\displaystyle {\\left(\\mathit{A1}_{z} - \\mathit{A2}_{z}\\right)} \\kappa_{\\mathit{vacuum}}^{2}$"
      ],
      "text/plain": [
       "<IPython.core.display.Math object>"
      ]
     },
     "metadata": {},
     "output_type": "display_data"
    },
    {
     "data": {
      "text/latex": [
       "$\\displaystyle \\sqrt{-k_{z}^{2} + \\kappa_{\\mathit{vacuum}}^{2}}$"
      ],
      "text/plain": [
       "<IPython.core.display.Math object>"
      ]
     },
     "metadata": {},
     "output_type": "display_data"
    }
   ],
   "source": [
    "display(Math(latex(eq_Hy_0_lhs_num)))\n",
    "display(Math(latex(eq_Hy_0_lhs_den)))\n",
    "\n",
    "display(Math(latex(eq_Hy_0_rhs_num)))\n",
    "display(Math(latex(eq_Hy_0_rhs_den)))"
   ]
  },
  {
   "cell_type": "code",
   "execution_count": 89,
   "metadata": {},
   "outputs": [
    {
     "data": {
      "text/plain": [
       "kappa_vacuum^2 == omega^2/c^2"
      ]
     },
     "execution_count": 89,
     "metadata": {},
     "output_type": "execute_result"
    }
   ],
   "source": [
    "eq_kappa_inner_vacuum"
   ]
  },
  {
   "cell_type": "code",
   "execution_count": 90,
   "metadata": {},
   "outputs": [
    {
     "data": {
      "text/latex": [
       "$\\displaystyle -\\frac{\\sqrt{-k_{z}^{2} + \\kappa^{2}} \\mu}{{\\left(\\mathit{A1}_{z} + \\mathit{A2}_{z}\\right)} \\kappa^{2}} = \\frac{\\sqrt{-k_{z}^{2} + \\kappa_{\\mathit{vacuum}}^{2}}}{{\\left(\\mathit{A1}_{z} - \\mathit{A2}_{z}\\right)} \\kappa_{\\mathit{vacuum}}^{2}}$"
      ],
      "text/plain": [
       "<IPython.core.display.Math object>"
      ]
     },
     "metadata": {},
     "output_type": "display_data"
    }
   ],
   "source": [
    "eq_Hy_0_inv = eq_Hy_0_lhs_den / eq_Hy_0_lhs_num == eq_Hy_0_rhs_den / eq_Hy_0_rhs_num\n",
    "display(Math(latex(eq_Hy_0_inv)))"
   ]
  },
  {
   "cell_type": "code",
   "execution_count": 91,
   "metadata": {},
   "outputs": [
    {
     "data": {
      "text/latex": [
       "$\\displaystyle -\\frac{k_{z}^{2} \\mu^{2}}{{\\left(\\mathit{A1}_{z}^{2} + 2 \\, \\mathit{A1}_{z} \\mathit{A2}_{z} + \\mathit{A2}_{z}^{2}\\right)} \\kappa^{4}} + \\frac{\\mu^{2}}{{\\left(\\mathit{A1}_{z}^{2} + 2 \\, \\mathit{A1}_{z} \\mathit{A2}_{z} + \\mathit{A2}_{z}^{2}\\right)} \\kappa^{2}} = -\\frac{k_{z}^{2}}{{\\left(\\mathit{A1}_{z}^{2} - 2 \\, \\mathit{A1}_{z} \\mathit{A2}_{z} + \\mathit{A2}_{z}^{2}\\right)} \\kappa_{\\mathit{vacuum}}^{4}} + \\frac{1}{{\\left(\\mathit{A1}_{z}^{2} - 2 \\, \\mathit{A1}_{z} \\mathit{A2}_{z} + \\mathit{A2}_{z}^{2}\\right)} \\kappa_{\\mathit{vacuum}}^{2}}$"
      ],
      "text/plain": [
       "<IPython.core.display.Math object>"
      ]
     },
     "metadata": {},
     "output_type": "display_data"
    }
   ],
   "source": [
    "eq_Hy_0_inv_2 = (eq_Hy_0_inv.lhs()^2).expand() == (eq_Hy_0_inv.rhs()^2).expand()\n",
    "display(Math(latex(eq_Hy_0_inv_2)))"
   ]
  },
  {
   "cell_type": "code",
   "execution_count": 92,
   "metadata": {},
   "outputs": [
    {
     "data": {
      "text/latex": [
       "$\\displaystyle -k_{z}^{2} {\\left(\\frac{\\mu^{2}}{{\\left(\\mathit{A1}_{z}^{2} + 2 \\, \\mathit{A1}_{z} \\mathit{A2}_{z} + \\mathit{A2}_{z}^{2}\\right)} \\kappa^{4}} - \\frac{1}{{\\left(\\mathit{A1}_{z}^{2} - 2 \\, \\mathit{A1}_{z} \\mathit{A2}_{z} + \\mathit{A2}_{z}^{2}\\right)} \\kappa_{\\mathit{vacuum}}^{4}}\\right)} + \\frac{\\mu^{2}}{{\\left(\\mathit{A1}_{z}^{2} + 2 \\, \\mathit{A1}_{z} \\mathit{A2}_{z} + \\mathit{A2}_{z}^{2}\\right)} \\kappa^{2}} - \\frac{1}{{\\left(\\mathit{A1}_{z}^{2} - 2 \\, \\mathit{A1}_{z} \\mathit{A2}_{z} + \\mathit{A2}_{z}^{2}\\right)} \\kappa_{\\mathit{vacuum}}^{2}} = 0$"
      ],
      "text/plain": [
       "<IPython.core.display.Math object>"
      ]
     },
     "metadata": {},
     "output_type": "display_data"
    }
   ],
   "source": [
    "eq_Hy_0_inv_2_collect = (eq_Hy_0_inv_2.lhs() - eq_Hy_0_inv_2.rhs()).collect(k_z) == 0\n",
    "display(Math(latex(eq_Hy_0_inv_2_collect)))"
   ]
  },
  {
   "cell_type": "code",
   "execution_count": 93,
   "metadata": {},
   "outputs": [
    {
     "data": {
      "text/latex": [
       "$\\displaystyle \\frac{1}{k_{z}^{2}} = \\frac{{\\left(\\mathit{A1}_{z}^{2} - 2 \\, \\mathit{A1}_{z} \\mathit{A2}_{z} + \\mathit{A2}_{z}^{2}\\right)} \\kappa_{\\mathit{vacuum}}^{4} \\mu^{2} - {\\left(\\mathit{A1}_{z}^{2} + 2 \\, \\mathit{A1}_{z} \\mathit{A2}_{z} + \\mathit{A2}_{z}^{2}\\right)} \\kappa^{4}}{{\\left(\\mathit{A1}_{z}^{2} - 2 \\, \\mathit{A1}_{z} \\mathit{A2}_{z} + \\mathit{A2}_{z}^{2}\\right)} \\kappa^{2} \\kappa_{\\mathit{vacuum}}^{4} \\mu^{2} - {\\left(\\mathit{A1}_{z}^{2} + 2 \\, \\mathit{A1}_{z} \\mathit{A2}_{z} + \\mathit{A2}_{z}^{2}\\right)} \\kappa^{4} \\kappa_{\\mathit{vacuum}}^{2}}$"
      ],
      "text/plain": [
       "<IPython.core.display.Math object>"
      ]
     },
     "metadata": {},
     "output_type": "display_data"
    },
    {
     "data": {
      "text/latex": [
       "$\\displaystyle \\frac{1}{k_{z}^{2}} = \\frac{\\frac{\\mathit{A1}_{z}^{2} \\kappa_{\\mathit{vacuum}}^{2} \\mu^{2}}{\\kappa^{2}} - \\frac{2 \\, \\mathit{A1}_{z} \\mathit{A2}_{z} \\kappa_{\\mathit{vacuum}}^{2} \\mu^{2}}{\\kappa^{2}} + \\frac{\\mathit{A2}_{z}^{2} \\kappa_{\\mathit{vacuum}}^{2} \\mu^{2}}{\\kappa^{2}} - \\frac{\\mathit{A1}_{z}^{2} \\kappa^{2}}{\\kappa_{\\mathit{vacuum}}^{2}} - \\frac{2 \\, \\mathit{A1}_{z} \\mathit{A2}_{z} \\kappa^{2}}{\\kappa_{\\mathit{vacuum}}^{2}} - \\frac{\\mathit{A2}_{z}^{2} \\kappa^{2}}{\\kappa_{\\mathit{vacuum}}^{2}}}{\\mathit{A1}_{z}^{2} \\kappa_{\\mathit{vacuum}}^{2} \\mu^{2} - 2 \\, \\mathit{A1}_{z} \\mathit{A2}_{z} \\kappa_{\\mathit{vacuum}}^{2} \\mu^{2} + \\mathit{A2}_{z}^{2} \\kappa_{\\mathit{vacuum}}^{2} \\mu^{2} - \\mathit{A1}_{z}^{2} \\kappa^{2} - 2 \\, \\mathit{A1}_{z} \\mathit{A2}_{z} \\kappa^{2} - \\mathit{A2}_{z}^{2} \\kappa^{2}}$"
      ],
      "text/plain": [
       "<IPython.core.display.Math object>"
      ]
     },
     "metadata": {},
     "output_type": "display_data"
    }
   ],
   "source": [
    "one_per_k_z = var(\"one_per_k_z\")\n",
    "one_per_k_z_sol = solve(eq_Hy_0_inv_2_collect.subs(k_z == 1/one_per_k_z), one_per_k_z^2)[0].subs(one_per_k_z == 1/k_z)\n",
    "display(Math(latex(one_per_k_z_sol)))\n",
    "\n",
    "\n",
    "one_per_k_z_sol_num = one_per_k_z_sol.rhs().numerator()\n",
    "one_per_k_z_sol_den = one_per_k_z_sol.rhs().denominator()\n",
    "\n",
    "one_per_k_z_sol_2 = 1/k_z^2 == (one_per_k_z_sol_num/kappa^2/kappa_vacuum^2).expand() / \\\n",
    "                               (one_per_k_z_sol_den/kappa^2/kappa_vacuum^2).expand()\n",
    "\n",
    "display(Math(latex(one_per_k_z_sol_2)))"
   ]
  },
  {
   "cell_type": "code",
   "execution_count": null,
   "metadata": {},
   "outputs": [],
   "source": []
  },
  {
   "cell_type": "code",
   "execution_count": 94,
   "metadata": {},
   "outputs": [
    {
     "name": "stdout",
     "output_type": "stream",
     "text": [
      "kappa_vacuum == omega/c\n"
     ]
    }
   ],
   "source": [
    "kappa_vacuum_sol = solve(eq_kappa_inner_vacuum, kappa_vacuum)[1]\n",
    "print(kappa_vacuum_sol)"
   ]
  },
  {
   "cell_type": "code",
   "execution_count": 95,
   "metadata": {},
   "outputs": [
    {
     "name": "stdout",
     "output_type": "stream",
     "text": [
      "kappa == sqrt(4*I*pi*c*mu*omega*sigma + epsilon*mu*omega^2)/c\n"
     ]
    }
   ],
   "source": [
    "kappa_sol = solve(eq_kappa, kappa)[1]\n",
    "print(kappa_sol)"
   ]
  },
  {
   "cell_type": "code",
   "execution_count": null,
   "metadata": {},
   "outputs": [],
   "source": []
  },
  {
   "cell_type": "code",
   "execution_count": 96,
   "metadata": {},
   "outputs": [
    {
     "data": {
      "text/latex": [
       "$\\displaystyle \\frac{1}{k_{z}^{2}} = \\frac{\\frac{\\mathit{A1}_{z}^{2} \\mu^{2} \\omega^{2}}{4 i \\, \\pi c \\mu \\omega \\sigma + \\epsilon \\mu \\omega^{2}} - \\frac{2 \\, \\mathit{A1}_{z} \\mathit{A2}_{z} \\mu^{2} \\omega^{2}}{4 i \\, \\pi c \\mu \\omega \\sigma + \\epsilon \\mu \\omega^{2}} + \\frac{\\mathit{A2}_{z}^{2} \\mu^{2} \\omega^{2}}{4 i \\, \\pi c \\mu \\omega \\sigma + \\epsilon \\mu \\omega^{2}} - \\frac{{\\left(4 i \\, \\pi c \\mu \\omega \\sigma + \\epsilon \\mu \\omega^{2}\\right)} \\mathit{A1}_{z}^{2}}{\\omega^{2}} - \\frac{2 \\, {\\left(4 i \\, \\pi c \\mu \\omega \\sigma + \\epsilon \\mu \\omega^{2}\\right)} \\mathit{A1}_{z} \\mathit{A2}_{z}}{\\omega^{2}} - \\frac{{\\left(4 i \\, \\pi c \\mu \\omega \\sigma + \\epsilon \\mu \\omega^{2}\\right)} \\mathit{A2}_{z}^{2}}{\\omega^{2}}}{\\frac{\\mathit{A1}_{z}^{2} \\mu^{2} \\omega^{2}}{c^{2}} - \\frac{2 \\, \\mathit{A1}_{z} \\mathit{A2}_{z} \\mu^{2} \\omega^{2}}{c^{2}} + \\frac{\\mathit{A2}_{z}^{2} \\mu^{2} \\omega^{2}}{c^{2}} - \\frac{{\\left(4 i \\, \\pi c \\mu \\omega \\sigma + \\epsilon \\mu \\omega^{2}\\right)} \\mathit{A1}_{z}^{2}}{c^{2}} - \\frac{2 \\, {\\left(4 i \\, \\pi c \\mu \\omega \\sigma + \\epsilon \\mu \\omega^{2}\\right)} \\mathit{A1}_{z} \\mathit{A2}_{z}}{c^{2}} - \\frac{{\\left(4 i \\, \\pi c \\mu \\omega \\sigma + \\epsilon \\mu \\omega^{2}\\right)} \\mathit{A2}_{z}^{2}}{c^{2}}}$"
      ],
      "text/plain": [
       "<IPython.core.display.Math object>"
      ]
     },
     "metadata": {},
     "output_type": "display_data"
    }
   ],
   "source": [
    "one_per_k_z_sol_2_subs = one_per_k_z_sol_2.subs(kappa_vacuum_sol).subs(kappa_sol)\n",
    "display(Math(latex(one_per_k_z_sol_2_subs)))"
   ]
  },
  {
   "cell_type": "code",
   "execution_count": null,
   "metadata": {},
   "outputs": [],
   "source": []
  },
  {
   "cell_type": "code",
   "execution_count": 97,
   "metadata": {},
   "outputs": [
    {
     "data": {
      "text/latex": [
       "$\\displaystyle k_{z} = -\\sqrt{\\frac{\\mathit{A1}_{z}^{2} \\kappa_{\\mathit{vacuum}}^{2} \\mu^{2}}{\\mathit{A1}_{z}^{2} \\kappa_{\\mathit{vacuum}}^{4} \\mu^{2} - 2 \\, \\mathit{A1}_{z} \\mathit{A2}_{z} \\kappa_{\\mathit{vacuum}}^{4} \\mu^{2} + \\mathit{A2}_{z}^{2} \\kappa_{\\mathit{vacuum}}^{4} \\mu^{2} - \\mathit{A1}_{z}^{2} \\kappa^{4} - 2 \\, \\mathit{A1}_{z} \\mathit{A2}_{z} \\kappa^{4} - \\mathit{A2}_{z}^{2} \\kappa^{4}} - \\frac{2 \\, \\mathit{A1}_{z} \\mathit{A2}_{z} \\kappa_{\\mathit{vacuum}}^{2} \\mu^{2}}{\\mathit{A1}_{z}^{2} \\kappa_{\\mathit{vacuum}}^{4} \\mu^{2} - 2 \\, \\mathit{A1}_{z} \\mathit{A2}_{z} \\kappa_{\\mathit{vacuum}}^{4} \\mu^{2} + \\mathit{A2}_{z}^{2} \\kappa_{\\mathit{vacuum}}^{4} \\mu^{2} - \\mathit{A1}_{z}^{2} \\kappa^{4} - 2 \\, \\mathit{A1}_{z} \\mathit{A2}_{z} \\kappa^{4} - \\mathit{A2}_{z}^{2} \\kappa^{4}} + \\frac{\\mathit{A2}_{z}^{2} \\kappa_{\\mathit{vacuum}}^{2} \\mu^{2}}{\\mathit{A1}_{z}^{2} \\kappa_{\\mathit{vacuum}}^{4} \\mu^{2} - 2 \\, \\mathit{A1}_{z} \\mathit{A2}_{z} \\kappa_{\\mathit{vacuum}}^{4} \\mu^{2} + \\mathit{A2}_{z}^{2} \\kappa_{\\mathit{vacuum}}^{4} \\mu^{2} - \\mathit{A1}_{z}^{2} \\kappa^{4} - 2 \\, \\mathit{A1}_{z} \\mathit{A2}_{z} \\kappa^{4} - \\mathit{A2}_{z}^{2} \\kappa^{4}} - \\frac{\\mathit{A1}_{z}^{2} \\kappa^{2}}{\\mathit{A1}_{z}^{2} \\kappa_{\\mathit{vacuum}}^{4} \\mu^{2} - 2 \\, \\mathit{A1}_{z} \\mathit{A2}_{z} \\kappa_{\\mathit{vacuum}}^{4} \\mu^{2} + \\mathit{A2}_{z}^{2} \\kappa_{\\mathit{vacuum}}^{4} \\mu^{2} - \\mathit{A1}_{z}^{2} \\kappa^{4} - 2 \\, \\mathit{A1}_{z} \\mathit{A2}_{z} \\kappa^{4} - \\mathit{A2}_{z}^{2} \\kappa^{4}} - \\frac{2 \\, \\mathit{A1}_{z} \\mathit{A2}_{z} \\kappa^{2}}{\\mathit{A1}_{z}^{2} \\kappa_{\\mathit{vacuum}}^{4} \\mu^{2} - 2 \\, \\mathit{A1}_{z} \\mathit{A2}_{z} \\kappa_{\\mathit{vacuum}}^{4} \\mu^{2} + \\mathit{A2}_{z}^{2} \\kappa_{\\mathit{vacuum}}^{4} \\mu^{2} - \\mathit{A1}_{z}^{2} \\kappa^{4} - 2 \\, \\mathit{A1}_{z} \\mathit{A2}_{z} \\kappa^{4} - \\mathit{A2}_{z}^{2} \\kappa^{4}} - \\frac{\\mathit{A2}_{z}^{2} \\kappa^{2}}{\\mathit{A1}_{z}^{2} \\kappa_{\\mathit{vacuum}}^{4} \\mu^{2} - 2 \\, \\mathit{A1}_{z} \\mathit{A2}_{z} \\kappa_{\\mathit{vacuum}}^{4} \\mu^{2} + \\mathit{A2}_{z}^{2} \\kappa_{\\mathit{vacuum}}^{4} \\mu^{2} - \\mathit{A1}_{z}^{2} \\kappa^{4} - 2 \\, \\mathit{A1}_{z} \\mathit{A2}_{z} \\kappa^{4} - \\mathit{A2}_{z}^{2} \\kappa^{4}}} \\kappa \\kappa_{\\mathit{vacuum}}$"
      ],
      "text/plain": [
       "<IPython.core.display.Math object>"
      ]
     },
     "metadata": {},
     "output_type": "display_data"
    },
    {
     "name": "stdout",
     "output_type": "stream",
     "text": [
      "\n"
     ]
    },
    {
     "data": {
      "text/latex": [
       "$\\displaystyle k_{z} = \\sqrt{\\frac{\\mathit{A1}_{z}^{2} \\kappa_{\\mathit{vacuum}}^{2} \\mu^{2}}{\\mathit{A1}_{z}^{2} \\kappa_{\\mathit{vacuum}}^{4} \\mu^{2} - 2 \\, \\mathit{A1}_{z} \\mathit{A2}_{z} \\kappa_{\\mathit{vacuum}}^{4} \\mu^{2} + \\mathit{A2}_{z}^{2} \\kappa_{\\mathit{vacuum}}^{4} \\mu^{2} - \\mathit{A1}_{z}^{2} \\kappa^{4} - 2 \\, \\mathit{A1}_{z} \\mathit{A2}_{z} \\kappa^{4} - \\mathit{A2}_{z}^{2} \\kappa^{4}} - \\frac{2 \\, \\mathit{A1}_{z} \\mathit{A2}_{z} \\kappa_{\\mathit{vacuum}}^{2} \\mu^{2}}{\\mathit{A1}_{z}^{2} \\kappa_{\\mathit{vacuum}}^{4} \\mu^{2} - 2 \\, \\mathit{A1}_{z} \\mathit{A2}_{z} \\kappa_{\\mathit{vacuum}}^{4} \\mu^{2} + \\mathit{A2}_{z}^{2} \\kappa_{\\mathit{vacuum}}^{4} \\mu^{2} - \\mathit{A1}_{z}^{2} \\kappa^{4} - 2 \\, \\mathit{A1}_{z} \\mathit{A2}_{z} \\kappa^{4} - \\mathit{A2}_{z}^{2} \\kappa^{4}} + \\frac{\\mathit{A2}_{z}^{2} \\kappa_{\\mathit{vacuum}}^{2} \\mu^{2}}{\\mathit{A1}_{z}^{2} \\kappa_{\\mathit{vacuum}}^{4} \\mu^{2} - 2 \\, \\mathit{A1}_{z} \\mathit{A2}_{z} \\kappa_{\\mathit{vacuum}}^{4} \\mu^{2} + \\mathit{A2}_{z}^{2} \\kappa_{\\mathit{vacuum}}^{4} \\mu^{2} - \\mathit{A1}_{z}^{2} \\kappa^{4} - 2 \\, \\mathit{A1}_{z} \\mathit{A2}_{z} \\kappa^{4} - \\mathit{A2}_{z}^{2} \\kappa^{4}} - \\frac{\\mathit{A1}_{z}^{2} \\kappa^{2}}{\\mathit{A1}_{z}^{2} \\kappa_{\\mathit{vacuum}}^{4} \\mu^{2} - 2 \\, \\mathit{A1}_{z} \\mathit{A2}_{z} \\kappa_{\\mathit{vacuum}}^{4} \\mu^{2} + \\mathit{A2}_{z}^{2} \\kappa_{\\mathit{vacuum}}^{4} \\mu^{2} - \\mathit{A1}_{z}^{2} \\kappa^{4} - 2 \\, \\mathit{A1}_{z} \\mathit{A2}_{z} \\kappa^{4} - \\mathit{A2}_{z}^{2} \\kappa^{4}} - \\frac{2 \\, \\mathit{A1}_{z} \\mathit{A2}_{z} \\kappa^{2}}{\\mathit{A1}_{z}^{2} \\kappa_{\\mathit{vacuum}}^{4} \\mu^{2} - 2 \\, \\mathit{A1}_{z} \\mathit{A2}_{z} \\kappa_{\\mathit{vacuum}}^{4} \\mu^{2} + \\mathit{A2}_{z}^{2} \\kappa_{\\mathit{vacuum}}^{4} \\mu^{2} - \\mathit{A1}_{z}^{2} \\kappa^{4} - 2 \\, \\mathit{A1}_{z} \\mathit{A2}_{z} \\kappa^{4} - \\mathit{A2}_{z}^{2} \\kappa^{4}} - \\frac{\\mathit{A2}_{z}^{2} \\kappa^{2}}{\\mathit{A1}_{z}^{2} \\kappa_{\\mathit{vacuum}}^{4} \\mu^{2} - 2 \\, \\mathit{A1}_{z} \\mathit{A2}_{z} \\kappa_{\\mathit{vacuum}}^{4} \\mu^{2} + \\mathit{A2}_{z}^{2} \\kappa_{\\mathit{vacuum}}^{4} \\mu^{2} - \\mathit{A1}_{z}^{2} \\kappa^{4} - 2 \\, \\mathit{A1}_{z} \\mathit{A2}_{z} \\kappa^{4} - \\mathit{A2}_{z}^{2} \\kappa^{4}}} \\kappa \\kappa_{\\mathit{vacuum}}$"
      ],
      "text/plain": [
       "<IPython.core.display.Math object>"
      ]
     },
     "metadata": {},
     "output_type": "display_data"
    },
    {
     "name": "stdout",
     "output_type": "stream",
     "text": [
      "\n"
     ]
    }
   ],
   "source": [
    "one_per_k_z_sol = solve(eq_Hy_0_inv_2, k_z)\n",
    "\n",
    "for i in range(len(one_per_k_z_sol)):\n",
    "    #print(one_per_k_z_sol[i])\n",
    "    display(Math(latex(one_per_k_z_sol[i])))\n",
    "    print(\"\")"
   ]
  },
  {
   "cell_type": "code",
   "execution_count": null,
   "metadata": {},
   "outputs": [],
   "source": []
  },
  {
   "cell_type": "code",
   "execution_count": 98,
   "metadata": {},
   "outputs": [],
   "source": [
    "eq_Hy_0_2 = \\\n",
    "    (eq_Hy_0_rhs_den * eq_Hy_0_lhs_num)^2 - \\\n",
    "    (eq_Hy_0_rhs_num * eq_Hy_0_lhs_den)^2 == 0"
   ]
  },
  {
   "cell_type": "code",
   "execution_count": 99,
   "metadata": {},
   "outputs": [
    {
     "name": "stdout",
     "output_type": "stream",
     "text": [
      "(k_z^2 - kappa^2)*(A1_z - A2_z)^2*kappa_vacuum^4*mu^2 - (k_z^2 - kappa_vacuum^2)*(A1_z + A2_z)^2*kappa^4 == 0\n"
     ]
    },
    {
     "data": {
      "text/latex": [
       "$\\displaystyle {\\left(k_{z}^{2} - \\kappa^{2}\\right)} {\\left(\\mathit{A1}_{z} - \\mathit{A2}_{z}\\right)}^{2} \\kappa_{\\mathit{vacuum}}^{4} \\mu^{2} - {\\left(k_{z}^{2} - \\kappa_{\\mathit{vacuum}}^{2}\\right)} {\\left(\\mathit{A1}_{z} + \\mathit{A2}_{z}\\right)}^{2} \\kappa^{4} = 0$"
      ],
      "text/plain": [
       "<IPython.core.display.Math object>"
      ]
     },
     "metadata": {},
     "output_type": "display_data"
    }
   ],
   "source": [
    "print(eq_Hy_0_2)\n",
    "display(Math(latex(eq_Hy_0_2)))"
   ]
  },
  {
   "cell_type": "code",
   "execution_count": 100,
   "metadata": {},
   "outputs": [
    {
     "data": {
      "text/latex": [
       "$\\displaystyle {\\left(k_{z}^{2} - \\kappa^{2}\\right)} {\\left(\\mathit{A1}_{z} - \\mathit{A2}_{z}\\right)}^{2} \\kappa_{\\mathit{vacuum}}^{4} \\mu^{2} - {\\left(k_{z}^{2} - \\kappa_{\\mathit{vacuum}}^{2}\\right)} {\\left(\\mathit{A1}_{z} + \\mathit{A2}_{z}\\right)}^{2} \\kappa^{4} = 0$"
      ],
      "text/plain": [
       "<IPython.core.display.Math object>"
      ]
     },
     "metadata": {},
     "output_type": "display_data"
    }
   ],
   "source": [
    "display(Math(latex(eq_Hy_0_2)))"
   ]
  },
  {
   "cell_type": "code",
   "execution_count": 101,
   "metadata": {},
   "outputs": [],
   "source": [
    "eq_Hy_0_2_expand = eq_Hy_0_2.expand()"
   ]
  },
  {
   "cell_type": "code",
   "execution_count": null,
   "metadata": {},
   "outputs": [],
   "source": []
  },
  {
   "cell_type": "code",
   "execution_count": 102,
   "metadata": {},
   "outputs": [
    {
     "data": {
      "text/latex": [
       "$\\displaystyle -\\mathit{A1}_{z}^{2} k_{z}^{2} \\kappa^{4} - 2 \\, \\mathit{A1}_{z} \\mathit{A2}_{z} k_{z}^{2} \\kappa^{4} - \\mathit{A2}_{z}^{2} k_{z}^{2} \\kappa^{4} + \\frac{\\mathit{A1}_{z}^{2} \\kappa^{4} \\omega^{2}}{c^{2}} + \\frac{2 \\, \\mathit{A1}_{z} \\mathit{A2}_{z} \\kappa^{4} \\omega^{2}}{c^{2}} + \\frac{\\mathit{A2}_{z}^{2} \\kappa^{4} \\omega^{2}}{c^{2}} + \\frac{\\mathit{A1}_{z}^{2} k_{z}^{2} \\mu^{2} \\omega^{4}}{c^{4}} - \\frac{2 \\, \\mathit{A1}_{z} \\mathit{A2}_{z} k_{z}^{2} \\mu^{2} \\omega^{4}}{c^{4}} + \\frac{\\mathit{A2}_{z}^{2} k_{z}^{2} \\mu^{2} \\omega^{4}}{c^{4}} - \\frac{\\mathit{A1}_{z}^{2} \\kappa^{2} \\mu^{2} \\omega^{4}}{c^{4}} + \\frac{2 \\, \\mathit{A1}_{z} \\mathit{A2}_{z} \\kappa^{2} \\mu^{2} \\omega^{4}}{c^{4}} - \\frac{\\mathit{A2}_{z}^{2} \\kappa^{2} \\mu^{2} \\omega^{4}}{c^{4}} = 0$"
      ],
      "text/plain": [
       "<IPython.core.display.Math object>"
      ]
     },
     "metadata": {},
     "output_type": "display_data"
    }
   ],
   "source": [
    "eq_Hy_0_2_expand = eq_Hy_0_2_expand.subs(kappa_vacuum_sol)#.subs(kappa_sol)\n",
    "display(Math(latex(eq_Hy_0_2_expand)))"
   ]
  },
  {
   "cell_type": "code",
   "execution_count": 103,
   "metadata": {},
   "outputs": [
    {
     "data": {
      "text/latex": [
       "$\\displaystyle k_{z} = -\\sqrt{\\frac{\\mathit{A1}_{z}^{2} c^{2} \\kappa^{2}}{\\mathit{A1}_{z}^{2} c^{4} \\kappa^{4} + 2 \\, \\mathit{A1}_{z} \\mathit{A2}_{z} c^{4} \\kappa^{4} + \\mathit{A2}_{z}^{2} c^{4} \\kappa^{4} - \\mathit{A1}_{z}^{2} \\mu^{2} \\omega^{4} + 2 \\, \\mathit{A1}_{z} \\mathit{A2}_{z} \\mu^{2} \\omega^{4} - \\mathit{A2}_{z}^{2} \\mu^{2} \\omega^{4}} + \\frac{2 \\, \\mathit{A1}_{z} \\mathit{A2}_{z} c^{2} \\kappa^{2}}{\\mathit{A1}_{z}^{2} c^{4} \\kappa^{4} + 2 \\, \\mathit{A1}_{z} \\mathit{A2}_{z} c^{4} \\kappa^{4} + \\mathit{A2}_{z}^{2} c^{4} \\kappa^{4} - \\mathit{A1}_{z}^{2} \\mu^{2} \\omega^{4} + 2 \\, \\mathit{A1}_{z} \\mathit{A2}_{z} \\mu^{2} \\omega^{4} - \\mathit{A2}_{z}^{2} \\mu^{2} \\omega^{4}} + \\frac{\\mathit{A2}_{z}^{2} c^{2} \\kappa^{2}}{\\mathit{A1}_{z}^{2} c^{4} \\kappa^{4} + 2 \\, \\mathit{A1}_{z} \\mathit{A2}_{z} c^{4} \\kappa^{4} + \\mathit{A2}_{z}^{2} c^{4} \\kappa^{4} - \\mathit{A1}_{z}^{2} \\mu^{2} \\omega^{4} + 2 \\, \\mathit{A1}_{z} \\mathit{A2}_{z} \\mu^{2} \\omega^{4} - \\mathit{A2}_{z}^{2} \\mu^{2} \\omega^{4}} - \\frac{\\mathit{A1}_{z}^{2} \\mu^{2} \\omega^{2}}{\\mathit{A1}_{z}^{2} c^{4} \\kappa^{4} + 2 \\, \\mathit{A1}_{z} \\mathit{A2}_{z} c^{4} \\kappa^{4} + \\mathit{A2}_{z}^{2} c^{4} \\kappa^{4} - \\mathit{A1}_{z}^{2} \\mu^{2} \\omega^{4} + 2 \\, \\mathit{A1}_{z} \\mathit{A2}_{z} \\mu^{2} \\omega^{4} - \\mathit{A2}_{z}^{2} \\mu^{2} \\omega^{4}} + \\frac{2 \\, \\mathit{A1}_{z} \\mathit{A2}_{z} \\mu^{2} \\omega^{2}}{\\mathit{A1}_{z}^{2} c^{4} \\kappa^{4} + 2 \\, \\mathit{A1}_{z} \\mathit{A2}_{z} c^{4} \\kappa^{4} + \\mathit{A2}_{z}^{2} c^{4} \\kappa^{4} - \\mathit{A1}_{z}^{2} \\mu^{2} \\omega^{4} + 2 \\, \\mathit{A1}_{z} \\mathit{A2}_{z} \\mu^{2} \\omega^{4} - \\mathit{A2}_{z}^{2} \\mu^{2} \\omega^{4}} - \\frac{\\mathit{A2}_{z}^{2} \\mu^{2} \\omega^{2}}{\\mathit{A1}_{z}^{2} c^{4} \\kappa^{4} + 2 \\, \\mathit{A1}_{z} \\mathit{A2}_{z} c^{4} \\kappa^{4} + \\mathit{A2}_{z}^{2} c^{4} \\kappa^{4} - \\mathit{A1}_{z}^{2} \\mu^{2} \\omega^{4} + 2 \\, \\mathit{A1}_{z} \\mathit{A2}_{z} \\mu^{2} \\omega^{4} - \\mathit{A2}_{z}^{2} \\mu^{2} \\omega^{4}}} \\kappa \\omega$"
      ],
      "text/plain": [
       "<IPython.core.display.Math object>"
      ]
     },
     "metadata": {},
     "output_type": "display_data"
    },
    {
     "name": "stdout",
     "output_type": "stream",
     "text": [
      "\n"
     ]
    },
    {
     "data": {
      "text/latex": [
       "$\\displaystyle k_{z} = \\sqrt{\\frac{\\mathit{A1}_{z}^{2} c^{2} \\kappa^{2}}{\\mathit{A1}_{z}^{2} c^{4} \\kappa^{4} + 2 \\, \\mathit{A1}_{z} \\mathit{A2}_{z} c^{4} \\kappa^{4} + \\mathit{A2}_{z}^{2} c^{4} \\kappa^{4} - \\mathit{A1}_{z}^{2} \\mu^{2} \\omega^{4} + 2 \\, \\mathit{A1}_{z} \\mathit{A2}_{z} \\mu^{2} \\omega^{4} - \\mathit{A2}_{z}^{2} \\mu^{2} \\omega^{4}} + \\frac{2 \\, \\mathit{A1}_{z} \\mathit{A2}_{z} c^{2} \\kappa^{2}}{\\mathit{A1}_{z}^{2} c^{4} \\kappa^{4} + 2 \\, \\mathit{A1}_{z} \\mathit{A2}_{z} c^{4} \\kappa^{4} + \\mathit{A2}_{z}^{2} c^{4} \\kappa^{4} - \\mathit{A1}_{z}^{2} \\mu^{2} \\omega^{4} + 2 \\, \\mathit{A1}_{z} \\mathit{A2}_{z} \\mu^{2} \\omega^{4} - \\mathit{A2}_{z}^{2} \\mu^{2} \\omega^{4}} + \\frac{\\mathit{A2}_{z}^{2} c^{2} \\kappa^{2}}{\\mathit{A1}_{z}^{2} c^{4} \\kappa^{4} + 2 \\, \\mathit{A1}_{z} \\mathit{A2}_{z} c^{4} \\kappa^{4} + \\mathit{A2}_{z}^{2} c^{4} \\kappa^{4} - \\mathit{A1}_{z}^{2} \\mu^{2} \\omega^{4} + 2 \\, \\mathit{A1}_{z} \\mathit{A2}_{z} \\mu^{2} \\omega^{4} - \\mathit{A2}_{z}^{2} \\mu^{2} \\omega^{4}} - \\frac{\\mathit{A1}_{z}^{2} \\mu^{2} \\omega^{2}}{\\mathit{A1}_{z}^{2} c^{4} \\kappa^{4} + 2 \\, \\mathit{A1}_{z} \\mathit{A2}_{z} c^{4} \\kappa^{4} + \\mathit{A2}_{z}^{2} c^{4} \\kappa^{4} - \\mathit{A1}_{z}^{2} \\mu^{2} \\omega^{4} + 2 \\, \\mathit{A1}_{z} \\mathit{A2}_{z} \\mu^{2} \\omega^{4} - \\mathit{A2}_{z}^{2} \\mu^{2} \\omega^{4}} + \\frac{2 \\, \\mathit{A1}_{z} \\mathit{A2}_{z} \\mu^{2} \\omega^{2}}{\\mathit{A1}_{z}^{2} c^{4} \\kappa^{4} + 2 \\, \\mathit{A1}_{z} \\mathit{A2}_{z} c^{4} \\kappa^{4} + \\mathit{A2}_{z}^{2} c^{4} \\kappa^{4} - \\mathit{A1}_{z}^{2} \\mu^{2} \\omega^{4} + 2 \\, \\mathit{A1}_{z} \\mathit{A2}_{z} \\mu^{2} \\omega^{4} - \\mathit{A2}_{z}^{2} \\mu^{2} \\omega^{4}} - \\frac{\\mathit{A2}_{z}^{2} \\mu^{2} \\omega^{2}}{\\mathit{A1}_{z}^{2} c^{4} \\kappa^{4} + 2 \\, \\mathit{A1}_{z} \\mathit{A2}_{z} c^{4} \\kappa^{4} + \\mathit{A2}_{z}^{2} c^{4} \\kappa^{4} - \\mathit{A1}_{z}^{2} \\mu^{2} \\omega^{4} + 2 \\, \\mathit{A1}_{z} \\mathit{A2}_{z} \\mu^{2} \\omega^{4} - \\mathit{A2}_{z}^{2} \\mu^{2} \\omega^{4}}} \\kappa \\omega$"
      ],
      "text/plain": [
       "<IPython.core.display.Math object>"
      ]
     },
     "metadata": {},
     "output_type": "display_data"
    },
    {
     "name": "stdout",
     "output_type": "stream",
     "text": [
      "\n"
     ]
    }
   ],
   "source": [
    "k_z_sol = solve(eq_Hy_0_2_expand, k_z)\n",
    "\n",
    "for i in range(len(k_z_sol)):\n",
    "    #print(k_z_sol[i])\n",
    "    display(Math(latex(k_z_sol[i])))\n",
    "    print(\"\")"
   ]
  },
  {
   "cell_type": "code",
   "execution_count": null,
   "metadata": {},
   "outputs": [],
   "source": []
  },
  {
   "cell_type": "code",
   "execution_count": null,
   "metadata": {},
   "outputs": [],
   "source": []
  },
  {
   "cell_type": "code",
   "execution_count": 104,
   "metadata": {},
   "outputs": [],
   "source": [
    "#E_vacuum_z = A1_z_im*sin(sqrt(kappa_vacuum^2-k_z^2)*(x+a))\n",
    "#E_vacuum_z"
   ]
  },
  {
   "cell_type": "code",
   "execution_count": 105,
   "metadata": {},
   "outputs": [
    {
     "data": {
      "text/plain": [
       "A2_z*e^(I*K_vacuum*x) + A1_z*e^(-I*K_vacuum*x)"
      ]
     },
     "execution_count": 105,
     "metadata": {},
     "output_type": "execute_result"
    }
   ],
   "source": [
    "E_inner_vacuum_sol_z(x)"
   ]
  },
  {
   "cell_type": "code",
   "execution_count": 106,
   "metadata": {},
   "outputs": [
    {
     "data": {
      "text/plain": [
       "A1_z + A2_z == B1_z"
      ]
     },
     "execution_count": 106,
     "metadata": {},
     "output_type": "execute_result"
    }
   ],
   "source": [
    "eqEz_a.rhs() == eqEz_a.lhs()"
   ]
  },
  {
   "cell_type": "code",
   "execution_count": 107,
   "metadata": {},
   "outputs": [
    {
     "data": {
      "text/plain": [
       "B1_z == A1_z + A2_z"
      ]
     },
     "execution_count": 107,
     "metadata": {},
     "output_type": "execute_result"
    }
   ],
   "source": [
    "eqEz_a"
   ]
  },
  {
   "cell_type": "code",
   "execution_count": 108,
   "metadata": {
    "scrolled": true
   },
   "outputs": [
    {
     "data": {
      "text/plain": [
       "(A1_z, A2_z, c, k_z, kappa, mu, omega)"
      ]
     },
     "execution_count": 108,
     "metadata": {},
     "output_type": "execute_result"
    }
   ],
   "source": [
    "k_z_sol_subs = k_z_sol[1].subs(eqEz_a).full_simplify()\n",
    "k_z_sol_subs.variables()"
   ]
  },
  {
   "cell_type": "code",
   "execution_count": 109,
   "metadata": {},
   "outputs": [],
   "source": [
    "# display(Math(latex(k_z_sol)))"
   ]
  },
  {
   "cell_type": "code",
   "execution_count": null,
   "metadata": {},
   "outputs": [],
   "source": []
  },
  {
   "cell_type": "code",
   "execution_count": 110,
   "metadata": {},
   "outputs": [
    {
     "name": "stdout",
     "output_type": "stream",
     "text": [
      "E_inner_vacuum_x(0) == (A1_z*k_z - A2_z*k_z)/sqrt(-k_z^2 + kappa_vacuum^2)\n"
     ]
    },
    {
     "data": {
      "text/latex": [
       "$\\displaystyle E_{{\\rm inner}_{{\\rm vacuum}_{x}}}\\left(0\\right) = \\frac{\\mathit{A1}_{z} k_{z} - \\mathit{A2}_{z} k_{z}}{\\sqrt{-k_{z}^{2} + \\kappa_{\\mathit{vacuum}}^{2}}}$"
      ],
      "text/plain": [
       "<IPython.core.display.Math object>"
      ]
     },
     "metadata": {},
     "output_type": "display_data"
    },
    {
     "name": "stdout",
     "output_type": "stream",
     "text": [
      "\n",
      "E_bad_conductor_x(0) == -(A1_z + A2_z)*k_z/sqrt(-k_z^2 + kappa^2)\n"
     ]
    },
    {
     "data": {
      "text/latex": [
       "$\\displaystyle E_{{\\rm bad}_{{\\rm conductor}_{x}}}\\left(0\\right) = -\\frac{{\\left(\\mathit{A1}_{z} + \\mathit{A2}_{z}\\right)} k_{z}}{\\sqrt{-k_{z}^{2} + \\kappa^{2}}}$"
      ],
      "text/plain": [
       "<IPython.core.display.Math object>"
      ]
     },
     "metadata": {},
     "output_type": "display_data"
    },
    {
     "name": "stdout",
     "output_type": "stream",
     "text": [
      "\n",
      "4*I*pi*c*sigma/omega + epsilon == -sqrt(-k_z^2 + kappa^2)*(A1_z - A2_z)/(sqrt(-k_z^2 + kappa_vacuum^2)*(A1_z + A2_z))\n"
     ]
    },
    {
     "data": {
      "text/latex": [
       "$\\displaystyle \\frac{4 i \\, \\pi c \\sigma}{\\omega} + \\epsilon = -\\frac{\\sqrt{-k_{z}^{2} + \\kappa^{2}} {\\left(\\mathit{A1}_{z} - \\mathit{A2}_{z}\\right)}}{\\sqrt{-k_{z}^{2} + \\kappa_{\\mathit{vacuum}}^{2}} {\\left(\\mathit{A1}_{z} + \\mathit{A2}_{z}\\right)}}$"
      ],
      "text/plain": [
       "<IPython.core.display.Math object>"
      ]
     },
     "metadata": {},
     "output_type": "display_data"
    },
    {
     "name": "stdout",
     "output_type": "stream",
     "text": [
      "\n"
     ]
    }
   ],
   "source": [
    "# нормальная компонента электрического смещения\n",
    "eq_5_subs4x0 = eq_5_subs4.subs(x == 0)\n",
    "print(eq_5_subs4x0)\n",
    "display(Math(latex(eq_5_subs4x0)))\n",
    "\n",
    "print(\"\")\n",
    "\n",
    "eq_7_subs4x0 = eq_7_subs4.subs(x == 0).subs(eqEz_a)\n",
    "print(eq_7_subs4x0)\n",
    "display(Math(latex(eq_7_subs4x0)))\n",
    "print(\"\")\n",
    "\n",
    "# eqDx_a = E_inner_vacuum_sol_x(0) == E_bad_conductor_sol_x(0) * epsilon\n",
    "eq_Dx_a = epsilon_complex == (eq_5_subs4x0.rhs() / eq_7_subs4x0.rhs()).full_simplify()\n",
    "\n",
    "print(eq_Dx_a)\n",
    "display(Math(latex(eq_Dx_a)))\n",
    "print(\"\")"
   ]
  },
  {
   "cell_type": "code",
   "execution_count": 111,
   "metadata": {},
   "outputs": [
    {
     "name": "stdout",
     "output_type": "stream",
     "text": [
      "4*I*pi*c*sigma/omega + epsilon == -sqrt(4*I*pi*mu*omega*sigma/c - k_z^2 + epsilon*mu*omega^2/c^2)*(A1_z - A2_z)/(sqrt(-k_z^2 + omega^2/c^2)*(A1_z + A2_z))\n"
     ]
    },
    {
     "data": {
      "text/latex": [
       "$\\displaystyle \\frac{4 i \\, \\pi c \\sigma}{\\omega} + \\epsilon = -\\frac{\\sqrt{\\frac{4 i \\, \\pi \\mu \\omega \\sigma}{c} - k_{z}^{2} + \\frac{\\epsilon \\mu \\omega^{2}}{c^{2}}} {\\left(\\mathit{A1}_{z} - \\mathit{A2}_{z}\\right)}}{\\sqrt{-k_{z}^{2} + \\frac{\\omega^{2}}{c^{2}}} {\\left(\\mathit{A1}_{z} + \\mathit{A2}_{z}\\right)}}$"
      ],
      "text/plain": [
       "<IPython.core.display.Math object>"
      ]
     },
     "metadata": {},
     "output_type": "display_data"
    }
   ],
   "source": [
    "eq_Dx_a_subs = eq_Dx_a.subs(eq_kappa).subs(eq_kappa_inner_vacuum)\n",
    "\n",
    "print(eq_Dx_a_subs)\n",
    "display(Math(latex(eq_Dx_a_subs)))"
   ]
  },
  {
   "cell_type": "code",
   "execution_count": 112,
   "metadata": {},
   "outputs": [
    {
     "name": "stdout",
     "output_type": "stream",
     "text": [
      "(4*I*pi*c*sigma/omega + epsilon)^2 == -(4*I*pi*mu*omega*sigma/c - k_z^2 + epsilon*mu*omega^2/c^2)*(A1_z - A2_z)^2/((k_z^2 - omega^2/c^2)*(A1_z + A2_z)^2)\n"
     ]
    },
    {
     "data": {
      "text/latex": [
       "$\\displaystyle {\\left(\\frac{4 i \\, \\pi c \\sigma}{\\omega} + \\epsilon\\right)}^{2} = -\\frac{{\\left(\\frac{4 i \\, \\pi \\mu \\omega \\sigma}{c} - k_{z}^{2} + \\frac{\\epsilon \\mu \\omega^{2}}{c^{2}}\\right)} {\\left(\\mathit{A1}_{z} - \\mathit{A2}_{z}\\right)}^{2}}{{\\left(k_{z}^{2} - \\frac{\\omega^{2}}{c^{2}}\\right)} {\\left(\\mathit{A1}_{z} + \\mathit{A2}_{z}\\right)}^{2}}$"
      ],
      "text/plain": [
       "<IPython.core.display.Math object>"
      ]
     },
     "metadata": {},
     "output_type": "display_data"
    }
   ],
   "source": [
    "eq_Dx_a_subs2 = eq_Dx_a_subs.lhs()^2 == eq_Dx_a_subs.rhs()^2\n",
    "\n",
    "print(eq_Dx_a_subs2)\n",
    "display(Math(latex(eq_Dx_a_subs2)))"
   ]
  },
  {
   "cell_type": "code",
   "execution_count": 113,
   "metadata": {},
   "outputs": [
    {
     "data": {
      "text/latex": [
       "$\\displaystyle \\left[k_{z} = -\\frac{\\sqrt{\\frac{16 \\, \\pi^{2} \\mathit{A1}_{z}^{2} c^{2} \\sigma^{2}}{16 \\, \\pi^{2} \\mathit{A1}_{z}^{2} c^{2} \\sigma^{2} + 32 \\, \\pi^{2} \\mathit{A1}_{z} \\mathit{A2}_{z} c^{2} \\sigma^{2} + 16 \\, \\pi^{2} \\mathit{A2}_{z}^{2} c^{2} \\sigma^{2} - 8 i \\, \\pi \\mathit{A1}_{z}^{2} c \\epsilon \\omega \\sigma - 16 i \\, \\pi \\mathit{A1}_{z} \\mathit{A2}_{z} c \\epsilon \\omega \\sigma - 8 i \\, \\pi \\mathit{A2}_{z}^{2} c \\epsilon \\omega \\sigma - \\mathit{A1}_{z}^{2} \\epsilon^{2} \\omega^{2} - 2 \\, \\mathit{A1}_{z} \\mathit{A2}_{z} \\epsilon^{2} \\omega^{2} - \\mathit{A2}_{z}^{2} \\epsilon^{2} \\omega^{2} + \\mathit{A1}_{z}^{2} \\omega^{2} - 2 \\, \\mathit{A1}_{z} \\mathit{A2}_{z} \\omega^{2} + \\mathit{A2}_{z}^{2} \\omega^{2}} + \\frac{32 \\, \\pi^{2} \\mathit{A1}_{z} \\mathit{A2}_{z} c^{2} \\sigma^{2}}{16 \\, \\pi^{2} \\mathit{A1}_{z}^{2} c^{2} \\sigma^{2} + 32 \\, \\pi^{2} \\mathit{A1}_{z} \\mathit{A2}_{z} c^{2} \\sigma^{2} + 16 \\, \\pi^{2} \\mathit{A2}_{z}^{2} c^{2} \\sigma^{2} - 8 i \\, \\pi \\mathit{A1}_{z}^{2} c \\epsilon \\omega \\sigma - 16 i \\, \\pi \\mathit{A1}_{z} \\mathit{A2}_{z} c \\epsilon \\omega \\sigma - 8 i \\, \\pi \\mathit{A2}_{z}^{2} c \\epsilon \\omega \\sigma - \\mathit{A1}_{z}^{2} \\epsilon^{2} \\omega^{2} - 2 \\, \\mathit{A1}_{z} \\mathit{A2}_{z} \\epsilon^{2} \\omega^{2} - \\mathit{A2}_{z}^{2} \\epsilon^{2} \\omega^{2} + \\mathit{A1}_{z}^{2} \\omega^{2} - 2 \\, \\mathit{A1}_{z} \\mathit{A2}_{z} \\omega^{2} + \\mathit{A2}_{z}^{2} \\omega^{2}} + \\frac{16 \\, \\pi^{2} \\mathit{A2}_{z}^{2} c^{2} \\sigma^{2}}{16 \\, \\pi^{2} \\mathit{A1}_{z}^{2} c^{2} \\sigma^{2} + 32 \\, \\pi^{2} \\mathit{A1}_{z} \\mathit{A2}_{z} c^{2} \\sigma^{2} + 16 \\, \\pi^{2} \\mathit{A2}_{z}^{2} c^{2} \\sigma^{2} - 8 i \\, \\pi \\mathit{A1}_{z}^{2} c \\epsilon \\omega \\sigma - 16 i \\, \\pi \\mathit{A1}_{z} \\mathit{A2}_{z} c \\epsilon \\omega \\sigma - 8 i \\, \\pi \\mathit{A2}_{z}^{2} c \\epsilon \\omega \\sigma - \\mathit{A1}_{z}^{2} \\epsilon^{2} \\omega^{2} - 2 \\, \\mathit{A1}_{z} \\mathit{A2}_{z} \\epsilon^{2} \\omega^{2} - \\mathit{A2}_{z}^{2} \\epsilon^{2} \\omega^{2} + \\mathit{A1}_{z}^{2} \\omega^{2} - 2 \\, \\mathit{A1}_{z} \\mathit{A2}_{z} \\omega^{2} + \\mathit{A2}_{z}^{2} \\omega^{2}} - \\frac{8 i \\, \\pi \\mathit{A1}_{z}^{2} c \\epsilon \\omega \\sigma}{16 \\, \\pi^{2} \\mathit{A1}_{z}^{2} c^{2} \\sigma^{2} + 32 \\, \\pi^{2} \\mathit{A1}_{z} \\mathit{A2}_{z} c^{2} \\sigma^{2} + 16 \\, \\pi^{2} \\mathit{A2}_{z}^{2} c^{2} \\sigma^{2} - 8 i \\, \\pi \\mathit{A1}_{z}^{2} c \\epsilon \\omega \\sigma - 16 i \\, \\pi \\mathit{A1}_{z} \\mathit{A2}_{z} c \\epsilon \\omega \\sigma - 8 i \\, \\pi \\mathit{A2}_{z}^{2} c \\epsilon \\omega \\sigma - \\mathit{A1}_{z}^{2} \\epsilon^{2} \\omega^{2} - 2 \\, \\mathit{A1}_{z} \\mathit{A2}_{z} \\epsilon^{2} \\omega^{2} - \\mathit{A2}_{z}^{2} \\epsilon^{2} \\omega^{2} + \\mathit{A1}_{z}^{2} \\omega^{2} - 2 \\, \\mathit{A1}_{z} \\mathit{A2}_{z} \\omega^{2} + \\mathit{A2}_{z}^{2} \\omega^{2}} - \\frac{16 i \\, \\pi \\mathit{A1}_{z} \\mathit{A2}_{z} c \\epsilon \\omega \\sigma}{16 \\, \\pi^{2} \\mathit{A1}_{z}^{2} c^{2} \\sigma^{2} + 32 \\, \\pi^{2} \\mathit{A1}_{z} \\mathit{A2}_{z} c^{2} \\sigma^{2} + 16 \\, \\pi^{2} \\mathit{A2}_{z}^{2} c^{2} \\sigma^{2} - 8 i \\, \\pi \\mathit{A1}_{z}^{2} c \\epsilon \\omega \\sigma - 16 i \\, \\pi \\mathit{A1}_{z} \\mathit{A2}_{z} c \\epsilon \\omega \\sigma - 8 i \\, \\pi \\mathit{A2}_{z}^{2} c \\epsilon \\omega \\sigma - \\mathit{A1}_{z}^{2} \\epsilon^{2} \\omega^{2} - 2 \\, \\mathit{A1}_{z} \\mathit{A2}_{z} \\epsilon^{2} \\omega^{2} - \\mathit{A2}_{z}^{2} \\epsilon^{2} \\omega^{2} + \\mathit{A1}_{z}^{2} \\omega^{2} - 2 \\, \\mathit{A1}_{z} \\mathit{A2}_{z} \\omega^{2} + \\mathit{A2}_{z}^{2} \\omega^{2}} - \\frac{8 i \\, \\pi \\mathit{A2}_{z}^{2} c \\epsilon \\omega \\sigma}{16 \\, \\pi^{2} \\mathit{A1}_{z}^{2} c^{2} \\sigma^{2} + 32 \\, \\pi^{2} \\mathit{A1}_{z} \\mathit{A2}_{z} c^{2} \\sigma^{2} + 16 \\, \\pi^{2} \\mathit{A2}_{z}^{2} c^{2} \\sigma^{2} - 8 i \\, \\pi \\mathit{A1}_{z}^{2} c \\epsilon \\omega \\sigma - 16 i \\, \\pi \\mathit{A1}_{z} \\mathit{A2}_{z} c \\epsilon \\omega \\sigma - 8 i \\, \\pi \\mathit{A2}_{z}^{2} c \\epsilon \\omega \\sigma - \\mathit{A1}_{z}^{2} \\epsilon^{2} \\omega^{2} - 2 \\, \\mathit{A1}_{z} \\mathit{A2}_{z} \\epsilon^{2} \\omega^{2} - \\mathit{A2}_{z}^{2} \\epsilon^{2} \\omega^{2} + \\mathit{A1}_{z}^{2} \\omega^{2} - 2 \\, \\mathit{A1}_{z} \\mathit{A2}_{z} \\omega^{2} + \\mathit{A2}_{z}^{2} \\omega^{2}} + \\frac{4 i \\, \\pi \\mathit{A1}_{z}^{2} c \\mu \\omega \\sigma}{16 \\, \\pi^{2} \\mathit{A1}_{z}^{2} c^{2} \\sigma^{2} + 32 \\, \\pi^{2} \\mathit{A1}_{z} \\mathit{A2}_{z} c^{2} \\sigma^{2} + 16 \\, \\pi^{2} \\mathit{A2}_{z}^{2} c^{2} \\sigma^{2} - 8 i \\, \\pi \\mathit{A1}_{z}^{2} c \\epsilon \\omega \\sigma - 16 i \\, \\pi \\mathit{A1}_{z} \\mathit{A2}_{z} c \\epsilon \\omega \\sigma - 8 i \\, \\pi \\mathit{A2}_{z}^{2} c \\epsilon \\omega \\sigma - \\mathit{A1}_{z}^{2} \\epsilon^{2} \\omega^{2} - 2 \\, \\mathit{A1}_{z} \\mathit{A2}_{z} \\epsilon^{2} \\omega^{2} - \\mathit{A2}_{z}^{2} \\epsilon^{2} \\omega^{2} + \\mathit{A1}_{z}^{2} \\omega^{2} - 2 \\, \\mathit{A1}_{z} \\mathit{A2}_{z} \\omega^{2} + \\mathit{A2}_{z}^{2} \\omega^{2}} - \\frac{8 i \\, \\pi \\mathit{A1}_{z} \\mathit{A2}_{z} c \\mu \\omega \\sigma}{16 \\, \\pi^{2} \\mathit{A1}_{z}^{2} c^{2} \\sigma^{2} + 32 \\, \\pi^{2} \\mathit{A1}_{z} \\mathit{A2}_{z} c^{2} \\sigma^{2} + 16 \\, \\pi^{2} \\mathit{A2}_{z}^{2} c^{2} \\sigma^{2} - 8 i \\, \\pi \\mathit{A1}_{z}^{2} c \\epsilon \\omega \\sigma - 16 i \\, \\pi \\mathit{A1}_{z} \\mathit{A2}_{z} c \\epsilon \\omega \\sigma - 8 i \\, \\pi \\mathit{A2}_{z}^{2} c \\epsilon \\omega \\sigma - \\mathit{A1}_{z}^{2} \\epsilon^{2} \\omega^{2} - 2 \\, \\mathit{A1}_{z} \\mathit{A2}_{z} \\epsilon^{2} \\omega^{2} - \\mathit{A2}_{z}^{2} \\epsilon^{2} \\omega^{2} + \\mathit{A1}_{z}^{2} \\omega^{2} - 2 \\, \\mathit{A1}_{z} \\mathit{A2}_{z} \\omega^{2} + \\mathit{A2}_{z}^{2} \\omega^{2}} + \\frac{4 i \\, \\pi \\mathit{A2}_{z}^{2} c \\mu \\omega \\sigma}{16 \\, \\pi^{2} \\mathit{A1}_{z}^{2} c^{2} \\sigma^{2} + 32 \\, \\pi^{2} \\mathit{A1}_{z} \\mathit{A2}_{z} c^{2} \\sigma^{2} + 16 \\, \\pi^{2} \\mathit{A2}_{z}^{2} c^{2} \\sigma^{2} - 8 i \\, \\pi \\mathit{A1}_{z}^{2} c \\epsilon \\omega \\sigma - 16 i \\, \\pi \\mathit{A1}_{z} \\mathit{A2}_{z} c \\epsilon \\omega \\sigma - 8 i \\, \\pi \\mathit{A2}_{z}^{2} c \\epsilon \\omega \\sigma - \\mathit{A1}_{z}^{2} \\epsilon^{2} \\omega^{2} - 2 \\, \\mathit{A1}_{z} \\mathit{A2}_{z} \\epsilon^{2} \\omega^{2} - \\mathit{A2}_{z}^{2} \\epsilon^{2} \\omega^{2} + \\mathit{A1}_{z}^{2} \\omega^{2} - 2 \\, \\mathit{A1}_{z} \\mathit{A2}_{z} \\omega^{2} + \\mathit{A2}_{z}^{2} \\omega^{2}} - \\frac{\\mathit{A1}_{z}^{2} \\epsilon^{2} \\omega^{2}}{16 \\, \\pi^{2} \\mathit{A1}_{z}^{2} c^{2} \\sigma^{2} + 32 \\, \\pi^{2} \\mathit{A1}_{z} \\mathit{A2}_{z} c^{2} \\sigma^{2} + 16 \\, \\pi^{2} \\mathit{A2}_{z}^{2} c^{2} \\sigma^{2} - 8 i \\, \\pi \\mathit{A1}_{z}^{2} c \\epsilon \\omega \\sigma - 16 i \\, \\pi \\mathit{A1}_{z} \\mathit{A2}_{z} c \\epsilon \\omega \\sigma - 8 i \\, \\pi \\mathit{A2}_{z}^{2} c \\epsilon \\omega \\sigma - \\mathit{A1}_{z}^{2} \\epsilon^{2} \\omega^{2} - 2 \\, \\mathit{A1}_{z} \\mathit{A2}_{z} \\epsilon^{2} \\omega^{2} - \\mathit{A2}_{z}^{2} \\epsilon^{2} \\omega^{2} + \\mathit{A1}_{z}^{2} \\omega^{2} - 2 \\, \\mathit{A1}_{z} \\mathit{A2}_{z} \\omega^{2} + \\mathit{A2}_{z}^{2} \\omega^{2}} - \\frac{2 \\, \\mathit{A1}_{z} \\mathit{A2}_{z} \\epsilon^{2} \\omega^{2}}{16 \\, \\pi^{2} \\mathit{A1}_{z}^{2} c^{2} \\sigma^{2} + 32 \\, \\pi^{2} \\mathit{A1}_{z} \\mathit{A2}_{z} c^{2} \\sigma^{2} + 16 \\, \\pi^{2} \\mathit{A2}_{z}^{2} c^{2} \\sigma^{2} - 8 i \\, \\pi \\mathit{A1}_{z}^{2} c \\epsilon \\omega \\sigma - 16 i \\, \\pi \\mathit{A1}_{z} \\mathit{A2}_{z} c \\epsilon \\omega \\sigma - 8 i \\, \\pi \\mathit{A2}_{z}^{2} c \\epsilon \\omega \\sigma - \\mathit{A1}_{z}^{2} \\epsilon^{2} \\omega^{2} - 2 \\, \\mathit{A1}_{z} \\mathit{A2}_{z} \\epsilon^{2} \\omega^{2} - \\mathit{A2}_{z}^{2} \\epsilon^{2} \\omega^{2} + \\mathit{A1}_{z}^{2} \\omega^{2} - 2 \\, \\mathit{A1}_{z} \\mathit{A2}_{z} \\omega^{2} + \\mathit{A2}_{z}^{2} \\omega^{2}} - \\frac{\\mathit{A2}_{z}^{2} \\epsilon^{2} \\omega^{2}}{16 \\, \\pi^{2} \\mathit{A1}_{z}^{2} c^{2} \\sigma^{2} + 32 \\, \\pi^{2} \\mathit{A1}_{z} \\mathit{A2}_{z} c^{2} \\sigma^{2} + 16 \\, \\pi^{2} \\mathit{A2}_{z}^{2} c^{2} \\sigma^{2} - 8 i \\, \\pi \\mathit{A1}_{z}^{2} c \\epsilon \\omega \\sigma - 16 i \\, \\pi \\mathit{A1}_{z} \\mathit{A2}_{z} c \\epsilon \\omega \\sigma - 8 i \\, \\pi \\mathit{A2}_{z}^{2} c \\epsilon \\omega \\sigma - \\mathit{A1}_{z}^{2} \\epsilon^{2} \\omega^{2} - 2 \\, \\mathit{A1}_{z} \\mathit{A2}_{z} \\epsilon^{2} \\omega^{2} - \\mathit{A2}_{z}^{2} \\epsilon^{2} \\omega^{2} + \\mathit{A1}_{z}^{2} \\omega^{2} - 2 \\, \\mathit{A1}_{z} \\mathit{A2}_{z} \\omega^{2} + \\mathit{A2}_{z}^{2} \\omega^{2}} + \\frac{\\mathit{A1}_{z}^{2} \\epsilon \\mu \\omega^{2}}{16 \\, \\pi^{2} \\mathit{A1}_{z}^{2} c^{2} \\sigma^{2} + 32 \\, \\pi^{2} \\mathit{A1}_{z} \\mathit{A2}_{z} c^{2} \\sigma^{2} + 16 \\, \\pi^{2} \\mathit{A2}_{z}^{2} c^{2} \\sigma^{2} - 8 i \\, \\pi \\mathit{A1}_{z}^{2} c \\epsilon \\omega \\sigma - 16 i \\, \\pi \\mathit{A1}_{z} \\mathit{A2}_{z} c \\epsilon \\omega \\sigma - 8 i \\, \\pi \\mathit{A2}_{z}^{2} c \\epsilon \\omega \\sigma - \\mathit{A1}_{z}^{2} \\epsilon^{2} \\omega^{2} - 2 \\, \\mathit{A1}_{z} \\mathit{A2}_{z} \\epsilon^{2} \\omega^{2} - \\mathit{A2}_{z}^{2} \\epsilon^{2} \\omega^{2} + \\mathit{A1}_{z}^{2} \\omega^{2} - 2 \\, \\mathit{A1}_{z} \\mathit{A2}_{z} \\omega^{2} + \\mathit{A2}_{z}^{2} \\omega^{2}} - \\frac{2 \\, \\mathit{A1}_{z} \\mathit{A2}_{z} \\epsilon \\mu \\omega^{2}}{16 \\, \\pi^{2} \\mathit{A1}_{z}^{2} c^{2} \\sigma^{2} + 32 \\, \\pi^{2} \\mathit{A1}_{z} \\mathit{A2}_{z} c^{2} \\sigma^{2} + 16 \\, \\pi^{2} \\mathit{A2}_{z}^{2} c^{2} \\sigma^{2} - 8 i \\, \\pi \\mathit{A1}_{z}^{2} c \\epsilon \\omega \\sigma - 16 i \\, \\pi \\mathit{A1}_{z} \\mathit{A2}_{z} c \\epsilon \\omega \\sigma - 8 i \\, \\pi \\mathit{A2}_{z}^{2} c \\epsilon \\omega \\sigma - \\mathit{A1}_{z}^{2} \\epsilon^{2} \\omega^{2} - 2 \\, \\mathit{A1}_{z} \\mathit{A2}_{z} \\epsilon^{2} \\omega^{2} - \\mathit{A2}_{z}^{2} \\epsilon^{2} \\omega^{2} + \\mathit{A1}_{z}^{2} \\omega^{2} - 2 \\, \\mathit{A1}_{z} \\mathit{A2}_{z} \\omega^{2} + \\mathit{A2}_{z}^{2} \\omega^{2}} + \\frac{\\mathit{A2}_{z}^{2} \\epsilon \\mu \\omega^{2}}{16 \\, \\pi^{2} \\mathit{A1}_{z}^{2} c^{2} \\sigma^{2} + 32 \\, \\pi^{2} \\mathit{A1}_{z} \\mathit{A2}_{z} c^{2} \\sigma^{2} + 16 \\, \\pi^{2} \\mathit{A2}_{z}^{2} c^{2} \\sigma^{2} - 8 i \\, \\pi \\mathit{A1}_{z}^{2} c \\epsilon \\omega \\sigma - 16 i \\, \\pi \\mathit{A1}_{z} \\mathit{A2}_{z} c \\epsilon \\omega \\sigma - 8 i \\, \\pi \\mathit{A2}_{z}^{2} c \\epsilon \\omega \\sigma - \\mathit{A1}_{z}^{2} \\epsilon^{2} \\omega^{2} - 2 \\, \\mathit{A1}_{z} \\mathit{A2}_{z} \\epsilon^{2} \\omega^{2} - \\mathit{A2}_{z}^{2} \\epsilon^{2} \\omega^{2} + \\mathit{A1}_{z}^{2} \\omega^{2} - 2 \\, \\mathit{A1}_{z} \\mathit{A2}_{z} \\omega^{2} + \\mathit{A2}_{z}^{2} \\omega^{2}}} \\omega}{c}, k_{z} = \\frac{\\sqrt{\\frac{16 \\, \\pi^{2} \\mathit{A1}_{z}^{2} c^{2} \\sigma^{2}}{16 \\, \\pi^{2} \\mathit{A1}_{z}^{2} c^{2} \\sigma^{2} + 32 \\, \\pi^{2} \\mathit{A1}_{z} \\mathit{A2}_{z} c^{2} \\sigma^{2} + 16 \\, \\pi^{2} \\mathit{A2}_{z}^{2} c^{2} \\sigma^{2} - 8 i \\, \\pi \\mathit{A1}_{z}^{2} c \\epsilon \\omega \\sigma - 16 i \\, \\pi \\mathit{A1}_{z} \\mathit{A2}_{z} c \\epsilon \\omega \\sigma - 8 i \\, \\pi \\mathit{A2}_{z}^{2} c \\epsilon \\omega \\sigma - \\mathit{A1}_{z}^{2} \\epsilon^{2} \\omega^{2} - 2 \\, \\mathit{A1}_{z} \\mathit{A2}_{z} \\epsilon^{2} \\omega^{2} - \\mathit{A2}_{z}^{2} \\epsilon^{2} \\omega^{2} + \\mathit{A1}_{z}^{2} \\omega^{2} - 2 \\, \\mathit{A1}_{z} \\mathit{A2}_{z} \\omega^{2} + \\mathit{A2}_{z}^{2} \\omega^{2}} + \\frac{32 \\, \\pi^{2} \\mathit{A1}_{z} \\mathit{A2}_{z} c^{2} \\sigma^{2}}{16 \\, \\pi^{2} \\mathit{A1}_{z}^{2} c^{2} \\sigma^{2} + 32 \\, \\pi^{2} \\mathit{A1}_{z} \\mathit{A2}_{z} c^{2} \\sigma^{2} + 16 \\, \\pi^{2} \\mathit{A2}_{z}^{2} c^{2} \\sigma^{2} - 8 i \\, \\pi \\mathit{A1}_{z}^{2} c \\epsilon \\omega \\sigma - 16 i \\, \\pi \\mathit{A1}_{z} \\mathit{A2}_{z} c \\epsilon \\omega \\sigma - 8 i \\, \\pi \\mathit{A2}_{z}^{2} c \\epsilon \\omega \\sigma - \\mathit{A1}_{z}^{2} \\epsilon^{2} \\omega^{2} - 2 \\, \\mathit{A1}_{z} \\mathit{A2}_{z} \\epsilon^{2} \\omega^{2} - \\mathit{A2}_{z}^{2} \\epsilon^{2} \\omega^{2} + \\mathit{A1}_{z}^{2} \\omega^{2} - 2 \\, \\mathit{A1}_{z} \\mathit{A2}_{z} \\omega^{2} + \\mathit{A2}_{z}^{2} \\omega^{2}} + \\frac{16 \\, \\pi^{2} \\mathit{A2}_{z}^{2} c^{2} \\sigma^{2}}{16 \\, \\pi^{2} \\mathit{A1}_{z}^{2} c^{2} \\sigma^{2} + 32 \\, \\pi^{2} \\mathit{A1}_{z} \\mathit{A2}_{z} c^{2} \\sigma^{2} + 16 \\, \\pi^{2} \\mathit{A2}_{z}^{2} c^{2} \\sigma^{2} - 8 i \\, \\pi \\mathit{A1}_{z}^{2} c \\epsilon \\omega \\sigma - 16 i \\, \\pi \\mathit{A1}_{z} \\mathit{A2}_{z} c \\epsilon \\omega \\sigma - 8 i \\, \\pi \\mathit{A2}_{z}^{2} c \\epsilon \\omega \\sigma - \\mathit{A1}_{z}^{2} \\epsilon^{2} \\omega^{2} - 2 \\, \\mathit{A1}_{z} \\mathit{A2}_{z} \\epsilon^{2} \\omega^{2} - \\mathit{A2}_{z}^{2} \\epsilon^{2} \\omega^{2} + \\mathit{A1}_{z}^{2} \\omega^{2} - 2 \\, \\mathit{A1}_{z} \\mathit{A2}_{z} \\omega^{2} + \\mathit{A2}_{z}^{2} \\omega^{2}} - \\frac{8 i \\, \\pi \\mathit{A1}_{z}^{2} c \\epsilon \\omega \\sigma}{16 \\, \\pi^{2} \\mathit{A1}_{z}^{2} c^{2} \\sigma^{2} + 32 \\, \\pi^{2} \\mathit{A1}_{z} \\mathit{A2}_{z} c^{2} \\sigma^{2} + 16 \\, \\pi^{2} \\mathit{A2}_{z}^{2} c^{2} \\sigma^{2} - 8 i \\, \\pi \\mathit{A1}_{z}^{2} c \\epsilon \\omega \\sigma - 16 i \\, \\pi \\mathit{A1}_{z} \\mathit{A2}_{z} c \\epsilon \\omega \\sigma - 8 i \\, \\pi \\mathit{A2}_{z}^{2} c \\epsilon \\omega \\sigma - \\mathit{A1}_{z}^{2} \\epsilon^{2} \\omega^{2} - 2 \\, \\mathit{A1}_{z} \\mathit{A2}_{z} \\epsilon^{2} \\omega^{2} - \\mathit{A2}_{z}^{2} \\epsilon^{2} \\omega^{2} + \\mathit{A1}_{z}^{2} \\omega^{2} - 2 \\, \\mathit{A1}_{z} \\mathit{A2}_{z} \\omega^{2} + \\mathit{A2}_{z}^{2} \\omega^{2}} - \\frac{16 i \\, \\pi \\mathit{A1}_{z} \\mathit{A2}_{z} c \\epsilon \\omega \\sigma}{16 \\, \\pi^{2} \\mathit{A1}_{z}^{2} c^{2} \\sigma^{2} + 32 \\, \\pi^{2} \\mathit{A1}_{z} \\mathit{A2}_{z} c^{2} \\sigma^{2} + 16 \\, \\pi^{2} \\mathit{A2}_{z}^{2} c^{2} \\sigma^{2} - 8 i \\, \\pi \\mathit{A1}_{z}^{2} c \\epsilon \\omega \\sigma - 16 i \\, \\pi \\mathit{A1}_{z} \\mathit{A2}_{z} c \\epsilon \\omega \\sigma - 8 i \\, \\pi \\mathit{A2}_{z}^{2} c \\epsilon \\omega \\sigma - \\mathit{A1}_{z}^{2} \\epsilon^{2} \\omega^{2} - 2 \\, \\mathit{A1}_{z} \\mathit{A2}_{z} \\epsilon^{2} \\omega^{2} - \\mathit{A2}_{z}^{2} \\epsilon^{2} \\omega^{2} + \\mathit{A1}_{z}^{2} \\omega^{2} - 2 \\, \\mathit{A1}_{z} \\mathit{A2}_{z} \\omega^{2} + \\mathit{A2}_{z}^{2} \\omega^{2}} - \\frac{8 i \\, \\pi \\mathit{A2}_{z}^{2} c \\epsilon \\omega \\sigma}{16 \\, \\pi^{2} \\mathit{A1}_{z}^{2} c^{2} \\sigma^{2} + 32 \\, \\pi^{2} \\mathit{A1}_{z} \\mathit{A2}_{z} c^{2} \\sigma^{2} + 16 \\, \\pi^{2} \\mathit{A2}_{z}^{2} c^{2} \\sigma^{2} - 8 i \\, \\pi \\mathit{A1}_{z}^{2} c \\epsilon \\omega \\sigma - 16 i \\, \\pi \\mathit{A1}_{z} \\mathit{A2}_{z} c \\epsilon \\omega \\sigma - 8 i \\, \\pi \\mathit{A2}_{z}^{2} c \\epsilon \\omega \\sigma - \\mathit{A1}_{z}^{2} \\epsilon^{2} \\omega^{2} - 2 \\, \\mathit{A1}_{z} \\mathit{A2}_{z} \\epsilon^{2} \\omega^{2} - \\mathit{A2}_{z}^{2} \\epsilon^{2} \\omega^{2} + \\mathit{A1}_{z}^{2} \\omega^{2} - 2 \\, \\mathit{A1}_{z} \\mathit{A2}_{z} \\omega^{2} + \\mathit{A2}_{z}^{2} \\omega^{2}} + \\frac{4 i \\, \\pi \\mathit{A1}_{z}^{2} c \\mu \\omega \\sigma}{16 \\, \\pi^{2} \\mathit{A1}_{z}^{2} c^{2} \\sigma^{2} + 32 \\, \\pi^{2} \\mathit{A1}_{z} \\mathit{A2}_{z} c^{2} \\sigma^{2} + 16 \\, \\pi^{2} \\mathit{A2}_{z}^{2} c^{2} \\sigma^{2} - 8 i \\, \\pi \\mathit{A1}_{z}^{2} c \\epsilon \\omega \\sigma - 16 i \\, \\pi \\mathit{A1}_{z} \\mathit{A2}_{z} c \\epsilon \\omega \\sigma - 8 i \\, \\pi \\mathit{A2}_{z}^{2} c \\epsilon \\omega \\sigma - \\mathit{A1}_{z}^{2} \\epsilon^{2} \\omega^{2} - 2 \\, \\mathit{A1}_{z} \\mathit{A2}_{z} \\epsilon^{2} \\omega^{2} - \\mathit{A2}_{z}^{2} \\epsilon^{2} \\omega^{2} + \\mathit{A1}_{z}^{2} \\omega^{2} - 2 \\, \\mathit{A1}_{z} \\mathit{A2}_{z} \\omega^{2} + \\mathit{A2}_{z}^{2} \\omega^{2}} - \\frac{8 i \\, \\pi \\mathit{A1}_{z} \\mathit{A2}_{z} c \\mu \\omega \\sigma}{16 \\, \\pi^{2} \\mathit{A1}_{z}^{2} c^{2} \\sigma^{2} + 32 \\, \\pi^{2} \\mathit{A1}_{z} \\mathit{A2}_{z} c^{2} \\sigma^{2} + 16 \\, \\pi^{2} \\mathit{A2}_{z}^{2} c^{2} \\sigma^{2} - 8 i \\, \\pi \\mathit{A1}_{z}^{2} c \\epsilon \\omega \\sigma - 16 i \\, \\pi \\mathit{A1}_{z} \\mathit{A2}_{z} c \\epsilon \\omega \\sigma - 8 i \\, \\pi \\mathit{A2}_{z}^{2} c \\epsilon \\omega \\sigma - \\mathit{A1}_{z}^{2} \\epsilon^{2} \\omega^{2} - 2 \\, \\mathit{A1}_{z} \\mathit{A2}_{z} \\epsilon^{2} \\omega^{2} - \\mathit{A2}_{z}^{2} \\epsilon^{2} \\omega^{2} + \\mathit{A1}_{z}^{2} \\omega^{2} - 2 \\, \\mathit{A1}_{z} \\mathit{A2}_{z} \\omega^{2} + \\mathit{A2}_{z}^{2} \\omega^{2}} + \\frac{4 i \\, \\pi \\mathit{A2}_{z}^{2} c \\mu \\omega \\sigma}{16 \\, \\pi^{2} \\mathit{A1}_{z}^{2} c^{2} \\sigma^{2} + 32 \\, \\pi^{2} \\mathit{A1}_{z} \\mathit{A2}_{z} c^{2} \\sigma^{2} + 16 \\, \\pi^{2} \\mathit{A2}_{z}^{2} c^{2} \\sigma^{2} - 8 i \\, \\pi \\mathit{A1}_{z}^{2} c \\epsilon \\omega \\sigma - 16 i \\, \\pi \\mathit{A1}_{z} \\mathit{A2}_{z} c \\epsilon \\omega \\sigma - 8 i \\, \\pi \\mathit{A2}_{z}^{2} c \\epsilon \\omega \\sigma - \\mathit{A1}_{z}^{2} \\epsilon^{2} \\omega^{2} - 2 \\, \\mathit{A1}_{z} \\mathit{A2}_{z} \\epsilon^{2} \\omega^{2} - \\mathit{A2}_{z}^{2} \\epsilon^{2} \\omega^{2} + \\mathit{A1}_{z}^{2} \\omega^{2} - 2 \\, \\mathit{A1}_{z} \\mathit{A2}_{z} \\omega^{2} + \\mathit{A2}_{z}^{2} \\omega^{2}} - \\frac{\\mathit{A1}_{z}^{2} \\epsilon^{2} \\omega^{2}}{16 \\, \\pi^{2} \\mathit{A1}_{z}^{2} c^{2} \\sigma^{2} + 32 \\, \\pi^{2} \\mathit{A1}_{z} \\mathit{A2}_{z} c^{2} \\sigma^{2} + 16 \\, \\pi^{2} \\mathit{A2}_{z}^{2} c^{2} \\sigma^{2} - 8 i \\, \\pi \\mathit{A1}_{z}^{2} c \\epsilon \\omega \\sigma - 16 i \\, \\pi \\mathit{A1}_{z} \\mathit{A2}_{z} c \\epsilon \\omega \\sigma - 8 i \\, \\pi \\mathit{A2}_{z}^{2} c \\epsilon \\omega \\sigma - \\mathit{A1}_{z}^{2} \\epsilon^{2} \\omega^{2} - 2 \\, \\mathit{A1}_{z} \\mathit{A2}_{z} \\epsilon^{2} \\omega^{2} - \\mathit{A2}_{z}^{2} \\epsilon^{2} \\omega^{2} + \\mathit{A1}_{z}^{2} \\omega^{2} - 2 \\, \\mathit{A1}_{z} \\mathit{A2}_{z} \\omega^{2} + \\mathit{A2}_{z}^{2} \\omega^{2}} - \\frac{2 \\, \\mathit{A1}_{z} \\mathit{A2}_{z} \\epsilon^{2} \\omega^{2}}{16 \\, \\pi^{2} \\mathit{A1}_{z}^{2} c^{2} \\sigma^{2} + 32 \\, \\pi^{2} \\mathit{A1}_{z} \\mathit{A2}_{z} c^{2} \\sigma^{2} + 16 \\, \\pi^{2} \\mathit{A2}_{z}^{2} c^{2} \\sigma^{2} - 8 i \\, \\pi \\mathit{A1}_{z}^{2} c \\epsilon \\omega \\sigma - 16 i \\, \\pi \\mathit{A1}_{z} \\mathit{A2}_{z} c \\epsilon \\omega \\sigma - 8 i \\, \\pi \\mathit{A2}_{z}^{2} c \\epsilon \\omega \\sigma - \\mathit{A1}_{z}^{2} \\epsilon^{2} \\omega^{2} - 2 \\, \\mathit{A1}_{z} \\mathit{A2}_{z} \\epsilon^{2} \\omega^{2} - \\mathit{A2}_{z}^{2} \\epsilon^{2} \\omega^{2} + \\mathit{A1}_{z}^{2} \\omega^{2} - 2 \\, \\mathit{A1}_{z} \\mathit{A2}_{z} \\omega^{2} + \\mathit{A2}_{z}^{2} \\omega^{2}} - \\frac{\\mathit{A2}_{z}^{2} \\epsilon^{2} \\omega^{2}}{16 \\, \\pi^{2} \\mathit{A1}_{z}^{2} c^{2} \\sigma^{2} + 32 \\, \\pi^{2} \\mathit{A1}_{z} \\mathit{A2}_{z} c^{2} \\sigma^{2} + 16 \\, \\pi^{2} \\mathit{A2}_{z}^{2} c^{2} \\sigma^{2} - 8 i \\, \\pi \\mathit{A1}_{z}^{2} c \\epsilon \\omega \\sigma - 16 i \\, \\pi \\mathit{A1}_{z} \\mathit{A2}_{z} c \\epsilon \\omega \\sigma - 8 i \\, \\pi \\mathit{A2}_{z}^{2} c \\epsilon \\omega \\sigma - \\mathit{A1}_{z}^{2} \\epsilon^{2} \\omega^{2} - 2 \\, \\mathit{A1}_{z} \\mathit{A2}_{z} \\epsilon^{2} \\omega^{2} - \\mathit{A2}_{z}^{2} \\epsilon^{2} \\omega^{2} + \\mathit{A1}_{z}^{2} \\omega^{2} - 2 \\, \\mathit{A1}_{z} \\mathit{A2}_{z} \\omega^{2} + \\mathit{A2}_{z}^{2} \\omega^{2}} + \\frac{\\mathit{A1}_{z}^{2} \\epsilon \\mu \\omega^{2}}{16 \\, \\pi^{2} \\mathit{A1}_{z}^{2} c^{2} \\sigma^{2} + 32 \\, \\pi^{2} \\mathit{A1}_{z} \\mathit{A2}_{z} c^{2} \\sigma^{2} + 16 \\, \\pi^{2} \\mathit{A2}_{z}^{2} c^{2} \\sigma^{2} - 8 i \\, \\pi \\mathit{A1}_{z}^{2} c \\epsilon \\omega \\sigma - 16 i \\, \\pi \\mathit{A1}_{z} \\mathit{A2}_{z} c \\epsilon \\omega \\sigma - 8 i \\, \\pi \\mathit{A2}_{z}^{2} c \\epsilon \\omega \\sigma - \\mathit{A1}_{z}^{2} \\epsilon^{2} \\omega^{2} - 2 \\, \\mathit{A1}_{z} \\mathit{A2}_{z} \\epsilon^{2} \\omega^{2} - \\mathit{A2}_{z}^{2} \\epsilon^{2} \\omega^{2} + \\mathit{A1}_{z}^{2} \\omega^{2} - 2 \\, \\mathit{A1}_{z} \\mathit{A2}_{z} \\omega^{2} + \\mathit{A2}_{z}^{2} \\omega^{2}} - \\frac{2 \\, \\mathit{A1}_{z} \\mathit{A2}_{z} \\epsilon \\mu \\omega^{2}}{16 \\, \\pi^{2} \\mathit{A1}_{z}^{2} c^{2} \\sigma^{2} + 32 \\, \\pi^{2} \\mathit{A1}_{z} \\mathit{A2}_{z} c^{2} \\sigma^{2} + 16 \\, \\pi^{2} \\mathit{A2}_{z}^{2} c^{2} \\sigma^{2} - 8 i \\, \\pi \\mathit{A1}_{z}^{2} c \\epsilon \\omega \\sigma - 16 i \\, \\pi \\mathit{A1}_{z} \\mathit{A2}_{z} c \\epsilon \\omega \\sigma - 8 i \\, \\pi \\mathit{A2}_{z}^{2} c \\epsilon \\omega \\sigma - \\mathit{A1}_{z}^{2} \\epsilon^{2} \\omega^{2} - 2 \\, \\mathit{A1}_{z} \\mathit{A2}_{z} \\epsilon^{2} \\omega^{2} - \\mathit{A2}_{z}^{2} \\epsilon^{2} \\omega^{2} + \\mathit{A1}_{z}^{2} \\omega^{2} - 2 \\, \\mathit{A1}_{z} \\mathit{A2}_{z} \\omega^{2} + \\mathit{A2}_{z}^{2} \\omega^{2}} + \\frac{\\mathit{A2}_{z}^{2} \\epsilon \\mu \\omega^{2}}{16 \\, \\pi^{2} \\mathit{A1}_{z}^{2} c^{2} \\sigma^{2} + 32 \\, \\pi^{2} \\mathit{A1}_{z} \\mathit{A2}_{z} c^{2} \\sigma^{2} + 16 \\, \\pi^{2} \\mathit{A2}_{z}^{2} c^{2} \\sigma^{2} - 8 i \\, \\pi \\mathit{A1}_{z}^{2} c \\epsilon \\omega \\sigma - 16 i \\, \\pi \\mathit{A1}_{z} \\mathit{A2}_{z} c \\epsilon \\omega \\sigma - 8 i \\, \\pi \\mathit{A2}_{z}^{2} c \\epsilon \\omega \\sigma - \\mathit{A1}_{z}^{2} \\epsilon^{2} \\omega^{2} - 2 \\, \\mathit{A1}_{z} \\mathit{A2}_{z} \\epsilon^{2} \\omega^{2} - \\mathit{A2}_{z}^{2} \\epsilon^{2} \\omega^{2} + \\mathit{A1}_{z}^{2} \\omega^{2} - 2 \\, \\mathit{A1}_{z} \\mathit{A2}_{z} \\omega^{2} + \\mathit{A2}_{z}^{2} \\omega^{2}}} \\omega}{c}\\right]$"
      ],
      "text/plain": [
       "<IPython.core.display.Math object>"
      ]
     },
     "metadata": {},
     "output_type": "display_data"
    }
   ],
   "source": [
    "sol_eq_Dx_a_subs2_kz = solve(eq_Dx_a_subs2, k_z)\n",
    "\n",
    "#print(sol_eq_Dx_a_subs2_kz)\n",
    "display(Math(latex(sol_eq_Dx_a_subs2_kz)))"
   ]
  },
  {
   "cell_type": "code",
   "execution_count": null,
   "metadata": {},
   "outputs": [],
   "source": []
  },
  {
   "cell_type": "code",
   "execution_count": 114,
   "metadata": {},
   "outputs": [
    {
     "data": {
      "text/plain": [
       "A1_x + A2_x == (4*I*pi*c*sigma/omega + epsilon)*B1_x"
      ]
     },
     "execution_count": 114,
     "metadata": {},
     "output_type": "execute_result"
    }
   ],
   "source": [
    "# нормальная компонента электрического смещения\n",
    "# eqDx_a = E_inner_vacuum_sol_x(0) == E_bad_conductor_sol_x(0) * epsilon\n",
    "eqDx_a"
   ]
  },
  {
   "cell_type": "code",
   "execution_count": 115,
   "metadata": {},
   "outputs": [
    {
     "name": "stdout",
     "output_type": "stream",
     "text": [
      "E_inner_vacuum_x(x) == -(A2_z*k_z*e^(2*I*sqrt(-k_z^2 + kappa_vacuum^2)*x) - A1_z*k_z)*e^(-I*sqrt(-k_z^2 + kappa_vacuum^2)*x)/sqrt(-k_z^2 + kappa_vacuum^2)\n"
     ]
    },
    {
     "data": {
      "text/latex": [
       "$\\displaystyle E_{{\\rm inner}_{{\\rm vacuum}_{x}}}\\left(x\\right) = -\\frac{{\\left(\\mathit{A2}_{z} k_{z} e^{\\left(2 i \\, \\sqrt{-k_{z}^{2} + \\kappa_{\\mathit{vacuum}}^{2}} x\\right)} - \\mathit{A1}_{z} k_{z}\\right)} e^{\\left(-i \\, \\sqrt{-k_{z}^{2} + \\kappa_{\\mathit{vacuum}}^{2}} x\\right)}}{\\sqrt{-k_{z}^{2} + \\kappa_{\\mathit{vacuum}}^{2}}}$"
      ],
      "text/plain": [
       "<IPython.core.display.Math object>"
      ]
     },
     "metadata": {},
     "output_type": "display_data"
    }
   ],
   "source": [
    "print             (eq_5_subs4)\n",
    "display(Math(latex(eq_5_subs4)))"
   ]
  },
  {
   "cell_type": "code",
   "execution_count": 116,
   "metadata": {},
   "outputs": [
    {
     "name": "stdout",
     "output_type": "stream",
     "text": [
      "E_bad_conductor_x(x) == -B1_z*k_z*e^(I*sqrt(-k_z^2 + kappa^2)*x)/sqrt(-k_z^2 + kappa^2)\n"
     ]
    },
    {
     "data": {
      "text/latex": [
       "$\\displaystyle E_{{\\rm bad}_{{\\rm conductor}_{x}}}\\left(x\\right) = -\\frac{\\mathit{B1}_{z} k_{z} e^{\\left(i \\, \\sqrt{-k_{z}^{2} + \\kappa^{2}} x\\right)}}{\\sqrt{-k_{z}^{2} + \\kappa^{2}}}$"
      ],
      "text/plain": [
       "<IPython.core.display.Math object>"
      ]
     },
     "metadata": {},
     "output_type": "display_data"
    }
   ],
   "source": [
    "print             (eq_7_subs4)\n",
    "display(Math(latex(eq_7_subs4)))"
   ]
  },
  {
   "cell_type": "code",
   "execution_count": 117,
   "metadata": {},
   "outputs": [
    {
     "name": "stdout",
     "output_type": "stream",
     "text": [
      "(A1_z*k_z - A2_z*k_z)/sqrt(-k_z^2 + kappa_vacuum^2) == -(4*I*pi*c*sigma/omega + epsilon)*B1_z*k_z/sqrt(-k_z^2 + kappa^2)\n"
     ]
    },
    {
     "data": {
      "text/latex": [
       "$\\displaystyle \\frac{\\mathit{A1}_{z} k_{z} - \\mathit{A2}_{z} k_{z}}{\\sqrt{-k_{z}^{2} + \\kappa_{\\mathit{vacuum}}^{2}}} = -\\frac{{\\left(\\frac{4 i \\, \\pi c \\sigma}{\\omega} + \\epsilon\\right)} \\mathit{B1}_{z} k_{z}}{\\sqrt{-k_{z}^{2} + \\kappa^{2}}}$"
      ],
      "text/plain": [
       "<IPython.core.display.Math object>"
      ]
     },
     "metadata": {},
     "output_type": "display_data"
    }
   ],
   "source": [
    "eq_eqDx_a = eq_5_subs4.rhs().subs(x == 0).subs(K_vacuum_subs) \\\n",
    "         == (eq_7_subs4.rhs().subs(x == 0)*epsilon_complex).subs(K_conductor_subs)\n",
    "print             (eq_eqDx_a)\n",
    "display(Math(latex(eq_eqDx_a)))"
   ]
  },
  {
   "cell_type": "code",
   "execution_count": null,
   "metadata": {},
   "outputs": [],
   "source": []
  },
  {
   "cell_type": "code",
   "execution_count": 118,
   "metadata": {},
   "outputs": [
    {
     "name": "stdout",
     "output_type": "stream",
     "text": [
      "eqEz_0 = \n"
     ]
    },
    {
     "data": {
      "text/latex": [
       "$\\displaystyle \\mathit{A1}_{z} e^{\\left(i \\, K_{\\mathit{vacuum}} a\\right)} + \\mathit{A2}_{z} e^{\\left(-i \\, K_{\\mathit{vacuum}} a\\right)} = 0$"
      ],
      "text/plain": [
       "<IPython.core.display.Math object>"
      ]
     },
     "metadata": {},
     "output_type": "display_data"
    },
    {
     "name": "stdout",
     "output_type": "stream",
     "text": [
      "eqEz_0_ = \n"
     ]
    },
    {
     "data": {
      "text/latex": [
       "$\\displaystyle {\\left(i \\, \\mathit{A1}_{z_{\\mathit{im}}} + \\mathit{A1}_{z_{\\mathit{re}}}\\right)} e^{\\left(i \\, K_{\\mathit{vacuum}} a\\right)} + {\\left(i \\, \\mathit{A2}_{z_{\\mathit{im}}} + \\mathit{A2}_{z_{\\mathit{re}}}\\right)} e^{\\left(-i \\, K_{\\mathit{vacuum}} a\\right)} = 0$"
      ],
      "text/plain": [
       "<IPython.core.display.Math object>"
      ]
     },
     "metadata": {},
     "output_type": "display_data"
    },
    {
     "name": "stdout",
     "output_type": "stream",
     "text": [
      "eqEz_0, eqEy_0 = \n"
     ]
    },
    {
     "data": {
      "text/latex": [
       "$\\displaystyle \\left[\\mathit{A1}_{z} e^{\\left(i \\, K_{\\mathit{vacuum}} a\\right)} + \\mathit{A2}_{z} e^{\\left(-i \\, K_{\\mathit{vacuum}} a\\right)} = 0, \\mathit{A1}_{y} e^{\\left(i \\, K_{\\mathit{vacuum}} a\\right)} + \\mathit{A2}_{y} e^{\\left(-i \\, K_{\\mathit{vacuum}} a\\right)} = 0\\right]$"
      ],
      "text/plain": [
       "<IPython.core.display.Math object>"
      ]
     },
     "metadata": {},
     "output_type": "display_data"
    },
    {
     "name": "stdout",
     "output_type": "stream",
     "text": [
      "eqHz_a =\n"
     ]
    },
    {
     "data": {
      "text/latex": [
       "$\\displaystyle -\\frac{i \\, {\\left(i \\, \\mathit{B1}_{y} K_{\\mathit{conductor}} - i \\, \\mathit{B1}_{x} k_{y}\\right)} c}{\\mu \\omega} = -\\frac{i \\, {\\left(-i \\, \\mathit{A1}_{y} K_{\\mathit{vacuum}} + i \\, \\mathit{A2}_{y} K_{\\mathit{vacuum}} - i \\, {\\left(\\mathit{A1}_{x} + \\mathit{A2}_{x}\\right)} k_{y}\\right)} c}{\\omega}$"
      ],
      "text/plain": [
       "<IPython.core.display.Math object>"
      ]
     },
     "metadata": {},
     "output_type": "display_data"
    },
    {
     "name": "stdout",
     "output_type": "stream",
     "text": [
      "eqHy_a =\n"
     ]
    },
    {
     "data": {
      "text/latex": [
       "$\\displaystyle -\\frac{i \\, {\\left(-i \\, \\mathit{B1}_{z} K_{\\mathit{conductor}} + i \\, \\mathit{B1}_{x} k_{z}\\right)} c}{\\mu \\omega} = -\\frac{i \\, {\\left(i \\, \\mathit{A1}_{z} K_{\\mathit{vacuum}} - i \\, \\mathit{A2}_{z} K_{\\mathit{vacuum}} + i \\, {\\left(\\mathit{A1}_{x} + \\mathit{A2}_{x}\\right)} k_{z}\\right)} c}{\\omega}$"
      ],
      "text/plain": [
       "<IPython.core.display.Math object>"
      ]
     },
     "metadata": {},
     "output_type": "display_data"
    },
    {
     "name": "stdout",
     "output_type": "stream",
     "text": [
      "eqHz_a =\n"
     ]
    },
    {
     "data": {
      "text/latex": [
       "$\\displaystyle -\\frac{i \\, {\\left(i \\, {\\left(i \\, \\mathit{B1}_{y_{\\mathit{im}}} + \\mathit{B1}_{y_{\\mathit{re}}}\\right)} K_{\\mathit{conductor}} - i \\, {\\left(i \\, \\mathit{B1}_{x_{\\mathit{im}}} + \\mathit{B1}_{x_{\\mathit{re}}}\\right)} k_{y}\\right)} c}{\\mu \\omega} = -\\frac{i \\, {\\left(-i \\, {\\left(i \\, \\mathit{A1}_{y_{\\mathit{im}}} + \\mathit{A1}_{y_{\\mathit{re}}}\\right)} K_{\\mathit{vacuum}} + i \\, {\\left(i \\, \\mathit{A2}_{y_{\\mathit{im}}} + \\mathit{A2}_{y_{\\mathit{re}}}\\right)} K_{\\mathit{vacuum}} - i \\, {\\left(i \\, \\mathit{A1}_{x_{\\mathit{im}}} + \\mathit{A1}_{x_{\\mathit{re}}} + i \\, \\mathit{A2}_{x_{\\mathit{im}}} + \\mathit{A2}_{x_{\\mathit{re}}}\\right)} k_{y}\\right)} c}{\\omega}$"
      ],
      "text/plain": [
       "<IPython.core.display.Math object>"
      ]
     },
     "metadata": {},
     "output_type": "display_data"
    },
    {
     "name": "stdout",
     "output_type": "stream",
     "text": [
      "eqHy_a =\n"
     ]
    },
    {
     "data": {
      "text/latex": [
       "$\\displaystyle -\\frac{{\\left(4 i \\, \\pi c \\mu \\omega \\sigma + \\epsilon \\mu \\omega^{2}\\right)} {\\left(i \\, \\mathit{A1}_{z_{\\mathit{im}}} + \\mathit{A1}_{z_{\\mathit{re}}} + i \\, \\mathit{A2}_{z_{\\mathit{im}}} + \\mathit{A2}_{z_{\\mathit{re}}}\\right)}}{\\sqrt{-k_{z}^{2} + \\frac{4 i \\, \\pi c \\mu \\omega \\sigma + \\epsilon \\mu \\omega^{2}}{c^{2}}} c^{2} \\mu} = \\frac{{\\left(i \\, \\mathit{A1}_{z_{\\mathit{im}}} + \\mathit{A1}_{z_{\\mathit{re}}} - i \\, \\mathit{A2}_{z_{\\mathit{im}}} - \\mathit{A2}_{z_{\\mathit{re}}}\\right)} \\omega^{2}}{\\sqrt{-k_{z}^{2} + \\frac{\\omega^{2}}{c^{2}}} c^{2}}$"
      ],
      "text/plain": [
       "<IPython.core.display.Math object>"
      ]
     },
     "metadata": {},
     "output_type": "display_data"
    },
    {
     "name": "stdout",
     "output_type": "stream",
     "text": [
      "eqEz_a = \n"
     ]
    },
    {
     "data": {
      "text/latex": [
       "$\\displaystyle \\mathit{B1}_{z} = \\mathit{A1}_{z} + \\mathit{A2}_{z}$"
      ],
      "text/plain": [
       "<IPython.core.display.Math object>"
      ]
     },
     "metadata": {},
     "output_type": "display_data"
    },
    {
     "name": "stdout",
     "output_type": "stream",
     "text": [
      "eqEy_a = \n"
     ]
    },
    {
     "data": {
      "text/latex": [
       "$\\displaystyle \\mathit{B1}_{y} = \\mathit{A1}_{y} + \\mathit{A2}_{y}$"
      ],
      "text/plain": [
       "<IPython.core.display.Math object>"
      ]
     },
     "metadata": {},
     "output_type": "display_data"
    },
    {
     "name": "stdout",
     "output_type": "stream",
     "text": [
      "eqBx_a =\n"
     ]
    },
    {
     "data": {
      "text/latex": [
       "$\\displaystyle -\\frac{i \\, {\\left(i \\, \\mathit{B1}_{z} k_{y} - i \\, \\mathit{B1}_{y} k_{z}\\right)} c}{\\omega} = -\\frac{i \\, {\\left(i \\, {\\left(\\mathit{A1}_{z} + \\mathit{A2}_{z}\\right)} k_{y} - i \\, {\\left(\\mathit{A1}_{y} + \\mathit{A2}_{y}\\right)} k_{z}\\right)} c}{\\omega}$"
      ],
      "text/plain": [
       "<IPython.core.display.Math object>"
      ]
     },
     "metadata": {},
     "output_type": "display_data"
    },
    {
     "name": "stdout",
     "output_type": "stream",
     "text": [
      "eqBx_a_ =\n"
     ]
    },
    {
     "data": {
      "text/latex": [
       "$\\displaystyle -\\frac{i \\, {\\left(i \\, {\\left(i \\, \\mathit{B1}_{z_{\\mathit{im}}} + \\mathit{B1}_{z_{\\mathit{re}}}\\right)} k_{y} - i \\, {\\left(i \\, \\mathit{B1}_{y_{\\mathit{im}}} + \\mathit{B1}_{y_{\\mathit{re}}}\\right)} k_{z}\\right)} c}{\\omega} = -\\frac{i \\, {\\left(i \\, {\\left(i \\, \\mathit{A1}_{z_{\\mathit{im}}} + \\mathit{A1}_{z_{\\mathit{re}}} + i \\, \\mathit{A2}_{z_{\\mathit{im}}} + \\mathit{A2}_{z_{\\mathit{re}}}\\right)} k_{y} - i \\, {\\left(i \\, \\mathit{A1}_{y_{\\mathit{im}}} + \\mathit{A1}_{y_{\\mathit{re}}} + i \\, \\mathit{A2}_{y_{\\mathit{im}}} + \\mathit{A2}_{y_{\\mathit{re}}}\\right)} k_{z}\\right)} c}{\\omega}$"
      ],
      "text/plain": [
       "<IPython.core.display.Math object>"
      ]
     },
     "metadata": {},
     "output_type": "display_data"
    },
    {
     "name": "stdout",
     "output_type": "stream",
     "text": [
      "eqDx_a =\n"
     ]
    },
    {
     "data": {
      "text/latex": [
       "$\\displaystyle \\mathit{A1}_{x} + \\mathit{A2}_{x} = {\\left(\\frac{4 i \\, \\pi c \\sigma}{\\omega} + \\epsilon\\right)} \\mathit{B1}_{x}$"
      ],
      "text/plain": [
       "<IPython.core.display.Math object>"
      ]
     },
     "metadata": {},
     "output_type": "display_data"
    },
    {
     "name": "stdout",
     "output_type": "stream",
     "text": [
      "eqDx_a_ =\n"
     ]
    },
    {
     "data": {
      "text/latex": [
       "$\\displaystyle i \\, \\mathit{A1}_{x_{\\mathit{im}}} + \\mathit{A1}_{x_{\\mathit{re}}} + i \\, \\mathit{A2}_{x_{\\mathit{im}}} + \\mathit{A2}_{x_{\\mathit{re}}} = {\\left(\\frac{4 i \\, \\pi c \\sigma}{\\omega} + \\epsilon\\right)} {\\left(i \\, \\mathit{B1}_{x_{\\mathit{im}}} + \\mathit{B1}_{x_{\\mathit{re}}}\\right)}$"
      ],
      "text/plain": [
       "<IPython.core.display.Math object>"
      ]
     },
     "metadata": {},
     "output_type": "display_data"
    }
   ],
   "source": [
    "# граничные условия на границе идеального проводника и вакуума внутри резонатора\n",
    "# тангенциальная компонента электрического поля\n",
    "\n",
    "print (\"eqEz_0 = \")\n",
    "display(Math(latex(eqEz_0)))\n",
    "\n",
    "eqEz_0_ = eqEz_0.subs(A1_z_re_im_subs).subs(A2_z_re_im_subs)\n",
    "eqEy_0_ = eqEy_0.subs(A1_y_re_im_subs).subs(A2_y_re_im_subs)\n",
    "\n",
    "print (\"eqEz_0_ = \")\n",
    "display(Math(latex(eqEz_0_)))\n",
    "\n",
    "\n",
    "print (\"eqEz_0, eqEy_0 = \")\n",
    "display(Math(latex([eqEz_0, eqEy_0])))\n",
    "\n",
    "# тангенциальная компонента напряженности магнитного поля\n",
    "print (\"eqHz_a =\")\n",
    "display(Math(latex(eqHz_a)))\n",
    "print (\"eqHy_a =\")\n",
    "display(Math(latex(eqHy_a)))\n",
    "\n",
    "eqHz_a_ = eqHz_a \\\n",
    "        .subs(A1_x_re_im_subs).subs(A2_x_re_im_subs) \\\n",
    "        .subs(A1_y_re_im_subs).subs(A2_y_re_im_subs) \\\n",
    "        .subs(A1_z_re_im_subs).subs(A2_z_re_im_subs) \\\n",
    "        .subs(B1_x_re_im_subs) \\\n",
    "        .subs(B1_y_re_im_subs) \\\n",
    "        .subs(B1_z_re_im_subs)\n",
    "\n",
    "\n",
    "# eqHy_a_ = eqHy_a \\\n",
    "eqHy_a_ = eq_Hy_0.subs(kappa_vacuum_sol).subs(kappa_sol) \\\n",
    "        .subs(A1_x_re_im_subs).subs(A2_x_re_im_subs) \\\n",
    "        .subs(A1_y_re_im_subs).subs(A2_y_re_im_subs) \\\n",
    "        .subs(A1_z_re_im_subs).subs(A2_z_re_im_subs) \\\n",
    "        .subs(B1_x_re_im_subs) \\\n",
    "        .subs(B1_y_re_im_subs) \\\n",
    "        .subs(B1_z_re_im_subs)\n",
    "\n",
    "print (\"eqHz_a =\")\n",
    "display(Math(latex(eqHz_a_)))\n",
    "print (\"eqHy_a =\")\n",
    "display(Math(latex(eqHy_a_)))\n",
    "\n",
    "# граничные условия на границе вакуума внутри резонатора и проводящего металла с потерями\n",
    "# тангенциальная компонента электрического поля\n",
    "print (\"eqEz_a = \")\n",
    "display(Math(latex(eqEz_a)))\n",
    "print (\"eqEy_a = \")\n",
    "display(Math(latex(eqEy_a)))\n",
    "\n",
    "eqEz_a_ = eqEz_a \\\n",
    "        .subs(A1_z_re_im_subs).subs(A2_z_re_im_subs) \\\n",
    "        .subs(B1_z_re_im_subs)\n",
    "\n",
    "eqEy_a_ = eqEy_a \\\n",
    "        .subs(A1_y_re_im_subs).subs(A2_y_re_im_subs) \\\n",
    "        .subs(B1_y_re_im_subs)\n",
    "\n",
    "# нормальная компонента индукции магнитного поля\n",
    "#eqBx_a  = mu * H_bad_conductor_sol_x (0)  == H_inner_vacuum_sol_x (0)\n",
    "\n",
    "print (\"eqBx_a =\")\n",
    "display(Math(latex(eqBx_a)))\n",
    "\n",
    "eqBx_a_ = eqBx_a \\\n",
    "        .subs(A1_x_re_im_subs).subs(A2_x_re_im_subs) \\\n",
    "        .subs(A1_y_re_im_subs).subs(A2_y_re_im_subs) \\\n",
    "        .subs(A1_z_re_im_subs).subs(A2_z_re_im_subs) \\\n",
    "        .subs(B1_x_re_im_subs) \\\n",
    "        .subs(B1_y_re_im_subs) \\\n",
    "        .subs(B1_z_re_im_subs)\n",
    "\n",
    "print (\"eqBx_a_ =\")\n",
    "display(Math(latex(eqBx_a_)))\n",
    "\n",
    "# нормальная компонента электрического смещения\n",
    "\n",
    "print (\"eqDx_a =\")\n",
    "display(Math(latex(eqDx_a)))\n",
    "\n",
    "eqDx_a_ = eqDx_a \\\n",
    "        .subs(A1_x_re_im_subs).subs(A2_x_re_im_subs) \\\n",
    "        .subs(A1_y_re_im_subs).subs(A2_y_re_im_subs) \\\n",
    "        .subs(A1_z_re_im_subs).subs(A2_z_re_im_subs) \\\n",
    "        .subs(B1_x_re_im_subs) \\\n",
    "        .subs(B1_y_re_im_subs) \\\n",
    "        .subs(B1_z_re_im_subs)\n",
    "\n",
    "print (\"eqDx_a_ =\")\n",
    "display(Math(latex(eqDx_a_)))"
   ]
  },
  {
   "cell_type": "code",
   "execution_count": 119,
   "metadata": {},
   "outputs": [],
   "source": [
    "# граничные условия на границе идеального проводника и вакуума внутри резонатора\n",
    "# тангенциальная компонента электрического поля"
   ]
  },
  {
   "cell_type": "code",
   "execution_count": 120,
   "metadata": {},
   "outputs": [],
   "source": [
    "eqEz_0_re = eqEz_0_.lhs().real() == 0\n",
    "eqEz_0_im = eqEz_0_.lhs().imag() == 0"
   ]
  },
  {
   "cell_type": "code",
   "execution_count": 121,
   "metadata": {},
   "outputs": [],
   "source": [
    "eqEy_0_re = eqEy_0_.lhs().real() == 0\n",
    "eqEy_0_im = eqEy_0_.lhs().imag() == 0"
   ]
  },
  {
   "cell_type": "code",
   "execution_count": 122,
   "metadata": {},
   "outputs": [],
   "source": [
    "# тангенциальная компонента напряженности магнитного поля"
   ]
  },
  {
   "cell_type": "code",
   "execution_count": 123,
   "metadata": {},
   "outputs": [],
   "source": [
    "#eqHz_a"
   ]
  },
  {
   "cell_type": "code",
   "execution_count": 124,
   "metadata": {},
   "outputs": [],
   "source": [
    "#eqHy_a"
   ]
  },
  {
   "cell_type": "code",
   "execution_count": 125,
   "metadata": {},
   "outputs": [],
   "source": [
    "eqHz_a_re = eqHz_a_.lhs().real() == eqHz_a_.rhs().real()\n",
    "eqHz_a_im = eqHz_a_.lhs().imag() == eqHz_a_.rhs().imag()"
   ]
  },
  {
   "cell_type": "code",
   "execution_count": 126,
   "metadata": {},
   "outputs": [],
   "source": [
    "eqHy_a_re = eqHy_a_.lhs().real() == eqHy_a_.rhs().real()\n",
    "eqHy_a_im = eqHy_a_.lhs().imag() == eqHy_a_.rhs().imag()"
   ]
  },
  {
   "cell_type": "code",
   "execution_count": 127,
   "metadata": {},
   "outputs": [],
   "source": [
    "# граничные условия на границе вакуума внутри резонатора и проводящего металла с потерями\n",
    "# тангенциальная компонента электрического поля"
   ]
  },
  {
   "cell_type": "code",
   "execution_count": 128,
   "metadata": {},
   "outputs": [],
   "source": [
    "#eqEz_a"
   ]
  },
  {
   "cell_type": "code",
   "execution_count": 129,
   "metadata": {},
   "outputs": [],
   "source": [
    "eqEz_a_re = eqEz_a_.lhs().real() == eqEz_a_.rhs().real()\n",
    "eqEz_a_im = eqEz_a_.lhs().imag() == eqEz_a_.rhs().imag()"
   ]
  },
  {
   "cell_type": "code",
   "execution_count": 130,
   "metadata": {},
   "outputs": [],
   "source": [
    "#eqEy_a"
   ]
  },
  {
   "cell_type": "code",
   "execution_count": 131,
   "metadata": {},
   "outputs": [],
   "source": [
    "eqEy_a_re = eqEy_a_.lhs().real() == eqEy_a_.rhs().real()\n",
    "eqEy_a_im = eqEy_a_.lhs().imag() == eqEy_a_.rhs().imag()"
   ]
  },
  {
   "cell_type": "code",
   "execution_count": 132,
   "metadata": {},
   "outputs": [],
   "source": [
    "# нормальная компонента индукции магнитного поля\n",
    "# на границе вакуума внутри резонатора и проводящего металла с потерями"
   ]
  },
  {
   "cell_type": "code",
   "execution_count": 133,
   "metadata": {},
   "outputs": [],
   "source": [
    "#eqBx_a"
   ]
  },
  {
   "cell_type": "code",
   "execution_count": 134,
   "metadata": {},
   "outputs": [],
   "source": [
    "eqBx_a_re = eqBx_a_.lhs().real() == eqBx_a_.rhs().real()\n",
    "eqBx_a_im = eqBx_a_.lhs().imag() == eqBx_a_.rhs().imag()"
   ]
  },
  {
   "cell_type": "code",
   "execution_count": 135,
   "metadata": {},
   "outputs": [],
   "source": [
    "# нормальная компонента электрического смещения\n",
    "# на границе вакуума внутри резонатора и проводящего металла с потерями"
   ]
  },
  {
   "cell_type": "code",
   "execution_count": 136,
   "metadata": {},
   "outputs": [],
   "source": [
    "#eqDx_a"
   ]
  },
  {
   "cell_type": "code",
   "execution_count": 137,
   "metadata": {},
   "outputs": [],
   "source": [
    "eqDx_a_re = eqDx_a_.lhs().real() == eqDx_a_.rhs().real()\n",
    "eqDx_a_im = eqDx_a_.lhs().imag() == eqDx_a_.rhs().imag()"
   ]
  },
  {
   "cell_type": "code",
   "execution_count": 138,
   "metadata": {},
   "outputs": [
    {
     "data": {
      "text/latex": [
       "$\\displaystyle k_{z} = \\kappa \\omega \\sqrt{\\frac{{\\left(\\mathit{A1}_{z}^{2} + 2 \\, \\mathit{A1}_{z} \\mathit{A2}_{z} + \\mathit{A2}_{z}^{2}\\right)} c^{2} \\kappa^{2} - {\\left(\\mathit{A1}_{z}^{2} - 2 \\, \\mathit{A1}_{z} \\mathit{A2}_{z} + \\mathit{A2}_{z}^{2}\\right)} \\mu^{2} \\omega^{2}}{{\\left(\\mathit{A1}_{z}^{2} + 2 \\, \\mathit{A1}_{z} \\mathit{A2}_{z} + \\mathit{A2}_{z}^{2}\\right)} c^{4} \\kappa^{4} - {\\left(\\mathit{A1}_{z}^{2} - 2 \\, \\mathit{A1}_{z} \\mathit{A2}_{z} + \\mathit{A2}_{z}^{2}\\right)} \\mu^{2} \\omega^{4}}}$"
      ],
      "text/plain": [
       "<IPython.core.display.Math object>"
      ]
     },
     "metadata": {},
     "output_type": "display_data"
    }
   ],
   "source": [
    "display(Math(latex(k_z_sol_subs)))"
   ]
  },
  {
   "cell_type": "code",
   "execution_count": 139,
   "metadata": {},
   "outputs": [],
   "source": [
    "k_z_sol_subs = k_z_sol_subs.subs(K_vacuum_subs).subs(K_conductor_subs).subs(kappa_vacuum_sol).subs(kappa_sol) \\\n",
    "    .subs(A1_z == A1_z_re + I * A1_z_im) \\\n",
    "    .subs(A2_z == A2_z_re + I * A2_z_im)"
   ]
  },
  {
   "cell_type": "code",
   "execution_count": 140,
   "metadata": {},
   "outputs": [
    {
     "data": {
      "text/latex": [
       "$\\displaystyle k_{z} = \\frac{\\sqrt{4 i \\, \\pi c \\mu \\omega \\sigma + \\epsilon \\mu \\omega^{2}} \\omega \\sqrt{\\frac{{\\left({\\left(i \\, \\mathit{A1}_{z_{\\mathit{im}}} + \\mathit{A1}_{z_{\\mathit{re}}}\\right)}^{2} - 2 \\, {\\left(i \\, \\mathit{A1}_{z_{\\mathit{im}}} + \\mathit{A1}_{z_{\\mathit{re}}}\\right)} {\\left(i \\, \\mathit{A2}_{z_{\\mathit{im}}} + \\mathit{A2}_{z_{\\mathit{re}}}\\right)} + {\\left(i \\, \\mathit{A2}_{z_{\\mathit{im}}} + \\mathit{A2}_{z_{\\mathit{re}}}\\right)}^{2}\\right)} \\mu^{2} \\omega^{2} - {\\left(4 i \\, \\pi c \\mu \\omega \\sigma + \\epsilon \\mu \\omega^{2}\\right)} {\\left({\\left(i \\, \\mathit{A1}_{z_{\\mathit{im}}} + \\mathit{A1}_{z_{\\mathit{re}}}\\right)}^{2} + 2 \\, {\\left(i \\, \\mathit{A1}_{z_{\\mathit{im}}} + \\mathit{A1}_{z_{\\mathit{re}}}\\right)} {\\left(i \\, \\mathit{A2}_{z_{\\mathit{im}}} + \\mathit{A2}_{z_{\\mathit{re}}}\\right)} + {\\left(i \\, \\mathit{A2}_{z_{\\mathit{im}}} + \\mathit{A2}_{z_{\\mathit{re}}}\\right)}^{2}\\right)}}{{\\left({\\left(i \\, \\mathit{A1}_{z_{\\mathit{im}}} + \\mathit{A1}_{z_{\\mathit{re}}}\\right)}^{2} - 2 \\, {\\left(i \\, \\mathit{A1}_{z_{\\mathit{im}}} + \\mathit{A1}_{z_{\\mathit{re}}}\\right)} {\\left(i \\, \\mathit{A2}_{z_{\\mathit{im}}} + \\mathit{A2}_{z_{\\mathit{re}}}\\right)} + {\\left(i \\, \\mathit{A2}_{z_{\\mathit{im}}} + \\mathit{A2}_{z_{\\mathit{re}}}\\right)}^{2}\\right)} \\mu^{2} \\omega^{4} - {\\left(4 i \\, \\pi c \\mu \\omega \\sigma + \\epsilon \\mu \\omega^{2}\\right)}^{2} {\\left({\\left(i \\, \\mathit{A1}_{z_{\\mathit{im}}} + \\mathit{A1}_{z_{\\mathit{re}}}\\right)}^{2} + 2 \\, {\\left(i \\, \\mathit{A1}_{z_{\\mathit{im}}} + \\mathit{A1}_{z_{\\mathit{re}}}\\right)} {\\left(i \\, \\mathit{A2}_{z_{\\mathit{im}}} + \\mathit{A2}_{z_{\\mathit{re}}}\\right)} + {\\left(i \\, \\mathit{A2}_{z_{\\mathit{im}}} + \\mathit{A2}_{z_{\\mathit{re}}}\\right)}^{2}\\right)}}}}{c}$"
      ],
      "text/plain": [
       "<IPython.core.display.Math object>"
      ]
     },
     "metadata": {},
     "output_type": "display_data"
    }
   ],
   "source": [
    "display(Math(latex(k_z_sol_subs)))"
   ]
  },
  {
   "cell_type": "code",
   "execution_count": 141,
   "metadata": {},
   "outputs": [
    {
     "data": {
      "text/plain": [
       "(A1_z_im, A1_z_re, A2_z_im, A2_z_re, c, epsilon, mu, omega, sigma)"
      ]
     },
     "execution_count": 141,
     "metadata": {},
     "output_type": "execute_result"
    }
   ],
   "source": [
    "K_vacuum_s = K_vacuum_subs.subs(k_z_sol_subs).subs(kappa_vacuum_sol).subs(kappa_sol)\n",
    "K_vacuum_s.rhs().variables()"
   ]
  },
  {
   "cell_type": "code",
   "execution_count": 142,
   "metadata": {},
   "outputs": [
    {
     "data": {
      "text/plain": [
       "(A1_z_im, A1_z_re, A2_z_im, A2_z_re, c, epsilon, mu, omega, sigma)"
      ]
     },
     "execution_count": 142,
     "metadata": {},
     "output_type": "execute_result"
    }
   ],
   "source": [
    "K_conductor_s = K_conductor_subs.subs(k_z_sol_subs).subs(kappa_vacuum_sol).subs(kappa_sol)\n",
    "K_conductor_s.rhs().variables()"
   ]
  },
  {
   "cell_type": "code",
   "execution_count": 143,
   "metadata": {},
   "outputs": [],
   "source": [
    "#k_z_sol_subs"
   ]
  },
  {
   "cell_type": "code",
   "execution_count": 144,
   "metadata": {},
   "outputs": [
    {
     "data": {
      "text/plain": [
       "(A1_z_im, A1_z_re, A2_z_im, A2_z_re, c, epsilon, mu, omega, sigma)"
      ]
     },
     "execution_count": 144,
     "metadata": {},
     "output_type": "execute_result"
    }
   ],
   "source": [
    "K_vacuum_s = K_vacuum_subs.subs(k_z_sol_subs).subs(kappa_vacuum_sol).subs(kappa_sol) \\\n",
    "    .subs(A1_z == A1_z_re + I * A1_z_im) \\\n",
    "    .subs(A2_z == A2_z_re + I * A2_z_im)\n",
    "\n",
    "K_vacuum_s.rhs().variables()"
   ]
  },
  {
   "cell_type": "code",
   "execution_count": 145,
   "metadata": {},
   "outputs": [
    {
     "data": {
      "text/plain": [
       "(A1_z_im, A1_z_re, A2_z_im, A2_z_re, c, epsilon, mu, omega, sigma)"
      ]
     },
     "execution_count": 145,
     "metadata": {},
     "output_type": "execute_result"
    }
   ],
   "source": [
    "K_conductor_s = K_conductor_subs.subs(k_z_sol_subs).subs(kappa_vacuum_sol).subs(kappa_sol) \\\n",
    "    .subs(A1_z == A1_z_re + I * A1_z_im) \\\n",
    "    .subs(A2_z == A2_z_re + I * A2_z_im)\n",
    "\n",
    "K_conductor_s.rhs().variables()"
   ]
  },
  {
   "cell_type": "code",
   "execution_count": null,
   "metadata": {},
   "outputs": [],
   "source": []
  },
  {
   "cell_type": "code",
   "execution_count": 146,
   "metadata": {},
   "outputs": [
    {
     "data": {
      "text/plain": [
       "([mu == 1, c == 29979245800, sigma == 1000, epsilon == 1000, a == 1],\n",
       " 2.98046134067857e7)"
      ]
     },
     "execution_count": 146,
     "metadata": {},
     "output_type": "execute_result"
    }
   ],
   "source": [
    "# sgs\n",
    "A = 1\n",
    "kappa_A_max = 13*pi.n()/2\n",
    "s_A_max = 20\n",
    "epsilon_d = 1000\n",
    "# на низких частотах ферриты обладают высокой относительной диэлектрической проницаемостью, примерно 10^5\n",
    "\n",
    "lambda_d = 632*100*10^-9\n",
    "# 632 nm\n",
    "\n",
    "lambda_d = 632*100*10^-6\n",
    "# 0.632 mm\n",
    "\n",
    "lambda_d = 632*100*10^-4*1000\n",
    "# 63.2 mm\n",
    "# 6.32 sm\n",
    "\n",
    "c_value  = [ c == 299792458 * 100]\n",
    "omega_value = [ omega  == ((2*pi * c)/ lambda_d).subs (c_value) ]\n",
    "digit_values_init = [mu == 1, c == 299792458 * 100, sigma == 1000, epsilon == epsilon_d, a == A]\n",
    "digit_values = digit_values_init\n",
    "digit_values, omega_value[0].rhs().n()"
   ]
  },
  {
   "cell_type": "code",
   "execution_count": 147,
   "metadata": {},
   "outputs": [
    {
     "data": {
      "text/plain": [
       "(A1_z_im, A1_z_re, A2_z_im, A2_z_re, omega)"
      ]
     },
     "execution_count": 147,
     "metadata": {},
     "output_type": "execute_result"
    }
   ],
   "source": [
    "K_vacuum_s_d = K_vacuum_s.subs(digit_values)\n",
    "K_vacuum_s_d.rhs().variables()"
   ]
  },
  {
   "cell_type": "code",
   "execution_count": 148,
   "metadata": {},
   "outputs": [
    {
     "data": {
      "text/plain": [
       "(A1_z_im, A1_z_re, A2_z_im, A2_z_re, omega)"
      ]
     },
     "execution_count": 148,
     "metadata": {},
     "output_type": "execute_result"
    }
   ],
   "source": [
    "K_conductor_s_d = K_conductor_s.subs(digit_values)\n",
    "K_conductor_s_d.rhs().variables()"
   ]
  },
  {
   "cell_type": "code",
   "execution_count": 149,
   "metadata": {},
   "outputs": [
    {
     "name": "stdout",
     "output_type": "stream",
     "text": [
      "[mu == 1, c == 29979245800, sigma == 1000, epsilon == 1000, a == 1, omega == 749481145/79*pi]\n"
     ]
    }
   ],
   "source": [
    "digit_values = digit_values_init\n",
    "digit_values += omega_value\n",
    "#digit_values += A1_z_subs\n",
    "print (digit_values)"
   ]
  },
  {
   "cell_type": "code",
   "execution_count": 150,
   "metadata": {},
   "outputs": [
    {
     "data": {
      "text/plain": [
       "[k_y == 0]"
      ]
     },
     "execution_count": 150,
     "metadata": {},
     "output_type": "execute_result"
    }
   ],
   "source": [
    "# отсутсвие изменения поля вдоль оси y\n",
    "k_y0_subs = [k_y == 0]\n",
    "\n",
    "#            A1_y_im == 0, \\\n",
    "#            A1_y_re == 0, \\\n",
    "#            A2_y_im == 0, \\\n",
    "#            A2_y_re == 0]\n",
    "k_y0_subs"
   ]
  },
  {
   "cell_type": "code",
   "execution_count": 151,
   "metadata": {},
   "outputs": [],
   "source": [
    "K_vacuum_subs_2 = K_vacuum_subs.subs(kappa_vacuum_sol)"
   ]
  },
  {
   "cell_type": "code",
   "execution_count": 152,
   "metadata": {},
   "outputs": [],
   "source": [
    "K_conductor_subs_2 = K_conductor_subs.subs(kappa_sol)"
   ]
  },
  {
   "cell_type": "code",
   "execution_count": 153,
   "metadata": {},
   "outputs": [],
   "source": [
    "K_vacuum_subs_3 = K_vacuum_subs.subs(kappa_vacuum_sol)"
   ]
  },
  {
   "cell_type": "code",
   "execution_count": 154,
   "metadata": {},
   "outputs": [],
   "source": [
    "K_conductor_subs_3 = K_conductor_subs.subs(kappa_sol)"
   ]
  },
  {
   "cell_type": "code",
   "execution_count": 155,
   "metadata": {},
   "outputs": [],
   "source": [
    "K_vacuum_subs_4 = K_vacuum_subs_3.subs(k_z = kz + I * sz)"
   ]
  },
  {
   "cell_type": "code",
   "execution_count": 156,
   "metadata": {},
   "outputs": [],
   "source": [
    "K_conductor_subs_4 = K_conductor_subs_3.subs(k_z = kz + I * sz)"
   ]
  },
  {
   "cell_type": "code",
   "execution_count": 157,
   "metadata": {},
   "outputs": [],
   "source": [
    "# граничные условия на границе идеального проводника и вакуума внутри резонатора\n",
    "# тангенциальная компонента электрического поля"
   ]
  },
  {
   "cell_type": "code",
   "execution_count": 158,
   "metadata": {},
   "outputs": [],
   "source": [
    "eqEz_0_subs = eqEz_0.subs(K_vacuum_subs_3)"
   ]
  },
  {
   "cell_type": "code",
   "execution_count": 159,
   "metadata": {},
   "outputs": [],
   "source": [
    "eqEz_0_re_subs = eqEz_0_re.subs(K_vacuum_subs_3)\n",
    "eqEz_0_im_subs = eqEz_0_im.subs(K_vacuum_subs_3)"
   ]
  },
  {
   "cell_type": "code",
   "execution_count": 160,
   "metadata": {},
   "outputs": [],
   "source": [
    "eqEy_0_re_subs = eqEy_0_re.subs(K_vacuum_subs_3)\n",
    "eqEy_0_im_subs = eqEy_0_im.subs(K_vacuum_subs_3)"
   ]
  },
  {
   "cell_type": "code",
   "execution_count": 161,
   "metadata": {},
   "outputs": [
    {
     "data": {
      "text/plain": [
       "(A1_z_im, A1_z_re, A2_z_im, A2_z_re, a, c, k_z, omega)"
      ]
     },
     "execution_count": 161,
     "metadata": {},
     "output_type": "execute_result"
    }
   ],
   "source": [
    "eqEz_0_re_subs.variables()"
   ]
  },
  {
   "cell_type": "code",
   "execution_count": 162,
   "metadata": {},
   "outputs": [],
   "source": [
    "# тангенциальная компонента напряженности магнитного поля\n",
    "# на границе вакуума внутри резонатора и проводящего металла с потерями"
   ]
  },
  {
   "cell_type": "code",
   "execution_count": 163,
   "metadata": {},
   "outputs": [],
   "source": [
    "eqHy_a_subs = eqHy_a.subs(K_vacuum_subs_3).subs(K_conductor_subs_3)"
   ]
  },
  {
   "cell_type": "code",
   "execution_count": 164,
   "metadata": {},
   "outputs": [],
   "source": [
    "eqHy_a_re_subs = eqHy_a_re.subs(K_vacuum_subs_3).subs(K_conductor_subs_3)\n",
    "eqHy_a_im_subs = eqHy_a_im.subs(K_vacuum_subs_3).subs(K_conductor_subs_3)"
   ]
  },
  {
   "cell_type": "code",
   "execution_count": 165,
   "metadata": {},
   "outputs": [],
   "source": [
    "eqHz_a_re_subs = eqHz_a_re.subs(K_vacuum_subs_3).subs(K_conductor_subs_3)\n",
    "eqHz_a_im_subs = eqHz_a_im.subs(K_vacuum_subs_3).subs(K_conductor_subs_3)"
   ]
  },
  {
   "cell_type": "code",
   "execution_count": 166,
   "metadata": {},
   "outputs": [],
   "source": [
    "# граничные условия на границе идеального проводника и вакуума внутри резонатора\n",
    "# тангенциальная компонента электрического поля"
   ]
  },
  {
   "cell_type": "code",
   "execution_count": 167,
   "metadata": {},
   "outputs": [],
   "source": [
    "eqEz_a_subs = eqEz_a"
   ]
  },
  {
   "cell_type": "code",
   "execution_count": 168,
   "metadata": {},
   "outputs": [],
   "source": [
    "eqEz_a_re_subs = eqEz_a_re\n",
    "eqEz_a_im_subs = eqEz_a_im"
   ]
  },
  {
   "cell_type": "code",
   "execution_count": 169,
   "metadata": {},
   "outputs": [],
   "source": [
    "eqEy_a_re_subs = eqEy_a_re\n",
    "eqEy_a_im_subs = eqEy_a_im"
   ]
  },
  {
   "cell_type": "code",
   "execution_count": 170,
   "metadata": {},
   "outputs": [],
   "source": [
    "# нормальная компонента индукции магнитного поля\n",
    "# на границе вакуума внутри резонатора и проводящего металла с потерями"
   ]
  },
  {
   "cell_type": "code",
   "execution_count": 171,
   "metadata": {},
   "outputs": [],
   "source": [
    "eqBx_a_re_subs = eqBx_a_re.subs(kappa_vacuum_sol)\n",
    "eqBx_a_im_subs = eqBx_a_im.subs(kappa_vacuum_sol)"
   ]
  },
  {
   "cell_type": "code",
   "execution_count": 172,
   "metadata": {},
   "outputs": [],
   "source": [
    "# нормальная компонента электрического смещения\n",
    "# на границе вакуума внутри резонатора и проводящего металла с потерями"
   ]
  },
  {
   "cell_type": "code",
   "execution_count": 173,
   "metadata": {},
   "outputs": [],
   "source": [
    "eqDx_a_re_subs = eqDx_a_re.subs(kappa_vacuum_sol)\n",
    "eqDx_a_im_subs = eqDx_a_im.subs(kappa_vacuum_sol)"
   ]
  },
  {
   "cell_type": "code",
   "execution_count": 174,
   "metadata": {},
   "outputs": [
    {
     "name": "stdout",
     "output_type": "stream",
     "text": [
      "A2_z_re*cos(-a*real_part(K_vacuum))*e^(a*imag_part(K_vacuum)) + A1_z_re*cos(a*real_part(K_vacuum))*e^(-a*imag_part(K_vacuum)) - A1_z_im*e^(-a*imag_part(K_vacuum))*sin(a*real_part(K_vacuum)) - A2_z_im*e^(a*imag_part(K_vacuum))*sin(-a*real_part(K_vacuum)) == 0\n",
      "A2_z_im*cos(-a*real_part(K_vacuum))*e^(a*imag_part(K_vacuum)) + A1_z_im*cos(a*real_part(K_vacuum))*e^(-a*imag_part(K_vacuum)) + A1_z_re*e^(-a*imag_part(K_vacuum))*sin(a*real_part(K_vacuum)) + A2_z_re*e^(a*imag_part(K_vacuum))*sin(-a*real_part(K_vacuum)) == 0\n",
      "A2_y_re*cos(-a*real_part(K_vacuum))*e^(a*imag_part(K_vacuum)) + A1_y_re*cos(a*real_part(K_vacuum))*e^(-a*imag_part(K_vacuum)) - A1_y_im*e^(-a*imag_part(K_vacuum))*sin(a*real_part(K_vacuum)) - A2_y_im*e^(a*imag_part(K_vacuum))*sin(-a*real_part(K_vacuum)) == 0\n",
      "A2_y_im*cos(-a*real_part(K_vacuum))*e^(a*imag_part(K_vacuum)) + A1_y_im*cos(a*real_part(K_vacuum))*e^(-a*imag_part(K_vacuum)) + A1_y_re*e^(-a*imag_part(K_vacuum))*sin(a*real_part(K_vacuum)) + A2_y_re*e^(a*imag_part(K_vacuum))*sin(-a*real_part(K_vacuum)) == 0\n",
      "4*pi*A1_z_im*omega*sigma*cos(-1/2*arctan2(4*pi*mu*omega*sigma/c - 2*imag_part(k_z)*real_part(k_z), epsilon*mu*omega^2/c^2 + imag_part(k_z)^2 - real_part(k_z)^2))/(c*sqrt(abs(4*I*pi*mu*omega*sigma/c - k_z^2 + epsilon*mu*omega^2/c^2))) + 4*pi*A2_z_im*omega*sigma*cos(-1/2*arctan2(4*pi*mu*omega*sigma/c - 2*imag_part(k_z)*real_part(k_z), epsilon*mu*omega^2/c^2 + imag_part(k_z)^2 - real_part(k_z)^2))/(c*sqrt(abs(4*I*pi*mu*omega*sigma/c - k_z^2 + epsilon*mu*omega^2/c^2))) + 4*pi*A1_z_re*omega*sigma*sin(-1/2*arctan2(4*pi*mu*omega*sigma/c - 2*imag_part(k_z)*real_part(k_z), epsilon*mu*omega^2/c^2 + imag_part(k_z)^2 - real_part(k_z)^2))/(c*sqrt(abs(4*I*pi*mu*omega*sigma/c - k_z^2 + epsilon*mu*omega^2/c^2))) + 4*pi*A2_z_re*omega*sigma*sin(-1/2*arctan2(4*pi*mu*omega*sigma/c - 2*imag_part(k_z)*real_part(k_z), epsilon*mu*omega^2/c^2 + imag_part(k_z)^2 - real_part(k_z)^2))/(c*sqrt(abs(4*I*pi*mu*omega*sigma/c - k_z^2 + epsilon*mu*omega^2/c^2))) - A1_z_re*epsilon*omega^2*cos(-1/2*arctan2(4*pi*mu*omega*sigma/c - 2*imag_part(k_z)*real_part(k_z), epsilon*mu*omega^2/c^2 + imag_part(k_z)^2 - real_part(k_z)^2))/(c^2*sqrt(abs(4*I*pi*mu*omega*sigma/c - k_z^2 + epsilon*mu*omega^2/c^2))) - A2_z_re*epsilon*omega^2*cos(-1/2*arctan2(4*pi*mu*omega*sigma/c - 2*imag_part(k_z)*real_part(k_z), epsilon*mu*omega^2/c^2 + imag_part(k_z)^2 - real_part(k_z)^2))/(c^2*sqrt(abs(4*I*pi*mu*omega*sigma/c - k_z^2 + epsilon*mu*omega^2/c^2))) + A1_z_im*epsilon*omega^2*sin(-1/2*arctan2(4*pi*mu*omega*sigma/c - 2*imag_part(k_z)*real_part(k_z), epsilon*mu*omega^2/c^2 + imag_part(k_z)^2 - real_part(k_z)^2))/(c^2*sqrt(abs(4*I*pi*mu*omega*sigma/c - k_z^2 + epsilon*mu*omega^2/c^2))) + A2_z_im*epsilon*omega^2*sin(-1/2*arctan2(4*pi*mu*omega*sigma/c - 2*imag_part(k_z)*real_part(k_z), epsilon*mu*omega^2/c^2 + imag_part(k_z)^2 - real_part(k_z)^2))/(c^2*sqrt(abs(4*I*pi*mu*omega*sigma/c - k_z^2 + epsilon*mu*omega^2/c^2))) == A1_z_re*omega^2*cos(-1/2*arctan2(-2*imag_part(k_z)*real_part(k_z), imag_part(k_z)^2 - real_part(k_z)^2 + omega^2/c^2))/(c^2*sqrt(abs(-k_z^2 + omega^2/c^2))) - A2_z_re*omega^2*cos(-1/2*arctan2(-2*imag_part(k_z)*real_part(k_z), imag_part(k_z)^2 - real_part(k_z)^2 + omega^2/c^2))/(c^2*sqrt(abs(-k_z^2 + omega^2/c^2))) - A1_z_im*omega^2*sin(-1/2*arctan2(-2*imag_part(k_z)*real_part(k_z), imag_part(k_z)^2 - real_part(k_z)^2 + omega^2/c^2))/(c^2*sqrt(abs(-k_z^2 + omega^2/c^2))) + A2_z_im*omega^2*sin(-1/2*arctan2(-2*imag_part(k_z)*real_part(k_z), imag_part(k_z)^2 - real_part(k_z)^2 + omega^2/c^2))/(c^2*sqrt(abs(-k_z^2 + omega^2/c^2)))\n",
      "-4*pi*A1_z_re*omega*sigma*cos(-1/2*arctan2(4*pi*mu*omega*sigma/c - 2*imag_part(k_z)*real_part(k_z), epsilon*mu*omega^2/c^2 + imag_part(k_z)^2 - real_part(k_z)^2))/(c*sqrt(abs(4*I*pi*mu*omega*sigma/c - k_z^2 + epsilon*mu*omega^2/c^2))) - 4*pi*A2_z_re*omega*sigma*cos(-1/2*arctan2(4*pi*mu*omega*sigma/c - 2*imag_part(k_z)*real_part(k_z), epsilon*mu*omega^2/c^2 + imag_part(k_z)^2 - real_part(k_z)^2))/(c*sqrt(abs(4*I*pi*mu*omega*sigma/c - k_z^2 + epsilon*mu*omega^2/c^2))) + 4*pi*A1_z_im*omega*sigma*sin(-1/2*arctan2(4*pi*mu*omega*sigma/c - 2*imag_part(k_z)*real_part(k_z), epsilon*mu*omega^2/c^2 + imag_part(k_z)^2 - real_part(k_z)^2))/(c*sqrt(abs(4*I*pi*mu*omega*sigma/c - k_z^2 + epsilon*mu*omega^2/c^2))) + 4*pi*A2_z_im*omega*sigma*sin(-1/2*arctan2(4*pi*mu*omega*sigma/c - 2*imag_part(k_z)*real_part(k_z), epsilon*mu*omega^2/c^2 + imag_part(k_z)^2 - real_part(k_z)^2))/(c*sqrt(abs(4*I*pi*mu*omega*sigma/c - k_z^2 + epsilon*mu*omega^2/c^2))) - A1_z_im*epsilon*omega^2*cos(-1/2*arctan2(4*pi*mu*omega*sigma/c - 2*imag_part(k_z)*real_part(k_z), epsilon*mu*omega^2/c^2 + imag_part(k_z)^2 - real_part(k_z)^2))/(c^2*sqrt(abs(4*I*pi*mu*omega*sigma/c - k_z^2 + epsilon*mu*omega^2/c^2))) - A2_z_im*epsilon*omega^2*cos(-1/2*arctan2(4*pi*mu*omega*sigma/c - 2*imag_part(k_z)*real_part(k_z), epsilon*mu*omega^2/c^2 + imag_part(k_z)^2 - real_part(k_z)^2))/(c^2*sqrt(abs(4*I*pi*mu*omega*sigma/c - k_z^2 + epsilon*mu*omega^2/c^2))) - A1_z_re*epsilon*omega^2*sin(-1/2*arctan2(4*pi*mu*omega*sigma/c - 2*imag_part(k_z)*real_part(k_z), epsilon*mu*omega^2/c^2 + imag_part(k_z)^2 - real_part(k_z)^2))/(c^2*sqrt(abs(4*I*pi*mu*omega*sigma/c - k_z^2 + epsilon*mu*omega^2/c^2))) - A2_z_re*epsilon*omega^2*sin(-1/2*arctan2(4*pi*mu*omega*sigma/c - 2*imag_part(k_z)*real_part(k_z), epsilon*mu*omega^2/c^2 + imag_part(k_z)^2 - real_part(k_z)^2))/(c^2*sqrt(abs(4*I*pi*mu*omega*sigma/c - k_z^2 + epsilon*mu*omega^2/c^2))) == A1_z_im*omega^2*cos(-1/2*arctan2(-2*imag_part(k_z)*real_part(k_z), imag_part(k_z)^2 - real_part(k_z)^2 + omega^2/c^2))/(c^2*sqrt(abs(-k_z^2 + omega^2/c^2))) - A2_z_im*omega^2*cos(-1/2*arctan2(-2*imag_part(k_z)*real_part(k_z), imag_part(k_z)^2 - real_part(k_z)^2 + omega^2/c^2))/(c^2*sqrt(abs(-k_z^2 + omega^2/c^2))) + A1_z_re*omega^2*sin(-1/2*arctan2(-2*imag_part(k_z)*real_part(k_z), imag_part(k_z)^2 - real_part(k_z)^2 + omega^2/c^2))/(c^2*sqrt(abs(-k_z^2 + omega^2/c^2))) - A2_z_re*omega^2*sin(-1/2*arctan2(-2*imag_part(k_z)*real_part(k_z), imag_part(k_z)^2 - real_part(k_z)^2 + omega^2/c^2))/(c^2*sqrt(abs(-k_z^2 + omega^2/c^2)))\n",
      "-B1_y_im*c*imag_part(K_conductor)/(mu*omega) + B1_x_im*c*imag_part(k_y)/(mu*omega) + B1_y_re*c*real_part(K_conductor)/(mu*omega) - B1_x_re*c*real_part(k_y)/(mu*omega) == A1_y_im*c*imag_part(K_vacuum)/omega - A2_y_im*c*imag_part(K_vacuum)/omega + A1_x_im*c*imag_part(k_y)/omega + A2_x_im*c*imag_part(k_y)/omega - A1_y_re*c*real_part(K_vacuum)/omega + A2_y_re*c*real_part(K_vacuum)/omega - A1_x_re*c*real_part(k_y)/omega - A2_x_re*c*real_part(k_y)/omega\n",
      "B1_y_re*c*imag_part(K_conductor)/(mu*omega) - B1_x_re*c*imag_part(k_y)/(mu*omega) + B1_y_im*c*real_part(K_conductor)/(mu*omega) - B1_x_im*c*real_part(k_y)/(mu*omega) == -A1_y_re*c*imag_part(K_vacuum)/omega + A2_y_re*c*imag_part(K_vacuum)/omega - A1_x_re*c*imag_part(k_y)/omega - A2_x_re*c*imag_part(k_y)/omega - A1_y_im*c*real_part(K_vacuum)/omega + A2_y_im*c*real_part(K_vacuum)/omega - A1_x_im*c*real_part(k_y)/omega - A2_x_im*c*real_part(k_y)/omega\n",
      "B1_z_re == A1_z_re + A2_z_re\n",
      "B1_z_im == A1_z_im + A2_z_im\n",
      "B1_y_re == A1_y_re + A2_y_re\n",
      "B1_y_im == A1_y_im + A2_y_im\n",
      "-B1_z_im*c*imag_part(k_y)/omega + B1_y_im*c*imag_part(k_z)/omega + B1_z_re*c*real_part(k_y)/omega - B1_y_re*c*real_part(k_z)/omega == -A1_z_im*c*imag_part(k_y)/omega - A2_z_im*c*imag_part(k_y)/omega + A1_y_im*c*imag_part(k_z)/omega + A2_y_im*c*imag_part(k_z)/omega + A1_z_re*c*real_part(k_y)/omega + A2_z_re*c*real_part(k_y)/omega - A1_y_re*c*real_part(k_z)/omega - A2_y_re*c*real_part(k_z)/omega\n",
      "B1_z_re*c*imag_part(k_y)/omega - B1_y_re*c*imag_part(k_z)/omega + B1_z_im*c*real_part(k_y)/omega - B1_y_im*c*real_part(k_z)/omega == A1_z_re*c*imag_part(k_y)/omega + A2_z_re*c*imag_part(k_y)/omega - A1_y_re*c*imag_part(k_z)/omega - A2_y_re*c*imag_part(k_z)/omega + A1_z_im*c*real_part(k_y)/omega + A2_z_im*c*real_part(k_y)/omega - A1_y_im*c*real_part(k_z)/omega - A2_y_im*c*real_part(k_z)/omega\n"
     ]
    }
   ],
   "source": [
    "print(eqEz_0_re)\n",
    "print(eqEz_0_im)\n",
    "\n",
    "print(eqEy_0_re)\n",
    "print(eqEy_0_im)\n",
    "\n",
    "print(eqHy_a_re)\n",
    "print(eqHy_a_im)\n",
    "\n",
    "print(eqHz_a_re)\n",
    "print(eqHz_a_im)\n",
    "\n",
    "print(eqEz_a_re)\n",
    "print(eqEz_a_im)\n",
    "\n",
    "print(eqEy_a_re)\n",
    "print(eqEy_a_im)\n",
    "\n",
    "print(eqBx_a_re)\n",
    "print(eqBx_a_im)\n",
    "\n",
    "#print(eqDx_a_re)\n",
    "#print(eqDx_a_im)"
   ]
  },
  {
   "cell_type": "code",
   "execution_count": 175,
   "metadata": {},
   "outputs": [],
   "source": [
    "def GenerateMatrix(equsys, vars):\n",
    "    A=matrix(SR, [[(equ.lhs() - equ.rhs()).coefficient(v) for v in vars] for equ in equsys])\n",
    "    return A"
   ]
  },
  {
   "cell_type": "code",
   "execution_count": 176,
   "metadata": {},
   "outputs": [],
   "source": [
    "def reduceDependedRows(M):\n",
    "    print (\"\")\n",
    "    print (\"M.nrows()\", M.nrows())\n",
    "    print (\"M.ncols()\", M.ncols())\n",
    "    #print (\"M.rank()\", M.rank())\n",
    "\n",
    "    M_pivot_rows = M.pivot_rows()\n",
    "    print (\"M.pivot_rows() =\", M_pivot_rows)\n",
    "\n",
    "    M_rows = M.rows()\n",
    "    for row in M_rows:\n",
    "        print (\"row =\", row)\n",
    "\n",
    "    reduced_list = []\n",
    "    for r in M_pivot_rows:\n",
    "        print (\"M_rows[\", r, \"] =\")\n",
    "        display(Math(latex(M_rows[r])))\n",
    "        reduced_list.append(M_rows[r])\n",
    "\n",
    "    reduced_M = matrix(SR, len(M_pivot_rows), M.ncols(), reduced_list)\n",
    "    #reduced_M_det = reduced_M.det()\n",
    "    \n",
    "    print (\"reduced_M.nrows()\", reduced_M.nrows())\n",
    "    print (\"reduced_M.ncols()\", reduced_M.ncols())\n",
    "    \n",
    "    #print (\"\")\n",
    "    #print(\"reduced_M.det() =\", reduced_M_det)\n",
    "    return reduced_M"
   ]
  },
  {
   "cell_type": "code",
   "execution_count": 177,
   "metadata": {},
   "outputs": [],
   "source": [
    "def reduceRows(M, M_pivot_rows):\n",
    "    print (\"\")\n",
    "    print (\"M.nrows()\", M.nrows())\n",
    "    print (\"M.ncols()\", M.ncols())\n",
    "    #print (\"M.rank()\", M.rank())\n",
    "\n",
    "    print (\"M.pivot_rows() =\", M_pivot_rows)\n",
    "\n",
    "    M_rows = M.rows()\n",
    "    for row in M_rows:\n",
    "        print (\"row =\", row)\n",
    "\n",
    "    reduced_list = []\n",
    "    for r in M_pivot_rows:\n",
    "        print (\"M_rows[\", r, \"] =\")\n",
    "        display(Math(latex(M_rows[r])))\n",
    "        reduced_list.append(M_rows[r])\n",
    "\n",
    "    reduced_M = matrix(SR, len(M_pivot_rows), M.ncols(), reduced_list)\n",
    "    #reduced_M_det = reduced_M.det()\n",
    "    #print (\"\")\n",
    "    #print(\"reduced_M.det() =\", reduced_M_det)\n",
    "    \n",
    "    print (\"reduced_M.nrows()\", reduced_M.nrows())\n",
    "    print (\"reduced_M.ncols()\", reduced_M.ncols())\n",
    "\n",
    "    return reduced_M"
   ]
  },
  {
   "cell_type": "code",
   "execution_count": 178,
   "metadata": {},
   "outputs": [],
   "source": [
    "sys6_subs = [eqEz_0_re_subs.subs(k_z = kz + I * sz), \\\n",
    "             eqEz_0_im_subs.subs(k_z = kz + I * sz), \\\n",
    "             eqHy_a_re_subs.subs(k_z = kz + I * sz), \\\n",
    "             eqHy_a_im_subs.subs(k_z = kz + I * sz), \\\n",
    "             eqEz_a_re_subs.subs(k_z = kz + I * sz), \\\n",
    "             eqEz_a_im_subs.subs(k_z = kz + I * sz), \\\n",
    "            ]\n",
    "\n",
    "# 6 equations"
   ]
  },
  {
   "cell_type": "code",
   "execution_count": 179,
   "metadata": {},
   "outputs": [],
   "source": [
    "sys6 = [eqEz_0_re, eqEz_0_im, \\\n",
    "        eqHy_a_re, eqHy_a_im, \\\n",
    "        eqEz_a_re, eqEz_a_im, \\\n",
    "        ]\n",
    "\n",
    "# 6 equations"
   ]
  },
  {
   "cell_type": "code",
   "execution_count": 180,
   "metadata": {},
   "outputs": [],
   "source": [
    "sys3_subs = [eqEz_0_subs, \\\n",
    "             eqHy_a_subs, \\\n",
    "             eqEz_a_subs, \\\n",
    "            ]\n",
    "\n",
    "# 3 equations"
   ]
  },
  {
   "cell_type": "code",
   "execution_count": 181,
   "metadata": {},
   "outputs": [],
   "source": [
    "sys3_subs = [eqEz_0_subs, \\\n",
    "             eq_Hy_0.subs(kappa_vacuum_sol).subs(kappa_sol), \\\n",
    "             eqEz_a_subs, \\\n",
    "            ]\n",
    "\n",
    "# 3 equations"
   ]
  },
  {
   "cell_type": "code",
   "execution_count": 182,
   "metadata": {},
   "outputs": [],
   "source": [
    "sys3 = [eqEz_0, \\\n",
    "        eqHy_a, \\\n",
    "        eqEz_a, \\\n",
    "       ]\n",
    "\n",
    "# 6 equations"
   ]
  },
  {
   "cell_type": "code",
   "execution_count": 183,
   "metadata": {},
   "outputs": [],
   "source": [
    "vars6 = [A1_z_re, A1_z_im, \\\n",
    "         A2_z_re, A2_z_im, \\\n",
    "         B1_z_re, B1_z_im,\n",
    "]\n",
    "# 6 variables"
   ]
  },
  {
   "cell_type": "code",
   "execution_count": 184,
   "metadata": {},
   "outputs": [],
   "source": [
    "vars3 = [A1_z, \\\n",
    "         A2_z, \\\n",
    "         B1_z,\n",
    "]\n",
    "# 3 variables"
   ]
  },
  {
   "cell_type": "code",
   "execution_count": 185,
   "metadata": {},
   "outputs": [],
   "source": [
    "M6_subs = GenerateMatrix(sys6_subs, vars6)"
   ]
  },
  {
   "cell_type": "code",
   "execution_count": 186,
   "metadata": {},
   "outputs": [],
   "source": [
    "M6 = GenerateMatrix(sys6, vars6)"
   ]
  },
  {
   "cell_type": "code",
   "execution_count": 187,
   "metadata": {},
   "outputs": [],
   "source": [
    "M3_subs = GenerateMatrix(sys3_subs, vars3)"
   ]
  },
  {
   "cell_type": "code",
   "execution_count": 188,
   "metadata": {},
   "outputs": [],
   "source": [
    "M3 = GenerateMatrix(sys3, vars3)"
   ]
  },
  {
   "cell_type": "code",
   "execution_count": 189,
   "metadata": {},
   "outputs": [
    {
     "data": {
      "text/plain": [
       "(6, 6)"
      ]
     },
     "execution_count": 189,
     "metadata": {},
     "output_type": "execute_result"
    }
   ],
   "source": [
    "M6.nrows(), M6.ncols()"
   ]
  },
  {
   "cell_type": "code",
   "execution_count": 190,
   "metadata": {},
   "outputs": [
    {
     "data": {
      "text/plain": [
       "(3, 3)"
      ]
     },
     "execution_count": 190,
     "metadata": {},
     "output_type": "execute_result"
    }
   ],
   "source": [
    "M3.nrows(), M3.ncols()"
   ]
  },
  {
   "cell_type": "code",
   "execution_count": 191,
   "metadata": {},
   "outputs": [
    {
     "data": {
      "text/plain": [
       "(K_vacuum, a, c, epsilon, k_z, mu, omega, sigma)"
      ]
     },
     "execution_count": 191,
     "metadata": {},
     "output_type": "execute_result"
    }
   ],
   "source": [
    "M6.variables()"
   ]
  },
  {
   "cell_type": "code",
   "execution_count": 192,
   "metadata": {},
   "outputs": [
    {
     "data": {
      "text/plain": [
       "(K_conductor, K_vacuum, a, c, mu, omega)"
      ]
     },
     "execution_count": 192,
     "metadata": {},
     "output_type": "execute_result"
    }
   ],
   "source": [
    "M3.variables()"
   ]
  },
  {
   "cell_type": "code",
   "execution_count": 193,
   "metadata": {},
   "outputs": [
    {
     "data": {
      "text/latex": [
       "$\\displaystyle \\left(\\begin{array}{rrr}\n",
       "e^{\\left(i \\, K_{\\mathit{vacuum}} a\\right)} & e^{\\left(-i \\, K_{\\mathit{vacuum}} a\\right)} & 0 \\\\\n",
       "-\\frac{K_{\\mathit{vacuum}} c}{\\omega} & \\frac{K_{\\mathit{vacuum}} c}{\\omega} & -\\frac{K_{\\mathit{conductor}} c}{\\mu \\omega} \\\\\n",
       "-1 & -1 & 1\n",
       "\\end{array}\\right)$"
      ],
      "text/plain": [
       "<IPython.core.display.Math object>"
      ]
     },
     "metadata": {},
     "output_type": "display_data"
    }
   ],
   "source": [
    "display(Math(latex(M3)))"
   ]
  },
  {
   "cell_type": "code",
   "execution_count": 194,
   "metadata": {},
   "outputs": [
    {
     "data": {
      "text/plain": [
       "[                                                                                                                                                                                                                                                                                                                                                                                                                                                                                                                                                                         cos(a*real_part(K_vacuum))*e^(-a*imag_part(K_vacuum))                                                                                                                                                                                                                                                                                                                                                                                                                                                                                                                                                                         -e^(-a*imag_part(K_vacuum))*sin(a*real_part(K_vacuum))                                                                                                                                                                                                                                                                                                                                                                                                                                                                                                                                                                          cos(-a*real_part(K_vacuum))*e^(a*imag_part(K_vacuum))                                                                                                                                                                                                                                                                                                                                                                                                                                                                                                                                                                         -e^(a*imag_part(K_vacuum))*sin(-a*real_part(K_vacuum))                                                                                                                                                                                                                                                                                                                                                                                                                                                                                                                                                                                                                              0                                                                                                                                                                                                                                                                                                                                                                                                                                                                                                                                                                                                                              0]\n",
       "[                                                                                                                                                                                                                                                                                                                                                                                                                                                                                                                                                                         e^(-a*imag_part(K_vacuum))*sin(a*real_part(K_vacuum))                                                                                                                                                                                                                                                                                                                                                                                                                                                                                                                                                                          cos(a*real_part(K_vacuum))*e^(-a*imag_part(K_vacuum))                                                                                                                                                                                                                                                                                                                                                                                                                                                                                                                                                                          e^(a*imag_part(K_vacuum))*sin(-a*real_part(K_vacuum))                                                                                                                                                                                                                                                                                                                                                                                                                                                                                                                                                                          cos(-a*real_part(K_vacuum))*e^(a*imag_part(K_vacuum))                                                                                                                                                                                                                                                                                                                                                                                                                                                                                                                                                                                                                              0                                                                                                                                                                                                                                                                                                                                                                                                                                                                                                                                                                                                                              0]\n",
       "[ 4*pi*omega*sigma*sin(-1/2*arctan2(4*pi*mu*omega*sigma/c - 2*imag_part(k_z)*real_part(k_z), epsilon*mu*omega^2/c^2 + imag_part(k_z)^2 - real_part(k_z)^2))/(c*sqrt(abs(4*I*pi*mu*omega*sigma/c - k_z^2 + epsilon*mu*omega^2/c^2))) - epsilon*omega^2*cos(-1/2*arctan2(4*pi*mu*omega*sigma/c - 2*imag_part(k_z)*real_part(k_z), epsilon*mu*omega^2/c^2 + imag_part(k_z)^2 - real_part(k_z)^2))/(c^2*sqrt(abs(4*I*pi*mu*omega*sigma/c - k_z^2 + epsilon*mu*omega^2/c^2))) - omega^2*cos(-1/2*arctan2(-2*imag_part(k_z)*real_part(k_z), imag_part(k_z)^2 - real_part(k_z)^2 + omega^2/c^2))/(c^2*sqrt(abs(-k_z^2 + omega^2/c^2)))  4*pi*omega*sigma*cos(-1/2*arctan2(4*pi*mu*omega*sigma/c - 2*imag_part(k_z)*real_part(k_z), epsilon*mu*omega^2/c^2 + imag_part(k_z)^2 - real_part(k_z)^2))/(c*sqrt(abs(4*I*pi*mu*omega*sigma/c - k_z^2 + epsilon*mu*omega^2/c^2))) + epsilon*omega^2*sin(-1/2*arctan2(4*pi*mu*omega*sigma/c - 2*imag_part(k_z)*real_part(k_z), epsilon*mu*omega^2/c^2 + imag_part(k_z)^2 - real_part(k_z)^2))/(c^2*sqrt(abs(4*I*pi*mu*omega*sigma/c - k_z^2 + epsilon*mu*omega^2/c^2))) + omega^2*sin(-1/2*arctan2(-2*imag_part(k_z)*real_part(k_z), imag_part(k_z)^2 - real_part(k_z)^2 + omega^2/c^2))/(c^2*sqrt(abs(-k_z^2 + omega^2/c^2)))  4*pi*omega*sigma*sin(-1/2*arctan2(4*pi*mu*omega*sigma/c - 2*imag_part(k_z)*real_part(k_z), epsilon*mu*omega^2/c^2 + imag_part(k_z)^2 - real_part(k_z)^2))/(c*sqrt(abs(4*I*pi*mu*omega*sigma/c - k_z^2 + epsilon*mu*omega^2/c^2))) - epsilon*omega^2*cos(-1/2*arctan2(4*pi*mu*omega*sigma/c - 2*imag_part(k_z)*real_part(k_z), epsilon*mu*omega^2/c^2 + imag_part(k_z)^2 - real_part(k_z)^2))/(c^2*sqrt(abs(4*I*pi*mu*omega*sigma/c - k_z^2 + epsilon*mu*omega^2/c^2))) + omega^2*cos(-1/2*arctan2(-2*imag_part(k_z)*real_part(k_z), imag_part(k_z)^2 - real_part(k_z)^2 + omega^2/c^2))/(c^2*sqrt(abs(-k_z^2 + omega^2/c^2)))  4*pi*omega*sigma*cos(-1/2*arctan2(4*pi*mu*omega*sigma/c - 2*imag_part(k_z)*real_part(k_z), epsilon*mu*omega^2/c^2 + imag_part(k_z)^2 - real_part(k_z)^2))/(c*sqrt(abs(4*I*pi*mu*omega*sigma/c - k_z^2 + epsilon*mu*omega^2/c^2))) + epsilon*omega^2*sin(-1/2*arctan2(4*pi*mu*omega*sigma/c - 2*imag_part(k_z)*real_part(k_z), epsilon*mu*omega^2/c^2 + imag_part(k_z)^2 - real_part(k_z)^2))/(c^2*sqrt(abs(4*I*pi*mu*omega*sigma/c - k_z^2 + epsilon*mu*omega^2/c^2))) - omega^2*sin(-1/2*arctan2(-2*imag_part(k_z)*real_part(k_z), imag_part(k_z)^2 - real_part(k_z)^2 + omega^2/c^2))/(c^2*sqrt(abs(-k_z^2 + omega^2/c^2)))                                                                                                                                                                                                                                                                                                                                                                                                                                                                                                                                                                                                                              0                                                                                                                                                                                                                                                                                                                                                                                                                                                                                                                                                                                                                              0]\n",
       "[-4*pi*omega*sigma*cos(-1/2*arctan2(4*pi*mu*omega*sigma/c - 2*imag_part(k_z)*real_part(k_z), epsilon*mu*omega^2/c^2 + imag_part(k_z)^2 - real_part(k_z)^2))/(c*sqrt(abs(4*I*pi*mu*omega*sigma/c - k_z^2 + epsilon*mu*omega^2/c^2))) - epsilon*omega^2*sin(-1/2*arctan2(4*pi*mu*omega*sigma/c - 2*imag_part(k_z)*real_part(k_z), epsilon*mu*omega^2/c^2 + imag_part(k_z)^2 - real_part(k_z)^2))/(c^2*sqrt(abs(4*I*pi*mu*omega*sigma/c - k_z^2 + epsilon*mu*omega^2/c^2))) - omega^2*sin(-1/2*arctan2(-2*imag_part(k_z)*real_part(k_z), imag_part(k_z)^2 - real_part(k_z)^2 + omega^2/c^2))/(c^2*sqrt(abs(-k_z^2 + omega^2/c^2)))  4*pi*omega*sigma*sin(-1/2*arctan2(4*pi*mu*omega*sigma/c - 2*imag_part(k_z)*real_part(k_z), epsilon*mu*omega^2/c^2 + imag_part(k_z)^2 - real_part(k_z)^2))/(c*sqrt(abs(4*I*pi*mu*omega*sigma/c - k_z^2 + epsilon*mu*omega^2/c^2))) - epsilon*omega^2*cos(-1/2*arctan2(4*pi*mu*omega*sigma/c - 2*imag_part(k_z)*real_part(k_z), epsilon*mu*omega^2/c^2 + imag_part(k_z)^2 - real_part(k_z)^2))/(c^2*sqrt(abs(4*I*pi*mu*omega*sigma/c - k_z^2 + epsilon*mu*omega^2/c^2))) - omega^2*cos(-1/2*arctan2(-2*imag_part(k_z)*real_part(k_z), imag_part(k_z)^2 - real_part(k_z)^2 + omega^2/c^2))/(c^2*sqrt(abs(-k_z^2 + omega^2/c^2))) -4*pi*omega*sigma*cos(-1/2*arctan2(4*pi*mu*omega*sigma/c - 2*imag_part(k_z)*real_part(k_z), epsilon*mu*omega^2/c^2 + imag_part(k_z)^2 - real_part(k_z)^2))/(c*sqrt(abs(4*I*pi*mu*omega*sigma/c - k_z^2 + epsilon*mu*omega^2/c^2))) - epsilon*omega^2*sin(-1/2*arctan2(4*pi*mu*omega*sigma/c - 2*imag_part(k_z)*real_part(k_z), epsilon*mu*omega^2/c^2 + imag_part(k_z)^2 - real_part(k_z)^2))/(c^2*sqrt(abs(4*I*pi*mu*omega*sigma/c - k_z^2 + epsilon*mu*omega^2/c^2))) + omega^2*sin(-1/2*arctan2(-2*imag_part(k_z)*real_part(k_z), imag_part(k_z)^2 - real_part(k_z)^2 + omega^2/c^2))/(c^2*sqrt(abs(-k_z^2 + omega^2/c^2)))  4*pi*omega*sigma*sin(-1/2*arctan2(4*pi*mu*omega*sigma/c - 2*imag_part(k_z)*real_part(k_z), epsilon*mu*omega^2/c^2 + imag_part(k_z)^2 - real_part(k_z)^2))/(c*sqrt(abs(4*I*pi*mu*omega*sigma/c - k_z^2 + epsilon*mu*omega^2/c^2))) - epsilon*omega^2*cos(-1/2*arctan2(4*pi*mu*omega*sigma/c - 2*imag_part(k_z)*real_part(k_z), epsilon*mu*omega^2/c^2 + imag_part(k_z)^2 - real_part(k_z)^2))/(c^2*sqrt(abs(4*I*pi*mu*omega*sigma/c - k_z^2 + epsilon*mu*omega^2/c^2))) + omega^2*cos(-1/2*arctan2(-2*imag_part(k_z)*real_part(k_z), imag_part(k_z)^2 - real_part(k_z)^2 + omega^2/c^2))/(c^2*sqrt(abs(-k_z^2 + omega^2/c^2)))                                                                                                                                                                                                                                                                                                                                                                                                                                                                                                                                                                                                                              0                                                                                                                                                                                                                                                                                                                                                                                                                                                                                                                                                                                                                              0]\n",
       "[                                                                                                                                                                                                                                                                                                                                                                                                                                                                                                                                                                                                                            -1                                                                                                                                                                                                                                                                                                                                                                                                                                                                                                                                                                                                                              0                                                                                                                                                                                                                                                                                                                                                                                                                                                                                                                                                                                                                             -1                                                                                                                                                                                                                                                                                                                                                                                                                                                                                                                                                                                                                              0                                                                                                                                                                                                                                                                                                                                                                                                                                                                                                                                                                                                                              1                                                                                                                                                                                                                                                                                                                                                                                                                                                                                                                                                                                                                              0]\n",
       "[                                                                                                                                                                                                                                                                                                                                                                                                                                                                                                                                                                                                                             0                                                                                                                                                                                                                                                                                                                                                                                                                                                                                                                                                                                                                             -1                                                                                                                                                                                                                                                                                                                                                                                                                                                                                                                                                                                                                              0                                                                                                                                                                                                                                                                                                                                                                                                                                                                                                                                                                                                                             -1                                                                                                                                                                                                                                                                                                                                                                                                                                                                                                                                                                                                                              0                                                                                                                                                                                                                                                                                                                                                                                                                                                                                                                                                                                                                              1]"
      ]
     },
     "execution_count": 194,
     "metadata": {},
     "output_type": "execute_result"
    }
   ],
   "source": [
    "M6"
   ]
  },
  {
   "cell_type": "code",
   "execution_count": 195,
   "metadata": {},
   "outputs": [],
   "source": [
    "#M6_subs"
   ]
  },
  {
   "cell_type": "code",
   "execution_count": 196,
   "metadata": {},
   "outputs": [
    {
     "data": {
      "text/plain": [
       "(a, c, epsilon, kz, mu, omega, sigma, sz)"
      ]
     },
     "execution_count": 196,
     "metadata": {},
     "output_type": "execute_result"
    }
   ],
   "source": [
    "M6_subs.variables()"
   ]
  },
  {
   "cell_type": "code",
   "execution_count": 197,
   "metadata": {},
   "outputs": [
    {
     "data": {
      "text/latex": [
       "$\\displaystyle \\left(\\begin{array}{rrr}\n",
       "e^{\\left(i \\, \\sqrt{-k_{z}^{2} + \\frac{\\omega^{2}}{c^{2}}} a\\right)} & e^{\\left(-i \\, \\sqrt{-k_{z}^{2} + \\frac{\\omega^{2}}{c^{2}}} a\\right)} & 0 \\\\\n",
       "-\\frac{\\omega^{2}}{\\sqrt{-k_{z}^{2} + \\frac{\\omega^{2}}{c^{2}}} c^{2}} - \\frac{4 i \\, \\pi c \\mu \\omega \\sigma + \\epsilon \\mu \\omega^{2}}{\\sqrt{-k_{z}^{2} + \\frac{4 i \\, \\pi c \\mu \\omega \\sigma + \\epsilon \\mu \\omega^{2}}{c^{2}}} c^{2} \\mu} & \\frac{\\omega^{2}}{\\sqrt{-k_{z}^{2} + \\frac{\\omega^{2}}{c^{2}}} c^{2}} - \\frac{4 i \\, \\pi c \\mu \\omega \\sigma + \\epsilon \\mu \\omega^{2}}{\\sqrt{-k_{z}^{2} + \\frac{4 i \\, \\pi c \\mu \\omega \\sigma + \\epsilon \\mu \\omega^{2}}{c^{2}}} c^{2} \\mu} & 0 \\\\\n",
       "-1 & -1 & 1\n",
       "\\end{array}\\right)$"
      ],
      "text/plain": [
       "<IPython.core.display.Math object>"
      ]
     },
     "metadata": {},
     "output_type": "display_data"
    }
   ],
   "source": [
    "display(Math(latex(M3_subs)))"
   ]
  },
  {
   "cell_type": "code",
   "execution_count": 198,
   "metadata": {},
   "outputs": [],
   "source": [
    "M3_det = M3.det()"
   ]
  },
  {
   "cell_type": "code",
   "execution_count": 199,
   "metadata": {},
   "outputs": [],
   "source": [
    "M3_subs_det = M3_subs.det()"
   ]
  },
  {
   "cell_type": "code",
   "execution_count": 200,
   "metadata": {},
   "outputs": [],
   "source": [
    "M6_subs_det = M6_subs.det()"
   ]
  },
  {
   "cell_type": "code",
   "execution_count": 201,
   "metadata": {},
   "outputs": [
    {
     "data": {
      "text/latex": [
       "$\\displaystyle {\\left(\\frac{K_{\\mathit{vacuum}} c}{\\omega} - \\frac{K_{\\mathit{conductor}} c}{\\mu \\omega}\\right)} e^{\\left(i \\, K_{\\mathit{vacuum}} a\\right)} + \\frac{K_{\\mathit{vacuum}} c e^{\\left(-i \\, K_{\\mathit{vacuum}} a\\right)}}{\\omega} + \\frac{K_{\\mathit{conductor}} c e^{\\left(-i \\, K_{\\mathit{vacuum}} a\\right)}}{\\mu \\omega}$"
      ],
      "text/plain": [
       "<IPython.core.display.Math object>"
      ]
     },
     "metadata": {},
     "output_type": "display_data"
    }
   ],
   "source": [
    "display(Math(latex(M3_det)))"
   ]
  },
  {
   "cell_type": "code",
   "execution_count": 202,
   "metadata": {},
   "outputs": [
    {
     "data": {
      "text/latex": [
       "$\\displaystyle {\\left(\\frac{\\omega^{2}}{\\sqrt{-k_{z}^{2} + \\frac{\\omega^{2}}{c^{2}}} c^{2}} - \\frac{4 i \\, \\pi c \\mu \\omega \\sigma + \\epsilon \\mu \\omega^{2}}{\\sqrt{-k_{z}^{2} + \\frac{4 i \\, \\pi c \\mu \\omega \\sigma + \\epsilon \\mu \\omega^{2}}{c^{2}}} c^{2} \\mu}\\right)} e^{\\left(i \\, \\sqrt{-k_{z}^{2} + \\frac{\\omega^{2}}{c^{2}}} a\\right)} + {\\left(\\frac{\\omega^{2}}{\\sqrt{-k_{z}^{2} + \\frac{\\omega^{2}}{c^{2}}} c^{2}} + \\frac{4 i \\, \\pi c \\mu \\omega \\sigma + \\epsilon \\mu \\omega^{2}}{\\sqrt{-k_{z}^{2} + \\frac{4 i \\, \\pi c \\mu \\omega \\sigma + \\epsilon \\mu \\omega^{2}}{c^{2}}} c^{2} \\mu}\\right)} e^{\\left(-i \\, \\sqrt{-k_{z}^{2} + \\frac{\\omega^{2}}{c^{2}}} a\\right)}$"
      ],
      "text/plain": [
       "<IPython.core.display.Math object>"
      ]
     },
     "metadata": {},
     "output_type": "display_data"
    }
   ],
   "source": [
    "display(Math(latex(M3_subs_det)))"
   ]
  },
  {
   "cell_type": "code",
   "execution_count": 203,
   "metadata": {},
   "outputs": [
    {
     "data": {
      "text/plain": [
       "(K_vacuum == sqrt(-k_z^2 + kappa_vacuum^2),\n",
       " K_conductor == sqrt(-k_z^2 + kappa^2))"
      ]
     },
     "execution_count": 203,
     "metadata": {},
     "output_type": "execute_result"
    }
   ],
   "source": [
    "K_vacuum_subs, K_conductor_subs"
   ]
  },
  {
   "cell_type": "code",
   "execution_count": 204,
   "metadata": {},
   "outputs": [],
   "source": [
    "M3_subs_det_den = K_vacuum_subs.rhs().subs(kappa_vacuum_sol).subs(kappa_sol) * \\\n",
    "K_conductor_subs.rhs().subs(kappa_vacuum_sol).subs(kappa_sol)"
   ]
  },
  {
   "cell_type": "code",
   "execution_count": 205,
   "metadata": {},
   "outputs": [],
   "source": [
    "M3_subs_det_num = (M3_subs_det*M3_subs_det_den).expand()"
   ]
  },
  {
   "cell_type": "code",
   "execution_count": 206,
   "metadata": {},
   "outputs": [
    {
     "data": {
      "text/latex": [
       "$\\displaystyle -\\frac{4 i \\, \\pi \\sqrt{-k_{z}^{2} + \\frac{\\omega^{2}}{c^{2}}} \\omega \\sigma e^{\\left(i \\, \\sqrt{-k_{z}^{2} + \\frac{\\omega^{2}}{c^{2}}} a\\right)}}{c} + \\frac{4 i \\, \\pi \\sqrt{-k_{z}^{2} + \\frac{\\omega^{2}}{c^{2}}} \\omega \\sigma e^{\\left(-i \\, \\sqrt{-k_{z}^{2} + \\frac{\\omega^{2}}{c^{2}}} a\\right)}}{c} - \\frac{\\sqrt{-k_{z}^{2} + \\frac{\\omega^{2}}{c^{2}}} \\epsilon \\omega^{2} e^{\\left(i \\, \\sqrt{-k_{z}^{2} + \\frac{\\omega^{2}}{c^{2}}} a\\right)}}{c^{2}} + \\frac{\\sqrt{-k_{z}^{2} + \\frac{\\omega^{2}}{c^{2}}} \\epsilon \\omega^{2} e^{\\left(-i \\, \\sqrt{-k_{z}^{2} + \\frac{\\omega^{2}}{c^{2}}} a\\right)}}{c^{2}} + \\frac{\\sqrt{\\frac{4 i \\, \\pi \\mu \\omega \\sigma}{c} - k_{z}^{2} + \\frac{\\epsilon \\mu \\omega^{2}}{c^{2}}} \\omega^{2} e^{\\left(i \\, \\sqrt{-k_{z}^{2} + \\frac{\\omega^{2}}{c^{2}}} a\\right)}}{c^{2}} + \\frac{\\sqrt{\\frac{4 i \\, \\pi \\mu \\omega \\sigma}{c} - k_{z}^{2} + \\frac{\\epsilon \\mu \\omega^{2}}{c^{2}}} \\omega^{2} e^{\\left(-i \\, \\sqrt{-k_{z}^{2} + \\frac{\\omega^{2}}{c^{2}}} a\\right)}}{c^{2}}$"
      ],
      "text/plain": [
       "<IPython.core.display.Math object>"
      ]
     },
     "metadata": {},
     "output_type": "display_data"
    }
   ],
   "source": [
    "display(Math(latex(M3_subs_det_num)))"
   ]
  },
  {
   "cell_type": "code",
   "execution_count": 207,
   "metadata": {},
   "outputs": [],
   "source": [
    "M3_subs_det_sigma0 = M3_subs_det_num.subs(sigma == 0)"
   ]
  },
  {
   "cell_type": "code",
   "execution_count": 208,
   "metadata": {},
   "outputs": [
    {
     "data": {
      "text/latex": [
       "$\\displaystyle -\\frac{\\sqrt{-k_{z}^{2} + \\frac{\\omega^{2}}{c^{2}}} \\epsilon \\omega^{2} e^{\\left(i \\, \\sqrt{-k_{z}^{2} + \\frac{\\omega^{2}}{c^{2}}} a\\right)}}{c^{2}} + \\frac{\\sqrt{-k_{z}^{2} + \\frac{\\omega^{2}}{c^{2}}} \\epsilon \\omega^{2} e^{\\left(-i \\, \\sqrt{-k_{z}^{2} + \\frac{\\omega^{2}}{c^{2}}} a\\right)}}{c^{2}} + \\frac{\\sqrt{-k_{z}^{2} + \\frac{\\epsilon \\mu \\omega^{2}}{c^{2}}} \\omega^{2} e^{\\left(i \\, \\sqrt{-k_{z}^{2} + \\frac{\\omega^{2}}{c^{2}}} a\\right)}}{c^{2}} + \\frac{\\sqrt{-k_{z}^{2} + \\frac{\\epsilon \\mu \\omega^{2}}{c^{2}}} \\omega^{2} e^{\\left(-i \\, \\sqrt{-k_{z}^{2} + \\frac{\\omega^{2}}{c^{2}}} a\\right)}}{c^{2}}$"
      ],
      "text/plain": [
       "<IPython.core.display.Math object>"
      ]
     },
     "metadata": {},
     "output_type": "display_data"
    }
   ],
   "source": [
    "display(Math(latex(M3_subs_det_sigma0)))"
   ]
  },
  {
   "cell_type": "code",
   "execution_count": 209,
   "metadata": {},
   "outputs": [],
   "source": [
    "M3_subs_det_sigma0_a0 = M3_subs_det_sigma0.subs(a == 0)"
   ]
  },
  {
   "cell_type": "code",
   "execution_count": 210,
   "metadata": {},
   "outputs": [
    {
     "data": {
      "text/latex": [
       "$\\displaystyle \\frac{2 \\, \\sqrt{-k_{z}^{2} + \\frac{\\epsilon \\mu \\omega^{2}}{c^{2}}} \\omega^{2}}{c^{2}} = 0$"
      ],
      "text/plain": [
       "<IPython.core.display.Math object>"
      ]
     },
     "metadata": {},
     "output_type": "display_data"
    }
   ],
   "source": [
    "display(Math(latex(M3_subs_det_sigma0_a0  == 0)))"
   ]
  },
  {
   "cell_type": "code",
   "execution_count": 211,
   "metadata": {},
   "outputs": [],
   "source": [
    "kz_init_a0 = solve(M3_subs_det_sigma0_a0 == 0, k_z)"
   ]
  },
  {
   "cell_type": "code",
   "execution_count": 212,
   "metadata": {},
   "outputs": [
    {
     "data": {
      "text/plain": [
       "[k_z == -sqrt(epsilon*mu)*omega/c, k_z == sqrt(epsilon*mu)*omega/c]"
      ]
     },
     "execution_count": 212,
     "metadata": {},
     "output_type": "execute_result"
    }
   ],
   "source": [
    "kz_init_a0"
   ]
  },
  {
   "cell_type": "code",
   "execution_count": 213,
   "metadata": {},
   "outputs": [
    {
     "data": {
      "text/plain": [
       "1/3160*pi"
      ]
     },
     "execution_count": 213,
     "metadata": {},
     "output_type": "execute_result"
    }
   ],
   "source": [
    "#kz_init_a0_d = kz_init_a0[1].subs(digit_values).rhs()\n",
    "kz_init_a0_d = (omega/c).subs(digit_values)\n",
    "kz_init_a0_d"
   ]
  },
  {
   "cell_type": "code",
   "execution_count": null,
   "metadata": {},
   "outputs": [],
   "source": []
  },
  {
   "cell_type": "raw",
   "metadata": {},
   "source": [
    "M3_subs_det_sigma0_diff_k_z   = M3_subs_det_sigma0.diff(k_z)\n",
    "M3_subs_det_sigma0_diff_k_z_d = M3_subs_det_sigma0_diff_k_z.subs(digit_values)\n",
    "M3_subs_det_sigma0_diff_k_z_d"
   ]
  },
  {
   "cell_type": "raw",
   "metadata": {},
   "source": [
    "M3_subs_det_sigma0_d = M3_subs_det_sigma0.subs(digit_values)\n",
    "M3_subs_det_sigma0_d"
   ]
  },
  {
   "cell_type": "raw",
   "metadata": {},
   "source": [
    "M3_subs_det_sigma0_div_diff_k_z   = (M3_subs_det_sigma0/M3_subs_det_sigma0_diff_k_z).full_simplify()\n",
    "M3_subs_det_sigma0_div_diff_k_z_d = M3_subs_det_sigma0_div_diff_k_z.subs(digit_values)\n",
    "M3_subs_det_sigma0_div_diff_k_z_d"
   ]
  },
  {
   "cell_type": "code",
   "execution_count": null,
   "metadata": {},
   "outputs": [],
   "source": []
  },
  {
   "cell_type": "raw",
   "metadata": {},
   "source": [
    "M3_subs_det_diff_k_z   = M3_subs_det.diff(k_z)\n",
    "M3_subs_det_diff_k_z_d = M3_subs_det_diff_k_z.subs(digit_values)\n",
    "M3_subs_det_diff_k_z_d"
   ]
  },
  {
   "cell_type": "raw",
   "metadata": {
    "scrolled": true
   },
   "source": [
    "M3_subs_det_d = M3_subs_det.subs(digit_values)\n",
    "M3_subs_det_d"
   ]
  },
  {
   "cell_type": "raw",
   "metadata": {},
   "source": [
    "M3_subs_det_div_diff_k_z   = (M3_subs_det/M3_subs_det_diff_k_z).full_simplify()\n",
    "M3_subs_det_div_diff_k_z_d = M3_subs_det_div_diff_k_z.subs(digit_values)\n",
    "M3_subs_det_div_diff_k_z_d"
   ]
  },
  {
   "cell_type": "code",
   "execution_count": null,
   "metadata": {},
   "outputs": [],
   "source": []
  },
  {
   "cell_type": "code",
   "execution_count": 214,
   "metadata": {},
   "outputs": [],
   "source": [
    "def NewtonIt(f_div_df, x, xn, step):\n",
    "    print(\"xn\", xn)\n",
    "    #print(\"df\", df)\n",
    "    #print(\"(f/df)\", (f/df))\n",
    "    #delta = (f/df).subs(x == xn)\n",
    "    delta = f_div_df.subs(x == xn).n()\n",
    "    print(\"delta\", delta)\n",
    "    #print(\"step\", step)\n",
    "    step_delta = step*delta\n",
    "    #print(\"step_delta\", step_delta)\n",
    "\n",
    "    res = xn-step_delta\n",
    "    #print (\"_x-step_delta\", _x-step_delta)\n",
    "    #print (\"res\", res)\n",
    "    return res, delta\n",
    "\n",
    "def find_newton_root(f, f_div_df, x, xn):\n",
    "    #df = f.diff(x)\n",
    "    #print (\"f\", f)\n",
    "    #print (\"df\", df)\n",
    "    #print (\"f/df\", f/df)\n",
    "    step = 1.0\n",
    "\n",
    "    for i in range(20):\n",
    "        #xn=N(NewtonIt(xn, step), digits=32)\n",
    "        xn, delta = NewtonIt(f_div_df, x, xn, step)\n",
    "        #print (\"xn\", xn)\n",
    "        \n",
    "        f_n = f.subs(x == xn)\n",
    "        print (\"f_n\",f_n)\n",
    "        #step *= 0.999\n",
    "        if 0 == delta:\n",
    "            break\n",
    "\n",
    "    return xn"
   ]
  },
  {
   "cell_type": "raw",
   "metadata": {},
   "source": [
    "M3_subs_det_sigma0_d"
   ]
  },
  {
   "cell_type": "raw",
   "metadata": {},
   "source": [
    "kz_init_sigma0_d = find_newton_root(M3_subs_det_sigma0_d, M3_subs_det_sigma0_div_diff_k_z_d, k_z, kz_init_a0_d)\n",
    "kz_init_sigma0_d"
   ]
  },
  {
   "cell_type": "raw",
   "metadata": {},
   "source": [
    "M3_subs_det"
   ]
  },
  {
   "cell_type": "code",
   "execution_count": 215,
   "metadata": {},
   "outputs": [
    {
     "data": {
      "text/plain": [
       "1/3160*pi"
      ]
     },
     "execution_count": 215,
     "metadata": {},
     "output_type": "execute_result"
    }
   ],
   "source": [
    "#kz_init_d = find_newton_root(M3_subs_det_d, M3_subs_det_div_diff_k_z_d, k_z, kz_init_a0_d)\n",
    "kz_init_d = (omega/c).subs(digit_values)\n",
    "kz_init_d"
   ]
  },
  {
   "cell_type": "code",
   "execution_count": null,
   "metadata": {},
   "outputs": [],
   "source": []
  },
  {
   "cell_type": "code",
   "execution_count": 216,
   "metadata": {},
   "outputs": [],
   "source": [
    "M3_subs_det_kz_sz = M3_subs_det_num.subs(k_z == kz + I * sz)"
   ]
  },
  {
   "cell_type": "code",
   "execution_count": null,
   "metadata": {},
   "outputs": [],
   "source": []
  },
  {
   "cell_type": "code",
   "execution_count": null,
   "metadata": {},
   "outputs": [],
   "source": []
  },
  {
   "cell_type": "code",
   "execution_count": 217,
   "metadata": {},
   "outputs": [],
   "source": [
    "M3_subs_det_re = M3_subs_det_kz_sz.real()"
   ]
  },
  {
   "cell_type": "code",
   "execution_count": 218,
   "metadata": {},
   "outputs": [],
   "source": [
    "M3_subs_det_im = M3_subs_det_kz_sz.imag()"
   ]
  },
  {
   "cell_type": "code",
   "execution_count": null,
   "metadata": {},
   "outputs": [],
   "source": []
  },
  {
   "cell_type": "code",
   "execution_count": 219,
   "metadata": {},
   "outputs": [
    {
     "data": {
      "text/latex": [
       "$\\displaystyle -\\frac{4 i \\, \\pi \\sqrt{-{\\left(\\mathit{kz} + i \\, \\mathit{sz}\\right)}^{2} + \\frac{\\omega^{2}}{c^{2}}} \\omega \\sigma e^{\\left(i \\, \\sqrt{-{\\left(\\mathit{kz} + i \\, \\mathit{sz}\\right)}^{2} + \\frac{\\omega^{2}}{c^{2}}} a\\right)}}{c} + \\frac{4 i \\, \\pi \\sqrt{-{\\left(\\mathit{kz} + i \\, \\mathit{sz}\\right)}^{2} + \\frac{\\omega^{2}}{c^{2}}} \\omega \\sigma e^{\\left(-i \\, \\sqrt{-{\\left(\\mathit{kz} + i \\, \\mathit{sz}\\right)}^{2} + \\frac{\\omega^{2}}{c^{2}}} a\\right)}}{c} - \\frac{\\sqrt{-{\\left(\\mathit{kz} + i \\, \\mathit{sz}\\right)}^{2} + \\frac{\\omega^{2}}{c^{2}}} \\epsilon \\omega^{2} e^{\\left(i \\, \\sqrt{-{\\left(\\mathit{kz} + i \\, \\mathit{sz}\\right)}^{2} + \\frac{\\omega^{2}}{c^{2}}} a\\right)}}{c^{2}} + \\frac{\\sqrt{-{\\left(\\mathit{kz} + i \\, \\mathit{sz}\\right)}^{2} + \\frac{\\omega^{2}}{c^{2}}} \\epsilon \\omega^{2} e^{\\left(-i \\, \\sqrt{-{\\left(\\mathit{kz} + i \\, \\mathit{sz}\\right)}^{2} + \\frac{\\omega^{2}}{c^{2}}} a\\right)}}{c^{2}} + \\frac{\\sqrt{\\frac{4 i \\, \\pi \\mu \\omega \\sigma}{c} - {\\left(\\mathit{kz} + i \\, \\mathit{sz}\\right)}^{2} + \\frac{\\epsilon \\mu \\omega^{2}}{c^{2}}} \\omega^{2} e^{\\left(i \\, \\sqrt{-{\\left(\\mathit{kz} + i \\, \\mathit{sz}\\right)}^{2} + \\frac{\\omega^{2}}{c^{2}}} a\\right)}}{c^{2}} + \\frac{\\sqrt{\\frac{4 i \\, \\pi \\mu \\omega \\sigma}{c} - {\\left(\\mathit{kz} + i \\, \\mathit{sz}\\right)}^{2} + \\frac{\\epsilon \\mu \\omega^{2}}{c^{2}}} \\omega^{2} e^{\\left(-i \\, \\sqrt{-{\\left(\\mathit{kz} + i \\, \\mathit{sz}\\right)}^{2} + \\frac{\\omega^{2}}{c^{2}}} a\\right)}}{c^{2}}$"
      ],
      "text/plain": [
       "<IPython.core.display.Math object>"
      ]
     },
     "metadata": {},
     "output_type": "display_data"
    }
   ],
   "source": [
    "display(Math(latex(M3_subs_det_kz_sz)))"
   ]
  },
  {
   "cell_type": "code",
   "execution_count": 220,
   "metadata": {},
   "outputs": [
    {
     "data": {
      "text/latex": [
       "$\\displaystyle \\frac{{\\left(\\sqrt{4 i \\, \\pi c \\mu \\omega \\sigma - c^{2} \\mathit{kz}^{2} + \\epsilon \\mu \\omega^{2} - 2 i \\, c^{2} \\mathit{kz} \\mathit{sz} + c^{2} \\mathit{sz}^{2}} \\omega^{2} + {\\left(\\sqrt{4 i \\, \\pi c \\mu \\omega \\sigma - c^{2} \\mathit{kz}^{2} + \\epsilon \\mu \\omega^{2} - 2 i \\, c^{2} \\mathit{kz} \\mathit{sz} + c^{2} \\mathit{sz}^{2}} \\omega^{2} + {\\left(-4 i \\, \\pi c^{2} \\omega \\sigma - c \\epsilon \\omega^{2}\\right)} \\sqrt{-\\frac{c^{2} \\mathit{kz}^{2} + 2 i \\, c^{2} \\mathit{kz} \\mathit{sz} - c^{2} \\mathit{sz}^{2} - \\omega^{2}}{c^{2}}}\\right)} e^{\\left(2 i \\, a \\sqrt{-\\frac{c^{2} \\mathit{kz}^{2} + 2 i \\, c^{2} \\mathit{kz} \\mathit{sz} - c^{2} \\mathit{sz}^{2} - \\omega^{2}}{c^{2}}}\\right)} + {\\left(4 i \\, \\pi c^{2} \\omega \\sigma + c \\epsilon \\omega^{2}\\right)} \\sqrt{-\\frac{c^{2} \\mathit{kz}^{2} + 2 i \\, c^{2} \\mathit{kz} \\mathit{sz} - c^{2} \\mathit{sz}^{2} - \\omega^{2}}{c^{2}}}\\right)} e^{\\left(-i \\, a \\sqrt{-\\frac{c^{2} \\mathit{kz}^{2} + 2 i \\, c^{2} \\mathit{kz} \\mathit{sz} - c^{2} \\mathit{sz}^{2} - \\omega^{2}}{c^{2}}}\\right)}}{c^{3}}$"
      ],
      "text/plain": [
       "<IPython.core.display.Math object>"
      ]
     },
     "metadata": {},
     "output_type": "display_data"
    }
   ],
   "source": [
    "display(Math(latex(M3_subs_det_kz_sz.full_simplify())))"
   ]
  },
  {
   "cell_type": "code",
   "execution_count": null,
   "metadata": {},
   "outputs": [],
   "source": []
  },
  {
   "cell_type": "code",
   "execution_count": null,
   "metadata": {},
   "outputs": [],
   "source": []
  },
  {
   "cell_type": "code",
   "execution_count": 221,
   "metadata": {},
   "outputs": [],
   "source": [
    "M3_subs_det_re_diff_kz = M3_subs_det_re.diff(kz)\n",
    "M3_subs_det_im_diff_kz = M3_subs_det_im.diff(kz)\n",
    "M3_subs_det_re_diff_sz = M3_subs_det_re.diff(sz)\n",
    "M3_subs_det_im_diff_sz = M3_subs_det_im.diff(sz)"
   ]
  },
  {
   "cell_type": "code",
   "execution_count": null,
   "metadata": {},
   "outputs": [],
   "source": []
  },
  {
   "cell_type": "code",
   "execution_count": 222,
   "metadata": {},
   "outputs": [],
   "source": [
    "M3_subs_det_re_div_diff_kz = (M3_subs_det_re / M3_subs_det_re_diff_kz)\n",
    "M3_subs_det_im_div_diff_kz = (M3_subs_det_im / M3_subs_det_im_diff_kz)\n",
    "M3_subs_det_re_div_diff_sz = (M3_subs_det_re / M3_subs_det_re_diff_sz)\n",
    "M3_subs_det_im_div_diff_sz = (M3_subs_det_im / M3_subs_det_im_diff_sz)"
   ]
  },
  {
   "cell_type": "code",
   "execution_count": null,
   "metadata": {},
   "outputs": [],
   "source": []
  },
  {
   "cell_type": "code",
   "execution_count": 223,
   "metadata": {},
   "outputs": [],
   "source": [
    "M3_subs_det_re_d = M3_subs_det_re.subs(digit_values)\n",
    "M3_subs_det_im_d = M3_subs_det_im.subs(digit_values)"
   ]
  },
  {
   "cell_type": "code",
   "execution_count": null,
   "metadata": {},
   "outputs": [],
   "source": []
  },
  {
   "cell_type": "code",
   "execution_count": 224,
   "metadata": {},
   "outputs": [
    {
     "data": {
      "text/latex": [
       "$\\displaystyle \\left(\\mathit{kz}, \\mathit{sz}\\right)$"
      ],
      "text/plain": [
       "<IPython.core.display.Math object>"
      ]
     },
     "metadata": {},
     "output_type": "display_data"
    }
   ],
   "source": [
    "display(Math(latex(M3_subs_det_re_d.variables())))"
   ]
  },
  {
   "cell_type": "code",
   "execution_count": 225,
   "metadata": {},
   "outputs": [
    {
     "data": {
      "text/plain": [
       "3.93265384450101e-11"
      ]
     },
     "execution_count": 225,
     "metadata": {},
     "output_type": "execute_result"
    }
   ],
   "source": [
    "k_z_02 = 2*sqrt(I*pi*mu*omega*sigma/c)*omega*sqrt(-(4*I*pi*c*mu*omega*sigma - mu^2*omega^2)/(16*pi^2*c^2*mu^2*omega^2*sigma^2 + mu^2*omega^4))\n",
    "kz_init_im = k_z_02.subs(digit_values).imag().n()\n",
    "kz_init_im"
   ]
  },
  {
   "cell_type": "code",
   "execution_count": 226,
   "metadata": {},
   "outputs": [],
   "source": [
    "make_investigation_plots = True"
   ]
  },
  {
   "cell_type": "code",
   "execution_count": 227,
   "metadata": {},
   "outputs": [],
   "source": [
    "if make_investigation_plots:\n",
    "    import numpy as np\n",
    "    import matplotlib.pyplot as plt\n",
    "    %matplotlib inline\n",
    "\n",
    "    kz_linspace = np.linspace(0, 1e-2, 10)\n",
    "    sz_linspace = np.linspace(0, 1e-3, 10)\n",
    "\n",
    "    kz_list = kz_linspace.tolist()\n",
    "    sz_list = sz_linspace.tolist()\n",
    "\n",
    "    kz_grid, sz_grid = np.meshgrid(kz_linspace, sz_linspace)\n",
    "\n",
    "    u = kz_grid * np.nan\n",
    "    v = sz_grid * np.nan\n",
    "\n",
    "    for ikz in np.arange(0, len(kz_linspace), 1):\n",
    "        for isz in np.arange(0, len(sz_linspace), 1):\n",
    "            kz_i = kz_list[ikz]\n",
    "            sz_i = sz_list[isz]\n",
    "            u[isz][ikz] = M3_subs_det_re_d.subs(kz == kz_i).subs(sz == sz_i).n()\n",
    "            v[isz][ikz] = M3_subs_det_im_d.subs(kz == kz_i).subs(sz == sz_i).n()"
   ]
  },
  {
   "cell_type": "markdown",
   "metadata": {},
   "source": [
    "Искомый волновой вектор можно найти графическим методом как точку пересечения двух нулевых изолиний на контурных графиках зависимости действительной и мнимой компонент детерминанта от действительной и мнимой компонент волнового вектора"
   ]
  },
  {
   "cell_type": "code",
   "execution_count": 228,
   "metadata": {},
   "outputs": [
    {
     "data": {
      "image/png": "[encoded data removed]",
      "text/plain": [
       "<Figure size 432x288 with 2 Axes>"
      ]
     },
     "metadata": {
      "needs_background": "light"
     },
     "output_type": "display_data"
    }
   ],
   "source": [
    "if make_investigation_plots:\n",
    "    fig,ax=plt.subplots(1,1)\n",
    "\n",
    "    cp = ax.contourf(kz_grid,sz_grid, u)\n",
    "    fig.colorbar(cp) # Add a colorbar to a plot\n",
    "    ax.set_title('M3_subs_det_re')\n",
    "    ax.set_xlabel('kz')\n",
    "    ax.set_ylabel('sz')\n",
    "    plt.show()"
   ]
  },
  {
   "cell_type": "code",
   "execution_count": 229,
   "metadata": {},
   "outputs": [
    {
     "data": {
      "image/png": "[encoded data removed]",
      "text/plain": [
       "<Figure size 432x288 with 2 Axes>"
      ]
     },
     "metadata": {
      "needs_background": "light"
     },
     "output_type": "display_data"
    }
   ],
   "source": [
    "if make_investigation_plots:\n",
    "    fig,ax=plt.subplots(1,1)\n",
    "\n",
    "    cp = ax.contourf(kz_grid,sz_grid, v)\n",
    "    fig.colorbar(cp) # Add a colorbar to a plot\n",
    "    ax.set_title('M3_subs_det_im')\n",
    "    ax.set_xlabel('kz')\n",
    "    ax.set_ylabel('sz')\n",
    "    plt.show()"
   ]
  },
  {
   "cell_type": "code",
   "execution_count": 230,
   "metadata": {},
   "outputs": [
    {
     "data": {
      "image/png": "[encoded data removed]",
      "text/plain": [
       "<Figure size 432x288 with 1 Axes>"
      ]
     },
     "metadata": {
      "needs_background": "light"
     },
     "output_type": "display_data"
    }
   ],
   "source": [
    "if make_investigation_plots:\n",
    "    from mpl_toolkits import mplot3d\n",
    "    import numpy as np\n",
    "    import matplotlib.pyplot as plt\n",
    "    fig = plt.figure()\n",
    "\n",
    "    ax = plt.axes(projection='3d')\n",
    "    ax.set_xlabel('kz')\n",
    "    ax.set_ylabel('sz')\n",
    "    ax.plot_surface(kz_grid, sz_grid, u, cmap='viridis', edgecolor='none')\n",
    "    ax.set_title('M3_subs_det_re')\n",
    "    plt.show()"
   ]
  },
  {
   "cell_type": "code",
   "execution_count": 231,
   "metadata": {},
   "outputs": [
    {
     "data": {
      "image/png": "[encoded data removed]",
      "text/plain": [
       "<Figure size 432x288 with 1 Axes>"
      ]
     },
     "metadata": {
      "needs_background": "light"
     },
     "output_type": "display_data"
    }
   ],
   "source": [
    "if make_investigation_plots:\n",
    "    from mpl_toolkits import mplot3d\n",
    "    import numpy as np\n",
    "    import matplotlib.pyplot as plt\n",
    "    fig = plt.figure()\n",
    "\n",
    "    ax = plt.axes(projection='3d')\n",
    "    ax.set_xlabel('kz')\n",
    "    ax.set_ylabel('sz')\n",
    "    ax.plot_surface(kz_grid, sz_grid, v, cmap='viridis', edgecolor='none')\n",
    "    ax.set_title('M3_subs_det_im')\n",
    "    plt.show()"
   ]
  },
  {
   "cell_type": "code",
   "execution_count": null,
   "metadata": {},
   "outputs": [],
   "source": []
  },
  {
   "cell_type": "code",
   "execution_count": null,
   "metadata": {},
   "outputs": [],
   "source": []
  },
  {
   "cell_type": "code",
   "execution_count": 232,
   "metadata": {},
   "outputs": [],
   "source": [
    "M3_subs_det_re_div_diff_kz_d = M3_subs_det_re_div_diff_kz.subs(digit_values)\n",
    "M3_subs_det_im_div_diff_kz_d = M3_subs_det_im_div_diff_kz.subs(digit_values)\n",
    "M3_subs_det_re_div_diff_sz_d = M3_subs_det_re_div_diff_sz.subs(digit_values)\n",
    "M3_subs_det_im_div_diff_sz_d = M3_subs_det_im_div_diff_sz.subs(digit_values)"
   ]
  },
  {
   "cell_type": "markdown",
   "metadata": {},
   "source": [
    "метод ньютона для комплексной функции от комплексного аргумента\n",
    "комплексная функция представляется в виде двух функций: ее действительной и мнимой частей\n",
    "также мы предварительно должны посчитать все четыре варианта первых производных: действительной компоненты функции от обоих компонент аргумента и также и для мнимой части\n",
    "\n",
    "на вход метода find_newton_complex_root() подается:\n",
    "\n",
    "- выражения для действительной и мнимой частей исследуемой комплексной функции\n",
    "\n",
    "- четыре выражения для отношения каждой компоненты комплексной функции к ее производной по каждой компоненте аргумента\n",
    "\n",
    "- символьное представление действительной и мнимой части аргумента\n",
    "\n",
    "- начальные значения действительной и мнимой части аргумента"
   ]
  },
  {
   "cell_type": "code",
   "execution_count": 233,
   "metadata": {},
   "outputs": [],
   "source": [
    "def find_newton_complex_root(f_re, f_im,\n",
    "                             f_re_div_df_re,\n",
    "                             f_im_div_df_re,\n",
    "                             f_re_div_df_im,\n",
    "                             f_im_div_df_im,\n",
    "                             xre, xim,\n",
    "                             xn_re, xn_im, nsteps = 100):\n",
    "    print (\"xre\", xre)\n",
    "    print (\"xim\", xim)\n",
    "    print (\"xn_re\", xn_re)\n",
    "    print (\"xn_im\", xn_im)\n",
    "\n",
    "    step_re_im = 0.95\n",
    "    step_im_im = 0.95\n",
    "    step_re_re = 0.95\n",
    "    step_im_re = 0.95\n",
    "    \n",
    "    step_m = 0.8\n",
    "    abs_m = 1.1\n",
    "    \n",
    "    delta_epsilon = 1e-32\n",
    "\n",
    "    f_re_new = f_re.subs(xre == xn_re).subs(xim == xn_im).n()\n",
    "    print(\"\\nf_re_new = \", f_re_new)\n",
    "    \n",
    "    f_im_new = f_im.subs(xre == xn_re).subs(xim == xn_im).n()\n",
    "    print(\"\\nf_im_new = \", f_im_new)\n",
    "\n",
    "    f_abs_2 = f_re_new^2+f_im_new^2\n",
    "    print(\"\\nf_abs_2 = \", f_abs_2)\n",
    "            \n",
    "    for i in range(nsteps):\n",
    "        try:\n",
    "            print(\"\\nre_d_re xn = \", xn_re, xn_im, \"step = \", step_re_re)\n",
    "            xn_re_new, delta_re_re = NewtonIt(f_re_div_df_re.subs(xim == xn_im), xre, xn_re, step_re_re)\n",
    "            f_re_new = f_re.subs(xre == xn_re_new).subs(xim == xn_im).n()\n",
    "            f_im_new = f_im.subs(xre == xn_re_new).subs(xim == xn_im).n()\n",
    "            f_abs_2_new = f_re_new^2+f_im_new^2\n",
    "            print(\"f_abs_2_new\", f_abs_2_new)\n",
    "            if f_abs_2_new > abs_m*f_abs_2:\n",
    "                step_re_re *= step_m\n",
    "            else:\n",
    "                xn_re = xn_re_new\n",
    "                f_abs_2 = f_abs_2_new\n",
    "                if step_re_re < 0.9:\n",
    "                    step_re_re /= step_m\n",
    "                print (\"f_new\",f_re_new, f_im_new)\n",
    "        except Exception as ex:\n",
    "            print(ex)\n",
    "\n",
    "        try:\n",
    "            print(\"\\nim_d_re xn = \", xn_re, xn_im, \"step = \", step_im_re)\n",
    "            xn_re_new, delta_im_re = NewtonIt(f_im_div_df_re.subs(xim == xn_im), xre, xn_re, step_im_re)\n",
    "            f_re_new = f_re.subs(xre == xn_re_new).subs(xim == xn_im).n()\n",
    "            f_im_new = f_im.subs(xre == xn_re_new).subs(xim == xn_im).n()\n",
    "            f_abs_2_new = f_re_new^2+f_im_new^2\n",
    "            print(\"f_abs_2_new\", f_abs_2_new)\n",
    "            if f_abs_2_new > abs_m*f_abs_2:\n",
    "                step_im_re *= step_m\n",
    "            else:\n",
    "                xn_re = xn_re_new\n",
    "                f_abs_2 = f_abs_2_new\n",
    "                if step_im_re < 0.9:\n",
    "                    step_im_re /= step_m\n",
    "                print (\"f_new\",f_re_new, f_im_new)\n",
    "        except Exception as ex:\n",
    "            print(ex)\n",
    "\n",
    "        try:\n",
    "            print(\"\\nre_d_im xn = \", xn_re, xn_im, \"step = \", step_re_im)\n",
    "            xn_im_new, delta_re_im = NewtonIt(f_re_div_df_im.subs(xre == xn_re), xim, xn_im, step_re_im)\n",
    "            f_re_new = f_re.subs(xre == xn_re).subs(xim == xn_im_new).n()\n",
    "            f_im_new = f_im.subs(xre == xn_re).subs(xim == xn_im_new).n()\n",
    "            f_abs_2_new = f_re_new^2+f_im_new^2\n",
    "            print(\"f_abs_2_new\", f_abs_2_new)\n",
    "            if f_abs_2_new > abs_m*f_abs_2:\n",
    "                step_re_im *= step_m\n",
    "            else:\n",
    "                xn_im = xn_im_new\n",
    "                f_abs_2 = f_abs_2_new\n",
    "                if step_re_im < 0.9:\n",
    "                    step_re_im /= step_m\n",
    "                print (\"f_new\",f_re_new, f_im_new)\n",
    "        except Exception as ex:\n",
    "            print(ex)\n",
    "\n",
    "        try:\n",
    "            print(\"\\nim_d_im xn = \", xn_re, xn_im, \"step = \", step_im_im)\n",
    "            xn_im_new, delta_im_im = NewtonIt(f_im_div_df_im.subs(xre == xn_re), xim, xn_im, step_im_im)\n",
    "            f_re_new = f_re.subs(xre == xn_re).subs(xim == xn_im_new).n()\n",
    "            f_im_new = f_im.subs(xre == xn_re).subs(xim == xn_im_new).n()\n",
    "            f_abs_2_new = f_re_new^2+f_im_new^2\n",
    "            print(\"f_abs_2_new\", f_abs_2_new)\n",
    "            if f_abs_2_new > abs_m*f_abs_2:\n",
    "                step_im_im *= step_m\n",
    "            else:\n",
    "                xn_im = xn_im_new\n",
    "                f_abs_2 = f_abs_2_new\n",
    "                if step_im_im < 0.9:\n",
    "                    step_im_im /= step_m\n",
    "                print (\"f_new\",f_re_new, f_im_new)\n",
    "            \n",
    "        except Exception as ex:\n",
    "            print(ex)\n",
    "\n",
    "        if abs(delta_re_re) < delta_epsilon and \\\n",
    "           abs(delta_re_im) < delta_epsilon and \\\n",
    "           abs(delta_im_re) < delta_epsilon and \\\n",
    "           abs(delta_im_im) < delta_epsilon:\n",
    "            break\n",
    "\n",
    "    return xn_re, xn_im, f_re_new, f_im_new"
   ]
  },
  {
   "cell_type": "code",
   "execution_count": null,
   "metadata": {},
   "outputs": [],
   "source": []
  },
  {
   "cell_type": "raw",
   "metadata": {},
   "source": [
    "k_z_root = find_newton_complex_root(\n",
    "    M3_subs_det_re_d,\\\n",
    "    M3_subs_det_im_d,\\\n",
    "    M3_subs_det_re_div_diff_kz_d,\\\n",
    "    M3_subs_det_im_div_diff_kz_d,\\\n",
    "    M3_subs_det_re_div_diff_sz_d,\\\n",
    "    M3_subs_det_im_div_diff_sz_d,\\\n",
    "    xre = kz, xim = sz,\\\n",
    "    xn_re = kz_init_sigma0_d, xn_im = kz_init_im)"
   ]
  },
  {
   "cell_type": "markdown",
   "metadata": {},
   "source": [
    "инициализируем метод ньютона значениями найденными на глаз графическим методом"
   ]
  },
  {
   "cell_type": "code",
   "execution_count": 234,
   "metadata": {},
   "outputs": [
    {
     "name": "stdout",
     "output_type": "stream",
     "text": [
      "xre kz\n",
      "xim sz\n",
      "xn_re 0.00100000000000000\n",
      "xn_im 0.000100000000000000\n",
      "\n",
      "f_re_new =  4.89998269186237e-6\n",
      "\n",
      "f_im_new =  -5.68913626584727e-8\n",
      "\n",
      "f_abs_2 =  2.40130670076959e-11\n",
      "\n",
      "re_d_re xn =  0.00100000000000000 0.000100000000000000 step =  0.950000000000000\n",
      "xn 0.00100000000000000\n",
      "delta -0.0000980524618581776\n",
      "f_abs_2_new 2.73279434773981e-13\n",
      "f_new 2.81952099072738e-8 -5.22000445318072e-7\n",
      "\n",
      "im_d_re xn =  0.00109314983876527 0.000100000000000000 step =  0.950000000000000\n",
      "xn 0.00109314983876527\n",
      "delta 0.000104547621101855\n",
      "f_abs_2_new 2.71175415433774e-11\n",
      "\n",
      "re_d_im xn =  0.00109314983876527 0.000100000000000000 step =  0.950000000000000\n",
      "xn 0.000100000000000000\n",
      "delta 5.64701074234592e-6\n",
      "f_abs_2_new 5.24179309094719e-14\n",
      "f_new 2.12885740038794e-9 -2.28939727604539e-7\n",
      "\n",
      "im_d_im xn =  0.00109314983876527 0.0000946353397947714 step =  0.950000000000000\n",
      "xn 0.0000946353397947714\n",
      "delta 4.19088608590518e-6\n",
      "f_abs_2_new 3.96279565572172e-16\n",
      "f_new -1.62863547759622e-8 -1.14470176763935e-8\n",
      "\n",
      "re_d_re xn =  0.00109314983876527 0.0000906539980131615 step =  0.950000000000000\n",
      "xn 0.00109314983876527\n",
      "delta 2.98132080322747e-7\n",
      "f_abs_2_new 1.03997013612585e-16\n",
      "f_new -8.16322061469685e-10 -1.01651675787733e-8\n",
      "\n",
      "im_d_re xn =  0.00109286661328896 0.0000906539980131615 step =  0.760000000000000\n",
      "xn 0.00109286661328896\n",
      "delta 2.24599902871752e-6\n",
      "f_abs_2_new 8.53160434684940e-15\n",
      "\n",
      "re_d_im xn =  0.00109286661328896 0.0000906539980131615 step =  0.950000000000000\n",
      "xn 0.0000906539980131615\n",
      "delta -1.80366781100940e-7\n",
      "f_abs_2_new 3.81155482532092e-16\n",
      "\n",
      "im_d_im xn =  0.00109286661328896 0.0000906539980131615 step =  0.950000000000000\n",
      "xn 0.0000906539980131615\n",
      "delta 1.86128080213328e-7\n",
      "f_abs_2_new 2.86919480202464e-18\n",
      "f_new -1.61581810835511e-9 -5.08258440890420e-10\n",
      "\n",
      "re_d_re xn =  0.00109286661328896 0.0000904771763369588 step =  0.950000000000000\n",
      "xn 0.00109286661328896\n",
      "delta 2.95862437874107e-8\n",
      "f_abs_2_new 1.51918242910010e-19\n",
      "f_new -8.08106451048131e-11 -3.81297629874294e-10\n",
      "\n",
      "im_d_re xn =  0.00109283850635736 0.0000904771763369588 step =  0.608000000000000\n",
      "xn 0.00109283850635736\n",
      "delta 8.44127118316058e-8\n",
      "f_abs_2_new 7.43158781806292e-18\n",
      "\n",
      "re_d_im xn =  0.00109283850635736 0.0000904771763369588 step =  0.760000000000000\n",
      "xn 0.0000904771763369588\n",
      "delta -1.78900820485774e-8\n",
      "f_abs_2_new 1.26337753835659e-18\n",
      "\n",
      "im_d_im xn =  0.00109283850635736 0.0000904771763369588 step =  0.950000000000000\n",
      "xn 0.0000904771763369588\n",
      "delta 6.98188413046830e-9\n",
      "f_abs_2_new 1.26335256002784e-20\n",
      "f_new -1.10770284491162e-10 -1.90648806454535e-11\n",
      "\n",
      "re_d_re xn =  0.00109283850635736 0.0000904705435470349 step =  0.950000000000000\n",
      "xn 0.00109283850635736\n",
      "delta 2.02829819747780e-9\n",
      "f_abs_2_new 1.38040229214457e-22\n",
      "f_new -5.53860462291350e-12 -1.03616643472706e-11\n",
      "\n",
      "im_d_re xn =  0.00109283657947408 0.0000904705435470349 step =  0.486400000000000\n",
      "xn 0.00109283657947408\n",
      "delta 2.29406195135025e-9\n",
      "f_abs_2_new 3.09742920975320e-21\n",
      "\n",
      "re_d_im xn =  0.00109283657947408 0.0000904705435470349 step =  0.608000000000000\n",
      "xn 0.0000904705435470349\n",
      "delta -1.22624147340817e-9\n",
      "f_abs_2_new 2.61369124132688e-21\n",
      "\n",
      "im_d_im xn =  0.00109283657947408 0.0000904705435470349 step =  0.950000000000000\n",
      "xn 0.0000904705435470349\n",
      "delta 1.89731230673260e-10\n",
      "f_abs_2_new 4.06254792140547e-23\n",
      "f_new -6.35272136509953e-12 -5.18083459939278e-13\n",
      "\n",
      "re_d_re xn =  0.00109283657947408 0.0000904703633023657 step =  0.950000000000000\n",
      "xn 0.00109283657947408\n",
      "delta 1.16323947326092e-10\n",
      "f_abs_2_new 1.01252304611314e-25\n",
      "f_new -3.17636876834828e-13 -1.89504376184475e-14\n",
      "\n",
      "im_d_re xn =  0.00109283646896633 0.0000904703633023657 step =  0.389120000000000\n",
      "xn 0.00109283646896633\n",
      "delta 4.19569302879525e-12\n",
      "f_abs_2_new 5.23351385442010e-26\n",
      "f_new -2.28475655124060e-13 -1.15764225835306e-14\n",
      "\n",
      "re_d_im xn =  0.00109283646733370 0.0000904703633023657 step =  0.486400000000000\n",
      "xn 0.0000904703633023657\n",
      "delta -5.05844247113574e-11\n",
      "f_abs_2_new 1.85053328206870e-24\n",
      "\n",
      "im_d_im xn =  0.00109283646733370 0.0000904703633023657 step =  0.950000000000000\n",
      "xn 0.0000904703633023657\n",
      "delta 2.11969204982772e-13\n",
      "f_abs_2_new 5.26188178745443e-26\n",
      "f_new -2.29387187531820e-13 -5.79716125364421e-16\n",
      "\n",
      "re_d_re xn =  0.00109283646733370 0.0000904703631009950 step =  0.950000000000000\n",
      "xn 0.00109283646733370\n",
      "delta 4.20024783868019e-12\n",
      "f_abs_2_new 4.35805401695998e-28\n",
      "f_new -1.14673027964769e-14 1.74443792744228e-14\n",
      "\n",
      "im_d_re xn =  0.00109283646334346 0.0000904703631009950 step =  0.486400000000000\n",
      "xn 0.00109283646334346\n",
      "delta -3.86195805119740e-12\n",
      "f_abs_2_new 1.30888391937962e-26\n",
      "\n",
      "re_d_im xn =  0.00109283646334346 0.0000904703631009950 step =  0.389120000000000\n",
      "xn 0.0000904703631009950\n",
      "delta -2.53910312553781e-12\n",
      "f_abs_2_new 1.38234694249978e-27\n",
      "\n",
      "im_d_im xn =  0.00109283646334346 0.0000904703631009950 step =  0.950000000000000\n",
      "xn 0.0000904703631009950\n",
      "delta -3.19404045963706e-13\n",
      "f_abs_2_new 1.02729278519890e-28\n",
      "f_new -1.00978908398957e-14 8.72856864233716e-16\n",
      "\n",
      "re_d_re xn =  0.00109283646334346 0.0000904703634044288 step =  0.950000000000000\n",
      "xn 0.00109283646334346\n",
      "delta 1.84914815262553e-13\n",
      "f_abs_2_new 3.03054069890029e-30\n",
      "f_new -5.07406616723216e-16 1.66525650402747e-15\n",
      "\n",
      "im_d_re xn =  0.00109283646316779 0.0000904703634044288 step =  0.389120000000000\n",
      "xn 0.00109283646316779\n",
      "delta -3.68736102007853e-13\n",
      "f_abs_2_new 7.06277950659999e-29\n",
      "\n",
      "re_d_im xn =  0.00109283646316779 0.0000904703634044288 step =  0.311296000000000\n",
      "xn 0.0000904703634044288\n",
      "delta -1.11795857077129e-13\n",
      "f_abs_2_new 1.76580395165428e-31\n",
      "f_new -3.48643790347994e-16 -2.34580269027921e-16\n",
      "\n",
      "im_d_im xn =  0.00109283646316779 0.0000904703634392304 step =  0.950000000000000\n",
      "xn 0.0000904703634392304\n",
      "delta 4.31264976729477e-15\n",
      "f_abs_2_new 1.33249982832956e-31\n",
      "f_new -3.64885998094669e-16 -1.04015012095684e-17\n",
      "\n",
      "re_d_re xn =  0.00109283646316779 0.0000904703634351334 step =  0.950000000000000\n",
      "xn 0.00109283646316779\n",
      "delta 6.71695702250637e-15\n",
      "f_abs_2_new 6.36979826931342e-34\n",
      "f_new -1.70065157567350e-17 1.86482773667507e-17\n",
      "\n",
      "im_d_re xn =  0.00109283646316141 0.0000904703634351334 step =  0.311296000000000\n",
      "xn 0.00109283646316141\n",
      "delta -4.03303957571539e-15\n",
      "f_abs_2_new 8.00393851986178e-33\n",
      "\n",
      "re_d_im xn =  0.00109283646316141 0.0000904703634351334 step =  0.389120000000000\n",
      "xn 0.0000904703634351334\n",
      "delta -4.11847581693117e-15\n",
      "f_abs_2_new 4.95116734462918e-33\n",
      "\n",
      "im_d_im xn =  0.00109283646316141 0.0000904703634351334 step =  0.950000000000000\n",
      "xn 0.0000904703634351334\n",
      "delta -3.33553380414053e-16\n",
      "f_abs_2_new 2.43293116080398e-34\n",
      "f_new -1.55642304057978e-17 1.02364444786156e-18\n",
      "\n",
      "re_d_re xn =  0.00109283646316141 0.0000904703634354503 step =  0.950000000000000\n",
      "xn 0.00109283646316141\n",
      "delta 2.95201256380860e-16\n",
      "f_abs_2_new 6.89834006026216e-36\n",
      "f_new -9.59460854570670e-19 2.44494886016225e-18\n",
      "\n",
      "im_d_re xn =  0.00109283646316113 0.0000904703634354503 step =  0.249036800000000\n",
      "xn 0.00109283646316113\n",
      "delta -4.28114206730755e-16\n",
      "f_abs_2_new 8.77296290732420e-35\n",
      "\n",
      "re_d_im xn =  0.00109283646316113 0.0000904703634354503 step =  0.311296000000000\n",
      "xn 0.0000904703634354503\n",
      "delta -3.13779295264375e-16\n",
      "f_abs_2_new 1.34235465759136e-35\n",
      "\n",
      "im_d_im xn =  0.00109283646316113 0.0000904703634354503 step =  0.950000000000000\n",
      "xn 0.0000904703634354503\n",
      "delta -3.54072748798258e-17\n",
      "f_abs_2_new 5.58090959854827e-36\n",
      "f_new -2.32857316228664e-18 3.98317243446335e-19\n",
      "\n",
      "re_d_re xn =  0.00109283646316113 0.0000904703634354839 step =  0.950000000000000\n",
      "xn 0.00109283646316113\n",
      "delta 1.92011437070198e-17\n",
      "f_abs_2_new 4.87188290532045e-37\n",
      "f_new -6.42968834305964e-19 2.71623578953071e-19\n",
      "\n",
      "im_d_re xn =  0.00109283646316111 0.0000904703634354839 step =  0.199229440000000\n",
      "xn 0.00109283646316111\n",
      "delta 7.22384555848124e-17\n",
      "f_abs_2_new 3.89097113499208e-37\n",
      "f_new -6.06462872332161e-19 -1.45944845684364e-19\n",
      "\n",
      "re_d_im xn =  0.00109283646316110 0.0000904703634354839 step =  0.249036800000000\n",
      "xn 0.0000904703634354839\n",
      "delta 2.48475001482560e-16\n",
      "f_abs_2_new 1.05725909864804e-35\n",
      "\n",
      "im_d_im xn =  0.00109283646316110 0.0000904703634354839 step =  0.950000000000000\n",
      "xn 0.0000904703634354839\n",
      "delta -7.66114336642128e-18\n",
      "f_abs_2_new 2.16004155029017e-36\n",
      "\n",
      "re_d_re xn =  0.00109283646316110 0.0000904703634354839 step =  0.950000000000000\n",
      "xn 0.00109283646316110\n",
      "delta -2.05501768919102e-17\n",
      "f_abs_2_new 7.84258520859997e-37\n",
      "\n",
      "im_d_re xn =  0.00109283646316110 0.0000904703634354839 step =  0.249036800000000\n"
     ]
    },
    {
     "name": "stdout",
     "output_type": "stream",
     "text": [
      "xn 0.00109283646316110\n",
      "delta -9.26319330164919e-17\n",
      "f_abs_2_new 2.28744745578185e-36\n",
      "\n",
      "re_d_im xn =  0.00109283646316110 0.0000904703634354839 step =  0.199229440000000\n",
      "xn 0.0000904703634354839\n",
      "delta 2.48475001482560e-16\n",
      "f_abs_2_new 1.03437258820670e-35\n",
      "\n",
      "im_d_im xn =  0.00109283646316110 0.0000904703634354839 step =  0.760000000000000\n",
      "xn 0.0000904703634354839\n",
      "delta -7.66114336642128e-18\n",
      "f_abs_2_new 1.24437844831154e-36\n",
      "\n",
      "re_d_re xn =  0.00109283646316110 0.0000904703634354839 step =  0.760000000000000\n",
      "xn 0.00109283646316110\n",
      "delta -2.05501768919102e-17\n",
      "f_abs_2_new 7.74151906437424e-38\n",
      "f_new 2.02229116156964e-20 -2.77499954035178e-19\n",
      "\n",
      "im_d_re xn =  0.00109283646316112 0.0000904703634354839 step =  0.199229440000000\n",
      "xn 0.00109283646316112\n",
      "delta -1.70236634807125e-17\n",
      "f_abs_2_new 2.28530522119920e-36\n",
      "\n",
      "re_d_im xn =  0.00109283646316112 0.0000904703634354839 step =  0.159383552000000\n",
      "xn 0.0000904703634354839\n",
      "delta -9.56271493147761e-17\n",
      "f_abs_2_new 1.60414244416134e-36\n",
      "\n",
      "im_d_im xn =  0.00109283646316112 0.0000904703634354839 step =  0.608000000000000\n",
      "xn 0.0000904703634354839\n",
      "delta -1.40794564358238e-18\n",
      "f_abs_2_new 4.75235861130740e-37\n",
      "\n",
      "re_d_re xn =  0.00109283646316112 0.0000904703634354839 step =  0.950000000000000\n",
      "xn 0.00109283646316112\n",
      "delta 7.90886335591324e-18\n",
      "f_abs_2_new 7.57414331030566e-37\n",
      "\n",
      "im_d_re xn =  0.00109283646316112 0.0000904703634354839 step =  0.159383552000000\n",
      "xn 0.00109283646316112\n",
      "delta -1.70236634807125e-17\n",
      "f_abs_2_new 8.24920567857723e-37\n",
      "\n",
      "re_d_im xn =  0.00109283646316112 0.0000904703634354839 step =  0.127506841600000\n",
      "xn 0.0000904703634354839\n",
      "delta -9.56271493147761e-17\n",
      "f_abs_2_new 5.83480880325623e-36\n",
      "\n",
      "im_d_im xn =  0.00109283646316112 0.0000904703634354839 step =  0.486400000000000\n",
      "xn 0.0000904703634354839\n",
      "delta -1.40794564358238e-18\n",
      "f_abs_2_new 2.27593842575924e-36\n",
      "\n",
      "re_d_re xn =  0.00109283646316112 0.0000904703634354839 step =  0.760000000000000\n",
      "xn 0.00109283646316112\n",
      "delta 7.90886335591324e-18\n",
      "f_abs_2_new 3.55686298018451e-37\n",
      "\n",
      "im_d_re xn =  0.00109283646316112 0.0000904703634354839 step =  0.127506841600000\n",
      "xn 0.00109283646316112\n",
      "delta -1.70236634807125e-17\n",
      "f_abs_2_new 4.97116977243332e-37\n",
      "\n",
      "re_d_im xn =  0.00109283646316112 0.0000904703634354839 step =  0.102005473280000\n",
      "xn 0.0000904703634354839\n",
      "delta -9.56271493147761e-17\n",
      "f_abs_2_new 3.49372808767027e-36\n",
      "\n",
      "im_d_im xn =  0.00109283646316112 0.0000904703634354839 step =  0.389120000000000\n",
      "xn 0.0000904703634354839\n",
      "delta -1.40794564358238e-18\n",
      "f_abs_2_new 4.40793469358694e-37\n",
      "\n",
      "re_d_re xn =  0.00109283646316112 0.0000904703634354839 step =  0.608000000000000\n",
      "xn 0.00109283646316112\n",
      "delta 7.90886335591324e-18\n",
      "f_abs_2_new 2.13798074086325e-36\n",
      "\n",
      "im_d_re xn =  0.00109283646316112 0.0000904703634354839 step =  0.102005473280000\n",
      "xn 0.00109283646316112\n",
      "delta -1.70236634807125e-17\n",
      "f_abs_2_new 1.18825737085335e-37\n",
      "\n",
      "re_d_im xn =  0.00109283646316112 0.0000904703634354839 step =  0.0816043786240001\n",
      "xn 0.0000904703634354839\n",
      "delta -9.56271493147761e-17\n",
      "f_abs_2_new 5.55469977183489e-37\n",
      "\n",
      "im_d_im xn =  0.00109283646316112 0.0000904703634354839 step =  0.311296000000000\n",
      "xn 0.0000904703634354839\n",
      "delta -1.40794564358238e-18\n",
      "f_abs_2_new 4.82041365011075e-37\n",
      "\n",
      "re_d_re xn =  0.00109283646316112 0.0000904703634354839 step =  0.486400000000000\n",
      "xn 0.00109283646316112\n",
      "delta 7.90886335591324e-18\n",
      "f_abs_2_new 1.18240895086337e-36\n",
      "\n",
      "im_d_re xn =  0.00109283646316112 0.0000904703634354839 step =  0.0816043786240001\n",
      "xn 0.00109283646316112\n",
      "delta -1.70236634807125e-17\n",
      "f_abs_2_new 4.49326709663235e-37\n",
      "\n",
      "re_d_im xn =  0.00109283646316112 0.0000904703634354839 step =  0.0652835028992001\n",
      "xn 0.0000904703634354839\n",
      "delta -9.56271493147761e-17\n",
      "f_abs_2_new 4.16982021871117e-37\n",
      "\n",
      "im_d_im xn =  0.00109283646316112 0.0000904703634354839 step =  0.249036800000000\n",
      "xn 0.0000904703634354839\n",
      "delta -1.40794564358238e-18\n",
      "f_abs_2_new 3.32795026432108e-36\n",
      "\n",
      "re_d_re xn =  0.00109283646316112 0.0000904703634354839 step =  0.389120000000000\n",
      "xn 0.00109283646316112\n",
      "delta 7.90886335591324e-18\n",
      "f_abs_2_new 4.84485539350750e-37\n",
      "\n",
      "im_d_re xn =  0.00109283646316112 0.0000904703634354839 step =  0.0652835028992001\n",
      "xn 0.00109283646316112\n",
      "delta -1.70236634807125e-17\n",
      "f_abs_2_new 5.05967250925322e-37\n",
      "\n",
      "re_d_im xn =  0.00109283646316112 0.0000904703634354839 step =  0.0522268023193600\n",
      "xn 0.0000904703634354839\n",
      "delta -9.56271493147761e-17\n",
      "f_abs_2_new 5.20225290153608e-37\n",
      "\n",
      "im_d_im xn =  0.00109283646316112 0.0000904703634354839 step =  0.199229440000000\n",
      "xn 0.0000904703634354839\n",
      "delta -1.40794564358238e-18\n",
      "f_abs_2_new 2.13800568990121e-36\n",
      "\n",
      "re_d_re xn =  0.00109283646316112 0.0000904703634354839 step =  0.311296000000000\n",
      "xn 0.00109283646316112\n",
      "delta 7.90886335591324e-18\n",
      "f_abs_2_new 1.04495532388752e-35\n",
      "\n",
      "im_d_re xn =  0.00109283646316112 0.0000904703634354839 step =  0.0522268023193600\n",
      "xn 0.00109283646316112\n",
      "delta -1.70236634807125e-17\n",
      "f_abs_2_new 1.20224322217636e-37\n",
      "\n",
      "re_d_im xn =  0.00109283646316112 0.0000904703634354839 step =  0.0417814418554880\n",
      "xn 0.0000904703634354839\n",
      "delta -9.56271493147761e-17\n",
      "f_abs_2_new 4.24094223112623e-37\n",
      "\n",
      "im_d_im xn =  0.00109283646316112 0.0000904703634354839 step =  0.159383552000000\n",
      "xn 0.0000904703634354839\n",
      "delta -1.40794564358238e-18\n",
      "f_abs_2_new 7.76574533763170e-38\n",
      "f_new 2.55168675360358e-20 -2.77500167292680e-19\n",
      "\n",
      "re_d_re xn =  0.00109283646316112 0.0000904703634354841 step =  0.249036800000000\n",
      "xn 0.00109283646316112\n",
      "delta 7.81439999622564e-18\n",
      "f_abs_2_new 4.36765950326604e-37\n",
      "\n",
      "im_d_re xn =  0.00109283646316112 0.0000904703634354841 step =  0.0417814418554880\n",
      "xn 0.00109283646316112\n",
      "delta -1.70236178070226e-17\n",
      "f_abs_2_new 2.13782692784840e-36\n",
      "\n",
      "re_d_im xn =  0.00109283646316112 0.0000904703634354841 step =  0.0334251534843904\n",
      "xn 0.0000904703634354841\n",
      "delta -9.44849799036326e-17\n",
      "f_abs_2_new 7.64249384786129e-37\n",
      "\n",
      "im_d_im xn =  0.00109283646316112 0.0000904703634354841 step =  0.199229440000000\n",
      "xn 0.0000904703634354841\n",
      "delta -1.40794186612957e-18\n",
      "f_abs_2_new 5.66194203273091e-36\n",
      "\n",
      "re_d_re xn =  0.00109283646316112 0.0000904703634354841 step =  0.199229440000000\n",
      "xn 0.00109283646316112\n",
      "delta 7.81439999622564e-18\n",
      "f_abs_2_new 1.23851669078622e-37\n",
      "\n",
      "im_d_re xn =  0.00109283646316112 0.0000904703634354841 step =  0.0334251534843904\n",
      "xn 0.00109283646316112\n",
      "delta -1.70236178070226e-17\n",
      "f_abs_2_new 2.13782692784840e-36\n",
      "\n",
      "re_d_im xn =  0.00109283646316112 0.0000904703634354841 step =  0.0267401227875124\n",
      "xn 0.0000904703634354841\n",
      "delta -9.44849799036326e-17\n",
      "f_abs_2_new 2.14253474763656e-36\n",
      "\n",
      "im_d_im xn =  0.00109283646316112 0.0000904703634354841 step =  0.159383552000000\n",
      "xn 0.0000904703634354841\n",
      "delta -1.40794186612957e-18\n",
      "f_abs_2_new 2.27801122625574e-36\n",
      "\n",
      "re_d_re xn =  0.00109283646316112 0.0000904703634354841 step =  0.159383552000000\n",
      "xn 0.00109283646316112\n",
      "delta 7.81439999622564e-18\n",
      "f_abs_2_new 2.13798236503288e-36\n",
      "\n",
      "im_d_re xn =  0.00109283646316112 0.0000904703634354841 step =  0.0267401227875124\n",
      "xn 0.00109283646316112\n",
      "delta -1.70236178070226e-17\n",
      "f_abs_2_new 4.98589067548597e-37\n",
      "\n",
      "re_d_im xn =  0.00109283646316112 0.0000904703634354841 step =  0.0213920982300099\n",
      "xn 0.0000904703634354841\n",
      "delta -9.44849799036326e-17\n",
      "f_abs_2_new 5.42852980349803e-36\n",
      "\n",
      "im_d_im xn =  0.00109283646316112 0.0000904703634354841 step =  0.127506841600000\n",
      "xn 0.0000904703634354841\n",
      "delta -1.40794186612957e-18\n",
      "f_abs_2_new 4.41856311947715e-37\n",
      "\n",
      "re_d_re xn =  0.00109283646316112 0.0000904703634354841 step =  0.127506841600000\n",
      "xn 0.00109283646316112\n",
      "delta 7.81439999622564e-18\n",
      "f_abs_2_new 4.39013805430753e-37\n",
      "\n",
      "im_d_re xn =  0.00109283646316112 0.0000904703634354841 step =  0.0213920982300099\n",
      "xn 0.00109283646316112\n",
      "delta -1.70236178070226e-17\n",
      "f_abs_2_new 4.98589067548597e-37\n",
      "\n",
      "re_d_im xn =  0.00109283646316112 0.0000904703634354841 step =  0.0171136785840079\n",
      "xn 0.0000904703634354841\n",
      "delta -9.44849799036326e-17\n",
      "f_abs_2_new 1.15707181411237e-37\n",
      "\n",
      "im_d_im xn =  0.00109283646316112 0.0000904703634354841 step =  0.102005473280000\n",
      "xn 0.0000904703634354841\n",
      "delta -1.40794186612957e-18\n",
      "f_abs_2_new 4.41856311947715e-37\n",
      "\n",
      "re_d_re xn =  0.00109283646316112 0.0000904703634354841 step =  0.102005473280000\n",
      "xn 0.00109283646316112\n",
      "delta 7.81439999622564e-18\n",
      "f_abs_2_new 2.27961568503425e-36\n",
      "\n",
      "im_d_re xn =  0.00109283646316112 0.0000904703634354841 step =  0.0171136785840079\n",
      "xn 0.00109283646316112\n",
      "delta -1.70236178070226e-17\n"
     ]
    },
    {
     "name": "stdout",
     "output_type": "stream",
     "text": [
      "f_abs_2_new 7.54005159568896e-37\n",
      "\n",
      "re_d_im xn =  0.00109283646316112 0.0000904703634354841 step =  0.0136909428672063\n",
      "xn 0.0000904703634354841\n",
      "delta -9.44849799036326e-17\n",
      "f_abs_2_new 4.64466483657165e-37\n",
      "\n",
      "im_d_im xn =  0.00109283646316112 0.0000904703634354841 step =  0.0816043786240001\n",
      "xn 0.0000904703634354841\n",
      "delta -1.40794186612957e-18\n",
      "f_abs_2_new 4.41971623588283e-37\n",
      "\n",
      "re_d_re xn =  0.00109283646316112 0.0000904703634354841 step =  0.0816043786240001\n",
      "xn 0.00109283646316112\n",
      "delta 7.81439999622564e-18\n",
      "f_abs_2_new 1.22229645254668e-37\n",
      "\n",
      "im_d_re xn =  0.00109283646316112 0.0000904703634354841 step =  0.0136909428672063\n",
      "xn 0.00109283646316112\n",
      "delta -1.70236178070226e-17\n",
      "f_abs_2_new 7.54005159568896e-37\n",
      "\n",
      "re_d_im xn =  0.00109283646316112 0.0000904703634354841 step =  0.0109527542937651\n",
      "xn 0.0000904703634354841\n",
      "delta -9.44849799036326e-17\n",
      "f_abs_2_new 4.37394470450589e-37\n",
      "\n",
      "im_d_im xn =  0.00109283646316112 0.0000904703634354841 step =  0.0652835028992001\n",
      "xn 0.0000904703634354841\n",
      "delta -1.40794186612957e-18\n",
      "f_abs_2_new 7.77410662693960e-38\n",
      "f_new 2.71050543121376e-20 -2.77500238378514e-19\n",
      "\n",
      "re_d_re xn =  0.00109283646316112 0.0000904703634354842 step =  0.0652835028992001\n",
      "xn 0.00109283646316112\n",
      "delta 2.11223329618715e-17\n",
      "f_abs_2_new 4.37265930732407e-37\n",
      "\n",
      "im_d_re xn =  0.00109283646316112 0.0000904703634354842 step =  0.0109527542937651\n",
      "xn 0.00109283646316112\n",
      "delta 6.36371881305831e-17\n",
      "f_abs_2_new 4.39854879072319e-37\n",
      "\n",
      "re_d_im xn =  0.00109283646316112 0.0000904703634354842 step =  0.00876220343501205\n",
      "xn 0.0000904703634354842\n",
      "delta -2.55393018834904e-16\n",
      "f_abs_2_new 4.30917472069812e-37\n",
      "\n",
      "im_d_im xn =  0.00109283646316112 0.0000904703634354842 step =  0.0816043786240001\n",
      "xn 0.0000904703634354842\n",
      "delta 5.26312693503219e-18\n",
      "f_abs_2_new 1.22367153525587e-37\n",
      "\n",
      "re_d_re xn =  0.00109283646316112 0.0000904703634354842 step =  0.0522268023193600\n",
      "xn 0.00109283646316112\n",
      "delta 2.11223329618715e-17\n",
      "f_abs_2_new 4.38350093138184e-37\n",
      "\n",
      "im_d_re xn =  0.00109283646316112 0.0000904703634354842 step =  0.00876220343501205\n",
      "xn 0.00109283646316112\n",
      "delta 6.36371881305831e-17\n",
      "f_abs_2_new 4.39854879072319e-37\n",
      "\n",
      "re_d_im xn =  0.00109283646316112 0.0000904703634354842 step =  0.00700976274800964\n",
      "xn 0.0000904703634354842\n",
      "delta -2.55393018834904e-16\n",
      "f_abs_2_new 2.14108249445151e-36\n",
      "\n",
      "im_d_im xn =  0.00109283646316112 0.0000904703634354842 step =  0.0652835028992001\n",
      "xn 0.0000904703634354842\n",
      "delta 5.26312693503219e-18\n",
      "f_abs_2_new 1.21933889593520e-37\n",
      "\n",
      "re_d_re xn =  0.00109283646316112 0.0000904703634354842 step =  0.0417814418554880\n",
      "xn 0.00109283646316112\n",
      "delta 2.11223329618715e-17\n",
      "f_abs_2_new 7.54628942947470e-37\n",
      "\n",
      "im_d_re xn =  0.00109283646316112 0.0000904703634354842 step =  0.00700976274800964\n",
      "xn 0.00109283646316112\n",
      "delta 6.36371881305831e-17\n",
      "f_abs_2_new 2.27929420423648e-36\n",
      "\n",
      "re_d_im xn =  0.00109283646316112 0.0000904703634354842 step =  0.00560781019840771\n",
      "xn 0.0000904703634354842\n",
      "delta -2.55393018834904e-16\n",
      "f_abs_2_new 5.42759222405547e-36\n",
      "\n",
      "im_d_im xn =  0.00109283646316112 0.0000904703634354842 step =  0.0522268023193600\n",
      "xn 0.0000904703634354842\n",
      "delta 5.26312693503219e-18\n",
      "f_abs_2_new 3.55195781517738e-37\n",
      "\n",
      "re_d_re xn =  0.00109283646316112 0.0000904703634354842 step =  0.0334251534843904\n",
      "xn 0.00109283646316112\n",
      "delta 2.11223329618715e-17\n",
      "f_abs_2_new 4.39854879072319e-37\n",
      "\n",
      "im_d_re xn =  0.00109283646316112 0.0000904703634354842 step =  0.00560781019840771\n",
      "xn 0.00109283646316112\n",
      "delta 6.36371881305831e-17\n",
      "f_abs_2_new 2.27929420423648e-36\n",
      "\n",
      "re_d_im xn =  0.00109283646316112 0.0000904703634354842 step =  0.00448624815872617\n",
      "xn 0.0000904703634354842\n",
      "delta -2.55393018834904e-16\n",
      "f_abs_2_new 4.64466483657165e-37\n",
      "\n",
      "im_d_im xn =  0.00109283646316112 0.0000904703634354842 step =  0.0417814418554880\n",
      "xn 0.0000904703634354842\n",
      "delta 5.26312693503219e-18\n",
      "f_abs_2_new 7.65455749606483e-38\n",
      "f_new 2.22065114041139e-19 -1.65023210750925e-19\n",
      "\n",
      "re_d_re xn =  0.00109283646316112 0.0000904703634354840 step =  0.0267401227875124\n",
      "xn 0.00109283646316112\n",
      "delta 6.85190342129406e-18\n",
      "f_abs_2_new 7.37022542495646e-37\n",
      "\n",
      "im_d_re xn =  0.00109283646316112 0.0000904703634354840 step =  0.00448624815872617\n",
      "xn 0.00109283646316112\n",
      "delta -7.67372957389270e-18\n",
      "f_abs_2_new 7.65455749606483e-38\n",
      "f_new 2.22065114041139e-19 -1.65023210750925e-19\n",
      "\n",
      "re_d_im xn =  0.00109283646316112 0.0000904703634354840 step =  0.00358899852698094\n",
      "xn 0.0000904703634354840\n",
      "delta -8.28473020801403e-17\n",
      "f_abs_2_new 4.41856311947715e-37\n",
      "\n",
      "im_d_im xn =  0.00109283646316112 0.0000904703634354840 step =  0.0522268023193601\n",
      "xn 0.0000904703634354840\n",
      "delta -6.34657407076755e-19\n",
      "f_abs_2_new 2.13773930261676e-36\n",
      "\n",
      "re_d_re xn =  0.00109283646316112 0.0000904703634354840 step =  0.0213920982300099\n",
      "xn 0.00109283646316112\n",
      "delta 6.85190342129406e-18\n",
      "f_abs_2_new 7.37022542495646e-37\n",
      "\n",
      "im_d_re xn =  0.00109283646316112 0.0000904703634354840 step =  0.00560781019840771\n",
      "xn 0.00109283646316112\n",
      "delta -7.67372957389270e-18\n",
      "f_abs_2_new 7.65455749606483e-38\n",
      "f_new 2.22065114041139e-19 -1.65023210750925e-19\n",
      "\n",
      "re_d_im xn =  0.00109283646316112 0.0000904703634354840 step =  0.00287119882158475\n",
      "xn 0.0000904703634354840\n",
      "delta -8.28473020801403e-17\n",
      "f_abs_2_new 3.32795026432108e-36\n",
      "\n",
      "im_d_im xn =  0.00109283646316112 0.0000904703634354840 step =  0.0417814418554880\n",
      "xn 0.0000904703634354840\n",
      "delta -6.34657407076755e-19\n",
      "f_abs_2_new 2.13773930261676e-36\n",
      "\n",
      "re_d_re xn =  0.00109283646316112 0.0000904703634354840 step =  0.0171136785840079\n",
      "xn 0.00109283646316112\n",
      "delta 6.85190342129406e-18\n",
      "f_abs_2_new 7.37022542495646e-37\n",
      "\n",
      "im_d_re xn =  0.00109283646316112 0.0000904703634354840 step =  0.00700976274800964\n",
      "xn 0.00109283646316112\n",
      "delta -7.67372957389270e-18\n",
      "f_abs_2_new 7.65455749606483e-38\n",
      "f_new 2.22065114041139e-19 -1.65023210750925e-19\n",
      "\n",
      "re_d_im xn =  0.00109283646316112 0.0000904703634354840 step =  0.00229695905726780\n",
      "xn 0.0000904703634354840\n",
      "delta -8.28473020801403e-17\n",
      "f_abs_2_new 1.20868389906603e-37\n",
      "\n",
      "im_d_im xn =  0.00109283646316112 0.0000904703634354840 step =  0.0334251534843904\n",
      "xn 0.0000904703634354840\n",
      "delta -6.34657407076755e-19\n",
      "f_abs_2_new 2.13773930261676e-36\n",
      "\n",
      "re_d_re xn =  0.00109283646316112 0.0000904703634354840 step =  0.0136909428672063\n",
      "xn 0.00109283646316112\n",
      "delta 6.85190342129406e-18\n",
      "f_abs_2_new 7.65455749606483e-38\n",
      "f_new 2.22065114041139e-19 -1.65023210750925e-19\n",
      "\n",
      "im_d_re xn =  0.00109283646316112 0.0000904703634354840 step =  0.00876220343501205\n",
      "xn 0.00109283646316112\n",
      "delta -7.67372957389270e-18\n",
      "f_abs_2_new 7.65455749606483e-38\n",
      "f_new 2.22065114041139e-19 -1.65023210750925e-19\n",
      "\n",
      "re_d_im xn =  0.00109283646316112 0.0000904703634354840 step =  0.00183756724581424\n",
      "xn 0.0000904703634354840\n",
      "delta -8.28473020801403e-17\n",
      "f_abs_2_new 7.82934534328161e-37\n",
      "\n",
      "im_d_im xn =  0.00109283646316112 0.0000904703634354840 step =  0.0267401227875124\n",
      "xn 0.0000904703634354840\n",
      "delta -6.34657407076755e-19\n",
      "f_abs_2_new 2.13773930261676e-36\n",
      "\n",
      "re_d_re xn =  0.00109283646316112 0.0000904703634354840 step =  0.0171136785840079\n",
      "xn 0.00109283646316112\n",
      "delta 6.85190342129406e-18\n",
      "f_abs_2_new 7.37022542495646e-37\n",
      "\n",
      "im_d_re xn =  0.00109283646316112 0.0000904703634354840 step =  0.0109527542937651\n",
      "xn 0.00109283646316112\n",
      "delta -7.67372957389270e-18\n",
      "f_abs_2_new 7.65455749606483e-38\n",
      "f_new 2.22065114041139e-19 -1.65023210750925e-19\n",
      "\n",
      "re_d_im xn =  0.00109283646316112 0.0000904703634354840 step =  0.00147005379665139\n",
      "xn 0.0000904703634354840\n",
      "delta -8.28473020801403e-17\n",
      "f_abs_2_new 7.76574533763170e-38\n",
      "f_new 2.55168675360358e-20 -2.77500167292680e-19\n",
      "\n",
      "im_d_im xn =  0.00109283646316112 0.0000904703634354841 step =  0.0213920982300099\n",
      "xn 0.0000904703634354841\n",
      "delta -1.40794186612957e-18\n",
      "f_abs_2_new 7.82934534328161e-37\n",
      "\n",
      "re_d_re xn =  0.00109283646316112 0.0000904703634354841 step =  0.0136909428672063\n",
      "xn 0.00109283646316112\n",
      "delta 7.81439999622564e-18\n",
      "f_abs_2_new 7.76574533763170e-38\n",
      "f_new 2.55168675360358e-20 -2.77500167292680e-19\n",
      "\n",
      "im_d_re xn =  0.00109283646316112 0.0000904703634354841 step =  0.0136909428672063\n",
      "xn 0.00109283646316112\n",
      "delta -1.70236178070226e-17\n",
      "f_abs_2_new 7.54005159568896e-37\n",
      "\n",
      "re_d_im xn =  0.00109283646316112 0.0000904703634354841 step =  0.00183756724581424\n",
      "xn 0.0000904703634354841\n",
      "delta -9.44849799036326e-17\n",
      "f_abs_2_new 4.41856311947715e-37\n",
      "\n",
      "im_d_im xn =  0.00109283646316112 0.0000904703634354841 step =  0.0171136785840079\n"
     ]
    },
    {
     "name": "stdout",
     "output_type": "stream",
     "text": [
      "xn 0.0000904703634354841\n",
      "delta -1.40794186612957e-18\n",
      "f_abs_2_new 7.82934534328161e-37\n",
      "\n",
      "re_d_re xn =  0.00109283646316112 0.0000904703634354841 step =  0.0171136785840079\n",
      "xn 0.00109283646316112\n",
      "delta 7.81439999622564e-18\n",
      "f_abs_2_new 1.21564090122730e-37\n",
      "\n",
      "im_d_re xn =  0.00109283646316112 0.0000904703634354841 step =  0.0109527542937651\n",
      "xn 0.00109283646316112\n",
      "delta -1.70236178070226e-17\n",
      "f_abs_2_new 7.54005159568896e-37\n",
      "\n",
      "re_d_im xn =  0.00109283646316112 0.0000904703634354841 step =  0.00147005379665139\n",
      "xn 0.0000904703634354841\n",
      "delta -9.44849799036326e-17\n",
      "f_abs_2_new 5.66049207634257e-36\n",
      "\n",
      "im_d_im xn =  0.00109283646316112 0.0000904703634354841 step =  0.0136909428672063\n",
      "xn 0.0000904703634354841\n",
      "delta -1.40794186612957e-18\n",
      "f_abs_2_new 4.86289898688321e-37\n",
      "\n",
      "re_d_re xn =  0.00109283646316112 0.0000904703634354841 step =  0.0136909428672063\n",
      "xn 0.00109283646316112\n",
      "delta 7.81439999622564e-18\n",
      "f_abs_2_new 7.76574533763170e-38\n",
      "f_new 2.55168675360358e-20 -2.77500167292680e-19\n",
      "\n",
      "im_d_re xn =  0.00109283646316112 0.0000904703634354841 step =  0.00876220343501205\n",
      "xn 0.00109283646316112\n",
      "delta -1.70236178070226e-17\n",
      "f_abs_2_new 7.54005159568896e-37\n",
      "\n",
      "re_d_im xn =  0.00109283646316112 0.0000904703634354841 step =  0.00117604303732111\n",
      "xn 0.0000904703634354841\n",
      "delta -9.44849799036326e-17\n",
      "f_abs_2_new 4.41971623588283e-37\n",
      "\n",
      "im_d_im xn =  0.00109283646316112 0.0000904703634354841 step =  0.0109527542937651\n",
      "xn 0.0000904703634354841\n",
      "delta -1.40794186612957e-18\n",
      "f_abs_2_new 4.86289898688321e-37\n",
      "\n",
      "re_d_re xn =  0.00109283646316112 0.0000904703634354841 step =  0.0171136785840079\n",
      "xn 0.00109283646316112\n",
      "delta 7.81439999622564e-18\n",
      "f_abs_2_new 1.21564090122730e-37\n",
      "\n",
      "im_d_re xn =  0.00109283646316112 0.0000904703634354841 step =  0.00700976274800964\n",
      "xn 0.00109283646316112\n",
      "delta -1.70236178070226e-17\n",
      "f_abs_2_new 7.54005159568896e-37\n",
      "\n",
      "re_d_im xn =  0.00109283646316112 0.0000904703634354841 step =  0.000940834429856891\n",
      "xn 0.0000904703634354841\n",
      "delta -9.44849799036326e-17\n",
      "f_abs_2_new 7.77410662693960e-38\n",
      "f_new 2.71050543121376e-20 -2.77500238378514e-19\n",
      "\n",
      "im_d_im xn =  0.00109283646316112 0.0000904703634354842 step =  0.00876220343501205\n",
      "xn 0.0000904703634354842\n",
      "delta 5.26312693503219e-18\n",
      "f_abs_2_new 2.13800568990121e-36\n",
      "\n",
      "re_d_re xn =  0.00109283646316112 0.0000904703634354842 step =  0.0136909428672063\n",
      "xn 0.00109283646316112\n",
      "delta 2.11223329618715e-17\n",
      "f_abs_2_new 4.41758630668230e-37\n",
      "\n",
      "im_d_re xn =  0.00109283646316112 0.0000904703634354842 step =  0.00560781019840771\n",
      "xn 0.00109283646316112\n",
      "delta 6.36371881305831e-17\n",
      "f_abs_2_new 2.27929420423648e-36\n",
      "\n",
      "re_d_im xn =  0.00109283646316112 0.0000904703634354842 step =  0.00117604303732111\n",
      "xn 0.0000904703634354842\n",
      "delta -2.55393018834904e-16\n",
      "f_abs_2_new 4.79078269497585e-37\n",
      "\n",
      "im_d_im xn =  0.00109283646316112 0.0000904703634354842 step =  0.00700976274800964\n",
      "xn 0.0000904703634354842\n",
      "delta 5.26312693503219e-18\n",
      "f_abs_2_new 2.13800568990121e-36\n",
      "\n",
      "re_d_re xn =  0.00109283646316112 0.0000904703634354842 step =  0.0109527542937651\n",
      "xn 0.00109283646316112\n",
      "delta 2.11223329618715e-17\n",
      "f_abs_2_new 4.41758630668230e-37\n",
      "\n",
      "im_d_re xn =  0.00109283646316112 0.0000904703634354842 step =  0.00448624815872617\n",
      "xn 0.00109283646316112\n",
      "delta 6.36371881305831e-17\n",
      "f_abs_2_new 4.41758630668230e-37\n",
      "\n",
      "re_d_im xn =  0.00109283646316112 0.0000904703634354842 step =  0.000940834429856891\n",
      "xn 0.0000904703634354842\n",
      "delta -2.55393018834904e-16\n",
      "f_abs_2_new 4.40666596301715e-37\n",
      "\n",
      "im_d_im xn =  0.00109283646316112 0.0000904703634354842 step =  0.00560781019840771\n",
      "xn 0.0000904703634354842\n",
      "delta 5.26312693503219e-18\n",
      "f_abs_2_new 1.20868389906603e-37\n",
      "\n",
      "re_d_re xn =  0.00109283646316112 0.0000904703634354842 step =  0.00876220343501205\n",
      "xn 0.00109283646316112\n",
      "delta 2.11223329618715e-17\n",
      "f_abs_2_new 4.41758630668230e-37\n",
      "\n",
      "im_d_re xn =  0.00109283646316112 0.0000904703634354842 step =  0.00358899852698094\n",
      "xn 0.00109283646316112\n",
      "delta 6.36371881305831e-17\n",
      "f_abs_2_new 4.41758630668230e-37\n",
      "\n",
      "re_d_im xn =  0.00109283646316112 0.0000904703634354842 step =  0.000752667543885513\n",
      "xn 0.0000904703634354842\n",
      "delta -2.55393018834904e-16\n",
      "f_abs_2_new 5.66194203273091e-36\n",
      "\n",
      "im_d_im xn =  0.00109283646316112 0.0000904703634354842 step =  0.00448624815872617\n",
      "xn 0.0000904703634354842\n",
      "delta 5.26312693503219e-18\n",
      "f_abs_2_new 1.20868389906603e-37\n",
      "\n",
      "re_d_re xn =  0.00109283646316112 0.0000904703634354842 step =  0.00700976274800964\n",
      "xn 0.00109283646316112\n",
      "delta 2.11223329618715e-17\n",
      "f_abs_2_new 4.41758630668230e-37\n",
      "\n",
      "im_d_re xn =  0.00109283646316112 0.0000904703634354842 step =  0.00287119882158475\n",
      "xn 0.00109283646316112\n",
      "delta 6.36371881305831e-17\n",
      "f_abs_2_new 4.41758630668230e-37\n",
      "\n",
      "re_d_im xn =  0.00109283646316112 0.0000904703634354842 step =  0.000602134035108410\n",
      "xn 0.0000904703634354842\n",
      "delta -2.55393018834904e-16\n",
      "f_abs_2_new 4.82041365011075e-37\n",
      "\n",
      "im_d_im xn =  0.00109283646316112 0.0000904703634354842 step =  0.00358899852698094\n",
      "xn 0.0000904703634354842\n",
      "delta 5.26312693503219e-18\n",
      "f_abs_2_new 4.41971623588283e-37\n",
      "\n",
      "re_d_re xn =  0.00109283646316112 0.0000904703634354842 step =  0.00560781019840771\n",
      "xn 0.00109283646316112\n",
      "delta 2.11223329618715e-17\n",
      "f_abs_2_new 4.41758630668230e-37\n",
      "\n",
      "im_d_re xn =  0.00109283646316112 0.0000904703634354842 step =  0.00229695905726780\n",
      "xn 0.00109283646316112\n",
      "delta 6.36371881305831e-17\n",
      "f_abs_2_new 4.41758630668230e-37\n",
      "\n",
      "re_d_im xn =  0.00109283646316112 0.0000904703634354842 step =  0.000481707228086728\n",
      "xn 0.0000904703634354842\n",
      "delta -2.55393018834904e-16\n",
      "f_abs_2_new 7.81251093245598e-37\n",
      "\n",
      "im_d_im xn =  0.00109283646316112 0.0000904703634354842 step =  0.00287119882158475\n",
      "xn 0.0000904703634354842\n",
      "delta 5.26312693503219e-18\n",
      "f_abs_2_new 4.41971623588283e-37\n",
      "\n",
      "re_d_re xn =  0.00109283646316112 0.0000904703634354842 step =  0.00448624815872617\n",
      "xn 0.00109283646316112\n",
      "delta 2.11223329618715e-17\n",
      "f_abs_2_new 7.77410662693960e-38\n",
      "f_new 2.71050543121376e-20 -2.77500238378514e-19\n",
      "\n",
      "im_d_re xn =  0.00109283646316112 0.0000904703634354842 step =  0.00183756724581424\n",
      "xn 0.00109283646316112\n",
      "delta 6.36371881305831e-17\n",
      "f_abs_2_new 4.41758630668230e-37\n",
      "\n",
      "re_d_im xn =  0.00109283646316112 0.0000904703634354842 step =  0.000385365782469383\n",
      "xn 0.0000904703634354842\n",
      "delta -2.55393018834904e-16\n",
      "f_abs_2_new 7.78419135655754e-38\n",
      "f_new 2.89049993250530e-20 -2.77500296539651e-19\n",
      "\n",
      "im_d_im xn =  0.00109283646316112 0.0000904703634354843 step =  0.00229695905726780\n",
      "xn 0.0000904703634354843\n",
      "delta -1.40793938096329e-18\n",
      "f_abs_2_new 7.78419135655754e-38\n",
      "f_new 2.89049993250530e-20 -2.77500296539651e-19\n",
      "\n",
      "re_d_re xn =  0.00109283646316112 0.0000904703634354843 step =  0.00560781019840771\n",
      "xn 0.00109283646316112\n",
      "delta 7.75088153022881e-18\n",
      "f_abs_2_new 7.78419135655754e-38\n",
      "f_new 2.89049993250530e-20 -2.77500296539651e-19\n",
      "\n",
      "im_d_re xn =  0.00109283646316112 0.0000904703634354843 step =  0.00147005379665139\n",
      "xn 0.00109283646316112\n",
      "delta -1.70235877585410e-17\n",
      "f_abs_2_new 7.78419135655754e-38\n",
      "f_new 2.89049993250530e-20 -2.77500296539651e-19\n",
      "\n",
      "re_d_im xn =  0.00109283646316112 0.0000904703634354843 step =  0.000481707228086728\n",
      "xn 0.0000904703634354843\n",
      "delta -9.37169694376585e-17\n",
      "f_abs_2_new 2.27801122625574e-36\n",
      "\n",
      "im_d_im xn =  0.00109283646316112 0.0000904703634354843 step =  0.00287119882158475\n",
      "xn 0.0000904703634354843\n",
      "delta -1.40793938096329e-18\n",
      "f_abs_2_new 7.78419135655754e-38\n",
      "f_new 2.89049993250530e-20 -2.77500296539651e-19\n",
      "\n",
      "re_d_re xn =  0.00109283646316112 0.0000904703634354843 step =  0.00700976274800964\n",
      "xn 0.00109283646316112\n",
      "delta 7.75088153022881e-18\n",
      "f_abs_2_new 7.78419135655754e-38\n",
      "f_new 2.89049993250530e-20 -2.77500296539651e-19\n",
      "\n",
      "im_d_re xn =  0.00109283646316112 0.0000904703634354843 step =  0.00183756724581424\n",
      "xn 0.00109283646316112\n",
      "delta -1.70235877585410e-17\n",
      "f_abs_2_new 7.78419135655754e-38\n",
      "f_new 2.89049993250530e-20 -2.77500296539651e-19\n",
      "\n",
      "re_d_im xn =  0.00109283646316112 0.0000904703634354843 step =  0.000385365782469383\n",
      "xn 0.0000904703634354843\n",
      "delta -9.37169694376585e-17\n",
      "f_abs_2_new 2.27801122625574e-36\n",
      "\n",
      "im_d_im xn =  0.00109283646316112 0.0000904703634354843 step =  0.00358899852698094\n",
      "xn 0.0000904703634354843\n",
      "delta -1.40793938096329e-18\n",
      "f_abs_2_new 7.78419135655754e-38\n",
      "f_new 2.89049993250530e-20 -2.77500296539651e-19\n",
      "\n",
      "re_d_re xn =  0.00109283646316112 0.0000904703634354843 step =  0.00876220343501205\n",
      "xn 0.00109283646316112\n",
      "delta 7.75088153022881e-18\n"
     ]
    },
    {
     "name": "stdout",
     "output_type": "stream",
     "text": [
      "f_abs_2_new 7.78419135655754e-38\n",
      "f_new 2.89049993250530e-20 -2.77500296539651e-19\n",
      "\n",
      "im_d_re xn =  0.00109283646316112 0.0000904703634354843 step =  0.00229695905726780\n",
      "xn 0.00109283646316112\n",
      "delta -1.70235877585410e-17\n",
      "f_abs_2_new 7.78419135655754e-38\n",
      "f_new 2.89049993250530e-20 -2.77500296539651e-19\n",
      "\n",
      "re_d_im xn =  0.00109283646316112 0.0000904703634354843 step =  0.000308292625975506\n",
      "xn 0.0000904703634354843\n",
      "delta -9.37169694376585e-17\n",
      "f_abs_2_new 7.81251093245598e-37\n",
      "\n",
      "im_d_im xn =  0.00109283646316112 0.0000904703634354843 step =  0.00448624815872617\n",
      "xn 0.0000904703634354843\n",
      "delta -1.40793938096329e-18\n",
      "f_abs_2_new 7.78419135655754e-38\n",
      "f_new 2.89049993250530e-20 -2.77500296539651e-19\n",
      "\n",
      "re_d_re xn =  0.00109283646316112 0.0000904703634354843 step =  0.0109527542937651\n",
      "xn 0.00109283646316112\n",
      "delta 7.75088153022881e-18\n",
      "f_abs_2_new 7.78419135655754e-38\n",
      "f_new 2.89049993250530e-20 -2.77500296539651e-19\n",
      "\n",
      "im_d_re xn =  0.00109283646316112 0.0000904703634354843 step =  0.00287119882158475\n",
      "xn 0.00109283646316112\n",
      "delta -1.70235877585410e-17\n",
      "f_abs_2_new 7.78419135655754e-38\n",
      "f_new 2.89049993250530e-20 -2.77500296539651e-19\n",
      "\n",
      "re_d_im xn =  0.00109283646316112 0.0000904703634354843 step =  0.000246634100780405\n",
      "xn 0.0000904703634354843\n",
      "delta -9.37169694376585e-17\n",
      "f_abs_2_new 7.81251093245598e-37\n",
      "\n",
      "im_d_im xn =  0.00109283646316112 0.0000904703634354843 step =  0.00560781019840771\n",
      "xn 0.0000904703634354843\n",
      "delta -1.40793938096329e-18\n",
      "f_abs_2_new 4.82041365011075e-37\n",
      "\n",
      "re_d_re xn =  0.00109283646316112 0.0000904703634354843 step =  0.0136909428672063\n",
      "xn 0.00109283646316112\n",
      "delta 7.75088153022881e-18\n",
      "f_abs_2_new 7.78419135655754e-38\n",
      "f_new 2.89049993250530e-20 -2.77500296539651e-19\n",
      "\n",
      "im_d_re xn =  0.00109283646316112 0.0000904703634354843 step =  0.00358899852698094\n",
      "xn 0.00109283646316112\n",
      "delta -1.70235877585410e-17\n",
      "f_abs_2_new 7.78419135655754e-38\n",
      "f_new 2.89049993250530e-20 -2.77500296539651e-19\n",
      "\n",
      "re_d_im xn =  0.00109283646316112 0.0000904703634354843 step =  0.000197307280624324\n",
      "xn 0.0000904703634354843\n",
      "delta -9.37169694376585e-17\n",
      "f_abs_2_new 4.82041365011075e-37\n",
      "\n",
      "im_d_im xn =  0.00109283646316112 0.0000904703634354843 step =  0.00448624815872617\n",
      "xn 0.0000904703634354843\n",
      "delta -1.40793938096329e-18\n",
      "f_abs_2_new 7.78419135655754e-38\n",
      "f_new 2.89049993250530e-20 -2.77500296539651e-19\n",
      "\n",
      "re_d_re xn =  0.00109283646316112 0.0000904703634354843 step =  0.0171136785840079\n",
      "xn 0.00109283646316112\n",
      "delta 7.75088153022881e-18\n",
      "f_abs_2_new 4.81969341585123e-37\n",
      "\n",
      "im_d_re xn =  0.00109283646316112 0.0000904703634354843 step =  0.00448624815872617\n",
      "xn 0.00109283646316112\n",
      "delta -1.70235877585410e-17\n",
      "f_abs_2_new 7.78419135655754e-38\n",
      "f_new 2.89049993250530e-20 -2.77500296539651e-19\n",
      "\n",
      "re_d_im xn =  0.00109283646316112 0.0000904703634354843 step =  0.000157845824499459\n",
      "xn 0.0000904703634354843\n",
      "delta -9.37169694376585e-17\n",
      "f_abs_2_new 4.82041365011075e-37\n",
      "\n",
      "im_d_im xn =  0.00109283646316112 0.0000904703634354843 step =  0.00560781019840771\n",
      "xn 0.0000904703634354843\n",
      "delta -1.40793938096329e-18\n",
      "f_abs_2_new 4.82041365011075e-37\n",
      "\n",
      "re_d_re xn =  0.00109283646316112 0.0000904703634354843 step =  0.0136909428672063\n",
      "xn 0.00109283646316112\n",
      "delta 7.75088153022881e-18\n",
      "f_abs_2_new 7.78419135655754e-38\n",
      "f_new 2.89049993250530e-20 -2.77500296539651e-19\n",
      "\n",
      "im_d_re xn =  0.00109283646316112 0.0000904703634354843 step =  0.00560781019840771\n",
      "xn 0.00109283646316112\n",
      "delta -1.70235877585410e-17\n",
      "f_abs_2_new 7.78419135655754e-38\n",
      "f_new 2.89049993250530e-20 -2.77500296539651e-19\n",
      "\n",
      "re_d_im xn =  0.00109283646316112 0.0000904703634354843 step =  0.000126276659599567\n",
      "xn 0.0000904703634354843\n",
      "delta -9.37169694376585e-17\n",
      "f_abs_2_new 4.82041365011075e-37\n",
      "\n",
      "im_d_im xn =  0.00109283646316112 0.0000904703634354843 step =  0.00448624815872617\n",
      "xn 0.0000904703634354843\n",
      "delta -1.40793938096329e-18\n",
      "f_abs_2_new 7.78419135655754e-38\n",
      "f_new 2.89049993250530e-20 -2.77500296539651e-19\n",
      "\n",
      "re_d_re xn =  0.00109283646316112 0.0000904703634354843 step =  0.0171136785840079\n",
      "xn 0.00109283646316112\n",
      "delta 7.75088153022881e-18\n",
      "f_abs_2_new 4.81969341585123e-37\n",
      "\n",
      "im_d_re xn =  0.00109283646316112 0.0000904703634354843 step =  0.00700976274800964\n",
      "xn 0.00109283646316112\n",
      "delta -1.70235877585410e-17\n",
      "f_abs_2_new 4.42472538577906e-37\n",
      "\n",
      "re_d_im xn =  0.00109283646316112 0.0000904703634354843 step =  0.000101021327679654\n",
      "xn 0.0000904703634354843\n",
      "delta -9.37169694376585e-17\n",
      "f_abs_2_new 4.82041365011075e-37\n",
      "\n",
      "im_d_im xn =  0.00109283646316112 0.0000904703634354843 step =  0.00560781019840771\n",
      "xn 0.0000904703634354843\n",
      "delta -1.40793938096329e-18\n",
      "f_abs_2_new 4.82041365011075e-37\n",
      "\n",
      "re_d_re xn =  0.00109283646316112 0.0000904703634354843 step =  0.0136909428672063\n",
      "xn 0.00109283646316112\n",
      "delta 7.75088153022881e-18\n",
      "f_abs_2_new 7.78419135655754e-38\n",
      "f_new 2.89049993250530e-20 -2.77500296539651e-19\n",
      "\n",
      "im_d_re xn =  0.00109283646316112 0.0000904703634354843 step =  0.00560781019840771\n",
      "xn 0.00109283646316112\n",
      "delta -1.70235877585410e-17\n",
      "f_abs_2_new 7.78419135655754e-38\n",
      "f_new 2.89049993250530e-20 -2.77500296539651e-19\n",
      "\n",
      "re_d_im xn =  0.00109283646316112 0.0000904703634354843 step =  0.0000808170621437231\n",
      "xn 0.0000904703634354843\n",
      "delta -9.37169694376585e-17\n",
      "f_abs_2_new 4.82041365011075e-37\n",
      "\n",
      "im_d_im xn =  0.00109283646316112 0.0000904703634354843 step =  0.00448624815872617\n",
      "xn 0.0000904703634354843\n",
      "delta -1.40793938096329e-18\n",
      "f_abs_2_new 7.78419135655754e-38\n",
      "f_new 2.89049993250530e-20 -2.77500296539651e-19\n",
      "\n",
      "re_d_re xn =  0.00109283646316112 0.0000904703634354843 step =  0.0171136785840079\n",
      "xn 0.00109283646316112\n",
      "delta 7.75088153022881e-18\n",
      "f_abs_2_new 4.81969341585123e-37\n",
      "\n",
      "im_d_re xn =  0.00109283646316112 0.0000904703634354843 step =  0.00700976274800964\n",
      "xn 0.00109283646316112\n",
      "delta -1.70235877585410e-17\n",
      "f_abs_2_new 4.42472538577906e-37\n",
      "\n",
      "re_d_im xn =  0.00109283646316112 0.0000904703634354843 step =  0.0000646536497149785\n",
      "xn 0.0000904703634354843\n",
      "delta -9.37169694376585e-17\n",
      "f_abs_2_new 7.78419135655754e-38\n",
      "f_new 2.89049993250530e-20 -2.77500296539651e-19\n",
      "\n",
      "im_d_im xn =  0.00109283646316112 0.0000904703634354843 step =  0.00560781019840771\n",
      "xn 0.0000904703634354843\n",
      "delta -1.40793938096329e-18\n",
      "f_abs_2_new 4.82041365011075e-37\n",
      "\n",
      "re_d_re xn =  0.00109283646316112 0.0000904703634354843 step =  0.0136909428672063\n",
      "xn 0.00109283646316112\n",
      "delta 7.75088153022881e-18\n",
      "f_abs_2_new 7.78419135655754e-38\n",
      "f_new 2.89049993250530e-20 -2.77500296539651e-19\n",
      "\n",
      "im_d_re xn =  0.00109283646316112 0.0000904703634354843 step =  0.00560781019840771\n",
      "xn 0.00109283646316112\n",
      "delta -1.70235877585410e-17\n",
      "f_abs_2_new 7.78419135655754e-38\n",
      "f_new 2.89049993250530e-20 -2.77500296539651e-19\n",
      "\n",
      "re_d_im xn =  0.00109283646316112 0.0000904703634354843 step =  0.0000808170621437231\n",
      "xn 0.0000904703634354843\n",
      "delta -9.37169694376585e-17\n",
      "f_abs_2_new 4.82041365011075e-37\n",
      "\n",
      "im_d_im xn =  0.00109283646316112 0.0000904703634354843 step =  0.00448624815872617\n",
      "xn 0.0000904703634354843\n",
      "delta -1.40793938096329e-18\n",
      "f_abs_2_new 7.78419135655754e-38\n",
      "f_new 2.89049993250530e-20 -2.77500296539651e-19\n",
      "\n",
      "re_d_re xn =  0.00109283646316112 0.0000904703634354843 step =  0.0171136785840079\n",
      "xn 0.00109283646316112\n",
      "delta 7.75088153022881e-18\n",
      "f_abs_2_new 4.81969341585123e-37\n",
      "\n",
      "im_d_re xn =  0.00109283646316112 0.0000904703634354843 step =  0.00700976274800964\n",
      "xn 0.00109283646316112\n",
      "delta -1.70235877585410e-17\n",
      "f_abs_2_new 4.42472538577906e-37\n",
      "\n",
      "re_d_im xn =  0.00109283646316112 0.0000904703634354843 step =  0.0000646536497149785\n",
      "xn 0.0000904703634354843\n",
      "delta -9.37169694376585e-17\n",
      "f_abs_2_new 7.78419135655754e-38\n",
      "f_new 2.89049993250530e-20 -2.77500296539651e-19\n",
      "\n",
      "im_d_im xn =  0.00109283646316112 0.0000904703634354843 step =  0.00560781019840771\n",
      "xn 0.0000904703634354843\n",
      "delta -1.40793938096329e-18\n",
      "f_abs_2_new 4.82041365011075e-37\n",
      "\n",
      "re_d_re xn =  0.00109283646316112 0.0000904703634354843 step =  0.0136909428672063\n",
      "xn 0.00109283646316112\n",
      "delta 7.75088153022881e-18\n",
      "f_abs_2_new 7.78419135655754e-38\n",
      "f_new 2.89049993250530e-20 -2.77500296539651e-19\n",
      "\n",
      "im_d_re xn =  0.00109283646316112 0.0000904703634354843 step =  0.00560781019840771\n",
      "xn 0.00109283646316112\n",
      "delta -1.70235877585410e-17\n",
      "f_abs_2_new 7.78419135655754e-38\n",
      "f_new 2.89049993250530e-20 -2.77500296539651e-19\n",
      "\n",
      "re_d_im xn =  0.00109283646316112 0.0000904703634354843 step =  0.0000808170621437231\n",
      "xn 0.0000904703634354843\n",
      "delta -9.37169694376585e-17\n"
     ]
    },
    {
     "name": "stdout",
     "output_type": "stream",
     "text": [
      "f_abs_2_new 4.82041365011075e-37\n",
      "\n",
      "im_d_im xn =  0.00109283646316112 0.0000904703634354843 step =  0.00448624815872617\n",
      "xn 0.0000904703634354843\n",
      "delta -1.40793938096329e-18\n",
      "f_abs_2_new 7.78419135655754e-38\n",
      "f_new 2.89049993250530e-20 -2.77500296539651e-19\n",
      "\n",
      "re_d_re xn =  0.00109283646316112 0.0000904703634354843 step =  0.0171136785840079\n",
      "xn 0.00109283646316112\n",
      "delta 7.75088153022881e-18\n",
      "f_abs_2_new 4.81969341585123e-37\n",
      "\n",
      "im_d_re xn =  0.00109283646316112 0.0000904703634354843 step =  0.00700976274800964\n",
      "xn 0.00109283646316112\n",
      "delta -1.70235877585410e-17\n",
      "f_abs_2_new 4.42472538577906e-37\n",
      "\n",
      "re_d_im xn =  0.00109283646316112 0.0000904703634354843 step =  0.0000646536497149785\n",
      "xn 0.0000904703634354843\n",
      "delta -9.37169694376585e-17\n",
      "f_abs_2_new 7.78419135655754e-38\n",
      "f_new 2.89049993250530e-20 -2.77500296539651e-19\n",
      "\n",
      "im_d_im xn =  0.00109283646316112 0.0000904703634354843 step =  0.00560781019840771\n",
      "xn 0.0000904703634354843\n",
      "delta -1.40793938096329e-18\n",
      "f_abs_2_new 4.82041365011075e-37\n",
      "\n",
      "re_d_re xn =  0.00109283646316112 0.0000904703634354843 step =  0.0136909428672063\n",
      "xn 0.00109283646316112\n",
      "delta 7.75088153022881e-18\n",
      "f_abs_2_new 7.78419135655754e-38\n",
      "f_new 2.89049993250530e-20 -2.77500296539651e-19\n",
      "\n",
      "im_d_re xn =  0.00109283646316112 0.0000904703634354843 step =  0.00560781019840771\n",
      "xn 0.00109283646316112\n",
      "delta -1.70235877585410e-17\n",
      "f_abs_2_new 7.78419135655754e-38\n",
      "f_new 2.89049993250530e-20 -2.77500296539651e-19\n",
      "\n",
      "re_d_im xn =  0.00109283646316112 0.0000904703634354843 step =  0.0000808170621437231\n",
      "xn 0.0000904703634354843\n",
      "delta -9.37169694376585e-17\n",
      "f_abs_2_new 4.82041365011075e-37\n",
      "\n",
      "im_d_im xn =  0.00109283646316112 0.0000904703634354843 step =  0.00448624815872617\n",
      "xn 0.0000904703634354843\n",
      "delta -1.40793938096329e-18\n",
      "f_abs_2_new 7.78419135655754e-38\n",
      "f_new 2.89049993250530e-20 -2.77500296539651e-19\n",
      "\n",
      "re_d_re xn =  0.00109283646316112 0.0000904703634354843 step =  0.0171136785840079\n",
      "xn 0.00109283646316112\n",
      "delta 7.75088153022881e-18\n",
      "f_abs_2_new 4.81969341585123e-37\n",
      "\n",
      "im_d_re xn =  0.00109283646316112 0.0000904703634354843 step =  0.00700976274800964\n",
      "xn 0.00109283646316112\n",
      "delta -1.70235877585410e-17\n",
      "f_abs_2_new 4.42472538577906e-37\n",
      "\n",
      "re_d_im xn =  0.00109283646316112 0.0000904703634354843 step =  0.0000646536497149785\n",
      "xn 0.0000904703634354843\n",
      "delta -9.37169694376585e-17\n",
      "f_abs_2_new 7.78419135655754e-38\n",
      "f_new 2.89049993250530e-20 -2.77500296539651e-19\n",
      "\n",
      "im_d_im xn =  0.00109283646316112 0.0000904703634354843 step =  0.00560781019840771\n",
      "xn 0.0000904703634354843\n",
      "delta -1.40793938096329e-18\n",
      "f_abs_2_new 4.82041365011075e-37\n",
      "\n",
      "re_d_re xn =  0.00109283646316112 0.0000904703634354843 step =  0.0136909428672063\n",
      "xn 0.00109283646316112\n",
      "delta 7.75088153022881e-18\n",
      "f_abs_2_new 7.78419135655754e-38\n",
      "f_new 2.89049993250530e-20 -2.77500296539651e-19\n",
      "\n",
      "im_d_re xn =  0.00109283646316112 0.0000904703634354843 step =  0.00560781019840771\n",
      "xn 0.00109283646316112\n",
      "delta -1.70235877585410e-17\n",
      "f_abs_2_new 7.78419135655754e-38\n",
      "f_new 2.89049993250530e-20 -2.77500296539651e-19\n",
      "\n",
      "re_d_im xn =  0.00109283646316112 0.0000904703634354843 step =  0.0000808170621437231\n",
      "xn 0.0000904703634354843\n",
      "delta -9.37169694376585e-17\n",
      "f_abs_2_new 4.82041365011075e-37\n",
      "\n",
      "im_d_im xn =  0.00109283646316112 0.0000904703634354843 step =  0.00448624815872617\n",
      "xn 0.0000904703634354843\n",
      "delta -1.40793938096329e-18\n",
      "f_abs_2_new 7.78419135655754e-38\n",
      "f_new 2.89049993250530e-20 -2.77500296539651e-19\n",
      "\n",
      "re_d_re xn =  0.00109283646316112 0.0000904703634354843 step =  0.0171136785840079\n",
      "xn 0.00109283646316112\n",
      "delta 7.75088153022881e-18\n",
      "f_abs_2_new 4.81969341585123e-37\n",
      "\n",
      "im_d_re xn =  0.00109283646316112 0.0000904703634354843 step =  0.00700976274800964\n",
      "xn 0.00109283646316112\n",
      "delta -1.70235877585410e-17\n",
      "f_abs_2_new 4.42472538577906e-37\n",
      "\n",
      "re_d_im xn =  0.00109283646316112 0.0000904703634354843 step =  0.0000646536497149785\n",
      "xn 0.0000904703634354843\n",
      "delta -9.37169694376585e-17\n",
      "f_abs_2_new 7.78419135655754e-38\n",
      "f_new 2.89049993250530e-20 -2.77500296539651e-19\n",
      "\n",
      "im_d_im xn =  0.00109283646316112 0.0000904703634354843 step =  0.00560781019840771\n",
      "xn 0.0000904703634354843\n",
      "delta -1.40793938096329e-18\n",
      "f_abs_2_new 4.82041365011075e-37\n",
      "\n",
      "re_d_re xn =  0.00109283646316112 0.0000904703634354843 step =  0.0136909428672063\n",
      "xn 0.00109283646316112\n",
      "delta 7.75088153022881e-18\n",
      "f_abs_2_new 7.78419135655754e-38\n",
      "f_new 2.89049993250530e-20 -2.77500296539651e-19\n",
      "\n",
      "im_d_re xn =  0.00109283646316112 0.0000904703634354843 step =  0.00560781019840771\n",
      "xn 0.00109283646316112\n",
      "delta -1.70235877585410e-17\n",
      "f_abs_2_new 7.78419135655754e-38\n",
      "f_new 2.89049993250530e-20 -2.77500296539651e-19\n",
      "\n",
      "re_d_im xn =  0.00109283646316112 0.0000904703634354843 step =  0.0000808170621437231\n",
      "xn 0.0000904703634354843\n",
      "delta -9.37169694376585e-17\n",
      "f_abs_2_new 4.82041365011075e-37\n",
      "\n",
      "im_d_im xn =  0.00109283646316112 0.0000904703634354843 step =  0.00448624815872617\n",
      "xn 0.0000904703634354843\n",
      "delta -1.40793938096329e-18\n",
      "f_abs_2_new 7.78419135655754e-38\n",
      "f_new 2.89049993250530e-20 -2.77500296539651e-19\n",
      "\n",
      "re_d_re xn =  0.00109283646316112 0.0000904703634354843 step =  0.0171136785840079\n",
      "xn 0.00109283646316112\n",
      "delta 7.75088153022881e-18\n",
      "f_abs_2_new 4.81969341585123e-37\n",
      "\n",
      "im_d_re xn =  0.00109283646316112 0.0000904703634354843 step =  0.00700976274800964\n",
      "xn 0.00109283646316112\n",
      "delta -1.70235877585410e-17\n",
      "f_abs_2_new 4.42472538577906e-37\n",
      "\n",
      "re_d_im xn =  0.00109283646316112 0.0000904703634354843 step =  0.0000646536497149785\n",
      "xn 0.0000904703634354843\n",
      "delta -9.37169694376585e-17\n",
      "f_abs_2_new 7.78419135655754e-38\n",
      "f_new 2.89049993250530e-20 -2.77500296539651e-19\n",
      "\n",
      "im_d_im xn =  0.00109283646316112 0.0000904703634354843 step =  0.00560781019840771\n",
      "xn 0.0000904703634354843\n",
      "delta -1.40793938096329e-18\n",
      "f_abs_2_new 4.82041365011075e-37\n",
      "\n",
      "re_d_re xn =  0.00109283646316112 0.0000904703634354843 step =  0.0136909428672063\n",
      "xn 0.00109283646316112\n",
      "delta 7.75088153022881e-18\n",
      "f_abs_2_new 7.78419135655754e-38\n",
      "f_new 2.89049993250530e-20 -2.77500296539651e-19\n",
      "\n",
      "im_d_re xn =  0.00109283646316112 0.0000904703634354843 step =  0.00560781019840771\n",
      "xn 0.00109283646316112\n",
      "delta -1.70235877585410e-17\n",
      "f_abs_2_new 7.78419135655754e-38\n",
      "f_new 2.89049993250530e-20 -2.77500296539651e-19\n",
      "\n",
      "re_d_im xn =  0.00109283646316112 0.0000904703634354843 step =  0.0000808170621437231\n",
      "xn 0.0000904703634354843\n",
      "delta -9.37169694376585e-17\n",
      "f_abs_2_new 4.82041365011075e-37\n",
      "\n",
      "im_d_im xn =  0.00109283646316112 0.0000904703634354843 step =  0.00448624815872617\n",
      "xn 0.0000904703634354843\n",
      "delta -1.40793938096329e-18\n",
      "f_abs_2_new 7.78419135655754e-38\n",
      "f_new 2.89049993250530e-20 -2.77500296539651e-19\n",
      "\n",
      "re_d_re xn =  0.00109283646316112 0.0000904703634354843 step =  0.0171136785840079\n",
      "xn 0.00109283646316112\n",
      "delta 7.75088153022881e-18\n",
      "f_abs_2_new 4.81969341585123e-37\n",
      "\n",
      "im_d_re xn =  0.00109283646316112 0.0000904703634354843 step =  0.00700976274800964\n",
      "xn 0.00109283646316112\n",
      "delta -1.70235877585410e-17\n",
      "f_abs_2_new 4.42472538577906e-37\n",
      "\n",
      "re_d_im xn =  0.00109283646316112 0.0000904703634354843 step =  0.0000646536497149785\n",
      "xn 0.0000904703634354843\n",
      "delta -9.37169694376585e-17\n",
      "f_abs_2_new 7.78419135655754e-38\n",
      "f_new 2.89049993250530e-20 -2.77500296539651e-19\n",
      "\n",
      "im_d_im xn =  0.00109283646316112 0.0000904703634354843 step =  0.00560781019840771\n",
      "xn 0.0000904703634354843\n",
      "delta -1.40793938096329e-18\n",
      "f_abs_2_new 4.82041365011075e-37\n",
      "\n",
      "re_d_re xn =  0.00109283646316112 0.0000904703634354843 step =  0.0136909428672063\n",
      "xn 0.00109283646316112\n",
      "delta 7.75088153022881e-18\n",
      "f_abs_2_new 7.78419135655754e-38\n",
      "f_new 2.89049993250530e-20 -2.77500296539651e-19\n",
      "\n",
      "im_d_re xn =  0.00109283646316112 0.0000904703634354843 step =  0.00560781019840771\n",
      "xn 0.00109283646316112\n",
      "delta -1.70235877585410e-17\n",
      "f_abs_2_new 7.78419135655754e-38\n",
      "f_new 2.89049993250530e-20 -2.77500296539651e-19\n",
      "\n",
      "re_d_im xn =  0.00109283646316112 0.0000904703634354843 step =  0.0000808170621437231\n",
      "xn 0.0000904703634354843\n",
      "delta -9.37169694376585e-17\n",
      "f_abs_2_new 4.82041365011075e-37\n",
      "\n",
      "im_d_im xn =  0.00109283646316112 0.0000904703634354843 step =  0.00448624815872617\n",
      "xn 0.0000904703634354843\n",
      "delta -1.40793938096329e-18\n",
      "f_abs_2_new 7.78419135655754e-38\n",
      "f_new 2.89049993250530e-20 -2.77500296539651e-19\n",
      "\n",
      "re_d_re xn =  0.00109283646316112 0.0000904703634354843 step =  0.0171136785840079\n",
      "xn 0.00109283646316112\n",
      "delta 7.75088153022881e-18\n",
      "f_abs_2_new 4.81969341585123e-37\n",
      "\n",
      "im_d_re xn =  0.00109283646316112 0.0000904703634354843 step =  0.00700976274800964\n"
     ]
    },
    {
     "name": "stdout",
     "output_type": "stream",
     "text": [
      "xn 0.00109283646316112\n",
      "delta -1.70235877585410e-17\n",
      "f_abs_2_new 4.42472538577906e-37\n",
      "\n",
      "re_d_im xn =  0.00109283646316112 0.0000904703634354843 step =  0.0000646536497149785\n",
      "xn 0.0000904703634354843\n",
      "delta -9.37169694376585e-17\n",
      "f_abs_2_new 7.78419135655754e-38\n",
      "f_new 2.89049993250530e-20 -2.77500296539651e-19\n",
      "\n",
      "im_d_im xn =  0.00109283646316112 0.0000904703634354843 step =  0.00560781019840771\n",
      "xn 0.0000904703634354843\n",
      "delta -1.40793938096329e-18\n",
      "f_abs_2_new 4.82041365011075e-37\n",
      "\n",
      "re_d_re xn =  0.00109283646316112 0.0000904703634354843 step =  0.0136909428672063\n",
      "xn 0.00109283646316112\n",
      "delta 7.75088153022881e-18\n",
      "f_abs_2_new 7.78419135655754e-38\n",
      "f_new 2.89049993250530e-20 -2.77500296539651e-19\n",
      "\n",
      "im_d_re xn =  0.00109283646316112 0.0000904703634354843 step =  0.00560781019840771\n",
      "xn 0.00109283646316112\n",
      "delta -1.70235877585410e-17\n",
      "f_abs_2_new 7.78419135655754e-38\n",
      "f_new 2.89049993250530e-20 -2.77500296539651e-19\n",
      "\n",
      "re_d_im xn =  0.00109283646316112 0.0000904703634354843 step =  0.0000808170621437231\n",
      "xn 0.0000904703634354843\n",
      "delta -9.37169694376585e-17\n",
      "f_abs_2_new 4.82041365011075e-37\n",
      "\n",
      "im_d_im xn =  0.00109283646316112 0.0000904703634354843 step =  0.00448624815872617\n",
      "xn 0.0000904703634354843\n",
      "delta -1.40793938096329e-18\n",
      "f_abs_2_new 7.78419135655754e-38\n",
      "f_new 2.89049993250530e-20 -2.77500296539651e-19\n",
      "\n",
      "re_d_re xn =  0.00109283646316112 0.0000904703634354843 step =  0.0171136785840079\n",
      "xn 0.00109283646316112\n",
      "delta 7.75088153022881e-18\n",
      "f_abs_2_new 4.81969341585123e-37\n",
      "\n",
      "im_d_re xn =  0.00109283646316112 0.0000904703634354843 step =  0.00700976274800964\n",
      "xn 0.00109283646316112\n",
      "delta -1.70235877585410e-17\n",
      "f_abs_2_new 4.42472538577906e-37\n",
      "\n",
      "re_d_im xn =  0.00109283646316112 0.0000904703634354843 step =  0.0000646536497149785\n",
      "xn 0.0000904703634354843\n",
      "delta -9.37169694376585e-17\n",
      "f_abs_2_new 7.78419135655754e-38\n",
      "f_new 2.89049993250530e-20 -2.77500296539651e-19\n",
      "\n",
      "im_d_im xn =  0.00109283646316112 0.0000904703634354843 step =  0.00560781019840771\n",
      "xn 0.0000904703634354843\n",
      "delta -1.40793938096329e-18\n",
      "f_abs_2_new 4.82041365011075e-37\n",
      "\n",
      "re_d_re xn =  0.00109283646316112 0.0000904703634354843 step =  0.0136909428672063\n",
      "xn 0.00109283646316112\n",
      "delta 7.75088153022881e-18\n",
      "f_abs_2_new 7.78419135655754e-38\n",
      "f_new 2.89049993250530e-20 -2.77500296539651e-19\n",
      "\n",
      "im_d_re xn =  0.00109283646316112 0.0000904703634354843 step =  0.00560781019840771\n",
      "xn 0.00109283646316112\n",
      "delta -1.70235877585410e-17\n",
      "f_abs_2_new 7.78419135655754e-38\n",
      "f_new 2.89049993250530e-20 -2.77500296539651e-19\n",
      "\n",
      "re_d_im xn =  0.00109283646316112 0.0000904703634354843 step =  0.0000808170621437231\n",
      "xn 0.0000904703634354843\n",
      "delta -9.37169694376585e-17\n",
      "f_abs_2_new 4.82041365011075e-37\n",
      "\n",
      "im_d_im xn =  0.00109283646316112 0.0000904703634354843 step =  0.00448624815872617\n",
      "xn 0.0000904703634354843\n",
      "delta -1.40793938096329e-18\n",
      "f_abs_2_new 7.78419135655754e-38\n",
      "f_new 2.89049993250530e-20 -2.77500296539651e-19\n",
      "\n",
      "re_d_re xn =  0.00109283646316112 0.0000904703634354843 step =  0.0171136785840079\n",
      "xn 0.00109283646316112\n",
      "delta 7.75088153022881e-18\n",
      "f_abs_2_new 4.81969341585123e-37\n",
      "\n",
      "im_d_re xn =  0.00109283646316112 0.0000904703634354843 step =  0.00700976274800964\n",
      "xn 0.00109283646316112\n",
      "delta -1.70235877585410e-17\n",
      "f_abs_2_new 4.42472538577906e-37\n",
      "\n",
      "re_d_im xn =  0.00109283646316112 0.0000904703634354843 step =  0.0000646536497149785\n",
      "xn 0.0000904703634354843\n",
      "delta -9.37169694376585e-17\n",
      "f_abs_2_new 7.78419135655754e-38\n",
      "f_new 2.89049993250530e-20 -2.77500296539651e-19\n",
      "\n",
      "im_d_im xn =  0.00109283646316112 0.0000904703634354843 step =  0.00560781019840771\n",
      "xn 0.0000904703634354843\n",
      "delta -1.40793938096329e-18\n",
      "f_abs_2_new 4.82041365011075e-37\n",
      "\n",
      "re_d_re xn =  0.00109283646316112 0.0000904703634354843 step =  0.0136909428672063\n",
      "xn 0.00109283646316112\n",
      "delta 7.75088153022881e-18\n",
      "f_abs_2_new 7.78419135655754e-38\n",
      "f_new 2.89049993250530e-20 -2.77500296539651e-19\n",
      "\n",
      "im_d_re xn =  0.00109283646316112 0.0000904703634354843 step =  0.00560781019840771\n",
      "xn 0.00109283646316112\n",
      "delta -1.70235877585410e-17\n",
      "f_abs_2_new 7.78419135655754e-38\n",
      "f_new 2.89049993250530e-20 -2.77500296539651e-19\n",
      "\n",
      "re_d_im xn =  0.00109283646316112 0.0000904703634354843 step =  0.0000808170621437231\n",
      "xn 0.0000904703634354843\n",
      "delta -9.37169694376585e-17\n",
      "f_abs_2_new 4.82041365011075e-37\n",
      "\n",
      "im_d_im xn =  0.00109283646316112 0.0000904703634354843 step =  0.00448624815872617\n",
      "xn 0.0000904703634354843\n",
      "delta -1.40793938096329e-18\n",
      "f_abs_2_new 7.78419135655754e-38\n",
      "f_new 2.89049993250530e-20 -2.77500296539651e-19\n",
      "\n",
      "re_d_re xn =  0.00109283646316112 0.0000904703634354843 step =  0.0171136785840079\n",
      "xn 0.00109283646316112\n",
      "delta 7.75088153022881e-18\n",
      "f_abs_2_new 4.81969341585123e-37\n",
      "\n",
      "im_d_re xn =  0.00109283646316112 0.0000904703634354843 step =  0.00700976274800964\n",
      "xn 0.00109283646316112\n",
      "delta -1.70235877585410e-17\n",
      "f_abs_2_new 4.42472538577906e-37\n",
      "\n",
      "re_d_im xn =  0.00109283646316112 0.0000904703634354843 step =  0.0000646536497149785\n",
      "xn 0.0000904703634354843\n",
      "delta -9.37169694376585e-17\n",
      "f_abs_2_new 7.78419135655754e-38\n",
      "f_new 2.89049993250530e-20 -2.77500296539651e-19\n",
      "\n",
      "im_d_im xn =  0.00109283646316112 0.0000904703634354843 step =  0.00560781019840771\n",
      "xn 0.0000904703634354843\n",
      "delta -1.40793938096329e-18\n",
      "f_abs_2_new 4.82041365011075e-37\n",
      "\n",
      "re_d_re xn =  0.00109283646316112 0.0000904703634354843 step =  0.0136909428672063\n",
      "xn 0.00109283646316112\n",
      "delta 7.75088153022881e-18\n",
      "f_abs_2_new 7.78419135655754e-38\n",
      "f_new 2.89049993250530e-20 -2.77500296539651e-19\n",
      "\n",
      "im_d_re xn =  0.00109283646316112 0.0000904703634354843 step =  0.00560781019840771\n",
      "xn 0.00109283646316112\n",
      "delta -1.70235877585410e-17\n",
      "f_abs_2_new 7.78419135655754e-38\n",
      "f_new 2.89049993250530e-20 -2.77500296539651e-19\n",
      "\n",
      "re_d_im xn =  0.00109283646316112 0.0000904703634354843 step =  0.0000808170621437231\n",
      "xn 0.0000904703634354843\n",
      "delta -9.37169694376585e-17\n",
      "f_abs_2_new 4.82041365011075e-37\n",
      "\n",
      "im_d_im xn =  0.00109283646316112 0.0000904703634354843 step =  0.00448624815872617\n",
      "xn 0.0000904703634354843\n",
      "delta -1.40793938096329e-18\n",
      "f_abs_2_new 7.78419135655754e-38\n",
      "f_new 2.89049993250530e-20 -2.77500296539651e-19\n",
      "\n",
      "re_d_re xn =  0.00109283646316112 0.0000904703634354843 step =  0.0171136785840079\n",
      "xn 0.00109283646316112\n",
      "delta 7.75088153022881e-18\n",
      "f_abs_2_new 4.81969341585123e-37\n",
      "\n",
      "im_d_re xn =  0.00109283646316112 0.0000904703634354843 step =  0.00700976274800964\n",
      "xn 0.00109283646316112\n",
      "delta -1.70235877585410e-17\n",
      "f_abs_2_new 4.42472538577906e-37\n",
      "\n",
      "re_d_im xn =  0.00109283646316112 0.0000904703634354843 step =  0.0000646536497149785\n",
      "xn 0.0000904703634354843\n",
      "delta -9.37169694376585e-17\n",
      "f_abs_2_new 7.78419135655754e-38\n",
      "f_new 2.89049993250530e-20 -2.77500296539651e-19\n",
      "\n",
      "im_d_im xn =  0.00109283646316112 0.0000904703634354843 step =  0.00560781019840771\n",
      "xn 0.0000904703634354843\n",
      "delta -1.40793938096329e-18\n",
      "f_abs_2_new 4.82041365011075e-37\n",
      "\n",
      "re_d_re xn =  0.00109283646316112 0.0000904703634354843 step =  0.0136909428672063\n",
      "xn 0.00109283646316112\n",
      "delta 7.75088153022881e-18\n",
      "f_abs_2_new 7.78419135655754e-38\n",
      "f_new 2.89049993250530e-20 -2.77500296539651e-19\n",
      "\n",
      "im_d_re xn =  0.00109283646316112 0.0000904703634354843 step =  0.00560781019840771\n",
      "xn 0.00109283646316112\n",
      "delta -1.70235877585410e-17\n",
      "f_abs_2_new 7.78419135655754e-38\n",
      "f_new 2.89049993250530e-20 -2.77500296539651e-19\n",
      "\n",
      "re_d_im xn =  0.00109283646316112 0.0000904703634354843 step =  0.0000808170621437231\n",
      "xn 0.0000904703634354843\n",
      "delta -9.37169694376585e-17\n",
      "f_abs_2_new 4.82041365011075e-37\n",
      "\n",
      "im_d_im xn =  0.00109283646316112 0.0000904703634354843 step =  0.00448624815872617\n",
      "xn 0.0000904703634354843\n",
      "delta -1.40793938096329e-18\n",
      "f_abs_2_new 7.78419135655754e-38\n",
      "f_new 2.89049993250530e-20 -2.77500296539651e-19\n",
      "\n",
      "re_d_re xn =  0.00109283646316112 0.0000904703634354843 step =  0.0171136785840079\n",
      "xn 0.00109283646316112\n",
      "delta 7.75088153022881e-18\n",
      "f_abs_2_new 4.81969341585123e-37\n",
      "\n",
      "im_d_re xn =  0.00109283646316112 0.0000904703634354843 step =  0.00700976274800964\n",
      "xn 0.00109283646316112\n",
      "delta -1.70235877585410e-17\n",
      "f_abs_2_new 4.42472538577906e-37\n",
      "\n",
      "re_d_im xn =  0.00109283646316112 0.0000904703634354843 step =  0.0000646536497149785\n",
      "xn 0.0000904703634354843\n",
      "delta -9.37169694376585e-17\n",
      "f_abs_2_new 7.78419135655754e-38\n",
      "f_new 2.89049993250530e-20 -2.77500296539651e-19\n",
      "\n",
      "im_d_im xn =  0.00109283646316112 0.0000904703634354843 step =  0.00560781019840771\n",
      "xn 0.0000904703634354843\n"
     ]
    },
    {
     "name": "stdout",
     "output_type": "stream",
     "text": [
      "delta -1.40793938096329e-18\n",
      "f_abs_2_new 4.82041365011075e-37\n",
      "\n",
      "re_d_re xn =  0.00109283646316112 0.0000904703634354843 step =  0.0136909428672063\n",
      "xn 0.00109283646316112\n",
      "delta 7.75088153022881e-18\n",
      "f_abs_2_new 7.78419135655754e-38\n",
      "f_new 2.89049993250530e-20 -2.77500296539651e-19\n",
      "\n",
      "im_d_re xn =  0.00109283646316112 0.0000904703634354843 step =  0.00560781019840771\n",
      "xn 0.00109283646316112\n",
      "delta -1.70235877585410e-17\n",
      "f_abs_2_new 7.78419135655754e-38\n",
      "f_new 2.89049993250530e-20 -2.77500296539651e-19\n",
      "\n",
      "re_d_im xn =  0.00109283646316112 0.0000904703634354843 step =  0.0000808170621437231\n",
      "xn 0.0000904703634354843\n",
      "delta -9.37169694376585e-17\n",
      "f_abs_2_new 4.82041365011075e-37\n",
      "\n",
      "im_d_im xn =  0.00109283646316112 0.0000904703634354843 step =  0.00448624815872617\n",
      "xn 0.0000904703634354843\n",
      "delta -1.40793938096329e-18\n",
      "f_abs_2_new 7.78419135655754e-38\n",
      "f_new 2.89049993250530e-20 -2.77500296539651e-19\n",
      "\n",
      "re_d_re xn =  0.00109283646316112 0.0000904703634354843 step =  0.0171136785840079\n",
      "xn 0.00109283646316112\n",
      "delta 7.75088153022881e-18\n",
      "f_abs_2_new 4.81969341585123e-37\n",
      "\n",
      "im_d_re xn =  0.00109283646316112 0.0000904703634354843 step =  0.00700976274800964\n",
      "xn 0.00109283646316112\n",
      "delta -1.70235877585410e-17\n",
      "f_abs_2_new 4.42472538577906e-37\n",
      "\n",
      "re_d_im xn =  0.00109283646316112 0.0000904703634354843 step =  0.0000646536497149785\n",
      "xn 0.0000904703634354843\n",
      "delta -9.37169694376585e-17\n",
      "f_abs_2_new 7.78419135655754e-38\n",
      "f_new 2.89049993250530e-20 -2.77500296539651e-19\n",
      "\n",
      "im_d_im xn =  0.00109283646316112 0.0000904703634354843 step =  0.00560781019840771\n",
      "xn 0.0000904703634354843\n",
      "delta -1.40793938096329e-18\n",
      "f_abs_2_new 4.82041365011075e-37\n",
      "\n",
      "re_d_re xn =  0.00109283646316112 0.0000904703634354843 step =  0.0136909428672063\n",
      "xn 0.00109283646316112\n",
      "delta 7.75088153022881e-18\n",
      "f_abs_2_new 7.78419135655754e-38\n",
      "f_new 2.89049993250530e-20 -2.77500296539651e-19\n",
      "\n",
      "im_d_re xn =  0.00109283646316112 0.0000904703634354843 step =  0.00560781019840771\n",
      "xn 0.00109283646316112\n",
      "delta -1.70235877585410e-17\n",
      "f_abs_2_new 7.78419135655754e-38\n",
      "f_new 2.89049993250530e-20 -2.77500296539651e-19\n",
      "\n",
      "re_d_im xn =  0.00109283646316112 0.0000904703634354843 step =  0.0000808170621437231\n",
      "xn 0.0000904703634354843\n",
      "delta -9.37169694376585e-17\n",
      "f_abs_2_new 4.82041365011075e-37\n",
      "\n",
      "im_d_im xn =  0.00109283646316112 0.0000904703634354843 step =  0.00448624815872617\n",
      "xn 0.0000904703634354843\n",
      "delta -1.40793938096329e-18\n",
      "f_abs_2_new 7.78419135655754e-38\n",
      "f_new 2.89049993250530e-20 -2.77500296539651e-19\n",
      "\n",
      "re_d_re xn =  0.00109283646316112 0.0000904703634354843 step =  0.0171136785840079\n",
      "xn 0.00109283646316112\n",
      "delta 7.75088153022881e-18\n",
      "f_abs_2_new 4.81969341585123e-37\n",
      "\n",
      "im_d_re xn =  0.00109283646316112 0.0000904703634354843 step =  0.00700976274800964\n",
      "xn 0.00109283646316112\n",
      "delta -1.70235877585410e-17\n",
      "f_abs_2_new 4.42472538577906e-37\n",
      "\n",
      "re_d_im xn =  0.00109283646316112 0.0000904703634354843 step =  0.0000646536497149785\n",
      "xn 0.0000904703634354843\n",
      "delta -9.37169694376585e-17\n",
      "f_abs_2_new 7.78419135655754e-38\n",
      "f_new 2.89049993250530e-20 -2.77500296539651e-19\n",
      "\n",
      "im_d_im xn =  0.00109283646316112 0.0000904703634354843 step =  0.00560781019840771\n",
      "xn 0.0000904703634354843\n",
      "delta -1.40793938096329e-18\n",
      "f_abs_2_new 4.82041365011075e-37\n",
      "\n",
      "re_d_re xn =  0.00109283646316112 0.0000904703634354843 step =  0.0136909428672063\n",
      "xn 0.00109283646316112\n",
      "delta 7.75088153022881e-18\n",
      "f_abs_2_new 7.78419135655754e-38\n",
      "f_new 2.89049993250530e-20 -2.77500296539651e-19\n",
      "\n",
      "im_d_re xn =  0.00109283646316112 0.0000904703634354843 step =  0.00560781019840771\n",
      "xn 0.00109283646316112\n",
      "delta -1.70235877585410e-17\n",
      "f_abs_2_new 7.78419135655754e-38\n",
      "f_new 2.89049993250530e-20 -2.77500296539651e-19\n",
      "\n",
      "re_d_im xn =  0.00109283646316112 0.0000904703634354843 step =  0.0000808170621437231\n",
      "xn 0.0000904703634354843\n",
      "delta -9.37169694376585e-17\n",
      "f_abs_2_new 4.82041365011075e-37\n",
      "\n",
      "im_d_im xn =  0.00109283646316112 0.0000904703634354843 step =  0.00448624815872617\n",
      "xn 0.0000904703634354843\n",
      "delta -1.40793938096329e-18\n",
      "f_abs_2_new 7.78419135655754e-38\n",
      "f_new 2.89049993250530e-20 -2.77500296539651e-19\n",
      "\n",
      "re_d_re xn =  0.00109283646316112 0.0000904703634354843 step =  0.0171136785840079\n",
      "xn 0.00109283646316112\n",
      "delta 7.75088153022881e-18\n",
      "f_abs_2_new 4.81969341585123e-37\n",
      "\n",
      "im_d_re xn =  0.00109283646316112 0.0000904703634354843 step =  0.00700976274800964\n",
      "xn 0.00109283646316112\n",
      "delta -1.70235877585410e-17\n",
      "f_abs_2_new 4.42472538577906e-37\n",
      "\n",
      "re_d_im xn =  0.00109283646316112 0.0000904703634354843 step =  0.0000646536497149785\n",
      "xn 0.0000904703634354843\n",
      "delta -9.37169694376585e-17\n",
      "f_abs_2_new 7.78419135655754e-38\n",
      "f_new 2.89049993250530e-20 -2.77500296539651e-19\n",
      "\n",
      "im_d_im xn =  0.00109283646316112 0.0000904703634354843 step =  0.00560781019840771\n",
      "xn 0.0000904703634354843\n",
      "delta -1.40793938096329e-18\n",
      "f_abs_2_new 4.82041365011075e-37\n",
      "\n",
      "re_d_re xn =  0.00109283646316112 0.0000904703634354843 step =  0.0136909428672063\n",
      "xn 0.00109283646316112\n",
      "delta 7.75088153022881e-18\n",
      "f_abs_2_new 7.78419135655754e-38\n",
      "f_new 2.89049993250530e-20 -2.77500296539651e-19\n",
      "\n",
      "im_d_re xn =  0.00109283646316112 0.0000904703634354843 step =  0.00560781019840771\n",
      "xn 0.00109283646316112\n",
      "delta -1.70235877585410e-17\n",
      "f_abs_2_new 7.78419135655754e-38\n",
      "f_new 2.89049993250530e-20 -2.77500296539651e-19\n",
      "\n",
      "re_d_im xn =  0.00109283646316112 0.0000904703634354843 step =  0.0000808170621437231\n",
      "xn 0.0000904703634354843\n",
      "delta -9.37169694376585e-17\n",
      "f_abs_2_new 4.82041365011075e-37\n",
      "\n",
      "im_d_im xn =  0.00109283646316112 0.0000904703634354843 step =  0.00448624815872617\n",
      "xn 0.0000904703634354843\n",
      "delta -1.40793938096329e-18\n",
      "f_abs_2_new 7.78419135655754e-38\n",
      "f_new 2.89049993250530e-20 -2.77500296539651e-19\n",
      "\n",
      "re_d_re xn =  0.00109283646316112 0.0000904703634354843 step =  0.0171136785840079\n",
      "xn 0.00109283646316112\n",
      "delta 7.75088153022881e-18\n",
      "f_abs_2_new 4.81969341585123e-37\n",
      "\n",
      "im_d_re xn =  0.00109283646316112 0.0000904703634354843 step =  0.00700976274800964\n",
      "xn 0.00109283646316112\n",
      "delta -1.70235877585410e-17\n",
      "f_abs_2_new 4.42472538577906e-37\n",
      "\n",
      "re_d_im xn =  0.00109283646316112 0.0000904703634354843 step =  0.0000646536497149785\n",
      "xn 0.0000904703634354843\n",
      "delta -9.37169694376585e-17\n",
      "f_abs_2_new 7.78419135655754e-38\n",
      "f_new 2.89049993250530e-20 -2.77500296539651e-19\n",
      "\n",
      "im_d_im xn =  0.00109283646316112 0.0000904703634354843 step =  0.00560781019840771\n",
      "xn 0.0000904703634354843\n",
      "delta -1.40793938096329e-18\n",
      "f_abs_2_new 4.82041365011075e-37\n",
      "\n",
      "re_d_re xn =  0.00109283646316112 0.0000904703634354843 step =  0.0136909428672063\n",
      "xn 0.00109283646316112\n",
      "delta 7.75088153022881e-18\n",
      "f_abs_2_new 7.78419135655754e-38\n",
      "f_new 2.89049993250530e-20 -2.77500296539651e-19\n",
      "\n",
      "im_d_re xn =  0.00109283646316112 0.0000904703634354843 step =  0.00560781019840771\n",
      "xn 0.00109283646316112\n",
      "delta -1.70235877585410e-17\n",
      "f_abs_2_new 7.78419135655754e-38\n",
      "f_new 2.89049993250530e-20 -2.77500296539651e-19\n",
      "\n",
      "re_d_im xn =  0.00109283646316112 0.0000904703634354843 step =  0.0000808170621437231\n",
      "xn 0.0000904703634354843\n",
      "delta -9.37169694376585e-17\n",
      "f_abs_2_new 4.82041365011075e-37\n",
      "\n",
      "im_d_im xn =  0.00109283646316112 0.0000904703634354843 step =  0.00448624815872617\n",
      "xn 0.0000904703634354843\n",
      "delta -1.40793938096329e-18\n",
      "f_abs_2_new 7.78419135655754e-38\n",
      "f_new 2.89049993250530e-20 -2.77500296539651e-19\n",
      "\n",
      "re_d_re xn =  0.00109283646316112 0.0000904703634354843 step =  0.0171136785840079\n",
      "xn 0.00109283646316112\n",
      "delta 7.75088153022881e-18\n",
      "f_abs_2_new 4.81969341585123e-37\n",
      "\n",
      "im_d_re xn =  0.00109283646316112 0.0000904703634354843 step =  0.00700976274800964\n",
      "xn 0.00109283646316112\n",
      "delta -1.70235877585410e-17\n",
      "f_abs_2_new 4.42472538577906e-37\n",
      "\n",
      "re_d_im xn =  0.00109283646316112 0.0000904703634354843 step =  0.0000646536497149785\n",
      "xn 0.0000904703634354843\n",
      "delta -9.37169694376585e-17\n",
      "f_abs_2_new 7.78419135655754e-38\n",
      "f_new 2.89049993250530e-20 -2.77500296539651e-19\n",
      "\n",
      "im_d_im xn =  0.00109283646316112 0.0000904703634354843 step =  0.00560781019840771\n",
      "xn 0.0000904703634354843\n",
      "delta -1.40793938096329e-18\n",
      "f_abs_2_new 4.82041365011075e-37\n",
      "\n",
      "re_d_re xn =  0.00109283646316112 0.0000904703634354843 step =  0.0136909428672063\n",
      "xn 0.00109283646316112\n",
      "delta 7.75088153022881e-18\n",
      "f_abs_2_new 7.78419135655754e-38\n",
      "f_new 2.89049993250530e-20 -2.77500296539651e-19\n",
      "\n",
      "im_d_re xn =  0.00109283646316112 0.0000904703634354843 step =  0.00560781019840771\n",
      "xn 0.00109283646316112\n",
      "delta -1.70235877585410e-17\n",
      "f_abs_2_new 7.78419135655754e-38\n",
      "f_new 2.89049993250530e-20 -2.77500296539651e-19\n",
      "\n",
      "re_d_im xn =  0.00109283646316112 0.0000904703634354843 step =  0.0000808170621437231\n"
     ]
    },
    {
     "name": "stdout",
     "output_type": "stream",
     "text": [
      "xn 0.0000904703634354843\n",
      "delta -9.37169694376585e-17\n",
      "f_abs_2_new 4.82041365011075e-37\n",
      "\n",
      "im_d_im xn =  0.00109283646316112 0.0000904703634354843 step =  0.00448624815872617\n",
      "xn 0.0000904703634354843\n",
      "delta -1.40793938096329e-18\n",
      "f_abs_2_new 7.78419135655754e-38\n",
      "f_new 2.89049993250530e-20 -2.77500296539651e-19\n",
      "\n",
      "re_d_re xn =  0.00109283646316112 0.0000904703634354843 step =  0.0171136785840079\n",
      "xn 0.00109283646316112\n",
      "delta 7.75088153022881e-18\n",
      "f_abs_2_new 4.81969341585123e-37\n",
      "\n",
      "im_d_re xn =  0.00109283646316112 0.0000904703634354843 step =  0.00700976274800964\n",
      "xn 0.00109283646316112\n",
      "delta -1.70235877585410e-17\n",
      "f_abs_2_new 4.42472538577906e-37\n",
      "\n",
      "re_d_im xn =  0.00109283646316112 0.0000904703634354843 step =  0.0000646536497149785\n",
      "xn 0.0000904703634354843\n",
      "delta -9.37169694376585e-17\n",
      "f_abs_2_new 7.78419135655754e-38\n",
      "f_new 2.89049993250530e-20 -2.77500296539651e-19\n",
      "\n",
      "im_d_im xn =  0.00109283646316112 0.0000904703634354843 step =  0.00560781019840771\n",
      "xn 0.0000904703634354843\n",
      "delta -1.40793938096329e-18\n",
      "f_abs_2_new 4.82041365011075e-37\n",
      "\n",
      "re_d_re xn =  0.00109283646316112 0.0000904703634354843 step =  0.0136909428672063\n",
      "xn 0.00109283646316112\n",
      "delta 7.75088153022881e-18\n",
      "f_abs_2_new 7.78419135655754e-38\n",
      "f_new 2.89049993250530e-20 -2.77500296539651e-19\n",
      "\n",
      "im_d_re xn =  0.00109283646316112 0.0000904703634354843 step =  0.00560781019840771\n",
      "xn 0.00109283646316112\n",
      "delta -1.70235877585410e-17\n",
      "f_abs_2_new 7.78419135655754e-38\n",
      "f_new 2.89049993250530e-20 -2.77500296539651e-19\n",
      "\n",
      "re_d_im xn =  0.00109283646316112 0.0000904703634354843 step =  0.0000808170621437231\n",
      "xn 0.0000904703634354843\n",
      "delta -9.37169694376585e-17\n",
      "f_abs_2_new 4.82041365011075e-37\n",
      "\n",
      "im_d_im xn =  0.00109283646316112 0.0000904703634354843 step =  0.00448624815872617\n",
      "xn 0.0000904703634354843\n",
      "delta -1.40793938096329e-18\n",
      "f_abs_2_new 7.78419135655754e-38\n",
      "f_new 2.89049993250530e-20 -2.77500296539651e-19\n",
      "\n",
      "re_d_re xn =  0.00109283646316112 0.0000904703634354843 step =  0.0171136785840079\n",
      "xn 0.00109283646316112\n",
      "delta 7.75088153022881e-18\n",
      "f_abs_2_new 4.81969341585123e-37\n",
      "\n",
      "im_d_re xn =  0.00109283646316112 0.0000904703634354843 step =  0.00700976274800964\n",
      "xn 0.00109283646316112\n",
      "delta -1.70235877585410e-17\n",
      "f_abs_2_new 4.42472538577906e-37\n",
      "\n",
      "re_d_im xn =  0.00109283646316112 0.0000904703634354843 step =  0.0000646536497149785\n",
      "xn 0.0000904703634354843\n",
      "delta -9.37169694376585e-17\n",
      "f_abs_2_new 7.78419135655754e-38\n",
      "f_new 2.89049993250530e-20 -2.77500296539651e-19\n",
      "\n",
      "im_d_im xn =  0.00109283646316112 0.0000904703634354843 step =  0.00560781019840771\n",
      "xn 0.0000904703634354843\n",
      "delta -1.40793938096329e-18\n",
      "f_abs_2_new 4.82041365011075e-37\n",
      "\n",
      "re_d_re xn =  0.00109283646316112 0.0000904703634354843 step =  0.0136909428672063\n",
      "xn 0.00109283646316112\n",
      "delta 7.75088153022881e-18\n",
      "f_abs_2_new 7.78419135655754e-38\n",
      "f_new 2.89049993250530e-20 -2.77500296539651e-19\n",
      "\n",
      "im_d_re xn =  0.00109283646316112 0.0000904703634354843 step =  0.00560781019840771\n",
      "xn 0.00109283646316112\n",
      "delta -1.70235877585410e-17\n",
      "f_abs_2_new 7.78419135655754e-38\n",
      "f_new 2.89049993250530e-20 -2.77500296539651e-19\n",
      "\n",
      "re_d_im xn =  0.00109283646316112 0.0000904703634354843 step =  0.0000808170621437231\n",
      "xn 0.0000904703634354843\n",
      "delta -9.37169694376585e-17\n",
      "f_abs_2_new 4.82041365011075e-37\n",
      "\n",
      "im_d_im xn =  0.00109283646316112 0.0000904703634354843 step =  0.00448624815872617\n",
      "xn 0.0000904703634354843\n",
      "delta -1.40793938096329e-18\n",
      "f_abs_2_new 7.78419135655754e-38\n",
      "f_new 2.89049993250530e-20 -2.77500296539651e-19\n",
      "\n",
      "re_d_re xn =  0.00109283646316112 0.0000904703634354843 step =  0.0171136785840079\n",
      "xn 0.00109283646316112\n",
      "delta 7.75088153022881e-18\n",
      "f_abs_2_new 4.81969341585123e-37\n",
      "\n",
      "im_d_re xn =  0.00109283646316112 0.0000904703634354843 step =  0.00700976274800964\n",
      "xn 0.00109283646316112\n",
      "delta -1.70235877585410e-17\n",
      "f_abs_2_new 4.42472538577906e-37\n",
      "\n",
      "re_d_im xn =  0.00109283646316112 0.0000904703634354843 step =  0.0000646536497149785\n",
      "xn 0.0000904703634354843\n",
      "delta -9.37169694376585e-17\n",
      "f_abs_2_new 7.78419135655754e-38\n",
      "f_new 2.89049993250530e-20 -2.77500296539651e-19\n",
      "\n",
      "im_d_im xn =  0.00109283646316112 0.0000904703634354843 step =  0.00560781019840771\n",
      "xn 0.0000904703634354843\n",
      "delta -1.40793938096329e-18\n",
      "f_abs_2_new 4.82041365011075e-37\n",
      "\n",
      "re_d_re xn =  0.00109283646316112 0.0000904703634354843 step =  0.0136909428672063\n",
      "xn 0.00109283646316112\n",
      "delta 7.75088153022881e-18\n",
      "f_abs_2_new 7.78419135655754e-38\n",
      "f_new 2.89049993250530e-20 -2.77500296539651e-19\n",
      "\n",
      "im_d_re xn =  0.00109283646316112 0.0000904703634354843 step =  0.00560781019840771\n",
      "xn 0.00109283646316112\n",
      "delta -1.70235877585410e-17\n",
      "f_abs_2_new 7.78419135655754e-38\n",
      "f_new 2.89049993250530e-20 -2.77500296539651e-19\n",
      "\n",
      "re_d_im xn =  0.00109283646316112 0.0000904703634354843 step =  0.0000808170621437231\n",
      "xn 0.0000904703634354843\n",
      "delta -9.37169694376585e-17\n",
      "f_abs_2_new 4.82041365011075e-37\n",
      "\n",
      "im_d_im xn =  0.00109283646316112 0.0000904703634354843 step =  0.00448624815872617\n",
      "xn 0.0000904703634354843\n",
      "delta -1.40793938096329e-18\n",
      "f_abs_2_new 7.78419135655754e-38\n",
      "f_new 2.89049993250530e-20 -2.77500296539651e-19\n",
      "\n",
      "re_d_re xn =  0.00109283646316112 0.0000904703634354843 step =  0.0171136785840079\n",
      "xn 0.00109283646316112\n",
      "delta 7.75088153022881e-18\n",
      "f_abs_2_new 4.81969341585123e-37\n",
      "\n",
      "im_d_re xn =  0.00109283646316112 0.0000904703634354843 step =  0.00700976274800964\n",
      "xn 0.00109283646316112\n",
      "delta -1.70235877585410e-17\n",
      "f_abs_2_new 4.42472538577906e-37\n",
      "\n",
      "re_d_im xn =  0.00109283646316112 0.0000904703634354843 step =  0.0000646536497149785\n",
      "xn 0.0000904703634354843\n",
      "delta -9.37169694376585e-17\n",
      "f_abs_2_new 7.78419135655754e-38\n",
      "f_new 2.89049993250530e-20 -2.77500296539651e-19\n",
      "\n",
      "im_d_im xn =  0.00109283646316112 0.0000904703634354843 step =  0.00560781019840771\n",
      "xn 0.0000904703634354843\n",
      "delta -1.40793938096329e-18\n",
      "f_abs_2_new 4.82041365011075e-37\n",
      "\n",
      "re_d_re xn =  0.00109283646316112 0.0000904703634354843 step =  0.0136909428672063\n",
      "xn 0.00109283646316112\n",
      "delta 7.75088153022881e-18\n",
      "f_abs_2_new 7.78419135655754e-38\n",
      "f_new 2.89049993250530e-20 -2.77500296539651e-19\n",
      "\n",
      "im_d_re xn =  0.00109283646316112 0.0000904703634354843 step =  0.00560781019840771\n",
      "xn 0.00109283646316112\n",
      "delta -1.70235877585410e-17\n",
      "f_abs_2_new 7.78419135655754e-38\n",
      "f_new 2.89049993250530e-20 -2.77500296539651e-19\n",
      "\n",
      "re_d_im xn =  0.00109283646316112 0.0000904703634354843 step =  0.0000808170621437231\n",
      "xn 0.0000904703634354843\n",
      "delta -9.37169694376585e-17\n",
      "f_abs_2_new 4.82041365011075e-37\n",
      "\n",
      "im_d_im xn =  0.00109283646316112 0.0000904703634354843 step =  0.00448624815872617\n",
      "xn 0.0000904703634354843\n",
      "delta -1.40793938096329e-18\n",
      "f_abs_2_new 7.78419135655754e-38\n",
      "f_new 2.89049993250530e-20 -2.77500296539651e-19\n",
      "\n",
      "re_d_re xn =  0.00109283646316112 0.0000904703634354843 step =  0.0171136785840079\n",
      "xn 0.00109283646316112\n",
      "delta 7.75088153022881e-18\n",
      "f_abs_2_new 4.81969341585123e-37\n",
      "\n",
      "im_d_re xn =  0.00109283646316112 0.0000904703634354843 step =  0.00700976274800964\n",
      "xn 0.00109283646316112\n",
      "delta -1.70235877585410e-17\n",
      "f_abs_2_new 4.42472538577906e-37\n",
      "\n",
      "re_d_im xn =  0.00109283646316112 0.0000904703634354843 step =  0.0000646536497149785\n",
      "xn 0.0000904703634354843\n",
      "delta -9.37169694376585e-17\n",
      "f_abs_2_new 7.78419135655754e-38\n",
      "f_new 2.89049993250530e-20 -2.77500296539651e-19\n",
      "\n",
      "im_d_im xn =  0.00109283646316112 0.0000904703634354843 step =  0.00560781019840771\n",
      "xn 0.0000904703634354843\n",
      "delta -1.40793938096329e-18\n",
      "f_abs_2_new 4.82041365011075e-37\n",
      "\n",
      "re_d_re xn =  0.00109283646316112 0.0000904703634354843 step =  0.0136909428672063\n",
      "xn 0.00109283646316112\n",
      "delta 7.75088153022881e-18\n",
      "f_abs_2_new 7.78419135655754e-38\n",
      "f_new 2.89049993250530e-20 -2.77500296539651e-19\n",
      "\n",
      "im_d_re xn =  0.00109283646316112 0.0000904703634354843 step =  0.00560781019840771\n",
      "xn 0.00109283646316112\n",
      "delta -1.70235877585410e-17\n",
      "f_abs_2_new 7.78419135655754e-38\n",
      "f_new 2.89049993250530e-20 -2.77500296539651e-19\n",
      "\n",
      "re_d_im xn =  0.00109283646316112 0.0000904703634354843 step =  0.0000808170621437231\n",
      "xn 0.0000904703634354843\n",
      "delta -9.37169694376585e-17\n",
      "f_abs_2_new 4.82041365011075e-37\n",
      "\n",
      "im_d_im xn =  0.00109283646316112 0.0000904703634354843 step =  0.00448624815872617\n",
      "xn 0.0000904703634354843\n",
      "delta -1.40793938096329e-18\n",
      "f_abs_2_new 7.78419135655754e-38\n",
      "f_new 2.89049993250530e-20 -2.77500296539651e-19\n",
      "\n",
      "re_d_re xn =  0.00109283646316112 0.0000904703634354843 step =  0.0171136785840079\n",
      "xn 0.00109283646316112\n"
     ]
    },
    {
     "name": "stdout",
     "output_type": "stream",
     "text": [
      "delta 7.75088153022881e-18\n",
      "f_abs_2_new 4.81969341585123e-37\n",
      "\n",
      "im_d_re xn =  0.00109283646316112 0.0000904703634354843 step =  0.00700976274800964\n",
      "xn 0.00109283646316112\n",
      "delta -1.70235877585410e-17\n",
      "f_abs_2_new 4.42472538577906e-37\n",
      "\n",
      "re_d_im xn =  0.00109283646316112 0.0000904703634354843 step =  0.0000646536497149785\n",
      "xn 0.0000904703634354843\n",
      "delta -9.37169694376585e-17\n",
      "f_abs_2_new 7.78419135655754e-38\n",
      "f_new 2.89049993250530e-20 -2.77500296539651e-19\n",
      "\n",
      "im_d_im xn =  0.00109283646316112 0.0000904703634354843 step =  0.00560781019840771\n",
      "xn 0.0000904703634354843\n",
      "delta -1.40793938096329e-18\n",
      "f_abs_2_new 4.82041365011075e-37\n",
      "\n",
      "re_d_re xn =  0.00109283646316112 0.0000904703634354843 step =  0.0136909428672063\n",
      "xn 0.00109283646316112\n",
      "delta 7.75088153022881e-18\n",
      "f_abs_2_new 7.78419135655754e-38\n",
      "f_new 2.89049993250530e-20 -2.77500296539651e-19\n",
      "\n",
      "im_d_re xn =  0.00109283646316112 0.0000904703634354843 step =  0.00560781019840771\n",
      "xn 0.00109283646316112\n",
      "delta -1.70235877585410e-17\n",
      "f_abs_2_new 7.78419135655754e-38\n",
      "f_new 2.89049993250530e-20 -2.77500296539651e-19\n",
      "\n",
      "re_d_im xn =  0.00109283646316112 0.0000904703634354843 step =  0.0000808170621437231\n",
      "xn 0.0000904703634354843\n",
      "delta -9.37169694376585e-17\n",
      "f_abs_2_new 4.82041365011075e-37\n",
      "\n",
      "im_d_im xn =  0.00109283646316112 0.0000904703634354843 step =  0.00448624815872617\n",
      "xn 0.0000904703634354843\n",
      "delta -1.40793938096329e-18\n",
      "f_abs_2_new 7.78419135655754e-38\n",
      "f_new 2.89049993250530e-20 -2.77500296539651e-19\n"
     ]
    }
   ],
   "source": [
    "k_z_root = find_newton_complex_root(\n",
    "    M3_subs_det_re_d,\\\n",
    "    M3_subs_det_im_d,\\\n",
    "    M3_subs_det_re_div_diff_kz_d,\\\n",
    "    M3_subs_det_im_div_diff_kz_d,\\\n",
    "    M3_subs_det_re_div_diff_sz_d,\\\n",
    "    M3_subs_det_im_div_diff_sz_d,\\\n",
    "    xre = kz, xim = sz,\\\n",
    "    xn_re = 0.001, xn_im = 0.0001)"
   ]
  },
  {
   "cell_type": "code",
   "execution_count": 235,
   "metadata": {},
   "outputs": [
    {
     "data": {
      "text/plain": [
       "(0.00109283646316112,\n",
       " 0.0000904703634354843,\n",
       " 2.89049993250530e-20,\n",
       " -2.77500296539651e-19)"
      ]
     },
     "execution_count": 235,
     "metadata": {},
     "output_type": "execute_result"
    }
   ],
   "source": [
    "k_z_root"
   ]
  },
  {
   "cell_type": "code",
   "execution_count": 236,
   "metadata": {},
   "outputs": [],
   "source": [
    "#(1.12484012576918, 0.117839577439914, 0.000000000000000, -3.55271367880050e-14)"
   ]
  },
  {
   "cell_type": "raw",
   "metadata": {},
   "source": [
    "k_z_root = find_newton_complex_root(\n",
    "    M3_subs_det_re_d,\\\n",
    "    M3_subs_det_im_d,\\\n",
    "    M3_subs_det_re_div_diff_kz_d,\\\n",
    "    M3_subs_det_im_div_diff_kz_d,\\\n",
    "    M3_subs_det_re_div_diff_sz_d,\\\n",
    "    M3_subs_det_im_div_diff_sz_d,\\\n",
    "    xre = kz, xim = sz,\\\n",
    "    xn_re = k_z_root[0], xn_im = k_z_root[1])"
   ]
  },
  {
   "cell_type": "code",
   "execution_count": 237,
   "metadata": {},
   "outputs": [
    {
     "data": {
      "text/plain": [
       "(0.00109283646316112,\n",
       " 0.0000904703634354843,\n",
       " 2.89049993250530e-20,\n",
       " -2.77500296539651e-19)"
      ]
     },
     "execution_count": 237,
     "metadata": {},
     "output_type": "execute_result"
    }
   ],
   "source": [
    "k_z_root"
   ]
  },
  {
   "cell_type": "code",
   "execution_count": 276,
   "metadata": {},
   "outputs": [],
   "source": [
    "test_M6 = True\n",
    "fast_M6 = True"
   ]
  },
  {
   "cell_type": "code",
   "execution_count": 277,
   "metadata": {},
   "outputs": [],
   "source": [
    "if test_M6 and not fast_M6:\n",
    "    M6_subs_det_re = M6_subs_det.real()\n",
    "    M6_subs_det_im = M6_subs_det.imag()\n",
    "\n",
    "    M6_subs_det_re_diff_kz = M6_subs_det_re.diff(kz)\n",
    "    M6_subs_det_im_diff_kz = M6_subs_det_im.diff(kz)\n",
    "    M6_subs_det_re_diff_sz = M6_subs_det_re.diff(sz)\n",
    "    M6_subs_det_im_diff_sz = M6_subs_det_im.diff(sz)\n",
    "\n",
    "    M6_subs_det_re_div_diff_kz = (M6_subs_det_re / M6_subs_det_re_diff_kz)\n",
    "    M6_subs_det_im_div_diff_kz = (M6_subs_det_im / M6_subs_det_im_diff_kz)\n",
    "    M6_subs_det_re_div_diff_sz = (M6_subs_det_re / M6_subs_det_re_diff_sz)\n",
    "    M6_subs_det_im_div_diff_sz = (M6_subs_det_im / M6_subs_det_im_diff_sz)\n",
    "\n",
    "    M6_subs_det_re_d = M6_subs_det_re.subs(digit_values)\n",
    "    M6_subs_det_im_d = M6_subs_det_im.subs(digit_values)"
   ]
  },
  {
   "cell_type": "code",
   "execution_count": null,
   "metadata": {},
   "outputs": [],
   "source": []
  },
  {
   "cell_type": "code",
   "execution_count": 278,
   "metadata": {},
   "outputs": [],
   "source": [
    "if test_M6 and not fast_M6 and make_investigation_plots:\n",
    "    import numpy as np\n",
    "    import matplotlib.pyplot as plt\n",
    "    %matplotlib inline\n",
    "\n",
    "    kz_linspace = np.linspace(0, 1e-2, 10)\n",
    "    sz_linspace = np.linspace(0, 1e-3, 10)\n",
    "\n",
    "    kz_list = kz_linspace.tolist()\n",
    "    sz_list = sz_linspace.tolist()\n",
    "\n",
    "    kz_grid, sz_grid = np.meshgrid(kz_linspace, sz_linspace)\n",
    "\n",
    "    u = kz_grid * np.nan\n",
    "    v = sz_grid * np.nan\n",
    "\n",
    "    for ikz in np.arange(0, len(kz_linspace), 1):\n",
    "        for isz in np.arange(0, len(sz_linspace), 1):\n",
    "            kz_i = kz_list[ikz]\n",
    "            sz_i = sz_list[isz]\n",
    "            u[isz][ikz] = M6_subs_det_re_d.subs(kz == kz_i).subs(sz == sz_i).n()\n",
    "            v[isz][ikz] = M6_subs_det_im_d.subs(kz == kz_i).subs(sz == sz_i).n()"
   ]
  },
  {
   "cell_type": "markdown",
   "metadata": {},
   "source": [
    "Искомый волновой вектор можно найти графическим методом как точку пересечения двух нулевых изолиний на контурных графиках зависимости действительной и мнимой компонент детерминанта от действительной и мнимой компонент волнового вектора"
   ]
  },
  {
   "cell_type": "code",
   "execution_count": 279,
   "metadata": {},
   "outputs": [],
   "source": [
    "if test_M6 and not fast_M6 and make_investigation_plots:\n",
    "    fig,ax=plt.subplots(1,1)\n",
    "\n",
    "    cp = ax.contourf(kz_grid,sz_grid, u)\n",
    "    fig.colorbar(cp) # Add a colorbar to a plot\n",
    "    ax.set_title('M6_subs_det_re')\n",
    "    ax.set_xlabel('kz')\n",
    "    ax.set_ylabel('sz')\n",
    "    plt.show()"
   ]
  },
  {
   "cell_type": "code",
   "execution_count": 280,
   "metadata": {},
   "outputs": [],
   "source": [
    "if test_M6 and not fast_M6 and make_investigation_plots:\n",
    "    fig,ax=plt.subplots(1,1)\n",
    "\n",
    "    cp = ax.contourf(kz_grid,sz_grid, v)\n",
    "    fig.colorbar(cp) # Add a colorbar to a plot\n",
    "    ax.set_title('M6_subs_det_im')\n",
    "    ax.set_xlabel('kz')\n",
    "    ax.set_ylabel('sz')\n",
    "    plt.show()"
   ]
  },
  {
   "cell_type": "code",
   "execution_count": null,
   "metadata": {},
   "outputs": [],
   "source": []
  },
  {
   "cell_type": "code",
   "execution_count": 281,
   "metadata": {},
   "outputs": [],
   "source": [
    "if test_M6 and not fast_M6:\n",
    "    M6_subs_det_re_div_diff_kz_d = M6_subs_det_re_div_diff_kz.subs(digit_values)\n",
    "    M6_subs_det_im_div_diff_kz_d = M6_subs_det_im_div_diff_kz.subs(digit_values)\n",
    "    M6_subs_det_re_div_diff_sz_d = M6_subs_det_re_div_diff_sz.subs(digit_values)\n",
    "    M6_subs_det_im_div_diff_sz_d = M6_subs_det_im_div_diff_sz.subs(digit_values)"
   ]
  },
  {
   "cell_type": "code",
   "execution_count": null,
   "metadata": {},
   "outputs": [],
   "source": []
  },
  {
   "cell_type": "code",
   "execution_count": 282,
   "metadata": {},
   "outputs": [],
   "source": [
    "if test_M6 and not fast_M6:\n",
    "    k_z_root6 = find_newton_complex_root(\n",
    "        M6_subs_det_re_d,\\\n",
    "        M6_subs_det_im_d,\\\n",
    "        M6_subs_det_re_div_diff_kz_d,\\\n",
    "        M6_subs_det_im_div_diff_kz_d,\\\n",
    "        M6_subs_det_re_div_diff_sz_d,\\\n",
    "        M6_subs_det_im_div_diff_sz_d,\\\n",
    "        xre = kz, xim = sz,\\\n",
    "        xn_re = k_z_root[0], xn_im = k_z_root[1], nsteps = 0)"
   ]
  },
  {
   "cell_type": "code",
   "execution_count": 283,
   "metadata": {},
   "outputs": [
    {
     "name": "stdout",
     "output_type": "stream",
     "text": [
      "(0.00109283646316112, 0.0000904703634354843, 2.89049993250530e-20, -2.77500296539651e-19)\n"
     ]
    }
   ],
   "source": [
    "if test_M6 and fast_M6:\n",
    "    k_z_root6 = k_z_root\n",
    "    print(k_z_root6)"
   ]
  },
  {
   "cell_type": "code",
   "execution_count": 284,
   "metadata": {},
   "outputs": [
    {
     "name": "stdout",
     "output_type": "stream",
     "text": [
      "[     1.00048864594479 -0.000202473069070349     0.999511551778145  0.000202275330439837     0.000000000000000     0.000000000000000]\n",
      "[ 0.000202473069070349      1.00048864594479 -0.000202275330439837     0.999511551778145     0.000000000000000     0.000000000000000]\n",
      "[    -2.50013123046858      2.50094475988885     -2.49870062001618      2.49749115448912     0.000000000000000     0.000000000000000]\n",
      "[    -2.50094475988885     -2.50013123046858     -2.49749115448912     -2.49870062001618     0.000000000000000     0.000000000000000]\n",
      "[    -1.00000000000000     0.000000000000000     -1.00000000000000     0.000000000000000      1.00000000000000     0.000000000000000]\n",
      "[    0.000000000000000     -1.00000000000000     0.000000000000000     -1.00000000000000     0.000000000000000      1.00000000000000]\n"
     ]
    }
   ],
   "source": [
    "if test_M6:\n",
    "    k_z_sol6 = [kz == k_z_root6[0], sz ==  k_z_root6[1]]\n",
    "    M6_subs_d = M6_subs.subs(digit_values).subs(k_z_sol6)\n",
    "    print(M6_subs_d.n())"
   ]
  },
  {
   "cell_type": "raw",
   "metadata": {},
   "source": [
    "if test_M6:\n",
    "    vars6 = [A1_z_re, A1_z_im, \\\n",
    "         A2_z_re, A2_z_im, \\\n",
    "         B1_z_re, B1_z_im,\n",
    "    ]\n",
    "    # 6 variables"
   ]
  },
  {
   "cell_type": "code",
   "execution_count": 285,
   "metadata": {},
   "outputs": [],
   "source": [
    "if test_M6:\n",
    "    X6 = vector(vars6).subs(A1_z_re == 1)\n",
    "    X6"
   ]
  },
  {
   "cell_type": "code",
   "execution_count": 286,
   "metadata": {},
   "outputs": [],
   "source": [
    "if test_M6:\n",
    "    M6_subs_d_X = M6_subs_d * X6\n",
    "    #print(M6_subs_d_X)"
   ]
  },
  {
   "cell_type": "code",
   "execution_count": 287,
   "metadata": {},
   "outputs": [],
   "source": [
    "if test_M6:\n",
    "    A1_z_re_d = 1\n",
    "\n",
    "    eq_sys_M6X = []\n",
    "    for i in range(len(M6_subs_d_X)):\n",
    "        eq_sys_M6X += [M6_subs_d_X[i].subs(A1_z_re == A1_z_re_d) == 0]\n",
    "        #eq_sys_M6X += [M6_subs_d_X[i].real().subs(A1_z_re == A1_z_re_d) == 0]\n",
    "        #eq_sys_M6X += [M6_subs_d_X[i].imag().subs(A1_z_re == A1_z_re_d) == 0] "
   ]
  },
  {
   "cell_type": "code",
   "execution_count": 288,
   "metadata": {},
   "outputs": [
    {
     "name": "stdout",
     "output_type": "stream",
     "text": [
      "-1.00048864594479\n",
      "-0.000202473069070349\n",
      "2.50013123046858\n",
      "2.50094475988885\n",
      "1.00000000000000\n",
      "0.000000000000000\n",
      "[-1.00048864594479, -0.000202473069070349, 2.50013123046858, 2.50094475988885, 1.00000000000000, 0.000000000000000]\n"
     ]
    }
   ],
   "source": [
    "if test_M6:\n",
    "    M6X_B = []\n",
    "    for i in range(len(eq_sys_M6X)):\n",
    "        eq_sys_M6X_i_subs_vars_0 = eq_sys_M6X[i].subs([A1_z_im == 0, \\\n",
    "                                                       A2_z_re == 0, A2_z_im == 0, \\\n",
    "                                                       B1_z_re == 0, B1_z_im == 0, \\\n",
    "                                                      ])\n",
    "        M6X_B_i = - eq_sys_M6X_i_subs_vars_0.lhs()\n",
    "        M6X_B += [M6X_B_i.n()]\n",
    "        print (M6X_B_i.n())\n",
    "        #print (\"\")\n",
    "    print (M6X_B)"
   ]
  },
  {
   "cell_type": "code",
   "execution_count": 289,
   "metadata": {},
   "outputs": [],
   "source": [
    "if test_M6:\n",
    "    eq_sys_M6X_vars5 = [\\\n",
    "                                  A1_z_im, \\\n",
    "                         A2_z_re, A2_z_im, \\\n",
    "                         B1_z_re, B1_z_im, \\\n",
    "                        ]"
   ]
  },
  {
   "cell_type": "code",
   "execution_count": 290,
   "metadata": {},
   "outputs": [
    {
     "data": {
      "text/latex": [
       "$\\displaystyle \\left(\\begin{array}{rrrrr}\n",
       "-0.000202473069070349 & 0.999511551778145 & 0.000202275330439837 & 0.000000000000000 & 0.000000000000000 \\\\\n",
       "1.00048864594479 & -0.000202275330439837 & 0.999511551778145 & 0.000000000000000 & 0.000000000000000 \\\\\n",
       "2.50094475988885 & -2.49870062001618 & 2.49749115448912 & 0.000000000000000 & 0.000000000000000 \\\\\n",
       "-2.50013123046858 & -2.49749115448912 & -2.49870062001618 & 0.000000000000000 & 0.000000000000000 \\\\\n",
       "0.000000000000000 & -1.00000000000000 & 0.000000000000000 & 1.00000000000000 & 0.000000000000000 \\\\\n",
       "-1.00000000000000 & 0.000000000000000 & -1.00000000000000 & 0.000000000000000 & 1.00000000000000\n",
       "\\end{array}\\right)$"
      ],
      "text/plain": [
       "<IPython.core.display.Math object>"
      ]
     },
     "metadata": {},
     "output_type": "display_data"
    }
   ],
   "source": [
    "if test_M6:\n",
    "    eq_sys_M6X_M = GenerateMatrix(eq_sys_M6X, eq_sys_M6X_vars5)\n",
    "\n",
    "    display(Math(latex(eq_sys_M6X_M.n())))"
   ]
  },
  {
   "cell_type": "code",
   "execution_count": 291,
   "metadata": {},
   "outputs": [],
   "source": [
    "if test_M6:\n",
    "    if True:\n",
    "        eq_sys_M6X_M_sol = eq_sys_M6X_M.solve_right(vector(M6X_B))\n",
    "    else:\n",
    "        eq_sys_M6X_M_reduced = reduceDependedRows(eq_sys_M6X_M)\n",
    "        eq_sys_M6X_M_pivot_rows = eq_sys_M6X_M.pivot_rows()\n",
    "        M6X_B_reduced = [M6X_B [i] for i in eq_sys_M6X_M_pivot_rows]\n",
    "        eq_sys_M6X_M_sol = eq_sys_M6X_M_reduced.solve_right(vector(M6X_B_reduced))"
   ]
  },
  {
   "cell_type": "code",
   "execution_count": 292,
   "metadata": {},
   "outputs": [
    {
     "name": "stdout",
     "output_type": "stream",
     "text": [
      "-0.000404748377150099\n",
      "-1.00097765365048\n",
      "0.000000000000000\n",
      "-0.000977653650479748\n",
      "-0.000404748377150099\n"
     ]
    }
   ],
   "source": [
    "if test_M6:\n",
    "    coeffs_subs6 = [A1_z_re == A1_z_re_d]\n",
    "    for i in range(len(eq_sys_M6X_M_sol)):\n",
    "        print(eq_sys_M6X_M_sol[i].n())\n",
    "        coeffs_subs6 += [eq_sys_M6X_vars5[i] == eq_sys_M6X_M_sol[i].n()]"
   ]
  },
  {
   "cell_type": "code",
   "execution_count": 293,
   "metadata": {},
   "outputs": [
    {
     "name": "stdout",
     "output_type": "stream",
     "text": [
      "[A1_z_re == 1, A1_z_im == -0.000404748377150099, A2_z_re == -1.00097765365048, A2_z_im == 0.000000000000000, B1_z_re == -0.000977653650479748, B1_z_im == -0.000404748377150099]\n"
     ]
    }
   ],
   "source": [
    "if test_M6:\n",
    "    print (coeffs_subs6)"
   ]
  },
  {
   "cell_type": "code",
   "execution_count": null,
   "metadata": {},
   "outputs": [],
   "source": []
  },
  {
   "cell_type": "code",
   "execution_count": 294,
   "metadata": {},
   "outputs": [
    {
     "data": {
      "text/plain": [
       "[kz == 0.00109283646316112, sz == 0.0000904703634354843]"
      ]
     },
     "execution_count": 294,
     "metadata": {},
     "output_type": "execute_result"
    }
   ],
   "source": [
    "k_z_sol = [kz == k_z_root[0], sz ==  k_z_root[1]]\n",
    "k_z_sol"
   ]
  },
  {
   "cell_type": "code",
   "execution_count": 295,
   "metadata": {},
   "outputs": [],
   "source": [
    "M3_subs_d = M3_subs.subs(digit_values).subs(k_z == k_z_root[0] + I * k_z_root[1])"
   ]
  },
  {
   "cell_type": "code",
   "execution_count": 296,
   "metadata": {},
   "outputs": [
    {
     "data": {
      "text/plain": [
       "[ 1.00048864594479 + 0.000202473069070349*I 0.999511551778145 - 0.000202275330439837*I                          0.000000000000000]\n",
       "[    -2.50013123046858 - 2.50094475988885*I     -2.49870062001618 - 2.49749115448912*I                          0.000000000000000]\n",
       "[                         -1.00000000000000                          -1.00000000000000                           1.00000000000000]"
      ]
     },
     "execution_count": 296,
     "metadata": {},
     "output_type": "execute_result"
    }
   ],
   "source": [
    "M3_subs_d.n()"
   ]
  },
  {
   "cell_type": "code",
   "execution_count": 297,
   "metadata": {},
   "outputs": [
    {
     "data": {
      "text/plain": [
       "-4.44089209850063e-16"
      ]
     },
     "execution_count": 297,
     "metadata": {},
     "output_type": "execute_result"
    }
   ],
   "source": [
    "M3_subs_d.det().n()"
   ]
  },
  {
   "cell_type": "code",
   "execution_count": 298,
   "metadata": {},
   "outputs": [
    {
     "data": {
      "text/plain": [
       "(I*A1_z_im + 1, I*A2_z_im + A2_z_re, I*B1_z_im + B1_z_re)"
      ]
     },
     "execution_count": 298,
     "metadata": {},
     "output_type": "execute_result"
    }
   ],
   "source": [
    "X = vector([A1_z_re+I*A1_z_im, A2_z_re+I*A2_z_im, B1_z_re+I*B1_z_im]).subs(A1_z_re == 1)\n",
    "X"
   ]
  },
  {
   "cell_type": "code",
   "execution_count": 299,
   "metadata": {},
   "outputs": [
    {
     "data": {
      "text/latex": [
       "$\\displaystyle \\left({\\left(i \\, \\mathit{A1}_{z_{\\mathit{im}}} + 1\\right)} e^{\\left(\\frac{1}{3160} i \\, \\sqrt{\\pi^{2} - 11.8439865498043 - 1.97453880376917i}\\right)} + {\\left(i \\, \\mathit{A2}_{z_{\\mathit{im}}} + \\mathit{A2}_{z_{\\mathit{re}}}\\right)} e^{\\left(-\\frac{1}{3160} i \\, \\sqrt{\\pi^{2} - 11.8439865498043 - 1.97453880376917i}\\right)},\\,-\\frac{1}{249640} \\, {\\left(\\frac{79 \\, \\pi^{2}}{\\sqrt{\\pi^{2} - 11.8439865498043 - 1.97453880376917i}} + \\frac{\\left(316000 i + 25\\right) \\, \\pi^{2}}{\\sqrt{\\left(\\frac{100}{79} i + \\frac{5}{49928}\\right) \\, \\pi^{2} - 1.18610664855435 \\times 10^{-6} - 1.97738623995471 \\times 10^{-7}i}}\\right)} {\\left(i \\, \\mathit{A1}_{z_{\\mathit{im}}} + 1\\right)} + \\frac{1}{249640} \\, {\\left(\\frac{79 \\, \\pi^{2}}{\\sqrt{\\pi^{2} - 11.8439865498043 - 1.97453880376917i}} - \\frac{\\left(316000 i + 25\\right) \\, \\pi^{2}}{\\sqrt{\\left(\\frac{100}{79} i + \\frac{5}{49928}\\right) \\, \\pi^{2} - 1.18610664855435 \\times 10^{-6} - 1.97738623995471 \\times 10^{-7}i}}\\right)} {\\left(i \\, \\mathit{A2}_{z_{\\mathit{im}}} + \\mathit{A2}_{z_{\\mathit{re}}}\\right)},\\,-i \\, \\mathit{A1}_{z_{\\mathit{im}}} - i \\, \\mathit{A2}_{z_{\\mathit{im}}} - \\mathit{A2}_{z_{\\mathit{re}}} + i \\, \\mathit{B1}_{z_{\\mathit{im}}} + \\mathit{B1}_{z_{\\mathit{re}}} - 1\\right)$"
      ],
      "text/plain": [
       "<IPython.core.display.Math object>"
      ]
     },
     "metadata": {},
     "output_type": "display_data"
    }
   ],
   "source": [
    "M3_subs_d_X = M3_subs_d * X\n",
    "display(Math(latex(M3_subs_d_X)))"
   ]
  },
  {
   "cell_type": "code",
   "execution_count": 300,
   "metadata": {},
   "outputs": [],
   "source": [
    "A1_z_re_d = 1\n",
    "\n",
    "eq_sys_M3X = []\n",
    "for i in range(len(M3_subs_d_X)):\n",
    "    eq_sys_M3X += [M3_subs_d_X[i].real().subs(A1_z_re == A1_z_re_d) == 0]\n",
    "    eq_sys_M3X += [M3_subs_d_X[i].imag().subs(A1_z_re == A1_z_re_d) == 0]    "
   ]
  },
  {
   "cell_type": "code",
   "execution_count": 301,
   "metadata": {},
   "outputs": [
    {
     "name": "stdout",
     "output_type": "stream",
     "text": [
      "-1.00048864594479\n",
      "-0.000202473069070349\n",
      "2.50013123046858\n",
      "2.50094475988885\n",
      "1.00000000000000\n",
      "0.000000000000000\n"
     ]
    }
   ],
   "source": [
    "M3X_B = []\n",
    "for i in range(len(eq_sys_M3X)):\n",
    "    eq_sys_M3X_i_subs_vars_0 = eq_sys_M3X[i].subs([A1_z_im == 0, A2_z_re == 0, A2_z_im == 0, B1_z_re == 0, B1_z_im == 0])\n",
    "    M3X_B_i = - eq_sys_M3X_i_subs_vars_0.lhs()\n",
    "    M3X_B += [M3X_B_i.n()]\n",
    "    print (M3X_B_i.n())"
   ]
  },
  {
   "cell_type": "code",
   "execution_count": 302,
   "metadata": {},
   "outputs": [
    {
     "data": {
      "text/plain": [
       "[-1.00048864594479,\n",
       " -0.000202473069070349,\n",
       " 2.50013123046858,\n",
       " 2.50094475988885,\n",
       " 1.00000000000000,\n",
       " 0.000000000000000]"
      ]
     },
     "execution_count": 302,
     "metadata": {},
     "output_type": "execute_result"
    }
   ],
   "source": [
    "M3X_B"
   ]
  },
  {
   "cell_type": "code",
   "execution_count": 303,
   "metadata": {},
   "outputs": [],
   "source": [
    "eq_sys_M3X_vars5 = [A1_z_im, A2_z_re, A2_z_im, B1_z_re, B1_z_im]"
   ]
  },
  {
   "cell_type": "code",
   "execution_count": 304,
   "metadata": {},
   "outputs": [
    {
     "data": {
      "text/latex": [
       "$\\displaystyle \\left(\\begin{array}{rrrrr}\n",
       "-0.000202473069070349 & 0.999511551778145 & 0.000202275330439837 & 0.000000000000000 & 0.000000000000000 \\\\\n",
       "1.00048864594479 & -0.000202275330439837 & 0.999511551778145 & 0.000000000000000 & 0.000000000000000 \\\\\n",
       "2.50094475988885 & -2.49870062001618 & 2.49749115448912 & 0.000000000000000 & 0.000000000000000 \\\\\n",
       "-2.50013123046858 & -2.49749115448912 & -2.49870062001618 & 0.000000000000000 & 0.000000000000000 \\\\\n",
       "0.000000000000000 & -1.00000000000000 & 0.000000000000000 & 1.00000000000000 & 0.000000000000000 \\\\\n",
       "-1.00000000000000 & 0.000000000000000 & -1.00000000000000 & 0.000000000000000 & 1.00000000000000\n",
       "\\end{array}\\right)$"
      ],
      "text/plain": [
       "<IPython.core.display.Math object>"
      ]
     },
     "metadata": {},
     "output_type": "display_data"
    }
   ],
   "source": [
    "eq_sys_M3X_M = GenerateMatrix(eq_sys_M3X, eq_sys_M3X_vars5)\n",
    "\n",
    "display(Math(latex(eq_sys_M3X_M.n())))"
   ]
  },
  {
   "cell_type": "code",
   "execution_count": 311,
   "metadata": {},
   "outputs": [
    {
     "name": "stdout",
     "output_type": "stream",
     "text": [
      "\n",
      "M.nrows() 6\n",
      "M.ncols() 5\n",
      "M.pivot_rows() = (0, 1, 2, 4, 5)\n",
      "row = (-cosh(1/3160*sqrt(abs(pi^2 - 11.8439865498043 - 1.97453880376917*I))*sin(1/2*arctan2(-1.97453880376917, pi^2 - 11.8439865498043)))*sin(1/3160*sqrt(abs(pi^2 - 11.8439865498043 - 1.97453880376917*I))*cos(1/2*arctan2(-1.97453880376917, pi^2 - 11.8439865498043))) + sin(1/3160*sqrt(abs(pi^2 - 11.8439865498043 - 1.97453880376917*I))*cos(1/2*arctan2(-1.97453880376917, pi^2 - 11.8439865498043)))*sinh(1/3160*sqrt(abs(pi^2 - 11.8439865498043 - 1.97453880376917*I))*sin(1/2*arctan2(-1.97453880376917, pi^2 - 11.8439865498043))), cos(-1/3160*sqrt(abs(pi^2 - 11.8439865498043 - 1.97453880376917*I))*cos(1/2*arctan2(-1.97453880376917, pi^2 - 11.8439865498043)))*cosh(-1/3160*sqrt(abs(pi^2 - 11.8439865498043 - 1.97453880376917*I))*sin(1/2*arctan2(-1.97453880376917, pi^2 - 11.8439865498043))) - cos(-1/3160*sqrt(abs(pi^2 - 11.8439865498043 - 1.97453880376917*I))*cos(1/2*arctan2(-1.97453880376917, pi^2 - 11.8439865498043)))*sinh(-1/3160*sqrt(abs(pi^2 - 11.8439865498043 - 1.97453880376917*I))*sin(1/2*arctan2(-1.97453880376917, pi^2 - 11.8439865498043))), -cosh(-1/3160*sqrt(abs(pi^2 - 11.8439865498043 - 1.97453880376917*I))*sin(1/2*arctan2(-1.97453880376917, pi^2 - 11.8439865498043)))*sin(-1/3160*sqrt(abs(pi^2 - 11.8439865498043 - 1.97453880376917*I))*cos(1/2*arctan2(-1.97453880376917, pi^2 - 11.8439865498043))) + sin(-1/3160*sqrt(abs(pi^2 - 11.8439865498043 - 1.97453880376917*I))*cos(1/2*arctan2(-1.97453880376917, pi^2 - 11.8439865498043)))*sinh(-1/3160*sqrt(abs(pi^2 - 11.8439865498043 - 1.97453880376917*I))*sin(1/2*arctan2(-1.97453880376917, pi^2 - 11.8439865498043))), 0, 0)\n",
      "row = (cos(1/3160*sqrt(abs(pi^2 - 11.8439865498043 - 1.97453880376917*I))*cos(1/2*arctan2(-1.97453880376917, pi^2 - 11.8439865498043)))*cosh(1/3160*sqrt(abs(pi^2 - 11.8439865498043 - 1.97453880376917*I))*sin(1/2*arctan2(-1.97453880376917, pi^2 - 11.8439865498043))) - cos(1/3160*sqrt(abs(pi^2 - 11.8439865498043 - 1.97453880376917*I))*cos(1/2*arctan2(-1.97453880376917, pi^2 - 11.8439865498043)))*sinh(1/3160*sqrt(abs(pi^2 - 11.8439865498043 - 1.97453880376917*I))*sin(1/2*arctan2(-1.97453880376917, pi^2 - 11.8439865498043))), cosh(-1/3160*sqrt(abs(pi^2 - 11.8439865498043 - 1.97453880376917*I))*sin(1/2*arctan2(-1.97453880376917, pi^2 - 11.8439865498043)))*sin(-1/3160*sqrt(abs(pi^2 - 11.8439865498043 - 1.97453880376917*I))*cos(1/2*arctan2(-1.97453880376917, pi^2 - 11.8439865498043))) - sin(-1/3160*sqrt(abs(pi^2 - 11.8439865498043 - 1.97453880376917*I))*cos(1/2*arctan2(-1.97453880376917, pi^2 - 11.8439865498043)))*sinh(-1/3160*sqrt(abs(pi^2 - 11.8439865498043 - 1.97453880376917*I))*sin(1/2*arctan2(-1.97453880376917, pi^2 - 11.8439865498043))), cos(-1/3160*sqrt(abs(pi^2 - 11.8439865498043 - 1.97453880376917*I))*cos(1/2*arctan2(-1.97453880376917, pi^2 - 11.8439865498043)))*cosh(-1/3160*sqrt(abs(pi^2 - 11.8439865498043 - 1.97453880376917*I))*sin(1/2*arctan2(-1.97453880376917, pi^2 - 11.8439865498043))) - cos(-1/3160*sqrt(abs(pi^2 - 11.8439865498043 - 1.97453880376917*I))*cos(1/2*arctan2(-1.97453880376917, pi^2 - 11.8439865498043)))*sinh(-1/3160*sqrt(abs(pi^2 - 11.8439865498043 - 1.97453880376917*I))*sin(1/2*arctan2(-1.97453880376917, pi^2 - 11.8439865498043))), 0, 0)\n",
      "row = (100/79*pi^2*cos(-1/2*arctan2(100/79*pi^2 - 1.97738623995471e-7, 5/49928*pi^2 - 1.18610664855435e-6))/sqrt(abs((100/79*I + 5/49928)*pi^2 - 1.18610664855435e-6 - 1.97738623995471e-7*I)) + 1/3160*pi^2*sin(-1/2*arctan2(-1.97453880376917, pi^2 - 11.8439865498043))/sqrt(abs(pi^2 - 11.8439865498043 - 1.97453880376917*I)) + 5/49928*pi^2*sin(-1/2*arctan2(100/79*pi^2 - 1.97738623995471e-7, 5/49928*pi^2 - 1.18610664855435e-6))/sqrt(abs((100/79*I + 5/49928)*pi^2 - 1.18610664855435e-6 - 1.97738623995471e-7*I)), 1/3160*pi^2*cos(-1/2*arctan2(-1.97453880376917, pi^2 - 11.8439865498043))/sqrt(abs(pi^2 - 11.8439865498043 - 1.97453880376917*I)) - 5/49928*pi^2*cos(-1/2*arctan2(100/79*pi^2 - 1.97738623995471e-7, 5/49928*pi^2 - 1.18610664855435e-6))/sqrt(abs((100/79*I + 5/49928)*pi^2 - 1.18610664855435e-6 - 1.97738623995471e-7*I)) + 100/79*pi^2*sin(-1/2*arctan2(100/79*pi^2 - 1.97738623995471e-7, 5/49928*pi^2 - 1.18610664855435e-6))/sqrt(abs((100/79*I + 5/49928)*pi^2 - 1.18610664855435e-6 - 1.97738623995471e-7*I)), 100/79*pi^2*cos(-1/2*arctan2(100/79*pi^2 - 1.97738623995471e-7, 5/49928*pi^2 - 1.18610664855435e-6))/sqrt(abs((100/79*I + 5/49928)*pi^2 - 1.18610664855435e-6 - 1.97738623995471e-7*I)) - 1/3160*pi^2*sin(-1/2*arctan2(-1.97453880376917, pi^2 - 11.8439865498043))/sqrt(abs(pi^2 - 11.8439865498043 - 1.97453880376917*I)) + 5/49928*pi^2*sin(-1/2*arctan2(100/79*pi^2 - 1.97738623995471e-7, 5/49928*pi^2 - 1.18610664855435e-6))/sqrt(abs((100/79*I + 5/49928)*pi^2 - 1.18610664855435e-6 - 1.97738623995471e-7*I)), 0, 0)\n",
      "row = (-1/3160*pi^2*cos(-1/2*arctan2(-1.97453880376917, pi^2 - 11.8439865498043))/sqrt(abs(pi^2 - 11.8439865498043 - 1.97453880376917*I)) - 5/49928*pi^2*cos(-1/2*arctan2(100/79*pi^2 - 1.97738623995471e-7, 5/49928*pi^2 - 1.18610664855435e-6))/sqrt(abs((100/79*I + 5/49928)*pi^2 - 1.18610664855435e-6 - 1.97738623995471e-7*I)) + 100/79*pi^2*sin(-1/2*arctan2(100/79*pi^2 - 1.97738623995471e-7, 5/49928*pi^2 - 1.18610664855435e-6))/sqrt(abs((100/79*I + 5/49928)*pi^2 - 1.18610664855435e-6 - 1.97738623995471e-7*I)), -100/79*pi^2*cos(-1/2*arctan2(100/79*pi^2 - 1.97738623995471e-7, 5/49928*pi^2 - 1.18610664855435e-6))/sqrt(abs((100/79*I + 5/49928)*pi^2 - 1.18610664855435e-6 - 1.97738623995471e-7*I)) + 1/3160*pi^2*sin(-1/2*arctan2(-1.97453880376917, pi^2 - 11.8439865498043))/sqrt(abs(pi^2 - 11.8439865498043 - 1.97453880376917*I)) - 5/49928*pi^2*sin(-1/2*arctan2(100/79*pi^2 - 1.97738623995471e-7, 5/49928*pi^2 - 1.18610664855435e-6))/sqrt(abs((100/79*I + 5/49928)*pi^2 - 1.18610664855435e-6 - 1.97738623995471e-7*I)), 1/3160*pi^2*cos(-1/2*arctan2(-1.97453880376917, pi^2 - 11.8439865498043))/sqrt(abs(pi^2 - 11.8439865498043 - 1.97453880376917*I)) - 5/49928*pi^2*cos(-1/2*arctan2(100/79*pi^2 - 1.97738623995471e-7, 5/49928*pi^2 - 1.18610664855435e-6))/sqrt(abs((100/79*I + 5/49928)*pi^2 - 1.18610664855435e-6 - 1.97738623995471e-7*I)) + 100/79*pi^2*sin(-1/2*arctan2(100/79*pi^2 - 1.97738623995471e-7, 5/49928*pi^2 - 1.18610664855435e-6))/sqrt(abs((100/79*I + 5/49928)*pi^2 - 1.18610664855435e-6 - 1.97738623995471e-7*I)), 0, 0)\n",
      "row = (0, -1, 0, 1, 0)\n",
      "row = (-1, 0, -1, 0, 1)\n",
      "M_rows[ 0 ] =\n"
     ]
    },
    {
     "data": {
      "text/latex": [
       "$\\displaystyle \\left(-\\cosh\\left(\\frac{1}{3160} \\, \\sqrt{{\\left| \\pi^{2} - 11.8439865498043 - 1.97453880376917i \\right|}} \\sin\\left(\\frac{1}{2} \\, \\arctan\\left(-1.97453880376917, \\pi^{2} - 11.8439865498043\\right)\\right)\\right) \\sin\\left(\\frac{1}{3160} \\, \\sqrt{{\\left| \\pi^{2} - 11.8439865498043 - 1.97453880376917i \\right|}} \\cos\\left(\\frac{1}{2} \\, \\arctan\\left(-1.97453880376917, \\pi^{2} - 11.8439865498043\\right)\\right)\\right) + \\sin\\left(\\frac{1}{3160} \\, \\sqrt{{\\left| \\pi^{2} - 11.8439865498043 - 1.97453880376917i \\right|}} \\cos\\left(\\frac{1}{2} \\, \\arctan\\left(-1.97453880376917, \\pi^{2} - 11.8439865498043\\right)\\right)\\right) \\sinh\\left(\\frac{1}{3160} \\, \\sqrt{{\\left| \\pi^{2} - 11.8439865498043 - 1.97453880376917i \\right|}} \\sin\\left(\\frac{1}{2} \\, \\arctan\\left(-1.97453880376917, \\pi^{2} - 11.8439865498043\\right)\\right)\\right),\\,\\cos\\left(-\\frac{1}{3160} \\, \\sqrt{{\\left| \\pi^{2} - 11.8439865498043 - 1.97453880376917i \\right|}} \\cos\\left(\\frac{1}{2} \\, \\arctan\\left(-1.97453880376917, \\pi^{2} - 11.8439865498043\\right)\\right)\\right) \\cosh\\left(-\\frac{1}{3160} \\, \\sqrt{{\\left| \\pi^{2} - 11.8439865498043 - 1.97453880376917i \\right|}} \\sin\\left(\\frac{1}{2} \\, \\arctan\\left(-1.97453880376917, \\pi^{2} - 11.8439865498043\\right)\\right)\\right) - \\cos\\left(-\\frac{1}{3160} \\, \\sqrt{{\\left| \\pi^{2} - 11.8439865498043 - 1.97453880376917i \\right|}} \\cos\\left(\\frac{1}{2} \\, \\arctan\\left(-1.97453880376917, \\pi^{2} - 11.8439865498043\\right)\\right)\\right) \\sinh\\left(-\\frac{1}{3160} \\, \\sqrt{{\\left| \\pi^{2} - 11.8439865498043 - 1.97453880376917i \\right|}} \\sin\\left(\\frac{1}{2} \\, \\arctan\\left(-1.97453880376917, \\pi^{2} - 11.8439865498043\\right)\\right)\\right),\\,-\\cosh\\left(-\\frac{1}{3160} \\, \\sqrt{{\\left| \\pi^{2} - 11.8439865498043 - 1.97453880376917i \\right|}} \\sin\\left(\\frac{1}{2} \\, \\arctan\\left(-1.97453880376917, \\pi^{2} - 11.8439865498043\\right)\\right)\\right) \\sin\\left(-\\frac{1}{3160} \\, \\sqrt{{\\left| \\pi^{2} - 11.8439865498043 - 1.97453880376917i \\right|}} \\cos\\left(\\frac{1}{2} \\, \\arctan\\left(-1.97453880376917, \\pi^{2} - 11.8439865498043\\right)\\right)\\right) + \\sin\\left(-\\frac{1}{3160} \\, \\sqrt{{\\left| \\pi^{2} - 11.8439865498043 - 1.97453880376917i \\right|}} \\cos\\left(\\frac{1}{2} \\, \\arctan\\left(-1.97453880376917, \\pi^{2} - 11.8439865498043\\right)\\right)\\right) \\sinh\\left(-\\frac{1}{3160} \\, \\sqrt{{\\left| \\pi^{2} - 11.8439865498043 - 1.97453880376917i \\right|}} \\sin\\left(\\frac{1}{2} \\, \\arctan\\left(-1.97453880376917, \\pi^{2} - 11.8439865498043\\right)\\right)\\right),\\,0,\\,0\\right)$"
      ],
      "text/plain": [
       "<IPython.core.display.Math object>"
      ]
     },
     "metadata": {},
     "output_type": "display_data"
    },
    {
     "name": "stdout",
     "output_type": "stream",
     "text": [
      "M_rows[ 1 ] =\n"
     ]
    },
    {
     "data": {
      "text/latex": [
       "$\\displaystyle \\left(\\cos\\left(\\frac{1}{3160} \\, \\sqrt{{\\left| \\pi^{2} - 11.8439865498043 - 1.97453880376917i \\right|}} \\cos\\left(\\frac{1}{2} \\, \\arctan\\left(-1.97453880376917, \\pi^{2} - 11.8439865498043\\right)\\right)\\right) \\cosh\\left(\\frac{1}{3160} \\, \\sqrt{{\\left| \\pi^{2} - 11.8439865498043 - 1.97453880376917i \\right|}} \\sin\\left(\\frac{1}{2} \\, \\arctan\\left(-1.97453880376917, \\pi^{2} - 11.8439865498043\\right)\\right)\\right) - \\cos\\left(\\frac{1}{3160} \\, \\sqrt{{\\left| \\pi^{2} - 11.8439865498043 - 1.97453880376917i \\right|}} \\cos\\left(\\frac{1}{2} \\, \\arctan\\left(-1.97453880376917, \\pi^{2} - 11.8439865498043\\right)\\right)\\right) \\sinh\\left(\\frac{1}{3160} \\, \\sqrt{{\\left| \\pi^{2} - 11.8439865498043 - 1.97453880376917i \\right|}} \\sin\\left(\\frac{1}{2} \\, \\arctan\\left(-1.97453880376917, \\pi^{2} - 11.8439865498043\\right)\\right)\\right),\\,\\cosh\\left(-\\frac{1}{3160} \\, \\sqrt{{\\left| \\pi^{2} - 11.8439865498043 - 1.97453880376917i \\right|}} \\sin\\left(\\frac{1}{2} \\, \\arctan\\left(-1.97453880376917, \\pi^{2} - 11.8439865498043\\right)\\right)\\right) \\sin\\left(-\\frac{1}{3160} \\, \\sqrt{{\\left| \\pi^{2} - 11.8439865498043 - 1.97453880376917i \\right|}} \\cos\\left(\\frac{1}{2} \\, \\arctan\\left(-1.97453880376917, \\pi^{2} - 11.8439865498043\\right)\\right)\\right) - \\sin\\left(-\\frac{1}{3160} \\, \\sqrt{{\\left| \\pi^{2} - 11.8439865498043 - 1.97453880376917i \\right|}} \\cos\\left(\\frac{1}{2} \\, \\arctan\\left(-1.97453880376917, \\pi^{2} - 11.8439865498043\\right)\\right)\\right) \\sinh\\left(-\\frac{1}{3160} \\, \\sqrt{{\\left| \\pi^{2} - 11.8439865498043 - 1.97453880376917i \\right|}} \\sin\\left(\\frac{1}{2} \\, \\arctan\\left(-1.97453880376917, \\pi^{2} - 11.8439865498043\\right)\\right)\\right),\\,\\cos\\left(-\\frac{1}{3160} \\, \\sqrt{{\\left| \\pi^{2} - 11.8439865498043 - 1.97453880376917i \\right|}} \\cos\\left(\\frac{1}{2} \\, \\arctan\\left(-1.97453880376917, \\pi^{2} - 11.8439865498043\\right)\\right)\\right) \\cosh\\left(-\\frac{1}{3160} \\, \\sqrt{{\\left| \\pi^{2} - 11.8439865498043 - 1.97453880376917i \\right|}} \\sin\\left(\\frac{1}{2} \\, \\arctan\\left(-1.97453880376917, \\pi^{2} - 11.8439865498043\\right)\\right)\\right) - \\cos\\left(-\\frac{1}{3160} \\, \\sqrt{{\\left| \\pi^{2} - 11.8439865498043 - 1.97453880376917i \\right|}} \\cos\\left(\\frac{1}{2} \\, \\arctan\\left(-1.97453880376917, \\pi^{2} - 11.8439865498043\\right)\\right)\\right) \\sinh\\left(-\\frac{1}{3160} \\, \\sqrt{{\\left| \\pi^{2} - 11.8439865498043 - 1.97453880376917i \\right|}} \\sin\\left(\\frac{1}{2} \\, \\arctan\\left(-1.97453880376917, \\pi^{2} - 11.8439865498043\\right)\\right)\\right),\\,0,\\,0\\right)$"
      ],
      "text/plain": [
       "<IPython.core.display.Math object>"
      ]
     },
     "metadata": {},
     "output_type": "display_data"
    },
    {
     "name": "stdout",
     "output_type": "stream",
     "text": [
      "M_rows[ 2 ] =\n"
     ]
    },
    {
     "data": {
      "text/latex": [
       "$\\displaystyle \\left(\\frac{100 \\, \\pi^{2} \\cos\\left(-\\frac{1}{2} \\, \\arctan\\left(\\frac{100}{79} \\, \\pi^{2} - 1.97738623995471 \\times 10^{-7}, \\frac{5}{49928} \\, \\pi^{2} - 1.18610664855435 \\times 10^{-6}\\right)\\right)}{79 \\, \\sqrt{{\\left| \\left(\\frac{100}{79} i + \\frac{5}{49928}\\right) \\, \\pi^{2} - 1.18610664855435 \\times 10^{-6} - 1.97738623995471 \\times 10^{-7}i \\right|}}} + \\frac{\\pi^{2} \\sin\\left(-\\frac{1}{2} \\, \\arctan\\left(-1.97453880376917, \\pi^{2} - 11.8439865498043\\right)\\right)}{3160 \\, \\sqrt{{\\left| \\pi^{2} - 11.8439865498043 - 1.97453880376917i \\right|}}} + \\frac{5 \\, \\pi^{2} \\sin\\left(-\\frac{1}{2} \\, \\arctan\\left(\\frac{100}{79} \\, \\pi^{2} - 1.97738623995471 \\times 10^{-7}, \\frac{5}{49928} \\, \\pi^{2} - 1.18610664855435 \\times 10^{-6}\\right)\\right)}{49928 \\, \\sqrt{{\\left| \\left(\\frac{100}{79} i + \\frac{5}{49928}\\right) \\, \\pi^{2} - 1.18610664855435 \\times 10^{-6} - 1.97738623995471 \\times 10^{-7}i \\right|}}},\\,\\frac{\\pi^{2} \\cos\\left(-\\frac{1}{2} \\, \\arctan\\left(-1.97453880376917, \\pi^{2} - 11.8439865498043\\right)\\right)}{3160 \\, \\sqrt{{\\left| \\pi^{2} - 11.8439865498043 - 1.97453880376917i \\right|}}} - \\frac{5 \\, \\pi^{2} \\cos\\left(-\\frac{1}{2} \\, \\arctan\\left(\\frac{100}{79} \\, \\pi^{2} - 1.97738623995471 \\times 10^{-7}, \\frac{5}{49928} \\, \\pi^{2} - 1.18610664855435 \\times 10^{-6}\\right)\\right)}{49928 \\, \\sqrt{{\\left| \\left(\\frac{100}{79} i + \\frac{5}{49928}\\right) \\, \\pi^{2} - 1.18610664855435 \\times 10^{-6} - 1.97738623995471 \\times 10^{-7}i \\right|}}} + \\frac{100 \\, \\pi^{2} \\sin\\left(-\\frac{1}{2} \\, \\arctan\\left(\\frac{100}{79} \\, \\pi^{2} - 1.97738623995471 \\times 10^{-7}, \\frac{5}{49928} \\, \\pi^{2} - 1.18610664855435 \\times 10^{-6}\\right)\\right)}{79 \\, \\sqrt{{\\left| \\left(\\frac{100}{79} i + \\frac{5}{49928}\\right) \\, \\pi^{2} - 1.18610664855435 \\times 10^{-6} - 1.97738623995471 \\times 10^{-7}i \\right|}}},\\,\\frac{100 \\, \\pi^{2} \\cos\\left(-\\frac{1}{2} \\, \\arctan\\left(\\frac{100}{79} \\, \\pi^{2} - 1.97738623995471 \\times 10^{-7}, \\frac{5}{49928} \\, \\pi^{2} - 1.18610664855435 \\times 10^{-6}\\right)\\right)}{79 \\, \\sqrt{{\\left| \\left(\\frac{100}{79} i + \\frac{5}{49928}\\right) \\, \\pi^{2} - 1.18610664855435 \\times 10^{-6} - 1.97738623995471 \\times 10^{-7}i \\right|}}} - \\frac{\\pi^{2} \\sin\\left(-\\frac{1}{2} \\, \\arctan\\left(-1.97453880376917, \\pi^{2} - 11.8439865498043\\right)\\right)}{3160 \\, \\sqrt{{\\left| \\pi^{2} - 11.8439865498043 - 1.97453880376917i \\right|}}} + \\frac{5 \\, \\pi^{2} \\sin\\left(-\\frac{1}{2} \\, \\arctan\\left(\\frac{100}{79} \\, \\pi^{2} - 1.97738623995471 \\times 10^{-7}, \\frac{5}{49928} \\, \\pi^{2} - 1.18610664855435 \\times 10^{-6}\\right)\\right)}{49928 \\, \\sqrt{{\\left| \\left(\\frac{100}{79} i + \\frac{5}{49928}\\right) \\, \\pi^{2} - 1.18610664855435 \\times 10^{-6} - 1.97738623995471 \\times 10^{-7}i \\right|}}},\\,0,\\,0\\right)$"
      ],
      "text/plain": [
       "<IPython.core.display.Math object>"
      ]
     },
     "metadata": {},
     "output_type": "display_data"
    },
    {
     "name": "stdout",
     "output_type": "stream",
     "text": [
      "M_rows[ 4 ] =\n"
     ]
    },
    {
     "data": {
      "text/latex": [
       "$\\displaystyle \\left(0,\\,-1,\\,0,\\,1,\\,0\\right)$"
      ],
      "text/plain": [
       "<IPython.core.display.Math object>"
      ]
     },
     "metadata": {},
     "output_type": "display_data"
    },
    {
     "name": "stdout",
     "output_type": "stream",
     "text": [
      "M_rows[ 5 ] =\n"
     ]
    },
    {
     "data": {
      "text/latex": [
       "$\\displaystyle \\left(-1,\\,0,\\,-1,\\,0,\\,1\\right)$"
      ],
      "text/plain": [
       "<IPython.core.display.Math object>"
      ]
     },
     "metadata": {},
     "output_type": "display_data"
    },
    {
     "name": "stdout",
     "output_type": "stream",
     "text": [
      "reduced_M.nrows() 5\n",
      "reduced_M.ncols() 5\n"
     ]
    }
   ],
   "source": [
    "#if not fix_c_epsilon_complex:\n",
    "if False:\n",
    "    eq_sys_M3X_M_sol = eq_sys_M3X_M.solve_right(vector(M3X_B))\n",
    "else:\n",
    "    eq_sys_M3X_M_reduced = reduceDependedRows(eq_sys_M3X_M)\n",
    "    eq_sys_M3X_M_pivot_rows = eq_sys_M3X_M.pivot_rows()\n",
    "    M3X_B_reduced = [M3X_B [i] for i in eq_sys_M3X_M_pivot_rows]\n",
    "    eq_sys_M3X_M_sol = eq_sys_M3X_M_reduced.solve_right(vector(M3X_B_reduced))"
   ]
  },
  {
   "cell_type": "code",
   "execution_count": 312,
   "metadata": {},
   "outputs": [
    {
     "name": "stdout",
     "output_type": "stream",
     "text": [
      "((79*pi^2*cos(-1/2*arctan2(-1.97453880376917, pi^2 - 11.8439865498043))/sqrt(abs(pi^2 - 11.8439865498043 - 1.97453880376917*I)) - 25*pi^2*cos(-1/2*arctan2(100/79*pi^2 - 1.97738623995471e-7, 5/49928*pi^2 - 1.18610664855435e-6))/sqrt(abs((100/79*I + 5/49928)*pi^2 - 1.18610664855435e-6 - 1.97738623995471e-7*I)) + 316000*pi^2*sin(-1/2*arctan2(100/79*pi^2 - 1.97738623995471e-7, 5/49928*pi^2 - 1.18610664855435e-6))/sqrt(abs((100/79*I + 5/49928)*pi^2 - 1.18610664855435e-6 - 1.97738623995471e-7*I)) + (316000*pi^2*cos(-1/2*arctan2(100/79*pi^2 - 1.97738623995471e-7, 5/49928*pi^2 - 1.18610664855435e-6))/sqrt(abs((100/79*I + 5/49928)*pi^2 - 1.18610664855435e-6 - 1.97738623995471e-7*I)) + 79*pi^2*sin(-1/2*arctan2(-1.97453880376917, pi^2 - 11.8439865498043))/sqrt(abs(pi^2 - 11.8439865498043 - 1.97453880376917*I)) + 25*pi^2*sin(-1/2*arctan2(100/79*pi^2 - 1.97738623995471e-7, 5/49928*pi^2 - 1.18610664855435e-6))/sqrt(abs((100/79*I + 5/49928)*pi^2 - 1.18610664855435e-6 - 1.97738623995471e-7*I)))*(cos(-1/3160*sqrt(abs(pi^2 - 11.8439865498043 - 1.97453880376917*I))*cos(1/2*arctan2(-1.97453880376917, pi^2 - 11.8439865498043)))*cosh(-1/3160*sqrt(abs(pi^2 - 11.8439865498043 - 1.97453880376917*I))*sin(1/2*arctan2(-1.97453880376917, pi^2 - 11.8439865498043))) - cos(-1/3160*sqrt(abs(pi^2 - 11.8439865498043 - 1.97453880376917*I))*cos(1/2*arctan2(-1.97453880376917, pi^2 - 11.8439865498043)))*sinh(-1/3160*sqrt(abs(pi^2 - 11.8439865498043 - 1.97453880376917*I))*sin(1/2*arctan2(-1.97453880376917, pi^2 - 11.8439865498043))))/(cosh(1/3160*sqrt(abs(pi^2 - 11.8439865498043 - 1.97453880376917*I))*sin(1/2*arctan2(-1.97453880376917, pi^2 - 11.8439865498043)))*sin(1/3160*sqrt(abs(pi^2 - 11.8439865498043 - 1.97453880376917*I))*cos(1/2*arctan2(-1.97453880376917, pi^2 - 11.8439865498043))) - sin(1/3160*sqrt(abs(pi^2 - 11.8439865498043 - 1.97453880376917*I))*cos(1/2*arctan2(-1.97453880376917, pi^2 - 11.8439865498043)))*sinh(1/3160*sqrt(abs(pi^2 - 11.8439865498043 - 1.97453880376917*I))*sin(1/2*arctan2(-1.97453880376917, pi^2 - 11.8439865498043)))))*(-1.00048864594479*(cos(1/3160*sqrt(abs(pi^2 - 11.8439865498043 - 1.97453880376917*I))*cos(1/2*arctan2(-1.97453880376917, pi^2 - 11.8439865498043)))*cosh(1/3160*sqrt(abs(pi^2 - 11.8439865498043 - 1.97453880376917*I))*sin(1/2*arctan2(-1.97453880376917, pi^2 - 11.8439865498043))) - cos(1/3160*sqrt(abs(pi^2 - 11.8439865498043 - 1.97453880376917*I))*cos(1/2*arctan2(-1.97453880376917, pi^2 - 11.8439865498043)))*sinh(1/3160*sqrt(abs(pi^2 - 11.8439865498043 - 1.97453880376917*I))*sin(1/2*arctan2(-1.97453880376917, pi^2 - 11.8439865498043))))/(cosh(1/3160*sqrt(abs(pi^2 - 11.8439865498043 - 1.97453880376917*I))*sin(1/2*arctan2(-1.97453880376917, pi^2 - 11.8439865498043)))*sin(1/3160*sqrt(abs(pi^2 - 11.8439865498043 - 1.97453880376917*I))*cos(1/2*arctan2(-1.97453880376917, pi^2 - 11.8439865498043))) - sin(1/3160*sqrt(abs(pi^2 - 11.8439865498043 - 1.97453880376917*I))*cos(1/2*arctan2(-1.97453880376917, pi^2 - 11.8439865498043)))*sinh(1/3160*sqrt(abs(pi^2 - 11.8439865498043 - 1.97453880376917*I))*sin(1/2*arctan2(-1.97453880376917, pi^2 - 11.8439865498043)))) - 0.000202473069070349)/(cosh(-1/3160*sqrt(abs(pi^2 - 11.8439865498043 - 1.97453880376917*I))*sin(1/2*arctan2(-1.97453880376917, pi^2 - 11.8439865498043)))*sin(-1/3160*sqrt(abs(pi^2 - 11.8439865498043 - 1.97453880376917*I))*cos(1/2*arctan2(-1.97453880376917, pi^2 - 11.8439865498043))) - sin(-1/3160*sqrt(abs(pi^2 - 11.8439865498043 - 1.97453880376917*I))*cos(1/2*arctan2(-1.97453880376917, pi^2 - 11.8439865498043)))*sinh(-1/3160*sqrt(abs(pi^2 - 11.8439865498043 - 1.97453880376917*I))*sin(1/2*arctan2(-1.97453880376917, pi^2 - 11.8439865498043))) + (cos(1/3160*sqrt(abs(pi^2 - 11.8439865498043 - 1.97453880376917*I))*cos(1/2*arctan2(-1.97453880376917, pi^2 - 11.8439865498043)))*cosh(1/3160*sqrt(abs(pi^2 - 11.8439865498043 - 1.97453880376917*I))*sin(1/2*arctan2(-1.97453880376917, pi^2 - 11.8439865498043))) - cos(1/3160*sqrt(abs(pi^2 - 11.8439865498043 - 1.97453880376917*I))*cos(1/2*arctan2(-1.97453880376917, pi^2 - 11.8439865498043)))*sinh(1/3160*sqrt(abs(pi^2 - 11.8439865498043 - 1.97453880376917*I))*sin(1/2*arctan2(-1.97453880376917, pi^2 - 11.8439865498043))))*(cos(-1/3160*sqrt(abs(pi^2 - 11.8439865498043 - 1.97453880376917*I))*cos(1/2*arctan2(-1.97453880376917, pi^2 - 11.8439865498043)))*cosh(-1/3160*sqrt(abs(pi^2 - 11.8439865498043 - 1.97453880376917*I))*sin(1/2*arctan2(-1.97453880376917, pi^2 - 11.8439865498043))) - cos(-1/3160*sqrt(abs(pi^2 - 11.8439865498043 - 1.97453880376917*I))*cos(1/2*arctan2(-1.97453880376917, pi^2 - 11.8439865498043)))*sinh(-1/3160*sqrt(abs(pi^2 - 11.8439865498043 - 1.97453880376917*I))*sin(1/2*arctan2(-1.97453880376917, pi^2 - 11.8439865498043))))/(cosh(1/3160*sqrt(abs(pi^2 - 11.8439865498043 - 1.97453880376917*I))*sin(1/2*arctan2(-1.97453880376917, pi^2 - 11.8439865498043)))*sin(1/3160*sqrt(abs(pi^2 - 11.8439865498043 - 1.97453880376917*I))*cos(1/2*arctan2(-1.97453880376917, pi^2 - 11.8439865498043))) - sin(1/3160*sqrt(abs(pi^2 - 11.8439865498043 - 1.97453880376917*I))*cos(1/2*arctan2(-1.97453880376917, pi^2 - 11.8439865498043)))*sinh(1/3160*sqrt(abs(pi^2 - 11.8439865498043 - 1.97453880376917*I))*sin(1/2*arctan2(-1.97453880376917, pi^2 - 11.8439865498043))))) + 1.00048864594479*(316000*pi^2*cos(-1/2*arctan2(100/79*pi^2 - 1.97738623995471e-7, 5/49928*pi^2 - 1.18610664855435e-6))/sqrt(abs((100/79*I + 5/49928)*pi^2 - 1.18610664855435e-6 - 1.97738623995471e-7*I)) + 79*pi^2*sin(-1/2*arctan2(-1.97453880376917, pi^2 - 11.8439865498043))/sqrt(abs(pi^2 - 11.8439865498043 - 1.97453880376917*I)) + 25*pi^2*sin(-1/2*arctan2(100/79*pi^2 - 1.97738623995471e-7, 5/49928*pi^2 - 1.18610664855435e-6))/sqrt(abs((100/79*I + 5/49928)*pi^2 - 1.18610664855435e-6 - 1.97738623995471e-7*I)))/(cosh(1/3160*sqrt(abs(pi^2 - 11.8439865498043 - 1.97453880376917*I))*sin(1/2*arctan2(-1.97453880376917, pi^2 - 11.8439865498043)))*sin(1/3160*sqrt(abs(pi^2 - 11.8439865498043 - 1.97453880376917*I))*cos(1/2*arctan2(-1.97453880376917, pi^2 - 11.8439865498043))) - sin(1/3160*sqrt(abs(pi^2 - 11.8439865498043 - 1.97453880376917*I))*cos(1/2*arctan2(-1.97453880376917, pi^2 - 11.8439865498043)))*sinh(1/3160*sqrt(abs(pi^2 - 11.8439865498043 - 1.97453880376917*I))*sin(1/2*arctan2(-1.97453880376917, pi^2 - 11.8439865498043)))) - 624132.760374176)*((cos(-1/3160*sqrt(abs(pi^2 - 11.8439865498043 - 1.97453880376917*I))*cos(1/2*arctan2(-1.97453880376917, pi^2 - 11.8439865498043)))*cosh(-1/3160*sqrt(abs(pi^2 - 11.8439865498043 - 1.97453880376917*I))*sin(1/2*arctan2(-1.97453880376917, pi^2 - 11.8439865498043))) - cos(-1/3160*sqrt(abs(pi^2 - 11.8439865498043 - 1.97453880376917*I))*cos(1/2*arctan2(-1.97453880376917, pi^2 - 11.8439865498043)))*sinh(-1/3160*sqrt(abs(pi^2 - 11.8439865498043 - 1.97453880376917*I))*sin(1/2*arctan2(-1.97453880376917, pi^2 - 11.8439865498043))) - (cos(1/3160*sqrt(abs(pi^2 - 11.8439865498043 - 1.97453880376917*I))*cos(1/2*arctan2(-1.97453880376917, pi^2 - 11.8439865498043)))*cosh(1/3160*sqrt(abs(pi^2 - 11.8439865498043 - 1.97453880376917*I))*sin(1/2*arctan2(-1.97453880376917, pi^2 - 11.8439865498043))) - cos(1/3160*sqrt(abs(pi^2 - 11.8439865498043 - 1.97453880376917*I))*cos(1/2*arctan2(-1.97453880376917, pi^2 - 11.8439865498043)))*sinh(1/3160*sqrt(abs(pi^2 - 11.8439865498043 - 1.97453880376917*I))*sin(1/2*arctan2(-1.97453880376917, pi^2 - 11.8439865498043))))*(cosh(-1/3160*sqrt(abs(pi^2 - 11.8439865498043 - 1.97453880376917*I))*sin(1/2*arctan2(-1.97453880376917, pi^2 - 11.8439865498043)))*sin(-1/3160*sqrt(abs(pi^2 - 11.8439865498043 - 1.97453880376917*I))*cos(1/2*arctan2(-1.97453880376917, pi^2 - 11.8439865498043))) - sin(-1/3160*sqrt(abs(pi^2 - 11.8439865498043 - 1.97453880376917*I))*cos(1/2*arctan2(-1.97453880376917, pi^2 - 11.8439865498043)))*sinh(-1/3160*sqrt(abs(pi^2 - 11.8439865498043 - 1.97453880376917*I))*sin(1/2*arctan2(-1.97453880376917, pi^2 - 11.8439865498043))))/(cosh(1/3160*sqrt(abs(pi^2 - 11.8439865498043 - 1.97453880376917*I))*sin(1/2*arctan2(-1.97453880376917, pi^2 - 11.8439865498043)))*sin(1/3160*sqrt(abs(pi^2 - 11.8439865498043 - 1.97453880376917*I))*cos(1/2*arctan2(-1.97453880376917, pi^2 - 11.8439865498043))) - sin(1/3160*sqrt(abs(pi^2 - 11.8439865498043 - 1.97453880376917*I))*cos(1/2*arctan2(-1.97453880376917, pi^2 - 11.8439865498043)))*sinh(1/3160*sqrt(abs(pi^2 - 11.8439865498043 - 1.97453880376917*I))*sin(1/2*arctan2(-1.97453880376917, pi^2 - 11.8439865498043)))))*(cos(-1/3160*sqrt(abs(pi^2 - 11.8439865498043 - 1.97453880376917*I))*cos(1/2*arctan2(-1.97453880376917, pi^2 - 11.8439865498043)))*cosh(-1/3160*sqrt(abs(pi^2 - 11.8439865498043 - 1.97453880376917*I))*sin(1/2*arctan2(-1.97453880376917, pi^2 - 11.8439865498043))) - cos(-1/3160*sqrt(abs(pi^2 - 11.8439865498043 - 1.97453880376917*I))*cos(1/2*arctan2(-1.97453880376917, pi^2 - 11.8439865498043)))*sinh(-1/3160*sqrt(abs(pi^2 - 11.8439865498043 - 1.97453880376917*I))*sin(1/2*arctan2(-1.97453880376917, pi^2 - 11.8439865498043))))/((cosh(1/3160*sqrt(abs(pi^2 - 11.8439865498043 - 1.97453880376917*I))*sin(1/2*arctan2(-1.97453880376917, pi^2 - 11.8439865498043)))*sin(1/3160*sqrt(abs(pi^2 - 11.8439865498043 - 1.97453880376917*I))*cos(1/2*arctan2(-1.97453880376917, pi^2 - 11.8439865498043))) - sin(1/3160*sqrt(abs(pi^2 - 11.8439865498043 - 1.97453880376917*I))*cos(1/2*arctan2(-1.97453880376917, pi^2 - 11.8439865498043)))*sinh(1/3160*sqrt(abs(pi^2 - 11.8439865498043 - 1.97453880376917*I))*sin(1/2*arctan2(-1.97453880376917, pi^2 - 11.8439865498043))))*(cosh(-1/3160*sqrt(abs(pi^2 - 11.8439865498043 - 1.97453880376917*I))*sin(1/2*arctan2(-1.97453880376917, pi^2 - 11.8439865498043)))*sin(-1/3160*sqrt(abs(pi^2 - 11.8439865498043 - 1.97453880376917*I))*cos(1/2*arctan2(-1.97453880376917, pi^2 - 11.8439865498043))) - sin(-1/3160*sqrt(abs(pi^2 - 11.8439865498043 - 1.97453880376917*I))*cos(1/2*arctan2(-1.97453880376917, pi^2 - 11.8439865498043)))*sinh(-1/3160*sqrt(abs(pi^2 - 11.8439865498043 - 1.97453880376917*I))*sin(1/2*arctan2(-1.97453880376917, pi^2 - 11.8439865498043))) + (cos(1/3160*sqrt(abs(pi^2 - 11.8439865498043 - 1.97453880376917*I))*cos(1/2*arctan2(-1.97453880376917, pi^2 - 11.8439865498043)))*cosh(1/3160*sqrt(abs(pi^2 - 11.8439865498043 - 1.97453880376917*I))*sin(1/2*arctan2(-1.97453880376917, pi^2 - 11.8439865498043))) - cos(1/3160*sqrt(abs(pi^2 - 11.8439865498043 - 1.97453880376917*I))*cos(1/2*arctan2(-1.97453880376917, pi^2 - 11.8439865498043)))*sinh(1/3160*sqrt(abs(pi^2 - 11.8439865498043 - 1.97453880376917*I))*sin(1/2*arctan2(-1.97453880376917, pi^2 - 11.8439865498043))))*(cos(-1/3160*sqrt(abs(pi^2 - 11.8439865498043 - 1.97453880376917*I))*cos(1/2*arctan2(-1.97453880376917, pi^2 - 11.8439865498043)))*cosh(-1/3160*sqrt(abs(pi^2 - 11.8439865498043 - 1.97453880376917*I))*sin(1/2*arctan2(-1.97453880376917, pi^2 - 11.8439865498043))) - cos(-1/3160*sqrt(abs(pi^2 - 11.8439865498043 - 1.97453880376917*I))*cos(1/2*arctan2(-1.97453880376917, pi^2 - 11.8439865498043)))*sinh(-1/3160*sqrt(abs(pi^2 - 11.8439865498043 - 1.97453880376917*I))*sin(1/2*arctan2(-1.97453880376917, pi^2 - 11.8439865498043))))/(cosh(1/3160*sqrt(abs(pi^2 - 11.8439865498043 - 1.97453880376917*I))*sin(1/2*arctan2(-1.97453880376917, pi^2 - 11.8439865498043)))*sin(1/3160*sqrt(abs(pi^2 - 11.8439865498043 - 1.97453880376917*I))*cos(1/2*arctan2(-1.97453880376917, pi^2 - 11.8439865498043))) - sin(1/3160*sqrt(abs(pi^2 - 11.8439865498043 - 1.97453880376917*I))*cos(1/2*arctan2(-1.97453880376917, pi^2 - 11.8439865498043)))*sinh(1/3160*sqrt(abs(pi^2 - 11.8439865498043 - 1.97453880376917*I))*sin(1/2*arctan2(-1.97453880376917, pi^2 - 11.8439865498043)))))) + (cosh(-1/3160*sqrt(abs(pi^2 - 11.8439865498043 - 1.97453880376917*I))*sin(1/2*arctan2(-1.97453880376917, pi^2 - 11.8439865498043)))*sin(-1/3160*sqrt(abs(pi^2 - 11.8439865498043 - 1.97453880376917*I))*cos(1/2*arctan2(-1.97453880376917, pi^2 - 11.8439865498043))) - sin(-1/3160*sqrt(abs(pi^2 - 11.8439865498043 - 1.97453880376917*I))*cos(1/2*arctan2(-1.97453880376917, pi^2 - 11.8439865498043)))*sinh(-1/3160*sqrt(abs(pi^2 - 11.8439865498043 - 1.97453880376917*I))*sin(1/2*arctan2(-1.97453880376917, pi^2 - 11.8439865498043))))/(cosh(1/3160*sqrt(abs(pi^2 - 11.8439865498043 - 1.97453880376917*I))*sin(1/2*arctan2(-1.97453880376917, pi^2 - 11.8439865498043)))*sin(1/3160*sqrt(abs(pi^2 - 11.8439865498043 - 1.97453880376917*I))*cos(1/2*arctan2(-1.97453880376917, pi^2 - 11.8439865498043))) - sin(1/3160*sqrt(abs(pi^2 - 11.8439865498043 - 1.97453880376917*I))*cos(1/2*arctan2(-1.97453880376917, pi^2 - 11.8439865498043)))*sinh(1/3160*sqrt(abs(pi^2 - 11.8439865498043 - 1.97453880376917*I))*sin(1/2*arctan2(-1.97453880376917, pi^2 - 11.8439865498043)))))/(316000*pi^2*cos(-1/2*arctan2(100/79*pi^2 - 1.97738623995471e-7, 5/49928*pi^2 - 1.18610664855435e-6))/sqrt(abs((100/79*I + 5/49928)*pi^2 - 1.18610664855435e-6 - 1.97738623995471e-7*I)) - 79*pi^2*sin(-1/2*arctan2(-1.97453880376917, pi^2 - 11.8439865498043))/sqrt(abs(pi^2 - 11.8439865498043 - 1.97453880376917*I)) + 25*pi^2*sin(-1/2*arctan2(100/79*pi^2 - 1.97738623995471e-7, 5/49928*pi^2 - 1.18610664855435e-6))/sqrt(abs((100/79*I + 5/49928)*pi^2 - 1.18610664855435e-6 - 1.97738623995471e-7*I)) - (79*pi^2*cos(-1/2*arctan2(-1.97453880376917, pi^2 - 11.8439865498043))/sqrt(abs(pi^2 - 11.8439865498043 - 1.97453880376917*I)) - 25*pi^2*cos(-1/2*arctan2(100/79*pi^2 - 1.97738623995471e-7, 5/49928*pi^2 - 1.18610664855435e-6))/sqrt(abs((100/79*I + 5/49928)*pi^2 - 1.18610664855435e-6 - 1.97738623995471e-7*I)) + 316000*pi^2*sin(-1/2*arctan2(100/79*pi^2 - 1.97738623995471e-7, 5/49928*pi^2 - 1.18610664855435e-6))/sqrt(abs((100/79*I + 5/49928)*pi^2 - 1.18610664855435e-6 - 1.97738623995471e-7*I)) + (316000*pi^2*cos(-1/2*arctan2(100/79*pi^2 - 1.97738623995471e-7, 5/49928*pi^2 - 1.18610664855435e-6))/sqrt(abs((100/79*I + 5/49928)*pi^2 - 1.18610664855435e-6 - 1.97738623995471e-7*I)) + 79*pi^2*sin(-1/2*arctan2(-1.97453880376917, pi^2 - 11.8439865498043))/sqrt(abs(pi^2 - 11.8439865498043 - 1.97453880376917*I)) + 25*pi^2*sin(-1/2*arctan2(100/79*pi^2 - 1.97738623995471e-7, 5/49928*pi^2 - 1.18610664855435e-6))/sqrt(abs((100/79*I + 5/49928)*pi^2 - 1.18610664855435e-6 - 1.97738623995471e-7*I)))*(cos(-1/3160*sqrt(abs(pi^2 - 11.8439865498043 - 1.97453880376917*I))*cos(1/2*arctan2(-1.97453880376917, pi^2 - 11.8439865498043)))*cosh(-1/3160*sqrt(abs(pi^2 - 11.8439865498043 - 1.97453880376917*I))*sin(1/2*arctan2(-1.97453880376917, pi^2 - 11.8439865498043))) - cos(-1/3160*sqrt(abs(pi^2 - 11.8439865498043 - 1.97453880376917*I))*cos(1/2*arctan2(-1.97453880376917, pi^2 - 11.8439865498043)))*sinh(-1/3160*sqrt(abs(pi^2 - 11.8439865498043 - 1.97453880376917*I))*sin(1/2*arctan2(-1.97453880376917, pi^2 - 11.8439865498043))))/(cosh(1/3160*sqrt(abs(pi^2 - 11.8439865498043 - 1.97453880376917*I))*sin(1/2*arctan2(-1.97453880376917, pi^2 - 11.8439865498043)))*sin(1/3160*sqrt(abs(pi^2 - 11.8439865498043 - 1.97453880376917*I))*cos(1/2*arctan2(-1.97453880376917, pi^2 - 11.8439865498043))) - sin(1/3160*sqrt(abs(pi^2 - 11.8439865498043 - 1.97453880376917*I))*cos(1/2*arctan2(-1.97453880376917, pi^2 - 11.8439865498043)))*sinh(1/3160*sqrt(abs(pi^2 - 11.8439865498043 - 1.97453880376917*I))*sin(1/2*arctan2(-1.97453880376917, pi^2 - 11.8439865498043)))))*(cos(-1/3160*sqrt(abs(pi^2 - 11.8439865498043 - 1.97453880376917*I))*cos(1/2*arctan2(-1.97453880376917, pi^2 - 11.8439865498043)))*cosh(-1/3160*sqrt(abs(pi^2 - 11.8439865498043 - 1.97453880376917*I))*sin(1/2*arctan2(-1.97453880376917, pi^2 - 11.8439865498043))) - cos(-1/3160*sqrt(abs(pi^2 - 11.8439865498043 - 1.97453880376917*I))*cos(1/2*arctan2(-1.97453880376917, pi^2 - 11.8439865498043)))*sinh(-1/3160*sqrt(abs(pi^2 - 11.8439865498043 - 1.97453880376917*I))*sin(1/2*arctan2(-1.97453880376917, pi^2 - 11.8439865498043))) - (cos(1/3160*sqrt(abs(pi^2 - 11.8439865498043 - 1.97453880376917*I))*cos(1/2*arctan2(-1.97453880376917, pi^2 - 11.8439865498043)))*cosh(1/3160*sqrt(abs(pi^2 - 11.8439865498043 - 1.97453880376917*I))*sin(1/2*arctan2(-1.97453880376917, pi^2 - 11.8439865498043))) - cos(1/3160*sqrt(abs(pi^2 - 11.8439865498043 - 1.97453880376917*I))*cos(1/2*arctan2(-1.97453880376917, pi^2 - 11.8439865498043)))*sinh(1/3160*sqrt(abs(pi^2 - 11.8439865498043 - 1.97453880376917*I))*sin(1/2*arctan2(-1.97453880376917, pi^2 - 11.8439865498043))))*(cosh(-1/3160*sqrt(abs(pi^2 - 11.8439865498043 - 1.97453880376917*I))*sin(1/2*arctan2(-1.97453880376917, pi^2 - 11.8439865498043)))*sin(-1/3160*sqrt(abs(pi^2 - 11.8439865498043 - 1.97453880376917*I))*cos(1/2*arctan2(-1.97453880376917, pi^2 - 11.8439865498043))) - sin(-1/3160*sqrt(abs(pi^2 - 11.8439865498043 - 1.97453880376917*I))*cos(1/2*arctan2(-1.97453880376917, pi^2 - 11.8439865498043)))*sinh(-1/3160*sqrt(abs(pi^2 - 11.8439865498043 - 1.97453880376917*I))*sin(1/2*arctan2(-1.97453880376917, pi^2 - 11.8439865498043))))/(cosh(1/3160*sqrt(abs(pi^2 - 11.8439865498043 - 1.97453880376917*I))*sin(1/2*arctan2(-1.97453880376917, pi^2 - 11.8439865498043)))*sin(1/3160*sqrt(abs(pi^2 - 11.8439865498043 - 1.97453880376917*I))*cos(1/2*arctan2(-1.97453880376917, pi^2 - 11.8439865498043))) - sin(1/3160*sqrt(abs(pi^2 - 11.8439865498043 - 1.97453880376917*I))*cos(1/2*arctan2(-1.97453880376917, pi^2 - 11.8439865498043)))*sinh(1/3160*sqrt(abs(pi^2 - 11.8439865498043 - 1.97453880376917*I))*sin(1/2*arctan2(-1.97453880376917, pi^2 - 11.8439865498043)))))/(cosh(-1/3160*sqrt(abs(pi^2 - 11.8439865498043 - 1.97453880376917*I))*sin(1/2*arctan2(-1.97453880376917, pi^2 - 11.8439865498043)))*sin(-1/3160*sqrt(abs(pi^2 - 11.8439865498043 - 1.97453880376917*I))*cos(1/2*arctan2(-1.97453880376917, pi^2 - 11.8439865498043))) - sin(-1/3160*sqrt(abs(pi^2 - 11.8439865498043 - 1.97453880376917*I))*cos(1/2*arctan2(-1.97453880376917, pi^2 - 11.8439865498043)))*sinh(-1/3160*sqrt(abs(pi^2 - 11.8439865498043 - 1.97453880376917*I))*sin(1/2*arctan2(-1.97453880376917, pi^2 - 11.8439865498043))) + (cos(1/3160*sqrt(abs(pi^2 - 11.8439865498043 - 1.97453880376917*I))*cos(1/2*arctan2(-1.97453880376917, pi^2 - 11.8439865498043)))*cosh(1/3160*sqrt(abs(pi^2 - 11.8439865498043 - 1.97453880376917*I))*sin(1/2*arctan2(-1.97453880376917, pi^2 - 11.8439865498043))) - cos(1/3160*sqrt(abs(pi^2 - 11.8439865498043 - 1.97453880376917*I))*cos(1/2*arctan2(-1.97453880376917, pi^2 - 11.8439865498043)))*sinh(1/3160*sqrt(abs(pi^2 - 11.8439865498043 - 1.97453880376917*I))*sin(1/2*arctan2(-1.97453880376917, pi^2 - 11.8439865498043))))*(cos(-1/3160*sqrt(abs(pi^2 - 11.8439865498043 - 1.97453880376917*I))*cos(1/2*arctan2(-1.97453880376917, pi^2 - 11.8439865498043)))*cosh(-1/3160*sqrt(abs(pi^2 - 11.8439865498043 - 1.97453880376917*I))*sin(1/2*arctan2(-1.97453880376917, pi^2 - 11.8439865498043))) - cos(-1/3160*sqrt(abs(pi^2 - 11.8439865498043 - 1.97453880376917*I))*cos(1/2*arctan2(-1.97453880376917, pi^2 - 11.8439865498043)))*sinh(-1/3160*sqrt(abs(pi^2 - 11.8439865498043 - 1.97453880376917*I))*sin(1/2*arctan2(-1.97453880376917, pi^2 - 11.8439865498043))))/(cosh(1/3160*sqrt(abs(pi^2 - 11.8439865498043 - 1.97453880376917*I))*sin(1/2*arctan2(-1.97453880376917, pi^2 - 11.8439865498043)))*sin(1/3160*sqrt(abs(pi^2 - 11.8439865498043 - 1.97453880376917*I))*cos(1/2*arctan2(-1.97453880376917, pi^2 - 11.8439865498043))) - sin(1/3160*sqrt(abs(pi^2 - 11.8439865498043 - 1.97453880376917*I))*cos(1/2*arctan2(-1.97453880376917, pi^2 - 11.8439865498043)))*sinh(1/3160*sqrt(abs(pi^2 - 11.8439865498043 - 1.97453880376917*I))*sin(1/2*arctan2(-1.97453880376917, pi^2 - 11.8439865498043))))) - (316000*pi^2*cos(-1/2*arctan2(100/79*pi^2 - 1.97738623995471e-7, 5/49928*pi^2 - 1.18610664855435e-6))/sqrt(abs((100/79*I + 5/49928)*pi^2 - 1.18610664855435e-6 - 1.97738623995471e-7*I)) + 79*pi^2*sin(-1/2*arctan2(-1.97453880376917, pi^2 - 11.8439865498043))/sqrt(abs(pi^2 - 11.8439865498043 - 1.97453880376917*I)) + 25*pi^2*sin(-1/2*arctan2(100/79*pi^2 - 1.97738623995471e-7, 5/49928*pi^2 - 1.18610664855435e-6))/sqrt(abs((100/79*I + 5/49928)*pi^2 - 1.18610664855435e-6 - 1.97738623995471e-7*I)))*(cosh(-1/3160*sqrt(abs(pi^2 - 11.8439865498043 - 1.97453880376917*I))*sin(1/2*arctan2(-1.97453880376917, pi^2 - 11.8439865498043)))*sin(-1/3160*sqrt(abs(pi^2 - 11.8439865498043 - 1.97453880376917*I))*cos(1/2*arctan2(-1.97453880376917, pi^2 - 11.8439865498043))) - sin(-1/3160*sqrt(abs(pi^2 - 11.8439865498043 - 1.97453880376917*I))*cos(1/2*arctan2(-1.97453880376917, pi^2 - 11.8439865498043)))*sinh(-1/3160*sqrt(abs(pi^2 - 11.8439865498043 - 1.97453880376917*I))*sin(1/2*arctan2(-1.97453880376917, pi^2 - 11.8439865498043))))/(cosh(1/3160*sqrt(abs(pi^2 - 11.8439865498043 - 1.97453880376917*I))*sin(1/2*arctan2(-1.97453880376917, pi^2 - 11.8439865498043)))*sin(1/3160*sqrt(abs(pi^2 - 11.8439865498043 - 1.97453880376917*I))*cos(1/2*arctan2(-1.97453880376917, pi^2 - 11.8439865498043))) - sin(1/3160*sqrt(abs(pi^2 - 11.8439865498043 - 1.97453880376917*I))*cos(1/2*arctan2(-1.97453880376917, pi^2 - 11.8439865498043)))*sinh(1/3160*sqrt(abs(pi^2 - 11.8439865498043 - 1.97453880376917*I))*sin(1/2*arctan2(-1.97453880376917, pi^2 - 11.8439865498043))))) + (cos(-1/3160*sqrt(abs(pi^2 - 11.8439865498043 - 1.97453880376917*I))*cos(1/2*arctan2(-1.97453880376917, pi^2 - 11.8439865498043)))*cosh(-1/3160*sqrt(abs(pi^2 - 11.8439865498043 - 1.97453880376917*I))*sin(1/2*arctan2(-1.97453880376917, pi^2 - 11.8439865498043))) - cos(-1/3160*sqrt(abs(pi^2 - 11.8439865498043 - 1.97453880376917*I))*cos(1/2*arctan2(-1.97453880376917, pi^2 - 11.8439865498043)))*sinh(-1/3160*sqrt(abs(pi^2 - 11.8439865498043 - 1.97453880376917*I))*sin(1/2*arctan2(-1.97453880376917, pi^2 - 11.8439865498043))))*(-1.00048864594479*(cos(1/3160*sqrt(abs(pi^2 - 11.8439865498043 - 1.97453880376917*I))*cos(1/2*arctan2(-1.97453880376917, pi^2 - 11.8439865498043)))*cosh(1/3160*sqrt(abs(pi^2 - 11.8439865498043 - 1.97453880376917*I))*sin(1/2*arctan2(-1.97453880376917, pi^2 - 11.8439865498043))) - cos(1/3160*sqrt(abs(pi^2 - 11.8439865498043 - 1.97453880376917*I))*cos(1/2*arctan2(-1.97453880376917, pi^2 - 11.8439865498043)))*sinh(1/3160*sqrt(abs(pi^2 - 11.8439865498043 - 1.97453880376917*I))*sin(1/2*arctan2(-1.97453880376917, pi^2 - 11.8439865498043))))/(cosh(1/3160*sqrt(abs(pi^2 - 11.8439865498043 - 1.97453880376917*I))*sin(1/2*arctan2(-1.97453880376917, pi^2 - 11.8439865498043)))*sin(1/3160*sqrt(abs(pi^2 - 11.8439865498043 - 1.97453880376917*I))*cos(1/2*arctan2(-1.97453880376917, pi^2 - 11.8439865498043))) - sin(1/3160*sqrt(abs(pi^2 - 11.8439865498043 - 1.97453880376917*I))*cos(1/2*arctan2(-1.97453880376917, pi^2 - 11.8439865498043)))*sinh(1/3160*sqrt(abs(pi^2 - 11.8439865498043 - 1.97453880376917*I))*sin(1/2*arctan2(-1.97453880376917, pi^2 - 11.8439865498043)))) - 0.000202473069070349)/((cosh(1/3160*sqrt(abs(pi^2 - 11.8439865498043 - 1.97453880376917*I))*sin(1/2*arctan2(-1.97453880376917, pi^2 - 11.8439865498043)))*sin(1/3160*sqrt(abs(pi^2 - 11.8439865498043 - 1.97453880376917*I))*cos(1/2*arctan2(-1.97453880376917, pi^2 - 11.8439865498043))) - sin(1/3160*sqrt(abs(pi^2 - 11.8439865498043 - 1.97453880376917*I))*cos(1/2*arctan2(-1.97453880376917, pi^2 - 11.8439865498043)))*sinh(1/3160*sqrt(abs(pi^2 - 11.8439865498043 - 1.97453880376917*I))*sin(1/2*arctan2(-1.97453880376917, pi^2 - 11.8439865498043))))*(cosh(-1/3160*sqrt(abs(pi^2 - 11.8439865498043 - 1.97453880376917*I))*sin(1/2*arctan2(-1.97453880376917, pi^2 - 11.8439865498043)))*sin(-1/3160*sqrt(abs(pi^2 - 11.8439865498043 - 1.97453880376917*I))*cos(1/2*arctan2(-1.97453880376917, pi^2 - 11.8439865498043))) - sin(-1/3160*sqrt(abs(pi^2 - 11.8439865498043 - 1.97453880376917*I))*cos(1/2*arctan2(-1.97453880376917, pi^2 - 11.8439865498043)))*sinh(-1/3160*sqrt(abs(pi^2 - 11.8439865498043 - 1.97453880376917*I))*sin(1/2*arctan2(-1.97453880376917, pi^2 - 11.8439865498043))) + (cos(1/3160*sqrt(abs(pi^2 - 11.8439865498043 - 1.97453880376917*I))*cos(1/2*arctan2(-1.97453880376917, pi^2 - 11.8439865498043)))*cosh(1/3160*sqrt(abs(pi^2 - 11.8439865498043 - 1.97453880376917*I))*sin(1/2*arctan2(-1.97453880376917, pi^2 - 11.8439865498043))) - cos(1/3160*sqrt(abs(pi^2 - 11.8439865498043 - 1.97453880376917*I))*cos(1/2*arctan2(-1.97453880376917, pi^2 - 11.8439865498043)))*sinh(1/3160*sqrt(abs(pi^2 - 11.8439865498043 - 1.97453880376917*I))*sin(1/2*arctan2(-1.97453880376917, pi^2 - 11.8439865498043))))*(cos(-1/3160*sqrt(abs(pi^2 - 11.8439865498043 - 1.97453880376917*I))*cos(1/2*arctan2(-1.97453880376917, pi^2 - 11.8439865498043)))*cosh(-1/3160*sqrt(abs(pi^2 - 11.8439865498043 - 1.97453880376917*I))*sin(1/2*arctan2(-1.97453880376917, pi^2 - 11.8439865498043))) - cos(-1/3160*sqrt(abs(pi^2 - 11.8439865498043 - 1.97453880376917*I))*cos(1/2*arctan2(-1.97453880376917, pi^2 - 11.8439865498043)))*sinh(-1/3160*sqrt(abs(pi^2 - 11.8439865498043 - 1.97453880376917*I))*sin(1/2*arctan2(-1.97453880376917, pi^2 - 11.8439865498043))))/(cosh(1/3160*sqrt(abs(pi^2 - 11.8439865498043 - 1.97453880376917*I))*sin(1/2*arctan2(-1.97453880376917, pi^2 - 11.8439865498043)))*sin(1/3160*sqrt(abs(pi^2 - 11.8439865498043 - 1.97453880376917*I))*cos(1/2*arctan2(-1.97453880376917, pi^2 - 11.8439865498043))) - sin(1/3160*sqrt(abs(pi^2 - 11.8439865498043 - 1.97453880376917*I))*cos(1/2*arctan2(-1.97453880376917, pi^2 - 11.8439865498043)))*sinh(1/3160*sqrt(abs(pi^2 - 11.8439865498043 - 1.97453880376917*I))*sin(1/2*arctan2(-1.97453880376917, pi^2 - 11.8439865498043)))))) + 1.00048864594479/(cosh(1/3160*sqrt(abs(pi^2 - 11.8439865498043 - 1.97453880376917*I))*sin(1/2*arctan2(-1.97453880376917, pi^2 - 11.8439865498043)))*sin(1/3160*sqrt(abs(pi^2 - 11.8439865498043 - 1.97453880376917*I))*cos(1/2*arctan2(-1.97453880376917, pi^2 - 11.8439865498043))) - sin(1/3160*sqrt(abs(pi^2 - 11.8439865498043 - 1.97453880376917*I))*cos(1/2*arctan2(-1.97453880376917, pi^2 - 11.8439865498043)))*sinh(1/3160*sqrt(abs(pi^2 - 11.8439865498043 - 1.97453880376917*I))*sin(1/2*arctan2(-1.97453880376917, pi^2 - 11.8439865498043))))\n"
     ]
    },
    {
     "ename": "ValueError",
     "evalue": "power::eval(): division by zero",
     "output_type": "error",
     "traceback": [
      "\u001b[0;31m---------------------------------------------------------------------------\u001b[0m",
      "\u001b[0;31mValueError\u001b[0m                                Traceback (most recent call last)",
      "\u001b[0;32m<ipython-input-312-ee9ad9cf46d3>\u001b[0m in \u001b[0;36m<module>\u001b[0;34m\u001b[0m\n\u001b[1;32m      2\u001b[0m \u001b[0;32mfor\u001b[0m \u001b[0mi\u001b[0m \u001b[0;32min\u001b[0m \u001b[0mrange\u001b[0m\u001b[0;34m(\u001b[0m\u001b[0mlen\u001b[0m\u001b[0;34m(\u001b[0m\u001b[0meq_sys_M3X_M_sol\u001b[0m\u001b[0;34m)\u001b[0m\u001b[0;34m)\u001b[0m\u001b[0;34m:\u001b[0m\u001b[0;34m\u001b[0m\u001b[0;34m\u001b[0m\u001b[0m\n\u001b[1;32m      3\u001b[0m     \u001b[0mprint\u001b[0m\u001b[0;34m(\u001b[0m\u001b[0meq_sys_M3X_M_sol\u001b[0m\u001b[0;34m[\u001b[0m\u001b[0mi\u001b[0m\u001b[0;34m]\u001b[0m\u001b[0;34m)\u001b[0m\u001b[0;31m#.variables())\u001b[0m\u001b[0;34m\u001b[0m\u001b[0;34m\u001b[0m\u001b[0m\n\u001b[0;32m----> 4\u001b[0;31m     \u001b[0mcoeffs_subs\u001b[0m \u001b[0;34m+=\u001b[0m \u001b[0;34m[\u001b[0m\u001b[0meq_sys_M3X_vars5\u001b[0m\u001b[0;34m[\u001b[0m\u001b[0mi\u001b[0m\u001b[0;34m]\u001b[0m \u001b[0;34m==\u001b[0m \u001b[0meq_sys_M3X_M_sol\u001b[0m\u001b[0;34m[\u001b[0m\u001b[0mi\u001b[0m\u001b[0;34m]\u001b[0m\u001b[0;34m.\u001b[0m\u001b[0mn\u001b[0m\u001b[0;34m(\u001b[0m\u001b[0;34m)\u001b[0m\u001b[0;34m]\u001b[0m\u001b[0;34m\u001b[0m\u001b[0;34m\u001b[0m\u001b[0m\n\u001b[0m",
      "\u001b[0;32m/usr3/articles/sagemath_docker_build/sage/local/lib/python3.9/site-packages/sage/structure/element.pyx\u001b[0m in \u001b[0;36msage.structure.element.Element.n (build/cythonized/sage/structure/element.c:8381)\u001b[0;34m()\u001b[0m\n\u001b[1;32m    883\u001b[0m             \u001b[0;36m0.666666666666667\u001b[0m\u001b[0;34m\u001b[0m\u001b[0;34m\u001b[0m\u001b[0m\n\u001b[1;32m    884\u001b[0m         \"\"\"\n\u001b[0;32m--> 885\u001b[0;31m         \u001b[0;32mreturn\u001b[0m \u001b[0mself\u001b[0m\u001b[0;34m.\u001b[0m\u001b[0mnumerical_approx\u001b[0m\u001b[0;34m(\u001b[0m\u001b[0mprec\u001b[0m\u001b[0;34m,\u001b[0m \u001b[0mdigits\u001b[0m\u001b[0;34m,\u001b[0m \u001b[0malgorithm\u001b[0m\u001b[0;34m)\u001b[0m\u001b[0;34m\u001b[0m\u001b[0;34m\u001b[0m\u001b[0m\n\u001b[0m\u001b[1;32m    886\u001b[0m \u001b[0;34m\u001b[0m\u001b[0m\n\u001b[1;32m    887\u001b[0m     \u001b[0;32mdef\u001b[0m \u001b[0m_mpmath_\u001b[0m\u001b[0;34m(\u001b[0m\u001b[0mself\u001b[0m\u001b[0;34m,\u001b[0m \u001b[0mprec\u001b[0m\u001b[0;34m=\u001b[0m\u001b[0;36m53\u001b[0m\u001b[0;34m,\u001b[0m \u001b[0mrounding\u001b[0m\u001b[0;34m=\u001b[0m\u001b[0;32mNone\u001b[0m\u001b[0;34m)\u001b[0m\u001b[0;34m:\u001b[0m\u001b[0;34m\u001b[0m\u001b[0;34m\u001b[0m\u001b[0m\n",
      "\u001b[0;32m/usr3/articles/sagemath_docker_build/sage/local/lib/python3.9/site-packages/sage/symbolic/expression.pyx\u001b[0m in \u001b[0;36msage.symbolic.expression.Expression.numerical_approx (build/cythonized/sage/symbolic/expression.cpp:36247)\u001b[0;34m()\u001b[0m\n\u001b[1;32m   6285\u001b[0m         \u001b[0mkwds\u001b[0m \u001b[0;34m=\u001b[0m \u001b[0;34m{\u001b[0m\u001b[0;34m'parent'\u001b[0m\u001b[0;34m:\u001b[0m \u001b[0mR\u001b[0m\u001b[0;34m,\u001b[0m \u001b[0;34m'algorithm'\u001b[0m\u001b[0;34m:\u001b[0m \u001b[0malgorithm\u001b[0m\u001b[0;34m}\u001b[0m\u001b[0;34m\u001b[0m\u001b[0;34m\u001b[0m\u001b[0m\n\u001b[1;32m   6286\u001b[0m         \u001b[0;32mtry\u001b[0m\u001b[0;34m:\u001b[0m\u001b[0;34m\u001b[0m\u001b[0;34m\u001b[0m\u001b[0m\n\u001b[0;32m-> 6287\u001b[0;31m             \u001b[0mx\u001b[0m \u001b[0;34m=\u001b[0m \u001b[0mx\u001b[0m\u001b[0;34m.\u001b[0m\u001b[0m_convert\u001b[0m\u001b[0;34m(\u001b[0m\u001b[0mkwds\u001b[0m\u001b[0;34m)\u001b[0m\u001b[0;34m\u001b[0m\u001b[0;34m\u001b[0m\u001b[0m\n\u001b[0m\u001b[1;32m   6288\u001b[0m         \u001b[0;32mexcept\u001b[0m \u001b[0mTypeError\u001b[0m\u001b[0;34m:\u001b[0m \u001b[0;31m# numerical approximation for real number failed\u001b[0m\u001b[0;34m\u001b[0m\u001b[0;34m\u001b[0m\u001b[0m\n\u001b[1;32m   6289\u001b[0m             \u001b[0;32mpass\u001b[0m          \u001b[0;31m# try again with complex\u001b[0m\u001b[0;34m\u001b[0m\u001b[0;34m\u001b[0m\u001b[0m\n",
      "\u001b[0;32m/usr3/articles/sagemath_docker_build/sage/local/lib/python3.9/site-packages/sage/symbolic/expression.pyx\u001b[0m in \u001b[0;36msage.symbolic.expression.Expression._convert (build/cythonized/sage/symbolic/expression.cpp:10524)\u001b[0;34m()\u001b[0m\n\u001b[1;32m   1516\u001b[0m             \u001b[0;34m<\u001b[0m\u001b[0mtype\u001b[0m \u001b[0;34m'sage.rings.real_double.RealDoubleElement'\u001b[0m\u001b[0;34m>\u001b[0m\u001b[0;34m\u001b[0m\u001b[0;34m\u001b[0m\u001b[0m\n\u001b[1;32m   1517\u001b[0m         \"\"\"\n\u001b[0;32m-> 1518\u001b[0;31m         \u001b[0mcdef\u001b[0m \u001b[0mGEx\u001b[0m \u001b[0mres\u001b[0m \u001b[0;34m=\u001b[0m \u001b[0mself\u001b[0m\u001b[0;34m.\u001b[0m\u001b[0m_gobj\u001b[0m\u001b[0;34m.\u001b[0m\u001b[0mevalf\u001b[0m\u001b[0;34m(\u001b[0m\u001b[0;36m0\u001b[0m\u001b[0;34m,\u001b[0m \u001b[0mkwds\u001b[0m\u001b[0;34m)\u001b[0m\u001b[0;34m\u001b[0m\u001b[0;34m\u001b[0m\u001b[0m\n\u001b[0m\u001b[1;32m   1519\u001b[0m         \u001b[0;32mreturn\u001b[0m \u001b[0mnew_Expression_from_GEx\u001b[0m\u001b[0;34m(\u001b[0m\u001b[0mself\u001b[0m\u001b[0;34m.\u001b[0m\u001b[0m_parent\u001b[0m\u001b[0;34m,\u001b[0m \u001b[0mres\u001b[0m\u001b[0;34m)\u001b[0m\u001b[0;34m\u001b[0m\u001b[0;34m\u001b[0m\u001b[0m\n\u001b[1;32m   1520\u001b[0m \u001b[0;34m\u001b[0m\u001b[0m\n",
      "\u001b[0;31mValueError\u001b[0m: power::eval(): division by zero"
     ]
    }
   ],
   "source": [
    "coeffs_subs = [A1_z_re == A1_z_re_d]\n",
    "for i in range(len(eq_sys_M3X_M_sol)):\n",
    "    print(eq_sys_M3X_M_sol[i].n())#.variables())\n",
    "    coeffs_subs += [eq_sys_M3X_vars5[i] == eq_sys_M3X_M_sol[i].n()]"
   ]
  },
  {
   "cell_type": "code",
   "execution_count": null,
   "metadata": {},
   "outputs": [],
   "source": [
    "coeffs_subs"
   ]
  },
  {
   "cell_type": "code",
   "execution_count": null,
   "metadata": {},
   "outputs": [],
   "source": [
    "if test_M6:\n",
    "    coeffs_subs = coeffs_subs6\n",
    "coeffs_subs"
   ]
  },
  {
   "cell_type": "code",
   "execution_count": null,
   "metadata": {},
   "outputs": [],
   "source": [
    "K_vacuum_subs_d = K_vacuum_subs.subs(kappa_vacuum_sol).subs(kappa_sol).subs(k_z_sol_subs).subs(eqEz_a).subs(A1_x_re_im_subs, A2_x_re_im_subs) \\\n",
    ".subs(digit_values).subs([A1_z_re_im_subs,A2_z_re_im_subs]).subs(coeffs_subs)\n",
    "\n",
    "K_vacuum_subs_d"
   ]
  },
  {
   "cell_type": "code",
   "execution_count": null,
   "metadata": {},
   "outputs": [],
   "source": [
    "K_vacuum_subs_d.rhs().n()"
   ]
  },
  {
   "cell_type": "code",
   "execution_count": null,
   "metadata": {},
   "outputs": [],
   "source": [
    "K_conductor_subs_d = K_conductor_subs.subs(kappa_vacuum_sol).subs(kappa_sol).subs(k_z_sol_subs).subs(eqEz_a).subs(A1_x_re_im_subs, A2_x_re_im_subs) \\\n",
    ".subs(digit_values).subs([A1_z_re_im_subs,A2_z_re_im_subs]).subs(coeffs_subs)\n",
    "\n",
    "K_conductor_subs_d"
   ]
  },
  {
   "cell_type": "code",
   "execution_count": null,
   "metadata": {},
   "outputs": [],
   "source": [
    "K_conductor_subs_d.rhs().n()"
   ]
  },
  {
   "cell_type": "markdown",
   "metadata": {},
   "source": [
    "знак перед корнем будем всегда выбирать так, чтобы корень имел положительнею мнимую часть (Зоммерфельд, Электродинамика, параграф 20, Б)"
   ]
  },
  {
   "cell_type": "code",
   "execution_count": null,
   "metadata": {},
   "outputs": [],
   "source": [
    "if K_conductor_subs_d.rhs().n().imag() < 0:\n",
    "    K_conductor_subs_d = K_conductor_subs_d.lhs() == - K_conductor_subs_d.rhs()"
   ]
  },
  {
   "cell_type": "raw",
   "metadata": {},
   "source": [
    "if K_vacuum_subs_d.rhs().n().imag() < 0:\n",
    "    K_vacuum_subs_d = K_vacuum_subs_d.lhs() == - K_vacuum_subs_d.rhs()"
   ]
  },
  {
   "cell_type": "code",
   "execution_count": null,
   "metadata": {},
   "outputs": [],
   "source": []
  },
  {
   "cell_type": "code",
   "execution_count": null,
   "metadata": {},
   "outputs": [],
   "source": [
    "Ex_bad_conductor = (eq_7_subs3.rhs())#.subs(K_conductor_subs_d).subs(kappa_vacuum_sol).subs(kappa_sol).subs(k_z_sol_subs).subs(eqEz_a).subs(A1_x_re_im_subs, A2_x_re_im_subs)\n",
    "Ex_vacuum        = (eq_5_subs3.rhs())#.subs(K_vacuum_subs_d).subs(kappa_vacuum_sol).subs(kappa_sol).subs(k_z_sol_subs).subs(eqEz_a).subs(A1_x_re_im_subs, A2_x_re_im_subs)"
   ]
  },
  {
   "cell_type": "code",
   "execution_count": null,
   "metadata": {},
   "outputs": [],
   "source": [
    "Ex_bad_conductor_subs = Ex_bad_conductor.subs(K_conductor_subs_d).subs(kappa_vacuum_sol).subs(kappa_sol).subs(k_z_sol_subs).subs(eqEz_a).subs(A1_x_re_im_subs, A2_x_re_im_subs)\n",
    "Ex_vacuum_subs        = Ex_vacuum       .subs(K_vacuum_subs_d)   .subs(kappa_vacuum_sol).subs(kappa_sol).subs(k_z_sol_subs).subs(eqEz_a).subs(A1_x_re_im_subs, A2_x_re_im_subs)"
   ]
  },
  {
   "cell_type": "raw",
   "metadata": {},
   "source": [
    "print             (Ex_vacuum)\n",
    "display(Math(latex(Ex_vacuum)))"
   ]
  },
  {
   "cell_type": "raw",
   "metadata": {},
   "source": [
    "print             (Ex_bad_conductor)\n",
    "display(Math(latex(Ex_bad_conductor)))"
   ]
  },
  {
   "cell_type": "code",
   "execution_count": null,
   "metadata": {},
   "outputs": [],
   "source": []
  },
  {
   "cell_type": "code",
   "execution_count": null,
   "metadata": {},
   "outputs": [],
   "source": [
    "#Hy_bad_conductor = (eq_8_subs3.rhs()*sqrt(epsilon_complex)/sqrt(mu)).subs(K_conductor_subs_d).subs(kappa_vacuum_sol).subs(kappa_sol).subs(k_z_sol_subs).subs(eqEz_a).subs(A1_x_re_im_subs, A2_x_re_im_subs)\n",
    "#Hy_vacuum        = (eq_6_subs3.rhs()).subs(K_vacuum_subs_d).subs(kappa_vacuum_sol).subs(kappa_sol).subs(k_z_sol_subs).subs(eqEz_a).subs(A1_x_re_im_subs, A2_x_re_im_subs)"
   ]
  },
  {
   "cell_type": "code",
   "execution_count": null,
   "metadata": {},
   "outputs": [],
   "source": [
    "# sqrt(mu / epsilon_complex) = omega/c * mu / kappa\n",
    "# sqrt(mu / epsilon_complex) = omega/c * mu_rel * mu_0 / kappa\n",
    "\n",
    "# kappa/mu == omega * sqrt(epsilon_complex/mu)\n",
    "# sqrt(mu_0 / epsilon_0) = omega * mu_0 / kappa_vacuum\n",
    "\n",
    "# kappa_vacuum == omega/c\n",
    "# sqrt(mu_0 / epsilon_0) = c * mu_0\n",
    "# c = 1 / sqrt(mu_0 * epsilon_0)\n",
    "\n",
    "# kappa = omega/c * sqrt(epsilon_comlex*mu)\n",
    "# kappa_vacuum = omega/c * sqrt(epsilon_0*mu_0) = omega/c\n",
    "\n",
    "# sqrt(mu_0 / epsilon_0) = 1/(c*epsilon_0) = omega/c * mu_0 / kappa_vacuum\n",
    "# sqrt(mu / epsilon_complex) = 1/(c*epsilon_complex) = omega/c * mu / kappa\n",
    "\n",
    "# 1/mu_0 = c^2*epsolon_0"
   ]
  },
  {
   "cell_type": "code",
   "execution_count": null,
   "metadata": {},
   "outputs": [],
   "source": [
    "Hy_bad_conductor = c * (eq_8_subs3.rhs()*kappa        / (mu  *omega))#.subs(K_conductor_subs_d).subs(kappa_vacuum_sol).subs(kappa_sol).subs(k_z_sol_subs).subs(eqEz_a).subs(A1_x_re_im_subs, A2_x_re_im_subs)\n",
    "Hy_vacuum        = c * (eq_6_subs3.rhs()*kappa_vacuum / (mu_0*omega))#.subs(K_vacuum_subs_d)   .subs(kappa_vacuum_sol).subs(kappa_sol).subs(k_z_sol_subs).subs(eqEz_a).subs(A1_x_re_im_subs, A2_x_re_im_subs)"
   ]
  },
  {
   "cell_type": "code",
   "execution_count": null,
   "metadata": {},
   "outputs": [],
   "source": [
    "Hy_bad_conductor_subs = Hy_bad_conductor.subs(K_conductor_subs_d).subs(kappa_vacuum_sol).subs(kappa_sol).subs(k_z_sol_subs).subs(eqEz_a).subs(A1_x_re_im_subs, A2_x_re_im_subs)\n",
    "Hy_vacuum_subs        = Hy_vacuum       .subs(K_vacuum_subs_d)   .subs(kappa_vacuum_sol).subs(kappa_sol).subs(k_z_sol_subs).subs(eqEz_a).subs(A1_x_re_im_subs, A2_x_re_im_subs)"
   ]
  },
  {
   "cell_type": "code",
   "execution_count": null,
   "metadata": {},
   "outputs": [],
   "source": [
    "eq_8_subs3"
   ]
  },
  {
   "cell_type": "code",
   "execution_count": null,
   "metadata": {},
   "outputs": [],
   "source": [
    "eq_6_subs3"
   ]
  },
  {
   "cell_type": "raw",
   "metadata": {},
   "source": [
    "print             (Hy_bad_conductor)\n",
    "display(Math(latex(Hy_bad_conductor)))"
   ]
  },
  {
   "cell_type": "raw",
   "metadata": {},
   "source": [
    "print             (Hy_vacuum)\n",
    "display(Math(latex(Hy_vacuum)))"
   ]
  },
  {
   "cell_type": "code",
   "execution_count": null,
   "metadata": {},
   "outputs": [],
   "source": [
    "Ex_bad_conductor_d = Ex_bad_conductor_subs.subs(digit_values).subs([A1_z_re_im_subs,A2_z_re_im_subs]).subs(coeffs_subs)\n",
    "Ex_vacuum_d        = Ex_vacuum_subs.subs(digit_values).subs([A1_z_re_im_subs,A2_z_re_im_subs]).subs(coeffs_subs)"
   ]
  },
  {
   "cell_type": "code",
   "execution_count": null,
   "metadata": {},
   "outputs": [],
   "source": [
    "print             (Ex_bad_conductor_d)\n",
    "display(Math(latex(Ex_bad_conductor_d)))"
   ]
  },
  {
   "cell_type": "code",
   "execution_count": null,
   "metadata": {
    "scrolled": true
   },
   "outputs": [],
   "source": [
    "print             (Ex_vacuum_d)\n",
    "display(Math(latex(Ex_vacuum_d)))"
   ]
  },
  {
   "cell_type": "code",
   "execution_count": null,
   "metadata": {},
   "outputs": [],
   "source": []
  },
  {
   "cell_type": "code",
   "execution_count": null,
   "metadata": {},
   "outputs": [],
   "source": [
    "Hy_bad_conductor_d = Hy_bad_conductor_subs.subs(digit_values).subs([A1_z_re_im_subs,A2_z_re_im_subs]).subs(coeffs_subs)\n",
    "Hy_vacuum_d        = Hy_vacuum_subs.subs(digit_values).subs([A1_z_re_im_subs,A2_z_re_im_subs]).subs(coeffs_subs)"
   ]
  },
  {
   "cell_type": "code",
   "execution_count": null,
   "metadata": {},
   "outputs": [],
   "source": [
    "print             (Hy_bad_conductor_d)\n",
    "display(Math(latex(Hy_bad_conductor_d)))"
   ]
  },
  {
   "cell_type": "code",
   "execution_count": null,
   "metadata": {
    "scrolled": true
   },
   "outputs": [],
   "source": [
    "print             (Hy_vacuum_d)\n",
    "display(Math(latex(Hy_vacuum_d)))"
   ]
  },
  {
   "cell_type": "code",
   "execution_count": null,
   "metadata": {},
   "outputs": [],
   "source": []
  },
  {
   "cell_type": "code",
   "execution_count": 307,
   "metadata": {},
   "outputs": [
    {
     "ename": "NameError",
     "evalue": "name 'Hy_vacuum_d' is not defined",
     "output_type": "error",
     "traceback": [
      "\u001b[0;31m---------------------------------------------------------------------------\u001b[0m",
      "\u001b[0;31mNameError\u001b[0m                                 Traceback (most recent call last)",
      "\u001b[0;32m<ipython-input-307-59fa66a1a003>\u001b[0m in \u001b[0;36m<module>\u001b[0;34m\u001b[0m\n\u001b[0;32m----> 1\u001b[0;31m \u001b[0mHy_vacuum_d\u001b[0m\u001b[0;34m.\u001b[0m\u001b[0msubs\u001b[0m\u001b[0;34m(\u001b[0m\u001b[0mx\u001b[0m \u001b[0;34m==\u001b[0m \u001b[0;34m-\u001b[0m\u001b[0mA\u001b[0m\u001b[0;34m)\u001b[0m\u001b[0;34m.\u001b[0m\u001b[0mn\u001b[0m\u001b[0;34m(\u001b[0m\u001b[0;34m)\u001b[0m\u001b[0;34m,\u001b[0m \u001b[0mEx_vacuum_d\u001b[0m\u001b[0;34m.\u001b[0m\u001b[0msubs\u001b[0m\u001b[0;34m(\u001b[0m\u001b[0mx\u001b[0m \u001b[0;34m==\u001b[0m \u001b[0;34m-\u001b[0m\u001b[0mA\u001b[0m\u001b[0;34m)\u001b[0m\u001b[0;34m.\u001b[0m\u001b[0mn\u001b[0m\u001b[0;34m(\u001b[0m\u001b[0;34m)\u001b[0m\u001b[0;34m\u001b[0m\u001b[0;34m\u001b[0m\u001b[0m\n\u001b[0m",
      "\u001b[0;31mNameError\u001b[0m: name 'Hy_vacuum_d' is not defined"
     ]
    }
   ],
   "source": [
    "Hy_vacuum_d.subs(x == -A).n(), Ex_vacuum_d.subs(x == -A).n()"
   ]
  },
  {
   "cell_type": "code",
   "execution_count": 308,
   "metadata": {},
   "outputs": [
    {
     "ename": "NameError",
     "evalue": "name 'Hy_vacuum_d' is not defined",
     "output_type": "error",
     "traceback": [
      "\u001b[0;31m---------------------------------------------------------------------------\u001b[0m",
      "\u001b[0;31mNameError\u001b[0m                                 Traceback (most recent call last)",
      "\u001b[0;32m<ipython-input-308-dcd1bcc215dc>\u001b[0m in \u001b[0;36m<module>\u001b[0;34m\u001b[0m\n\u001b[0;32m----> 1\u001b[0;31m \u001b[0mHy_vacuum_d\u001b[0m\u001b[0;34m.\u001b[0m\u001b[0msubs\u001b[0m\u001b[0;34m(\u001b[0m\u001b[0mx\u001b[0m \u001b[0;34m==\u001b[0m \u001b[0mInteger\u001b[0m\u001b[0;34m(\u001b[0m\u001b[0;36m0\u001b[0m\u001b[0;34m)\u001b[0m\u001b[0;34m)\u001b[0m\u001b[0;34m.\u001b[0m\u001b[0mn\u001b[0m\u001b[0;34m(\u001b[0m\u001b[0;34m)\u001b[0m\u001b[0;34m,\u001b[0m \u001b[0mEx_vacuum_d\u001b[0m\u001b[0;34m.\u001b[0m\u001b[0msubs\u001b[0m\u001b[0;34m(\u001b[0m\u001b[0mx\u001b[0m \u001b[0;34m==\u001b[0m \u001b[0mInteger\u001b[0m\u001b[0;34m(\u001b[0m\u001b[0;36m0\u001b[0m\u001b[0;34m)\u001b[0m\u001b[0;34m)\u001b[0m\u001b[0;34m.\u001b[0m\u001b[0mn\u001b[0m\u001b[0;34m(\u001b[0m\u001b[0;34m)\u001b[0m\u001b[0;34m\u001b[0m\u001b[0;34m\u001b[0m\u001b[0m\n\u001b[0m",
      "\u001b[0;31mNameError\u001b[0m: name 'Hy_vacuum_d' is not defined"
     ]
    }
   ],
   "source": [
    "Hy_vacuum_d.subs(x == 0).n(), Ex_vacuum_d.subs(x == 0).n()"
   ]
  },
  {
   "cell_type": "code",
   "execution_count": null,
   "metadata": {},
   "outputs": [],
   "source": [
    "Hy_bad_conductor_d.subs(x == 0).n(), epsilon_d * Ex_bad_conductor_d.subs(x == 0).n()"
   ]
  },
  {
   "cell_type": "code",
   "execution_count": null,
   "metadata": {},
   "outputs": [],
   "source": [
    "Hy_bad_conductor_d.subs(x == A).n(), Ex_bad_conductor_d.subs(x == A).n()"
   ]
  },
  {
   "cell_type": "code",
   "execution_count": null,
   "metadata": {},
   "outputs": [],
   "source": []
  },
  {
   "cell_type": "code",
   "execution_count": null,
   "metadata": {},
   "outputs": [],
   "source": [
    "E_inner_vacuum_sol_z(x).subs(K_vacuum_subs_d)"
   ]
  },
  {
   "cell_type": "code",
   "execution_count": null,
   "metadata": {},
   "outputs": [],
   "source": [
    "Ez_vacuum        = E_inner_vacuum_sol_z(x).subs(K_vacuum_subs_d)\n",
    "Ez_bad_conductor = E_bad_conductor_sol_z(x).subs(K_conductor_subs_d).subs(eqEz_a)"
   ]
  },
  {
   "cell_type": "raw",
   "metadata": {},
   "source": [
    "print             (Ez_vacuum)\n",
    "display(Math(latex(Ez_vacuum)))"
   ]
  },
  {
   "cell_type": "code",
   "execution_count": null,
   "metadata": {},
   "outputs": [],
   "source": [
    "Ez_bad_conductor_d = Ez_bad_conductor.subs(digit_values).subs([A1_z_re_im_subs,A2_z_re_im_subs]).subs(coeffs_subs)\n",
    "Ez_vacuum_d        = Ez_vacuum       .subs(digit_values).subs([A1_z_re_im_subs,A2_z_re_im_subs]).subs(coeffs_subs)"
   ]
  },
  {
   "cell_type": "code",
   "execution_count": null,
   "metadata": {},
   "outputs": [],
   "source": [
    "print             (Ez_vacuum_d)\n",
    "display(Math(latex(Ez_vacuum_d)))"
   ]
  },
  {
   "cell_type": "code",
   "execution_count": null,
   "metadata": {},
   "outputs": [],
   "source": [
    "print             (Ez_bad_conductor_d)\n",
    "display(Math(latex(Ez_bad_conductor_d)))"
   ]
  },
  {
   "cell_type": "code",
   "execution_count": null,
   "metadata": {},
   "outputs": [],
   "source": [
    "Ez_vacuum_d.subs(x == -A).n(), Ez_vacuum_d.subs(x == -A/2).n(), Ez_vacuum_d.subs(x == 0)"
   ]
  },
  {
   "cell_type": "code",
   "execution_count": null,
   "metadata": {},
   "outputs": [],
   "source": [
    "Ez_bad_conductor"
   ]
  },
  {
   "cell_type": "code",
   "execution_count": null,
   "metadata": {},
   "outputs": [],
   "source": [
    "print             (Ex_vacuum_d.variables())\n",
    "print             (Ex_bad_conductor_d.variables())"
   ]
  },
  {
   "cell_type": "code",
   "execution_count": null,
   "metadata": {},
   "outputs": [],
   "source": [
    "print             (Ez_vacuum_d.variables())\n",
    "print             (Ez_bad_conductor_d.variables())"
   ]
  },
  {
   "cell_type": "code",
   "execution_count": null,
   "metadata": {},
   "outputs": [],
   "source": [
    "print             (Hy_vacuum_d.variables())\n",
    "print             (Hy_bad_conductor_d.variables())"
   ]
  },
  {
   "cell_type": "code",
   "execution_count": null,
   "metadata": {},
   "outputs": [],
   "source": []
  },
  {
   "cell_type": "code",
   "execution_count": null,
   "metadata": {},
   "outputs": [],
   "source": [
    "eq_Hy_d = Hy_bad_conductor_d.subs(x == 0) == Hy_vacuum_d.subs(x == 0)\n",
    "\n",
    "eq_Hy_d.lhs().n(), eq_Hy_d.rhs().n()"
   ]
  },
  {
   "cell_type": "code",
   "execution_count": null,
   "metadata": {},
   "outputs": [],
   "source": []
  },
  {
   "cell_type": "code",
   "execution_count": null,
   "metadata": {},
   "outputs": [],
   "source": [
    "Ez_vacuum_d.subs(x == 0) == Ez_bad_conductor_d.subs(x == 0)"
   ]
  },
  {
   "cell_type": "code",
   "execution_count": null,
   "metadata": {},
   "outputs": [],
   "source": [
    "eq_Ex_d = Ex_vacuum_d.subs(x == 0) == epsilon_complex.subs(digit_values) * Ex_bad_conductor_d.subs(x == 0)\n",
    "eq_Ex_d.lhs().n(), eq_Ex_d.rhs().n()"
   ]
  },
  {
   "cell_type": "code",
   "execution_count": null,
   "metadata": {},
   "outputs": [],
   "source": [
    "eq_Ex_d = Ex_vacuum_d.subs(x == 0) == epsilon_d * Ex_bad_conductor_d.subs(x == 0)\n",
    "eq_Ex_d.lhs().n(), eq_Ex_d.rhs().n()"
   ]
  },
  {
   "cell_type": "code",
   "execution_count": null,
   "metadata": {},
   "outputs": [],
   "source": [
    "h_conductor = 1*A"
   ]
  },
  {
   "cell_type": "code",
   "execution_count": null,
   "metadata": {},
   "outputs": [],
   "source": [
    "Ez_bad_conductor_d"
   ]
  },
  {
   "cell_type": "code",
   "execution_count": null,
   "metadata": {},
   "outputs": [],
   "source": [
    "plt =  plot(Ez_vacuum_d.real(), (x, -A, 0))\n",
    "plt += plot(Ez_bad_conductor_d.real(), (x, 0, h_conductor))\n",
    "plt.show(title=\"График тангенциальной компоненты электрического поля\")"
   ]
  },
  {
   "cell_type": "code",
   "execution_count": null,
   "metadata": {},
   "outputs": [],
   "source": [
    "plt =  plot(Ez_vacuum_d.imag(), (x, -A, 0))\n",
    "plt += plot(Ez_bad_conductor_d.imag(), (x, 0, h_conductor))\n",
    "plt.show(title=\"График тангенциальной компоненты электрического поля\")"
   ]
  },
  {
   "cell_type": "code",
   "execution_count": null,
   "metadata": {},
   "outputs": [],
   "source": [
    "plt =  plot(Ez_vacuum_d.abs(), (x, -A, 0))\n",
    "plt += plot(Ez_bad_conductor_d.abs(), (x, 0, h_conductor))\n",
    "plt.show(title=\"График тангенциальной компоненты электрического поля\")"
   ]
  },
  {
   "cell_type": "code",
   "execution_count": null,
   "metadata": {},
   "outputs": [],
   "source": []
  },
  {
   "cell_type": "raw",
   "metadata": {},
   "source": [
    "plt =  plot(Ex_vacuum_d.real(), (x, -A, 0))\n",
    "plt += plot(Ex_bad_conductor_d.real(), (x, 0, h_conductor))\n",
    "plt.show(title=\"График нормальной компоненты электрического поля\")"
   ]
  },
  {
   "cell_type": "raw",
   "metadata": {},
   "source": [
    "plt =  plot(Ex_vacuum_d.imag(), (x, -A, 0))\n",
    "plt+= plot(Ex_bad_conductor_d.imag(), (x, 0, h_conductor))\n",
    "plt.show(title=\"График нормальной компоненты электрического поля\")"
   ]
  },
  {
   "cell_type": "raw",
   "metadata": {
    "scrolled": true
   },
   "source": [
    "plt =  plot(Ex_vacuum_d.abs(), (x, -A, 0))\n",
    "plt += plot(Ex_bad_conductor_d.abs(), (x, 0, h_conductor))\n",
    "plt.show(title=\"График нормальной компоненты электрического поля\")"
   ]
  },
  {
   "cell_type": "code",
   "execution_count": null,
   "metadata": {},
   "outputs": [],
   "source": []
  },
  {
   "cell_type": "code",
   "execution_count": null,
   "metadata": {},
   "outputs": [],
   "source": [
    "plt =  plot(Ex_vacuum_d.real(), (x, -A, 0))\n",
    "plt += plot((Ex_bad_conductor_d * epsilon_complex).subs(digit_values).real(), (x, 0, h_conductor))\n",
    "plt.show(title=\"График нормальной компоненты электрического смещения\")"
   ]
  },
  {
   "cell_type": "code",
   "execution_count": null,
   "metadata": {},
   "outputs": [],
   "source": [
    "plt =  plot(Ex_vacuum_d.imag(), (x, -A, 0))\n",
    "plt += plot((Ex_bad_conductor_d * epsilon_complex).subs(digit_values).imag(), (x, 0, h_conductor))\n",
    "plt.show(title=\"График нормальной компоненты электрического смещения\")"
   ]
  },
  {
   "cell_type": "code",
   "execution_count": null,
   "metadata": {},
   "outputs": [],
   "source": [
    "plt =  plot(Ex_vacuum_d.abs(), (x, -A, 0))\n",
    "plt += plot((Ex_bad_conductor_d * epsilon_complex).subs(digit_values).abs(), (x, 0, h_conductor))\n",
    "plt.show(title=\"График нормальной компоненты электрического смещения\")"
   ]
  },
  {
   "cell_type": "code",
   "execution_count": null,
   "metadata": {},
   "outputs": [],
   "source": []
  },
  {
   "cell_type": "code",
   "execution_count": null,
   "metadata": {},
   "outputs": [],
   "source": [
    "plt =  plot(Hy_vacuum_d.real(), (x, -A, 0))\n",
    "plt += plot(Hy_bad_conductor_d.real(), (x, 0, h_conductor))\n",
    "plt.show(title=\"График тангенциальной компоненты напряженности магнитного поля H\")"
   ]
  },
  {
   "cell_type": "code",
   "execution_count": null,
   "metadata": {},
   "outputs": [],
   "source": [
    "plt =  plot(Hy_vacuum_d.imag(), (x, -A, 0))\n",
    "plt += plot(Hy_bad_conductor_d.imag(), (x, 0, h_conductor))\n",
    "plt.show(title=\"График тангенциальной компоненты напряженности магнитного поля H\")"
   ]
  },
  {
   "cell_type": "code",
   "execution_count": null,
   "metadata": {},
   "outputs": [],
   "source": [
    "plt =  plot(Hy_vacuum_d.abs(), (x, -A, 0))\n",
    "plt += plot(Hy_bad_conductor_d.abs(), (x, 0, h_conductor))\n",
    "plt.show(title=\"График тангенциальной компоненты напряженности магнитного поля H\")"
   ]
  },
  {
   "cell_type": "code",
   "execution_count": null,
   "metadata": {},
   "outputs": [],
   "source": []
  },
  {
   "cell_type": "code",
   "execution_count": null,
   "metadata": {},
   "outputs": [],
   "source": [
    "#even_disp_eq_fa(x)"
   ]
  },
  {
   "cell_type": "markdown",
   "metadata": {},
   "source": [
    "Решение получено.\n",
    "\n",
    "Теперь посчитаем:\n",
    "\n",
    "1) пондеромоторную силу, приложенную к идеальному проводнику\n",
    "\n",
    "2) пондеромоторную силу, приложенную к границе диэлектрика и вакуума\n"
   ]
  },
  {
   "cell_type": "code",
   "execution_count": null,
   "metadata": {},
   "outputs": [],
   "source": []
  },
  {
   "cell_type": "markdown",
   "metadata": {},
   "source": [
    "1) пондеромоторная сила, приложенная к идеальному проводнику"
   ]
  },
  {
   "cell_type": "code",
   "execution_count": null,
   "metadata": {},
   "outputs": [],
   "source": [
    "# superconductor force\n",
    "# additional 1/2 arises as result of integration on period\n",
    "#f_superconductor = - abs((even_H_inner_vacuum_y (0)^2) / (2*8*pi))\n",
    "f_superconductor = - (Hy_vacuum_d (x=-A).real()^2 + Hy_vacuum_d (x=-A).imag()^2) / (2*8*pi)\n",
    "print(\"f_superconductor =\", f_superconductor.n())"
   ]
  },
  {
   "cell_type": "markdown",
   "metadata": {},
   "source": [
    "2) пондеромоторная сила, приложенная к плохому проводнику"
   ]
  },
  {
   "cell_type": "code",
   "execution_count": null,
   "metadata": {},
   "outputs": [],
   "source": [
    "# bad conductor force\n",
    "# additional 1/2 arises as result of integration on period\n",
    "#f_bad_conductor = abs((even_H_inner_vacuum_y (a)^2) / (2*8*pi))\n",
    "f_bad_conductor = (Hy_vacuum_d (x=0).real()^2 + Hy_vacuum_d (x=0).imag()^2) / (2*8*pi)\n",
    "\n",
    "print(\"f_bad_conductor =\", f_bad_conductor.n())"
   ]
  },
  {
   "cell_type": "code",
   "execution_count": null,
   "metadata": {},
   "outputs": [],
   "source": []
  },
  {
   "cell_type": "code",
   "execution_count": null,
   "metadata": {},
   "outputs": [],
   "source": [
    "(f_superconductor + f_bad_conductor).n()"
   ]
  },
  {
   "cell_type": "code",
   "execution_count": null,
   "metadata": {},
   "outputs": [],
   "source": []
  },
  {
   "cell_type": "code",
   "execution_count": null,
   "metadata": {},
   "outputs": [],
   "source": [
    "# bad conductor force\n",
    "# additional 1/2 arises as result of integration on period\n",
    "# _bad_conductor = (1.0 - epsilon) *(even_E_inner_vacuum_z (a)^2) / (2*8*pi)\n",
    "p_bad_conductor = (1.0 - epsilon_d) * (Ez_vacuum_d (x=0).real()^2 + Ez_vacuum_d (x=0).imag()^2) / (2*8*pi)\n",
    "p_bad_conductor = (1.0 - epsilon_d) * (Ez_vacuum_d (x=0).abs()^2) / (2*8*pi)\n",
    "p_bad_conductor_complex = -(((1.0 - epsilon_complex) * (Ez_vacuum_d (x=0)))*(Ez_vacuum_d (x=0)) / (2*8*pi)).subs(digit_values).abs()\n",
    "#p_bad_conductor = (((1.0 - epsilon_d) * (Ez_vacuum_d (x=0)))*(Ez_vacuum_d (x=0)) / (2*8*pi)).subs(digit_values).abs()\n",
    "\n",
    "print(\"p_bad_conductor =\", p_bad_conductor.n())\n",
    "print(\"p_bad_conductor_complex =\", p_bad_conductor_complex.n())"
   ]
  },
  {
   "cell_type": "code",
   "execution_count": null,
   "metadata": {},
   "outputs": [],
   "source": []
  },
  {
   "cell_type": "code",
   "execution_count": null,
   "metadata": {
    "scrolled": true
   },
   "outputs": [],
   "source": [
    "# super conductor tension\n",
    "# additional 1/2 arises as result of integration on period\n",
    "# epsilon_superconductor -> Infinity\n",
    "# 1 / epsilon_superconductor -> 0.0\n",
    "#t_super_conductor = (0.0 - 1/1.) *(even_E_inner_vacuum_x (0).imag()^2 + even_E_inner_vacuum_x(0).real()^2) / (2*8*pi)\n",
    "t_super_conductor = (0.0 - 1/1.) *(Ex_vacuum_d (x=-A).imag()^2 + Ex_vacuum_d(x=-A).real()^2) / (2*8*pi)\n",
    "print(\"t_super_conductor =\", t_super_conductor.n())"
   ]
  },
  {
   "cell_type": "code",
   "execution_count": null,
   "metadata": {},
   "outputs": [],
   "source": [
    "# bad conductor force\n",
    "# additional 1/2 arises as result of integration on period\n",
    "#t_bad_conductor = (1.0/1.0 - 1/epsilon) *(even_E_inner_vacuum_x (a).imag()^2 + even_E_inner_vacuum_x(a).real()^2) / (2*8*pi)\n",
    "t_bad_conductor = (1.0/1.0 - 1/epsilon_d) *(Ex_vacuum_d (x=0).imag()^2 + Ex_vacuum_d(x=0).real()^2) / (2*8*pi)\n",
    "t_bad_conductor = (((1.0/1.0 - 1/epsilon_d) * Ex_vacuum_d (x=0)) * Ex_vacuum_d(x=0) / (2*8*pi)).subs(digit_values).abs()\n",
    "t_bad_conductor_complex = (((1.0/1.0 - 1/epsilon_complex) * Ex_vacuum_d (x=0)) * Ex_vacuum_d(x=0) / (2*8*pi)).subs(digit_values).abs()\n",
    "print(\"t_bad_conductor =\", t_bad_conductor.n())\n",
    "print(\"t_bad_conductor_complex =\", t_bad_conductor_complex.n())"
   ]
  },
  {
   "cell_type": "code",
   "execution_count": null,
   "metadata": {},
   "outputs": [],
   "source": []
  },
  {
   "cell_type": "markdown",
   "metadata": {},
   "source": [
    "Результаты вычислений показывают, что тяга в волновом двигателе с внутренним расходом энергии Ф.Ф.Менде (MenDrive) ненулевая и равна"
   ]
  },
  {
   "cell_type": "code",
   "execution_count": null,
   "metadata": {},
   "outputs": [],
   "source": [
    "(f_superconductor + f_bad_conductor + t_super_conductor + t_bad_conductor_complex).n()"
   ]
  },
  {
   "cell_type": "code",
   "execution_count": null,
   "metadata": {},
   "outputs": [],
   "source": [
    "(f_superconductor + f_bad_conductor + t_super_conductor + t_bad_conductor_complex - p_bad_conductor_complex).n()"
   ]
  },
  {
   "cell_type": "code",
   "execution_count": null,
   "metadata": {},
   "outputs": [],
   "source": [
    "(f_superconductor + f_bad_conductor).n()"
   ]
  },
  {
   "cell_type": "code",
   "execution_count": null,
   "metadata": {},
   "outputs": [],
   "source": [
    "(t_super_conductor + t_bad_conductor_complex).n()"
   ]
  },
  {
   "cell_type": "code",
   "execution_count": null,
   "metadata": {},
   "outputs": [],
   "source": [
    "-p_bad_conductor.n()"
   ]
  },
  {
   "cell_type": "markdown",
   "metadata": {},
   "source": [
    "положительный знак соответствует направлению тяги в сторону увеличения значений x"
   ]
  },
  {
   "cell_type": "code",
   "execution_count": null,
   "metadata": {},
   "outputs": [],
   "source": []
  },
  {
   "cell_type": "code",
   "execution_count": null,
   "metadata": {},
   "outputs": [],
   "source": [
    "# test found solution with Maxwell equations"
   ]
  },
  {
   "cell_type": "markdown",
   "metadata": {},
   "source": [
    "$$rot\\,\\vec{E} = \\mu\\,\\frac{i\\,\\omega}{c}\\,\\vec{H}$$\n",
    "\n",
    "$$rot\\,\\vec{H} = \\frac{1}{c}\\frac{\\partial \\vec D}{\\partial t} + \\frac{4\\pi}{c} \\vec j = - \\frac{i\\,\\omega}{c} \\epsilon \\vec{E} + \\frac{4\\pi}{c}\\sigma \\vec E$$\n",
    "\n",
    "$$rot\\,rot\\,\\vec{E} = \\mu\\,\\frac{i\\,\\omega}{c}rot\\,\\vec{H}$$\n",
    "\n",
    "$$rot\\,rot\\,\\vec{E} = \\mu\\,\\frac{i\\,\\omega}{c}\\left(- \\frac{i\\,\\omega}{c} \\epsilon \\vec{E} + \\frac{4\\pi}{c}\\sigma \\vec E\\right)$$\n",
    "\n",
    "$$rot\\,rot\\,\\vec{E} = \\epsilon \\mu\\,\\frac{\\omega^2}{c^2} \\vec{E} + i\\,\\omega\\,\\sigma\\,\\mu\\,\\frac{4\\pi}{c^2} \\vec E$$\n",
    "\n",
    "$$rot\\,rot\\,\\vec{E} = grad\\,div\\,\\vec{E} - Laplasian\\,\\vec{E}$$\n",
    "\n",
    "$$Laplasian\\,\\vec{E} + \\epsilon \\mu \\frac{\\omega^2}{c^2}\\,\\vec{E} + i\\,\\omega\\,\\sigma\\,\\mu\\,\\frac{4\\pi}{c^2} \\vec E - grad\\,div\\,\\vec{E} = 0$$"
   ]
  },
  {
   "cell_type": "code",
   "execution_count": null,
   "metadata": {},
   "outputs": [],
   "source": [
    "Hy_vacuum_d(x=x)*e^(I*k_z*z), Hy_bad_conductor_d(x=x)"
   ]
  },
  {
   "cell_type": "code",
   "execution_count": null,
   "metadata": {},
   "outputs": [],
   "source": [
    "# уравнение Максвелла для тока смещения\n",
    "# rot_H   = - I * epsilon * omega / c * E\n",
    "# rot_H_x = diff(H_z, y) - diff(H_y, z)\n",
    "# rot_H_y = diff(H_x, z) - diff(H_z, x)\n",
    "# rot_H_z = diff(H_y, x) - diff(H_x, y)"
   ]
  },
  {
   "cell_type": "code",
   "execution_count": null,
   "metadata": {},
   "outputs": [],
   "source": [
    "rot_H_vacuum_x_d = - diff(Hy_vacuum_d(x=x)*e^(I*k_z*z), z).subs(k_z == kz + I * sz).subs(k_z_sol)\n",
    "rot_H_vacuum_y_d =   0\n",
    "rot_H_vacuum_z_d =   diff(Hy_vacuum_d(x=x)*e^(I*k_z*z), x).subs(k_z == kz + I * sz).subs(k_z_sol)"
   ]
  },
  {
   "cell_type": "code",
   "execution_count": null,
   "metadata": {},
   "outputs": [],
   "source": [
    "eq_rot_H_vacuum_x_d = rot_H_vacuum_x_d == \\\n",
    "(-I*omega/c*Ex_vacuum_d(x=x)*e^(I*k_z*z)).subs(k_z == kz + I * sz).subs(k_z_sol).subs(digit_values)"
   ]
  },
  {
   "cell_type": "code",
   "execution_count": null,
   "metadata": {},
   "outputs": [],
   "source": [
    "eq_rot_H_vacuum_z_d = rot_H_vacuum_z_d == \\\n",
    "(-I*omega/c*Ez_vacuum_d(x=x)*e^(I*k_z*z)).subs(k_z == kz + I * sz).subs(k_z_sol).subs(digit_values)"
   ]
  },
  {
   "cell_type": "code",
   "execution_count": null,
   "metadata": {},
   "outputs": [],
   "source": []
  },
  {
   "cell_type": "code",
   "execution_count": null,
   "metadata": {},
   "outputs": [],
   "source": [
    "eq_rot_H_vacuum_x_d"
   ]
  },
  {
   "cell_type": "code",
   "execution_count": null,
   "metadata": {},
   "outputs": [],
   "source": [
    "eq_rot_H_vacuum_z_d"
   ]
  },
  {
   "cell_type": "code",
   "execution_count": null,
   "metadata": {},
   "outputs": [],
   "source": []
  },
  {
   "cell_type": "code",
   "execution_count": null,
   "metadata": {},
   "outputs": [],
   "source": [
    "(eq_rot_H_vacuum_x_d.rhs() / eq_rot_H_vacuum_x_d.lhs()).n()"
   ]
  },
  {
   "cell_type": "code",
   "execution_count": null,
   "metadata": {},
   "outputs": [],
   "source": [
    "(eq_rot_H_vacuum_z_d.rhs() / eq_rot_H_vacuum_z_d.lhs()).variables()"
   ]
  },
  {
   "cell_type": "code",
   "execution_count": null,
   "metadata": {},
   "outputs": [],
   "source": [
    "plot((eq_rot_H_vacuum_z_d.rhs() / eq_rot_H_vacuum_z_d.lhs()).real(), (x, -A, 0))"
   ]
  },
  {
   "cell_type": "code",
   "execution_count": null,
   "metadata": {},
   "outputs": [],
   "source": [
    "plt =  plot(eq_rot_H_vacuum_z_d.rhs().real().subs(z == 0), (x, -A, 0))\n",
    "plt += plot(eq_rot_H_vacuum_z_d.lhs().real().subs(z == 0), (x, -A, 0))\n",
    "plt.show()"
   ]
  },
  {
   "cell_type": "code",
   "execution_count": null,
   "metadata": {},
   "outputs": [],
   "source": [
    "plot((eq_rot_H_vacuum_z_d.rhs() / eq_rot_H_vacuum_z_d.lhs()).imag(), (x, -A, 0))"
   ]
  },
  {
   "cell_type": "code",
   "execution_count": null,
   "metadata": {},
   "outputs": [],
   "source": [
    "plt = plot(eq_rot_H_vacuum_z_d.rhs().imag().subs(z == 0), (x, -A, 0))\n",
    "plt += plot(eq_rot_H_vacuum_z_d.lhs().imag().subs(z == 0), (x, -A, 0))\n",
    "plt.show()"
   ]
  },
  {
   "cell_type": "code",
   "execution_count": null,
   "metadata": {},
   "outputs": [],
   "source": []
  },
  {
   "cell_type": "markdown",
   "metadata": {},
   "source": [
    "$$rot\\,\\vec{H} = \\frac{1}{c}\\frac{\\partial \\vec D}{\\partial t} + \\frac{4\\pi}{c} \\vec j = - \\frac{i\\,\\omega}{c} \\epsilon \\vec{E} + \\frac{4\\pi}{c}\\sigma \\vec E$$"
   ]
  },
  {
   "cell_type": "code",
   "execution_count": null,
   "metadata": {},
   "outputs": [],
   "source": [
    "# уравнение Максвелла для тока смещения\n",
    "# rot_H   = - I * epsilon * omega / c * E + 4 * pi / c * sigma * E\n",
    "# rot_H_x = diff(H_z, y) - diff(H_y, z)\n",
    "# rot_H_y = diff(H_x, z) - diff(H_z, x)\n",
    "# rot_H_z = diff(H_y, x) - diff(H_x, y)"
   ]
  },
  {
   "cell_type": "code",
   "execution_count": null,
   "metadata": {},
   "outputs": [],
   "source": [
    "rot_H_conductor_x_d = - diff(Hy_bad_conductor_d(x=x)*e^(I*k_z*z), z).subs(k_z == kz + I * sz).subs(k_z_sol)\n",
    "rot_H_conductor_y_d =   0\n",
    "rot_H_conductor_z_d =   diff(Hy_bad_conductor_d(x=x)*e^(I*k_z*z), x).subs(k_z == kz + I * sz).subs(k_z_sol)"
   ]
  },
  {
   "cell_type": "code",
   "execution_count": null,
   "metadata": {},
   "outputs": [],
   "source": [
    "Hy_bad_conductor = c * (eq_8_subs3.rhs()*kappa        / (mu  *omega))#.subs(K_conductor_subs_d).subs(kappa_vacuum_sol).subs(kappa_sol).subs(k_z_sol_subs).subs(eqEz_a).subs(A1_x_re_im_subs, A2_x_re_im_subs)\n",
    "Hy_vacuum        = c * (eq_6_subs3.rhs()*kappa_vacuum / (mu_0*omega))#.subs(K_vacuum_subs_d)   .subs(kappa_vacuum_sol).subs(kappa_sol).subs(k_z_sol_subs).subs(eqEz_a).subs(A1_x_re_im_subs, A2_x_re_im_subs)"
   ]
  },
  {
   "cell_type": "code",
   "execution_count": null,
   "metadata": {},
   "outputs": [],
   "source": [
    "rot_H_conductor_x = - diff(Hy_bad_conductor(x=x)*e^(I*k_z*z), z)#.subs(k_z == kz + I * sz).subs(k_z_sol)\n",
    "rot_H_conductor_y =   0\n",
    "rot_H_conductor_z =   diff(Hy_bad_conductor(x=x)*e^(I*k_z*z), x)#.subs(k_z == kz + I * sz).subs(k_z_sol)"
   ]
  },
  {
   "cell_type": "code",
   "execution_count": null,
   "metadata": {},
   "outputs": [],
   "source": [
    "eq_rot_H_conductor_x_d = rot_H_conductor_x_d == \\\n",
    "((-I*epsilon_complex*omega/c) * Ex_bad_conductor_d(x=x)*e^(I*k_z*z)).subs(k_z == kz + I * sz).subs(k_z_sol).subs(digit_values)"
   ]
  },
  {
   "cell_type": "code",
   "execution_count": null,
   "metadata": {},
   "outputs": [],
   "source": [
    "tst_eq = (kappa == sqrt(epsilon_complex * mu) * omega/c).subs(kappa_sol).subs(digit_values)\n",
    "tst_eq.lhs().n(), tst_eq.rhs().n()"
   ]
  },
  {
   "cell_type": "code",
   "execution_count": null,
   "metadata": {},
   "outputs": [],
   "source": [
    "eq_7_subs3, eq_7_subs4"
   ]
  },
  {
   "cell_type": "code",
   "execution_count": null,
   "metadata": {},
   "outputs": [],
   "source": [
    "eq_8_subs3"
   ]
  },
  {
   "cell_type": "code",
   "execution_count": null,
   "metadata": {},
   "outputs": [],
   "source": [
    "rot_H_conductor_x"
   ]
  },
  {
   "cell_type": "code",
   "execution_count": null,
   "metadata": {},
   "outputs": [],
   "source": [
    "eq_rot_H_conductor_x = rot_H_conductor_x == \\\n",
    "((-I*epsilon_complex*omega/c) * Ex_bad_conductor(x=x)*e^(I*k_z*z))#.subs(k_z == kz + I * sz).subs(k_z_sol).subs(digit_values)"
   ]
  },
  {
   "cell_type": "code",
   "execution_count": null,
   "metadata": {},
   "outputs": [],
   "source": [
    "display(Math(latex(eq_rot_H_conductor_x)))"
   ]
  },
  {
   "cell_type": "code",
   "execution_count": null,
   "metadata": {},
   "outputs": [],
   "source": [
    "(eq_rot_H_conductor_x.lhs() / eq_rot_H_conductor_x.rhs())"
   ]
  },
  {
   "cell_type": "code",
   "execution_count": null,
   "metadata": {},
   "outputs": [],
   "source": [
    "(eq_rot_H_conductor_x.lhs() / eq_rot_H_conductor_x.rhs())*(-I*epsilon_complex*omega/c)"
   ]
  },
  {
   "cell_type": "code",
   "execution_count": null,
   "metadata": {},
   "outputs": [],
   "source": []
  },
  {
   "cell_type": "code",
   "execution_count": null,
   "metadata": {},
   "outputs": [],
   "source": [
    "(eq_rot_H_conductor_x.lhs() / eq_rot_H_conductor_x.rhs()).subs(kappa_sol)"
   ]
  },
  {
   "cell_type": "code",
   "execution_count": null,
   "metadata": {},
   "outputs": [],
   "source": [
    "(eq_rot_H_conductor_x.lhs() / eq_rot_H_conductor_x.rhs()).subs(kappa_sol).subs(digit_values).n()"
   ]
  },
  {
   "cell_type": "code",
   "execution_count": null,
   "metadata": {},
   "outputs": [],
   "source": [
    "(eq_rot_H_conductor_x.lhs() / eq_rot_H_conductor_x.rhs()).subs(kappa_sol).subs(digit_values).abs().n()"
   ]
  },
  {
   "cell_type": "code",
   "execution_count": null,
   "metadata": {},
   "outputs": [],
   "source": [
    "display(Math(latex(Hy_bad_conductor_d(x=x))))"
   ]
  },
  {
   "cell_type": "code",
   "execution_count": null,
   "metadata": {},
   "outputs": [],
   "source": [
    "display(Math(latex(Hy_bad_conductor_d(x=0).n())))"
   ]
  },
  {
   "cell_type": "code",
   "execution_count": null,
   "metadata": {},
   "outputs": [],
   "source": [
    "Ex_bad_conductor_d(x=0).n()"
   ]
  },
  {
   "cell_type": "code",
   "execution_count": null,
   "metadata": {},
   "outputs": [],
   "source": [
    "(Ex_bad_conductor_d(x=0)*(-I*epsilon_complex*omega/c).subs(digit_values)).n()"
   ]
  },
  {
   "cell_type": "code",
   "execution_count": null,
   "metadata": {},
   "outputs": [],
   "source": [
    "(Ez_bad_conductor_d(x=0)*(-I*epsilon_complex*omega/c).subs(digit_values)).n()"
   ]
  },
  {
   "cell_type": "code",
   "execution_count": null,
   "metadata": {},
   "outputs": [],
   "source": [
    "Ez_bad_conductor_d(x=0)"
   ]
  },
  {
   "cell_type": "code",
   "execution_count": null,
   "metadata": {},
   "outputs": [],
   "source": [
    "eq_rot_H_conductor_z_d = rot_H_conductor_z_d == \\\n",
    "((-I*epsilon_complex*omega/c)*Ez_bad_conductor_d(x=x)*e^(I*k_z*z)).subs(k_z == kz + I * sz).subs(k_z_sol).subs(digit_values)"
   ]
  },
  {
   "cell_type": "code",
   "execution_count": null,
   "metadata": {},
   "outputs": [],
   "source": [
    "eq_rot_H_conductor_x_d"
   ]
  },
  {
   "cell_type": "code",
   "execution_count": null,
   "metadata": {},
   "outputs": [],
   "source": [
    "eq_rot_H_conductor_z_d"
   ]
  },
  {
   "cell_type": "code",
   "execution_count": null,
   "metadata": {},
   "outputs": [],
   "source": []
  },
  {
   "cell_type": "code",
   "execution_count": null,
   "metadata": {},
   "outputs": [],
   "source": [
    "(eq_rot_H_conductor_x_d.lhs() / eq_rot_H_conductor_x_d.rhs()).n()"
   ]
  },
  {
   "cell_type": "code",
   "execution_count": null,
   "metadata": {},
   "outputs": [],
   "source": [
    "(eq_rot_H_conductor_x_d.lhs() / eq_rot_H_conductor_x_d.rhs()).abs().n()"
   ]
  },
  {
   "cell_type": "code",
   "execution_count": null,
   "metadata": {},
   "outputs": [],
   "source": [
    "(eq_rot_H_conductor_z_d.lhs() / eq_rot_H_conductor_z_d.rhs()).n()"
   ]
  },
  {
   "cell_type": "code",
   "execution_count": null,
   "metadata": {},
   "outputs": [],
   "source": [
    "kappa_sol, kappa_sol.subs(digit_values).rhs().abs().n()^2#*epsilon_complex.subs(digit_values).abs()^2"
   ]
  },
  {
   "cell_type": "code",
   "execution_count": null,
   "metadata": {},
   "outputs": [],
   "source": [
    "((kz^2+sz^2).subs(k_z_sol)).n()"
   ]
  },
  {
   "cell_type": "code",
   "execution_count": null,
   "metadata": {},
   "outputs": [],
   "source": [
    "kappa_sol.subs(digit_values).rhs().abs().n()^2/((kz^2+sz^2).subs(k_z_sol)).n()"
   ]
  },
  {
   "cell_type": "code",
   "execution_count": null,
   "metadata": {},
   "outputs": [],
   "source": [
    "epsilon_complex.subs(digit_values).abs().n()"
   ]
  },
  {
   "cell_type": "code",
   "execution_count": null,
   "metadata": {},
   "outputs": [],
   "source": []
  },
  {
   "cell_type": "code",
   "execution_count": null,
   "metadata": {},
   "outputs": [],
   "source": []
  },
  {
   "cell_type": "code",
   "execution_count": null,
   "metadata": {},
   "outputs": [],
   "source": []
  },
  {
   "cell_type": "code",
   "execution_count": null,
   "metadata": {},
   "outputs": [],
   "source": [
    "Ez_vacuum_d (x=x), Ez_bad_conductor_d (x=x)"
   ]
  },
  {
   "cell_type": "code",
   "execution_count": null,
   "metadata": {},
   "outputs": [],
   "source": [
    "Ex_vacuum_d (x), Ex_bad_conductor_d (x)"
   ]
  },
  {
   "cell_type": "markdown",
   "metadata": {},
   "source": [
    "$$rot\\,\\vec{E} = \\mu\\,\\frac{i\\,\\omega}{c}\\,\\vec{H}$$"
   ]
  },
  {
   "cell_type": "code",
   "execution_count": null,
   "metadata": {},
   "outputs": [],
   "source": [
    "# уравнение Максвелла для\n",
    "# rot_E   = I * mu * omega / c * H\n",
    "# rot_E_x = diff(E_z, y) - diff(E_y, z)\n",
    "# rot_E_y = diff(E_x, z) - diff(E_z, x)\n",
    "# rot_E_z = diff(E_y, x) - diff(E_x, y)"
   ]
  },
  {
   "cell_type": "code",
   "execution_count": null,
   "metadata": {},
   "outputs": [],
   "source": [
    "rot_E_vacuum_x_d = diff(Ez_vacuum_d(x)*e^(I*k_z*z), y)\n",
    "rot_E_vacuum_y_d = diff(Ex_vacuum_d(x)*e^(I*k_z*z), z) - diff(Ez_vacuum_d(x)*e^(I*k_z*z), x)\n",
    "rot_E_vacuum_z_d = - diff(Ex_vacuum_d(x)*e^(I*k_z*z), y)"
   ]
  },
  {
   "cell_type": "code",
   "execution_count": null,
   "metadata": {},
   "outputs": [],
   "source": [
    "eq_rot_E_vacuum_x_d = rot_E_vacuum_x_d == \\\n",
    "(I * omega / c * 0)"
   ]
  },
  {
   "cell_type": "code",
   "execution_count": null,
   "metadata": {},
   "outputs": [],
   "source": [
    "eq_rot_E_vacuum_y_d = (rot_E_vacuum_y_d == \\\n",
    "I * mu * omega / c * Hy_vacuum_d(x)*e^(I*k_z*z)).subs(k_z == kz + I * sz).subs(k_z_sol).subs(digit_values)"
   ]
  },
  {
   "cell_type": "code",
   "execution_count": null,
   "metadata": {},
   "outputs": [],
   "source": [
    "eq_rot_E_vacuum_z_d = rot_E_vacuum_z_d == \\\n",
    "(I * mu * omega / c * 0)"
   ]
  },
  {
   "cell_type": "code",
   "execution_count": null,
   "metadata": {},
   "outputs": [],
   "source": []
  },
  {
   "cell_type": "code",
   "execution_count": null,
   "metadata": {},
   "outputs": [],
   "source": [
    "eq_rot_E_vacuum_x_d"
   ]
  },
  {
   "cell_type": "code",
   "execution_count": null,
   "metadata": {},
   "outputs": [],
   "source": [
    "eq_rot_E_vacuum_y_d"
   ]
  },
  {
   "cell_type": "code",
   "execution_count": null,
   "metadata": {},
   "outputs": [],
   "source": [
    "eq_rot_E_vacuum_z_d"
   ]
  },
  {
   "cell_type": "code",
   "execution_count": null,
   "metadata": {},
   "outputs": [],
   "source": [
    "(eq_rot_E_vacuum_y_d.rhs() / eq_rot_E_vacuum_y_d.lhs()).variables()"
   ]
  },
  {
   "cell_type": "code",
   "execution_count": null,
   "metadata": {},
   "outputs": [],
   "source": [
    "plt = plot(eq_rot_E_vacuum_y_d.rhs().real().subs(z == 0), (x, -A, 0))\n",
    "plt += plot(eq_rot_E_vacuum_y_d.lhs().real().subs(z == 0), (x, -A, 0))\n",
    "plt.show()"
   ]
  },
  {
   "cell_type": "code",
   "execution_count": null,
   "metadata": {},
   "outputs": [],
   "source": [
    "plt = plot(eq_rot_E_vacuum_y_d.rhs().imag().subs(z == 0), (x, -A, 0))\n",
    "plt += plot(eq_rot_E_vacuum_y_d.lhs().imag().subs(z == 0), (x, -A, 0))\n",
    "plt.show()"
   ]
  },
  {
   "cell_type": "code",
   "execution_count": null,
   "metadata": {},
   "outputs": [],
   "source": [
    "plt = plot(eq_rot_E_vacuum_y_d.rhs().abs().subs(z == 0), (x, -A, 0))\n",
    "plt += plot(eq_rot_E_vacuum_y_d.lhs().abs().subs(z == 0), (x, -A, 0))\n",
    "plt.show()"
   ]
  },
  {
   "cell_type": "code",
   "execution_count": null,
   "metadata": {},
   "outputs": [],
   "source": []
  },
  {
   "cell_type": "code",
   "execution_count": null,
   "metadata": {},
   "outputs": [],
   "source": [
    "# уравнение Максвелла для\n",
    "# rot_E   = I * mu * omega / c * H\n",
    "# rot_E_x = diff(E_z, y) - diff(E_y, z)\n",
    "# rot_E_y = diff(E_x, z) - diff(E_z, x)\n",
    "# rot_E_z = diff(E_y, x) - diff(E_x, y)"
   ]
  },
  {
   "cell_type": "code",
   "execution_count": null,
   "metadata": {},
   "outputs": [],
   "source": [
    "rot_E_conductor_x_d = diff(Ez_bad_conductor_d(x)*e^(I*k_z*z), y)\n",
    "rot_E_conductor_y_d = diff(Ex_bad_conductor_d(x)*e^(I*k_z*z), z) - diff(Ez_bad_conductor_d(x)*e^(I*k_z*z), x)\n",
    "rot_E_conductor_z_d = - diff(Ex_bad_conductor_d(x)*e^(I*k_z*z), y)"
   ]
  },
  {
   "cell_type": "code",
   "execution_count": null,
   "metadata": {},
   "outputs": [],
   "source": [
    "eq_rot_E_conductor_x_d = rot_E_conductor_x_d == \\\n",
    "(I * mu * omega / c * 0)"
   ]
  },
  {
   "cell_type": "code",
   "execution_count": null,
   "metadata": {},
   "outputs": [],
   "source": [
    "eq_rot_E_conductor_y_d = (rot_E_conductor_y_d == \\\n",
    "I * mu * omega / c * Hy_bad_conductor_d(x)*e^(I*k_z*z)).subs(k_z == kz + I * sz).subs(k_z_sol).subs(digit_values)"
   ]
  },
  {
   "cell_type": "code",
   "execution_count": null,
   "metadata": {},
   "outputs": [],
   "source": [
    "eq_rot_E_conductor_z_d = rot_E_conductor_z_d == \\\n",
    "(I * mu * omega / c * 0)"
   ]
  },
  {
   "cell_type": "code",
   "execution_count": null,
   "metadata": {},
   "outputs": [],
   "source": []
  },
  {
   "cell_type": "code",
   "execution_count": null,
   "metadata": {},
   "outputs": [],
   "source": [
    "eq_rot_E_conductor_x_d"
   ]
  },
  {
   "cell_type": "code",
   "execution_count": null,
   "metadata": {},
   "outputs": [],
   "source": [
    "eq_rot_E_conductor_y_d"
   ]
  },
  {
   "cell_type": "code",
   "execution_count": null,
   "metadata": {},
   "outputs": [],
   "source": [
    "eq_rot_E_conductor_z_d"
   ]
  },
  {
   "cell_type": "code",
   "execution_count": null,
   "metadata": {},
   "outputs": [],
   "source": [
    "(eq_rot_E_conductor_y_d.rhs() / eq_rot_E_conductor_y_d.lhs()).variables()"
   ]
  },
  {
   "cell_type": "code",
   "execution_count": null,
   "metadata": {},
   "outputs": [],
   "source": []
  },
  {
   "cell_type": "code",
   "execution_count": null,
   "metadata": {},
   "outputs": [],
   "source": [
    "plt = plot(eq_rot_E_conductor_y_d.rhs().real().subs(z == 0), (x, 0, A))\n",
    "plt += plot(eq_rot_E_conductor_y_d.lhs().real().subs(z == 0), (x, 0, A))\n",
    "plt.show()"
   ]
  },
  {
   "cell_type": "code",
   "execution_count": null,
   "metadata": {},
   "outputs": [],
   "source": [
    "plt = plot(eq_rot_E_conductor_y_d.rhs().imag().subs(z == 0), (x, 0, A))\n",
    "plt += plot(eq_rot_E_conductor_y_d.lhs().imag().subs(z == 0), (x, 0, A))\n",
    "plt.show()"
   ]
  },
  {
   "cell_type": "code",
   "execution_count": null,
   "metadata": {},
   "outputs": [],
   "source": []
  },
  {
   "cell_type": "code",
   "execution_count": null,
   "metadata": {},
   "outputs": [],
   "source": [
    "#test found solution with boundary conditions"
   ]
  },
  {
   "cell_type": "code",
   "execution_count": null,
   "metadata": {},
   "outputs": [],
   "source": []
  },
  {
   "cell_type": "code",
   "execution_count": null,
   "metadata": {},
   "outputs": [],
   "source": [
    "# граничные условия на границе идеального проводника и вакуума внутри резонатора\n",
    "# тангенциальная компонента электрического поля\n",
    "eqEz_0_d  = Ez_vacuum_d (-A) == 0\n",
    "#eqEy_0_d  = even_E_inner_vacuum_y_d (0) == 0\n",
    "\n",
    "print (\"eqEz_0_d.real = \")\n",
    "display(Math(latex(eqEz_0_d.lhs().real().n())))\n",
    "print (\"eqEz_0_d.imag = \")\n",
    "display(Math(latex(eqEz_0_d.lhs().imag().n())))\n"
   ]
  },
  {
   "cell_type": "code",
   "execution_count": null,
   "metadata": {},
   "outputs": [],
   "source": [
    "# граничные условия на границе вакуума внутри резонатора и проводящего металла с потерями\n",
    "# тангенциальная компонента электрического поля\n",
    "eqEz_a_d  = Ez_vacuum_d (0) == Ez_bad_conductor_d (0)\n",
    "#eqEy_a  = E_inner_vacuum_y (a) == E_bad_conductor_y (a)\n",
    "\n",
    "print (\"eqEz_a_d = \")\n",
    "display(Math(latex(eqEz_a_d)))\n",
    "#print (\"eqEy_a = \")\n",
    "#display(Math(latex(eqEy_a)))"
   ]
  },
  {
   "cell_type": "code",
   "execution_count": null,
   "metadata": {},
   "outputs": [],
   "source": [
    "# нормальная компонента электрического смещения\n",
    "eqDx_a_d  = Ex_vacuum_d (A) == (Ex_bad_conductor_d (A) * epsilon_complex).subs(digit_values)\n",
    "\n",
    "print (\"eqDx_a_d =\")\n",
    "display(Math(latex(eqDx_a_d.lhs().n())))\n",
    "display(Math(latex(eqDx_a_d.rhs().n())))"
   ]
  },
  {
   "cell_type": "code",
   "execution_count": null,
   "metadata": {},
   "outputs": [],
   "source": [
    "# тангенциальная компонента напряженности магнитного поля\n",
    "#eqHz_a_d  = even_H_bad_conductor_z_d (A)  == even_H_inner_vacuum_z_d (A)\n",
    "eqHy_a_d  = Hy_bad_conductor_d (0)  == Hy_vacuum_d (0)\n",
    "\n",
    "#print (\"eqHz_a_d =\")\n",
    "#display(Math(latex(eqHz_a_d)))\n",
    "print (\"eqHy_a_d =\")\n",
    "display(Math(latex(eqHy_a_d.lhs().n())))\n",
    "display(Math(latex(eqHy_a_d.rhs().n())))"
   ]
  },
  {
   "cell_type": "raw",
   "metadata": {},
   "source": [
    "# нормальная компонента индукции магнитного поля\n",
    "eqBx_a  = mu * Hx_bad_conductor_d (a)  == Hx_inner_vacuum_d (a)\n",
    "\n",
    "print (\"eqBx_a =\")\n",
    "display(Math(latex(eqBx_a)))"
   ]
  },
  {
   "cell_type": "code",
   "execution_count": null,
   "metadata": {},
   "outputs": [],
   "source": []
  }
 ],
 "metadata": {
  "kernelspec": {
   "display_name": "SageMath 9.4.rc2",
   "language": "sage",
   "name": "sagemath"
  },
  "language_info": {
   "codemirror_mode": {
    "name": "ipython",
    "version": 3
   },
   "file_extension": ".py",
   "mimetype": "text/x-python",
   "name": "python",
   "nbconvert_exporter": "python",
   "pygments_lexer": "ipython3",
   "version": "3.9.5"
  }
 },
 "nbformat": 4,
 "nbformat_minor": 4
}
