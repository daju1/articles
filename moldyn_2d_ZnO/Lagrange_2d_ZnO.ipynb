{
 "cells": [
  {
   "cell_type": "code",
   "execution_count": 1,
   "id": "d6a80003",
   "metadata": {},
   "outputs": [],
   "source": [
    "from IPython.display import display, Math, Latex\n",
    "\n",
    "def disp(ex):\n",
    "    display(Math(latex(ex)))\n",
    "\n",
    "def displ(tex):\n",
    "    display(Math(tex))"
   ]
  },
  {
   "cell_type": "code",
   "execution_count": 2,
   "id": "87db9a65",
   "metadata": {},
   "outputs": [],
   "source": [
    "# ZnO   a = 3.25 c = 5.2   Wurtzite (HCP)\n",
    "# ZnO   4.580    Halite (FCC)\n",
    "\n",
    "L = 0.458 # nm\n",
    "\n",
    "l = var(\"l\") # 0.458 # nm\n",
    "assume(l, \"real\")\n",
    "assume(l > 0)\n",
    "\n",
    "k = var(\"k\") # 10000\n",
    "assume(k, \"real\")\n",
    "assume(k > 0)\n",
    "\n",
    "alpha = var(\"alpha\") # 5000\n",
    "assume(alpha, \"real\")\n",
    "assume(alpha > 0)\n",
    "\n",
    "beta = var(\"beta\")   # 5000\n",
    "assume(beta, \"real\")\n",
    "assume(beta > 0)\n",
    "\n",
    "m = var(\"m\")\n",
    "M = var(\"M\")\n",
    "t = var(\"t\")\n",
    "\n",
    "class Lagrange():\n",
    "\n",
    "    def __init__(self, rows, cols):\n",
    "        self.data = []\n",
    "        self.rows = rows\n",
    "        self.cols = cols\n",
    "        self.atom_count = self.rows * self.cols\n",
    "\n",
    "        self.x = []\n",
    "        self.y = []\n",
    "        \n",
    "        self.X = []\n",
    "        self.Y = []\n",
    "        \n",
    "        self.vx = []\n",
    "        self.vy = []\n",
    "        \n",
    "        self.Vx = []\n",
    "        self.Vy = []\n",
    "\n",
    "        for i in range(self.atom_count):\n",
    "\n",
    "            exec(preparse(\"self.X_\" + str(i) + \" = var(\\\"x_\" + str(i) + \"\\\"\"\")\"))\n",
    "            exec(preparse(\"self.Y_\" + str(i) + \" = var(\\\"y_\" + str(i) + \"\\\"\"\")\"))\n",
    "\n",
    "            exec(preparse(\"self.Vx_\" + str(i) + \" = var(\\\"vx_\" + str(i) + \"\\\"\"\")\"))\n",
    "            exec(preparse(\"self.Vy_\" + str(i) + \" = var(\\\"vy_\" + str(i) + \"\\\"\"\")\"))\n",
    "\n",
    "            exec(preparse(\"self.x_\" + str(i) + \" = function(\\\"x_\" + str(i) + \"\\\"\"\")(t)\"))\n",
    "            exec(preparse(\"self.y_\" + str(i) + \" = function(\\\"y_\" + str(i) + \"\\\"\"\")(t)\"))\n",
    "\n",
    "            exec(preparse(\"self.vx_\" + str(i) + \" = function(\\\"vx_\" + str(i) + \"\\\"\"\")(t)\"))\n",
    "            exec(preparse(\"self.vy_\" + str(i) + \" = function(\\\"vy_\" + str(i) + \"\\\"\"\")(t)\"))\n",
    "\n",
    "            exec(preparse(\"self.x += [self.x_\" + str(i) + \"]\"))\n",
    "            exec(preparse(\"self.y += [self.y_\" + str(i) + \"]\"))\n",
    "\n",
    "            exec(preparse(\"self.X += [self.X_\" + str(i) + \"]\"))\n",
    "            exec(preparse(\"self.Y += [self.Y_\" + str(i) + \"]\"))\n",
    "\n",
    "            exec(preparse(\"self.vx += [self.vx_\" + str(i) + \"]\"))\n",
    "            exec(preparse(\"self.vy += [self.vy_\" + str(i) + \"]\"))\n",
    "\n",
    "            exec(preparse(\"self.Vx += [self.Vx_\" + str(i) + \"]\"))\n",
    "            exec(preparse(\"self.Vy += [self.Vy_\" + str(i) + \"]\"))\n",
    "\n",
    "        self.vel = []; # [1.0e+3 m/s]\n",
    "        self.acc = []; # [1.0e+12 m/s^2]\n",
    "\n",
    "        self.mass = []; # [kg/mol]\n",
    "\n",
    "        self.f = [];\n",
    "        self.w = [];# workaround for bond's potential energy\n",
    "\n",
    "\n",
    "        self.crd0 = [];\n",
    "        self.crd  = [];\n",
    "        self.rc   = [];\n",
    "        self.nbr  = [];\n",
    "        self.nbri = [];\n",
    "\n",
    "        self.step_counter = 0;\n",
    "\n",
    "        self.sum_of_masses = 0.0; # [kg/mol]\n",
    "\n",
    "        self.switch_xy = False\n",
    "\n",
    "        counter = 0\n",
    "\n",
    "        for row in range(self.rows):\n",
    "            y0 = (row//4)*3*l\n",
    "            if (row%4) == 0:\n",
    "                y = 0 + y0\n",
    "                x0 = 0\n",
    "            elif (row%4) == 1:\n",
    "                y = l/2 + y0\n",
    "                x0 = l * (1/2*sqrt(3))\n",
    "            elif (row%4) == 2:\n",
    "                y = 3*l/2 + y0\n",
    "                x0 = l * (1/2*sqrt(3))\n",
    "            elif (row%4) == 3:\n",
    "                y = 2*l + y0\n",
    "                x0 = 0\n",
    "\n",
    "            for col in range(self.cols):\n",
    "                # self.mass += [65.38 if row%2 == 0 else 15.999]\n",
    "                # self.mass[counter] *= 1.6605402e-27 * 6.0221367e+23;\n",
    "                self.mass += [M if row%2 == 0 else m]\n",
    "\n",
    "                self.sum_of_masses += self.mass[counter];# kg/mol ; all atoms\n",
    "\n",
    "                x = x0 + col * l * sqrt(3)\n",
    "\n",
    "                self.rc.append([row, col])\n",
    "                self.crd.append([self.x[counter], -self.y[counter]])\n",
    "                self.crd0.append([x, -y])\n",
    "\n",
    "                #print(row, col, counter, x, y)\n",
    "\n",
    "                self.vel.append([self.x[counter].diff(t), -self.y[counter].diff(t)]);\n",
    "                self.acc.append([0.0, 0.0]);\n",
    "\n",
    "                self.f.append([0.0, 0.0]);\n",
    "                self.w.append(0.0);\n",
    "\n",
    "                if (row%4) == 0:\n",
    "                    nb1 = (row - 1, col)\n",
    "                    nb2 = (row + 1, col)\n",
    "                    nb3 = (row + 1, col - 1)\n",
    "                elif (row%4) == 1:\n",
    "                    nb1 = (row - 1, col)\n",
    "                    nb2 = (row - 1, col + 1)\n",
    "                    nb3 = (row + 1, col)\n",
    "                elif (row%4) == 2:\n",
    "                    nb1 = (row - 1, col)\n",
    "                    nb2 = (row + 1, col)\n",
    "                    nb3 = (row + 1, col + 1)\n",
    "                elif (row%4) == 3:\n",
    "                    nb1 = (row - 1, col - 1)\n",
    "                    nb2 = (row - 1, col)\n",
    "                    nb3 = (row + 1, col)\n",
    "\n",
    "                self.nbr.append([nb1, nb2, nb3])\n",
    "                self.nbri.append([self.nbr2index(nb1), self.nbr2index(nb2), self.nbr2index(nb3)])\n",
    "\n",
    "                counter+=1;\n",
    "\n",
    "    def nbr2index(self, nb):\n",
    "        r = nb[0]\n",
    "        c = nb[1]\n",
    "        return self.rc2index(r, c)\n",
    "\n",
    "    def rc2index(self, r, c):\n",
    "\n",
    "        if r < 0: r = self.rows - 1\n",
    "        if c < 0: c = self.cols - 1\n",
    "        if r == self.rows: r = 0\n",
    "        if c == self.cols: c = 0\n",
    "\n",
    "        index = self.cols * r + c\n",
    "\n",
    "        return index\n",
    "\n",
    "    def get_zink_crd(self):\n",
    "        if self.switch_xy:\n",
    "            return [[self.crd[self.rc2index(r, c)][1], self.crd[self.rc2index(r, c)][0]] for r in range(self.rows) for c in range(self.cols) if r%2 == 0 ]\n",
    "        return [self.crd[self.rc2index(r, c)] for r in range(self.rows) for c in range(self.cols) if r%2 == 0 ]\n",
    "\n",
    "    def get_zink_crd0(self):\n",
    "        if self.switch_xy:\n",
    "            return [[self.crd0[self.rc2index(r, c)][1], self.crd0[self.rc2index(r, c)][0]] for r in range(self.rows) for c in range(self.cols) if r%2 == 0 ]\n",
    "        return [self.crd0[self.rc2index(r, c)] for r in range(self.rows) for c in range(self.cols) if r%2 == 0 ]\n",
    "\n",
    "    def get_oxigen_crd(self):\n",
    "        if self.switch_xy:\n",
    "            return [[self.crd[self.rc2index(r, c)][1], self.crd[self.rc2index(r, c)][0]] for r in range(self.rows) for c in range(self.cols) if r%2 == 1 ]\n",
    "        return [self.crd[self.rc2index(r, c)] for r in range(self.rows) for c in range(self.cols) if r%2 == 1 ]\n",
    "\n",
    "    def get_oxigen_crd0(self):\n",
    "        if self.switch_xy:\n",
    "            return [[self.crd0[self.rc2index(r, c)][1], self.crd0[self.rc2index(r, c)][0]] for r in range(self.rows) for c in range(self.cols) if r%2 == 1 ]\n",
    "        return [self.crd0[self.rc2index(r, c)] for r in range(self.rows) for c in range(self.cols) if r%2 == 1 ]\n",
    "\n",
    "    def box_x(self):\n",
    "        return self.cols * l * sqrt(3)\n",
    "\n",
    "    def box_y(self):\n",
    "        return (self.rows//4) * 3 * l\n",
    "\n",
    "    def boundary_x(self, crd1, crd2):\n",
    "        if crd2[0] - crd1[0] > self.box_x() / 2:\n",
    "            return -1\n",
    "        if crd2[0] - crd1[0] < - self.box_x() / 2:\n",
    "            return +1\n",
    "        return 0\n",
    "\n",
    "    def boundary_y(self, crd1, crd2):\n",
    "        if crd2[1] - crd1[1] > self.box_y() / 2:\n",
    "            return -1\n",
    "        if crd2[1] - crd1[1] < - self.box_y() / 2:\n",
    "            return +1\n",
    "        return 0\n",
    "\n",
    "    def distance_x(self, crd1, crd2):\n",
    "        if crd2[0] - crd1[0] > self.box_x() / 2:\n",
    "            return crd2[0] - crd1[0] - self.box_x()\n",
    "        if crd2[0] - crd1[0] < - self.box_x() / 2:\n",
    "            return crd2[0] - crd1[0] + self.box_x()\n",
    "        return crd2[0] - crd1[0]\n",
    "\n",
    "    def distance_y(self, crd1, crd2):\n",
    "        if crd2[1] - crd1[1] > self.box_y() / 2:\n",
    "            return crd2[1] - crd1[1] - self.box_y()\n",
    "        if crd2[1] - crd1[1] < - self.box_y() / 2:\n",
    "            return crd2[1] - crd1[1] + self.box_y()\n",
    "        return crd2[1] - crd1[1]\n",
    "\n",
    "    def distance(self, crd1, crd2):\n",
    "        return sqrt(self.distance_x(crd1, crd2)**2 + self.distance_y(crd1, crd2)**2)\n",
    "\n",
    "    def distance_x_i(self, i1, i2):\n",
    "        if self.crd0[i2][0] - self.crd0[i1][0] > self.box_x() / 2:\n",
    "            return self.crd[i2][0] - self.crd[i1][0] - self.box_x()\n",
    "        if self.crd0[i2][0] - self.crd0[i1][0] < - self.box_x() / 2:\n",
    "            return self.crd[i2][0] - self.crd[i1][0] + self.box_x()\n",
    "        return self.crd[i2][0] - self.crd[i1][0]\n",
    "\n",
    "    def distance_y_i(self, i1, i2):\n",
    "        if self.crd0[i2][1] - self.crd0[i1][1] > self.box_y() / 2:\n",
    "            return self.crd[i2][1] - self.crd[i1][1] - self.box_y()\n",
    "        if self.crd0[i2][1] - self.crd0[i1][1] < - self.box_y() / 2:\n",
    "            return self.crd[i2][1] - self.crd[i1][1] + self.box_y()\n",
    "        return self.crd[i2][1] - self.crd[i1][1]\n",
    "    \n",
    "    def distance_i(self, i1, i2):\n",
    "        return sqrt(self.distance_x_i(i1, i2)**2 + self.distance_y_i(i1, i2)**2)\n",
    "\n",
    "    def calc_atom(self, i):\n",
    "        fx = 0.0\n",
    "        fy = 0.0\n",
    "        w = 0.0\n",
    "\n",
    "        fy_left_boundary = 0.0\n",
    "        wy_left_boundary = 0.0\n",
    "        fy_right_boundary = 0.0\n",
    "        wy_right_boundary = 0.0\n",
    "\n",
    "        for nbr in self.nbri[i]:\n",
    "\n",
    "            d  = self.distance_i  (i, nbr)\n",
    "            dx = self.distance_x_i(i, nbr)\n",
    "            dy = self.distance_y_i(i, nbr)\n",
    "            \n",
    "            bx = self.boundary_x(self.crd[i], self.crd[nbr])\n",
    "            by = self.boundary_y(self.crd[i], self.crd[nbr])\n",
    "            \n",
    "            cx = dx/d\n",
    "            cy = dy/d\n",
    "\n",
    "            dl = d - l\n",
    "\n",
    "            f = k * dl # + alpha * dl**2 + beta * dl**3\n",
    "\n",
    "            # bond's potential energy\n",
    "            dw = k * dl * dl / 2 # + alpha * dl**3 / 3 + beta * dl**4 / 4\n",
    "\n",
    "            fx += f * cx\n",
    "            fy += f * cy\n",
    "            w  += dw\n",
    "\n",
    "            if by > 0:\n",
    "                fy_left_boundary += fy\n",
    "                wy_left_boundary += dw/2\n",
    "            if by < 0:\n",
    "                fy_right_boundary += fy\n",
    "                wy_right_boundary += dw/2\n",
    "\n",
    "        self.f[i][0] = fx\n",
    "        self.f[i][1] = fy\n",
    "        self.w[i]    = w/2 # assign to atom half of bond's potential energy\n",
    "\n",
    "    def ComputeForce(self):\n",
    "        for n1 in range(self.atom_count):\n",
    "            self.calc_atom(n1)\n",
    "\n",
    "    def KineticEnergy(self):\n",
    "        energy = 0.0\n",
    "\n",
    "        for n1 in range(self.atom_count):\n",
    "            tmpX = self.mass[n1]/2\n",
    "\n",
    "            for n2 in [0,1]:\n",
    "                tmp1 = self.vel[n1][n2];\n",
    "                tmp2 = tmpX * tmp1 * tmp1;\n",
    "\n",
    "                energy += tmp2;\n",
    "\n",
    "        return energy;\n",
    "\n",
    "    def PotentialEnergy(self):\n",
    "        counter = 0\n",
    "        energy = 0.0\n",
    "        for row in range(self.rows):\n",
    "            for col in range(self.cols):\n",
    "                tmpW = self.w[counter]\n",
    "                energy += tmpW;\n",
    "                counter+=1;\n",
    "\n",
    "        return energy\n",
    "    \n",
    "    def Lagrangian(self):\n",
    "        return self.KineticEnergy() - self.PotentialEnergy()\n",
    "    \n",
    "    def momentum(self):\n",
    "        L = self.Lagrangian()\n",
    "\n",
    "        px = []\n",
    "        py = []\n",
    "\n",
    "        for i in range(self.atom_count):\n",
    "            px += [L.subs(self.x[i].diff(t) == self.Vx[i]).diff(self.Vx[i]).subs(self.Vx[i] == self.x[i].diff(t))]\n",
    "            py += [L.subs(self.y[i].diff(t) == self.Vy[i]).diff(self.Vy[i]).subs(self.Vy[i] == self.y[i].diff(t))]\n",
    "    \n",
    "        return(px, py)\n",
    "    \n",
    "    def Momentum(self):\n",
    "        L = self.Lagrangian()\n",
    "\n",
    "        Px = []\n",
    "        Py = []\n",
    "\n",
    "        for i in range(self.atom_count):\n",
    "            Px += [L.subs(self.x[i].diff(t) == self.Vx[i]).diff(self.Vx[i]).subs(self.Vx[i] == self.vx[i])]\n",
    "            Py += [L.subs(self.y[i].diff(t) == self.Vy[i]).diff(self.Vy[i]).subs(self.Vy[i] == self.vy[i])]\n",
    "\n",
    "        return(Px, Py)\n",
    "    \n",
    "    def EulerLagrange(self):\n",
    "        L = self.Lagrangian()\n",
    "        px, py = m1.momentum()\n",
    "\n",
    "        # система уравнений Эйлера-Лагранжа\n",
    "        eqs_x = []\n",
    "        eqs_y = []\n",
    "\n",
    "        for i in range(self.atom_count):\n",
    "            eqs_x += [px[i].diff(t) - L.subs(self.x[i] == self.X[i]).diff(self.X[i]).subs(self.X[i] == self.x[i]) == 0]\n",
    "            eqs_y += [py[i].diff(t) - L.subs(self.y[i] == self.Y[i]).diff(self.Y[i]).subs(self.Y[i] == self.y[i]) == 0]\n",
    "\n",
    "        return eqs_x, eqs_y\n",
    "    \n",
    "    def EulerLagrangeSolution(self):\n",
    "        eqs_x, eqs_y = self.EulerLagrange()\n",
    "        \n",
    "        Ax = []\n",
    "        Ay = []\n",
    "        lambda_x = []\n",
    "        lambda_y = []\n",
    "\n",
    "        for i in range(self.atom_count):\n",
    "            exec(preparse(\"Ax_\"     + str(i) + \" = var(\\\"A_x_\"     + str(i) + \"\\\"\"\")\"))\n",
    "            exec(preparse(\"Ay_\"     + str(i) + \" = var(\\\"A_y_\"     + str(i) + \"\\\"\"\")\"))\n",
    "            exec(preparse(\"lambdax_\"   + str(i) + \" = var(\\\"lambda_x_\"   + str(i) + \"\\\"\"\")\"))\n",
    "            exec(preparse(\"lambday_\"   + str(i) + \" = var(\\\"lambda_y_\"   + str(i) + \"\\\"\"\")\"))\n",
    "            exec(preparse(\"Ax       += [A_x_\"     + str(i) + \"]\"))\n",
    "            exec(preparse(\"Ay       += [A_y_\"     + str(i) + \"]\"))\n",
    "            exec(preparse(\"lambda_x += [lambdax_\"   + str(i) + \"]\"))\n",
    "            exec(preparse(\"lambda_y += [lambday_\"   + str(i) + \"]\"))\n",
    "\n",
    "        # решение системы уравнений Эйлера-Лагранжа\n",
    "        # ищем в виде\n",
    "        xi = []\n",
    "        yi = []\n",
    "        #kkk = 1\n",
    "        for i in range(self.atom_count):\n",
    "            #xi += [A[i]*cos(omega[i]*t + phi[i])]\n",
    "            xi += [Ax[i]*exp(lambda_x[i]*t)]\n",
    "            yi += [Ay[i]*exp(lambda_y[i]*t)]\n",
    "            #kkk *= exp(lambdas[i]*t)\n",
    "            #disp(xi[i])\n",
    "            #disp(yi[i])\n",
    "        #disp(kkk)\n",
    "\n",
    "        # подставляя решения в систему\n",
    "        # уравнений Эйлера Лагранжа\n",
    "        # получаем систему линейных алгебраичных уравнений\n",
    "        eqsi_x = []\n",
    "        eqsi_y = []\n",
    "        for i in range(self.atom_count):\n",
    "            eqx_i = eqs_x[i].substitute_function(self.x[i] == xi[i])\n",
    "            eqy_i = eqs_y[i].substitute_function(self.y[i] == yi[i])\n",
    "            for j in range(self.atom_count):\n",
    "                eqx_i = eqx_i.subs(self.x[j] == xi[j])\n",
    "                eqx_i = eqx_i.subs(self.y[j] == yi[j])\n",
    "                \n",
    "                eqy_i = eqy_i.subs(self.x[j] == xi[j])\n",
    "                eqy_i = eqy_i.subs(self.y[j] == yi[j])\n",
    "\n",
    "            eqsi_x += [ eqx_i ]\n",
    "            eqsi_y += [ eqy_i ]\n",
    "            disp(eqsi_x[i])\n",
    "            disp(eqsi_y[i])\n",
    "\n",
    "    def plot(self):\n",
    "        from sage.plot.plot import Graphics\n",
    "        from sage.plot.point import point\n",
    "\n",
    "        p = Graphics()\n",
    "        p += point([[x.subs(l==L), y.subs(l==L)] for x,y in self.get_zink_crd0()],   marker='o', markeredgecolor='blue', size=20)\n",
    "        p += point([[x.subs(l==L), y.subs(l==L)] for x,y in self.get_oxigen_crd0()], marker='o', markeredgecolor='red',  size=2)\n",
    "        \n",
    "        if self.switch_xy:\n",
    "            p += line([(self.ymax().subs(l==L), self.xmax().subs(l==L)),\n",
    "                       (self.ymax().subs(l==L), self.xmin().subs(l==L))])\n",
    "            \n",
    "            p += line([(self.ymax().subs(l==L), self.xmax().subs(l==L)),\n",
    "                       (self.ymin().subs(l==L), self.xmax().subs(l==L))])\n",
    "            \n",
    "            p += line([(self.ymin().subs(l==L), self.xmax().subs(l==L)),\n",
    "                       (self.ymin().subs(l==L), self.xmin().subs(l==L))])\n",
    "            \n",
    "            p += line([(self.ymin().subs(l==L), self.xmin().subs(l==L)),\n",
    "                       (self.ymax().subs(l==L), self.xmin().subs(l==L))])\n",
    "        else:\n",
    "            p += line([(self.xmax().subs(l==L), self.ymax().subs(l==L)),\n",
    "                       (self.xmax().subs(l==L), self.ymin().subs(l==L))])\n",
    "            \n",
    "            p += line([(self.xmax().subs(l==L), self.ymax().subs(l==L)),\n",
    "                       (self.xmin().subs(l==L), self.ymax().subs(l==L))])\n",
    "            \n",
    "            p += line([(self.xmin().subs(l==L), self.ymax().subs(l==L)),\n",
    "                       (self.xmin().subs(l==L), self.ymin().subs(l==L))])\n",
    "            \n",
    "            p += line([(self.xmin().subs(l==L), self.ymin().subs(l==L)),\n",
    "                       (self.xmax().subs(l==L), self.ymin().subs(l==L))])\n",
    "\n",
    "        return p\n",
    "\n",
    "    def xmin(self):\n",
    "        return -l/2 * (1/2*sqrt(3))\n",
    "    def xmax(self):\n",
    "        return -l/2 * (1/2*sqrt(3)) + self.box_x()\n",
    "\n",
    "    def ymax(self):\n",
    "        return +l/2\n",
    "    def ymin(self):\n",
    "        return l/2 - self.box_y()\n",
    "\n",
    "    def show(self, p):\n",
    "        if self.switch_xy:\n",
    "            p.show(aspect_ratio=1, axes=False,\n",
    "                             ymax = self.xmax().subs(l==L), ymin = self.xmin().subs(l==L),\n",
    "                             xmin = self.ymin().subs(l==L), xmax = self.ymax().subs(l==L)\n",
    "                            )\n",
    "        else:\n",
    "            p.show(aspect_ratio=1, axes=False,\n",
    "                             ymax = self.ymax().subs(l==L), ymin = self.ymin().subs(l==L),\n",
    "                             xmin = self.xmin().subs(l==L), xmax = self.xmax().subs(l==L)\n",
    "                            )"
   ]
  },
  {
   "cell_type": "code",
   "execution_count": 3,
   "id": "f2746203",
   "metadata": {},
   "outputs": [],
   "source": [
    "rw = 2\n",
    "cl = 2\n",
    "\n",
    "# here I create two models\n",
    "m1 = Lagrange(rw * 2, cl)\n",
    "m2 = Lagrange(rw * 2, cl)"
   ]
  },
  {
   "cell_type": "code",
   "execution_count": 4,
   "id": "376ec01a",
   "metadata": {},
   "outputs": [
    {
     "data": {
      "text/plain": [
       "[[x_0(t), -y_0(t)], [x_1(t), -y_1(t)], [x_4(t), -y_4(t)], [x_5(t), -y_5(t)]]"
      ]
     },
     "execution_count": 4,
     "metadata": {},
     "output_type": "execute_result"
    }
   ],
   "source": [
    "m1.get_zink_crd()"
   ]
  },
  {
   "cell_type": "code",
   "execution_count": 5,
   "id": "7c7c3fa8",
   "metadata": {},
   "outputs": [
    {
     "data": {
      "text/plain": [
       "[[x_2(t), -y_2(t)], [x_3(t), -y_3(t)], [x_6(t), -y_6(t)], [x_7(t), -y_7(t)]]"
      ]
     },
     "execution_count": 5,
     "metadata": {},
     "output_type": "execute_result"
    }
   ],
   "source": [
    "m1.get_oxigen_crd()"
   ]
  },
  {
   "cell_type": "code",
   "execution_count": 6,
   "id": "9b6126c2",
   "metadata": {},
   "outputs": [
    {
     "data": {
      "image/png": "[encoded data removed]",
      "text/plain": [
       "Graphics object consisting of 6 graphics primitives"
      ]
     },
     "metadata": {},
     "output_type": "display_data"
    }
   ],
   "source": [
    "p = m1.plot()\n",
    "m1.show(p)"
   ]
  },
  {
   "cell_type": "code",
   "execution_count": 7,
   "id": "67128d58",
   "metadata": {},
   "outputs": [
    {
     "data": {
      "text/latex": [
       "$\\displaystyle \\frac{1}{2} \\, k {\\left(l - \\sqrt{{\\left(2 \\, \\sqrt{3} l + x_{0}\\left(t\\right) - x_{3}\\left(t\\right)\\right)}^{2} + {\\left(y_{0}\\left(t\\right) - y_{3}\\left(t\\right)\\right)}^{2}}\\right)}^{2} + \\frac{1}{2} \\, k {\\left(l - \\sqrt{{\\left(2 \\, \\sqrt{3} l - x_{5}\\left(t\\right) + x_{6}\\left(t\\right)\\right)}^{2} + {\\left(y_{5}\\left(t\\right) - y_{6}\\left(t\\right)\\right)}^{2}}\\right)}^{2} + \\frac{1}{2} \\, k {\\left(l - \\sqrt{{\\left(3 \\, l + y_{0}\\left(t\\right) - y_{6}\\left(t\\right)\\right)}^{2} + {\\left(x_{0}\\left(t\\right) - x_{6}\\left(t\\right)\\right)}^{2}}\\right)}^{2} + \\frac{1}{2} \\, k {\\left(l - \\sqrt{{\\left(3 \\, l + y_{1}\\left(t\\right) - y_{7}\\left(t\\right)\\right)}^{2} + {\\left(x_{1}\\left(t\\right) - x_{7}\\left(t\\right)\\right)}^{2}}\\right)}^{2} + \\frac{1}{2} \\, k {\\left(l - \\sqrt{{\\left(x_{0}\\left(t\\right) - x_{2}\\left(t\\right)\\right)}^{2} + {\\left(y_{0}\\left(t\\right) - y_{2}\\left(t\\right)\\right)}^{2}}\\right)}^{2} + \\frac{1}{2} \\, k {\\left(l - \\sqrt{{\\left(x_{1}\\left(t\\right) - x_{2}\\left(t\\right)\\right)}^{2} + {\\left(y_{1}\\left(t\\right) - y_{2}\\left(t\\right)\\right)}^{2}}\\right)}^{2} + \\frac{1}{2} \\, k {\\left(l - \\sqrt{{\\left(x_{1}\\left(t\\right) - x_{3}\\left(t\\right)\\right)}^{2} + {\\left(y_{1}\\left(t\\right) - y_{3}\\left(t\\right)\\right)}^{2}}\\right)}^{2} + \\frac{1}{2} \\, k {\\left(l - \\sqrt{{\\left(x_{2}\\left(t\\right) - x_{4}\\left(t\\right)\\right)}^{2} + {\\left(y_{2}\\left(t\\right) - y_{4}\\left(t\\right)\\right)}^{2}}\\right)}^{2} + \\frac{1}{2} \\, k {\\left(l - \\sqrt{{\\left(x_{3}\\left(t\\right) - x_{5}\\left(t\\right)\\right)}^{2} + {\\left(y_{3}\\left(t\\right) - y_{5}\\left(t\\right)\\right)}^{2}}\\right)}^{2} + \\frac{1}{2} \\, k {\\left(l - \\sqrt{{\\left(x_{4}\\left(t\\right) - x_{6}\\left(t\\right)\\right)}^{2} + {\\left(y_{4}\\left(t\\right) - y_{6}\\left(t\\right)\\right)}^{2}}\\right)}^{2} + \\frac{1}{2} \\, k {\\left(l - \\sqrt{{\\left(x_{4}\\left(t\\right) - x_{7}\\left(t\\right)\\right)}^{2} + {\\left(y_{4}\\left(t\\right) - y_{7}\\left(t\\right)\\right)}^{2}}\\right)}^{2} + \\frac{1}{2} \\, k {\\left(l - \\sqrt{{\\left(x_{5}\\left(t\\right) - x_{7}\\left(t\\right)\\right)}^{2} + {\\left(y_{5}\\left(t\\right) - y_{7}\\left(t\\right)\\right)}^{2}}\\right)}^{2}$"
      ],
      "text/plain": [
       "<IPython.core.display.Math object>"
      ]
     },
     "metadata": {},
     "output_type": "display_data"
    }
   ],
   "source": [
    "m1.ComputeForce()\n",
    "disp(m1.PotentialEnergy())"
   ]
  },
  {
   "cell_type": "code",
   "execution_count": 8,
   "id": "be647f0d",
   "metadata": {},
   "outputs": [
    {
     "data": {
      "text/latex": [
       "$\\displaystyle \\frac{1}{2} \\, M \\frac{\\partial}{\\partial t}x_{0}\\left(t\\right)^{2} + \\frac{1}{2} \\, M \\frac{\\partial}{\\partial t}x_{1}\\left(t\\right)^{2} + \\frac{1}{2} \\, m \\frac{\\partial}{\\partial t}x_{2}\\left(t\\right)^{2} + \\frac{1}{2} \\, m \\frac{\\partial}{\\partial t}x_{3}\\left(t\\right)^{2} + \\frac{1}{2} \\, M \\frac{\\partial}{\\partial t}x_{4}\\left(t\\right)^{2} + \\frac{1}{2} \\, M \\frac{\\partial}{\\partial t}x_{5}\\left(t\\right)^{2} + \\frac{1}{2} \\, m \\frac{\\partial}{\\partial t}x_{6}\\left(t\\right)^{2} + \\frac{1}{2} \\, m \\frac{\\partial}{\\partial t}x_{7}\\left(t\\right)^{2} + \\frac{1}{2} \\, M \\frac{\\partial}{\\partial t}y_{0}\\left(t\\right)^{2} + \\frac{1}{2} \\, M \\frac{\\partial}{\\partial t}y_{1}\\left(t\\right)^{2} + \\frac{1}{2} \\, m \\frac{\\partial}{\\partial t}y_{2}\\left(t\\right)^{2} + \\frac{1}{2} \\, m \\frac{\\partial}{\\partial t}y_{3}\\left(t\\right)^{2} + \\frac{1}{2} \\, M \\frac{\\partial}{\\partial t}y_{4}\\left(t\\right)^{2} + \\frac{1}{2} \\, M \\frac{\\partial}{\\partial t}y_{5}\\left(t\\right)^{2} + \\frac{1}{2} \\, m \\frac{\\partial}{\\partial t}y_{6}\\left(t\\right)^{2} + \\frac{1}{2} \\, m \\frac{\\partial}{\\partial t}y_{7}\\left(t\\right)^{2}$"
      ],
      "text/plain": [
       "<IPython.core.display.Math object>"
      ]
     },
     "metadata": {},
     "output_type": "display_data"
    }
   ],
   "source": [
    "disp(m1.KineticEnergy())"
   ]
  },
  {
   "cell_type": "code",
   "execution_count": 9,
   "id": "438d7d42",
   "metadata": {},
   "outputs": [
    {
     "data": {
      "text/latex": [
       "$\\displaystyle -\\frac{1}{2} \\, k {\\left(l - \\sqrt{{\\left(2 \\, \\sqrt{3} l + x_{0}\\left(t\\right) - x_{3}\\left(t\\right)\\right)}^{2} + {\\left(y_{0}\\left(t\\right) - y_{3}\\left(t\\right)\\right)}^{2}}\\right)}^{2} - \\frac{1}{2} \\, k {\\left(l - \\sqrt{{\\left(2 \\, \\sqrt{3} l - x_{5}\\left(t\\right) + x_{6}\\left(t\\right)\\right)}^{2} + {\\left(y_{5}\\left(t\\right) - y_{6}\\left(t\\right)\\right)}^{2}}\\right)}^{2} - \\frac{1}{2} \\, k {\\left(l - \\sqrt{{\\left(3 \\, l + y_{0}\\left(t\\right) - y_{6}\\left(t\\right)\\right)}^{2} + {\\left(x_{0}\\left(t\\right) - x_{6}\\left(t\\right)\\right)}^{2}}\\right)}^{2} - \\frac{1}{2} \\, k {\\left(l - \\sqrt{{\\left(3 \\, l + y_{1}\\left(t\\right) - y_{7}\\left(t\\right)\\right)}^{2} + {\\left(x_{1}\\left(t\\right) - x_{7}\\left(t\\right)\\right)}^{2}}\\right)}^{2} - \\frac{1}{2} \\, k {\\left(l - \\sqrt{{\\left(x_{0}\\left(t\\right) - x_{2}\\left(t\\right)\\right)}^{2} + {\\left(y_{0}\\left(t\\right) - y_{2}\\left(t\\right)\\right)}^{2}}\\right)}^{2} - \\frac{1}{2} \\, k {\\left(l - \\sqrt{{\\left(x_{1}\\left(t\\right) - x_{2}\\left(t\\right)\\right)}^{2} + {\\left(y_{1}\\left(t\\right) - y_{2}\\left(t\\right)\\right)}^{2}}\\right)}^{2} - \\frac{1}{2} \\, k {\\left(l - \\sqrt{{\\left(x_{1}\\left(t\\right) - x_{3}\\left(t\\right)\\right)}^{2} + {\\left(y_{1}\\left(t\\right) - y_{3}\\left(t\\right)\\right)}^{2}}\\right)}^{2} - \\frac{1}{2} \\, k {\\left(l - \\sqrt{{\\left(x_{2}\\left(t\\right) - x_{4}\\left(t\\right)\\right)}^{2} + {\\left(y_{2}\\left(t\\right) - y_{4}\\left(t\\right)\\right)}^{2}}\\right)}^{2} - \\frac{1}{2} \\, k {\\left(l - \\sqrt{{\\left(x_{3}\\left(t\\right) - x_{5}\\left(t\\right)\\right)}^{2} + {\\left(y_{3}\\left(t\\right) - y_{5}\\left(t\\right)\\right)}^{2}}\\right)}^{2} - \\frac{1}{2} \\, k {\\left(l - \\sqrt{{\\left(x_{4}\\left(t\\right) - x_{6}\\left(t\\right)\\right)}^{2} + {\\left(y_{4}\\left(t\\right) - y_{6}\\left(t\\right)\\right)}^{2}}\\right)}^{2} - \\frac{1}{2} \\, k {\\left(l - \\sqrt{{\\left(x_{4}\\left(t\\right) - x_{7}\\left(t\\right)\\right)}^{2} + {\\left(y_{4}\\left(t\\right) - y_{7}\\left(t\\right)\\right)}^{2}}\\right)}^{2} - \\frac{1}{2} \\, k {\\left(l - \\sqrt{{\\left(x_{5}\\left(t\\right) - x_{7}\\left(t\\right)\\right)}^{2} + {\\left(y_{5}\\left(t\\right) - y_{7}\\left(t\\right)\\right)}^{2}}\\right)}^{2} + \\frac{1}{2} \\, M \\frac{\\partial}{\\partial t}x_{0}\\left(t\\right)^{2} + \\frac{1}{2} \\, M \\frac{\\partial}{\\partial t}x_{1}\\left(t\\right)^{2} + \\frac{1}{2} \\, m \\frac{\\partial}{\\partial t}x_{2}\\left(t\\right)^{2} + \\frac{1}{2} \\, m \\frac{\\partial}{\\partial t}x_{3}\\left(t\\right)^{2} + \\frac{1}{2} \\, M \\frac{\\partial}{\\partial t}x_{4}\\left(t\\right)^{2} + \\frac{1}{2} \\, M \\frac{\\partial}{\\partial t}x_{5}\\left(t\\right)^{2} + \\frac{1}{2} \\, m \\frac{\\partial}{\\partial t}x_{6}\\left(t\\right)^{2} + \\frac{1}{2} \\, m \\frac{\\partial}{\\partial t}x_{7}\\left(t\\right)^{2} + \\frac{1}{2} \\, M \\frac{\\partial}{\\partial t}y_{0}\\left(t\\right)^{2} + \\frac{1}{2} \\, M \\frac{\\partial}{\\partial t}y_{1}\\left(t\\right)^{2} + \\frac{1}{2} \\, m \\frac{\\partial}{\\partial t}y_{2}\\left(t\\right)^{2} + \\frac{1}{2} \\, m \\frac{\\partial}{\\partial t}y_{3}\\left(t\\right)^{2} + \\frac{1}{2} \\, M \\frac{\\partial}{\\partial t}y_{4}\\left(t\\right)^{2} + \\frac{1}{2} \\, M \\frac{\\partial}{\\partial t}y_{5}\\left(t\\right)^{2} + \\frac{1}{2} \\, m \\frac{\\partial}{\\partial t}y_{6}\\left(t\\right)^{2} + \\frac{1}{2} \\, m \\frac{\\partial}{\\partial t}y_{7}\\left(t\\right)^{2}$"
      ],
      "text/plain": [
       "<IPython.core.display.Math object>"
      ]
     },
     "metadata": {},
     "output_type": "display_data"
    }
   ],
   "source": [
    "disp(m1.Lagrangian())"
   ]
  },
  {
   "cell_type": "code",
   "execution_count": 10,
   "id": "49ae94bc",
   "metadata": {},
   "outputs": [
    {
     "data": {
      "text/latex": [
       "$\\displaystyle \\left[M {\\rm vx}_{0}\\left(t\\right), M {\\rm vx}_{1}\\left(t\\right), m {\\rm vx}_{2}\\left(t\\right), m {\\rm vx}_{3}\\left(t\\right), M {\\rm vx}_{4}\\left(t\\right), M {\\rm vx}_{5}\\left(t\\right), m {\\rm vx}_{6}\\left(t\\right), m {\\rm vx}_{7}\\left(t\\right)\\right]$"
      ],
      "text/plain": [
       "<IPython.core.display.Math object>"
      ]
     },
     "metadata": {},
     "output_type": "display_data"
    },
    {
     "data": {
      "text/latex": [
       "$\\displaystyle \\left[M {\\rm vy}_{0}\\left(t\\right), M {\\rm vy}_{1}\\left(t\\right), m {\\rm vy}_{2}\\left(t\\right), m {\\rm vy}_{3}\\left(t\\right), M {\\rm vy}_{4}\\left(t\\right), M {\\rm vy}_{5}\\left(t\\right), m {\\rm vy}_{6}\\left(t\\right), m {\\rm vy}_{7}\\left(t\\right)\\right]$"
      ],
      "text/plain": [
       "<IPython.core.display.Math object>"
      ]
     },
     "metadata": {},
     "output_type": "display_data"
    }
   ],
   "source": [
    "Px, Py = m1.Momentum()\n",
    "disp(Px)\n",
    "disp(Py)"
   ]
  },
  {
   "cell_type": "code",
   "execution_count": 11,
   "id": "e3d336c8",
   "metadata": {},
   "outputs": [
    {
     "data": {
      "text/latex": [
       "$\\displaystyle \\left[M \\frac{\\partial}{\\partial t}x_{0}\\left(t\\right), M \\frac{\\partial}{\\partial t}x_{1}\\left(t\\right), m \\frac{\\partial}{\\partial t}x_{2}\\left(t\\right), m \\frac{\\partial}{\\partial t}x_{3}\\left(t\\right), M \\frac{\\partial}{\\partial t}x_{4}\\left(t\\right), M \\frac{\\partial}{\\partial t}x_{5}\\left(t\\right), m \\frac{\\partial}{\\partial t}x_{6}\\left(t\\right), m \\frac{\\partial}{\\partial t}x_{7}\\left(t\\right)\\right]$"
      ],
      "text/plain": [
       "<IPython.core.display.Math object>"
      ]
     },
     "metadata": {},
     "output_type": "display_data"
    },
    {
     "data": {
      "text/latex": [
       "$\\displaystyle \\left[M \\frac{\\partial}{\\partial t}y_{0}\\left(t\\right), M \\frac{\\partial}{\\partial t}y_{1}\\left(t\\right), m \\frac{\\partial}{\\partial t}y_{2}\\left(t\\right), m \\frac{\\partial}{\\partial t}y_{3}\\left(t\\right), M \\frac{\\partial}{\\partial t}y_{4}\\left(t\\right), M \\frac{\\partial}{\\partial t}y_{5}\\left(t\\right), m \\frac{\\partial}{\\partial t}y_{6}\\left(t\\right), m \\frac{\\partial}{\\partial t}y_{7}\\left(t\\right)\\right]$"
      ],
      "text/plain": [
       "<IPython.core.display.Math object>"
      ]
     },
     "metadata": {},
     "output_type": "display_data"
    }
   ],
   "source": [
    "px, py = m1.momentum()\n",
    "disp(px)\n",
    "disp(py)"
   ]
  },
  {
   "cell_type": "code",
   "execution_count": 12,
   "id": "f767862d",
   "metadata": {},
   "outputs": [],
   "source": [
    "eqs_x, eqs_y = m1.EulerLagrange()"
   ]
  },
  {
   "cell_type": "code",
   "execution_count": 13,
   "id": "cb250776",
   "metadata": {},
   "outputs": [
    {
     "data": {
      "text/latex": [
       "$\\displaystyle -\\frac{{\\left(2 \\, \\sqrt{3} l + x_{0}\\left(t\\right) - x_{3}\\left(t\\right)\\right)} k {\\left(l - \\sqrt{{\\left(2 \\, \\sqrt{3} l + x_{0}\\left(t\\right) - x_{3}\\left(t\\right)\\right)}^{2} + {\\left(y_{0}\\left(t\\right) - y_{3}\\left(t\\right)\\right)}^{2}}\\right)}}{\\sqrt{{\\left(2 \\, \\sqrt{3} l + x_{0}\\left(t\\right) - x_{3}\\left(t\\right)\\right)}^{2} + {\\left(y_{0}\\left(t\\right) - y_{3}\\left(t\\right)\\right)}^{2}}} - \\frac{k {\\left(l - \\sqrt{{\\left(x_{0}\\left(t\\right) - x_{2}\\left(t\\right)\\right)}^{2} + {\\left(y_{0}\\left(t\\right) - y_{2}\\left(t\\right)\\right)}^{2}}\\right)} {\\left(x_{0}\\left(t\\right) - x_{2}\\left(t\\right)\\right)}}{\\sqrt{{\\left(x_{0}\\left(t\\right) - x_{2}\\left(t\\right)\\right)}^{2} + {\\left(y_{0}\\left(t\\right) - y_{2}\\left(t\\right)\\right)}^{2}}} - \\frac{k {\\left(l - \\sqrt{{\\left(3 \\, l + y_{0}\\left(t\\right) - y_{6}\\left(t\\right)\\right)}^{2} + {\\left(x_{0}\\left(t\\right) - x_{6}\\left(t\\right)\\right)}^{2}}\\right)} {\\left(x_{0}\\left(t\\right) - x_{6}\\left(t\\right)\\right)}}{\\sqrt{{\\left(3 \\, l + y_{0}\\left(t\\right) - y_{6}\\left(t\\right)\\right)}^{2} + {\\left(x_{0}\\left(t\\right) - x_{6}\\left(t\\right)\\right)}^{2}}} + M \\frac{\\partial^{2}}{(\\partial t)^{2}}x_{0}\\left(t\\right) = 0$"
      ],
      "text/plain": [
       "<IPython.core.display.Math object>"
      ]
     },
     "metadata": {},
     "output_type": "display_data"
    },
    {
     "data": {
      "text/latex": [
       "$\\displaystyle -\\frac{k {\\left(l - \\sqrt{{\\left(x_{1}\\left(t\\right) - x_{2}\\left(t\\right)\\right)}^{2} + {\\left(y_{1}\\left(t\\right) - y_{2}\\left(t\\right)\\right)}^{2}}\\right)} {\\left(x_{1}\\left(t\\right) - x_{2}\\left(t\\right)\\right)}}{\\sqrt{{\\left(x_{1}\\left(t\\right) - x_{2}\\left(t\\right)\\right)}^{2} + {\\left(y_{1}\\left(t\\right) - y_{2}\\left(t\\right)\\right)}^{2}}} - \\frac{k {\\left(l - \\sqrt{{\\left(x_{1}\\left(t\\right) - x_{3}\\left(t\\right)\\right)}^{2} + {\\left(y_{1}\\left(t\\right) - y_{3}\\left(t\\right)\\right)}^{2}}\\right)} {\\left(x_{1}\\left(t\\right) - x_{3}\\left(t\\right)\\right)}}{\\sqrt{{\\left(x_{1}\\left(t\\right) - x_{3}\\left(t\\right)\\right)}^{2} + {\\left(y_{1}\\left(t\\right) - y_{3}\\left(t\\right)\\right)}^{2}}} - \\frac{k {\\left(l - \\sqrt{{\\left(3 \\, l + y_{1}\\left(t\\right) - y_{7}\\left(t\\right)\\right)}^{2} + {\\left(x_{1}\\left(t\\right) - x_{7}\\left(t\\right)\\right)}^{2}}\\right)} {\\left(x_{1}\\left(t\\right) - x_{7}\\left(t\\right)\\right)}}{\\sqrt{{\\left(3 \\, l + y_{1}\\left(t\\right) - y_{7}\\left(t\\right)\\right)}^{2} + {\\left(x_{1}\\left(t\\right) - x_{7}\\left(t\\right)\\right)}^{2}}} + M \\frac{\\partial^{2}}{(\\partial t)^{2}}x_{1}\\left(t\\right) = 0$"
      ],
      "text/plain": [
       "<IPython.core.display.Math object>"
      ]
     },
     "metadata": {},
     "output_type": "display_data"
    },
    {
     "data": {
      "text/latex": [
       "$\\displaystyle \\frac{k {\\left(l - \\sqrt{{\\left(x_{0}\\left(t\\right) - x_{2}\\left(t\\right)\\right)}^{2} + {\\left(y_{0}\\left(t\\right) - y_{2}\\left(t\\right)\\right)}^{2}}\\right)} {\\left(x_{0}\\left(t\\right) - x_{2}\\left(t\\right)\\right)}}{\\sqrt{{\\left(x_{0}\\left(t\\right) - x_{2}\\left(t\\right)\\right)}^{2} + {\\left(y_{0}\\left(t\\right) - y_{2}\\left(t\\right)\\right)}^{2}}} + \\frac{k {\\left(l - \\sqrt{{\\left(x_{1}\\left(t\\right) - x_{2}\\left(t\\right)\\right)}^{2} + {\\left(y_{1}\\left(t\\right) - y_{2}\\left(t\\right)\\right)}^{2}}\\right)} {\\left(x_{1}\\left(t\\right) - x_{2}\\left(t\\right)\\right)}}{\\sqrt{{\\left(x_{1}\\left(t\\right) - x_{2}\\left(t\\right)\\right)}^{2} + {\\left(y_{1}\\left(t\\right) - y_{2}\\left(t\\right)\\right)}^{2}}} - \\frac{k {\\left(l - \\sqrt{{\\left(x_{2}\\left(t\\right) - x_{4}\\left(t\\right)\\right)}^{2} + {\\left(y_{2}\\left(t\\right) - y_{4}\\left(t\\right)\\right)}^{2}}\\right)} {\\left(x_{2}\\left(t\\right) - x_{4}\\left(t\\right)\\right)}}{\\sqrt{{\\left(x_{2}\\left(t\\right) - x_{4}\\left(t\\right)\\right)}^{2} + {\\left(y_{2}\\left(t\\right) - y_{4}\\left(t\\right)\\right)}^{2}}} + m \\frac{\\partial^{2}}{(\\partial t)^{2}}x_{2}\\left(t\\right) = 0$"
      ],
      "text/plain": [
       "<IPython.core.display.Math object>"
      ]
     },
     "metadata": {},
     "output_type": "display_data"
    },
    {
     "data": {
      "text/latex": [
       "$\\displaystyle \\frac{{\\left(2 \\, \\sqrt{3} l + x_{0}\\left(t\\right) - x_{3}\\left(t\\right)\\right)} k {\\left(l - \\sqrt{{\\left(2 \\, \\sqrt{3} l + x_{0}\\left(t\\right) - x_{3}\\left(t\\right)\\right)}^{2} + {\\left(y_{0}\\left(t\\right) - y_{3}\\left(t\\right)\\right)}^{2}}\\right)}}{\\sqrt{{\\left(2 \\, \\sqrt{3} l + x_{0}\\left(t\\right) - x_{3}\\left(t\\right)\\right)}^{2} + {\\left(y_{0}\\left(t\\right) - y_{3}\\left(t\\right)\\right)}^{2}}} + \\frac{k {\\left(l - \\sqrt{{\\left(x_{1}\\left(t\\right) - x_{3}\\left(t\\right)\\right)}^{2} + {\\left(y_{1}\\left(t\\right) - y_{3}\\left(t\\right)\\right)}^{2}}\\right)} {\\left(x_{1}\\left(t\\right) - x_{3}\\left(t\\right)\\right)}}{\\sqrt{{\\left(x_{1}\\left(t\\right) - x_{3}\\left(t\\right)\\right)}^{2} + {\\left(y_{1}\\left(t\\right) - y_{3}\\left(t\\right)\\right)}^{2}}} - \\frac{k {\\left(l - \\sqrt{{\\left(x_{3}\\left(t\\right) - x_{5}\\left(t\\right)\\right)}^{2} + {\\left(y_{3}\\left(t\\right) - y_{5}\\left(t\\right)\\right)}^{2}}\\right)} {\\left(x_{3}\\left(t\\right) - x_{5}\\left(t\\right)\\right)}}{\\sqrt{{\\left(x_{3}\\left(t\\right) - x_{5}\\left(t\\right)\\right)}^{2} + {\\left(y_{3}\\left(t\\right) - y_{5}\\left(t\\right)\\right)}^{2}}} + m \\frac{\\partial^{2}}{(\\partial t)^{2}}x_{3}\\left(t\\right) = 0$"
      ],
      "text/plain": [
       "<IPython.core.display.Math object>"
      ]
     },
     "metadata": {},
     "output_type": "display_data"
    },
    {
     "data": {
      "text/latex": [
       "$\\displaystyle \\frac{k {\\left(l - \\sqrt{{\\left(x_{2}\\left(t\\right) - x_{4}\\left(t\\right)\\right)}^{2} + {\\left(y_{2}\\left(t\\right) - y_{4}\\left(t\\right)\\right)}^{2}}\\right)} {\\left(x_{2}\\left(t\\right) - x_{4}\\left(t\\right)\\right)}}{\\sqrt{{\\left(x_{2}\\left(t\\right) - x_{4}\\left(t\\right)\\right)}^{2} + {\\left(y_{2}\\left(t\\right) - y_{4}\\left(t\\right)\\right)}^{2}}} - \\frac{k {\\left(l - \\sqrt{{\\left(x_{4}\\left(t\\right) - x_{6}\\left(t\\right)\\right)}^{2} + {\\left(y_{4}\\left(t\\right) - y_{6}\\left(t\\right)\\right)}^{2}}\\right)} {\\left(x_{4}\\left(t\\right) - x_{6}\\left(t\\right)\\right)}}{\\sqrt{{\\left(x_{4}\\left(t\\right) - x_{6}\\left(t\\right)\\right)}^{2} + {\\left(y_{4}\\left(t\\right) - y_{6}\\left(t\\right)\\right)}^{2}}} - \\frac{k {\\left(l - \\sqrt{{\\left(x_{4}\\left(t\\right) - x_{7}\\left(t\\right)\\right)}^{2} + {\\left(y_{4}\\left(t\\right) - y_{7}\\left(t\\right)\\right)}^{2}}\\right)} {\\left(x_{4}\\left(t\\right) - x_{7}\\left(t\\right)\\right)}}{\\sqrt{{\\left(x_{4}\\left(t\\right) - x_{7}\\left(t\\right)\\right)}^{2} + {\\left(y_{4}\\left(t\\right) - y_{7}\\left(t\\right)\\right)}^{2}}} + M \\frac{\\partial^{2}}{(\\partial t)^{2}}x_{4}\\left(t\\right) = 0$"
      ],
      "text/plain": [
       "<IPython.core.display.Math object>"
      ]
     },
     "metadata": {},
     "output_type": "display_data"
    },
    {
     "data": {
      "text/latex": [
       "$\\displaystyle \\frac{{\\left(2 \\, \\sqrt{3} l - x_{5}\\left(t\\right) + x_{6}\\left(t\\right)\\right)} k {\\left(l - \\sqrt{{\\left(2 \\, \\sqrt{3} l - x_{5}\\left(t\\right) + x_{6}\\left(t\\right)\\right)}^{2} + {\\left(y_{5}\\left(t\\right) - y_{6}\\left(t\\right)\\right)}^{2}}\\right)}}{\\sqrt{{\\left(2 \\, \\sqrt{3} l - x_{5}\\left(t\\right) + x_{6}\\left(t\\right)\\right)}^{2} + {\\left(y_{5}\\left(t\\right) - y_{6}\\left(t\\right)\\right)}^{2}}} + \\frac{k {\\left(l - \\sqrt{{\\left(x_{3}\\left(t\\right) - x_{5}\\left(t\\right)\\right)}^{2} + {\\left(y_{3}\\left(t\\right) - y_{5}\\left(t\\right)\\right)}^{2}}\\right)} {\\left(x_{3}\\left(t\\right) - x_{5}\\left(t\\right)\\right)}}{\\sqrt{{\\left(x_{3}\\left(t\\right) - x_{5}\\left(t\\right)\\right)}^{2} + {\\left(y_{3}\\left(t\\right) - y_{5}\\left(t\\right)\\right)}^{2}}} - \\frac{k {\\left(l - \\sqrt{{\\left(x_{5}\\left(t\\right) - x_{7}\\left(t\\right)\\right)}^{2} + {\\left(y_{5}\\left(t\\right) - y_{7}\\left(t\\right)\\right)}^{2}}\\right)} {\\left(x_{5}\\left(t\\right) - x_{7}\\left(t\\right)\\right)}}{\\sqrt{{\\left(x_{5}\\left(t\\right) - x_{7}\\left(t\\right)\\right)}^{2} + {\\left(y_{5}\\left(t\\right) - y_{7}\\left(t\\right)\\right)}^{2}}} + M \\frac{\\partial^{2}}{(\\partial t)^{2}}x_{5}\\left(t\\right) = 0$"
      ],
      "text/plain": [
       "<IPython.core.display.Math object>"
      ]
     },
     "metadata": {},
     "output_type": "display_data"
    },
    {
     "data": {
      "text/latex": [
       "$\\displaystyle -\\frac{{\\left(2 \\, \\sqrt{3} l - x_{5}\\left(t\\right) + x_{6}\\left(t\\right)\\right)} k {\\left(l - \\sqrt{{\\left(2 \\, \\sqrt{3} l - x_{5}\\left(t\\right) + x_{6}\\left(t\\right)\\right)}^{2} + {\\left(y_{5}\\left(t\\right) - y_{6}\\left(t\\right)\\right)}^{2}}\\right)}}{\\sqrt{{\\left(2 \\, \\sqrt{3} l - x_{5}\\left(t\\right) + x_{6}\\left(t\\right)\\right)}^{2} + {\\left(y_{5}\\left(t\\right) - y_{6}\\left(t\\right)\\right)}^{2}}} + \\frac{k {\\left(l - \\sqrt{{\\left(3 \\, l + y_{0}\\left(t\\right) - y_{6}\\left(t\\right)\\right)}^{2} + {\\left(x_{0}\\left(t\\right) - x_{6}\\left(t\\right)\\right)}^{2}}\\right)} {\\left(x_{0}\\left(t\\right) - x_{6}\\left(t\\right)\\right)}}{\\sqrt{{\\left(3 \\, l + y_{0}\\left(t\\right) - y_{6}\\left(t\\right)\\right)}^{2} + {\\left(x_{0}\\left(t\\right) - x_{6}\\left(t\\right)\\right)}^{2}}} + \\frac{k {\\left(l - \\sqrt{{\\left(x_{4}\\left(t\\right) - x_{6}\\left(t\\right)\\right)}^{2} + {\\left(y_{4}\\left(t\\right) - y_{6}\\left(t\\right)\\right)}^{2}}\\right)} {\\left(x_{4}\\left(t\\right) - x_{6}\\left(t\\right)\\right)}}{\\sqrt{{\\left(x_{4}\\left(t\\right) - x_{6}\\left(t\\right)\\right)}^{2} + {\\left(y_{4}\\left(t\\right) - y_{6}\\left(t\\right)\\right)}^{2}}} + m \\frac{\\partial^{2}}{(\\partial t)^{2}}x_{6}\\left(t\\right) = 0$"
      ],
      "text/plain": [
       "<IPython.core.display.Math object>"
      ]
     },
     "metadata": {},
     "output_type": "display_data"
    },
    {
     "data": {
      "text/latex": [
       "$\\displaystyle \\frac{k {\\left(l - \\sqrt{{\\left(3 \\, l + y_{1}\\left(t\\right) - y_{7}\\left(t\\right)\\right)}^{2} + {\\left(x_{1}\\left(t\\right) - x_{7}\\left(t\\right)\\right)}^{2}}\\right)} {\\left(x_{1}\\left(t\\right) - x_{7}\\left(t\\right)\\right)}}{\\sqrt{{\\left(3 \\, l + y_{1}\\left(t\\right) - y_{7}\\left(t\\right)\\right)}^{2} + {\\left(x_{1}\\left(t\\right) - x_{7}\\left(t\\right)\\right)}^{2}}} + \\frac{k {\\left(l - \\sqrt{{\\left(x_{4}\\left(t\\right) - x_{7}\\left(t\\right)\\right)}^{2} + {\\left(y_{4}\\left(t\\right) - y_{7}\\left(t\\right)\\right)}^{2}}\\right)} {\\left(x_{4}\\left(t\\right) - x_{7}\\left(t\\right)\\right)}}{\\sqrt{{\\left(x_{4}\\left(t\\right) - x_{7}\\left(t\\right)\\right)}^{2} + {\\left(y_{4}\\left(t\\right) - y_{7}\\left(t\\right)\\right)}^{2}}} + \\frac{k {\\left(l - \\sqrt{{\\left(x_{5}\\left(t\\right) - x_{7}\\left(t\\right)\\right)}^{2} + {\\left(y_{5}\\left(t\\right) - y_{7}\\left(t\\right)\\right)}^{2}}\\right)} {\\left(x_{5}\\left(t\\right) - x_{7}\\left(t\\right)\\right)}}{\\sqrt{{\\left(x_{5}\\left(t\\right) - x_{7}\\left(t\\right)\\right)}^{2} + {\\left(y_{5}\\left(t\\right) - y_{7}\\left(t\\right)\\right)}^{2}}} + m \\frac{\\partial^{2}}{(\\partial t)^{2}}x_{7}\\left(t\\right) = 0$"
      ],
      "text/plain": [
       "<IPython.core.display.Math object>"
      ]
     },
     "metadata": {},
     "output_type": "display_data"
    }
   ],
   "source": [
    "for eq_x in eqs_x:\n",
    "    disp(eq_x)"
   ]
  },
  {
   "cell_type": "code",
   "execution_count": 14,
   "id": "727313cb",
   "metadata": {},
   "outputs": [
    {
     "data": {
      "text/latex": [
       "$\\displaystyle -\\frac{k {\\left(3 \\, l + y_{0}\\left(t\\right) - y_{6}\\left(t\\right)\\right)} {\\left(l - \\sqrt{{\\left(3 \\, l + y_{0}\\left(t\\right) - y_{6}\\left(t\\right)\\right)}^{2} + {\\left(x_{0}\\left(t\\right) - x_{6}\\left(t\\right)\\right)}^{2}}\\right)}}{\\sqrt{{\\left(3 \\, l + y_{0}\\left(t\\right) - y_{6}\\left(t\\right)\\right)}^{2} + {\\left(x_{0}\\left(t\\right) - x_{6}\\left(t\\right)\\right)}^{2}}} - \\frac{k {\\left(l - \\sqrt{{\\left(x_{0}\\left(t\\right) - x_{2}\\left(t\\right)\\right)}^{2} + {\\left(y_{0}\\left(t\\right) - y_{2}\\left(t\\right)\\right)}^{2}}\\right)} {\\left(y_{0}\\left(t\\right) - y_{2}\\left(t\\right)\\right)}}{\\sqrt{{\\left(x_{0}\\left(t\\right) - x_{2}\\left(t\\right)\\right)}^{2} + {\\left(y_{0}\\left(t\\right) - y_{2}\\left(t\\right)\\right)}^{2}}} - \\frac{k {\\left(l - \\sqrt{{\\left(2 \\, \\sqrt{3} l + x_{0}\\left(t\\right) - x_{3}\\left(t\\right)\\right)}^{2} + {\\left(y_{0}\\left(t\\right) - y_{3}\\left(t\\right)\\right)}^{2}}\\right)} {\\left(y_{0}\\left(t\\right) - y_{3}\\left(t\\right)\\right)}}{\\sqrt{{\\left(2 \\, \\sqrt{3} l + x_{0}\\left(t\\right) - x_{3}\\left(t\\right)\\right)}^{2} + {\\left(y_{0}\\left(t\\right) - y_{3}\\left(t\\right)\\right)}^{2}}} + M \\frac{\\partial^{2}}{(\\partial t)^{2}}y_{0}\\left(t\\right) = 0$"
      ],
      "text/plain": [
       "<IPython.core.display.Math object>"
      ]
     },
     "metadata": {},
     "output_type": "display_data"
    },
    {
     "data": {
      "text/latex": [
       "$\\displaystyle -\\frac{k {\\left(3 \\, l + y_{1}\\left(t\\right) - y_{7}\\left(t\\right)\\right)} {\\left(l - \\sqrt{{\\left(3 \\, l + y_{1}\\left(t\\right) - y_{7}\\left(t\\right)\\right)}^{2} + {\\left(x_{1}\\left(t\\right) - x_{7}\\left(t\\right)\\right)}^{2}}\\right)}}{\\sqrt{{\\left(3 \\, l + y_{1}\\left(t\\right) - y_{7}\\left(t\\right)\\right)}^{2} + {\\left(x_{1}\\left(t\\right) - x_{7}\\left(t\\right)\\right)}^{2}}} - \\frac{k {\\left(l - \\sqrt{{\\left(x_{1}\\left(t\\right) - x_{2}\\left(t\\right)\\right)}^{2} + {\\left(y_{1}\\left(t\\right) - y_{2}\\left(t\\right)\\right)}^{2}}\\right)} {\\left(y_{1}\\left(t\\right) - y_{2}\\left(t\\right)\\right)}}{\\sqrt{{\\left(x_{1}\\left(t\\right) - x_{2}\\left(t\\right)\\right)}^{2} + {\\left(y_{1}\\left(t\\right) - y_{2}\\left(t\\right)\\right)}^{2}}} - \\frac{k {\\left(l - \\sqrt{{\\left(x_{1}\\left(t\\right) - x_{3}\\left(t\\right)\\right)}^{2} + {\\left(y_{1}\\left(t\\right) - y_{3}\\left(t\\right)\\right)}^{2}}\\right)} {\\left(y_{1}\\left(t\\right) - y_{3}\\left(t\\right)\\right)}}{\\sqrt{{\\left(x_{1}\\left(t\\right) - x_{3}\\left(t\\right)\\right)}^{2} + {\\left(y_{1}\\left(t\\right) - y_{3}\\left(t\\right)\\right)}^{2}}} + M \\frac{\\partial^{2}}{(\\partial t)^{2}}y_{1}\\left(t\\right) = 0$"
      ],
      "text/plain": [
       "<IPython.core.display.Math object>"
      ]
     },
     "metadata": {},
     "output_type": "display_data"
    },
    {
     "data": {
      "text/latex": [
       "$\\displaystyle \\frac{k {\\left(l - \\sqrt{{\\left(x_{0}\\left(t\\right) - x_{2}\\left(t\\right)\\right)}^{2} + {\\left(y_{0}\\left(t\\right) - y_{2}\\left(t\\right)\\right)}^{2}}\\right)} {\\left(y_{0}\\left(t\\right) - y_{2}\\left(t\\right)\\right)}}{\\sqrt{{\\left(x_{0}\\left(t\\right) - x_{2}\\left(t\\right)\\right)}^{2} + {\\left(y_{0}\\left(t\\right) - y_{2}\\left(t\\right)\\right)}^{2}}} + \\frac{k {\\left(l - \\sqrt{{\\left(x_{1}\\left(t\\right) - x_{2}\\left(t\\right)\\right)}^{2} + {\\left(y_{1}\\left(t\\right) - y_{2}\\left(t\\right)\\right)}^{2}}\\right)} {\\left(y_{1}\\left(t\\right) - y_{2}\\left(t\\right)\\right)}}{\\sqrt{{\\left(x_{1}\\left(t\\right) - x_{2}\\left(t\\right)\\right)}^{2} + {\\left(y_{1}\\left(t\\right) - y_{2}\\left(t\\right)\\right)}^{2}}} - \\frac{k {\\left(l - \\sqrt{{\\left(x_{2}\\left(t\\right) - x_{4}\\left(t\\right)\\right)}^{2} + {\\left(y_{2}\\left(t\\right) - y_{4}\\left(t\\right)\\right)}^{2}}\\right)} {\\left(y_{2}\\left(t\\right) - y_{4}\\left(t\\right)\\right)}}{\\sqrt{{\\left(x_{2}\\left(t\\right) - x_{4}\\left(t\\right)\\right)}^{2} + {\\left(y_{2}\\left(t\\right) - y_{4}\\left(t\\right)\\right)}^{2}}} + m \\frac{\\partial^{2}}{(\\partial t)^{2}}y_{2}\\left(t\\right) = 0$"
      ],
      "text/plain": [
       "<IPython.core.display.Math object>"
      ]
     },
     "metadata": {},
     "output_type": "display_data"
    },
    {
     "data": {
      "text/latex": [
       "$\\displaystyle \\frac{k {\\left(l - \\sqrt{{\\left(2 \\, \\sqrt{3} l + x_{0}\\left(t\\right) - x_{3}\\left(t\\right)\\right)}^{2} + {\\left(y_{0}\\left(t\\right) - y_{3}\\left(t\\right)\\right)}^{2}}\\right)} {\\left(y_{0}\\left(t\\right) - y_{3}\\left(t\\right)\\right)}}{\\sqrt{{\\left(2 \\, \\sqrt{3} l + x_{0}\\left(t\\right) - x_{3}\\left(t\\right)\\right)}^{2} + {\\left(y_{0}\\left(t\\right) - y_{3}\\left(t\\right)\\right)}^{2}}} + \\frac{k {\\left(l - \\sqrt{{\\left(x_{1}\\left(t\\right) - x_{3}\\left(t\\right)\\right)}^{2} + {\\left(y_{1}\\left(t\\right) - y_{3}\\left(t\\right)\\right)}^{2}}\\right)} {\\left(y_{1}\\left(t\\right) - y_{3}\\left(t\\right)\\right)}}{\\sqrt{{\\left(x_{1}\\left(t\\right) - x_{3}\\left(t\\right)\\right)}^{2} + {\\left(y_{1}\\left(t\\right) - y_{3}\\left(t\\right)\\right)}^{2}}} - \\frac{k {\\left(l - \\sqrt{{\\left(x_{3}\\left(t\\right) - x_{5}\\left(t\\right)\\right)}^{2} + {\\left(y_{3}\\left(t\\right) - y_{5}\\left(t\\right)\\right)}^{2}}\\right)} {\\left(y_{3}\\left(t\\right) - y_{5}\\left(t\\right)\\right)}}{\\sqrt{{\\left(x_{3}\\left(t\\right) - x_{5}\\left(t\\right)\\right)}^{2} + {\\left(y_{3}\\left(t\\right) - y_{5}\\left(t\\right)\\right)}^{2}}} + m \\frac{\\partial^{2}}{(\\partial t)^{2}}y_{3}\\left(t\\right) = 0$"
      ],
      "text/plain": [
       "<IPython.core.display.Math object>"
      ]
     },
     "metadata": {},
     "output_type": "display_data"
    },
    {
     "data": {
      "text/latex": [
       "$\\displaystyle \\frac{k {\\left(l - \\sqrt{{\\left(x_{2}\\left(t\\right) - x_{4}\\left(t\\right)\\right)}^{2} + {\\left(y_{2}\\left(t\\right) - y_{4}\\left(t\\right)\\right)}^{2}}\\right)} {\\left(y_{2}\\left(t\\right) - y_{4}\\left(t\\right)\\right)}}{\\sqrt{{\\left(x_{2}\\left(t\\right) - x_{4}\\left(t\\right)\\right)}^{2} + {\\left(y_{2}\\left(t\\right) - y_{4}\\left(t\\right)\\right)}^{2}}} - \\frac{k {\\left(l - \\sqrt{{\\left(x_{4}\\left(t\\right) - x_{6}\\left(t\\right)\\right)}^{2} + {\\left(y_{4}\\left(t\\right) - y_{6}\\left(t\\right)\\right)}^{2}}\\right)} {\\left(y_{4}\\left(t\\right) - y_{6}\\left(t\\right)\\right)}}{\\sqrt{{\\left(x_{4}\\left(t\\right) - x_{6}\\left(t\\right)\\right)}^{2} + {\\left(y_{4}\\left(t\\right) - y_{6}\\left(t\\right)\\right)}^{2}}} - \\frac{k {\\left(l - \\sqrt{{\\left(x_{4}\\left(t\\right) - x_{7}\\left(t\\right)\\right)}^{2} + {\\left(y_{4}\\left(t\\right) - y_{7}\\left(t\\right)\\right)}^{2}}\\right)} {\\left(y_{4}\\left(t\\right) - y_{7}\\left(t\\right)\\right)}}{\\sqrt{{\\left(x_{4}\\left(t\\right) - x_{7}\\left(t\\right)\\right)}^{2} + {\\left(y_{4}\\left(t\\right) - y_{7}\\left(t\\right)\\right)}^{2}}} + M \\frac{\\partial^{2}}{(\\partial t)^{2}}y_{4}\\left(t\\right) = 0$"
      ],
      "text/plain": [
       "<IPython.core.display.Math object>"
      ]
     },
     "metadata": {},
     "output_type": "display_data"
    },
    {
     "data": {
      "text/latex": [
       "$\\displaystyle \\frac{k {\\left(l - \\sqrt{{\\left(x_{3}\\left(t\\right) - x_{5}\\left(t\\right)\\right)}^{2} + {\\left(y_{3}\\left(t\\right) - y_{5}\\left(t\\right)\\right)}^{2}}\\right)} {\\left(y_{3}\\left(t\\right) - y_{5}\\left(t\\right)\\right)}}{\\sqrt{{\\left(x_{3}\\left(t\\right) - x_{5}\\left(t\\right)\\right)}^{2} + {\\left(y_{3}\\left(t\\right) - y_{5}\\left(t\\right)\\right)}^{2}}} - \\frac{k {\\left(l - \\sqrt{{\\left(2 \\, \\sqrt{3} l - x_{5}\\left(t\\right) + x_{6}\\left(t\\right)\\right)}^{2} + {\\left(y_{5}\\left(t\\right) - y_{6}\\left(t\\right)\\right)}^{2}}\\right)} {\\left(y_{5}\\left(t\\right) - y_{6}\\left(t\\right)\\right)}}{\\sqrt{{\\left(2 \\, \\sqrt{3} l - x_{5}\\left(t\\right) + x_{6}\\left(t\\right)\\right)}^{2} + {\\left(y_{5}\\left(t\\right) - y_{6}\\left(t\\right)\\right)}^{2}}} - \\frac{k {\\left(l - \\sqrt{{\\left(x_{5}\\left(t\\right) - x_{7}\\left(t\\right)\\right)}^{2} + {\\left(y_{5}\\left(t\\right) - y_{7}\\left(t\\right)\\right)}^{2}}\\right)} {\\left(y_{5}\\left(t\\right) - y_{7}\\left(t\\right)\\right)}}{\\sqrt{{\\left(x_{5}\\left(t\\right) - x_{7}\\left(t\\right)\\right)}^{2} + {\\left(y_{5}\\left(t\\right) - y_{7}\\left(t\\right)\\right)}^{2}}} + M \\frac{\\partial^{2}}{(\\partial t)^{2}}y_{5}\\left(t\\right) = 0$"
      ],
      "text/plain": [
       "<IPython.core.display.Math object>"
      ]
     },
     "metadata": {},
     "output_type": "display_data"
    },
    {
     "data": {
      "text/latex": [
       "$\\displaystyle \\frac{k {\\left(3 \\, l + y_{0}\\left(t\\right) - y_{6}\\left(t\\right)\\right)} {\\left(l - \\sqrt{{\\left(3 \\, l + y_{0}\\left(t\\right) - y_{6}\\left(t\\right)\\right)}^{2} + {\\left(x_{0}\\left(t\\right) - x_{6}\\left(t\\right)\\right)}^{2}}\\right)}}{\\sqrt{{\\left(3 \\, l + y_{0}\\left(t\\right) - y_{6}\\left(t\\right)\\right)}^{2} + {\\left(x_{0}\\left(t\\right) - x_{6}\\left(t\\right)\\right)}^{2}}} + \\frac{k {\\left(l - \\sqrt{{\\left(x_{4}\\left(t\\right) - x_{6}\\left(t\\right)\\right)}^{2} + {\\left(y_{4}\\left(t\\right) - y_{6}\\left(t\\right)\\right)}^{2}}\\right)} {\\left(y_{4}\\left(t\\right) - y_{6}\\left(t\\right)\\right)}}{\\sqrt{{\\left(x_{4}\\left(t\\right) - x_{6}\\left(t\\right)\\right)}^{2} + {\\left(y_{4}\\left(t\\right) - y_{6}\\left(t\\right)\\right)}^{2}}} + \\frac{k {\\left(l - \\sqrt{{\\left(2 \\, \\sqrt{3} l - x_{5}\\left(t\\right) + x_{6}\\left(t\\right)\\right)}^{2} + {\\left(y_{5}\\left(t\\right) - y_{6}\\left(t\\right)\\right)}^{2}}\\right)} {\\left(y_{5}\\left(t\\right) - y_{6}\\left(t\\right)\\right)}}{\\sqrt{{\\left(2 \\, \\sqrt{3} l - x_{5}\\left(t\\right) + x_{6}\\left(t\\right)\\right)}^{2} + {\\left(y_{5}\\left(t\\right) - y_{6}\\left(t\\right)\\right)}^{2}}} + m \\frac{\\partial^{2}}{(\\partial t)^{2}}y_{6}\\left(t\\right) = 0$"
      ],
      "text/plain": [
       "<IPython.core.display.Math object>"
      ]
     },
     "metadata": {},
     "output_type": "display_data"
    },
    {
     "data": {
      "text/latex": [
       "$\\displaystyle \\frac{k {\\left(3 \\, l + y_{1}\\left(t\\right) - y_{7}\\left(t\\right)\\right)} {\\left(l - \\sqrt{{\\left(3 \\, l + y_{1}\\left(t\\right) - y_{7}\\left(t\\right)\\right)}^{2} + {\\left(x_{1}\\left(t\\right) - x_{7}\\left(t\\right)\\right)}^{2}}\\right)}}{\\sqrt{{\\left(3 \\, l + y_{1}\\left(t\\right) - y_{7}\\left(t\\right)\\right)}^{2} + {\\left(x_{1}\\left(t\\right) - x_{7}\\left(t\\right)\\right)}^{2}}} + \\frac{k {\\left(l - \\sqrt{{\\left(x_{4}\\left(t\\right) - x_{7}\\left(t\\right)\\right)}^{2} + {\\left(y_{4}\\left(t\\right) - y_{7}\\left(t\\right)\\right)}^{2}}\\right)} {\\left(y_{4}\\left(t\\right) - y_{7}\\left(t\\right)\\right)}}{\\sqrt{{\\left(x_{4}\\left(t\\right) - x_{7}\\left(t\\right)\\right)}^{2} + {\\left(y_{4}\\left(t\\right) - y_{7}\\left(t\\right)\\right)}^{2}}} + \\frac{k {\\left(l - \\sqrt{{\\left(x_{5}\\left(t\\right) - x_{7}\\left(t\\right)\\right)}^{2} + {\\left(y_{5}\\left(t\\right) - y_{7}\\left(t\\right)\\right)}^{2}}\\right)} {\\left(y_{5}\\left(t\\right) - y_{7}\\left(t\\right)\\right)}}{\\sqrt{{\\left(x_{5}\\left(t\\right) - x_{7}\\left(t\\right)\\right)}^{2} + {\\left(y_{5}\\left(t\\right) - y_{7}\\left(t\\right)\\right)}^{2}}} + m \\frac{\\partial^{2}}{(\\partial t)^{2}}y_{7}\\left(t\\right) = 0$"
      ],
      "text/plain": [
       "<IPython.core.display.Math object>"
      ]
     },
     "metadata": {},
     "output_type": "display_data"
    }
   ],
   "source": [
    "for eq_y in eqs_y:\n",
    "    disp(eq_y)"
   ]
  },
  {
   "cell_type": "code",
   "execution_count": 15,
   "id": "be765058",
   "metadata": {},
   "outputs": [
    {
     "data": {
      "text/plain": [
       "8"
      ]
     },
     "execution_count": 15,
     "metadata": {},
     "output_type": "execute_result"
    }
   ],
   "source": [
    "len(eqs_x)"
   ]
  },
  {
   "cell_type": "code",
   "execution_count": 16,
   "id": "7bc72d56",
   "metadata": {},
   "outputs": [
    {
     "data": {
      "text/latex": [
       "$\\displaystyle A_{x_{0}} M \\lambda_{x_{0}}^{2} e^{\\left(\\lambda_{x_{0}} t\\right)} - \\frac{{\\left(A_{x_{0}} e^{\\left(\\lambda_{x_{0}} t\\right)} - A_{x_{2}} e^{\\left(\\lambda_{x_{2}} t\\right)}\\right)} k {\\left(l - \\sqrt{{\\left(A_{x_{0}} e^{\\left(\\lambda_{x_{0}} t\\right)} - A_{x_{2}} e^{\\left(\\lambda_{x_{2}} t\\right)}\\right)}^{2} + {\\left(A_{y_{0}} e^{\\left(\\lambda_{y_{0}} t\\right)} - A_{y_{2}} e^{\\left(\\lambda_{y_{2}} t\\right)}\\right)}^{2}}\\right)}}{\\sqrt{{\\left(A_{x_{0}} e^{\\left(\\lambda_{x_{0}} t\\right)} - A_{x_{2}} e^{\\left(\\lambda_{x_{2}} t\\right)}\\right)}^{2} + {\\left(A_{y_{0}} e^{\\left(\\lambda_{y_{0}} t\\right)} - A_{y_{2}} e^{\\left(\\lambda_{y_{2}} t\\right)}\\right)}^{2}}} - \\frac{{\\left(A_{x_{0}} e^{\\left(\\lambda_{x_{0}} t\\right)} - A_{x_{3}} e^{\\left(\\lambda_{x_{3}} t\\right)} + 2 \\, \\sqrt{3} l\\right)} k {\\left(l - \\sqrt{{\\left(A_{x_{0}} e^{\\left(\\lambda_{x_{0}} t\\right)} - A_{x_{3}} e^{\\left(\\lambda_{x_{3}} t\\right)} + 2 \\, \\sqrt{3} l\\right)}^{2} + {\\left(A_{y_{0}} e^{\\left(\\lambda_{y_{0}} t\\right)} - A_{y_{3}} e^{\\left(\\lambda_{y_{3}} t\\right)}\\right)}^{2}}\\right)}}{\\sqrt{{\\left(A_{x_{0}} e^{\\left(\\lambda_{x_{0}} t\\right)} - A_{x_{3}} e^{\\left(\\lambda_{x_{3}} t\\right)} + 2 \\, \\sqrt{3} l\\right)}^{2} + {\\left(A_{y_{0}} e^{\\left(\\lambda_{y_{0}} t\\right)} - A_{y_{3}} e^{\\left(\\lambda_{y_{3}} t\\right)}\\right)}^{2}}} - \\frac{{\\left(A_{x_{0}} e^{\\left(\\lambda_{x_{0}} t\\right)} - A_{x_{6}} e^{\\left(\\lambda_{x_{6}} t\\right)}\\right)} k {\\left(l - \\sqrt{{\\left(A_{x_{0}} e^{\\left(\\lambda_{x_{0}} t\\right)} - A_{x_{6}} e^{\\left(\\lambda_{x_{6}} t\\right)}\\right)}^{2} + {\\left(A_{y_{0}} e^{\\left(\\lambda_{y_{0}} t\\right)} - A_{y_{6}} e^{\\left(\\lambda_{y_{6}} t\\right)} + 3 \\, l\\right)}^{2}}\\right)}}{\\sqrt{{\\left(A_{x_{0}} e^{\\left(\\lambda_{x_{0}} t\\right)} - A_{x_{6}} e^{\\left(\\lambda_{x_{6}} t\\right)}\\right)}^{2} + {\\left(A_{y_{0}} e^{\\left(\\lambda_{y_{0}} t\\right)} - A_{y_{6}} e^{\\left(\\lambda_{y_{6}} t\\right)} + 3 \\, l\\right)}^{2}}} = 0$"
      ],
      "text/plain": [
       "<IPython.core.display.Math object>"
      ]
     },
     "metadata": {},
     "output_type": "display_data"
    },
    {
     "data": {
      "text/latex": [
       "$\\displaystyle A_{y_{0}} M \\lambda_{y_{0}}^{2} e^{\\left(\\lambda_{y_{0}} t\\right)} - \\frac{{\\left(A_{y_{0}} e^{\\left(\\lambda_{y_{0}} t\\right)} - A_{y_{2}} e^{\\left(\\lambda_{y_{2}} t\\right)}\\right)} k {\\left(l - \\sqrt{{\\left(A_{x_{0}} e^{\\left(\\lambda_{x_{0}} t\\right)} - A_{x_{2}} e^{\\left(\\lambda_{x_{2}} t\\right)}\\right)}^{2} + {\\left(A_{y_{0}} e^{\\left(\\lambda_{y_{0}} t\\right)} - A_{y_{2}} e^{\\left(\\lambda_{y_{2}} t\\right)}\\right)}^{2}}\\right)}}{\\sqrt{{\\left(A_{x_{0}} e^{\\left(\\lambda_{x_{0}} t\\right)} - A_{x_{2}} e^{\\left(\\lambda_{x_{2}} t\\right)}\\right)}^{2} + {\\left(A_{y_{0}} e^{\\left(\\lambda_{y_{0}} t\\right)} - A_{y_{2}} e^{\\left(\\lambda_{y_{2}} t\\right)}\\right)}^{2}}} - \\frac{{\\left(A_{y_{0}} e^{\\left(\\lambda_{y_{0}} t\\right)} - A_{y_{3}} e^{\\left(\\lambda_{y_{3}} t\\right)}\\right)} k {\\left(l - \\sqrt{{\\left(A_{x_{0}} e^{\\left(\\lambda_{x_{0}} t\\right)} - A_{x_{3}} e^{\\left(\\lambda_{x_{3}} t\\right)} + 2 \\, \\sqrt{3} l\\right)}^{2} + {\\left(A_{y_{0}} e^{\\left(\\lambda_{y_{0}} t\\right)} - A_{y_{3}} e^{\\left(\\lambda_{y_{3}} t\\right)}\\right)}^{2}}\\right)}}{\\sqrt{{\\left(A_{x_{0}} e^{\\left(\\lambda_{x_{0}} t\\right)} - A_{x_{3}} e^{\\left(\\lambda_{x_{3}} t\\right)} + 2 \\, \\sqrt{3} l\\right)}^{2} + {\\left(A_{y_{0}} e^{\\left(\\lambda_{y_{0}} t\\right)} - A_{y_{3}} e^{\\left(\\lambda_{y_{3}} t\\right)}\\right)}^{2}}} - \\frac{{\\left(A_{y_{0}} e^{\\left(\\lambda_{y_{0}} t\\right)} - A_{y_{6}} e^{\\left(\\lambda_{y_{6}} t\\right)} + 3 \\, l\\right)} k {\\left(l - \\sqrt{{\\left(A_{x_{0}} e^{\\left(\\lambda_{x_{0}} t\\right)} - A_{x_{6}} e^{\\left(\\lambda_{x_{6}} t\\right)}\\right)}^{2} + {\\left(A_{y_{0}} e^{\\left(\\lambda_{y_{0}} t\\right)} - A_{y_{6}} e^{\\left(\\lambda_{y_{6}} t\\right)} + 3 \\, l\\right)}^{2}}\\right)}}{\\sqrt{{\\left(A_{x_{0}} e^{\\left(\\lambda_{x_{0}} t\\right)} - A_{x_{6}} e^{\\left(\\lambda_{x_{6}} t\\right)}\\right)}^{2} + {\\left(A_{y_{0}} e^{\\left(\\lambda_{y_{0}} t\\right)} - A_{y_{6}} e^{\\left(\\lambda_{y_{6}} t\\right)} + 3 \\, l\\right)}^{2}}} = 0$"
      ],
      "text/plain": [
       "<IPython.core.display.Math object>"
      ]
     },
     "metadata": {},
     "output_type": "display_data"
    },
    {
     "data": {
      "text/latex": [
       "$\\displaystyle A_{x_{1}} M \\lambda_{x_{1}}^{2} e^{\\left(\\lambda_{x_{1}} t\\right)} - \\frac{{\\left(A_{x_{1}} e^{\\left(\\lambda_{x_{1}} t\\right)} - A_{x_{2}} e^{\\left(\\lambda_{x_{2}} t\\right)}\\right)} k {\\left(l - \\sqrt{{\\left(A_{x_{1}} e^{\\left(\\lambda_{x_{1}} t\\right)} - A_{x_{2}} e^{\\left(\\lambda_{x_{2}} t\\right)}\\right)}^{2} + {\\left(A_{y_{1}} e^{\\left(\\lambda_{y_{1}} t\\right)} - A_{y_{2}} e^{\\left(\\lambda_{y_{2}} t\\right)}\\right)}^{2}}\\right)}}{\\sqrt{{\\left(A_{x_{1}} e^{\\left(\\lambda_{x_{1}} t\\right)} - A_{x_{2}} e^{\\left(\\lambda_{x_{2}} t\\right)}\\right)}^{2} + {\\left(A_{y_{1}} e^{\\left(\\lambda_{y_{1}} t\\right)} - A_{y_{2}} e^{\\left(\\lambda_{y_{2}} t\\right)}\\right)}^{2}}} - \\frac{{\\left(A_{x_{1}} e^{\\left(\\lambda_{x_{1}} t\\right)} - A_{x_{3}} e^{\\left(\\lambda_{x_{3}} t\\right)}\\right)} k {\\left(l - \\sqrt{{\\left(A_{x_{1}} e^{\\left(\\lambda_{x_{1}} t\\right)} - A_{x_{3}} e^{\\left(\\lambda_{x_{3}} t\\right)}\\right)}^{2} + {\\left(A_{y_{1}} e^{\\left(\\lambda_{y_{1}} t\\right)} - A_{y_{3}} e^{\\left(\\lambda_{y_{3}} t\\right)}\\right)}^{2}}\\right)}}{\\sqrt{{\\left(A_{x_{1}} e^{\\left(\\lambda_{x_{1}} t\\right)} - A_{x_{3}} e^{\\left(\\lambda_{x_{3}} t\\right)}\\right)}^{2} + {\\left(A_{y_{1}} e^{\\left(\\lambda_{y_{1}} t\\right)} - A_{y_{3}} e^{\\left(\\lambda_{y_{3}} t\\right)}\\right)}^{2}}} - \\frac{{\\left(A_{x_{1}} e^{\\left(\\lambda_{x_{1}} t\\right)} - A_{x_{7}} e^{\\left(\\lambda_{x_{7}} t\\right)}\\right)} k {\\left(l - \\sqrt{{\\left(A_{x_{1}} e^{\\left(\\lambda_{x_{1}} t\\right)} - A_{x_{7}} e^{\\left(\\lambda_{x_{7}} t\\right)}\\right)}^{2} + {\\left(A_{y_{1}} e^{\\left(\\lambda_{y_{1}} t\\right)} - A_{y_{7}} e^{\\left(\\lambda_{y_{7}} t\\right)} + 3 \\, l\\right)}^{2}}\\right)}}{\\sqrt{{\\left(A_{x_{1}} e^{\\left(\\lambda_{x_{1}} t\\right)} - A_{x_{7}} e^{\\left(\\lambda_{x_{7}} t\\right)}\\right)}^{2} + {\\left(A_{y_{1}} e^{\\left(\\lambda_{y_{1}} t\\right)} - A_{y_{7}} e^{\\left(\\lambda_{y_{7}} t\\right)} + 3 \\, l\\right)}^{2}}} = 0$"
      ],
      "text/plain": [
       "<IPython.core.display.Math object>"
      ]
     },
     "metadata": {},
     "output_type": "display_data"
    },
    {
     "data": {
      "text/latex": [
       "$\\displaystyle A_{y_{1}} M \\lambda_{y_{1}}^{2} e^{\\left(\\lambda_{y_{1}} t\\right)} - \\frac{{\\left(A_{y_{1}} e^{\\left(\\lambda_{y_{1}} t\\right)} - A_{y_{2}} e^{\\left(\\lambda_{y_{2}} t\\right)}\\right)} k {\\left(l - \\sqrt{{\\left(A_{x_{1}} e^{\\left(\\lambda_{x_{1}} t\\right)} - A_{x_{2}} e^{\\left(\\lambda_{x_{2}} t\\right)}\\right)}^{2} + {\\left(A_{y_{1}} e^{\\left(\\lambda_{y_{1}} t\\right)} - A_{y_{2}} e^{\\left(\\lambda_{y_{2}} t\\right)}\\right)}^{2}}\\right)}}{\\sqrt{{\\left(A_{x_{1}} e^{\\left(\\lambda_{x_{1}} t\\right)} - A_{x_{2}} e^{\\left(\\lambda_{x_{2}} t\\right)}\\right)}^{2} + {\\left(A_{y_{1}} e^{\\left(\\lambda_{y_{1}} t\\right)} - A_{y_{2}} e^{\\left(\\lambda_{y_{2}} t\\right)}\\right)}^{2}}} - \\frac{{\\left(A_{y_{1}} e^{\\left(\\lambda_{y_{1}} t\\right)} - A_{y_{3}} e^{\\left(\\lambda_{y_{3}} t\\right)}\\right)} k {\\left(l - \\sqrt{{\\left(A_{x_{1}} e^{\\left(\\lambda_{x_{1}} t\\right)} - A_{x_{3}} e^{\\left(\\lambda_{x_{3}} t\\right)}\\right)}^{2} + {\\left(A_{y_{1}} e^{\\left(\\lambda_{y_{1}} t\\right)} - A_{y_{3}} e^{\\left(\\lambda_{y_{3}} t\\right)}\\right)}^{2}}\\right)}}{\\sqrt{{\\left(A_{x_{1}} e^{\\left(\\lambda_{x_{1}} t\\right)} - A_{x_{3}} e^{\\left(\\lambda_{x_{3}} t\\right)}\\right)}^{2} + {\\left(A_{y_{1}} e^{\\left(\\lambda_{y_{1}} t\\right)} - A_{y_{3}} e^{\\left(\\lambda_{y_{3}} t\\right)}\\right)}^{2}}} - \\frac{{\\left(A_{y_{1}} e^{\\left(\\lambda_{y_{1}} t\\right)} - A_{y_{7}} e^{\\left(\\lambda_{y_{7}} t\\right)} + 3 \\, l\\right)} k {\\left(l - \\sqrt{{\\left(A_{x_{1}} e^{\\left(\\lambda_{x_{1}} t\\right)} - A_{x_{7}} e^{\\left(\\lambda_{x_{7}} t\\right)}\\right)}^{2} + {\\left(A_{y_{1}} e^{\\left(\\lambda_{y_{1}} t\\right)} - A_{y_{7}} e^{\\left(\\lambda_{y_{7}} t\\right)} + 3 \\, l\\right)}^{2}}\\right)}}{\\sqrt{{\\left(A_{x_{1}} e^{\\left(\\lambda_{x_{1}} t\\right)} - A_{x_{7}} e^{\\left(\\lambda_{x_{7}} t\\right)}\\right)}^{2} + {\\left(A_{y_{1}} e^{\\left(\\lambda_{y_{1}} t\\right)} - A_{y_{7}} e^{\\left(\\lambda_{y_{7}} t\\right)} + 3 \\, l\\right)}^{2}}} = 0$"
      ],
      "text/plain": [
       "<IPython.core.display.Math object>"
      ]
     },
     "metadata": {},
     "output_type": "display_data"
    },
    {
     "data": {
      "text/latex": [
       "$\\displaystyle A_{x_{2}} \\lambda_{x_{2}}^{2} m e^{\\left(\\lambda_{x_{2}} t\\right)} + \\frac{{\\left(A_{x_{0}} e^{\\left(\\lambda_{x_{0}} t\\right)} - A_{x_{2}} e^{\\left(\\lambda_{x_{2}} t\\right)}\\right)} k {\\left(l - \\sqrt{{\\left(A_{x_{0}} e^{\\left(\\lambda_{x_{0}} t\\right)} - A_{x_{2}} e^{\\left(\\lambda_{x_{2}} t\\right)}\\right)}^{2} + {\\left(A_{y_{0}} e^{\\left(\\lambda_{y_{0}} t\\right)} - A_{y_{2}} e^{\\left(\\lambda_{y_{2}} t\\right)}\\right)}^{2}}\\right)}}{\\sqrt{{\\left(A_{x_{0}} e^{\\left(\\lambda_{x_{0}} t\\right)} - A_{x_{2}} e^{\\left(\\lambda_{x_{2}} t\\right)}\\right)}^{2} + {\\left(A_{y_{0}} e^{\\left(\\lambda_{y_{0}} t\\right)} - A_{y_{2}} e^{\\left(\\lambda_{y_{2}} t\\right)}\\right)}^{2}}} + \\frac{{\\left(A_{x_{1}} e^{\\left(\\lambda_{x_{1}} t\\right)} - A_{x_{2}} e^{\\left(\\lambda_{x_{2}} t\\right)}\\right)} k {\\left(l - \\sqrt{{\\left(A_{x_{1}} e^{\\left(\\lambda_{x_{1}} t\\right)} - A_{x_{2}} e^{\\left(\\lambda_{x_{2}} t\\right)}\\right)}^{2} + {\\left(A_{y_{1}} e^{\\left(\\lambda_{y_{1}} t\\right)} - A_{y_{2}} e^{\\left(\\lambda_{y_{2}} t\\right)}\\right)}^{2}}\\right)}}{\\sqrt{{\\left(A_{x_{1}} e^{\\left(\\lambda_{x_{1}} t\\right)} - A_{x_{2}} e^{\\left(\\lambda_{x_{2}} t\\right)}\\right)}^{2} + {\\left(A_{y_{1}} e^{\\left(\\lambda_{y_{1}} t\\right)} - A_{y_{2}} e^{\\left(\\lambda_{y_{2}} t\\right)}\\right)}^{2}}} - \\frac{{\\left(A_{x_{2}} e^{\\left(\\lambda_{x_{2}} t\\right)} - A_{x_{4}} e^{\\left(\\lambda_{x_{4}} t\\right)}\\right)} k {\\left(l - \\sqrt{{\\left(A_{x_{2}} e^{\\left(\\lambda_{x_{2}} t\\right)} - A_{x_{4}} e^{\\left(\\lambda_{x_{4}} t\\right)}\\right)}^{2} + {\\left(A_{y_{2}} e^{\\left(\\lambda_{y_{2}} t\\right)} - A_{y_{4}} e^{\\left(\\lambda_{y_{4}} t\\right)}\\right)}^{2}}\\right)}}{\\sqrt{{\\left(A_{x_{2}} e^{\\left(\\lambda_{x_{2}} t\\right)} - A_{x_{4}} e^{\\left(\\lambda_{x_{4}} t\\right)}\\right)}^{2} + {\\left(A_{y_{2}} e^{\\left(\\lambda_{y_{2}} t\\right)} - A_{y_{4}} e^{\\left(\\lambda_{y_{4}} t\\right)}\\right)}^{2}}} = 0$"
      ],
      "text/plain": [
       "<IPython.core.display.Math object>"
      ]
     },
     "metadata": {},
     "output_type": "display_data"
    },
    {
     "data": {
      "text/latex": [
       "$\\displaystyle A_{y_{2}} \\lambda_{y_{2}}^{2} m e^{\\left(\\lambda_{y_{2}} t\\right)} + \\frac{{\\left(A_{y_{0}} e^{\\left(\\lambda_{y_{0}} t\\right)} - A_{y_{2}} e^{\\left(\\lambda_{y_{2}} t\\right)}\\right)} k {\\left(l - \\sqrt{{\\left(A_{x_{0}} e^{\\left(\\lambda_{x_{0}} t\\right)} - A_{x_{2}} e^{\\left(\\lambda_{x_{2}} t\\right)}\\right)}^{2} + {\\left(A_{y_{0}} e^{\\left(\\lambda_{y_{0}} t\\right)} - A_{y_{2}} e^{\\left(\\lambda_{y_{2}} t\\right)}\\right)}^{2}}\\right)}}{\\sqrt{{\\left(A_{x_{0}} e^{\\left(\\lambda_{x_{0}} t\\right)} - A_{x_{2}} e^{\\left(\\lambda_{x_{2}} t\\right)}\\right)}^{2} + {\\left(A_{y_{0}} e^{\\left(\\lambda_{y_{0}} t\\right)} - A_{y_{2}} e^{\\left(\\lambda_{y_{2}} t\\right)}\\right)}^{2}}} + \\frac{{\\left(A_{y_{1}} e^{\\left(\\lambda_{y_{1}} t\\right)} - A_{y_{2}} e^{\\left(\\lambda_{y_{2}} t\\right)}\\right)} k {\\left(l - \\sqrt{{\\left(A_{x_{1}} e^{\\left(\\lambda_{x_{1}} t\\right)} - A_{x_{2}} e^{\\left(\\lambda_{x_{2}} t\\right)}\\right)}^{2} + {\\left(A_{y_{1}} e^{\\left(\\lambda_{y_{1}} t\\right)} - A_{y_{2}} e^{\\left(\\lambda_{y_{2}} t\\right)}\\right)}^{2}}\\right)}}{\\sqrt{{\\left(A_{x_{1}} e^{\\left(\\lambda_{x_{1}} t\\right)} - A_{x_{2}} e^{\\left(\\lambda_{x_{2}} t\\right)}\\right)}^{2} + {\\left(A_{y_{1}} e^{\\left(\\lambda_{y_{1}} t\\right)} - A_{y_{2}} e^{\\left(\\lambda_{y_{2}} t\\right)}\\right)}^{2}}} - \\frac{{\\left(A_{y_{2}} e^{\\left(\\lambda_{y_{2}} t\\right)} - A_{y_{4}} e^{\\left(\\lambda_{y_{4}} t\\right)}\\right)} k {\\left(l - \\sqrt{{\\left(A_{x_{2}} e^{\\left(\\lambda_{x_{2}} t\\right)} - A_{x_{4}} e^{\\left(\\lambda_{x_{4}} t\\right)}\\right)}^{2} + {\\left(A_{y_{2}} e^{\\left(\\lambda_{y_{2}} t\\right)} - A_{y_{4}} e^{\\left(\\lambda_{y_{4}} t\\right)}\\right)}^{2}}\\right)}}{\\sqrt{{\\left(A_{x_{2}} e^{\\left(\\lambda_{x_{2}} t\\right)} - A_{x_{4}} e^{\\left(\\lambda_{x_{4}} t\\right)}\\right)}^{2} + {\\left(A_{y_{2}} e^{\\left(\\lambda_{y_{2}} t\\right)} - A_{y_{4}} e^{\\left(\\lambda_{y_{4}} t\\right)}\\right)}^{2}}} = 0$"
      ],
      "text/plain": [
       "<IPython.core.display.Math object>"
      ]
     },
     "metadata": {},
     "output_type": "display_data"
    },
    {
     "data": {
      "text/latex": [
       "$\\displaystyle A_{x_{3}} \\lambda_{x_{3}}^{2} m e^{\\left(\\lambda_{x_{3}} t\\right)} + \\frac{{\\left(A_{x_{0}} e^{\\left(\\lambda_{x_{0}} t\\right)} - A_{x_{3}} e^{\\left(\\lambda_{x_{3}} t\\right)} + 2 \\, \\sqrt{3} l\\right)} k {\\left(l - \\sqrt{{\\left(A_{x_{0}} e^{\\left(\\lambda_{x_{0}} t\\right)} - A_{x_{3}} e^{\\left(\\lambda_{x_{3}} t\\right)} + 2 \\, \\sqrt{3} l\\right)}^{2} + {\\left(A_{y_{0}} e^{\\left(\\lambda_{y_{0}} t\\right)} - A_{y_{3}} e^{\\left(\\lambda_{y_{3}} t\\right)}\\right)}^{2}}\\right)}}{\\sqrt{{\\left(A_{x_{0}} e^{\\left(\\lambda_{x_{0}} t\\right)} - A_{x_{3}} e^{\\left(\\lambda_{x_{3}} t\\right)} + 2 \\, \\sqrt{3} l\\right)}^{2} + {\\left(A_{y_{0}} e^{\\left(\\lambda_{y_{0}} t\\right)} - A_{y_{3}} e^{\\left(\\lambda_{y_{3}} t\\right)}\\right)}^{2}}} + \\frac{{\\left(A_{x_{1}} e^{\\left(\\lambda_{x_{1}} t\\right)} - A_{x_{3}} e^{\\left(\\lambda_{x_{3}} t\\right)}\\right)} k {\\left(l - \\sqrt{{\\left(A_{x_{1}} e^{\\left(\\lambda_{x_{1}} t\\right)} - A_{x_{3}} e^{\\left(\\lambda_{x_{3}} t\\right)}\\right)}^{2} + {\\left(A_{y_{1}} e^{\\left(\\lambda_{y_{1}} t\\right)} - A_{y_{3}} e^{\\left(\\lambda_{y_{3}} t\\right)}\\right)}^{2}}\\right)}}{\\sqrt{{\\left(A_{x_{1}} e^{\\left(\\lambda_{x_{1}} t\\right)} - A_{x_{3}} e^{\\left(\\lambda_{x_{3}} t\\right)}\\right)}^{2} + {\\left(A_{y_{1}} e^{\\left(\\lambda_{y_{1}} t\\right)} - A_{y_{3}} e^{\\left(\\lambda_{y_{3}} t\\right)}\\right)}^{2}}} - \\frac{{\\left(A_{x_{3}} e^{\\left(\\lambda_{x_{3}} t\\right)} - A_{x_{5}} e^{\\left(\\lambda_{x_{5}} t\\right)}\\right)} k {\\left(l - \\sqrt{{\\left(A_{x_{3}} e^{\\left(\\lambda_{x_{3}} t\\right)} - A_{x_{5}} e^{\\left(\\lambda_{x_{5}} t\\right)}\\right)}^{2} + {\\left(A_{y_{3}} e^{\\left(\\lambda_{y_{3}} t\\right)} - A_{y_{5}} e^{\\left(\\lambda_{y_{5}} t\\right)}\\right)}^{2}}\\right)}}{\\sqrt{{\\left(A_{x_{3}} e^{\\left(\\lambda_{x_{3}} t\\right)} - A_{x_{5}} e^{\\left(\\lambda_{x_{5}} t\\right)}\\right)}^{2} + {\\left(A_{y_{3}} e^{\\left(\\lambda_{y_{3}} t\\right)} - A_{y_{5}} e^{\\left(\\lambda_{y_{5}} t\\right)}\\right)}^{2}}} = 0$"
      ],
      "text/plain": [
       "<IPython.core.display.Math object>"
      ]
     },
     "metadata": {},
     "output_type": "display_data"
    },
    {
     "data": {
      "text/latex": [
       "$\\displaystyle A_{y_{3}} \\lambda_{y_{3}}^{2} m e^{\\left(\\lambda_{y_{3}} t\\right)} + \\frac{{\\left(A_{y_{0}} e^{\\left(\\lambda_{y_{0}} t\\right)} - A_{y_{3}} e^{\\left(\\lambda_{y_{3}} t\\right)}\\right)} k {\\left(l - \\sqrt{{\\left(A_{x_{0}} e^{\\left(\\lambda_{x_{0}} t\\right)} - A_{x_{3}} e^{\\left(\\lambda_{x_{3}} t\\right)} + 2 \\, \\sqrt{3} l\\right)}^{2} + {\\left(A_{y_{0}} e^{\\left(\\lambda_{y_{0}} t\\right)} - A_{y_{3}} e^{\\left(\\lambda_{y_{3}} t\\right)}\\right)}^{2}}\\right)}}{\\sqrt{{\\left(A_{x_{0}} e^{\\left(\\lambda_{x_{0}} t\\right)} - A_{x_{3}} e^{\\left(\\lambda_{x_{3}} t\\right)} + 2 \\, \\sqrt{3} l\\right)}^{2} + {\\left(A_{y_{0}} e^{\\left(\\lambda_{y_{0}} t\\right)} - A_{y_{3}} e^{\\left(\\lambda_{y_{3}} t\\right)}\\right)}^{2}}} + \\frac{{\\left(A_{y_{1}} e^{\\left(\\lambda_{y_{1}} t\\right)} - A_{y_{3}} e^{\\left(\\lambda_{y_{3}} t\\right)}\\right)} k {\\left(l - \\sqrt{{\\left(A_{x_{1}} e^{\\left(\\lambda_{x_{1}} t\\right)} - A_{x_{3}} e^{\\left(\\lambda_{x_{3}} t\\right)}\\right)}^{2} + {\\left(A_{y_{1}} e^{\\left(\\lambda_{y_{1}} t\\right)} - A_{y_{3}} e^{\\left(\\lambda_{y_{3}} t\\right)}\\right)}^{2}}\\right)}}{\\sqrt{{\\left(A_{x_{1}} e^{\\left(\\lambda_{x_{1}} t\\right)} - A_{x_{3}} e^{\\left(\\lambda_{x_{3}} t\\right)}\\right)}^{2} + {\\left(A_{y_{1}} e^{\\left(\\lambda_{y_{1}} t\\right)} - A_{y_{3}} e^{\\left(\\lambda_{y_{3}} t\\right)}\\right)}^{2}}} - \\frac{{\\left(A_{y_{3}} e^{\\left(\\lambda_{y_{3}} t\\right)} - A_{y_{5}} e^{\\left(\\lambda_{y_{5}} t\\right)}\\right)} k {\\left(l - \\sqrt{{\\left(A_{x_{3}} e^{\\left(\\lambda_{x_{3}} t\\right)} - A_{x_{5}} e^{\\left(\\lambda_{x_{5}} t\\right)}\\right)}^{2} + {\\left(A_{y_{3}} e^{\\left(\\lambda_{y_{3}} t\\right)} - A_{y_{5}} e^{\\left(\\lambda_{y_{5}} t\\right)}\\right)}^{2}}\\right)}}{\\sqrt{{\\left(A_{x_{3}} e^{\\left(\\lambda_{x_{3}} t\\right)} - A_{x_{5}} e^{\\left(\\lambda_{x_{5}} t\\right)}\\right)}^{2} + {\\left(A_{y_{3}} e^{\\left(\\lambda_{y_{3}} t\\right)} - A_{y_{5}} e^{\\left(\\lambda_{y_{5}} t\\right)}\\right)}^{2}}} = 0$"
      ],
      "text/plain": [
       "<IPython.core.display.Math object>"
      ]
     },
     "metadata": {},
     "output_type": "display_data"
    },
    {
     "data": {
      "text/latex": [
       "$\\displaystyle A_{x_{4}} M \\lambda_{x_{4}}^{2} e^{\\left(\\lambda_{x_{4}} t\\right)} + \\frac{{\\left(A_{x_{2}} e^{\\left(\\lambda_{x_{2}} t\\right)} - A_{x_{4}} e^{\\left(\\lambda_{x_{4}} t\\right)}\\right)} k {\\left(l - \\sqrt{{\\left(A_{x_{2}} e^{\\left(\\lambda_{x_{2}} t\\right)} - A_{x_{4}} e^{\\left(\\lambda_{x_{4}} t\\right)}\\right)}^{2} + {\\left(A_{y_{2}} e^{\\left(\\lambda_{y_{2}} t\\right)} - A_{y_{4}} e^{\\left(\\lambda_{y_{4}} t\\right)}\\right)}^{2}}\\right)}}{\\sqrt{{\\left(A_{x_{2}} e^{\\left(\\lambda_{x_{2}} t\\right)} - A_{x_{4}} e^{\\left(\\lambda_{x_{4}} t\\right)}\\right)}^{2} + {\\left(A_{y_{2}} e^{\\left(\\lambda_{y_{2}} t\\right)} - A_{y_{4}} e^{\\left(\\lambda_{y_{4}} t\\right)}\\right)}^{2}}} - \\frac{{\\left(A_{x_{4}} e^{\\left(\\lambda_{x_{4}} t\\right)} - A_{x_{6}} e^{\\left(\\lambda_{x_{6}} t\\right)}\\right)} k {\\left(l - \\sqrt{{\\left(A_{x_{4}} e^{\\left(\\lambda_{x_{4}} t\\right)} - A_{x_{6}} e^{\\left(\\lambda_{x_{6}} t\\right)}\\right)}^{2} + {\\left(A_{y_{4}} e^{\\left(\\lambda_{y_{4}} t\\right)} - A_{y_{6}} e^{\\left(\\lambda_{y_{6}} t\\right)}\\right)}^{2}}\\right)}}{\\sqrt{{\\left(A_{x_{4}} e^{\\left(\\lambda_{x_{4}} t\\right)} - A_{x_{6}} e^{\\left(\\lambda_{x_{6}} t\\right)}\\right)}^{2} + {\\left(A_{y_{4}} e^{\\left(\\lambda_{y_{4}} t\\right)} - A_{y_{6}} e^{\\left(\\lambda_{y_{6}} t\\right)}\\right)}^{2}}} - \\frac{{\\left(A_{x_{4}} e^{\\left(\\lambda_{x_{4}} t\\right)} - A_{x_{7}} e^{\\left(\\lambda_{x_{7}} t\\right)}\\right)} k {\\left(l - \\sqrt{{\\left(A_{x_{4}} e^{\\left(\\lambda_{x_{4}} t\\right)} - A_{x_{7}} e^{\\left(\\lambda_{x_{7}} t\\right)}\\right)}^{2} + {\\left(A_{y_{4}} e^{\\left(\\lambda_{y_{4}} t\\right)} - A_{y_{7}} e^{\\left(\\lambda_{y_{7}} t\\right)}\\right)}^{2}}\\right)}}{\\sqrt{{\\left(A_{x_{4}} e^{\\left(\\lambda_{x_{4}} t\\right)} - A_{x_{7}} e^{\\left(\\lambda_{x_{7}} t\\right)}\\right)}^{2} + {\\left(A_{y_{4}} e^{\\left(\\lambda_{y_{4}} t\\right)} - A_{y_{7}} e^{\\left(\\lambda_{y_{7}} t\\right)}\\right)}^{2}}} = 0$"
      ],
      "text/plain": [
       "<IPython.core.display.Math object>"
      ]
     },
     "metadata": {},
     "output_type": "display_data"
    },
    {
     "data": {
      "text/latex": [
       "$\\displaystyle A_{y_{4}} M \\lambda_{y_{4}}^{2} e^{\\left(\\lambda_{y_{4}} t\\right)} + \\frac{{\\left(A_{y_{2}} e^{\\left(\\lambda_{y_{2}} t\\right)} - A_{y_{4}} e^{\\left(\\lambda_{y_{4}} t\\right)}\\right)} k {\\left(l - \\sqrt{{\\left(A_{x_{2}} e^{\\left(\\lambda_{x_{2}} t\\right)} - A_{x_{4}} e^{\\left(\\lambda_{x_{4}} t\\right)}\\right)}^{2} + {\\left(A_{y_{2}} e^{\\left(\\lambda_{y_{2}} t\\right)} - A_{y_{4}} e^{\\left(\\lambda_{y_{4}} t\\right)}\\right)}^{2}}\\right)}}{\\sqrt{{\\left(A_{x_{2}} e^{\\left(\\lambda_{x_{2}} t\\right)} - A_{x_{4}} e^{\\left(\\lambda_{x_{4}} t\\right)}\\right)}^{2} + {\\left(A_{y_{2}} e^{\\left(\\lambda_{y_{2}} t\\right)} - A_{y_{4}} e^{\\left(\\lambda_{y_{4}} t\\right)}\\right)}^{2}}} - \\frac{{\\left(A_{y_{4}} e^{\\left(\\lambda_{y_{4}} t\\right)} - A_{y_{6}} e^{\\left(\\lambda_{y_{6}} t\\right)}\\right)} k {\\left(l - \\sqrt{{\\left(A_{x_{4}} e^{\\left(\\lambda_{x_{4}} t\\right)} - A_{x_{6}} e^{\\left(\\lambda_{x_{6}} t\\right)}\\right)}^{2} + {\\left(A_{y_{4}} e^{\\left(\\lambda_{y_{4}} t\\right)} - A_{y_{6}} e^{\\left(\\lambda_{y_{6}} t\\right)}\\right)}^{2}}\\right)}}{\\sqrt{{\\left(A_{x_{4}} e^{\\left(\\lambda_{x_{4}} t\\right)} - A_{x_{6}} e^{\\left(\\lambda_{x_{6}} t\\right)}\\right)}^{2} + {\\left(A_{y_{4}} e^{\\left(\\lambda_{y_{4}} t\\right)} - A_{y_{6}} e^{\\left(\\lambda_{y_{6}} t\\right)}\\right)}^{2}}} - \\frac{{\\left(A_{y_{4}} e^{\\left(\\lambda_{y_{4}} t\\right)} - A_{y_{7}} e^{\\left(\\lambda_{y_{7}} t\\right)}\\right)} k {\\left(l - \\sqrt{{\\left(A_{x_{4}} e^{\\left(\\lambda_{x_{4}} t\\right)} - A_{x_{7}} e^{\\left(\\lambda_{x_{7}} t\\right)}\\right)}^{2} + {\\left(A_{y_{4}} e^{\\left(\\lambda_{y_{4}} t\\right)} - A_{y_{7}} e^{\\left(\\lambda_{y_{7}} t\\right)}\\right)}^{2}}\\right)}}{\\sqrt{{\\left(A_{x_{4}} e^{\\left(\\lambda_{x_{4}} t\\right)} - A_{x_{7}} e^{\\left(\\lambda_{x_{7}} t\\right)}\\right)}^{2} + {\\left(A_{y_{4}} e^{\\left(\\lambda_{y_{4}} t\\right)} - A_{y_{7}} e^{\\left(\\lambda_{y_{7}} t\\right)}\\right)}^{2}}} = 0$"
      ],
      "text/plain": [
       "<IPython.core.display.Math object>"
      ]
     },
     "metadata": {},
     "output_type": "display_data"
    },
    {
     "data": {
      "text/latex": [
       "$\\displaystyle A_{x_{5}} M \\lambda_{x_{5}}^{2} e^{\\left(\\lambda_{x_{5}} t\\right)} + \\frac{{\\left(A_{x_{3}} e^{\\left(\\lambda_{x_{3}} t\\right)} - A_{x_{5}} e^{\\left(\\lambda_{x_{5}} t\\right)}\\right)} k {\\left(l - \\sqrt{{\\left(A_{x_{3}} e^{\\left(\\lambda_{x_{3}} t\\right)} - A_{x_{5}} e^{\\left(\\lambda_{x_{5}} t\\right)}\\right)}^{2} + {\\left(A_{y_{3}} e^{\\left(\\lambda_{y_{3}} t\\right)} - A_{y_{5}} e^{\\left(\\lambda_{y_{5}} t\\right)}\\right)}^{2}}\\right)}}{\\sqrt{{\\left(A_{x_{3}} e^{\\left(\\lambda_{x_{3}} t\\right)} - A_{x_{5}} e^{\\left(\\lambda_{x_{5}} t\\right)}\\right)}^{2} + {\\left(A_{y_{3}} e^{\\left(\\lambda_{y_{3}} t\\right)} - A_{y_{5}} e^{\\left(\\lambda_{y_{5}} t\\right)}\\right)}^{2}}} - \\frac{{\\left(A_{x_{5}} e^{\\left(\\lambda_{x_{5}} t\\right)} - A_{x_{6}} e^{\\left(\\lambda_{x_{6}} t\\right)} - 2 \\, \\sqrt{3} l\\right)} k {\\left(l - \\sqrt{{\\left(A_{x_{5}} e^{\\left(\\lambda_{x_{5}} t\\right)} - A_{x_{6}} e^{\\left(\\lambda_{x_{6}} t\\right)} - 2 \\, \\sqrt{3} l\\right)}^{2} + {\\left(A_{y_{5}} e^{\\left(\\lambda_{y_{5}} t\\right)} - A_{y_{6}} e^{\\left(\\lambda_{y_{6}} t\\right)}\\right)}^{2}}\\right)}}{\\sqrt{{\\left(A_{x_{5}} e^{\\left(\\lambda_{x_{5}} t\\right)} - A_{x_{6}} e^{\\left(\\lambda_{x_{6}} t\\right)} - 2 \\, \\sqrt{3} l\\right)}^{2} + {\\left(A_{y_{5}} e^{\\left(\\lambda_{y_{5}} t\\right)} - A_{y_{6}} e^{\\left(\\lambda_{y_{6}} t\\right)}\\right)}^{2}}} - \\frac{{\\left(A_{x_{5}} e^{\\left(\\lambda_{x_{5}} t\\right)} - A_{x_{7}} e^{\\left(\\lambda_{x_{7}} t\\right)}\\right)} k {\\left(l - \\sqrt{{\\left(A_{x_{5}} e^{\\left(\\lambda_{x_{5}} t\\right)} - A_{x_{7}} e^{\\left(\\lambda_{x_{7}} t\\right)}\\right)}^{2} + {\\left(A_{y_{5}} e^{\\left(\\lambda_{y_{5}} t\\right)} - A_{y_{7}} e^{\\left(\\lambda_{y_{7}} t\\right)}\\right)}^{2}}\\right)}}{\\sqrt{{\\left(A_{x_{5}} e^{\\left(\\lambda_{x_{5}} t\\right)} - A_{x_{7}} e^{\\left(\\lambda_{x_{7}} t\\right)}\\right)}^{2} + {\\left(A_{y_{5}} e^{\\left(\\lambda_{y_{5}} t\\right)} - A_{y_{7}} e^{\\left(\\lambda_{y_{7}} t\\right)}\\right)}^{2}}} = 0$"
      ],
      "text/plain": [
       "<IPython.core.display.Math object>"
      ]
     },
     "metadata": {},
     "output_type": "display_data"
    },
    {
     "data": {
      "text/latex": [
       "$\\displaystyle A_{y_{5}} M \\lambda_{y_{5}}^{2} e^{\\left(\\lambda_{y_{5}} t\\right)} + \\frac{{\\left(A_{y_{3}} e^{\\left(\\lambda_{y_{3}} t\\right)} - A_{y_{5}} e^{\\left(\\lambda_{y_{5}} t\\right)}\\right)} k {\\left(l - \\sqrt{{\\left(A_{x_{3}} e^{\\left(\\lambda_{x_{3}} t\\right)} - A_{x_{5}} e^{\\left(\\lambda_{x_{5}} t\\right)}\\right)}^{2} + {\\left(A_{y_{3}} e^{\\left(\\lambda_{y_{3}} t\\right)} - A_{y_{5}} e^{\\left(\\lambda_{y_{5}} t\\right)}\\right)}^{2}}\\right)}}{\\sqrt{{\\left(A_{x_{3}} e^{\\left(\\lambda_{x_{3}} t\\right)} - A_{x_{5}} e^{\\left(\\lambda_{x_{5}} t\\right)}\\right)}^{2} + {\\left(A_{y_{3}} e^{\\left(\\lambda_{y_{3}} t\\right)} - A_{y_{5}} e^{\\left(\\lambda_{y_{5}} t\\right)}\\right)}^{2}}} - \\frac{{\\left(A_{y_{5}} e^{\\left(\\lambda_{y_{5}} t\\right)} - A_{y_{6}} e^{\\left(\\lambda_{y_{6}} t\\right)}\\right)} k {\\left(l - \\sqrt{{\\left(A_{x_{5}} e^{\\left(\\lambda_{x_{5}} t\\right)} - A_{x_{6}} e^{\\left(\\lambda_{x_{6}} t\\right)} - 2 \\, \\sqrt{3} l\\right)}^{2} + {\\left(A_{y_{5}} e^{\\left(\\lambda_{y_{5}} t\\right)} - A_{y_{6}} e^{\\left(\\lambda_{y_{6}} t\\right)}\\right)}^{2}}\\right)}}{\\sqrt{{\\left(A_{x_{5}} e^{\\left(\\lambda_{x_{5}} t\\right)} - A_{x_{6}} e^{\\left(\\lambda_{x_{6}} t\\right)} - 2 \\, \\sqrt{3} l\\right)}^{2} + {\\left(A_{y_{5}} e^{\\left(\\lambda_{y_{5}} t\\right)} - A_{y_{6}} e^{\\left(\\lambda_{y_{6}} t\\right)}\\right)}^{2}}} - \\frac{{\\left(A_{y_{5}} e^{\\left(\\lambda_{y_{5}} t\\right)} - A_{y_{7}} e^{\\left(\\lambda_{y_{7}} t\\right)}\\right)} k {\\left(l - \\sqrt{{\\left(A_{x_{5}} e^{\\left(\\lambda_{x_{5}} t\\right)} - A_{x_{7}} e^{\\left(\\lambda_{x_{7}} t\\right)}\\right)}^{2} + {\\left(A_{y_{5}} e^{\\left(\\lambda_{y_{5}} t\\right)} - A_{y_{7}} e^{\\left(\\lambda_{y_{7}} t\\right)}\\right)}^{2}}\\right)}}{\\sqrt{{\\left(A_{x_{5}} e^{\\left(\\lambda_{x_{5}} t\\right)} - A_{x_{7}} e^{\\left(\\lambda_{x_{7}} t\\right)}\\right)}^{2} + {\\left(A_{y_{5}} e^{\\left(\\lambda_{y_{5}} t\\right)} - A_{y_{7}} e^{\\left(\\lambda_{y_{7}} t\\right)}\\right)}^{2}}} = 0$"
      ],
      "text/plain": [
       "<IPython.core.display.Math object>"
      ]
     },
     "metadata": {},
     "output_type": "display_data"
    },
    {
     "data": {
      "text/latex": [
       "$\\displaystyle A_{x_{6}} \\lambda_{x_{6}}^{2} m e^{\\left(\\lambda_{x_{6}} t\\right)} + \\frac{{\\left(A_{x_{0}} e^{\\left(\\lambda_{x_{0}} t\\right)} - A_{x_{6}} e^{\\left(\\lambda_{x_{6}} t\\right)}\\right)} k {\\left(l - \\sqrt{{\\left(A_{x_{0}} e^{\\left(\\lambda_{x_{0}} t\\right)} - A_{x_{6}} e^{\\left(\\lambda_{x_{6}} t\\right)}\\right)}^{2} + {\\left(A_{y_{0}} e^{\\left(\\lambda_{y_{0}} t\\right)} - A_{y_{6}} e^{\\left(\\lambda_{y_{6}} t\\right)} + 3 \\, l\\right)}^{2}}\\right)}}{\\sqrt{{\\left(A_{x_{0}} e^{\\left(\\lambda_{x_{0}} t\\right)} - A_{x_{6}} e^{\\left(\\lambda_{x_{6}} t\\right)}\\right)}^{2} + {\\left(A_{y_{0}} e^{\\left(\\lambda_{y_{0}} t\\right)} - A_{y_{6}} e^{\\left(\\lambda_{y_{6}} t\\right)} + 3 \\, l\\right)}^{2}}} + \\frac{{\\left(A_{x_{4}} e^{\\left(\\lambda_{x_{4}} t\\right)} - A_{x_{6}} e^{\\left(\\lambda_{x_{6}} t\\right)}\\right)} k {\\left(l - \\sqrt{{\\left(A_{x_{4}} e^{\\left(\\lambda_{x_{4}} t\\right)} - A_{x_{6}} e^{\\left(\\lambda_{x_{6}} t\\right)}\\right)}^{2} + {\\left(A_{y_{4}} e^{\\left(\\lambda_{y_{4}} t\\right)} - A_{y_{6}} e^{\\left(\\lambda_{y_{6}} t\\right)}\\right)}^{2}}\\right)}}{\\sqrt{{\\left(A_{x_{4}} e^{\\left(\\lambda_{x_{4}} t\\right)} - A_{x_{6}} e^{\\left(\\lambda_{x_{6}} t\\right)}\\right)}^{2} + {\\left(A_{y_{4}} e^{\\left(\\lambda_{y_{4}} t\\right)} - A_{y_{6}} e^{\\left(\\lambda_{y_{6}} t\\right)}\\right)}^{2}}} + \\frac{{\\left(A_{x_{5}} e^{\\left(\\lambda_{x_{5}} t\\right)} - A_{x_{6}} e^{\\left(\\lambda_{x_{6}} t\\right)} - 2 \\, \\sqrt{3} l\\right)} k {\\left(l - \\sqrt{{\\left(A_{x_{5}} e^{\\left(\\lambda_{x_{5}} t\\right)} - A_{x_{6}} e^{\\left(\\lambda_{x_{6}} t\\right)} - 2 \\, \\sqrt{3} l\\right)}^{2} + {\\left(A_{y_{5}} e^{\\left(\\lambda_{y_{5}} t\\right)} - A_{y_{6}} e^{\\left(\\lambda_{y_{6}} t\\right)}\\right)}^{2}}\\right)}}{\\sqrt{{\\left(A_{x_{5}} e^{\\left(\\lambda_{x_{5}} t\\right)} - A_{x_{6}} e^{\\left(\\lambda_{x_{6}} t\\right)} - 2 \\, \\sqrt{3} l\\right)}^{2} + {\\left(A_{y_{5}} e^{\\left(\\lambda_{y_{5}} t\\right)} - A_{y_{6}} e^{\\left(\\lambda_{y_{6}} t\\right)}\\right)}^{2}}} = 0$"
      ],
      "text/plain": [
       "<IPython.core.display.Math object>"
      ]
     },
     "metadata": {},
     "output_type": "display_data"
    },
    {
     "data": {
      "text/latex": [
       "$\\displaystyle A_{y_{6}} \\lambda_{y_{6}}^{2} m e^{\\left(\\lambda_{y_{6}} t\\right)} + \\frac{{\\left(A_{y_{0}} e^{\\left(\\lambda_{y_{0}} t\\right)} - A_{y_{6}} e^{\\left(\\lambda_{y_{6}} t\\right)} + 3 \\, l\\right)} k {\\left(l - \\sqrt{{\\left(A_{x_{0}} e^{\\left(\\lambda_{x_{0}} t\\right)} - A_{x_{6}} e^{\\left(\\lambda_{x_{6}} t\\right)}\\right)}^{2} + {\\left(A_{y_{0}} e^{\\left(\\lambda_{y_{0}} t\\right)} - A_{y_{6}} e^{\\left(\\lambda_{y_{6}} t\\right)} + 3 \\, l\\right)}^{2}}\\right)}}{\\sqrt{{\\left(A_{x_{0}} e^{\\left(\\lambda_{x_{0}} t\\right)} - A_{x_{6}} e^{\\left(\\lambda_{x_{6}} t\\right)}\\right)}^{2} + {\\left(A_{y_{0}} e^{\\left(\\lambda_{y_{0}} t\\right)} - A_{y_{6}} e^{\\left(\\lambda_{y_{6}} t\\right)} + 3 \\, l\\right)}^{2}}} + \\frac{{\\left(A_{y_{4}} e^{\\left(\\lambda_{y_{4}} t\\right)} - A_{y_{6}} e^{\\left(\\lambda_{y_{6}} t\\right)}\\right)} k {\\left(l - \\sqrt{{\\left(A_{x_{4}} e^{\\left(\\lambda_{x_{4}} t\\right)} - A_{x_{6}} e^{\\left(\\lambda_{x_{6}} t\\right)}\\right)}^{2} + {\\left(A_{y_{4}} e^{\\left(\\lambda_{y_{4}} t\\right)} - A_{y_{6}} e^{\\left(\\lambda_{y_{6}} t\\right)}\\right)}^{2}}\\right)}}{\\sqrt{{\\left(A_{x_{4}} e^{\\left(\\lambda_{x_{4}} t\\right)} - A_{x_{6}} e^{\\left(\\lambda_{x_{6}} t\\right)}\\right)}^{2} + {\\left(A_{y_{4}} e^{\\left(\\lambda_{y_{4}} t\\right)} - A_{y_{6}} e^{\\left(\\lambda_{y_{6}} t\\right)}\\right)}^{2}}} + \\frac{{\\left(A_{y_{5}} e^{\\left(\\lambda_{y_{5}} t\\right)} - A_{y_{6}} e^{\\left(\\lambda_{y_{6}} t\\right)}\\right)} k {\\left(l - \\sqrt{{\\left(A_{x_{5}} e^{\\left(\\lambda_{x_{5}} t\\right)} - A_{x_{6}} e^{\\left(\\lambda_{x_{6}} t\\right)} - 2 \\, \\sqrt{3} l\\right)}^{2} + {\\left(A_{y_{5}} e^{\\left(\\lambda_{y_{5}} t\\right)} - A_{y_{6}} e^{\\left(\\lambda_{y_{6}} t\\right)}\\right)}^{2}}\\right)}}{\\sqrt{{\\left(A_{x_{5}} e^{\\left(\\lambda_{x_{5}} t\\right)} - A_{x_{6}} e^{\\left(\\lambda_{x_{6}} t\\right)} - 2 \\, \\sqrt{3} l\\right)}^{2} + {\\left(A_{y_{5}} e^{\\left(\\lambda_{y_{5}} t\\right)} - A_{y_{6}} e^{\\left(\\lambda_{y_{6}} t\\right)}\\right)}^{2}}} = 0$"
      ],
      "text/plain": [
       "<IPython.core.display.Math object>"
      ]
     },
     "metadata": {},
     "output_type": "display_data"
    },
    {
     "data": {
      "text/latex": [
       "$\\displaystyle A_{x_{7}} \\lambda_{x_{7}}^{2} m e^{\\left(\\lambda_{x_{7}} t\\right)} + \\frac{{\\left(A_{x_{1}} e^{\\left(\\lambda_{x_{1}} t\\right)} - A_{x_{7}} e^{\\left(\\lambda_{x_{7}} t\\right)}\\right)} k {\\left(l - \\sqrt{{\\left(A_{x_{1}} e^{\\left(\\lambda_{x_{1}} t\\right)} - A_{x_{7}} e^{\\left(\\lambda_{x_{7}} t\\right)}\\right)}^{2} + {\\left(A_{y_{1}} e^{\\left(\\lambda_{y_{1}} t\\right)} - A_{y_{7}} e^{\\left(\\lambda_{y_{7}} t\\right)} + 3 \\, l\\right)}^{2}}\\right)}}{\\sqrt{{\\left(A_{x_{1}} e^{\\left(\\lambda_{x_{1}} t\\right)} - A_{x_{7}} e^{\\left(\\lambda_{x_{7}} t\\right)}\\right)}^{2} + {\\left(A_{y_{1}} e^{\\left(\\lambda_{y_{1}} t\\right)} - A_{y_{7}} e^{\\left(\\lambda_{y_{7}} t\\right)} + 3 \\, l\\right)}^{2}}} + \\frac{{\\left(A_{x_{4}} e^{\\left(\\lambda_{x_{4}} t\\right)} - A_{x_{7}} e^{\\left(\\lambda_{x_{7}} t\\right)}\\right)} k {\\left(l - \\sqrt{{\\left(A_{x_{4}} e^{\\left(\\lambda_{x_{4}} t\\right)} - A_{x_{7}} e^{\\left(\\lambda_{x_{7}} t\\right)}\\right)}^{2} + {\\left(A_{y_{4}} e^{\\left(\\lambda_{y_{4}} t\\right)} - A_{y_{7}} e^{\\left(\\lambda_{y_{7}} t\\right)}\\right)}^{2}}\\right)}}{\\sqrt{{\\left(A_{x_{4}} e^{\\left(\\lambda_{x_{4}} t\\right)} - A_{x_{7}} e^{\\left(\\lambda_{x_{7}} t\\right)}\\right)}^{2} + {\\left(A_{y_{4}} e^{\\left(\\lambda_{y_{4}} t\\right)} - A_{y_{7}} e^{\\left(\\lambda_{y_{7}} t\\right)}\\right)}^{2}}} + \\frac{{\\left(A_{x_{5}} e^{\\left(\\lambda_{x_{5}} t\\right)} - A_{x_{7}} e^{\\left(\\lambda_{x_{7}} t\\right)}\\right)} k {\\left(l - \\sqrt{{\\left(A_{x_{5}} e^{\\left(\\lambda_{x_{5}} t\\right)} - A_{x_{7}} e^{\\left(\\lambda_{x_{7}} t\\right)}\\right)}^{2} + {\\left(A_{y_{5}} e^{\\left(\\lambda_{y_{5}} t\\right)} - A_{y_{7}} e^{\\left(\\lambda_{y_{7}} t\\right)}\\right)}^{2}}\\right)}}{\\sqrt{{\\left(A_{x_{5}} e^{\\left(\\lambda_{x_{5}} t\\right)} - A_{x_{7}} e^{\\left(\\lambda_{x_{7}} t\\right)}\\right)}^{2} + {\\left(A_{y_{5}} e^{\\left(\\lambda_{y_{5}} t\\right)} - A_{y_{7}} e^{\\left(\\lambda_{y_{7}} t\\right)}\\right)}^{2}}} = 0$"
      ],
      "text/plain": [
       "<IPython.core.display.Math object>"
      ]
     },
     "metadata": {},
     "output_type": "display_data"
    },
    {
     "data": {
      "text/latex": [
       "$\\displaystyle A_{y_{7}} \\lambda_{y_{7}}^{2} m e^{\\left(\\lambda_{y_{7}} t\\right)} + \\frac{{\\left(A_{y_{1}} e^{\\left(\\lambda_{y_{1}} t\\right)} - A_{y_{7}} e^{\\left(\\lambda_{y_{7}} t\\right)} + 3 \\, l\\right)} k {\\left(l - \\sqrt{{\\left(A_{x_{1}} e^{\\left(\\lambda_{x_{1}} t\\right)} - A_{x_{7}} e^{\\left(\\lambda_{x_{7}} t\\right)}\\right)}^{2} + {\\left(A_{y_{1}} e^{\\left(\\lambda_{y_{1}} t\\right)} - A_{y_{7}} e^{\\left(\\lambda_{y_{7}} t\\right)} + 3 \\, l\\right)}^{2}}\\right)}}{\\sqrt{{\\left(A_{x_{1}} e^{\\left(\\lambda_{x_{1}} t\\right)} - A_{x_{7}} e^{\\left(\\lambda_{x_{7}} t\\right)}\\right)}^{2} + {\\left(A_{y_{1}} e^{\\left(\\lambda_{y_{1}} t\\right)} - A_{y_{7}} e^{\\left(\\lambda_{y_{7}} t\\right)} + 3 \\, l\\right)}^{2}}} + \\frac{{\\left(A_{y_{4}} e^{\\left(\\lambda_{y_{4}} t\\right)} - A_{y_{7}} e^{\\left(\\lambda_{y_{7}} t\\right)}\\right)} k {\\left(l - \\sqrt{{\\left(A_{x_{4}} e^{\\left(\\lambda_{x_{4}} t\\right)} - A_{x_{7}} e^{\\left(\\lambda_{x_{7}} t\\right)}\\right)}^{2} + {\\left(A_{y_{4}} e^{\\left(\\lambda_{y_{4}} t\\right)} - A_{y_{7}} e^{\\left(\\lambda_{y_{7}} t\\right)}\\right)}^{2}}\\right)}}{\\sqrt{{\\left(A_{x_{4}} e^{\\left(\\lambda_{x_{4}} t\\right)} - A_{x_{7}} e^{\\left(\\lambda_{x_{7}} t\\right)}\\right)}^{2} + {\\left(A_{y_{4}} e^{\\left(\\lambda_{y_{4}} t\\right)} - A_{y_{7}} e^{\\left(\\lambda_{y_{7}} t\\right)}\\right)}^{2}}} + \\frac{{\\left(A_{y_{5}} e^{\\left(\\lambda_{y_{5}} t\\right)} - A_{y_{7}} e^{\\left(\\lambda_{y_{7}} t\\right)}\\right)} k {\\left(l - \\sqrt{{\\left(A_{x_{5}} e^{\\left(\\lambda_{x_{5}} t\\right)} - A_{x_{7}} e^{\\left(\\lambda_{x_{7}} t\\right)}\\right)}^{2} + {\\left(A_{y_{5}} e^{\\left(\\lambda_{y_{5}} t\\right)} - A_{y_{7}} e^{\\left(\\lambda_{y_{7}} t\\right)}\\right)}^{2}}\\right)}}{\\sqrt{{\\left(A_{x_{5}} e^{\\left(\\lambda_{x_{5}} t\\right)} - A_{x_{7}} e^{\\left(\\lambda_{x_{7}} t\\right)}\\right)}^{2} + {\\left(A_{y_{5}} e^{\\left(\\lambda_{y_{5}} t\\right)} - A_{y_{7}} e^{\\left(\\lambda_{y_{7}} t\\right)}\\right)}^{2}}} = 0$"
      ],
      "text/plain": [
       "<IPython.core.display.Math object>"
      ]
     },
     "metadata": {},
     "output_type": "display_data"
    }
   ],
   "source": [
    "m1.EulerLagrangeSolution()"
   ]
  },
  {
   "cell_type": "code",
   "execution_count": null,
   "id": "0c0f9029",
   "metadata": {},
   "outputs": [],
   "source": []
  },
  {
   "cell_type": "code",
   "execution_count": null,
   "id": "d4dc2d55",
   "metadata": {},
   "outputs": [],
   "source": []
  },
  {
   "cell_type": "code",
   "execution_count": null,
   "id": "4c402398",
   "metadata": {},
   "outputs": [],
   "source": []
  }
 ],
 "metadata": {
  "kernelspec": {
   "display_name": "SageMath 9.6.beta7",
   "language": "sage",
   "name": "sagemath"
  },
  "language_info": {
   "codemirror_mode": {
    "name": "ipython",
    "version": 3
   },
   "file_extension": ".py",
   "mimetype": "text/x-python",
   "name": "python",
   "nbconvert_exporter": "python",
   "pygments_lexer": "ipython3",
   "version": "3.10.3"
  }
 },
 "nbformat": 4,
 "nbformat_minor": 5
}
