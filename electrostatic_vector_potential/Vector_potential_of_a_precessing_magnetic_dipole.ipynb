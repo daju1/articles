{
 "cells": [
  {
   "cell_type": "markdown",
   "id": "8269b53d",
   "metadata": {},
   "source": [
    "# Векторный потенциал прецессирующего магнитного диполя"
   ]
  },
  {
   "cell_type": "markdown",
   "id": "90fcf426",
   "metadata": {},
   "source": [
    "нам потребуются интегралы по координатному углу $\\varphi$ точек истока от нуля до $2\\pi$ и $\\int\\limits_{0}^{2\\pi}{\\frac{cos\\left(\\varphi\\right)}{R}}d{\\varphi} = 0$\n",
    "\n",
    "$\\int\\limits_{0}^{2\\pi}{\\frac{sin\\left(\\varphi\\right)}{R}}d{\\varphi} = 0$\n",
    "\n",
    "$R=\\sqrt{(r_j\\,sin(\\varphi_j)-r_a\\,sin(\\varphi_a))^2+(r_j\\,cos(\\varphi_j)-r_a\\,cos(\\varphi_a))^2+(z_j-z_a)^2}$\n",
    "\n",
    "Ввиду цилиндрической симметрии и ввиду того что\n",
    "\n",
    "$\\frac{\\partial A}{\\partial \\varphi_a} = 0$\n",
    "\n",
    "нам не потребуется дифференцирование векторного потенциала по $\\varphi_a$ координате точек наблюдения, можно упростить расчёт полагая, что $\\varphi_a = 0$, тогда \n",
    "\n",
    "$R=\\sqrt{r_j^2+r_a^2-2\\,r_j\\,r_a\\,cos(\\varphi_j)+(z_j-z_a)^2}$"
   ]
  },
  {
   "cell_type": "code",
   "execution_count": 1,
   "id": "5f229a4d",
   "metadata": {},
   "outputs": [],
   "source": [
    "phi_j = var(\"phi_j\")\n",
    "Rja2       = lambda rj, ra, zj, za, phi_j : rj^2 + ra^2 - 2*rj*ra*cos(phi_j) + (zj-za)^2\n",
    "one_per_R  = lambda rj, ra, zj, za, phi_j : 1 / sqrt(Rja2(rj, ra, zj, za, phi_j))\n",
    "a_phi      = lambda rj, ra, zj, za, phi_j : cos(phi_j) * one_per_R(rj, ra, zj, za, phi_j)"
   ]
  },
  {
   "cell_type": "code",
   "execution_count": null,
   "id": "7b6d39ab",
   "metadata": {},
   "outputs": [],
   "source": []
  },
  {
   "cell_type": "code",
   "execution_count": 2,
   "id": "d5270f3b",
   "metadata": {},
   "outputs": [],
   "source": [
    "a_phi_dipol = lambda rj, ra, zj, za, phi_j : a_phi(rj, ra, zj, za, phi_j) - a_phi(rj, ra, -zj, za, phi_j)\n"
   ]
  },
  {
   "cell_type": "code",
   "execution_count": 140,
   "id": "3b3a03ec",
   "metadata": {},
   "outputs": [],
   "source": [
    "z_j = var(\"z_j\")\n",
    "z_a = var(\"z_a\")\n",
    "r_j = var(\"r_j\")\n",
    "r_a = var(\"r_a\")\n",
    "phi = var(\"phi\")\n",
    "\n",
    "assume(r_j>0)\n",
    "assume(r_a>r_j)"
   ]
  },
  {
   "cell_type": "code",
   "execution_count": 141,
   "id": "f92423f4",
   "metadata": {},
   "outputs": [],
   "source": [
    "from IPython.display import display, Math, Latex\n",
    "\n",
    "def disp(ex):\n",
    "    display(Math(latex(ex)))"
   ]
  },
  {
   "cell_type": "code",
   "execution_count": 142,
   "id": "45356c05",
   "metadata": {},
   "outputs": [
    {
     "data": {
      "text/latex": [
       "$\\displaystyle -2 \\, r_{a} r_{j} \\cos\\left(\\phi_{j}\\right) + r_{a}^{2} + r_{j}^{2} + {\\left(z_{a} - z_{j}\\right)}^{2}$"
      ],
      "text/plain": [
       "<IPython.core.display.Math object>"
      ]
     },
     "metadata": {},
     "output_type": "display_data"
    }
   ],
   "source": [
    "disp(Rja2(r_j, r_a, z_j, z_a, phi_j))"
   ]
  },
  {
   "cell_type": "code",
   "execution_count": 143,
   "id": "3bc7edeb",
   "metadata": {},
   "outputs": [
    {
     "data": {
      "text/latex": [
       "$\\displaystyle \\frac{\\cos\\left(\\phi_{j}\\right)}{\\sqrt{-2 \\, r_{a} r_{j} \\cos\\left(\\phi_{j}\\right) + r_{a}^{2} + r_{j}^{2} + {\\left(z_{a} - z_{j}\\right)}^{2}}}$"
      ],
      "text/plain": [
       "<IPython.core.display.Math object>"
      ]
     },
     "metadata": {},
     "output_type": "display_data"
    }
   ],
   "source": [
    "disp(a_phi(r_j, r_a, z_j, z_a, phi_j))"
   ]
  },
  {
   "cell_type": "code",
   "execution_count": 150,
   "id": "0466c15a",
   "metadata": {},
   "outputs": [
    {
     "data": {
      "image/png": "[encoded data removed]",
      "text/plain": [
       "Graphics object consisting of 1 graphics primitive"
      ]
     },
     "execution_count": 150,
     "metadata": {},
     "output_type": "execute_result"
    }
   ],
   "source": [
    "plot(a_phi(rj = 10, ra = 10.25, zj = 0, za = 0, phi_j = phi_j), phi_j, 0, 2*pi)"
   ]
  },
  {
   "cell_type": "code",
   "execution_count": 146,
   "id": "4e20b42f",
   "metadata": {},
   "outputs": [],
   "source": [
    "def get_integrand_view(f):\n",
    "    return f(x)\n",
    "\n",
    "class my_dummy_integral:\n",
    "    f = None\n",
    "    a = None\n",
    "    b = None\n",
    "    def __init__(self, f, a, b):\n",
    "        print (\"my_dummy_integral \", f, a, b)\n",
    "        self.f = f\n",
    "        self.a = a\n",
    "        self.b = b\n",
    "\n",
    "def num_int(f, a, b):\n",
    "    from scipy import integrate\n",
    "\n",
    "    to_call_integration = True\n",
    "\n",
    "    if type(f) is my_dummy_integral:\n",
    "        to_call_integration = False\n",
    "\n",
    "    import inspect\n",
    "    stack = inspect.stack()\n",
    "    for frame in stack:\n",
    "        func_name = frame[3]\n",
    "        # print (\"func_name = \", func_name)\n",
    "        if ('get_integrand_view' == func_name):\n",
    "            to_call_integration = False\n",
    "            break;\n",
    "\n",
    "    if not to_call_integration:\n",
    "        return my_dummy_integral(f,a,b)\n",
    "\n",
    "    try:\n",
    "        integral = integrate.quad(f, a, b)\n",
    "\n",
    "        result = integral[0]\n",
    "        return result\n",
    "\n",
    "    except Exception as ex:\n",
    "\n",
    "        print (\"Exception ex = \", str(ex))\n",
    "        print (\"f = \", f)\n",
    "        try:\n",
    "            print (\"integrand = \", get_integrand_view(f))\n",
    "        except Exception as ex2:\n",
    "            print (\"Exception ex2 = \", ex2)\n",
    "        print (\"a = \", a)\n",
    "        print (\"b = \", b)\n",
    "\n",
    "        raise ex\n",
    "\n",
    "        integral = numerical_integral(f, a, b)\n",
    "\n",
    "        print (\"integral = \", integral)\n",
    "\n",
    "        result = integral[0]\n",
    "        print (\"result = \", result)\n",
    "        return result\n"
   ]
  },
  {
   "cell_type": "code",
   "execution_count": 16,
   "id": "0be4d947",
   "metadata": {},
   "outputs": [],
   "source": [
    "x, y, z = var(\"x,y,z\")"
   ]
  },
  {
   "cell_type": "code",
   "execution_count": 18,
   "id": "3e68ce49",
   "metadata": {},
   "outputs": [],
   "source": [
    "A_E = \\\n",
    "(y*z/(sqrt(x^2 + y^2 + z^2)*(x^2 + y^2)),\n",
    " -x*z/(sqrt(x^2 + y^2 + z^2)*(x^2 + y^2)),\n",
    " 0)"
   ]
  },
  {
   "cell_type": "code",
   "execution_count": 127,
   "id": "16a58836",
   "metadata": {},
   "outputs": [
    {
     "data": {
      "text/latex": [
       "$\\displaystyle \\frac{z \\sin\\left(\\phi\\right)}{\\sqrt{r_{a}^{2} + z^{2}} r_{a}}$"
      ],
      "text/plain": [
       "<IPython.core.display.Math object>"
      ]
     },
     "metadata": {},
     "output_type": "display_data"
    },
    {
     "data": {
      "text/latex": [
       "$\\displaystyle -\\frac{z \\cos\\left(\\phi\\right)}{\\sqrt{r_{a}^{2} + z^{2}} r_{a}}$"
      ],
      "text/plain": [
       "<IPython.core.display.Math object>"
      ]
     },
     "metadata": {},
     "output_type": "display_data"
    },
    {
     "ename": "TypeError",
     "evalue": "subs() takes at most 1 positional argument (2 given)",
     "output_type": "error",
     "traceback": [
      "\u001b[0;31m---------------------------------------------------------------------------\u001b[0m",
      "\u001b[0;31mTypeError\u001b[0m                                 Traceback (most recent call last)",
      "\u001b[0;32m/tmp/ipykernel_4757/2432229298.py\u001b[0m in \u001b[0;36m<module>\u001b[0;34m\u001b[0m\n\u001b[1;32m      1\u001b[0m \u001b[0;32mfor\u001b[0m \u001b[0mAEi\u001b[0m \u001b[0;32min\u001b[0m \u001b[0mA_E\u001b[0m\u001b[0;34m:\u001b[0m\u001b[0;34m\u001b[0m\u001b[0;34m\u001b[0m\u001b[0m\n\u001b[0;32m----> 2\u001b[0;31m     \u001b[0mdisp\u001b[0m\u001b[0;34m(\u001b[0m\u001b[0mAEi\u001b[0m\u001b[0;34m.\u001b[0m\u001b[0msubs\u001b[0m\u001b[0;34m(\u001b[0m\u001b[0mx\u001b[0m \u001b[0;34m==\u001b[0m \u001b[0mr_a\u001b[0m\u001b[0;34m*\u001b[0m\u001b[0mcos\u001b[0m\u001b[0;34m(\u001b[0m\u001b[0mphi\u001b[0m\u001b[0;34m)\u001b[0m\u001b[0;34m,\u001b[0m \u001b[0my\u001b[0m \u001b[0;34m==\u001b[0m \u001b[0mr_a\u001b[0m\u001b[0;34m*\u001b[0m\u001b[0msin\u001b[0m\u001b[0;34m(\u001b[0m\u001b[0mphi\u001b[0m\u001b[0;34m)\u001b[0m\u001b[0;34m)\u001b[0m\u001b[0;34m.\u001b[0m\u001b[0mfull_simplify\u001b[0m\u001b[0;34m(\u001b[0m\u001b[0;34m)\u001b[0m\u001b[0;34m)\u001b[0m\u001b[0;34m\u001b[0m\u001b[0;34m\u001b[0m\u001b[0m\n\u001b[0m",
      "\u001b[0;32m/usr3/articles/sagemath_docker_build/sage/local/lib/python3.10/site-packages/sage/structure/element.pyx\u001b[0m in \u001b[0;36msage.structure.element.Element.subs (build/cythonized/sage/structure/element.c:7647)\u001b[0;34m()\u001b[0m\n\u001b[1;32m    782\u001b[0m \u001b[0;34m\u001b[0m\u001b[0m\n\u001b[1;32m    783\u001b[0m \u001b[0;34m\u001b[0m\u001b[0m\n\u001b[0;32m--> 784\u001b[0;31m     \u001b[0;32mdef\u001b[0m \u001b[0msubs\u001b[0m\u001b[0;34m(\u001b[0m\u001b[0mself\u001b[0m\u001b[0;34m,\u001b[0m \u001b[0min_dict\u001b[0m\u001b[0;34m=\u001b[0m\u001b[0;32mNone\u001b[0m\u001b[0;34m,\u001b[0m \u001b[0;34m**\u001b[0m\u001b[0mkwds\u001b[0m\u001b[0;34m)\u001b[0m\u001b[0;34m:\u001b[0m\u001b[0;34m\u001b[0m\u001b[0;34m\u001b[0m\u001b[0m\n\u001b[0m\u001b[1;32m    785\u001b[0m         \"\"\"\n\u001b[1;32m    786\u001b[0m         \u001b[0mSubstitutes\u001b[0m \u001b[0mgiven\u001b[0m \u001b[0mgenerators\u001b[0m \u001b[0;32mwith\u001b[0m \u001b[0mgiven\u001b[0m \u001b[0mvalues\u001b[0m \u001b[0;32mwhile\u001b[0m \u001b[0;32mnot\u001b[0m \u001b[0mtouching\u001b[0m\u001b[0;34m\u001b[0m\u001b[0;34m\u001b[0m\u001b[0m\n",
      "\u001b[0;31mTypeError\u001b[0m: subs() takes at most 1 positional argument (2 given)"
     ]
    }
   ],
   "source": [
    "for AEi in A_E:\n",
    "    disp(AEi.subs(x == r_a*cos(phi), y == r_a*sin(phi)).full_simplify())"
   ]
  },
  {
   "cell_type": "code",
   "execution_count": 128,
   "id": "c5c7b331",
   "metadata": {},
   "outputs": [],
   "source": [
    "A_y = -x*z/(sqrt(x^2 + y^2 + z^2)*(x^2 + y^2))"
   ]
  },
  {
   "cell_type": "code",
   "execution_count": 44,
   "id": "a5bedd45",
   "metadata": {},
   "outputs": [
    {
     "data": {
      "text/plain": [
       "-z/(sqrt(x^2 + z^2)*x)"
      ]
     },
     "execution_count": 44,
     "metadata": {},
     "output_type": "execute_result"
    }
   ],
   "source": [
    "A_y0 = A_y.subs(y == 0)\n",
    "A_y0"
   ]
  },
  {
   "cell_type": "code",
   "execution_count": 10,
   "id": "c1f0d78b",
   "metadata": {},
   "outputs": [
    {
     "data": {
      "text/plain": [
       "0.6015764178209648"
      ]
     },
     "execution_count": 10,
     "metadata": {},
     "output_type": "execute_result"
    }
   ],
   "source": [
    "num_int( lambda phi_j : a_phi(rj = 10, ra = 10.5, zj = 1, za = 1.1, phi_j = phi_j), 0, 2*pi)"
   ]
  },
  {
   "cell_type": "code",
   "execution_count": 11,
   "id": "32ad320a",
   "metadata": {},
   "outputs": [
    {
     "data": {
      "text/plain": [
       "0.3248439223023958"
      ]
     },
     "execution_count": 11,
     "metadata": {},
     "output_type": "execute_result"
    }
   ],
   "source": [
    "num_int( lambda phi_j : a_phi(rj = 10, ra = 10.5, zj = -1, za = 1.1, phi_j = phi_j), 0, 2*pi)"
   ]
  },
  {
   "cell_type": "code",
   "execution_count": 12,
   "id": "b29394cf",
   "metadata": {},
   "outputs": [
    {
     "data": {
      "text/plain": [
       "0.27673249551856066"
      ]
     },
     "execution_count": 12,
     "metadata": {},
     "output_type": "execute_result"
    }
   ],
   "source": [
    "num_int( lambda phi_j : a_phi_dipol(rj = 10, ra = 10.5, zj = 1, za = 1.1, phi_j = phi_j), 0, 2*pi)"
   ]
  },
  {
   "cell_type": "code",
   "execution_count": 19,
   "id": "dcc38bc8",
   "metadata": {},
   "outputs": [],
   "source": [
    "A_dipol = lambda rj, ra, zj, za : num_int( lambda phi_j : a_phi_dipol(rj = rj, ra = ra, zj = zj, za = za, phi_j = phi_j), 0, 2*pi)"
   ]
  },
  {
   "cell_type": "code",
   "execution_count": 21,
   "id": "173a17ec",
   "metadata": {},
   "outputs": [
    {
     "data": {
      "text/plain": [
       "4.576202476449963"
      ]
     },
     "execution_count": 21,
     "metadata": {},
     "output_type": "execute_result"
    }
   ],
   "source": [
    "A_dipol(rj = 1, ra = 1, zj = 1, za = 1.1)"
   ]
  },
  {
   "cell_type": "code",
   "execution_count": 97,
   "id": "38186c37",
   "metadata": {},
   "outputs": [],
   "source": [
    "plot_data_A_phi_dipol_r = []\n",
    "for ir in range(100):\n",
    "    ra = 0.1 * ir\n",
    "    A_phi_dipol = A_dipol(rj = 0.0001, ra = ra, zj = 0.0001, za = 1)\n",
    "    plot_data_A_phi_dipol_r += [(ra, A_phi_dipol)]"
   ]
  },
  {
   "cell_type": "code",
   "execution_count": 98,
   "id": "f20e83cb",
   "metadata": {},
   "outputs": [
    {
     "name": "stdout",
     "output_type": "stream",
     "text": [
      "-3.00000000000000e-8\n",
      "-4.00000000000000e-8\n"
     ]
    },
    {
     "data": {
      "image/png": "[encoded data removed]",
      "text/plain": [
       "Graphics object consisting of 3 graphics primitives"
      ]
     },
     "metadata": {},
     "output_type": "display_data"
    }
   ],
   "source": [
    "p = list_plot(plot_data_A_phi_dipol_r)\n",
    "for ik in range(2):\n",
    "    k = -0.00000001*(ik+3)\n",
    "    print(k)\n",
    "    p += plot(k*A_y0.subs(z == 1), x, 0.3, 10)\n",
    "p.show()"
   ]
  },
  {
   "cell_type": "code",
   "execution_count": 132,
   "id": "ec0b8304",
   "metadata": {},
   "outputs": [],
   "source": [
    "plot_data_A_phi_dipol_z = []\n",
    "for iz in range(100):\n",
    "    za = 1 + 0.1 * iz\n",
    "    A_phi_dipol = A_dipol(rj = 0.0001, ra = 1, zj = 0.0001, za = za)\n",
    "    plot_data_A_phi_dipol_z += [(za, A_phi_dipol)]"
   ]
  },
  {
   "cell_type": "code",
   "execution_count": 133,
   "id": "a8416c01",
   "metadata": {},
   "outputs": [
    {
     "data": {
      "text/plain": [
       "-1/4*z/sqrt(z^2 + 16)"
      ]
     },
     "execution_count": 133,
     "metadata": {},
     "output_type": "execute_result"
    }
   ],
   "source": [
    "A_y0.subs(x == 4)"
   ]
  },
  {
   "cell_type": "code",
   "execution_count": 134,
   "id": "f73c3d7b",
   "metadata": {},
   "outputs": [
    {
     "data": {
      "image/png": "[encoded data removed]",
      "text/plain": [
       "Graphics object consisting of 1 graphics primitive"
      ]
     },
     "execution_count": 134,
     "metadata": {},
     "output_type": "execute_result"
    }
   ],
   "source": [
    "list_plot(plot_data_A_phi_dipol_z)"
   ]
  },
  {
   "cell_type": "code",
   "execution_count": 137,
   "id": "805760ca",
   "metadata": {},
   "outputs": [
    {
     "name": "stdout",
     "output_type": "stream",
     "text": [
      "-3.00000000000000e-9\n",
      "-4.00000000000000e-9\n"
     ]
    },
    {
     "data": {
      "image/png": "[encoded data removed]",
      "text/plain": [
       "Graphics object consisting of 3 graphics primitives"
      ]
     },
     "metadata": {},
     "output_type": "display_data"
    }
   ],
   "source": [
    "p = list_plot(plot_data_A_phi_dipol_z)\n",
    "for ik in range(2):\n",
    "    k = -0.000000001*(ik+3)\n",
    "    print(k)\n",
    "    p += plot(k*A_y0.subs(x == 1), z, 0.3, 10)\n",
    "p.show()"
   ]
  },
  {
   "cell_type": "code",
   "execution_count": null,
   "id": "9b732303",
   "metadata": {},
   "outputs": [],
   "source": []
  }
 ],
 "metadata": {
  "kernelspec": {
   "display_name": "SageMath 9.6.beta7",
   "language": "sage",
   "name": "sagemath"
  },
  "language_info": {
   "codemirror_mode": {
    "name": "ipython",
    "version": 3
   },
   "file_extension": ".py",
   "mimetype": "text/x-python",
   "name": "python",
   "nbconvert_exporter": "python",
   "pygments_lexer": "ipython3",
   "version": "3.10.3"
  }
 },
 "nbformat": 4,
 "nbformat_minor": 5
}
