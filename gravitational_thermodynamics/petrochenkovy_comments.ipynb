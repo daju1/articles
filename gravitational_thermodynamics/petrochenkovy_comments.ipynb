{
 "cells": [
  {
   "cell_type": "markdown",
   "id": "de703aa6",
   "metadata": {},
   "source": [
    "Учитывая то что подход Петроченкова Р.Г. к выводу формулы для температурного градиента в гравитационном поле представленный в Заявке на открытие (32-от - 4626) (Москва 17 августа 1965 г.)\n",
    "основанный на формуле \n",
    "\n",
    "$(dT/dP) = ± 1/(dP/dT)_v$ (1)\n",
    "\n",
    "и приводящий к формуле \n",
    "\n",
    "\n",
    "$(dT/dH) = γ⋅g/(dP/dT)_v$ (1.1)\n",
    "\n",
    "где $γ$ – плотность вещества;\n",
    "$g$ – ускорение силы тяжести;\n",
    "$dH$ – изменение расстояния (глубины),\n",
    "\n",
    "хоть и представляется интересным подходом (в отличие от традиционного подхода, приводящего к сухоадиабатическому градиенту) ввиду того что частная производная $(dP/dT)_v$ для воды в известном температурном интервале имеет нестандартный знак. Однако формула (1.1) в применении к идеальному газу не приводит к формуле для сухоадиабатического градиента. В самом деле, для идеального газа $p v = R T$ и поэтому $\\left(\\frac{\\partial p}{\\partial T} \\right)_v = \\frac{R}{v}$ и в соответствии с формулой (1.1) температурный градиент с высотой составит $\\left(\\frac{\\partial T}{\\partial h} \\right)_v = \\frac{\\gamma g v}{R} = \\frac{M g}{R}$ тогда как сухоадиабатический градиент известен как $\\left(\\frac{\\partial T}{\\partial h} \\right)_S = \\frac{M g}{c_p} = \\frac{ 2}{(i+2)}\\frac{M g}{R}$, учитывая, что теплоёмкость при постоянном давлении для идеального газа равна $c_p=\\frac{i+2}{2}R$"
   ]
  },
  {
   "cell_type": "markdown",
   "id": "8c3d5b3e",
   "metadata": {},
   "source": [
    "В связи с этим возникает мысль что если мы рассматриваем адиабатическое приближение, то для связи температуры и давления нам нужно использовать частную производную давления по температуре не при постоянном обьёме, а при постоянной энтропии то есть в отсутствии или в пренебрежении неравновесных процессов теплопроводности в связи с этим вместо формулы (1) Петроченкова пишем \n",
    "\n",
    "$dT\n",
    "= \\left(\\frac{\\partial T}{\\partial p} \\right)_s dp$\n",
    "\n",
    "принимая\n",
    "\n",
    "$dP = γ⋅g⋅dH$,\n",
    "\n",
    "находим градиент для адиабатического приближения \n",
    "\n",
    "$(dT/dH) = γ⋅g/(dP/dT)_S$ (1.1')"
   ]
  },
  {
   "cell_type": "markdown",
   "id": "f7a55d4c",
   "metadata": {},
   "source": [
    "Есть предположение, что Петроченков пытался рассмотреть не адиабатическое приближение которое имеет смысл рассматривать для жидких и газообразных сред в которых возможна конвекция, а он хотел получить градиент, получившийся в результате устоявшегося неравновесного процесса теплопередачи в условиях гравитации в среде без конвекции, то есть в твёрдом теле горных пород. И в капиллярных жидкостях для которых конвекция также затруднена. Поэтому не удивительно что градиент в соответствии с формулой (1.1) по абсолютной величине больше, чем градиент сухоадиабатический, однако удивительно, что этот градиент также больше чем градиент Циолковского-Василенко-Малгота\n",
    "\n",
    "$\\left(\\frac{\\partial T}{\\partial h} \\right)_v = \\frac{M g}{c_v} = \\frac{ 2}{i}\\frac{M g}{R}$"
   ]
  },
  {
   "cell_type": "markdown",
   "id": "7a7e0f80",
   "metadata": {},
   "source": [
    "Ниже идут мои математические упражнения, смысл которых не до конца ясен и которые для идеального газа привели к неопределённости типа ноль делить на ноль"
   ]
  },
  {
   "cell_type": "markdown",
   "id": "d2717f6b",
   "metadata": {},
   "source": [
    "$\\frac{dT}{dh} \\\n",
    "= \\left(\\frac{\\partial T}{\\partial p} \\right)_v \\frac{dp}{dh} \\\n",
    "+ \\left(\\frac{\\partial T}{\\partial v} \\right)_p \\frac{dv}{dh}$"
   ]
  },
  {
   "cell_type": "markdown",
   "id": "41b94ba0",
   "metadata": {},
   "source": [
    "$\\frac{dv}{dh} \\\n",
    "= \\left(\\frac{\\partial v}{\\partial p} \\right)_T \\frac{dp}{dh} \\\n",
    "+ \\left(\\frac{\\partial v}{\\partial T} \\right)_p \\frac{dT}{dh}$"
   ]
  },
  {
   "cell_type": "markdown",
   "id": "8671f270",
   "metadata": {},
   "source": [
    "$\\frac{dT}{dh} \\\n",
    "= \\left(\\frac{\\partial T}{\\partial p} \\right)_v \\frac{dp}{dh} \\\n",
    "+ \\left(\\frac{\\partial T}{\\partial v} \\right)_p \\\n",
    "\\left[ \\\n",
    "\\left(\\frac{\\partial v}{\\partial p} \\right)_T \\frac{dp}{dh} \\\n",
    "+ \\left(\\frac{\\partial v}{\\partial T} \\right)_p \\frac{dT}{dh} \\\n",
    "\\right]$"
   ]
  },
  {
   "cell_type": "markdown",
   "id": "427ee9d3",
   "metadata": {},
   "source": [
    "$\\frac{dT}{dh} \\\n",
    "= \\left(\\frac{\\partial T}{\\partial p} \\right)_v \\frac{dp}{dh} \\\n",
    "+ \\left(\\frac{\\partial T}{\\partial v} \\right)_p \\\n",
    "\\left(\\frac{\\partial v}{\\partial p} \\right)_T \\frac{dp}{dh} \\\n",
    "+ \\left(\\frac{\\partial T}{\\partial v} \\right)_p \\\n",
    "\\left(\\frac{\\partial v}{\\partial T} \\right)_p \\frac{dT}{dh}$"
   ]
  },
  {
   "cell_type": "markdown",
   "id": "da5eca84",
   "metadata": {},
   "source": [
    "$\\frac{dT}{dh} - \\left(\\frac{\\partial T}{\\partial v} \\right)_p \\\n",
    "\\left(\\frac{\\partial v}{\\partial T} \\right)_p \\frac{dT}{dh} \\\n",
    "= \\left(\\frac{\\partial T}{\\partial p} \\right)_v \\frac{dp}{dh} \\\n",
    "+ \\left(\\frac{\\partial T}{\\partial v} \\right)_p \\\n",
    "\\left(\\frac{\\partial v}{\\partial p} \\right)_T \\frac{dp}{dh}$"
   ]
  },
  {
   "cell_type": "markdown",
   "id": "32dfdcb7",
   "metadata": {},
   "source": [
    "$\\frac{dT}{dh}\\left[1 - \\left(\\frac{\\partial T}{\\partial v} \\right)_p \\\n",
    "\\left(\\frac{\\partial v}{\\partial T} \\right)_p \\right] \\\n",
    "= \\left(\\frac{\\partial T}{\\partial p} \\right)_v \\frac{dp}{dh} \\\n",
    "+ \\left(\\frac{\\partial T}{\\partial v} \\right)_p \\\n",
    "\\left(\\frac{\\partial v}{\\partial p} \\right)_T \\frac{dp}{dh}$"
   ]
  },
  {
   "cell_type": "markdown",
   "id": "5ea34acd",
   "metadata": {},
   "source": [
    "$\\frac{dT}{dh} \\\n",
    "= \\frac{ \\\n",
    "\\left(\\frac{\\partial T}{\\partial p} \\right)_v \\frac{dp}{dh} \\\n",
    "+ \\left(\\frac{\\partial T}{\\partial v} \\right)_p \\\n",
    "\\left(\\frac{\\partial v}{\\partial p} \\right)_T \\frac{dp}{dh} \\\n",
    "}{ \\\n",
    "\\left[1 - \\left(\\frac{\\partial T}{\\partial v} \\right)_p \\\n",
    "\\left(\\frac{\\partial v}{\\partial T} \\right)_p \\right] \\\n",
    "}$"
   ]
  },
  {
   "cell_type": "markdown",
   "id": "f8efd5ec",
   "metadata": {},
   "source": [
    "$\\frac{dT}{dh} \\\n",
    "= \\frac{ \\\n",
    "\\left(\\frac{\\partial T}{\\partial p} \\right)_v \\\n",
    "+ \\left(\\frac{\\partial T}{\\partial v} \\right)_p \\\n",
    "\\left(\\frac{\\partial v}{\\partial p} \\right)_T \\\n",
    "}{ \\\n",
    "1 - \\left(\\frac{\\partial T}{\\partial v} \\right)_p \\\n",
    "\\left(\\frac{\\partial v}{\\partial T} \\right)_p \\\n",
    "}\\frac{dp}{dh}$"
   ]
  },
  {
   "cell_type": "markdown",
   "id": "a825f36b",
   "metadata": {},
   "source": [
    "$p v = R T$"
   ]
  },
  {
   "cell_type": "markdown",
   "id": "e31af9c3",
   "metadata": {},
   "source": [
    "$\\left(\\frac{\\partial v}{\\partial p} \\right)_T = - \\frac{R T}{p^2}$"
   ]
  },
  {
   "cell_type": "markdown",
   "id": "47db4a4d",
   "metadata": {},
   "source": [
    "$\\left(\\frac{\\partial T}{\\partial p} \\right)_v = \\frac{v}{R}$"
   ]
  },
  {
   "cell_type": "markdown",
   "id": "4e167060",
   "metadata": {},
   "source": [
    "$\\left(\\frac{\\partial T}{\\partial v} \\right)_p = \\frac{p}{R}$"
   ]
  },
  {
   "cell_type": "markdown",
   "id": "72361922",
   "metadata": {},
   "source": [
    "$\\frac{dT}{dh} \\\n",
    "= \\frac{ \\\n",
    "\\left(\\frac{\\partial T}{\\partial p} \\right)_v \\\n",
    "+ \\left(\\frac{\\partial T}{\\partial v} \\right)_p \\\n",
    "\\left(\\frac{\\partial v}{\\partial p} \\right)_T \\\n",
    "}{ \\\n",
    "1 - \\left(\\frac{\\partial T}{\\partial v} \\right)_p \\\n",
    "\\left(\\frac{\\partial v}{\\partial T} \\right)_p \\\n",
    "}\\frac{dp}{dh}$"
   ]
  },
  {
   "cell_type": "markdown",
   "id": "1f0099c5",
   "metadata": {},
   "source": [
    "$\\frac{dT}{dh} \\\n",
    "= \\frac{\\left[ \\\n",
    "\\frac{v}{R} \\\n",
    "- \\frac{p}{R} \\\n",
    "\\frac{R T}{p^2} \\\n",
    "\\right] \\\n",
    "}{ \\\n",
    "1 - \\left(\\frac{\\partial T}{\\partial v} \\right)_p \\\n",
    "\\left(\\frac{\\partial v}{\\partial T} \\right)_p \\\n",
    "}\\frac{dp}{dh}$"
   ]
  },
  {
   "cell_type": "markdown",
   "id": "f4e2972c",
   "metadata": {},
   "source": [
    "$\\frac{dT}{dh} \\\n",
    "= \\frac{\\left[ \\\n",
    "\\frac{v}{R} \\\n",
    "- \\\n",
    "\\frac{T}{p} \\\n",
    "\\right]\n",
    "}{ \\\n",
    "1 - 1 \\\n",
    "}\\frac{dp}{dh}$"
   ]
  },
  {
   "cell_type": "markdown",
   "id": "ebdc4787",
   "metadata": {},
   "source": [
    "$\\frac{dT}{dh} \\\n",
    "= \\frac{\\left[ \\\n",
    "\\frac{v}{R} \\\n",
    "- \\\n",
    "\\frac{T}{p} \\\n",
    "\\right] \\\n",
    "}{ \\\n",
    "1 - 1 \\\n",
    "}\\rho g$"
   ]
  },
  {
   "cell_type": "code",
   "execution_count": null,
   "id": "97ffaad4",
   "metadata": {},
   "outputs": [],
   "source": []
  }
 ],
 "metadata": {
  "kernelspec": {
   "display_name": "SageMath 9.6.beta7",
   "language": "sage",
   "name": "sagemath"
  },
  "language_info": {
   "codemirror_mode": {
    "name": "ipython",
    "version": 3
   },
   "file_extension": ".py",
   "mimetype": "text/x-python",
   "name": "python",
   "nbconvert_exporter": "python",
   "pygments_lexer": "ipython3",
   "version": "3.10.3"
  }
 },
 "nbformat": 4,
 "nbformat_minor": 5
}
