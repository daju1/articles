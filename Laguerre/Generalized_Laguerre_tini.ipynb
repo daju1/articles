{
 "cells": [
  {
   "cell_type": "code",
   "execution_count": 1,
   "metadata": {},
   "outputs": [],
   "source": [
    "from IPython.display import display, Math, Latex\n",
    "from sympy import integrate as sympy_integrate\n",
    "\n",
    "alpha,beta = var(\"alpha,beta\")\n",
    "t = var(\"t\")\n",
    "\n",
    "assume(alpha>0)\n",
    "assume(alpha-beta>0)\n",
    "\n",
    "w = lambda t, beta : exp(2*beta*t)\n",
    "\n",
    "Generalized_Laguerre_Rodrigues = lambda n, alpha, beta, t : (sqrt(2*alpha) / factorial(n) * exp((alpha-beta)*t) * diff(exp(-2*alpha*t)*t^n, t, n)).factor()\n",
    "\n",
    "Q = lambda F, k, alpha, beta : sympy_integrate(F(t) * Generalized_Laguerre_Rodrigues(k,alpha,beta,t) * w(t, beta), (t, 0, Infinity))\n",
    "\n",
    "def det_Q(F, n, alpha, beta):\n",
    "    m = [[Q(F, n+k1-k2, alpha, beta) for k2 in range (n+1)] for k1 in range (n+1)]\n",
    "    return matrix(SR, m)\n",
    "\n",
    "# https://www.pythonpool.com/gaussian-elimination-python/\n",
    "\n",
    "#gaussian elimination of M_Q in symbolic form\n",
    "def gaussian_elimination(n, M_Q):\n",
    "    rows = n\n",
    "    cols = n\n",
    "    ma = [[] for _ in range(n)]\n",
    "\n",
    "    for i in range(rows):# row\n",
    "        for j in range(cols): # col\n",
    "            ma[i] += [M_Q[i][j]]\n",
    "\n",
    "    for i in range(cols):\n",
    "        row_to_change = -1\n",
    "        #ii_abs = abs(ma[i][i].subs(digit_values).subs(k_z_sol).n())\n",
    "        ii_abs = abs(ma[i][i].n())\n",
    "\n",
    "        for r in range(i+1, rows):\n",
    "            #ri_abs = abs(ma[r][i].subs(digit_values).subs(k_z_sol).n())\n",
    "            ri_abs = abs(ma[r][i].n())\n",
    "            if ri_abs > ii_abs:\n",
    "                row_to_change = r\n",
    "                cur_abs = ri_abs\n",
    "                print(\"row_to_change\", row_to_change)\n",
    "\n",
    "        if row_to_change > -1:\n",
    "            for col in range(i, cols):#+1):\n",
    "                tmp = ma[i][col]\n",
    "                ma[i][col] = ma[row_to_change][col]\n",
    "                ma[row_to_change][col] = tmp\n",
    "\n",
    "        for j in range(i+1, rows):\n",
    "            ratio = ma[j][i]/ma[i][i]\n",
    "\n",
    "            for k in range(cols):#+1):\n",
    "                ma[j][k] = ma[j][k] - ratio * ma[i][k]\n",
    "\n",
    "    # Формирование верхнетреугольной матрицы\n",
    "    # RU - Right Upper\n",
    "    M_RU = matrix(ma)\n",
    "    return M_RU\n"
   ]
  },
  {
   "cell_type": "code",
   "execution_count": 2,
   "metadata": {},
   "outputs": [],
   "source": [
    "R = lambda t : exp(-0.5*(t))"
   ]
  },
  {
   "cell_type": "code",
   "execution_count": 3,
   "metadata": {},
   "outputs": [
    {
     "name": "stdout",
     "output_type": "stream",
     "text": [
      "n 0\n",
      "M_Q [1.33333333333333]\n",
      "det_M_Q 1.33333333333333\n"
     ]
    },
    {
     "data": {
      "text/latex": [
       "$\\displaystyle \\left(\\begin{array}{r}\n",
       "1.33333333333333\n",
       "\\end{array}\\right)$"
      ],
      "text/plain": [
       "<IPython.core.display.Math object>"
      ]
     },
     "metadata": {},
     "output_type": "display_data"
    },
    {
     "name": "stdout",
     "output_type": "stream",
     "text": [
      "n 1\n",
      "M_Q [-2.22222222222222  1.33333333333333]\n",
      "[ 3.70370370370370 -2.22222222222222]\n",
      "det_M_Q 7.99360577730113e-15\n",
      "row_to_change 1\n"
     ]
    },
    {
     "data": {
      "text/latex": [
       "$\\displaystyle \\left(\\begin{array}{rr}\n",
       "3.70370370370370 & -2.22222222222222 \\\\\n",
       "0.000000000000000 & -1.99840144432528 \\times 10^{-15}\n",
       "\\end{array}\\right)$"
      ],
      "text/plain": [
       "<IPython.core.display.Math object>"
      ]
     },
     "metadata": {},
     "output_type": "display_data"
    },
    {
     "data": {
      "text/plain": [
       "[-2.22222222222222  1.33333333333333]\n",
       "[ 3.70370370370370 -2.22222222222222]"
      ]
     },
     "execution_count": 3,
     "metadata": {},
     "output_type": "execute_result"
    }
   ],
   "source": [
    "alpha_d = 2\n",
    "beta_d = 1\n",
    "\n",
    "n = 0\n",
    "\n",
    "while(true):\n",
    "    print(\"n\", n)\n",
    "    M_Q = det_Q(R, n, alpha_d, beta_d)\n",
    "    print(\"M_Q\", M_Q)\n",
    "    det_M_Q = M_Q.det()\n",
    "    print(\"det_M_Q\", det_M_Q)\n",
    "    M_Q_RU = gaussian_elimination(n+1, M_Q)\n",
    "    display(Math(latex(M_Q_RU)))\n",
    "    if abs(det_M_Q) < 1e-12:\n",
    "        break\n",
    "    n = n + 1\n",
    "M_Q"
   ]
  },
  {
   "cell_type": "code",
   "execution_count": 4,
   "metadata": {},
   "outputs": [
    {
     "name": "stdout",
     "output_type": "stream",
     "text": [
      "-3.70370370370370\n",
      "-0.000000000000000\n",
      "[-2.22222222222222*beta_i_1 == -3.70370370370370, -(1.99840144432528e-15)*beta_i_1 == -0.000000000000000]\n",
      "2.22222222222222\n",
      "-3.70370370370370\n",
      "[1.33333333333333*beta_i_1 == 2.22222222222222, -2.22222222222222*beta_i_1 == -3.70370370370370]\n",
      "1.66666666666667\n",
      "1.66666666666667\n",
      "[beta_i_0 == 1, beta_i_1 == 1.66666666666667]\n",
      "[-2.22222222222222  1.33333333333333]\n",
      "[ 3.70370370370370 -2.22222222222222]\n",
      "0\n",
      "0 1.33333333333333 0 beta_i_0\n",
      "[alpha_i_0 == 1.33333333333333*sqrt(2)*sqrt(alpha)*beta_i_0]\n",
      "[alpha_i_0 == 2.66666666666666]\n"
     ]
    }
   ],
   "source": [
    "beta_i = []\n",
    "for i in range(n+1):\n",
    "    exec(\"beta_i_\" + str(i) + \"= var('beta_i_\" + str(i) + \"')\")\n",
    "    exec(\"beta_i += [beta_i_\" + str(i) +\"]\")\n",
    "\n",
    "alpha_i = []\n",
    "for i in range(n):\n",
    "    exec(\"alpha_i_\" + str(i) + \"= var('alpha_i_\" + str(i) + \"')\")\n",
    "    exec(\"alpha_i += [alpha_i_\" + str(i) +\"]\")\n",
    "\n",
    "beta1_i = []\n",
    "for i in range(1, n+1):\n",
    "    exec(\"beta1_i += [beta_i_\" + str(i) +\"]\")\n",
    "\n",
    "vbeta_i = vector(beta_i)\n",
    "vbeta1_i = vector(beta1_i)\n",
    "\n",
    "M_Q_RU_X = M_Q_RU*vbeta_i\n",
    "M_Q_X = M_Q*vbeta_i\n",
    "\n",
    "beta_i_0_d = 1\n",
    "\n",
    "M_Q_RU_B = []\n",
    "eq_sys_RU = []\n",
    "for i in range(n+1):\n",
    "    M_Q_RU_B_i = - (M_Q_RU_X[i]).coefficient(beta_i_0).n() * beta_i_0_d\n",
    "    print(M_Q_RU_B_i)\n",
    "    M_Q_RU_B += [M_Q_RU_B_i]\n",
    "    eq_sys_RU += [M_Q_RU_X[i].subs(beta_i_0 == 0) == M_Q_RU_B_i]\n",
    "\n",
    "print(eq_sys_RU)\n",
    "    \n",
    "M_Q_B = []\n",
    "eq_sys = []\n",
    "for i in range(n+1):\n",
    "    M_Q_B_i = - (M_Q_X[i]).coefficient(beta_i_0).n() * beta_i_0_d\n",
    "    print(M_Q_B_i)\n",
    "    M_Q_B += [M_Q_B_i]\n",
    "    eq_sys += [M_Q_X[i].subs(beta_i_0 == 0) == M_Q_B_i]\n",
    "\n",
    "print(eq_sys)\n",
    "\n",
    "def GenerateMatrix(equsys, vars):\n",
    "    A=matrix(SR, [[(equ.lhs() - equ.rhs()).coefficient(v) for v in vars] for equ in equsys])\n",
    "    return A\n",
    "\n",
    "eq_sys_RU_M = GenerateMatrix(eq_sys_RU, vbeta1_i)\n",
    "eq_sys_M = GenerateMatrix(eq_sys, vbeta1_i)\n",
    "\n",
    "eq_sys_RU_M_sol = eq_sys_RU_M.solve_right(vector(M_Q_RU_B))\n",
    "eq_sys_M_sol = eq_sys_M.solve_right(vector(M_Q_B))\n",
    "\n",
    "coeffs_beta_i = [beta_i_0 == beta_i_0_d]\n",
    "for i in range(n):\n",
    "    eq_sys_RU_M_sol_i = eq_sys_RU_M_sol[i]\n",
    "    print(eq_sys_RU_M_sol_i)\n",
    "    coeffs_beta_i += [vbeta1_i[i] == eq_sys_RU_M_sol_i]\n",
    "\n",
    "coeffs_beta_i = [beta_i_0 == beta_i_0_d]\n",
    "for i in range(n):\n",
    "    eq_sys_M_sol_i = eq_sys_M_sol[i]\n",
    "    print(eq_sys_M_sol_i)\n",
    "    coeffs_beta_i += [vbeta1_i[i] == eq_sys_M_sol_i]\n",
    "\n",
    "print(coeffs_beta_i)\n",
    "print(M_Q)\n",
    "\n",
    "valpha_i = []\n",
    "for i in range(n):\n",
    "    alpha__i = 0\n",
    "    print(i)\n",
    "    for j in range(0,i+1):\n",
    "        print(j, M_Q[0][n-j], i-j, beta_i[i-j])\n",
    "        alpha__i += M_Q[0][n-j] * beta_i[i-j]\n",
    "    alpha__i *= sqrt(2 * alpha)\n",
    "    valpha_i += [alpha_i[i] == alpha__i]\n",
    "\n",
    "print(valpha_i)\n",
    "\n",
    "coeffs_alpha_i = []\n",
    "for i in range(n):\n",
    "    coeffs_alpha_i += [alpha_i[i] == valpha_i[i].rhs().subs(coeffs_beta_i).subs(alpha == alpha_d)]\n",
    "print(coeffs_alpha_i)"
   ]
  },
  {
   "cell_type": "code",
   "execution_count": 5,
   "metadata": {},
   "outputs": [
    {
     "data": {
      "text/plain": [
       "-0.666666666666665*(delta - 1)/(1.66666666666667*delta + 1)"
      ]
     },
     "execution_count": 5,
     "metadata": {},
     "output_type": "execute_result"
    }
   ],
   "source": [
    "delta, S = var(\"delta, S\")\n",
    "F_delta = sum([alpha_i[i]*delta^i for i in range(n)])/sum([beta_i[i]*delta^i for i in range(n+1)])\n",
    "F_delta_d = F_delta.subs(coeffs_alpha_i).subs(coeffs_beta_i)\n",
    "F_delta_d_1_delta_2_alpha = (1 - delta)/(2*alpha)*F_delta_d\n",
    "F_delta_d_1_delta_2_alpha_d = F_delta_d_1_delta_2_alpha.subs(alpha == alpha_d)\n",
    "F_delta_d_1_delta_2_alpha_d"
   ]
  },
  {
   "cell_type": "code",
   "execution_count": 6,
   "metadata": {},
   "outputs": [
    {
     "name": "stdout",
     "output_type": "stream",
     "text": [
      "391617358901775/391617358901776*e^(-1/2*t)\n",
      "e^(-0.500000000000000*t)\n"
     ]
    }
   ],
   "source": [
    "F_S = F_delta_d_1_delta_2_alpha.subs(delta == (S - alpha + beta) / (S + alpha + beta)).factor()\n",
    "F_S_d = F_S.subs(alpha == alpha_d, beta == beta_d)\n",
    "rec_R = lambda t : inverse_laplace(F_S_d, S, t)\n",
    "print(rec_R(t))\n",
    "print(R(t))"
   ]
  },
  {
   "cell_type": "code",
   "execution_count": 7,
   "metadata": {},
   "outputs": [
    {
     "data": {
      "image/png": "[encoded data removed]",
      "text/plain": [
       "Graphics object consisting of 2 graphics primitives"
      ]
     },
     "execution_count": 7,
     "metadata": {},
     "output_type": "execute_result"
    }
   ],
   "source": [
    "plot([rec_R(t), R(t)],(t, 0, 10))"
   ]
  },
  {
   "cell_type": "code",
   "execution_count": null,
   "metadata": {},
   "outputs": [],
   "source": []
  }
 ],
 "metadata": {
  "kernelspec": {
   "display_name": "SageMath 9.4.rc2",
   "language": "sage",
   "name": "sagemath"
  },
  "language_info": {
   "codemirror_mode": {
    "name": "ipython",
    "version": 3
   },
   "file_extension": ".py",
   "mimetype": "text/x-python",
   "name": "python",
   "nbconvert_exporter": "python",
   "pygments_lexer": "ipython3",
   "version": "3.9.5"
  }
 },
 "nbformat": 4,
 "nbformat_minor": 4
}
