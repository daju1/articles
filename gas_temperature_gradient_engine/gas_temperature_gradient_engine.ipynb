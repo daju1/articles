{
 "cells": [
  {
   "cell_type": "markdown",
   "id": "33fb4d54",
   "metadata": {},
   "source": [
    "# Ротационное устройство создающее градиент температур"
   ]
  },
  {
   "cell_type": "markdown",
   "id": "6ea4e76b",
   "metadata": {},
   "source": [
    "Рассмотрим вращающуюся цилиндрическую полость с радиальными перегородками наполненную газом."
   ]
  },
  {
   "cell_type": "code",
   "execution_count": 1,
   "id": "ebcd13ef",
   "metadata": {},
   "outputs": [
    {
     "data": {
      "image/png": "[encoded data removed]",
      "text/plain": [
       "Graphics object consisting of 23 graphics primitives"
      ]
     },
     "metadata": {},
     "output_type": "display_data"
    }
   ],
   "source": [
    "R = 1\n",
    "r = 0.95\n",
    "\n",
    "phi_arr = range(0,18)\n",
    "\n",
    "color = \"green\"\n",
    "\n",
    "def draw_scheme(phi_r, phi_l):\n",
    "    p = Graphics()\n",
    "    # centers of circles\n",
    "    cr = (0, 0)\n",
    "    p += circle(cr, R)\n",
    "    p += circle(cr, r)\n",
    "    for i in range(0,18+1):\n",
    "        phi = 20*i/360*2*pi\n",
    "        pR = (cr[0] + R*cos(phi), cr[1] + R*sin(phi))\n",
    "        pr = (cr[0] + r*cos(phi), cr[1] + r*sin(phi))\n",
    "        p += line ([pr, pR], color = color, linestyle=\"dashed\")\n",
    "    \n",
    "    phi1 = 20*(i+1)/360*2*pi\n",
    "    phi0 = 20*(i)/360*2*pi\n",
    "    phi2 = 20*(i-1)/360*2*pi\n",
    "    p0 = (cr[0] + (R+r)*cos(phi0), cr[1] + (R+r)*sin(phi0))\n",
    "    p1 = (cr[0] + (R+r)*cos(phi1), cr[1] + (R+r)*sin(phi1))\n",
    "    p2 = (cr[0] + (R+r)*cos(phi2), cr[1] + (R+r)*sin(phi2))\n",
    "    p += arrow(p1, p2)\n",
    "    \n",
    "    p += text(\"$\\\\omega$\", p0, fontsize=14)\n",
    "    \n",
    "    return p\n",
    "\n",
    "p = draw_scheme(pi/4, pi/4)\n",
    "\n",
    "p.show(aspect_ratio = 1, axes=False)"
   ]
  },
  {
   "cell_type": "markdown",
   "id": "7c4f2977",
   "metadata": {},
   "source": [
    "Перейдя во вращающуюся систему координат можно обнаружить появление радиально направленного от меньшего радиуса к большему ускорения свободного падения равное $g\\left(r\\right)=\\omega^2\\,r$. \n",
    "\n",
    "Дифференциал потенциальной энергии по радиусу равен\n",
    "\n",
    "$dW = m g\\left(r\\right) dr = \\omega^2\\,r dr = \\frac{1}{2}\\omega^2\\,dr^2$\n",
    "\n",
    "$\\int dW dr = \\int m g\\left(r\\right) dr = \\int \\omega^2\\,r dr = \\frac{1}{2}\\omega^2\\,r^2$\n",
    "\n",
    "В работе V.S. Vasilenko, A.A. Malgota (2017) было показано, что диффузия и дрейф молекул идеального газа в гравитационном поле приводит к разделению слоёв молекул по температуре с градиентом большим, чем сухоадиабатический градиент равный $\\frac{dT}{dz} = -\\frac{M\\, g}{c_p}$. Авторы приводят оценку градиента температуры, создаваемого движением молекул идеального газа в поле сил тяжести $\\frac{dT}{dz} = -\\frac{M\\, g}{c_v}$.\n",
    "\n",
    "Авторы дают следующий вывод своего уравнения"
   ]
  },
  {
   "cell_type": "markdown",
   "id": "76c989e6",
   "metadata": {},
   "source": [
    "# Градиент температуры, создаваемый движением молекул идеального газа в поле сил тяжести"
   ]
  },
  {
   "cell_type": "markdown",
   "id": "4056243f",
   "metadata": {},
   "source": [
    "На произвольной высоте $z$ выберем два соседних горизонтальных слоя площадью $S$ с толщиной равной средней проекции длины свободного пробега $\\lambda_z$.\n",
    "\n",
    "Объём горизонтальных слоя $V = \\lambda_z S$\n",
    "\n",
    "В верхнем слое с номером $j+1$ половина молекул имеет проекцию скорости, направленную вниз.\n",
    "\n",
    "За время свободного пробега эта половина молекул верхнего слоя переместится в нижний слой.\n",
    "\n",
    "Происходит перенос энергии теплового движения\n",
    "\n",
    "$U_{j+1} = \\frac{1}{2}n V \\cdot i \\cdot k \\cdot T_{j+1} = \\frac{1}{2}n\\lambda_z S \\cdot i \\cdot k \\cdot T_{j+1} $\n",
    "\n",
    "$U_{j} = \\frac{1}{2}n V \\cdot i \\cdot k \\cdot T_{j} = \\frac{1}{2}n\\lambda_z S \\cdot i \\cdot k \\cdot T_{j} $\n",
    "\n",
    "и потенциальной энергии\n",
    "\n",
    "$W = \\frac{1}{2}n V \\cdot m \\cdot g \\cdot {\\lambda_z} = \\frac{1}{2}n \\cdot m \\cdot g \\cdot {\\lambda_z}^2 S$,\n",
    "\n",
    "которая переходит в тепловую при столкновении  молекулами в $j$ - м слое. Для стационарного случая необходимо, чтобы приращение энергии этих $\\frac{s\\,\\lambda_z\\,n}{2}$ молекул происходило за счет изменения их потенциальной энергии в гравитационном поле:\n",
    "$U_{j+1} + W = U_{j}$\n",
    "\n",
    "$$\\frac{1}{2}n{\\lambda}_z S \\cdot i \\cdot k \\cdot (T_{j+1} - T_{j}) + \\frac{1}{2}n \\cdot m \\cdot g \\cdot {{\\lambda}_z}^2 S = 0$$\n",
    "\n",
    "\n",
    "Сокращая концентрацию молекул $n$ и проекцию длины свободного пробега $\\lambda_z$ и умножая на число Авогадро получим оценку градиента температуры, создаваемого движением молекул молекул идеального газа в поле сил тяжести\n",
    "\n",
    "$$\\frac{dT}{dz} = -\\frac{M \\cdot g}{C_v}$$\n"
   ]
  },
  {
   "cell_type": "markdown",
   "id": "f603b851",
   "metadata": {},
   "source": [
    "Нужно заметить, что авторы не учли влияния барометрической формулы на распределение концентрации молекул с высотой."
   ]
  },
  {
   "cell_type": "markdown",
   "id": "df69a528",
   "metadata": {},
   "source": [
    "The barometric formula can be derived using the ideal gas law:\n",
    "\n",
    "${\\displaystyle P=\\,{\\frac {\\rho }{M}}{R\\,}T}$\n",
    "\n",
    "<p>Assuming that all pressure is hydrostatic:\n",
    "</p>\n",
    "\n",
    "\n",
    "${\\displaystyle dP=-\\,\\rho g\\,dz}$"
   ]
  },
  {
   "cell_type": "markdown",
   "id": "b8eba0e9",
   "metadata": {},
   "source": [
    "${\\displaystyle {\\frac {dP}{P}}=-\\,{\\frac {M\\,g\\,dz}{R\\,T}}}$\n",
    "\n",
    "${\\displaystyle {\\frac {dn}{n}}=-\\,{\\frac {M\\,g\\,dz}{R\\,T}}}$\n",
    "\n",
    "${\\displaystyle {\\frac {dn}{dz}} = -\\,n\\,{\\frac {M\\,g}{R\\,T}}}$"
   ]
  },
  {
   "cell_type": "markdown",
   "id": "f5c72031",
   "metadata": {},
   "source": [
    "Однако вместе с концентрацией меняется также и длина свободного пробега молекул таким образом, что их произведение остаётся постоянным. \n",
    "\n",
    "длина свободного пробега\n",
    "\n",
    "${\\displaystyle \\lambda ={\\frac {1}{{\\sqrt {2}}\\sigma n}}}$, где ${\\displaystyle \\sigma }$ — эффективное сечение молекулы, равное ${\\displaystyle {\\pi d^{2}}}$\n",
    "\n",
    "${\\displaystyle d}$ — эффективный диаметр молекулы), а ${\\displaystyle n}$ концентрация молекул.\n",
    "\n",
    "Действительно, из за влияния барометрической формулы плотность газа в верхнем слое меньше плотности в нижнем, но одновременно вместе с этим и длина свободного пробега в верхнем слое больше чем в нижнем. Поэтому если в расчёте толщину верхнего слоя взять бОльшей толщины нижнего слоя, и если учесть, что множитель, выносящийсмя за скобки это произведение концентрации на длину свободного пробега, то следует ожидать, что влияние фактора неравномерности плотности с высотой вносит несущественную поправку в полученную авторами формулу."
   ]
  },
  {
   "cell_type": "markdown",
   "id": "920cfa85",
   "metadata": {},
   "source": [
    "Далее, что нужно отметить, что их вывод проведен в декартовой системе координат, тогда как для вращающейся цилиндрической полости с газом необходимо перевывести эту формулу для цилиндрической системы координат."
   ]
  },
  {
   "cell_type": "markdown",
   "id": "3f5615a2",
   "metadata": {},
   "source": [
    "# Градиент температуры, создаваемый движением молекул идеального газа в поле  центробежных сил во вращающейся системе"
   ]
  },
  {
   "cell_type": "markdown",
   "id": "46dfb4ae",
   "metadata": {},
   "source": [
    "На произвольном расстоянии от центра вращения $r$ выберем два соседних цилиндрических слоя с толщиной равной средней проекции длины свободного пробега $\\lambda_r$.\n",
    "\n",
    "Объёмы этих слоёв\n",
    "\n",
    "$\\begin{array}{rrr}\n",
    "V_j     = & \\pi ((r+\\lambda_z)^2 - r^2)\\,h = &\\pi (2 r \\lambda_z + \\lambda_z^2)\\,h & \"нижний\"\\,-\\,ближе\\,к\\,периферии \\\\\n",
    "V_{j+1} = & \\pi (r^2 - (r-\\lambda_z)^2)\\,h = &\\pi (2 r \\lambda_z - \\lambda_z^2)\\,h & \"верхний\"\\,-\\, ближе\\,к\\,центру \\\\\n",
    "V       = & \\pi ((r+\\lambda_z/2)^2 - (r-\\lambda_z/2)^2)\\,h = &2 \\pi r \\lambda_z h & \\, \\\\\n",
    "V       = & \\, = &2 \\pi r \\lambda_z h & \"усреднённый\" \\\\\n",
    "\\end{array}$\n",
    "\n",
    "В \"верхнем\" (от внешней поверхности) слое с номером $j+1$ чуть больше половины молекул имеет проекцию скорости, направленную радиально \"вниз\" (к внешней поверхности).\n",
    "\n",
    "За время свободного пробега эта (большая) половина молекул \"верхнего\" слоя переместится в \"нижний\" слой.\n",
    "\n",
    "Происходит перенос энергии теплового движения\n",
    "\n",
    "$\\begin{array}{rr}\n",
    "U_{j+1}  = & \\frac{>1}{2}n\\,V_{j+1} \\cdot i \\cdot k \\cdot T_{j+1} \\\\\n",
    "\\, \\approx & \\frac{1}{2}n\\,V \\cdot i \\cdot k \\cdot T_{j+1} \\\\\n",
    "\\,       = & \\frac{1}{2}n\\,2\\pi r \\lambda_z h \\cdot i \\cdot k \\cdot T_{j+1}\n",
    "\\end{array}$\n",
    "\n",
    "\n",
    "$\\begin{array}{rr}\n",
    "U_{j}    = & \\frac{<1}{2}n\\,V_j \\cdot i \\cdot k \\cdot T_{j} \\\\\n",
    "\\, \\approx & \\frac{1}{2}n\\,V \\cdot i \\cdot k \\cdot T_{j} \\\\\n",
    "\\,       = & \\frac{1}{2}n\\,2\\pi r \\lambda_z h \\cdot i \\cdot k \\cdot T_{j}\n",
    "\\end{array}$\n",
    "\n",
    "и потенциальной энергии\n",
    "\n",
    "$\\begin{array}{rr}\n",
    "W = & \\frac{1}{2}n\\,V \\cdot m \\cdot \\int\\limits_{r-\\frac{\\lambda_z}{2}}^{r+\\frac{\\lambda_z}{2}} g\\,(r')\\,dr' \\\\\n",
    "= &\\frac{1}{2}n\\,V \\cdot m \\cdot \\int\\limits_{r-\\frac{\\lambda_z}{2}}^{r+\\frac{\\lambda_z}{2}} \\omega^2\\,r'\\,dr' \\\\\n",
    "= &\\frac{1}{2}n\\,V \\cdot m \\cdot \\frac{1}{2}\\omega^2\\,r'^2 \\Bigg\\vert_{r-\\frac{\\lambda_z}{2}}^{r+\\frac{\\lambda_z}{2}} \\\\\n",
    "= &\\frac{1}{2}n\\,V \\cdot m \\cdot \\frac{1}{2}\\omega^2\\,\\left(\\left({r+\\frac{\\lambda_z}{2}}\\right)^2 -\\left({r-\\frac{\\lambda_z}{2}}\\right)^2 \\right) \\\\\n",
    "= &\\frac{1}{2}n\\,V \\cdot m \\cdot \\frac{1}{2}\\omega^2\\,\\left(2 \\, r \\cdot \\lambda_z\\right) \\\\\n",
    "= &\\frac{1}{2}n\\,V \\cdot m \\cdot \\omega^2\\,r \\cdot \\lambda_z \\\\\n",
    "= &\\frac{1}{2}n\\,2 \\pi r \\lambda_z h \\cdot m \\cdot \\omega^2 \\, r \\cdot \\lambda_z\n",
    "\\end{array}$,\n",
    "\n",
    "\n",
    "которая переходит в тепловую при столкновении с молекулами в $j$ - м слое. Для стационарного случая необходимо, чтобы приращение энергии этих $\\frac{s\\,\\lambda_z\\,n}{2}$ молекул происходило за счет изменения их потенциальной энергии в гравитационном поле:\n",
    "\n",
    "$$U_{j+1} + W = U_{j}$$\n",
    "\n",
    "\n",
    "$$\\frac{1}{2}n\\,V \\cdot i \\cdot k \\cdot (T_{j+1} - T_{j}) + \\frac{1}{2}n\\,V \\cdot m \\cdot \\omega^2 \\, r \\cdot \\lambda_z = 0$$\n",
    "\n",
    "\n",
    "$$i \\cdot k \\cdot (T_{j+1} - T_{j}) + m \\cdot \\omega^2 \\, r \\cdot \\lambda_z = 0$$\n",
    "\n",
    "\n",
    "Сокращая концентрацию молекул $n$ и проекцию длины свободного пробега $\\lambda_z$ и умножая на число Авогадро получим оценку градиента температуры, создаваемого движением молекул молекул идеального газа в поле сил тяжести\n",
    " \n",
    "$$\\frac{dT}{dr} = \\frac{M \\cdot \\omega^2 \\, r}{C_v}$$\n",
    "\n",
    "В отличие от градиента температур в гравитационном поле имеющего отрицательный знак, знак градиента в в поле центробежных сил  положительный "
   ]
  },
  {
   "cell_type": "markdown",
   "id": "47d2374b",
   "metadata": {},
   "source": [
    "# барометрическая формула в поле  центробежных сил во вращающейся системе"
   ]
  },
  {
   "cell_type": "markdown",
   "id": "2b9238d7",
   "metadata": {},
   "source": [
    "$\\displaystyle dP =-\\,\\frac{dF}{S} =-\\,\\frac{g\\,dm}{S} =-\\,\\frac{g\\,\\rho\\,dV}{S}$\n",
    "\n",
    "$S(r) = 2 \\pi r\\,h$\n",
    "\n",
    "$dV_{j+1} = \\pi\\,(2\\,r\\,dr - dr^2)\\,h$ \"верхний\" объем - ближе к центру\n",
    "\n",
    "$\\displaystyle dP =-\\,\\frac{g\\,\\rho\\,dV}{S} =-\\,\\frac{g\\,\\rho\\,\\pi\\,(2\\,r\\,dr - dr^2)\\,h}{2 \\pi r\\,h}$\n",
    "\n",
    "$\\displaystyle dP =-\\,\\frac{g\\,\\rho\\,(2\\,r\\,dr - dr^2)}{2 r} =-\\,\\frac{g\\,\\rho\\,2\\,r\\,dr - g\\,\\rho\\,dr^2}{2 r} =-\\,g\\,\\rho\\,\\frac{2\\,r\\,dr - dr^2}{2 r} =-\\,g\\,\\rho\\,\\left(dr - \\frac{dr^2}{2 r} \\right) $\n",
    "\n",
    "$\\displaystyle dP =-\\,g\\,\\rho\\,dr + \\,\\frac{g\\,\\rho\\,dr^2}{2 r}$\n",
    "\n",
    "${\\displaystyle dP=-\\,\\rho g\\,\\left(dr - \\frac{dr^2}{2 r} \\right)}$\n",
    "${\\displaystyle dP=-\\,\\rho g\\,dr\\left(1 - \\frac{dr}{2 r} \\right)}$\n",
    "\n",
    "${\\displaystyle dP=-\\,\\frac{m}{V} g\\,dr}$\n"
   ]
  },
  {
   "cell_type": "markdown",
   "id": "8491011c",
   "metadata": {},
   "source": [
    "${\\displaystyle {\\frac {dP}{P}}=-\\,{\\frac {M\\,g\\,dr}{R\\,T}}}$\n",
    "\n",
    "${\\displaystyle {\\frac {dn}{n}}=-\\,{\\frac {M\\,g\\,dr}{R\\,T}}}$\n",
    "\n",
    "${\\displaystyle {\\frac {dn}{dr}} = -\\,n\\,{\\frac {M\\,g}{R\\,T}}}$"
   ]
  },
  {
   "cell_type": "markdown",
   "id": "24a0ae0a",
   "metadata": {},
   "source": [
    "# Нестационарное рассмотрение градиента температуры, создаваемого движением молекул идеального газа в поле сил тяжести"
   ]
  },
  {
   "cell_type": "markdown",
   "id": "ba0f88fe",
   "metadata": {},
   "source": [
    "Давайте теперь рассмотрим нестационарный случай, который будет заключатся в том, что мы теперь от \"нижнего\" слоя с более высокой температурой будем отводить в единицу времени количество теплоты $-Q_j$ \"вниз\", а к \"верхнему\" слою с более низкой температурой мы будем подводить в единицу времени количество теплоты $+Q_{j+1}$.\n",
    "\n",
    "$U_{j+1} - U_{j} + W + \\frac{Q_{j+1}}{\\tau_0} = \\frac{-Q_{j}}{\\tau_0}$\n",
    "\n",
    "\n",
    "$U_{j+1} = \\frac{1}{2}n\\lambda_z S \\cdot i \\cdot k \\cdot T_{j+1} $\n",
    "\n",
    "$U_{j} = \\frac{1}{2}n\\lambda_z S \\cdot i \\cdot k \\cdot T_{j} $\n",
    "\n",
    "и потенциальной энергии\n",
    "\n",
    "$W =  \\frac{1}{2}n \\cdot m \\cdot g \\cdot {\\lambda_z}^2 S$,\n",
    "\n",
    "$$\\frac{1}{2}n{\\lambda}_z \\cdot i \\cdot k \\cdot (T_{j+1} - T_{j}) + \\frac{1}{2}n \\cdot m \\cdot g \\cdot {{\\lambda}_z}^2 =  \\frac{- Q_{j+1} - Q_{j}}{\\tau_0 S}$$\n",
    "\n",
    "\n",
    "$$\\frac{1}{2}n{\\lambda}_z \\cdot i \\cdot k \\cdot \\frac{(T_{j+1} - T_{j})}{{\\lambda}_z} + \\frac{1}{2}n \\cdot m \\cdot g \\cdot {{\\lambda}_z} =  \\frac{- Q_{j+1} - Q_{j}}{{\\lambda}_z \\tau_0 S}$$\n",
    "\n",
    "\n",
    "$$\\frac{1}{2}n{\\lambda}_z \\cdot i \\cdot k \\cdot \\left(\\frac{(T_{j+1} - T_{j})}{{\\lambda}_z} + \\frac{ m \\cdot g}{i \\cdot k}  \\right) = \\frac{- Q_{j+1} - Q_{j}}{{\\lambda}_z \\tau_0 S}$$\n",
    "\n",
    "Сравним данную формулу с Законом теплопроводности Фурье, который в отсутствие влияния гравитационного поля формулируется следующим образом:\n",
    "\n",
    "В установившемся режиме плотность потока энергии, передающейся посредством теплопроводности, пропорциональна градиенту температуры:\n",
    "\n",
    "$\\displaystyle {\\vec {q}}=-\\varkappa \\mathop {\\mathrm {grad} } T$"
   ]
  },
  {
   "cell_type": "markdown",
   "id": "f48dbf41",
   "metadata": {},
   "source": [
    "где ${\\displaystyle {\\vec {q}}}$ — вектор плотности теплового потока&nbsp;— количество энергии, проходящей в единицу времени через единицу площади, перпендикулярной каждой оси, ${\\displaystyle \\varkappa }$&nbsp;— коэффициент теплопроводности (удельная теплопроводность), ${\\displaystyle \\mathop {\\textrm {grad}} T}$ (то есть в сторону скорейшего убывания температуры). Это выражение известно как закон теплопроводности Фурье."
   ]
  },
  {
   "cell_type": "markdown",
   "id": "bac3404b",
   "metadata": {},
   "source": [
    "Однако в присутствие гравитации в направлении сонаправленном вектору $\\vec{g}$ в законе теплопроводности необходимо учесть влияние градиента температуры, создаваемого движением молекул молекул идеального газа в поле сил тяжести следующим образом: \n",
    "\n",
    "$${\\vec {q}}=-\\varkappa \\left( \\frac{dT}{dz} + \\frac{M \\cdot \\vec{g}}{C_v} \\right)$$\n",
    "\n",
    "или в поле центробежных сил во вращающейся системе:\n",
    "\n",
    "$${\\vec {q}}=-\\varkappa \\left( \\frac{dT}{dr} - \\frac{M \\cdot \\omega^2\\,r}{C_v} \\right)$$\n",
    "\n",
    "Обьяснение полученной формулы следующее: в присутствии гравитации в стационарном случае установившегося вертикального градиента, равного\n",
    "\n",
    "$$\\frac{dT}{dz} = -\\frac{M \\cdot g}{C_v}$$\n",
    "\n",
    "или\n",
    "\n",
    "$$\\frac{dT}{dr} = \\frac{M \\cdot \\omega^2 \\, r}{C_v}$$\n",
    "\n",
    "\n",
    "наличие данного температурного градиента не будет приводить к возникновению вертикального теплового потока в толще газа, потому как этот градиент уравновешен гравитационным (или центробежным) полем\n",
    "\n",
    "Данная формула плотности потока тепловой энергии в условиях гравитации получена, по-видимому, впервые."
   ]
  },
  {
   "cell_type": "markdown",
   "id": "94d7030a",
   "metadata": {},
   "source": [
    "# Справочные формулы из молекулярно кинетической теории"
   ]
  },
  {
   "cell_type": "markdown",
   "id": "0268f41e",
   "metadata": {},
   "source": [
    "Коэффициент теплопроводности газов\n",
    "\n",
    "${\\displaystyle \\varkappa \\sim {\\frac {1}{3}}\\rho c_{v}\\lambda {\\bar {v}},}$"
   ]
  },
  {
   "cell_type": "markdown",
   "id": "9f506a2f",
   "metadata": {},
   "source": [
    "<p>где ${\\displaystyle \\rho }$&nbsp;— плотность газа, ${\\displaystyle c_{v}}$&nbsp;— удельная теплоёмкость при постоянном объёме, ${\\displaystyle \\lambda }$&nbsp;— средняя длина свободного пробега молекул газа, ${\\displaystyle {\\bar {v}}}$&nbsp;— средняя тепловая скорость. Эта же формула может быть записана как</p>"
   ]
  },
  {
   "cell_type": "markdown",
   "id": "b76c261b",
   "metadata": {},
   "source": [
    "$${\\displaystyle \\varkappa ={\\frac {ik}{3\\pi ^{3/2}d^{2}}}{\\sqrt {\\frac {RT}{M }}},}$$"
   ]
  },
  {
   "cell_type": "markdown",
   "id": "222df12e",
   "metadata": {},
   "source": [
    "длина свободного пробега\n",
    "\n",
    "${\\displaystyle \\lambda ={\\frac {1}{{\\sqrt {2}}\\sigma n}}}$, где ${\\displaystyle \\sigma }$ — эффективное сечение молекулы, равное ${\\displaystyle {\\pi d^{2}}}$\n",
    "\n",
    "${\\displaystyle d}$ — эффективный диаметр молекулы), а ${\\displaystyle n}$ концентрация молекул."
   ]
  },
  {
   "cell_type": "markdown",
   "id": "c33c38ad",
   "metadata": {},
   "source": [
    "${\\displaystyle \\lambda ={\\frac {\\mu }{p}}{\\sqrt {\\frac {\\pi k_{\\text{B}}T}{2m}}},}$\n",
    "\n",
    "<p>где m&nbsp;— масса молекулы, а <i>μ</i>&nbsp;— вязкость. Это выражение можно удобно представить в следующем виде:\n",
    "</p>\n",
    "\n",
    "${\\displaystyle \\lambda ={\\frac {\\mu }{p}}{\\sqrt {\\frac {\\pi R_{u}T}{2M}}},}$\n",
    "\n",
    "<p>где ${\\displaystyle R_{u}}$ \"Универсальная газовая постоянная\", а ${\\displaystyle M}$\n",
    " молекулярная масса.\n",
    "</p>"
   ]
  },
  {
   "cell_type": "markdown",
   "id": "ff9390af",
   "metadata": {},
   "source": [
    "Уравнение среднеквадратичной скорости молекулы\n",
    "\n",
    "${\\displaystyle {\\bar {v}}={\\sqrt {\\frac {3kTN_{A}}{M_{r}}}}={\\sqrt {\\frac {3kT}{m}}}}$"
   ]
  },
  {
   "cell_type": "markdown",
   "id": "1b046ee5",
   "metadata": {},
   "source": [
    "Уравнение среднеквадратичной скорости относительного движения молекул\n",
    "\n",
    "\n",
    "\n",
    "${\\displaystyle {\\bar {v}}={\\sqrt {\\frac {8kTN_{A}}{\\pi M_{r}}}}={\\sqrt {\\frac {8kT}{\\pi m}}}}$\n",
    "\n",
    "https://mash-xxl.info/page/118051085025124117132154119217045106188025232081/"
   ]
  },
  {
   "cell_type": "markdown",
   "id": "bc995b1f",
   "metadata": {},
   "source": [
    "Среднее время свободного пробега\n",
    "\n",
    "${\\displaystyle \\tau_0} = \\frac {\\lambda}{ {\\bar {v}} }$"
   ]
  },
  {
   "cell_type": "code",
   "execution_count": null,
   "id": "542f8717",
   "metadata": {},
   "outputs": [],
   "source": []
  },
  {
   "cell_type": "markdown",
   "id": "a27fc2a2",
   "metadata": {},
   "source": [
    "При уменьшении модуля градиента меньше величины сухоадиабатического градиента конвекция в газе прекращается и переток тепла между горизонтальными слоями газа возможен только вследствие теплопроводности.\n",
    "\n",
    "\n",
    "Для создания градиента температур большего, чем сухоадиабатический необходимо затруднить конвекцию, для чего в конструкции предусмотрены радиальные перегородки."
   ]
  },
  {
   "cell_type": "markdown",
   "id": "5ac28349",
   "metadata": {},
   "source": [
    "# Система дифференциальных уравнений процесса температурного разделения в поле центробежных сил во вращающейся системе"
   ]
  },
  {
   "cell_type": "markdown",
   "id": "4a16efa6",
   "metadata": {},
   "source": [
    "Составим систему дифференциальных уравнений\n",
    "\n",
    "плотность теплового потока ${q_r(r)}$ - количество энергии $Q(r)$, проходящей в единицу времени $dt$ через единицу площади $S(r)$\n",
    "\n",
    "$${q_r(r)} = \\frac{1}{S(r)} \\frac{Q(r)}{dt} $$\n",
    "\n",
    "$$q_r(r)\\,S(r) = \\frac{Q(r)}{dt} $$\n",
    "\n",
    "\n",
    "$$Q(r) = q_r(r)\\,S(r)\\,dt$$\n",
    "\n",
    "$$S(r) = 2 \\pi r\\,h$$\n",
    "\n",
    "$$Q(r) = q_r(r)\\,2 \\pi r\\,h\\,dt$$"
   ]
  },
  {
   "cell_type": "markdown",
   "id": "009b4247",
   "metadata": {},
   "source": [
    "теплоёмкость при постоянном обьеме\n",
    "\n",
    "$$c_v = \\frac{\\Delta Q}{\\Delta \\nu\\,\\Delta T}$$\n",
    "\n",
    "$$\\Delta T = \\frac{1}{c_v}\\frac{\\Delta Q}{\\Delta \\nu}$$\n",
    "\n",
    "рассмотрим изменение температуры бесконечного тонкого цилиндрического слоя толщиной $dr$ происходящее благодаря разнице тепловых потоков $dQ (r)$ и $dQ (r + dr)$ проходящих через внутреннюю и внешнюю границу этого тонкого слоя\n",
    "\n",
    "$$\\Delta T(r) = \\frac{1}{c_v}\\frac{\\Delta Q (r)}{\\Delta \\nu} = \\frac{1}{c_v}\\frac{Q (r) - Q (r + dr)}{\\Delta \\nu}$$"
   ]
  },
  {
   "cell_type": "markdown",
   "id": "ff685e29",
   "metadata": {},
   "source": [
    "$$dT = \\frac{1}{c_v}\\frac{dQ/dr}{d\\nu/dr}$$"
   ]
  },
  {
   "cell_type": "markdown",
   "id": "28d38c0e",
   "metadata": {},
   "source": [
    "найдем $d\\nu/dr$ для идеального газа исходя из уравнения Клайперона Менделеева\n",
    "\n",
    "$$n = \\frac{N_a p}{R T} = \\frac{N_a \\nu}{V} = \\frac{N_a d\\nu}{dV}$$\n",
    "\n",
    "$$dV = 2 \\pi r\\,h\\,dr$$\n",
    "\n",
    "$$n = \\frac{N_a d\\nu}{2 \\pi r\\,h\\,dr}$$\n",
    "\n",
    "\n",
    "$$\\frac{d\\nu}{dr} = 2 \\pi r h\\,\\frac{n}{N_a}$$"
   ]
  },
  {
   "cell_type": "markdown",
   "id": "ec897700",
   "metadata": {},
   "source": [
    "таким образом для идеального газа\n",
    "\n",
    "$$dT = \\frac{N_a}{n\\,c_v}\\frac{dQ/dr}{2 \\pi r h}$$"
   ]
  },
  {
   "cell_type": "markdown",
   "id": "20fb9ac1",
   "metadata": {},
   "source": [
    "теперь найдем $d\\nu/dr$ для несжимаемой жидкости\n",
    "\n",
    "$$d\\nu/dr = \\frac{d}{dr}{\\Delta \\nu}$$\n",
    "\n",
    "$${\\Delta \\nu} = \\frac{\\Delta m}{M} = \\frac{\\rho \\Delta V}{M} = \\frac{\\rho 2 \\pi r h \\Delta r}{M}$$\n",
    "\n",
    "$$d\\nu/dr =  2 \\pi r h\\frac{\\rho}{M}$$"
   ]
  },
  {
   "cell_type": "markdown",
   "id": "a056796f",
   "metadata": {},
   "source": [
    "таким образом для несжимаемой жидкости\n",
    "\n",
    "$$dT = \\frac{M}{\\rho\\, c_v}\\,\\frac{dQ/dr}{2 \\pi r h}$$"
   ]
  },
  {
   "cell_type": "markdown",
   "id": "35d4cb07",
   "metadata": {},
   "source": [
    "количество энергии $dQ(r)$, проходящей за время $dt$ через всю площадь $S(r)$ цилиндрической воображаемой поверхности, заданной радиусом $r$ исходя из плотности теплового потока ${q_r(r)}$\n",
    "\n",
    "$$Q(r) = q_r(r)\\,2 \\pi r\\,h\\,dt$$\n",
    "\n",
    "дифференцируем его по $r$ координате\n",
    "\n",
    "$$\\frac{d}{dr}Q(r) = \\frac{d}{dr}\\Big(q_r(r)\\,2 \\pi r\\,h\\,dt\\Big)$$\n",
    "\n",
    "\n",
    "$$\\frac{dQ(r)}{dr} = 2 \\pi\\,h\\Big(\\frac{dq_r(r)}{dr}\\, r + q_r(r)\\Big)\\,dt$$\n",
    "\n",
    "\n",
    "Таким образом для идеального газа\n",
    "\n",
    "$$dT = \\frac{N_a}{n\\,c_v}\\frac{2 \\pi\\,h\\Big(\\frac{dq_r(r)}{dr}\\, r + q_r(r)\\Big)\\,dt}{2 \\pi r h}$$\n",
    "\n",
    "$$\\frac{dT}{dt} = \\frac{N_a}{n\\,c_v}\\,\\Bigg(\\frac{dq_r(r)}{dr} + \\frac{q_r(r)}{r}\\Bigg)$$\n",
    "\n",
    "а для несжимаемой жидкости\n",
    "\n",
    "$$\\frac{dT}{dt} = \\frac{M}{\\rho\\, c_v}\\,\\Bigg(\\frac{dq_r(r)}{dr} + \\frac{q_r(r)}{r}\\Bigg)$$\n"
   ]
  },
  {
   "cell_type": "markdown",
   "id": "ff7a5da6",
   "metadata": {},
   "source": [
    "для идеального газа нужно также применить барометрическую формулу\n",
    "\n",
    "$${\\displaystyle {\\frac {dn}{dr}} = -\\,n\\,{\\frac {M\\,g}{R\\,T}}}$$"
   ]
  },
  {
   "cell_type": "markdown",
   "id": "56952481",
   "metadata": {},
   "source": [
    "# Решение дифференциального уравнения процесса температурного разделения в поле центробежных сил для стационарного случая $\\frac{dT}{dt} = 0$ "
   ]
  },
  {
   "cell_type": "code",
   "execution_count": 2,
   "id": "3f17cb81",
   "metadata": {},
   "outputs": [],
   "source": [
    "from IPython.display import display, Math, Latex"
   ]
  },
  {
   "cell_type": "code",
   "execution_count": 3,
   "id": "883bc65c",
   "metadata": {},
   "outputs": [],
   "source": [
    "t, r = var(\"t, r\")\n",
    "M, omega = var(\"M, omega\")\n",
    "i, R = var(\"i, R\")\n",
    "C_v = var(\"C_v\")\n",
    "kappa = var(\"kappa\")\n",
    "T = function('T')(r)"
   ]
  },
  {
   "cell_type": "markdown",
   "id": "49ad3bbf",
   "metadata": {},
   "source": [
    "плотность потока тепловой энергии в поле центробежных сил во вращающейся системе\n",
    "\n",
    "$${q_r(r)}=-\\varkappa \\left( \\frac{dT(r)}{dr} - \\frac{M \\cdot \\omega^2\\,r}{C_v} \\right)$$\n"
   ]
  },
  {
   "cell_type": "code",
   "execution_count": 4,
   "id": "68733075",
   "metadata": {},
   "outputs": [
    {
     "data": {
      "text/latex": [
       "$\\displaystyle {\\left(\\frac{M \\omega^{2} r}{R i} - \\frac{\\partial}{\\partial r}T\\left(r\\right)\\right)} \\kappa$"
      ],
      "text/plain": [
       "<IPython.core.display.Math object>"
      ]
     },
     "metadata": {},
     "output_type": "display_data"
    }
   ],
   "source": [
    "q_rot = - kappa*(diff(T, r) - M * omega^2 * r / (i * R))\n",
    "display(Math(latex(q_rot)))"
   ]
  },
  {
   "cell_type": "markdown",
   "id": "bcb123f6",
   "metadata": {},
   "source": [
    "для стационарного случая $\\frac{dT}{dt} = 0$ означает\n",
    "\n",
    "$$0 = \\Bigg(\\frac{dq_r(r)}{dr} + \\frac{q_r(r)}{r}\\Bigg)$$\n",
    "\n",
    "причем это равенство идентично хоть для сжимаемого идеального газа, хоть для несжимаемой жидкости. Подставляя выражение для плотности потока в данное равенства получаем уравнение"
   ]
  },
  {
   "cell_type": "code",
   "execution_count": 5,
   "id": "0dab73bd",
   "metadata": {},
   "outputs": [
    {
     "data": {
      "text/latex": [
       "$\\displaystyle \\kappa {\\left(\\frac{M \\omega^{2}}{R i} - \\frac{\\partial^{2}}{(\\partial r)^{2}}T\\left(r\\right)\\right)} + \\frac{{\\left(\\frac{M \\omega^{2} r}{R i} - \\frac{\\partial}{\\partial r}T\\left(r\\right)\\right)} \\kappa}{r} = 0$"
      ],
      "text/plain": [
       "<IPython.core.display.Math object>"
      ]
     },
     "metadata": {},
     "output_type": "display_data"
    }
   ],
   "source": [
    "eq_rot = diff(q_rot, r) + q_rot/r == 0\n",
    "display(Math(latex(eq_rot)))"
   ]
  },
  {
   "cell_type": "markdown",
   "id": "f5890775",
   "metadata": {},
   "source": [
    "решаем полученное дифференциальное уравнение относительно температуры"
   ]
  },
  {
   "cell_type": "code",
   "execution_count": 6,
   "id": "52de1ab0",
   "metadata": {
    "scrolled": true
   },
   "outputs": [
    {
     "data": {
      "text/latex": [
       "$\\displaystyle \\frac{M \\omega^{2} r^{2}}{2 \\, R i} + K_{2} + \\frac{K_{1} \\log\\left(r\\right)}{R i}$"
      ],
      "text/plain": [
       "<IPython.core.display.Math object>"
      ]
     },
     "metadata": {},
     "output_type": "display_data"
    }
   ],
   "source": [
    "sol_T_rot = desolve(eq_rot, T, ivar=r, contrib_ode=True, show_method=True)\n",
    "T_rot     = sol_T_rot[0]\n",
    "display(Math(latex(T_rot)))"
   ]
  },
  {
   "cell_type": "markdown",
   "id": "29fe31e0",
   "metadata": {},
   "source": [
    "диффиренцируя решение по радиусу находим производную  $\\frac{dT(r)}{dr}$"
   ]
  },
  {
   "cell_type": "code",
   "execution_count": 7,
   "id": "9b2c2cf7",
   "metadata": {
    "scrolled": true
   },
   "outputs": [
    {
     "data": {
      "text/latex": [
       "$\\displaystyle \\frac{M \\omega^{2} r}{R i} + \\frac{K_{1}}{R i r}$"
      ],
      "text/plain": [
       "<IPython.core.display.Math object>"
      ]
     },
     "metadata": {},
     "output_type": "display_data"
    }
   ],
   "source": [
    "display(Math(latex(diff(T_rot, r))))"
   ]
  },
  {
   "cell_type": "markdown",
   "id": "567f58bc",
   "metadata": {},
   "source": [
    "подставляя полученную производную в формулу плотности потока тепловой энергии в поле центробежных сил во вращающейся системе\n",
    "\n",
    "$${q_r(r)}=-\\varkappa \\left( \\frac{dT(r)}{dr} - \\frac{M \\cdot \\omega^2\\,r}{C_v} \\right)$$\n",
    "\n",
    "находим оную как "
   ]
  },
  {
   "cell_type": "code",
   "execution_count": 8,
   "id": "5b854074",
   "metadata": {},
   "outputs": [
    {
     "data": {
      "text/latex": [
       "$\\displaystyle -\\frac{K_{1} \\kappa}{R i r}$"
      ],
      "text/plain": [
       "<IPython.core.display.Math object>"
      ]
     },
     "metadata": {},
     "output_type": "display_data"
    }
   ],
   "source": [
    "q_rot = - kappa * (diff(T_rot, r) - M * omega^2 * r / (i * R))\n",
    "display(Math(latex(q_rot)))"
   ]
  },
  {
   "cell_type": "markdown",
   "id": "1db202d0",
   "metadata": {},
   "source": [
    "# Генератор на элементе Пельтье.\n",
    "\n",
    "http://inerton.ucoz.ru/publ/ehlektronika/dc_dc_preobrazovateli/generator_na_ehlemente_pelte/16-1-0-30"
   ]
  },
  {
   "cell_type": "markdown",
   "id": "be602c80",
   "metadata": {},
   "source": [
    "<blockquote><blockquote><p align=\"center\"><b>ТЕС1-12706</b></p></blockquote></blockquote>"
   ]
  },
  {
   "cell_type": "markdown",
   "id": "8220a88e",
   "metadata": {},
   "source": [
    "<table style=\"border-collapse: collapse;\" class=\"in\" width=\"\" align=\"center\"><tbody><tr><td class=\"title\">Мощность <br>нагрева, Вт<br></td><td class=\"title\">Ток элемента <br>Пельтье, А<br></td><td class=\"title\">Напряжение на<br>элементе Пельтье, В<br></td><td class=\"title\">Мощность элемента <br>Пельтье, Вт<br></td><td class=\"title\">КПД, %<br></td><td class=\"title\">∆T, °С<br></td><td class=\"title\">Эффективность,<br>мВт/°С<br></td><td class=\"title\">Удельная <br>эффективность,<br>Вт/(°С*кг)<br></td></tr><tr><td rowspan=\"4\" colspan=\"1\">45,2<br></td><td style=\"\">0,134<br></td><td>1,94<br></td><td>0,26<br></td><td>0,567<br></td><td>60<br></td><td>4,333<br></td><td>0,173<br></td></tr><tr><td>0,253<br></td><td>1,57<br></td><td>0,397<br></td><td>0,879<br></td><td>62<br></td><td>6,403<br></td><td>0,256<br></td></tr><tr><td>0,501<br></td><td>0,67<br></td><td>0,336<br></td><td>0,744<br></td><td>63<br></td><td>5,333<br></td><td>0,213<br></td></tr><tr><td>0,603<br></td><td>0,26<br></td><td>0,157<br></td><td>0,348<br></td><td>62<br></td><td>2,532<br></td><td>0,101<br></td></tr><tr><td rowspan=\"4\">63,8<br></td><td>0,135<br></td><td>2,61<br></td><td>0,352<br></td><td>0,551<br></td><td>78<br></td><td>4,513<br></td><td>0,181<br></td></tr><tr><td>0,253<br></td><td>2,41<br></td><td>0,61<br></td><td>0,956<br></td><td>83<br></td><td>7,349<br></td><td>0,294<br></td></tr><tr><td>0,503<br></td><td>1,55<br></td><td>0,78<br></td><td>1,222<br></td><td>85<br></td><td>9,176<br></td><td>0,367<br></td></tr><tr><td colspan=\"1\" style=\"\">0,798<br></td><td colspan=\"1\" style=\"\">0,35<br></td><td colspan=\"1\" style=\"\">0,279<br></td><td colspan=\"1\" style=\"\">0,437<br></td><td colspan=\"1\" style=\"\">85<br></td><td colspan=\"1\" style=\"\">3,282<br></td><td colspan=\"1\" style=\"\">0,131<br></td></tr><tr><td rowspan=\"4\" colspan=\"1\" style=\"\">99,9<br></td><td colspan=\"1\" style=\"\">0,134<br></td><td colspan=\"1\" style=\"\">3,88<br></td><td colspan=\"1\" style=\"\">0,52<br></td><td colspan=\"1\" style=\"\">0,521<br></td><td colspan=\"1\" style=\"\">108<br></td><td colspan=\"1\" style=\"\">4,815<br></td><td colspan=\"1\" style=\"\">0,193<br></td></tr><tr><td colspan=\"1\" style=\"\">0,254<br></td><td colspan=\"1\" style=\"\">3,48<br></td><td colspan=\"1\" style=\"\">0,884<br></td><td colspan=\"1\" style=\"\">0,885<br></td><td colspan=\"1\" style=\"\">121<br></td><td colspan=\"1\" style=\"\">7,306<br></td><td colspan=\"1\" style=\"\">0,292<br></td></tr><tr><td colspan=\"1\" style=\"\">0,499<br></td><td colspan=\"1\" style=\"\">2,45<br></td><td colspan=\"1\" style=\"\">1,223<br></td><td colspan=\"1\" style=\"\">1,224<br></td><td colspan=\"1\" style=\"\">126<br></td><td colspan=\"1\" style=\"\">9,706<br></td><td colspan=\"1\" style=\"\">0,388<br></td></tr><tr><td colspan=\"1\" style=\"\">0,907<br></td><td colspan=\"1\" style=\"\">0,4<br></td><td colspan=\"1\" style=\"\">0,363<br></td><td colspan=\"1\" style=\"\">0,363<br></td><td colspan=\"1\" style=\"\">126<br></td><td colspan=\"1\" style=\"\">2,881<br></td><td colspan=\"1\" style=\"\">0,115<br></td></tr></tbody></table>"
   ]
  },
  {
   "cell_type": "markdown",
   "id": "1024407c",
   "metadata": {},
   "source": [
    "разделив мощность нагрева, $Вт$ на разницу температур $∆T, °С$ и на площадь элемента $S = 0.02 \\cdot 0.02 = 4 \\cdot 10^{-4}\\,м^2$ получаем оценку теплопроводности $\\left[\\frac{\\varkappa}{l}\\right]=\\frac{Вт}{°С \\cdot м^2}$ конкретного элемента Пельтье"
   ]
  },
  {
   "cell_type": "code",
   "execution_count": 9,
   "id": "80ec5338",
   "metadata": {},
   "outputs": [
    {
     "data": {
      "text/plain": [
       "(1793.65079365079, 1876.47058823529, 1982.14285714286)"
      ]
     },
     "execution_count": 9,
     "metadata": {},
     "output_type": "execute_result"
    }
   ],
   "source": [
    "S = 0.02*0.02\n",
    "45.2/63/S, 63.8/85/S, 99.9/126/S"
   ]
  },
  {
   "cell_type": "markdown",
   "id": "db0b5cb3",
   "metadata": {},
   "source": [
    "<blockquote><blockquote><p align=\"center\"><b>ТЕС1-12709</b></p></blockquote></blockquote>"
   ]
  },
  {
   "cell_type": "markdown",
   "id": "5394afb5",
   "metadata": {},
   "source": [
    "<table style=\"border-collapse: collapse;\" class=\"in\" width=\"\" align=\"center\"><tbody><tr><td class=\"title\">Мощность <br>нагрева, \n",
    "Вт<br></td><td class=\"title\">Ток элемента \n",
    "<br>Пельтье, А<br></td><td class=\"title\">Напряжение на<br>элементе Пельтье, \n",
    "В<br></td><td class=\"title\">Мощность элемента \n",
    "<br>Пельтье, Вт<br></td><td class=\"title\">КПД, \n",
    "%<br></td><td class=\"title\">∆T, \n",
    "°С<br></td><td class=\"title\">Эффективность,<br>мВт/°С<br></td><td class=\"title\">Удельная \n",
    "<br>эффективность,<br>Вт/(°С*кг)<br></td></tr><tr><td rowspan=\"4\" colspan=\"1\">61,9<br></td><td style=\"\">0,135<br></td><td>2,05<br></td><td>0,277<br></td><td>0,448<br></td><td>58<br></td><td>4,776<br></td><td>0,217<br></td></tr><tr><td>0,25<br></td><td>1,76<br></td><td>0,44<br></td><td>0,711<br></td><td>56<br></td><td>7,857<br></td><td>0,357<br></td></tr><tr><td>0,5<br></td><td>1,1<br></td><td>0,55<br></td><td>0,889<br></td><td>50<br></td><td>11<br></td><td>0,5<br></td></tr><tr><td>0,904<br></td><td>0,47<br></td><td>0,425<br></td><td>0,687<br></td><td>53<br></td><td>8,019<br></td><td>0,364<br></td></tr><tr><td rowspan=\"4\">80,9<br></td><td>0,136<br></td><td>2,7<br></td><td>0,367<br></td><td>0,454<br></td><td>76<br></td><td>4,829<br></td><td>0,219<br></td></tr><tr><td>0,254<br></td><td>2,39<br></td><td>0,607<br></td><td>0,751<br></td><td>73<br></td><td>8,315<br></td><td>0,378<br></td></tr><tr><td>0,495<br></td><td>1,78<br></td><td>0,881<br></td><td>1,09<br></td><td>70<br></td><td>12,586<br></td><td>0,572<br></td></tr><tr><td colspan=\"1\" style=\"\">1,076<br></td><td colspan=\"1\" style=\"\">0,55<br></td><td colspan=\"1\" style=\"\">0,592<br></td><td colspan=\"1\" style=\"\">0,732<br></td><td colspan=\"1\" style=\"\">66<br></td><td colspan=\"1\" style=\"\">8,97<br></td><td colspan=\"1\" style=\"\">0,408<br></td></tr><tr><td rowspan=\"4\" colspan=\"1\" style=\"\">99,0<br></td><td colspan=\"1\" style=\"\">0,134<br></td><td colspan=\"1\" style=\"\">3,26<br></td><td colspan=\"1\" style=\"\">0,437<br></td><td colspan=\"1\" style=\"\">0,441<br></td><td colspan=\"1\" style=\"\">92<br></td><td colspan=\"1\" style=\"\">4,75<br></td><td colspan=\"1\" style=\"\">0,216<br></td></tr><tr><td colspan=\"1\" style=\"\">0,259<br></td><td colspan=\"1\" style=\"\">2,94<br></td><td colspan=\"1\" style=\"\">0,761<br></td><td colspan=\"1\" style=\"\">0,769<br></td><td colspan=\"1\" style=\"\">89<br></td><td colspan=\"1\" style=\"\">8,551<br></td><td colspan=\"1\" style=\"\">0,389<br></td></tr><tr><td colspan=\"1\" style=\"\">0,516<br></td><td colspan=\"1\" style=\"\">2,2<br></td><td colspan=\"1\" style=\"\">1,135<br></td><td colspan=\"1\" style=\"\">1,147<br></td><td colspan=\"1\" style=\"\">83<br></td><td colspan=\"1\" style=\"\">13,675<br></td><td colspan=\"1\" style=\"\">0,622<br></td></tr><tr><td colspan=\"1\" style=\"\">1,243<br></td><td colspan=\"1\" style=\"\">0,73<br></td><td colspan=\"1\" style=\"\">0,907<br></td><td colspan=\"1\" style=\"\">0,916<br></td><td colspan=\"1\" style=\"\">82<br></td><td colspan=\"1\" style=\"\">11,061<br></td><td colspan=\"1\" style=\"\">0,503<br></td></tr></tbody></table>"
   ]
  },
  {
   "cell_type": "code",
   "execution_count": 10,
   "id": "4e81b81f",
   "metadata": {},
   "outputs": [
    {
     "data": {
      "text/plain": [
       "(3095.00000000000, 2889.28571428571, 2981.92771084337)"
      ]
     },
     "execution_count": 10,
     "metadata": {},
     "output_type": "execute_result"
    }
   ],
   "source": [
    "61.9/50/S, 80.9/70/S, 99.0/83/S"
   ]
  },
  {
   "cell_type": "markdown",
   "id": "c05b6dd7",
   "metadata": {},
   "source": [
    "плотность потока тепловой энергии процесса температурного разделения в поле центробежных сил во вращающейся системе\n",
    "\n",
    "$\\displaystyle {\\vec {q}} = -\\frac{K_{1} \\kappa}{R i r}$\n",
    "\n",
    "плотность потока тепловой энергии элементов Пельтье\n",
    "\n",
    "$\\displaystyle {\\vec {q}} = -\\left({\\varkappa}/{l}\\right) \\mathop {\\mathrm {\\Delta} } T$\n",
    "\n",
    "Разница температур на слое элементов Пельтье\n",
    "\n",
    "$\\mathop {\\mathrm {\\Delta} } T = - \\frac{\\displaystyle {\\vec {q}} }{\\left({\\varkappa}/{l}\\right)}$\n",
    "\n",
    "\n",
    "Разница температур на внутреннем слое элементов Пельтье\n",
    "\n",
    "$\\mathop {\\mathrm {\\Delta} } T_{in} = \\frac{1}{\\left({\\varkappa}/{l}\\right)}\\frac{K_{1} \\kappa}{r_{in} i R}$\n",
    "\n",
    "\n",
    "Разница температур на внешнем слое элементов Пельтье\n",
    "\n",
    "$\\mathop {\\mathrm {\\Delta} } T_{out} = \\frac{1}{\\left({\\varkappa}/{l}\\right)}\\frac{K_{1} \\kappa}{r_{out} i R}$\n",
    "\n",
    "распределение температур в поле центробежных сил во вращающейся системе\n",
    " \n",
    "$T = -\\frac{M \\omega^{2} r^{2}}{2 \\, R i} + K_{2} + \\frac{K_{1} \\log\\left(r\\right)}{R i}$\n"
   ]
  },
  {
   "cell_type": "markdown",
   "id": "483c76e6",
   "metadata": {},
   "source": [
    "Выбирая в качестве рабочего тела криптон $M = 0.084\\,кг/моль$, $i=3$, $R = 8.314\\,\\frac{дж}{K\\cdotмоль}$\n",
    "\n",
    "При достижении например 3000 оборотов в минуту $\\omega=\\frac{3000\\cdot2\\pi}{60} = 100\\,\\pi\\, рад/сек$, и $\\omega^2= 10^4 \\pi^2\\, рад^2/сек^2$.\n",
    "\n",
    "$[-\\frac{M \\omega^{2} r^{2}}{2 \\, R i}] = (кг/моль)/сек^2\\cdot м^2 \\frac{K\\cdotмоль}{дж} = (кг/моль)/сек^2\\cdot м^2 \\frac{K \\cdot моль}{кг \\cdot м^2 / сек^2} = K$"
   ]
  },
  {
   "cell_type": "code",
   "execution_count": 11,
   "id": "55e59d40",
   "metadata": {},
   "outputs": [
    {
     "data": {
      "text/plain": [
       "1/2*M*omega^2*r^2/(R*i) + K_2 + K_1*log(r)/(R*i)"
      ]
     },
     "execution_count": 11,
     "metadata": {},
     "output_type": "execute_result"
    }
   ],
   "source": [
    "K_1, K_2 = var(\"K_1, K_2\")\n",
    "T_work = lambda r : M * omega^2 * r^2/(2*R*i) + K_2 + K_1 * log(r) / (i*R)\n",
    "T_work(r)"
   ]
  },
  {
   "cell_type": "code",
   "execution_count": 12,
   "id": "9662fa6b",
   "metadata": {},
   "outputs": [],
   "source": [
    "kappa_l = var(\"kappa_l\")\n",
    "delta_T = lambda r : - K_1 / kappa_l * kappa / (i * R * r)\n",
    "q_work = lambda r : - K_1 * kappa / (i * R * r)"
   ]
  },
  {
   "cell_type": "code",
   "execution_count": 13,
   "id": "db5b0c1c",
   "metadata": {},
   "outputs": [
    {
     "data": {
      "text/plain": [
       "(-K_1*kappa/(R*i*kappa_l*r_in), -K_1*kappa/(R*i*kappa_l*r_out))"
      ]
     },
     "execution_count": 13,
     "metadata": {},
     "output_type": "execute_result"
    }
   ],
   "source": [
    "r_in, r_out = var(\"r_in, r_out\")\n",
    "delta_T(r_in), delta_T(r_out)"
   ]
  },
  {
   "cell_type": "code",
   "execution_count": 14,
   "id": "e84f753b",
   "metadata": {},
   "outputs": [],
   "source": [
    "T_env_in, T_env_out = var(\"T_env_in, T_env_out\")"
   ]
  },
  {
   "cell_type": "code",
   "execution_count": 15,
   "id": "50067ca0",
   "metadata": {},
   "outputs": [
    {
     "data": {
      "text/latex": [
       "$\\displaystyle T_{\\mathit{env}_{\\mathit{in}}} + \\frac{K_{1} \\kappa}{R i \\kappa_{l} r_{\\mathit{in}}} = \\frac{M \\omega^{2} r_{\\mathit{in}}^{2}}{2 \\, R i} + K_{2} + \\frac{K_{1} \\log\\left(r_{\\mathit{in}}\\right)}{R i}$"
      ],
      "text/plain": [
       "<IPython.core.display.Math object>"
      ]
     },
     "metadata": {},
     "output_type": "display_data"
    }
   ],
   "source": [
    "eq_T_in = T_env_in - delta_T(r_in) == T_work(r_in)\n",
    "display(Math(latex(eq_T_in)))"
   ]
  },
  {
   "cell_type": "code",
   "execution_count": 16,
   "id": "30988fa3",
   "metadata": {},
   "outputs": [
    {
     "data": {
      "text/latex": [
       "$\\displaystyle T_{\\mathit{env}_{\\mathit{out}}} - \\frac{K_{1} \\kappa}{R i \\kappa_{l} r_{\\mathit{out}}} = \\frac{M \\omega^{2} r_{\\mathit{out}}^{2}}{2 \\, R i} + K_{2} + \\frac{K_{1} \\log\\left(r_{\\mathit{out}}\\right)}{R i}$"
      ],
      "text/plain": [
       "<IPython.core.display.Math object>"
      ]
     },
     "metadata": {},
     "output_type": "display_data"
    }
   ],
   "source": [
    "eq_T_out = T_env_out + delta_T(r_out) == T_work(r_out)\n",
    "display(Math(latex(eq_T_out)))"
   ]
  },
  {
   "cell_type": "code",
   "execution_count": 17,
   "id": "f1a17a99",
   "metadata": {},
   "outputs": [],
   "source": [
    "sol_K12 = solve([eq_T_in, eq_T_out], [K_1, K_2])"
   ]
  },
  {
   "cell_type": "code",
   "execution_count": 18,
   "id": "5e7485d6",
   "metadata": {},
   "outputs": [
    {
     "data": {
      "text/latex": [
       "$\\displaystyle K_{1} = -\\frac{M \\kappa_{l} \\omega^{2} r_{\\mathit{in}}^{3} r_{\\mathit{out}} - {\\left(M \\kappa_{l} \\omega^{2} r_{\\mathit{out}}^{3} + 2 \\, {\\left(R T_{\\mathit{env}_{\\mathit{in}}} r_{\\mathit{out}} - R T_{\\mathit{env}_{\\mathit{out}}} r_{\\mathit{out}}\\right)} i \\kappa_{l}\\right)} r_{\\mathit{in}}}{2 \\, {\\left(\\kappa_{l} r_{\\mathit{in}} r_{\\mathit{out}} \\log\\left(r_{\\mathit{in}}\\right) - {\\left(\\kappa_{l} r_{\\mathit{out}} \\log\\left(r_{\\mathit{out}}\\right) + \\kappa\\right)} r_{\\mathit{in}} - \\kappa r_{\\mathit{out}}\\right)}}$"
      ],
      "text/plain": [
       "<IPython.core.display.Math object>"
      ]
     },
     "metadata": {},
     "output_type": "display_data"
    }
   ],
   "source": [
    "display(Math(latex(sol_K12[0][0])))"
   ]
  },
  {
   "cell_type": "code",
   "execution_count": 19,
   "id": "af60283a",
   "metadata": {},
   "outputs": [
    {
     "data": {
      "text/latex": [
       "$\\displaystyle K_{2} = \\frac{M \\kappa \\omega^{2} r_{\\mathit{out}}^{3} + {\\left(M \\kappa_{l} r_{\\mathit{out}} \\log\\left(r_{\\mathit{out}}\\right) + M \\kappa\\right)} \\omega^{2} r_{\\mathit{in}}^{3} - 2 \\, R T_{\\mathit{env}_{\\mathit{out}}} i \\kappa r_{\\mathit{out}} - {\\left(M \\kappa_{l} \\omega^{2} r_{\\mathit{out}}^{3} - 2 \\, R T_{\\mathit{env}_{\\mathit{out}}} i \\kappa_{l} r_{\\mathit{out}}\\right)} r_{\\mathit{in}} \\log\\left(r_{\\mathit{in}}\\right) - 2 \\, {\\left(R T_{\\mathit{env}_{\\mathit{in}}} i \\kappa_{l} r_{\\mathit{out}} \\log\\left(r_{\\mathit{out}}\\right) + R T_{\\mathit{env}_{\\mathit{in}}} i \\kappa\\right)} r_{\\mathit{in}}}{2 \\, {\\left(R i \\kappa_{l} r_{\\mathit{in}} r_{\\mathit{out}} \\log\\left(r_{\\mathit{in}}\\right) - R i \\kappa r_{\\mathit{out}} - {\\left(R i \\kappa_{l} r_{\\mathit{out}} \\log\\left(r_{\\mathit{out}}\\right) + R i \\kappa\\right)} r_{\\mathit{in}}\\right)}}$"
      ],
      "text/plain": [
       "<IPython.core.display.Math object>"
      ]
     },
     "metadata": {},
     "output_type": "display_data"
    }
   ],
   "source": [
    "display(Math(latex(sol_K12[0][1])))"
   ]
  },
  {
   "cell_type": "raw",
   "id": "96464d1d",
   "metadata": {},
   "source": [
    "# Xe\n",
    "values = [M == 0.131,\n",
    "          i == 3,\n",
    "          kappa == 0.0057]"
   ]
  },
  {
   "cell_type": "raw",
   "id": "6bc3c2d7",
   "metadata": {},
   "source": [
    "# Kr\n",
    "values = [M == 0.084,\n",
    "          i == 3,\n",
    "          kappa == 0.0095] # теплопроводность"
   ]
  },
  {
   "cell_type": "code",
   "execution_count": 20,
   "id": "5869e810",
   "metadata": {},
   "outputs": [],
   "source": [
    "# Hg\n",
    "values = [M == 0.200592,\n",
    "          i == 27.98/8.314,\n",
    "          kappa == 8.3] # теплопроводность"
   ]
  },
  {
   "cell_type": "raw",
   "id": "44de778c",
   "metadata": {},
   "source": [
    "# Галинстан\n",
    "# Ga — 68.5 % In — 21.5 % Sn — 10 %\n",
    "values = [M == 0.069723*0.685 + 0.114818*0.215 + 0.118710*0.1, \n",
    "          i == 27.98/8.314,\n",
    "          kappa == 16.5] # теплопроводность"
   ]
  },
  {
   "cell_type": "raw",
   "id": "256ae941",
   "metadata": {},
   "source": [
    "# H2O\n",
    "values = [M == 0.018,\n",
    "          i == 75.37/8.314,\n",
    "          kappa == 0.56] # теплопроводность"
   ]
  },
  {
   "cell_type": "raw",
   "id": "221a8e5e",
   "metadata": {},
   "source": [
    "# Ar\n",
    "values = [M == 0.039948,\n",
    "          i == 3,\n",
    "          kappa == 0.0164]"
   ]
  },
  {
   "cell_type": "code",
   "execution_count": 21,
   "id": "3caa5f00",
   "metadata": {},
   "outputs": [],
   "source": [
    "values += [R == 8.314,\n",
    "          omega == 1000 * 2*pi, # 60 000 оборотов в минуту\n",
    "          r_in == 0.9/9*2,\n",
    "          r_out == 1/9*2,\n",
    "          kappa_l == 3000, # теплопроводность kappa/l, (Вт / (°С * м^2)) слоя элементов Пельтье\n",
    "          T_env_in == 300, T_env_out == 300]"
   ]
  },
  {
   "cell_type": "markdown",
   "id": "f23532f4",
   "metadata": {},
   "source": [
    "K_1"
   ]
  },
  {
   "cell_type": "code",
   "execution_count": 22,
   "id": "024a0e8e",
   "metadata": {},
   "outputs": [
    {
     "data": {
      "text/plain": [
       "-282209.319359593"
      ]
     },
     "execution_count": 22,
     "metadata": {},
     "output_type": "execute_result"
    }
   ],
   "source": [
    "sol_K12[0][0].subs(values).rhs().n()"
   ]
  },
  {
   "cell_type": "markdown",
   "id": "0dcc2bf8",
   "metadata": {},
   "source": [
    "K_2"
   ]
  },
  {
   "cell_type": "code",
   "execution_count": 23,
   "id": "484e2eca",
   "metadata": {},
   "outputs": [
    {
     "data": {
      "text/plain": [
       "-21733.0010109325"
      ]
     },
     "execution_count": 23,
     "metadata": {},
     "output_type": "execute_result"
    }
   ],
   "source": [
    "sol_K12[0][1].subs(values).rhs().n()"
   ]
  },
  {
   "cell_type": "code",
   "execution_count": 24,
   "id": "de49bdaf",
   "metadata": {},
   "outputs": [
    {
     "data": {
      "image/png": "[encoded data removed]",
      "text/plain": [
       "Graphics object consisting of 1 graphics primitive"
      ]
     },
     "metadata": {},
     "output_type": "display_data"
    }
   ],
   "source": [
    "plot(T_work(r).subs(sol_K12).subs(values), r, r_in.subs(values), r_out.subs(values)).show(title=\"распределение температур рабочего газа в поле центробежных сил во вращающейся системе\")"
   ]
  },
  {
   "cell_type": "code",
   "execution_count": 25,
   "id": "1c7984be",
   "metadata": {},
   "outputs": [
    {
     "data": {
      "image/png": "[encoded data removed]",
      "text/plain": [
       "Graphics object consisting of 1 graphics primitive"
      ]
     },
     "metadata": {},
     "output_type": "display_data"
    }
   ],
   "source": [
    "plot(q_work(r).subs(sol_K12).subs(values), r, r_in.subs(values), r_out.subs(values)).show(title=\"плотность потока тепловой энергии процесса температурного разделения в поле центробежных сил во вращающейся системе\")"
   ]
  },
  {
   "cell_type": "markdown",
   "id": "f7e07210",
   "metadata": {},
   "source": [
    "Разница температур на внутреннем слое элементов Пельтье"
   ]
  },
  {
   "cell_type": "code",
   "execution_count": 26,
   "id": "716a0e4a",
   "metadata": {},
   "outputs": [
    {
     "data": {
      "text/plain": [
       "139.524502661700"
      ]
     },
     "execution_count": 26,
     "metadata": {},
     "output_type": "execute_result"
    }
   ],
   "source": [
    "delta_T(r_in).subs(sol_K12).subs(values).n()"
   ]
  },
  {
   "cell_type": "markdown",
   "id": "ccf20a59",
   "metadata": {},
   "source": [
    "Разница температур на внешнем слое элементов Пельтье"
   ]
  },
  {
   "cell_type": "code",
   "execution_count": 27,
   "id": "0eb7c50a",
   "metadata": {},
   "outputs": [
    {
     "data": {
      "text/plain": [
       "125.572052395530"
      ]
     },
     "execution_count": 27,
     "metadata": {},
     "output_type": "execute_result"
    }
   ],
   "source": [
    "delta_T(r_out).subs(sol_K12).subs(values).n()"
   ]
  },
  {
   "cell_type": "markdown",
   "id": "be95406c",
   "metadata": {},
   "source": [
    "Суммарный поток тепловой энергии через внешний и внутренний слои элементов Пельте"
   ]
  },
  {
   "cell_type": "code",
   "execution_count": 28,
   "id": "9fd461d2",
   "metadata": {},
   "outputs": [
    {
     "data": {
      "text/plain": [
       "1051.98996613864"
      ]
     },
     "execution_count": 28,
     "metadata": {},
     "output_type": "execute_result"
    }
   ],
   "source": [
    "Q = ((q_work(r_in) * 2 * pi * r_in).subs(sol_K12).subs(values).n() \\\n",
    "  + (q_work(r_out) * 2 * pi * r_out).subs(sol_K12).subs(values).n() ) / 1000\n",
    "Q"
   ]
  },
  {
   "cell_type": "markdown",
   "id": "d2f8e911",
   "metadata": {},
   "source": [
    " кВт на метр высоты цилиндра "
   ]
  },
  {
   "cell_type": "markdown",
   "id": "3698ee3c",
   "metadata": {},
   "source": [
    "Электрическая мощность вырабатываемая элементами Пельтье при коэффициенте полезного действия 1 процент"
   ]
  },
  {
   "cell_type": "code",
   "execution_count": 29,
   "id": "12a5ed38",
   "metadata": {},
   "outputs": [
    {
     "data": {
      "text/plain": [
       "10.5198996613864"
      ]
     },
     "execution_count": 29,
     "metadata": {},
     "output_type": "execute_result"
    }
   ],
   "source": [
    "Q * 0.01"
   ]
  },
  {
   "cell_type": "markdown",
   "id": "6182f2f2",
   "metadata": {},
   "source": [
    "кВт на метр высоты цилиндра"
   ]
  },
  {
   "cell_type": "code",
   "execution_count": 30,
   "id": "6b93f678",
   "metadata": {},
   "outputs": [
    {
     "data": {
      "text/plain": [
       "[M == 0.200592000000000,\n",
       " i == 3.36540774597065,\n",
       " kappa == 8.30000000000000,\n",
       " R == 8.31400000000000,\n",
       " omega == 2000*pi,\n",
       " r_in == 0.200000000000000,\n",
       " r_out == (2/9),\n",
       " kappa_l == 3000,\n",
       " T_env_in == 300,\n",
       " T_env_out == 300]"
      ]
     },
     "execution_count": 30,
     "metadata": {},
     "output_type": "execute_result"
    }
   ],
   "source": [
    "values"
   ]
  },
  {
   "cell_type": "markdown",
   "id": "35e7f57c",
   "metadata": {},
   "source": [
    "# Максимальная разность температур. Стационарный случай "
   ]
  },
  {
   "cell_type": "markdown",
   "id": "e59e8323",
   "metadata": {},
   "source": [
    "Разность температур, которую можно достичь во вращающейся цилиндрической полости с идеальным газом можно оценить как интеграл\n",
    "\n",
    "$$\\Delta\\,T = \\int_{r_1}^{r_2}\\frac{dT}{dr}\\,dr = -\\int_{r_1}^{r_2}\\frac{M\\, \\omega^2\\,r}{c}\\,dr = \\frac{M\\, \\omega^2\\,r^2}{2\\,c}\\,\\bigg\\vert_{\\,r_1}^{\\,r_2}$$"
   ]
  },
  {
   "cell_type": "markdown",
   "id": "c6391e50",
   "metadata": {},
   "source": [
    "Теплоёмкость идеального газа $c_v=\\frac{i}{2}R$, $c_p=\\frac{i+2}{2}R$. Таким образом при установлении сухоадиабатического градиента разность температур во вращающейся цилиндрической полости с идеальным газом составит\n",
    "\n",
    "$$\\Delta\\,T_{ад} = \\frac{M\\, \\omega^2\\,\\left(r_2^2-r_1^2\\right)}{\\left(i+2\\right)\\,R}$$\n",
    "\n",
    "А при установлении диффузионного градиента разность температур во вращающейся цилиндрической полости с идеальным газом составит\n",
    "$$\\Delta\\,T_{диф} = \\frac{M\\, \\omega^2\\,\\left(r_2^2-r_1^2\\right)}{i\\,R}$$"
   ]
  },
  {
   "cell_type": "markdown",
   "id": "c239eb15",
   "metadata": {},
   "source": [
    "Анализируя вид формул можно понять что при прочих равных наибольшую разность температур можно получить при использовании одноатомного газа с максимально возможной молярной массой $M$. Выбирая в качестве рабочего тела криптон $M = 0.084\\,кг/моль$, $i=3$, $R = 8.314\\,\\frac{дж}{K\\cdotмоль}$при установлении сухоадиабатического градиента разность температур во вращающейся цилиндрической полости с идеальным газом составит\n",
    "\n",
    "$$\\Delta\\,T_{ад} = \\frac{0.084\\, \\omega^2\\,\\left(r_2^2-r_1^2\\right)}{5\\cdot8.314} = 0.00202\\,\\omega^2\\,\\left(r_2^2-r_1^2\\right)$$\n",
    "\n",
    "А при установлении диффузионного градиента разность температур во вращающейся цилиндрической полости с идеальным газом составит\n",
    "$$\\Delta\\,T_{диф} = \\frac{0.084\\, \\omega^2\\,\\left(r_2^2-r_1^2\\right)}{3\\cdot8.314} = 0.0033678\\,\\omega^2\\,\\left(r_2^2-r_1^2\\right)$$"
   ]
  },
  {
   "cell_type": "code",
   "execution_count": 31,
   "id": "32efa00a",
   "metadata": {},
   "outputs": [
    {
     "data": {
      "text/plain": [
       "0.00202068799615107"
      ]
     },
     "execution_count": 31,
     "metadata": {},
     "output_type": "execute_result"
    }
   ],
   "source": [
    "0.084/5/8.314"
   ]
  },
  {
   "cell_type": "code",
   "execution_count": 32,
   "id": "db19bbbc",
   "metadata": {},
   "outputs": [
    {
     "data": {
      "text/plain": [
       "0.00336781332691845"
      ]
     },
     "execution_count": 32,
     "metadata": {},
     "output_type": "execute_result"
    }
   ],
   "source": [
    "0.084/3/8.314"
   ]
  },
  {
   "cell_type": "markdown",
   "id": "46b5e222",
   "metadata": {},
   "source": [
    "При достижении например 3000 оборотов в минуту $\\omega=\\frac{3000\\cdot2\\pi}{60} = 100 \\pi\\, рад/сек$, и $\\omega^2= 10^4 \\pi^2\\, рад^2/сек^2$."
   ]
  },
  {
   "cell_type": "code",
   "execution_count": 33,
   "id": "b9348b2f",
   "metadata": {},
   "outputs": [
    {
     "data": {
      "text/plain": [
       "100*pi"
      ]
     },
     "execution_count": 33,
     "metadata": {},
     "output_type": "execute_result"
    }
   ],
   "source": [
    "(3000*2*pi/60)"
   ]
  },
  {
   "cell_type": "markdown",
   "id": "c8c4d545",
   "metadata": {},
   "source": [
    "При этом \n",
    "\n",
    "$$\\Delta\\,T_{ад} = 199.4339\\,\\left(r_2^2-r_1^2\\right)$$\n",
    "\n",
    "и \n",
    "\n",
    "$$\\Delta\\,T_{диф} = 332.3898\\,\\left(r_2^2-r_1^2\\right)$$"
   ]
  },
  {
   "cell_type": "code",
   "execution_count": 34,
   "id": "41bdfc19",
   "metadata": {},
   "outputs": [
    {
     "data": {
      "text/plain": [
       "199.433911400410"
      ]
     },
     "execution_count": 34,
     "metadata": {},
     "output_type": "execute_result"
    }
   ],
   "source": [
    "0.084/5/8.314 * (3000*2*pi/60).n()^2"
   ]
  },
  {
   "cell_type": "code",
   "execution_count": 35,
   "id": "6491dc50",
   "metadata": {},
   "outputs": [
    {
     "data": {
      "text/plain": [
       "332.389852334017"
      ]
     },
     "execution_count": 35,
     "metadata": {},
     "output_type": "execute_result"
    }
   ],
   "source": [
    "0.084/3/8.314 * (3000*2*pi/60).n()^2"
   ]
  },
  {
   "cell_type": "markdown",
   "id": "f07cd166",
   "metadata": {},
   "source": [
    "Допустим, что в корпус такого вращающегося цилиндра вмонтированы элементы Пельтье, позволяющие осуществлять преобразование полученной разности температур в электрическую энергию.\n",
    "\n",
    "Диффузионный механизм создания разности температур в поле тяготения приводит к переносу тепла от более холодных слоёв газа к более теплым.\n",
    "\n",
    "При этом очевидно, что энергия преобразуемая в электрическую не отбирается от энергии вращения, а только лишь отбирается из рассеянного в окружающей среде тепла."
   ]
  },
  {
   "cell_type": "markdown",
   "id": "b3919957",
   "metadata": {},
   "source": [
    "# References\n",
    "\n",
    "V.S. Vasilenko, A.A. Malgota (2017) On the Nature of Ideal Gas Temperature Gradient in Gravitational Field https://vixra.org/abs/1710.0260\n",
    "\n",
    "Polihronov JG, Straatman AG. Thermodynamics of angular propulsion in fluids. Phys Rev Lett. 2012 Aug 3;109(5):054504. doi: 10.1103/PhysRevLett.109.054504. Epub 2012 Aug 1. PMID: 23006180."
   ]
  },
  {
   "cell_type": "code",
   "execution_count": null,
   "id": "6fd0febd",
   "metadata": {},
   "outputs": [],
   "source": []
  }
 ],
 "metadata": {
  "kernelspec": {
   "display_name": "SageMath 9.6.beta7",
   "language": "sage",
   "name": "sagemath"
  },
  "language_info": {
   "codemirror_mode": {
    "name": "ipython",
    "version": 3
   },
   "file_extension": ".py",
   "mimetype": "text/x-python",
   "name": "python",
   "nbconvert_exporter": "python",
   "pygments_lexer": "ipython3",
   "version": "3.10.3"
  }
 },
 "nbformat": 4,
 "nbformat_minor": 5
}
