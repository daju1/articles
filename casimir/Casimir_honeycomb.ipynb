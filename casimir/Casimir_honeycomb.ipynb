{
 "cells": [
  {
   "cell_type": "markdown",
   "metadata": {},
   "source": [
    "https://www.dwc.knaw.nl/DL/publications/PU00018547.pdf\n",
    "\n",
    "Mathematics.\n",
    "\n",
    "# On the force to perfectly conducting honeycomb on a plate.\n",
    "\n",
    "By A. Ju. Drozdov\n",
    "\n",
    "(Feb 14. 2021. - Feb 09. 2022) "
   ]
  },
  {
   "cell_type": "markdown",
   "metadata": {},
   "source": [
    "Let us consider a cubic cavity of volume $L^3$ bounded by perfectly conducting walls and let a perfectly conducting square plate with side $L$ be\n",
    "placed in this cavity parallel to the $xy$ face and let us compare the\n",
    "situation in whieh this plate is at a very large, say $L/2$ distance a from the $xy$ face. \n",
    "\n",
    "One side of this perfectly conducting square plate is a pure plane and other is covered by perfectly conducting honeycomb.\n",
    "\n",
    "On both sided of the the plate\n",
    "expressions $\\frac{1}{2}\\sum\\,\\hbar\\omega$ where the summation extends over all possible\n",
    "resonance frequencies of the cavity $L/2\\times L\\times L$ (large cavity beetween pure plane and $xy$ face) and the cavity $L/2\\times a\\times a$ (small cavity, one honeycomb) are divergent and devoid of physical\n",
    "meaning but the difference between these sums on the opposite sides,\n",
    "$\\frac{1}{2\\,V_{I}}\\left(\\sum\\,\\,\\hbar\\omega\\right)_{I} - \\frac{1}{2\\,V_{II}}\\left(\\sum\\,\\,\\hbar\\omega\\right)_{II}$, will be shown to have a weIl defined value and this\n",
    "value will be interpreted as the interaction between the plate and the both\n",
    "$xy$ faces."
   ]
  },
  {
   "cell_type": "markdown",
   "metadata": {},
   "source": [
    "The possible vibrations of the cavities defined by "
   ]
  },
  {
   "cell_type": "markdown",
   "metadata": {},
   "source": [
    "$0<=x<=L$, $0<=y<=L$, $0<=z<=L/2$ (large cavity beetween pure plane and $xy$ face)"
   ]
  },
  {
   "cell_type": "markdown",
   "metadata": {},
   "source": [
    "and"
   ]
  },
  {
   "cell_type": "markdown",
   "metadata": {},
   "source": [
    "$0<=x<=a$, $0<=y<=a$, $0<=z<=L/2$ (small cavity, one honeycomb)"
   ]
  },
  {
   "cell_type": "markdown",
   "metadata": {},
   "source": [
    "have wave vectors"
   ]
  },
  {
   "cell_type": "markdown",
   "metadata": {},
   "source": [
    "$k_x = \\frac{\\pi}{L}\\,n_x$, $k_y = \\frac{\\pi}{L}\\,n_y$, $k_z = \\frac{\\pi}{L/2}\\,n_z$ (large cavity beetween pure plane and $xy$ face),"
   ]
  },
  {
   "cell_type": "markdown",
   "metadata": {},
   "source": [
    "and"
   ]
  },
  {
   "cell_type": "markdown",
   "metadata": {},
   "source": [
    "$k_x = \\frac{\\pi}{a}\\,n_x$, $k_y = \\frac{\\pi}{a}\\,n_y$, $k_z = \\frac{\\pi}{L/2}\\,n_z$ (small cavity, one honeycomb),\n",
    "\n",
    "where $n_x$. $n_y$, $n_z$:\n",
    "\n",
    "are positive integers;"
   ]
  },
  {
   "cell_type": "markdown",
   "metadata": {},
   "source": [
    "$k = \\sqrt{k_x^2+k_y^2+k_z^2} = \\sqrt{\\kappa^2+k_z^2}$. "
   ]
  },
  {
   "cell_type": "markdown",
   "metadata": {},
   "source": [
    "$E = \\frac{1}{2}\\sum\\,\\hbar\\omega = \\hbar\\,c\\frac{1}{2}\\sum\\limits_{n_x}^{}\\sum\\limits_{n_y}^{}\\sum\\limits_{n_z}^{}k$"
   ]
  },
  {
   "cell_type": "markdown",
   "metadata": {},
   "source": [
    "To every $k_x$, $k_y$, $k_z$ correspond two standing waves unless one of the $n_i$\n",
    "is zero, when there is only one."
   ]
  },
  {
   "cell_type": "markdown",
   "metadata": {},
   "source": [
    "In case of one honeycomb cavity for $k_z$ this is without importance since\n",
    "for very large $L/2$ we may regard $k_z$ as continuous variable. Thus we\n",
    "find "
   ]
  },
  {
   "cell_type": "markdown",
   "metadata": {},
   "source": [
    "$\\frac{1}{2}\\sum\\,\\hbar\\omega = \\hbar\\,c\\frac{1}{2}\\int\\limits_{0}^{\\infty}\\left[{\\sqrt{k_z^2}+2\\sum\\limits_{n_x=1}^{\\infty}\\sum\\limits_{n_y=1}^{\\infty}\\sqrt{n_x^2\\frac{\\pi^2}{a^2}+n_y^2\\frac{\\pi^2}{a^2}+k_z^2}}\\right]d{n_z}$  (small cavity, one honeycomb),"
   ]
  },
  {
   "cell_type": "markdown",
   "metadata": {},
   "source": [
    "$dn_z = \\frac{L/2}{\\pi}\\,dk_z$,"
   ]
  },
  {
   "cell_type": "markdown",
   "metadata": {},
   "source": [
    "$\\frac{1}{2\\,V}\\sum\\,\\hbar\\omega = \\frac{1}{a^2\\,L/2}\\hbar\\,c\\frac{1}{2}\\int\\limits_{0}^{\\infty}\\left[{\\sqrt{k_z^2}+2\\sum\\limits_{n_x=1}^{\\infty}\\sum\\limits_{n_y=1}^{\\infty}\\sqrt{n_x^2\\frac{\\pi^2}{a^2}+n_y^2\\frac{\\pi^2}{a^2}+k_z^2}}\\right]\\frac{L/2}{\\pi}\\,dk_z$  (small cavity, one honeycomb),"
   ]
  },
  {
   "cell_type": "markdown",
   "metadata": {},
   "source": [
    "$\\frac{1}{2\\,V}\\sum\\,\\hbar\\omega = \\frac{1}{a^2\\,\\pi}\\hbar\\,c\\int\\limits_{0}^{\\infty}\\left[{\\frac{1}{2}\\sqrt{k_z^2}+\\sum\\limits_{n_x=1}^{\\infty}\\sum\\limits_{n_y=1}^{\\infty}\\sqrt{n_x^2\\frac{\\pi^2}{a^2}+n_y^2\\frac{\\pi^2}{a^2}+k_z^2}}\\right]\\,dk_z$  (small cavity, one honeycomb),"
   ]
  },
  {
   "cell_type": "markdown",
   "metadata": {},
   "source": [
    "$\\frac{1}{2\\,V}\\sum\\,\\hbar\\omega = \\frac{1}{a^2\\,\\pi}\\hbar\\,c\\int\\limits_{0}^{\\infty}\\left[{\\sum\\limits_{n_x=(0)1}^{\\infty}\\sum\\limits_{n_y=(0)1}^{\\infty}\\sqrt{n_x^2\\frac{\\pi^2}{a^2}+n_y^2\\frac{\\pi^2}{a^2}+k_z^2}}\\right]\\,dk_z$  (small cavity, one honeycomb),"
   ]
  },
  {
   "cell_type": "markdown",
   "metadata": {},
   "source": [
    "where the notation $\\left(0\\right) 1$ is meant to indicate that the term with $n_x = 0$ and $n_y = 0$\n",
    "has to be multiplied by $\\frac{1}{2}$. "
   ]
  },
  {
   "cell_type": "markdown",
   "metadata": {},
   "source": [
    "$\\frac{1}{2\\,V}\\sum\\,\\hbar\\omega = \\frac{1}{a^2\\,\\pi}\\hbar\\,c\\sum\\limits_{n_x=(0)1}^{\\infty}\\sum\\limits_{n_y=(0)1}^{\\infty}\\left[\\int\\limits_{0}^{\\infty}\\sqrt{n_x^2\\frac{\\pi^2}{a^2}+n_y^2\\frac{\\pi^2}{a^2}+k_z^2}\\,dk_z\\right]$  (small cavity, one honeycomb),"
   ]
  },
  {
   "cell_type": "code",
   "execution_count": null,
   "metadata": {},
   "outputs": [],
   "source": []
  },
  {
   "cell_type": "markdown",
   "metadata": {},
   "source": [
    "And in case of large cavity for $k_x$, $k_y$ this is without importance since\n",
    "for very large $L$ we may regard $k_x$, $k_y$ as continuous variables. Thus we\n",
    "find "
   ]
  },
  {
   "cell_type": "markdown",
   "metadata": {},
   "source": [
    "$\\frac{1}{2}\\sum\\,\\hbar\\omega = \\hbar\\,c\\frac{1}{2}\\int\\limits_{0}^{\\infty}\\int\\limits_{0}^{\\infty}\\left[{\\sqrt{k_x^2+k_y^2}+2\\sum\\limits_{n_z=1}^{\\infty}\\sqrt{n_z^2\\frac{\\pi^2}{(L/2)^2}+k_x^2+k_y^2}}\\right]d{n_x}d{n_y}$ (large cavity beetween pure plane and $xy$ face),"
   ]
  },
  {
   "cell_type": "markdown",
   "metadata": {},
   "source": [
    "For very large $L/2$ also this last summation may\n",
    "be replaced by an integral and it is therefore easily seen that our interaction energy is given by "
   ]
  },
  {
   "cell_type": "markdown",
   "metadata": {},
   "source": [
    "$\\frac{1}{2}\\sum\\,\\hbar\\omega = \\hbar\\,c\\int\\limits_{0}^{\\infty}\\int\\limits_{0}^{\\infty}\\int\\limits_{0}^{\\infty}\\sqrt{k_z^2+k_x^2+k_y^2}\\,d{n_x}\\,d{n_y}\\,d{n_z}$ (large cavity beetween pure plane and $xy$ face),"
   ]
  },
  {
   "cell_type": "markdown",
   "metadata": {},
   "source": [
    "$dn_x = \\frac{L}{\\pi}\\,dk_x$, $dn_y = \\frac{L}{\\pi}\\,dk_y$, $dn_z = \\frac{L/2}{\\pi}\\,dk_z$,"
   ]
  },
  {
   "cell_type": "markdown",
   "metadata": {},
   "source": [
    "$\\frac{1}{2\\,V}\\sum\\,\\hbar\\omega = \\frac{1}{L^3/2}\\hbar\\,c\\int\\limits_{0}^{\\infty}\\int\\limits_{0}^{\\infty}\\int\\limits_{0}^{\\infty}\\sqrt{k_z^2+k_x^2+k_y^2}\\,dn_x\\,dn_y\\,\\frac{L/2}{\\pi}\\,dk_z$ (large cavity beetween pure plane and $xy$ face),"
   ]
  },
  {
   "cell_type": "markdown",
   "metadata": {},
   "source": [
    "$\\frac{1}{2\\,V}\\sum\\,\\hbar\\omega = \\frac{1}{L^2\\,\\pi}\\hbar\\,c\\int\\limits_{0}^{\\infty}\\int\\limits_{0}^{\\infty}\\left[\\,\\int\\limits_{0}^{\\infty}\\sqrt{k_z^2+k_x^2+k_y^2}\\,dk_z\\right]\\,dn_x\\,dn_y$ (large cavity beetween pure plane and $xy$ face),"
   ]
  },
  {
   "cell_type": "code",
   "execution_count": null,
   "metadata": {},
   "outputs": [],
   "source": []
  },
  {
   "cell_type": "markdown",
   "metadata": {},
   "source": [
    "$\\frac{1}{2\\,V}\\sum\\,\\hbar\\omega = \\frac{1}{a^2\\,\\pi}\\hbar\\,c\\sum\\limits_{n_x=(0)1}^{\\infty}\\sum\\limits_{n_y=(0)1}^{\\infty}\\left[\\,\\int\\limits_{0}^{\\infty}\\sqrt{n_x^2\\frac{\\pi^2}{a^2}+n_y^2\\frac{\\pi^2}{a^2}+k_z^2}\\,dk_z\\right]$  (small cavity, one honeycomb),"
   ]
  },
  {
   "cell_type": "markdown",
   "metadata": {},
   "source": [
    "$\\frac{1}{2\\,V}\\sum\\,\\hbar\\omega = \\frac{1}{L^2\\,\\pi}\\hbar\\,c\\int\\limits_{0}^{\\infty}\\int\\limits_{0}^{\\infty}\\left[\\,\\int\\limits_{0}^{\\infty}\\sqrt{k_x^2+k_y^2+k_z^2}\\,dk_z\\right]\\,dn_x\\,dn_y$ (large cavity beetween pure plane and $xy$ face),"
   ]
  },
  {
   "cell_type": "markdown",
   "metadata": {},
   "source": [
    "$\\frac{1}{2\\,V}\\sum\\,\\hbar\\omega = \\frac{1}{L^2\\,\\pi}\\hbar\\,c\\int\\limits_{0}^{\\infty}\\int\\limits_{0}^{\\infty}\\left[\\,\\int\\limits_{0}^{\\infty}\\sqrt{k_x^2+k_y^2+k_z^2}\\,dk_z\\right]\\,\\left(\\frac{L}{\\pi}dk_x\\right)\\,\\left(\\frac{L}{\\pi}dk_y\\right)$ (large cavity beetween pure plane and $xy$ face),"
   ]
  },
  {
   "cell_type": "markdown",
   "metadata": {},
   "source": [
    "$\\frac{a^2}{2\\,V}\\sum\\,\\hbar\\omega = \\frac{1}{\\pi}\\hbar\\,c\\int\\limits_{0}^{\\infty}\\int\\limits_{0}^{\\infty}\\left[\\,\\int\\limits_{0}^{\\infty}\\sqrt{k_x^2+k_y^2+k_z^2}\\,dk_z\\right]\\,\\left(\\frac{a}{\\pi}dk_x\\right)\\,\\left(\\frac{a}{\\pi}dk_y\\right)$ (large cavity beetween pure plane and $xy$ face),"
   ]
  },
  {
   "cell_type": "markdown",
   "metadata": {},
   "source": [
    "$\\frac{1}{2\\,V}\\sum\\,\\hbar\\omega = \\frac{1}{a^2\\,\\pi}\\hbar\\,c\\int\\limits_{0}^{\\infty}\\int\\limits_{0}^{\\infty}\\left[\\,\\int\\limits_{0}^{\\infty}\\sqrt{k_x^2+k_y^2+k_z^2}\\,dk_z\\right]\\,\\left(\\frac{a}{\\pi}dk_x\\right)\\,\\left(\\frac{a}{\\pi}dk_y\\right)$ (large cavity beetween pure plane and $xy$ face),"
   ]
  },
  {
   "cell_type": "markdown",
   "metadata": {},
   "source": [
    "it is therefore easily seen that our interaction energy is given by "
   ]
  },
  {
   "cell_type": "markdown",
   "metadata": {},
   "source": [
    "$\\delta\\,\\frac{E}{V} = \\frac{1}{a^2\\,\\pi}\\hbar\\,c\\left\\{\\sum\\limits_{n_x=(0)1}^{\\infty}\\sum\\limits_{n_y=(0)1}^{\\infty}\\left[\\,\\int\\limits_{0}^{\\infty}\\sqrt{n_x^2\\frac{\\pi^2}{a^2}+n_y^2\\frac{\\pi^2}{a^2}+k_z^2}\\,dk_z\\right] - \\int\\limits_{0}^{\\infty}\\int\\limits_{0}^{\\infty}\\left[\\,\\int\\limits_{0}^{\\infty}\\sqrt{k_x^2+k_y^2+k_z^2}\\,dk_z\\right]\\,\\left(\\frac{a}{\\pi}dk_x\\right)\\,\\left(\\frac{a}{\\pi}dk_y\\right)\\right\\}$"
   ]
  },
  {
   "cell_type": "markdown",
   "metadata": {},
   "source": [
    "$\\delta\\,\\frac{E}{V} = \\frac{1}{a^2\\,\\pi}\\hbar\\,c\\left\\{\\sum\\limits_{n_x=(0)1}^{\\infty}\\sum\\limits_{n_y=(0)1}^{\\infty}\\left[\\,\\int\\limits_{0}^{\\infty}\\sqrt{n_x^2\\frac{\\pi^2}{a^2}+n_y^2\\frac{\\pi^2}{a^2}+k_z^2}\\,dk_z\\right] - \\int\\limits_{0}^{\\infty}\\int\\limits_{0}^{\\infty}\\left[\\,\\int\\limits_{0}^{\\infty}\\sqrt{k_x^2+k_y^2+k_z^2}\\,dk_z\\right]\\,dn_x\\,dn_y\\right\\}$"
   ]
  },
  {
   "cell_type": "code",
   "execution_count": null,
   "metadata": {},
   "outputs": [],
   "source": []
  },
  {
   "cell_type": "markdown",
   "metadata": {},
   "source": [
    "${\\left(\\frac{E}{V}\\right)_{small\\,cavity} = \\frac{1}{a^2}\\hbar \\, \\sum\\limits_{n_x=(0)1}^{\\infty}\\sum\\limits_{n_y=(0)1}^{\\infty}\\,\\int\\limits_{0}^{\\infty} {\\frac {dk_{z}}{\\pi}}\\omega _{n_x,n_y}.}$"
   ]
  },
  {
   "cell_type": "markdown",
   "metadata": {},
   "source": [
    "where $\\omega _{n_x,n_y} = c\\,\\sqrt{n_x^2\\frac{\\pi^2}{a^2}+n_y^2\\frac{\\pi^2}{a^2}+k_z^2}$"
   ]
  },
  {
   "cell_type": "markdown",
   "metadata": {},
   "source": [
    "This expression is clearly infinite, and to proceed with the calculation, it is convenient to introduce a regulator."
   ]
  },
  {
   "cell_type": "markdown",
   "metadata": {},
   "source": [
    "In order to obtain a finite result it is necessary to multiply the integrands\n",
    "by a function $f(k/k_m)$ which is unity for $k << k_m$ but tends to zero sufficiently rapidly for $(k/k_m)\\, \\rightarrow\\,\\infty$. where $k_m$ may be defined by $f(1) = \\frac{1}{2}$.\n",
    "The physical meaning is obvious: for very short waves (X~rays e.g.)\n",
    "our plate is hardly an obstacle at all and therefore the zero point energy\n",
    "of these waves will not be influenced by the position of this plate. "
   ]
  },
  {
   "cell_type": "markdown",
   "metadata": {},
   "source": [
    "The regulator will serve to make the expression finite, and in the end will be removed. The regulated version of the energy per unit-area of the plate is"
   ]
  },
  {
   "cell_type": "markdown",
   "metadata": {},
   "source": [
    "Introducing the variable $u^2 = a^2\\,k_z^2/\\pi^2$"
   ]
  },
  {
   "cell_type": "markdown",
   "metadata": {},
   "source": [
    "$du = a/\\pi\\,dk_z$"
   ]
  },
  {
   "cell_type": "markdown",
   "metadata": {},
   "source": [
    "\\begin{equation}\n",
    "\\delta\\,\\frac{E}{V} = \\frac{\\hbar\\,c\\,\\pi}{a^4}\\left\\{\n",
    "\\sum\\limits_{n_x=\\left(0\\right)\\,1}^{\\infty}\n",
    "\\sum\\limits_{n_y=\\left(0\\right)\\,1}^{\\infty}\n",
    "\\int\\limits_{0}^{\\infty}\n",
    "{\\sqrt{n_x^2 + n_y^2 + u^2}}\n",
    "f\\left(\\frac{\\pi\\sqrt{n_x^2 + n_y^2 + u^2}}{a\\,k_m}\\right)\n",
    "\\,d{u}\n",
    "-\n",
    "\\int\\limits_{0}^{\\infty}\n",
    "\\int\\limits_{0}^{\\infty}\n",
    "\\int\\limits_{0}^{\\infty}\n",
    "{\\sqrt{n_x^2 + n_y^2 + u^2}}\n",
    "f\\left(\\frac{\\pi\\sqrt{n_x^2 + n_y^2 + u^2}}{a\\,k_m}\\right)\n",
    "\\,d{u}\\,d{n_x}\\,d{n_y}\n",
    "\\right\\}\n",
    "\\end{equation}"
   ]
  },
  {
   "cell_type": "markdown",
   "metadata": {},
   "source": [
    "\\begin{equation}\n",
    "\\delta\\,\\frac{E}{V} = \\frac{\\hbar\\,c\\,\\pi}{a^4}\n",
    "\\int\\limits_{0}^{\\infty}\n",
    "\\left\\{\n",
    "\\sum\\limits_{n_x=\\left(0\\right)\\,1}^{\\infty}\n",
    "\\sum\\limits_{n_y=\\left(0\\right)\\,1}^{\\infty}\n",
    "{\\sqrt{n_x^2 + n_y^2 + u^2}}\n",
    "f\\left(\\frac{\\pi\\sqrt{n_x^2 + n_y^2 + u^2}}{a\\,k_m}\\right)\n",
    "-\n",
    "\\int\\limits_{0}^{\\infty}\n",
    "\\int\\limits_{0}^{\\infty}\n",
    "{\\sqrt{n_x^2 + n_y^2 + u^2}}\n",
    "f\\left(\\frac{\\pi\\sqrt{n_x^2 + n_y^2 + u^2}}{a\\,k_m}\\right)\n",
    "\\,d{n_x}\\,d{n_y}\n",
    "\\right\\}\n",
    "\\,d{u}\n",
    "\\end{equation}"
   ]
  },
  {
   "cell_type": "markdown",
   "metadata": {},
   "source": [
    "\\begin{equation}\n",
    "I\\left(n_x, n_y\\right) = \n",
    "\\int\\limits_{0}^{\\infty}{\\sqrt{n_x^2 + n_y^2+u^2}}\n",
    "f\\left(\\frac{\\pi\\sqrt{n_x^2 + n_y^2+u^2}}{a\\,k_m}\\right)\\,d{u}\n",
    "\\end{equation}"
   ]
  },
  {
   "cell_type": "markdown",
   "metadata": {},
   "source": [
    "\\begin{equation}\n",
    "F\\left(n_x, n_y\\right) = \n",
    "\\sqrt{n_x^2 + n_y^2+u^2}\\,\n",
    "f\\left(\\frac{\\pi\\sqrt{n_x^2 + n_y^2+u^2}}{a\\,k_m}\\right)\n",
    "\\end{equation}"
   ]
  },
  {
   "cell_type": "markdown",
   "metadata": {},
   "source": [
    "\\begin{equation}\n",
    "\\delta\\,\\frac{E}{V} = \\frac{\\hbar\\,c\\,\\pi}{a^4}\\left\\{\n",
    "\\sum\\limits_{n_x=\\left(0\\right)\\,1}^{\\infty}\n",
    "\\sum\\limits_{n_y=\\left(0\\right)\\,1}^{\\infty}\n",
    "I\\left(n_x, n_y\\right)\n",
    "-\n",
    "\\int\\limits_{0}^{\\infty}\n",
    "\\int\\limits_{0}^{\\infty}\n",
    "I\\left(n_x, n_y\\right)\\,d{n_x}\\,d{n_y}\n",
    "\\right\\}\n",
    "\\end{equation}"
   ]
  },
  {
   "cell_type": "markdown",
   "metadata": {},
   "source": [
    "\\begin{equation}\n",
    "\\delta\\,\\frac{E}{V} = \\frac{\\hbar\\,c\\,\\pi}{a^4}\n",
    "\\int\\limits_{0}^{\\infty}{\n",
    "\\left\\{\n",
    "\\sum\\limits_{n_x=\\left(0\\right)\\,1}^{\\infty}\n",
    "\\sum\\limits_{n_y=\\left(0\\right)\\,1}^{\\infty}\n",
    "F\\left(n_x, n_y\\right)\n",
    "-\n",
    "\\int\\limits_{0}^{\\infty}\n",
    "\\int\\limits_{0}^{\\infty}\n",
    "F\\left(n_x, n_y\\right)\\,d{n_x}\\,d{n_y}\n",
    "\\right\\}\n",
    "}\\,d{u}\n",
    "\\end{equation}"
   ]
  },
  {
   "cell_type": "code",
   "execution_count": 1,
   "metadata": {},
   "outputs": [],
   "source": [
    "from IPython.display import display, Math, Latex"
   ]
  },
  {
   "cell_type": "code",
   "execution_count": 2,
   "metadata": {},
   "outputs": [],
   "source": [
    "n_x = var(\"n_x\")\n",
    "assume(n_x, \"real\")\n",
    "assume(n_x > 0)\n",
    "n_y = var(\"n_y\")\n",
    "assume(n_y, \"real\")\n",
    "assume(n_y > 0)\n",
    "n_z = var(\"n_z\")"
   ]
  },
  {
   "cell_type": "code",
   "execution_count": 3,
   "metadata": {},
   "outputs": [],
   "source": [
    "#u = a*k_z/(pi)\n",
    "u = var(\"u\")"
   ]
  },
  {
   "cell_type": "code",
   "execution_count": 4,
   "metadata": {},
   "outputs": [],
   "source": [
    "a = var(\"a\")\n",
    "assume(a, 'real')\n",
    "assume(a>0)\n",
    "\n",
    "L = var(\"L\")\n",
    "\n",
    "k_x = var(\"k_x\")\n",
    "k_y = var(\"k_y\")\n",
    "k_z = var(\"k_z\")"
   ]
  },
  {
   "cell_type": "code",
   "execution_count": 5,
   "metadata": {},
   "outputs": [],
   "source": [
    "k_x = pi * n_x / a\n",
    "k_y = pi * n_y / a\n",
    "k_z = pi * n_z / (L/2)"
   ]
  },
  {
   "cell_type": "code",
   "execution_count": 6,
   "metadata": {},
   "outputs": [],
   "source": [
    "k_m = var(\"k_m\")\n",
    "assume(k_m, 'real')\n",
    "assume(k_m > 0)"
   ]
  },
  {
   "cell_type": "code",
   "execution_count": 7,
   "metadata": {},
   "outputs": [],
   "source": [
    "f = function('f')(var(\"k_km\"))\n",
    "fn = lambda k_km : 1 / (1 + (k_km)^4)"
   ]
  },
  {
   "cell_type": "markdown",
   "metadata": {},
   "source": [
    "$k_m$ may be defined by $f(1) = \\frac{1}{2}$."
   ]
  },
  {
   "cell_type": "code",
   "execution_count": 8,
   "metadata": {},
   "outputs": [
    {
     "data": {
      "text/plain": [
       "1/2"
      ]
     },
     "execution_count": 8,
     "metadata": {},
     "output_type": "execute_result"
    }
   ],
   "source": [
    "fn(1)"
   ]
  },
  {
   "cell_type": "code",
   "execution_count": 9,
   "metadata": {},
   "outputs": [
    {
     "data": {
      "image/png": "[encoded data removed]",
      "text/plain": [
       "Graphics object consisting of 1 graphics primitive"
      ]
     },
     "execution_count": 9,
     "metadata": {},
     "output_type": "execute_result"
    }
   ],
   "source": [
    "plot(fn(x), (x, 0, 3))"
   ]
  },
  {
   "cell_type": "markdown",
   "metadata": {},
   "source": [
    "If $\\omega _{n_x,n_y} = c\\,\\sqrt{n_x^2\\frac{\\pi^2}{a^2}+n_y^2\\frac{\\pi^2}{a^2}+k_z^2}$\n",
    "and $k_z^2 = u^2 \\frac{\\pi^2}{a^2}$ we have\n",
    "$\\omega _{n_x,n_y} = c \\, \\frac{\\pi}{a} \\sqrt{n_x^2+n_y^2+u^2}$ so $f\\left(\\frac{\\pi\\sqrt{n_x^2 + n_y^2+u^2}}{a\\,k_m}\\right) = f\\left(\\frac{\\omega _{n_x,n_y}}{c\\,k_m}\\right)$ and $\\omega_m = c\\,k_m$"
   ]
  },
  {
   "cell_type": "code",
   "execution_count": 10,
   "metadata": {},
   "outputs": [
    {
     "data": {
      "text/latex": [
       "$\\displaystyle \\sqrt{n_{x}^{2} + n_{y}^{2} + u^{2}} f\\left(\\frac{\\pi \\sqrt{n_{x}^{2} + n_{y}^{2} + u^{2}}}{a k_{m}}\\right)$"
      ],
      "text/plain": [
       "<IPython.core.display.Math object>"
      ]
     },
     "metadata": {},
     "output_type": "display_data"
    },
    {
     "data": {
      "text/plain": [
       "sqrt(n_x^2 + n_y^2 + u^2)*f(pi*sqrt(n_x^2 + n_y^2 + u^2)/(a*k_m))"
      ]
     },
     "execution_count": 10,
     "metadata": {},
     "output_type": "execute_result"
    }
   ],
   "source": [
    "Fu = lambda u, n_x, n_y, a, k_m : sqrt(n_x^2 + n_y^2 + u^2)*f(k_km=pi*sqrt(n_x^2 + n_y^2 + u^2)/(a*k_m))\n",
    "display(Math(latex(Fu(u, n_x, n_y, a, k_m))))\n",
    "Fu(u, n_x, n_y, a, k_m)"
   ]
  },
  {
   "cell_type": "code",
   "execution_count": 11,
   "metadata": {},
   "outputs": [
    {
     "data": {
      "text/latex": [
       "$\\displaystyle \\frac{\\sqrt{n_{x}^{2} + n_{y}^{2} + u^{2}}}{\\frac{\\pi^{4} {\\left(n_{x}^{2} + n_{y}^{2} + u^{2}\\right)}^{2}}{a^{4} k_{m}^{4}} + 1}$"
      ],
      "text/plain": [
       "<IPython.core.display.Math object>"
      ]
     },
     "metadata": {},
     "output_type": "display_data"
    },
    {
     "data": {
      "text/plain": [
       "sqrt(n_x^2 + n_y^2 + u^2)/(pi^4*(n_x^2 + n_y^2 + u^2)^2/(a^4*k_m^4) + 1)"
      ]
     },
     "execution_count": 11,
     "metadata": {},
     "output_type": "execute_result"
    }
   ],
   "source": [
    "Fn = lambda u, n_x, n_y, a, k_m : sqrt(n_x^2 + n_y^2 + u^2)*fn(k_km=pi*sqrt(n_x^2 + n_y^2 + u^2)/(a*k_m))\n",
    "display(Math(latex(Fn(u, n_x, n_y, a, k_m))))\n",
    "Fn(u, n_x, n_y, a, k_m)"
   ]
  },
  {
   "cell_type": "code",
   "execution_count": 12,
   "metadata": {},
   "outputs": [],
   "source": [
    "def num_int(f, a, b, v=x):\n",
    "    from scipy import integrate\n",
    "\n",
    "    try:\n",
    "        integral = integrate.quad(f, a, b)\n",
    "\n",
    "        result = integral[0]\n",
    "        return result\n",
    "\n",
    "    except Exception as ex:\n",
    "\n",
    "        if True or \"unable to simplify to float approximation\" == str(ex):\n",
    "            from sage.symbolic.integration.integral import definite_integral\n",
    "            return definite_integral(f(v), v, a, b, hold=True)\n",
    "\n",
    "        print (\"Exception ex = \", str(ex))\n",
    "        print (\"f = \", f)\n",
    "        try:\n",
    "            #print (\"integrand = \", get_integrand_view(f))\n",
    "            print (\"integrand = \", f(x))\n",
    "        except Exception as ex2:\n",
    "            print (\"Exception ex2 = \", ex2)\n",
    "\n",
    "        print (\"a, b = \", a, \",\", b)\n",
    "        try:\n",
    "            print (\"f(a) = \", f(a))\n",
    "        except:\n",
    "            pass\n",
    "        try:\n",
    "            print (\"f(b) = \", f(b))\n",
    "        except:\n",
    "            pass\n",
    "\n",
    "        import inspect\n",
    "        stack = inspect.stack()\n",
    "        for frame in stack:\n",
    "            func_name = frame[3]\n",
    "            print (\"func_name = \", func_name)\n",
    "\n",
    "        raise ex"
   ]
  },
  {
   "cell_type": "code",
   "execution_count": 13,
   "metadata": {},
   "outputs": [],
   "source": [
    "Ia = lambda n_x, n_y, a, k_m : num_int(lambda u: Fn(u, n_x, n_y, a, k_m), 0, Infinity)"
   ]
  },
  {
   "cell_type": "code",
   "execution_count": 14,
   "metadata": {},
   "outputs": [],
   "source": [
    "from sage.symbolic.integration.integral import definite_integral\n",
    "In = definite_integral(Fu(u, n_x, n_y, a = 1, k_m = 1), u, 0, Infinity, hold=True)"
   ]
  },
  {
   "cell_type": "code",
   "execution_count": 15,
   "metadata": {},
   "outputs": [],
   "source": [
    "IIa = lambda n_y, a, k_m : num_int(lambda n_x: Ia(n_x, n_y, a, k_m), 0, Infinity)"
   ]
  },
  {
   "cell_type": "code",
   "execution_count": 16,
   "metadata": {},
   "outputs": [],
   "source": [
    "IIIa = lambda a, k_m : num_int(lambda n_y: IIa(n_y, a, k_m), 0, Infinity)"
   ]
  },
  {
   "cell_type": "code",
   "execution_count": 17,
   "metadata": {},
   "outputs": [
    {
     "data": {
      "image/png": "[encoded data removed]",
      "text/plain": [
       "Graphics object consisting of 1 graphics primitive"
      ]
     },
     "metadata": {},
     "output_type": "display_data"
    }
   ],
   "source": [
    "plot_data_Ia = []\n",
    "\n",
    "for nx in (0.01, 0.02, 0.03, 0.04, 0.05, 0.1, 0.2, 0.3, 0.4, 0.5, 1.0, 1.5, 2.0, 2.5, 3.0, 3.5, 4.0, 4.5, 5.0, 5.5, 6, 7, 8, 9, 10):\n",
    "    plot_data_Ia += [(nx, Ia (n_x=nx, n_y=1, k_m=10, a=1))]\n",
    "    \n",
    "list_plot(plot_data_Ia).show()"
   ]
  },
  {
   "cell_type": "code",
   "execution_count": 18,
   "metadata": {},
   "outputs": [
    {
     "data": {
      "text/plain": [
       "0.0160485420776867"
      ]
     },
     "execution_count": 18,
     "metadata": {},
     "output_type": "execute_result"
    }
   ],
   "source": [
    "def sum_Ia(n_y, a, k_m, N):\n",
    "    S = 0.5 * Ia(n_x=0, n_y=n_y, a=a, k_m=k_m)\n",
    "    for i in range(1,N+1):\n",
    "        S += Ia(n_x=i, n_y=n_y, a=a, k_m=k_m)\n",
    "    return S\n",
    "    \n",
    "    \n",
    "sum_Ia(n_y = 1, a = 1, k_m = 1, N = 100)"
   ]
  },
  {
   "cell_type": "code",
   "execution_count": 19,
   "metadata": {},
   "outputs": [
    {
     "data": {
      "text/plain": [
       "0.0161153476975992"
      ]
     },
     "execution_count": 19,
     "metadata": {},
     "output_type": "execute_result"
    }
   ],
   "source": [
    "sum_Ia(n_y = 1, a = 1, k_m = 1, N = 290)"
   ]
  },
  {
   "cell_type": "code",
   "execution_count": 20,
   "metadata": {},
   "outputs": [
    {
     "data": {
      "text/plain": [
       "0.0161165236876963"
      ]
     },
     "execution_count": 20,
     "metadata": {},
     "output_type": "execute_result"
    }
   ],
   "source": [
    "sum_Ia(n_y = 1, a = 1, k_m = 1, N = 300)"
   ]
  },
  {
   "cell_type": "code",
   "execution_count": 21,
   "metadata": {},
   "outputs": [
    {
     "data": {
      "text/plain": [
       "0.0160372564445073"
      ]
     },
     "execution_count": 21,
     "metadata": {},
     "output_type": "execute_result"
    }
   ],
   "source": [
    "sum_Ia(n_y = 1, a = 1, k_m = 1, N = 90)"
   ]
  },
  {
   "cell_type": "code",
   "execution_count": 22,
   "metadata": {},
   "outputs": [
    {
     "data": {
      "text/plain": [
       "0.0661656258064793"
      ]
     },
     "execution_count": 22,
     "metadata": {},
     "output_type": "execute_result"
    }
   ],
   "source": [
    "def sum_sum_Ia(a, k_m, N):\n",
    "    S = 0.5 * sum_Ia(n_y=0, a=a, k_m=k_m, N = N)\n",
    "    for j in range(1,N+1):\n",
    "        S += sum_Ia(n_y=j, a=a, k_m=k_m, N = N)\n",
    "    return S\n",
    "    \n",
    "    \n",
    "sum_sum_Ia(a = 1, k_m = 1, N = 10)"
   ]
  },
  {
   "cell_type": "raw",
   "metadata": {},
   "source": [
    "IIa ( k_m=1, a=1, n_y=1)"
   ]
  },
  {
   "cell_type": "raw",
   "metadata": {},
   "source": [
    "IIIa (k_m=1, a=1)"
   ]
  },
  {
   "cell_type": "markdown",
   "metadata": {},
   "source": [
    "# Euler–Maclaurin 2D formula"
   ]
  },
  {
   "cell_type": "code",
   "execution_count": 23,
   "metadata": {},
   "outputs": [],
   "source": [
    "logging = False\n",
    "\n",
    "calc_R_p=True\n",
    "\n",
    "def my_euler_maclaurin1(f,symb,a,b,p, f_diff_symb_p=None):\n",
    "    if logging:\n",
    "        print(\"f\", f)\n",
    "        print(\"symb,a,b\", symb, a, b)\n",
    "        print(\"\")\n",
    "\n",
    "\n",
    "    sum_dfdx_a_bernoullis = sum([(f.diff(symb,k-1))*(bernoulli(k)/factorial(k)) for k in range(1,1+p)])\n",
    "    if logging:\n",
    "        print(\"sum_dfdx_a_bernoullis\", sum_dfdx_a_bernoullis)\n",
    "        print(\"sum_dfdx_a_bernoullis(a)\", sum_dfdx_a_bernoullis.subs(symb == a))\n",
    "        if Infinity != b:\n",
    "            print(\"sum_dfdx_a_bernoullis(b)\", sum_dfdx_a_bernoullis.subs(symb == b))\n",
    "\n",
    "    if True:\n",
    "        B = lambda x, p : bernoulli_polynomial(x, p)\n",
    "        P = lambda x, p : bernoulli_polynomial(x - floor(x), p)\n",
    "        fact = lambda n : factorial(n)\n",
    "    else:\n",
    "        B = function(\"B\")(x,p)\n",
    "        P = function(\"P\")(x,p)\n",
    "        fact = function(\"fact\")(n)\n",
    "        \n",
    "    if True == calc_R_p:\n",
    "        # Can't calculate derivative wrt j + u.\n",
    "        #int_R_p = lambda j : integral(f.diff(symb,p).subs(symb == u+j) * bernoulli_polynomial(u,p)/factorial(p), (u,0,1))\n",
    "        def int_R_p(f,symb,j):\n",
    "            v = var(\"v\")            \n",
    "            if None == f_diff_symb_p:\n",
    "                deriv = f.diff(symb,p)\n",
    "            else:\n",
    "                deriv = f_diff_symb_p\n",
    "            if logging:\n",
    "                print(\"deriv\", deriv)\n",
    "            deriv_s = deriv.subs(symb == v+j)\n",
    "            if logging:\n",
    "                print(\"deriv_s\", deriv_s)\n",
    "            int_f_diff_B_fact = integral(deriv_s * bernoulli_polynomial(v,p)/factorial(p), (v,0,1))\n",
    "            if logging:\n",
    "                print(\"int_f_diff_B_fact\", int_f_diff_B_fact)\n",
    "            return int_f_diff_B_fact\n",
    "        \n",
    "        def int_R_p_shifted_first(f,symb,j):\n",
    "            v = var(\"v\")\n",
    "            fn_shifted = f.subs(symb == v + j)\n",
    "            if logging:\n",
    "                print(\"fn_shifted\", fn_shifted)\n",
    "            deriv = fn_shifted.diff(v,p)\n",
    "            if logging:\n",
    "                print(\"deriv\", deriv)\n",
    "            int_f_diff_B_fact = integral(deriv * B(x=v,p=p)/fact(n=p), (v,0,1))\n",
    "    \n",
    "            if logging:\n",
    "                print(\"int_f_diff_B_fact\", int_f_diff_B_fact)\n",
    "\n",
    "            return int_f_diff_B_fact\n",
    "\n",
    "        if logging:\n",
    "            print(\"int_R_p(j = a)\", int_R_p(f,symb,j = a))\n",
    "            \n",
    "        if use_int_R_p_j:\n",
    "            v, j = var(\"v, j\")\n",
    "            assume(j>0)\n",
    "            from sage.calculus.calculus import symbolic_sum\n",
    "            if change_R_p_order:\n",
    "                # Change order of summation and integration\n",
    "                if use_int_R_p_shifted_first:\n",
    "                    R_p = (-1)^(p+1)*integral(symbolic_sum(f.subs(symb == v+j).diff(v,p)*B(x=v,p=p)/fact(n=p), \\\n",
    "                                                  j, a, b-1), \\\n",
    "                                              (v,0,1))\n",
    "                else:\n",
    "                    if None == f_diff_symb_p:\n",
    "                        f_diff_symb_p = f.diff(symb,p)\n",
    "                    R_p = (-1)^(p+1)*integral(symbolic_sum(f_diff_symb_p.subs(symb == v+j)*B(x=v,p=p)/fact(n=p), \\\n",
    "                                                  j, a, b-1), \\\n",
    "                                              (v,0,1))\n",
    "            else:\n",
    "                if use_int_R_p_shifted_first:\n",
    "                    R_p = (-1)^(p+1)*symbolic_sum(int_R_p_shifted_first(f,symb,j=j), j, a, b-1)\n",
    "                else:\n",
    "                    R_p = (-1)^(+1)*symbolic_sum(int_R_p(f,symb,j=j), j, a, b-1)\n",
    "                \n",
    "        else:\n",
    "            if None == f_diff_symb_p:\n",
    "                f_diff_symb_p = f.diff(symb,p)\n",
    "            if not use_num_int:\n",
    "                R_p = (-1)^(p+1)*integral(f_diff_symb_p * P(x=symb,p=p)/fact(n=p),(symb,a,b),hold=True)\n",
    "            else:\n",
    "                R_p = (-1)^(p+1)*num_int(lambda symb : f_diff_symb_p * P(x=symb,p=p)/fact(n=p), a, b)\n",
    "                \n",
    "\n",
    "    int_fn_a_b = integral(f, (symb, a, b))\n",
    "    if logging:\n",
    "        print(\"int_fn_a_b\", int_fn_a_b)\n",
    "    \n",
    "    s = int_fn_a_b - sum_dfdx_a_bernoullis.subs(symb == a)\n",
    "    if Infinity != b:\n",
    "        s += sum_dfdx_a_bernoullis.subs(symb == b)\n",
    "    if True == calc_R_p:\n",
    "        s += R_p\n",
    "        \n",
    "    if False:\n",
    "        print(\"int_fn_a_b\", int_fn_a_b)\n",
    "        print(\"sum_dfdx_a_bernoullis(a)\", sum_dfdx_a_bernoullis(a))\n",
    "        if Infinity != b:\n",
    "            print(\"sum_dfdx_a_bernoullis(b)\", sum_dfdx_a_bernoullis(b))\n",
    "        if True == calc_R_p:\n",
    "            print(\"int_R_p(j = a)\", int_R_p(j = a))\n",
    "            print(\"R_p\", R_p)\n",
    "        print(\"\")\n",
    "        print(\"s\",s)\n",
    "    return s"
   ]
  },
  {
   "cell_type": "markdown",
   "metadata": {},
   "source": [
    "$${\\displaystyle \\sum _{i=a}^{b}f(i)=\\int _{a}^{b}f(x)\\,dx+{\\frac {f(a)+f(b)}{2}}+\\sum _{k=1}^{\\lfloor p/2\\rfloor }{\\frac {B_{2k}}{(2k)!}}(f^{(2k-1)}(b)-f^{(2k-1)}(a))+R_{p},}$$"
   ]
  },
  {
   "cell_type": "markdown",
   "metadata": {},
   "source": [
    "$${\\displaystyle \\sum _{i=a}^{b}f(i)=\\int _{a}^{b}f(x)\\,dx+\\sum _{k=1}^{\\lfloor p/2\\rfloor }{\\frac {B_{k}}{(k)!}}(f^{(k-1)}(b)-f^{(k-1)}(a))+R_{p},}$$"
   ]
  },
  {
   "cell_type": "markdown",
   "metadata": {},
   "source": [
    "$${\\displaystyle R_{p}=(-1)^{p+1}\\sum_{j=a}^{b-1} \\int _{0}^{1}f^{(p)}(v+j){\\frac {B_{p}(v)}{p!}}\\,dv.}$$"
   ]
  },
  {
   "cell_type": "markdown",
   "metadata": {},
   "source": [
    "$${\\displaystyle P_{k}(x)=B_{k}(x-\\lfloor x\\rfloor ),}$$\n",
    "\n",
    "$${\\displaystyle R_{p}=(-1)^{p+1}\\int _{a}^{b}f^{(p)}(x){\\frac {P_{p}(x)}{p!}}\\,dx.}$$"
   ]
  },
  {
   "cell_type": "code",
   "execution_count": 24,
   "metadata": {},
   "outputs": [],
   "source": [
    "# https://www.journals.vu.lt/LMJ/article/view/20600/19701\n",
    "# ФОРМУЛА СУММИРОВАНИЯ ЭЙЛЕРА—МАКЛОРЕНА ДЛЯ ФУНКЦИИ МНОГИХ ПЕРЕМЕННЫХ А.БИКЯЛИС\n",
    "# VIII LIETUVOS MATEMATIKOS RINKINYS 4\n",
    "# ЛИТОВСКИЙ МАТЕМАТИЧЕСКИЙ СБОРНИК\n",
    "# 1968\n",
    "\n",
    "# Далее,обе стороны этого равенства суммируем по всем целым m2 из интервала(z2,y2). Получаем\n",
    "\n",
    "if True:\n",
    "    B = lambda x, p : bernoulli_polynomial(x, p)\n",
    "    P = lambda x, p : bernoulli_polynomial(x - floor(x), p)\n",
    "    fact = lambda n : factorial(n)\n",
    "else:\n",
    "    B = function(\"B\")(x,p)\n",
    "    P = function(\"P\")(x,p)\n",
    "    fact = function(\"fact\")(n)\n",
    "\n",
    "def integral_R_p(f,symb,jx,hold, f_diff_symb_p=None):\n",
    "    vx = var(\"v_\"+str(symb))\n",
    "    if None == f_diff_symb_p:\n",
    "        deriv = f.diff(symb,p)\n",
    "    else:\n",
    "        deriv = f_diff_symb_p\n",
    "    if logging:\n",
    "        print(\"deriv\", deriv)\n",
    "\n",
    "    deriv_subs = deriv.subs(symb == vx+jx)\n",
    "    if logging:\n",
    "        print(\"deriv_subs\", deriv_subs)\n",
    "\n",
    "    int_f_diff_B_fact = integral(deriv_subs * bernoulli_polynomial(vx,p)/factorial(p), (vx,0,1), hold=hold)\n",
    "    if logging:\n",
    "        print(\"int_f_diff_B_fact\", int_f_diff_B_fact)\n",
    "\n",
    "    return int_f_diff_B_fact\n",
    "\n",
    "def integral_R_p_shifted_first(f,symb,jx,hold):\n",
    "    vx = var(\"v_\"+str(symb))\n",
    "    fn_shifted = f.subs(symb == vx + jx)\n",
    "    if logging:\n",
    "        print(\"fn_shifted\", fn_shifted)\n",
    "\n",
    "    deriv = fn_shifted.diff(vx,p)\n",
    "    if logging:\n",
    "        print(\"deriv\", deriv)\n",
    "\n",
    "    int_f_diff_B_fact = integral(deriv * B(x=vx,p=p)/fact(n=p), (vx, 0, 1), hold=hold)\n",
    "\n",
    "    if logging:\n",
    "        print(\"int_f_diff_B_fact\", int_f_diff_B_fact)\n",
    "\n",
    "    return int_f_diff_B_fact\n",
    "    \n",
    "    \n",
    "def euler_maclaurin_R_p(f,symb,a,b,p, f_diff_symb_p=None, hold_int=True, hold_sum=True):\n",
    "    if logging:\n",
    "        print(\"f\", f)\n",
    "        print(\"symb,a,b\", symb, a, b)\n",
    "        if f_diff_symb_p is not None:\n",
    "            print(\"f_diff_symb_p\", f_diff_symb_p)\n",
    "        print(\"\")\n",
    "    if use_int_R_p_j:\n",
    "        jx = var('j_'+str(symb))\n",
    "        assume(jx>0)\n",
    "        from sage.calculus.calculus import symbolic_sum\n",
    "        \n",
    "        if change_R_p_order:\n",
    "            vx = var(\"v_\"+str(symb))\n",
    "            # Change order of summation and integration\n",
    "            if use_int_R_p_shifted_first:\n",
    "                R_p = (-1)^(p+1)*integral(symbolic_sum(f.subs(symb == vx+jx).diff(vx,p)*B(x=vx,p=p)/fact(n=p), \\\n",
    "                                              jx, a, b-1, hold=hold_sum), \\\n",
    "                                          (vx,0,1), hold=hold_int)\n",
    "            else:\n",
    "                if None == f_diff_symb_p:\n",
    "                    f_diff_symb_p = f.diff(symb,p)\n",
    "                R_p = (-1)^(p+1)*integral(symbolic_sum(f_diff_symb_p.subs(symb == vx+jx)*B(x=vx,p=p)/fact(n=p), \\\n",
    "                                              jx, a, b-1, hold=hold_sum), \\\n",
    "                                          (vx,0,1), hold=hold_int)\n",
    "        else:       \n",
    "            if use_int_R_p_shifted_first:\n",
    "                term = (-1)^(p+1)*integral_R_p_shifted_first(f=f, symb=symb, jx=jx, hold=hold_int)\n",
    "                R_p = symbolic_sum(term, jx, a, b-1, hold=hold_sum)\n",
    "            else:\n",
    "                term = (-1)^(p+1)*integral_R_p(f=f, symb=symb, jx=jx, hold=hold_int, f_diff_symb_p=f_diff_symb_p)\n",
    "                R_p = symbolic_sum(term, jx, a, b-1, hold=hold_sum)\n",
    "            return R_p, term\n",
    "    else:\n",
    "        if not use_num_int:\n",
    "            if None == f_diff_symb_p:\n",
    "                f_diff_symb_p = f.diff(symb,p)\n",
    "            if logging:\n",
    "                print(\"(-1)^(p+1)*P(x=symb,p=p)/fact(n=p)\", (-1)^(p+1)*P(x=symb,p=p)/fact(n=p))\n",
    "            R_p = (-1)^(p+1)*integral(f_diff_symb_p * P(x=symb,p=p)/fact(n=p),(symb,a,b),hold=hold_int)\n",
    "        else:\n",
    "            R_p = (-1)^(p+1)*num_int(lambda symb: f_diff_symb_p * P(x=symb,p=p)/fact(n=p), a, b)\n",
    "            \n",
    "    return R_p"
   ]
  },
  {
   "cell_type": "markdown",
   "metadata": {},
   "source": [
    "$$\\sum _{k=1}^{\\lfloor p/2\\rfloor }{\\frac {B_{k}}{(k)!}}(f^{(k-1)}(b)-f^{(k-1)}(a))$$"
   ]
  },
  {
   "cell_type": "code",
   "execution_count": 25,
   "metadata": {},
   "outputs": [],
   "source": [
    "def sum_dfdx_bernoulis(f,symb,a,b,p):\n",
    "    if logging:\n",
    "        print(\"sum_dfdx_bernoulis symb\", symb, \"a\", a, \"b\", b)\n",
    "    dfdx_a_bernoullis = []\n",
    "    for k in range(1,1+p):\n",
    "        dfdx_a_bernoullis += [(f.diff(symb,k-1))*(bernoulli(k)/factorial(k))]\n",
    "        \n",
    "    sum_dfdx_a_bernoullis = sum(dfdx_a_bernoullis)\n",
    "\n",
    "    if logging:\n",
    "        print(\"sum_dfdx_a_bernoullis\", sum_dfdx_a_bernoullis)\n",
    "        print(\"sum_dfdx_a_bernoullis(a)\", sum_dfdx_a_bernoullis.subs(symb == a))\n",
    "        if Infinity != b:\n",
    "            print(\"sum_dfdx_a_bernoullis(b)\", sum_dfdx_a_bernoullis.subs(symb == b))\n",
    "\n",
    "    s = - sum_dfdx_a_bernoullis.subs(symb == a)\n",
    "    if Infinity != b:\n",
    "        s += sum_dfdx_a_bernoullis.subs(symb == b)\n",
    "    return s\n"
   ]
  },
  {
   "cell_type": "code",
   "execution_count": 26,
   "metadata": {},
   "outputs": [],
   "source": [
    "def sum_dfdx_bernoulis_str(f,symb,a,b,p):\n",
    "    sum_dfdx_a_bernoullis = \"\"\n",
    "    for k in range(1,1+p):\n",
    "        if k - 1 > 0:\n",
    "            sum_dfdx_a_bernoullis += \" + (\" + str(bernoulli(k)/factorial(k)) + \") * (\" + str(f) + \").diff(\" + str(symb) + \", \" + str(k-1) + \")\"\n",
    "        else:\n",
    "            sum_dfdx_a_bernoullis += \" + (\" + str(bernoulli(k)/factorial(k)) + \") * (\" + str(f) + \")\"\n",
    "            \n",
    "\n",
    "    if logging:\n",
    "        print(\"sum_dfdx_a_bernoullis\", sum_dfdx_a_bernoullis)\n",
    "        print(\"sum_dfdx_a_bernoullis(a)\", \"(\" + sum_dfdx_a_bernoullis + \").subs(\" + str(symb) + \"==\" + str(a) + \")\")\n",
    "        if Infinity != b:\n",
    "            print(\"sum_dfdx_a_bernoullis(b)\", \"(\" + sum_dfdx_a_bernoullis + \").subs(\" + str(symb) + \"==\" + str(b) + \")\")\n",
    "    s = \"\"\n",
    "\n",
    "    s += \"- (\" + sum_dfdx_a_bernoullis + \").subs(\" + str(symb) + \"==\" + str(a) + \")\"\n",
    "    if Infinity != b:\n",
    "        s += \" + (\" + sum_dfdx_a_bernoullis + \").subs(\" + str(symb) + \"==\" + str(b) + \")\"\n",
    "    return s\n"
   ]
  },
  {
   "cell_type": "code",
   "execution_count": 27,
   "metadata": {},
   "outputs": [],
   "source": [
    "# sumy_sumx = sum_dfdx_bernoulis(sum_dfdx_bernoulis (F(x,y), x, a_x, b_x,p), y, a_y, b_y, p)\n",
    "def sum_dfdy_bernoulis_sum_dfdx_bernoulis_str(f, x, a_x, b_x, y, a_y, b_y, p):\n",
    "    str_f = sum_dfdx_bernoulis_str(f(x=x,y=y), x, a_x, b_x, p)\n",
    "    sum_dfdx_a_bernoullis = \"\"\n",
    "    for k in range(1,1+p):\n",
    "        if k - 1 > 0:\n",
    "            sum_dfdx_a_bernoullis += \" + (\" + str(bernoulli(k)/factorial(k)) + \") * (\" + str_f + \").diff(\" + str(y) + \", \" + str(k-1) + \")\"\n",
    "        else:\n",
    "            sum_dfdx_a_bernoullis += \" + (\" + str(bernoulli(k)/factorial(k)) + \") * (\" + str_f + \")\"\n",
    "\n",
    "    if logging:\n",
    "        print(\"sum_dfdx_a_bernoullis\", sum_dfdx_a_bernoullis)\n",
    "        print(\"sum_dfdx_a_bernoullis(a)\", \"(\" + sum_dfdx_a_bernoullis + \").subs(\" + str(y) + \"==\" + str(a_y) + \")\")\n",
    "        if Infinity != b:\n",
    "            print(\"sum_dfdx_a_bernoullis(b)\", \"(\" + sum_dfdx_a_bernoullis + \").subs(\" + str(y) + \"==\" + str(b_y) + \")\")\n",
    "    s = \"\"\n",
    "\n",
    "    s += \"- (\" + sum_dfdx_a_bernoullis + \").subs(\" + str(y) + \"==\" + str(a_y) + \")\"\n",
    "    if Infinity != b_y:\n",
    "        s += \" + (\" + sum_dfdx_a_bernoullis + \").subs(\" + str(y) + \"==\" + str(b_y) + \")\"\n",
    "    return s"
   ]
  },
  {
   "cell_type": "code",
   "execution_count": 28,
   "metadata": {},
   "outputs": [],
   "source": [
    "def definite_integral_derivative(f, x, a, b, diff_param, hold=True):\n",
    "    from sage.symbolic.integration.integral import definite_integral\n",
    "\n",
    "    if not x.has(diff_param):\n",
    "        # integration variable != differentiation variable\n",
    "        ans = definite_integral(f.diff(diff_param), x, a, b, hold=hold)\n",
    "    else:\n",
    "        ans = SR.zero()\n",
    "\n",
    "    if hasattr(b, 'diff'):\n",
    "        if b.diff(diff_param) != 0:\n",
    "            ans += f.subs(x == b) * b.diff(diff_param)\n",
    "    if hasattr(a, 'diff'):\n",
    "        if a.diff(diff_param) != 0:\n",
    "            ans -= f.subs(x == a) * a.diff(diff_param)\n",
    "\n",
    "    return ans\n"
   ]
  },
  {
   "cell_type": "code",
   "execution_count": 29,
   "metadata": {},
   "outputs": [],
   "source": [
    "def definite_integral_derivative_str(f, x, a, b, diff_param=None, hold=False, algorithm=None):\n",
    "\n",
    "    if not x.has(diff_param):\n",
    "        # integration variable != differentiation variable\n",
    "        if algorithm is not None:\n",
    "            ans = \"integrate((\" + str(f) + \").diff(\" + str(diff_param) + \"), \" + str(x) + \", \" + str(a) + \", \" + str(b) + \", algorithm = \"\\\"\"+ algorithm + \", hold = \" + str(hold) + \")\"\n",
    "        else:\n",
    "            ans = \"definite_integral((\" + str(f) + \").diff(\" + str(diff_param) + \"), \" + str(x) + \", \" + str(a) + \", \" + str(b) + \", hold = \" + str(hold) + \")\"\n",
    "    else:\n",
    "        ans = \"\"\n",
    "\n",
    "    if hasattr(b, 'diff'):\n",
    "        if b.diff(diff_param) != 0:\n",
    "            ans += \" + \" + str(f.subs(x == b) * b.diff(diff_param))\n",
    "    if hasattr(a, 'diff'):\n",
    "        if a.diff(diff_param) != 0:\n",
    "            ans += \" - \" + str(f.subs(x == a) * a.diff(diff_param))\n",
    "\n",
    "    return ans"
   ]
  },
  {
   "cell_type": "code",
   "execution_count": 30,
   "metadata": {},
   "outputs": [],
   "source": [
    "def definite_num_int_derivative_str(f, x, a, b, diff_param=None):\n",
    "\n",
    "    if not x.has(diff_param):\n",
    "        # integration variable != differentiation variable\n",
    "        ans = \"num_int(lambda \" + str(x)+ \" : \" + str(f.diff(diff_param)) + \", \" + str(a) + \", \" + str(b) + \")\"\n",
    "    else:\n",
    "        ans = \"\"\n",
    "\n",
    "    if hasattr(b, 'diff'):\n",
    "        if b.diff(diff_param) != 0:\n",
    "            ans += \" + \" + str(f.subs(x == b) * b.diff(diff_param))\n",
    "    if hasattr(a, 'diff'):\n",
    "        if a.diff(diff_param) != 0:\n",
    "            ans += \" - \" + str(f.subs(x == a) * a.diff(diff_param))\n",
    "\n",
    "    return ans"
   ]
  },
  {
   "cell_type": "markdown",
   "metadata": {},
   "source": [
    "$$\\sum _{k=1}^{\\lfloor p/2\\rfloor }{\\frac {B_{k}}{(k)!}}(g(y)^{(k-1)}(b_y)-g(y)^{(k-1)}(a_y))$$\n",
    "where "
   ]
  },
  {
   "cell_type": "markdown",
   "metadata": {},
   "source": [
    "$$g(y) = {\\displaystyle R_{p}(y)=(-1)^{p+1}\\sum_{j=a_x}^{b_x-1} \\int _{0}^{1}\\frac{\\partial^{p}}{\\partial x^{p}}f(v_x+j,y){\\frac {B_{p}(v_x)}{p!}}\\,dv_x.}$$\n",
    "or"
   ]
  },
  {
   "cell_type": "markdown",
   "metadata": {},
   "source": [
    "$${\\displaystyle P_{k}(x)=B_{k}(x-\\lfloor x\\rfloor ),}$$\n",
    "\n",
    "$$g(y) = {\\displaystyle R_{p}=(-1)^{p+1}\\int _{a_x}^{b_x}\\frac{\\partial^{p}}{\\partial x^{p}}f(x,y){\\frac {P_{p}(x)}{p!}}\\,dx.}$$"
   ]
  },
  {
   "cell_type": "code",
   "execution_count": 31,
   "metadata": {},
   "outputs": [],
   "source": [
    "#int_R_p = integral(euler_maclaurin_R_p(f(x,y), x, a_x, b_x,p), (y, a_y, b_y), hold=True)\n",
    "\n",
    "def integral_euler_maclaurin_R_p(f, x, a_x, b_x, y, a_y, b_y, p, f_diff_x_p, hold_int=True, hold_sum=True):\n",
    "    if logging:\n",
    "        print(\"f\", f)\n",
    "        print(\"f(x,y)\", f(x=x,y=y))\n",
    "        if None != f_diff_x_p:\n",
    "            print(\"f_diff_x_p\", f_diff_x_p)\n",
    "            print(\"f_diff_x_p(x,y)\", f_diff_x_p(x=x,y=y))\n",
    "        print(\"\")\n",
    "    if use_int_R_p_j:\n",
    "        jx = var('j_x')\n",
    "        assume(jx>0)\n",
    "        from sage.calculus.calculus import symbolic_sum\n",
    "        \n",
    "        if change_R_p_order:\n",
    "            vx = var(\"v_\"+str(x))\n",
    "            # Change order of summation and integration\n",
    "            if use_int_R_p_shifted_first:\n",
    "                int_R_p = (-1)^(p+1)*integral(integral(symbolic_sum(f.subs(x == vx+jx).diff(vx,p)*B(x=vx,p=p)/fact(n=p), \\\n",
    "                                              jx, a_x, b_x-1, hold=hold_sum), \\\n",
    "                                          (vx,0,1), hold=hold_int), y, a_y, b_y, hold=hold_int)\n",
    "            else:\n",
    "                if None == f_diff_x_p:\n",
    "                    f_diff_x_p = f.diff(x,p)\n",
    "                int_R_p = (-1)^(p+1)*integral(integral(symbolic_sum(f_diff_x_p.subs(x == vx+jx)*B(x=vx,p=p)/fact(n=p), \\\n",
    "                                              jx, a_x, b_x-1, hold=hold_sum), \\\n",
    "                                          (vx,0,1), hold=hold_int), y, a_y, b_y, hold=hold_int)\n",
    "        else:       \n",
    "            if use_int_R_p_shifted_first:\n",
    "                int_int = (-1)^(p+1)*integral(integral_R_p_shifted_first(f=f, symb=x, jx=jx, hold=hold_int), y, a_y, b_y, hold=hold_int)\n",
    "                int_R_p = symbolic_sum(int_int, jx, a_x, b_x-1, hold=hold_sum)\n",
    "            else:\n",
    "                int_int = (-1)^(p+1)*integral(integral_R_p(f=f, symb=x, jx=jx, hold=hold_int), y, a_y, b_y, hold=hold_int)\n",
    "                int_R_p = symbolic_sum(int_int, jx, a_x, b_x-1, hold=hold_sum)\n",
    "            return (int_R_p, int_int)\n",
    "    else:\n",
    "        if not use_num_int:\n",
    "            if None == f_diff_x_p:\n",
    "                f_diff_x_p = f.diff(x,p)\n",
    "            int_R_p = (-1)^(p+1)*integral(integral(f_diff_x_p * P(x=x,p=p)/fact(n=p),(x,a_x,b_x),hold=hold_int), y, a_y, b_y, hold=hold_int)\n",
    "        else:\n",
    "            int_R_p = (-1)^(p+1)*num_int(lambda y : num_int(lambda x : f_diff_x_p(x=x,y=y) * P(x=x,p=p)/fact(n=p), a_x, b_x), a_y, b_y)\n",
    "            \n",
    "    return int_R_p"
   ]
  },
  {
   "cell_type": "code",
   "execution_count": 32,
   "metadata": {},
   "outputs": [],
   "source": [
    "#sum_R_p = sum_dfdx_bernoulis(euler_maclaurin_R_p(F(x,y), x, a_x, b_x,p), y, a_y, b_y, p)\n",
    "def sum_dfdx_bernoulis_euler_maclaurin_R_p(f, x, a_x, b_x, y, a_y, b_y, p):\n",
    "    if logging:\n",
    "        print(\"sum_dfdx_bernoulis_euler_maclaurin_R_p\", f, x, a_x, b_x, y, a_y, b_y, p)\n",
    "    dfdx_a_bernoullis = []\n",
    "    dfdx_a_bernoullis_terms = []\n",
    "    from sage.calculus.calculus import symbolic_sum\n",
    "    from sage.symbolic.integration.integral import definite_integral\n",
    "    \n",
    "    for k in range(1,1+p):\n",
    "        if 1 == k:\n",
    "            if use_int_R_p_j:\n",
    "                vx, jx = var(\"v_x, j_x\")\n",
    "                term_1 = lambda y_symb, y_val, p, jx : (-1)^(p+1)*definite_integral(f(x=x,y=y_symb).diff(x,p) \\\n",
    "                                                                                 .subs(x == vx + jx) \\\n",
    "                                                                      * B(x=vx,p=p)/fact(n=p),vx,0,1,hold=False) \\\n",
    "                                                                                .subs(y_symb == y_val)\n",
    "                if logging:\n",
    "                    print(\"k\", k)\n",
    "                    print(\"term_1(y_symb=y, y_val=a_y,jx=a_x) =\", term_1(y_symb=y, y_val=a_y,jx=a_x))\n",
    "                    \n",
    "                R_p_1 = lambda y_symb, y_val, p : symbolic_sum(expression=term_1(y_symb=y_symb, y_val=y_val, p=p, jx=jx), \\\n",
    "                                                                     v=jx, a=a_x, b=b_x-1)\n",
    "                dfdx_a_bernoullis_terms += [lambda y_symb, y_val, p, jx, i=k-1 : \\\n",
    "                                            term_1(y_symb=y_symb, y_val=y_val, jx=jx)*(bernoulli(i+1)/factorial(i+1))]\n",
    "            else:\n",
    "                R_p_1 = lambda y_symb, y_val, p : (-1)^(p+1)*definite_integral(f(x=x,y=y_symb).diff(x,p) * P(x=x,p=p)/fact(n=p), \\\n",
    "                                                                  x, a_x, b_x, hold=True) \\\n",
    "                                                                  .subs(y_symb == y_val)\n",
    "                if logging:\n",
    "                    print(\"k\", k)\n",
    "                    print(\"R_p_1(y_symb=y, y_val=a_y) =\", R_p_1(y, y, p))\n",
    "                    print(\"R_p_1(y_symb=y, y_val=a_y) =\", R_p_1(y_symb=y, y_val=a_y, p=p))\n",
    "                \n",
    "            if logging:\n",
    "                print(\"R_p(y_symb=y, y_val=a_y) =\", R_p_1(y_symb=y, y_val=a_y, p=p))\n",
    "                print(\"\\n\")\n",
    "\n",
    "            dfdx_a_bernoullis += [lambda y_symb, y_val, p, i=k-1 : R_p_1(y_symb=y_symb, y_val=y_val, p=p)*(bernoulli(i+1)/factorial(i+1))]\n",
    "            if logging:\n",
    "                print(\"dfdx_a_bernoullis =\", dfdx_a_bernoullis)\n",
    "                print(\"len(dfdx_a_bernoullis) =\", len(dfdx_a_bernoullis))\n",
    "\n",
    "                for ii in range(len(dfdx_a_bernoullis)):\n",
    "                    print(\"dfdx_a_bernoullis [\",ii, \"]()=\", dfdx_a_bernoullis[ii])\n",
    "                    print(\"dfdx_a_bernoullis [\",ii, \"]()=\", dfdx_a_bernoullis[ii](y, y, p))\n",
    "                    print(\"dfdx_a_bernoullis [\",ii, \"](a_y)=\", dfdx_a_bernoullis[ii](y, a_y, p))\n",
    "                    print(\"dfdx_a_bernoullis [\",ii, \"](a_y)=\", dfdx_a_bernoullis[ii](y_symb=y, y_val=a_y, p=p))\n",
    "\n",
    "        elif 2 == k:\n",
    "            if use_int_R_p_j:\n",
    "                vx, jx = var(\"v_x, j_x\")\n",
    "                term_2 = lambda y_symb, y_val, p, jx : (-1)^(p+1)*definite_integral_derivative(f=f(x=x,y=y_symb).diff(x,p) \\\n",
    "                                                                                 .subs(x == vx + jx) \\\n",
    "                                        * B(x=vx,p=p)/fact(n=p), x=vx, a=0, b=1, diff_param=y_symb, hold=False) \\\n",
    "                                                                                .subs(y_symb == y_val)\n",
    "\n",
    "                if logging:\n",
    "                    print(\"k\", k)\n",
    "                    print(\"term_2(y_symb=y, y_val=a_y,jx=a_x) =\", term_2(y_symb=y, y_val=a_y, p=p, jx=a_x))\n",
    "\n",
    "                R_p_2 = lambda y_symb, y_val, p : symbolic_sum(expression=term_2(y_symb=y_symb, y_val=y_val, p=p, jx=jx), \\\n",
    "                                                                 v=jx, a=a_x, b=b_x-1)\n",
    "                dfdx_a_bernoullis_terms += [lambda y_symb, y_val, p, jx, i=k-1 : \\\n",
    "                                            term_2(y_symb=y_symb, y_val=y_val, p=p, jx=jx)*(bernoulli(i+1)/factorial(i+1))]\n",
    "            else:\n",
    "                R_p_2 = lambda y_symb, y_val, p : (-1)^(p+1)*definite_integral_derivative(f=f(x=x,y=y_symb).diff(x,p) \\\n",
    "                                            * P(x=x,p=p)/fact(n=p), x=x, a=a_x, b=b_x, diff_param=y_symb) \\\n",
    "                                                  .subs(y_symb == y_val)\n",
    "\n",
    "                if logging:\n",
    "                    print(\"k\", k)\n",
    "                    print(\"R_p_2(y_symb=y, y_val=a_y) =\", R_p_2(y, y, p))\n",
    "                    print(\"R_p_2(y_symb=y, y_val=a_y) =\", R_p_2(y_symb=y, y_val=a_y, p=p))\n",
    "                \n",
    "            if logging:\n",
    "                print(\"R_p(y_symb=y, y_val=a_y) =\", R_p_2(y_symb=y, y_val=a_y, p=p))\n",
    "                print(\"\\n\")\n",
    "        \n",
    "            dfdx_a_bernoullis += [lambda y_symb, y_val, p, i=k-1 : R_p_2(y_symb=y_symb, y_val=y_val, p=p)*(bernoulli(i+1)/factorial(i+1))]\n",
    "            if logging:\n",
    "                print(\"dfdx_a_bernoullis =\", dfdx_a_bernoullis)\n",
    "                print(\"len(dfdx_a_bernoullis) =\", len(dfdx_a_bernoullis))\n",
    "\n",
    "                for ii in range(len(dfdx_a_bernoullis)):\n",
    "                    print(\"dfdx_a_bernoullis [\",ii, \"]()=\", dfdx_a_bernoullis[ii])\n",
    "                    print(\"dfdx_a_bernoullis [\",ii, \"]()=\", dfdx_a_bernoullis[ii](y, y, p))\n",
    "                    print(\"dfdx_a_bernoullis [\",ii, \"](a_y)=\", dfdx_a_bernoullis[ii](y, a_y, p))\n",
    "                    print(\"dfdx_a_bernoullis [\",ii, \"](a_y)=\", dfdx_a_bernoullis[ii](y_symb=y, y_val=a_y, p=p))\n",
    "        else:\n",
    "            if use_int_R_p_j:\n",
    "                vx, jx = var(\"v_x, j_x\")\n",
    "                term_3 = lambda y_symb, y_val, p, jx : (-1)^(p+1)*definite_integral_derivative(f=f(x=x,y=y_symb).diff(x,p) \\\n",
    "                                                                                 .subs(x == vx + jx) \\\n",
    "                                        * B(x=vx,p=p)/fact(n=p), x=vx, a=0, b=1, diff_param=y_symb, hold=False) \\\n",
    "                                            .diff(y_symb, k-2) .subs(y_symb == y_val)\n",
    "\n",
    "                if logging:\n",
    "                    print(\"k\", k)\n",
    "                    print(\"term_3(y_symb=y, y_val=a_y,jx=a_x) =\", term_3(y_symb=y, y_val=a_y, p=p, jx=a_x))\n",
    "                    \n",
    "                R_p_3 = lambda y_symb, y_val, p : symbolic_sum(expression=term_3(y_symb=y_symb, y_val=y_val, p=p, jx=jx), \\\n",
    "                                                                 v=jx, a=a_x, b=b_x-1)\n",
    "                dfdx_a_bernoullis_terms += [lambda y_symb, y_val, p, jx, i=k-1 : \\\n",
    "                                            term_3(y_symb=y_symb, y_val=y_val, p=p, jx=jx)*(bernoulli(i+1)/factorial(i+1))]\n",
    "            else:\n",
    "                R_p_3 = lambda y_symb, y_val, p : (-1)^(p+1)*definite_integral_derivative(f=f(x=x,y=y_symb).diff(x,p) \\\n",
    "                                                    * P(x=x,p=p)/fact(n=p), x=x, a=a_x, b=b_x, diff_param=y_symb) \\\n",
    "                                                    .diff(y_symb, k-2).subs(y_symb == y_val)\n",
    "                \n",
    "            if logging:\n",
    "                print(\"R_p(y_symb=y, y_val=a_y) =\", R_p_3(y_symb=y, y_val=a_y, p=p))\n",
    "                print(\"\\n\")\n",
    "\n",
    "            dfdx_a_bernoullis += [lambda y_symb, y_val, p, i=k-1 : R_p_3(y_symb=y_symb, y_val=y_val, p=p)*(bernoulli(i+1)/factorial(i+1))]\n",
    "            if logging:\n",
    "                print(\"dfdx_a_bernoullis =\", dfdx_a_bernoullis)\n",
    "                print(\"len(dfdx_a_bernoullis) =\", len(dfdx_a_bernoullis))\n",
    "\n",
    "                for ii in range(len(dfdx_a_bernoullis)):\n",
    "                    print(\"dfdx_a_bernoullis [\",ii, \"]()=\", dfdx_a_bernoullis[ii])\n",
    "                    print(\"dfdx_a_bernoullis [\",ii, \"]()=\", dfdx_a_bernoullis[ii](y, y, p))\n",
    "                    print(\"dfdx_a_bernoullis [\",ii, \"](a_y)=\", dfdx_a_bernoullis[ii](y, a_y, p))\n",
    "                    print(\"dfdx_a_bernoullis [\",ii, \"](a_y)=\", dfdx_a_bernoullis[ii](y_symb=y, y_val=a_y, p=p))\n",
    "\n",
    "    if logging:\n",
    "        print(\"dfdx_a_bernoullis =\", dfdx_a_bernoullis)\n",
    "        print(\"len(dfdx_a_bernoullis) =\", len(dfdx_a_bernoullis))\n",
    "        \n",
    "        for ii in range(len(dfdx_a_bernoullis)):\n",
    "            print(\"dfdx_a_bernoullis [\",ii, \"]()=\", dfdx_a_bernoullis[ii])\n",
    "            print(\"dfdx_a_bernoullis [\",ii, \"]()=\", dfdx_a_bernoullis[ii](y, y, p))\n",
    "            print(\"dfdx_a_bernoullis [\",ii, \"](a_y)=\", dfdx_a_bernoullis[ii](y, a_y, p))\n",
    "            print(\"dfdx_a_bernoullis [\",ii, \"](a_y)=\", dfdx_a_bernoullis[ii](y_symb=y, y_val=a_y, p=p))\n",
    "\n",
    "\n",
    "\n",
    "    sum_dfdx_a_bernoullis = lambda y_symb, y_val, p : sum([dfdx_a_bernoullis[i](y_symb, y_val, p) \\\n",
    "                                                      for i in range(len(dfdx_a_bernoullis))])\n",
    "    \n",
    "    sum_dfdx_a_bernoullis_terms = lambda y_symb, y_val, p, jx : sum([dfdx_a_bernoullis_terms[i](y_symb, y_val, p, jx) \\\n",
    "                                                               for i in range(len(dfdx_a_bernoullis_terms))])\n",
    "    \n",
    "    if logging:\n",
    "        print(\"sum_dfdx_a_bernoullis =\", sum_dfdx_a_bernoullis)\n",
    "        print(\"sum_dfdx_a_bernoullis(a_y) =\", sum_dfdx_a_bernoullis(y_symb=y, y_val=a_y, p=p))\n",
    "    \n",
    "    s = - sum_dfdx_a_bernoullis(y_symb=y, y_val=a_y, p=p)\n",
    "    if b_y is Infinity:\n",
    "        s_terms = lambda jx : - sum_dfdx_a_bernoullis_terms(y_symb=y, y_val=a_y, p=p, jx=jx)\n",
    "    else:\n",
    "        s += sum_dfdx_a_bernoullis(y_symb=y, y_val=b_y, p=p)\n",
    "        s_terms = lambda jx : sum_dfdx_a_bernoullis_terms(y_symb=y, y_val=b_y, p=p, jx=jx) - sum_dfdx_a_bernoullis_terms(y_symb=y, y_val=a_y, p=p, jx=jx)\n",
    "    return s, s_terms"
   ]
  },
  {
   "cell_type": "markdown",
   "metadata": {},
   "source": [
    "$${\\displaystyle R_{p}=(-1)^{p+1}\\sum_{j=a_y}^{b_y-1} \\int _{0}^{1}g^{(p)}(v_y+j){\\frac {B_{p}(v_y)}{p!}}\\,dv_y.}$$"
   ]
  },
  {
   "cell_type": "markdown",
   "metadata": {},
   "source": [
    "$${\\displaystyle P_{k}(y)=B_{k}(y-\\lfloor y\\rfloor ),}$$\n",
    "\n",
    "$${\\displaystyle R_{p}=(-1)^{p+1}\\int _{a_y}^{b_y}g^{(p)}(y){\\frac {P_{p}(y)}{p!}}\\,dy.}$$\n",
    "\n",
    "where"
   ]
  },
  {
   "cell_type": "markdown",
   "metadata": {},
   "source": [
    "$$g(y) = {\\displaystyle R_{p}(y)=(-1)^{p+1}\\sum_{j=a_x}^{b_x-1} \\int _{0}^{1}\\frac{\\partial^{p}}{\\partial x^{p}}f(v_x+j,y){\\frac {B_{p}(v_x)}{p!}}\\,dv_x.}$$\n",
    "or"
   ]
  },
  {
   "cell_type": "markdown",
   "metadata": {},
   "source": [
    "$${\\displaystyle P_{k}(x)=B_{k}(x-\\lfloor x\\rfloor ),}$$\n",
    "\n",
    "$$g(y) = {\\displaystyle R_{p}=(-1)^{p+1}\\int _{a_x}^{b_x}\\frac{\\partial^{p}}{\\partial x^{p}}f(x,y){\\frac {P_{p}(x)}{p!}}\\,dx.}$$"
   ]
  },
  {
   "cell_type": "code",
   "execution_count": 33,
   "metadata": {},
   "outputs": [],
   "source": [
    "#R_p_R_p = euler_maclaurin_R_p(euler_maclaurin_R_p(F(x,y), x, a_x, b_x,p), y, a_y, b_y, p)\n",
    "def euler_maclaurin_R_p_euler_maclaurin_R_p(f, x, a_x, b_x, y, a_y, b_y, p, f_diff_x_p_diff_y_p):\n",
    "\n",
    "    from sage.calculus.calculus import symbolic_sum\n",
    "    from sage.symbolic.integration.integral import definite_integral\n",
    "    if use_int_R_p_j:\n",
    "        vx,vy = var(\"v_x, v_y\")\n",
    "        jx,jy = var(\"j_x, j_y\")\n",
    "        assume(v_y+j_y>0)\n",
    "        \n",
    "        if None == f_diff_x_p_diff_y_p:\n",
    "            f_diff_x_p_diff_y_p = f.diff(x,p).diff(y,p)\n",
    "\n",
    "        R_p_R_p = (-1)^(p+1)*symbolic_sum(definite_integral( \\\n",
    "                               (-1)^(p+1)*symbolic_sum(definite_integral(f_diff_x_p_diff_y_p.subs(x == vx + jx)  \\\n",
    "                                                              * B(x=vx,p=p)/fact(n=p), \\\n",
    "                                 vx,0,1,hold=True), v=jx, a=a_x, b=b_x-1,hold=True) \\\n",
    "                                                                        .diff(y,p).subs(y == vy + jy)  \\\n",
    "                                                              * B(x=vy,p=p)/fact(n=p), \\\n",
    "                                 vy,0,1,hold=True), v=jy, a=a_y, b=b_y-1,hold=True)\n",
    "    else:\n",
    "        if not use_num_int:\n",
    "\n",
    "            if None == f_diff_x_p_diff_y_p:\n",
    "                f_diff_x_p_diff_y_p = f.diff(x,p)\n",
    "\n",
    "            R_p_R_p = (-1)^(p+1)*definite_integral( \\\n",
    "                               (-1)^(p+1)*definite_integral(f_diff_x_p_diff_y_p  \\\n",
    "                                                              * P(x=x,p=p)/fact(n=p), \\\n",
    "                                 x, a_x, b_x, hold=True).diff(y,p)  \\\n",
    "                                                              * P(x=y,p=p)/fact(n=p), \\\n",
    "                                 y, a_y, b_y, hold=True)\n",
    "        else:\n",
    "            f_diff_x_p_diff_y_p_num_str = \"f_diff_x_diff_y_num = lambda \" + str(x) + \", \" + str(y) + \":\" + str(f(x,y).diff(x,p).diff(y,p))\n",
    "            print(\"f_diff_x_p_diff_y_p_num_str=\", f_diff_x_p_diff_y_p_num_str)                                                                          \n",
    "            exec(preparse(f_diff_x_p_diff_y_p_num_str))\n",
    "            R_p_R_p = (-1)^(p+1)*num_int(lambda y : \\\n",
    "                               (-1)^(p+1)*num_int(lambda x : f_diff_x_p_diff_y_p_num(x,y)  \\\n",
    "                                                              * P(x=x,p=p)/fact(n=p), \\\n",
    "                                 a_x, b_x)  \\\n",
    "                                                              * P(x=y,p=p)/fact(n=p), \\\n",
    "                                 a_y, b_y)\n",
    "        \n",
    "    return R_p_R_p"
   ]
  },
  {
   "cell_type": "code",
   "execution_count": 34,
   "metadata": {},
   "outputs": [],
   "source": [
    "#R_p_R_p = euler_maclaurin_R_p(euler_maclaurin_R_p(F(x,y), x, a_x, b_x,p), y, a_y, b_y, p)\n",
    "def euler_maclaurin_R_p_euler_maclaurin_R_p_num_int(f_diff_x_p_diff_y_p, x, a_x, b_x, y, a_y, b_y, p):\n",
    "    R_p_R_p = (-1)^(p+1)*num_int(lambda y : \\\n",
    "                       (-1)^(p+1)*num_int(lambda x : f_diff_x_p_diff_y_p(x,y)  \\\n",
    "                                                      * P(x=x,p=p)/fact(n=p), \\\n",
    "                         a_x, b_x)  \\\n",
    "                                                      * P(x=y,p=p)/fact(n=p), \\\n",
    "                         a_y, b_y)\n",
    "    return R_p_R_p"
   ]
  },
  {
   "cell_type": "code",
   "execution_count": 35,
   "metadata": {},
   "outputs": [],
   "source": [
    "def euler_maclaurin1(f, symb, a, b, p, f_diff_symb_p=None, hold_int=True, hold_sum=True):\n",
    "    if logging:\n",
    "        print(\"f\", f)\n",
    "        print(\"symb,a,b\", symb, a, b)\n",
    "        print(\"\")\n",
    "    #u, j = var(\"u, j\")\n",
    "\n",
    "    int_fn_a_b = integral(f, (symb, a, b))\n",
    "    if logging:\n",
    "        print(\"int_fn_a_b\", int_fn_a_b)\n",
    "    \n",
    "    #s = int_fn_a_b + sum_dfdx_a_bernoullis(b) - sum_dfdx_a_bernoullis(a) + R_p\n",
    "    s = int_fn_a_b + sum_dfdx_bernoulis(f,symb,a,b,p)\n",
    "    \n",
    "    if True == calc_R_p:\n",
    "        R_p = euler_maclaurin_R_p(f, symb, a, b, p, f_diff_symb_p=f_diff_symb_p,hold_int=hold_int, hold_sum=hold_sum)\n",
    "        if type(R_p) is tuple:\n",
    "            s += R_p[0]\n",
    "        else:\n",
    "            s += R_p\n",
    "\n",
    "    return s"
   ]
  },
  {
   "cell_type": "code",
   "execution_count": 36,
   "metadata": {},
   "outputs": [],
   "source": [
    "from IPython.display import display, Math, Latex"
   ]
  },
  {
   "cell_type": "code",
   "execution_count": 37,
   "metadata": {},
   "outputs": [
    {
     "name": "stdout",
     "output_type": "stream",
     "text": [
      "F(n_x, n_y)\n"
     ]
    }
   ],
   "source": [
    "a_x = var(\"a_x\")\n",
    "b_x = var(\"b_x\")\n",
    "a_y = var(\"a_y\")\n",
    "b_y = var(\"b_y\")\n",
    "\n",
    "assume(a_x, 'real')\n",
    "assume(b_x, 'real')\n",
    "assume(a_y, 'real')\n",
    "assume(b_y, 'real')\n",
    "\n",
    "assume(a_x, 'integer')\n",
    "assume(b_x, 'integer')\n",
    "assume(a_y, 'integer')\n",
    "assume(b_y, 'integer')\n",
    "\n",
    "assume(a_x > 0)\n",
    "assume(b_x > 0)\n",
    "assume(a_y > 0)\n",
    "assume(b_y > 0)\n",
    "\n",
    "#x,y = var(\"x,y\")\n",
    "\n",
    "n = QQ['n'].0\n",
    "j = QQ['j'].0\n",
    "\n",
    "p = 4\n",
    "#p = 3\n",
    "#p = 2\n",
    "#p = 1\n",
    "\n",
    "F = function(\"F\")(n_x, n_y)\n",
    "print(F)"
   ]
  },
  {
   "cell_type": "markdown",
   "metadata": {},
   "source": [
    "$${\\displaystyle R_{p}=(-1)^{p+1}\\sum_{j=a}^{b-1} \\int _{0}^{1}f^{(p)}(u+j){\\frac {B_{p}(u)}{p!}}\\,du.}$$"
   ]
  },
  {
   "cell_type": "code",
   "execution_count": 38,
   "metadata": {},
   "outputs": [],
   "source": [
    "use_int_R_p_j=True\n",
    "change_R_p_order=True\n",
    "use_int_R_p_shifted_first=True\n",
    "use_num_int = False\n",
    "logging = False"
   ]
  },
  {
   "cell_type": "raw",
   "metadata": {},
   "source": [
    "int_int = integral(integral           (F,(n_x, a_x, b_x)),  (n_y, a_y, b_y))\n",
    "print(\"int_int=\", int_int)\n",
    "#print(\"int_int=$\", latex(int_int),\"$\")\n",
    "display(Math(latex(int_int)))"
   ]
  },
  {
   "cell_type": "code",
   "execution_count": 39,
   "metadata": {},
   "outputs": [
    {
     "name": "stderr",
     "output_type": "stream",
     "text": [
      "// Giac share root-directory:/usr3/articles/sagemath_docker_build/sage/local/share/giac/\n",
      "// Giac share root-directory:/usr3/articles/sagemath_docker_build/sage/local/share/giac/\n",
      "Help file /usr3/articles/sagemath_docker_build/sage/local/share/giac/doc/fr/aide_cas not found\n",
      "Added 0 synonyms\n",
      "No checks were made for singular points of antiderivative 0 for definite integration in [sageVARa_y,sageVARb_y]\n"
     ]
    },
    {
     "name": "stdout",
     "output_type": "stream",
     "text": [
      "int_sum_F= 1/2*integrate(F(a_x, n_y), n_y, a_y, b_y) - 1/12*integrate(diff(F(a_x, n_y), a_x), n_y, a_y, b_y) + 1/720*integrate(diff(F(a_x, n_y), a_x, a_x, a_x), n_y, a_y, b_y)\n"
     ]
    },
    {
     "data": {
      "text/latex": [
       "$\\displaystyle \\frac{1}{2} \\, \\int_{a_{y}}^{b_{y}} F\\left(a_{x}, n_{y}\\right)\\,{d n_{y}} - \\frac{1}{12} \\, \\int_{a_{y}}^{b_{y}} \\frac{\\partial}{\\partial a_{x}}F\\left(a_{x}, n_{y}\\right)\\,{d n_{y}} + \\frac{1}{720} \\, \\int_{a_{y}}^{b_{y}} \\frac{\\partial^{3}}{(\\partial a_{x})^{3}}F\\left(a_{x}, n_{y}\\right)\\,{d n_{y}}$"
      ],
      "text/plain": [
       "<IPython.core.display.Math object>"
      ]
     },
     "metadata": {},
     "output_type": "display_data"
    }
   ],
   "source": [
    "int_sum_F = integral(sum_dfdx_bernoulis (F, n_x, a_x, b_x,p), (n_y, a_y, b_y)).expand()\n",
    "print(\"int_sum_F=\", int_sum_F)\n",
    "#print(\"int_sum_F=$\", latex(int_sum_F),\"$\")\n",
    "display(Math(latex(int_sum_F)))"
   ]
  },
  {
   "cell_type": "raw",
   "metadata": {},
   "source": [
    "int_sum = integral(sum_dfdx_bernoulis (Fu(u, n_x, n_y, a, k_m), n_x, 0, Infinity,p), (n_y, 0, Infinity))\n",
    "print(\"int_sum=\", int_sum)\n",
    "display(Math(latex(int_sum)))"
   ]
  },
  {
   "cell_type": "raw",
   "metadata": {},
   "source": [
    "int_sum = integral(sum_dfdx_bernoulis (Fn(u, n_x, n_y, a, k_m), n_x, 0, Infinity,p), (n_y, 0, Infinity))\n",
    "print(\"int_sum=\", int_sum)\n",
    "display(Math(latex(int_sum)))"
   ]
  },
  {
   "cell_type": "code",
   "execution_count": 40,
   "metadata": {},
   "outputs": [
    {
     "name": "stdout",
     "output_type": "stream",
     "text": [
      "int_sum_Fu= <function <lambda> at 0x7f43a310b0d0>\n"
     ]
    },
    {
     "data": {
      "text/latex": [
       "$\\displaystyle \\int_{0}^{+\\infty} \\frac{1}{2} \\, \\sqrt{n_{y}^{2} + u^{2}} f\\left(\\frac{\\pi \\sqrt{n_{y}^{2} + u^{2}}}{a k_{m}}\\right)\\,{d n_{y}}$"
      ],
      "text/plain": [
       "<IPython.core.display.Math object>"
      ]
     },
     "metadata": {},
     "output_type": "display_data"
    }
   ],
   "source": [
    "int_sum_Fu = lambda u, a, k_m : num_int(lambda n_y : sum_dfdx_bernoulis (Fu(u, n_x, n_y, a, k_m), n_x, 0, Infinity,p), 0, Infinity, v = n_y)\n",
    "print(\"int_sum_Fu=\", int_sum_Fu)\n",
    "display(Math(latex(int_sum_Fu(u, a, k_m))))"
   ]
  },
  {
   "cell_type": "code",
   "execution_count": 41,
   "metadata": {},
   "outputs": [
    {
     "name": "stdout",
     "output_type": "stream",
     "text": [
      "int_sum_Fn= <function <lambda> at 0x7f43a310b670>\n"
     ]
    },
    {
     "data": {
      "text/latex": [
       "$\\displaystyle \\int_{0}^{+\\infty} \\frac{\\sqrt{n_{y}^{2} + u^{2}}}{2 \\, {\\left(\\frac{\\pi^{4} {\\left(n_{y}^{2} + u^{2}\\right)}^{2}}{a^{4} k_{m}^{4}} + 1\\right)}}\\,{d n_{y}}$"
      ],
      "text/plain": [
       "<IPython.core.display.Math object>"
      ]
     },
     "metadata": {},
     "output_type": "display_data"
    }
   ],
   "source": [
    "int_sum_Fn = lambda u, a, k_m : num_int(lambda n_y : sum_dfdx_bernoulis (Fn(u, n_x, n_y, a, k_m), n_x, 0, Infinity,p), 0, Infinity, v = n_y)\n",
    "print(\"int_sum_Fn=\", int_sum_Fn)\n",
    "display(Math(latex(int_sum_Fn(u, a, k_m))))"
   ]
  },
  {
   "cell_type": "raw",
   "metadata": {},
   "source": [
    "R_px = euler_maclaurin_R_p(F, n_x, a_x, b_x,p)\n",
    "if type(R_px) is tuple:\n",
    "    inty_R_px = integral(R_px[0], (n_y, a_y, b_y), hold=True)\n",
    "else:\n",
    "    inty_R_px = integral(R_px, (n_y, a_y, b_y), hold=True)\n",
    "\n",
    "print(\"inty_R_px=\",inty_R_px)\n",
    "#print(\"inty_R_px=$\",latex(inty_R_px),\"$\")\n",
    "display(Math(latex(inty_R_px)))\n",
    "\n",
    "inty_R_px = integral_euler_maclaurin_R_p(F, n_x, a_x, b_x, n_y, a_y, b_y, p, diff(F,n_x,p), hold_int=True, hold_sum=True)\n",
    "print(\"inty_R_px=\",inty_R_px)\n",
    "#print(\"inty_R_px=$\",latex(inty_R_px),\"$\")\n",
    "display(Math(latex(inty_R_px)))\n"
   ]
  },
  {
   "cell_type": "code",
   "execution_count": 42,
   "metadata": {},
   "outputs": [
    {
     "name": "stderr",
     "output_type": "stream",
     "text": [
      "No checks were made for singular points of antiderivative 0 for definite integration in [sageVARa_x,sageVARb_x]\n",
      "No checks were made for singular points of antiderivative 0 for definite integration in [sageVARa_x,sageVARb_x]\n"
     ]
    },
    {
     "name": "stdout",
     "output_type": "stream",
     "text": [
      "sum_int_F= 1/2*integrate(F(n_x, a_y), n_x, a_x, b_x) - 1/12*integrate(diff(F(n_x, a_y), a_y), n_x, a_x, b_x) + 1/720*integrate(diff(F(n_x, a_y), a_y, a_y, a_y), n_x, a_x, b_x)\n"
     ]
    },
    {
     "data": {
      "text/latex": [
       "$\\displaystyle \\frac{1}{2} \\, \\int_{a_{x}}^{b_{x}} F\\left(n_{x}, a_{y}\\right)\\,{d n_{x}} - \\frac{1}{12} \\, \\int_{a_{x}}^{b_{x}} \\frac{\\partial}{\\partial a_{y}}F\\left(n_{x}, a_{y}\\right)\\,{d n_{x}} + \\frac{1}{720} \\, \\int_{a_{x}}^{b_{x}} \\frac{\\partial^{3}}{(\\partial a_{y})^{3}}F\\left(n_{x}, a_{y}\\right)\\,{d n_{x}}$"
      ],
      "text/plain": [
       "<IPython.core.display.Math object>"
      ]
     },
     "metadata": {},
     "output_type": "display_data"
    }
   ],
   "source": [
    "sum_int_F = sum_dfdx_bernoulis(integrate           (F,(n_x, a_x, b_x)),  n_y, a_y, b_y, p)\n",
    "print(\"sum_int_F=\",sum_int_F)\n",
    "#print(\"sum_int_F=$\",latex(sum_int_F),\"$\")\n",
    "display(Math(latex(sum_int_F)))"
   ]
  },
  {
   "cell_type": "raw",
   "metadata": {},
   "source": [
    "sum_int = sum_dfdx_bernoulis(integrate           (Fu(u, n_x, n_y, a, k_m),(n_x, a_x, b_x), algorithm=\"sympy\"),  n_y, a_y, b_y, p)\n",
    "print(\"sum_int=\",sum_int)\n",
    "#print(\"sum_int=$\",latex(sum_int),\"$\")\n",
    "display(Math(latex(sum_int)))"
   ]
  },
  {
   "cell_type": "raw",
   "metadata": {},
   "source": [
    "sum_int = sum_dfdx_bernoulis(integrate           (Fn(u, n_x, n_y, a, k_m),(n_x, a_x, b_x), algorithm=\"sympy\"),  n_y, a_y, b_y, p)\n",
    "print(\"sum_int=\",sum_int)\n",
    "#print(\"sum_int=$\",latex(sum_int),\"$\")\n",
    "display(Math(latex(sum_int)))"
   ]
  },
  {
   "cell_type": "code",
   "execution_count": 43,
   "metadata": {},
   "outputs": [
    {
     "name": "stdout",
     "output_type": "stream",
     "text": [
      "sum_sum_F= 1/4*F(a_x, a_y) - 1/24*diff(F(a_x, a_y), a_x) + 1/1440*diff(F(a_x, a_y), a_x, a_x, a_x) - 1/8640*diff(F(a_x, a_y), a_x, a_x, a_x, a_y) + 1/518400*diff(F(a_x, a_y), a_x, a_x, a_x, a_y, a_y, a_y) + 1/144*diff(F(a_x, a_y), a_x, a_y) - 1/8640*diff(F(a_x, a_y), a_x, a_y, a_y, a_y) - 1/24*diff(F(a_x, a_y), a_y) + 1/1440*diff(F(a_x, a_y), a_y, a_y, a_y)\n"
     ]
    },
    {
     "data": {
      "text/latex": [
       "$\\displaystyle \\frac{1}{4} \\, F\\left(a_{x}, a_{y}\\right) - \\frac{1}{24} \\, \\frac{\\partial}{\\partial a_{x}}F\\left(a_{x}, a_{y}\\right) + \\frac{1}{1440} \\, \\frac{\\partial^{3}}{(\\partial a_{x})^{3}}F\\left(a_{x}, a_{y}\\right) - \\frac{1}{8640} \\, \\frac{\\partial^{4}}{(\\partial a_{x})^{3}\\partial a_{y}}F\\left(a_{x}, a_{y}\\right) + \\frac{1}{518400} \\, \\frac{\\partial^{6}}{(\\partial a_{x})^{3}(\\partial a_{y})^{3}}F\\left(a_{x}, a_{y}\\right) + \\frac{1}{144} \\, \\frac{\\partial^{2}}{\\partial a_{x}\\partial a_{y}}F\\left(a_{x}, a_{y}\\right) - \\frac{1}{8640} \\, \\frac{\\partial^{4}}{\\partial a_{x}(\\partial a_{y})^{3}}F\\left(a_{x}, a_{y}\\right) - \\frac{1}{24} \\, \\frac{\\partial}{\\partial a_{y}}F\\left(a_{x}, a_{y}\\right) + \\frac{1}{1440} \\, \\frac{\\partial^{3}}{(\\partial a_{y})^{3}}F\\left(a_{x}, a_{y}\\right)$"
      ],
      "text/plain": [
       "<IPython.core.display.Math object>"
      ]
     },
     "metadata": {},
     "output_type": "display_data"
    }
   ],
   "source": [
    "sum_sum_F = sum_dfdx_bernoulis(sum_dfdx_bernoulis (F, n_x, a_x, b_x,p), n_y, a_y, b_y, p)\n",
    "print(\"sum_sum_F=\",sum_sum_F)\n",
    "#print(\"sum_sum_F=$\",latex(sum_sum_F),\"$\")\n",
    "display(Math(latex(sum_sum_F)))"
   ]
  },
  {
   "cell_type": "code",
   "execution_count": 44,
   "metadata": {},
   "outputs": [
    {
     "name": "stdout",
     "output_type": "stream",
     "text": [
      "sum_sum= 1/4*sqrt(a_x^2 + a_y^2 + u^2)*f(pi*sqrt(a_x^2 + a_y^2 + u^2)/(a*k_m)) - 1/24*a_x*f(pi*sqrt(a_x^2 + a_y^2 + u^2)/(a*k_m))/sqrt(a_x^2 + a_y^2 + u^2) + 1/480*a_x^3*f(pi*sqrt(a_x^2 + a_y^2 + u^2)/(a*k_m))/(a_x^2 + a_y^2 + u^2)^(5/2) - 1/24*a_y*f(pi*sqrt(a_x^2 + a_y^2 + u^2)/(a*k_m))/sqrt(a_x^2 + a_y^2 + u^2) - 1/144*a_x*a_y*f(pi*sqrt(a_x^2 + a_y^2 + u^2)/(a*k_m))/(a_x^2 + a_y^2 + u^2)^(3/2) + 1/576*a_x^3*a_y*f(pi*sqrt(a_x^2 + a_y^2 + u^2)/(a*k_m))/(a_x^2 + a_y^2 + u^2)^(7/2) + 1/480*a_y^3*f(pi*sqrt(a_x^2 + a_y^2 + u^2)/(a*k_m))/(a_x^2 + a_y^2 + u^2)^(5/2) + 1/576*a_x*a_y^3*f(pi*sqrt(a_x^2 + a_y^2 + u^2)/(a*k_m))/(a_x^2 + a_y^2 + u^2)^(7/2) - 7/3840*a_x^3*a_y^3*f(pi*sqrt(a_x^2 + a_y^2 + u^2)/(a*k_m))/(a_x^2 + a_y^2 + u^2)^(11/2) - 1/24*pi*a_x*D[0](f)(pi*sqrt(a_x^2 + a_y^2 + u^2)/(a*k_m))/(a*k_m) - 1/480*pi*a_x^3*D[0](f)(pi*sqrt(a_x^2 + a_y^2 + u^2)/(a*k_m))/((a_x^2 + a_y^2 + u^2)^2*a*k_m) - 1/24*pi*a_y*D[0](f)(pi*sqrt(a_x^2 + a_y^2 + u^2)/(a*k_m))/(a*k_m) + 1/144*pi*a_x*a_y*D[0](f)(pi*sqrt(a_x^2 + a_y^2 + u^2)/(a*k_m))/((a_x^2 + a_y^2 + u^2)*a*k_m) - 1/576*pi*a_x^3*a_y*D[0](f)(pi*sqrt(a_x^2 + a_y^2 + u^2)/(a*k_m))/((a_x^2 + a_y^2 + u^2)^3*a*k_m) - 1/480*pi*a_y^3*D[0](f)(pi*sqrt(a_x^2 + a_y^2 + u^2)/(a*k_m))/((a_x^2 + a_y^2 + u^2)^2*a*k_m) - 1/576*pi*a_x*a_y^3*D[0](f)(pi*sqrt(a_x^2 + a_y^2 + u^2)/(a*k_m))/((a_x^2 + a_y^2 + u^2)^3*a*k_m) + 7/3840*pi*a_x^3*a_y^3*D[0](f)(pi*sqrt(a_x^2 + a_y^2 + u^2)/(a*k_m))/((a_x^2 + a_y^2 + u^2)^5*a*k_m) - 1/480*a_x*f(pi*sqrt(a_x^2 + a_y^2 + u^2)/(a*k_m))/(a_x^2 + a_y^2 + u^2)^(3/2) - 1/480*a_y*f(pi*sqrt(a_x^2 + a_y^2 + u^2)/(a*k_m))/(a_x^2 + a_y^2 + u^2)^(3/2) - 1/480*a_x*a_y*f(pi*sqrt(a_x^2 + a_y^2 + u^2)/(a*k_m))/(a_x^2 + a_y^2 + u^2)^(5/2) + 7/11520*a_x^3*a_y*f(pi*sqrt(a_x^2 + a_y^2 + u^2)/(a*k_m))/(a_x^2 + a_y^2 + u^2)^(9/2) + 7/11520*a_x*a_y^3*f(pi*sqrt(a_x^2 + a_y^2 + u^2)/(a*k_m))/(a_x^2 + a_y^2 + u^2)^(9/2) + 1/144*pi^2*a_x*a_y*D[0, 0](f)(pi*sqrt(a_x^2 + a_y^2 + u^2)/(a*k_m))/(sqrt(a_x^2 + a_y^2 + u^2)*a^2*k_m^2) + 1/2880*pi^2*a_x^3*a_y*D[0, 0](f)(pi*sqrt(a_x^2 + a_y^2 + u^2)/(a*k_m))/((a_x^2 + a_y^2 + u^2)^(5/2)*a^2*k_m^2) + 1/2880*pi^2*a_x*a_y^3*D[0, 0](f)(pi*sqrt(a_x^2 + a_y^2 + u^2)/(a*k_m))/((a_x^2 + a_y^2 + u^2)^(5/2)*a^2*k_m^2) - 7/11520*pi^2*a_x^3*a_y^3*D[0, 0](f)(pi*sqrt(a_x^2 + a_y^2 + u^2)/(a*k_m))/((a_x^2 + a_y^2 + u^2)^(9/2)*a^2*k_m^2) + 1/480*pi*a_x*D[0](f)(pi*sqrt(a_x^2 + a_y^2 + u^2)/(a*k_m))/((a_x^2 + a_y^2 + u^2)*a*k_m) + 1/480*pi*a_y*D[0](f)(pi*sqrt(a_x^2 + a_y^2 + u^2)/(a*k_m))/((a_x^2 + a_y^2 + u^2)*a*k_m) + 1/480*pi*a_x*a_y*D[0](f)(pi*sqrt(a_x^2 + a_y^2 + u^2)/(a*k_m))/((a_x^2 + a_y^2 + u^2)^2*a*k_m) - 7/11520*pi*a_x^3*a_y*D[0](f)(pi*sqrt(a_x^2 + a_y^2 + u^2)/(a*k_m))/((a_x^2 + a_y^2 + u^2)^4*a*k_m) - 7/11520*pi*a_x*a_y^3*D[0](f)(pi*sqrt(a_x^2 + a_y^2 + u^2)/(a*k_m))/((a_x^2 + a_y^2 + u^2)^4*a*k_m) + 1/1440*pi^3*a_x^3*D[0, 0, 0](f)(pi*sqrt(a_x^2 + a_y^2 + u^2)/(a*k_m))/((a_x^2 + a_y^2 + u^2)*a^3*k_m^3) + 1/4320*pi^3*a_x^3*a_y*D[0, 0, 0](f)(pi*sqrt(a_x^2 + a_y^2 + u^2)/(a*k_m))/((a_x^2 + a_y^2 + u^2)^2*a^3*k_m^3) + 1/1440*pi^3*a_y^3*D[0, 0, 0](f)(pi*sqrt(a_x^2 + a_y^2 + u^2)/(a*k_m))/((a_x^2 + a_y^2 + u^2)*a^3*k_m^3) + 1/4320*pi^3*a_x*a_y^3*D[0, 0, 0](f)(pi*sqrt(a_x^2 + a_y^2 + u^2)/(a*k_m))/((a_x^2 + a_y^2 + u^2)^2*a^3*k_m^3) - 1/3840*a_x*a_y*f(pi*sqrt(a_x^2 + a_y^2 + u^2)/(a*k_m))/(a_x^2 + a_y^2 + u^2)^(7/2) + 1/480*pi^2*a_x*D[0, 0](f)(pi*sqrt(a_x^2 + a_y^2 + u^2)/(a*k_m))/(sqrt(a_x^2 + a_y^2 + u^2)*a^2*k_m^2) + 1/480*pi^2*a_y*D[0, 0](f)(pi*sqrt(a_x^2 + a_y^2 + u^2)/(a*k_m))/(sqrt(a_x^2 + a_y^2 + u^2)*a^2*k_m^2) + 1/5760*pi^2*a_x^3*a_y*D[0, 0](f)(pi*sqrt(a_x^2 + a_y^2 + u^2)/(a*k_m))/((a_x^2 + a_y^2 + u^2)^(7/2)*a^2*k_m^2) + 1/5760*pi^2*a_x*a_y^3*D[0, 0](f)(pi*sqrt(a_x^2 + a_y^2 + u^2)/(a*k_m))/((a_x^2 + a_y^2 + u^2)^(7/2)*a^2*k_m^2) - 1/8640*pi^4*a_x^3*a_y*D[0, 0, 0, 0](f)(pi*sqrt(a_x^2 + a_y^2 + u^2)/(a*k_m))/((a_x^2 + a_y^2 + u^2)^(3/2)*a^4*k_m^4) - 1/8640*pi^4*a_x*a_y^3*D[0, 0, 0, 0](f)(pi*sqrt(a_x^2 + a_y^2 + u^2)/(a*k_m))/((a_x^2 + a_y^2 + u^2)^(3/2)*a^4*k_m^4) + 1/17280*pi^4*a_x^3*a_y^3*D[0, 0, 0, 0](f)(pi*sqrt(a_x^2 + a_y^2 + u^2)/(a*k_m))/((a_x^2 + a_y^2 + u^2)^(7/2)*a^4*k_m^4) + 1/3840*pi*a_x*a_y*D[0](f)(pi*sqrt(a_x^2 + a_y^2 + u^2)/(a*k_m))/((a_x^2 + a_y^2 + u^2)^3*a*k_m) - 1/1440*pi^3*a_x*a_y*D[0, 0, 0](f)(pi*sqrt(a_x^2 + a_y^2 + u^2)/(a*k_m))/((a_x^2 + a_y^2 + u^2)*a^3*k_m^3) + 1/34560*pi^3*a_x^3*a_y*D[0, 0, 0](f)(pi*sqrt(a_x^2 + a_y^2 + u^2)/(a*k_m))/((a_x^2 + a_y^2 + u^2)^3*a^3*k_m^3) + 1/34560*pi^3*a_x*a_y^3*D[0, 0, 0](f)(pi*sqrt(a_x^2 + a_y^2 + u^2)/(a*k_m))/((a_x^2 + a_y^2 + u^2)^3*a^3*k_m^3) - 1/57600*pi^5*a_x^3*a_y^3*D[0, 0, 0, 0, 0](f)(pi*sqrt(a_x^2 + a_y^2 + u^2)/(a*k_m))/((a_x^2 + a_y^2 + u^2)^3*a^5*k_m^5) - 1/19200*pi^2*a_x*a_y*D[0, 0](f)(pi*sqrt(a_x^2 + a_y^2 + u^2)/(a*k_m))/((a_x^2 + a_y^2 + u^2)^(5/2)*a^2*k_m^2) - 1/34560*pi^4*a_x^3*a_y*D[0, 0, 0, 0](f)(pi*sqrt(a_x^2 + a_y^2 + u^2)/(a*k_m))/((a_x^2 + a_y^2 + u^2)^(5/2)*a^4*k_m^4) - 1/34560*pi^4*a_x*a_y^3*D[0, 0, 0, 0](f)(pi*sqrt(a_x^2 + a_y^2 + u^2)/(a*k_m))/((a_x^2 + a_y^2 + u^2)^(5/2)*a^4*k_m^4) + 1/518400*pi^6*a_x^3*a_y^3*D[0, 0, 0, 0, 0, 0](f)(pi*sqrt(a_x^2 + a_y^2 + u^2)/(a*k_m))/((a_x^2 + a_y^2 + u^2)^(5/2)*a^6*k_m^6) - 1/28800*pi^3*a_x*a_y*D[0, 0, 0](f)(pi*sqrt(a_x^2 + a_y^2 + u^2)/(a*k_m))/((a_x^2 + a_y^2 + u^2)^2*a^3*k_m^3) + 1/172800*pi^5*a_x^3*a_y*D[0, 0, 0, 0, 0](f)(pi*sqrt(a_x^2 + a_y^2 + u^2)/(a*k_m))/((a_x^2 + a_y^2 + u^2)^2*a^5*k_m^5) + 1/172800*pi^5*a_x*a_y^3*D[0, 0, 0, 0, 0](f)(pi*sqrt(a_x^2 + a_y^2 + u^2)/(a*k_m))/((a_x^2 + a_y^2 + u^2)^2*a^5*k_m^5) + 1/57600*pi^4*a_x*a_y*D[0, 0, 0, 0](f)(pi*sqrt(a_x^2 + a_y^2 + u^2)/(a*k_m))/((a_x^2 + a_y^2 + u^2)^(3/2)*a^4*k_m^4)\n"
     ]
    },
    {
     "data": {
      "text/latex": [
       "$\\displaystyle \\frac{1}{4} \\, \\sqrt{a_{x}^{2} + a_{y}^{2} + u^{2}} f\\left(\\frac{\\pi \\sqrt{a_{x}^{2} + a_{y}^{2} + u^{2}}}{a k_{m}}\\right) - \\frac{a_{x} f\\left(\\frac{\\pi \\sqrt{a_{x}^{2} + a_{y}^{2} + u^{2}}}{a k_{m}}\\right)}{24 \\, \\sqrt{a_{x}^{2} + a_{y}^{2} + u^{2}}} + \\frac{a_{x}^{3} f\\left(\\frac{\\pi \\sqrt{a_{x}^{2} + a_{y}^{2} + u^{2}}}{a k_{m}}\\right)}{480 \\, {\\left(a_{x}^{2} + a_{y}^{2} + u^{2}\\right)}^{\\frac{5}{2}}} - \\frac{a_{y} f\\left(\\frac{\\pi \\sqrt{a_{x}^{2} + a_{y}^{2} + u^{2}}}{a k_{m}}\\right)}{24 \\, \\sqrt{a_{x}^{2} + a_{y}^{2} + u^{2}}} - \\frac{a_{x} a_{y} f\\left(\\frac{\\pi \\sqrt{a_{x}^{2} + a_{y}^{2} + u^{2}}}{a k_{m}}\\right)}{144 \\, {\\left(a_{x}^{2} + a_{y}^{2} + u^{2}\\right)}^{\\frac{3}{2}}} + \\frac{a_{x}^{3} a_{y} f\\left(\\frac{\\pi \\sqrt{a_{x}^{2} + a_{y}^{2} + u^{2}}}{a k_{m}}\\right)}{576 \\, {\\left(a_{x}^{2} + a_{y}^{2} + u^{2}\\right)}^{\\frac{7}{2}}} + \\frac{a_{y}^{3} f\\left(\\frac{\\pi \\sqrt{a_{x}^{2} + a_{y}^{2} + u^{2}}}{a k_{m}}\\right)}{480 \\, {\\left(a_{x}^{2} + a_{y}^{2} + u^{2}\\right)}^{\\frac{5}{2}}} + \\frac{a_{x} a_{y}^{3} f\\left(\\frac{\\pi \\sqrt{a_{x}^{2} + a_{y}^{2} + u^{2}}}{a k_{m}}\\right)}{576 \\, {\\left(a_{x}^{2} + a_{y}^{2} + u^{2}\\right)}^{\\frac{7}{2}}} - \\frac{7 \\, a_{x}^{3} a_{y}^{3} f\\left(\\frac{\\pi \\sqrt{a_{x}^{2} + a_{y}^{2} + u^{2}}}{a k_{m}}\\right)}{3840 \\, {\\left(a_{x}^{2} + a_{y}^{2} + u^{2}\\right)}^{\\frac{11}{2}}} - \\frac{\\pi a_{x} \\mathrm{D}_{0}\\left(f\\right)\\left(\\frac{\\pi \\sqrt{a_{x}^{2} + a_{y}^{2} + u^{2}}}{a k_{m}}\\right)}{24 \\, a k_{m}} - \\frac{\\pi a_{x}^{3} \\mathrm{D}_{0}\\left(f\\right)\\left(\\frac{\\pi \\sqrt{a_{x}^{2} + a_{y}^{2} + u^{2}}}{a k_{m}}\\right)}{480 \\, {\\left(a_{x}^{2} + a_{y}^{2} + u^{2}\\right)}^{2} a k_{m}} - \\frac{\\pi a_{y} \\mathrm{D}_{0}\\left(f\\right)\\left(\\frac{\\pi \\sqrt{a_{x}^{2} + a_{y}^{2} + u^{2}}}{a k_{m}}\\right)}{24 \\, a k_{m}} + \\frac{\\pi a_{x} a_{y} \\mathrm{D}_{0}\\left(f\\right)\\left(\\frac{\\pi \\sqrt{a_{x}^{2} + a_{y}^{2} + u^{2}}}{a k_{m}}\\right)}{144 \\, {\\left(a_{x}^{2} + a_{y}^{2} + u^{2}\\right)} a k_{m}} - \\frac{\\pi a_{x}^{3} a_{y} \\mathrm{D}_{0}\\left(f\\right)\\left(\\frac{\\pi \\sqrt{a_{x}^{2} + a_{y}^{2} + u^{2}}}{a k_{m}}\\right)}{576 \\, {\\left(a_{x}^{2} + a_{y}^{2} + u^{2}\\right)}^{3} a k_{m}} - \\frac{\\pi a_{y}^{3} \\mathrm{D}_{0}\\left(f\\right)\\left(\\frac{\\pi \\sqrt{a_{x}^{2} + a_{y}^{2} + u^{2}}}{a k_{m}}\\right)}{480 \\, {\\left(a_{x}^{2} + a_{y}^{2} + u^{2}\\right)}^{2} a k_{m}} - \\frac{\\pi a_{x} a_{y}^{3} \\mathrm{D}_{0}\\left(f\\right)\\left(\\frac{\\pi \\sqrt{a_{x}^{2} + a_{y}^{2} + u^{2}}}{a k_{m}}\\right)}{576 \\, {\\left(a_{x}^{2} + a_{y}^{2} + u^{2}\\right)}^{3} a k_{m}} + \\frac{7 \\, \\pi a_{x}^{3} a_{y}^{3} \\mathrm{D}_{0}\\left(f\\right)\\left(\\frac{\\pi \\sqrt{a_{x}^{2} + a_{y}^{2} + u^{2}}}{a k_{m}}\\right)}{3840 \\, {\\left(a_{x}^{2} + a_{y}^{2} + u^{2}\\right)}^{5} a k_{m}} - \\frac{a_{x} f\\left(\\frac{\\pi \\sqrt{a_{x}^{2} + a_{y}^{2} + u^{2}}}{a k_{m}}\\right)}{480 \\, {\\left(a_{x}^{2} + a_{y}^{2} + u^{2}\\right)}^{\\frac{3}{2}}} - \\frac{a_{y} f\\left(\\frac{\\pi \\sqrt{a_{x}^{2} + a_{y}^{2} + u^{2}}}{a k_{m}}\\right)}{480 \\, {\\left(a_{x}^{2} + a_{y}^{2} + u^{2}\\right)}^{\\frac{3}{2}}} - \\frac{a_{x} a_{y} f\\left(\\frac{\\pi \\sqrt{a_{x}^{2} + a_{y}^{2} + u^{2}}}{a k_{m}}\\right)}{480 \\, {\\left(a_{x}^{2} + a_{y}^{2} + u^{2}\\right)}^{\\frac{5}{2}}} + \\frac{7 \\, a_{x}^{3} a_{y} f\\left(\\frac{\\pi \\sqrt{a_{x}^{2} + a_{y}^{2} + u^{2}}}{a k_{m}}\\right)}{11520 \\, {\\left(a_{x}^{2} + a_{y}^{2} + u^{2}\\right)}^{\\frac{9}{2}}} + \\frac{7 \\, a_{x} a_{y}^{3} f\\left(\\frac{\\pi \\sqrt{a_{x}^{2} + a_{y}^{2} + u^{2}}}{a k_{m}}\\right)}{11520 \\, {\\left(a_{x}^{2} + a_{y}^{2} + u^{2}\\right)}^{\\frac{9}{2}}} + \\frac{\\pi^{2} a_{x} a_{y} \\mathrm{D}_{0, 0}\\left(f\\right)\\left(\\frac{\\pi \\sqrt{a_{x}^{2} + a_{y}^{2} + u^{2}}}{a k_{m}}\\right)}{144 \\, \\sqrt{a_{x}^{2} + a_{y}^{2} + u^{2}} a^{2} k_{m}^{2}} + \\frac{\\pi^{2} a_{x}^{3} a_{y} \\mathrm{D}_{0, 0}\\left(f\\right)\\left(\\frac{\\pi \\sqrt{a_{x}^{2} + a_{y}^{2} + u^{2}}}{a k_{m}}\\right)}{2880 \\, {\\left(a_{x}^{2} + a_{y}^{2} + u^{2}\\right)}^{\\frac{5}{2}} a^{2} k_{m}^{2}} + \\frac{\\pi^{2} a_{x} a_{y}^{3} \\mathrm{D}_{0, 0}\\left(f\\right)\\left(\\frac{\\pi \\sqrt{a_{x}^{2} + a_{y}^{2} + u^{2}}}{a k_{m}}\\right)}{2880 \\, {\\left(a_{x}^{2} + a_{y}^{2} + u^{2}\\right)}^{\\frac{5}{2}} a^{2} k_{m}^{2}} - \\frac{7 \\, \\pi^{2} a_{x}^{3} a_{y}^{3} \\mathrm{D}_{0, 0}\\left(f\\right)\\left(\\frac{\\pi \\sqrt{a_{x}^{2} + a_{y}^{2} + u^{2}}}{a k_{m}}\\right)}{11520 \\, {\\left(a_{x}^{2} + a_{y}^{2} + u^{2}\\right)}^{\\frac{9}{2}} a^{2} k_{m}^{2}} + \\frac{\\pi a_{x} \\mathrm{D}_{0}\\left(f\\right)\\left(\\frac{\\pi \\sqrt{a_{x}^{2} + a_{y}^{2} + u^{2}}}{a k_{m}}\\right)}{480 \\, {\\left(a_{x}^{2} + a_{y}^{2} + u^{2}\\right)} a k_{m}} + \\frac{\\pi a_{y} \\mathrm{D}_{0}\\left(f\\right)\\left(\\frac{\\pi \\sqrt{a_{x}^{2} + a_{y}^{2} + u^{2}}}{a k_{m}}\\right)}{480 \\, {\\left(a_{x}^{2} + a_{y}^{2} + u^{2}\\right)} a k_{m}} + \\frac{\\pi a_{x} a_{y} \\mathrm{D}_{0}\\left(f\\right)\\left(\\frac{\\pi \\sqrt{a_{x}^{2} + a_{y}^{2} + u^{2}}}{a k_{m}}\\right)}{480 \\, {\\left(a_{x}^{2} + a_{y}^{2} + u^{2}\\right)}^{2} a k_{m}} - \\frac{7 \\, \\pi a_{x}^{3} a_{y} \\mathrm{D}_{0}\\left(f\\right)\\left(\\frac{\\pi \\sqrt{a_{x}^{2} + a_{y}^{2} + u^{2}}}{a k_{m}}\\right)}{11520 \\, {\\left(a_{x}^{2} + a_{y}^{2} + u^{2}\\right)}^{4} a k_{m}} - \\frac{7 \\, \\pi a_{x} a_{y}^{3} \\mathrm{D}_{0}\\left(f\\right)\\left(\\frac{\\pi \\sqrt{a_{x}^{2} + a_{y}^{2} + u^{2}}}{a k_{m}}\\right)}{11520 \\, {\\left(a_{x}^{2} + a_{y}^{2} + u^{2}\\right)}^{4} a k_{m}} + \\frac{\\pi^{3} a_{x}^{3} \\mathrm{D}_{0, 0, 0}\\left(f\\right)\\left(\\frac{\\pi \\sqrt{a_{x}^{2} + a_{y}^{2} + u^{2}}}{a k_{m}}\\right)}{1440 \\, {\\left(a_{x}^{2} + a_{y}^{2} + u^{2}\\right)} a^{3} k_{m}^{3}} + \\frac{\\pi^{3} a_{x}^{3} a_{y} \\mathrm{D}_{0, 0, 0}\\left(f\\right)\\left(\\frac{\\pi \\sqrt{a_{x}^{2} + a_{y}^{2} + u^{2}}}{a k_{m}}\\right)}{4320 \\, {\\left(a_{x}^{2} + a_{y}^{2} + u^{2}\\right)}^{2} a^{3} k_{m}^{3}} + \\frac{\\pi^{3} a_{y}^{3} \\mathrm{D}_{0, 0, 0}\\left(f\\right)\\left(\\frac{\\pi \\sqrt{a_{x}^{2} + a_{y}^{2} + u^{2}}}{a k_{m}}\\right)}{1440 \\, {\\left(a_{x}^{2} + a_{y}^{2} + u^{2}\\right)} a^{3} k_{m}^{3}} + \\frac{\\pi^{3} a_{x} a_{y}^{3} \\mathrm{D}_{0, 0, 0}\\left(f\\right)\\left(\\frac{\\pi \\sqrt{a_{x}^{2} + a_{y}^{2} + u^{2}}}{a k_{m}}\\right)}{4320 \\, {\\left(a_{x}^{2} + a_{y}^{2} + u^{2}\\right)}^{2} a^{3} k_{m}^{3}} - \\frac{a_{x} a_{y} f\\left(\\frac{\\pi \\sqrt{a_{x}^{2} + a_{y}^{2} + u^{2}}}{a k_{m}}\\right)}{3840 \\, {\\left(a_{x}^{2} + a_{y}^{2} + u^{2}\\right)}^{\\frac{7}{2}}} + \\frac{\\pi^{2} a_{x} \\mathrm{D}_{0, 0}\\left(f\\right)\\left(\\frac{\\pi \\sqrt{a_{x}^{2} + a_{y}^{2} + u^{2}}}{a k_{m}}\\right)}{480 \\, \\sqrt{a_{x}^{2} + a_{y}^{2} + u^{2}} a^{2} k_{m}^{2}} + \\frac{\\pi^{2} a_{y} \\mathrm{D}_{0, 0}\\left(f\\right)\\left(\\frac{\\pi \\sqrt{a_{x}^{2} + a_{y}^{2} + u^{2}}}{a k_{m}}\\right)}{480 \\, \\sqrt{a_{x}^{2} + a_{y}^{2} + u^{2}} a^{2} k_{m}^{2}} + \\frac{\\pi^{2} a_{x}^{3} a_{y} \\mathrm{D}_{0, 0}\\left(f\\right)\\left(\\frac{\\pi \\sqrt{a_{x}^{2} + a_{y}^{2} + u^{2}}}{a k_{m}}\\right)}{5760 \\, {\\left(a_{x}^{2} + a_{y}^{2} + u^{2}\\right)}^{\\frac{7}{2}} a^{2} k_{m}^{2}} + \\frac{\\pi^{2} a_{x} a_{y}^{3} \\mathrm{D}_{0, 0}\\left(f\\right)\\left(\\frac{\\pi \\sqrt{a_{x}^{2} + a_{y}^{2} + u^{2}}}{a k_{m}}\\right)}{5760 \\, {\\left(a_{x}^{2} + a_{y}^{2} + u^{2}\\right)}^{\\frac{7}{2}} a^{2} k_{m}^{2}} - \\frac{\\pi^{4} a_{x}^{3} a_{y} \\mathrm{D}_{0, 0, 0, 0}\\left(f\\right)\\left(\\frac{\\pi \\sqrt{a_{x}^{2} + a_{y}^{2} + u^{2}}}{a k_{m}}\\right)}{8640 \\, {\\left(a_{x}^{2} + a_{y}^{2} + u^{2}\\right)}^{\\frac{3}{2}} a^{4} k_{m}^{4}} - \\frac{\\pi^{4} a_{x} a_{y}^{3} \\mathrm{D}_{0, 0, 0, 0}\\left(f\\right)\\left(\\frac{\\pi \\sqrt{a_{x}^{2} + a_{y}^{2} + u^{2}}}{a k_{m}}\\right)}{8640 \\, {\\left(a_{x}^{2} + a_{y}^{2} + u^{2}\\right)}^{\\frac{3}{2}} a^{4} k_{m}^{4}} + \\frac{\\pi^{4} a_{x}^{3} a_{y}^{3} \\mathrm{D}_{0, 0, 0, 0}\\left(f\\right)\\left(\\frac{\\pi \\sqrt{a_{x}^{2} + a_{y}^{2} + u^{2}}}{a k_{m}}\\right)}{17280 \\, {\\left(a_{x}^{2} + a_{y}^{2} + u^{2}\\right)}^{\\frac{7}{2}} a^{4} k_{m}^{4}} + \\frac{\\pi a_{x} a_{y} \\mathrm{D}_{0}\\left(f\\right)\\left(\\frac{\\pi \\sqrt{a_{x}^{2} + a_{y}^{2} + u^{2}}}{a k_{m}}\\right)}{3840 \\, {\\left(a_{x}^{2} + a_{y}^{2} + u^{2}\\right)}^{3} a k_{m}} - \\frac{\\pi^{3} a_{x} a_{y} \\mathrm{D}_{0, 0, 0}\\left(f\\right)\\left(\\frac{\\pi \\sqrt{a_{x}^{2} + a_{y}^{2} + u^{2}}}{a k_{m}}\\right)}{1440 \\, {\\left(a_{x}^{2} + a_{y}^{2} + u^{2}\\right)} a^{3} k_{m}^{3}} + \\frac{\\pi^{3} a_{x}^{3} a_{y} \\mathrm{D}_{0, 0, 0}\\left(f\\right)\\left(\\frac{\\pi \\sqrt{a_{x}^{2} + a_{y}^{2} + u^{2}}}{a k_{m}}\\right)}{34560 \\, {\\left(a_{x}^{2} + a_{y}^{2} + u^{2}\\right)}^{3} a^{3} k_{m}^{3}} + \\frac{\\pi^{3} a_{x} a_{y}^{3} \\mathrm{D}_{0, 0, 0}\\left(f\\right)\\left(\\frac{\\pi \\sqrt{a_{x}^{2} + a_{y}^{2} + u^{2}}}{a k_{m}}\\right)}{34560 \\, {\\left(a_{x}^{2} + a_{y}^{2} + u^{2}\\right)}^{3} a^{3} k_{m}^{3}} - \\frac{\\pi^{5} a_{x}^{3} a_{y}^{3} \\mathrm{D}_{0, 0, 0, 0, 0}\\left(f\\right)\\left(\\frac{\\pi \\sqrt{a_{x}^{2} + a_{y}^{2} + u^{2}}}{a k_{m}}\\right)}{57600 \\, {\\left(a_{x}^{2} + a_{y}^{2} + u^{2}\\right)}^{3} a^{5} k_{m}^{5}} - \\frac{\\pi^{2} a_{x} a_{y} \\mathrm{D}_{0, 0}\\left(f\\right)\\left(\\frac{\\pi \\sqrt{a_{x}^{2} + a_{y}^{2} + u^{2}}}{a k_{m}}\\right)}{19200 \\, {\\left(a_{x}^{2} + a_{y}^{2} + u^{2}\\right)}^{\\frac{5}{2}} a^{2} k_{m}^{2}} - \\frac{\\pi^{4} a_{x}^{3} a_{y} \\mathrm{D}_{0, 0, 0, 0}\\left(f\\right)\\left(\\frac{\\pi \\sqrt{a_{x}^{2} + a_{y}^{2} + u^{2}}}{a k_{m}}\\right)}{34560 \\, {\\left(a_{x}^{2} + a_{y}^{2} + u^{2}\\right)}^{\\frac{5}{2}} a^{4} k_{m}^{4}} - \\frac{\\pi^{4} a_{x} a_{y}^{3} \\mathrm{D}_{0, 0, 0, 0}\\left(f\\right)\\left(\\frac{\\pi \\sqrt{a_{x}^{2} + a_{y}^{2} + u^{2}}}{a k_{m}}\\right)}{34560 \\, {\\left(a_{x}^{2} + a_{y}^{2} + u^{2}\\right)}^{\\frac{5}{2}} a^{4} k_{m}^{4}} + \\frac{\\pi^{6} a_{x}^{3} a_{y}^{3} \\mathrm{D}_{0, 0, 0, 0, 0, 0}\\left(f\\right)\\left(\\frac{\\pi \\sqrt{a_{x}^{2} + a_{y}^{2} + u^{2}}}{a k_{m}}\\right)}{518400 \\, {\\left(a_{x}^{2} + a_{y}^{2} + u^{2}\\right)}^{\\frac{5}{2}} a^{6} k_{m}^{6}} - \\frac{\\pi^{3} a_{x} a_{y} \\mathrm{D}_{0, 0, 0}\\left(f\\right)\\left(\\frac{\\pi \\sqrt{a_{x}^{2} + a_{y}^{2} + u^{2}}}{a k_{m}}\\right)}{28800 \\, {\\left(a_{x}^{2} + a_{y}^{2} + u^{2}\\right)}^{2} a^{3} k_{m}^{3}} + \\frac{\\pi^{5} a_{x}^{3} a_{y} \\mathrm{D}_{0, 0, 0, 0, 0}\\left(f\\right)\\left(\\frac{\\pi \\sqrt{a_{x}^{2} + a_{y}^{2} + u^{2}}}{a k_{m}}\\right)}{172800 \\, {\\left(a_{x}^{2} + a_{y}^{2} + u^{2}\\right)}^{2} a^{5} k_{m}^{5}} + \\frac{\\pi^{5} a_{x} a_{y}^{3} \\mathrm{D}_{0, 0, 0, 0, 0}\\left(f\\right)\\left(\\frac{\\pi \\sqrt{a_{x}^{2} + a_{y}^{2} + u^{2}}}{a k_{m}}\\right)}{172800 \\, {\\left(a_{x}^{2} + a_{y}^{2} + u^{2}\\right)}^{2} a^{5} k_{m}^{5}} + \\frac{\\pi^{4} a_{x} a_{y} \\mathrm{D}_{0, 0, 0, 0}\\left(f\\right)\\left(\\frac{\\pi \\sqrt{a_{x}^{2} + a_{y}^{2} + u^{2}}}{a k_{m}}\\right)}{57600 \\, {\\left(a_{x}^{2} + a_{y}^{2} + u^{2}\\right)}^{\\frac{3}{2}} a^{4} k_{m}^{4}}$"
      ],
      "text/plain": [
       "<IPython.core.display.Math object>"
      ]
     },
     "metadata": {},
     "output_type": "display_data"
    }
   ],
   "source": [
    "sum_sum = sum_dfdx_bernoulis(sum_dfdx_bernoulis (Fu(u, n_x, n_y, a, k_m), n_x, a_x, b_x,p), n_y, a_y, b_y, p)\n",
    "print(\"sum_sum=\",sum_sum)\n",
    "#print(\"sum_sum=$\",latex(sum_sum),\"$\")\n",
    "display(Math(latex(sum_sum)))"
   ]
  },
  {
   "cell_type": "code",
   "execution_count": 45,
   "metadata": {},
   "outputs": [
    {
     "name": "stdout",
     "output_type": "stream",
     "text": [
      "sum_sum= 1/4*sqrt(a_x^2 + a_y^2 + u^2)/(pi^4*(a_x^2 + a_y^2 + u^2)^2/(a^4*k_m^4) + 1) - 1/24*a_x/(sqrt(a_x^2 + a_y^2 + u^2)*(pi^4*(a_x^2 + a_y^2 + u^2)^2/(a^4*k_m^4) + 1)) + 1/480*a_x^3/((a_x^2 + a_y^2 + u^2)^(5/2)*(pi^4*(a_x^2 + a_y^2 + u^2)^2/(a^4*k_m^4) + 1)) - 1/24*a_y/(sqrt(a_x^2 + a_y^2 + u^2)*(pi^4*(a_x^2 + a_y^2 + u^2)^2/(a^4*k_m^4) + 1)) - 1/144*a_x*a_y/((a_x^2 + a_y^2 + u^2)^(3/2)*(pi^4*(a_x^2 + a_y^2 + u^2)^2/(a^4*k_m^4) + 1)) + 1/576*a_x^3*a_y/((a_x^2 + a_y^2 + u^2)^(7/2)*(pi^4*(a_x^2 + a_y^2 + u^2)^2/(a^4*k_m^4) + 1)) + 1/480*a_y^3/((a_x^2 + a_y^2 + u^2)^(5/2)*(pi^4*(a_x^2 + a_y^2 + u^2)^2/(a^4*k_m^4) + 1)) + 1/576*a_x*a_y^3/((a_x^2 + a_y^2 + u^2)^(7/2)*(pi^4*(a_x^2 + a_y^2 + u^2)^2/(a^4*k_m^4) + 1)) - 7/3840*a_x^3*a_y^3/((a_x^2 + a_y^2 + u^2)^(11/2)*(pi^4*(a_x^2 + a_y^2 + u^2)^2/(a^4*k_m^4) + 1)) - 1/480*a_x/((a_x^2 + a_y^2 + u^2)^(3/2)*(pi^4*(a_x^2 + a_y^2 + u^2)^2/(a^4*k_m^4) + 1)) - 1/480*a_y/((a_x^2 + a_y^2 + u^2)^(3/2)*(pi^4*(a_x^2 + a_y^2 + u^2)^2/(a^4*k_m^4) + 1)) - 1/480*a_x*a_y/((a_x^2 + a_y^2 + u^2)^(5/2)*(pi^4*(a_x^2 + a_y^2 + u^2)^2/(a^4*k_m^4) + 1)) + 7/11520*a_x^3*a_y/((a_x^2 + a_y^2 + u^2)^(9/2)*(pi^4*(a_x^2 + a_y^2 + u^2)^2/(a^4*k_m^4) + 1)) + 7/11520*a_x*a_y^3/((a_x^2 + a_y^2 + u^2)^(9/2)*(pi^4*(a_x^2 + a_y^2 + u^2)^2/(a^4*k_m^4) + 1)) - 1/3840*a_x*a_y/((a_x^2 + a_y^2 + u^2)^(7/2)*(pi^4*(a_x^2 + a_y^2 + u^2)^2/(a^4*k_m^4) + 1)) + 1/6*pi^4*(a_x^2 + a_y^2 + u^2)^(3/2)*a_x/(a^4*k_m^4*(pi^4*(a_x^2 + a_y^2 + u^2)^2/(a^4*k_m^4) + 1)^2) - 1/120*pi^4*a_x^3/(sqrt(a_x^2 + a_y^2 + u^2)*a^4*k_m^4*(pi^4*(a_x^2 + a_y^2 + u^2)^2/(a^4*k_m^4) + 1)^2) + 1/6*pi^4*(a_x^2 + a_y^2 + u^2)^(3/2)*a_y/(a^4*k_m^4*(pi^4*(a_x^2 + a_y^2 + u^2)^2/(a^4*k_m^4) + 1)^2) - 1/9*pi^4*sqrt(a_x^2 + a_y^2 + u^2)*a_x*a_y/(a^4*k_m^4*(pi^4*(a_x^2 + a_y^2 + u^2)^2/(a^4*k_m^4) + 1)^2) - 1/120*pi^4*a_y^3/(sqrt(a_x^2 + a_y^2 + u^2)*a^4*k_m^4*(pi^4*(a_x^2 + a_y^2 + u^2)^2/(a^4*k_m^4) + 1)^2) - 1/720*pi^4*a_x^3*a_y^3/((a_x^2 + a_y^2 + u^2)^(7/2)*a^4*k_m^4*(pi^4*(a_x^2 + a_y^2 + u^2)^2/(a^4*k_m^4) + 1)^2) - 1/30*pi^4*sqrt(a_x^2 + a_y^2 + u^2)*a_x/(a^4*k_m^4*(pi^4*(a_x^2 + a_y^2 + u^2)^2/(a^4*k_m^4) + 1)^2) - 1/30*pi^4*sqrt(a_x^2 + a_y^2 + u^2)*a_y/(a^4*k_m^4*(pi^4*(a_x^2 + a_y^2 + u^2)^2/(a^4*k_m^4) + 1)^2) + 1/120*pi^4*a_x*a_y/(sqrt(a_x^2 + a_y^2 + u^2)*a^4*k_m^4*(pi^4*(a_x^2 + a_y^2 + u^2)^2/(a^4*k_m^4) + 1)^2) + 1/2880*pi^4*a_x^3*a_y/((a_x^2 + a_y^2 + u^2)^(5/2)*a^4*k_m^4*(pi^4*(a_x^2 + a_y^2 + u^2)^2/(a^4*k_m^4) + 1)^2) + 1/2880*pi^4*a_x*a_y^3/((a_x^2 + a_y^2 + u^2)^(5/2)*a^4*k_m^4*(pi^4*(a_x^2 + a_y^2 + u^2)^2/(a^4*k_m^4) + 1)^2) + 1/5*pi^8*(a_x^2 + a_y^2 + u^2)^(3/2)*a_x^3/(a^8*k_m^8*(pi^4*(a_x^2 + a_y^2 + u^2)^2/(a^4*k_m^4) + 1)^3) + 2/9*pi^8*(a_x^2 + a_y^2 + u^2)^(5/2)*a_x*a_y/(a^8*k_m^8*(pi^4*(a_x^2 + a_y^2 + u^2)^2/(a^4*k_m^4) + 1)^3) - 1/9*pi^8*sqrt(a_x^2 + a_y^2 + u^2)*a_x^3*a_y/(a^8*k_m^8*(pi^4*(a_x^2 + a_y^2 + u^2)^2/(a^4*k_m^4) + 1)^3) + 1/5*pi^8*(a_x^2 + a_y^2 + u^2)^(3/2)*a_y^3/(a^8*k_m^8*(pi^4*(a_x^2 + a_y^2 + u^2)^2/(a^4*k_m^4) + 1)^3) - 1/9*pi^8*sqrt(a_x^2 + a_y^2 + u^2)*a_x*a_y^3/(a^8*k_m^8*(pi^4*(a_x^2 + a_y^2 + u^2)^2/(a^4*k_m^4) + 1)^3) - 1/360*pi^8*a_x^3*a_y^3/((a_x^2 + a_y^2 + u^2)^(3/2)*a^8*k_m^8*(pi^4*(a_x^2 + a_y^2 + u^2)^2/(a^4*k_m^4) + 1)^3) + 1/15*pi^8*(a_x^2 + a_y^2 + u^2)^(5/2)*a_x/(a^8*k_m^8*(pi^4*(a_x^2 + a_y^2 + u^2)^2/(a^4*k_m^4) + 1)^3) + 1/15*pi^8*(a_x^2 + a_y^2 + u^2)^(5/2)*a_y/(a^8*k_m^8*(pi^4*(a_x^2 + a_y^2 + u^2)^2/(a^4*k_m^4) + 1)^3) - 1/5*pi^8*(a_x^2 + a_y^2 + u^2)^(3/2)*a_x*a_y/(a^8*k_m^8*(pi^4*(a_x^2 + a_y^2 + u^2)^2/(a^4*k_m^4) + 1)^3) + 1/180*pi^8*a_x^3*a_y/(sqrt(a_x^2 + a_y^2 + u^2)*a^8*k_m^8*(pi^4*(a_x^2 + a_y^2 + u^2)^2/(a^4*k_m^4) + 1)^3) + 1/180*pi^8*a_x*a_y^3/(sqrt(a_x^2 + a_y^2 + u^2)*a^8*k_m^8*(pi^4*(a_x^2 + a_y^2 + u^2)^2/(a^4*k_m^4) + 1)^3) + 1/60*pi^8*sqrt(a_x^2 + a_y^2 + u^2)*a_x*a_y/(a^8*k_m^8*(pi^4*(a_x^2 + a_y^2 + u^2)^2/(a^4*k_m^4) + 1)^3) - 4/15*pi^12*(a_x^2 + a_y^2 + u^2)^(7/2)*a_x^3/(a^12*k_m^12*(pi^4*(a_x^2 + a_y^2 + u^2)^2/(a^4*k_m^4) + 1)^4) + 32/45*pi^12*(a_x^2 + a_y^2 + u^2)^(5/2)*a_x^3*a_y/(a^12*k_m^12*(pi^4*(a_x^2 + a_y^2 + u^2)^2/(a^4*k_m^4) + 1)^4) - 4/15*pi^12*(a_x^2 + a_y^2 + u^2)^(7/2)*a_y^3/(a^12*k_m^12*(pi^4*(a_x^2 + a_y^2 + u^2)^2/(a^4*k_m^4) + 1)^4) + 32/45*pi^12*(a_x^2 + a_y^2 + u^2)^(5/2)*a_x*a_y^3/(a^12*k_m^12*(pi^4*(a_x^2 + a_y^2 + u^2)^2/(a^4*k_m^4) + 1)^4) - 4/15*pi^12*sqrt(a_x^2 + a_y^2 + u^2)*a_x^3*a_y^3/(a^12*k_m^12*(pi^4*(a_x^2 + a_y^2 + u^2)^2/(a^4*k_m^4) + 1)^4) + 4/15*pi^12*(a_x^2 + a_y^2 + u^2)^(7/2)*a_x*a_y/(a^12*k_m^12*(pi^4*(a_x^2 + a_y^2 + u^2)^2/(a^4*k_m^4) + 1)^4) - 11/45*pi^12*(a_x^2 + a_y^2 + u^2)^(3/2)*a_x^3*a_y/(a^12*k_m^12*(pi^4*(a_x^2 + a_y^2 + u^2)^2/(a^4*k_m^4) + 1)^4) - 11/45*pi^12*(a_x^2 + a_y^2 + u^2)^(3/2)*a_x*a_y^3/(a^12*k_m^12*(pi^4*(a_x^2 + a_y^2 + u^2)^2/(a^4*k_m^4) + 1)^4) - 8/75*pi^12*(a_x^2 + a_y^2 + u^2)^(5/2)*a_x*a_y/(a^12*k_m^12*(pi^4*(a_x^2 + a_y^2 + u^2)^2/(a^4*k_m^4) + 1)^4) - 32/45*pi^16*(a_x^2 + a_y^2 + u^2)^(9/2)*a_x^3*a_y/(a^16*k_m^16*(pi^4*(a_x^2 + a_y^2 + u^2)^2/(a^4*k_m^4) + 1)^5) - 32/45*pi^16*(a_x^2 + a_y^2 + u^2)^(9/2)*a_x*a_y^3/(a^16*k_m^16*(pi^4*(a_x^2 + a_y^2 + u^2)^2/(a^4*k_m^4) + 1)^5) + 152/45*pi^16*(a_x^2 + a_y^2 + u^2)^(5/2)*a_x^3*a_y^3/(a^16*k_m^16*(pi^4*(a_x^2 + a_y^2 + u^2)^2/(a^4*k_m^4) + 1)^5) + 8/9*pi^16*(a_x^2 + a_y^2 + u^2)^(7/2)*a_x^3*a_y/(a^16*k_m^16*(pi^4*(a_x^2 + a_y^2 + u^2)^2/(a^4*k_m^4) + 1)^5) + 8/9*pi^16*(a_x^2 + a_y^2 + u^2)^(7/2)*a_x*a_y^3/(a^16*k_m^16*(pi^4*(a_x^2 + a_y^2 + u^2)^2/(a^4*k_m^4) + 1)^5) + 8/75*pi^16*(a_x^2 + a_y^2 + u^2)^(9/2)*a_x*a_y/(a^16*k_m^16*(pi^4*(a_x^2 + a_y^2 + u^2)^2/(a^4*k_m^4) + 1)^5) - 128/15*pi^20*(a_x^2 + a_y^2 + u^2)^(9/2)*a_x^3*a_y^3/(a^20*k_m^20*(pi^4*(a_x^2 + a_y^2 + u^2)^2/(a^4*k_m^4) + 1)^6) - 32/45*pi^20*(a_x^2 + a_y^2 + u^2)^(11/2)*a_x^3*a_y/(a^20*k_m^20*(pi^4*(a_x^2 + a_y^2 + u^2)^2/(a^4*k_m^4) + 1)^6) - 32/45*pi^20*(a_x^2 + a_y^2 + u^2)^(11/2)*a_x*a_y^3/(a^20*k_m^20*(pi^4*(a_x^2 + a_y^2 + u^2)^2/(a^4*k_m^4) + 1)^6) + 256/45*pi^24*(a_x^2 + a_y^2 + u^2)^(13/2)*a_x^3*a_y^3/(a^24*k_m^24*(pi^4*(a_x^2 + a_y^2 + u^2)^2/(a^4*k_m^4) + 1)^7)\n"
     ]
    },
    {
     "data": {
      "text/latex": [
       "$\\displaystyle \\frac{\\sqrt{a_{x}^{2} + a_{y}^{2} + u^{2}}}{4 \\, {\\left(\\frac{\\pi^{4} {\\left(a_{x}^{2} + a_{y}^{2} + u^{2}\\right)}^{2}}{a^{4} k_{m}^{4}} + 1\\right)}} - \\frac{a_{x}}{24 \\, \\sqrt{a_{x}^{2} + a_{y}^{2} + u^{2}} {\\left(\\frac{\\pi^{4} {\\left(a_{x}^{2} + a_{y}^{2} + u^{2}\\right)}^{2}}{a^{4} k_{m}^{4}} + 1\\right)}} + \\frac{a_{x}^{3}}{480 \\, {\\left(a_{x}^{2} + a_{y}^{2} + u^{2}\\right)}^{\\frac{5}{2}} {\\left(\\frac{\\pi^{4} {\\left(a_{x}^{2} + a_{y}^{2} + u^{2}\\right)}^{2}}{a^{4} k_{m}^{4}} + 1\\right)}} - \\frac{a_{y}}{24 \\, \\sqrt{a_{x}^{2} + a_{y}^{2} + u^{2}} {\\left(\\frac{\\pi^{4} {\\left(a_{x}^{2} + a_{y}^{2} + u^{2}\\right)}^{2}}{a^{4} k_{m}^{4}} + 1\\right)}} - \\frac{a_{x} a_{y}}{144 \\, {\\left(a_{x}^{2} + a_{y}^{2} + u^{2}\\right)}^{\\frac{3}{2}} {\\left(\\frac{\\pi^{4} {\\left(a_{x}^{2} + a_{y}^{2} + u^{2}\\right)}^{2}}{a^{4} k_{m}^{4}} + 1\\right)}} + \\frac{a_{x}^{3} a_{y}}{576 \\, {\\left(a_{x}^{2} + a_{y}^{2} + u^{2}\\right)}^{\\frac{7}{2}} {\\left(\\frac{\\pi^{4} {\\left(a_{x}^{2} + a_{y}^{2} + u^{2}\\right)}^{2}}{a^{4} k_{m}^{4}} + 1\\right)}} + \\frac{a_{y}^{3}}{480 \\, {\\left(a_{x}^{2} + a_{y}^{2} + u^{2}\\right)}^{\\frac{5}{2}} {\\left(\\frac{\\pi^{4} {\\left(a_{x}^{2} + a_{y}^{2} + u^{2}\\right)}^{2}}{a^{4} k_{m}^{4}} + 1\\right)}} + \\frac{a_{x} a_{y}^{3}}{576 \\, {\\left(a_{x}^{2} + a_{y}^{2} + u^{2}\\right)}^{\\frac{7}{2}} {\\left(\\frac{\\pi^{4} {\\left(a_{x}^{2} + a_{y}^{2} + u^{2}\\right)}^{2}}{a^{4} k_{m}^{4}} + 1\\right)}} - \\frac{7 \\, a_{x}^{3} a_{y}^{3}}{3840 \\, {\\left(a_{x}^{2} + a_{y}^{2} + u^{2}\\right)}^{\\frac{11}{2}} {\\left(\\frac{\\pi^{4} {\\left(a_{x}^{2} + a_{y}^{2} + u^{2}\\right)}^{2}}{a^{4} k_{m}^{4}} + 1\\right)}} - \\frac{a_{x}}{480 \\, {\\left(a_{x}^{2} + a_{y}^{2} + u^{2}\\right)}^{\\frac{3}{2}} {\\left(\\frac{\\pi^{4} {\\left(a_{x}^{2} + a_{y}^{2} + u^{2}\\right)}^{2}}{a^{4} k_{m}^{4}} + 1\\right)}} - \\frac{a_{y}}{480 \\, {\\left(a_{x}^{2} + a_{y}^{2} + u^{2}\\right)}^{\\frac{3}{2}} {\\left(\\frac{\\pi^{4} {\\left(a_{x}^{2} + a_{y}^{2} + u^{2}\\right)}^{2}}{a^{4} k_{m}^{4}} + 1\\right)}} - \\frac{a_{x} a_{y}}{480 \\, {\\left(a_{x}^{2} + a_{y}^{2} + u^{2}\\right)}^{\\frac{5}{2}} {\\left(\\frac{\\pi^{4} {\\left(a_{x}^{2} + a_{y}^{2} + u^{2}\\right)}^{2}}{a^{4} k_{m}^{4}} + 1\\right)}} + \\frac{7 \\, a_{x}^{3} a_{y}}{11520 \\, {\\left(a_{x}^{2} + a_{y}^{2} + u^{2}\\right)}^{\\frac{9}{2}} {\\left(\\frac{\\pi^{4} {\\left(a_{x}^{2} + a_{y}^{2} + u^{2}\\right)}^{2}}{a^{4} k_{m}^{4}} + 1\\right)}} + \\frac{7 \\, a_{x} a_{y}^{3}}{11520 \\, {\\left(a_{x}^{2} + a_{y}^{2} + u^{2}\\right)}^{\\frac{9}{2}} {\\left(\\frac{\\pi^{4} {\\left(a_{x}^{2} + a_{y}^{2} + u^{2}\\right)}^{2}}{a^{4} k_{m}^{4}} + 1\\right)}} - \\frac{a_{x} a_{y}}{3840 \\, {\\left(a_{x}^{2} + a_{y}^{2} + u^{2}\\right)}^{\\frac{7}{2}} {\\left(\\frac{\\pi^{4} {\\left(a_{x}^{2} + a_{y}^{2} + u^{2}\\right)}^{2}}{a^{4} k_{m}^{4}} + 1\\right)}} + \\frac{\\pi^{4} {\\left(a_{x}^{2} + a_{y}^{2} + u^{2}\\right)}^{\\frac{3}{2}} a_{x}}{6 \\, a^{4} k_{m}^{4} {\\left(\\frac{\\pi^{4} {\\left(a_{x}^{2} + a_{y}^{2} + u^{2}\\right)}^{2}}{a^{4} k_{m}^{4}} + 1\\right)}^{2}} - \\frac{\\pi^{4} a_{x}^{3}}{120 \\, \\sqrt{a_{x}^{2} + a_{y}^{2} + u^{2}} a^{4} k_{m}^{4} {\\left(\\frac{\\pi^{4} {\\left(a_{x}^{2} + a_{y}^{2} + u^{2}\\right)}^{2}}{a^{4} k_{m}^{4}} + 1\\right)}^{2}} + \\frac{\\pi^{4} {\\left(a_{x}^{2} + a_{y}^{2} + u^{2}\\right)}^{\\frac{3}{2}} a_{y}}{6 \\, a^{4} k_{m}^{4} {\\left(\\frac{\\pi^{4} {\\left(a_{x}^{2} + a_{y}^{2} + u^{2}\\right)}^{2}}{a^{4} k_{m}^{4}} + 1\\right)}^{2}} - \\frac{\\pi^{4} \\sqrt{a_{x}^{2} + a_{y}^{2} + u^{2}} a_{x} a_{y}}{9 \\, a^{4} k_{m}^{4} {\\left(\\frac{\\pi^{4} {\\left(a_{x}^{2} + a_{y}^{2} + u^{2}\\right)}^{2}}{a^{4} k_{m}^{4}} + 1\\right)}^{2}} - \\frac{\\pi^{4} a_{y}^{3}}{120 \\, \\sqrt{a_{x}^{2} + a_{y}^{2} + u^{2}} a^{4} k_{m}^{4} {\\left(\\frac{\\pi^{4} {\\left(a_{x}^{2} + a_{y}^{2} + u^{2}\\right)}^{2}}{a^{4} k_{m}^{4}} + 1\\right)}^{2}} - \\frac{\\pi^{4} a_{x}^{3} a_{y}^{3}}{720 \\, {\\left(a_{x}^{2} + a_{y}^{2} + u^{2}\\right)}^{\\frac{7}{2}} a^{4} k_{m}^{4} {\\left(\\frac{\\pi^{4} {\\left(a_{x}^{2} + a_{y}^{2} + u^{2}\\right)}^{2}}{a^{4} k_{m}^{4}} + 1\\right)}^{2}} - \\frac{\\pi^{4} \\sqrt{a_{x}^{2} + a_{y}^{2} + u^{2}} a_{x}}{30 \\, a^{4} k_{m}^{4} {\\left(\\frac{\\pi^{4} {\\left(a_{x}^{2} + a_{y}^{2} + u^{2}\\right)}^{2}}{a^{4} k_{m}^{4}} + 1\\right)}^{2}} - \\frac{\\pi^{4} \\sqrt{a_{x}^{2} + a_{y}^{2} + u^{2}} a_{y}}{30 \\, a^{4} k_{m}^{4} {\\left(\\frac{\\pi^{4} {\\left(a_{x}^{2} + a_{y}^{2} + u^{2}\\right)}^{2}}{a^{4} k_{m}^{4}} + 1\\right)}^{2}} + \\frac{\\pi^{4} a_{x} a_{y}}{120 \\, \\sqrt{a_{x}^{2} + a_{y}^{2} + u^{2}} a^{4} k_{m}^{4} {\\left(\\frac{\\pi^{4} {\\left(a_{x}^{2} + a_{y}^{2} + u^{2}\\right)}^{2}}{a^{4} k_{m}^{4}} + 1\\right)}^{2}} + \\frac{\\pi^{4} a_{x}^{3} a_{y}}{2880 \\, {\\left(a_{x}^{2} + a_{y}^{2} + u^{2}\\right)}^{\\frac{5}{2}} a^{4} k_{m}^{4} {\\left(\\frac{\\pi^{4} {\\left(a_{x}^{2} + a_{y}^{2} + u^{2}\\right)}^{2}}{a^{4} k_{m}^{4}} + 1\\right)}^{2}} + \\frac{\\pi^{4} a_{x} a_{y}^{3}}{2880 \\, {\\left(a_{x}^{2} + a_{y}^{2} + u^{2}\\right)}^{\\frac{5}{2}} a^{4} k_{m}^{4} {\\left(\\frac{\\pi^{4} {\\left(a_{x}^{2} + a_{y}^{2} + u^{2}\\right)}^{2}}{a^{4} k_{m}^{4}} + 1\\right)}^{2}} + \\frac{\\pi^{8} {\\left(a_{x}^{2} + a_{y}^{2} + u^{2}\\right)}^{\\frac{3}{2}} a_{x}^{3}}{5 \\, a^{8} k_{m}^{8} {\\left(\\frac{\\pi^{4} {\\left(a_{x}^{2} + a_{y}^{2} + u^{2}\\right)}^{2}}{a^{4} k_{m}^{4}} + 1\\right)}^{3}} + \\frac{2 \\, \\pi^{8} {\\left(a_{x}^{2} + a_{y}^{2} + u^{2}\\right)}^{\\frac{5}{2}} a_{x} a_{y}}{9 \\, a^{8} k_{m}^{8} {\\left(\\frac{\\pi^{4} {\\left(a_{x}^{2} + a_{y}^{2} + u^{2}\\right)}^{2}}{a^{4} k_{m}^{4}} + 1\\right)}^{3}} - \\frac{\\pi^{8} \\sqrt{a_{x}^{2} + a_{y}^{2} + u^{2}} a_{x}^{3} a_{y}}{9 \\, a^{8} k_{m}^{8} {\\left(\\frac{\\pi^{4} {\\left(a_{x}^{2} + a_{y}^{2} + u^{2}\\right)}^{2}}{a^{4} k_{m}^{4}} + 1\\right)}^{3}} + \\frac{\\pi^{8} {\\left(a_{x}^{2} + a_{y}^{2} + u^{2}\\right)}^{\\frac{3}{2}} a_{y}^{3}}{5 \\, a^{8} k_{m}^{8} {\\left(\\frac{\\pi^{4} {\\left(a_{x}^{2} + a_{y}^{2} + u^{2}\\right)}^{2}}{a^{4} k_{m}^{4}} + 1\\right)}^{3}} - \\frac{\\pi^{8} \\sqrt{a_{x}^{2} + a_{y}^{2} + u^{2}} a_{x} a_{y}^{3}}{9 \\, a^{8} k_{m}^{8} {\\left(\\frac{\\pi^{4} {\\left(a_{x}^{2} + a_{y}^{2} + u^{2}\\right)}^{2}}{a^{4} k_{m}^{4}} + 1\\right)}^{3}} - \\frac{\\pi^{8} a_{x}^{3} a_{y}^{3}}{360 \\, {\\left(a_{x}^{2} + a_{y}^{2} + u^{2}\\right)}^{\\frac{3}{2}} a^{8} k_{m}^{8} {\\left(\\frac{\\pi^{4} {\\left(a_{x}^{2} + a_{y}^{2} + u^{2}\\right)}^{2}}{a^{4} k_{m}^{4}} + 1\\right)}^{3}} + \\frac{\\pi^{8} {\\left(a_{x}^{2} + a_{y}^{2} + u^{2}\\right)}^{\\frac{5}{2}} a_{x}}{15 \\, a^{8} k_{m}^{8} {\\left(\\frac{\\pi^{4} {\\left(a_{x}^{2} + a_{y}^{2} + u^{2}\\right)}^{2}}{a^{4} k_{m}^{4}} + 1\\right)}^{3}} + \\frac{\\pi^{8} {\\left(a_{x}^{2} + a_{y}^{2} + u^{2}\\right)}^{\\frac{5}{2}} a_{y}}{15 \\, a^{8} k_{m}^{8} {\\left(\\frac{\\pi^{4} {\\left(a_{x}^{2} + a_{y}^{2} + u^{2}\\right)}^{2}}{a^{4} k_{m}^{4}} + 1\\right)}^{3}} - \\frac{\\pi^{8} {\\left(a_{x}^{2} + a_{y}^{2} + u^{2}\\right)}^{\\frac{3}{2}} a_{x} a_{y}}{5 \\, a^{8} k_{m}^{8} {\\left(\\frac{\\pi^{4} {\\left(a_{x}^{2} + a_{y}^{2} + u^{2}\\right)}^{2}}{a^{4} k_{m}^{4}} + 1\\right)}^{3}} + \\frac{\\pi^{8} a_{x}^{3} a_{y}}{180 \\, \\sqrt{a_{x}^{2} + a_{y}^{2} + u^{2}} a^{8} k_{m}^{8} {\\left(\\frac{\\pi^{4} {\\left(a_{x}^{2} + a_{y}^{2} + u^{2}\\right)}^{2}}{a^{4} k_{m}^{4}} + 1\\right)}^{3}} + \\frac{\\pi^{8} a_{x} a_{y}^{3}}{180 \\, \\sqrt{a_{x}^{2} + a_{y}^{2} + u^{2}} a^{8} k_{m}^{8} {\\left(\\frac{\\pi^{4} {\\left(a_{x}^{2} + a_{y}^{2} + u^{2}\\right)}^{2}}{a^{4} k_{m}^{4}} + 1\\right)}^{3}} + \\frac{\\pi^{8} \\sqrt{a_{x}^{2} + a_{y}^{2} + u^{2}} a_{x} a_{y}}{60 \\, a^{8} k_{m}^{8} {\\left(\\frac{\\pi^{4} {\\left(a_{x}^{2} + a_{y}^{2} + u^{2}\\right)}^{2}}{a^{4} k_{m}^{4}} + 1\\right)}^{3}} - \\frac{4 \\, \\pi^{12} {\\left(a_{x}^{2} + a_{y}^{2} + u^{2}\\right)}^{\\frac{7}{2}} a_{x}^{3}}{15 \\, a^{12} k_{m}^{12} {\\left(\\frac{\\pi^{4} {\\left(a_{x}^{2} + a_{y}^{2} + u^{2}\\right)}^{2}}{a^{4} k_{m}^{4}} + 1\\right)}^{4}} + \\frac{32 \\, \\pi^{12} {\\left(a_{x}^{2} + a_{y}^{2} + u^{2}\\right)}^{\\frac{5}{2}} a_{x}^{3} a_{y}}{45 \\, a^{12} k_{m}^{12} {\\left(\\frac{\\pi^{4} {\\left(a_{x}^{2} + a_{y}^{2} + u^{2}\\right)}^{2}}{a^{4} k_{m}^{4}} + 1\\right)}^{4}} - \\frac{4 \\, \\pi^{12} {\\left(a_{x}^{2} + a_{y}^{2} + u^{2}\\right)}^{\\frac{7}{2}} a_{y}^{3}}{15 \\, a^{12} k_{m}^{12} {\\left(\\frac{\\pi^{4} {\\left(a_{x}^{2} + a_{y}^{2} + u^{2}\\right)}^{2}}{a^{4} k_{m}^{4}} + 1\\right)}^{4}} + \\frac{32 \\, \\pi^{12} {\\left(a_{x}^{2} + a_{y}^{2} + u^{2}\\right)}^{\\frac{5}{2}} a_{x} a_{y}^{3}}{45 \\, a^{12} k_{m}^{12} {\\left(\\frac{\\pi^{4} {\\left(a_{x}^{2} + a_{y}^{2} + u^{2}\\right)}^{2}}{a^{4} k_{m}^{4}} + 1\\right)}^{4}} - \\frac{4 \\, \\pi^{12} \\sqrt{a_{x}^{2} + a_{y}^{2} + u^{2}} a_{x}^{3} a_{y}^{3}}{15 \\, a^{12} k_{m}^{12} {\\left(\\frac{\\pi^{4} {\\left(a_{x}^{2} + a_{y}^{2} + u^{2}\\right)}^{2}}{a^{4} k_{m}^{4}} + 1\\right)}^{4}} + \\frac{4 \\, \\pi^{12} {\\left(a_{x}^{2} + a_{y}^{2} + u^{2}\\right)}^{\\frac{7}{2}} a_{x} a_{y}}{15 \\, a^{12} k_{m}^{12} {\\left(\\frac{\\pi^{4} {\\left(a_{x}^{2} + a_{y}^{2} + u^{2}\\right)}^{2}}{a^{4} k_{m}^{4}} + 1\\right)}^{4}} - \\frac{11 \\, \\pi^{12} {\\left(a_{x}^{2} + a_{y}^{2} + u^{2}\\right)}^{\\frac{3}{2}} a_{x}^{3} a_{y}}{45 \\, a^{12} k_{m}^{12} {\\left(\\frac{\\pi^{4} {\\left(a_{x}^{2} + a_{y}^{2} + u^{2}\\right)}^{2}}{a^{4} k_{m}^{4}} + 1\\right)}^{4}} - \\frac{11 \\, \\pi^{12} {\\left(a_{x}^{2} + a_{y}^{2} + u^{2}\\right)}^{\\frac{3}{2}} a_{x} a_{y}^{3}}{45 \\, a^{12} k_{m}^{12} {\\left(\\frac{\\pi^{4} {\\left(a_{x}^{2} + a_{y}^{2} + u^{2}\\right)}^{2}}{a^{4} k_{m}^{4}} + 1\\right)}^{4}} - \\frac{8 \\, \\pi^{12} {\\left(a_{x}^{2} + a_{y}^{2} + u^{2}\\right)}^{\\frac{5}{2}} a_{x} a_{y}}{75 \\, a^{12} k_{m}^{12} {\\left(\\frac{\\pi^{4} {\\left(a_{x}^{2} + a_{y}^{2} + u^{2}\\right)}^{2}}{a^{4} k_{m}^{4}} + 1\\right)}^{4}} - \\frac{32 \\, \\pi^{16} {\\left(a_{x}^{2} + a_{y}^{2} + u^{2}\\right)}^{\\frac{9}{2}} a_{x}^{3} a_{y}}{45 \\, a^{16} k_{m}^{16} {\\left(\\frac{\\pi^{4} {\\left(a_{x}^{2} + a_{y}^{2} + u^{2}\\right)}^{2}}{a^{4} k_{m}^{4}} + 1\\right)}^{5}} - \\frac{32 \\, \\pi^{16} {\\left(a_{x}^{2} + a_{y}^{2} + u^{2}\\right)}^{\\frac{9}{2}} a_{x} a_{y}^{3}}{45 \\, a^{16} k_{m}^{16} {\\left(\\frac{\\pi^{4} {\\left(a_{x}^{2} + a_{y}^{2} + u^{2}\\right)}^{2}}{a^{4} k_{m}^{4}} + 1\\right)}^{5}} + \\frac{152 \\, \\pi^{16} {\\left(a_{x}^{2} + a_{y}^{2} + u^{2}\\right)}^{\\frac{5}{2}} a_{x}^{3} a_{y}^{3}}{45 \\, a^{16} k_{m}^{16} {\\left(\\frac{\\pi^{4} {\\left(a_{x}^{2} + a_{y}^{2} + u^{2}\\right)}^{2}}{a^{4} k_{m}^{4}} + 1\\right)}^{5}} + \\frac{8 \\, \\pi^{16} {\\left(a_{x}^{2} + a_{y}^{2} + u^{2}\\right)}^{\\frac{7}{2}} a_{x}^{3} a_{y}}{9 \\, a^{16} k_{m}^{16} {\\left(\\frac{\\pi^{4} {\\left(a_{x}^{2} + a_{y}^{2} + u^{2}\\right)}^{2}}{a^{4} k_{m}^{4}} + 1\\right)}^{5}} + \\frac{8 \\, \\pi^{16} {\\left(a_{x}^{2} + a_{y}^{2} + u^{2}\\right)}^{\\frac{7}{2}} a_{x} a_{y}^{3}}{9 \\, a^{16} k_{m}^{16} {\\left(\\frac{\\pi^{4} {\\left(a_{x}^{2} + a_{y}^{2} + u^{2}\\right)}^{2}}{a^{4} k_{m}^{4}} + 1\\right)}^{5}} + \\frac{8 \\, \\pi^{16} {\\left(a_{x}^{2} + a_{y}^{2} + u^{2}\\right)}^{\\frac{9}{2}} a_{x} a_{y}}{75 \\, a^{16} k_{m}^{16} {\\left(\\frac{\\pi^{4} {\\left(a_{x}^{2} + a_{y}^{2} + u^{2}\\right)}^{2}}{a^{4} k_{m}^{4}} + 1\\right)}^{5}} - \\frac{128 \\, \\pi^{20} {\\left(a_{x}^{2} + a_{y}^{2} + u^{2}\\right)}^{\\frac{9}{2}} a_{x}^{3} a_{y}^{3}}{15 \\, a^{20} k_{m}^{20} {\\left(\\frac{\\pi^{4} {\\left(a_{x}^{2} + a_{y}^{2} + u^{2}\\right)}^{2}}{a^{4} k_{m}^{4}} + 1\\right)}^{6}} - \\frac{32 \\, \\pi^{20} {\\left(a_{x}^{2} + a_{y}^{2} + u^{2}\\right)}^{\\frac{11}{2}} a_{x}^{3} a_{y}}{45 \\, a^{20} k_{m}^{20} {\\left(\\frac{\\pi^{4} {\\left(a_{x}^{2} + a_{y}^{2} + u^{2}\\right)}^{2}}{a^{4} k_{m}^{4}} + 1\\right)}^{6}} - \\frac{32 \\, \\pi^{20} {\\left(a_{x}^{2} + a_{y}^{2} + u^{2}\\right)}^{\\frac{11}{2}} a_{x} a_{y}^{3}}{45 \\, a^{20} k_{m}^{20} {\\left(\\frac{\\pi^{4} {\\left(a_{x}^{2} + a_{y}^{2} + u^{2}\\right)}^{2}}{a^{4} k_{m}^{4}} + 1\\right)}^{6}} + \\frac{256 \\, \\pi^{24} {\\left(a_{x}^{2} + a_{y}^{2} + u^{2}\\right)}^{\\frac{13}{2}} a_{x}^{3} a_{y}^{3}}{45 \\, a^{24} k_{m}^{24} {\\left(\\frac{\\pi^{4} {\\left(a_{x}^{2} + a_{y}^{2} + u^{2}\\right)}^{2}}{a^{4} k_{m}^{4}} + 1\\right)}^{7}}$"
      ],
      "text/plain": [
       "<IPython.core.display.Math object>"
      ]
     },
     "metadata": {},
     "output_type": "display_data"
    }
   ],
   "source": [
    "sum_sum = sum_dfdx_bernoulis(sum_dfdx_bernoulis (Fn(u, n_x, n_y, a, k_m), n_x, a_x, b_x,p), n_y, a_y, b_y, p)\n",
    "print(\"sum_sum=\",sum_sum)\n",
    "display(Math(latex(sum_sum)))"
   ]
  },
  {
   "cell_type": "code",
   "execution_count": 46,
   "metadata": {},
   "outputs": [
    {
     "name": "stdout",
     "output_type": "stream",
     "text": [
      "sum_sum_Fu= 1/4*sqrt(u^2)*f(pi*sqrt(u^2)/(a*k_m))\n"
     ]
    },
    {
     "data": {
      "text/latex": [
       "$\\displaystyle \\frac{1}{4} \\, \\sqrt{u^{2}} f\\left(\\frac{\\pi \\sqrt{u^{2}}}{a k_{m}}\\right)$"
      ],
      "text/plain": [
       "<IPython.core.display.Math object>"
      ]
     },
     "metadata": {},
     "output_type": "display_data"
    }
   ],
   "source": [
    "sum_sum_Fu = lambda u, a, k_m : sum_dfdx_bernoulis(sum_dfdx_bernoulis (Fu(u, n_x, n_y, a, k_m), n_x, 0, b_x, p), n_y, 0, b_x, p)\n",
    "print(\"sum_sum_Fu=\",sum_sum_Fu(u, a, k_m))\n",
    "display(Math(latex(sum_sum_Fu(u, a, k_m))))"
   ]
  },
  {
   "cell_type": "code",
   "execution_count": 47,
   "metadata": {},
   "outputs": [
    {
     "name": "stdout",
     "output_type": "stream",
     "text": [
      "sum_sum= 1/4*sqrt(a_x^2 + a_y^2 + u^2)/(pi^4*(a_x^2 + a_y^2 + u^2)^2/(a^4*k_m^4) + 1) - 1/24*a_x/(sqrt(a_x^2 + a_y^2 + u^2)*(pi^4*(a_x^2 + a_y^2 + u^2)^2/(a^4*k_m^4) + 1)) + 1/480*a_x^3/((a_x^2 + a_y^2 + u^2)^(5/2)*(pi^4*(a_x^2 + a_y^2 + u^2)^2/(a^4*k_m^4) + 1)) - 1/24*a_y/(sqrt(a_x^2 + a_y^2 + u^2)*(pi^4*(a_x^2 + a_y^2 + u^2)^2/(a^4*k_m^4) + 1)) - 1/144*a_x*a_y/((a_x^2 + a_y^2 + u^2)^(3/2)*(pi^4*(a_x^2 + a_y^2 + u^2)^2/(a^4*k_m^4) + 1)) + 1/576*a_x^3*a_y/((a_x^2 + a_y^2 + u^2)^(7/2)*(pi^4*(a_x^2 + a_y^2 + u^2)^2/(a^4*k_m^4) + 1)) + 1/480*a_y^3/((a_x^2 + a_y^2 + u^2)^(5/2)*(pi^4*(a_x^2 + a_y^2 + u^2)^2/(a^4*k_m^4) + 1)) + 1/576*a_x*a_y^3/((a_x^2 + a_y^2 + u^2)^(7/2)*(pi^4*(a_x^2 + a_y^2 + u^2)^2/(a^4*k_m^4) + 1)) - 7/3840*a_x^3*a_y^3/((a_x^2 + a_y^2 + u^2)^(11/2)*(pi^4*(a_x^2 + a_y^2 + u^2)^2/(a^4*k_m^4) + 1)) - 1/480*a_x/((a_x^2 + a_y^2 + u^2)^(3/2)*(pi^4*(a_x^2 + a_y^2 + u^2)^2/(a^4*k_m^4) + 1)) - 1/480*a_y/((a_x^2 + a_y^2 + u^2)^(3/2)*(pi^4*(a_x^2 + a_y^2 + u^2)^2/(a^4*k_m^4) + 1)) - 1/480*a_x*a_y/((a_x^2 + a_y^2 + u^2)^(5/2)*(pi^4*(a_x^2 + a_y^2 + u^2)^2/(a^4*k_m^4) + 1)) + 7/11520*a_x^3*a_y/((a_x^2 + a_y^2 + u^2)^(9/2)*(pi^4*(a_x^2 + a_y^2 + u^2)^2/(a^4*k_m^4) + 1)) + 7/11520*a_x*a_y^3/((a_x^2 + a_y^2 + u^2)^(9/2)*(pi^4*(a_x^2 + a_y^2 + u^2)^2/(a^4*k_m^4) + 1)) - 1/3840*a_x*a_y/((a_x^2 + a_y^2 + u^2)^(7/2)*(pi^4*(a_x^2 + a_y^2 + u^2)^2/(a^4*k_m^4) + 1)) + 1/6*pi^4*(a_x^2 + a_y^2 + u^2)^(3/2)*a_x/(a^4*k_m^4*(pi^4*(a_x^2 + a_y^2 + u^2)^2/(a^4*k_m^4) + 1)^2) - 1/120*pi^4*a_x^3/(sqrt(a_x^2 + a_y^2 + u^2)*a^4*k_m^4*(pi^4*(a_x^2 + a_y^2 + u^2)^2/(a^4*k_m^4) + 1)^2) + 1/6*pi^4*(a_x^2 + a_y^2 + u^2)^(3/2)*a_y/(a^4*k_m^4*(pi^4*(a_x^2 + a_y^2 + u^2)^2/(a^4*k_m^4) + 1)^2) - 1/9*pi^4*sqrt(a_x^2 + a_y^2 + u^2)*a_x*a_y/(a^4*k_m^4*(pi^4*(a_x^2 + a_y^2 + u^2)^2/(a^4*k_m^4) + 1)^2) - 1/120*pi^4*a_y^3/(sqrt(a_x^2 + a_y^2 + u^2)*a^4*k_m^4*(pi^4*(a_x^2 + a_y^2 + u^2)^2/(a^4*k_m^4) + 1)^2) - 1/720*pi^4*a_x^3*a_y^3/((a_x^2 + a_y^2 + u^2)^(7/2)*a^4*k_m^4*(pi^4*(a_x^2 + a_y^2 + u^2)^2/(a^4*k_m^4) + 1)^2) - 1/30*pi^4*sqrt(a_x^2 + a_y^2 + u^2)*a_x/(a^4*k_m^4*(pi^4*(a_x^2 + a_y^2 + u^2)^2/(a^4*k_m^4) + 1)^2) - 1/30*pi^4*sqrt(a_x^2 + a_y^2 + u^2)*a_y/(a^4*k_m^4*(pi^4*(a_x^2 + a_y^2 + u^2)^2/(a^4*k_m^4) + 1)^2) + 1/120*pi^4*a_x*a_y/(sqrt(a_x^2 + a_y^2 + u^2)*a^4*k_m^4*(pi^4*(a_x^2 + a_y^2 + u^2)^2/(a^4*k_m^4) + 1)^2) + 1/2880*pi^4*a_x^3*a_y/((a_x^2 + a_y^2 + u^2)^(5/2)*a^4*k_m^4*(pi^4*(a_x^2 + a_y^2 + u^2)^2/(a^4*k_m^4) + 1)^2) + 1/2880*pi^4*a_x*a_y^3/((a_x^2 + a_y^2 + u^2)^(5/2)*a^4*k_m^4*(pi^4*(a_x^2 + a_y^2 + u^2)^2/(a^4*k_m^4) + 1)^2) + 1/5*pi^8*(a_x^2 + a_y^2 + u^2)^(3/2)*a_x^3/(a^8*k_m^8*(pi^4*(a_x^2 + a_y^2 + u^2)^2/(a^4*k_m^4) + 1)^3) + 2/9*pi^8*(a_x^2 + a_y^2 + u^2)^(5/2)*a_x*a_y/(a^8*k_m^8*(pi^4*(a_x^2 + a_y^2 + u^2)^2/(a^4*k_m^4) + 1)^3) - 1/9*pi^8*sqrt(a_x^2 + a_y^2 + u^2)*a_x^3*a_y/(a^8*k_m^8*(pi^4*(a_x^2 + a_y^2 + u^2)^2/(a^4*k_m^4) + 1)^3) + 1/5*pi^8*(a_x^2 + a_y^2 + u^2)^(3/2)*a_y^3/(a^8*k_m^8*(pi^4*(a_x^2 + a_y^2 + u^2)^2/(a^4*k_m^4) + 1)^3) - 1/9*pi^8*sqrt(a_x^2 + a_y^2 + u^2)*a_x*a_y^3/(a^8*k_m^8*(pi^4*(a_x^2 + a_y^2 + u^2)^2/(a^4*k_m^4) + 1)^3) - 1/360*pi^8*a_x^3*a_y^3/((a_x^2 + a_y^2 + u^2)^(3/2)*a^8*k_m^8*(pi^4*(a_x^2 + a_y^2 + u^2)^2/(a^4*k_m^4) + 1)^3) + 1/15*pi^8*(a_x^2 + a_y^2 + u^2)^(5/2)*a_x/(a^8*k_m^8*(pi^4*(a_x^2 + a_y^2 + u^2)^2/(a^4*k_m^4) + 1)^3) + 1/15*pi^8*(a_x^2 + a_y^2 + u^2)^(5/2)*a_y/(a^8*k_m^8*(pi^4*(a_x^2 + a_y^2 + u^2)^2/(a^4*k_m^4) + 1)^3) - 1/5*pi^8*(a_x^2 + a_y^2 + u^2)^(3/2)*a_x*a_y/(a^8*k_m^8*(pi^4*(a_x^2 + a_y^2 + u^2)^2/(a^4*k_m^4) + 1)^3) + 1/180*pi^8*a_x^3*a_y/(sqrt(a_x^2 + a_y^2 + u^2)*a^8*k_m^8*(pi^4*(a_x^2 + a_y^2 + u^2)^2/(a^4*k_m^4) + 1)^3) + 1/180*pi^8*a_x*a_y^3/(sqrt(a_x^2 + a_y^2 + u^2)*a^8*k_m^8*(pi^4*(a_x^2 + a_y^2 + u^2)^2/(a^4*k_m^4) + 1)^3) + 1/60*pi^8*sqrt(a_x^2 + a_y^2 + u^2)*a_x*a_y/(a^8*k_m^8*(pi^4*(a_x^2 + a_y^2 + u^2)^2/(a^4*k_m^4) + 1)^3) - 4/15*pi^12*(a_x^2 + a_y^2 + u^2)^(7/2)*a_x^3/(a^12*k_m^12*(pi^4*(a_x^2 + a_y^2 + u^2)^2/(a^4*k_m^4) + 1)^4) + 32/45*pi^12*(a_x^2 + a_y^2 + u^2)^(5/2)*a_x^3*a_y/(a^12*k_m^12*(pi^4*(a_x^2 + a_y^2 + u^2)^2/(a^4*k_m^4) + 1)^4) - 4/15*pi^12*(a_x^2 + a_y^2 + u^2)^(7/2)*a_y^3/(a^12*k_m^12*(pi^4*(a_x^2 + a_y^2 + u^2)^2/(a^4*k_m^4) + 1)^4) + 32/45*pi^12*(a_x^2 + a_y^2 + u^2)^(5/2)*a_x*a_y^3/(a^12*k_m^12*(pi^4*(a_x^2 + a_y^2 + u^2)^2/(a^4*k_m^4) + 1)^4) - 4/15*pi^12*sqrt(a_x^2 + a_y^2 + u^2)*a_x^3*a_y^3/(a^12*k_m^12*(pi^4*(a_x^2 + a_y^2 + u^2)^2/(a^4*k_m^4) + 1)^4) + 4/15*pi^12*(a_x^2 + a_y^2 + u^2)^(7/2)*a_x*a_y/(a^12*k_m^12*(pi^4*(a_x^2 + a_y^2 + u^2)^2/(a^4*k_m^4) + 1)^4) - 11/45*pi^12*(a_x^2 + a_y^2 + u^2)^(3/2)*a_x^3*a_y/(a^12*k_m^12*(pi^4*(a_x^2 + a_y^2 + u^2)^2/(a^4*k_m^4) + 1)^4) - 11/45*pi^12*(a_x^2 + a_y^2 + u^2)^(3/2)*a_x*a_y^3/(a^12*k_m^12*(pi^4*(a_x^2 + a_y^2 + u^2)^2/(a^4*k_m^4) + 1)^4) - 8/75*pi^12*(a_x^2 + a_y^2 + u^2)^(5/2)*a_x*a_y/(a^12*k_m^12*(pi^4*(a_x^2 + a_y^2 + u^2)^2/(a^4*k_m^4) + 1)^4) - 32/45*pi^16*(a_x^2 + a_y^2 + u^2)^(9/2)*a_x^3*a_y/(a^16*k_m^16*(pi^4*(a_x^2 + a_y^2 + u^2)^2/(a^4*k_m^4) + 1)^5) - 32/45*pi^16*(a_x^2 + a_y^2 + u^2)^(9/2)*a_x*a_y^3/(a^16*k_m^16*(pi^4*(a_x^2 + a_y^2 + u^2)^2/(a^4*k_m^4) + 1)^5) + 152/45*pi^16*(a_x^2 + a_y^2 + u^2)^(5/2)*a_x^3*a_y^3/(a^16*k_m^16*(pi^4*(a_x^2 + a_y^2 + u^2)^2/(a^4*k_m^4) + 1)^5) + 8/9*pi^16*(a_x^2 + a_y^2 + u^2)^(7/2)*a_x^3*a_y/(a^16*k_m^16*(pi^4*(a_x^2 + a_y^2 + u^2)^2/(a^4*k_m^4) + 1)^5) + 8/9*pi^16*(a_x^2 + a_y^2 + u^2)^(7/2)*a_x*a_y^3/(a^16*k_m^16*(pi^4*(a_x^2 + a_y^2 + u^2)^2/(a^4*k_m^4) + 1)^5) + 8/75*pi^16*(a_x^2 + a_y^2 + u^2)^(9/2)*a_x*a_y/(a^16*k_m^16*(pi^4*(a_x^2 + a_y^2 + u^2)^2/(a^4*k_m^4) + 1)^5) - 128/15*pi^20*(a_x^2 + a_y^2 + u^2)^(9/2)*a_x^3*a_y^3/(a^20*k_m^20*(pi^4*(a_x^2 + a_y^2 + u^2)^2/(a^4*k_m^4) + 1)^6) - 32/45*pi^20*(a_x^2 + a_y^2 + u^2)^(11/2)*a_x^3*a_y/(a^20*k_m^20*(pi^4*(a_x^2 + a_y^2 + u^2)^2/(a^4*k_m^4) + 1)^6) - 32/45*pi^20*(a_x^2 + a_y^2 + u^2)^(11/2)*a_x*a_y^3/(a^20*k_m^20*(pi^4*(a_x^2 + a_y^2 + u^2)^2/(a^4*k_m^4) + 1)^6) + 256/45*pi^24*(a_x^2 + a_y^2 + u^2)^(13/2)*a_x^3*a_y^3/(a^24*k_m^24*(pi^4*(a_x^2 + a_y^2 + u^2)^2/(a^4*k_m^4) + 1)^7)\n"
     ]
    },
    {
     "data": {
      "text/latex": [
       "$\\displaystyle \\frac{\\sqrt{a_{x}^{2} + a_{y}^{2} + u^{2}}}{4 \\, {\\left(\\frac{\\pi^{4} {\\left(a_{x}^{2} + a_{y}^{2} + u^{2}\\right)}^{2}}{a^{4} k_{m}^{4}} + 1\\right)}} - \\frac{a_{x}}{24 \\, \\sqrt{a_{x}^{2} + a_{y}^{2} + u^{2}} {\\left(\\frac{\\pi^{4} {\\left(a_{x}^{2} + a_{y}^{2} + u^{2}\\right)}^{2}}{a^{4} k_{m}^{4}} + 1\\right)}} + \\frac{a_{x}^{3}}{480 \\, {\\left(a_{x}^{2} + a_{y}^{2} + u^{2}\\right)}^{\\frac{5}{2}} {\\left(\\frac{\\pi^{4} {\\left(a_{x}^{2} + a_{y}^{2} + u^{2}\\right)}^{2}}{a^{4} k_{m}^{4}} + 1\\right)}} - \\frac{a_{y}}{24 \\, \\sqrt{a_{x}^{2} + a_{y}^{2} + u^{2}} {\\left(\\frac{\\pi^{4} {\\left(a_{x}^{2} + a_{y}^{2} + u^{2}\\right)}^{2}}{a^{4} k_{m}^{4}} + 1\\right)}} - \\frac{a_{x} a_{y}}{144 \\, {\\left(a_{x}^{2} + a_{y}^{2} + u^{2}\\right)}^{\\frac{3}{2}} {\\left(\\frac{\\pi^{4} {\\left(a_{x}^{2} + a_{y}^{2} + u^{2}\\right)}^{2}}{a^{4} k_{m}^{4}} + 1\\right)}} + \\frac{a_{x}^{3} a_{y}}{576 \\, {\\left(a_{x}^{2} + a_{y}^{2} + u^{2}\\right)}^{\\frac{7}{2}} {\\left(\\frac{\\pi^{4} {\\left(a_{x}^{2} + a_{y}^{2} + u^{2}\\right)}^{2}}{a^{4} k_{m}^{4}} + 1\\right)}} + \\frac{a_{y}^{3}}{480 \\, {\\left(a_{x}^{2} + a_{y}^{2} + u^{2}\\right)}^{\\frac{5}{2}} {\\left(\\frac{\\pi^{4} {\\left(a_{x}^{2} + a_{y}^{2} + u^{2}\\right)}^{2}}{a^{4} k_{m}^{4}} + 1\\right)}} + \\frac{a_{x} a_{y}^{3}}{576 \\, {\\left(a_{x}^{2} + a_{y}^{2} + u^{2}\\right)}^{\\frac{7}{2}} {\\left(\\frac{\\pi^{4} {\\left(a_{x}^{2} + a_{y}^{2} + u^{2}\\right)}^{2}}{a^{4} k_{m}^{4}} + 1\\right)}} - \\frac{7 \\, a_{x}^{3} a_{y}^{3}}{3840 \\, {\\left(a_{x}^{2} + a_{y}^{2} + u^{2}\\right)}^{\\frac{11}{2}} {\\left(\\frac{\\pi^{4} {\\left(a_{x}^{2} + a_{y}^{2} + u^{2}\\right)}^{2}}{a^{4} k_{m}^{4}} + 1\\right)}} - \\frac{a_{x}}{480 \\, {\\left(a_{x}^{2} + a_{y}^{2} + u^{2}\\right)}^{\\frac{3}{2}} {\\left(\\frac{\\pi^{4} {\\left(a_{x}^{2} + a_{y}^{2} + u^{2}\\right)}^{2}}{a^{4} k_{m}^{4}} + 1\\right)}} - \\frac{a_{y}}{480 \\, {\\left(a_{x}^{2} + a_{y}^{2} + u^{2}\\right)}^{\\frac{3}{2}} {\\left(\\frac{\\pi^{4} {\\left(a_{x}^{2} + a_{y}^{2} + u^{2}\\right)}^{2}}{a^{4} k_{m}^{4}} + 1\\right)}} - \\frac{a_{x} a_{y}}{480 \\, {\\left(a_{x}^{2} + a_{y}^{2} + u^{2}\\right)}^{\\frac{5}{2}} {\\left(\\frac{\\pi^{4} {\\left(a_{x}^{2} + a_{y}^{2} + u^{2}\\right)}^{2}}{a^{4} k_{m}^{4}} + 1\\right)}} + \\frac{7 \\, a_{x}^{3} a_{y}}{11520 \\, {\\left(a_{x}^{2} + a_{y}^{2} + u^{2}\\right)}^{\\frac{9}{2}} {\\left(\\frac{\\pi^{4} {\\left(a_{x}^{2} + a_{y}^{2} + u^{2}\\right)}^{2}}{a^{4} k_{m}^{4}} + 1\\right)}} + \\frac{7 \\, a_{x} a_{y}^{3}}{11520 \\, {\\left(a_{x}^{2} + a_{y}^{2} + u^{2}\\right)}^{\\frac{9}{2}} {\\left(\\frac{\\pi^{4} {\\left(a_{x}^{2} + a_{y}^{2} + u^{2}\\right)}^{2}}{a^{4} k_{m}^{4}} + 1\\right)}} - \\frac{a_{x} a_{y}}{3840 \\, {\\left(a_{x}^{2} + a_{y}^{2} + u^{2}\\right)}^{\\frac{7}{2}} {\\left(\\frac{\\pi^{4} {\\left(a_{x}^{2} + a_{y}^{2} + u^{2}\\right)}^{2}}{a^{4} k_{m}^{4}} + 1\\right)}} + \\frac{\\pi^{4} {\\left(a_{x}^{2} + a_{y}^{2} + u^{2}\\right)}^{\\frac{3}{2}} a_{x}}{6 \\, a^{4} k_{m}^{4} {\\left(\\frac{\\pi^{4} {\\left(a_{x}^{2} + a_{y}^{2} + u^{2}\\right)}^{2}}{a^{4} k_{m}^{4}} + 1\\right)}^{2}} - \\frac{\\pi^{4} a_{x}^{3}}{120 \\, \\sqrt{a_{x}^{2} + a_{y}^{2} + u^{2}} a^{4} k_{m}^{4} {\\left(\\frac{\\pi^{4} {\\left(a_{x}^{2} + a_{y}^{2} + u^{2}\\right)}^{2}}{a^{4} k_{m}^{4}} + 1\\right)}^{2}} + \\frac{\\pi^{4} {\\left(a_{x}^{2} + a_{y}^{2} + u^{2}\\right)}^{\\frac{3}{2}} a_{y}}{6 \\, a^{4} k_{m}^{4} {\\left(\\frac{\\pi^{4} {\\left(a_{x}^{2} + a_{y}^{2} + u^{2}\\right)}^{2}}{a^{4} k_{m}^{4}} + 1\\right)}^{2}} - \\frac{\\pi^{4} \\sqrt{a_{x}^{2} + a_{y}^{2} + u^{2}} a_{x} a_{y}}{9 \\, a^{4} k_{m}^{4} {\\left(\\frac{\\pi^{4} {\\left(a_{x}^{2} + a_{y}^{2} + u^{2}\\right)}^{2}}{a^{4} k_{m}^{4}} + 1\\right)}^{2}} - \\frac{\\pi^{4} a_{y}^{3}}{120 \\, \\sqrt{a_{x}^{2} + a_{y}^{2} + u^{2}} a^{4} k_{m}^{4} {\\left(\\frac{\\pi^{4} {\\left(a_{x}^{2} + a_{y}^{2} + u^{2}\\right)}^{2}}{a^{4} k_{m}^{4}} + 1\\right)}^{2}} - \\frac{\\pi^{4} a_{x}^{3} a_{y}^{3}}{720 \\, {\\left(a_{x}^{2} + a_{y}^{2} + u^{2}\\right)}^{\\frac{7}{2}} a^{4} k_{m}^{4} {\\left(\\frac{\\pi^{4} {\\left(a_{x}^{2} + a_{y}^{2} + u^{2}\\right)}^{2}}{a^{4} k_{m}^{4}} + 1\\right)}^{2}} - \\frac{\\pi^{4} \\sqrt{a_{x}^{2} + a_{y}^{2} + u^{2}} a_{x}}{30 \\, a^{4} k_{m}^{4} {\\left(\\frac{\\pi^{4} {\\left(a_{x}^{2} + a_{y}^{2} + u^{2}\\right)}^{2}}{a^{4} k_{m}^{4}} + 1\\right)}^{2}} - \\frac{\\pi^{4} \\sqrt{a_{x}^{2} + a_{y}^{2} + u^{2}} a_{y}}{30 \\, a^{4} k_{m}^{4} {\\left(\\frac{\\pi^{4} {\\left(a_{x}^{2} + a_{y}^{2} + u^{2}\\right)}^{2}}{a^{4} k_{m}^{4}} + 1\\right)}^{2}} + \\frac{\\pi^{4} a_{x} a_{y}}{120 \\, \\sqrt{a_{x}^{2} + a_{y}^{2} + u^{2}} a^{4} k_{m}^{4} {\\left(\\frac{\\pi^{4} {\\left(a_{x}^{2} + a_{y}^{2} + u^{2}\\right)}^{2}}{a^{4} k_{m}^{4}} + 1\\right)}^{2}} + \\frac{\\pi^{4} a_{x}^{3} a_{y}}{2880 \\, {\\left(a_{x}^{2} + a_{y}^{2} + u^{2}\\right)}^{\\frac{5}{2}} a^{4} k_{m}^{4} {\\left(\\frac{\\pi^{4} {\\left(a_{x}^{2} + a_{y}^{2} + u^{2}\\right)}^{2}}{a^{4} k_{m}^{4}} + 1\\right)}^{2}} + \\frac{\\pi^{4} a_{x} a_{y}^{3}}{2880 \\, {\\left(a_{x}^{2} + a_{y}^{2} + u^{2}\\right)}^{\\frac{5}{2}} a^{4} k_{m}^{4} {\\left(\\frac{\\pi^{4} {\\left(a_{x}^{2} + a_{y}^{2} + u^{2}\\right)}^{2}}{a^{4} k_{m}^{4}} + 1\\right)}^{2}} + \\frac{\\pi^{8} {\\left(a_{x}^{2} + a_{y}^{2} + u^{2}\\right)}^{\\frac{3}{2}} a_{x}^{3}}{5 \\, a^{8} k_{m}^{8} {\\left(\\frac{\\pi^{4} {\\left(a_{x}^{2} + a_{y}^{2} + u^{2}\\right)}^{2}}{a^{4} k_{m}^{4}} + 1\\right)}^{3}} + \\frac{2 \\, \\pi^{8} {\\left(a_{x}^{2} + a_{y}^{2} + u^{2}\\right)}^{\\frac{5}{2}} a_{x} a_{y}}{9 \\, a^{8} k_{m}^{8} {\\left(\\frac{\\pi^{4} {\\left(a_{x}^{2} + a_{y}^{2} + u^{2}\\right)}^{2}}{a^{4} k_{m}^{4}} + 1\\right)}^{3}} - \\frac{\\pi^{8} \\sqrt{a_{x}^{2} + a_{y}^{2} + u^{2}} a_{x}^{3} a_{y}}{9 \\, a^{8} k_{m}^{8} {\\left(\\frac{\\pi^{4} {\\left(a_{x}^{2} + a_{y}^{2} + u^{2}\\right)}^{2}}{a^{4} k_{m}^{4}} + 1\\right)}^{3}} + \\frac{\\pi^{8} {\\left(a_{x}^{2} + a_{y}^{2} + u^{2}\\right)}^{\\frac{3}{2}} a_{y}^{3}}{5 \\, a^{8} k_{m}^{8} {\\left(\\frac{\\pi^{4} {\\left(a_{x}^{2} + a_{y}^{2} + u^{2}\\right)}^{2}}{a^{4} k_{m}^{4}} + 1\\right)}^{3}} - \\frac{\\pi^{8} \\sqrt{a_{x}^{2} + a_{y}^{2} + u^{2}} a_{x} a_{y}^{3}}{9 \\, a^{8} k_{m}^{8} {\\left(\\frac{\\pi^{4} {\\left(a_{x}^{2} + a_{y}^{2} + u^{2}\\right)}^{2}}{a^{4} k_{m}^{4}} + 1\\right)}^{3}} - \\frac{\\pi^{8} a_{x}^{3} a_{y}^{3}}{360 \\, {\\left(a_{x}^{2} + a_{y}^{2} + u^{2}\\right)}^{\\frac{3}{2}} a^{8} k_{m}^{8} {\\left(\\frac{\\pi^{4} {\\left(a_{x}^{2} + a_{y}^{2} + u^{2}\\right)}^{2}}{a^{4} k_{m}^{4}} + 1\\right)}^{3}} + \\frac{\\pi^{8} {\\left(a_{x}^{2} + a_{y}^{2} + u^{2}\\right)}^{\\frac{5}{2}} a_{x}}{15 \\, a^{8} k_{m}^{8} {\\left(\\frac{\\pi^{4} {\\left(a_{x}^{2} + a_{y}^{2} + u^{2}\\right)}^{2}}{a^{4} k_{m}^{4}} + 1\\right)}^{3}} + \\frac{\\pi^{8} {\\left(a_{x}^{2} + a_{y}^{2} + u^{2}\\right)}^{\\frac{5}{2}} a_{y}}{15 \\, a^{8} k_{m}^{8} {\\left(\\frac{\\pi^{4} {\\left(a_{x}^{2} + a_{y}^{2} + u^{2}\\right)}^{2}}{a^{4} k_{m}^{4}} + 1\\right)}^{3}} - \\frac{\\pi^{8} {\\left(a_{x}^{2} + a_{y}^{2} + u^{2}\\right)}^{\\frac{3}{2}} a_{x} a_{y}}{5 \\, a^{8} k_{m}^{8} {\\left(\\frac{\\pi^{4} {\\left(a_{x}^{2} + a_{y}^{2} + u^{2}\\right)}^{2}}{a^{4} k_{m}^{4}} + 1\\right)}^{3}} + \\frac{\\pi^{8} a_{x}^{3} a_{y}}{180 \\, \\sqrt{a_{x}^{2} + a_{y}^{2} + u^{2}} a^{8} k_{m}^{8} {\\left(\\frac{\\pi^{4} {\\left(a_{x}^{2} + a_{y}^{2} + u^{2}\\right)}^{2}}{a^{4} k_{m}^{4}} + 1\\right)}^{3}} + \\frac{\\pi^{8} a_{x} a_{y}^{3}}{180 \\, \\sqrt{a_{x}^{2} + a_{y}^{2} + u^{2}} a^{8} k_{m}^{8} {\\left(\\frac{\\pi^{4} {\\left(a_{x}^{2} + a_{y}^{2} + u^{2}\\right)}^{2}}{a^{4} k_{m}^{4}} + 1\\right)}^{3}} + \\frac{\\pi^{8} \\sqrt{a_{x}^{2} + a_{y}^{2} + u^{2}} a_{x} a_{y}}{60 \\, a^{8} k_{m}^{8} {\\left(\\frac{\\pi^{4} {\\left(a_{x}^{2} + a_{y}^{2} + u^{2}\\right)}^{2}}{a^{4} k_{m}^{4}} + 1\\right)}^{3}} - \\frac{4 \\, \\pi^{12} {\\left(a_{x}^{2} + a_{y}^{2} + u^{2}\\right)}^{\\frac{7}{2}} a_{x}^{3}}{15 \\, a^{12} k_{m}^{12} {\\left(\\frac{\\pi^{4} {\\left(a_{x}^{2} + a_{y}^{2} + u^{2}\\right)}^{2}}{a^{4} k_{m}^{4}} + 1\\right)}^{4}} + \\frac{32 \\, \\pi^{12} {\\left(a_{x}^{2} + a_{y}^{2} + u^{2}\\right)}^{\\frac{5}{2}} a_{x}^{3} a_{y}}{45 \\, a^{12} k_{m}^{12} {\\left(\\frac{\\pi^{4} {\\left(a_{x}^{2} + a_{y}^{2} + u^{2}\\right)}^{2}}{a^{4} k_{m}^{4}} + 1\\right)}^{4}} - \\frac{4 \\, \\pi^{12} {\\left(a_{x}^{2} + a_{y}^{2} + u^{2}\\right)}^{\\frac{7}{2}} a_{y}^{3}}{15 \\, a^{12} k_{m}^{12} {\\left(\\frac{\\pi^{4} {\\left(a_{x}^{2} + a_{y}^{2} + u^{2}\\right)}^{2}}{a^{4} k_{m}^{4}} + 1\\right)}^{4}} + \\frac{32 \\, \\pi^{12} {\\left(a_{x}^{2} + a_{y}^{2} + u^{2}\\right)}^{\\frac{5}{2}} a_{x} a_{y}^{3}}{45 \\, a^{12} k_{m}^{12} {\\left(\\frac{\\pi^{4} {\\left(a_{x}^{2} + a_{y}^{2} + u^{2}\\right)}^{2}}{a^{4} k_{m}^{4}} + 1\\right)}^{4}} - \\frac{4 \\, \\pi^{12} \\sqrt{a_{x}^{2} + a_{y}^{2} + u^{2}} a_{x}^{3} a_{y}^{3}}{15 \\, a^{12} k_{m}^{12} {\\left(\\frac{\\pi^{4} {\\left(a_{x}^{2} + a_{y}^{2} + u^{2}\\right)}^{2}}{a^{4} k_{m}^{4}} + 1\\right)}^{4}} + \\frac{4 \\, \\pi^{12} {\\left(a_{x}^{2} + a_{y}^{2} + u^{2}\\right)}^{\\frac{7}{2}} a_{x} a_{y}}{15 \\, a^{12} k_{m}^{12} {\\left(\\frac{\\pi^{4} {\\left(a_{x}^{2} + a_{y}^{2} + u^{2}\\right)}^{2}}{a^{4} k_{m}^{4}} + 1\\right)}^{4}} - \\frac{11 \\, \\pi^{12} {\\left(a_{x}^{2} + a_{y}^{2} + u^{2}\\right)}^{\\frac{3}{2}} a_{x}^{3} a_{y}}{45 \\, a^{12} k_{m}^{12} {\\left(\\frac{\\pi^{4} {\\left(a_{x}^{2} + a_{y}^{2} + u^{2}\\right)}^{2}}{a^{4} k_{m}^{4}} + 1\\right)}^{4}} - \\frac{11 \\, \\pi^{12} {\\left(a_{x}^{2} + a_{y}^{2} + u^{2}\\right)}^{\\frac{3}{2}} a_{x} a_{y}^{3}}{45 \\, a^{12} k_{m}^{12} {\\left(\\frac{\\pi^{4} {\\left(a_{x}^{2} + a_{y}^{2} + u^{2}\\right)}^{2}}{a^{4} k_{m}^{4}} + 1\\right)}^{4}} - \\frac{8 \\, \\pi^{12} {\\left(a_{x}^{2} + a_{y}^{2} + u^{2}\\right)}^{\\frac{5}{2}} a_{x} a_{y}}{75 \\, a^{12} k_{m}^{12} {\\left(\\frac{\\pi^{4} {\\left(a_{x}^{2} + a_{y}^{2} + u^{2}\\right)}^{2}}{a^{4} k_{m}^{4}} + 1\\right)}^{4}} - \\frac{32 \\, \\pi^{16} {\\left(a_{x}^{2} + a_{y}^{2} + u^{2}\\right)}^{\\frac{9}{2}} a_{x}^{3} a_{y}}{45 \\, a^{16} k_{m}^{16} {\\left(\\frac{\\pi^{4} {\\left(a_{x}^{2} + a_{y}^{2} + u^{2}\\right)}^{2}}{a^{4} k_{m}^{4}} + 1\\right)}^{5}} - \\frac{32 \\, \\pi^{16} {\\left(a_{x}^{2} + a_{y}^{2} + u^{2}\\right)}^{\\frac{9}{2}} a_{x} a_{y}^{3}}{45 \\, a^{16} k_{m}^{16} {\\left(\\frac{\\pi^{4} {\\left(a_{x}^{2} + a_{y}^{2} + u^{2}\\right)}^{2}}{a^{4} k_{m}^{4}} + 1\\right)}^{5}} + \\frac{152 \\, \\pi^{16} {\\left(a_{x}^{2} + a_{y}^{2} + u^{2}\\right)}^{\\frac{5}{2}} a_{x}^{3} a_{y}^{3}}{45 \\, a^{16} k_{m}^{16} {\\left(\\frac{\\pi^{4} {\\left(a_{x}^{2} + a_{y}^{2} + u^{2}\\right)}^{2}}{a^{4} k_{m}^{4}} + 1\\right)}^{5}} + \\frac{8 \\, \\pi^{16} {\\left(a_{x}^{2} + a_{y}^{2} + u^{2}\\right)}^{\\frac{7}{2}} a_{x}^{3} a_{y}}{9 \\, a^{16} k_{m}^{16} {\\left(\\frac{\\pi^{4} {\\left(a_{x}^{2} + a_{y}^{2} + u^{2}\\right)}^{2}}{a^{4} k_{m}^{4}} + 1\\right)}^{5}} + \\frac{8 \\, \\pi^{16} {\\left(a_{x}^{2} + a_{y}^{2} + u^{2}\\right)}^{\\frac{7}{2}} a_{x} a_{y}^{3}}{9 \\, a^{16} k_{m}^{16} {\\left(\\frac{\\pi^{4} {\\left(a_{x}^{2} + a_{y}^{2} + u^{2}\\right)}^{2}}{a^{4} k_{m}^{4}} + 1\\right)}^{5}} + \\frac{8 \\, \\pi^{16} {\\left(a_{x}^{2} + a_{y}^{2} + u^{2}\\right)}^{\\frac{9}{2}} a_{x} a_{y}}{75 \\, a^{16} k_{m}^{16} {\\left(\\frac{\\pi^{4} {\\left(a_{x}^{2} + a_{y}^{2} + u^{2}\\right)}^{2}}{a^{4} k_{m}^{4}} + 1\\right)}^{5}} - \\frac{128 \\, \\pi^{20} {\\left(a_{x}^{2} + a_{y}^{2} + u^{2}\\right)}^{\\frac{9}{2}} a_{x}^{3} a_{y}^{3}}{15 \\, a^{20} k_{m}^{20} {\\left(\\frac{\\pi^{4} {\\left(a_{x}^{2} + a_{y}^{2} + u^{2}\\right)}^{2}}{a^{4} k_{m}^{4}} + 1\\right)}^{6}} - \\frac{32 \\, \\pi^{20} {\\left(a_{x}^{2} + a_{y}^{2} + u^{2}\\right)}^{\\frac{11}{2}} a_{x}^{3} a_{y}}{45 \\, a^{20} k_{m}^{20} {\\left(\\frac{\\pi^{4} {\\left(a_{x}^{2} + a_{y}^{2} + u^{2}\\right)}^{2}}{a^{4} k_{m}^{4}} + 1\\right)}^{6}} - \\frac{32 \\, \\pi^{20} {\\left(a_{x}^{2} + a_{y}^{2} + u^{2}\\right)}^{\\frac{11}{2}} a_{x} a_{y}^{3}}{45 \\, a^{20} k_{m}^{20} {\\left(\\frac{\\pi^{4} {\\left(a_{x}^{2} + a_{y}^{2} + u^{2}\\right)}^{2}}{a^{4} k_{m}^{4}} + 1\\right)}^{6}} + \\frac{256 \\, \\pi^{24} {\\left(a_{x}^{2} + a_{y}^{2} + u^{2}\\right)}^{\\frac{13}{2}} a_{x}^{3} a_{y}^{3}}{45 \\, a^{24} k_{m}^{24} {\\left(\\frac{\\pi^{4} {\\left(a_{x}^{2} + a_{y}^{2} + u^{2}\\right)}^{2}}{a^{4} k_{m}^{4}} + 1\\right)}^{7}}$"
      ],
      "text/plain": [
       "<IPython.core.display.Math object>"
      ]
     },
     "metadata": {},
     "output_type": "display_data"
    }
   ],
   "source": [
    "sum_sum_Fn = lambda u, a, k_m : sum_dfdx_bernoulis(sum_dfdx_bernoulis (Fn(u, n_x, n_y, a, k_m), n_x, 0, b_x, p), n_y, 0, b_x, p)\n",
    "print(\"sum_sum=\",sum_sum)\n",
    "display(Math(latex(sum_sum)))"
   ]
  },
  {
   "cell_type": "code",
   "execution_count": 48,
   "metadata": {},
   "outputs": [
    {
     "data": {
      "text/plain": [
       "sum(diff(F(n_x, n_y), n_y), n_x, a_x, b_x)"
      ]
     },
     "execution_count": 48,
     "metadata": {},
     "output_type": "execute_result"
    }
   ],
   "source": [
    "# Sagemath 9.3 has bug diff of symbolic_sum\n",
    "# https://trac.sagemath.org/ticket/32161\n",
    "\n",
    "from sage.calculus.calculus import symbolic_sum\n",
    "s = symbolic_sum(F, n_x, a_x, b_x, algorithm = 'giac')\n",
    "s.diff(n_y)"
   ]
  },
  {
   "cell_type": "code",
   "execution_count": 49,
   "metadata": {},
   "outputs": [
    {
     "name": "stdout",
     "output_type": "stream",
     "text": [
      "R_px= -integrate(1/720*(30*(n_x - floor(n_x))^4 - 60*(n_x - floor(n_x))^3 + 30*(n_x - floor(n_x))^2 - 1)*diff(F(n_x, n_y), n_x, n_x, n_x, n_x), n_x, a_x, b_x)\n"
     ]
    },
    {
     "data": {
      "text/latex": [
       "$\\displaystyle -\\int_{a_{x}}^{b_{x}} \\frac{1}{720} \\, {\\left(30 \\, {\\left(n_{x} - \\left \\lfloor n_{x} \\right \\rfloor\\right)}^{4} - 60 \\, {\\left(n_{x} - \\left \\lfloor n_{x} \\right \\rfloor\\right)}^{3} + 30 \\, {\\left(n_{x} - \\left \\lfloor n_{x} \\right \\rfloor\\right)}^{2} - 1\\right)} \\frac{\\partial^{4}}{(\\partial n_{x})^{4}}F\\left(n_{x}, n_{y}\\right)\\,{d n_{x}}$"
      ],
      "text/plain": [
       "<IPython.core.display.Math object>"
      ]
     },
     "metadata": {},
     "output_type": "display_data"
    },
    {
     "name": "stdout",
     "output_type": "stream",
     "text": [
      "sumy_R_px= -1/1440*integrate(30*n_x^4*diff(F(n_x, a_y), n_x, n_x, n_x, n_x), n_x, a_x, b_x) - 1/1440*integrate(-120*n_x^3*floor(n_x)*diff(F(n_x, a_y), n_x, n_x, n_x, n_x), n_x, a_x, b_x) - 1/1440*integrate(180*n_x^2*floor(n_x)^2*diff(F(n_x, a_y), n_x, n_x, n_x, n_x), n_x, a_x, b_x) - 1/1440*integrate(-120*n_x*floor(n_x)^3*diff(F(n_x, a_y), n_x, n_x, n_x, n_x), n_x, a_x, b_x) - 1/1440*integrate(30*floor(n_x)^4*diff(F(n_x, a_y), n_x, n_x, n_x, n_x), n_x, a_x, b_x) - 1/17280*integrate(n_x^4*diff(F(n_x, a_y), n_x, n_x, n_x, n_x, a_y, a_y, a_y), n_x, a_x, b_x) + 1/4320*integrate(n_x^3*floor(n_x)*diff(F(n_x, a_y), n_x, n_x, n_x, n_x, a_y, a_y, a_y), n_x, a_x, b_x) - 1/2880*integrate(n_x^2*floor(n_x)^2*diff(F(n_x, a_y), n_x, n_x, n_x, n_x, a_y, a_y, a_y), n_x, a_x, b_x) + 1/4320*integrate(n_x*floor(n_x)^3*diff(F(n_x, a_y), n_x, n_x, n_x, n_x, a_y, a_y, a_y), n_x, a_x, b_x) - 1/17280*integrate(floor(n_x)^4*diff(F(n_x, a_y), n_x, n_x, n_x, n_x, a_y, a_y, a_y), n_x, a_x, b_x) - 1/1440*integrate(-60*n_x^3*diff(F(n_x, a_y), n_x, n_x, n_x, n_x), n_x, a_x, b_x) - 1/1440*integrate(180*n_x^2*floor(n_x)*diff(F(n_x, a_y), n_x, n_x, n_x, n_x), n_x, a_x, b_x) - 1/1440*integrate(-180*n_x*floor(n_x)^2*diff(F(n_x, a_y), n_x, n_x, n_x, n_x), n_x, a_x, b_x) - 1/1440*integrate(60*floor(n_x)^3*diff(F(n_x, a_y), n_x, n_x, n_x, n_x), n_x, a_x, b_x) + 1/8640*integrate(n_x^3*diff(F(n_x, a_y), n_x, n_x, n_x, n_x, a_y, a_y, a_y), n_x, a_x, b_x) - 1/2880*integrate(n_x^2*floor(n_x)*diff(F(n_x, a_y), n_x, n_x, n_x, n_x, a_y, a_y, a_y), n_x, a_x, b_x) + 1/2880*integrate(n_x*floor(n_x)^2*diff(F(n_x, a_y), n_x, n_x, n_x, n_x, a_y, a_y, a_y), n_x, a_x, b_x) - 1/8640*integrate(floor(n_x)^3*diff(F(n_x, a_y), n_x, n_x, n_x, n_x, a_y, a_y, a_y), n_x, a_x, b_x) - 1/1440*integrate(30*n_x^2*diff(F(n_x, a_y), n_x, n_x, n_x, n_x), n_x, a_x, b_x) - 1/1440*integrate(-60*n_x*floor(n_x)*diff(F(n_x, a_y), n_x, n_x, n_x, n_x), n_x, a_x, b_x) - 1/1440*integrate(30*floor(n_x)^2*diff(F(n_x, a_y), n_x, n_x, n_x, n_x), n_x, a_x, b_x) - 1/17280*integrate(n_x^2*diff(F(n_x, a_y), n_x, n_x, n_x, n_x, a_y, a_y, a_y), n_x, a_x, b_x) + 1/8640*integrate(n_x*floor(n_x)*diff(F(n_x, a_y), n_x, n_x, n_x, n_x, a_y, a_y, a_y), n_x, a_x, b_x) - 1/17280*integrate(floor(n_x)^2*diff(F(n_x, a_y), n_x, n_x, n_x, n_x, a_y, a_y, a_y), n_x, a_x, b_x) + 1/8640*integrate((30*(n_x - floor(n_x))^4 - 60*(n_x - floor(n_x))^3 + 30*(n_x - floor(n_x))^2 - 1)*diff(F(n_x, a_y), n_x, n_x, n_x, n_x, a_y), n_x, a_x, b_x) - 1/1440*integrate(-diff(F(n_x, a_y), n_x, n_x, n_x, n_x), n_x, a_x, b_x) - 1/518400*diff(F(a_x, a_y), a_x, a_x, a_x, a_y, a_y, a_y) + 1/518400*diff(F(b_x, a_y), b_x, b_x, b_x, a_y, a_y, a_y)\n"
     ]
    },
    {
     "data": {
      "text/latex": [
       "$\\displaystyle -\\frac{1}{1440} \\, \\int_{a_{x}}^{b_{x}} 30 \\, n_{x}^{4} \\frac{\\partial^{4}}{(\\partial n_{x})^{4}}F\\left(n_{x}, a_{y}\\right)\\,{d n_{x}} - \\frac{1}{1440} \\, \\int_{a_{x}}^{b_{x}} -120 \\, n_{x}^{3} \\left \\lfloor n_{x} \\right \\rfloor \\frac{\\partial^{4}}{(\\partial n_{x})^{4}}F\\left(n_{x}, a_{y}\\right)\\,{d n_{x}} - \\frac{1}{1440} \\, \\int_{a_{x}}^{b_{x}} 180 \\, n_{x}^{2} \\left \\lfloor n_{x} \\right \\rfloor^{2} \\frac{\\partial^{4}}{(\\partial n_{x})^{4}}F\\left(n_{x}, a_{y}\\right)\\,{d n_{x}} - \\frac{1}{1440} \\, \\int_{a_{x}}^{b_{x}} -120 \\, n_{x} \\left \\lfloor n_{x} \\right \\rfloor^{3} \\frac{\\partial^{4}}{(\\partial n_{x})^{4}}F\\left(n_{x}, a_{y}\\right)\\,{d n_{x}} - \\frac{1}{1440} \\, \\int_{a_{x}}^{b_{x}} 30 \\, \\left \\lfloor n_{x} \\right \\rfloor^{4} \\frac{\\partial^{4}}{(\\partial n_{x})^{4}}F\\left(n_{x}, a_{y}\\right)\\,{d n_{x}} - \\frac{1}{17280} \\, \\int_{a_{x}}^{b_{x}} n_{x}^{4} \\frac{\\partial^{7}}{(\\partial n_{x})^{4}(\\partial a_{y})^{3}}F\\left(n_{x}, a_{y}\\right)\\,{d n_{x}} + \\frac{1}{4320} \\, \\int_{a_{x}}^{b_{x}} n_{x}^{3} \\left \\lfloor n_{x} \\right \\rfloor \\frac{\\partial^{7}}{(\\partial n_{x})^{4}(\\partial a_{y})^{3}}F\\left(n_{x}, a_{y}\\right)\\,{d n_{x}} - \\frac{1}{2880} \\, \\int_{a_{x}}^{b_{x}} n_{x}^{2} \\left \\lfloor n_{x} \\right \\rfloor^{2} \\frac{\\partial^{7}}{(\\partial n_{x})^{4}(\\partial a_{y})^{3}}F\\left(n_{x}, a_{y}\\right)\\,{d n_{x}} + \\frac{1}{4320} \\, \\int_{a_{x}}^{b_{x}} n_{x} \\left \\lfloor n_{x} \\right \\rfloor^{3} \\frac{\\partial^{7}}{(\\partial n_{x})^{4}(\\partial a_{y})^{3}}F\\left(n_{x}, a_{y}\\right)\\,{d n_{x}} - \\frac{1}{17280} \\, \\int_{a_{x}}^{b_{x}} \\left \\lfloor n_{x} \\right \\rfloor^{4} \\frac{\\partial^{7}}{(\\partial n_{x})^{4}(\\partial a_{y})^{3}}F\\left(n_{x}, a_{y}\\right)\\,{d n_{x}} - \\frac{1}{1440} \\, \\int_{a_{x}}^{b_{x}} -60 \\, n_{x}^{3} \\frac{\\partial^{4}}{(\\partial n_{x})^{4}}F\\left(n_{x}, a_{y}\\right)\\,{d n_{x}} - \\frac{1}{1440} \\, \\int_{a_{x}}^{b_{x}} 180 \\, n_{x}^{2} \\left \\lfloor n_{x} \\right \\rfloor \\frac{\\partial^{4}}{(\\partial n_{x})^{4}}F\\left(n_{x}, a_{y}\\right)\\,{d n_{x}} - \\frac{1}{1440} \\, \\int_{a_{x}}^{b_{x}} -180 \\, n_{x} \\left \\lfloor n_{x} \\right \\rfloor^{2} \\frac{\\partial^{4}}{(\\partial n_{x})^{4}}F\\left(n_{x}, a_{y}\\right)\\,{d n_{x}} - \\frac{1}{1440} \\, \\int_{a_{x}}^{b_{x}} 60 \\, \\left \\lfloor n_{x} \\right \\rfloor^{3} \\frac{\\partial^{4}}{(\\partial n_{x})^{4}}F\\left(n_{x}, a_{y}\\right)\\,{d n_{x}} + \\frac{1}{8640} \\, \\int_{a_{x}}^{b_{x}} n_{x}^{3} \\frac{\\partial^{7}}{(\\partial n_{x})^{4}(\\partial a_{y})^{3}}F\\left(n_{x}, a_{y}\\right)\\,{d n_{x}} - \\frac{1}{2880} \\, \\int_{a_{x}}^{b_{x}} n_{x}^{2} \\left \\lfloor n_{x} \\right \\rfloor \\frac{\\partial^{7}}{(\\partial n_{x})^{4}(\\partial a_{y})^{3}}F\\left(n_{x}, a_{y}\\right)\\,{d n_{x}} + \\frac{1}{2880} \\, \\int_{a_{x}}^{b_{x}} n_{x} \\left \\lfloor n_{x} \\right \\rfloor^{2} \\frac{\\partial^{7}}{(\\partial n_{x})^{4}(\\partial a_{y})^{3}}F\\left(n_{x}, a_{y}\\right)\\,{d n_{x}} - \\frac{1}{8640} \\, \\int_{a_{x}}^{b_{x}} \\left \\lfloor n_{x} \\right \\rfloor^{3} \\frac{\\partial^{7}}{(\\partial n_{x})^{4}(\\partial a_{y})^{3}}F\\left(n_{x}, a_{y}\\right)\\,{d n_{x}} - \\frac{1}{1440} \\, \\int_{a_{x}}^{b_{x}} 30 \\, n_{x}^{2} \\frac{\\partial^{4}}{(\\partial n_{x})^{4}}F\\left(n_{x}, a_{y}\\right)\\,{d n_{x}} - \\frac{1}{1440} \\, \\int_{a_{x}}^{b_{x}} -60 \\, n_{x} \\left \\lfloor n_{x} \\right \\rfloor \\frac{\\partial^{4}}{(\\partial n_{x})^{4}}F\\left(n_{x}, a_{y}\\right)\\,{d n_{x}} - \\frac{1}{1440} \\, \\int_{a_{x}}^{b_{x}} 30 \\, \\left \\lfloor n_{x} \\right \\rfloor^{2} \\frac{\\partial^{4}}{(\\partial n_{x})^{4}}F\\left(n_{x}, a_{y}\\right)\\,{d n_{x}} - \\frac{1}{17280} \\, \\int_{a_{x}}^{b_{x}} n_{x}^{2} \\frac{\\partial^{7}}{(\\partial n_{x})^{4}(\\partial a_{y})^{3}}F\\left(n_{x}, a_{y}\\right)\\,{d n_{x}} + \\frac{1}{8640} \\, \\int_{a_{x}}^{b_{x}} n_{x} \\left \\lfloor n_{x} \\right \\rfloor \\frac{\\partial^{7}}{(\\partial n_{x})^{4}(\\partial a_{y})^{3}}F\\left(n_{x}, a_{y}\\right)\\,{d n_{x}} - \\frac{1}{17280} \\, \\int_{a_{x}}^{b_{x}} \\left \\lfloor n_{x} \\right \\rfloor^{2} \\frac{\\partial^{7}}{(\\partial n_{x})^{4}(\\partial a_{y})^{3}}F\\left(n_{x}, a_{y}\\right)\\,{d n_{x}} + \\frac{1}{8640} \\, \\int_{a_{x}}^{b_{x}} {\\left(30 \\, {\\left(n_{x} - \\left \\lfloor n_{x} \\right \\rfloor\\right)}^{4} - 60 \\, {\\left(n_{x} - \\left \\lfloor n_{x} \\right \\rfloor\\right)}^{3} + 30 \\, {\\left(n_{x} - \\left \\lfloor n_{x} \\right \\rfloor\\right)}^{2} - 1\\right)} \\frac{\\partial^{5}}{(\\partial n_{x})^{4}\\partial a_{y}}F\\left(n_{x}, a_{y}\\right)\\,{d n_{x}} - \\frac{1}{1440} \\, \\int_{a_{x}}^{b_{x}} -\\frac{\\partial^{4}}{(\\partial n_{x})^{4}}F\\left(n_{x}, a_{y}\\right)\\,{d n_{x}} - \\frac{1}{518400} \\, \\frac{\\partial^{6}}{(\\partial a_{x})^{3}(\\partial a_{y})^{3}}F\\left(a_{x}, a_{y}\\right) + \\frac{1}{518400} \\, \\frac{\\partial^{6}}{(\\partial b_{x})^{3}(\\partial a_{y})^{3}}F\\left(b_{x}, a_{y}\\right)$"
      ],
      "text/plain": [
       "<IPython.core.display.Math object>"
      ]
     },
     "metadata": {},
     "output_type": "display_data"
    }
   ],
   "source": [
    "try:\n",
    "    use_int_R_p_j=False\n",
    "\n",
    "    # Sagemath 9.3 has bug diff of symbolic_sum\n",
    "    # https://trac.sagemath.org/ticket/32161\n",
    "\n",
    "    R_px = euler_maclaurin_R_p(F, n_x, a_x, b_x,p, f_diff_symb_p=F.diff(n_x,p))\n",
    "    if type(R_px) is tuple:\n",
    "        (R_px, term) = R_px\n",
    "        print(\"term=\", term)\n",
    "        display(Math(latex(term)))\n",
    "\n",
    "    print(\"R_px=\", R_px)\n",
    "    display(Math(latex(R_px)))\n",
    "\n",
    "    sumy_R_px = sum_dfdx_bernoulis(R_px, n_y, a_y, b_y, p)\n",
    "    print(\"sumy_R_px=\",sumy_R_px)\n",
    "    display(Math(latex(sumy_R_px)))\n",
    "except Exception as ex:\n",
    "    print(ex)"
   ]
  },
  {
   "cell_type": "code",
   "execution_count": 50,
   "metadata": {},
   "outputs": [
    {
     "name": "stdout",
     "output_type": "stream",
     "text": [
      "sum_R_p= -1/1440*integrate(30*n_x^4*diff(F(n_x, a_y), n_x, n_x, n_x, n_x), n_x, a_x, b_x) - 1/1440*integrate(-120*n_x^3*floor(n_x)*diff(F(n_x, a_y), n_x, n_x, n_x, n_x), n_x, a_x, b_x) - 1/1440*integrate(180*n_x^2*floor(n_x)^2*diff(F(n_x, a_y), n_x, n_x, n_x, n_x), n_x, a_x, b_x) - 1/1440*integrate(-120*n_x*floor(n_x)^3*diff(F(n_x, a_y), n_x, n_x, n_x, n_x), n_x, a_x, b_x) - 1/1440*integrate(30*floor(n_x)^4*diff(F(n_x, a_y), n_x, n_x, n_x, n_x), n_x, a_x, b_x) + 1/288*integrate(n_x^4*diff(F(n_x, a_y), n_x, n_x, n_x, n_x, a_y), n_x, a_x, b_x) - 1/72*integrate(n_x^3*floor(n_x)*diff(F(n_x, a_y), n_x, n_x, n_x, n_x, a_y), n_x, a_x, b_x) + 1/48*integrate(n_x^2*floor(n_x)^2*diff(F(n_x, a_y), n_x, n_x, n_x, n_x, a_y), n_x, a_x, b_x) - 1/72*integrate(n_x*floor(n_x)^3*diff(F(n_x, a_y), n_x, n_x, n_x, n_x, a_y), n_x, a_x, b_x) + 1/288*integrate(floor(n_x)^4*diff(F(n_x, a_y), n_x, n_x, n_x, n_x, a_y), n_x, a_x, b_x) - 1/17280*integrate(n_x^4*diff(F(n_x, a_y), n_x, n_x, n_x, n_x, a_y, a_y, a_y), n_x, a_x, b_x) + 1/4320*integrate(n_x^3*floor(n_x)*diff(F(n_x, a_y), n_x, n_x, n_x, n_x, a_y, a_y, a_y), n_x, a_x, b_x) - 1/2880*integrate(n_x^2*floor(n_x)^2*diff(F(n_x, a_y), n_x, n_x, n_x, n_x, a_y, a_y, a_y), n_x, a_x, b_x) + 1/4320*integrate(n_x*floor(n_x)^3*diff(F(n_x, a_y), n_x, n_x, n_x, n_x, a_y, a_y, a_y), n_x, a_x, b_x) - 1/17280*integrate(floor(n_x)^4*diff(F(n_x, a_y), n_x, n_x, n_x, n_x, a_y, a_y, a_y), n_x, a_x, b_x) - 1/1440*integrate(-60*n_x^3*diff(F(n_x, a_y), n_x, n_x, n_x, n_x), n_x, a_x, b_x) - 1/1440*integrate(180*n_x^2*floor(n_x)*diff(F(n_x, a_y), n_x, n_x, n_x, n_x), n_x, a_x, b_x) - 1/1440*integrate(-180*n_x*floor(n_x)^2*diff(F(n_x, a_y), n_x, n_x, n_x, n_x), n_x, a_x, b_x) - 1/1440*integrate(60*floor(n_x)^3*diff(F(n_x, a_y), n_x, n_x, n_x, n_x), n_x, a_x, b_x) - 1/144*integrate(n_x^3*diff(F(n_x, a_y), n_x, n_x, n_x, n_x, a_y), n_x, a_x, b_x) + 1/48*integrate(n_x^2*floor(n_x)*diff(F(n_x, a_y), n_x, n_x, n_x, n_x, a_y), n_x, a_x, b_x) - 1/48*integrate(n_x*floor(n_x)^2*diff(F(n_x, a_y), n_x, n_x, n_x, n_x, a_y), n_x, a_x, b_x) + 1/144*integrate(floor(n_x)^3*diff(F(n_x, a_y), n_x, n_x, n_x, n_x, a_y), n_x, a_x, b_x) + 1/8640*integrate(n_x^3*diff(F(n_x, a_y), n_x, n_x, n_x, n_x, a_y, a_y, a_y), n_x, a_x, b_x) - 1/2880*integrate(n_x^2*floor(n_x)*diff(F(n_x, a_y), n_x, n_x, n_x, n_x, a_y, a_y, a_y), n_x, a_x, b_x) + 1/2880*integrate(n_x*floor(n_x)^2*diff(F(n_x, a_y), n_x, n_x, n_x, n_x, a_y, a_y, a_y), n_x, a_x, b_x) - 1/8640*integrate(floor(n_x)^3*diff(F(n_x, a_y), n_x, n_x, n_x, n_x, a_y, a_y, a_y), n_x, a_x, b_x) - 1/1440*integrate(30*n_x^2*diff(F(n_x, a_y), n_x, n_x, n_x, n_x), n_x, a_x, b_x) - 1/1440*integrate(-60*n_x*floor(n_x)*diff(F(n_x, a_y), n_x, n_x, n_x, n_x), n_x, a_x, b_x) - 1/1440*integrate(30*floor(n_x)^2*diff(F(n_x, a_y), n_x, n_x, n_x, n_x), n_x, a_x, b_x) + 1/288*integrate(n_x^2*diff(F(n_x, a_y), n_x, n_x, n_x, n_x, a_y), n_x, a_x, b_x) - 1/144*integrate(n_x*floor(n_x)*diff(F(n_x, a_y), n_x, n_x, n_x, n_x, a_y), n_x, a_x, b_x) + 1/288*integrate(floor(n_x)^2*diff(F(n_x, a_y), n_x, n_x, n_x, n_x, a_y), n_x, a_x, b_x) - 1/17280*integrate(n_x^2*diff(F(n_x, a_y), n_x, n_x, n_x, n_x, a_y, a_y, a_y), n_x, a_x, b_x) + 1/8640*integrate(n_x*floor(n_x)*diff(F(n_x, a_y), n_x, n_x, n_x, n_x, a_y, a_y, a_y), n_x, a_x, b_x) - 1/17280*integrate(floor(n_x)^2*diff(F(n_x, a_y), n_x, n_x, n_x, n_x, a_y, a_y, a_y), n_x, a_x, b_x) - 1/1440*integrate(-diff(F(n_x, a_y), n_x, n_x, n_x, n_x), n_x, a_x, b_x) + 1/8640*diff(F(a_x, a_y), a_x, a_x, a_x, a_y) - 1/518400*diff(F(a_x, a_y), a_x, a_x, a_x, a_y, a_y, a_y) - 1/8640*diff(F(b_x, a_y), b_x, b_x, b_x, a_y) + 1/518400*diff(F(b_x, a_y), b_x, b_x, b_x, a_y, a_y, a_y)\n"
     ]
    },
    {
     "data": {
      "text/latex": [
       "$\\displaystyle -\\frac{1}{1440} \\, \\int_{a_{x}}^{b_{x}} 30 \\, n_{x}^{4} \\frac{\\partial^{4}}{(\\partial n_{x})^{4}}F\\left(n_{x}, a_{y}\\right)\\,{d n_{x}} - \\frac{1}{1440} \\, \\int_{a_{x}}^{b_{x}} -120 \\, n_{x}^{3} \\left \\lfloor n_{x} \\right \\rfloor \\frac{\\partial^{4}}{(\\partial n_{x})^{4}}F\\left(n_{x}, a_{y}\\right)\\,{d n_{x}} - \\frac{1}{1440} \\, \\int_{a_{x}}^{b_{x}} 180 \\, n_{x}^{2} \\left \\lfloor n_{x} \\right \\rfloor^{2} \\frac{\\partial^{4}}{(\\partial n_{x})^{4}}F\\left(n_{x}, a_{y}\\right)\\,{d n_{x}} - \\frac{1}{1440} \\, \\int_{a_{x}}^{b_{x}} -120 \\, n_{x} \\left \\lfloor n_{x} \\right \\rfloor^{3} \\frac{\\partial^{4}}{(\\partial n_{x})^{4}}F\\left(n_{x}, a_{y}\\right)\\,{d n_{x}} - \\frac{1}{1440} \\, \\int_{a_{x}}^{b_{x}} 30 \\, \\left \\lfloor n_{x} \\right \\rfloor^{4} \\frac{\\partial^{4}}{(\\partial n_{x})^{4}}F\\left(n_{x}, a_{y}\\right)\\,{d n_{x}} + \\frac{1}{288} \\, \\int_{a_{x}}^{b_{x}} n_{x}^{4} \\frac{\\partial^{5}}{(\\partial n_{x})^{4}\\partial a_{y}}F\\left(n_{x}, a_{y}\\right)\\,{d n_{x}} - \\frac{1}{72} \\, \\int_{a_{x}}^{b_{x}} n_{x}^{3} \\left \\lfloor n_{x} \\right \\rfloor \\frac{\\partial^{5}}{(\\partial n_{x})^{4}\\partial a_{y}}F\\left(n_{x}, a_{y}\\right)\\,{d n_{x}} + \\frac{1}{48} \\, \\int_{a_{x}}^{b_{x}} n_{x}^{2} \\left \\lfloor n_{x} \\right \\rfloor^{2} \\frac{\\partial^{5}}{(\\partial n_{x})^{4}\\partial a_{y}}F\\left(n_{x}, a_{y}\\right)\\,{d n_{x}} - \\frac{1}{72} \\, \\int_{a_{x}}^{b_{x}} n_{x} \\left \\lfloor n_{x} \\right \\rfloor^{3} \\frac{\\partial^{5}}{(\\partial n_{x})^{4}\\partial a_{y}}F\\left(n_{x}, a_{y}\\right)\\,{d n_{x}} + \\frac{1}{288} \\, \\int_{a_{x}}^{b_{x}} \\left \\lfloor n_{x} \\right \\rfloor^{4} \\frac{\\partial^{5}}{(\\partial n_{x})^{4}\\partial a_{y}}F\\left(n_{x}, a_{y}\\right)\\,{d n_{x}} - \\frac{1}{17280} \\, \\int_{a_{x}}^{b_{x}} n_{x}^{4} \\frac{\\partial^{7}}{(\\partial n_{x})^{4}(\\partial a_{y})^{3}}F\\left(n_{x}, a_{y}\\right)\\,{d n_{x}} + \\frac{1}{4320} \\, \\int_{a_{x}}^{b_{x}} n_{x}^{3} \\left \\lfloor n_{x} \\right \\rfloor \\frac{\\partial^{7}}{(\\partial n_{x})^{4}(\\partial a_{y})^{3}}F\\left(n_{x}, a_{y}\\right)\\,{d n_{x}} - \\frac{1}{2880} \\, \\int_{a_{x}}^{b_{x}} n_{x}^{2} \\left \\lfloor n_{x} \\right \\rfloor^{2} \\frac{\\partial^{7}}{(\\partial n_{x})^{4}(\\partial a_{y})^{3}}F\\left(n_{x}, a_{y}\\right)\\,{d n_{x}} + \\frac{1}{4320} \\, \\int_{a_{x}}^{b_{x}} n_{x} \\left \\lfloor n_{x} \\right \\rfloor^{3} \\frac{\\partial^{7}}{(\\partial n_{x})^{4}(\\partial a_{y})^{3}}F\\left(n_{x}, a_{y}\\right)\\,{d n_{x}} - \\frac{1}{17280} \\, \\int_{a_{x}}^{b_{x}} \\left \\lfloor n_{x} \\right \\rfloor^{4} \\frac{\\partial^{7}}{(\\partial n_{x})^{4}(\\partial a_{y})^{3}}F\\left(n_{x}, a_{y}\\right)\\,{d n_{x}} - \\frac{1}{1440} \\, \\int_{a_{x}}^{b_{x}} -60 \\, n_{x}^{3} \\frac{\\partial^{4}}{(\\partial n_{x})^{4}}F\\left(n_{x}, a_{y}\\right)\\,{d n_{x}} - \\frac{1}{1440} \\, \\int_{a_{x}}^{b_{x}} 180 \\, n_{x}^{2} \\left \\lfloor n_{x} \\right \\rfloor \\frac{\\partial^{4}}{(\\partial n_{x})^{4}}F\\left(n_{x}, a_{y}\\right)\\,{d n_{x}} - \\frac{1}{1440} \\, \\int_{a_{x}}^{b_{x}} -180 \\, n_{x} \\left \\lfloor n_{x} \\right \\rfloor^{2} \\frac{\\partial^{4}}{(\\partial n_{x})^{4}}F\\left(n_{x}, a_{y}\\right)\\,{d n_{x}} - \\frac{1}{1440} \\, \\int_{a_{x}}^{b_{x}} 60 \\, \\left \\lfloor n_{x} \\right \\rfloor^{3} \\frac{\\partial^{4}}{(\\partial n_{x})^{4}}F\\left(n_{x}, a_{y}\\right)\\,{d n_{x}} - \\frac{1}{144} \\, \\int_{a_{x}}^{b_{x}} n_{x}^{3} \\frac{\\partial^{5}}{(\\partial n_{x})^{4}\\partial a_{y}}F\\left(n_{x}, a_{y}\\right)\\,{d n_{x}} + \\frac{1}{48} \\, \\int_{a_{x}}^{b_{x}} n_{x}^{2} \\left \\lfloor n_{x} \\right \\rfloor \\frac{\\partial^{5}}{(\\partial n_{x})^{4}\\partial a_{y}}F\\left(n_{x}, a_{y}\\right)\\,{d n_{x}} - \\frac{1}{48} \\, \\int_{a_{x}}^{b_{x}} n_{x} \\left \\lfloor n_{x} \\right \\rfloor^{2} \\frac{\\partial^{5}}{(\\partial n_{x})^{4}\\partial a_{y}}F\\left(n_{x}, a_{y}\\right)\\,{d n_{x}} + \\frac{1}{144} \\, \\int_{a_{x}}^{b_{x}} \\left \\lfloor n_{x} \\right \\rfloor^{3} \\frac{\\partial^{5}}{(\\partial n_{x})^{4}\\partial a_{y}}F\\left(n_{x}, a_{y}\\right)\\,{d n_{x}} + \\frac{1}{8640} \\, \\int_{a_{x}}^{b_{x}} n_{x}^{3} \\frac{\\partial^{7}}{(\\partial n_{x})^{4}(\\partial a_{y})^{3}}F\\left(n_{x}, a_{y}\\right)\\,{d n_{x}} - \\frac{1}{2880} \\, \\int_{a_{x}}^{b_{x}} n_{x}^{2} \\left \\lfloor n_{x} \\right \\rfloor \\frac{\\partial^{7}}{(\\partial n_{x})^{4}(\\partial a_{y})^{3}}F\\left(n_{x}, a_{y}\\right)\\,{d n_{x}} + \\frac{1}{2880} \\, \\int_{a_{x}}^{b_{x}} n_{x} \\left \\lfloor n_{x} \\right \\rfloor^{2} \\frac{\\partial^{7}}{(\\partial n_{x})^{4}(\\partial a_{y})^{3}}F\\left(n_{x}, a_{y}\\right)\\,{d n_{x}} - \\frac{1}{8640} \\, \\int_{a_{x}}^{b_{x}} \\left \\lfloor n_{x} \\right \\rfloor^{3} \\frac{\\partial^{7}}{(\\partial n_{x})^{4}(\\partial a_{y})^{3}}F\\left(n_{x}, a_{y}\\right)\\,{d n_{x}} - \\frac{1}{1440} \\, \\int_{a_{x}}^{b_{x}} 30 \\, n_{x}^{2} \\frac{\\partial^{4}}{(\\partial n_{x})^{4}}F\\left(n_{x}, a_{y}\\right)\\,{d n_{x}} - \\frac{1}{1440} \\, \\int_{a_{x}}^{b_{x}} -60 \\, n_{x} \\left \\lfloor n_{x} \\right \\rfloor \\frac{\\partial^{4}}{(\\partial n_{x})^{4}}F\\left(n_{x}, a_{y}\\right)\\,{d n_{x}} - \\frac{1}{1440} \\, \\int_{a_{x}}^{b_{x}} 30 \\, \\left \\lfloor n_{x} \\right \\rfloor^{2} \\frac{\\partial^{4}}{(\\partial n_{x})^{4}}F\\left(n_{x}, a_{y}\\right)\\,{d n_{x}} + \\frac{1}{288} \\, \\int_{a_{x}}^{b_{x}} n_{x}^{2} \\frac{\\partial^{5}}{(\\partial n_{x})^{4}\\partial a_{y}}F\\left(n_{x}, a_{y}\\right)\\,{d n_{x}} - \\frac{1}{144} \\, \\int_{a_{x}}^{b_{x}} n_{x} \\left \\lfloor n_{x} \\right \\rfloor \\frac{\\partial^{5}}{(\\partial n_{x})^{4}\\partial a_{y}}F\\left(n_{x}, a_{y}\\right)\\,{d n_{x}} + \\frac{1}{288} \\, \\int_{a_{x}}^{b_{x}} \\left \\lfloor n_{x} \\right \\rfloor^{2} \\frac{\\partial^{5}}{(\\partial n_{x})^{4}\\partial a_{y}}F\\left(n_{x}, a_{y}\\right)\\,{d n_{x}} - \\frac{1}{17280} \\, \\int_{a_{x}}^{b_{x}} n_{x}^{2} \\frac{\\partial^{7}}{(\\partial n_{x})^{4}(\\partial a_{y})^{3}}F\\left(n_{x}, a_{y}\\right)\\,{d n_{x}} + \\frac{1}{8640} \\, \\int_{a_{x}}^{b_{x}} n_{x} \\left \\lfloor n_{x} \\right \\rfloor \\frac{\\partial^{7}}{(\\partial n_{x})^{4}(\\partial a_{y})^{3}}F\\left(n_{x}, a_{y}\\right)\\,{d n_{x}} - \\frac{1}{17280} \\, \\int_{a_{x}}^{b_{x}} \\left \\lfloor n_{x} \\right \\rfloor^{2} \\frac{\\partial^{7}}{(\\partial n_{x})^{4}(\\partial a_{y})^{3}}F\\left(n_{x}, a_{y}\\right)\\,{d n_{x}} - \\frac{1}{1440} \\, \\int_{a_{x}}^{b_{x}} -\\frac{\\partial^{4}}{(\\partial n_{x})^{4}}F\\left(n_{x}, a_{y}\\right)\\,{d n_{x}} + \\frac{1}{8640} \\, \\frac{\\partial^{4}}{(\\partial a_{x})^{3}\\partial a_{y}}F\\left(a_{x}, a_{y}\\right) - \\frac{1}{518400} \\, \\frac{\\partial^{6}}{(\\partial a_{x})^{3}(\\partial a_{y})^{3}}F\\left(a_{x}, a_{y}\\right) - \\frac{1}{8640} \\, \\frac{\\partial^{4}}{(\\partial b_{x})^{3}\\partial a_{y}}F\\left(b_{x}, a_{y}\\right) + \\frac{1}{518400} \\, \\frac{\\partial^{6}}{(\\partial b_{x})^{3}(\\partial a_{y})^{3}}F\\left(b_{x}, a_{y}\\right)$"
      ],
      "text/plain": [
       "<IPython.core.display.Math object>"
      ]
     },
     "metadata": {},
     "output_type": "display_data"
    }
   ],
   "source": [
    "use_int_R_p_j=False\n",
    "sum_R_p = sum_dfdx_bernoulis(euler_maclaurin_R_p(F, n_x, a_x, b_x,p, f_diff_symb_p=F.diff(n_x,p)), n_y, a_y, b_y, p)\n",
    "print(\"sum_R_p=\",sum_R_p)\n",
    "display(Math(latex(sum_R_p)))"
   ]
  },
  {
   "cell_type": "code",
   "execution_count": 51,
   "metadata": {},
   "outputs": [
    {
     "name": "stdout",
     "output_type": "stream",
     "text": [
      "R_px= -integrate(1/720*(30*(n_x - floor(n_x))^4 - 60*(n_x - floor(n_x))^3 + 30*(n_x - floor(n_x))^2 - 1)*diff(F(n_x, n_y), n_x, n_x, n_x, n_x), n_x, a_x, b_x)\n"
     ]
    },
    {
     "data": {
      "text/latex": [
       "$\\displaystyle -\\int_{a_{x}}^{b_{x}} \\frac{1}{720} \\, {\\left(30 \\, {\\left(n_{x} - \\left \\lfloor n_{x} \\right \\rfloor\\right)}^{4} - 60 \\, {\\left(n_{x} - \\left \\lfloor n_{x} \\right \\rfloor\\right)}^{3} + 30 \\, {\\left(n_{x} - \\left \\lfloor n_{x} \\right \\rfloor\\right)}^{2} - 1\\right)} \\frac{\\partial^{4}}{(\\partial n_{x})^{4}}F\\left(n_{x}, n_{y}\\right)\\,{d n_{x}}$"
      ],
      "text/plain": [
       "<IPython.core.display.Math object>"
      ]
     },
     "metadata": {},
     "output_type": "display_data"
    },
    {
     "name": "stdout",
     "output_type": "stream",
     "text": [
      "sumy_R_px= -1/1440*integrate(30*n_x^4*diff(F(n_x, a_y), n_x, n_x, n_x, n_x), n_x, a_x, b_x) - 1/1440*integrate(-120*n_x^3*floor(n_x)*diff(F(n_x, a_y), n_x, n_x, n_x, n_x), n_x, a_x, b_x) - 1/1440*integrate(180*n_x^2*floor(n_x)^2*diff(F(n_x, a_y), n_x, n_x, n_x, n_x), n_x, a_x, b_x) - 1/1440*integrate(-120*n_x*floor(n_x)^3*diff(F(n_x, a_y), n_x, n_x, n_x, n_x), n_x, a_x, b_x) - 1/1440*integrate(30*floor(n_x)^4*diff(F(n_x, a_y), n_x, n_x, n_x, n_x), n_x, a_x, b_x) + 1/288*integrate(n_x^4*diff(F(n_x, a_y), n_x, n_x, n_x, n_x, a_y), n_x, a_x, b_x) - 1/72*integrate(n_x^3*floor(n_x)*diff(F(n_x, a_y), n_x, n_x, n_x, n_x, a_y), n_x, a_x, b_x) + 1/48*integrate(n_x^2*floor(n_x)^2*diff(F(n_x, a_y), n_x, n_x, n_x, n_x, a_y), n_x, a_x, b_x) - 1/72*integrate(n_x*floor(n_x)^3*diff(F(n_x, a_y), n_x, n_x, n_x, n_x, a_y), n_x, a_x, b_x) + 1/288*integrate(floor(n_x)^4*diff(F(n_x, a_y), n_x, n_x, n_x, n_x, a_y), n_x, a_x, b_x) - 1/17280*integrate(n_x^4*diff(F(n_x, a_y), n_x, n_x, n_x, n_x, a_y, a_y, a_y), n_x, a_x, b_x) + 1/4320*integrate(n_x^3*floor(n_x)*diff(F(n_x, a_y), n_x, n_x, n_x, n_x, a_y, a_y, a_y), n_x, a_x, b_x) - 1/2880*integrate(n_x^2*floor(n_x)^2*diff(F(n_x, a_y), n_x, n_x, n_x, n_x, a_y, a_y, a_y), n_x, a_x, b_x) + 1/4320*integrate(n_x*floor(n_x)^3*diff(F(n_x, a_y), n_x, n_x, n_x, n_x, a_y, a_y, a_y), n_x, a_x, b_x) - 1/17280*integrate(floor(n_x)^4*diff(F(n_x, a_y), n_x, n_x, n_x, n_x, a_y, a_y, a_y), n_x, a_x, b_x) - 1/1440*integrate(-60*n_x^3*diff(F(n_x, a_y), n_x, n_x, n_x, n_x), n_x, a_x, b_x) - 1/1440*integrate(180*n_x^2*floor(n_x)*diff(F(n_x, a_y), n_x, n_x, n_x, n_x), n_x, a_x, b_x) - 1/1440*integrate(-180*n_x*floor(n_x)^2*diff(F(n_x, a_y), n_x, n_x, n_x, n_x), n_x, a_x, b_x) - 1/1440*integrate(60*floor(n_x)^3*diff(F(n_x, a_y), n_x, n_x, n_x, n_x), n_x, a_x, b_x) - 1/144*integrate(n_x^3*diff(F(n_x, a_y), n_x, n_x, n_x, n_x, a_y), n_x, a_x, b_x) + 1/48*integrate(n_x^2*floor(n_x)*diff(F(n_x, a_y), n_x, n_x, n_x, n_x, a_y), n_x, a_x, b_x) - 1/48*integrate(n_x*floor(n_x)^2*diff(F(n_x, a_y), n_x, n_x, n_x, n_x, a_y), n_x, a_x, b_x) + 1/144*integrate(floor(n_x)^3*diff(F(n_x, a_y), n_x, n_x, n_x, n_x, a_y), n_x, a_x, b_x) + 1/8640*integrate(n_x^3*diff(F(n_x, a_y), n_x, n_x, n_x, n_x, a_y, a_y, a_y), n_x, a_x, b_x) - 1/2880*integrate(n_x^2*floor(n_x)*diff(F(n_x, a_y), n_x, n_x, n_x, n_x, a_y, a_y, a_y), n_x, a_x, b_x) + 1/2880*integrate(n_x*floor(n_x)^2*diff(F(n_x, a_y), n_x, n_x, n_x, n_x, a_y, a_y, a_y), n_x, a_x, b_x) - 1/8640*integrate(floor(n_x)^3*diff(F(n_x, a_y), n_x, n_x, n_x, n_x, a_y, a_y, a_y), n_x, a_x, b_x) - 1/1440*integrate(30*n_x^2*diff(F(n_x, a_y), n_x, n_x, n_x, n_x), n_x, a_x, b_x) - 1/1440*integrate(-60*n_x*floor(n_x)*diff(F(n_x, a_y), n_x, n_x, n_x, n_x), n_x, a_x, b_x) - 1/1440*integrate(30*floor(n_x)^2*diff(F(n_x, a_y), n_x, n_x, n_x, n_x), n_x, a_x, b_x) + 1/288*integrate(n_x^2*diff(F(n_x, a_y), n_x, n_x, n_x, n_x, a_y), n_x, a_x, b_x) - 1/144*integrate(n_x*floor(n_x)*diff(F(n_x, a_y), n_x, n_x, n_x, n_x, a_y), n_x, a_x, b_x) + 1/288*integrate(floor(n_x)^2*diff(F(n_x, a_y), n_x, n_x, n_x, n_x, a_y), n_x, a_x, b_x) - 1/17280*integrate(n_x^2*diff(F(n_x, a_y), n_x, n_x, n_x, n_x, a_y, a_y, a_y), n_x, a_x, b_x) + 1/8640*integrate(n_x*floor(n_x)*diff(F(n_x, a_y), n_x, n_x, n_x, n_x, a_y, a_y, a_y), n_x, a_x, b_x) - 1/17280*integrate(floor(n_x)^2*diff(F(n_x, a_y), n_x, n_x, n_x, n_x, a_y, a_y, a_y), n_x, a_x, b_x) - 1/1440*integrate(-diff(F(n_x, a_y), n_x, n_x, n_x, n_x), n_x, a_x, b_x) + 1/8640*diff(F(a_x, a_y), a_x, a_x, a_x, a_y) - 1/518400*diff(F(a_x, a_y), a_x, a_x, a_x, a_y, a_y, a_y) - 1/8640*diff(F(b_x, a_y), b_x, b_x, b_x, a_y) + 1/518400*diff(F(b_x, a_y), b_x, b_x, b_x, a_y, a_y, a_y)\n"
     ]
    },
    {
     "data": {
      "text/latex": [
       "$\\displaystyle -\\frac{1}{1440} \\, \\int_{a_{x}}^{b_{x}} 30 \\, n_{x}^{4} \\frac{\\partial^{4}}{(\\partial n_{x})^{4}}F\\left(n_{x}, a_{y}\\right)\\,{d n_{x}} - \\frac{1}{1440} \\, \\int_{a_{x}}^{b_{x}} -120 \\, n_{x}^{3} \\left \\lfloor n_{x} \\right \\rfloor \\frac{\\partial^{4}}{(\\partial n_{x})^{4}}F\\left(n_{x}, a_{y}\\right)\\,{d n_{x}} - \\frac{1}{1440} \\, \\int_{a_{x}}^{b_{x}} 180 \\, n_{x}^{2} \\left \\lfloor n_{x} \\right \\rfloor^{2} \\frac{\\partial^{4}}{(\\partial n_{x})^{4}}F\\left(n_{x}, a_{y}\\right)\\,{d n_{x}} - \\frac{1}{1440} \\, \\int_{a_{x}}^{b_{x}} -120 \\, n_{x} \\left \\lfloor n_{x} \\right \\rfloor^{3} \\frac{\\partial^{4}}{(\\partial n_{x})^{4}}F\\left(n_{x}, a_{y}\\right)\\,{d n_{x}} - \\frac{1}{1440} \\, \\int_{a_{x}}^{b_{x}} 30 \\, \\left \\lfloor n_{x} \\right \\rfloor^{4} \\frac{\\partial^{4}}{(\\partial n_{x})^{4}}F\\left(n_{x}, a_{y}\\right)\\,{d n_{x}} + \\frac{1}{288} \\, \\int_{a_{x}}^{b_{x}} n_{x}^{4} \\frac{\\partial^{5}}{(\\partial n_{x})^{4}\\partial a_{y}}F\\left(n_{x}, a_{y}\\right)\\,{d n_{x}} - \\frac{1}{72} \\, \\int_{a_{x}}^{b_{x}} n_{x}^{3} \\left \\lfloor n_{x} \\right \\rfloor \\frac{\\partial^{5}}{(\\partial n_{x})^{4}\\partial a_{y}}F\\left(n_{x}, a_{y}\\right)\\,{d n_{x}} + \\frac{1}{48} \\, \\int_{a_{x}}^{b_{x}} n_{x}^{2} \\left \\lfloor n_{x} \\right \\rfloor^{2} \\frac{\\partial^{5}}{(\\partial n_{x})^{4}\\partial a_{y}}F\\left(n_{x}, a_{y}\\right)\\,{d n_{x}} - \\frac{1}{72} \\, \\int_{a_{x}}^{b_{x}} n_{x} \\left \\lfloor n_{x} \\right \\rfloor^{3} \\frac{\\partial^{5}}{(\\partial n_{x})^{4}\\partial a_{y}}F\\left(n_{x}, a_{y}\\right)\\,{d n_{x}} + \\frac{1}{288} \\, \\int_{a_{x}}^{b_{x}} \\left \\lfloor n_{x} \\right \\rfloor^{4} \\frac{\\partial^{5}}{(\\partial n_{x})^{4}\\partial a_{y}}F\\left(n_{x}, a_{y}\\right)\\,{d n_{x}} - \\frac{1}{17280} \\, \\int_{a_{x}}^{b_{x}} n_{x}^{4} \\frac{\\partial^{7}}{(\\partial n_{x})^{4}(\\partial a_{y})^{3}}F\\left(n_{x}, a_{y}\\right)\\,{d n_{x}} + \\frac{1}{4320} \\, \\int_{a_{x}}^{b_{x}} n_{x}^{3} \\left \\lfloor n_{x} \\right \\rfloor \\frac{\\partial^{7}}{(\\partial n_{x})^{4}(\\partial a_{y})^{3}}F\\left(n_{x}, a_{y}\\right)\\,{d n_{x}} - \\frac{1}{2880} \\, \\int_{a_{x}}^{b_{x}} n_{x}^{2} \\left \\lfloor n_{x} \\right \\rfloor^{2} \\frac{\\partial^{7}}{(\\partial n_{x})^{4}(\\partial a_{y})^{3}}F\\left(n_{x}, a_{y}\\right)\\,{d n_{x}} + \\frac{1}{4320} \\, \\int_{a_{x}}^{b_{x}} n_{x} \\left \\lfloor n_{x} \\right \\rfloor^{3} \\frac{\\partial^{7}}{(\\partial n_{x})^{4}(\\partial a_{y})^{3}}F\\left(n_{x}, a_{y}\\right)\\,{d n_{x}} - \\frac{1}{17280} \\, \\int_{a_{x}}^{b_{x}} \\left \\lfloor n_{x} \\right \\rfloor^{4} \\frac{\\partial^{7}}{(\\partial n_{x})^{4}(\\partial a_{y})^{3}}F\\left(n_{x}, a_{y}\\right)\\,{d n_{x}} - \\frac{1}{1440} \\, \\int_{a_{x}}^{b_{x}} -60 \\, n_{x}^{3} \\frac{\\partial^{4}}{(\\partial n_{x})^{4}}F\\left(n_{x}, a_{y}\\right)\\,{d n_{x}} - \\frac{1}{1440} \\, \\int_{a_{x}}^{b_{x}} 180 \\, n_{x}^{2} \\left \\lfloor n_{x} \\right \\rfloor \\frac{\\partial^{4}}{(\\partial n_{x})^{4}}F\\left(n_{x}, a_{y}\\right)\\,{d n_{x}} - \\frac{1}{1440} \\, \\int_{a_{x}}^{b_{x}} -180 \\, n_{x} \\left \\lfloor n_{x} \\right \\rfloor^{2} \\frac{\\partial^{4}}{(\\partial n_{x})^{4}}F\\left(n_{x}, a_{y}\\right)\\,{d n_{x}} - \\frac{1}{1440} \\, \\int_{a_{x}}^{b_{x}} 60 \\, \\left \\lfloor n_{x} \\right \\rfloor^{3} \\frac{\\partial^{4}}{(\\partial n_{x})^{4}}F\\left(n_{x}, a_{y}\\right)\\,{d n_{x}} - \\frac{1}{144} \\, \\int_{a_{x}}^{b_{x}} n_{x}^{3} \\frac{\\partial^{5}}{(\\partial n_{x})^{4}\\partial a_{y}}F\\left(n_{x}, a_{y}\\right)\\,{d n_{x}} + \\frac{1}{48} \\, \\int_{a_{x}}^{b_{x}} n_{x}^{2} \\left \\lfloor n_{x} \\right \\rfloor \\frac{\\partial^{5}}{(\\partial n_{x})^{4}\\partial a_{y}}F\\left(n_{x}, a_{y}\\right)\\,{d n_{x}} - \\frac{1}{48} \\, \\int_{a_{x}}^{b_{x}} n_{x} \\left \\lfloor n_{x} \\right \\rfloor^{2} \\frac{\\partial^{5}}{(\\partial n_{x})^{4}\\partial a_{y}}F\\left(n_{x}, a_{y}\\right)\\,{d n_{x}} + \\frac{1}{144} \\, \\int_{a_{x}}^{b_{x}} \\left \\lfloor n_{x} \\right \\rfloor^{3} \\frac{\\partial^{5}}{(\\partial n_{x})^{4}\\partial a_{y}}F\\left(n_{x}, a_{y}\\right)\\,{d n_{x}} + \\frac{1}{8640} \\, \\int_{a_{x}}^{b_{x}} n_{x}^{3} \\frac{\\partial^{7}}{(\\partial n_{x})^{4}(\\partial a_{y})^{3}}F\\left(n_{x}, a_{y}\\right)\\,{d n_{x}} - \\frac{1}{2880} \\, \\int_{a_{x}}^{b_{x}} n_{x}^{2} \\left \\lfloor n_{x} \\right \\rfloor \\frac{\\partial^{7}}{(\\partial n_{x})^{4}(\\partial a_{y})^{3}}F\\left(n_{x}, a_{y}\\right)\\,{d n_{x}} + \\frac{1}{2880} \\, \\int_{a_{x}}^{b_{x}} n_{x} \\left \\lfloor n_{x} \\right \\rfloor^{2} \\frac{\\partial^{7}}{(\\partial n_{x})^{4}(\\partial a_{y})^{3}}F\\left(n_{x}, a_{y}\\right)\\,{d n_{x}} - \\frac{1}{8640} \\, \\int_{a_{x}}^{b_{x}} \\left \\lfloor n_{x} \\right \\rfloor^{3} \\frac{\\partial^{7}}{(\\partial n_{x})^{4}(\\partial a_{y})^{3}}F\\left(n_{x}, a_{y}\\right)\\,{d n_{x}} - \\frac{1}{1440} \\, \\int_{a_{x}}^{b_{x}} 30 \\, n_{x}^{2} \\frac{\\partial^{4}}{(\\partial n_{x})^{4}}F\\left(n_{x}, a_{y}\\right)\\,{d n_{x}} - \\frac{1}{1440} \\, \\int_{a_{x}}^{b_{x}} -60 \\, n_{x} \\left \\lfloor n_{x} \\right \\rfloor \\frac{\\partial^{4}}{(\\partial n_{x})^{4}}F\\left(n_{x}, a_{y}\\right)\\,{d n_{x}} - \\frac{1}{1440} \\, \\int_{a_{x}}^{b_{x}} 30 \\, \\left \\lfloor n_{x} \\right \\rfloor^{2} \\frac{\\partial^{4}}{(\\partial n_{x})^{4}}F\\left(n_{x}, a_{y}\\right)\\,{d n_{x}} + \\frac{1}{288} \\, \\int_{a_{x}}^{b_{x}} n_{x}^{2} \\frac{\\partial^{5}}{(\\partial n_{x})^{4}\\partial a_{y}}F\\left(n_{x}, a_{y}\\right)\\,{d n_{x}} - \\frac{1}{144} \\, \\int_{a_{x}}^{b_{x}} n_{x} \\left \\lfloor n_{x} \\right \\rfloor \\frac{\\partial^{5}}{(\\partial n_{x})^{4}\\partial a_{y}}F\\left(n_{x}, a_{y}\\right)\\,{d n_{x}} + \\frac{1}{288} \\, \\int_{a_{x}}^{b_{x}} \\left \\lfloor n_{x} \\right \\rfloor^{2} \\frac{\\partial^{5}}{(\\partial n_{x})^{4}\\partial a_{y}}F\\left(n_{x}, a_{y}\\right)\\,{d n_{x}} - \\frac{1}{17280} \\, \\int_{a_{x}}^{b_{x}} n_{x}^{2} \\frac{\\partial^{7}}{(\\partial n_{x})^{4}(\\partial a_{y})^{3}}F\\left(n_{x}, a_{y}\\right)\\,{d n_{x}} + \\frac{1}{8640} \\, \\int_{a_{x}}^{b_{x}} n_{x} \\left \\lfloor n_{x} \\right \\rfloor \\frac{\\partial^{7}}{(\\partial n_{x})^{4}(\\partial a_{y})^{3}}F\\left(n_{x}, a_{y}\\right)\\,{d n_{x}} - \\frac{1}{17280} \\, \\int_{a_{x}}^{b_{x}} \\left \\lfloor n_{x} \\right \\rfloor^{2} \\frac{\\partial^{7}}{(\\partial n_{x})^{4}(\\partial a_{y})^{3}}F\\left(n_{x}, a_{y}\\right)\\,{d n_{x}} - \\frac{1}{1440} \\, \\int_{a_{x}}^{b_{x}} -\\frac{\\partial^{4}}{(\\partial n_{x})^{4}}F\\left(n_{x}, a_{y}\\right)\\,{d n_{x}} + \\frac{1}{8640} \\, \\frac{\\partial^{4}}{(\\partial a_{x})^{3}\\partial a_{y}}F\\left(a_{x}, a_{y}\\right) - \\frac{1}{518400} \\, \\frac{\\partial^{6}}{(\\partial a_{x})^{3}(\\partial a_{y})^{3}}F\\left(a_{x}, a_{y}\\right) - \\frac{1}{8640} \\, \\frac{\\partial^{4}}{(\\partial b_{x})^{3}\\partial a_{y}}F\\left(b_{x}, a_{y}\\right) + \\frac{1}{518400} \\, \\frac{\\partial^{6}}{(\\partial b_{x})^{3}(\\partial a_{y})^{3}}F\\left(b_{x}, a_{y}\\right)$"
      ],
      "text/plain": [
       "<IPython.core.display.Math object>"
      ]
     },
     "metadata": {},
     "output_type": "display_data"
    },
    {
     "name": "stdout",
     "output_type": "stream",
     "text": [
      "sum_R_p= -1/1440*integrate(30*n_x^4*diff(F(n_x, a_y), n_x, n_x, n_x, n_x), n_x, a_x, b_x) - 1/1440*integrate(-120*n_x^3*floor(n_x)*diff(F(n_x, a_y), n_x, n_x, n_x, n_x), n_x, a_x, b_x) - 1/1440*integrate(180*n_x^2*floor(n_x)^2*diff(F(n_x, a_y), n_x, n_x, n_x, n_x), n_x, a_x, b_x) - 1/1440*integrate(-120*n_x*floor(n_x)^3*diff(F(n_x, a_y), n_x, n_x, n_x, n_x), n_x, a_x, b_x) - 1/1440*integrate(30*floor(n_x)^4*diff(F(n_x, a_y), n_x, n_x, n_x, n_x), n_x, a_x, b_x) + 1/288*integrate(n_x^4*diff(F(n_x, a_y), n_x, n_x, n_x, n_x, a_y), n_x, a_x, b_x) - 1/72*integrate(n_x^3*floor(n_x)*diff(F(n_x, a_y), n_x, n_x, n_x, n_x, a_y), n_x, a_x, b_x) + 1/48*integrate(n_x^2*floor(n_x)^2*diff(F(n_x, a_y), n_x, n_x, n_x, n_x, a_y), n_x, a_x, b_x) - 1/72*integrate(n_x*floor(n_x)^3*diff(F(n_x, a_y), n_x, n_x, n_x, n_x, a_y), n_x, a_x, b_x) + 1/288*integrate(floor(n_x)^4*diff(F(n_x, a_y), n_x, n_x, n_x, n_x, a_y), n_x, a_x, b_x) - 1/17280*integrate(n_x^4*diff(F(n_x, a_y), n_x, n_x, n_x, n_x, a_y, a_y, a_y), n_x, a_x, b_x) + 1/4320*integrate(n_x^3*floor(n_x)*diff(F(n_x, a_y), n_x, n_x, n_x, n_x, a_y, a_y, a_y), n_x, a_x, b_x) - 1/2880*integrate(n_x^2*floor(n_x)^2*diff(F(n_x, a_y), n_x, n_x, n_x, n_x, a_y, a_y, a_y), n_x, a_x, b_x) + 1/4320*integrate(n_x*floor(n_x)^3*diff(F(n_x, a_y), n_x, n_x, n_x, n_x, a_y, a_y, a_y), n_x, a_x, b_x) - 1/17280*integrate(floor(n_x)^4*diff(F(n_x, a_y), n_x, n_x, n_x, n_x, a_y, a_y, a_y), n_x, a_x, b_x) - 1/1440*integrate(-60*n_x^3*diff(F(n_x, a_y), n_x, n_x, n_x, n_x), n_x, a_x, b_x) - 1/1440*integrate(180*n_x^2*floor(n_x)*diff(F(n_x, a_y), n_x, n_x, n_x, n_x), n_x, a_x, b_x) - 1/1440*integrate(-180*n_x*floor(n_x)^2*diff(F(n_x, a_y), n_x, n_x, n_x, n_x), n_x, a_x, b_x) - 1/1440*integrate(60*floor(n_x)^3*diff(F(n_x, a_y), n_x, n_x, n_x, n_x), n_x, a_x, b_x) - 1/144*integrate(n_x^3*diff(F(n_x, a_y), n_x, n_x, n_x, n_x, a_y), n_x, a_x, b_x) + 1/48*integrate(n_x^2*floor(n_x)*diff(F(n_x, a_y), n_x, n_x, n_x, n_x, a_y), n_x, a_x, b_x) - 1/48*integrate(n_x*floor(n_x)^2*diff(F(n_x, a_y), n_x, n_x, n_x, n_x, a_y), n_x, a_x, b_x) + 1/144*integrate(floor(n_x)^3*diff(F(n_x, a_y), n_x, n_x, n_x, n_x, a_y), n_x, a_x, b_x) + 1/8640*integrate(n_x^3*diff(F(n_x, a_y), n_x, n_x, n_x, n_x, a_y, a_y, a_y), n_x, a_x, b_x) - 1/2880*integrate(n_x^2*floor(n_x)*diff(F(n_x, a_y), n_x, n_x, n_x, n_x, a_y, a_y, a_y), n_x, a_x, b_x) + 1/2880*integrate(n_x*floor(n_x)^2*diff(F(n_x, a_y), n_x, n_x, n_x, n_x, a_y, a_y, a_y), n_x, a_x, b_x) - 1/8640*integrate(floor(n_x)^3*diff(F(n_x, a_y), n_x, n_x, n_x, n_x, a_y, a_y, a_y), n_x, a_x, b_x) - 1/1440*integrate(30*n_x^2*diff(F(n_x, a_y), n_x, n_x, n_x, n_x), n_x, a_x, b_x) - 1/1440*integrate(-60*n_x*floor(n_x)*diff(F(n_x, a_y), n_x, n_x, n_x, n_x), n_x, a_x, b_x) - 1/1440*integrate(30*floor(n_x)^2*diff(F(n_x, a_y), n_x, n_x, n_x, n_x), n_x, a_x, b_x) + 1/288*integrate(n_x^2*diff(F(n_x, a_y), n_x, n_x, n_x, n_x, a_y), n_x, a_x, b_x) - 1/144*integrate(n_x*floor(n_x)*diff(F(n_x, a_y), n_x, n_x, n_x, n_x, a_y), n_x, a_x, b_x) + 1/288*integrate(floor(n_x)^2*diff(F(n_x, a_y), n_x, n_x, n_x, n_x, a_y), n_x, a_x, b_x) - 1/17280*integrate(n_x^2*diff(F(n_x, a_y), n_x, n_x, n_x, n_x, a_y, a_y, a_y), n_x, a_x, b_x) + 1/8640*integrate(n_x*floor(n_x)*diff(F(n_x, a_y), n_x, n_x, n_x, n_x, a_y, a_y, a_y), n_x, a_x, b_x) - 1/17280*integrate(floor(n_x)^2*diff(F(n_x, a_y), n_x, n_x, n_x, n_x, a_y, a_y, a_y), n_x, a_x, b_x) - 1/1440*integrate(-diff(F(n_x, a_y), n_x, n_x, n_x, n_x), n_x, a_x, b_x) + 1/8640*diff(F(a_x, a_y), a_x, a_x, a_x, a_y) - 1/518400*diff(F(a_x, a_y), a_x, a_x, a_x, a_y, a_y, a_y) - 1/8640*diff(F(b_x, a_y), b_x, b_x, b_x, a_y) + 1/518400*diff(F(b_x, a_y), b_x, b_x, b_x, a_y, a_y, a_y)\n"
     ]
    },
    {
     "data": {
      "text/latex": [
       "$\\displaystyle -\\frac{1}{1440} \\, \\int_{a_{x}}^{b_{x}} 30 \\, n_{x}^{4} \\frac{\\partial^{4}}{(\\partial n_{x})^{4}}F\\left(n_{x}, a_{y}\\right)\\,{d n_{x}} - \\frac{1}{1440} \\, \\int_{a_{x}}^{b_{x}} -120 \\, n_{x}^{3} \\left \\lfloor n_{x} \\right \\rfloor \\frac{\\partial^{4}}{(\\partial n_{x})^{4}}F\\left(n_{x}, a_{y}\\right)\\,{d n_{x}} - \\frac{1}{1440} \\, \\int_{a_{x}}^{b_{x}} 180 \\, n_{x}^{2} \\left \\lfloor n_{x} \\right \\rfloor^{2} \\frac{\\partial^{4}}{(\\partial n_{x})^{4}}F\\left(n_{x}, a_{y}\\right)\\,{d n_{x}} - \\frac{1}{1440} \\, \\int_{a_{x}}^{b_{x}} -120 \\, n_{x} \\left \\lfloor n_{x} \\right \\rfloor^{3} \\frac{\\partial^{4}}{(\\partial n_{x})^{4}}F\\left(n_{x}, a_{y}\\right)\\,{d n_{x}} - \\frac{1}{1440} \\, \\int_{a_{x}}^{b_{x}} 30 \\, \\left \\lfloor n_{x} \\right \\rfloor^{4} \\frac{\\partial^{4}}{(\\partial n_{x})^{4}}F\\left(n_{x}, a_{y}\\right)\\,{d n_{x}} + \\frac{1}{288} \\, \\int_{a_{x}}^{b_{x}} n_{x}^{4} \\frac{\\partial^{5}}{(\\partial n_{x})^{4}\\partial a_{y}}F\\left(n_{x}, a_{y}\\right)\\,{d n_{x}} - \\frac{1}{72} \\, \\int_{a_{x}}^{b_{x}} n_{x}^{3} \\left \\lfloor n_{x} \\right \\rfloor \\frac{\\partial^{5}}{(\\partial n_{x})^{4}\\partial a_{y}}F\\left(n_{x}, a_{y}\\right)\\,{d n_{x}} + \\frac{1}{48} \\, \\int_{a_{x}}^{b_{x}} n_{x}^{2} \\left \\lfloor n_{x} \\right \\rfloor^{2} \\frac{\\partial^{5}}{(\\partial n_{x})^{4}\\partial a_{y}}F\\left(n_{x}, a_{y}\\right)\\,{d n_{x}} - \\frac{1}{72} \\, \\int_{a_{x}}^{b_{x}} n_{x} \\left \\lfloor n_{x} \\right \\rfloor^{3} \\frac{\\partial^{5}}{(\\partial n_{x})^{4}\\partial a_{y}}F\\left(n_{x}, a_{y}\\right)\\,{d n_{x}} + \\frac{1}{288} \\, \\int_{a_{x}}^{b_{x}} \\left \\lfloor n_{x} \\right \\rfloor^{4} \\frac{\\partial^{5}}{(\\partial n_{x})^{4}\\partial a_{y}}F\\left(n_{x}, a_{y}\\right)\\,{d n_{x}} - \\frac{1}{17280} \\, \\int_{a_{x}}^{b_{x}} n_{x}^{4} \\frac{\\partial^{7}}{(\\partial n_{x})^{4}(\\partial a_{y})^{3}}F\\left(n_{x}, a_{y}\\right)\\,{d n_{x}} + \\frac{1}{4320} \\, \\int_{a_{x}}^{b_{x}} n_{x}^{3} \\left \\lfloor n_{x} \\right \\rfloor \\frac{\\partial^{7}}{(\\partial n_{x})^{4}(\\partial a_{y})^{3}}F\\left(n_{x}, a_{y}\\right)\\,{d n_{x}} - \\frac{1}{2880} \\, \\int_{a_{x}}^{b_{x}} n_{x}^{2} \\left \\lfloor n_{x} \\right \\rfloor^{2} \\frac{\\partial^{7}}{(\\partial n_{x})^{4}(\\partial a_{y})^{3}}F\\left(n_{x}, a_{y}\\right)\\,{d n_{x}} + \\frac{1}{4320} \\, \\int_{a_{x}}^{b_{x}} n_{x} \\left \\lfloor n_{x} \\right \\rfloor^{3} \\frac{\\partial^{7}}{(\\partial n_{x})^{4}(\\partial a_{y})^{3}}F\\left(n_{x}, a_{y}\\right)\\,{d n_{x}} - \\frac{1}{17280} \\, \\int_{a_{x}}^{b_{x}} \\left \\lfloor n_{x} \\right \\rfloor^{4} \\frac{\\partial^{7}}{(\\partial n_{x})^{4}(\\partial a_{y})^{3}}F\\left(n_{x}, a_{y}\\right)\\,{d n_{x}} - \\frac{1}{1440} \\, \\int_{a_{x}}^{b_{x}} -60 \\, n_{x}^{3} \\frac{\\partial^{4}}{(\\partial n_{x})^{4}}F\\left(n_{x}, a_{y}\\right)\\,{d n_{x}} - \\frac{1}{1440} \\, \\int_{a_{x}}^{b_{x}} 180 \\, n_{x}^{2} \\left \\lfloor n_{x} \\right \\rfloor \\frac{\\partial^{4}}{(\\partial n_{x})^{4}}F\\left(n_{x}, a_{y}\\right)\\,{d n_{x}} - \\frac{1}{1440} \\, \\int_{a_{x}}^{b_{x}} -180 \\, n_{x} \\left \\lfloor n_{x} \\right \\rfloor^{2} \\frac{\\partial^{4}}{(\\partial n_{x})^{4}}F\\left(n_{x}, a_{y}\\right)\\,{d n_{x}} - \\frac{1}{1440} \\, \\int_{a_{x}}^{b_{x}} 60 \\, \\left \\lfloor n_{x} \\right \\rfloor^{3} \\frac{\\partial^{4}}{(\\partial n_{x})^{4}}F\\left(n_{x}, a_{y}\\right)\\,{d n_{x}} - \\frac{1}{144} \\, \\int_{a_{x}}^{b_{x}} n_{x}^{3} \\frac{\\partial^{5}}{(\\partial n_{x})^{4}\\partial a_{y}}F\\left(n_{x}, a_{y}\\right)\\,{d n_{x}} + \\frac{1}{48} \\, \\int_{a_{x}}^{b_{x}} n_{x}^{2} \\left \\lfloor n_{x} \\right \\rfloor \\frac{\\partial^{5}}{(\\partial n_{x})^{4}\\partial a_{y}}F\\left(n_{x}, a_{y}\\right)\\,{d n_{x}} - \\frac{1}{48} \\, \\int_{a_{x}}^{b_{x}} n_{x} \\left \\lfloor n_{x} \\right \\rfloor^{2} \\frac{\\partial^{5}}{(\\partial n_{x})^{4}\\partial a_{y}}F\\left(n_{x}, a_{y}\\right)\\,{d n_{x}} + \\frac{1}{144} \\, \\int_{a_{x}}^{b_{x}} \\left \\lfloor n_{x} \\right \\rfloor^{3} \\frac{\\partial^{5}}{(\\partial n_{x})^{4}\\partial a_{y}}F\\left(n_{x}, a_{y}\\right)\\,{d n_{x}} + \\frac{1}{8640} \\, \\int_{a_{x}}^{b_{x}} n_{x}^{3} \\frac{\\partial^{7}}{(\\partial n_{x})^{4}(\\partial a_{y})^{3}}F\\left(n_{x}, a_{y}\\right)\\,{d n_{x}} - \\frac{1}{2880} \\, \\int_{a_{x}}^{b_{x}} n_{x}^{2} \\left \\lfloor n_{x} \\right \\rfloor \\frac{\\partial^{7}}{(\\partial n_{x})^{4}(\\partial a_{y})^{3}}F\\left(n_{x}, a_{y}\\right)\\,{d n_{x}} + \\frac{1}{2880} \\, \\int_{a_{x}}^{b_{x}} n_{x} \\left \\lfloor n_{x} \\right \\rfloor^{2} \\frac{\\partial^{7}}{(\\partial n_{x})^{4}(\\partial a_{y})^{3}}F\\left(n_{x}, a_{y}\\right)\\,{d n_{x}} - \\frac{1}{8640} \\, \\int_{a_{x}}^{b_{x}} \\left \\lfloor n_{x} \\right \\rfloor^{3} \\frac{\\partial^{7}}{(\\partial n_{x})^{4}(\\partial a_{y})^{3}}F\\left(n_{x}, a_{y}\\right)\\,{d n_{x}} - \\frac{1}{1440} \\, \\int_{a_{x}}^{b_{x}} 30 \\, n_{x}^{2} \\frac{\\partial^{4}}{(\\partial n_{x})^{4}}F\\left(n_{x}, a_{y}\\right)\\,{d n_{x}} - \\frac{1}{1440} \\, \\int_{a_{x}}^{b_{x}} -60 \\, n_{x} \\left \\lfloor n_{x} \\right \\rfloor \\frac{\\partial^{4}}{(\\partial n_{x})^{4}}F\\left(n_{x}, a_{y}\\right)\\,{d n_{x}} - \\frac{1}{1440} \\, \\int_{a_{x}}^{b_{x}} 30 \\, \\left \\lfloor n_{x} \\right \\rfloor^{2} \\frac{\\partial^{4}}{(\\partial n_{x})^{4}}F\\left(n_{x}, a_{y}\\right)\\,{d n_{x}} + \\frac{1}{288} \\, \\int_{a_{x}}^{b_{x}} n_{x}^{2} \\frac{\\partial^{5}}{(\\partial n_{x})^{4}\\partial a_{y}}F\\left(n_{x}, a_{y}\\right)\\,{d n_{x}} - \\frac{1}{144} \\, \\int_{a_{x}}^{b_{x}} n_{x} \\left \\lfloor n_{x} \\right \\rfloor \\frac{\\partial^{5}}{(\\partial n_{x})^{4}\\partial a_{y}}F\\left(n_{x}, a_{y}\\right)\\,{d n_{x}} + \\frac{1}{288} \\, \\int_{a_{x}}^{b_{x}} \\left \\lfloor n_{x} \\right \\rfloor^{2} \\frac{\\partial^{5}}{(\\partial n_{x})^{4}\\partial a_{y}}F\\left(n_{x}, a_{y}\\right)\\,{d n_{x}} - \\frac{1}{17280} \\, \\int_{a_{x}}^{b_{x}} n_{x}^{2} \\frac{\\partial^{7}}{(\\partial n_{x})^{4}(\\partial a_{y})^{3}}F\\left(n_{x}, a_{y}\\right)\\,{d n_{x}} + \\frac{1}{8640} \\, \\int_{a_{x}}^{b_{x}} n_{x} \\left \\lfloor n_{x} \\right \\rfloor \\frac{\\partial^{7}}{(\\partial n_{x})^{4}(\\partial a_{y})^{3}}F\\left(n_{x}, a_{y}\\right)\\,{d n_{x}} - \\frac{1}{17280} \\, \\int_{a_{x}}^{b_{x}} \\left \\lfloor n_{x} \\right \\rfloor^{2} \\frac{\\partial^{7}}{(\\partial n_{x})^{4}(\\partial a_{y})^{3}}F\\left(n_{x}, a_{y}\\right)\\,{d n_{x}} - \\frac{1}{1440} \\, \\int_{a_{x}}^{b_{x}} -\\frac{\\partial^{4}}{(\\partial n_{x})^{4}}F\\left(n_{x}, a_{y}\\right)\\,{d n_{x}} + \\frac{1}{8640} \\, \\frac{\\partial^{4}}{(\\partial a_{x})^{3}\\partial a_{y}}F\\left(a_{x}, a_{y}\\right) - \\frac{1}{518400} \\, \\frac{\\partial^{6}}{(\\partial a_{x})^{3}(\\partial a_{y})^{3}}F\\left(a_{x}, a_{y}\\right) - \\frac{1}{8640} \\, \\frac{\\partial^{4}}{(\\partial b_{x})^{3}\\partial a_{y}}F\\left(b_{x}, a_{y}\\right) + \\frac{1}{518400} \\, \\frac{\\partial^{6}}{(\\partial b_{x})^{3}(\\partial a_{y})^{3}}F\\left(b_{x}, a_{y}\\right)$"
      ],
      "text/plain": [
       "<IPython.core.display.Math object>"
      ]
     },
     "metadata": {},
     "output_type": "display_data"
    }
   ],
   "source": [
    "use_int_R_p_j=False\n",
    "# Sagemath 9.3 has bug diff of symbolic_sum\n",
    "# https://trac.sagemath.org/ticket/32161\n",
    "\n",
    "R_px = euler_maclaurin_R_p(F, n_x, a_x, b_x,p, f_diff_symb_p=F.diff(n_x,p))\n",
    "print(\"R_px=\", R_px)\n",
    "#print(\"R_px=$\",latex(R_px),\"$\")\n",
    "display(Math(latex(R_px)))\n",
    "\n",
    "sumy_R_px = sum_dfdx_bernoulis(R_px, n_y, a_y, b_y, p)\n",
    "print(\"sumy_R_px=\",sumy_R_px)\n",
    "#print(\"sumy_R_px=$\",latex(sumy_R_px),\"$\")\n",
    "display(Math(latex(sumy_R_px)))\n",
    "\n",
    "sum_R_p = sum_dfdx_bernoulis(euler_maclaurin_R_p(F, n_x, a_x, b_x,p, f_diff_symb_p=F.diff(n_x,p)), n_y, a_y, b_y, p)\n",
    "print(\"sum_R_p=\",sum_R_p)\n",
    "#print(\"sum_R_p=$\",latex(sum_R_p),\"$\")\n",
    "display(Math(latex(sum_R_p)))"
   ]
  },
  {
   "cell_type": "code",
   "execution_count": 52,
   "metadata": {},
   "outputs": [
    {
     "name": "stdout",
     "output_type": "stream",
     "text": [
      "R_px= -integrate(1/720*(30*(n_x - floor(n_x))^4 - 60*(n_x - floor(n_x))^3 + 30*(n_x - floor(n_x))^2 - 1)*diff(F(n_x, n_y), n_x, n_x, n_x, n_x), n_x, a_x, b_x)\n"
     ]
    },
    {
     "data": {
      "text/latex": [
       "$\\displaystyle -\\int_{a_{x}}^{b_{x}} \\frac{1}{720} \\, {\\left(30 \\, {\\left(n_{x} - \\left \\lfloor n_{x} \\right \\rfloor\\right)}^{4} - 60 \\, {\\left(n_{x} - \\left \\lfloor n_{x} \\right \\rfloor\\right)}^{3} + 30 \\, {\\left(n_{x} - \\left \\lfloor n_{x} \\right \\rfloor\\right)}^{2} - 1\\right)} \\frac{\\partial^{4}}{(\\partial n_{x})^{4}}F\\left(n_{x}, n_{y}\\right)\\,{d n_{x}}$"
      ],
      "text/plain": [
       "<IPython.core.display.Math object>"
      ]
     },
     "metadata": {},
     "output_type": "display_data"
    },
    {
     "name": "stdout",
     "output_type": "stream",
     "text": [
      "sumy_R_px= -1/1440*integrate(30*n_x^4*diff(F(n_x, a_y), n_x, n_x, n_x, n_x), n_x, a_x, b_x) - 1/1440*integrate(-120*n_x^3*floor(n_x)*diff(F(n_x, a_y), n_x, n_x, n_x, n_x), n_x, a_x, b_x) - 1/1440*integrate(180*n_x^2*floor(n_x)^2*diff(F(n_x, a_y), n_x, n_x, n_x, n_x), n_x, a_x, b_x) - 1/1440*integrate(-120*n_x*floor(n_x)^3*diff(F(n_x, a_y), n_x, n_x, n_x, n_x), n_x, a_x, b_x) - 1/1440*integrate(30*floor(n_x)^4*diff(F(n_x, a_y), n_x, n_x, n_x, n_x), n_x, a_x, b_x) + 1/288*integrate(n_x^4*diff(F(n_x, a_y), n_x, n_x, n_x, n_x, a_y), n_x, a_x, b_x) - 1/72*integrate(n_x^3*floor(n_x)*diff(F(n_x, a_y), n_x, n_x, n_x, n_x, a_y), n_x, a_x, b_x) + 1/48*integrate(n_x^2*floor(n_x)^2*diff(F(n_x, a_y), n_x, n_x, n_x, n_x, a_y), n_x, a_x, b_x) - 1/72*integrate(n_x*floor(n_x)^3*diff(F(n_x, a_y), n_x, n_x, n_x, n_x, a_y), n_x, a_x, b_x) + 1/288*integrate(floor(n_x)^4*diff(F(n_x, a_y), n_x, n_x, n_x, n_x, a_y), n_x, a_x, b_x) - 1/17280*integrate(n_x^4*diff(F(n_x, a_y), n_x, n_x, n_x, n_x, a_y, a_y, a_y), n_x, a_x, b_x) + 1/4320*integrate(n_x^3*floor(n_x)*diff(F(n_x, a_y), n_x, n_x, n_x, n_x, a_y, a_y, a_y), n_x, a_x, b_x) - 1/2880*integrate(n_x^2*floor(n_x)^2*diff(F(n_x, a_y), n_x, n_x, n_x, n_x, a_y, a_y, a_y), n_x, a_x, b_x) + 1/4320*integrate(n_x*floor(n_x)^3*diff(F(n_x, a_y), n_x, n_x, n_x, n_x, a_y, a_y, a_y), n_x, a_x, b_x) - 1/17280*integrate(floor(n_x)^4*diff(F(n_x, a_y), n_x, n_x, n_x, n_x, a_y, a_y, a_y), n_x, a_x, b_x) - 1/1440*integrate(-60*n_x^3*diff(F(n_x, a_y), n_x, n_x, n_x, n_x), n_x, a_x, b_x) - 1/1440*integrate(180*n_x^2*floor(n_x)*diff(F(n_x, a_y), n_x, n_x, n_x, n_x), n_x, a_x, b_x) - 1/1440*integrate(-180*n_x*floor(n_x)^2*diff(F(n_x, a_y), n_x, n_x, n_x, n_x), n_x, a_x, b_x) - 1/1440*integrate(60*floor(n_x)^3*diff(F(n_x, a_y), n_x, n_x, n_x, n_x), n_x, a_x, b_x) - 1/144*integrate(n_x^3*diff(F(n_x, a_y), n_x, n_x, n_x, n_x, a_y), n_x, a_x, b_x) + 1/48*integrate(n_x^2*floor(n_x)*diff(F(n_x, a_y), n_x, n_x, n_x, n_x, a_y), n_x, a_x, b_x) - 1/48*integrate(n_x*floor(n_x)^2*diff(F(n_x, a_y), n_x, n_x, n_x, n_x, a_y), n_x, a_x, b_x) + 1/144*integrate(floor(n_x)^3*diff(F(n_x, a_y), n_x, n_x, n_x, n_x, a_y), n_x, a_x, b_x) + 1/8640*integrate(n_x^3*diff(F(n_x, a_y), n_x, n_x, n_x, n_x, a_y, a_y, a_y), n_x, a_x, b_x) - 1/2880*integrate(n_x^2*floor(n_x)*diff(F(n_x, a_y), n_x, n_x, n_x, n_x, a_y, a_y, a_y), n_x, a_x, b_x) + 1/2880*integrate(n_x*floor(n_x)^2*diff(F(n_x, a_y), n_x, n_x, n_x, n_x, a_y, a_y, a_y), n_x, a_x, b_x) - 1/8640*integrate(floor(n_x)^3*diff(F(n_x, a_y), n_x, n_x, n_x, n_x, a_y, a_y, a_y), n_x, a_x, b_x) - 1/1440*integrate(30*n_x^2*diff(F(n_x, a_y), n_x, n_x, n_x, n_x), n_x, a_x, b_x) - 1/1440*integrate(-60*n_x*floor(n_x)*diff(F(n_x, a_y), n_x, n_x, n_x, n_x), n_x, a_x, b_x) - 1/1440*integrate(30*floor(n_x)^2*diff(F(n_x, a_y), n_x, n_x, n_x, n_x), n_x, a_x, b_x) + 1/288*integrate(n_x^2*diff(F(n_x, a_y), n_x, n_x, n_x, n_x, a_y), n_x, a_x, b_x) - 1/144*integrate(n_x*floor(n_x)*diff(F(n_x, a_y), n_x, n_x, n_x, n_x, a_y), n_x, a_x, b_x) + 1/288*integrate(floor(n_x)^2*diff(F(n_x, a_y), n_x, n_x, n_x, n_x, a_y), n_x, a_x, b_x) - 1/17280*integrate(n_x^2*diff(F(n_x, a_y), n_x, n_x, n_x, n_x, a_y, a_y, a_y), n_x, a_x, b_x) + 1/8640*integrate(n_x*floor(n_x)*diff(F(n_x, a_y), n_x, n_x, n_x, n_x, a_y, a_y, a_y), n_x, a_x, b_x) - 1/17280*integrate(floor(n_x)^2*diff(F(n_x, a_y), n_x, n_x, n_x, n_x, a_y, a_y, a_y), n_x, a_x, b_x) - 1/1440*integrate(-diff(F(n_x, a_y), n_x, n_x, n_x, n_x), n_x, a_x, b_x) + 1/8640*diff(F(a_x, a_y), a_x, a_x, a_x, a_y) - 1/518400*diff(F(a_x, a_y), a_x, a_x, a_x, a_y, a_y, a_y) - 1/8640*diff(F(b_x, a_y), b_x, b_x, b_x, a_y) + 1/518400*diff(F(b_x, a_y), b_x, b_x, b_x, a_y, a_y, a_y)\n"
     ]
    },
    {
     "data": {
      "text/latex": [
       "$\\displaystyle -\\frac{1}{1440} \\, \\int_{a_{x}}^{b_{x}} 30 \\, n_{x}^{4} \\frac{\\partial^{4}}{(\\partial n_{x})^{4}}F\\left(n_{x}, a_{y}\\right)\\,{d n_{x}} - \\frac{1}{1440} \\, \\int_{a_{x}}^{b_{x}} -120 \\, n_{x}^{3} \\left \\lfloor n_{x} \\right \\rfloor \\frac{\\partial^{4}}{(\\partial n_{x})^{4}}F\\left(n_{x}, a_{y}\\right)\\,{d n_{x}} - \\frac{1}{1440} \\, \\int_{a_{x}}^{b_{x}} 180 \\, n_{x}^{2} \\left \\lfloor n_{x} \\right \\rfloor^{2} \\frac{\\partial^{4}}{(\\partial n_{x})^{4}}F\\left(n_{x}, a_{y}\\right)\\,{d n_{x}} - \\frac{1}{1440} \\, \\int_{a_{x}}^{b_{x}} -120 \\, n_{x} \\left \\lfloor n_{x} \\right \\rfloor^{3} \\frac{\\partial^{4}}{(\\partial n_{x})^{4}}F\\left(n_{x}, a_{y}\\right)\\,{d n_{x}} - \\frac{1}{1440} \\, \\int_{a_{x}}^{b_{x}} 30 \\, \\left \\lfloor n_{x} \\right \\rfloor^{4} \\frac{\\partial^{4}}{(\\partial n_{x})^{4}}F\\left(n_{x}, a_{y}\\right)\\,{d n_{x}} + \\frac{1}{288} \\, \\int_{a_{x}}^{b_{x}} n_{x}^{4} \\frac{\\partial^{5}}{(\\partial n_{x})^{4}\\partial a_{y}}F\\left(n_{x}, a_{y}\\right)\\,{d n_{x}} - \\frac{1}{72} \\, \\int_{a_{x}}^{b_{x}} n_{x}^{3} \\left \\lfloor n_{x} \\right \\rfloor \\frac{\\partial^{5}}{(\\partial n_{x})^{4}\\partial a_{y}}F\\left(n_{x}, a_{y}\\right)\\,{d n_{x}} + \\frac{1}{48} \\, \\int_{a_{x}}^{b_{x}} n_{x}^{2} \\left \\lfloor n_{x} \\right \\rfloor^{2} \\frac{\\partial^{5}}{(\\partial n_{x})^{4}\\partial a_{y}}F\\left(n_{x}, a_{y}\\right)\\,{d n_{x}} - \\frac{1}{72} \\, \\int_{a_{x}}^{b_{x}} n_{x} \\left \\lfloor n_{x} \\right \\rfloor^{3} \\frac{\\partial^{5}}{(\\partial n_{x})^{4}\\partial a_{y}}F\\left(n_{x}, a_{y}\\right)\\,{d n_{x}} + \\frac{1}{288} \\, \\int_{a_{x}}^{b_{x}} \\left \\lfloor n_{x} \\right \\rfloor^{4} \\frac{\\partial^{5}}{(\\partial n_{x})^{4}\\partial a_{y}}F\\left(n_{x}, a_{y}\\right)\\,{d n_{x}} - \\frac{1}{17280} \\, \\int_{a_{x}}^{b_{x}} n_{x}^{4} \\frac{\\partial^{7}}{(\\partial n_{x})^{4}(\\partial a_{y})^{3}}F\\left(n_{x}, a_{y}\\right)\\,{d n_{x}} + \\frac{1}{4320} \\, \\int_{a_{x}}^{b_{x}} n_{x}^{3} \\left \\lfloor n_{x} \\right \\rfloor \\frac{\\partial^{7}}{(\\partial n_{x})^{4}(\\partial a_{y})^{3}}F\\left(n_{x}, a_{y}\\right)\\,{d n_{x}} - \\frac{1}{2880} \\, \\int_{a_{x}}^{b_{x}} n_{x}^{2} \\left \\lfloor n_{x} \\right \\rfloor^{2} \\frac{\\partial^{7}}{(\\partial n_{x})^{4}(\\partial a_{y})^{3}}F\\left(n_{x}, a_{y}\\right)\\,{d n_{x}} + \\frac{1}{4320} \\, \\int_{a_{x}}^{b_{x}} n_{x} \\left \\lfloor n_{x} \\right \\rfloor^{3} \\frac{\\partial^{7}}{(\\partial n_{x})^{4}(\\partial a_{y})^{3}}F\\left(n_{x}, a_{y}\\right)\\,{d n_{x}} - \\frac{1}{17280} \\, \\int_{a_{x}}^{b_{x}} \\left \\lfloor n_{x} \\right \\rfloor^{4} \\frac{\\partial^{7}}{(\\partial n_{x})^{4}(\\partial a_{y})^{3}}F\\left(n_{x}, a_{y}\\right)\\,{d n_{x}} - \\frac{1}{1440} \\, \\int_{a_{x}}^{b_{x}} -60 \\, n_{x}^{3} \\frac{\\partial^{4}}{(\\partial n_{x})^{4}}F\\left(n_{x}, a_{y}\\right)\\,{d n_{x}} - \\frac{1}{1440} \\, \\int_{a_{x}}^{b_{x}} 180 \\, n_{x}^{2} \\left \\lfloor n_{x} \\right \\rfloor \\frac{\\partial^{4}}{(\\partial n_{x})^{4}}F\\left(n_{x}, a_{y}\\right)\\,{d n_{x}} - \\frac{1}{1440} \\, \\int_{a_{x}}^{b_{x}} -180 \\, n_{x} \\left \\lfloor n_{x} \\right \\rfloor^{2} \\frac{\\partial^{4}}{(\\partial n_{x})^{4}}F\\left(n_{x}, a_{y}\\right)\\,{d n_{x}} - \\frac{1}{1440} \\, \\int_{a_{x}}^{b_{x}} 60 \\, \\left \\lfloor n_{x} \\right \\rfloor^{3} \\frac{\\partial^{4}}{(\\partial n_{x})^{4}}F\\left(n_{x}, a_{y}\\right)\\,{d n_{x}} - \\frac{1}{144} \\, \\int_{a_{x}}^{b_{x}} n_{x}^{3} \\frac{\\partial^{5}}{(\\partial n_{x})^{4}\\partial a_{y}}F\\left(n_{x}, a_{y}\\right)\\,{d n_{x}} + \\frac{1}{48} \\, \\int_{a_{x}}^{b_{x}} n_{x}^{2} \\left \\lfloor n_{x} \\right \\rfloor \\frac{\\partial^{5}}{(\\partial n_{x})^{4}\\partial a_{y}}F\\left(n_{x}, a_{y}\\right)\\,{d n_{x}} - \\frac{1}{48} \\, \\int_{a_{x}}^{b_{x}} n_{x} \\left \\lfloor n_{x} \\right \\rfloor^{2} \\frac{\\partial^{5}}{(\\partial n_{x})^{4}\\partial a_{y}}F\\left(n_{x}, a_{y}\\right)\\,{d n_{x}} + \\frac{1}{144} \\, \\int_{a_{x}}^{b_{x}} \\left \\lfloor n_{x} \\right \\rfloor^{3} \\frac{\\partial^{5}}{(\\partial n_{x})^{4}\\partial a_{y}}F\\left(n_{x}, a_{y}\\right)\\,{d n_{x}} + \\frac{1}{8640} \\, \\int_{a_{x}}^{b_{x}} n_{x}^{3} \\frac{\\partial^{7}}{(\\partial n_{x})^{4}(\\partial a_{y})^{3}}F\\left(n_{x}, a_{y}\\right)\\,{d n_{x}} - \\frac{1}{2880} \\, \\int_{a_{x}}^{b_{x}} n_{x}^{2} \\left \\lfloor n_{x} \\right \\rfloor \\frac{\\partial^{7}}{(\\partial n_{x})^{4}(\\partial a_{y})^{3}}F\\left(n_{x}, a_{y}\\right)\\,{d n_{x}} + \\frac{1}{2880} \\, \\int_{a_{x}}^{b_{x}} n_{x} \\left \\lfloor n_{x} \\right \\rfloor^{2} \\frac{\\partial^{7}}{(\\partial n_{x})^{4}(\\partial a_{y})^{3}}F\\left(n_{x}, a_{y}\\right)\\,{d n_{x}} - \\frac{1}{8640} \\, \\int_{a_{x}}^{b_{x}} \\left \\lfloor n_{x} \\right \\rfloor^{3} \\frac{\\partial^{7}}{(\\partial n_{x})^{4}(\\partial a_{y})^{3}}F\\left(n_{x}, a_{y}\\right)\\,{d n_{x}} - \\frac{1}{1440} \\, \\int_{a_{x}}^{b_{x}} 30 \\, n_{x}^{2} \\frac{\\partial^{4}}{(\\partial n_{x})^{4}}F\\left(n_{x}, a_{y}\\right)\\,{d n_{x}} - \\frac{1}{1440} \\, \\int_{a_{x}}^{b_{x}} -60 \\, n_{x} \\left \\lfloor n_{x} \\right \\rfloor \\frac{\\partial^{4}}{(\\partial n_{x})^{4}}F\\left(n_{x}, a_{y}\\right)\\,{d n_{x}} - \\frac{1}{1440} \\, \\int_{a_{x}}^{b_{x}} 30 \\, \\left \\lfloor n_{x} \\right \\rfloor^{2} \\frac{\\partial^{4}}{(\\partial n_{x})^{4}}F\\left(n_{x}, a_{y}\\right)\\,{d n_{x}} + \\frac{1}{288} \\, \\int_{a_{x}}^{b_{x}} n_{x}^{2} \\frac{\\partial^{5}}{(\\partial n_{x})^{4}\\partial a_{y}}F\\left(n_{x}, a_{y}\\right)\\,{d n_{x}} - \\frac{1}{144} \\, \\int_{a_{x}}^{b_{x}} n_{x} \\left \\lfloor n_{x} \\right \\rfloor \\frac{\\partial^{5}}{(\\partial n_{x})^{4}\\partial a_{y}}F\\left(n_{x}, a_{y}\\right)\\,{d n_{x}} + \\frac{1}{288} \\, \\int_{a_{x}}^{b_{x}} \\left \\lfloor n_{x} \\right \\rfloor^{2} \\frac{\\partial^{5}}{(\\partial n_{x})^{4}\\partial a_{y}}F\\left(n_{x}, a_{y}\\right)\\,{d n_{x}} - \\frac{1}{17280} \\, \\int_{a_{x}}^{b_{x}} n_{x}^{2} \\frac{\\partial^{7}}{(\\partial n_{x})^{4}(\\partial a_{y})^{3}}F\\left(n_{x}, a_{y}\\right)\\,{d n_{x}} + \\frac{1}{8640} \\, \\int_{a_{x}}^{b_{x}} n_{x} \\left \\lfloor n_{x} \\right \\rfloor \\frac{\\partial^{7}}{(\\partial n_{x})^{4}(\\partial a_{y})^{3}}F\\left(n_{x}, a_{y}\\right)\\,{d n_{x}} - \\frac{1}{17280} \\, \\int_{a_{x}}^{b_{x}} \\left \\lfloor n_{x} \\right \\rfloor^{2} \\frac{\\partial^{7}}{(\\partial n_{x})^{4}(\\partial a_{y})^{3}}F\\left(n_{x}, a_{y}\\right)\\,{d n_{x}} - \\frac{1}{1440} \\, \\int_{a_{x}}^{b_{x}} -\\frac{\\partial^{4}}{(\\partial n_{x})^{4}}F\\left(n_{x}, a_{y}\\right)\\,{d n_{x}} + \\frac{1}{8640} \\, \\frac{\\partial^{4}}{(\\partial a_{x})^{3}\\partial a_{y}}F\\left(a_{x}, a_{y}\\right) - \\frac{1}{518400} \\, \\frac{\\partial^{6}}{(\\partial a_{x})^{3}(\\partial a_{y})^{3}}F\\left(a_{x}, a_{y}\\right) - \\frac{1}{8640} \\, \\frac{\\partial^{4}}{(\\partial b_{x})^{3}\\partial a_{y}}F\\left(b_{x}, a_{y}\\right) + \\frac{1}{518400} \\, \\frac{\\partial^{6}}{(\\partial b_{x})^{3}(\\partial a_{y})^{3}}F\\left(b_{x}, a_{y}\\right)$"
      ],
      "text/plain": [
       "<IPython.core.display.Math object>"
      ]
     },
     "metadata": {},
     "output_type": "display_data"
    },
    {
     "name": "stdout",
     "output_type": "stream",
     "text": [
      "sum_R_p= -1/1440*integrate(30*n_x^4*diff(F(n_x, a_y), n_x, n_x, n_x, n_x), n_x, a_x, b_x) - 1/1440*integrate(-120*n_x^3*floor(n_x)*diff(F(n_x, a_y), n_x, n_x, n_x, n_x), n_x, a_x, b_x) - 1/1440*integrate(180*n_x^2*floor(n_x)^2*diff(F(n_x, a_y), n_x, n_x, n_x, n_x), n_x, a_x, b_x) - 1/1440*integrate(-120*n_x*floor(n_x)^3*diff(F(n_x, a_y), n_x, n_x, n_x, n_x), n_x, a_x, b_x) - 1/1440*integrate(30*floor(n_x)^4*diff(F(n_x, a_y), n_x, n_x, n_x, n_x), n_x, a_x, b_x) + 1/288*integrate(n_x^4*diff(F(n_x, a_y), n_x, n_x, n_x, n_x, a_y), n_x, a_x, b_x) - 1/72*integrate(n_x^3*floor(n_x)*diff(F(n_x, a_y), n_x, n_x, n_x, n_x, a_y), n_x, a_x, b_x) + 1/48*integrate(n_x^2*floor(n_x)^2*diff(F(n_x, a_y), n_x, n_x, n_x, n_x, a_y), n_x, a_x, b_x) - 1/72*integrate(n_x*floor(n_x)^3*diff(F(n_x, a_y), n_x, n_x, n_x, n_x, a_y), n_x, a_x, b_x) + 1/288*integrate(floor(n_x)^4*diff(F(n_x, a_y), n_x, n_x, n_x, n_x, a_y), n_x, a_x, b_x) - 1/17280*integrate(n_x^4*diff(F(n_x, a_y), n_x, n_x, n_x, n_x, a_y, a_y, a_y), n_x, a_x, b_x) + 1/4320*integrate(n_x^3*floor(n_x)*diff(F(n_x, a_y), n_x, n_x, n_x, n_x, a_y, a_y, a_y), n_x, a_x, b_x) - 1/2880*integrate(n_x^2*floor(n_x)^2*diff(F(n_x, a_y), n_x, n_x, n_x, n_x, a_y, a_y, a_y), n_x, a_x, b_x) + 1/4320*integrate(n_x*floor(n_x)^3*diff(F(n_x, a_y), n_x, n_x, n_x, n_x, a_y, a_y, a_y), n_x, a_x, b_x) - 1/17280*integrate(floor(n_x)^4*diff(F(n_x, a_y), n_x, n_x, n_x, n_x, a_y, a_y, a_y), n_x, a_x, b_x) - 1/1440*integrate(-60*n_x^3*diff(F(n_x, a_y), n_x, n_x, n_x, n_x), n_x, a_x, b_x) - 1/1440*integrate(180*n_x^2*floor(n_x)*diff(F(n_x, a_y), n_x, n_x, n_x, n_x), n_x, a_x, b_x) - 1/1440*integrate(-180*n_x*floor(n_x)^2*diff(F(n_x, a_y), n_x, n_x, n_x, n_x), n_x, a_x, b_x) - 1/1440*integrate(60*floor(n_x)^3*diff(F(n_x, a_y), n_x, n_x, n_x, n_x), n_x, a_x, b_x) - 1/144*integrate(n_x^3*diff(F(n_x, a_y), n_x, n_x, n_x, n_x, a_y), n_x, a_x, b_x) + 1/48*integrate(n_x^2*floor(n_x)*diff(F(n_x, a_y), n_x, n_x, n_x, n_x, a_y), n_x, a_x, b_x) - 1/48*integrate(n_x*floor(n_x)^2*diff(F(n_x, a_y), n_x, n_x, n_x, n_x, a_y), n_x, a_x, b_x) + 1/144*integrate(floor(n_x)^3*diff(F(n_x, a_y), n_x, n_x, n_x, n_x, a_y), n_x, a_x, b_x) + 1/8640*integrate(n_x^3*diff(F(n_x, a_y), n_x, n_x, n_x, n_x, a_y, a_y, a_y), n_x, a_x, b_x) - 1/2880*integrate(n_x^2*floor(n_x)*diff(F(n_x, a_y), n_x, n_x, n_x, n_x, a_y, a_y, a_y), n_x, a_x, b_x) + 1/2880*integrate(n_x*floor(n_x)^2*diff(F(n_x, a_y), n_x, n_x, n_x, n_x, a_y, a_y, a_y), n_x, a_x, b_x) - 1/8640*integrate(floor(n_x)^3*diff(F(n_x, a_y), n_x, n_x, n_x, n_x, a_y, a_y, a_y), n_x, a_x, b_x) - 1/1440*integrate(30*n_x^2*diff(F(n_x, a_y), n_x, n_x, n_x, n_x), n_x, a_x, b_x) - 1/1440*integrate(-60*n_x*floor(n_x)*diff(F(n_x, a_y), n_x, n_x, n_x, n_x), n_x, a_x, b_x) - 1/1440*integrate(30*floor(n_x)^2*diff(F(n_x, a_y), n_x, n_x, n_x, n_x), n_x, a_x, b_x) + 1/288*integrate(n_x^2*diff(F(n_x, a_y), n_x, n_x, n_x, n_x, a_y), n_x, a_x, b_x) - 1/144*integrate(n_x*floor(n_x)*diff(F(n_x, a_y), n_x, n_x, n_x, n_x, a_y), n_x, a_x, b_x) + 1/288*integrate(floor(n_x)^2*diff(F(n_x, a_y), n_x, n_x, n_x, n_x, a_y), n_x, a_x, b_x) - 1/17280*integrate(n_x^2*diff(F(n_x, a_y), n_x, n_x, n_x, n_x, a_y, a_y, a_y), n_x, a_x, b_x) + 1/8640*integrate(n_x*floor(n_x)*diff(F(n_x, a_y), n_x, n_x, n_x, n_x, a_y, a_y, a_y), n_x, a_x, b_x) - 1/17280*integrate(floor(n_x)^2*diff(F(n_x, a_y), n_x, n_x, n_x, n_x, a_y, a_y, a_y), n_x, a_x, b_x) - 1/1440*integrate(-diff(F(n_x, a_y), n_x, n_x, n_x, n_x), n_x, a_x, b_x) + 1/8640*diff(F(a_x, a_y), a_x, a_x, a_x, a_y) - 1/518400*diff(F(a_x, a_y), a_x, a_x, a_x, a_y, a_y, a_y) - 1/8640*diff(F(b_x, a_y), b_x, b_x, b_x, a_y) + 1/518400*diff(F(b_x, a_y), b_x, b_x, b_x, a_y, a_y, a_y)\n"
     ]
    },
    {
     "data": {
      "text/latex": [
       "$\\displaystyle -\\frac{1}{1440} \\, \\int_{a_{x}}^{b_{x}} 30 \\, n_{x}^{4} \\frac{\\partial^{4}}{(\\partial n_{x})^{4}}F\\left(n_{x}, a_{y}\\right)\\,{d n_{x}} - \\frac{1}{1440} \\, \\int_{a_{x}}^{b_{x}} -120 \\, n_{x}^{3} \\left \\lfloor n_{x} \\right \\rfloor \\frac{\\partial^{4}}{(\\partial n_{x})^{4}}F\\left(n_{x}, a_{y}\\right)\\,{d n_{x}} - \\frac{1}{1440} \\, \\int_{a_{x}}^{b_{x}} 180 \\, n_{x}^{2} \\left \\lfloor n_{x} \\right \\rfloor^{2} \\frac{\\partial^{4}}{(\\partial n_{x})^{4}}F\\left(n_{x}, a_{y}\\right)\\,{d n_{x}} - \\frac{1}{1440} \\, \\int_{a_{x}}^{b_{x}} -120 \\, n_{x} \\left \\lfloor n_{x} \\right \\rfloor^{3} \\frac{\\partial^{4}}{(\\partial n_{x})^{4}}F\\left(n_{x}, a_{y}\\right)\\,{d n_{x}} - \\frac{1}{1440} \\, \\int_{a_{x}}^{b_{x}} 30 \\, \\left \\lfloor n_{x} \\right \\rfloor^{4} \\frac{\\partial^{4}}{(\\partial n_{x})^{4}}F\\left(n_{x}, a_{y}\\right)\\,{d n_{x}} + \\frac{1}{288} \\, \\int_{a_{x}}^{b_{x}} n_{x}^{4} \\frac{\\partial^{5}}{(\\partial n_{x})^{4}\\partial a_{y}}F\\left(n_{x}, a_{y}\\right)\\,{d n_{x}} - \\frac{1}{72} \\, \\int_{a_{x}}^{b_{x}} n_{x}^{3} \\left \\lfloor n_{x} \\right \\rfloor \\frac{\\partial^{5}}{(\\partial n_{x})^{4}\\partial a_{y}}F\\left(n_{x}, a_{y}\\right)\\,{d n_{x}} + \\frac{1}{48} \\, \\int_{a_{x}}^{b_{x}} n_{x}^{2} \\left \\lfloor n_{x} \\right \\rfloor^{2} \\frac{\\partial^{5}}{(\\partial n_{x})^{4}\\partial a_{y}}F\\left(n_{x}, a_{y}\\right)\\,{d n_{x}} - \\frac{1}{72} \\, \\int_{a_{x}}^{b_{x}} n_{x} \\left \\lfloor n_{x} \\right \\rfloor^{3} \\frac{\\partial^{5}}{(\\partial n_{x})^{4}\\partial a_{y}}F\\left(n_{x}, a_{y}\\right)\\,{d n_{x}} + \\frac{1}{288} \\, \\int_{a_{x}}^{b_{x}} \\left \\lfloor n_{x} \\right \\rfloor^{4} \\frac{\\partial^{5}}{(\\partial n_{x})^{4}\\partial a_{y}}F\\left(n_{x}, a_{y}\\right)\\,{d n_{x}} - \\frac{1}{17280} \\, \\int_{a_{x}}^{b_{x}} n_{x}^{4} \\frac{\\partial^{7}}{(\\partial n_{x})^{4}(\\partial a_{y})^{3}}F\\left(n_{x}, a_{y}\\right)\\,{d n_{x}} + \\frac{1}{4320} \\, \\int_{a_{x}}^{b_{x}} n_{x}^{3} \\left \\lfloor n_{x} \\right \\rfloor \\frac{\\partial^{7}}{(\\partial n_{x})^{4}(\\partial a_{y})^{3}}F\\left(n_{x}, a_{y}\\right)\\,{d n_{x}} - \\frac{1}{2880} \\, \\int_{a_{x}}^{b_{x}} n_{x}^{2} \\left \\lfloor n_{x} \\right \\rfloor^{2} \\frac{\\partial^{7}}{(\\partial n_{x})^{4}(\\partial a_{y})^{3}}F\\left(n_{x}, a_{y}\\right)\\,{d n_{x}} + \\frac{1}{4320} \\, \\int_{a_{x}}^{b_{x}} n_{x} \\left \\lfloor n_{x} \\right \\rfloor^{3} \\frac{\\partial^{7}}{(\\partial n_{x})^{4}(\\partial a_{y})^{3}}F\\left(n_{x}, a_{y}\\right)\\,{d n_{x}} - \\frac{1}{17280} \\, \\int_{a_{x}}^{b_{x}} \\left \\lfloor n_{x} \\right \\rfloor^{4} \\frac{\\partial^{7}}{(\\partial n_{x})^{4}(\\partial a_{y})^{3}}F\\left(n_{x}, a_{y}\\right)\\,{d n_{x}} - \\frac{1}{1440} \\, \\int_{a_{x}}^{b_{x}} -60 \\, n_{x}^{3} \\frac{\\partial^{4}}{(\\partial n_{x})^{4}}F\\left(n_{x}, a_{y}\\right)\\,{d n_{x}} - \\frac{1}{1440} \\, \\int_{a_{x}}^{b_{x}} 180 \\, n_{x}^{2} \\left \\lfloor n_{x} \\right \\rfloor \\frac{\\partial^{4}}{(\\partial n_{x})^{4}}F\\left(n_{x}, a_{y}\\right)\\,{d n_{x}} - \\frac{1}{1440} \\, \\int_{a_{x}}^{b_{x}} -180 \\, n_{x} \\left \\lfloor n_{x} \\right \\rfloor^{2} \\frac{\\partial^{4}}{(\\partial n_{x})^{4}}F\\left(n_{x}, a_{y}\\right)\\,{d n_{x}} - \\frac{1}{1440} \\, \\int_{a_{x}}^{b_{x}} 60 \\, \\left \\lfloor n_{x} \\right \\rfloor^{3} \\frac{\\partial^{4}}{(\\partial n_{x})^{4}}F\\left(n_{x}, a_{y}\\right)\\,{d n_{x}} - \\frac{1}{144} \\, \\int_{a_{x}}^{b_{x}} n_{x}^{3} \\frac{\\partial^{5}}{(\\partial n_{x})^{4}\\partial a_{y}}F\\left(n_{x}, a_{y}\\right)\\,{d n_{x}} + \\frac{1}{48} \\, \\int_{a_{x}}^{b_{x}} n_{x}^{2} \\left \\lfloor n_{x} \\right \\rfloor \\frac{\\partial^{5}}{(\\partial n_{x})^{4}\\partial a_{y}}F\\left(n_{x}, a_{y}\\right)\\,{d n_{x}} - \\frac{1}{48} \\, \\int_{a_{x}}^{b_{x}} n_{x} \\left \\lfloor n_{x} \\right \\rfloor^{2} \\frac{\\partial^{5}}{(\\partial n_{x})^{4}\\partial a_{y}}F\\left(n_{x}, a_{y}\\right)\\,{d n_{x}} + \\frac{1}{144} \\, \\int_{a_{x}}^{b_{x}} \\left \\lfloor n_{x} \\right \\rfloor^{3} \\frac{\\partial^{5}}{(\\partial n_{x})^{4}\\partial a_{y}}F\\left(n_{x}, a_{y}\\right)\\,{d n_{x}} + \\frac{1}{8640} \\, \\int_{a_{x}}^{b_{x}} n_{x}^{3} \\frac{\\partial^{7}}{(\\partial n_{x})^{4}(\\partial a_{y})^{3}}F\\left(n_{x}, a_{y}\\right)\\,{d n_{x}} - \\frac{1}{2880} \\, \\int_{a_{x}}^{b_{x}} n_{x}^{2} \\left \\lfloor n_{x} \\right \\rfloor \\frac{\\partial^{7}}{(\\partial n_{x})^{4}(\\partial a_{y})^{3}}F\\left(n_{x}, a_{y}\\right)\\,{d n_{x}} + \\frac{1}{2880} \\, \\int_{a_{x}}^{b_{x}} n_{x} \\left \\lfloor n_{x} \\right \\rfloor^{2} \\frac{\\partial^{7}}{(\\partial n_{x})^{4}(\\partial a_{y})^{3}}F\\left(n_{x}, a_{y}\\right)\\,{d n_{x}} - \\frac{1}{8640} \\, \\int_{a_{x}}^{b_{x}} \\left \\lfloor n_{x} \\right \\rfloor^{3} \\frac{\\partial^{7}}{(\\partial n_{x})^{4}(\\partial a_{y})^{3}}F\\left(n_{x}, a_{y}\\right)\\,{d n_{x}} - \\frac{1}{1440} \\, \\int_{a_{x}}^{b_{x}} 30 \\, n_{x}^{2} \\frac{\\partial^{4}}{(\\partial n_{x})^{4}}F\\left(n_{x}, a_{y}\\right)\\,{d n_{x}} - \\frac{1}{1440} \\, \\int_{a_{x}}^{b_{x}} -60 \\, n_{x} \\left \\lfloor n_{x} \\right \\rfloor \\frac{\\partial^{4}}{(\\partial n_{x})^{4}}F\\left(n_{x}, a_{y}\\right)\\,{d n_{x}} - \\frac{1}{1440} \\, \\int_{a_{x}}^{b_{x}} 30 \\, \\left \\lfloor n_{x} \\right \\rfloor^{2} \\frac{\\partial^{4}}{(\\partial n_{x})^{4}}F\\left(n_{x}, a_{y}\\right)\\,{d n_{x}} + \\frac{1}{288} \\, \\int_{a_{x}}^{b_{x}} n_{x}^{2} \\frac{\\partial^{5}}{(\\partial n_{x})^{4}\\partial a_{y}}F\\left(n_{x}, a_{y}\\right)\\,{d n_{x}} - \\frac{1}{144} \\, \\int_{a_{x}}^{b_{x}} n_{x} \\left \\lfloor n_{x} \\right \\rfloor \\frac{\\partial^{5}}{(\\partial n_{x})^{4}\\partial a_{y}}F\\left(n_{x}, a_{y}\\right)\\,{d n_{x}} + \\frac{1}{288} \\, \\int_{a_{x}}^{b_{x}} \\left \\lfloor n_{x} \\right \\rfloor^{2} \\frac{\\partial^{5}}{(\\partial n_{x})^{4}\\partial a_{y}}F\\left(n_{x}, a_{y}\\right)\\,{d n_{x}} - \\frac{1}{17280} \\, \\int_{a_{x}}^{b_{x}} n_{x}^{2} \\frac{\\partial^{7}}{(\\partial n_{x})^{4}(\\partial a_{y})^{3}}F\\left(n_{x}, a_{y}\\right)\\,{d n_{x}} + \\frac{1}{8640} \\, \\int_{a_{x}}^{b_{x}} n_{x} \\left \\lfloor n_{x} \\right \\rfloor \\frac{\\partial^{7}}{(\\partial n_{x})^{4}(\\partial a_{y})^{3}}F\\left(n_{x}, a_{y}\\right)\\,{d n_{x}} - \\frac{1}{17280} \\, \\int_{a_{x}}^{b_{x}} \\left \\lfloor n_{x} \\right \\rfloor^{2} \\frac{\\partial^{7}}{(\\partial n_{x})^{4}(\\partial a_{y})^{3}}F\\left(n_{x}, a_{y}\\right)\\,{d n_{x}} - \\frac{1}{1440} \\, \\int_{a_{x}}^{b_{x}} -\\frac{\\partial^{4}}{(\\partial n_{x})^{4}}F\\left(n_{x}, a_{y}\\right)\\,{d n_{x}} + \\frac{1}{8640} \\, \\frac{\\partial^{4}}{(\\partial a_{x})^{3}\\partial a_{y}}F\\left(a_{x}, a_{y}\\right) - \\frac{1}{518400} \\, \\frac{\\partial^{6}}{(\\partial a_{x})^{3}(\\partial a_{y})^{3}}F\\left(a_{x}, a_{y}\\right) - \\frac{1}{8640} \\, \\frac{\\partial^{4}}{(\\partial b_{x})^{3}\\partial a_{y}}F\\left(b_{x}, a_{y}\\right) + \\frac{1}{518400} \\, \\frac{\\partial^{6}}{(\\partial b_{x})^{3}(\\partial a_{y})^{3}}F\\left(b_{x}, a_{y}\\right)$"
      ],
      "text/plain": [
       "<IPython.core.display.Math object>"
      ]
     },
     "metadata": {},
     "output_type": "display_data"
    }
   ],
   "source": [
    "try:\n",
    "    use_int_R_p_j=False\n",
    "\n",
    "    R_px = euler_maclaurin_R_p(F, n_x, a_x, b_x,p, f_diff_symb_p=F.diff(n_x,p))\n",
    "    print(\"R_px=\", R_px)\n",
    "    #print(\"R_px=$\",latex(R_px),\"$\")\n",
    "    display(Math(latex(R_px)))\n",
    "\n",
    "    sumy_R_px = sum_dfdx_bernoulis(R_px, n_y, a_y, b_y, p)\n",
    "    print(\"sumy_R_px=\",sumy_R_px)\n",
    "    #print(\"sumy_R_px=$\",latex(sumy_R_px),\"$\")\n",
    "    display(Math(latex(sumy_R_px)))\n",
    "\n",
    "    sum_R_p = sum_dfdx_bernoulis(euler_maclaurin_R_p(F, n_x, a_x, b_x,p, f_diff_symb_p=F.diff(n_x,p)), n_y, a_y, b_y, p)\n",
    "    print(\"sum_R_p=\",sum_R_p)\n",
    "    #print(\"sum_R_p=$\",latex(sum_R_p),\"$\")\n",
    "    display(Math(latex(sum_R_p)))\n",
    "except Exception as ex:\n",
    "    print(ex)"
   ]
  },
  {
   "cell_type": "code",
   "execution_count": 53,
   "metadata": {},
   "outputs": [
    {
     "name": "stdout",
     "output_type": "stream",
     "text": [
      "sum_R_p= -1/1440*integrate(30*n_x^4*diff(F(n_x, a_y), n_x, n_x, n_x, n_x), n_x, a_x, b_x) - 1/1440*integrate(-120*n_x^3*floor(n_x)*diff(F(n_x, a_y), n_x, n_x, n_x, n_x), n_x, a_x, b_x) - 1/1440*integrate(180*n_x^2*floor(n_x)^2*diff(F(n_x, a_y), n_x, n_x, n_x, n_x), n_x, a_x, b_x) - 1/1440*integrate(-120*n_x*floor(n_x)^3*diff(F(n_x, a_y), n_x, n_x, n_x, n_x), n_x, a_x, b_x) - 1/1440*integrate(30*floor(n_x)^4*diff(F(n_x, a_y), n_x, n_x, n_x, n_x), n_x, a_x, b_x) - 1/17280*integrate(n_x^4*diff(F(n_x, a_y), n_x, n_x, n_x, n_x, a_y, a_y, a_y), n_x, a_x, b_x) + 1/4320*integrate(n_x^3*floor(n_x)*diff(F(n_x, a_y), n_x, n_x, n_x, n_x, a_y, a_y, a_y), n_x, a_x, b_x) - 1/2880*integrate(n_x^2*floor(n_x)^2*diff(F(n_x, a_y), n_x, n_x, n_x, n_x, a_y, a_y, a_y), n_x, a_x, b_x) + 1/4320*integrate(n_x*floor(n_x)^3*diff(F(n_x, a_y), n_x, n_x, n_x, n_x, a_y, a_y, a_y), n_x, a_x, b_x) - 1/17280*integrate(floor(n_x)^4*diff(F(n_x, a_y), n_x, n_x, n_x, n_x, a_y, a_y, a_y), n_x, a_x, b_x) + 1/1440*integrate(30*n_x^4*diff(F(n_x, b_y), n_x, n_x, n_x, n_x), n_x, a_x, b_x) + 1/1440*integrate(-120*n_x^3*floor(n_x)*diff(F(n_x, b_y), n_x, n_x, n_x, n_x), n_x, a_x, b_x) + 1/1440*integrate(180*n_x^2*floor(n_x)^2*diff(F(n_x, b_y), n_x, n_x, n_x, n_x), n_x, a_x, b_x) + 1/1440*integrate(-120*n_x*floor(n_x)^3*diff(F(n_x, b_y), n_x, n_x, n_x, n_x), n_x, a_x, b_x) + 1/1440*integrate(30*floor(n_x)^4*diff(F(n_x, b_y), n_x, n_x, n_x, n_x), n_x, a_x, b_x) + 1/17280*integrate(n_x^4*diff(F(n_x, b_y), n_x, n_x, n_x, n_x, b_y, b_y, b_y), n_x, a_x, b_x) - 1/4320*integrate(n_x^3*floor(n_x)*diff(F(n_x, b_y), n_x, n_x, n_x, n_x, b_y, b_y, b_y), n_x, a_x, b_x) + 1/2880*integrate(n_x^2*floor(n_x)^2*diff(F(n_x, b_y), n_x, n_x, n_x, n_x, b_y, b_y, b_y), n_x, a_x, b_x) - 1/4320*integrate(n_x*floor(n_x)^3*diff(F(n_x, b_y), n_x, n_x, n_x, n_x, b_y, b_y, b_y), n_x, a_x, b_x) + 1/17280*integrate(floor(n_x)^4*diff(F(n_x, b_y), n_x, n_x, n_x, n_x, b_y, b_y, b_y), n_x, a_x, b_x) - 1/1440*integrate(-60*n_x^3*diff(F(n_x, a_y), n_x, n_x, n_x, n_x), n_x, a_x, b_x) - 1/1440*integrate(180*n_x^2*floor(n_x)*diff(F(n_x, a_y), n_x, n_x, n_x, n_x), n_x, a_x, b_x) - 1/1440*integrate(-180*n_x*floor(n_x)^2*diff(F(n_x, a_y), n_x, n_x, n_x, n_x), n_x, a_x, b_x) - 1/1440*integrate(60*floor(n_x)^3*diff(F(n_x, a_y), n_x, n_x, n_x, n_x), n_x, a_x, b_x) + 1/8640*integrate(n_x^3*diff(F(n_x, a_y), n_x, n_x, n_x, n_x, a_y, a_y, a_y), n_x, a_x, b_x) - 1/2880*integrate(n_x^2*floor(n_x)*diff(F(n_x, a_y), n_x, n_x, n_x, n_x, a_y, a_y, a_y), n_x, a_x, b_x) + 1/2880*integrate(n_x*floor(n_x)^2*diff(F(n_x, a_y), n_x, n_x, n_x, n_x, a_y, a_y, a_y), n_x, a_x, b_x) - 1/8640*integrate(floor(n_x)^3*diff(F(n_x, a_y), n_x, n_x, n_x, n_x, a_y, a_y, a_y), n_x, a_x, b_x) + 1/1440*integrate(-60*n_x^3*diff(F(n_x, b_y), n_x, n_x, n_x, n_x), n_x, a_x, b_x) + 1/1440*integrate(180*n_x^2*floor(n_x)*diff(F(n_x, b_y), n_x, n_x, n_x, n_x), n_x, a_x, b_x) + 1/1440*integrate(-180*n_x*floor(n_x)^2*diff(F(n_x, b_y), n_x, n_x, n_x, n_x), n_x, a_x, b_x) + 1/1440*integrate(60*floor(n_x)^3*diff(F(n_x, b_y), n_x, n_x, n_x, n_x), n_x, a_x, b_x) - 1/8640*integrate(n_x^3*diff(F(n_x, b_y), n_x, n_x, n_x, n_x, b_y, b_y, b_y), n_x, a_x, b_x) + 1/2880*integrate(n_x^2*floor(n_x)*diff(F(n_x, b_y), n_x, n_x, n_x, n_x, b_y, b_y, b_y), n_x, a_x, b_x) - 1/2880*integrate(n_x*floor(n_x)^2*diff(F(n_x, b_y), n_x, n_x, n_x, n_x, b_y, b_y, b_y), n_x, a_x, b_x) + 1/8640*integrate(floor(n_x)^3*diff(F(n_x, b_y), n_x, n_x, n_x, n_x, b_y, b_y, b_y), n_x, a_x, b_x) - 1/1440*integrate(30*n_x^2*diff(F(n_x, a_y), n_x, n_x, n_x, n_x), n_x, a_x, b_x) - 1/1440*integrate(-60*n_x*floor(n_x)*diff(F(n_x, a_y), n_x, n_x, n_x, n_x), n_x, a_x, b_x) - 1/1440*integrate(30*floor(n_x)^2*diff(F(n_x, a_y), n_x, n_x, n_x, n_x), n_x, a_x, b_x) - 1/17280*integrate(n_x^2*diff(F(n_x, a_y), n_x, n_x, n_x, n_x, a_y, a_y, a_y), n_x, a_x, b_x) + 1/8640*integrate(n_x*floor(n_x)*diff(F(n_x, a_y), n_x, n_x, n_x, n_x, a_y, a_y, a_y), n_x, a_x, b_x) - 1/17280*integrate(floor(n_x)^2*diff(F(n_x, a_y), n_x, n_x, n_x, n_x, a_y, a_y, a_y), n_x, a_x, b_x) + 1/1440*integrate(30*n_x^2*diff(F(n_x, b_y), n_x, n_x, n_x, n_x), n_x, a_x, b_x) + 1/1440*integrate(-60*n_x*floor(n_x)*diff(F(n_x, b_y), n_x, n_x, n_x, n_x), n_x, a_x, b_x) + 1/1440*integrate(30*floor(n_x)^2*diff(F(n_x, b_y), n_x, n_x, n_x, n_x), n_x, a_x, b_x) + 1/17280*integrate(n_x^2*diff(F(n_x, b_y), n_x, n_x, n_x, n_x, b_y, b_y, b_y), n_x, a_x, b_x) - 1/8640*integrate(n_x*floor(n_x)*diff(F(n_x, b_y), n_x, n_x, n_x, n_x, b_y, b_y, b_y), n_x, a_x, b_x) + 1/17280*integrate(floor(n_x)^2*diff(F(n_x, b_y), n_x, n_x, n_x, n_x, b_y, b_y, b_y), n_x, a_x, b_x) + 1/8640*integrate((30*(n_x - floor(n_x))^4 - 60*(n_x - floor(n_x))^3 + 30*(n_x - floor(n_x))^2 - 1)*diff(F(n_x, a_y), n_x, n_x, n_x, n_x, a_y), n_x, a_x, b_x) - 1/8640*integrate((30*(n_x - floor(n_x))^4 - 60*(n_x - floor(n_x))^3 + 30*(n_x - floor(n_x))^2 - 1)*diff(F(n_x, b_y), n_x, n_x, n_x, n_x, b_y), n_x, a_x, b_x) - 1/1440*integrate(-diff(F(n_x, a_y), n_x, n_x, n_x, n_x), n_x, a_x, b_x) + 1/1440*integrate(-diff(F(n_x, b_y), n_x, n_x, n_x, n_x), n_x, a_x, b_x) - 1/518400*diff(F(a_x, a_y), a_x, a_x, a_x, a_y, a_y, a_y) + 1/518400*diff(F(a_x, b_y), a_x, a_x, a_x, b_y, b_y, b_y) + 1/518400*diff(F(b_x, a_y), b_x, b_x, b_x, a_y, a_y, a_y) - 1/518400*diff(F(b_x, b_y), b_x, b_x, b_x, b_y, b_y, b_y)\n"
     ]
    },
    {
     "data": {
      "text/latex": [
       "$\\displaystyle -\\frac{1}{1440} \\, \\int_{a_{x}}^{b_{x}} 30 \\, n_{x}^{4} \\frac{\\partial^{4}}{(\\partial n_{x})^{4}}F\\left(n_{x}, a_{y}\\right)\\,{d n_{x}} - \\frac{1}{1440} \\, \\int_{a_{x}}^{b_{x}} -120 \\, n_{x}^{3} \\left \\lfloor n_{x} \\right \\rfloor \\frac{\\partial^{4}}{(\\partial n_{x})^{4}}F\\left(n_{x}, a_{y}\\right)\\,{d n_{x}} - \\frac{1}{1440} \\, \\int_{a_{x}}^{b_{x}} 180 \\, n_{x}^{2} \\left \\lfloor n_{x} \\right \\rfloor^{2} \\frac{\\partial^{4}}{(\\partial n_{x})^{4}}F\\left(n_{x}, a_{y}\\right)\\,{d n_{x}} - \\frac{1}{1440} \\, \\int_{a_{x}}^{b_{x}} -120 \\, n_{x} \\left \\lfloor n_{x} \\right \\rfloor^{3} \\frac{\\partial^{4}}{(\\partial n_{x})^{4}}F\\left(n_{x}, a_{y}\\right)\\,{d n_{x}} - \\frac{1}{1440} \\, \\int_{a_{x}}^{b_{x}} 30 \\, \\left \\lfloor n_{x} \\right \\rfloor^{4} \\frac{\\partial^{4}}{(\\partial n_{x})^{4}}F\\left(n_{x}, a_{y}\\right)\\,{d n_{x}} - \\frac{1}{17280} \\, \\int_{a_{x}}^{b_{x}} n_{x}^{4} \\frac{\\partial^{7}}{(\\partial n_{x})^{4}(\\partial a_{y})^{3}}F\\left(n_{x}, a_{y}\\right)\\,{d n_{x}} + \\frac{1}{4320} \\, \\int_{a_{x}}^{b_{x}} n_{x}^{3} \\left \\lfloor n_{x} \\right \\rfloor \\frac{\\partial^{7}}{(\\partial n_{x})^{4}(\\partial a_{y})^{3}}F\\left(n_{x}, a_{y}\\right)\\,{d n_{x}} - \\frac{1}{2880} \\, \\int_{a_{x}}^{b_{x}} n_{x}^{2} \\left \\lfloor n_{x} \\right \\rfloor^{2} \\frac{\\partial^{7}}{(\\partial n_{x})^{4}(\\partial a_{y})^{3}}F\\left(n_{x}, a_{y}\\right)\\,{d n_{x}} + \\frac{1}{4320} \\, \\int_{a_{x}}^{b_{x}} n_{x} \\left \\lfloor n_{x} \\right \\rfloor^{3} \\frac{\\partial^{7}}{(\\partial n_{x})^{4}(\\partial a_{y})^{3}}F\\left(n_{x}, a_{y}\\right)\\,{d n_{x}} - \\frac{1}{17280} \\, \\int_{a_{x}}^{b_{x}} \\left \\lfloor n_{x} \\right \\rfloor^{4} \\frac{\\partial^{7}}{(\\partial n_{x})^{4}(\\partial a_{y})^{3}}F\\left(n_{x}, a_{y}\\right)\\,{d n_{x}} + \\frac{1}{1440} \\, \\int_{a_{x}}^{b_{x}} 30 \\, n_{x}^{4} \\frac{\\partial^{4}}{(\\partial n_{x})^{4}}F\\left(n_{x}, b_{y}\\right)\\,{d n_{x}} + \\frac{1}{1440} \\, \\int_{a_{x}}^{b_{x}} -120 \\, n_{x}^{3} \\left \\lfloor n_{x} \\right \\rfloor \\frac{\\partial^{4}}{(\\partial n_{x})^{4}}F\\left(n_{x}, b_{y}\\right)\\,{d n_{x}} + \\frac{1}{1440} \\, \\int_{a_{x}}^{b_{x}} 180 \\, n_{x}^{2} \\left \\lfloor n_{x} \\right \\rfloor^{2} \\frac{\\partial^{4}}{(\\partial n_{x})^{4}}F\\left(n_{x}, b_{y}\\right)\\,{d n_{x}} + \\frac{1}{1440} \\, \\int_{a_{x}}^{b_{x}} -120 \\, n_{x} \\left \\lfloor n_{x} \\right \\rfloor^{3} \\frac{\\partial^{4}}{(\\partial n_{x})^{4}}F\\left(n_{x}, b_{y}\\right)\\,{d n_{x}} + \\frac{1}{1440} \\, \\int_{a_{x}}^{b_{x}} 30 \\, \\left \\lfloor n_{x} \\right \\rfloor^{4} \\frac{\\partial^{4}}{(\\partial n_{x})^{4}}F\\left(n_{x}, b_{y}\\right)\\,{d n_{x}} + \\frac{1}{17280} \\, \\int_{a_{x}}^{b_{x}} n_{x}^{4} \\frac{\\partial^{7}}{(\\partial n_{x})^{4}(\\partial b_{y})^{3}}F\\left(n_{x}, b_{y}\\right)\\,{d n_{x}} - \\frac{1}{4320} \\, \\int_{a_{x}}^{b_{x}} n_{x}^{3} \\left \\lfloor n_{x} \\right \\rfloor \\frac{\\partial^{7}}{(\\partial n_{x})^{4}(\\partial b_{y})^{3}}F\\left(n_{x}, b_{y}\\right)\\,{d n_{x}} + \\frac{1}{2880} \\, \\int_{a_{x}}^{b_{x}} n_{x}^{2} \\left \\lfloor n_{x} \\right \\rfloor^{2} \\frac{\\partial^{7}}{(\\partial n_{x})^{4}(\\partial b_{y})^{3}}F\\left(n_{x}, b_{y}\\right)\\,{d n_{x}} - \\frac{1}{4320} \\, \\int_{a_{x}}^{b_{x}} n_{x} \\left \\lfloor n_{x} \\right \\rfloor^{3} \\frac{\\partial^{7}}{(\\partial n_{x})^{4}(\\partial b_{y})^{3}}F\\left(n_{x}, b_{y}\\right)\\,{d n_{x}} + \\frac{1}{17280} \\, \\int_{a_{x}}^{b_{x}} \\left \\lfloor n_{x} \\right \\rfloor^{4} \\frac{\\partial^{7}}{(\\partial n_{x})^{4}(\\partial b_{y})^{3}}F\\left(n_{x}, b_{y}\\right)\\,{d n_{x}} - \\frac{1}{1440} \\, \\int_{a_{x}}^{b_{x}} -60 \\, n_{x}^{3} \\frac{\\partial^{4}}{(\\partial n_{x})^{4}}F\\left(n_{x}, a_{y}\\right)\\,{d n_{x}} - \\frac{1}{1440} \\, \\int_{a_{x}}^{b_{x}} 180 \\, n_{x}^{2} \\left \\lfloor n_{x} \\right \\rfloor \\frac{\\partial^{4}}{(\\partial n_{x})^{4}}F\\left(n_{x}, a_{y}\\right)\\,{d n_{x}} - \\frac{1}{1440} \\, \\int_{a_{x}}^{b_{x}} -180 \\, n_{x} \\left \\lfloor n_{x} \\right \\rfloor^{2} \\frac{\\partial^{4}}{(\\partial n_{x})^{4}}F\\left(n_{x}, a_{y}\\right)\\,{d n_{x}} - \\frac{1}{1440} \\, \\int_{a_{x}}^{b_{x}} 60 \\, \\left \\lfloor n_{x} \\right \\rfloor^{3} \\frac{\\partial^{4}}{(\\partial n_{x})^{4}}F\\left(n_{x}, a_{y}\\right)\\,{d n_{x}} + \\frac{1}{8640} \\, \\int_{a_{x}}^{b_{x}} n_{x}^{3} \\frac{\\partial^{7}}{(\\partial n_{x})^{4}(\\partial a_{y})^{3}}F\\left(n_{x}, a_{y}\\right)\\,{d n_{x}} - \\frac{1}{2880} \\, \\int_{a_{x}}^{b_{x}} n_{x}^{2} \\left \\lfloor n_{x} \\right \\rfloor \\frac{\\partial^{7}}{(\\partial n_{x})^{4}(\\partial a_{y})^{3}}F\\left(n_{x}, a_{y}\\right)\\,{d n_{x}} + \\frac{1}{2880} \\, \\int_{a_{x}}^{b_{x}} n_{x} \\left \\lfloor n_{x} \\right \\rfloor^{2} \\frac{\\partial^{7}}{(\\partial n_{x})^{4}(\\partial a_{y})^{3}}F\\left(n_{x}, a_{y}\\right)\\,{d n_{x}} - \\frac{1}{8640} \\, \\int_{a_{x}}^{b_{x}} \\left \\lfloor n_{x} \\right \\rfloor^{3} \\frac{\\partial^{7}}{(\\partial n_{x})^{4}(\\partial a_{y})^{3}}F\\left(n_{x}, a_{y}\\right)\\,{d n_{x}} + \\frac{1}{1440} \\, \\int_{a_{x}}^{b_{x}} -60 \\, n_{x}^{3} \\frac{\\partial^{4}}{(\\partial n_{x})^{4}}F\\left(n_{x}, b_{y}\\right)\\,{d n_{x}} + \\frac{1}{1440} \\, \\int_{a_{x}}^{b_{x}} 180 \\, n_{x}^{2} \\left \\lfloor n_{x} \\right \\rfloor \\frac{\\partial^{4}}{(\\partial n_{x})^{4}}F\\left(n_{x}, b_{y}\\right)\\,{d n_{x}} + \\frac{1}{1440} \\, \\int_{a_{x}}^{b_{x}} -180 \\, n_{x} \\left \\lfloor n_{x} \\right \\rfloor^{2} \\frac{\\partial^{4}}{(\\partial n_{x})^{4}}F\\left(n_{x}, b_{y}\\right)\\,{d n_{x}} + \\frac{1}{1440} \\, \\int_{a_{x}}^{b_{x}} 60 \\, \\left \\lfloor n_{x} \\right \\rfloor^{3} \\frac{\\partial^{4}}{(\\partial n_{x})^{4}}F\\left(n_{x}, b_{y}\\right)\\,{d n_{x}} - \\frac{1}{8640} \\, \\int_{a_{x}}^{b_{x}} n_{x}^{3} \\frac{\\partial^{7}}{(\\partial n_{x})^{4}(\\partial b_{y})^{3}}F\\left(n_{x}, b_{y}\\right)\\,{d n_{x}} + \\frac{1}{2880} \\, \\int_{a_{x}}^{b_{x}} n_{x}^{2} \\left \\lfloor n_{x} \\right \\rfloor \\frac{\\partial^{7}}{(\\partial n_{x})^{4}(\\partial b_{y})^{3}}F\\left(n_{x}, b_{y}\\right)\\,{d n_{x}} - \\frac{1}{2880} \\, \\int_{a_{x}}^{b_{x}} n_{x} \\left \\lfloor n_{x} \\right \\rfloor^{2} \\frac{\\partial^{7}}{(\\partial n_{x})^{4}(\\partial b_{y})^{3}}F\\left(n_{x}, b_{y}\\right)\\,{d n_{x}} + \\frac{1}{8640} \\, \\int_{a_{x}}^{b_{x}} \\left \\lfloor n_{x} \\right \\rfloor^{3} \\frac{\\partial^{7}}{(\\partial n_{x})^{4}(\\partial b_{y})^{3}}F\\left(n_{x}, b_{y}\\right)\\,{d n_{x}} - \\frac{1}{1440} \\, \\int_{a_{x}}^{b_{x}} 30 \\, n_{x}^{2} \\frac{\\partial^{4}}{(\\partial n_{x})^{4}}F\\left(n_{x}, a_{y}\\right)\\,{d n_{x}} - \\frac{1}{1440} \\, \\int_{a_{x}}^{b_{x}} -60 \\, n_{x} \\left \\lfloor n_{x} \\right \\rfloor \\frac{\\partial^{4}}{(\\partial n_{x})^{4}}F\\left(n_{x}, a_{y}\\right)\\,{d n_{x}} - \\frac{1}{1440} \\, \\int_{a_{x}}^{b_{x}} 30 \\, \\left \\lfloor n_{x} \\right \\rfloor^{2} \\frac{\\partial^{4}}{(\\partial n_{x})^{4}}F\\left(n_{x}, a_{y}\\right)\\,{d n_{x}} - \\frac{1}{17280} \\, \\int_{a_{x}}^{b_{x}} n_{x}^{2} \\frac{\\partial^{7}}{(\\partial n_{x})^{4}(\\partial a_{y})^{3}}F\\left(n_{x}, a_{y}\\right)\\,{d n_{x}} + \\frac{1}{8640} \\, \\int_{a_{x}}^{b_{x}} n_{x} \\left \\lfloor n_{x} \\right \\rfloor \\frac{\\partial^{7}}{(\\partial n_{x})^{4}(\\partial a_{y})^{3}}F\\left(n_{x}, a_{y}\\right)\\,{d n_{x}} - \\frac{1}{17280} \\, \\int_{a_{x}}^{b_{x}} \\left \\lfloor n_{x} \\right \\rfloor^{2} \\frac{\\partial^{7}}{(\\partial n_{x})^{4}(\\partial a_{y})^{3}}F\\left(n_{x}, a_{y}\\right)\\,{d n_{x}} + \\frac{1}{1440} \\, \\int_{a_{x}}^{b_{x}} 30 \\, n_{x}^{2} \\frac{\\partial^{4}}{(\\partial n_{x})^{4}}F\\left(n_{x}, b_{y}\\right)\\,{d n_{x}} + \\frac{1}{1440} \\, \\int_{a_{x}}^{b_{x}} -60 \\, n_{x} \\left \\lfloor n_{x} \\right \\rfloor \\frac{\\partial^{4}}{(\\partial n_{x})^{4}}F\\left(n_{x}, b_{y}\\right)\\,{d n_{x}} + \\frac{1}{1440} \\, \\int_{a_{x}}^{b_{x}} 30 \\, \\left \\lfloor n_{x} \\right \\rfloor^{2} \\frac{\\partial^{4}}{(\\partial n_{x})^{4}}F\\left(n_{x}, b_{y}\\right)\\,{d n_{x}} + \\frac{1}{17280} \\, \\int_{a_{x}}^{b_{x}} n_{x}^{2} \\frac{\\partial^{7}}{(\\partial n_{x})^{4}(\\partial b_{y})^{3}}F\\left(n_{x}, b_{y}\\right)\\,{d n_{x}} - \\frac{1}{8640} \\, \\int_{a_{x}}^{b_{x}} n_{x} \\left \\lfloor n_{x} \\right \\rfloor \\frac{\\partial^{7}}{(\\partial n_{x})^{4}(\\partial b_{y})^{3}}F\\left(n_{x}, b_{y}\\right)\\,{d n_{x}} + \\frac{1}{17280} \\, \\int_{a_{x}}^{b_{x}} \\left \\lfloor n_{x} \\right \\rfloor^{2} \\frac{\\partial^{7}}{(\\partial n_{x})^{4}(\\partial b_{y})^{3}}F\\left(n_{x}, b_{y}\\right)\\,{d n_{x}} + \\frac{1}{8640} \\, \\int_{a_{x}}^{b_{x}} {\\left(30 \\, {\\left(n_{x} - \\left \\lfloor n_{x} \\right \\rfloor\\right)}^{4} - 60 \\, {\\left(n_{x} - \\left \\lfloor n_{x} \\right \\rfloor\\right)}^{3} + 30 \\, {\\left(n_{x} - \\left \\lfloor n_{x} \\right \\rfloor\\right)}^{2} - 1\\right)} \\frac{\\partial^{5}}{(\\partial n_{x})^{4}\\partial a_{y}}F\\left(n_{x}, a_{y}\\right)\\,{d n_{x}} - \\frac{1}{8640} \\, \\int_{a_{x}}^{b_{x}} {\\left(30 \\, {\\left(n_{x} - \\left \\lfloor n_{x} \\right \\rfloor\\right)}^{4} - 60 \\, {\\left(n_{x} - \\left \\lfloor n_{x} \\right \\rfloor\\right)}^{3} + 30 \\, {\\left(n_{x} - \\left \\lfloor n_{x} \\right \\rfloor\\right)}^{2} - 1\\right)} \\frac{\\partial^{5}}{(\\partial n_{x})^{4}\\partial b_{y}}F\\left(n_{x}, b_{y}\\right)\\,{d n_{x}} - \\frac{1}{1440} \\, \\int_{a_{x}}^{b_{x}} -\\frac{\\partial^{4}}{(\\partial n_{x})^{4}}F\\left(n_{x}, a_{y}\\right)\\,{d n_{x}} + \\frac{1}{1440} \\, \\int_{a_{x}}^{b_{x}} -\\frac{\\partial^{4}}{(\\partial n_{x})^{4}}F\\left(n_{x}, b_{y}\\right)\\,{d n_{x}} - \\frac{1}{518400} \\, \\frac{\\partial^{6}}{(\\partial a_{x})^{3}(\\partial a_{y})^{3}}F\\left(a_{x}, a_{y}\\right) + \\frac{1}{518400} \\, \\frac{\\partial^{6}}{(\\partial a_{x})^{3}(\\partial b_{y})^{3}}F\\left(a_{x}, b_{y}\\right) + \\frac{1}{518400} \\, \\frac{\\partial^{6}}{(\\partial b_{x})^{3}(\\partial a_{y})^{3}}F\\left(b_{x}, a_{y}\\right) - \\frac{1}{518400} \\, \\frac{\\partial^{6}}{(\\partial b_{x})^{3}(\\partial b_{y})^{3}}F\\left(b_{x}, b_{y}\\right)$"
      ],
      "text/plain": [
       "<IPython.core.display.Math object>"
      ]
     },
     "metadata": {},
     "output_type": "display_data"
    }
   ],
   "source": [
    "# with p = 3 I had\n",
    "# bug with zeroing of array of lambdas\n",
    "# here (inside sum_dfdx_bernoulis_euler_maclaurin_R_p)\n",
    "# Fixed!!!\n",
    "use_int_R_p_j=False\n",
    "#logging = True\n",
    "sum_R_p = sum_dfdx_bernoulis_euler_maclaurin_R_p(F, n_x, a_x, b_x,    n_y, a_y, b_y, p)\n",
    "\n",
    "if type(sum_R_p) is tuple:\n",
    "    print(\"sum_R_p=\",sum_R_p[0])\n",
    "    #print(\"sum_R_p=$\",latex(sum_R_p[0]),\"$\")\n",
    "    display(Math(latex(sum_R_p[0])))\n",
    "else:\n",
    "    print(\"sum_R_p=\",sum_R_p)\n",
    "    #print(\"sum_R_p=$\",latex(sum_R_p),\"$\")\n",
    "    display(Math(latex(sum_R_p)))"
   ]
  },
  {
   "cell_type": "code",
   "execution_count": 54,
   "metadata": {},
   "outputs": [
    {
     "name": "stdout",
     "output_type": "stream",
     "text": [
      "int_F= integrate(F(n_x, n_y), n_x, a_x, b_x)\n"
     ]
    },
    {
     "data": {
      "text/latex": [
       "$\\displaystyle \\int_{a_{x}}^{b_{x}} F\\left(n_{x}, n_{y}\\right)\\,{d n_{x}}$"
      ],
      "text/plain": [
       "<IPython.core.display.Math object>"
      ]
     },
     "metadata": {},
     "output_type": "display_data"
    },
    {
     "name": "stdout",
     "output_type": "stream",
     "text": [
      "int_F_diff_y_p= integrate(diff(F(n_x, n_y), n_y, n_y, n_y, n_y), n_x, a_x, b_x)\n"
     ]
    },
    {
     "data": {
      "text/latex": [
       "$\\displaystyle \\int_{a_{x}}^{b_{x}} \\frac{\\partial^{4}}{(\\partial n_{y})^{4}}F\\left(n_{x}, n_{y}\\right)\\,{d n_{x}}$"
      ],
      "text/plain": [
       "<IPython.core.display.Math object>"
      ]
     },
     "metadata": {},
     "output_type": "display_data"
    },
    {
     "name": "stdout",
     "output_type": "stream",
     "text": [
      "R_p_int= -integrate(1/720*(30*(n_y - floor(n_y))^4 - 60*(n_y - floor(n_y))^3 + 30*(n_y - floor(n_y))^2 - 1)*integrate(diff(F(n_x, n_y), n_y, n_y, n_y, n_y), n_x, a_x, b_x), n_y, a_y, b_y)\n"
     ]
    },
    {
     "data": {
      "text/latex": [
       "$\\displaystyle -\\int_{a_{y}}^{b_{y}} \\frac{1}{720} \\, {\\left(30 \\, {\\left(n_{y} - \\left \\lfloor n_{y} \\right \\rfloor\\right)}^{4} - 60 \\, {\\left(n_{y} - \\left \\lfloor n_{y} \\right \\rfloor\\right)}^{3} + 30 \\, {\\left(n_{y} - \\left \\lfloor n_{y} \\right \\rfloor\\right)}^{2} - 1\\right)} \\int_{a_{x}}^{b_{x}} \\frac{\\partial^{4}}{(\\partial n_{y})^{4}}F\\left(n_{x}, n_{y}\\right)\\,{d n_{x}}\\,{d n_{y}}$"
      ],
      "text/plain": [
       "<IPython.core.display.Math object>"
      ]
     },
     "metadata": {},
     "output_type": "display_data"
    }
   ],
   "source": [
    "try:\n",
    "    int_F = integral           (F,(n_x, a_x, b_x), hold=True)\n",
    "    print(\"int_F=\",int_F)\n",
    "    display(Math(latex(int_F)))\n",
    "\n",
    "    int_F_diff_y_p = int_F.diff(n_y,p)\n",
    "    print(\"int_F_diff_y_p=\",int_F_diff_y_p)\n",
    "    display(Math(latex(int_F_diff_y_p)))\n",
    "\n",
    "    R_p_int = euler_maclaurin_R_p(int_F, n_y, a_y, b_y, p, f_diff_symb_p=int_F.diff(n_y,p))\n",
    "    print(\"R_p_int=\",R_p_int)\n",
    "    display(Math(latex(R_p_int)))\n",
    "\n",
    "except Exception as ex:\n",
    "    print(ex)"
   ]
  },
  {
   "cell_type": "code",
   "execution_count": 55,
   "metadata": {},
   "outputs": [
    {
     "name": "stdout",
     "output_type": "stream",
     "text": [
      "sum_F= 1/2*F(a_x, n_y) - 1/12*diff(F(a_x, n_y), a_x) + 1/720*diff(F(a_x, n_y), a_x, a_x, a_x)\n"
     ]
    },
    {
     "data": {
      "text/latex": [
       "$\\displaystyle \\frac{1}{2} \\, F\\left(a_{x}, n_{y}\\right) - \\frac{1}{12} \\, \\frac{\\partial}{\\partial a_{x}}F\\left(a_{x}, n_{y}\\right) + \\frac{1}{720} \\, \\frac{\\partial^{3}}{(\\partial a_{x})^{3}}F\\left(a_{x}, n_{y}\\right)$"
      ],
      "text/plain": [
       "<IPython.core.display.Math object>"
      ]
     },
     "metadata": {},
     "output_type": "display_data"
    },
    {
     "name": "stdout",
     "output_type": "stream",
     "text": [
      "sum_F_diff_y_p= 1/720*diff(F(a_x, n_y), a_x, a_x, a_x, n_y, n_y, n_y, n_y) - 1/12*diff(F(a_x, n_y), a_x, n_y, n_y, n_y, n_y) + 1/2*diff(F(a_x, n_y), n_y, n_y, n_y, n_y)\n"
     ]
    },
    {
     "data": {
      "text/latex": [
       "$\\displaystyle \\frac{1}{720} \\, \\frac{\\partial^{7}}{(\\partial a_{x})^{3}(\\partial n_{y})^{4}}F\\left(a_{x}, n_{y}\\right) - \\frac{1}{12} \\, \\frac{\\partial^{5}}{\\partial a_{x}(\\partial n_{y})^{4}}F\\left(a_{x}, n_{y}\\right) + \\frac{1}{2} \\, \\frac{\\partial^{4}}{(\\partial n_{y})^{4}}F\\left(a_{x}, n_{y}\\right)$"
      ],
      "text/plain": [
       "<IPython.core.display.Math object>"
      ]
     },
     "metadata": {},
     "output_type": "display_data"
    },
    {
     "name": "stdout",
     "output_type": "stream",
     "text": [
      "R_p_sum= -integrate(1/518400*(30*(n_y - floor(n_y))^4 - 60*(n_y - floor(n_y))^3 + 30*(n_y - floor(n_y))^2 - 1)*(diff(F(a_x, n_y), a_x, a_x, a_x, n_y, n_y, n_y, n_y) - 60*diff(F(a_x, n_y), a_x, n_y, n_y, n_y, n_y) + 360*diff(F(a_x, n_y), n_y, n_y, n_y, n_y)), n_y, a_y, b_y)\n"
     ]
    },
    {
     "data": {
      "text/latex": [
       "$\\displaystyle -\\int_{a_{y}}^{b_{y}} \\frac{1}{518400} \\, {\\left(30 \\, {\\left(n_{y} - \\left \\lfloor n_{y} \\right \\rfloor\\right)}^{4} - 60 \\, {\\left(n_{y} - \\left \\lfloor n_{y} \\right \\rfloor\\right)}^{3} + 30 \\, {\\left(n_{y} - \\left \\lfloor n_{y} \\right \\rfloor\\right)}^{2} - 1\\right)} {\\left(\\frac{\\partial^{7}}{(\\partial a_{x})^{3}(\\partial n_{y})^{4}}F\\left(a_{x}, n_{y}\\right) - 60 \\, \\frac{\\partial^{5}}{\\partial a_{x}(\\partial n_{y})^{4}}F\\left(a_{x}, n_{y}\\right) + 360 \\, \\frac{\\partial^{4}}{(\\partial n_{y})^{4}}F\\left(a_{x}, n_{y}\\right)\\right)}\\,{d n_{y}}$"
      ],
      "text/plain": [
       "<IPython.core.display.Math object>"
      ]
     },
     "metadata": {},
     "output_type": "display_data"
    }
   ],
   "source": [
    "try:\n",
    "    sum_F = sum_dfdx_bernoulis (F, n_x, a_x, b_x,p)\n",
    "    print(\"sum_F=\",sum_F)\n",
    "    display(Math(latex(sum_F)))\n",
    "\n",
    "    sum_F_diff_y_p = sum_F.diff(n_y,p)\n",
    "    print(\"sum_F_diff_y_p=\",sum_F_diff_y_p)\n",
    "    display(Math(latex(sum_F_diff_y_p)))\n",
    "\n",
    "    R_p_sum = euler_maclaurin_R_p(sum_F, n_y, a_y, b_y, p, f_diff_symb_p=sum_F_diff_y_p)\n",
    "    print(\"R_p_sum=\",R_p_sum)\n",
    "    #print(\"R_p_sum=$\",latex(R_p_sum),\"$\")\n",
    "    display(Math(latex(R_p_sum)))\n",
    "\n",
    "except Exception as ex:\n",
    "    print(ex)"
   ]
  },
  {
   "cell_type": "code",
   "execution_count": 56,
   "metadata": {},
   "outputs": [
    {
     "name": "stdout",
     "output_type": "stream",
     "text": [
      "R_px= -integrate(1/720*(30*(n_x - floor(n_x))^4 - 60*(n_x - floor(n_x))^3 + 30*(n_x - floor(n_x))^2 - 1)*diff(F(n_x, n_y), n_x, n_x, n_x, n_x), n_x, a_x, b_x)\n"
     ]
    },
    {
     "data": {
      "text/latex": [
       "$\\displaystyle -\\int_{a_{x}}^{b_{x}} \\frac{1}{720} \\, {\\left(30 \\, {\\left(n_{x} - \\left \\lfloor n_{x} \\right \\rfloor\\right)}^{4} - 60 \\, {\\left(n_{x} - \\left \\lfloor n_{x} \\right \\rfloor\\right)}^{3} + 30 \\, {\\left(n_{x} - \\left \\lfloor n_{x} \\right \\rfloor\\right)}^{2} - 1\\right)} \\frac{\\partial^{4}}{(\\partial n_{x})^{4}}F\\left(n_{x}, n_{y}\\right)\\,{d n_{x}}$"
      ],
      "text/plain": [
       "<IPython.core.display.Math object>"
      ]
     },
     "metadata": {},
     "output_type": "display_data"
    },
    {
     "name": "stdout",
     "output_type": "stream",
     "text": [
      "R_px_diff_y_p= -1/24*integrate(n_x^4*diff(F(n_x, n_y), n_x, n_x, n_x, n_x, n_y, n_y, n_y, n_y), n_x, a_x, b_x) + 1/6*integrate(n_x^3*floor(n_x)*diff(F(n_x, n_y), n_x, n_x, n_x, n_x, n_y, n_y, n_y, n_y), n_x, a_x, b_x) - 1/4*integrate(n_x^2*floor(n_x)^2*diff(F(n_x, n_y), n_x, n_x, n_x, n_x, n_y, n_y, n_y, n_y), n_x, a_x, b_x) + 1/6*integrate(n_x*floor(n_x)^3*diff(F(n_x, n_y), n_x, n_x, n_x, n_x, n_y, n_y, n_y, n_y), n_x, a_x, b_x) - 1/24*integrate(floor(n_x)^4*diff(F(n_x, n_y), n_x, n_x, n_x, n_x, n_y, n_y, n_y, n_y), n_x, a_x, b_x) + 1/12*integrate(n_x^3*diff(F(n_x, n_y), n_x, n_x, n_x, n_x, n_y, n_y, n_y, n_y), n_x, a_x, b_x) - 1/4*integrate(n_x^2*floor(n_x)*diff(F(n_x, n_y), n_x, n_x, n_x, n_x, n_y, n_y, n_y, n_y), n_x, a_x, b_x) + 1/4*integrate(n_x*floor(n_x)^2*diff(F(n_x, n_y), n_x, n_x, n_x, n_x, n_y, n_y, n_y, n_y), n_x, a_x, b_x) - 1/12*integrate(floor(n_x)^3*diff(F(n_x, n_y), n_x, n_x, n_x, n_x, n_y, n_y, n_y, n_y), n_x, a_x, b_x) - 1/24*integrate(n_x^2*diff(F(n_x, n_y), n_x, n_x, n_x, n_x, n_y, n_y, n_y, n_y), n_x, a_x, b_x) + 1/12*integrate(n_x*floor(n_x)*diff(F(n_x, n_y), n_x, n_x, n_x, n_x, n_y, n_y, n_y, n_y), n_x, a_x, b_x) - 1/24*integrate(floor(n_x)^2*diff(F(n_x, n_y), n_x, n_x, n_x, n_x, n_y, n_y, n_y, n_y), n_x, a_x, b_x) - 1/720*diff(F(a_x, n_y), a_x, a_x, a_x, n_y, n_y, n_y, n_y) + 1/720*diff(F(b_x, n_y), b_x, b_x, b_x, n_y, n_y, n_y, n_y)\n"
     ]
    },
    {
     "data": {
      "text/latex": [
       "$\\displaystyle -\\frac{1}{24} \\, \\int_{a_{x}}^{b_{x}} n_{x}^{4} \\frac{\\partial^{8}}{(\\partial n_{x})^{4}(\\partial n_{y})^{4}}F\\left(n_{x}, n_{y}\\right)\\,{d n_{x}} + \\frac{1}{6} \\, \\int_{a_{x}}^{b_{x}} n_{x}^{3} \\left \\lfloor n_{x} \\right \\rfloor \\frac{\\partial^{8}}{(\\partial n_{x})^{4}(\\partial n_{y})^{4}}F\\left(n_{x}, n_{y}\\right)\\,{d n_{x}} - \\frac{1}{4} \\, \\int_{a_{x}}^{b_{x}} n_{x}^{2} \\left \\lfloor n_{x} \\right \\rfloor^{2} \\frac{\\partial^{8}}{(\\partial n_{x})^{4}(\\partial n_{y})^{4}}F\\left(n_{x}, n_{y}\\right)\\,{d n_{x}} + \\frac{1}{6} \\, \\int_{a_{x}}^{b_{x}} n_{x} \\left \\lfloor n_{x} \\right \\rfloor^{3} \\frac{\\partial^{8}}{(\\partial n_{x})^{4}(\\partial n_{y})^{4}}F\\left(n_{x}, n_{y}\\right)\\,{d n_{x}} - \\frac{1}{24} \\, \\int_{a_{x}}^{b_{x}} \\left \\lfloor n_{x} \\right \\rfloor^{4} \\frac{\\partial^{8}}{(\\partial n_{x})^{4}(\\partial n_{y})^{4}}F\\left(n_{x}, n_{y}\\right)\\,{d n_{x}} + \\frac{1}{12} \\, \\int_{a_{x}}^{b_{x}} n_{x}^{3} \\frac{\\partial^{8}}{(\\partial n_{x})^{4}(\\partial n_{y})^{4}}F\\left(n_{x}, n_{y}\\right)\\,{d n_{x}} - \\frac{1}{4} \\, \\int_{a_{x}}^{b_{x}} n_{x}^{2} \\left \\lfloor n_{x} \\right \\rfloor \\frac{\\partial^{8}}{(\\partial n_{x})^{4}(\\partial n_{y})^{4}}F\\left(n_{x}, n_{y}\\right)\\,{d n_{x}} + \\frac{1}{4} \\, \\int_{a_{x}}^{b_{x}} n_{x} \\left \\lfloor n_{x} \\right \\rfloor^{2} \\frac{\\partial^{8}}{(\\partial n_{x})^{4}(\\partial n_{y})^{4}}F\\left(n_{x}, n_{y}\\right)\\,{d n_{x}} - \\frac{1}{12} \\, \\int_{a_{x}}^{b_{x}} \\left \\lfloor n_{x} \\right \\rfloor^{3} \\frac{\\partial^{8}}{(\\partial n_{x})^{4}(\\partial n_{y})^{4}}F\\left(n_{x}, n_{y}\\right)\\,{d n_{x}} - \\frac{1}{24} \\, \\int_{a_{x}}^{b_{x}} n_{x}^{2} \\frac{\\partial^{8}}{(\\partial n_{x})^{4}(\\partial n_{y})^{4}}F\\left(n_{x}, n_{y}\\right)\\,{d n_{x}} + \\frac{1}{12} \\, \\int_{a_{x}}^{b_{x}} n_{x} \\left \\lfloor n_{x} \\right \\rfloor \\frac{\\partial^{8}}{(\\partial n_{x})^{4}(\\partial n_{y})^{4}}F\\left(n_{x}, n_{y}\\right)\\,{d n_{x}} - \\frac{1}{24} \\, \\int_{a_{x}}^{b_{x}} \\left \\lfloor n_{x} \\right \\rfloor^{2} \\frac{\\partial^{8}}{(\\partial n_{x})^{4}(\\partial n_{y})^{4}}F\\left(n_{x}, n_{y}\\right)\\,{d n_{x}} - \\frac{1}{720} \\, \\frac{\\partial^{7}}{(\\partial a_{x})^{3}(\\partial n_{y})^{4}}F\\left(a_{x}, n_{y}\\right) + \\frac{1}{720} \\, \\frac{\\partial^{7}}{(\\partial b_{x})^{3}(\\partial n_{y})^{4}}F\\left(b_{x}, n_{y}\\right)$"
      ],
      "text/plain": [
       "<IPython.core.display.Math object>"
      ]
     },
     "metadata": {},
     "output_type": "display_data"
    },
    {
     "name": "stdout",
     "output_type": "stream",
     "text": [
      "R_p_R_p= -integrate(-1/518400*(30*(n_y - floor(n_y))^4 - 60*(n_y - floor(n_y))^3 + 30*(n_y - floor(n_y))^2 - 1)*(30*integrate(n_x^4*diff(F(n_x, n_y), n_x, n_x, n_x, n_x, n_y, n_y, n_y, n_y), n_x, a_x, b_x) - 120*integrate(n_x^3*floor(n_x)*diff(F(n_x, n_y), n_x, n_x, n_x, n_x, n_y, n_y, n_y, n_y), n_x, a_x, b_x) + 180*integrate(n_x^2*floor(n_x)^2*diff(F(n_x, n_y), n_x, n_x, n_x, n_x, n_y, n_y, n_y, n_y), n_x, a_x, b_x) - 120*integrate(n_x*floor(n_x)^3*diff(F(n_x, n_y), n_x, n_x, n_x, n_x, n_y, n_y, n_y, n_y), n_x, a_x, b_x) + 30*integrate(floor(n_x)^4*diff(F(n_x, n_y), n_x, n_x, n_x, n_x, n_y, n_y, n_y, n_y), n_x, a_x, b_x) - 60*integrate(n_x^3*diff(F(n_x, n_y), n_x, n_x, n_x, n_x, n_y, n_y, n_y, n_y), n_x, a_x, b_x) + 180*integrate(n_x^2*floor(n_x)*diff(F(n_x, n_y), n_x, n_x, n_x, n_x, n_y, n_y, n_y, n_y), n_x, a_x, b_x) - 180*integrate(n_x*floor(n_x)^2*diff(F(n_x, n_y), n_x, n_x, n_x, n_x, n_y, n_y, n_y, n_y), n_x, a_x, b_x) + 60*integrate(floor(n_x)^3*diff(F(n_x, n_y), n_x, n_x, n_x, n_x, n_y, n_y, n_y, n_y), n_x, a_x, b_x) + 30*integrate(n_x^2*diff(F(n_x, n_y), n_x, n_x, n_x, n_x, n_y, n_y, n_y, n_y), n_x, a_x, b_x) - 60*integrate(n_x*floor(n_x)*diff(F(n_x, n_y), n_x, n_x, n_x, n_x, n_y, n_y, n_y, n_y), n_x, a_x, b_x) + 30*integrate(floor(n_x)^2*diff(F(n_x, n_y), n_x, n_x, n_x, n_x, n_y, n_y, n_y, n_y), n_x, a_x, b_x) + diff(F(a_x, n_y), a_x, a_x, a_x, n_y, n_y, n_y, n_y) - diff(F(b_x, n_y), b_x, b_x, b_x, n_y, n_y, n_y, n_y)), n_y, a_y, b_y)\n"
     ]
    },
    {
     "data": {
      "text/latex": [
       "$\\displaystyle -\\int_{a_{y}}^{b_{y}} -\\frac{1}{518400} \\, {\\left(30 \\, {\\left(n_{y} - \\left \\lfloor n_{y} \\right \\rfloor\\right)}^{4} - 60 \\, {\\left(n_{y} - \\left \\lfloor n_{y} \\right \\rfloor\\right)}^{3} + 30 \\, {\\left(n_{y} - \\left \\lfloor n_{y} \\right \\rfloor\\right)}^{2} - 1\\right)} {\\left(30 \\, \\int_{a_{x}}^{b_{x}} n_{x}^{4} \\frac{\\partial^{8}}{(\\partial n_{x})^{4}(\\partial n_{y})^{4}}F\\left(n_{x}, n_{y}\\right)\\,{d n_{x}} - 120 \\, \\int_{a_{x}}^{b_{x}} n_{x}^{3} \\left \\lfloor n_{x} \\right \\rfloor \\frac{\\partial^{8}}{(\\partial n_{x})^{4}(\\partial n_{y})^{4}}F\\left(n_{x}, n_{y}\\right)\\,{d n_{x}} + 180 \\, \\int_{a_{x}}^{b_{x}} n_{x}^{2} \\left \\lfloor n_{x} \\right \\rfloor^{2} \\frac{\\partial^{8}}{(\\partial n_{x})^{4}(\\partial n_{y})^{4}}F\\left(n_{x}, n_{y}\\right)\\,{d n_{x}} - 120 \\, \\int_{a_{x}}^{b_{x}} n_{x} \\left \\lfloor n_{x} \\right \\rfloor^{3} \\frac{\\partial^{8}}{(\\partial n_{x})^{4}(\\partial n_{y})^{4}}F\\left(n_{x}, n_{y}\\right)\\,{d n_{x}} + 30 \\, \\int_{a_{x}}^{b_{x}} \\left \\lfloor n_{x} \\right \\rfloor^{4} \\frac{\\partial^{8}}{(\\partial n_{x})^{4}(\\partial n_{y})^{4}}F\\left(n_{x}, n_{y}\\right)\\,{d n_{x}} - 60 \\, \\int_{a_{x}}^{b_{x}} n_{x}^{3} \\frac{\\partial^{8}}{(\\partial n_{x})^{4}(\\partial n_{y})^{4}}F\\left(n_{x}, n_{y}\\right)\\,{d n_{x}} + 180 \\, \\int_{a_{x}}^{b_{x}} n_{x}^{2} \\left \\lfloor n_{x} \\right \\rfloor \\frac{\\partial^{8}}{(\\partial n_{x})^{4}(\\partial n_{y})^{4}}F\\left(n_{x}, n_{y}\\right)\\,{d n_{x}} - 180 \\, \\int_{a_{x}}^{b_{x}} n_{x} \\left \\lfloor n_{x} \\right \\rfloor^{2} \\frac{\\partial^{8}}{(\\partial n_{x})^{4}(\\partial n_{y})^{4}}F\\left(n_{x}, n_{y}\\right)\\,{d n_{x}} + 60 \\, \\int_{a_{x}}^{b_{x}} \\left \\lfloor n_{x} \\right \\rfloor^{3} \\frac{\\partial^{8}}{(\\partial n_{x})^{4}(\\partial n_{y})^{4}}F\\left(n_{x}, n_{y}\\right)\\,{d n_{x}} + 30 \\, \\int_{a_{x}}^{b_{x}} n_{x}^{2} \\frac{\\partial^{8}}{(\\partial n_{x})^{4}(\\partial n_{y})^{4}}F\\left(n_{x}, n_{y}\\right)\\,{d n_{x}} - 60 \\, \\int_{a_{x}}^{b_{x}} n_{x} \\left \\lfloor n_{x} \\right \\rfloor \\frac{\\partial^{8}}{(\\partial n_{x})^{4}(\\partial n_{y})^{4}}F\\left(n_{x}, n_{y}\\right)\\,{d n_{x}} + 30 \\, \\int_{a_{x}}^{b_{x}} \\left \\lfloor n_{x} \\right \\rfloor^{2} \\frac{\\partial^{8}}{(\\partial n_{x})^{4}(\\partial n_{y})^{4}}F\\left(n_{x}, n_{y}\\right)\\,{d n_{x}} + \\frac{\\partial^{7}}{(\\partial a_{x})^{3}(\\partial n_{y})^{4}}F\\left(a_{x}, n_{y}\\right) - \\frac{\\partial^{7}}{(\\partial b_{x})^{3}(\\partial n_{y})^{4}}F\\left(b_{x}, n_{y}\\right)\\right)}\\,{d n_{y}}$"
      ],
      "text/plain": [
       "<IPython.core.display.Math object>"
      ]
     },
     "metadata": {},
     "output_type": "display_data"
    }
   ],
   "source": [
    "try:\n",
    "    use_int_R_p_j = False\n",
    "    # Sagemath 9.3 had bug diff of symbolic_sum\n",
    "    # https://trac.sagemath.org/ticket/32161\n",
    "\n",
    "    R_px = euler_maclaurin_R_p(F, n_x, a_x, b_x,p, f_diff_symb_p=F.diff(n_x,p))\n",
    "\n",
    "    if type(R_px) is tuple:\n",
    "        R_px = R_px[0]\n",
    "\n",
    "    print(\"R_px=\",R_px)\n",
    "    #print(\"R_px=$\",latex(R_px),\"$\")\n",
    "    display(Math(latex(R_px)))\n",
    "\n",
    "    # https://trac.sagemath.org/ticket/32394\n",
    "    # Can't calculate derivative exception while sympifying of two arguments function derivative\n",
    "    R_px_diff_y_p = R_px.diff(n_y,p)\n",
    "    print(\"R_px_diff_y_p=\", R_px_diff_y_p)\n",
    "    #print(\"R_px_diff_y_p=$\", latex(R_px_diff_y_p),\"$\")\n",
    "    display(Math(latex(R_px_diff_y_p)))\n",
    "\n",
    "    #logging = True\n",
    "\n",
    "    R_p_R_p = euler_maclaurin_R_p(R_px, n_y, a_y, b_y, p, f_diff_symb_p=R_px_diff_y_p)\n",
    "\n",
    "    #logging = False\n",
    "\n",
    "    print(\"R_p_R_p=\",R_p_R_p)\n",
    "    #print(\"R_p_R_p=$\",latex(R_p_R_p),\"$\")\n",
    "    display(Math(latex(R_p_R_p)))\n",
    "\n",
    "except Exception as ex:\n",
    "    print(ex)"
   ]
  },
  {
   "cell_type": "code",
   "execution_count": 57,
   "metadata": {},
   "outputs": [
    {
     "name": "stdout",
     "output_type": "stream",
     "text": [
      "R_px= -integrate(1/720*(30*(n_x - floor(n_x))^4 - 60*(n_x - floor(n_x))^3 + 30*(n_x - floor(n_x))^2 - 1)*diff(F(n_x, n_y), n_x, n_x, n_x, n_x), n_x, a_x, b_x)\n"
     ]
    },
    {
     "data": {
      "text/latex": [
       "$\\displaystyle -\\int_{a_{x}}^{b_{x}} \\frac{1}{720} \\, {\\left(30 \\, {\\left(n_{x} - \\left \\lfloor n_{x} \\right \\rfloor\\right)}^{4} - 60 \\, {\\left(n_{x} - \\left \\lfloor n_{x} \\right \\rfloor\\right)}^{3} + 30 \\, {\\left(n_{x} - \\left \\lfloor n_{x} \\right \\rfloor\\right)}^{2} - 1\\right)} \\frac{\\partial^{4}}{(\\partial n_{x})^{4}}F\\left(n_{x}, n_{y}\\right)\\,{d n_{x}}$"
      ],
      "text/plain": [
       "<IPython.core.display.Math object>"
      ]
     },
     "metadata": {},
     "output_type": "display_data"
    },
    {
     "name": "stdout",
     "output_type": "stream",
     "text": [
      "R_px_diff_y_p= -1/24*integrate(n_x^4*diff(F(n_x, n_y), n_x, n_x, n_x, n_x, n_y, n_y, n_y, n_y), n_x, a_x, b_x) + 1/6*integrate(n_x^3*floor(n_x)*diff(F(n_x, n_y), n_x, n_x, n_x, n_x, n_y, n_y, n_y, n_y), n_x, a_x, b_x) - 1/4*integrate(n_x^2*floor(n_x)^2*diff(F(n_x, n_y), n_x, n_x, n_x, n_x, n_y, n_y, n_y, n_y), n_x, a_x, b_x) + 1/6*integrate(n_x*floor(n_x)^3*diff(F(n_x, n_y), n_x, n_x, n_x, n_x, n_y, n_y, n_y, n_y), n_x, a_x, b_x) - 1/24*integrate(floor(n_x)^4*diff(F(n_x, n_y), n_x, n_x, n_x, n_x, n_y, n_y, n_y, n_y), n_x, a_x, b_x) + 1/12*integrate(n_x^3*diff(F(n_x, n_y), n_x, n_x, n_x, n_x, n_y, n_y, n_y, n_y), n_x, a_x, b_x) - 1/4*integrate(n_x^2*floor(n_x)*diff(F(n_x, n_y), n_x, n_x, n_x, n_x, n_y, n_y, n_y, n_y), n_x, a_x, b_x) + 1/4*integrate(n_x*floor(n_x)^2*diff(F(n_x, n_y), n_x, n_x, n_x, n_x, n_y, n_y, n_y, n_y), n_x, a_x, b_x) - 1/12*integrate(floor(n_x)^3*diff(F(n_x, n_y), n_x, n_x, n_x, n_x, n_y, n_y, n_y, n_y), n_x, a_x, b_x) - 1/24*integrate(n_x^2*diff(F(n_x, n_y), n_x, n_x, n_x, n_x, n_y, n_y, n_y, n_y), n_x, a_x, b_x) + 1/12*integrate(n_x*floor(n_x)*diff(F(n_x, n_y), n_x, n_x, n_x, n_x, n_y, n_y, n_y, n_y), n_x, a_x, b_x) - 1/24*integrate(floor(n_x)^2*diff(F(n_x, n_y), n_x, n_x, n_x, n_x, n_y, n_y, n_y, n_y), n_x, a_x, b_x) - 1/720*diff(F(a_x, n_y), a_x, a_x, a_x, n_y, n_y, n_y, n_y) + 1/720*diff(F(b_x, n_y), b_x, b_x, b_x, n_y, n_y, n_y, n_y)\n"
     ]
    },
    {
     "data": {
      "text/latex": [
       "$\\displaystyle -\\frac{1}{24} \\, \\int_{a_{x}}^{b_{x}} n_{x}^{4} \\frac{\\partial^{8}}{(\\partial n_{x})^{4}(\\partial n_{y})^{4}}F\\left(n_{x}, n_{y}\\right)\\,{d n_{x}} + \\frac{1}{6} \\, \\int_{a_{x}}^{b_{x}} n_{x}^{3} \\left \\lfloor n_{x} \\right \\rfloor \\frac{\\partial^{8}}{(\\partial n_{x})^{4}(\\partial n_{y})^{4}}F\\left(n_{x}, n_{y}\\right)\\,{d n_{x}} - \\frac{1}{4} \\, \\int_{a_{x}}^{b_{x}} n_{x}^{2} \\left \\lfloor n_{x} \\right \\rfloor^{2} \\frac{\\partial^{8}}{(\\partial n_{x})^{4}(\\partial n_{y})^{4}}F\\left(n_{x}, n_{y}\\right)\\,{d n_{x}} + \\frac{1}{6} \\, \\int_{a_{x}}^{b_{x}} n_{x} \\left \\lfloor n_{x} \\right \\rfloor^{3} \\frac{\\partial^{8}}{(\\partial n_{x})^{4}(\\partial n_{y})^{4}}F\\left(n_{x}, n_{y}\\right)\\,{d n_{x}} - \\frac{1}{24} \\, \\int_{a_{x}}^{b_{x}} \\left \\lfloor n_{x} \\right \\rfloor^{4} \\frac{\\partial^{8}}{(\\partial n_{x})^{4}(\\partial n_{y})^{4}}F\\left(n_{x}, n_{y}\\right)\\,{d n_{x}} + \\frac{1}{12} \\, \\int_{a_{x}}^{b_{x}} n_{x}^{3} \\frac{\\partial^{8}}{(\\partial n_{x})^{4}(\\partial n_{y})^{4}}F\\left(n_{x}, n_{y}\\right)\\,{d n_{x}} - \\frac{1}{4} \\, \\int_{a_{x}}^{b_{x}} n_{x}^{2} \\left \\lfloor n_{x} \\right \\rfloor \\frac{\\partial^{8}}{(\\partial n_{x})^{4}(\\partial n_{y})^{4}}F\\left(n_{x}, n_{y}\\right)\\,{d n_{x}} + \\frac{1}{4} \\, \\int_{a_{x}}^{b_{x}} n_{x} \\left \\lfloor n_{x} \\right \\rfloor^{2} \\frac{\\partial^{8}}{(\\partial n_{x})^{4}(\\partial n_{y})^{4}}F\\left(n_{x}, n_{y}\\right)\\,{d n_{x}} - \\frac{1}{12} \\, \\int_{a_{x}}^{b_{x}} \\left \\lfloor n_{x} \\right \\rfloor^{3} \\frac{\\partial^{8}}{(\\partial n_{x})^{4}(\\partial n_{y})^{4}}F\\left(n_{x}, n_{y}\\right)\\,{d n_{x}} - \\frac{1}{24} \\, \\int_{a_{x}}^{b_{x}} n_{x}^{2} \\frac{\\partial^{8}}{(\\partial n_{x})^{4}(\\partial n_{y})^{4}}F\\left(n_{x}, n_{y}\\right)\\,{d n_{x}} + \\frac{1}{12} \\, \\int_{a_{x}}^{b_{x}} n_{x} \\left \\lfloor n_{x} \\right \\rfloor \\frac{\\partial^{8}}{(\\partial n_{x})^{4}(\\partial n_{y})^{4}}F\\left(n_{x}, n_{y}\\right)\\,{d n_{x}} - \\frac{1}{24} \\, \\int_{a_{x}}^{b_{x}} \\left \\lfloor n_{x} \\right \\rfloor^{2} \\frac{\\partial^{8}}{(\\partial n_{x})^{4}(\\partial n_{y})^{4}}F\\left(n_{x}, n_{y}\\right)\\,{d n_{x}} - \\frac{1}{720} \\, \\frac{\\partial^{7}}{(\\partial a_{x})^{3}(\\partial n_{y})^{4}}F\\left(a_{x}, n_{y}\\right) + \\frac{1}{720} \\, \\frac{\\partial^{7}}{(\\partial b_{x})^{3}(\\partial n_{y})^{4}}F\\left(b_{x}, n_{y}\\right)$"
      ],
      "text/plain": [
       "<IPython.core.display.Math object>"
      ]
     },
     "metadata": {},
     "output_type": "display_data"
    },
    {
     "name": "stdout",
     "output_type": "stream",
     "text": [
      "R_p_R_p= -integrate(-1/518400*(30*(n_y - floor(n_y))^4 - 60*(n_y - floor(n_y))^3 + 30*(n_y - floor(n_y))^2 - 1)*(30*integrate(n_x^4*diff(F(n_x, n_y), n_x, n_x, n_x, n_x, n_y, n_y, n_y, n_y), n_x, a_x, b_x) - 120*integrate(n_x^3*floor(n_x)*diff(F(n_x, n_y), n_x, n_x, n_x, n_x, n_y, n_y, n_y, n_y), n_x, a_x, b_x) + 180*integrate(n_x^2*floor(n_x)^2*diff(F(n_x, n_y), n_x, n_x, n_x, n_x, n_y, n_y, n_y, n_y), n_x, a_x, b_x) - 120*integrate(n_x*floor(n_x)^3*diff(F(n_x, n_y), n_x, n_x, n_x, n_x, n_y, n_y, n_y, n_y), n_x, a_x, b_x) + 30*integrate(floor(n_x)^4*diff(F(n_x, n_y), n_x, n_x, n_x, n_x, n_y, n_y, n_y, n_y), n_x, a_x, b_x) - 60*integrate(n_x^3*diff(F(n_x, n_y), n_x, n_x, n_x, n_x, n_y, n_y, n_y, n_y), n_x, a_x, b_x) + 180*integrate(n_x^2*floor(n_x)*diff(F(n_x, n_y), n_x, n_x, n_x, n_x, n_y, n_y, n_y, n_y), n_x, a_x, b_x) - 180*integrate(n_x*floor(n_x)^2*diff(F(n_x, n_y), n_x, n_x, n_x, n_x, n_y, n_y, n_y, n_y), n_x, a_x, b_x) + 60*integrate(floor(n_x)^3*diff(F(n_x, n_y), n_x, n_x, n_x, n_x, n_y, n_y, n_y, n_y), n_x, a_x, b_x) + 30*integrate(n_x^2*diff(F(n_x, n_y), n_x, n_x, n_x, n_x, n_y, n_y, n_y, n_y), n_x, a_x, b_x) - 60*integrate(n_x*floor(n_x)*diff(F(n_x, n_y), n_x, n_x, n_x, n_x, n_y, n_y, n_y, n_y), n_x, a_x, b_x) + 30*integrate(floor(n_x)^2*diff(F(n_x, n_y), n_x, n_x, n_x, n_x, n_y, n_y, n_y, n_y), n_x, a_x, b_x) + diff(F(a_x, n_y), a_x, a_x, a_x, n_y, n_y, n_y, n_y) - diff(F(b_x, n_y), b_x, b_x, b_x, n_y, n_y, n_y, n_y)), n_y, a_y, b_y)\n"
     ]
    },
    {
     "data": {
      "text/latex": [
       "$\\displaystyle -\\int_{a_{y}}^{b_{y}} -\\frac{1}{518400} \\, {\\left(30 \\, {\\left(n_{y} - \\left \\lfloor n_{y} \\right \\rfloor\\right)}^{4} - 60 \\, {\\left(n_{y} - \\left \\lfloor n_{y} \\right \\rfloor\\right)}^{3} + 30 \\, {\\left(n_{y} - \\left \\lfloor n_{y} \\right \\rfloor\\right)}^{2} - 1\\right)} {\\left(30 \\, \\int_{a_{x}}^{b_{x}} n_{x}^{4} \\frac{\\partial^{8}}{(\\partial n_{x})^{4}(\\partial n_{y})^{4}}F\\left(n_{x}, n_{y}\\right)\\,{d n_{x}} - 120 \\, \\int_{a_{x}}^{b_{x}} n_{x}^{3} \\left \\lfloor n_{x} \\right \\rfloor \\frac{\\partial^{8}}{(\\partial n_{x})^{4}(\\partial n_{y})^{4}}F\\left(n_{x}, n_{y}\\right)\\,{d n_{x}} + 180 \\, \\int_{a_{x}}^{b_{x}} n_{x}^{2} \\left \\lfloor n_{x} \\right \\rfloor^{2} \\frac{\\partial^{8}}{(\\partial n_{x})^{4}(\\partial n_{y})^{4}}F\\left(n_{x}, n_{y}\\right)\\,{d n_{x}} - 120 \\, \\int_{a_{x}}^{b_{x}} n_{x} \\left \\lfloor n_{x} \\right \\rfloor^{3} \\frac{\\partial^{8}}{(\\partial n_{x})^{4}(\\partial n_{y})^{4}}F\\left(n_{x}, n_{y}\\right)\\,{d n_{x}} + 30 \\, \\int_{a_{x}}^{b_{x}} \\left \\lfloor n_{x} \\right \\rfloor^{4} \\frac{\\partial^{8}}{(\\partial n_{x})^{4}(\\partial n_{y})^{4}}F\\left(n_{x}, n_{y}\\right)\\,{d n_{x}} - 60 \\, \\int_{a_{x}}^{b_{x}} n_{x}^{3} \\frac{\\partial^{8}}{(\\partial n_{x})^{4}(\\partial n_{y})^{4}}F\\left(n_{x}, n_{y}\\right)\\,{d n_{x}} + 180 \\, \\int_{a_{x}}^{b_{x}} n_{x}^{2} \\left \\lfloor n_{x} \\right \\rfloor \\frac{\\partial^{8}}{(\\partial n_{x})^{4}(\\partial n_{y})^{4}}F\\left(n_{x}, n_{y}\\right)\\,{d n_{x}} - 180 \\, \\int_{a_{x}}^{b_{x}} n_{x} \\left \\lfloor n_{x} \\right \\rfloor^{2} \\frac{\\partial^{8}}{(\\partial n_{x})^{4}(\\partial n_{y})^{4}}F\\left(n_{x}, n_{y}\\right)\\,{d n_{x}} + 60 \\, \\int_{a_{x}}^{b_{x}} \\left \\lfloor n_{x} \\right \\rfloor^{3} \\frac{\\partial^{8}}{(\\partial n_{x})^{4}(\\partial n_{y})^{4}}F\\left(n_{x}, n_{y}\\right)\\,{d n_{x}} + 30 \\, \\int_{a_{x}}^{b_{x}} n_{x}^{2} \\frac{\\partial^{8}}{(\\partial n_{x})^{4}(\\partial n_{y})^{4}}F\\left(n_{x}, n_{y}\\right)\\,{d n_{x}} - 60 \\, \\int_{a_{x}}^{b_{x}} n_{x} \\left \\lfloor n_{x} \\right \\rfloor \\frac{\\partial^{8}}{(\\partial n_{x})^{4}(\\partial n_{y})^{4}}F\\left(n_{x}, n_{y}\\right)\\,{d n_{x}} + 30 \\, \\int_{a_{x}}^{b_{x}} \\left \\lfloor n_{x} \\right \\rfloor^{2} \\frac{\\partial^{8}}{(\\partial n_{x})^{4}(\\partial n_{y})^{4}}F\\left(n_{x}, n_{y}\\right)\\,{d n_{x}} + \\frac{\\partial^{7}}{(\\partial a_{x})^{3}(\\partial n_{y})^{4}}F\\left(a_{x}, n_{y}\\right) - \\frac{\\partial^{7}}{(\\partial b_{x})^{3}(\\partial n_{y})^{4}}F\\left(b_{x}, n_{y}\\right)\\right)}\\,{d n_{y}}$"
      ],
      "text/plain": [
       "<IPython.core.display.Math object>"
      ]
     },
     "metadata": {},
     "output_type": "display_data"
    }
   ],
   "source": [
    "try:\n",
    "    use_int_R_p_j = False\n",
    "        \n",
    "    R_px = euler_maclaurin_R_p(F, n_x, a_x, b_x,p, f_diff_symb_p=F.diff(n_x,p))\n",
    "    print(\"R_px=\",R_px)\n",
    "    #print(\"R_px=$\",latex(R_px),\"$\")\n",
    "    display(Math(latex(R_px)))\n",
    "\n",
    "    R_px_diff_y_p = R_px.diff(n_y,p)\n",
    "    print(\"R_px_diff_y_p=\", R_px_diff_y_p)\n",
    "    #print(\"R_px_diff_y_p=$\", latex(R_px_diff_y_p),\"$\")\n",
    "    display(Math(latex(R_px_diff_y_p)))\n",
    "\n",
    "    #logging = True\n",
    "\n",
    "    R_p_R_p = euler_maclaurin_R_p(R_px, n_y, a_y, b_y, p, f_diff_symb_p=R_px_diff_y_p)\n",
    "\n",
    "    #logging = False\n",
    "\n",
    "    print(\"R_p_R_p=\",R_p_R_p)\n",
    "    #print(\"R_p_R_p=$\",latex(R_p_R_p),\"$\")\n",
    "    display(Math(latex(R_p_R_p)))\n",
    "\n",
    "except Exception as ex:\n",
    "    print(ex)"
   ]
  },
  {
   "cell_type": "code",
   "execution_count": 58,
   "metadata": {},
   "outputs": [
    {
     "name": "stdout",
     "output_type": "stream",
     "text": [
      "R_p_R_p= -integrate(-1/518400*(30*(n_y - floor(n_y))^4 - 60*(n_y - floor(n_y))^3 + 30*(n_y - floor(n_y))^2 - 1)*(30*integrate(n_x^4*diff(F(n_x, n_y), n_x, n_x, n_x, n_x, n_y, n_y, n_y, n_y), n_x, a_x, b_x) - 120*integrate(n_x^3*floor(n_x)*diff(F(n_x, n_y), n_x, n_x, n_x, n_x, n_y, n_y, n_y, n_y), n_x, a_x, b_x) + 180*integrate(n_x^2*floor(n_x)^2*diff(F(n_x, n_y), n_x, n_x, n_x, n_x, n_y, n_y, n_y, n_y), n_x, a_x, b_x) - 120*integrate(n_x*floor(n_x)^3*diff(F(n_x, n_y), n_x, n_x, n_x, n_x, n_y, n_y, n_y, n_y), n_x, a_x, b_x) + 30*integrate(floor(n_x)^4*diff(F(n_x, n_y), n_x, n_x, n_x, n_x, n_y, n_y, n_y, n_y), n_x, a_x, b_x) - 60*integrate(n_x^3*diff(F(n_x, n_y), n_x, n_x, n_x, n_x, n_y, n_y, n_y, n_y), n_x, a_x, b_x) + 180*integrate(n_x^2*floor(n_x)*diff(F(n_x, n_y), n_x, n_x, n_x, n_x, n_y, n_y, n_y, n_y), n_x, a_x, b_x) - 180*integrate(n_x*floor(n_x)^2*diff(F(n_x, n_y), n_x, n_x, n_x, n_x, n_y, n_y, n_y, n_y), n_x, a_x, b_x) + 60*integrate(floor(n_x)^3*diff(F(n_x, n_y), n_x, n_x, n_x, n_x, n_y, n_y, n_y, n_y), n_x, a_x, b_x) + 30*integrate(n_x^2*diff(F(n_x, n_y), n_x, n_x, n_x, n_x, n_y, n_y, n_y, n_y), n_x, a_x, b_x) - 60*integrate(n_x*floor(n_x)*diff(F(n_x, n_y), n_x, n_x, n_x, n_x, n_y, n_y, n_y, n_y), n_x, a_x, b_x) + 30*integrate(floor(n_x)^2*diff(F(n_x, n_y), n_x, n_x, n_x, n_x, n_y, n_y, n_y, n_y), n_x, a_x, b_x) + diff(F(a_x, n_y), a_x, a_x, a_x, n_y, n_y, n_y, n_y) - diff(F(b_x, n_y), b_x, b_x, b_x, n_y, n_y, n_y, n_y)), n_y, a_y, b_y)\n"
     ]
    },
    {
     "data": {
      "text/latex": [
       "$\\displaystyle -\\int_{a_{y}}^{b_{y}} -\\frac{1}{518400} \\, {\\left(30 \\, {\\left(n_{y} - \\left \\lfloor n_{y} \\right \\rfloor\\right)}^{4} - 60 \\, {\\left(n_{y} - \\left \\lfloor n_{y} \\right \\rfloor\\right)}^{3} + 30 \\, {\\left(n_{y} - \\left \\lfloor n_{y} \\right \\rfloor\\right)}^{2} - 1\\right)} {\\left(30 \\, \\int_{a_{x}}^{b_{x}} n_{x}^{4} \\frac{\\partial^{8}}{(\\partial n_{x})^{4}(\\partial n_{y})^{4}}F\\left(n_{x}, n_{y}\\right)\\,{d n_{x}} - 120 \\, \\int_{a_{x}}^{b_{x}} n_{x}^{3} \\left \\lfloor n_{x} \\right \\rfloor \\frac{\\partial^{8}}{(\\partial n_{x})^{4}(\\partial n_{y})^{4}}F\\left(n_{x}, n_{y}\\right)\\,{d n_{x}} + 180 \\, \\int_{a_{x}}^{b_{x}} n_{x}^{2} \\left \\lfloor n_{x} \\right \\rfloor^{2} \\frac{\\partial^{8}}{(\\partial n_{x})^{4}(\\partial n_{y})^{4}}F\\left(n_{x}, n_{y}\\right)\\,{d n_{x}} - 120 \\, \\int_{a_{x}}^{b_{x}} n_{x} \\left \\lfloor n_{x} \\right \\rfloor^{3} \\frac{\\partial^{8}}{(\\partial n_{x})^{4}(\\partial n_{y})^{4}}F\\left(n_{x}, n_{y}\\right)\\,{d n_{x}} + 30 \\, \\int_{a_{x}}^{b_{x}} \\left \\lfloor n_{x} \\right \\rfloor^{4} \\frac{\\partial^{8}}{(\\partial n_{x})^{4}(\\partial n_{y})^{4}}F\\left(n_{x}, n_{y}\\right)\\,{d n_{x}} - 60 \\, \\int_{a_{x}}^{b_{x}} n_{x}^{3} \\frac{\\partial^{8}}{(\\partial n_{x})^{4}(\\partial n_{y})^{4}}F\\left(n_{x}, n_{y}\\right)\\,{d n_{x}} + 180 \\, \\int_{a_{x}}^{b_{x}} n_{x}^{2} \\left \\lfloor n_{x} \\right \\rfloor \\frac{\\partial^{8}}{(\\partial n_{x})^{4}(\\partial n_{y})^{4}}F\\left(n_{x}, n_{y}\\right)\\,{d n_{x}} - 180 \\, \\int_{a_{x}}^{b_{x}} n_{x} \\left \\lfloor n_{x} \\right \\rfloor^{2} \\frac{\\partial^{8}}{(\\partial n_{x})^{4}(\\partial n_{y})^{4}}F\\left(n_{x}, n_{y}\\right)\\,{d n_{x}} + 60 \\, \\int_{a_{x}}^{b_{x}} \\left \\lfloor n_{x} \\right \\rfloor^{3} \\frac{\\partial^{8}}{(\\partial n_{x})^{4}(\\partial n_{y})^{4}}F\\left(n_{x}, n_{y}\\right)\\,{d n_{x}} + 30 \\, \\int_{a_{x}}^{b_{x}} n_{x}^{2} \\frac{\\partial^{8}}{(\\partial n_{x})^{4}(\\partial n_{y})^{4}}F\\left(n_{x}, n_{y}\\right)\\,{d n_{x}} - 60 \\, \\int_{a_{x}}^{b_{x}} n_{x} \\left \\lfloor n_{x} \\right \\rfloor \\frac{\\partial^{8}}{(\\partial n_{x})^{4}(\\partial n_{y})^{4}}F\\left(n_{x}, n_{y}\\right)\\,{d n_{x}} + 30 \\, \\int_{a_{x}}^{b_{x}} \\left \\lfloor n_{x} \\right \\rfloor^{2} \\frac{\\partial^{8}}{(\\partial n_{x})^{4}(\\partial n_{y})^{4}}F\\left(n_{x}, n_{y}\\right)\\,{d n_{x}} + \\frac{\\partial^{7}}{(\\partial a_{x})^{3}(\\partial n_{y})^{4}}F\\left(a_{x}, n_{y}\\right) - \\frac{\\partial^{7}}{(\\partial b_{x})^{3}(\\partial n_{y})^{4}}F\\left(b_{x}, n_{y}\\right)\\right)}\\,{d n_{y}}$"
      ],
      "text/plain": [
       "<IPython.core.display.Math object>"
      ]
     },
     "metadata": {},
     "output_type": "display_data"
    }
   ],
   "source": [
    "try:\n",
    "    R_p_R_p = euler_maclaurin_R_p_euler_maclaurin_R_p(F, n_x, a_x, b_x,    n_y, a_y, b_y, p, f_diff_x_p_diff_y_p=None)\n",
    "\n",
    "    print(\"R_p_R_p=\",R_p_R_p)\n",
    "    #print(\"R_p_R_p=$\",latex(R_p_R_p),\"$\")\n",
    "    display(Math(latex(R_p_R_p)))\n",
    "except Exception as ex:\n",
    "    print(ex)"
   ]
  },
  {
   "cell_type": "code",
   "execution_count": 59,
   "metadata": {},
   "outputs": [
    {
     "name": "stderr",
     "output_type": "stream",
     "text": [
      "No checks were made for singular points of antiderivative 0 for definite integration in [sageVARa_x,sageVARb_x]\n",
      "No checks were made for singular points of antiderivative 0 for definite integration in [sageVARa_x,sageVARb_x]\n"
     ]
    }
   ],
   "source": [
    "use_int_R_p_j=False\n",
    "sxy_symb = euler_maclaurin1(euler_maclaurin1(F,n_x,a_x,b_x,p,f_diff_symb_p=None), \\\n",
    "                            n_y,a_y,b_y,p,f_diff_symb_p=None)"
   ]
  },
  {
   "cell_type": "raw",
   "metadata": {},
   "source": [
    "sxy_symb"
   ]
  },
  {
   "cell_type": "raw",
   "metadata": {},
   "source": [
    "latex(sxy_symb)"
   ]
  },
  {
   "cell_type": "code",
   "execution_count": 60,
   "metadata": {},
   "outputs": [
    {
     "data": {
      "text/latex": [
       "$\\displaystyle \\frac{1}{4} \\, F\\left(a_{x}, a_{y}\\right) - \\frac{1}{1440} \\, \\int_{a_{x}}^{b_{x}} 30 \\, n_{x}^{4} \\frac{\\partial^{4}}{(\\partial n_{x})^{4}}F\\left(n_{x}, a_{y}\\right)\\,{d n_{x}} - \\frac{1}{1440} \\, \\int_{a_{x}}^{b_{x}} -120 \\, n_{x}^{3} \\left \\lfloor n_{x} \\right \\rfloor \\frac{\\partial^{4}}{(\\partial n_{x})^{4}}F\\left(n_{x}, a_{y}\\right)\\,{d n_{x}} - \\frac{1}{1440} \\, \\int_{a_{x}}^{b_{x}} 180 \\, n_{x}^{2} \\left \\lfloor n_{x} \\right \\rfloor^{2} \\frac{\\partial^{4}}{(\\partial n_{x})^{4}}F\\left(n_{x}, a_{y}\\right)\\,{d n_{x}} - \\frac{1}{1440} \\, \\int_{a_{x}}^{b_{x}} -120 \\, n_{x} \\left \\lfloor n_{x} \\right \\rfloor^{3} \\frac{\\partial^{4}}{(\\partial n_{x})^{4}}F\\left(n_{x}, a_{y}\\right)\\,{d n_{x}} - \\frac{1}{1440} \\, \\int_{a_{x}}^{b_{x}} 30 \\, \\left \\lfloor n_{x} \\right \\rfloor^{4} \\frac{\\partial^{4}}{(\\partial n_{x})^{4}}F\\left(n_{x}, a_{y}\\right)\\,{d n_{x}} + \\frac{1}{288} \\, \\int_{a_{x}}^{b_{x}} n_{x}^{4} \\frac{\\partial^{5}}{(\\partial n_{x})^{4}\\partial a_{y}}F\\left(n_{x}, a_{y}\\right)\\,{d n_{x}} - \\frac{1}{72} \\, \\int_{a_{x}}^{b_{x}} n_{x}^{3} \\left \\lfloor n_{x} \\right \\rfloor \\frac{\\partial^{5}}{(\\partial n_{x})^{4}\\partial a_{y}}F\\left(n_{x}, a_{y}\\right)\\,{d n_{x}} + \\frac{1}{48} \\, \\int_{a_{x}}^{b_{x}} n_{x}^{2} \\left \\lfloor n_{x} \\right \\rfloor^{2} \\frac{\\partial^{5}}{(\\partial n_{x})^{4}\\partial a_{y}}F\\left(n_{x}, a_{y}\\right)\\,{d n_{x}} - \\frac{1}{72} \\, \\int_{a_{x}}^{b_{x}} n_{x} \\left \\lfloor n_{x} \\right \\rfloor^{3} \\frac{\\partial^{5}}{(\\partial n_{x})^{4}\\partial a_{y}}F\\left(n_{x}, a_{y}\\right)\\,{d n_{x}} + \\frac{1}{288} \\, \\int_{a_{x}}^{b_{x}} \\left \\lfloor n_{x} \\right \\rfloor^{4} \\frac{\\partial^{5}}{(\\partial n_{x})^{4}\\partial a_{y}}F\\left(n_{x}, a_{y}\\right)\\,{d n_{x}} - \\frac{1}{17280} \\, \\int_{a_{x}}^{b_{x}} n_{x}^{4} \\frac{\\partial^{7}}{(\\partial n_{x})^{4}(\\partial a_{y})^{3}}F\\left(n_{x}, a_{y}\\right)\\,{d n_{x}} + \\frac{1}{4320} \\, \\int_{a_{x}}^{b_{x}} n_{x}^{3} \\left \\lfloor n_{x} \\right \\rfloor \\frac{\\partial^{7}}{(\\partial n_{x})^{4}(\\partial a_{y})^{3}}F\\left(n_{x}, a_{y}\\right)\\,{d n_{x}} - \\frac{1}{2880} \\, \\int_{a_{x}}^{b_{x}} n_{x}^{2} \\left \\lfloor n_{x} \\right \\rfloor^{2} \\frac{\\partial^{7}}{(\\partial n_{x})^{4}(\\partial a_{y})^{3}}F\\left(n_{x}, a_{y}\\right)\\,{d n_{x}} + \\frac{1}{4320} \\, \\int_{a_{x}}^{b_{x}} n_{x} \\left \\lfloor n_{x} \\right \\rfloor^{3} \\frac{\\partial^{7}}{(\\partial n_{x})^{4}(\\partial a_{y})^{3}}F\\left(n_{x}, a_{y}\\right)\\,{d n_{x}} - \\frac{1}{17280} \\, \\int_{a_{x}}^{b_{x}} \\left \\lfloor n_{x} \\right \\rfloor^{4} \\frac{\\partial^{7}}{(\\partial n_{x})^{4}(\\partial a_{y})^{3}}F\\left(n_{x}, a_{y}\\right)\\,{d n_{x}} - \\frac{1}{1440} \\, \\int_{a_{x}}^{b_{x}} -60 \\, n_{x}^{3} \\frac{\\partial^{4}}{(\\partial n_{x})^{4}}F\\left(n_{x}, a_{y}\\right)\\,{d n_{x}} - \\frac{1}{1440} \\, \\int_{a_{x}}^{b_{x}} 180 \\, n_{x}^{2} \\left \\lfloor n_{x} \\right \\rfloor \\frac{\\partial^{4}}{(\\partial n_{x})^{4}}F\\left(n_{x}, a_{y}\\right)\\,{d n_{x}} - \\frac{1}{1440} \\, \\int_{a_{x}}^{b_{x}} -180 \\, n_{x} \\left \\lfloor n_{x} \\right \\rfloor^{2} \\frac{\\partial^{4}}{(\\partial n_{x})^{4}}F\\left(n_{x}, a_{y}\\right)\\,{d n_{x}} - \\frac{1}{1440} \\, \\int_{a_{x}}^{b_{x}} 60 \\, \\left \\lfloor n_{x} \\right \\rfloor^{3} \\frac{\\partial^{4}}{(\\partial n_{x})^{4}}F\\left(n_{x}, a_{y}\\right)\\,{d n_{x}} - \\frac{1}{144} \\, \\int_{a_{x}}^{b_{x}} n_{x}^{3} \\frac{\\partial^{5}}{(\\partial n_{x})^{4}\\partial a_{y}}F\\left(n_{x}, a_{y}\\right)\\,{d n_{x}} + \\frac{1}{48} \\, \\int_{a_{x}}^{b_{x}} n_{x}^{2} \\left \\lfloor n_{x} \\right \\rfloor \\frac{\\partial^{5}}{(\\partial n_{x})^{4}\\partial a_{y}}F\\left(n_{x}, a_{y}\\right)\\,{d n_{x}} - \\frac{1}{48} \\, \\int_{a_{x}}^{b_{x}} n_{x} \\left \\lfloor n_{x} \\right \\rfloor^{2} \\frac{\\partial^{5}}{(\\partial n_{x})^{4}\\partial a_{y}}F\\left(n_{x}, a_{y}\\right)\\,{d n_{x}} + \\frac{1}{144} \\, \\int_{a_{x}}^{b_{x}} \\left \\lfloor n_{x} \\right \\rfloor^{3} \\frac{\\partial^{5}}{(\\partial n_{x})^{4}\\partial a_{y}}F\\left(n_{x}, a_{y}\\right)\\,{d n_{x}} + \\frac{1}{8640} \\, \\int_{a_{x}}^{b_{x}} n_{x}^{3} \\frac{\\partial^{7}}{(\\partial n_{x})^{4}(\\partial a_{y})^{3}}F\\left(n_{x}, a_{y}\\right)\\,{d n_{x}} - \\frac{1}{2880} \\, \\int_{a_{x}}^{b_{x}} n_{x}^{2} \\left \\lfloor n_{x} \\right \\rfloor \\frac{\\partial^{7}}{(\\partial n_{x})^{4}(\\partial a_{y})^{3}}F\\left(n_{x}, a_{y}\\right)\\,{d n_{x}} + \\frac{1}{2880} \\, \\int_{a_{x}}^{b_{x}} n_{x} \\left \\lfloor n_{x} \\right \\rfloor^{2} \\frac{\\partial^{7}}{(\\partial n_{x})^{4}(\\partial a_{y})^{3}}F\\left(n_{x}, a_{y}\\right)\\,{d n_{x}} - \\frac{1}{8640} \\, \\int_{a_{x}}^{b_{x}} \\left \\lfloor n_{x} \\right \\rfloor^{3} \\frac{\\partial^{7}}{(\\partial n_{x})^{4}(\\partial a_{y})^{3}}F\\left(n_{x}, a_{y}\\right)\\,{d n_{x}} - \\frac{1}{1440} \\, \\int_{a_{x}}^{b_{x}} 30 \\, n_{x}^{2} \\frac{\\partial^{4}}{(\\partial n_{x})^{4}}F\\left(n_{x}, a_{y}\\right)\\,{d n_{x}} - \\frac{1}{1440} \\, \\int_{a_{x}}^{b_{x}} -60 \\, n_{x} \\left \\lfloor n_{x} \\right \\rfloor \\frac{\\partial^{4}}{(\\partial n_{x})^{4}}F\\left(n_{x}, a_{y}\\right)\\,{d n_{x}} - \\frac{1}{1440} \\, \\int_{a_{x}}^{b_{x}} 30 \\, \\left \\lfloor n_{x} \\right \\rfloor^{2} \\frac{\\partial^{4}}{(\\partial n_{x})^{4}}F\\left(n_{x}, a_{y}\\right)\\,{d n_{x}} + \\frac{1}{288} \\, \\int_{a_{x}}^{b_{x}} n_{x}^{2} \\frac{\\partial^{5}}{(\\partial n_{x})^{4}\\partial a_{y}}F\\left(n_{x}, a_{y}\\right)\\,{d n_{x}} - \\frac{1}{144} \\, \\int_{a_{x}}^{b_{x}} n_{x} \\left \\lfloor n_{x} \\right \\rfloor \\frac{\\partial^{5}}{(\\partial n_{x})^{4}\\partial a_{y}}F\\left(n_{x}, a_{y}\\right)\\,{d n_{x}} + \\frac{1}{288} \\, \\int_{a_{x}}^{b_{x}} \\left \\lfloor n_{x} \\right \\rfloor^{2} \\frac{\\partial^{5}}{(\\partial n_{x})^{4}\\partial a_{y}}F\\left(n_{x}, a_{y}\\right)\\,{d n_{x}} - \\frac{1}{17280} \\, \\int_{a_{x}}^{b_{x}} n_{x}^{2} \\frac{\\partial^{7}}{(\\partial n_{x})^{4}(\\partial a_{y})^{3}}F\\left(n_{x}, a_{y}\\right)\\,{d n_{x}} + \\frac{1}{8640} \\, \\int_{a_{x}}^{b_{x}} n_{x} \\left \\lfloor n_{x} \\right \\rfloor \\frac{\\partial^{7}}{(\\partial n_{x})^{4}(\\partial a_{y})^{3}}F\\left(n_{x}, a_{y}\\right)\\,{d n_{x}} - \\frac{1}{17280} \\, \\int_{a_{x}}^{b_{x}} \\left \\lfloor n_{x} \\right \\rfloor^{2} \\frac{\\partial^{7}}{(\\partial n_{x})^{4}(\\partial a_{y})^{3}}F\\left(n_{x}, a_{y}\\right)\\,{d n_{x}} - \\int_{a_{y}}^{b_{y}} -\\frac{1}{518400} \\, {\\left(30 \\, {\\left(n_{y} - \\left \\lfloor n_{y} \\right \\rfloor\\right)}^{4} - 60 \\, {\\left(n_{y} - \\left \\lfloor n_{y} \\right \\rfloor\\right)}^{3} + 30 \\, {\\left(n_{y} - \\left \\lfloor n_{y} \\right \\rfloor\\right)}^{2} - 1\\right)} {\\left(30 \\, \\int_{a_{x}}^{b_{x}} n_{x}^{4} \\frac{\\partial^{8}}{(\\partial n_{x})^{4}(\\partial n_{y})^{4}}F\\left(n_{x}, n_{y}\\right)\\,{d n_{x}} - 120 \\, \\int_{a_{x}}^{b_{x}} n_{x}^{3} \\left \\lfloor n_{x} \\right \\rfloor \\frac{\\partial^{8}}{(\\partial n_{x})^{4}(\\partial n_{y})^{4}}F\\left(n_{x}, n_{y}\\right)\\,{d n_{x}} + 180 \\, \\int_{a_{x}}^{b_{x}} n_{x}^{2} \\left \\lfloor n_{x} \\right \\rfloor^{2} \\frac{\\partial^{8}}{(\\partial n_{x})^{4}(\\partial n_{y})^{4}}F\\left(n_{x}, n_{y}\\right)\\,{d n_{x}} - 120 \\, \\int_{a_{x}}^{b_{x}} n_{x} \\left \\lfloor n_{x} \\right \\rfloor^{3} \\frac{\\partial^{8}}{(\\partial n_{x})^{4}(\\partial n_{y})^{4}}F\\left(n_{x}, n_{y}\\right)\\,{d n_{x}} + 30 \\, \\int_{a_{x}}^{b_{x}} \\left \\lfloor n_{x} \\right \\rfloor^{4} \\frac{\\partial^{8}}{(\\partial n_{x})^{4}(\\partial n_{y})^{4}}F\\left(n_{x}, n_{y}\\right)\\,{d n_{x}} - 60 \\, \\int_{a_{x}}^{b_{x}} n_{x}^{3} \\frac{\\partial^{8}}{(\\partial n_{x})^{4}(\\partial n_{y})^{4}}F\\left(n_{x}, n_{y}\\right)\\,{d n_{x}} + 180 \\, \\int_{a_{x}}^{b_{x}} n_{x}^{2} \\left \\lfloor n_{x} \\right \\rfloor \\frac{\\partial^{8}}{(\\partial n_{x})^{4}(\\partial n_{y})^{4}}F\\left(n_{x}, n_{y}\\right)\\,{d n_{x}} - 180 \\, \\int_{a_{x}}^{b_{x}} n_{x} \\left \\lfloor n_{x} \\right \\rfloor^{2} \\frac{\\partial^{8}}{(\\partial n_{x})^{4}(\\partial n_{y})^{4}}F\\left(n_{x}, n_{y}\\right)\\,{d n_{x}} + 60 \\, \\int_{a_{x}}^{b_{x}} \\left \\lfloor n_{x} \\right \\rfloor^{3} \\frac{\\partial^{8}}{(\\partial n_{x})^{4}(\\partial n_{y})^{4}}F\\left(n_{x}, n_{y}\\right)\\,{d n_{x}} + 30 \\, \\int_{a_{x}}^{b_{x}} n_{x}^{2} \\frac{\\partial^{8}}{(\\partial n_{x})^{4}(\\partial n_{y})^{4}}F\\left(n_{x}, n_{y}\\right)\\,{d n_{x}} - 60 \\, \\int_{a_{x}}^{b_{x}} n_{x} \\left \\lfloor n_{x} \\right \\rfloor \\frac{\\partial^{8}}{(\\partial n_{x})^{4}(\\partial n_{y})^{4}}F\\left(n_{x}, n_{y}\\right)\\,{d n_{x}} + 30 \\, \\int_{a_{x}}^{b_{x}} \\left \\lfloor n_{x} \\right \\rfloor^{2} \\frac{\\partial^{8}}{(\\partial n_{x})^{4}(\\partial n_{y})^{4}}F\\left(n_{x}, n_{y}\\right)\\,{d n_{x}} - 720 \\, \\int_{a_{x}}^{b_{x}} \\frac{\\partial^{4}}{(\\partial n_{y})^{4}}F\\left(n_{x}, n_{y}\\right)\\,{d n_{x}} + 60 \\, \\frac{\\partial^{5}}{\\partial a_{x}(\\partial n_{y})^{4}}F\\left(a_{x}, n_{y}\\right) - 360 \\, \\frac{\\partial^{4}}{(\\partial n_{y})^{4}}F\\left(a_{x}, n_{y}\\right) - \\frac{\\partial^{7}}{(\\partial b_{x})^{3}(\\partial n_{y})^{4}}F\\left(b_{x}, n_{y}\\right)\\right)}\\,{d n_{y}} + \\frac{1}{720} \\, \\int_{a_{y}}^{b_{y}} 360 \\, F\\left(a_{x}, n_{y}\\right)\\,{d n_{y}} + \\frac{1}{720} \\, \\int_{a_{y}}^{b_{y}} -720 \\, \\int_{a_{x}}^{b_{x}} \\frac{1}{24} \\, n_{x}^{4} \\frac{\\partial^{4}}{(\\partial n_{x})^{4}}F\\left(n_{x}, n_{y}\\right)\\,{d n_{x}}\\,{d n_{y}} + \\frac{1}{720} \\, \\int_{a_{y}}^{b_{y}} -720 \\, \\int_{a_{x}}^{b_{x}} -\\frac{1}{6} \\, n_{x}^{3} \\left \\lfloor n_{x} \\right \\rfloor \\frac{\\partial^{4}}{(\\partial n_{x})^{4}}F\\left(n_{x}, n_{y}\\right)\\,{d n_{x}}\\,{d n_{y}} + \\frac{1}{720} \\, \\int_{a_{y}}^{b_{y}} -720 \\, \\int_{a_{x}}^{b_{x}} \\frac{1}{4} \\, n_{x}^{2} \\left \\lfloor n_{x} \\right \\rfloor^{2} \\frac{\\partial^{4}}{(\\partial n_{x})^{4}}F\\left(n_{x}, n_{y}\\right)\\,{d n_{x}}\\,{d n_{y}} + \\frac{1}{720} \\, \\int_{a_{y}}^{b_{y}} -720 \\, \\int_{a_{x}}^{b_{x}} -\\frac{1}{6} \\, n_{x} \\left \\lfloor n_{x} \\right \\rfloor^{3} \\frac{\\partial^{4}}{(\\partial n_{x})^{4}}F\\left(n_{x}, n_{y}\\right)\\,{d n_{x}}\\,{d n_{y}} + \\frac{1}{720} \\, \\int_{a_{y}}^{b_{y}} -720 \\, \\int_{a_{x}}^{b_{x}} \\frac{1}{24} \\, \\left \\lfloor n_{x} \\right \\rfloor^{4} \\frac{\\partial^{4}}{(\\partial n_{x})^{4}}F\\left(n_{x}, n_{y}\\right)\\,{d n_{x}}\\,{d n_{y}} + \\frac{1}{720} \\, \\int_{a_{y}}^{b_{y}} -720 \\, \\int_{a_{x}}^{b_{x}} -\\frac{1}{12} \\, n_{x}^{3} \\frac{\\partial^{4}}{(\\partial n_{x})^{4}}F\\left(n_{x}, n_{y}\\right)\\,{d n_{x}}\\,{d n_{y}} + \\frac{1}{720} \\, \\int_{a_{y}}^{b_{y}} -720 \\, \\int_{a_{x}}^{b_{x}} \\frac{1}{4} \\, n_{x}^{2} \\left \\lfloor n_{x} \\right \\rfloor \\frac{\\partial^{4}}{(\\partial n_{x})^{4}}F\\left(n_{x}, n_{y}\\right)\\,{d n_{x}}\\,{d n_{y}} + \\frac{1}{720} \\, \\int_{a_{y}}^{b_{y}} -720 \\, \\int_{a_{x}}^{b_{x}} -\\frac{1}{4} \\, n_{x} \\left \\lfloor n_{x} \\right \\rfloor^{2} \\frac{\\partial^{4}}{(\\partial n_{x})^{4}}F\\left(n_{x}, n_{y}\\right)\\,{d n_{x}}\\,{d n_{y}} + \\frac{1}{720} \\, \\int_{a_{y}}^{b_{y}} -720 \\, \\int_{a_{x}}^{b_{x}} \\frac{1}{12} \\, \\left \\lfloor n_{x} \\right \\rfloor^{3} \\frac{\\partial^{4}}{(\\partial n_{x})^{4}}F\\left(n_{x}, n_{y}\\right)\\,{d n_{x}}\\,{d n_{y}} + \\frac{1}{720} \\, \\int_{a_{y}}^{b_{y}} -720 \\, \\int_{a_{x}}^{b_{x}} \\frac{1}{24} \\, n_{x}^{2} \\frac{\\partial^{4}}{(\\partial n_{x})^{4}}F\\left(n_{x}, n_{y}\\right)\\,{d n_{x}}\\,{d n_{y}} + \\frac{1}{720} \\, \\int_{a_{y}}^{b_{y}} -720 \\, \\int_{a_{x}}^{b_{x}} -\\frac{1}{12} \\, n_{x} \\left \\lfloor n_{x} \\right \\rfloor \\frac{\\partial^{4}}{(\\partial n_{x})^{4}}F\\left(n_{x}, n_{y}\\right)\\,{d n_{x}}\\,{d n_{y}} + \\frac{1}{720} \\, \\int_{a_{y}}^{b_{y}} -720 \\, \\int_{a_{x}}^{b_{x}} \\frac{1}{24} \\, \\left \\lfloor n_{x} \\right \\rfloor^{2} \\frac{\\partial^{4}}{(\\partial n_{x})^{4}}F\\left(n_{x}, n_{y}\\right)\\,{d n_{x}}\\,{d n_{y}} + \\frac{1}{720} \\, \\int_{a_{y}}^{b_{y}} -720 \\, \\int_{a_{x}}^{b_{x}} -\\frac{1}{720} \\, \\frac{\\partial^{4}}{(\\partial n_{x})^{4}}F\\left(n_{x}, n_{y}\\right)\\,{d n_{x}}\\,{d n_{y}} + \\frac{1}{720} \\, \\int_{a_{y}}^{b_{y}} 720 \\, \\int_{a_{x}}^{b_{x}} F\\left(n_{x}, n_{y}\\right)\\,{d n_{x}}\\,{d n_{y}} + \\frac{1}{720} \\, \\int_{a_{y}}^{b_{y}} -60 \\, \\frac{\\partial}{\\partial a_{x}}F\\left(a_{x}, n_{y}\\right)\\,{d n_{y}} - \\frac{1}{1440} \\, \\int_{a_{x}}^{b_{x}} -\\frac{\\partial^{4}}{(\\partial n_{x})^{4}}F\\left(n_{x}, a_{y}\\right)\\,{d n_{x}} + \\frac{1}{2} \\, \\int_{a_{x}}^{b_{x}} F\\left(n_{x}, a_{y}\\right)\\,{d n_{x}} + \\frac{1}{720} \\, \\int_{a_{y}}^{b_{y}} \\frac{\\partial^{3}}{(\\partial a_{x})^{3}}F\\left(a_{x}, n_{y}\\right)\\,{d n_{y}} - \\frac{1}{12} \\, \\int_{a_{x}}^{b_{x}} \\frac{\\partial}{\\partial a_{y}}F\\left(n_{x}, a_{y}\\right)\\,{d n_{x}} + \\frac{1}{720} \\, \\int_{a_{x}}^{b_{x}} \\frac{\\partial^{3}}{(\\partial a_{y})^{3}}F\\left(n_{x}, a_{y}\\right)\\,{d n_{x}} - \\frac{1}{24} \\, \\frac{\\partial}{\\partial a_{x}}F\\left(a_{x}, a_{y}\\right) + \\frac{1}{1440} \\, \\frac{\\partial^{3}}{(\\partial a_{x})^{3}}F\\left(a_{x}, a_{y}\\right) + \\frac{1}{144} \\, \\frac{\\partial^{2}}{\\partial a_{x}\\partial a_{y}}F\\left(a_{x}, a_{y}\\right) - \\frac{1}{8640} \\, \\frac{\\partial^{4}}{\\partial a_{x}(\\partial a_{y})^{3}}F\\left(a_{x}, a_{y}\\right) - \\frac{1}{24} \\, \\frac{\\partial}{\\partial a_{y}}F\\left(a_{x}, a_{y}\\right) + \\frac{1}{1440} \\, \\frac{\\partial^{3}}{(\\partial a_{y})^{3}}F\\left(a_{x}, a_{y}\\right) - \\frac{1}{8640} \\, \\frac{\\partial^{4}}{(\\partial b_{x})^{3}\\partial a_{y}}F\\left(b_{x}, a_{y}\\right) + \\frac{1}{518400} \\, \\frac{\\partial^{6}}{(\\partial b_{x})^{3}(\\partial a_{y})^{3}}F\\left(b_{x}, a_{y}\\right)$"
      ],
      "text/plain": [
       "<IPython.core.display.Math object>"
      ]
     },
     "metadata": {},
     "output_type": "display_data"
    }
   ],
   "source": [
    "display(Math(latex(sxy_symb)))"
   ]
  },
  {
   "cell_type": "code",
   "execution_count": 61,
   "metadata": {},
   "outputs": [
    {
     "name": "stderr",
     "output_type": "stream",
     "text": [
      "Warning, constant function 0 applied to pi*sqrt(sageVARn_x^2+sageVARn_y^2+sageVARu^2)/sageVARa/sageVARk_m\n",
      "Warning, constant function 0 applied to pi*sqrt(sageVARn_y^2+sageVARu^2+t_nostep^2)/sageVARa/sageVARk_m\n",
      "No checks were made for singular points of antiderivative 0 for definite integration in [sageVARa_x,sageVARb_x]\n"
     ]
    },
    {
     "name": "stdout",
     "output_type": "stream",
     "text": [
      "\n",
      "Can't calculate derivative wrt pi*sqrt(a_x**2 + n_y**2 +\n",
      "u**2)/(a*k_m).\n"
     ]
    }
   ],
   "source": [
    "try:\n",
    "    use_int_R_p_j=False\n",
    "    sxy_symb = euler_maclaurin1(euler_maclaurin1(Fu(u, n_x, n_y, a, k_m),n_x,a_x,b_x,p,f_diff_symb_p=None), \\\n",
    "                                n_y,a_y,b_y,p,f_diff_symb_p=None)\n",
    "except Exception as ex:\n",
    "    print(ex)"
   ]
  },
  {
   "cell_type": "code",
   "execution_count": null,
   "metadata": {},
   "outputs": [],
   "source": [
    "use_int_R_p_j=False\n",
    "sxy_symb = euler_maclaurin1(euler_maclaurin1(Fn(u, n_x, n_y, a, k_m),n_x,a_x,b_x,p,f_diff_symb_p=None), \\\n",
    "                            n_y,a_y,b_y,p,f_diff_symb_p=None)"
   ]
  },
  {
   "cell_type": "markdown",
   "metadata": {},
   "source": [
    "# Summary Euler–Maclaurin 2D "
   ]
  },
  {
   "cell_type": "code",
   "execution_count": null,
   "metadata": {},
   "outputs": [],
   "source": [
    "2 * int_sum_Fu(u, a, k_m) #, int_R_p"
   ]
  },
  {
   "cell_type": "code",
   "execution_count": null,
   "metadata": {},
   "outputs": [],
   "source": [
    "2 * int_sum_Fn(u, a, k_m) #, int_R_p"
   ]
  },
  {
   "cell_type": "code",
   "execution_count": null,
   "metadata": {},
   "outputs": [],
   "source": [
    "#sum_int, sum_sum #, sum_R_p"
   ]
  },
  {
   "cell_type": "code",
   "execution_count": null,
   "metadata": {},
   "outputs": [],
   "source": [
    "sum_sum #, sum_R_p"
   ]
  },
  {
   "cell_type": "code",
   "execution_count": null,
   "metadata": {},
   "outputs": [],
   "source": [
    "#R_p_int, R_p_sum, R_p_R_p"
   ]
  },
  {
   "cell_type": "code",
   "execution_count": null,
   "metadata": {},
   "outputs": [],
   "source": []
  },
  {
   "cell_type": "markdown",
   "metadata": {},
   "source": [
    "Numerical Euler–Maclaurin 2D for\n",
    "\n",
    "\\begin{equation}\n",
    "\\sum\\limits_{n_x=0}^{\\infty}\n",
    "\\sum\\limits_{n_y=0}^{\\infty}\n",
    "F\\left(n_x, n_y\\right)\n",
    "-\n",
    "\\int\\limits_{0}^{\\infty}\n",
    "\\int\\limits_{0}^{\\infty}\n",
    "F\\left(n_x, n_y\\right)\\,d{n_x}\\,d{n_y}\n",
    "\\end{equation}"
   ]
  },
  {
   "cell_type": "code",
   "execution_count": null,
   "metadata": {},
   "outputs": [],
   "source": [
    "sum_sum_F_minus_int_int_Fu_1 = num_int(lambda u : 2 * int_sum_Fu (u, a = 1, k_m = 1) + sum_sum_Fu (u, a = 1, k_m = 1), 0, Infinity, v=u)\n",
    "sum_sum_F_minus_int_int_Fu_1"
   ]
  },
  {
   "cell_type": "code",
   "execution_count": null,
   "metadata": {},
   "outputs": [],
   "source": [
    "sum_sum_F_minus_int_int_Fu = num_int(lambda u : 2 * int_sum_Fu (u, a, k_m) + sum_sum_Fu (u, a, k_m), 0, Infinity, v=u)\n",
    "sum_sum_F_minus_int_int_Fu"
   ]
  },
  {
   "cell_type": "code",
   "execution_count": null,
   "metadata": {},
   "outputs": [],
   "source": [
    "sum_sum_F_minus_int_int_Fn = num_int(lambda u : 2 * int_sum_Fn (u, a = 1, k_m = 1) + sum_sum_Fn (u, a = 1, k_m = 1), 0, Infinity, v=u)\n",
    "sum_sum_F_minus_int_int_Fn"
   ]
  },
  {
   "cell_type": "markdown",
   "metadata": {},
   "source": [
    "R_p=False (Euler–Maclaurin 2D without remainer part)"
   ]
  },
  {
   "cell_type": "raw",
   "metadata": {},
   "source": [
    "int_int + int_sum + \\\n",
    "sum_int + sum_sum"
   ]
  },
  {
   "cell_type": "code",
   "execution_count": null,
   "metadata": {},
   "outputs": [],
   "source": [
    "t = var(\"t\")\n",
    "integrand_t = Fn(u = t, n_x = 1, n_y = 1, a = 1, k_m = 10)\n",
    "display(Math(latex(integrand_t)))\n",
    "integrand_t"
   ]
  },
  {
   "cell_type": "code",
   "execution_count": null,
   "metadata": {},
   "outputs": [],
   "source": [
    "# AttributeError: 'Or' object has no attribute '_sage_'\n",
    "# https://trac.sagemath.org/ticket/31911\n",
    "# https://git.sagemath.org/sage.git/log/?h=u/mkoeppe/boolean_symbolic_expressions"
   ]
  },
  {
   "cell_type": "raw",
   "metadata": {},
   "source": [
    "from sympy import integrate as sympy_integrate\n",
    "\n",
    "alpha,beta = var(\"alpha,beta\")\n",
    "\n",
    "assume(alpha>0)\n",
    "assume(alpha-beta>0)\n",
    "\n",
    "w = lambda t, beta : exp(2*beta*t)\n",
    "\n",
    "Generalized_Laguerre_Rodrigues = lambda n, alpha, beta, t : (sqrt(2*alpha) / factorial(n) * \\\n",
    "                                                             exp((alpha-beta)*t) * \\\n",
    "                                                             diff(exp(-2*alpha*t)*t^n, t, n)).factor()\n",
    "\n",
    "Q = lambda F, k, alpha, beta : sympy_integrate(F(t=t) * \\\n",
    "                                            Generalized_Laguerre_Rodrigues(k, alpha, beta, t) * \\\n",
    "                                            w(t, beta), (t, 0, Infinity))\n",
    "\n",
    "def det_Q(F, n, alpha, beta):\n",
    "    m = [[Q(F, n+k1-k2, alpha, beta) for k2 in range (n+1)] for k1 in range (n+1)]\n",
    "    return matrix(SR, m)\n",
    "\n",
    "# https://www.pythonpool.com/gaussian-elimination-python/\n",
    "\n",
    "#gaussian elimination of M_Q in symbolic form\n",
    "def gaussian_elimination(n, M_Q):\n",
    "    rows = n\n",
    "    cols = n\n",
    "    ma = [[] for _ in range(n)]\n",
    "\n",
    "    for i in range(rows):# row\n",
    "        for j in range(cols): # col\n",
    "            ma[i] += [M_Q[i][j]]\n",
    "\n",
    "    for i in range(cols):\n",
    "        row_to_change = -1\n",
    "        #ii_abs = abs(ma[i][i].subs(digit_values).subs(k_z_sol).n())\n",
    "        ii_abs = abs(ma[i][i].n())\n",
    "\n",
    "        for r in range(i+1, rows):\n",
    "            #ri_abs = abs(ma[r][i].subs(digit_values).subs(k_z_sol).n())\n",
    "            ri_abs = abs(ma[r][i].n())\n",
    "            if ri_abs > ii_abs:\n",
    "                row_to_change = r\n",
    "                cur_abs = ri_abs\n",
    "                print(\"row_to_change\", row_to_change)\n",
    "\n",
    "        if row_to_change > -1:\n",
    "            for col in range(i, cols):#+1):\n",
    "                tmp = ma[i][col]\n",
    "                ma[i][col] = ma[row_to_change][col]\n",
    "                ma[row_to_change][col] = tmp\n",
    "\n",
    "        for j in range(i+1, rows):\n",
    "            ratio = ma[j][i]/ma[i][i]\n",
    "\n",
    "            for k in range(cols):#+1):\n",
    "                ma[j][k] = ma[j][k] - ratio * ma[i][k]\n",
    "\n",
    "    # Формирование верхнетреугольной матрицы\n",
    "    # RU - Right Upper\n",
    "    M_RU = matrix(ma)\n",
    "    return M_RU\n",
    "\n",
    "alpha_d = 2\n",
    "beta_d = 1\n",
    "\n",
    "n = 0\n",
    "\n",
    "while(n <= 3):\n",
    "    print(\"n\", n)\n",
    "    M_Q = det_Q(integrand_t, n, alpha_d, beta_d)\n",
    "    print(\"M_Q\")\n",
    "    display(Math(latex(M_Q)))\n",
    "    det_M_Q = M_Q.det()\n",
    "    print(\"det_M_Q\")\n",
    "    display(Math(latex(det_M_Q)))\n",
    "    #M_Q_RU = gaussian_elimination(n+1, M_Q)\n",
    "    #display(Math(latex(M_Q_RU)))\n",
    "    if abs(det_M_Q) < 1e-7:\n",
    "        break\n",
    "    n = n + 1\n",
    "\n",
    "print(\"M_Q\", M_Q)\n",
    "\n",
    "beta_i = []\n",
    "for i in range(n+1):\n",
    "    exec(\"beta_i_\" + str(i) + \"= var('beta_i_\" + str(i) + \"')\")\n",
    "    exec(\"beta_i += [beta_i_\" + str(i) +\"]\")\n",
    "\n",
    "alpha_i = []\n",
    "for i in range(n):\n",
    "    exec(\"alpha_i_\" + str(i) + \"= var('alpha_i_\" + str(i) + \"')\")\n",
    "    exec(\"alpha_i += [alpha_i_\" + str(i) +\"]\")\n",
    "\n",
    "beta1_i = []\n",
    "for i in range(1, n+1):\n",
    "    exec(\"beta1_i += [beta_i_\" + str(i) +\"]\")\n",
    "\n",
    "vbeta_i = vector(beta_i)\n",
    "vbeta1_i = vector(beta1_i)\n",
    "\n",
    "#M_Q_RU_X = M_Q_RU*vbeta_i\n",
    "M_Q_X = M_Q*vbeta_i\n",
    "\n",
    "beta_i_0_d = 1\n",
    "\n",
    "#M_Q_RU_B = []\n",
    "#eq_sys_RU = []\n",
    "#for i in range(n+1):\n",
    "#    M_Q_RU_B_i = - (M_Q_RU_X[i]).coefficient(beta_i_0).n() * beta_i_0_d\n",
    "#    print(M_Q_RU_B_i)\n",
    "#    M_Q_RU_B += [M_Q_RU_B_i]\n",
    "#    eq_sys_RU += [M_Q_RU_X[i].subs(beta_i_0 == 0) == M_Q_RU_B_i]\n",
    "\n",
    "#print(\"eq_sys_RU =\", eq_sys_RU)\n",
    "    \n",
    "M_Q_B = []\n",
    "eq_sys = []\n",
    "for i in range(n+1):\n",
    "    M_Q_B_i = - (M_Q_X[i]).coefficient(beta_i_0).n() * beta_i_0_d\n",
    "    print(M_Q_B_i)\n",
    "    M_Q_B += [M_Q_B_i]\n",
    "    eq_sys += [M_Q_X[i].subs(beta_i_0 == 0) == M_Q_B_i]\n",
    "\n",
    "print(\"eq_sys =\", eq_sys)\n",
    "\n",
    "def GenerateMatrix(equsys, vars):\n",
    "    A=matrix(SR, [[(equ.lhs() - equ.rhs()).coefficient(v) for v in vars] for equ in equsys])\n",
    "    return A\n",
    "\n",
    "#eq_sys_RU_M = GenerateMatrix(eq_sys_RU, vbeta1_i)\n",
    "eq_sys_M = GenerateMatrix(eq_sys, vbeta1_i)\n",
    "\n",
    "#eq_sys_RU_M_sol = eq_sys_RU_M.solve_right(vector(M_Q_RU_B))\n",
    "eq_sys_M_sol = eq_sys_M.solve_right(vector(M_Q_B))\n",
    "\n",
    "#coeffs_beta_i = [beta_i_0 == beta_i_0_d]\n",
    "#for i in range(n):\n",
    "#    eq_sys_RU_M_sol_i = eq_sys_RU_M_sol[i]\n",
    "#    print(eq_sys_RU_M_sol_i)\n",
    "#    coeffs_beta_i += [vbeta1_i[i] == eq_sys_RU_M_sol_i]\n",
    "\n",
    "coeffs_beta_i = [beta_i_0 == beta_i_0_d]\n",
    "for i in range(n):\n",
    "    eq_sys_M_sol_i = eq_sys_M_sol[i]\n",
    "    print(eq_sys_M_sol_i)\n",
    "    coeffs_beta_i += [vbeta1_i[i] == eq_sys_M_sol_i]\n",
    "\n",
    "print(\"coeffs_beta_i =\", coeffs_beta_i)\n",
    "print(\"M_Q\", M_Q)\n",
    "\n",
    "valpha_i = []\n",
    "for i in range(n):\n",
    "    alpha__i = 0\n",
    "    print(i)\n",
    "    for j in range(0,i+1):\n",
    "        print(j, M_Q[0][n-j], i-j, beta_i[i-j])\n",
    "        alpha__i += M_Q[0][n-j] * beta_i[i-j]\n",
    "    alpha__i *= sqrt(2 * alpha)\n",
    "    valpha_i += [alpha_i[i] == alpha__i]\n",
    "\n",
    "print(\"valpha_i =\", valpha_i)\n",
    "\n",
    "coeffs_alpha_i = []\n",
    "for i in range(n):\n",
    "    coeffs_alpha_i += [alpha_i[i] == valpha_i[i].rhs().subs(coeffs_beta_i).subs(alpha == alpha_d)]\n",
    "print(\"coeffs_alpha_i =\", coeffs_alpha_i)\n",
    "\n",
    "delta, S = var(\"delta, S\")\n",
    "F_delta = sum([alpha_i[i]*delta^i for i in range(n)])/sum([beta_i[i]*delta^i for i in range(n+1)])\n",
    "F_delta_d = F_delta.subs(coeffs_alpha_i).subs(coeffs_beta_i)\n",
    "F_delta_d_1_delta_2_alpha = (1 - delta)/(2*alpha)*F_delta_d\n",
    "F_delta_d_1_delta_2_alpha_d = F_delta_d_1_delta_2_alpha.subs(alpha == alpha_d)\n",
    "print(\"F_delta_d_1_delta_2_alpha_d =\", F_delta_d_1_delta_2_alpha_d)\n",
    "\n",
    "F_S = F_delta_d_1_delta_2_alpha.subs(delta == (S - alpha + beta) / (S + alpha + beta)).factor()\n",
    "F_S_d = F_S.subs(alpha == alpha_d, beta == beta_d)\n",
    "print(\"F_S_d =\", F_S_d)\n",
    "display(Math(latex(F_S_d)))\n",
    "\n",
    "\n",
    "F_S_d_num = F_S_d.numerator()\n",
    "F_S_d_den = F_S_d.denominator()\n",
    "\n",
    "\n",
    "print(\"F_S_d_num =\", F_S_d_num)\n",
    "display(Math(latex(F_S_d_num)))\n",
    "\n",
    "print(\"F_S_d_den =\", F_S_d_den)\n",
    "display(Math(latex(F_S_d_den)))\n",
    "\n",
    "\n",
    "rec_R = lambda t : inverse_laplace(F_S_d, S, t)\n",
    "print(\"\")\n",
    "print(\"rec_R(t) =\", rec_R(t))\n",
    "print(\"R(t) =\", R(t))"
   ]
  },
  {
   "cell_type": "code",
   "execution_count": null,
   "metadata": {},
   "outputs": [],
   "source": [
    "def my_taylor(f, v, a, n):\n",
    "    s = 0\n",
    "    #print(\"f\", f)\n",
    "    #print(\"v\", v)\n",
    "    for i in range(n):\n",
    "        fdiff_i = lambda v : diff(f, v, i)\n",
    "        #print(\"fdiff_i\", fdiff_i(v))\n",
    "        fact_i = factorial(i)\n",
    "        fdiff_i_a = fdiff_i(v).subs(v == a)\n",
    "        #print(\"fdiff_i(a)\", fdiff_i_a)\n",
    "        term = fdiff_i_a/fact_i*(v-a)^i\n",
    "        #print(\"term\", term)\n",
    "        s += term\n",
    "    return s"
   ]
  },
  {
   "cell_type": "code",
   "execution_count": null,
   "metadata": {},
   "outputs": [],
   "source": [
    "integrand_w_taylor = my_taylor(Fn(u, n_x=1, n_y=1, a=1, k_m=1), u, 1, 4)\n",
    "display(Math(latex(integrand_w_taylor)))\n",
    "integrand_w_taylor"
   ]
  },
  {
   "cell_type": "code",
   "execution_count": null,
   "metadata": {},
   "outputs": [],
   "source": [
    "plot(integrand_w_taylor, u, 0, 10)"
   ]
  },
  {
   "cell_type": "raw",
   "metadata": {},
   "source": [
    "F_w(n_x, n_y) = integrate(integrand_w_taylor, u, n_y^2+n_x^2, Infinity, algorithm=\"sympy\")\n",
    "F_w(n_x, n_y)"
   ]
  },
  {
   "cell_type": "code",
   "execution_count": null,
   "metadata": {},
   "outputs": [],
   "source": []
  },
  {
   "cell_type": "code",
   "execution_count": null,
   "metadata": {},
   "outputs": [],
   "source": [
    "# below should be reworked"
   ]
  },
  {
   "cell_type": "code",
   "execution_count": null,
   "metadata": {},
   "outputs": [],
   "source": []
  },
  {
   "cell_type": "markdown",
   "metadata": {},
   "source": [
    "The higher derivatives will contain powers of $(\\pi/(a\\,k_m))$ . Thus we find"
   ]
  },
  {
   "cell_type": "markdown",
   "metadata": {},
   "source": [
    "Let's consider\n",
    "\n",
    "\\begin{equation}\n",
    "\\sum\\limits_{n_x=\\left(0\\right)\\,1}^{\\infty}\n",
    "\\sum\\limits_{n_y=\\left(0\\right)\\,1}^{\\infty}\n",
    "F\\left(n_x, n_y\\right)\n",
    "-\n",
    "\\int\\limits_{0}^{\\infty}\n",
    "\\int\\limits_{0}^{\\infty}\n",
    "F\\left(n_x, n_y\\right)\\,d{n_x}\\,d{n_y}\n",
    "\\end{equation}"
   ]
  },
  {
   "cell_type": "markdown",
   "metadata": {},
   "source": [
    "First we see, that"
   ]
  },
  {
   "cell_type": "markdown",
   "metadata": {},
   "source": [
    "\\begin{equation}\n",
    "\\sum\\limits_{n_x=\\left(0\\right)\\,1}^{\\infty}\n",
    "\\sum\\limits_{n_y=\\left(0\\right)\\,1}^{\\infty}\n",
    "{F\\left(n_x, n_y\\right)}\n",
    "= \\sum\\limits_{n_x=\\left(0\\right)\\,1}^{\\infty}\n",
    "\\left(\n",
    "-\\frac{1}{2}F\\left(n_x, 0\\right) + \\sum\\limits_{n_y=0}^{\\infty}{F\\left(n_x, n_y\\right)}\n",
    "\\right)\n",
    "= -\\frac{1}{2}\n",
    "\\left(\n",
    "-\\frac{1}{2}F\\left(0, 0\\right) + \\sum\\limits_{n_y=0}^{\\infty}{F\\left(0, n_y\\right)}\n",
    "\\right)\n",
    "+\\sum\\limits_{n_x=0}^{\\infty}\n",
    "\\left(\n",
    "-\\frac{1}{2}F\\left(n_x, 0\\right) + \\sum\\limits_{n_y=0}^{\\infty}{F\\left(n_x, n_y\\right)}\n",
    "\\right)\n",
    "= \\frac{1}{4}F\\left(0, 0\\right)\n",
    "- \\frac{1}{2}\\sum\\limits_{n_y=0}^{\\infty}{F\\left(0, n_y\\right)}\n",
    "- \\frac{1}{2}\\sum\\limits_{n_x=0}^{\\infty}{F\\left(n_x, 0\\right)}\n",
    "+ \\sum\\limits_{n_x=0}^{\\infty}\\sum\\limits_{n_y=0}^{\\infty}{F\\left(n_x, n_y\\right)}\n",
    "\\end{equation}"
   ]
  },
  {
   "cell_type": "markdown",
   "metadata": {},
   "source": [
    "So we have"
   ]
  },
  {
   "cell_type": "markdown",
   "metadata": {},
   "source": [
    "\\begin{equation}\n",
    "\\sum\\limits_{n_x=\\left(0\\right)\\,1}^{\\infty}\n",
    "\\sum\\limits_{n_y=\\left(0\\right)\\,1}^{\\infty}\n",
    "{F\\left(n_x, n_y\\right)}\n",
    "= \\frac{1}{4}F\\left(0, 0\\right)\n",
    "- \\frac{1}{2}\\sum\\limits_{n_y=0}^{\\infty}{F\\left(0, n_y\\right)}\n",
    "- \\frac{1}{2}\\sum\\limits_{n_x=0}^{\\infty}{F\\left(n_x, 0\\right)}\n",
    "+ \\sum\\limits_{n_x=0}^{\\infty}\\sum\\limits_{n_y=0}^{\\infty}{F\\left(n_x, n_y\\right)}\n",
    "\\end{equation}"
   ]
  },
  {
   "cell_type": "markdown",
   "metadata": {},
   "source": [
    "We apply the EULER-MACLAURIN 2D formula:"
   ]
  },
  {
   "cell_type": "markdown",
   "metadata": {},
   "source": [
    "(without remainer part)"
   ]
  },
  {
   "cell_type": "markdown",
   "metadata": {},
   "source": [
    "\\begin{equation}\n",
    "\\sum\\limits_{\\left(0\\right)\\,1}^{\\infty}\\sum\\limits_{\\left(0\\right)\\,1}^{\\infty}{F\\left(n_x, n_y\\right)}\n",
    "- \\int\\limits_{0}^{\\infty}\\int\\limits_{0}^{\\infty}{F\\left(n_x, n_y\\right)} \n",
    "= - \\frac{1}{12} \\, \\int_{0}^{\\infty} \\frac{\\partial}{\\partial n_{x}}F\\left(0, n_y\\right)\\,{d n_y}\n",
    "- \\frac{1}{12} \\, \\int_{0}^{\\infty} \\frac{\\partial}{\\partial n_{y}}F\\left(n_x, 0\\right)\\,{d n_x}\n",
    "+ \\frac{1}{144} \\, \\frac{\\partial^{2}}{\\partial n_{x}\\partial n_{y}}F\\left(0, 0\\right)\n",
    "\\,+\\,...\n",
    "\\end{equation}"
   ]
  },
  {
   "cell_type": "code",
   "execution_count": null,
   "metadata": {},
   "outputs": [],
   "source": [
    "display(Math(latex((int_sum_F + sum_int_F + sum_sum_F).expand())))"
   ]
  },
  {
   "cell_type": "markdown",
   "metadata": {},
   "source": [
    "or using more terms in the EULER-MACLAURIN 2D formula:"
   ]
  },
  {
   "cell_type": "markdown",
   "metadata": {},
   "source": [
    "\\begin{equation}\n",
    "\\sum\\limits_{\\left(0\\right)\\,1}^{\\infty}\\sum\\limits_{\\left(0\\right)\\,1}^{\\infty}{F\\left(n_x, n_y\\right)}\n",
    "-\\int\\limits_{0}^{\\infty}\\int\\limits_{0}^{\\infty}{F\\left(n_x, n_y\\right)}\n",
    "= - \\frac{1}{12} \\, \\int_{0}^{\\infty}  \\, \\frac{\\partial}{\\partial n_{x}}F\\left(0, n_y\\right)\\,{d n_y}\n",
    "+ \\frac{1}{720} \\, \\int_{0}^{\\infty} \\frac{\\partial^{3}}{(\\partial n_{x})^{3}}F\\left(0, y\\right)\\,{d n_y}\n",
    "- \\frac{1}{12} \\, \\int_{0}^{\\infty} \\frac{\\partial}{\\partial n_{y}}F\\left(n_x, 0\\right)\\,{d n_x}\n",
    "+ \\frac{1}{720} \\, \\int_{0}^{\\infty} \\frac{\\partial^{3}}{(\\partial n_{y})^{3}}F\\left(n_x, 0\\right)\\,{d n_x}\n",
    "- \\frac{1}{8640} \\, \\frac{\\partial^{4}}{(\\partial n_{x})^{3}\\partial n_{y}}F\\left(0, 0\\right)\n",
    "+ \\frac{1}{518400} \\, \\frac{\\partial^{6}}{(\\partial n_{x})^{3}(\\partial n_{y})^{3}}F\\left(0, 0\\right)\n",
    "+ \\frac{1}{144} \\, \\frac{\\partial^{2}}{\\partial n_{x}\\partial n_{y}}F\\left(0, 0\\right)\n",
    "- \\frac{1}{8640} \\, \\frac{\\partial^{4}}{\\partial n_{x}(\\partial n_{y})^{3}}F\\left(0, 0\\right)\n",
    "\\,+\\,...\n",
    "\\end{equation}"
   ]
  },
  {
   "cell_type": "markdown",
   "metadata": {},
   "source": [
    "$\\delta\\,E/L^2 = \\hbar\\,c\\frac{\\pi^2}{4\\,a^3}\\left\\{\\frac{-4}{24\\times30}\\right\\}$"
   ]
  },
  {
   "cell_type": "markdown",
   "metadata": {},
   "source": [
    "a formula which holds as long as $a\\,k_m\\,»\\,1$. For the force per $cm^2$ we find"
   ]
  },
  {
   "cell_type": "markdown",
   "metadata": {},
   "source": [
    "$F = \\hbar\\,c\\frac{\\pi^2}{240}\\frac{1}{a^4}\\,=\\,0.013\\,\\frac{1}{a_{\\mu}^4}\\,dyne/cm^2$"
   ]
  },
  {
   "cell_type": "markdown",
   "metadata": {},
   "source": [
    "where $a_{\\mu}$ is the distance measured in microns. "
   ]
  },
  {
   "cell_type": "markdown",
   "metadata": {},
   "source": [
    "We are thus led to the following conclusions. There exists an attractive\n",
    "force between two metal plates which is independent of the material of\n",
    "the plates as long as the distance is so large that for wave . lengths\n",
    "comparable with that distance the penetration depth is small compared with\n",
    "the distance. This force may be interpreted as a zero point pressure of\n",
    "electromagnetic waves."
   ]
  },
  {
   "cell_type": "markdown",
   "metadata": {},
   "source": [
    "Although the effect is smalI, an experimental confirmation seems not\n",
    "unfeasable and might be of a certain interest. "
   ]
  },
  {
   "cell_type": "markdown",
   "metadata": {},
   "source": [
    "Natuurkundig Laboratorium der N.V. Philips'\n",
    "Gloeilampenfabrieken. Eindhoven .) "
   ]
  },
  {
   "cell_type": "markdown",
   "metadata": {},
   "source": [
    "30 January 2019\n",
    "\n",
    "Metal nano-honeycomb fabricated by colloidal assembly and femtosecond-laser annealing\n",
    "\n",
    "https://www.spiedigitallibrary.org/conference-proceedings-of-spie/10841/108410A/Metal-nano-honeycomb-fabricated-by-colloidal-assembly-and-femtosecond-laser/10.1117/12.2508593.full?SSO=1"
   ]
  },
  {
   "cell_type": "markdown",
   "metadata": {},
   "source": [
    "Bio-Inspired Engineering of Honeycomb Structure - Using Nature to Inspire Human Innovation\n",
    "\n",
    "https://www.researchgate.net/figure/Mechanical-behavior-of-micro-and-nano-honeycomb-materials_tbl1_280239925"
   ]
  },
  {
   "cell_type": "markdown",
   "metadata": {},
   "source": [
    "Nano-honeycomb structures for optimal energy absorption: numerical analysis and experiments\n",
    "\n",
    "https://www.alliedacademies.org/articles/nanohoneycomb-structures-for-optimal-energy-absorption-numerical-analysisand-experiments-8375.html"
   ]
  }
 ],
 "metadata": {
  "kernelspec": {
   "display_name": "SageMath 9.5",
   "language": "sage",
   "name": "sagemath"
  },
  "language_info": {
   "codemirror_mode": {
    "name": "ipython",
    "version": 3
   },
   "file_extension": ".py",
   "mimetype": "text/x-python",
   "name": "python",
   "nbconvert_exporter": "python",
   "pygments_lexer": "ipython3",
   "version": "3.9.9"
  }
 },
 "nbformat": 4,
 "nbformat_minor": 2
}
