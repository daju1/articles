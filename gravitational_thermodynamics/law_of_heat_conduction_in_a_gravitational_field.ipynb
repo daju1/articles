{
 "cells": [
  {
   "cell_type": "markdown",
   "id": "76c989e6",
   "metadata": {},
   "source": [
    "# Градиент температуры, создаваемый движением молекул идеального газа в поле сил тяжести"
   ]
  },
  {
   "cell_type": "markdown",
   "id": "7c4f2977",
   "metadata": {},
   "source": [
    "\n",
    "В работе V.S. Vasilenko, A.A. Malgota (2017) было показано, что диффузия и дрейф молекул идеального газа в гравитационном поле приводит к разделению слоёв молекул по температуре с градиентом большим, чем сухоадиабатический градиент равный $\\frac{dT}{dz} = -\\frac{M\\, g}{c_p}$. Авторы приводят оценку градиента температуры, создаваемого движением молекул идеального газа в поле сил тяжести $\\frac{dT}{dz} = -\\frac{M\\, g}{c_v}$.\n",
    "\n",
    "Авторы дают следующий вывод своего уравнения"
   ]
  },
  {
   "cell_type": "markdown",
   "id": "4056243f",
   "metadata": {},
   "source": [
    "На произвольной высоте $z$ выберем два соседних горизонтальных слоя площадью $S$ с толщиной равной средней проекции длины свободного пробега $\\lambda_z$.\n",
    "\n",
    "Объём горизонтальных слоя $V = \\lambda_z S$\n",
    "\n",
    "В верхнем слое с номером $j+1$ половина молекул имеет проекцию скорости, направленную вниз.\n",
    "\n",
    "За время свободного пробега $\\tau_0$ эта половина молекул верхнего слоя переместится в нижний слой.\n",
    "\n",
    "Происходит перенос энергии теплового движения\n",
    "\n",
    "$U_{j+1} = \\frac{1}{2}n V \\cdot i \\cdot k \\cdot T_{j+1} = \\frac{1}{2}n\\lambda_z S \\cdot i \\cdot k \\cdot T_{j+1} $\n",
    "\n",
    "и потенциальной энергии\n",
    "\n",
    "$W = \\frac{1}{2}n V \\cdot m \\cdot g \\cdot {\\lambda_z} = \\frac{1}{2}n \\cdot m \\cdot g \\cdot {\\lambda_z}^2 S$,\n",
    "\n",
    "которая переходит в тепловую при столкновении  молекулами в $j$ - м слое. \n",
    "\n",
    "$U_{j} = \\frac{1}{2}n V \\cdot i \\cdot k \\cdot T_{j} = \\frac{1}{2}n\\lambda_z S \\cdot i \\cdot k \\cdot T_{j} $\n",
    "\n",
    "Для стационарного случая необходимо, чтобы приращение энергии этих $\\frac{s\\,\\lambda_z\\,n}{2}$ молекул происходило за счет изменения их потенциальной энергии в гравитационном поле:\n",
    "$U_{j+1} + W = U_{j}$\n",
    "\n",
    "$$\\frac{1}{2}n{\\lambda}_z S \\cdot i \\cdot k \\cdot (T_{j+1} - T_{j}) + \\frac{1}{2}n \\cdot m \\cdot g \\cdot {{\\lambda}_z}^2 S = 0$$\n",
    "\n",
    "\n",
    "Сокращая концентрацию молекул $n$ и проекцию длины свободного пробега $\\lambda_z$ и умножая на число Авогадро получим оценку градиента температуры, создаваемого движением молекул молекул идеального газа в поле сил тяжести\n",
    "\n",
    "$$\\frac{dT}{dz} = -\\frac{M \\cdot g}{C_v}$$\n"
   ]
  },
  {
   "cell_type": "markdown",
   "id": "a23433a9",
   "metadata": {},
   "source": [
    "Если работа силы тяжести при перемещении молекул из одного слоя в другой будет меньше, чем разность внутренних энергий этих молекул в нижнем $j$-м и верхним $j+1$-м слоях после столкновения и термализации \n",
    "\n",
    "$$W < U_{j} - U_{j+1},$$\n",
    "\n",
    "то будет происходить перенос энергии от верхних слоёв к нижним вследствие теплового движения молекул в гравитационном поле.\n",
    "\n",
    "Авторы отмечают, что время установления градиента температур в процессе молекулярного переноса на порядки больше, чем за счёт конвекции и адиабатического расширения. Поэтому в обычных условиях атмосферы этот процесс не проявляется.\n",
    "\n",
    "Авторы делают следующие выводы\n",
    "\n",
    "1. Гравитационное поле производит пространственное разделение молекул газа по температуре, как при макроперемещениях газа (конвекция), так и при перемещениях молекул в поле сил тяжести.\n",
    "\n",
    "2. Впервые показано, что диффузия и дрейф молекул идеального газа в гравитационном поле приводит к разделению слоёв молекул по температуре с градиентом большим, чем сухоадиабатический.\n"
   ]
  },
  {
   "cell_type": "markdown",
   "id": "f603b851",
   "metadata": {},
   "source": [
    "Нужно заметить, что авторы не учли влияния барометрической формулы на распределение концентрации молекул с высотой."
   ]
  },
  {
   "cell_type": "markdown",
   "id": "df69a528",
   "metadata": {},
   "source": [
    "The barometric formula can be derived using the ideal gas law:\n",
    "\n",
    "${\\displaystyle P=\\,{\\frac {\\rho }{M}}{R\\,}T}$\n",
    "\n",
    "<p>Assuming that all pressure is hydrostatic:\n",
    "</p>\n",
    "\n",
    "\n",
    "${\\displaystyle dP=-\\,\\rho g\\,dz}$"
   ]
  },
  {
   "cell_type": "markdown",
   "id": "b8eba0e9",
   "metadata": {},
   "source": [
    "${\\displaystyle {\\frac {dP}{P}}=-\\,{\\frac {M\\,g\\,dz}{R\\,T}}}$\n",
    "\n",
    "${\\displaystyle {\\frac {dn}{n}}=-\\,{\\frac {M\\,g\\,dz}{R\\,T}}}$\n",
    "\n",
    "${\\displaystyle {\\frac {dn}{dz}} = -\\,n\\,{\\frac {M\\,g}{R\\,T}}}$"
   ]
  },
  {
   "cell_type": "markdown",
   "id": "f5c72031",
   "metadata": {},
   "source": [
    "Однако вместе с концентрацией меняется также и длина свободного пробега молекул таким образом, что их произведение остаётся постоянным. \n",
    "\n",
    "длина свободного пробега\n",
    "\n",
    "${\\displaystyle \\lambda ={\\frac {1}{{\\sqrt {2}}\\sigma n}}}$, где ${\\displaystyle \\sigma }$ — эффективное сечение молекулы, равное ${\\displaystyle {\\pi d^{2}}}$\n",
    "\n",
    "${\\displaystyle d}$ — эффективный диаметр молекулы), а ${\\displaystyle n}$ концентрация молекул.\n",
    "\n",
    "Действительно, из за влияния барометрической формулы плотность газа в верхнем слое меньше плотности в нижнем, но одновременно вместе с этим и длина свободного пробега в верхнем слое больше чем в нижнем. Поэтому если в расчёте толщину верхнего слоя взять бОльшей толщины нижнего слоя, и если учесть, что множитель, выносящийсмя за скобки это произведение концентрации на длину свободного пробега, то следует ожидать, что влияние фактора неравномерности плотности с высотой вносит несущественную поправку в полученную авторами формулу."
   ]
  },
  {
   "cell_type": "markdown",
   "id": "920cfa85",
   "metadata": {},
   "source": [
    "Далее, что нужно отметить, что их вывод проведен в декартовой системе координат, тогда как для атмосферы необходимо перевывести эту формулу для сферической системы координат."
   ]
  },
  {
   "cell_type": "markdown",
   "id": "24a0ae0a",
   "metadata": {},
   "source": [
    "# Нестационарное рассмотрение градиента температуры, создаваемого движением молекул идеального газа в поле сил тяжести"
   ]
  },
  {
   "cell_type": "markdown",
   "id": "ba0f88fe",
   "metadata": {},
   "source": [
    "Давайте теперь рассмотрим нестационарный случай, который будет заключатся в том, что\n",
    "\n",
    "- если работа силы тяжести при перемещении молекул из одного слоя в другой будет меньше, чем разность внутренних энергий этих молекул в нижнем $j$-м и верхним $j+1$-м слоях после столкновения и термализации $W < U_{j} - U_{j+1}$, то будет происходить перенос энергии от верхних слоёв к нижним вследствие теплового движения молекул в гравитационном поле.\n",
    "\n",
    "<p></p>\n",
    "\n",
    "Обозначим как $Q$ то количество теплоты которое самопроизвольно за время свободного пробега $\\tau_0$ передаётся от \"верхнего\" $j+1$-го слоя с температурой $T_{j+1}$ к \"нижнему\" $j$-му слою  с температурой $T_{j}$ с помощью молекул имеющих вектор движения направленный вниз\n",
    "\n",
    "$$Q + W = U_{j} - U_{j+1}$$\n",
    "\n",
    "Подставляя в эту формулу перенос за время свободного пробега энергии теплового движения из верхнего слоя в нижний\n",
    "\n",
    "$U_{j+1} = \\frac{1}{6}n\\lambda_z S \\cdot i \\cdot k \\cdot T_{j+1} $\n",
    "\n",
    "(множитель $\\frac{1}{6}$ учитывает тот факт, что только одна шестая всех молекул движется вниз)\n",
    "\n",
    "а также перенос за время свободного пробега потенциальной энегрии из верхнего слоя в нижний потенциальной энергии\n",
    "\n",
    "$W =  \\frac{1}{6}n \\cdot m \\cdot g \\cdot {\\lambda_z}^2 S$,\n",
    "\n",
    "учитывая также тепловую энергию ушедшую в том же направлении (вниз) за то  же время в $j$ - м нижнем слое\n",
    "\n",
    "$U_{j} = \\frac{1}{6}n\\lambda_z S \\cdot i \\cdot k \\cdot T_{j} $ \n",
    "\n",
    "получаем\n",
    "\n",
    "$$\\frac{Q}{S} = \\frac{1}{6}n{\\lambda}_z \\cdot i \\cdot k \\cdot (T_{j} - T_{j+1}) - \\frac{1}{6}n \\cdot m \\cdot g \\cdot {{\\lambda}_z}^2$$\n",
    "\n",
    "\n",
    "$$\\frac{Q}{S} = \\frac{1}{6}n{{\\lambda}_z}^2 \\cdot i \\cdot k \\cdot \\frac{T_{j} - T_{j+1}}{{\\lambda}_z} - \\frac{1}{6}n \\cdot m \\cdot g \\cdot {{\\lambda}_z}^2$$\n",
    "\n",
    "\n",
    "$$\\frac{Q}{S} = \\frac{1}{6}n{{\\lambda}_z}^2 \\cdot i \\cdot k \\cdot \\left(\\frac{T_{j} - T_{j+1}}{{\\lambda}_z} - \\frac{ m \\cdot g}{i \\cdot k}  \\right)$$\n",
    "\n",
    "\n",
    "$$\\frac{Q}{\\tau_0\\,S} = \\frac{1}{6}n{{\\lambda}_z} \\cdot i \\cdot k \\frac{{\\lambda}_z}{\\tau_0}\\cdot \\left(\\frac{T_{j} - T_{j+1}}{{\\lambda}_z} - \\frac{ m \\cdot g}{i \\cdot k}  \\right)$$\n",
    "\n",
    "Учитывая что $\\bar {v} = \\frac{{\\lambda}_z}{\\tau_0}$ - есть средняя скорость теплового движения молекул, \n",
    "\n",
    "$$\\frac{Q}{\\tau_0\\,S} = - \\frac{1}{6}n{{\\lambda}_z} \\cdot i \\cdot k \\, \\bar {v} \\cdot \\left(\\frac{T_{j+1} - T_{j}}{{\\lambda}_z} + \\frac{ m \\cdot g}{i \\cdot k} \\right)$$\n",
    "\n",
    "Учитывая также формулу для коэффициента теплопроводности из кинетической теории газов ${\\displaystyle \\varkappa \\sim {\\frac {1}{3}}\\rho c_{v}\\lambda {\\bar {v}},}$\n",
    "\n",
    "\n",
    "\n",
    "$$\\frac{Q}{\\tau_0\\,S} = - \\frac{1}{2}\\displaystyle \\varkappa \\cdot \\left(\\frac{T_{j+1} - T_{j}}{{\\lambda}_z} + \\frac{ m \\cdot g}{i \\cdot k}  \\right)$$\n"
   ]
  },
  {
   "cell_type": "markdown",
   "id": "df26312d",
   "metadata": {},
   "source": [
    "Проведя те же рассуждения, но для ещё одной шестой части молекул, вектор движения которых направлен вверх, мы придём к той же формуле для количества теплоты которое самопроизвольно за время свободного пробега $\\tau_0$ передаётся от \"верхнего\" $j+1$-го слоя с температурой $T_{j+1}$ к \"нижнему\" $j$-му слою  с температурой $T_{j}$ с помощью молекул имеющих вектор движения направленный вверх. Поэтому для нахождения суммарного количества теплоты которое самопроизвольно за время свободного пробега передаётся от \"верхнего\" $j+1$-го слоя  к \"нижнему\" $j$-му слою, нужно полученное выше выражение умножить на 2."
   ]
  },
  {
   "cell_type": "markdown",
   "id": "4e00d7b5",
   "metadata": {},
   "source": [
    "Теперь сравним данную формулу с Законом теплопроводности Фурье, который в отсутствие влияния гравитационного поля формулируется следующим образом:\n",
    "\n",
    "В установившемся режиме плотность потока энергии, передающейся посредством теплопроводности, пропорциональна градиенту температуры и направлена в сторону скорейшего убывания температуры:\n",
    "\n",
    "$$\\displaystyle {\\vec {q}}=-\\varkappa \\mathop {\\mathrm {grad} } T$$"
   ]
  },
  {
   "cell_type": "markdown",
   "id": "f48dbf41",
   "metadata": {},
   "source": [
    "где ${\\displaystyle \\varkappa }$ — коэффициент теплопроводности (удельная теплопроводность),\n",
    "\n",
    "${\\displaystyle {\\vec {q}}}$ — вектор плотности теплового потока — количество энергии, проходящей в единицу времени через единицу площади, перпендикулярной каждой оси, очевидно, что согласно этого определения вертикальный компонент вектора плотности теплового потока равен\n",
    "\n",
    "$q_z = 2 \\frac{Q}{\\tau_0\\,S}$\n",
    "\n",
    "в отсутствии гравитации \n",
    "\n",
    "$q_z = - \\varkappa \\cdot (\\mathop {\\mathrm {grad} } T)_z = - \\varkappa \\, \\frac{dT}{dz}$\n",
    "\n",
    "Исходя из определения производной\n",
    "\n",
    "$\\frac{dT}{dz} = \\lim_{{\\lambda}_z \\rightarrow 0} \\frac{T_{j+1} - T_{j}}{{\\lambda}_z}$"
   ]
  },
  {
   "cell_type": "markdown",
   "id": "bac3404b",
   "metadata": {},
   "source": [
    "Поэтому в присутствие гравитации в направлении сонаправленном вектору $\\vec{g}$ в законе теплопроводности необходимо учесть влияние градиента температуры, создаваемого движением молекул молекул идеального газа в поле сил тяжести следующим образом: \n",
    "\n",
    "$$q_z = - \\varkappa \\left( \\frac{dT}{dz} + \\frac{M \\cdot {g}}{C_v} \\right)$$\n",
    "\n",
    "или в поле центробежных сил во вращающейся системе:\n",
    "\n",
    "$$q_r=-\\varkappa \\left( \\frac{dT}{dr} - \\frac{M \\cdot \\omega^2\\,r}{C_v} \\right)$$\n",
    "\n",
    "Обьяснение полученной формулы следующее: в присутствии гравитации в стационарном случае установившегося вертикального градиента, равного\n",
    "\n",
    "$$\\frac{dT}{dz} = -\\frac{M \\cdot g}{C_v}$$\n",
    "\n",
    "или\n",
    "\n",
    "$$\\frac{dT}{dr} = \\frac{M \\cdot \\omega^2 \\, r}{C_v}$$\n",
    "\n",
    "\n",
    "наличие данного температурного градиента (назовем его гравидиффузионным температурным градиентом) не будет приводить к возникновению вертикального теплового потока в толще газа, потому как этот градиент уравновешен гравитационным (или центробежным) полем\n",
    "\n",
    "Данная формула плотности потока тепловой энергии в условиях гравитации получена, по-видимому, впервые."
   ]
  },
  {
   "cell_type": "markdown",
   "id": "fb0f9d61",
   "metadata": {},
   "source": [
    "# Тепловой поток в атмосфере в условиях адиабатического градиента температуры"
   ]
  },
  {
   "cell_type": "markdown",
   "id": "3f2412f2",
   "metadata": {},
   "source": [
    "Рассмотрим спокойную атмосферу с установившимся адиабатическим градиентом температуры\n",
    "\n",
    "$$\\frac{dT}{dz} = -\\frac{M \\cdot g}{C_p}$$"
   ]
  },
  {
   "cell_type": "markdown",
   "id": "aaefbb51",
   "metadata": {},
   "source": [
    "Тепловой поток в такой атмосфере будет равен\n",
    "\n",
    "$${\\vec {q}}=-\\varkappa \\left( \\frac{dT}{dz} + \\frac{M \\cdot {g}}{C_v} \\right)$$\n",
    "$${\\vec {q}}=-\\varkappa \\left( -\\frac{M \\cdot g}{C_p} + \\frac{M \\cdot {g}}{C_v} \\right)$$\n",
    "$${\\vec {q}}=-\\varkappa \\left( \\frac{M \\cdot {g}}{C_v} -\\frac{M \\cdot g}{C_p} \\right)$$\n",
    "$${\\vec {q}}=-\\varkappa M g \\left( \\frac{1}{C_v} -\\frac{1}{C_p} \\right)$$\n",
    "$${\\vec {q}}=-\\varkappa M g \\left( \\frac{C_p-C_v}{C_v C_p}\\right)$$\n",
    "\n",
    "Теплоёмкость идеального газа $c_v=\\frac{i}{2}R$, $c_p=\\frac{i+2}{2}R$. Таким образом\n",
    "\n",
    "$${\\vec {q}}=-\\varkappa M g \\left( \\frac{\\frac{i+2}{2}R-\\frac{i}{2}R}{\\frac{i}{2}R \\frac{i+2}{2}R}\\right)$$\n"
   ]
  },
  {
   "cell_type": "markdown",
   "id": "f028287b",
   "metadata": {},
   "source": [
    "$${\\vec {q}}=-\\varkappa M g \\left( \\frac{R}{\\frac{i}{2}R \\frac{i+2}{2}R}\\right)$$"
   ]
  },
  {
   "cell_type": "markdown",
   "id": "e1c14e73",
   "metadata": {},
   "source": [
    "$${\\vec {q}}=- \\frac{4\\varkappa M g}{(i+2)R}$$"
   ]
  },
  {
   "cell_type": "markdown",
   "id": "f052dff1",
   "metadata": {},
   "source": [
    "Данный тепловой поток направлен вниз. Назовем этот процесс <b><i>гравииндуцированной теплопередачей</i></b>."
   ]
  },
  {
   "cell_type": "markdown",
   "id": "a27fc2a2",
   "metadata": {},
   "source": [
    "При уменьшении модуля градиента меньше величины сухоадиабатического градиента конвекция в газе прекращается и переток тепла между горизонтальными слоями газа возможен только вследствие теплопроводности.\n",
    "\n",
    "\n",
    "Гравииндуцированная теплопередача стремится установить градиент температур по модулю больший, чем сухоадиабатический, вследствие чего в спокойной атмосфере возникает <i>гравииндуцированная конвекция</i>."
   ]
  },
  {
   "cell_type": "code",
   "execution_count": null,
   "id": "d4ef12e2",
   "metadata": {},
   "outputs": [],
   "source": []
  },
  {
   "cell_type": "markdown",
   "id": "94d7030a",
   "metadata": {},
   "source": [
    "# Справочные формулы из молекулярно кинетической теории"
   ]
  },
  {
   "cell_type": "markdown",
   "id": "0268f41e",
   "metadata": {},
   "source": [
    "Коэффициент теплопроводности газов\n",
    "\n",
    "${\\displaystyle \\varkappa \\sim {\\frac {1}{3}}\\rho c_{v}\\lambda {\\bar {v}},}$"
   ]
  },
  {
   "cell_type": "markdown",
   "id": "9f506a2f",
   "metadata": {},
   "source": [
    "<p>где ${\\displaystyle \\rho }$&nbsp;— плотность газа, ${\\displaystyle c_{v}}$&nbsp;— удельная теплоёмкость при постоянном объёме, ${\\displaystyle \\lambda }$&nbsp;— средняя длина свободного пробега молекул газа, ${\\displaystyle {\\bar {v}}}$&nbsp;— средняя тепловая скорость. Эта же формула может быть записана как</p>"
   ]
  },
  {
   "cell_type": "markdown",
   "id": "b76c261b",
   "metadata": {},
   "source": [
    "$${\\displaystyle \\varkappa ={\\frac {ik}{3\\pi ^{3/2}d^{2}}}{\\sqrt {\\frac {RT}{M }}},}$$"
   ]
  },
  {
   "cell_type": "markdown",
   "id": "222df12e",
   "metadata": {},
   "source": [
    "длина свободного пробега\n",
    "\n",
    "${\\displaystyle \\lambda ={\\frac {1}{{\\sqrt {2}}\\sigma n}}}$, где ${\\displaystyle \\sigma }$ — эффективное сечение молекулы, равное ${\\displaystyle {\\pi d^{2}}}$\n",
    "\n",
    "${\\displaystyle d}$ — эффективный диаметр молекулы), а ${\\displaystyle n}$ концентрация молекул."
   ]
  },
  {
   "cell_type": "markdown",
   "id": "c33c38ad",
   "metadata": {},
   "source": [
    "${\\displaystyle \\lambda ={\\frac {\\mu }{p}}{\\sqrt {\\frac {\\pi k_{\\text{B}}T}{2m}}},}$\n",
    "\n",
    "<p>где m&nbsp;— масса молекулы, а <i>μ</i>&nbsp;— вязкость. Это выражение можно удобно представить в следующем виде:\n",
    "</p>\n",
    "\n",
    "${\\displaystyle \\lambda ={\\frac {\\mu }{p}}{\\sqrt {\\frac {\\pi R_{u}T}{2M}}},}$\n",
    "\n",
    "<p>где ${\\displaystyle R_{u}}$ \"Универсальная газовая постоянная\", а ${\\displaystyle M}$\n",
    " молекулярная масса.\n",
    "</p>"
   ]
  },
  {
   "cell_type": "markdown",
   "id": "ff9390af",
   "metadata": {},
   "source": [
    "Уравнение среднеквадратичной скорости молекулы\n",
    "\n",
    "${\\displaystyle {\\bar {v}}={\\sqrt {\\frac {3kTN_{A}}{M_{r}}}}={\\sqrt {\\frac {3kT}{m}}}}$"
   ]
  },
  {
   "cell_type": "markdown",
   "id": "1b046ee5",
   "metadata": {},
   "source": [
    "Уравнение среднеквадратичной скорости относительного движения молекул\n",
    "\n",
    "\n",
    "\n",
    "${\\displaystyle {\\bar {v}}={\\sqrt {\\frac {8kTN_{A}}{\\pi M_{r}}}}={\\sqrt {\\frac {8kT}{\\pi m}}}}$\n",
    "\n",
    "https://mash-xxl.info/page/118051085025124117132154119217045106188025232081/"
   ]
  },
  {
   "cell_type": "markdown",
   "id": "bc995b1f",
   "metadata": {},
   "source": [
    "Среднее время свободного пробега\n",
    "\n",
    "${\\displaystyle \\tau_0} = \\frac {\\lambda}{ {\\bar {v}} }$"
   ]
  },
  {
   "cell_type": "code",
   "execution_count": null,
   "id": "542f8717",
   "metadata": {},
   "outputs": [],
   "source": []
  },
  {
   "cell_type": "markdown",
   "id": "5ac28349",
   "metadata": {},
   "source": [
    "# Система дифференциальных уравнений процесса температурного разделения в гравитационном поле"
   ]
  },
  {
   "cell_type": "markdown",
   "id": "4a16efa6",
   "metadata": {},
   "source": [
    "Составим систему дифференциальных уравнений\n",
    "\n",
    "плотность теплового потока ${q_r(h)}$ - количество энергии $Q(h)$, проходящей в единицу времени $dt$ через единицу площади $S(h)$\n",
    "\n",
    "$${q_r(h)} = \\frac{1}{S(h)} \\frac{Q(h)}{dt} $$\n",
    "\n",
    "$$q_r(h)\\,S(h) = \\frac{Q(h)}{dt} $$\n",
    "\n",
    "\n",
    "$$Q(h) = q_r(h)\\,S(h)\\,dt$$\n",
    "\n"
   ]
  },
  {
   "cell_type": "markdown",
   "id": "66010ad9",
   "metadata": {},
   "source": [
    "площадь воображаемой сферической поверхности воздуха на высоте $h$\n",
    "\n",
    "$$S(h) = 4 \\pi \\left(\\operatorname{R}_{\\oplus}+h\\right)^2$$\n",
    "\n",
    "где $\\operatorname {R} _{\\oplus }$ радиус Земли\n",
    "\n",
    "$$\\displaystyle 1\\ \\operatorname {R} _{\\oplus }={\\text{6378,14}}\\ \\operatorname {km} \\approx {\\text{6,4}}\\cdot 10^{6}\\ \\operatorname {m}$$\n",
    "\n",
    "$$Q(h) = q_r(h)\\,4 \\pi \\left(\\operatorname{R}_{\\oplus}+h\\right)^2\\,dt$$"
   ]
  },
  {
   "cell_type": "markdown",
   "id": "009b4247",
   "metadata": {},
   "source": [
    "теплоёмкость при постоянном обьеме\n",
    "\n",
    "$$c_v = \\frac{\\Delta Q}{\\Delta \\nu\\,\\Delta T}$$\n",
    "\n",
    "$$\\Delta T = \\frac{1}{c_v}\\frac{\\Delta Q}{\\Delta \\nu}$$\n",
    "\n",
    "рассмотрим изменение температуры бесконечного тонкого слоя толщиной $dh$ происходящее благодаря разнице тепловых потоков $dQ (h)$ и $dQ (h + dh)$ проходящих через внутреннюю и внешнюю границу этого тонкого слоя\n",
    "\n",
    "$$\\Delta T(r) = \\frac{1}{c_v}\\frac{\\Delta Q (h)}{\\Delta \\nu} = \\frac{1}{c_v}\\frac{Q (h) - Q (h + dh)}{\\Delta \\nu}$$"
   ]
  },
  {
   "cell_type": "markdown",
   "id": "ff685e29",
   "metadata": {},
   "source": [
    "$$dT = \\frac{1}{c_v}\\frac{dQ/dh}{d\\nu/dh}$$"
   ]
  },
  {
   "cell_type": "markdown",
   "id": "28d38c0e",
   "metadata": {},
   "source": [
    "найдем $d\\nu/dh$ для идеального газа исходя из уравнения Клайперона Менделеева\n",
    "\n",
    "$$n = \\frac{N_a p}{R T} = \\frac{N_a \\nu}{V} = \\frac{N_a d\\nu}{dV}$$\n",
    "\n",
    "$$dV = 4 \\pi \\left(\\operatorname{R}_{\\oplus}+h\\right)^2\\,dh$$\n",
    "\n",
    "$$n = \\frac{N_a d\\nu}{4 \\pi \\left(\\operatorname{R}_{\\oplus}+h\\right)^2\\,dh}$$\n",
    "\n",
    "$$\\frac{d\\nu}{dh} = 4 \\pi \\left(\\operatorname{R}_{\\oplus}+h\\right)^2\\,\\frac{n}{N_a}$$"
   ]
  },
  {
   "cell_type": "markdown",
   "id": "ec897700",
   "metadata": {},
   "source": [
    "таким образом для идеального газа\n",
    "\n",
    "$$dT = \\frac{N_a}{n\\,c_v}\\frac{dQ/dh}{4 \\pi \\left(\\operatorname{R}_{\\oplus}+h\\right)^2}$$"
   ]
  },
  {
   "cell_type": "markdown",
   "id": "20fb9ac1",
   "metadata": {},
   "source": [
    "теперь найдем $d\\nu/dh$ для несжимаемой жидкости\n",
    "\n",
    "$$d\\nu/dh = \\frac{d}{dh}{\\Delta \\nu}$$\n",
    "\n",
    "$${\\Delta \\nu} = \\frac{\\Delta m}{M} = \\frac{\\rho \\Delta V}{M} = \\rho \\frac{4 \\pi \\left(\\operatorname{R}_{\\oplus}+h\\right)^2 \\Delta h}{M}$$\n",
    "\n",
    "$$d\\nu/dh =  4 \\pi \\left(\\operatorname{R}_{\\oplus}+h\\right)^2\\frac{\\rho}{M}$$"
   ]
  },
  {
   "cell_type": "markdown",
   "id": "a056796f",
   "metadata": {},
   "source": [
    "таким образом для несжимаемой жидкости\n",
    "\n",
    "$$dT = \\frac{M}{\\rho\\, c_v}\\,\\frac{dQ/dh}{4 \\pi \\left(\\operatorname{R}_{\\oplus}+h\\right)^2}$$"
   ]
  },
  {
   "cell_type": "markdown",
   "id": "a4a7d1e5",
   "metadata": {},
   "source": [
    "количество энергии $dQ(h)$, проходящей за время $dt$ через всю площадь $S(h)$ воображаемой поверхности, заданной высотой $h$ исходя из плотности теплового потока ${q_r(h)}$\n",
    "\n",
    "$$Q(h) = 4 \\pi \\, q_r(h)\\,\\left(\\operatorname{R}_{\\oplus}+h\\right)^2\\,dt$$\n",
    "\n",
    "дифференцируем его по $h$ координате\n",
    "\n",
    "$$\\frac{d}{dh}Q(h) = 4 \\pi \\,\\frac{d}{dh}\\Big(q_r(h)\\,\\left(\\operatorname{R}_{\\oplus}+h\\right)^2\\,dt\\Big)$$\n",
    "\n",
    "\n",
    "$$\\frac{dQ(h)}{dh} = 4 \\pi\\,\\left(R+h\\right) \\left(\\frac{dq_r(h)}{dh}\\,\\left(\\operatorname{R}_{\\oplus}+h\\right) + 2\\,q_r(h)\\right)\\,dt$$"
   ]
  },
  {
   "cell_type": "markdown",
   "id": "35d4cb07",
   "metadata": {},
   "source": [
    "Таким образом для идеального газа\n",
    "\n",
    "$$dT = \\frac{N_a}{n\\,c_v}\\frac{dQ/dh}{4 \\pi \\left(\\operatorname{R}_{\\oplus}+h\\right)^2}$$\n",
    "\n",
    "$$dT = \\frac{N_a}{n\\,c_v}\\frac{\\Big(\\frac{dq_r(h)}{dh}\\, \\left(\\operatorname{R}_{\\oplus}+h\\right) + 2\\,q_r(h)\\Big)\\,dt}{\\left(\\operatorname{R}_{\\oplus}+h\\right)}$$\n",
    "\n",
    "$$\\frac{dT}{dt} = \\frac{N_a}{n\\,c_v}\\,\\Bigg(\\frac{dq_r(h)}{dh} + \\frac{2\\,q_r(h)}{\\operatorname{R}_{\\oplus} + h}\\Bigg)$$\n",
    "\n",
    "а для несжимаемой жидкости\n",
    "\n",
    "$$\\frac{dT}{dt} = \\frac{M}{\\rho\\, c_v}\\,\\Bigg(\\frac{dq_r(h)}{dh} + \\frac{2\\,q_r(h)}{\\operatorname{R}_{\\oplus} + h}\\Bigg)$$\n"
   ]
  },
  {
   "cell_type": "markdown",
   "id": "56952481",
   "metadata": {},
   "source": [
    "# Решение дифференциального уравнения процесса температурного разделения в поле гравитации для стационарного случая $\\frac{dT}{dt} = 0$ "
   ]
  },
  {
   "cell_type": "code",
   "execution_count": 1,
   "id": "3f17cb81",
   "metadata": {},
   "outputs": [],
   "source": [
    "from IPython.display import display, Math, Latex\n",
    "\n",
    "def disp(eq):\n",
    "    display(Math(latex(eq)))\n",
    "\n",
    "def displ(tex):\n",
    "    display(Math(tex))"
   ]
  },
  {
   "cell_type": "code",
   "execution_count": 35,
   "id": "883bc65c",
   "metadata": {},
   "outputs": [],
   "source": [
    "t, h = var(\"t, h\")\n",
    "M = var(\"M\")\n",
    "i, R = var(\"i, R\")\n",
    "C_p = var(\"C_p\")\n",
    "C_v = var(\"C_v\")\n",
    "kappa = var(\"kappa\")\n",
    "T = function('T')(h)\n",
    "g = function('g')(h)\n",
    "\n",
    "T_0 = var(\"T_0\")\n",
    "n_0 = var(\"n_0\")\n",
    "\n",
    "R_earth = var(\"R_earth\")\n",
    "M_earth = var(\"M_earth\")\n",
    "G = var(\"G\")"
   ]
  },
  {
   "cell_type": "markdown",
   "id": "49ad3bbf",
   "metadata": {},
   "source": [
    "плотность потока тепловой энергии в поле гравитации\n",
    "\n",
    "$${q_r(h)}=-\\varkappa \\left( \\frac{dT(h)}{dh} + \\frac{M \\cdot {g(h)}}{C_v} \\right)$$\n"
   ]
  },
  {
   "cell_type": "code",
   "execution_count": 3,
   "id": "68733075",
   "metadata": {},
   "outputs": [
    {
     "data": {
      "text/latex": [
       "$\\displaystyle q_r(h) = -\\kappa {\\left(\\frac{M g\\left(h\\right)}{R i} + \\frac{\\partial}{\\partial h}T\\left(h\\right)\\right)}$"
      ],
      "text/plain": [
       "<IPython.core.display.Math object>"
      ]
     },
     "metadata": {},
     "output_type": "display_data"
    }
   ],
   "source": [
    "q_r = - kappa*(diff(T, h) + M * g / (i * R))\n",
    "displ(\"q_r(h) = \" + latex(q_r))"
   ]
  },
  {
   "cell_type": "markdown",
   "id": "0fbd4456",
   "metadata": {},
   "source": [
    "<p>Гравитационное ускорение на высоте $h$ над поверхностью Земли  можно вычислить по формуле:\n",
    "</p>\n",
    "\n",
    "$$\\displaystyle g(h)={\\frac {G\\operatorname{M}_{\\oplus}}{(\\operatorname{R}_{\\oplus}+h)^{2}}}$$"
   ]
  },
  {
   "cell_type": "markdown",
   "id": "b393559c",
   "metadata": {},
   "source": [
    "<p>где $G$ — гравитационная постоянная ($6,67430(15) · 10^{−11}$ м<sup>3</sup>·с<sup>−2</sup>·кг<sup>−1</sup>). \n",
    "</p>\n",
    "\n",
    "$\\operatorname{M}_{\\oplus} = (5,9722 ± 0,0006) × 10^{24}$ кг"
   ]
  },
  {
   "cell_type": "code",
   "execution_count": 4,
   "id": "e53414ef",
   "metadata": {},
   "outputs": [
    {
     "data": {
      "text/latex": [
       "$\\displaystyle g(h) = \\frac{G M_{\\mathit{earth}}}{{\\left(R_{\\mathit{earth}} + h\\right)}^{2}}$"
      ],
      "text/plain": [
       "<IPython.core.display.Math object>"
      ]
     },
     "metadata": {},
     "output_type": "display_data"
    }
   ],
   "source": [
    "g_ = G*M_earth/(R_earth+h)^2\n",
    "displ(\"g(h) = \" + latex(g_))"
   ]
  },
  {
   "cell_type": "code",
   "execution_count": 5,
   "id": "286b2c2a",
   "metadata": {},
   "outputs": [
    {
     "data": {
      "text/latex": [
       "$\\displaystyle q_r(h) = -\\kappa {\\left(\\frac{G M M_{\\mathit{earth}}}{R {\\left(R_{\\mathit{earth}} + h\\right)}^{2} i} + \\frac{\\partial}{\\partial h}T\\left(h\\right)\\right)}$"
      ],
      "text/plain": [
       "<IPython.core.display.Math object>"
      ]
     },
     "metadata": {},
     "output_type": "display_data"
    }
   ],
   "source": [
    "q_r = - kappa*(diff(T, h) + M * g_ / (i * R))\n",
    "displ(\"q_r(h) = \" + latex(q_r))"
   ]
  },
  {
   "cell_type": "markdown",
   "id": "bcb123f6",
   "metadata": {},
   "source": [
    "для стационарного случая $\\frac{dT}{dt} = 0$ означает\n",
    "\n",
    "$$0 = \\Bigg(\\frac{dq_r(h)}{dh} + \\frac{2\\,q_r(h)}{\\operatorname{R}_{\\oplus} + h}\\Bigg)$$\n",
    "\n",
    "причем это равенство идентично хоть для сжимаемого идеального газа, хоть для несжимаемой жидкости. Подставляя выражение для плотности потока в данное равенства получаем уравнение"
   ]
  },
  {
   "cell_type": "code",
   "execution_count": 6,
   "id": "0dab73bd",
   "metadata": {},
   "outputs": [
    {
     "data": {
      "text/latex": [
       "$\\displaystyle \\kappa {\\left(\\frac{2 \\, G M M_{\\mathit{earth}}}{R {\\left(R_{\\mathit{earth}} + h\\right)}^{3} i} - \\frac{\\partial^{2}}{(\\partial h)^{2}}T\\left(h\\right)\\right)} - \\frac{2 \\, \\kappa {\\left(\\frac{G M M_{\\mathit{earth}}}{R {\\left(R_{\\mathit{earth}} + h\\right)}^{2} i} + \\frac{\\partial}{\\partial h}T\\left(h\\right)\\right)}}{R_{\\mathit{earth}} + h} = 0$"
      ],
      "text/plain": [
       "<IPython.core.display.Math object>"
      ]
     },
     "metadata": {},
     "output_type": "display_data"
    }
   ],
   "source": [
    "eq_r = diff(q_r, h) + 2*q_r/(R_earth+h) == 0\n",
    "disp(eq_r)"
   ]
  },
  {
   "cell_type": "markdown",
   "id": "f5890775",
   "metadata": {},
   "source": [
    "решаем полученное дифференциальное уравнение относительно температуры"
   ]
  },
  {
   "cell_type": "code",
   "execution_count": 7,
   "id": "52de1ab0",
   "metadata": {
    "scrolled": true
   },
   "outputs": [
    {
     "data": {
      "text/latex": [
       "$\\displaystyle T(h) = \\frac{K_{1} h}{R_{\\mathit{earth}} + h} + \\frac{K_{2}}{R_{\\mathit{earth}} + h}$"
      ],
      "text/plain": [
       "<IPython.core.display.Math object>"
      ]
     },
     "metadata": {},
     "output_type": "display_data"
    }
   ],
   "source": [
    "sol_T_h = desolve(eq_r, T, ivar=h, contrib_ode=True, show_method=True)\n",
    "T_h     = sol_T_h[0]\n",
    "displ(\"T(h) = \" + latex(T_h))"
   ]
  },
  {
   "cell_type": "markdown",
   "id": "243df252",
   "metadata": {},
   "source": [
    "Проверка, удовлетворяет ли решение дифференциальному уравнению"
   ]
  },
  {
   "cell_type": "code",
   "execution_count": 8,
   "id": "004b0460",
   "metadata": {
    "scrolled": true
   },
   "outputs": [
    {
     "data": {
      "text/latex": [
       "$\\displaystyle 2 \\, \\kappa {\\left(\\frac{K_{1}}{{\\left(R_{\\mathit{earth}} + h\\right)}^{2}} - \\frac{K_{1} h}{{\\left(R_{\\mathit{earth}} + h\\right)}^{3}} - \\frac{K_{2}}{{\\left(R_{\\mathit{earth}} + h\\right)}^{3}} + \\frac{G M M_{\\mathit{earth}}}{R {\\left(R_{\\mathit{earth}} + h\\right)}^{3} i}\\right)} - \\frac{2 \\, \\kappa {\\left(\\frac{K_{1}}{R_{\\mathit{earth}} + h} - \\frac{K_{1} h}{{\\left(R_{\\mathit{earth}} + h\\right)}^{2}} - \\frac{K_{2}}{{\\left(R_{\\mathit{earth}} + h\\right)}^{2}} + \\frac{G M M_{\\mathit{earth}}}{R {\\left(R_{\\mathit{earth}} + h\\right)}^{2} i}\\right)}}{R_{\\mathit{earth}} + h} = 0$"
      ],
      "text/plain": [
       "<IPython.core.display.Math object>"
      ]
     },
     "metadata": {},
     "output_type": "display_data"
    }
   ],
   "source": [
    "test_eq_r = eq_r.substitute_function(T == T_h)\n",
    "disp(test_eq_r)"
   ]
  },
  {
   "cell_type": "markdown",
   "id": "b6485836",
   "metadata": {},
   "source": [
    "Подставляя в данное решение дифференциального уравнения температуру у поверхности Земли, находим одну из констант интегрирования"
   ]
  },
  {
   "cell_type": "code",
   "execution_count": 9,
   "id": "8e6794e4",
   "metadata": {},
   "outputs": [
    {
     "data": {
      "text/latex": [
       "$\\displaystyle \\frac{K_{2}}{R_{\\mathit{earth}}} = T_{0}$"
      ],
      "text/plain": [
       "<IPython.core.display.Math object>"
      ]
     },
     "metadata": {},
     "output_type": "display_data"
    }
   ],
   "source": [
    "eq_T0 = T_h.subs(h == 0) == T_0\n",
    "disp(eq_T0)"
   ]
  },
  {
   "cell_type": "code",
   "execution_count": 10,
   "id": "58d8eb60",
   "metadata": {},
   "outputs": [
    {
     "data": {
      "text/latex": [
       "$\\displaystyle \\left[K_{2} = R_{\\mathit{earth}} T_{0}\\right]$"
      ],
      "text/plain": [
       "<IPython.core.display.Math object>"
      ]
     },
     "metadata": {},
     "output_type": "display_data"
    }
   ],
   "source": [
    "sol_K2 = solve(eq_T0, var(\"_K2\"))\n",
    "disp(sol_K2)"
   ]
  },
  {
   "cell_type": "code",
   "execution_count": 11,
   "id": "cb2ab74d",
   "metadata": {},
   "outputs": [
    {
     "data": {
      "text/latex": [
       "$\\displaystyle T(h) = \\frac{R_{\\mathit{earth}} T_{0}}{R_{\\mathit{earth}} + h} + \\frac{K_{1} h}{R_{\\mathit{earth}} + h}$"
      ],
      "text/plain": [
       "<IPython.core.display.Math object>"
      ]
     },
     "metadata": {},
     "output_type": "display_data"
    }
   ],
   "source": [
    "T_h_ = T_h.subs(sol_K2)\n",
    "displ(\"T(h) = \" + latex(T_h_))"
   ]
  },
  {
   "cell_type": "markdown",
   "id": "29fe31e0",
   "metadata": {},
   "source": [
    "дифференцируя решение по высоте находим производную  $\\frac{dT(h)}{dh}$"
   ]
  },
  {
   "cell_type": "code",
   "execution_count": 12,
   "id": "9b2c2cf7",
   "metadata": {
    "scrolled": false
   },
   "outputs": [
    {
     "data": {
      "text/latex": [
       "$\\displaystyle \\frac{dT(h)}{dh} = -\\frac{R_{\\mathit{earth}} T_{0}}{{\\left(R_{\\mathit{earth}} + h\\right)}^{2}} + \\frac{K_{1}}{R_{\\mathit{earth}} + h} - \\frac{K_{1} h}{{\\left(R_{\\mathit{earth}} + h\\right)}^{2}}$"
      ],
      "text/plain": [
       "<IPython.core.display.Math object>"
      ]
     },
     "metadata": {},
     "output_type": "display_data"
    }
   ],
   "source": [
    "dTdh = diff(T_h_, h)\n",
    "displ(\"\\\\frac{dT(h)}{dh} = \" + latex(dTdh))"
   ]
  },
  {
   "cell_type": "markdown",
   "id": "8d6d4425",
   "metadata": {},
   "source": [
    "Приравнивая полученную производную решения по высоте, например, сухоадиабатическому градиенту $\\frac{dT(h)}{dh} = -\\frac{M \\cdot {g(h)}}{C_p}$, находим вторую константу интегрирования $K_1$"
   ]
  },
  {
   "cell_type": "code",
   "execution_count": 13,
   "id": "beb8f114",
   "metadata": {},
   "outputs": [
    {
     "data": {
      "text/latex": [
       "$\\displaystyle -\\frac{R_{\\mathit{earth}} T_{0}}{{\\left(R_{\\mathit{earth}} + h\\right)}^{2}} + \\frac{K_{1}}{R_{\\mathit{earth}} + h} - \\frac{K_{1} h}{{\\left(R_{\\mathit{earth}} + h\\right)}^{2}} = -\\frac{G M M_{\\mathit{earth}}}{C_{p} {\\left(R_{\\mathit{earth}} + h\\right)}^{2}}$"
      ],
      "text/plain": [
       "<IPython.core.display.Math object>"
      ]
     },
     "metadata": {},
     "output_type": "display_data"
    }
   ],
   "source": [
    "eq_K1 = dTdh == - M * g_ / (C_p)\n",
    "disp(eq_K1)"
   ]
  },
  {
   "cell_type": "code",
   "execution_count": 14,
   "id": "1b2b77b0",
   "metadata": {},
   "outputs": [
    {
     "data": {
      "text/latex": [
       "$\\displaystyle \\left[K_{1} = -\\frac{G M M_{\\mathit{earth}} - C_{p} R_{\\mathit{earth}} T_{0}}{C_{p} R_{\\mathit{earth}}}\\right]$"
      ],
      "text/plain": [
       "<IPython.core.display.Math object>"
      ]
     },
     "metadata": {},
     "output_type": "display_data"
    }
   ],
   "source": [
    "sol_K1 = solve(eq_K1, var(\"_K1\"))\n",
    "disp(sol_K1)"
   ]
  },
  {
   "cell_type": "markdown",
   "id": "ceb7ac46",
   "metadata": {},
   "source": [
    "подставляя полученное выражение для константы $K_1$ в решение дифференциального уравнения для температуры, получаем зависимость температуры от высоты для спокойной атмосферы с учётом сухоадиабатического градиента"
   ]
  },
  {
   "cell_type": "code",
   "execution_count": 15,
   "id": "04f2e7a8",
   "metadata": {},
   "outputs": [
    {
     "data": {
      "text/latex": [
       "$\\displaystyle T(h) = \\frac{R_{\\mathit{earth}} T_{0}}{R_{\\mathit{earth}} + h} - \\frac{G M M_{\\mathit{earth}} h}{C_{p} {\\left(R_{\\mathit{earth}} + h\\right)} R_{\\mathit{earth}}} + \\frac{T_{0} h}{R_{\\mathit{earth}} + h}$"
      ],
      "text/plain": [
       "<IPython.core.display.Math object>"
      ]
     },
     "metadata": {},
     "output_type": "display_data"
    }
   ],
   "source": [
    "Th = T_h_.subs(sol_K1).expand()\n",
    "displ(\"T(h) = \" + latex(Th))"
   ]
  },
  {
   "cell_type": "markdown",
   "id": "567f58bc",
   "metadata": {},
   "source": [
    "подставляя полученную производную в формулу плотности потока тепловой энергии в поле гравитации\n",
    "\n",
    "$${q_r(h)}=-\\varkappa \\left( \\frac{dT(h)}{dh} + \\frac{M \\cdot {g(h)}}{C_v} \\right)$$\n",
    "\n",
    "находим оную как "
   ]
  },
  {
   "cell_type": "code",
   "execution_count": 77,
   "id": "95c5b805",
   "metadata": {},
   "outputs": [
    {
     "data": {
      "text/latex": [
       "$\\displaystyle \\kappa {\\left(\\frac{G M M_{\\mathit{earth}}}{C_{p} {\\left(R_{\\mathit{earth}} + h\\right)} R_{\\mathit{earth}}} - \\frac{T_{0}}{R_{\\mathit{earth}} + h} + \\frac{R_{\\mathit{earth}} T_{0}}{{\\left(R_{\\mathit{earth}} + h\\right)}^{2}} - \\frac{G M M_{\\mathit{earth}} h}{C_{p} {\\left(R_{\\mathit{earth}} + h\\right)}^{2} R_{\\mathit{earth}}} + \\frac{T_{0} h}{{\\left(R_{\\mathit{earth}} + h\\right)}^{2}} - \\frac{G M M_{\\mathit{earth}}}{R {\\left(R_{\\mathit{earth}} + h\\right)}^{2} i}\\right)}$"
      ],
      "text/plain": [
       "<IPython.core.display.Math object>"
      ]
     },
     "metadata": {},
     "output_type": "display_data"
    }
   ],
   "source": [
    "q_r = - kappa * (diff(Th, h) + M * g_ / (i * R))\n",
    "disp(q_r)"
   ]
  },
  {
   "cell_type": "markdown",
   "id": "ff7a5da6",
   "metadata": {},
   "source": [
    "Применим теперь также и барометрическую формулу\n",
    "\n",
    "$${\\displaystyle {\\frac {dn}{dh}} = -\\,n\\,{\\frac {M\\,g(h)}{R\\,T(h)}}}$$"
   ]
  },
  {
   "cell_type": "markdown",
   "id": "bb8b70a2",
   "metadata": {},
   "source": [
    "проинтегрировав ее методом разделения переменных\n",
    "\n",
    "$$\\int{\\displaystyle {\\frac {dn}{n}} = -\\int\\,{\\frac {M\\,g(h)}{R\\,T(h)}}}\\,dh + K$$"
   ]
  },
  {
   "cell_type": "markdown",
   "id": "58f55a0b",
   "metadata": {},
   "source": [
    "$$ln\\left({n}\\right) = -\\int\\,{\\frac {M\\,g(h)}{R\\,T(h)}}\\,dh + K$$"
   ]
  },
  {
   "cell_type": "markdown",
   "id": "7a1485ff",
   "metadata": {},
   "source": [
    "$$n(H) = n_0 exp\\left(-\\int\\limits_{0}^{H}{\\frac {M\\,g(h)}{R\\,T(h)}}\\,dh\\right)$$"
   ]
  },
  {
   "cell_type": "markdown",
   "id": "a027ce08",
   "metadata": {},
   "source": [
    "рассмотрим интегранд в правой части\n",
    "\n",
    "$$\\frac {M\\,g(h)}{R\\,T(h)}$$"
   ]
  },
  {
   "cell_type": "code",
   "execution_count": 60,
   "id": "581431dc",
   "metadata": {},
   "outputs": [
    {
     "data": {
      "text/latex": [
       "$\\displaystyle \\frac {M\\,g(h)}{R\\,T(h)} = \\frac{G M M_{\\mathit{earth}}}{R {\\left(R_{\\mathit{earth}} + h\\right)}^{2} {\\left(\\frac{R_{\\mathit{earth}} T_{0}}{R_{\\mathit{earth}} + h} - \\frac{G M M_{\\mathit{earth}} h}{C_{p} {\\left(R_{\\mathit{earth}} + h\\right)} R_{\\mathit{earth}}} + \\frac{T_{0} h}{R_{\\mathit{earth}} + h}\\right)}}$"
      ],
      "text/plain": [
       "<IPython.core.display.Math object>"
      ]
     },
     "metadata": {},
     "output_type": "display_data"
    }
   ],
   "source": [
    "Mg_RT = M * g_ / (R * Th)\n",
    "displ(\"\\\\frac {M\\\\,g(h)}{R\\\\,T(h)} =\" + latex(Mg_RT))"
   ]
  },
  {
   "cell_type": "markdown",
   "id": "701f0038",
   "metadata": {},
   "source": [
    "проинтегрировав его"
   ]
  },
  {
   "cell_type": "code",
   "execution_count": 34,
   "id": "a5fe7487",
   "metadata": {},
   "outputs": [
    {
     "data": {
      "text/latex": [
       "$\\displaystyle \\int\\,{\\frac {M\\,g(h)}{R\\,T(h)}}dh = -\\frac{G M M_{\\mathit{earth}} {\\left(\\frac{C_{p} \\log\\left(C_{p} R_{\\mathit{earth}}^{2} T_{0} - {\\left(G M M_{\\mathit{earth}} - C_{p} R_{\\mathit{earth}} T_{0}\\right)} h\\right)}{G M M_{\\mathit{earth}}} - \\frac{C_{p} \\log\\left(R_{\\mathit{earth}} + h\\right)}{G M M_{\\mathit{earth}}}\\right)}}{R}$"
      ],
      "text/plain": [
       "<IPython.core.display.Math object>"
      ]
     },
     "metadata": {},
     "output_type": "display_data"
    }
   ],
   "source": [
    "Mg_RT_int_h = Mg_RT.integrate(h)\n",
    "displ(\"\\\\int\\\\,{\\\\frac {M\\\\,g(h)}{R\\\\,T(h)}}dh =\" + latex(Mg_RT_int_h))"
   ]
  },
  {
   "cell_type": "markdown",
   "id": "ee0abfdb",
   "metadata": {},
   "source": [
    "находим следующую зависимость концентрации воздуха от высоты"
   ]
  },
  {
   "cell_type": "code",
   "execution_count": 67,
   "id": "3759070b",
   "metadata": {},
   "outputs": [
    {
     "data": {
      "text/latex": [
       "$\\displaystyle n(h) = n_{0} e^{\\left(\\frac{G M M_{\\mathit{earth}} {\\left(\\frac{C_{p} \\log\\left(C_{p} R_{\\mathit{earth}}^{2} T_{0} - {\\left(G M M_{\\mathit{earth}} - C_{p} R_{\\mathit{earth}} T_{0}\\right)} h\\right)}{G M M_{\\mathit{earth}}} - \\frac{C_{p} \\log\\left(R_{\\mathit{earth}} + h\\right)}{G M M_{\\mathit{earth}}}\\right)}}{R} - \\frac{G M M_{\\mathit{earth}} {\\left(\\frac{C_{p} \\log\\left(C_{p} R_{\\mathit{earth}}^{2} T_{0}\\right)}{G M M_{\\mathit{earth}}} - \\frac{C_{p} \\log\\left(R_{\\mathit{earth}}\\right)}{G M M_{\\mathit{earth}}}\\right)}}{R}\\right)}$"
      ],
      "text/plain": [
       "<IPython.core.display.Math object>"
      ]
     },
     "metadata": {},
     "output_type": "display_data"
    }
   ],
   "source": [
    "nh = n_0 * exp(Mg_RT_int_h.subs(h == 0)-Mg_RT_int_h)\n",
    "displ(\"n(h) =\" + latex(nh))"
   ]
  },
  {
   "cell_type": "code",
   "execution_count": 78,
   "id": "ab35b1e5",
   "metadata": {},
   "outputs": [],
   "source": [
    "values = [\n",
    "    R_earth == 6378140,\n",
    "    M_earth == 5.9722* 10^24,\n",
    "    G == 6.6743015 * 10^-11,\n",
    "    T_0 == 273,\n",
    "    n_0 == 1,\n",
    "    R == 8.314,\n",
    "    C_p == 5/2 * 8.314,\n",
    "]\n",
    "\n",
    "#    M == 0.029,"
   ]
  },
  {
   "cell_type": "code",
   "execution_count": 79,
   "id": "b1299028",
   "metadata": {},
   "outputs": [
    {
     "data": {
      "text/latex": [
       "$\\displaystyle -\\frac{3.00674147175533 \\times 10^{6} \\, M h}{h + 6378140} + \\frac{273 \\, h}{h + 6378140} + \\frac{1741232220}{h + 6378140}$"
      ],
      "text/plain": [
       "<IPython.core.display.Math object>"
      ]
     },
     "metadata": {},
     "output_type": "display_data"
    }
   ],
   "source": [
    "disp(Th.subs(values))"
   ]
  },
  {
   "cell_type": "code",
   "execution_count": 80,
   "id": "3c537fc0",
   "metadata": {},
   "outputs": [
    {
     "data": {
      "text/latex": [
       "$\\displaystyle e^{\\left(-4.79435451266538 \\times 10^{13} \\, M {\\left(-\\frac{\\left(5.21446629237717 \\times 10^{-14}\\right) \\, \\log\\left(6378140\\right)}{M} + \\frac{2.08476852388595 \\times 10^{-12}}{M}\\right)} + 4.79435451266538 \\times 10^{13} \\, M {\\left(\\frac{\\left(5.21446629237717 \\times 10^{-14}\\right) \\, \\log\\left(-{\\left(3.98602634183000 \\times 10^{14} \\, M - 3.61915116927000 \\times 10^{10}\\right)} h + 2.30834528387678 \\times 10^{17}\\right)}{M} - \\frac{\\left(5.21446629237717 \\times 10^{-14}\\right) \\, \\log\\left(h + 6378140\\right)}{M}\\right)}\\right)}$"
      ],
      "text/plain": [
       "<IPython.core.display.Math object>"
      ]
     },
     "metadata": {},
     "output_type": "display_data"
    }
   ],
   "source": [
    "disp(nh.subs(values))"
   ]
  },
  {
   "cell_type": "code",
   "execution_count": 81,
   "id": "aa43a812",
   "metadata": {},
   "outputs": [
    {
     "data": {
      "text/latex": [
       "$\\displaystyle 1.00000000000000$"
      ],
      "text/plain": [
       "<IPython.core.display.Math object>"
      ]
     },
     "metadata": {},
     "output_type": "display_data"
    }
   ],
   "source": [
    "disp(nh.subs(values).subs(h == 0).n())"
   ]
  },
  {
   "cell_type": "code",
   "execution_count": 83,
   "id": "4d0d224d",
   "metadata": {},
   "outputs": [
    {
     "data": {
      "text/latex": [
       "$\\displaystyle 0.176789915203839$"
      ],
      "text/plain": [
       "<IPython.core.display.Math object>"
      ]
     },
     "metadata": {},
     "output_type": "display_data"
    }
   ],
   "source": [
    "disp(nh.subs(values).subs(h == 10000, M == 0.029).n())"
   ]
  },
  {
   "cell_type": "code",
   "execution_count": 84,
   "id": "ec2379a4",
   "metadata": {},
   "outputs": [
    {
     "data": {
      "image/png": "[encoded data removed]",
      "text/plain": [
       "Graphics object consisting of 1 graphics primitive"
      ]
     },
     "execution_count": 84,
     "metadata": {},
     "output_type": "execute_result"
    }
   ],
   "source": [
    "plot(Th.subs(values, M == 0.029), h, 0, 10000)"
   ]
  },
  {
   "cell_type": "code",
   "execution_count": 85,
   "id": "3ad863a8",
   "metadata": {},
   "outputs": [
    {
     "data": {
      "image/png": "[encoded data removed]",
      "text/plain": [
       "Graphics object consisting of 1 graphics primitive"
      ]
     },
     "execution_count": 85,
     "metadata": {},
     "output_type": "execute_result"
    }
   ],
   "source": [
    "plot(nh.subs(values, M == 0.029), h, 0, 10000)"
   ]
  },
  {
   "cell_type": "markdown",
   "id": "f30c958e",
   "metadata": {},
   "source": [
    "# Двухкомпонентная атмосфера"
   ]
  },
  {
   "cell_type": "markdown",
   "id": "8327167b",
   "metadata": {},
   "source": [
    "нахождение точного решения для двухкомпонентной атмосферы является весьма сложной задачей. В качестве упрощающего предположения сделаем предположение об аддитивности свойств газовой смеси.\n",
    "\n",
    "длина и время свободного пробега будут неодинаковы, и соответственно неодинакова средняя скорость молекул. Пусть теперь $\\lambda_z$ - это величина сопоставимая с длиной свободного пробега суть размер расчётного слоя. А $\\tau_{A_0}$ и $\\tau_{B_0}$ это время, необходимое молекулам первого или второго сорта преодолеть толщину расчётного слоя со скоростью равной средней тепловой скорости моллекул данного сорта"
   ]
  },
  {
   "cell_type": "markdown",
   "id": "5f321eba",
   "metadata": {},
   "source": [
    "Обозначим как $Q$ то количество теплоты которое самопроизвольно за время свободного пробега передаётся от \"верхнего\" $j+1$-го слоя с температурой $T_{j+1}$ к \"нижнему\" $j$-му слою  с температурой $T_{j}$ с помощью молекул имеющих вектор движения направленный вниз\n",
    "\n",
    "$$Q_A + W_A = U_{A_{j}} - U_{A_{j+1}}$$\n",
    "\n",
    "$$Q_B + W_B = U_{B_{j}} - U_{B_{j+1}}$$"
   ]
  },
  {
   "cell_type": "markdown",
   "id": "8b1e232c",
   "metadata": {},
   "source": [
    "\n",
    "\n",
    "Подставляя в эту формулу перенос за время свободного пробега энергии теплового движения из верхнего слоя в нижний\n",
    "\n",
    "$U_{A_{j+1}} = \\frac{1}{6}n_A\\lambda_z S \\cdot i_A \\cdot k \\cdot T_{j+1} $\n",
    "\n",
    "$U_{B_{j+1}} = \\frac{1}{6}n_B\\lambda_z S \\cdot i_B \\cdot k \\cdot T_{j+1} $\n",
    "\n",
    "(множитель $\\frac{1}{6}$ учитывает тот факт, что только одна шестая всех молекул движется вниз)\n",
    "\n",
    "а также перенос за время свободного пробега потенциальной энегрии из верхнего слоя в нижний потенциальной энергии\n",
    "\n",
    "$W_A =  \\frac{1}{6}n_A \\cdot m_A \\cdot g \\cdot {\\lambda_z}^2 S$,\n",
    "\n",
    "$W_B =  \\frac{1}{6}n_B \\cdot m_B \\cdot g \\cdot {\\lambda_z}^2 S$,\n",
    "\n",
    "учитывая также тепловую энергию ушедшую в том же направлении (вниз) за то  же время в $j$ - м нижнем слое\n",
    "\n",
    "$U_{A_{j}} = \\frac{1}{6}n_A\\lambda_z S \\cdot i_A \\cdot k \\cdot T_{j} $\n",
    "\n",
    "$U_{B_{j}} = \\frac{1}{6}n_B\\lambda_z S \\cdot i_B \\cdot k \\cdot T_{j} $ \n",
    "\n",
    "получаем\n",
    "\n",
    "\n",
    "\n",
    "\n",
    "$$\\frac{Q_A}{S} = \\frac{1}{6}n_A{\\lambda}_z \\cdot i_A \\cdot k \\cdot (T_{j} - T_{j+1}) - \\frac{1}{6}n_A \\cdot m_A \\cdot g \\cdot {{\\lambda}_z}^2$$\n",
    "\n",
    "$$\\frac{Q_B}{S} = \\frac{1}{6}n_B{\\lambda}_z \\cdot i_B \\cdot k \\cdot (T_{j} - T_{j+1}) - \\frac{1}{6}n \\cdot m \\cdot g \\cdot {{\\lambda}_z}^2$$\n",
    "\n",
    "\n",
    "$$\\frac{Q_A}{S} = \\frac{1}{6}n_A{{\\lambda}_z}^2 \\cdot i_A \\cdot k \\cdot \\frac{T_{j} - T_{j+1}}{{\\lambda}_z} - \\frac{1}{6}n_A \\cdot m_A \\cdot g \\cdot {{\\lambda}_z}^2$$\n",
    "\n",
    "$$\\frac{Q_B}{S} = \\frac{1}{6}n_B{{\\lambda}_z}^2 \\cdot i_B \\cdot k \\cdot \\frac{T_{j} - T_{j+1}}{{\\lambda}_z} - \\frac{1}{6}n_B \\cdot m_B \\cdot g \\cdot {{\\lambda}_z}^2$$\n",
    "\n",
    "\n",
    "$$\\frac{Q_A}{S} = \\frac{1}{6}n_A{{\\lambda}_z}^2 \\cdot i_A \\cdot k \\cdot \\left(\\frac{T_{j} - T_{j+1}}{{\\lambda}_z} - \\frac{ m_A \\cdot g}{i_A \\cdot k}  \\right)$$\n",
    "\n",
    "$$\\frac{Q}{S} = \\frac{1}{6}n_B{{\\lambda}_z}^2 \\cdot i \\cdot k \\cdot \\left(\\frac{T_{j} - T_{j+1}}{{\\lambda}_z} - \\frac{ m_B \\cdot g}{i_B \\cdot k}  \\right)$$\n",
    "\n",
    "\n",
    "$$\\frac{Q_A}{\\tau_{A_0}\\,S} = \\frac{1}{6}n_A{{\\lambda}_z} \\cdot i_A \\cdot k \\frac{{\\lambda}_z}{\\tau_{A_0}}\\cdot \\left(\\frac{T_{j} - T_{j+1}}{{\\lambda}_z} - \\frac{ m_A \\cdot g}{i_A \\cdot k}  \\right)$$\n",
    "\n",
    "$$\\frac{Q_B}{\\tau_0\\,S} = \\frac{1}{6}n_B{{\\lambda}_z} \\cdot i_B \\cdot k \\frac{{\\lambda}_z}{\\tau_0}\\cdot \\left(\\frac{T_{j} - T_{j+1}}{{\\lambda}_z} - \\frac{ m_B \\cdot g}{i_B \\cdot k}  \\right)$$\n",
    "\n",
    "\n",
    "Учитывая что $\\bar {v} = \\frac{{\\lambda}_z}{\\tau_0}$ - есть средняя скорость теплового движения молекул, \n",
    "\n",
    "$$\\frac{Q_A}{\\tau_{A_0}\\,S} = - \\frac{1}{6}n_A{{\\lambda}_z} \\cdot i_A \\cdot k \\, \\bar {v_A} \\cdot \\left(\\frac{T_{j+1} - T_{j}}{{\\lambda}_z} + \\frac{ m_A \\cdot g}{i_A \\cdot k} \\right)$$\n",
    "\n",
    "$$\\frac{Q_B}{\\tau_{B_0}\\,S} = - \\frac{1}{6}n_B{{\\lambda}_z} \\cdot i_B \\cdot k \\, \\bar {v_B} \\cdot \\left(\\frac{T_{j+1} - T_{j}}{{\\lambda}_z} + \\frac{ m_B \\cdot g}{i_B \\cdot k} \\right)$$\n",
    "\n",
    "Учитывая также формулу для коэффициента теплопроводности из кинетической теории газов ${\\displaystyle \\varkappa \\sim {\\frac {1}{3}}\\rho c_{v}\\lambda {\\bar {v}},}$ в формулах ниже коэффициент перед скобками будет являться парциальной теплопроводностью или произведением теплопроводности на долю $r_A$, $r_B$ компонента в смеси\n",
    "\n",
    "\n",
    "\n",
    "$$\\frac{Q_A}{\\tau_{A_0}\\,S} = - \\frac{1}{2}\\displaystyle \\varkappa_A r_A \\cdot \\left(\\frac{T_{j+1} - T_{j}}{{\\lambda}_z} + \\frac{ m_A \\cdot g}{i_A \\cdot k}  \\right)$$\n",
    "\n",
    "$$\\frac{Q_B}{\\tau_{B_0}\\,S} = - \\frac{1}{2}\\displaystyle \\varkappa_B r_B\\cdot \\left(\\frac{T_{j+1} - T_{j}}{{\\lambda}_z} + \\frac{ m_B \\cdot g}{i_B \\cdot k}  \\right)$$\n"
   ]
  },
  {
   "cell_type": "markdown",
   "id": "fccf3463",
   "metadata": {},
   "source": [
    "итак, плотность теплового потока в присутствие гравитации: \n",
    "\n",
    "$$q_{A_z} = - \\varkappa_A r_A \\left( \\frac{dT}{dz} + \\frac{M_A \\cdot {g}}{C_{v_A}} \\right)$$\n",
    "\n",
    "\n",
    "$$q_{B_z} = - \\varkappa_B r_B \\left( \\frac{dT}{dz} + \\frac{M_B \\cdot {g}}{C_{v_B}} \\right)$$\n",
    "\n",
    "$$q_z = q_{A_z} + q_{B_z}$$"
   ]
  },
  {
   "cell_type": "markdown",
   "id": "968090ec",
   "metadata": {},
   "source": [
    "Но это только лишь часть теплового потока в присутствии гравитации в двухкомпонентной атмосфере. В двухкомпонентной атмосфере нужно учитывать также тепловой поток возникающий благодаря\n",
    "\n",
    "# эффекту Дюфура\n",
    "\n",
    "вследствии существования устойчивого градиента концентраций компонента газовой смеси. Данный эффект обратен эффекту термодиффузии (эффекту Соре).\n",
    "\n",
    "$\\displaystyle {q}_{D''}=-\\rho _{1}T\\mu _{11}^{c}D''\\nabla c_{1}.$\n",
    "\n",
    "\n",
    "\n",
    "Здесь ${\\displaystyle D''}$ коэффициент Дюфура, ${\\displaystyle \\rho _{1}}$ — плотность первого компонента, \n",
    "\n",
    "${\\displaystyle \\mu _{11}^{c}=\\left({\\frac {d\\mu _{1}}{dc_{1}}}\\right)_{T}}$\n",
    "\n",
    "${\\displaystyle \\mu _{1}}$ химический потенциал первого компонента.\n",
    "\n",
    "   Поява похідної хімпотенціалу по концентрації пов'язана з тим, що в лінейних співвідношеннях Онсагера термодинамічні сили пропорційні градієнтам хімпотенциалів. \n",
    "    \n",
    "    \n",
    "   Величину ${\\displaystyle \\rho _{1}T\\mu _{11}^{c}D''}$ називають коефіцієнтом дифузійного термоефекту. \n",
    "\n",
    "\n",
    "\n",
    "Согласно теореме Онсагера, коэффициенты Дюфура и термодиффузии равны: \n",
    "${\\displaystyle D''=D'}$ (соотношения Онсагера).\n"
   ]
  },
  {
   "cell_type": "markdown",
   "id": "2e5316c1",
   "metadata": {},
   "source": [
    "согласно \n",
    "\n",
    "https://material.phys.knu.ua/downloads/Physics_of_non-equilibrium_open_systems_Part_1.pdf\n",
    "\n",
    "формула 5.13 тепловой поток в эффекте Дюфура равен\n",
    "\n",
    "$\\displaystyle {q}_{D''}=-L_{q1}\\mu _{11}^{c}\\frac{\\nabla c_{1}}{Tc_2}.$"
   ]
  },
  {
   "cell_type": "code",
   "execution_count": 96,
   "id": "e002a80a",
   "metadata": {},
   "outputs": [
    {
     "data": {
      "image/png": "[encoded data removed]",
      "text/plain": [
       "Graphics object consisting of 2 graphics primitives"
      ]
     },
     "execution_count": 96,
     "metadata": {},
     "output_type": "execute_result"
    }
   ],
   "source": [
    "# график зависимости концентрации от высоты\n",
    "# для двухкомпонентной атмосферы из азота и кислорода\n",
    "plot([0.8*nh.subs(values, M == 0.028), # азот\n",
    "      0.2*nh.subs(values, M == 0.032)  # кислород\n",
    "     ], h, 0, 12000)"
   ]
  },
  {
   "cell_type": "code",
   "execution_count": 112,
   "id": "c1f7d40a",
   "metadata": {},
   "outputs": [
    {
     "data": {
      "image/png": "[encoded data removed]",
      "text/plain": [
       "Graphics object consisting of 2 graphics primitives"
      ]
     },
     "execution_count": 112,
     "metadata": {},
     "output_type": "execute_result"
    }
   ],
   "source": [
    "# график зависимости \n",
    "# отношения $\\frac{\\nabla c_{1}}{c_2}$ градиента концентрации\n",
    "# первого компонента к концентрации второго компонента\n",
    "# от высоты\n",
    "# для двухкомпонентной атмосферы из азота и кислорода\n",
    "plot([(0.8*nh.subs(values, M == 0.028).diff(h))/(0.2*nh.subs(values, M == 0.032)), # азот\n",
    "      (0.2*nh.subs(values, M == 0.032).diff(h))/(0.8*nh.subs(values, M == 0.028))  # кислород\n",
    "     ], h, 0, 17000)"
   ]
  },
  {
   "cell_type": "code",
   "execution_count": 97,
   "id": "d53497d3",
   "metadata": {},
   "outputs": [
    {
     "data": {
      "image/png": "[encoded data removed]",
      "text/plain": [
       "Graphics object consisting of 2 graphics primitives"
      ]
     },
     "execution_count": 97,
     "metadata": {},
     "output_type": "execute_result"
    }
   ],
   "source": [
    "# график зависимости концентрации от высоты\n",
    "# для двухкомпонентной атмосферы из \"воздуха\" (смесь азота и кислорода) и углекислого газа\n",
    "plot([0.99*nh.subs(values, M == 0.029), # воздух\n",
    "      0.01*nh.subs(values, M == 0.044)  # углекислого газ\n",
    "     ], h, 0, 12000)"
   ]
  },
  {
   "cell_type": "code",
   "execution_count": 108,
   "id": "72d803e2",
   "metadata": {},
   "outputs": [
    {
     "data": {
      "image/png": "[encoded data removed]",
      "text/plain": [
       "Graphics object consisting of 2 graphics primitives"
      ]
     },
     "execution_count": 108,
     "metadata": {},
     "output_type": "execute_result"
    }
   ],
   "source": [
    "# график зависимости \n",
    "# отношения $\\frac{\\nabla c_{1}}{c_2}$ градиента концентрации\n",
    "# первого компонента к концентрации второго компонента\n",
    "# от высоты\n",
    "# для двухкомпонентной атмосферы из \"воздуха\" (смесь азота и кислорода) и углекислого газа\n",
    "\n",
    "nCO2 = 0.005\n",
    "\n",
    "plot([((1-nCO2)*nh.subs(values, M == 0.029).diff(h))/(nCO2*nh.subs(values, M == 0.044)), # воздух\n",
    "      (nCO2*nh.subs(values, M == 0.044).diff(h))/((1-nCO2)*nh.subs(values, M == 0.029))  # углекислого газ\n",
    "     ], h, 0, 12000)"
   ]
  },
  {
   "cell_type": "code",
   "execution_count": 105,
   "id": "56927cd0",
   "metadata": {},
   "outputs": [
    {
     "data": {
      "image/png": "[encoded data removed]",
      "text/plain": [
       "Graphics object consisting of 2 graphics primitives"
      ]
     },
     "execution_count": 105,
     "metadata": {},
     "output_type": "execute_result"
    }
   ],
   "source": [
    "# график зависимости \n",
    "# отношения $\\frac{\\nabla c_{1}}{c_2}$ градиента концентрации\n",
    "# первого компонента к концентрации второго компонента\n",
    "# от высоты\n",
    "# для двухкомпонентной атмосферы из \"воздуха\" (смесь азота и кислорода) и углекислого газа\n",
    "\n",
    "nCO2 = 0.01\n",
    "\n",
    "plot([((1-nCO2)*nh.subs(values, M == 0.029).diff(h))/(nCO2*nh.subs(values, M == 0.044)), # воздух\n",
    "      (nCO2*nh.subs(values, M == 0.044).diff(h))/((1-nCO2)*nh.subs(values, M == 0.029))  # углекислого газ\n",
    "     ], h, 0, 12000)"
   ]
  },
  {
   "cell_type": "code",
   "execution_count": 109,
   "id": "3a02a646",
   "metadata": {},
   "outputs": [
    {
     "data": {
      "image/png": "[encoded data removed]",
      "text/plain": [
       "Graphics object consisting of 2 graphics primitives"
      ]
     },
     "execution_count": 109,
     "metadata": {},
     "output_type": "execute_result"
    }
   ],
   "source": [
    "# график зависимости \n",
    "# отношения $\\frac{\\nabla c_{1}}{c_2}$ градиента концентрации\n",
    "# первого компонента к концентрации второго компонента\n",
    "# от высоты\n",
    "# для двухкомпонентной атмосферы из \"воздуха\" (смесь азота и кислорода) и углекислого газа\n",
    "\n",
    "nCO2 = 0.015\n",
    "\n",
    "plot([((1-nCO2)*nh.subs(values, M == 0.029).diff(h))/(nCO2*nh.subs(values, M == 0.044)), # воздух\n",
    "      (nCO2*nh.subs(values, M == 0.044).diff(h))/((1-nCO2)*nh.subs(values, M == 0.029))  # углекислого газ\n",
    "     ], h, 0, 12000)"
   ]
  },
  {
   "cell_type": "markdown",
   "id": "7106d961",
   "metadata": {},
   "source": [
    "Для двухкомпонентной системы углекислый газ - воздух (азот+кислород) отношение $\\frac{\\nabla c_{1}}{c_2}$ градиента концентрации первого компонента (воздуха = азот+кислород) к концентрации второго компонента (углекислого газа) имеет резкий рост по амплитуде на высотах 11-12 километров, имея при этом отрицательный знак.\n",
    "\n",
    "Эта величина играет ключевую роль в определении величины теплового потока в эффекте Дюфура по формуле 5.13. \n",
    "\n",
    "Если окажется, что величина $L_{q1}\\mu _{11}^{c}$ имеет положительный знак, то тепловой поток эффекта Дюфура будет иметь положительный знак, то есть направлен вверх. Данный тепловой поток является опосредованно (через барометрическую формулу и ее влияние на создание градиента концентраций) также гравииндуцированным.\n",
    "\n",
    "Вероятно существует некоторая граничная высота, для которой суммарный гравииндуцированный тепловой поток в многокомпонентной атмосфере меняет знак. А именно на низких высотах суммарный гравииндуцированный тепловой поток направлен вниз из-за малости влияния эффекта Дюфура на этих высотах. А на более высоких высотах преобладает уже тепловой поток эффекта Дюфура\n",
    "\n",
    "Эта гипотеза требует проверки. Для проверки необходимо знание коэффициентов $L_{q1}\\mu _{11}^{c}$.\n",
    "\n",
    "Но можно вспомнить о минимуме температуры атмосферы на высотах от 10 до 20 километров, как вероятный аргумент подтверждения изложенной гипотезы"
   ]
  },
  {
   "cell_type": "markdown",
   "id": "b3919957",
   "metadata": {},
   "source": [
    "# References\n",
    "\n",
    "V.S. Vasilenko, A.A. Malgota (2017) On the Nature of Ideal Gas Temperature Gradient in Gravitational Field https://vixra.org/abs/1710.0260\n",
    "\n",
    "Polihronov JG, Straatman AG. Thermodynamics of angular propulsion in fluids. Phys Rev Lett. 2012 Aug 3;109(5):054504. doi: 10.1103/PhysRevLett.109.054504. Epub 2012 Aug 1. PMID: 23006180."
   ]
  },
  {
   "cell_type": "code",
   "execution_count": null,
   "id": "4b98fabb",
   "metadata": {},
   "outputs": [],
   "source": []
  },
  {
   "cell_type": "code",
   "execution_count": null,
   "id": "f437f597",
   "metadata": {},
   "outputs": [],
   "source": []
  },
  {
   "cell_type": "code",
   "execution_count": null,
   "id": "946e2e47",
   "metadata": {},
   "outputs": [],
   "source": []
  },
  {
   "cell_type": "code",
   "execution_count": null,
   "id": "0e3c0897",
   "metadata": {},
   "outputs": [],
   "source": []
  },
  {
   "cell_type": "code",
   "execution_count": null,
   "id": "44ea5fe1",
   "metadata": {},
   "outputs": [],
   "source": []
  },
  {
   "cell_type": "code",
   "execution_count": null,
   "id": "601162ae",
   "metadata": {},
   "outputs": [],
   "source": []
  },
  {
   "cell_type": "code",
   "execution_count": null,
   "id": "bc7fdf4b",
   "metadata": {},
   "outputs": [],
   "source": []
  },
  {
   "cell_type": "code",
   "execution_count": null,
   "id": "a28a5243",
   "metadata": {},
   "outputs": [],
   "source": []
  },
  {
   "cell_type": "code",
   "execution_count": null,
   "id": "4ecf1b13",
   "metadata": {},
   "outputs": [],
   "source": []
  },
  {
   "cell_type": "code",
   "execution_count": null,
   "id": "6a023924",
   "metadata": {},
   "outputs": [],
   "source": []
  },
  {
   "cell_type": "code",
   "execution_count": null,
   "id": "5d3c01fa",
   "metadata": {},
   "outputs": [],
   "source": []
  },
  {
   "cell_type": "code",
   "execution_count": null,
   "id": "daaaad45",
   "metadata": {},
   "outputs": [],
   "source": []
  },
  {
   "cell_type": "code",
   "execution_count": null,
   "id": "f4f80746",
   "metadata": {},
   "outputs": [],
   "source": []
  },
  {
   "cell_type": "code",
   "execution_count": null,
   "id": "b409f41b",
   "metadata": {},
   "outputs": [],
   "source": []
  },
  {
   "cell_type": "code",
   "execution_count": null,
   "id": "fe2eef28",
   "metadata": {},
   "outputs": [],
   "source": []
  },
  {
   "cell_type": "code",
   "execution_count": null,
   "id": "374f58c6",
   "metadata": {},
   "outputs": [],
   "source": []
  },
  {
   "cell_type": "code",
   "execution_count": null,
   "id": "771e31db",
   "metadata": {},
   "outputs": [],
   "source": []
  },
  {
   "cell_type": "code",
   "execution_count": null,
   "id": "33805e08",
   "metadata": {},
   "outputs": [],
   "source": []
  },
  {
   "cell_type": "code",
   "execution_count": null,
   "id": "bc630bcb",
   "metadata": {},
   "outputs": [],
   "source": []
  },
  {
   "cell_type": "code",
   "execution_count": null,
   "id": "d716501e",
   "metadata": {},
   "outputs": [],
   "source": []
  },
  {
   "cell_type": "markdown",
   "id": "35e7f57c",
   "metadata": {},
   "source": [
    "# Максимальная разность температур. Стационарный случай "
   ]
  },
  {
   "cell_type": "markdown",
   "id": "e59e8323",
   "metadata": {},
   "source": [
    "Разность температур можно оценить как интеграл\n",
    "\n",
    "$$\\Delta\\,T = \\int_{h_1}^{h_2}\\frac{dT}{dh}\\,dh = \\int_{h_1}^{h_2}\\frac{M \\cdot {g(h)}}{C}\\,dh$$"
   ]
  },
  {
   "cell_type": "code",
   "execution_count": 21,
   "id": "38a9759e",
   "metadata": {},
   "outputs": [
    {
     "data": {
      "text/latex": [
       "$\\displaystyle \\frac{G M M_{\\mathit{earth}}}{R {\\left(R_{\\mathit{earth}} + h\\right)}^{2} i}$"
      ],
      "text/plain": [
       "<IPython.core.display.Math object>"
      ]
     },
     "metadata": {},
     "output_type": "display_data"
    }
   ],
   "source": [
    "disp((M * g_ / (i * R)))"
   ]
  },
  {
   "cell_type": "code",
   "execution_count": 22,
   "id": "e1d6bca8",
   "metadata": {},
   "outputs": [
    {
     "data": {
      "text/latex": [
       "$\\displaystyle \\frac{G M M_{\\mathit{earth}}}{R {\\left(R_{\\mathit{earth}} + h\\right)} i}$"
      ],
      "text/plain": [
       "<IPython.core.display.Math object>"
      ]
     },
     "metadata": {},
     "output_type": "display_data"
    }
   ],
   "source": [
    "disp((-M * g_ / (i * R)).integrate(h))"
   ]
  },
  {
   "cell_type": "markdown",
   "id": "f66ae4bd",
   "metadata": {},
   "source": [
    "$$\\Delta\\,T = \\int_{h_1}^{h_2}\\frac{dT}{dh}\\,dh = \\int_{h_1}^{h_2}-\\frac{M \\cdot {g(h)}}{C}\\,dh = \\frac{G\\operatorname{M}_{\\oplus}\\, M}{C(\\operatorname{R}_{\\oplus}+h)}\\,\\bigg\\vert_{\\,h_1}^{\\,h_2}$$"
   ]
  },
  {
   "cell_type": "markdown",
   "id": "c6391e50",
   "metadata": {},
   "source": [
    "Теплоёмкость идеального газа $c_v=\\frac{i}{2}R$, $c_p=\\frac{i+2}{2}R$. Таким образом при установлении сухоадиабатического градиента разность температур составит\n",
    "\n",
    "$$\\Delta\\,T_{ад} = \\frac{G\\operatorname{M}_{\\oplus}\\, M}{\\left(i+2\\right)\\,R}\\left(\\frac{1}{\\operatorname{R}_{\\oplus}+h_2} - \\frac{1}{\\operatorname{R}_{\\oplus}+h_1}\\right)$$\n",
    "\n",
    "А при установлении гравииндуцируемого градиента разность температур составит\n",
    "$$\\Delta\\,T_{диф} = \\frac{G\\operatorname{M}_{\\oplus}\\, M}{i\\,R}\\left(\\frac{1}{\\operatorname{R}_{\\oplus}+h_2} - \\frac{1}{\\operatorname{R}_{\\oplus}+h_1}\\right)$$"
   ]
  },
  {
   "cell_type": "code",
   "execution_count": null,
   "id": "6fd0febd",
   "metadata": {},
   "outputs": [],
   "source": []
  }
 ],
 "metadata": {
  "kernelspec": {
   "display_name": "SageMath 9.6.beta7",
   "language": "sage",
   "name": "sagemath"
  },
  "language_info": {
   "codemirror_mode": {
    "name": "ipython",
    "version": 3
   },
   "file_extension": ".py",
   "mimetype": "text/x-python",
   "name": "python",
   "nbconvert_exporter": "python",
   "pygments_lexer": "ipython3",
   "version": "3.10.3"
  }
 },
 "nbformat": 4,
 "nbformat_minor": 5
}
