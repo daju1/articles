{
 "cells": [
  {
   "cell_type": "markdown",
   "metadata": {},
   "source": [
    "two_levels_isotropic_dielectric"
   ]
  },
  {
   "cell_type": "code",
   "execution_count": 1,
   "metadata": {},
   "outputs": [],
   "source": [
    "from IPython.display import display, Math, Latex\n",
    "\n",
    "k = var ('k')\n",
    "assume(k, 'real')# for dielectric\n",
    "\n",
    "b = var('b')\n",
    "assume(b, 'real')\n",
    "assume(b>0)\n",
    "\n",
    "x = var('x')\n",
    "y = var('y')\n",
    "z = var('z')\n",
    "\n",
    "assume(x, 'real')\n",
    "assume(y, 'real')\n",
    "assume(z, 'real')\n",
    "\n",
    "c = var('c')\n",
    "assume(c, 'real')\n",
    "assume(c>0)\n",
    "\n",
    "omega = var('omega')\n",
    "assume(omega, 'real')"
   ]
  },
  {
   "cell_type": "markdown",
   "metadata": {},
   "source": [
    "$rot\\,\\vec{E} = \\mu\\,\\frac{i\\,\\omega}{c}\\,\\vec{H}$\n",
    "\n",
    "$rot\\,\\vec{H} = - \\frac{i\\,\\omega}{c} \\epsilon \\vec{E}$\n",
    "\n",
    "$rot\\,rot\\,\\vec{E} = \\mu\\,\\frac{i\\,\\omega}{c}rot\\,\\vec{H}$\n",
    "\n",
    "$rot\\,rot\\,\\vec{E} = \\mu\\,\\frac{i\\,\\omega}{c}\\left(- \\frac{i\\,\\omega}{c} \\epsilon \\vec{E}\\right)$\n",
    "\n",
    "$rot\\,rot\\,\\vec{E} = \\mu\\,\\frac{\\omega^2}{c^2} \\epsilon \\vec{E}$\n",
    "\n",
    "$rot\\,rot\\,\\vec{E} = grad\\,div\\,\\vec{E} - Laplasian\\,\\vec{E}$\n",
    "\n",
    "$Laplasian\\,\\vec{E} + \\frac{\\mu \\epsilon \\omega^2}{c^2}\\,\\vec{E} - grad\\,div\\,\\vec{E} = 0$\n",
    "\n",
    "Ищем решение в виде\n",
    "\n",
    "$E = E(x)\\,e^{i\\,k\\,z}\\,e^{-i\\,\\omega\\,t}$\n",
    "\n",
    "подставляя в исходное уравнение приходим к обыкновенному дифференциальному уравнению\n",
    "\n",
    "diff (E(x), x, 2) + (mu * epsilon * omega^2 / c^2 - k^2) * E(x) = 0\n",
    "\n",
    "для диэлектрика\n",
    "\n",
    "kappa^2 = (mu * epsilon * omega^2 / c^2 - k^2)\n",
    "\n",
    "diff (E(x), x, 2) + kappa^2 * E(x) = 0"
   ]
  },
  {
   "cell_type": "code",
   "execution_count": 2,
   "metadata": {},
   "outputs": [
    {
     "data": {
      "text/latex": [
       "$$\\left[\\kappa_{0}, \\kappa_{1}\\right]$$"
      ],
      "text/plain": [
       "<IPython.core.display.Math object>"
      ]
     },
     "metadata": {},
     "output_type": "display_data"
    }
   ],
   "source": [
    "n_layers = 2\n",
    "\n",
    "kappa = []\n",
    "for i in range(n_layers):\n",
    "    exec (\"kappa_\" + str(i) + \" = var ('kappa_\" + str(i) + \"') \")\n",
    "    exec (\"assume(kappa_\" + str(i) + \", 'real')\")\n",
    "    exec (\"assume(kappa_\" + str(i) + \" > 0)\")\n",
    "    exec (\"kappa += [kappa_\" + str(i) + \"]\")\n",
    "\n",
    "display(Math(latex(kappa)))"
   ]
  },
  {
   "cell_type": "code",
   "execution_count": 3,
   "metadata": {},
   "outputs": [
    {
     "data": {
      "text/latex": [
       "$$\\left[\\epsilon_{0}, \\epsilon_{1}\\right]$$"
      ],
      "text/plain": [
       "<IPython.core.display.Math object>"
      ]
     },
     "metadata": {},
     "output_type": "display_data"
    }
   ],
   "source": [
    "epsilon = []\n",
    "for i in range(n_layers):\n",
    "    exec (\"epsilon_\" + str(i) + \" = var ('epsilon_\" + str(i) + \"') \")\n",
    "    exec (\"assume(epsilon_\" + str(i) + \", 'real')\")\n",
    "    exec (\"assume(epsilon_\" + str(i) + \" > 0)\")\n",
    "    exec (\"epsilon += [epsilon_\" + str(i) + \"]\")\n",
    "\n",
    "display(Math(latex(epsilon)))"
   ]
  },
  {
   "cell_type": "code",
   "execution_count": 4,
   "metadata": {},
   "outputs": [
    {
     "data": {
      "text/latex": [
       "$$\\left[\\mu_{0}, \\mu_{1}\\right]$$"
      ],
      "text/plain": [
       "<IPython.core.display.Math object>"
      ]
     },
     "metadata": {},
     "output_type": "display_data"
    }
   ],
   "source": [
    "mu = []\n",
    "for i in range(n_layers):\n",
    "    exec (\"mu_\" + str(i) + \" = var ('mu_\" + str(i) + \"') \")\n",
    "    exec (\"assume(mu_\" + str(i) + \", 'real')\")\n",
    "    exec (\"assume(mu_\" + str(i) + \" > 0)\")\n",
    "    exec (\"mu += [mu_\" + str(i) + \"]\")\n",
    "\n",
    "display(Math(latex(mu)))"
   ]
  },
  {
   "cell_type": "code",
   "execution_count": 5,
   "metadata": {},
   "outputs": [],
   "source": [
    "g = []\n",
    "for i in range(n_layers):\n",
    "    exec(\"g_\" + str(i) + \"= var('g_\" + str(i) + \"')\")\n",
    "    exec(\"assume(g_\" + str(i) + \", 'real')\")\n",
    "    exec(\"assume(g_\" + str(i) + \" > 0)\")\n",
    "    exec(\"g += [g_\" + str(i) +\"]\")"
   ]
  },
  {
   "cell_type": "code",
   "execution_count": 6,
   "metadata": {},
   "outputs": [],
   "source": [
    "h = []\n",
    "for i in range(n_layers):\n",
    "    exec(\"h_\" + str(i) + \"= var('h_\" + str(i) + \"')\")\n",
    "    exec(\"assume(h_\" + str(i) + \", 'real')\")\n",
    "    exec(\"assume(h_\" + str(i) + \" > 0)\")\n",
    "    exec(\"h += [h_\" + str(i) +\"]\")"
   ]
  },
  {
   "cell_type": "code",
   "execution_count": 7,
   "metadata": {},
   "outputs": [
    {
     "data": {
      "text/latex": [
       "$$\\left[-k^{2} + \\frac{\\epsilon_{0} \\mu_{0} \\omega^{2}}{c^{2}} = \\kappa_{0}^{2}, -k^{2} + \\frac{\\epsilon_{1} \\mu_{1} \\omega^{2}}{c^{2}} = \\kappa_{1}^{2}\\right]$$"
      ],
      "text/plain": [
       "<IPython.core.display.Math object>"
      ]
     },
     "metadata": {},
     "output_type": "display_data"
    }
   ],
   "source": [
    "# исходя из вида дифференциальных уравнений для диэлектрика\n",
    "# записываем соотнощения для волнового вектора в виде уравнений\n",
    "eq_kappa = []\n",
    "for i in range(n_layers):\n",
    "    eq_kappa += [mu[i] * epsilon[i] * omega^2 / c^2 - k^2 == kappa[i]^2]\n",
    "\n",
    "display(Math(latex(eq_kappa)))"
   ]
  },
  {
   "cell_type": "code",
   "execution_count": 8,
   "metadata": {},
   "outputs": [
    {
     "data": {
      "text/latex": [
       "$$K_{2} \\cos\\left(\\kappa_{1} x\\right) + K_{1} \\sin\\left(\\kappa_{1} x\\right)$$"
      ],
      "text/plain": [
       "<IPython.core.display.Math object>"
      ]
     },
     "metadata": {},
     "output_type": "display_data"
    }
   ],
   "source": [
    "# решаем полученные обыкновенные дифференциальные уравнения\n",
    "E_x = function('E_x')(x)\n",
    "\n",
    "de_dielectric_x = diff (E_x, x, 2) + kappa[i]^2 * E_x == 0\n",
    "E_dielectric_x = desolve(de_dielectric_x, E_x, ivar = x)\n",
    "\n",
    "\n",
    "# получая таким образом выражения для электрического поля в диэлектрике\n",
    "display(Math(latex(E_dielectric_x)))\n",
    "# _K2*cos(kappa*x) + _K1*sin(kappa*x)"
   ]
  },
  {
   "cell_type": "code",
   "execution_count": 9,
   "metadata": {},
   "outputs": [
    {
     "data": {
      "text/latex": [
       "$$\\left[\\mathit{Ax}_{0}, \\mathit{Ax}_{1}\\right]$$"
      ],
      "text/plain": [
       "<IPython.core.display.Math object>"
      ]
     },
     "metadata": {},
     "output_type": "display_data"
    },
    {
     "data": {
      "text/latex": [
       "$$\\left[\\mathit{Az}_{0}, \\mathit{Az}_{1}\\right]$$"
      ],
      "text/plain": [
       "<IPython.core.display.Math object>"
      ]
     },
     "metadata": {},
     "output_type": "display_data"
    },
    {
     "data": {
      "text/latex": [
       "$$\\left[\\mathit{Bx}_{0}, \\mathit{Bx}_{1}\\right]$$"
      ],
      "text/plain": [
       "<IPython.core.display.Math object>"
      ]
     },
     "metadata": {},
     "output_type": "display_data"
    },
    {
     "data": {
      "text/latex": [
       "$$\\left[\\mathit{Bz}_{0}, \\mathit{Bz}_{1}\\right]$$"
      ],
      "text/plain": [
       "<IPython.core.display.Math object>"
      ]
     },
     "metadata": {},
     "output_type": "display_data"
    }
   ],
   "source": [
    "Ax = []\n",
    "Az = []\n",
    "Bx = []\n",
    "Bz = []\n",
    "for i in range(n_layers):\n",
    "    exec (\"Ax_\" + str(i) + \" = var ('Ax_\" + str(i) + \"') \")\n",
    "    exec (\"Az_\" + str(i) + \" = var ('Az_\" + str(i) + \"') \")\n",
    "    exec (\"Bx_\" + str(i) + \" = var ('Bx_\" + str(i) + \"') \")\n",
    "    exec (\"Bz_\" + str(i) + \" = var ('Bz_\" + str(i) + \"') \")\n",
    "    exec (\"assume(Ax_\" + str(i) + \", 'real')\")\n",
    "    exec (\"assume(Az_\" + str(i) + \", 'real')\")\n",
    "    exec (\"assume(Bx_\" + str(i) + \", 'real')\")\n",
    "    exec (\"assume(Bz_\" + str(i) + \", 'real')\")\n",
    "    exec (\"Ax += [Ax_\" + str(i) + \"]\")\n",
    "    exec (\"Bx += [Bx_\" + str(i) + \"]\")\n",
    "    exec (\"Az += [Az_\" + str(i) + \"]\")\n",
    "    exec (\"Bz += [Bz_\" + str(i) + \"]\")\n",
    "\n",
    "display(Math(latex(Ax)))\n",
    "display(Math(latex(Az)))\n",
    "display(Math(latex(Bx)))\n",
    "display(Math(latex(Bz)))"
   ]
  },
  {
   "cell_type": "code",
   "execution_count": 10,
   "metadata": {},
   "outputs": [
    {
     "data": {
      "text/latex": [
       "$$\\mathit{Ax}_{0} \\cos\\left(\\kappa_{0} x\\right) + \\mathit{Bx}_{0} \\sin\\left(\\kappa_{0} x\\right)$$"
      ],
      "text/plain": [
       "<IPython.core.display.Math object>"
      ]
     },
     "metadata": {},
     "output_type": "display_data"
    },
    {
     "data": {
      "text/latex": [
       "$$\\mathit{Az}_{0} \\cos\\left(\\kappa_{0} x\\right) + \\mathit{Bz}_{0} \\sin\\left(\\kappa_{0} x\\right)$$"
      ],
      "text/plain": [
       "<IPython.core.display.Math object>"
      ]
     },
     "metadata": {},
     "output_type": "display_data"
    },
    {
     "name": "stdout",
     "output_type": "stream",
     "text": [
      "\n"
     ]
    },
    {
     "data": {
      "text/latex": [
       "$$\\mathit{Ax}_{1} \\cos\\left(\\kappa_{1} x\\right) + \\mathit{Bx}_{1} \\sin\\left(\\kappa_{1} x\\right)$$"
      ],
      "text/plain": [
       "<IPython.core.display.Math object>"
      ]
     },
     "metadata": {},
     "output_type": "display_data"
    },
    {
     "data": {
      "text/latex": [
       "$$\\mathit{Az}_{1} \\cos\\left(\\kappa_{1} x\\right) + \\mathit{Bz}_{1} \\sin\\left(\\kappa_{1} x\\right)$$"
      ],
      "text/plain": [
       "<IPython.core.display.Math object>"
      ]
     },
     "metadata": {},
     "output_type": "display_data"
    },
    {
     "name": "stdout",
     "output_type": "stream",
     "text": [
      "\n"
     ]
    }
   ],
   "source": [
    "Ex = []\n",
    "Ez = []\n",
    "for i in range(n_layers):\n",
    "    Ex += [ lambda x, i=i : Ax[i] * cos(kappa[i] * x) + Bx[i] * sin(kappa[i] * x)]\n",
    "    Ez += [ lambda x, i=i : Az[i] * cos(kappa[i] * x) + Bz[i] * sin(kappa[i] * x)]\n",
    "\n",
    "for i in range(n_layers):\n",
    "    display(Math(latex(Ex[i](x))))\n",
    "    display(Math(latex(Ez[i](x))))\n",
    "    print(\"\")"
   ]
  },
  {
   "cell_type": "code",
   "execution_count": 11,
   "metadata": {},
   "outputs": [
    {
     "data": {
      "text/latex": [
       "$$-\\mathit{Bz}_{0} \\kappa_{0} \\cos\\left(\\kappa_{0} x\\right) + \\mathit{Az}_{0} \\kappa_{0} \\sin\\left(\\kappa_{0} x\\right) + i \\, {\\left(\\mathit{Ax}_{0} \\cos\\left(\\kappa_{0} x\\right) + \\mathit{Bx}_{0} \\sin\\left(\\kappa_{0} x\\right)\\right)} k$$"
      ],
      "text/plain": [
       "<IPython.core.display.Math object>"
      ]
     },
     "metadata": {},
     "output_type": "display_data"
    },
    {
     "data": {
      "text/latex": [
       "$$-\\mathit{Bz}_{0} \\kappa_{0} \\cos\\left(\\kappa_{0} x\\right) + \\mathit{Az}_{0} \\kappa_{0} \\sin\\left(\\kappa_{0} x\\right) + {\\left(i \\, \\mathit{Ax}_{0} \\cos\\left(\\kappa_{0} x\\right) + i \\, \\mathit{Bx}_{0} \\sin\\left(\\kappa_{0} x\\right)\\right)} k$$"
      ],
      "text/plain": [
       "<IPython.core.display.Math object>"
      ]
     },
     "metadata": {},
     "output_type": "display_data"
    },
    {
     "name": "stdout",
     "output_type": "stream",
     "text": [
      "\n"
     ]
    },
    {
     "data": {
      "text/latex": [
       "$$\\frac{i \\, {\\left(\\mathit{Bz}_{0} \\kappa_{0} \\cos\\left(\\kappa_{0} x\\right) - \\mathit{Az}_{0} \\kappa_{0} \\sin\\left(\\kappa_{0} x\\right) - {\\left(i \\, \\mathit{Ax}_{0} \\cos\\left(\\kappa_{0} x\\right) + i \\, \\mathit{Bx}_{0} \\sin\\left(\\kappa_{0} x\\right)\\right)} k\\right)} c}{\\mu_{0} \\omega}$$"
      ],
      "text/plain": [
       "<IPython.core.display.Math object>"
      ]
     },
     "metadata": {},
     "output_type": "display_data"
    },
    {
     "name": "stdout",
     "output_type": "stream",
     "text": [
      "\n"
     ]
    },
    {
     "data": {
      "text/latex": [
       "$$-\\mathit{Bz}_{1} \\kappa_{1} \\cos\\left(\\kappa_{1} x\\right) + \\mathit{Az}_{1} \\kappa_{1} \\sin\\left(\\kappa_{1} x\\right) + i \\, {\\left(\\mathit{Ax}_{1} \\cos\\left(\\kappa_{1} x\\right) + \\mathit{Bx}_{1} \\sin\\left(\\kappa_{1} x\\right)\\right)} k$$"
      ],
      "text/plain": [
       "<IPython.core.display.Math object>"
      ]
     },
     "metadata": {},
     "output_type": "display_data"
    },
    {
     "data": {
      "text/latex": [
       "$$-\\mathit{Bz}_{1} \\kappa_{1} \\cos\\left(\\kappa_{1} x\\right) + \\mathit{Az}_{1} \\kappa_{1} \\sin\\left(\\kappa_{1} x\\right) + {\\left(i \\, \\mathit{Ax}_{1} \\cos\\left(\\kappa_{1} x\\right) + i \\, \\mathit{Bx}_{1} \\sin\\left(\\kappa_{1} x\\right)\\right)} k$$"
      ],
      "text/plain": [
       "<IPython.core.display.Math object>"
      ]
     },
     "metadata": {},
     "output_type": "display_data"
    },
    {
     "name": "stdout",
     "output_type": "stream",
     "text": [
      "\n"
     ]
    },
    {
     "data": {
      "text/latex": [
       "$$\\frac{i \\, {\\left(\\mathit{Bz}_{1} \\kappa_{1} \\cos\\left(\\kappa_{1} x\\right) - \\mathit{Az}_{1} \\kappa_{1} \\sin\\left(\\kappa_{1} x\\right) - {\\left(i \\, \\mathit{Ax}_{1} \\cos\\left(\\kappa_{1} x\\right) + i \\, \\mathit{Bx}_{1} \\sin\\left(\\kappa_{1} x\\right)\\right)} k\\right)} c}{\\mu_{1} \\omega}$$"
      ],
      "text/plain": [
       "<IPython.core.display.Math object>"
      ]
     },
     "metadata": {},
     "output_type": "display_data"
    },
    {
     "name": "stdout",
     "output_type": "stream",
     "text": [
      "\n"
     ]
    }
   ],
   "source": [
    "rot_E_y = []\n",
    "rotE_y = []\n",
    "Hy = []\n",
    "for i in range(n_layers):\n",
    "    rot_E_y += [lambda x, i=i : (I * k * Ex[i](x) - diff(Ez[i](x), x))]\n",
    "    exec (\"rotE_y += [lambda x, i=i :\"+ str(rot_E_y[i](x)) + \"]\")\n",
    "    Hy      += [lambda x, i=i : c / (mu[i] * I * omega) * rotE_y[i](x)]\n",
    "\n",
    "    display(Math(latex(rot_E_y[i](x))))\n",
    "    display(Math(latex(rotE_y[i](x))))\n",
    "    print(\"\")\n",
    "    display(Math(latex(Hy[i](x))))\n",
    "    print(\"\")"
   ]
  },
  {
   "cell_type": "code",
   "execution_count": 12,
   "metadata": {},
   "outputs": [
    {
     "data": {
      "text/latex": [
       "$$\\frac{{\\left(\\mathit{Bz}_{0} \\kappa_{0} \\cos\\left(\\kappa_{0} x\\right) - \\mathit{Az}_{0} \\kappa_{0} \\sin\\left(\\kappa_{0} x\\right) - {\\left(i \\, \\mathit{Ax}_{0} \\cos\\left(\\kappa_{0} x\\right) + i \\, \\mathit{Bx}_{0} \\sin\\left(\\kappa_{0} x\\right)\\right)} k\\right)} c k}{\\mu_{0} \\omega}$$"
      ],
      "text/plain": [
       "<IPython.core.display.Math object>"
      ]
     },
     "metadata": {},
     "output_type": "display_data"
    },
    {
     "data": {
      "text/latex": [
       "$$-\\frac{i \\, {\\left(\\mathit{Az}_{0} \\kappa_{0}^{2} \\cos\\left(\\kappa_{0} x\\right) + \\mathit{Bz}_{0} \\kappa_{0}^{2} \\sin\\left(\\kappa_{0} x\\right) + {\\left(i \\, \\mathit{Bx}_{0} \\kappa_{0} \\cos\\left(\\kappa_{0} x\\right) - i \\, \\mathit{Ax}_{0} \\kappa_{0} \\sin\\left(\\kappa_{0} x\\right)\\right)} k\\right)} c}{\\mu_{0} \\omega}$$"
      ],
      "text/plain": [
       "<IPython.core.display.Math object>"
      ]
     },
     "metadata": {},
     "output_type": "display_data"
    },
    {
     "name": "stdout",
     "output_type": "stream",
     "text": [
      "\n"
     ]
    },
    {
     "data": {
      "text/latex": [
       "$$\\frac{{\\left(\\mathit{Bz}_{1} \\kappa_{1} \\cos\\left(\\kappa_{1} x\\right) - \\mathit{Az}_{1} \\kappa_{1} \\sin\\left(\\kappa_{1} x\\right) - {\\left(i \\, \\mathit{Ax}_{1} \\cos\\left(\\kappa_{1} x\\right) + i \\, \\mathit{Bx}_{1} \\sin\\left(\\kappa_{1} x\\right)\\right)} k\\right)} c k}{\\mu_{1} \\omega}$$"
      ],
      "text/plain": [
       "<IPython.core.display.Math object>"
      ]
     },
     "metadata": {},
     "output_type": "display_data"
    },
    {
     "data": {
      "text/latex": [
       "$$-\\frac{i \\, {\\left(\\mathit{Az}_{1} \\kappa_{1}^{2} \\cos\\left(\\kappa_{1} x\\right) + \\mathit{Bz}_{1} \\kappa_{1}^{2} \\sin\\left(\\kappa_{1} x\\right) + {\\left(i \\, \\mathit{Bx}_{1} \\kappa_{1} \\cos\\left(\\kappa_{1} x\\right) - i \\, \\mathit{Ax}_{1} \\kappa_{1} \\sin\\left(\\kappa_{1} x\\right)\\right)} k\\right)} c}{\\mu_{1} \\omega}$$"
      ],
      "text/plain": [
       "<IPython.core.display.Math object>"
      ]
     },
     "metadata": {},
     "output_type": "display_data"
    },
    {
     "name": "stdout",
     "output_type": "stream",
     "text": [
      "\n"
     ]
    }
   ],
   "source": [
    "rot_H_x = []\n",
    "rot_H_z = []\n",
    "for i in range(n_layers):\n",
    "    rot_H_x += [lambda x, i=i : -I * k * Hy[i](x)]\n",
    "    rot_H_z += [lambda x, i=i : diff(Hy[i](x), x)]\n",
    "\n",
    "    display(Math(latex(rot_H_x[i](x))))\n",
    "    display(Math(latex(rot_H_z[i](x))))\n",
    "    print(\"\")"
   ]
  },
  {
   "cell_type": "code",
   "execution_count": 13,
   "metadata": {},
   "outputs": [
    {
     "data": {
      "text/latex": [
       "$$\\frac{{\\left(\\mathit{Bz}_{0} \\kappa_{0} \\cos\\left(\\kappa_{0} x\\right) - \\mathit{Az}_{0} \\kappa_{0} \\sin\\left(\\kappa_{0} x\\right) - {\\left(i \\, \\mathit{Ax}_{0} \\cos\\left(\\kappa_{0} x\\right) + i \\, \\mathit{Bx}_{0} \\sin\\left(\\kappa_{0} x\\right)\\right)} k\\right)} c k}{\\mu_{0} \\omega} = -\\frac{i \\, {\\left(\\mathit{Ax}_{0} \\cos\\left(\\kappa_{0} x\\right) + \\mathit{Bx}_{0} \\sin\\left(\\kappa_{0} x\\right)\\right)} \\epsilon_{0} \\omega}{c}$$"
      ],
      "text/plain": [
       "<IPython.core.display.Math object>"
      ]
     },
     "metadata": {},
     "output_type": "display_data"
    },
    {
     "name": "stdout",
     "output_type": "stream",
     "text": [
      "\n"
     ]
    },
    {
     "data": {
      "text/latex": [
       "$$-\\frac{i \\, {\\left(\\mathit{Az}_{0} \\kappa_{0}^{2} \\cos\\left(\\kappa_{0} x\\right) + \\mathit{Bz}_{0} \\kappa_{0}^{2} \\sin\\left(\\kappa_{0} x\\right) + {\\left(i \\, \\mathit{Bx}_{0} \\kappa_{0} \\cos\\left(\\kappa_{0} x\\right) - i \\, \\mathit{Ax}_{0} \\kappa_{0} \\sin\\left(\\kappa_{0} x\\right)\\right)} k\\right)} c}{\\mu_{0} \\omega} = -\\frac{i \\, {\\left(\\mathit{Az}_{0} \\cos\\left(\\kappa_{0} x\\right) + \\mathit{Bz}_{0} \\sin\\left(\\kappa_{0} x\\right)\\right)} \\epsilon_{0} \\omega}{c}$$"
      ],
      "text/plain": [
       "<IPython.core.display.Math object>"
      ]
     },
     "metadata": {},
     "output_type": "display_data"
    },
    {
     "name": "stdout",
     "output_type": "stream",
     "text": [
      "\n"
     ]
    },
    {
     "data": {
      "text/latex": [
       "$$\\frac{{\\left(\\mathit{Bz}_{1} \\kappa_{1} \\cos\\left(\\kappa_{1} x\\right) - \\mathit{Az}_{1} \\kappa_{1} \\sin\\left(\\kappa_{1} x\\right) - {\\left(i \\, \\mathit{Ax}_{1} \\cos\\left(\\kappa_{1} x\\right) + i \\, \\mathit{Bx}_{1} \\sin\\left(\\kappa_{1} x\\right)\\right)} k\\right)} c k}{\\mu_{1} \\omega} = -\\frac{i \\, {\\left(\\mathit{Ax}_{1} \\cos\\left(\\kappa_{1} x\\right) + \\mathit{Bx}_{1} \\sin\\left(\\kappa_{1} x\\right)\\right)} \\epsilon_{1} \\omega}{c}$$"
      ],
      "text/plain": [
       "<IPython.core.display.Math object>"
      ]
     },
     "metadata": {},
     "output_type": "display_data"
    },
    {
     "name": "stdout",
     "output_type": "stream",
     "text": [
      "\n"
     ]
    },
    {
     "data": {
      "text/latex": [
       "$$-\\frac{i \\, {\\left(\\mathit{Az}_{1} \\kappa_{1}^{2} \\cos\\left(\\kappa_{1} x\\right) + \\mathit{Bz}_{1} \\kappa_{1}^{2} \\sin\\left(\\kappa_{1} x\\right) + {\\left(i \\, \\mathit{Bx}_{1} \\kappa_{1} \\cos\\left(\\kappa_{1} x\\right) - i \\, \\mathit{Ax}_{1} \\kappa_{1} \\sin\\left(\\kappa_{1} x\\right)\\right)} k\\right)} c}{\\mu_{1} \\omega} = -\\frac{i \\, {\\left(\\mathit{Az}_{1} \\cos\\left(\\kappa_{1} x\\right) + \\mathit{Bz}_{1} \\sin\\left(\\kappa_{1} x\\right)\\right)} \\epsilon_{1} \\omega}{c}$$"
      ],
      "text/plain": [
       "<IPython.core.display.Math object>"
      ]
     },
     "metadata": {},
     "output_type": "display_data"
    },
    {
     "name": "stdout",
     "output_type": "stream",
     "text": [
      "\n"
     ]
    }
   ],
   "source": [
    "# rot H = (1/c) * dD/dt\n",
    "eq_rot_H_x = []\n",
    "eq_rot_H_z = []\n",
    "for i in range(n_layers):\n",
    "    eq_rot_H_x += [rot_H_x[i](x) == (1/c) *(-I * omega) * epsilon[i] * Ex[i](x)]\n",
    "    eq_rot_H_z += [rot_H_z[i](x) == (1/c) *(-I * omega) * epsilon[i] * Ez[i](x)]\n",
    "\n",
    "    display(Math(latex(eq_rot_H_x[i])))\n",
    "    print(\"\")\n",
    "    display(Math(latex(eq_rot_H_z[i])))\n",
    "    print(\"\")"
   ]
  },
  {
   "cell_type": "code",
   "execution_count": 14,
   "metadata": {},
   "outputs": [
    {
     "data": {
      "text/plain": [
       "[Az_0, Az_1]"
      ]
     },
     "execution_count": 14,
     "metadata": {},
     "output_type": "execute_result"
    }
   ],
   "source": [
    "exclude_vars = [Az[0], Az[n_layers - 1]]\n",
    "exclude_vars"
   ]
  },
  {
   "cell_type": "code",
   "execution_count": 15,
   "metadata": {},
   "outputs": [
    {
     "data": {
      "text/latex": [
       "$$\\left[\\mathit{Az}_{0} = 0.000000000000000, \\mathit{Az}_{1} \\cos\\left({\\left(h_{0} + h_{1}\\right)} \\kappa_{1}\\right) + \\mathit{Bz}_{1} \\sin\\left({\\left(h_{0} + h_{1}\\right)} \\kappa_{1}\\right) = 0.000000000000000\\right]$$"
      ],
      "text/plain": [
       "<IPython.core.display.Math object>"
      ]
     },
     "metadata": {},
     "output_type": "display_data"
    },
    {
     "data": {
      "text/latex": [
       "$$\\mathit{Az}_{0} = 0$$"
      ],
      "text/plain": [
       "<IPython.core.display.Math object>"
      ]
     },
     "metadata": {},
     "output_type": "display_data"
    },
    {
     "data": {
      "text/latex": [
       "$$\\mathit{Az}_{1} = -\\frac{\\mathit{Bz}_{1} \\sin\\left(h_{0} \\kappa_{1} + h_{1} \\kappa_{1}\\right)}{\\cos\\left(h_{0} \\kappa_{1} + h_{1} \\kappa_{1}\\right)}$$"
      ],
      "text/plain": [
       "<IPython.core.display.Math object>"
      ]
     },
     "metadata": {},
     "output_type": "display_data"
    },
    {
     "data": {
      "text/latex": [
       "$$\\left[\\mathit{Az}_{0} = 0, \\mathit{Az}_{1} = -\\frac{\\mathit{Bz}_{1} \\sin\\left(h_{0} \\kappa_{1} + h_{1} \\kappa_{1}\\right)}{\\cos\\left(h_{0} \\kappa_{1} + h_{1} \\kappa_{1}\\right)}\\right]$$"
      ],
      "text/plain": [
       "<IPython.core.display.Math object>"
      ]
     },
     "metadata": {},
     "output_type": "display_data"
    }
   ],
   "source": [
    "# граничные условия\n",
    "# тангенциальная компонента электрического поля\n",
    "eq_Ez_superconductor_boundary_conditions = []\n",
    "eq_Ez_superconductor_boundary_conditions += [Ez[0](0) == 0.0]\n",
    "eq_Ez_superconductor_boundary_conditions += [Ez[n_layers - 1](sum(h)) == 0.0]\n",
    "\n",
    "display(Math(latex(eq_Ez_superconductor_boundary_conditions)))\n",
    "\n",
    "boundary_subs_begin = solve(eq_Ez_superconductor_boundary_conditions[0], Az[0])[0]\n",
    "boundary_subs_end = solve(eq_Ez_superconductor_boundary_conditions[1], Az[n_layers - 1])[0]\n",
    "\n",
    "display(Math(latex(boundary_subs_begin)))\n",
    "display(Math(latex(boundary_subs_end)))\n",
    "\n",
    "boundary_subs = [boundary_subs_begin, boundary_subs_end]\n",
    "display(Math(latex(boundary_subs)))"
   ]
  },
  {
   "cell_type": "code",
   "execution_count": 16,
   "metadata": {},
   "outputs": [
    {
     "data": {
      "text/latex": [
       "$$\\mathit{Az}_{0} \\cos\\left(h_{0} \\kappa_{0}\\right) + \\mathit{Bz}_{0} \\sin\\left(h_{0} \\kappa_{0}\\right) = \\mathit{Az}_{1} \\cos\\left(h_{0} \\kappa_{1}\\right) + \\mathit{Bz}_{1} \\sin\\left(h_{0} \\kappa_{1}\\right)$$"
      ],
      "text/plain": [
       "<IPython.core.display.Math object>"
      ]
     },
     "metadata": {},
     "output_type": "display_data"
    },
    {
     "name": "stdout",
     "output_type": "stream",
     "text": [
      "\n"
     ]
    }
   ],
   "source": [
    "# граничные условия на гринице диэлектрика и диэлектрика\n",
    "# тангенциальная компонента электрического поля\n",
    "eq_Ez_boundary_conditions = []\n",
    "for i in range(n_layers - 1):\n",
    "    eq_Ez_boundary_conditions += [Ez[i] (sum([h[i] for i in range(i+1)])) == Ez[i+1](sum([h[i] for i in range(i+1)]))]\n",
    "\n",
    "    display(Math(latex(eq_Ez_boundary_conditions[i])))\n",
    "    print(\"\")"
   ]
  },
  {
   "cell_type": "code",
   "execution_count": 17,
   "metadata": {},
   "outputs": [
    {
     "data": {
      "text/latex": [
       "$${\\left(\\mathit{Ax}_{0} \\cos\\left(h_{0} \\kappa_{0}\\right) + \\mathit{Bx}_{0} \\sin\\left(h_{0} \\kappa_{0}\\right)\\right)} \\epsilon_{0} = {\\left(\\mathit{Ax}_{1} \\cos\\left(h_{0} \\kappa_{1}\\right) + \\mathit{Bx}_{1} \\sin\\left(h_{0} \\kappa_{1}\\right)\\right)} \\epsilon_{1}$$"
      ],
      "text/plain": [
       "<IPython.core.display.Math object>"
      ]
     },
     "metadata": {},
     "output_type": "display_data"
    },
    {
     "name": "stdout",
     "output_type": "stream",
     "text": [
      "\n"
     ]
    }
   ],
   "source": [
    "# граничные условия на гринице диэлектрика и диэлектрика\n",
    "# нормальная компонента электрического смещения\n",
    "eq_Ex_boundary_conditions = []\n",
    "for i in range(n_layers - 1):\n",
    "    eq_Ex_boundary_conditions += [epsilon[i] * Ex[i](sum([h[i] for i in range(i+1)])) == epsilon[i+1] * Ex[i+1](sum([h[i] for i in range(i+1)]))]\n",
    "\n",
    "    display(Math(latex(eq_Ex_boundary_conditions[i])))\n",
    "    print(\"\")"
   ]
  },
  {
   "cell_type": "code",
   "execution_count": 18,
   "metadata": {},
   "outputs": [
    {
     "data": {
      "text/latex": [
       "$$\\frac{i \\, {\\left(\\mathit{Bz}_{0} \\kappa_{0} \\cos\\left(h_{0} \\kappa_{0}\\right) - \\mathit{Az}_{0} \\kappa_{0} \\sin\\left(h_{0} \\kappa_{0}\\right) - {\\left(i \\, \\mathit{Ax}_{0} \\cos\\left(h_{0} \\kappa_{0}\\right) + i \\, \\mathit{Bx}_{0} \\sin\\left(h_{0} \\kappa_{0}\\right)\\right)} k\\right)} c}{\\mu_{0} \\omega} = \\frac{i \\, {\\left(\\mathit{Bz}_{1} \\kappa_{1} \\cos\\left(h_{0} \\kappa_{1}\\right) - \\mathit{Az}_{1} \\kappa_{1} \\sin\\left(h_{0} \\kappa_{1}\\right) - {\\left(i \\, \\mathit{Ax}_{1} \\cos\\left(h_{0} \\kappa_{1}\\right) + i \\, \\mathit{Bx}_{1} \\sin\\left(h_{0} \\kappa_{1}\\right)\\right)} k\\right)} c}{\\mu_{1} \\omega}$$"
      ],
      "text/plain": [
       "<IPython.core.display.Math object>"
      ]
     },
     "metadata": {},
     "output_type": "display_data"
    },
    {
     "name": "stdout",
     "output_type": "stream",
     "text": [
      "\n"
     ]
    }
   ],
   "source": [
    "# граничные условия на гринице диэлектрика и диэлектрика\n",
    "# тангенциальная компонента поля H\n",
    "eq_Hy_boundary_conditions = []\n",
    "for i in range(n_layers - 1):\n",
    "    eq_Hy_boundary_conditions += [Hy[i] (sum([h[i] for i in range(i+1)])) == Hy[i+1](sum([h[i] for i in range(i+1)]))]\n",
    "\n",
    "    display(Math(latex(eq_Hy_boundary_conditions[i])))\n",
    "    print(\"\")"
   ]
  },
  {
   "cell_type": "code",
   "execution_count": 19,
   "metadata": {},
   "outputs": [],
   "source": [
    "def GenerateMatrix(equsys, vars):\n",
    "    A=matrix(SR, [[(equ.lhs() - equ.rhs()).coefficient(v) for v in vars] for equ in equsys])\n",
    "    return A\n",
    "\n",
    "def GenerateMatrixMult(equsys, vars):\n",
    "    A=matrix(SR, [[(equ.lhs() - equ.rhs()).coefficient(v) * v for v in vars] for equ in equsys])\n",
    "    return A\n",
    "\n",
    "def reduceDependedRows(M):\n",
    "    print (\"\")\n",
    "    print (\"M.nrows()\", M.nrows())\n",
    "    print (\"M.ncols()\", M.ncols())\n",
    "    print (\"M.rank()\", M.rank())\n",
    "\n",
    "    M_pivot_rows = M.pivot_rows()\n",
    "    print (\"M.pivot_rows() =\", M_pivot_rows)\n",
    "\n",
    "    M_rows = M.rows()\n",
    "    for row in M_rows:\n",
    "        print(\"row =\")\n",
    "        display(Math(latex(row)))\n",
    "\n",
    "    reduced_list = []\n",
    "    for r in M_pivot_rows:\n",
    "        print (\"M_rows[\", r, \"] =\")\n",
    "        display(Math(latex(M_rows[r])))\n",
    "        reduced_list.append(M_rows[r])\n",
    "\n",
    "    reduced_M = matrix(SR, len(M_pivot_rows), M.ncols(), reduced_list)\n",
    "    if reduced_M.nrows() == reduced_M.ncols():\n",
    "        reduced_M_det = reduced_M.det()\n",
    "        print (\"\")\n",
    "        print (\"reduced_M.det() =\")\n",
    "        display(Math(latex(reduced_M_det)))\n",
    "    return reduced_M"
   ]
  },
  {
   "cell_type": "code",
   "execution_count": 20,
   "metadata": {},
   "outputs": [],
   "source": [
    "def rot_H_solve(M_rotH, vars, eq_kappa, kappa):\n",
    "    if (M_rotH.nrows() != 2):\n",
    "        return\n",
    "    if (M_rotH.ncols() != len(vars)):\n",
    "        return\n",
    "    xx = vector(SR, vars)\n",
    "    yy = vector(SR, [0, 0])\n",
    "    print(\"eqns =\")\n",
    "    eqns = [(M_rotH*xx)[index] == yy[index] for index in [0,1]]\n",
    "    display(Math(latex(eqns)))\n",
    "    res = []\n",
    "\n",
    "    for index in [0,1]:\n",
    "        row_M = M_rotH[index]\n",
    "        print(\"row_M =\")\n",
    "        display(Math(latex(row_M)))\n",
    "        eq = eqns[index].full_simplify()\n",
    "        print (\"eq =\")\n",
    "        display(Math(latex(eq)))\n",
    "        print (\"\")\n",
    "        \n",
    "        eq2 = (eq / cos(kappa * x)).full_simplify().expand()\n",
    "        print (\"eq2 =\")\n",
    "        display(Math(latex(eq2)))\n",
    "        \n",
    "        tg_kappa_x_coeff = eq2.lhs().coefficient(sin(kappa * x) / cos(kappa * x))\n",
    "        print (\"tg_kappa_x_coeff =\")\n",
    "        display(Math(latex(tg_kappa_x_coeff)))\n",
    "        \n",
    "        eq_tg_kappa_x_coeff = tg_kappa_x_coeff == 0\n",
    "        for var in vars:\n",
    "            print (\"var =\")\n",
    "            display(Math(latex(var)))\n",
    "            sol_tg_kappa_x_coeff = solve(eq_tg_kappa_x_coeff, var)\n",
    "            print(\"sol_tg_kappa_x_coeff=\")\n",
    "            display(Math(latex(sol_tg_kappa_x_coeff)))\n",
    "            if len(sol_tg_kappa_x_coeff) > 0:\n",
    "                res += sol_tg_kappa_x_coeff            \n",
    "            \n",
    "                eq4 = eq.subs(sol_tg_kappa_x_coeff)\n",
    "                print (\"eq4 =\")\n",
    "                display(Math(latex(eq4)))\n",
    "\n",
    "                eq4 = eq4.full_simplify()\n",
    "                print (\"eq4 =\")\n",
    "                display(Math(latex(eq4)))\n",
    "\n",
    "                for var in vars:\n",
    "                    print (\"var =\")\n",
    "                    display(Math(latex(var)))\n",
    "                    print (\"\")\n",
    "                    sol = solve(eq4, var)\n",
    "                    print(\"sol=\")\n",
    "                    display(Math(latex(sol)))\n",
    "                    print (\"\")\n",
    "                    res += sol\n",
    "    return res"
   ]
  },
  {
   "cell_type": "code",
   "execution_count": 21,
   "metadata": {},
   "outputs": [
    {
     "name": "stdout",
     "output_type": "stream",
     "text": [
      "eq_rot_H_x = \n"
     ]
    },
    {
     "data": {
      "text/latex": [
       "$$-\\frac{\\mathit{Bx}_{0} k^{2} \\sin\\left(\\kappa_{0} x\\right) + {\\left(\\mathit{Ax}_{0} k^{2} + i \\, \\mathit{Bz}_{0} k \\kappa_{0}\\right)} \\cos\\left(\\kappa_{0} x\\right)}{\\mu_{0}} = -\\frac{{\\left(\\mathit{Ax}_{0} k^{2} + \\mathit{Ax}_{0} \\kappa_{0}^{2}\\right)} \\cos\\left(\\kappa_{0} x\\right) + {\\left(\\mathit{Bx}_{0} k^{2} + \\mathit{Bx}_{0} \\kappa_{0}^{2}\\right)} \\sin\\left(\\kappa_{0} x\\right)}{\\mu_{0}}$$"
      ],
      "text/plain": [
       "<IPython.core.display.Math object>"
      ]
     },
     "metadata": {},
     "output_type": "display_data"
    },
    {
     "name": "stdout",
     "output_type": "stream",
     "text": [
      "eq_rot_H_z = \n"
     ]
    },
    {
     "data": {
      "text/latex": [
       "$$\\frac{-i \\, \\mathit{Bx}_{0} k \\kappa_{0} \\cos\\left(\\kappa_{0} x\\right) + {\\left(i \\, \\mathit{Ax}_{0} k \\kappa_{0} - \\mathit{Bz}_{0} \\kappa_{0}^{2}\\right)} \\sin\\left(\\kappa_{0} x\\right)}{\\mu_{0}} = -\\frac{{\\left(\\mathit{Bz}_{0} k^{2} + \\mathit{Bz}_{0} \\kappa_{0}^{2}\\right)} \\sin\\left(\\kappa_{0} x\\right)}{\\mu_{0}}$$"
      ],
      "text/plain": [
       "<IPython.core.display.Math object>"
      ]
     },
     "metadata": {},
     "output_type": "display_data"
    },
    {
     "name": "stdout",
     "output_type": "stream",
     "text": [
      "\n"
     ]
    },
    {
     "data": {
      "text/latex": [
       "$$\\left[\\mathit{Ax}_{0}, \\mathit{Bx}_{0}, \\mathit{Bz}_{0}\\right]$$"
      ],
      "text/plain": [
       "<IPython.core.display.Math object>"
      ]
     },
     "metadata": {},
     "output_type": "display_data"
    },
    {
     "name": "stdout",
     "output_type": "stream",
     "text": [
      "M_rotH =\n"
     ]
    },
    {
     "data": {
      "text/latex": [
       "$$\\left(\\begin{array}{rrr}\n",
       "-\\frac{k^{2} \\cos\\left(\\kappa_{0} x\\right)}{\\mu_{0}} + \\frac{{\\left(k^{2} + \\kappa_{0}^{2}\\right)} \\cos\\left(\\kappa_{0} x\\right)}{\\mu_{0}} & -\\frac{k^{2} \\sin\\left(\\kappa_{0} x\\right)}{\\mu_{0}} + \\frac{{\\left(k^{2} + \\kappa_{0}^{2}\\right)} \\sin\\left(\\kappa_{0} x\\right)}{\\mu_{0}} & -\\frac{i \\, k \\kappa_{0} \\cos\\left(\\kappa_{0} x\\right)}{\\mu_{0}} \\\\\n",
       "\\frac{i \\, k \\kappa_{0} \\sin\\left(\\kappa_{0} x\\right)}{\\mu_{0}} & -\\frac{i \\, k \\kappa_{0} \\cos\\left(\\kappa_{0} x\\right)}{\\mu_{0}} & -\\frac{\\kappa_{0}^{2} \\sin\\left(\\kappa_{0} x\\right)}{\\mu_{0}} + \\frac{{\\left(k^{2} + \\kappa_{0}^{2}\\right)} \\sin\\left(\\kappa_{0} x\\right)}{\\mu_{0}}\n",
       "\\end{array}\\right)$$"
      ],
      "text/plain": [
       "<IPython.core.display.Math object>"
      ]
     },
     "metadata": {},
     "output_type": "display_data"
    },
    {
     "name": "stdout",
     "output_type": "stream",
     "text": [
      "M_rotH.nrows = 2\n",
      "M_rotH.ncols = 3\n",
      "M_rotH.rank = 2\n",
      "eqns =\n"
     ]
    },
    {
     "data": {
      "text/latex": [
       "$$\\left[-\\frac{i \\, \\mathit{Bz}_{0} k \\kappa_{0} \\cos\\left(\\kappa_{0} x\\right)}{\\mu_{0}} - {\\left(\\frac{k^{2} \\cos\\left(\\kappa_{0} x\\right)}{\\mu_{0}} - \\frac{{\\left(k^{2} + \\kappa_{0}^{2}\\right)} \\cos\\left(\\kappa_{0} x\\right)}{\\mu_{0}}\\right)} \\mathit{Ax}_{0} - {\\left(\\frac{k^{2} \\sin\\left(\\kappa_{0} x\\right)}{\\mu_{0}} - \\frac{{\\left(k^{2} + \\kappa_{0}^{2}\\right)} \\sin\\left(\\kappa_{0} x\\right)}{\\mu_{0}}\\right)} \\mathit{Bx}_{0} = 0, -\\frac{i \\, \\mathit{Bx}_{0} k \\kappa_{0} \\cos\\left(\\kappa_{0} x\\right)}{\\mu_{0}} + \\frac{i \\, \\mathit{Ax}_{0} k \\kappa_{0} \\sin\\left(\\kappa_{0} x\\right)}{\\mu_{0}} - {\\left(\\frac{\\kappa_{0}^{2} \\sin\\left(\\kappa_{0} x\\right)}{\\mu_{0}} - \\frac{{\\left(k^{2} + \\kappa_{0}^{2}\\right)} \\sin\\left(\\kappa_{0} x\\right)}{\\mu_{0}}\\right)} \\mathit{Bz}_{0} = 0\\right]$$"
      ],
      "text/plain": [
       "<IPython.core.display.Math object>"
      ]
     },
     "metadata": {},
     "output_type": "display_data"
    },
    {
     "name": "stdout",
     "output_type": "stream",
     "text": [
      "row_M =\n"
     ]
    },
    {
     "data": {
      "text/latex": [
       "$$\\left(-\\frac{k^{2} \\cos\\left(\\kappa_{0} x\\right)}{\\mu_{0}} + \\frac{{\\left(k^{2} + \\kappa_{0}^{2}\\right)} \\cos\\left(\\kappa_{0} x\\right)}{\\mu_{0}},\\,-\\frac{k^{2} \\sin\\left(\\kappa_{0} x\\right)}{\\mu_{0}} + \\frac{{\\left(k^{2} + \\kappa_{0}^{2}\\right)} \\sin\\left(\\kappa_{0} x\\right)}{\\mu_{0}},\\,-\\frac{i \\, k \\kappa_{0} \\cos\\left(\\kappa_{0} x\\right)}{\\mu_{0}}\\right)$$"
      ],
      "text/plain": [
       "<IPython.core.display.Math object>"
      ]
     },
     "metadata": {},
     "output_type": "display_data"
    },
    {
     "name": "stdout",
     "output_type": "stream",
     "text": [
      "eq =\n"
     ]
    },
    {
     "data": {
      "text/latex": [
       "$$\\frac{\\mathit{Bx}_{0} \\kappa_{0}^{2} \\sin\\left(\\kappa_{0} x\\right) + {\\left(-i \\, \\mathit{Bz}_{0} k \\kappa_{0} + \\mathit{Ax}_{0} \\kappa_{0}^{2}\\right)} \\cos\\left(\\kappa_{0} x\\right)}{\\mu_{0}} = 0$$"
      ],
      "text/plain": [
       "<IPython.core.display.Math object>"
      ]
     },
     "metadata": {},
     "output_type": "display_data"
    },
    {
     "name": "stdout",
     "output_type": "stream",
     "text": [
      "\n",
      "eq2 =\n"
     ]
    },
    {
     "data": {
      "text/latex": [
       "$$-\\frac{i \\, \\mathit{Bz}_{0} k \\kappa_{0}}{\\mu_{0}} + \\frac{\\mathit{Ax}_{0} \\kappa_{0}^{2}}{\\mu_{0}} + \\frac{\\mathit{Bx}_{0} \\kappa_{0}^{2} \\sin\\left(\\kappa_{0} x\\right)}{\\mu_{0} \\cos\\left(\\kappa_{0} x\\right)} = 0$$"
      ],
      "text/plain": [
       "<IPython.core.display.Math object>"
      ]
     },
     "metadata": {},
     "output_type": "display_data"
    },
    {
     "name": "stdout",
     "output_type": "stream",
     "text": [
      "tg_kappa_x_coeff =\n"
     ]
    },
    {
     "data": {
      "text/latex": [
       "$$\\frac{\\mathit{Bx}_{0} \\kappa_{0}^{2}}{\\mu_{0}}$$"
      ],
      "text/plain": [
       "<IPython.core.display.Math object>"
      ]
     },
     "metadata": {},
     "output_type": "display_data"
    },
    {
     "name": "stdout",
     "output_type": "stream",
     "text": [
      "var =\n"
     ]
    },
    {
     "data": {
      "text/latex": [
       "$$\\mathit{Ax}_{0}$$"
      ],
      "text/plain": [
       "<IPython.core.display.Math object>"
      ]
     },
     "metadata": {},
     "output_type": "display_data"
    },
    {
     "name": "stdout",
     "output_type": "stream",
     "text": [
      "sol_tg_kappa_x_coeff=\n"
     ]
    },
    {
     "data": {
      "text/latex": [
       "$$\\left[\\right]$$"
      ],
      "text/plain": [
       "<IPython.core.display.Math object>"
      ]
     },
     "metadata": {},
     "output_type": "display_data"
    },
    {
     "name": "stdout",
     "output_type": "stream",
     "text": [
      "var =\n"
     ]
    },
    {
     "data": {
      "text/latex": [
       "$$\\mathit{Bx}_{0}$$"
      ],
      "text/plain": [
       "<IPython.core.display.Math object>"
      ]
     },
     "metadata": {},
     "output_type": "display_data"
    },
    {
     "name": "stdout",
     "output_type": "stream",
     "text": [
      "sol_tg_kappa_x_coeff=\n"
     ]
    },
    {
     "data": {
      "text/latex": [
       "$$\\left[\\mathit{Bx}_{0} = 0\\right]$$"
      ],
      "text/plain": [
       "<IPython.core.display.Math object>"
      ]
     },
     "metadata": {},
     "output_type": "display_data"
    },
    {
     "name": "stdout",
     "output_type": "stream",
     "text": [
      "eq4 =\n"
     ]
    },
    {
     "data": {
      "text/latex": [
       "$$\\frac{{\\left(-i \\, \\mathit{Bz}_{0} k \\kappa_{0} + \\mathit{Ax}_{0} \\kappa_{0}^{2}\\right)} \\cos\\left(\\kappa_{0} x\\right)}{\\mu_{0}} = 0$$"
      ],
      "text/plain": [
       "<IPython.core.display.Math object>"
      ]
     },
     "metadata": {},
     "output_type": "display_data"
    },
    {
     "name": "stdout",
     "output_type": "stream",
     "text": [
      "eq4 =\n"
     ]
    },
    {
     "data": {
      "text/latex": [
       "$$\\frac{{\\left(-i \\, \\mathit{Bz}_{0} k \\kappa_{0} + \\mathit{Ax}_{0} \\kappa_{0}^{2}\\right)} \\cos\\left(\\kappa_{0} x\\right)}{\\mu_{0}} = 0$$"
      ],
      "text/plain": [
       "<IPython.core.display.Math object>"
      ]
     },
     "metadata": {},
     "output_type": "display_data"
    },
    {
     "name": "stdout",
     "output_type": "stream",
     "text": [
      "var =\n"
     ]
    },
    {
     "data": {
      "text/latex": [
       "$$\\mathit{Ax}_{0}$$"
      ],
      "text/plain": [
       "<IPython.core.display.Math object>"
      ]
     },
     "metadata": {},
     "output_type": "display_data"
    },
    {
     "name": "stdout",
     "output_type": "stream",
     "text": [
      "\n",
      "sol=\n"
     ]
    },
    {
     "data": {
      "text/latex": [
       "$$\\left[\\mathit{Ax}_{0} = \\frac{i \\, \\mathit{Bz}_{0} k}{\\kappa_{0}}\\right]$$"
      ],
      "text/plain": [
       "<IPython.core.display.Math object>"
      ]
     },
     "metadata": {},
     "output_type": "display_data"
    },
    {
     "name": "stdout",
     "output_type": "stream",
     "text": [
      "\n",
      "var =\n"
     ]
    },
    {
     "data": {
      "text/latex": [
       "$$\\mathit{Bx}_{0}$$"
      ],
      "text/plain": [
       "<IPython.core.display.Math object>"
      ]
     },
     "metadata": {},
     "output_type": "display_data"
    },
    {
     "name": "stdout",
     "output_type": "stream",
     "text": [
      "\n",
      "sol=\n"
     ]
    },
    {
     "data": {
      "text/latex": [
       "$$\\left[\\right]$$"
      ],
      "text/plain": [
       "<IPython.core.display.Math object>"
      ]
     },
     "metadata": {},
     "output_type": "display_data"
    },
    {
     "name": "stdout",
     "output_type": "stream",
     "text": [
      "\n",
      "var =\n"
     ]
    },
    {
     "data": {
      "text/latex": [
       "$$\\mathit{Bz}_{0}$$"
      ],
      "text/plain": [
       "<IPython.core.display.Math object>"
      ]
     },
     "metadata": {},
     "output_type": "display_data"
    },
    {
     "name": "stdout",
     "output_type": "stream",
     "text": [
      "\n",
      "sol=\n"
     ]
    },
    {
     "data": {
      "text/latex": [
       "$$\\left[\\mathit{Bz}_{0} = -\\frac{i \\, \\mathit{Ax}_{0} \\kappa_{0}}{k}\\right]$$"
      ],
      "text/plain": [
       "<IPython.core.display.Math object>"
      ]
     },
     "metadata": {},
     "output_type": "display_data"
    },
    {
     "name": "stdout",
     "output_type": "stream",
     "text": [
      "\n",
      "var =\n"
     ]
    },
    {
     "data": {
      "text/latex": [
       "$$\\mathit{Bz}_{0}$$"
      ],
      "text/plain": [
       "<IPython.core.display.Math object>"
      ]
     },
     "metadata": {},
     "output_type": "display_data"
    },
    {
     "name": "stdout",
     "output_type": "stream",
     "text": [
      "sol_tg_kappa_x_coeff=\n"
     ]
    },
    {
     "data": {
      "text/latex": [
       "$$\\left[\\right]$$"
      ],
      "text/plain": [
       "<IPython.core.display.Math object>"
      ]
     },
     "metadata": {},
     "output_type": "display_data"
    },
    {
     "name": "stdout",
     "output_type": "stream",
     "text": [
      "row_M =\n"
     ]
    },
    {
     "data": {
      "text/latex": [
       "$$\\left(\\frac{i \\, k \\kappa_{0} \\sin\\left(\\kappa_{0} x\\right)}{\\mu_{0}},\\,-\\frac{i \\, k \\kappa_{0} \\cos\\left(\\kappa_{0} x\\right)}{\\mu_{0}},\\,-\\frac{\\kappa_{0}^{2} \\sin\\left(\\kappa_{0} x\\right)}{\\mu_{0}} + \\frac{{\\left(k^{2} + \\kappa_{0}^{2}\\right)} \\sin\\left(\\kappa_{0} x\\right)}{\\mu_{0}}\\right)$$"
      ],
      "text/plain": [
       "<IPython.core.display.Math object>"
      ]
     },
     "metadata": {},
     "output_type": "display_data"
    },
    {
     "name": "stdout",
     "output_type": "stream",
     "text": [
      "eq =\n"
     ]
    },
    {
     "data": {
      "text/latex": [
       "$$\\frac{-i \\, \\mathit{Bx}_{0} k \\kappa_{0} \\cos\\left(\\kappa_{0} x\\right) + {\\left(\\mathit{Bz}_{0} k^{2} + i \\, \\mathit{Ax}_{0} k \\kappa_{0}\\right)} \\sin\\left(\\kappa_{0} x\\right)}{\\mu_{0}} = 0$$"
      ],
      "text/plain": [
       "<IPython.core.display.Math object>"
      ]
     },
     "metadata": {},
     "output_type": "display_data"
    },
    {
     "name": "stdout",
     "output_type": "stream",
     "text": [
      "\n",
      "eq2 =\n"
     ]
    },
    {
     "data": {
      "text/latex": [
       "$$-\\frac{i \\, \\mathit{Bx}_{0} k \\kappa_{0}}{\\mu_{0}} + \\frac{\\mathit{Bz}_{0} k^{2} \\sin\\left(\\kappa_{0} x\\right)}{\\mu_{0} \\cos\\left(\\kappa_{0} x\\right)} + \\frac{i \\, \\mathit{Ax}_{0} k \\kappa_{0} \\sin\\left(\\kappa_{0} x\\right)}{\\mu_{0} \\cos\\left(\\kappa_{0} x\\right)} = 0$$"
      ],
      "text/plain": [
       "<IPython.core.display.Math object>"
      ]
     },
     "metadata": {},
     "output_type": "display_data"
    },
    {
     "name": "stdout",
     "output_type": "stream",
     "text": [
      "tg_kappa_x_coeff =\n"
     ]
    },
    {
     "data": {
      "text/latex": [
       "$$\\frac{\\mathit{Bz}_{0} k^{2}}{\\mu_{0}} + \\frac{i \\, \\mathit{Ax}_{0} k \\kappa_{0}}{\\mu_{0}}$$"
      ],
      "text/plain": [
       "<IPython.core.display.Math object>"
      ]
     },
     "metadata": {},
     "output_type": "display_data"
    },
    {
     "name": "stdout",
     "output_type": "stream",
     "text": [
      "var =\n"
     ]
    },
    {
     "data": {
      "text/latex": [
       "$$\\mathit{Ax}_{0}$$"
      ],
      "text/plain": [
       "<IPython.core.display.Math object>"
      ]
     },
     "metadata": {},
     "output_type": "display_data"
    },
    {
     "name": "stdout",
     "output_type": "stream",
     "text": [
      "sol_tg_kappa_x_coeff=\n"
     ]
    },
    {
     "data": {
      "text/latex": [
       "$$\\left[\\mathit{Ax}_{0} = \\frac{i \\, \\mathit{Bz}_{0} k}{\\kappa_{0}}\\right]$$"
      ],
      "text/plain": [
       "<IPython.core.display.Math object>"
      ]
     },
     "metadata": {},
     "output_type": "display_data"
    },
    {
     "name": "stdout",
     "output_type": "stream",
     "text": [
      "eq4 =\n"
     ]
    },
    {
     "data": {
      "text/latex": [
       "$$-\\frac{i \\, \\mathit{Bx}_{0} k \\kappa_{0} \\cos\\left(\\kappa_{0} x\\right)}{\\mu_{0}} = 0$$"
      ],
      "text/plain": [
       "<IPython.core.display.Math object>"
      ]
     },
     "metadata": {},
     "output_type": "display_data"
    },
    {
     "name": "stdout",
     "output_type": "stream",
     "text": [
      "eq4 =\n"
     ]
    },
    {
     "data": {
      "text/latex": [
       "$$-\\frac{i \\, \\mathit{Bx}_{0} k \\kappa_{0} \\cos\\left(\\kappa_{0} x\\right)}{\\mu_{0}} = 0$$"
      ],
      "text/plain": [
       "<IPython.core.display.Math object>"
      ]
     },
     "metadata": {},
     "output_type": "display_data"
    },
    {
     "name": "stdout",
     "output_type": "stream",
     "text": [
      "var =\n"
     ]
    },
    {
     "data": {
      "text/latex": [
       "$$\\mathit{Ax}_{0}$$"
      ],
      "text/plain": [
       "<IPython.core.display.Math object>"
      ]
     },
     "metadata": {},
     "output_type": "display_data"
    },
    {
     "name": "stdout",
     "output_type": "stream",
     "text": [
      "\n",
      "sol=\n"
     ]
    },
    {
     "data": {
      "text/latex": [
       "$$\\left[\\right]$$"
      ],
      "text/plain": [
       "<IPython.core.display.Math object>"
      ]
     },
     "metadata": {},
     "output_type": "display_data"
    },
    {
     "name": "stdout",
     "output_type": "stream",
     "text": [
      "\n",
      "var =\n"
     ]
    },
    {
     "data": {
      "text/latex": [
       "$$\\mathit{Bx}_{0}$$"
      ],
      "text/plain": [
       "<IPython.core.display.Math object>"
      ]
     },
     "metadata": {},
     "output_type": "display_data"
    },
    {
     "name": "stdout",
     "output_type": "stream",
     "text": [
      "\n",
      "sol=\n"
     ]
    },
    {
     "data": {
      "text/latex": [
       "$$\\left[\\mathit{Bx}_{0} = 0\\right]$$"
      ],
      "text/plain": [
       "<IPython.core.display.Math object>"
      ]
     },
     "metadata": {},
     "output_type": "display_data"
    },
    {
     "name": "stdout",
     "output_type": "stream",
     "text": [
      "\n",
      "var =\n"
     ]
    },
    {
     "data": {
      "text/latex": [
       "$$\\mathit{Bz}_{0}$$"
      ],
      "text/plain": [
       "<IPython.core.display.Math object>"
      ]
     },
     "metadata": {},
     "output_type": "display_data"
    },
    {
     "name": "stdout",
     "output_type": "stream",
     "text": [
      "\n",
      "sol=\n"
     ]
    },
    {
     "data": {
      "text/latex": [
       "$$\\left[\\right]$$"
      ],
      "text/plain": [
       "<IPython.core.display.Math object>"
      ]
     },
     "metadata": {},
     "output_type": "display_data"
    },
    {
     "name": "stdout",
     "output_type": "stream",
     "text": [
      "\n",
      "var =\n"
     ]
    },
    {
     "data": {
      "text/latex": [
       "$$\\mathit{Bx}_{0}$$"
      ],
      "text/plain": [
       "<IPython.core.display.Math object>"
      ]
     },
     "metadata": {},
     "output_type": "display_data"
    },
    {
     "name": "stdout",
     "output_type": "stream",
     "text": [
      "sol_tg_kappa_x_coeff=\n"
     ]
    },
    {
     "data": {
      "text/latex": [
       "$$\\left[\\right]$$"
      ],
      "text/plain": [
       "<IPython.core.display.Math object>"
      ]
     },
     "metadata": {},
     "output_type": "display_data"
    },
    {
     "name": "stdout",
     "output_type": "stream",
     "text": [
      "var =\n"
     ]
    },
    {
     "data": {
      "text/latex": [
       "$$\\mathit{Bz}_{0}$$"
      ],
      "text/plain": [
       "<IPython.core.display.Math object>"
      ]
     },
     "metadata": {},
     "output_type": "display_data"
    },
    {
     "name": "stdout",
     "output_type": "stream",
     "text": [
      "sol_tg_kappa_x_coeff=\n"
     ]
    },
    {
     "data": {
      "text/latex": [
       "$$\\left[\\mathit{Bz}_{0} = -\\frac{i \\, \\mathit{Ax}_{0} \\kappa_{0}}{k}\\right]$$"
      ],
      "text/plain": [
       "<IPython.core.display.Math object>"
      ]
     },
     "metadata": {},
     "output_type": "display_data"
    },
    {
     "name": "stdout",
     "output_type": "stream",
     "text": [
      "eq4 =\n"
     ]
    },
    {
     "data": {
      "text/latex": [
       "$$-\\frac{i \\, \\mathit{Bx}_{0} k \\kappa_{0} \\cos\\left(\\kappa_{0} x\\right)}{\\mu_{0}} = 0$$"
      ],
      "text/plain": [
       "<IPython.core.display.Math object>"
      ]
     },
     "metadata": {},
     "output_type": "display_data"
    },
    {
     "name": "stdout",
     "output_type": "stream",
     "text": [
      "eq4 =\n"
     ]
    },
    {
     "data": {
      "text/latex": [
       "$$-\\frac{i \\, \\mathit{Bx}_{0} k \\kappa_{0} \\cos\\left(\\kappa_{0} x\\right)}{\\mu_{0}} = 0$$"
      ],
      "text/plain": [
       "<IPython.core.display.Math object>"
      ]
     },
     "metadata": {},
     "output_type": "display_data"
    },
    {
     "name": "stdout",
     "output_type": "stream",
     "text": [
      "var =\n"
     ]
    },
    {
     "data": {
      "text/latex": [
       "$$\\mathit{Ax}_{0}$$"
      ],
      "text/plain": [
       "<IPython.core.display.Math object>"
      ]
     },
     "metadata": {},
     "output_type": "display_data"
    },
    {
     "name": "stdout",
     "output_type": "stream",
     "text": [
      "\n",
      "sol=\n"
     ]
    },
    {
     "data": {
      "text/latex": [
       "$$\\left[\\right]$$"
      ],
      "text/plain": [
       "<IPython.core.display.Math object>"
      ]
     },
     "metadata": {},
     "output_type": "display_data"
    },
    {
     "name": "stdout",
     "output_type": "stream",
     "text": [
      "\n",
      "var =\n"
     ]
    },
    {
     "data": {
      "text/latex": [
       "$$\\mathit{Bx}_{0}$$"
      ],
      "text/plain": [
       "<IPython.core.display.Math object>"
      ]
     },
     "metadata": {},
     "output_type": "display_data"
    },
    {
     "name": "stdout",
     "output_type": "stream",
     "text": [
      "\n",
      "sol=\n"
     ]
    },
    {
     "data": {
      "text/latex": [
       "$$\\left[\\mathit{Bx}_{0} = 0\\right]$$"
      ],
      "text/plain": [
       "<IPython.core.display.Math object>"
      ]
     },
     "metadata": {},
     "output_type": "display_data"
    },
    {
     "name": "stdout",
     "output_type": "stream",
     "text": [
      "\n",
      "var =\n"
     ]
    },
    {
     "data": {
      "text/latex": [
       "$$\\mathit{Bz}_{0}$$"
      ],
      "text/plain": [
       "<IPython.core.display.Math object>"
      ]
     },
     "metadata": {},
     "output_type": "display_data"
    },
    {
     "name": "stdout",
     "output_type": "stream",
     "text": [
      "\n",
      "sol=\n"
     ]
    },
    {
     "data": {
      "text/latex": [
       "$$\\left[\\right]$$"
      ],
      "text/plain": [
       "<IPython.core.display.Math object>"
      ]
     },
     "metadata": {},
     "output_type": "display_data"
    },
    {
     "name": "stdout",
     "output_type": "stream",
     "text": [
      "\n",
      "eq_rot_H_x = \n"
     ]
    },
    {
     "data": {
      "text/latex": [
       "$$-\\frac{{\\left({\\left(\\mathit{Ax}_{1} k^{2} + i \\, \\mathit{Bz}_{1} k \\kappa_{1}\\right)} \\cos\\left(h_{0} \\kappa_{1}\\right) \\cos\\left(h_{1} \\kappa_{1}\\right) - {\\left(\\mathit{Ax}_{1} k^{2} + i \\, \\mathit{Bz}_{1} k \\kappa_{1}\\right)} \\sin\\left(h_{0} \\kappa_{1}\\right) \\sin\\left(h_{1} \\kappa_{1}\\right)\\right)} \\cos\\left(\\kappa_{1} x\\right) + {\\left({\\left(\\mathit{Bx}_{1} k^{2} \\cos\\left(h_{0} \\kappa_{1}\\right) + i \\, \\mathit{Bz}_{1} k \\kappa_{1} \\sin\\left(h_{0} \\kappa_{1}\\right)\\right)} \\cos\\left(h_{1} \\kappa_{1}\\right) - {\\left(-i \\, \\mathit{Bz}_{1} k \\kappa_{1} \\cos\\left(h_{0} \\kappa_{1}\\right) + \\mathit{Bx}_{1} k^{2} \\sin\\left(h_{0} \\kappa_{1}\\right)\\right)} \\sin\\left(h_{1} \\kappa_{1}\\right)\\right)} \\sin\\left(\\kappa_{1} x\\right)}{{\\left(\\cos\\left(h_{0} \\kappa_{1}\\right) \\cos\\left(h_{1} \\kappa_{1}\\right) - \\sin\\left(h_{0} \\kappa_{1}\\right) \\sin\\left(h_{1} \\kappa_{1}\\right)\\right)} \\mu_{1}} = -\\frac{{\\left(\\mathit{Ax}_{1} k^{2} + \\mathit{Ax}_{1} \\kappa_{1}^{2}\\right)} \\cos\\left(\\kappa_{1} x\\right) + {\\left(\\mathit{Bx}_{1} k^{2} + \\mathit{Bx}_{1} \\kappa_{1}^{2}\\right)} \\sin\\left(\\kappa_{1} x\\right)}{\\mu_{1}}$$"
      ],
      "text/plain": [
       "<IPython.core.display.Math object>"
      ]
     },
     "metadata": {},
     "output_type": "display_data"
    },
    {
     "name": "stdout",
     "output_type": "stream",
     "text": [
      "eq_rot_H_z = \n"
     ]
    },
    {
     "data": {
      "text/latex": [
       "$$\\frac{{\\left({\\left(-i \\, \\mathit{Bx}_{1} k \\kappa_{1} \\cos\\left(h_{0} \\kappa_{1}\\right) + \\mathit{Bz}_{1} \\kappa_{1}^{2} \\sin\\left(h_{0} \\kappa_{1}\\right)\\right)} \\cos\\left(h_{1} \\kappa_{1}\\right) + {\\left(\\mathit{Bz}_{1} \\kappa_{1}^{2} \\cos\\left(h_{0} \\kappa_{1}\\right) + i \\, \\mathit{Bx}_{1} k \\kappa_{1} \\sin\\left(h_{0} \\kappa_{1}\\right)\\right)} \\sin\\left(h_{1} \\kappa_{1}\\right)\\right)} \\cos\\left(\\kappa_{1} x\\right) + {\\left({\\left(i \\, \\mathit{Ax}_{1} k \\kappa_{1} - \\mathit{Bz}_{1} \\kappa_{1}^{2}\\right)} \\cos\\left(h_{0} \\kappa_{1}\\right) \\cos\\left(h_{1} \\kappa_{1}\\right) + {\\left(-i \\, \\mathit{Ax}_{1} k \\kappa_{1} + \\mathit{Bz}_{1} \\kappa_{1}^{2}\\right)} \\sin\\left(h_{0} \\kappa_{1}\\right) \\sin\\left(h_{1} \\kappa_{1}\\right)\\right)} \\sin\\left(\\kappa_{1} x\\right)}{{\\left(\\cos\\left(h_{0} \\kappa_{1}\\right) \\cos\\left(h_{1} \\kappa_{1}\\right) - \\sin\\left(h_{0} \\kappa_{1}\\right) \\sin\\left(h_{1} \\kappa_{1}\\right)\\right)} \\mu_{1}} = \\frac{{\\left({\\left(\\mathit{Bz}_{1} k^{2} + \\mathit{Bz}_{1} \\kappa_{1}^{2}\\right)} \\cos\\left(h_{1} \\kappa_{1}\\right) \\sin\\left(h_{0} \\kappa_{1}\\right) + {\\left(\\mathit{Bz}_{1} k^{2} + \\mathit{Bz}_{1} \\kappa_{1}^{2}\\right)} \\cos\\left(h_{0} \\kappa_{1}\\right) \\sin\\left(h_{1} \\kappa_{1}\\right)\\right)} \\cos\\left(\\kappa_{1} x\\right) - {\\left({\\left(\\mathit{Bz}_{1} k^{2} + \\mathit{Bz}_{1} \\kappa_{1}^{2}\\right)} \\cos\\left(h_{0} \\kappa_{1}\\right) \\cos\\left(h_{1} \\kappa_{1}\\right) - {\\left(\\mathit{Bz}_{1} k^{2} + \\mathit{Bz}_{1} \\kappa_{1}^{2}\\right)} \\sin\\left(h_{0} \\kappa_{1}\\right) \\sin\\left(h_{1} \\kappa_{1}\\right)\\right)} \\sin\\left(\\kappa_{1} x\\right)}{{\\left(\\cos\\left(h_{0} \\kappa_{1}\\right) \\cos\\left(h_{1} \\kappa_{1}\\right) - \\sin\\left(h_{0} \\kappa_{1}\\right) \\sin\\left(h_{1} \\kappa_{1}\\right)\\right)} \\mu_{1}}$$"
      ],
      "text/plain": [
       "<IPython.core.display.Math object>"
      ]
     },
     "metadata": {},
     "output_type": "display_data"
    },
    {
     "name": "stdout",
     "output_type": "stream",
     "text": [
      "\n"
     ]
    },
    {
     "data": {
      "text/latex": [
       "$$\\left[\\mathit{Ax}_{1}, \\mathit{Bx}_{1}, \\mathit{Bz}_{1}\\right]$$"
      ],
      "text/plain": [
       "<IPython.core.display.Math object>"
      ]
     },
     "metadata": {},
     "output_type": "display_data"
    },
    {
     "name": "stdout",
     "output_type": "stream",
     "text": [
      "M_rotH =\n"
     ]
    },
    {
     "data": {
      "text/latex": [
       "$$\\left(\\begin{array}{rrr}\n",
       "\\frac{{\\left(k^{2} + \\kappa_{1}^{2}\\right)} \\cos\\left(\\kappa_{1} x\\right)}{\\mu_{1}} - \\frac{{\\left(k^{2} \\cos\\left(h_{0} \\kappa_{1}\\right) \\cos\\left(h_{1} \\kappa_{1}\\right) - k^{2} \\sin\\left(h_{0} \\kappa_{1}\\right) \\sin\\left(h_{1} \\kappa_{1}\\right)\\right)} \\cos\\left(\\kappa_{1} x\\right)}{{\\left(\\cos\\left(h_{0} \\kappa_{1}\\right) \\cos\\left(h_{1} \\kappa_{1}\\right) - \\sin\\left(h_{0} \\kappa_{1}\\right) \\sin\\left(h_{1} \\kappa_{1}\\right)\\right)} \\mu_{1}} & \\frac{{\\left(k^{2} + \\kappa_{1}^{2}\\right)} \\sin\\left(\\kappa_{1} x\\right)}{\\mu_{1}} - \\frac{{\\left(k^{2} \\cos\\left(h_{0} \\kappa_{1}\\right) \\cos\\left(h_{1} \\kappa_{1}\\right) - k^{2} \\sin\\left(h_{0} \\kappa_{1}\\right) \\sin\\left(h_{1} \\kappa_{1}\\right)\\right)} \\sin\\left(\\kappa_{1} x\\right)}{{\\left(\\cos\\left(h_{0} \\kappa_{1}\\right) \\cos\\left(h_{1} \\kappa_{1}\\right) - \\sin\\left(h_{0} \\kappa_{1}\\right) \\sin\\left(h_{1} \\kappa_{1}\\right)\\right)} \\mu_{1}} & -\\frac{{\\left(i \\, k \\kappa_{1} \\cos\\left(h_{0} \\kappa_{1}\\right) \\cos\\left(h_{1} \\kappa_{1}\\right) - i \\, k \\kappa_{1} \\sin\\left(h_{0} \\kappa_{1}\\right) \\sin\\left(h_{1} \\kappa_{1}\\right)\\right)} \\cos\\left(\\kappa_{1} x\\right) + {\\left(i \\, k \\kappa_{1} \\cos\\left(h_{1} \\kappa_{1}\\right) \\sin\\left(h_{0} \\kappa_{1}\\right) + i \\, k \\kappa_{1} \\cos\\left(h_{0} \\kappa_{1}\\right) \\sin\\left(h_{1} \\kappa_{1}\\right)\\right)} \\sin\\left(\\kappa_{1} x\\right)}{{\\left(\\cos\\left(h_{0} \\kappa_{1}\\right) \\cos\\left(h_{1} \\kappa_{1}\\right) - \\sin\\left(h_{0} \\kappa_{1}\\right) \\sin\\left(h_{1} \\kappa_{1}\\right)\\right)} \\mu_{1}} \\\\\n",
       "\\frac{{\\left(i \\, k \\kappa_{1} \\cos\\left(h_{0} \\kappa_{1}\\right) \\cos\\left(h_{1} \\kappa_{1}\\right) - i \\, k \\kappa_{1} \\sin\\left(h_{0} \\kappa_{1}\\right) \\sin\\left(h_{1} \\kappa_{1}\\right)\\right)} \\sin\\left(\\kappa_{1} x\\right)}{{\\left(\\cos\\left(h_{0} \\kappa_{1}\\right) \\cos\\left(h_{1} \\kappa_{1}\\right) - \\sin\\left(h_{0} \\kappa_{1}\\right) \\sin\\left(h_{1} \\kappa_{1}\\right)\\right)} \\mu_{1}} & \\frac{{\\left(-i \\, k \\kappa_{1} \\cos\\left(h_{0} \\kappa_{1}\\right) \\cos\\left(h_{1} \\kappa_{1}\\right) + i \\, k \\kappa_{1} \\sin\\left(h_{0} \\kappa_{1}\\right) \\sin\\left(h_{1} \\kappa_{1}\\right)\\right)} \\cos\\left(\\kappa_{1} x\\right)}{{\\left(\\cos\\left(h_{0} \\kappa_{1}\\right) \\cos\\left(h_{1} \\kappa_{1}\\right) - \\sin\\left(h_{0} \\kappa_{1}\\right) \\sin\\left(h_{1} \\kappa_{1}\\right)\\right)} \\mu_{1}} & \\frac{{\\left(\\kappa_{1}^{2} \\cos\\left(h_{1} \\kappa_{1}\\right) \\sin\\left(h_{0} \\kappa_{1}\\right) + \\kappa_{1}^{2} \\cos\\left(h_{0} \\kappa_{1}\\right) \\sin\\left(h_{1} \\kappa_{1}\\right)\\right)} \\cos\\left(\\kappa_{1} x\\right) - {\\left(\\kappa_{1}^{2} \\cos\\left(h_{0} \\kappa_{1}\\right) \\cos\\left(h_{1} \\kappa_{1}\\right) - \\kappa_{1}^{2} \\sin\\left(h_{0} \\kappa_{1}\\right) \\sin\\left(h_{1} \\kappa_{1}\\right)\\right)} \\sin\\left(\\kappa_{1} x\\right)}{{\\left(\\cos\\left(h_{0} \\kappa_{1}\\right) \\cos\\left(h_{1} \\kappa_{1}\\right) - \\sin\\left(h_{0} \\kappa_{1}\\right) \\sin\\left(h_{1} \\kappa_{1}\\right)\\right)} \\mu_{1}} - \\frac{{\\left({\\left(k^{2} + \\kappa_{1}^{2}\\right)} \\cos\\left(h_{1} \\kappa_{1}\\right) \\sin\\left(h_{0} \\kappa_{1}\\right) + {\\left(k^{2} + \\kappa_{1}^{2}\\right)} \\cos\\left(h_{0} \\kappa_{1}\\right) \\sin\\left(h_{1} \\kappa_{1}\\right)\\right)} \\cos\\left(\\kappa_{1} x\\right) - {\\left({\\left(k^{2} + \\kappa_{1}^{2}\\right)} \\cos\\left(h_{0} \\kappa_{1}\\right) \\cos\\left(h_{1} \\kappa_{1}\\right) - {\\left(k^{2} + \\kappa_{1}^{2}\\right)} \\sin\\left(h_{0} \\kappa_{1}\\right) \\sin\\left(h_{1} \\kappa_{1}\\right)\\right)} \\sin\\left(\\kappa_{1} x\\right)}{{\\left(\\cos\\left(h_{0} \\kappa_{1}\\right) \\cos\\left(h_{1} \\kappa_{1}\\right) - \\sin\\left(h_{0} \\kappa_{1}\\right) \\sin\\left(h_{1} \\kappa_{1}\\right)\\right)} \\mu_{1}}\n",
       "\\end{array}\\right)$$"
      ],
      "text/plain": [
       "<IPython.core.display.Math object>"
      ]
     },
     "metadata": {},
     "output_type": "display_data"
    },
    {
     "name": "stdout",
     "output_type": "stream",
     "text": [
      "M_rotH.nrows = 2\n",
      "M_rotH.ncols = 3\n",
      "M_rotH.rank = 2\n",
      "eqns =\n"
     ]
    },
    {
     "data": {
      "text/latex": [
       "$$\\left[\\mathit{Ax}_{1} {\\left(\\frac{{\\left(k^{2} + \\kappa_{1}^{2}\\right)} \\cos\\left(\\kappa_{1} x\\right)}{\\mu_{1}} - \\frac{{\\left(k^{2} \\cos\\left(h_{0} \\kappa_{1}\\right) \\cos\\left(h_{1} \\kappa_{1}\\right) - k^{2} \\sin\\left(h_{0} \\kappa_{1}\\right) \\sin\\left(h_{1} \\kappa_{1}\\right)\\right)} \\cos\\left(\\kappa_{1} x\\right)}{{\\left(\\cos\\left(h_{0} \\kappa_{1}\\right) \\cos\\left(h_{1} \\kappa_{1}\\right) - \\sin\\left(h_{0} \\kappa_{1}\\right) \\sin\\left(h_{1} \\kappa_{1}\\right)\\right)} \\mu_{1}}\\right)} + \\mathit{Bx}_{1} {\\left(\\frac{{\\left(k^{2} + \\kappa_{1}^{2}\\right)} \\sin\\left(\\kappa_{1} x\\right)}{\\mu_{1}} - \\frac{{\\left(k^{2} \\cos\\left(h_{0} \\kappa_{1}\\right) \\cos\\left(h_{1} \\kappa_{1}\\right) - k^{2} \\sin\\left(h_{0} \\kappa_{1}\\right) \\sin\\left(h_{1} \\kappa_{1}\\right)\\right)} \\sin\\left(\\kappa_{1} x\\right)}{{\\left(\\cos\\left(h_{0} \\kappa_{1}\\right) \\cos\\left(h_{1} \\kappa_{1}\\right) - \\sin\\left(h_{0} \\kappa_{1}\\right) \\sin\\left(h_{1} \\kappa_{1}\\right)\\right)} \\mu_{1}}\\right)} - \\frac{{\\left({\\left(i \\, k \\kappa_{1} \\cos\\left(h_{0} \\kappa_{1}\\right) \\cos\\left(h_{1} \\kappa_{1}\\right) - i \\, k \\kappa_{1} \\sin\\left(h_{0} \\kappa_{1}\\right) \\sin\\left(h_{1} \\kappa_{1}\\right)\\right)} \\cos\\left(\\kappa_{1} x\\right) + {\\left(i \\, k \\kappa_{1} \\cos\\left(h_{1} \\kappa_{1}\\right) \\sin\\left(h_{0} \\kappa_{1}\\right) + i \\, k \\kappa_{1} \\cos\\left(h_{0} \\kappa_{1}\\right) \\sin\\left(h_{1} \\kappa_{1}\\right)\\right)} \\sin\\left(\\kappa_{1} x\\right)\\right)} \\mathit{Bz}_{1}}{{\\left(\\cos\\left(h_{0} \\kappa_{1}\\right) \\cos\\left(h_{1} \\kappa_{1}\\right) - \\sin\\left(h_{0} \\kappa_{1}\\right) \\sin\\left(h_{1} \\kappa_{1}\\right)\\right)} \\mu_{1}} = 0, \\mathit{Bz}_{1} {\\left(\\frac{{\\left(\\kappa_{1}^{2} \\cos\\left(h_{1} \\kappa_{1}\\right) \\sin\\left(h_{0} \\kappa_{1}\\right) + \\kappa_{1}^{2} \\cos\\left(h_{0} \\kappa_{1}\\right) \\sin\\left(h_{1} \\kappa_{1}\\right)\\right)} \\cos\\left(\\kappa_{1} x\\right) - {\\left(\\kappa_{1}^{2} \\cos\\left(h_{0} \\kappa_{1}\\right) \\cos\\left(h_{1} \\kappa_{1}\\right) - \\kappa_{1}^{2} \\sin\\left(h_{0} \\kappa_{1}\\right) \\sin\\left(h_{1} \\kappa_{1}\\right)\\right)} \\sin\\left(\\kappa_{1} x\\right)}{{\\left(\\cos\\left(h_{0} \\kappa_{1}\\right) \\cos\\left(h_{1} \\kappa_{1}\\right) - \\sin\\left(h_{0} \\kappa_{1}\\right) \\sin\\left(h_{1} \\kappa_{1}\\right)\\right)} \\mu_{1}} - \\frac{{\\left({\\left(k^{2} + \\kappa_{1}^{2}\\right)} \\cos\\left(h_{1} \\kappa_{1}\\right) \\sin\\left(h_{0} \\kappa_{1}\\right) + {\\left(k^{2} + \\kappa_{1}^{2}\\right)} \\cos\\left(h_{0} \\kappa_{1}\\right) \\sin\\left(h_{1} \\kappa_{1}\\right)\\right)} \\cos\\left(\\kappa_{1} x\\right) - {\\left({\\left(k^{2} + \\kappa_{1}^{2}\\right)} \\cos\\left(h_{0} \\kappa_{1}\\right) \\cos\\left(h_{1} \\kappa_{1}\\right) - {\\left(k^{2} + \\kappa_{1}^{2}\\right)} \\sin\\left(h_{0} \\kappa_{1}\\right) \\sin\\left(h_{1} \\kappa_{1}\\right)\\right)} \\sin\\left(\\kappa_{1} x\\right)}{{\\left(\\cos\\left(h_{0} \\kappa_{1}\\right) \\cos\\left(h_{1} \\kappa_{1}\\right) - \\sin\\left(h_{0} \\kappa_{1}\\right) \\sin\\left(h_{1} \\kappa_{1}\\right)\\right)} \\mu_{1}}\\right)} + \\frac{{\\left(-i \\, k \\kappa_{1} \\cos\\left(h_{0} \\kappa_{1}\\right) \\cos\\left(h_{1} \\kappa_{1}\\right) + i \\, k \\kappa_{1} \\sin\\left(h_{0} \\kappa_{1}\\right) \\sin\\left(h_{1} \\kappa_{1}\\right)\\right)} \\mathit{Bx}_{1} \\cos\\left(\\kappa_{1} x\\right)}{{\\left(\\cos\\left(h_{0} \\kappa_{1}\\right) \\cos\\left(h_{1} \\kappa_{1}\\right) - \\sin\\left(h_{0} \\kappa_{1}\\right) \\sin\\left(h_{1} \\kappa_{1}\\right)\\right)} \\mu_{1}} + \\frac{{\\left(i \\, k \\kappa_{1} \\cos\\left(h_{0} \\kappa_{1}\\right) \\cos\\left(h_{1} \\kappa_{1}\\right) - i \\, k \\kappa_{1} \\sin\\left(h_{0} \\kappa_{1}\\right) \\sin\\left(h_{1} \\kappa_{1}\\right)\\right)} \\mathit{Ax}_{1} \\sin\\left(\\kappa_{1} x\\right)}{{\\left(\\cos\\left(h_{0} \\kappa_{1}\\right) \\cos\\left(h_{1} \\kappa_{1}\\right) - \\sin\\left(h_{0} \\kappa_{1}\\right) \\sin\\left(h_{1} \\kappa_{1}\\right)\\right)} \\mu_{1}} = 0\\right]$$"
      ],
      "text/plain": [
       "<IPython.core.display.Math object>"
      ]
     },
     "metadata": {},
     "output_type": "display_data"
    },
    {
     "name": "stdout",
     "output_type": "stream",
     "text": [
      "row_M =\n"
     ]
    },
    {
     "data": {
      "text/latex": [
       "$$\\left(\\frac{{\\left(k^{2} + \\kappa_{1}^{2}\\right)} \\cos\\left(\\kappa_{1} x\\right)}{\\mu_{1}} - \\frac{{\\left(k^{2} \\cos\\left(h_{0} \\kappa_{1}\\right) \\cos\\left(h_{1} \\kappa_{1}\\right) - k^{2} \\sin\\left(h_{0} \\kappa_{1}\\right) \\sin\\left(h_{1} \\kappa_{1}\\right)\\right)} \\cos\\left(\\kappa_{1} x\\right)}{{\\left(\\cos\\left(h_{0} \\kappa_{1}\\right) \\cos\\left(h_{1} \\kappa_{1}\\right) - \\sin\\left(h_{0} \\kappa_{1}\\right) \\sin\\left(h_{1} \\kappa_{1}\\right)\\right)} \\mu_{1}},\\,\\frac{{\\left(k^{2} + \\kappa_{1}^{2}\\right)} \\sin\\left(\\kappa_{1} x\\right)}{\\mu_{1}} - \\frac{{\\left(k^{2} \\cos\\left(h_{0} \\kappa_{1}\\right) \\cos\\left(h_{1} \\kappa_{1}\\right) - k^{2} \\sin\\left(h_{0} \\kappa_{1}\\right) \\sin\\left(h_{1} \\kappa_{1}\\right)\\right)} \\sin\\left(\\kappa_{1} x\\right)}{{\\left(\\cos\\left(h_{0} \\kappa_{1}\\right) \\cos\\left(h_{1} \\kappa_{1}\\right) - \\sin\\left(h_{0} \\kappa_{1}\\right) \\sin\\left(h_{1} \\kappa_{1}\\right)\\right)} \\mu_{1}},\\,-\\frac{{\\left(i \\, k \\kappa_{1} \\cos\\left(h_{0} \\kappa_{1}\\right) \\cos\\left(h_{1} \\kappa_{1}\\right) - i \\, k \\kappa_{1} \\sin\\left(h_{0} \\kappa_{1}\\right) \\sin\\left(h_{1} \\kappa_{1}\\right)\\right)} \\cos\\left(\\kappa_{1} x\\right) + {\\left(i \\, k \\kappa_{1} \\cos\\left(h_{1} \\kappa_{1}\\right) \\sin\\left(h_{0} \\kappa_{1}\\right) + i \\, k \\kappa_{1} \\cos\\left(h_{0} \\kappa_{1}\\right) \\sin\\left(h_{1} \\kappa_{1}\\right)\\right)} \\sin\\left(\\kappa_{1} x\\right)}{{\\left(\\cos\\left(h_{0} \\kappa_{1}\\right) \\cos\\left(h_{1} \\kappa_{1}\\right) - \\sin\\left(h_{0} \\kappa_{1}\\right) \\sin\\left(h_{1} \\kappa_{1}\\right)\\right)} \\mu_{1}}\\right)$$"
      ],
      "text/plain": [
       "<IPython.core.display.Math object>"
      ]
     },
     "metadata": {},
     "output_type": "display_data"
    },
    {
     "name": "stdout",
     "output_type": "stream",
     "text": [
      "eq =\n"
     ]
    },
    {
     "data": {
      "text/latex": [
       "$$-\\frac{{\\left({\\left(i \\, \\mathit{Bz}_{1} k \\kappa_{1} - \\mathit{Ax}_{1} \\kappa_{1}^{2}\\right)} \\cos\\left(h_{0} \\kappa_{1}\\right) \\cos\\left(h_{1} \\kappa_{1}\\right) + {\\left(-i \\, \\mathit{Bz}_{1} k \\kappa_{1} + \\mathit{Ax}_{1} \\kappa_{1}^{2}\\right)} \\sin\\left(h_{0} \\kappa_{1}\\right) \\sin\\left(h_{1} \\kappa_{1}\\right)\\right)} \\cos\\left(\\kappa_{1} x\\right) - {\\left({\\left(\\mathit{Bx}_{1} \\kappa_{1}^{2} \\cos\\left(h_{0} \\kappa_{1}\\right) - i \\, \\mathit{Bz}_{1} k \\kappa_{1} \\sin\\left(h_{0} \\kappa_{1}\\right)\\right)} \\cos\\left(h_{1} \\kappa_{1}\\right) - {\\left(i \\, \\mathit{Bz}_{1} k \\kappa_{1} \\cos\\left(h_{0} \\kappa_{1}\\right) + \\mathit{Bx}_{1} \\kappa_{1}^{2} \\sin\\left(h_{0} \\kappa_{1}\\right)\\right)} \\sin\\left(h_{1} \\kappa_{1}\\right)\\right)} \\sin\\left(\\kappa_{1} x\\right)}{{\\left(\\cos\\left(h_{0} \\kappa_{1}\\right) \\cos\\left(h_{1} \\kappa_{1}\\right) - \\sin\\left(h_{0} \\kappa_{1}\\right) \\sin\\left(h_{1} \\kappa_{1}\\right)\\right)} \\mu_{1}} = 0$$"
      ],
      "text/plain": [
       "<IPython.core.display.Math object>"
      ]
     },
     "metadata": {},
     "output_type": "display_data"
    },
    {
     "name": "stdout",
     "output_type": "stream",
     "text": [
      "\n",
      "eq2 =\n"
     ]
    },
    {
     "data": {
      "text/latex": [
       "$$-\\frac{i \\, \\mathit{Bz}_{1} k \\kappa_{1} \\cos\\left(h_{0} \\kappa_{1}\\right) \\cos\\left(h_{1} \\kappa_{1}\\right)}{{\\left(\\cos\\left(h_{0} \\kappa_{1}\\right) \\cos\\left(h_{1} \\kappa_{1}\\right) - \\sin\\left(h_{0} \\kappa_{1}\\right) \\sin\\left(h_{1} \\kappa_{1}\\right)\\right)} \\mu_{1}} + \\frac{\\mathit{Ax}_{1} \\kappa_{1}^{2} \\cos\\left(h_{0} \\kappa_{1}\\right) \\cos\\left(h_{1} \\kappa_{1}\\right)}{{\\left(\\cos\\left(h_{0} \\kappa_{1}\\right) \\cos\\left(h_{1} \\kappa_{1}\\right) - \\sin\\left(h_{0} \\kappa_{1}\\right) \\sin\\left(h_{1} \\kappa_{1}\\right)\\right)} \\mu_{1}} + \\frac{i \\, \\mathit{Bz}_{1} k \\kappa_{1} \\sin\\left(h_{0} \\kappa_{1}\\right) \\sin\\left(h_{1} \\kappa_{1}\\right)}{{\\left(\\cos\\left(h_{0} \\kappa_{1}\\right) \\cos\\left(h_{1} \\kappa_{1}\\right) - \\sin\\left(h_{0} \\kappa_{1}\\right) \\sin\\left(h_{1} \\kappa_{1}\\right)\\right)} \\mu_{1}} - \\frac{\\mathit{Ax}_{1} \\kappa_{1}^{2} \\sin\\left(h_{0} \\kappa_{1}\\right) \\sin\\left(h_{1} \\kappa_{1}\\right)}{{\\left(\\cos\\left(h_{0} \\kappa_{1}\\right) \\cos\\left(h_{1} \\kappa_{1}\\right) - \\sin\\left(h_{0} \\kappa_{1}\\right) \\sin\\left(h_{1} \\kappa_{1}\\right)\\right)} \\mu_{1}} + \\frac{\\mathit{Bx}_{1} \\kappa_{1}^{2} \\cos\\left(h_{0} \\kappa_{1}\\right) \\cos\\left(h_{1} \\kappa_{1}\\right) \\sin\\left(\\kappa_{1} x\\right)}{{\\left(\\cos\\left(h_{0} \\kappa_{1}\\right) \\cos\\left(h_{1} \\kappa_{1}\\right) - \\sin\\left(h_{0} \\kappa_{1}\\right) \\sin\\left(h_{1} \\kappa_{1}\\right)\\right)} \\mu_{1} \\cos\\left(\\kappa_{1} x\\right)} - \\frac{i \\, \\mathit{Bz}_{1} k \\kappa_{1} \\cos\\left(h_{1} \\kappa_{1}\\right) \\sin\\left(h_{0} \\kappa_{1}\\right) \\sin\\left(\\kappa_{1} x\\right)}{{\\left(\\cos\\left(h_{0} \\kappa_{1}\\right) \\cos\\left(h_{1} \\kappa_{1}\\right) - \\sin\\left(h_{0} \\kappa_{1}\\right) \\sin\\left(h_{1} \\kappa_{1}\\right)\\right)} \\mu_{1} \\cos\\left(\\kappa_{1} x\\right)} - \\frac{i \\, \\mathit{Bz}_{1} k \\kappa_{1} \\cos\\left(h_{0} \\kappa_{1}\\right) \\sin\\left(h_{1} \\kappa_{1}\\right) \\sin\\left(\\kappa_{1} x\\right)}{{\\left(\\cos\\left(h_{0} \\kappa_{1}\\right) \\cos\\left(h_{1} \\kappa_{1}\\right) - \\sin\\left(h_{0} \\kappa_{1}\\right) \\sin\\left(h_{1} \\kappa_{1}\\right)\\right)} \\mu_{1} \\cos\\left(\\kappa_{1} x\\right)} - \\frac{\\mathit{Bx}_{1} \\kappa_{1}^{2} \\sin\\left(h_{0} \\kappa_{1}\\right) \\sin\\left(h_{1} \\kappa_{1}\\right) \\sin\\left(\\kappa_{1} x\\right)}{{\\left(\\cos\\left(h_{0} \\kappa_{1}\\right) \\cos\\left(h_{1} \\kappa_{1}\\right) - \\sin\\left(h_{0} \\kappa_{1}\\right) \\sin\\left(h_{1} \\kappa_{1}\\right)\\right)} \\mu_{1} \\cos\\left(\\kappa_{1} x\\right)} = 0$$"
      ],
      "text/plain": [
       "<IPython.core.display.Math object>"
      ]
     },
     "metadata": {},
     "output_type": "display_data"
    },
    {
     "name": "stdout",
     "output_type": "stream",
     "text": [
      "tg_kappa_x_coeff =\n"
     ]
    },
    {
     "data": {
      "text/latex": [
       "$$\\frac{\\mathit{Bx}_{1} \\kappa_{1}^{2} \\cos\\left(h_{0} \\kappa_{1}\\right) \\cos\\left(h_{1} \\kappa_{1}\\right)}{{\\left(\\cos\\left(h_{0} \\kappa_{1}\\right) \\cos\\left(h_{1} \\kappa_{1}\\right) - \\sin\\left(h_{0} \\kappa_{1}\\right) \\sin\\left(h_{1} \\kappa_{1}\\right)\\right)} \\mu_{1}} - \\frac{i \\, \\mathit{Bz}_{1} k \\kappa_{1} \\cos\\left(h_{1} \\kappa_{1}\\right) \\sin\\left(h_{0} \\kappa_{1}\\right)}{{\\left(\\cos\\left(h_{0} \\kappa_{1}\\right) \\cos\\left(h_{1} \\kappa_{1}\\right) - \\sin\\left(h_{0} \\kappa_{1}\\right) \\sin\\left(h_{1} \\kappa_{1}\\right)\\right)} \\mu_{1}} - \\frac{i \\, \\mathit{Bz}_{1} k \\kappa_{1} \\cos\\left(h_{0} \\kappa_{1}\\right) \\sin\\left(h_{1} \\kappa_{1}\\right)}{{\\left(\\cos\\left(h_{0} \\kappa_{1}\\right) \\cos\\left(h_{1} \\kappa_{1}\\right) - \\sin\\left(h_{0} \\kappa_{1}\\right) \\sin\\left(h_{1} \\kappa_{1}\\right)\\right)} \\mu_{1}} - \\frac{\\mathit{Bx}_{1} \\kappa_{1}^{2} \\sin\\left(h_{0} \\kappa_{1}\\right) \\sin\\left(h_{1} \\kappa_{1}\\right)}{{\\left(\\cos\\left(h_{0} \\kappa_{1}\\right) \\cos\\left(h_{1} \\kappa_{1}\\right) - \\sin\\left(h_{0} \\kappa_{1}\\right) \\sin\\left(h_{1} \\kappa_{1}\\right)\\right)} \\mu_{1}}$$"
      ],
      "text/plain": [
       "<IPython.core.display.Math object>"
      ]
     },
     "metadata": {},
     "output_type": "display_data"
    },
    {
     "name": "stdout",
     "output_type": "stream",
     "text": [
      "var =\n"
     ]
    },
    {
     "data": {
      "text/latex": [
       "$$\\mathit{Ax}_{1}$$"
      ],
      "text/plain": [
       "<IPython.core.display.Math object>"
      ]
     },
     "metadata": {},
     "output_type": "display_data"
    },
    {
     "name": "stdout",
     "output_type": "stream",
     "text": [
      "sol_tg_kappa_x_coeff=\n"
     ]
    },
    {
     "data": {
      "text/latex": [
       "$$\\left[\\right]$$"
      ],
      "text/plain": [
       "<IPython.core.display.Math object>"
      ]
     },
     "metadata": {},
     "output_type": "display_data"
    },
    {
     "name": "stdout",
     "output_type": "stream",
     "text": [
      "var =\n"
     ]
    },
    {
     "data": {
      "text/latex": [
       "$$\\mathit{Bx}_{1}$$"
      ],
      "text/plain": [
       "<IPython.core.display.Math object>"
      ]
     },
     "metadata": {},
     "output_type": "display_data"
    },
    {
     "name": "stdout",
     "output_type": "stream",
     "text": [
      "sol_tg_kappa_x_coeff=\n"
     ]
    },
    {
     "data": {
      "text/latex": [
       "$$\\left[\\mathit{Bx}_{1} = -\\frac{-i \\, \\mathit{Bz}_{1} k \\cos\\left(h_{1} \\kappa_{1}\\right) \\sin\\left(h_{0} \\kappa_{1}\\right) - i \\, \\mathit{Bz}_{1} k \\cos\\left(h_{0} \\kappa_{1}\\right) \\sin\\left(h_{1} \\kappa_{1}\\right)}{\\kappa_{1} \\cos\\left(h_{0} \\kappa_{1}\\right) \\cos\\left(h_{1} \\kappa_{1}\\right) - \\kappa_{1} \\sin\\left(h_{0} \\kappa_{1}\\right) \\sin\\left(h_{1} \\kappa_{1}\\right)}\\right]$$"
      ],
      "text/plain": [
       "<IPython.core.display.Math object>"
      ]
     },
     "metadata": {},
     "output_type": "display_data"
    },
    {
     "name": "stdout",
     "output_type": "stream",
     "text": [
      "eq4 =\n"
     ]
    },
    {
     "data": {
      "text/latex": [
       "$$-\\frac{{\\left({\\left(i \\, \\mathit{Bz}_{1} k \\kappa_{1} - \\mathit{Ax}_{1} \\kappa_{1}^{2}\\right)} \\cos\\left(h_{0} \\kappa_{1}\\right) \\cos\\left(h_{1} \\kappa_{1}\\right) + {\\left(-i \\, \\mathit{Bz}_{1} k \\kappa_{1} + \\mathit{Ax}_{1} \\kappa_{1}^{2}\\right)} \\sin\\left(h_{0} \\kappa_{1}\\right) \\sin\\left(h_{1} \\kappa_{1}\\right)\\right)} \\cos\\left(\\kappa_{1} x\\right) - {\\left({\\left(-i \\, \\mathit{Bz}_{1} k \\kappa_{1} \\sin\\left(h_{0} \\kappa_{1}\\right) - \\frac{{\\left(-i \\, \\mathit{Bz}_{1} k \\cos\\left(h_{1} \\kappa_{1}\\right) \\sin\\left(h_{0} \\kappa_{1}\\right) - i \\, \\mathit{Bz}_{1} k \\cos\\left(h_{0} \\kappa_{1}\\right) \\sin\\left(h_{1} \\kappa_{1}\\right)\\right)} \\kappa_{1}^{2} \\cos\\left(h_{0} \\kappa_{1}\\right)}{\\kappa_{1} \\cos\\left(h_{0} \\kappa_{1}\\right) \\cos\\left(h_{1} \\kappa_{1}\\right) - \\kappa_{1} \\sin\\left(h_{0} \\kappa_{1}\\right) \\sin\\left(h_{1} \\kappa_{1}\\right)}\\right)} \\cos\\left(h_{1} \\kappa_{1}\\right) - {\\left(i \\, \\mathit{Bz}_{1} k \\kappa_{1} \\cos\\left(h_{0} \\kappa_{1}\\right) - \\frac{{\\left(-i \\, \\mathit{Bz}_{1} k \\cos\\left(h_{1} \\kappa_{1}\\right) \\sin\\left(h_{0} \\kappa_{1}\\right) - i \\, \\mathit{Bz}_{1} k \\cos\\left(h_{0} \\kappa_{1}\\right) \\sin\\left(h_{1} \\kappa_{1}\\right)\\right)} \\kappa_{1}^{2} \\sin\\left(h_{0} \\kappa_{1}\\right)}{\\kappa_{1} \\cos\\left(h_{0} \\kappa_{1}\\right) \\cos\\left(h_{1} \\kappa_{1}\\right) - \\kappa_{1} \\sin\\left(h_{0} \\kappa_{1}\\right) \\sin\\left(h_{1} \\kappa_{1}\\right)}\\right)} \\sin\\left(h_{1} \\kappa_{1}\\right)\\right)} \\sin\\left(\\kappa_{1} x\\right)}{{\\left(\\cos\\left(h_{0} \\kappa_{1}\\right) \\cos\\left(h_{1} \\kappa_{1}\\right) - \\sin\\left(h_{0} \\kappa_{1}\\right) \\sin\\left(h_{1} \\kappa_{1}\\right)\\right)} \\mu_{1}} = 0$$"
      ],
      "text/plain": [
       "<IPython.core.display.Math object>"
      ]
     },
     "metadata": {},
     "output_type": "display_data"
    },
    {
     "name": "stdout",
     "output_type": "stream",
     "text": [
      "eq4 =\n"
     ]
    },
    {
     "data": {
      "text/latex": [
       "$$\\frac{{\\left(-i \\, \\mathit{Bz}_{1} k \\kappa_{1} + \\mathit{Ax}_{1} \\kappa_{1}^{2}\\right)} \\cos\\left(\\kappa_{1} x\\right)}{\\mu_{1}} = 0$$"
      ],
      "text/plain": [
       "<IPython.core.display.Math object>"
      ]
     },
     "metadata": {},
     "output_type": "display_data"
    },
    {
     "name": "stdout",
     "output_type": "stream",
     "text": [
      "var =\n"
     ]
    },
    {
     "data": {
      "text/latex": [
       "$$\\mathit{Ax}_{1}$$"
      ],
      "text/plain": [
       "<IPython.core.display.Math object>"
      ]
     },
     "metadata": {},
     "output_type": "display_data"
    },
    {
     "name": "stdout",
     "output_type": "stream",
     "text": [
      "\n",
      "sol=\n"
     ]
    },
    {
     "data": {
      "text/latex": [
       "$$\\left[\\mathit{Ax}_{1} = \\frac{i \\, \\mathit{Bz}_{1} k}{\\kappa_{1}}\\right]$$"
      ],
      "text/plain": [
       "<IPython.core.display.Math object>"
      ]
     },
     "metadata": {},
     "output_type": "display_data"
    },
    {
     "name": "stdout",
     "output_type": "stream",
     "text": [
      "\n",
      "var =\n"
     ]
    },
    {
     "data": {
      "text/latex": [
       "$$\\mathit{Bx}_{1}$$"
      ],
      "text/plain": [
       "<IPython.core.display.Math object>"
      ]
     },
     "metadata": {},
     "output_type": "display_data"
    },
    {
     "name": "stdout",
     "output_type": "stream",
     "text": [
      "\n",
      "sol=\n"
     ]
    },
    {
     "data": {
      "text/latex": [
       "$$\\left[\\right]$$"
      ],
      "text/plain": [
       "<IPython.core.display.Math object>"
      ]
     },
     "metadata": {},
     "output_type": "display_data"
    },
    {
     "name": "stdout",
     "output_type": "stream",
     "text": [
      "\n",
      "var =\n"
     ]
    },
    {
     "data": {
      "text/latex": [
       "$$\\mathit{Bz}_{1}$$"
      ],
      "text/plain": [
       "<IPython.core.display.Math object>"
      ]
     },
     "metadata": {},
     "output_type": "display_data"
    },
    {
     "name": "stdout",
     "output_type": "stream",
     "text": [
      "\n",
      "sol=\n"
     ]
    },
    {
     "data": {
      "text/latex": [
       "$$\\left[\\mathit{Bz}_{1} = -\\frac{i \\, \\mathit{Ax}_{1} \\kappa_{1}}{k}\\right]$$"
      ],
      "text/plain": [
       "<IPython.core.display.Math object>"
      ]
     },
     "metadata": {},
     "output_type": "display_data"
    },
    {
     "name": "stdout",
     "output_type": "stream",
     "text": [
      "\n",
      "var =\n"
     ]
    },
    {
     "data": {
      "text/latex": [
       "$$\\mathit{Bz}_{1}$$"
      ],
      "text/plain": [
       "<IPython.core.display.Math object>"
      ]
     },
     "metadata": {},
     "output_type": "display_data"
    },
    {
     "name": "stdout",
     "output_type": "stream",
     "text": [
      "sol_tg_kappa_x_coeff=\n"
     ]
    },
    {
     "data": {
      "text/latex": [
       "$$\\left[\\mathit{Bz}_{1} = \\frac{\\mathit{Bx}_{1} \\kappa_{1} \\cos\\left(h_{0} \\kappa_{1}\\right) \\cos\\left(h_{1} \\kappa_{1}\\right) - \\mathit{Bx}_{1} \\kappa_{1} \\sin\\left(h_{0} \\kappa_{1}\\right) \\sin\\left(h_{1} \\kappa_{1}\\right)}{i \\, k \\cos\\left(h_{1} \\kappa_{1}\\right) \\sin\\left(h_{0} \\kappa_{1}\\right) + i \\, k \\cos\\left(h_{0} \\kappa_{1}\\right) \\sin\\left(h_{1} \\kappa_{1}\\right)}\\right]$$"
      ],
      "text/plain": [
       "<IPython.core.display.Math object>"
      ]
     },
     "metadata": {},
     "output_type": "display_data"
    },
    {
     "name": "stdout",
     "output_type": "stream",
     "text": [
      "eq4 =\n"
     ]
    },
    {
     "data": {
      "text/latex": [
       "$$\\frac{{\\left({\\left(\\mathit{Ax}_{1} \\kappa_{1}^{2} - \\frac{i \\, {\\left(\\mathit{Bx}_{1} \\kappa_{1} \\cos\\left(h_{0} \\kappa_{1}\\right) \\cos\\left(h_{1} \\kappa_{1}\\right) - \\mathit{Bx}_{1} \\kappa_{1} \\sin\\left(h_{0} \\kappa_{1}\\right) \\sin\\left(h_{1} \\kappa_{1}\\right)\\right)} k \\kappa_{1}}{i \\, k \\cos\\left(h_{1} \\kappa_{1}\\right) \\sin\\left(h_{0} \\kappa_{1}\\right) + i \\, k \\cos\\left(h_{0} \\kappa_{1}\\right) \\sin\\left(h_{1} \\kappa_{1}\\right)}\\right)} \\cos\\left(h_{0} \\kappa_{1}\\right) \\cos\\left(h_{1} \\kappa_{1}\\right) - {\\left(\\mathit{Ax}_{1} \\kappa_{1}^{2} - \\frac{i \\, {\\left(\\mathit{Bx}_{1} \\kappa_{1} \\cos\\left(h_{0} \\kappa_{1}\\right) \\cos\\left(h_{1} \\kappa_{1}\\right) - \\mathit{Bx}_{1} \\kappa_{1} \\sin\\left(h_{0} \\kappa_{1}\\right) \\sin\\left(h_{1} \\kappa_{1}\\right)\\right)} k \\kappa_{1}}{i \\, k \\cos\\left(h_{1} \\kappa_{1}\\right) \\sin\\left(h_{0} \\kappa_{1}\\right) + i \\, k \\cos\\left(h_{0} \\kappa_{1}\\right) \\sin\\left(h_{1} \\kappa_{1}\\right)}\\right)} \\sin\\left(h_{0} \\kappa_{1}\\right) \\sin\\left(h_{1} \\kappa_{1}\\right)\\right)} \\cos\\left(\\kappa_{1} x\\right) + {\\left({\\left(\\mathit{Bx}_{1} \\kappa_{1}^{2} \\cos\\left(h_{0} \\kappa_{1}\\right) - \\frac{i \\, {\\left(\\mathit{Bx}_{1} \\kappa_{1} \\cos\\left(h_{0} \\kappa_{1}\\right) \\cos\\left(h_{1} \\kappa_{1}\\right) - \\mathit{Bx}_{1} \\kappa_{1} \\sin\\left(h_{0} \\kappa_{1}\\right) \\sin\\left(h_{1} \\kappa_{1}\\right)\\right)} k \\kappa_{1} \\sin\\left(h_{0} \\kappa_{1}\\right)}{i \\, k \\cos\\left(h_{1} \\kappa_{1}\\right) \\sin\\left(h_{0} \\kappa_{1}\\right) + i \\, k \\cos\\left(h_{0} \\kappa_{1}\\right) \\sin\\left(h_{1} \\kappa_{1}\\right)}\\right)} \\cos\\left(h_{1} \\kappa_{1}\\right) - {\\left(\\mathit{Bx}_{1} \\kappa_{1}^{2} \\sin\\left(h_{0} \\kappa_{1}\\right) + \\frac{i \\, {\\left(\\mathit{Bx}_{1} \\kappa_{1} \\cos\\left(h_{0} \\kappa_{1}\\right) \\cos\\left(h_{1} \\kappa_{1}\\right) - \\mathit{Bx}_{1} \\kappa_{1} \\sin\\left(h_{0} \\kappa_{1}\\right) \\sin\\left(h_{1} \\kappa_{1}\\right)\\right)} k \\kappa_{1} \\cos\\left(h_{0} \\kappa_{1}\\right)}{i \\, k \\cos\\left(h_{1} \\kappa_{1}\\right) \\sin\\left(h_{0} \\kappa_{1}\\right) + i \\, k \\cos\\left(h_{0} \\kappa_{1}\\right) \\sin\\left(h_{1} \\kappa_{1}\\right)}\\right)} \\sin\\left(h_{1} \\kappa_{1}\\right)\\right)} \\sin\\left(\\kappa_{1} x\\right)}{{\\left(\\cos\\left(h_{0} \\kappa_{1}\\right) \\cos\\left(h_{1} \\kappa_{1}\\right) - \\sin\\left(h_{0} \\kappa_{1}\\right) \\sin\\left(h_{1} \\kappa_{1}\\right)\\right)} \\mu_{1}} = 0$$"
      ],
      "text/plain": [
       "<IPython.core.display.Math object>"
      ]
     },
     "metadata": {},
     "output_type": "display_data"
    },
    {
     "name": "stdout",
     "output_type": "stream",
     "text": [
      "eq4 =\n"
     ]
    },
    {
     "data": {
      "text/latex": [
       "$$-\\frac{{\\left({\\left(\\mathit{Bx}_{1} \\kappa_{1}^{2} \\cos\\left(h_{0} \\kappa_{1}\\right) - \\mathit{Ax}_{1} \\kappa_{1}^{2} \\sin\\left(h_{0} \\kappa_{1}\\right)\\right)} \\cos\\left(h_{1} \\kappa_{1}\\right) - {\\left(\\mathit{Ax}_{1} \\kappa_{1}^{2} \\cos\\left(h_{0} \\kappa_{1}\\right) + \\mathit{Bx}_{1} \\kappa_{1}^{2} \\sin\\left(h_{0} \\kappa_{1}\\right)\\right)} \\sin\\left(h_{1} \\kappa_{1}\\right)\\right)} \\cos\\left(\\kappa_{1} x\\right)}{{\\left(\\cos\\left(h_{1} \\kappa_{1}\\right) \\sin\\left(h_{0} \\kappa_{1}\\right) + \\cos\\left(h_{0} \\kappa_{1}\\right) \\sin\\left(h_{1} \\kappa_{1}\\right)\\right)} \\mu_{1}} = 0$$"
      ],
      "text/plain": [
       "<IPython.core.display.Math object>"
      ]
     },
     "metadata": {},
     "output_type": "display_data"
    },
    {
     "name": "stdout",
     "output_type": "stream",
     "text": [
      "var =\n"
     ]
    },
    {
     "data": {
      "text/latex": [
       "$$\\mathit{Ax}_{1}$$"
      ],
      "text/plain": [
       "<IPython.core.display.Math object>"
      ]
     },
     "metadata": {},
     "output_type": "display_data"
    },
    {
     "name": "stdout",
     "output_type": "stream",
     "text": [
      "\n",
      "sol=\n"
     ]
    },
    {
     "data": {
      "text/latex": [
       "$$\\left[\\mathit{Ax}_{1} = \\frac{\\mathit{Bx}_{1} \\cos\\left(h_{0} \\kappa_{1}\\right) \\cos\\left(h_{1} \\kappa_{1}\\right) - \\mathit{Bx}_{1} \\sin\\left(h_{0} \\kappa_{1}\\right) \\sin\\left(h_{1} \\kappa_{1}\\right)}{\\cos\\left(h_{1} \\kappa_{1}\\right) \\sin\\left(h_{0} \\kappa_{1}\\right) + \\cos\\left(h_{0} \\kappa_{1}\\right) \\sin\\left(h_{1} \\kappa_{1}\\right)}\\right]$$"
      ],
      "text/plain": [
       "<IPython.core.display.Math object>"
      ]
     },
     "metadata": {},
     "output_type": "display_data"
    },
    {
     "name": "stdout",
     "output_type": "stream",
     "text": [
      "\n",
      "var =\n"
     ]
    },
    {
     "data": {
      "text/latex": [
       "$$\\mathit{Bx}_{1}$$"
      ],
      "text/plain": [
       "<IPython.core.display.Math object>"
      ]
     },
     "metadata": {},
     "output_type": "display_data"
    },
    {
     "name": "stdout",
     "output_type": "stream",
     "text": [
      "\n",
      "sol=\n"
     ]
    },
    {
     "data": {
      "text/latex": [
       "$$\\left[\\mathit{Bx}_{1} = \\frac{\\mathit{Ax}_{1} \\cos\\left(h_{1} \\kappa_{1}\\right) \\sin\\left(h_{0} \\kappa_{1}\\right) + \\mathit{Ax}_{1} \\cos\\left(h_{0} \\kappa_{1}\\right) \\sin\\left(h_{1} \\kappa_{1}\\right)}{\\cos\\left(h_{0} \\kappa_{1}\\right) \\cos\\left(h_{1} \\kappa_{1}\\right) - \\sin\\left(h_{0} \\kappa_{1}\\right) \\sin\\left(h_{1} \\kappa_{1}\\right)}\\right]$$"
      ],
      "text/plain": [
       "<IPython.core.display.Math object>"
      ]
     },
     "metadata": {},
     "output_type": "display_data"
    },
    {
     "name": "stdout",
     "output_type": "stream",
     "text": [
      "\n",
      "var =\n"
     ]
    },
    {
     "data": {
      "text/latex": [
       "$$\\mathit{Bz}_{1}$$"
      ],
      "text/plain": [
       "<IPython.core.display.Math object>"
      ]
     },
     "metadata": {},
     "output_type": "display_data"
    },
    {
     "name": "stdout",
     "output_type": "stream",
     "text": [
      "\n",
      "sol=\n"
     ]
    },
    {
     "data": {
      "text/latex": [
       "$$\\left[\\right]$$"
      ],
      "text/plain": [
       "<IPython.core.display.Math object>"
      ]
     },
     "metadata": {},
     "output_type": "display_data"
    },
    {
     "name": "stdout",
     "output_type": "stream",
     "text": [
      "\n",
      "row_M =\n"
     ]
    },
    {
     "data": {
      "text/latex": [
       "$$\\left(\\frac{{\\left(i \\, k \\kappa_{1} \\cos\\left(h_{0} \\kappa_{1}\\right) \\cos\\left(h_{1} \\kappa_{1}\\right) - i \\, k \\kappa_{1} \\sin\\left(h_{0} \\kappa_{1}\\right) \\sin\\left(h_{1} \\kappa_{1}\\right)\\right)} \\sin\\left(\\kappa_{1} x\\right)}{{\\left(\\cos\\left(h_{0} \\kappa_{1}\\right) \\cos\\left(h_{1} \\kappa_{1}\\right) - \\sin\\left(h_{0} \\kappa_{1}\\right) \\sin\\left(h_{1} \\kappa_{1}\\right)\\right)} \\mu_{1}},\\,\\frac{{\\left(-i \\, k \\kappa_{1} \\cos\\left(h_{0} \\kappa_{1}\\right) \\cos\\left(h_{1} \\kappa_{1}\\right) + i \\, k \\kappa_{1} \\sin\\left(h_{0} \\kappa_{1}\\right) \\sin\\left(h_{1} \\kappa_{1}\\right)\\right)} \\cos\\left(\\kappa_{1} x\\right)}{{\\left(\\cos\\left(h_{0} \\kappa_{1}\\right) \\cos\\left(h_{1} \\kappa_{1}\\right) - \\sin\\left(h_{0} \\kappa_{1}\\right) \\sin\\left(h_{1} \\kappa_{1}\\right)\\right)} \\mu_{1}},\\,\\frac{{\\left(\\kappa_{1}^{2} \\cos\\left(h_{1} \\kappa_{1}\\right) \\sin\\left(h_{0} \\kappa_{1}\\right) + \\kappa_{1}^{2} \\cos\\left(h_{0} \\kappa_{1}\\right) \\sin\\left(h_{1} \\kappa_{1}\\right)\\right)} \\cos\\left(\\kappa_{1} x\\right) - {\\left(\\kappa_{1}^{2} \\cos\\left(h_{0} \\kappa_{1}\\right) \\cos\\left(h_{1} \\kappa_{1}\\right) - \\kappa_{1}^{2} \\sin\\left(h_{0} \\kappa_{1}\\right) \\sin\\left(h_{1} \\kappa_{1}\\right)\\right)} \\sin\\left(\\kappa_{1} x\\right)}{{\\left(\\cos\\left(h_{0} \\kappa_{1}\\right) \\cos\\left(h_{1} \\kappa_{1}\\right) - \\sin\\left(h_{0} \\kappa_{1}\\right) \\sin\\left(h_{1} \\kappa_{1}\\right)\\right)} \\mu_{1}} - \\frac{{\\left({\\left(k^{2} + \\kappa_{1}^{2}\\right)} \\cos\\left(h_{1} \\kappa_{1}\\right) \\sin\\left(h_{0} \\kappa_{1}\\right) + {\\left(k^{2} + \\kappa_{1}^{2}\\right)} \\cos\\left(h_{0} \\kappa_{1}\\right) \\sin\\left(h_{1} \\kappa_{1}\\right)\\right)} \\cos\\left(\\kappa_{1} x\\right) - {\\left({\\left(k^{2} + \\kappa_{1}^{2}\\right)} \\cos\\left(h_{0} \\kappa_{1}\\right) \\cos\\left(h_{1} \\kappa_{1}\\right) - {\\left(k^{2} + \\kappa_{1}^{2}\\right)} \\sin\\left(h_{0} \\kappa_{1}\\right) \\sin\\left(h_{1} \\kappa_{1}\\right)\\right)} \\sin\\left(\\kappa_{1} x\\right)}{{\\left(\\cos\\left(h_{0} \\kappa_{1}\\right) \\cos\\left(h_{1} \\kappa_{1}\\right) - \\sin\\left(h_{0} \\kappa_{1}\\right) \\sin\\left(h_{1} \\kappa_{1}\\right)\\right)} \\mu_{1}}\\right)$$"
      ],
      "text/plain": [
       "<IPython.core.display.Math object>"
      ]
     },
     "metadata": {},
     "output_type": "display_data"
    },
    {
     "name": "stdout",
     "output_type": "stream",
     "text": [
      "eq =\n"
     ]
    },
    {
     "data": {
      "text/latex": [
       "$$-\\frac{{\\left({\\left(i \\, \\mathit{Bx}_{1} k \\kappa_{1} \\cos\\left(h_{0} \\kappa_{1}\\right) + \\mathit{Bz}_{1} k^{2} \\sin\\left(h_{0} \\kappa_{1}\\right)\\right)} \\cos\\left(h_{1} \\kappa_{1}\\right) + {\\left(\\mathit{Bz}_{1} k^{2} \\cos\\left(h_{0} \\kappa_{1}\\right) - i \\, \\mathit{Bx}_{1} k \\kappa_{1} \\sin\\left(h_{0} \\kappa_{1}\\right)\\right)} \\sin\\left(h_{1} \\kappa_{1}\\right)\\right)} \\cos\\left(\\kappa_{1} x\\right) - {\\left({\\left(\\mathit{Bz}_{1} k^{2} + i \\, \\mathit{Ax}_{1} k \\kappa_{1}\\right)} \\cos\\left(h_{0} \\kappa_{1}\\right) \\cos\\left(h_{1} \\kappa_{1}\\right) - {\\left(\\mathit{Bz}_{1} k^{2} + i \\, \\mathit{Ax}_{1} k \\kappa_{1}\\right)} \\sin\\left(h_{0} \\kappa_{1}\\right) \\sin\\left(h_{1} \\kappa_{1}\\right)\\right)} \\sin\\left(\\kappa_{1} x\\right)}{{\\left(\\cos\\left(h_{0} \\kappa_{1}\\right) \\cos\\left(h_{1} \\kappa_{1}\\right) - \\sin\\left(h_{0} \\kappa_{1}\\right) \\sin\\left(h_{1} \\kappa_{1}\\right)\\right)} \\mu_{1}} = 0$$"
      ],
      "text/plain": [
       "<IPython.core.display.Math object>"
      ]
     },
     "metadata": {},
     "output_type": "display_data"
    },
    {
     "name": "stdout",
     "output_type": "stream",
     "text": [
      "\n",
      "eq2 =\n"
     ]
    },
    {
     "data": {
      "text/latex": [
       "$$-\\frac{i \\, \\mathit{Bx}_{1} k \\kappa_{1} \\cos\\left(h_{0} \\kappa_{1}\\right) \\cos\\left(h_{1} \\kappa_{1}\\right)}{{\\left(\\cos\\left(h_{0} \\kappa_{1}\\right) \\cos\\left(h_{1} \\kappa_{1}\\right) - \\sin\\left(h_{0} \\kappa_{1}\\right) \\sin\\left(h_{1} \\kappa_{1}\\right)\\right)} \\mu_{1}} - \\frac{\\mathit{Bz}_{1} k^{2} \\cos\\left(h_{1} \\kappa_{1}\\right) \\sin\\left(h_{0} \\kappa_{1}\\right)}{{\\left(\\cos\\left(h_{0} \\kappa_{1}\\right) \\cos\\left(h_{1} \\kappa_{1}\\right) - \\sin\\left(h_{0} \\kappa_{1}\\right) \\sin\\left(h_{1} \\kappa_{1}\\right)\\right)} \\mu_{1}} - \\frac{\\mathit{Bz}_{1} k^{2} \\cos\\left(h_{0} \\kappa_{1}\\right) \\sin\\left(h_{1} \\kappa_{1}\\right)}{{\\left(\\cos\\left(h_{0} \\kappa_{1}\\right) \\cos\\left(h_{1} \\kappa_{1}\\right) - \\sin\\left(h_{0} \\kappa_{1}\\right) \\sin\\left(h_{1} \\kappa_{1}\\right)\\right)} \\mu_{1}} + \\frac{i \\, \\mathit{Bx}_{1} k \\kappa_{1} \\sin\\left(h_{0} \\kappa_{1}\\right) \\sin\\left(h_{1} \\kappa_{1}\\right)}{{\\left(\\cos\\left(h_{0} \\kappa_{1}\\right) \\cos\\left(h_{1} \\kappa_{1}\\right) - \\sin\\left(h_{0} \\kappa_{1}\\right) \\sin\\left(h_{1} \\kappa_{1}\\right)\\right)} \\mu_{1}} + \\frac{\\mathit{Bz}_{1} k^{2} \\cos\\left(h_{0} \\kappa_{1}\\right) \\cos\\left(h_{1} \\kappa_{1}\\right) \\sin\\left(\\kappa_{1} x\\right)}{{\\left(\\cos\\left(h_{0} \\kappa_{1}\\right) \\cos\\left(h_{1} \\kappa_{1}\\right) - \\sin\\left(h_{0} \\kappa_{1}\\right) \\sin\\left(h_{1} \\kappa_{1}\\right)\\right)} \\mu_{1} \\cos\\left(\\kappa_{1} x\\right)} + \\frac{i \\, \\mathit{Ax}_{1} k \\kappa_{1} \\cos\\left(h_{0} \\kappa_{1}\\right) \\cos\\left(h_{1} \\kappa_{1}\\right) \\sin\\left(\\kappa_{1} x\\right)}{{\\left(\\cos\\left(h_{0} \\kappa_{1}\\right) \\cos\\left(h_{1} \\kappa_{1}\\right) - \\sin\\left(h_{0} \\kappa_{1}\\right) \\sin\\left(h_{1} \\kappa_{1}\\right)\\right)} \\mu_{1} \\cos\\left(\\kappa_{1} x\\right)} - \\frac{\\mathit{Bz}_{1} k^{2} \\sin\\left(h_{0} \\kappa_{1}\\right) \\sin\\left(h_{1} \\kappa_{1}\\right) \\sin\\left(\\kappa_{1} x\\right)}{{\\left(\\cos\\left(h_{0} \\kappa_{1}\\right) \\cos\\left(h_{1} \\kappa_{1}\\right) - \\sin\\left(h_{0} \\kappa_{1}\\right) \\sin\\left(h_{1} \\kappa_{1}\\right)\\right)} \\mu_{1} \\cos\\left(\\kappa_{1} x\\right)} - \\frac{i \\, \\mathit{Ax}_{1} k \\kappa_{1} \\sin\\left(h_{0} \\kappa_{1}\\right) \\sin\\left(h_{1} \\kappa_{1}\\right) \\sin\\left(\\kappa_{1} x\\right)}{{\\left(\\cos\\left(h_{0} \\kappa_{1}\\right) \\cos\\left(h_{1} \\kappa_{1}\\right) - \\sin\\left(h_{0} \\kappa_{1}\\right) \\sin\\left(h_{1} \\kappa_{1}\\right)\\right)} \\mu_{1} \\cos\\left(\\kappa_{1} x\\right)} = 0$$"
      ],
      "text/plain": [
       "<IPython.core.display.Math object>"
      ]
     },
     "metadata": {},
     "output_type": "display_data"
    },
    {
     "name": "stdout",
     "output_type": "stream",
     "text": [
      "tg_kappa_x_coeff =\n"
     ]
    },
    {
     "data": {
      "text/latex": [
       "$$\\frac{\\mathit{Bz}_{1} k^{2} \\cos\\left(h_{0} \\kappa_{1}\\right) \\cos\\left(h_{1} \\kappa_{1}\\right)}{{\\left(\\cos\\left(h_{0} \\kappa_{1}\\right) \\cos\\left(h_{1} \\kappa_{1}\\right) - \\sin\\left(h_{0} \\kappa_{1}\\right) \\sin\\left(h_{1} \\kappa_{1}\\right)\\right)} \\mu_{1}} + \\frac{i \\, \\mathit{Ax}_{1} k \\kappa_{1} \\cos\\left(h_{0} \\kappa_{1}\\right) \\cos\\left(h_{1} \\kappa_{1}\\right)}{{\\left(\\cos\\left(h_{0} \\kappa_{1}\\right) \\cos\\left(h_{1} \\kappa_{1}\\right) - \\sin\\left(h_{0} \\kappa_{1}\\right) \\sin\\left(h_{1} \\kappa_{1}\\right)\\right)} \\mu_{1}} - \\frac{\\mathit{Bz}_{1} k^{2} \\sin\\left(h_{0} \\kappa_{1}\\right) \\sin\\left(h_{1} \\kappa_{1}\\right)}{{\\left(\\cos\\left(h_{0} \\kappa_{1}\\right) \\cos\\left(h_{1} \\kappa_{1}\\right) - \\sin\\left(h_{0} \\kappa_{1}\\right) \\sin\\left(h_{1} \\kappa_{1}\\right)\\right)} \\mu_{1}} - \\frac{i \\, \\mathit{Ax}_{1} k \\kappa_{1} \\sin\\left(h_{0} \\kappa_{1}\\right) \\sin\\left(h_{1} \\kappa_{1}\\right)}{{\\left(\\cos\\left(h_{0} \\kappa_{1}\\right) \\cos\\left(h_{1} \\kappa_{1}\\right) - \\sin\\left(h_{0} \\kappa_{1}\\right) \\sin\\left(h_{1} \\kappa_{1}\\right)\\right)} \\mu_{1}}$$"
      ],
      "text/plain": [
       "<IPython.core.display.Math object>"
      ]
     },
     "metadata": {},
     "output_type": "display_data"
    },
    {
     "name": "stdout",
     "output_type": "stream",
     "text": [
      "var =\n"
     ]
    },
    {
     "data": {
      "text/latex": [
       "$$\\mathit{Ax}_{1}$$"
      ],
      "text/plain": [
       "<IPython.core.display.Math object>"
      ]
     },
     "metadata": {},
     "output_type": "display_data"
    },
    {
     "name": "stdout",
     "output_type": "stream",
     "text": [
      "sol_tg_kappa_x_coeff=\n"
     ]
    },
    {
     "data": {
      "text/latex": [
       "$$\\left[\\mathit{Ax}_{1} = \\frac{i \\, \\mathit{Bz}_{1} k}{\\kappa_{1}}\\right]$$"
      ],
      "text/plain": [
       "<IPython.core.display.Math object>"
      ]
     },
     "metadata": {},
     "output_type": "display_data"
    },
    {
     "name": "stdout",
     "output_type": "stream",
     "text": [
      "eq4 =\n"
     ]
    },
    {
     "data": {
      "text/latex": [
       "$$-\\frac{{\\left({\\left(i \\, \\mathit{Bx}_{1} k \\kappa_{1} \\cos\\left(h_{0} \\kappa_{1}\\right) + \\mathit{Bz}_{1} k^{2} \\sin\\left(h_{0} \\kappa_{1}\\right)\\right)} \\cos\\left(h_{1} \\kappa_{1}\\right) + {\\left(\\mathit{Bz}_{1} k^{2} \\cos\\left(h_{0} \\kappa_{1}\\right) - i \\, \\mathit{Bx}_{1} k \\kappa_{1} \\sin\\left(h_{0} \\kappa_{1}\\right)\\right)} \\sin\\left(h_{1} \\kappa_{1}\\right)\\right)} \\cos\\left(\\kappa_{1} x\\right)}{{\\left(\\cos\\left(h_{0} \\kappa_{1}\\right) \\cos\\left(h_{1} \\kappa_{1}\\right) - \\sin\\left(h_{0} \\kappa_{1}\\right) \\sin\\left(h_{1} \\kappa_{1}\\right)\\right)} \\mu_{1}} = 0$$"
      ],
      "text/plain": [
       "<IPython.core.display.Math object>"
      ]
     },
     "metadata": {},
     "output_type": "display_data"
    },
    {
     "name": "stdout",
     "output_type": "stream",
     "text": [
      "eq4 =\n"
     ]
    },
    {
     "data": {
      "text/latex": [
       "$$\\frac{{\\left({\\left(-i \\, \\mathit{Bx}_{1} k \\kappa_{1} \\cos\\left(h_{0} \\kappa_{1}\\right) - \\mathit{Bz}_{1} k^{2} \\sin\\left(h_{0} \\kappa_{1}\\right)\\right)} \\cos\\left(h_{1} \\kappa_{1}\\right) - {\\left(\\mathit{Bz}_{1} k^{2} \\cos\\left(h_{0} \\kappa_{1}\\right) - i \\, \\mathit{Bx}_{1} k \\kappa_{1} \\sin\\left(h_{0} \\kappa_{1}\\right)\\right)} \\sin\\left(h_{1} \\kappa_{1}\\right)\\right)} \\cos\\left(\\kappa_{1} x\\right)}{{\\left(\\cos\\left(h_{0} \\kappa_{1}\\right) \\cos\\left(h_{1} \\kappa_{1}\\right) - \\sin\\left(h_{0} \\kappa_{1}\\right) \\sin\\left(h_{1} \\kappa_{1}\\right)\\right)} \\mu_{1}} = 0$$"
      ],
      "text/plain": [
       "<IPython.core.display.Math object>"
      ]
     },
     "metadata": {},
     "output_type": "display_data"
    },
    {
     "name": "stdout",
     "output_type": "stream",
     "text": [
      "var =\n"
     ]
    },
    {
     "data": {
      "text/latex": [
       "$$\\mathit{Ax}_{1}$$"
      ],
      "text/plain": [
       "<IPython.core.display.Math object>"
      ]
     },
     "metadata": {},
     "output_type": "display_data"
    },
    {
     "name": "stdout",
     "output_type": "stream",
     "text": [
      "\n",
      "sol=\n"
     ]
    },
    {
     "data": {
      "text/latex": [
       "$$\\left[\\right]$$"
      ],
      "text/plain": [
       "<IPython.core.display.Math object>"
      ]
     },
     "metadata": {},
     "output_type": "display_data"
    },
    {
     "name": "stdout",
     "output_type": "stream",
     "text": [
      "\n",
      "var =\n"
     ]
    },
    {
     "data": {
      "text/latex": [
       "$$\\mathit{Bx}_{1}$$"
      ],
      "text/plain": [
       "<IPython.core.display.Math object>"
      ]
     },
     "metadata": {},
     "output_type": "display_data"
    },
    {
     "name": "stdout",
     "output_type": "stream",
     "text": [
      "\n",
      "sol=\n"
     ]
    },
    {
     "data": {
      "text/latex": [
       "$$\\left[\\mathit{Bx}_{1} = \\frac{\\mathit{Bz}_{1} k \\cos\\left(h_{1} \\kappa_{1}\\right) \\sin\\left(h_{0} \\kappa_{1}\\right) + \\mathit{Bz}_{1} k \\cos\\left(h_{0} \\kappa_{1}\\right) \\sin\\left(h_{1} \\kappa_{1}\\right)}{-i \\, \\kappa_{1} \\cos\\left(h_{0} \\kappa_{1}\\right) \\cos\\left(h_{1} \\kappa_{1}\\right) + i \\, \\kappa_{1} \\sin\\left(h_{0} \\kappa_{1}\\right) \\sin\\left(h_{1} \\kappa_{1}\\right)}\\right]$$"
      ],
      "text/plain": [
       "<IPython.core.display.Math object>"
      ]
     },
     "metadata": {},
     "output_type": "display_data"
    },
    {
     "name": "stdout",
     "output_type": "stream",
     "text": [
      "\n",
      "var =\n"
     ]
    },
    {
     "data": {
      "text/latex": [
       "$$\\mathit{Bz}_{1}$$"
      ],
      "text/plain": [
       "<IPython.core.display.Math object>"
      ]
     },
     "metadata": {},
     "output_type": "display_data"
    },
    {
     "name": "stdout",
     "output_type": "stream",
     "text": [
      "\n",
      "sol=\n"
     ]
    },
    {
     "data": {
      "text/latex": [
       "$$\\left[\\mathit{Bz}_{1} = \\frac{-i \\, \\mathit{Bx}_{1} \\kappa_{1} \\cos\\left(h_{0} \\kappa_{1}\\right) \\cos\\left(h_{1} \\kappa_{1}\\right) + i \\, \\mathit{Bx}_{1} \\kappa_{1} \\sin\\left(h_{0} \\kappa_{1}\\right) \\sin\\left(h_{1} \\kappa_{1}\\right)}{k \\cos\\left(h_{1} \\kappa_{1}\\right) \\sin\\left(h_{0} \\kappa_{1}\\right) + k \\cos\\left(h_{0} \\kappa_{1}\\right) \\sin\\left(h_{1} \\kappa_{1}\\right)}\\right]$$"
      ],
      "text/plain": [
       "<IPython.core.display.Math object>"
      ]
     },
     "metadata": {},
     "output_type": "display_data"
    },
    {
     "name": "stdout",
     "output_type": "stream",
     "text": [
      "\n",
      "var =\n"
     ]
    },
    {
     "data": {
      "text/latex": [
       "$$\\mathit{Bx}_{1}$$"
      ],
      "text/plain": [
       "<IPython.core.display.Math object>"
      ]
     },
     "metadata": {},
     "output_type": "display_data"
    },
    {
     "name": "stdout",
     "output_type": "stream",
     "text": [
      "sol_tg_kappa_x_coeff=\n"
     ]
    },
    {
     "data": {
      "text/latex": [
       "$$\\left[\\right]$$"
      ],
      "text/plain": [
       "<IPython.core.display.Math object>"
      ]
     },
     "metadata": {},
     "output_type": "display_data"
    },
    {
     "name": "stdout",
     "output_type": "stream",
     "text": [
      "var =\n"
     ]
    },
    {
     "data": {
      "text/latex": [
       "$$\\mathit{Bz}_{1}$$"
      ],
      "text/plain": [
       "<IPython.core.display.Math object>"
      ]
     },
     "metadata": {},
     "output_type": "display_data"
    },
    {
     "name": "stdout",
     "output_type": "stream",
     "text": [
      "sol_tg_kappa_x_coeff=\n"
     ]
    },
    {
     "data": {
      "text/latex": [
       "$$\\left[\\mathit{Bz}_{1} = -\\frac{i \\, \\mathit{Ax}_{1} \\kappa_{1}}{k}\\right]$$"
      ],
      "text/plain": [
       "<IPython.core.display.Math object>"
      ]
     },
     "metadata": {},
     "output_type": "display_data"
    },
    {
     "name": "stdout",
     "output_type": "stream",
     "text": [
      "eq4 =\n"
     ]
    },
    {
     "data": {
      "text/latex": [
       "$$-\\frac{{\\left({\\left(i \\, \\mathit{Bx}_{1} k \\kappa_{1} \\cos\\left(h_{0} \\kappa_{1}\\right) - i \\, \\mathit{Ax}_{1} k \\kappa_{1} \\sin\\left(h_{0} \\kappa_{1}\\right)\\right)} \\cos\\left(h_{1} \\kappa_{1}\\right) + {\\left(-i \\, \\mathit{Ax}_{1} k \\kappa_{1} \\cos\\left(h_{0} \\kappa_{1}\\right) - i \\, \\mathit{Bx}_{1} k \\kappa_{1} \\sin\\left(h_{0} \\kappa_{1}\\right)\\right)} \\sin\\left(h_{1} \\kappa_{1}\\right)\\right)} \\cos\\left(\\kappa_{1} x\\right)}{{\\left(\\cos\\left(h_{0} \\kappa_{1}\\right) \\cos\\left(h_{1} \\kappa_{1}\\right) - \\sin\\left(h_{0} \\kappa_{1}\\right) \\sin\\left(h_{1} \\kappa_{1}\\right)\\right)} \\mu_{1}} = 0$$"
      ],
      "text/plain": [
       "<IPython.core.display.Math object>"
      ]
     },
     "metadata": {},
     "output_type": "display_data"
    },
    {
     "name": "stdout",
     "output_type": "stream",
     "text": [
      "eq4 =\n"
     ]
    },
    {
     "data": {
      "text/latex": [
       "$$\\frac{{\\left({\\left(-i \\, \\mathit{Bx}_{1} k \\kappa_{1} \\cos\\left(h_{0} \\kappa_{1}\\right) + i \\, \\mathit{Ax}_{1} k \\kappa_{1} \\sin\\left(h_{0} \\kappa_{1}\\right)\\right)} \\cos\\left(h_{1} \\kappa_{1}\\right) + {\\left(i \\, \\mathit{Ax}_{1} k \\kappa_{1} \\cos\\left(h_{0} \\kappa_{1}\\right) + i \\, \\mathit{Bx}_{1} k \\kappa_{1} \\sin\\left(h_{0} \\kappa_{1}\\right)\\right)} \\sin\\left(h_{1} \\kappa_{1}\\right)\\right)} \\cos\\left(\\kappa_{1} x\\right)}{{\\left(\\cos\\left(h_{0} \\kappa_{1}\\right) \\cos\\left(h_{1} \\kappa_{1}\\right) - \\sin\\left(h_{0} \\kappa_{1}\\right) \\sin\\left(h_{1} \\kappa_{1}\\right)\\right)} \\mu_{1}} = 0$$"
      ],
      "text/plain": [
       "<IPython.core.display.Math object>"
      ]
     },
     "metadata": {},
     "output_type": "display_data"
    },
    {
     "name": "stdout",
     "output_type": "stream",
     "text": [
      "var =\n"
     ]
    },
    {
     "data": {
      "text/latex": [
       "$$\\mathit{Ax}_{1}$$"
      ],
      "text/plain": [
       "<IPython.core.display.Math object>"
      ]
     },
     "metadata": {},
     "output_type": "display_data"
    },
    {
     "name": "stdout",
     "output_type": "stream",
     "text": [
      "\n",
      "sol=\n"
     ]
    },
    {
     "data": {
      "text/latex": [
       "$$\\left[\\mathit{Ax}_{1} = \\frac{\\mathit{Bx}_{1} \\cos\\left(h_{0} \\kappa_{1}\\right) \\cos\\left(h_{1} \\kappa_{1}\\right) - \\mathit{Bx}_{1} \\sin\\left(h_{0} \\kappa_{1}\\right) \\sin\\left(h_{1} \\kappa_{1}\\right)}{\\cos\\left(h_{1} \\kappa_{1}\\right) \\sin\\left(h_{0} \\kappa_{1}\\right) + \\cos\\left(h_{0} \\kappa_{1}\\right) \\sin\\left(h_{1} \\kappa_{1}\\right)}\\right]$$"
      ],
      "text/plain": [
       "<IPython.core.display.Math object>"
      ]
     },
     "metadata": {},
     "output_type": "display_data"
    },
    {
     "name": "stdout",
     "output_type": "stream",
     "text": [
      "\n",
      "var =\n"
     ]
    },
    {
     "data": {
      "text/latex": [
       "$$\\mathit{Bx}_{1}$$"
      ],
      "text/plain": [
       "<IPython.core.display.Math object>"
      ]
     },
     "metadata": {},
     "output_type": "display_data"
    },
    {
     "name": "stdout",
     "output_type": "stream",
     "text": [
      "\n",
      "sol=\n"
     ]
    },
    {
     "data": {
      "text/latex": [
       "$$\\left[\\mathit{Bx}_{1} = \\frac{\\mathit{Ax}_{1} \\cos\\left(h_{1} \\kappa_{1}\\right) \\sin\\left(h_{0} \\kappa_{1}\\right) + \\mathit{Ax}_{1} \\cos\\left(h_{0} \\kappa_{1}\\right) \\sin\\left(h_{1} \\kappa_{1}\\right)}{\\cos\\left(h_{0} \\kappa_{1}\\right) \\cos\\left(h_{1} \\kappa_{1}\\right) - \\sin\\left(h_{0} \\kappa_{1}\\right) \\sin\\left(h_{1} \\kappa_{1}\\right)}\\right]$$"
      ],
      "text/plain": [
       "<IPython.core.display.Math object>"
      ]
     },
     "metadata": {},
     "output_type": "display_data"
    },
    {
     "name": "stdout",
     "output_type": "stream",
     "text": [
      "\n",
      "var =\n"
     ]
    },
    {
     "data": {
      "text/latex": [
       "$$\\mathit{Bz}_{1}$$"
      ],
      "text/plain": [
       "<IPython.core.display.Math object>"
      ]
     },
     "metadata": {},
     "output_type": "display_data"
    },
    {
     "name": "stdout",
     "output_type": "stream",
     "text": [
      "\n",
      "sol=\n"
     ]
    },
    {
     "data": {
      "text/latex": [
       "$$\\left[\\right]$$"
      ],
      "text/plain": [
       "<IPython.core.display.Math object>"
      ]
     },
     "metadata": {},
     "output_type": "display_data"
    },
    {
     "name": "stdout",
     "output_type": "stream",
     "text": [
      "\n"
     ]
    }
   ],
   "source": [
    "res_rot_H = []\n",
    "for i in range(n_layers):\n",
    "    eqs_rotH = [(eq_rot_H_x[i]*(-I)*omega/c)\n",
    "                     .subs(solve(eq_kappa[i], omega^2))\n",
    "                     .subs(boundary_subs_begin).subs(boundary_subs_end)\n",
    "                     .full_simplify(),\n",
    "                (eq_rot_H_z[i]*(-I)*omega/c)\n",
    "                     .subs(solve(eq_kappa[i], omega^2))\n",
    "                     .subs(boundary_subs_begin).subs(boundary_subs_end)\n",
    "                     .full_simplify(),\n",
    "               ]\n",
    "\n",
    "    print(\"eq_rot_H_x = \")\n",
    "    display(Math(latex(eqs_rotH[0])))\n",
    "    print(\"eq_rot_H_z = \")\n",
    "    display(Math(latex(eqs_rotH[1])))\n",
    "    print(\"\")\n",
    "    \n",
    "    vars_dielectric = [Ax[i], Az[i], Bx[i], Bz[i]]\n",
    "    \n",
    "    vars_dielectric = [var for var in vars_dielectric if var not in exclude_vars]\n",
    "    display(Math(latex(vars_dielectric)))\n",
    "    M_rotH = GenerateMatrix(eqs_rotH, vars_dielectric)\n",
    "    print (\"M_rotH =\")\n",
    "    display(Math(latex(M_rotH)))\n",
    "    print (\"M_rotH.nrows =\", M_rotH.nrows())\n",
    "    print (\"M_rotH.ncols =\", M_rotH.ncols())\n",
    "    print (\"M_rotH.rank =\", M_rotH.rank())\n",
    "    res_rot_H += rot_H_solve(M_rotH, vars_dielectric, eq_kappa[i], kappa[i])"
   ]
  },
  {
   "cell_type": "code",
   "execution_count": 22,
   "metadata": {},
   "outputs": [
    {
     "data": {
      "text/latex": [
       "$$\\left[\\mathit{Bx}_{0} = 0, \\mathit{Ax}_{0} = \\frac{i \\, \\mathit{Bz}_{0} k}{\\kappa_{0}}, \\mathit{Bz}_{0} = -\\frac{i \\, \\mathit{Ax}_{0} \\kappa_{0}}{k}, \\mathit{Ax}_{0} = \\frac{i \\, \\mathit{Bz}_{0} k}{\\kappa_{0}}, \\mathit{Bx}_{0} = 0, \\mathit{Bz}_{0} = -\\frac{i \\, \\mathit{Ax}_{0} \\kappa_{0}}{k}, \\mathit{Bx}_{0} = 0, \\mathit{Bx}_{1} = -\\frac{-i \\, \\mathit{Bz}_{1} k \\cos\\left(h_{1} \\kappa_{1}\\right) \\sin\\left(h_{0} \\kappa_{1}\\right) - i \\, \\mathit{Bz}_{1} k \\cos\\left(h_{0} \\kappa_{1}\\right) \\sin\\left(h_{1} \\kappa_{1}\\right)}{\\kappa_{1} \\cos\\left(h_{0} \\kappa_{1}\\right) \\cos\\left(h_{1} \\kappa_{1}\\right) - \\kappa_{1} \\sin\\left(h_{0} \\kappa_{1}\\right) \\sin\\left(h_{1} \\kappa_{1}\\right)}, \\mathit{Ax}_{1} = \\frac{i \\, \\mathit{Bz}_{1} k}{\\kappa_{1}}, \\mathit{Bz}_{1} = -\\frac{i \\, \\mathit{Ax}_{1} \\kappa_{1}}{k}, \\mathit{Bz}_{1} = \\frac{\\mathit{Bx}_{1} \\kappa_{1} \\cos\\left(h_{0} \\kappa_{1}\\right) \\cos\\left(h_{1} \\kappa_{1}\\right) - \\mathit{Bx}_{1} \\kappa_{1} \\sin\\left(h_{0} \\kappa_{1}\\right) \\sin\\left(h_{1} \\kappa_{1}\\right)}{i \\, k \\cos\\left(h_{1} \\kappa_{1}\\right) \\sin\\left(h_{0} \\kappa_{1}\\right) + i \\, k \\cos\\left(h_{0} \\kappa_{1}\\right) \\sin\\left(h_{1} \\kappa_{1}\\right)}, \\mathit{Ax}_{1} = \\frac{\\mathit{Bx}_{1} \\cos\\left(h_{0} \\kappa_{1}\\right) \\cos\\left(h_{1} \\kappa_{1}\\right) - \\mathit{Bx}_{1} \\sin\\left(h_{0} \\kappa_{1}\\right) \\sin\\left(h_{1} \\kappa_{1}\\right)}{\\cos\\left(h_{1} \\kappa_{1}\\right) \\sin\\left(h_{0} \\kappa_{1}\\right) + \\cos\\left(h_{0} \\kappa_{1}\\right) \\sin\\left(h_{1} \\kappa_{1}\\right)}, \\mathit{Bx}_{1} = \\frac{\\mathit{Ax}_{1} \\cos\\left(h_{1} \\kappa_{1}\\right) \\sin\\left(h_{0} \\kappa_{1}\\right) + \\mathit{Ax}_{1} \\cos\\left(h_{0} \\kappa_{1}\\right) \\sin\\left(h_{1} \\kappa_{1}\\right)}{\\cos\\left(h_{0} \\kappa_{1}\\right) \\cos\\left(h_{1} \\kappa_{1}\\right) - \\sin\\left(h_{0} \\kappa_{1}\\right) \\sin\\left(h_{1} \\kappa_{1}\\right)}, \\mathit{Ax}_{1} = \\frac{i \\, \\mathit{Bz}_{1} k}{\\kappa_{1}}, \\mathit{Bx}_{1} = \\frac{\\mathit{Bz}_{1} k \\cos\\left(h_{1} \\kappa_{1}\\right) \\sin\\left(h_{0} \\kappa_{1}\\right) + \\mathit{Bz}_{1} k \\cos\\left(h_{0} \\kappa_{1}\\right) \\sin\\left(h_{1} \\kappa_{1}\\right)}{-i \\, \\kappa_{1} \\cos\\left(h_{0} \\kappa_{1}\\right) \\cos\\left(h_{1} \\kappa_{1}\\right) + i \\, \\kappa_{1} \\sin\\left(h_{0} \\kappa_{1}\\right) \\sin\\left(h_{1} \\kappa_{1}\\right)}, \\mathit{Bz}_{1} = \\frac{-i \\, \\mathit{Bx}_{1} \\kappa_{1} \\cos\\left(h_{0} \\kappa_{1}\\right) \\cos\\left(h_{1} \\kappa_{1}\\right) + i \\, \\mathit{Bx}_{1} \\kappa_{1} \\sin\\left(h_{0} \\kappa_{1}\\right) \\sin\\left(h_{1} \\kappa_{1}\\right)}{k \\cos\\left(h_{1} \\kappa_{1}\\right) \\sin\\left(h_{0} \\kappa_{1}\\right) + k \\cos\\left(h_{0} \\kappa_{1}\\right) \\sin\\left(h_{1} \\kappa_{1}\\right)}, \\mathit{Bz}_{1} = -\\frac{i \\, \\mathit{Ax}_{1} \\kappa_{1}}{k}, \\mathit{Ax}_{1} = \\frac{\\mathit{Bx}_{1} \\cos\\left(h_{0} \\kappa_{1}\\right) \\cos\\left(h_{1} \\kappa_{1}\\right) - \\mathit{Bx}_{1} \\sin\\left(h_{0} \\kappa_{1}\\right) \\sin\\left(h_{1} \\kappa_{1}\\right)}{\\cos\\left(h_{1} \\kappa_{1}\\right) \\sin\\left(h_{0} \\kappa_{1}\\right) + \\cos\\left(h_{0} \\kappa_{1}\\right) \\sin\\left(h_{1} \\kappa_{1}\\right)}, \\mathit{Bx}_{1} = \\frac{\\mathit{Ax}_{1} \\cos\\left(h_{1} \\kappa_{1}\\right) \\sin\\left(h_{0} \\kappa_{1}\\right) + \\mathit{Ax}_{1} \\cos\\left(h_{0} \\kappa_{1}\\right) \\sin\\left(h_{1} \\kappa_{1}\\right)}{\\cos\\left(h_{0} \\kappa_{1}\\right) \\cos\\left(h_{1} \\kappa_{1}\\right) - \\sin\\left(h_{0} \\kappa_{1}\\right) \\sin\\left(h_{1} \\kappa_{1}\\right)}\\right]$$"
      ],
      "text/plain": [
       "<IPython.core.display.Math object>"
      ]
     },
     "metadata": {},
     "output_type": "display_data"
    }
   ],
   "source": [
    "display(Math(latex(res_rot_H)))"
   ]
  },
  {
   "cell_type": "code",
   "execution_count": 23,
   "metadata": {},
   "outputs": [
    {
     "data": {
      "text/plain": [
       "[Ax_0, Ax_1, Az_0, Az_1, Bx_0, Bx_1, Bz_0, Bz_1]"
      ]
     },
     "execution_count": 23,
     "metadata": {},
     "output_type": "execute_result"
    }
   ],
   "source": [
    "vars = Ax + Az + Bx + Bz\n",
    "vars"
   ]
  },
  {
   "cell_type": "code",
   "execution_count": 24,
   "metadata": {},
   "outputs": [
    {
     "data": {
      "text/latex": [
       "$$\\left(\\begin{array}{rrrrrrrr}\n",
       "0 & 0 & 0 & 0 & 1 & 0 & 0 & 0 \\\\\n",
       "1 & 0 & 0 & 0 & 0 & 0 & -\\frac{i \\, k}{\\kappa_{0}} & 0 \\\\\n",
       "\\frac{i \\, \\kappa_{0}}{k} & 0 & 0 & 0 & 0 & 0 & 1 & 0 \\\\\n",
       "1 & 0 & 0 & 0 & 0 & 0 & -\\frac{i \\, k}{\\kappa_{0}} & 0 \\\\\n",
       "0 & 0 & 0 & 0 & 1 & 0 & 0 & 0 \\\\\n",
       "\\frac{i \\, \\kappa_{0}}{k} & 0 & 0 & 0 & 0 & 0 & 1 & 0 \\\\\n",
       "0 & 0 & 0 & 0 & 1 & 0 & 0 & 0 \\\\\n",
       "0 & 0 & 0 & 0 & 0 & 1 & 0 & \\frac{-i \\, k \\cos\\left(h_{1} \\kappa_{1}\\right) \\sin\\left(h_{0} \\kappa_{1}\\right) - i \\, k \\cos\\left(h_{0} \\kappa_{1}\\right) \\sin\\left(h_{1} \\kappa_{1}\\right)}{\\kappa_{1} \\cos\\left(h_{0} \\kappa_{1}\\right) \\cos\\left(h_{1} \\kappa_{1}\\right) - \\kappa_{1} \\sin\\left(h_{0} \\kappa_{1}\\right) \\sin\\left(h_{1} \\kappa_{1}\\right)} \\\\\n",
       "0 & 1 & 0 & 0 & 0 & 0 & 0 & -\\frac{i \\, k}{\\kappa_{1}} \\\\\n",
       "0 & \\frac{i \\, \\kappa_{1}}{k} & 0 & 0 & 0 & 0 & 0 & 1 \\\\\n",
       "0 & 0 & 0 & 0 & 0 & -\\frac{\\kappa_{1} \\cos\\left(h_{0} \\kappa_{1}\\right) \\cos\\left(h_{1} \\kappa_{1}\\right) - \\kappa_{1} \\sin\\left(h_{0} \\kappa_{1}\\right) \\sin\\left(h_{1} \\kappa_{1}\\right)}{i \\, k \\cos\\left(h_{1} \\kappa_{1}\\right) \\sin\\left(h_{0} \\kappa_{1}\\right) + i \\, k \\cos\\left(h_{0} \\kappa_{1}\\right) \\sin\\left(h_{1} \\kappa_{1}\\right)} & 0 & 1 \\\\\n",
       "0 & 1 & 0 & 0 & 0 & -\\frac{\\cos\\left(h_{0} \\kappa_{1}\\right) \\cos\\left(h_{1} \\kappa_{1}\\right) - \\sin\\left(h_{0} \\kappa_{1}\\right) \\sin\\left(h_{1} \\kappa_{1}\\right)}{\\cos\\left(h_{1} \\kappa_{1}\\right) \\sin\\left(h_{0} \\kappa_{1}\\right) + \\cos\\left(h_{0} \\kappa_{1}\\right) \\sin\\left(h_{1} \\kappa_{1}\\right)} & 0 & 0 \\\\\n",
       "0 & -\\frac{\\cos\\left(h_{1} \\kappa_{1}\\right) \\sin\\left(h_{0} \\kappa_{1}\\right) + \\cos\\left(h_{0} \\kappa_{1}\\right) \\sin\\left(h_{1} \\kappa_{1}\\right)}{\\cos\\left(h_{0} \\kappa_{1}\\right) \\cos\\left(h_{1} \\kappa_{1}\\right) - \\sin\\left(h_{0} \\kappa_{1}\\right) \\sin\\left(h_{1} \\kappa_{1}\\right)} & 0 & 0 & 0 & 1 & 0 & 0 \\\\\n",
       "0 & 1 & 0 & 0 & 0 & 0 & 0 & -\\frac{i \\, k}{\\kappa_{1}} \\\\\n",
       "0 & 0 & 0 & 0 & 0 & 1 & 0 & -\\frac{k \\cos\\left(h_{1} \\kappa_{1}\\right) \\sin\\left(h_{0} \\kappa_{1}\\right) + k \\cos\\left(h_{0} \\kappa_{1}\\right) \\sin\\left(h_{1} \\kappa_{1}\\right)}{-i \\, \\kappa_{1} \\cos\\left(h_{0} \\kappa_{1}\\right) \\cos\\left(h_{1} \\kappa_{1}\\right) + i \\, \\kappa_{1} \\sin\\left(h_{0} \\kappa_{1}\\right) \\sin\\left(h_{1} \\kappa_{1}\\right)} \\\\\n",
       "0 & 0 & 0 & 0 & 0 & -\\frac{-i \\, \\kappa_{1} \\cos\\left(h_{0} \\kappa_{1}\\right) \\cos\\left(h_{1} \\kappa_{1}\\right) + i \\, \\kappa_{1} \\sin\\left(h_{0} \\kappa_{1}\\right) \\sin\\left(h_{1} \\kappa_{1}\\right)}{k \\cos\\left(h_{1} \\kappa_{1}\\right) \\sin\\left(h_{0} \\kappa_{1}\\right) + k \\cos\\left(h_{0} \\kappa_{1}\\right) \\sin\\left(h_{1} \\kappa_{1}\\right)} & 0 & 1 \\\\\n",
       "0 & \\frac{i \\, \\kappa_{1}}{k} & 0 & 0 & 0 & 0 & 0 & 1 \\\\\n",
       "0 & 1 & 0 & 0 & 0 & -\\frac{\\cos\\left(h_{0} \\kappa_{1}\\right) \\cos\\left(h_{1} \\kappa_{1}\\right) - \\sin\\left(h_{0} \\kappa_{1}\\right) \\sin\\left(h_{1} \\kappa_{1}\\right)}{\\cos\\left(h_{1} \\kappa_{1}\\right) \\sin\\left(h_{0} \\kappa_{1}\\right) + \\cos\\left(h_{0} \\kappa_{1}\\right) \\sin\\left(h_{1} \\kappa_{1}\\right)} & 0 & 0 \\\\\n",
       "0 & -\\frac{\\cos\\left(h_{1} \\kappa_{1}\\right) \\sin\\left(h_{0} \\kappa_{1}\\right) + \\cos\\left(h_{0} \\kappa_{1}\\right) \\sin\\left(h_{1} \\kappa_{1}\\right)}{\\cos\\left(h_{0} \\kappa_{1}\\right) \\cos\\left(h_{1} \\kappa_{1}\\right) - \\sin\\left(h_{0} \\kappa_{1}\\right) \\sin\\left(h_{1} \\kappa_{1}\\right)} & 0 & 0 & 0 & 1 & 0 & 0\n",
       "\\end{array}\\right)$$"
      ],
      "text/plain": [
       "<IPython.core.display.Math object>"
      ]
     },
     "metadata": {},
     "output_type": "display_data"
    }
   ],
   "source": [
    "M_res_rot_H = GenerateMatrix(res_rot_H, vars)\n",
    "display(Math(latex(M_res_rot_H)))"
   ]
  },
  {
   "cell_type": "code",
   "execution_count": 25,
   "metadata": {},
   "outputs": [
    {
     "name": "stdout",
     "output_type": "stream",
     "text": [
      "\n",
      "M.nrows() 19\n",
      "M.ncols() 8\n",
      "M.rank() 4\n",
      "M.pivot_rows() = (0, 1, 7, 8)\n",
      "row =\n"
     ]
    },
    {
     "data": {
      "text/latex": [
       "$$\\left(0,\\,0,\\,0,\\,0,\\,1,\\,0,\\,0,\\,0\\right)$$"
      ],
      "text/plain": [
       "<IPython.core.display.Math object>"
      ]
     },
     "metadata": {},
     "output_type": "display_data"
    },
    {
     "name": "stdout",
     "output_type": "stream",
     "text": [
      "row =\n"
     ]
    },
    {
     "data": {
      "text/latex": [
       "$$\\left(1,\\,0,\\,0,\\,0,\\,0,\\,0,\\,-\\frac{i \\, k}{\\kappa_{0}},\\,0\\right)$$"
      ],
      "text/plain": [
       "<IPython.core.display.Math object>"
      ]
     },
     "metadata": {},
     "output_type": "display_data"
    },
    {
     "name": "stdout",
     "output_type": "stream",
     "text": [
      "row =\n"
     ]
    },
    {
     "data": {
      "text/latex": [
       "$$\\left(\\frac{i \\, \\kappa_{0}}{k},\\,0,\\,0,\\,0,\\,0,\\,0,\\,1,\\,0\\right)$$"
      ],
      "text/plain": [
       "<IPython.core.display.Math object>"
      ]
     },
     "metadata": {},
     "output_type": "display_data"
    },
    {
     "name": "stdout",
     "output_type": "stream",
     "text": [
      "row =\n"
     ]
    },
    {
     "data": {
      "text/latex": [
       "$$\\left(1,\\,0,\\,0,\\,0,\\,0,\\,0,\\,-\\frac{i \\, k}{\\kappa_{0}},\\,0\\right)$$"
      ],
      "text/plain": [
       "<IPython.core.display.Math object>"
      ]
     },
     "metadata": {},
     "output_type": "display_data"
    },
    {
     "name": "stdout",
     "output_type": "stream",
     "text": [
      "row =\n"
     ]
    },
    {
     "data": {
      "text/latex": [
       "$$\\left(0,\\,0,\\,0,\\,0,\\,1,\\,0,\\,0,\\,0\\right)$$"
      ],
      "text/plain": [
       "<IPython.core.display.Math object>"
      ]
     },
     "metadata": {},
     "output_type": "display_data"
    },
    {
     "name": "stdout",
     "output_type": "stream",
     "text": [
      "row =\n"
     ]
    },
    {
     "data": {
      "text/latex": [
       "$$\\left(\\frac{i \\, \\kappa_{0}}{k},\\,0,\\,0,\\,0,\\,0,\\,0,\\,1,\\,0\\right)$$"
      ],
      "text/plain": [
       "<IPython.core.display.Math object>"
      ]
     },
     "metadata": {},
     "output_type": "display_data"
    },
    {
     "name": "stdout",
     "output_type": "stream",
     "text": [
      "row =\n"
     ]
    },
    {
     "data": {
      "text/latex": [
       "$$\\left(0,\\,0,\\,0,\\,0,\\,1,\\,0,\\,0,\\,0\\right)$$"
      ],
      "text/plain": [
       "<IPython.core.display.Math object>"
      ]
     },
     "metadata": {},
     "output_type": "display_data"
    },
    {
     "name": "stdout",
     "output_type": "stream",
     "text": [
      "row =\n"
     ]
    },
    {
     "data": {
      "text/latex": [
       "$$\\left(0,\\,0,\\,0,\\,0,\\,0,\\,1,\\,0,\\,\\frac{-i \\, k \\cos\\left(h_{1} \\kappa_{1}\\right) \\sin\\left(h_{0} \\kappa_{1}\\right) - i \\, k \\cos\\left(h_{0} \\kappa_{1}\\right) \\sin\\left(h_{1} \\kappa_{1}\\right)}{\\kappa_{1} \\cos\\left(h_{0} \\kappa_{1}\\right) \\cos\\left(h_{1} \\kappa_{1}\\right) - \\kappa_{1} \\sin\\left(h_{0} \\kappa_{1}\\right) \\sin\\left(h_{1} \\kappa_{1}\\right)}\\right)$$"
      ],
      "text/plain": [
       "<IPython.core.display.Math object>"
      ]
     },
     "metadata": {},
     "output_type": "display_data"
    },
    {
     "name": "stdout",
     "output_type": "stream",
     "text": [
      "row =\n"
     ]
    },
    {
     "data": {
      "text/latex": [
       "$$\\left(0,\\,1,\\,0,\\,0,\\,0,\\,0,\\,0,\\,-\\frac{i \\, k}{\\kappa_{1}}\\right)$$"
      ],
      "text/plain": [
       "<IPython.core.display.Math object>"
      ]
     },
     "metadata": {},
     "output_type": "display_data"
    },
    {
     "name": "stdout",
     "output_type": "stream",
     "text": [
      "row =\n"
     ]
    },
    {
     "data": {
      "text/latex": [
       "$$\\left(0,\\,\\frac{i \\, \\kappa_{1}}{k},\\,0,\\,0,\\,0,\\,0,\\,0,\\,1\\right)$$"
      ],
      "text/plain": [
       "<IPython.core.display.Math object>"
      ]
     },
     "metadata": {},
     "output_type": "display_data"
    },
    {
     "name": "stdout",
     "output_type": "stream",
     "text": [
      "row =\n"
     ]
    },
    {
     "data": {
      "text/latex": [
       "$$\\left(0,\\,0,\\,0,\\,0,\\,0,\\,-\\frac{\\kappa_{1} \\cos\\left(h_{0} \\kappa_{1}\\right) \\cos\\left(h_{1} \\kappa_{1}\\right) - \\kappa_{1} \\sin\\left(h_{0} \\kappa_{1}\\right) \\sin\\left(h_{1} \\kappa_{1}\\right)}{i \\, k \\cos\\left(h_{1} \\kappa_{1}\\right) \\sin\\left(h_{0} \\kappa_{1}\\right) + i \\, k \\cos\\left(h_{0} \\kappa_{1}\\right) \\sin\\left(h_{1} \\kappa_{1}\\right)},\\,0,\\,1\\right)$$"
      ],
      "text/plain": [
       "<IPython.core.display.Math object>"
      ]
     },
     "metadata": {},
     "output_type": "display_data"
    },
    {
     "name": "stdout",
     "output_type": "stream",
     "text": [
      "row =\n"
     ]
    },
    {
     "data": {
      "text/latex": [
       "$$\\left(0,\\,1,\\,0,\\,0,\\,0,\\,-\\frac{\\cos\\left(h_{0} \\kappa_{1}\\right) \\cos\\left(h_{1} \\kappa_{1}\\right) - \\sin\\left(h_{0} \\kappa_{1}\\right) \\sin\\left(h_{1} \\kappa_{1}\\right)}{\\cos\\left(h_{1} \\kappa_{1}\\right) \\sin\\left(h_{0} \\kappa_{1}\\right) + \\cos\\left(h_{0} \\kappa_{1}\\right) \\sin\\left(h_{1} \\kappa_{1}\\right)},\\,0,\\,0\\right)$$"
      ],
      "text/plain": [
       "<IPython.core.display.Math object>"
      ]
     },
     "metadata": {},
     "output_type": "display_data"
    },
    {
     "name": "stdout",
     "output_type": "stream",
     "text": [
      "row =\n"
     ]
    },
    {
     "data": {
      "text/latex": [
       "$$\\left(0,\\,-\\frac{\\cos\\left(h_{1} \\kappa_{1}\\right) \\sin\\left(h_{0} \\kappa_{1}\\right) + \\cos\\left(h_{0} \\kappa_{1}\\right) \\sin\\left(h_{1} \\kappa_{1}\\right)}{\\cos\\left(h_{0} \\kappa_{1}\\right) \\cos\\left(h_{1} \\kappa_{1}\\right) - \\sin\\left(h_{0} \\kappa_{1}\\right) \\sin\\left(h_{1} \\kappa_{1}\\right)},\\,0,\\,0,\\,0,\\,1,\\,0,\\,0\\right)$$"
      ],
      "text/plain": [
       "<IPython.core.display.Math object>"
      ]
     },
     "metadata": {},
     "output_type": "display_data"
    },
    {
     "name": "stdout",
     "output_type": "stream",
     "text": [
      "row =\n"
     ]
    },
    {
     "data": {
      "text/latex": [
       "$$\\left(0,\\,1,\\,0,\\,0,\\,0,\\,0,\\,0,\\,-\\frac{i \\, k}{\\kappa_{1}}\\right)$$"
      ],
      "text/plain": [
       "<IPython.core.display.Math object>"
      ]
     },
     "metadata": {},
     "output_type": "display_data"
    },
    {
     "name": "stdout",
     "output_type": "stream",
     "text": [
      "row =\n"
     ]
    },
    {
     "data": {
      "text/latex": [
       "$$\\left(0,\\,0,\\,0,\\,0,\\,0,\\,1,\\,0,\\,-\\frac{k \\cos\\left(h_{1} \\kappa_{1}\\right) \\sin\\left(h_{0} \\kappa_{1}\\right) + k \\cos\\left(h_{0} \\kappa_{1}\\right) \\sin\\left(h_{1} \\kappa_{1}\\right)}{-i \\, \\kappa_{1} \\cos\\left(h_{0} \\kappa_{1}\\right) \\cos\\left(h_{1} \\kappa_{1}\\right) + i \\, \\kappa_{1} \\sin\\left(h_{0} \\kappa_{1}\\right) \\sin\\left(h_{1} \\kappa_{1}\\right)}\\right)$$"
      ],
      "text/plain": [
       "<IPython.core.display.Math object>"
      ]
     },
     "metadata": {},
     "output_type": "display_data"
    },
    {
     "name": "stdout",
     "output_type": "stream",
     "text": [
      "row =\n"
     ]
    },
    {
     "data": {
      "text/latex": [
       "$$\\left(0,\\,0,\\,0,\\,0,\\,0,\\,-\\frac{-i \\, \\kappa_{1} \\cos\\left(h_{0} \\kappa_{1}\\right) \\cos\\left(h_{1} \\kappa_{1}\\right) + i \\, \\kappa_{1} \\sin\\left(h_{0} \\kappa_{1}\\right) \\sin\\left(h_{1} \\kappa_{1}\\right)}{k \\cos\\left(h_{1} \\kappa_{1}\\right) \\sin\\left(h_{0} \\kappa_{1}\\right) + k \\cos\\left(h_{0} \\kappa_{1}\\right) \\sin\\left(h_{1} \\kappa_{1}\\right)},\\,0,\\,1\\right)$$"
      ],
      "text/plain": [
       "<IPython.core.display.Math object>"
      ]
     },
     "metadata": {},
     "output_type": "display_data"
    },
    {
     "name": "stdout",
     "output_type": "stream",
     "text": [
      "row =\n"
     ]
    },
    {
     "data": {
      "text/latex": [
       "$$\\left(0,\\,\\frac{i \\, \\kappa_{1}}{k},\\,0,\\,0,\\,0,\\,0,\\,0,\\,1\\right)$$"
      ],
      "text/plain": [
       "<IPython.core.display.Math object>"
      ]
     },
     "metadata": {},
     "output_type": "display_data"
    },
    {
     "name": "stdout",
     "output_type": "stream",
     "text": [
      "row =\n"
     ]
    },
    {
     "data": {
      "text/latex": [
       "$$\\left(0,\\,1,\\,0,\\,0,\\,0,\\,-\\frac{\\cos\\left(h_{0} \\kappa_{1}\\right) \\cos\\left(h_{1} \\kappa_{1}\\right) - \\sin\\left(h_{0} \\kappa_{1}\\right) \\sin\\left(h_{1} \\kappa_{1}\\right)}{\\cos\\left(h_{1} \\kappa_{1}\\right) \\sin\\left(h_{0} \\kappa_{1}\\right) + \\cos\\left(h_{0} \\kappa_{1}\\right) \\sin\\left(h_{1} \\kappa_{1}\\right)},\\,0,\\,0\\right)$$"
      ],
      "text/plain": [
       "<IPython.core.display.Math object>"
      ]
     },
     "metadata": {},
     "output_type": "display_data"
    },
    {
     "name": "stdout",
     "output_type": "stream",
     "text": [
      "row =\n"
     ]
    },
    {
     "data": {
      "text/latex": [
       "$$\\left(0,\\,-\\frac{\\cos\\left(h_{1} \\kappa_{1}\\right) \\sin\\left(h_{0} \\kappa_{1}\\right) + \\cos\\left(h_{0} \\kappa_{1}\\right) \\sin\\left(h_{1} \\kappa_{1}\\right)}{\\cos\\left(h_{0} \\kappa_{1}\\right) \\cos\\left(h_{1} \\kappa_{1}\\right) - \\sin\\left(h_{0} \\kappa_{1}\\right) \\sin\\left(h_{1} \\kappa_{1}\\right)},\\,0,\\,0,\\,0,\\,1,\\,0,\\,0\\right)$$"
      ],
      "text/plain": [
       "<IPython.core.display.Math object>"
      ]
     },
     "metadata": {},
     "output_type": "display_data"
    },
    {
     "name": "stdout",
     "output_type": "stream",
     "text": [
      "M_rows[ 0 ] =\n"
     ]
    },
    {
     "data": {
      "text/latex": [
       "$$\\left(0,\\,0,\\,0,\\,0,\\,1,\\,0,\\,0,\\,0\\right)$$"
      ],
      "text/plain": [
       "<IPython.core.display.Math object>"
      ]
     },
     "metadata": {},
     "output_type": "display_data"
    },
    {
     "name": "stdout",
     "output_type": "stream",
     "text": [
      "M_rows[ 1 ] =\n"
     ]
    },
    {
     "data": {
      "text/latex": [
       "$$\\left(1,\\,0,\\,0,\\,0,\\,0,\\,0,\\,-\\frac{i \\, k}{\\kappa_{0}},\\,0\\right)$$"
      ],
      "text/plain": [
       "<IPython.core.display.Math object>"
      ]
     },
     "metadata": {},
     "output_type": "display_data"
    },
    {
     "name": "stdout",
     "output_type": "stream",
     "text": [
      "M_rows[ 7 ] =\n"
     ]
    },
    {
     "data": {
      "text/latex": [
       "$$\\left(0,\\,0,\\,0,\\,0,\\,0,\\,1,\\,0,\\,\\frac{-i \\, k \\cos\\left(h_{1} \\kappa_{1}\\right) \\sin\\left(h_{0} \\kappa_{1}\\right) - i \\, k \\cos\\left(h_{0} \\kappa_{1}\\right) \\sin\\left(h_{1} \\kappa_{1}\\right)}{\\kappa_{1} \\cos\\left(h_{0} \\kappa_{1}\\right) \\cos\\left(h_{1} \\kappa_{1}\\right) - \\kappa_{1} \\sin\\left(h_{0} \\kappa_{1}\\right) \\sin\\left(h_{1} \\kappa_{1}\\right)}\\right)$$"
      ],
      "text/plain": [
       "<IPython.core.display.Math object>"
      ]
     },
     "metadata": {},
     "output_type": "display_data"
    },
    {
     "name": "stdout",
     "output_type": "stream",
     "text": [
      "M_rows[ 8 ] =\n"
     ]
    },
    {
     "data": {
      "text/latex": [
       "$$\\left(0,\\,1,\\,0,\\,0,\\,0,\\,0,\\,0,\\,-\\frac{i \\, k}{\\kappa_{1}}\\right)$$"
      ],
      "text/plain": [
       "<IPython.core.display.Math object>"
      ]
     },
     "metadata": {},
     "output_type": "display_data"
    }
   ],
   "source": [
    "reduced_M_res_rot_H = reduceDependedRows(M_res_rot_H)"
   ]
  },
  {
   "cell_type": "code",
   "execution_count": 26,
   "metadata": {},
   "outputs": [
    {
     "data": {
      "text/latex": [
       "$$\\left(\\begin{array}{rrrrrrrr}\n",
       "0 & 0 & 0 & 0 & 1 & 0 & 0 & 0 \\\\\n",
       "1 & 0 & 0 & 0 & 0 & 0 & -\\frac{i \\, k}{\\kappa_{0}} & 0 \\\\\n",
       "0 & 0 & 0 & 0 & 0 & 1 & 0 & \\frac{-i \\, k \\cos\\left(h_{1} \\kappa_{1}\\right) \\sin\\left(h_{0} \\kappa_{1}\\right) - i \\, k \\cos\\left(h_{0} \\kappa_{1}\\right) \\sin\\left(h_{1} \\kappa_{1}\\right)}{\\kappa_{1} \\cos\\left(h_{0} \\kappa_{1}\\right) \\cos\\left(h_{1} \\kappa_{1}\\right) - \\kappa_{1} \\sin\\left(h_{0} \\kappa_{1}\\right) \\sin\\left(h_{1} \\kappa_{1}\\right)} \\\\\n",
       "0 & 1 & 0 & 0 & 0 & 0 & 0 & -\\frac{i \\, k}{\\kappa_{1}}\n",
       "\\end{array}\\right)$$"
      ],
      "text/plain": [
       "<IPython.core.display.Math object>"
      ]
     },
     "metadata": {},
     "output_type": "display_data"
    }
   ],
   "source": [
    "display(Math(latex(reduced_M_res_rot_H)))"
   ]
  },
  {
   "cell_type": "code",
   "execution_count": 27,
   "metadata": {},
   "outputs": [],
   "source": [
    "def make_eqsys_from_reduced_M(M_rotH, vars):\n",
    "    xx = vector(SR, vars)\n",
    "    print(\"eqns =\")\n",
    "    eqns = [(M_rotH*xx)[index] == 0 for index in range(M_rotH.nrows())]\n",
    "    display(Math(latex(eqns)))\n",
    "    return (eqns)"
   ]
  },
  {
   "cell_type": "code",
   "execution_count": 28,
   "metadata": {},
   "outputs": [
    {
     "name": "stdout",
     "output_type": "stream",
     "text": [
      "eqns =\n"
     ]
    },
    {
     "data": {
      "text/latex": [
       "$$\\left[\\mathit{Bx}_{0} = 0, \\mathit{Ax}_{0} - \\frac{i \\, \\mathit{Bz}_{0} k}{\\kappa_{0}} = 0, \\mathit{Bx}_{1} + \\frac{{\\left(-i \\, k \\cos\\left(h_{1} \\kappa_{1}\\right) \\sin\\left(h_{0} \\kappa_{1}\\right) - i \\, k \\cos\\left(h_{0} \\kappa_{1}\\right) \\sin\\left(h_{1} \\kappa_{1}\\right)\\right)} \\mathit{Bz}_{1}}{\\kappa_{1} \\cos\\left(h_{0} \\kappa_{1}\\right) \\cos\\left(h_{1} \\kappa_{1}\\right) - \\kappa_{1} \\sin\\left(h_{0} \\kappa_{1}\\right) \\sin\\left(h_{1} \\kappa_{1}\\right)} = 0, \\mathit{Ax}_{1} - \\frac{i \\, \\mathit{Bz}_{1} k}{\\kappa_{1}} = 0\\right]$$"
      ],
      "text/plain": [
       "<IPython.core.display.Math object>"
      ]
     },
     "metadata": {},
     "output_type": "display_data"
    }
   ],
   "source": [
    "eqsys_rotH_simplified = make_eqsys_from_reduced_M(reduced_M_res_rot_H, vars)"
   ]
  },
  {
   "cell_type": "code",
   "execution_count": 29,
   "metadata": {},
   "outputs": [
    {
     "data": {
      "text/latex": [
       "$$\\left[\\mathit{Bx}_{0} = 0, \\mathit{Ax}_{0} = \\frac{i \\, \\mathit{Bz}_{0} k}{\\kappa_{0}}, \\mathit{Bx}_{1} = -\\frac{-i \\, \\mathit{Bz}_{1} k \\cos\\left(h_{1} \\kappa_{1}\\right) \\sin\\left(h_{0} \\kappa_{1}\\right) - i \\, \\mathit{Bz}_{1} k \\cos\\left(h_{0} \\kappa_{1}\\right) \\sin\\left(h_{1} \\kappa_{1}\\right)}{\\kappa_{1} \\cos\\left(h_{0} \\kappa_{1}\\right) \\cos\\left(h_{1} \\kappa_{1}\\right) - \\kappa_{1} \\sin\\left(h_{0} \\kappa_{1}\\right) \\sin\\left(h_{1} \\kappa_{1}\\right)}, \\mathit{Ax}_{1} = \\frac{i \\, \\mathit{Bz}_{1} k}{\\kappa_{1}}\\right]$$"
      ],
      "text/plain": [
       "<IPython.core.display.Math object>"
      ]
     },
     "metadata": {},
     "output_type": "display_data"
    }
   ],
   "source": [
    "eqsys_rotH_subs = []\n",
    "for eq_rotH_simplified in eqsys_rotH_simplified:\n",
    "    for var in Ax + Bx:\n",
    "        if var in eq_rotH_simplified.variables():\n",
    "            eqsys_rotH_subs += solve (eq_rotH_simplified, var)\n",
    "\n",
    "display(Math(latex(eqsys_rotH_subs)))"
   ]
  },
  {
   "cell_type": "code",
   "execution_count": 30,
   "metadata": {},
   "outputs": [
    {
     "data": {
      "text/latex": [
       "$$\\mathit{Bz}_{1} = \\frac{{\\left({\\left(\\mathit{Bz}_{0} k^{2} + \\mathit{Bz}_{0} \\kappa_{0}^{2}\\right)} \\kappa_{1} \\cos\\left(h_{0} \\kappa_{0}\\right) \\cos\\left(h_{0} \\kappa_{1}\\right) \\cos\\left(h_{1} \\kappa_{1}\\right) - {\\left(\\mathit{Bz}_{0} k^{2} + \\mathit{Bz}_{0} \\kappa_{0}^{2}\\right)} \\kappa_{1} \\cos\\left(h_{0} \\kappa_{0}\\right) \\sin\\left(h_{0} \\kappa_{1}\\right) \\sin\\left(h_{1} \\kappa_{1}\\right)\\right)} \\mu_{1}}{{\\left(k^{2} \\kappa_{0} + \\kappa_{0} \\kappa_{1}^{2}\\right)} \\mu_{0} \\cos\\left(h_{1} \\kappa_{1}\\right)}$$"
      ],
      "text/plain": [
       "<IPython.core.display.Math object>"
      ]
     },
     "metadata": {},
     "output_type": "display_data"
    }
   ],
   "source": [
    "# граничные условия на гринице диэлектрика и диэлектрика\n",
    "# тангенциальная компонента поля H\n",
    "# eq_Hy_boundary_conditions = []\n",
    "Bz_eqs = []\n",
    "for i in range(n_layers - 1):\n",
    "    # eq_Hy_boundary_conditions += [Hy[i] (a*(i+1)) == Hy[i+1](a*(i+1))]\n",
    "    eq_Hy_bound_cond = eq_Hy_boundary_conditions[i].subs(eqsys_rotH_subs).subs(boundary_subs).full_simplify().expand()\n",
    "    Bz_eqs += solve(eq_Hy_bound_cond, Bz[i+1])\n",
    "    display(Math(latex(Bz_eqs[i])))"
   ]
  },
  {
   "cell_type": "code",
   "execution_count": 31,
   "metadata": {},
   "outputs": [
    {
     "data": {
      "text/latex": [
       "$$\\left[\\mathit{Az}_{0} \\cos\\left(h_{0} \\kappa_{0}\\right) + \\mathit{Bz}_{0} \\sin\\left(h_{0} \\kappa_{0}\\right) = \\mathit{Az}_{1} \\cos\\left(h_{0} \\kappa_{1}\\right) + \\mathit{Bz}_{1} \\sin\\left(h_{0} \\kappa_{1}\\right), {\\left(\\mathit{Ax}_{0} \\cos\\left(h_{0} \\kappa_{0}\\right) + \\mathit{Bx}_{0} \\sin\\left(h_{0} \\kappa_{0}\\right)\\right)} \\epsilon_{0} = {\\left(\\mathit{Ax}_{1} \\cos\\left(h_{0} \\kappa_{1}\\right) + \\mathit{Bx}_{1} \\sin\\left(h_{0} \\kappa_{1}\\right)\\right)} \\epsilon_{1}, \\mathit{Bx}_{0} = 0, \\mathit{Ax}_{0} - \\frac{i \\, \\mathit{Bz}_{0} k}{\\kappa_{0}} = 0, \\mathit{Bx}_{1} + \\frac{{\\left(-i \\, k \\cos\\left(h_{1} \\kappa_{1}\\right) \\sin\\left(h_{0} \\kappa_{1}\\right) - i \\, k \\cos\\left(h_{0} \\kappa_{1}\\right) \\sin\\left(h_{1} \\kappa_{1}\\right)\\right)} \\mathit{Bz}_{1}}{\\kappa_{1} \\cos\\left(h_{0} \\kappa_{1}\\right) \\cos\\left(h_{1} \\kappa_{1}\\right) - \\kappa_{1} \\sin\\left(h_{0} \\kappa_{1}\\right) \\sin\\left(h_{1} \\kappa_{1}\\right)} = 0, \\mathit{Ax}_{1} - \\frac{i \\, \\mathit{Bz}_{1} k}{\\kappa_{1}} = 0\\right]$$"
      ],
      "text/plain": [
       "<IPython.core.display.Math object>"
      ]
     },
     "metadata": {},
     "output_type": "display_data"
    }
   ],
   "source": [
    "        # + eq_Hy_boundary_conditions \\\n",
    "all_eqs = eq_Ez_boundary_conditions \\\n",
    "        + eq_Ex_boundary_conditions \\\n",
    "        + eqsys_rotH_simplified\n",
    "display(Math(latex(all_eqs)))"
   ]
  },
  {
   "cell_type": "code",
   "execution_count": 32,
   "metadata": {},
   "outputs": [
    {
     "data": {
      "text/latex": [
       "$$\\left[\\mathit{Az}_{0} \\cos\\left(h_{0} \\kappa_{0}\\right) + \\mathit{Bz}_{0} \\sin\\left(h_{0} \\kappa_{0}\\right) = \\mathit{Az}_{1} \\cos\\left(h_{0} \\kappa_{1}\\right) + \\mathit{Bz}_{1} \\sin\\left(h_{0} \\kappa_{1}\\right), {\\left(\\mathit{Ax}_{0} \\cos\\left(h_{0} \\kappa_{0}\\right) + \\mathit{Bx}_{0} \\sin\\left(h_{0} \\kappa_{0}\\right)\\right)} \\epsilon_{0} = {\\left(\\mathit{Ax}_{1} \\cos\\left(h_{0} \\kappa_{1}\\right) + \\mathit{Bx}_{1} \\sin\\left(h_{0} \\kappa_{1}\\right)\\right)} \\epsilon_{1}, \\mathit{Bx}_{0} = 0, \\mathit{Ax}_{0} - \\frac{i \\, \\mathit{Bz}_{0} k}{\\kappa_{0}} = 0, \\mathit{Bx}_{1} + \\frac{{\\left(-i \\, k \\cos\\left(h_{1} \\kappa_{1}\\right) \\sin\\left(h_{0} \\kappa_{1}\\right) - i \\, k \\cos\\left(h_{0} \\kappa_{1}\\right) \\sin\\left(h_{1} \\kappa_{1}\\right)\\right)} \\mathit{Bz}_{1}}{\\kappa_{1} \\cos\\left(h_{0} \\kappa_{1}\\right) \\cos\\left(h_{1} \\kappa_{1}\\right) - \\kappa_{1} \\sin\\left(h_{0} \\kappa_{1}\\right) \\sin\\left(h_{1} \\kappa_{1}\\right)} = 0, \\mathit{Ax}_{1} - \\frac{i \\, \\mathit{Bz}_{1} k}{\\kappa_{1}} = 0, \\mathit{Az}_{0} = 0.000000000000000, \\mathit{Az}_{1} \\cos\\left({\\left(h_{0} + h_{1}\\right)} \\kappa_{1}\\right) + \\mathit{Bz}_{1} \\sin\\left({\\left(h_{0} + h_{1}\\right)} \\kappa_{1}\\right) = 0.000000000000000\\right]$$"
      ],
      "text/plain": [
       "<IPython.core.display.Math object>"
      ]
     },
     "metadata": {},
     "output_type": "display_data"
    }
   ],
   "source": [
    "all_eqs += eq_Ez_superconductor_boundary_conditions\n",
    "display(Math(latex(all_eqs)))"
   ]
  },
  {
   "cell_type": "code",
   "execution_count": 33,
   "metadata": {},
   "outputs": [
    {
     "data": {
      "text/plain": [
       "8"
      ]
     },
     "execution_count": 33,
     "metadata": {},
     "output_type": "execute_result"
    }
   ],
   "source": [
    "len(all_eqs)"
   ]
  },
  {
   "cell_type": "code",
   "execution_count": 34,
   "metadata": {},
   "outputs": [
    {
     "data": {
      "text/latex": [
       "$$\\left(\\begin{array}{rrrrrrrr}\n",
       "0 & 0 & \\cos\\left(h_{0} \\kappa_{0}\\right) & -\\cos\\left(h_{0} \\kappa_{1}\\right) & 0 & 0 & \\sin\\left(h_{0} \\kappa_{0}\\right) & -\\sin\\left(h_{0} \\kappa_{1}\\right) \\\\\n",
       "\\epsilon_{0} \\cos\\left(h_{0} \\kappa_{0}\\right) & -\\epsilon_{1} \\cos\\left(h_{0} \\kappa_{1}\\right) & 0 & 0 & \\epsilon_{0} \\sin\\left(h_{0} \\kappa_{0}\\right) & -\\epsilon_{1} \\sin\\left(h_{0} \\kappa_{1}\\right) & 0 & 0 \\\\\n",
       "0 & 0 & 0 & 0 & 1 & 0 & 0 & 0 \\\\\n",
       "1 & 0 & 0 & 0 & 0 & 0 & -\\frac{i \\, k}{\\kappa_{0}} & 0 \\\\\n",
       "0 & 0 & 0 & 0 & 0 & 1 & 0 & \\frac{-i \\, k \\cos\\left(h_{1} \\kappa_{1}\\right) \\sin\\left(h_{0} \\kappa_{1}\\right) - i \\, k \\cos\\left(h_{0} \\kappa_{1}\\right) \\sin\\left(h_{1} \\kappa_{1}\\right)}{\\kappa_{1} \\cos\\left(h_{0} \\kappa_{1}\\right) \\cos\\left(h_{1} \\kappa_{1}\\right) - \\kappa_{1} \\sin\\left(h_{0} \\kappa_{1}\\right) \\sin\\left(h_{1} \\kappa_{1}\\right)} \\\\\n",
       "0 & 1 & 0 & 0 & 0 & 0 & 0 & -\\frac{i \\, k}{\\kappa_{1}} \\\\\n",
       "0 & 0 & 1 & 0 & 0 & 0 & 0 & 0 \\\\\n",
       "0 & 0 & 0 & \\cos\\left({\\left(h_{0} + h_{1}\\right)} \\kappa_{1}\\right) & 0 & 0 & 0 & \\sin\\left({\\left(h_{0} + h_{1}\\right)} \\kappa_{1}\\right)\n",
       "\\end{array}\\right)$$"
      ],
      "text/plain": [
       "<IPython.core.display.Math object>"
      ]
     },
     "metadata": {},
     "output_type": "display_data"
    }
   ],
   "source": [
    "M = GenerateMatrix(all_eqs, vars)\n",
    "display(Math(latex(M)))"
   ]
  },
  {
   "cell_type": "code",
   "execution_count": 35,
   "metadata": {},
   "outputs": [
    {
     "name": "stdout",
     "output_type": "stream",
     "text": [
      "\n",
      "M.nrows() 8\n",
      "M.ncols() 8\n",
      "M.rank() 8\n",
      "M.pivot_rows() = (0, 1, 2, 3, 4, 5, 6, 7)\n",
      "row =\n"
     ]
    },
    {
     "data": {
      "text/latex": [
       "$$\\left(0,\\,0,\\,\\cos\\left(h_{0} \\kappa_{0}\\right),\\,-\\cos\\left(h_{0} \\kappa_{1}\\right),\\,0,\\,0,\\,\\sin\\left(h_{0} \\kappa_{0}\\right),\\,-\\sin\\left(h_{0} \\kappa_{1}\\right)\\right)$$"
      ],
      "text/plain": [
       "<IPython.core.display.Math object>"
      ]
     },
     "metadata": {},
     "output_type": "display_data"
    },
    {
     "name": "stdout",
     "output_type": "stream",
     "text": [
      "row =\n"
     ]
    },
    {
     "data": {
      "text/latex": [
       "$$\\left(\\epsilon_{0} \\cos\\left(h_{0} \\kappa_{0}\\right),\\,-\\epsilon_{1} \\cos\\left(h_{0} \\kappa_{1}\\right),\\,0,\\,0,\\,\\epsilon_{0} \\sin\\left(h_{0} \\kappa_{0}\\right),\\,-\\epsilon_{1} \\sin\\left(h_{0} \\kappa_{1}\\right),\\,0,\\,0\\right)$$"
      ],
      "text/plain": [
       "<IPython.core.display.Math object>"
      ]
     },
     "metadata": {},
     "output_type": "display_data"
    },
    {
     "name": "stdout",
     "output_type": "stream",
     "text": [
      "row =\n"
     ]
    },
    {
     "data": {
      "text/latex": [
       "$$\\left(0,\\,0,\\,0,\\,0,\\,1,\\,0,\\,0,\\,0\\right)$$"
      ],
      "text/plain": [
       "<IPython.core.display.Math object>"
      ]
     },
     "metadata": {},
     "output_type": "display_data"
    },
    {
     "name": "stdout",
     "output_type": "stream",
     "text": [
      "row =\n"
     ]
    },
    {
     "data": {
      "text/latex": [
       "$$\\left(1,\\,0,\\,0,\\,0,\\,0,\\,0,\\,-\\frac{i \\, k}{\\kappa_{0}},\\,0\\right)$$"
      ],
      "text/plain": [
       "<IPython.core.display.Math object>"
      ]
     },
     "metadata": {},
     "output_type": "display_data"
    },
    {
     "name": "stdout",
     "output_type": "stream",
     "text": [
      "row =\n"
     ]
    },
    {
     "data": {
      "text/latex": [
       "$$\\left(0,\\,0,\\,0,\\,0,\\,0,\\,1,\\,0,\\,\\frac{-i \\, k \\cos\\left(h_{1} \\kappa_{1}\\right) \\sin\\left(h_{0} \\kappa_{1}\\right) - i \\, k \\cos\\left(h_{0} \\kappa_{1}\\right) \\sin\\left(h_{1} \\kappa_{1}\\right)}{\\kappa_{1} \\cos\\left(h_{0} \\kappa_{1}\\right) \\cos\\left(h_{1} \\kappa_{1}\\right) - \\kappa_{1} \\sin\\left(h_{0} \\kappa_{1}\\right) \\sin\\left(h_{1} \\kappa_{1}\\right)}\\right)$$"
      ],
      "text/plain": [
       "<IPython.core.display.Math object>"
      ]
     },
     "metadata": {},
     "output_type": "display_data"
    },
    {
     "name": "stdout",
     "output_type": "stream",
     "text": [
      "row =\n"
     ]
    },
    {
     "data": {
      "text/latex": [
       "$$\\left(0,\\,1,\\,0,\\,0,\\,0,\\,0,\\,0,\\,-\\frac{i \\, k}{\\kappa_{1}}\\right)$$"
      ],
      "text/plain": [
       "<IPython.core.display.Math object>"
      ]
     },
     "metadata": {},
     "output_type": "display_data"
    },
    {
     "name": "stdout",
     "output_type": "stream",
     "text": [
      "row =\n"
     ]
    },
    {
     "data": {
      "text/latex": [
       "$$\\left(0,\\,0,\\,1,\\,0,\\,0,\\,0,\\,0,\\,0\\right)$$"
      ],
      "text/plain": [
       "<IPython.core.display.Math object>"
      ]
     },
     "metadata": {},
     "output_type": "display_data"
    },
    {
     "name": "stdout",
     "output_type": "stream",
     "text": [
      "row =\n"
     ]
    },
    {
     "data": {
      "text/latex": [
       "$$\\left(0,\\,0,\\,0,\\,\\cos\\left({\\left(h_{0} + h_{1}\\right)} \\kappa_{1}\\right),\\,0,\\,0,\\,0,\\,\\sin\\left({\\left(h_{0} + h_{1}\\right)} \\kappa_{1}\\right)\\right)$$"
      ],
      "text/plain": [
       "<IPython.core.display.Math object>"
      ]
     },
     "metadata": {},
     "output_type": "display_data"
    },
    {
     "name": "stdout",
     "output_type": "stream",
     "text": [
      "M_rows[ 0 ] =\n"
     ]
    },
    {
     "data": {
      "text/latex": [
       "$$\\left(0,\\,0,\\,\\cos\\left(h_{0} \\kappa_{0}\\right),\\,-\\cos\\left(h_{0} \\kappa_{1}\\right),\\,0,\\,0,\\,\\sin\\left(h_{0} \\kappa_{0}\\right),\\,-\\sin\\left(h_{0} \\kappa_{1}\\right)\\right)$$"
      ],
      "text/plain": [
       "<IPython.core.display.Math object>"
      ]
     },
     "metadata": {},
     "output_type": "display_data"
    },
    {
     "name": "stdout",
     "output_type": "stream",
     "text": [
      "M_rows[ 1 ] =\n"
     ]
    },
    {
     "data": {
      "text/latex": [
       "$$\\left(\\epsilon_{0} \\cos\\left(h_{0} \\kappa_{0}\\right),\\,-\\epsilon_{1} \\cos\\left(h_{0} \\kappa_{1}\\right),\\,0,\\,0,\\,\\epsilon_{0} \\sin\\left(h_{0} \\kappa_{0}\\right),\\,-\\epsilon_{1} \\sin\\left(h_{0} \\kappa_{1}\\right),\\,0,\\,0\\right)$$"
      ],
      "text/plain": [
       "<IPython.core.display.Math object>"
      ]
     },
     "metadata": {},
     "output_type": "display_data"
    },
    {
     "name": "stdout",
     "output_type": "stream",
     "text": [
      "M_rows[ 2 ] =\n"
     ]
    },
    {
     "data": {
      "text/latex": [
       "$$\\left(0,\\,0,\\,0,\\,0,\\,1,\\,0,\\,0,\\,0\\right)$$"
      ],
      "text/plain": [
       "<IPython.core.display.Math object>"
      ]
     },
     "metadata": {},
     "output_type": "display_data"
    },
    {
     "name": "stdout",
     "output_type": "stream",
     "text": [
      "M_rows[ 3 ] =\n"
     ]
    },
    {
     "data": {
      "text/latex": [
       "$$\\left(1,\\,0,\\,0,\\,0,\\,0,\\,0,\\,-\\frac{i \\, k}{\\kappa_{0}},\\,0\\right)$$"
      ],
      "text/plain": [
       "<IPython.core.display.Math object>"
      ]
     },
     "metadata": {},
     "output_type": "display_data"
    },
    {
     "name": "stdout",
     "output_type": "stream",
     "text": [
      "M_rows[ 4 ] =\n"
     ]
    },
    {
     "data": {
      "text/latex": [
       "$$\\left(0,\\,0,\\,0,\\,0,\\,0,\\,1,\\,0,\\,\\frac{-i \\, k \\cos\\left(h_{1} \\kappa_{1}\\right) \\sin\\left(h_{0} \\kappa_{1}\\right) - i \\, k \\cos\\left(h_{0} \\kappa_{1}\\right) \\sin\\left(h_{1} \\kappa_{1}\\right)}{\\kappa_{1} \\cos\\left(h_{0} \\kappa_{1}\\right) \\cos\\left(h_{1} \\kappa_{1}\\right) - \\kappa_{1} \\sin\\left(h_{0} \\kappa_{1}\\right) \\sin\\left(h_{1} \\kappa_{1}\\right)}\\right)$$"
      ],
      "text/plain": [
       "<IPython.core.display.Math object>"
      ]
     },
     "metadata": {},
     "output_type": "display_data"
    },
    {
     "name": "stdout",
     "output_type": "stream",
     "text": [
      "M_rows[ 5 ] =\n"
     ]
    },
    {
     "data": {
      "text/latex": [
       "$$\\left(0,\\,1,\\,0,\\,0,\\,0,\\,0,\\,0,\\,-\\frac{i \\, k}{\\kappa_{1}}\\right)$$"
      ],
      "text/plain": [
       "<IPython.core.display.Math object>"
      ]
     },
     "metadata": {},
     "output_type": "display_data"
    },
    {
     "name": "stdout",
     "output_type": "stream",
     "text": [
      "M_rows[ 6 ] =\n"
     ]
    },
    {
     "data": {
      "text/latex": [
       "$$\\left(0,\\,0,\\,1,\\,0,\\,0,\\,0,\\,0,\\,0\\right)$$"
      ],
      "text/plain": [
       "<IPython.core.display.Math object>"
      ]
     },
     "metadata": {},
     "output_type": "display_data"
    },
    {
     "name": "stdout",
     "output_type": "stream",
     "text": [
      "M_rows[ 7 ] =\n"
     ]
    },
    {
     "data": {
      "text/latex": [
       "$$\\left(0,\\,0,\\,0,\\,\\cos\\left({\\left(h_{0} + h_{1}\\right)} \\kappa_{1}\\right),\\,0,\\,0,\\,0,\\,\\sin\\left({\\left(h_{0} + h_{1}\\right)} \\kappa_{1}\\right)\\right)$$"
      ],
      "text/plain": [
       "<IPython.core.display.Math object>"
      ]
     },
     "metadata": {},
     "output_type": "display_data"
    },
    {
     "name": "stdout",
     "output_type": "stream",
     "text": [
      "\n",
      "reduced_M.det() =\n"
     ]
    },
    {
     "data": {
      "text/latex": [
       "$$\\frac{i \\, \\epsilon_{1} k \\cos\\left(h_{0} \\kappa_{1} + h_{1} \\kappa_{1}\\right) \\cos\\left(h_{1} \\kappa_{1}\\right) \\sin\\left(h_{0} \\kappa_{0}\\right) \\sin\\left(h_{0} \\kappa_{1}\\right)^{2}}{\\kappa_{1} \\cos\\left(h_{0} \\kappa_{1}\\right) \\cos\\left(h_{1} \\kappa_{1}\\right) - \\kappa_{1} \\sin\\left(h_{0} \\kappa_{1}\\right) \\sin\\left(h_{1} \\kappa_{1}\\right)} + \\frac{i \\, \\epsilon_{1} k \\cos\\left(h_{0} \\kappa_{1} + h_{1} \\kappa_{1}\\right) \\cos\\left(h_{0} \\kappa_{1}\\right) \\sin\\left(h_{0} \\kappa_{0}\\right) \\sin\\left(h_{0} \\kappa_{1}\\right) \\sin\\left(h_{1} \\kappa_{1}\\right)}{\\kappa_{1} \\cos\\left(h_{0} \\kappa_{1}\\right) \\cos\\left(h_{1} \\kappa_{1}\\right) - \\kappa_{1} \\sin\\left(h_{0} \\kappa_{1}\\right) \\sin\\left(h_{1} \\kappa_{1}\\right)} + \\frac{i \\, \\epsilon_{1} k \\cos\\left(h_{0} \\kappa_{1} + h_{1} \\kappa_{1}\\right) \\cos\\left(h_{0} \\kappa_{1}\\right) \\sin\\left(h_{0} \\kappa_{0}\\right)}{\\kappa_{1}} + \\frac{i \\, \\epsilon_{0} k \\cos\\left(h_{0} \\kappa_{0}\\right) \\cos\\left(h_{0} \\kappa_{1}\\right) \\sin\\left(h_{0} \\kappa_{1} + h_{1} \\kappa_{1}\\right)}{\\kappa_{0}} - \\frac{i \\, \\epsilon_{0} k \\cos\\left(h_{0} \\kappa_{0}\\right) \\cos\\left(h_{0} \\kappa_{1} + h_{1} \\kappa_{1}\\right) \\sin\\left(h_{0} \\kappa_{1}\\right)}{\\kappa_{0}}$$"
      ],
      "text/plain": [
       "<IPython.core.display.Math object>"
      ]
     },
     "metadata": {},
     "output_type": "display_data"
    }
   ],
   "source": [
    "reduced_M = reduceDependedRows(M)"
   ]
  },
  {
   "cell_type": "code",
   "execution_count": 36,
   "metadata": {
    "scrolled": true
   },
   "outputs": [
    {
     "data": {
      "text/latex": [
       "$$\\left(\\begin{array}{rrrrrrrr}\n",
       "0 & 0 & \\cos\\left(h_{0} \\kappa_{0}\\right) & -\\cos\\left(h_{0} \\kappa_{1}\\right) & 0 & 0 & \\sin\\left(h_{0} \\kappa_{0}\\right) & -\\sin\\left(h_{0} \\kappa_{1}\\right) \\\\\n",
       "\\epsilon_{0} \\cos\\left(h_{0} \\kappa_{0}\\right) & -\\epsilon_{1} \\cos\\left(h_{0} \\kappa_{1}\\right) & 0 & 0 & \\epsilon_{0} \\sin\\left(h_{0} \\kappa_{0}\\right) & -\\epsilon_{1} \\sin\\left(h_{0} \\kappa_{1}\\right) & 0 & 0 \\\\\n",
       "0 & 0 & 0 & 0 & 1 & 0 & 0 & 0 \\\\\n",
       "1 & 0 & 0 & 0 & 0 & 0 & -\\frac{i \\, k}{\\kappa_{0}} & 0 \\\\\n",
       "0 & 0 & 0 & 0 & 0 & 1 & 0 & \\frac{-i \\, k \\cos\\left(h_{1} \\kappa_{1}\\right) \\sin\\left(h_{0} \\kappa_{1}\\right) - i \\, k \\cos\\left(h_{0} \\kappa_{1}\\right) \\sin\\left(h_{1} \\kappa_{1}\\right)}{\\kappa_{1} \\cos\\left(h_{0} \\kappa_{1}\\right) \\cos\\left(h_{1} \\kappa_{1}\\right) - \\kappa_{1} \\sin\\left(h_{0} \\kappa_{1}\\right) \\sin\\left(h_{1} \\kappa_{1}\\right)} \\\\\n",
       "0 & 1 & 0 & 0 & 0 & 0 & 0 & -\\frac{i \\, k}{\\kappa_{1}} \\\\\n",
       "0 & 0 & 1 & 0 & 0 & 0 & 0 & 0 \\\\\n",
       "0 & 0 & 0 & \\cos\\left({\\left(h_{0} + h_{1}\\right)} \\kappa_{1}\\right) & 0 & 0 & 0 & \\sin\\left({\\left(h_{0} + h_{1}\\right)} \\kappa_{1}\\right)\n",
       "\\end{array}\\right)$$"
      ],
      "text/plain": [
       "<IPython.core.display.Math object>"
      ]
     },
     "metadata": {},
     "output_type": "display_data"
    }
   ],
   "source": [
    "display(Math(latex(reduced_M)))"
   ]
  },
  {
   "cell_type": "code",
   "execution_count": 37,
   "metadata": {},
   "outputs": [
    {
     "data": {
      "text/latex": [
       "$$\\left[\\mathit{Ax}_{0}, \\mathit{Ax}_{1}, \\mathit{Az}_{0}, \\mathit{Az}_{1}, \\mathit{Bx}_{0}, \\mathit{Bx}_{1}, \\mathit{Bz}_{0}, \\mathit{Bz}_{1}\\right]$$"
      ],
      "text/plain": [
       "<IPython.core.display.Math object>"
      ]
     },
     "metadata": {},
     "output_type": "display_data"
    }
   ],
   "source": [
    "display(Math(latex(vars)))"
   ]
  },
  {
   "cell_type": "code",
   "execution_count": 38,
   "metadata": {},
   "outputs": [
    {
     "name": "stdout",
     "output_type": "stream",
     "text": [
      "eqns =\n"
     ]
    },
    {
     "data": {
      "text/latex": [
       "$$\\left[\\mathit{Az}_{0} \\cos\\left(h_{0} \\kappa_{0}\\right) - \\mathit{Az}_{1} \\cos\\left(h_{0} \\kappa_{1}\\right) + \\mathit{Bz}_{0} \\sin\\left(h_{0} \\kappa_{0}\\right) - \\mathit{Bz}_{1} \\sin\\left(h_{0} \\kappa_{1}\\right) = 0, \\mathit{Ax}_{0} \\epsilon_{0} \\cos\\left(h_{0} \\kappa_{0}\\right) - \\mathit{Ax}_{1} \\epsilon_{1} \\cos\\left(h_{0} \\kappa_{1}\\right) + \\mathit{Bx}_{0} \\epsilon_{0} \\sin\\left(h_{0} \\kappa_{0}\\right) - \\mathit{Bx}_{1} \\epsilon_{1} \\sin\\left(h_{0} \\kappa_{1}\\right) = 0, \\mathit{Bx}_{0} = 0, \\mathit{Ax}_{0} - \\frac{i \\, \\mathit{Bz}_{0} k}{\\kappa_{0}} = 0, \\mathit{Bx}_{1} + \\frac{{\\left(-i \\, k \\cos\\left(h_{1} \\kappa_{1}\\right) \\sin\\left(h_{0} \\kappa_{1}\\right) - i \\, k \\cos\\left(h_{0} \\kappa_{1}\\right) \\sin\\left(h_{1} \\kappa_{1}\\right)\\right)} \\mathit{Bz}_{1}}{\\kappa_{1} \\cos\\left(h_{0} \\kappa_{1}\\right) \\cos\\left(h_{1} \\kappa_{1}\\right) - \\kappa_{1} \\sin\\left(h_{0} \\kappa_{1}\\right) \\sin\\left(h_{1} \\kappa_{1}\\right)} = 0, \\mathit{Ax}_{1} - \\frac{i \\, \\mathit{Bz}_{1} k}{\\kappa_{1}} = 0, \\mathit{Az}_{0} = 0, \\mathit{Az}_{1} \\cos\\left({\\left(h_{0} + h_{1}\\right)} \\kappa_{1}\\right) + \\mathit{Bz}_{1} \\sin\\left({\\left(h_{0} + h_{1}\\right)} \\kappa_{1}\\right) = 0\\right]$$"
      ],
      "text/plain": [
       "<IPython.core.display.Math object>"
      ]
     },
     "metadata": {},
     "output_type": "display_data"
    }
   ],
   "source": [
    "eqsys_simplified = make_eqsys_from_reduced_M(reduced_M, vars)"
   ]
  },
  {
   "cell_type": "code",
   "execution_count": 39,
   "metadata": {},
   "outputs": [
    {
     "data": {
      "text/latex": [
       "$$\\frac{i \\, \\epsilon_{1} k \\cos\\left(h_{0} \\kappa_{1} + h_{1} \\kappa_{1}\\right) \\cos\\left(h_{1} \\kappa_{1}\\right) \\sin\\left(h_{0} \\kappa_{0}\\right) \\sin\\left(h_{0} \\kappa_{1}\\right)^{2}}{\\kappa_{1} \\cos\\left(h_{0} \\kappa_{1}\\right) \\cos\\left(h_{1} \\kappa_{1}\\right) - \\kappa_{1} \\sin\\left(h_{0} \\kappa_{1}\\right) \\sin\\left(h_{1} \\kappa_{1}\\right)} + \\frac{i \\, \\epsilon_{1} k \\cos\\left(h_{0} \\kappa_{1} + h_{1} \\kappa_{1}\\right) \\cos\\left(h_{0} \\kappa_{1}\\right) \\sin\\left(h_{0} \\kappa_{0}\\right) \\sin\\left(h_{0} \\kappa_{1}\\right) \\sin\\left(h_{1} \\kappa_{1}\\right)}{\\kappa_{1} \\cos\\left(h_{0} \\kappa_{1}\\right) \\cos\\left(h_{1} \\kappa_{1}\\right) - \\kappa_{1} \\sin\\left(h_{0} \\kappa_{1}\\right) \\sin\\left(h_{1} \\kappa_{1}\\right)} + \\frac{i \\, \\epsilon_{1} k \\cos\\left(h_{0} \\kappa_{1} + h_{1} \\kappa_{1}\\right) \\cos\\left(h_{0} \\kappa_{1}\\right) \\sin\\left(h_{0} \\kappa_{0}\\right)}{\\kappa_{1}} + \\frac{i \\, \\epsilon_{0} k \\cos\\left(h_{0} \\kappa_{0}\\right) \\cos\\left(h_{0} \\kappa_{1}\\right) \\sin\\left(h_{0} \\kappa_{1} + h_{1} \\kappa_{1}\\right)}{\\kappa_{0}} - \\frac{i \\, \\epsilon_{0} k \\cos\\left(h_{0} \\kappa_{0}\\right) \\cos\\left(h_{0} \\kappa_{1} + h_{1} \\kappa_{1}\\right) \\sin\\left(h_{0} \\kappa_{1}\\right)}{\\kappa_{0}}$$"
      ],
      "text/plain": [
       "<IPython.core.display.Math object>"
      ]
     },
     "metadata": {},
     "output_type": "display_data"
    }
   ],
   "source": [
    "reduced_M_det = reduced_M.det()\n",
    "display(Math(latex(reduced_M_det)))"
   ]
  },
  {
   "cell_type": "code",
   "execution_count": 40,
   "metadata": {},
   "outputs": [
    {
     "data": {
      "text/latex": [
       "$$\\frac{i \\, \\epsilon_{1} k \\kappa_{0} \\cos\\left(h_{1} \\kappa_{1}\\right) \\sin\\left(h_{0} \\kappa_{0}\\right) + i \\, \\epsilon_{0} k \\kappa_{1} \\cos\\left(h_{0} \\kappa_{0}\\right) \\sin\\left(h_{1} \\kappa_{1}\\right)}{\\kappa_{0} \\kappa_{1}} = 0$$"
      ],
      "text/plain": [
       "<IPython.core.display.Math object>"
      ]
     },
     "metadata": {},
     "output_type": "display_data"
    }
   ],
   "source": [
    "disp_eq = (reduced_M_det == 0).full_simplify()\n",
    "display(Math(latex(disp_eq)))"
   ]
  },
  {
   "cell_type": "code",
   "execution_count": 41,
   "metadata": {},
   "outputs": [
    {
     "data": {
      "text/latex": [
       "$$\\frac{\\epsilon_{1} \\kappa_{0} \\cos\\left(h_{1} \\kappa_{1}\\right) \\sin\\left(h_{0} \\kappa_{0}\\right) + \\epsilon_{0} \\kappa_{1} \\cos\\left(h_{0} \\kappa_{0}\\right) \\sin\\left(h_{1} \\kappa_{1}\\right)}{\\kappa_{0} \\kappa_{1}} = 0$$"
      ],
      "text/plain": [
       "<IPython.core.display.Math object>"
      ]
     },
     "metadata": {},
     "output_type": "display_data"
    }
   ],
   "source": [
    "disp_eq = (disp_eq / I / k).full_simplify()\n",
    "display(Math(latex(disp_eq)))"
   ]
  },
  {
   "cell_type": "code",
   "execution_count": 42,
   "metadata": {},
   "outputs": [
    {
     "data": {
      "text/latex": [
       "$$\\frac{\\kappa_{0} \\sin\\left(h_{0} \\kappa_{0}\\right)}{\\epsilon_{0} \\cos\\left(h_{0} \\kappa_{0}\\right)} + \\frac{\\kappa_{1} \\sin\\left(h_{1} \\kappa_{1}\\right)}{\\epsilon_{1} \\cos\\left(h_{1} \\kappa_{1}\\right)} = 0$$"
      ],
      "text/plain": [
       "<IPython.core.display.Math object>"
      ]
     },
     "metadata": {},
     "output_type": "display_data"
    }
   ],
   "source": [
    "for i in range(n_layers):\n",
    "    disp_eq = (disp_eq*kappa[i]/cos(h[i]*kappa[i])/epsilon[i]).full_simplify().expand()\n",
    "display(Math(latex(disp_eq)))"
   ]
  },
  {
   "cell_type": "code",
   "execution_count": 98,
   "metadata": {},
   "outputs": [
    {
     "data": {
      "text/latex": [
       "$$\\frac{\\kappa_{0} \\sin\\left(-b {\\left(g_{1} - 1\\right)} \\kappa_{0}\\right)}{\\epsilon_{0} \\cos\\left(-b {\\left(g_{1} - 1\\right)} \\kappa_{0}\\right)} + \\frac{\\kappa_{1} \\sin\\left(b g_{1} \\kappa_{1}\\right)}{\\epsilon_{1} \\cos\\left(b g_{1} \\kappa_{1}\\right)} = 0$$"
      ],
      "text/plain": [
       "<IPython.core.display.Math object>"
      ]
     },
     "metadata": {},
     "output_type": "display_data"
    }
   ],
   "source": [
    "disp_eq_b = disp_eq.subs(h[0] == (1 - sum([g[i] for i in range(1,n_layers)]))*b)\n",
    "for i in range(1,n_layers):\n",
    "    disp_eq_b = disp_eq_b.subs(h[i] == g[i]*b)\n",
    "    \n",
    "disp_eq_b\n",
    "display(Math(latex(disp_eq_b)))"
   ]
  },
  {
   "cell_type": "code",
   "execution_count": 99,
   "metadata": {},
   "outputs": [
    {
     "data": {
      "text/latex": [
       "$$\\left[\\frac{c^{2} \\kappa_{1}^{2} + {\\left(\\epsilon_{0} \\mu_{0} - \\epsilon_{1} \\mu_{1}\\right)} \\omega^{2}}{c^{2}} = \\kappa_{0}^{2}\\right]$$"
      ],
      "text/plain": [
       "<IPython.core.display.Math object>"
      ]
     },
     "metadata": {},
     "output_type": "display_data"
    },
    {
     "data": {
      "text/latex": [
       "$$\\left[\\frac{\\omega^{2}}{c^{2}} = \\frac{\\kappa_{0}^{2} - \\kappa_{1}^{2}}{\\epsilon_{0} \\mu_{0} - \\epsilon_{1} \\mu_{1}}\\right]$$"
      ],
      "text/plain": [
       "<IPython.core.display.Math object>"
      ]
     },
     "metadata": {},
     "output_type": "display_data"
    }
   ],
   "source": [
    "# исходя из вида дифференциальных уравнений для диэлектрика\n",
    "# записываем соотнощения для волнового вектора в виде уравнений\n",
    "eq_kappa_kappa = []\n",
    "eq_kappa2_kappa2 = []\n",
    "\n",
    "for i in range(n_layers - 1):\n",
    "    # eq_kappa_s = eq_kappa.subs(solve(eq_s, k^2)).full_simplify()\n",
    "    eq_kappa_kappa += [eq_kappa[i].subs(solve(eq_kappa[i+1], k^2)).full_simplify()]\n",
    "    eq_kappa2_kappa2 += [(solve(eq_kappa_kappa[i], omega^2)[0]/c^2).full_simplify()]\n",
    "\n",
    "display(Math(latex(eq_kappa_kappa)))\n",
    "display(Math(latex(eq_kappa2_kappa2)))"
   ]
  },
  {
   "cell_type": "code",
   "execution_count": 45,
   "metadata": {},
   "outputs": [
    {
     "data": {
      "text/latex": [
       "$$\\left[-k^{2} + \\frac{\\epsilon_{0} \\mu_{0} \\omega^{2}}{c^{2}} = \\kappa_{0}^{2}, -k^{2} + \\frac{\\epsilon_{1} \\mu_{1} \\omega^{2}}{c^{2}} = \\kappa_{1}^{2}\\right]$$"
      ],
      "text/plain": [
       "<IPython.core.display.Math object>"
      ]
     },
     "metadata": {},
     "output_type": "display_data"
    }
   ],
   "source": [
    "display(Math(latex(eq_kappa)))"
   ]
  },
  {
   "cell_type": "code",
   "execution_count": 46,
   "metadata": {},
   "outputs": [
    {
     "name": "stdout",
     "output_type": "stream",
     "text": [
      "eqs_kappa [ 0 ] =\n"
     ]
    },
    {
     "data": {
      "text/latex": [
       "$$\\frac{\\kappa_{0} \\sin\\left(h_{0} \\kappa_{0}\\right)}{\\epsilon_{0} \\cos\\left(h_{0} \\kappa_{0}\\right)} + \\frac{\\sqrt{c^{2} \\kappa_{0}^{2} - \\epsilon_{0} \\mu_{0} \\omega^{2} + \\epsilon_{1} \\mu_{1} \\omega^{2}} \\sin\\left(\\frac{\\sqrt{c^{2} \\kappa_{0}^{2} - \\epsilon_{0} \\mu_{0} \\omega^{2} + \\epsilon_{1} \\mu_{1} \\omega^{2}} h_{1}}{c}\\right)}{c \\epsilon_{1} \\cos\\left(\\frac{\\sqrt{c^{2} \\kappa_{0}^{2} - \\epsilon_{0} \\mu_{0} \\omega^{2} + \\epsilon_{1} \\mu_{1} \\omega^{2}} h_{1}}{c}\\right)} = 0$$"
      ],
      "text/plain": [
       "<IPython.core.display.Math object>"
      ]
     },
     "metadata": {},
     "output_type": "display_data"
    },
    {
     "name": "stdout",
     "output_type": "stream",
     "text": [
      "eqs_kappa [ 1 ] =\n"
     ]
    },
    {
     "data": {
      "text/latex": [
       "$$\\frac{\\kappa_{1} \\sin\\left(h_{1} \\kappa_{1}\\right)}{\\epsilon_{1} \\cos\\left(h_{1} \\kappa_{1}\\right)} + \\frac{\\sqrt{c^{2} \\kappa_{1}^{2} + \\epsilon_{0} \\mu_{0} \\omega^{2} - \\epsilon_{1} \\mu_{1} \\omega^{2}} \\sin\\left(\\frac{\\sqrt{c^{2} \\kappa_{1}^{2} + \\epsilon_{0} \\mu_{0} \\omega^{2} - \\epsilon_{1} \\mu_{1} \\omega^{2}} h_{0}}{c}\\right)}{c \\epsilon_{0} \\cos\\left(\\frac{\\sqrt{c^{2} \\kappa_{1}^{2} + \\epsilon_{0} \\mu_{0} \\omega^{2} - \\epsilon_{1} \\mu_{1} \\omega^{2}} h_{0}}{c}\\right)} = 0$$"
      ],
      "text/plain": [
       "<IPython.core.display.Math object>"
      ]
     },
     "metadata": {},
     "output_type": "display_data"
    }
   ],
   "source": [
    "eqs_kappa = []\n",
    "for i in range(n_layers):\n",
    "    eqs_kappa += [disp_eq]\n",
    "    for j in range(0, i):\n",
    "        eqs_kappa[i] = eqs_kappa[i].subs(solve(eq_kappa2_kappa2[j], kappa[j]))\n",
    "\n",
    "    for j in range(n_layers-1, i,-1):\n",
    "        eqs_kappa[i] = eqs_kappa[i].subs(solve(eq_kappa2_kappa2[j-1], kappa[j]))\n",
    "        \n",
    "    print (\"eqs_kappa [\", i, \"] =\")\n",
    "    display(Math(latex(eqs_kappa[i])))"
   ]
  },
  {
   "cell_type": "code",
   "execution_count": 143,
   "metadata": {},
   "outputs": [
    {
     "name": "stdout",
     "output_type": "stream",
     "text": [
      "[omega == 6.28318530717959e12, c == 29979245800, mu_0 == 1, epsilon_0 == 4.00000000000000, mu_1 == 1, epsilon_1 == 4.50000000000000]\n"
     ]
    }
   ],
   "source": [
    "# sgs\n",
    "B = 0.01\n",
    "omega_d = 2*pi.n()*10^12\n",
    "c_value = [c == 299792458 * 100]\n",
    "digit_values = [omega == omega_d]\n",
    "digit_values += c_value\n",
    "for i in range(n_layers):\n",
    "    digit_values += [mu[i] == 1]\n",
    "    digit_values += [epsilon[i] == 4 + 0.5*(i)]\n",
    "print (digit_values)\n",
    "lambda_d = (c * 2 * pi.n() / omega_d).subs(c_value)"
   ]
  },
  {
   "cell_type": "code",
   "execution_count": 48,
   "metadata": {},
   "outputs": [
    {
     "data": {
      "text/plain": [
       "0.250000000000000*kappa_0*sin(h_0*kappa_0)/cos(h_0*kappa_0) + 0.222222222222222*kappa_1*sin(h_1*kappa_1)/cos(h_1*kappa_1) == 0"
      ]
     },
     "execution_count": 48,
     "metadata": {},
     "output_type": "execute_result"
    }
   ],
   "source": [
    "disp_eq_d = disp_eq.subs(digit_values)\n",
    "disp_eq_d"
   ]
  },
  {
   "cell_type": "code",
   "execution_count": 49,
   "metadata": {},
   "outputs": [
    {
     "data": {
      "text/plain": [
       "0.250000000000000*kappa_0*sin(-0.0100000000000000*(g_1 - 1)*kappa_0)/cos(-0.0100000000000000*(g_1 - 1)*kappa_0) + 0.222222222222222*kappa_1*sin(0.0100000000000000*g_1*kappa_1)/cos(0.0100000000000000*g_1*kappa_1) == 0"
      ]
     },
     "execution_count": 49,
     "metadata": {},
     "output_type": "execute_result"
    }
   ],
   "source": [
    "disp_eq_b_d = disp_eq_b.subs(digit_values).subs(b == B)\n",
    "disp_eq_b_d"
   ]
  },
  {
   "cell_type": "code",
   "execution_count": 50,
   "metadata": {},
   "outputs": [],
   "source": [
    "tol=0.000000000001\n",
    "def find_root_recursive(func,a,b,tol=0.000000000001):\n",
    "    try:\n",
    "        free_variable = func.variables()[0]\n",
    "    except:\n",
    "        free_variable = x\n",
    "    #print(\"free_variable\", free_variable)\n",
    "    #print(\"func\", func(1))\n",
    "    L = []\n",
    "    if b - a < tol:\n",
    "        return L\n",
    "    try:\n",
    "        #print (\"a = \", a, \"b = \", b)\n",
    "        #print (func(free_variable=a), func(free_variable=b))\n",
    "        x0 = find_root(func,a,b)\n",
    "        #exec(\"print(func(\" + preparse(str(free_variable)) + \"=x0))\")\n",
    "        #print (\"x0 =\", x0, func(free_variable=x0))\n",
    "        L.append(x0)\n",
    "        L += find_root_recursive(func,a,x0-tol,tol)       \n",
    "        L += find_root_recursive(func,x0+tol,b,tol)       \n",
    "    except Exception as ex:\n",
    "        if 'f appears to have no zero on the interval' != str(ex):\n",
    "            print(str(ex))\n",
    "            print (\"a = \", a, \"b = \", b)\n",
    "            print (func(free_variable=a), func(free_variable=b))\n",
    "            exec(\"print(func(\" + preparse(str(free_variable)) + \"=a))\")\n",
    "            exec(\"print(func(\" + preparse(str(free_variable)) + \"=b))\")\n",
    "        pass\n",
    "    return L"
   ]
  },
  {
   "cell_type": "code",
   "execution_count": 51,
   "metadata": {},
   "outputs": [
    {
     "data": {
      "text/latex": [
       "$$\\left[\\kappa_{0} = \\frac{\\pi}{2 \\, h_{0}}, \\kappa_{0} = \\frac{\\sqrt{4 \\, \\epsilon_{0} h_{1}^{2} \\mu_{0} \\omega^{2} - 4 \\, \\epsilon_{1} h_{1}^{2} \\mu_{1} \\omega^{2} + \\pi^{2} c^{2}}}{2 \\, c h_{1}}\\right]$$"
      ],
      "text/plain": [
       "<IPython.core.display.Math object>"
      ]
     },
     "metadata": {},
     "output_type": "display_data"
    },
    {
     "data": {
      "text/latex": [
       "$$\\left[\\kappa_{1} = \\frac{\\pi}{2 \\, h_{1}}, \\kappa_{1} = \\frac{\\sqrt{-4 \\, \\epsilon_{0} h_{0}^{2} \\mu_{0} \\omega^{2} + 4 \\, \\epsilon_{1} h_{0}^{2} \\mu_{1} \\omega^{2} + \\pi^{2} c^{2}}}{2 \\, c h_{0}}\\right]$$"
      ],
      "text/plain": [
       "<IPython.core.display.Math object>"
      ]
     },
     "metadata": {},
     "output_type": "display_data"
    },
    {
     "data": {
      "text/latex": [
       "$$\\left[\\left[\\kappa_{0} = \\frac{\\pi}{2 \\, h_{0}}, \\kappa_{0} = \\frac{\\sqrt{4 \\, \\epsilon_{0} h_{1}^{2} \\mu_{0} \\omega^{2} - 4 \\, \\epsilon_{1} h_{1}^{2} \\mu_{1} \\omega^{2} + \\pi^{2} c^{2}}}{2 \\, c h_{1}}\\right], \\left[\\kappa_{1} = \\frac{\\pi}{2 \\, h_{1}}, \\kappa_{1} = \\frac{\\sqrt{-4 \\, \\epsilon_{0} h_{0}^{2} \\mu_{0} \\omega^{2} + 4 \\, \\epsilon_{1} h_{0}^{2} \\mu_{1} \\omega^{2} + \\pi^{2} c^{2}}}{2 \\, c h_{0}}\\right]\\right]$$"
      ],
      "text/plain": [
       "<IPython.core.display.Math object>"
      ]
     },
     "metadata": {},
     "output_type": "display_data"
    }
   ],
   "source": [
    "kappa_den_zeros = []\n",
    "for i in range(n_layers):\n",
    "    kappa_den_zeros += [[]]\n",
    "    \n",
    "for i in range(n_layers):\n",
    "    terms = eqs_kappa[i].lhs().expand().operands()\n",
    "    \n",
    "    kappa_i_den_zeros = []\n",
    "    for term in terms:\n",
    "        kappa_i_den_zeros += solve(term.denominator(), kappa[i])\n",
    "       \n",
    "    kappa_den_zeros[i] += kappa_i_den_zeros\n",
    "        \n",
    "    display(Math(latex(kappa_i_den_zeros)))\n",
    "    \n",
    "display(Math(latex(kappa_den_zeros)))"
   ]
  },
  {
   "cell_type": "code",
   "execution_count": 97,
   "metadata": {},
   "outputs": [
    {
     "name": "stdout",
     "output_type": "stream",
     "text": [
      "eqs_kappa_d = 0.250000000000000*kappa_0*sin(h_0*kappa_0)/cos(h_0*kappa_0) + (7.41253544884782e-12)*sqrt(898755178736817640000*kappa_0^2 + 1.97392088021787e25)*sin(1/29979245800*sqrt(898755178736817640000*kappa_0^2 + 1.97392088021787e25)*h_1)/cos(1/29979245800*sqrt(898755178736817640000*kappa_0^2 + 1.97392088021787e25)*h_1) == 0\n"
     ]
    },
    {
     "data": {
      "text/latex": [
       "$$\\frac{0.250000000000000 \\, \\kappa_{0} \\sin\\left(h_{0} \\kappa_{0}\\right)}{\\cos\\left(h_{0} \\kappa_{0}\\right)} + \\frac{\\left(7.41253544884782 \\times 10^{-12}\\right) \\, \\sqrt{898755178736817640000 \\, \\kappa_{0}^{2} + 1.97392088021787 \\times 10^{25}} \\sin\\left(\\frac{1}{29979245800} \\, \\sqrt{898755178736817640000 \\, \\kappa_{0}^{2} + 1.97392088021787 \\times 10^{25}} h_{1}\\right)}{\\cos\\left(\\frac{1}{29979245800} \\, \\sqrt{898755178736817640000 \\, \\kappa_{0}^{2} + 1.97392088021787 \\times 10^{25}} h_{1}\\right)} = 0$$"
      ],
      "text/plain": [
       "<IPython.core.display.Math object>"
      ]
     },
     "metadata": {},
     "output_type": "display_data"
    },
    {
     "name": "stdout",
     "output_type": "stream",
     "text": [
      "\n",
      "eqs_kappa_d.variables() = (h_0, h_1, kappa_0)\n",
      "\n",
      "eq_kappa_b_d_i = 0.250000000000000*kappa_0*sin(-b*(g_1 - 1)*kappa_0)/cos(-b*(g_1 - 1)*kappa_0) + (7.41253544884782e-12)*sqrt(898755178736817640000*kappa_0^2 + 1.97392088021787e25)*sin(1/29979245800*sqrt(898755178736817640000*kappa_0^2 + 1.97392088021787e25)*b*g_1)/cos(1/29979245800*sqrt(898755178736817640000*kappa_0^2 + 1.97392088021787e25)*b*g_1) == 0\n"
     ]
    },
    {
     "data": {
      "text/latex": [
       "$$\\frac{0.250000000000000 \\, \\kappa_{0} \\sin\\left(-b {\\left(g_{1} - 1\\right)} \\kappa_{0}\\right)}{\\cos\\left(-b {\\left(g_{1} - 1\\right)} \\kappa_{0}\\right)} + \\frac{\\left(7.41253544884782 \\times 10^{-12}\\right) \\, \\sqrt{898755178736817640000 \\, \\kappa_{0}^{2} + 1.97392088021787 \\times 10^{25}} \\sin\\left(\\frac{1}{29979245800} \\, \\sqrt{898755178736817640000 \\, \\kappa_{0}^{2} + 1.97392088021787 \\times 10^{25}} b g_{1}\\right)}{\\cos\\left(\\frac{1}{29979245800} \\, \\sqrt{898755178736817640000 \\, \\kappa_{0}^{2} + 1.97392088021787 \\times 10^{25}} b g_{1}\\right)} = 0$$"
      ],
      "text/plain": [
       "<IPython.core.display.Math object>"
      ]
     },
     "metadata": {},
     "output_type": "display_data"
    },
    {
     "name": "stdout",
     "output_type": "stream",
     "text": [
      "\n",
      "eqs_kappa_d = 0.222222222222222*kappa_1*sin(h_1*kappa_1)/cos(h_1*kappa_1) + (8.33910237995380e-12)*sqrt(898755178736817640000*kappa_1^2 - 1.97392088021787e25)*sin(1/29979245800*sqrt(898755178736817640000*kappa_1^2 - 1.97392088021787e25)*h_0)/cos(1/29979245800*sqrt(898755178736817640000*kappa_1^2 - 1.97392088021787e25)*h_0) == 0\n"
     ]
    },
    {
     "data": {
      "text/latex": [
       "$$\\frac{0.222222222222222 \\, \\kappa_{1} \\sin\\left(h_{1} \\kappa_{1}\\right)}{\\cos\\left(h_{1} \\kappa_{1}\\right)} + \\frac{\\left(8.33910237995380 \\times 10^{-12}\\right) \\, \\sqrt{898755178736817640000 \\, \\kappa_{1}^{2} - 1.97392088021787 \\times 10^{25}} \\sin\\left(\\frac{1}{29979245800} \\, \\sqrt{898755178736817640000 \\, \\kappa_{1}^{2} - 1.97392088021787 \\times 10^{25}} h_{0}\\right)}{\\cos\\left(\\frac{1}{29979245800} \\, \\sqrt{898755178736817640000 \\, \\kappa_{1}^{2} - 1.97392088021787 \\times 10^{25}} h_{0}\\right)} = 0$$"
      ],
      "text/plain": [
       "<IPython.core.display.Math object>"
      ]
     },
     "metadata": {},
     "output_type": "display_data"
    },
    {
     "name": "stdout",
     "output_type": "stream",
     "text": [
      "\n",
      "eqs_kappa_d.variables() = (h_0, h_1, kappa_1)\n",
      "\n",
      "eq_kappa_b_d_i = 0.222222222222222*kappa_1*sin(b*g_1*kappa_1)/cos(b*g_1*kappa_1) + (8.33910237995380e-12)*sqrt(898755178736817640000*kappa_1^2 - 1.97392088021787e25)*sin(-1/29979245800*sqrt(898755178736817640000*kappa_1^2 - 1.97392088021787e25)*b*(g_1 - 1))/cos(-1/29979245800*sqrt(898755178736817640000*kappa_1^2 - 1.97392088021787e25)*b*(g_1 - 1)) == 0\n"
     ]
    },
    {
     "data": {
      "text/latex": [
       "$$\\frac{0.222222222222222 \\, \\kappa_{1} \\sin\\left(b g_{1} \\kappa_{1}\\right)}{\\cos\\left(b g_{1} \\kappa_{1}\\right)} + \\frac{\\left(8.33910237995380 \\times 10^{-12}\\right) \\, \\sqrt{898755178736817640000 \\, \\kappa_{1}^{2} - 1.97392088021787 \\times 10^{25}} \\sin\\left(-\\frac{1}{29979245800} \\, \\sqrt{898755178736817640000 \\, \\kappa_{1}^{2} - 1.97392088021787 \\times 10^{25}} b {\\left(g_{1} - 1\\right)}\\right)}{\\cos\\left(-\\frac{1}{29979245800} \\, \\sqrt{898755178736817640000 \\, \\kappa_{1}^{2} - 1.97392088021787 \\times 10^{25}} b {\\left(g_{1} - 1\\right)}\\right)} = 0$$"
      ],
      "text/plain": [
       "<IPython.core.display.Math object>"
      ]
     },
     "metadata": {},
     "output_type": "display_data"
    },
    {
     "name": "stdout",
     "output_type": "stream",
     "text": [
      "\n"
     ]
    }
   ],
   "source": [
    "eqs_kappa_d = []\n",
    "eqs_kappa_b_d = []\n",
    "for i in range(n_layers):\n",
    "    eq_kappa_d_i = eqs_kappa[i].subs(digit_values)\n",
    "    eqs_kappa_d += [eq_kappa_d_i]\n",
    "    eq_kappa_b_d_i = eq_kappa_d_i.subs(h[0] == (1 - sum([g[i] for i in range(1,n_layers)]))*b)\n",
    "    for j in range(1,n_layers):\n",
    "        eq_kappa_b_d_i = eq_kappa_b_d_i.subs(h[j] == g[j]*b)\n",
    "    eqs_kappa_b_d += [eq_kappa_b_d_i]\n",
    "    print(\"eqs_kappa_d =\", eqs_kappa_d[i])\n",
    "    display(Math(latex(eqs_kappa_d[i])))\n",
    "    print(\"\")\n",
    "    print(\"eqs_kappa_d.variables() =\", eqs_kappa_d[i].variables())\n",
    "    print(\"\")\n",
    "    print(\"eq_kappa_b_d_i =\", eq_kappa_b_d_i)\n",
    "    display(Math(latex(eq_kappa_b_d_i)))\n",
    "    print(\"\")\n"
   ]
  },
  {
   "cell_type": "code",
   "execution_count": 53,
   "metadata": {},
   "outputs": [],
   "source": [
    "disp_eq_d = disp_eq.subs(digit_values)"
   ]
  },
  {
   "cell_type": "code",
   "execution_count": 54,
   "metadata": {},
   "outputs": [
    {
     "data": {
      "text/plain": [
       "0.250000000000000*kappa_0*sin(h_0*kappa_0)/cos(h_0*kappa_0) + 0.222222222222222*kappa_1*sin(h_1*kappa_1)/cos(h_1*kappa_1) == 0"
      ]
     },
     "execution_count": 54,
     "metadata": {},
     "output_type": "execute_result"
    }
   ],
   "source": [
    "disp_eq_d"
   ]
  },
  {
   "cell_type": "code",
   "execution_count": 55,
   "metadata": {},
   "outputs": [
    {
     "name": "stdout",
     "output_type": "stream",
     "text": [
      "Ex[ 0 ]=\n"
     ]
    },
    {
     "data": {
      "text/latex": [
       "$$\\frac{i \\, \\mathit{Bz}_{0} k \\cos\\left(\\kappa_{0} x\\right)}{\\kappa_{0}}$$"
      ],
      "text/plain": [
       "<IPython.core.display.Math object>"
      ]
     },
     "metadata": {},
     "output_type": "display_data"
    },
    {
     "name": "stdout",
     "output_type": "stream",
     "text": [
      "Ez[ 0 ]=\n"
     ]
    },
    {
     "data": {
      "text/latex": [
       "$$\\mathit{Bz}_{0} \\sin\\left(\\kappa_{0} x\\right)$$"
      ],
      "text/plain": [
       "<IPython.core.display.Math object>"
      ]
     },
     "metadata": {},
     "output_type": "display_data"
    },
    {
     "name": "stdout",
     "output_type": "stream",
     "text": [
      "\n",
      "Ex[ 1 ]=\n"
     ]
    },
    {
     "data": {
      "text/latex": [
       "$$\\frac{i \\, \\mathit{Bz}_{1} k \\cos\\left(h_{0} \\kappa_{1}\\right) \\cos\\left(h_{1} \\kappa_{1}\\right) \\cos\\left(\\kappa_{1} x\\right)}{\\kappa_{1} \\cos\\left(h_{0} \\kappa_{1}\\right) \\cos\\left(h_{1} \\kappa_{1}\\right) - \\kappa_{1} \\sin\\left(h_{0} \\kappa_{1}\\right) \\sin\\left(h_{1} \\kappa_{1}\\right)} - \\frac{i \\, \\mathit{Bz}_{1} k \\cos\\left(\\kappa_{1} x\\right) \\sin\\left(h_{0} \\kappa_{1}\\right) \\sin\\left(h_{1} \\kappa_{1}\\right)}{\\kappa_{1} \\cos\\left(h_{0} \\kappa_{1}\\right) \\cos\\left(h_{1} \\kappa_{1}\\right) - \\kappa_{1} \\sin\\left(h_{0} \\kappa_{1}\\right) \\sin\\left(h_{1} \\kappa_{1}\\right)} + \\frac{i \\, \\mathit{Bz}_{1} k \\cos\\left(h_{1} \\kappa_{1}\\right) \\sin\\left(h_{0} \\kappa_{1}\\right) \\sin\\left(\\kappa_{1} x\\right)}{\\kappa_{1} \\cos\\left(h_{0} \\kappa_{1}\\right) \\cos\\left(h_{1} \\kappa_{1}\\right) - \\kappa_{1} \\sin\\left(h_{0} \\kappa_{1}\\right) \\sin\\left(h_{1} \\kappa_{1}\\right)} + \\frac{i \\, \\mathit{Bz}_{1} k \\cos\\left(h_{0} \\kappa_{1}\\right) \\sin\\left(h_{1} \\kappa_{1}\\right) \\sin\\left(\\kappa_{1} x\\right)}{\\kappa_{1} \\cos\\left(h_{0} \\kappa_{1}\\right) \\cos\\left(h_{1} \\kappa_{1}\\right) - \\kappa_{1} \\sin\\left(h_{0} \\kappa_{1}\\right) \\sin\\left(h_{1} \\kappa_{1}\\right)}$$"
      ],
      "text/plain": [
       "<IPython.core.display.Math object>"
      ]
     },
     "metadata": {},
     "output_type": "display_data"
    },
    {
     "name": "stdout",
     "output_type": "stream",
     "text": [
      "Ez[ 1 ]=\n"
     ]
    },
    {
     "data": {
      "text/latex": [
       "$$-\\frac{\\mathit{Bz}_{1} \\cos\\left(h_{1} \\kappa_{1}\\right) \\cos\\left(\\kappa_{1} x\\right) \\sin\\left(h_{0} \\kappa_{1}\\right)}{\\cos\\left(h_{0} \\kappa_{1}\\right) \\cos\\left(h_{1} \\kappa_{1}\\right) - \\sin\\left(h_{0} \\kappa_{1}\\right) \\sin\\left(h_{1} \\kappa_{1}\\right)} - \\frac{\\mathit{Bz}_{1} \\cos\\left(h_{0} \\kappa_{1}\\right) \\cos\\left(\\kappa_{1} x\\right) \\sin\\left(h_{1} \\kappa_{1}\\right)}{\\cos\\left(h_{0} \\kappa_{1}\\right) \\cos\\left(h_{1} \\kappa_{1}\\right) - \\sin\\left(h_{0} \\kappa_{1}\\right) \\sin\\left(h_{1} \\kappa_{1}\\right)} + \\frac{\\mathit{Bz}_{1} \\cos\\left(h_{0} \\kappa_{1}\\right) \\cos\\left(h_{1} \\kappa_{1}\\right) \\sin\\left(\\kappa_{1} x\\right)}{\\cos\\left(h_{0} \\kappa_{1}\\right) \\cos\\left(h_{1} \\kappa_{1}\\right) - \\sin\\left(h_{0} \\kappa_{1}\\right) \\sin\\left(h_{1} \\kappa_{1}\\right)} - \\frac{\\mathit{Bz}_{1} \\sin\\left(h_{0} \\kappa_{1}\\right) \\sin\\left(h_{1} \\kappa_{1}\\right) \\sin\\left(\\kappa_{1} x\\right)}{\\cos\\left(h_{0} \\kappa_{1}\\right) \\cos\\left(h_{1} \\kappa_{1}\\right) - \\sin\\left(h_{0} \\kappa_{1}\\right) \\sin\\left(h_{1} \\kappa_{1}\\right)}$$"
      ],
      "text/plain": [
       "<IPython.core.display.Math object>"
      ]
     },
     "metadata": {},
     "output_type": "display_data"
    },
    {
     "name": "stdout",
     "output_type": "stream",
     "text": [
      "\n",
      "\n",
      "Ex[ 1 ]=\n"
     ]
    },
    {
     "data": {
      "text/latex": [
       "$$\\frac{i \\, \\mathit{Bz}_{0} k^{3} \\mu_{1} \\cos\\left(h_{0} \\kappa_{0}\\right) \\cos\\left(h_{0} \\kappa_{1}\\right) \\cos\\left(\\kappa_{1} x\\right)}{{\\left(k^{2} \\kappa_{0} + \\kappa_{0} \\kappa_{1}^{2}\\right)} \\mu_{0}} + \\frac{i \\, \\mathit{Bz}_{0} k \\kappa_{0}^{2} \\mu_{1} \\cos\\left(h_{0} \\kappa_{0}\\right) \\cos\\left(h_{0} \\kappa_{1}\\right) \\cos\\left(\\kappa_{1} x\\right)}{{\\left(k^{2} \\kappa_{0} + \\kappa_{0} \\kappa_{1}^{2}\\right)} \\mu_{0}} - \\frac{i \\, \\mathit{Bz}_{0} k^{3} \\mu_{1} \\cos\\left(h_{0} \\kappa_{0}\\right) \\cos\\left(\\kappa_{1} x\\right) \\sin\\left(h_{0} \\kappa_{1}\\right) \\sin\\left(h_{1} \\kappa_{1}\\right)}{{\\left(k^{2} \\kappa_{0} + \\kappa_{0} \\kappa_{1}^{2}\\right)} \\mu_{0} \\cos\\left(h_{1} \\kappa_{1}\\right)} - \\frac{i \\, \\mathit{Bz}_{0} k \\kappa_{0}^{2} \\mu_{1} \\cos\\left(h_{0} \\kappa_{0}\\right) \\cos\\left(\\kappa_{1} x\\right) \\sin\\left(h_{0} \\kappa_{1}\\right) \\sin\\left(h_{1} \\kappa_{1}\\right)}{{\\left(k^{2} \\kappa_{0} + \\kappa_{0} \\kappa_{1}^{2}\\right)} \\mu_{0} \\cos\\left(h_{1} \\kappa_{1}\\right)} + \\frac{i \\, \\mathit{Bz}_{0} k^{3} \\mu_{1} \\cos\\left(h_{0} \\kappa_{0}\\right) \\sin\\left(h_{0} \\kappa_{1}\\right) \\sin\\left(\\kappa_{1} x\\right)}{{\\left(k^{2} \\kappa_{0} + \\kappa_{0} \\kappa_{1}^{2}\\right)} \\mu_{0}} + \\frac{i \\, \\mathit{Bz}_{0} k \\kappa_{0}^{2} \\mu_{1} \\cos\\left(h_{0} \\kappa_{0}\\right) \\sin\\left(h_{0} \\kappa_{1}\\right) \\sin\\left(\\kappa_{1} x\\right)}{{\\left(k^{2} \\kappa_{0} + \\kappa_{0} \\kappa_{1}^{2}\\right)} \\mu_{0}} + \\frac{i \\, \\mathit{Bz}_{0} k^{3} \\mu_{1} \\cos\\left(h_{0} \\kappa_{0}\\right) \\cos\\left(h_{0} \\kappa_{1}\\right) \\sin\\left(h_{1} \\kappa_{1}\\right) \\sin\\left(\\kappa_{1} x\\right)}{{\\left(k^{2} \\kappa_{0} + \\kappa_{0} \\kappa_{1}^{2}\\right)} \\mu_{0} \\cos\\left(h_{1} \\kappa_{1}\\right)} + \\frac{i \\, \\mathit{Bz}_{0} k \\kappa_{0}^{2} \\mu_{1} \\cos\\left(h_{0} \\kappa_{0}\\right) \\cos\\left(h_{0} \\kappa_{1}\\right) \\sin\\left(h_{1} \\kappa_{1}\\right) \\sin\\left(\\kappa_{1} x\\right)}{{\\left(k^{2} \\kappa_{0} + \\kappa_{0} \\kappa_{1}^{2}\\right)} \\mu_{0} \\cos\\left(h_{1} \\kappa_{1}\\right)}$$"
      ],
      "text/plain": [
       "<IPython.core.display.Math object>"
      ]
     },
     "metadata": {},
     "output_type": "display_data"
    },
    {
     "name": "stdout",
     "output_type": "stream",
     "text": [
      "Ez[ 1 ]=\n"
     ]
    },
    {
     "data": {
      "text/latex": [
       "$$-\\frac{\\mathit{Bz}_{0} k^{2} \\kappa_{1} \\mu_{1} \\cos\\left(h_{0} \\kappa_{0}\\right) \\cos\\left(\\kappa_{1} x\\right) \\sin\\left(h_{0} \\kappa_{1}\\right)}{{\\left(k^{2} \\kappa_{0} + \\kappa_{0} \\kappa_{1}^{2}\\right)} \\mu_{0}} - \\frac{\\mathit{Bz}_{0} \\kappa_{0}^{2} \\kappa_{1} \\mu_{1} \\cos\\left(h_{0} \\kappa_{0}\\right) \\cos\\left(\\kappa_{1} x\\right) \\sin\\left(h_{0} \\kappa_{1}\\right)}{{\\left(k^{2} \\kappa_{0} + \\kappa_{0} \\kappa_{1}^{2}\\right)} \\mu_{0}} - \\frac{\\mathit{Bz}_{0} k^{2} \\kappa_{1} \\mu_{1} \\cos\\left(h_{0} \\kappa_{0}\\right) \\cos\\left(h_{0} \\kappa_{1}\\right) \\cos\\left(\\kappa_{1} x\\right) \\sin\\left(h_{1} \\kappa_{1}\\right)}{{\\left(k^{2} \\kappa_{0} + \\kappa_{0} \\kappa_{1}^{2}\\right)} \\mu_{0} \\cos\\left(h_{1} \\kappa_{1}\\right)} - \\frac{\\mathit{Bz}_{0} \\kappa_{0}^{2} \\kappa_{1} \\mu_{1} \\cos\\left(h_{0} \\kappa_{0}\\right) \\cos\\left(h_{0} \\kappa_{1}\\right) \\cos\\left(\\kappa_{1} x\\right) \\sin\\left(h_{1} \\kappa_{1}\\right)}{{\\left(k^{2} \\kappa_{0} + \\kappa_{0} \\kappa_{1}^{2}\\right)} \\mu_{0} \\cos\\left(h_{1} \\kappa_{1}\\right)} + \\frac{\\mathit{Bz}_{0} k^{2} \\kappa_{1} \\mu_{1} \\cos\\left(h_{0} \\kappa_{0}\\right) \\cos\\left(h_{0} \\kappa_{1}\\right) \\sin\\left(\\kappa_{1} x\\right)}{{\\left(k^{2} \\kappa_{0} + \\kappa_{0} \\kappa_{1}^{2}\\right)} \\mu_{0}} + \\frac{\\mathit{Bz}_{0} \\kappa_{0}^{2} \\kappa_{1} \\mu_{1} \\cos\\left(h_{0} \\kappa_{0}\\right) \\cos\\left(h_{0} \\kappa_{1}\\right) \\sin\\left(\\kappa_{1} x\\right)}{{\\left(k^{2} \\kappa_{0} + \\kappa_{0} \\kappa_{1}^{2}\\right)} \\mu_{0}} - \\frac{\\mathit{Bz}_{0} k^{2} \\kappa_{1} \\mu_{1} \\cos\\left(h_{0} \\kappa_{0}\\right) \\sin\\left(h_{0} \\kappa_{1}\\right) \\sin\\left(h_{1} \\kappa_{1}\\right) \\sin\\left(\\kappa_{1} x\\right)}{{\\left(k^{2} \\kappa_{0} + \\kappa_{0} \\kappa_{1}^{2}\\right)} \\mu_{0} \\cos\\left(h_{1} \\kappa_{1}\\right)} - \\frac{\\mathit{Bz}_{0} \\kappa_{0}^{2} \\kappa_{1} \\mu_{1} \\cos\\left(h_{0} \\kappa_{0}\\right) \\sin\\left(h_{0} \\kappa_{1}\\right) \\sin\\left(h_{1} \\kappa_{1}\\right) \\sin\\left(\\kappa_{1} x\\right)}{{\\left(k^{2} \\kappa_{0} + \\kappa_{0} \\kappa_{1}^{2}\\right)} \\mu_{0} \\cos\\left(h_{1} \\kappa_{1}\\right)}$$"
      ],
      "text/plain": [
       "<IPython.core.display.Math object>"
      ]
     },
     "metadata": {},
     "output_type": "display_data"
    },
    {
     "name": "stdout",
     "output_type": "stream",
     "text": [
      "\n"
     ]
    }
   ],
   "source": [
    "Ex_res = []\n",
    "Ez_res = []\n",
    "for i in range(n_layers):\n",
    "    Ex_res += [ lambda x, i=i : Ex[i](x).subs(eqsys_rotH_subs).subs(boundary_subs).full_simplify().expand()]\n",
    "    Ez_res += [ lambda x, i=i : Ez[i](x).subs(eqsys_rotH_subs).subs(boundary_subs).full_simplify().expand()]\n",
    "\n",
    "for i in range(n_layers):\n",
    "    print (\"Ex[\", i, \"]=\")\n",
    "    display(Math(latex(Ex_res[i](x))))\n",
    "    print (\"Ez[\", i, \"]=\")\n",
    "    display(Math(latex(Ez_res[i](x))))\n",
    "    print(\"\")\n",
    "    \n",
    "for i in range(n_layers):\n",
    "    if i > 0:\n",
    "        print (\"Ex[\", i, \"]=\")\n",
    "        display(Math(latex(Ex_res[i](x).subs(Bz_eqs[i-1]).full_simplify().expand())))\n",
    "        print (\"Ez[\", i, \"]=\")\n",
    "        display(Math(latex(Ez_res[i](x).subs(Bz_eqs[i-1]).full_simplify().expand())))\n",
    "    print(\"\")"
   ]
  },
  {
   "cell_type": "code",
   "execution_count": 56,
   "metadata": {},
   "outputs": [
    {
     "name": "stdout",
     "output_type": "stream",
     "text": [
      "Hy[ 0 ]=\n"
     ]
    },
    {
     "data": {
      "text/latex": [
       "$$\\frac{{\\left(i \\, \\mathit{Bz}_{0} c k^{2} + i \\, \\mathit{Bz}_{0} c \\kappa_{0}^{2}\\right)} \\cos\\left(\\kappa_{0} x\\right)}{\\kappa_{0} \\mu_{0} \\omega}$$"
      ],
      "text/plain": [
       "<IPython.core.display.Math object>"
      ]
     },
     "metadata": {},
     "output_type": "display_data"
    },
    {
     "name": "stdout",
     "output_type": "stream",
     "text": [
      "\n",
      "Hy[ 1 ]=\n"
     ]
    },
    {
     "data": {
      "text/latex": [
       "$$\\frac{{\\left({\\left(i \\, \\mathit{Bz}_{1} c k^{2} + i \\, \\mathit{Bz}_{1} c \\kappa_{1}^{2}\\right)} \\cos\\left(h_{0} \\kappa_{1}\\right) \\cos\\left(h_{1} \\kappa_{1}\\right) + {\\left(-i \\, \\mathit{Bz}_{1} c k^{2} - i \\, \\mathit{Bz}_{1} c \\kappa_{1}^{2}\\right)} \\sin\\left(h_{0} \\kappa_{1}\\right) \\sin\\left(h_{1} \\kappa_{1}\\right)\\right)} \\cos\\left(\\kappa_{1} x\\right) + {\\left({\\left(i \\, \\mathit{Bz}_{1} c k^{2} + i \\, \\mathit{Bz}_{1} c \\kappa_{1}^{2}\\right)} \\cos\\left(h_{1} \\kappa_{1}\\right) \\sin\\left(h_{0} \\kappa_{1}\\right) + {\\left(i \\, \\mathit{Bz}_{1} c k^{2} + i \\, \\mathit{Bz}_{1} c \\kappa_{1}^{2}\\right)} \\cos\\left(h_{0} \\kappa_{1}\\right) \\sin\\left(h_{1} \\kappa_{1}\\right)\\right)} \\sin\\left(\\kappa_{1} x\\right)}{{\\left(\\kappa_{1} \\cos\\left(h_{0} \\kappa_{1}\\right) \\cos\\left(h_{1} \\kappa_{1}\\right) - \\kappa_{1} \\sin\\left(h_{0} \\kappa_{1}\\right) \\sin\\left(h_{1} \\kappa_{1}\\right)\\right)} \\mu_{1} \\omega}$$"
      ],
      "text/plain": [
       "<IPython.core.display.Math object>"
      ]
     },
     "metadata": {},
     "output_type": "display_data"
    },
    {
     "name": "stdout",
     "output_type": "stream",
     "text": [
      "Hy[ 1 ]=\n"
     ]
    },
    {
     "data": {
      "text/latex": [
       "$$\\frac{i \\, \\mathit{Bz}_{0} c k^{2} \\cos\\left(h_{0} \\kappa_{0}\\right) \\cos\\left(h_{0} \\kappa_{1}\\right) \\cos\\left(\\kappa_{1} x\\right)}{\\kappa_{0} \\mu_{0} \\omega} + \\frac{i \\, \\mathit{Bz}_{0} c \\kappa_{0} \\cos\\left(h_{0} \\kappa_{0}\\right) \\cos\\left(h_{0} \\kappa_{1}\\right) \\cos\\left(\\kappa_{1} x\\right)}{\\mu_{0} \\omega} - \\frac{i \\, \\mathit{Bz}_{0} c k^{2} \\cos\\left(h_{0} \\kappa_{0}\\right) \\cos\\left(\\kappa_{1} x\\right) \\sin\\left(h_{0} \\kappa_{1}\\right) \\sin\\left(h_{1} \\kappa_{1}\\right)}{\\kappa_{0} \\mu_{0} \\omega \\cos\\left(h_{1} \\kappa_{1}\\right)} - \\frac{i \\, \\mathit{Bz}_{0} c \\kappa_{0} \\cos\\left(h_{0} \\kappa_{0}\\right) \\cos\\left(\\kappa_{1} x\\right) \\sin\\left(h_{0} \\kappa_{1}\\right) \\sin\\left(h_{1} \\kappa_{1}\\right)}{\\mu_{0} \\omega \\cos\\left(h_{1} \\kappa_{1}\\right)} + \\frac{i \\, \\mathit{Bz}_{0} c k^{2} \\cos\\left(h_{0} \\kappa_{0}\\right) \\sin\\left(h_{0} \\kappa_{1}\\right) \\sin\\left(\\kappa_{1} x\\right)}{\\kappa_{0} \\mu_{0} \\omega} + \\frac{i \\, \\mathit{Bz}_{0} c \\kappa_{0} \\cos\\left(h_{0} \\kappa_{0}\\right) \\sin\\left(h_{0} \\kappa_{1}\\right) \\sin\\left(\\kappa_{1} x\\right)}{\\mu_{0} \\omega} + \\frac{i \\, \\mathit{Bz}_{0} c k^{2} \\cos\\left(h_{0} \\kappa_{0}\\right) \\cos\\left(h_{0} \\kappa_{1}\\right) \\sin\\left(h_{1} \\kappa_{1}\\right) \\sin\\left(\\kappa_{1} x\\right)}{\\kappa_{0} \\mu_{0} \\omega \\cos\\left(h_{1} \\kappa_{1}\\right)} + \\frac{i \\, \\mathit{Bz}_{0} c \\kappa_{0} \\cos\\left(h_{0} \\kappa_{0}\\right) \\cos\\left(h_{0} \\kappa_{1}\\right) \\sin\\left(h_{1} \\kappa_{1}\\right) \\sin\\left(\\kappa_{1} x\\right)}{\\mu_{0} \\omega \\cos\\left(h_{1} \\kappa_{1}\\right)}$$"
      ],
      "text/plain": [
       "<IPython.core.display.Math object>"
      ]
     },
     "metadata": {},
     "output_type": "display_data"
    },
    {
     "name": "stdout",
     "output_type": "stream",
     "text": [
      "\n"
     ]
    }
   ],
   "source": [
    "Hy_res = []\n",
    "for i in range(n_layers):\n",
    "    Hy_res  += [lambda x, i=i : Hy[i](x).subs(eqsys_rotH_subs).subs(boundary_subs).full_simplify()]\n",
    "    print (\"Hy[\", i, \"]=\")\n",
    "    display(Math(latex(Hy_res[i](x))))\n",
    "    if i > 0:\n",
    "        print (\"Hy[\", i, \"]=\")\n",
    "        display(Math(latex(Hy_res[i](x).subs(Bz_eqs[i-1]).full_simplify().expand())))\n",
    "\n",
    "    print(\"\")"
   ]
  },
  {
   "cell_type": "code",
   "execution_count": 57,
   "metadata": {},
   "outputs": [],
   "source": [
    "def Re(v):\n",
    "    return v.real_part()\n",
    "\n",
    "def Im(v):\n",
    "    return v.imag_part()"
   ]
  },
  {
   "cell_type": "code",
   "execution_count": 58,
   "metadata": {},
   "outputs": [],
   "source": [
    "E2_8pi_x = []\n",
    "for i in range(n_layers):\n",
    "    exec(preparse(\"E2_8pi_x += [lambda x, i=i:\" + str(\n",
    "        ( (Re(Ex_res[i](x))^2 +\n",
    "           Im(Ex_res[i](x))^2)) / (2*8*pi)\n",
    "    ) + \"]\"))"
   ]
  },
  {
   "cell_type": "code",
   "execution_count": 59,
   "metadata": {},
   "outputs": [],
   "source": [
    "E2_8pi_z = []\n",
    "for i in range(n_layers):\n",
    "    exec(preparse(\"E2_8pi_z += [lambda x, i=i:\" + str(\n",
    "        ( (Re(Ez_res[i](x))^2 +\n",
    "           Im(Ez_res[i](x))^2)) / (2*8*pi)\n",
    "    ) + \"]\"))"
   ]
  },
  {
   "cell_type": "code",
   "execution_count": 60,
   "metadata": {},
   "outputs": [],
   "source": [
    "H2_8pi_y = []\n",
    "for i in range(n_layers):\n",
    "    exec(preparse(\"H2_8pi_y += [lambda x, i=i:\" + str(\n",
    "        ( (Re(Hy_res[i](x))^2 +\n",
    "           Im(Hy_res[i](x))^2)) / (2*8*pi)\n",
    "    ) + \"]\"))"
   ]
  },
  {
   "cell_type": "code",
   "execution_count": 61,
   "metadata": {},
   "outputs": [
    {
     "data": {
      "text/plain": [
       "1/16*(Bz_1*k*cos(h_0*kappa_1)*cos(h_1*kappa_1)*cos(kappa_1*x)/(kappa_1*cos(h_0*kappa_1)*cos(h_1*kappa_1) - kappa_1*sin(h_0*kappa_1)*sin(h_1*kappa_1)) - Bz_1*k*cos(kappa_1*x)*sin(h_0*kappa_1)*sin(h_1*kappa_1)/(kappa_1*cos(h_0*kappa_1)*cos(h_1*kappa_1) - kappa_1*sin(h_0*kappa_1)*sin(h_1*kappa_1)) + Bz_1*k*cos(h_1*kappa_1)*sin(h_0*kappa_1)*sin(kappa_1*x)/(kappa_1*cos(h_0*kappa_1)*cos(h_1*kappa_1) - kappa_1*sin(h_0*kappa_1)*sin(h_1*kappa_1)) + Bz_1*k*cos(h_0*kappa_1)*sin(h_1*kappa_1)*sin(kappa_1*x)/(kappa_1*cos(h_0*kappa_1)*cos(h_1*kappa_1) - kappa_1*sin(h_0*kappa_1)*sin(h_1*kappa_1)))^2/pi"
      ]
     },
     "execution_count": 61,
     "metadata": {},
     "output_type": "execute_result"
    }
   ],
   "source": [
    "E2_8pi_x[1](x)"
   ]
  },
  {
   "cell_type": "code",
   "execution_count": 194,
   "metadata": {},
   "outputs": [],
   "source": [
    "def make_digit_kappa_i(i, kappa_d_i, debug = False):\n",
    "    digit_kappa_i = [kappa[i] == kappa_d_i]\n",
    "    if debug:\n",
    "        print(\"digit_kappa_i [\", i, \"] =\", digit_kappa_i)\n",
    "\n",
    "    # for j in range(0, i):\n",
    "    for j in range(i-1, -1, -1):\n",
    "        if debug:\n",
    "            print (\"j\", j)\n",
    "            print(solve(eq_kappa2_kappa2[j], kappa[j]))\n",
    "        digit_kappa_i_j = solve(eq_kappa2_kappa2[j], kappa[j])[0].subs(digit_kappa_i).subs(digit_values)\n",
    "        if debug:\n",
    "            print(\"digit_kappa_i_j [\", i, \",\", j, \"] =\", digit_kappa_i_j)\n",
    "            print(\"digit_kappa_i_j [\", i, \",\", j, \"].is_real() =\", digit_kappa_i_j.rhs().is_real())\n",
    "        if digit_kappa_i_j.rhs().is_real():\n",
    "            digit_kappa_i += [digit_kappa_i_j]\n",
    "        if debug:\n",
    "            print(\"digit_kappa_i [\", i, \"] =\", digit_kappa_i)\n",
    "\n",
    "    # for j in range(n_layers-1, i,-1):\n",
    "    for j in range(i+1, n_layers):\n",
    "        if debug:\n",
    "            print (\"j\", j)\n",
    "            print(solve(eq_kappa2_kappa2[j-1], kappa[j]))\n",
    "        digit_kappa_i_j = solve(eq_kappa2_kappa2[j-1], kappa[j])[0].subs(digit_kappa_i).subs(digit_values)\n",
    "        if debug:\n",
    "            print(\"digit_kappa_i_j [\", i, \",\", j, \"] =\", digit_kappa_i_j)\n",
    "            print(\"digit_kappa_i_j [\", i, \",\", j, \"].is_real() =\", digit_kappa_i_j.rhs().is_real())\n",
    "        if digit_kappa_i_j.rhs().is_real():\n",
    "            digit_kappa_i += [digit_kappa_i_j]\n",
    "        if debug:\n",
    "            print(\"digit_kappa_i [\", i, \"] =\", digit_kappa_i)\n",
    "\n",
    "    return digit_kappa_i"
   ]
  },
  {
   "cell_type": "code",
   "execution_count": 197,
   "metadata": {},
   "outputs": [],
   "source": [
    "def calc_f_surf(r, g1, debug = False):\n",
    "    kappa_values_symbolic = []\n",
    "    kappa_values_symbolic_d_ = []\n",
    "    for i in range(n_layers):\n",
    "        assume (kappa [i] > 0)\n",
    "        kappa_values_symbolic += solve (eq_kappa[i], kappa[i])\n",
    "        kappa_values_symbolic_d_ += [kappa[i] == kappa_values_symbolic[i].rhs().subs(digit_values).subs(c_value)]\n",
    "        if debug:\n",
    "            print(\"kappa_values_symbolic_d_[\", i, \"]\", kappa_values_symbolic_d_[i].rhs())\n",
    "        \n",
    "    if debug:\n",
    "        print(\"eq_kappa = \", eq_kappa)\n",
    "        print(\"\")\n",
    "        print (\"kappa_values_symbolic\", kappa_values_symbolic)\n",
    "        print(\"\")\n",
    "        print(\"kappa_values_symbolic_d_ = \", kappa_values_symbolic_d_)\n",
    "        print(\"\")\n",
    "        #print(\"kappa_values_d = \", kappa_values_d)\n",
    "        #print(\"\")\n",
    "        print(\"disp_eq_b = \", disp_eq_b)\n",
    "        display(Math(latex(disp_eq_b)))\n",
    "    \n",
    "    disp_eq_b_symb = disp_eq_b.subs(kappa_values_symbolic)\n",
    "    if debug:\n",
    "        print(\"disp_eq_b_symb = \", disp_eq_b_symb)\n",
    "        print(\"\")\n",
    "    #disp_eq_b_d_ = disp_eq_b_symb.subs(k == k_d).subs(digit_values).subs(c_value).full_simplify()\n",
    "    #.subs(k_values_d)\n",
    "    disp_eq_b_s = disp_eq_b_d.subs(g_1 == g1)\n",
    "    #disp_eq_b_s_ = disp_eq_b_d_.subs(g_1 == g1).full_simplify()\n",
    "    \n",
    "    if debug:\n",
    "        print (\"disp_eq_b_symb =\", disp_eq_b_symb)\n",
    "        display(Math(latex(disp_eq_b_symb)))\n",
    "        #print (\"disp_eq_b_d_ =\", disp_eq_b_d_)\n",
    "        #print(\"\")\n",
    "        #print (\"disp_eq_b_d_.variables() =\", disp_eq_b_d_.variables())\n",
    "        #print(\"\")\n",
    "        print (\"disp_eq_b_s =\", disp_eq_b_s)\n",
    "        print(\"\")\n",
    "        print (\"disp_eq_b_s.variables() =\", disp_eq_b_s.variables())\n",
    "        print(\"\")\n",
    "        #print (\"disp_eq_b_s_ =\", disp_eq_b_s_)\n",
    "        #print(\"\")\n",
    "        #print (\"disp_eq_b_s_.variables() =\", disp_eq_b_s_.variables())\n",
    "        #print(\"\")\n",
    "    \n",
    "    #disp_eq_b_s\n",
    "    disp_eq_brakes_b_dict = dict() # kappa_den_zeros_d = []\n",
    "    for operand in disp_eq_b_s.lhs().operands():\n",
    "        if debug:\n",
    "            print (operand)\n",
    "            print (operand.variables())\n",
    "        operand_denominator = operand.denominator()\n",
    "        if debug:\n",
    "            print (\"operand_denominator\", operand_denominator)\n",
    "        from sage.symbolic.operators import add_vararg, mul_vararg\n",
    "        operand_denominator_operator = operand_denominator.operator()\n",
    "        if debug:\n",
    "            print (\"operand_denominator_operator\", operand_denominator_operator)\n",
    "        operand_denominator_variables = operand_denominator.variables()\n",
    "        if debug:\n",
    "            print (\"operand_denominator_variables\", operand_denominator_variables)\n",
    "\n",
    "        if mul_vararg == operand_denominator_operator and len(operand_denominator_variables) > 1: #if 2 < n_layers:\n",
    "            for operand_denominator_i in operand_denominator.operands():\n",
    "                if debug:\n",
    "                    print(\"operand_denominator_i\", operand_denominator_i)\n",
    "                operand_denominator_i_roots = find_root_recursive(operand_denominator_i, lambda_d/32, 10*lambda_d)\n",
    "                operand_denominator_i_roots.sort()\n",
    "                if debug:\n",
    "                    print(\"operand_denominator_i_roots\", operand_denominator_i_roots)\n",
    "                key = str(operand_denominator_i.variables()[0])\n",
    "                #print(\"key =\", key)\n",
    "                       \n",
    "                if len(operand_denominator_i_roots) > 0:\n",
    "                    for rt in operand_denominator_i_roots:\n",
    "                        if key in disp_eq_brakes_b_dict.keys():\n",
    "                            if rt not in disp_eq_brakes_b_dict[key]:\n",
    "                                disp_eq_brakes_b_dict[key] += [rt]\n",
    "                        else:\n",
    "                            disp_eq_brakes_b_dict[key] = [rt]\n",
    "                else:\n",
    "                    operand_denominator_sols_i = solve(operand_denominator_i, operand_denominator_i.variables()[0])\n",
    "                    if debug:\n",
    "                        print(\"operand_denominator_sols_i\", operand_denominator_sols_i)\n",
    "                    for sl in operand_denominator_sols_i:\n",
    "                        if key in disp_eq_brakes_b_dict.keys():\n",
    "                            if sl.rhs() not in disp_eq_brakes_b_dict[key]:\n",
    "                                disp_eq_brakes_b_dict[key] += [sl.rhs()]\n",
    "                        else:\n",
    "                            disp_eq_brakes_b_dict[key] = [sl.rhs()]\n",
    "        else:\n",
    "            if debug:\n",
    "                print(\"operand_denominator\", operand_denominator)\n",
    "            operand_denominator_roots = find_root_recursive(operand_denominator, lambda_d/32, 10*lambda_d)\n",
    "            operand_denominator_roots.sort()\n",
    "            if debug:\n",
    "                print(\"operand_denominator_roots\", operand_denominator_roots)\n",
    "            key = str(operand_denominator.variables()[0])\n",
    "            #print(\"key =\", key)\n",
    "\n",
    "            if len(operand_denominator_roots) > 0:\n",
    "                for rt in operand_denominator_roots:\n",
    "                    if key in disp_eq_brakes_b_dict.keys():\n",
    "                        if rt not in disp_eq_brakes_b_dict[key]:\n",
    "                            disp_eq_brakes_b_dict[key] += [rt]\n",
    "                    else:\n",
    "                        disp_eq_brakes_b_dict[key] = [rt]\n",
    "            else:\n",
    "                operand_denominator_sols = solve(operand_denominator, operand_denominator.variables()[0])\n",
    "                if debug:\n",
    "                    print(\"operand_denominator_sols\", operand_denominator_sols)\n",
    "                for sl in operand_denominator_sols:\n",
    "                    if key in disp_eq_brakes_b_dict.keys():\n",
    "                        if sl.rhs() not in disp_eq_brakes_b_dict[key]:\n",
    "                            disp_eq_brakes_b_dict[key] += [sl.rhs()]\n",
    "                    else:\n",
    "                        disp_eq_brakes_b_dict[key] = [sl.rhs()]\n",
    "\n",
    "    for key in disp_eq_brakes_b_dict.keys():\n",
    "        disp_eq_brakes_b_dict[key].sort()\n",
    "    if debug:\n",
    "        print(\"disp_eq_brakes_b_dict\", disp_eq_brakes_b_dict)\n",
    "        \n",
    "    eps = 0.1\n",
    "    \n",
    "    \n",
    "    def fill_kappa_digit_list(i, ai, bi):\n",
    "        kappa_digit_list = []\n",
    "        from scipy.optimize import fsolve, root, brentq\n",
    "        #print(\"eqs_kappa_b_d[i]\", eqs_kappa_b_d[i])\n",
    "        #print(\"\")\n",
    "        eqs_kappa_b_d_i_s = eqs_kappa_b_d[i].lhs().subs(b == B, g[1] == g1, kappa[i] == x)\n",
    "        #print(\"eqs_kappa_b_d_i_s\", eqs_kappa_b_d_i_s)\n",
    "        #print(\"\")\n",
    "\n",
    "        plot(eqs_kappa_b_d_i_s, ai, bi).show()\n",
    "\n",
    "        #print (\"eq_kappa_f_ =\", eq_kappa_f_(x))\n",
    "        #print(\"\")\n",
    "\n",
    "        #print (\"ai =\", ai, \"bi =\", bi)\n",
    "        #print(\"\")\n",
    "        #print (\"eqs_kappa_b_d_i_s(ai) =\", eqs_kappa_b_d_i_s(ai), \"eqs_kappa_b_d_i_s(bi) =\", eqs_kappa_b_d_i_s(bi))\n",
    "        #print(\"\")\n",
    "        #plot(eq_kappa_f_, ai, bi).show()\n",
    "\n",
    "        try:\n",
    "            kappa_root = brentq(eqs_kappa_b_d_i_s, ai, bi)\n",
    "            #print(\"kappa_root\", kappa_root)\n",
    "            kappa_digit_list += [kappa_root]\n",
    "            #print (kappa[i], \"=\", kappa_root)\n",
    "        except Exception as ex:\n",
    "            #print (ex)\n",
    "            kappa_root_recurcive = find_root_recursive (eqs_kappa_b_d_i_s, ai, bi)\n",
    "            #print(\"kappa_root_recurcive\", kappa_root_recurcive)\n",
    "            kappa_digit_list += kappa_root_recurcive\n",
    "        return kappa_digit_list\n",
    "    \n",
    "\n",
    "    \n",
    "    disp_eq_brakes_b_list = []\n",
    "    for (key, disp_eq_brakes_b) in disp_eq_brakes_b_dict.items():\n",
    "        for kappa_den_zero_d in disp_eq_brakes_b:\n",
    "            #print(\"key\", key, type(key))\n",
    "            for i in range(n_layers):\n",
    "                #print(\"kappa[i]\", kappa[i], type(kappa[i]))\n",
    "                if str(kappa[i]) == key:\n",
    "                    #print(\"i=\", i)\n",
    "                    break\n",
    "                    \n",
    "            ai = 0.0 + eps\n",
    "            bi = kappa_den_zero_d - eps\n",
    "            kappa_d_i_ = fill_kappa_digit_list(i, ai, bi)\n",
    "            #print(\"kappa_d_i_\", kappa_d_i_)\n",
    "\n",
    "            disp_eq_brakes_b_list += [kappa_den_zero_d]\n",
    "            \n",
    "            if len(kappa_d_i_) > 0:\n",
    "                for kappa_d_i_k_ in kappa_d_i_:\n",
    "                    digit_kappa_i = make_digit_kappa_i(i, kappa_d_i_k_, debug = debug)\n",
    "                    #print(\"digit_kappa_i\", digit_kappa_i)\n",
    "                    \n",
    "    disp_eq_brakes_b_list.sort()  \n",
    "    #print (\"disp_eq_brakes_b_list\", disp_eq_brakes_b_list)\n",
    "    \n",
    "    kappa_d_ = []\n",
    "    for i in range(n_layers):\n",
    "        kappa_d_ += [[]]\n",
    "    \n",
    "    for i in range(n_layers):\n",
    "        #print (\"i =\", i)\n",
    "\n",
    "        #\n",
    "        ai = 0.0 + eps  \n",
    "        for kappa_den_zero_d in disp_eq_brakes_b_list:\n",
    "            bi = kappa_den_zero_d - eps\n",
    "            kappa_d_[i] += fill_kappa_digit_list(i, ai, bi)\n",
    "            ai = kappa_den_zero_d + eps\n",
    "            \n",
    "        bi = ai * 2\n",
    "        kappa_d_[i] += fill_kappa_digit_list(i, ai, bi)\n",
    "\n",
    "\n",
    "    #print(\"\") \n",
    "    #print(\"kappa_d_ =\", kappa_d_)\n",
    "    \n",
    "    \n",
    "    digit_kappas_ = []\n",
    "    for i in range(n_layers):\n",
    "        for kk in range(len(kappa_d_[i])):\n",
    "            digit_kappa_i_ = make_digit_kappa_i(i, kappa_d_[i][kk], debug = debug)\n",
    "\n",
    "            #print(\"\")\n",
    "            if len(digit_kappa_i_) == n_layers:\n",
    "                digit_kappas_ += [digit_kappa_i_]\n",
    "\n",
    "    #print(\"\") \n",
    "    #print(\"digit_kappas_ =\", digit_kappas_)\n",
    "    \n",
    "    # TODO FIX Sort\n",
    "    digit_kappas_.sort()\n",
    "                \n",
    "    #print(\"\") \n",
    "    #print(\"digit_kappas_ after sort =\", digit_kappas_)\n",
    "    \n",
    "    \n",
    "    for j in range(len(digit_kappas_)):\n",
    "        for i in range(n_layers - 1):\n",
    "            eq = eq_kappa[i].subs(digit_kappas_[j]).subs(digit_values)\n",
    "            #print (eq, type(eq))\n",
    "            digit_k_j = solve(eq, k)\n",
    "            #print (digit_k_j)\n",
    "            for digit_k in digit_k_j:\n",
    "                if digit_k.rhs() > 0:\n",
    "                    #print (digit_k.rhs().n())\n",
    "                    if 0 == i:\n",
    "                        digit_kappas_[j] += [k == digit_k.rhs().n()]\n",
    "    #print(\"\") \n",
    "    #print(\"digit_kappas_ after solve(eq_kappa, k) =\", digit_kappas_)\n",
    "    \n",
    "    digit_kappas_k_ = []\n",
    "    for j in range(len(digit_kappas_)):\n",
    "        if n_layers + 1 == len(digit_kappas_[j]):\n",
    "            digit_kappas_k_ += [digit_kappas_[j]]\n",
    "\n",
    "    print(digit_kappas_k_)\n",
    "    \n",
    "    #print(\"\") \n",
    "    #print(\"digit_kappas_k after solve(eq_kappa, k) =\", digit_kappas_k_)\n",
    "\n",
    "    b_s_ = [h[0] == (1 - sum([g[i] for i in range(1,n_layers)]))*b]\n",
    "    for i in range(1,n_layers):\n",
    "        b_s_ += [h[i] == g[i]*b]\n",
    "\n",
    "    #print(\"b_s_\",b_s_)\n",
    "    \n",
    "    b_sol_ = B\n",
    "                \n",
    "    h_s_ = []\n",
    "    for i in range(n_layers):\n",
    "        h_s_ += [b_s_[i].subs(digit_values).subs(b == b_sol_).subs(g_1 == g1)]\n",
    "    #print(\"h_s_\",h_s_)\n",
    "    #h_s_\n",
    "\n",
    "    h_sol_ = [0]\n",
    "    for i in range(n_layers):\n",
    "        h_sol_ += [h_sol_[i] + h_s_[i].rhs()]\n",
    "    #print(\"h_sol_\",h_sol_)\n",
    "    #h_sol_\n",
    "    #print(\"h_sol_\", h_sol_)\n",
    "\n",
    "    #if debug:\n",
    "    #    plt = sage.plot.graphics.Graphics()\n",
    "    #    plt += plot (disp_eq_b_s.lhs(), (b, b_sol_*0.1, b_sol_*1.1))\n",
    "    #    plt.show ()\n",
    "    \n",
    "    #    plt = sage.plot.graphics.Graphics()\n",
    "    #    plt += plot (disp_eq_b_s_.lhs(), (b, b_sol_*0.1, b_sol_*1.1))\n",
    "    #    plt.show ()\n",
    "        \n",
    "    #    plt = sage.plot.graphics.Graphics()\n",
    "    #    plt += plot ([disp_eq_b_s.lhs(), disp_eq_b_s_.lhs()], (b, b_sol_*0.01, b_sol_*1.1))\n",
    "    #    plt.show ()\n",
    "        \n",
    "    f_dielectric_surf_z_ = []\n",
    "    f_dielectric_surf_x_ = []\n",
    "    border_h = []\n",
    "    for i in range(n_layers - 1):\n",
    "        if 0 == i:\n",
    "            border_h += [(1 - sum([g[i] for i in range(1,n_layers)]))*b]\n",
    "        else:\n",
    "            border_h += [border_h[i-1] + g[i]*b]\n",
    "            \n",
    "        fE_susbtitutions = [b == B, Bz_0 == 1]\n",
    "        if i > 0:\n",
    "            fE_susbtitutions += [Bz_eqs[i-1]]\n",
    "        \n",
    "            \n",
    "        f_dielectric_surf_z_ += [lambda i=i: (epsilon[i]-epsilon[i+1]) *\n",
    "                                  E2_8pi_z[i  ](border_h[i]).subs(fE_susbtitutions)]\n",
    "\n",
    "        f_dielectric_surf_x_ += [lambda i=i: (epsilon[i]-epsilon[i+1])*\n",
    "                                 (epsilon[i]/epsilon[i+1])*\n",
    "                                 E2_8pi_x[i  ](border_h[i]).subs(fE_susbtitutions)]\n",
    "        #f_dielectric_surf_x += [(epsilon_d[i]-epsilon_d[i+1])*\n",
    "        #                        (epsilon_d[i+1]/epsilon_d[i])*\n",
    "        #                        E2_8pi_x[i+1](rh,ph,border_h[i], 1)]\n",
    "\n",
    "    f_dielectric_surf_ = sum ([f_dielectric_surf_z_[i]() + \n",
    "                                              f_dielectric_surf_x_[i]() for i in range(n_layers - 1)])\n",
    "    fH_susbtitutions = [b == B, Bz_0 == 1]\n",
    "    for i in range(n_layers):\n",
    "        if i > 0:\n",
    "            fH_susbtitutions += [Bz_eqs[i-1]]\n",
    "\n",
    "    f_metal_surf_ =  ((H2_8pi_y[n_layers - 1](b_sol_) )\n",
    "        -\n",
    "        (H2_8pi_y[0](0) )).subs(fH_susbtitutions)\n",
    "\n",
    "\n",
    "    f_surf_ = (f_metal_surf_ + f_dielectric_surf_).expand()\n",
    "    \n",
    "    #f_surf_s_ = lambda : f_surf_().subs(amplitude_variable == 1).subs(k_values_symbolic).expand().factor()\n",
    "    \n",
    "    if debug:\n",
    "        print(\"f_surf_ =\", f_surf_)\n",
    "        print(\"\")\n",
    "        print(\"f_surf_.variables() =\", f_surf_.variables())\n",
    "        print(\"\")\n",
    "        print(\"\")\n",
    "        #print(\"f_surf_s_() =\", f_surf_s_() )\n",
    "        #print(\"\")\n",
    "        #print(\"f_surf_s_().variables() =\", f_surf_s_().variables())\n",
    "        #print(\"\")\n",
    "    \n",
    "    \n",
    "    \n",
    "    f_surf_sol = f_surf_.subs(digit_values) \\\n",
    "              .subs(digit_kappas_k_[0]) \\\n",
    "              .subs(c_value) \\\n",
    "              .subs(digit_values)\n",
    "    \n",
    "    f_metal_surf_sol = f_metal_surf_.subs(digit_values) \\\n",
    "              .subs(digit_kappas_k_[0]) \\\n",
    "              .subs(c_value) \\\n",
    "              .subs(digit_values)\n",
    "    \n",
    "    f_dielectric_surf_sol = f_dielectric_surf_.subs(digit_values) \\\n",
    "              .subs(digit_kappas_k_[0]) \\\n",
    "              .subs(c_value) \\\n",
    "              .subs(digit_values)\n",
    "    \n",
    "    f_surf_sol = f_surf_sol.subs(h[0] == (1 - sum([g[i] for i in range(1,n_layers)]))*b)\n",
    "    f_metal_surf_sol = f_metal_surf_sol.subs(h[0] == (1 - sum([g[i] for i in range(1,n_layers)]))*b)\n",
    "    f_dielectric_surf_sol = f_dielectric_surf_sol.subs(h[0] == (1 - sum([g[i] for i in range(1,n_layers)]))*b)\n",
    "    for i in range(1,n_layers):\n",
    "        f_surf_sol = f_surf_sol.subs(h[i] == g[i]*b).subs(b == b_sol_).subs(g_1 == g1).subs(fH_susbtitutions)\n",
    "        f_metal_surf_sol = f_metal_surf_sol.subs(h[i] == g[i]*b).subs(b == b_sol_).subs(g_1 == g1).subs(fH_susbtitutions)\n",
    "        f_dielectric_surf_sol = f_dielectric_surf_sol.subs(h[i] == g[i]*b).subs(b == b_sol_).subs(g_1 == g1).subs(fH_susbtitutions)\n",
    "        \n",
    "    if debug:\n",
    "        print(\"f_metal_surf_sol\", f_metal_surf_sol)\n",
    "        print(\"f_metal_surf_sol.variables()\", f_metal_surf_sol.variables())\n",
    "        print(\"f_dielectric_surf_sol\", f_dielectric_surf_sol)\n",
    "        print(\"f_dielectric_surf_sol.variables()\", f_dielectric_surf_sol.variables())\n",
    "        print(\"f_surf_sol\", f_surf_sol)\n",
    "        print(\"f_surf_sol.variables()\", f_surf_sol.variables())\n",
    "    \n",
    "    #f_surf_sol_rh_int_ph(rh)            = integrate(f_surf_sol(rh,ph) * rh, (ph,0,2*pi))\n",
    "    #f_metal_surf_sol_rh_int_ph(rh)      = integrate(f_metal_surf_sol(rh,ph) * rh, (ph,0,2*pi))\n",
    "    #f_dielectric_surf_sol_rh_int_ph(rh) = integrate(f_dielectric_surf_sol(rh,ph) * rh, (ph,0,2*pi))\n",
    "    #print(\"f_surf_sol_rh_int_ph(rh) = \", f_surf_sol_rh_int_ph(rh))\n",
    "    \n",
    "    #f_surf_sol_rh_int_ph_r = f_surf_sol_rh_int_ph(r).subs(b == b_sol_).subs(g_1 == g1)\n",
    "    #f_metal_surf_sol_rh_int_ph_r = f_metal_surf_sol_rh_int_ph(r).subs(b == b_sol_).subs(g_1 == g1)\n",
    "    #f_dielectric_surf_sol_rh_int_ph_r = f_dielectric_surf_sol_rh_int_ph(r).subs(b == b_sol_).subs(g_1 == g1)\n",
    "    #print(\"f_surf_sol_rh_int_ph_r\", f_surf_sol_rh_int_ph_r)\n",
    "    \n",
    "    return f_surf_sol, f_metal_surf_sol, f_dielectric_surf_sol\n"
   ]
  },
  {
   "cell_type": "code",
   "execution_count": 198,
   "metadata": {},
   "outputs": [
    {
     "data": {
      "image/png": "[encoded data removed]",
      "text/plain": [
       "Graphics object consisting of 1 graphics primitive"
      ]
     },
     "metadata": {},
     "output_type": "display_data"
    },
    {
     "name": "stderr",
     "output_type": "stream",
     "text": [
      "/usr3/articles/sagemath_docker_build/sage-9.1/local/lib/python3.7/site-packages/sage/repl/ipython_kernel/__main__.py:150: DeprecationWarning: Substitution using function-call syntax and unnamed arguments is deprecated and will be removed from a future release of Sage; you can use named arguments instead, like EXPR(x=..., y=...)\n",
      "See http://trac.sagemath.org/5930 for details.\n"
     ]
    },
    {
     "data": {
      "image/png": "[encoded data removed]",
      "text/plain": [
       "Graphics object consisting of 1 graphics primitive"
      ]
     },
     "metadata": {},
     "output_type": "display_data"
    },
    {
     "data": {
      "image/png": "[encoded data removed]",
      "text/plain": [
       "Graphics object consisting of 1 graphics primitive"
      ]
     },
     "metadata": {},
     "output_type": "display_data"
    },
    {
     "data": {
      "image/png": "[encoded data removed]",
      "text/plain": [
       "Graphics object consisting of 1 graphics primitive"
      ]
     },
     "metadata": {},
     "output_type": "display_data"
    },
    {
     "data": {
      "image/png": "[encoded data removed]",
      "text/plain": [
       "Graphics object consisting of 1 graphics primitive"
      ]
     },
     "metadata": {},
     "output_type": "display_data"
    },
    {
     "data": {
      "image/png": "[encoded data removed]",
      "text/plain": [
       "Graphics object consisting of 1 graphics primitive"
      ]
     },
     "metadata": {},
     "output_type": "display_data"
    },
    {
     "data": {
      "image/png": "[encoded data removed]",
      "text/plain": [
       "Graphics object consisting of 1 graphics primitive"
      ]
     },
     "metadata": {},
     "output_type": "display_data"
    },
    {
     "name": "stdout",
     "output_type": "stream",
     "text": [
      "Brent's method failed to find a zero for f on the interval\n",
      "a =  500/9*pi + 0.100000000000000 b =  957.911299368729\n",
      "0.222222222222222*x*sin(0.00100000000000000*x)/cos(0.00100000000000000*x) + (8.33910237995380e-12)*sqrt(898755178736817640000*x^2 - 1.97392088021787e25)*sin((3.00207685678337e-13)*sqrt(898755178736817640000*x^2 - 1.97392088021787e25))/cos((3.00207685678337e-13)*sqrt(898755178736817640000*x^2 - 1.97392088021787e25)) 0.222222222222222*x*sin(0.00100000000000000*x)/cos(0.00100000000000000*x) + (8.33910237995380e-12)*sqrt(898755178736817640000*x^2 - 1.97392088021787e25)*sin((3.00207685678337e-13)*sqrt(898755178736817640000*x^2 - 1.97392088021787e25))/cos((3.00207685678337e-13)*sqrt(898755178736817640000*x^2 - 1.97392088021787e25))\n",
      "0.0246913580246914*(500*pi + 0.900000000000000)*sin(0.0555555555555556*pi + 0.000100000000000000)/cos(0.0555555555555556*pi + 0.000100000000000000) + (9.26566931105978e-13)*sqrt(898755178736817640000*(500*pi + 0.900000000000000)^2 - 1.59887591297648e27)*sin((3.33564095198152e-14)*sqrt(8.08879660863136e23*pi + 224688794684204410000000000*pi^2 - 1.59887518498478e27))/cos((3.33564095198152e-14)*sqrt(8.08879660863136e23*pi + 224688794684204410000000000*pi^2 - 1.59887518498478e27))\n",
      "-5.91171556152403e-12\n",
      "Brent's method failed to find a zero for f on the interval\n",
      "a =  957.911299368731 b =  1267.76451942286\n",
      "0.222222222222222*x*sin(0.00100000000000000*x)/cos(0.00100000000000000*x) + (8.33910237995380e-12)*sqrt(898755178736817640000*x^2 - 1.97392088021787e25)*sin((3.00207685678337e-13)*sqrt(898755178736817640000*x^2 - 1.97392088021787e25))/cos((3.00207685678337e-13)*sqrt(898755178736817640000*x^2 - 1.97392088021787e25)) 0.222222222222222*x*sin(0.00100000000000000*x)/cos(0.00100000000000000*x) + (8.33910237995380e-12)*sqrt(898755178736817640000*x^2 - 1.97392088021787e25)*sin((3.00207685678337e-13)*sqrt(898755178736817640000*x^2 - 1.97392088021787e25))/cos((3.00207685678337e-13)*sqrt(898755178736817640000*x^2 - 1.97392088021787e25))\n",
      "6.36646291241050e-12\n",
      "-2.42152964347042e-11\n"
     ]
    },
    {
     "data": {
      "image/png": "[encoded data removed]",
      "text/plain": [
       "Graphics object consisting of 1 graphics primitive"
      ]
     },
     "metadata": {},
     "output_type": "display_data"
    },
    {
     "name": "stdout",
     "output_type": "stream",
     "text": [
      "Brent's method failed to find a zero for f on the interval\n",
      "a =  500*pi + 0.100000000000000 b =  1000*pi + 0.200000000000000\n",
      "0.222222222222222*x*sin(0.00100000000000000*x)/cos(0.00100000000000000*x) + (8.33910237995380e-12)*sqrt(898755178736817640000*x^2 - 1.97392088021787e25)*sin((3.00207685678337e-13)*sqrt(898755178736817640000*x^2 - 1.97392088021787e25))/cos((3.00207685678337e-13)*sqrt(898755178736817640000*x^2 - 1.97392088021787e25)) 0.222222222222222*x*sin(0.00100000000000000*x)/cos(0.00100000000000000*x) + (8.33910237995380e-12)*sqrt(898755178736817640000*x^2 - 1.97392088021787e25)*sin((3.00207685678337e-13)*sqrt(898755178736817640000*x^2 - 1.97392088021787e25))/cos((3.00207685678337e-13)*sqrt(898755178736817640000*x^2 - 1.97392088021787e25))\n",
      "0.222222222222222*(500*pi + 0.100000000000000)*sin(0.500000000000000*pi + 0.000100000000000000)/cos(0.500000000000000*pi + 0.000100000000000000) + (8.33910237995380e-12)*sqrt(898755178736817640000*(500*pi + 0.100000000000000)^2 - 1.97392088021787e25)*sin((3.00207685678337e-13)*sqrt(8.98755178736818e22*pi + 224688794684204410000000000*pi^2 - 1.97391998146269e25))/cos((3.00207685678337e-13)*sqrt(8.98755178736818e22*pi + 224688794684204410000000000*pi^2 - 1.97391998146269e25))\n",
      "0.222222222222222*(1000*pi + 0.200000000000000)*sin(1.00000000000000*pi + 0.000200000000000000)/cos(1.00000000000000*pi + 0.000200000000000000) + (8.33910237995380e-12)*sqrt(898755178736817640000*(1000*pi + 0.200000000000000)^2 - 1.97392088021787e25)*sin((3.00207685678337e-13)*sqrt(3.59502071494727e23*pi + 898755178736817640000000000*pi^2 - 1.97391728519716e25))/cos((3.00207685678337e-13)*sqrt(3.59502071494727e23*pi + 898755178736817640000000000*pi^2 - 1.97391728519716e25))\n",
      "[[kappa_0 == 311.30651555871447, kappa_1 == 344.781928774561, k == 280.697181340101]]\n"
     ]
    },
    {
     "data": {
      "text/plain": [
       "(-0.0219455952642011/pi, 0.00160110758523807/pi, -0.0235467028494389/pi)"
      ]
     },
     "execution_count": 198,
     "metadata": {},
     "output_type": "execute_result"
    }
   ],
   "source": [
    "calc_f_surf(1, 0.1, debug = False)"
   ]
  },
  {
   "cell_type": "code",
   "execution_count": 188,
   "metadata": {},
   "outputs": [
    {
     "name": "stdout",
     "output_type": "stream",
     "text": [
      "[[1/2*pi/h_0], [1/2*pi/h_1, 1/59958491600*sqrt(898755178736817640000*pi^2 + 7.89568352087149e25*h_0^2)/h_0]]\n",
      "[[1/2*pi/h_0], [1/2*pi/h_1, 1/59958491600*sqrt(898755178736817640000*pi^2 + 7.89568352087149e25*h_0^2)/h_0]]\n"
     ]
    }
   ],
   "source": [
    "kappa_den_zeros_d = []\n",
    "for i in range(n_layers):\n",
    "    kappa_den_zeros_d += [[]]\n",
    "    for kappa_den_zero in kappa_den_zeros[i]:\n",
    "        kappa_den_zero_d = kappa_den_zero.rhs().subs(digit_values).subs(b == B)#.n()\n",
    "        if kappa_den_zero_d.is_real() and kappa_den_zero_d > 0:\n",
    "            if not kappa_den_zero_d in kappa_den_zeros_d[i]:\n",
    "                kappa_den_zeros_d[i] += [kappa_den_zero_d]\n",
    "                \n",
    "print(kappa_den_zeros_d)\n",
    "\n",
    "for i in range(n_layers):\n",
    "    kappa_den_zeros_d[i] = sorted(kappa_den_zeros_d[i])\n",
    "\n",
    "print(kappa_den_zeros_d)"
   ]
  },
  {
   "cell_type": "code",
   "execution_count": 189,
   "metadata": {},
   "outputs": [
    {
     "name": "stdout",
     "output_type": "stream",
     "text": [
      "i = 0\n",
      "0.250000000000000*kappa_0*sin(h_0*kappa_0)/cos(h_0*kappa_0) + (7.41253544884782e-12)*sqrt(898755178736817640000*kappa_0^2 + 1.97392088021787e25)*sin(1/29979245800*sqrt(898755178736817640000*kappa_0^2 + 1.97392088021787e25)*h_1)/cos(1/29979245800*sqrt(898755178736817640000*kappa_0^2 + 1.97392088021787e25)*h_1)\n",
      "0.000000000000000 1/2*pi/h_0 - 0.100000000000000\n"
     ]
    },
    {
     "ename": "ValueError",
     "evalue": "Variable 'kappa_0' not found",
     "output_type": "error",
     "traceback": [
      "\u001b[0;31m---------------------------------------------------------------------------\u001b[0m",
      "\u001b[0;31mValueError\u001b[0m                                Traceback (most recent call last)",
      "\u001b[0;32m/usr3/articles/sagemath_docker_build/sage-9.1/local/lib/python3.7/site-packages/sage/ext/fast_callable.pyx\u001b[0m in \u001b[0;36msage.ext.fast_callable.ExpressionTreeBuilder.var (build/cythonized/sage/ext/fast_callable.c:6756)\u001b[0;34m()\u001b[0m\n\u001b[1;32m    725\u001b[0m         \u001b[0;32mtry\u001b[0m\u001b[0;34m:\u001b[0m\u001b[0;34m\u001b[0m\u001b[0;34m\u001b[0m\u001b[0m\n\u001b[0;32m--> 726\u001b[0;31m             \u001b[0mind\u001b[0m \u001b[0;34m=\u001b[0m \u001b[0mself\u001b[0m\u001b[0;34m.\u001b[0m\u001b[0m_vars\u001b[0m\u001b[0;34m.\u001b[0m\u001b[0mindex\u001b[0m\u001b[0;34m(\u001b[0m\u001b[0mvar_name\u001b[0m\u001b[0;34m)\u001b[0m\u001b[0;34m\u001b[0m\u001b[0;34m\u001b[0m\u001b[0m\n\u001b[0m\u001b[1;32m    727\u001b[0m         \u001b[0;32mexcept\u001b[0m \u001b[0mValueError\u001b[0m\u001b[0;34m:\u001b[0m\u001b[0;34m\u001b[0m\u001b[0;34m\u001b[0m\u001b[0m\n",
      "\u001b[0;31mValueError\u001b[0m: 'kappa_0' is not in list",
      "\nDuring handling of the above exception, another exception occurred:\n",
      "\u001b[0;31mValueError\u001b[0m                                Traceback (most recent call last)",
      "\u001b[0;32m<ipython-input-189-0d89edad0667>\u001b[0m in \u001b[0;36m<module>\u001b[0;34m()\u001b[0m\n\u001b[1;32m      7\u001b[0m         \u001b[0mprint\u001b[0m\u001b[0;34m(\u001b[0m\u001b[0meqs_kappa_d\u001b[0m\u001b[0;34m[\u001b[0m\u001b[0mi\u001b[0m\u001b[0;34m]\u001b[0m\u001b[0;34m.\u001b[0m\u001b[0mlhs\u001b[0m\u001b[0;34m(\u001b[0m\u001b[0;34m)\u001b[0m\u001b[0;34m)\u001b[0m\u001b[0;34m\u001b[0m\u001b[0;34m\u001b[0m\u001b[0m\n\u001b[1;32m      8\u001b[0m         \u001b[0mprint\u001b[0m\u001b[0;34m(\u001b[0m\u001b[0mai\u001b[0m\u001b[0;34m,\u001b[0m \u001b[0mbi\u001b[0m\u001b[0;34m)\u001b[0m\u001b[0;34m\u001b[0m\u001b[0;34m\u001b[0m\u001b[0m\n\u001b[0;32m----> 9\u001b[0;31m         \u001b[0mplot\u001b[0m\u001b[0;34m(\u001b[0m\u001b[0meqs_kappa_d\u001b[0m\u001b[0;34m[\u001b[0m\u001b[0mi\u001b[0m\u001b[0;34m]\u001b[0m\u001b[0;34m.\u001b[0m\u001b[0mlhs\u001b[0m\u001b[0;34m(\u001b[0m\u001b[0;34m)\u001b[0m\u001b[0;34m,\u001b[0m \u001b[0mai\u001b[0m\u001b[0;34m,\u001b[0m \u001b[0mbi\u001b[0m\u001b[0;34m)\u001b[0m\u001b[0;34m.\u001b[0m\u001b[0mshow\u001b[0m\u001b[0;34m(\u001b[0m\u001b[0;34m)\u001b[0m\u001b[0;34m\u001b[0m\u001b[0;34m\u001b[0m\u001b[0m\n\u001b[0m\u001b[1;32m     10\u001b[0m         \u001b[0mai\u001b[0m \u001b[0;34m=\u001b[0m \u001b[0mkappa_den_zero_d\u001b[0m \u001b[0;34m+\u001b[0m \u001b[0meps\u001b[0m\u001b[0;34m\u001b[0m\u001b[0;34m\u001b[0m\u001b[0m\n\u001b[1;32m     11\u001b[0m     \u001b[0mbi\u001b[0m \u001b[0;34m=\u001b[0m \u001b[0mai\u001b[0m \u001b[0;34m*\u001b[0m \u001b[0mInteger\u001b[0m\u001b[0;34m(\u001b[0m\u001b[0;36m2\u001b[0m\u001b[0;34m)\u001b[0m\u001b[0;34m\u001b[0m\u001b[0;34m\u001b[0m\u001b[0m\n",
      "\u001b[0;32m/usr3/articles/sagemath_docker_build/sage-9.1/local/lib/python3.7/site-packages/sage/misc/decorators.py\u001b[0m in \u001b[0;36mwrapper\u001b[0;34m(*args, **kwds)\u001b[0m\n\u001b[1;32m    491\u001b[0m                 \u001b[0moptions\u001b[0m\u001b[0;34m[\u001b[0m\u001b[0;34m'__original_opts'\u001b[0m\u001b[0;34m]\u001b[0m \u001b[0;34m=\u001b[0m \u001b[0mkwds\u001b[0m\u001b[0;34m\u001b[0m\u001b[0;34m\u001b[0m\u001b[0m\n\u001b[1;32m    492\u001b[0m             \u001b[0moptions\u001b[0m\u001b[0;34m.\u001b[0m\u001b[0mupdate\u001b[0m\u001b[0;34m(\u001b[0m\u001b[0mkwds\u001b[0m\u001b[0;34m)\u001b[0m\u001b[0;34m\u001b[0m\u001b[0;34m\u001b[0m\u001b[0m\n\u001b[0;32m--> 493\u001b[0;31m             \u001b[0;32mreturn\u001b[0m \u001b[0mfunc\u001b[0m\u001b[0;34m(\u001b[0m\u001b[0;34m*\u001b[0m\u001b[0margs\u001b[0m\u001b[0;34m,\u001b[0m \u001b[0;34m**\u001b[0m\u001b[0moptions\u001b[0m\u001b[0;34m)\u001b[0m\u001b[0;34m\u001b[0m\u001b[0;34m\u001b[0m\u001b[0m\n\u001b[0m\u001b[1;32m    494\u001b[0m \u001b[0;34m\u001b[0m\u001b[0m\n\u001b[1;32m    495\u001b[0m         \u001b[0;31m#Add the options specified by @options to the signature of the wrapped\u001b[0m\u001b[0;34m\u001b[0m\u001b[0;34m\u001b[0m\u001b[0;34m\u001b[0m\u001b[0m\n",
      "\u001b[0;32m/usr3/articles/sagemath_docker_build/sage-9.1/local/lib/python3.7/site-packages/sage/plot/plot.py\u001b[0m in \u001b[0;36mplot\u001b[0;34m(funcs, *args, **kwds)\u001b[0m\n\u001b[1;32m   1958\u001b[0m \u001b[0;34m\u001b[0m\u001b[0m\n\u001b[1;32m   1959\u001b[0m     \u001b[0;32mif\u001b[0m \u001b[0mhasattr\u001b[0m\u001b[0;34m(\u001b[0m\u001b[0mfuncs\u001b[0m\u001b[0;34m,\u001b[0m \u001b[0;34m'plot'\u001b[0m\u001b[0;34m)\u001b[0m\u001b[0;34m:\u001b[0m\u001b[0;34m\u001b[0m\u001b[0;34m\u001b[0m\u001b[0m\n\u001b[0;32m-> 1960\u001b[0;31m         \u001b[0mG\u001b[0m \u001b[0;34m=\u001b[0m \u001b[0mfuncs\u001b[0m\u001b[0;34m.\u001b[0m\u001b[0mplot\u001b[0m\u001b[0;34m(\u001b[0m\u001b[0;34m*\u001b[0m\u001b[0margs\u001b[0m\u001b[0;34m,\u001b[0m \u001b[0;34m**\u001b[0m\u001b[0moriginal_opts\u001b[0m\u001b[0;34m)\u001b[0m\u001b[0;34m\u001b[0m\u001b[0;34m\u001b[0m\u001b[0m\n\u001b[0m\u001b[1;32m   1961\u001b[0m \u001b[0;34m\u001b[0m\u001b[0m\n\u001b[1;32m   1962\u001b[0m         \u001b[0;31m# If we have extra keywords already set, then update them\u001b[0m\u001b[0;34m\u001b[0m\u001b[0;34m\u001b[0m\u001b[0;34m\u001b[0m\u001b[0m\n",
      "\u001b[0;32m/usr3/articles/sagemath_docker_build/sage-9.1/local/lib/python3.7/site-packages/sage/symbolic/expression.pyx\u001b[0m in \u001b[0;36msage.symbolic.expression.Expression.plot (build/cythonized/sage/symbolic/expression.cpp:63309)\u001b[0;34m()\u001b[0m\n\u001b[1;32m  12092\u001b[0m                     \u001b[0mparam\u001b[0m \u001b[0;34m=\u001b[0m \u001b[0mA\u001b[0m\u001b[0;34m[\u001b[0m\u001b[0;36m0\u001b[0m\u001b[0;34m]\u001b[0m\u001b[0;34m\u001b[0m\u001b[0;34m\u001b[0m\u001b[0m\n\u001b[1;32m  12093\u001b[0m                     \u001b[0;32mtry\u001b[0m\u001b[0;34m:\u001b[0m\u001b[0;34m\u001b[0m\u001b[0;34m\u001b[0m\u001b[0m\n\u001b[0;32m> 12094\u001b[0;31m                         \u001b[0mf\u001b[0m \u001b[0;34m=\u001b[0m \u001b[0mself\u001b[0m\u001b[0;34m.\u001b[0m\u001b[0m_plot_fast_callable\u001b[0m\u001b[0;34m(\u001b[0m\u001b[0mparam\u001b[0m\u001b[0;34m)\u001b[0m\u001b[0;34m\u001b[0m\u001b[0;34m\u001b[0m\u001b[0m\n\u001b[0m\u001b[1;32m  12095\u001b[0m                     \u001b[0;32mexcept\u001b[0m \u001b[0mNotImplementedError\u001b[0m\u001b[0;34m:\u001b[0m\u001b[0;34m\u001b[0m\u001b[0;34m\u001b[0m\u001b[0m\n\u001b[1;32m  12096\u001b[0m                         \u001b[0;32mreturn\u001b[0m \u001b[0mself\u001b[0m\u001b[0;34m.\u001b[0m\u001b[0mfunction\u001b[0m\u001b[0;34m(\u001b[0m\u001b[0mparam\u001b[0m\u001b[0;34m)\u001b[0m\u001b[0;34m\u001b[0m\u001b[0;34m\u001b[0m\u001b[0m\n",
      "\u001b[0;32m/usr3/articles/sagemath_docker_build/sage-9.1/local/lib/python3.7/site-packages/sage/symbolic/expression.pyx\u001b[0m in \u001b[0;36msage.symbolic.expression.Expression._plot_fast_callable (build/cythonized/sage/symbolic/expression.cpp:63688)\u001b[0;34m()\u001b[0m\n\u001b[1;32m  12138\u001b[0m         \"\"\"\n\u001b[1;32m  12139\u001b[0m         \u001b[0;32mfrom\u001b[0m \u001b[0msage\u001b[0m\u001b[0;34m.\u001b[0m\u001b[0mext\u001b[0m\u001b[0;34m.\u001b[0m\u001b[0mfast_callable\u001b[0m \u001b[0;32mimport\u001b[0m \u001b[0mfast_callable\u001b[0m\u001b[0;34m\u001b[0m\u001b[0;34m\u001b[0m\u001b[0m\n\u001b[0;32m> 12140\u001b[0;31m         \u001b[0;32mreturn\u001b[0m \u001b[0mfast_callable\u001b[0m\u001b[0;34m(\u001b[0m\u001b[0mself\u001b[0m\u001b[0;34m,\u001b[0m \u001b[0mvars\u001b[0m\u001b[0;34m=\u001b[0m\u001b[0mvars\u001b[0m\u001b[0;34m,\u001b[0m \u001b[0mexpect_one_var\u001b[0m\u001b[0;34m=\u001b[0m\u001b[0;32mTrue\u001b[0m\u001b[0;34m)\u001b[0m\u001b[0;34m\u001b[0m\u001b[0;34m\u001b[0m\u001b[0m\n\u001b[0m\u001b[1;32m  12141\u001b[0m \u001b[0;34m\u001b[0m\u001b[0m\n\u001b[1;32m  12142\u001b[0m     \u001b[0;31m############\u001b[0m\u001b[0;34m\u001b[0m\u001b[0;34m\u001b[0m\u001b[0;34m\u001b[0m\u001b[0m\n",
      "\u001b[0;32m/usr3/articles/sagemath_docker_build/sage-9.1/local/lib/python3.7/site-packages/sage/ext/fast_callable.pyx\u001b[0m in \u001b[0;36msage.ext.fast_callable.fast_callable (build/cythonized/sage/ext/fast_callable.c:4747)\u001b[0;34m()\u001b[0m\n\u001b[1;32m    493\u001b[0m \u001b[0;34m\u001b[0m\u001b[0m\n\u001b[1;32m    494\u001b[0m         \u001b[0metb\u001b[0m \u001b[0;34m=\u001b[0m \u001b[0mExpressionTreeBuilder\u001b[0m\u001b[0;34m(\u001b[0m\u001b[0mvars\u001b[0m\u001b[0;34m=\u001b[0m\u001b[0mvars\u001b[0m\u001b[0;34m,\u001b[0m \u001b[0mdomain\u001b[0m\u001b[0;34m=\u001b[0m\u001b[0mdomain\u001b[0m\u001b[0;34m)\u001b[0m\u001b[0;34m\u001b[0m\u001b[0;34m\u001b[0m\u001b[0m\n\u001b[0;32m--> 495\u001b[0;31m         \u001b[0met\u001b[0m \u001b[0;34m=\u001b[0m \u001b[0mx\u001b[0m\u001b[0;34m.\u001b[0m\u001b[0m_fast_callable_\u001b[0m\u001b[0;34m(\u001b[0m\u001b[0metb\u001b[0m\u001b[0;34m)\u001b[0m\u001b[0;34m\u001b[0m\u001b[0;34m\u001b[0m\u001b[0m\n\u001b[0m\u001b[1;32m    496\u001b[0m \u001b[0;34m\u001b[0m\u001b[0m\n\u001b[1;32m    497\u001b[0m     \u001b[0;32mif\u001b[0m \u001b[0misinstance\u001b[0m\u001b[0;34m(\u001b[0m\u001b[0mdomain\u001b[0m\u001b[0;34m,\u001b[0m \u001b[0mRealField_class\u001b[0m\u001b[0;34m)\u001b[0m\u001b[0;34m:\u001b[0m\u001b[0;34m\u001b[0m\u001b[0;34m\u001b[0m\u001b[0m\n",
      "\u001b[0;32m/usr3/articles/sagemath_docker_build/sage-9.1/local/lib/python3.7/site-packages/sage/symbolic/expression.pyx\u001b[0m in \u001b[0;36msage.symbolic.expression.Expression._fast_callable_ (build/cythonized/sage/symbolic/expression.cpp:62542)\u001b[0;34m()\u001b[0m\n\u001b[1;32m  11975\u001b[0m         \"\"\"\n\u001b[1;32m  11976\u001b[0m         \u001b[0;32mfrom\u001b[0m \u001b[0msage\u001b[0m\u001b[0;34m.\u001b[0m\u001b[0msymbolic\u001b[0m\u001b[0;34m.\u001b[0m\u001b[0mexpression_conversions\u001b[0m \u001b[0;32mimport\u001b[0m \u001b[0mfast_callable\u001b[0m\u001b[0;34m\u001b[0m\u001b[0;34m\u001b[0m\u001b[0m\n\u001b[0;32m> 11977\u001b[0;31m         \u001b[0;32mreturn\u001b[0m \u001b[0mfast_callable\u001b[0m\u001b[0;34m(\u001b[0m\u001b[0mself\u001b[0m\u001b[0;34m,\u001b[0m \u001b[0metb\u001b[0m\u001b[0;34m)\u001b[0m\u001b[0;34m\u001b[0m\u001b[0;34m\u001b[0m\u001b[0m\n\u001b[0m\u001b[1;32m  11978\u001b[0m \u001b[0;34m\u001b[0m\u001b[0m\n\u001b[1;32m  11979\u001b[0m     \u001b[0;32mdef\u001b[0m \u001b[0mshow\u001b[0m\u001b[0;34m(\u001b[0m\u001b[0mself\u001b[0m\u001b[0;34m)\u001b[0m\u001b[0;34m:\u001b[0m\u001b[0;34m\u001b[0m\u001b[0;34m\u001b[0m\u001b[0m\n",
      "\u001b[0;32m/usr3/articles/sagemath_docker_build/sage-9.1/local/lib/python3.7/site-packages/sage/symbolic/expression_conversions.py\u001b[0m in \u001b[0;36mfast_callable\u001b[0;34m(ex, etb)\u001b[0m\n\u001b[1;32m   1927\u001b[0m \u001b[0;34m\u001b[0m\u001b[0m\n\u001b[1;32m   1928\u001b[0m     \"\"\"\n\u001b[0;32m-> 1929\u001b[0;31m     \u001b[0;32mreturn\u001b[0m \u001b[0mFastCallableConverter\u001b[0m\u001b[0;34m(\u001b[0m\u001b[0mex\u001b[0m\u001b[0;34m,\u001b[0m \u001b[0metb\u001b[0m\u001b[0;34m)\u001b[0m\u001b[0;34m(\u001b[0m\u001b[0;34m)\u001b[0m\u001b[0;34m\u001b[0m\u001b[0;34m\u001b[0m\u001b[0m\n\u001b[0m\u001b[1;32m   1930\u001b[0m \u001b[0;34m\u001b[0m\u001b[0m\n\u001b[1;32m   1931\u001b[0m \u001b[0;32mclass\u001b[0m \u001b[0mRingConverter\u001b[0m\u001b[0;34m(\u001b[0m\u001b[0mConverter\u001b[0m\u001b[0;34m)\u001b[0m\u001b[0;34m:\u001b[0m\u001b[0;34m\u001b[0m\u001b[0;34m\u001b[0m\u001b[0m\n",
      "\u001b[0;32m/usr3/articles/sagemath_docker_build/sage-9.1/local/lib/python3.7/site-packages/sage/symbolic/expression_conversions.py\u001b[0m in \u001b[0;36m__call__\u001b[0;34m(self, ex)\u001b[0m\n\u001b[1;32m    216\u001b[0m                 \u001b[0mdiv\u001b[0m \u001b[0;34m=\u001b[0m \u001b[0mself\u001b[0m\u001b[0;34m.\u001b[0m\u001b[0mget_fake_div\u001b[0m\u001b[0;34m(\u001b[0m\u001b[0mex\u001b[0m\u001b[0;34m)\u001b[0m\u001b[0;34m\u001b[0m\u001b[0;34m\u001b[0m\u001b[0m\n\u001b[1;32m    217\u001b[0m                 \u001b[0;32mreturn\u001b[0m \u001b[0mself\u001b[0m\u001b[0;34m.\u001b[0m\u001b[0marithmetic\u001b[0m\u001b[0;34m(\u001b[0m\u001b[0mdiv\u001b[0m\u001b[0;34m,\u001b[0m \u001b[0mdiv\u001b[0m\u001b[0;34m.\u001b[0m\u001b[0moperator\u001b[0m\u001b[0;34m(\u001b[0m\u001b[0;34m)\u001b[0m\u001b[0;34m)\u001b[0m\u001b[0;34m\u001b[0m\u001b[0;34m\u001b[0m\u001b[0m\n\u001b[0;32m--> 218\u001b[0;31m             \u001b[0;32mreturn\u001b[0m \u001b[0mself\u001b[0m\u001b[0;34m.\u001b[0m\u001b[0marithmetic\u001b[0m\u001b[0;34m(\u001b[0m\u001b[0mex\u001b[0m\u001b[0;34m,\u001b[0m \u001b[0moperator\u001b[0m\u001b[0;34m)\u001b[0m\u001b[0;34m\u001b[0m\u001b[0;34m\u001b[0m\u001b[0m\n\u001b[0m\u001b[1;32m    219\u001b[0m         \u001b[0;32melif\u001b[0m \u001b[0moperator\u001b[0m \u001b[0;32min\u001b[0m \u001b[0mrelation_operators\u001b[0m\u001b[0;34m:\u001b[0m\u001b[0;34m\u001b[0m\u001b[0;34m\u001b[0m\u001b[0m\n\u001b[1;32m    220\u001b[0m             \u001b[0;32mreturn\u001b[0m \u001b[0mself\u001b[0m\u001b[0;34m.\u001b[0m\u001b[0mrelation\u001b[0m\u001b[0;34m(\u001b[0m\u001b[0mex\u001b[0m\u001b[0;34m,\u001b[0m \u001b[0moperator\u001b[0m\u001b[0;34m)\u001b[0m\u001b[0;34m\u001b[0m\u001b[0;34m\u001b[0m\u001b[0m\n",
      "\u001b[0;32m/usr3/articles/sagemath_docker_build/sage-9.1/local/lib/python3.7/site-packages/sage/symbolic/expression_conversions.py\u001b[0m in \u001b[0;36marithmetic\u001b[0;34m(self, ex, operator)\u001b[0m\n\u001b[1;32m   1855\u001b[0m         \u001b[0;32melif\u001b[0m \u001b[0moperator\u001b[0m \u001b[0;34m==\u001b[0m \u001b[0mmul_vararg\u001b[0m\u001b[0;34m:\u001b[0m\u001b[0;34m\u001b[0m\u001b[0;34m\u001b[0m\u001b[0m\n\u001b[1;32m   1856\u001b[0m             \u001b[0moperator\u001b[0m \u001b[0;34m=\u001b[0m \u001b[0m_operator\u001b[0m\u001b[0;34m.\u001b[0m\u001b[0mmul\u001b[0m\u001b[0;34m\u001b[0m\u001b[0;34m\u001b[0m\u001b[0m\n\u001b[0;32m-> 1857\u001b[0;31m         \u001b[0;32mreturn\u001b[0m \u001b[0mreduce\u001b[0m\u001b[0;34m(\u001b[0m\u001b[0;32mlambda\u001b[0m \u001b[0mx\u001b[0m\u001b[0;34m,\u001b[0m\u001b[0my\u001b[0m\u001b[0;34m:\u001b[0m \u001b[0mself\u001b[0m\u001b[0;34m.\u001b[0m\u001b[0metb\u001b[0m\u001b[0;34m.\u001b[0m\u001b[0mcall\u001b[0m\u001b[0;34m(\u001b[0m\u001b[0moperator\u001b[0m\u001b[0;34m,\u001b[0m \u001b[0mx\u001b[0m\u001b[0;34m,\u001b[0m\u001b[0my\u001b[0m\u001b[0;34m)\u001b[0m\u001b[0;34m,\u001b[0m \u001b[0moperands\u001b[0m\u001b[0;34m)\u001b[0m\u001b[0;34m\u001b[0m\u001b[0;34m\u001b[0m\u001b[0m\n\u001b[0m\u001b[1;32m   1858\u001b[0m \u001b[0;34m\u001b[0m\u001b[0m\n\u001b[1;32m   1859\u001b[0m     \u001b[0;32mdef\u001b[0m \u001b[0msymbol\u001b[0m\u001b[0;34m(\u001b[0m\u001b[0mself\u001b[0m\u001b[0;34m,\u001b[0m \u001b[0mex\u001b[0m\u001b[0;34m)\u001b[0m\u001b[0;34m:\u001b[0m\u001b[0;34m\u001b[0m\u001b[0;34m\u001b[0m\u001b[0m\n",
      "\u001b[0;32m/usr3/articles/sagemath_docker_build/sage-9.1/local/lib/python3.7/site-packages/sage/symbolic/expression_conversions.py\u001b[0m in \u001b[0;36m<lambda>\u001b[0;34m(x, y)\u001b[0m\n\u001b[1;32m   1855\u001b[0m         \u001b[0;32melif\u001b[0m \u001b[0moperator\u001b[0m \u001b[0;34m==\u001b[0m \u001b[0mmul_vararg\u001b[0m\u001b[0;34m:\u001b[0m\u001b[0;34m\u001b[0m\u001b[0;34m\u001b[0m\u001b[0m\n\u001b[1;32m   1856\u001b[0m             \u001b[0moperator\u001b[0m \u001b[0;34m=\u001b[0m \u001b[0m_operator\u001b[0m\u001b[0;34m.\u001b[0m\u001b[0mmul\u001b[0m\u001b[0;34m\u001b[0m\u001b[0;34m\u001b[0m\u001b[0m\n\u001b[0;32m-> 1857\u001b[0;31m         \u001b[0;32mreturn\u001b[0m \u001b[0mreduce\u001b[0m\u001b[0;34m(\u001b[0m\u001b[0;32mlambda\u001b[0m \u001b[0mx\u001b[0m\u001b[0;34m,\u001b[0m\u001b[0my\u001b[0m\u001b[0;34m:\u001b[0m \u001b[0mself\u001b[0m\u001b[0;34m.\u001b[0m\u001b[0metb\u001b[0m\u001b[0;34m.\u001b[0m\u001b[0mcall\u001b[0m\u001b[0;34m(\u001b[0m\u001b[0moperator\u001b[0m\u001b[0;34m,\u001b[0m \u001b[0mx\u001b[0m\u001b[0;34m,\u001b[0m\u001b[0my\u001b[0m\u001b[0;34m)\u001b[0m\u001b[0;34m,\u001b[0m \u001b[0moperands\u001b[0m\u001b[0;34m)\u001b[0m\u001b[0;34m\u001b[0m\u001b[0;34m\u001b[0m\u001b[0m\n\u001b[0m\u001b[1;32m   1858\u001b[0m \u001b[0;34m\u001b[0m\u001b[0m\n\u001b[1;32m   1859\u001b[0m     \u001b[0;32mdef\u001b[0m \u001b[0msymbol\u001b[0m\u001b[0;34m(\u001b[0m\u001b[0mself\u001b[0m\u001b[0;34m,\u001b[0m \u001b[0mex\u001b[0m\u001b[0;34m)\u001b[0m\u001b[0;34m:\u001b[0m\u001b[0;34m\u001b[0m\u001b[0;34m\u001b[0m\u001b[0m\n",
      "\u001b[0;32m/usr3/articles/sagemath_docker_build/sage-9.1/local/lib/python3.7/site-packages/sage/ext/fast_callable.pyx\u001b[0m in \u001b[0;36msage.ext.fast_callable.ExpressionTreeBuilder.call (build/cythonized/sage/ext/fast_callable.c:7212)\u001b[0;34m()\u001b[0m\n\u001b[1;32m    780\u001b[0m             \u001b[0;32mreturn\u001b[0m \u001b[0mself\u001b[0m\u001b[0;34m(\u001b[0m\u001b[0mbase\u001b[0m\u001b[0;34m)\u001b[0m\u001b[0;34m**\u001b[0m\u001b[0mexponent\u001b[0m\u001b[0;34m\u001b[0m\u001b[0;34m\u001b[0m\u001b[0m\n\u001b[1;32m    781\u001b[0m         \u001b[0;32melse\u001b[0m\u001b[0;34m:\u001b[0m\u001b[0;34m\u001b[0m\u001b[0;34m\u001b[0m\u001b[0m\n\u001b[0;32m--> 782\u001b[0;31m             \u001b[0;32mreturn\u001b[0m \u001b[0mExpressionCall\u001b[0m\u001b[0;34m(\u001b[0m\u001b[0mself\u001b[0m\u001b[0;34m,\u001b[0m \u001b[0mfn\u001b[0m\u001b[0;34m,\u001b[0m \u001b[0;34m[\u001b[0m\u001b[0mself\u001b[0m\u001b[0;34m(\u001b[0m\u001b[0ma\u001b[0m\u001b[0;34m)\u001b[0m \u001b[0;32mfor\u001b[0m \u001b[0ma\u001b[0m \u001b[0;32min\u001b[0m \u001b[0margs\u001b[0m\u001b[0;34m]\u001b[0m\u001b[0;34m)\u001b[0m\u001b[0;34m\u001b[0m\u001b[0;34m\u001b[0m\u001b[0m\n\u001b[0m\u001b[1;32m    783\u001b[0m \u001b[0;34m\u001b[0m\u001b[0m\n\u001b[1;32m    784\u001b[0m     \u001b[0;32mdef\u001b[0m \u001b[0mchoice\u001b[0m\u001b[0;34m(\u001b[0m\u001b[0mself\u001b[0m\u001b[0;34m,\u001b[0m \u001b[0mcond\u001b[0m\u001b[0;34m,\u001b[0m \u001b[0miftrue\u001b[0m\u001b[0;34m,\u001b[0m \u001b[0miffalse\u001b[0m\u001b[0;34m)\u001b[0m\u001b[0;34m:\u001b[0m\u001b[0;34m\u001b[0m\u001b[0;34m\u001b[0m\u001b[0m\n",
      "\u001b[0;32m/usr3/articles/sagemath_docker_build/sage-9.1/local/lib/python3.7/site-packages/sage/ext/fast_callable.pyx\u001b[0m in \u001b[0;36msage.ext.fast_callable.ExpressionTreeBuilder.__call__ (build/cythonized/sage/ext/fast_callable.c:6346)\u001b[0;34m()\u001b[0m\n\u001b[1;32m    654\u001b[0m             \u001b[0;32mreturn\u001b[0m \u001b[0mself\u001b[0m\u001b[0;34m.\u001b[0m\u001b[0mconstant\u001b[0m\u001b[0;34m(\u001b[0m\u001b[0mx\u001b[0m\u001b[0;34m)\u001b[0m\u001b[0;34m\u001b[0m\u001b[0;34m\u001b[0m\u001b[0m\n\u001b[1;32m    655\u001b[0m \u001b[0;34m\u001b[0m\u001b[0m\n\u001b[0;32m--> 656\u001b[0;31m         \u001b[0;32mreturn\u001b[0m \u001b[0mfc\u001b[0m\u001b[0;34m(\u001b[0m\u001b[0mself\u001b[0m\u001b[0;34m)\u001b[0m\u001b[0;34m\u001b[0m\u001b[0;34m\u001b[0m\u001b[0m\n\u001b[0m\u001b[1;32m    657\u001b[0m \u001b[0;34m\u001b[0m\u001b[0m\n\u001b[1;32m    658\u001b[0m     \u001b[0;32mdef\u001b[0m \u001b[0m_clean_var\u001b[0m\u001b[0;34m(\u001b[0m\u001b[0mself\u001b[0m\u001b[0;34m,\u001b[0m \u001b[0mv\u001b[0m\u001b[0;34m)\u001b[0m\u001b[0;34m:\u001b[0m\u001b[0;34m\u001b[0m\u001b[0;34m\u001b[0m\u001b[0m\n",
      "\u001b[0;32m/usr3/articles/sagemath_docker_build/sage-9.1/local/lib/python3.7/site-packages/sage/symbolic/expression.pyx\u001b[0m in \u001b[0;36msage.symbolic.expression.Expression._fast_callable_ (build/cythonized/sage/symbolic/expression.cpp:62542)\u001b[0;34m()\u001b[0m\n\u001b[1;32m  11975\u001b[0m         \"\"\"\n\u001b[1;32m  11976\u001b[0m         \u001b[0;32mfrom\u001b[0m \u001b[0msage\u001b[0m\u001b[0;34m.\u001b[0m\u001b[0msymbolic\u001b[0m\u001b[0;34m.\u001b[0m\u001b[0mexpression_conversions\u001b[0m \u001b[0;32mimport\u001b[0m \u001b[0mfast_callable\u001b[0m\u001b[0;34m\u001b[0m\u001b[0;34m\u001b[0m\u001b[0m\n\u001b[0;32m> 11977\u001b[0;31m         \u001b[0;32mreturn\u001b[0m \u001b[0mfast_callable\u001b[0m\u001b[0;34m(\u001b[0m\u001b[0mself\u001b[0m\u001b[0;34m,\u001b[0m \u001b[0metb\u001b[0m\u001b[0;34m)\u001b[0m\u001b[0;34m\u001b[0m\u001b[0;34m\u001b[0m\u001b[0m\n\u001b[0m\u001b[1;32m  11978\u001b[0m \u001b[0;34m\u001b[0m\u001b[0m\n\u001b[1;32m  11979\u001b[0m     \u001b[0;32mdef\u001b[0m \u001b[0mshow\u001b[0m\u001b[0;34m(\u001b[0m\u001b[0mself\u001b[0m\u001b[0;34m)\u001b[0m\u001b[0;34m:\u001b[0m\u001b[0;34m\u001b[0m\u001b[0;34m\u001b[0m\u001b[0m\n",
      "\u001b[0;32m/usr3/articles/sagemath_docker_build/sage-9.1/local/lib/python3.7/site-packages/sage/symbolic/expression_conversions.py\u001b[0m in \u001b[0;36mfast_callable\u001b[0;34m(ex, etb)\u001b[0m\n\u001b[1;32m   1927\u001b[0m \u001b[0;34m\u001b[0m\u001b[0m\n\u001b[1;32m   1928\u001b[0m     \"\"\"\n\u001b[0;32m-> 1929\u001b[0;31m     \u001b[0;32mreturn\u001b[0m \u001b[0mFastCallableConverter\u001b[0m\u001b[0;34m(\u001b[0m\u001b[0mex\u001b[0m\u001b[0;34m,\u001b[0m \u001b[0metb\u001b[0m\u001b[0;34m)\u001b[0m\u001b[0;34m(\u001b[0m\u001b[0;34m)\u001b[0m\u001b[0;34m\u001b[0m\u001b[0;34m\u001b[0m\u001b[0m\n\u001b[0m\u001b[1;32m   1930\u001b[0m \u001b[0;34m\u001b[0m\u001b[0m\n\u001b[1;32m   1931\u001b[0m \u001b[0;32mclass\u001b[0m \u001b[0mRingConverter\u001b[0m\u001b[0;34m(\u001b[0m\u001b[0mConverter\u001b[0m\u001b[0;34m)\u001b[0m\u001b[0;34m:\u001b[0m\u001b[0;34m\u001b[0m\u001b[0;34m\u001b[0m\u001b[0m\n",
      "\u001b[0;32m/usr3/articles/sagemath_docker_build/sage-9.1/local/lib/python3.7/site-packages/sage/symbolic/expression_conversions.py\u001b[0m in \u001b[0;36m__call__\u001b[0;34m(self, ex)\u001b[0m\n\u001b[1;32m    215\u001b[0m             \u001b[0;32mif\u001b[0m \u001b[0mgetattr\u001b[0m\u001b[0;34m(\u001b[0m\u001b[0mself\u001b[0m\u001b[0;34m,\u001b[0m \u001b[0;34m'use_fake_div'\u001b[0m\u001b[0;34m,\u001b[0m \u001b[0;32mFalse\u001b[0m\u001b[0;34m)\u001b[0m \u001b[0;32mand\u001b[0m \u001b[0;34m(\u001b[0m\u001b[0moperator\u001b[0m \u001b[0;32mis\u001b[0m \u001b[0m_operator\u001b[0m\u001b[0;34m.\u001b[0m\u001b[0mmul\u001b[0m \u001b[0;32mor\u001b[0m \u001b[0moperator\u001b[0m \u001b[0;32mis\u001b[0m \u001b[0mmul_vararg\u001b[0m\u001b[0;34m)\u001b[0m\u001b[0;34m:\u001b[0m\u001b[0;34m\u001b[0m\u001b[0;34m\u001b[0m\u001b[0m\n\u001b[1;32m    216\u001b[0m                 \u001b[0mdiv\u001b[0m \u001b[0;34m=\u001b[0m \u001b[0mself\u001b[0m\u001b[0;34m.\u001b[0m\u001b[0mget_fake_div\u001b[0m\u001b[0;34m(\u001b[0m\u001b[0mex\u001b[0m\u001b[0;34m)\u001b[0m\u001b[0;34m\u001b[0m\u001b[0;34m\u001b[0m\u001b[0m\n\u001b[0;32m--> 217\u001b[0;31m                 \u001b[0;32mreturn\u001b[0m \u001b[0mself\u001b[0m\u001b[0;34m.\u001b[0m\u001b[0marithmetic\u001b[0m\u001b[0;34m(\u001b[0m\u001b[0mdiv\u001b[0m\u001b[0;34m,\u001b[0m \u001b[0mdiv\u001b[0m\u001b[0;34m.\u001b[0m\u001b[0moperator\u001b[0m\u001b[0;34m(\u001b[0m\u001b[0;34m)\u001b[0m\u001b[0;34m)\u001b[0m\u001b[0;34m\u001b[0m\u001b[0;34m\u001b[0m\u001b[0m\n\u001b[0m\u001b[1;32m    218\u001b[0m             \u001b[0;32mreturn\u001b[0m \u001b[0mself\u001b[0m\u001b[0;34m.\u001b[0m\u001b[0marithmetic\u001b[0m\u001b[0;34m(\u001b[0m\u001b[0mex\u001b[0m\u001b[0;34m,\u001b[0m \u001b[0moperator\u001b[0m\u001b[0;34m)\u001b[0m\u001b[0;34m\u001b[0m\u001b[0;34m\u001b[0m\u001b[0m\n\u001b[1;32m    219\u001b[0m         \u001b[0;32melif\u001b[0m \u001b[0moperator\u001b[0m \u001b[0;32min\u001b[0m \u001b[0mrelation_operators\u001b[0m\u001b[0;34m:\u001b[0m\u001b[0;34m\u001b[0m\u001b[0;34m\u001b[0m\u001b[0m\n",
      "\u001b[0;32m/usr3/articles/sagemath_docker_build/sage-9.1/local/lib/python3.7/site-packages/sage/symbolic/expression_conversions.py\u001b[0m in \u001b[0;36marithmetic\u001b[0;34m(self, ex, operator)\u001b[0m\n\u001b[1;32m   1855\u001b[0m         \u001b[0;32melif\u001b[0m \u001b[0moperator\u001b[0m \u001b[0;34m==\u001b[0m \u001b[0mmul_vararg\u001b[0m\u001b[0;34m:\u001b[0m\u001b[0;34m\u001b[0m\u001b[0;34m\u001b[0m\u001b[0m\n\u001b[1;32m   1856\u001b[0m             \u001b[0moperator\u001b[0m \u001b[0;34m=\u001b[0m \u001b[0m_operator\u001b[0m\u001b[0;34m.\u001b[0m\u001b[0mmul\u001b[0m\u001b[0;34m\u001b[0m\u001b[0;34m\u001b[0m\u001b[0m\n\u001b[0;32m-> 1857\u001b[0;31m         \u001b[0;32mreturn\u001b[0m \u001b[0mreduce\u001b[0m\u001b[0;34m(\u001b[0m\u001b[0;32mlambda\u001b[0m \u001b[0mx\u001b[0m\u001b[0;34m,\u001b[0m\u001b[0my\u001b[0m\u001b[0;34m:\u001b[0m \u001b[0mself\u001b[0m\u001b[0;34m.\u001b[0m\u001b[0metb\u001b[0m\u001b[0;34m.\u001b[0m\u001b[0mcall\u001b[0m\u001b[0;34m(\u001b[0m\u001b[0moperator\u001b[0m\u001b[0;34m,\u001b[0m \u001b[0mx\u001b[0m\u001b[0;34m,\u001b[0m\u001b[0my\u001b[0m\u001b[0;34m)\u001b[0m\u001b[0;34m,\u001b[0m \u001b[0moperands\u001b[0m\u001b[0;34m)\u001b[0m\u001b[0;34m\u001b[0m\u001b[0;34m\u001b[0m\u001b[0m\n\u001b[0m\u001b[1;32m   1858\u001b[0m \u001b[0;34m\u001b[0m\u001b[0m\n\u001b[1;32m   1859\u001b[0m     \u001b[0;32mdef\u001b[0m \u001b[0msymbol\u001b[0m\u001b[0;34m(\u001b[0m\u001b[0mself\u001b[0m\u001b[0;34m,\u001b[0m \u001b[0mex\u001b[0m\u001b[0;34m)\u001b[0m\u001b[0;34m:\u001b[0m\u001b[0;34m\u001b[0m\u001b[0;34m\u001b[0m\u001b[0m\n",
      "\u001b[0;32m/usr3/articles/sagemath_docker_build/sage-9.1/local/lib/python3.7/site-packages/sage/symbolic/expression_conversions.py\u001b[0m in \u001b[0;36m<lambda>\u001b[0;34m(x, y)\u001b[0m\n\u001b[1;32m   1855\u001b[0m         \u001b[0;32melif\u001b[0m \u001b[0moperator\u001b[0m \u001b[0;34m==\u001b[0m \u001b[0mmul_vararg\u001b[0m\u001b[0;34m:\u001b[0m\u001b[0;34m\u001b[0m\u001b[0;34m\u001b[0m\u001b[0m\n\u001b[1;32m   1856\u001b[0m             \u001b[0moperator\u001b[0m \u001b[0;34m=\u001b[0m \u001b[0m_operator\u001b[0m\u001b[0;34m.\u001b[0m\u001b[0mmul\u001b[0m\u001b[0;34m\u001b[0m\u001b[0;34m\u001b[0m\u001b[0m\n\u001b[0;32m-> 1857\u001b[0;31m         \u001b[0;32mreturn\u001b[0m \u001b[0mreduce\u001b[0m\u001b[0;34m(\u001b[0m\u001b[0;32mlambda\u001b[0m \u001b[0mx\u001b[0m\u001b[0;34m,\u001b[0m\u001b[0my\u001b[0m\u001b[0;34m:\u001b[0m \u001b[0mself\u001b[0m\u001b[0;34m.\u001b[0m\u001b[0metb\u001b[0m\u001b[0;34m.\u001b[0m\u001b[0mcall\u001b[0m\u001b[0;34m(\u001b[0m\u001b[0moperator\u001b[0m\u001b[0;34m,\u001b[0m \u001b[0mx\u001b[0m\u001b[0;34m,\u001b[0m\u001b[0my\u001b[0m\u001b[0;34m)\u001b[0m\u001b[0;34m,\u001b[0m \u001b[0moperands\u001b[0m\u001b[0;34m)\u001b[0m\u001b[0;34m\u001b[0m\u001b[0;34m\u001b[0m\u001b[0m\n\u001b[0m\u001b[1;32m   1858\u001b[0m \u001b[0;34m\u001b[0m\u001b[0m\n\u001b[1;32m   1859\u001b[0m     \u001b[0;32mdef\u001b[0m \u001b[0msymbol\u001b[0m\u001b[0;34m(\u001b[0m\u001b[0mself\u001b[0m\u001b[0;34m,\u001b[0m \u001b[0mex\u001b[0m\u001b[0;34m)\u001b[0m\u001b[0;34m:\u001b[0m\u001b[0;34m\u001b[0m\u001b[0;34m\u001b[0m\u001b[0m\n",
      "\u001b[0;32m/usr3/articles/sagemath_docker_build/sage-9.1/local/lib/python3.7/site-packages/sage/ext/fast_callable.pyx\u001b[0m in \u001b[0;36msage.ext.fast_callable.ExpressionTreeBuilder.call (build/cythonized/sage/ext/fast_callable.c:7212)\u001b[0;34m()\u001b[0m\n\u001b[1;32m    780\u001b[0m             \u001b[0;32mreturn\u001b[0m \u001b[0mself\u001b[0m\u001b[0;34m(\u001b[0m\u001b[0mbase\u001b[0m\u001b[0;34m)\u001b[0m\u001b[0;34m**\u001b[0m\u001b[0mexponent\u001b[0m\u001b[0;34m\u001b[0m\u001b[0;34m\u001b[0m\u001b[0m\n\u001b[1;32m    781\u001b[0m         \u001b[0;32melse\u001b[0m\u001b[0;34m:\u001b[0m\u001b[0;34m\u001b[0m\u001b[0;34m\u001b[0m\u001b[0m\n\u001b[0;32m--> 782\u001b[0;31m             \u001b[0;32mreturn\u001b[0m \u001b[0mExpressionCall\u001b[0m\u001b[0;34m(\u001b[0m\u001b[0mself\u001b[0m\u001b[0;34m,\u001b[0m \u001b[0mfn\u001b[0m\u001b[0;34m,\u001b[0m \u001b[0;34m[\u001b[0m\u001b[0mself\u001b[0m\u001b[0;34m(\u001b[0m\u001b[0ma\u001b[0m\u001b[0;34m)\u001b[0m \u001b[0;32mfor\u001b[0m \u001b[0ma\u001b[0m \u001b[0;32min\u001b[0m \u001b[0margs\u001b[0m\u001b[0;34m]\u001b[0m\u001b[0;34m)\u001b[0m\u001b[0;34m\u001b[0m\u001b[0;34m\u001b[0m\u001b[0m\n\u001b[0m\u001b[1;32m    783\u001b[0m \u001b[0;34m\u001b[0m\u001b[0m\n\u001b[1;32m    784\u001b[0m     \u001b[0;32mdef\u001b[0m \u001b[0mchoice\u001b[0m\u001b[0;34m(\u001b[0m\u001b[0mself\u001b[0m\u001b[0;34m,\u001b[0m \u001b[0mcond\u001b[0m\u001b[0;34m,\u001b[0m \u001b[0miftrue\u001b[0m\u001b[0;34m,\u001b[0m \u001b[0miffalse\u001b[0m\u001b[0;34m)\u001b[0m\u001b[0;34m:\u001b[0m\u001b[0;34m\u001b[0m\u001b[0;34m\u001b[0m\u001b[0m\n",
      "\u001b[0;32m/usr3/articles/sagemath_docker_build/sage-9.1/local/lib/python3.7/site-packages/sage/ext/fast_callable.pyx\u001b[0m in \u001b[0;36msage.ext.fast_callable.ExpressionTreeBuilder.__call__ (build/cythonized/sage/ext/fast_callable.c:6346)\u001b[0;34m()\u001b[0m\n\u001b[1;32m    654\u001b[0m             \u001b[0;32mreturn\u001b[0m \u001b[0mself\u001b[0m\u001b[0;34m.\u001b[0m\u001b[0mconstant\u001b[0m\u001b[0;34m(\u001b[0m\u001b[0mx\u001b[0m\u001b[0;34m)\u001b[0m\u001b[0;34m\u001b[0m\u001b[0;34m\u001b[0m\u001b[0m\n\u001b[1;32m    655\u001b[0m \u001b[0;34m\u001b[0m\u001b[0m\n\u001b[0;32m--> 656\u001b[0;31m         \u001b[0;32mreturn\u001b[0m \u001b[0mfc\u001b[0m\u001b[0;34m(\u001b[0m\u001b[0mself\u001b[0m\u001b[0;34m)\u001b[0m\u001b[0;34m\u001b[0m\u001b[0;34m\u001b[0m\u001b[0m\n\u001b[0m\u001b[1;32m    657\u001b[0m \u001b[0;34m\u001b[0m\u001b[0m\n\u001b[1;32m    658\u001b[0m     \u001b[0;32mdef\u001b[0m \u001b[0m_clean_var\u001b[0m\u001b[0;34m(\u001b[0m\u001b[0mself\u001b[0m\u001b[0;34m,\u001b[0m \u001b[0mv\u001b[0m\u001b[0;34m)\u001b[0m\u001b[0;34m:\u001b[0m\u001b[0;34m\u001b[0m\u001b[0;34m\u001b[0m\u001b[0m\n",
      "\u001b[0;32m/usr3/articles/sagemath_docker_build/sage-9.1/local/lib/python3.7/site-packages/sage/symbolic/expression_conversions.py\u001b[0m in \u001b[0;36m_fast_callable_\u001b[0;34m(self, etb)\u001b[0m\n\u001b[1;32m    123\u001b[0m             \u001b[0;34m[\u001b[0m\u001b[0;34m(\u001b[0m\u001b[0;34m'load_arg'\u001b[0m\u001b[0;34m,\u001b[0m \u001b[0;36m0\u001b[0m\u001b[0;34m)\u001b[0m\u001b[0;34m,\u001b[0m \u001b[0;34m(\u001b[0m\u001b[0;34m'load_arg'\u001b[0m\u001b[0;34m,\u001b[0m \u001b[0;36m1\u001b[0m\u001b[0;34m)\u001b[0m\u001b[0;34m,\u001b[0m \u001b[0;34m'div'\u001b[0m\u001b[0;34m,\u001b[0m \u001b[0;34m'return'\u001b[0m\u001b[0;34m]\u001b[0m\u001b[0;34m\u001b[0m\u001b[0;34m\u001b[0m\u001b[0m\n\u001b[1;32m    124\u001b[0m         \"\"\"\n\u001b[0;32m--> 125\u001b[0;31m         \u001b[0;32mreturn\u001b[0m \u001b[0mfast_callable\u001b[0m\u001b[0;34m(\u001b[0m\u001b[0mself\u001b[0m\u001b[0;34m,\u001b[0m \u001b[0metb\u001b[0m\u001b[0;34m)\u001b[0m\u001b[0;34m\u001b[0m\u001b[0;34m\u001b[0m\u001b[0m\n\u001b[0m\u001b[1;32m    126\u001b[0m \u001b[0;34m\u001b[0m\u001b[0m\n\u001b[1;32m    127\u001b[0m     \u001b[0;32mdef\u001b[0m \u001b[0m_fast_float_\u001b[0m\u001b[0;34m(\u001b[0m\u001b[0mself\u001b[0m\u001b[0;34m,\u001b[0m \u001b[0;34m*\u001b[0m\u001b[0mvars\u001b[0m\u001b[0;34m)\u001b[0m\u001b[0;34m:\u001b[0m\u001b[0;34m\u001b[0m\u001b[0;34m\u001b[0m\u001b[0m\n",
      "\u001b[0;32m/usr3/articles/sagemath_docker_build/sage-9.1/local/lib/python3.7/site-packages/sage/symbolic/expression_conversions.py\u001b[0m in \u001b[0;36mfast_callable\u001b[0;34m(ex, etb)\u001b[0m\n\u001b[1;32m   1927\u001b[0m \u001b[0;34m\u001b[0m\u001b[0m\n\u001b[1;32m   1928\u001b[0m     \"\"\"\n\u001b[0;32m-> 1929\u001b[0;31m     \u001b[0;32mreturn\u001b[0m \u001b[0mFastCallableConverter\u001b[0m\u001b[0;34m(\u001b[0m\u001b[0mex\u001b[0m\u001b[0;34m,\u001b[0m \u001b[0metb\u001b[0m\u001b[0;34m)\u001b[0m\u001b[0;34m(\u001b[0m\u001b[0;34m)\u001b[0m\u001b[0;34m\u001b[0m\u001b[0;34m\u001b[0m\u001b[0m\n\u001b[0m\u001b[1;32m   1930\u001b[0m \u001b[0;34m\u001b[0m\u001b[0m\n\u001b[1;32m   1931\u001b[0m \u001b[0;32mclass\u001b[0m \u001b[0mRingConverter\u001b[0m\u001b[0;34m(\u001b[0m\u001b[0mConverter\u001b[0m\u001b[0;34m)\u001b[0m\u001b[0;34m:\u001b[0m\u001b[0;34m\u001b[0m\u001b[0;34m\u001b[0m\u001b[0m\n",
      "\u001b[0;32m/usr3/articles/sagemath_docker_build/sage-9.1/local/lib/python3.7/site-packages/sage/symbolic/expression_conversions.py\u001b[0m in \u001b[0;36m__call__\u001b[0;34m(self, ex)\u001b[0m\n\u001b[1;32m    215\u001b[0m             \u001b[0;32mif\u001b[0m \u001b[0mgetattr\u001b[0m\u001b[0;34m(\u001b[0m\u001b[0mself\u001b[0m\u001b[0;34m,\u001b[0m \u001b[0;34m'use_fake_div'\u001b[0m\u001b[0;34m,\u001b[0m \u001b[0;32mFalse\u001b[0m\u001b[0;34m)\u001b[0m \u001b[0;32mand\u001b[0m \u001b[0;34m(\u001b[0m\u001b[0moperator\u001b[0m \u001b[0;32mis\u001b[0m \u001b[0m_operator\u001b[0m\u001b[0;34m.\u001b[0m\u001b[0mmul\u001b[0m \u001b[0;32mor\u001b[0m \u001b[0moperator\u001b[0m \u001b[0;32mis\u001b[0m \u001b[0mmul_vararg\u001b[0m\u001b[0;34m)\u001b[0m\u001b[0;34m:\u001b[0m\u001b[0;34m\u001b[0m\u001b[0;34m\u001b[0m\u001b[0m\n\u001b[1;32m    216\u001b[0m                 \u001b[0mdiv\u001b[0m \u001b[0;34m=\u001b[0m \u001b[0mself\u001b[0m\u001b[0;34m.\u001b[0m\u001b[0mget_fake_div\u001b[0m\u001b[0;34m(\u001b[0m\u001b[0mex\u001b[0m\u001b[0;34m)\u001b[0m\u001b[0;34m\u001b[0m\u001b[0;34m\u001b[0m\u001b[0m\n\u001b[0;32m--> 217\u001b[0;31m                 \u001b[0;32mreturn\u001b[0m \u001b[0mself\u001b[0m\u001b[0;34m.\u001b[0m\u001b[0marithmetic\u001b[0m\u001b[0;34m(\u001b[0m\u001b[0mdiv\u001b[0m\u001b[0;34m,\u001b[0m \u001b[0mdiv\u001b[0m\u001b[0;34m.\u001b[0m\u001b[0moperator\u001b[0m\u001b[0;34m(\u001b[0m\u001b[0;34m)\u001b[0m\u001b[0;34m)\u001b[0m\u001b[0;34m\u001b[0m\u001b[0;34m\u001b[0m\u001b[0m\n\u001b[0m\u001b[1;32m    218\u001b[0m             \u001b[0;32mreturn\u001b[0m \u001b[0mself\u001b[0m\u001b[0;34m.\u001b[0m\u001b[0marithmetic\u001b[0m\u001b[0;34m(\u001b[0m\u001b[0mex\u001b[0m\u001b[0;34m,\u001b[0m \u001b[0moperator\u001b[0m\u001b[0;34m)\u001b[0m\u001b[0;34m\u001b[0m\u001b[0;34m\u001b[0m\u001b[0m\n\u001b[1;32m    219\u001b[0m         \u001b[0;32melif\u001b[0m \u001b[0moperator\u001b[0m \u001b[0;32min\u001b[0m \u001b[0mrelation_operators\u001b[0m\u001b[0;34m:\u001b[0m\u001b[0;34m\u001b[0m\u001b[0;34m\u001b[0m\u001b[0m\n",
      "\u001b[0;32m/usr3/articles/sagemath_docker_build/sage-9.1/local/lib/python3.7/site-packages/sage/symbolic/expression_conversions.py\u001b[0m in \u001b[0;36marithmetic\u001b[0;34m(self, ex, operator)\u001b[0m\n\u001b[1;32m   1855\u001b[0m         \u001b[0;32melif\u001b[0m \u001b[0moperator\u001b[0m \u001b[0;34m==\u001b[0m \u001b[0mmul_vararg\u001b[0m\u001b[0;34m:\u001b[0m\u001b[0;34m\u001b[0m\u001b[0;34m\u001b[0m\u001b[0m\n\u001b[1;32m   1856\u001b[0m             \u001b[0moperator\u001b[0m \u001b[0;34m=\u001b[0m \u001b[0m_operator\u001b[0m\u001b[0;34m.\u001b[0m\u001b[0mmul\u001b[0m\u001b[0;34m\u001b[0m\u001b[0;34m\u001b[0m\u001b[0m\n\u001b[0;32m-> 1857\u001b[0;31m         \u001b[0;32mreturn\u001b[0m \u001b[0mreduce\u001b[0m\u001b[0;34m(\u001b[0m\u001b[0;32mlambda\u001b[0m \u001b[0mx\u001b[0m\u001b[0;34m,\u001b[0m\u001b[0my\u001b[0m\u001b[0;34m:\u001b[0m \u001b[0mself\u001b[0m\u001b[0;34m.\u001b[0m\u001b[0metb\u001b[0m\u001b[0;34m.\u001b[0m\u001b[0mcall\u001b[0m\u001b[0;34m(\u001b[0m\u001b[0moperator\u001b[0m\u001b[0;34m,\u001b[0m \u001b[0mx\u001b[0m\u001b[0;34m,\u001b[0m\u001b[0my\u001b[0m\u001b[0;34m)\u001b[0m\u001b[0;34m,\u001b[0m \u001b[0moperands\u001b[0m\u001b[0;34m)\u001b[0m\u001b[0;34m\u001b[0m\u001b[0;34m\u001b[0m\u001b[0m\n\u001b[0m\u001b[1;32m   1858\u001b[0m \u001b[0;34m\u001b[0m\u001b[0m\n\u001b[1;32m   1859\u001b[0m     \u001b[0;32mdef\u001b[0m \u001b[0msymbol\u001b[0m\u001b[0;34m(\u001b[0m\u001b[0mself\u001b[0m\u001b[0;34m,\u001b[0m \u001b[0mex\u001b[0m\u001b[0;34m)\u001b[0m\u001b[0;34m:\u001b[0m\u001b[0;34m\u001b[0m\u001b[0;34m\u001b[0m\u001b[0m\n",
      "\u001b[0;32m/usr3/articles/sagemath_docker_build/sage-9.1/local/lib/python3.7/site-packages/sage/symbolic/expression_conversions.py\u001b[0m in \u001b[0;36m<lambda>\u001b[0;34m(x, y)\u001b[0m\n\u001b[1;32m   1855\u001b[0m         \u001b[0;32melif\u001b[0m \u001b[0moperator\u001b[0m \u001b[0;34m==\u001b[0m \u001b[0mmul_vararg\u001b[0m\u001b[0;34m:\u001b[0m\u001b[0;34m\u001b[0m\u001b[0;34m\u001b[0m\u001b[0m\n\u001b[1;32m   1856\u001b[0m             \u001b[0moperator\u001b[0m \u001b[0;34m=\u001b[0m \u001b[0m_operator\u001b[0m\u001b[0;34m.\u001b[0m\u001b[0mmul\u001b[0m\u001b[0;34m\u001b[0m\u001b[0;34m\u001b[0m\u001b[0m\n\u001b[0;32m-> 1857\u001b[0;31m         \u001b[0;32mreturn\u001b[0m \u001b[0mreduce\u001b[0m\u001b[0;34m(\u001b[0m\u001b[0;32mlambda\u001b[0m \u001b[0mx\u001b[0m\u001b[0;34m,\u001b[0m\u001b[0my\u001b[0m\u001b[0;34m:\u001b[0m \u001b[0mself\u001b[0m\u001b[0;34m.\u001b[0m\u001b[0metb\u001b[0m\u001b[0;34m.\u001b[0m\u001b[0mcall\u001b[0m\u001b[0;34m(\u001b[0m\u001b[0moperator\u001b[0m\u001b[0;34m,\u001b[0m \u001b[0mx\u001b[0m\u001b[0;34m,\u001b[0m\u001b[0my\u001b[0m\u001b[0;34m)\u001b[0m\u001b[0;34m,\u001b[0m \u001b[0moperands\u001b[0m\u001b[0;34m)\u001b[0m\u001b[0;34m\u001b[0m\u001b[0;34m\u001b[0m\u001b[0m\n\u001b[0m\u001b[1;32m   1858\u001b[0m \u001b[0;34m\u001b[0m\u001b[0m\n\u001b[1;32m   1859\u001b[0m     \u001b[0;32mdef\u001b[0m \u001b[0msymbol\u001b[0m\u001b[0;34m(\u001b[0m\u001b[0mself\u001b[0m\u001b[0;34m,\u001b[0m \u001b[0mex\u001b[0m\u001b[0;34m)\u001b[0m\u001b[0;34m:\u001b[0m\u001b[0;34m\u001b[0m\u001b[0;34m\u001b[0m\u001b[0m\n",
      "\u001b[0;32m/usr3/articles/sagemath_docker_build/sage-9.1/local/lib/python3.7/site-packages/sage/ext/fast_callable.pyx\u001b[0m in \u001b[0;36msage.ext.fast_callable.ExpressionTreeBuilder.call (build/cythonized/sage/ext/fast_callable.c:7212)\u001b[0;34m()\u001b[0m\n\u001b[1;32m    780\u001b[0m             \u001b[0;32mreturn\u001b[0m \u001b[0mself\u001b[0m\u001b[0;34m(\u001b[0m\u001b[0mbase\u001b[0m\u001b[0;34m)\u001b[0m\u001b[0;34m**\u001b[0m\u001b[0mexponent\u001b[0m\u001b[0;34m\u001b[0m\u001b[0;34m\u001b[0m\u001b[0m\n\u001b[1;32m    781\u001b[0m         \u001b[0;32melse\u001b[0m\u001b[0;34m:\u001b[0m\u001b[0;34m\u001b[0m\u001b[0;34m\u001b[0m\u001b[0m\n\u001b[0;32m--> 782\u001b[0;31m             \u001b[0;32mreturn\u001b[0m \u001b[0mExpressionCall\u001b[0m\u001b[0;34m(\u001b[0m\u001b[0mself\u001b[0m\u001b[0;34m,\u001b[0m \u001b[0mfn\u001b[0m\u001b[0;34m,\u001b[0m \u001b[0;34m[\u001b[0m\u001b[0mself\u001b[0m\u001b[0;34m(\u001b[0m\u001b[0ma\u001b[0m\u001b[0;34m)\u001b[0m \u001b[0;32mfor\u001b[0m \u001b[0ma\u001b[0m \u001b[0;32min\u001b[0m \u001b[0margs\u001b[0m\u001b[0;34m]\u001b[0m\u001b[0;34m)\u001b[0m\u001b[0;34m\u001b[0m\u001b[0;34m\u001b[0m\u001b[0m\n\u001b[0m\u001b[1;32m    783\u001b[0m \u001b[0;34m\u001b[0m\u001b[0m\n\u001b[1;32m    784\u001b[0m     \u001b[0;32mdef\u001b[0m \u001b[0mchoice\u001b[0m\u001b[0;34m(\u001b[0m\u001b[0mself\u001b[0m\u001b[0;34m,\u001b[0m \u001b[0mcond\u001b[0m\u001b[0;34m,\u001b[0m \u001b[0miftrue\u001b[0m\u001b[0;34m,\u001b[0m \u001b[0miffalse\u001b[0m\u001b[0;34m)\u001b[0m\u001b[0;34m:\u001b[0m\u001b[0;34m\u001b[0m\u001b[0;34m\u001b[0m\u001b[0m\n",
      "\u001b[0;32m/usr3/articles/sagemath_docker_build/sage-9.1/local/lib/python3.7/site-packages/sage/ext/fast_callable.pyx\u001b[0m in \u001b[0;36msage.ext.fast_callable.ExpressionTreeBuilder.__call__ (build/cythonized/sage/ext/fast_callable.c:6346)\u001b[0;34m()\u001b[0m\n\u001b[1;32m    654\u001b[0m             \u001b[0;32mreturn\u001b[0m \u001b[0mself\u001b[0m\u001b[0;34m.\u001b[0m\u001b[0mconstant\u001b[0m\u001b[0;34m(\u001b[0m\u001b[0mx\u001b[0m\u001b[0;34m)\u001b[0m\u001b[0;34m\u001b[0m\u001b[0;34m\u001b[0m\u001b[0m\n\u001b[1;32m    655\u001b[0m \u001b[0;34m\u001b[0m\u001b[0m\n\u001b[0;32m--> 656\u001b[0;31m         \u001b[0;32mreturn\u001b[0m \u001b[0mfc\u001b[0m\u001b[0;34m(\u001b[0m\u001b[0mself\u001b[0m\u001b[0;34m)\u001b[0m\u001b[0;34m\u001b[0m\u001b[0;34m\u001b[0m\u001b[0m\n\u001b[0m\u001b[1;32m    657\u001b[0m \u001b[0;34m\u001b[0m\u001b[0m\n\u001b[1;32m    658\u001b[0m     \u001b[0;32mdef\u001b[0m \u001b[0m_clean_var\u001b[0m\u001b[0;34m(\u001b[0m\u001b[0mself\u001b[0m\u001b[0;34m,\u001b[0m \u001b[0mv\u001b[0m\u001b[0;34m)\u001b[0m\u001b[0;34m:\u001b[0m\u001b[0;34m\u001b[0m\u001b[0;34m\u001b[0m\u001b[0m\n",
      "\u001b[0;32m/usr3/articles/sagemath_docker_build/sage-9.1/local/lib/python3.7/site-packages/sage/symbolic/expression.pyx\u001b[0m in \u001b[0;36msage.symbolic.expression.Expression._fast_callable_ (build/cythonized/sage/symbolic/expression.cpp:62542)\u001b[0;34m()\u001b[0m\n\u001b[1;32m  11975\u001b[0m         \"\"\"\n\u001b[1;32m  11976\u001b[0m         \u001b[0;32mfrom\u001b[0m \u001b[0msage\u001b[0m\u001b[0;34m.\u001b[0m\u001b[0msymbolic\u001b[0m\u001b[0;34m.\u001b[0m\u001b[0mexpression_conversions\u001b[0m \u001b[0;32mimport\u001b[0m \u001b[0mfast_callable\u001b[0m\u001b[0;34m\u001b[0m\u001b[0;34m\u001b[0m\u001b[0m\n\u001b[0;32m> 11977\u001b[0;31m         \u001b[0;32mreturn\u001b[0m \u001b[0mfast_callable\u001b[0m\u001b[0;34m(\u001b[0m\u001b[0mself\u001b[0m\u001b[0;34m,\u001b[0m \u001b[0metb\u001b[0m\u001b[0;34m)\u001b[0m\u001b[0;34m\u001b[0m\u001b[0;34m\u001b[0m\u001b[0m\n\u001b[0m\u001b[1;32m  11978\u001b[0m \u001b[0;34m\u001b[0m\u001b[0m\n\u001b[1;32m  11979\u001b[0m     \u001b[0;32mdef\u001b[0m \u001b[0mshow\u001b[0m\u001b[0;34m(\u001b[0m\u001b[0mself\u001b[0m\u001b[0;34m)\u001b[0m\u001b[0;34m:\u001b[0m\u001b[0;34m\u001b[0m\u001b[0;34m\u001b[0m\u001b[0m\n",
      "\u001b[0;32m/usr3/articles/sagemath_docker_build/sage-9.1/local/lib/python3.7/site-packages/sage/symbolic/expression_conversions.py\u001b[0m in \u001b[0;36mfast_callable\u001b[0;34m(ex, etb)\u001b[0m\n\u001b[1;32m   1927\u001b[0m \u001b[0;34m\u001b[0m\u001b[0m\n\u001b[1;32m   1928\u001b[0m     \"\"\"\n\u001b[0;32m-> 1929\u001b[0;31m     \u001b[0;32mreturn\u001b[0m \u001b[0mFastCallableConverter\u001b[0m\u001b[0;34m(\u001b[0m\u001b[0mex\u001b[0m\u001b[0;34m,\u001b[0m \u001b[0metb\u001b[0m\u001b[0;34m)\u001b[0m\u001b[0;34m(\u001b[0m\u001b[0;34m)\u001b[0m\u001b[0;34m\u001b[0m\u001b[0;34m\u001b[0m\u001b[0m\n\u001b[0m\u001b[1;32m   1930\u001b[0m \u001b[0;34m\u001b[0m\u001b[0m\n\u001b[1;32m   1931\u001b[0m \u001b[0;32mclass\u001b[0m \u001b[0mRingConverter\u001b[0m\u001b[0;34m(\u001b[0m\u001b[0mConverter\u001b[0m\u001b[0;34m)\u001b[0m\u001b[0;34m:\u001b[0m\u001b[0;34m\u001b[0m\u001b[0;34m\u001b[0m\u001b[0m\n",
      "\u001b[0;32m/usr3/articles/sagemath_docker_build/sage-9.1/local/lib/python3.7/site-packages/sage/symbolic/expression_conversions.py\u001b[0m in \u001b[0;36m__call__\u001b[0;34m(self, ex)\u001b[0m\n\u001b[1;32m    210\u001b[0m         \u001b[0moperator\u001b[0m \u001b[0;34m=\u001b[0m \u001b[0mex\u001b[0m\u001b[0;34m.\u001b[0m\u001b[0moperator\u001b[0m\u001b[0;34m(\u001b[0m\u001b[0;34m)\u001b[0m\u001b[0;34m\u001b[0m\u001b[0;34m\u001b[0m\u001b[0m\n\u001b[1;32m    211\u001b[0m         \u001b[0;32mif\u001b[0m \u001b[0moperator\u001b[0m \u001b[0;32mis\u001b[0m \u001b[0;32mNone\u001b[0m\u001b[0;34m:\u001b[0m\u001b[0;34m\u001b[0m\u001b[0;34m\u001b[0m\u001b[0m\n\u001b[0;32m--> 212\u001b[0;31m             \u001b[0;32mreturn\u001b[0m \u001b[0mself\u001b[0m\u001b[0;34m.\u001b[0m\u001b[0msymbol\u001b[0m\u001b[0;34m(\u001b[0m\u001b[0mex\u001b[0m\u001b[0;34m)\u001b[0m\u001b[0;34m\u001b[0m\u001b[0;34m\u001b[0m\u001b[0m\n\u001b[0m\u001b[1;32m    213\u001b[0m \u001b[0;34m\u001b[0m\u001b[0m\n\u001b[1;32m    214\u001b[0m         \u001b[0;32mif\u001b[0m \u001b[0moperator\u001b[0m \u001b[0;32min\u001b[0m \u001b[0marithmetic_operators\u001b[0m\u001b[0;34m:\u001b[0m\u001b[0;34m\u001b[0m\u001b[0;34m\u001b[0m\u001b[0m\n",
      "\u001b[0;32m/usr3/articles/sagemath_docker_build/sage-9.1/local/lib/python3.7/site-packages/sage/symbolic/expression_conversions.py\u001b[0m in \u001b[0;36msymbol\u001b[0;34m(self, ex)\u001b[0m\n\u001b[1;32m   1876\u001b[0m             \u001b[0mValueError\u001b[0m\u001b[0;34m:\u001b[0m \u001b[0mVariable\u001b[0m \u001b[0;34m'z'\u001b[0m \u001b[0;32mnot\u001b[0m \u001b[0mfound\u001b[0m\u001b[0;34m\u001b[0m\u001b[0;34m\u001b[0m\u001b[0m\n\u001b[1;32m   1877\u001b[0m         \"\"\"\n\u001b[0;32m-> 1878\u001b[0;31m         \u001b[0;32mreturn\u001b[0m \u001b[0mself\u001b[0m\u001b[0;34m.\u001b[0m\u001b[0metb\u001b[0m\u001b[0;34m.\u001b[0m\u001b[0mvar\u001b[0m\u001b[0;34m(\u001b[0m\u001b[0mSR\u001b[0m\u001b[0;34m(\u001b[0m\u001b[0mex\u001b[0m\u001b[0;34m)\u001b[0m\u001b[0;34m)\u001b[0m\u001b[0;34m\u001b[0m\u001b[0;34m\u001b[0m\u001b[0m\n\u001b[0m\u001b[1;32m   1879\u001b[0m \u001b[0;34m\u001b[0m\u001b[0m\n\u001b[1;32m   1880\u001b[0m     \u001b[0;32mdef\u001b[0m \u001b[0mcomposition\u001b[0m\u001b[0;34m(\u001b[0m\u001b[0mself\u001b[0m\u001b[0;34m,\u001b[0m \u001b[0mex\u001b[0m\u001b[0;34m,\u001b[0m \u001b[0mfunction\u001b[0m\u001b[0;34m)\u001b[0m\u001b[0;34m:\u001b[0m\u001b[0;34m\u001b[0m\u001b[0;34m\u001b[0m\u001b[0m\n",
      "\u001b[0;32m/usr3/articles/sagemath_docker_build/sage-9.1/local/lib/python3.7/site-packages/sage/ext/fast_callable.pyx\u001b[0m in \u001b[0;36msage.ext.fast_callable.ExpressionTreeBuilder.var (build/cythonized/sage/ext/fast_callable.c:6808)\u001b[0;34m()\u001b[0m\n\u001b[1;32m    726\u001b[0m             \u001b[0mind\u001b[0m \u001b[0;34m=\u001b[0m \u001b[0mself\u001b[0m\u001b[0;34m.\u001b[0m\u001b[0m_vars\u001b[0m\u001b[0;34m.\u001b[0m\u001b[0mindex\u001b[0m\u001b[0;34m(\u001b[0m\u001b[0mvar_name\u001b[0m\u001b[0;34m)\u001b[0m\u001b[0;34m\u001b[0m\u001b[0;34m\u001b[0m\u001b[0m\n\u001b[1;32m    727\u001b[0m         \u001b[0;32mexcept\u001b[0m \u001b[0mValueError\u001b[0m\u001b[0;34m:\u001b[0m\u001b[0;34m\u001b[0m\u001b[0;34m\u001b[0m\u001b[0m\n\u001b[0;32m--> 728\u001b[0;31m             \u001b[0;32mraise\u001b[0m \u001b[0mValueError\u001b[0m\u001b[0;34m(\u001b[0m\u001b[0;34m\"Variable '%s' not found\"\u001b[0m \u001b[0;34m%\u001b[0m \u001b[0mvar_name\u001b[0m\u001b[0;34m)\u001b[0m\u001b[0;34m\u001b[0m\u001b[0;34m\u001b[0m\u001b[0m\n\u001b[0m\u001b[1;32m    729\u001b[0m         \u001b[0;32mreturn\u001b[0m \u001b[0mExpressionVariable\u001b[0m\u001b[0;34m(\u001b[0m\u001b[0mself\u001b[0m\u001b[0;34m,\u001b[0m \u001b[0mind\u001b[0m\u001b[0;34m)\u001b[0m\u001b[0;34m\u001b[0m\u001b[0;34m\u001b[0m\u001b[0m\n\u001b[1;32m    730\u001b[0m \u001b[0;34m\u001b[0m\u001b[0m\n",
      "\u001b[0;31mValueError\u001b[0m: Variable 'kappa_0' not found"
     ]
    }
   ],
   "source": [
    "eps = 0.1\n",
    "for i in range(n_layers):\n",
    "    print (\"i =\", i)\n",
    "    ai = 0.0\n",
    "    for kappa_den_zero_d in kappa_den_zeros_d[i]:\n",
    "        bi = kappa_den_zero_d - eps\n",
    "        print(eqs_kappa_d[i].lhs())\n",
    "        print(ai, bi)\n",
    "        plot(eqs_kappa_d[i].lhs(), ai, bi).show()\n",
    "        ai = kappa_den_zero_d + eps\n",
    "    bi = ai * 2\n",
    "    print(eqs_kappa_d[i].lhs())\n",
    "    print(ai, bi)\n",
    "    plot(eqs_kappa_d[i].lhs(), ai, bi).show()"
   ]
  },
  {
   "cell_type": "code",
   "execution_count": null,
   "metadata": {},
   "outputs": [],
   "source": [
    "kappa_d = []\n",
    "for i in range(n_layers):\n",
    "    kappa_d += [[]]\n",
    "\n",
    "eps = 0.1\n",
    "from scipy.optimize import fsolve, root, brentq\n",
    "for i in range(n_layers):\n",
    "    ai = 0.0 + eps\n",
    "    for kappa_den_zero_d in kappa_den_zeros_d[i]:\n",
    "        bi = kappa_den_zero_d - eps\n",
    "        exec(preparse( \"eq_kappa_f = lambda x :\" + str(eqs_kappa_d[i].lhs().subs(kappa[i] == x))))\n",
    "        print (\"ai =\", ai, \"bi =\", bi)\n",
    "        print (\"eq_kappa_f(ai) =\", eq_kappa_f(ai), \"eq_kappa_f(bi) =\", eq_kappa_f(bi))\n",
    "        plot(eq_kappa_f, ai, bi).show()\n",
    "        try:\n",
    "            kappa_root = brentq(eq_kappa_f, ai, bi)\n",
    "            kappa_d[i] += [kappa_root]\n",
    "            print (kappa[i], \"=\", kappa_root)\n",
    "        except Exception as ex:\n",
    "            print (ex)\n",
    "        ai = kappa_den_zero_d + eps\n",
    "    bi = ai * 2\n",
    "\n",
    "    exec(preparse( \"eq_kappa_f = lambda x :\" + str(eqs_kappa_d[i].lhs().subs(kappa[i] == x))))\n",
    "    print (\"ai =\", ai, \"bi =\", bi)\n",
    "    print (\"eq_kappa_f(ai) =\", eq_kappa_f(ai), \"eq_kappa_f(bi) =\", eq_kappa_f(bi))\n",
    "    plot(eq_kappa_f, ai, bi).show()\n",
    "    try:\n",
    "        kappa_root = brentq(eq_kappa_f, ai, bi)\n",
    "        kappa_d[i] += [kappa_root]\n",
    "        print (kappa[i], \"=\", kappa_root)\n",
    "    except Exception as ex:\n",
    "        print (ex)\n",
    "\n",
    "    print(\"\") "
   ]
  },
  {
   "cell_type": "code",
   "execution_count": null,
   "metadata": {},
   "outputs": [],
   "source": [
    "print (kappa_d)"
   ]
  },
  {
   "cell_type": "markdown",
   "metadata": {},
   "source": [
    "digit_kappas = []\n",
    "for i in range(n_layers):\n",
    "    for kk in range(len(kappa_d[i])):\n",
    "        digit_kappa_i = [kappa[i] == kappa_d[i][kk]]\n",
    "        print(\"digit_kappa_i [\", i, \"] =\", digit_kappa_i)\n",
    "        \n",
    "        # for j in range(0, i):\n",
    "        for j in range(i-1, -1, -1):\n",
    "            print (\"j\", j)\n",
    "            print(solve(eq_kappa2_kappa2[j], kappa[j]))\n",
    "            digit_kappa_i_j = solve(eq_kappa2_kappa2[j], kappa[j])[0].subs(digit_kappa_i).subs(digit_values)\n",
    "            print(\"digit_kappa_i_j [\", i, \",\", j, \"] =\", digit_kappa_i_j)\n",
    "            print(\"digit_kappa_i_j [\", i, \",\", j, \"].is_real() =\", digit_kappa_i_j.rhs().is_real())\n",
    "            if digit_kappa_i_j.rhs().is_real():\n",
    "                digit_kappa_i += [digit_kappa_i_j]\n",
    "            print(\"digit_kappa_i [\", i, \"] =\", digit_kappa_i)\n",
    "\n",
    "        # for j in range(n_layers-1, i,-1):\n",
    "        for j in range(i+1, n_layers):\n",
    "            print (\"j\", j)\n",
    "            print(solve(eq_kappa2_kappa2[j-1], kappa[j]))\n",
    "            digit_kappa_i_j = solve(eq_kappa2_kappa2[j-1], kappa[j])[0].subs(digit_kappa_i).subs(digit_values)\n",
    "            print(\"digit_kappa_i_j [\", i, \",\", j, \"] =\", digit_kappa_i_j)\n",
    "            print(\"digit_kappa_i_j [\", i, \",\", j, \"].is_real() =\", digit_kappa_i_j.rhs().is_real())\n",
    "            if digit_kappa_i_j.rhs().is_real():\n",
    "                digit_kappa_i += [digit_kappa_i_j]\n",
    "            print(\"digit_kappa_i [\", i, \"] =\", digit_kappa_i)\n",
    "        \n",
    "        print(\"\")\n",
    "        if len(digit_kappa_i) == n_layers:\n",
    "            digit_kappas += [digit_kappa_i]"
   ]
  },
  {
   "cell_type": "code",
   "execution_count": null,
   "metadata": {},
   "outputs": [],
   "source": [
    "digit_kappas = []\n",
    "for i in range(n_layers):\n",
    "    for kk in range(len(kappa_d[i])):\n",
    "        digit_kappa_i = make_digit_kappa_i(i, kappa_d[i][kk])\n",
    "        \n",
    "        print(\"\")\n",
    "        if len(digit_kappa_i) == n_layers:\n",
    "            digit_kappas += [digit_kappa_i]"
   ]
  },
  {
   "cell_type": "code",
   "execution_count": null,
   "metadata": {},
   "outputs": [],
   "source": [
    "print(digit_kappas)"
   ]
  },
  {
   "cell_type": "code",
   "execution_count": null,
   "metadata": {},
   "outputs": [],
   "source": [
    "for j in range(len(digit_kappas)):\n",
    "    for i in range(n_layers - 1):\n",
    "        eq = eq_kappa[i].subs(digit_kappas[j]).subs(digit_values)\n",
    "        print (eq, type(eq))\n",
    "        digit_k_j = solve(eq, k)\n",
    "        print (digit_k_j)\n",
    "        for digit_k in digit_k_j:\n",
    "            if digit_k.rhs() > 0:\n",
    "                print (digit_k.rhs().n())\n",
    "                if 0 == i:\n",
    "                    digit_kappas[j] += [k == digit_k.rhs().n()]"
   ]
  },
  {
   "cell_type": "code",
   "execution_count": null,
   "metadata": {},
   "outputs": [],
   "source": [
    "print(digit_kappas)"
   ]
  },
  {
   "cell_type": "code",
   "execution_count": null,
   "metadata": {},
   "outputs": [],
   "source": [
    "digit_kappas_k = []\n",
    "for j in range(len(digit_kappas)):\n",
    "    if n_layers + 1 == len(digit_kappas[j]):\n",
    "        digit_kappas_k += [digit_kappas[j]]\n",
    "        \n",
    "print(digit_kappas_k)"
   ]
  },
  {
   "cell_type": "code",
   "execution_count": null,
   "metadata": {},
   "outputs": [],
   "source": [
    "Ex_d = []\n",
    "Ez_d = []\n",
    "Hy_d = []\n",
    "for j in range(len(digit_kappas_k)):\n",
    "    Ex_d += [[]]\n",
    "    Ez_d += [[]]\n",
    "    Hy_d += [[]]\n",
    "    for i in range(n_layers):\n",
    "        if i > 0:\n",
    "            Ex_d[j] += [ lambda x, i=i : Ex_res[i](x).subs(Bz_eqs[i-1]).subs(digit_values).subs(a==A,Bz_0==1).subs(digit_kappas_k[j])]\n",
    "            Ez_d[j] += [ lambda x, i=i : Ez_res[i](x).subs(Bz_eqs[i-1]).subs(digit_values).subs(a==A,Bz_0==1).subs(digit_kappas_k[j])]\n",
    "            Hy_d[j] += [ lambda x, i=i : Hy_res[i](x).subs(Bz_eqs[i-1]).subs(digit_values).subs(a==A,Bz_0==1).subs(digit_kappas_k[j])]\n",
    "        else:\n",
    "            Ex_d[j] += [ lambda x, i=i : Ex_res[i](x).subs(digit_values).subs(a==A,Bz_0==1).subs(digit_kappas_k[j])]\n",
    "            Ez_d[j] += [ lambda x, i=i : Ez_res[i](x).subs(digit_values).subs(a==A,Bz_0==1).subs(digit_kappas_k[j])]\n",
    "            Hy_d[j] += [ lambda x, i=i : Hy_res[i](x).subs(digit_values).subs(a==A,Bz_0==1).subs(digit_kappas_k[j])]\n",
    "        \n",
    "    for i in range(n_layers):\n",
    "        print (\"Ex[\", j, \"][\", i, \"]=\")\n",
    "        display(Math(latex(Ex_d[j][i](x))))\n",
    "        print (\"Ez[\", j, \"][\", i, \"]=\")\n",
    "        display(Math(latex(Ez_d[j][i](x))))\n",
    "        print (\"Hy[\", j, \"][\", i, \"]=\")\n",
    "        display(Math(latex(Hy_d[j][i](x))))\n",
    "        print(\"\")"
   ]
  },
  {
   "cell_type": "code",
   "execution_count": null,
   "metadata": {},
   "outputs": [],
   "source": [
    "for j in range(len(digit_kappas_k)):\n",
    "    p = sage.plot.graphics.Graphics()\n",
    "    for i in range(n_layers):\n",
    "        p += plot(Ez_d[j][i] (x), (x, i*A, (i+1)*A))\n",
    "\n",
    "    p.show()"
   ]
  },
  {
   "cell_type": "code",
   "execution_count": null,
   "metadata": {},
   "outputs": [],
   "source": [
    "for j in range(len(digit_kappas_k)):\n",
    "    p = sage.plot.graphics.Graphics()\n",
    "    for i in range(n_layers):\n",
    "        p += plot(Ex_d[j][i] (x).imag(), (x, i*A, (i+1)*A))\n",
    "\n",
    "    p.show()"
   ]
  },
  {
   "cell_type": "code",
   "execution_count": null,
   "metadata": {},
   "outputs": [],
   "source": [
    "for j in range(len(digit_kappas_k)):\n",
    "    p = sage.plot.graphics.Graphics()\n",
    "    for i in range(n_layers):\n",
    "        p += plot(epsilon[i].subs(digit_values) * (Ex_d[j][i] (x).imag()), (x, i*A, (i+1)*A))\n",
    "\n",
    "    p.show()"
   ]
  },
  {
   "cell_type": "code",
   "execution_count": null,
   "metadata": {},
   "outputs": [],
   "source": [
    "for j in range(len(digit_kappas_k)):\n",
    "    p = sage.plot.graphics.Graphics()\n",
    "    for i in range(n_layers):\n",
    "        p += plot(Hy_d[j][i] (x).imag(), (x, i*A, (i+1)*A))\n",
    "\n",
    "    p.show()"
   ]
  },
  {
   "cell_type": "markdown",
   "metadata": {},
   "source": [
    "Решение получено.\n",
    "\n",
    "Теперь посчитаем:\n",
    "\n",
    "1) силу Абрагама, приложенную к диэлектрику\n",
    "\n",
    "2) пондемоторную силу, приложенную к идеальному проводнику"
   ]
  },
  {
   "cell_type": "code",
   "execution_count": null,
   "metadata": {},
   "outputs": [],
   "source": [
    "# Abraham force\n",
    "# (epsilon * mu - 1) / (4 * pi * c) * ([E x H]).diff(t)\n",
    "# (epsilon * mu - 1) / (4 * pi * c) * ([E.diff(t) x H] + [E x H.diff(t)])\n",
    "# ([a x b])_x = a_y * b_z - a_z * b_y\n",
    "# f_x = (epsilon * mu - 1) / (4 * pi * c) * (-E_z.diff(t) * H_y - E_z * H_y.diff(t))\n",
    "# E_z.diff(t) = -I * omega * E_z\n",
    "# H_y.diff(t) = -I * omega * H_y\n",
    "\n",
    "# ---f_x = (epsilon * mu - 1) / (4 * pi * c) * (E_z * H_y + E_z * H_y) * I * omega\n",
    "# ---f_x = (epsilon * mu - 1) / (2 * pi * c) * (E_z * H_y) * I * omega\n",
    "\n",
    "#\n",
    "# alpha = - omega * t\n",
    "#\n",
    "\n",
    "# f_x = (epsilon * mu - 1) / (4 * pi * c) * \n",
    "#       integrate(\n",
    "#         ( - Re(-I*omega * E_z * e^alpha) * Re(H_y * e^alpha)) +\n",
    "#         ( - Re(E_z * e^alpha) * Re(-I*omega * H_y * e^alpha)) \n",
    "#       (alpha, 0, 2*pi))\n",
    "\n",
    "\n",
    "# f_x = (epsilon * mu - 1) / (2 * 4 * pi * c) * (\n",
    "#             ( - Re(-I*omega * E_z) * Re(H_y) - Im(-I*omega * E_z) * Im(H_y)) +\n",
    "#             ( - Re(E_z) * Re(-I*omega * H_y) - Im(E_z) * Im(-I*omega * H_y)) \n",
    "#       )\n",
    "\n",
    "Abraham_f_x = []\n",
    "for i in range(n_layers):\n",
    "    # Abraham_f_x   += [ lambda x, i=i : ((epsilon[i] * mu[i] - 1) / (2 * pi * c) * (Ez_res[i] (x) * Hy_res[i] (x)) * I * omega).full_simplify()]\n",
    "    Abraham_f_x += [ lambda x, i=i : (epsilon[i] * mu[i] - 1) / (8 * pi * c) * \\\n",
    "        ( \\\n",
    "            - ( -I * omega * Ez_res[i] (x)).real_part() * (Hy_res[i](x)).real_part() \\\n",
    "            - ( -I * omega * Ez_res[i] (x)).imag_part() * (Hy_res[i](x)).imag_part() \\\n",
    "            - (Ez_res[i] (x)).real_part() * ( -I * omega * Hy_res[i](x)).real_part() \\\n",
    "            - (Ez_res[i] (x)).imag_part() * ( -I * omega * Hy_res[i](x)).imag_part() \\\n",
    "        ) ]\n",
    "    print(\"Abraham_f_x =\")\n",
    "    display(Math(latex(Abraham_f_x[i](x))))\n",
    "    \n",
    "Abraham_f_x_d = []\n",
    "for j in range(len(digit_kappas_k)):\n",
    "    Abraham_f_x_d += [[]]\n",
    "    for i in range(n_layers):\n",
    "        # Abraham_f_x_d[j] += [ lambda x, i=i : ((epsilon[i] * mu[i] - 1) / (2 * pi * c) * (Ez_d[j][i] (x) * Hy_d[j][i] (x)) * I * omega).subs(digit_values) ]\n",
    "        Abraham_f_x_d[j] += [ lambda x, i=i : ((epsilon[i] * mu[i] - 1) / (8 * pi * c) * \\\n",
    "            ( \\\n",
    "                - ( -I * omega * Ez_d[j][i] (x)).real_part() * (Hy_d[j][i](x)).real_part() \\\n",
    "                - ( -I * omega * Ez_d[j][i] (x)).imag_part() * (Hy_d[j][i](x)).imag_part() \\\n",
    "                - (Ez_d[j][i] (x)).real_part() * ( -I * omega * Hy_d[j][i](x)).real_part() \\\n",
    "                - (Ez_d[j][i] (x)).imag_part() * ( -I * omega * Hy_d[j][i](x)).imag_part() \\\n",
    "            )).subs(digit_values) ]\n",
    "        print(\"Abraham_f_x_d[\", j, \"][\", i, \"] =\")\n",
    "        display(Math(latex(Abraham_f_x_d[j][i](x))))"
   ]
  },
  {
   "cell_type": "code",
   "execution_count": null,
   "metadata": {},
   "outputs": [],
   "source": [
    "for j in range(len(digit_kappas_k)):\n",
    "    p = sage.plot.graphics.Graphics()\n",
    "    for i in range(n_layers):\n",
    "        p += plot(Abraham_f_x_d[j][i] (x), (x, i*A, (i+1)*A))\n",
    "\n",
    "    p.show()"
   ]
  },
  {
   "cell_type": "code",
   "execution_count": null,
   "metadata": {},
   "outputs": [],
   "source": [
    "Abraham_F_x = []\n",
    "for j in range(len(digit_kappas_k)):\n",
    "    Abraham_F_x += [0]\n",
    "    for i in range(n_layers):\n",
    "        Abraham_F_x_i = integrate(Abraham_f_x_d[j][i] (x), (x, i*A, (i+1)*A))\n",
    "        print(\"Abraham_F_x[\", j, \"][\", i, \"]=\", Abraham_F_x_i)\n",
    "        Abraham_F_x[j] += Abraham_F_x_i\n",
    "    print(\"Abraham_F_x =\", Abraham_F_x[j])"
   ]
  },
  {
   "cell_type": "code",
   "execution_count": null,
   "metadata": {},
   "outputs": [],
   "source": [
    "for j in range(len(digit_kappas_k)):\n",
    "    print(Hy_d[j][0] (0))"
   ]
  },
  {
   "cell_type": "code",
   "execution_count": null,
   "metadata": {},
   "outputs": [],
   "source": [
    "for j in range(len(digit_kappas_k)):\n",
    "    print(Hy_d[j][n_layers-1] (n_layers * A))"
   ]
  },
  {
   "cell_type": "code",
   "execution_count": null,
   "metadata": {},
   "outputs": [],
   "source": [
    "# superconductor force\n",
    "f_superconductor = []\n",
    "for j in range(len(digit_kappas_k)):\n",
    "    f_superconductor_j_down = - abs(((Hy_d[j][0] (0))^2) / (8* pi))\n",
    "    f_superconductor_j_up   = + abs(((Hy_d[j][n_layers-1] (n_layers * A))^2) / (8* pi))\n",
    "    f_superconductor_j = f_superconductor_j_down + f_superconductor_j_up\n",
    "    print(\"f_superconductor_[\", j, \"]_down =\", f_superconductor_j_down)\n",
    "    print(\"f_superconductor_[\", j, \"]_up =\", f_superconductor_j_up)\n",
    "    print(\"f_superconductor[\", j, \"] =\", f_superconductor_j)\n",
    "    \n",
    "    f_superconductor += [f_superconductor_j]"
   ]
  },
  {
   "cell_type": "code",
   "execution_count": null,
   "metadata": {},
   "outputs": [],
   "source": [
    "for j in range(len(digit_kappas_k)):\n",
    "    f_sum = Abraham_F_x[j] + f_superconductor[j]\n",
    "    print(\"f_sum =\", f_sum)"
   ]
  },
  {
   "cell_type": "code",
   "execution_count": null,
   "metadata": {},
   "outputs": [],
   "source": []
  }
 ],
 "metadata": {
  "kernelspec": {
   "display_name": "SageMath 9.1",
   "language": "sage",
   "name": "sagemath"
  },
  "language_info": {
   "codemirror_mode": {
    "name": "ipython",
    "version": 3
   },
   "file_extension": ".py",
   "mimetype": "text/x-python",
   "name": "python",
   "nbconvert_exporter": "python",
   "pygments_lexer": "ipython3",
   "version": "3.7.9"
  }
 },
 "nbformat": 4,
 "nbformat_minor": 2
}
