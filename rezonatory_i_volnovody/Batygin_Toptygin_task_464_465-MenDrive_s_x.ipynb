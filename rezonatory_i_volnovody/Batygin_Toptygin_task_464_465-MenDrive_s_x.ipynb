{
 "cells": [
  {
   "cell_type": "markdown",
   "metadata": {
    "collapsed": false
   },
   "source": [
    "# Электродинамический расчёт волнового двигателя с внутренним расходом энергии Ф.Ф.Менде (MenDrive)\n",
    "\n",
    "А.Ю.Дроздов"
   ]
  },
  {
   "cell_type": "markdown",
   "metadata": {
    "collapsed": false
   },
   "source": [
    "Основываясь на решении задач из задачника Батыгина Топтыгина\n",
    "\n",
    "Batygin_Toptygin_task_464_465.sage\n",
    "\n",
    "В. В. БАТЫГИН, И. Н. ТОПТЫГИН\n",
    "СБОРНИК ЗАДАЧ\n",
    "по\n",
    "ЭЛЕКТРОДИНАМИКЕ\n",
    "МОСКВА 1970\n",
    "\n",
    "512. Бесконечно протяженный диэлектрический слой заполняет в вакууме область $ -a<=x<=a $ и имеет проницаемости $ \\epsilon $ и $ \\mu $.\n",
    "Показать, что такой слой может действовать как волновод (для этого нужно, чтобы поле бегущей электромагнитной волны концентрировалось, в основном, внутри слоя). Определить типы волн, которые могут распространяться в таком волноводе. Ограничиться случаем, когда векторы поля не зависят от координаты $y$.\n",
    "\n",
    "513. Диэлектрический слой с проницаемостями $\\epsilon$, $\\mu$, заполняющий область $0<=x<=a$, нанесен на поверхность идеального\n",
    "проводника. В области $x>a$ - вакуум. Какие типы электромагнитных волн с амплитудой, убывающей при удалении от слоя, могут распространяться вдоль слоя? Сравнить возможные типы волн с системой волн, полученной в предыдущей задаче.\n",
    "\n",
    "В издании 1962 года номера этих задач 464 и 465"
   ]
  },
  {
   "cell_type": "markdown",
   "metadata": {
    "collapsed": false
   },
   "source": [
    "рассчитаем тягу в\n",
    "\n",
    "http://fmnauka.narod.ru/dvigatel_emdrive.pdf\n",
    "\n",
    "Ф.Ф. МЕНДЕ, ВОЛНОВОЙ ДВИГАТЕЛЬ С ВНУТРЕННИМ РАСХОДОМ ЭНЕРГИИ ЭЛЕКТРОМАГНИТНЫХ КОЛЕБАНИЙ"
   ]
  },
  {
   "cell_type": "markdown",
   "metadata": {
    "collapsed": false
   },
   "source": [
    "геометрия задачи следующая: \n",
    "\n",
    "поверхность идеального проводника $x<=0$\n",
    "\n",
    "вакуума внутри резонатора заполняет область $0<=x<=a$\n",
    "\n",
    "В области $x>a$ - плохой проводник"
   ]
  },
  {
   "cell_type": "markdown",
   "metadata": {
    "collapsed": false
   },
   "source": [
    "$rot\\,\\vec{E} = \\mu\\,\\frac{i\\,\\omega}{c}\\,\\vec{H}$\n",
    "\n",
    "$rot\\,\\vec{H} = - \\frac{i\\,\\omega}{c} \\epsilon \\vec{E}$\n",
    "\n",
    "$rot\\,rot\\,\\vec{E} = \\mu\\,\\frac{i\\,\\omega}{c}rot\\,\\vec{H}$\n",
    "\n",
    "$rot\\,rot\\,\\vec{E} = \\mu\\,\\frac{i\\,\\omega}{c}\\left(- \\frac{i\\,\\omega}{c} \\epsilon \\vec{E}\\right)$\n",
    "\n",
    "$rot\\,rot\\,\\vec{E} = \\mu\\,\\frac{\\omega^2}{c^2} \\epsilon \\vec{E}$\n",
    "\n",
    "$rot\\,rot\\,\\vec{E} = grad\\,div\\,\\vec{E} - Laplasian\\,\\vec{E}$\n",
    "\n",
    "$Laplasian\\,\\vec{E} + \\frac{\\mu \\epsilon \\omega^2}{c^2}\\,\\vec{E} - grad\\,div\\,\\vec{E} = 0$\n"
   ]
  },
  {
   "cell_type": "markdown",
   "metadata": {
    "collapsed": false
   },
   "source": [
    "$div\\,\\vec{E} = 0$\n",
    "\n",
    "для вакуума внутри резонатора ищем решение в виде\n",
    "\n",
    "$\\vec{E} = \\vec{E}(x)\\,e^{i\\,k\\,z}\\,e^{-i\\,\\omega\\,t}$"
   ]
  },
  {
   "cell_type": "markdown",
   "metadata": {
    "collapsed": false
   },
   "source": [
    "подставляя в исходное уравнение приходим к обыкновенному дифференциальному уравнению\n",
    "\n",
    "$$\\frac{\\partial^{2}}{(\\partial {x})^{2}}\\vec{E}(x) + \\left(\\frac{\\mu \\epsilon \\omega^2}{c^2} - k^2\\right)\\,\\vec{E}(x) = 0$$"
   ]
  },
  {
   "cell_type": "markdown",
   "metadata": {
    "collapsed": false
   },
   "source": [
    "для вакуума внутри резонатора производим следующую замену переменных\n",
    "\n",
    "$\\kappa^2 = \\frac{\\mu \\epsilon \\omega^2}{c^2} - k_z^2$\n",
    "\n",
    "теперь получаем дифференциальное уравнение для вакуума внутри резонатора\n",
    "\n",
    "$$\\frac{\\partial^{2}}{(\\partial {x})^{2}}\\vec{E}(x) + \\kappa^2\\,\\vec{E}(x) = 0$$"
   ]
  },
  {
   "cell_type": "code",
   "execution_count": 0,
   "metadata": {
    "collapsed": false
   },
   "outputs": [
   ],
   "source": [
   ]
  },
  {
   "cell_type": "markdown",
   "metadata": {
    "collapsed": false
   },
   "source": [
    "для проводящего металла с потерями ищем решение в виде\n",
    "\n",
    "$\\vec{E} = \\vec{E}\\,e^{i\\,ks_x\\,x}\\,e^{i\\,k_z\\,z}\\,e^{-i\\,\\omega\\,t}$\n",
    "\n",
    "в котором волновой вектор, направленный вдоль оси z действителен, а волновой вектор, направленный вдоль оси x может быть комплексным $ks_x = k_x + i\\,s_x$\n",
    "\n",
    "$\\vec{E} = \\vec{E}\\,e^{i\\,(k_x + i\\,s_x)\\,(x-a)}\\,e^{i\\,k_z\\,z}\\,e^{-i\\,\\omega\\,t}$"
   ]
  },
  {
   "cell_type": "markdown",
   "metadata": {
    "collapsed": false
   },
   "source": [
    "принимая модель комплексного представления диэлектрической проницаемости $\\epsilon' = \\epsilon + \\frac{4\\pi\\,\\sigma}{\\omega}\\,i$ (плохой проводник)"
   ]
  },
  {
   "cell_type": "markdown",
   "metadata": {
    "collapsed": false
   },
   "source": [
    "подставляем решение в\n",
    "\n",
    "$Laplasian\\,\\vec{E} + \\frac{\\mu \\omega^2}{c^2}\\left(\\epsilon + \\frac{4\\pi\\,\\sigma}{\\omega}\\,i\\right)\\,\\vec{E} - grad\\,div\\,\\vec{E} = 0$\n",
    "\n",
    "и принимая\n",
    "\n",
    "$div\\,\\vec{E} = 0$"
   ]
  },
  {
   "cell_type": "markdown",
   "metadata": {
    "collapsed": false
   },
   "source": [
    "приходим к\n",
    "\n",
    "$$-k_x'^{2}\\vec{E} + \\left(\\frac{\\mu \\omega^2}{c^2}\\left(\\epsilon + \\frac{4\\pi\\,\\sigma}{\\omega}\\,i\\right) - k_z^2\\right)\\,\\vec{E} = 0$$"
   ]
  },
  {
   "cell_type": "markdown",
   "metadata": {
    "collapsed": false
   },
   "source": [
    "$$k_x'=\\left(k_x + i\\,s_x \\right)^2 = k_x^2 - s_x^2 + 2\\,i\\,k_x\\,s_x$$"
   ]
  },
  {
   "cell_type": "markdown",
   "metadata": {
    "collapsed": false
   },
   "source": [
    "приходим к\n",
    "\n",
    "$$-\\left(k_x^2 - s_x^2 + 2\\,i\\,k_x\\,s_x\\right) + \\left(\\frac{\\mu \\omega^2}{c^2}\\epsilon + \\frac{\\mu \\omega^2}{c^2}\\frac{4\\pi\\,\\sigma}{\\omega}\\,i - k_z^2\\right) = 0$$\n"
   ]
  },
  {
   "cell_type": "markdown",
   "metadata": {
    "collapsed": false
   },
   "source": [
    "поскольку должны быть равны нулю как действительная так и мнимая части этого равенства, то\n",
    "\n",
    "$$\\frac{\\mu \\omega^2}{c^2}\\frac{4\\pi\\,\\sigma}{\\omega}\\,i - 2\\,i\\,k_x\\,s_x = 0$$"
   ]
  },
  {
   "cell_type": "markdown",
   "metadata": {
    "collapsed": false
   },
   "source": [
    "и\n",
    "\n",
    "$$\\left(\\frac{\\mu \\omega^2}{c^2}\\epsilon - k_z^2\\right) - \\left(k_x^2 - s_x^2 \\right) = 0$$"
   ]
  },
  {
   "cell_type": "markdown",
   "metadata": {
    "collapsed": false
   },
   "source": [
    "$$ 2\\,i\\,k_x\\,s_x = \\frac{\\mu \\omega}{c^2}{4\\pi\\,\\sigma}\\,i$$"
   ]
  },
  {
   "cell_type": "markdown",
   "metadata": {
    "collapsed": false
   },
   "source": [
    "$$ s_x = \\frac{\\mu \\omega}{c^2}\\frac{2\\pi\\,\\sigma}{k_x}$$"
   ]
  },
  {
   "cell_type": "markdown",
   "metadata": {
    "collapsed": false
   },
   "source": [
    "и\n",
    "\n",
    "$$\\frac{\\mu \\omega^2}{c^2}\\epsilon - k_z^2 - k_x^2 + \\left(\\frac{\\mu \\omega}{c^2}\\frac{2\\pi\\,\\sigma}{k_x}\\right)^2 = 0$$"
   ]
  },
  {
   "cell_type": "code",
   "execution_count": 1,
   "metadata": {
    "collapsed": false
   },
   "outputs": [
   ],
   "source": [
    "from IPython.display import display, Math, Latex\n",
    "\n",
    "mu = var('mu')\n",
    "assume(mu, 'real')\n",
    "assume(mu>0)\n",
    "\n",
    "epsilon = var('epsilon')\n",
    "assume(epsilon, 'real')\n",
    "assume(epsilon>0)\n",
    "\n",
    "sigma = var('sigma')\n",
    "assume(sigma, 'real')\n",
    "assume(sigma>0)\n",
    "\n",
    "s_x = var ('s_x')\n",
    "assume(s_x, 'real')\n",
    "assume(s_x>0)\n",
    "\n",
    "kappa = var ('kappa')\n",
    "assume(kappa, 'real')\n",
    "assume(kappa>0)\n",
    "\n",
    "k_x = var ('k_x')\n",
    "assume(k_x, 'real')\n",
    "\n",
    "k_z = var ('k_z')\n",
    "assume(k_z, 'real')\n",
    "\n",
    "a = var('a')\n",
    "assume(a, 'real')\n",
    "assume(a>0)\n",
    "\n",
    "x = var('x')\n",
    "y = var('y')\n",
    "z = var('z')\n",
    "\n",
    "assume(x, 'real')\n",
    "assume(y, 'real')\n",
    "assume(z, 'real')\n",
    "\n",
    "c = var('c')\n",
    "assume(c, 'real')\n",
    "assume(c>0)\n",
    "\n",
    "omega = var('omega')\n",
    "assume(omega, 'real')"
   ]
  },
  {
   "cell_type": "markdown",
   "metadata": {
    "collapsed": false
   },
   "source": [
    "$$ s_x = \\frac{\\mu \\omega}{c^2}\\frac{2\\pi\\,\\sigma}{k_x}$$"
   ]
  },
  {
   "cell_type": "code",
   "execution_count": 2,
   "metadata": {
    "collapsed": false
   },
   "outputs": [
    {
     "name": "stdout",
     "output_type": "stream",
     "text": [
      "eq_kappa_inner_vacuum =\n"
     ]
    },
    {
     "data": {
      "text/latex": [
       "$\\displaystyle -k_{z}^{2} + \\frac{\\omega^{2}}{c^{2}} = \\kappa^{2}$"
      ],
      "text/plain": [
       "<IPython.core.display.Math object>"
      ]
     },
     "execution_count": 2,
     "metadata": {
     },
     "output_type": "execute_result"
    },
    {
     "name": "stdout",
     "output_type": "stream",
     "text": [
      "eq_bad_conductor =\n"
     ]
    },
    {
     "data": {
      "text/latex": [
       "$\\displaystyle -k_{x}^{2} - k_{z}^{2} + \\frac{\\epsilon \\mu \\omega^{2}}{c^{2}} + s_{x}^{2} = 0$"
      ],
      "text/plain": [
       "<IPython.core.display.Math object>"
      ]
     },
     "execution_count": 2,
     "metadata": {
     },
     "output_type": "execute_result"
    },
    {
     "name": "stdout",
     "output_type": "stream",
     "text": [
      "eq_s_bad_conductor =\n"
     ]
    },
    {
     "data": {
      "text/latex": [
       "$\\displaystyle s_{x} = \\frac{2 \\, \\pi \\mu \\omega \\sigma}{c^{2} k_{x}}$"
      ],
      "text/plain": [
       "<IPython.core.display.Math object>"
      ]
     },
     "execution_count": 2,
     "metadata": {
     },
     "output_type": "execute_result"
    }
   ],
   "source": [
    "# исходя из вида дифференциальных уравнений для вакуума внутри резонатора и проводящего металла с потерями\n",
    "# записываем соотнощения для волнового вектора в виде уравнений\n",
    "eq_kappa_inner_vacuum = omega^2 / c^2 - k_z^2 == kappa^2\n",
    "print(\"eq_kappa_inner_vacuum =\")\n",
    "display(Math(latex(eq_kappa_inner_vacuum)))\n",
    "\n",
    "eq_bad_conductor   = mu * epsilon * omega^2 / c^2 - k_x^2 - k_z^2 + s_x^2 == 0\n",
    "eq_s_bad_conductor = s_x == mu * omega / c^2 * (2*pi*sigma/k_x)\n",
    "\n",
    "print(\"eq_bad_conductor =\")\n",
    "display(Math(latex(eq_bad_conductor)))\n",
    "\n",
    "print(\"eq_s_bad_conductor =\")\n",
    "display(Math(latex(eq_s_bad_conductor)))"
   ]
  },
  {
   "cell_type": "code",
   "execution_count": 3,
   "metadata": {
    "collapsed": false
   },
   "outputs": [
   ],
   "source": [
    "simplify_epsilon_0_mu_1 = False"
   ]
  },
  {
   "cell_type": "code",
   "execution_count": 4,
   "metadata": {
    "collapsed": false
   },
   "outputs": [
   ],
   "source": [
    "if simplify_epsilon_0_mu_1:\n",
    "    eq_bad_conductor   = eq_bad_conductor  .subs(epsilon == 0, mu == 1)\n",
    "    eq_s_bad_conductor = eq_s_bad_conductor.subs(epsilon == 0, mu == 1)\n",
    "\n",
    "    print(\"eq_bad_conductor =\")\n",
    "    display(Math(latex(eq_bad_conductor)))\n",
    "\n",
    "    print(\"eq_s_bad_conductor =\")\n",
    "    display(Math(latex(eq_s_bad_conductor)))"
   ]
  },
  {
   "cell_type": "code",
   "execution_count": 5,
   "metadata": {
    "collapsed": false
   },
   "outputs": [
    {
     "name": "stdout",
     "output_type": "stream",
     "text": [
      "s_bad_conductor =\n"
     ]
    },
    {
     "data": {
      "text/latex": [
       "$\\displaystyle \\left[s_{x} = \\frac{2 \\, \\pi \\mu \\omega \\sigma}{c^{2} k_{x}}\\right]$"
      ],
      "text/plain": [
       "<IPython.core.display.Math object>"
      ]
     },
     "execution_count": 5,
     "metadata": {
     },
     "output_type": "execute_result"
    },
    {
     "name": "stdout",
     "output_type": "stream",
     "text": [
      "eq_subs_bad_conductor =\n"
     ]
    },
    {
     "data": {
      "text/latex": [
       "$\\displaystyle -k_{x}^{2} - k_{z}^{2} + \\frac{\\epsilon \\mu \\omega^{2}}{c^{2}} + \\frac{4 \\, \\pi^{2} \\mu^{2} \\omega^{2} \\sigma^{2}}{c^{4} k_{x}^{2}} = 0$"
      ],
      "text/plain": [
       "<IPython.core.display.Math object>"
      ]
     },
     "execution_count": 5,
     "metadata": {
     },
     "output_type": "execute_result"
    },
    {
     "name": "stdout",
     "output_type": "stream",
     "text": [
      "omega2_sol =\n"
     ]
    },
    {
     "data": {
      "text/latex": [
       "$\\displaystyle \\left[\\omega^{2} = \\frac{c^{4} k_{x}^{4} + c^{4} k_{x}^{2} k_{z}^{2}}{c^{2} \\epsilon k_{x}^{2} \\mu + 4 \\, \\pi^{2} \\mu^{2} \\sigma^{2}}\\right]$"
      ],
      "text/plain": [
       "<IPython.core.display.Math object>"
      ]
     },
     "execution_count": 5,
     "metadata": {
     },
     "output_type": "execute_result"
    },
    {
     "name": "stdout",
     "output_type": "stream",
     "text": [
      "E_inner_vacuum =\n"
     ]
    },
    {
     "data": {
      "text/latex": [
       "$\\displaystyle K_{2} \\cos\\left(\\kappa x\\right) + K_{1} \\sin\\left(\\kappa x\\right)$"
      ],
      "text/plain": [
       "<IPython.core.display.Math object>"
      ]
     },
     "execution_count": 5,
     "metadata": {
     },
     "output_type": "execute_result"
    }
   ],
   "source": [
    "s_bad_conductor = solve(eq_s_bad_conductor, s_x)\n",
    "print(\"s_bad_conductor =\")\n",
    "display(Math(latex(s_bad_conductor)))\n",
    "\n",
    "eq_subs_bad_conductor = eq_bad_conductor.subs(s_bad_conductor).full_simplify().expand()\n",
    "print(\"eq_subs_bad_conductor =\")\n",
    "display(Math(latex(eq_subs_bad_conductor)))\n",
    "\n",
    "omega2_sol = solve(eq_subs_bad_conductor, omega^2)\n",
    "print(\"omega2_sol =\")\n",
    "display(Math(latex(omega2_sol)))\n",
    "\n",
    "# решаем полученные обыкновенные дифференциальные уравнения\n",
    "E = function('E')(x)\n",
    "\n",
    "de_inner_vacuum = diff (E, x, 2) + kappa^2 * E == 0\n",
    "E_inner_vacuum = desolve(de_inner_vacuum, E, ivar = x)\n",
    "\n",
    "# получая таким образом выражения для электрического поля в вакуума внутри резонатора и внутри проводящего металла с потерями\n",
    "print(\"E_inner_vacuum =\")\n",
    "display(Math(latex(E_inner_vacuum)))\n",
    "# _K2*cos(kappa*x) + _K1*sin(kappa*x)"
   ]
  },
  {
   "cell_type": "code",
   "execution_count": 6,
   "metadata": {
    "collapsed": false
   },
   "outputs": [
   ],
   "source": [
    "B1_z = var ('B1_z')\n",
    "B2_z = var ('B2_z')\n",
    "A2_z = var ('A2_z')\n",
    "\n",
    "B1_x = var ('B1_x')\n",
    "B2_x = var ('B2_x')\n",
    "A2_x = var ('A2_x')\n",
    "\n",
    "B1_y = var ('B1_y')\n",
    "B2_y = var ('B2_y')\n",
    "A2_y = var ('A2_y')"
   ]
  },
  {
   "cell_type": "code",
   "execution_count": 7,
   "metadata": {
    "collapsed": false
   },
   "outputs": [
   ],
   "source": [
    "# 2D\n",
    "set_Ey_0 = True"
   ]
  },
  {
   "cell_type": "code",
   "execution_count": 8,
   "metadata": {
    "collapsed": false
   },
   "outputs": [
   ],
   "source": [
    "if set_Ey_0:\n",
    "    B1_y = 0\n",
    "    B2_y = 0\n",
    "    A2_y = 0\n",
    "    k_y  = 0"
   ]
  },
  {
   "cell_type": "code",
   "execution_count": 9,
   "metadata": {
    "collapsed": false
   },
   "outputs": [
    {
     "name": "stdout",
     "output_type": "stream",
     "text": [
      "E_inner_vacuum_z (x) \n"
     ]
    },
    {
     "data": {
      "text/latex": [
       "$\\displaystyle \\mathit{B1}_{z} \\cos\\left(\\kappa x\\right) + \\mathit{B2}_{z} \\sin\\left(\\kappa x\\right)$"
      ],
      "text/plain": [
       "<IPython.core.display.Math object>"
      ]
     },
     "execution_count": 9,
     "metadata": {
     },
     "output_type": "execute_result"
    },
    {
     "name": "stdout",
     "output_type": "stream",
     "text": [
      "E_inner_vacuum_x (x) =\n"
     ]
    },
    {
     "data": {
      "text/latex": [
       "$\\displaystyle \\mathit{B1}_{x} \\cos\\left(\\kappa x\\right) + \\mathit{B2}_{x} \\sin\\left(\\kappa x\\right)$"
      ],
      "text/plain": [
       "<IPython.core.display.Math object>"
      ]
     },
     "execution_count": 9,
     "metadata": {
     },
     "output_type": "execute_result"
    },
    {
     "name": "stdout",
     "output_type": "stream",
     "text": [
      "E_inner_vacuum_y (x) =\n"
     ]
    },
    {
     "data": {
      "text/latex": [
       "$\\displaystyle 0$"
      ],
      "text/plain": [
       "<IPython.core.display.Math object>"
      ]
     },
     "execution_count": 9,
     "metadata": {
     },
     "output_type": "execute_result"
    }
   ],
   "source": [
    "# выражения для электрического поля\n",
    "# в вакууме внутри резонатора \n",
    "E_inner_vacuum_z (x) = B1_z*cos(kappa*x) + B2_z*sin(kappa*x)\n",
    "E_inner_vacuum_x (x) = B1_x*cos(kappa*x) + B2_x*sin(kappa*x)\n",
    "E_inner_vacuum_y (x) = B1_y*cos(kappa*x) + B2_y*sin(kappa*x)\n",
    "\n",
    "print (\"E_inner_vacuum_z (x) \")\n",
    "display(Math(latex(E_inner_vacuum_z (x))))\n",
    "print (\"E_inner_vacuum_x (x) =\")\n",
    "display(Math(latex(E_inner_vacuum_x (x))))\n",
    "print (\"E_inner_vacuum_y (x) =\")\n",
    "display(Math(latex(E_inner_vacuum_y (x))))"
   ]
  },
  {
   "cell_type": "markdown",
   "metadata": {
    "collapsed": false
   },
   "source": [
    "решение для проводящего металла с потерями\n",
    "\n",
    "$\\vec{E} = \\vec{E}\\,e^{i\\,k_x'\\,x}\\,e^{i\\,k_z\\,z}\\,e^{-i\\,\\omega\\,t}$\n",
    "\n",
    "$k_x' = k_x + i\\,s_x$\n",
    "\n",
    "$\\vec{E} = \\vec{E}\\,e^{-s_x\\,x}\\,e^{i\\,k_x\\,x}\\,e^{i\\,k_z\\,z}\\,e^{-i\\,\\omega\\,t}$"
   ]
  },
  {
   "cell_type": "code",
   "execution_count": 10,
   "metadata": {
    "collapsed": false
   },
   "outputs": [
    {
     "name": "stdout",
     "output_type": "stream",
     "text": [
      "E_bad_conductor_z (x) \n"
     ]
    },
    {
     "data": {
      "text/latex": [
       "$\\displaystyle \\mathit{A2}_{z} e^{\\left(-i \\, {\\left(a - x\\right)} k_{x} + {\\left(a - x\\right)} s_{x}\\right)}$"
      ],
      "text/plain": [
       "<IPython.core.display.Math object>"
      ]
     },
     "execution_count": 10,
     "metadata": {
     },
     "output_type": "execute_result"
    },
    {
     "name": "stdout",
     "output_type": "stream",
     "text": [
      "E_bad_conductor_x (x) =\n"
     ]
    },
    {
     "data": {
      "text/latex": [
       "$\\displaystyle \\mathit{A2}_{x} e^{\\left(-i \\, {\\left(a - x\\right)} k_{x} + {\\left(a - x\\right)} s_{x}\\right)}$"
      ],
      "text/plain": [
       "<IPython.core.display.Math object>"
      ]
     },
     "execution_count": 10,
     "metadata": {
     },
     "output_type": "execute_result"
    },
    {
     "name": "stdout",
     "output_type": "stream",
     "text": [
      "E_bad_conductor_y (x) =\n"
     ]
    },
    {
     "data": {
      "text/latex": [
       "$\\displaystyle 0$"
      ],
      "text/plain": [
       "<IPython.core.display.Math object>"
      ]
     },
     "execution_count": 10,
     "metadata": {
     },
     "output_type": "execute_result"
    }
   ],
   "source": [
    "# x > a\n",
    "# в проводящем металле с потерями\n",
    "if False:\n",
    "    E_bad_conductor_z (x) = A2_z * e^(-s_x*x) * e^(I*k_x*x)\n",
    "    E_bad_conductor_x (x) = A2_x * e^(-s_x*x) * e^(I*k_x*x)\n",
    "    E_bad_conductor_y (x) = A2_y * e^(-s_x*x) * e^(I*k_x*x)\n",
    "else:\n",
    "    E_bad_conductor_z (x) = A2_z * e^(-s_x*(x-a)) * e^(I*k_x*(x-a))\n",
    "    E_bad_conductor_x (x) = A2_x * e^(-s_x*(x-a)) * e^(I*k_x*(x-a))\n",
    "    E_bad_conductor_y (x) = A2_y * e^(-s_x*(x-a)) * e^(I*k_x*(x-a))\n",
    "\n",
    "print (\"E_bad_conductor_z (x) \")\n",
    "display(Math(latex(E_bad_conductor_z (x))))\n",
    "print (\"E_bad_conductor_x (x) =\")\n",
    "display(Math(latex(E_bad_conductor_x (x))))\n",
    "print (\"E_bad_conductor_y (x) =\")\n",
    "display(Math(latex(E_bad_conductor_y (x))))"
   ]
  },
  {
   "cell_type": "code",
   "execution_count": 11,
   "metadata": {
    "collapsed": false
   },
   "outputs": [
    {
     "data": {
      "text/plain": [
       "-k_x^2 - 2*I*k_x*s_x + s_x^2"
      ]
     },
     "execution_count": 11,
     "metadata": {
     },
     "output_type": "execute_result"
    }
   ],
   "source": [
    "(E_bad_conductor_z (x).diff(x, 2)/E_bad_conductor_z (x)).expand()"
   ]
  },
  {
   "cell_type": "code",
   "execution_count": 12,
   "metadata": {
    "collapsed": false
   },
   "outputs": [
    {
     "name": "stdout",
     "output_type": "stream",
     "text": [
      "H_inner_vacuum_y (x) \n"
     ]
    },
    {
     "data": {
      "text/latex": [
       "$\\displaystyle \\frac{{\\left(i \\, \\mathit{B2}_{z} \\kappa \\cos\\left(\\kappa x\\right) - i \\, \\mathit{B1}_{z} \\kappa \\sin\\left(\\kappa x\\right) + {\\left(\\mathit{B1}_{x} \\cos\\left(\\kappa x\\right) + \\mathit{B2}_{x} \\sin\\left(\\kappa x\\right)\\right)} k_{z}\\right)} c}{\\omega}$"
      ],
      "text/plain": [
       "<IPython.core.display.Math object>"
      ]
     },
     "execution_count": 12,
     "metadata": {
     },
     "output_type": "execute_result"
    },
    {
     "name": "stdout",
     "output_type": "stream",
     "text": [
      "H_bad_conductor_y (x) =\n"
     ]
    },
    {
     "data": {
      "text/latex": [
       "$\\displaystyle \\frac{{\\left(i \\, \\mathit{A2}_{z} {\\left(i \\, k_{x} - s_{x}\\right)} e^{\\left(-i \\, {\\left(a - x\\right)} k_{x} + {\\left(a - x\\right)} s_{x}\\right)} + \\mathit{A2}_{x} k_{z} e^{\\left(-i \\, {\\left(a - x\\right)} k_{x} + {\\left(a - x\\right)} s_{x}\\right)}\\right)} c}{\\mu \\omega}$"
      ],
      "text/plain": [
       "<IPython.core.display.Math object>"
      ]
     },
     "execution_count": 12,
     "metadata": {
     },
     "output_type": "execute_result"
    }
   ],
   "source": [
    "# выражения для магнитного поля в вакууме внутри резонатора и в проводящем металле с потерями\n",
    "# rot E = -1/c dB/dt\n",
    "# H_y = c / (I * omega * mu) * (diff(E_x, z) - diff(E_z, x))\n",
    "\n",
    "H_inner_vacuum_y  (x) = c / (I * omega)      * (I*k_z*E_inner_vacuum_x  (x) - diff(E_inner_vacuum_z  (x), x))\n",
    "H_bad_conductor_y (x) = c / (I * omega * mu) * (I*k_z*E_bad_conductor_x (x) - diff(E_bad_conductor_z (x), x))\n",
    "\n",
    "H_inner_vacuum_y  (x) = c / (omega)      * (k_z*E_inner_vacuum_x  (x) + I * diff(E_inner_vacuum_z  (x), x))\n",
    "H_bad_conductor_y (x) = c / (omega * mu) * (k_z*E_bad_conductor_x (x) + I * diff(E_bad_conductor_z (x), x))\n",
    "\n",
    "print (\"H_inner_vacuum_y (x) \")\n",
    "display(Math(latex(H_inner_vacuum_y (x).simplify())))\n",
    "print (\"H_bad_conductor_y (x) =\")\n",
    "display(Math(latex(H_bad_conductor_y (x))))"
   ]
  },
  {
   "cell_type": "code",
   "execution_count": 13,
   "metadata": {
    "collapsed": false
   },
   "outputs": [
    {
     "name": "stdout",
     "output_type": "stream",
     "text": [
      "H_inner_vacuum_x (x) \n"
     ]
    },
    {
     "data": {
      "text/latex": [
       "$\\displaystyle 0$"
      ],
      "text/plain": [
       "<IPython.core.display.Math object>"
      ]
     },
     "execution_count": 13,
     "metadata": {
     },
     "output_type": "execute_result"
    },
    {
     "name": "stdout",
     "output_type": "stream",
     "text": [
      "H_bad_conductor_x (x) =\n"
     ]
    },
    {
     "data": {
      "text/latex": [
       "$\\displaystyle 0$"
      ],
      "text/plain": [
       "<IPython.core.display.Math object>"
      ]
     },
     "execution_count": 13,
     "metadata": {
     },
     "output_type": "execute_result"
    }
   ],
   "source": [
    "# выражения для магнитного поля в вакууме внутри резонатора и в проводящем металле с потерями\n",
    "# rot E = -1/c dB/dt\n",
    "# H_x = c / (I * omega * mu) * (diff(E_z, y) - diff(E_y, z))\n",
    "\n",
    "H_inner_vacuum_x  (x) = c / (I * omega)      * (I*k_y*E_inner_vacuum_z  (x) - I*k_z*E_inner_vacuum_y  (x))\n",
    "H_bad_conductor_x (x) = c / (I * omega * mu) * (I*k_y*E_bad_conductor_z (x) - I*k_z*E_bad_conductor_y (x))\n",
    "\n",
    "print (\"H_inner_vacuum_x (x) \")\n",
    "display(Math(latex(H_inner_vacuum_x (x).simplify())))\n",
    "print (\"H_bad_conductor_x (x) =\")\n",
    "display(Math(latex(H_bad_conductor_x (x))))"
   ]
  },
  {
   "cell_type": "code",
   "execution_count": 14,
   "metadata": {
    "collapsed": false
   },
   "outputs": [
    {
     "name": "stdout",
     "output_type": "stream",
     "text": [
      "H_inner_vacuum_z (x) \n"
     ]
    },
    {
     "data": {
      "text/latex": [
       "$\\displaystyle 0$"
      ],
      "text/plain": [
       "<IPython.core.display.Math object>"
      ]
     },
     "execution_count": 14,
     "metadata": {
     },
     "output_type": "execute_result"
    },
    {
     "name": "stdout",
     "output_type": "stream",
     "text": [
      "H_bad_conductor_z (x) =\n"
     ]
    },
    {
     "data": {
      "text/latex": [
       "$\\displaystyle 0$"
      ],
      "text/plain": [
       "<IPython.core.display.Math object>"
      ]
     },
     "execution_count": 14,
     "metadata": {
     },
     "output_type": "execute_result"
    }
   ],
   "source": [
    "# выражения для магнитного поля в вакууме внутри резонатора и в проводящем металле с потерями\n",
    "# rot E = -1/c dB/dt\n",
    "# H_z = c / (I * omega * mu) * (diff(E_y, x) - diff(E_x, y))\n",
    "\n",
    "H_inner_vacuum_z  (x) = c / (I * omega)      * (diff(E_inner_vacuum_y  (x), x) - I*k_y*E_inner_vacuum_x  (x))\n",
    "H_bad_conductor_z (x) = c / (I * omega * mu) * (diff(E_bad_conductor_y (x), x) - I*k_y*E_bad_conductor_x (x))\n",
    "\n",
    "print (\"H_inner_vacuum_z (x) \")\n",
    "display(Math(latex(H_inner_vacuum_z (x).simplify())))\n",
    "print (\"H_bad_conductor_z (x) =\")\n",
    "display(Math(latex(H_bad_conductor_z (x))))"
   ]
  },
  {
   "cell_type": "code",
   "execution_count": 15,
   "metadata": {
    "collapsed": false
   },
   "outputs": [
   ],
   "source": [
    "if simplify_epsilon_0_mu_1:\n",
    "    H_bad_conductor_y (x) = H_bad_conductor_y (x).subs(mu == 1)\n",
    "    H_bad_conductor_x (x) = H_bad_conductor_x (x).subs(mu == 1)\n",
    "    H_bad_conductor_z (x) = H_bad_conductor_z (x).subs(mu == 1)"
   ]
  },
  {
   "cell_type": "code",
   "execution_count": 16,
   "metadata": {
    "collapsed": false
   },
   "outputs": [
    {
     "name": "stdout",
     "output_type": "stream",
     "text": [
      "rot_H_inner_vacuum_x =\n"
     ]
    },
    {
     "data": {
      "text/latex": [
       "$\\displaystyle -\\frac{i \\, {\\left(i \\, \\mathit{B2}_{z} \\kappa \\cos\\left(\\kappa x\\right) - i \\, \\mathit{B1}_{z} \\kappa \\sin\\left(\\kappa x\\right) + {\\left(\\mathit{B1}_{x} \\cos\\left(\\kappa x\\right) + \\mathit{B2}_{x} \\sin\\left(\\kappa x\\right)\\right)} k_{z}\\right)} c k_{z}}{\\omega}$"
      ],
      "text/plain": [
       "<IPython.core.display.Math object>"
      ]
     },
     "execution_count": 16,
     "metadata": {
     },
     "output_type": "execute_result"
    },
    {
     "name": "stdout",
     "output_type": "stream",
     "text": [
      "rot_H_bad_conductor_x =\n"
     ]
    },
    {
     "data": {
      "text/latex": [
       "$\\displaystyle -\\frac{i \\, {\\left(i \\, \\mathit{A2}_{z} {\\left(i \\, k_{x} - s_{x}\\right)} e^{\\left(-i \\, {\\left(a - x\\right)} k_{x} + {\\left(a - x\\right)} s_{x}\\right)} + \\mathit{A2}_{x} k_{z} e^{\\left(-i \\, {\\left(a - x\\right)} k_{x} + {\\left(a - x\\right)} s_{x}\\right)}\\right)} c k_{z}}{\\mu \\omega}$"
      ],
      "text/plain": [
       "<IPython.core.display.Math object>"
      ]
     },
     "execution_count": 16,
     "metadata": {
     },
     "output_type": "execute_result"
    },
    {
     "name": "stdout",
     "output_type": "stream",
     "text": [
      "rot_H_inner_vacuum_y =\n"
     ]
    },
    {
     "data": {
      "text/latex": [
       "$\\displaystyle 0$"
      ],
      "text/plain": [
       "<IPython.core.display.Math object>"
      ]
     },
     "execution_count": 16,
     "metadata": {
     },
     "output_type": "execute_result"
    },
    {
     "name": "stdout",
     "output_type": "stream",
     "text": [
      "rot_H_bad_conductor_y =\n"
     ]
    },
    {
     "data": {
      "text/latex": [
       "$\\displaystyle 0$"
      ],
      "text/plain": [
       "<IPython.core.display.Math object>"
      ]
     },
     "execution_count": 16,
     "metadata": {
     },
     "output_type": "execute_result"
    },
    {
     "name": "stdout",
     "output_type": "stream",
     "text": [
      "rot_H_inner_vacuum_z =\n"
     ]
    },
    {
     "data": {
      "text/latex": [
       "$\\displaystyle \\frac{{\\left(-i \\, \\mathit{B1}_{z} \\kappa^{2} \\cos\\left(\\kappa x\\right) - i \\, \\mathit{B2}_{z} \\kappa^{2} \\sin\\left(\\kappa x\\right) + {\\left(\\mathit{B2}_{x} \\kappa \\cos\\left(\\kappa x\\right) - \\mathit{B1}_{x} \\kappa \\sin\\left(\\kappa x\\right)\\right)} k_{z}\\right)} c}{\\omega}$"
      ],
      "text/plain": [
       "<IPython.core.display.Math object>"
      ]
     },
     "execution_count": 16,
     "metadata": {
     },
     "output_type": "execute_result"
    },
    {
     "name": "stdout",
     "output_type": "stream",
     "text": [
      "rot_H_bad_conductor_z =\n"
     ]
    },
    {
     "data": {
      "text/latex": [
       "$\\displaystyle \\frac{{\\left(i \\, \\mathit{A2}_{z} {\\left(i \\, k_{x} - s_{x}\\right)}^{2} e^{\\left(-i \\, {\\left(a - x\\right)} k_{x} + {\\left(a - x\\right)} s_{x}\\right)} + \\mathit{A2}_{x} {\\left(i \\, k_{x} - s_{x}\\right)} k_{z} e^{\\left(-i \\, {\\left(a - x\\right)} k_{x} + {\\left(a - x\\right)} s_{x}\\right)}\\right)} c}{\\mu \\omega}$"
      ],
      "text/plain": [
       "<IPython.core.display.Math object>"
      ]
     },
     "execution_count": 16,
     "metadata": {
     },
     "output_type": "execute_result"
    }
   ],
   "source": [
    "# уравнение Максвелла для тока смещения\n",
    "# rot_H   = - I * epsilon * omega / c * E\n",
    "# rot_H_x = diff(H_z, y) - diff(H_y, z)\n",
    "# rot_H_y = diff(H_x, z) - diff(H_z, x)\n",
    "# rot_H_z = diff(H_y, x) - diff(H_x, y)\n",
    "\n",
    "rot_H_inner_vacuum_x  = I * k_y * H_inner_vacuum_z  (x) - I * k_z * H_inner_vacuum_y  (x)\n",
    "rot_H_bad_conductor_x = I * k_y * H_bad_conductor_z (x) - I * k_z * H_bad_conductor_y (x)\n",
    "\n",
    "rot_H_inner_vacuum_y  = I * k_z * H_inner_vacuum_x  (x) - diff(H_inner_vacuum_z  (x), x)\n",
    "rot_H_bad_conductor_y = I * k_z * H_bad_conductor_x (x) - diff(H_bad_conductor_z (x), x)\n",
    "\n",
    "rot_H_inner_vacuum_z  = diff(H_inner_vacuum_y  (x), x) - I * k_y * H_inner_vacuum_x  (x)\n",
    "rot_H_bad_conductor_z = diff(H_bad_conductor_y (x), x) - I * k_y * H_bad_conductor_x (x)\n",
    "\n",
    "print (\"rot_H_inner_vacuum_x =\")\n",
    "display(Math(latex(rot_H_inner_vacuum_x)))\n",
    "print (\"rot_H_bad_conductor_x =\")\n",
    "display(Math(latex(rot_H_bad_conductor_x)))\n",
    "\n",
    "print (\"rot_H_inner_vacuum_y =\")\n",
    "display(Math(latex(rot_H_inner_vacuum_y)))\n",
    "print (\"rot_H_bad_conductor_y =\")\n",
    "display(Math(latex(rot_H_bad_conductor_y)))\n",
    "\n",
    "print (\"rot_H_inner_vacuum_z =\")\n",
    "display(Math(latex(rot_H_inner_vacuum_z)))\n",
    "print (\"rot_H_bad_conductor_z =\")\n",
    "display(Math(latex(rot_H_bad_conductor_z)))"
   ]
  },
  {
   "cell_type": "code",
   "execution_count": 17,
   "metadata": {
    "collapsed": false
   },
   "outputs": [
   ],
   "source": [
    "eq_rot_H_inner_vacuum_x  = rot_H_inner_vacuum_x  == -I * omega / c * E_inner_vacuum_x (x)\n",
    "eq_rot_H_inner_vacuum_y  = rot_H_inner_vacuum_y  == -I * omega / c * E_inner_vacuum_y (x)\n",
    "eq_rot_H_inner_vacuum_z  = rot_H_inner_vacuum_z  == -I * omega / c * E_inner_vacuum_z (x)\n",
    "\n",
    "eq_rot_H_bad_conductor_x = rot_H_bad_conductor_x == -I * omega / c * epsilon * E_bad_conductor_x (x)\n",
    "eq_rot_H_bad_conductor_y = rot_H_bad_conductor_y == -I * omega / c * epsilon * E_bad_conductor_y (x)\n",
    "eq_rot_H_bad_conductor_z = rot_H_bad_conductor_z == -I * omega / c * epsilon * E_bad_conductor_z (x)"
   ]
  },
  {
   "cell_type": "code",
   "execution_count": 18,
   "metadata": {
    "collapsed": false
   },
   "outputs": [
   ],
   "source": [
    "if simplify_epsilon_0_mu_1:\n",
    "    eq_rot_H_bad_conductor_x = eq_rot_H_bad_conductor_x.subs(epsilon == 0)\n",
    "    eq_rot_H_bad_conductor_y = eq_rot_H_bad_conductor_y.subs(epsilon == 0)\n",
    "    eq_rot_H_bad_conductor_z = eq_rot_H_bad_conductor_z.subs(epsilon == 0)"
   ]
  },
  {
   "cell_type": "code",
   "execution_count": 19,
   "metadata": {
    "collapsed": false
   },
   "outputs": [
    {
     "name": "stdout",
     "output_type": "stream",
     "text": [
      "eq_rot_H_inner_vacuum_x =\n"
     ]
    },
    {
     "data": {
      "text/latex": [
       "$\\displaystyle -\\frac{i \\, {\\left(i \\, \\mathit{B2}_{z} \\kappa \\cos\\left(\\kappa x\\right) - i \\, \\mathit{B1}_{z} \\kappa \\sin\\left(\\kappa x\\right) + {\\left(\\mathit{B1}_{x} \\cos\\left(\\kappa x\\right) + \\mathit{B2}_{x} \\sin\\left(\\kappa x\\right)\\right)} k_{z}\\right)} c k_{z}}{\\omega} = -\\frac{i \\, {\\left(\\mathit{B1}_{x} \\cos\\left(\\kappa x\\right) + \\mathit{B2}_{x} \\sin\\left(\\kappa x\\right)\\right)} \\omega}{c}$"
      ],
      "text/plain": [
       "<IPython.core.display.Math object>"
      ]
     },
     "execution_count": 19,
     "metadata": {
     },
     "output_type": "execute_result"
    },
    {
     "name": "stdout",
     "output_type": "stream",
     "text": [
      "eq_rot_H_inner_vacuum_y =\n"
     ]
    },
    {
     "data": {
      "text/latex": [
       "$\\displaystyle 0 = 0$"
      ],
      "text/plain": [
       "<IPython.core.display.Math object>"
      ]
     },
     "execution_count": 19,
     "metadata": {
     },
     "output_type": "execute_result"
    },
    {
     "name": "stdout",
     "output_type": "stream",
     "text": [
      "eq_rot_H_inner_vacuum_z =\n"
     ]
    },
    {
     "data": {
      "text/latex": [
       "$\\displaystyle \\frac{{\\left(-i \\, \\mathit{B1}_{z} \\kappa^{2} \\cos\\left(\\kappa x\\right) - i \\, \\mathit{B2}_{z} \\kappa^{2} \\sin\\left(\\kappa x\\right) + {\\left(\\mathit{B2}_{x} \\kappa \\cos\\left(\\kappa x\\right) - \\mathit{B1}_{x} \\kappa \\sin\\left(\\kappa x\\right)\\right)} k_{z}\\right)} c}{\\omega} = -\\frac{i \\, {\\left(\\mathit{B1}_{z} \\cos\\left(\\kappa x\\right) + \\mathit{B2}_{z} \\sin\\left(\\kappa x\\right)\\right)} \\omega}{c}$"
      ],
      "text/plain": [
       "<IPython.core.display.Math object>"
      ]
     },
     "execution_count": 19,
     "metadata": {
     },
     "output_type": "execute_result"
    }
   ],
   "source": [
    "print (\"eq_rot_H_inner_vacuum_x =\")\n",
    "display(Math(latex(eq_rot_H_inner_vacuum_x.simplify())))\n",
    "\n",
    "print (\"eq_rot_H_inner_vacuum_y =\")\n",
    "display(Math(latex(eq_rot_H_inner_vacuum_y.simplify())))\n",
    "\n",
    "print (\"eq_rot_H_inner_vacuum_z =\")\n",
    "display(Math(latex(eq_rot_H_inner_vacuum_z.simplify())))"
   ]
  },
  {
   "cell_type": "code",
   "execution_count": 20,
   "metadata": {
    "collapsed": false
   },
   "outputs": [
    {
     "name": "stdout",
     "output_type": "stream",
     "text": [
      "eq_rot_H_bad_conductor_x =\n"
     ]
    },
    {
     "data": {
      "text/latex": [
       "$\\displaystyle -\\frac{i \\, {\\left(i \\, \\mathit{A2}_{z} {\\left(i \\, k_{x} - s_{x}\\right)} e^{\\left(-i \\, {\\left(a - x\\right)} k_{x} + {\\left(a - x\\right)} s_{x}\\right)} + \\mathit{A2}_{x} k_{z} e^{\\left(-i \\, {\\left(a - x\\right)} k_{x} + {\\left(a - x\\right)} s_{x}\\right)}\\right)} c k_{z}}{\\mu \\omega} = -\\frac{i \\, \\mathit{A2}_{x} \\epsilon \\omega e^{\\left(-i \\, {\\left(a - x\\right)} k_{x} + {\\left(a - x\\right)} s_{x}\\right)}}{c}$"
      ],
      "text/plain": [
       "<IPython.core.display.Math object>"
      ]
     },
     "execution_count": 20,
     "metadata": {
     },
     "output_type": "execute_result"
    },
    {
     "name": "stdout",
     "output_type": "stream",
     "text": [
      "eq_rot_H_bad_conductor_y =\n"
     ]
    },
    {
     "data": {
      "text/latex": [
       "$\\displaystyle 0 = 0$"
      ],
      "text/plain": [
       "<IPython.core.display.Math object>"
      ]
     },
     "execution_count": 20,
     "metadata": {
     },
     "output_type": "execute_result"
    },
    {
     "name": "stdout",
     "output_type": "stream",
     "text": [
      "eq_rot_H_bad_conductor_z =\n"
     ]
    },
    {
     "data": {
      "text/latex": [
       "$\\displaystyle \\frac{{\\left(i \\, \\mathit{A2}_{z} {\\left(i \\, k_{x} - s_{x}\\right)}^{2} e^{\\left(-i \\, {\\left(a - x\\right)} k_{x} + {\\left(a - x\\right)} s_{x}\\right)} + \\mathit{A2}_{x} {\\left(i \\, k_{x} - s_{x}\\right)} k_{z} e^{\\left(-i \\, {\\left(a - x\\right)} k_{x} + {\\left(a - x\\right)} s_{x}\\right)}\\right)} c}{\\mu \\omega} = -\\frac{i \\, \\mathit{A2}_{z} \\epsilon \\omega e^{\\left(-i \\, {\\left(a - x\\right)} k_{x} + {\\left(a - x\\right)} s_{x}\\right)}}{c}$"
      ],
      "text/plain": [
       "<IPython.core.display.Math object>"
      ]
     },
     "execution_count": 20,
     "metadata": {
     },
     "output_type": "execute_result"
    }
   ],
   "source": [
    "print (\"eq_rot_H_bad_conductor_x =\")\n",
    "display(Math(latex(eq_rot_H_bad_conductor_x.simplify())))\n",
    "\n",
    "print (\"eq_rot_H_bad_conductor_y =\")\n",
    "display(Math(latex(eq_rot_H_bad_conductor_y.simplify())))\n",
    "\n",
    "print (\"eq_rot_H_bad_conductor_z =\")\n",
    "display(Math(latex(eq_rot_H_bad_conductor_z.simplify())))"
   ]
  },
  {
   "cell_type": "code",
   "execution_count": 21,
   "metadata": {
    "collapsed": false
   },
   "outputs": [
    {
     "data": {
      "text/latex": [
       "$\\displaystyle \\left[\\mathit{B1}_{x} = -\\frac{i \\, \\mathit{B2}_{z} c^{2} k_{z} \\kappa}{c^{2} k_{z}^{2} - \\omega^{2}}\\right]$"
      ],
      "text/plain": [
       "<IPython.core.display.Math object>"
      ]
     },
     "execution_count": 21,
     "metadata": {
     },
     "output_type": "execute_result"
    }
   ],
   "source": [
    "res = solve(eq_rot_H_inner_vacuum_x.subs(B1_z == 0, B2_x == 0), B1_x)\n",
    "display(Math(latex(res)))"
   ]
  },
  {
   "cell_type": "code",
   "execution_count": 22,
   "metadata": {
    "collapsed": false
   },
   "outputs": [
    {
     "data": {
      "text/latex": [
       "$\\displaystyle \\left[\\kappa = \\frac{\\sqrt{-c^{2} k_{z}^{2} + \\omega^{2}}}{c}\\right]$"
      ],
      "text/plain": [
       "<IPython.core.display.Math object>"
      ]
     },
     "execution_count": 22,
     "metadata": {
     },
     "output_type": "execute_result"
    }
   ],
   "source": [
    "res = solve(eq_kappa_inner_vacuum, kappa)\n",
    "display(Math(latex(res)))"
   ]
  },
  {
   "cell_type": "code",
   "execution_count": 23,
   "metadata": {
    "collapsed": false
   },
   "outputs": [
    {
     "data": {
      "text/latex": [
       "$\\displaystyle \\left[\\mathit{B1}_{x} = \\frac{-i \\, \\mathit{B2}_{z} c^{2} \\kappa^{2} + i \\, \\mathit{B2}_{z} \\omega^{2}}{c^{2} k_{z} \\kappa}\\right]$"
      ],
      "text/plain": [
       "<IPython.core.display.Math object>"
      ]
     },
     "execution_count": 23,
     "metadata": {
     },
     "output_type": "execute_result"
    }
   ],
   "source": [
    "res = solve( eq_rot_H_inner_vacuum_z.subs(B1_z == 0, B2_x == 0), B1_x)\n",
    "display(Math(latex(res)))"
   ]
  },
  {
   "cell_type": "code",
   "execution_count": 24,
   "metadata": {
    "collapsed": false
   },
   "outputs": [
    {
     "data": {
      "text/plain": [
       "(A2_z, A2_x)"
      ]
     },
     "execution_count": 24,
     "metadata": {
     },
     "output_type": "execute_result"
    }
   ],
   "source": [
    " E_bad_conductor_z (a), E_bad_conductor_x (a)"
   ]
  },
  {
   "cell_type": "code",
   "execution_count": 25,
   "metadata": {
    "collapsed": false
   },
   "outputs": [
    {
     "data": {
      "text/plain": [
       "A2_z*e^(-I*(a - x)*k_x + (a - x)*s_x)"
      ]
     },
     "execution_count": 25,
     "metadata": {
     },
     "output_type": "execute_result"
    }
   ],
   "source": [
    "E_bad_conductor_z (x)"
   ]
  },
  {
   "cell_type": "code",
   "execution_count": 26,
   "metadata": {
    "collapsed": false
   },
   "outputs": [
    {
     "name": "stdout",
     "output_type": "stream",
     "text": [
      "eqEz_0 = \n"
     ]
    },
    {
     "data": {
      "text/latex": [
       "$\\displaystyle \\mathit{B1}_{z} = 0$"
      ],
      "text/plain": [
       "<IPython.core.display.Math object>"
      ]
     },
     "execution_count": 26,
     "metadata": {
     },
     "output_type": "execute_result"
    },
    {
     "name": "stdout",
     "output_type": "stream",
     "text": [
      "eqEy_0 = \n"
     ]
    },
    {
     "data": {
      "text/latex": [
       "$\\displaystyle 0 = 0$"
      ],
      "text/plain": [
       "<IPython.core.display.Math object>"
      ]
     },
     "execution_count": 26,
     "metadata": {
     },
     "output_type": "execute_result"
    }
   ],
   "source": [
    "# граничные условия на границе идеального проводника и вакуума внутри резонатора\n",
    "# тангенциальная компонента электрического поля\n",
    "eqEz_0  = E_inner_vacuum_z (0) == 0\n",
    "eqEy_0  = E_inner_vacuum_y (0) == 0\n",
    "\n",
    "print (\"eqEz_0 = \")\n",
    "display(Math(latex(eqEz_0)))\n",
    "print (\"eqEy_0 = \")\n",
    "display(Math(latex(eqEy_0)))"
   ]
  },
  {
   "cell_type": "code",
   "execution_count": 27,
   "metadata": {
    "collapsed": false
   },
   "outputs": [
    {
     "name": "stdout",
     "output_type": "stream",
     "text": [
      "eqEz_a = \n"
     ]
    },
    {
     "data": {
      "text/latex": [
       "$\\displaystyle \\mathit{B1}_{z} \\cos\\left(a \\kappa\\right) + \\mathit{B2}_{z} \\sin\\left(a \\kappa\\right) = \\mathit{A2}_{z}$"
      ],
      "text/plain": [
       "<IPython.core.display.Math object>"
      ]
     },
     "execution_count": 27,
     "metadata": {
     },
     "output_type": "execute_result"
    },
    {
     "name": "stdout",
     "output_type": "stream",
     "text": [
      "eqEy_a = \n"
     ]
    },
    {
     "data": {
      "text/latex": [
       "$\\displaystyle 0 = 0$"
      ],
      "text/plain": [
       "<IPython.core.display.Math object>"
      ]
     },
     "execution_count": 27,
     "metadata": {
     },
     "output_type": "execute_result"
    }
   ],
   "source": [
    "# граничные условия на границе вакуума внутри резонатора и проводящего металла с потерями\n",
    "# тангенциальная компонента электрического поля\n",
    "eqEz_a  = E_inner_vacuum_z (a) == E_bad_conductor_z (a)\n",
    "eqEy_a  = E_inner_vacuum_y (a) == E_bad_conductor_y (a)\n",
    "\n",
    "print (\"eqEz_a = \")\n",
    "display(Math(latex(eqEz_a)))\n",
    "print (\"eqEy_a = \")\n",
    "display(Math(latex(eqEy_a)))"
   ]
  },
  {
   "cell_type": "code",
   "execution_count": 28,
   "metadata": {
    "collapsed": false
   },
   "outputs": [
    {
     "name": "stdout",
     "output_type": "stream",
     "text": [
      "eqDx_a =\n"
     ]
    },
    {
     "data": {
      "text/latex": [
       "$\\displaystyle \\mathit{B1}_{x} \\cos\\left(a \\kappa\\right) + \\mathit{B2}_{x} \\sin\\left(a \\kappa\\right) = \\mathit{A2}_{x} \\epsilon$"
      ],
      "text/plain": [
       "<IPython.core.display.Math object>"
      ]
     },
     "execution_count": 28,
     "metadata": {
     },
     "output_type": "execute_result"
    }
   ],
   "source": [
    "# нормальная компонента электрического смещения\n",
    "eqDx_a  = E_inner_vacuum_x (a) == E_bad_conductor_x (a) * epsilon\n",
    "\n",
    "print (\"eqDx_a =\")\n",
    "display(Math(latex(eqDx_a)))"
   ]
  },
  {
   "cell_type": "code",
   "execution_count": 29,
   "metadata": {
    "collapsed": false
   },
   "outputs": [
    {
     "name": "stdout",
     "output_type": "stream",
     "text": [
      "eqHz_a =\n"
     ]
    },
    {
     "data": {
      "text/latex": [
       "$\\displaystyle 0 = 0$"
      ],
      "text/plain": [
       "<IPython.core.display.Math object>"
      ]
     },
     "execution_count": 29,
     "metadata": {
     },
     "output_type": "execute_result"
    },
    {
     "name": "stdout",
     "output_type": "stream",
     "text": [
      "eqHy_a =\n"
     ]
    },
    {
     "data": {
      "text/latex": [
       "$\\displaystyle \\frac{{\\left(i \\, \\mathit{A2}_{z} {\\left(i \\, k_{x} - s_{x}\\right)} + \\mathit{A2}_{x} k_{z}\\right)} c}{\\mu \\omega} = \\frac{{\\left(i \\, \\mathit{B2}_{z} \\kappa \\cos\\left(a \\kappa\\right) - i \\, \\mathit{B1}_{z} \\kappa \\sin\\left(a \\kappa\\right) + {\\left(\\mathit{B1}_{x} \\cos\\left(a \\kappa\\right) + \\mathit{B2}_{x} \\sin\\left(a \\kappa\\right)\\right)} k_{z}\\right)} c}{\\omega}$"
      ],
      "text/plain": [
       "<IPython.core.display.Math object>"
      ]
     },
     "execution_count": 29,
     "metadata": {
     },
     "output_type": "execute_result"
    }
   ],
   "source": [
    "# тангенциальная компонента напряженности магнитного поля\n",
    "eqHz_a  = H_bad_conductor_z (a)  == H_inner_vacuum_z (a)\n",
    "eqHy_a  = H_bad_conductor_y (a)  == H_inner_vacuum_y (a)\n",
    "\n",
    "print (\"eqHz_a =\")\n",
    "display(Math(latex(eqHz_a)))\n",
    "print (\"eqHy_a =\")\n",
    "display(Math(latex(eqHy_a)))"
   ]
  },
  {
   "cell_type": "code",
   "execution_count": 30,
   "metadata": {
    "collapsed": false
   },
   "outputs": [
    {
     "name": "stdout",
     "output_type": "stream",
     "text": [
      "eqBx_a =\n"
     ]
    },
    {
     "data": {
      "text/latex": [
       "$\\displaystyle 0 = 0$"
      ],
      "text/plain": [
       "<IPython.core.display.Math object>"
      ]
     },
     "execution_count": 30,
     "metadata": {
     },
     "output_type": "execute_result"
    }
   ],
   "source": [
    "# нормальная компонента индукции магнитного поля\n",
    "eqBx_a  = mu * H_bad_conductor_x (a)  == H_inner_vacuum_x (a)\n",
    "\n",
    "print (\"eqBx_a =\")\n",
    "display(Math(latex(eqBx_a)))"
   ]
  },
  {
   "cell_type": "code",
   "execution_count": 31,
   "metadata": {
    "collapsed": false
   },
   "outputs": [
   ],
   "source": [
    "if simplify_epsilon_0_mu_1:\n",
    "    eqBx_a = eqBx_a.subs(mu == 1)\n",
    "    print (\"eqBx_a =\")\n",
    "    display(Math(latex(eqBx_a)))"
   ]
  },
  {
   "cell_type": "code",
   "execution_count": 32,
   "metadata": {
    "collapsed": false
   },
   "outputs": [
   ],
   "source": [
    "def GenerateMatrix(equsys, vars):\n",
    "    A=matrix(SR, [[(equ.lhs() - equ.rhs()).coefficient(v) for v in vars] for equ in equsys])\n",
    "    return A\n",
    "\n",
    "def GenerateMatrixSubs(equsys, vars, vars_subs):\n",
    "    A=matrix(SR, [[(equ.lhs() - equ.rhs()).subs(vars_subs).coefficient(v) for v in vars] for equ in equsys])\n",
    "    return A\n",
    "\n",
    "def GenerateMatrixMult(equsys, vars):\n",
    "    A=matrix(SR, [[(equ.lhs() - equ.rhs()).coefficient(v) * v for v in vars] for equ in equsys])\n",
    "    return A\n",
    "\n",
    "def reduceDependedRows(M):\n",
    "    print (\"\")\n",
    "    print (\"M.nrows()\", M.nrows())\n",
    "    print (\"M.ncols()\", M.ncols())\n",
    "    print (\"M.rank()\", M.rank())\n",
    "\n",
    "    M_pivot_rows = M.pivot_rows()\n",
    "    print (\"M.pivot_rows() =\", M_pivot_rows)\n",
    "\n",
    "    M_rows = M.rows()\n",
    "    for row in M_rows:\n",
    "        print (\"row =\", row)\n",
    "\n",
    "    reduced_list = []\n",
    "    for r in M_pivot_rows:\n",
    "        print (\"M_rows[\", r, \"] =\")\n",
    "        display(Math(latex(M_rows[r])))\n",
    "        reduced_list.append(M_rows[r])\n",
    "\n",
    "    reduced_M = matrix(SR, len(M_pivot_rows), M.ncols(), reduced_list)\n",
    "    reduced_M_det = reduced_M.det()\n",
    "    print (\"\")\n",
    "    print(\"reduced_M.det() =\", reduced_M_det)\n",
    "    return reduced_M\n",
    "\n",
    "\n",
    "def reduceRows(M, M_pivot_rows):\n",
    "    print (\"\")\n",
    "    print (\"M.nrows()\", M.nrows())\n",
    "    print (\"M.ncols()\", M.ncols())\n",
    "    print (\"M.rank()\", M.rank())\n",
    "\n",
    "    print (\"M.pivot_rows() =\", M_pivot_rows)\n",
    "\n",
    "    M_rows = M.rows()\n",
    "    for row in M_rows:\n",
    "        print (\"row =\", row)\n",
    "\n",
    "    reduced_list = []\n",
    "    for r in M_pivot_rows:\n",
    "        print (\"M_rows[\", r, \"] =\")\n",
    "        display(Math(latex(M_rows[r])))\n",
    "        reduced_list.append(M_rows[r])\n",
    "\n",
    "    reduced_M = matrix(SR, len(M_pivot_rows), M.ncols(), reduced_list)\n",
    "    reduced_M_det = reduced_M.det()\n",
    "    print (\"\")\n",
    "    print(\"reduced_M.det() =\", reduced_M_det)\n",
    "    return reduced_M"
   ]
  },
  {
   "cell_type": "code",
   "execution_count": 33,
   "metadata": {
    "collapsed": false
   },
   "outputs": [
   ],
   "source": [
    "def rot_H_solve(M_rotH, vars, eq_s_or_kappa, s_or_kappa):\n",
    "    if (M_rotH.ncols() != len(vars)):\n",
    "        return\n",
    "    n = M_rotH.nrows()\n",
    "    xx = vector(SR, vars)\n",
    "    yy = zero_vector(SR, n)\n",
    "    eqns = [(M_rotH*xx)[index] == yy[index] for index in range(n)]\n",
    "    display(Math(latex(eqns)))\n",
    "    res = []\n",
    "\n",
    "    for index in range(n):\n",
    "        eq = eqns[index]\n",
    "        # print(eq)\n",
    "        \n",
    "        if 0 == eq.lhs() and 0 == eq.rhs():\n",
    "            continue\n",
    "            \n",
    "        for var in vars:\n",
    "            print(\"solve([eq, var])\")\n",
    "            display(Math(latex([eq, var])))\n",
    "            print(\"\")\n",
    "            \n",
    "            sol = solve(eq, var)\n",
    "            print(\"sol=\")\n",
    "            display(Math(latex(sol)))\n",
    "            if 0 == len(sol):\n",
    "                continue\n",
    "\n",
    "            print(\"eq_s_or_kappa =\")\n",
    "            display(Math(latex(eq_s_or_kappa)))\n",
    "            sol_s_or_kappa_2 = solve(eq_s_or_kappa, s_or_kappa^2)\n",
    "            print(\"sol_s_or_kappa_2[0].rhs()=\")\n",
    "            display(Math(latex(sol_s_or_kappa_2[0].rhs())))\n",
    "            print(\"\")\n",
    "\n",
    "            vars_for_collect = vars\n",
    "            vars_for_collect.remove(var)\n",
    "\n",
    "            sl = sol[0].rhs()\n",
    "\n",
    "            for var_for_collect in vars_for_collect:\n",
    "                sl = sl.collect(var_for_collect)\n",
    "                    \n",
    "            print(\"sl =\")\n",
    "            display(Math(latex(sl)))\n",
    "            print(\"\")\n",
    "\n",
    "            ans1 = sl.subs( sol_s_or_kappa_2[0].rhs()*c^2 ==  sol_s_or_kappa_2[0].lhs()*c^2)\n",
    "            ans2 = sl.subs(-sol_s_or_kappa_2[0].rhs()*c^2 == -sol_s_or_kappa_2[0].lhs()*c^2)\n",
    "\n",
    "            ans = ans1\n",
    "            if ans1.number_of_operands() > ans2.number_of_operands():\n",
    "                ans = ans2\n",
    "\n",
    "            print(\"ans =\")\n",
    "            display(Math(latex(ans)))\n",
    "\n",
    "            if omega in ans.arguments():\n",
    "                print(ans.arguments())\n",
    "                sol_omega_2 = solve(eq_s_or_kappa, omega^2)\n",
    "                print(\"sol_omega_2 =\")\n",
    "                display(Math(latex(sol_omega_2[0].rhs())))\n",
    "                som = ans.subs(omega^2 == sol_omega_2[0].rhs())\n",
    "                print(\"som =\")\n",
    "                display(Math(latex(som)))\n",
    "                som = som.full_simplify()\n",
    "                print(\"som =\")\n",
    "                display(Math(latex(som)))\n",
    "                res.append(var == som)\n",
    "            else:\n",
    "                res.append(var == ans)\n",
    "\n",
    "            print(\"\")\n",
    "    return res"
   ]
  },
  {
   "cell_type": "code",
   "execution_count": 34,
   "metadata": {
    "collapsed": false
   },
   "outputs": [
   ],
   "source": [
    "def rot_H_solve_s(M_rotH, vars):\n",
    "    if (M_rotH.ncols() != len(vars)):\n",
    "        return\n",
    "    n = M_rotH.nrows()\n",
    "    xx = vector(SR, vars)\n",
    "    yy = zero_vector(SR, n)\n",
    "    eqns = [(M_rotH*xx)[index] == yy[index] for index in range(n)]\n",
    "    display(Math(latex(eqns)))\n",
    "    res = []\n",
    "\n",
    "    for index in range(n):\n",
    "        eq = eqns[index]\n",
    "        \n",
    "        if 0 == eq.lhs() and 0 == eq.rhs():\n",
    "            continue\n",
    "            \n",
    "        for var in vars:\n",
    "            print(\"solve([eq, var])\")\n",
    "            display(Math(latex([eq, var])))\n",
    "            print(\"\")\n",
    "            \n",
    "            sol = solve(eq, var)\n",
    "            if len(sol) > 0:\n",
    "                print(\"sol=\")\n",
    "                display(Math(latex(sol[0])))\n",
    "                \n",
    "                vars_for_collect = vars\n",
    "                vars_for_collect.remove(var)\n",
    "                \n",
    "                sl = sol[0].rhs()\n",
    "                \n",
    "                for var_for_collect in vars_for_collect:\n",
    "                    sl = sl.collect(var_for_collect)\n",
    "                    \n",
    "                print(\"sl =\")\n",
    "                display(Math(latex(sl)))\n",
    "                print(\"\")\n",
    "\n",
    "                res.append(var == sl)\n",
    " \n",
    "        print(\"\")\n",
    "    return res\n",
    "\n"
   ]
  },
  {
   "cell_type": "raw",
   "metadata": {
    "collapsed": false
   },
   "source": [
    "\n",
    "'''\n",
    "        sol = solve(eq, vars[0])\n",
    "        print(\"sol=\")\n",
    "        display(Math(latex(sol)))\n",
    "        if 0 == len(sol):\n",
    "            continue\n",
    "            \n",
    "        # print(solve(eq, vars[1]))\n",
    "        print(\"eq_s =\")\n",
    "        display(Math(latex(eq_s)))\n",
    "        print(\"s =\")\n",
    "        display(Math(latex(s)))\n",
    "        sol_s = solve(eq_s, s)\n",
    "        \n",
    "        print(\"sol_s=\")\n",
    "        display(Math(latex(sol_s)))\n",
    "        print(\"\")\n",
    "        \n",
    "        sl = sol[0].rhs().collect(vars[1])\n",
    "        print(\"sl =\")\n",
    "        display(Math(latex(sl)))\n",
    "        print(\"\")\n",
    "        \n",
    "        res.append(vars[0] == sl)\n",
    "        continue\n",
    "        \n",
    "        ans = sl.subs(sol_s)\n",
    "        print(\"ans =\")\n",
    "        display(Math(latex(ans)))\n",
    "        \n",
    "        if omega in ans.arguments():\n",
    "            print(ans.arguments())\n",
    "            \n",
    "            sol_omega = solve(eq_kappa, omega)\n",
    "            print(\"sol_omega =\")\n",
    "            display(Math(latex(sol_omega[0].rhs())))\n",
    "            \n",
    "            sol_omega_2 = solve(eq_kappa, omega^2)\n",
    "            print(\"sol_omega_2 =\")\n",
    "            display(Math(latex(sol_omega_2[0].rhs())))\n",
    "            \n",
    "            som = ans.subs(omega^2 == sol_omega_2[0].rhs())\n",
    "            print(\"som =\")\n",
    "            display(Math(latex(som)))\n",
    "            \n",
    "            som = som.subs(omega == sol_omega[0].rhs())\n",
    "            print(\"som =\")\n",
    "            display(Math(latex(som)))\n",
    "            \n",
    "            som = som.full_simplify().expand()\n",
    "            print(\"som =\")\n",
    "            display(Math(latex(som)))\n",
    "            res.append(vars[0] == som)\n",
    "        else:\n",
    "            res.append(vars[0] == ans)\n",
    "\n",
    "        print(\"\")\n",
    "    return res\n",
    "    '''"
   ]
  },
  {
   "cell_type": "code",
   "execution_count": 35,
   "metadata": {
    "collapsed": false
   },
   "outputs": [
   ],
   "source": [
    "eqsys_rotH_inner_vacuum = [eq_rot_H_inner_vacuum_x*(-I)*omega/c,\n",
    "                           #eq_rot_H_inner_vacuum_y*(-I)*omega/c,\n",
    "                           eq_rot_H_inner_vacuum_z*(-I)*omega/c,\n",
    "                          ]\n",
    "\n",
    "eqsys_rotH_bad_conductor = [eq_rot_H_bad_conductor_x*(-I)*omega/c,\n",
    "                            #eq_rot_H_bad_conductor_y*(-I)*omega/c,\n",
    "                            eq_rot_H_bad_conductor_z*(-I)*omega/c,\n",
    "                           ]\n",
    "\n",
    "eqsys_boundary_conditions = [#eqEz_0,\n",
    "                             #eqEy_0,\n",
    "                             eqDx_a,\n",
    "                             #eqEy_a,\n",
    "                             eqEz_a,\n",
    "                             #eqBx_a*(-I)*omega/c,\n",
    "                             #eqHz_a*(-I)*omega/c,\n",
    "#                             eqHy_a*(-I)*omega/c,\n",
    "                            ]"
   ]
  },
  {
   "cell_type": "code",
   "execution_count": 36,
   "metadata": {
    "collapsed": false
   },
   "outputs": [
    {
     "data": {
      "text/plain": [
       "[B1_x*cos(a*kappa) + B2_x*sin(a*kappa) == A2_x*epsilon,\n",
       " B1_z*cos(a*kappa) + B2_z*sin(a*kappa) == A2_z]"
      ]
     },
     "execution_count": 36,
     "metadata": {
     },
     "output_type": "execute_result"
    }
   ],
   "source": [
    "eqsys_boundary_conditions"
   ]
  },
  {
   "cell_type": "code",
   "execution_count": 37,
   "metadata": {
    "collapsed": false
   },
   "outputs": [
    {
     "name": "stdout",
     "output_type": "stream",
     "text": [
      "even_vars =\n"
     ]
    },
    {
     "data": {
      "text/latex": [
       "$\\displaystyle \\left[\\mathit{B1}_{x}, \\mathit{B2}_{z}, \\mathit{A2}_{x}, \\mathit{A2}_{z}\\right]$"
      ],
      "text/plain": [
       "<IPython.core.display.Math object>"
      ]
     },
     "execution_count": 37,
     "metadata": {
     },
     "output_type": "execute_result"
    },
    {
     "name": "stdout",
     "output_type": "stream",
     "text": [
      "even_vars_inner_vacuum =\n"
     ]
    },
    {
     "data": {
      "text/latex": [
       "$\\displaystyle \\left[\\mathit{B1}_{x}, \\mathit{B2}_{z}\\right]$"
      ],
      "text/plain": [
       "<IPython.core.display.Math object>"
      ]
     },
     "execution_count": 37,
     "metadata": {
     },
     "output_type": "execute_result"
    },
    {
     "name": "stdout",
     "output_type": "stream",
     "text": [
      "eqsys_rotH_inner_vacuum =\n"
     ]
    },
    {
     "data": {
      "text/latex": [
       "$\\displaystyle \\left[-{\\left(i \\, \\mathit{B2}_{z} \\kappa \\cos\\left(\\kappa x\\right) - i \\, \\mathit{B1}_{z} \\kappa \\sin\\left(\\kappa x\\right) + {\\left(\\mathit{B1}_{x} \\cos\\left(\\kappa x\\right) + \\mathit{B2}_{x} \\sin\\left(\\kappa x\\right)\\right)} k_{z}\\right)} k_{z} = -\\frac{{\\left(\\mathit{B1}_{x} \\cos\\left(\\kappa x\\right) + \\mathit{B2}_{x} \\sin\\left(\\kappa x\\right)\\right)} \\omega^{2}}{c^{2}}, -\\mathit{B1}_{z} \\kappa^{2} \\cos\\left(\\kappa x\\right) - \\mathit{B2}_{z} \\kappa^{2} \\sin\\left(\\kappa x\\right) - i \\, {\\left(\\mathit{B2}_{x} \\kappa \\cos\\left(\\kappa x\\right) - \\mathit{B1}_{x} \\kappa \\sin\\left(\\kappa x\\right)\\right)} k_{z} = -\\frac{{\\left(\\mathit{B1}_{z} \\cos\\left(\\kappa x\\right) + \\mathit{B2}_{z} \\sin\\left(\\kappa x\\right)\\right)} \\omega^{2}}{c^{2}}\\right]$"
      ],
      "text/plain": [
       "<IPython.core.display.Math object>"
      ]
     },
     "execution_count": 37,
     "metadata": {
     },
     "output_type": "execute_result"
    },
    {
     "name": "stdout",
     "output_type": "stream",
     "text": [
      "even_M_rotH_inner_vacuum =\n"
     ]
    },
    {
     "data": {
      "text/latex": [
       "$\\displaystyle \\left(\\begin{array}{rr}\n",
       "-k_{z}^{2} \\cos\\left(\\kappa x\\right) + \\frac{\\omega^{2} \\cos\\left(\\kappa x\\right)}{c^{2}} & -i \\, k_{z} \\kappa \\cos\\left(\\kappa x\\right) \\\\\n",
       "i \\, k_{z} \\kappa \\sin\\left(\\kappa x\\right) & -\\kappa^{2} \\sin\\left(\\kappa x\\right) + \\frac{\\omega^{2} \\sin\\left(\\kappa x\\right)}{c^{2}}\n",
       "\\end{array}\\right)$"
      ],
      "text/plain": [
       "<IPython.core.display.Math object>"
      ]
     },
     "execution_count": 37,
     "metadata": {
     },
     "output_type": "execute_result"
    }
   ],
   "source": [
    "# чётные\n",
    "even_vars = [B1_x, B1_y, B1_z, B2_x, B2_y, B2_z, A2_x, A2_y, A2_z]\n",
    "even_vars = [B1_x,       B1_z, B2_x,       B2_z, A2_x,       A2_z] #2d -> E_y = 0\n",
    "\n",
    "even_vars_inner_vacuum = [B1_x, B1_y, B1_z, B2_x, B2_y, B2_z]\n",
    "even_vars_inner_vacuum = [B1_x,       B1_z, B2_x,       B2_z] #2d -> E_y = 0\n",
    "\n",
    "# выражения для электрического поля в диэлектрике\n",
    "#   E_dielectric_z (x) = B1_z*cos(kappa*x) + B2_z*sin(kappa*x)\n",
    "#   E_dielectric_x (x) = B1_x*cos(kappa*x) + B2_x*sin(kappa*x)\n",
    "\n",
    "# граничные условия на границе идеального проводника и вакуума внутри резонатора\n",
    "# тангенциальная компонента электрического поля\n",
    "# B1_z == 0\n",
    "\n",
    "# условие отражающие выбор именно чётного характера решения\n",
    "# B2_x == 0\n",
    "\n",
    "even_eqs_inner_vacuum = [B2_x == 0, B1_z == 0]\n",
    "\n",
    "for even_eq_inner_vacuum in even_eqs_inner_vacuum:\n",
    "    even_vars.remove(even_eq_inner_vacuum.lhs())\n",
    "    even_vars_inner_vacuum.remove(even_eq_inner_vacuum.lhs())\n",
    "    \n",
    "print (\"even_vars =\")\n",
    "display(Math(latex(even_vars)))\n",
    "\n",
    "print (\"even_vars_inner_vacuum =\")\n",
    "display(Math(latex(even_vars_inner_vacuum)))\n",
    "\n",
    "even_M_rotH_inner_vacuum = GenerateMatrix(eqsys_rotH_inner_vacuum, even_vars_inner_vacuum)\n",
    "\n",
    "print (\"eqsys_rotH_inner_vacuum =\")\n",
    "display(Math(latex(eqsys_rotH_inner_vacuum)))\n",
    "\n",
    "print (\"even_M_rotH_inner_vacuum =\")\n",
    "display(Math(latex(even_M_rotH_inner_vacuum)))"
   ]
  },
  {
   "cell_type": "code",
   "execution_count": 38,
   "metadata": {
    "collapsed": false
   },
   "outputs": [
    {
     "data": {
      "text/latex": [
       "$\\displaystyle \\left[-i \\, \\mathit{B2}_{z} k_{z} \\kappa \\cos\\left(\\kappa x\\right) - {\\left(k_{z}^{2} \\cos\\left(\\kappa x\\right) - \\frac{\\omega^{2} \\cos\\left(\\kappa x\\right)}{c^{2}}\\right)} \\mathit{B1}_{x} = 0, i \\, \\mathit{B1}_{x} k_{z} \\kappa \\sin\\left(\\kappa x\\right) - {\\left(\\kappa^{2} \\sin\\left(\\kappa x\\right) - \\frac{\\omega^{2} \\sin\\left(\\kappa x\\right)}{c^{2}}\\right)} \\mathit{B2}_{z} = 0\\right]$"
      ],
      "text/plain": [
       "<IPython.core.display.Math object>"
      ]
     },
     "execution_count": 38,
     "metadata": {
     },
     "output_type": "execute_result"
    },
    {
     "name": "stdout",
     "output_type": "stream",
     "text": [
      "solve([eq, var])\n"
     ]
    },
    {
     "data": {
      "text/latex": [
       "$\\displaystyle \\left[-i \\, \\mathit{B2}_{z} k_{z} \\kappa \\cos\\left(\\kappa x\\right) - {\\left(k_{z}^{2} \\cos\\left(\\kappa x\\right) - \\frac{\\omega^{2} \\cos\\left(\\kappa x\\right)}{c^{2}}\\right)} \\mathit{B1}_{x} = 0, \\mathit{B1}_{x}\\right]$"
      ],
      "text/plain": [
       "<IPython.core.display.Math object>"
      ]
     },
     "execution_count": 38,
     "metadata": {
     },
     "output_type": "execute_result"
    },
    {
     "name": "stdout",
     "output_type": "stream",
     "text": [
      "\n",
      "sol=\n"
     ]
    },
    {
     "data": {
      "text/latex": [
       "$\\displaystyle \\left[\\mathit{B1}_{x} = -\\frac{i \\, \\mathit{B2}_{z} c^{2} k_{z} \\kappa}{c^{2} k_{z}^{2} - \\omega^{2}}\\right]$"
      ],
      "text/plain": [
       "<IPython.core.display.Math object>"
      ]
     },
     "execution_count": 38,
     "metadata": {
     },
     "output_type": "execute_result"
    },
    {
     "name": "stdout",
     "output_type": "stream",
     "text": [
      "eq_s_or_kappa =\n"
     ]
    },
    {
     "data": {
      "text/latex": [
       "$\\displaystyle -k_{z}^{2} + \\frac{\\omega^{2}}{c^{2}} = \\kappa^{2}$"
      ],
      "text/plain": [
       "<IPython.core.display.Math object>"
      ]
     },
     "execution_count": 38,
     "metadata": {
     },
     "output_type": "execute_result"
    },
    {
     "name": "stdout",
     "output_type": "stream",
     "text": [
      "sol_s_or_kappa_2[0].rhs()=\n"
     ]
    },
    {
     "data": {
      "text/latex": [
       "$\\displaystyle -\\frac{c^{2} k_{z}^{2} - \\omega^{2}}{c^{2}}$"
      ],
      "text/plain": [
       "<IPython.core.display.Math object>"
      ]
     },
     "execution_count": 38,
     "metadata": {
     },
     "output_type": "execute_result"
    },
    {
     "name": "stdout",
     "output_type": "stream",
     "text": [
      "\n",
      "sl =\n"
     ]
    },
    {
     "data": {
      "text/latex": [
       "$\\displaystyle -\\frac{i \\, \\mathit{B2}_{z} c^{2} k_{z} \\kappa}{c^{2} k_{z}^{2} - \\omega^{2}}$"
      ],
      "text/plain": [
       "<IPython.core.display.Math object>"
      ]
     },
     "execution_count": 38,
     "metadata": {
     },
     "output_type": "execute_result"
    },
    {
     "name": "stdout",
     "output_type": "stream",
     "text": [
      "\n",
      "ans =\n"
     ]
    },
    {
     "data": {
      "text/latex": [
       "$\\displaystyle \\frac{i \\, \\mathit{B2}_{z} k_{z}}{\\kappa}$"
      ],
      "text/plain": [
       "<IPython.core.display.Math object>"
      ]
     },
     "execution_count": 38,
     "metadata": {
     },
     "output_type": "execute_result"
    },
    {
     "name": "stdout",
     "output_type": "stream",
     "text": [
      "\n",
      "solve([eq, var])\n"
     ]
    },
    {
     "data": {
      "text/latex": [
       "$\\displaystyle \\left[i \\, \\mathit{B1}_{x} k_{z} \\kappa \\sin\\left(\\kappa x\\right) - {\\left(\\kappa^{2} \\sin\\left(\\kappa x\\right) - \\frac{\\omega^{2} \\sin\\left(\\kappa x\\right)}{c^{2}}\\right)} \\mathit{B2}_{z} = 0, \\mathit{B2}_{z}\\right]$"
      ],
      "text/plain": [
       "<IPython.core.display.Math object>"
      ]
     },
     "execution_count": 38,
     "metadata": {
     },
     "output_type": "execute_result"
    },
    {
     "name": "stdout",
     "output_type": "stream",
     "text": [
      "\n"
     ]
    },
    {
     "name": "stdout",
     "output_type": "stream",
     "text": [
      "sol=\n"
     ]
    },
    {
     "data": {
      "text/latex": [
       "$\\displaystyle \\left[\\mathit{B2}_{z} = \\frac{i \\, \\mathit{B1}_{x} c^{2} k_{z} \\kappa}{c^{2} \\kappa^{2} - \\omega^{2}}\\right]$"
      ],
      "text/plain": [
       "<IPython.core.display.Math object>"
      ]
     },
     "execution_count": 38,
     "metadata": {
     },
     "output_type": "execute_result"
    },
    {
     "name": "stdout",
     "output_type": "stream",
     "text": [
      "eq_s_or_kappa =\n"
     ]
    },
    {
     "data": {
      "text/latex": [
       "$\\displaystyle -k_{z}^{2} + \\frac{\\omega^{2}}{c^{2}} = \\kappa^{2}$"
      ],
      "text/plain": [
       "<IPython.core.display.Math object>"
      ]
     },
     "execution_count": 38,
     "metadata": {
     },
     "output_type": "execute_result"
    },
    {
     "name": "stdout",
     "output_type": "stream",
     "text": [
      "sol_s_or_kappa_2[0].rhs()=\n"
     ]
    },
    {
     "data": {
      "text/latex": [
       "$\\displaystyle -\\frac{c^{2} k_{z}^{2} - \\omega^{2}}{c^{2}}$"
      ],
      "text/plain": [
       "<IPython.core.display.Math object>"
      ]
     },
     "execution_count": 38,
     "metadata": {
     },
     "output_type": "execute_result"
    },
    {
     "name": "stdout",
     "output_type": "stream",
     "text": [
      "\n",
      "sl =\n"
     ]
    },
    {
     "data": {
      "text/latex": [
       "$\\displaystyle \\frac{i \\, \\mathit{B1}_{x} c^{2} k_{z} \\kappa}{c^{2} \\kappa^{2} - \\omega^{2}}$"
      ],
      "text/plain": [
       "<IPython.core.display.Math object>"
      ]
     },
     "execution_count": 38,
     "metadata": {
     },
     "output_type": "execute_result"
    },
    {
     "name": "stdout",
     "output_type": "stream",
     "text": [
      "\n",
      "ans =\n"
     ]
    },
    {
     "data": {
      "text/latex": [
       "$\\displaystyle \\frac{i \\, \\mathit{B1}_{x} c^{2} k_{z} \\kappa}{c^{2} \\kappa^{2} - \\omega^{2}}$"
      ],
      "text/plain": [
       "<IPython.core.display.Math object>"
      ]
     },
     "execution_count": 38,
     "metadata": {
     },
     "output_type": "execute_result"
    },
    {
     "name": "stdout",
     "output_type": "stream",
     "text": [
      "(B1_x, c, k_z, kappa, omega)\n",
      "sol_omega_2 =\n"
     ]
    },
    {
     "data": {
      "text/latex": [
       "$\\displaystyle c^{2} k_{z}^{2} + c^{2} \\kappa^{2}$"
      ],
      "text/plain": [
       "<IPython.core.display.Math object>"
      ]
     },
     "execution_count": 38,
     "metadata": {
     },
     "output_type": "execute_result"
    },
    {
     "name": "stdout",
     "output_type": "stream",
     "text": [
      "som =\n"
     ]
    },
    {
     "data": {
      "text/latex": [
       "$\\displaystyle -\\frac{i \\, \\mathit{B1}_{x} \\kappa}{k_{z}}$"
      ],
      "text/plain": [
       "<IPython.core.display.Math object>"
      ]
     },
     "execution_count": 38,
     "metadata": {
     },
     "output_type": "execute_result"
    },
    {
     "name": "stdout",
     "output_type": "stream",
     "text": [
      "som =\n"
     ]
    },
    {
     "data": {
      "text/latex": [
       "$\\displaystyle -\\frac{i \\, \\mathit{B1}_{x} \\kappa}{k_{z}}$"
      ],
      "text/plain": [
       "<IPython.core.display.Math object>"
      ]
     },
     "execution_count": 38,
     "metadata": {
     },
     "output_type": "execute_result"
    },
    {
     "name": "stdout",
     "output_type": "stream",
     "text": [
      "\n"
     ]
    }
   ],
   "source": [
    "even_res_rotH_inner_vacuum = rot_H_solve(even_M_rotH_inner_vacuum, even_vars_inner_vacuum, eq_kappa_inner_vacuum, kappa)"
   ]
  },
  {
   "cell_type": "code",
   "execution_count": 39,
   "metadata": {
    "collapsed": false
   },
   "outputs": [
    {
     "name": "stdout",
     "output_type": "stream",
     "text": [
      "even_res_rotH_inner_vacuum =\n"
     ]
    },
    {
     "data": {
      "text/latex": [
       "$\\displaystyle \\left[\\mathit{B1}_{x} = \\frac{i \\, \\mathit{B2}_{z} k_{z}}{\\kappa}, \\mathit{B2}_{z} = -\\frac{i \\, \\mathit{B1}_{x} \\kappa}{k_{z}}\\right]$"
      ],
      "text/plain": [
       "<IPython.core.display.Math object>"
      ]
     },
     "execution_count": 39,
     "metadata": {
     },
     "output_type": "execute_result"
    }
   ],
   "source": [
    "print (\"even_res_rotH_inner_vacuum =\")\n",
    "display(Math(latex(even_res_rotH_inner_vacuum)))"
   ]
  },
  {
   "cell_type": "code",
   "execution_count": 40,
   "metadata": {
    "collapsed": false
   },
   "outputs": [
    {
     "name": "stdout",
     "output_type": "stream",
     "text": [
      "eqsys_rotH_bad_conductor =\n"
     ]
    },
    {
     "data": {
      "text/latex": [
       "$\\displaystyle \\left[-\\frac{{\\left(i \\, \\mathit{A2}_{z} {\\left(i \\, k_{x} - s_{x}\\right)} e^{\\left(-i \\, {\\left(a - x\\right)} k_{x} + {\\left(a - x\\right)} s_{x}\\right)} + \\mathit{A2}_{x} k_{z} e^{\\left(-i \\, {\\left(a - x\\right)} k_{x} + {\\left(a - x\\right)} s_{x}\\right)}\\right)} k_{z}}{\\mu} = -\\frac{\\mathit{A2}_{x} \\epsilon \\omega^{2} e^{\\left(-i \\, {\\left(a - x\\right)} k_{x} + {\\left(a - x\\right)} s_{x}\\right)}}{c^{2}}, -\\frac{i \\, {\\left(i \\, \\mathit{A2}_{z} {\\left(i \\, k_{x} - s_{x}\\right)}^{2} e^{\\left(-i \\, {\\left(a - x\\right)} k_{x} + {\\left(a - x\\right)} s_{x}\\right)} + \\mathit{A2}_{x} {\\left(i \\, k_{x} - s_{x}\\right)} k_{z} e^{\\left(-i \\, {\\left(a - x\\right)} k_{x} + {\\left(a - x\\right)} s_{x}\\right)}\\right)}}{\\mu} = -\\frac{\\mathit{A2}_{z} \\epsilon \\omega^{2} e^{\\left(-i \\, {\\left(a - x\\right)} k_{x} + {\\left(a - x\\right)} s_{x}\\right)}}{c^{2}}\\right]$"
      ],
      "text/plain": [
       "<IPython.core.display.Math object>"
      ]
     },
     "execution_count": 40,
     "metadata": {
     },
     "output_type": "execute_result"
    },
    {
     "name": "stdout",
     "output_type": "stream",
     "text": [
      "even_M_rotH_bad_conductor =\n"
     ]
    },
    {
     "data": {
      "text/latex": [
       "$\\displaystyle \\left(\\begin{array}{rr}\n",
       "-\\frac{k_{z}^{2} e^{\\left(-i \\, {\\left(a - x\\right)} k_{x} + {\\left(a - x\\right)} s_{x}\\right)}}{\\mu} + \\frac{\\epsilon \\omega^{2} e^{\\left(-i \\, {\\left(a - x\\right)} k_{x} + {\\left(a - x\\right)} s_{x}\\right)}}{c^{2}} & -\\frac{i \\, {\\left(i \\, k_{x} - s_{x}\\right)} k_{z} e^{\\left(-i \\, {\\left(a - x\\right)} k_{x} + {\\left(a - x\\right)} s_{x}\\right)}}{\\mu} \\\\\n",
       "-\\frac{i \\, {\\left(i \\, k_{x} - s_{x}\\right)} k_{z} e^{\\left(-i \\, {\\left(a - x\\right)} k_{x} + {\\left(a - x\\right)} s_{x}\\right)}}{\\mu} & \\frac{{\\left(i \\, k_{x} - s_{x}\\right)}^{2} e^{\\left(-i \\, {\\left(a - x\\right)} k_{x} + {\\left(a - x\\right)} s_{x}\\right)}}{\\mu} + \\frac{\\epsilon \\omega^{2} e^{\\left(-i \\, {\\left(a - x\\right)} k_{x} + {\\left(a - x\\right)} s_{x}\\right)}}{c^{2}}\n",
       "\\end{array}\\right)$"
      ],
      "text/plain": [
       "<IPython.core.display.Math object>"
      ]
     },
     "execution_count": 40,
     "metadata": {
     },
     "output_type": "execute_result"
    }
   ],
   "source": [
    "even_vars_bad_conductor = [A2_x, A2_y, A2_z]\n",
    "even_vars_bad_conductor = [A2_x,       A2_z] #2d\n",
    "\n",
    "even_M_rotH_bad_conductor = GenerateMatrix(eqsys_rotH_bad_conductor, even_vars_bad_conductor)\n",
    "\n",
    "print (\"eqsys_rotH_bad_conductor =\")\n",
    "display(Math(latex(eqsys_rotH_bad_conductor)))\n",
    "\n",
    "print (\"even_M_rotH_bad_conductor =\")\n",
    "display(Math(latex(even_M_rotH_bad_conductor)))"
   ]
  },
  {
   "cell_type": "code",
   "execution_count": 41,
   "metadata": {
    "collapsed": false
   },
   "outputs": [
    {
     "data": {
      "text/latex": [
       "$\\displaystyle \\left[-\\frac{i \\, \\mathit{A2}_{z} {\\left(i \\, k_{x} - s_{x}\\right)} k_{z} e^{\\left(-i \\, {\\left(a - x\\right)} k_{x} + {\\left(a - x\\right)} s_{x}\\right)}}{\\mu} - {\\left(\\frac{k_{z}^{2} e^{\\left(-i \\, {\\left(a - x\\right)} k_{x} + {\\left(a - x\\right)} s_{x}\\right)}}{\\mu} - \\frac{\\epsilon \\omega^{2} e^{\\left(-i \\, {\\left(a - x\\right)} k_{x} + {\\left(a - x\\right)} s_{x}\\right)}}{c^{2}}\\right)} \\mathit{A2}_{x} = 0, -\\frac{i \\, \\mathit{A2}_{x} {\\left(i \\, k_{x} - s_{x}\\right)} k_{z} e^{\\left(-i \\, {\\left(a - x\\right)} k_{x} + {\\left(a - x\\right)} s_{x}\\right)}}{\\mu} + {\\left(\\frac{{\\left(i \\, k_{x} - s_{x}\\right)}^{2} e^{\\left(-i \\, {\\left(a - x\\right)} k_{x} + {\\left(a - x\\right)} s_{x}\\right)}}{\\mu} + \\frac{\\epsilon \\omega^{2} e^{\\left(-i \\, {\\left(a - x\\right)} k_{x} + {\\left(a - x\\right)} s_{x}\\right)}}{c^{2}}\\right)} \\mathit{A2}_{z} = 0\\right]$"
      ],
      "text/plain": [
       "<IPython.core.display.Math object>"
      ]
     },
     "execution_count": 41,
     "metadata": {
     },
     "output_type": "execute_result"
    },
    {
     "name": "stdout",
     "output_type": "stream",
     "text": [
      "solve([eq, var])\n"
     ]
    },
    {
     "data": {
      "text/latex": [
       "$\\displaystyle \\left[-\\frac{i \\, \\mathit{A2}_{z} {\\left(i \\, k_{x} - s_{x}\\right)} k_{z} e^{\\left(-i \\, {\\left(a - x\\right)} k_{x} + {\\left(a - x\\right)} s_{x}\\right)}}{\\mu} - {\\left(\\frac{k_{z}^{2} e^{\\left(-i \\, {\\left(a - x\\right)} k_{x} + {\\left(a - x\\right)} s_{x}\\right)}}{\\mu} - \\frac{\\epsilon \\omega^{2} e^{\\left(-i \\, {\\left(a - x\\right)} k_{x} + {\\left(a - x\\right)} s_{x}\\right)}}{c^{2}}\\right)} \\mathit{A2}_{x} = 0, \\mathit{A2}_{x}\\right]$"
      ],
      "text/plain": [
       "<IPython.core.display.Math object>"
      ]
     },
     "execution_count": 41,
     "metadata": {
     },
     "output_type": "execute_result"
    },
    {
     "name": "stdout",
     "output_type": "stream",
     "text": [
      "\n"
     ]
    },
    {
     "name": "stdout",
     "output_type": "stream",
     "text": [
      "sol=\n"
     ]
    },
    {
     "data": {
      "text/latex": [
       "$\\displaystyle \\mathit{A2}_{x} = \\frac{\\mathit{A2}_{z} c^{2} k_{x} k_{z} + i \\, \\mathit{A2}_{z} c^{2} k_{z} s_{x}}{c^{2} k_{z}^{2} - \\epsilon \\mu \\omega^{2}}$"
      ],
      "text/plain": [
       "<IPython.core.display.Math object>"
      ]
     },
     "execution_count": 41,
     "metadata": {
     },
     "output_type": "execute_result"
    },
    {
     "name": "stdout",
     "output_type": "stream",
     "text": [
      "sl =\n"
     ]
    },
    {
     "data": {
      "text/latex": [
       "$\\displaystyle {\\left(\\frac{c^{2} k_{x} k_{z}}{c^{2} k_{z}^{2} - \\epsilon \\mu \\omega^{2}} + \\frac{i \\, c^{2} k_{z} s_{x}}{c^{2} k_{z}^{2} - \\epsilon \\mu \\omega^{2}}\\right)} \\mathit{A2}_{z}$"
      ],
      "text/plain": [
       "<IPython.core.display.Math object>"
      ]
     },
     "execution_count": 41,
     "metadata": {
     },
     "output_type": "execute_result"
    },
    {
     "name": "stdout",
     "output_type": "stream",
     "text": [
      "\n",
      "\n"
     ]
    },
    {
     "name": "stdout",
     "output_type": "stream",
     "text": [
      "solve([eq, var])\n"
     ]
    },
    {
     "data": {
      "text/latex": [
       "$\\displaystyle \\left[-\\frac{i \\, \\mathit{A2}_{x} {\\left(i \\, k_{x} - s_{x}\\right)} k_{z} e^{\\left(-i \\, {\\left(a - x\\right)} k_{x} + {\\left(a - x\\right)} s_{x}\\right)}}{\\mu} + {\\left(\\frac{{\\left(i \\, k_{x} - s_{x}\\right)}^{2} e^{\\left(-i \\, {\\left(a - x\\right)} k_{x} + {\\left(a - x\\right)} s_{x}\\right)}}{\\mu} + \\frac{\\epsilon \\omega^{2} e^{\\left(-i \\, {\\left(a - x\\right)} k_{x} + {\\left(a - x\\right)} s_{x}\\right)}}{c^{2}}\\right)} \\mathit{A2}_{z} = 0, \\mathit{A2}_{z}\\right]$"
      ],
      "text/plain": [
       "<IPython.core.display.Math object>"
      ]
     },
     "execution_count": 41,
     "metadata": {
     },
     "output_type": "execute_result"
    },
    {
     "name": "stdout",
     "output_type": "stream",
     "text": [
      "\n"
     ]
    },
    {
     "name": "stdout",
     "output_type": "stream",
     "text": [
      "sol=\n"
     ]
    },
    {
     "data": {
      "text/latex": [
       "$\\displaystyle \\mathit{A2}_{z} = \\frac{\\mathit{A2}_{x} c^{2} k_{x} k_{z} + i \\, \\mathit{A2}_{x} c^{2} k_{z} s_{x}}{c^{2} k_{x}^{2} - \\epsilon \\mu \\omega^{2} + 2 i \\, c^{2} k_{x} s_{x} - c^{2} s_{x}^{2}}$"
      ],
      "text/plain": [
       "<IPython.core.display.Math object>"
      ]
     },
     "execution_count": 41,
     "metadata": {
     },
     "output_type": "execute_result"
    },
    {
     "name": "stdout",
     "output_type": "stream",
     "text": [
      "sl =\n"
     ]
    },
    {
     "data": {
      "text/latex": [
       "$\\displaystyle \\frac{\\mathit{A2}_{x} c^{2} k_{x} k_{z} + i \\, \\mathit{A2}_{x} c^{2} k_{z} s_{x}}{c^{2} k_{x}^{2} - \\epsilon \\mu \\omega^{2} + 2 i \\, c^{2} k_{x} s_{x} - c^{2} s_{x}^{2}}$"
      ],
      "text/plain": [
       "<IPython.core.display.Math object>"
      ]
     },
     "execution_count": 41,
     "metadata": {
     },
     "output_type": "execute_result"
    },
    {
     "name": "stdout",
     "output_type": "stream",
     "text": [
      "\n",
      "\n"
     ]
    }
   ],
   "source": [
    "even_res_rotH_bad_conductor = rot_H_solve_s(even_M_rotH_bad_conductor, even_vars_bad_conductor)"
   ]
  },
  {
   "cell_type": "code",
   "execution_count": 42,
   "metadata": {
    "collapsed": false
   },
   "outputs": [
    {
     "name": "stdout",
     "output_type": "stream",
     "text": [
      "even_res_rotH_bad_conductor =\n"
     ]
    },
    {
     "data": {
      "text/latex": [
       "$\\displaystyle \\left[\\mathit{A2}_{x} = {\\left(\\frac{c^{2} k_{x} k_{z}}{c^{2} k_{z}^{2} - \\epsilon \\mu \\omega^{2}} + \\frac{i \\, c^{2} k_{z} s_{x}}{c^{2} k_{z}^{2} - \\epsilon \\mu \\omega^{2}}\\right)} \\mathit{A2}_{z}, \\mathit{A2}_{z} = \\frac{\\mathit{A2}_{x} c^{2} k_{x} k_{z} + i \\, \\mathit{A2}_{x} c^{2} k_{z} s_{x}}{c^{2} k_{x}^{2} - \\epsilon \\mu \\omega^{2} + 2 i \\, c^{2} k_{x} s_{x} - c^{2} s_{x}^{2}}\\right]$"
      ],
      "text/plain": [
       "<IPython.core.display.Math object>"
      ]
     },
     "execution_count": 42,
     "metadata": {
     },
     "output_type": "execute_result"
    }
   ],
   "source": [
    "print (\"even_res_rotH_bad_conductor =\")\n",
    "display(Math(latex(even_res_rotH_bad_conductor)))"
   ]
  },
  {
   "cell_type": "code",
   "execution_count": 43,
   "metadata": {
    "collapsed": false
   },
   "outputs": [
    {
     "data": {
      "text/latex": [
       "$\\displaystyle \\mathit{A2}_{x} = {\\left(\\frac{c^{2} k_{x} k_{z}}{c^{2} k_{z}^{2} - \\epsilon \\mu \\omega^{2}} + \\frac{i \\, c^{2} k_{z} s_{x}}{c^{2} k_{z}^{2} - \\epsilon \\mu \\omega^{2}}\\right)} \\mathit{A2}_{z}$"
      ],
      "text/plain": [
       "<IPython.core.display.Math object>"
      ]
     },
     "execution_count": 43,
     "metadata": {
     },
     "output_type": "execute_result"
    }
   ],
   "source": [
    "display(Math(latex(even_res_rotH_bad_conductor[0])))"
   ]
  },
  {
   "cell_type": "code",
   "execution_count": 44,
   "metadata": {
    "collapsed": false
   },
   "outputs": [
    {
     "data": {
      "text/plain": [
       "[B1_x*cos(a*kappa) + B2_x*sin(a*kappa) == A2_x*epsilon,\n",
       " B1_z*cos(a*kappa) + B2_z*sin(a*kappa) == A2_z]"
      ]
     },
     "execution_count": 44,
     "metadata": {
     },
     "output_type": "execute_result"
    }
   ],
   "source": [
    "eqsys_boundary_conditions"
   ]
  },
  {
   "cell_type": "code",
   "execution_count": 45,
   "metadata": {
    "collapsed": false
   },
   "outputs": [
    {
     "data": {
      "text/plain": [
       "[B1_x, B2_z, A2_x, A2_z]"
      ]
     },
     "execution_count": 45,
     "metadata": {
     },
     "output_type": "execute_result"
    }
   ],
   "source": [
    "even_vars"
   ]
  },
  {
   "cell_type": "code",
   "execution_count": 46,
   "metadata": {
    "collapsed": false
   },
   "outputs": [
   ],
   "source": [
    "eq_sys = eqsys_boundary_conditions + even_res_rotH_inner_vacuum + even_res_rotH_bad_conductor"
   ]
  },
  {
   "cell_type": "code",
   "execution_count": 47,
   "metadata": {
    "collapsed": false
   },
   "outputs": [
    {
     "data": {
      "text/plain": [
       "[B1_x*cos(a*kappa) + B2_x*sin(a*kappa) == A2_x*epsilon,\n",
       " B1_z*cos(a*kappa) + B2_z*sin(a*kappa) == A2_z]"
      ]
     },
     "execution_count": 47,
     "metadata": {
     },
     "output_type": "execute_result"
    }
   ],
   "source": [
    "eqsys_boundary_conditions"
   ]
  },
  {
   "cell_type": "code",
   "execution_count": 48,
   "metadata": {
    "collapsed": false
   },
   "outputs": [
    {
     "data": {
      "text/plain": [
       "[B1_x, B2_z, A2_x, A2_z]"
      ]
     },
     "execution_count": 48,
     "metadata": {
     },
     "output_type": "execute_result"
    }
   ],
   "source": [
    "even_vars"
   ]
  },
  {
   "cell_type": "code",
   "execution_count": 49,
   "metadata": {
    "collapsed": false
   },
   "outputs": [
    {
     "name": "stdout",
     "output_type": "stream",
     "text": [
      "even_M =\n"
     ]
    },
    {
     "data": {
      "text/latex": [
       "$\\displaystyle \\left(\\begin{array}{rrrr}\n",
       "\\cos\\left(a \\kappa\\right) & 0 & -\\epsilon & 0 \\\\\n",
       "0 & \\sin\\left(a \\kappa\\right) & 0 & -1 \\\\\n",
       "1 & -\\frac{i \\, k_{z}}{\\kappa} & 0 & 0 \\\\\n",
       "\\frac{i \\, \\kappa}{k_{z}} & 1 & 0 & 0 \\\\\n",
       "0 & 0 & 1 & -\\frac{c^{2} k_{x} k_{z}}{c^{2} k_{z}^{2} - \\epsilon \\mu \\omega^{2}} - \\frac{i \\, c^{2} k_{z} s_{x}}{c^{2} k_{z}^{2} - \\epsilon \\mu \\omega^{2}} \\\\\n",
       "0 & 0 & -\\frac{c^{2} k_{x} k_{z} + i \\, c^{2} k_{z} s_{x}}{c^{2} k_{x}^{2} - \\epsilon \\mu \\omega^{2} + 2 i \\, c^{2} k_{x} s_{x} - c^{2} s_{x}^{2}} & 1\n",
       "\\end{array}\\right)$"
      ],
      "text/plain": [
       "<IPython.core.display.Math object>"
      ]
     },
     "execution_count": 49,
     "metadata": {
     },
     "output_type": "execute_result"
    }
   ],
   "source": [
    "even_M = GenerateMatrix(eq_sys, even_vars)\n",
    "print (\"even_M =\")\n",
    "display(Math(latex(even_M)))"
   ]
  },
  {
   "cell_type": "code",
   "execution_count": 50,
   "metadata": {
    "collapsed": false
   },
   "outputs": [
    {
     "name": "stdout",
     "output_type": "stream",
     "text": [
      "\n",
      "M.nrows() 6\n",
      "M.ncols() 4\n"
     ]
    },
    {
     "name": "stdout",
     "output_type": "stream",
     "text": [
      "M.rank() 4\n"
     ]
    },
    {
     "name": "stdout",
     "output_type": "stream",
     "text": [
      "M.pivot_rows() = (0, 1, 2, 4)\n",
      "row = (cos(a*kappa), 0, -epsilon, 0)\n",
      "row = (0, sin(a*kappa), 0, -1)\n",
      "row = (1, -I*k_z/kappa, 0, 0)\n",
      "row = (I*kappa/k_z, 1, 0, 0)\n",
      "row = (0, 0, 1, -c^2*k_x*k_z/(c^2*k_z^2 - epsilon*mu*omega^2) - I*c^2*k_z*s_x/(c^2*k_z^2 - epsilon*mu*omega^2))\n",
      "row = (0, 0, -(c^2*k_x*k_z + I*c^2*k_z*s_x)/(c^2*k_x^2 - epsilon*mu*omega^2 + 2*I*c^2*k_x*s_x - c^2*s_x^2), 1)\n",
      "M_rows[ 0 ] =\n"
     ]
    },
    {
     "data": {
      "text/latex": [
       "$\\displaystyle \\left(\\cos\\left(a \\kappa\\right),\\,0,\\,-\\epsilon,\\,0\\right)$"
      ],
      "text/plain": [
       "<IPython.core.display.Math object>"
      ]
     },
     "execution_count": 50,
     "metadata": {
     },
     "output_type": "execute_result"
    },
    {
     "name": "stdout",
     "output_type": "stream",
     "text": [
      "M_rows[ 1 ] =\n"
     ]
    },
    {
     "data": {
      "text/latex": [
       "$\\displaystyle \\left(0,\\,\\sin\\left(a \\kappa\\right),\\,0,\\,-1\\right)$"
      ],
      "text/plain": [
       "<IPython.core.display.Math object>"
      ]
     },
     "execution_count": 50,
     "metadata": {
     },
     "output_type": "execute_result"
    },
    {
     "name": "stdout",
     "output_type": "stream",
     "text": [
      "M_rows[ 2 ] =\n"
     ]
    },
    {
     "data": {
      "text/latex": [
       "$\\displaystyle \\left(1,\\,-\\frac{i \\, k_{z}}{\\kappa},\\,0,\\,0\\right)$"
      ],
      "text/plain": [
       "<IPython.core.display.Math object>"
      ]
     },
     "execution_count": 50,
     "metadata": {
     },
     "output_type": "execute_result"
    },
    {
     "name": "stdout",
     "output_type": "stream",
     "text": [
      "M_rows[ 4 ] =\n"
     ]
    },
    {
     "data": {
      "text/latex": [
       "$\\displaystyle \\left(0,\\,0,\\,1,\\,-\\frac{c^{2} k_{x} k_{z}}{c^{2} k_{z}^{2} - \\epsilon \\mu \\omega^{2}} - \\frac{i \\, c^{2} k_{z} s_{x}}{c^{2} k_{z}^{2} - \\epsilon \\mu \\omega^{2}}\\right)$"
      ],
      "text/plain": [
       "<IPython.core.display.Math object>"
      ]
     },
     "execution_count": 50,
     "metadata": {
     },
     "output_type": "execute_result"
    },
    {
     "name": "stdout",
     "output_type": "stream",
     "text": [
      "\n",
      "reduced_M.det() = -c^2*epsilon*k_x*k_z*sin(a*kappa)/(c^2*k_z^2 - epsilon*mu*omega^2) - I*c^2*epsilon*k_z*s_x*sin(a*kappa)/(c^2*k_z^2 - epsilon*mu*omega^2) + I*k_z*cos(a*kappa)/kappa\n"
     ]
    }
   ],
   "source": [
    "try:\n",
    "    even_reduced_M = reduceDependedRows(even_M)\n",
    "except:\n",
    "    M_pivot_rows = (0, 1, 2, 3, 4, 6)\n",
    "    even_reduced_M = reduceRows(even_M, M_pivot_rows)\n",
    "even_reduced_M_det = even_reduced_M.det()"
   ]
  },
  {
   "cell_type": "code",
   "execution_count": 51,
   "metadata": {
    "collapsed": false
   },
   "outputs": [
    {
     "data": {
      "text/latex": [
       "$\\displaystyle \\left(\\begin{array}{rrrr}\n",
       "\\cos\\left(a \\kappa\\right) & 0 & -\\epsilon & 0 \\\\\n",
       "0 & \\sin\\left(a \\kappa\\right) & 0 & -1 \\\\\n",
       "1 & -\\frac{i \\, k_{z}}{\\kappa} & 0 & 0 \\\\\n",
       "0 & 0 & 1 & -\\frac{c^{2} k_{x} k_{z}}{c^{2} k_{z}^{2} - \\epsilon \\mu \\omega^{2}} - \\frac{i \\, c^{2} k_{z} s_{x}}{c^{2} k_{z}^{2} - \\epsilon \\mu \\omega^{2}}\n",
       "\\end{array}\\right)$"
      ],
      "text/plain": [
       "<IPython.core.display.Math object>"
      ]
     },
     "execution_count": 51,
     "metadata": {
     },
     "output_type": "execute_result"
    }
   ],
   "source": [
    "display(Math(latex(even_reduced_M)))"
   ]
  },
  {
   "cell_type": "code",
   "execution_count": 52,
   "metadata": {
    "collapsed": false
   },
   "outputs": [
    {
     "name": "stdout",
     "output_type": "stream",
     "text": [
      "even_reduced_M_det =\n"
     ]
    },
    {
     "data": {
      "text/latex": [
       "$\\displaystyle -\\frac{c^{2} \\epsilon k_{x} k_{z} \\sin\\left(a \\kappa\\right)}{c^{2} k_{z}^{2} - \\epsilon \\mu \\omega^{2}} - \\frac{i \\, c^{2} \\epsilon k_{z} s_{x} \\sin\\left(a \\kappa\\right)}{c^{2} k_{z}^{2} - \\epsilon \\mu \\omega^{2}} + \\frac{i \\, k_{z} \\cos\\left(a \\kappa\\right)}{\\kappa}$"
      ],
      "text/plain": [
       "<IPython.core.display.Math object>"
      ]
     },
     "execution_count": 52,
     "metadata": {
     },
     "output_type": "execute_result"
    }
   ],
   "source": [
    "print (\"even_reduced_M_det =\")\n",
    "display(Math(latex(even_reduced_M_det)))"
   ]
  },
  {
   "cell_type": "code",
   "execution_count": 53,
   "metadata": {
    "collapsed": false
   },
   "outputs": [
    {
     "name": "stdout",
     "output_type": "stream",
     "text": [
      "even_disp_eq =\n"
     ]
    },
    {
     "data": {
      "text/latex": [
       "$\\displaystyle -\\frac{c^{2} \\epsilon k_{x} k_{z} \\sin\\left(a \\kappa\\right)}{c^{2} k_{z}^{2} - \\epsilon \\mu \\omega^{2}} - \\frac{i \\, c^{2} \\epsilon k_{z} s_{x} \\sin\\left(a \\kappa\\right)}{c^{2} k_{z}^{2} - \\epsilon \\mu \\omega^{2}} + \\frac{i \\, k_{z} \\cos\\left(a \\kappa\\right)}{\\kappa} = 0$"
      ],
      "text/plain": [
       "<IPython.core.display.Math object>"
      ]
     },
     "execution_count": 53,
     "metadata": {
     },
     "output_type": "execute_result"
    }
   ],
   "source": [
    "even_disp_eq = (even_reduced_M_det == 0)\n",
    "print (\"even_disp_eq =\")\n",
    "display(Math(latex(even_disp_eq)))"
   ]
  },
  {
   "cell_type": "code",
   "execution_count": 54,
   "metadata": {
    "collapsed": false
   },
   "outputs": [
    {
     "name": "stdout",
     "output_type": "stream",
     "text": [
      "even_disp_eq_re =\n"
     ]
    },
    {
     "data": {
      "text/latex": [
       "$\\displaystyle -\\frac{c^{2} \\epsilon k_{x} k_{z} \\sin\\left(a \\kappa\\right)}{c^{2} k_{z}^{2} - \\epsilon \\mu \\omega^{2}} = 0$"
      ],
      "text/plain": [
       "<IPython.core.display.Math object>"
      ]
     },
     "execution_count": 54,
     "metadata": {
     },
     "output_type": "execute_result"
    }
   ],
   "source": [
    "even_disp_eq_re = (even_reduced_M_det.real() == 0)\n",
    "print (\"even_disp_eq_re =\")\n",
    "display(Math(latex(even_disp_eq_re)))"
   ]
  },
  {
   "cell_type": "code",
   "execution_count": 55,
   "metadata": {
    "collapsed": false
   },
   "outputs": [
    {
     "name": "stdout",
     "output_type": "stream",
     "text": [
      "even_disp_eq_im =\n"
     ]
    },
    {
     "data": {
      "text/latex": [
       "$\\displaystyle -\\frac{c^{2} \\epsilon k_{z} s_{x} \\sin\\left(a \\kappa\\right)}{c^{2} k_{z}^{2} - \\epsilon \\mu \\omega^{2}} + \\frac{k_{z} \\cos\\left(a \\kappa\\right)}{\\kappa} = 0$"
      ],
      "text/plain": [
       "<IPython.core.display.Math object>"
      ]
     },
     "execution_count": 55,
     "metadata": {
     },
     "output_type": "execute_result"
    }
   ],
   "source": [
    "even_disp_eq_im = (even_reduced_M_det.imag() == 0)\n",
    "print (\"even_disp_eq_im =\")\n",
    "display(Math(latex(even_disp_eq_im)))"
   ]
  },
  {
   "cell_type": "code",
   "execution_count": 56,
   "metadata": {
    "collapsed": false
   },
   "outputs": [
    {
     "name": "stdout",
     "output_type": "stream",
     "text": [
      "even_disp_eq_s =\n"
     ]
    },
    {
     "data": {
      "text/latex": [
       "$\\displaystyle \\left[s_{x} = \\frac{c^{2} k_{z}^{2} \\cos\\left(a \\kappa\\right) - \\epsilon \\mu \\omega^{2} \\cos\\left(a \\kappa\\right)}{c^{2} \\epsilon \\kappa \\sin\\left(a \\kappa\\right)}\\right]$"
      ],
      "text/plain": [
       "<IPython.core.display.Math object>"
      ]
     },
     "execution_count": 56,
     "metadata": {
     },
     "output_type": "execute_result"
    }
   ],
   "source": [
    "even_disp_eq_s = solve(even_disp_eq_im, s_x)\n",
    "print (\"even_disp_eq_s =\")\n",
    "display(Math(latex(even_disp_eq_s)))"
   ]
  },
  {
   "cell_type": "code",
   "execution_count": 57,
   "metadata": {
    "collapsed": false
   },
   "outputs": [
    {
     "name": "stdout",
     "output_type": "stream",
     "text": [
      "even_disp_eq_kx =\n"
     ]
    },
    {
     "data": {
      "text/latex": [
       "$\\displaystyle \\left[k_{x} = \\frac{-i \\, c^{2} \\epsilon \\kappa s_{x} \\sin\\left(a \\kappa\\right) + i \\, c^{2} k_{z}^{2} \\cos\\left(a \\kappa\\right) - i \\, \\epsilon \\mu \\omega^{2} \\cos\\left(a \\kappa\\right)}{c^{2} \\epsilon \\kappa \\sin\\left(a \\kappa\\right)}\\right]$"
      ],
      "text/plain": [
       "<IPython.core.display.Math object>"
      ]
     },
     "execution_count": 57,
     "metadata": {
     },
     "output_type": "execute_result"
    }
   ],
   "source": [
    "even_disp_eq_kx = solve([even_reduced_M_det == 0], k_x)\n",
    "print (\"even_disp_eq_kx =\")\n",
    "display(Math(latex(even_disp_eq_kx)))"
   ]
  },
  {
   "cell_type": "code",
   "execution_count": 58,
   "metadata": {
    "collapsed": false
   },
   "outputs": [
    {
     "data": {
      "text/plain": [
       "s_x == 2*pi*mu*omega*sigma/(c^2*k_x)"
      ]
     },
     "execution_count": 58,
     "metadata": {
     },
     "output_type": "execute_result"
    }
   ],
   "source": [
    "eq_s_bad_conductor"
   ]
  },
  {
   "cell_type": "code",
   "execution_count": 59,
   "metadata": {
    "collapsed": false
   },
   "outputs": [
    {
     "data": {
      "text/plain": [
       "[k_x == 2*pi*mu*omega*sigma/(c^2*s_x)]"
      ]
     },
     "execution_count": 59,
     "metadata": {
     },
     "output_type": "execute_result"
    }
   ],
   "source": [
    "solve(eq_s_bad_conductor,k_x)"
   ]
  },
  {
   "cell_type": "code",
   "execution_count": 60,
   "metadata": {
    "collapsed": false
   },
   "outputs": [
    {
     "name": "stdout",
     "output_type": "stream",
     "text": [
      "even_H_inner_vacuum_y (x)  I*B2_z*omega*cos(kappa*x)/(c*kappa)\n",
      "even_H_bad_conductor_y (x) = (A2_z*c*epsilon*k_x*omega + I*A2_z*c*epsilon*omega*s_x)*e^(a*s_x + I*k_x*x - s_x*x)/(c^2*k_z^2*e^(I*a*k_x) - epsilon*mu*omega^2*e^(I*a*k_x))\n"
     ]
    }
   ],
   "source": [
    "even_H_inner_vacuum_y (x) = H_inner_vacuum_y (x).subs(even_res_rotH_inner_vacuum[0]).subs(even_eqs_inner_vacuum).subs(solve(eq_kappa_inner_vacuum,k_z^2)).full_simplify()\n",
    "even_H_bad_conductor_y(x) = H_bad_conductor_y(x).subs(even_res_rotH_bad_conductor[0]).subs(solve(eq_s_bad_conductor,k_x^2)).full_simplify()\n",
    "\n",
    "print (\"even_H_inner_vacuum_y (x) \", even_H_inner_vacuum_y (x))\n",
    "print (\"even_H_bad_conductor_y (x) =\", even_H_bad_conductor_y (x))"
   ]
  },
  {
   "cell_type": "code",
   "execution_count": 61,
   "metadata": {
    "collapsed": false
   },
   "outputs": [
    {
     "name": "stdout",
     "output_type": "stream",
     "text": [
      "even_E_inner_vacuum_z (x) = B2_z*sin(kappa*x)\n",
      "even_E_inner_vacuum_x (x) = I*B2_z*k_z*cos(kappa*x)/kappa\n",
      "\n",
      "even_E_bad_conductor_z (x) = A2_z*e^(-I*a*k_x + a*s_x + I*k_x*x - s_x*x)\n",
      "even_E_bad_conductor_x (x) = (A2_z*c^2*k_x*k_z + I*A2_z*c^2*k_z*s_x)*e^(a*s_x + I*k_x*x - s_x*x)/(c^2*k_z^2*e^(I*a*k_x) - epsilon*mu*omega^2*e^(I*a*k_x))\n"
     ]
    }
   ],
   "source": [
    "even_E_inner_vacuum_z (x) = E_inner_vacuum_z (x).subs(even_res_rotH_inner_vacuum[0]).subs(even_eqs_inner_vacuum).subs(solve(eq_kappa_inner_vacuum,k_z^2)).full_simplify()\n",
    "even_E_inner_vacuum_x (x) = E_inner_vacuum_x (x).subs(even_res_rotH_inner_vacuum[0]).subs(even_eqs_inner_vacuum).subs(solve(eq_kappa_inner_vacuum,k_z^2)).full_simplify()\n",
    "\n",
    "# x > a\n",
    "even_E_bad_conductor_z (x) = E_bad_conductor_z (x).subs(even_res_rotH_bad_conductor[0]).subs(solve(eq_s_bad_conductor,k_z^2)).full_simplify()\n",
    "even_E_bad_conductor_x (x) = E_bad_conductor_x (x).subs(even_res_rotH_bad_conductor[0]).subs(solve(eq_s_bad_conductor,k_z^2)).full_simplify()\n",
    "\n",
    "print (\"even_E_inner_vacuum_z (x) =\", even_E_inner_vacuum_z (x))\n",
    "print (\"even_E_inner_vacuum_x (x) =\", even_E_inner_vacuum_x (x))\n",
    "print (\"\")\n",
    "\n",
    "print (\"even_E_bad_conductor_z (x) =\", even_E_bad_conductor_z (x))\n",
    "print (\"even_E_bad_conductor_x (x) =\", even_E_bad_conductor_x (x))"
   ]
  },
  {
   "cell_type": "code",
   "execution_count": 62,
   "metadata": {
    "collapsed": false
   },
   "outputs": [
    {
     "data": {
      "text/plain": [
       "(A2_z*c*epsilon*k_x*omega + I*A2_z*c*epsilon*omega*s_x)*e^(I*a*k_x)/(c^2*k_z^2*e^(I*a*k_x) - epsilon*mu*omega^2*e^(I*a*k_x)) == I*B2_z*omega*cos(a*kappa)/(c*kappa)"
      ]
     },
     "execution_count": 62,
     "metadata": {
     },
     "output_type": "execute_result"
    }
   ],
   "source": [
    "# тангенциальная компонента напряженности магнитного поля\n",
    "even_eqHy_a  = even_H_bad_conductor_y (a)  == even_H_inner_vacuum_y (a)\n",
    "even_eqHy_a"
   ]
  },
  {
   "cell_type": "code",
   "execution_count": 63,
   "metadata": {
    "collapsed": false
   },
   "outputs": [
    {
     "name": "stdout",
     "output_type": "stream",
     "text": [
      "even_A =\n"
     ]
    },
    {
     "data": {
      "text/latex": [
       "$\\displaystyle \\left[\\mathit{A2}_{z} = \\frac{i \\, \\mathit{B2}_{z} c^{2} k_{z}^{2} \\cos\\left(a \\kappa\\right) - i \\, \\mathit{B2}_{z} \\epsilon \\mu \\omega^{2} \\cos\\left(a \\kappa\\right)}{c^{2} \\epsilon k_{x} \\kappa + i \\, c^{2} \\epsilon \\kappa s_{x}}\\right]$"
      ],
      "text/plain": [
       "<IPython.core.display.Math object>"
      ]
     },
     "execution_count": 63,
     "metadata": {
     },
     "output_type": "execute_result"
    },
    {
     "name": "stdout",
     "output_type": "stream",
     "text": [
      "even_A =\n"
     ]
    },
    {
     "data": {
      "text/latex": [
       "$\\displaystyle -\\frac{-i \\, \\mathit{B2}_{z} c^{2} k_{z}^{2} \\cos\\left(a \\kappa\\right) + i \\, \\mathit{B2}_{z} \\epsilon \\mu \\omega^{2} \\cos\\left(a \\kappa\\right)}{c^{2} \\epsilon k_{x} \\kappa + i \\, c^{2} \\epsilon \\kappa s_{x}}$"
      ],
      "text/plain": [
       "<IPython.core.display.Math object>"
      ]
     },
     "execution_count": 63,
     "metadata": {
     },
     "output_type": "execute_result"
    }
   ],
   "source": [
    "even_A = solve (even_eqHy_a, A2_z)\n",
    "print (\"even_A =\")\n",
    "display(Math(latex(even_A)))\n",
    "even_A = ((even_A[0].rhs()/e^(a*s_x)).subs(even_disp_eq).full_simplify())*e^(a*s_x)\n",
    "print (\"even_A =\")\n",
    "display(Math(latex(even_A)))"
   ]
  },
  {
   "cell_type": "code",
   "execution_count": 64,
   "metadata": {
    "collapsed": false
   },
   "outputs": [
    {
     "name": "stdout",
     "output_type": "stream",
     "text": [
      "even_eq_kappa =\n"
     ]
    },
    {
     "data": {
      "text/latex": [
       "$\\displaystyle -\\frac{c^{2} k_{z}^{2} - \\omega^{2}}{c^{2}} = \\kappa^{2}$"
      ],
      "text/plain": [
       "<IPython.core.display.Math object>"
      ]
     },
     "execution_count": 64,
     "metadata": {
     },
     "output_type": "execute_result"
    }
   ],
   "source": [
    "even_eq_kappa = eq_kappa_inner_vacuum.subs(even_disp_eq).full_simplify()\n",
    "print(\"even_eq_kappa =\")\n",
    "display(Math(latex(even_eq_kappa)))"
   ]
  },
  {
   "cell_type": "code",
   "execution_count": 65,
   "metadata": {
    "collapsed": false
   },
   "outputs": [
    {
     "name": "stdout",
     "output_type": "stream",
     "text": [
      "even_sol_kappa =\n"
     ]
    },
    {
     "data": {
      "text/latex": [
       "$\\displaystyle \\left[\\kappa = \\frac{\\sqrt{-c^{2} k_{z}^{2} + \\omega^{2}}}{c}\\right]$"
      ],
      "text/plain": [
       "<IPython.core.display.Math object>"
      ]
     },
     "execution_count": 65,
     "metadata": {
     },
     "output_type": "execute_result"
    }
   ],
   "source": [
    "even_sol_kappa = solve(even_eq_kappa, kappa)\n",
    "print(\"even_sol_kappa =\")\n",
    "display(Math(latex(even_sol_kappa)))"
   ]
  },
  {
   "cell_type": "code",
   "execution_count": 66,
   "metadata": {
    "collapsed": false
   },
   "outputs": [
   ],
   "source": [
    "# eq_kappa_s = eq_kappa.subs(solve(eq_s, k^2)).full_simplify()\n",
    "#eq_s2 = eq_kappa_s.solve(s^2)\n",
    "#eq_kappa2 = eq_kappa_s.solve(kappa^2)\n",
    "\n",
    "#print(\"eq_s2 =\")\n",
    "#display(Math(latex(eq_s2[0].expand())))\n",
    "#print(\"eq_kappa2 =\")\n",
    "#display(Math(latex(eq_kappa2[0].expand())))\n",
    "\n",
    "#eq_kappa2_s2 = (eq_kappa_s.solve(omega^2)[0]/c^2).full_simplify()\n",
    "\n",
    "#print(\"eq_kappa2_s2 =\")\n",
    "#display(Math(latex(eq_kappa2_s2)))"
   ]
  },
  {
   "cell_type": "code",
   "execution_count": 67,
   "metadata": {
    "collapsed": false
   },
   "outputs": [
    {
     "name": "stdout",
     "output_type": "stream",
     "text": [
      "[omega == 6.28318530717959e11, mu == 1, epsilon == 5, c == 29979245800]\n"
     ]
    }
   ],
   "source": [
    "# sgs\n",
    "A = 0.1\n",
    "kappa_A_max = 13*pi.n()/2\n",
    "s_A_max = 20\n",
    "digit_values = [omega == 2*pi.n()*10^11, mu == 1, epsilon == 5, c == 299792458 * 100]\n",
    "print (digit_values)"
   ]
  },
  {
   "cell_type": "code",
   "execution_count": 68,
   "metadata": {
    "collapsed": false
   },
   "outputs": [
    {
     "name": "stdout",
     "output_type": "stream",
     "text": [
      "even_sol_kappa_d = kappa == 1/29979245800*sqrt(-898755178736817640000*k_z^2 + 3.94784176043574e23)\n"
     ]
    }
   ],
   "source": [
    "even_sol_kappa_d = even_sol_kappa[0].subs(digit_values)\n",
    "print(\"even_sol_kappa_d =\", even_sol_kappa_d)"
   ]
  },
  {
   "cell_type": "code",
   "execution_count": 69,
   "metadata": {
    "collapsed": false
   },
   "outputs": [
    {
     "name": "stdout",
     "output_type": "stream",
     "text": [
      "even_disp_eq_s_d = s_x == 1/4493775893684088200000*(898755178736817640000*k_z^2*cos(a*kappa) - 1.97392088021787e24*cos(a*kappa))/(kappa*sin(a*kappa))\n"
     ]
    }
   ],
   "source": [
    "even_disp_eq_s_d = even_disp_eq_s[0].subs(digit_values)\n",
    "print (\"even_disp_eq_s_d =\", even_disp_eq_s_d)"
   ]
  },
  {
   "cell_type": "code",
   "execution_count": 70,
   "metadata": {
    "collapsed": false
   },
   "outputs": [
    {
     "name": "stdout",
     "output_type": "stream",
     "text": [
      "even_disp_eq_s_da = a*s_x == 1/4493775893684088200000*(898755178736817640000*k_z^2*cos(a*kappa) - 1.97392088021787e24*cos(a*kappa))*a/(kappa*sin(a*kappa))\n"
     ]
    }
   ],
   "source": [
    "even_disp_eq_s_da = even_disp_eq_s_d * a\n",
    "print (\"even_disp_eq_s_da =\", even_disp_eq_s_da)"
   ]
  },
  {
   "cell_type": "code",
   "execution_count": 71,
   "metadata": {
    "collapsed": false
   },
   "outputs": [
    {
     "name": "stdout",
     "output_type": "stream",
     "text": [
      "1/4493775893684088200000*(898755178736817640000*k_z^2*cos(x) - 1.97392088021787e24*cos(x))/(x*sin(x))\n"
     ]
    }
   ],
   "source": [
    "print (even_disp_eq_s_d.rhs().subs(a * kappa == x).subs(kappa == x))"
   ]
  },
  {
   "cell_type": "code",
   "execution_count": 72,
   "metadata": {
    "collapsed": false
   },
   "outputs": [
    {
     "name": "stdout",
     "output_type": "stream",
     "text": [
      "r = sqrt(epsilon*mu - 1)*omega/c\n",
      "r = 41.9169004390336\n"
     ]
    }
   ],
   "source": [
    "r = omega / c * sqrt(epsilon * mu - 1)\n",
    "print (\"r =\", r)\n",
    "\n",
    "r = r.subs(digit_values)\n",
    "print (\"r =\", r)"
   ]
  },
  {
   "cell_type": "code",
   "execution_count": 73,
   "metadata": {
    "collapsed": false
   },
   "outputs": [
    {
     "data": {
      "text/plain": [
       "-439.056635603965*cos(x)/(x*sin(x))"
      ]
     },
     "execution_count": 73,
     "metadata": {
     },
     "output_type": "execute_result"
    }
   ],
   "source": [
    "even_disp_eq_fa = lambda x : even_disp_eq_s_d.rhs().subs(a == 1).subs(kappa == x).subs(k_z == 1, k_x == 1)\n",
    "even_disp_eq_fa(x)"
   ]
  },
  {
   "cell_type": "code",
   "execution_count": 74,
   "metadata": {
    "collapsed": false
   },
   "outputs": [
    {
     "name": "stdout",
     "output_type": "stream",
     "text": [
      "verbose 0 (3839: plot.py, generate_plot_points) WARNING: When plotting, failed to evaluate function at 159 points.\n"
     ]
    },
    {
     "name": "stdout",
     "output_type": "stream",
     "text": [
      "verbose 0 (3839: plot.py, generate_plot_points) Last error message: 'Unable to compute f(20.420352248333657)'\n"
     ]
    },
    {
     "data": {
      "image/png": "[encoded data removed]",
      "text/plain": [
       "Graphics object consisting of 2 graphics primitives"
      ]
     },
     "execution_count": 74,
     "metadata": {
     },
     "output_type": "execute_result"
    }
   ],
   "source": [
    "p = plot([even_disp_eq_fa(x).real(), sqrt((r * A)^2 - x^2)], (x, 0, kappa_A_max), ymin = 0, ymax = s_A_max)\n",
    "p.show()"
   ]
  },
  {
   "cell_type": "code",
   "execution_count": 75,
   "metadata": {
    "collapsed": false
   },
   "outputs": [
    {
     "data": {
      "image/png": "[encoded data removed]",
      "text/plain": [
       "Graphics object consisting of 1 graphics primitive"
      ]
     },
     "execution_count": 75,
     "metadata": {
     },
     "output_type": "execute_result"
    }
   ],
   "source": [
    "p = plot([even_disp_eq_fa(x).imag()], (x, 0, kappa_A_max))\n",
    "p.show()"
   ]
  },
  {
   "cell_type": "code",
   "execution_count": 76,
   "metadata": {
    "collapsed": false
   },
   "outputs": [
    {
     "data": {
      "text/plain": [
       "-439.056635603965*cos(0.100000000000000*x)/(x*sin(0.100000000000000*x))"
      ]
     },
     "execution_count": 76,
     "metadata": {
     },
     "output_type": "execute_result"
    }
   ],
   "source": [
    "even_disp_eq_f = lambda x : even_disp_eq_s_d.rhs().subs(kappa == x).subs(a == A).subs(k_z == 1, k_x == 1)\n",
    "even_disp_eq_f(x)"
   ]
  },
  {
   "cell_type": "code",
   "execution_count": 77,
   "metadata": {
    "collapsed": false
   },
   "outputs": [
    {
     "name": "stdout",
     "output_type": "stream",
     "text": [
      "verbose 0 (3839: plot.py, generate_plot_points) WARNING: When plotting, failed to evaluate function at 159 points.\n"
     ]
    },
    {
     "name": "stdout",
     "output_type": "stream",
     "text": [
      "verbose 0 (3839: plot.py, generate_plot_points) Last error message: 'Unable to compute f(204.20352248333657)'\n"
     ]
    },
    {
     "data": {
      "image/png": "[encoded data removed]",
      "text/plain": [
       "Graphics object consisting of 2 graphics primitives"
      ]
     },
     "execution_count": 77,
     "metadata": {
     },
     "output_type": "execute_result"
    }
   ],
   "source": [
    "p = plot([even_disp_eq_f(x).real(), sqrt((r)^2 - x^2)], (x, 0, kappa_A_max / A), ymin = 0, ymax = s_A_max / A)\n",
    "p.show()"
   ]
  },
  {
   "cell_type": "code",
   "execution_count": 78,
   "metadata": {
    "collapsed": false,
    "scrolled": true
   },
   "outputs": [
    {
     "name": "stdout",
     "output_type": "stream",
     "text": [
      "even_f(x) = -sqrt(-x^2 + 1757.02654241586) - 439.056635603965*cos(0.100000000000000*x)/(x*sin(0.100000000000000*x))\n"
     ]
    },
    {
     "name": "stdout",
     "output_type": "stream",
     "text": [
      "verbose 0 (3839: plot.py, generate_plot_points) WARNING: When plotting, failed to evaluate function at 158 points.\n"
     ]
    },
    {
     "name": "stdout",
     "output_type": "stream",
     "text": [
      "verbose 0 (3839: plot.py, generate_plot_points) Last error message: 'unable to simplify to float approximation'\n"
     ]
    },
    {
     "data": {
      "image/png": "[encoded data removed]",
      "text/plain": [
       "Graphics object consisting of 1 graphics primitive"
      ]
     },
     "execution_count": 78,
     "metadata": {
     },
     "output_type": "execute_result"
    }
   ],
   "source": [
    "even_f = lambda x : even_disp_eq_f(x).real() - sqrt((r)^2 - x^2)\n",
    "print (\"even_f(x) =\",even_f(x))\n",
    "p = plot(even_f, (0, kappa_A_max / A), ymin = - s_A_max / A, ymax = s_A_max / A)\n",
    "p.show()"
   ]
  },
  {
   "cell_type": "code",
   "execution_count": 79,
   "metadata": {
    "collapsed": false
   },
   "outputs": [
    {
     "name": "stdout",
     "output_type": "stream",
     "text": [
      "even_kappa_sol 26.70895036129112\n"
     ]
    }
   ],
   "source": [
    "even_kappa_sol = find_root(even_f(x) == 0, 0, 30)#pi/2/A)\n",
    "print(\"even_kappa_sol\", even_kappa_sol)"
   ]
  },
  {
   "cell_type": "code",
   "execution_count": 80,
   "metadata": {
    "collapsed": false
   },
   "outputs": [
    {
     "data": {
      "text/plain": [
       "0.453508148730746"
      ]
     },
     "execution_count": 80,
     "metadata": {
     },
     "output_type": "execute_result"
    }
   ],
   "source": [
    "sin(even_kappa_sol*A)"
   ]
  },
  {
   "cell_type": "code",
   "execution_count": 81,
   "metadata": {
    "collapsed": false
   },
   "outputs": [
    {
     "name": "stdout",
     "output_type": "stream",
     "text": [
      "even_kz_sol = [\n",
      "k_z == -sqrt(-c^2*kappa^2 + omega^2)/c,\n",
      "k_z == sqrt(-c^2*kappa^2 + omega^2)/c\n",
      "]\n"
     ]
    }
   ],
   "source": [
    "even_kz_sol = solve(eq_kappa_inner_vacuum, k_z)\n",
    "print(\"even_kz_sol =\", even_kz_sol)"
   ]
  },
  {
   "cell_type": "code",
   "execution_count": 82,
   "metadata": {
    "collapsed": false
   },
   "outputs": [
    {
     "name": "stdout",
     "output_type": "stream",
     "text": [
      "even_kz_sol = 16.5563097880521\n"
     ]
    }
   ],
   "source": [
    "even_kz_sol = abs(even_kz_sol[0].rhs()).subs(digit_values).subs(kappa == even_kappa_sol)\n",
    "print(\"even_kz_sol =\", even_kz_sol)"
   ]
  },
  {
   "cell_type": "code",
   "execution_count": 83,
   "metadata": {
    "collapsed": false
   },
   "outputs": [
    {
     "name": "stdout",
     "output_type": "stream",
     "text": [
      "even_s_sol = 1/4493775893684088200000*(898755178736817640000*k_z^2*cos(a*kappa) - 1.97392088021787e24*cos(a*kappa))/(kappa*sin(a*kappa))\n"
     ]
    }
   ],
   "source": [
    "even_s_sol = even_disp_eq_s_d.rhs()\n",
    "print(\"even_s_sol =\", even_s_sol)"
   ]
  },
  {
   "cell_type": "code",
   "execution_count": 84,
   "metadata": {
    "collapsed": false
   },
   "outputs": [
    {
     "name": "stdout",
     "output_type": "stream",
     "text": [
      "even_s_sol = (8.331664412137778e-24)*(898755178736817640000*k_z^2*cos(26.70895036129112*a) - 1.97392088021787e24*cos(26.70895036129112*a))/sin(26.70895036129112*a)\n"
     ]
    }
   ],
   "source": [
    "even_s_sol = even_s_sol.subs(kappa == even_kappa_sol)\n",
    "print(\"even_s_sol =\", even_s_sol)"
   ]
  },
  {
   "cell_type": "code",
   "execution_count": 85,
   "metadata": {
    "collapsed": false
   },
   "outputs": [
    {
     "name": "stdout",
     "output_type": "stream",
     "text": [
      "even_s_sol = 28.2866071137419\n"
     ]
    }
   ],
   "source": [
    "even_s_sol = even_s_sol.subs(a == A).subs(k_z == even_kz_sol)\n",
    "print(\"even_s_sol =\", even_s_sol)"
   ]
  },
  {
   "cell_type": "code",
   "execution_count": 86,
   "metadata": {
    "collapsed": false
   },
   "outputs": [
    {
     "data": {
      "text/plain": [
       "28.2866071137419"
      ]
     },
     "execution_count": 86,
     "metadata": {
     },
     "output_type": "execute_result"
    }
   ],
   "source": [
    "even_s_sol"
   ]
  },
  {
   "cell_type": "code",
   "execution_count": 87,
   "metadata": {
    "collapsed": false
   },
   "outputs": [
    {
     "name": "stdout",
     "output_type": "stream",
     "text": [
      "even_E_inner_vacuum_z_d (x) = sin(26.70895036129112*x)\n",
      "even_E_bad_conductor_z_d (x) = 0.453508148730747*e^(-28.2866071137419*x + 2.82866071137419)\n"
     ]
    }
   ],
   "source": [
    "even_E_inner_vacuum_z_d (x) = even_E_inner_vacuum_z (x).subs(B2_z == 1, kappa == even_kappa_sol)\n",
    "print (\"even_E_inner_vacuum_z_d (x) =\", even_E_inner_vacuum_z_d (x))\n",
    "even_E_bad_conductor_z_d (x) = even_E_bad_conductor_z (x).subs(A2_z == even_A).subs(B2_z == 1, s_x == even_s_sol, kappa == even_kappa_sol, k_z == even_kz_sol, k_x == 0, a == A).subs(digit_values)\n",
    "print (\"even_E_bad_conductor_z_d (x) =\", even_E_bad_conductor_z_d (x))"
   ]
  },
  {
   "cell_type": "code",
   "execution_count": 88,
   "metadata": {
    "collapsed": false,
    "scrolled": true
   },
   "outputs": [
    {
     "name": "stdout",
     "output_type": "stream",
     "text": [
      "even_E_inner_vacuum_x_d (x) = 0.6198787134685331*I*cos(26.70895036129112*x)\n",
      "even_E_bad_conductor_x_d (x) = -0.110493644730554*I*e^(-28.2866071137419*x + 2.82866071137419)\n"
     ]
    }
   ],
   "source": [
    "even_E_inner_vacuum_x_d (x) = even_E_inner_vacuum_x (x).subs(B2_z == 1, kappa == even_kappa_sol, k_z = even_kz_sol)\n",
    "print (\"even_E_inner_vacuum_x_d (x) =\", even_E_inner_vacuum_x_d (x))\n",
    "even_E_bad_conductor_x_d (x) = even_E_bad_conductor_x (x).subs(A2_z == even_A).subs(B2_z == 1, s_x == even_s_sol, kappa == even_kappa_sol, k_z == even_kz_sol, k_x == 0, a == A).subs(digit_values)\n",
    "print (\"even_E_bad_conductor_x_d (x) =\", even_E_bad_conductor_x_d (x))"
   ]
  },
  {
   "cell_type": "code",
   "execution_count": 89,
   "metadata": {
    "collapsed": false
   },
   "outputs": [
    {
     "name": "stdout",
     "output_type": "stream",
     "text": [
      "even_H_inner_vacuum_y_d (x) = 0.784697636410736*I*cos(26.70895036129112*x)\n",
      "even_H_bad_conductor_y_d (x) = -0.699363439771311*I*e^(-28.2866071137419*x + 2.82866071137419)\n"
     ]
    }
   ],
   "source": [
    "even_H_inner_vacuum_y_d (x) = even_H_inner_vacuum_y (x).subs(B2_z == 1, kappa == even_kappa_sol).subs(digit_values)\n",
    "print (\"even_H_inner_vacuum_y_d (x) =\", even_H_inner_vacuum_y_d (x))\n",
    "even_H_bad_conductor_y_d (x) = even_H_bad_conductor_y (x).subs(A2_z == even_A).subs(B2_z == 1, s_x == even_s_sol, kappa == even_kappa_sol, k_z == even_kz_sol, k_x == 0, a == A).subs(digit_values)\n",
    "print (\"even_H_bad_conductor_y_d (x) =\", even_H_bad_conductor_y_d (x))"
   ]
  },
  {
   "cell_type": "code",
   "execution_count": 90,
   "metadata": {
    "collapsed": false
   },
   "outputs": [
    {
     "data": {
      "image/png": "[encoded data removed]",
      "text/plain": [
       "Graphics object consisting of 2 graphics primitives"
      ]
     },
     "execution_count": 90,
     "metadata": {
     },
     "output_type": "execute_result"
    }
   ],
   "source": [
    "p = plot(even_E_inner_vacuum_z_d (x), (x, 0, A))\n",
    "p += plot(even_E_bad_conductor_z_d (x), (x, A, 3*A))\n",
    "p.show(title=\"График тангенциальной компоненты электрического поля\")"
   ]
  },
  {
   "cell_type": "code",
   "execution_count": 91,
   "metadata": {
    "collapsed": false
   },
   "outputs": [
    {
     "data": {
      "image/png": "[encoded data removed]",
      "text/plain": [
       "Graphics object consisting of 2 graphics primitives"
      ]
     },
     "execution_count": 91,
     "metadata": {
     },
     "output_type": "execute_result"
    }
   ],
   "source": [
    "p = plot(even_E_inner_vacuum_x_d (x).imag(), (x, 0, A))\n",
    "p += plot(even_E_bad_conductor_x_d (x).imag(), (x, A, 3*A))\n",
    "p.show(title=\"График нормальной компоненты электрического поля\")"
   ]
  },
  {
   "cell_type": "code",
   "execution_count": 92,
   "metadata": {
    "collapsed": false
   },
   "outputs": [
    {
     "data": {
      "image/png": "[encoded data removed]",
      "text/plain": [
       "Graphics object consisting of 2 graphics primitives"
      ]
     },
     "execution_count": 92,
     "metadata": {
     },
     "output_type": "execute_result"
    }
   ],
   "source": [
    "p = plot(even_E_inner_vacuum_x_d (x).imag(), (x, 0, A))\n",
    "p += plot(even_E_bad_conductor_x_d (x).imag()*epsilon.subs(digit_values), (x, A, 3*A))\n",
    "p.show(title=\"График нормальной компоненты электрического смещения\")"
   ]
  },
  {
   "cell_type": "code",
   "execution_count": 93,
   "metadata": {
    "collapsed": false
   },
   "outputs": [
    {
     "data": {
      "image/png": "[encoded data removed]",
      "text/plain": [
       "Graphics object consisting of 2 graphics primitives"
      ]
     },
     "execution_count": 93,
     "metadata": {
     },
     "output_type": "execute_result"
    }
   ],
   "source": [
    "p = plot(even_H_inner_vacuum_y_d (x).imag(), (x, 0, A))\n",
    "p += plot(even_H_bad_conductor_y_d (x).imag(), (x, A, 3*A))\n",
    "p.show(title=\"График тангенциальной компоненты напряженности магнитного поля H\")"
   ]
  },
  {
   "cell_type": "markdown",
   "metadata": {
    "collapsed": false
   },
   "source": [
    "Решение получено и соответствует приведенному в решебнике ответу.\n",
    "\n",
    "Теперь посчитаем:\n",
    "\n",
    "1) пондеромоторную силу, приложенную к идеальному проводнику\n",
    "\n",
    "2) пондеромоторную силу, приложенную к границе диэлектрика и вакуума\n"
   ]
  },
  {
   "cell_type": "code",
   "execution_count": 0,
   "metadata": {
    "collapsed": false
   },
   "outputs": [
   ],
   "source": [
   ]
  },
  {
   "cell_type": "markdown",
   "metadata": {
    "collapsed": false
   },
   "source": [
    "1) пондеромоторная сила, приложенная к идеальному проводнику"
   ]
  },
  {
   "cell_type": "code",
   "execution_count": 94,
   "metadata": {
    "collapsed": false
   },
   "outputs": [
    {
     "name": "stdout",
     "output_type": "stream",
     "text": [
      "f_superconductor = -1/16*abs(B2_z^2*omega^2/(c^2*kappa^2))/pi\n"
     ]
    }
   ],
   "source": [
    "# superconductor force\n",
    "# additional 1/2 arises as result of integration on period\n",
    "f_superconductor = - abs((even_H_inner_vacuum_y (0)^2) / (2*8*pi))\n",
    "print(\"f_superconductor =\", f_superconductor)"
   ]
  },
  {
   "cell_type": "code",
   "execution_count": 95,
   "metadata": {
    "collapsed": false
   },
   "outputs": [
    {
     "name": "stdout",
     "output_type": "stream",
     "text": [
      "f_superconductor_d = -0.0384843987867872/pi\n"
     ]
    }
   ],
   "source": [
    "f_superconductor_d = f_superconductor.subs(digit_values).subs(B2_z == 1, kappa == even_kappa_sol)\n",
    "print(\"f_superconductor_d =\", f_superconductor_d)"
   ]
  },
  {
   "cell_type": "markdown",
   "metadata": {
    "collapsed": false
   },
   "source": [
    "2) пондеромоторная сила, приложенная к плохому проводнику"
   ]
  },
  {
   "cell_type": "code",
   "execution_count": 96,
   "metadata": {
    "collapsed": false
   },
   "outputs": [
    {
     "name": "stdout",
     "output_type": "stream",
     "text": [
      "f_bad_conductor = 1/16*abs(B2_z^2*omega^2*cos(a*kappa)^2/(c^2*kappa^2))/pi\n"
     ]
    }
   ],
   "source": [
    "# bad conductor force\n",
    "# additional 1/2 arises as result of integration on period\n",
    "f_bad_conductor = abs((even_H_inner_vacuum_y (a)^2) / (2*8*pi))\n",
    "print(\"f_bad_conductor =\", f_bad_conductor)"
   ]
  },
  {
   "cell_type": "code",
   "execution_count": 97,
   "metadata": {
    "collapsed": false
   },
   "outputs": [
    {
     "name": "stdout",
     "output_type": "stream",
     "text": [
      "f_bad_conductor_d  = 0.0305693263055476/pi\n"
     ]
    }
   ],
   "source": [
    "f_bad_conductor_d  = f_bad_conductor .subs(digit_values).subs(B2_z == 1, kappa == even_kappa_sol, a == A)\n",
    "print(\"f_bad_conductor_d  =\", f_bad_conductor_d )"
   ]
  },
  {
   "cell_type": "code",
   "execution_count": 0,
   "metadata": {
    "collapsed": false
   },
   "outputs": [
   ],
   "source": [
   ]
  },
  {
   "cell_type": "code",
   "execution_count": 98,
   "metadata": {
    "collapsed": false
   },
   "outputs": [
    {
     "name": "stdout",
     "output_type": "stream",
     "text": [
      "p_bad_conductor = -1/16*B2_z^2*(epsilon - 1.00000000000000)*sin(a*kappa)^2/pi\n"
     ]
    }
   ],
   "source": [
    "# bad conductor force\n",
    "# additional 1/2 arises as result of integration on period\n",
    "p_bad_conductor = (1.0 - epsilon) *(even_E_inner_vacuum_z (a)^2) / (2*8*pi)\n",
    "print(\"p_bad_conductor =\", p_bad_conductor)"
   ]
  },
  {
   "cell_type": "code",
   "execution_count": 99,
   "metadata": {
    "collapsed": false
   },
   "outputs": [
    {
     "name": "stdout",
     "output_type": "stream",
     "text": [
      "p_bad_conductor_d  = -0.0514174102412972/pi\n"
     ]
    }
   ],
   "source": [
    "p_bad_conductor_d  = p_bad_conductor .subs(digit_values).subs(B2_z == 1, kappa == even_kappa_sol, a == A)\n",
    "print(\"p_bad_conductor_d  =\", p_bad_conductor_d )"
   ]
  },
  {
   "cell_type": "code",
   "execution_count": 0,
   "metadata": {
    "collapsed": false
   },
   "outputs": [
   ],
   "source": [
   ]
  },
  {
   "cell_type": "code",
   "execution_count": 100,
   "metadata": {
    "collapsed": false,
    "scrolled": true
   },
   "outputs": [
    {
     "name": "stdout",
     "output_type": "stream",
     "text": [
      "t_super_conductor = 1/16*(-1.00000000000000*k_z^2*imag_part(B2_z)^2/kappa^2 - 1.00000000000000*k_z^2*real_part(B2_z)^2/kappa^2)/pi\n"
     ]
    }
   ],
   "source": [
    "# super conductor tension\n",
    "# additional 1/2 arises as result of integration on period\n",
    "t_super_conductor = (0.0 - 1/1.) *(even_E_inner_vacuum_x (0).imag()^2 + even_E_inner_vacuum_x(0).real()^2) / (2*8*pi)\n",
    "print(\"t_super_conductor =\", t_super_conductor)"
   ]
  },
  {
   "cell_type": "code",
   "execution_count": 101,
   "metadata": {
    "collapsed": false
   },
   "outputs": [
    {
     "name": "stdout",
     "output_type": "stream",
     "text": [
      "t_super_conductor_d  = -0.0240156012132127/pi\n"
     ]
    }
   ],
   "source": [
    "t_super_conductor_d  = t_super_conductor .subs(digit_values).subs(B2_z == 1, kappa == even_kappa_sol, k_z == even_kz_sol, a == A)\n",
    "print(\"t_super_conductor_d  =\", t_super_conductor_d )"
   ]
  },
  {
   "cell_type": "code",
   "execution_count": 102,
   "metadata": {
    "collapsed": false
   },
   "outputs": [
    {
     "name": "stdout",
     "output_type": "stream",
     "text": [
      "t_bad_conductor = -1/16*(k_z^2*cos(a*kappa)^2*imag_part(B2_z)^2/kappa^2 + k_z^2*cos(a*kappa)^2*real_part(B2_z)^2/kappa^2)*(1/epsilon - 1.00000000000000)/pi\n"
     ]
    }
   ],
   "source": [
    "# bad conductor force\n",
    "# additional 1/2 arises as result of integration on period\n",
    "t_bad_conductor = (1.0/1.0 - 1/epsilon) *(even_E_inner_vacuum_x (a).imag()^2 + even_E_inner_vacuum_x(a).real()^2) / (2*8*pi)\n",
    "print(\"t_bad_conductor =\", t_bad_conductor)"
   ]
  },
  {
   "cell_type": "code",
   "execution_count": 103,
   "metadata": {
    "collapsed": false
   },
   "outputs": [
    {
     "name": "stdout",
     "output_type": "stream",
     "text": [
      "t_bad_conductor_d  = 0.0152610569073025/pi\n"
     ]
    }
   ],
   "source": [
    "t_bad_conductor_d  = t_bad_conductor .subs(digit_values).subs(B2_z == 1, kappa == even_kappa_sol, k_z == even_kz_sol, a == A)\n",
    "print(\"t_bad_conductor_d  =\", t_bad_conductor_d )"
   ]
  },
  {
   "cell_type": "code",
   "execution_count": 0,
   "metadata": {
    "collapsed": false
   },
   "outputs": [
   ],
   "source": [
   ]
  },
  {
   "cell_type": "markdown",
   "metadata": {
    "collapsed": false
   },
   "source": [
    "Результаты вычислений показывают, что тяга в волновом двигателе с внутренним расходом энергии Ф.Ф.Менде (MenDrive) ненулевая и равна"
   ]
  },
  {
   "cell_type": "code",
   "execution_count": 104,
   "metadata": {
    "collapsed": false
   },
   "outputs": [
    {
     "data": {
      "text/plain": [
       "-1/16*B2_z^2*omega^2*sin(a*kappa)^2/(pi*c^2*kappa^2)"
      ]
     },
     "execution_count": 104,
     "metadata": {
     },
     "output_type": "execute_result"
    }
   ],
   "source": [
    "(f_superconductor + f_bad_conductor).full_simplify()"
   ]
  },
  {
   "cell_type": "code",
   "execution_count": 105,
   "metadata": {
    "collapsed": false
   },
   "outputs": [
    {
     "data": {
      "text/plain": [
       "0.0347477934541473/pi"
      ]
     },
     "execution_count": 105,
     "metadata": {
     },
     "output_type": "execute_result"
    }
   ],
   "source": [
    "f_superconductor_d + f_bad_conductor_d + t_super_conductor_d + t_bad_conductor_d - p_bad_conductor_d"
   ]
  },
  {
   "cell_type": "code",
   "execution_count": 108,
   "metadata": {
    "collapsed": false
   },
   "outputs": [
    {
     "data": {
      "text/plain": [
       "-0.00791507248123968/pi"
      ]
     },
     "execution_count": 108,
     "metadata": {
     },
     "output_type": "execute_result"
    }
   ],
   "source": [
    "(f_superconductor_d + f_bad_conductor_d)"
   ]
  },
  {
   "cell_type": "code",
   "execution_count": 109,
   "metadata": {
    "collapsed": false
   },
   "outputs": [
    {
     "data": {
      "text/plain": [
       "-0.00875454430591024/pi"
      ]
     },
     "execution_count": 109,
     "metadata": {
     },
     "output_type": "execute_result"
    }
   ],
   "source": [
    "(t_super_conductor_d + t_bad_conductor_d)"
   ]
  },
  {
   "cell_type": "code",
   "execution_count": 111,
   "metadata": {
    "collapsed": false
   },
   "outputs": [
    {
     "data": {
      "text/plain": [
       "0.0514174102412972/pi"
      ]
     },
     "execution_count": 111,
     "metadata": {
     },
     "output_type": "execute_result"
    }
   ],
   "source": [
    "-p_bad_conductor_d"
   ]
  },
  {
   "cell_type": "markdown",
   "metadata": {
    "collapsed": false
   },
   "source": [
    "положительный знак соответствует направлению тяги в сторону увеличения значений x"
   ]
  },
  {
   "cell_type": "code",
   "execution_count": 0,
   "metadata": {
    "collapsed": false
   },
   "outputs": [
   ],
   "source": [
   ]
  }
 ],
 "metadata": {
  "kernelspec": {
   "display_name": "SageMath 9.4",
   "language": "sagemath",
   "metadata": {
    "cocalc": {
     "description": "Open-source mathematical software system",
     "priority": 10,
     "url": "https://www.sagemath.org/"
    }
   },
   "name": "sage-9.4",
   "resource_dir": "/ext/jupyter/kernels/sage-9.4"
  },
  "language_info": {
   "codemirror_mode": {
    "name": "ipython",
    "version": 3
   },
   "file_extension": ".py",
   "mimetype": "text/x-python",
   "name": "python",
   "nbconvert_exporter": "python",
   "pygments_lexer": "ipython3",
   "version": "3.9.5"
  }
 },
 "nbformat": 4,
 "nbformat_minor": 4
}
