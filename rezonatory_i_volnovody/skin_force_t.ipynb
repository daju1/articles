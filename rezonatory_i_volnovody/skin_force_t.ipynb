{
 "cells": [
  {
   "cell_type": "markdown",
   "metadata": {},
   "source": [
    "Расчет силы действующей на проводник со стороны переменного магнитного поля\n",
    "\n",
    "А.Ю.Дроздов"
   ]
  },
  {
   "cell_type": "code",
   "execution_count": 1,
   "metadata": {},
   "outputs": [],
   "source": [
    "from IPython.display import display, Math, Latex"
   ]
  },
  {
   "cell_type": "code",
   "execution_count": 2,
   "metadata": {},
   "outputs": [],
   "source": [
    "mu = var('mu')\n",
    "assume(mu, 'real')\n",
    "assume(mu>0)\n",
    "\n",
    "epsilon = var('epsilon')\n",
    "assume(epsilon, 'real')\n",
    "assume(epsilon>0)\n",
    "\n",
    "s = var ('s')\n",
    "assume(s, 'real')\n",
    "assume(s>0)\n",
    "\n",
    "kappa = var ('kappa')\n",
    "assume(kappa, 'real')\n",
    "assume(kappa>0)\n",
    "\n",
    "k = var ('k')\n",
    "assume(k, 'real')\n",
    "\n",
    "a = var('a')\n",
    "assume(a, 'real')\n",
    "assume(a>0)\n",
    "\n",
    "x = var('x')\n",
    "y = var('y')\n",
    "z = var('z')\n",
    "t = var('t')\n",
    "\n",
    "assume(x, 'real')\n",
    "assume(y, 'real')\n",
    "assume(z, 'real')\n",
    "assume(t, 'real')\n",
    "\n",
    "c = var('c')\n",
    "assume(c, 'real')\n",
    "assume(c>0)\n",
    "\n",
    "omega = var('omega')\n",
    "assume(omega, 'real')\n",
    "assume(omega > 0)\n",
    "\n",
    "alpha = var('alpha')\n",
    "assume(alpha, 'real')\n",
    "\n",
    "sigma = var('sigma')\n",
    "assume(sigma, 'real')\n",
    "assume(sigma > 0)\n",
    "\n",
    "H_0 = var('H_0')\n",
    "assume(H_0, 'real')"
   ]
  },
  {
   "cell_type": "code",
   "execution_count": 3,
   "metadata": {},
   "outputs": [
    {
     "data": {
      "text/latex": [
       "$$\\frac{\\sqrt{2} c}{2 \\, \\sqrt{\\pi \\omega \\sigma}}$$"
      ],
      "text/plain": [
       "<IPython.core.display.Math object>"
      ]
     },
     "metadata": {},
     "output_type": "display_data"
    }
   ],
   "source": [
    "# глубина проникновения магнитного поля в проводник\n",
    "# Ландау Лифшиц. Электродинамика сплошных сред (59.4)\n",
    "delta = c / sqrt(2*pi*sigma*omega)\n",
    "display(Math(latex(delta)))"
   ]
  },
  {
   "cell_type": "code",
   "execution_count": 4,
   "metadata": {},
   "outputs": [
    {
     "data": {
      "text/latex": [
       "$$H_{0} e^{\\left(-i \\, \\omega t + \\frac{\\left(i - 1\\right) \\, \\sqrt{2} \\sqrt{\\pi} \\sqrt{\\omega} \\sqrt{\\sigma} x}{c}\\right)}$$"
      ],
      "text/plain": [
       "<IPython.core.display.Math object>"
      ]
     },
     "metadata": {},
     "output_type": "display_data"
    },
    {
     "data": {
      "text/latex": [
       "$$H_{0} \\cos\\left(-\\omega t + \\frac{\\sqrt{2} \\sqrt{\\pi} \\sqrt{\\omega} \\sqrt{\\sigma} x}{c}\\right) e^{\\left(-\\frac{\\sqrt{2} \\sqrt{\\pi} \\sqrt{\\omega} \\sqrt{\\sigma} x}{c}\\right)}$$"
      ],
      "text/plain": [
       "<IPython.core.display.Math object>"
      ]
     },
     "metadata": {},
     "output_type": "display_data"
    },
    {
     "data": {
      "text/latex": [
       "$$H_{0} \\cos\\left(-\\omega t + \\frac{\\sqrt{2} \\sqrt{\\pi} \\sqrt{\\omega} \\sqrt{\\sigma} x}{c}\\right) e^{\\left(-\\frac{\\sqrt{2} \\sqrt{\\pi \\omega \\sigma} x}{c}\\right)}$$"
      ],
      "text/plain": [
       "<IPython.core.display.Math object>"
      ]
     },
     "metadata": {},
     "output_type": "display_data"
    }
   ],
   "source": [
    "# магнитное поле в проводнике\n",
    "# Ландау Лифшиц. Электродинамика сплошных сред (59.3)\n",
    "H_y(x) = H_0 * exp(-x/delta) * exp(I*(x/delta - omega * t))\n",
    "display(Math(latex(H_y(x))))\n",
    "re_H_y(x) = H_y(x).real_part()\n",
    "display(Math(latex(re_H_y(x))))\n",
    "\n",
    "# Ландау Лифшиц. Электродинамика сплошных сред (59.6)\n",
    "re_H_y(x) = H_0 * exp(-x/delta) * cos(x/delta - omega * t)\n",
    "display(Math(latex(re_H_y(x))))"
   ]
  },
  {
   "cell_type": "code",
   "execution_count": 5,
   "metadata": {},
   "outputs": [
    {
     "data": {
      "text/latex": [
       "$$-\\left(\\frac{1}{2} i - \\frac{1}{2}\\right) \\, \\sqrt{\\frac{1}{2}} H_{0} \\sqrt{\\frac{\\omega}{\\pi \\sigma}} e^{\\left(-i \\, \\omega t + \\frac{\\left(i - 1\\right) \\, \\sqrt{2} \\sqrt{\\pi} \\sqrt{\\omega} \\sqrt{\\sigma} x}{c}\\right)}$$"
      ],
      "text/plain": [
       "<IPython.core.display.Math object>"
      ]
     },
     "metadata": {},
     "output_type": "display_data"
    },
    {
     "data": {
      "text/latex": [
       "$$\\frac{\\sqrt{2} H_{0} \\sqrt{\\omega} {\\left(\\cos\\left(-\\omega t + \\frac{\\sqrt{2} \\sqrt{\\pi} \\sqrt{\\omega} \\sqrt{\\sigma} x}{c}\\right) + \\sin\\left(-\\omega t + \\frac{\\sqrt{2} \\sqrt{\\pi} \\sqrt{\\omega} \\sqrt{\\sigma} x}{c}\\right)\\right)} e^{\\left(-\\frac{\\sqrt{2} \\sqrt{\\pi} \\sqrt{\\omega} \\sqrt{\\sigma} x}{c}\\right)}}{4 \\, \\sqrt{\\pi} \\sqrt{\\sigma}}$$"
      ],
      "text/plain": [
       "<IPython.core.display.Math object>"
      ]
     },
     "metadata": {},
     "output_type": "display_data"
    },
    {
     "data": {
      "text/latex": [
       "$$\\frac{1}{2} \\, H_{0} \\sqrt{\\frac{\\omega}{\\pi \\sigma}} \\cos\\left(-\\frac{1}{4} \\, \\pi - \\omega t + \\frac{\\sqrt{2} \\sqrt{\\pi} \\sqrt{\\omega} \\sqrt{\\sigma} x}{c}\\right) e^{\\left(-\\frac{\\sqrt{2} \\sqrt{\\pi \\omega \\sigma} x}{c}\\right)}$$"
      ],
      "text/plain": [
       "<IPython.core.display.Math object>"
      ]
     },
     "metadata": {},
     "output_type": "display_data"
    }
   ],
   "source": [
    "# электрическое поле в проводнике\n",
    "# Ландау Лифшиц. Электродинамика сплошных сред (59.5)\n",
    "E_z(x) = H_y(x) * sqrt(omega/(8*pi*sigma)) * (1-I)\n",
    "display(Math(latex(E_z(x))))\n",
    "re_E_z(x) = E_z(x).real_part()\n",
    "#display(Math(latex(re_E_z(x))))\n",
    "display(Math(latex(re_E_z(x).factor())))\n",
    "\n",
    "# Ландау Лифшиц. Электродинамика сплошных сред (59.6)\n",
    "re_E_z(x) = H_0 * sqrt(omega/(4*pi*sigma)) * exp(-x/delta) * cos(x/delta - omega * t - pi/4)\n",
    "display(Math(latex(re_E_z(x))))"
   ]
  },
  {
   "cell_type": "code",
   "execution_count": 6,
   "metadata": {},
   "outputs": [
    {
     "data": {
      "text/latex": [
       "$$\\frac{1}{2} \\, H_{0} \\sigma \\sqrt{\\frac{\\omega}{\\pi \\sigma}} \\cos\\left(-\\frac{1}{4} \\, \\pi - \\omega t + \\frac{\\sqrt{2} \\sqrt{\\pi} \\sqrt{\\omega} \\sqrt{\\sigma} x}{c}\\right) e^{\\left(-\\frac{\\sqrt{2} \\sqrt{\\pi \\omega \\sigma} x}{c}\\right)}$$"
      ],
      "text/plain": [
       "<IPython.core.display.Math object>"
      ]
     },
     "metadata": {},
     "output_type": "display_data"
    }
   ],
   "source": [
    "# ток проводимости вызванный электрическим полем\n",
    "# Ландау Лифшиц. Электродинамика сплошных сред (58.4)\n",
    "j_z(x) = sigma * re_E_z(x)\n",
    "display(Math(latex(j_z(x))))"
   ]
  },
  {
   "cell_type": "code",
   "execution_count": 7,
   "metadata": {},
   "outputs": [
    {
     "name": "stdout",
     "output_type": "stream",
     "text": [
      "f_x = 1/2*H_0^2*sigma*sqrt(omega/(pi*sigma))*cos(-1/4*pi - omega*t + sqrt(2)*sqrt(pi)*sqrt(omega)*sqrt(sigma)*x/c)*cos(-omega*t + sqrt(2)*sqrt(pi)*sqrt(omega)*sqrt(sigma)*x/c)*e^(-2*sqrt(2)*sqrt(pi*omega*sigma)*x/c)/c\n"
     ]
    },
    {
     "data": {
      "text/latex": [
       "$$\\frac{H_{0}^{2} \\sigma \\sqrt{\\frac{\\omega}{\\pi \\sigma}} \\cos\\left(-\\frac{1}{4} \\, \\pi - \\omega t + \\frac{\\sqrt{2} \\sqrt{\\pi} \\sqrt{\\omega} \\sqrt{\\sigma} x}{c}\\right) \\cos\\left(-\\omega t + \\frac{\\sqrt{2} \\sqrt{\\pi} \\sqrt{\\omega} \\sqrt{\\sigma} x}{c}\\right) e^{\\left(-\\frac{2 \\, \\sqrt{2} \\sqrt{\\pi \\omega \\sigma} x}{c}\\right)}}{2 \\, c}$$"
      ],
      "text/plain": [
       "<IPython.core.display.Math object>"
      ]
     },
     "metadata": {},
     "output_type": "display_data"
    }
   ],
   "source": [
    "# сила действующая на ток проводимости со стороны магнитного поля\n",
    "f_x(x) = 1 / c * j_z(x) * re_H_y(x)\n",
    "print(\"f_x =\", f_x(x))\n",
    "display(Math(latex(f_x(x))))"
   ]
  },
  {
   "cell_type": "code",
   "execution_count": 8,
   "metadata": {},
   "outputs": [],
   "source": [
    "# интегрируем по глубине\n",
    "int_f_x(x) = integrate(f_x(x), x)"
   ]
  },
  {
   "cell_type": "code",
   "execution_count": 12,
   "metadata": {},
   "outputs": [
    {
     "data": {
      "text/plain": [
       "-1/32*(2*c*e^(-2*sqrt(2)*sqrt(pi*omega*sigma)*x/c)/sqrt(pi*omega*sigma) - (sqrt(2)*sqrt(pi)*sqrt(omega)*sqrt(sigma)*sin(-1/4*pi - 2*omega*t + 2*sqrt(2)*sqrt(pi)*sqrt(omega)*sqrt(sigma)*x/c)/c - sqrt(2)*sqrt(pi*omega*sigma)*cos(-1/4*pi - 2*omega*t + 2*sqrt(2)*sqrt(pi)*sqrt(omega)*sqrt(sigma)*x/c)/c)*c^2*e^(-2*sqrt(2)*sqrt(pi*omega*sigma)*x/c)/(pi*omega*sigma))*H_0^2*sigma*sqrt(omega/(pi*sigma))/c"
      ]
     },
     "execution_count": 12,
     "metadata": {},
     "output_type": "execute_result"
    }
   ],
   "source": [
    "int_f_x(x)"
   ]
  },
  {
   "cell_type": "code",
   "execution_count": 13,
   "metadata": {},
   "outputs": [
    {
     "data": {
      "text/latex": [
       "$$-\\frac{{\\left(\\frac{2 \\, c e^{\\left(-\\frac{2 \\, \\sqrt{2} \\sqrt{\\pi \\omega \\sigma} x}{c}\\right)}}{\\sqrt{\\pi \\omega \\sigma}} - \\frac{{\\left(\\frac{\\sqrt{2} \\sqrt{\\pi} \\sqrt{\\omega} \\sqrt{\\sigma} \\sin\\left(-\\frac{1}{4} \\, \\pi - 2 \\, \\omega t + \\frac{2 \\, \\sqrt{2} \\sqrt{\\pi} \\sqrt{\\omega} \\sqrt{\\sigma} x}{c}\\right)}{c} - \\frac{\\sqrt{2} \\sqrt{\\pi \\omega \\sigma} \\cos\\left(-\\frac{1}{4} \\, \\pi - 2 \\, \\omega t + \\frac{2 \\, \\sqrt{2} \\sqrt{\\pi} \\sqrt{\\omega} \\sqrt{\\sigma} x}{c}\\right)}{c}\\right)} c^{2} e^{\\left(-\\frac{2 \\, \\sqrt{2} \\sqrt{\\pi \\omega \\sigma} x}{c}\\right)}}{\\pi \\omega \\sigma}\\right)} H_{0}^{2} \\sigma \\sqrt{\\frac{\\omega}{\\pi \\sigma}}}{32 \\, c}$$"
      ],
      "text/plain": [
       "<IPython.core.display.Math object>"
      ]
     },
     "metadata": {},
     "output_type": "display_data"
    }
   ],
   "source": [
    "display(Math(latex(int_f_x(x))))"
   ]
  },
  {
   "cell_type": "code",
   "execution_count": 14,
   "metadata": {},
   "outputs": [],
   "source": [
    "# силы действующей на проводник со стороны переменного магнитного поля\n",
    "F(x) = -int_f_x(0)"
   ]
  },
  {
   "cell_type": "code",
   "execution_count": 20,
   "metadata": {},
   "outputs": [
    {
     "data": {
      "text/plain": [
       "1/8*H_0^2*cos(omega*t)^2/pi"
      ]
     },
     "execution_count": 20,
     "metadata": {},
     "output_type": "execute_result"
    }
   ],
   "source": [
    "# силы действующей на проводник со стороны переменного магнитного поля\n",
    "F(x) = F(x).full_simplify().expand()\n",
    "F(x)"
   ]
  },
  {
   "cell_type": "code",
   "execution_count": 21,
   "metadata": {},
   "outputs": [
    {
     "data": {
      "text/latex": [
       "$$\\frac{H_{0}^{2} \\cos\\left(\\omega t\\right)^{2}}{8 \\, \\pi}$$"
      ],
      "text/plain": [
       "<IPython.core.display.Math object>"
      ]
     },
     "metadata": {},
     "output_type": "display_data"
    }
   ],
   "source": [
    "display(Math(latex(F(x))))"
   ]
  },
  {
   "cell_type": "markdown",
   "metadata": {},
   "source": [
    "ожидавшийся результат \n",
    "$$\\frac{H_{e}^{2}}{8 \\, \\pi}$$"
   ]
  },
  {
   "cell_type": "code",
   "execution_count": null,
   "metadata": {},
   "outputs": [],
   "source": []
  }
 ],
 "metadata": {
  "kernelspec": {
   "display_name": "SageMath 9.1",
   "language": "sage",
   "name": "sagemath"
  },
  "language_info": {
   "codemirror_mode": {
    "name": "ipython",
    "version": 3
   },
   "file_extension": ".py",
   "mimetype": "text/x-python",
   "name": "python",
   "nbconvert_exporter": "python",
   "pygments_lexer": "ipython3",
   "version": "3.7.9"
  }
 },
 "nbformat": 4,
 "nbformat_minor": 2
}
